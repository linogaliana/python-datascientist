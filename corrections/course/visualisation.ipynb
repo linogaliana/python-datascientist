{
  "cells": [
    {
      "cell_type": "markdown",
      "metadata": {},
      "source": [
        "# Partie 2: visualiser les données\n",
        "\n",
        "L’écosystème `Python` pour la valrisation de données est très riche. Il est\n",
        "possible de consacrer des livres entiers à celui-ci.\n",
        "Dans le domaine de la visualisation, le parti pris est d’explorer quelques\n",
        "librairies centrales à partir d’un nombre restreint d’exemples en\n",
        "répliquant des graphiques qu’on peut trouver sur le site d’*open data* de la\n",
        "mairie de Paris.\n",
        "\n",
        "Seront principalement évoqués, dans la première partie :\n",
        "\n",
        "-   la représentation graphique fixe avec les librairies `matplotlib` et `seaborn`\n",
        "-   les graphiques réactifs avec `plotly`\n",
        "-   les cartes fixes avec `geopandas` ou `geoplot`\n",
        "-   les cartes réactives avec `folium`\n",
        "\n",
        "Des éléments supplémentaires pour produire de belles\n",
        "valorisations de données seront progressivement\n",
        "ajoutés à cette partie, notamment `observableHQ`.\n",
        "\n",
        "{{< list_children >}}"
      ],
<<<<<<< HEAD
      "id": "024268d3-6545-4623-b68d-03b81b64b2a4"
=======
      "id": "c55a79c1-010d-4141-92d0-10ed47ed4ecd"
>>>>>>> 621b6376796f080a0ce668e88a604d688ddc15d9
    }
  ],
  "nbformat": 4,
  "nbformat_minor": 5,
  "metadata": {
    "kernelspec": {
      "display_name": "Python 3",
      "language": "python",
      "name": "python3"
    }
  }
}