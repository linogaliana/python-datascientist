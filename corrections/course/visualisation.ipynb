{
  "cells": [
    {
      "cell_type": "markdown",
      "metadata": {},
      "source": [
        "# Partie 2: visualiser les données\n",
        "\n",
        "L’écosystème `Python` pour la visualisation de données est très riche. Il est\n",
        "possible de consacrer des livres entiers à celui-ci.\n",
        "Dans le domaine de la visualisation, le parti pris est d’explorer quelques\n",
        "librairies centrales à partir d’un nombre restreint d’exemples en\n",
        "répliquant des graphiques qu’on peut trouver sur le site d’*open data* de la\n",
        "mairie de Paris.\n",
        "\n",
        "Seront principalement évoqués, dans la première partie :\n",
        "\n",
        "-   la représentation graphique fixe avec les librairies `matplotlib` et `seaborn`\n",
        "-   les graphiques réactifs avec `plotly`\n",
        "\n",
        "{{< list_children >}}"
      ],
      "id": "f653d550-a35a-4ed1-92a9-b4c2c3b5c2b4"
    }
  ],
  "nbformat": 4,
  "nbformat_minor": 5,
  "metadata": {
    "kernelspec": {
      "display_name": "Python 3",
      "language": "python",
      "name": "python3"
    }
  }
}