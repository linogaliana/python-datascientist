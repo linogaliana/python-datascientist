{
  "cells": [
    {
      "cell_type": "raw",
      "metadata": {},
      "source": [
        "---\n",
        "title: \"De belles cartes avec python: mise en pratique\"\n",
        "date: 2020-10-06T13:00:00Z\n",
        "draft: false\n",
        "weight: 20\n",
        "slug: cartoTP\n",
        "type: book\n",
        "tags:\n",
        "  - Visualisation\n",
        "  - geopandas\n",
        "  - cartes\n",
        "  - Cartographie\n",
        "  - Exercice\n",
        "categories:\n",
        "  - Visualisation\n",
        "  - Exercice\n",
        "summary: |\n",
        "  La cartographie est un excellent moyen de diffuser\n",
        "  une connaissance, y compris à des publics peu\n",
        "  familiers de la statistique. Ce chapitre permet\n",
        "  de découvrir la manière dont on peut\n",
        "  utiliser `Python` pour construire des \n",
        "  cartes standards (avec `geopandas`) ou \n",
        "  réactives (`folium`). Cela se fera\n",
        "  à travers un exercice permettant\n",
        "  de visualiser la fréquentation par les\n",
        "  vélos des routes parisiennes.\n",
        "---"
      ],
      "id": "45ee4423"
    },
    {
      "cell_type": "markdown",
      "metadata": {},
      "source": [
        "::: {.cell .markdown}"
      ],
      "id": "c8ef2c40"
    },
    {
      "cell_type": "code",
      "metadata": {},
      "source": [
        "#| echo: false\n",
        "#| output: 'asis'\n",
        "#| include: true\n",
        "#| eval: true\n",
        "\n",
        "import sys\n",
        "sys.path.insert(1, '../../../../') #insert the utils module\n",
        "from utils import print_badges\n",
        "\n",
        "#print_badges(__file__)\n",
        "print_badges(\"content/course/visualisation/maps.qmd\")"
      ],
      "id": "9a187edd",
      "execution_count": null,
      "outputs": []
    },
    {
      "cell_type": "markdown",
      "metadata": {},
      "source": [
        ":::\n",
        "\n",
        "\n",
        "\n",
        "La pratique de la cartographie se fera, dans ce cours, en répliquant des cartes qu'on peut trouver sur\n",
        "la page de l'*open-data* de la ville de Paris \n",
        "[ici](https://opendata.paris.fr/explore/dataset/comptage-velo-donnees-compteurs/information/?disjunctive.id_compteur&disjunctive.nom_compteur&disjunctive.id&disjunctive.name).\n",
        "\n",
        "::: {.cell .markdown}\n",
        "\n",
        "```{=html}\n",
        "<div class=\"alert alert-info\" role=\"alert\" style=\"color: rgba(0,0,0,.8); background-color: white; margin-top: 1em; margin-bottom: 1em; margin:1.5625emauto; padding:0 .6rem .8rem!important;overflow:hidden; page-break-inside:avoid; border-radius:.25rem; box-shadow:0 .2rem .5rem rgba(0,0,0,.05),0 0 .05rem rgba(0,0,0,.1); transition:color .25s,background-color .25s,border-color .25s ; border-right: 1px solid #dee2e6 ; border-top: 1px solid #dee2e6 ; border-bottom: 1px solid #dee2e6 ; border-left:.2rem solid #007bff80;\">\n",
        "<h3 class=\"alert-heading\"><i class=\"fa fa-comment\"></i> Note</h3>\n",
        "```\n",
        "\n",
        "\n",
        "Produire de belles cartes demande du temps mais aussi du bon sens. En fonction de la structure des données, certaines représentations sont à éviter voire à exclure. L'excellent guide [disponible ici](https://juliedjidji.github.io/memocarto/semio.html) propose quelques règles et évoque les erreurs à éviter lorsqu'on désire effectuer des\n",
        "représentations spatiales. \n",
        "Celui-ci reprend un [guide de sémiologie cartographique](https://www.insee.fr/fr/statistiques/3640429)\n",
        "produit par l'Insee qui propose de nombreux conseils pratiques pour produire des représentations\n",
        "cartographiques sensées. \n",
        "\n",
        "\n",
        "```{=html}\n",
        "</div>\n",
        "```\n",
        "\n",
        ":::\n",
        "\n",
        "\n",
        "\n",
        "Ce TP vise à initier:\n",
        "\n",
        "* Au module graphique de [geopandas](https://geopandas.org/mapping.html) ainsi qu'aux packages [geoplot](https://residentmario.github.io/geoplot/index.html) et\n",
        "[contextily](https://contextily.readthedocs.io/en/latest/intro_guide.html) pour la construction de cartes figées. `geoplot` est construit sur `seaborn` et constitue ainsi une extension des graphiques de base.\n",
        "* Au package [folium](https://python-visualization.github.io/folium/) qui est un point d'accès vers la librairie JavaScript [leaflet](https://leafletjs.com/) permettant de produire des cartes interactives\n",
        "\n",
        "\n",
        "Les données utilisées sont :\n",
        "\n",
        "* Un sous-ensemble des données de [paris open data](https://opendata.paris.fr/explore/dataset/comptage-velo-donnees-compteurs/information/?disjunctive.id_compteur&disjunctive.nom_compteur&disjunctive.id&disjunctive.name) a été mis à disposition\n",
        "sur {{< githubrepo >}} pour faciliter l'import (élimination des colonnes\n",
        "qui ne nous servirons pas mais ralentissent l'import)\n",
        "* [La localisation précise des stations](https://parisdata.opendatasoft.com/explore/dataset/comptage-velo-compteurs/download/?format=geojson&timezone=Europe/Berlin&lang=fr)\n",
        "* [Arrondissements parisiens](https://opendata.paris.fr/explore/dataset/arrondissements/download/?format=geojson&timezone=Europe/Berlin&lang=fr)\n",
        "\n",
        "::: {.cell .markdown}\n",
        "\n",
        "```{=html}\n",
        "<div class=\"alert alert-danger\" role=\"alert\" style=\"color: rgba(0,0,0,.8); background-color: white; margin-top: 1em; margin-bottom: 1em; margin:1.5625emauto; padding:0 .6rem .8rem!important;overflow:hidden; page-break-inside:avoid; border-radius:.25rem; box-shadow:0 .2rem .5rem rgba(0,0,0,.05),0 0 .05rem rgba(0,0,0,.1); transition:color .25s,background-color .25s,border-color .25s ; border-right: 1px solid #dee2e6 ; border-top: 1px solid #dee2e6 ; border-bottom: 1px solid #dee2e6 ; border-left: .2rem solid #ff0039;\">\n",
        "<h3 class=\"alert-heading\"><i class=\"fa fa-exclamation-triangle\"></i> Attention</h3>\n",
        "```\n",
        "\n",
        "\n",
        "Certaines librairies géographiques dépendent de `rtree` qui est parfois difficile à installer car\n",
        "ce _package_ dépend de librairies compilées qui sont compliquées à installer sur `Windows`. \n",
        "Pour installer `rtree` sur `Windows`, le mieux est d'utiliser `Anaconda`.\n",
        "\n",
        "\n",
        "```{=html}\n",
        "</div>\n",
        "```\n",
        "\n",
        ":::\n",
        "\n",
        "Avant de pouvoir commencer, il est nécessaire d'installer quelques \n",
        "packages au préalable:\n"
      ],
      "id": "d9eecfdc"
    },
    {
      "cell_type": "code",
      "metadata": {},
      "source": [
        "#| eval: false\n",
        "#| echo: true\n",
        "\n",
        "# Installation rtree via Anaconda sur windows\n",
        "# !conda install rtree --yes\n",
        "\n",
        "# Sur colab\n",
        "!pip install pandas fiona shapely pyproj rtree # à faire obligatoirement en premier pour utiliser rtree ou pygeos pour les jointures spatiales\n",
        "!pip install contextily\n",
        "!pip install geopandas\n",
        "!pip install geoplot"
      ],
      "id": "f545cd1a",
      "execution_count": null,
      "outputs": []
    },
    {
      "cell_type": "markdown",
      "metadata": {},
      "source": [
        "Dans la première partie, nous allons utiliser les packages suivants:\n"
      ],
      "id": "76692a08"
    },
    {
      "cell_type": "code",
      "metadata": {},
      "source": [
        "import pandas as pd\n",
        "import geopandas as gpd\n",
        "import contextily as ctx\n",
        "import geoplot\n",
        "import matplotlib.pyplot as plt\n",
        "import folium"
      ],
      "id": "663a0449",
      "execution_count": null,
      "outputs": []
    },
    {
      "cell_type": "markdown",
      "metadata": {},
      "source": [
        "## Première carte avec l'API `matplotlib` de `geopandas`\n",
        "\n",
        "\n",
        "::: {.cell .markdown}\n",
        "\n",
        "```{=html}\n",
        "<div class=\"alert alert-success\" role=\"alert\" style=\"color: rgba(0,0,0,.8); background-color: white; margin-top: 1em; margin-bottom: 1em; margin:1.5625emauto; padding:0 .6rem .8rem!important;overflow:hidden; page-break-inside:avoid; border-radius:.25rem; box-shadow:0 .2rem .5rem rgba(0,0,0,.05),0 0 .05rem rgba(0,0,0,.1); transition:color .25s,background-color .25s,border-color .25s ; border-right: 1px solid #dee2e6 ; border-top: 1px solid #dee2e6 ; border-bottom: 1px solid #dee2e6 ; border-left:.2rem solid #3fb618;\">\n",
        "<h3 class=\"alert-heading\"><i class=\"fa fa-pencil\"></i> Exercice 1: Importer les données</h3>\n",
        "```\n",
        "\n",
        "Importer les données de compteurs de vélos en deux temps.\n",
        "\n",
        "1. D'abord, les comptages peuvent être trouvés à l'adresse <https://github.com/linogaliana/python-datascientist/raw/master/data/bike.csv>. :warning: Il s'agit de données\n",
        "compressées au format `gzip`, il faut donc utiliser l'option `compression`. Nommer cet objet `comptages`.\n",
        "2. Importer les données de localisation des compteurs à partir de l'url <https://parisdata.opendatasoft.com/explore/dataset/comptage-velo-compteurs/download/?format=geojson&timezone=Europe/Berlin&lang=fr>. Nommer cet objet `compteurs`.\n",
        "3. Faire attention à deux valeurs aberrantes. Utiliser\n",
        "la fonctionalité `str.contains` pour exclure les\n",
        "observations contenant _\"Bike IN\"_ ou _\"Bike OUT\"_\n",
        "dans la variable \n",
        "`nom_compteur`\n",
        "3. On va également utiliser les données d'arrondissements de la ville de Paris. Importer ces données depuis <https://opendata.paris.fr/explore/dataset/arrondissements/download/?format=geojson&timezone=Europe/Berlin&lang=fr>. Nommer cet objet `arrondissements`.\n",
        "4. Utiliser la méthode `plot` pour représenter les localisations des compteurs dans l'espace. C'est, on peut l'avouer, peu informatif sans apport extérieur. Il va donc falloir travailler un peu l'esthétique\n",
        "\n",
        "\n",
        "```{=html}\n",
        "</div>\n",
        "```\n",
        "\n",
        ":::\n"
      ],
      "id": "57565ff0"
    },
    {
      "cell_type": "code",
      "metadata": {
        "show": false
      },
      "source": [
        "#| include: false\n",
        "\n",
        "# 1. Chargement de \"comptages\"\n",
        "comptages = pd.read_csv('https://github.com/linogaliana/python-datascientist/raw/master/data/bike.csv', compression = 'gzip')\n",
        "#comptages.head()"
      ],
      "id": "7cc72ec1",
      "execution_count": null,
      "outputs": []
    },
    {
      "cell_type": "code",
      "metadata": {
        "show": false
      },
      "source": [
        "#| include: false\n",
        "\n",
        "#2. Chargement de \"compteurs\"\n",
        "compteurs = gpd.read_file(\"https://parisdata.opendatasoft.com/explore/dataset/comptage-velo-compteurs/download/?format=geojson&timezone=Europe/Berlin&lang=fr\")\n",
        "#compteurs.head()"
      ],
      "id": "5ae0a16e",
      "execution_count": null,
      "outputs": []
    },
    {
      "cell_type": "code",
      "metadata": {},
      "source": [
        "compteurs = compteurs.loc[~compteurs[\"nom_compteur\"].str.contains(r\"(Bike IN|Bike OUT)\")]"
      ],
      "id": "037c27c2",
      "execution_count": null,
      "outputs": []
    },
    {
      "cell_type": "code",
      "metadata": {
        "show": false
      },
      "source": [
        "#| include: false\n",
        "\n",
        "#3. Chargement de \"arrondissements\"\n",
        "arrondissements = gpd.read_file(\"https://opendata.paris.fr/explore/dataset/arrondissements/download/?format=geojson&timezone=Europe/Berlin&lang=fr\")\n",
        "# arrondissements.head()"
      ],
      "id": "71c5115f",
      "execution_count": null,
      "outputs": []
    },
    {
      "cell_type": "code",
      "metadata": {
        "show": false
      },
      "source": [
        "#| include: false\n",
        "\n",
        "# 4. Localisation des compteurs\n",
        "compteurs.plot()"
      ],
      "id": "f0d98bab",
      "execution_count": null,
      "outputs": []
    },
    {
      "cell_type": "markdown",
      "metadata": {},
      "source": [
        "::: {.cell .markdown}\n",
        "\n",
        "```{=html}\n",
        "<div class=\"alert alert-danger\" role=\"alert\" style=\"color: rgba(0,0,0,.8); background-color: white; margin-top: 1em; margin-bottom: 1em; margin:1.5625emauto; padding:0 .6rem .8rem!important;overflow:hidden; page-break-inside:avoid; border-radius:.25rem; box-shadow:0 .2rem .5rem rgba(0,0,0,.05),0 0 .05rem rgba(0,0,0,.1); transition:color .25s,background-color .25s,border-color .25s ; border-right: 1px solid #dee2e6 ; border-top: 1px solid #dee2e6 ; border-bottom: 1px solid #dee2e6 ; border-left: .2rem solid #ff0039;\">\n",
        "<h3 class=\"alert-heading\"><i class=\"fa fa-exclamation-triangle\"></i> Warning</h3>\n",
        "```\n",
        "\n",
        "On serait tenté de faire un *merge* de la base compteurs et comptages.\n",
        "En l'occurrence, il s'agirait d'un produit cartésien puisqu'il s'agit de faire exploser la base spatiale.\n",
        "Avec des données spatiales, c'est souvent une très mauvaise idée. Cela duplique les points, créant des difficultés à représenter les données mais aussi ralentit les calculs.\n",
        "Sauf à utiliser la méthode `dissolve` (qui va agréger *k* fois la même géométrie...), les géométries sont perdues lorsqu'on effectue des `groupby`.  \n",
        "\n",
        "```{=html}\n",
        "</div>\n",
        "```\n",
        "\n",
        ":::\n",
        "\n",
        "\n",
        "Maintenant, tout est prêt pour une première carte. `matplotlib` fonctionne selon\n",
        "le principe des couches. On va de la couche la plus lointaine à celle le plus\n",
        "en surface. L'exception est lorsqu'on ajoute un fond de carte `contextily` via\n",
        "`ctx.add_basemap`: on met cet appel en dernier. \n",
        "\n",
        "\n",
        "::: {.cell .markdown}\n",
        "\n",
        "```{=html}\n",
        "<div class=\"alert alert-success\" role=\"alert\" style=\"color: rgba(0,0,0,.8); background-color: white; margin-top: 1em; margin-bottom: 1em; margin:1.5625emauto; padding:0 .6rem .8rem!important;overflow:hidden; page-break-inside:avoid; border-radius:.25rem; box-shadow:0 .2rem .5rem rgba(0,0,0,.05),0 0 .05rem rgba(0,0,0,.1); transition:color .25s,background-color .25s,border-color .25s ; border-right: 1px solid #dee2e6 ; border-top: 1px solid #dee2e6 ; border-bottom: 1px solid #dee2e6 ; border-left:.2rem solid #3fb618;\">\n",
        "<h3 class=\"alert-heading\"><i class=\"fa fa-pencil\"></i> Exercice 2: Première carte</h3>\n",
        "```\n",
        "\n",
        "\n",
        "Représenter une carte des `compteurs` avec le fonds de carte des `arrondissements`\n",
        "\n",
        "  * Faire attention à avoir des arrondissements dont l'intérieur est transparent (argument à utiliser: `facecolor`).\n",
        "  * Faire des bordures d'arrondissements noires et affichez les compteurs en rouge.\n",
        "  * Pour obtenir un graphique plus grand, vous pouvez utiliser l'argument `figsize = (10,10)`.\n",
        "  * Pour les localisations, les points doivent être rouges en étant plus transparent au centre (argument à utiliser: `alpha`) \n",
        "\n",
        "\n",
        "```{=html}\n",
        "</div>\n",
        "```\n",
        "\n",
        ":::\n"
      ],
      "id": "c79084c3"
    },
    {
      "cell_type": "code",
      "metadata": {},
      "source": [
        "#| include: false\n",
        "#| echo: false\n",
        "\n",
        "# Carte des compteurs par arrondissement\n",
        "ax = arrondissements.plot(edgecolor = 'black', facecolor=\"none\", figsize = (10,10))\n",
        "compteurs.plot(ax = ax, alpha = 0.3, color = 'red')\n",
        "ax"
      ],
      "id": "ee875b46",
      "execution_count": null,
      "outputs": []
    },
    {
      "cell_type": "markdown",
      "metadata": {},
      "source": [
        "Vous devriez obtenir cette carte:\n"
      ],
      "id": "fe19dc91"
    },
    {
      "cell_type": "code",
      "metadata": {},
      "source": [
        "#| echo: false\n",
        "ax.get_figure()"
      ],
      "id": "abe1b689",
      "execution_count": null,
      "outputs": []
    },
    {
      "cell_type": "markdown",
      "metadata": {},
      "source": [
        "::: {.cell .markdown}\n",
        "\n",
        "```{=html}\n",
        "<div class=\"alert alert-success\" role=\"alert\" style=\"color: rgba(0,0,0,.8); background-color: white; margin-top: 1em; margin-bottom: 1em; margin:1.5625emauto; padding:0 .6rem .8rem!important;overflow:hidden; page-break-inside:avoid; border-radius:.25rem; box-shadow:0 .2rem .5rem rgba(0,0,0,.05),0 0 .05rem rgba(0,0,0,.1); transition:color .25s,background-color .25s,border-color .25s ; border-right: 1px solid #dee2e6 ; border-top: 1px solid #dee2e6 ; border-bottom: 1px solid #dee2e6 ; border-left:.2rem solid #3fb618;\">\n",
        "<h3 class=\"alert-heading\"><i class=\"fa fa-pencil\"></i> Exercice 3 : Ajouter un fonds de carte avec contextily</h3>\n",
        "```\n",
        "\n",
        "\n",
        "Repartir de la carte précédente.\n",
        "\n",
        "1. Utiliser `ctx.add_basemap` pour ajouter un fonds de carte. Pour ne pas afficher les axes, vous pouvez utiliser `ax.set_axis_off()`.\n",
        "\n",
        ":warning: *Par défaut, `contextily` désire un système de projection (crs) qui est le Web Mercator (epsg: 3857). Il faut changer la valeur de l'argument `crs`.*\n",
        "\n",
        ":warning: *Avec les versions anciennes des packages, il faut utiliser `.to_string` sur un objet CRS pour qu'il soit reconnu par `contextily`. Sur des versions récentes, la valeur numérique du code EPSG est suffisante.*\n",
        "\n",
        "2. Trouver un fonds de carte plus esthétique, qui permette de visualiser les grands axes, parmi ceux possibles. Pour tester l'esthétique, vous pouvez utiliser [cet url](http://leaflet-extras.github.io/leaflet-providers/preview/index.html). La documentation de référence sur les tuiles disponibles est [ici](https://contextily.readthedocs.io/en/latest/providers_deepdive.html) \n",
        "\n",
        "\n",
        "```{=html}\n",
        "</div>\n",
        "```\n",
        "\n",
        ":::\n"
      ],
      "id": "a38bbb61"
    },
    {
      "cell_type": "code",
      "metadata": {},
      "source": [
        "#| include: false\n",
        "#| echo: false\n",
        "\n",
        "# 1. Ajout d'un fond de carte sur la précédente carte\n",
        "ax = arrondissements.to_crs(\"EPSG:3857\").plot(edgecolor = 'black', facecolor=\"none\", figsize = (10,10))\n",
        "compteurs.to_crs(\"EPSG:3857\").plot(ax = ax, alpha = 0.3, color = 'red')\n",
        "ctx.add_basemap(ax, source = ctx.providers.Stamen.Watercolor)\n",
        "ax.set_axis_off()\n",
        "ax\n",
        "#plt.savefig(\"map_arr2.png\", bbox_inches='tight')"
      ],
      "id": "d1c20ca5",
      "execution_count": null,
      "outputs": []
    },
    {
      "cell_type": "code",
      "metadata": {},
      "source": [
        "ax.get_figure()"
      ],
      "id": "536d26b1",
      "execution_count": null,
      "outputs": []
    },
    {
      "cell_type": "code",
      "metadata": {},
      "source": [
        "#| include: false\n",
        "#| echo: false\n",
        "\n",
        "# 2. Choix d'un fond de carte plus approprié (visualisation des grands axes)\n",
        "ax = arrondissements.to_crs(\"EPSG:3857\").plot(edgecolor = 'black', facecolor=\"none\", figsize = (10,10))\n",
        "compteurs.to_crs(\"EPSG:3857\").plot(ax = ax, alpha = 0.3, color = 'red')\n",
        "ctx.add_basemap(ax, source=\"https://a.tile.openstreetmap.fr/hot/{z}/{x}/{y}.png\")\n",
        "ax.set_axis_off()\n",
        "ax"
      ],
      "id": "058f592f",
      "execution_count": null,
      "outputs": []
    },
    {
      "cell_type": "code",
      "metadata": {},
      "source": [
        "ax.get_figure()"
      ],
      "id": "63aa08b3",
      "execution_count": null,
      "outputs": []
    },
    {
      "cell_type": "code",
      "metadata": {},
      "source": [
        "#| output: hide\n",
        "ax.get_figure().savefig(\"featured.png\")"
      ],
      "id": "27fd7dee",
      "execution_count": null,
      "outputs": []
    },
    {
      "cell_type": "markdown",
      "metadata": {},
      "source": [
        "Le principe de la *heatmap* est de construire, à partir d'un nuage de point bidimensionnel, une distribution 2D lissée. La méthode repose sur les estimateurs à noyaux qui sont des méthodes de lissage local. \n",
        "\n",
        "\n",
        "::: {.cell .markdown}\n",
        "\n",
        "```{=html}\n",
        "<div class=\"alert alert-info\" role=\"alert\" style=\"color: rgba(0,0,0,.8); background-color: white; margin-top: 1em; margin-bottom: 1em; margin:1.5625emauto; padding:0 .6rem .8rem!important;overflow:hidden; page-break-inside:avoid; border-radius:.25rem; box-shadow:0 .2rem .5rem rgba(0,0,0,.05),0 0 .05rem rgba(0,0,0,.1); transition:color .25s,background-color .25s,border-color .25s ; border-right: 1px solid #dee2e6 ; border-top: 1px solid #dee2e6 ; border-bottom: 1px solid #dee2e6 ; border-left:.2rem solid #007bff80;\">\n",
        "<h3 class=\"alert-heading\"><i class=\"fa fa-comment\"></i> Exercice 3 : Ajouter un fonds de carte avec contextily</h3>\n",
        "```\n",
        "\n",
        "\n",
        "Pour le moment, la fonction  `geoplot.kdeplot` n'incorpore pas toutes les fonctionalités de `seaborn.kdeplot`. Pour être en mesure de construire une `heatmap` avec des données pondérées (cf. [cette issue dans le dépôt seaborn](https://github.com/mwaskom/seaborn/issues/1364)), il y a une astuce. Il faut simuler *k* points de valeur 1 autour de la localisation observée. La fonction ci-dessous, qui m'a été bien utile, est pratique\n"
      ],
      "id": "570d9a8b"
    },
    {
      "cell_type": "code",
      "metadata": {},
      "source": [
        "#| echo: true\n",
        "\n",
        "import numpy as np\n",
        "def expand_points(shapefile,\n",
        "                  index_var = \"grid_id\",\n",
        "                  weight_var = 'prop',\n",
        "                  radius_sd = 100,\n",
        "                  crs = 2154):\n",
        "    \"\"\"\n",
        "    Multiply number of points to be able to have a weighted heatmap\n",
        "    :param shapefile: Shapefile to consider\n",
        "    :param index_var: Variable name to set index\n",
        "    :param weight_var: Variable that should be used\n",
        "    :param radius_sd: Standard deviation for the radius of the jitter\n",
        "    :param crs: Projection system that should be used. Recommended option\n",
        "      is Lambert 93 because points will be jitterized using meters\n",
        "    :return:\n",
        "      A geopandas point object with as many points by index as weight\n",
        "    \"\"\"\n",
        "\n",
        "    shpcopy = shapefile\n",
        "    shpcopy = shpcopy.set_index(index_var)\n",
        "    shpcopy['npoints'] = np.ceil(shpcopy[weight_var])\n",
        "    shpcopy['geometry'] = shpcopy['geometry'].centroid\n",
        "    shpcopy['x'] = shpcopy.geometry.x\n",
        "    shpcopy['y'] = shpcopy.geometry.y\n",
        "    shpcopy = shpcopy.to_crs(crs)\n",
        "    shpcopy = shpcopy.loc[np.repeat(shpcopy.index.values, shpcopy.npoints)]\n",
        "    shpcopy['x'] = shpcopy['x'] + np.random.normal(0, radius_sd, shpcopy.shape[0])\n",
        "    shpcopy['y'] = shpcopy['y'] + np.random.normal(0, radius_sd, shpcopy.shape[0])\n",
        "\n",
        "    gdf = gpd.GeoDataFrame(\n",
        "        shpcopy,\n",
        "        geometry = gpd.points_from_xy(shpcopy.x, shpcopy.y),\n",
        "        crs = crs)\n",
        "\n",
        "    return gdf"
      ],
      "id": "c9423c41",
      "execution_count": null,
      "outputs": []
    },
    {
      "cell_type": "markdown",
      "metadata": {},
      "source": [
        "```{=html}\n",
        "</div>\n",
        "```\n",
        "\n",
        ":::\n",
        "\n",
        "\n",
        "\n",
        "::: {.cell .markdown}\n",
        "\n",
        "```{=html}\n",
        "<div class=\"alert alert-success\" role=\"alert\" style=\"color: rgba(0,0,0,.8); background-color: white; margin-top: 1em; margin-bottom: 1em; margin:1.5625emauto; padding:0 .6rem .8rem!important;overflow:hidden; page-break-inside:avoid; border-radius:.25rem; box-shadow:0 .2rem .5rem rgba(0,0,0,.05),0 0 .05rem rgba(0,0,0,.1); transition:color .25s,background-color .25s,border-color .25s ; border-right: 1px solid #dee2e6 ; border-top: 1px solid #dee2e6 ; border-bottom: 1px solid #dee2e6 ; border-left:.2rem solid #3fb618;\">\n",
        "<h3 class=\"alert-heading\"><i class=\"fa fa-pencil\"></i> Exercice 4 : Data cleaning avant de pouvoir faire une heatmap</h3>\n",
        "```\n",
        "\n",
        "\n",
        "1. Calculer le trafic moyen, pour chaque station, entre 7 heures et 10 heures (bornes incluses) et nommer cet objet `df1`. Faire la même chose, en nommant `df2`, pour le trafic entre 17 et 20 heures (bornes incluses)\n",
        "\n",
        "2. Nous allons désormais préparer les données de manière à faire une heatmap. Après avoir compris ce que permet de faire la fonction `expand_points` ci-dessus, créer une fonction `explode_data` qui suive les étapes suivantes. \n",
        "  + Convertir un DataFrame dans le système de projection Lambert 93 (epsg: 2154)\n",
        "  + Appliquer `expand_points` aux noms de variable adéquats. Vous pouvez fixer la valeur de `radius_sd` à `100`. \n",
        "  + Reconvertir l'output au format WGS84 (epsg: 4326)\n",
        "\n",
        "3. Appliquer cette fonction à `df1` et `df2`\n",
        "\n",
        "\n",
        "\n",
        "```{=html}\n",
        "</div>\n",
        "```\n",
        "\n",
        ":::\n"
      ],
      "id": "510c3329"
    },
    {
      "cell_type": "code",
      "metadata": {},
      "source": [
        "#| include: false\n",
        "#| echo: false\n",
        "\n",
        "#1. Calcul du trafic moyen\n",
        "comptages['timestamp'] = pd.to_datetime(comptages['Date et heure de comptage'], format='%Y-%m-%dT%H:%M:%SZ', errors='coerce')\n",
        "comptages['hour'] = comptages['timestamp'].dt.hour\n",
        "\n",
        "df1 = comptages[comptages.hour.between(7,10)].groupby('Identifiant du compteur').agg({\"Comptage horaire\": \"mean\"}).reset_index()\n",
        "df2 = comptages[comptages.hour.between(7,10)].groupby('Identifiant du compteur').agg({\"Comptage horaire\": \"mean\"}).reset_index()\n",
        "df1 = compteurs.merge(df1, left_on = \"id_compteur\", right_on = 'Identifiant du compteur')\n",
        "df2 = compteurs.merge(df2, left_on = \"id_compteur\", right_on = 'Identifiant du compteur')"
      ],
      "id": "54fabce7",
      "execution_count": null,
      "outputs": []
    },
    {
      "cell_type": "code",
      "metadata": {
        "show": false
      },
      "source": [
        "#| include: false\n",
        "\n",
        "#2. Creation de la fonction explode_data\n",
        "## La fonction expand_points multiplie le nombre de points de manière à créer une heatmap\n",
        "def explode_data(data, index_var = \"id_compteur\", weight_var = 'Comptage horaire', crs = 2154):\n",
        "  data_exp = expand_points(data.to_crs(crs),\n",
        "                  index_var = \"id_compteur\",\n",
        "                  weight_var = 'Comptage horaire',\n",
        "                  radius_sd = 100,\n",
        "                  crs = crs)\n",
        "  data_exp = data_exp.to_crs(4326)\n",
        "  return data_exp"
      ],
      "id": "5732f8e0",
      "execution_count": null,
      "outputs": []
    },
    {
      "cell_type": "code",
      "metadata": {},
      "source": [
        "#| include: false\n",
        "#| echo: false\n",
        "\n",
        "#3. Application de explode_data à df1 et df2\n",
        "df1_exploded = explode_data(df1)\n",
        "df2_exploded = explode_data(df2)\n",
        "\n",
        "#print(len(df1))\n",
        "#df1[[\"name\",\"id_compteur\"]].head()\n",
        "#print(len(df1_exploded))\n",
        "#df1_exploded[[\"name\",\"npoints\",\"x\",\"y\"]].head()"
      ],
      "id": "a9df9f3a",
      "execution_count": null,
      "outputs": []
    },
    {
      "cell_type": "markdown",
      "metadata": {},
      "source": [
        "::: {.cell .markdown}\n",
        "\n",
        "```{=html}\n",
        "<div class=\"alert alert-success\" role=\"alert\" style=\"color: rgba(0,0,0,.8); background-color: white; margin-top: 1em; margin-bottom: 1em; margin:1.5625emauto; padding:0 .6rem .8rem!important;overflow:hidden; page-break-inside:avoid; border-radius:.25rem; box-shadow:0 .2rem .5rem rgba(0,0,0,.05),0 0 .05rem rgba(0,0,0,.1); transition:color .25s,background-color .25s,border-color .25s ; border-right: 1px solid #dee2e6 ; border-top: 1px solid #dee2e6 ; border-bottom: 1px solid #dee2e6 ; border-left:.2rem solid #3fb618;\">\n",
        "<h3 class=\"alert-heading\"><i class=\"fa fa-pencil\"></i> Exercice 5 : Heatmap, enfin !</h3>\n",
        "```\n",
        "\n",
        "\n",
        "Représenter, pour ces deux moments de la journée, la `heatmap` du trafic de vélo avec `geoplot.kdeplot`. Pour cela :\n",
        "\n",
        "- Appliquer la fonction `geoplot.kdeplot` avec comme consignes :\n",
        "    + d'utiliser les arguments `shade=True` et `shade_lowest=True` pour colorer l'intérieur des courbes de niveaux obtenues ; \n",
        "    + d'utiliser une palette de couleur rouge avec une transparence modérée (`alpha = 0.6`)\n",
        "    + d'utiliser l'argument `clip` pour ne pas déborder hors de Paris (en cas de doute, se référer à l'aide de `geoplot.kdeplot`)\n",
        "    + L'argument `bw` (pour *bandwidth*) détermine le plus ou moins fort lissage spatial. Vous pouvez partir d'un bandwidth égal à 0.01 et le faire varier pour voir l'effet sur le résultat \n",
        "    \n",
        "- Ne pas oublier d'ajouter les arrondissements. Avec `geoplot`, il faut utiliser `geoplot.polyplot`. \n",
        "\n",
        "\n",
        "```{=html}\n",
        "</div>\n",
        "```\n",
        "\n",
        ":::\n"
      ],
      "id": "8573963e"
    },
    {
      "cell_type": "code",
      "metadata": {},
      "source": [
        "#| include: false\n",
        "#| echo: false\n",
        "#| eval: false\n",
        "\n",
        "# Exercice 5 : heatmap\n",
        "fig = plt.figure()\n",
        "ax = geoplot.kdeplot(df1_exploded,\n",
        "                      figsize=(10, 10),\n",
        "                      shade=True, shade_lowest=True,\n",
        "                      alpha = 0.6,\n",
        "                      clip = arrondissements,\n",
        "                      cmap=\"Reds\",\n",
        "                      bw=.35\n",
        "                    )\n",
        "# truc bizarre: bandwidth doit etre beaucoup plus fort sur ma machine windows que sur un notebook tournant sur linux\n",
        "# pour produire résultat équivalent\n",
        "geoplot.polyplot(arrondissements, ax = ax, zorder = 1)"
      ],
      "id": "cd201178",
      "execution_count": null,
      "outputs": []
    },
    {
      "cell_type": "code",
      "metadata": {},
      "source": [
        "ax.get_figure()"
      ],
      "id": "65460efb",
      "execution_count": null,
      "outputs": []
    },
    {
      "cell_type": "markdown",
      "metadata": {},
      "source": [
        "## Des cartes réactives grâce à `folium`\n",
        "\n",
        "De plus en plus de données de visualisation reposent sur la cartographie réactive. Que ce soit dans l'exploration des données ou dans la représentation finale de résultats, la cartographie réactive est très appréciable. \n",
        "\n",
        "`folium` offre une interface très flexible et très facile à prendre à main. Les cartes sont construites grâce à la librairie JavaScript `Leaflet.js` mais, sauf si on désire aller loin dans la customisation du résultat, il n'est pas nécessaire d'avoir des notions dans le domaine. \n",
        "\n",
        "\n",
        "Un objet folium se construit par couche. La première est l'initialisation de la carte. Les couches suivantes sont les éléments à mettre en valeur. L'initialisation de la carte nécessite la définition d'un point central (paramètre `location`) et d'un zoom de départ (`zoom_start`). Plutôt que de fournir manuellement le point central et le zoom on peut :\n",
        "\n",
        "1. Déterminer le point central en construisant des colonnes longitudes et latitudes et en prenant la moyenne de celles-ci ;\n",
        "2. Utiliser la méthode `fit_bounds` qui cale la carte sur les coins sud-ouest et nord-est. En supposant que la carte s'appelle `m`, on fera `m.fit_bounds([sw, ne])`\n",
        "\n",
        "Le bout de code suivant permet de calculer le centre de la carte\n"
      ],
      "id": "7f4be9e5"
    },
    {
      "cell_type": "code",
      "metadata": {},
      "source": [
        "#| echo: true\n",
        "compteurs['lon'] = compteurs.geometry.x\n",
        "compteurs['lat'] = compteurs.geometry.y\n",
        "center = compteurs[['lat', 'lon']].mean().values.tolist()\n",
        "print(center)"
      ],
      "id": "4f89923a",
      "execution_count": null,
      "outputs": []
    },
    {
      "cell_type": "markdown",
      "metadata": {},
      "source": [
        "Alors que le code suivant permet de calculer les coins:\n"
      ],
      "id": "1c697cf7"
    },
    {
      "cell_type": "code",
      "metadata": {},
      "source": [
        "#| echo: true\n",
        "sw = compteurs[['lat', 'lon']].min().values.tolist()\n",
        "ne = compteurs[['lat', 'lon']].max().values.tolist()\n",
        "print(sw, ne)"
      ],
      "id": "cd20752b",
      "execution_count": null,
      "outputs": []
    },
    {
      "cell_type": "markdown",
      "metadata": {},
      "source": [
        "::: {.cell .markdown}\n",
        "\n",
        "```{=html}\n",
        "<div class=\"alert alert-warning\" role=\"alert\" style=\"color: rgba(0,0,0,.8); background-color: white; margin-top: 1em; margin-bottom: 1em; margin:1.5625emauto; padding:0 .6rem .8rem!important;overflow:hidden; page-break-inside:avoid; border-radius:.25rem; box-shadow:0 .2rem .5rem rgba(0,0,0,.05),0 0 .05rem rgba(0,0,0,.1); transition:color .25s,background-color .25s,border-color .25s ; border-right: 1px solid #dee2e6 ; border-top: 1px solid #dee2e6 ; border-bottom: 1px solid #dee2e6 ; border-left:.2rem solid #ffc10780;\">\n",
        "<h3 class=\"alert-heading\"><i class=\"fa fa-lightbulb-o\"></i> Hint</h3>\n",
        "```\n",
        "\n",
        "\n",
        "Si un fond gris s'affiche, c'est qu'il y a un problème de localisation ou d'accès à internet. Pour le premier cas, cela provient généralement d'un problème de projection ou d'une inversion des longitudes et latitudes. \n",
        "\n",
        "Les longitudes représentent les *x* (axe ouest-est) et les latitudes *y* (axe sud-nord). De manière contrintuitive, `folium` attend qu'on lui fournisse les données sous la forme `[latitude, longitude]` donc `[y,x]`\n",
        "\n",
        "\n",
        "```{=html}\n",
        "</div>\n",
        "```\n",
        "\n",
        ":::\n",
        "\n",
        "\n",
        "::: {.cell .markdown}\n",
        "\n",
        "```{=html}\n",
        "<div class=\"alert alert-success\" role=\"alert\" style=\"color: rgba(0,0,0,.8); background-color: white; margin-top: 1em; margin-bottom: 1em; margin:1.5625emauto; padding:0 .6rem .8rem!important;overflow:hidden; page-break-inside:avoid; border-radius:.25rem; box-shadow:0 .2rem .5rem rgba(0,0,0,.05),0 0 .05rem rgba(0,0,0,.1); transition:color .25s,background-color .25s,border-color .25s ; border-right: 1px solid #dee2e6 ; border-top: 1px solid #dee2e6 ; border-bottom: 1px solid #dee2e6 ; border-left:.2rem solid #3fb618;\">\n",
        "<h3 class=\"alert-heading\"><i class=\"fa fa-pencil\"></i> Exercice 6 : Visualiser la localisation des stations</h3>\n",
        "```\n",
        "\n",
        "\n",
        "1. Calculer le centre `center`de la carte des données `compteurs`. Il s'obtient en agrègeant l'ensemble des géométries, calculant le centroid et récupèrant la valeur sous forme de liste. Avec une logique similaire, calculez les bornes du sud-ouest `sw` et du nord-est `ne` de la carte. \n",
        "2. Représenter la localisation des stations en utilisant un zoom optimal. \n",
        "\n",
        "\n",
        "```{=html}\n",
        "</div>\n",
        "```\n",
        "\n",
        ":::\n"
      ],
      "id": "eb1c9d22"
    },
    {
      "cell_type": "code",
      "metadata": {},
      "source": [
        "#| include: false\n",
        "#| echo: false\n",
        "\n",
        "#1. Calcul du centre de la carte de \"compteurs\" et des bornes sw et ne\n",
        "compteurs['lon'] = compteurs.geometry.x\n",
        "compteurs['lat'] = compteurs.geometry.y\n",
        "center = compteurs[['lat', 'lon']].mean().values.tolist()\n",
        "sw = compteurs[['lat', 'lon']].min().values.tolist()\n",
        "ne = compteurs[['lat', 'lon']].max().values.tolist()"
      ],
      "id": "88908deb",
      "execution_count": null,
      "outputs": []
    },
    {
      "cell_type": "code",
      "metadata": {},
      "source": [
        "#| include: false\n",
        "#| echo: false\n",
        "\n",
        "# 2. Carte interactive\n",
        "from pathlib import Path\n",
        "Path(\"leaflet\").mkdir(parents=True, exist_ok=True)\n",
        "m = folium.Map(location = center, tiles='Stamen Toner')\n",
        "\n",
        "# Ajout des markers 1 à 1 sur la carte\n",
        "for i in range(0,len(compteurs)):\n",
        "    folium.Marker([compteurs.iloc[i]['lat'], compteurs.iloc[i]['lon']], popup=compteurs.iloc[i]['nom_compteur']).add_to(m)\n",
        "m.fit_bounds([sw, ne])"
      ],
      "id": "5fe9adea",
      "execution_count": null,
      "outputs": []
    },
    {
      "cell_type": "code",
      "metadata": {},
      "source": [
        "#| echo : true\n",
        "#| output: false\n",
        "# Afficher la carte\n",
        "m"
      ],
      "id": "5d21f31a",
      "execution_count": null,
      "outputs": []
    },
    {
      "cell_type": "markdown",
      "metadata": {},
      "source": [
        "::: {.cell .markdown}\n",
        "\n",
        "```{=html}\n",
        "<div class=\"alert alert-success\" role=\"alert\" style=\"color: rgba(0,0,0,.8); background-color: white; margin-top: 1em; margin-bottom: 1em; margin:1.5625emauto; padding:0 .6rem .8rem!important;overflow:hidden; page-break-inside:avoid; border-radius:.25rem; box-shadow:0 .2rem .5rem rgba(0,0,0,.05),0 0 .05rem rgba(0,0,0,.1); transition:color .25s,background-color .25s,border-color .25s ; border-right: 1px solid #dee2e6 ; border-top: 1px solid #dee2e6 ; border-bottom: 1px solid #dee2e6 ; border-left:.2rem solid #3fb618;\">\n",
        "<h3 class=\"alert-heading\"><i class=\"fa fa-pencil\"></i> Exercice 7: Représenter les stations</h3>\n",
        "```\n",
        "\n",
        "\n",
        "Faire la même carte, avec des ronds proportionnels au nombre de comptages :\n",
        "\n",
        "* Pour le rayon de chaque cercle, vous pouvez appliquer la règle `500*x/max(x)` (règle au doigt mouillé)\n",
        "* Vous pouvez réduire la taille des bordures de cercle avec l'option `weight = 1` et fixer la couleur avec `color = 'grey'`\n",
        "* (Optionnel) Colorer en rouge les 10 plus grosses stations. L'opacité étant, par défaut, un peu faible, le paramètre `fill_opacity = 0.4` améliore le rendu. \n",
        "* (Optionnel) Afficher, en supplément du nom du compteur lorsqu'on clique, la valeur du comptage en revenant à la ligne\n",
        "\n",
        "\n",
        "```{=html}\n",
        "</div>\n",
        "```\n",
        "\n",
        ":::\n"
      ],
      "id": "1c3069d3"
    },
    {
      "cell_type": "code",
      "metadata": {},
      "source": [
        "#| include: false\n",
        "#| echo: false\n",
        "\n",
        "# Exercice 7\n",
        "df1['color'] = 'green'\n",
        "top_10 = df1.sort_values('Comptage horaire', ascending = False).head(10).nom_compteur\n",
        "df1.loc[df1.nom_compteur.isin(top_10.tolist()), 'color'] = 'red'\n",
        "\n",
        "df1['lon'] = df1.geometry.x\n",
        "df1['lat'] = df1.geometry.y\n",
        "center = df1[['lat', 'lon']].mean().values.tolist()\n",
        "sw = df1[['lat', 'lon']].min().values.tolist()\n",
        "ne = df1[['lat', 'lon']].max().values.tolist()\n",
        "\n",
        "\n",
        "\n",
        "m = folium.Map(location = center, tiles='Stamen Toner')\n",
        "\n",
        "# I can add marker one by one on the map\n",
        "for i in range(0,len(df1)):\n",
        "   folium.Circle(\n",
        "      location=[df1.iloc[i]['lat'], df1.iloc[i]['lon']],\n",
        "      popup= df1.iloc[i]['nom_compteur'] + \": <br> \" + str(df1.iloc[i]['Comptage horaire'].round()),\n",
        "      radius=500*df1.iloc[i]['Comptage horaire']/df1.iloc[i]['Comptage horaire'].max(),\n",
        "      color='grey',\n",
        "      weight = 1,\n",
        "      fill=True,\n",
        "      fill_color=df1.iloc[i]['color'],\n",
        "      fill_opacity=0.4\n",
        "   ).add_to(m)\n",
        "\n",
        "m.fit_bounds([sw, ne])"
      ],
      "id": "139e1c5f",
      "execution_count": null,
      "outputs": []
    },
    {
      "cell_type": "markdown",
      "metadata": {},
      "source": [
        "La carte obtenue doit ressembler à la suivante:\n"
      ],
      "id": "af80e484"
    },
    {
      "cell_type": "code",
      "metadata": {},
      "source": [
        "#| echo : true\n",
        "#| output: false\n",
        "# Afficher la carte\n",
        "m"
      ],
      "id": "a665eaf8",
      "execution_count": null,
      "outputs": []
    },
    {
      "cell_type": "markdown",
      "metadata": {},
      "source": [
        "# Exercices supplémentaires\n",
        "\n",
        "## Densité de population dans la petite couronne parisienne\n",
        "\n",
        "Pour cet exercice, le package [`cartiflette`](https://github.com/InseeFrLab/cartogether)\n",
        "va être pratique pour récupérer un fonds de carte mélangeant arrondissements\n",
        "parisiens et communes dans les autres villes.\n",
        "\n",
        "Nous allons privilégier une carte à ronds proportionnels (_bubble map_)\n",
        "aux cartes chorolèpthes qui trompent\n",
        "l'oeil. Les instructions d'installation du package `topojson`\n",
        "sont disponibles dans la partie manipulation\n"
      ],
      "id": "8188e199"
    },
    {
      "cell_type": "code",
      "metadata": {},
      "source": [
        "#| echo: false\n",
        "#| output: false\n",
        "!pip install topojson"
      ],
      "id": "0e2ad508",
      "execution_count": null,
      "outputs": []
    },
    {
      "cell_type": "markdown",
      "metadata": {},
      "source": [
        "::: {.cell .markdown}\n",
        "\n",
        "```{=html}\n",
        "<div class=\"alert alert-success\" role=\"alert\" style=\"color: rgba(0,0,0,.8); background-color: white; margin-top: 1em; margin-bottom: 1em; margin:1.5625emauto; padding:0 .6rem .8rem!important;overflow:hidden; page-break-inside:avoid; border-radius:.25rem; box-shadow:0 .2rem .5rem rgba(0,0,0,.05),0 0 .05rem rgba(0,0,0,.1); transition:color .25s,background-color .25s,border-color .25s ; border-right: 1px solid #dee2e6 ; border-top: 1px solid #dee2e6 ; border-bottom: 1px solid #dee2e6 ; border-left:.2rem solid #3fb618;\">\n",
        "<h3 class=\"alert-heading\"><i class=\"fa fa-pencil\"></i> Exercice: bubble map de densité des populations</h3>\n",
        "```\n",
        "\n",
        "\n",
        "1. Récupérer le fond de carte des départements 75, 92, 93 et 94\n",
        "avec `cartiflette`. Pour cela, utiliser `download_vectorfile_url_all`\n",
        "depuis `cartiflette.s3` en fixant l'option `level` à `COMMUNE_ARRONDISSEMENT`.\n",
        "Nommer cet objet `df`.\n",
        "2. Afin que les calculs ultérieurs de surface ne soient pas faussés,\n",
        "assurez-vous que les données sont en Lambert 93 en reprojetant\n",
        "nos contours (code EPSG: 2154).\n",
        "2. Créer un objet `departements` avec `dissolve` pour également disposer\n",
        "d'un fond de carte des départements\n",
        "3. Créer une variable `surface` et utilisant la méthode `area`. L'unité\n",
        "doit être le km², il faut donc diviser par $10^6$\n",
        "4. Créer une variable `densite`\n",
        "5. Utiliser `pd.cut` avec les seuils 5000, 15000 et 30000 personnes\n",
        "par km². Vous pouvez utiliser l'option `label` pour dénommer les tranches\n",
        "6. Créer un `GeoDataFrame` de points en utilisant la méthode centroid. Celui-ci\n",
        "nous servira à localiser le centre de nos ronds. \n",
        "7. Représenter la densité communale sous forme de carte avec ronds proportionnels.\n",
        "Vous pouvez utiliser la variable créée à la question 5 pour les couleurs.\n",
        "\n",
        "\n",
        "```{=html}\n",
        "</div>\n",
        "```\n",
        "\n",
        ":::\n"
      ],
      "id": "762a28d6"
    },
    {
      "cell_type": "code",
      "metadata": {},
      "source": [
        "#| echo: false\n",
        "#| output: false\n",
        "import pandas as pd\n",
        "import matplotlib.pyplot as plt\n",
        "import cartiflette.s3 as s3\n",
        "\n",
        "# 1/ Fonds communaux\n",
        "df = s3.download_vectorfile_url_all(\n",
        "    crs = 4326,\n",
        "    values = [\"75\", \"92\", \"93\", \"94\"],\n",
        "    borders=\"COMMUNE_ARRONDISSEMENT\",\n",
        "    vectorfile_format=\"topojson\",\n",
        "    filter_by=\"DEPARTEMENT\",\n",
        "    source=\"EXPRESS-COG-CARTO-TERRITOIRE\",\n",
        "    year=2022)\n",
        "\n",
        "# 2/ Lambert 93\n",
        "df = df.to_crs(2154)\n",
        "# 3/ Départements\n",
        "departements = df.dissolve(\"INSEE_DEP\")"
      ],
      "id": "5d8b0dcd",
      "execution_count": null,
      "outputs": []
    },
    {
      "cell_type": "code",
      "metadata": {},
      "source": [
        "#| echo: false\n",
        "# 4/ et 5/\n",
        "df['surface'] = df.area.div(10**6)\n",
        "df['densite'] = (df['POPULATION']/df['surface'])\n",
        "#6/ \n",
        "df['markersize'] = 8*df['densite'].div(df.area.div(10**6).sum())\n",
        "df['markercolor'] = pd.cut(\n",
        "    df['densite'],\n",
        "    [0, 5000, 15000, 30000, 50000], labels=[\"Moins de 5\", \"Entre 5 et 15\", \"Entre 15 et 30\",\"Plus de 30\"])"
      ],
      "id": "0275bb25",
      "execution_count": null,
      "outputs": []
    },
    {
      "cell_type": "code",
      "metadata": {},
      "source": [
        "#| echo: false\n",
        "# 7/\n",
        "df_points = df.copy()\n",
        "df_points[\"geometry\"] = df_points[\"geometry\"].centroid"
      ],
      "id": "7914d1af",
      "execution_count": null,
      "outputs": []
    },
    {
      "cell_type": "markdown",
      "metadata": {},
      "source": [
        "La carte obtenue devrait ressembler à celle-ci:\n"
      ],
      "id": "3cd36e61"
    },
    {
      "cell_type": "code",
      "metadata": {},
      "source": [
        "#| echo: false\n",
        "# 8/ \n",
        "ax = df.plot(\n",
        "    color=\"lightgray\", edgecolor=\"grey\",\n",
        "    figsize=(7,7), \n",
        "    linewidth=0.4, alpha = 0.3)\n",
        "df_points.plot(\n",
        "    ax=ax,\n",
        "    column=\"markercolor\", markersize=\"markersize\",\n",
        "    alpha=0.7, #categorical=False,\n",
        "    legend = True,\n",
        "    legend_kwds={'loc': 'upper center', \"ncol\": 2, \"bbox_to_anchor\": (0.5, 0.05)},\n",
        "    cmap='viridis')\n",
        "departements.boundary.plot(\n",
        "    ax = ax, edgecolor = \"black\", alpha = 0.3)\n",
        "ax.axis(\"off\")\n",
        "ax.set(title='Densité de population dans la petite couronne')\n",
        "ax.get_legend().set_title(\"Densité de population, en milliers d'habitants par km²\")\n",
        "plt.figtext(0.3, 0.15,\n",
        "            \"Source: IGN - AdminExpress\",\n",
        "            wrap=True, horizontalalignment='center',\n",
        "            fontsize=8, style = \"italic\")"
      ],
      "id": "f713dcc1",
      "execution_count": null,
      "outputs": []
    }
  ],
  "metadata": {
    "kernelspec": {
      "name": "python3",
      "language": "python",
      "display_name": "Python 3 (ipykernel)"
    }
  },
  "nbformat": 4,
  "nbformat_minor": 5
}