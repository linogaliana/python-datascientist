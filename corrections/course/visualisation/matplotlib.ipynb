{
 "cells": [
  {
   "cell_type": "markdown",
   "id": "889765c4",
   "metadata": {},
   "source": [
    "#  De beaux graphiques avec python: mise en pratique\n",
    "\n"
   ]
  },
  {
   "cell_type": "markdown",
   "id": "179682fb",
   "metadata": {},
   "source": [
    "<a href=\"https://github.com/linogaliana/python-datascientist/blob/master//__w/python-datascientist/python-datascientist/notebooks/course/visualisation/matplotlib.ipynb\" class=\"github\"><i class=\"fab fa-github\"></i></a>\n",
    "[![Download](https://img.shields.io/badge/Download-Notebook-important?logo=Jupyter)](https://downgit.github.io/#/home?url=https://github.com/linogaliana/python-datascientist/blob/master//__w/python-datascientist/python-datascientist/notebooks/course/visualisation/matplotlib.ipynb)\n",
    "[![nbviewer](https://img.shields.io/badge/Visualize-nbviewer-blue?logo=Jupyter)](https://nbviewer.jupyter.org/github/linogaliana/python-datascientist/blob/master//__w/python-datascientist/python-datascientist/notebooks/course/visualisation/matplotlib.ipynb)\n",
    "[![Onyxia](https://img.shields.io/badge/SSPcloud-Tester%20via%20SSP--cloud-informational&color=yellow?logo=Python)](https://datalab.sspcloud.fr/launcher/inseefrlab-helm-charts-datascience/jupyter?autoLaunch=true&onyxia.friendlyName=%C2%ABpython-datascience%C2%BB&init.personalInit=%C2%ABhttps%3A%2F%2Fraw.githubusercontent.com%2Flinogaliana%2Fpython-datascientist%2Fmaster%2Fsspcloud%2Finit-jupyter.sh%C2%BB&init.personalInitArgs=%C2%ABvisualisation%20matplotlib%C2%BB&security.allowlist.enabled=false)\n",
    "<br>\n",
    "[![Binder](https://img.shields.io/badge/Launch-Binder-E66581.svg?logo=data:image/png;base64,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)](https://mybinder.org/v2/gh/linogaliana/python-datascientist/master?filepath=/__w/python-datascientist/python-datascientist/notebooks/course/visualisation/matplotlib.ipynb)\n",
    "[![Open In Colab](https://colab.research.google.com/assets/colab-badge.svg)](http://colab.research.google.com/github/linogaliana/python-datascientist/blob/master//__w/python-datascientist/python-datascientist/notebooks/course/visualisation/matplotlib.ipynb)\n",
    "[![githubdev](https://open.vscode.dev/badges/open-in-vscode.svg)](https://github.dev/linogaliana/python-datascientist//__w/python-datascientist/python-datascientist/notebooks/course/visualisation/matplotlib.ipynb)\n",
    "\n",
    "La pratique de la visualisation se fera, dans ce cours, en répliquant des graphiques qu'on peut trouver sur\n",
    "la page de l'*open-data* de la ville de Paris \n",
    "[ici](https://opendata.paris.fr/explore/dataset/comptage-velo-donnees-compteurs/information/?disjunctive.id_compteur&disjunctive.nom_compteur&disjunctive.id&disjunctive.name).\n",
    "\n",
    "Ce TP vise à initier:\n",
    "\n",
    "* Aux packages [matplotlib](https://matplotlib.org/) et\n",
    "[seaborn](https://seaborn.pydata.org/) pour la construction de graphiques figés\n",
    "* Au package [plotly](https://plotly.com/python/) pour les graphiques \n",
    "dynamiques, au format HTML\n",
    "\n",
    "Nous verrons par la suite la manière de construire des cartes facilement avec\n",
    "des formats équivalents.\n",
    "\n",
    "Un sous-ensemble des données de [paris open data](https://opendata.paris.fr/explore/dataset/comptage-velo-donnees-compteurs/information/?disjunctive.id_compteur&disjunctive.nom_compteur&disjunctive.id&disjunctive.name) a été mis à disposition\n",
    "sur {{< githubrepo >}} pour faciliter l'import (élimination des colonnes\n",
    "qui ne nous serviront pas mais ralentissent l'import).\n"
   ]
  },
  {
   "cell_type": "code",
   "execution_count": null,
   "id": "ea07f300",
   "metadata": {},
   "outputs": [],
   "source": [
    "import matplotlib.pyplot as plt\n",
    "import seaborn as sns"
   ]
  },
  {
   "cell_type": "markdown",
   "id": "f42f0406",
   "metadata": {},
   "source": [
    "## Premier graphique avec l'API `matplotlib` de `pandas`"
   ]
  },
  {
   "cell_type": "markdown",
   "id": "0027e72b",
   "metadata": {},
   "source": [
    "**Exercice 1 : Importer les données et produire un premier graphique**\n",
    "\n",
    "1. Importer les données de compteurs de vélos. Vous pouvez utiliser l'url <https://github.com/linogaliana/python-datascientist/raw/master/data/bike.csv>. :warning: Il s'agit de données\n",
    "compressées au format `gzip`, il faut donc utiliser l'option `compression`\n"
   ]
  },
  {
   "cell_type": "code",
   "execution_count": null,
   "id": "7e492566",
   "metadata": {},
   "outputs": [],
   "source": [
    "#1. Importation des données de vélo\n",
    "import pandas as pd\n",
    "df = pd.read_csv(\"https://github.com/linogaliana/python-datascientist/raw/master/data/bike.csv\", compression = 'gzip')\n",
    "df.head()"
   ]
  },
  {
   "cell_type": "markdown",
   "id": "5c233ac4",
   "metadata": {},
   "source": [
    "```\n",
    "##   Identifiant du compteur  ... Date d'installation du site de comptage\n",
    "## 0            100003096-SC  ...                              2012-02-22\n",
    "## 1            100003096-SC  ...                              2012-02-22\n",
    "## 2            100003096-SC  ...                              2012-02-22\n",
    "## 3            100003096-SC  ...                              2012-02-22\n",
    "## 4            100003096-SC  ...                              2012-02-22\n",
    "## \n",
    "## [5 rows x 7 columns]\n",
    "```\n",
    "\n",
    "2. En premier lieu, sans se préoccuper des éléments de style ni des labels des\n",
    "graphiques, reproduire les deux premiers graphiques de la\n",
    "[page d'analyse des données](https://opendata.paris.fr/explore/dataset/comptage-velo-donnees-compteurs/dataviz/?disjunctive.id_compteur&disjunctive.nom_compteur&disjunctive.id&disjunctive.name):\n",
    "*Les 10 compteurs avec la moyenne horaire la plus élevée* et *Les 10 compteurs ayant comptabilisés le plus de vélos*.\n"
   ]
  },
  {
   "cell_type": "code",
   "execution_count": null,
   "id": "c2f8c7f4",
   "metadata": {
    "lines_to_next_cell": 0
   },
   "outputs": [],
   "source": [
    "#2. Reproduction des graphiques\n",
    "\n",
    "## Graphique 1 : Les 10 compteurs avec la moyenne horaire la plus élevée\n",
    "df1 = df.groupby('Nom du compteur').agg({'Comptage horaire': \"mean\"}).sort_values('Comptage horaire', ascending = False).head(10)\n",
    "p1 = df1.sort_values('Comptage horaire').plot(kind = \"barh\", figsize = (25,5), color = 'red')\n",
    "p1\n",
    "plt.savefig('compte.png', bbox_inches='tight')\n",
    "\n",
    "\n",
    "## Graphique 2 : Les 10 compteurs ayant comptabilisés le plus de vélos\n",
    "df2 = df.groupby('Nom du compteur').agg({'Comptage horaire': \"sum\"}).sort_values('Comptage horaire', ascending = False).head(10)\n",
    "p2 = df2.sort_values('Comptage horaire').plot(kind = \"barh\", figsize = (25,5), color = 'green')\n",
    "p2\n",
    "plt.savefig('compte2.png', bbox_inches='tight')"
   ]
  },
  {
   "cell_type": "markdown",
   "id": "21ad8808",
   "metadata": {},
   "source": [
    "\n",
    "\n"
   ]
  },
  {
   "cell_type": "markdown",
   "id": "50e025f5",
   "metadata": {},
   "source": [
    "Pour obtenir un graphique ordonné du plus grand au plus petit, il faut avoir les données ordonnées du plus petit au\n",
    "plus grand. C'est bizarre mais c'est comme ça...\n",
    "\n"
   ]
  },
  {
   "cell_type": "markdown",
   "id": "e47211bf",
   "metadata": {},
   "source": [
    "On peut remarquer plusieurs éléments problématiques (par exemple les labels) mais\n",
    "aussi des éléments ne correspondant pas (les titres des axes, etc.) ou \n",
    "manquants (le nom du graphique...)\n",
    "\n",
    "Comme les graphiques produits par `pandas` suivent la logique très flexible\n",
    "de `matplotlib`, il est possible de les customiser. Cependant, c'est\n",
    "souvent beaucoup de travail et il peut être préférable de directement\n",
    "utiliser *seaborn*, qui offre quelques arguments prêts à l'emploi."
   ]
  },
  {
   "cell_type": "markdown",
   "id": "ba00a39b",
   "metadata": {},
   "source": [
    "## Utiliser directement `seaborn`\n",
    "\n",
    "Vous pouvez repartir des deux dataframes précédents. On va suppose qu'ils se\n",
    "nomment `df1` et `df2`. \n",
    "\n",
    "{{% box status=\"exercise\" title=\"Exercice\"\n",
    "icon=\"fas fa-pencil-alt\" %}}\n",
    "\n",
    "**Exercice 2 : Un peu de style !**\n",
    "\n",
    "Il y a plusieurs manières de faire un *bar* plot en `seaborn`. La plus flexible,\n",
    "c'est-à-dire celle qui permet le mieux d'interagir avec `matplotlib` est\n",
    "`catplot`\n",
    "\n",
    "1. Réinitialiser l'index des df pour avoir une colonne *'Nom du compteur'*\n"
   ]
  },
  {
   "cell_type": "code",
   "execution_count": null,
   "id": "eb0943e1",
   "metadata": {},
   "outputs": [],
   "source": [
    "# 1. Réinitialiser les index.\n",
    "df1 = df1.reset_index()\n",
    "df2 = df2.reset_index()"
   ]
  },
  {
   "cell_type": "markdown",
   "id": "d98114b4",
   "metadata": {},
   "source": [
    "2. Refaire le graphique précédent avec la fonction `catplot` de `seaborn`. Pour\n",
    "contrôler la taille du graphique vous pouvez utiliser les arguments `height` et\n",
    "`aspect`.\n"
   ]
  },
  {
   "cell_type": "code",
   "execution_count": null,
   "id": "2424388e",
   "metadata": {},
   "outputs": [],
   "source": [
    "\n",
    "# 2. Graphique avec sns.catplot\n",
    "g = sns.catplot(x='Comptage horaire', y='Nom du compteur', data=df1, kind = \"bar\", height = 5, aspect = 4, color = \"red\")\n",
    "g"
   ]
  },
  {
   "cell_type": "markdown",
   "id": "a963bfdd",
   "metadata": {},
   "source": [
    "```\n",
    "## <seaborn.axisgrid.FacetGrid object at 0x7feb27b1e790>\n",
    "```"
   ]
  },
  {
   "cell_type": "markdown",
   "id": "99317512",
   "metadata": {},
   "source": [
    "3. Ajouter les titres des axes et le titre du graphique pour le premier graphique\n"
   ]
  },
  {
   "cell_type": "code",
   "execution_count": null,
   "id": "bf20047a",
   "metadata": {},
   "outputs": [],
   "source": [
    "# 3. Ajout d'éléments de légende\n",
    "g = sns.catplot(x='Comptage horaire', y='Nom du compteur', data=df1, kind = \"bar\", height = 5, aspect = 4, color = \"red\")\n",
    "g.set_axis_labels('Moyenne du comptage par heure sur la période sélectionnée', 'Nom du compteur')"
   ]
  },
  {
   "cell_type": "markdown",
   "id": "ea491c51",
   "metadata": {},
   "source": [
    "```\n",
    "## <seaborn.axisgrid.FacetGrid object at 0x7feb2795aeb0>\n",
    "```"
   ]
  },
  {
   "cell_type": "code",
   "execution_count": null,
   "id": "f0e22030",
   "metadata": {},
   "outputs": [],
   "source": [
    "plt.title('Les 10 compteurs avec la moyenne horaire la plus élevée')\n",
    "g"
   ]
  },
  {
   "cell_type": "markdown",
   "id": "de150a8c",
   "metadata": {},
   "source": [
    "```\n",
    "## <seaborn.axisgrid.FacetGrid object at 0x7feb2795aeb0>\n",
    "```"
   ]
  },
  {
   "cell_type": "code",
   "execution_count": null,
   "id": "5300139d",
   "metadata": {
    "lines_to_next_cell": 2
   },
   "outputs": [],
   "source": [
    "plt.savefig('top10.png', bbox_inches='tight')"
   ]
  },
  {
   "cell_type": "markdown",
   "id": "a3db4eae",
   "metadata": {},
   "source": [
    "```r\n",
    "knitr::include_graphics(\"top10.png\")\n",
    "```"
   ]
  },
  {
   "cell_type": "markdown",
   "id": "4e60ec47",
   "metadata": {},
   "source": [
    "4. Refaites l'exercice avec la fonction `sns.barplot`.\n"
   ]
  },
  {
   "cell_type": "code",
   "execution_count": null,
   "id": "eb2fc834",
   "metadata": {},
   "outputs": [],
   "source": [
    "# 4. Utilisation de sns.barplot\n",
    "plt.figure(figsize=(20,5))\n",
    "sns.barplot(x='Comptage horaire', y='Nom du compteur', data=df1, color = \"red\")\n",
    "plt.xlabel('Moyenne du comptage par heure sur la période sélectionnée', size = 24)\n",
    "plt.xlabel('Nom du compteur', size = 24)"
   ]
  },
  {
   "cell_type": "markdown",
   "id": "c83c65c4",
   "metadata": {},
   "source": [
    "```\n",
    "## Text(0.5, 0, 'Nom du compteur')\n",
    "```"
   ]
  },
  {
   "cell_type": "code",
   "execution_count": null,
   "id": "a91ffcb7",
   "metadata": {},
   "outputs": [],
   "source": [
    "plt.title('Les 10 compteurs avec la moyenne horaire la plus élevée', size=24)\n",
    "plt.savefig(\"compte1_sns.png\", bbox_inches='tight')"
   ]
  },
  {
   "cell_type": "markdown",
   "id": "e9a56851",
   "metadata": {},
   "source": [
    "```\n",
    "## findfont: Font family ['sans-serif'] not found. Falling back to DejaVu Sans.\n",
    "## findfont: Generic family 'sans-serif' not found because none of the following families were found: Arial, Liberation Sans, Bitstream Vera Sans, sans-serif\n",
    "```"
   ]
  },
  {
   "cell_type": "markdown",
   "id": "17a94bb7",
   "metadata": {},
   "source": [
    "```r\n",
    "knitr::include_graphics(\"compte1_sns.png\")\n",
    "```"
   ]
  },
  {
   "cell_type": "markdown",
   "id": "6950cdbf",
   "metadata": {},
   "source": [
    "5. Essayez de colorer en rouge l'axe des `x`. Vous pouvez pré-définir un\n",
    "style avec `sns.set_style(\"ticks\", {\"xtick.color\": \"red\"})`\n"
   ]
  },
  {
   "cell_type": "code",
   "execution_count": null,
   "id": "f80ccd50",
   "metadata": {},
   "outputs": [],
   "source": [
    "# 5. Coloration en rouge de l'axe des x.\n",
    "sns.set_style(\"ticks\", {\"xtick.color\": \"red\"})\n",
    "g = sns.catplot(x='Comptage horaire', y='Nom du compteur', data=df1, kind = \"bar\", height = 10, aspect = 2, color = \"red\")\n",
    "g.set_axis_labels('Moyenne du comptage par heure sur la période sélectionnée', 'Nom du compteur')"
   ]
  },
  {
   "cell_type": "markdown",
   "id": "cc4a584e",
   "metadata": {},
   "source": [
    "```\n",
    "## <seaborn.axisgrid.FacetGrid object at 0x7feb27b553a0>\n",
    "```"
   ]
  },
  {
   "cell_type": "code",
   "execution_count": null,
   "id": "852fcc6e",
   "metadata": {
    "lines_to_next_cell": 2
   },
   "outputs": [],
   "source": [
    "plt.title('Les 10 compteurs avec la moyenne horaire la plus élevée')\n",
    "plt.savefig('top10_sns.png', bbox_inches='tight')"
   ]
  },
  {
   "cell_type": "markdown",
   "id": "e219d895",
   "metadata": {},
   "source": [
    "```r\n",
    "knitr::include_graphics(\"top10_sns.png\")\n",
    "```\n",
    "\n",
    "\n",
    "\n",
    "\n",
    "\n",
    "\n"
   ]
  },
  {
   "cell_type": "markdown",
   "id": "63ea057d",
   "metadata": {},
   "source": [
    "{{% box status=\"exercise\" title=\"Exercice\"\n",
    "icon=\"fas fa-pencil-alt\" %}}\n",
    "\n",
    "**Exercice 3 : Refaire les graphiques**\n",
    "\n",
    "1. Refaire le graphique *Les 10 compteurs ayant comptabilisé le plus de vélos*\n"
   ]
  },
  {
   "cell_type": "code",
   "execution_count": null,
   "id": "1b89e865",
   "metadata": {},
   "outputs": [],
   "source": [
    "# 1. Refaire le graphique : Les 10 compteurs ayant comptabilisés le plus de vélos\n",
    "sns.set_style(\"ticks\", {\"xtick.color\": \"green\"})\n",
    "g = sns.catplot(x='Comptage horaire', y='Nom du compteur', data=df2, kind = \"bar\", height = 5, aspect = 4, color = \"green\")\n",
    "g.set_axis_labels('La somme des vélos comptabilisés sur la période sélectionnée', 'Nom du compteur')"
   ]
  },
  {
   "cell_type": "markdown",
   "id": "e182ed6a",
   "metadata": {},
   "source": [
    "```\n",
    "## <seaborn.axisgrid.FacetGrid object at 0x7fe99f632730>\n",
    "```"
   ]
  },
  {
   "cell_type": "code",
   "execution_count": null,
   "id": "150aa26b",
   "metadata": {
    "lines_to_next_cell": 2
   },
   "outputs": [],
   "source": [
    "plt.title('Les 10 compteurs ayant comptabilisés le plus de vélos')\n",
    "plt.savefig('top10_bike.png', bbox_inches='tight')"
   ]
  },
  {
   "cell_type": "markdown",
   "id": "96c6a68b",
   "metadata": {},
   "source": [
    "```r\n",
    "knitr::include_graphics(\"top10_bike.png\")\n",
    "```"
   ]
  },
  {
   "cell_type": "markdown",
   "id": "579e9b76",
   "metadata": {},
   "source": [
    "2. Les graphiques qui suivent vont nécessiter un peu d'agilité dans la gestion des dates. Il faut en effet commencer par créer une variable temporelle (vous pouvez la nommer\n",
    "`timestamp`) et la transformer en variable mensuelle (grâce à\n",
    "`dt.to_period('M')`) et l'appeler `month`. Vous pouvez essayer de le faire vous même ou cliquer\n",
    "ci-dessous pour la solution.  \n"
   ]
  },
  {
   "cell_type": "code",
   "execution_count": null,
   "id": "b6c43eef",
   "metadata": {},
   "outputs": [],
   "source": [
    "df['timestamp'] = pd.to_datetime(df['Date et heure de comptage'], format='%Y-%m-%dT%H:%M:%SZ', errors='coerce')\n",
    "df['month'] = df['timestamp'].dt.to_period('M')"
   ]
  },
  {
   "cell_type": "markdown",
   "id": "8cb50b32",
   "metadata": {},
   "source": [
    "3. Refaire le graphique *Moyenne mensuelle des comptages vélos*. \n"
   ]
  },
  {
   "cell_type": "code",
   "execution_count": null,
   "id": "877dd2f7",
   "metadata": {},
   "outputs": [],
   "source": [
    "# 3. Refaire le graphique : Moyenne mensuelle des comptages vélos\n",
    "sns.set_style(\"whitegrid\")\n",
    "df3 = df.groupby('month').agg({'Comptage horaire':'mean'}).reset_index()\n",
    "g = sns.catplot(x='month', y='Comptage horaire', data=df3, kind = \"bar\", height = 5, aspect = 4, color = \"yellow\")\n",
    "g.set_axis_labels('Date et heure de comptage', 'Moyenne mensuelle du comptage par heure sur la période sélectionnée')"
   ]
  },
  {
   "cell_type": "markdown",
   "id": "dee9fde9",
   "metadata": {},
   "source": [
    "```\n",
    "## <seaborn.axisgrid.FacetGrid object at 0x7fe9a16cb940>\n",
    "```"
   ]
  },
  {
   "cell_type": "code",
   "execution_count": null,
   "id": "75ee2e05",
   "metadata": {
    "lines_to_next_cell": 2
   },
   "outputs": [],
   "source": [
    "plt.title('Moyenne mensuelle des comptages vélos')\n",
    "plt.savefig('top10_bike_sns.png', bbox_inches='tight')"
   ]
  },
  {
   "cell_type": "markdown",
   "id": "989b9edf",
   "metadata": {},
   "source": [
    "```r\n",
    "knitr::include_graphics(\"top10_bike_sns.png\")\n",
    "```"
   ]
  },
  {
   "cell_type": "markdown",
   "id": "c5e066fb",
   "metadata": {},
   "source": [
    "4. Refaire le graphique *Moyenne journalière des comptages vélos* (créer d'abord\n",
    "une variable de jour avec `.dt.day`)\n",
    "\n"
   ]
  },
  {
   "cell_type": "code",
   "execution_count": null,
   "id": "0d4d0b03",
   "metadata": {
    "lines_to_next_cell": 2
   },
   "outputs": [],
   "source": [
    "# 4. Refaire le graphique : Moyenne journalière des comptages vélos\n",
    "plt.clf()\n",
    "df['day'] = df.timestamp.dt.date\n",
    "df4 = df.groupby('day').agg({'Comptage horaire':'mean'}).reset_index()\n",
    "ax = sns.lineplot(x='day', y='Comptage horaire', data=df4, color = \"magenta\")\n",
    "l1 = ax.lines[0]\n",
    "x1 = l1.get_xydata()[:, 0]\n",
    "y1 = l1.get_xydata()[:, 1]\n",
    "ax.fill_between(x1, y1, color=\"magenta\", alpha=0.3)\n",
    "plt.savefig(\"lineplot_seaborn.png\", bbox_inches='tight')"
   ]
  },
  {
   "cell_type": "markdown",
   "id": "cd1318cc",
   "metadata": {},
   "source": [
    "```r\n",
    "knitr::include_graphics(\"lineplot_seaborn.png\")\n",
    "```"
   ]
  },
  {
   "cell_type": "markdown",
   "id": "aeb48355",
   "metadata": {},
   "source": [
    "5. Refaire le graphique *Comptages vélo au cours des 7 derniers jours* (de l'échantillon)\n",
    "\n",
    "\n"
   ]
  },
  {
   "cell_type": "code",
   "execution_count": null,
   "id": "35592677",
   "metadata": {},
   "outputs": [],
   "source": [
    "# 5. Refaire le graphique : Comptages vélo au cours des 7 derniers jours\n",
    "df['Date'] = pd.to_datetime(df['day'])\n",
    "df['NewDate'] = pd.to_datetime(df.Date) - pd.to_timedelta(7, unit=\"D\")\n",
    "df5 = df[df.day >= (max(df['NewDate']))]"
   ]
  },
  {
   "cell_type": "markdown",
   "id": "20ab7462",
   "metadata": {},
   "source": [
    "```\n",
    "## /opt/conda/envs/python-ENSAE/lib/python3.9/site-packages/pandas/core/ops/array_ops.py:73: FutureWarning: Comparison of Timestamp with datetime.date is deprecated in order to match the standard library behavior. In a future version these will be considered non-comparable. Use 'ts == pd.Timestamp(date)' or 'ts.date() == date' instead.\n",
    "##   result = libops.scalar_compare(x.ravel(), y, op)\n",
    "```"
   ]
  },
  {
   "cell_type": "code",
   "execution_count": null,
   "id": "dc7636b1",
   "metadata": {},
   "outputs": [],
   "source": [
    "df5 = df5.groupby('Date').agg({'Comptage horaire': 'sum'}).reset_index()\n",
    "df5['date_formatted'] = df5['Date'].dt.strftime('%Y-%m-%d')\n",
    "g = sns.catplot(y='Comptage horaire', x='date_formatted', data=df5, kind = \"bar\", height = 10, aspect = 2, color = \"lightblue\")\n",
    "g"
   ]
  },
  {
   "cell_type": "markdown",
   "id": "85e52e0d",
   "metadata": {},
   "source": [
    "```\n",
    "## <seaborn.axisgrid.FacetGrid object at 0x7fe9a012f4f0>\n",
    "```"
   ]
  },
  {
   "cell_type": "code",
   "execution_count": null,
   "id": "9b4d4054",
   "metadata": {
    "lines_to_next_cell": 0
   },
   "outputs": [],
   "source": [
    "plt.savefig(\"barplot_seaborn.png\", bbox_inches='tight')"
   ]
  },
  {
   "cell_type": "markdown",
   "id": "cecea447",
   "metadata": {},
   "source": []
  },
  {
   "cell_type": "markdown",
   "id": "327eecf5",
   "metadata": {},
   "source": [
    "```r\n",
    "knitr::include_graphics(\"barplot_seaborn.png\")\n",
    "```\n",
    "\n",
    "\n"
   ]
  },
  {
   "cell_type": "markdown",
   "id": "a716310e",
   "metadata": {},
   "source": [
    "## Des graphiques dynamiques avec `Plotly`\n",
    "\n",
    "Le package `Plotly` est une surcouche à la librairie Javascript \n",
    "`Plotly.js` qui permet de créer et manipuler des objets graphiques de manière\n",
    "très flexible afin de produire des objets réactifs sans avoir à recourir\n",
    "à Javascript.\n",
    "\n",
    "Le point d'entrée recommandé est le module `Plotly Express`\n",
    "([documentation ici](https://plotly.com/python/plotly-express/)) qui offre une arborescence\n",
    "riche mais néanmoins intuitive pour construire des graphiques\n",
    "(objets `plotly.graph_objects.Figure`) pouvant être modifiés *a posteriori*\n",
    "si besoin (par exemple pour *customiser* les axes). \n",
    "\n",
    "### Comment visualiser un graphique `plotly` ?\n",
    "\n",
    "Dans un notebook Jupyter classique, les lignes suivantes de code permettent\n",
    "d'afficher le résultat d'une commande `Plotly` sous un bloc de code: \n"
   ]
  },
  {
   "cell_type": "code",
   "execution_count": null,
   "id": "5bc49fc1",
   "metadata": {},
   "outputs": [],
   "source": [
    "from plotly.offline import init_notebook_mode\n",
    "init_notebook_mode(connected = True)"
   ]
  },
  {
   "cell_type": "markdown",
   "id": "7c7d71b3",
   "metadata": {},
   "source": [
    "Pour `JupyterLab`, l'extension `jupyterlab-plotly` s'avère nécessaire:\n"
   ]
  },
  {
   "cell_type": "code",
   "execution_count": null,
   "id": "8d7e4a5e",
   "metadata": {},
   "outputs": [],
   "source": [
    "jupyter labextension install jupyterlab-plotly"
   ]
  },
  {
   "cell_type": "markdown",
   "id": "fdddb26c",
   "metadata": {},
   "source": [
    "Pour les utilisateurs de `python` via l'excellent package `R` `reticulate`, il\n",
    "est possible d'écrire le résultats dans un fichier `.html` et d'utiliser\n",
    "`htmltools::includeHTML` pour l'afficher via `R Markdown` (les utilisateurs\n",
    "de `R` trouveront bien-sûr une technique bien plus simple: utiliser\n",
    "directement le package `R` `plotly`...)"
   ]
  },
  {
   "cell_type": "markdown",
   "id": "001e4c12",
   "metadata": {},
   "source": [
    "### Réplication de l'exemple précédent avec `plotly`\n",
    "\n",
    "Les modules suivants seront nécessaires pour construire des graphiques\n",
    "avec `plotly`:\n"
   ]
  },
  {
   "cell_type": "code",
   "execution_count": null,
   "id": "c0ac89c4",
   "metadata": {
    "lines_to_next_cell": 2
   },
   "outputs": [],
   "source": [
    "import plotly\n",
    "import plotly.express as px\n",
    "from IPython.display import HTML #pour afficher les graphs\n",
    "# dans une cellule de notebook"
   ]
  },
  {
   "cell_type": "markdown",
   "id": "6ad191ca",
   "metadata": {},
   "source": [
    "{{% box status=\"exercise\" title=\"Exercice\"\n",
    "icon=\"fas fa-pencil-alt\" %}}\n",
    "\n",
    "**Exercice 4 : Premier graphique avec plotly**\n",
    "\n",
    "L'objectif est de reconstuire le premier diagramme en barre rouge avec `plotly`. \n",
    "\n",
    "1. Réalisez le graphique en utilisant la fonction adéquate avec `Plotly Express` et...\n",
    "* Ne pas prendre le\n",
    "thème par défaut mais un à fond blanc, pour avoir un résultat ressemblant\n",
    "à celui proposé sur le site de l'*open-data*.\n",
    "* Pour la couleur rouge,\n",
    "vous pouvez utiliser l'argument `color_discrete_sequence`. \n",
    "* Ne pas oublier de nommer les axes\n",
    "* Pensez à la couleur du texte de l'axe inférieur\n"
   ]
  },
  {
   "cell_type": "code",
   "execution_count": null,
   "id": "b7572692",
   "metadata": {},
   "outputs": [],
   "source": [
    "# 1. Graphique avec fond blanc\n",
    "fig = px.bar(df1.sort_values('Comptage horaire', ascending=True), orientation='h', x='Comptage horaire',\n",
    "             y='Nom du compteur', color_discrete_sequence=[\"red\"], template=\"plotly_white\")\n",
    "\n",
    "fig.update_layout(\n",
    "    title='Les 10 compteurs avec la moyenne horaire la plus élevée',\n",
    "    xaxis_title='Moyenne du comptage par heure sur la période sélectionnée')"
   ]
  },
  {
   "cell_type": "markdown",
   "id": "84ba96a6",
   "metadata": {},
   "source": [
    "```\n",
    "## Figure({\n",
    "##     'data': [{'alignmentgroup': 'True',\n",
    "##               'hovertemplate': 'Comptage horaire=%{x}<br>Nom du compteur=%{y}<extra></extra>',\n",
    "##               'legendgroup': '',\n",
    "##               'marker': {'color': 'red', 'pattern': {'shape': ''}},\n",
    "##               'name': '',\n",
    "##               'offsetgroup': '',\n",
    "##               'orientation': 'h',\n",
    "##               'showlegend': False,\n",
    "##               'textposition': 'auto',\n",
    "##               'type': 'bar',\n",
    "##               'x': array([109.46284691, 117.18064259, 117.73088381, 119.2080183 , 124.3913649 ,\n",
    "##                           137.19387248, 140.21979212, 144.30319308, 147.89994441, 197.23860689]),\n",
    "##               'xaxis': 'x',\n",
    "##               'y': array(['26 boulevard de Ménilmontant SE-NO',\n",
    "##                           '35 boulevard de Menilmontant NO-SE', '21 boulevard Saint Michel S-N',\n",
    "##                           '67 boulevard Voltaire SE-NO', '72 boulevard Voltaire NO-SE',\n",
    "##                           '102 boulevard de Magenta SE-NO', 'Totem 64 Rue de Rivoli O-E',\n",
    "##                           '89 boulevard de Magenta NO-SE', 'Totem 73 boulevard de Sébastopol N-S',\n",
    "##                           'Totem 73 boulevard de Sébastopol S-N'], dtype=object),\n",
    "##               'yaxis': 'y'}],\n",
    "##     'layout': {'barmode': 'relative',\n",
    "##                'legend': {'tracegroupgap': 0},\n",
    "##                'margin': {'t': 60},\n",
    "##                'template': '...',\n",
    "##                'title': {'text': 'Les 10 compteurs avec la moyenne horaire la plus élevée'},\n",
    "##                'xaxis': {'anchor': 'y',\n",
    "##                          'domain': [0.0, 1.0],\n",
    "##                          'title': {'text': 'Moyenne du comptage par heure sur la période sélectionnée'}},\n",
    "##                'yaxis': {'anchor': 'x', 'domain': [0.0, 1.0], 'title': {'text': 'Nom du compteur'}}}\n",
    "## })\n",
    "```"
   ]
  },
  {
   "cell_type": "code",
   "execution_count": null,
   "id": "1b0b18a9",
   "metadata": {},
   "outputs": [],
   "source": [
    "fig.update_xaxes(title_font=dict(color='red'))\n",
    "\n",
    "#HTML(fig.to_html())\n",
    "\n",
    "# Pour inclusion dans le site web"
   ]
  },
  {
   "cell_type": "markdown",
   "id": "f565c2ff",
   "metadata": {},
   "source": [
    "```\n",
    "## Error in py_call_impl(callable, dots$args, dots$keywords): TypeError: 'dict' object is not callable\n",
    "## \n",
    "## Detailed traceback: \n",
    "##   File \"<string>\", line 1, in <module>\n",
    "```"
   ]
  },
  {
   "cell_type": "code",
   "execution_count": null,
   "id": "1a7789f8",
   "metadata": {
    "lines_to_next_cell": 2
   },
   "outputs": [],
   "source": [
    "fig.write_json(\"plotly1.json\")"
   ]
  },
  {
   "cell_type": "markdown",
   "id": "d3ce5605",
   "metadata": {},
   "source": [
    "2. Tester un autre thème, à fond sombre. Pour les couleurs, faire un \n",
    "groupe stockant les trois plus fortes valeurs puis les autres.\n"
   ]
  },
  {
   "cell_type": "code",
   "execution_count": null,
   "id": "e4c29c27",
   "metadata": {},
   "outputs": [],
   "source": [
    "#2. Graphique avec thème sombre\n",
    "df1['top'] = df1['Comptage horaire'] > df1.sort_values('Comptage horaire', ascending=False)['Comptage horaire'][3]\n",
    "fig2 = px.bar(df1.sort_values('Comptage horaire', ascending=True), orientation='h', x='Comptage horaire',\n",
    "              y='Nom du compteur',  color='top', ## attention, l'argument color ne semble pas toujours fonctionner\n",
    "              template=\"plotly_dark\",\n",
    "              color_discrete_sequence=['red','green'])\n",
    "fig2.update_layout(\n",
    "    title='Les 10 compteurs avec la moyenne horaire la plus élevée',\n",
    "    xaxis_title='Moyenne du comptage par heure sur la période sélectionnée')\n",
    "\n",
    "#HTML(fig2.to_html())\n",
    "\n",
    "# Pour inclusion dans le site web"
   ]
  },
  {
   "cell_type": "markdown",
   "id": "ec66842a",
   "metadata": {},
   "source": [
    "```\n",
    "## Figure({\n",
    "##     'data': [{'alignmentgroup': 'True',\n",
    "##               'hovertemplate': 'top=False<br>Comptage horaire=%{x}<br>Nom du compteur=%{y}<extra></extra>',\n",
    "##               'legendgroup': 'False',\n",
    "##               'marker': {'color': 'red', 'pattern': {'shape': ''}},\n",
    "##               'name': 'False',\n",
    "##               'offsetgroup': 'False',\n",
    "##               'orientation': 'h',\n",
    "##               'showlegend': True,\n",
    "##               'textposition': 'auto',\n",
    "##               'type': 'bar',\n",
    "##               'x': array([109.46284691, 117.18064259, 117.73088381, 119.2080183 , 124.3913649 ,\n",
    "##                           137.19387248, 140.21979212]),\n",
    "##               'xaxis': 'x',\n",
    "##               'y': array(['26 boulevard de Ménilmontant SE-NO',\n",
    "##                           '35 boulevard de Menilmontant NO-SE', '21 boulevard Saint Michel S-N',\n",
    "##                           '67 boulevard Voltaire SE-NO', '72 boulevard Voltaire NO-SE',\n",
    "##                           '102 boulevard de Magenta SE-NO', 'Totem 64 Rue de Rivoli O-E'],\n",
    "##                          dtype=object),\n",
    "##               'yaxis': 'y'},\n",
    "##              {'alignmentgroup': 'True',\n",
    "##               'hovertemplate': 'top=True<br>Comptage horaire=%{x}<br>Nom du compteur=%{y}<extra></extra>',\n",
    "##               'legendgroup': 'True',\n",
    "##               'marker': {'color': 'green', 'pattern': {'shape': ''}},\n",
    "##               'name': 'True',\n",
    "##               'offsetgroup': 'True',\n",
    "##               'orientation': 'h',\n",
    "##               'showlegend': True,\n",
    "##               'textposition': 'auto',\n",
    "##               'type': 'bar',\n",
    "##               'x': array([144.30319308, 147.89994441, 197.23860689]),\n",
    "##               'xaxis': 'x',\n",
    "##               'y': array(['89 boulevard de Magenta NO-SE', 'Totem 73 boulevard de Sébastopol N-S',\n",
    "##                           'Totem 73 boulevard de Sébastopol S-N'], dtype=object),\n",
    "##               'yaxis': 'y'}],\n",
    "##     'layout': {'barmode': 'relative',\n",
    "##                'legend': {'title': {'text': 'top'}, 'tracegroupgap': 0},\n",
    "##                'margin': {'t': 60},\n",
    "##                'template': '...',\n",
    "##                'title': {'text': 'Les 10 compteurs avec la moyenne horaire la plus élevée'},\n",
    "##                'xaxis': {'anchor': 'y',\n",
    "##                          'domain': [0.0, 1.0],\n",
    "##                          'title': {'text': 'Moyenne du comptage par heure sur la période sélectionnée'}},\n",
    "##                'yaxis': {'anchor': 'x', 'domain': [0.0, 1.0], 'title': {'text': 'Nom du compteur'}}}\n",
    "## })\n",
    "```"
   ]
  },
  {
   "cell_type": "code",
   "execution_count": null,
   "id": "3fbadbee",
   "metadata": {
    "lines_to_next_cell": 0
   },
   "outputs": [],
   "source": [
    "fig2.write_json(\"plotly2.json\")"
   ]
  },
  {
   "cell_type": "markdown",
   "id": "ac6f3e7b",
   "metadata": {},
   "source": []
  },
  {
   "cell_type": "markdown",
   "id": "a5369d2a",
   "metadata": {},
   "source": [
    "La première question permet de construire le graphique suivant:"
   ]
  },
  {
   "cell_type": "markdown",
   "id": "cbddb05b",
   "metadata": {},
   "source": [
    "Alors qu'avec le thème sombre (question 2), on obtient :"
   ]
  },
  {
   "cell_type": "markdown",
   "id": "a2181b70",
   "metadata": {},
   "source": [
    "# Exercices supplémentaires\n",
    "\n",
    "https://plotly.com/python/v3/3d-network-graph/"
   ]
  }
 ],
 "metadata": {
  "kernelspec": {
   "display_name": "Python 3",
   "language": "python",
   "name": "python3"
  }
 },
 "nbformat": 4,
 "nbformat_minor": 5
}
