{
  "cells": [
    {
      "cell_type": "raw",
      "metadata": {},
      "source": [
        "---\n",
        "title: \"De beaux graphiques avec python: mise en pratique\"\n",
        "date: 2020-09-24T13:00:00Z\n",
        "draft: false\n",
        "weight: 10\n",
        "slug: matplotlibTP\n",
        "type: book\n",
        "tags:\n",
        "  - Visualisation\n",
        "  - matplotlib\n",
        "  - seaborn\n",
        "  - Exercice\n",
        "categories:\n",
        "  - Visualisation\n",
        "  - Exercice\n",
        "summary: |\n",
        "  Une partie essentielle du travail du \n",
        "  _data-scientist_ est d'être en mesure\n",
        "  de synthétiser une information dans des\n",
        "  représentations graphiques percutantes. Ce\n",
        "  chapitre permet de découvrir\n",
        "  les fonctionalités graphiques de `matplotlib`,\n",
        "  `seaborn` et `plotly` pour représenter des statistiques\n",
        "  sur les décomptes de vélo à Paris.\n",
        "plotly: true\n",
        "image: featured.png\n",
        "---"
      ],
      "id": "0b76ce69"
    },
    {
      "cell_type": "markdown",
      "metadata": {},
      "source": [
        "::: {.cell .markdown}"
      ],
      "id": "5e31e9fa"
    },
    {
      "cell_type": "code",
      "metadata": {},
      "source": [
        "#| output: 'asis'\n",
        "#| include: true\n",
        "#| eval: true\n",
        "\n",
        "import sys\n",
        "sys.path.insert(1, '../../../../') #insert the utils module\n",
        "from utils import print_badges\n",
        "\n",
        "#print_badges(__file__)\n",
        "print_badges(\"content/course/visualisation/matplotlib.qmd\")"
      ],
      "id": "9e0de606",
      "execution_count": null,
      "outputs": []
    },
    {
      "cell_type": "markdown",
      "metadata": {},
      "source": [
        ":::\n",
        "\n",
        "\n",
        "La pratique de la visualisation se fera, dans ce cours, en répliquant des graphiques qu'on peut trouver sur\n",
        "la page de l'*open-data* de la ville de Paris \n",
        "[ici](https://opendata.paris.fr/explore/dataset/comptage-velo-donnees-compteurs/information/?disjunctive.id_compteur&disjunctive.nom_compteur&disjunctive.id&disjunctive.name).\n",
        "\n",
        "\n",
        "Ce TP vise à initier:\n",
        "\n",
        "* Aux packages [matplotlib](https://matplotlib.org/) et\n",
        "[seaborn](https://seaborn.pydata.org/) pour la construction de graphiques figés\n",
        "* Au package [plotly](https://plotly.com/python/) pour les graphiques \n",
        "dynamiques, au format HTML\n",
        "\n",
        "Nous verrons par la suite la manière de construire des cartes facilement avec\n",
        "des formats équivalents.\n",
        "\n",
        "Un sous-ensemble des données de [paris open data](https://opendata.paris.fr/explore/dataset/comptage-velo-donnees-compteurs/information/?disjunctive.id_compteur&disjunctive.nom_compteur&disjunctive.id&disjunctive.name) a été mis à disposition\n",
        "sur {{< githubrepo >}} pour faciliter l'import (élimination des colonnes\n",
        "qui ne nous serviront pas mais ralentissent l'import).\n"
      ],
      "id": "4d5b0621"
    },
    {
      "cell_type": "code",
      "metadata": {},
      "source": [
        "import matplotlib.pyplot as plt\n",
        "import seaborn as sns"
      ],
      "id": "03a4b807",
      "execution_count": null,
      "outputs": []
    },
    {
      "cell_type": "markdown",
      "metadata": {},
      "source": [
        "Etre capable de construire des visualisations de données\n",
        "intéressantes est une compétence nécessaire à tout\n",
        "_data-scientist_. Pour améliorer\n",
        "la qualité de ces visualisations, il est recommandé\n",
        "de suivre certains conseils donnés par des spécialistes\n",
        "de la _dataviz_ sur la sémiologie graphique.\n",
        "Les bonnes visualisations de données, comme celles du _New York Times_,\n",
        "reposent certes sur des outils adaptés (des librairies `JavaScript`)\n",
        "mais aussi sur certaines règles de représentation qui permettent\n",
        "de comprendre en quelques secondes le message d'une visualisation.\n",
        "Ce [post de blog](https://blog.datawrapper.de/text-in-data-visualizations/?utm_source=substack&utm_medium=email)\n",
        "est une ressource qu'il est utile de consulter régulièrement. \n",
        "\n",
        "## Premier graphique avec l'API `matplotlib` de `pandas`\n",
        "\n",
        "::: {.cell .markdown}\n",
        "\n",
        "```{=html}\n",
        "<div class=\"alert alert-success\" role=\"alert\" style=\"color: rgba(0,0,0,.8); background-color: white; margin-top: 1em; margin-bottom: 1em; margin:1.5625emauto; padding:0 .6rem .8rem!important;overflow:hidden; page-break-inside:avoid; border-radius:.25rem; box-shadow:0 .2rem .5rem rgba(0,0,0,.05),0 0 .05rem rgba(0,0,0,.1); transition:color .25s,background-color .25s,border-color .25s ; border-right: 1px solid #dee2e6 ; border-top: 1px solid #dee2e6 ; border-bottom: 1px solid #dee2e6 ; border-left:.2rem solid #3fb618;\">\n",
        "```\n",
        "\n",
        "\n",
        "**Exercice 1 : Importer les données et produire un premier graphique**\n",
        "\n",
        "1. Importer les données de compteurs de vélos. Vous pouvez utiliser l'url <https://github.com/linogaliana/python-datascientist/raw/master/data/bike.csv>. :warning: Il s'agit de données\n",
        "compressées au format `gzip`, il faut donc utiliser l'option `compression = 'gzip'`\n"
      ],
      "id": "8ad6ee00"
    },
    {
      "cell_type": "code",
      "metadata": {},
      "source": [
        "#1. Importation des données de vélo\n",
        "import pandas as pd\n",
        "df = pd.read_csv(\"https://github.com/linogaliana/python-datascientist/raw/master/data/bike.csv\", compression = 'gzip')\n",
        "df.head()"
      ],
      "id": "a3a0703a",
      "execution_count": null,
      "outputs": []
    },
    {
      "cell_type": "markdown",
      "metadata": {},
      "source": [
        "2. En premier lieu, sans se préoccuper des éléments de style ni des labels des\n",
        "graphiques, reproduire les deux premiers graphiques de la\n",
        "[page d'analyse des données](https://opendata.paris.fr/explore/dataset/comptage-velo-donnees-compteurs/dataviz/?disjunctive.id_compteur&disjunctive.nom_compteur&disjunctive.id&disjunctive.name):\n",
        "*Les 10 compteurs avec la moyenne horaire la plus élevée* et *Les 10 compteurs ayant comptabilisés le plus de vélos*. Les valeurs chiffrées des graphiques seront différentes de celles de la page en ligne, c'est normal, nous travaillons sur des données plus anciennes. \n"
      ],
      "id": "2bfe4e96"
    },
    {
      "cell_type": "code",
      "metadata": {},
      "source": [
        "#2. Reproduction des graphiques\n",
        "\n",
        "## Graphique 1 : Les 10 compteurs avec la moyenne horaire la plus élevée\n",
        "df1 = df.groupby('Nom du compteur').agg({'Comptage horaire': \"mean\"}).sort_values('Comptage horaire', ascending = False).head(10)\n",
        "p1 = df1.sort_values('Comptage horaire').plot(kind = \"barh\", figsize = (25,5), color = 'red')\n",
        "p1\n",
        "\n",
        "## Graphique 2 : Les 10 compteurs ayant comptabilisés le plus de vélos\n",
        "df2 = df.groupby('Nom du compteur').agg({'Comptage horaire': \"sum\"}).sort_values('Comptage horaire', ascending = False).head(10)\n",
        "p2 = df2.sort_values('Comptage horaire').plot(kind = \"barh\", figsize = (25,5), color = 'green')\n",
        "p2"
      ],
      "id": "f81c0e3a",
      "execution_count": null,
      "outputs": []
    },
    {
      "cell_type": "code",
      "metadata": {},
      "source": [
        "p1.get_figure()"
      ],
      "id": "fd30157b",
      "execution_count": null,
      "outputs": []
    },
    {
      "cell_type": "code",
      "metadata": {},
      "source": [
        "p2.get_figure()"
      ],
      "id": "9e0281ea",
      "execution_count": null,
      "outputs": []
    },
    {
      "cell_type": "markdown",
      "metadata": {},
      "source": [
        "```{=html}\n",
        "</div>\n",
        "```\n",
        "\n",
        ":::\n",
        "\n",
        "::: {.cell .markdown}\n",
        "\n",
        "```{=html}\n",
        "<div class=\"alert alert-info\" role=\"alert\" style=\"color: rgba(0,0,0,.8); background-color: white; margin-top: 1em; margin-bottom: 1em; margin:1.5625emauto; padding:0 .6rem .8rem!important;overflow:hidden; page-break-inside:avoid; border-radius:.25rem; box-shadow:0 .2rem .5rem rgba(0,0,0,.05),0 0 .05rem rgba(0,0,0,.1); transition:color .25s,background-color .25s,border-color .25s ; border-right: 1px solid #dee2e6 ; border-top: 1px solid #dee2e6 ; border-bottom: 1px solid #dee2e6 ; border-left:.2rem solid #007bff80;\">\n",
        "```\n",
        "\n",
        "\n",
        "Pour obtenir un graphique ordonné du plus grand au plus petit, il faut avoir les données ordonnées du plus petit au\n",
        "plus grand. C'est bizarre mais c'est comme ça...\n",
        "\n",
        "\n",
        "```{=html}\n",
        "</div>\n",
        "```\n",
        "\n",
        ":::\n",
        "\n",
        "\n",
        "\n",
        "On peut remarquer plusieurs éléments problématiques (par exemple les labels) mais\n",
        "aussi des éléments ne correspondant pas (les titres des axes, etc.) ou \n",
        "manquants (le nom du graphique...)\n",
        "\n",
        "Comme les graphiques produits par `pandas` suivent la logique très flexible\n",
        "de `matplotlib`, il est possible de les customiser. Cependant, c'est\n",
        "souvent beaucoup de travail et il peut être préférable de directement\n",
        "utiliser *seaborn*, qui offre quelques arguments prêts à l'emploi.\n",
        "\n",
        "\n",
        "## Utiliser directement `seaborn`\n",
        "\n",
        "Vous pouvez repartir des deux dataframes précédents. On va suppose qu'ils se\n",
        "nomment `df1` et `df2`. \n",
        "\n",
        "::: {.cell .markdown}\n",
        "\n",
        "```{=html}\n",
        "<div class=\"alert alert-success\" role=\"alert\" style=\"color: rgba(0,0,0,.8); background-color: white; margin-top: 1em; margin-bottom: 1em; margin:1.5625emauto; padding:0 .6rem .8rem!important;overflow:hidden; page-break-inside:avoid; border-radius:.25rem; box-shadow:0 .2rem .5rem rgba(0,0,0,.05),0 0 .05rem rgba(0,0,0,.1); transition:color .25s,background-color .25s,border-color .25s ; border-right: 1px solid #dee2e6 ; border-top: 1px solid #dee2e6 ; border-bottom: 1px solid #dee2e6 ; border-left:.2rem solid #3fb618;\">\n",
        "```\n",
        "\n",
        "\n",
        "**Exercice 2 : Un peu de style !**\n",
        "\n",
        "Il y a plusieurs manières de faire un *bar* plot en `seaborn`. La plus flexible,\n",
        "c'est-à-dire celle qui permet le mieux d'interagir avec `matplotlib` est\n",
        "`catplot`\n",
        "\n",
        "1. Réinitialiser l'index des df pour avoir une colonne *'Nom du compteur'*\n"
      ],
      "id": "e3fad31b"
    },
    {
      "cell_type": "code",
      "metadata": {},
      "source": [
        "# 1. Réinitialiser les index.\n",
        "df1 = df1.reset_index()\n",
        "df2 = df2.reset_index()"
      ],
      "id": "db934deb",
      "execution_count": null,
      "outputs": []
    },
    {
      "cell_type": "markdown",
      "metadata": {},
      "source": [
        "2. Refaire le graphique précédent avec la fonction `catplot` de `seaborn`. Pour\n",
        "contrôler la taille du graphique vous pouvez utiliser les arguments `height` et\n",
        "`aspect`.\n"
      ],
      "id": "f291d72b"
    },
    {
      "cell_type": "code",
      "metadata": {},
      "source": [
        "# 2. Graphique avec sns.catplot\n",
        "g = sns.catplot(x='Comptage horaire', y='Nom du compteur', data=df1, kind = \"bar\", height = 5, aspect = 4, color = \"red\")\n",
        "g"
      ],
      "id": "a029ab0d",
      "execution_count": null,
      "outputs": []
    },
    {
      "cell_type": "markdown",
      "metadata": {},
      "source": [
        "3. Ajouter les titres des axes et le titre du graphique pour le premier graphique\n"
      ],
      "id": "2f97c937"
    },
    {
      "cell_type": "code",
      "metadata": {},
      "source": [
        "# 3. Ajout d'éléments de légende\n",
        "g = sns.catplot(x='Comptage horaire', y='Nom du compteur', data=df1, kind = \"bar\", height = 5, aspect = 4, color = \"red\")\n",
        "g.set_axis_labels('Moyenne du comptage par heure sur la période sélectionnée', 'Nom du compteur')\n",
        "plt.title('Les 10 compteurs avec la moyenne horaire la plus élevée')\n",
        "g"
      ],
      "id": "9204d821",
      "execution_count": null,
      "outputs": []
    },
    {
      "cell_type": "code",
      "metadata": {},
      "source": [
        "g.figure.get_figure()"
      ],
      "id": "529c665b",
      "execution_count": null,
      "outputs": []
    },
    {
      "cell_type": "markdown",
      "metadata": {},
      "source": [
        "4. Refaites l'exercice avec la fonction `sns.barplot`.\n"
      ],
      "id": "21fd7326"
    },
    {
      "cell_type": "code",
      "metadata": {},
      "source": [
        "# 4. Utilisation de sns.barplot\n",
        "plt.figure(figsize=(20,5))\n",
        "g = sns.barplot(x='Comptage horaire', y='Nom du compteur', data=df1, color = \"red\")\n",
        "g\n",
        "plt.xlabel('Moyenne du comptage par heure sur la période sélectionnée', size = 24)\n",
        "plt.xlabel('Nom du compteur', size = 24)\n",
        "plt.title('Les 10 compteurs avec la moyenne horaire la plus élevée', size=24)\n",
        "plt.show()"
      ],
      "id": "bf6a2882",
      "execution_count": null,
      "outputs": []
    },
    {
      "cell_type": "code",
      "metadata": {},
      "source": [
        "g.figure.get_figure()"
      ],
      "id": "f17d81a0",
      "execution_count": null,
      "outputs": []
    },
    {
      "cell_type": "code",
      "metadata": {},
      "source": [
        "g.figure.get_figure().savefig('featured.png')"
      ],
      "id": "e6cc868b",
      "execution_count": null,
      "outputs": []
    },
    {
      "cell_type": "markdown",
      "metadata": {},
      "source": [
        "5. Essayez de colorer en rouge l'axe des `x`. Vous pouvez pré-définir un\n",
        "style avec `sns.set_style(\"ticks\", {\"xtick.color\": \"red\"})`\n"
      ],
      "id": "c4ff956e"
    },
    {
      "cell_type": "code",
      "metadata": {},
      "source": [
        "# 5. Coloration en rouge de l'axe des x.\n",
        "sns.set_style(\"ticks\", {\"xtick.color\": \"red\"})\n",
        "g = sns.catplot(x='Comptage horaire', y='Nom du compteur', data=df1, kind = \"bar\", height = 10, aspect = 2, color = \"red\")\n",
        "g.set_axis_labels('Moyenne du comptage par heure sur la période sélectionnée', 'Nom du compteur')\n",
        "plt.title('Les 10 compteurs avec la moyenne horaire la plus élevée')\n",
        "plt.savefig('top10_sns.png', bbox_inches='tight')"
      ],
      "id": "40a0684c",
      "execution_count": null,
      "outputs": []
    },
    {
      "cell_type": "code",
      "metadata": {},
      "source": [
        "g.figure.get_figure()"
      ],
      "id": "9f6f4526",
      "execution_count": null,
      "outputs": []
    },
    {
      "cell_type": "markdown",
      "metadata": {},
      "source": [
        "```{=html}\n",
        "</div>\n",
        "```\n",
        "\n",
        ":::\n",
        "\n",
        "\n",
        "\n",
        "\n",
        "\n",
        "\n",
        "\n",
        "::: {.cell .markdown}\n",
        "\n",
        "```{=html}\n",
        "<div class=\"alert alert-success\" role=\"alert\" style=\"color: rgba(0,0,0,.8); background-color: white; margin-top: 1em; margin-bottom: 1em; margin:1.5625emauto; padding:0 .6rem .8rem!important;overflow:hidden; page-break-inside:avoid; border-radius:.25rem; box-shadow:0 .2rem .5rem rgba(0,0,0,.05),0 0 .05rem rgba(0,0,0,.1); transition:color .25s,background-color .25s,border-color .25s ; border-right: 1px solid #dee2e6 ; border-top: 1px solid #dee2e6 ; border-bottom: 1px solid #dee2e6 ; border-left:.2rem solid #3fb618;\">\n",
        "```\n",
        "\n",
        "\n",
        "**Exercice 3 : Refaire les graphiques**\n",
        "\n",
        "1. Refaire le graphique *Les 10 compteurs ayant comptabilisé le plus de vélos*\n"
      ],
      "id": "5543ed58"
    },
    {
      "cell_type": "code",
      "metadata": {},
      "source": [
        "# 1. Refaire le graphique : Les 10 compteurs ayant comptabilisés le plus de vélos\n",
        "sns.set_style(\"ticks\", {\"xtick.color\": \"green\"})\n",
        "g = sns.catplot(x='Comptage horaire', y='Nom du compteur', data=df2, kind = \"bar\", height = 5, aspect = 4, color = \"green\")\n",
        "g.set_axis_labels('La somme des vélos comptabilisés sur la période sélectionnée', 'Nom du compteur')\n",
        "plt.title('Les 10 compteurs ayant comptabilisés le plus de vélos')\n",
        "#plt.savefig('top10_bike.png', bbox_inches='tight')"
      ],
      "id": "c0ccf108",
      "execution_count": null,
      "outputs": []
    },
    {
      "cell_type": "code",
      "metadata": {},
      "source": [
        "g.figure.get_figure()"
      ],
      "id": "06646f8d",
      "execution_count": null,
      "outputs": []
    },
    {
      "cell_type": "markdown",
      "metadata": {},
      "source": [
        "2. Les graphiques qui suivent vont nécessiter un peu d'agilité dans la gestion des dates. Il faut en effet commencer par créer une variable temporelle (vous pouvez la nommer\n",
        "`timestamp`) et la transformer en variable mensuelle (grâce à\n",
        "`dt.to_period('M')`) et l'appeler `month`. Vous pouvez essayer de le faire vous même ou cliquer\n",
        "ci-dessous pour la solution.  \n",
        "\n",
        "<details><summary>Solution</summary>"
      ],
      "id": "d7801f98"
    },
    {
      "cell_type": "code",
      "metadata": {},
      "source": [
        "df['timestamp'] = pd.to_datetime(df['Date et heure de comptage'], format='%Y-%m-%dT%H:%M:%SZ', errors='coerce')\n",
        "df['month'] = df['timestamp'].dt.to_period('M')"
      ],
      "id": "08a4dea8",
      "execution_count": null,
      "outputs": []
    },
    {
      "cell_type": "markdown",
      "metadata": {},
      "source": [
        "</details>\n",
        "\n",
        "3. Refaire le graphique *Moyenne mensuelle des comptages vélos*. \n"
      ],
      "id": "3d9f40d3"
    },
    {
      "cell_type": "code",
      "metadata": {},
      "source": [
        "# 3. Refaire le graphique : Moyenne mensuelle des comptages vélos\n",
        "sns.set_style(\"whitegrid\")\n",
        "df3 = df.groupby('month').agg({'Comptage horaire':'mean'}).reset_index()\n",
        "g = sns.catplot(x='month', y='Comptage horaire', data=df3, kind = \"bar\", height = 5, aspect = 4, color = \"yellow\")\n",
        "g.set_axis_labels('Date et heure de comptage', 'Moyenne mensuelle du comptage par heure sur la période sélectionnée')\n",
        "plt.title('Moyenne mensuelle des comptages vélos')\n",
        "#plt.savefig('top10_bike_sns.png', bbox_inches='tight')"
      ],
      "id": "7847ffbe",
      "execution_count": null,
      "outputs": []
    },
    {
      "cell_type": "code",
      "metadata": {},
      "source": [
        "g.figure.get_figure()"
      ],
      "id": "4fe3f264",
      "execution_count": null,
      "outputs": []
    },
    {
      "cell_type": "markdown",
      "metadata": {},
      "source": [
        "4. Refaire le graphique *Moyenne journalière des comptages vélos* (créer d'abord une variable de jour avec `.dt.day`)\n"
      ],
      "id": "7b314733"
    },
    {
      "cell_type": "code",
      "metadata": {},
      "source": [
        "# 4. Refaire le graphique : Moyenne journalière des comptages vélos\n",
        "plt.clf()\n",
        "df['day'] = df.timestamp.dt.date\n",
        "df4 = df.groupby('day').agg({'Comptage horaire':'mean'}).reset_index()\n",
        "ax = sns.lineplot(x='day', y='Comptage horaire', data=df4, color = \"magenta\")\n",
        "l1 = ax.lines[0]\n",
        "x1 = l1.get_xydata()[:, 0]\n",
        "y1 = l1.get_xydata()[:, 1]\n",
        "ax.fill_between(x1, y1, color=\"magenta\", alpha=0.3)"
      ],
      "id": "8ddc6730",
      "execution_count": null,
      "outputs": []
    },
    {
      "cell_type": "code",
      "metadata": {},
      "source": [
        "ax.get_figure()"
      ],
      "id": "13e01531",
      "execution_count": null,
      "outputs": []
    },
    {
      "cell_type": "markdown",
      "metadata": {},
      "source": [
        "5. Refaire le graphique *Comptages vélo au cours des 7 derniers jours* (de l'échantillon)\n"
      ],
      "id": "185d136b"
    },
    {
      "cell_type": "code",
      "metadata": {},
      "source": [
        "# 5. Refaire le graphique : Comptages vélo au cours des 7 derniers jours\n",
        "df['Date'] = pd.to_datetime(df['day'])\n",
        "df['NewDate'] = pd.to_datetime(df.Date) - pd.to_timedelta(7, unit=\"D\")\n",
        "df5 = df[df.Date >= (max(df['NewDate']))]\n",
        "df5 = df5.groupby('Date').agg({'Comptage horaire': 'sum'}).reset_index()\n",
        "df5['date_formatted'] = df5['Date'].dt.strftime('%Y-%m-%d')\n",
        "g = sns.catplot(y='Comptage horaire', x='date_formatted', data=df5, kind = \"bar\", height = 10, aspect = 2, color = \"lightblue\")\n",
        "g"
      ],
      "id": "650644a3",
      "execution_count": null,
      "outputs": []
    },
    {
      "cell_type": "code",
      "metadata": {},
      "source": [
        "g.figure.get_figure()"
      ],
      "id": "7fca5785",
      "execution_count": null,
      "outputs": []
    },
    {
      "cell_type": "markdown",
      "metadata": {},
      "source": [
        "```{=html}\n",
        "</div>\n",
        "```\n",
        "\n",
        ":::\n",
        "\n",
        "\n",
        "## Des graphiques dynamiques avec `Plotly`\n",
        "\n",
        "Le package `Plotly` est une surcouche à la librairie Javascript \n",
        "`Plotly.js` qui permet de créer et manipuler des objets graphiques de manière\n",
        "très flexible afin de produire des objets réactifs sans avoir à recourir\n",
        "à Javascript.\n",
        "\n",
        "Le point d'entrée recommandé est le module `plotly.express`\n",
        "([documentation ici](https://plotly.com/python/plotly-express/)) qui offre une arborescence\n",
        "riche mais néanmoins intuitive pour construire des graphiques\n",
        "(objets `plotly.graph_objects.Figure`) pouvant être modifiés *a posteriori*\n",
        "si besoin (par exemple pour *customiser* les axes). \n",
        "\n",
        "### Comment visualiser un graphique `plotly` ?\n",
        "\n",
        "Dans un notebook Jupyter classique, les lignes suivantes de code permettent\n",
        "d'afficher le résultat d'une commande `Plotly` sous un bloc de code: \n",
        "\n",
        "~~~python\n",
        "from plotly.offline import init_notebook_mode\n",
        "init_notebook_mode(connected = True)\n",
        "~~~\n",
        "\n",
        "Pour `JupyterLab`, l'extension `jupyterlab-plotly` s'avère nécessaire:\n",
        "\n",
        "~~~python\n",
        "jupyter labextension install jupyterlab-plotly\n",
        "~~~\n",
        "\n",
        "Pour les utilisateurs de `python` via l'excellent package `R` `reticulate`, il\n",
        "est possible d'écrire le résultats dans un fichier `.html` et d'utiliser\n",
        "`htmltools::includeHTML` pour l'afficher via `R Markdown` (les utilisateurs\n",
        "de `R` trouveront bien-sûr une technique bien plus simple: utiliser\n",
        "directement le package `R` `plotly`...)\n",
        "\n",
        "\n",
        "### Réplication de l'exemple précédent avec `plotly`\n",
        "\n",
        "Les modules suivants seront nécessaires pour construire des graphiques\n",
        "avec `plotly`:\n"
      ],
      "id": "ecb76551"
    },
    {
      "cell_type": "code",
      "metadata": {},
      "source": [
        "import plotly\n",
        "import plotly.express as px\n",
        "from IPython.display import HTML #pour afficher les graphs\n",
        "# dans une cellule de notebook"
      ],
      "id": "e0c08dc1",
      "execution_count": null,
      "outputs": []
    },
    {
      "cell_type": "markdown",
      "metadata": {},
      "source": [
        "::: {.cell .markdown}\n",
        "\n",
        "```{=html}\n",
        "<div class=\"alert alert-success\" role=\"alert\" style=\"color: rgba(0,0,0,.8); background-color: white; margin-top: 1em; margin-bottom: 1em; margin:1.5625emauto; padding:0 .6rem .8rem!important;overflow:hidden; page-break-inside:avoid; border-radius:.25rem; box-shadow:0 .2rem .5rem rgba(0,0,0,.05),0 0 .05rem rgba(0,0,0,.1); transition:color .25s,background-color .25s,border-color .25s ; border-right: 1px solid #dee2e6 ; border-top: 1px solid #dee2e6 ; border-bottom: 1px solid #dee2e6 ; border-left:.2rem solid #3fb618;\">\n",
        "```\n",
        "\n",
        "\n",
        "**Exercice 4 : Premier graphique avec plotly**\n",
        "\n",
        "L'objectif est de reconstuire le premier diagramme en barre rouge avec `plotly`. \n",
        "\n",
        "1. Réalisez le graphique en utilisant la fonction adéquate avec `plotly.express` et...\n",
        "* Ne pas prendre le\n",
        "thème par défaut mais un à fond blanc, pour avoir un résultat ressemblant\n",
        "à celui proposé sur le site de l'*open-data*.\n",
        "* Pour la couleur rouge,\n",
        "vous pouvez utiliser l'argument `color_discrete_sequence`. \n",
        "* Ne pas oublier de nommer les axes\n",
        "* Pensez à la couleur du texte de l'axe inférieur\n"
      ],
      "id": "52e4747d"
    },
    {
      "cell_type": "code",
      "metadata": {},
      "source": [
        "# 1. Graphique avec fond blanc\n",
        "fig = px.bar(df1.sort_values('Comptage horaire', ascending=True), orientation='h', x='Comptage horaire',\n",
        "             y='Nom du compteur', color_discrete_sequence=[\"red\"], template=\"plotly_white\")\n",
        "\n",
        "fig.update_layout(\n",
        "    title='Les 10 compteurs avec la moyenne horaire la plus élevée',\n",
        "    xaxis_title='Moyenne du comptage par heure sur la période sélectionnée')\n",
        "fig.update_xaxes(title_font=dict(color='red'))\n",
        "\n",
        "#HTML(fig.to_html())\n",
        "\n",
        "# Pour inclusion dans le site web\n",
        "fig.write_json(\"plotly1.json\")"
      ],
      "id": "42b63dc9",
      "execution_count": null,
      "outputs": []
    },
    {
      "cell_type": "markdown",
      "metadata": {},
      "source": [
        "2. Tester un autre thème, à fond sombre. Pour les couleurs, faire un \n",
        "groupe stockant les trois plus fortes valeurs puis les autres.\n"
      ],
      "id": "fd79b876"
    },
    {
      "cell_type": "code",
      "metadata": {},
      "source": [
        "#2. Graphique avec thème sombre\n",
        "df1['top'] = df1['Comptage horaire'] > df1.sort_values('Comptage horaire', ascending=False)['Comptage horaire'][3]\n",
        "fig2 = px.bar(df1.sort_values('Comptage horaire', ascending=True), orientation='h', x='Comptage horaire',\n",
        "              y='Nom du compteur',  color='top', ## attention, l'argument color ne semble pas toujours fonctionner\n",
        "              template=\"plotly_dark\",\n",
        "              color_discrete_sequence=['red','green'])\n",
        "fig2.update_layout(\n",
        "    title='Les 10 compteurs avec la moyenne horaire la plus élevée',\n",
        "    xaxis_title='Moyenne du comptage par heure sur la période sélectionnée')\n",
        "\n",
        "#HTML(fig2.to_html())\n",
        "\n",
        "# Pour inclusion dans le site web\n",
        "fig2.write_json(\"plotly2.json\")"
      ],
      "id": "c9e397ab",
      "execution_count": null,
      "outputs": []
    },
    {
      "cell_type": "markdown",
      "metadata": {},
      "source": [
        "```{=html}\n",
        "</div>\n",
        "```\n",
        "\n",
        ":::\n",
        "\n",
        "La première question permet de construire le graphique suivant:\n",
        "\n",
        "\n",
        "{{< chart data=\"plotly1\" >}}\n",
        "\n",
        "\n",
        "\n",
        "Alors qu'avec le thème sombre (question 2), on obtient :\n",
        "\n",
        "\n",
        "{{< chart data=\"plotly2\" >}}\n",
        "\n",
        "\n",
        "\n",
        "# Exercices supplémentaires\n",
        "\n",
        "Pour ces exercices, il est recommandé de s'inspirer\n",
        "des modèles présents dans la librairie\n",
        "de graphiques `Python` présentée\n",
        "dans https://www.python-graph-gallery.com/\n",
        "\n",
        "## Les lollipop chart\n",
        "\n",
        "Cet exercice permet de s'entraîner\n",
        "sur le fichier des naissances et des\n",
        "décès de l'Insee. Il s'inspire d'une\n",
        "excellente visualisation faite\n",
        "par [Jean Dupin](https://www.jdupin.com/)\n",
        "sur `Twitter` mettant en avant l'évolution,\n",
        "année par année, des décomptes des\n",
        "personnes nommées _\"Jean\"_ parmi les\n",
        "personnes nées ou décédées:\n",
        "\n",
        "\n",
        "{{< tweet 1539567143972487169 >}}\n",
        "\n",
        "\n",
        "\n",
        "L'animation de Jean Dupin\n",
        "est beaucoup plus raffinée que\n",
        "celle que nous allons mettre en\n",
        "oeuvre. \n",
        "\n",
        "### Récupération des données\n",
        "\n",
        "La récupération des données étant un peu complexe,\n",
        "le code est donné pour vous permettre de vous\n",
        "concentrer sur l'essentiel (si vous\n",
        "voulez vous exercer avec le package `requests`, \n",
        "essayez de le faire vous-même).\n",
        "\n",
        "Les données des décès sont disponibles de manière \n",
        "historique dans des zip pour chaque année.\n"
      ],
      "id": "66a0a184"
    },
    {
      "cell_type": "code",
      "metadata": {},
      "source": [
        "#| label: import-death\n",
        "#| eval: false\n",
        "\n",
        "import shutil\n",
        "import requests\n",
        "import zipfile\n",
        "import os\n",
        "import glob\n",
        "import pandas as pd\n",
        "\n",
        "def import_by_decade(decennie = 1970):\n",
        "\n",
        "    url = f\"https://www.insee.fr/fr/statistiques/fichier/4769950/deces-{decennie}-{decennie+9}-csv.zip\"\n",
        "\n",
        "    req = requests.get(url)\n",
        "\n",
        "    with open(f\"deces_{decennie}.zip\",'wb') as f:\n",
        "        f.write(req.content)\n",
        "\n",
        "    with zipfile.ZipFile(f\"deces_{decennie}.zip\", 'r') as zip_ref:\n",
        "        zip_ref.extractall(f\"deces_{decennie}\")\n",
        "\n",
        "    csv_files = glob.glob(os.path.join(f\"deces_{decennie}\", \"*.csv\"))\n",
        "\n",
        "    df = [pd.read_csv(f, sep = \";\", encoding=\"utf-8\").assign(annee = f) for f in csv_files]\n",
        "    df = pd.concat(df)\n",
        "    df[['nom','prenom']] = df['nomprenom'].str.split(\"*\", expand=True)\n",
        "    df['prenom'] = df['prenom'].str.replace(\"/\",\"\")\n",
        "    df['annee'] = df['annee'].str.rsplit(\"/\").str[-1].str.replace(\"(Deces_|.csv|deces-)\",\"\").astype(int)\n",
        "\n",
        "    shutil.rmtree(f\"deces_{decennie}\")    \n",
        "    os.remove(f\"deces_{decennie}.zip\")\n",
        "\n",
        "    return df\n",
        "\n",
        "\n",
        "dfs = [import_by_decade(d) for d in [1970, 1980, 1990, 2000, 2010]]\n",
        "deces = pd.concat(dfs)"
      ],
      "id": "import-death",
      "execution_count": null,
      "outputs": []
    },
    {
      "cell_type": "markdown",
      "metadata": {},
      "source": [
        "Le fichier des naissances est plus simple à récupérer. \n",
        "Voici le code pour l'obtenir:\n"
      ],
      "id": "c6ea9125"
    },
    {
      "cell_type": "code",
      "metadata": {},
      "source": [
        "#| label: import-birth\n",
        "#| eval: false\n",
        "\n",
        "year = 2021\n",
        "url_naissance = f\"https://www.insee.fr/fr/statistiques/fichier/2540004/nat{year}_csv.zip\"\n",
        "\n",
        "req = requests.get(url_naissance)\n",
        "\n",
        "with open(f\"naissance_{year}.zip\",'wb') as f:\n",
        "    f.write(req.content)\n",
        "\n",
        "with zipfile.ZipFile(f\"naissance_{year}.zip\", 'r') as zip_ref:\n",
        "    zip_ref.extractall(f\"naissance_{year}\")\n",
        "\n",
        "naissance = pd.read_csv(f\"naissance_{year}/nat{year}.csv\", sep = \";\")\n",
        "naissance = naissance.dropna(subset = ['preusuel'] )"
      ],
      "id": "import-birth",
      "execution_count": null,
      "outputs": []
    },
    {
      "cell_type": "markdown",
      "metadata": {},
      "source": [
        "On peut enfin restructurer les `DataFrames` pour obtenir un\n",
        "seul jeu de données, en se restreignant aux _\"JEAN\"_:\n"
      ],
      "id": "dddd024b"
    },
    {
      "cell_type": "code",
      "metadata": {},
      "source": [
        "#| label: restructure\n",
        "#| eval: false\n",
        "\n",
        "jean_naiss = naissance.loc[naissance['preusuel'] == \"JEAN\"].loc[:, ['annais', 'nombre']]\n",
        "jean_naiss = jean_naiss.rename({\"annais\": \"annee\"}, axis = \"columns\")\n",
        "jean_naiss = jean_naiss.groupby('annee').sum().reset_index()\n",
        "jean_deces = deces.loc[deces[\"prenom\"] == \"JEAN\"]\n",
        "jean_deces = jean_deces.groupby('annee').size().reset_index()\n",
        "jean_deces.columns = ['annee', \"nombre\"]\n",
        "jean_naiss.columns = ['annee', \"nombre\"]\n",
        "df = pd.concat(\n",
        "    [\n",
        "        jean_deces.assign(source = \"deces\"),\n",
        "        jean_naiss.assign(source = \"naissance\")\n",
        "    ])\n",
        "df = df.loc[df['annee'] != \"XXXX\"]\n",
        "df['annee']=df['annee'].astype(int)\n",
        "df = df.loc[df['annee'] > 1971]\n",
        "\n",
        "df.head(3)"
      ],
      "id": "restructure",
      "execution_count": null,
      "outputs": []
    },
    {
      "cell_type": "code",
      "metadata": {},
      "source": [
        "#| label: get-from-minio\n",
        "\n",
        "import pyarrow as pa\n",
        "import pyarrow.parquet as pq\n",
        "from pyarrow import fs\n",
        "\n",
        "#bucket = \"lgaliana\"\n",
        "#s3 = fs.S3FileSystem(endpoint_override=\"https://\"+\"minio.lab.sspcloud.fr\")\n",
        "#df = pq.read_pandas(f'{bucket}/diffusion/prenoms.parquet', filesystem=s3).to_pandas()\n",
        "\n",
        "import requests\n",
        "req = requests.get(\"https://minio.lab.sspcloud.fr/lgaliana/diffusion/prenoms.parquet\")\n",
        "\n",
        "with open(f\"prenoms.parquet\",'wb') as f:\n",
        "    f.write(req.content)\n",
        "\n",
        "df = pq.read_pandas(\"prenoms.parquet\").to_pandas()\n",
        "df.head(3)"
      ],
      "id": "get-from-minio",
      "execution_count": null,
      "outputs": []
    },
    {
      "cell_type": "markdown",
      "metadata": {},
      "source": [
        "## Représentation graphique\n",
        "\n",
        "Vous pouvez vous aider du modèle présent\n",
        "dans https://www.python-graph-gallery.com\n",
        "\n",
        "::: {.cell .markdown}\n",
        "\n",
        "```{=html}\n",
        "<div class=\"alert alert-success\" role=\"alert\" style=\"color: rgba(0,0,0,.8); background-color: white; margin-top: 1em; margin-bottom: 1em; margin:1.5625emauto; padding:0 .6rem .8rem!important;overflow:hidden; page-break-inside:avoid; border-radius:.25rem; box-shadow:0 .2rem .5rem rgba(0,0,0,.05),0 0 .05rem rgba(0,0,0,.1); transition:color .25s,background-color .25s,border-color .25s ; border-right: 1px solid #dee2e6 ; border-top: 1px solid #dee2e6 ; border-bottom: 1px solid #dee2e6 ; border-left:.2rem solid #3fb618;\">\n",
        "```\n",
        "\n",
        "icon=\"fas fa-pencil-alt\" %}}\n",
        "\n",
        "Pour commencer, on va se concentrer sur la \n",
        "production d'un seul graphique\n",
        "(décès ou naissance, vous choisissez)\n",
        "\n",
        "1. Créer un objet `df_plot` qui se restreint à une\n",
        "source\n",
        "2. Fixer une année sous le nom `max_year` (par exemple\n",
        "votre année de naissance). Elle servira ensuite de paramètre\n",
        "à une fonction\n",
        "3. Restreindre `df_plot` aux années antérieures à `max_year`\n",
        "4. Créer une variable `my_range` fixant la séquence des années\n",
        "entre la plus petite année du dataset et `max_year` (inclus)\n",
        "5. Créer un array numpy qui vaut `orange` lorsque l'observation\n",
        "en question est `max_year` et `skyblue` sinon\n",
        "6. Utiliser les fonctions adéquates de `matplotlib` pour créer\n",
        "le _lollipop chart_\n",
        "\n",
        "```{=html}\n",
        "</div>\n",
        "```\n",
        "\n",
        ":::\n",
        "\n",
        "A ce stade, vous devriez avoir une version fonctionnelle\n",
        "qui peut servir de\n",
        "base à la généralisation. \n"
      ],
      "id": "b69427ea"
    },
    {
      "cell_type": "code",
      "metadata": {},
      "source": [
        "import numpy as np\n",
        "import matplotlib.pyplot as plt\n",
        "\n",
        "def plot_jean_year(df, max_year, savefig = True):\n",
        "    \n",
        "    fig, axes = plt.subplots(1, 2, sharey = True)\n",
        "\n",
        "    for x, source in enumerate(df.source.value_counts().index.values):        \n",
        "        df_plot = df.loc[df['source'] == source]\n",
        "        # Reorder it based on values:\n",
        "        ordered_df = df_plot.copy()#.sort_values(by='nombre')\n",
        "\n",
        "        ordered_df = ordered_df.loc[ordered_df['annee']<=max_year]\n",
        "        my_range=range(ordered_df.annee.min(), max_year + 1)\n",
        "        my_color=np.where(ordered_df['annee']==max_year, 'orange', 'skyblue')\n",
        "\n",
        "        # The horizontal plot is made using the hline() function\n",
        "        axes[x].hlines(y=my_range, xmin=0, xmax=ordered_df['nombre'], color = my_color, alpha=0.4)\n",
        "        axes[x].scatter(ordered_df['nombre'], my_range, color = my_color, alpha=1) \n",
        "        axes[x].set_title(f'{source.upper()}',\n",
        "                    fontsize = 14)\n",
        "        axes[x].set_ylim([1972, 2016])\n",
        "        axes[x].set_xlim([0, 5000])\n",
        "        if savefig:\n",
        "          fig.savefig(f'figure_{max_year}.png', bbox_inches='tight')"
      ],
      "id": "6eb9bb67",
      "execution_count": null,
      "outputs": []
    },
    {
      "cell_type": "markdown",
      "metadata": {},
      "source": [
        "::: {.cell .markdown}\n",
        "\n",
        "```{=html}\n",
        "<div class=\"alert alert-success\" role=\"alert\" style=\"color: rgba(0,0,0,.8); background-color: white; margin-top: 1em; margin-bottom: 1em; margin:1.5625emauto; padding:0 .6rem .8rem!important;overflow:hidden; page-break-inside:avoid; border-radius:.25rem; box-shadow:0 .2rem .5rem rgba(0,0,0,.05),0 0 .05rem rgba(0,0,0,.1); transition:color .25s,background-color .25s,border-color .25s ; border-right: 1px solid #dee2e6 ; border-top: 1px solid #dee2e6 ; border-bottom: 1px solid #dee2e6 ; border-left:.2rem solid #3fb618;\">\n",
        "```\n",
        "\n",
        "icon=\"fas fa-pencil-alt\" %}}\n",
        "\n",
        "\n",
        "1. A partir du code précédent, généraliser en utilisant\n",
        "une boucle `for` à partir du résultat de\n",
        "`enumerate(df.source.value_counts().index.values)` pour\n",
        "créer un graphique pour une année donnée de `maxyear`.\n",
        "Avant cette boucle, ne pas oublier de créer un objet\n",
        "`matplotlib` vide à remplir dans la boucle\n",
        "\n",
        "```python\n",
        "fig, axes = plt.subplots(1, 2, sharey = True)\n",
        "```\n",
        "\n",
        "2. Encapsuler ce code dans une fonction qui\n",
        "prend en argument un `DataFrame` et une\n",
        "année `max_year`\n",
        "\n",
        "Voici un exemple d'output pour `max_year = 2010`:\n"
      ],
      "id": "b8492d40"
    },
    {
      "cell_type": "code",
      "metadata": {},
      "source": [
        "#| label: example-function\n",
        "plot_jean_year(df, 2010, savefig = False)"
      ],
      "id": "example-function",
      "execution_count": null,
      "outputs": []
    },
    {
      "cell_type": "markdown",
      "metadata": {},
      "source": [
        "3. Pour créer une animation, on propose\n",
        "d'utiliser la solution présentée\n",
        "dans https://www.python-graph-gallery.com/animation/.\n",
        "et qui nécessite le logiciel `imagemagick`.\n",
        "Sauvegarder chaque itération dans un fichier\n",
        "dont le nom a la structure `figure_{year}.png`. \n"
      ],
      "id": "fc6844fb"
    },
    {
      "cell_type": "code",
      "metadata": {},
      "source": [
        "#| output: false\n",
        "[plot_jean_year(df, t) for t in range(1972,2016)]"
      ],
      "id": "a79484fd",
      "execution_count": null,
      "outputs": []
    },
    {
      "cell_type": "markdown",
      "metadata": {},
      "source": [
        "Enfin, pour animer les images, on peut utiliser\n",
        "la librairie `imageio`:\n"
      ],
      "id": "0729e468"
    },
    {
      "cell_type": "code",
      "metadata": {},
      "source": [
        "import glob\n",
        "import imageio.v2 as imageio\n",
        "#os.system(\"convert -delay 15 figure_*.png animation.gif\")\n",
        "\n",
        "filenames=glob.glob(\"figure_*.png\")\n",
        "filenames.sort()\n",
        "\n",
        "with imageio.get_writer('animation.gif', mode='I') as writer:\n",
        "    for filename in filenames:\n",
        "        image = imageio.imread(filename)\n",
        "        writer.append_data(image)"
      ],
      "id": "d16b68e0",
      "execution_count": null,
      "outputs": []
    },
    {
      "cell_type": "markdown",
      "metadata": {},
      "source": [
        "L'animation obtenue est la suivante:\n",
        "\n",
        "![Animation](animation.gif)\n",
        "\n",
        "\n",
        "```{=html}\n",
        "</div>\n",
        "```\n",
        "\n",
        ":::\n",
        "\n",
        "\n",
        "\n",
        "\n",
        "# Exercices supplémentaires\n",
        "\n",
        "https://plotly.com/python/v3/3d-network-graph/\n",
        "\n",
        "# Ressources supplémentaires\n",
        "\n",
        "- [Un post de datawrapper sur les textes dans les visualisations de données](https://blog.datawrapper.de/text-in-data-visualizations/?utm_source=substack&utm_medium=email)"
      ],
      "id": "430d0ed5"
    }
  ],
  "metadata": {
    "kernelspec": {
      "name": "python3",
      "language": "python",
      "display_name": "Python 3 (ipykernel)"
    }
  },
  "nbformat": 4,
  "nbformat_minor": 5
}