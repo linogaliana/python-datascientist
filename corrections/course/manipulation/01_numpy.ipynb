{
  "cells": [
    {
      "cell_type": "raw",
      "metadata": {},
      "source": [
        "---\n",
        "title: \"Retour sur numpy\"\n",
        "date: 2020-07-16T13:00:00Z\n",
        "draft: false\n",
        "weight: 10\n",
        "tags:\n",
        "  - numpy\n",
        "  - Tutoriel\n",
        "  - Manipulation\n",
        "categories:\n",
        "  - Tutoriel\n",
        "  - Manipulation\n",
        "slug: \"numpy\"\n",
        "type: book\n",
        "summary: |\n",
        "  `numpy` constitue la brique de base de l'écosystème de la _data-science_ en\n",
        "  `Python`. Toutes les librairies de manipulation de données, de modélisation\n",
        "  et de visualisation reposent, de manière plus ou moins directe, sur `numpy`.\n",
        "  Il est donc indispensable de revoir quelques notions sur ce package avant\n",
        "  d'aller plus loin.\n",
        "image: featured.png\n",
        "---"
      ],
      "id": "3f507b81"
    },
    {
      "cell_type": "markdown",
      "metadata": {},
      "source": [
        "Pour essayer les exemples présents dans ce tutoriel : \n",
        "\n",
        "::: {.cell .markdown}"
      ],
      "id": "2ce6ee7f"
    },
    {
      "cell_type": "code",
      "metadata": {},
      "source": [
        "#| output: 'asis'\n",
        "#| include: true\n",
        "#| eval: true\n",
        "\n",
        "import sys\n",
        "sys.path.insert(1, '../../../../') #insert the utils module\n",
        "from utils import print_badges\n",
        "\n",
        "#print_badges(__file__)\n",
        "print_badges(\"content/course/manipulation/01_numpy.qmd\")"
      ],
      "id": "b20196c1",
      "execution_count": null,
      "outputs": []
    },
    {
      "cell_type": "markdown",
      "metadata": {},
      "source": [
        ":::\n",
        "\n",
        "Il est recommandé de régulièrement se référer à\n",
        "la [cheatsheet numpy](https://www.datacamp.com/community/blog/python-numpy-cheat-sheet) et à la\n",
        "[doc officielle](https://numpy.org/doc/stable/) en cas de doute\n",
        "sur une fonction. \n",
        "\n",
        "Dans ce chapitre, on ne dérogera pas à la convention qui s'est imposée\n",
        "d'importer `numpy` de la\n",
        "manière suivante:\n"
      ],
      "id": "56de1450"
    },
    {
      "cell_type": "code",
      "metadata": {},
      "source": [
        "import numpy as np"
      ],
      "id": "e5f3663f",
      "execution_count": null,
      "outputs": []
    },
    {
      "cell_type": "markdown",
      "metadata": {},
      "source": [
        "Nous allons également fixer la racine du générateur aléatoire de nombres\n",
        "afin d'avoir des résultats reproductibles:\n"
      ],
      "id": "25f89583"
    },
    {
      "cell_type": "code",
      "metadata": {},
      "source": [
        "np.random.seed(12345)"
      ],
      "id": "1be0b9ce",
      "execution_count": null,
      "outputs": []
    },
    {
      "cell_type": "markdown",
      "metadata": {},
      "source": [
        "::: {.cell .markdown}\n",
        "\n",
        "```{=html}\n",
        "<div class=\"alert alert-info\" role=\"alert\" style=\"color: rgba(0,0,0,.8); background-color: white; margin-top: 1em; margin-bottom: 1em; margin:1.5625emauto; padding:0 .6rem .8rem!important;overflow:hidden; page-break-inside:avoid; border-radius:.25rem; box-shadow:0 .2rem .5rem rgba(0,0,0,.05),0 0 .05rem rgba(0,0,0,.1); transition:color .25s,background-color .25s,border-color .25s ; border-right: 1px solid #dee2e6 ; border-top: 1px solid #dee2e6 ; border-bottom: 1px solid #dee2e6 ; border-left:.2rem solid #007bff80;\">\n",
        "<h3 class=\"alert-heading\"><i class=\"fa fa-comment\"></i> Note</h3>\n",
        "```\n",
        "\n",
        "\n",
        "Les auteurs\n",
        "de `numpy` [préconisent désormais](https://numpy.org/doc/stable/reference/random/index.html)\n",
        "de privilégier l'utilisation de\n",
        "générateurs via la fonction `default_rng()` plutôt que la simple utilisation de `numpy.random`.\n",
        "\n",
        "Afin d'être en phase avec les codes qu'on peut trouver partout sur internet, nous \n",
        "conservons encore `np.random.seed` mais cela peut être amené à évoluer.\n",
        "\n",
        "\n",
        "```{=html}\n",
        "</div>\n",
        "```\n",
        "\n",
        ":::\n",
        "\n",
        "\n",
        "Si les scripts suivants sont exécutés dans un `Notebook Jupyter`,\n",
        "il est recommandé d'utiliser les paramètres suivants\n",
        "pour contrôler le rendu:\n",
        "\n",
        "~~~python\n",
        "from IPython.core.interactiveshell import InteractiveShell\n",
        "InteractiveShell.ast_node_interactivity = \"all\"\n",
        "~~~\n",
        "\n",
        "\n",
        "## Le concept d'array\n",
        "\n",
        "Le concept central de `NumPy` (`Numerical Python`) est\n",
        "l'**`array`** qui est un tableau de données multidimensionnel.\n",
        "\n",
        "L'array `numpy` peut être unidimensionnel et s'apparenter à un\n",
        "vecteur (`1d-array`),\n",
        "bidimensionnel et ainsi s'apparenter à une matrice (`2d-array`) ou,\n",
        "de manière plus générale, \n",
        "prendre la forme d'un objet\n",
        "multidimensionnel (`Nd-array`). \n",
        "\n",
        "Les tableaux simples (uni ou bi-dimensionnels) sont faciles à se représenter et seront particulièrement\n",
        "utilisés dans le paradigme des DataFrames mais \n",
        "la possibilité d'avoir des objets multidimensionnels permettra d'exploiter des\n",
        "structures très complexes.\n",
        "\n",
        "Un DataFrame sera construit à partir d'une collection\n",
        "d'array uni-dimensionnels (les variables de la table), ce qui permettra d'effectuer des opérations cohérentes\n",
        "(et optimisées) avec le type de la variable.\n",
        "\n",
        "\n",
        "Par rapport à une liste,\n",
        "\n",
        "* un *array* ne peut contenir qu'un type de données (`integer`, `string`, etc.),\n",
        " contrairement à une liste.\n",
        "* les opérations implémentées par `numpy` seront plus efficaces et demanderont moins\n",
        "de mémoire\n",
        "\n",
        "\n",
        "\n",
        "Les données géographiques constitueront une construction un peu plus complexe qu'un `DataFrame` traditionnel. \n",
        "La dimension géographique prend la forme d'un tableau plus profond, au moins bidimensionnel\n",
        "(coordonnées d'un point). \n",
        "\n",
        "\n",
        "## Créer un array\n",
        "\n",
        "On peut créer un `array` de plusieurs manières. Pour créer un `array` à partir d'une liste,\n",
        "il suffit d'utiliser la méthode `array`:\n"
      ],
      "id": "10a6e3e2"
    },
    {
      "cell_type": "code",
      "metadata": {},
      "source": [
        "np.array([1,2,5])"
      ],
      "id": "ca5d0b91",
      "execution_count": null,
      "outputs": []
    },
    {
      "cell_type": "markdown",
      "metadata": {},
      "source": [
        "Il est possible d'ajouter un argument `dtype` pour contraindre le type du *array*:\n"
      ],
      "id": "cec68047"
    },
    {
      "cell_type": "code",
      "metadata": {},
      "source": [
        "np.array([[\"a\",\"z\",\"e\"],[\"r\",\"t\"],[\"y\"]], dtype=\"object\")"
      ],
      "id": "f975bc18",
      "execution_count": null,
      "outputs": []
    },
    {
      "cell_type": "markdown",
      "metadata": {},
      "source": [
        "Il existe aussi des méthodes pratiques pour créer des array:\n",
        "\n",
        "* séquences logiques : `np.arange` (suite) ou `np.linspace` (interpolation linéaire entre deux bornes)\n",
        "* séquences ordonnées: _array_ rempli de zéros, de 1 ou d'un nombre désiré : `np.zeros`, `np.ones` ou `np.full`\n",
        "* séquences aléatoires: fonctions de génération de nombres aléatoires: `np.rand.uniform`, `np.rand.normal`, etc. \n",
        "* tableau sous forme de matrice identité: `np.eye`\n"
      ],
      "id": "f6ab2f93"
    },
    {
      "cell_type": "code",
      "metadata": {},
      "source": [
        "np.arange(0,10)\n",
        "np.arange(0,10,3)\n",
        "np.linspace(0, 1, 5)\n",
        "np.zeros(10, dtype=int)\n",
        "np.ones((3, 5), dtype=float)\n",
        "np.full((3, 5), 3.14)\n",
        "np.eye(3)"
      ],
      "id": "0ba0454d",
      "execution_count": null,
      "outputs": []
    },
    {
      "cell_type": "markdown",
      "metadata": {},
      "source": [
        "::: {.cell .markdown}\n",
        "\n",
        "```{=html}\n",
        "<div class=\"alert alert-success\" role=\"alert\" style=\"color: rgba(0,0,0,.8); background-color: white; margin-top: 1em; margin-bottom: 1em; margin:1.5625emauto; padding:0 .6rem .8rem!important;overflow:hidden; page-break-inside:avoid; border-radius:.25rem; box-shadow:0 .2rem .5rem rgba(0,0,0,.05),0 0 .05rem rgba(0,0,0,.1); transition:color .25s,background-color .25s,border-color .25s ; border-right: 1px solid #dee2e6 ; border-top: 1px solid #dee2e6 ; border-bottom: 1px solid #dee2e6 ; border-left:.2rem solid #3fb618;\">\n",
        "<h3 class=\"alert-heading\"><i class=\"fa fa-pencil\"></i> Exercice 1</h3>\n",
        "```\n",
        "\n",
        "\n",
        "Générer:\n",
        "\n",
        "* $X$ une variable aléatoire, 1000 répétitions d'une loi $U(0,1)$\n",
        "* $Y$ une variable aléatoire, 1000 répétitions d'une loi normale de moyenne nulle et de variance égale à 2\n",
        "* Vérifier la variance de $Y$ avec `np.var`\n",
        "\n",
        "\n",
        "```{=html}\n",
        "</div>\n",
        "```\n",
        "\n",
        ":::\n"
      ],
      "id": "52584811"
    },
    {
      "cell_type": "code",
      "metadata": {},
      "source": [
        "# Correction\n",
        "X = np.random.uniform(0,1,1000)\n",
        "Y = np.random.normal(0,np.sqrt(2),1000)\n",
        "\n",
        "np.var(Y)"
      ],
      "id": "ae721cd7",
      "execution_count": null,
      "outputs": []
    },
    {
      "cell_type": "markdown",
      "metadata": {},
      "source": [
        "## Indexation et slicing\n",
        "\n",
        "### Logique dans le cas d'un array unidimensionnel\n",
        "\n",
        "La structure la plus simple est l'_array_ unidimensionnel:\n"
      ],
      "id": "14a6f18b"
    },
    {
      "cell_type": "code",
      "metadata": {},
      "source": [
        "x = np.arange(10)\n",
        "print(x)"
      ],
      "id": "be03a6f6",
      "execution_count": null,
      "outputs": []
    },
    {
      "cell_type": "markdown",
      "metadata": {},
      "source": [
        "L'indexation est dans ce cas similaire à celle d'une liste: \n",
        "\n",
        "* le premier élément est 0\n",
        "* le énième élément est accessible à la position $n-1$\n",
        "\n",
        "La logique d'accès aux éléments est ainsi la suivante:\n",
        "\n",
        "~~~python\n",
        "x[start:stop:step]\n",
        "~~~\n",
        "\n",
        "Avec un *array* unidimensionnel, l'opération de *slicing* (garder une coupe du *array*) est très simple. \n",
        "Par exemple, pour garder les *K* premiers éléments d'un *array*, on fera:\n",
        "\n",
        "~~~python\n",
        "x[:(K-1)]\n",
        "~~~\n",
        "\n",
        "En l'occurrence, on sélectionne le K$^{eme}$ élément en utilisant\n",
        "\n",
        "~~~python\n",
        "x[K-1]\n",
        "~~~\n",
        "\n",
        "Pour sélectionner uniquement un élément, on fera ainsi:\n"
      ],
      "id": "837b2940"
    },
    {
      "cell_type": "code",
      "metadata": {},
      "source": [
        "x = np.arange(10)\n",
        "x[2]"
      ],
      "id": "76dea927",
      "execution_count": null,
      "outputs": []
    },
    {
      "cell_type": "markdown",
      "metadata": {},
      "source": [
        "Les syntaxes qui permettent de sélectionner des indices particuliers d'une liste fonctionnent également\n",
        "avec les arrays.\n",
        "\n",
        "::: {.cell .markdown}\n",
        "\n",
        "```{=html}\n",
        "<div class=\"alert alert-success\" role=\"alert\" style=\"color: rgba(0,0,0,.8); background-color: white; margin-top: 1em; margin-bottom: 1em; margin:1.5625emauto; padding:0 .6rem .8rem!important;overflow:hidden; page-break-inside:avoid; border-radius:.25rem; box-shadow:0 .2rem .5rem rgba(0,0,0,.05),0 0 .05rem rgba(0,0,0,.1); transition:color .25s,background-color .25s,border-color .25s ; border-right: 1px solid #dee2e6 ; border-top: 1px solid #dee2e6 ; border-bottom: 1px solid #dee2e6 ; border-left:.2rem solid #3fb618;\">\n",
        "<h3 class=\"alert-heading\"><i class=\"fa fa-pencil\"></i> Exercice 2</h3>\n",
        "```\n",
        "\n",
        "\n",
        "\n",
        "* Sélectionner les éléments 0,3,5\n",
        "* Sélectionner les éléments pairs\n",
        "* Sélectionner tous les éléments sauf le premier\n",
        "* Sélectionner les 5 premiers éléments\n",
        "\n",
        "\n",
        "```{=html}\n",
        "</div>\n",
        "```\n",
        "\n",
        ":::\n"
      ],
      "id": "dae9364a"
    },
    {
      "cell_type": "code",
      "metadata": {},
      "source": [
        "# Correction\n",
        "x[[0,3,5]]\n",
        "x[::2]\n",
        "x[1:]\n",
        "x[:5]\n",
        "# x2[0,:] # La première ligne"
      ],
      "id": "02a33f0e",
      "execution_count": null,
      "outputs": []
    },
    {
      "cell_type": "markdown",
      "metadata": {},
      "source": [
        "### Sur la performance\n",
        "\n",
        "Un élément déterminant dans la performance de `numpy` par rapport aux listes,\n",
        "lorsqu'il est question de \n",
        "*slicing* est qu'un array ne renvoie pas une\n",
        "copie de l'élément en question (copie qui coûte de la mémoire et du temps)\n",
        "mais simplement une vue de celui-ci.\n",
        "\n",
        "Lorsqu'il est nécessaire d'effectuer une copie,\n",
        "par exemple pour ne pas altérer l'array sous-jacent, on peut \n",
        "utiliser la méthode `copy`:\n",
        "\n",
        "~~~python\n",
        "x_sub_copy = x[:2, :2].copy()\n",
        "~~~\n",
        "\n",
        "-----\n",
        "\n",
        "\n",
        "### Filtres logiques\n",
        "\n",
        "\n",
        "Il est également possible, et plus pratique, de sélectionner des données à partir de conditions logiques\n",
        "(opération qu'on appelle un __*boolean mask*__).\n",
        "Cette fonctionalité servira principalement à \n",
        "effectuer des opérations de filtre sur les données.\n",
        "\n",
        "Pour des opérations de comparaison simples, les comparateurs logiques peuvent être suffisants. \n",
        "Ces comparaisons fonctionnent aussi sur les tableaux multidimensionnels grâce au\n",
        "*broadcasting* sur lequel nous reviendrons :\n"
      ],
      "id": "62e4cef8"
    },
    {
      "cell_type": "code",
      "metadata": {},
      "source": [
        "x = np.arange(10)\n",
        "x2 = np.array([[-1,1,-2],[-3,2,0]])\n",
        "print(x)\n",
        "print(x2)"
      ],
      "id": "c9672038",
      "execution_count": null,
      "outputs": []
    },
    {
      "cell_type": "code",
      "metadata": {},
      "source": [
        "x==2\n",
        "x2<0"
      ],
      "id": "24ed94a3",
      "execution_count": null,
      "outputs": []
    },
    {
      "cell_type": "markdown",
      "metadata": {},
      "source": [
        "Pour sélectionner les observations relatives à la condition logique,\n",
        "il suffit d'utiliser la logique de *slicing* de `numpy` qui fonctionne avec les conditions logiques\n",
        "\n",
        "\n",
        "::: {.cell .markdown}\n",
        "\n",
        "```{=html}\n",
        "<div class=\"alert alert-success\" role=\"alert\" style=\"color: rgba(0,0,0,.8); background-color: white; margin-top: 1em; margin-bottom: 1em; margin:1.5625emauto; padding:0 .6rem .8rem!important;overflow:hidden; page-break-inside:avoid; border-radius:.25rem; box-shadow:0 .2rem .5rem rgba(0,0,0,.05),0 0 .05rem rgba(0,0,0,.1); transition:color .25s,background-color .25s,border-color .25s ; border-right: 1px solid #dee2e6 ; border-top: 1px solid #dee2e6 ; border-bottom: 1px solid #dee2e6 ; border-left:.2rem solid #3fb618;\">\n",
        "<h3 class=\"alert-heading\"><i class=\"fa fa-pencil\"></i> Exercice 3</h3>\n",
        "```\n",
        "\n",
        "\n",
        "\n",
        "Soit \n",
        "\n",
        "```python\n",
        "x = np.random.normal(size=10000)\n",
        "```\n",
        "\n",
        "1. Ne conserver que les valeurs dont la valeur absolue est supérieure à 1.96\n",
        "2. Compter le nombre de valeurs supérieures à 1.96 en valeur absolue et leur proportion dans l'ensemble\n",
        "3. Sommer les valeurs absolues de toutes les observations supérieures (en valeur absolue) à 1.96\n",
        "et rapportez les à la somme des valeurs de `x` (en valeur absolue) \n",
        "\n",
        "\n",
        "```{=html}\n",
        "</div>\n",
        "```\n",
        "\n",
        ":::\n"
      ],
      "id": "6a5d8949"
    },
    {
      "cell_type": "code",
      "metadata": {},
      "source": [
        "# Correction\n",
        "x = np.random.normal(size=10000)\n",
        "\n",
        "x2 = x[np.abs(x)>=1.96]\n",
        "\n",
        "print(x2.size)\n",
        "print(x2.size/x.size)\n",
        "np.sum(np.abs(x2))/np.sum(np.abs(x))"
      ],
      "id": "76920717",
      "execution_count": null,
      "outputs": []
    },
    {
      "cell_type": "markdown",
      "metadata": {},
      "source": [
        "Lorsque c'est possible, il est recommandé d'utiliser les fonctions logiques de `numpy` (optimisées et \n",
        "qui gèrent bien la dimension).\n",
        "Parmi elles, on peut retrouver:\n",
        "\n",
        "* `count_nonzero`\n",
        "* `isnan`\n",
        "* `any` ; `all` ; notamment avec l'argument `axis`\n",
        "* `np.array_equal` pour vérifier, élément par élément, l'égalité\n",
        "\n",
        "\n",
        "Soit\n"
      ],
      "id": "c27e2279"
    },
    {
      "cell_type": "code",
      "metadata": {},
      "source": [
        "x = np.random.normal(0, size=(3, 4))"
      ],
      "id": "743abb76",
      "execution_count": null,
      "outputs": []
    },
    {
      "cell_type": "markdown",
      "metadata": {},
      "source": [
        "un *array* multidimensionnel et\n"
      ],
      "id": "d7ef2344"
    },
    {
      "cell_type": "code",
      "metadata": {},
      "source": [
        "y = np.array([np.nan, 0, 1])"
      ],
      "id": "6c598e5a",
      "execution_count": null,
      "outputs": []
    },
    {
      "cell_type": "markdown",
      "metadata": {},
      "source": [
        "un *array* unidimensionnel présentant une valeur manquante. \n",
        "\n",
        "::: {.cell .markdown}\n",
        "\n",
        "```{=html}\n",
        "<div class=\"alert alert-success\" role=\"alert\" style=\"color: rgba(0,0,0,.8); background-color: white; margin-top: 1em; margin-bottom: 1em; margin:1.5625emauto; padding:0 .6rem .8rem!important;overflow:hidden; page-break-inside:avoid; border-radius:.25rem; box-shadow:0 .2rem .5rem rgba(0,0,0,.05),0 0 .05rem rgba(0,0,0,.1); transition:color .25s,background-color .25s,border-color .25s ; border-right: 1px solid #dee2e6 ; border-top: 1px solid #dee2e6 ; border-bottom: 1px solid #dee2e6 ; border-left:.2rem solid #3fb618;\">\n",
        "<h3 class=\"alert-heading\"><i class=\"fa fa-pencil\"></i> Exercice 4</h3>\n",
        "```\n",
        "\n",
        "\n",
        "1. Utiliser `count_nonzero` sur `y`\n",
        "2. Utiliser `isnan` sur `y` et compter le nombre de valeurs non NaN\n",
        "3. Vérifier que `x` comporte au moins une valeur positive dans son ensemble, en parcourant les lignes puis les colonnes. \n",
        "\n",
        "Note : Jetez un oeil à ce que correspond le paramètre `axis` dans `numpy` en vous documentant sur internet. Par exemple [ici](https://www.sharpsightlabs.com/blog/numpy-axes-explained/).\n",
        "\n",
        "\n",
        "```{=html}\n",
        "</div>\n",
        "```\n",
        "\n",
        ":::\n"
      ],
      "id": "9aeda8da"
    },
    {
      "cell_type": "code",
      "metadata": {},
      "source": [
        "# Correction\n",
        "x = np.random.normal(0, size=(3, 4))\n",
        "y = np.array([np.nan, 0, 1])\n",
        "\n",
        "print(x)\n",
        "print(y)\n",
        "# 1. Utiliser `count_nonzero` sur `y`\n",
        "print(np.count_nonzero(y))\n",
        "# 2. Utiliser `isnan` sur `y` et compter le nombre de valeurs non NaN\n",
        "print(np.isnan(y))\n",
        "print(np.sum(np.isnan(y)))\n",
        "# 3. Vérifier que `x` comporte au moins une valeur positive dans son ensemble, en parcourant les lignes puis les colonnes\n",
        "print(np.any(x>0))\n",
        "print(np.any(x>0, axis = 0))\n",
        "print(np.any(x>0, axis = 1))"
      ],
      "id": "e18fb11f",
      "execution_count": null,
      "outputs": []
    },
    {
      "cell_type": "markdown",
      "metadata": {},
      "source": [
        "## Manipuler un array\n",
        "\n",
        "Dans cette section, on utilisera un array multidimensionnel:\n"
      ],
      "id": "f627e338"
    },
    {
      "cell_type": "code",
      "metadata": {},
      "source": [
        "x = np.random.normal(0, size=(3, 4))"
      ],
      "id": "002cefcb",
      "execution_count": null,
      "outputs": []
    },
    {
      "cell_type": "markdown",
      "metadata": {},
      "source": [
        "### Statistiques sur un array\n",
        "\n",
        "Pour les statistiques descriptives classiques,\n",
        "`numpy` propose un certain nombre de fonctions déjà implémentées,\n",
        "qui peuvent être combinées avec l'argument `axis`\n",
        "\n",
        "::: {.cell .markdown}\n",
        "\n",
        "```{=html}\n",
        "<div class=\"alert alert-success\" role=\"alert\" style=\"color: rgba(0,0,0,.8); background-color: white; margin-top: 1em; margin-bottom: 1em; margin:1.5625emauto; padding:0 .6rem .8rem!important;overflow:hidden; page-break-inside:avoid; border-radius:.25rem; box-shadow:0 .2rem .5rem rgba(0,0,0,.05),0 0 .05rem rgba(0,0,0,.1); transition:color .25s,background-color .25s,border-color .25s ; border-right: 1px solid #dee2e6 ; border-top: 1px solid #dee2e6 ; border-bottom: 1px solid #dee2e6 ; border-left:.2rem solid #3fb618;\">\n",
        "<h3 class=\"alert-heading\"><i class=\"fa fa-pencil\"></i> Exercice 5</h3>\n",
        "```\n",
        "\n",
        "\n",
        "\n",
        "1. Faire la somme de tous les éléments d'un `array`, des éléments en ligne et des éléments en colonne. Vérifier\n",
        "la cohérence\n",
        "2. Ecrire une fonction `statdesc` pour renvoyer les valeurs suivantes : moyenne, médiane, écart-type, minimum et maximum.\n",
        "L'appliquer sur `x` en jouant avec l'argument axis\n",
        "\n",
        "\n",
        "```{=html}\n",
        "</div>\n",
        "```\n",
        "\n",
        ":::\n"
      ],
      "id": "57bfb077"
    },
    {
      "cell_type": "code",
      "metadata": {},
      "source": [
        "# Correction\n",
        "print(x)\n",
        "print(x.sum())\n",
        "print(x.sum(axis = 0))\n",
        "print(x.sum(axis = 1))\n",
        "# check coherence\n",
        "print(x.sum(axis = 0).sum())\n",
        "print(x.sum(axis = 1).sum())"
      ],
      "id": "c37bce9e",
      "execution_count": null,
      "outputs": []
    },
    {
      "cell_type": "code",
      "metadata": {},
      "source": [
        "# Correction\n",
        "\n",
        "def statdesc(x, axis = None):\n",
        "    \"\"\"\n",
        "    Statistiques agrégées sur un array numpy\n",
        "\n",
        "    :param x: Numpy array\n",
        "    :param axis: Numpy dimension that should be used\n",
        "    :return: A numpy array with mean, median, sd, min and max\n",
        "    \"\"\"\n",
        "\n",
        "    return np.array([\n",
        "        np.mean(x, axis = axis),\n",
        "        np.median(x, axis = axis),\n",
        "        np.std(x, axis = axis),\n",
        "        np.min(x, axis = axis),\n",
        "        np.max(x, axis = axis)\n",
        "        ])\n",
        "\n",
        "statdesc(x)\n",
        "statdesc(x, axis = 0)\n",
        "statdesc(x, axis = 1)"
      ],
      "id": "8fd55d13",
      "execution_count": null,
      "outputs": []
    },
    {
      "cell_type": "markdown",
      "metadata": {},
      "source": [
        "### Fonctions de manipulation\n",
        "\n",
        "Voici quelques fonctions pour modifier un array, \n",
        "\n",
        "| Opération | Implémentation |\n",
        "|-----------|----------------|\n",
        "| Applatir un array | `x.flatten()` (méthode) |\n",
        "| Transposer un array | `x.T` (méthode) ou `np.transpose(x)` (fonction) |\n",
        "| Ajouter des éléments à la fin | `np.append(x, [1,2])` |\n",
        "| Ajouter des éléments à un endroit donné (aux positions 1 et 2) | `np.insert(x, [1,2], 3)` |\n",
        "| Supprimer des éléments (aux positions 0 et 3) | `np.delete(x, [0,3])` |\n",
        "\n",
        "Pour combiner des array, on peut utiliser, selon les cas, \n",
        "les fonctions `np.concatenate`, `np.vstack` ou la méthode `.r_` (concaténation *rowwise*). \n",
        "`np.hstack` ou la méthode `.column_stack` ou `.c_` (concaténation *column-wise*)\n"
      ],
      "id": "c6843ef1"
    },
    {
      "cell_type": "code",
      "metadata": {},
      "source": [
        "x = np.random.normal(size = 10)"
      ],
      "id": "c9e0f8c6",
      "execution_count": null,
      "outputs": []
    },
    {
      "cell_type": "markdown",
      "metadata": {},
      "source": [
        "Pour ordonner un array, on utilise `np.sort`\n"
      ],
      "id": "5a7a4cfd"
    },
    {
      "cell_type": "code",
      "metadata": {},
      "source": [
        "x = np.array([7, 2, 3, 1, 6, 5, 4])\n",
        "\n",
        "np.sort(x)"
      ],
      "id": "438a5d67",
      "execution_count": null,
      "outputs": []
    },
    {
      "cell_type": "markdown",
      "metadata": {},
      "source": [
        "Si on désire faire un ré-ordonnement partiel pour trouver les _k_ valeurs les plus petites d'un `array` sans les ordonner, on utilise `partition`:\n"
      ],
      "id": "fd7e83bb"
    },
    {
      "cell_type": "code",
      "metadata": {},
      "source": [
        "np.partition(x, 3)"
      ],
      "id": "c4099cbf",
      "execution_count": null,
      "outputs": []
    },
    {
      "cell_type": "markdown",
      "metadata": {},
      "source": [
        "## Broadcasting\n",
        "\n",
        "Le *broadcasting* désigne un ensemble de règles permettant\n",
        "d'appliquer des opérations sur des tableaux de dimensions différentes. En pratique, \n",
        "cela consiste généralement à appliquer une seule opération à l'ensemble des membres d'un tableau `numpy`. \n",
        "\n",
        "La différence peut être comprise à partir de l'exemple suivant. Le *broadcasting* permet\n",
        "de transformer le scalaire `5` en *array* de dimension 3:\n"
      ],
      "id": "2dc3f9a4"
    },
    {
      "cell_type": "code",
      "metadata": {},
      "source": [
        "a = np.array([0, 1, 2])\n",
        "\n",
        "b = np.array([5, 5, 5])\n",
        "\n",
        "a + b\n",
        "a + 5"
      ],
      "id": "4e516d84",
      "execution_count": null,
      "outputs": []
    },
    {
      "cell_type": "markdown",
      "metadata": {},
      "source": [
        "Le *broadcasting* peut être très pratique pour effectuer de manière efficace des opérations sur des données à\n",
        "la structure complexe. Pour plus de détails, se rendre\n",
        "[ici](https://jakevdp.github.io/PythonDataScienceHandbook/02.05-computation-on-arrays-broadcasting.html) ou [ici](https://stackoverflow.com/questions/47435526/what-is-the-meaning-of-axis-1-in-keras-argmax).\n",
        "\n",
        "## Une application: programmer ses propres k-nearest neighbors\n",
        "\n",
        "<!----\n",
        "L'idée de cet exercice vient de\n",
        "[là](https://jakevdp.github.io/PythonDataScienceHandbook/02.08-sorting.html#Example:-k-Nearest-Neighbors). \n",
        "------>\n",
        "\n",
        "::: {.cell .markdown}\n",
        "\n",
        "```{=html}\n",
        "<div class=\"alert alert-success\" role=\"alert\" style=\"color: rgba(0,0,0,.8); background-color: white; margin-top: 1em; margin-bottom: 1em; margin:1.5625emauto; padding:0 .6rem .8rem!important;overflow:hidden; page-break-inside:avoid; border-radius:.25rem; box-shadow:0 .2rem .5rem rgba(0,0,0,.05),0 0 .05rem rgba(0,0,0,.1); transition:color .25s,background-color .25s,border-color .25s ; border-right: 1px solid #dee2e6 ; border-top: 1px solid #dee2e6 ; border-bottom: 1px solid #dee2e6 ; border-left:.2rem solid #3fb618;\">\n",
        "<h3 class=\"alert-heading\"><i class=\"fa fa-pencil\"></i> Exercice (un peu plus corsé)</h3>\n",
        "```\n",
        "\n",
        "\n",
        "\n",
        "1. Créer `X` un tableau à deux dimensions (i.e. une matrice) comportant 10 lignes\n",
        "et 2 colonnes. Les nombres dans le tableau sont aléatoires.\n",
        "2. Importer le module `matplotlib.pyplot` sous le nom `plt`. Utiliser\n",
        "`plt.scatter` pour représenter les données sous forme de nuage de points. \n",
        "3. Constuire une matrice 10x10 stockant, à l'élément $(i,j)$, la distance euclidienne entre les points $X[i,]$ et $X[j,]$. Pour cela, il va falloir jouer avec les dimensions en créant des tableaux emboîtés à partir par des appels à `np.newaxis` :\n",
        "  + En premier lieu, utiliser `X1 = X[:, np.newaxis, :]` pour transformer la matrice en tableau emboîté. Vérifier les dimensions\n",
        "  + Créer `X2` de dimension `(1, 10, 2)` à partir de la même logique\n",
        "  + En déduire, pour chaque point, la distance avec les autres points pour chaque coordonnées. Elever celle-ci au carré\n",
        "  + A ce stade, vous devriez avoir un tableau de dimension `(10, 10, 2)`. La réduction à une matrice s'obtient en sommant sur le dernier axe. Regarder dans l'aide de `np.sum` comme effectuer une somme sur le dernier axe. \n",
        "  + Enfin, appliquer la racine carrée pour obtenir une distance euclidienne en bonne et due forme. \n",
        "4. Vérifier que les termes diagonaux sont bien nuls (distance d'un point à lui-même...)\n",
        "5. Il s'agit maintenant de classer, pour chaque point, les points dont les valeurs sont les plus similaires. Utiliser `np.argsort` pour obtenir, pour chaque ligne, le classement des points les plus proches\n",
        "6. On va s'intéresser aux k-plus proches voisins. Pour le moment, fixons k=2. Utiliser `argpartition` pour réordonner chaque ligne de manière à avoir les 2 plus proches voisins de chaque point d'abord et le reste de la ligne ensuite\n",
        "7. Utiliser le morceau de code ci-dessous\n",
        "\n",
        "\n",
        "```{=html}\n",
        "</div>\n",
        "```\n",
        "\n",
        ":::\n",
        "\n",
        "::: {.cell .markdown}\n",
        "\n",
        "```{=html}\n",
        "<details><summary>Un indice pour représenter graphiquement les plus proches voisins</summary>\n",
        "```\n",
        "\n",
        "\n",
        "\n",
        "~~~python\n",
        "plt.scatter(X[:, 0], X[:, 1], s=100)\n",
        "\n",
        "# draw lines from each point to its two nearest neighbors\n",
        "K = 2\n",
        "\n",
        "for i in range(X.shape[0]):\n",
        "    for j in nearest_partition[i, :K+1]:\n",
        "        # plot a line from X[i] to X[j]\n",
        "        # use some zip magic to make it happen:\n",
        "        plt.plot(*zip(X[j], X[i]), color='black')\n",
        "~~~\n",
        "\n",
        "\n",
        "\n",
        "```{=html}\n",
        "</details>\n",
        "```\n",
        "\n",
        ":::\n"
      ],
      "id": "62f533cc"
    },
    {
      "cell_type": "code",
      "metadata": {},
      "source": [
        "# Correction\n",
        "\n",
        "# 1. Definition de X\n",
        "X = np.random.rand(10, 2)\n",
        "\n",
        "# 2. Nuage de points. \n",
        "import matplotlib.pyplot as plt\n",
        "print(X[:,0])\n",
        "print(X[:,1])\n",
        "plt.scatter(X[:, 0], X[:, 1], s=100)"
      ],
      "id": "d23d89bb",
      "execution_count": null,
      "outputs": []
    },
    {
      "cell_type": "code",
      "metadata": {},
      "source": [
        "fig = plt.figure()\n",
        "plt.scatter(X[:, 0], X[:, 1], s=100)\n",
        "fig\n",
        "plt.savefig(\"scatter_numpy.png\", bbox_inches='tight')"
      ],
      "id": "4be9fc4f",
      "execution_count": null,
      "outputs": []
    },
    {
      "cell_type": "markdown",
      "metadata": {},
      "source": [
        "Pour la question 2, vous devriez obtenir un graphique ayant cet aspect :\n",
        "\n",
        "![](scatter_numpy.png)\n"
      ],
      "id": "193ac960"
    },
    {
      "cell_type": "code",
      "metadata": {},
      "source": [
        "# 3. Construire la matrice des distances euclidiennes\n",
        "print(X.shape)\n",
        "X1 = X[:, np.newaxis, :]\n",
        "print(\"dimension X1 : \", X1.shape)\n",
        "X2 = X[np.newaxis, :,:]\n",
        "print(\"dimension X2 : \", X2.shape)\n",
        "dist1 = (X1 - X2) ** 2\n",
        "print(\"dimension dist1 : \", dist1.shape)\n",
        "dist = np.sqrt(np.sum((X1 - X2) ** 2, axis=-1))\n",
        "print(\"dimension dist : \", dist.shape)\n",
        "\n",
        "# 4. Vérif termes diagonaux \n",
        "print(dist)\n",
        "print(dist.diagonal())\n",
        "\n",
        "#5. Classer avec np.argsort \n",
        "np.argsort(dist)\n",
        "\n",
        "#6. 2ppv\n",
        "K = 2\n",
        "nearest_partition = np.argpartition(dist, K + 1, axis=1)\n",
        "print(nearest_partition) # Ne pas oublier que le plus proche voisin d'un point est lui-même !\n",
        "\n",
        "#7. Tester le bout de code\n",
        "# Each point in the plot has lines drawn to its two nearest neighbors.\n",
        "fig = plt.figure()\n",
        "for i in range(X.shape[0]):\n",
        "    for j in nearest_partition[i, :K+1]:\n",
        "        # plot a line from X[i] to X[j]\n",
        "        # use some zip magic to make it happen:\n",
        "        plt.plot(*zip(X[j], X[i]), color='black')\n",
        "fig\n",
        "plt.savefig(\"knn.png\", bbox_inches='tight')"
      ],
      "id": "ad6eefa0",
      "execution_count": null,
      "outputs": []
    },
    {
      "cell_type": "markdown",
      "metadata": {},
      "source": [
        "Le résultat de la question 7 est le suivant: \n",
        "\n",
        "![](knn.png)\n",
        "\n",
        "Ai-je inventé cet exercice corsé ? Pas du tout, il [vient de l'ouvrage _Python Data Science Handbook_](https://jakevdp.github.io/PythonDataScienceHandbook/02.08-sorting.html#Example:-k-Nearest-Neighbors). Mais, si je vous l'avais indiqué immédiatement, auriez-vous cherché à répondre aux questions ?\n",
        "\n",
        "Par ailleurs, il ne serait pas une bonne idée de généraliser cet algorithme à de grosses données. La complexité de notre approche est $O(N^2)$. L'algorithme implémenté par `Scikit-Learn` est\n",
        "en $O[NlogN]$.\n",
        "\n",
        "De plus, le calcul de distances matricielles en utilisant la puissance des cartes graphiques serait plus rapide. A cet égard, la librairie [faiss](https://github.com/facebookresearch/faiss) offre des performances beaucoup plus satisfaisantes que celles que permettraient `numpy` sur ce problème précis.\n",
        "\n",
        "## Exercices supplémentaires\n",
        "\n",
        "* Simulations de variables aléatoires ;\n",
        "* TCL ;\n",
        "\n",
        "\n",
        "::: {.cell .markdown}\n",
        "\n",
        "```{=html}\n",
        "<div class=\"alert alert-success\" role=\"alert\" style=\"color: rgba(0,0,0,.8); background-color: white; margin-top: 1em; margin-bottom: 1em; margin:1.5625emauto; padding:0 .6rem .8rem!important;overflow:hidden; page-break-inside:avoid; border-radius:.25rem; box-shadow:0 .2rem .5rem rgba(0,0,0,.05),0 0 .05rem rgba(0,0,0,.1); transition:color .25s,background-color .25s,border-color .25s ; border-right: 1px solid #dee2e6 ; border-top: 1px solid #dee2e6 ; border-bottom: 1px solid #dee2e6 ; border-left:.2rem solid #3fb618;\">\n",
        "<h3 class=\"alert-heading\"><i class=\"fa fa-pencil\"></i> Comprendre le principe de l'algorithme <code>PageRank</code></h3>\n",
        "```\n",
        "\n",
        "\n",
        "`Google` est devenu célèbre grâce à son algorithme `PageRank`. Celui-ci permet, à partir\n",
        "de liens entre sites _web_, de donner un score d'importance à un site _web_ qui va\n",
        "être utilisé pour évaluer sa centralité dans un réseau. \n",
        "L'objectif de cet exercice est d'utiliser `Numpy` pour mettre en oeuvre un tel\n",
        "algorithme à partir d'une matrice d'adjacence qui relie les sites entre eux. \n",
        "\n",
        "1. Créer la matrice suivante avec `numpy`. L'appeler `M`:\n",
        "\n",
        "$$\n",
        "\\begin{bmatrix}\n",
        "0 & 0 & 0 & 0 & 1 \\\\\n",
        "0.5 & 0 & 0 & 0 & 0 \\\\\n",
        "0.5 & 0 & 0 & 0 & 0 \\\\\n",
        "0 & 1 & 0.5 & 0 & 0 \\\\\n",
        "0 & 0 & 0.5 & 1 & 0\n",
        "\\end{bmatrix}\n",
        "$$\n",
        "\n",
        "2. Pour représenter visuellement ce _web_ minimaliste,\n",
        "convertir en objet `networkx` (une librairie spécialisée\n",
        "dans l'analyse de réseau) et utiliser la fonction `draw`\n",
        "de ce package. \n",
        "\n",
        "Il s'agit de la transposée de la matrice d'adjacence\n",
        "qui permet de relier les sites entre eux. Par exemple, \n",
        "le site 1 (première colonne) est référencé par\n",
        "les sites 2 et 3. Celui-ci ne référence que le site 5. \n",
        "\n",
        "3. A partir de la page wikipedia anglaise de `PageRank`, tester\n",
        "sur votre matrice. \n",
        "\n",
        "\n",
        "```{=html}\n",
        "</div>\n",
        "```\n",
        "\n",
        ":::\n"
      ],
      "id": "50f1c696"
    },
    {
      "cell_type": "code",
      "metadata": {},
      "source": [
        "# Question 1\n",
        "M = np.array([[0, 0, 0, 0, 1],\n",
        "              [0.5, 0, 0, 0, 0],\n",
        "              [0.5, 0, 0, 0, 0],\n",
        "              [0, 1, 0.5, 0, 0],\n",
        "              [0, 0, 0.5, 1, 0]])"
      ],
      "id": "0a014e0c",
      "execution_count": null,
      "outputs": []
    },
    {
      "cell_type": "code",
      "metadata": {},
      "source": [
        "import networkx as nx\n",
        "\n",
        "G = nx.from_numpy_array(M)\n",
        "fig = plt.figure()\n",
        "nx.draw(G)\n",
        "plt.savefig(\"featured.png\", bbox_inches = \"tight\")"
      ],
      "id": "a5770781",
      "execution_count": null,
      "outputs": []
    },
    {
      "cell_type": "code",
      "metadata": {},
      "source": [
        "\"\"\"PageRank algorithm with explicit number of iterations.\n",
        "\n",
        "Returns\n",
        "-------\n",
        "ranking of nodes (pages) in the adjacency matrix\n",
        "\n",
        "\"\"\"\n",
        "\n",
        "import numpy as np\n",
        "\n",
        "def pagerank(M, num_iterations: int = 100, d: float = 0.85):\n",
        "    \"\"\"PageRank: The trillion dollar algorithm.\n",
        "\n",
        "    Parameters\n",
        "    ----------\n",
        "    M : numpy array\n",
        "        adjacency matrix where M_i,j represents the link from 'j' to 'i', such that for all 'j'\n",
        "        sum(i, M_i,j) = 1\n",
        "    num_iterations : int, optional\n",
        "        number of iterations, by default 100\n",
        "    d : float, optional\n",
        "        damping factor, by default 0.85\n",
        "\n",
        "    Returns\n",
        "    -------\n",
        "    numpy array\n",
        "        a vector of ranks such that v_i is the i-th rank from [0, 1],\n",
        "        v sums to 1\n",
        "\n",
        "    \"\"\"\n",
        "    N = M.shape[1]\n",
        "    v = np.random.rand(N, 1)\n",
        "    v = v / np.linalg.norm(v, 1)\n",
        "    M_hat = (d * M + (1 - d) / N)\n",
        "    for i in range(num_iterations):\n",
        "        v = M_hat @ v\n",
        "    return v\n",
        "\n",
        "v = pagerank(M, 100, 0.85)"
      ],
      "id": "c4d4d989",
      "execution_count": null,
      "outputs": []
    },
    {
      "cell_type": "markdown",
      "metadata": {},
      "source": [
        "Le site 1 est assez central car il est référencé 2 fois. Le site\n",
        "5 est lui également central puisqu'il est référencé par le site 1.\n"
      ],
      "id": "dddb124e"
    },
    {
      "cell_type": "code",
      "metadata": {},
      "source": [
        "v"
      ],
      "id": "ed5d3c94",
      "execution_count": null,
      "outputs": []
    }
  ],
  "metadata": {
    "kernelspec": {
      "name": "python3",
      "language": "python",
      "display_name": "Python 3 (ipykernel)"
    }
  },
  "nbformat": 4,
  "nbformat_minor": 5
}