{
 "cells": [
  {
   "cell_type": "markdown",
   "id": "9b5e7794",
   "metadata": {},
   "source": [
    "#  Retour sur numpy\n",
    "\n",
    "\n"
   ]
  },
  {
   "cell_type": "markdown",
   "id": "d515f200",
   "metadata": {},
   "source": [
    "Pour essayer les exemples présents dans ce tutoriel : \n",
    "\n",
    "<a href=\"https://github.com/linogaliana/python-datascientist/blob/master//__w/python-datascientist/python-datascientist/notebooks/course/manipulation/01_numpy.ipynb\" class=\"github\"><i class=\"fab fa-github\"></i></a>\n",
    "[![Download](https://img.shields.io/badge/Download-Notebook-important?logo=Jupyter)](https://downgit.github.io/#/home?url=https://github.com/linogaliana/python-datascientist/blob/master//__w/python-datascientist/python-datascientist/notebooks/course/manipulation/01_numpy.ipynb)\n",
    "[![nbviewer](https://img.shields.io/badge/Visualize-nbviewer-blue?logo=Jupyter)](https://nbviewer.jupyter.org/github/linogaliana/python-datascientist/blob/master//__w/python-datascientist/python-datascientist/notebooks/course/manipulation/01_numpy.ipynb)\n",
    "[![Onyxia](https://img.shields.io/badge/SSPcloud-Tester%20via%20SSP--cloud-informational&color=yellow?logo=Python)](https://datalab.sspcloud.fr/launcher/inseefrlab-helm-charts-datascience/jupyter?onyxia.friendlyName=«python-datascientist»&resources.requests.memory=«4Gi»&security.allowlist.enabled=false&init.personalInit=«https://raw.githubusercontent.com/linogaliana/python-datascientist/master/init_onyxia.sh»)\n",
    "[![Binder](https://img.shields.io/badge/Launch-Binder-E66581.svg?logo=data:image/png;base64,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)](https://mybinder.org/v2/gh/linogaliana/python-datascientist/master?filepath=/__w/python-datascientist/python-datascientist/notebooks/course/manipulation/01_numpy.ipynb)\n",
    "[![Open In Colab](https://colab.research.google.com/assets/colab-badge.svg)](http://colab.research.google.com/github/linogaliana/python-datascientist/blob/master//__w/python-datascientist/python-datascientist/notebooks/course/manipulation/01_numpy.ipynb)"
   ]
  },
  {
   "cell_type": "markdown",
   "id": "31359de6",
   "metadata": {},
   "source": [
    "Il est recommandé de régulièrement se référer à\n",
    "la [cheatsheet numpy](https://www.datacamp.com/community/blog/python-numpy-cheat-sheet) et à la\n",
    "[doc officielle](https://numpy.org/doc/stable/) en cas de doute\n",
    "sur une fonction. \n",
    "\n",
    "Dans ce chapitre, on ne dérogera pas à la convention qui s'est imposée\n",
    "d'importer `numpy` de la\n",
    "manière suivante:\n"
   ]
  },
  {
   "cell_type": "code",
   "execution_count": null,
   "id": "ccfb89d1",
   "metadata": {},
   "outputs": [],
   "source": [
    "import numpy as np"
   ]
  },
  {
   "cell_type": "markdown",
   "id": "ca883141",
   "metadata": {},
   "source": [
    "Si les scripts suivants sont exécutés dans un `notebook`, il est recommandé d'utiliser les paramètres suivants\n",
    "pour contrôler le rendu\n",
    "\n",
    "~~~python\n",
    "from IPython.core.interactiveshell import InteractiveShell\n",
    "InteractiveShell.ast_node_interactivity = \"all\"\n",
    "~~~"
   ]
  },
  {
   "cell_type": "markdown",
   "id": "3a134047",
   "metadata": {},
   "source": [
    "## Le concept d'array\n",
    "\n",
    "Le concept central de `NumPy` (`Numerical Python`) est\n",
    "l'**`array`** qui est un tableau de données multidimensionnel.\n",
    "\n",
    "L'array numpy peut être unidimensionnel et s'apparenter à un vecteur (1d-array),\n",
    "bidimensionnel et ainsi s'apparenter à une matrice (2d-array) ou, de manière plus générale, \n",
    "prendre la forme d'un objet\n",
    "multidimensionnel (Nd-array). \n",
    "\n",
    "Les tableaux simples (uni ou bi-dimensionnels) sont faciles à se représenter et seront particulièrement\n",
    "utilisés dans le paradigme des DataFrames mais \n",
    "la possibilité d'avoir des objets multidimensionnels permettra d'exploiter des\n",
    "structures très complexes.\n",
    "\n",
    "Un DataFrame sera construit à partir d'une collection\n",
    "d'array uni-dimensionnels (les variables de la table), ce qui permettra d'effectuer des opérations cohérentes\n",
    "(et optimisées) avec le type de la variable."
   ]
  },
  {
   "cell_type": "markdown",
   "id": "e065f25d",
   "metadata": {},
   "source": [
    "Par rapport à une liste,\n",
    "\n",
    "* un *array* ne peut contenir qu'un type de données (`integer`, `string`, etc.),\n",
    " contrairement à une liste.\n",
    "* les opérations implémentées par `numpy` seront plus efficaces et demanderont moins\n",
    "de mémoire\n"
   ]
  },
  {
   "cell_type": "markdown",
   "id": "b43eaada",
   "metadata": {},
   "source": [
    "Les données géographiques constitueront une construction un peu plus complexe qu'un `DataFrame` traditionnel. \n",
    "La dimension géographique prend la forme d'un tableau plus profond, au moins bidimensionnel\n",
    "(coordonnées d'un point). "
   ]
  },
  {
   "cell_type": "markdown",
   "id": "6a1a1eab",
   "metadata": {},
   "source": [
    "## Créer un array\n",
    "\n",
    "On peut créer un `array` de plusieurs manières. Pour créer un `array` à partir d'une liste,\n",
    "il suffit d'utiliser la méthode `array`:\n"
   ]
  },
  {
   "cell_type": "code",
   "execution_count": null,
   "id": "960db87d",
   "metadata": {},
   "outputs": [],
   "source": [
    "np.array([1,2,5])"
   ]
  },
  {
   "cell_type": "markdown",
   "id": "109d530e",
   "metadata": {},
   "source": [
    "```\n",
    "## array([1, 2, 5])\n",
    "```\n",
    "\n",
    "Il est possible d'ajouter un argument `dtype` pour contraindre le type du *array*:\n"
   ]
  },
  {
   "cell_type": "code",
   "execution_count": null,
   "id": "0dfb9625",
   "metadata": {},
   "outputs": [],
   "source": [
    "np.array([[\"a\",\"z\",\"e\"],[\"r\",\"t\"],[\"y\"]], dtype=\"object\")"
   ]
  },
  {
   "cell_type": "markdown",
   "id": "b96783da",
   "metadata": {},
   "source": [
    "```\n",
    "## array([list(['a', 'z', 'e']), list(['r', 't']), list(['y'])], dtype=object)\n",
    "```"
   ]
  },
  {
   "cell_type": "markdown",
   "id": "dde299ce",
   "metadata": {},
   "source": [
    "Il existe aussi des méthodes pratiques pour créer des array:\n",
    "\n",
    "* séquences logiques : `np.arange` (suite) ou `np.linspace` (interpolation linéaire entre deux bornes)\n",
    "* séquences ordonnées: _array_ rempli de zéros, de 1 ou d'un nombre désiré : `np.zeros`, `np.ones` ou `np.full`\n",
    "* séquences aléatoires: fonctions de génération de nombres aléatoires: `np.rand.uniform`, `np.rand.normal`, etc. \n",
    "* tableau sous forme de matrice identité: `np.eye`\n",
    "\n"
   ]
  },
  {
   "cell_type": "code",
   "execution_count": null,
   "id": "204faec2",
   "metadata": {},
   "outputs": [],
   "source": [
    "np.arange(0,10)"
   ]
  },
  {
   "cell_type": "markdown",
   "id": "674529fa",
   "metadata": {},
   "source": [
    "```\n",
    "## array([0, 1, 2, 3, 4, 5, 6, 7, 8, 9])\n",
    "```"
   ]
  },
  {
   "cell_type": "code",
   "execution_count": null,
   "id": "06379403",
   "metadata": {},
   "outputs": [],
   "source": [
    "np.arange(0,10,3)"
   ]
  },
  {
   "cell_type": "markdown",
   "id": "2ab27193",
   "metadata": {},
   "source": [
    "```\n",
    "## array([0, 3, 6, 9])\n",
    "```"
   ]
  },
  {
   "cell_type": "code",
   "execution_count": null,
   "id": "c5515d16",
   "metadata": {},
   "outputs": [],
   "source": [
    "np.linspace(0, 1, 5)"
   ]
  },
  {
   "cell_type": "markdown",
   "id": "5f1e9147",
   "metadata": {},
   "source": [
    "```\n",
    "## array([0.  , 0.25, 0.5 , 0.75, 1.  ])\n",
    "```"
   ]
  },
  {
   "cell_type": "code",
   "execution_count": null,
   "id": "0f645eab",
   "metadata": {},
   "outputs": [],
   "source": [
    "np.zeros(10, dtype=int)"
   ]
  },
  {
   "cell_type": "markdown",
   "id": "dbf14cd1",
   "metadata": {},
   "source": [
    "```\n",
    "## array([0, 0, 0, 0, 0, 0, 0, 0, 0, 0])\n",
    "```"
   ]
  },
  {
   "cell_type": "code",
   "execution_count": null,
   "id": "e4158dd1",
   "metadata": {},
   "outputs": [],
   "source": [
    "np.ones((3, 5), dtype=float)"
   ]
  },
  {
   "cell_type": "markdown",
   "id": "fc68a2ac",
   "metadata": {},
   "source": [
    "```\n",
    "## array([[1., 1., 1., 1., 1.],\n",
    "##        [1., 1., 1., 1., 1.],\n",
    "##        [1., 1., 1., 1., 1.]])\n",
    "```"
   ]
  },
  {
   "cell_type": "code",
   "execution_count": null,
   "id": "b7dec783",
   "metadata": {},
   "outputs": [],
   "source": [
    "np.full((3, 5), 3.14)"
   ]
  },
  {
   "cell_type": "markdown",
   "id": "a3d3a763",
   "metadata": {},
   "source": [
    "```\n",
    "## array([[3.14, 3.14, 3.14, 3.14, 3.14],\n",
    "##        [3.14, 3.14, 3.14, 3.14, 3.14],\n",
    "##        [3.14, 3.14, 3.14, 3.14, 3.14]])\n",
    "```"
   ]
  },
  {
   "cell_type": "code",
   "execution_count": null,
   "id": "0740adce",
   "metadata": {},
   "outputs": [],
   "source": [
    "np.eye(3)"
   ]
  },
  {
   "cell_type": "markdown",
   "id": "2a7b185a",
   "metadata": {},
   "source": [
    "```\n",
    "## array([[1., 0., 0.],\n",
    "##        [0., 1., 0.],\n",
    "##        [0., 0., 1.]])\n",
    "```\n"
   ]
  },
  {
   "cell_type": "markdown",
   "id": "255d6f42",
   "metadata": {},
   "source": [
    "Générer:\n",
    "\n",
    "* $X$ une variable aléatoire, 1000 répétitions d'une loi $U(0,1)$\n",
    "* $Y$ une variable aléatoire, 1000 répétitions d'une loi normale de moyenne nulle et de variance égale à 2\n",
    "* Vérifier la variance de $Y$ avec `np.var`\n",
    "\n",
    "\n"
   ]
  },
  {
   "cell_type": "code",
   "execution_count": null,
   "id": "329c2a78",
   "metadata": {},
   "outputs": [],
   "source": [
    "# Correction\n",
    "X = np.random.uniform(0,1,1000)\n",
    "Y = np.random.normal(0,np.sqrt(2),1000)\n",
    "\n",
    "np.var(Y)"
   ]
  },
  {
   "cell_type": "markdown",
   "id": "11a634e6",
   "metadata": {},
   "source": [
    "```\n",
    "## 1.9944113972275381\n",
    "```\n",
    "\n",
    "## Indexation et slicing\n",
    "\n",
    "### Logique dans le cas d'un array unidimensionnel\n",
    "\n",
    "La structure la plus simple imaginable est l'array unidimensionnel:\n"
   ]
  },
  {
   "cell_type": "code",
   "execution_count": null,
   "id": "c9af2ae3",
   "metadata": {},
   "outputs": [],
   "source": [
    "x = np.arange(10)\n",
    "print(x)"
   ]
  },
  {
   "cell_type": "markdown",
   "id": "beb408ca",
   "metadata": {},
   "source": [
    "```\n",
    "## [0 1 2 3 4 5 6 7 8 9]\n",
    "```\n",
    "\n",
    "L'indexation est dans ce cas similaire à celle d'une liste: \n",
    "\n",
    "* le premier élément est 0\n",
    "* le énième élément est accessible à la position $n-1$\n",
    "\n",
    "La logique d'accès aux éléments est ainsi la suivante:\n",
    "\n",
    "~~~python\n",
    "x[start:stop:step]\n",
    "~~~\n",
    "\n",
    "Avec un *array* unidimensionnel, l'opération de *slicing* (garder une coupe du *array*) est très simple. \n",
    "Par exemple, pour garder les *K* premiers éléments d'un *array*, on fera:\n",
    "\n",
    "~~~python\n",
    "x[:(K-1)]\n",
    "~~~\n",
    "\n",
    "En l'occurrence, on sélectionne le K$^{eme}$ élément en utilisant\n",
    "\n",
    "~~~python\n",
    "x[K-1]\n",
    "~~~\n",
    "\n",
    "Pour sélectionner uniquement un élément, on fera ainsi:\n"
   ]
  },
  {
   "cell_type": "code",
   "execution_count": null,
   "id": "1a886470",
   "metadata": {},
   "outputs": [],
   "source": [
    "x = np.arange(10)\n",
    "x[2]"
   ]
  },
  {
   "cell_type": "markdown",
   "id": "df2c04ee",
   "metadata": {},
   "source": [
    "```\n",
    "## 2\n",
    "```\n",
    "\n",
    "Les syntaxes qui permettent de sélectionner des indices particuliers d'une liste fonctionnent également\n",
    "avec les arrays."
   ]
  },
  {
   "cell_type": "markdown",
   "id": "dfded88d",
   "metadata": {},
   "source": [
    "* Sélectionner les éléments 0,3,5\n",
    "* Sélectionner les éléments pairs\n",
    "* Sélectionner tous les éléments sauf le premier\n",
    "* Sélectionner les 5 premiers éléments\n",
    "\n",
    "\n"
   ]
  },
  {
   "cell_type": "code",
   "execution_count": null,
   "id": "7e66be8d",
   "metadata": {},
   "outputs": [],
   "source": [
    "# Correction\n",
    "x[[0,3,5]]"
   ]
  },
  {
   "cell_type": "markdown",
   "id": "1d546164",
   "metadata": {},
   "source": [
    "```\n",
    "## array([0, 3, 5])\n",
    "```"
   ]
  },
  {
   "cell_type": "code",
   "execution_count": null,
   "id": "d7414187",
   "metadata": {},
   "outputs": [],
   "source": [
    "x[::2]"
   ]
  },
  {
   "cell_type": "markdown",
   "id": "062f14b3",
   "metadata": {},
   "source": [
    "```\n",
    "## array([0, 2, 4, 6, 8])\n",
    "```"
   ]
  },
  {
   "cell_type": "code",
   "execution_count": null,
   "id": "67517433",
   "metadata": {},
   "outputs": [],
   "source": [
    "x[-0]"
   ]
  },
  {
   "cell_type": "markdown",
   "id": "36a9af2e",
   "metadata": {},
   "source": [
    "```\n",
    "## 0\n",
    "```"
   ]
  },
  {
   "cell_type": "code",
   "execution_count": null,
   "id": "4f53221d",
   "metadata": {},
   "outputs": [],
   "source": [
    "x[:5]\n",
    "# x2[0,:] # La première ligne"
   ]
  },
  {
   "cell_type": "markdown",
   "id": "ce443a51",
   "metadata": {},
   "source": [
    "```\n",
    "## array([0, 1, 2, 3, 4])\n",
    "```\n",
    "\n",
    "### Sur la performance\n",
    "\n",
    "Un élément déterminant dans la performance de `numpy` par rapport aux listes, lorsqu'il est question de \n",
    "*slicing* est qu'un array ne renvoie pas une\n",
    "copie de l'élément en question (copie qui coûte de la mémoire et du temps) mais simplement une vue de celui-ci.\n",
    "\n",
    "Lorsqu'il est nécessaire d'effectuer une copie, par exemple pour ne pas altérer l'array sous-jacent, on peut \n",
    "utiliser la méthode `copy`:\n",
    "\n",
    "~~~python\n",
    "x_sub_copy = x[:2, :2].copy()\n",
    "~~~\n",
    "\n",
    "-----"
   ]
  },
  {
   "cell_type": "markdown",
   "id": "3cf1fa7b",
   "metadata": {},
   "source": [
    "### Filtres logiques"
   ]
  },
  {
   "cell_type": "markdown",
   "id": "8b1bdd13",
   "metadata": {},
   "source": [
    "Il est également possible, et plus pratique, de sélectionner des données à partir de conditions logiques\n",
    "(opération qu'on appelle un *boolean mask*)\n",
    "Cette fonctionalité servira principalement à \n",
    "effectuer des opérations de filtre sur les données.\n",
    "\n",
    "Pour des opérations de comparaison simples, les comparateurs logiques peuvent être suffisants. \n",
    "Ces comparaisons fonctionnent aussi sur les tableaux multidimensionnels grâce au\n",
    "*broadcasting* sur lequel nous reviendrons :"
   ]
  },
  {
   "cell_type": "code",
   "execution_count": null,
   "id": "e5f9dd4d",
   "metadata": {},
   "outputs": [],
   "source": [
    "x = np.arange(10)\n",
    "x2 = np.array([[-1,1,-2],[-3,2,0]])\n",
    "print(x)\n",
    "print(x2)"
   ]
  },
  {
   "cell_type": "code",
   "execution_count": null,
   "id": "658a5c6e",
   "metadata": {},
   "outputs": [],
   "source": [
    "x==2\n",
    "x2<0"
   ]
  },
  {
   "cell_type": "markdown",
   "id": "feb3505a",
   "metadata": {},
   "source": [
    "Pour sélectionner les observations relatives à la condition logique,\n",
    "il suffit d'utiliser la logique de *slicing* de `numpy` qui fonctionne avec les conditions logiques"
   ]
  },
  {
   "cell_type": "markdown",
   "id": "9dab2364",
   "metadata": {},
   "source": [
    "Soit \n"
   ]
  },
  {
   "cell_type": "code",
   "execution_count": null,
   "id": "0f11f7f4",
   "metadata": {},
   "outputs": [],
   "source": [
    "x = np.random.normal(size=10000)"
   ]
  },
  {
   "cell_type": "markdown",
   "id": "536d0f93",
   "metadata": {},
   "source": [
    "1. Ne conserver que les valeurs dont la valeur absolue est supérieure à 1.96\n",
    "2. Compter le nombre de valeurs supérieures à 1.96 en valeur absolue et leur proportion dans l'ensemble\n",
    "3. Sommer les valeurs absolues de toutes les observations supérieures (en valeur absolue) à 1.96\n",
    "et rapportez les à la somme des valeurs de `x` (en valeur absolue) \n",
    "\n",
    "\n"
   ]
  },
  {
   "cell_type": "code",
   "execution_count": null,
   "id": "cffe89d5",
   "metadata": {},
   "outputs": [],
   "source": [
    "# Correction\n",
    "x = np.random.normal(size=10000)\n",
    "\n",
    "x2 = x[np.abs(x)>=1.96]\n",
    "\n",
    "print(x2.size)"
   ]
  },
  {
   "cell_type": "markdown",
   "id": "68f1a5c8",
   "metadata": {},
   "source": [
    "```\n",
    "## 478\n",
    "```"
   ]
  },
  {
   "cell_type": "code",
   "execution_count": null,
   "id": "e3fae939",
   "metadata": {},
   "outputs": [],
   "source": [
    "print(x2.size/x.size)"
   ]
  },
  {
   "cell_type": "markdown",
   "id": "076b2308",
   "metadata": {},
   "source": [
    "```\n",
    "## 0.0478\n",
    "```"
   ]
  },
  {
   "cell_type": "code",
   "execution_count": null,
   "id": "a3a31ef3",
   "metadata": {},
   "outputs": [],
   "source": [
    "np.sum(np.abs(x2))/np.sum(np.abs(x))"
   ]
  },
  {
   "cell_type": "markdown",
   "id": "35fa61b4",
   "metadata": {},
   "source": [
    "```\n",
    "## 0.1410596349042197\n",
    "```\n",
    "\n",
    "Lorsque c'est possible, il est recommandé d'utiliser les fonctions logiques de `numpy` (optimisées et \n",
    "qui gèrent bien la dimension). Parmi elles, on peut retrouver:\n",
    "\n",
    "* `count_nonzero`\n",
    "* `isnan`\n",
    "* `any` ; `all` ; notamment avec l'argument `axis`\n",
    "* `np.array_equal` pour vérifier, élément par élément, l'égalité"
   ]
  },
  {
   "cell_type": "markdown",
   "id": "a2492bc9",
   "metadata": {},
   "source": [
    "Soit\n"
   ]
  },
  {
   "cell_type": "code",
   "execution_count": null,
   "id": "c1644200",
   "metadata": {},
   "outputs": [],
   "source": [
    "x = np.random.normal(0, size=(3, 4))"
   ]
  },
  {
   "cell_type": "markdown",
   "id": "e6578282",
   "metadata": {},
   "source": [
    "un *array* multidimensionnel et\n"
   ]
  },
  {
   "cell_type": "code",
   "execution_count": null,
   "id": "b7f381d4",
   "metadata": {},
   "outputs": [],
   "source": [
    "y = np.array([np.nan, 0, 1])"
   ]
  },
  {
   "cell_type": "markdown",
   "id": "dd7b4f62",
   "metadata": {},
   "source": [
    "un *array* unidimensionnel présentant une valeur manquante. \n",
    "\n",
    "1. Utiliser `count_nonzero` sur `y`\n",
    "2. Utiliser `isnan` sur `y` et compter le nombre de valeurs non NaN\n",
    "3. Vérifier que `x` comporte au moins une valeur positive dans son ensemble, en parcourant les lignes puis les colonnes. \n",
    "\n",
    "Note : Jetez un oeil à ce que correspond le paramètre `axis` dans `numpy` en vous documentant sur internet. Par exemple [ici](https://www.sharpsightlabs.com/blog/numpy-axes-explained/).\n",
    "\n",
    "\n",
    "\n"
   ]
  },
  {
   "cell_type": "code",
   "execution_count": null,
   "id": "128858ba",
   "metadata": {},
   "outputs": [],
   "source": [
    "# Correction\n",
    "x = np.random.normal(0, size=(3, 4))\n",
    "y = np.array([np.nan, 0, 1])\n",
    "\n",
    "print(x)"
   ]
  },
  {
   "cell_type": "markdown",
   "id": "5dcdd289",
   "metadata": {},
   "source": [
    "```\n",
    "## [[ 1.70865202  0.51798177 -0.29837664 -1.17896131]\n",
    "##  [ 0.93313964 -0.74305522 -0.42943907 -0.25641505]\n",
    "##  [ 1.53855265  0.20912893 -0.13101819 -0.56539752]]\n",
    "```"
   ]
  },
  {
   "cell_type": "code",
   "execution_count": null,
   "id": "4ed149ab",
   "metadata": {},
   "outputs": [],
   "source": [
    "print(y)\n",
    "# 1. Utiliser `count_nonzero` sur `y`"
   ]
  },
  {
   "cell_type": "markdown",
   "id": "fe398e96",
   "metadata": {},
   "source": [
    "```\n",
    "## [nan  0.  1.]\n",
    "```"
   ]
  },
  {
   "cell_type": "code",
   "execution_count": null,
   "id": "153dcf54",
   "metadata": {},
   "outputs": [],
   "source": [
    "print(np.count_nonzero(y))\n",
    "# 2. Utiliser `isnan` sur `y` et compter le nombre de valeurs non NaN"
   ]
  },
  {
   "cell_type": "markdown",
   "id": "969bb70a",
   "metadata": {},
   "source": [
    "```\n",
    "## 2\n",
    "```"
   ]
  },
  {
   "cell_type": "code",
   "execution_count": null,
   "id": "61c1cd25",
   "metadata": {},
   "outputs": [],
   "source": [
    "print(np.isnan(y))"
   ]
  },
  {
   "cell_type": "markdown",
   "id": "f4775eda",
   "metadata": {},
   "source": [
    "```\n",
    "## [ True False False]\n",
    "```"
   ]
  },
  {
   "cell_type": "code",
   "execution_count": null,
   "id": "e4126026",
   "metadata": {},
   "outputs": [],
   "source": [
    "print(np.sum(np.isnan(y)))\n",
    "# 3. Vérifier que `x` comporte au moins une valeur positive dans son ensemble, en parcourant les lignes puis les colonnes"
   ]
  },
  {
   "cell_type": "markdown",
   "id": "e1db0567",
   "metadata": {},
   "source": [
    "```\n",
    "## 1\n",
    "```"
   ]
  },
  {
   "cell_type": "code",
   "execution_count": null,
   "id": "4e096009",
   "metadata": {},
   "outputs": [],
   "source": [
    "print(np.any(x>0))"
   ]
  },
  {
   "cell_type": "markdown",
   "id": "07e5a8e7",
   "metadata": {},
   "source": [
    "```\n",
    "## True\n",
    "```"
   ]
  },
  {
   "cell_type": "code",
   "execution_count": null,
   "id": "e13cc627",
   "metadata": {},
   "outputs": [],
   "source": [
    "print(np.any(x>0, axis = 0))"
   ]
  },
  {
   "cell_type": "markdown",
   "id": "cf010e03",
   "metadata": {},
   "source": [
    "```\n",
    "## [ True  True False False]\n",
    "```"
   ]
  },
  {
   "cell_type": "code",
   "execution_count": null,
   "id": "9fdc1b77",
   "metadata": {},
   "outputs": [],
   "source": [
    "print(np.any(x>0, axis = 1))"
   ]
  },
  {
   "cell_type": "markdown",
   "id": "d708d468",
   "metadata": {},
   "source": [
    "```\n",
    "## [ True  True  True]\n",
    "```\n",
    "\n",
    "## Manipuler un array\n",
    "\n",
    "Dans cette section, on utilisera un array multidimensionnel:\n"
   ]
  },
  {
   "cell_type": "code",
   "execution_count": null,
   "id": "ee35b12c",
   "metadata": {},
   "outputs": [],
   "source": [
    "x = np.random.normal(0, size=(3, 4))"
   ]
  },
  {
   "cell_type": "markdown",
   "id": "35d5f98b",
   "metadata": {},
   "source": [
    "### Statistiques sur un array\n",
    "\n",
    "Pour les statistiques descriptives classiques, `numpy` propose un certain nombre de fonctions déjà implémentées,\n",
    "qui peuvent être combinées avec l'argument `axis`"
   ]
  },
  {
   "cell_type": "markdown",
   "id": "c0e01593",
   "metadata": {},
   "source": [
    "1. Faire la somme de tous les éléments d'un `array`, des éléments en ligne et des éléments en colonne. Vérifier\n",
    "la cohérence\n",
    "2. Ecrire une fonction `statdesc` pour renvoyer les valeurs suivantes : moyenne, médiane, écart-type, minimum et maximum.\n",
    "L'appliquer sur `x` en jouant avec l'argument axis\n",
    "\n",
    "\n"
   ]
  },
  {
   "cell_type": "code",
   "execution_count": null,
   "id": "f4fa87e6",
   "metadata": {},
   "outputs": [],
   "source": [
    "# Correction\n",
    "x.sum()"
   ]
  },
  {
   "cell_type": "markdown",
   "id": "18f5afa9",
   "metadata": {},
   "source": [
    "```\n",
    "## 3.8260265419609283\n",
    "```"
   ]
  },
  {
   "cell_type": "code",
   "execution_count": null,
   "id": "936b773c",
   "metadata": {},
   "outputs": [],
   "source": [
    "x.sum(axis = 0)"
   ]
  },
  {
   "cell_type": "markdown",
   "id": "bbd577cf",
   "metadata": {},
   "source": [
    "```\n",
    "## array([ 1.17270471,  0.93102014, -2.25839663,  3.98069832])\n",
    "```"
   ]
  },
  {
   "cell_type": "code",
   "execution_count": null,
   "id": "7079228e",
   "metadata": {},
   "outputs": [],
   "source": [
    "x.sum(axis = 1)\n",
    "# check coherence"
   ]
  },
  {
   "cell_type": "markdown",
   "id": "ce5a808d",
   "metadata": {},
   "source": [
    "```\n",
    "## array([ 2.18763607,  1.77563988, -0.13724941])\n",
    "```"
   ]
  },
  {
   "cell_type": "code",
   "execution_count": null,
   "id": "213a7ac2",
   "metadata": {},
   "outputs": [],
   "source": [
    "x.sum(axis = 0).sum()"
   ]
  },
  {
   "cell_type": "markdown",
   "id": "83b7c4df",
   "metadata": {},
   "source": [
    "```\n",
    "## 3.8260265419609274\n",
    "```"
   ]
  },
  {
   "cell_type": "code",
   "execution_count": null,
   "id": "da7af478",
   "metadata": {},
   "outputs": [],
   "source": [
    "x.sum(axis = 1).sum()"
   ]
  },
  {
   "cell_type": "markdown",
   "id": "96fa44cd",
   "metadata": {},
   "source": [
    "```\n",
    "## 3.8260265419609274\n",
    "```\n"
   ]
  },
  {
   "cell_type": "code",
   "execution_count": null,
   "id": "33ea8817",
   "metadata": {},
   "outputs": [],
   "source": [
    "# Correction\n",
    "\n",
    "def statdesc(x, axis = None):\n",
    "    \"\"\"\n",
    "    Statistiques agrégées sur un array numpy\n",
    "\n",
    "    :param x: Numpy array\n",
    "    :param axis: Numpy dimension that should be used\n",
    "    :return: A numpy array with mean, median, sd, min and max\n",
    "    \"\"\"\n",
    "\n",
    "    return np.array([\n",
    "        np.mean(x, axis = axis),\n",
    "        np.median(x, axis = axis),\n",
    "        np.std(x, axis = axis),\n",
    "        np.min(x, axis = axis),\n",
    "        np.max(x, axis = axis)\n",
    "        ])\n",
    "\n",
    "statdesc(x)"
   ]
  },
  {
   "cell_type": "markdown",
   "id": "c6ebcfc5",
   "metadata": {},
   "source": [
    "```\n",
    "## array([ 0.31883555,  0.45699908,  1.04669872, -2.24015685,  1.89219407])\n",
    "```"
   ]
  },
  {
   "cell_type": "code",
   "execution_count": null,
   "id": "1931c809",
   "metadata": {},
   "outputs": [],
   "source": [
    "statdesc(x, axis = 0)"
   ]
  },
  {
   "cell_type": "markdown",
   "id": "681c08e5",
   "metadata": {},
   "source": [
    "```\n",
    "## array([[ 0.39090157,  0.31034005, -0.75279888,  1.32689944],\n",
    "##        [ 0.5789396 ,  0.04043398, -0.41271667,  1.56898298],\n",
    "##        [ 0.31548407,  0.74489775,  1.10213903,  0.58595278],\n",
    "##        [-0.05351232, -0.43656407, -2.24015685,  0.51952127],\n",
    "##        [ 0.64727743,  1.32715023,  0.39447689,  1.89219407]])\n",
    "```"
   ]
  },
  {
   "cell_type": "code",
   "execution_count": null,
   "id": "af79a41c",
   "metadata": {},
   "outputs": [],
   "source": [
    "statdesc(x, axis = 1)"
   ]
  },
  {
   "cell_type": "markdown",
   "id": "dd6e856d",
   "metadata": {},
   "source": [
    "```\n",
    "## array([[ 0.54690902,  0.44390997, -0.03431235],\n",
    "##        [ 0.45699908,  0.30968679,  0.10535668],\n",
    "##        [ 0.4983141 ,  0.73834686,  1.5168675 ],\n",
    "##        [-0.05351232, -0.41271667, -2.24015685],\n",
    "##        [ 1.32715023,  1.56898298,  1.89219407]])\n",
    "```"
   ]
  },
  {
   "cell_type": "markdown",
   "id": "73aa3ae1",
   "metadata": {},
   "source": [
    "### Fonctions de manipulation\n",
    "\n",
    "Voici quelques fonctions pour modifier un array, \n",
    "\n",
    "| Opération | Implémentation |\n",
    "|-----------|----------------|\n",
    "| Applatir un array | `x.flatten()` (méthode) |\n",
    "| Transposer un array | `x.T` (méthode) ou `np.transpose(x)` (fonction) |\n",
    "| Ajouter des éléments à la fin | `np.append(x, [1,2])` |\n",
    "| Ajouter des éléments à un endroit donné (aux positions 1 et 2) | `np.insert(x, [1,2], 3)` |\n",
    "| Supprimer des éléments (aux positions 0 et 3) | `np.delete(x, [0,3])` |\n",
    "\n",
    "Pour combiner des array, on peut utiliser, selon les cas, \n",
    "les fonctions `np.concatenate`, `np.vstack` ou la méthode `.r_` (concaténation *rowwise*). \n",
    "`np.hstack` ou la méthode `.column_stack` ou `.c_` (concaténation *column-wise*)\n"
   ]
  },
  {
   "cell_type": "code",
   "execution_count": null,
   "id": "c94c2e5b",
   "metadata": {},
   "outputs": [],
   "source": [
    "x = np.random.normal(size = 10)"
   ]
  },
  {
   "cell_type": "markdown",
   "id": "d974d119",
   "metadata": {},
   "source": [
    "Pour ordonner un array, on utilise `np.sort`\n"
   ]
  },
  {
   "cell_type": "code",
   "execution_count": null,
   "id": "f1e5aee3",
   "metadata": {},
   "outputs": [],
   "source": [
    "x = np.array([7, 2, 3, 1, 6, 5, 4])\n",
    "\n",
    "np.sort(x)"
   ]
  },
  {
   "cell_type": "markdown",
   "id": "5f842d0b",
   "metadata": {},
   "source": [
    "```\n",
    "## array([1, 2, 3, 4, 5, 6, 7])\n",
    "```\n",
    "\n",
    "Si on désire faire un ré-ordonnement partiel pour trouver les _k_ valeurs les plus petites d'un `array` sans les ordonner, on utilise `partition`:\n"
   ]
  },
  {
   "cell_type": "code",
   "execution_count": null,
   "id": "e3cb85af",
   "metadata": {},
   "outputs": [],
   "source": [
    "np.partition(x, 3)"
   ]
  },
  {
   "cell_type": "markdown",
   "id": "5dea2a28",
   "metadata": {},
   "source": [
    "```\n",
    "## array([2, 1, 3, 4, 6, 5, 7])\n",
    "```\n"
   ]
  },
  {
   "cell_type": "markdown",
   "id": "b9ea6bf5",
   "metadata": {},
   "source": [
    "## Broadcasting\n",
    "\n",
    "Le *broadcasting* désigne un ensemble de règles permettant\n",
    "d'appliquer des opérations sur des tableaux de dimensions différentes. En pratique, \n",
    "cela consiste généralement à appliquer une seule opération à l'ensemble des membres d'un tableau `numpy`. \n",
    "\n",
    "La différence peut être comprise à partir de l'exemple suivant. Le *broadcasting* permet\n",
    "de transformer le scalaire `5` en *array* de dimension 3:\n"
   ]
  },
  {
   "cell_type": "code",
   "execution_count": null,
   "id": "26077c13",
   "metadata": {},
   "outputs": [],
   "source": [
    "a = np.array([0, 1, 2])\n",
    "\n",
    "b = np.array([5, 5, 5])\n",
    "\n",
    "a + b"
   ]
  },
  {
   "cell_type": "markdown",
   "id": "e7ad42d9",
   "metadata": {},
   "source": [
    "```\n",
    "## array([5, 6, 7])\n",
    "```"
   ]
  },
  {
   "cell_type": "code",
   "execution_count": null,
   "id": "8ad4ab7f",
   "metadata": {},
   "outputs": [],
   "source": [
    "a + 5"
   ]
  },
  {
   "cell_type": "markdown",
   "id": "51b02ca7",
   "metadata": {},
   "source": [
    "```\n",
    "## array([5, 6, 7])\n",
    "```\n",
    "\n",
    "Le *broadcasting* peut être très pratique pour effectuer de manière efficace des opérations sur des données à\n",
    "la structure complexe. Pour plus de détails, se rendre\n",
    "[ici](https://jakevdp.github.io/PythonDataScienceHandbook/02.05-computation-on-arrays-broadcasting.html) ou [ici](https://stackoverflow.com/questions/47435526/what-is-the-meaning-of-axis-1-in-keras-argmax).\n",
    "\n",
    "## Une application: programmer ses propres k-nearest neighbors\n",
    "\n",
    "<!----\n",
    "L'idée de cet exercice vient de\n",
    "[là](https://jakevdp.github.io/PythonDataScienceHandbook/02.08-sorting.html#Example:-k-Nearest-Neighbors). \n",
    "------>"
   ]
  },
  {
   "cell_type": "markdown",
   "id": "45f6a860",
   "metadata": {},
   "source": [
    "1. Créer `X` un tableau à deux dimensions (i.e. une matrice) comportant 10 lignes\n",
    "et 2 colonnes. Les nombres dans le tableau sont aléatoires.\n",
    "2. Importer le module `matplotlib.pyplot` sous le nom `plt`. Utiliser\n",
    "`plt.scatter` pour représenter les données sous forme de nuage de points. \n",
    "3. Constuire une matrice 10x10 stockant, à l'élément $(i,j)$, la distance euclidienne entre les points $X[i,]$ et $X[j,]$. Pour cela, il va falloir jouer avec les dimensions en créant des tableaux emboîtés à partir par des appels à `np.newaxis` :\n",
    "  + En premier lieu, utiliser `X1 = X[:, np.newaxis, :]` pour transformer la matrice en tableau emboîté. Vérifier les dimensions\n",
    "  + Créer `X2` de dimension `(1, 10, 2)` à partir de la même logique\n",
    "  + En déduire, pour chaque point, la distance avec les autres points pour chaque coordonnées. Elever celle-ci au carré\n",
    "  + A ce stade, vous devriez avoir un tableau de dimension `(10, 10, 2)`. La réduction à une matrice s'obtient en sommant sur le dernier axe. Regarder dans l'aide de `np.sum` comme effectuer une somme sur le dernier axe. \n",
    "  + Enfin, appliquer la racine carrée pour obtenir une distance euclidienne en bonne et due forme. \n",
    "4. Vérifier que les termes diagonaux sont bien nuls (distance d'un point à lui-même...)\n",
    "5. Il s'agit maintenant de classer, pour chaque point, les points dont les valeurs sont les plus similaires. Utiliser `np.argsort` pour obtenir, pour chaque ligne, le classement des points les plus proches\n",
    "6. On va s'intéresser aux k-plus proches voisins. Pour le moment, fixons k=2. Utiliser `argpartition` pour réordonner chaque ligne de manière à avoir les 2 plus proches voisins de chaque point d'abord et le reste de la ligne ensuite\n",
    "7. Utiliser le morceau de code ci-dessous\n",
    "\n",
    "~~~python\n",
    "plt.scatter(X[:, 0], X[:, 1], s=100)\n",
    "\n",
    "# draw lines from each point to its two nearest neighbors\n",
    "K = 2\n",
    "\n",
    "for i in range(X.shape[0]):\n",
    "    for j in nearest_partition[i, :K+1]:\n",
    "        # plot a line from X[i] to X[j]\n",
    "        # use some zip magic to make it happen:\n",
    "        plt.plot(*zip(X[j], X[i]), color='black')\n",
    "~~~\n",
    "\n",
    "pour représenter graphiquement le réseau de plus proches voisins\n",
    "\n",
    "\n"
   ]
  },
  {
   "cell_type": "code",
   "execution_count": null,
   "id": "1fe35aee",
   "metadata": {},
   "outputs": [],
   "source": [
    "# Correction\n",
    "\n",
    "# 1. Definition de X\n",
    "X = np.random.rand(10, 2)\n",
    "\n",
    "# 2. Nuage de points. \n",
    "import matplotlib.pyplot as plt\n",
    "print(X[:,0])"
   ]
  },
  {
   "cell_type": "markdown",
   "id": "939a98c9",
   "metadata": {},
   "source": [
    "```\n",
    "## [0.34269671 0.1956344  0.01871281 0.29902602 0.64034533 0.57452823\n",
    "##  0.03991617 0.61437799 0.98685223 0.73659913]\n",
    "```"
   ]
  },
  {
   "cell_type": "code",
   "execution_count": null,
   "id": "383d7081",
   "metadata": {},
   "outputs": [],
   "source": [
    "print(X[:,1])"
   ]
  },
  {
   "cell_type": "markdown",
   "id": "19e04402",
   "metadata": {},
   "source": [
    "```\n",
    "## [0.59149211 0.28080399 0.58355633 0.06976344 0.87579127 0.80087791\n",
    "##  0.91769051 0.32647633 0.0908046  0.36714106]\n",
    "```"
   ]
  },
  {
   "cell_type": "code",
   "execution_count": null,
   "id": "b84b2da6",
   "metadata": {
    "lines_to_next_cell": 0
   },
   "outputs": [],
   "source": [
    "plt.scatter(X[:, 0], X[:, 1], s=100)"
   ]
  },
  {
   "cell_type": "markdown",
   "id": "b23653a6",
   "metadata": {},
   "source": [
    "\n",
    "\n"
   ]
  },
  {
   "cell_type": "code",
   "execution_count": null,
   "id": "0adb4e70",
   "metadata": {},
   "outputs": [],
   "source": [
    "fig = plt.figure()\n",
    "plt.scatter(X[:, 0], X[:, 1], s=100)\n",
    "fig\n",
    "plt.savefig(\"scatter_numpy.png\", bbox_inches='tight')"
   ]
  },
  {
   "cell_type": "markdown",
   "id": "9f1d288f",
   "metadata": {},
   "source": [
    "Pour la question 2, vous devriez obtenir un graphique ayant cet aspect :\n",
    "\n"
   ]
  },
  {
   "cell_type": "code",
   "execution_count": null,
   "id": "a06a3835",
   "metadata": {},
   "outputs": [],
   "source": [
    "# 3. Construire la matrice des distances euclidiennes\n",
    "print(X.shape)"
   ]
  },
  {
   "cell_type": "markdown",
   "id": "5b022660",
   "metadata": {},
   "source": [
    "```\n",
    "## (10, 2)\n",
    "```"
   ]
  },
  {
   "cell_type": "code",
   "execution_count": null,
   "id": "389b0b69",
   "metadata": {},
   "outputs": [],
   "source": [
    "X1 = X[:, np.newaxis, :]\n",
    "print(\"dimension X1 : \", X1.shape)"
   ]
  },
  {
   "cell_type": "markdown",
   "id": "9a37f1f6",
   "metadata": {},
   "source": [
    "```\n",
    "## dimension X1 :  (10, 1, 2)\n",
    "```"
   ]
  },
  {
   "cell_type": "code",
   "execution_count": null,
   "id": "c5805943",
   "metadata": {},
   "outputs": [],
   "source": [
    "X2 = X[np.newaxis, :,:]\n",
    "print(\"dimension X2 : \", X2.shape)"
   ]
  },
  {
   "cell_type": "markdown",
   "id": "33671681",
   "metadata": {},
   "source": [
    "```\n",
    "## dimension X2 :  (1, 10, 2)\n",
    "```"
   ]
  },
  {
   "cell_type": "code",
   "execution_count": null,
   "id": "2ad03cd7",
   "metadata": {},
   "outputs": [],
   "source": [
    "dist1 = (X1 - X2) ** 2\n",
    "print(\"dimension dist1 : \", dist1.shape)"
   ]
  },
  {
   "cell_type": "markdown",
   "id": "58b376aa",
   "metadata": {},
   "source": [
    "```\n",
    "## dimension dist1 :  (10, 10, 2)\n",
    "```"
   ]
  },
  {
   "cell_type": "code",
   "execution_count": null,
   "id": "58ceaca4",
   "metadata": {},
   "outputs": [],
   "source": [
    "dist = np.sqrt(np.sum((X1 - X2) ** 2, axis=-1))\n",
    "print(\"dimension dist : \", dist.shape)\n",
    "\n",
    "# 4. Vérif termes diagonaux "
   ]
  },
  {
   "cell_type": "markdown",
   "id": "52089fe7",
   "metadata": {},
   "source": [
    "```\n",
    "## dimension dist :  (10, 10)\n",
    "```"
   ]
  },
  {
   "cell_type": "code",
   "execution_count": null,
   "id": "a9efd80a",
   "metadata": {},
   "outputs": [],
   "source": [
    "print(dist)"
   ]
  },
  {
   "cell_type": "markdown",
   "id": "1ab2fd24",
   "metadata": {},
   "source": [
    "```\n",
    "## [[0.         0.343736   0.32408107 0.52355319 0.41160748 0.31239121\n",
    "##   0.44506341 0.3795314  0.81585803 0.45331283]\n",
    "##  [0.343736   0.         0.35065685 0.23500626 0.7428174  0.6434574\n",
    "##   0.65564671 0.42122697 0.8137109  0.54781104]\n",
    "##  [0.32408107 0.35065685 0.         0.58528509 0.68689756 0.59679096\n",
    "##   0.33480626 0.64877356 1.08632325 0.74979753]\n",
    "##  [0.52355319 0.23500626 0.58528509 0.         0.87531694 0.78130009\n",
    "##   0.88663309 0.40663051 0.68814796 0.52905924]\n",
    "##  [0.41160748 0.7428174  0.68689756 0.87531694 0.         0.09971912\n",
    "##   0.60188929 0.54992837 0.85806241 0.51767735]\n",
    "##  [0.31239121 0.6434574  0.59679096 0.78130009 0.09971912 0.\n",
    "##   0.54722503 0.47607233 0.82110607 0.46302768]\n",
    "##  [0.44506341 0.65564671 0.33480626 0.88663309 0.60188929 0.54722503\n",
    "##   0.         0.82434251 1.25715082 0.88795937]\n",
    "##  [0.3795314  0.42122697 0.64877356 0.40663051 0.54992837 0.47607233\n",
    "##   0.82434251 0.         0.44077003 0.12880849]\n",
    "##  [0.81585803 0.8137109  1.08632325 0.68814796 0.85806241 0.82110607\n",
    "##   1.25715082 0.44077003 0.         0.37281155]\n",
    "##  [0.45331283 0.54781104 0.74979753 0.52905924 0.51767735 0.46302768\n",
    "##   0.88795937 0.12880849 0.37281155 0.        ]]\n",
    "```"
   ]
  },
  {
   "cell_type": "code",
   "execution_count": null,
   "id": "d50bb7c5",
   "metadata": {},
   "outputs": [],
   "source": [
    "print(dist.diagonal())\n",
    "\n",
    "#5. Classer avec np.argsort "
   ]
  },
  {
   "cell_type": "markdown",
   "id": "3b3c9972",
   "metadata": {},
   "source": [
    "```\n",
    "## [0. 0. 0. 0. 0. 0. 0. 0. 0. 0.]\n",
    "```"
   ]
  },
  {
   "cell_type": "code",
   "execution_count": null,
   "id": "83614449",
   "metadata": {},
   "outputs": [],
   "source": [
    "np.argsort(dist)\n",
    "\n",
    "#6. 2ppv"
   ]
  },
  {
   "cell_type": "markdown",
   "id": "d4452bcb",
   "metadata": {},
   "source": [
    "```\n",
    "## array([[0, 5, 2, 1, 7, 4, 6, 9, 3, 8],\n",
    "##        [1, 3, 0, 2, 7, 9, 5, 6, 4, 8],\n",
    "##        [2, 0, 6, 1, 3, 5, 7, 4, 9, 8],\n",
    "##        [3, 1, 7, 0, 9, 2, 8, 5, 4, 6],\n",
    "##        [4, 5, 0, 9, 7, 6, 2, 1, 8, 3],\n",
    "##        [5, 4, 0, 9, 7, 6, 2, 1, 3, 8],\n",
    "##        [6, 2, 0, 5, 4, 1, 7, 3, 9, 8],\n",
    "##        [7, 9, 0, 3, 1, 8, 5, 4, 2, 6],\n",
    "##        [8, 9, 7, 3, 1, 0, 5, 4, 2, 6],\n",
    "##        [9, 7, 8, 0, 5, 4, 3, 1, 2, 6]])\n",
    "```"
   ]
  },
  {
   "cell_type": "code",
   "execution_count": null,
   "id": "923c022f",
   "metadata": {},
   "outputs": [],
   "source": [
    "K = 2\n",
    "nearest_partition = np.argpartition(dist, K + 1, axis=1)\n",
    "print(nearest_partition) # Ne pas oublier que le plus proche voisin d'un point est lui-même !\n",
    "\n",
    "#7. Tester le bout de code\n",
    "# Each point in the plot has lines drawn to its two nearest neighbors."
   ]
  },
  {
   "cell_type": "markdown",
   "id": "094fb9a9",
   "metadata": {},
   "source": [
    "```\n",
    "## [[0 5 2 1 7 4 6 3 8 9]\n",
    "##  [3 1 0 2 7 9 6 5 8 4]\n",
    "##  [2 0 6 1 3 5 7 4 8 9]\n",
    "##  [3 1 7 0 9 5 6 2 8 4]\n",
    "##  [5 4 0 9 7 6 1 2 8 3]\n",
    "##  [5 4 0 9 7 6 1 2 8 3]\n",
    "##  [2 6 0 5 4 1 3 7 8 9]\n",
    "##  [7 9 0 3 1 5 8 4 2 6]\n",
    "##  [9 8 7 3 1 0 6 5 2 4]\n",
    "##  [7 9 8 0 1 5 6 3 2 4]]\n",
    "```"
   ]
  },
  {
   "cell_type": "code",
   "execution_count": null,
   "id": "aecd84e3",
   "metadata": {},
   "outputs": [],
   "source": [
    "fig = plt.figure()\n",
    "for i in range(X.shape[0]):\n",
    "    for j in nearest_partition[i, :K+1]:\n",
    "        # plot a line from X[i] to X[j]\n",
    "        # use some zip magic to make it happen:\n",
    "        plt.plot(*zip(X[j], X[i]), color='black')\n",
    "fig\n",
    "plt.savefig(\"knn.png\", bbox_inches='tight')"
   ]
  },
  {
   "cell_type": "markdown",
   "id": "03d2cd92",
   "metadata": {},
   "source": [
    "Le résultat de la question 7 est le suivant: \n"
   ]
  },
  {
   "cell_type": "markdown",
   "id": "df12e74e",
   "metadata": {},
   "source": [
    "Ai-je inventé cet exercice corsé ? Pas du tout, il [vient de là](https://jakevdp.github.io/PythonDataScienceHandbook/02.08-sorting.html#Example:-k-Nearest-Neighbors). Mais, si je vous l'avais indiqué immédiatement, auriez-vous cherché à répondre aux questions ?\n",
    "\n",
    "Par ailleurs, il ne serait pas une bonne idée de généraliser cet algorithme à de grosses données. La complexité de notre approche est $O(N^2)$. L'algorithme implémenté par Scikit-learn est\n",
    "en $O[NlogN]$.\n",
    "\n",
    "De plus, le calcul de distances matricielles en utilisant la puissance des cartes graphiques serait plus rapide. A cet égard, la librairie [faiss](https://github.com/facebookresearch/faiss) offre des performances beaucoup plus satisfaisantes que celles que permettraient `numpy` sur ce problème précis.\n",
    "\n",
    "<!-----\n",
    "## Restructuration, concaténation et division\n",
    "\n",
    "* Pour restructurer un `array`, c'est-à-dire changer ses dimensions, le plus simple est d'utiliser la méthode `reshape`. Par exemple, pour \n",
    "\n",
    "np.reshape\n",
    "np.concatenate\n",
    "np.split, np.hsplit, and np.vsplit\n",
    "----->\n",
    "\n",
    "## Exercices supplémentaires\n",
    "\n",
    "* Simulations de variables aléatoires ;\n",
    "* TCL ;\n",
    "* Pagerank\n",
    "\n"
   ]
  }
 ],
 "metadata": {
  "kernelspec": {
   "display_name": "Python 3",
   "language": "python",
   "name": "python3"
  }
 },
 "nbformat": 4,
 "nbformat_minor": 5
}
