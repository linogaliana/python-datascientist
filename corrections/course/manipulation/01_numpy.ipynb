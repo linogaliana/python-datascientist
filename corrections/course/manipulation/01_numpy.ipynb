{
 "cells": [
  {
   "cell_type": "markdown",
   "id": "7393c4ef",
   "metadata": {},
   "source": [
    "#  Retour sur numpy\n",
    "\n",
    "\n"
   ]
  },
  {
   "cell_type": "markdown",
   "id": "863e8613",
   "metadata": {},
   "source": [
    "Pour essayer les exemples présents dans ce tutoriel : \n",
    "\n",
    "<a href=\"https://github.com/linogaliana/python-datascientist/blob/master//__w/python-datascientist/python-datascientist/notebooks/course/manipulation/01_numpy.ipynb\" class=\"github\"><i class=\"fab fa-github\"></i></a>\n",
    "[![Download](https://img.shields.io/badge/Download-Notebook-important?logo=Jupyter)](https://downgit.github.io/#/home?url=https://github.com/linogaliana/python-datascientist/blob/master//__w/python-datascientist/python-datascientist/notebooks/course/manipulation/01_numpy.ipynb)\n",
    "[![nbviewer](https://img.shields.io/badge/Visualize-nbviewer-blue?logo=Jupyter)](https://nbviewer.jupyter.org/github/linogaliana/python-datascientist/blob/master//__w/python-datascientist/python-datascientist/notebooks/course/manipulation/01_numpy.ipynb)\n",
    "[![Onyxia](https://img.shields.io/badge/SSPcloud-Tester%20via%20SSP--cloud-informational&color=yellow?logo=Python)](https://datalab.sspcloud.fr/launcher/inseefrlab-helm-charts-datascience/jupyter?onyxia.friendlyName=«python-datascientist»&resources.requests.memory=«4Gi»&security.allowlist.enabled=false&init.personalInit=«https://raw.githubusercontent.com/linogaliana/python-datascientist/master/init_onyxia.sh»)\n",
    "[![Binder](https://img.shields.io/badge/Launch-Binder-E66581.svg?logo=data:image/png;base64,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)](https://mybinder.org/v2/gh/linogaliana/python-datascientist/master?filepath=/__w/python-datascientist/python-datascientist/notebooks/course/manipulation/01_numpy.ipynb)\n",
    "[![Open In Colab](https://colab.research.google.com/assets/colab-badge.svg)](http://colab.research.google.com/github/linogaliana/python-datascientist/blob/master//__w/python-datascientist/python-datascientist/notebooks/course/manipulation/01_numpy.ipynb)"
   ]
  },
  {
   "cell_type": "markdown",
   "id": "181dde25",
   "metadata": {},
   "source": [
    "Il est recommandé de régulièrement se référer à\n",
    "la [cheatsheet numpy](https://www.datacamp.com/community/blog/python-numpy-cheat-sheet) et à la\n",
    "[doc officielle](https://numpy.org/doc/stable/) en cas de doute\n",
    "sur une fonction. \n",
    "\n",
    "Dans ce chapitre, on ne dérogera pas à la convention qui s'est imposée\n",
    "d'importer `numpy` de la\n",
    "manière suivante:\n"
   ]
  },
  {
   "cell_type": "code",
   "execution_count": null,
   "id": "1c08d01a",
   "metadata": {},
   "outputs": [],
   "source": [
    "import numpy as np"
   ]
  },
  {
   "cell_type": "markdown",
   "id": "e4b413a3",
   "metadata": {},
   "source": [
    "Si les scripts suivants sont exécutés dans un `notebook`, il est recommandé d'utiliser les paramètres suivants\n",
    "pour contrôler le rendu\n",
    "\n",
    "~~~python\n",
    "from IPython.core.interactiveshell import InteractiveShell\n",
    "InteractiveShell.ast_node_interactivity = \"all\"\n",
    "~~~"
   ]
  },
  {
   "cell_type": "markdown",
   "id": "316bc905",
   "metadata": {},
   "source": [
    "## Le concept d'array\n",
    "\n",
    "Le concept central de `NumPy` (`Numerical Python`) est\n",
    "l'**`array`** qui est un tableau de données multidimensionnel.\n",
    "\n",
    "L'array numpy peut être unidimensionnel et s'apparenter à un vecteur (1d-array),\n",
    "bidimensionnel et ainsi s'apparenter à une matrice (2d-array) ou, de manière plus générale, \n",
    "prendre la forme d'un objet\n",
    "multidimensionnel (Nd-array). \n",
    "\n",
    "Les tableaux simples (uni ou bi-dimensionnels) sont faciles à se représenter et seront particulièrement\n",
    "utilisés dans le paradigme des DataFrames mais \n",
    "la possibilité d'avoir des objets multidimensionnels permettra d'exploiter des\n",
    "structures très complexes.\n",
    "\n",
    "Un DataFrame sera construit à partir d'une collection\n",
    "d'array uni-dimensionnels (les variables de la table), ce qui permettra d'effectuer des opérations cohérentes\n",
    "(et optimisées) avec le type de la variable."
   ]
  },
  {
   "cell_type": "markdown",
   "id": "80c23037",
   "metadata": {},
   "source": [
    "Par rapport à une liste,\n",
    "\n",
    "* un *array* ne peut contenir qu'un type de données (`integer`, `string`, etc.),\n",
    " contrairement à une liste.\n",
    "* les opérations implémentées par `numpy` seront plus efficaces et demanderont moins\n",
    "de mémoire\n"
   ]
  },
  {
   "cell_type": "markdown",
   "id": "cd7cf53f",
   "metadata": {},
   "source": [
    "Les données géographiques constitueront une construction un peu plus complexe qu'un `DataFrame` traditionnel. \n",
    "La dimension géographique prend la forme d'un tableau plus profond, au moins bidimensionnel\n",
    "(coordonnées d'un point). "
   ]
  },
  {
   "cell_type": "markdown",
   "id": "20cc085d",
   "metadata": {},
   "source": [
    "## Créer un array\n",
    "\n",
    "On peut créer un `array` de plusieurs manières. Pour créer un `array` à partir d'une liste,\n",
    "il suffit d'utiliser la méthode `array`:\n"
   ]
  },
  {
   "cell_type": "code",
   "execution_count": null,
   "id": "e2494b90",
   "metadata": {},
   "outputs": [],
   "source": [
    "np.array([1,2,5])"
   ]
  },
  {
   "cell_type": "markdown",
   "id": "88953542",
   "metadata": {},
   "source": [
    "```\n",
    "## array([1, 2, 5])\n",
    "```\n",
    "\n",
    "Il est possible d'ajouter un argument `dtype` pour contraindre le type du *array*:\n"
   ]
  },
  {
   "cell_type": "code",
   "execution_count": null,
   "id": "4ed44ff2",
   "metadata": {},
   "outputs": [],
   "source": [
    "np.array([[\"a\",\"z\",\"e\"],[\"r\",\"t\"],[\"y\"]], dtype=\"object\")"
   ]
  },
  {
   "cell_type": "markdown",
   "id": "d82a5571",
   "metadata": {},
   "source": [
    "```\n",
    "## array([list(['a', 'z', 'e']), list(['r', 't']), list(['y'])], dtype=object)\n",
    "```"
   ]
  },
  {
   "cell_type": "markdown",
   "id": "b730917b",
   "metadata": {},
   "source": [
    "Il existe aussi des méthodes pratiques pour créer des array:\n",
    "\n",
    "* séquences logiques : `np.arange` (suite) ou `np.linspace` (interpolation linéaire entre deux bornes)\n",
    "* séquences ordonnées: _array_ rempli de zéros, de 1 ou d'un nombre désiré : `np.zeros`, `np.ones` ou `np.full`\n",
    "* séquences aléatoires: fonctions de génération de nombres aléatoires: `np.rand.uniform`, `np.rand.normal`, etc. \n",
    "* tableau sous forme de matrice identité: `np.eye`\n",
    "\n"
   ]
  },
  {
   "cell_type": "code",
   "execution_count": null,
   "id": "9db40106",
   "metadata": {},
   "outputs": [],
   "source": [
    "np.arange(0,10)"
   ]
  },
  {
   "cell_type": "markdown",
   "id": "e17c0260",
   "metadata": {},
   "source": [
    "```\n",
    "## array([0, 1, 2, 3, 4, 5, 6, 7, 8, 9])\n",
    "```"
   ]
  },
  {
   "cell_type": "code",
   "execution_count": null,
   "id": "9d8c9799",
   "metadata": {},
   "outputs": [],
   "source": [
    "np.arange(0,10,3)"
   ]
  },
  {
   "cell_type": "markdown",
   "id": "772bdfc7",
   "metadata": {},
   "source": [
    "```\n",
    "## array([0, 3, 6, 9])\n",
    "```"
   ]
  },
  {
   "cell_type": "code",
   "execution_count": null,
   "id": "1bcad2dd",
   "metadata": {},
   "outputs": [],
   "source": [
    "np.linspace(0, 1, 5)"
   ]
  },
  {
   "cell_type": "markdown",
   "id": "1e6fd892",
   "metadata": {},
   "source": [
    "```\n",
    "## array([0.  , 0.25, 0.5 , 0.75, 1.  ])\n",
    "```"
   ]
  },
  {
   "cell_type": "code",
   "execution_count": null,
   "id": "b8b3d477",
   "metadata": {},
   "outputs": [],
   "source": [
    "np.zeros(10, dtype=int)"
   ]
  },
  {
   "cell_type": "markdown",
   "id": "8dd99a99",
   "metadata": {},
   "source": [
    "```\n",
    "## array([0, 0, 0, 0, 0, 0, 0, 0, 0, 0])\n",
    "```"
   ]
  },
  {
   "cell_type": "code",
   "execution_count": null,
   "id": "98a0224a",
   "metadata": {},
   "outputs": [],
   "source": [
    "np.ones((3, 5), dtype=float)"
   ]
  },
  {
   "cell_type": "markdown",
   "id": "253bbe67",
   "metadata": {},
   "source": [
    "```\n",
    "## array([[1., 1., 1., 1., 1.],\n",
    "##        [1., 1., 1., 1., 1.],\n",
    "##        [1., 1., 1., 1., 1.]])\n",
    "```"
   ]
  },
  {
   "cell_type": "code",
   "execution_count": null,
   "id": "ecf4b16e",
   "metadata": {},
   "outputs": [],
   "source": [
    "np.full((3, 5), 3.14)"
   ]
  },
  {
   "cell_type": "markdown",
   "id": "500c5241",
   "metadata": {},
   "source": [
    "```\n",
    "## array([[3.14, 3.14, 3.14, 3.14, 3.14],\n",
    "##        [3.14, 3.14, 3.14, 3.14, 3.14],\n",
    "##        [3.14, 3.14, 3.14, 3.14, 3.14]])\n",
    "```"
   ]
  },
  {
   "cell_type": "code",
   "execution_count": null,
   "id": "d4d4af1c",
   "metadata": {},
   "outputs": [],
   "source": [
    "np.eye(3)"
   ]
  },
  {
   "cell_type": "markdown",
   "id": "f8958318",
   "metadata": {},
   "source": [
    "```\n",
    "## array([[1., 0., 0.],\n",
    "##        [0., 1., 0.],\n",
    "##        [0., 0., 1.]])\n",
    "```\n"
   ]
  },
  {
   "cell_type": "markdown",
   "id": "a76dbb1e",
   "metadata": {},
   "source": [
    "Générer:\n",
    "\n",
    "* $X$ une variable aléatoire, 1000 répétitions d'une loi $U(0,1)$\n",
    "* $Y$ une variable aléatoire, 1000 répétitions d'une loi normale de moyenne nulle et de variance égale à 2\n",
    "* Vérifier la variance de $Y$ avec `np.var`\n",
    "\n",
    "\n"
   ]
  },
  {
   "cell_type": "markdown",
   "id": "e8d4c0fa",
   "metadata": {},
   "source": [
    "## Indexation et slicing\n",
    "\n",
    "### Logique dans le cas d'un array unidimensionnel\n",
    "\n",
    "La structure la plus simple imaginable est l'array unidimensionnel:\n"
   ]
  },
  {
   "cell_type": "code",
   "execution_count": null,
   "id": "4271087f",
   "metadata": {},
   "outputs": [],
   "source": [
    "x = np.arange(10)\n",
    "print(x)"
   ]
  },
  {
   "cell_type": "markdown",
   "id": "4a6ee6d2",
   "metadata": {},
   "source": [
    "```\n",
    "## [0 1 2 3 4 5 6 7 8 9]\n",
    "```\n",
    "\n",
    "L'indexation est dans ce cas similaire à celle d'une liste: \n",
    "\n",
    "* le premier élément est 0\n",
    "* le énième élément est accessible à la position $n-1$\n",
    "\n",
    "La logique d'accès aux éléments est ainsi la suivante:\n",
    "\n",
    "~~~python\n",
    "x[start:stop:step]\n",
    "~~~\n",
    "\n",
    "Avec un *array* unidimensionnel, l'opération de *slicing* (garder une coupe du *array*) est très simple. \n",
    "Par exemple, pour garder les *K* premiers éléments d'un *array*, on fera:\n",
    "\n",
    "~~~python\n",
    "x[:(K-1)]\n",
    "~~~\n",
    "\n",
    "En l'occurrence, on sélectionne le K$^{eme}$ élément en utilisant\n",
    "\n",
    "~~~python\n",
    "x[K-1]\n",
    "~~~\n",
    "\n",
    "Pour sélectionner uniquement un élément, on fera ainsi:\n"
   ]
  },
  {
   "cell_type": "code",
   "execution_count": null,
   "id": "bbf30aa4",
   "metadata": {},
   "outputs": [],
   "source": [
    "x = np.arange(10)\n",
    "x[2]"
   ]
  },
  {
   "cell_type": "markdown",
   "id": "aed9811f",
   "metadata": {},
   "source": [
    "```\n",
    "## 2\n",
    "```\n",
    "\n",
    "Les syntaxes qui permettent de sélectionner des indices particuliers d'une liste fonctionnent également\n",
    "avec les arrays."
   ]
  },
  {
   "cell_type": "markdown",
   "id": "8d294d93",
   "metadata": {},
   "source": [
    "* Sélectionner les éléments 0,3,5\n",
    "* Sélectionner les éléments pairs\n",
    "* Sélectionner tous les éléments sauf le premier\n",
    "* Sélectionner les 5 premiers éléments\n",
    "\n",
    "\n"
   ]
  },
  {
   "cell_type": "markdown",
   "id": "195b93be",
   "metadata": {},
   "source": [
    "### Sur la performance\n",
    "\n",
    "Un élément déterminant dans la performance de `numpy` par rapport aux listes, lorsqu'il est question de \n",
    "*slicing* est qu'un array ne renvoie pas une\n",
    "copie de l'élément en question (copie qui coûte de la mémoire et du temps) mais simplement une vue de celui-ci.\n",
    "\n",
    "Lorsqu'il est nécessaire d'effectuer une copie, par exemple pour ne pas altérer l'array sous-jacent, on peut \n",
    "utiliser la méthode `copy`:\n",
    "\n",
    "~~~python\n",
    "x_sub_copy = x[:2, :2].copy()\n",
    "~~~\n",
    "\n",
    "-----"
   ]
  },
  {
   "cell_type": "markdown",
   "id": "d0123a02",
   "metadata": {},
   "source": [
    "### Filtres logiques"
   ]
  },
  {
   "cell_type": "markdown",
   "id": "b5811775",
   "metadata": {},
   "source": [
    "Il est également possible, et plus pratique, de sélectionner des données à partir de conditions logiques\n",
    "(opération qu'on appelle un *boolean mask*)\n",
    "Cette fonctionalité servira principalement à \n",
    "effectuer des opérations de filtre sur les données.\n",
    "\n",
    "Pour des opérations de comparaison simples, les comparateurs logiques peuvent être suffisants. \n",
    "Ces comparaisons fonctionnent aussi sur les tableaux multidimensionnels grâce au\n",
    "*broadcasting* sur lequel nous reviendrons :"
   ]
  },
  {
   "cell_type": "code",
   "execution_count": null,
   "id": "5f3d7128",
   "metadata": {},
   "outputs": [],
   "source": [
    "x = np.arange(10)\n",
    "x2 = np.array([[-1,1,-2],[-3,2,0]])\n",
    "print(x)\n",
    "print(x2)"
   ]
  },
  {
   "cell_type": "code",
   "execution_count": null,
   "id": "644188c6",
   "metadata": {},
   "outputs": [],
   "source": [
    "x==2\n",
    "x2<0"
   ]
  },
  {
   "cell_type": "markdown",
   "id": "180cab84",
   "metadata": {},
   "source": [
    "Pour sélectionner les observations relatives à la condition logique,\n",
    "il suffit d'utiliser la logique de *slicing* de `numpy` qui fonctionne avec les conditions logiques"
   ]
  },
  {
   "cell_type": "markdown",
   "id": "b45941c0",
   "metadata": {},
   "source": [
    "Soit \n"
   ]
  },
  {
   "cell_type": "code",
   "execution_count": null,
   "id": "0231e2ff",
   "metadata": {},
   "outputs": [],
   "source": [
    "x = np.random.normal(size=10000)"
   ]
  },
  {
   "cell_type": "markdown",
   "id": "88767658",
   "metadata": {},
   "source": [
    "1. Ne conserver que les valeurs dont la valeur absolue est supérieure à 1.96\n",
    "2. Compter le nombre de valeurs supérieures à 1.96 en valeur absolue et leur proportion dans l'ensemble\n",
    "3. Sommer les valeurs absolues de toutes les observations supérieures (en valeur absolue) à 1.96\n",
    "et rapportez les à la somme des valeurs de `x` (en valeur absolue) \n",
    "\n",
    "\n"
   ]
  },
  {
   "cell_type": "markdown",
   "id": "5bf5a7d9",
   "metadata": {},
   "source": [
    "Lorsque c'est possible, il est recommandé d'utiliser les fonctions logiques de `numpy` (optimisées et \n",
    "qui gèrent bien la dimension). Parmi elles, on peut retrouver:\n",
    "\n",
    "* `count_nonzero`\n",
    "* `isnan`\n",
    "* `any` ; `all` ; notamment avec l'argument `axis`\n",
    "* `np.array_equal` pour vérifier, élément par élément, l'égalité"
   ]
  },
  {
   "cell_type": "markdown",
   "id": "380277ff",
   "metadata": {},
   "source": [
    "Soit\n"
   ]
  },
  {
   "cell_type": "code",
   "execution_count": null,
   "id": "b007ef40",
   "metadata": {},
   "outputs": [],
   "source": [
    "x = np.random.normal(0, size=(3, 4))"
   ]
  },
  {
   "cell_type": "markdown",
   "id": "8b039567",
   "metadata": {},
   "source": [
    "un *array* multidimensionnel et\n"
   ]
  },
  {
   "cell_type": "code",
   "execution_count": null,
   "id": "3b9483fd",
   "metadata": {},
   "outputs": [],
   "source": [
    "y = np.array([np.nan, 0, 1])"
   ]
  },
  {
   "cell_type": "markdown",
   "id": "cd99fbe0",
   "metadata": {},
   "source": [
    "un *array* unidimensionnel présentant une valeur manquante. \n",
    "\n",
    "1. Utiliser `count_nonzero` sur `y`\n",
    "2. Utiliser `isnan` sur `y` et compter le nombre de valeurs non NaN\n",
    "3. Vérifier que `x` comporte au moins une valeur positive dans son ensemble, en parcourant les lignes puis les colonnes. \n",
    "\n",
    "Note : Jetez un oeil à ce que correspond le paramètre `axis` dans `numpy` en vous documentant sur internet. Par exemple [ici](https://www.sharpsightlabs.com/blog/numpy-axes-explained/).\n",
    "\n",
    "\n",
    "\n"
   ]
  },
  {
   "cell_type": "markdown",
   "id": "dc3b50ed",
   "metadata": {},
   "source": [
    "## Manipuler un array\n",
    "\n",
    "Dans cette section, on utilisera un array multidimensionnel:\n"
   ]
  },
  {
   "cell_type": "code",
   "execution_count": null,
   "id": "0abe0ded",
   "metadata": {},
   "outputs": [],
   "source": [
    "x = np.random.normal(0, size=(3, 4))"
   ]
  },
  {
   "cell_type": "markdown",
   "id": "7147f43a",
   "metadata": {},
   "source": [
    "### Statistiques sur un array\n",
    "\n",
    "Pour les statistiques descriptives classiques, `numpy` propose un certain nombre de fonctions déjà implémentées,\n",
    "qui peuvent être combinées avec l'argument `axis`"
   ]
  },
  {
   "cell_type": "markdown",
   "id": "df9a2505",
   "metadata": {},
   "source": [
    "1. Faire la somme de tous les éléments d'un `array`, des éléments en ligne et des éléments en colonne. Vérifier\n",
    "la cohérence\n",
    "2. Ecrire une fonction `statdesc` pour renvoyer les valeurs suivantes : moyenne, médiane, écart-type, minimum et maximum.\n",
    "L'appliquer sur `x` en jouant avec l'argument axis\n",
    "\n",
    "\n",
    "\n",
    "\n",
    "\n"
   ]
  },
  {
   "cell_type": "markdown",
   "id": "8f2836ef",
   "metadata": {},
   "source": [
    "### Fonctions de manipulation\n",
    "\n",
    "Voici quelques fonctions pour modifier un array, \n",
    "\n",
    "| Opération | Implémentation |\n",
    "|-----------|----------------|\n",
    "| Applatir un array | `x.flatten()` (méthode) |\n",
    "| Transposer un array | `x.T` (méthode) ou `np.transpose(x)` (fonction) |\n",
    "| Ajouter des éléments à la fin | `np.append(x, [1,2])` |\n",
    "| Ajouter des éléments à un endroit donné (aux positions 1 et 2) | `np.insert(x, [1,2], 3)` |\n",
    "| Supprimer des éléments (aux positions 0 et 3) | `np.delete(x, [0,3])` |\n",
    "\n",
    "Pour combiner des array, on peut utiliser, selon les cas, \n",
    "les fonctions `np.concatenate`, `np.vstack` ou la méthode `.r_` (concaténation *rowwise*). \n",
    "`np.hstack` ou la méthode `.column_stack` ou `.c_` (concaténation *column-wise*)\n"
   ]
  },
  {
   "cell_type": "code",
   "execution_count": null,
   "id": "5a2e3646",
   "metadata": {},
   "outputs": [],
   "source": [
    "x = np.random.normal(size = 10)"
   ]
  },
  {
   "cell_type": "markdown",
   "id": "4aca6020",
   "metadata": {},
   "source": [
    "Pour ordonner un array, on utilise `np.sort`\n"
   ]
  },
  {
   "cell_type": "code",
   "execution_count": null,
   "id": "0998a260",
   "metadata": {},
   "outputs": [],
   "source": [
    "x = np.array([7, 2, 3, 1, 6, 5, 4])\n",
    "\n",
    "np.sort(x)"
   ]
  },
  {
   "cell_type": "markdown",
   "id": "a5877b02",
   "metadata": {},
   "source": [
    "```\n",
    "## array([1, 2, 3, 4, 5, 6, 7])\n",
    "```\n",
    "\n",
    "Si on désire faire un ré-ordonnement partiel pour trouver les _k_ valeurs les plus petites d'un `array` sans les ordonner, on utilise `partition`:\n"
   ]
  },
  {
   "cell_type": "code",
   "execution_count": null,
   "id": "9fa44b53",
   "metadata": {},
   "outputs": [],
   "source": [
    "np.partition(x, 3)"
   ]
  },
  {
   "cell_type": "markdown",
   "id": "817df2f7",
   "metadata": {},
   "source": [
    "```\n",
    "## array([2, 1, 3, 4, 6, 5, 7])\n",
    "```\n"
   ]
  },
  {
   "cell_type": "markdown",
   "id": "b4bf6a95",
   "metadata": {},
   "source": [
    "## Broadcasting\n",
    "\n",
    "Le *broadcasting* désigne un ensemble de règles permettant\n",
    "d'appliquer des opérations sur des tableaux de dimensions différentes. En pratique, \n",
    "cela consiste généralement à appliquer une seule opération à l'ensemble des membres d'un tableau `numpy`. \n",
    "\n",
    "La différence peut être comprise à partir de l'exemple suivant. Le *broadcasting* permet\n",
    "de transformer le scalaire `5` en *array* de dimension 3:\n"
   ]
  },
  {
   "cell_type": "code",
   "execution_count": null,
   "id": "439b9089",
   "metadata": {},
   "outputs": [],
   "source": [
    "a = np.array([0, 1, 2])\n",
    "\n",
    "b = np.array([5, 5, 5])\n",
    "\n",
    "a + b"
   ]
  },
  {
   "cell_type": "markdown",
   "id": "24a80873",
   "metadata": {},
   "source": [
    "```\n",
    "## array([5, 6, 7])\n",
    "```"
   ]
  },
  {
   "cell_type": "code",
   "execution_count": null,
   "id": "edaf07dc",
   "metadata": {},
   "outputs": [],
   "source": [
    "a + 5"
   ]
  },
  {
   "cell_type": "markdown",
   "id": "e61c2d95",
   "metadata": {},
   "source": [
    "```\n",
    "## array([5, 6, 7])\n",
    "```\n",
    "\n",
    "Le *broadcasting* peut être très pratique pour effectuer de manière efficace des opérations sur des données à\n",
    "la structure complexe. Pour plus de détails, se rendre\n",
    "[ici](https://jakevdp.github.io/PythonDataScienceHandbook/02.05-computation-on-arrays-broadcasting.html) ou [ici](https://stackoverflow.com/questions/47435526/what-is-the-meaning-of-axis-1-in-keras-argmax).\n",
    "\n",
    "## Une application: programmer ses propres k-nearest neighbors\n",
    "\n",
    "<!----\n",
    "L'idée de cet exercice vient de\n",
    "[là](https://jakevdp.github.io/PythonDataScienceHandbook/02.08-sorting.html#Example:-k-Nearest-Neighbors). \n",
    "------>"
   ]
  },
  {
   "cell_type": "markdown",
   "id": "dc906f6c",
   "metadata": {},
   "source": [
    "1. Créer `X` un tableau à deux dimensions (i.e. une matrice) comportant 10 lignes\n",
    "et 2 colonnes. Les nombres dans le tableau sont aléatoires.\n",
    "2. Importer le module `matplotlib.pyplot` sous le nom `plt`. Utiliser\n",
    "`plt.scatter` pour représenter les données sous forme de nuage de points. \n",
    "3. Constuire une matrice 10x10 stockant, à l'élément $(i,j)$, la distance euclidienne entre les points $X[i,]$ et $X[j,]$. Pour cela, il va falloir jouer avec les dimensions en créant des tableaux emboîtés à partir par des appels à `np.newaxis` :\n",
    "  + En premier lieu, utiliser `X1 = X[:, np.newaxis, :]` pour transformer la matrice en tableau emboîté. Vérifier les dimensions\n",
    "  + Créer `X2` de dimension `(1, 10, 2)` à partir de la même logique\n",
    "  + En déduire, pour chaque point, la distance avec les autres points pour chaque coordonnées. Elever celle-ci au carré\n",
    "  + A ce stade, vous devriez avoir un tableau de dimension `(10, 10, 2)`. La réduction à une matrice s'obtient en sommant sur le dernier axe. Regarder dans l'aide de `np.sum` comme effectuer une somme sur le dernier axe. \n",
    "  + Enfin, appliquer la racine carrée pour obtenir une distance euclidienne en bonne et due forme. \n",
    "4. Vérifier que les termes diagonaux sont bien nuls (distance d'un point à lui-même...)\n",
    "5. Il s'agit maintenant de classer, pour chaque point, les points dont les valeurs sont les plus similaires. Utiliser `np.argsort` pour obtenir, pour chaque ligne, le classement des points les plus proches\n",
    "6. On va s'intéresser aux k-plus proches voisins. Pour le moment, fixons k=2. Utiliser `argpartition` pour réordonner chaque ligne de manière à avoir les 2 plus proches voisins de chaque point d'abord et le reste de la ligne ensuite\n",
    "7. Utiliser le morceau de code ci-dessous\n",
    "\n",
    "~~~python\n",
    "plt.scatter(X[:, 0], X[:, 1], s=100)\n",
    "\n",
    "# draw lines from each point to its two nearest neighbors\n",
    "K = 2\n",
    "\n",
    "for i in range(X.shape[0]):\n",
    "    for j in nearest_partition[i, :K+1]:\n",
    "        # plot a line from X[i] to X[j]\n",
    "        # use some zip magic to make it happen:\n",
    "        plt.plot(*zip(X[j], X[i]), color='black')\n",
    "~~~\n",
    "\n",
    "pour représenter graphiquement le réseau de plus proches voisins\n",
    "\n",
    "\n"
   ]
  },
  {
   "cell_type": "code",
   "execution_count": null,
   "id": "efa04a0f",
   "metadata": {},
   "outputs": [],
   "source": [
    "#| include: true\n",
    "#| echo: true\n",
    "\n",
    "# Correction\n",
    "\n",
    "# 1. Definition de X\n",
    "X = np.random.rand(10, 2)\n",
    "\n",
    "# 2. Nuage de points. \n",
    "import matplotlib.pyplot as plt\n",
    "print(X[:,0])"
   ]
  },
  {
   "cell_type": "markdown",
   "id": "c5189dab",
   "metadata": {},
   "source": [
    "```\n",
    "## [0.17519091 0.33208423 0.96709445 0.80465566 0.17801314 0.67298802\n",
    "##  0.05316667 0.58364611 0.33595582 0.42668076]\n",
    "```"
   ]
  },
  {
   "cell_type": "code",
   "execution_count": null,
   "id": "8a112c03",
   "metadata": {},
   "outputs": [],
   "source": [
    "print(X[:,1])"
   ]
  },
  {
   "cell_type": "markdown",
   "id": "9017aea1",
   "metadata": {},
   "source": [
    "```\n",
    "## [0.51338996 0.3787365  0.4711048  0.81820539 0.42399254 0.99234627\n",
    "##  0.33171476 0.34062117 0.13462732 0.50872658]\n",
    "```"
   ]
  },
  {
   "cell_type": "code",
   "execution_count": null,
   "id": "a93a749e",
   "metadata": {
    "lines_to_next_cell": 0
   },
   "outputs": [],
   "source": [
    "plt.scatter(X[:, 0], X[:, 1], s=100)"
   ]
  },
  {
   "cell_type": "markdown",
   "id": "60a6664c",
   "metadata": {},
   "source": [
    "\n",
    "\n"
   ]
  },
  {
   "cell_type": "code",
   "execution_count": null,
   "id": "3d788808",
   "metadata": {},
   "outputs": [],
   "source": [
    "#| include: true\n",
    "#| echo: true\n",
    "\n",
    "fig = plt.figure()\n",
    "plt.scatter(X[:, 0], X[:, 1], s=100)\n",
    "fig\n",
    "plt.savefig(\"scatter_numpy.png\", bbox_inches='tight')"
   ]
  },
  {
   "cell_type": "markdown",
   "id": "c1d37fe6",
   "metadata": {},
   "source": [
    "Pour la question 2, vous devriez obtenir un graphique ayant cet aspect :\n",
    "\n"
   ]
  },
  {
   "cell_type": "code",
   "execution_count": null,
   "id": "5e149a76",
   "metadata": {},
   "outputs": [],
   "source": [
    "#| include: true\n",
    "#| echo: true\n",
    "\n",
    "# 3. Construire la matrice des distances euclidiennes\n",
    "print(X.shape)"
   ]
  },
  {
   "cell_type": "markdown",
   "id": "aba5fd18",
   "metadata": {},
   "source": [
    "```\n",
    "## (10, 2)\n",
    "```"
   ]
  },
  {
   "cell_type": "code",
   "execution_count": null,
   "id": "0e097f54",
   "metadata": {},
   "outputs": [],
   "source": [
    "X1 = X[:, np.newaxis, :]\n",
    "print(\"dimension X1 : \", X1.shape)"
   ]
  },
  {
   "cell_type": "markdown",
   "id": "64f25d80",
   "metadata": {},
   "source": [
    "```\n",
    "## dimension X1 :  (10, 1, 2)\n",
    "```"
   ]
  },
  {
   "cell_type": "code",
   "execution_count": null,
   "id": "1872c01e",
   "metadata": {},
   "outputs": [],
   "source": [
    "X2 = X[np.newaxis, :,:]\n",
    "print(\"dimension X2 : \", X2.shape)"
   ]
  },
  {
   "cell_type": "markdown",
   "id": "de2b89c2",
   "metadata": {},
   "source": [
    "```\n",
    "## dimension X2 :  (1, 10, 2)\n",
    "```"
   ]
  },
  {
   "cell_type": "code",
   "execution_count": null,
   "id": "37072e74",
   "metadata": {},
   "outputs": [],
   "source": [
    "dist1 = (X1 - X2) ** 2\n",
    "print(\"dimension dist1 : \", dist1.shape)"
   ]
  },
  {
   "cell_type": "markdown",
   "id": "8979c7e0",
   "metadata": {},
   "source": [
    "```\n",
    "## dimension dist1 :  (10, 10, 2)\n",
    "```"
   ]
  },
  {
   "cell_type": "code",
   "execution_count": null,
   "id": "5d7c5edc",
   "metadata": {},
   "outputs": [],
   "source": [
    "dist = np.sqrt(np.sum((X1 - X2) ** 2, axis=-1))\n",
    "print(\"dimension dist : \", dist.shape)\n",
    "\n",
    "# 4. Vérif termes diagonaux "
   ]
  },
  {
   "cell_type": "markdown",
   "id": "aa0c2ce2",
   "metadata": {},
   "source": [
    "```\n",
    "## dimension dist :  (10, 10)\n",
    "```"
   ]
  },
  {
   "cell_type": "code",
   "execution_count": null,
   "id": "608dd493",
   "metadata": {},
   "outputs": [],
   "source": [
    "print(dist)"
   ]
  },
  {
   "cell_type": "markdown",
   "id": "d5d034c1",
   "metadata": {},
   "source": [
    "```\n",
    "## [[0.         0.20675364 0.79303168 0.69938424 0.08944195 0.69079744\n",
    "##   0.21885108 0.44349149 0.4114687  0.25153308]\n",
    "##  [0.20675364 0.         0.64169298 0.64533454 0.16058023 0.70194896\n",
    "##   0.28285341 0.25443301 0.24413987 0.16076668]\n",
    "##  [0.79303168 0.64169298 0.         0.38322993 0.79048648 0.59849082\n",
    "##   0.92449639 0.40504149 0.71522937 0.54172166]\n",
    "##  [0.69938424 0.64533454 0.38322993 0.         0.74032738 0.21831494\n",
    "##   0.89521441 0.52624321 0.82882961 0.48851014]\n",
    "##  [0.08944195 0.16058023 0.79048648 0.74032738 0.         0.75367506\n",
    "##   0.15524764 0.41411217 0.32966365 0.26270791]\n",
    "##  [0.69079744 0.70194896 0.59849082 0.21831494 0.75367506 0.\n",
    "##   0.90587665 0.65782033 0.92155981 0.54272946]\n",
    "##  [0.21885108 0.28285341 0.92449639 0.89521441 0.15524764 0.90587665\n",
    "##   0.         0.5305542  0.34469286 0.41333517]\n",
    "##  [0.44349149 0.25443301 0.40504149 0.52624321 0.41411217 0.65782033\n",
    "##   0.5305542  0.         0.32215515 0.22999467]\n",
    "##  [0.4114687  0.24413987 0.71522937 0.82882961 0.32966365 0.92155981\n",
    "##   0.34469286 0.32215515 0.         0.3849432 ]\n",
    "##  [0.25153308 0.16076668 0.54172166 0.48851014 0.26270791 0.54272946\n",
    "##   0.41333517 0.22999467 0.3849432  0.        ]]\n",
    "```"
   ]
  },
  {
   "cell_type": "code",
   "execution_count": null,
   "id": "4326e34e",
   "metadata": {},
   "outputs": [],
   "source": [
    "print(dist.diagonal())\n",
    "\n",
    "#5. Classer avec np.argsort "
   ]
  },
  {
   "cell_type": "markdown",
   "id": "10416582",
   "metadata": {},
   "source": [
    "```\n",
    "## [0. 0. 0. 0. 0. 0. 0. 0. 0. 0.]\n",
    "```"
   ]
  },
  {
   "cell_type": "code",
   "execution_count": null,
   "id": "56d38039",
   "metadata": {},
   "outputs": [],
   "source": [
    "np.argsort(dist)\n",
    "\n",
    "#6. 2ppv"
   ]
  },
  {
   "cell_type": "markdown",
   "id": "be791337",
   "metadata": {},
   "source": [
    "```\n",
    "## array([[0, 4, 1, 6, 9, 8, 7, 5, 3, 2],\n",
    "##        [1, 4, 9, 0, 8, 7, 6, 2, 3, 5],\n",
    "##        [2, 3, 7, 9, 5, 1, 8, 4, 0, 6],\n",
    "##        [3, 5, 2, 9, 7, 1, 0, 4, 8, 6],\n",
    "##        [4, 0, 6, 1, 9, 8, 7, 3, 5, 2],\n",
    "##        [5, 3, 9, 2, 7, 0, 1, 4, 6, 8],\n",
    "##        [6, 4, 0, 1, 8, 9, 7, 3, 5, 2],\n",
    "##        [7, 9, 1, 8, 2, 4, 0, 3, 6, 5],\n",
    "##        [8, 1, 7, 4, 6, 9, 0, 2, 3, 5],\n",
    "##        [9, 1, 7, 0, 4, 8, 6, 3, 2, 5]])\n",
    "```"
   ]
  },
  {
   "cell_type": "code",
   "execution_count": null,
   "id": "0fbaeb36",
   "metadata": {},
   "outputs": [],
   "source": [
    "K = 2\n",
    "nearest_partition = np.argpartition(dist, K + 1, axis=1)\n",
    "print(nearest_partition) # Ne pas oublier que le plus proche voisin d'un point est lui-même !\n",
    "\n",
    "#7. Tester le bout de code\n",
    "# Each point in the plot has lines drawn to its two nearest neighbors."
   ]
  },
  {
   "cell_type": "markdown",
   "id": "e4b428cb",
   "metadata": {},
   "source": [
    "```\n",
    "## [[0 4 1 6 9 8 7 5 3 2]\n",
    "##  [1 4 9 0 8 7 6 2 5 3]\n",
    "##  [2 3 7 9 5 1 8 4 6 0]\n",
    "##  [3 5 2 9 7 1 0 6 8 4]\n",
    "##  [4 0 6 1 9 8 3 7 5 2]\n",
    "##  [3 5 9 2 7 0 6 1 8 4]\n",
    "##  [6 4 0 1 8 9 7 3 5 2]\n",
    "##  [9 7 1 8 2 4 6 5 3 0]\n",
    "##  [8 1 7 4 6 9 5 3 2 0]\n",
    "##  [1 9 7 0 3 5 6 2 8 4]]\n",
    "```"
   ]
  },
  {
   "cell_type": "code",
   "execution_count": null,
   "id": "8d47e3be",
   "metadata": {},
   "outputs": [],
   "source": [
    "fig = plt.figure()\n",
    "for i in range(X.shape[0]):\n",
    "    for j in nearest_partition[i, :K+1]:\n",
    "        # plot a line from X[i] to X[j]\n",
    "        # use some zip magic to make it happen:\n",
    "        plt.plot(*zip(X[j], X[i]), color='black')\n",
    "fig\n",
    "plt.savefig(\"knn.png\", bbox_inches='tight')"
   ]
  },
  {
   "cell_type": "markdown",
   "id": "4029378f",
   "metadata": {},
   "source": [
    "Le résultat de la question 7 est le suivant: \n"
   ]
  },
  {
   "cell_type": "markdown",
   "id": "6d132597",
   "metadata": {},
   "source": [
    "Ai-je inventé cet exercice corsé ? Pas du tout, il [vient de là](https://jakevdp.github.io/PythonDataScienceHandbook/02.08-sorting.html#Example:-k-Nearest-Neighbors). Mais, si je vous l'avais indiqué immédiatement, auriez-vous cherché à répondre aux questions ?\n",
    "\n",
    "Par ailleurs, il ne serait pas une bonne idée de généraliser cet algorithme à de grosses données. La complexité de notre approche est $O(N^2)$. L'algorithme implémenté par Scikit-learn est\n",
    "en $O[NlogN]$.\n",
    "\n",
    "De plus, le calcul de distances matricielles en utilisant la puissance des cartes graphiques serait plus rapide. A cet égard, la librairie [faiss](https://github.com/facebookresearch/faiss) offre des performances beaucoup plus satisfaisantes que celles que permettraient `numpy` sur ce problème précis.\n",
    "\n",
    "<!-----\n",
    "## Restructuration, concaténation et division\n",
    "\n",
    "* Pour restructurer un `array`, c'est-à-dire changer ses dimensions, le plus simple est d'utiliser la méthode `reshape`. Par exemple, pour \n",
    "\n",
    "np.reshape\n",
    "np.concatenate\n",
    "np.split, np.hsplit, and np.vsplit\n",
    "----->\n",
    "\n",
    "## Exercices supplémentaires\n",
    "\n",
    "* Simulations de variables aléatoires ;\n",
    "* TCL ;\n",
    "* Pagerank\n",
    "\n"
   ]
  }
 ],
 "metadata": {
  "kernelspec": {
   "display_name": "Python 3",
   "language": "python",
   "name": "python3"
  }
 },
 "nbformat": 4,
 "nbformat_minor": 5
}
