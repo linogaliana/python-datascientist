{
  "cells": [
    {
      "cell_type": "markdown",
      "metadata": {},
      "source": [
        "# Retour sur numpy\n",
        "\n",
        "Pour essayer les exemples présents dans ce tutoriel :"
      ],
      "id": "075c4a78-0ed1-4066-b5dc-5d89dee59f7e"
    },
    {
      "cell_type": "markdown",
      "metadata": {},
      "source": [
        "``` python\n",
        "import sys\n",
        "sys.path.insert(1, '../../../../') #insert the utils module\n",
        "from utils import print_badges\n",
        "\n",
        "#print_badges(__file__)\n",
        "print_badges(\"content/course/manipulation/01_numpy.qmd\")\n",
        "```\n",
        "\n",
        "<p class=\"badges\">\n",
        "\n",
        "<a href=\"https://github.com/linogaliana/python-datascientist/blob/master/notebooks/course/manipulation/01_numpy.ipynb\" class=\"github\"><i class=\"fab fa-github\"></i></a>\n",
        "<a href=\"https://downgit.github.io/#/home?url=https://github.com/linogaliana/python-datascientist/blob/master/notebooks/course/manipulation/01_numpy.ipynb\" target=\"_blank\" rel=\"noopener\"><img src=\"https://img.shields.io/badge/Download-Notebook-important?logo=Jupyter\" alt=\"Download\"></a>\n",
        "<a href=\"https://nbviewer.jupyter.org/github/linogaliana/python-datascientist/blob/master/notebooks/course/manipulation/01_numpy.ipynb\" target=\"_blank\" rel=\"noopener\"><img src=\"https://img.shields.io/badge/Visualize-nbviewer-blue?logo=Jupyter\" alt=\"nbviewer\"></a>\n",
        "<a href=\"https://datalab.sspcloud.fr/launcher/ide/jupyter-python?autoLaunch=true&onyxia.friendlyName=%C2%ABpython-datascience%C2%BB&init.personalInit=%C2%ABhttps%3A%2F%2Fraw.githubusercontent.com%2Flinogaliana%2Fpython-datascientist%2Fmaster%2Fsspcloud%2Finit-jupyter.sh%C2%BB&init.personalInitArgs=%C2%ABmanipulation%2001_numpy%C2%BB&security.allowlist.enabled=false\" target=\"_blank\" rel=\"noopener\"><img src=\"https://img.shields.io/badge/SSPcloud-Tester%20via%20SSP--cloud-informational&amp;color=yellow?logo=Python\" alt=\"Onyxia\"></a><br>\n",
        "<a href=\"https://mybinder.org/v2/gh/linogaliana/python-datascientist/master?filepath={binder_path}\" target=\"_blank\" rel=\"noopener\"><img src=\"https://img.shields.io/badge/Launch-Binder-E66581.svg?logo=data:image/png;base64,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\" alt=\"Binder\"></a>\n",
        "<a href=\"http://colab.research.google.com/github/linogaliana/python-datascientist/blob/master/notebooks/course/manipulation/01_numpy.ipynb\" target=\"_blank\" rel=\"noopener\"><img src=\"https://colab.research.google.com/assets/colab-badge.svg\" alt=\"Open In Colab\"></a>\n",
        "<a href=\"https://github.dev/linogaliana/python-datascientist/notebooks/course/manipulation/01_numpy.ipynb\" target=\"_blank\" rel=\"noopener\"><img src=\"https://img.shields.io/static/v1?logo=visualstudiocode&label=&message=Open%20in%20Visual%20Studio%20Code&labelColor=2c2c32&color=007acc&logoColor=007acc\" alt=\"githubdev\"></a>\n",
        "\n",
        "</p>\n",
        "\n",
        "</p>"
      ],
      "id": "71083e9c-3677-4fd8-91fd-6498c5adee0d"
    },
    {
      "cell_type": "markdown",
      "metadata": {},
      "source": [
        "Il est recommandé de régulièrement se référer à\n",
        "la [cheatsheet numpy](https://www.datacamp.com/community/blog/python-numpy-cheat-sheet) et à la\n",
        "[doc officielle](https://numpy.org/doc/stable/) en cas de doute\n",
        "sur une fonction.\n",
        "\n",
        "Dans ce chapitre, on ne dérogera pas à la convention qui s’est imposée\n",
        "d’importer `numpy` de la\n",
        "manière suivante:"
      ],
      "id": "dd2143e9-fe69-46a3-bad3-c7db88542e86"
    },
    {
      "cell_type": "code",
      "execution_count": 2,
      "metadata": {},
      "outputs": [],
      "source": [
        "import numpy as np"
      ],
      "id": "37003d02-4b5d-4393-a83b-cc496d6c84da"
    },
    {
      "cell_type": "markdown",
      "metadata": {},
      "source": [
        "Nous allons également fixer la racine du générateur aléatoire de nombres\n",
        "afin d’avoir des résultats reproductibles:"
      ],
      "id": "c6d1ca60-5d28-4525-828e-13cbcb450b88"
    },
    {
      "cell_type": "code",
      "execution_count": 3,
      "metadata": {},
      "outputs": [],
      "source": [
        "np.random.seed(12345)"
      ],
      "id": "e09d79ae-3c7e-4edb-b386-3f47db56dab0"
    },
    {
      "cell_type": "markdown",
      "metadata": {},
      "source": [
        "<div class=\"alert alert-info\" role=\"alert\" style=\"color: rgba(0,0,0,.8); background-color: white; margin-top: 1em; margin-bottom: 1em; margin:1.5625emauto; padding:0 .6rem .8rem!important;overflow:hidden; page-break-inside:avoid; border-radius:.25rem; box-shadow:0 .2rem .5rem rgba(0,0,0,.05),0 0 .05rem rgba(0,0,0,.1); transition:color .25s,background-color .25s,border-color .25s ; border-right: 1px solid #dee2e6 ; border-top: 1px solid #dee2e6 ; border-bottom: 1px solid #dee2e6 ; border-left:.2rem solid #007bff80;\">\n",
        "<h3 class=\"alert-heading\"><i class=\"fa fa-comment\"></i> Note</h3>\n",
        "\n",
        "Les auteurs\n",
        "de `numpy` [préconisent désormais](https://numpy.org/doc/stable/reference/random/index.html)\n",
        "de privilégier l’utilisation de\n",
        "générateurs via la fonction `default_rng()` plutôt que la simple utilisation de `numpy.random`.\n",
        "\n",
        "Afin d’être en phase avec les codes qu’on peut trouver partout sur internet, nous\n",
        "conservons encore `np.random.seed` mais cela peut être amené à évoluer.\n",
        "\n",
        "</div>"
      ],
      "id": "49cf3c7b-85a7-4997-8b6b-bb0788d957e9"
    },
    {
      "cell_type": "markdown",
      "metadata": {},
      "source": [
        "Si les scripts suivants sont exécutés dans un `Notebook Jupyter`,\n",
        "il est recommandé d’utiliser les paramètres suivants\n",
        "pour contrôler le rendu:\n",
        "\n",
        "``` python\n",
        "from IPython.core.interactiveshell import InteractiveShell\n",
        "InteractiveShell.ast_node_interactivity = \"all\"\n",
        "```\n",
        "\n",
        "## Le concept d’array\n",
        "\n",
        "Le concept central de `NumPy` (`Numerical Python`) est\n",
        "l’**`array`** qui est un tableau de données multidimensionnel.\n",
        "\n",
        "L’array `numpy` peut être unidimensionnel et s’apparenter à un\n",
        "vecteur (`1d-array`),\n",
        "bidimensionnel et ainsi s’apparenter à une matrice (`2d-array`) ou,\n",
        "de manière plus générale,\n",
        "prendre la forme d’un objet\n",
        "multidimensionnel (`Nd-array`).\n",
        "\n",
        "Les tableaux simples (uni ou bi-dimensionnels) sont faciles à se représenter et seront particulièrement\n",
        "utilisés dans le paradigme des DataFrames mais\n",
        "la possibilité d’avoir des objets multidimensionnels permettra d’exploiter des\n",
        "structures très complexes.\n",
        "\n",
        "Un DataFrame sera construit à partir d’une collection\n",
        "d’array uni-dimensionnels (les variables de la table), ce qui permettra d’effectuer des opérations cohérentes\n",
        "(et optimisées) avec le type de la variable.\n",
        "\n",
        "Par rapport à une liste,\n",
        "\n",
        "-   un *array* ne peut contenir qu’un type de données (`integer`, `string`, etc.),\n",
        "    contrairement à une liste.\n",
        "-   les opérations implémentées par `numpy` seront plus efficaces et demanderont moins\n",
        "    de mémoire\n",
        "\n",
        "Les données géographiques constitueront une construction un peu plus complexe qu’un `DataFrame` traditionnel.\n",
        "La dimension géographique prend la forme d’un tableau plus profond, au moins bidimensionnel\n",
        "(coordonnées d’un point).\n",
        "\n",
        "## Créer un array\n",
        "\n",
        "On peut créer un `array` de plusieurs manières. Pour créer un `array` à partir d’une liste,\n",
        "il suffit d’utiliser la méthode `array`:"
      ],
      "id": "bd82f238-b216-4de2-826e-7c75ddd32694"
    },
    {
      "cell_type": "code",
      "execution_count": 4,
      "metadata": {},
      "outputs": [
        {
          "output_type": "display_data",
          "metadata": {},
          "data": {
            "text/plain": [
              "array([1, 2, 5])"
            ]
          }
        }
      ],
      "source": [
        "np.array([1,2,5])"
      ],
      "id": "11ab5612-72e9-4263-b251-f0c99e710b85"
    },
    {
      "cell_type": "markdown",
      "metadata": {},
      "source": [
        "Il est possible d’ajouter un argument `dtype` pour contraindre le type du *array*:"
      ],
      "id": "f33cd29d-9ec3-4bfc-9c6c-aa7bb17f0af8"
    },
    {
      "cell_type": "code",
      "execution_count": 5,
      "metadata": {},
      "outputs": [
        {
          "output_type": "display_data",
          "metadata": {},
          "data": {
            "text/plain": [
              "array([list(['a', 'z', 'e']), list(['r', 't']), list(['y'])], dtype=object)"
            ]
          }
        }
      ],
      "source": [
        "np.array([[\"a\",\"z\",\"e\"],[\"r\",\"t\"],[\"y\"]], dtype=\"object\")"
      ],
      "id": "689d3de1-7cea-4943-a512-acc1993b2f94"
    },
    {
      "cell_type": "markdown",
      "metadata": {},
      "source": [
        "Il existe aussi des méthodes pratiques pour créer des array:\n",
        "\n",
        "-   séquences logiques : `np.arange` (suite) ou `np.linspace` (interpolation linéaire entre deux bornes)\n",
        "-   séquences ordonnées: *array* rempli de zéros, de 1 ou d’un nombre désiré : `np.zeros`, `np.ones` ou `np.full`\n",
        "-   séquences aléatoires: fonctions de génération de nombres aléatoires: `np.rand.uniform`, `np.rand.normal`, etc.\n",
        "-   tableau sous forme de matrice identité: `np.eye`"
      ],
      "id": "d4aa200b-2c14-40d9-aa1c-c94e5b0996bd"
    },
    {
      "cell_type": "code",
      "execution_count": 6,
      "metadata": {},
      "outputs": [
        {
          "output_type": "display_data",
          "metadata": {},
          "data": {
            "text/plain": [
              "array([[1., 0., 0.],\n",
              "       [0., 1., 0.],\n",
              "       [0., 0., 1.]])"
            ]
          }
        }
      ],
      "source": [
        "np.arange(0,10)\n",
        "np.arange(0,10,3)\n",
        "np.linspace(0, 1, 5)\n",
        "np.zeros(10, dtype=int)\n",
        "np.ones((3, 5), dtype=float)\n",
        "np.full((3, 5), 3.14)\n",
        "np.eye(3)"
      ],
      "id": "2631eac8-5f0b-4844-8fac-1fe1649f4cfb"
    },
    {
      "cell_type": "markdown",
      "metadata": {},
      "source": [
        "<div class=\"alert alert-success\" role=\"alert\" style=\"color: rgba(0,0,0,.8); background-color: white; margin-top: 1em; margin-bottom: 1em; margin:1.5625emauto; padding:0 .6rem .8rem!important;overflow:hidden; page-break-inside:avoid; border-radius:.25rem; box-shadow:0 .2rem .5rem rgba(0,0,0,.05),0 0 .05rem rgba(0,0,0,.1); transition:color .25s,background-color .25s,border-color .25s ; border-right: 1px solid #dee2e6 ; border-top: 1px solid #dee2e6 ; border-bottom: 1px solid #dee2e6 ; border-left:.2rem solid #3fb618;\">\n",
        "<h3 class=\"alert-heading\"><i class=\"fa fa-pencil\"></i> Exercice 1</h3>\n",
        "\n",
        "Générer:\n",
        "\n",
        "-   $X$ une variable aléatoire, 1000 répétitions d’une loi $U(0,1)$\n",
        "-   $Y$ une variable aléatoire, 1000 répétitions d’une loi normale de moyenne nulle et de variance égale à 2\n",
        "-   Vérifier la variance de $Y$ avec `np.var`\n",
        "\n",
        "</div>"
      ],
      "id": "ae2efe5a-1c12-4f37-a168-239cc370d8ba"
    },
    {
      "cell_type": "code",
      "execution_count": 7,
      "metadata": {},
      "outputs": [
        {
          "output_type": "display_data",
          "metadata": {},
          "data": {
            "text/plain": [
              "2.0398260830925024"
            ]
          }
        }
      ],
      "source": [
        "# Correction\n",
        "X = np.random.uniform(0,1,1000)\n",
        "Y = np.random.normal(0,np.sqrt(2),1000)\n",
        "\n",
        "np.var(Y)"
      ],
      "id": "43be204a-8506-433c-8344-7ab852c62ae4"
    },
    {
      "cell_type": "markdown",
      "metadata": {},
      "source": [
        "## Indexation et slicing\n",
        "\n",
        "### Logique dans le cas d’un array unidimensionnel\n",
        "\n",
        "La structure la plus simple imaginable est l’*array* unidimensionnel:"
      ],
      "id": "6366026e-4395-4acd-a736-94e4ef1d44e6"
    },
    {
      "cell_type": "code",
      "execution_count": 8,
      "metadata": {},
      "outputs": [
        {
          "output_type": "stream",
          "name": "stdout",
          "text": [
            "[0 1 2 3 4 5 6 7 8 9]"
          ]
        }
      ],
      "source": [
        "x = np.arange(10)\n",
        "print(x)"
      ],
      "id": "ad3187de-ffa5-4b9e-94ed-4eeaf534d7d6"
    },
    {
      "cell_type": "markdown",
      "metadata": {},
      "source": [
        "L’indexation est dans ce cas similaire à celle d’une liste:\n",
        "\n",
        "-   le premier élément est 0\n",
        "-   le énième élément est accessible à la position $n-1$\n",
        "\n",
        "La logique d’accès aux éléments est ainsi la suivante:\n",
        "\n",
        "``` python\n",
        "x[start:stop:step]\n",
        "```\n",
        "\n",
        "Avec un *array* unidimensionnel, l’opération de *slicing* (garder une coupe du *array*) est très simple.\n",
        "Par exemple, pour garder les *K* premiers éléments d’un *array*, on fera:\n",
        "\n",
        "``` python\n",
        "x[:(K-1)]\n",
        "```\n",
        "\n",
        "En l’occurrence, on sélectionne le K$^{eme}$ élément en utilisant\n",
        "\n",
        "``` python\n",
        "x[K-1]\n",
        "```\n",
        "\n",
        "Pour sélectionner uniquement un élément, on fera ainsi:"
      ],
      "id": "f6cb8be3-6163-4851-b34d-c12b7777d522"
    },
    {
      "cell_type": "code",
      "execution_count": 9,
      "metadata": {},
      "outputs": [
        {
          "output_type": "display_data",
          "metadata": {},
          "data": {
            "text/plain": [
              "2"
            ]
          }
        }
      ],
      "source": [
        "x = np.arange(10)\n",
        "x[2]"
      ],
      "id": "34ff3b57-f9fa-491d-a773-dcad8e31d3a2"
    },
    {
      "cell_type": "markdown",
      "metadata": {},
      "source": [
        "Les syntaxes qui permettent de sélectionner des indices particuliers d’une liste fonctionnent également\n",
        "avec les arrays."
      ],
      "id": "4033e62f-988c-4d62-9ad6-2d55c82a04c7"
    },
    {
      "cell_type": "markdown",
      "metadata": {},
      "source": [
        "<div class=\"alert alert-success\" role=\"alert\" style=\"color: rgba(0,0,0,.8); background-color: white; margin-top: 1em; margin-bottom: 1em; margin:1.5625emauto; padding:0 .6rem .8rem!important;overflow:hidden; page-break-inside:avoid; border-radius:.25rem; box-shadow:0 .2rem .5rem rgba(0,0,0,.05),0 0 .05rem rgba(0,0,0,.1); transition:color .25s,background-color .25s,border-color .25s ; border-right: 1px solid #dee2e6 ; border-top: 1px solid #dee2e6 ; border-bottom: 1px solid #dee2e6 ; border-left:.2rem solid #3fb618;\">\n",
        "<h3 class=\"alert-heading\"><i class=\"fa fa-pencil\"></i> Exercice 2</h3>\n",
        "\n",
        "-   Sélectionner les éléments 0,3,5\n",
        "-   Sélectionner les éléments pairs\n",
        "-   Sélectionner tous les éléments sauf le premier\n",
        "-   Sélectionner les 5 premiers éléments\n",
        "\n",
        "</div>"
      ],
      "id": "7b2bc4d4-94c3-457c-a7a3-e7551ea17b53"
    },
    {
      "cell_type": "code",
      "execution_count": 10,
      "metadata": {},
      "outputs": [
        {
          "output_type": "display_data",
          "metadata": {},
          "data": {
            "text/plain": [
              "array([0, 1, 2, 3, 4])"
            ]
          }
        }
      ],
      "source": [
        "# Correction\n",
        "x[[0,3,5]]\n",
        "x[::2]\n",
        "x[1:]\n",
        "x[:5]\n",
        "# x2[0,:] # La première ligne"
      ],
      "id": "f2d820c6-9d6c-4424-8ce0-b4e232f44490"
    },
    {
      "cell_type": "markdown",
      "metadata": {},
      "source": [
        "### Sur la performance\n",
        "\n",
        "Un élément déterminant dans la performance de `numpy` par rapport aux listes,\n",
        "lorsqu’il est question de\n",
        "*slicing* est qu’un array ne renvoie pas une\n",
        "copie de l’élément en question (copie qui coûte de la mémoire et du temps)\n",
        "mais simplement une vue de celui-ci.\n",
        "\n",
        "Lorsqu’il est nécessaire d’effectuer une copie,\n",
        "par exemple pour ne pas altérer l’array sous-jacent, on peut\n",
        "utiliser la méthode `copy`:\n",
        "\n",
        "``` python\n",
        "x_sub_copy = x[:2, :2].copy()\n",
        "```\n",
        "\n",
        "------------------------------------------------------------------------\n",
        "\n",
        "### Filtres logiques\n",
        "\n",
        "Il est également possible, et plus pratique, de sélectionner des données à partir de conditions logiques\n",
        "(opération qu’on appelle un ***boolean mask***).\n",
        "Cette fonctionalité servira principalement à\n",
        "effectuer des opérations de filtre sur les données.\n",
        "\n",
        "Pour des opérations de comparaison simples, les comparateurs logiques peuvent être suffisants.\n",
        "Ces comparaisons fonctionnent aussi sur les tableaux multidimensionnels grâce au\n",
        "*broadcasting* sur lequel nous reviendrons :"
      ],
      "id": "4a5d9f4c-4174-4e7b-a778-0005b419b2a8"
    },
    {
      "cell_type": "code",
      "execution_count": 11,
      "metadata": {},
      "outputs": [
        {
          "output_type": "stream",
          "name": "stdout",
          "text": [
            "[0 1 2 3 4 5 6 7 8 9]\n",
            "[[-1  1 -2]\n",
            " [-3  2  0]]"
          ]
        }
      ],
      "source": [
        "x = np.arange(10)\n",
        "x2 = np.array([[-1,1,-2],[-3,2,0]])\n",
        "print(x)\n",
        "print(x2)"
      ],
      "id": "04eff84f-c3a6-4196-b6a1-51ecdae0dea8"
    },
    {
      "cell_type": "code",
      "execution_count": 12,
      "metadata": {},
      "outputs": [
        {
          "output_type": "display_data",
          "metadata": {},
          "data": {
            "text/plain": [
              "array([[ True, False,  True],\n",
              "       [ True, False, False]])"
            ]
          }
        }
      ],
      "source": [
        "x==2\n",
        "x2<0"
      ],
      "id": "c4d51840-cc19-4d5a-a25a-b2fa2add54af"
    },
    {
      "cell_type": "markdown",
      "metadata": {},
      "source": [
        "Pour sélectionner les observations relatives à la condition logique,\n",
        "il suffit d’utiliser la logique de *slicing* de `numpy` qui fonctionne avec les conditions logiques"
      ],
      "id": "c0988907-01fd-43ba-9aa3-8e313d9625c6"
    },
    {
      "cell_type": "markdown",
      "metadata": {},
      "source": [
        "<div class=\"alert alert-success\" role=\"alert\" style=\"color: rgba(0,0,0,.8); background-color: white; margin-top: 1em; margin-bottom: 1em; margin:1.5625emauto; padding:0 .6rem .8rem!important;overflow:hidden; page-break-inside:avoid; border-radius:.25rem; box-shadow:0 .2rem .5rem rgba(0,0,0,.05),0 0 .05rem rgba(0,0,0,.1); transition:color .25s,background-color .25s,border-color .25s ; border-right: 1px solid #dee2e6 ; border-top: 1px solid #dee2e6 ; border-bottom: 1px solid #dee2e6 ; border-left:.2rem solid #3fb618;\">\n",
        "<h3 class=\"alert-heading\"><i class=\"fa fa-pencil\"></i> Exercice 3</h3>\n",
        "\n",
        "Soit\n",
        "\n",
        "``` python\n",
        "x = np.random.normal(size=10000)\n",
        "```\n",
        "\n",
        "1.  Ne conserver que les valeurs dont la valeur absolue est supérieure à 1.96\n",
        "2.  Compter le nombre de valeurs supérieures à 1.96 en valeur absolue et leur proportion dans l’ensemble\n",
        "3.  Sommer les valeurs absolues de toutes les observations supérieures (en valeur absolue) à 1.96\n",
        "    et rapportez les à la somme des valeurs de `x` (en valeur absolue)\n",
        "\n",
        "</div>"
      ],
      "id": "a754b811-13b2-44d0-8c43-8dd298b4a2f0"
    },
    {
      "cell_type": "code",
      "execution_count": 13,
      "metadata": {},
      "outputs": [
        {
          "output_type": "stream",
          "name": "stdout",
          "text": [
            "482\n",
            "0.0482"
          ]
        },
        {
          "output_type": "display_data",
          "metadata": {},
          "data": {
            "text/plain": [
              "0.13968345458111928"
            ]
          }
        }
      ],
      "source": [
        "# Correction\n",
        "x = np.random.normal(size=10000)\n",
        "\n",
        "x2 = x[np.abs(x)>=1.96]\n",
        "\n",
        "print(x2.size)\n",
        "print(x2.size/x.size)\n",
        "np.sum(np.abs(x2))/np.sum(np.abs(x))"
      ],
      "id": "f836b010-008c-4ec9-84e3-f55fcc1ff8ec"
    },
    {
      "cell_type": "markdown",
      "metadata": {},
      "source": [
        "Lorsque c’est possible, il est recommandé d’utiliser les fonctions logiques de `numpy` (optimisées et\n",
        "qui gèrent bien la dimension).\n",
        "Parmi elles, on peut retrouver:\n",
        "\n",
        "-   `count_nonzero`\n",
        "-   `isnan`\n",
        "-   `any` ; `all` ; notamment avec l’argument `axis`\n",
        "-   `np.array_equal` pour vérifier, élément par élément, l’égalité\n",
        "\n",
        "Soit"
      ],
      "id": "2ac4bb15-5054-4d34-a56e-649bac06f624"
    },
    {
      "cell_type": "code",
      "execution_count": 14,
      "metadata": {},
      "outputs": [],
      "source": [
        "x = np.random.normal(0, size=(3, 4))"
      ],
      "id": "00adc101-4a96-4a72-a8e3-2b6db2eb1395"
    },
    {
      "cell_type": "markdown",
      "metadata": {},
      "source": [
        "un *array* multidimensionnel et"
      ],
      "id": "c9093ec0-ab35-477c-b9f2-efe10ad85833"
    },
    {
      "cell_type": "code",
      "execution_count": 15,
      "metadata": {},
      "outputs": [],
      "source": [
        "y = np.array([np.nan, 0, 1])"
      ],
      "id": "aef6e1fc-2256-4982-a774-1c507a6edf6e"
    },
    {
      "cell_type": "markdown",
      "metadata": {},
      "source": [
        "un *array* unidimensionnel présentant une valeur manquante."
      ],
      "id": "12b7ff51-2315-4cf3-b104-667d64325b8b"
    },
    {
      "cell_type": "markdown",
      "metadata": {},
      "source": [
        "<div class=\"alert alert-success\" role=\"alert\" style=\"color: rgba(0,0,0,.8); background-color: white; margin-top: 1em; margin-bottom: 1em; margin:1.5625emauto; padding:0 .6rem .8rem!important;overflow:hidden; page-break-inside:avoid; border-radius:.25rem; box-shadow:0 .2rem .5rem rgba(0,0,0,.05),0 0 .05rem rgba(0,0,0,.1); transition:color .25s,background-color .25s,border-color .25s ; border-right: 1px solid #dee2e6 ; border-top: 1px solid #dee2e6 ; border-bottom: 1px solid #dee2e6 ; border-left:.2rem solid #3fb618;\">\n",
        "<h3 class=\"alert-heading\"><i class=\"fa fa-pencil\"></i> Exercice 4</h3>\n",
        "\n",
        "1.  Utiliser `count_nonzero` sur `y`\n",
        "2.  Utiliser `isnan` sur `y` et compter le nombre de valeurs non NaN\n",
        "3.  Vérifier que `x` comporte au moins une valeur positive dans son ensemble, en parcourant les lignes puis les colonnes.\n",
        "\n",
        "Note : Jetez un oeil à ce que correspond le paramètre `axis` dans `numpy` en vous documentant sur internet. Par exemple [ici](https://www.sharpsightlabs.com/blog/numpy-axes-explained/).\n",
        "\n",
        "</div>"
      ],
      "id": "835c66ff-021d-44b4-a534-74b11c7a825b"
    },
    {
      "cell_type": "code",
      "execution_count": 16,
      "metadata": {},
      "outputs": [
        {
          "output_type": "stream",
          "name": "stdout",
          "text": [
            "[[-0.6857203  -1.14174446  0.50779058  0.74331611]\n",
            " [ 1.55618133  0.89362697 -1.11876046 -1.53159337]\n",
            " [-0.64852726  0.39912285  0.77125074 -1.41924005]]\n",
            "[nan  0.  1.]\n",
            "2\n",
            "[ True False False]\n",
            "1\n",
            "True\n",
            "[ True  True  True  True]\n",
            "[ True  True  True]"
          ]
        }
      ],
      "source": [
        "# Correction\n",
        "x = np.random.normal(0, size=(3, 4))\n",
        "y = np.array([np.nan, 0, 1])\n",
        "\n",
        "print(x)\n",
        "print(y)\n",
        "# 1. Utiliser `count_nonzero` sur `y`\n",
        "print(np.count_nonzero(y))\n",
        "# 2. Utiliser `isnan` sur `y` et compter le nombre de valeurs non NaN\n",
        "print(np.isnan(y))\n",
        "print(np.sum(np.isnan(y)))\n",
        "# 3. Vérifier que `x` comporte au moins une valeur positive dans son ensemble, en parcourant les lignes puis les colonnes\n",
        "print(np.any(x>0))\n",
        "print(np.any(x>0, axis = 0))\n",
        "print(np.any(x>0, axis = 1))"
      ],
      "id": "57fe2ea2-7f62-43ec-a1d9-cb28a9e95847"
    },
    {
      "cell_type": "markdown",
      "metadata": {},
      "source": [
        "## Manipuler un array\n",
        "\n",
        "Dans cette section, on utilisera un array multidimensionnel:"
      ],
      "id": "72bffbee-14c5-42a0-906e-a738eae4d3e3"
    },
    {
      "cell_type": "code",
      "execution_count": 17,
      "metadata": {},
      "outputs": [],
      "source": [
        "x = np.random.normal(0, size=(3, 4))"
      ],
      "id": "2af2a1af-bbd0-4639-b955-2f09470eaece"
    },
    {
      "cell_type": "markdown",
      "metadata": {},
      "source": [
        "### Statistiques sur un array\n",
        "\n",
        "Pour les statistiques descriptives classiques,\n",
        "`numpy` propose un certain nombre de fonctions déjà implémentées,\n",
        "qui peuvent être combinées avec l’argument `axis`"
      ],
      "id": "45b118ca-a2a6-43ed-b86b-4cab4f26f83a"
    },
    {
      "cell_type": "markdown",
      "metadata": {},
      "source": [
        "<div class=\"alert alert-success\" role=\"alert\" style=\"color: rgba(0,0,0,.8); background-color: white; margin-top: 1em; margin-bottom: 1em; margin:1.5625emauto; padding:0 .6rem .8rem!important;overflow:hidden; page-break-inside:avoid; border-radius:.25rem; box-shadow:0 .2rem .5rem rgba(0,0,0,.05),0 0 .05rem rgba(0,0,0,.1); transition:color .25s,background-color .25s,border-color .25s ; border-right: 1px solid #dee2e6 ; border-top: 1px solid #dee2e6 ; border-bottom: 1px solid #dee2e6 ; border-left:.2rem solid #3fb618;\">\n",
        "<h3 class=\"alert-heading\"><i class=\"fa fa-pencil\"></i> Exercice 5</h3>\n",
        "\n",
        "1.  Faire la somme de tous les éléments d’un `array`, des éléments en ligne et des éléments en colonne. Vérifier\n",
        "    la cohérence\n",
        "2.  Ecrire une fonction `statdesc` pour renvoyer les valeurs suivantes : moyenne, médiane, écart-type, minimum et maximum.\n",
        "    L’appliquer sur `x` en jouant avec l’argument axis\n",
        "\n",
        "</div>"
      ],
      "id": "5610fe44-8dcf-4210-bcfb-8fe86469e4ba"
    },
    {
      "cell_type": "code",
      "execution_count": 18,
      "metadata": {},
      "outputs": [
        {
          "output_type": "stream",
          "name": "stdout",
          "text": [
            "[[ 1.82115237  0.0477926   0.09654262 -0.238783  ]\n",
            " [ 0.02698757  0.01327997 -0.20647321 -0.02130096]\n",
            " [ 0.22958739  0.17481996  0.52158867  1.77071535]]\n",
            "4.235909339255212\n",
            "[2.07772734 0.23589254 0.41165808 1.51063138]\n",
            "[ 1.72670459 -0.18750662  2.69671137]\n",
            "4.235909339255212\n",
            "4.235909339255212"
          ]
        }
      ],
      "source": [
        "# Correction\n",
        "print(x)\n",
        "print(x.sum())\n",
        "print(x.sum(axis = 0))\n",
        "print(x.sum(axis = 1))\n",
        "# check coherence\n",
        "print(x.sum(axis = 0).sum())\n",
        "print(x.sum(axis = 1).sum())"
      ],
      "id": "b871adcf-baff-4308-8ff0-819a2dbb3693"
    },
    {
      "cell_type": "code",
      "execution_count": 19,
      "metadata": {},
      "outputs": [
        {
          "output_type": "display_data",
          "metadata": {},
          "data": {
            "text/plain": [
              "array([[ 0.43167615, -0.04687666,  0.67417784],\n",
              "       [ 0.07216761, -0.00401049,  0.37558803],\n",
              "       [ 0.81237933,  0.09380821,  0.64666392],\n",
              "       [-0.238783  , -0.20647321,  0.17481996],\n",
              "       [ 1.82115237,  0.02698757,  1.77071535]])"
            ]
          }
        }
      ],
      "source": [
        "# Correction\n",
        "\n",
        "def statdesc(x, axis = None):\n",
        "    \"\"\"\n",
        "    Statistiques agrégées sur un array numpy\n",
        "\n",
        "    :param x: Numpy array\n",
        "    :param axis: Numpy dimension that should be used\n",
        "    :return: A numpy array with mean, median, sd, min and max\n",
        "    \"\"\"\n",
        "\n",
        "    return np.array([\n",
        "        np.mean(x, axis = axis),\n",
        "        np.median(x, axis = axis),\n",
        "        np.std(x, axis = axis),\n",
        "        np.min(x, axis = axis),\n",
        "        np.max(x, axis = axis)\n",
        "        ])\n",
        "\n",
        "statdesc(x)\n",
        "statdesc(x, axis = 0)\n",
        "statdesc(x, axis = 1)"
      ],
      "id": "869926ee-e434-427d-9f89-7143e7cca3ff"
    },
    {
      "cell_type": "markdown",
      "metadata": {},
      "source": [
        "### Fonctions de manipulation\n",
        "\n",
        "Voici quelques fonctions pour modifier un array,\n",
        "\n",
        "| Opération                                                      | Implémentation                                  |\n",
        "|------------------------------|------------------------------------------|\n",
        "| Applatir un array                                              | `x.flatten()` (méthode)                         |\n",
        "| Transposer un array                                            | `x.T` (méthode) ou `np.transpose(x)` (fonction) |\n",
        "| Ajouter des éléments à la fin                                  | `np.append(x, [1,2])`                           |\n",
        "| Ajouter des éléments à un endroit donné (aux positions 1 et 2) | `np.insert(x, [1,2], 3)`                        |\n",
        "| Supprimer des éléments (aux positions 0 et 3)                  | `np.delete(x, [0,3])`                           |\n",
        "\n",
        "Pour combiner des array, on peut utiliser, selon les cas,\n",
        "les fonctions `np.concatenate`, `np.vstack` ou la méthode `.r_` (concaténation *rowwise*).\n",
        "`np.hstack` ou la méthode `.column_stack` ou `.c_` (concaténation *column-wise*)"
      ],
      "id": "c0c851ef-82aa-4f4d-b847-021a2cacecf9"
    },
    {
      "cell_type": "code",
      "execution_count": 20,
      "metadata": {},
      "outputs": [],
      "source": [
        "x = np.random.normal(size = 10)"
      ],
      "id": "07a20056-4eef-4e36-a72e-f0639791ee2a"
    },
    {
      "cell_type": "markdown",
      "metadata": {},
      "source": [
        "Pour ordonner un array, on utilise `np.sort`"
      ],
      "id": "c98d3b79-709c-40d5-a7d7-85a6eedd74e4"
    },
    {
      "cell_type": "code",
      "execution_count": 21,
      "metadata": {},
      "outputs": [
        {
          "output_type": "display_data",
          "metadata": {},
          "data": {
            "text/plain": [
              "array([1, 2, 3, 4, 5, 6, 7])"
            ]
          }
        }
      ],
      "source": [
        "x = np.array([7, 2, 3, 1, 6, 5, 4])\n",
        "\n",
        "np.sort(x)"
      ],
      "id": "5ecd15c2-9a95-4a39-97a4-82f999ed9b8b"
    },
    {
      "cell_type": "markdown",
      "metadata": {},
      "source": [
        "Si on désire faire un ré-ordonnement partiel pour trouver les *k* valeurs les plus petites d’un `array` sans les ordonner, on utilise `partition`:"
      ],
      "id": "b89cb9d8-8934-4fa4-a9a7-df0aabc6197a"
    },
    {
      "cell_type": "code",
      "execution_count": 22,
      "metadata": {},
      "outputs": [
        {
          "output_type": "display_data",
          "metadata": {},
          "data": {
            "text/plain": [
              "array([2, 1, 3, 4, 6, 5, 7])"
            ]
          }
        }
      ],
      "source": [
        "np.partition(x, 3)"
      ],
      "id": "a35f66e6-6575-4085-8244-f37b68edc351"
    },
    {
      "cell_type": "markdown",
      "metadata": {},
      "source": [
        "## Broadcasting\n",
        "\n",
        "Le *broadcasting* désigne un ensemble de règles permettant\n",
        "d’appliquer des opérations sur des tableaux de dimensions différentes. En pratique,\n",
        "cela consiste généralement à appliquer une seule opération à l’ensemble des membres d’un tableau `numpy`.\n",
        "\n",
        "La différence peut être comprise à partir de l’exemple suivant. Le *broadcasting* permet\n",
        "de transformer le scalaire `5` en *array* de dimension 3:"
      ],
      "id": "8f202bc9-8f83-4f59-b37f-55e82374fd02"
    },
    {
      "cell_type": "code",
      "execution_count": 23,
      "metadata": {},
      "outputs": [
        {
          "output_type": "display_data",
          "metadata": {},
          "data": {
            "text/plain": [
              "array([5, 6, 7])"
            ]
          }
        }
      ],
      "source": [
        "a = np.array([0, 1, 2])\n",
        "\n",
        "b = np.array([5, 5, 5])\n",
        "\n",
        "a + b\n",
        "a + 5"
      ],
      "id": "f6c9fd40-cbcd-4bd5-9a27-6825a5a72382"
    },
    {
      "cell_type": "markdown",
      "metadata": {},
      "source": [
        "Le *broadcasting* peut être très pratique pour effectuer de manière efficace des opérations sur des données à\n",
        "la structure complexe. Pour plus de détails, se rendre\n",
        "[ici](https://jakevdp.github.io/PythonDataScienceHandbook/02.05-computation-on-arrays-broadcasting.html) ou [ici](https://stackoverflow.com/questions/47435526/what-is-the-meaning-of-axis-1-in-keras-argmax).\n",
        "\n",
        "## Une application: programmer ses propres k-nearest neighbors"
      ],
      "id": "d7d23bac-d0d8-48e8-9f8d-fbada9e6fcba"
    },
    {
      "cell_type": "raw",
      "metadata": {
        "raw_mimetype": "text/html"
      },
      "source": [
        "<!----\n",
        "L'idée de cet exercice vient de\n",
        "[là](https://jakevdp.github.io/PythonDataScienceHandbook/02.08-sorting.html#Example:-k-Nearest-Neighbors). \n",
        "------>"
      ],
      "id": "d936ed5e-e684-4927-8e10-3dbc04993435"
    },
    {
      "cell_type": "markdown",
      "metadata": {},
      "source": [
        "<div class=\"alert alert-success\" role=\"alert\" style=\"color: rgba(0,0,0,.8); background-color: white; margin-top: 1em; margin-bottom: 1em; margin:1.5625emauto; padding:0 .6rem .8rem!important;overflow:hidden; page-break-inside:avoid; border-radius:.25rem; box-shadow:0 .2rem .5rem rgba(0,0,0,.05),0 0 .05rem rgba(0,0,0,.1); transition:color .25s,background-color .25s,border-color .25s ; border-right: 1px solid #dee2e6 ; border-top: 1px solid #dee2e6 ; border-bottom: 1px solid #dee2e6 ; border-left:.2rem solid #3fb618;\">\n",
        "<h3 class=\"alert-heading\"><i class=\"fa fa-pencil\"></i> Exercice (un peu plus corsé)</h3>\n",
        "\n",
        "1.  Créer `X` un tableau à deux dimensions (i.e. une matrice) comportant 10 lignes\n",
        "    et 2 colonnes. Les nombres dans le tableau sont aléatoires.\n",
        "2.  Importer le module `matplotlib.pyplot` sous le nom `plt`. Utiliser\n",
        "    `plt.scatter` pour représenter les données sous forme de nuage de points.\n",
        "3.  Constuire une matrice 10x10 stockant, à l’élément $(i,j)$, la distance euclidienne entre les points $X[i,]$ et $X[j,]$. Pour cela, il va falloir jouer avec les dimensions en créant des tableaux emboîtés à partir par des appels à `np.newaxis` :\n",
        "\n",
        "-   En premier lieu, utiliser `X1 = X[:, np.newaxis, :]` pour transformer la matrice en tableau emboîté. Vérifier les dimensions\n",
        "-   Créer `X2` de dimension `(1, 10, 2)` à partir de la même logique\n",
        "-   En déduire, pour chaque point, la distance avec les autres points pour chaque coordonnées. Elever celle-ci au carré\n",
        "-   A ce stade, vous devriez avoir un tableau de dimension `(10, 10, 2)`. La réduction à une matrice s’obtient en sommant sur le dernier axe. Regarder dans l’aide de `np.sum` comme effectuer une somme sur le dernier axe.\n",
        "-   Enfin, appliquer la racine carrée pour obtenir une distance euclidienne en bonne et due forme.\n",
        "\n",
        "1.  Vérifier que les termes diagonaux sont bien nuls (distance d’un point à lui-même…)\n",
        "2.  Il s’agit maintenant de classer, pour chaque point, les points dont les valeurs sont les plus similaires. Utiliser `np.argsort` pour obtenir, pour chaque ligne, le classement des points les plus proches\n",
        "3.  On va s’intéresser aux k-plus proches voisins. Pour le moment, fixons k=2. Utiliser `argpartition` pour réordonner chaque ligne de manière à avoir les 2 plus proches voisins de chaque point d’abord et le reste de la ligne ensuite\n",
        "4.  Utiliser le morceau de code ci-dessous\n",
        "\n",
        "</div>"
      ],
      "id": "2ad06140-8241-42fd-8cb0-eef9acd29cae"
    },
    {
      "cell_type": "markdown",
      "metadata": {},
      "source": [
        "<details><summary>Un indice pour représenter graphiquement les plus proches voisins</summary>\n",
        "\n",
        "``` python\n",
        "plt.scatter(X[:, 0], X[:, 1], s=100)\n",
        "\n",
        "# draw lines from each point to its two nearest neighbors\n",
        "K = 2\n",
        "\n",
        "for i in range(X.shape[0]):\n",
        "    for j in nearest_partition[i, :K+1]:\n",
        "        # plot a line from X[i] to X[j]\n",
        "        # use some zip magic to make it happen:\n",
        "        plt.plot(*zip(X[j], X[i]), color='black')\n",
        "```\n",
        "\n",
        "</details>"
      ],
      "id": "eec21d18-6272-4c09-acf6-100a32e8b5e7"
    },
    {
      "cell_type": "code",
      "execution_count": 24,
      "metadata": {},
      "outputs": [
        {
          "output_type": "stream",
          "name": "stdout",
          "text": [
            "[0.95679706 0.49869164 0.80282731 0.56015397 0.36778862 0.19053314\n",
            " 0.25386344 0.10743999 0.75285424 0.0479605 ]\n",
            "[0.48745765 0.71354243 0.01560131 0.22758602 0.19619961 0.00419986\n",
            " 0.44950727 0.94078448 0.73186082 0.6525423 ]"
          ]
        },
        {
          "output_type": "display_data",
          "metadata": {},
          "data": {
            "text/plain": [
              "<matplotlib.collections.PathCollection at 0x7f21dc873760>"
            ]
          }
        },
        {
          "output_type": "display_data",
          "metadata": {},
          "data": {
            "image/png": "[encoded data removed]"
          }
        }
      ],
      "source": [
        "# Correction\n",
        "\n",
        "# 1. Definition de X\n",
        "X = np.random.rand(10, 2)\n",
        "\n",
        "# 2. Nuage de points. \n",
        "import matplotlib.pyplot as plt\n",
        "print(X[:,0])\n",
        "print(X[:,1])\n",
        "plt.scatter(X[:, 0], X[:, 1], s=100)"
      ],
      "id": "bda0900b-567d-45cb-9b38-88250ae710fc"
    },
    {
      "cell_type": "code",
      "execution_count": 25,
      "metadata": {},
      "outputs": [
        {
          "output_type": "display_data",
          "metadata": {},
          "data": {
            "image/png": "[encoded data removed]"
          }
        }
      ],
      "source": [
        "fig = plt.figure()\n",
        "plt.scatter(X[:, 0], X[:, 1], s=100)\n",
        "fig\n",
        "plt.savefig(\"scatter_numpy.png\", bbox_inches='tight')"
      ],
      "id": "a28c74b1-0558-45b0-83ff-5822f0fda6c9"
    },
    {
      "cell_type": "markdown",
      "metadata": {},
      "source": [
        "Pour la question 2, vous devriez obtenir un graphique ayant cet aspect :\n",
        "\n",
        "![](attachment:scatter_numpy.png)"
      ],
      "attachments": {
        "scatter_numpy.png": {
          "image/png": "[encoded data removed]"
        }
      },
      "id": "9c31fee1-5e89-4c71-98cd-0b950bf016c2"
    },
    {
      "cell_type": "code",
      "execution_count": 26,
      "metadata": {},
      "outputs": [
        {
          "output_type": "stream",
          "name": "stdout",
          "text": [
            "(10, 2)\n",
            "dimension X1 :  (10, 1, 2)\n",
            "dimension X2 :  (1, 10, 2)\n",
            "dimension dist1 :  (10, 10, 2)\n",
            "dimension dist :  (10, 10)\n",
            "[[0.         0.51085703 0.4963417  0.474193   0.65708613 0.9059241\n",
            "  0.70395731 0.96276303 0.31831679 0.92370819]\n",
            " [0.51085703 0.         0.76132799 0.48982778 0.53364707 0.77338771\n",
            "  0.36007696 0.45245641 0.25482188 0.45484017]\n",
            " [0.4963417  0.76132799 0.         0.32222332 0.47103546 0.61240031\n",
            "  0.69973974 1.15737955 0.71800068 0.98768301]\n",
            " [0.474193   0.48982778 0.32222332 0.         0.19490904 0.43188069\n",
            "  0.3782366  0.84474966 0.53983929 0.66552985]\n",
            " [0.65708613 0.53364707 0.47103546 0.19490904 0.         0.26131094\n",
            "  0.27774758 0.78878897 0.65970331 0.55725997]\n",
            " [0.9059241  0.77338771 0.61240031 0.43188069 0.26131094 0.\n",
            "  0.44978819 0.94026338 0.91961703 0.66383347]\n",
            " [0.70395731 0.36007696 0.69973974 0.3782366  0.27774758 0.44978819\n",
            "  0.         0.51263352 0.57333702 0.28916992]\n",
            " [0.96276303 0.45245641 1.15737955 0.84474966 0.78878897 0.94026338\n",
            "  0.51263352 0.         0.6783868  0.29431508]\n",
            " [0.31831679 0.25482188 0.71800068 0.53983929 0.65970331 0.91961703\n",
            "  0.57333702 0.6783868  0.         0.70934238]\n",
            " [0.92370819 0.45484017 0.98768301 0.66552985 0.55725997 0.66383347\n",
            "  0.28916992 0.29431508 0.70934238 0.        ]]\n",
            "[0. 0. 0. 0. 0. 0. 0. 0. 0. 0.]\n",
            "[[3 8 0 2 1 4 6 7 5 9]\n",
            " [1 8 6 7 9 3 0 5 2 4]\n",
            " [3 4 2 0 1 5 6 7 8 9]\n",
            " [3 2 4 6 5 0 1 7 8 9]\n",
            " [3 5 4 6 1 2 9 7 8 0]\n",
            " [3 5 4 6 2 9 1 7 8 0]\n",
            " [6 4 9 1 3 5 7 8 2 0]\n",
            " [7 1 9 6 8 4 5 3 2 0]\n",
            " [8 1 0 3 6 4 5 7 2 9]\n",
            " [9 6 7 1 4 5 3 2 8 0]]"
          ]
        },
        {
          "output_type": "display_data",
          "metadata": {},
          "data": {
            "image/png": "[encoded data removed]"
          }
        }
      ],
      "source": [
        "# 3. Construire la matrice des distances euclidiennes\n",
        "print(X.shape)\n",
        "X1 = X[:, np.newaxis, :]\n",
        "print(\"dimension X1 : \", X1.shape)\n",
        "X2 = X[np.newaxis, :,:]\n",
        "print(\"dimension X2 : \", X2.shape)\n",
        "dist1 = (X1 - X2) ** 2\n",
        "print(\"dimension dist1 : \", dist1.shape)\n",
        "dist = np.sqrt(np.sum((X1 - X2) ** 2, axis=-1))\n",
        "print(\"dimension dist : \", dist.shape)\n",
        "\n",
        "# 4. Vérif termes diagonaux \n",
        "print(dist)\n",
        "print(dist.diagonal())\n",
        "\n",
        "#5. Classer avec np.argsort \n",
        "np.argsort(dist)\n",
        "\n",
        "#6. 2ppv\n",
        "K = 2\n",
        "nearest_partition = np.argpartition(dist, K + 1, axis=1)\n",
        "print(nearest_partition) # Ne pas oublier que le plus proche voisin d'un point est lui-même !\n",
        "\n",
        "#7. Tester le bout de code\n",
        "# Each point in the plot has lines drawn to its two nearest neighbors.\n",
        "fig = plt.figure()\n",
        "for i in range(X.shape[0]):\n",
        "    for j in nearest_partition[i, :K+1]:\n",
        "        # plot a line from X[i] to X[j]\n",
        "        # use some zip magic to make it happen:\n",
        "        plt.plot(*zip(X[j], X[i]), color='black')\n",
        "fig\n",
        "plt.savefig(\"knn.png\", bbox_inches='tight')"
      ],
      "id": "ee996455-27c5-4d3b-bffd-250c5147065f"
    },
    {
      "cell_type": "markdown",
      "metadata": {},
      "source": [
        "Le résultat de la question 7 est le suivant:\n",
        "\n",
        "![](attachment:knn.png)\n",
        "\n",
        "Ai-je inventé cet exercice corsé ? Pas du tout, il [vient de l’ouvrage *Python Data Science Handbook*](https://jakevdp.github.io/PythonDataScienceHandbook/02.08-sorting.html#Example:-k-Nearest-Neighbors). Mais, si je vous l’avais indiqué immédiatement, auriez-vous cherché à répondre aux questions ?\n",
        "\n",
        "Par ailleurs, il ne serait pas une bonne idée de généraliser cet algorithme à de grosses données. La complexité de notre approche est $O(N^2)$. L’algorithme implémenté par `Scikit-Learn` est\n",
        "en $O[NlogN]$.\n",
        "\n",
        "De plus, le calcul de distances matricielles en utilisant la puissance des cartes graphiques serait plus rapide. A cet égard, la librairie [faiss](https://github.com/facebookresearch/faiss) offre des performances beaucoup plus satisfaisantes que celles que permettraient `numpy` sur ce problème précis.\n",
        "\n",
        "## Exercices supplémentaires\n",
        "\n",
        "-   Simulations de variables aléatoires ;\n",
        "-   TCL ;"
      ],
      "attachments": {
        "knn.png": {
          "image/png": "[encoded data removed]"
        }
      },
      "id": "44611bcb-fb82-4013-9208-23a309f4b926"
    },
    {
      "cell_type": "markdown",
      "metadata": {},
      "source": [
        "<div class=\"alert alert-success\" role=\"alert\" style=\"color: rgba(0,0,0,.8); background-color: white; margin-top: 1em; margin-bottom: 1em; margin:1.5625emauto; padding:0 .6rem .8rem!important;overflow:hidden; page-break-inside:avoid; border-radius:.25rem; box-shadow:0 .2rem .5rem rgba(0,0,0,.05),0 0 .05rem rgba(0,0,0,.1); transition:color .25s,background-color .25s,border-color .25s ; border-right: 1px solid #dee2e6 ; border-top: 1px solid #dee2e6 ; border-bottom: 1px solid #dee2e6 ; border-left:.2rem solid #3fb618;\">\n",
        "<h3 class=\"alert-heading\"><i class=\"fa fa-pencil\"></i> Comprendre le principe de l'algorithme <code>PageRank</code></h3>\n",
        "\n",
        "`Google` est devenu célèbre grâce à son algorithme `PageRank`. Celui-ci permet, à partir\n",
        "de liens entre sites *web*, de donner un score d’importance à un site *web* qui va\n",
        "être utilisé pour évaluer sa centralité dans un réseau.\n",
        "L’objectif de cet exercice est d’utiliser `Numpy` pour mettre en oeuvre un tel\n",
        "algorithme à partir d’une matrice d’adjacence qui relie les sites entre eux.\n",
        "\n",
        "1.  Créer la matrice suivante avec `numpy`. L’appeler `M`:\n",
        "\n",
        "$$\n",
        "\\begin{bmatrix}\n",
        "0 & 0 & 0 & 0 & 1 \\\\\n",
        "0.5 & 0 & 0 & 0 & 0 \\\\\n",
        "0.5 & 0 & 0 & 0 & 0 \\\\\n",
        "0 & 1 & 0.5 & 0 & 0 \\\\\n",
        "0 & 0 & 0.5 & 1 & 0\n",
        "\\end{bmatrix}\n",
        "$$\n",
        "\n",
        "1.  Pour représenter visuellement ce *web* minimaliste,\n",
        "    convertir en objet `networkx` (une librairie spécialisée\n",
        "    dans l’analyse de réseau) et utiliser la fonction `draw`\n",
        "    de ce package.\n",
        "\n",
        "Il s’agit de la transposée de la matrice d’adjacence\n",
        "qui permet de relier les sites entre eux. Par exemple,\n",
        "le site 1 (première colonne) est référencé par\n",
        "les sites 2 et 3. Celui-ci ne référence que le site 5.\n",
        "\n",
        "1.  A partir de la page wikipedia anglaise de `PageRank`, tester\n",
        "    sur votre matrice.\n",
        "\n",
        "</div>"
      ],
      "id": "736b73cb-ef31-4a81-82c1-d4b09ab00e2e"
    },
    {
      "cell_type": "code",
      "execution_count": 27,
      "metadata": {},
      "outputs": [],
      "source": [
        "# Question 1\n",
        "M = np.array([[0, 0, 0, 0, 1],\n",
        "              [0.5, 0, 0, 0, 0],\n",
        "              [0.5, 0, 0, 0, 0],\n",
        "              [0, 1, 0.5, 0, 0],\n",
        "              [0, 0, 0.5, 1, 0]])"
      ],
      "id": "5919f5f2-132a-4d7e-aad0-84ae949d7320"
    },
    {
      "cell_type": "code",
      "execution_count": 28,
      "metadata": {},
      "outputs": [
        {
          "output_type": "display_data",
          "metadata": {},
          "data": {
            "image/png": "[encoded data removed]"
          }
        }
      ],
      "source": [
        "import networkx as nx\n",
        "\n",
        "G = nx.from_numpy_matrix(M)\n",
        "fig = plt.figure()\n",
        "nx.draw(G)\n",
        "plt.savefig(\"featured.png\", bbox_inches = \"tight\")"
      ],
      "id": "d8d8babc-9466-455e-8891-a24e40e245d2"
    },
    {
      "cell_type": "code",
      "execution_count": 29,
      "metadata": {},
      "outputs": [],
      "source": [
        "\"\"\"PageRank algorithm with explicit number of iterations.\n",
        "\n",
        "Returns\n",
        "-------\n",
        "ranking of nodes (pages) in the adjacency matrix\n",
        "\n",
        "\"\"\"\n",
        "\n",
        "import numpy as np\n",
        "\n",
        "def pagerank(M, num_iterations: int = 100, d: float = 0.85):\n",
        "    \"\"\"PageRank: The trillion dollar algorithm.\n",
        "\n",
        "    Parameters\n",
        "    ----------\n",
        "    M : numpy array\n",
        "        adjacency matrix where M_i,j represents the link from 'j' to 'i', such that for all 'j'\n",
        "        sum(i, M_i,j) = 1\n",
        "    num_iterations : int, optional\n",
        "        number of iterations, by default 100\n",
        "    d : float, optional\n",
        "        damping factor, by default 0.85\n",
        "\n",
        "    Returns\n",
        "    -------\n",
        "    numpy array\n",
        "        a vector of ranks such that v_i is the i-th rank from [0, 1],\n",
        "        v sums to 1\n",
        "\n",
        "    \"\"\"\n",
        "    N = M.shape[1]\n",
        "    v = np.random.rand(N, 1)\n",
        "    v = v / np.linalg.norm(v, 1)\n",
        "    M_hat = (d * M + (1 - d) / N)\n",
        "    for i in range(num_iterations):\n",
        "        v = M_hat @ v\n",
        "    return v\n",
        "\n",
        "v = pagerank(M, 100, 0.85)"
      ],
      "id": "f187d87b-0e67-4b67-988c-a58925706379"
    },
    {
      "cell_type": "markdown",
      "metadata": {},
      "source": [
        "Le site 1 est assez central car il est référencé 2 fois. Le site\n",
        "5 est lui également central puisqu’il est référencé par le site 1."
      ],
      "id": "369b3045-a19d-4725-90d9-27db2d01e498"
    },
    {
      "cell_type": "code",
      "execution_count": 30,
      "metadata": {},
      "outputs": [
        {
          "output_type": "display_data",
          "metadata": {},
          "data": {
            "text/plain": [
              "array([[0.25419178],\n",
              "       [0.13803151],\n",
              "       [0.13803151],\n",
              "       [0.20599017],\n",
              "       [0.26375504]])"
            ]
          }
        }
      ],
      "source": [
        "v"
      ],
      "id": "a8d5330b-ee31-40f7-b8a1-652a21ab4caf"
    }
  ],
  "nbformat": 4,
  "nbformat_minor": 5,
  "metadata": {
    "kernelspec": {
      "name": "python3",
      "display_name": "Python 3 (ipykernel)",
      "language": "python"
    },
    "language_info": {
      "name": "python",
      "codemirror_mode": {
        "name": "ipython",
        "version": "3"
      },
      "file_extension": ".py",
      "mimetype": "text/x-python",
      "nbconvert_exporter": "python",
      "pygments_lexer": "ipython3",
      "version": "3.9.13"
    }
  }
}