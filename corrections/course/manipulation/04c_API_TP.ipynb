{
 "cells": [
  {
   "cell_type": "markdown",
   "id": "d2a7f21c",
   "metadata": {},
   "source": [
    "#  Requêter via des API avec Python\n",
    "\n",
    "\n"
   ]
  },
  {
   "cell_type": "markdown",
   "id": "503c7e62",
   "metadata": {},
   "source": [
    "<a href=\"https://github.com/linogaliana/python-datascientist/blob/master//__w/python-datascientist/python-datascientist/notebooks/course/manipulation/04c_API_TP.ipynb\" class=\"github\"><i class=\"fab fa-github\"></i></a>\n",
    "[![Download](https://img.shields.io/badge/Download-Notebook-important?logo=Jupyter)](https://downgit.github.io/#/home?url=https://github.com/linogaliana/python-datascientist/blob/master//__w/python-datascientist/python-datascientist/notebooks/course/manipulation/04c_API_TP.ipynb)\n",
    "[![nbviewer](https://img.shields.io/badge/Visualize-nbviewer-blue?logo=Jupyter)](https://nbviewer.jupyter.org/github/linogaliana/python-datascientist/blob/master//__w/python-datascientist/python-datascientist/notebooks/course/manipulation/04c_API_TP.ipynb)\n",
    "[![Onyxia](https://img.shields.io/badge/SSPcloud-Tester%20via%20SSP--cloud-informational&color=yellow?logo=Python)](https://datalab.sspcloud.fr/launcher/inseefrlab-helm-charts-datascience/jupyter?onyxia.friendlyName=«python-datascientist»&resources.requests.memory=«4Gi»&security.allowlist.enabled=false&init.personalInit=«https://raw.githubusercontent.com/linogaliana/python-datascientist/master/init_onyxia.sh»)\n",
    "[![Binder](https://img.shields.io/badge/Launch-Binder-E66581.svg?logo=data:image/png;base64,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)](https://mybinder.org/v2/gh/linogaliana/python-datascientist/master?filepath=/__w/python-datascientist/python-datascientist/notebooks/course/manipulation/04c_API_TP.ipynb)\n",
    "[![Open In Colab](https://colab.research.google.com/assets/colab-badge.svg)](http://colab.research.google.com/github/linogaliana/python-datascientist/blob/master//__w/python-datascientist/python-datascientist/notebooks/course/manipulation/04c_API_TP.ipynb)\n",
    "\n",
    "# Introduction : Qu'est-ce qu'une API ?  \n",
    "\n",
    "## Définition\n",
    "\n",
    "Pour expliquer le principe d'une API, je vais reprendre le début de \n",
    "la fiche dédiée dans la documentation collaborative\n",
    "[utilitR](https://www.book.utilitr.org/api.html) que je recommande de lire :\n",
    "\n",
    "> Une *Application Programming Interface* (ou API) est une interface de programmation qui permet d’utiliser une application existante pour restituer des données. Le terme d’API peut être paraître intimidant, mais il s’agit simplement d’une façon de mettre à disposition des données : plutôt que de laisser l’utilisateur consulter directement des bases de données (souvent volumineuses et complexes), l’API lui propose de formuler une requête qui est traitée par le serveur hébergeant la base de données, puis de recevoir des données en réponse à sa requête.\n",
    "> \n",
    "> D’un point de vue informatique, une API est une porte d’entrée clairement identifiée par laquelle un logiciel offre des services à d’autres logiciels (ou utilisateurs). L’objectif d’une API est de fournir un point d’accès à une fonctionnalité qui soit facile à utiliser et qui masque les détails de la mise en oeuvre. Par exemple, l’API Sirene permet de récupérer la raison sociale d’une entreprise à partir de son identifiant Siren en interrogeant le référentiel disponible sur Internet directement depuis un script R, sans avoir à connaître tous les détails du répertoire Sirene.\n",
    ">\n",
    "> À l’Insee comme ailleurs, la connexion entre les bases de données pour les nouveaux projets tend à se réaliser par des API. L’accès à des données par des API devient ainsi de plus en plus commun et est amené à devenir une compétence de base de tout utilisateur de données.\n",
    ">\n",
    "> [`utilitR`](https://www.book.utilitr.org/api.html)\n",
    "\n",
    "## Avantages des API\n",
    "\n",
    "A nouveau, citons la documentation [utilitR](https://www.book.utilitr.org/api.html)\n",
    "\n",
    "Les API présentent de multiples avantages :\n",
    "\n",
    "> * Les API rendent les programmes plus reproductibles. En effet, grâce aux API, il est possible de mettre à jour facilement les données utilisées par un programme si celles-ci évoluent. Cette flexibilité accrue pour l’utilisateur évite au producteur de données d’avoir à réaliser de multiples extractions, et réduit le problème de la coexistence de versions différentes des données.\n",
    "> * Grâce aux API, l’utilisateur peut extraire facilement une petite partie d’une base de données plus conséquente.\n",
    "> * Les API permettent de mettre à disposition des données tout en limitant le nombre de personnes ayant accès aux bases de données elles-mêmes.\n",
    "> * Grâce aux API, il est possible de proposer des services sur mesure pour les utilisateurs (par exemple, un accès spécifique pour les gros utilisateurs).\n",
    ">\n",
    "> [`utilitR`](https://www.book.utilitr.org/api.html)\n",
    "\n",
    "## Utilisation des API\n",
    "\n",
    "Citons encore une fois\n",
    "la documentation [`utilitR`](https://www.book.utilitr.org/api.html)\n",
    "\n",
    "> Une API peut souvent être utilisée de deux façons : par une interface Web, et par l’intermédiaire d’un logiciel (R, Python…). Par ailleurs, les API peuvent être proposées avec un niveau de liberté variable pour l’utilisateur :\n",
    "> \n",
    "> * soit en libre accès (l’utilisation n’est pas contrôlée et l’utilisateur peut utiliser le service comme bon lui semble) ;\n",
    "> * soit via la génération d’un compte et d’un jeton d’accès qui permettent de sécuriser l’utilisation de l’API et de limiter le nombre de requêtes.\n",
    ">\n",
    "> [`utilitR`](https://www.book.utilitr.org/api.html)\n",
    "\n",
    "De nombreuses API nécessitent une authentification, c'est-à-dire un \n",
    "compte utilisateur afin de pouvoir accéder aux données. \n",
    "Dans un premier temps, \n",
    "nous regarderons exclusivement les API ouvertes sans restriction d'accès.  \n",
    "Certains exercices et exemples permettront néanmoins d'essayer des API\n",
    "avec restrictions d'accès. \n",
    "\n",
    "# Requêter une API\n",
    "\n",
    "## Principe général\n",
    "\n",
    "> L’utilisation de l’interface Web est utile dans une démarche exploratoire mais trouve rapidement ses limites, notamment lorsqu’on consulte régulièrement l’API. L’utilisateur va rapidement se rendre compte qu’il est beaucoup plus commode d’utiliser une API via un logiciel de traitement pour automatiser la consultation ou pour réaliser du téléchargement de masse. De plus, l’interface Web n’existe pas systématiquement pour toutes les API.\n",
    "> \n",
    "> Le mode principal de consultation d’une API consiste à adresser une requête à cette API via un logiciel adapté (R, Python, Java…). Comme pour l’utilisation d’une fonction, l’appel d’une API comprend des paramètres qui sont détaillées dans la documentation de l’API. \n",
    ">\n",
    "> [`utilitR`](https://www.book.utilitr.org/api.html)"
   ]
  },
  {
   "cell_type": "markdown",
   "id": "8157f4ef",
   "metadata": {},
   "source": [
    "Voici les éléments importants à avoir en tête sur les requêtes (j'emprunte encore\n",
    "à [`utilitR`](https://www.book.utilitr.org/api.html)):\n",
    "\n",
    "* Le __point d’entrée__ d’un service offert par une API se présente sous la forme d’une URL (adresse web). Chaque service proposé par une API a sa propre URL. Par exemple, dans le cas de l’OpenFood Facts,\n",
    "l'URL à utiliser pour obtenir des informations sur un produit particulier (l'identifiant `737628064502`) estg https://world.openfoodfacts.org/api/v0/product/737628064502.json\n",
    "* Cette URL doit être complétée avec différents paramètres qui précisent la requête (par exemple l’identifiant Siren). Ces paramètres viennent s’ajouter à l’URL, souvent à la suite de `?`. Chaque service proposé par une API a ses propres paramètres, détaillés dans la documentation. \n",
    "* Lorsque l’utilisateur soumet sa requête, l’API lui renvoie une réponse structurée contenant l’ensemble des informations demandées. Le résultat envoyé par une API est majoritairement aux formats JSON ou XML (deux formats dans lesquels les informations sont hiérarchisées de manière emboitée). Plus rarement, certains services proposent une information sous forme plate (de type csv).\n",
    "* Du fait de la dimension hiérarchique des formats JSON ou XML, le résultat n’est pas toujours facile à récupérer mais\n",
    "`python` propose d'excellents outils pour cela (meilleurs que ceux de `R`). Certains packages, notamment `json`, facilitent l’extraction de champs d’une sortie d’API. Dans certains cas, des packages spécifiques à une API ont été créés pour simplifier l’écriture d’une requête ou la récupération du résultat. Par exemple, le package\n",
    "[pynsee](https://github.com/InseeFrLab/Py-Insee-Data/tree/master/pynsee)\n",
    "propose des options qui seront retranscrites automatiquement dans l'URL de \n",
    "requête pour faciliter le travail sur les données Insee. "
   ]
  },
  {
   "cell_type": "markdown",
   "id": "0d934a42",
   "metadata": {},
   "source": [
    "## Exemple avec l'API de la Banque Mondiale\n",
    "\n",
    "Avec l'API de la Banque mondiale, voici comme s'écrit une requête : \n",
    "\n",
    "> http://api.worldbank.org/v2/countries?incomeLevel=LMC\n",
    "\n",
    "1. Le point d'entrée est l'URL <http://api.worldbank.org/v2>\n",
    "2. Un filtre est appliqué sur les pays (`countries?`) afin de ne conserver\n",
    "que celles telles que `incomeLevel=LMC` (*\"Lower middle income\"*)\n",
    "\n",
    "En cliquant sur le lien, le site renvoie des données en XML,\n",
    "qui ressemblent pas mal à ce qu'on a vu plus tôt avec le scraping : une structure avec des balises qui s'ouvrent et qui se ferment."
   ]
  },
  {
   "cell_type": "markdown",
   "id": "ad8ca49d",
   "metadata": {},
   "source": [
    "Pour obtenir la même information en `Python`, il faut revenir aux fondamentaux : on va avoir besoin du module `requests`. Suivant les API, nous avons soit besoin de rien de plus si nous parvenons directement à obtenir un json, soit devoir utiliser un *parser* comme `BeautifulSoup` dans le cas contraire. \n",
    "\n",
    "Avec l'API de la banque mondiale, on va utiliser le module `requests` et sa méthode `get` : on lui donne l'url de l'API qui nous intéresse, on lui demande d'en faire un json et le tour est *en apparence* joué.\n"
   ]
  },
  {
   "cell_type": "code",
   "execution_count": null,
   "id": "d75c50b3",
   "metadata": {},
   "outputs": [],
   "source": [
    "import requests\n",
    "r = requests.get('http://api.worldbank.org/v2/countries?incomeLevel=LMC')\n",
    "r"
   ]
  },
  {
   "cell_type": "markdown",
   "id": "8f98fc94",
   "metadata": {},
   "source": [
    "```\n",
    "## <Response [200]>\n",
    "```\n",
    "\n",
    "Prenons par exemple les 1000 premiers caractères du résultat:\n"
   ]
  },
  {
   "cell_type": "code",
   "execution_count": null,
   "id": "8c9ed905",
   "metadata": {},
   "outputs": [],
   "source": [
    "print(r.content[:1000])"
   ]
  },
  {
   "cell_type": "markdown",
   "id": "8ffc4914",
   "metadata": {},
   "source": [
    "```\n",
    "## Error in py_call_impl(callable, dots$args, dots$keywords): RuntimeError: Evaluation error: object 'content' not found.\n",
    "## \n",
    "## Detailed traceback: \n",
    "##   File \"<string>\", line 1, in <module>\n",
    "##   File \"/usr/local/lib/R/site-library/reticulate/python/rpytools/call.py\", line 21, in python_function\n",
    "##     raise RuntimeError(res[kErrorKey])\n",
    "```"
   ]
  },
  {
   "cell_type": "markdown",
   "id": "18402c3e",
   "metadata": {},
   "source": [
    "Quand on regarde de plus près, on voit que les informations suivantes apparaissent: \n",
    " \n",
    "* Code du pays\n",
    "* Nom du pays\n",
    "* Région\n",
    "* Classification en termes de revenus\n",
    "* Les types de prêt pour ces pays\n",
    "* La capitale\n",
    "* Longitude\n",
    "* Latitude\n",
    "\n",
    "Le format XML est fortement balisé, ce qui n'est pas très pratique. \n",
    "En utilisant désormais un autre URL, on obtient un JSON, plus pratique pour travailler : \n",
    "\n",
    "> http://api.worldbank.org/v2/countries?incomeLevel=LMC&format=json\n"
   ]
  },
  {
   "cell_type": "code",
   "execution_count": null,
   "id": "c16aee08",
   "metadata": {},
   "outputs": [],
   "source": [
    "import requests\n",
    "import pandas as pd\n",
    "\n",
    "r = requests.get('http://api.worldbank.org/v2/countries?incomeLevel=LMC&format=json')"
   ]
  },
  {
   "cell_type": "markdown",
   "id": "8e3868ee",
   "metadata": {},
   "source": [
    "A nouveau, les premiers caractères sont les suivants:\n"
   ]
  },
  {
   "cell_type": "code",
   "execution_count": null,
   "id": "8af770f6",
   "metadata": {},
   "outputs": [],
   "source": [
    "print(r.content[:1000])"
   ]
  },
  {
   "cell_type": "markdown",
   "id": "8e96b823",
   "metadata": {},
   "source": [
    "```\n",
    "## Error in py_call_impl(callable, dots$args, dots$keywords): RuntimeError: Evaluation error: object 'content' not found.\n",
    "## \n",
    "## Detailed traceback: \n",
    "##   File \"<string>\", line 1, in <module>\n",
    "##   File \"/usr/local/lib/R/site-library/reticulate/python/rpytools/call.py\", line 21, in python_function\n",
    "##     raise RuntimeError(res[kErrorKey])\n",
    "```\n",
    "\n",
    "Cela ressemble déjà plus à un dictionnaire `Python`[^1].\n",
    "\n",
    "[^1]: Le JSON est un format très apprécié dans le domaine du *big data*\n",
    "car il permet de stocker de manière intelligente des données\n",
    "de structures diverses. Il \n",
    "s'agit d'un des formats privilégiés du paradigme No-SQL pour lequel\n",
    "cet [excellent cours](http://b3d.bdpedia.fr/) propose plus de détails\n",
    "\n",
    "Ici, il n'est même pas nécessaire en première approche \n",
    "d'utiliser le package `json`, l'information\n",
    "étant déjà tabulée dans l'écho renvoyé (on a la même information pour tous les pays):\n"
   ]
  },
  {
   "cell_type": "code",
   "execution_count": null,
   "id": "2ee8a425",
   "metadata": {},
   "outputs": [],
   "source": [
    "wb = r.json()"
   ]
  },
  {
   "cell_type": "markdown",
   "id": "b1d607f1",
   "metadata": {},
   "source": [
    "```\n",
    "## Error in py_call_impl(callable, dots$args, dots$keywords): RuntimeError: Evaluation error: object 'json' not found.\n",
    "## \n",
    "## Detailed traceback: \n",
    "##   File \"<string>\", line 1, in <module>\n",
    "##   File \"/usr/local/lib/R/site-library/reticulate/python/rpytools/call.py\", line 21, in python_function\n",
    "##     raise RuntimeError(res[kErrorKey])\n",
    "```"
   ]
  },
  {
   "cell_type": "code",
   "execution_count": null,
   "id": "96d79f16",
   "metadata": {},
   "outputs": [],
   "source": [
    "wb = pd.json_normalize(wb[1])"
   ]
  },
  {
   "cell_type": "markdown",
   "id": "d17ee6bc",
   "metadata": {},
   "source": [
    "```\n",
    "## Error in py_call_impl(callable, dots$args, dots$keywords): NameError: name 'wb' is not defined\n",
    "## \n",
    "## Detailed traceback: \n",
    "##   File \"<string>\", line 1, in <module>\n",
    "```"
   ]
  },
  {
   "cell_type": "code",
   "execution_count": null,
   "id": "68d8ae05",
   "metadata": {},
   "outputs": [],
   "source": [
    "wb.head(5)"
   ]
  },
  {
   "cell_type": "markdown",
   "id": "268c3ffd",
   "metadata": {},
   "source": [
    "```\n",
    "## Error in py_call_impl(callable, dots$args, dots$keywords): NameError: name 'wb' is not defined\n",
    "## \n",
    "## Detailed traceback: \n",
    "##   File \"<string>\", line 1, in <module>\n",
    "```\n",
    "\n",
    "Cependant, si on regarde la dimension de l'objet obtenu, on obtient un\n",
    "chiffre rond (50 lignes). Ceci est suspect et un petit tour dans la\n",
    "documentation de l'API nous apprendrait que c'est le nombre maximal de \n",
    "retour possible. Il faut donc faire attention à la documentation et \n",
    "ajouter un paramètre `page=2` pour rattraper les derniers échos: \n"
   ]
  },
  {
   "cell_type": "code",
   "execution_count": null,
   "id": "40d69601",
   "metadata": {},
   "outputs": [],
   "source": [
    "wb2 = pd.json_normalize(\n",
    "    requests.get(\"http://api.worldbank.org/v2/countries?incomeLevel=LMC&format=json&page=2\").json()[1]\n",
    "    )\n",
    "pd.concat([wb, wb2])"
   ]
  },
  {
   "cell_type": "markdown",
   "id": "400c1cd0",
   "metadata": {},
   "source": [
    "```\n",
    "## Error in py_call_impl(callable, dots$args, dots$keywords): NameError: name 'wb' is not defined\n",
    "## \n",
    "## Detailed traceback: \n",
    "##   File \"<string>\", line 1, in <module>\n",
    "```\n",
    "\n",
    "Si on regarde l'information présente dans le DataFrame, on voit qu'elle se\n",
    "présente sous forme `lendingType.value`. C'est parce que `pandas` a \n",
    "concaténé les différents niveaux de notre dictionnaire. Si on désire\n",
    "s'en assurer, on peut regarder sur un exemple:\n"
   ]
  },
  {
   "cell_type": "code",
   "execution_count": null,
   "id": "70ad21cb",
   "metadata": {},
   "outputs": [],
   "source": [
    "r.json()[1][0]['incomeLevel']['value'] == wb.loc[0, 'incomeLevel.value'] "
   ]
  },
  {
   "cell_type": "markdown",
   "id": "5d96fa4f",
   "metadata": {},
   "source": [
    "```\n",
    "## Error in py_call_impl(callable, dots$args, dots$keywords): RuntimeError: Evaluation error: object 'json' not found.\n",
    "## \n",
    "## Detailed traceback: \n",
    "##   File \"<string>\", line 1, in <module>\n",
    "##   File \"/usr/local/lib/R/site-library/reticulate/python/rpytools/call.py\", line 21, in python_function\n",
    "##     raise RuntimeError(res[kErrorKey])\n",
    "```"
   ]
  },
  {
   "cell_type": "markdown",
   "id": "73624694",
   "metadata": {},
   "source": [
    "## Un catalogue incomplet d'API existantes\n",
    "\n",
    "De plus en plus de sites mettent des API à disposition des développeurs et autres curieux. \n",
    "\n",
    "Pour en citer quelques-unes très connues : \n",
    "\n",
    "- Twitter <i class=\"fab fa-twitter\"></i> : https://dev.twitter.com/rest/public\n",
    "- Facebook <i class=\"fab fa-facebook\"></i> : https://developers.facebook.com/\n",
    "- Instagram <i class=\"fab fa-instagram\"></i> : https://www.instagram.com/developer/\n",
    "- Spotify <i class=\"fab fa-spotify\"></i> : https://developer.spotify.com/web-api/\n",
    "\n",
    "Cependant, il est intéressant de ne pas se restreindre à celles-ci. Beaucoup\n",
    "de producteurs de données, privés comme publics, mettent à disposition \n",
    "leurs données sous forme d'API\n",
    "\n",
    "- Pole Emploi : https://www.emploi-store-dev.fr/portail-developpeur-cms/home.html\n",
    "- SNCF : https://data.sncf.com/api\n",
    "- Banque Mondiale : https://datahelpdesk.worldbank.org/knowledgebase/topics/125589\n",
    "- Insee: https://api.insee.fr/catalogue/ et [`pynsee`](https://github.com/InseeFrLab/Py-Insee-Data/tree/master/pynsee)"
   ]
  },
  {
   "cell_type": "markdown",
   "id": "be410f18",
   "metadata": {},
   "source": [
    "# L'API DVF : accéder à des données de transactions immobilières simplement\n",
    "\n",
    "Le site `DVF` (demandes de valeurs foncières) permet de visualiser toutes les données relatives aux mutations à titre onéreux (ventes de maisons, appartements, garages...) réalisées durant les 5 dernières années\n",
    "\n",
    "Un site de visualisation est disponible sur <https://app.dvf.etalab.gouv.fr/>\n",
    "\n",
    "Ce site est très complet quand il s'agit de connaître le prix moyen au mètre\n",
    "carré d'un quartier ou de comparer des régions entre elles. \n",
    "L'API DVF permet d'aller plus loin afin de récupérer les résultats dans \n",
    "un logiciel de traitement de données. Elle a été réalisée par\n",
    "[Christian Quest](https://github.com/cquest) et le code\n",
    "source est disponible sur Github <a href=\"https://github.com/cquest/dvf_as_api\" class=\"github\"><i class=\"fab fa-github\"></i></a>\n",
    "\n",
    "Les critères de recherche sont les suivants :\n",
    "- `code_commune` = code INSEE de la commune (ex: 94068)\n",
    "- `section` = section cadastrale (ex: 94068000CQ)\n",
    "- `numero_plan` = identifiant de la parcelle, (ex: 94068000CQ0110)\n",
    "- `lat` + `lon` + `dist` (optionnel): pour une recherche géographique, dist est par défaut un rayon de 500m\n",
    "- `code_postal`\n",
    "\n",
    "Les filtres de sélection complémentaires :\n",
    "- `nature_mutation` (Vente, etc)\n",
    "- `type_local` (Maison, Appartement, Local, Dépendance)\n"
   ]
  },
  {
   "cell_type": "markdown",
   "id": "a6fd6ed1",
   "metadata": {},
   "source": [
    ":one: \n",
    "Rechercher toutes les transactions existantes dans DVF à Plogoff (code commune `29168`, en Bretagne).\n",
    "Afficher les clés du JSON et en déduire le nombre de transactions répertoriées. \n"
   ]
  },
  {
   "cell_type": "code",
   "execution_count": null,
   "id": "8863777d",
   "metadata": {},
   "outputs": [],
   "source": [
    "# Question 1\n",
    "data_immo = requests.get(\"http://api.cquest.org/dvf?code_commune=29168\").json()\n",
    "data_immo.keys()"
   ]
  },
  {
   "cell_type": "markdown",
   "id": "51c41479",
   "metadata": {},
   "source": [
    "```\n",
    "## dict_keys(['source', 'derniere_maj', 'licence', 'nb_resultats', 'resultats'])\n",
    "```"
   ]
  },
  {
   "cell_type": "code",
   "execution_count": null,
   "id": "f166c2b6",
   "metadata": {
    "lines_to_next_cell": 2
   },
   "outputs": [],
   "source": [
    "ventes = pd.json_normalize(data_immo[\"resultats\"])"
   ]
  },
  {
   "cell_type": "markdown",
   "id": "d491d52a",
   "metadata": {},
   "source": [
    ":two: \n",
    "N'afficher que les transactions portant sur des maisons. Le résultat devrait\n",
    "ressembler au DataFrame suivant:\n"
   ]
  },
  {
   "cell_type": "code",
   "execution_count": null,
   "id": "c7c2dc11",
   "metadata": {},
   "outputs": [],
   "source": [
    "# Question 2\n",
    "maisons = requests.get(\"http://api.cquest.org/dvf?code_commune=29168&type_local=Maison\").json()\n",
    "pd.json_normalize(maisons[\"resultats\"])"
   ]
  },
  {
   "cell_type": "markdown",
   "id": "428d96c3",
   "metadata": {},
   "source": [
    "```\n",
    "##     code_service_ch reference_document  ... geom.type        geom.coordinates\n",
    "## 0              None               None  ...     Point  [-4.705626, 48.042047]\n",
    "## 1              None               None  ...     Point  [-4.709215, 48.038356]\n",
    "## 2              None               None  ...     Point  [-4.709152, 48.038782]\n",
    "## 3              None               None  ...     Point  [-4.708496, 48.038467]\n",
    "## 4              None               None  ...     Point  [-4.708192, 48.038626]\n",
    "## ..              ...                ...  ...       ...                     ...\n",
    "## 129            None               None  ...     Point   [-4.70207, 48.039692]\n",
    "## 130            None               None  ...     Point   [-4.699823, 48.03942]\n",
    "## 131            None               None  ...     Point  [-4.700808, 48.038956]\n",
    "## 132            None               None  ...     Point  [-4.700004, 48.037184]\n",
    "## 133            None               None  ...     Point  [-4.712316, 48.037312]\n",
    "## \n",
    "## [134 rows x 47 columns]\n",
    "```"
   ]
  },
  {
   "cell_type": "markdown",
   "id": "8484527a",
   "metadata": {},
   "source": [
    ":three: Utiliser l'[API geo](https://api.gouv.fr/documentation/api-geo) pour\n",
    "récupérer le découpage communal de la ville de Plogoff\n"
   ]
  },
  {
   "cell_type": "code",
   "execution_count": null,
   "id": "a4128691",
   "metadata": {},
   "outputs": [],
   "source": [
    "import geopandas as gpd\n",
    "plgf = gpd.read_file(\"https://geo.api.gouv.fr/communes/29168?fields=nom,code,codesPostaux,codeDepartement,codeRegion,population&format=geojson&geometry=contour\")"
   ]
  },
  {
   "cell_type": "markdown",
   "id": "1ff42f5b",
   "metadata": {},
   "source": [
    ":four:\n",
    "Représenter l'histogramme des prix de vente\n"
   ]
  },
  {
   "cell_type": "code",
   "execution_count": null,
   "id": "07bab0a3",
   "metadata": {
    "lines_to_next_cell": 0
   },
   "outputs": [],
   "source": [
    "p = ventes[\"valeur_fonciere\"].plot(kind = \"hist\")\n",
    "p"
   ]
  },
  {
   "cell_type": "markdown",
   "id": "145a2747",
   "metadata": {},
   "source": [
    "\n",
    "\n",
    "\n"
   ]
  },
  {
   "cell_type": "markdown",
   "id": "7f34b41e",
   "metadata": {},
   "source": [
    "N'hésitez pas à aller plus loin en jouant sur des variables de\n",
    "groupes par exemple\n",
    "\n",
    ":five: \n",
    "On va faire une carte des ventes en affichant le prix de l'achat.\n",
    "\n",
    "Supposons que le DataFrame des ventes s'appelle `ventes`. Il faut d'abord le\n",
    "convertir\n",
    "en objet `geopandas`. \n"
   ]
  },
  {
   "cell_type": "code",
   "execution_count": null,
   "id": "ef7be972",
   "metadata": {},
   "outputs": [],
   "source": [
    "ventes = ventes.dropna(subset = ['lat','lon'])\n",
    "ventes = gpd.GeoDataFrame(ventes, geometry=gpd.points_from_xy(ventes.lon, ventes.lat))\n",
    "ventes"
   ]
  },
  {
   "cell_type": "markdown",
   "id": "19a1b622",
   "metadata": {},
   "source": [
    "```\n",
    "##     code_service_ch reference_document  ... geom                   geometry\n",
    "## 0              None               None  ...  NaN  POINT (-4.71797 48.03781)\n",
    "## 1              None               None  ...  NaN  POINT (-4.71797 48.03781)\n",
    "## 2              None               None  ...  NaN  POINT (-4.70949 48.04230)\n",
    "## 3              None               None  ...  NaN  POINT (-4.70696 48.04313)\n",
    "## 4              None               None  ...  NaN  POINT (-4.70555 48.04223)\n",
    "## ..              ...                ...  ...  ...                        ...\n",
    "## 434            None               None  ...  NaN  POINT (-4.71243 48.03708)\n",
    "## 435            None               None  ...  NaN  POINT (-4.71232 48.03731)\n",
    "## 436            None               None  ...  NaN  POINT (-4.71232 48.03731)\n",
    "## 437            None               None  ...  NaN  POINT (-4.71186 48.03727)\n",
    "## 438            None               None  ...  NaN  POINT (-4.71601 48.03396)\n",
    "## \n",
    "## [431 rows x 49 columns]\n",
    "```\n",
    "\n",
    "Pour représenter graphiquement, on peut utiliser le code suivant (essayez de\n",
    "le comprendre et pas uniquement de l'exécuter)\n"
   ]
  },
  {
   "cell_type": "code",
   "execution_count": null,
   "id": "ea2d49cb",
   "metadata": {},
   "outputs": [],
   "source": [
    "import folium\n",
    "\n",
    "ventes['map_color'] = pd.qcut(ventes['valeur_fonciere'], [0,0.9,1], labels = ['lightblue','red'])\n",
    "ventes['icon'] = np.where(ventes['type_local']== 'Maison', \"home\", \"\")"
   ]
  },
  {
   "cell_type": "markdown",
   "id": "53b70634",
   "metadata": {},
   "source": [
    "```\n",
    "## Error in py_call_impl(callable, dots$args, dots$keywords): NameError: name 'np' is not defined\n",
    "## \n",
    "## Detailed traceback: \n",
    "##   File \"<string>\", line 1, in <module>\n",
    "```"
   ]
  },
  {
   "cell_type": "code",
   "execution_count": null,
   "id": "dd9fada1",
   "metadata": {},
   "outputs": [],
   "source": [
    "ventes['num_voie_clean'] = np.where(ventes['numero_voie'].isnull(), \"\", ventes['numero_voie'])"
   ]
  },
  {
   "cell_type": "markdown",
   "id": "7485e62e",
   "metadata": {},
   "source": [
    "```\n",
    "## Error in py_call_impl(callable, dots$args, dots$keywords): NameError: name 'np' is not defined\n",
    "## \n",
    "## Detailed traceback: \n",
    "##   File \"<string>\", line 1, in <module>\n",
    "```"
   ]
  },
  {
   "cell_type": "code",
   "execution_count": null,
   "id": "054f1ea0",
   "metadata": {},
   "outputs": [],
   "source": [
    "ventes['text'] = ventes.apply(lambda s: \"Adresse: {num} {voie} <br>Vente en {annee} <br>Prix {prix:.0f} €\".format(\n",
    "                        num = s['num_voie_clean'],\n",
    "                        voie = s[\"voie\"],\n",
    "                        annee = s['date_mutation'].split(\"-\")[0],\n",
    "                        prix = s[\"valeur_fonciere\"]),\n",
    "             axis=1)\n",
    "             "
   ]
  },
  {
   "cell_type": "markdown",
   "id": "83b7a3a8",
   "metadata": {},
   "source": [
    "```\n",
    "## Error in py_call_impl(callable, dots$args, dots$keywords): KeyError: 'num_voie_clean'\n",
    "## \n",
    "## Detailed traceback: \n",
    "##   File \"<string>\", line 1, in <module>\n",
    "##   File \"/opt/conda/envs/python-ENSAE/lib/python3.9/site-packages/geopandas/geodataframe.py\", line 1361, in apply\n",
    "##     result = super().apply(\n",
    "##   File \"/opt/conda/envs/python-ENSAE/lib/python3.9/site-packages/pandas/core/frame.py\", line 8736, in apply\n",
    "##     return op.apply()\n",
    "##   File \"/opt/conda/envs/python-ENSAE/lib/python3.9/site-packages/pandas/core/apply.py\", line 688, in apply\n",
    "##     return self.apply_standard()\n",
    "##   File \"/opt/conda/envs/python-ENSAE/lib/python3.9/site-packages/pandas/core/apply.py\", line 812, in apply_standard\n",
    "##     results, res_index = self.apply_series_generator()\n",
    "##   File \"/opt/conda/envs/python-ENSAE/lib/python3.9/site-packages/pandas/core/apply.py\", line 828, in apply_series_generator\n",
    "##     results[i] = self.f(v)\n",
    "##   File \"<string>\", line 2, in <lambda>\n",
    "##   File \"/opt/conda/envs/python-ENSAE/lib/python3.9/site-packages/pandas/core/series.py\", line 942, in __getitem__\n",
    "##     return self._get_value(key)\n",
    "##   File \"/opt/conda/envs/python-ENSAE/lib/python3.9/site-packages/pandas/core/series.py\", line 1051, in _get_value\n",
    "##     loc = self.index.get_loc(label)\n",
    "##   File \"/opt/conda/envs/python-ENSAE/lib/python3.9/site-packages/pandas/core/indexes/base.py\", line 3363, in get_loc\n",
    "##     raise KeyError(key) from err\n",
    "```"
   ]
  },
  {
   "cell_type": "code",
   "execution_count": null,
   "id": "fc3ddedb",
   "metadata": {},
   "outputs": [],
   "source": [
    "center = ventes[['lat', 'lon']].mean().values.tolist()\n",
    "sw = ventes[['lat', 'lon']].min().values.tolist()\n",
    "ne = ventes[['lat', 'lon']].max().values.tolist()\n",
    "\n",
    "m = folium.Map(location = center, tiles='Stamen Toner')\n",
    "\n",
    "# I can add marker one by one on the map\n",
    "for i in range(0,len(ventes)):\n",
    "    folium.Marker([ventes.iloc[i]['lat'], ventes.iloc[i]['lon']],\n",
    "                  popup=ventes.iloc[i]['text'],\n",
    "                  icon=folium.Icon(color=ventes.iloc[i]['map_color'], icon=ventes.iloc[i]['icon'])).add_to(m)"
   ]
  },
  {
   "cell_type": "markdown",
   "id": "e7a907b1",
   "metadata": {},
   "source": [
    "```\n",
    "## Error in py_call_impl(callable, dots$args, dots$keywords): KeyError: 'text'\n",
    "## \n",
    "## Detailed traceback: \n",
    "##   File \"<string>\", line 3, in <module>\n",
    "##   File \"/opt/conda/envs/python-ENSAE/lib/python3.9/site-packages/pandas/core/series.py\", line 942, in __getitem__\n",
    "##     return self._get_value(key)\n",
    "##   File \"/opt/conda/envs/python-ENSAE/lib/python3.9/site-packages/pandas/core/series.py\", line 1051, in _get_value\n",
    "##     loc = self.index.get_loc(label)\n",
    "##   File \"/opt/conda/envs/python-ENSAE/lib/python3.9/site-packages/pandas/core/indexes/base.py\", line 3363, in get_loc\n",
    "##     raise KeyError(key) from err\n",
    "```"
   ]
  },
  {
   "cell_type": "code",
   "execution_count": null,
   "id": "f594b60b",
   "metadata": {
    "lines_to_next_cell": 2
   },
   "outputs": [],
   "source": [
    "m.fit_bounds([sw, ne])"
   ]
  },
  {
   "cell_type": "code",
   "execution_count": null,
   "id": "283ac28b",
   "metadata": {
    "lines_to_next_cell": 0
   },
   "outputs": [],
   "source": [
    "# Afficher la carte\n",
    "m"
   ]
  },
  {
   "cell_type": "markdown",
   "id": "4c58c45e",
   "metadata": {},
   "source": []
  },
  {
   "cell_type": "markdown",
   "id": "7ace380b",
   "metadata": {},
   "source": [
    "<div style=\"width:100%;\"><div style=\"position:relative;width:100%;height:0;padding-bottom:60%;\"><span style=\"color:#565656\">Make this Notebook Trusted to load map: File -> Trust Notebook</span><iframe src=\"about:blank\" style=\"position:absolute;width:100%;height:100%;left:0;top:0;border:none !important;\" data-html=%3C%21DOCTYPE%20html%3E%0A%3Chead%3E%20%20%20%20%0A%20%20%20%20%3Cmeta%20http-equiv%3D%22content-type%22%20content%3D%22text/html%3B%20charset%3DUTF-8%22%20/%3E%0A%20%20%20%20%0A%20%20%20%20%20%20%20%20%3Cscript%3E%0A%20%20%20%20%20%20%20%20%20%20%20%20L_NO_TOUCH%20%3D%20false%3B%0A%20%20%20%20%20%20%20%20%20%20%20%20L_DISABLE_3D%20%3D%20false%3B%0A%20%20%20%20%20%20%20%20%3C/script%3E%0A%20%20%20%20%0A%20%20%20%20%3Cstyle%3Ehtml%2C%20body%20%7Bwidth%3A%20100%25%3Bheight%3A%20100%25%3Bmargin%3A%200%3Bpadding%3A%200%3B%7D%3C/style%3E%0A%20%20%20%20%3Cstyle%3E%23map%20%7Bposition%3Aabsolute%3Btop%3A0%3Bbottom%3A0%3Bright%3A0%3Bleft%3A0%3B%7D%3C/style%3E%0A%20%20%20%20%3Cscript%20src%3D%22https%3A//cdn.jsdelivr.net/npm/leaflet%401.6.0/dist/leaflet.js%22%3E%3C/script%3E%0A%20%20%20%20%3Cscript%20src%3D%22https%3A//code.jquery.com/jquery-1.12.4.min.js%22%3E%3C/script%3E%0A%20%20%20%20%3Cscript%20src%3D%22https%3A//maxcdn.bootstrapcdn.com/bootstrap/3.2.0/js/bootstrap.min.js%22%3E%3C/script%3E%0A%20%20%20%20%3Cscript%20src%3D%22https%3A//cdnjs.cloudflare.com/ajax/libs/Leaflet.awesome-markers/2.0.2/leaflet.awesome-markers.js%22%3E%3C/script%3E%0A%20%20%20%20%3Clink%20rel%3D%22stylesheet%22%20href%3D%22https%3A//cdn.jsdelivr.net/npm/leaflet%401.6.0/dist/leaflet.css%22/%3E%0A%20%20%20%20%3Clink%20rel%3D%22stylesheet%22%20href%3D%22https%3A//maxcdn.bootstrapcdn.com/bootstrap/3.2.0/css/bootstrap.min.css%22/%3E%0A%20%20%20%20%3Clink%20rel%3D%22stylesheet%22%20href%3D%22https%3A//maxcdn.bootstrapcdn.com/bootstrap/3.2.0/css/bootstrap-theme.min.css%22/%3E%0A%20%20%20%20%3Clink%20rel%3D%22stylesheet%22%20href%3D%22https%3A//maxcdn.bootstrapcdn.com/font-awesome/4.6.3/css/font-awesome.min.css%22/%3E%0A%20%20%20%20%3Clink%20rel%3D%22stylesheet%22%20href%3D%22https%3A//cdnjs.cloudflare.com/ajax/libs/Leaflet.awesome-markers/2.0.2/leaflet.awesome-markers.css%22/%3E%0A%20%20%20%20%3Clink%20rel%3D%22stylesheet%22%20href%3D%22https%3A//cdn.jsdelivr.net/gh/python-visualization/folium/folium/templates/leaflet.awesome.rotate.min.css%22/%3E%0A%20%20%20%20%0A%20%20%20%20%20%20%20%20%20%20%20%20%3Cmeta%20name%3D%22viewport%22%20content%3D%22width%3Ddevice-width%2C%0A%20%20%20%20%20%20%20%20%20%20%20%20%20%20%20%20initial-scale%3D1.0%2C%20maximum-scale%3D1.0%2C%20user-scalable%3Dno%22%20/%3E%0A%20%20%20%20%20%20%20%20%20%20%20%20%3Cstyle%3E%0A%20%20%20%20%20%20%20%20%20%20%20%20%20%20%20%20%23map_0cfb8986c7124faf90f80a1a5f91c264%20%7B%0A%20%20%20%20%20%20%20%20%20%20%20%20%20%20%20%20%20%20%20%20position%3A%20relative%3B%0A%20%20%20%20%20%20%20%20%20%20%20%20%20%20%20%20%20%20%20%20width%3A%20100.0%25%3B%0A%20%20%20%20%20%20%20%20%20%20%20%20%20%20%20%20%20%20%20%20height%3A%20100.0%25%3B%0A%20%20%20%20%20%20%20%20%20%20%20%20%20%20%20%20%20%20%20%20left%3A%200.0%25%3B%0A%20%20%20%20%20%20%20%20%20%20%20%20%20%20%20%20%20%20%20%20top%3A%200.0%25%3B%0A%20%20%20%20%20%20%20%20%20%20%20%20%20%20%20%20%7D%0A%20%20%20%20%20%20%20%20%20%20%20%20%3C/style%3E%0A%20%20%20%20%20%20%20%20%0A%3C/head%3E%0A%3Cbody%3E%20%20%20%20%0A%20%20%20%20%0A%20%20%20%20%20%20%20%20%20%20%20%20%3Cdiv%20class%3D%22folium-map%22%20id%3D%22map_0cfb8986c7124faf90f80a1a5f91c264%22%20%3E%3C/div%3E%0A%20%20%20%20%20%20%20%20%0A%3C/body%3E%0A%3Cscript%3E%20%20%20%20%0A%20%20%20%20%0A%20%20%20%20%20%20%20%20%20%20%20%20var%20map_0cfb8986c7124faf90f80a1a5f91c264%20%3D%20L.map%28%0A%20%20%20%20%20%20%20%20%20%20%20%20%20%20%20%20%22map_0cfb8986c7124faf90f80a1a5f91c264%22%2C%0A%20%20%20%20%20%20%20%20%20%20%20%20%20%20%20%20%7B%0A%20%20%20%20%20%20%20%20%20%20%20%20%20%20%20%20%20%20%20%20center%3A%20%5B48.03477472157772%2C%20-4.671743032482598%5D%2C%0A%20%20%20%20%20%20%20%20%20%20%20%20%20%20%20%20%20%20%20%20crs%3A%20L.CRS.EPSG3857%2C%0A%20%20%20%20%20%20%20%20%20%20%20%20%20%20%20%20%20%20%20%20zoom%3A%2010%2C%0A%20%20%20%20%20%20%20%20%20%20%20%20%20%20%20%20%20%20%20%20zoomControl%3A%20true%2C%0A%20%20%20%20%20%20%20%20%20%20%20%20%20%20%20%20%20%20%20%20preferCanvas%3A%20false%2C%0A%20%20%20%20%20%20%20%20%20%20%20%20%20%20%20%20%7D%0A%20%20%20%20%20%20%20%20%20%20%20%20%29%3B%0A%0A%20%20%20%20%20%20%20%20%20%20%20%20%0A%0A%20%20%20%20%20%20%20%20%0A%20%20%20%20%0A%20%20%20%20%20%20%20%20%20%20%20%20var%20tile_layer_94762adac0c84c54a2bdebde8069b59a%20%3D%20L.tileLayer%28%0A%20%20%20%20%20%20%20%20%20%20%20%20%20%20%20%20%22https%3A//stamen-tiles-%7Bs%7D.a.ssl.fastly.net/toner/%7Bz%7D/%7Bx%7D/%7By%7D.png%22%2C%0A%20%20%20%20%20%20%20%20%20%20%20%20%20%20%20%20%7B%22attribution%22%3A%20%22Map%20tiles%20by%20%5Cu003ca%20href%3D%5C%22http%3A//stamen.com%5C%22%5Cu003eStamen%20Design%5Cu003c/a%5Cu003e%2C%20under%20%5Cu003ca%20href%3D%5C%22http%3A//creativecommons.org/licenses/by/3.0%5C%22%5Cu003eCC%20BY%203.0%5Cu003c/a%5Cu003e.%20Data%20by%20%5Cu0026copy%3B%20%5Cu003ca%20href%3D%5C%22http%3A//openstreetmap.org%5C%22%5Cu003eOpenStreetMap%5Cu003c/a%5Cu003e%2C%20under%20%5Cu003ca%20href%3D%5C%22http%3A//www.openstreetmap.org/copyright%5C%22%5Cu003eODbL%5Cu003c/a%5Cu003e.%22%2C%20%22detectRetina%22%3A%20false%2C%20%22maxNativeZoom%22%3A%2018%2C%20%22maxZoom%22%3A%2018%2C%20%22minZoom%22%3A%200%2C%20%22noWrap%22%3A%20false%2C%20%22opacity%22%3A%201%2C%20%22subdomains%22%3A%20%22abc%22%2C%20%22tms%22%3A%20false%7D%0A%20%20%20%20%20%20%20%20%20%20%20%20%29.addTo%28map_0cfb8986c7124faf90f80a1a5f91c264%29%3B%0A%20%20%20%20%20%20%20%20%0A%20%20%20%20%0A%20%20%20%20%20%20%20%20%20%20%20%20map_0cfb8986c7124faf90f80a1a5f91c264.fitBounds%28%0A%20%20%20%20%20%20%20%20%20%20%20%20%20%20%20%20%5B%5B48.027025%2C%20-4.717967%5D%2C%20%5B48.043125%2C%20-4.633439%5D%5D%2C%0A%20%20%20%20%20%20%20%20%20%20%20%20%20%20%20%20%7B%7D%0A%20%20%20%20%20%20%20%20%20%20%20%20%29%3B%0A%20%20%20%20%20%20%20%20%0A%3C/script%3E onload=\"this.contentDocument.open();this.contentDocument.write(    decodeURIComponent(this.getAttribute('data-html')));this.contentDocument.close();\" allowfullscreen webkitallowfullscreen mozallowfullscreen></iframe></div></div>\n",
    "\n",
    "\n"
   ]
  },
  {
   "cell_type": "markdown",
   "id": "b0cbabc4",
   "metadata": {},
   "source": [
    "# Exercices supplémentaires"
   ]
  },
  {
   "cell_type": "markdown",
   "id": "0edc1d30",
   "metadata": {},
   "source": [
    "**Exercice 1 : Retrouver des produits dans l'openfood facts :pizza:**\n",
    "\n",
    "Voici une liste de code-barres:\n",
    "`3274080005003,  5449000000996, 8002270014901,\n",
    "3228857000906, 3017620421006, 8712100325953`\n",
    "\n",
    "Utiliser l'[API d'openfoodfacts](https://world.openfoodfacts.org/data)\n",
    "(l'API, pas depuis le CSV !)\n",
    "pour retrouver les produits correspondant\n",
    "et leurs caractéristiques nutritionnelles.\n",
    "\n",
    "Le panier paraît-il équilibré ? :chocolate_bar:\n",
    "\n",
    "Pour vous aidez, vous pouvez regarder une exemple de structure du json ici : https://world.openfoodfacts.org/api/v0/product/3274080005003.json en particulier la catégorie `nutriments`.\n",
    "\n",
    "\n",
    "\n"
   ]
  },
  {
   "cell_type": "code",
   "execution_count": null,
   "id": "07901784",
   "metadata": {
    "lines_to_next_cell": 0
   },
   "outputs": [],
   "source": [
    "import json\n",
    "import requests\n",
    "import pandas as pd"
   ]
  },
  {
   "cell_type": "markdown",
   "id": "810a68ea",
   "metadata": {},
   "source": [
    "\n"
   ]
  },
  {
   "cell_type": "code",
   "execution_count": null,
   "id": "8de5aeaa",
   "metadata": {
    "lines_to_next_cell": 2
   },
   "outputs": [],
   "source": [
    "# Paramètres nécessaires\n",
    "df = pd.DataFrame([3274080005003,  5449000000996, 8002270014901,\n",
    "3228857000906, 3017620421006, 8712100325953], columns = ['code_ean'])\n",
    "nutri = ['energy_100g', 'nutriscore_grade', 'nova_group', 'fat_100g', 'saturated-fat_100g', 'carbohydrates_100g', 'sugars_100g', 'salt_100g', 'fiber_100g', 'proteins_100g', 'calcium_100g', 'iron_100g', 'sodium_100g', 'cholesterol_100g']\n",
    "cols_api = ['code', 'product_name', 'categories', 'categories_tags'] + [\"nutriments.{}\".format(i) for i in nutri]"
   ]
  },
  {
   "cell_type": "code",
   "execution_count": null,
   "id": "f1e670f4",
   "metadata": {},
   "outputs": [],
   "source": [
    "def get_products_api(barcode, col = cols_api):\n",
    "    url = \"https://world.openfoodfacts.org/api/v0/product/{}.json\".format(str(barcode))\n",
    "    #print(url)\n",
    "    res = requests.get(url)\n",
    "    results = res.json()\n",
    "    product = results[\"product\"]\n",
    "    openfood = pd.json_normalize(product)\n",
    "    openfood = openfood[list(set(col) & set(openfood.columns))]\n",
    "    return openfood\n",
    "  \n",
    "# Exemple\n",
    "get_products_api(3274080005003, col=[\"code\",\"nutriments.fat_100g\"])"
   ]
  },
  {
   "cell_type": "markdown",
   "id": "61edfeeb",
   "metadata": {},
   "source": [
    "```\n",
    "##             code  nutriments.fat_100g\n",
    "## 0  3274080005003                    0\n",
    "```\n",
    "\n"
   ]
  },
  {
   "cell_type": "code",
   "execution_count": null,
   "id": "382740eb",
   "metadata": {},
   "outputs": [],
   "source": [
    "openfood = [get_products_api(barcode) for barcode in df['code_ean'].dropna().astype(str).unique()]\n",
    "openfood = pd.concat(openfood)\n",
    "openfood.head(10)"
   ]
  },
  {
   "cell_type": "markdown",
   "id": "ce64292b",
   "metadata": {},
   "source": [
    "```\n",
    "##             code  ... nutriments.sugars_100g\n",
    "## 0  3274080005003  ...                    0.0\n",
    "## 0  5449000000996  ...                   10.6\n",
    "## 0  8002270014901  ...                    NaN\n",
    "## 0  3228857000906  ...                    4.9\n",
    "## 0  3017620421006  ...                   56.3\n",
    "## 0  8712100325953  ...                    2.3\n",
    "## \n",
    "## [6 rows x 14 columns]\n",
    "```\n",
    "\n",
    "Récupérer l'URL d'une des images et l'afficher dans votre navigateur. Par exemple,\n",
    "celle-ci:\n",
    "\n"
   ]
  },
  {
   "cell_type": "code",
   "execution_count": null,
   "id": "7b9b46d9",
   "metadata": {
    "lines_to_next_cell": 0
   },
   "outputs": [],
   "source": [
    "url_image = get_products_api(5449000000996, col = [\"image_front_small_url\"])[\"image_front_small_url\"].iloc[0]"
   ]
  },
  {
   "cell_type": "markdown",
   "id": "9f86a3fe",
   "metadata": {},
   "source": [
    "\n"
   ]
  }
 ],
 "metadata": {
  "kernelspec": {
   "display_name": "Python 3",
   "language": "python",
   "name": "python3"
  }
 },
 "nbformat": 4,
 "nbformat_minor": 5
}
