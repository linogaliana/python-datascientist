{
  "cells": [
    {
      "cell_type": "raw",
      "metadata": {},
      "source": [
        "---\n",
        "title: \"Récupérer des données avec des API depuis Python\"\n",
        "date: 2020-09-08T13:00:00Z\n",
        "draft: false\n",
        "weight: 80\n",
        "slug: api\n",
        "type: book\n",
        "tags:\n",
        "  - API\n",
        "  - JSON\n",
        "  - openfood\n",
        "  - Exercice\n",
        "  - Manipulation\n",
        "categories:\n",
        "  - Exercice\n",
        "  - Manipulation\n",
        "summary: |\n",
        "  Les __API__ (_Application Programming Interface_) sont un mode d'accès aux\n",
        "  données en expansion. Grâce aux API, l'automatisation de scripts\n",
        "  est facilitée puisqu'il n'est plus nécessaire de stocker un fichier,\n",
        "  et gérer ses différentes versions, mais uniquement de requêter une base\n",
        "  et laisser au producteur de données le soin de gérer les mises à jour de\n",
        "  la base.  \n",
        "image: featured.png\n",
        "---"
      ],
      "id": "c92afb32"
    },
    {
      "cell_type": "markdown",
      "metadata": {},
      "source": [
        "::: {.cell .markdown}"
      ],
      "id": "a7cb0178"
    },
    {
      "cell_type": "code",
      "metadata": {},
      "source": [
        "#| output: 'asis'\n",
        "#| include: true\n",
        "#| eval: true\n",
        "\n",
        "import sys\n",
        "sys.path.insert(1, '../../../../') #insert the utils module\n",
        "from utils import print_badges\n",
        "\n",
        "#print_badges(__file__)\n",
        "print_badges(\"content/course/manipulation/04c_API_TP.qmd\")"
      ],
      "id": "6e3f3f25",
      "execution_count": null,
      "outputs": []
    },
    {
      "cell_type": "markdown",
      "metadata": {},
      "source": [
        ":::\n",
        "\n",
        "\n",
        "\n",
        "__La partie utilisant l'API DVF n'est plus à jour, elle sera mise à jour prochainement__\n",
        "\n",
        "# Introduction : Qu'est-ce qu'une API ?  \n",
        "\n",
        "## Définition\n",
        "\n",
        "Pour expliquer le principe d'une API, je vais reprendre le début de \n",
        "la fiche dédiée dans la documentation collaborative\n",
        "[utilitR](https://www.book.utilitr.org/api.html) que je recommande de lire :\n",
        "\n",
        "> Une *Application Programming Interface* (ou API) est une interface de programmation qui permet d’utiliser une application existante pour restituer des données. Le terme d’API peut être paraître intimidant, mais il s’agit simplement d’une façon de mettre à disposition des données : plutôt que de laisser l’utilisateur consulter directement des bases de données (souvent volumineuses et complexes), l’API lui propose de formuler une requête qui est traitée par le serveur hébergeant la base de données, puis de recevoir des données en réponse à sa requête.\n",
        "> \n",
        "> D’un point de vue informatique, une API est une porte d’entrée clairement identifiée par laquelle un logiciel offre des services à d’autres logiciels (ou utilisateurs). L’objectif d’une API est de fournir un point d’accès à une fonctionnalité qui soit facile à utiliser et qui masque les détails de la mise en oeuvre. Par exemple, l’API Sirene permet de récupérer la raison sociale d’une entreprise à partir de son identifiant Siren en interrogeant le référentiel disponible sur Internet directement depuis un script R, sans avoir à connaître tous les détails du répertoire Sirene.\n",
        ">\n",
        "> À l’Insee comme ailleurs, la connexion entre les bases de données pour les nouveaux projets tend à se réaliser par des API. L’accès à des données par des API devient ainsi de plus en plus commun et est amené à devenir une compétence de base de tout utilisateur de données.\n",
        ">\n",
        "> [`utilitR`](https://www.book.utilitr.org/api.html)\n",
        "\n",
        "\n",
        "## Avantages des API\n",
        "\n",
        "A nouveau, citons la documentation [utilitR](https://www.book.utilitr.org/api.html)\n",
        "\n",
        "Les API présentent de multiples avantages :\n",
        "\n",
        "> * Les API rendent les programmes plus reproductibles. En effet, grâce aux API, il est possible de mettre à jour facilement les données utilisées par un programme si celles-ci évoluent. Cette flexibilité accrue pour l’utilisateur évite au producteur de données d’avoir à réaliser de multiples extractions, et réduit le problème de la coexistence de versions différentes des données.\n",
        "> * Grâce aux API, l’utilisateur peut extraire facilement une petite partie d’une base de données plus conséquente.\n",
        "> * Les API permettent de mettre à disposition des données tout en limitant le nombre de personnes ayant accès aux bases de données elles-mêmes.\n",
        "> * Grâce aux API, il est possible de proposer des services sur mesure pour les utilisateurs (par exemple, un accès spécifique pour les gros utilisateurs).\n",
        ">\n",
        "> [`utilitR`](https://www.book.utilitr.org/api.html)\n",
        "\n",
        "L'utilisation accrue d'API dans le cadre de stratégies open-data est l'un\n",
        "des piliers des 15 feuilles de route ministérielles\n",
        "en matière d’ouverture, de circulation et de valorisation des données publiques.\n",
        "\n",
        "## Utilisation des API\n",
        "\n",
        "Citons encore une fois\n",
        "la documentation [`utilitR`](https://www.book.utilitr.org/api.html)\n",
        "\n",
        "> Une API peut souvent être utilisée de deux façons : par une interface Web, et par l’intermédiaire d’un logiciel (R, Python…). Par ailleurs, les API peuvent être proposées avec un niveau de liberté variable pour l’utilisateur :\n",
        "> \n",
        "> * soit en libre accès (l’utilisation n’est pas contrôlée et l’utilisateur peut utiliser le service comme bon lui semble) ;\n",
        "> * soit via la génération d’un compte et d’un jeton d’accès qui permettent de sécuriser l’utilisation de l’API et de limiter le nombre de requêtes.\n",
        ">\n",
        "> [`utilitR`](https://www.book.utilitr.org/api.html)\n",
        "\n",
        "De nombreuses API nécessitent une authentification, c'est-à-dire un \n",
        "compte utilisateur afin de pouvoir accéder aux données. \n",
        "Dans un premier temps, \n",
        "nous regarderons exclusivement les API ouvertes sans restriction d'accès.  \n",
        "Certains exercices et exemples permettront néanmoins d'essayer des API\n",
        "avec restrictions d'accès. \n",
        "\n",
        "# Requêter une API\n",
        "\n",
        "## Principe général\n",
        "\n",
        "> L’utilisation de l’interface Web est utile dans une démarche exploratoire mais trouve rapidement ses limites, notamment lorsqu’on consulte régulièrement l’API. L’utilisateur va rapidement se rendre compte qu’il est beaucoup plus commode d’utiliser une API via un logiciel de traitement pour automatiser la consultation ou pour réaliser du téléchargement de masse. De plus, l’interface Web n’existe pas systématiquement pour toutes les API.\n",
        "> \n",
        "> Le mode principal de consultation d’une API consiste à adresser une requête à cette API via un logiciel adapté (R, Python, Java…). Comme pour l’utilisation d’une fonction, l’appel d’une API comprend des paramètres qui sont détaillées dans la documentation de l’API. \n",
        ">\n",
        "> [`utilitR`](https://www.book.utilitr.org/api.html)\n",
        "\n",
        "\n",
        "Voici les éléments importants à avoir en tête sur les requêtes (j'emprunte encore\n",
        "à [`utilitR`](https://www.book.utilitr.org/api.html)):\n",
        "\n",
        "* Le __point d’entrée__ d’un service offert par une API se présente sous la forme d’une URL (adresse web).\n",
        "Chaque service proposé par une API a sa propre URL. Par exemple, dans le cas de l’OpenFood Facts,\n",
        "l'URL à utiliser pour obtenir des informations sur un produit particulier (l'identifiant `737628064502`)\n",
        "est https://world.openfoodfacts.org/api/v0/product/737628064502.json\n",
        "* Cette URL doit être complétée avec différents paramètres qui précisent la requête (par exemple l’identifiant Siren). Ces paramètres viennent s’ajouter à l’URL, souvent à la suite de `?`. Chaque service proposé par une API a ses propres paramètres, détaillés dans la documentation. \n",
        "* Lorsque l’utilisateur soumet sa requête, l’API lui renvoie une réponse structurée contenant l’ensemble des informations demandées. Le résultat envoyé par une API est majoritairement aux formats JSON ou XML (deux formats dans lesquels les informations sont hiérarchisées de manière emboitée). Plus rarement, certains services proposent une information sous forme plate (de type csv).\n",
        "\n",
        "Du fait de la dimension hiérarchique des formats JSON ou XML, le résultat n’est pas toujours facile à récupérer mais\n",
        "`python` propose d'excellents outils pour cela (meilleurs que ceux de `R`). Certains packages, notamment `json`, facilitent l’extraction de champs d’une sortie d’API. Dans certains cas, des packages spécifiques à une API ont été créés pour simplifier l’écriture d’une requête ou la récupération du résultat. Par exemple, le package\n",
        "[pynsee](https://github.com/InseeFrLab/Py-Insee-Data/tree/master/pynsee)\n",
        "propose des options qui seront retranscrites automatiquement dans l'URL de \n",
        "requête pour faciliter le travail sur les données Insee. \n",
        "\n",
        "## Illustration avec une API de l'Ademe pour obtenir des diagnostics energétiques\n",
        "\n",
        "Le diagnostic de performance énergétique (DPE)\n",
        "renseigne sur la performance énergétique d’un logement ou d’un bâtiment,\n",
        "en évaluant sa consommation d’énergie et son impact en terme d’émissions de gaz à effet de serre.\n",
        "\n",
        "Les données des performances énergétiques des bâtiments sont \n",
        "mises à disposition par l'[Ademe](https://data.ademe.fr/datasets/dpe-france).\n",
        "Comme ces données sont relativement\n",
        "volumineuses, une API peut être utile lorsqu'on ne s'intéresse\n",
        "qu'à un sous-champ des données.\n",
        "Une documentation et un espace de test de l'API sont disponibles\n",
        "sur le site [API GOUV](https://api.gouv.fr/documentation/api_dpe_logements)^[La documentation est également disponible [ici](https://koumoul.com/openapi-viewer/?proxy=false&hide-toolbar=true&url=https://koumoul.com/s/data-fair/api/v1/datasets/dpe-france/api-docs.json)].\n",
        "\n",
        "Supposons qu'on désire récupérer une centaine de valeurs pour la commune\n",
        "de Villieu-Loyes-Mollon dans l'Ain (code Insee 01450).\n",
        "\n",
        "L'API comporte plusieurs points d'entrée. Globalement, la racine \n",
        "commune est:\n",
        "\n",
        "> https://koumoul.com/data-fair/api/v1/datasets/dpe-france\n",
        "\n",
        "Ensuite, en fonction de l'API désirée, on va ajouter des éléments\n",
        "à cette racine. En l'occurrence, on va utiliser \n",
        "l'API `field` qui permet de récupérer des lignes en fonction d'un\n",
        "ou plusieurs critères (pour nous, la localisation géographique):\n",
        "\n",
        "L'exemple donné dans la documentation technique est \n",
        "\n",
        "> GET https://koumoul.com/data-fair/api/v1/datasets/dpe-france/values/{field}\n",
        "\n",
        "ce qui en python se traduira par l'utilisation de la méthode `get` du\n",
        "package `request`\n",
        "sur un url dont la structure est la suivante:\n",
        "\n",
        "- il commencera par `https://koumoul.com/data-fair/api/v1/datasets/dpe-france/values/` ;\n",
        "- il sera ensuite suivi par des paramètres de recherche? Le champ `{field}` \n",
        "commande ainsi généralement par un `?` qui permet ensuite de spécifier des paramètres\n",
        "sous la forme `nom_parameter=value`\n",
        "\n",
        "A la lecture de la documentation, les premiers paramètres qu'on désire:\n",
        "\n",
        "- Le nombre de pages, ce qui nous permet d'obtenir un certain nombre d'échos. On\n",
        "va seulement récupérer 10 pages ce qui correspond à une centaine d'échos. On va\n",
        "néanmoins préciser qu'on veut 100 échos\n",
        "- Le format de sortie. On va privilégier le `JSON` qui est un format standard dans le\n",
        "monde des API. `Python` offre beaucoup de flexibilité grâce à l'un de\n",
        "ses objets de base, à savoir le dictionnaire (type `dict`), pour manipuler de tels \n",
        "fichiers\n",
        "- Le code commune des données qu'on désire obtenir. Comme on l'a évoqué,\n",
        "on va récupérer les données dont le code commune est `01450`. D'après la doc, \n",
        "il convient de passer le code commune sous le format:\n",
        "`code_insee_commune_actualise:{code_commune}`. Pour éviter tout risque de \n",
        "mauvais formatage, on va utiliser `%3A%` pour signifier `:`\n",
        "- D'autres paramètres annexes, suggérés par la documentation\n",
        "\n",
        "Cela nous donne ainsi un URL dont la structure est la suivante:\n"
      ],
      "id": "e6b39241"
    },
    {
      "cell_type": "code",
      "metadata": {},
      "source": [
        "code_commune=\"01450\"\n",
        "size = 100\n",
        "api_root=\"https://koumoul.com/data-fair/api/v1/datasets/dpe-france/lines\"\n",
        "url_api = f\"{api_root}?page=1&after=10&format=json&q_mode=simple&qs=code_insee_commune_actualise\" + \"%3A%22\" + f\"{code_commune}\" + \"%22\" + f\"&size={size}&select=\" + \"%2A&sampling=neighbors\""
      ],
      "id": "f01fbfa6",
      "execution_count": null,
      "outputs": []
    },
    {
      "cell_type": "markdown",
      "metadata": {},
      "source": [
        "Si vous introduisez cet URL dans votre navigateur, vous devriez aboutir\n",
        "sur un `JSON` non formaté<a name=\"cite_ref-1\"></a>[<sup>[1]</sup>](#cite_note-1). En `Python`,\n",
        "on peut utiliser `requests` pour récupérer les données```{=html}\n",
        "<a name=\"cite_note-2\"></a>2. [^](#cite_ref-2)\n",
        "```\n",
        "\n",
        "\n",
        "\n",
        "```{=html}\n",
        "<a name=\"cite_note-1\"></a>1. [^](#cite_ref-1)\n",
        "```\n",
        " Le JSON est un format très apprécié dans le domaine du *big data*\n",
        "car il permet de stocker de manière intelligente des données\n",
        "de structures diverses. Il \n",
        "s'agit d'un des formats privilégiés du paradigme No-SQL pour lequel\n",
        "cet [excellent cours](http://b3d.bdpedia.fr/) propose plus de détails\n",
        "\n",
        "\n",
        "```{=html}\n",
        "<a name=\"cite_note-2\"></a>2. [^](#cite_ref-2)\n",
        "```\n",
        "\n",
        " Suivant les API, nous avons soit besoin de rien de plus si nous parvenons directement à obtenir un json, soit devoir utiliser un *parser* comme `BeautifulSoup` dans le cas contraire. Ici, le JSON peut être formaté relativement aisément. \n"
      ],
      "id": "483efaac"
    },
    {
      "cell_type": "code",
      "metadata": {},
      "source": [
        "import requests\n",
        "import pandas as pd\n",
        "\n",
        "req = requests.get(url_api)\n",
        "wb = req.json()"
      ],
      "id": "863f578d",
      "execution_count": null,
      "outputs": []
    },
    {
      "cell_type": "markdown",
      "metadata": {},
      "source": [
        "Prenons par exemple les 1000 premiers caractères du résultat, pour se donner\n",
        "une idée du résultat et se convaincre que notre filtre au niveau\n",
        "communal est bien passé :\n"
      ],
      "id": "9e988cf5"
    },
    {
      "cell_type": "code",
      "metadata": {},
      "source": [
        "#| output: asis\n",
        "print(req.content[:1000])"
      ],
      "id": "b1728a7c",
      "execution_count": null,
      "outputs": []
    },
    {
      "cell_type": "markdown",
      "metadata": {},
      "source": [
        "Ici, il n'est même pas nécessaire en première approche \n",
        "d'utiliser le package `json`, l'information\n",
        "étant déjà tabulée dans l'écho renvoyé (on a la même information pour tous les pays):\n",
        "On peut donc se contenter de `pandas` pour transformer nos données en \n",
        "`DataFrame` et `geopandas` pour convertir en données\n",
        "géographiques :\n"
      ],
      "id": "c784a9a5"
    },
    {
      "cell_type": "code",
      "metadata": {},
      "source": [
        "import pandas as pandas\n",
        "import geopandas as gpd\n",
        "\n",
        "def get_dpe_from_url(url):\n",
        "\n",
        "    req = requests.get(url)\n",
        "    wb = req.json()\n",
        "    df = pd.json_normalize(wb[\"results\"])\n",
        "\n",
        "    dpe = gpd.GeoDataFrame(df, geometry=gpd.points_from_xy(df.longitude, df.latitude), crs = 4326)\n",
        "    dpe = dpe.dropna(subset = ['longitude', 'latitude'])\n",
        "\n",
        "    return dpe\n",
        "\n",
        "dpe = get_dpe_from_url(url_api)\n",
        "dpe.head(2)"
      ],
      "id": "12c418b5",
      "execution_count": null,
      "outputs": []
    },
    {
      "cell_type": "markdown",
      "metadata": {},
      "source": [
        "Essayons de représenter sur une carte ces DPE avec les\n",
        "années de construction des logements.\n",
        "Avec `folium`, on obtient la carte interactive suivante:\n"
      ],
      "id": "4740aa65"
    },
    {
      "cell_type": "code",
      "metadata": {},
      "source": [
        "import seaborn as sns\n",
        "import folium\n",
        "\n",
        "palette = sns.color_palette(\"coolwarm\", 8)\n",
        "\n",
        "def interactive_map_dpe(dpe):\n",
        "\n",
        "    # convert in number\n",
        "    dpe['color'] = [ord(dpe.iloc[i]['classe_consommation_energie'].lower()) - 96 for i in range(len(dpe))]\n",
        "    dpe = dpe.loc[dpe['color']<=7]\n",
        "    dpe['color'] = [palette.as_hex()[x] for x in dpe['color']]\n",
        "\n",
        "\n",
        "    center = dpe[['latitude', 'longitude']].mean().values.tolist()\n",
        "    sw = dpe[['latitude', 'longitude']].min().values.tolist()\n",
        "    ne = dpe[['latitude', 'longitude']].max().values.tolist()\n",
        "\n",
        "    m = folium.Map(location = center, tiles='Stamen Toner')\n",
        "\n",
        "    # I can add marker one by one on the map\n",
        "    for i in range(0,len(dpe)):\n",
        "        folium.Marker([dpe.iloc[i]['latitude'], dpe.iloc[i]['longitude']],\n",
        "                    popup=f\"Année de construction: {dpe.iloc[i]['annee_construction']}, <br>DPE: {dpe.iloc[i]['classe_consommation_energie']}\",\n",
        "                    icon=folium.Icon(color=\"black\", icon=\"home\", icon_color = dpe.iloc[i]['color'])).add_to(m)\n",
        "\n",
        "    m.fit_bounds([sw, ne])\n",
        "\n",
        "    return m\n",
        "\n",
        "m = interactive_map_dpe(dpe)"
      ],
      "id": "40029d24",
      "execution_count": null,
      "outputs": []
    },
    {
      "cell_type": "code",
      "metadata": {},
      "source": [
        "#| echo : true\n",
        "#| eval: false\n",
        "# Afficher la carte\n",
        "m"
      ],
      "id": "7902fa6f",
      "execution_count": null,
      "outputs": []
    },
    {
      "cell_type": "markdown",
      "metadata": {},
      "source": [
        "On remarque un problème dans les données: un logement qui n'a\n",
        "rien à voir avec les autres. Il faudrait donc idéalement\n",
        "nettoyer un peu le jeu de données pour filtrer en fonction de\n",
        "limites géographiques. \n",
        "\n",
        "Un des paramètres qui peut permettre ceci est `geo_distance`.\n",
        "Pour commencer, on va tricher un petit peu pour déterminer \n",
        "les longitudes et latitudes de départ. Idéalement, on \n",
        "récupérerait le découpage de la commune et utiliserait, par \n",
        "exemple, le centroid de cette commune. Cela nécessite\n",
        "néanmoins l'appel à une autre API que nous n'avons\n",
        "pour le moment pas décrite. Nous allons donc\n",
        "nous contenter d'utiliser les longitudes et latitudes\n",
        "du point médian et fixer un rayon de plusieurs kilomètres\n",
        "pour exclure les points aberrants. \n"
      ],
      "id": "a515ed80"
    },
    {
      "cell_type": "code",
      "metadata": {},
      "source": [
        "x_median = dpe['longitude'].median()\n",
        "y_median = dpe['latitude'].median()"
      ],
      "id": "8f746154",
      "execution_count": null,
      "outputs": []
    },
    {
      "cell_type": "markdown",
      "metadata": {},
      "source": [
        "La documentation nous informe du format à utiliser:\n",
        "\n",
        "> Le format est 'lon,lat,distance'. La distance optionnelle (0 par défaut) et est exprimée en mètres.\n"
      ],
      "id": "e2977c74"
    },
    {
      "cell_type": "code",
      "metadata": {},
      "source": [
        "param_distance = f'{x_median},{y_median},1000'\n",
        "print(param_distance)"
      ],
      "id": "24ec541a",
      "execution_count": null,
      "outputs": []
    },
    {
      "cell_type": "markdown",
      "metadata": {},
      "source": [
        "Notre requête devient ainsi:\n"
      ],
      "id": "e9297c8e"
    },
    {
      "cell_type": "code",
      "metadata": {},
      "source": [
        "url_api = f\"{api_root}?page=1&after=10&format=json&q_mode=simple&qs=code_insee_commune_actualise\" + \"%3A%22\" + f\"{code_commune}\" + \"%22\" + f\"&size={size}&select=\" + \"%2A&sampling=neighbors\" + f\"&geodistance={param_distance}\"\n",
        "print(url_api)"
      ],
      "id": "f6f1ed92",
      "execution_count": null,
      "outputs": []
    },
    {
      "cell_type": "code",
      "metadata": {},
      "source": [
        "dpe_geo_filter = get_dpe_from_url(url_api)\n",
        "m_geo_filter = interactive_map_dpe(dpe)"
      ],
      "id": "630148b9",
      "execution_count": null,
      "outputs": []
    },
    {
      "cell_type": "code",
      "metadata": {},
      "source": [
        "#| echo : true\n",
        "#| eval: false\n",
        "# Afficher la carte\n",
        "m_geo_filter"
      ],
      "id": "3a0affe9",
      "execution_count": null,
      "outputs": []
    },
    {
      "cell_type": "markdown",
      "metadata": {},
      "source": [
        "## Un catalogue incomplet d'API existantes\n",
        "\n",
        "De plus en plus de sites mettent des API à disposition des développeurs et autres curieux. \n",
        "\n",
        "Pour en citer quelques-unes très connues : \n",
        "\n",
        "- Twitter <i class=\"fab fa-twitter\"></i> : https://dev.twitter.com/rest/public\n",
        "- Facebook <i class=\"fab fa-facebook\"></i> : https://developers.facebook.com/\n",
        "- Instagram <i class=\"fab fa-instagram\"></i> : https://www.instagram.com/developer/\n",
        "- Spotify <i class=\"fab fa-spotify\"></i> : https://developer.spotify.com/web-api/\n",
        "\n",
        "Cependant, il est intéressant de ne pas se restreindre à celles-ci dont les \n",
        "données ne sont pas toujours les plus intéressantes. Beaucoup\n",
        "de producteurs de données, privés comme publics, mettent à disposition \n",
        "leurs données sous forme d'API\n",
        "\n",
        "- [API gouv](https://api.gouv.fr/): beaucoup d'API officielles de l'Etat français \n",
        "et accès à de la documentation\n",
        "- Insee: https://api.insee.fr/catalogue/ et [`pynsee`](https://github.com/InseeFrLab/Py-Insee-Data/tree/master/pynsee)\n",
        "- Pole Emploi : https://www.emploi-store-dev.fr/portail-developpeur-cms/home.html\n",
        "- SNCF : https://data.sncf.com/api\n",
        "- Banque Mondiale : https://datahelpdesk.worldbank.org/knowledgebase/topics/125589\n",
        "\n",
        "\n",
        "# L'API DVF : accéder à des données de transactions immobilières simplement\n",
        "\n",
        "⚠️ __Cette partie nécessite une mise à jour pour privilégier l'API DVF du Cerema__\n",
        "\n",
        "Le site `DVF` (demandes de valeurs foncières) permet de visualiser toutes les données relatives aux mutations à titre onéreux (ventes de maisons, appartements, garages...) réalisées durant les 5 dernières années.\n",
        "\n",
        "Un site de visualisation est disponible sur <https://app.dvf.etalab.gouv.fr/>.\n",
        "\n",
        "Ce site est très complet quand il s'agit de connaître le prix moyen au mètre\n",
        "carré d'un quartier ou de comparer des régions entre elles. \n",
        "L'API DVF permet d'aller plus loin afin de récupérer les résultats dans \n",
        "un logiciel de traitement de données. Elle a été réalisée par\n",
        "[Christian Quest](https://github.com/cquest) et le code\n",
        "source est disponible sur Github <a href=\"https://github.com/cquest/dvf_as_api\" class=\"github\"><i class=\"fab fa-github\"></i></a>.\n",
        "\n",
        "Les critères de recherche sont les suivants :\n",
        "- `code_commune` = code INSEE de la commune (ex: 94068)\n",
        "- `section` = section cadastrale (ex: 94068000CQ)\n",
        "- `numero_plan` = identifiant de la parcelle, (ex: 94068000CQ0110)\n",
        "- `lat` + `lon` + `dist` (optionnel): pour une recherche géographique, dist est par défaut un rayon de 500m\n",
        "- `code_postal`\n",
        "\n",
        "Les filtres de sélection complémentaires :\n",
        "- `nature_mutation` (Vente, etc)\n",
        "- `type_local` (Maison, Appartement, Local, Dépendance)\n",
        "\n",
        "Les requêtes sont de la forme : `http://api.cquest.org/dvf?code_commune=29168`. \n",
        "\n",
        "::: {.cell .markdown}\n",
        "\n",
        "```{=html}\n",
        "<div class=\"alert alert-success\" role=\"alert\" style=\"color: rgba(0,0,0,.8); background-color: white; margin-top: 1em; margin-bottom: 1em; margin:1.5625emauto; padding:0 .6rem .8rem!important;overflow:hidden; page-break-inside:avoid; border-radius:.25rem; box-shadow:0 .2rem .5rem rgba(0,0,0,.05),0 0 .05rem rgba(0,0,0,.1); transition:color .25s,background-color .25s,border-color .25s ; border-right: 1px solid #dee2e6 ; border-top: 1px solid #dee2e6 ; border-bottom: 1px solid #dee2e6 ; border-left:.2rem solid #3fb618;\">\n",
        "<h3 class=\"alert-heading\"><i class=\"fa fa-pencil\"></i> Exercice 1 : Exploiter l'API DVF</h3>\n",
        "```\n",
        "\n",
        "\n",
        "1. Rechercher toutes les transactions existantes dans DVF à Plogoff (code commune `29168`, en Bretagne).\n",
        "Afficher les clés du JSON et en déduire le nombre de transactions répertoriées. \n",
        "2. N'afficher que les transactions portant sur des maisons. \n",
        "3. Utiliser l'[API geo](https://api.gouv.fr/documentation/api-geo) pour\n",
        "récupérer le découpage communal de la ville de Plogoff\n",
        "4. Représenter l'histogramme des prix de vente\n",
        "\n",
        "N'hésitez pas à aller plus loin en jouant sur des variables de\n",
        "groupes par exemple\n",
        "\n",
        "\n",
        "```{=html}\n",
        "</div>\n",
        "```\n",
        "\n",
        ":::\n"
      ],
      "id": "865793f3"
    },
    {
      "cell_type": "code",
      "metadata": {},
      "source": [
        "#| eval: false\n",
        "\n",
        "# Question 1\n",
        "import json\n",
        "import requests\n",
        "import pandas as pd\n",
        "data_immo = requests.get(\"http://api.cquest.org/dvf?code_commune=29168\").json()\n",
        "print(data_immo.keys())\n",
        "print(data_immo[\"nb_resultats\"])\n",
        "ventes = pd.json_normalize(data_immo[\"resultats\"])\n",
        "ventes.head()"
      ],
      "id": "6c32b61c",
      "execution_count": null,
      "outputs": []
    },
    {
      "cell_type": "markdown",
      "metadata": {},
      "source": [
        "Le résultat de la question 2 devrait\n",
        "ressembler au `DataFrame` suivant:\n"
      ],
      "id": "b4cd0119"
    },
    {
      "cell_type": "code",
      "metadata": {},
      "source": [
        "#| eval: false\n",
        "\n",
        "# Question 2\n",
        "maisons = requests.get(\"http://api.cquest.org/dvf?code_commune=29168&type_local=Maison\").json()\n",
        "pd.json_normalize(maisons[\"resultats\"])"
      ],
      "id": "1302b9fc",
      "execution_count": null,
      "outputs": []
    },
    {
      "cell_type": "code",
      "metadata": {},
      "source": [
        "#| eval: false\n",
        "\n",
        "# Question 3\n",
        "#!pip install geopandas\n",
        "import geopandas as gpd\n",
        "plgf = gpd.read_file(\"https://geo.api.gouv.fr/communes/29168?fields=nom,code,codesPostaux,codeDepartement,codeRegion,population&format=geojson&geometry=contour\")\n",
        "plgf.head()"
      ],
      "id": "ea9d4ed5",
      "execution_count": null,
      "outputs": []
    },
    {
      "cell_type": "markdown",
      "metadata": {},
      "source": [
        "L'histogramme des prix de vente (question 4) aura l'aspect suivant:\n"
      ],
      "id": "008bef33"
    },
    {
      "cell_type": "code",
      "metadata": {},
      "source": [
        "#| eval: false\n",
        "\n",
        "# Question 4\n",
        "p = ventes[\"valeur_fonciere\"].plot(kind = \"hist\")\n",
        "p"
      ],
      "id": "1c2b0891",
      "execution_count": null,
      "outputs": []
    },
    {
      "cell_type": "markdown",
      "metadata": {},
      "source": [
        "On va faire une carte des ventes en affichant le prix de l'achat.\n",
        "La cartographie réactive sera présentée dans les chapitres\n",
        "consacrés à la visualisation de données.\n",
        "\n",
        "Supposons que le DataFrame des ventes s'appelle `ventes`. Il faut d'abord le\n",
        "convertir\n",
        "en objet `geopandas`. \n"
      ],
      "id": "6f57b10e"
    },
    {
      "cell_type": "code",
      "metadata": {},
      "source": [
        "#| eval: false\n",
        "\n",
        "ventes = ventes.dropna(subset = ['lat','lon'])\n",
        "ventes = gpd.GeoDataFrame(ventes, geometry=gpd.points_from_xy(ventes.lon, ventes.lat))\n",
        "ventes"
      ],
      "id": "2a0047d1",
      "execution_count": null,
      "outputs": []
    },
    {
      "cell_type": "markdown",
      "metadata": {},
      "source": [
        "Avant de faire une carte, on va convertir \n",
        "les limites de la commune de Plogoff en geoJSON pour faciliter \n",
        "sa représentation avec `folium`\n",
        "([voir la doc `geopandas` à ce propos](https://geopandas.readthedocs.io/en/latest/gallery/polygon_plotting_with_folium.html#Add-polygons-to-map)):\n"
      ],
      "id": "4718e6c5"
    },
    {
      "cell_type": "code",
      "metadata": {},
      "source": [
        "#| eval: false\n",
        "geo_j = plgf.to_json()"
      ],
      "id": "9fe6ff30",
      "execution_count": null,
      "outputs": []
    },
    {
      "cell_type": "markdown",
      "metadata": {},
      "source": [
        "Pour représenter graphiquement, on peut utiliser le code suivant (essayez de\n",
        "le comprendre et pas uniquement de l'exécuter). \n"
      ],
      "id": "d11d7a1e"
    },
    {
      "cell_type": "code",
      "metadata": {},
      "source": [
        "#| output: hide\n",
        "#| eval: false\n",
        "import folium\n",
        "import numpy as np\n",
        "\n",
        "ventes['map_color'] = pd.qcut(ventes['valeur_fonciere'], [0,0.8,1], labels = ['lightblue','red'])\n",
        "ventes['icon'] = np.where(ventes['type_local']== 'Maison', \"home\", \"\")\n",
        "ventes['num_voie_clean'] = np.where(ventes['numero_voie'].isnull(), \"\", ventes['numero_voie'])\n",
        "ventes['text'] = ventes.apply(lambda s: \"Adresse: {num} {voie} <br>Vente en {annee} <br>Prix {prix:.0f} €\".format(\n",
        "                        num = s['num_voie_clean'],\n",
        "                        voie = s[\"voie\"],\n",
        "                        annee = s['date_mutation'].split(\"-\")[0],\n",
        "                        prix = s[\"valeur_fonciere\"]),\n",
        "             axis=1)\n",
        "             \n",
        "center = ventes[['lat', 'lon']].mean().values.tolist()\n",
        "sw = ventes[['lat', 'lon']].min().values.tolist()\n",
        "ne = ventes[['lat', 'lon']].max().values.tolist()\n",
        "\n",
        "m = folium.Map(location = center, tiles='Stamen Toner')\n",
        "\n",
        "# I can add marker one by one on the map\n",
        "for i in range(0,len(ventes)):\n",
        "    folium.Marker([ventes.iloc[i]['lat'], ventes.iloc[i]['lon']],\n",
        "                  popup=ventes.iloc[i]['text'],\n",
        "                  icon=folium.Icon(color=ventes.iloc[i]['map_color'], icon=ventes.iloc[i]['icon'])).add_to(m)\n",
        "\n",
        "m.fit_bounds([sw, ne])"
      ],
      "id": "90474675",
      "execution_count": null,
      "outputs": []
    },
    {
      "cell_type": "code",
      "metadata": {},
      "source": [
        "#| echo : true\n",
        "#| eval: false\n",
        "# Afficher la carte\n",
        "m"
      ],
      "id": "e9b891a7",
      "execution_count": null,
      "outputs": []
    },
    {
      "cell_type": "markdown",
      "metadata": {},
      "source": [
        "# Géocoder des données grâce aux API officielles\n",
        "\n",
        "Jusqu'à présent, nous avons travaillés sur des données où la dimension\n",
        "géographique était déjà présente ou relativement facile à intégrer. \n",
        "\n",
        "Ce cas idéal ne se rencontre pas nécessairement dans la pratique. \n",
        "On dispose parfois de localisations plus ou moins précises et plus ou\n",
        "moins bien formattées pour déterminer la localisation de certains\n",
        "lieux. \n",
        "\n",
        "Depuis quelques années, un service officiel de géocodage a été mis en place.\n",
        "Celui-ci est gratuit et permet de manière efficace de coder des adresses\n",
        "à partir d'une API. Cette API, connue sous le nom de la Base d'Adresses Nationale\n",
        "(BAN) a bénéficié de la mise en commun de données de plusieurs\n",
        "acteurs (collectivités locales, Poste) et de compétences d'acteurs\n",
        "comme Etalab. La documentation de celle-ci est disponible à l'adresse\n",
        "https://api.gouv.fr/les-api/base-adresse-nationale\n",
        "\n",
        "\n",
        "Pour illustrer la manière de géocoder des données avec `Python`, nous\n",
        "allons partir de la base\n",
        "[des résultats des auto-écoles à l'examen du permis sur l'année 2018](https://www.data.gouv.fr/fr/datasets/taux-de-reussite-auto-ecole-par-auto-ecole-en-2018/).\n",
        "\n",
        "Ces données nécessitent un petit peu de travail pour être propres à une \n",
        "analyse statistique.\n",
        "Après avoir renommé les colonnes, nous n'allons conserver que\n",
        "les informations relatives au permis B (permis voiture classique) et\n",
        "les auto-écoles ayant présenté au moins 20 personnes à l'examen. \n"
      ],
      "id": "0955724a"
    },
    {
      "cell_type": "code",
      "metadata": {},
      "source": [
        "import pandas as pd\n",
        "import xlrd\n",
        "import geopandas as gpd\n",
        "\n",
        "df = pd.read_excel(\"https://www.data.gouv.fr/fr/datasets/r/d4b6b072-8a7d-4e04-a029-8cdbdbaf36a5\", header = [0,1])\n",
        "\n",
        "index_0 = [\"\" if df.columns[i][0].startswith(\"Unnamed\") else df.columns[i][0] for i in range(len(df.columns))]\n",
        "index_1 = [df.columns[i][1] for i in range(len(df.columns))]\n",
        "keep_index = [True if el in ('', \"B\") else False for el in index_0] \n",
        "\n",
        "cols = [index_0[i] + \" \" + index_1[i].replace(\"+\", \"_\") for i in range(len(df.columns))]\n",
        "df.columns = cols\n",
        "df = df.loc[:, keep_index]\n",
        "df.columns = df.columns.str.replace(\"(^ |°)\", \"\", regex = True).str.replace(\" \", \"_\")\n",
        "df = df.dropna(subset = ['B_NB'])\n",
        "df = df.loc[~df[\"B_NB\"].astype(str).str.contains(\"(\\%|\\.)\"),:]\n",
        "\n",
        "df['B_NB'] = df['B_NB'].astype(int)\n",
        "df['B_TR'] = df['B_TR'].str.replace(\",\", \".\").str.replace(\"%\",\"\").astype(float)\n",
        "\n",
        "df = df.loc[df[\"B_NB\"]>20]"
      ],
      "id": "4f8d7f7b",
      "execution_count": null,
      "outputs": []
    },
    {
      "cell_type": "code",
      "metadata": {},
      "source": [
        "#| output: asis\n",
        "moyenne_nationale = (df['B_NB']*df['B_TR']).sum()/df['B_NB'].sum()\n",
        "print(\"Sur cet échantillon, le taux de réussite moyen était, en 2018, de {:.2%}\".format(moyenne_nationale/100))"
      ],
      "id": "f2f4049d",
      "execution_count": null,
      "outputs": []
    },
    {
      "cell_type": "markdown",
      "metadata": {},
      "source": [
        "Nos informations géographiques prennent la forme suivante: \n"
      ],
      "id": "de35ac68"
    },
    {
      "cell_type": "code",
      "metadata": {},
      "source": [
        "df.loc[:,['Adresse','CP','Ville']].head(5)"
      ],
      "id": "2768d696",
      "execution_count": null,
      "outputs": []
    },
    {
      "cell_type": "markdown",
      "metadata": {},
      "source": [
        "Autrement dit, nous disposons d'une adresse, d'un code postal et d'un nom\n",
        "de ville. Ces informations peuvent servir à faire une recherche\n",
        "sur la localisation d'une auto-école. \n",
        "\n",
        "## Utiliser l'API BAN\n",
        "\n",
        "La [documentation officielle de l'API](https://adresse.data.gouv.fr/api-doc/adresse)\n",
        "propose un certain nombre d'exemples de manière de géolocaliser des données. \n",
        "Dans notre situation, deux points d'entrée paraissent intéressants:\n",
        "\n",
        "* L'API `/search/` qui représente un point d'entrée avec des URL de la forme\n",
        "https://api-adresse.data.gouv.fr/search/?q=\\<adresse\\>&postcode=\\<codepostal\\>&limit=1\n",
        "* L'API `/search/csv` qui prend un CSV en entrée et retourne ce même CSV avec\n",
        "les observations géocodées. La requête prend la forme suivante, en apparence\n",
        "moins simple à mettre en oeuvre : \n",
        "`curl -X POST -F data=@search.csv -F columns=adresse -F columns=postcode https://api-adresse.data.gouv.fr/search/csv/`\n",
        "\n",
        "La tentation serait forte d'utiliser la première méthode avec une boucle sur les\n",
        "lignes de notre DataFrame pour géocoder l'ensemble de notre jeu de données. \n",
        "Cela serait néanmoins une mauvaise idée car les communications entre notre\n",
        "session Python et les serveurs de l'API seraient beaucoup trop nombreuses\n",
        "pour offrir des performances satisfaisantes. \n",
        "\n",
        "Pour vous en convaincre, vous pouvez exécuter le code suivant sur un petit\n",
        "échantillon de données (par exemple 100 comme ici) et remarquer que le temps\n",
        "d'exécution est assez important\n"
      ],
      "id": "596dc1f7"
    },
    {
      "cell_type": "code",
      "metadata": {},
      "source": [
        "#| eval: false\n",
        "import time\n",
        "\n",
        "dfgeoloc = df.loc[:, ['Adresse','CP','Ville']].apply(lambda s: s.str.lower().str.replace(\",\",\" \"))\n",
        "dfgeoloc['url'] = (dfgeoloc['Adresse'] + \"+\" + dfgeoloc['Ville'].str.replace(\"-\",'+')).str.replace(\" \",\"+\")\n",
        "dfgeoloc['url'] = 'https://api-adresse.data.gouv.fr/search/?q=' + dfgeoloc['url'] + \"&postcode=\" + df['CP'] + \"&limit=1\"\n",
        "dfgeoloc = dfgeoloc.dropna()\n",
        "\n",
        "start_time = time.time()\n",
        "\n",
        "def get_geoloc(i):\n",
        "    print(i)\n",
        "    return gpd.GeoDataFrame.from_features(requests.get(dfgeoloc['url'].iloc[i]).json()['features'])\n",
        "\n",
        "local = [get_geoloc(i) for i in range(len(dfgeoloc.head(10)))]\n",
        "print(\"--- %s seconds ---\" % (time.time() - start_time))"
      ],
      "id": "de069431",
      "execution_count": null,
      "outputs": []
    },
    {
      "cell_type": "markdown",
      "metadata": {},
      "source": [
        "Comme l'indique la documentation, si on désire industrialiser notre processus\n",
        "de géocodage, on va privilégier l'API CSV.\n",
        "\n",
        "Pour obtenir une requête CURL cohérente avec le format désiré par l'API\n",
        "on va à nouveau utiliser `requests` mais cette fois avec des paramètres\n",
        "supplémentaires:\n",
        "\n",
        "* `data` va nous permettre de passer des paramètres à CURL (équivalents aux `-F`\n",
        "de la requête CURL):\n",
        "    + `columns`: Les colonnes utilisées pour localiser une donnée. En l'occurrence,\n",
        "on utilise l'adresse et la ville (car les codes postaux n'étant pas uniques, \n",
        "un même nom de voirie peut se trouver dans plusieurs villes partageant le même\n",
        "code postal)\n",
        "    + `postcode`: Le code postal de la ville. Idéalement nous aurions utilisé\n",
        "le code Insee mais nous ne l'avons pas dans nos données. \n",
        "    + `result_columns`: on restreint les données échangées avec l'API aux \n",
        "colonnes qui nous intéressent. Cela permet d'accélérer les processus (on\n",
        "échange moins de données) et de réduire l'impact carbone de notre activité\n",
        "(moins de transferts = moins d'énergie dépensée). En l'occurrence, on ne ressort\n",
        "que les données géolocalisées et un score de confiance en la géolocalisation.\n",
        "* `files`: permet d'envoyer un fichier via CURL\n",
        "\n",
        "Les données sont récupérées avec `request.post`. Comme il s'agit d'une\n",
        "chaîne de caractère, nous pouvons directement la lire avec `pandas` en \n",
        "utilisant `io.StringIO` pour éviter d'écrire des données intermédiaires.\n",
        "\n",
        "Le nombre d'échos semblant être limité, je propose de procéder par morceaux\n",
        "(ici je découpe mon jeu de données en 5 morceaux).\n"
      ],
      "id": "2c88860f"
    },
    {
      "cell_type": "code",
      "metadata": {},
      "source": [
        "import requests\n",
        "import io   \n",
        "import numpy as np\n",
        "import time\n",
        "\n",
        "params = {\n",
        "    'columns': ['Adresse', 'Ville'],\n",
        "    'postcode': 'CP',\n",
        "    'result_columns': ['result_score', 'latitude', 'longitude'],\n",
        "}\n",
        "\n",
        "df[['Adresse','CP','Ville']] = df.loc[:, ['Adresse','CP','Ville']].apply(lambda s: s.str.lower().str.replace(\",\",\" \"))\n",
        "\n",
        "def geoloc_chunk(x):\n",
        "    dfgeoloc = x.loc[:, ['Adresse','CP','Ville']]\n",
        "    dfgeoloc.to_csv(\"datageocodage.csv\", index=False)\n",
        "    response = requests.post('https://api-adresse.data.gouv.fr/search/csv/', data=params, files={'data': ('datageocodage.csv', open('datageocodage.csv', 'rb'))})\n",
        "    geoloc = pd.read_csv(io.StringIO(response.text), dtype = {'CP': 'str'})\n",
        "    return geoloc\n",
        "    \n",
        "start_time = time.time()\n",
        "geodata = [geoloc_chunk(dd) for dd in np.array_split(df, 10)]\n",
        "print(\"--- %s seconds ---\" % (time.time() - start_time))"
      ],
      "id": "88f90faf",
      "execution_count": null,
      "outputs": []
    },
    {
      "cell_type": "markdown",
      "metadata": {},
      "source": [
        "Cette méthode est beaucoup plus rapide et permet ainsi, une fois retourné à nos\n",
        "données initiales, d'avoir un jeu de données géolocalisé\n"
      ],
      "id": "65e7c101"
    },
    {
      "cell_type": "code",
      "metadata": {},
      "source": [
        "geodata = pd.concat(geodata, ignore_index = True)\n",
        "df_xy = df.merge(geodata, on = ['Adresse','CP','Ville'])\n",
        "df_xy = df_xy.dropna(subset = ['latitude','longitude'])\n",
        "df_xy['text'] = df_xy['Raison_Sociale'] + '<br>' + df_xy['Adresse'] + '<br>' + df_xy['Ville'] + '<br>Nombre de candidats:' + df_xy['B_NB'].astype(str)\n",
        "\n",
        "df_xy.filter(['Raison_Sociale','Adresse','CP','Ville','latitude','longitude'], axis = \"columns\").sample(10)"
      ],
      "id": "5d476477",
      "execution_count": null,
      "outputs": []
    },
    {
      "cell_type": "markdown",
      "metadata": {},
      "source": [
        "Il ne reste plus qu'à utiliser `geopandas`\n",
        "et nous serons en mesure de faire une carte des localisations des auto-écoles :\n"
      ],
      "id": "fc226750"
    },
    {
      "cell_type": "code",
      "metadata": {},
      "source": [
        "import geopandas as gpd\n",
        "dfgeo = gpd.GeoDataFrame(df_xy, geometry=gpd.points_from_xy(df_xy.longitude, df_xy.latitude))"
      ],
      "id": "4c19a5dc",
      "execution_count": null,
      "outputs": []
    },
    {
      "cell_type": "markdown",
      "metadata": {},
      "source": [
        "Nous allons représenter les stations dans l'Essonne avec un zoom initialement\n",
        "sur les villes de Massy et Palaiseau. Le code est le suivant:\n"
      ],
      "id": "aa1c9fc9"
    },
    {
      "cell_type": "code",
      "metadata": {},
      "source": [
        "#| output: hide\n",
        "import folium\n",
        "\n",
        "# Représenter toutes les autoécoles de l'Essonne\n",
        "df_91 = df_xy.loc[df_xy[\"Dept\"] == \"091\"]\n",
        "\n",
        "# Centrer la vue initiale sur Massy-Palaiseau\n",
        "df_pal = df_xy.loc[df_xy['Ville'].isin([\"massy\", \"palaiseau\"])]\n",
        "center = df_pal[['latitude', 'longitude']].mean().values.tolist()\n",
        "sw = df_pal[['latitude', 'longitude']].min().values.tolist()\n",
        "ne = df_pal[['latitude', 'longitude']].max().values.tolist()\n",
        "\n",
        "m = folium.Map(location = center, tiles='Stamen Toner')\n",
        "\n",
        "# I can add marker one by one on the map\n",
        "for i in range(0,len(df_91)):\n",
        "    folium.Marker([df_91.iloc[i]['latitude'], df_91.iloc[i]['longitude']],\n",
        "                  popup=df_91.iloc[i]['text'],\n",
        "                  icon=folium.Icon(icon='car', prefix='fa')).add_to(m)\n",
        "\n",
        "m.fit_bounds([sw, ne])"
      ],
      "id": "bf80a32c",
      "execution_count": null,
      "outputs": []
    },
    {
      "cell_type": "markdown",
      "metadata": {},
      "source": [
        "Ce qui permet d'obtenir la carte:\n"
      ],
      "id": "da8c04ad"
    },
    {
      "cell_type": "code",
      "metadata": {},
      "source": [
        "#| echo : true\n",
        "#| eval: false\n",
        "# Afficher la carte\n",
        "m"
      ],
      "id": "eef5a1d8",
      "execution_count": null,
      "outputs": []
    },
    {
      "cell_type": "markdown",
      "metadata": {},
      "source": [
        "Vous pouvez aller plus loin avec l'exercice suivant.\n",
        "Celui-ci nécessite une fonction pour créer un cercle autour d'un point (source [ici](https://gis.stackexchange.com/questions/289044/creating-buffer-circle-x-kilometers-from-point-using-python/289923)),\n",
        "la voici:\n"
      ],
      "id": "546e3d3f"
    },
    {
      "cell_type": "code",
      "metadata": {},
      "source": [
        "from functools import partial\n",
        "import pyproj\n",
        "from shapely.ops import transform\n",
        "from shapely.geometry import Point\n",
        "\n",
        "proj_wgs84 = pyproj.Proj('+proj=longlat +datum=WGS84')\n",
        "\n",
        "\n",
        "def geodesic_point_buffer(lat, lon, km):\n",
        "    # Azimuthal equidistant projection\n",
        "    aeqd_proj = '+proj=aeqd +lat_0={lat} +lon_0={lon} +x_0=0 +y_0=0'\n",
        "    project = partial(\n",
        "        pyproj.transform,\n",
        "        pyproj.Proj(aeqd_proj.format(lat=lat, lon=lon)),\n",
        "        proj_wgs84)\n",
        "    buf = Point(0, 0).buffer(km * 1000)  # distance in metres\n",
        "    return transform(project, buf).exterior.coords[:]"
      ],
      "id": "a9b071a0",
      "execution_count": null,
      "outputs": []
    },
    {
      "cell_type": "markdown",
      "metadata": {},
      "source": [
        "::: {.cell .markdown}\n",
        "\n",
        "```{=html}\n",
        "<div class=\"alert alert-success\" role=\"alert\" style=\"color: rgba(0,0,0,.8); background-color: white; margin-top: 1em; margin-bottom: 1em; margin:1.5625emauto; padding:0 .6rem .8rem!important;overflow:hidden; page-break-inside:avoid; border-radius:.25rem; box-shadow:0 .2rem .5rem rgba(0,0,0,.05),0 0 .05rem rgba(0,0,0,.1); transition:color .25s,background-color .25s,border-color .25s ; border-right: 1px solid #dee2e6 ; border-top: 1px solid #dee2e6 ; border-bottom: 1px solid #dee2e6 ; border-left:.2rem solid #3fb618;\">\n",
        "<h3 class=\"alert-heading\"><i class=\"fa fa-pencil\"></i> Exercice 2 : Quelles sont les auto-écoles les plus proches de chez moi ?</h3>\n",
        "```\n",
        "\n",
        "\n",
        "On va supposer que vous cherchez, dans un rayon donné autour d'un centre ville,\n",
        "les auto-écoles disponibles.\n",
        "\n",
        "1. Pour commencer, utiliser l'[API geo](https://geo.api.gouv.fr/decoupage-administratif)\n",
        "pour la ville de Palaiseau\n",
        "2. Appliquer la fonction `geodesic_point_buffer` au centre ville de Palaiseau\n",
        "3. Ne conserver que les auto-écoles dans ce cercle et les ordonner \n",
        "\n",
        "__Si vous avez la réponse à la question 3, n'hésitez pas à la soumettre sur `Github` afin que je complète la correction__ :wink: !\n",
        "\n",
        "\n",
        "```{=html}\n",
        "</div>\n",
        "```\n",
        "\n",
        ":::\n"
      ],
      "id": "9fb7c75e"
    },
    {
      "cell_type": "code",
      "metadata": {},
      "source": [
        "# Cette fois on veut bien le centre, pas le contour\n",
        "pal = gpd.read_file(\"https://geo.api.gouv.fr/communes?nom=Palaiseau&format=geojson\")"
      ],
      "id": "b0652b89",
      "execution_count": null,
      "outputs": []
    },
    {
      "cell_type": "code",
      "metadata": {},
      "source": [
        "b = geodesic_point_buffer(pal.loc[0].geometry.y, pal.loc[0].geometry.x, 10.0)\n",
        "circle = pd.DataFrame(b, columns = ['y','x'])\n",
        "circle = gpd.GeoDataFrame(circle, geometry=gpd.points_from_xy(circle.y, circle.x), crs = pal.crs)"
      ],
      "id": "115adefe",
      "execution_count": null,
      "outputs": []
    },
    {
      "cell_type": "markdown",
      "metadata": {},
      "source": [
        "Pour se convaincre, de notre cercle constitué lors de\n",
        "la question 2, on peut représenter une carte.\n",
        "On a bien un cercle centré autour de Palaiseau:\n"
      ],
      "id": "670b743e"
    },
    {
      "cell_type": "code",
      "metadata": {},
      "source": [
        "import matplotlib.pyplot as plt\n",
        "import contextily as ctx\n",
        "\n",
        "fig,ax = plt.subplots(figsize=(10, 10))\n",
        "circle.to_crs(\"EPSG:3857\").plot(ax = ax, color = 'red')\n",
        "pal.to_crs(\"EPSG:3857\").plot(ax = ax, color = 'green')\n",
        "ctx.add_basemap(ax, source = ctx.providers.Stamen.Toner)\n",
        "ax"
      ],
      "id": "12adcb4d",
      "execution_count": null,
      "outputs": []
    },
    {
      "cell_type": "code",
      "metadata": {},
      "source": [
        "plt.tight_layout(pad=0, h_pad = 0)\n",
        "plt.savefig('map_buffer.png', bbox_inches='tight')"
      ],
      "id": "fcd712cf",
      "execution_count": null,
      "outputs": []
    },
    {
      "cell_type": "markdown",
      "metadata": {},
      "source": [
        "# Exercices supplémentaires\n",
        "\n",
        "Pour vous aidez, vous pouvez regarder une exemple de structure du json ici : https://world.openfoodfacts.org/api/v0/product/3274080005003.json en particulier la catégorie `nutriments`.\n",
        "\n",
        "\n",
        "::: {.cell .markdown}\n",
        "\n",
        "```{=html}\n",
        "<div class=\"alert alert-success\" role=\"alert\" style=\"color: rgba(0,0,0,.8); background-color: white; margin-top: 1em; margin-bottom: 1em; margin:1.5625emauto; padding:0 .6rem .8rem!important;overflow:hidden; page-break-inside:avoid; border-radius:.25rem; box-shadow:0 .2rem .5rem rgba(0,0,0,.05),0 0 .05rem rgba(0,0,0,.1); transition:color .25s,background-color .25s,border-color .25s ; border-right: 1px solid #dee2e6 ; border-top: 1px solid #dee2e6 ; border-bottom: 1px solid #dee2e6 ; border-left:.2rem solid #3fb618;\">\n",
        "<h3 class=\"alert-heading\"><i class=\"fa fa-pencil\"></i> Exercice 3 : Retrouver des produits dans l'openfood facts :pizza:</h3>\n",
        "```\n",
        "\n",
        "\n",
        "Voici une liste de code-barres:\n",
        "`3274080005003,  5449000000996, 8002270014901,\n",
        "3228857000906, 3017620421006, 8712100325953`\n",
        "\n",
        "Utiliser l'[API d'openfoodfacts](https://world.openfoodfacts.org/data)\n",
        "(l'API, pas depuis le CSV !)\n",
        "pour retrouver les produits correspondant\n",
        "et leurs caractéristiques nutritionnelles.\n",
        "\n",
        "Le panier paraît-il équilibré ? :chocolate_bar:\n",
        "\n",
        "Récupérer l'URL d'une des images et l'afficher dans votre navigateur.\n",
        "\n",
        "\n",
        "```{=html}\n",
        "</div>\n",
        "```\n",
        "\n",
        ":::\n"
      ],
      "id": "e3b135bf"
    },
    {
      "cell_type": "code",
      "metadata": {},
      "source": [
        "import json\n",
        "import requests\n",
        "import pandas as pd"
      ],
      "id": "dafdb26a",
      "execution_count": null,
      "outputs": []
    },
    {
      "cell_type": "code",
      "metadata": {},
      "source": [
        "# Paramètres nécessaires\n",
        "df = pd.DataFrame([3274080005003,  5449000000996, 8002270014901,\n",
        "3228857000906, 3017620421006, 8712100325953], columns = ['code_ean'])\n",
        "nutri = ['energy_100g', 'nutriscore_grade', 'nova_group', 'fat_100g', 'saturated-fat_100g', 'carbohydrates_100g', 'sugars_100g', 'salt_100g', 'fiber_100g', 'proteins_100g', 'calcium_100g', 'iron_100g', 'sodium_100g', 'cholesterol_100g']\n",
        "cols_api = ['code', 'product_name', 'categories', 'categories_tags'] + [\"nutriments.{}\".format(i) for i in nutri]"
      ],
      "id": "9737d5f4",
      "execution_count": null,
      "outputs": []
    },
    {
      "cell_type": "code",
      "metadata": {},
      "source": [
        "def get_products_api(barcode, col = cols_api):\n",
        "    url = \"https://world.openfoodfacts.org/api/v0/product/{}.json\".format(str(barcode))\n",
        "    #print(url)\n",
        "    res = requests.get(url)\n",
        "    results = res.json()\n",
        "    product = results[\"product\"]\n",
        "    openfood = pd.json_normalize(product)\n",
        "    openfood = openfood[list(set(col) & set(openfood.columns))]\n",
        "    return openfood\n",
        "  \n",
        "# Exemple\n",
        "get_products_api(3274080005003, col=[\"code\",\"nutriments.fat_100g\"])"
      ],
      "id": "3c1fafbf",
      "execution_count": null,
      "outputs": []
    },
    {
      "cell_type": "code",
      "metadata": {},
      "source": [
        "openfood = [get_products_api(barcode) for barcode in df['code_ean'].dropna().astype(str).unique()]\n",
        "openfood = pd.concat(openfood)\n",
        "openfood.head(10)"
      ],
      "id": "a60e3e42",
      "execution_count": null,
      "outputs": []
    },
    {
      "cell_type": "markdown",
      "metadata": {},
      "source": [
        "Voici par exemple la photo du produit ayant le code-barre `5449000000996`. Vous le reconnaissez ?\n"
      ],
      "id": "eaf91b42"
    },
    {
      "cell_type": "code",
      "metadata": {},
      "source": [
        "url_image = get_products_api(5449000000996, col = [\"image_front_small_url\"])[\"image_front_small_url\"].iloc[0]"
      ],
      "id": "4b2c5900",
      "execution_count": null,
      "outputs": []
    },
    {
      "cell_type": "code",
      "metadata": {},
      "source": [
        "#| output: asis\n",
        "print(\"![]({url})\".format(url = url_image))"
      ],
      "id": "4839730c",
      "execution_count": null,
      "outputs": []
    },
    {
      "cell_type": "markdown",
      "metadata": {},
      "source": [
        "## Exemple avec l'API de la Banque Mondiale\n",
        "\n",
        "Avec l'API de la Banque mondiale, voici comme s'écrit une requête : \n",
        "\n",
        "> http://api.worldbank.org/v2/countries?incomeLevel=LMC\n",
        "\n",
        "1. Le point d'entrée est l'URL <http://api.worldbank.org/v2><a name=\"cite_ref-3\"></a>[<sup>[3]</sup>](#cite_note-3)\n",
        "2. Un filtre est appliqué sur les pays (`countries?`) afin de ne conserver\n",
        "que celles telles que `incomeLevel=LMC` (*\"Lower middle income\"*)\n",
        "\n",
        "\n",
        "```{=html}\n",
        "<a name=\"cite_note-3\"></a>3. [^](#cite_ref-3)\n",
        "```\n",
        "\n",
        " Cette API utilise un protocole HTTP qui est de moins en moins utilisé. Il\n",
        "est recommandé de privilégier les protocoles HTTPS, plus sécurisés. \n",
        "\n",
        "En cliquant sur le lien, le site renvoie des données en XML,\n",
        "qui ressemblent pas mal à ce qu'on a vu plus tôt avec le scraping : une structure avec des balises qui s'ouvrent et qui se ferment.\n",
        "\n",
        "\n",
        "Pour obtenir la même information en `Python`, il faut revenir aux fondamentaux : on va avoir besoin du module `requests`. Suivant les API, nous avons soit besoin de rien de plus si nous parvenons directement à obtenir un json, soit devoir utiliser un *parser* comme `BeautifulSoup` dans le cas contraire. \n",
        "\n",
        "Avec l'API de la banque mondiale, on va utiliser le module `requests` et sa méthode `get` : on lui donne l'url de l'API qui nous intéresse, on lui demande d'en faire un json et le tour est *en apparence* joué.\n"
      ],
      "id": "017e3e0d"
    },
    {
      "cell_type": "code",
      "metadata": {},
      "source": [
        "import requests\n",
        "req = requests.get('http://api.worldbank.org/v2/countries?incomeLevel=LMC')"
      ],
      "id": "71d1682d",
      "execution_count": null,
      "outputs": []
    },
    {
      "cell_type": "markdown",
      "metadata": {},
      "source": [
        "Quand on regarde de plus près, on voit que les informations suivantes apparaissent : \n",
        " \n",
        "* Code du pays\n",
        "* Nom du pays\n",
        "* Région\n",
        "* Classification en termes de revenus\n",
        "* Les types de prêt pour ces pays\n",
        "* La capitale\n",
        "* Longitude\n",
        "* Latitude\n",
        "\n",
        "Le format XML est fortement balisé, ce qui n'est pas très pratique. \n",
        "En utilisant désormais un autre URL, on obtient un JSON, plus pratique pour travailler : \n",
        "\n",
        "> http://api.worldbank.org/v2/countries?incomeLevel=LMC&format=json\n"
      ],
      "id": "37f026d8"
    },
    {
      "cell_type": "code",
      "metadata": {},
      "source": [
        "import requests\n",
        "import pandas as pd\n",
        "\n",
        "req = requests.get('http://api.worldbank.org/v2/countries?incomeLevel=LMC&format=json')\n",
        "wb = req.json()\n",
        "wb = pd.json_normalize(wb[1])\n",
        "wb.head(5)"
      ],
      "id": "175b54b5",
      "execution_count": null,
      "outputs": []
    },
    {
      "cell_type": "markdown",
      "metadata": {},
      "source": [
        "Cependant, si on regarde la dimension de l'objet obtenu, on obtient un\n",
        "chiffre rond (50 lignes). Ceci est suspect et un petit tour dans la\n",
        "documentation de l'API nous apprendrait que c'est le nombre maximal de \n",
        "retour possible. Il faut donc faire attention à la documentation et \n",
        "ajouter un paramètre `page=2` pour rattraper les derniers échos: \n"
      ],
      "id": "2c5db36e"
    },
    {
      "cell_type": "code",
      "metadata": {},
      "source": [
        "wb2 = pd.json_normalize(\n",
        "    requests.get(\"http://api.worldbank.org/v2/countries?incomeLevel=LMC&format=json&page=2\").json()[1]\n",
        "    )\n",
        "pd.concat([wb, wb2]).head(5)"
      ],
      "id": "e3dfaed0",
      "execution_count": null,
      "outputs": []
    },
    {
      "cell_type": "markdown",
      "metadata": {},
      "source": [
        "Si on regarde l'information présente dans le DataFrame, on voit qu'elle se\n",
        "présente sous forme `lendingType.value`. C'est parce que `pandas` a \n",
        "concaténé les différents niveaux de notre dictionnaire. Si on désire\n",
        "s'en assurer, on peut regarder sur un exemple:\n"
      ],
      "id": "141add3e"
    },
    {
      "cell_type": "code",
      "metadata": {},
      "source": [
        "req.json()[1][0]['incomeLevel']['value'] == wb.loc[0, 'incomeLevel.value'] "
      ],
      "id": "07de40f9",
      "execution_count": null,
      "outputs": []
    }
  ],
  "metadata": {
    "kernelspec": {
      "name": "python3",
      "language": "python",
      "display_name": "Python 3 (ipykernel)"
    }
  },
  "nbformat": 4,
  "nbformat_minor": 5
}