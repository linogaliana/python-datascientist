{
  "cells": [
    {
      "cell_type": "raw",
      "metadata": {},
      "source": [
        "---\n",
        "title: \"Exercices supplémentaires de webscraping\"\n",
        "date: 2021-07-09T13:00:00Z\n",
        "draft: false\n",
        "weight: 80\n",
        "slug: webscraping-exercices\n",
        "tags:\n",
        "  - webscraping\n",
        "  - regex\n",
        "  - BeautifulSoup\n",
        "  - Selenium\n",
        "  - Exercice\n",
        "categories:\n",
        "  - Exercice\n",
        "  - Manipulation\n",
        "type: book\n",
        "summary: |\n",
        "  Un exercice supplémentaire de _webscraping_,\n",
        "  où l'on construit de manière automatique sa liste de courses à partir des données\n",
        "  de [`Marmiton`](https://www.marmiton.org/).\n",
        "eval: false\n",
        "image: featured.png\n",
        "---"
      ],
      "id": "a261c85a"
    },
    {
      "cell_type": "markdown",
      "metadata": {},
      "source": [
        "::: {.cell .markdown}"
      ],
      "id": "145713d5"
    },
    {
      "cell_type": "code",
      "metadata": {},
      "source": [
        "#| output: 'asis'\n",
        "#| include: true\n",
        "#| eval: true\n",
        "\n",
        "import sys\n",
        "sys.path.insert(1, '../../../../') #insert the utils module\n",
        "from utils import print_badges\n",
        "\n",
        "#print_badges(__file__)\n",
        "print_badges(\"content/course/manipulation/06a_exo_supp_webscraping.qmd\")"
      ],
      "id": "20b87be0",
      "execution_count": null,
      "outputs": []
    },
    {
      "cell_type": "markdown",
      "metadata": {},
      "source": [
        ":::\n",
        "\n",
        "Cette page présente une série d'exercices de webscraping. Ils permettent \n",
        "d'aller plus loin que le [chapitre dédié](#webscraping)\n",
        "\n",
        "## Construction automatisée d'une liste de courses via webscraping :spaghetti: :pizza: :strawberry:\n",
        "\n",
        "Les comptes sont dans le rouge, le banquier appelle tous les jours.\n",
        "Plus le choix : fini les commandes de plats tout faits via des plateformes bien connues,\n",
        "il va falloir se faire des bons petits plats soi-même.\n",
        "Mais la cuisine à l'ancienne, c'est long : il faut trouver le bon livre de cuisine,\n",
        "la bonne recette, faire des règles de trois pour calculer les bonnes proportions, etc.\n",
        "Et après ça, faire une liste de courses...\n",
        "\n",
        "Heureusement, [Marmiton](https://www.marmiton.org/) est là pour nous.\n",
        "Dans ce TP, on va construire un outil Python qui permet d'exporter directement une liste de courses,\n",
        "en fonctions des plats que l'on a envie de manger cette semaine. Et tout ça en *webscrapant* les données de Marmiton. Plus d'excuse !\n",
        "\n",
        "Pour cet exercice, on va utiliser principalement trois librairies très utilisées en webscraping :\n",
        "\n",
        "* `requests` & `BeautifulSoup` pour scraper des pages statiques ;\n",
        "* `selenium` lorsque l'on aura besoin d'interagir avec les éléments scriptés des pages web.\n",
        "\n",
        "Pour pouvoir utiliser `selenium`, il est nécessaire d'avoir installé le *chromedriver* ([instructions](LIEN A AJOUTER)),\n",
        "ou bien le driver adapté si vous utilisez un autre navigateur que Google Chrome.\n",
        "\n",
        "1. Analyser comment fonctionne la recherche d'une recette sur Marmiton (structure de l'URL) et coder un outil\n",
        "permettant de récupérer (à l'aide de `requests`) le code html des résultats de la recherche pour une recette donnée.\n",
        "Formatter ce code en un arbre lxml à l'aide de `BeautifulSoup`.\n"
      ],
      "id": "24785d34"
    },
    {
      "cell_type": "code",
      "metadata": {},
      "source": [
        "import requests\n",
        "from bs4 import BeautifulSoup"
      ],
      "id": "177241f6",
      "execution_count": null,
      "outputs": []
    },
    {
      "cell_type": "code",
      "metadata": {},
      "source": [
        "PLAT = \"pates carbonara\"\n",
        "BASE_URL = \"https://www.marmiton.org\"\n",
        "URL_SEARCH = BASE_URL + \"/recettes/recherche.aspx?aqt=\" + PLAT"
      ],
      "id": "00a53ac0",
      "execution_count": null,
      "outputs": []
    },
    {
      "cell_type": "markdown",
      "metadata": {},
      "source": [
        "Vous pouvez vérifier que `python` récupère bien un résultat à l'URL voulu en tapant \n"
      ],
      "id": "b9df391b"
    },
    {
      "cell_type": "code",
      "metadata": {},
      "source": [
        "requests.get(URL_SEARCH).status_code"
      ],
      "id": "8ff26b97",
      "execution_count": null,
      "outputs": []
    },
    {
      "cell_type": "markdown",
      "metadata": {},
      "source": [
        "Si le code retour est 200, il y a bien du contenu accessible sur la page. \n",
        "\n",
        "::: {.cell .markdown}\n",
        "\n",
        "```{=html}\n",
        "<div class=\"alert alert-info\" role=\"alert\" style=\"color: rgba(0,0,0,.8); background-color: white; margin-top: 1em; margin-bottom: 1em; margin:1.5625emauto; padding:0 .6rem .8rem!important;overflow:hidden; page-break-inside:avoid; border-radius:.25rem; box-shadow:0 .2rem .5rem rgba(0,0,0,.05),0 0 .05rem rgba(0,0,0,.1); transition:color .25s,background-color .25s,border-color .25s ; border-right: 1px solid #dee2e6 ; border-top: 1px solid #dee2e6 ; border-bottom: 1px solid #dee2e6 ; border-left:.2rem solid #007bff80;\">\n",
        "```\n",
        "\n",
        "L'utilisation de l'option *\"lxml\"* avec `BeautifulSoup` nécessite d'avoir\n",
        "installé avant cela la librairie `lxml`.\n",
        "\n",
        "```{=html}\n",
        "</div>\n",
        "```\n",
        "\n",
        ":::\n"
      ],
      "id": "9c3842bb"
    },
    {
      "cell_type": "code",
      "metadata": {},
      "source": [
        "response = requests.get(URL_SEARCH).text\n",
        "soup = BeautifulSoup(response, \"lxml\")"
      ],
      "id": "734b148a",
      "execution_count": null,
      "outputs": []
    },
    {
      "cell_type": "markdown",
      "metadata": {},
      "source": [
        "2. Afficher le code source html de la page des résultats de la recherche à l'aide de votre navigateur (click droit sur la page => Inspecter),\n",
        "analyser la structure de l'arbre,\n",
        "et récupérer le code html de chacune des recettes.\n",
        "A l'aide d'une boucle, récupérer pour chaque recette sa note moyenne et le nombre de fois où elle a été notée.\n"
      ],
      "id": "a4caf8bd"
    },
    {
      "cell_type": "code",
      "metadata": {},
      "source": [
        "import re\n",
        "import numpy as np"
      ],
      "id": "a373c794",
      "execution_count": null,
      "outputs": []
    },
    {
      "cell_type": "code",
      "metadata": {},
      "source": [
        "found_recipes = soup.find_all(name=\"a\", class_=re.compile(\"^SearchResultsstyle__SearchCardResult\"))\n",
        "\n",
        "all_ratings = []\n",
        "all_nb_ratings = []\n",
        "for recipe in found_recipes:\n",
        "    try:\n",
        "        ratings_info = recipe.find(name=\"div\", class_=re.compile(\"^RecipeCardResultstyle__RatingLayout\")).text\n",
        "    except AttributeError:\n",
        "        continue\n",
        "    matches = re.search(r\"([\\d\\.]+)/5\\(([\\d]+) avis\\)\", ratings_info, re.IGNORECASE)\n",
        "    rating = matches.group(1)\n",
        "    nb_ratings = matches.group(2)\n",
        "    all_ratings.append(float(rating))\n",
        "    all_nb_ratings.append(int(nb_ratings))"
      ],
      "id": "2d5beccc",
      "execution_count": null,
      "outputs": []
    },
    {
      "cell_type": "markdown",
      "metadata": {},
      "source": [
        "3. Sur Marmiton, on peut tomber sur de mauvaises surprises.\n",
        "Pour éviter ça, restreindre les recettes à celles qui ont une note moyenne >= 4 et un nombre de notes >= 50.\n",
        "Choisir la recette la mieux notée au sein de cette liste de candidates, et récupérer son URL.\n"
      ],
      "id": "fab12e4a"
    },
    {
      "cell_type": "code",
      "metadata": {},
      "source": [
        "MIN_RATING = 4\n",
        "MIN_NB_RATINGS = 50\n",
        "\n",
        "idxs_eligible = [i for i, x in enumerate(found_recipes)\n",
        "                 if all_ratings[i] > MIN_RATING and all_nb_ratings[i] >= MIN_NB_RATINGS]\n",
        "idx_chosen = np.argmax(np.array(all_ratings)[idxs_eligible])\n",
        "href_chosen = found_recipes[idx_chosen].get(\"href\")\n",
        "\n",
        "if href_chosen is not None:\n",
        "    url_chosen_recipe = BASE_URL + href_chosen\n",
        "else:\n",
        "    raise ValueError(\"Aucune recette n'a été trouvée pour les critères demandés.\")"
      ],
      "id": "2845370e",
      "execution_count": null,
      "outputs": []
    },
    {
      "cell_type": "markdown",
      "metadata": {},
      "source": [
        "4. Récupérer une photo de la recette et l'afficher dans le Notebook.\n"
      ],
      "id": "fcde972d"
    },
    {
      "cell_type": "code",
      "metadata": {},
      "source": [
        "list_imgs = found_recipes[idx_chosen].find(name=\"source\", type=\"image/jpeg\").get(\"srcset\")\n",
        "url_img_big = re.split(\"\\s\\d+w,?\\s?\", list_imgs)[-2]"
      ],
      "id": "65d19dc9",
      "execution_count": null,
      "outputs": []
    },
    {
      "cell_type": "code",
      "metadata": {},
      "source": [
        "#| eval: false\n",
        "# Dans un notebook\n",
        "from IPython.display import Image\n",
        "Image(url_img_big, width=400, height=400)"
      ],
      "id": "85537d15",
      "execution_count": null,
      "outputs": []
    },
    {
      "cell_type": "markdown",
      "metadata": {},
      "source": [
        "Nous avons choisi cette recette, un classique ! :spaghetti:\n"
      ],
      "id": "8c44f37a"
    },
    {
      "cell_type": "code",
      "metadata": {},
      "source": [
        "url_img_big"
      ],
      "id": "b56d813a",
      "execution_count": null,
      "outputs": []
    },
    {
      "cell_type": "markdown",
      "metadata": {},
      "source": [
        "Convaincu ?\n",
        "Sinon, ne pas hésiter à changer de recette au début,\n",
        "on ne va quand même pas faire tout ça pour rien.\n",
        "\n",
        "\n",
        "La recette est choisie, pour nous c'est *pates carbo*.\n",
        "\n",
        "\n",
        "Nouvel objectif : faire la liste de courses ! :purse:\n",
        "\n",
        "Mais les choses se compliquent : pour quantifier les ingrédients selon le nombre de convives\n",
        "et afficher la liste au format courses sur Marmiton, on va devoir cliquer sur des boutons qui exécutent du `JavaScript`.\n",
        "Les librairies `requests` et `BeautifulSoup` atteignent là leurs limites, mais pas de panique : `Selenium` est fait pour ça.\n",
        "Il va nous permettre d'ouvrir un navigateur \"fantôme\", contrôlé via Python, avec lequel on va pouvoir effectuer des actions sur la page\n",
        "(comme le ferait une personne naviguant sur la page web).\n",
        "\n",
        "Autre subtilité : jusqu'à maintenant, on a repéré les éléments html par type et nom de classe.\n",
        "Cette méthode fonctionne, mais elle pose également des problèmes :\n",
        "parfois les noms de classes changent sans raison (c'est d'ailleurs pour ça qu'on a utilisé des regex précédemment, pour faire du matching partiel),\n",
        "et il est moins pratique d'interagir avec les éléments d'une page de cette manière. Parfois, il est\n",
        "pertinent d'utiliser les [sélécteurs XPath](https://fr.wikipedia.org/wiki/XPath),\n",
        "qui permettent de sélectionner les éléments selon leur position dans l'arborescence html de la page.\n",
        "On utilisera une combinaison des deux méthodes dans cette partie selon les cas.\n",
        "\n",
        "On le voit, le webscraping reste une pratique assez instable,\n",
        "dans la mesure où les sites web évoluent en permanence.\n",
        "\n",
        "Il y a ainsi toutes les chances qu'au moment où vous effectuerez ce TP, le code proposé en solution ne fonctionne plus, car les balises auront changé.\n",
        "Il vous faudra alors revenir à l'exploration du code source html de la page, repérer les balises permanentes, et les substituer dans le code de solution.\n",
        "\n",
        "5. Ouvrir la page de la recette choisie à l'aide d'un navigateur fantôme.\n",
        "Problème : la classique fenêtre de politique des cookies :cookie: s'ouvre, nous empêchant de naviguer sur la page.\n",
        "Utiliser Selenium pour cliquer sur le bouton permettant d'accepter tous les cookies.\n"
      ],
      "id": "8e00c9c7"
    },
    {
      "cell_type": "code",
      "metadata": {},
      "source": [
        "from selenium import webdriver\n",
        "from selenium.webdriver.common.by import By\n",
        "from selenium.webdriver.support.ui import WebDriverWait\n",
        "from selenium.webdriver.support import expected_conditions as EC\n",
        "from selenium.common.exceptions import NoSuchElementException"
      ],
      "id": "9111c061",
      "execution_count": null,
      "outputs": []
    },
    {
      "cell_type": "code",
      "metadata": {},
      "source": [
        "driver = webdriver.Chrome()\n",
        "driver.get(url_chosen_recipe)"
      ],
      "id": "cb4dc600",
      "execution_count": null,
      "outputs": []
    },
    {
      "cell_type": "code",
      "metadata": {},
      "source": [
        "WebDriverWait(driver, 10).until(EC.element_to_be_clickable((By.ID, \"didomi-notice-agree-button\"))).click()"
      ],
      "id": "2f4de48e",
      "execution_count": null,
      "outputs": []
    },
    {
      "cell_type": "markdown",
      "metadata": {},
      "source": [
        "6. Choisir pour combien de personnes on va cuisiner.\n",
        "Comparer ce nombre au nombre utilisé par défaut sur Marmiton,\n",
        "et construire une boucle qui va clicker automatiquement le bon nombre de fois,\n",
        "sur + ou - selon que le nombre de convives choisi est supérieur ou inférieur au nombre par défaut.\n"
      ],
      "id": "e3666009"
    },
    {
      "cell_type": "code",
      "metadata": {},
      "source": [
        "try:\n",
        "    counter = driver.find_element_by_class_name(\"quantity-counter\")\n",
        "except NoSuchElementException:\n",
        "    raise Exception(\"La structure de cette page est particulière, il va falloir trouver les bonnes balises à la main.\")\n",
        "else:\n",
        "    xpath_current_count = './/input'\n",
        "    current_count = int(counter.find_element_by_xpath('.//div[2]/input').get_attribute(\"value\"))\n",
        "    xpath_minus = './/div[@class=\"quantity-counter__action minus\"]'\n",
        "    xpath_plus = './/div[@class=\"quantity-counter__action plus\"]'"
      ],
      "id": "7f1bbf5f",
      "execution_count": null,
      "outputs": []
    },
    {
      "cell_type": "code",
      "metadata": {},
      "source": [
        "NB_PERSONNES = 8\n",
        "\n",
        "nb_clicks = NB_PERSONNES - current_count\n",
        "if nb_clicks > 0:\n",
        "    xpath_button_nb_persons = xpath_plus\n",
        "elif nb_clicks < 0:\n",
        "    xpath_button_nb_persons = xpath_minus\n",
        "for i in range(abs(nb_clicks)):\n",
        "    driver.find_element_by_xpath(xpath_button_nb_persons).click()"
      ],
      "id": "b9870076",
      "execution_count": null,
      "outputs": []
    },
    {
      "cell_type": "markdown",
      "metadata": {},
      "source": [
        "7. Marmiton a un mode liste de courses qui va nous être bien pratique pour récupérer les ingrédients au bon format.\n",
        "A l'aide de Selenium, cliquer sur le bouton \"liste\" (à droite de l'outil pour ajuster le nombre de personnes).\n"
      ],
      "id": "823b8c7d"
    },
    {
      "cell_type": "code",
      "metadata": {},
      "source": [
        "display_options = driver.find_element_by_class_name(\"ingredient-list__display-options\")\n",
        "display_options.find_element_by_xpath(\".//i[2]\").click()"
      ],
      "id": "01da4fe4",
      "execution_count": null,
      "outputs": []
    },
    {
      "cell_type": "markdown",
      "metadata": {},
      "source": [
        "8. Selon les cas, il peut être nécessaire de cliquer ensuite sur un autre bouton permettant de développer la liste.\n",
        "Effectuer cette action (si nécessaire !).\n",
        "Cela permettra d'être sûr que l'on récupère bien tous les ingrédients pour construire notre liste de courses.\n"
      ],
      "id": "719fb097"
    },
    {
      "cell_type": "code",
      "metadata": {},
      "source": [
        "# xpath_expand_list = \"/html/body/div[2]/div[3]/main/div/div/div[1]/div[1]/div[7]/div[2]/div[3]\"\n",
        "# try:\n",
        "#     driver.find_element_by_xpath(xpath_expand_list).click()\n",
        "# except ElementClickInterceptedException:\n",
        "#     pass\n",
        "\n",
        "# driver.implicitly_wait(2)  # Make sure that the elements are displayed after pressing button"
      ],
      "id": "c0add736",
      "execution_count": null,
      "outputs": []
    },
    {
      "cell_type": "markdown",
      "metadata": {},
      "source": [
        "9. Récupérer la liste des ingrédients ainsi que des quantités nécessaires. Stocker les éléments dans une liste.\n"
      ],
      "id": "a4966d32"
    },
    {
      "cell_type": "code",
      "metadata": {},
      "source": [
        "list_ings_div = driver.find_element_by_class_name(\"ingredient-list__ingredient-group\")\n",
        "list_ings = [x.text for x in list_ings_div.find_elements_by_tag_name(\"li\")]\n",
        "print(list_ings)"
      ],
      "id": "82619235",
      "execution_count": null,
      "outputs": []
    },
    {
      "cell_type": "markdown",
      "metadata": {},
      "source": [
        "    ['500 g de lardons', 'poivre', '2 pincées de sel', '1 kg de pâtes', '1 l de crème fraîche', \"6 jaunes d'oeuf\", '2 oignons']\n",
        "\n",
        "\n",
        "10. Exporter la liste dans un fichier texte sur votre ordinateur.\n"
      ],
      "id": "e3a4ac8b"
    },
    {
      "cell_type": "code",
      "metadata": {},
      "source": [
        "with open(\"shopping_list.txt\", \"w\") as f:\n",
        "    for ing in list_ings:\n",
        "        f.write(ing + \"\\n\")"
      ],
      "id": "56bf37d4",
      "execution_count": null,
      "outputs": []
    },
    {
      "cell_type": "markdown",
      "metadata": {},
      "source": [
        "11. La liste est prête, mais il va aussi nous falloir la recette. Récupérer la recette, et l'exporter dans un fichier texte séparé, qui porte le nom du plat choisi.\n"
      ],
      "id": "50c30217"
    },
    {
      "cell_type": "code",
      "metadata": {},
      "source": [
        "recipe = driver.find_element_by_class_name(\"recipe-step-list\").text\n",
        "\n",
        "with open(f\"recipe_{PLAT}.txt\", \"w\") as f:\n",
        "    f.write(recipe)"
      ],
      "id": "3bd57d20",
      "execution_count": null,
      "outputs": []
    },
    {
      "cell_type": "markdown",
      "metadata": {},
      "source": [
        "12. L'outil fonctionne... pour un plat donné. Adapter le code précédent pour prendre en entrée une liste de plats, et retourner en sortie la liste de courses complète (en un seul fichier) pour pouvoir réaliser ces différents plats. Hint: il sera sûrement utile de faire une fonction qui prend en input un plat et exporte la liste de courses pour ce plat, et ensuite d'appeler cette fonction pour chaque plat dans le cadre d'une boucle. Attention de ne pas écraser la liste de courses précédentes à chaque fois !\n"
      ],
      "id": "2e8e6a6d"
    }
  ],
  "metadata": {
    "kernelspec": {
      "name": "python3",
      "language": "python",
      "display_name": "Python 3 (ipykernel)"
    }
  },
  "nbformat": 4,
  "nbformat_minor": 5
}