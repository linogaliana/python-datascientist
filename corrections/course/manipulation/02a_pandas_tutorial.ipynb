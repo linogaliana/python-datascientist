{
  "cells": [
    {
      "cell_type": "raw",
      "metadata": {},
      "source": [
        "---\n",
        "title: \"Introduction à pandas\"\n",
        "date: 2020-07-28T13:00:00Z\n",
        "draft: false\n",
        "weight: 20\n",
        "tags:\n",
        "  - pandas\n",
        "  - Pollution\n",
        "  - Ademe\n",
        "  - Tutoriel\n",
        "  - Manipulation\n",
        "categories:\n",
        "  - Tutoriel\n",
        "  - Manipulation\n",
        "slug: pandas\n",
        "type: book\n",
        "summary: |\n",
        "  `pandas` est l'élément central de l'écosystème `Python` pour la _data-science_. \n",
        "  Le succès récent de `Python` dans l'analyse de données tient beaucoup à `pandas` qui a permis d'importer la\n",
        "  logique `SQL` dans le langage `Python`. `pandas` embarque énormément de\n",
        "  fonctionalités qui permettent d'avoir des _pipelines_ efficaces pour\n",
        "  traiter des données de volumétrie moyenne (jusqu'à quelques Gigas). Au-delà\n",
        "  de cette volumétrie, il faudra se tourner vers d'autres solutions\n",
        "  (`PostgresQL`, `Dask`, `Spark`...).\n",
        "bibliography: ../../../../reference.bib\n",
        "image: featured.png\n",
        "---"
      ],
      "id": "a073ffc9"
    },
    {
      "cell_type": "markdown",
      "metadata": {},
      "source": [
        "Pour essayer les exemples présents dans ce tutoriel : \n",
        "\n",
        "::: {.cell .markdown}"
      ],
      "id": "1feea7d0"
    },
    {
      "cell_type": "code",
      "metadata": {},
      "source": [
        "#| output: asis\n",
        "#| include: true\n",
        "#| eval: true\n",
        "import sys\n",
        "sys.path.insert(1, '../../../../') #insert the utils module\n",
        "from utils import print_badges\n",
        "#print_badges(__file__)\n",
        "print_badges(\"content/course/manipulation/02a_pandas_tutorial.qmd\")"
      ],
      "id": "2fc3534e",
      "execution_count": null,
      "outputs": []
    },
    {
      "cell_type": "markdown",
      "metadata": {},
      "source": [
        ":::\n",
        "\n",
        "Le _package_ `pandas` est l'une des briques centrales de l'écosystème de\n",
        "la data-science. Son créateur, Wes McKinney, l'a pensé comme \n",
        "une surcouche à la librairie `numpy` pour introduire le _DataFrame_\n",
        "qui est un objet central dans des langages comme `R` \n",
        "ou `Stata` mais qui était absent dans `Python`. `pandas` est rapidement\n",
        "devenu un incontournable de la _data-science_. L'ouvrage\n",
        "de référence de @mckinney2012python présente de manière plus \n",
        "ample ce _package_.\n",
        "\n",
        "Ce tutoriel vise à introduire aux concepts\n",
        "de base de ce package par l'exemple et à introduire à certaines\n",
        "des tâches les plus fréquentes de (re)structuration\n",
        "des données du _data-scientist_. Il ne s'agit pas d'un ensemble\n",
        "exhaustif de commandes: `pandas` est un package tentaculaire \n",
        "qui permet de réaliser la même opération de nombreuses manières. \n",
        "Nous nous concentrerons ainsi sur les éléments les plus pertinents\n",
        "dans le cadre d'une introduction à la _data-science_ et laisserons\n",
        "les utilisateurs intéressés approfondir leurs connaissances\n",
        "dans les ressources foisonnantes qu'il existe sur le sujet. \n",
        "\n",
        "Dans ce tutoriel `pandas`, nous allons utiliser:\n",
        "\n",
        "* Les émissions de gaz à effet de serre estimées au niveau communal par l'ADEME. Le jeu de données est \n",
        "disponible sur [data.gouv](https://www.data.gouv.fr/fr/datasets/inventaire-de-gaz-a-effet-de-serre-territorialise/#_)\n",
        "et requêtable directement dans `Python` avec\n",
        "[cet url](https://koumoul.com/s/data-fair/api/v1/datasets/igt-pouvoir-de-rechauffement-global/convert)\n",
        "\n",
        "Le [chapitre suivant](#pandasTP) permettra de mettre en application des éléments présents dans ce chapitre avec\n",
        "les données ci-dessus associées à des données de contexte au niveau communal<a name=\"cite_ref-1\"></a>[<sup>[1]</sup>](#cite_note-1).\n",
        "\n",
        "\n",
        "::: {.cell .markdown}\n",
        "\n",
        "```{=html}\n",
        "<a name=\"cite_note-1\"></a>1. [^](#cite_ref-1)\n",
        "```\n",
        "\n",
        " Idéalement, on utiliserait les données\n",
        "[disponibles sur le site de l'Insee](https://www.insee.fr/fr/statistiques/3560121) mais celles-ci nécessitent un peu de travail\n",
        "de nettoyage qui n'entre pas dans le cadre de ce TP. \n",
        "Pour faciliter l'import de données `Insee`, il est recommandé d'utiliser le package\n",
        "[`pynsee`](https://github.com/InseeFrLab/Py-Insee-Data) qui simplifie l'accès aux données\n",
        "de l'Insee disponibles sur le site web [insee.fr](https://www.insee.fr/fr/accueil)\n",
        "ou via des API. \n",
        ":::\n",
        "\n",
        "Pour simplifier l'accès aux données du site [insee.fr](https://www.insee.fr/fr/accueil)\n",
        "nous allons utiliser un package nommé `pynsee`. \n",
        "Son code source est disponible sur \n",
        "[`Github`](https://github.com/InseeFrLab/Py-Insee-Data).\n",
        "Pour l'installer depuis la cellule d'un `Notebook Jupyter`:\n"
      ],
      "id": "dd457754"
    },
    {
      "cell_type": "code",
      "metadata": {},
      "source": [
        "#| eval: false\n",
        "!pip install pynsee"
      ],
      "id": "52fafa00",
      "execution_count": null,
      "outputs": []
    },
    {
      "cell_type": "markdown",
      "metadata": {},
      "source": [
        "⚠️ `pandas` offre la possibilité d'importer des données\n",
        "directement depuis un url. C'est l'option prise dans ce tutoriel.\n",
        "Si vous préfèrez, pour des\n",
        "raisons d'accès au réseau ou de performance, importer depuis un poste local,\n",
        "vous pouvez télécharger les données et changer\n",
        "les commandes d'import avec le chemin adéquat plutôt que l'url. \n",
        "\n",
        "\n",
        "Nous suivrons les conventions habituelles dans l'import des packages\n"
      ],
      "id": "2b98faa5"
    },
    {
      "cell_type": "code",
      "metadata": {},
      "source": [
        "import numpy as np\n",
        "import pandas as pd\n",
        "import matplotlib.pyplot as plt\n",
        "import pynsee.download"
      ],
      "id": "8fe5ff80",
      "execution_count": null,
      "outputs": []
    },
    {
      "cell_type": "markdown",
      "metadata": {},
      "source": [
        "Pour obtenir des résultats reproductibles, on peut fixer la racine du générateur\n",
        "pseudo-aléatoire. \n"
      ],
      "id": "9aacbe1c"
    },
    {
      "cell_type": "code",
      "metadata": {},
      "source": [
        "np.random.seed(123)"
      ],
      "id": "f18bf312",
      "execution_count": null,
      "outputs": []
    },
    {
      "cell_type": "markdown",
      "metadata": {},
      "source": [
        "Au cours de cette démonstration des principales fonctionalités de `pandas`, et\n",
        "lors du chapitre suivant,\n",
        "je recommande de se référer régulièrement aux ressources suivantes:\n",
        "\n",
        "* L'[aide officielle de pandas](https://pandas.pydata.org/docs/user_guide/index.html).\n",
        "Notamment, la\n",
        "[page de comparaison des langages](https://pandas.pydata.org/pandas-docs/stable/getting_started/comparison/index.html)\n",
        "est très utile\n",
        "* La _cheatsheet suivante_, [issue de ce post](https://becominghuman.ai/cheat-sheets-for-ai-neural-networks-machine-learning-deep-learning-big-data-678c51b4b463)\n",
        "\n",
        "![Cheasheet pandas](https://cdn-images-1.medium.com/max/2000/1*YhTbz8b8Svi22wNVvqzneg.jpeg)\n",
        "\n",
        "# Logique de pandas\n",
        "\n",
        "L'objet central dans la logique `pandas` est le `DataFrame`.\n",
        "Il s'agit d'une structure particulière de données\n",
        "à deux dimensions, structurées en alignant des lignes et colonnes. Les colonnes\n",
        "peuvent être de type différent.\n",
        "\n",
        "Un `DataFrame` est composé des éléments suivants:\n",
        "\n",
        "* l'indice de la ligne ;\n",
        "* le nom de la colonne ;\n",
        "* la valeur de la donnée ;\n",
        "\n",
        "Structuration d'un DataFrame pandas,\n",
        "empruntée à <https://medium.com/epfl-extension-school/selecting-data-from-a-pandas-dataframe-53917dc39953>:\n"
      ],
      "id": "a632f2d8"
    },
    {
      "cell_type": "code",
      "metadata": {},
      "source": [
        "import shutil\n",
        "import requests\n",
        "\n",
        "url = 'https://miro.medium.com/max/700/1*6p6nF4_5XpHgcrYRrLYVAw.png'\n",
        "response = requests.get(url, stream=True)\n",
        "with open('featured.png', 'wb') as out_file:\n",
        "    shutil.copyfileobj(response.raw, out_file)"
      ],
      "id": "9241926a",
      "execution_count": null,
      "outputs": []
    },
    {
      "cell_type": "markdown",
      "metadata": {},
      "source": [
        "![](featured.png)\n",
        "\n",
        "Le concept de *tidy* data, popularisé par Hadley Wickham via ses packages `R`,\n",
        "est parfaitement pertinent pour décrire la structure d'un `DataFrame pandas`.\n",
        "Les trois règles sont les suivantes:\n",
        "\n",
        "* Chaque variable possède sa propre colonne ;\n",
        "* Chaque observation possède sa propre ligne ;\n",
        "* Une valeur, matérialisant une observation d'une variable,\n",
        "se trouve sur une unique cellule.\n",
        "\n",
        "\n",
        "![Concept de tidy data (emprunté à H. Wickham)](https://d33wubrfki0l68.cloudfront.net/6f1ddb544fc5c69a2478e444ab8112fb0eea23f8/91adc/images/tidy-1.png)\n",
        "\n",
        "\n",
        "::: {.cell .markdown}\n",
        "\n",
        "```{=html}\n",
        "<div class=\"alert alert-warning\" role=\"alert\" style=\"color: rgba(0,0,0,.8); background-color: white; margin-top: 1em; margin-bottom: 1em; margin:1.5625emauto; padding:0 .6rem .8rem!important;overflow:hidden; page-break-inside:avoid; border-radius:.25rem; box-shadow:0 .2rem .5rem rgba(0,0,0,.05),0 0 .05rem rgba(0,0,0,.1); transition:color .25s,background-color .25s,border-color .25s ; border-right: 1px solid #dee2e6 ; border-top: 1px solid #dee2e6 ; border-bottom: 1px solid #dee2e6 ; border-left:.2rem solid #ffc10780;\">\n",
        "<h3 class=\"alert-heading\"><i class=\"fa fa-lightbulb-o\"></i> Hint</h3>\n",
        "```\n",
        "\n",
        "\n",
        "Les `DataFrames` sont assez rapides en `Python`<a name=\"cite_ref-2\"></a>[<sup>[2]</sup>](#cite_note-2) et permettent de traiter en local de manière efficace des tables de\n",
        "données comportant plusieurs millions d'observations (en fonction de la configuration de l'ordinateur)\n",
        "et dont la volumétrie peut être conséquente (plusieurs centaines\n",
        "de Mo). Néanmoins,  passé un certain seuil, qui dépend de la puissance de la machine mais aussi de la complexité\n",
        "de l'opération effectuée, le DataFrame `pandas` peut montrer certaines limites. Dans ce cas, il existe différentes\n",
        "solutions: `Dask` (dataframe aux opérations parallélisés), `SQL` (notamment `Postgres`),\n",
        "`Spark` (solution _big data_). Un chapitre spécial de ce cours est consacré à `Dask`.\n",
        "\n",
        "\n",
        "```{=html}\n",
        "</div>\n",
        "```\n",
        "\n",
        ":::\n",
        "\n",
        "\n",
        "\n",
        "::: {.cell .markdown}\n",
        "\n",
        "```{=html}\n",
        "<a name=\"cite_note-2\"></a>2. [^](#cite_ref-2)\n",
        "```\n",
        "\n",
        "  En `R`, les deux formes de dataframes qui se sont imposées récemment sont les `tibbles` (package `dplyr`)\n",
        "et les `data.tables` (package `data.table`). `dplyr` reprend la syntaxe `SQL` de manière relativement\n",
        "transparente ce qui rend la syntaxe très proche de celle de `pandas`. Cependant,\n",
        "alors que `dplyr` supporte très mal les données dont la volumétrie dépasse 1Go, `pandas` s'en\n",
        "accomode bien. Les performances de `pandas` sont plus proches de celles de `data.table`, qui est\n",
        "connu pour être une approche efficace avec des données de taille importante.\n",
        ":::\n",
        "\n",
        "Concernant la syntaxe, une partie des commandes python est inspirée par la logique `SQL`. On retrouvera ainsi\n",
        "des instructions relativement transparentes.\n",
        "\n",
        "Il est vivement recommandé, avant de se lancer dans l'écriture d'une\n",
        "fonction, de se poser la question de son implémentation native dans `numpy`, `pandas`, etc.\n",
        "En particulier, la plupart du temps, s'il existe une solution implémentée dans une librairie, il convient\n",
        "de l'utiliser.\n",
        "\n",
        "# Les Series\n",
        "\n",
        "En fait, un DataFrame est une collection d'objets appelés `pandas.Series`.\n",
        "Ces `Series` sont des objets d'une dimension qui sont des extensions des\n",
        "array-unidimensionnels `numpy`. En particulier, pour faciliter le traitement\n",
        "de données catégorielles ou temporelles, des types de variables\n",
        "supplémentaires sont disponibles dans `pandas` par rapport à\n",
        "`numpy` (`categorical`, `datetime64` et `timedelta64`). Ces\n",
        "types sont associés à des méthodes optimisées pour faciliter le traitement\n",
        "de ces données.\n",
        "\n",
        "Il ne faut pas négliger l'attribut `dtype` d'un objet\n",
        "`pandas.Series` car cela a une influence déterminante sur les méthodes\n",
        "et fonctions pouvant être utilisées (on ne fait pas les mêmes opérations\n",
        "sur une donnée temporelle et une donnée catégorielle) et le volume en\n",
        "mémoire d'une variable (le type de la variable détermine le volume\n",
        "d'information stocké pour chaque élément ; être trop précis est parfois\n",
        "néfaste).\n",
        "\n",
        "Il existe plusieurs types possibles pour un `pandas.Series`.\n",
        "Le type `object` correspond aux types Python `str` ou `mixed`.\n",
        "Il existe un type particulier pour les variables dont le nombre de valeurs\n",
        "est une liste finie et relativement courte, le type `category`.\n",
        "Il faut bien examiner les types de son DataFrame, et convertir éventuellement\n",
        "les types lors de l'étape de `data cleaning`.\n",
        "\n",
        "## Indexation\n",
        "\n",
        "La différence essentielle entre une `Series` et un objet `numpy` est l'indexation.\n",
        "Dans `numpy`,\n",
        "l'indexation est implicite ; elle permet d'accéder à une donnée (celle à\n",
        "l'index situé à la position *i*).\n",
        "Avec une `Series`, on peut bien-sûr utiliser un indice de position mais on peut\n",
        "surtout faire appel à des indices plus explicites.\n",
        "Par exemple,\n"
      ],
      "id": "6e23ac4d"
    },
    {
      "cell_type": "code",
      "metadata": {},
      "source": [
        "taille = pd.Series(\n",
        "    [1.,1.5,1],\n",
        "    index = ['chat', 'chien', 'koala']\n",
        ")\n",
        "\n",
        "taille.head()"
      ],
      "id": "ce621663",
      "execution_count": null,
      "outputs": []
    },
    {
      "cell_type": "markdown",
      "metadata": {},
      "source": [
        "Cette indexation permet d'accéder à des valeurs de la `Series`\n",
        "via une valeur de l'indice. Par\n",
        "exemple, `taille['koala']`:\n"
      ],
      "id": "170e2e0d"
    },
    {
      "cell_type": "code",
      "metadata": {},
      "source": [
        "taille['koala']"
      ],
      "id": "f25040be",
      "execution_count": null,
      "outputs": []
    },
    {
      "cell_type": "markdown",
      "metadata": {},
      "source": [
        "L'existence d'indice rend le *subsetting* particulièrement aisé, ce que vous\n",
        "pouvez expérimenter dans les TP\n",
        "\n",
        "::: {.cell .markdown}"
      ],
      "id": "7ad2cb41"
    },
    {
      "cell_type": "code",
      "metadata": {},
      "source": [
        "#| output: 'asis'\n",
        "#| include: true\n",
        "#| eval: true\n",
        "\n",
        "import sys\n",
        "sys.path.insert(1, '../../../../') #insert the utils module\n",
        "from utils import print_badges\n",
        "\n",
        "#print_badges(__file__)\n",
        "print_badges(\"content/course/manipulation/02b_pandas_TP.qmd\")"
      ],
      "id": "8e4a265a",
      "execution_count": null,
      "outputs": []
    },
    {
      "cell_type": "markdown",
      "metadata": {},
      "source": [
        ":::\n",
        "\n",
        "\n",
        "\n",
        "Pour transformer un objet `pandas.Series` en array `numpy`,\n",
        "on utilise la méthode `values`. Par exemple, `taille.values`:\n"
      ],
      "id": "076640d4"
    },
    {
      "cell_type": "code",
      "metadata": {},
      "source": [
        "taille.values"
      ],
      "id": "a25a542f",
      "execution_count": null,
      "outputs": []
    },
    {
      "cell_type": "markdown",
      "metadata": {},
      "source": [
        "Un avantage des `Series` par rapport à un *array* `numpy` est que\n",
        "les opérations sur les `Series` alignent\n",
        "automatiquement les données à partir des labels.\n",
        "Avec des `Series` labélisées, il n'est ainsi pas nécessaire\n",
        "de se poser la question de l'ordre des lignes.\n",
        "L'exemple dans la partie suivante permettra de s'en assurer.\n",
        "\n",
        "\n",
        "## Valeurs manquantes\n",
        "\n",
        "Par défaut, les valeurs manquantes sont affichées `NaN` et sont de type `np.nan` (pour\n",
        "les valeurs temporelles, i.e. de type `datatime64`, les valeurs manquantes sont\n",
        "`NaT`).\n",
        "\n",
        "On a un comportement cohérent d'agrégation lorsqu'on combine deux `DataFrames` (ou deux colonnes).\n",
        "Par exemple,\n"
      ],
      "id": "e10649aa"
    },
    {
      "cell_type": "code",
      "metadata": {},
      "source": [
        "x = pd.DataFrame(\n",
        "    {'prix': np.random.uniform(size = 5),\n",
        "     'quantite': [i+1 for i in range(5)]\n",
        "    },\n",
        "    index = ['yaourt','pates','riz','tomates','gateaux']\n",
        ")\n",
        "x"
      ],
      "id": "5554d152",
      "execution_count": null,
      "outputs": []
    },
    {
      "cell_type": "code",
      "metadata": {},
      "source": [
        "y = pd.DataFrame(\n",
        "    {'prix': [np.nan, 0, 1, 2, 3],\n",
        "     'quantite': [i+1 for i in range(5)]\n",
        "    },\n",
        "    index = ['tomates','yaourt','gateaux','pates','riz']\n",
        ")\n",
        "y"
      ],
      "id": "06427e74",
      "execution_count": null,
      "outputs": []
    },
    {
      "cell_type": "code",
      "metadata": {},
      "source": [
        "x + y"
      ],
      "id": "f897e566",
      "execution_count": null,
      "outputs": []
    },
    {
      "cell_type": "markdown",
      "metadata": {},
      "source": [
        "donne bien une valeur manquante pour la ligne `tomates`. Au passage, on peut remarquer que l'agrégation\n",
        "a tenu compte des index.\n",
        "\n",
        "Il est possible de supprimer les valeurs manquantes grâce à `dropna()`.\n",
        "Cette méthode va supprimer toutes les lignes où il y a au moins une valeur manquante.\n",
        "Il est aussi possible de supprimer seulement les colonnes où il y a des valeurs manquantes\n",
        "dans un DataFrame avec `dropna()` avec le paramètre `axis=1` (par défaut égal à 0).\n",
        "\n",
        "Il est également possible de remplir les valeurs manquantes grâce à la méthode `fillna()`.\n",
        "\n",
        "# Le DataFrame pandas\n",
        "\n",
        "Le `DataFrame` est l'objet central de la librairie `pandas`.\n",
        "Il s'agit d'une collection de `pandas.Series` (colonnes) alignées par les index.\n",
        "Les types des variables peuvent différer.\n",
        "\n",
        "Un `DataFrame` non-indexé a la structure suivante:\n"
      ],
      "id": "4187c16e"
    },
    {
      "cell_type": "code",
      "metadata": {},
      "source": [
        "df = pd.DataFrame(\n",
        "    {'taille': [1.,1.5,1],\n",
        "    'poids' : [3, 5, 2.5]\n",
        "    },\n",
        "    index = ['chat', 'chien', 'koala']\n",
        ")\n",
        "df.reset_index()"
      ],
      "id": "38cccdbc",
      "execution_count": null,
      "outputs": []
    },
    {
      "cell_type": "markdown",
      "metadata": {},
      "source": [
        "Alors que le même `DataFrame` indexé aura la structure suivante:\n"
      ],
      "id": "8d11ae76"
    },
    {
      "cell_type": "code",
      "metadata": {},
      "source": [
        "df = pd.DataFrame(\n",
        "    {'taille': [1.,1.5,1],\n",
        "    'poids' : [3, 5, 2.5]\n",
        "    },\n",
        "    index = ['chat', 'chien', 'koala']\n",
        ")\n",
        "df.head()"
      ],
      "id": "35a62ff1",
      "execution_count": null,
      "outputs": []
    },
    {
      "cell_type": "markdown",
      "metadata": {},
      "source": [
        "## Les attributs et méthodes utiles\n",
        "\n",
        "Pour présenter les méthodes les plus pratiques pour l'analyse de données,\n",
        "on peut partir de l'exemple des consommations de CO2 communales issues\n",
        "des données de l'Ademe. Cette base de données est exploitée plus intensément\n",
        "dans le TP.\n",
        "\n",
        "::: {.cell .markdown}"
      ],
      "id": "2537cb99"
    },
    {
      "cell_type": "code",
      "metadata": {},
      "source": [
        "#| output: 'asis'\n",
        "#| include: true\n",
        "#| eval: true\n",
        "\n",
        "import sys\n",
        "sys.path.insert(1, '../../../../') #insert the utils module\n",
        "from utils import print_badges\n",
        "\n",
        "#print_badges(__file__)\n",
        "print_badges(\"content/course/manipulation/02b_pandas_TP.qmd\")"
      ],
      "id": "19d4391b",
      "execution_count": null,
      "outputs": []
    },
    {
      "cell_type": "markdown",
      "metadata": {},
      "source": [
        ":::\n",
        "\n",
        "L'import de données depuis un fichier plat se fait avec la fonction [`read_csv`](https://pandas.pydata.org/docs/reference/api/pandas.read_csv.html):\n"
      ],
      "id": "00e22e13"
    },
    {
      "cell_type": "code",
      "metadata": {},
      "source": [
        "df = pd.read_csv(\"https://koumoul.com/s/data-fair/api/v1/datasets/igt-pouvoir-de-rechauffement-global/convert\")\n",
        "df"
      ],
      "id": "1777f5e5",
      "execution_count": null,
      "outputs": []
    },
    {
      "cell_type": "markdown",
      "metadata": {},
      "source": [
        "::: {.cell .markdown}\n",
        "\n",
        "```{=html}\n",
        "<div class=\"alert alert-info\" role=\"alert\" style=\"color: rgba(0,0,0,.8); background-color: white; margin-top: 1em; margin-bottom: 1em; margin:1.5625emauto; padding:0 .6rem .8rem!important;overflow:hidden; page-break-inside:avoid; border-radius:.25rem; box-shadow:0 .2rem .5rem rgba(0,0,0,.05),0 0 .05rem rgba(0,0,0,.1); transition:color .25s,background-color .25s,border-color .25s ; border-right: 1px solid #dee2e6 ; border-top: 1px solid #dee2e6 ; border-bottom: 1px solid #dee2e6 ; border-left:.2rem solid #007bff80;\">\n",
        "<h3 class=\"alert-heading\"><i class=\"fa fa-comment\"></i> Note</h3>\n",
        "```\n",
        "\n",
        "\n",
        "\n",
        "Dans un processus de production, où normalement on connait les types des variables du `DataFrame` qu'on va importer,\n",
        "il convient de préciser les types avec lesquels on souhaite importer les données\n",
        "(argument `dtype`, sous la forme d'un dictionnaire).\n",
        "Cela est particulièrement important lorsqu'on désire utiliser une colonne\n",
        "comme une variable textuelle mais qu'elle comporte des attributs proches d'un nombre\n",
        "qui vont inciter `pandas` à l'importer sous forme de variable numérique.\n",
        "\n",
        "Par exemple, une colonne `[00001,00002,...] ` risque d'être importée comme une variable numérique, ignorant l'information des premiers 0 (qui peuvent pourtant la distinguer de la séquence 1, 2, etc.). Pour s'assurer que `pandas` importe sous forme textuelle la variable, on peut utiliser `dtype = {\"code\": \"str\"}`\n",
        "Sinon, on peut importer le csv, et modifier les types avec `astype()`.\n",
        "Avec `astype`, on peut gérer les erreurs de conversion avec le paramètre `errors`.\n",
        "\n",
        "\n",
        "```{=html}\n",
        "</div>\n",
        "```\n",
        "\n",
        ":::\n",
        "\n",
        "L'affichage des DataFrames est très ergonomique. On obtiendrait le même *output*\n",
        "avec `display(df)`<a name=\"cite_ref-3\"></a>[<sup>[3]</sup>](#cite_note-3). Les premières et dernières lignes s'affichent\n",
        "automatiquement. Autrement, on peut aussi faire:\n",
        "\n",
        "* `head` qui permet, comme son\n",
        "nom l'indique, de n'afficher que les premières lignes ;\n",
        "* `tail` qui permet, comme son\n",
        "nom l'indique, de n'afficher que les dernières lignes\n",
        "* `sample` qui permet d'afficher un échantillon aléatoire de *n* lignes.\n",
        "Cette méthode propose de nombreuses options.\n",
        "\n",
        "::: {.cell .markdown}\n",
        "\n",
        "```{=html}\n",
        "<a name=\"cite_note-3\"></a>3. [^](#cite_ref-3)\n",
        "```\n",
        "\n",
        " Il est préférable d'utiliser la fonction `display` (ou tout simplement\n",
        "taper le nom du `DataFrame`) qu'utiliser la fonction `print`. Le\n",
        "`display` des objets `pandas` est assez esthétique, contrairement à `print`\n",
        "qui renvoie du texte brut.\n",
        ":::\n",
        "\n",
        "::: {.cell .markdown}\n",
        "\n",
        "```{=html}\n",
        "<div class=\"alert alert-danger\" role=\"alert\" style=\"color: rgba(0,0,0,.8); background-color: white; margin-top: 1em; margin-bottom: 1em; margin:1.5625emauto; padding:0 .6rem .8rem!important;overflow:hidden; page-break-inside:avoid; border-radius:.25rem; box-shadow:0 .2rem .5rem rgba(0,0,0,.05),0 0 .05rem rgba(0,0,0,.1); transition:color .25s,background-color .25s,border-color .25s ; border-right: 1px solid #dee2e6 ; border-top: 1px solid #dee2e6 ; border-bottom: 1px solid #dee2e6 ; border-left: .2rem solid #ff0039;\">\n",
        "<i class=\"fa fa-exclamation-triangle\"></i> Warning</h3>\n",
        "```\n",
        "\n",
        "\n",
        "Il faut faire attention au `display` et aux\n",
        "commandes qui révèlent des données (`head`, `tail`, etc.)\n",
        "dans un `Notebook` ou un `Markdown` qui exploite\n",
        "des données confidentielles lorsqu'on utilise `Git`.\n",
        "\n",
        "En effet, on peut se\n",
        "retrouver à partager des données, involontairement, dans l'historique\n",
        "`Git`. Avec un `R Markdown`, il suffit d'ajouter les sorties au fichier\n",
        "`.gitignore` (par exemple avec une balise de type `*.html`). Avec un\n",
        "`Notebook Jupyter`, la démarche est plus compliquée car les fichiers\n",
        "`.ipynb` intègrent dans le même document, texte, sorties et mise en forme.\n",
        "\n",
        "Techniquement, il est possible d'appliquer des filtres avec `Git`\n",
        "(voir\n",
        "[ici](http://timstaley.co.uk/posts/making-git-and-jupyter-notebooks-play-nice/))\n",
        "mais c'est une démarche très complexe. \n",
        "Ce post de l'équipe à l'origine de [nbdev2](https://www.fast.ai/posts/2022-08-25-jupyter-git.html)\n",
        "résume bien le problème du contrôle de version avec `Git` et des solutions qui\n",
        "peuvent y être apportées.\n",
        "\n",
        "Une solution est d'utiliser [`Quarto`](https://quarto.org/) qui permet de générer les\n",
        "`.ipynb` en _output_ d'un document texte, ce qui facilite le contrôle sur les \n",
        "éléments présents dans le document.\n",
        "\n",
        "\n",
        "```{=html}\n",
        "</div>\n",
        "```\n",
        "\n",
        ":::\n",
        "\n",
        "\n",
        "\n",
        "### Dimensions et structure du DataFrame\n",
        "\n",
        "Les premières méthodes utiles permettent d'afficher quelques\n",
        "attributs d'un `DataFrame`.\n"
      ],
      "id": "5e872127"
    },
    {
      "cell_type": "code",
      "metadata": {},
      "source": [
        "df.axes"
      ],
      "id": "210b4412",
      "execution_count": null,
      "outputs": []
    },
    {
      "cell_type": "code",
      "metadata": {},
      "source": [
        "df.columns"
      ],
      "id": "fe570408",
      "execution_count": null,
      "outputs": []
    },
    {
      "cell_type": "code",
      "metadata": {},
      "source": [
        "df.index"
      ],
      "id": "4b795f0c",
      "execution_count": null,
      "outputs": []
    },
    {
      "cell_type": "markdown",
      "metadata": {},
      "source": [
        "Pour connaître les dimensions d'un DataFrame, on peut utiliser quelques méthodes\n",
        "pratiques:\n"
      ],
      "id": "29b15d74"
    },
    {
      "cell_type": "code",
      "metadata": {},
      "source": [
        "df.ndim"
      ],
      "id": "7a11a8c4",
      "execution_count": null,
      "outputs": []
    },
    {
      "cell_type": "code",
      "metadata": {},
      "source": [
        "df.shape"
      ],
      "id": "bfe65dd2",
      "execution_count": null,
      "outputs": []
    },
    {
      "cell_type": "code",
      "metadata": {},
      "source": [
        "df.size"
      ],
      "id": "034598a1",
      "execution_count": null,
      "outputs": []
    },
    {
      "cell_type": "markdown",
      "metadata": {},
      "source": [
        "Pour déterminer le nombre de valeurs uniques d'une variable, plutôt que chercher à écrire soi-même une fonction,\n",
        "on utilise la\n",
        "méthode `nunique`. Par exemple,\n"
      ],
      "id": "4dbefd29"
    },
    {
      "cell_type": "code",
      "metadata": {},
      "source": [
        "df['Commune'].nunique()"
      ],
      "id": "ea90797a",
      "execution_count": null,
      "outputs": []
    },
    {
      "cell_type": "markdown",
      "metadata": {},
      "source": [
        "`pandas` propose énormément de méthodes utiles. \n",
        "Voici un premier résumé, accompagné d'un comparatif avec `R`\n",
        "\n",
        "| Opération                     | pandas       | dplyr (`R`)    | data.table (`R`)           |\n",
        "|-------------------------------|--------------|----------------|----------------------------|\n",
        "| Récupérer le nom des colonnes | `df.columns` | `colnames(df)` | `colnames(df)`             |\n",
        "| Récupérer les indices<a name=\"cite_ref-4\"></a>[<sup>[4]</sup>](#cite_note-4)     | `df.index`   |                |`unique(df[,get(key(df))])` |\n",
        "| Récupérer les dimensions      | `df.shape` | `c(nrow(df), ncol(df))` | `c(nrow(df), ncol(df))` |\n",
        "| Récupérer le nombre de valeurs uniques d'une variable | `df['myvar'].nunique()` | `df %>%  summarise(distinct(myvar))` | `df[,uniqueN(myvar)]` |\n",
        "\n",
        "::: {.cell .markdown}\n",
        "\n",
        "```{=html}\n",
        "<a name=\"cite_note-4\"></a>4. [^](#cite_ref-4)\n",
        "```\n",
        "\n",
        " Le principe d'indice n'existe pas dans `dplyr`. Ce qui s'approche le plus des indices, au sens de\n",
        "`pandas`, sont les *clés* en `data.table`.\n",
        ":::\n",
        "\n",
        "### Statistiques agrégées\n",
        "\n",
        "`pandas` propose une série de méthodes pour faire des statistiques\n",
        "agrégées de manière efficace.\n",
        "\n",
        "On peut, par exemple, appliquer des méthodes pour compter le nombre de lignes,\n",
        "faire une moyenne ou une somme de l'ensemble des lignes\n"
      ],
      "id": "26afb3db"
    },
    {
      "cell_type": "code",
      "metadata": {},
      "source": [
        "df.count()"
      ],
      "id": "823438b0",
      "execution_count": null,
      "outputs": []
    },
    {
      "cell_type": "code",
      "metadata": {},
      "source": [
        "df.mean(numeric_only = True)"
      ],
      "id": "b9d40908",
      "execution_count": null,
      "outputs": []
    },
    {
      "cell_type": "code",
      "metadata": {},
      "source": [
        "df.sum(numeric_only = True)"
      ],
      "id": "fa67f021",
      "execution_count": null,
      "outputs": []
    },
    {
      "cell_type": "code",
      "metadata": {},
      "source": [
        "df.nunique()"
      ],
      "id": "fb4cde51",
      "execution_count": null,
      "outputs": []
    },
    {
      "cell_type": "code",
      "metadata": {},
      "source": [
        "df.quantile(q = [0.1,0.25,0.5,0.75,0.9], numeric_only = True)"
      ],
      "id": "9f4ea654",
      "execution_count": null,
      "outputs": []
    },
    {
      "cell_type": "markdown",
      "metadata": {},
      "source": [
        "::: {.cell .markdown}\n",
        "\n",
        "```{=html}\n",
        "<div class=\"alert alert-danger\" role=\"alert\" style=\"color: rgba(0,0,0,.8); background-color: white; margin-top: 1em; margin-bottom: 1em; margin:1.5625emauto; padding:0 .6rem .8rem!important;overflow:hidden; page-break-inside:avoid; border-radius:.25rem; box-shadow:0 .2rem .5rem rgba(0,0,0,.05),0 0 .05rem rgba(0,0,0,.1); transition:color .25s,background-color .25s,border-color .25s ; border-right: 1px solid #dee2e6 ; border-top: 1px solid #dee2e6 ; border-bottom: 1px solid #dee2e6 ; border-left: .2rem solid #ff0039;\">\n",
        "<i class=\"fa fa-exclamation-triangle\"></i> Warning</h3>\n",
        "```\n",
        "\n",
        "\n",
        "La version 2.0 de `Pandas` a introduit un changement\n",
        "de comportement dans les méthodes d'agrégation. \n",
        "\n",
        "Il est dorénavant nécessaire de préciser quand on désire\n",
        "effectuer des opérations si on désire ou non le faire\n",
        "exclusivement sur les colonnes numériques. C'est pour cette \n",
        "raison qu'on exlicite ici l'argument `numeric_only = True`. \n",
        "Ce comportement\n",
        "était par le passé implicite. \n",
        "\n",
        "\n",
        "```{=html}\n",
        "</div>\n",
        "```\n",
        "\n",
        ":::\n",
        "\n",
        "\n",
        "Il faut toujours regarder les options de ces fonctions en termes de valeurs manquantes, car\n",
        "ces options sont déterminantes dans le résultat obtenu.\n",
        "\n",
        "Les exercices de TD visent à démontrer l'intérêt de ces méthodes dans quelques cas précis.\n",
        "\n",
        "::: {.cell .markdown}"
      ],
      "id": "729c4cb2"
    },
    {
      "cell_type": "code",
      "metadata": {},
      "source": [
        "#| output: 'asis'\n",
        "#| include: true\n",
        "#| eval: true\n",
        "\n",
        "import sys\n",
        "sys.path.insert(1, '../../../../') #insert the utils module\n",
        "from utils import print_badges\n",
        "\n",
        "#print_badges(__file__)\n",
        "print_badges(\"content/course/manipulation/02b_pandas_TP.qmd\")"
      ],
      "id": "cda61fbe",
      "execution_count": null,
      "outputs": []
    },
    {
      "cell_type": "markdown",
      "metadata": {},
      "source": [
        ":::\n",
        "\n",
        "\n",
        "\n",
        "Le tableau suivant récapitule le code équivalent pour avoir des\n",
        "statistiques sur toutes les colonnes d'un dataframe en `R`.\n",
        "\n",
        "\n",
        "| Opération                     | pandas       | dplyr (`R`)    | data.table (`R`)           |\n",
        "|-------------------------------|--------------|----------------|----------------------------|\n",
        "| Nombre de valeurs non manquantes | `df.count()`   | `df %>% summarise_each(funs(sum(!is.na(.))))` | `df[, lapply(.SD, function(x) sum(!is.na(x)))]`\n",
        "| Moyenne de toutes les variables | `df.mean()` | `df %>% summarise_each(funs(mean((., na.rm = TRUE))))` | `df[,lapply(.SD, function(x) mean(x, na.rm = TRUE))]`| TO BE CONTINUED |\n",
        "\n",
        "La méthode `describe` permet de sortir un tableau de statistiques\n",
        "agrégées:\n"
      ],
      "id": "4e403f08"
    },
    {
      "cell_type": "code",
      "metadata": {},
      "source": [
        "df.describe()"
      ],
      "id": "cddca1d9",
      "execution_count": null,
      "outputs": []
    },
    {
      "cell_type": "markdown",
      "metadata": {},
      "source": [
        "### Méthodes relatives aux valeurs manquantes\n",
        "\n",
        "Les méthodes relatives aux valeurs manquantes peuvent être mobilisées\n",
        "en conjonction des méthodes de statistiques agrégées. C'est utiles lorsqu'on\n",
        "désire obtenir une idée de la part de valeurs manquantes dans un jeu de\n",
        "données\n"
      ],
      "id": "bd02d962"
    },
    {
      "cell_type": "code",
      "metadata": {},
      "source": [
        "df.isnull().sum()"
      ],
      "id": "35dda865",
      "execution_count": null,
      "outputs": []
    },
    {
      "cell_type": "markdown",
      "metadata": {},
      "source": [
        "On trouvera aussi la référence à `isna()` qui est la même méthode que `isnull()`.\n",
        "\n",
        "# Graphiques rapides\n",
        "\n",
        "Les méthodes par défaut de graphique\n",
        "(approfondies dans la [partie visualisation](#visualisation))\n",
        "sont pratiques pour\n",
        "produire rapidement un graphique, notamment après des opérations\n",
        "complexes de maniement de données.\n",
        "\n",
        "En effet, on peut appliquer la méthode `plot()` directement à une `pandas.Series`:\n"
      ],
      "id": "34c3ace6"
    },
    {
      "cell_type": "code",
      "metadata": {},
      "source": [
        "#| eval: false\n",
        "\n",
        "df['Déchets'].plot()\n",
        "df['Déchets'].hist()\n",
        "df['Déchets'].plot(kind = 'hist', logy = True)"
      ],
      "id": "abd1c052",
      "execution_count": null,
      "outputs": []
    },
    {
      "cell_type": "code",
      "metadata": {},
      "source": [
        "plt.figure()\n",
        "fig = df['Déchets'].plot()\n",
        "fig\n",
        "#plt.savefig('plot_base.png', bbox_inches='tight')\n",
        "\n",
        "plt.figure()\n",
        "fig = df['Déchets'].hist()\n",
        "fig\n",
        "#plt.savefig('plot_hist.png', bbox_inches='tight')\n",
        "\n",
        "plt.figure()\n",
        "fig = df['Déchets'].plot(kind = 'hist', logy = True)\n",
        "fig\n",
        "#plt.show()\n",
        "#plt.savefig('plot_hist_log.png', bbox_inches='tight')"
      ],
      "id": "27ea2c73",
      "execution_count": null,
      "outputs": []
    },
    {
      "cell_type": "markdown",
      "metadata": {},
      "source": [
        "La sortie est un objet `matplotlib`. La *customisation* de ces\n",
        "figures est ainsi\n",
        "possible (et même désirable car les graphiques `matplotlib`\n",
        "sont, par défaut, assez rudimentaires), nous en verrons quelques exemples.\n",
        "\n",
        "\n",
        "# Accéder à des éléments d'un DataFrame\n",
        "\n",
        "## Sélectionner des colonnes\n",
        "\n",
        "En SQL, effectuer des opérations sur les colonnes se fait avec la commande\n",
        "`SELECT`. Avec `pandas`,\n",
        "pour accéder à une colonne dans son ensemble on peut\n",
        "utiliser plusieurs approches:\n",
        "\n",
        "* `dataframe.variable`, par exemple `df.Energie`.\n",
        "Cette méthode requiert néanmoins d'avoir des\n",
        "noms de colonnes sans espace.\n",
        "* `dataframe[['variable']]` pour renvoyer la variable sous\n",
        "forme de `DataFrame` ou `dataframe['variable']` pour\n",
        "la renvoyer sous forme de `Series`. Par exemple, `df[['Autres transports']]`\n",
        "ou `df['Autres transports']`. C'est une manière préférable de procéder.\n",
        "\n",
        "## Accéder à des lignes\n",
        "\n",
        "Pour accéder à une ou plusieurs valeurs d'un `DataFrame`,\n",
        "il existe deux manières conseillées de procéder, selon la\n",
        "forme des indices de lignes ou colonnes utilisés:\n",
        "\n",
        "* `df.loc`: utilise les labels\n",
        "* `df.iloc`: utilise les indices\n",
        "\n",
        "::: {.cell .markdown}\n",
        "\n",
        "```{=html}\n",
        "<div class=\"alert alert-danger\" role=\"alert\" style=\"color: rgba(0,0,0,.8); background-color: white; margin-top: 1em; margin-bottom: 1em; margin:1.5625emauto; padding:0 .6rem .8rem!important;overflow:hidden; page-break-inside:avoid; border-radius:.25rem; box-shadow:0 .2rem .5rem rgba(0,0,0,.05),0 0 .05rem rgba(0,0,0,.1); transition:color .25s,background-color .25s,border-color .25s ; border-right: 1px solid #dee2e6 ; border-top: 1px solid #dee2e6 ; border-bottom: 1px solid #dee2e6 ; border-left: .2rem solid #ff0039;\">\n",
        "<i class=\"fa fa-exclamation-triangle\"></i> Warning</h3>\n",
        "```\n",
        "\n",
        "\n",
        "Les bouts de code utilisant la structure `df.ix`\n",
        "sont à bannir car la fonction est *deprecated* et peut\n",
        "ainsi disparaître à tout moment.\n",
        "\n",
        "\n",
        "```{=html}\n",
        "</div>\n",
        "```\n",
        "\n",
        ":::\n",
        "\n",
        "`iloc` va se référer à l'indexation de 0 à *N* où *N* est égal à `df.shape[0]` d'un\n",
        "`pandas.DataFrame`. `loc` va se référer aux valeurs de l'index\n",
        "de `df`.\n",
        "\n",
        "Par exemple, avec le `pandas.DataFrame` `df_example`:\n"
      ],
      "id": "5c041063"
    },
    {
      "cell_type": "code",
      "metadata": {},
      "source": [
        "df_example = pd.DataFrame(\n",
        "    {'year': [2012, 2014, 2013, 2014], 'sale': [55, 40, 84, 31]})\n",
        "df_example"
      ],
      "id": "5d97d979",
      "execution_count": null,
      "outputs": []
    },
    {
      "cell_type": "markdown",
      "metadata": {},
      "source": [
        "- `df_example.loc[1, :]` donnera la première ligne de `df` (ligne où l'indice `month` est égal à 1) ;\n",
        "- `df_example.iloc[1, :]` donnera la deuxième ligne (puisque l'indexation en `Python` commence à 0) ;\n",
        "- `df_example.iloc[:, 1]` donnera la deuxième colonne, suivant le même principe.\n",
        "\n",
        "\n",
        "\n",
        "\n",
        "# Principales manipulation de données\n",
        "\n",
        "L'objectif du [TP pandas](#pandasTP) est de se familiariser plus avec ces\n",
        "commandes à travers l'exemple des données des émissions de C02.\n",
        "\n",
        "Les opérations les plus fréquentes en SQL `sont` résumées par le tableau suivant.\n",
        "Il est utile de les connaître (beaucoup de syntaxes de maniement de données\n",
        "reprennent ces termes) car, d'une\n",
        "manière ou d'une autre, elles couvrent la plupart\n",
        "des usages de manipulation des données\n",
        "\n",
        "| Opération | SQL | pandas | dplyr (`R`) | data.table (`R`) |\n",
        "|-----|-----------|--------|-------------|------------------|\n",
        "| Sélectionner des variables par leur nom | `SELECT` | `df[['Autres transports','Energie']]` | `df %>% select(Autres transports, Energie)` | `df[, c('Autres transports','Energie')]` |\n",
        "| Sélectionner des observations selon une ou plusieurs conditions; | `FILTER` | `df[df['Agriculture']>2000]` | `df %>% filter(Agriculture>2000)` | `df[Agriculture>2000]` |\n",
        "| Trier la table selon une ou plusieurs variables | `SORT BY` | `df.sort_values(['Commune','Agriculture'])` | `df %>% arrange(Commune, Agriculture)` | `df[order(Commune, Agriculture)]` |\n",
        "| Ajouter des variables qui sont fonction d’autres variables; | `SELECT *, LOG(Agriculture) AS x FROM df` | `df['x'] = np.log(df['Agriculture'])`  |  `df %>% mutate(x = log(Agriculture))` | `df[,x := log(Agriculture)]` |\n",
        "| Effectuer une opération par groupe | `GROUP BY` | `df.groupby('Commune').mean()` | `df %>% group_by(Commune) %>% summarise(m = mean)` | `df[,mean(Commune), by = Commune]` |\n",
        "| Joindre deux bases de données (*inner join*) | `SELECT * FROM table1 INNER JOIN table2 ON table1.id = table2.x` | `table1.merge(table2, left_on = 'id', right_on = 'x')` | `table1 %>% inner_join(table2, by = c('id'='x'))` | `merge(table1, table2, by.x = 'id', by.y = 'x')` |\n",
        "\n",
        "## Opérations sur les colonnes: `select`, `mutate`, `drop`\n",
        "\n",
        "Les `DataFrames` pandas sont des objets *mutables* en langage `Python`,\n",
        "c'est-à-dire qu'il est possible de faire évoluer le `DataFrame` au grès\n",
        "des opérations. L'opération la plus classique consiste à ajouter ou retirer\n",
        "des variables à la table de données.\n"
      ],
      "id": "0404380f"
    },
    {
      "cell_type": "code",
      "metadata": {},
      "source": [
        "df_new = df.copy()"
      ],
      "id": "9c2dfce1",
      "execution_count": null,
      "outputs": []
    },
    {
      "cell_type": "markdown",
      "metadata": {},
      "source": [
        "::: {.cell .markdown}\n",
        "\n",
        "```{=html}\n",
        "<div class=\"alert alert-danger\" role=\"alert\" style=\"color: rgba(0,0,0,.8); background-color: white; margin-top: 1em; margin-bottom: 1em; margin:1.5625emauto; padding:0 .6rem .8rem!important;overflow:hidden; page-break-inside:avoid; border-radius:.25rem; box-shadow:0 .2rem .5rem rgba(0,0,0,.05),0 0 .05rem rgba(0,0,0,.1); transition:color .25s,background-color .25s,border-color .25s ; border-right: 1px solid #dee2e6 ; border-top: 1px solid #dee2e6 ; border-bottom: 1px solid #dee2e6 ; border-left: .2rem solid #ff0039;\">\n",
        "<i class=\"fa fa-exclamation-triangle\"></i> Warning</h3>\n",
        "```\n",
        "\n",
        "\n",
        "Attention au comportement de `pandas` lorsqu'on crée une duplication\n",
        "d'un `DataFrame`.\n",
        "\n",
        "Par défaut, `pandas` effectue une copie par référence. Dans ce\n",
        "cas, les deux objets (la copie et l'objet copié) restent reliés. Les colonnes\n",
        "crées sur l'un vont être répercutées sur l'autre. Ce comportement permet de\n",
        "limiter l'inflation en mémoire de `Python`. En faisant ça, le deuxième\n",
        "objet prend le même espace mémoire que le premier. Le package `data.table`\n",
        "en `R` adopte le même comportement, contrairement à `dplyr`.\n",
        "\n",
        "Cela peut amener à quelques surprises si ce comportement d'optimisation\n",
        "n'est pas anticipé. Si vous voulez, par sécurité, conserver intact le\n",
        "premier DataFrame, faites appel à une copie profonde (*deep copy*) en\n",
        "utilisant la méthode `copy`, comme ci-dessus.\n",
        "\n",
        "Attention toutefois, cela a un coût mémoire.\n",
        "Avec des données volumineuses, c'est une pratique à utiliser avec précaution.\n",
        "\n",
        "\n",
        "```{=html}\n",
        "</div>\n",
        "```\n",
        "\n",
        ":::\n",
        "\n",
        "\n",
        "\n",
        "La manière la plus simple d'opérer pour ajouter des colonnes est\n",
        "d'utiliser la réassignation. Par exemple, pour créer une variable\n",
        "`x` qui est le `log` de la\n",
        "variable `Agriculture`:\n"
      ],
      "id": "84f86819"
    },
    {
      "cell_type": "code",
      "metadata": {},
      "source": [
        "df_new['x'] = np.log(df_new['Agriculture'])"
      ],
      "id": "70457e58",
      "execution_count": null,
      "outputs": []
    },
    {
      "cell_type": "markdown",
      "metadata": {},
      "source": [
        "Il est possible d'appliquer cette approche sur plusieurs colonnes. Un des\n",
        "intérêts de cette approche est qu'elle permet de recycler le nom de colonnes.\n"
      ],
      "id": "8c9598e0"
    },
    {
      "cell_type": "code",
      "metadata": {},
      "source": [
        "vars = ['Agriculture', 'Déchets', 'Energie']\n",
        "\n",
        "df_new[[v + \"_log\" for v in vars]] = np.log(df_new[vars])\n",
        "df_new"
      ],
      "id": "1acb961d",
      "execution_count": null,
      "outputs": []
    },
    {
      "cell_type": "markdown",
      "metadata": {},
      "source": [
        "Il est également possible d'utiliser la méthode `assign`. Pour des opérations\n",
        "vectorisées, comme le sont les opérateurs de `numpy`, cela n'a pas d'intérêt.\n",
        "\n",
        "Cela permet notamment d'enchainer les opérations sur un même `DataFrame` (notamment grâce au `pipe` que\n",
        "nous verrons plus loin).\n",
        "Cette approche utilise généralement\n",
        "des *lambda functions*. Par exemple le code précédent (celui concernant une\n",
        "seule variable) prendrait la forme:\n"
      ],
      "id": "454a9bab"
    },
    {
      "cell_type": "code",
      "metadata": {},
      "source": [
        "df_new.assign(Energie_log = lambda x: np.log(x['Energie']))"
      ],
      "id": "0e97e5d3",
      "execution_count": null,
      "outputs": []
    },
    {
      "cell_type": "markdown",
      "metadata": {},
      "source": [
        "Dans les méthodes suivantes, il est possible de modifier le `pandas.DataFrame`\n",
        "*en place*, c'est à dire en ne le réassignant pas, avec le paramètre `inplace = True`.\n",
        "Par défaut, `inplace` est égal à `False` et pour modifier le `pandas.DataFrame`,\n",
        "il convient de le réassigner.\n",
        "\n",
        "On peut facilement renommer des variables avec la méthode `rename` qui\n",
        "fonctionne bien avec des dictionnaires (pour renommer des colonnes il faut\n",
        "préciser le paramètre `axis = 1`):\n"
      ],
      "id": "32ca8baf"
    },
    {
      "cell_type": "code",
      "metadata": {},
      "source": [
        "df_new = df_new.rename({\"Energie\": \"eneg\", \"Agriculture\": \"agr\"}, axis=1)"
      ],
      "id": "e4fd6ba4",
      "execution_count": null,
      "outputs": []
    },
    {
      "cell_type": "markdown",
      "metadata": {},
      "source": [
        "Enfin, pour effacer des colonnes, on utilise la méthode `drop` avec l'argument\n",
        "`columns`:\n"
      ],
      "id": "58d8caff"
    },
    {
      "cell_type": "code",
      "metadata": {},
      "source": [
        "df_new = df_new.drop(columns = [\"eneg\", \"agr\"])"
      ],
      "id": "4f04f35e",
      "execution_count": null,
      "outputs": []
    },
    {
      "cell_type": "markdown",
      "metadata": {},
      "source": [
        "## Réordonner\n",
        "\n",
        "La méthode `sort_values` permet de réordonner un `DataFrame`. Par exemple,\n",
        "si on désire classer par ordre décroissant de consommation de CO2 du secteur\n",
        "résidentiel, on fera\n"
      ],
      "id": "3c14548c"
    },
    {
      "cell_type": "code",
      "metadata": {},
      "source": [
        "df = df.sort_values(\"Résidentiel\", ascending = False)"
      ],
      "id": "c25afe4a",
      "execution_count": null,
      "outputs": []
    },
    {
      "cell_type": "markdown",
      "metadata": {},
      "source": [
        "Ainsi, en une ligne de code, on identifie les villes où le secteur\n",
        "résidentiel consomme le plus.\n",
        "\n",
        "\n",
        "## Filtrer\n",
        "\n",
        "L'opération de sélection de lignes s'appelle `FILTER` en SQL. Elle s'utilise\n",
        "en fonction d'une condition logique (clause `WHERE`). On sélectionne les\n",
        "données sur une condition logique. Il existe plusieurs méthodes en `pandas`.\n",
        "\n",
        "La plus simple est d'utiliser les *boolean mask*, déjà vus dans le chapitre\n",
        "[`numpy`](#numpy).\n",
        "\n",
        "Par exemple, pour sélectionner les communes dans les Hauts-de-Seine, on\n",
        "peut utiliser le résultat de la méthode `str.startswith` (qui renvoie\n",
        "`True` ou `False`) directement dans les crochets:\n"
      ],
      "id": "409cd22a"
    },
    {
      "cell_type": "code",
      "metadata": {},
      "source": [
        "df[df['INSEE commune'].str.startswith(\"92\")].head(2)"
      ],
      "id": "53cfc7f2",
      "execution_count": null,
      "outputs": []
    },
    {
      "cell_type": "markdown",
      "metadata": {},
      "source": [
        "Pour remplacer des valeurs spécifiques, on utilise la méthode `where` ou une\n",
        "réassignation couplée à la méthode précédente.\n",
        "\n",
        "Par exemple, pour assigner des valeurs manquantes aux départements du 92,\n",
        "on peut faire cela\n"
      ],
      "id": "f88d2364"
    },
    {
      "cell_type": "code",
      "metadata": {},
      "source": [
        "df_copy = df.copy()\n",
        "df_copy = df_copy.where(~df['INSEE commune'].str.startswith(\"92\"))"
      ],
      "id": "aab3fa2e",
      "execution_count": null,
      "outputs": []
    },
    {
      "cell_type": "markdown",
      "metadata": {},
      "source": [
        "et vérifier les résultats:\n"
      ],
      "id": "64dc46d7"
    },
    {
      "cell_type": "code",
      "metadata": {},
      "source": [
        "df_copy[df['INSEE commune'].str.startswith(\"92\")].head(2)\n",
        "df_copy[~df['INSEE commune'].str.startswith(\"92\")].head(2)"
      ],
      "id": "ad52b485",
      "execution_count": null,
      "outputs": []
    },
    {
      "cell_type": "markdown",
      "metadata": {},
      "source": [
        "ou alors utiliser une réassignation plus classique:\n"
      ],
      "id": "7299fe49"
    },
    {
      "cell_type": "code",
      "metadata": {},
      "source": [
        "df_copy = df.copy()\n",
        "df_copy[df_copy['INSEE commune'].str.startswith(\"92\")] = np.nan"
      ],
      "id": "145b599a",
      "execution_count": null,
      "outputs": []
    },
    {
      "cell_type": "markdown",
      "metadata": {},
      "source": [
        "Il est conseillé de filtrer avec `loc` en utilisant un masque.\n",
        "En effet, contrairement à `df[mask]`, `df.loc[mask, :]` permet d'indiquer clairement\n",
        "à Python que l'on souhaite appliquer le masque aux labels de l'index.\n",
        "Ce n'est pas le cas avec `df[mask]`.\n",
        "D'ailleurs, lorsqu'on utilise la syntaxe `df[mask]`, `pandas` renvoie généralement un *warning*\n",
        "\n",
        "## Opérations par groupe\n",
        "\n",
        "En `SQL`, il est très simple de découper des données pour\n",
        "effectuer des opérations sur des blocs cohérents et recollecter des résultats\n",
        "dans la dimension appropriée.\n",
        "La logique sous-jacente est celle du *split-apply-combine* qui est repris\n",
        "par les langages de manipulation de données, auxquels `pandas`\n",
        "[ne fait pas exception](https://pandas.pydata.org/pandas-docs/stable/user_guide/groupby.html).\n",
        "\n",
        "L'image suivante, issue de\n",
        "[ce site](https://unlhcc.github.io/r-novice-gapminder/16-plyr/)\n",
        "représente bien la manière dont fonctionne l'approche\n",
        "`split`-`apply`-`combine`\n",
        "\n",
        "![Split-apply-combine](https://unlhcc.github.io/r-novice-gapminder/fig/12-plyr-fig1.png)\n",
        "\n",
        "\n",
        "Ce [tutoriel](https://realpython.com/pandas-groupby/) sur le sujet\n",
        "est particulièrement utile.\n",
        "\n",
        "Pour donner quelques exemples, on peut créer une variable départementale qui\n",
        "servira de critère de groupe.\n"
      ],
      "id": "05fba714"
    },
    {
      "cell_type": "code",
      "metadata": {},
      "source": [
        "df['dep'] = df['INSEE commune'].str[:2]"
      ],
      "id": "30d2de73",
      "execution_count": null,
      "outputs": []
    },
    {
      "cell_type": "markdown",
      "metadata": {},
      "source": [
        "En `pandas`, on utilise `groupby` pour découper les données selon un ou\n",
        "plusieurs axes. Techniquement, cette opération consiste à créer une association\n",
        "entre des labels (valeurs des variables de groupe) et des\n",
        "observations.\n",
        "\n",
        "Par exemple, pour compter le nombre de communes par département en SQL, on\n",
        "utiliserait la requête suivante:\n",
        "\n",
        "```sql\n",
        "SELECT dep, count(INSEE commune)\n",
        "FROM df\n",
        "GROUP BY dep;\n",
        "```\n",
        "\n",
        "Ce qui, en `pandas`, donne:\n"
      ],
      "id": "7edb1f63"
    },
    {
      "cell_type": "code",
      "metadata": {},
      "source": [
        "df.groupby('dep')[\"INSEE commune\"].count()"
      ],
      "id": "717dcb9a",
      "execution_count": null,
      "outputs": []
    },
    {
      "cell_type": "markdown",
      "metadata": {},
      "source": [
        "La syntaxe est quasiment transparente. On peut bien-sûr effectuer des opérations\n",
        "par groupe sur plusieurs colonnes. Par exemple,\n"
      ],
      "id": "92aabb8a"
    },
    {
      "cell_type": "code",
      "metadata": {},
      "source": [
        "df.groupby('dep').mean(numeric_only = True)"
      ],
      "id": "47601b48",
      "execution_count": null,
      "outputs": []
    },
    {
      "cell_type": "markdown",
      "metadata": {},
      "source": [
        "A noter que la variable de groupe, ici `dep`, devient, par défaut, l'index\n",
        "du DataFrame de sortie. Si on avait utilisé plusieurs variables de groupe,\n",
        "on obtiendrait un objet multi-indexé. Sur la gestion des `multi-index`, on\n",
        "pourra se référer à l'ouvrage `Modern Pandas` dont la référence est\n",
        "donnée en fin de cours.\n",
        "\n",
        "Tant qu'on n'appelle pas une action sur un `DataFrame` par groupe, du type\n",
        "`head` ou `display`, `pandas` n'effectue aucune opération. On parle de\n",
        "*lazy evaluation*. Par exemple, le résultat de `df.groupby('dep')` est\n",
        "une transformation qui n'est pas encore évaluée:\n"
      ],
      "id": "1e6e103d"
    },
    {
      "cell_type": "code",
      "metadata": {},
      "source": [
        "df.groupby('dep')"
      ],
      "id": "021d86a4",
      "execution_count": null,
      "outputs": []
    },
    {
      "cell_type": "markdown",
      "metadata": {},
      "source": [
        "Il est possible d'appliquer plus d'une opération à la fois grâce à la méthode\n",
        "`agg`. Par exemple, pour obtenir à la fois le minimum, la médiane et le maximum\n",
        "de chaque département, on peut faire:\n"
      ],
      "id": "e3a2e4cd"
    },
    {
      "cell_type": "code",
      "metadata": {},
      "source": [
        "numeric_columns = df.select_dtypes(['number']).columns\n",
        "df.loc[:, numeric_columns.tolist() + [\"dep\"] ].groupby('dep').agg(['min',\"median\",\"max\"], numeric_only = True)"
      ],
      "id": "4e2d21ab",
      "execution_count": null,
      "outputs": []
    },
    {
      "cell_type": "markdown",
      "metadata": {},
      "source": [
        "La première ligne est présente pour nous faciliter la récupération des noms de colonnes des variables\n",
        "numériques\n",
        "\n",
        "## Appliquer des fonctions\n",
        "\n",
        "`pandas` est, comme on a pu le voir, un package très flexible, qui\n",
        "propose une grande variété de méthodes optimisées. Cependant, il est fréquent\n",
        "d'avoir besoin de méthodes non implémentées.\n",
        "\n",
        "Dans ce cas, on recourt souvent aux `lambda` functions. Par exemple, si\n",
        "on désire connaître les communes dont le nom fait plus de 40 caractères,\n",
        "on peut appliquer la fonction `len` de manière itérative:\n"
      ],
      "id": "49e66e93"
    },
    {
      "cell_type": "code",
      "metadata": {},
      "source": [
        "# Noms de communes superieurs à 40 caracteres\n",
        "df[df['Commune'].apply(lambda s: len(s)>40)]"
      ],
      "id": "c5563a00",
      "execution_count": null,
      "outputs": []
    },
    {
      "cell_type": "markdown",
      "metadata": {},
      "source": [
        "Cependant, toutes les `lambda` functions ne se justifient pas.\n",
        "Par exemple, prenons\n",
        "le résultat d'agrégation précédent. Imaginons qu'on désire avoir les résultats\n",
        "en milliers de tonnes. Dans ce cas, le premier réflexe est d'utiliser\n",
        "la `lambda` function suivante:\n"
      ],
      "id": "e7446f72"
    },
    {
      "cell_type": "code",
      "metadata": {},
      "source": [
        "numeric_columns = df.select_dtypes(['number']).columns\n",
        "(df\n",
        "    .loc[:, numeric_columns.tolist() + [\"dep\"] ]\n",
        "    .groupby('dep')\n",
        "    .agg(['min',\"median\",\"max\"])\n",
        "    .apply(lambda s: s/1000)\n",
        ")"
      ],
      "id": "a46ccabf",
      "execution_count": null,
      "outputs": []
    },
    {
      "cell_type": "markdown",
      "metadata": {},
      "source": [
        "En effet, cela effectue le résultat désiré. Cependant, il y a mieux: utiliser\n",
        "la méthode `div`:\n"
      ],
      "id": "975c1975"
    },
    {
      "cell_type": "code",
      "metadata": {},
      "source": [
        "#| eval: false\n",
        "import timeit\n",
        "df_numeric = df.loc[:, numeric_columns.tolist() + [\"dep\"] ]\n",
        "%timeit df_numeric.groupby('dep').agg(['min',\"median\",\"max\"]).div(1000)\n",
        "%timeit df_numeric.groupby('dep').agg(['min',\"median\",\"max\"]).apply(lambda s: s/1000)"
      ],
      "id": "258f8d77",
      "execution_count": null,
      "outputs": []
    },
    {
      "cell_type": "markdown",
      "metadata": {},
      "source": [
        "La méthode `div` est en moyenne plus rapide et a un temps d'exécution\n",
        "moins variable. Dans ce cas, on pourrait même utiliser le principe\n",
        "du *broadcasting* de numpy (cf. [chapitre numpy](numpy)) qui offre\n",
        "des performances équivalentes:\n"
      ],
      "id": "cf6d7df2"
    },
    {
      "cell_type": "code",
      "metadata": {},
      "source": [
        "#| eval: false\n",
        "%timeit df_numeric.groupby('dep').agg(['min',\"median\",\"max\"])/1000"
      ],
      "id": "c170237a",
      "execution_count": null,
      "outputs": []
    },
    {
      "cell_type": "markdown",
      "metadata": {},
      "source": [
        "`apply` est plus rapide qu'une boucle (en interne, `apply` utilise `Cython`\n",
        "pour itérer) mais reste moins rapide qu'une solution vectorisée quand\n",
        "elle existe. Ce [site](https://realpython.com/fast-flexible-pandas/#pandas-apply)\n",
        "propose des solutions, par exemple les méthodes `isin` ou `digitize`, pour\n",
        "éviter de manuellement créer des boucles lentes.\n",
        "\n",
        "En particulier, il faut noter que `apply` avec le paramètre `axis=1` est en générale lente.\n",
        "\n",
        "## Joindre\n",
        "\n",
        "\n",
        "Il est commun de devoir combiner des données issues de sources différentes.\n",
        "Nous allons ici nous focaliser sur le cas le plus favorable qui est la situation\n",
        "où une information permet d'apparier de manière exacte deux bases de données (autrement nous\n",
        "serions dans une situation, beaucoup plus complexe, d'appariement flou<a name=\"cite_ref-6\"></a>[<sup>[6]</sup>](#cite_note-6)).\n",
        "\n",
        "\n",
        "```{=html}\n",
        "<a name=\"cite_note-6\"></a>6. [^](#cite_ref-6)\n",
        "```\n",
        "\n",
        " Sur l'appariement flou, se reporter aux chapitres présentant `ElasticSearch`. \n",
        "\n",
        "La situation typique est l'appariement entre deux sources de données selon un identifiant\n",
        "individuel. Ici, il s'agit d'un identifiant de code commune.\n",
        "\n",
        "Il est recommandé de lire [ce guide assez complet sur la question des jointures avec R](https://www.book.utilitr.org/jointures.html)\n",
        "qui donne des recommandations également utiles pour un utilisateur de `Python`.\n",
        "\n",
        "![](https://pics.me.me/thumb_left-join-right-join-inner-join-full-outer-join-imgflip-com-66845242.png)\n",
        "\n",
        "On utilise de manière indifférente les termes *merge* ou *join*.\n",
        "Le deuxième terme provient de la syntaxe SQL.\n",
        "En `Pandas`, dans la plupart des cas, on peut utiliser indifféremment `df.join` et `df.merge`\n",
        "\n",
        "![](pandas_join.png)\n",
        "\n",
        "Il est aussi possible de réaliser un merge en utilisant la fonction `pandas.concat()` avec `axis=1`.\n",
        "Se référer à la documentation de `concat` pour voir les options possibles.\n",
        "\n",
        "## Reshape\n",
        "\n",
        "On présente généralement deux types de données:\n",
        "\n",
        "* format __wide__: les données comportent des observations répétées, pour un même individu (ou groupe), dans des colonnes différentes\n",
        "* format __long__: les données comportent des observations répétées, pour un même individu, dans des lignes différentes avec une colonne permettant de distinguer les niveaux d'observations\n",
        "\n",
        "Un exemple de la distinction entre les deux peut être emprunté à l'ouvrage de référence d'Hadley Wickham, *R for Data Science*:\n",
        "\n",
        "![](https://d33wubrfki0l68.cloudfront.net/3aea19108d39606bbe49981acda07696c0c7fcd8/2de65/images/tidy-9.png)\n",
        "\n",
        "\n",
        "L'aide mémoire suivante aidera à se rappeler les fonctions à appliquer si besoin:\n",
        "\n",
        "![](reshape.png)\n",
        "\n",
        "Le fait de passer d'un format *wide* au format *long* (ou vice-versa) peut être extrêmement pratique car\n",
        "certaines fonctions sont plus adéquates sur une forme de données ou sur l'autre.\n",
        "En règle générale, avec `Python` comme avec `R`, les formats *long* sont souvent préférables.\n",
        "\n",
        "Le chapitre suivant, qui fait office de TP, proposera des applications de ces principes\n",
        "\n",
        "::: {.cell .markdown}"
      ],
      "id": "5972acb9"
    },
    {
      "cell_type": "code",
      "metadata": {},
      "source": [
        "#| output: 'asis'\n",
        "#| include: true\n",
        "#| eval: true\n",
        "\n",
        "import sys\n",
        "sys.path.insert(1, '../../../../') #insert the utils module\n",
        "from utils import print_badges\n",
        "\n",
        "#print_badges(__file__)\n",
        "print_badges(\"content/course/manipulation/02b_pandas_TP.qmd\")"
      ],
      "id": "17044c4a",
      "execution_count": null,
      "outputs": []
    },
    {
      "cell_type": "markdown",
      "metadata": {},
      "source": [
        ":::\n",
        "\n",
        "## Les pipe\n",
        "\n",
        "En général, dans un projet, le nettoyage de données va consister en un ensemble de\n",
        "méthodes appliquées à un `pandas.DataFrame`.\n",
        "On a vu que `assign` permettait de créer une variable dans un `DataFrame`.\n",
        "Il est également possible d'appliquer une fonction, appelée par exemple `my_udf` au\n",
        "DataFrame grâce à `pipe`:\n",
        "\n",
        "```python\n",
        "df = (pd.read_csv(path2data)\n",
        "            .pipe(my_udf))\n",
        "```\n",
        "\n",
        "L'utilisation des `pipe` rend le code très lisible et peut être très\n",
        "pratique lorsqu'on enchaine des opérations sur le même\n",
        "_dataset_. \n",
        "\n",
        "# Quelques enjeux de performance\n",
        "\n",
        "La librairie `Dask` intègre la structure de `numpy`, `pandas` et `sklearn`.\n",
        "Elle a vocation à traiter de données en grande dimension, ainsi elle ne sera pas\n",
        "optimale pour des données qui tiennent très bien en RAM.\n",
        "Il s'agit d'une librairie construite sur la parallélisation.\n",
        "[Un chapitre dans ce cours](/dask.html) lui est consacré\n",
        "Pour aller plus loin, se référer à la [documentation de `Dask`](https://docs.dask.org/en/latest/).\n",
        "\n",
        "\n",
        "# Références\n",
        "\n",
        "* Le site\n",
        "[pandas.pydata](https://pandas.pydata.org/pandas-docs/stable/user_guide/basics.html)\n",
        "fait office de référence\n",
        "\n",
        "* Le livre `Modern Pandas` de Tom Augspurger: https://tomaugspurger.github.io/modern-1-intro.html\n",
        "\n",
        "::: {#refs}\n",
        ":::\n"
      ],
      "id": "7be986a1"
    }
  ],
  "metadata": {
    "kernelspec": {
      "name": "python3",
      "language": "python",
      "display_name": "Python 3 (ipykernel)"
    }
  },
  "nbformat": 4,
  "nbformat_minor": 5
}