{
 "cells": [
  {
   "cell_type": "markdown",
   "id": "a229d859",
   "metadata": {},
   "source": [
    "#  Données spatiales: découverte de geopandas\n",
    "\n"
   ]
  },
  {
   "cell_type": "markdown",
   "id": "eb7dc726",
   "metadata": {},
   "source": [
    "<a href=\"https://github.com/linogaliana/python-datascientist/blob/master//__w/python-datascientist/python-datascientist/notebooks/course/manipulation/03_geopandas_tutorial.ipynb\" class=\"github\"><i class=\"fab fa-github\"></i></a>\n",
    "[![Download](https://img.shields.io/badge/Download-Notebook-important?logo=Jupyter)](https://downgit.github.io/#/home?url=https://github.com/linogaliana/python-datascientist/blob/master//__w/python-datascientist/python-datascientist/notebooks/course/manipulation/03_geopandas_tutorial.ipynb)\n",
    "[![nbviewer](https://img.shields.io/badge/Visualize-nbviewer-blue?logo=Jupyter)](https://nbviewer.jupyter.org/github/linogaliana/python-datascientist/blob/master//__w/python-datascientist/python-datascientist/notebooks/course/manipulation/03_geopandas_tutorial.ipynb)\n",
    "[![Onyxia](https://img.shields.io/badge/SSPcloud-Tester%20via%20SSP--cloud-informational&color=yellow?logo=Python)](https://datalab.sspcloud.fr/launcher/inseefrlab-helm-charts-datascience/jupyter?autoLaunch=true&onyxia.friendlyName=%C2%ABpython-datascience%C2%BB&init.personalInit=%C2%ABhttps%3A%2F%2Fraw.githubusercontent.com%2Flinogaliana%2Fpython-datascientist%2Fmaster%2Fsspcloud%2Finit-jupyter.sh%C2%BB&init.personalInitArgs=%C2%ABmanipulation%2003_geopandas_tutorial%C2%BB&security.allowlist.enabled=false)\n",
    "<br>\n",
    "[![Binder](https://img.shields.io/badge/Launch-Binder-E66581.svg?logo=data:image/png;base64,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)](https://mybinder.org/v2/gh/linogaliana/python-datascientist/master?filepath=/__w/python-datascientist/python-datascientist/notebooks/course/manipulation/03_geopandas_tutorial.ipynb)\n",
    "[![Open In Colab](https://colab.research.google.com/assets/colab-badge.svg)](http://colab.research.google.com/github/linogaliana/python-datascientist/blob/master//__w/python-datascientist/python-datascientist/notebooks/course/manipulation/03_geopandas_tutorial.ipynb)\n",
    "[![githubdev](https://open.vscode.dev/badges/open-in-vscode.svg)](https://github.dev/linogaliana/python-datascientist//__w/python-datascientist/python-datascientist/notebooks/course/manipulation/03_geopandas_tutorial.ipynb)\n",
    "\n",
    "Dans ce tutoriel, nous allons utiliser:\n",
    "\n",
    "<!----\n",
    "* [Réseau de pistes cyclables de la ville de Paris](https://opendata.paris.fr/explore/dataset/reseau-cyclable/table/?disjunctive.typologie_simple&disjunctive.bidirectionnel&disjunctive.statut&disjunctive.sens_velo&disjunctive.voie&disjunctive.arrdt&disjunctive.bois&disjunctive.position&disjunctive.circulation&disjunctive.piste&disjunctive.couloir_bus&disjunctive.type_continuite&disjunctive.reseau&basemap=jawg.streets&location=12,48.85943,2.3493)\n",
    "------>\n",
    "\n",
    "* [Localisations des stations velib](https://opendata.paris.fr/explore/dataset/velib-emplacement-des-stations/download/?format=geojson&timezone=Europe/Berlin&lang=fr)\n",
    "* [Carte des limites administratives françaises](https://www.data.gouv.fr/fr/datasets/r/07b7c9a2-d1e2-4da6-9f20-01a7b72d4b12)\n",
    "* [Arrondissements parisiens](https://opendata.paris.fr/explore/dataset/arrondissements/download/?format=geojson&timezone=Europe/Berlin&lang=fr)\n",
    "\n",
    "La représentation des données, notamment la cartographie, est présentée plus\n",
    "amplement dans la partie [visualiser](#visualiser). Quelques méthodes\n",
    "pour faire rapidement des cartes seront présentées ici mais\n",
    "ce n'est pas l'objet de ce chapitre.\n",
    "\n",
    "Ce tutoriel s'inspire beaucoup d'un autre tutoriel que j'ai fait pour\n",
    "`R` disponible\n",
    "[dans la documentation `utilitr`](https://www.book.utilitr.org/spatdata.html).\n",
    "Il peut servir de pendant à celui-ci pour l'utilisateur de `R`. "
   ]
  },
  {
   "cell_type": "markdown",
   "id": "d8dfc24a",
   "metadata": {},
   "source": [
    "Quelques installations préalables sont nécessaires : \n"
   ]
  },
  {
   "cell_type": "code",
   "execution_count": null,
   "id": "0f8f376d",
   "metadata": {},
   "outputs": [],
   "source": [
    "!pip install pandas fiona shapely pyproj rtree # à faire obligatoirement en premier pour utiliser rtree ou pygeos pour les jointures spatiales\n",
    "!pip install contextily\n",
    "!pip install geopandas"
   ]
  },
  {
   "cell_type": "markdown",
   "id": "4adbaffa",
   "metadata": {},
   "source": [
    "Pour être en mesure d'exécuter ce tutoriel, les imports suivants\n",
    "seront utiles.\n"
   ]
  },
  {
   "cell_type": "code",
   "execution_count": null,
   "id": "2898eceb",
   "metadata": {
    "lines_to_next_cell": 2
   },
   "outputs": [],
   "source": [
    "import geopandas as gpd\n",
    "import contextily as ctx\n",
    "import matplotlib.pyplot as plt"
   ]
  },
  {
   "cell_type": "markdown",
   "id": "5cc7498f",
   "metadata": {},
   "source": [
    "# Données spatiales: quelle différence avec des données traditionnelles ?\n",
    "\n",
    "**Le terme \"données spatiales\" désigne les données qui portent sur les caractéristiques géographiques des objets (localisation, contours, liens)**. Les caractéristiques géographiques des objets sont décrites à l'aide d'un **système de coordonnées**\n",
    "qui permettent une représentation dans un espace euclidien ($(x,y)$).\n",
    "Le passage de l'espace réel (la Terre, qui est une sphère) à l'espace plan\n",
    "se fait grâce à un **système de projection**. Voici quelques exemples\n",
    "de données spatiales:\n",
    "\n",
    "* Une table décrivant des bâtiments, avec les coordonnées géographiques de chaque bâtiment;\n",
    "* Le découpage communal du territoire, avec le contour du territoire de chaque commune;\n",
    "* Les routes terrestres, avec les coordonnées décrivant leur parcours.\n",
    "\n",
    "Les données spatiales rassemblent classiquement deux types de données :\n",
    "\n",
    "1. des **données géographiques** (ou géométries): objets géométriques tels que des points, des vecteurs, des polygones, ou des maillages (*raster*). Exemple: la forme de chaque chaque commune, les coordonnées d'un bâtiment;\n",
    "2. des **données attributaires** (ou attributs): des mesures et des caractéristiques associés aux objets géométriques. Exemple: la population de chaque commune, le nombre de fenêtres et le nombre d'étages d'un bâtiment.\n",
    "\n",
    "**Les données spatiales sont fréquemment traitées à l'aide d'un système d'information géographique (SIG)**, c'est-à-dire un système d'information capable de stocker, d'organiser et de présenter des données alphanumériques spatialement référencées par des coordonnées dans un système de référence (CRS). `Python` dispose de fonctionnalités lui permettant de réaliser les mêmes tâches qu'un SIG (traitement de données spatiales, représentations cartographiques).\n",
    "\n",
    "**Les systèmes de projection font l'objet de standards internationaux et sont souvent désignés par des codes dits codes EPSG**. Ce [site](https://epsg.io/) est un bon aide-mémoire. Les plus fréquents, pour les utilisateurs français, sont les suivants (plus d'infos [ici](https://geodesie.ign.fr/contenu/fichiers/documentation/SRCfrance.pdf)):\n",
    "\n",
    "* `2154`: système de projection Lambert 93. Il s'agit du système de projection officiel. La plupart des données diffusées par l'administration pour la métropole sont disponibles dans ce système de projection. \n",
    "* `27572`: Lambert II étendu. Il s'agit de l'ancien système de projection officiel. Les données spatiales anciennes peuvent être dans ce format.\n",
    "* `4326`: WGS 84 ou système de pseudo-Mercator. Attention, ce n'est en réalité pas un système de projection mais un système de coordonnées (longitude / latitude) qui permet simplement un repérage angulaire sur l'ellipsoïde. Il est utilisé pour les données GPS.\n",
    "\n",
    "## De `pandas` à `geopandas`\n",
    "\n",
    "Le *package* `geopandas` est une boîte à outils conçue pour faciliter la manipulation de données spatiales. **La grande force de `geopandas` est qu'il permet de manipuler des données spatiales comme s'il s'agissait de données traditionnelles**, car il repose sur le standard ISO 19125 [*simple feature access*](https://en.wikipedia.org/wiki/Simple_Features) défini conjointement par l'*Open Geospatial Consortium (OGC)* et l'*International Organization for Standardization (ISO)*. \n",
    "\n",
    "Par rapport à un DataFrame standard, un objet `geopandas` comporte\n",
    "une colonne supplémentaire: `geometry`. Elle stocke les coordonnées des\n",
    "objets géographiques (ou ensemble de coordonnées s'agissant de contours). Un objet `geopandas` hérite des propriétés d'un \n",
    "DataFrame pandas mais propose des méthodes adaptées au traitement des données spatiales. \n",
    "\n",
    "Ainsi, grâce à  `geopandas`, on pourra effectuer des manipulations sur les attributs des données comme avec `pandas` mais on pourra également faire des manipulations sur la dimension spatiale des données. En particulier,\n",
    "\n",
    "* Calculer des distances et des surfaces;\n",
    "* Agréger rapidement des zonages (regrouper les communes en département par exemple);\n",
    "* Trouver dans quelle commune se trouve un bâtiment à partir de ses coordonnées géographiques;\n",
    "* Recalculer des coordonnées dans un autre système de projection.\n",
    "* Faire une carte, rapidement et simplement\n",
    "\n",
    "Les manipulations de données sur un objet geopandas sont nettement plus lentes que sur un DataFrame traditionnel (car python doit gérer les informations géographiques pendant la manipulation des données). Lorsque vous manipulez des données de grandes dimensions, il peut être préférable d’effectuer les opérations sur les données avant de joindre une géométrie à celles-ci.\n",
    "\n",
    "Par rapport à un logiciel spécialisé comme `QGIS`, `python` permettra \n",
    "d'automatiser le traitement et la représentation des données. D'ailleurs,\n",
    "`QGIS` utilise lui-même `python`..."
   ]
  },
  {
   "cell_type": "markdown",
   "id": "ad80d24e",
   "metadata": {},
   "source": [
    "# Importer des données spatiales\n",
    "\n",
    "Les données spatiales sont plus riches que les données traditionnelles car elles\n",
    "incluent, habituellement, des éléments supplémentaires pour placer dans\n",
    "un espace cartésien les objets. Cette dimension supplémentaire peut être simple\n",
    "(un point comporte deux informations supplémentaire: $x$ et $y$) ou\n",
    "assez complexe (polygones, lignes avec direction, etc.)\n",
    "\n",
    "Les formats les plus communs de données spatiales sont les suivants:\n",
    "\n",
    "* _shapefile_ (`.shp`): format (**propriétaire**) le plus commun de données géographiques.\n",
    "La table de données (attributs) est stockée dans un fichier séparé des\n",
    "données spatiales. En faisant `geopandas.read_file(\"monfichier.shp\")`, le\n",
    "package fait lui-même le lien entre les observations et leur représentation spatiale ;\n",
    "* _geojson_ (`.json`) : ce format, non préconisé par l'OGC est largement utilisé pour le développement web comme dans la librairie `Leaflet`. La dimension spatiale est stockée dans le même fichier que les attributs. Ces fichiers sont généralement beaucoup plus légers que les *shapefiles* mais possèdent des limites s'agissant de gros jeux de données. \n",
    "* _geopackage_ (`.gpkg`) : ce (relativement) nouveau format **libre** en un seul fichier également (lui recommandé par l'OGC) vise progressivement à se substituer au shapefile. Il est par exemple le format par défaut dans QGIS. \n",
    "\n",
    "Cette [page](https://si.ecrins-parcnational.com/blog/2020-02-geojson-shapefile-geopackage.html) compare plus en détail ces trois types de formats de données géographiques. \n",
    "\n",
    "L'aide de [geopandas](https://geopandas.org/io.html) propose des bouts de code en fonction des différentes situations dans lesquelles on se trouve.\n",
    "\n",
    "### Exemple: récupérer les découpages territoriaux\n",
    "\n",
    "L'un des fonds de carte les plus fréquents qu'on utilise est celui des\n",
    "limites administratives. Elles peuvent être trouvées sur le\n",
    "[site de l'IGN](https://geoservices.ign.fr/adminexpress#telechargementCog) ou récupérées sur\n",
    "[data.gouv](https://www.data.gouv.fr/fr/datasets/decoupage-administratif-communal-francais-issu-d-openstreetmap/) (construites par `openstreetmap`).\n",
    "Il est également possible d'utiliser l'une des [API de l'IGN](https://api.gouv.fr/les-api/api_carto_cadastre)\n",
    "mais ces dernières ne sont pas encore très documentées pour des utilisateurs\n",
    "de `Python`.\n",
    "\n",
    "Nous choisirons la deuxième option (import depuis datagouv)\n",
    "car les premières données sont\n",
    "compressés au format `.7z`, ce qui n'est pas pratique à dézipper avec\n",
    "`python` (format propriétaire).\n",
    "\n",
    "L'inconvénient est que les arrondissements\n",
    "parisiens ne sont pas présents dans le fichier proposé sur `data.gouv`. Il\n",
    "faut donc utiliser une source complémentaire, issue de l'*opendata* de la \n",
    "Mairie de Paris.\n",
    "\n",
    "Les données des limites administratives demandent donc un peu de travail pour être\n",
    "importées car elles sont zippées (mais c'est un bon exercice !). Le code suivant, dont les \n",
    "détails apparaîtront plus clairs après la lecture de la partie\n",
    "*[webscraping](webscraping)* permet de :\n",
    "\n",
    "1. Télécharger les données avec `requests` dans un dossier temporaire\n",
    "2. Les dézipper avec le module `zipfile`\n",
    "\n",
    "La fonction suivante automatise un peu le processus :\n"
   ]
  },
  {
   "cell_type": "code",
   "execution_count": null,
   "id": "d0e89f2d",
   "metadata": {
    "lines_to_next_cell": 2
   },
   "outputs": [],
   "source": [
    "import requests\n",
    "import tempfile\n",
    "import zipfile\n",
    "\n",
    "url = 'https://www.data.gouv.fr/fr/datasets/r/07b7c9a2-d1e2-4da6-9f20-01a7b72d4b12'\n",
    "temporary_location = tempfile.gettempdir()\n",
    "\n",
    "def download_unzip(url, dirname = tempfile.gettempdir(), destname = \"borders\"):\n",
    "  myfile = requests.get(url)\n",
    "  open(\"{}/{}.zip\".format(dirname, destname), 'wb').write(myfile.content)\n",
    "  with zipfile.ZipFile(\"{}/{}.zip\".format(dirname, destname), 'r') as zip_ref:\n",
    "      zip_ref.extractall(dirname + '/' + destname)"
   ]
  },
  {
   "cell_type": "code",
   "execution_count": null,
   "id": "af1b06b6",
   "metadata": {},
   "outputs": [],
   "source": [
    "download_unzip(url)"
   ]
  },
  {
   "cell_type": "markdown",
   "id": "aec882ae",
   "metadata": {},
   "source": [
    "```\n",
    "## Error in py_call_impl(callable, dots$args, dots$keywords): BadZipFile: File is not a zip file\n",
    "## \n",
    "## Detailed traceback: \n",
    "##   File \"<string>\", line 1, in <module>\n",
    "##   File \"<string>\", line 4, in download_unzip\n",
    "##   File \"/opt/conda/envs/python-ENSAE/lib/python3.9/zipfile.py\", line 1257, in __init__\n",
    "##     self._RealGetContents()\n",
    "##   File \"/opt/conda/envs/python-ENSAE/lib/python3.9/zipfile.py\", line 1324, in _RealGetContents\n",
    "##     raise BadZipFile(\"File is not a zip file\")\n",
    "```"
   ]
  },
  {
   "cell_type": "code",
   "execution_count": null,
   "id": "a45cfcf5",
   "metadata": {},
   "outputs": [],
   "source": [
    "communes = gpd.read_file(temporary_location + \"/borders/communes-20190101.json\")"
   ]
  },
  {
   "cell_type": "markdown",
   "id": "4de4ba93",
   "metadata": {},
   "source": [
    "```\n",
    "## Error in py_call_impl(callable, dots$args, dots$keywords): DriverError: /tmp/borders/communes-20190101.json: No such file or directory\n",
    "## \n",
    "## Detailed traceback: \n",
    "##   File \"<string>\", line 1, in <module>\n",
    "##   File \"/opt/conda/envs/python-ENSAE/lib/python3.9/site-packages/geopandas/io/file.py\", line 201, in _read_file\n",
    "##     with reader(path_or_bytes, **kwargs) as features:\n",
    "##   File \"/opt/conda/envs/python-ENSAE/lib/python3.9/site-packages/fiona/env.py\", line 408, in wrapper\n",
    "##     return f(*args, **kwargs)\n",
    "##   File \"/opt/conda/envs/python-ENSAE/lib/python3.9/site-packages/fiona/__init__.py\", line 264, in open\n",
    "##     c = Collection(path, mode, driver=driver, encoding=encoding,\n",
    "##   File \"/opt/conda/envs/python-ENSAE/lib/python3.9/site-packages/fiona/collection.py\", line 162, in __init__\n",
    "##     self.session.start(self, **kwargs)\n",
    "##   File \"fiona/ogrext.pyx\", line 540, in fiona.ogrext.Session.start\n",
    "##   File \"fiona/_shim.pyx\", line 90, in fiona._shim.gdal_open_vector\n",
    "```\n"
   ]
  },
  {
   "cell_type": "code",
   "execution_count": null,
   "id": "8ebd6e10",
   "metadata": {},
   "outputs": [],
   "source": [
    "communes.head()"
   ]
  },
  {
   "cell_type": "markdown",
   "id": "d92321ec",
   "metadata": {},
   "source": [
    "```\n",
    "## Error in py_call_impl(callable, dots$args, dots$keywords): NameError: name 'communes' is not defined\n",
    "## \n",
    "## Detailed traceback: \n",
    "##   File \"<string>\", line 1, in <module>\n",
    "```\n",
    "\n",
    "On reconnaît la structure d'un DataFrame pandas. A cette structure s'ajoute \n",
    "une colonne `geometry` qui enregistre la position des limites des polygones de chaque\n",
    "observation. \n",
    "\n",
    "Comme vu précédemment, le système de projection est un élément important. Il permet à `python`\n",
    "d'interpréter les valeurs des points (deux dimensions) en position sur \n",
    "la terre, qui n'est pas un espace plan. Ici, les données ne sont pas projetées puisqu'elles sont dans le \n",
    "système WSG84 (epsg: 4326) ce qui permet de facilement ajouter\n",
    "un fonds de carte `openstreetmap` ou `stamen` pour rendre une représentation\n",
    "graphique plus esthétique. En toute rigueur, pour faire une carte statique d'un pays en particulier, il faudrait reprojeter les données dans un système de projection adapté à la zone géographique étudiée (par exemple le Lambert-93 pour la France métropolitaine).\n",
    "\n",
    "On peut ainsi représenter Paris pour se donner une idée de la nature\n",
    "du shapefile utilisé :\n"
   ]
  },
  {
   "cell_type": "code",
   "execution_count": null,
   "id": "e254e61b",
   "metadata": {},
   "outputs": [],
   "source": [
    "paris = communes[communes.insee.str.startswith(\"75\")]"
   ]
  },
  {
   "cell_type": "markdown",
   "id": "58e7eebe",
   "metadata": {},
   "source": [
    "```\n",
    "## Error in py_call_impl(callable, dots$args, dots$keywords): NameError: name 'communes' is not defined\n",
    "## \n",
    "## Detailed traceback: \n",
    "##   File \"<string>\", line 1, in <module>\n",
    "```"
   ]
  },
  {
   "cell_type": "code",
   "execution_count": null,
   "id": "e423a0d6",
   "metadata": {},
   "outputs": [],
   "source": [
    "fig,ax = plt.subplots(figsize=(10, 10))\n",
    "paris.plot(ax = ax, alpha=0.5, edgecolor='blue')"
   ]
  },
  {
   "cell_type": "markdown",
   "id": "6ed84f2e",
   "metadata": {},
   "source": [
    "```\n",
    "## Error in py_call_impl(callable, dots$args, dots$keywords): NameError: name 'paris' is not defined\n",
    "## \n",
    "## Detailed traceback: \n",
    "##   File \"<string>\", line 1, in <module>\n",
    "```"
   ]
  },
  {
   "cell_type": "code",
   "execution_count": null,
   "id": "1575a36b",
   "metadata": {},
   "outputs": [],
   "source": [
    "ctx.add_basemap(ax, crs = paris.crs.to_string())"
   ]
  },
  {
   "cell_type": "markdown",
   "id": "2cafc9b0",
   "metadata": {},
   "source": [
    "```\n",
    "## Error in py_call_impl(callable, dots$args, dots$keywords): NameError: name 'paris' is not defined\n",
    "## \n",
    "## Detailed traceback: \n",
    "##   File \"<string>\", line 1, in <module>\n",
    "```"
   ]
  },
  {
   "cell_type": "code",
   "execution_count": null,
   "id": "1e66437b",
   "metadata": {
    "lines_to_next_cell": 0
   },
   "outputs": [],
   "source": [
    "ax.set_axis_off()\n",
    "ax"
   ]
  },
  {
   "cell_type": "markdown",
   "id": "41dc060f",
   "metadata": {},
   "source": [
    "\n",
    "\n",
    "\n"
   ]
  },
  {
   "cell_type": "markdown",
   "id": "78e819b0",
   "metadata": {},
   "source": [
    "On voit ainsi que les données pour Paris ne comportent pas d'arrondissement, \n",
    "ce qui est limitant pour une analyse focalisée sur Paris. On va donc les\n",
    "récupérer sur le site d'open data de la ville de Paris et les substituer \n",
    "à Paris :\n"
   ]
  },
  {
   "cell_type": "code",
   "execution_count": null,
   "id": "c3627e7c",
   "metadata": {},
   "outputs": [],
   "source": [
    "arrondissements = gpd.read_file(\"https://opendata.paris.fr/explore/dataset/arrondissements/download/?format=geojson&timezone=Europe/Berlin&lang=fr\")\n",
    "arrondissements = arrondissements.rename(columns = {\"c_arinsee\": \"insee\"})\n",
    "arrondissements['insee'] = arrondissements['insee'].astype(str)\n",
    "communes = communes[~communes.insee.str.startswith(\"75\")].append(arrondissements)"
   ]
  },
  {
   "cell_type": "markdown",
   "id": "9289dc56",
   "metadata": {},
   "source": [
    "```\n",
    "## Error in py_call_impl(callable, dots$args, dots$keywords): NameError: name 'communes' is not defined\n",
    "## \n",
    "## Detailed traceback: \n",
    "##   File \"<string>\", line 1, in <module>\n",
    "```\n",
    "\n",
    "En refaisant la carte ci-dessus, on obtient bien, cette fois, le résultat\n",
    "espéré\n"
   ]
  },
  {
   "cell_type": "code",
   "execution_count": null,
   "id": "edbdd102",
   "metadata": {},
   "outputs": [],
   "source": [
    "paris = communes[communes.insee.str.startswith(\"75\")]"
   ]
  },
  {
   "cell_type": "markdown",
   "id": "aa9db9fc",
   "metadata": {},
   "source": [
    "```\n",
    "## Error in py_call_impl(callable, dots$args, dots$keywords): NameError: name 'communes' is not defined\n",
    "## \n",
    "## Detailed traceback: \n",
    "##   File \"<string>\", line 1, in <module>\n",
    "```"
   ]
  },
  {
   "cell_type": "code",
   "execution_count": null,
   "id": "9ae5f36d",
   "metadata": {},
   "outputs": [],
   "source": [
    "fig,ax = plt.subplots(figsize=(10, 10))\n",
    "\n",
    "paris.plot(ax = ax, alpha=0.5, edgecolor='k')"
   ]
  },
  {
   "cell_type": "markdown",
   "id": "f44cd676",
   "metadata": {},
   "source": [
    "```\n",
    "## Error in py_call_impl(callable, dots$args, dots$keywords): NameError: name 'paris' is not defined\n",
    "## \n",
    "## Detailed traceback: \n",
    "##   File \"<string>\", line 1, in <module>\n",
    "```"
   ]
  },
  {
   "cell_type": "code",
   "execution_count": null,
   "id": "8abc2b49",
   "metadata": {},
   "outputs": [],
   "source": [
    "ctx.add_basemap(ax, crs = paris.crs.to_string())"
   ]
  },
  {
   "cell_type": "markdown",
   "id": "c35f5aa4",
   "metadata": {},
   "source": [
    "```\n",
    "## Error in py_call_impl(callable, dots$args, dots$keywords): NameError: name 'paris' is not defined\n",
    "## \n",
    "## Detailed traceback: \n",
    "##   File \"<string>\", line 1, in <module>\n",
    "```"
   ]
  },
  {
   "cell_type": "code",
   "execution_count": null,
   "id": "487a0e96",
   "metadata": {
    "lines_to_next_cell": 0
   },
   "outputs": [],
   "source": [
    "ax.set_axis_off()\n",
    "ax"
   ]
  },
  {
   "cell_type": "markdown",
   "id": "d36df038",
   "metadata": {},
   "source": [
    "\n",
    "\n",
    "\n"
   ]
  },
  {
   "cell_type": "markdown",
   "id": "258a2b6d",
   "metadata": {},
   "source": [
    "# Opérations sur les attributs et les géométries\n",
    "\n",
    "## Import des données velib\n",
    "\n",
    "Souvent, le découpage communal ne sert qu'en fond de cartes, pour donner des\n",
    "repères. En complément de celui-ci, on peut désirer exploiter\n",
    "un autre jeu de données. On va partir des données de localisation des\n",
    "stations velib, \n",
    "disponibles [sur le site d'open data de la ville de Paris](https://opendata.paris.fr/explore/dataset/velib-emplacement-des-stations/table/) et \n",
    "requêtables directement par l'url\n",
    "<https://opendata.paris.fr/explore/dataset/velib-emplacement-des-stations/download/?format=geojson&timezone=Europe/Berlin&lang=fr>\n"
   ]
  },
  {
   "cell_type": "code",
   "execution_count": null,
   "id": "220cedb5",
   "metadata": {
    "lines_to_next_cell": 2
   },
   "outputs": [],
   "source": [
    "velib_data = 'https://opendata.paris.fr/explore/dataset/velib-emplacement-des-stations/download/?format=geojson&timezone=Europe/Berlin&lang=fr'\n",
    "stations = gpd.read_file(velib_data)"
   ]
  },
  {
   "cell_type": "code",
   "execution_count": null,
   "id": "4f1896cc",
   "metadata": {},
   "outputs": [],
   "source": [
    "communes['dep'] = communes.insee.str[:2]"
   ]
  },
  {
   "cell_type": "markdown",
   "id": "22f2ca89",
   "metadata": {},
   "source": [
    "```\n",
    "## Error in py_call_impl(callable, dots$args, dots$keywords): NameError: name 'communes' is not defined\n",
    "## \n",
    "## Detailed traceback: \n",
    "##   File \"<string>\", line 1, in <module>\n",
    "```\n",
    "\n",
    "On peut se rassurer en affichant les données sur la carte des communes d'Île-de-France.\n",
    "\n",
    "\n",
    "\n",
    "\n"
   ]
  },
  {
   "cell_type": "markdown",
   "id": "6fa35d6e",
   "metadata": {},
   "source": [
    "Découvrez ci-dessous par étape les différentes lignes de commandes permettant d'afficher cette carte complète,\n",
    "étape par étape:\n",
    "\n",
    ":one:\n",
    "Afficher le nuage de points de 200 stations vélibs prises au hasard\n"
   ]
  },
  {
   "cell_type": "code",
   "execution_count": null,
   "id": "477fb914",
   "metadata": {
    "lines_to_next_cell": 0
   },
   "outputs": [],
   "source": [
    "fig,ax = plt.subplots(figsize=(10, 10))\n",
    "stations.sample(200).plot(ax = ax, color = 'red', alpha = 0.4, zorder=2)\n",
    "#communes[communes['dep'].isin(['75','92','93','94'])].plot(ax = ax, zorder=1, edgecolor = \"black\", facecolor=\"none\",\n",
    "#                                                           color = None)\n",
    "#ctx.add_basemap(ax, crs = stations.crs.to_string(), source = ctx.providers.Stamen.Watercolor)\n",
    "# ax.set_axis_off()\n",
    "ax"
   ]
  },
  {
   "cell_type": "markdown",
   "id": "7e366e18",
   "metadata": {},
   "source": [
    "\n",
    "\n",
    "\n"
   ]
  },
  {
   "cell_type": "markdown",
   "id": "7a455fbf",
   "metadata": {},
   "source": [
    ":two:\n",
    "Ajouter à cette couche, en dessous, les contours des communes\n"
   ]
  },
  {
   "cell_type": "code",
   "execution_count": null,
   "id": "9238975b",
   "metadata": {},
   "outputs": [],
   "source": [
    "fig,ax = plt.subplots(figsize=(10, 10))"
   ]
  },
  {
   "cell_type": "code",
   "execution_count": null,
   "id": "fa2a0397",
   "metadata": {},
   "outputs": [],
   "source": [
    "stations.sample(200).plot(ax = ax, color = 'red', alpha = 0.4, zorder=2)\n",
    "communes[communes['dep'].isin(['75','92','93','94'])].plot(ax = ax, zorder=1, edgecolor = \"black\", facecolor=\"none\",\n",
    "                                                           color = None)\n",
    "#ctx.add_basemap(ax, crs = stations.crs.to_string(), source = ctx.providers.Stamen.Watercolor)\n",
    "# ax.set_axis_off()"
   ]
  },
  {
   "cell_type": "markdown",
   "id": "150a2466",
   "metadata": {},
   "source": [
    "```\n",
    "## Error in py_call_impl(callable, dots$args, dots$keywords): NameError: name 'communes' is not defined\n",
    "## \n",
    "## Detailed traceback: \n",
    "##   File \"<string>\", line 1, in <module>\n",
    "```"
   ]
  },
  {
   "cell_type": "code",
   "execution_count": null,
   "id": "9fb7ea5e",
   "metadata": {
    "lines_to_next_cell": 0
   },
   "outputs": [],
   "source": [
    "ax"
   ]
  },
  {
   "cell_type": "markdown",
   "id": "7d628044",
   "metadata": {},
   "source": [
    "\n",
    "\n",
    "\n"
   ]
  },
  {
   "cell_type": "markdown",
   "id": "923d60ee",
   "metadata": {},
   "source": [
    ":three:\n",
    "Ajouter un fond de carte de type *open street map* grâce au package\n",
    "`contextily`\n"
   ]
  },
  {
   "cell_type": "code",
   "execution_count": null,
   "id": "bc63e263",
   "metadata": {},
   "outputs": [],
   "source": [
    "fig,ax = plt.subplots(figsize=(10, 10))\n",
    "stations.sample(200).plot(ax = ax, color = 'red', alpha = 0.4, zorder=2)\n",
    "communes[communes['dep'].isin(['75','92','93','94'])].plot(ax = ax, zorder=1, edgecolor = \"black\", facecolor=\"none\",\n",
    "                                                           color = None)"
   ]
  },
  {
   "cell_type": "markdown",
   "id": "e6aeba64",
   "metadata": {},
   "source": [
    "```\n",
    "## Error in py_call_impl(callable, dots$args, dots$keywords): NameError: name 'communes' is not defined\n",
    "## \n",
    "## Detailed traceback: \n",
    "##   File \"<string>\", line 1, in <module>\n",
    "```"
   ]
  },
  {
   "cell_type": "code",
   "execution_count": null,
   "id": "62746a2e",
   "metadata": {
    "lines_to_next_cell": 0
   },
   "outputs": [],
   "source": [
    "ctx.add_basemap(ax, crs = stations.crs.to_string(), source = ctx.providers.Stamen.Watercolor)\n",
    "# ax.set_axis_off()\n",
    "ax"
   ]
  },
  {
   "cell_type": "markdown",
   "id": "a58ae68e",
   "metadata": {},
   "source": [
    "\n"
   ]
  },
  {
   "cell_type": "markdown",
   "id": "38ae3ac0",
   "metadata": {},
   "source": [
    ":four:\n",
    "Ne reste plus qu'à retirer l'axe des coordonnées, qui n'est pas très \n",
    "esthétique. Pour cela: \n"
   ]
  },
  {
   "cell_type": "markdown",
   "id": "624c236c",
   "metadata": {},
   "source": [
    "*In fine*, on obtient la carte désirée. "
   ]
  },
  {
   "cell_type": "markdown",
   "id": "e3f11d31",
   "metadata": {},
   "source": [
    "## Opérations sur les attributs\n",
    "\n",
    "Toutes les opérations possibles sur un objet `pandas` le sont également\n",
    "sur un objet `geopandas`. Pour manipuler les données, et non la géométrie,\n",
    "on parlera d'opérations sur les attributs. \n",
    "\n",
    "Par exemple, si on désire \n",
    "connaître quelques statistiques sur la taille des stations:\n"
   ]
  },
  {
   "cell_type": "code",
   "execution_count": null,
   "id": "bdfff89b",
   "metadata": {},
   "outputs": [],
   "source": [
    "stations.describe()"
   ]
  },
  {
   "cell_type": "markdown",
   "id": "dabc5e81",
   "metadata": {},
   "source": [
    "```\n",
    "##           capacity\n",
    "## count  1438.000000\n",
    "## mean     31.260779\n",
    "## std      11.989708\n",
    "## min       0.000000\n",
    "## 25%      23.000000\n",
    "## 50%      29.000000\n",
    "## 75%      37.000000\n",
    "## max      74.000000\n",
    "```\n",
    "\n",
    "Pour connaître les plus grands départements:\n"
   ]
  },
  {
   "cell_type": "code",
   "execution_count": null,
   "id": "fd949936",
   "metadata": {},
   "outputs": [],
   "source": [
    "communes.groupby('dep').sum().sort_values('surf_ha', ascending = False)"
   ]
  },
  {
   "cell_type": "markdown",
   "id": "8dafe59d",
   "metadata": {},
   "source": [
    "```\n",
    "## Error in py_call_impl(callable, dots$args, dots$keywords): NameError: name 'communes' is not defined\n",
    "## \n",
    "## Detailed traceback: \n",
    "##   File \"<string>\", line 1, in <module>\n",
    "```\n",
    "\n",
    "ou les plus grandes communes de France métropolitaine :\n"
   ]
  },
  {
   "cell_type": "code",
   "execution_count": null,
   "id": "4ac4e805",
   "metadata": {},
   "outputs": [],
   "source": [
    "communes[communes.dep != \"97\"].sort_values('surf_ha', ascending = False)"
   ]
  },
  {
   "cell_type": "markdown",
   "id": "9b8e0e14",
   "metadata": {},
   "source": [
    "```\n",
    "## Error in py_call_impl(callable, dots$args, dots$keywords): NameError: name 'communes' is not defined\n",
    "## \n",
    "## Detailed traceback: \n",
    "##   File \"<string>\", line 1, in <module>\n",
    "```\n"
   ]
  },
  {
   "cell_type": "markdown",
   "id": "878e5926",
   "metadata": {},
   "source": [
    "Lors des étapes d'agrégation, `groupby` ne conserve pas les géométries. Autrement\n",
    "dit, si on effectue, par exemple, une somme en fonction d'une variable de groupe avec\n",
    "le combo `groupby(...).sum(...)` , on perd\n",
    "la dimension géographique. \n",
    "\n",
    "Il est néanmoins possible d'aggréger à la fois les géométries et les \n",
    "attribus avec la méthode `dissolve`: \n",
    "\n"
   ]
  },
  {
   "cell_type": "code",
   "execution_count": null,
   "id": "336273ef",
   "metadata": {},
   "outputs": [],
   "source": [
    "fig,ax = plt.subplots(figsize=(10, 10))\n",
    "communes[communes.dep != \"97\"].dissolve(by='dep', aggfunc='sum').plot(ax = ax, column = \"surf_ha\")"
   ]
  },
  {
   "cell_type": "markdown",
   "id": "0906f0aa",
   "metadata": {},
   "source": [
    "```\n",
    "## Error in py_call_impl(callable, dots$args, dots$keywords): NameError: name 'communes' is not defined\n",
    "## \n",
    "## Detailed traceback: \n",
    "##   File \"<string>\", line 1, in <module>\n",
    "```"
   ]
  },
  {
   "cell_type": "code",
   "execution_count": null,
   "id": "db353bc6",
   "metadata": {
    "lines_to_next_cell": 0
   },
   "outputs": [],
   "source": [
    "ax.set_axis_off()\n",
    "ax"
   ]
  },
  {
   "cell_type": "markdown",
   "id": "20b4f4a5",
   "metadata": {},
   "source": [
    "\n",
    "\n",
    "\n"
   ]
  },
  {
   "cell_type": "markdown",
   "id": "992d4bf8",
   "metadata": {},
   "source": [
    "## Opérations sur les géométries\n",
    "\n",
    "Les données sont en système de coordonnées WGS 84 ou pseudo-Mercator (epsg: `4326`) et ne sont pas projetées. C'est un format approprié lorsqu'il s'agit d'utiliser un fonds\n",
    "de carte openstreetmap, stamen, google maps, etc.\n",
    "\n",
    "Mais ce n'est pas un\n",
    "format sur lequel on désire faire des calculs car les distances sont faussées sans utiliser de projection. D'ailleurs, geopandas refusera certaines opérations\n",
    "sur des données dont le crs est `4326`. On reprojete ainsi les données \n",
    "dans la projection officielle pour la métropole, le Lambert 93\n",
    "(epsg: 2154).\n",
    "\n"
   ]
  },
  {
   "cell_type": "code",
   "execution_count": null,
   "id": "2e217778",
   "metadata": {
    "lines_to_next_cell": 2
   },
   "outputs": [],
   "source": [
    "communes = communes.to_crs(2154)\n",
    "stations = stations.to_crs(2154)"
   ]
  },
  {
   "cell_type": "markdown",
   "id": "be580c1d",
   "metadata": {},
   "source": [
    "Outre la représentation graphique simplifiée,\n",
    "sur laquelle nous reviendrons ultérieurement, l'intérêt principal d'utiliser\n",
    "`geopandas` est l'existence de méthodes efficaces pour\n",
    "manipuler la dimension spatiale. Un certain nombre proviennent du \n",
    "package\n",
    "[shapely](https://shapely.readthedocs.io/en/latest/manual.html#general-attributes-and-methods). \n",
    "\n",
    "Par exemple, on peut recalculer la taille d'une commune ou d'arrondissement\n",
    "avec la méthode `area` (et diviser par $10^6$ pour avoir des $km^2$ au lieu\n",
    "des $m^2$):\n"
   ]
  },
  {
   "cell_type": "code",
   "execution_count": null,
   "id": "82f5285a",
   "metadata": {},
   "outputs": [],
   "source": [
    "communes['superficie'] = communes.area.div(10**6)\n",
    "communes"
   ]
  },
  {
   "cell_type": "markdown",
   "id": "80080354",
   "metadata": {},
   "source": [
    "Une méthode qu'on utilise régulièrement est `centroid` qui, comme son nom l'indique,\n",
    "recherche le centroïde de chaque polygone et transforme ainsi des données\n",
    "surfaciques en données ponctuelles. Par exemple, pour\n",
    "représenter approximativement les centres des villages de la\n",
    "Haute-Garonne (31), on\n",
    "fera\n"
   ]
  },
  {
   "cell_type": "code",
   "execution_count": null,
   "id": "18a27434",
   "metadata": {},
   "outputs": [],
   "source": [
    "departement = communes[communes.dep == \"31\"].copy()"
   ]
  },
  {
   "cell_type": "markdown",
   "id": "b940063a",
   "metadata": {},
   "source": [
    "```\n",
    "## Error in py_call_impl(callable, dots$args, dots$keywords): NameError: name 'communes' is not defined\n",
    "## \n",
    "## Detailed traceback: \n",
    "##   File \"<string>\", line 1, in <module>\n",
    "```"
   ]
  },
  {
   "cell_type": "code",
   "execution_count": null,
   "id": "4c15dea0",
   "metadata": {},
   "outputs": [],
   "source": [
    "departement['geometry'] = departement['geometry'].centroid\n"
   ]
  },
  {
   "cell_type": "markdown",
   "id": "c7a464bf",
   "metadata": {},
   "source": [
    "```\n",
    "## Error in py_call_impl(callable, dots$args, dots$keywords): NameError: name 'departement' is not defined\n",
    "## \n",
    "## Detailed traceback: \n",
    "##   File \"<string>\", line 1, in <module>\n",
    "```"
   ]
  },
  {
   "cell_type": "code",
   "execution_count": null,
   "id": "f4d0c565",
   "metadata": {},
   "outputs": [],
   "source": [
    "ax = departement.plot(figsize = (10,10), color = 'red', alpha = 0.4, zorder=2)"
   ]
  },
  {
   "cell_type": "markdown",
   "id": "ad90e32e",
   "metadata": {},
   "source": [
    "```\n",
    "## Error in py_call_impl(callable, dots$args, dots$keywords): NameError: name 'departement' is not defined\n",
    "## \n",
    "## Detailed traceback: \n",
    "##   File \"<string>\", line 1, in <module>\n",
    "```"
   ]
  },
  {
   "cell_type": "code",
   "execution_count": null,
   "id": "9aef39e3",
   "metadata": {},
   "outputs": [],
   "source": [
    "communes[communes['dep'] == \"31\"].plot(ax = ax, zorder=1, edgecolor = \"black\", facecolor=\"none\",\n",
    "                                                           color = None)"
   ]
  },
  {
   "cell_type": "markdown",
   "id": "dafcd435",
   "metadata": {},
   "source": [
    "```\n",
    "## Error in py_call_impl(callable, dots$args, dots$keywords): NameError: name 'communes' is not defined\n",
    "## \n",
    "## Detailed traceback: \n",
    "##   File \"<string>\", line 1, in <module>\n",
    "```"
   ]
  },
  {
   "cell_type": "code",
   "execution_count": null,
   "id": "7f3a6953",
   "metadata": {},
   "outputs": [],
   "source": [
    "ctx.add_basemap(ax, crs = stations.crs.to_string(), source = ctx.providers.Stamen.Toner)\n",
    "ax.set_axis_off()\n",
    "ax"
   ]
  },
  {
   "cell_type": "markdown",
   "id": "ea5cee51",
   "metadata": {},
   "source": [
    "```\n",
    "## <AxesSubplot:>\n",
    "```\n",
    "\n",
    "\n",
    "\n"
   ]
  },
  {
   "cell_type": "markdown",
   "id": "945fa497",
   "metadata": {},
   "source": [
    "# Gérer le système de projection\n",
    "\n",
    "Précédemment, nous avons appliqué une méthode `to_crs` pour reprojeter\n",
    "les données dans un système de projection différent de celui du fichier\n",
    "d'origine:"
   ]
  },
  {
   "cell_type": "code",
   "execution_count": null,
   "id": "05c2fc2e",
   "metadata": {
    "lines_to_next_cell": 2
   },
   "outputs": [],
   "source": [
    "communes = communes.to_crs(2154)\n",
    "stations = stations.to_crs(2154)"
   ]
  },
  {
   "cell_type": "markdown",
   "id": "22342ed5",
   "metadata": {},
   "source": [
    "Le système de projection est fondamental pour que la dimension\n",
    "spatiale soit bien interprétée par `python`. Un mauvais système de représentation\n",
    "fausse l'appréciation visuelle mais peut aussi entraîner des erreurs dans\n",
    "les calculs sur la dimension spatiale.\n",
    "Ce [post](https://www.earthdatascience.org/courses/earth-analytics/spatial-data-r/geographic-vs-projected-coordinate-reference-systems-UTM/) propose de riches éléments sur le\n",
    "sujet, notamment l'image suivante qui montre bien le principe d'une projection:\n",
    "\n",
    "![Les différents types de projection](https://www.earthdatascience.org/images/courses/earth-analytics/spatial-data/spatial-projection-transformations-crs.png)\n",
    "\n",
    "La Terre peut ainsi être représentée de multiple manière, ce qui n'est pas neutre sur la manière de se représenter\n",
    "certains continents. En particulier, avec la projection Mercator, l'Afrique apparaît beaucoup moins vaste qu'elle ne l'est en réalité\n"
   ]
  },
  {
   "cell_type": "markdown",
   "id": "b52aa2da",
   "metadata": {},
   "source": [
    "*Exemple de reprojection de pays depuis le site [thetruesize.com](https://thetruesize.com/)* \n",
    "\n",
    "Les projections sont très nombreuses et certaines peuvent avoir une [forme suprenante](https://imgs.xkcd.com/comics/map_projections.png)\n",
    "\n",
    "Concernant la gestion des projections avec `geopandas`,\n",
    "la [documentation officielle](https://geopandas.org/projections.html) est très bien\n",
    "faite sur le sujet. Elle fournit notamment l'avertissement suivant qu'il est\n",
    "bon d'avoir en tête:\n",
    "\n",
    "> Be aware that most of the time you don’t have to set a projection. Data loaded from a reputable source (using the geopandas.read_file() command) should always include projection information. You can see an objects current CRS through the GeoSeries.crs attribute.\n",
    "> \n",
    "> From time to time, however, you may get data that does not include a projection. In this situation, you have to set the CRS so geopandas knows how to interpret the coordinates.\n",
    "\n",
    "![](https://imgs.xkcd.com/comics/bad_map_projection_south_america.png)\n",
    "*Image empruntée à XKCD <https://xkcd.com/2256/> qu'on peut également trouver sur <https://blog.chrislansdown.com/2020/01/17/a-great-map-projection-joke/>*\n",
    "\n",
    "Pour déterminer le système de projection d'une base de données, on peut vérifier l'attribut `crs`:\n"
   ]
  },
  {
   "cell_type": "code",
   "execution_count": null,
   "id": "4d3c4573",
   "metadata": {},
   "outputs": [],
   "source": [
    "communes.crs"
   ]
  },
  {
   "cell_type": "markdown",
   "id": "86363eff",
   "metadata": {},
   "source": [
    "```\n",
    "## Error in py_call_impl(callable, dots$args, dots$keywords): NameError: name 'communes' is not defined\n",
    "## \n",
    "## Detailed traceback: \n",
    "##   File \"<string>\", line 1, in <module>\n",
    "```\n",
    "\n",
    "Les deux principales méthodes pour définir le système de projection utilisé sont:\n",
    "\n",
    "* **`df.set_crs`**: cette commande sert à préciser quel est le système de projection utilisé, c'est-à-dire comment les coordonnées *(x,y)* sont reliées à la surface terrestre. **Cette commande ne doit pas être utilisée pour transformer le système de coordonnées, seulement pour le définir**. \n",
    "* **`df.to_crs`**: **cette commande sert à projeter les points d'une géométrie dans une autre, c'est-à-dire à recalculer les coordonnées selon un autre système de projection.** \n",
    "\n",
    "Dans le cas particulier de production de carte avec un fond `openstreetmaps` ou une carte dynamique `leaflet`, il est nécessaire de dé-projeter les données (par exemple à partir du Lambert-93) pour atterrir dans le système non-projeté WGS 84 (code EPSG 4326). Ce site [dédié aux projections géographiques](https://epsg.io/) peut-être utile pour retrouver le système de projection d'un fichier où il n'est pas indiqué. \n",
    "\n",
    "La définition du système de projection se fait de la manière suivante (:warning: avant de le faire, se souvenir de l'avertissement !):\n"
   ]
  },
  {
   "cell_type": "code",
   "execution_count": null,
   "id": "5f001f8a",
   "metadata": {},
   "outputs": [],
   "source": [
    "communes = communes.set_crs(2154)"
   ]
  },
  {
   "cell_type": "markdown",
   "id": "0f8a6be4",
   "metadata": {},
   "source": [
    "Alors que la reprojection (projection Albers: 5070) s'obtient de la manière suivante:\n"
   ]
  },
  {
   "cell_type": "code",
   "execution_count": null,
   "id": "4fb1850b",
   "metadata": {},
   "outputs": [],
   "source": [
    "fig,ax = plt.subplots(figsize=(10, 10))\n",
    "communes[communes.dep != \"97\"].dissolve(by='dep', aggfunc='sum').to_crs(5070).plot(ax = ax)"
   ]
  },
  {
   "cell_type": "markdown",
   "id": "0e34f345",
   "metadata": {},
   "source": [
    "```\n",
    "## Error in py_call_impl(callable, dots$args, dots$keywords): NameError: name 'communes' is not defined\n",
    "## \n",
    "## Detailed traceback: \n",
    "##   File \"<string>\", line 1, in <module>\n",
    "```"
   ]
  },
  {
   "cell_type": "code",
   "execution_count": null,
   "id": "aa6a11d5",
   "metadata": {
    "lines_to_next_cell": 0
   },
   "outputs": [],
   "source": [
    "ax"
   ]
  },
  {
   "cell_type": "markdown",
   "id": "0b5d8dda",
   "metadata": {},
   "source": [
    "\n",
    "\n",
    "\n",
    "\n",
    "\n"
   ]
  },
  {
   "cell_type": "markdown",
   "id": "cd1f3b88",
   "metadata": {},
   "source": [
    "On le voit, cela modifie totalement la représentation de l'objet dans l'espace.\n",
    "Clairement, cette projection n'est pas adaptée aux longitudes et latitudes françaises.\n",
    "C'est normal, il s'agit d'une projection adaptée au continent \n",
    "nord-américain (et encore, pas dans son ensemble !).\n"
   ]
  },
  {
   "cell_type": "code",
   "execution_count": null,
   "id": "78677e87",
   "metadata": {},
   "outputs": [],
   "source": [
    "world = gpd.read_file(gpd.datasets.get_path('naturalearth_lowres'))\n",
    "\n",
    "fig,ax = plt.subplots(figsize=(10, 10))\n",
    "world[world.continent == \"North America\"].to_crs(5070).plot(alpha = 0.2, edgecolor = \"k\", ax = ax)\n",
    "ax"
   ]
  },
  {
   "cell_type": "markdown",
   "id": "3c604e9c",
   "metadata": {},
   "source": [
    "```\n",
    "## <AxesSubplot:>\n",
    "```\n",
    "\n",
    "\n",
    "\n",
    "\n"
   ]
  },
  {
   "cell_type": "markdown",
   "id": "f89ab124",
   "metadata": {},
   "source": [
    "# Joindre des données\n",
    "\n",
    "## Joindre des données sur des attributs\n",
    "\n",
    "Ce type de jointure se fait entre un objet géographique et un\n",
    "deuxième objet, géographique ou non. A l'exception de la question \n",
    "des géométries, il n'y a pas de différence par rapport à `pandas`. \n",
    "\n",
    "La seule différence avec `pandas` est dans la dimension géographique.\n",
    "Si on désire conserver la dimension géographique, il faut faire \n",
    "attention à faire:\n",
    "\n",
    "~~~~python\n",
    "geopandas_object.merge(pandas_object)\n",
    "~~~~\n",
    "\n",
    "Si on utilise deux objets géographiques mais ne désire conserver qu'une seule\n",
    "dimension géographique[^1], on fera\n",
    "\n",
    "~~~~python\n",
    "geopandas_object1.merge(geopandas_object2)\n",
    "~~~~\n",
    "\n",
    "Seule la géométrie de l'objet de gauche\n",
    "sera conservée, même si on fait un *right join*. \n",
    "\n",
    "[^1]: Il est techniquement possible d'avoir un DataFrame comportant plusieurs\n",
    "géographies. Par exemple une géométrie polygone et une géométrie point\n",
    "(le centroid). C'est néanmoins souvent compliqué à gérer et donc peu\n",
    "recommandable.\n"
   ]
  },
  {
   "cell_type": "markdown",
   "id": "21d2d9d8",
   "metadata": {},
   "source": [
    "## Prolongation possible : joindre données sur dimension géographique"
   ]
  },
  {
   "cell_type": "markdown",
   "id": "08addbb1",
   "metadata": {},
   "source": [
    "Les jointures spatiales peuvent être très gourmandes en ressources (car il peut être nécessaire de croiser toutes les géométries de `x` avec toutes les géométries de `y`). Voici deux conseils qui peuvent vous aider:\n",
    "\n",
    "- Il est préférable de tester les jointures géographiques sur un petit échantillon de données, pour estimer le temps et les ressources nécessaires à la réalisation de la jointure.\n",
    "- Il est parfois possible d'écrire une fonction qui réduit la taille du problème. Exemple: vous voulez déterminer dans quelle commune se situe un logement dont vous connaissez les coordonnées et le département; vous pouvez écrire une fonction qui réalise pour chaque département une jointure spatiale entre les logements situés dans ce département et les communes de ce département, puis empiler les 101 tables de sorties.\n",
    "\n",
    "\n"
   ]
  }
 ],
 "metadata": {
  "kernelspec": {
   "display_name": "Python 3",
   "language": "python",
   "name": "python3"
  }
 },
 "nbformat": 4,
 "nbformat_minor": 5
}
