{
  "cells": [
    {
      "cell_type": "raw",
      "metadata": {},
      "source": [
        "---\n",
        "title: \"Données spatiales: découverte de geopandas\"\n",
        "date: 2020-07-09T13:00:00Z\n",
        "draft: false\n",
        "weight: 40\n",
        "slug: geopandas\n",
        "tags:\n",
        "  - geopandas\n",
        "  - Velib\n",
        "  - Tutoriel\n",
        "  - Cartographie\n",
        "  - Manipulation\n",
        "categories:\n",
        "  - Tutoriel\n",
        "  - Manipulation\n",
        "type: book\n",
        "summary: |\n",
        "  Les données géolocalisées se sont multipliées depuis quelques années, qu'il\n",
        "  s'agisse de données open-data ou de traces numériques géolocalisées de\n",
        "  type _big-data_. Pour les données spatiales, le package `GeoPandas`\n",
        "  étend les fonctionalités de l'écosystème `Pandas` afin de permettre\n",
        "  de manipuler des données géographiques complexes de manière simple.\n",
        "---"
      ],
      "id": "b3732be0"
    },
    {
      "cell_type": "markdown",
      "metadata": {},
      "source": [
        "::: {.cell .markdown}"
      ],
      "id": "fa0aba70"
    },
    {
      "cell_type": "code",
      "metadata": {},
      "source": [
        "#| echo: false\n",
        "#| output: 'asis'\n",
        "#| include: true\n",
        "#| eval: true\n",
        "\n",
        "import sys\n",
        "sys.path.insert(1, '../../../../') #insert the utils module\n",
        "from utils import print_badges\n",
        "\n",
        "#print_badges(__file__)\n",
        "print_badges(\"content/course/manipulation/03_geopandas_tutorial.qmd\")"
      ],
      "id": "ce364734",
      "execution_count": null,
      "outputs": []
    },
    {
      "cell_type": "markdown",
      "metadata": {},
      "source": [
        ":::\n",
        "\n",
        "Dans ce tutoriel, nous allons utiliser les données suivantes :\n",
        "\n",
        "* [Localisations des stations velib](https://opendata.paris.fr/explore/dataset/velib-emplacement-des-stations/download/?format=geojson&timezone=Europe/Berlin&lang=fr) ;\n",
        "* [fonds de carte `AdminExpress`](https://geoservices.ign.fr/adminexpress) à\n",
        "travers un package `Python` nommé [`cartiflette`](https://github.com/InseeFrLab/cartogether)\n",
        "facilitant la récupération de cette source. \n",
        "\n",
        "La représentation des données, notamment la cartographie, est présentée plus\n",
        "amplement dans la partie [visualiser](#visualiser). Quelques méthodes\n",
        "pour faire rapidement des cartes seront présentées ici, mais\n",
        "l'objet de ce chapitre porte davantage sur la manipulation des données géographiques.\n",
        "\n",
        "Ce tutoriel s'inspire beaucoup d'un autre tutoriel que j'ai fait pour\n",
        "`R` disponible\n",
        "[dans la documentation `utilitr`](https://www.book.utilitr.org/spatdata.html).\n",
        "Il peut servir de pendant à celui-ci pour l'utilisateur de `R`. \n",
        "\n",
        "\n",
        "Quelques installations préalables sont nécessaires : \n",
        "\n",
        "```python\n",
        "!pip install pandas fiona shapely pyproj rtree # à faire obligatoirement en premier pour utiliser rtree ou pygeos pour les jointures spatiales\n",
        "!pip install contextily\n",
        "!pip install geopandas\n",
        "!pip install topojson\n",
        "```\n"
      ],
      "id": "8a48ff78"
    },
    {
      "cell_type": "code",
      "metadata": {},
      "source": [
        "#| echo: false\n",
        "!pip install topojson"
      ],
      "id": "5a84f159",
      "execution_count": null,
      "outputs": []
    },
    {
      "cell_type": "markdown",
      "metadata": {},
      "source": [
        "Pour être en mesure d'exécuter ce tutoriel, les imports suivants\n",
        "seront utiles.\n"
      ],
      "id": "39179266"
    },
    {
      "cell_type": "code",
      "metadata": {},
      "source": [
        "import geopandas as gpd\n",
        "import contextily as ctx\n",
        "import matplotlib.pyplot as plt"
      ],
      "id": "8905b1ce",
      "execution_count": null,
      "outputs": []
    },
    {
      "cell_type": "markdown",
      "metadata": {},
      "source": [
        "# Données spatiales: quelle différence avec des données traditionnelles ?\n",
        "\n",
        "**Le terme \"données spatiales\" désigne les données qui portent sur les caractéristiques géographiques des objets (localisation, contours, liens)**.\n",
        "Les caractéristiques géographiques des objets sont décrites à l'aide d'un **système de coordonnées**\n",
        "qui permettent une représentation dans un espace euclidien ($(x,y)$).\n",
        "Le passage de l'espace réel (la Terre, qui est une sphère) à l'espace plan\n",
        "se fait grâce à un **système de projection**. Voici quelques exemples\n",
        "de données spatiales : \n",
        "\n",
        "* Une table décrivant des bâtiments, avec les coordonnées géographiques de chaque bâtiment;\n",
        "* Le découpage communal du territoire, avec le contour du territoire de chaque commune;\n",
        "* Les routes terrestres, avec les coordonnées décrivant leur parcours.\n",
        "\n",
        "Les données spatiales rassemblent classiquement deux types de données :\n",
        "\n",
        "1. des **données géographiques** (ou géométries): objets géométriques tels que des points, des vecteurs, des polygones, ou des maillages (*raster*). Exemple: la forme de chaque chaque commune, les coordonnées d'un bâtiment;\n",
        "2. des **données attributaires** (ou attributs): des mesures et des caractéristiques associés aux objets géométriques. Exemple: la population de chaque commune, le nombre de fenêtres et le nombre d'étages d'un bâtiment.\n",
        "\n",
        "**Les données spatiales sont fréquemment traitées à l'aide d'un système d'information géographique (SIG)**, c'est-à-dire un système d'information capable de stocker, d'organiser et de présenter des données alphanumériques spatialement référencées par des coordonnées dans un système de référence (CRS). `Python` dispose de fonctionnalités lui permettant de réaliser les mêmes tâches qu'un SIG (traitement de données spatiales, représentations cartographiques).\n",
        "\n",
        "**Les systèmes de projection font l'objet de standards internationaux et sont souvent désignés par des codes dits codes EPSG**. Ce [site](https://epsg.io/) est un bon aide-mémoire. Les plus fréquents, pour les utilisateurs français, sont les suivants (plus d'infos [ici](https://geodesie.ign.fr/contenu/fichiers/documentation/SRCfrance.pdf)):\n",
        "\n",
        "* `2154`: système de projection Lambert 93. Il s'agit du système de projection officiel. La plupart des données diffusées par l'administration pour la métropole sont disponibles dans ce système de projection. \n",
        "* `27572`: Lambert II étendu. Il s'agit de l'ancien système de projection officiel. Les données spatiales anciennes peuvent être dans ce format.\n",
        "* `4326`: WGS 84 ou système de pseudo-Mercator. Attention, ce n'est en réalité pas un système de projection mais un système de coordonnées (longitude / latitude) qui permet simplement un repérage angulaire sur l'ellipsoïde. Il est utilisé pour les données GPS.\n",
        "\n",
        "## De `pandas` à `geopandas`\n",
        "\n",
        "Le *package* `geopandas` est une boîte à outils conçue pour faciliter la manipulation de données spatiales. **La grande force de `geopandas` est qu'il permet de manipuler des données spatiales comme s'il s'agissait de données traditionnelles**, car il repose sur le standard ISO 19125 [*simple feature access*](https://en.wikipedia.org/wiki/Simple_Features) défini conjointement par l'*Open Geospatial Consortium (OGC)* et l'*International Organization for Standardization (ISO)*. \n",
        "\n",
        "Par rapport à un DataFrame standard, un objet `geopandas` comporte\n",
        "une colonne supplémentaire: `geometry`. Elle stocke les coordonnées des\n",
        "objets géographiques (ou ensemble de coordonnées s'agissant de contours). Un objet `geopandas` hérite des propriétés d'un \n",
        "DataFrame pandas mais propose des méthodes adaptées au traitement des données spatiales. \n",
        "\n",
        "Ainsi, grâce à  `Geopandas`, on pourra effectuer des manipulations sur les attributs des données comme avec `pandas` mais on pourra également faire des manipulations sur la dimension spatiale des données. En particulier,\n",
        "\n",
        "* Calculer des distances et des surfaces;\n",
        "* Agréger rapidement des zonages (regrouper les communes en département par exemple);\n",
        "* Trouver dans quelle commune se trouve un bâtiment à partir de ses coordonnées géographiques;\n",
        "* Recalculer des coordonnées dans un autre système de projection.\n",
        "* Faire une carte, rapidement et simplement\n",
        "\n",
        "::: {.cell .markdown}\n",
        "\n",
        "```{=html}\n",
        "<div class=\"alert alert-warning\" role=\"alert\">\n",
        "<h3 class=\"alert-heading\"><i class=\"fa-solid fa-lightbulb\"></i> Hint</h3>\n",
        "```\n",
        "\n",
        "\n",
        "Les manipulations de données sur un objet `Geopandas` sont nettement plus lentes que sur\n",
        "un `DataFrame` traditionnel (car `Python` doit gérer les informations géographiques pendant la manipulation des données).\n",
        "Lorsque vous manipulez des données de grandes dimensions,\n",
        "il peut être préférable d’effectuer les opérations sur les données avant de joindre une géométrie à celles-ci.\n",
        "\n",
        "\n",
        "```{=html}\n",
        "</div>\n",
        "```\n",
        "\n",
        ":::\n",
        "\n",
        "Par rapport à un logiciel spécialisé comme `QGIS`, `Python` permettra \n",
        "d'automatiser le traitement et la représentation des données. D'ailleurs,\n",
        "`QGIS` utilise lui-même `python`...\n",
        "\n",
        "\n",
        "# Importer des données spatiales\n",
        "\n",
        "Les données spatiales sont plus riches que les données traditionnelles car elles\n",
        "incluent, habituellement, des éléments supplémentaires pour placer dans\n",
        "un espace cartésien les objets. Cette dimension supplémentaire peut être simple\n",
        "(un point comporte deux informations supplémentaire: $x$ et $y$) ou\n",
        "assez complexe (polygones, lignes avec direction, etc.)\n",
        "\n",
        "Les formats les plus communs de données spatiales sont les suivants :\n",
        "\n",
        "* _shapefile_ (`.shp`): format (**propriétaire**) le plus commun de données géographiques.\n",
        "La table de données (attributs) est stockée dans un fichier séparé des\n",
        "données spatiales. En faisant `geopandas.read_file(\"monfichier.shp\")`, le\n",
        "package fait lui-même le lien entre les observations et leur représentation spatiale ;\n",
        "* _geopackage_ (`.gpkg`) : ce (relativement) nouveau format **libre** en un seul fichier également (lui recommandé par l'OGC) vise progressivement à se substituer au shapefile. Il est par exemple le format par défaut dans QGIS. \n",
        "* _geojson_ (`.json`) : ce format, non préconisé par l'OGC est largement utilisé pour le développement web\n",
        "comme dans la librairie `leaflet.js`.\n",
        "La dimension spatiale est stockée dans le même fichier que les attributs.\n",
        "Ces fichiers sont généralement beaucoup plus légers que les *shapefiles* mais possèdent des limites s'agissant de gros jeux de données. \n",
        "\n",
        "Cette [page](https://si.ecrins-parcnational.com/blog/2020-02-geojson-shapefile-geopackage.html) compare plus en détail ces trois types de formats de données géographiques. \n",
        "\n",
        "L'aide de [geopandas](https://geopandas.org/io.html) propose des bouts de code en fonction des différentes situations dans lesquelles on se trouve.\n",
        "\n",
        "## Exemple: récupérer les découpages territoriaux\n",
        "\n",
        "L'un des fonds de carte les plus fréquents qu'on utilise est celui des\n",
        "limites administratives des communes.\n",
        "Celui-ci peut être récupéré de plusieurs manières. \n",
        "En premier lieu, pour récupérer \n",
        "le fond de carte officiel, produit par l'IGN, sous \n",
        "le nom d'[`AdminExpress`](https://geoservices.ign.fr/adminexpress#telechargementCog)[^1],\n",
        "il est possible de se rendre sur le site de l'IGN et de le télécharger depuis\n",
        "le serveur `FTP`. \n",
        "Il est également possible d'utiliser l'une des [API de l'IGN](https://api.gouv.fr/les-api/api_carto_cadastre)\n",
        "mais ces dernières ne sont pas encore très documentées pour des utilisateurs\n",
        "de `Python`.\n",
        "Le package `pynsee` propose notamment un module dédié à la récupération de fonds de carte officiels pour valoriser des données\n",
        "d'open data. L'API sur laquelle il repose étant parfois lente, nous présentons le code dédié uniquement en annexe. \n",
        "\n",
        "\n",
        "[^1]: Il existe également une version moins officielle sur [data.gouv](https://www.data.gouv.fr/fr/datasets/decoupage-administratif-communal-francais-issu-d-openstreetmap/), construite à \n",
        "partir d'`OpenStreetMap`.\n",
        "\n",
        "\n",
        "Nous proposons ici une méthode nouvelle de récupération de\n",
        "ces données qui s'appuie sur le projet interministériel \n",
        "[`cartiflette`](https://10pourcent.etalab.studio/projets/insee/).  \n",
        "Ce projet vise à faciliter la récupération des sources officielles, notamment\n",
        "celles de l'IGN, et leur association à des jeux de données géographiques.\n",
        "\n",
        "::: {.cell .markdown}\n",
        "\n",
        "```{=html}\n",
        "<div class=\"alert alert-info\" role=\"alert\">\n",
        "<h3 class=\"alert-heading\"><i class=\"fa-solid fa-comment\"></i> Note</h3>\n",
        "```\n",
        "\n",
        "\n",
        "Le package `cartiflette` est expérimental \n",
        "et n'est disponible que sur\n",
        "[`Github`](https://github.com/InseeFrLab/cartogether), pas sur `PyPi`.\n",
        "Il est amené à évoluer rapidement et cette page sera mise à jour\n",
        "quand de nouvelles fonctionalités (notamment l'utilisation d'`API`)\n",
        "seront disponibles pour encore simplifier la récupération de\n",
        "contours géographiques.\n",
        "\n",
        "Pour installer `cartiflette`, il est nécessaire d'utiliser les commandes suivantes\n",
        "depuis un `Jupyter Notebook` (si vous utilisez la ligne de commande directement,\n",
        "vous pouvez retirer les `!` et `%` en début de ligne):\n"
      ],
      "id": "f35af358"
    },
    {
      "cell_type": "code",
      "metadata": {},
      "source": [
        "#| eval: false\n",
        "!pip install --upgrade botocore==1.23.26  #Sur colab, sinon bug\n",
        "!pip install --upgrade urllib3==1.22.0 #Sur colab, sinon bug\n",
        "!pip install py7zr #Sur colab, sinon bug\n",
        "!pip install s3fs #Sur colab, sinon bug\n",
        "!git clone https://github.com/InseeFrLab/cartogether.git\n",
        "%cd ./cartogether\n",
        "!pip install -r requirements.txt\n",
        "!pip install ."
      ],
      "id": "00b7280c",
      "execution_count": null,
      "outputs": []
    },
    {
      "cell_type": "markdown",
      "metadata": {},
      "source": [
        "Ces commandes permettent de récupérer l'ensemble du code \n",
        "source depuis [`Github` <i class=\"fab fa-github\"></i></a>](https://github.com/InseeFrLab/cartiflette)\n",
        "\n",
        "\n",
        "```{=html}\n",
        "</div>\n",
        "```\n",
        "\n",
        ":::\n",
        "\n",
        "\n",
        "Ici, nous sommes intéressés par les contours des communes \n",
        "de la petite couronne. On pourrait désirer récupérer\n",
        "l'ensemble de la région Ile-de-France mais nous\n",
        "allons nous contenter de l'analyse de Paris intra-muros\n",
        "et des départements limitrophes. \n",
        "C'est l'un des avantage de `cartiflette` que de faciliter\n",
        "la récupération de fonds de carte sur un ensemble de département.\n",
        "Cela évite la récupération d'un fond de carte très\n",
        "volumineux (plus de 500Mo) pour une analyse restreinte (quelques départements).\n",
        "Un autre avantage de `cartiflette` est de faciliter la récupération de fonds\n",
        "de carte consolidés comme celui dont on a besoin ici: arrondissements \n",
        "dans Paris, communes ailleurs. Comme cela est expliqué dans un encadré à part,\n",
        "il s'agirait d'une opération pénible à mettre en oeuvre sans `cartiflette`. \n",
        "\n",
        "Les contours de cet espace peuvent être récupérés de la manière suivante:\n"
      ],
      "id": "4e6d478e"
    },
    {
      "cell_type": "code",
      "metadata": {},
      "source": [
        "import cartiflette.s3 as s3\n",
        "\n",
        "shp_communes = s3.download_vectorfile_url_all(\n",
        "    crs = 4326,\n",
        "    values = [\"75\", \"92\", \"93\", \"94\"],\n",
        "    borders=\"COMMUNE\",\n",
        "    vectorfile_format=\"topojson\",\n",
        "    filter_by=\"DEPARTEMENT\",\n",
        "    source=\"EXPRESS-COG-CARTO-TERRITOIRE\",\n",
        "    year=2022)\n",
        "\n",
        "shp_communes.head()"
      ],
      "id": "3b2be185",
      "execution_count": null,
      "outputs": []
    },
    {
      "cell_type": "markdown",
      "metadata": {},
      "source": [
        "On reconnaît la structure d'un `DataFrame` `Pandas`. A cette structure s'ajoute \n",
        "une colonne `geometry` qui enregistre la position des limites des polygones de chaque\n",
        "observation. \n",
        "\n",
        "Comme vu précédemment, le système de projection est un élément important. Il permet à `Python`\n",
        "d'interpréter les valeurs des points (deux dimensions) en position sur \n",
        "la terre, qui n'est pas un espace plan.\n"
      ],
      "id": "eaf75913"
    },
    {
      "cell_type": "code",
      "metadata": {},
      "source": [
        "shp_communes.crs"
      ],
      "id": "08e76707",
      "execution_count": null,
      "outputs": []
    },
    {
      "cell_type": "markdown",
      "metadata": {},
      "source": [
        "Ici, les données sont dans le système WGS84 (code EPSG 4326).\n",
        "Ce n'est pas le\n",
        "Lambert-93 comme on pourrait s'y attendre, ce dernier\n",
        "étant le système légal de projection pour la France\n",
        "métropolitaine. \n",
        "\n",
        "Pour s'assurer qu'on a bien récupéré les contours voulus, \n",
        "on peut représenter graphiquement\n",
        "les contours grâce à la méthode `plot` sur laquelle nous\n",
        "reviendrons :\n"
      ],
      "id": "9f0ff3bf"
    },
    {
      "cell_type": "code",
      "metadata": {},
      "source": [
        "ax = shp_communes.boundary.plot()\n",
        "ax.set_axis_off()"
      ],
      "id": "40d5033b",
      "execution_count": null,
      "outputs": []
    },
    {
      "cell_type": "markdown",
      "metadata": {},
      "source": [
        "::: {.cell .markdown}\n",
        "\n",
        "```{=html}\n",
        "<div class=\"alert alert-success\" role=\"alert\">\n",
        "<h3 class=\"alert-heading\"><i class=\"fa-solid fa-pencil\"></i> Note</h3>\n",
        "```\n",
        "\n",
        "\n",
        "Si on ne désire pas utiliser le niveau `COMMUNE_ARRONDISSEMENT`,\n",
        "il est nécessaire de mettre en oeuvre une construction du fond de\n",
        "carte en plusieurs phases.\n",
        "\n",
        "En premier lieu, il est nécessaire de récupérer le niveau des communes. \n"
      ],
      "id": "f3ab5419"
    },
    {
      "cell_type": "code",
      "metadata": {},
      "source": [
        "import cartiflette.s3 as s3\n",
        "\n",
        "shp_communes = s3.download_vectorfile_url_all(\n",
        "    crs = 4326,\n",
        "    values = [\"75\", \"92\", \"93\", \"94\"],\n",
        "    borders=\"COMMUNE\",\n",
        "    vectorfile_format=\"topojson\",\n",
        "    filter_by=\"DEPARTEMENT\",\n",
        "    source=\"EXPRESS-COG-CARTO-TERRITOIRE\",\n",
        "    year=2022)\n",
        "\n",
        "shp_communes.head()"
      ],
      "id": "671e5805",
      "execution_count": null,
      "outputs": []
    },
    {
      "cell_type": "code",
      "metadata": {},
      "source": [
        "ax = shp_communes.boundary.plot()\n",
        "ax.set_axis_off()"
      ],
      "id": "b0ab0596",
      "execution_count": null,
      "outputs": []
    },
    {
      "cell_type": "markdown",
      "metadata": {},
      "source": [
        "On peut remarquer que la ville de Paris ne comporte pas d'arrondissements\n",
        "sur cette carte. Pour vous en convaincre, vous pouvez exécuter la \n",
        "commande :\n"
      ],
      "id": "2a1a5762"
    },
    {
      "cell_type": "code",
      "metadata": {},
      "source": [
        "ax = shp_communes.loc[shp_communes['INSEE_DEP']==\"75\"].boundary.plot()\n",
        "ax.set_axis_off()"
      ],
      "id": "b503efff",
      "execution_count": null,
      "outputs": []
    },
    {
      "cell_type": "markdown",
      "metadata": {},
      "source": [
        "Il faut donc utiliser une source complémentaire.\n",
        "Le contour officiel des arrondissements est\n",
        "produit par l'IGN séparemment des contours de communes.\n",
        "Les contours d'arrondissements sont également\n",
        "disponibles \n",
        "grâce à `cartiflette`:\n"
      ],
      "id": "fd73833d"
    },
    {
      "cell_type": "code",
      "metadata": {},
      "source": [
        "arrondissements = s3.download_vectorfile_url_all(\n",
        "    crs = 4326,\n",
        "    values = [\"75\"],\n",
        "    borders=\"COMMUNE\",\n",
        "    vectorfile_format=\"topojson\",\n",
        "    filter_by=\"DEPARTEMENT\",\n",
        "    source=\"EXPRESS-COG-CARTO-TERRITOIRE\",\n",
        "    year=2022)"
      ],
      "id": "e58adfa1",
      "execution_count": null,
      "outputs": []
    },
    {
      "cell_type": "code",
      "metadata": {},
      "source": [
        "ax = arrondissements.plot(alpha = 0.8, edgecolor = \"k\")\n",
        "ax.set_axis_off()"
      ],
      "id": "e2370af6",
      "execution_count": null,
      "outputs": []
    },
    {
      "cell_type": "markdown",
      "metadata": {},
      "source": [
        "Il ne reste plus qu'à remplacer Paris par\n",
        "ses arrondissements dans `shp_communes`. \n",
        "Pour cela, on peut utiliser les méthodes\n",
        "vues dans le chapitre `Pandas` relatives\n",
        "aux filtres et à la concaténation\n",
        "de plusieurs `DataFrames`:\n"
      ],
      "id": "5ed796ea"
    },
    {
      "cell_type": "code",
      "metadata": {},
      "source": [
        "#| echo: true\n",
        "import pandas as pd\n",
        "\n",
        "shp_communes = pd.concat(\n",
        "  [\n",
        "    shp_communes.loc[shp_communes['INSEE_DEP'] != \"75\"].to_crs(2154),\n",
        "    arrondissements.to_crs(2154)\n",
        "  ])"
      ],
      "id": "80fd8f65",
      "execution_count": null,
      "outputs": []
    },
    {
      "cell_type": "markdown",
      "metadata": {},
      "source": [
        "Cette approche fonctionne mais elle nécessite un certain nombre\n",
        "de gestes, qui sont autant de risques d'erreurs. Il est\n",
        "donc recommandé de privilégier le niveau `COMMUNE_ARRONDISSEMENT`\n",
        "qui fait exactement ceci mais de manière fiable. \n",
        "\n",
        "\n",
        "```{=html}\n",
        "</div>\n",
        "```\n",
        "\n",
        ":::\n",
        "\n",
        "# Opérations sur les attributs et les géométries\n",
        "\n",
        "## Import des données velib\n",
        "\n",
        "Souvent, le découpage communal ne sert qu'en fond de cartes, pour donner des\n",
        "repères. En complément de celui-ci, on peut désirer exploiter\n",
        "un autre jeu de données. On va partir des données de localisation des\n",
        "stations velib, \n",
        "disponibles [sur le site d'open data de la ville de Paris](https://opendata.paris.fr/explore/dataset/velib-emplacement-des-stations/table/) et \n",
        "requêtables directement par l'url\n",
        "<https://opendata.paris.fr/explore/dataset/velib-emplacement-des-stations/download/?format=geojson&timezone=Europe/Berlin&lang=fr>\n"
      ],
      "id": "a08c2a55"
    },
    {
      "cell_type": "code",
      "metadata": {},
      "source": [
        "#| echo: true\n",
        "\n",
        "velib_data = 'https://opendata.paris.fr/explore/dataset/velib-emplacement-des-stations/download/?format=geojson&timezone=Europe/Berlin&lang=fr'\n",
        "stations = gpd.read_file(velib_data)\n",
        "stations.crs"
      ],
      "id": "92ff65ba",
      "execution_count": null,
      "outputs": []
    },
    {
      "cell_type": "markdown",
      "metadata": {},
      "source": [
        "Les données sont dans le système de projection WGS84 qui est celui du\n",
        "système GPS. Celui-ci s'intègre bien avec les fonds de carte \n",
        "`Stamen`, `OpenStreetMap` ou `Google Maps`. En toute rigueur, si on\n",
        "désire effectuer certains calculs géométriques (mesurer des surfaces...), il est\n",
        "nécessaire de re-projeter les données dans un système qui préserve la géométrie\n",
        "(c'est le cas du Lambert 93). \n",
        "\n",
        "Pour avoir une intuition de la localisation des stations, et notamment de la\n",
        "densité hétérogène de celles-ci, \n",
        "on peut afficher les données sur la carte des communes\n",
        "de la petite couronne. Il s'agit donc d'enrichir la carte\n",
        "précédente d'une couche supplémentaire, à savoir la localisation\n",
        "des stations. Au passage, on va utiliser un fond de carte\n",
        "plus esthétique:\n"
      ],
      "id": "f8fedd86"
    },
    {
      "cell_type": "code",
      "metadata": {},
      "source": [
        "#| echo: true\n",
        "\n",
        "fig,ax = plt.subplots(figsize=(10, 10))\n",
        "stations.sample(200).to_crs(3857).plot(ax = ax, color = 'red', alpha = 0.4, zorder=2)\n",
        "shp_communes.to_crs(3857).plot(ax = ax, zorder=1, edgecolor = \"black\", facecolor=\"none\",\n",
        "                                                           color = None)\n",
        "ctx.add_basemap(ax, source = ctx.providers.Stamen.Watercolor)\n",
        "ax.set_axis_off()"
      ],
      "id": "2e08ebaa",
      "execution_count": null,
      "outputs": []
    },
    {
      "cell_type": "code",
      "metadata": {},
      "source": [
        "#| echo: false\n",
        "\n",
        "fig = ax.get_figure()\n",
        "fig.savefig(\"featured.png\")"
      ],
      "id": "f03ae3b8",
      "execution_count": null,
      "outputs": []
    },
    {
      "cell_type": "markdown",
      "metadata": {},
      "source": [
        "Découvrez ci-dessous par étape les différentes lignes de commandes permettant d'afficher cette carte complète,\n",
        "étape par étape :\n",
        "\n",
        ":one:\n",
        "Afficher le nuage de points de 200 stations vélibs prises au hasard\n"
      ],
      "id": "7030885b"
    },
    {
      "cell_type": "code",
      "metadata": {},
      "source": [
        "#| output: hide\n",
        "\n",
        "fig,ax = plt.subplots(figsize=(10, 10))\n",
        "stations.sample(200).to_crs(3857).plot(ax = ax, color = 'red', alpha = 0.4, zorder=2)"
      ],
      "id": "b9002bdd",
      "execution_count": null,
      "outputs": []
    },
    {
      "cell_type": "markdown",
      "metadata": {},
      "source": [
        ":two:\n",
        "Ajouter à cette couche, en-dessous, les contours des communes\n"
      ],
      "id": "b2733935"
    },
    {
      "cell_type": "code",
      "metadata": {},
      "source": [
        "#| output: false\n",
        "#| echo: true\n",
        "\n",
        "fig,ax = plt.subplots(figsize=(10, 10))\n",
        "stations.sample(200).to_crs(3857).plot(ax = ax, color = 'red', alpha = 0.4, zorder=2)\n",
        "shp_communes.to_crs(3857).plot(ax = ax, zorder=1, edgecolor = \"black\", facecolor=\"none\",\n",
        "                                                           color = None)"
      ],
      "id": "695b9a69",
      "execution_count": null,
      "outputs": []
    },
    {
      "cell_type": "code",
      "metadata": {},
      "source": [
        "#| echo: false\n",
        "ax.get_figure()"
      ],
      "id": "acd261ba",
      "execution_count": null,
      "outputs": []
    },
    {
      "cell_type": "markdown",
      "metadata": {},
      "source": [
        ":three:\n",
        "Ajouter un fond de carte de type *open street map* grâce au package\n",
        "`contextily`\n"
      ],
      "id": "aa4bba5c"
    },
    {
      "cell_type": "code",
      "metadata": {},
      "source": [
        "#| output: false\n",
        "#| echo: true\n",
        "\n",
        "fig,ax = plt.subplots(figsize=(10, 10))\n",
        "stations.sample(200).to_crs(3857).plot(ax = ax, color = 'red', alpha = 0.4, zorder=2)\n",
        "shp_communes.to_crs(3857).plot(ax = ax, zorder=1, edgecolor = \"black\", facecolor=\"none\",\n",
        "                                                           color = None)\n",
        "ctx.add_basemap(ax, source = ctx.providers.Stamen.Watercolor)"
      ],
      "id": "3e6f99ab",
      "execution_count": null,
      "outputs": []
    },
    {
      "cell_type": "code",
      "metadata": {},
      "source": [
        "#| echo: false\n",
        "ax.get_figure()"
      ],
      "id": "bfe80d67",
      "execution_count": null,
      "outputs": []
    },
    {
      "cell_type": "markdown",
      "metadata": {},
      "source": [
        ":four:\n",
        "Il ne reste plus qu'à retirer l'axe des coordonnées, qui n'est pas très \n",
        "esthétique.\n"
      ],
      "id": "86711213"
    },
    {
      "cell_type": "code",
      "metadata": {},
      "source": [
        "#| output: false\n",
        "#| echo: true\n",
        "\n",
        "fig,ax = plt.subplots(figsize=(10, 10))\n",
        "stations.sample(200).to_crs(3857).plot(ax = ax, color = 'red', alpha = 0.4, zorder=2)\n",
        "shp_communes.to_crs(3857).plot(ax = ax, zorder=1, edgecolor = \"black\", facecolor=\"none\",\n",
        "                                                           color = None)\n",
        "ctx.add_basemap(ax, source = ctx.providers.Stamen.Watercolor)\n",
        "ax.set_axis_off()\n",
        "ax"
      ],
      "id": "274e8ab8",
      "execution_count": null,
      "outputs": []
    },
    {
      "cell_type": "code",
      "metadata": {},
      "source": [
        "#| echo: false\n",
        "ax.get_figure()"
      ],
      "id": "fff29e8a",
      "execution_count": null,
      "outputs": []
    },
    {
      "cell_type": "markdown",
      "metadata": {},
      "source": [
        "*In fine*, on obtient la carte désirée. \n",
        "\n",
        "\n",
        "## Opérations sur les attributs\n",
        "\n",
        "Toutes les opérations possibles sur un objet `Pandas` le sont également\n",
        "sur un objet `GeoPandas`. Pour manipuler les données, et non la géométrie,\n",
        "on parlera d'opérations sur les attributs. \n",
        "\n",
        "Par exemple, si on désire \n",
        "connaître quelques statistiques sur la taille des stations:\n"
      ],
      "id": "ee872e64"
    },
    {
      "cell_type": "code",
      "metadata": {},
      "source": [
        "stations.describe()"
      ],
      "id": "425e16e6",
      "execution_count": null,
      "outputs": []
    },
    {
      "cell_type": "markdown",
      "metadata": {},
      "source": [
        "Pour connaître les plus grands départements de France métropolitaine,\n",
        "procédons en deux étapes:\n",
        "\n",
        "1. Récupérons le contour des communes de France métropolitaine dans son ensemble\n",
        "grâce à `cartiflette`.\n",
        "Notons qu'on pourrait récupérer directement les contours départementaux mais\n",
        "pour l'exercice, nous allons le créer nous-mêmes comme agrégation\n",
        "des contours communaux\n",
        "(voir [ce notebook `observable`](https://observablehq.com/@linogaliana/cartiflette-demo) pour la méthode plus\n",
        "légère qui utilise pleinement les fonctionnalités de `cartiflette`). \n",
        "2. Calculons la surface (méthode `area` sur un objet `GeoPandas.GeoDataFrame` ramenée en km², attention néamoins au système de projection comme cela est expliqué plus bas)\n"
      ],
      "id": "ece40624"
    },
    {
      "cell_type": "code",
      "metadata": {},
      "source": [
        "#| output: false\n",
        "from cartiflette.download import get_vectorfile_ign\n",
        "france = get_vectorfile_ign(\n",
        "  borders = \"COMMUNE\",\n",
        "  field = \"metropole\",\n",
        "  source = \"EXPRESS-COG-CARTO-TERRITOIRE\",\n",
        "  provider=\"IGN\"\n",
        ")"
      ],
      "id": "948c0f59",
      "execution_count": null,
      "outputs": []
    },
    {
      "cell_type": "code",
      "metadata": {},
      "source": [
        "france['surface'] = france.area.div(10**6)"
      ],
      "id": "9b77312f",
      "execution_count": null,
      "outputs": []
    },
    {
      "cell_type": "markdown",
      "metadata": {},
      "source": [
        "Les plus grands départements s'obtiennent par une agrégation des\n",
        "surfaces communales :\n"
      ],
      "id": "153edbc4"
    },
    {
      "cell_type": "code",
      "metadata": {},
      "source": [
        "france.groupby('INSEE_DEP').sum(numeric_only = True).sort_values('surface', ascending = False)"
      ],
      "id": "a20215e5",
      "execution_count": null,
      "outputs": []
    },
    {
      "cell_type": "markdown",
      "metadata": {},
      "source": [
        "Si on veut directement les plus\n",
        "grandes communes de France métropolitaine :\n"
      ],
      "id": "26683524"
    },
    {
      "cell_type": "code",
      "metadata": {},
      "source": [
        "france.sort_values('surface', ascending = False).head(10)"
      ],
      "id": "be0ce407",
      "execution_count": null,
      "outputs": []
    },
    {
      "cell_type": "markdown",
      "metadata": {},
      "source": [
        "Lors des étapes d'agrégation, `groupby` ne conserve pas les géométries. Autrement\n",
        "dit, si on effectue, par exemple, une somme en fonction d'une variable de groupe avec\n",
        "le combo `groupby(...).sum(...)` , on perd\n",
        "la dimension géographique. \n",
        "\n",
        "Il est néanmoins possible d'aggréger à la fois les géométries et les \n",
        "attribus avec la méthode `dissolve`: \n"
      ],
      "id": "5c7b39b5"
    },
    {
      "cell_type": "code",
      "metadata": {},
      "source": [
        "fig,ax = plt.subplots(figsize=(10, 10))\n",
        "france.dissolve(by='INSEE_DEP', aggfunc='sum').plot(ax = ax, column = \"surface\")\n",
        "ax.set_axis_off()\n",
        "ax"
      ],
      "id": "ae1963a1",
      "execution_count": null,
      "outputs": []
    },
    {
      "cell_type": "markdown",
      "metadata": {},
      "source": [
        "Pour produire cette carte, il serait néanmoins plus simple de directement\n",
        "récupérer les fonds officiels des départements plutôt que d'agréger les\n",
        "contours des communes:\n"
      ],
      "id": "5df5319d"
    },
    {
      "cell_type": "code",
      "metadata": {},
      "source": [
        "dep = get_vectorfile_ign(\n",
        "  borders = \"DEPARTEMENT\",\n",
        "  field = \"metropole\",\n",
        "  source = \"EXPRESS-COG-CARTO-TERRITOIRE\",\n",
        "  provider=\"IGN\")\n",
        "dep[\"area\"] = dep.area\n",
        "ax = dep.plot(column = \"area\")\n",
        "ax.set_axis_off()"
      ],
      "id": "d78d7e48",
      "execution_count": null,
      "outputs": []
    },
    {
      "cell_type": "markdown",
      "metadata": {},
      "source": [
        "## Opérations sur les géométries\n",
        "\n",
        "\n",
        "Outre la représentation graphique simplifiée,\n",
        "sur laquelle nous reviendrons ultérieurement, l'intérêt principal d'utiliser\n",
        "`GeoPandas` est l'existence de méthodes efficaces pour\n",
        "manipuler la dimension spatiale. Un certain nombre proviennent du \n",
        "package\n",
        "[`Shapely`](https://shapely.readthedocs.io/en/latest/manual.html#general-attributes-and-methods). \n",
        "\n",
        "\n",
        "::: {.cell .markdown}\n",
        "\n",
        "```{=html}\n",
        "<div class=\"alert alert-danger\" role=\"alert\">\n",
        "<i class=\"fa-solid fa-triangle-exclamation\"></i> Warning</h3>\n",
        "```\n",
        "\n",
        "\n",
        "Les données sont en système de coordonnées WGS 84 ou pseudo-Mercator (epsg: `4326`) et ne sont pas projetées.\n",
        "C'est un format approprié lorsqu'il s'agit d'utiliser un fonds\n",
        "de carte `OpenStreetMap`, `Stamen`, `Google Maps`, etc.\n",
        "\n",
        "Mais ce n'est pas un\n",
        "format sur lequel on désire faire des calculs car les distances sont faussées sans utiliser de projection. D'ailleurs, `geopandas` refusera certaines opérations\n",
        "sur des données dont le crs est `4326`. On reprojete ainsi les données \n",
        "dans la projection officielle pour la métropole, le Lambert 93\n",
        "(epsg: `2154`).\n",
        "\n",
        "\n",
        "```{=html}\n",
        "</div>\n",
        "```\n",
        "\n",
        ":::\n",
        "\n",
        "Comme indiqué ci-dessus, nous reprojetons les données\n",
        "dans le système Lambert 93 qui ne fausse pas les\n",
        "calculs de distance et d'aires.\n"
      ],
      "id": "eee399e4"
    },
    {
      "cell_type": "code",
      "metadata": {},
      "source": [
        "communes = shp_communes.to_crs(2154)\n",
        "stations = stations.to_crs(2154)"
      ],
      "id": "1fd6df10",
      "execution_count": null,
      "outputs": []
    },
    {
      "cell_type": "markdown",
      "metadata": {},
      "source": [
        "Par exemple, on peut recalculer la taille d'une commune ou d'arrondissement\n",
        "avec la méthode `area` (et diviser par $10^6$ pour avoir des $km^2$ au lieu\n",
        "des $m^2$):\n"
      ],
      "id": "b71c4048"
    },
    {
      "cell_type": "code",
      "metadata": {},
      "source": [
        "communes['superficie'] = communes.area.div(10**6)\n",
        "communes.head(3)"
      ],
      "id": "c09c6574",
      "execution_count": null,
      "outputs": []
    },
    {
      "cell_type": "markdown",
      "metadata": {},
      "source": [
        "Une méthode qu'on utilise régulièrement est `centroid` qui, comme son nom l'indique,\n",
        "recherche le centroïde de chaque polygone et transforme ainsi des données\n",
        "surfaciques en données ponctuelles. Par exemple, pour\n",
        "représenter approximativement les centres des villages de la\n",
        "Haute-Garonne (31), après avoir téléchargé le fonds de carte adapté,\n",
        "fera\n"
      ],
      "id": "b990be68"
    },
    {
      "cell_type": "code",
      "metadata": {},
      "source": [
        "communes_31 = s3.download_vectorfile_url_all(\n",
        "      crs = 4326,\n",
        "      values = \"31\",\n",
        "      borders=\"COMMUNE\",\n",
        "      vectorfile_format=\"topojson\",\n",
        "      filter_by=\"DEPARTEMENT\",\n",
        "      source=\"EXPRESS-COG-CARTO-TERRITOIRE\",\n",
        "      year=2022)\n",
        "\n",
        "# on reprojete en 3857 pour le fond de carte\n",
        "communes_31 = communes_31.to_crs(3857)\n",
        "\n",
        "# on calcule le centroide\n",
        "dep_31 = communes_31.copy()\n",
        "communes_31['geometry'] = communes_31['geometry'].centroid\n",
        "\n",
        "ax = communes_31.plot(figsize = (10,10), color = 'red', alpha = 0.4, zorder=2)\n",
        "dep_31.to_crs(3857).plot(ax = ax, zorder=1, edgecolor = \"black\", facecolor=\"none\",\n",
        "                                                           color = None)\n",
        "ctx.add_basemap(ax, source = ctx.providers.Stamen.Toner)\n",
        "ax.set_axis_off()\n",
        "ax"
      ],
      "id": "4e5a42a9",
      "execution_count": null,
      "outputs": []
    },
    {
      "cell_type": "markdown",
      "metadata": {},
      "source": [
        "# Gérer le système de projection\n",
        "\n",
        "Précédemment, nous avons appliqué une méthode `to_crs` pour reprojeter\n",
        "les données dans un système de projection différent de celui du fichier\n",
        "d'origine :\n"
      ],
      "id": "96f01704"
    },
    {
      "cell_type": "code",
      "metadata": {},
      "source": [
        "communes = communes.to_crs(2154)\n",
        "stations = stations.to_crs(2154)"
      ],
      "id": "0727e8c4",
      "execution_count": null,
      "outputs": []
    },
    {
      "cell_type": "markdown",
      "metadata": {},
      "source": [
        "Le système de projection est fondamental pour que la dimension\n",
        "spatiale soit bien interprétée par `Python`. Un mauvais système de représentation\n",
        "fausse l'appréciation visuelle mais peut aussi entraîner des erreurs dans\n",
        "les calculs sur la dimension spatiale.\n",
        "Ce [post](https://www.earthdatascience.org/courses/earth-analytics/spatial-data-r/geographic-vs-projected-coordinate-reference-systems-UTM/) propose de riches éléments sur le\n",
        "sujet, notamment l'image suivante qui montre bien le principe d'une projection :\n",
        "\n",
        "![Les différents types de projection](https://www.earthdatascience.org/images/courses/earth-analytics/spatial-data/spatial-projection-transformations-crs.png)\n",
        "\n",
        "La Terre peut ainsi être représentée de multiples manières, ce qui n'est pas neutre sur la manière de se représenter\n",
        "certains continents. \n",
        "L'Afrique apparaît beaucoup moins vaste qu'elle ne l'est en réalité sur les cartes utilisant\n",
        "cette projection.\n",
        "L'une des déformations les mieux connue est celle provoquée par la projection Mercator. \n",
        "Le Groënland paraît avoir\n",
        "la même surface que l'Amérique du Sud. Pourtant, cette dernière est 8 fois \n",
        "plus grande. \n",
        "\n",
        "Il existe en fait de nombreuses représentations possibles du monde, plus ou moins \n",
        "alambiquées. Les projections sont très nombreuses et certaines peuvent avoir une [forme suprenante](https://imgs.xkcd.com/comics/map_projections.png).\n",
        "Par exemple,\n",
        "la [projection de Spillhaus](https://storymaps.arcgis.com/stories/756bcae18d304a1eac140f19f4d5cb3d)\n",
        "propose de centrer la vue sur les océans et non une terre. C'est pour\n",
        "cette raison qu'on parle parfois de monde tel que vu par les poissons\n",
        "à son propos. \n",
        "\n",
        "\n",
        "![](truesize.png)\n",
        "*Exemple de reprojection de pays depuis le site [thetruesize.com](https://thetruesize.com/)* \n",
        "\n",
        "\n",
        "Concernant la gestion des projections avec `GeoPandas`,\n",
        "la [documentation officielle](https://geopandas.org/projections.html) est très bien\n",
        "faite. Elle fournit notamment l'avertissement suivant qu'il est\n",
        "bon d'avoir en tête:\n",
        "\n",
        "> Be aware that most of the time you don’t have to set a projection. Data loaded from a reputable source (using the geopandas.read_file() command) should always include projection information. You can see an objects current CRS through the GeoSeries.crs attribute.\n",
        "> \n",
        "> From time to time, however, you may get data that does not include a projection. In this situation, you have to set the CRS so geopandas knows how to interpret the coordinates.\n",
        "\n",
        "![](https://imgs.xkcd.com/comics/bad_map_projection_south_america.png)\n",
        "*Image empruntée à XKCD <https://xkcd.com/2256/> qu'on peut également trouver sur <https://blog.chrislansdown.com/2020/01/17/a-great-map-projection-joke/>*\n",
        "\n",
        "Pour déterminer le système de projection d'une base de données, on peut vérifier l'attribut `crs`:\n"
      ],
      "id": "e1c4c74b"
    },
    {
      "cell_type": "code",
      "metadata": {},
      "source": [
        "communes.crs"
      ],
      "id": "a125e9b6",
      "execution_count": null,
      "outputs": []
    },
    {
      "cell_type": "markdown",
      "metadata": {},
      "source": [
        "Les deux principales méthodes pour définir le système de projection utilisé sont:\n",
        "\n",
        "* **`df.set_crs`**: cette commande sert à préciser quel est le système de projection utilisé, c'est-à-dire comment les coordonnées *(x,y)* sont reliées à la surface terrestre. **Cette commande ne doit pas être utilisée pour transformer le système de coordonnées, seulement pour le définir**. \n",
        "* **`df.to_crs`**: **cette commande sert à projeter les points d'une géométrie dans une autre, c'est-à-dire à recalculer les coordonnées selon un autre système de projection.** \n",
        "\n",
        "Dans le cas particulier de production de carte avec un fond `OpenStreetMaps` ou une carte dynamique `leaflet`, il est nécessaire de dé-projeter les données (par exemple à partir du Lambert-93) pour atterrir dans le système non-projeté WGS 84 (code EPSG 4326). Ce site [dédié aux projections géographiques](https://epsg.io/) peut-être utile pour retrouver le système de projection d'un fichier où il n'est pas indiqué. \n",
        "\n",
        "La définition du système de projection se fait de la manière suivante (:warning: avant de le faire, se souvenir de l'avertissement !):\n",
        "\n",
        "~~~python\n",
        "communes = communes.set_crs(2154)\n",
        "~~~\n",
        "\n",
        "Alors que la reprojection (projection Albers : `5070`) s'obtient de la manière suivante :\n"
      ],
      "id": "759e03d4"
    },
    {
      "cell_type": "code",
      "metadata": {},
      "source": [
        "shp_region = get_vectorfile_ign(\n",
        "  borders = \"REGION\", field = \"metropole\",\n",
        "  source = \"EXPRESS-COG-CARTO-TERRITOIRE\", provider=\"IGN\")\n",
        "\n",
        "fig,ax = plt.subplots(figsize=(10, 10))\n",
        "shp_region.to_crs(5070).plot(ax = ax)\n",
        "ax"
      ],
      "id": "f10d4e2c",
      "execution_count": null,
      "outputs": []
    },
    {
      "cell_type": "code",
      "metadata": {},
      "source": [
        "#| echo: false\n",
        "ax.set_axis_off()\n",
        "ax\n",
        "plt.tight_layout(pad=0, h_pad = 0)\n",
        "plt.show()\n",
        "#plt.savefig('reproj1.png', bbox_inches='tight')"
      ],
      "id": "91ac4440",
      "execution_count": null,
      "outputs": []
    },
    {
      "cell_type": "markdown",
      "metadata": {},
      "source": [
        "On le voit, cela modifie totalement la représentation de l'objet dans l'espace.\n",
        "Clairement, cette projection n'est pas adaptée aux longitudes et latitudes françaises.\n",
        "C'est normal, il s'agit d'une projection adaptée au continent \n",
        "nord-américain (et encore, pas dans son ensemble !).\n"
      ],
      "id": "700838a3"
    },
    {
      "cell_type": "code",
      "metadata": {},
      "source": [
        "world = gpd.read_file(gpd.datasets.get_path('naturalearth_lowres'))\n",
        "\n",
        "fig,ax = plt.subplots(figsize=(10, 10))\n",
        "world[world.continent == \"North America\"].to_crs(5070).plot(alpha = 0.2, edgecolor = \"k\", ax = ax)\n",
        "ax"
      ],
      "id": "2485d33b",
      "execution_count": null,
      "outputs": []
    },
    {
      "cell_type": "code",
      "metadata": {},
      "source": [
        "#| echo: false\n",
        "\n",
        "plt.tight_layout(pad=0, h_pad = 0)\n",
        "plt.show()\n",
        "#plt.savefig('reproj2.png', bbox_inches='tight')"
      ],
      "id": "1d57ea89",
      "execution_count": null,
      "outputs": []
    },
    {
      "cell_type": "markdown",
      "metadata": {},
      "source": [
        "# Joindre des données\n",
        "\n",
        "## Joindre des données sur des attributs\n",
        "\n",
        "Ce type de jointure se fait entre un objet géographique et un\n",
        "deuxième objet, géographique ou non. A l'exception de la question \n",
        "des géométries, il n'y a pas de différence par rapport à `Pandas`. \n",
        "\n",
        "La seule différence avec `Pandas` est dans la dimension géographique.\n",
        "Si on désire conserver la dimension géographique, il faut faire \n",
        "attention à faire :\n",
        "\n",
        "~~~~python\n",
        "geopandas_object.merge(pandas_object)\n",
        "~~~~\n",
        "\n",
        "Si on utilise deux objets géographiques mais ne désire conserver qu'une seule\n",
        "dimension géographique[^2], on fera\n",
        "\n",
        "~~~~python\n",
        "geopandas_object1.merge(geopandas_object2)\n",
        "~~~~\n",
        "\n",
        "Seule la géométrie de l'objet de gauche\n",
        "sera conservée, même si on fait un *right join*. \n",
        "\n",
        "\n",
        "[^2]: Il est techniquement possible d'avoir un `DataFrame` comportant plusieurs\n",
        "géographies. Par exemple une géométrie polygone et une géométrie point\n",
        "(le centroid). C'est néanmoins souvent compliqué à gérer et donc peu\n",
        "recommandable.\n",
        "\n",
        "\n",
        "\n",
        "## Prolongation possible : joindre des données sur dimension géographique\n",
        "\n",
        "Le chapitre suivant permettra de mettre en oeuvre des \n",
        "jointures géographiques.\n",
        "\n",
        "\n",
        "::: {.cell .markdown}\n",
        "\n",
        "```{=html}\n",
        "<div class=\"alert alert-warning\" role=\"alert\">\n",
        "<h3 class=\"alert-heading\"><i class=\"fa-solid fa-lightbulb\"></i> Hint</h3>\n",
        "```\n",
        "\n",
        "\n",
        "Les jointures spatiales peuvent être très gourmandes en ressources (car il peut être nécessaire de croiser toutes les géométries de `x` avec toutes les géométries de `y`). Voici deux conseils qui peuvent vous aider :\n",
        "\n",
        "- Il est préférable de tester les jointures géographiques sur un petit échantillon de données, pour estimer le temps et les ressources nécessaires à la réalisation de la jointure.\n",
        "- Il est parfois possible d'écrire une fonction qui réduit la taille du problème. Exemple: vous voulez déterminer dans quelle commune se situe un logement dont vous connaissez les coordonnées et le département; vous pouvez écrire une fonction qui réalise pour chaque département une jointure spatiale entre les logements situés dans ce département et les communes de ce département, puis empiler les 101 tables de sorties.\n",
        "\n",
        "\n",
        "```{=html}\n",
        "</div>\n",
        "```\n",
        "\n",
        ":::\n",
        "\n",
        "# Annexe\n",
        "\n",
        "## Récupération des données depuis data.gouv\n",
        "\n",
        "Avec cette méthode, les données des limites administratives demandent donc un peu de travail pour être\n",
        "importées car elles sont zippées (mais c'est un bon exercice !). \n",
        "\n",
        "Le code suivant, dont les \n",
        "détails apparaîtront plus clairs après la lecture de la partie\n",
        "*[webscraping](webscraping)* permet de :\n",
        "\n",
        "1. Télécharger les données avec `requests` dans un dossier temporaire\n",
        "2. Les dézipper avec le module `zipfile`\n",
        "\n",
        "La fonction suivante automatise un peu le processus :\n"
      ],
      "id": "6f1e5280"
    },
    {
      "cell_type": "code",
      "metadata": {},
      "source": [
        "#| eval: false\n",
        "import requests\n",
        "import tempfile\n",
        "import zipfile\n",
        "\n",
        "url = 'https://www.data.gouv.fr/fr/datasets/r/0e117c06-248f-45e5-8945-0e79d9136165'\n",
        "temporary_location = tempfile.gettempdir()\n",
        "\n",
        "def download_unzip(url, dirname = tempfile.gettempdir(), destname = \"borders\"):\n",
        "  myfile = requests.get(url)\n",
        "  open(\"{}/{}.zip\".format(dirname, destname), 'wb').write(myfile.content)\n",
        "  with zipfile.ZipFile(\"{}/{}.zip\".format(dirname, destname), 'r') as zip_ref:\n",
        "      zip_ref.extractall(dirname + '/' + destname)"
      ],
      "id": "e29d35ce",
      "execution_count": null,
      "outputs": []
    },
    {
      "cell_type": "code",
      "metadata": {},
      "source": [
        "#| eval: false\n",
        "#| output: false\n",
        "\n",
        "download_unzip(url)"
      ],
      "id": "403dde3f",
      "execution_count": null,
      "outputs": []
    },
    {
      "cell_type": "code",
      "metadata": {},
      "source": [
        "#| eval: false\n",
        "#| output: false\n",
        "shp_communes = gpd.read_file(temporary_location + \"/borders/communes-20220101.shp\")"
      ],
      "id": "14030d66",
      "execution_count": null,
      "outputs": []
    },
    {
      "cell_type": "markdown",
      "metadata": {},
      "source": [
        "Ici, les données ne sont pas projetées puisqu'elles sont dans le \n",
        "système WSG84 (epsg: 4326) ce qui permet de facilement ajouter\n",
        "un fonds de carte `Openstreetmap` ou `Stamen` pour rendre une représentation\n",
        "graphique plus esthétique.\n",
        "En toute rigueur, pour faire une carte statique d'un pays en particulier,\n",
        "il faudrait reprojeter les données dans un système de projection adapté à la zone géographique étudiée\n",
        "(par exemple le Lambert-93 pour la France métropolitaine).\n",
        "\n",
        "On peut ainsi représenter Paris pour se donner une idée de la nature\n",
        "du shapefile utilisé :\n"
      ],
      "id": "27db724f"
    },
    {
      "cell_type": "code",
      "metadata": {},
      "source": [
        "#| eval: false\n",
        "paris = shp_communes.loc[shp_communes['insee'].str.startswith(\"75\")]\n",
        "\n",
        "fig,ax = plt.subplots(figsize=(10, 10))\n",
        "paris.plot(ax = ax, alpha=0.5, edgecolor='blue')\n",
        "ctx.add_basemap(ax, crs = paris.crs.to_string())\n",
        "ax.set_axis_off()\n",
        "ax"
      ],
      "id": "a29df8b4",
      "execution_count": null,
      "outputs": []
    },
    {
      "cell_type": "markdown",
      "metadata": {},
      "source": [
        "On voit ainsi que les données pour Paris ne comportent pas d'arrondissement, \n",
        "ce qui est limitant pour une analyse focalisée sur Paris. On va donc les\n",
        "récupérer sur le site d'open data de la ville de Paris et les substituer \n",
        "à Paris :\n"
      ],
      "id": "1b1eb8b2"
    },
    {
      "cell_type": "code",
      "metadata": {},
      "source": [
        "#| eval: false\n",
        "#| echo: true\n",
        "\n",
        "arrondissements = gpd.read_file(\"https://opendata.paris.fr/explore/dataset/arrondissements/download/?format=geojson&timezone=Europe/Berlin&lang=fr\")\n",
        "arrondissements = arrondissements.rename(columns = {\"c_arinsee\": \"insee\"})\n",
        "arrondissements['insee'] = arrondissements['insee'].astype(str)\n",
        "shp_communes = shp_communes[~shp_communes.insee.str.startswith(\"75\")].append(arrondissements)"
      ],
      "id": "0834417a",
      "execution_count": null,
      "outputs": []
    },
    {
      "cell_type": "markdown",
      "metadata": {},
      "source": [
        "Pour produire la carte, il faudrait faire:\n"
      ],
      "id": "7a1a2c3c"
    },
    {
      "cell_type": "code",
      "metadata": {},
      "source": [
        "#| eval: false\n",
        "paris = shp_communes.loc[shp_communes.insee.str.startswith(\"75\")]\n",
        "\n",
        "fig,ax = plt.subplots(figsize=(10, 10))\n",
        "\n",
        "paris.plot(ax = ax, alpha=0.5, edgecolor='k')\n",
        "ctx.add_basemap(ax, crs = paris.crs.to_string())\n",
        "ax.set_axis_off()\n",
        "ax"
      ],
      "id": "edd49191",
      "execution_count": null,
      "outputs": []
    },
    {
      "cell_type": "markdown",
      "metadata": {},
      "source": [
        "## Récupération des données depuis le package `pynsee`\n",
        "\n",
        "\n",
        "Pour connaître les contraintes d'installation du package `pynsee`,\n",
        "se référer à la partie de cours dédiée à `Pandas`.\n"
      ],
      "id": "6457cfee"
    },
    {
      "cell_type": "code",
      "metadata": {},
      "source": [
        "#| output: false\n",
        "#| eval: false\n",
        "\n",
        "#le téléchargement des données prend plusieurs minutes\n",
        "from pynsee.geodata import get_geodata\n",
        "shp_communes = gpd.GeoDataFrame(\n",
        "  get_geodata('ADMINEXPRESS-COG-CARTO.LATEST:commune')\n",
        ")\n",
        "shp_communes = shp_communes.rename({\"insee_com\": 'insee'}, axis = 'columns')\n",
        "#shp_communes = shp_communes.set_crs(3857)"
      ],
      "id": "9c7b56ba",
      "execution_count": null,
      "outputs": []
    }
  ],
  "metadata": {
    "kernelspec": {
      "name": "python3",
      "language": "python",
      "display_name": "Python 3 (ipykernel)"
    }
  },
  "nbformat": 4,
  "nbformat_minor": 5
}