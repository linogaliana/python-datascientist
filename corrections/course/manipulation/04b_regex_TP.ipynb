{
  "cells": [
    {
      "cell_type": "raw",
      "metadata": {},
      "source": [
        "---\n",
        "title: \"Maîtriser les expressions régulières\"\n",
        "date: 2020-09-08T13:00:00Z\n",
        "draft: false\n",
        "weight: 70\n",
        "slug: regex\n",
        "tags:\n",
        "  - regex\n",
        "  - pandas\n",
        "  - re\n",
        "  - Manipulation\n",
        "  - Tutoriel\n",
        "categories:\n",
        "  - Tutoriel\n",
        "type: book\n",
        "summary: |\n",
        "  Les expressions régulières fournissent un cadre très pratique pour manipuler\n",
        "  de manière flexible des données textuelles. Elles sont très utiles\n",
        "  notamment pour les tâches de traitement naturel du langage (__NLP__)\n",
        "  ou le nettoyage de données textuelles.\n",
        "image: featured.png\n",
        "---"
      ],
      "id": "7c16345a"
    },
    {
      "cell_type": "markdown",
      "metadata": {},
      "source": [
        "::: {.cell .markdown}"
      ],
      "id": "7f68d4d3"
    },
    {
      "cell_type": "code",
      "metadata": {},
      "source": [
        "#| output: 'asis'\n",
        "#| include: true\n",
        "#| eval: true\n",
        "\n",
        "import sys\n",
        "sys.path.insert(1, '../../../../') #insert the utils module\n",
        "from utils import print_badges\n",
        "\n",
        "#print_badges(__file__)\n",
        "print_badges(\"content/course/manipulation/04b_regex_TP.qmd\")"
      ],
      "id": "49f07ccf",
      "execution_count": null,
      "outputs": []
    },
    {
      "cell_type": "markdown",
      "metadata": {},
      "source": [
        ":::\n",
        "\n",
        "# Introduction\n",
        "\n",
        "`Python` offre énormément de fonctionalités très pratiques pour la manipulation de données\n",
        "textuelles. C'est l'une des raisons de son\n",
        "succès dans la communauté du traitement automatisé du langage (NLP, voir partie dédiée). \n",
        "\n",
        "Dans les chapitres précédents, nous avons parfois été amenés à chercher des éléments textuels basiques. Cela était possible avec la méthode `str.find` du package `Pandas` qui constitue une version vectorisée de la méthode `find`\n",
        "de base. Nous avons d'ailleurs\n",
        "pu utiliser cette dernière directement, notamment lorsqu'on a fait du _webscraping_. \n",
        "\n",
        "Cependant, cette fonction de recherche\n",
        "trouve rapidement ses limites. \n",
        "Par exemple, si on désire trouver à la fois les occurrences d'un terme au singulier\n",
        "et au pluriel, il sera nécessaire d'utiliser\n",
        "au moins deux fois la méthode `find`.\n",
        "Pour des verbes conjugués, cela devient encore plus complexe, en particulier si ceux-ci changent de forme selon le sujet. \n",
        " \n",
        "Pour des expressions compliquées, il est conseillé d'utiliser les __expressions régulières__,\n",
        "ou _\"regex\"_. C'est une fonctionnalité qu'on retrouve dans beaucoup de langages. C'est une forme de grammaire qui permet de rechercher des expressions.\n",
        "\n",
        "Une partie du contenu de cette partie\n",
        "est une adaptation de la\n",
        "[documentation collaborative sur `R` nommée `utilitR`](https://www.book.utilitr.org/textdata.html#regex) à laquelle j'ai participé. Ce chapitre reprend aussi du contenu du\n",
        "livre [_R for Data Science_](https://r4ds.hadley.nz/regexps.html) qui présente un chapitre \n",
        "très pédagogique sur les regex.\n",
        "\n",
        "Nous allons utiliser le _package_ `re` pour illustrer nos exemples d'expressions\n",
        "régulières. Il s'agit du package de référence, qui est utilisé, en arrière-plan,\n",
        "par `Pandas` pour vectoriser les recherches textuelles. \n"
      ],
      "id": "4854faff"
    },
    {
      "cell_type": "code",
      "metadata": {},
      "source": [
        "import re\n",
        "import pandas as pd"
      ],
      "id": "a4619cf7",
      "execution_count": null,
      "outputs": []
    },
    {
      "cell_type": "markdown",
      "metadata": {},
      "source": [
        "::: {.cell .markdown}\n",
        "\n",
        "```{=html}\n",
        "<div class=\"alert alert-warning\" role=\"alert\" style=\"color: rgba(0,0,0,.8); background-color: white; margin-top: 1em; margin-bottom: 1em; margin:1.5625emauto; padding:0 .6rem .8rem!important;overflow:hidden; page-break-inside:avoid; border-radius:.25rem; box-shadow:0 .2rem .5rem rgba(0,0,0,.05),0 0 .05rem rgba(0,0,0,.1); transition:color .25s,background-color .25s,border-color .25s ; border-right: 1px solid #dee2e6 ; border-top: 1px solid #dee2e6 ; border-bottom: 1px solid #dee2e6 ; border-left:.2rem solid #ffc10780;\">\n",
        "<h3 class=\"alert-heading\"><i class=\"fa fa-lightbulb-o\"></i> Hint</h3>\n",
        "```\n",
        "\n",
        "\n",
        "**Les expressions régulières (*regex*) sont notoirement difficiles à maîtriser.** Il existe des outils qui facilitent le travail avec les expressions régulières.\n",
        "\n",
        "- L'outil de référence pour ceci est [https://regex101.com/] qui permet de tester des `regex` en `Python`\n",
        "tout en ayant une explication qui accompagne ce test\n",
        "\n",
        "- De même pour [ce site](https://ole.michelsen.dk/tools/regex/) qui comporte une cheat sheet en bas de la page. \n",
        "\n",
        "- Les jeux de [Regex Crossword](https://regexcrossword.com/) permettent d'apprendre les expressions régulières en s'amusant\n",
        "\n",
        "\n",
        "Il peut être pratique de demander à des IA assistantes, comme `Github Copilot` ou `ChatGPT`, une\n",
        "première version d'une regex en expliquant le contenu qu'on veut extraire.\n",
        "Cela peut faire économiser pas mal de temps, sauf quand l'IA fait preuve d'une confiance excessive\n",
        "et vous propose avec aplomb une regex totalement fausse...\n",
        "\n",
        "\n",
        "```{=html}\n",
        "</div>\n",
        "```\n",
        "\n",
        ":::\n",
        "\n",
        "\n",
        "# Principe\n",
        "\n",
        "**Les expressions régulières sont un outil permettant de décrire un ensemble de chaînes de caractères possibles selon une syntaxe précise, et donc de définir un motif (ou `pattern`).** Les expressions régulières servent par exemple lorsqu'on veut extraire une partie d'une chaîne de caractères, ou remplacer une partie d'une chaîne de caractères. Une expression régulière prend la forme d'une chaîne de caractères, qui peut contenir à la fois des éléments littéraux et des caractères spéciaux qui ont un sens logique. \n",
        "\n",
        "Par exemple, `\"ch.+n\"` est une expression régulière qui décrit le motif suivant: la chaîne littérale `ch`, suivi de n'importe quelle chaîne d'au moins un caractère (`.+`), suivie de la lettre `n`. Dans la chaîne `\"J'ai un chien.\"`, la sous-chaîne `\"chien\"` correspond à ce motif. De même pour `\"chapeau ron\"` dans `\"J'ai un chapeau rond\"`. En revanche, dans la chaîne `\"La soupe est chaude.\"`, aucune sous-chaîne ne correpsond à ce motif (car aucun `n` n'apparaît après le `ch`).\n",
        "\n",
        "Pour s'en convaincre, nous pouvons déjà regarder\n",
        "les deux premiers cas:\n"
      ],
      "id": "876b91cc"
    },
    {
      "cell_type": "code",
      "metadata": {},
      "source": [
        "pattern = \"ch.+n\"\n",
        "print(re.search(pattern, \"J'ai un chien.\"))\n",
        "print(re.search(pattern, \"J'ai un chapeau rond.\"))"
      ],
      "id": "1d977bae",
      "execution_count": null,
      "outputs": []
    },
    {
      "cell_type": "markdown",
      "metadata": {},
      "source": [
        "Cependant, dans le dernier cas, nous ne trouvons pas\n",
        "le _pattern_ recherché:\n"
      ],
      "id": "dccee4e4"
    },
    {
      "cell_type": "code",
      "metadata": {},
      "source": [
        "print(re.search(pattern, \"La soupe est chaude.\"))"
      ],
      "id": "1d2e4c81",
      "execution_count": null,
      "outputs": []
    },
    {
      "cell_type": "markdown",
      "metadata": {},
      "source": [
        "La regex précédente comportait deux types de caractères:\n",
        "\n",
        "- les _caractères littéraux_: lettres et nombres qui sont reconnus de manière littérale\n",
        "- les _méta-caractères_: symboles qui ont un sens particulier dans les regex.\n",
        "\n",
        "Les principaux _méta-caractères_ sont `.`, `+`, `*`, `[`, `]`, `^` et `$` mais il\n",
        "en existe beaucoup d'autres.\n",
        "Parmi cet ensemble, on utilise principalement les quantifieurs (`.`, `+`, `*`...),\n",
        "les classes de caractères (ensemble qui sont délimités par `[` et `]`)\n",
        "ou les ancres (`^`, `$`...)\n",
        "\n",
        "Dans l'exemple précédent, \n",
        "nous retrouvions deux quantifieurs accolés `.+`. Le premier (`.`) signifie n'importe quel caractère<a name=\"cite_ref-1\"></a>[<sup>[1]</sup>](#cite_note-1). Le deuxième (`+`) signifie _\"répète le pattern précédent\"_.\n",
        "Dans notre cas, la combinaison `.+` permet ainsi de répéter n'importe quel caractère avant de trouver un _n_. \n",
        "Le nombre de fois est indeterminé: cela peut ne pas être pas nécessaire d'intercaler des caractères avant le _n_ \n",
        "ou cela peut être nécessaire d'en intercepter plusieurs:\n"
      ],
      "id": "68d915d3"
    },
    {
      "cell_type": "code",
      "metadata": {},
      "source": [
        "print(re.search(pattern, \"J'ai un chino\"))\n",
        "print(re.search(pattern, \"J'ai un chiot très mignon.\"))"
      ],
      "id": "81a4f108",
      "execution_count": null,
      "outputs": []
    },
    {
      "cell_type": "markdown",
      "metadata": {},
      "source": [
        "```{=html}\n",
        "<a name=\"cite_note-1\"></a>1. [^](#cite_ref-1)\n",
        "```\n",
        "\n",
        " N'importe quel caractère à part le retour à la ligne (`\\n`). Ceci est à garder en tête, j'ai déjà perdu des heures à chercher pourquoi mon `.` ne capturait pas ce que je voulais qui s'étalait sur plusieurs lignes...\n",
        "\n",
        "## Classes de caractères\n",
        "\n",
        "Lors d’une recherche, on s’intéresse aux caractères et souvent aux classes de caractères : on cherche un chiffre, une lettre, un caractère dans un ensemble précis ou un caractère qui n’appartient pas à un ensemble précis. Certains ensembles sont prédéfinis, d’autres doivent être définis à l’aide de crochets.\n",
        "\n",
        "Pour définir un ensemble de caractères, il faut écrire cet ensemble entre crochets. Par exemple, `[0123456789]` désigne un chiffre. Comme c’est une séquence de caractères consécutifs, on peut résumer cette écriture en `[0-9]`. \n",
        "\n",
        "Par\n",
        "exemple, si on désire trouver tous les _pattern_ qui commencent par un `c` suivi \n",
        "d'un `h` puis d'une voyelle (a, e, i, o, u), on peut essayer\n",
        "cette expression régulière. \n"
      ],
      "id": "bb9ca716"
    },
    {
      "cell_type": "code",
      "metadata": {},
      "source": [
        "re.findall(\"[c][h][aeiou]\", \"chat, chien, veau, vache, chèvre\")"
      ],
      "id": "821fd12d",
      "execution_count": null,
      "outputs": []
    },
    {
      "cell_type": "markdown",
      "metadata": {},
      "source": [
        "Il serait plus pratique d'utiliser `Pandas` dans ce cas pour isoler les \n",
        "lignes qui répondent à la condition logique (en ajoutant les accents\n",
        "qui ne sont pas compris sinon):\n"
      ],
      "id": "cb40889d"
    },
    {
      "cell_type": "code",
      "metadata": {},
      "source": [
        "import pandas as pd\n",
        "txt = pd.Series(\"chat, chien, veau, vache, chèvre\".split(\", \"))\n",
        "txt.str.match(\"ch[aeéèiou]\")"
      ],
      "id": "5dded954",
      "execution_count": null,
      "outputs": []
    },
    {
      "cell_type": "markdown",
      "metadata": {},
      "source": [
        "Cependant, l'usage ci-dessus des classes de caractères\n",
        "n'est pas le plus fréquent. \n",
        "On privilégie celles-ci pour identifier des\n",
        "pattern complexe plutôt qu'une suite de caractères littéraux.\n",
        "Les tableaux d'aide mémoire illustrent une partie des\n",
        "classes de caractères les plus fréquentes\n",
        "(`[:digit:]` ou `\\d`...)\n",
        "\n",
        "## Quantifieurs\n",
        "\n",
        "Nous avons rencontré les quantifieurs avec notre première expression\n",
        "régulière. Ceux-ci contrôlent le nombre de fois \n",
        "qu'un _pattern_ est rencontré. \n",
        "\n",
        "Les plus fréquents sont: \n",
        "\n",
        "- `?` : 0 ou 1 match ;\n",
        "- `+` : 1 ou plus de matches ;\n",
        "- `*` : 0 or more matches. \n",
        "\n",
        "Par exemple, `colou?r` permettra de matcher à la fois l'écriture américaine et anglaise\n"
      ],
      "id": "b0b41e48"
    },
    {
      "cell_type": "code",
      "metadata": {},
      "source": [
        "re.findall(\"colou?r\", \"Did you write color or colour?\")"
      ],
      "id": "8d04943f",
      "execution_count": null,
      "outputs": []
    },
    {
      "cell_type": "markdown",
      "metadata": {},
      "source": [
        "Ces quantifiers peuvent bien-sûr être associés à \n",
        "d'autres types de caractères, notamment les classes de caractères. \n",
        "Cela peut être extrèmement pratique.\n",
        "Par exemple, `\\d+` permettra de capturer un ou plusieurs chiffres, `\\s?`\n",
        "permettra d'ajouter en option un espace,\n",
        "`[\\w]{6,8}` un mot entre six et huit lettres qu’on écrira...\n",
        "\n",
        "Il est aussi possible de définir le nombre de répétitions\n",
        "avec `{}`:\n",
        "\n",
        "- `{n}` matche exactement _n_ fois ;\n",
        "- `{n,}` matche au moins _n_ fois ;\n",
        "- `{n,m}` matche entre _n_ et _m_ fois.\n",
        "\n",
        "Cependant, la répétition des termes\n",
        "ne s'applique par défaut qu'au dernier\n",
        "caractère précédent le quantifier. \n",
        "On peut s'en convaincre avec l'exemple ci-dessus:\n"
      ],
      "id": "35a55bdb"
    },
    {
      "cell_type": "code",
      "metadata": {},
      "source": [
        "print(re.match(\"toc{4}\",\"toctoctoctoc\"))"
      ],
      "id": "6331a3f5",
      "execution_count": null,
      "outputs": []
    },
    {
      "cell_type": "markdown",
      "metadata": {},
      "source": [
        "Pour pallier ce problème, il existe les parenthèses.\n",
        "Le principe est le même qu'avec les règles numériques:\n",
        "les parenthèses permettent d'introduire une hiérarchie. \n",
        "Pour reprendre l'exemple précédent, on obtient\n",
        "bien le résultat attendu grâce aux parenthèses:\n"
      ],
      "id": "8afdcafe"
    },
    {
      "cell_type": "code",
      "metadata": {},
      "source": [
        "print(re.match(\"(toc){4}\",\"toctoctoctoc\"))\n",
        "print(re.match(\"(toc){5}\",\"toctoctoctoc\"))\n",
        "print(re.match(\"(toc){2,4}\",\"toctoctoctoc\"))"
      ],
      "id": "93251c60",
      "execution_count": null,
      "outputs": []
    },
    {
      "cell_type": "markdown",
      "metadata": {},
      "source": [
        "::: {.cell .markdown}\n",
        "\n",
        "```{=html}\n",
        "<div class=\"alert alert-info\" role=\"alert\" style=\"color: rgba(0,0,0,.8); background-color: white; margin-top: 1em; margin-bottom: 1em; margin:1.5625emauto; padding:0 .6rem .8rem!important;overflow:hidden; page-break-inside:avoid; border-radius:.25rem; box-shadow:0 .2rem .5rem rgba(0,0,0,.05),0 0 .05rem rgba(0,0,0,.1); transition:color .25s,background-color .25s,border-color .25s ; border-right: 1px solid #dee2e6 ; border-top: 1px solid #dee2e6 ; border-bottom: 1px solid #dee2e6 ; border-left:.2rem solid #007bff80;\">\n",
        "<h3 class=\"alert-heading\"><i class=\"fa fa-comment\"></i> Note</h3>\n",
        "```\n",
        "\n",
        "\n",
        "L’algorithme des expressions régulières essaye toujours de faire correspondre le plus grand morceau à l’expression régulière. \n",
        "\n",
        "Par exemple, soit une chaine de caractère HTML: \n"
      ],
      "id": "896b5938"
    },
    {
      "cell_type": "code",
      "metadata": {},
      "source": [
        "s = \"<h1>Super titre HTML</h1>\""
      ],
      "id": "29cd34a5",
      "execution_count": null,
      "outputs": []
    },
    {
      "cell_type": "markdown",
      "metadata": {},
      "source": [
        "L'expression régulière `re.findall(\"<.*>\", s)` correspond, potentiellement,\n",
        "à trois morceaux : \n",
        "\n",
        "*  ``<h1>``\n",
        "*  ``</h1>``\n",
        "* ``<h1>Super titre HTML</h1>``\n",
        "\n",
        "C'est ce dernier qui sera choisi, car le plus grand. Pour \n",
        "sélectionner le plus petit, \n",
        "il faudra écrire les multiplicateurs comme ceci : `*?`, `+?`.\n",
        "En voici quelques exemples:\n"
      ],
      "id": "8d3a438c"
    },
    {
      "cell_type": "code",
      "metadata": {},
      "source": [
        "s = \"<h1>Super titre HTML</h1>\\n<p><code>Python</code> est un langage très flexible</p>\"\n",
        "print(re.findall(\"<.*>\", s))\n",
        "print(re.findall(\"<p>.*</p>\", s))\n",
        "print(re.findall(\"<p>.*?</p>\", s))\n",
        "print(re.compile(\"<.*?>\").findall(s))"
      ],
      "id": "8206ecc6",
      "execution_count": null,
      "outputs": []
    },
    {
      "cell_type": "markdown",
      "metadata": {},
      "source": [
        "```{=html}\n",
        "</div>\n",
        "```\n",
        "\n",
        ":::\n",
        "\n",
        "## Aide-mémoire\n",
        "\n",
        "Le tableau ci-dessous peut servir d'aide-mémoire\n",
        "sur les regex:\n",
        "\n",
        "|Expression régulière|Signification |\n",
        "|------------------|---------------------------------|\n",
        "|`\"^\"`             | Début de la chaîne de caractères |\n",
        "|`\"$\"`             | Fin de la chaîne de caractères |\n",
        "|`\"\\\\.\"`           | Un point |\n",
        "|`\".\"`             | N'importe quel caractère |\n",
        "|`\".+\"`            | N'importe quelle suite de caractères non vide |\n",
        "|`\".*\"`            | N'importe quelle suite de caractères, éventuellement vi\n",
        "|`\"[:alnum:]\"`     | Un caractère alphanumérique |\n",
        "|`\"[:alpha:]\"`     | Une lettre |\n",
        "|`\"[:digit:]\"`     | Un chiffre |\n",
        "|`\"[:lower:]\"`     | Une lettre minuscule |\n",
        "|`\"[:punct:]\"`     | Un signe de ponctuation |\n",
        "|`\"[:space:]\"`     | un espace |\n",
        "|`\"[:upper:]\"`     | Une lettre majuscule |\n",
        "|`\"[[:alnum:]]+\"`  | Une suite d'au moins un caractère alphanumérique |\n",
        "|`\"[[:alpha:]]+\"`  | Une suite d'au moins une lettre |\n",
        "|`\"[[:digit:]]+\"`  | Une suite d'au moins un chiffre |\n",
        "|`\"[[:lower:]]+\"`  | Une suite d'au moins une lettre minuscule |\n",
        "|`\"[[:punct:]]+\"`  | Une suite d'au moins un signe de ponctuation |\n",
        "|`\"[[:space:]]+\"`  | Une suite d'au moins un espace |\n",
        "|`\"[[:upper:]]+\"`  | Une suite d'au moins une lettre majuscule |\n",
        "|`\"[[:alnum:]]*\"`  | Une suite de caractères alphanumériques, éventuellement vide |\n",
        "|`\"[[:alpha:]]*\"`  | Une suite de lettres, éventuellement vide |\n",
        "|`\"[[:digit:]]*\"`  | Une suite de chiffres, éventuellement vide |\n",
        "|`\"[[:lower:]]*\"`  | Une suite de lettres minuscules, éventuellement vide |\n",
        "|`\"[[:upper:]]*\"`  | Une suite de lettres majuscules, éventuellement vide |\n",
        "|`\"[[:punct:]]*\"`  | Une suite de signes de ponctuation, éventuellement vide\n",
        "|`\"[^[:alpha:]]+\"` | Une suite d'au moins un caractère autre qu'une lettre |\n",
        "|`\"[^[:digit:]]+\"` | Une suite d'au moins un caractère autre qu'un chiffre |\n",
        "|`\"\\|\"`             | L'une des expressions `x` ou `y` est présente          |\n",
        "|`[abyz]`         | Un seul des caractères spécifiés  |\n",
        "|`[abyz]+`        | Un ou plusieurs des caractères spécifiés (éventuellement répétés) |   \n",
        "|`[^abyz]`        | Aucun des caractères spécifiés n'est présent  |\n",
        "\n",
        "\n",
        "Certaines classes de caractères bénéficient d'une syntaxe plus légère car\n",
        "elles sont très fréquentes. Parmi-celles:\n",
        "\n",
        "|Expression régulière|Signification |\n",
        "|------------------|---------------------------------|\n",
        "| `\\d`             | N'importe quel chiffre  |\n",
        "| `\\D`             | N'importe quel caractère qui n'est pas un caractère |\n",
        "| `\\s`             | N'importe quel espace (espace, tabulation, retour à la ligne) |\n",
        "| `\\S`             | N'importe quel caractère qui n'est pas un espace |\n",
        "| `\\w`             | N'importe quel type de mot (lettres et nombres)\n",
        "| `\\W`             | N'importe quel ensemble qui n'est pas un mot (lettres et nombres)\n",
        "\n",
        "\n",
        "Dans l'exercice suivant, vous allez pouvoir mettre en pratique\n",
        "les exemples précédents sur une `regex` un peu plus complète.\n",
        "Cet exercice ne nécessite pas la connaissance des subtilités \n",
        "du _package_ `re`, vous n'aurez besoin que de `re.findall`.\n",
        "\n",
        "Cet exercice utilisera la chaine de caractère suivante:\n"
      ],
      "id": "192428d5"
    },
    {
      "cell_type": "code",
      "metadata": {},
      "source": [
        "s = \"\"\"date 0 : 14/9/2000\n",
        "date 1 : 20/04/1971     date 2 : 14/09/1913     date 3 : 2/3/1978\n",
        "date 4 : 1/7/1986     date 5 : 7/3/47     date 6 : 15/10/1914\n",
        "date 7 : 08/03/1941     date 8 : 8/1/1980     date 9 : 30/6/1976\"\"\"\n",
        "s"
      ],
      "id": "acdc5204",
      "execution_count": null,
      "outputs": []
    },
    {
      "cell_type": "markdown",
      "metadata": {},
      "source": [
        "::: {.cell .markdown}\n",
        "\n",
        "```{=html}\n",
        "<div class=\"alert alert-success\" role=\"alert\" style=\"color: rgba(0,0,0,.8); background-color: white; margin-top: 1em; margin-bottom: 1em; margin:1.5625emauto; padding:0 .6rem .8rem!important;overflow:hidden; page-break-inside:avoid; border-radius:.25rem; box-shadow:0 .2rem .5rem rgba(0,0,0,.05),0 0 .05rem rgba(0,0,0,.1); transition:color .25s,background-color .25s,border-color .25s ; border-right: 1px solid #dee2e6 ; border-top: 1px solid #dee2e6 ; border-bottom: 1px solid #dee2e6 ; border-left:.2rem solid #3fb618;\">\n",
        "<h3 class=\"alert-heading\"><i class=\"fa fa-pencil\"></i> Exercice 1</h3>\n",
        "```\n",
        "\n",
        "\n",
        "1. On va d'abord s'occuper d'extraire le jour de naissance. \n",
        "    + Le premier chiffre du jour est 0, 1, 2 ou 3. Traduire cela sous la forme d'une séquence `[X-X]`\n",
        "    + Le deuxième chiffre du jour est lui entre 0 et 9. Traduire cela sous la séquence adéquate\n",
        "    + Remarquez que le premier jour est facultatif. Intercaler entre les deux classes de caractère adéquate \n",
        "     le quantifieur qui convient\n",
        "    + Ajouter le slash à la suite du motif\n",
        "    + Tester avec `re.findall`. Vous devriez obtenir beaucoup plus d'échos que nécessaire.\n",
        "      C'est normal, à ce stade la \n",
        "      regex n'est pas encore finalisée\n",
        "2. Suivre la même logique pour les mois en notant que les mois du calendrier grégorien ne dépassent\n",
        "  jamais la première dizaine. Tester avec `re.findall`\n",
        "3. De même pour les années de naissance en notant que jusqu'à preuve du contraire, pour des personnes vivantes\n",
        "aujourd'hui, les millénaires concernés sont restreints. Tester avec `re.findall`\n",
        "4. Cette regex n'est pas naturelle, on pourrait très bien se satisfaire de classes de\n",
        "caractères génériques `\\d` même si elles pourraient, en pratique, nous sélectionner des\n",
        "dates de naissance non possibles (`43/78/4528` par exemple). Cela permettrait\n",
        "d'alléger la regex afin de la rendre plus intelligible. Ne pas oublier l'utilité des quantifieurs.\n",
        "5. Comment adapter la regex pour qu'elle soit toujours valide pour nos cas mais permette aussi de\n",
        "capturer les dates de type `YYYY/MM/DD` ? Tester sur `1998/07/12`\n",
        "\n",
        "```{=html}\n",
        "</div>\n",
        "```\n",
        "\n",
        ":::\n",
        "\n",
        "A l'issue de la question 1, vous devriez avoir ce résultat :\n"
      ],
      "id": "091cdbcb"
    },
    {
      "cell_type": "code",
      "metadata": {},
      "source": [
        "re.findall(\"[0-3]?[0-9]/\", s)"
      ],
      "id": "ad24e723",
      "execution_count": null,
      "outputs": []
    },
    {
      "cell_type": "markdown",
      "metadata": {},
      "source": [
        "A l'issue de la question 2, vous devriez avoir ce résultat, qui\n",
        "commence à prendre forme:\n"
      ],
      "id": "3d700bb7"
    },
    {
      "cell_type": "code",
      "metadata": {},
      "source": [
        "re.findall(\"[0-3]?[0-9]/[0-1]?[0-9]\", s)"
      ],
      "id": "020cfa06",
      "execution_count": null,
      "outputs": []
    },
    {
      "cell_type": "markdown",
      "metadata": {},
      "source": [
        "A l'issue de la question 3, on parvient bien\n",
        "à extraire les dates :\n"
      ],
      "id": "6c6a881b"
    },
    {
      "cell_type": "code",
      "metadata": {},
      "source": [
        "# Question 3\n",
        "re.findall(\"[0-3]?[0-9]/[0-1]?[0-9]/[0-2]?[0-9]?[0-9][0-9]\", s)"
      ],
      "id": "c5541529",
      "execution_count": null,
      "outputs": []
    },
    {
      "cell_type": "code",
      "metadata": {},
      "source": [
        "#| output: false\n",
        "# Question 4\n",
        "re.findall(\"\\d{1,2}/\\d{1,2}/\\d{2,4}\", s)"
      ],
      "id": "720d1bc8",
      "execution_count": null,
      "outputs": []
    },
    {
      "cell_type": "markdown",
      "metadata": {},
      "source": [
        "Si tout va bien, à la question 5, votre regex devrait \n",
        "fonctionner: "
      ],
      "id": "7a1688f7"
    },
    {
      "cell_type": "code",
      "metadata": {},
      "source": [
        "# Question 5\n",
        "re.findall(\"\\d{1,4}/\\d{1,2}/\\d{1,4}\", s + \"\\n 1998/07/12\")"
      ],
      "id": "1b619834",
      "execution_count": null,
      "outputs": []
    },
    {
      "cell_type": "markdown",
      "metadata": {},
      "source": [
        "# Principales fonctions de `re`\n",
        "\n",
        "Voici un tableau récapitulatif des principales\n",
        "fonctions du package `re` suivi d'exemples.\n",
        "\n",
        "Nous avons principalement\n",
        "utilisé jusqu'à présent `re.findall` qui est\n",
        "l'une des fonctions les plus pratiques du _package_.\n",
        "`re.sub` et `re.search` sont également bien pratiques.\n",
        "Les autres sont moins vitales mais peuvent dans des\n",
        "cas précis être utiles. \n",
        "\n",
        "| Fonction         | Objectif        |\n",
        "|------------------|-----------------|\n",
        "| `re.match(<regex>, s)` | Trouver et renvoyer le __premier__ _match_ de l'expression régulière `<regex>` __à partir du début__ du _string_ `s` |\n",
        "| `re.search(<regex>, s)` | Trouver et renvoyer le __premier__ _match_ de l'expression régulière `<regex>` __quelle que soit sa position__ dans le _string_ `s` | \n",
        "| `re.finditer(<regex>, s)` | Trouver et renvoyer un itérateur stockant tous les _matches_ de l'expression régulière `<regex>` __quelle que soit leur(s) position(s)__ dans le _string_ `s`. En général, on effectue ensuite une boucle sur cet itérateur | \n",
        "| `re.findall(<regex>, s)` | Trouver et renvoyer **tous les _matches_** de l'expression régulière `<regex>` __quelle que soit leur(s) position(s)__ dans le _string_ `s` sous forme de __liste__ | \n",
        "| `re.sub(<regex>, new_text, s)` | Trouver et __remplacer tous__ les _matches_ de l'expression régulière `<regex>` __quelle que soit leur(s) position(s)__ dans le _string_ `s` |\n",
        "\n",
        "Pour illustrer ces fonctions, voici quelques exemples:\n",
        "\n",
        "::: {.cell .markdown}\n",
        "\n",
        "```{=html}\n",
        "<details><summary>Exemple de <code>re.match</code> 👇</summary>\n",
        "```\n",
        "\n",
        "\n",
        "`re.match` ne peut servir qu'à capturer un _pattern_ en début\n",
        "de _string_. Son utilité est donc limitée. \n",
        "Capturons néanmoins `toto` :\n"
      ],
      "id": "660b2d60"
    },
    {
      "cell_type": "code",
      "metadata": {},
      "source": [
        "re.match(\"(to){2}\", \"toto à la plage\")"
      ],
      "id": "486fae8a",
      "execution_count": null,
      "outputs": []
    },
    {
      "cell_type": "markdown",
      "metadata": {},
      "source": [
        "```{=html}\n",
        "</details>\n",
        "```\n",
        "\n",
        ":::\n",
        "\n",
        "\n",
        "::: {.cell .markdown}\n",
        "\n",
        "```{=html}\n",
        "<details><summary>Exemple de <code>re.search</code> 👇</summary>\n",
        "```\n",
        "\n",
        "\n",
        "`re.search` est plus puissant que `re.match`, on peut\n",
        "capturer des termes quelle que soit leur position\n",
        "dans un _string_. Par exemple, pour capturer _age_:\n"
      ],
      "id": "ab14c569"
    },
    {
      "cell_type": "code",
      "metadata": {},
      "source": [
        "re.search(\"age\", \"toto a l'age d'aller à la plage\")"
      ],
      "id": "45bc0a2f",
      "execution_count": null,
      "outputs": []
    },
    {
      "cell_type": "markdown",
      "metadata": {},
      "source": [
        "Et pour capturer exclusivement _\"age\"_ en fin \n",
        "de _string_:\n"
      ],
      "id": "c96b87b2"
    },
    {
      "cell_type": "code",
      "metadata": {},
      "source": [
        "re.search(\"age$\", \"toto a l'age d'aller à la plage\")"
      ],
      "id": "93bca561",
      "execution_count": null,
      "outputs": []
    },
    {
      "cell_type": "markdown",
      "metadata": {},
      "source": [
        "```{=html}\n",
        "</details>\n",
        "```\n",
        "\n",
        ":::\n",
        "\n",
        "\n",
        "::: {.cell .markdown}\n",
        "\n",
        "```{=html}\n",
        "<details><summary>Exemple de <code>re.finditer</code> 👇</summary>\n",
        "```\n",
        "\n",
        "\n",
        "`re.finditer` est, à mon avis,\n",
        "moins pratique que `re.findall`. Son utilité\n",
        "principale par rapport à `re.findall` \n",
        "est de capturer la position dans un champ textuel:\n"
      ],
      "id": "478e3c86"
    },
    {
      "cell_type": "code",
      "metadata": {},
      "source": [
        "s = \"toto a l'age d'aller à la plage\"\n",
        "for match in re.finditer(\"age\", s):\n",
        "    start = match.start()\n",
        "    end = match.end()\n",
        "    print(f'String match \"{s[start:end]}\" at {start}:{end}')"
      ],
      "id": "6f6515ca",
      "execution_count": null,
      "outputs": []
    },
    {
      "cell_type": "markdown",
      "metadata": {},
      "source": [
        "```{=html}\n",
        "</details>\n",
        "```\n",
        "\n",
        ":::\n",
        "\n",
        "\n",
        "::: {.cell .markdown}\n",
        "\n",
        "```{=html}\n",
        "<details><summary>Exemple de <code>re.sub</code> 👇</summary>\n",
        "```\n",
        "\n",
        "\n",
        "`re.sub` permet de capturer et remplacer des expressions. \n",
        "Par exemple, remplaçons _\"age\"_ par _\"âge\"_. Mais attention,\n",
        "il ne faut pas le faire lorsque le motif est présent dans _\"plage\"_.\n",
        "On va donc mettre une condition négative: capturer _\"age\"_ seulement\n",
        "s'il n'est pas en fin de _string_ (ce qui se traduit en _regex_ par `?!$`)\n"
      ],
      "id": "28e125e1"
    },
    {
      "cell_type": "code",
      "metadata": {},
      "source": [
        "re.sub(\"age(?!$)\", \"âge\", \"toto a l'age d'aller à la plage\")"
      ],
      "id": "abc3f467",
      "execution_count": null,
      "outputs": []
    },
    {
      "cell_type": "markdown",
      "metadata": {},
      "source": [
        "```{=html}\n",
        "</details>\n",
        "```\n",
        "\n",
        ":::\n",
        "\n",
        "\n",
        "::: {.cell .markdown}\n",
        "\n",
        "```{=html}\n",
        "<div class=\"alert alert-warning\" role=\"alert\" style=\"color: rgba(0,0,0,.8); background-color: white; margin-top: 1em; margin-bottom: 1em; margin:1.5625emauto; padding:0 .6rem .8rem!important;overflow:hidden; page-break-inside:avoid; border-radius:.25rem; box-shadow:0 .2rem .5rem rgba(0,0,0,.05),0 0 .05rem rgba(0,0,0,.1); transition:color .25s,background-color .25s,border-color .25s ; border-right: 1px solid #dee2e6 ; border-top: 1px solid #dee2e6 ; border-bottom: 1px solid #dee2e6 ; border-left:.2rem solid #ffc10780;\">\n",
        "<h3 class=\"alert-heading\"><i class=\"fa fa-lightbulb-o\"></i> Quand utiliser <code>re.compile</code> et les raw strings ?</h3>\n",
        "```\n",
        "\n",
        "\n",
        "`re.compile` peut être intéressant lorsque\n",
        "vous utilisez une expression régulière plusieurs fois dans votre code.\n",
        "Cela permet de compiler l'expression régulière en un objet reconnu par `re`,\n",
        "ce qui peut être plus efficace en termes de performance lorsque l'expression régulière\n",
        "est utilisée à plusieurs reprises ou sur des données volumineuses.\n",
        "\n",
        "Les chaînes brutes (_raw string_) sont des chaînes de caractères spéciales en `Python`,\n",
        "qui commencent par `r`. Par exemple `r\"toto à la plage\"`. \n",
        "Elles peuvent être intéressantes\n",
        "pour éviter que les caractères d'échappement ne soient interprétés par `Python`\n",
        "Par exemple, si vous voulez chercher une chaîne qui contient une barre oblique inverse `\\` dans une chaîne, vous devez utiliser une chaîne brute pour éviter que la barre oblique inverse ne soit interprétée comme un caractère d'échappement (`\\t`, `\\n`, etc.).\n",
        "Le testeur [https://regex101.com/](https://regex101.com/) suppose d'ailleurs que\n",
        "vous utilisez des _raw string_, cela peut donc être utile de s'habituer à les utiliser.\n",
        "\n",
        "\n",
        "```{=html}\n",
        "</div>\n",
        "```\n",
        "\n",
        ":::\n",
        "\n",
        "# Généralisation avec `Pandas`\n",
        "\n",
        "Les méthodes de `Pandas` sont des extensions de celles de `re`\n",
        "qui évitent de faire une boucle pour regarder,\n",
        "ligne à ligne, une regex. En pratique, lorsqu'on traite des\n",
        "`DataFrames`, on utilise plutôt l'API Pandas que `re`. Les\n",
        "codes de la forme `df.apply(lambda x: re.<fonction>(<regex>,x), axis = 1)`\n",
        "sont à bannir car très peu efficaces. \n",
        "\n",
        "Les noms changent parfois légèrement par rapport à leur \n",
        "équivalent `re`.\n",
        "\n",
        "| Méthode | Description |\n",
        "|------------------|---------------|\n",
        "| `str.count()`    | Compter le nombre d'occurrences du _pattern_ dans chaque ligne |\n",
        "| `str.replace()`  | Remplacer le _pattern_ par une autre valeur. Version vectorisée de `re.sub()` |\n",
        "| `str.contains()` | Tester si le _pattern_ apparaît, ligne à ligne. Version vectorisée de `re.search()` |\n",
        "| `str.extract()`  | Extraire les groupes qui répondent à un  _pattern_ et les renvoyer dans une colonne |\n",
        "| `str.findall()`  | Trouver et renvoyer toutes les occurrences d'un _pattern_. Si une ligne comporte plusieurs échos, une liste est renvoyée. Version vectorisée de `re.findall()` |\n",
        "\n",
        "A ces fonctions, s'ajoutent les méthodes `str.split()` et `str.rsplit()` qui sont bien pratiques.\n",
        "\n",
        "\n",
        "::: {.cell .markdown}\n",
        "\n",
        "```{=html}\n",
        "<details><summary>Exemple de <code>str.count</code> 👇</summary>\n",
        "```\n",
        "\n",
        "\n",
        "On peut compter le nombre de fois qu'un _pattern_ apparaît avec\n",
        "`str.count`\n"
      ],
      "id": "36742687"
    },
    {
      "cell_type": "code",
      "metadata": {},
      "source": [
        "df = pd.DataFrame({\"a\": [\"toto\", \"titi\"]})\n",
        "df['a'].str.count(\"to\")"
      ],
      "id": "c1357e77",
      "execution_count": null,
      "outputs": []
    },
    {
      "cell_type": "markdown",
      "metadata": {},
      "source": [
        "```{=html}\n",
        "</details>\n",
        "```\n",
        "\n",
        ":::\n",
        "\n",
        "::: {.cell .markdown}\n",
        "\n",
        "```{=html}\n",
        "<details><summary>Exemple de <code>str.replace</code> 👇</summary>\n",
        "```\n",
        "\n",
        "\n",
        "Remplaçons le motif _\"ti\"_ en fin de phrase\n"
      ],
      "id": "e1d8cc16"
    },
    {
      "cell_type": "code",
      "metadata": {},
      "source": [
        "df = pd.DataFrame({\"a\": [\"toto\", \"titi\"]})\n",
        "df['a'].str.replace(\"ti$\", \" punch\")"
      ],
      "id": "072f49d6",
      "execution_count": null,
      "outputs": []
    },
    {
      "cell_type": "markdown",
      "metadata": {},
      "source": [
        "```{=html}\n",
        "</details>\n",
        "```\n",
        "\n",
        ":::\n",
        "\n",
        "\n",
        "::: {.cell .markdown}\n",
        "\n",
        "```{=html}\n",
        "<details><summary>Exemple de <code>str.contains</code> 👇</summary>\n",
        "```\n",
        "\n",
        "\n",
        "Vérifions les cas où notre ligne termine par _\"ti\"_:\n"
      ],
      "id": "9a996fe5"
    },
    {
      "cell_type": "code",
      "metadata": {},
      "source": [
        "df = pd.DataFrame({\"a\": [\"toto\", \"titi\"]})\n",
        "df['a'].str.contains(\"ti$\")"
      ],
      "id": "d117fb50",
      "execution_count": null,
      "outputs": []
    },
    {
      "cell_type": "markdown",
      "metadata": {},
      "source": [
        "```{=html}\n",
        "</details>\n",
        "```\n",
        "\n",
        ":::\n",
        "\n",
        "::: {.cell .markdown}\n",
        "\n",
        "```{=html}\n",
        "<details><summary>Exemple de <code>str.findall</code> 👇</summary>\n",
        "```"
      ],
      "id": "d7989dd4"
    },
    {
      "cell_type": "code",
      "metadata": {},
      "source": [
        "df = pd.DataFrame({\"a\": [\"toto\", \"titi\"]})\n",
        "df['a'].str.findall(\"to\")"
      ],
      "id": "4ccdb215",
      "execution_count": null,
      "outputs": []
    },
    {
      "cell_type": "markdown",
      "metadata": {},
      "source": [
        "```{=html}\n",
        "</details>\n",
        "```\n",
        "\n",
        ":::\n",
        "\n",
        "::: {.cell .markdown}\n",
        "\n",
        "```{=html}\n",
        "<div class=\"alert alert-danger\" role=\"alert\" style=\"color: rgba(0,0,0,.8); background-color: white; margin-top: 1em; margin-bottom: 1em; margin:1.5625emauto; padding:0 .6rem .8rem!important;overflow:hidden; page-break-inside:avoid; border-radius:.25rem; box-shadow:0 .2rem .5rem rgba(0,0,0,.05),0 0 .05rem rgba(0,0,0,.1); transition:color .25s,background-color .25s,border-color .25s ; border-right: 1px solid #dee2e6 ; border-top: 1px solid #dee2e6 ; border-bottom: 1px solid #dee2e6 ; border-left: .2rem solid #ff0039;\">\n",
        "<i class=\"fa fa-exclamation-triangle\"></i> Warning</h3>\n",
        "```\n",
        "\n",
        "\n",
        "A l'heure actuelle, il n'est pas nécessaire d'ajouter l'argument `regex = True` mais cela \n",
        "devrait être le cas dans une future version de `Pandas`.\n",
        "Cela peut valoir le coup de s'habituer à l'ajouter. \n",
        "\n",
        "\n",
        "```{=html}\n",
        "</div>\n",
        "```\n",
        "\n",
        ":::\n",
        "\n",
        "\n",
        "\n",
        "# Pour en savoir plus\n",
        "\n",
        "- [documentation collaborative sur `R` nommée `utilitR`](https://www.book.utilitr.org/textdata.html#regex)\n",
        "- [_R for Data Science_](https://r4ds.hadley.nz/regexps.html)\n",
        "- [_Regular Expression HOWTO_ dans la documentation officielle de `Python`](https://docs.python.org/3/howto/regex.html)\n",
        "- L'outil de référence [https://regex101.com/] pour tester des expressions régulières\n",
        "- [Ce site](https://ole.michelsen.dk/tools/regex/) qui comporte une cheat sheet en bas de la page. \n",
        "- Les jeux de [Regex Crossword](https://regexcrossword.com/) permettent d'apprendre les expressions régulières en s'amusant\n",
        "\n",
        "\n",
        "## Exercices supplémentaires\n",
        "\n",
        "### Extraction d'adresses email\n",
        "\n",
        "Il s'agit d'un usage classique des _regex_\n"
      ],
      "id": "dc5d045c"
    },
    {
      "cell_type": "code",
      "metadata": {},
      "source": [
        "text_emails = 'Hello from toto@gmail.com to titi.grominet@yahoo.com about the meeting @2PM'"
      ],
      "id": "ca945b74",
      "execution_count": null,
      "outputs": []
    },
    {
      "cell_type": "markdown",
      "metadata": {},
      "source": [
        "::: {.cell .markdown}\n",
        "\n",
        "```{=html}\n",
        "<div class=\"alert alert-success\" role=\"alert\" style=\"color: rgba(0,0,0,.8); background-color: white; margin-top: 1em; margin-bottom: 1em; margin:1.5625emauto; padding:0 .6rem .8rem!important;overflow:hidden; page-break-inside:avoid; border-radius:.25rem; box-shadow:0 .2rem .5rem rgba(0,0,0,.05),0 0 .05rem rgba(0,0,0,.1); transition:color .25s,background-color .25s,border-color .25s ; border-right: 1px solid #dee2e6 ; border-top: 1px solid #dee2e6 ; border-bottom: 1px solid #dee2e6 ; border-left:.2rem solid #3fb618;\">\n",
        "<h3 class=\"alert-heading\"><i class=\"fa fa-pencil\"></i> Exercice : extraction d'adresses email</h3>\n",
        "```\n",
        "\n",
        "\n",
        "Utiliser la structure d'une adresse mail `[XXXX]@[XXXX]` pour récupérer \n",
        "ce contenu\n",
        "\n",
        "\n",
        "```{=html}\n",
        "</div>\n",
        "```\n",
        "\n",
        ":::\n"
      ],
      "id": "8ee5ee3f"
    },
    {
      "cell_type": "code",
      "metadata": {},
      "source": [
        "# \\S` désigne tout caractère différent d'un espace \n",
        "# `+` présence de l'ensemble de caractères qui précède entre 1 fois et l'infini\n",
        "liste_emails = re.findall('\\S+@\\S+', text_emails)     \n",
        "print(liste_emails)"
      ],
      "id": "73706635",
      "execution_count": null,
      "outputs": []
    },
    {
      "cell_type": "markdown",
      "metadata": {},
      "source": [
        "### Extraire des années depuis un `DataFrame` `Pandas`\n",
        "\n",
        "L'objectif général de l'exercice est de nettoyer des colonnes d'un DataFrame en utilisant des expressions régulières.\n",
        "\n",
        "::: {.cell .markdown}\n",
        "\n",
        "```{=html}\n",
        "<div class=\"alert alert-success\" role=\"alert\" style=\"color: rgba(0,0,0,.8); background-color: white; margin-top: 1em; margin-bottom: 1em; margin:1.5625emauto; padding:0 .6rem .8rem!important;overflow:hidden; page-break-inside:avoid; border-radius:.25rem; box-shadow:0 .2rem .5rem rgba(0,0,0,.05),0 0 .05rem rgba(0,0,0,.1); transition:color .25s,background-color .25s,border-color .25s ; border-right: 1px solid #dee2e6 ; border-top: 1px solid #dee2e6 ; border-bottom: 1px solid #dee2e6 ; border-left:.2rem solid #3fb618;\">\n",
        "<h3 class=\"alert-heading\"><i class=\"fa fa-pencil\"></i> Exercice</h3>\n",
        "```\n",
        "\n",
        "\n",
        "La base en question contient des livres de la British Library et quelques informations les concernant. Le jeu de données est disponible ici : https://raw.githubusercontent.com/realpython/python-data-cleaning/master/Datasets/BL-Flickr-Images-Book.csv\n",
        "\n",
        "La colonne \"Date de Publication\" n'est pas toujours une année, il y a parfois d'autres informations. Le but de l'exercice est d'avoir **une date de publication du livre propre** et de regarder la **distribution des années de publications**. \n",
        "\n",
        "Pour ce faire, vous pouvez :\n",
        "\n",
        "* Soit choisir de réaliser l'exercice sans aide. Votre **lecture de l'énoncé s'arrête donc ici**. Vous devez alors faire attention à bien regarder vous-même la base de données et la transformer avec attention. \n",
        "\n",
        "* Soit suivre les différentes étapes qui suivent pas à pas.\n",
        "\n",
        "\n",
        "```{=html}\n",
        "<details><summary>Version guidée 👇</summary>\n",
        "```\n",
        "\n",
        "\n",
        "1. Lire les données depuis l'url `https://raw.githubusercontent.com/realpython/python-data-cleaning/master/Datasets/BL-Flickr-Images-Book.csv`. Attention au séparateur\n",
        "2. Ne garder que les colonnes `['Identifier', 'Place of Publication', 'Date of Publication', 'Publisher', 'Title', 'Author']`\n",
        "3. Observer la colonne _'Date of Publication'_ et remarquer le problème sur certaines lignes (par exemple la ligne 13)\n",
        "4. Commencez par regarder le nombre d'informations manquantes. On ne pourra pas avoir mieux après la regex, et normalement on ne devrait pas avoir moins...\n",
        "5. Déterminer la forme de la regex pour une date de publication. A priori, il y a 4 chiffres qui forment une année.\n",
        "Utiliser la méthode `str.extract()` avec l'argument `expand = False` (pour ne conserver que la première date concordant avec notre _pattern_)?\n",
        "6. On a 2 `NaN` qui n'étaient pas présents au début de l'exercice. Quels sont-ils et pourquoi ? \n",
        "7. Quelle est la répartition des dates de publications dans le jeu de données ? Vous pouvez par exemple afficher un histogramme grâce à la méthode `plot` avec l'argument `kind =\"hist\"`.\n",
        "\n",
        "\n",
        "```{=html}\n",
        "</summary>\n",
        "```\n",
        "\n",
        "```{=html}\n",
        "</div>\n",
        "```\n",
        "\n",
        ":::\n"
      ],
      "id": "97e02dd8"
    },
    {
      "cell_type": "code",
      "metadata": {},
      "source": [
        "# Question 1\n",
        "data_books = pd.read_csv('https://raw.githubusercontent.com/realpython/python-data-cleaning/master/Datasets/BL-Flickr-Images-Book.csv',sep=',')"
      ],
      "id": "d097b4aa",
      "execution_count": null,
      "outputs": []
    },
    {
      "cell_type": "code",
      "metadata": {},
      "source": [
        "# Question 2\n",
        "data_books=data_books[['Identifier', 'Place of Publication',\n",
        "       'Date of Publication', 'Publisher', 'Title', 'Author']]"
      ],
      "id": "6e9426cd",
      "execution_count": null,
      "outputs": []
    },
    {
      "cell_type": "markdown",
      "metadata": {},
      "source": [
        "Voici par exemple le problème qu'on demande de détecter à la question 3 :\n"
      ],
      "id": "77659794"
    },
    {
      "cell_type": "code",
      "metadata": {},
      "source": [
        "# Question 3\n",
        "data_books[['Date of Publication',\"Title\"]].iloc[13:20]"
      ],
      "id": "3daa8295",
      "execution_count": null,
      "outputs": []
    },
    {
      "cell_type": "code",
      "metadata": {},
      "source": [
        "# Question 4\n",
        "data_books['Date of Publication'].isna().sum()"
      ],
      "id": "f348a11d",
      "execution_count": null,
      "outputs": []
    },
    {
      "cell_type": "markdown",
      "metadata": {},
      "source": [
        "Grâce à notre regex (question 5), on obtient ainsi un `DataFrame` plus conforme à nos attentes\n"
      ],
      "id": "9ea0cc5f"
    },
    {
      "cell_type": "code",
      "metadata": {},
      "source": [
        "# Question 5\n",
        "expression = \"([0-2][0-9][0-9][0-9])\"\n",
        "data_books['year'] = data_books['Date of Publication'].str.extract(expression, expand=False)\n",
        "\n",
        "data_books.loc[~(data_books['Date of Publication'] == data_books['year']), ['Date of Publication', 'year']]"
      ],
      "id": "ab483e8b",
      "execution_count": null,
      "outputs": []
    },
    {
      "cell_type": "markdown",
      "metadata": {},
      "source": [
        "Quant aux nouveaux `NaN`,\n",
        "il s'agit de lignes qui ne contenaient pas de chaînes de caractères qui ressemblaient à des années:\n"
      ],
      "id": "97c64e4b"
    },
    {
      "cell_type": "code",
      "metadata": {},
      "source": [
        "data_books.loc[~data_books['Date of Publication'].isna() & data_books['year'].isna(), ['Date of Publication', 'year']]"
      ],
      "id": "1e1e7490",
      "execution_count": null,
      "outputs": []
    },
    {
      "cell_type": "markdown",
      "metadata": {},
      "source": [
        "Enfin, on obtient l'histogramme suivant des dates de publications:\n"
      ],
      "id": "32a2bbdf"
    },
    {
      "cell_type": "code",
      "metadata": {},
      "source": [
        "pd.to_numeric(data_books['year'], downcast='integer').plot(kind =\"hist\")"
      ],
      "id": "43c32273",
      "execution_count": null,
      "outputs": []
    }
  ],
  "metadata": {
    "kernelspec": {
      "name": "python3",
      "language": "python",
      "display_name": "Python 3 (ipykernel)"
    }
  },
  "nbformat": 4,
  "nbformat_minor": 5
}