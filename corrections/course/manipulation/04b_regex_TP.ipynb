{
  "cells": [
    {
      "cell_type": "markdown",
      "metadata": {},
      "source": [
        "# Maîtriser les expressions régulières"
      ],
      "id": "b8473016-1b74-48ea-bec9-563580fef7e3"
    },
    {
      "cell_type": "markdown",
      "metadata": {},
      "source": [
        "``` python\n",
        "import sys\n",
        "sys.path.insert(1, '../../../../') #insert the utils module\n",
        "from utils import print_badges\n",
        "\n",
        "#print_badges(__file__)\n",
        "print_badges(\"content/course/manipulation/04b_regex_TP.qmd\")\n",
        "```\n",
        "\n",
        "<p class=\"badges\">\n",
        "\n",
        "<a href=\"https://github.com/linogaliana/python-datascientist/blob/master/notebooks/course/manipulation/04b_regex_TP.ipynb\" class=\"github\"><i class=\"fab fa-github\"></i></a>\n",
        "<a href=\"https://downgit.github.io/#/home?url=https://github.com/linogaliana/python-datascientist/blob/master/notebooks/course/manipulation/04b_regex_TP.ipynb\" target=\"_blank\" rel=\"noopener\"><img src=\"https://img.shields.io/badge/Download-Notebook-important?logo=Jupyter\" alt=\"Download\"></a>\n",
        "<a href=\"https://nbviewer.jupyter.org/github/linogaliana/python-datascientist/blob/master/notebooks/course/manipulation/04b_regex_TP.ipynb\" target=\"_blank\" rel=\"noopener\"><img src=\"https://img.shields.io/badge/Visualize-nbviewer-blue?logo=Jupyter\" alt=\"nbviewer\"></a>\n",
        "<a href=\"https://datalab.sspcloud.fr/launcher/ide/jupyter-python?autoLaunch=true&onyxia.friendlyName=%C2%ABpython-datascience%C2%BB&init.personalInit=%C2%ABhttps%3A%2F%2Fraw.githubusercontent.com%2Flinogaliana%2Fpython-datascientist%2Fmaster%2Fsspcloud%2Finit-jupyter.sh%C2%BB&init.personalInitArgs=%C2%ABmanipulation%2004b_regex_TP%C2%BB&security.allowlist.enabled=false\" target=\"_blank\" rel=\"noopener\"><img src=\"https://img.shields.io/badge/SSPcloud-Tester%20via%20SSP--cloud-informational&amp;color=yellow?logo=Python\" alt=\"Onyxia\"></a><br>\n",
        "<a href=\"https://mybinder.org/v2/gh/linogaliana/python-datascientist/master?filepath={binder_path}\" target=\"_blank\" rel=\"noopener\"><img src=\"https://img.shields.io/badge/Launch-Binder-E66581.svg?logo=data:image/png;base64,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\" alt=\"Binder\"></a>\n",
        "<a href=\"http://colab.research.google.com/github/linogaliana/python-datascientist/blob/master/notebooks/course/manipulation/04b_regex_TP.ipynb\" target=\"_blank\" rel=\"noopener\"><img src=\"https://colab.research.google.com/assets/colab-badge.svg\" alt=\"Open In Colab\"></a>\n",
        "<a href=\"https://github.dev/linogaliana/python-datascientist/notebooks/course/manipulation/04b_regex_TP.ipynb\" target=\"_blank\" rel=\"noopener\"><img src=\"https://img.shields.io/static/v1?logo=visualstudiocode&label=&message=Open%20in%20Visual%20Studio%20Code&labelColor=2c2c32&color=007acc&logoColor=007acc\" alt=\"githubdev\"></a>\n",
        "\n",
        "</p>\n",
        "\n",
        "</p>"
      ],
      "id": "002dda94-f4e8-43a9-96f5-213e48d5b238"
    },
    {
      "cell_type": "markdown",
      "metadata": {},
      "source": [
        "# Introduction\n",
        "\n",
        "`Python` offre énormément de fonctionalités très pratiques pour la manipulation de données\n",
        "textuelles. C’est l’une des raisons de son\n",
        "succès dans la communauté du traitement automatisé du langage (NLP, voir partie dédiée).\n",
        "Dans les chapitres précédents, nous avons parfois été amenés à chercher des éléments textuels basiques. Cela était possible avec la méthode `str.find` du package `Pandas` qui constitue une version vectorisée de la méthode `find`\n",
        "de base. Nous avons d’ailleurs\n",
        "pu utiliser cette dernière directement, notamment lorsqu’on a fait du *webscraping*.\n",
        "Cependant, cette fonction de recherche\n",
        "trouve rapidement ses limites.\n",
        "Par exemple, si on désire trouver à la fois les occurrences d’un terme au singulier\n",
        "et au pluriel, il sera nécessaire d’utiliser\n",
        "au moins deux fois la méthode `find`.\n",
        "Pour des verbes conjugués, cela devient encore plus complexe, en particulier si ceux-ci changent de forme selon le sujet.\n",
        "\n",
        "Pour des expressions compliquées, il est conseillé d’utiliser les **expressions régulières**,\n",
        "ou *“regex”*. C’est une fonctionnalité qu’on retrouve dans beaucoup de langages. C’est une forme de grammaire qui permet de rechercher des expressions.\n",
        "\n",
        "Une partie du contenu de cette partie\n",
        "est une adaptation de la\n",
        "[documentation collaborative sur `R` nommée `utilitR`](https://www.book.utilitr.org/textdata.html#regex) à laquelle j’ai participé. Ce chapitre reprend aussi du contenu du\n",
        "livre [*R for data science*](https://r4ds.hadley.nz/regexps.html) qui présente un chapitre\n",
        "très pédagogique sur les regex.\n",
        "\n",
        "Nous allons utiliser le *package* `re` pour illustrer nos exemples d’expressions\n",
        "régulières. Il s’agit du package de référence, qui est utilisé, en arrière-plan,\n",
        "par `Pandas` pour vectoriser les recherches textuelles."
      ],
      "id": "04588bab-3193-4aab-b6da-f6f2156832fe"
    },
    {
      "cell_type": "code",
      "execution_count": 2,
      "metadata": {},
      "outputs": [],
      "source": [
        "import re"
      ],
      "id": "d37ee469-6f64-4d44-9056-e7e483044772"
    },
    {
      "cell_type": "markdown",
      "metadata": {},
      "source": [
        "<div class=\"alert alert-warning\" role=\"alert\" style=\"color: rgba(0,0,0,.8); background-color: white; margin-top: 1em; margin-bottom: 1em; margin:1.5625emauto; padding:0 .6rem .8rem!important;overflow:hidden; page-break-inside:avoid; border-radius:.25rem; box-shadow:0 .2rem .5rem rgba(0,0,0,.05),0 0 .05rem rgba(0,0,0,.1); transition:color .25s,background-color .25s,border-color .25s ; border-right: 1px solid #dee2e6 ; border-top: 1px solid #dee2e6 ; border-bottom: 1px solid #dee2e6 ; border-left:.2rem solid #ffc10780;\">\n",
        "<h3 class=\"alert-heading\"><i class=\"fa fa-lightbulb-o\"></i> Hint</h3>\n",
        "\n",
        "**Les expressions régulières (*regex*) sont notoirement difficiles à maîtriser.** Il existe des outils qui facilitent le travail avec les expressions régulières. L’outil de référence pour ceci est \\[https://regex101.com/\\] qui permet de tester des `regex` en `Python`.\n",
        "\n",
        "Il peut être pratique de demander à des IA assistantes, comme `Github Copilot` ou `ChatGPT`, une\n",
        "première version d’une regex en expliquant le contenu qu’on veut extraire.\n",
        "Cela peut faire économiser pas mal de temps, sauf quand l’IA fait preuve d’une confiance excessive\n",
        "et vous propose avec aplomb une regex totalement fausse…\n",
        "\n",
        "</div>"
      ],
      "id": "72f636ac-4e2f-4d08-8a09-490bddf24b3d"
    },
    {
      "cell_type": "markdown",
      "metadata": {},
      "source": [
        "# Principe\n",
        "\n",
        "**Les expressions régulières sont un outil permettant de décrire un ensemble de chaînes de caractères possibles selon une syntaxe précise, et donc de définir un motif (ou `pattern`).** Les expressions régulières servent par exemple lorsqu’on veut extraire une partie d’une chaîne de caractères, ou remplacer une partie d’une chaîne de caractères. Une expression régulière prend la forme d’une chaîne de caractères, qui peut contenir à la fois des éléments littéraux et des caractères spéciaux qui ont un sens logique.\n",
        "\n",
        "Par exemple, `\"ch.+n\"` est une expression régulière qui décrit le motif suivant: la chaîne littérale `ch`, suivi de n’importe quelle chaîne d’au moins un caractère (`.+`), suivie de la lettre `n`. Dans la chaîne `\"J'ai un chien.\"`, la sous-chaîne `\"chien\"` correspond à ce motif. De même pour `\"chapeau ron\"` dans `\"J'ai un chapeau rond\"`. En revanche, dans la chaîne `\"La soupe est chaude.\"`, aucune sous-chaîne ne correpsond à ce motif (car aucun `n` n’apparaît après le `ch`).\n",
        "\n",
        "Pour s’en convaincre, nous pouvons déjà regarder\n",
        "les deux premiers cas:"
      ],
      "id": "d37c2eb8-a858-463c-b0a5-e3d93e5397af"
    },
    {
      "cell_type": "code",
      "execution_count": 3,
      "metadata": {},
      "outputs": [
        {
          "output_type": "stream",
          "name": "stdout",
          "text": [
            "<re.Match object; span=(8, 13), match='chien'>\n",
            "<re.Match object; span=(8, 19), match='chapeau ron'>"
          ]
        }
      ],
      "source": [
        "pattern = \"ch.+n\"\n",
        "print(re.search(pattern, \"J'ai un chien.\"))\n",
        "print(re.search(pattern, \"J'ai un chapeau rond.\"))"
      ],
      "id": "434379fd-e402-424b-9702-99cd830ef3bd"
    },
    {
      "cell_type": "markdown",
      "metadata": {},
      "source": [
        "Cependant, dans le dernier cas, nous ne trouvons pas\n",
        "le *pattern* recherché:"
      ],
      "id": "78c917c9-61ab-44d2-a9c5-32587cbf3692"
    },
    {
      "cell_type": "code",
      "execution_count": 4,
      "metadata": {},
      "outputs": [
        {
          "output_type": "stream",
          "name": "stdout",
          "text": [
            "None"
          ]
        }
      ],
      "source": [
        "print(re.search(pattern, \"La soupe est chaude.\"))"
      ],
      "id": "6f625336-5996-42a1-a2e9-2df1101995b5"
    },
    {
      "cell_type": "markdown",
      "metadata": {},
      "source": [
        "La regex précédente comportait deux types de caractères:\n",
        "\n",
        "-   les *caractères littéraux*: lettres et nombres qui sont reconnus de manière littérale\n",
        "-   les *méta-caractères*: symboles qui ont un sens particulier dans les regex.\n",
        "\n",
        "Les principaux *méta-caractères* sont `.`, `+`, `*`, `[`, `]`, `^` et `$` mais il\n",
        "en existe beaucoup d’autres.\n",
        "Parmi cet ensemble, on utilise principalement les quantifieurs (`.`, `+`, `*`…),\n",
        "les classes de caractères (ensemble qui sont délimités par `[` et `]`)\n",
        "ou les ancres (`^`, `$`…)\n",
        "\n",
        "Dans l’exemple précédent,\n",
        "nous retrouvions deux quantifieurs accolés `.+`. Le premier (`.`) signifie n’importe quel caractère<a name=\"cite_ref-1\"></a>[<sup>\\[1\\]</sup>](#cite_note-1). Le deuxième (`+`) signifie *“répète le pattern précédent”*.\n",
        "Dans notre cas, la combinaison `.+` permet ainsi de répéter n’importe quel caractère avant de trouver un *n*.\n",
        "Le nombre de fois est indeterminé: cela peut ne pas être pas nécessaire d’intercaler des caractères avant le *n*\n",
        "ou cela peut être nécessaire d’en intercepter plusieurs:"
      ],
      "id": "590191ea-62fb-4e7f-887f-4b6229a0bc35"
    },
    {
      "cell_type": "code",
      "execution_count": 5,
      "metadata": {},
      "outputs": [
        {
          "output_type": "stream",
          "name": "stdout",
          "text": [
            "<re.Match object; span=(8, 12), match='chin'>\n",
            "<re.Match object; span=(8, 25), match='chiot très mignon'>"
          ]
        }
      ],
      "source": [
        "print(re.search(pattern, \"J'ai un chino\"))\n",
        "print(re.search(pattern, \"J'ai un chiot très mignon.\"))"
      ],
      "id": "9368236c-c808-4f52-8f03-89dc0540249e"
    },
    {
      "cell_type": "raw",
      "metadata": {
        "raw_mimetype": "text/html"
      },
      "source": [
        "<a name=\"cite_note-1\"></a>1. [^](#cite_ref-1)"
      ],
      "id": "f7011c85-a330-40e8-ac56-6ce707dfd2f3"
    },
    {
      "cell_type": "markdown",
      "metadata": {},
      "source": [
        "N’importe quel caractère à part le retour à la ligne (`\\n`). Ceci est à garder en tête, j’ai déjà perdu des heures à chercher pourquoi mon `.` ne capturait pas ce que je voulais qui s’étalait sur plusieurs lignes…\n",
        "\n",
        "## Classes de caractères\n",
        "\n",
        "Les classes de caractères peuvent être pratiques pour rechercher du texte. Par\n",
        "exemple, si on désire trouver tous les *pattern* qui commencent par un `c` suivi\n",
        "d’un `h` puis d’une voyelle (a, e, i, o, u), on peut essayer\n",
        "cette expression régulière."
      ],
      "id": "18342683-a27e-4ff1-a154-3a2513deb030"
    },
    {
      "cell_type": "code",
      "execution_count": 6,
      "metadata": {},
      "outputs": [
        {
          "output_type": "display_data",
          "metadata": {},
          "data": {
            "text/plain": [
              "['cha', 'chi', 'che']"
            ]
          }
        }
      ],
      "source": [
        "re.findall(\"[c][h][aeiou]\", \"chat, chien, veau, vache, chèvre\")"
      ],
      "id": "6a50f8d4-7f2c-4d8c-a740-e87e8775b5a3"
    },
    {
      "cell_type": "markdown",
      "metadata": {},
      "source": [
        "Il serait plus pratique d’utiliser `Pandas` dans ce cas pour isoler les\n",
        "lignes qui répondent à la condition logique (en ajoutant les accents\n",
        "qui ne sont pas compris sinon):"
      ],
      "id": "6d7f419d-c123-4f07-becc-8ce7a251950e"
    },
    {
      "cell_type": "code",
      "execution_count": 7,
      "metadata": {},
      "outputs": [
        {
          "output_type": "display_data",
          "metadata": {},
          "data": {
            "text/plain": [
              "0     True\n",
              "1     True\n",
              "2    False\n",
              "3    False\n",
              "4     True\n",
              "dtype: bool"
            ]
          }
        }
      ],
      "source": [
        "import pandas as pd\n",
        "txt = pd.Series(\"chat, chien, veau, vache, chèvre\".split(\", \"))\n",
        "txt.str.match(\"ch[aeéèiou]\")"
      ],
      "id": "a2975689-265f-4bd9-b393-1cda31228e5a"
    },
    {
      "cell_type": "markdown",
      "metadata": {},
      "source": [
        "Cependant, l’usage ci-dessus des classes de caractères\n",
        "n’est pas le plus fréquent.\n",
        "On privilégie celles-ci pour identifier des\n",
        "pattern complexe plutôt qu’une suite de caractères littéraux.\n",
        "Les tableaux d’aide mémoire illustrent une partie des\n",
        "classes de caractères les plus fréquentes\n",
        "(`[:digit:]` ou `\\d`…)\n",
        "\n",
        "## Quantifieurs\n",
        "\n",
        "Nous avons rencontré les quantifieurs avec notre première expression\n",
        "régulière. Ceux-ci contrôlent le nombre de fois\n",
        "qu’un *pattern* est rencontré.\n",
        "\n",
        "Les plus fréquents sont:\n",
        "\n",
        "-   `?` : 0 ou 1 match ;\n",
        "-   `+` : 1 ou plus de matches ;\n",
        "-   `*` : 0 or more matches.\n",
        "\n",
        "Par exemple, `colou?r` permettra de matcher à la fois l’écriture américaine et anglaise"
      ],
      "id": "94798d42-d7a9-4126-83d9-e8a4d0c6f23d"
    },
    {
      "cell_type": "code",
      "execution_count": 8,
      "metadata": {},
      "outputs": [
        {
          "output_type": "display_data",
          "metadata": {},
          "data": {
            "text/plain": [
              "['color', 'colour']"
            ]
          }
        }
      ],
      "source": [
        "re.findall(\"colou?r\", \"Did you write color or colour?\")"
      ],
      "id": "2e3ba8ed-4fe0-4c7d-ae68-f577715343f7"
    },
    {
      "cell_type": "markdown",
      "metadata": {},
      "source": [
        "Ces quantifiers peuvent bien-sûr être associés à\n",
        "d’autres types de caractères, notamment les classes de caractères.\n",
        "Cela peut être extrèmement pratique.\n",
        "Par exemple, `\\d+` permettra de capturer un ou plusieurs chiffres, `\\s?`\n",
        "permettra d’ajouter en option un espace…\n",
        "\n",
        "Il est aussi possible de définir le nombre de répétitions\n",
        "avec `{}`:\n",
        "\n",
        "-   `{n}` matche exactement *n* fois ;\n",
        "-   `{n,}` matche au moins *n* fois ;\n",
        "-   `{n,m}` matche entre *n* et *m* fois.\n",
        "\n",
        "Cependant, la répétition des termes\n",
        "ne s’applique par défaut qu’au dernier\n",
        "caractère précédent le quantifier.\n",
        "On peut s’en convaincre avec l’exemple ci-dessus:"
      ],
      "id": "274bf22b-6567-4c24-810e-99db9b50bcbf"
    },
    {
      "cell_type": "code",
      "execution_count": 9,
      "metadata": {},
      "outputs": [
        {
          "output_type": "stream",
          "name": "stdout",
          "text": [
            "None"
          ]
        }
      ],
      "source": [
        "print(re.match(\"toc{4}\",\"toctoctoctoc\"))"
      ],
      "id": "c98a2ca0-5296-4407-a892-4536b7937536"
    },
    {
      "cell_type": "markdown",
      "metadata": {},
      "source": [
        "Pour pallier ce problème, il existe les parenthèses.\n",
        "Le principe est le même qu’avec les règles numériques:\n",
        "les parenthèses permettent d’introduire une hiérarchie.\n",
        "Pour reprendre l’exemple précédent, on obtient\n",
        "bien le résultat attendu grâce aux parenthèses:"
      ],
      "id": "899c6905-7b77-4e0a-b60f-eb7de4c9de3b"
    },
    {
      "cell_type": "code",
      "execution_count": 10,
      "metadata": {},
      "outputs": [
        {
          "output_type": "stream",
          "name": "stdout",
          "text": [
            "<re.Match object; span=(0, 12), match='toctoctoctoc'>\n",
            "None\n",
            "<re.Match object; span=(0, 12), match='toctoctoctoc'>"
          ]
        }
      ],
      "source": [
        "print(re.match(\"(toc){4}\",\"toctoctoctoc\"))\n",
        "print(re.match(\"(toc){5}\",\"toctoctoctoc\"))\n",
        "print(re.match(\"(toc){2,4}\",\"toctoctoctoc\"))"
      ],
      "id": "cb81bab5-391f-43f2-b83e-92da08a7221b"
    },
    {
      "cell_type": "markdown",
      "metadata": {},
      "source": [
        "## Aide-mémoire\n",
        "\n",
        "Le tableau ci-dessous peut servir d’aide-mémoire\n",
        "sur les regex:\n",
        "\n",
        "| Expression régulière | Signification                                                     |\n",
        "|--------------------------|----------------------------------------------|\n",
        "| `\"^\"`                | Début de la chaîne de caractères                                  |\n",
        "| `\"$\"`                | Fin de la chaîne de caractères                                    |\n",
        "| `\"\\\\.\"`              | Un point                                                          |\n",
        "| `\".\"`                | N’importe quel caractère                                          |\n",
        "| `\".+\"`               | N’importe quelle suite de caractères non vide                     |\n",
        "| `\".*\"`               | N’importe quelle suite de caractères, éventuellement vi           |\n",
        "| `\"[:alnum:]\"`        | Un caractère alphanumérique                                       |\n",
        "| `\"[:alpha:]\"`        | Une lettre                                                        |\n",
        "| `\"[:digit:]\"`        | Un chiffre                                                        |\n",
        "| `\"[:lower:]\"`        | Une lettre minuscule                                              |\n",
        "| `\"[:punct:]\"`        | Un signe de ponctuation                                           |\n",
        "| `\"[:space:]\"`        | un espace                                                         |\n",
        "| `\"[:upper:]\"`        | Une lettre majuscule                                              |\n",
        "| `\"[[:alnum:]]+\"`     | Une suite d’au moins un caractère alphanumérique                  |\n",
        "| `\"[[:alpha:]]+\"`     | Une suite d’au moins une lettre                                   |\n",
        "| `\"[[:digit:]]+\"`     | Une suite d’au moins un chiffre                                   |\n",
        "| `\"[[:lower:]]+\"`     | Une suite d’au moins une lettre minuscule                         |\n",
        "| `\"[[:punct:]]+\"`     | Une suite d’au moins un signe de ponctuation                      |\n",
        "| `\"[[:space:]]+\"`     | Une suite d’au moins un espace                                    |\n",
        "| `\"[[:upper:]]+\"`     | Une suite d’au moins une lettre majuscule                         |\n",
        "| `\"[[:alnum:]]*\"`     | Une suite de caractères alphanumériques, éventuellement vide      |\n",
        "| `\"[[:alpha:]]*\"`     | Une suite de lettres, éventuellement vide                         |\n",
        "| `\"[[:digit:]]*\"`     | Une suite de chiffres, éventuellement vide                        |\n",
        "| `\"[[:lower:]]*\"`     | Une suite de lettres minuscules, éventuellement vide              |\n",
        "| `\"[[:upper:]]*\"`     | Une suite de lettres majuscules, éventuellement vide              |\n",
        "| `\"[[:punct:]]*\"`     | Une suite de signes de ponctuation, éventuellement vide           |\n",
        "| `\"[^[:alpha:]]+\"`    | Une suite d’au moins un caractère autre qu’une lettre             |\n",
        "| `\"[^[:digit:]]+\"`    | Une suite d’au moins un caractère autre qu’un chiffre             |\n",
        "| `\"\\|\"`               | L’une des expressions `x` ou `y` est présente                     |\n",
        "| `[abyz]`             | Un seul des caractères spécifiés                                  |\n",
        "| `[abyz]+`            | Un ou plusieurs des caractères spécifiés (éventuellement répétés) |\n",
        "| `[^abyz]`            | Aucun des caractères spécifiés n’est présent                      |\n",
        "\n",
        "Certaines classes de caractères bénéficient d’une syntaxe plus légère car\n",
        "elles sont très fréquentes. Parmi-celles:\n",
        "\n",
        "| Expression régulière | Signification                                                     |\n",
        "|--------------------------|----------------------------------------------|\n",
        "| `\\d`                 | N’importe quel chiffre                                            |\n",
        "| `\\D`                 | N’importe quel caractère qui n’est pas un caractère               |\n",
        "| `\\s`                 | N’importe quel espace (espace, tabulation, retour à la ligne)     |\n",
        "| `\\S`                 | N’importe quel caractère qui n’est pas un espace                  |\n",
        "| `\\w`                 | N’importe quel type de mot (lettres et nombres)                   |\n",
        "| `\\W`                 | N’importe quel ensemble qui n’est pas un mot (lettres et nombres) |\n",
        "\n",
        "# Principales fonctions de `re`\n",
        "\n",
        "TO BE COMPLETED"
      ],
      "id": "ca2d54b0-437a-4237-b28d-002732476a4c"
    },
    {
      "cell_type": "raw",
      "metadata": {
        "raw_mimetype": "text/html"
      },
      "source": [
        "<!-----\n",
        "- match\n",
        "- find\n",
        "- count\n",
        "- replace\n",
        "------>"
      ],
      "id": "b4f2bfec-251b-42dc-856c-71771233277c"
    },
    {
      "cell_type": "markdown",
      "metadata": {},
      "source": [
        "# Pour en savoir plus\n",
        "\n",
        "-   [documentation collaborative sur `R` nommée `utilitR`](https://www.book.utilitr.org/textdata.html#regex)\n",
        "-   [*R for Data Science*](https://r4ds.hadley.nz/regexps.html)\n",
        "\n",
        "# OLD\n",
        "\n",
        "Ce TD est directement issu du contenu de [Xavier Dupré](http://www.xavierdupre.fr/app/teachpyx/helpsphinx/c_regex/regex.html),\n",
        "l’ancien professeur de ce cours. Il sera mis-à-jour dans le futur.\n",
        "\n",
        "Par exemple, lorsqu’on remplit un formulaire, on voit souvent le format `\"MM/JJ/AAAA\"` qui précise sous quelle forme on s’attend à ce qu’une date soit écrite. Les expressions régulières permettent de définir également ce format et de chercher dans un texte toutes les chaînes de caractères qui sont conformes à ce format.\n",
        "\n",
        "La liste qui suit contient des dates de naissance. On cherche à obtenir toutes les dates de cet exemple sachant que les jours ou les mois contiennent un ou deux chiffres, et les années deux ou quatre."
      ],
      "id": "a9311bb3-4f14-4349-adcb-b132a74e7444"
    },
    {
      "cell_type": "code",
      "execution_count": 11,
      "metadata": {},
      "outputs": [
        {
          "output_type": "stream",
          "name": "stdout",
          "text": [
            "date 0 : 14/9/2000\n",
            "date 1 : 20/04/1971     date 2 : 14/09/1913     date 3 : 2/3/1978\n",
            "date 4 : 1/7/1986     date 5 : 7/3/47     date 6 : 15/10/1914\n",
            "date 7 : 08/03/1941     date 8 : 8/1/1980     date 9 : 30/6/1976"
          ]
        }
      ],
      "source": [
        "s = \"\"\"date 0 : 14/9/2000\n",
        "date 1 : 20/04/1971     date 2 : 14/09/1913     date 3 : 2/3/1978\n",
        "date 4 : 1/7/1986     date 5 : 7/3/47     date 6 : 15/10/1914\n",
        "date 7 : 08/03/1941     date 8 : 8/1/1980     date 9 : 30/6/1976\"\"\"\n",
        "print(s)"
      ],
      "id": "a01904fa-9819-43f2-98c9-3c0eae974096"
    },
    {
      "cell_type": "markdown",
      "metadata": {},
      "source": [
        "#### Exemple introductif : Format de date\n",
        "\n",
        "Le premier chiffre du `jour` est soit 0, 1, 2, ou 3 ; ceci se traduit par `[0-3]`.\n",
        "\n",
        "Le second chiffre est compris entre 0 et 9, soit `[0-9]`. Le format des jours est traduit par `[0-3][0-9]`. Mais le premier chiffre du jour est facultatif, ce qu’on précise avec le symbole ? : `[0-3]?[0-9]`.\n",
        "\n",
        "Les `mois` suivent le même principe : `[0-1]?[0-9]`.\n",
        "\n",
        "Pour les `années`, ce sont les deux premiers chiffres qui sont facultatifs, le symbole ? s’appliquent alors sur les deux premiers chiffres : `[0-2]?[0-9]?[0-9][0-9]`. Le format final d’une date devient alors :\n",
        "\n",
        "`[0-3]?[0-9]/[0-1]?[0-9]/[0-2]?[0-9]?[0-9][0-9]`\n",
        "\n",
        "Le module `re` gère les expressions régulières, celui-ci traite différemment les parties de l’expression régulière qui sont entre parenthèses de celles qui ne le sont pas : c’est un moyen de dire au module `re` que nous nous intéressons à telle partie de l’expression qui est signalée entre parenthèses. Comme la partie qui nous intéresse - une date - concerne l’intégralité de l’expression régulière, il faut insérer celle-ci intégralement entre parenthèses.\n",
        "\n",
        "La première étape consiste à construire l’expression régulière, la seconde à rechercher toutes les fois qu’un morceau de la chaîne `s` définie plus haut correspond à l’expression régulière."
      ],
      "id": "5090e66c-e631-4bc6-9236-34d5ec1a0429"
    },
    {
      "cell_type": "code",
      "execution_count": 12,
      "metadata": {},
      "outputs": [
        {
          "output_type": "stream",
          "name": "stdout",
          "text": [
            "['14/9/2000', '20/04/1971', '14/09/1913', '2/3/1978', '1/7/1986', '7/3/47', '15/10/1914', '08/03/1941', '8/1/1980', '30/6/1976']"
          ]
        }
      ],
      "source": [
        "import re\n",
        "# première étape : construction\n",
        "expression = re.compile(\"([0-3]?[0-9]/[0-1]?[0-9]/[0-2]?[0-9]?[0-9][0-9])\")\n",
        "# seconde étape : recherche\n",
        "res = expression.findall(s)\n",
        "print(res)"
      ],
      "id": "dd03c067-4b95-478c-a91c-1d6c21988819"
    },
    {
      "cell_type": "markdown",
      "metadata": {},
      "source": [
        "Le résultat est une liste dont chaque élément correspond aux parties comprises entre parenthèses qu’on appelle des groupes.\n",
        "\n",
        "Lorsque les expressions régulières sont utilisées, on doit d’abord se demander comment définir ce qu’on cherche puis quelles fonctions utiliser pour obtenir les résultats de cette recherche. Les deux paragraphes qui suivent y répondent.\n",
        "\n",
        "## Syntaxe\n",
        "\n",
        "La syntaxe des expressions régulières est décrite sur le site officiel de python. La page [Regular Expression Syntax](https://docs.python.org/3/library/re.html) décrit comment se servir des expressions régulières, les deux pages sont en anglais. Comme toute grammaire, celle des expressions régulières est susceptible d’évoluer au fur et à mesure des versions du langage python.\n",
        "\n",
        "## Les ensembles de caractères\n",
        "\n",
        "Lors d’une recherche, on s’intéresse aux caractères et souvent aux classes de caractères : on cherche un chiffre, une lettre, un caractère dans un ensemble précis ou un caractère qui n’appartient pas à un ensemble précis. Certains ensembles sont prédéfinis, d’autres doivent être définis à l’aide de crochets.\n",
        "\n",
        "Pour définir un ensemble de caractères, il faut écrire cet ensemble entre crochets. Par exemple, `[0123456789]` désigne un chiffre. Comme c’est une séquence de caractères consécutifs, on peut résumer cette écriture en `[0-9]`. Pour inclure les symboles `+` et `-`, il suffit d’écrire : `[-0-9+]`. La subtilité est qu’il faut penser à mettre le symbole `-` au début pour éviter qu’il ne désigne une séquence.\n",
        "\n",
        "Le caractère `^` inséré au début du groupe signifie que le caractère cherché ne doit pas être un de ceux qui suivent. Le tableau suivant décrit les ensembles prédéfinis et leur équivalent en terme d’ensemble de caractères :\n",
        "\n",
        "-   `.` désigne tout caractère non spécial quel qu’il soit.\n",
        "-   `\\d` désigne tout chiffre, est équivalent à `[0-9]`.\n",
        "-   `\\D` désigne tout caractère différent d’un chiffre, est équivalent à `[^0-9]`.\n",
        "-   `\\s` désigne tout espace ou caractère approché, est équivalent à `[\\; \\t\\n\\r\\f\\v]`. Ces caractères sont spéciaux, les plus utilisés sont `\\t` qui est une tabulation, `\\n` qui est une fin de ligne et qui `\\r` qui est un retour à la ligne.\n",
        "-   `\\S` désigne tout caractère différent d’un espace, est équivalent à `[^ \\t\\n\\r\\f\\v]`.\n",
        "-   `\\w` désigne toute lettre ou tout chiffre, est équivalent à `[a-zA-Z0-9_]`.\n",
        "-   `\\W` désigne tout caractère différent d’une lettre ou d’un chiffre, est équivalent à `[^a-zA-Z0-9_]`.\n",
        "-   `^` désigne le début d’un mot sauf s’il est placé entre crochets.\n",
        "-   `$` désigne la fin d’un mot sauf s’il est placé entre crochets.\n",
        "\n",
        "A l’instar des chaînes de caractères, comme le caractère `\\` est un caractère spécial, il faut le doubler : `[\\\\]`.\n",
        "\n",
        "## Les multiplicateurs\n",
        "\n",
        "Les multiplicateurs permettent de définir des expressions régulières comme : un mot entre six et huit lettres qu’on écrira `[\\w]{6,8}`. Le tableau suivant donne la liste des multiplicateurs principaux :\n",
        "\n",
        "-   `*` présence de l’ensemble de caractères qui précède entre 0 fois et l’infini\n",
        "-   `+` présence de l’ensemble de caractères qui précède entre 1 fois et l’infini\n",
        "-   `?` présence de l’ensemble de caractères qui précède entre 0 et 1 fois\n",
        "-   `{m,n}` présence de l’ensemble de caractères qui précède entre *m* et *n* fois, si *m=n*, cette expression peut être résumée par `{n}`.\n",
        "-   `(?!(...))` absence du groupe désigné par les points de suspensions.\n",
        "\n",
        "L’algorithme des expressions régulières essaye toujours de faire correspondre le plus grand morceau à l’expression régulière.\n",
        "\n",
        "Par exemple, pour la chaîne de charactère `<h1>mot</h1>`, l’expression régulière `<.*>` correspond à trois morceaux :\n",
        "\\* `<h1>`\n",
        "\\* `</h1>`\n",
        "\\* `<h1>mot</h1>` =\\> le plus grand qui sera choisi.\n",
        "\n",
        "Pour choisir les plus petits, il faudra écrire les multiplicateurs comme ceci : `*?`, `+?`"
      ],
      "id": "2362abdf-91d8-4940-b2ca-c1982cd5cf3a"
    },
    {
      "cell_type": "code",
      "execution_count": 13,
      "metadata": {},
      "outputs": [
        {
          "output_type": "stream",
          "name": "stdout",
          "text": [
            "['<h1>mot</h1>']\n",
            "['<h1>', '</h1>']\n",
            "('<h1>mot</h1>',)"
          ]
        }
      ],
      "source": [
        "import re\n",
        "import re\n",
        "s = \"<h1>mot</h1>\"\n",
        "print(re.compile(\"<.*>\").findall(s))\n",
        "print(re.compile(\"<.*?>\").findall(s))\n",
        "\n",
        "\n",
        "\n",
        "print(re.compile(\"(<.*>)\").match(s).groups())"
      ],
      "id": "a61e653c-2dbb-4cdf-aeed-29cd39d5ca53"
    },
    {
      "cell_type": "code",
      "execution_count": 14,
      "metadata": {},
      "outputs": [
        {
          "output_type": "stream",
          "name": "stdout",
          "text": [
            "<re.Match object; span=(0, 12), match='<h1>mot</h1>'>"
          ]
        }
      ],
      "source": [
        "print(re.compile(\"(.*</h1>)\").match(s))"
      ],
      "id": "6d63c6fa-7e3e-4fc3-b532-955d1815ac5c"
    },
    {
      "cell_type": "code",
      "execution_count": 15,
      "metadata": {},
      "outputs": [
        {
          "output_type": "stream",
          "name": "stdout",
          "text": [
            "('</h1>',)\n",
            "['<h1>', '</h1>']"
          ]
        }
      ],
      "source": [
        "print(re.compile(\".*(<.h1>)\").match(s).groups()) \n",
        "print(re.compile(\"(<.?h1>)\").findall(s))"
      ],
      "id": "29fc0386-4ff9-4c27-ae2e-290e7fce11ea"
    },
    {
      "cell_type": "markdown",
      "metadata": {},
      "source": [
        "Un exemple pour trouver des adresses emails :"
      ],
      "id": "02c75779-9944-4164-94ab-d87fd7215cad"
    },
    {
      "cell_type": "code",
      "execution_count": 16,
      "metadata": {},
      "outputs": [],
      "source": [
        "text_emails = 'Hello from shubhamg199630@gmail.com to priya@yahoo.com about the meeting @2PM'"
      ],
      "id": "10247618-8bf8-4167-b0af-05f4faf50e0b"
    },
    {
      "cell_type": "code",
      "execution_count": 17,
      "metadata": {},
      "outputs": [],
      "source": [
        "# \\S` désigne tout caractère différent d'un espace \n",
        "# `+` présence de l'ensemble de caractères qui précède entre 1 fois et l'infini\n",
        "liste_emails = re.findall('\\S+@\\S+', text_emails)     "
      ],
      "id": "403c9db0-ca10-43fc-ab78-71f6198cbbb4"
    },
    {
      "cell_type": "code",
      "execution_count": 18,
      "metadata": {},
      "outputs": [
        {
          "output_type": "stream",
          "name": "stdout",
          "text": [
            "['shubhamg199630@gmail.com', 'priya@yahoo.com']"
          ]
        }
      ],
      "source": [
        "print(liste_emails)"
      ],
      "id": "11f2a500-abb4-4902-a82f-c4734c26f91a"
    },
    {
      "cell_type": "markdown",
      "metadata": {},
      "source": [
        "## Exercices"
      ],
      "id": "04a73b3d-9761-4c61-a1cb-4bf37421a401"
    },
    {
      "cell_type": "markdown",
      "metadata": {},
      "source": [
        "<div class=\"alert alert-success\" role=\"alert\" style=\"color: rgba(0,0,0,.8); background-color: white; margin-top: 1em; margin-bottom: 1em; margin:1.5625emauto; padding:0 .6rem .8rem!important;overflow:hidden; page-break-inside:avoid; border-radius:.25rem; box-shadow:0 .2rem .5rem rgba(0,0,0,.05),0 0 .05rem rgba(0,0,0,.1); transition:color .25s,background-color .25s,border-color .25s ; border-right: 1px solid #dee2e6 ; border-top: 1px solid #dee2e6 ; border-bottom: 1px solid #dee2e6 ; border-left:.2rem solid #3fb618;\">\n",
        "\n",
        "**Exercice 1: Application directe**\n",
        "\n",
        "Recherchez les dates présentes dans la phrase suivante.\n",
        "\n",
        "``` python\n",
        "texte1 = \"\"\"Je suis né le 28/12/1903 et je suis mort le 08/02/1957. Ma seconde femme est morte le 10/11/1963. \n",
        "J'ai écrit un livre intitulé 'Comprendre les fractions : les exemples en page 12/46/83' \"\"\"\n",
        "```\n",
        "\n",
        "Puis dans celle-ci :\n",
        "\n",
        "``` python\n",
        "texte2 = \"\"\"Je suis né le 28/12/1903 et je suis mort le 08/02/1957. Je me suis marié le 8/5/45. \n",
        "J'ai écrit un livre intitulé 'Comprendre les fractions : les exemples en page 12/46/83' \"\"\"\n",
        "```\n",
        "\n",
        "``` python\n",
        "# Correction\n",
        "import re\n",
        "expression = re.compile(\"([0-3]?[0-9]/[0-1]?[0-9]/[0-2]?[0-9]?[0-9][0-9])\")\n",
        "print(expression.findall(texte1))\n",
        "print(expression.findall(texte2))\n",
        "```\n",
        "\n",
        "    ['28/12/1903', '08/02/1957', '10/11/1963']\n",
        "    ['28/12/1903', '08/02/1957', '8/5/45']\n",
        "\n",
        "</div>"
      ],
      "id": "b5bea716-86cb-4760-8640-bf08b97f396f"
    },
    {
      "cell_type": "markdown",
      "metadata": {},
      "source": [
        "<div class=\"alert alert-success\" role=\"alert\" style=\"color: rgba(0,0,0,.8); background-color: white; margin-top: 1em; margin-bottom: 1em; margin:1.5625emauto; padding:0 .6rem .8rem!important;overflow:hidden; page-break-inside:avoid; border-radius:.25rem; box-shadow:0 .2rem .5rem rgba(0,0,0,.05),0 0 .05rem rgba(0,0,0,.1); transition:color .25s,background-color .25s,border-color .25s ; border-right: 1px solid #dee2e6 ; border-top: 1px solid #dee2e6 ; border-bottom: 1px solid #dee2e6 ; border-left:.2rem solid #3fb618;\">\n",
        "\n",
        "**Exercice 2: Nettoyer une colonne de date de publication**\n",
        "\n",
        "L’objectif général de l’exercice est de nettoyer des colonnes d’un DataFrame en utilisant des expressions régulières.\n",
        "\n",
        "La base en question contient des livres de la British Library et quelques informations les concernant. Le jeu de données est disponible ici : https://raw.githubusercontent.com/realpython/python-data-cleaning/master/Datasets/BL-Flickr-Images-Book.csv\n",
        "\n",
        "La colonne “Date de Publication” n’est pas toujours une année, il y a parfois d’autres informations. Le but de l’exercice est d’avoir **une date de publication du livre propre** et de regarder la **distribution des années de publications**.\n",
        "\n",
        "Pour ce faire, vous pouvez :\n",
        "\\* Soit choisir de réaliser l’exercice sans aide. Votre **lecture de l’énoncé s’arrête donc ici**. Vous devez alors faire attention à bien regarder vous-même la base de données et la transformer avec attention.\n",
        "\n",
        "-   Soit suivre les différentes étapes qui suivent pas à pas.\n",
        "\n",
        "``` python\n",
        "import pandas\n",
        "\n",
        "data_books = pandas.read_csv('https://raw.githubusercontent.com/realpython/python-data-cleaning/master/Datasets/BL-Flickr-Images-Book.csv',sep=',')\n",
        "```\n",
        "\n",
        "``` python\n",
        "data_books=data_books[['Identifier', 'Place of Publication',\n",
        "       'Date of Publication', 'Publisher', 'Title', 'Author']]\n",
        "```\n",
        "\n",
        "En regardant la base, on réalise que cette colonne ne correspond pas toujours à une année, par exemple en lignes 13 et 16.\n",
        "\n",
        "``` python\n",
        "data_books[['Date of Publication',\"Title\"]].iloc[13:20]\n",
        "```\n",
        "\n",
        "<div>\n",
        "<style scoped>\n",
        "    .dataframe tbody tr th:only-of-type {\n",
        "        vertical-align: middle;\n",
        "    }\n",
        "\n",
        "    .dataframe tbody tr th {\n",
        "        vertical-align: top;\n",
        "    }\n",
        "\n",
        "    .dataframe thead th {\n",
        "        text-align: right;\n",
        "    }\n",
        "</style>\n",
        "<table border=\"1\" class=\"dataframe\">\n",
        "  <thead>\n",
        "    <tr style=\"text-align: right;\">\n",
        "      <th></th>\n",
        "      <th>Date of Publication</th>\n",
        "      <th>Title</th>\n",
        "    </tr>\n",
        "  </thead>\n",
        "  <tbody>\n",
        "    <tr>\n",
        "      <th>13</th>\n",
        "      <td>1839, 38-54</td>\n",
        "      <td>De Aardbol. Magazijn van hedendaagsche land- e...</td>\n",
        "    </tr>\n",
        "    <tr>\n",
        "      <th>14</th>\n",
        "      <td>1897</td>\n",
        "      <td>Cronache Savonesi dal 1500 al 1570 ... Accresc...</td>\n",
        "    </tr>\n",
        "    <tr>\n",
        "      <th>15</th>\n",
        "      <td>1865</td>\n",
        "      <td>See-Saw; a novel ... Edited [or rather, writte...</td>\n",
        "    </tr>\n",
        "    <tr>\n",
        "      <th>16</th>\n",
        "      <td>1860-63</td>\n",
        "      <td>Géodésie d'une partie de la Haute Éthiopie,...</td>\n",
        "    </tr>\n",
        "    <tr>\n",
        "      <th>17</th>\n",
        "      <td>1873</td>\n",
        "      <td>[With eleven maps.]</td>\n",
        "    </tr>\n",
        "    <tr>\n",
        "      <th>18</th>\n",
        "      <td>1866</td>\n",
        "      <td>[Historia geográfica, civil y politica de la ...</td>\n",
        "    </tr>\n",
        "    <tr>\n",
        "      <th>19</th>\n",
        "      <td>1899</td>\n",
        "      <td>The Crisis of the Revolution, being the story ...</td>\n",
        "    </tr>\n",
        "  </tbody>\n",
        "</table>\n",
        "</div>\n",
        "\n",
        "1.  Commencez par regarder le nombre d’informations manquantes. On ne pourra pas avoir mieux après la regex, et normalement on ne devrait pas avoir moins…\n",
        "\n",
        "``` python\n",
        "data_books['Date of Publication'].isna().sum()\n",
        "```\n",
        "\n",
        "    181\n",
        "\n",
        "1.  Déterminer la forme de la regex pour une date de publication. A priori, il y a 4 chiffres qui forment une année.\n",
        "\n",
        "``` python\n",
        "import re\n",
        "expression = \"([0-2][0-9][0-9][0-9])\"\n",
        "```\n",
        "\n",
        "1.  Quelles lignes sont changées quand on applique notre regex à la colonne qui nous intéresse avec la fonction `str.extract()` ?\n",
        "\n",
        "``` python\n",
        "data_books['Date of Publication 2'] = data_books['Date of Publication'].str.extract(expression, expand=False)\n",
        "data_books[~(data_books['Date of Publication'] == data_books['Date of Publication 2'])][['Date of Publication', 'Date of Publication 2']]\n",
        "```\n",
        "\n",
        "<div>\n",
        "<style scoped>\n",
        "    .dataframe tbody tr th:only-of-type {\n",
        "        vertical-align: middle;\n",
        "    }\n",
        "\n",
        "    .dataframe tbody tr th {\n",
        "        vertical-align: top;\n",
        "    }\n",
        "\n",
        "    .dataframe thead th {\n",
        "        text-align: right;\n",
        "    }\n",
        "</style>\n",
        "<table border=\"1\" class=\"dataframe\">\n",
        "  <thead>\n",
        "    <tr style=\"text-align: right;\">\n",
        "      <th></th>\n",
        "      <th>Date of Publication</th>\n",
        "      <th>Date of Publication 2</th>\n",
        "    </tr>\n",
        "  </thead>\n",
        "  <tbody>\n",
        "    <tr>\n",
        "      <th>0</th>\n",
        "      <td>1879 [1878]</td>\n",
        "      <td>1879</td>\n",
        "    </tr>\n",
        "    <tr>\n",
        "      <th>7</th>\n",
        "      <td>NaN</td>\n",
        "      <td>NaN</td>\n",
        "    </tr>\n",
        "    <tr>\n",
        "      <th>13</th>\n",
        "      <td>1839, 38-54</td>\n",
        "      <td>1839</td>\n",
        "    </tr>\n",
        "    <tr>\n",
        "      <th>16</th>\n",
        "      <td>1860-63</td>\n",
        "      <td>1860</td>\n",
        "    </tr>\n",
        "    <tr>\n",
        "      <th>23</th>\n",
        "      <td>1847, 48 [1846-48]</td>\n",
        "      <td>1847</td>\n",
        "    </tr>\n",
        "    <tr>\n",
        "      <th>...</th>\n",
        "      <td>...</td>\n",
        "      <td>...</td>\n",
        "    </tr>\n",
        "    <tr>\n",
        "      <th>8278</th>\n",
        "      <td>1883, [1884]</td>\n",
        "      <td>1883</td>\n",
        "    </tr>\n",
        "    <tr>\n",
        "      <th>8279</th>\n",
        "      <td>1898-1912</td>\n",
        "      <td>1898</td>\n",
        "    </tr>\n",
        "    <tr>\n",
        "      <th>8283</th>\n",
        "      <td>1831, 32</td>\n",
        "      <td>1831</td>\n",
        "    </tr>\n",
        "    <tr>\n",
        "      <th>8284</th>\n",
        "      <td>[1806]-22</td>\n",
        "      <td>1806</td>\n",
        "    </tr>\n",
        "    <tr>\n",
        "      <th>8286</th>\n",
        "      <td>1834-43</td>\n",
        "      <td>1834</td>\n",
        "    </tr>\n",
        "  </tbody>\n",
        "</table>\n",
        "<p>1759 rows × 2 columns</p>\n",
        "</div>\n",
        "\n",
        "1.  On a 2 `NaN` qui n’étaient pas présents au début de l’exercice. Quels sont-ils et pourquoi ?\n",
        "\n",
        "``` python\n",
        "# Il s'agit de lignes qui ne contenaient pas de chaînes de caractères qui ressemblaient à des années.\n",
        "data_books[~data_books['Date of Publication'].isna() & data_books['Date of Publication 2'].isna()][['Date of Publication', 'Date of Publication 2']]\n",
        "```\n",
        "\n",
        "<div>\n",
        "<style scoped>\n",
        "    .dataframe tbody tr th:only-of-type {\n",
        "        vertical-align: middle;\n",
        "    }\n",
        "\n",
        "    .dataframe tbody tr th {\n",
        "        vertical-align: top;\n",
        "    }\n",
        "\n",
        "    .dataframe thead th {\n",
        "        text-align: right;\n",
        "    }\n",
        "</style>\n",
        "<table border=\"1\" class=\"dataframe\">\n",
        "  <thead>\n",
        "    <tr style=\"text-align: right;\">\n",
        "      <th></th>\n",
        "      <th>Date of Publication</th>\n",
        "      <th>Date of Publication 2</th>\n",
        "    </tr>\n",
        "  </thead>\n",
        "  <tbody>\n",
        "    <tr>\n",
        "      <th>1081</th>\n",
        "      <td>112. G. &amp; W. B. Whittaker</td>\n",
        "      <td>NaN</td>\n",
        "    </tr>\n",
        "    <tr>\n",
        "      <th>7391</th>\n",
        "      <td>17 vols. University Press</td>\n",
        "      <td>NaN</td>\n",
        "    </tr>\n",
        "  </tbody>\n",
        "</table>\n",
        "</div>\n",
        "\n",
        "1.  Quelle est la répartition des dates de publications dans le jeu de données ? Vous pouvez par exemple afficher un histogramme.\n",
        "\n",
        "``` python\n",
        "pandas.to_numeric(data_books['Date of Publication 2'], downcast='integer').plot(kind =\"hist\")\n",
        "```\n",
        "\n",
        "    <AxesSubplot: ylabel='Frequency'>\n",
        "\n",
        "![](attachment:index_files/figure-ipynb/cell-30-output-2.png)\n",
        "\n",
        "</div>"
      ],
      "attachments": {
        "index_files/figure-ipynb/cell-30-output-2.png": {
          "image/png": "[encoded data removed]"
        }
      },
      "id": "6a33c098-3cd5-40bc-bb2b-915624d78f79"
    },
    {
      "cell_type": "markdown",
      "metadata": {},
      "source": [
        "## Aller plus loin pour apprendre les regex\n",
        "\n",
        "-   Le site [regex101](https://regex101.com/) permet de tester les expressions régulières utilisées tout en ayant une explication qui accompagne ce test\n",
        "\n",
        "-   De même pour [ce site](https://ole.michelsen.dk/tools/regex/) qui comporte une cheat sheet en bas de la page.\n",
        "\n",
        "-   Les jeux de [Regex Crossword](https://regexcrossword.com/) permettent d’apprendre les expressions régulières en s’amusant"
      ],
      "id": "fd2aa2e8-1600-4b21-9aab-06f8a1bd3183"
    }
  ],
  "nbformat": 4,
  "nbformat_minor": 5,
  "metadata": {
    "kernelspec": {
      "name": "python3",
      "display_name": "Python 3 (ipykernel)",
      "language": "python"
    },
    "language_info": {
      "name": "python",
      "codemirror_mode": {
        "name": "ipython",
        "version": "3"
      },
      "file_extension": ".py",
      "mimetype": "text/x-python",
      "nbconvert_exporter": "python",
      "pygments_lexer": "ipython3",
      "version": "3.9.13"
    }
  }
}