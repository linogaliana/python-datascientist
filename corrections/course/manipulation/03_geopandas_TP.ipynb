{
  "cells": [
    {
      "cell_type": "raw",
      "metadata": {},
      "source": [
        "---\n",
        "title: \"Pratique de geopandas avec les données vélib\"\n",
        "date: 2020-07-09T13:00:00Z\n",
        "draft: false\n",
        "weight: 50\n",
        "slug: geopandasTP\n",
        "tags:\n",
        "  - geopandas\n",
        "  - Velib\n",
        "  - Exercice\n",
        "  - Cartographie\n",
        "  - Manipulation\n",
        "categories:\n",
        "  - Manipulation\n",
        "  - Exercice\n",
        "type: book\n",
        "summary: |\n",
        "  Ce chapitre illustre les fonctionalités de `GeoPandas` à partir des\n",
        "  décomptes de vélo fournis par la ville de Paris\n",
        "  en [opendata](https://opendata.paris.fr/explore/dataset/comptage-velo-donnees-compteurs/map/?disjunctive.id_compteur&disjunctive.nom_compteur&disjunctive.id&disjunctive.name&basemap=jawg.dark&location=12,48.85855,2.33754).\n",
        "  Il prolonge\n",
        "  le chapitre précédent avec des données un petit peu plus complexes\n",
        "  à manipuler.\n",
        "\n",
        "eval: false\n",
        "image: featured.png\n",
        "---"
      ],
      "id": "4ac24cb2"
    },
    {
      "cell_type": "markdown",
      "metadata": {},
      "source": [
        "::: {.cell .markdown}"
      ],
      "id": "b6b373cb"
    },
    {
      "cell_type": "code",
      "metadata": {},
      "source": [
        "#| output: 'asis'\n",
        "#| include: true\n",
        "#| eval: true\n",
        "\n",
        "import sys\n",
        "sys.path.insert(1, '../../../../') #insert the utils module\n",
        "from utils import print_badges\n",
        "\n",
        "#print_badges(__file__)\n",
        "print_badges(\"content/course/manipulation/03_geopandas_TP.qmd\")"
      ],
      "id": "099866f1",
      "execution_count": null,
      "outputs": []
    },
    {
      "cell_type": "markdown",
      "metadata": {},
      "source": [
        ":::\n",
        "\n",
        "Installations préalables : \n"
      ],
      "id": "ae307c1f"
    },
    {
      "cell_type": "code",
      "metadata": {},
      "source": [
        "#| echo: true\n",
        "#| eval: false\n",
        "\n",
        "\n",
        "!pip install pandas fiona shapely pyproj rtree # à faire obligatoirement en premier pour utiliser rtree ou pygeos pour les jointures spatiales\n",
        "!pip install contextily\n",
        "!pip install geopandas\n",
        "!pip install pygeos\n",
        "!pip install topojson"
      ],
      "id": "a65216a6",
      "execution_count": null,
      "outputs": []
    },
    {
      "cell_type": "code",
      "metadata": {},
      "source": [
        "!pip install topojson"
      ],
      "id": "b556fad6",
      "execution_count": null,
      "outputs": []
    },
    {
      "cell_type": "markdown",
      "metadata": {},
      "source": [
        "Les instructions d'installation du package `cartiflette`\n",
        "sont quant à elles détaillées dans le chapitre\n",
        "précédent.\n"
      ],
      "id": "cc482255"
    },
    {
      "cell_type": "code",
      "metadata": {},
      "source": [
        "#| echo: true\n",
        "#| output: false\n",
        "import geopandas as gpd"
      ],
      "id": "bde53ec1",
      "execution_count": null,
      "outputs": []
    },
    {
      "cell_type": "markdown",
      "metadata": {},
      "source": [
        "# Lire et enrichir des données spatiales\n",
        "\n",
        "Dans cette partie,\n",
        "nous utiliserons\n",
        "le package [`cartiflette`](https://github.com/InseeFrLab/cartiflette.git)\n",
        "qui facilite la récupération de contours de cartes. \n",
        "Une version antérieure de cet exercice, présentée sous forme\n",
        "d'[exercice supplémentaire 👇️](#exo-supp), utilisait des fonds de carte issus\n",
        "de `data.gouv`. \n"
      ],
      "id": "caab5fa3"
    },
    {
      "cell_type": "code",
      "metadata": {},
      "source": [
        "# 0) Chargement des packages utilisés dans la partie tutoriel\n",
        "import geopandas as gpd\n",
        "import contextily as ctx\n",
        "import matplotlib.pyplot as plt"
      ],
      "id": "a2333e8e",
      "execution_count": null,
      "outputs": []
    },
    {
      "cell_type": "markdown",
      "metadata": {},
      "source": [
        "```{=html}\n",
        "<div class=\"alert alert-success\" role=\"alert\" style=\"color: rgba(0,0,0,.8); background-color: white; margin-top: 1em; margin-bottom: 1em; margin:1.5625emauto; padding:0 .6rem .8rem!important;overflow:hidden; page-break-inside:avoid; border-radius:.25rem; box-shadow:0 .2rem .5rem rgba(0,0,0,.05),0 0 .05rem rgba(0,0,0,.1); transition:color .25s,background-color .25s,border-color .25s ; border-right: 1px solid #dee2e6 ; border-top: 1px solid #dee2e6 ; border-bottom: 1px solid #dee2e6 ; border-left:.2rem solid #3fb618;\">\n",
        "<h3 class=\"alert-heading\"><i class=\"fa fa-pencil\"></i> Exercice 1: lire et explorer la structure de fichiers géographiques</h3>\n",
        "```\n",
        "\n",
        "\n",
        "1. S'inspirer des exemples de code présents dans le chapitre précédent, mobilisant\n",
        "le package `cartiflette`\n",
        "pour télécharger les données communales des départements 75, 92, 93 et 94.\n",
        "Vous pouvez nommer l'objet `communes_borders`\n",
        "2. Regarder les premières lignes des données. Identifier la différence avec\n",
        "un DataFrame standard. \n",
        "3. Afficher l'attribut `crs` de `communes_borders`. Ce dernier contrôle la\n",
        "transformation de l'espace tridimensionnel terrestre en une surface plane.\n",
        "Utiliser `to_crs` pour transformer les données en Lambert 93 (code EPSG 2154). \n",
        "4. Afficher les communes des Hauts de Seine (département 92) et utiliser la méthode\n",
        "`plot`\n",
        "5. Réprésenter la carte de Paris : quel est le problème ?\n",
        "\n",
        "\n",
        "```{=html}\n",
        "</div>\n",
        "```\n",
        "\n",
        ":::\n"
      ],
      "id": "49bb4c19"
    },
    {
      "cell_type": "code",
      "metadata": {},
      "source": [
        "import cartiflette.s3 as s3\n",
        "\n",
        "#1) Chargement des données de Cartiflette\n",
        "communes_borders = s3.download_vectorfile_url_all(\n",
        "    crs = 4326,\n",
        "    values = [\"75\", \"92\", \"93\", \"94\"],\n",
        "    borders=\"COMMUNE\",\n",
        "    vectorfile_format=\"topojson\",\n",
        "    filter_by=\"DEPARTEMENT\",\n",
        "    source=\"EXPRESS-COG-CARTO-TERRITOIRE\",\n",
        "    year=2022)"
      ],
      "id": "a5fe2169",
      "execution_count": null,
      "outputs": []
    },
    {
      "cell_type": "code",
      "metadata": {},
      "source": [
        "# 2) Regarder les premières lignes\n",
        "communes_borders.head()\n",
        "# Il y a une colonne geometry qui contient les informations nécessaires pour connaître les contours communaux"
      ],
      "id": "31a653d6",
      "execution_count": null,
      "outputs": []
    },
    {
      "cell_type": "code",
      "metadata": {},
      "source": [
        "# 3) Afficher le crs\n",
        "communes_borders.crs\n",
        "# Les données sont en WGS84, on les reprojette en lambert 93"
      ],
      "id": "a27ccc35",
      "execution_count": null,
      "outputs": []
    },
    {
      "cell_type": "markdown",
      "metadata": {},
      "source": [
        "La carte du 92 est la suivante:\n"
      ],
      "id": "a9517647"
    },
    {
      "cell_type": "code",
      "metadata": {},
      "source": [
        "# 4) afficher les communes du département 92\n",
        "ax = communes_borders[communes_borders['INSEE_DEP'] == \"92\"].plot()\n",
        "ax.set_axis_off()"
      ],
      "id": "0f45216f",
      "execution_count": null,
      "outputs": []
    },
    {
      "cell_type": "markdown",
      "metadata": {},
      "source": [
        "Quant à Paris, à l'issue de la question 5, la carte\n",
        "aura l'aspect suivant:\n"
      ],
      "id": "5a2f9bca"
    },
    {
      "cell_type": "code",
      "metadata": {},
      "source": [
        "# 5) Représenter la carte de Paris. Quel est le problème ?\n",
        "ax = communes_borders[communes_borders['INSEE_DEP'] == \"75\"].plot()\n",
        "ax.set_axis_off()"
      ],
      "id": "33383e67",
      "execution_count": null,
      "outputs": []
    },
    {
      "cell_type": "markdown",
      "metadata": {},
      "source": [
        "En effet, on ne dispose ainsi pas des limites des arrondissements parisiens, ce\n",
        "qui appauvrit grandement la carte de Paris. \n",
        "On pourrait les récupérer directement \n",
        "depuis le site d'_open-data_ du Grand Paris, ce qui est proposé\n",
        "en [exercice supplémentaire 👇️](#exo-supp).\n",
        "On propose ici d'utiliser à nouveau\n",
        "`cartiflette` pour cela afin de disposer du fonds de carte officiel. \n",
        "\n",
        "\n",
        "::: {.cell .markdown}\n",
        "\n",
        "```{=html}\n",
        "<div class=\"alert alert-success\" role=\"alert\" style=\"color: rgba(0,0,0,.8); background-color: white; margin-top: 1em; margin-bottom: 1em; margin:1.5625emauto; padding:0 .6rem .8rem!important;overflow:hidden; page-break-inside:avoid; border-radius:.25rem; box-shadow:0 .2rem .5rem rgba(0,0,0,.05),0 0 .05rem rgba(0,0,0,.1); transition:color .25s,background-color .25s,border-color .25s ; border-right: 1px solid #dee2e6 ; border-top: 1px solid #dee2e6 ; border-bottom: 1px solid #dee2e6 ; border-left:.2rem solid #3fb618;\">\n",
        "<h3 class=\"alert-heading\"><i class=\"fa fa-pencil\"></i> Exercice 2: compléter des données spatiales issues de sources différentes</h3>\n",
        "```\n",
        "\n",
        "\n",
        "\n",
        "\n",
        "1. Importer les données de découpage des arrondissements parisiens à l'adresse à l'aide de `cartiflette`.\n",
        "2. Vérifier sur une carte que les découpages des arrondissements sont bien présents.\n",
        "3. Vérifier l'attribut `crs`. Est-il cohérent avec celui des données communales ?\n",
        "Si non, transformer en Lambert 93 (code EPSG 2154).\n",
        "4. Retirer Paris du jeu de données communales et utiliser les arrondissements\n",
        "pour enrichir (nommer l'objet obtenu `data_borders`). \n",
        "5. Représenter à nouveau les communes de la petite couronne parisienne (75, 92, 93, 94)\n",
        "\n",
        "\n",
        "```{=html}\n",
        "</div>\n",
        "```\n",
        "\n",
        ":::\n"
      ],
      "id": "797e8269"
    },
    {
      "cell_type": "code",
      "metadata": {},
      "source": [
        "#1) Importer arrondissements\n",
        "arrondissements = s3.download_vectorfile_url_all(\n",
        "    crs = 4326,\n",
        "    values = [\"75\"],\n",
        "    borders=\"ARRONDISSEMENT_MUNICIPAL\",\n",
        "    vectorfile_format=\"topojson\",\n",
        "    filter_by=\"DEPARTEMENT\",\n",
        "    source=\"EXPRESS-COG-CARTO-TERRITOIRE\",\n",
        "    year=2022)"
      ],
      "id": "445245f3",
      "execution_count": null,
      "outputs": []
    },
    {
      "cell_type": "markdown",
      "metadata": {},
      "source": [
        "La carte de Paris intra-muros est, après la\n",
        "récupération des arrondissements avec\n",
        "`cartiflette` de ce type là:\n"
      ],
      "id": "8df1f900"
    },
    {
      "cell_type": "code",
      "metadata": {},
      "source": [
        "#2) Vérifier présence arrondissements\n",
        "ax = arrondissements.plot(alpha = 0.8, edgecolor = \"k\")\n",
        "ax.set_axis_off()"
      ],
      "id": "90f6f551",
      "execution_count": null,
      "outputs": []
    },
    {
      "cell_type": "code",
      "metadata": {},
      "source": [
        "#3) Vérifier l'attribut `crs`. Est-il cohérent ?\n",
        "print(communes_borders.crs)\n",
        "print(arrondissements.crs)\n",
        "arrondissements = arrondissements.to_crs(2154)\n",
        "print(communes_borders.crs == arrondissements.crs)"
      ],
      "id": "8bed26f3",
      "execution_count": null,
      "outputs": []
    },
    {
      "cell_type": "code",
      "metadata": {},
      "source": [
        "#4) Retirer Paris et ajouter les arrondissements\n",
        "import pandas as pd\n",
        "\n",
        "data_paris = pd.concat(\n",
        "  [\n",
        "    communes_borders[communes_borders['INSEE_DEP'] != \"75\"].to_crs(2154),\n",
        "    arrondissements.to_crs(2154)\n",
        "  ])"
      ],
      "id": "015ec583",
      "execution_count": null,
      "outputs": []
    },
    {
      "cell_type": "markdown",
      "metadata": {},
      "source": [
        "La carte obtenue à l'issue de la question 6, c'est-à-dire après\n",
        "avoir consolidé les données, devrait avoir l'aspect suivant:\n"
      ],
      "id": "996e4295"
    },
    {
      "cell_type": "code",
      "metadata": {},
      "source": [
        "#5) Représenter les communes du 75, 92, 93, 94\n",
        "ax = data_paris.plot(alpha = 0.3, edgecolor = \"k\")\n",
        "ax.set_axis_off()"
      ],
      "id": "9f75be52",
      "execution_count": null,
      "outputs": []
    },
    {
      "cell_type": "markdown",
      "metadata": {},
      "source": [
        "# Utiliser des données géographiques comme des couches graphiques\n",
        "\n",
        "Souvent, le découpage communal ne sert qu'en fond de cartes, pour donner des\n",
        "repères. En complément de celui-ci, on peut désirer exploiter\n",
        "un autre jeu de données.\n",
        "\n",
        "On va partir des données de localisation des\n",
        "stations velib, \n",
        "disponibles [sur le site d'open data de la ville de Paris](https://opendata.paris.fr/explore/dataset/velib-emplacement-des-stations/table/) et \n",
        "requêtables directement par l'url\n",
        "<https://opendata.paris.fr/explore/dataset/velib-emplacement-des-stations/download/?format=geojson&timezone=Europe/Berlin&lang=fr>\n",
        "\n",
        "::: {.cell .markdown}\n",
        "\n",
        "```{=html}\n",
        "<div class=\"alert alert-success\" role=\"alert\" style=\"color: rgba(0,0,0,.8); background-color: white; margin-top: 1em; margin-bottom: 1em; margin:1.5625emauto; padding:0 .6rem .8rem!important;overflow:hidden; page-break-inside:avoid; border-radius:.25rem; box-shadow:0 .2rem .5rem rgba(0,0,0,.05),0 0 .05rem rgba(0,0,0,.1); transition:color .25s,background-color .25s,border-color .25s ; border-right: 1px solid #dee2e6 ; border-top: 1px solid #dee2e6 ; border-bottom: 1px solid #dee2e6 ; border-left:.2rem solid #3fb618;\">\n",
        "<h3 class=\"alert-heading\"><i class=\"fa fa-pencil\"></i> Exercice 3: importer et explorer les données velib</h3>\n",
        "```\n",
        "\n",
        "\n",
        "1. Importer les données velib sous le nom `station`\n",
        "2. Vérifier la projection géographique de `station` (attribut `crs`). Si celle-ci est différente des données communales, reprojeter ces\n",
        "dernières dans le même système de projection que les stations de vélib\n",
        "3.  Représenter sur une carte les 50 stations les plus importantes (variable `capacity`). Vous pouvez également afficher le fonds de carte des arrondissements de Paris.\n",
        "Cette [page](https://geopandas.org/mapping.html#maps-with-layers) peut vous aider pour comprendre comment afficher plusieurs couches à la fois. Vous pouvez customiser la carte en retirant les axes grâce à la méthode `set_axis_off` et mettre un titre tel que _\"Les 50 principales stations de Vélib\"_ avec la méthode `set_title`. \n",
        "4. Afficher également (trait bleu et épais) les réseaux de transport en communs, disponibles [ici](https://data.iledefrance-mobilites.fr/explore/dataset/traces-du-reseau-ferre-idf/map/?location=7,48.69717,2.33167&basemap=jawg.streets). L'url à requêter est\n",
        "<https://data.iledefrance-mobilites.fr/explore/dataset/traces-du-reseau-ferre-idf/download/?format=geojson&timezone=Europe/Berlin&lang=fr>\n",
        "\n",
        "\n",
        "```{=html}\n",
        "</div>\n",
        "```\n",
        "\n",
        ":::\n"
      ],
      "id": "1febe957"
    },
    {
      "cell_type": "code",
      "metadata": {},
      "source": [
        "# 1) Importer les données velib\n",
        "from cartiflette.utils import download_pb\n",
        "url = \"https://opendata.paris.fr/explore/dataset/velib-emplacement-des-stations/download/?format=geojson&timezone=Europe/Berlin&lang=fr\"\n",
        "\n",
        "# sometimes, geopandas files to import directly from\n",
        "# url so proceeding in two times\n",
        "download_pb(url, \"velib.geojson\")\n",
        "stations = gpd.read_file(\"velib.geojson\")\n",
        "stations.head()"
      ],
      "id": "35d64697",
      "execution_count": null,
      "outputs": []
    },
    {
      "cell_type": "code",
      "metadata": {},
      "source": [
        "# 2) Reprojection\n",
        "stations.crs\n",
        "data_paris = data_paris.to_crs(stations.crs)"
      ],
      "id": "e22c2736",
      "execution_count": null,
      "outputs": []
    },
    {
      "cell_type": "markdown",
      "metadata": {},
      "source": [
        "La carte attendu à l'issue de la question 3 a l'aspect suivant:\n"
      ],
      "id": "36111bf1"
    },
    {
      "cell_type": "code",
      "metadata": {},
      "source": [
        "# 3) Carte des 50 stations les plus importantes. \n",
        "base = data_paris[data_paris['INSEE_DEP'] == '75'].plot(alpha = 0.2, edgecolor = 'black')\n",
        "stations.sort_values('capacity', ascending = False).head(50).plot(ax = base, color = 'red', alpha = 0.6)\n",
        "base.set_axis_off()\n",
        "base.set_title(\"Les 50 principales stations de Vélib\")"
      ],
      "id": "12cfc8d0",
      "execution_count": null,
      "outputs": []
    },
    {
      "cell_type": "code",
      "metadata": {},
      "source": [
        "# 4) Réseaux de transport en communs\n",
        "url = \"https://data.iledefrance-mobilites.fr/explore/dataset/traces-du-reseau-ferre-idf/download/?format=geojson&timezone=Europe/Berlin&lang=fr\"\n",
        "# sometimes, geopandas files to import directly from\n",
        "# url so proceeding in two times\n",
        "download_pb(url, \"transports.geojson\")\n",
        "transports = gpd.read_file(\"transports.geojson\")\n",
        "transports.head()\n",
        "print(transports['mode'].unique())"
      ],
      "id": "371cd0ea",
      "execution_count": null,
      "outputs": []
    },
    {
      "cell_type": "markdown",
      "metadata": {},
      "source": [
        "L'ajout du réseau de métro permet d'obtenir une carte ressemblant à celle-ci:\n"
      ],
      "id": "05fefdeb"
    },
    {
      "cell_type": "code",
      "metadata": {},
      "source": [
        "# 4) Réseaux de transport en communs (suite)\n",
        "base = data_paris[data_paris['INSEE_DEP'] == '75'].plot(alpha = 0.2, edgecolor = 'black')\n",
        "stations.sort_values('capacity', ascending = False).head(50).plot(ax = base, color = 'red', alpha = 0.6)\n",
        "transports[transports['mode'] == \"METRO\"].plot(ax=base, color = 'blue', alpha = 0.3,linewidth=3)\n",
        "base.set_axis_off()\n",
        "base.set_title(\"Les 50 principales stations de Vélib\")"
      ],
      "id": "14535497",
      "execution_count": null,
      "outputs": []
    },
    {
      "cell_type": "markdown",
      "metadata": {},
      "source": [
        "Pour faire une belle carte, il faudrait couper les lignes de métro via une jointure spatiale ou\n",
        "utiliser un fonds de carte conceptuel. \n",
        "L'exercice suivant propose de mettre en oeuvre la deuxième méthode. La première \n",
        "est proposée en [exercice supplémentaire 👇️](#exo-supp).\n",
        "\n",
        "\n",
        "::: {.cell .markdown}\n",
        "\n",
        "```{=html}\n",
        "<div class=\"alert alert-success\" role=\"alert\" style=\"color: rgba(0,0,0,.8); background-color: white; margin-top: 1em; margin-bottom: 1em; margin:1.5625emauto; padding:0 .6rem .8rem!important;overflow:hidden; page-break-inside:avoid; border-radius:.25rem; box-shadow:0 .2rem .5rem rgba(0,0,0,.05),0 0 .05rem rgba(0,0,0,.1); transition:color .25s,background-color .25s,border-color .25s ; border-right: 1px solid #dee2e6 ; border-top: 1px solid #dee2e6 ; border-bottom: 1px solid #dee2e6 ; border-left:.2rem solid #3fb618;\">\n",
        "<h3 class=\"alert-heading\"><i class=\"fa fa-pencil\"></i> Exercice 4: ajouter un fond de carte</h3>\n",
        "```\n",
        "\n",
        "\n",
        "1. Recréer par couche successive la carte précédente, que vous pouvez nommer `base`\n",
        "2. Utiliser `add_basemap` du package [`contextily`](https://contextily.readthedocs.io/en/latest/)\n",
        "pour ajouter, en arrière plan, un fonds de carte\n",
        "3. Jouer avec les fonds disponibles en utilisant l'argument `source`\n",
        "\n",
        "\n",
        "```{=html}\n",
        "</div>\n",
        "```\n",
        "\n",
        ":::\n",
        "\n",
        "Par exemple, en utilisant le fond `Stamen.Watercolor`, on obtient la carte\n",
        "suivante. Celle-ci permet déjà de mieux localiser les stations.\n"
      ],
      "id": "e4c04b56"
    },
    {
      "cell_type": "code",
      "metadata": {},
      "source": [
        "base = data_paris[data_paris['INSEE_DEP'] == '75'].to_crs(3857).plot(alpha = 0.2, edgecolor = 'black')\n",
        "stations.sort_values('capacity', ascending = False).head(50).to_crs(3857).plot(ax = base, color = 'red', alpha = 0.6)\n",
        "base.set_axis_off()\n",
        "base.set_title(\"Les 50 principales stations de Vélib\")\n",
        "ctx.add_basemap(base, source=ctx.providers.Stamen.Watercolor)"
      ],
      "id": "8c2baac1",
      "execution_count": null,
      "outputs": []
    },
    {
      "cell_type": "markdown",
      "metadata": {},
      "source": [
        "# Jointures spatiales\n",
        "\n",
        "Les jointures attributaires fonctionnent comme avec un DataFrame `pandas`.\n",
        "Pour conserver un objet spatial *in fine*, il faut faire attention à utiliser en premier (base de gauche) l'objet `GeoPandas`.\n",
        "En revanche, l'un des intérêts des objets geopandas est qu'on peut également faire une jointure sur la dimension spatiale grâce à `sjoin`.\n",
        "\n",
        "La documentation à laquelle se référer est [ici](https://geopandas.org/mergingdata.html#spatial-joins). \n",
        "\n",
        "\n",
        "::: {.cell .markdown}\n",
        "\n",
        "```{=html}\n",
        "<div class=\"alert alert-success\" role=\"alert\" style=\"color: rgba(0,0,0,.8); background-color: white; margin-top: 1em; margin-bottom: 1em; margin:1.5625emauto; padding:0 .6rem .8rem!important;overflow:hidden; page-break-inside:avoid; border-radius:.25rem; box-shadow:0 .2rem .5rem rgba(0,0,0,.05),0 0 .05rem rgba(0,0,0,.1); transition:color .25s,background-color .25s,border-color .25s ; border-right: 1px solid #dee2e6 ; border-top: 1px solid #dee2e6 ; border-bottom: 1px solid #dee2e6 ; border-left:.2rem solid #3fb618;\">\n",
        "<h3 class=\"alert-heading\"><i class=\"fa fa-pencil\"></i> Exercice 5 : Associer les stations aux communes et arrondissements auxquels elles appartiennent</h3>\n",
        "```\n",
        "\n",
        "\n",
        "1. Faire une jointure spatiale pour enrichir les données de stations en y ajoutant des informations de `data_paris`. Appeler cet objet `stations_info`\n",
        "2. Représenter la carte des stations du 19e arrondissement (s'aider de la variable `c_ar`). Vous pouvez mettre en fond de carte les arrondissements parisiens. \n",
        "3. Compter le nombre de stations velib et le nombre de places velib par arrondissement ou commune (pour vous aider, vous pouvez compléter vos connaissances avec [ce tutoriel](https://pandas.pydata.org/docs/getting_started/intro_tutorials/06_calculate_statistics.html)). Représenter sur une carte chacune des informations\n",
        "4. Représenter les mêmes informations mais en densité (diviser par la surface de l'arrondissement ou commune en km2)\n",
        "5. (optionnel) Choisir une des cartes de densité et la nettoyer (retirer les axes, mettre les titres...)\n",
        "\n",
        "\n",
        "```{=html}\n",
        "</div>\n",
        "```\n",
        "\n",
        ":::\n"
      ],
      "id": "43a5db30"
    },
    {
      "cell_type": "code",
      "metadata": {},
      "source": [
        "#1.  Jointure spatiale entre stations et data_paris\n",
        "stations_info = gpd.sjoin(stations, data_paris, predicate = 'within')\n",
        "stations_info.head()"
      ],
      "id": "88c75e75",
      "execution_count": null,
      "outputs": []
    },
    {
      "cell_type": "markdown",
      "metadata": {},
      "source": [
        "Pour la question 2,\n",
        "la première méthode consiste à afficher\n",
        "toute la ville mais à ne représenter que\n",
        "les points des stations du 19e:\n"
      ],
      "id": "b7984738"
    },
    {
      "cell_type": "code",
      "metadata": {},
      "source": [
        "#2. Carte des stations du 19e arrondissement\n",
        "# Méthode 1 : En affichant tout Paris\n",
        "base = data_paris[data_paris['INSEE_DEP'] == \"75\"].plot(alpha = 0.2, edgecolor = 'k') #fond de carte des arrondissements\n",
        "stations_19 = stations_info.loc[stations_info['NOM'].str.contains(\"19e\")]\n",
        "stations_19.plot(ax = base, color = 'red', alpha = 0.6) # stations du 19e"
      ],
      "id": "e6281e69",
      "execution_count": null,
      "outputs": []
    },
    {
      "cell_type": "markdown",
      "metadata": {},
      "source": [
        "Néanmoins, il est préférable de se centrer sur \n",
        "le 19e en premier lieu, ce qui donne une\n",
        "carte comme celle-ci:\n"
      ],
      "id": "0c37e5d5"
    },
    {
      "cell_type": "code",
      "metadata": {},
      "source": [
        "# Méthode 2 : En affichant seulement le 19e\n",
        "base = data_paris[data_paris['NOM'].str.contains(\"19e\")].to_crs(3857).plot(alpha = 0.2, edgecolor = 'k') #fond de carte du 19e\n",
        "stations_info[stations_info['NOM'].str.contains(\"19e\")].to_crs(3857).plot(ax = base, color = 'red', alpha = 0.6) #stations du 19e\n",
        "ctx.add_basemap(base, source=ctx.providers.Stamen.Toner)"
      ],
      "id": "6630ed9b",
      "execution_count": null,
      "outputs": []
    },
    {
      "cell_type": "code",
      "metadata": {},
      "source": [
        "#3. Nombre de stations et de places vélib par arrondissement\n",
        "stations_agg = stations_info.groupby('NOM').agg({'stationcode': 'nunique',\n",
        "                                   'capacity': 'sum'}).reset_index()\n",
        "stations_agg.head()\n",
        "df = data_paris.merge(stations_agg, how = 'inner')\n",
        "df.head()"
      ],
      "id": "2ca64342",
      "execution_count": null,
      "outputs": []
    },
    {
      "cell_type": "markdown",
      "metadata": {},
      "source": [
        "La carte des places disponibles est celle-ci:\n"
      ],
      "id": "56ba78d6"
    },
    {
      "cell_type": "code",
      "metadata": {},
      "source": [
        "#3. Nombre de stations et de places vélib par arrondissement\n",
        "ax = df.plot(column = 'capacity', legend=True)\n",
        "ax.set_axis_off()\n",
        "ax.set_title(\"Nombre de places disponibles\")"
      ],
      "id": "55086a74",
      "execution_count": null,
      "outputs": []
    },
    {
      "cell_type": "markdown",
      "metadata": {},
      "source": [
        "Alors que la carte des capacités de stations est\n",
        "plutôt celle-là:\n"
      ],
      "id": "e314b0f3"
    },
    {
      "cell_type": "code",
      "metadata": {},
      "source": [
        "#3. Nombre de stations et de places vélib par arrondissement\n",
        "ax = df.plot(column = 'stationcode', legend=True)\n",
        "ax.set_axis_off()\n",
        "ax.set_title(\"Nombre de stations\")"
      ],
      "id": "53ddfb23",
      "execution_count": null,
      "outputs": []
    },
    {
      "cell_type": "markdown",
      "metadata": {},
      "source": [
        "Pas vraiment de différence marquée entre les\n",
        "deux, on peut se contenter de regarder la capacité.\n",
        "\n",
        "Enfin, dans la question 4,\n",
        "si on représente plutôt la capacité \n",
        "sous forme de densité, pour tenir compte\n",
        "de la taille différente des arrondissements,\n",
        "on obtient cette carte:\n"
      ],
      "id": "6fbfc217"
    },
    {
      "cell_type": "code",
      "metadata": {},
      "source": [
        "#4. En densité\n",
        "cols = ['stationcode','capacity']\n",
        "df[[s + '_density' for s in cols]] = df[cols].div(df.to_crs(2158).area*10**(-6), axis = 0)\n",
        "df.plot(column = 'capacity_density', cmap = 'RdYlBu_r', legend=True)"
      ],
      "id": "7e736af6",
      "execution_count": null,
      "outputs": []
    },
    {
      "cell_type": "markdown",
      "metadata": {},
      "source": [
        "Avec une palette `plasma_r`, cela donne plutôt cette carte:\n"
      ],
      "id": "c5e95e4a"
    },
    {
      "cell_type": "code",
      "metadata": {},
      "source": [
        "#4. En densité\n",
        "df.plot(column = 'capacity_density', cmap = 'plasma_r', legend=True)"
      ],
      "id": "15130cd3",
      "execution_count": null,
      "outputs": []
    },
    {
      "cell_type": "markdown",
      "metadata": {},
      "source": [
        "Avec un peu de travail sur l'esthétique, la carte\n",
        "que vous obtenez à l'issue de l'exercice\n",
        "ressemble à celle-ci:\n"
      ],
      "id": "99905ed0"
    },
    {
      "cell_type": "code",
      "metadata": {},
      "source": [
        "#| output: false\n",
        "# 5 Cartes nettoyées\n",
        "ax = df.plot(column = 'capacity_density', cmap = 'RdYlBu_r', legend=True, legend_kwds={\"orientation\": \"horizontal\", \"pad\": 0.01}) \n",
        "ax.set_axis_off()\n",
        "ax.set_title(\"Densité des stations vélib dans l'agglomération parisienne\")"
      ],
      "id": "851e6396",
      "execution_count": null,
      "outputs": []
    },
    {
      "cell_type": "code",
      "metadata": {},
      "source": [
        "ax.get_figure()"
      ],
      "id": "2fc59d20",
      "execution_count": null,
      "outputs": []
    },
    {
      "cell_type": "code",
      "metadata": {},
      "source": [
        "#| output: false\n",
        "fig = ax.get_figure()\n",
        "fig.savefig(\"featured.png\")"
      ],
      "id": "9fca1e94",
      "execution_count": null,
      "outputs": []
    },
    {
      "cell_type": "markdown",
      "metadata": {},
      "source": [
        "# Trouver les toilettes publiques les plus proches\n",
        "\n",
        "## Objectif\n",
        "\n",
        "Jusqu'à présent, nous nous sommes familiarisés avec\n",
        "la manipulation de données spatiales et la représentation\n",
        "rapide de celle-ci grâce aux fonctionalités de `GeoPandas`.\n",
        "\n",
        "A partir de maintenant, nous allons utiliser `GeoPandas` \n",
        "pour des tâches de manipulation géométrique.  \n",
        "Ces opérations reposeront sur des tâches classiques\n",
        "de la géomatique qui sont facilitées par le fait que\n",
        "`GeoPandas` offre une surcouche au package `Shapely` \n",
        "de la même manière que `Pandas` était une sur-couche\n",
        "de `Numpy` pour les opérations numériques.\n",
        "\n",
        "L'exemple suivant permet d'illustrer \n",
        "le principe d'une des\n",
        "opérations que nous allons utiliser,\n",
        "à savoir la recherche de plus proche point:\n"
      ],
      "id": "4511f9d8"
    },
    {
      "cell_type": "code",
      "metadata": {},
      "source": [
        "#| echo: true\n",
        "\n",
        "from shapely.ops import Polygon\n",
        "from shapely.ops import nearest_points\n",
        "triangle = Polygon([(0, 0), (1, 0), (0.5, 1), (0, 0)])\n",
        "square = Polygon([(0, 2), (1, 2), (1, 3), (0, 3), (0, 2)])\n",
        "[o.wkt for o in nearest_points(triangle, square)]"
      ],
      "id": "b09971e2",
      "execution_count": null,
      "outputs": []
    },
    {
      "cell_type": "markdown",
      "metadata": {},
      "source": [
        "`GeoPandas` va permettre de généraliser ce processus\n",
        "en utilisant non plus deux listes modifiées (les\n",
        "polygones de `Shapely`) mais des `DataFrames` géographiques.\n",
        "Cela permettra, au passage, d'enrichir les \n",
        "jointures spatiales avec les attributs des `DataFrames`\n",
        "concernés. \n",
        "\n",
        "Sur `Shapely`, vous pourrez trouver une aide [ici](https://pysal.org/scipy2019-intermediate-gds/deterministic/gds1-relations.html#how-about-nearest-neighbor-joins).\n",
        "Néanmoins, à mesure que `GeoPandas` se développe, il \n",
        "devient de moins en moins nécessaire d'utiliser directement\n",
        "`Shapely`. \n",
        "\n",
        "## Mise en application\n",
        "\n",
        "Nous allons rechercher les toilettes publiques les \n",
        "plus proches de chaque station. \n",
        "Sans les fonctionalités de `GeoPandas`,\n",
        "cette recherche serait assez pénible. \n",
        "\n",
        "::: {.cell .markdown}\n",
        "\n",
        "```{=html}\n",
        "<div class=\"alert alert-success\" role=\"alert\" style=\"color: rgba(0,0,0,.8); background-color: white; margin-top: 1em; margin-bottom: 1em; margin:1.5625emauto; padding:0 .6rem .8rem!important;overflow:hidden; page-break-inside:avoid; border-radius:.25rem; box-shadow:0 .2rem .5rem rgba(0,0,0,.05),0 0 .05rem rgba(0,0,0,.1); transition:color .25s,background-color .25s,border-color .25s ; border-right: 1px solid #dee2e6 ; border-top: 1px solid #dee2e6 ; border-bottom: 1px solid #dee2e6 ; border-left:.2rem solid #3fb618;\">\n",
        "<h3 class=\"alert-heading\"><i class=\"fa fa-pencil\"></i> Exercice 5 (optionnel) : Trouver les toilettes publiques les plus proches d'une station de vélib</h3>\n",
        "```\n",
        "\n",
        "\n",
        "\n",
        "1. Charger la localisation des toilettes publiques présente ici : https://data.ratp.fr/explore/dataset/sanitaires-reseau-ratp/download/?format=geojson&timezone=Europe/Berlin&lang=fr. Appelez-la `toilettes_publiques`.\n",
        "2. Convertir les objets `toilettes_publiques` et `stations` en projection Lambert-93 (CRS 2154). Cette\n",
        "conversion permettra de mesurer en mètres les distances entre objets géographiques. Sans\n",
        "celle-ci, nous ferions des distances entre coordonnées GPS, ce qui n'aide pas l'analyse\n",
        "et l'interprétation. \n",
        "3. Utiliser la jointure spatiale par plus proche distance `sjoin_nearest` pour associer à chaque station les toilettes publiques les plus proches\n",
        "4. Trouver les toilettes publiques les plus proches des stations de vélib autour d'Edgard Quinet.\n",
        "5. Représenter un histogramme des distances aux toilettes les plus proches\n",
        "\n",
        "\n",
        "```{=html}\n",
        "</div>\n",
        "```\n",
        "\n",
        ":::\n",
        "\n",
        "Le jeu de données _open-data_ des toilettes \n",
        "publiques présente l'aspect suivant:\n"
      ],
      "id": "27176de4"
    },
    {
      "cell_type": "code",
      "metadata": {},
      "source": [
        "# 1. Charger les localisations des toilettes\n",
        "\n",
        "from cartiflette.utils import download_pb\n",
        "url = \"https://data.ratp.fr/explore/dataset/sanitaires-reseau-ratp/download/?format=geojson&timezone=Europe/Berlin&lang=fr\"\n",
        "download_pb(url, \"toilettes.geojson\")\n",
        "toilettes_publiques = gpd.read_file(\"toilettes.geojson\")\n",
        "toilettes_publiques.head(2)"
      ],
      "id": "315e6aa6",
      "execution_count": null,
      "outputs": []
    },
    {
      "cell_type": "code",
      "metadata": {},
      "source": [
        "#2. Conversion des CRS\n",
        "toilettes_publiques = toilettes_publiques.to_crs(2154)\n",
        "stations = stations.to_crs(2154)"
      ],
      "id": "c6466e47",
      "execution_count": null,
      "outputs": []
    },
    {
      "cell_type": "markdown",
      "metadata": {},
      "source": [
        "Les toilettes les plus proches \n",
        "d'Edgar Quinet sont les suivantes:\n"
      ],
      "id": "10b19183"
    },
    {
      "cell_type": "code",
      "metadata": {},
      "source": [
        "# 3. Jointure spatiale\n",
        "stations_toilettes = stations.sjoin_nearest(\n",
        "  toilettes_publiques,\n",
        "  how='inner',\n",
        "  distance_col=\"distance\")\n",
        "\n",
        "\n",
        "# 4. Trouver les toilettes les plus proches d'Edgard Quinet\n",
        "stations_toilettes.loc[\n",
        "  stations_toilettes['name'].str.contains(\"Edgar Quinet\"),\n",
        "  [\"localisation\", \"station\",\"name\",\"distance\"]]"
      ],
      "id": "7d4be3ce",
      "execution_count": null,
      "outputs": []
    },
    {
      "cell_type": "markdown",
      "metadata": {},
      "source": [
        "Il va donc falloir se\n",
        "retenir un peu car s'agit de toilettes situées\n",
        "à la station Denfert Rochereau !\n",
        "\n",
        "Enfin, de manière plus globale, voici la distribution\n",
        "des distances aux toilettes les plus proches:\n"
      ],
      "id": "054c6996"
    },
    {
      "cell_type": "code",
      "metadata": {},
      "source": [
        "#5. Histogramme\n",
        "stations_toilettes['distance'].plot(kind = \"hist\")"
      ],
      "id": "f4567271",
      "execution_count": null,
      "outputs": []
    },
    {
      "cell_type": "markdown",
      "metadata": {},
      "source": [
        "Le mode de la distribution est entre 1 et 2 km, ce\n",
        "qui est une petite distance tout de même !\n",
        "C'est normal, il ne s'agit pas de l'ensemble des\n",
        "toilettes publiques de la ville de Paris mais\n",
        "de celles gérées par la RATP. Rassurez-vous, au \n",
        "moins dans Paris intra-muros, vous n'avez pas\n",
        "à systématiquement marcher (ou rouler) autant. \n",
        "\n",
        "\n",
        "# Exercices supplémentaires {#exo-supp}\n",
        "\n",
        "Voici une fonction pour télécharger et dézipper\n",
        "facilement un fonds de carte issu de `data.gouv`\n"
      ],
      "id": "611466f3"
    },
    {
      "cell_type": "code",
      "metadata": {},
      "source": [
        "#| echo: true\n",
        "#| include: true\n",
        "\n",
        "import requests\n",
        "import tempfile\n",
        "import zipfile\n",
        "\n",
        "temporary_location = tempfile.gettempdir()\n",
        "\n",
        "def download_unzip(url, dirname = tempfile.gettempdir(), destname = \"borders\"):\n",
        "  myfile = requests.get(url)\n",
        "  open(\"{}/{}.zip\".format(dirname, destname), 'wb').write(myfile.content)\n",
        "  with zipfile.ZipFile(\"{}/{}.zip\".format(dirname, destname), 'r') as zip_ref:\n",
        "      zip_ref.extractall(dirname + '/' + destname)"
      ],
      "id": "ddc9f689",
      "execution_count": null,
      "outputs": []
    },
    {
      "cell_type": "markdown",
      "metadata": {},
      "source": [
        "::: {.cell .markdown}\n",
        "\n",
        "```{=html}\n",
        "<div class=\"alert alert-success\" role=\"alert\" style=\"color: rgba(0,0,0,.8); background-color: white; margin-top: 1em; margin-bottom: 1em; margin:1.5625emauto; padding:0 .6rem .8rem!important;overflow:hidden; page-break-inside:avoid; border-radius:.25rem; box-shadow:0 .2rem .5rem rgba(0,0,0,.05),0 0 .05rem rgba(0,0,0,.1); transition:color .25s,background-color .25s,border-color .25s ; border-right: 1px solid #dee2e6 ; border-top: 1px solid #dee2e6 ; border-bottom: 1px solid #dee2e6 ; border-left:.2rem solid #3fb618;\">\n",
        "<h3 class=\"alert-heading\"><i class=\"fa fa-pencil\"></i> Exercice optionnel 1: télécharger et dézipper vous-même le fonds de carte</h3>\n",
        "```\n",
        "\n",
        "\n",
        "\n",
        "Importer le fichier avec le package `GeoPandas`\n",
        "(si vous avez laissé les paramètres par défaut,\n",
        "le fichier devrait\n",
        "être à l'emplacement `temporary_location + \"/borders/communes-20210101.shp\"`).\n",
        "\n",
        "\n",
        "\n",
        "```{=html}\n",
        "</div>\n",
        "```\n",
        "\n",
        ":::\n"
      ],
      "id": "9183b1b0"
    },
    {
      "cell_type": "code",
      "metadata": {},
      "source": [
        "#| eval: false\n",
        "\n",
        "# 1) télécharger les données communales\n",
        "url = \"https://www.data.gouv.fr/fr/datasets/r/0e117c06-248f-45e5-8945-0e79d9136165\"\n",
        "download_unzip(url)"
      ],
      "id": "bcfb8d54",
      "execution_count": null,
      "outputs": []
    },
    {
      "cell_type": "code",
      "metadata": {},
      "source": [
        "#| eval: false\n",
        "\n",
        "# 2) Importer le fichier\n",
        "#communes_borders = gpd.read_file(temporary_location + \"/borders/communes-20220101.shp\")"
      ],
      "id": "ae846128",
      "execution_count": null,
      "outputs": []
    },
    {
      "cell_type": "markdown",
      "metadata": {},
      "source": [
        "::: {.cell .markdown}\n",
        "\n",
        "```{=html}\n",
        "<div class=\"alert alert-success\" role=\"alert\" style=\"color: rgba(0,0,0,.8); background-color: white; margin-top: 1em; margin-bottom: 1em; margin:1.5625emauto; padding:0 .6rem .8rem!important;overflow:hidden; page-break-inside:avoid; border-radius:.25rem; box-shadow:0 .2rem .5rem rgba(0,0,0,.05),0 0 .05rem rgba(0,0,0,.1); transition:color .25s,background-color .25s,border-color .25s ; border-right: 1px solid #dee2e6 ; border-top: 1px solid #dee2e6 ; border-bottom: 1px solid #dee2e6 ; border-left:.2rem solid #3fb618;\">\n",
        "<h3 class=\"alert-heading\"><i class=\"fa fa-pencil\"></i> Exercice optionnel 2 : Utiliser les arrondissements fournis par l'open data parisien</h3>\n",
        "```\n",
        "\n",
        "\n",
        "\n",
        "1. Importer les données de découpage des arrondissements parisiens à l'adresse\n",
        "<https://opendata.paris.fr/explore/dataset/arrondissements/download/?format=geojson&timezone=Europe/Berlin&lang=fr>\n",
        "2. Vérifier sur une carte que les découpages des arrondissements sont bien présents.\n",
        "3. Vérifier l'attribut `crs`. Est-il cohérent avec celui des données communales ?\n",
        "4. Retirer Paris du jeu de données communales et utiliser les arrondissements\n",
        "pour enrichir (nommer l'objet obtenu `data_borders`). Ici, on peut ne pas se\n",
        "soucier de la variable commune de superficie aux niveaux différents car on\n",
        "va la recréer. En revanche, renommer la variable `c_arinsee` en `insee` avec\n",
        "la méthode `rename` et faire attention aux types des variables\n",
        "\n",
        "\n",
        "```{=html}\n",
        "</div>\n",
        "```\n",
        "\n",
        ":::\n"
      ],
      "id": "de6bff88"
    },
    {
      "cell_type": "code",
      "metadata": {},
      "source": [
        "#1) Importer arrondissements\n",
        "\n",
        "# sometimes, geopandas files to import directly from\n",
        "# url so proceeding in two times\n",
        "url = \"https://opendata.paris.fr/explore/dataset/arrondissements/download/?format=geojson&timezone=Europe/Berlin&lang=fr\"\n",
        "download_pb(url, \"arrondissements.geojson\")\n",
        "\n",
        "arrondissements = gpd.read_file(\"arrondissements.geojson\")\n",
        "arrondissements = arrondissements.to_crs(2154)"
      ],
      "id": "697e4752",
      "execution_count": null,
      "outputs": []
    },
    {
      "cell_type": "code",
      "metadata": {},
      "source": [
        "#2) Vérifier présence arrondissements\n",
        "arrondissements.plot()"
      ],
      "id": "625903f9",
      "execution_count": null,
      "outputs": []
    },
    {
      "cell_type": "code",
      "metadata": {},
      "source": [
        "#3) Vérifier l'attribut `crs`. Est-il cohérent ?\n",
        "print(communes_borders.crs)\n",
        "print(communes_borders.crs == arrondissements.crs)\n",
        "# Oui, les deux fonds de carte ont le même attribut CRS, pas besoin de convertir les projections de l'une d'entre elles"
      ],
      "id": "cd787989",
      "execution_count": null,
      "outputs": []
    },
    {
      "cell_type": "code",
      "metadata": {},
      "source": [
        "#4) Retirer Paris et ajouter les arrondissements\n",
        "## On fait en sorte que les colonnes de arrondissements soient les mêmes que celles de communes borders\n",
        "\n",
        "arrondissements = arrondissements.rename(columns = {\"c_arinsee\": \"INSEE_DEP\"})\n",
        "arrondissements['INSEE_DEP'] = \"75\"\n",
        "\n",
        "arrondissements = arrondissements.rename(columns = {\"c_arinsee\": \"INSEE_DEP\"})\n",
        "arrondissements['INSEE_DEP'] = \"75\"\n",
        "# On enlève la ligne du contour de Paris initiale, et on ajoute à la place les lignes d'arrondissements\n",
        "data_paris = pd.concat(\n",
        "    [\n",
        "        communes_borders[communes_borders[\"INSEE_DEP\"] != \"75\"].to_crs(2154),\n",
        "        arrondissements.to_crs(2154)\n",
        "    ], ignore_index=True)\n",
        "\n",
        "data_paris.tail(2)"
      ],
      "id": "e2b7d990",
      "execution_count": null,
      "outputs": []
    },
    {
      "cell_type": "markdown",
      "metadata": {},
      "source": [
        "## Jointures spatiales\n",
        "\n",
        "L'objectif de cet exercice est de ne conserver que les \n",
        "lignes de transports à l'intérieur de Paris intra-muros.\n",
        "Il s'agit d'appliquer les jointures spatiales de manière\n",
        "un petit peu différente à précédemment.\n",
        "\n",
        "\n",
        "```{=html}\n",
        "<div class=\"alert alert-success\" role=\"alert\" style=\"color: rgba(0,0,0,.8); background-color: white; margin-top: 1em; margin-bottom: 1em; margin:1.5625emauto; padding:0 .6rem .8rem!important;overflow:hidden; page-break-inside:avoid; border-radius:.25rem; box-shadow:0 .2rem .5rem rgba(0,0,0,.05),0 0 .05rem rgba(0,0,0,.1); transition:color .25s,background-color .25s,border-color .25s ; border-right: 1px solid #dee2e6 ; border-top: 1px solid #dee2e6 ; border-bottom: 1px solid #dee2e6 ; border-left:.2rem solid #3fb618;\">\n",
        "<h3 class=\"alert-heading\"><i class=\"fa fa-pencil\"></i> Exercice optionnel 3 : Les lignes de transport dans Paris</h3>\n",
        "```\n",
        "\n",
        "\n",
        "\n",
        "1. Utiliser l'URL <https://data.iledefrance-mobilites.fr/explore/dataset/traces-du-reseau-ferre-idf/download/?format=geojson&timezone=Europe/Berlin&lang=fr> pour récupérer les lignes de transport\n",
        "de la RATP. L'appeler `transports`.\n",
        "2. A partir des arrondissements parisiens, utiliser `unary_union` pour créer un unique polygone parisien. Utiliser `within` pour ne conserver que les points de `transports` qui se trouvent\n",
        "dans Paris intra-muros\n",
        "3. Représenter graphiquement\n",
        "\n",
        "\n",
        "```{=html}\n",
        "</div>\n",
        "```\n",
        "\n",
        ":::\n"
      ],
      "id": "0d6fa11d"
    },
    {
      "cell_type": "code",
      "metadata": {},
      "source": [
        "url = \"https://data.iledefrance-mobilites.fr/explore/dataset/traces-du-reseau-ferre-idf/download/?format=geojson&timezone=Europe/Berlin&lang=fr\"\n",
        "# sometimes, geopandas files to import directly from\n",
        "# url so proceeding in two times\n",
        "download_pb(url, \"transports.geojson\")\n",
        "\n",
        "transports = gpd.read_file(\"transports.geojson\").to_crs(2154)"
      ],
      "id": "4be8dde4",
      "execution_count": null,
      "outputs": []
    },
    {
      "cell_type": "code",
      "metadata": {},
      "source": [
        "#2)\n",
        "paris = data_paris.loc[data_paris['INSEE_DEP']==\"75\"].geometry.unary_union\n",
        "transports_paris = transports[transports.geometry.within(paris)]"
      ],
      "id": "a891141c",
      "execution_count": null,
      "outputs": []
    },
    {
      "cell_type": "markdown",
      "metadata": {},
      "source": [
        "La carte obtenue aura l'aspect suivant:\n"
      ],
      "id": "5d439c3d"
    },
    {
      "cell_type": "code",
      "metadata": {},
      "source": [
        "base = data_paris[data_paris['INSEE_DEP'] == '75'].plot(alpha = 0.2, edgecolor = 'black')\n",
        "transports_paris.plot(ax=base, column='mode', alpha = 0.9, linewidth=3)"
      ],
      "id": "2caa0eef",
      "execution_count": null,
      "outputs": []
    },
    {
      "cell_type": "markdown",
      "metadata": {},
      "source": [
        "Cette fois, on a bien conservé que les lignes de transport dans \n",
        "Paris. Un peu de travail sur le rendu serait nécessaire pour\n",
        "obtenir une belle carte. Vous pouvez le faire en exercice, après\n",
        "avoir consulté le chapitre relatif à la cartographie dans\n",
        "la partie visualisation de données. "
      ],
      "id": "54f0adde"
    }
  ],
  "metadata": {
    "kernelspec": {
      "name": "python3",
      "language": "python",
      "display_name": "Python 3 (ipykernel)"
    }
  },
  "nbformat": 4,
  "nbformat_minor": 5
}