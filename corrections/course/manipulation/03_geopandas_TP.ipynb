{
 "cells": [
  {
   "cell_type": "markdown",
   "id": "cc1089b0",
   "metadata": {},
   "source": [
    "#  Pratique de geopandas: données vélib\n",
    "\n",
    "\n"
   ]
  },
  {
   "cell_type": "markdown",
   "id": "950a9dad",
   "metadata": {},
   "source": [
    "<a href=\"https://github.com/linogaliana/python-datascientist/blob/master//__w/python-datascientist/python-datascientist/notebooks/course/manipulation/03_geopandas_TP.ipynb\" class=\"github\"><i class=\"fab fa-github\"></i></a>\n",
    "[![Download](https://img.shields.io/badge/Download-Notebook-important?logo=Jupyter)](https://downgit.github.io/#/home?url=https://github.com/linogaliana/python-datascientist/blob/master//__w/python-datascientist/python-datascientist/notebooks/course/manipulation/03_geopandas_TP.ipynb)\n",
    "[![nbviewer](https://img.shields.io/badge/Visualize-nbviewer-blue?logo=Jupyter)](https://nbviewer.jupyter.org/github/linogaliana/python-datascientist/blob/master//__w/python-datascientist/python-datascientist/notebooks/course/manipulation/03_geopandas_TP.ipynb)\n",
    "[![Onyxia](https://img.shields.io/badge/SSPcloud-Tester%20via%20SSP--cloud-informational&color=yellow?logo=Python)](https://datalab.sspcloud.fr/launcher/inseefrlab-helm-charts-datascience/jupyter?autoLaunch=true&onyxia.friendlyName=%C2%ABpython-datascience%C2%BB&init.personalInit=%C2%ABhttps%3A%2F%2Fraw.githubusercontent.com%2Flinogaliana%2Fpython-datascientist%2Fmaster%2Fsspcloud%2Finit-jupyter.sh%C2%BB&init.personalInitArgs=%C2%ABmanipulation%2003_geopandas_TP%C2%BB&security.allowlist.enabled=false)\n",
    "<br>\n",
    "[![Binder](https://img.shields.io/badge/Launch-Binder-E66581.svg?logo=data:image/png;base64,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)](https://mybinder.org/v2/gh/linogaliana/python-datascientist/master?filepath=/__w/python-datascientist/python-datascientist/notebooks/course/manipulation/03_geopandas_TP.ipynb)\n",
    "[![Open In Colab](https://colab.research.google.com/assets/colab-badge.svg)](http://colab.research.google.com/github/linogaliana/python-datascientist/blob/master//__w/python-datascientist/python-datascientist/notebooks/course/manipulation/03_geopandas_TP.ipynb)\n",
    "[![githubdev](https://open.vscode.dev/badges/open-in-vscode.svg)](https://github.dev/linogaliana/python-datascientist//__w/python-datascientist/python-datascientist/notebooks/course/manipulation/03_geopandas_TP.ipynb)\n",
    "\n",
    "Installations préalables : \n"
   ]
  },
  {
   "cell_type": "code",
   "execution_count": null,
   "id": "b3e26600",
   "metadata": {
    "lines_to_next_cell": 0
   },
   "outputs": [],
   "source": [
    "!pip install pandas fiona shapely pyproj rtree # à faire obligatoirement en premier pour utiliser rtree ou pygeos pour les jointures spatiales\n",
    "!pip install contextily\n",
    "!pip install geopandas"
   ]
  },
  {
   "cell_type": "markdown",
   "id": "4b223853",
   "metadata": {},
   "source": [
    "\n"
   ]
  },
  {
   "cell_type": "code",
   "execution_count": null,
   "id": "a156b1fa",
   "metadata": {
    "lines_to_next_cell": 2
   },
   "outputs": [],
   "source": [
    "import geopandas as gpd"
   ]
  },
  {
   "cell_type": "markdown",
   "id": "1ecd8f24",
   "metadata": {},
   "source": [
    "# Lire et enrichir des données spatiales\n",
    "\n",
    "Dans cette partie, nous utiliserons la fonction suivante, qui facilite \n",
    "le téléchargement et le dézippage des données proposées sur `data.gouv`:\n"
   ]
  },
  {
   "cell_type": "code",
   "execution_count": null,
   "id": "3ec43c56",
   "metadata": {
    "lines_to_next_cell": 0
   },
   "outputs": [],
   "source": [
    "import requests\n",
    "import tempfile\n",
    "import zipfile\n",
    "\n",
    "temporary_location = tempfile.gettempdir()\n",
    "\n",
    "def download_unzip(url, dirname = tempfile.gettempdir(), destname = \"borders\"):\n",
    "  myfile = requests.get(url)\n",
    "  open(dirname + '/' + destname + '.zip', 'wb').write(myfile.content)\n",
    "  with zipfile.ZipFile(dirname + '/' + destname + '.zip', 'r') as zip_ref:\n",
    "      zip_ref.extractall(dirname + '/' + destname)"
   ]
  },
  {
   "cell_type": "markdown",
   "id": "d2eb923d",
   "metadata": {},
   "source": [
    "\n",
    "\n"
   ]
  },
  {
   "cell_type": "code",
   "execution_count": null,
   "id": "25f32cc1",
   "metadata": {},
   "outputs": [],
   "source": [
    "# 0) Chargement des packages utilisés dans la partie tutoriel\n",
    "import geopandas as gpd\n",
    "import contextily as ctx\n",
    "import matplotlib.pyplot as plt"
   ]
  },
  {
   "cell_type": "markdown",
   "id": "a1d399b5",
   "metadata": {},
   "source": [
    "1. Utiliser la fonction `download_unzip` avec l'url <https://www.data.gouv.fr/fr/datasets/r/07b7c9a2-d1e2-4da6-9f20-01a7b72d4b12>\n",
    "pour télécharger les données communales.\n",
    "2. Importer le fichier avec la package `geopandas`\n",
    "(si vous avez laissé les paramètres par défaut,\n",
    "le fichier devrait\n",
    "être à l'emplacement `temporary_location + \"/borders/communes-20190101.json\"`).\n",
    "Vous pouvez le nommer `communes_borders`\n",
    "3. Regarder les premières lignes des données. Identifier la différence avec\n",
    "un DataFrame standard. \n",
    "4. Afficher l'attribut `crs` de `communes_borders`. Ce dernier contrôle la\n",
    "transformation de l'espace tridimensionnel terrestre en une surface plane. \n",
    "5. Afficher les communes de l'Aveyron (département 12) et utiliser la méthode\n",
    "`plot`\n",
    "6. Réprésenter la carte de Paris : quel est le problème ?\n",
    "\n",
    "\n"
   ]
  },
  {
   "cell_type": "code",
   "execution_count": null,
   "id": "16f990de",
   "metadata": {
    "lines_to_next_cell": 0
   },
   "outputs": [],
   "source": [
    "# 1) télécharger les données communales\n",
    "url = \"https://www.data.gouv.fr/fr/datasets/r/07b7c9a2-d1e2-4da6-9f20-01a7b72d4b12\"\n",
    "download_unzip(url)"
   ]
  },
  {
   "cell_type": "markdown",
   "id": "d237e6ca",
   "metadata": {},
   "source": [
    "\n"
   ]
  },
  {
   "cell_type": "code",
   "execution_count": null,
   "id": "030b8e0c",
   "metadata": {
    "lines_to_next_cell": 0
   },
   "outputs": [],
   "source": [
    "# 2) Importer le fichier\n",
    "communes_borders = gpd.read_file(temporary_location + \"/borders/communes-20190101.json\")"
   ]
  },
  {
   "cell_type": "markdown",
   "id": "e588e70d",
   "metadata": {},
   "source": [
    "\n"
   ]
  },
  {
   "cell_type": "code",
   "execution_count": null,
   "id": "01a3020f",
   "metadata": {
    "lines_to_next_cell": 2
   },
   "outputs": [],
   "source": [
    "# 3) Regarder les premières lignes\n",
    "communes_borders.head()"
   ]
  },
  {
   "cell_type": "code",
   "execution_count": null,
   "id": "ff1bb37c",
   "metadata": {
    "lines_to_next_cell": 0
   },
   "outputs": [],
   "source": [
    "# 4) Afficher le crs\n",
    "communes_borders.crs"
   ]
  },
  {
   "cell_type": "markdown",
   "id": "13bbfef0",
   "metadata": {},
   "source": [
    "\n"
   ]
  },
  {
   "cell_type": "code",
   "execution_count": null,
   "id": "63bf3094",
   "metadata": {
    "lines_to_next_cell": 0
   },
   "outputs": [],
   "source": [
    "# 5) afficher les communes du département 12\n",
    "communes_borders[communes_borders.insee.str.startswith(\"12\")].plot()"
   ]
  },
  {
   "cell_type": "markdown",
   "id": "bd3390f0",
   "metadata": {},
   "source": [
    "\n",
    "\n"
   ]
  },
  {
   "cell_type": "code",
   "execution_count": null,
   "id": "1a7fd568",
   "metadata": {
    "lines_to_next_cell": 2
   },
   "outputs": [],
   "source": [
    "# 6) Représenter la carte de Paris. Quel est le problème ?\n",
    "communes_borders[communes_borders.insee.str.startswith(\"75\")].plot()"
   ]
  },
  {
   "cell_type": "markdown",
   "id": "5b1dbcdb",
   "metadata": {},
   "source": [
    "En effet, on ne dispose ainsi pas des limites des arrondissements parisiens, ce\n",
    "qui appauvrit grandement la carte de Paris. On peut les récupérer directement \n",
    "depuis le site d'open data du grand Paris\n",
    "(cf. [tutoriel du chapitre précédent](geopandas)).\n",
    "\n"
   ]
  },
  {
   "cell_type": "markdown",
   "id": "5efb455a",
   "metadata": {},
   "source": [
    "1. Importer les données de découpage des arrondissements parisiens à l'adresse\n",
    "<https://opendata.paris.fr/explore/dataset/arrondissements/download/?format=geojson&timezone=Europe/Berlin&lang=fr>\n",
    "2. Vérifier sur une carte que les découpages des arrondissements sont bien présents\n",
    "3. Vérifier l'attribut `crs`. Est-il cohérent avec celui des données communales ?\n",
    "4. Retirer Paris du jeu de données communales et utiliser les arrondissements\n",
    "pour enrichir (nommer l'objet obtenu `data_borders`). Ici, on peut ne pas se\n",
    "soucier de la variable commune de superficie aux niveaux différents car on\n",
    "va la recréer. En revanche, renommer la variable `c_arinsee` en `insee` avec\n",
    "la méthode `rename` et faire attention aux types des variables\n",
    "5. Créer une variable `dep` stockant le département\n",
    "6. Représenter les communes de la petite couronne parisienne (75, 92, 93, 94)\n",
    "\n"
   ]
  },
  {
   "cell_type": "code",
   "execution_count": null,
   "id": "248b64cf",
   "metadata": {
    "lines_to_next_cell": 0
   },
   "outputs": [],
   "source": [
    "#1) Importer arrondissements\n",
    "arrondissements = gpd.read_file(\"https://opendata.paris.fr/explore/dataset/arrondissements/download/?format=geojson&timezone=Europe/Berlin&lang=fr\")"
   ]
  },
  {
   "cell_type": "markdown",
   "id": "8cbea1c4",
   "metadata": {},
   "source": [
    "\n"
   ]
  },
  {
   "cell_type": "code",
   "execution_count": null,
   "id": "1c21b8bb",
   "metadata": {
    "lines_to_next_cell": 0
   },
   "outputs": [],
   "source": [
    "#2) Vérifier présence arrondissements\n",
    "arrondissements.plot()"
   ]
  },
  {
   "cell_type": "markdown",
   "id": "771cfc67",
   "metadata": {},
   "source": [
    "\n"
   ]
  },
  {
   "cell_type": "code",
   "execution_count": null,
   "id": "a289968a",
   "metadata": {
    "lines_to_next_cell": 0
   },
   "outputs": [],
   "source": [
    "#3) Vérifier l'attribut `crs`. Est-il cohérent ?\n",
    "print(communes_borders.crs)\n",
    "print(communes_borders.crs == arrondissements.crs)"
   ]
  },
  {
   "cell_type": "markdown",
   "id": "ee57ae59",
   "metadata": {},
   "source": [
    "\n",
    "\n"
   ]
  },
  {
   "cell_type": "code",
   "execution_count": null,
   "id": "3a6cd29d",
   "metadata": {
    "lines_to_next_cell": 0
   },
   "outputs": [],
   "source": [
    "#4) Retirer Paris et ajouter les arrondissements\n",
    "arrondissements = arrondissements.rename(columns = {\"c_arinsee\": \"insee\"})\n",
    "arrondissements['dep'] = \"75\"\n",
    "data_paris = communes_borders[~communes_borders.insee.str.startswith(\"75\")].append(arrondissements)\n",
    "data_paris.tail()"
   ]
  },
  {
   "cell_type": "markdown",
   "id": "97ef5f9c",
   "metadata": {},
   "source": [
    "\n"
   ]
  },
  {
   "cell_type": "code",
   "execution_count": null,
   "id": "043fea64",
   "metadata": {
    "lines_to_next_cell": 0
   },
   "outputs": [],
   "source": [
    "#5)  Créer une variable `dep`\n",
    "data_paris['dep'] # Il y a des NA qui proviennent de la base communes_borders\n",
    "data_paris['dep'] = data_paris.insee.astype(str).str[:2] # donc on recrée la var dep"
   ]
  },
  {
   "cell_type": "markdown",
   "id": "983254d2",
   "metadata": {},
   "source": [
    "\n",
    "\n"
   ]
  },
  {
   "cell_type": "code",
   "execution_count": null,
   "id": "c00c4727",
   "metadata": {},
   "outputs": [],
   "source": [
    "#6) Représenter les communes du 75, 92, 93, 94\n",
    "data_paris[data_paris['dep'].isin(['75','92','93','94'])].plot()"
   ]
  },
  {
   "cell_type": "markdown",
   "id": "f5d1b7e8",
   "metadata": {},
   "source": [
    "# Utiliser des données géographiques comme des couches graphiques\n",
    "\n",
    "Souvent, le découpage communal ne sert qu'en fond de cartes, pour donner des\n",
    "repères. En complément de celui-ci, on peut désirer exploiter\n",
    "un autre jeu de données. On va partir des données de localisation des\n",
    "stations velib, \n",
    "disponibles [sur le site d'open data de la ville de Paris](https://opendata.paris.fr/explore/dataset/velib-emplacement-des-stations/table/) et \n",
    "requêtables directement par l'url\n",
    "<https://opendata.paris.fr/explore/dataset/velib-emplacement-des-stations/download/?format=geojson&timezone=Europe/Berlin&lang=fr>\n",
    "\n",
    "1. Importer les données velib sous le nom `station`\n",
    "2. Représenter sur une carte les 50 stations les plus importantes (variable `capacity`). Vous pouvez également afficher le fonds de carte des arrondissements en ne gardant que les départements de la petite couronne (75, 92, 93, 94).\n",
    "Cette [page](https://geopandas.org/mapping.html#maps-with-layers) peut vous aider pour afficher plusieurs couches à la fois.\n",
    "3. Afficher également les réseaux de transport en communs, disponibles [ici](https://data.iledefrance-mobilites.fr/explore/dataset/traces-du-reseau-ferre-idf/map/?location=7,48.69717,2.33167&basemap=jawg.streets). L'url à requêter est\n",
    "<https://data.iledefrance-mobilites.fr/explore/dataset/traces-du-reseau-ferre-idf/download/?format=geojson&timezone=Europe/Berlin&lang=fr>\n",
    "\n",
    "\n"
   ]
  },
  {
   "cell_type": "code",
   "execution_count": null,
   "id": "717322e3",
   "metadata": {
    "lines_to_next_cell": 0
   },
   "outputs": [],
   "source": [
    "# 1) Importer les données velib\n",
    "url = \"https://opendata.paris.fr/explore/dataset/velib-emplacement-des-stations/download/?format=geojson&timezone=Europe/Berlin&lang=fr\"\n",
    "stations = gpd.read_file(url)\n",
    "stations.head()"
   ]
  },
  {
   "cell_type": "markdown",
   "id": "e3f958f6",
   "metadata": {},
   "source": [
    "\n"
   ]
  },
  {
   "cell_type": "code",
   "execution_count": null,
   "id": "c3f5469c",
   "metadata": {
    "lines_to_next_cell": 0
   },
   "outputs": [],
   "source": [
    "# 2) Carte des 50 stations les plus importantes. \n",
    "base = data_paris[data_paris['dep'] == '75'].plot(alpha = 0.2, edgecolor = 'black')\n",
    "stations.sort_values('capacity', ascending = False).head(50).plot(ax = base, color = 'red', alpha = 0.6)\n",
    "transports[transports['mode'] == \"Metro\"].plot(ax = base, color = 'black', alpha = 0.3)"
   ]
  },
  {
   "cell_type": "markdown",
   "id": "bc5a205f",
   "metadata": {},
   "source": [
    "\n",
    "\n"
   ]
  },
  {
   "cell_type": "code",
   "execution_count": null,
   "id": "2786b198",
   "metadata": {
    "lines_to_next_cell": 0
   },
   "outputs": [],
   "source": [
    "# 3) Réseaux de transport en communs\n",
    "url = \"https://data.iledefrance-mobilites.fr/explore/dataset/traces-du-reseau-ferre-idf/download/?format=geojson&timezone=Europe/Berlin&lang=fr\"\n",
    "transports = gpd.read_file(url)\n",
    "transports.head()\n",
    "print(transports['mode'].unique())\n",
    "base = data_paris[data_paris['dep'] == '75'].plot(alpha = 0.2, edgecolor = 'black') #base carto des arrondissements\n",
    "stations.sort_values('capacity', ascending = False).head(50).plot(ax = base, color = 'red', alpha = 0.6) #points des 50 stations\n",
    "transports[transports['mode'] == \"Metro\"].plot(ax=base, color = 'black', alpha = 0.3)"
   ]
  },
  {
   "cell_type": "markdown",
   "id": "eeff3323",
   "metadata": {},
   "source": []
  },
  {
   "cell_type": "markdown",
   "id": "644250db",
   "metadata": {},
   "source": [
    "# Jointures spatiales\n",
    "\n",
    "Les jointures attributaires fonctionnent comme avec un DataFrame `pandas`. Pour conserver un objet spatial *in fine*, il faut faire attention à utiliser en premier (base de gauche) l'objet `geopandas`. En revanche, l'un des intérêts des objets geopandas est qu'on peut également faire une jointure sur la dimension spatiale.\n",
    "\n",
    "La documentation à laquelle se référer est [ici](https://geopandas.org/mergingdata.html#spatial-joins). \n",
    "\n",
    "1. Faire une jointure spatiale pour enrichir les données de stations en y ajoutant des informations de `data_paris`. Appeler cet objet `stations_info`\n",
    "2. Représenter la carte des stations du 19e arrondissement (s'aider de la variable `c_ar`). Vous pouvez mettre en fond de carte les arrondissements parisiens. \n",
    "3. Compter le nombre de stations velib et le nombre de places velib par arrondissement ou commune (pour vous aider, vous pouvez compléter vos connaissances avec [ce tutoriel](https://pandas.pydata.org/docs/getting_started/intro_tutorials/06_calculate_statistics.html)). Représenter sur une carte chacune des informations\n",
    "4. Représenter les mêmes informations mais en densité (diviser par la surface de l'arrondissement ou commune en km2)\n",
    "\n"
   ]
  },
  {
   "cell_type": "code",
   "execution_count": null,
   "id": "f34e74a6",
   "metadata": {
    "lines_to_next_cell": 0
   },
   "outputs": [],
   "source": [
    "#1.  Jointure spatiale entre stations et data_paris\n",
    "stations_info = gpd.sjoin(stations, data_paris, op = 'within')\n",
    "stations_info.head()"
   ]
  },
  {
   "cell_type": "markdown",
   "id": "f941fd23",
   "metadata": {},
   "source": [
    "\n"
   ]
  },
  {
   "cell_type": "code",
   "execution_count": null,
   "id": "0013efea",
   "metadata": {
    "lines_to_next_cell": 0
   },
   "outputs": [],
   "source": [
    "#2. Carte des stations du 19e arrondissement\n",
    "# Méthode 1 : En affichant tout Paris\n",
    "base = data_paris[data_paris.dep == \"75\"].plot(alpha = 0.2, edgecolor = 'k') #fond de carte des arrondissements\n",
    "stations_info[stations_info['c_ar'] == 19.0].plot(ax = base, color = 'red', alpha = 0.6) # stations du 19e\n",
    "# Méthode 2 : En affichant seulement le 19e\n",
    "base = data_paris[data_paris['c_ar'] == 19.0].plot(alpha = 0.2, edgecolor = 'k') #fond de carte du 19e\n",
    "stations_info[stations_info['c_ar'] == 19.0].plot(ax = base, color = 'red', alpha = 0.6) #stations du 19e"
   ]
  },
  {
   "cell_type": "markdown",
   "id": "329ed4b9",
   "metadata": {},
   "source": [
    "\n",
    "\n"
   ]
  },
  {
   "cell_type": "code",
   "execution_count": null,
   "id": "96f8e861",
   "metadata": {
    "lines_to_next_cell": 0
   },
   "outputs": [],
   "source": [
    "#3. Nombre de stations et de places vélib par arrondissement\n",
    "stations_agg = stations_info.groupby('insee').agg({'stationcode': 'nunique',\n",
    "                                   'capacity': 'sum'}).reset_index()\n",
    "stations_agg.head()\n",
    "df = data_paris.merge(stations_agg, how = 'inner')\n",
    "df.head()\n",
    "df.plot(column = 'capacity', legend=True)\n",
    "df.plot(column = 'stationcode', legend=True)"
   ]
  },
  {
   "cell_type": "markdown",
   "id": "f2021922",
   "metadata": {},
   "source": [
    "\n",
    "\n"
   ]
  },
  {
   "cell_type": "code",
   "execution_count": null,
   "id": "05732b3e",
   "metadata": {
    "lines_to_next_cell": 2
   },
   "outputs": [],
   "source": [
    "#4. En densité\n",
    "cols = ['stationcode','capacity']\n",
    "df[[s + '_density' for s in cols]] = df[cols].div(df.to_crs(2158).area*10**(-6), axis = 0)\n",
    "df.plot(column = 'capacity_density', cmap = 'RdYlBu_r', legend=True)\n",
    "df.plot(column = 'capacity_density', cmap = 'plasma_r', legend=True)"
   ]
  },
  {
   "cell_type": "markdown",
   "id": "c1d3330b",
   "metadata": {},
   "source": [
    "# Trouver la station la plus proche"
   ]
  },
  {
   "cell_type": "markdown",
   "id": "99b5bccb",
   "metadata": {},
   "source": [
    "Une aide [ici](https://pysal.org/scipy2019-intermediate-gds/deterministic/gds1-relations.html#how-about-nearest-neighbor-joins)\n",
    "\n",
    "Cet exemple peut également vous aider à comprendre certains concepts : \n"
   ]
  },
  {
   "cell_type": "code",
   "execution_count": null,
   "id": "aa298155",
   "metadata": {},
   "outputs": [],
   "source": [
    "from shapely.ops import Polygon\n",
    "from shapely.ops import nearest_points\n",
    "triangle = Polygon([(0, 0), (1, 0), (0.5, 1), (0, 0)])\n",
    "square = Polygon([(0, 2), (1, 2), (1, 3), (0, 3), (0, 2)])\n",
    "[o.wkt for o in nearest_points(triangle, square)]"
   ]
  },
  {
   "cell_type": "markdown",
   "id": "3389a35c",
   "metadata": {},
   "source": [
    "```\n",
    "## ['POINT (0.5 1)', 'POINT (0.5 2)']\n",
    "```\n",
    "\n",
    "1. Charger la localisation des stations de transports présente ici : https://data.ratp.fr/explore/dataset/accessibilite-des-gares-et-stations-metro-et-rer-ratp/download/?format=geojson&timezone=Europe/Berlin&lang=fr. Appelez-la `stations_transport` et ne gardez que les variables 'nomptar' et 'geometry'. \n",
    "2. Trouver la station de transport la plus proche de la station de vélib \"Edgard Quinet - Gaité\". La ligne de code `ensemble_stations = stations_transport.unary_union` vous sera utile ainsi que l'importation de la fonction `from shapely.ops import nearest_points`.\n",
    "3. Généraliser aux 10 premières lignes de la table `stations` des vélibs en indiquant pour chaque station velib quelle est la station de transport en commun la plus proche dans une nouvelle colonne appelée `Nearest`.\n",
    "\n",
    "\n",
    "\n",
    "\n"
   ]
  },
  {
   "cell_type": "code",
   "execution_count": null,
   "id": "6e8fdd6c",
   "metadata": {
    "lines_to_next_cell": 0
   },
   "outputs": [],
   "source": [
    "# 1. Charger les stations de transport\n",
    "# lien mort\n",
    "#stations_transport = gpd.read_file(\"https://data.ratp.fr/explore/dataset/positions-geographiques-des-stations-du-reseau-ratp/download/?format=geojson&timezone=Europe/Berlin&lang=fr\")\n",
    "stations_transport = gpd.read_file(\"https://data.ratp.fr/explore/dataset/accessibilite-des-gares-et-stations-metro-et-rer-ratp/download/?format=geojson&timezone=Europe/Berlin&lang=fr\")\n",
    "stations_transport = stations_transport[['nomptar','geometry']].dropna() #car sinon il y a des problèmes dans la gestion géographique\n",
    "stations_transport.head()\n",
    "stations.head()"
   ]
  },
  {
   "cell_type": "markdown",
   "id": "70a9b9f0",
   "metadata": {},
   "source": [
    "\n"
   ]
  },
  {
   "cell_type": "code",
   "execution_count": null,
   "id": "734118ec",
   "metadata": {
    "lines_to_next_cell": 0
   },
   "outputs": [],
   "source": [
    "# 2. Trouver la station de transport la plus proche de la station de vélib \"Edgard Quinet - Gaité\"\n",
    "ensemble_stations = stations_transport.unary_union\n",
    "ensemble_stations\n",
    "from shapely.ops import nearest_points\n",
    "edgard_quinet_gaite = stations[stations.name == 'Edgar Quinet - Gaité'].iloc[0,] #le iloc est fait pour passer d'un pd à un pd.series, sinon bug.\n",
    "nearest = nearest_points(edgard_quinet_gaite['geometry'], ensemble_stations)[1]\n",
    "stations_transport[stations_transport['geometry'] == nearest][:1]"
   ]
  },
  {
   "cell_type": "markdown",
   "id": "cd2fd3f4",
   "metadata": {},
   "source": [
    "\n"
   ]
  },
  {
   "cell_type": "code",
   "execution_count": null,
   "id": "b0413796",
   "metadata": {},
   "outputs": [],
   "source": [
    "# A améliorer dans la forme du code (je suis passée par des listes alors que je n'aurais probablement pas du). KA\n",
    "\n",
    "#3. Fonction qui généralise aux 10 premières stations de la base de données\n",
    "def find_nearest(numero_station):\n",
    "      station_choisie = stations.iloc[numero_station,]\n",
    "      nearest = nearest_points(station_choisie['geometry'], ensemble_stations)[1]\n",
    "      return stations_transport[stations_transport['geometry'] == nearest][:1]['nomptar']\n",
    "\n",
    "dix_premieres_stations = stations.head(10)\n",
    "dix_premieres_stations['Nearest'] = [list(find_nearest(num_station))[0] for num_station in dix_premieres_stations.index]\n",
    "dix_premieres_stations"
   ]
  },
  {
   "cell_type": "markdown",
   "id": "705f040d",
   "metadata": {},
   "source": [
    "<!-- 3. Quelle ligne de transport est à proximité du plus de velibs ? -->\n",
    "\n",
    "<!-- 4. Calculer la distance de chaque station à la ligne de métro la plus proche. Faire un nuage de points reliant distance au métro et nombre de places en stations -->\n",
    "\n"
   ]
  },
  {
   "cell_type": "markdown",
   "id": "79d09123",
   "metadata": {},
   "source": [
    "<!-- # Exercices supplémentaires -->\n",
    "\n",
    "<!-- ## carte US election 2020 -->\n",
    "\n",
    "\n"
   ]
  }
 ],
 "metadata": {
  "kernelspec": {
   "display_name": "Python 3",
   "language": "python",
   "name": "python3"
  }
 },
 "nbformat": 4,
 "nbformat_minor": 5
}
