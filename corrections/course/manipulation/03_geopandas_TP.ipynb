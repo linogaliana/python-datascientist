{
  "cells": [
    {
      "cell_type": "markdown",
      "metadata": {},
      "source": [
        "# Pratique de geopandas avec les données vélib"
      ],
      "id": "9ebf78a8-2e2e-481c-b785-35c9ec3c46b6"
    },
    {
      "cell_type": "markdown",
      "metadata": {},
      "source": [
        "<p class=\"badges\">\n",
        "\n",
        "<a href=\"https://github.com/linogaliana/python-datascientist/blob/master/notebooks/course/manipulation/03_geopandas_TP.ipynb\" class=\"github\"><i class=\"fab fa-github\"></i></a>\n",
        "<a href=\"https://downgit.github.io/#/home?url=https://github.com/linogaliana/python-datascientist/blob/master/notebooks/course/manipulation/03_geopandas_TP.ipynb\" target=\"_blank\" rel=\"noopener\"><img src=\"https://img.shields.io/badge/Download-Notebook-important?logo=Jupyter\" alt=\"Download\"></a>\n",
        "<a href=\"https://nbviewer.jupyter.org/github/linogaliana/python-datascientist/blob/master/notebooks/course/manipulation/03_geopandas_TP.ipynb\" target=\"_blank\" rel=\"noopener\"><img src=\"https://img.shields.io/badge/Visualize-nbviewer-blue?logo=Jupyter\" alt=\"nbviewer\"></a>\n",
        "<a href=\"https://datalab.sspcloud.fr/launcher/ide/jupyter-python?autoLaunch=true&onyxia.friendlyName=%C2%ABpython-datascience%C2%BB&init.personalInit=%C2%ABhttps%3A%2F%2Fraw.githubusercontent.com%2Flinogaliana%2Fpython-datascientist%2Fmaster%2Fsspcloud%2Finit-jupyter.sh%C2%BB&init.personalInitArgs=%C2%ABmanipulation%2003_geopandas_TP%C2%BB&security.allowlist.enabled=false\" target=\"_blank\" rel=\"noopener\"><img src=\"https://img.shields.io/badge/SSPcloud-Tester%20via%20SSP--cloud-informational&amp;color=yellow?logo=Python\" alt=\"Onyxia\"></a><br>\n",
        "<a href=\"https://mybinder.org/v2/gh/linogaliana/python-datascientist/master?filepath={binder_path}\" target=\"_blank\" rel=\"noopener\"><img src=\"https://img.shields.io/badge/Launch-Binder-E66581.svg?logo=data:image/png;base64,iVBORw0KGgoAAAANSUhEUgAAAFkAAABZCAMAAABi1XidAAAB8lBMVEX///9XmsrmZYH1olJXmsr1olJXmsrmZYH1olJXmsr1olJXmsrmZYH1olL1olJXmsr1olJXmsrmZYH1olL1olJXmsrmZYH1olJXmsr1olL1olJXmsrmZYH1olL1olJXmsrmZYH1olL1olL0nFf1olJXmsrmZYH1olJXmsq8dZb1olJXmsrmZYH1olJXmspXmspXmsr1olL1olJXmsrmZYH1olJXmsr1olL1olJXmsrmZYH1olL1olLeaIVXmsrmZYH1olL1olL1olJXmsrmZYH1olLna31Xmsr1olJXmsr1olJXmsrmZYH1olLqoVr1olJXmsr1olJXmsrmZYH1olL1olKkfaPobXvviGabgadXmsqThKuofKHmZ4Dobnr1olJXmsr1olJXmspXmsr1olJXmsrfZ4TuhWn1olL1olJXmsqBi7X1olJXmspZmslbmMhbmsdemsVfl8ZgmsNim8Jpk8F0m7R4m7F5nLB6jbh7jbiDirOEibOGnKaMhq+PnaCVg6qWg6qegKaff6WhnpKofKGtnomxeZy3noG6dZi+n3vCcpPDcpPGn3bLb4/Mb47UbIrVa4rYoGjdaIbeaIXhoWHmZYHobXvpcHjqdHXreHLroVrsfG/uhGnuh2bwj2Hxk17yl1vzmljzm1j0nlX1olL3AJXWAAAAbXRSTlMAEBAQHx8gICAuLjAwMDw9PUBAQEpQUFBXV1hgYGBkcHBwcXl8gICAgoiIkJCQlJicnJ2goKCmqK+wsLC4usDAwMjP0NDQ1NbW3Nzg4ODi5+3v8PDw8/T09PX29vb39/f5+fr7+/z8/Pz9/v7+zczCxgAABC5JREFUeAHN1ul3k0UUBvCb1CTVpmpaitAGSLSpSuKCLWpbTKNJFGlcSMAFF63iUmRccNG6gLbuxkXU66JAUef/9LSpmXnyLr3T5AO/rzl5zj137p136BISy44fKJXuGN/d19PUfYeO67Znqtf2KH33Id1psXoFdW30sPZ1sMvs2D060AHqws4FHeJojLZqnw53cmfvg+XR8mC0OEjuxrXEkX5ydeVJLVIlV0e10PXk5k7dYeHu7Cj1j+49uKg7uLU61tGLw1lq27ugQYlclHC4bgv7VQ+TAyj5Zc/UjsPvs1sd5cWryWObtvWT2EPa4rtnWW3JkpjggEpbOsPr7F7EyNewtpBIslA7p43HCsnwooXTEc3UmPmCNn5lrqTJxy6nRmcavGZVt/3Da2pD5NHvsOHJCrdc1G2r3DITpU7yic7w/7Rxnjc0kt5GC4djiv2Sz3Fb2iEZg41/ddsFDoyuYrIkmFehz0HR2thPgQqMyQYb2OtB0WxsZ3BeG3+wpRb1vzl2UYBog8FfGhttFKjtAclnZYrRo9ryG9uG/FZQU4AEg8ZE9LjGMzTmqKXPLnlWVnIlQQTvxJf8ip7VgjZjyVPrjw1te5otM7RmP7xm+sK2Gv9I8Gi++BRbEkR9EBw8zRUcKxwp73xkaLiqQb+kGduJTNHG72zcW9LoJgqQxpP3/Tj//c3yB0tqzaml05/+orHLksVO+95kX7/7qgJvnjlrfr2Ggsyx0eoy9uPzN5SPd86aXggOsEKW2Prz7du3VID3/tzs/sSRs2w7ovVHKtjrX2pd7ZMlTxAYfBAL9jiDwfLkq55Tm7ifhMlTGPyCAs7RFRhn47JnlcB9RM5T97ASuZXIcVNuUDIndpDbdsfrqsOppeXl5Y+XVKdjFCTh+zGaVuj0d9zy05PPK3QzBamxdwtTCrzyg/2Rvf2EstUjordGwa/kx9mSJLr8mLLtCW8HHGJc2R5hS219IiF6PnTusOqcMl57gm0Z8kanKMAQg0qSyuZfn7zItsbGyO9QlnxY0eCuD1XL2ys/MsrQhltE7Ug0uFOzufJFE2PxBo/YAx8XPPdDwWN0MrDRYIZF0mSMKCNHgaIVFoBbNoLJ7tEQDKxGF0kcLQimojCZopv0OkNOyWCCg9XMVAi7ARJzQdM2QUh0gmBozjc3Skg6dSBRqDGYSUOu66Zg+I2fNZs/M3/f/Grl/XnyF1Gw3VKCez0PN5IUfFLqvgUN4C0qNqYs5YhPL+aVZYDE4IpUk57oSFnJm4FyCqqOE0jhY2SMyLFoo56zyo6becOS5UVDdj7Vih0zp+tcMhwRpBeLyqtIjlJKAIZSbI8SGSF3k0pA3mR5tHuwPFoa7N7reoq2bqCsAk1HqCu5uvI1n6JuRXI+S1Mco54YmYTwcn6Aeic+kssXi8XpXC4V3t7/ADuTNKaQJdScAAAAAElFTkSuQmCC\" alt=\"Binder\"></a>\n",
        "<a href=\"http://colab.research.google.com/github/linogaliana/python-datascientist/blob/master/notebooks/course/manipulation/03_geopandas_TP.ipynb\" target=\"_blank\" rel=\"noopener\"><img src=\"https://colab.research.google.com/assets/colab-badge.svg\" alt=\"Open In Colab\"></a>\n",
        "<a href=\"https://github.dev/linogaliana/python-datascientist/notebooks/course/manipulation/03_geopandas_TP.ipynb\" target=\"_blank\" rel=\"noopener\"><img src=\"https://img.shields.io/static/v1?logo=visualstudiocode&label=&message=Open%20in%20Visual%20Studio%20Code&labelColor=2c2c32&color=007acc&logoColor=007acc\" alt=\"githubdev\"></a>\n",
        "\n",
        "</p>\n",
        "\n",
        "</p>"
      ],
      "id": "50c5dba6-c5fb-444d-a796-499aa3c36c1e"
    },
    {
      "cell_type": "markdown",
      "metadata": {},
      "source": [
        "Installations préalables :"
      ],
      "id": "ca8ecfd1-8b1b-480c-97a4-eda054696e3d"
    },
    {
      "cell_type": "code",
      "execution_count": 2,
      "metadata": {},
      "outputs": [],
      "source": [
        "!pip install pandas fiona shapely pyproj rtree # à faire obligatoirement en premier pour utiliser rtree ou pygeos pour les jointures spatiales\n",
        "!pip install contextily\n",
        "!pip install geopandas\n",
        "!pip install pygeos\n",
        "!pip install topojson"
      ],
      "id": "8ad4e6e0"
    },
    {
      "cell_type": "markdown",
      "metadata": {},
      "source": [
        "Les instructions d’installation du package `cartiflette`\n",
        "sont quant à elles détaillées dans le chapitre\n",
        "précédent."
      ],
      "id": "93d3cd64-2943-450d-a939-44bc2aa46252"
    },
    {
      "cell_type": "code",
      "execution_count": 4,
      "metadata": {},
      "outputs": [],
      "source": [
        "import geopandas as gpd"
      ],
      "id": "d2f0bd52"
    },
    {
      "cell_type": "markdown",
      "metadata": {},
      "source": [
        "# Lire et enrichir des données spatiales\n",
        "\n",
        "Dans cette partie,\n",
        "nous utiliserons\n",
        "le package [`cartiflette`](https://github.com/InseeFrLab/cartiflette.git)\n",
        "qui facilite la récupération de contours de cartes.\n",
        "Une version antérieure de cet exercice, présentée sous forme\n",
        "d’[exercice supplémentaire 👇️](#exo-supp), utilisait des fonds de carte issus\n",
        "de `data.gouv`."
      ],
      "id": "63bda5f9-0a03-4bff-9bfb-6a95ccb24bcd"
    },
    {
      "cell_type": "raw",
      "metadata": {
        "raw_mimetype": "text/html"
      },
      "source": [
        "<div class=\"alert alert-success\" role=\"alert\">\n",
        "<h3 class=\"alert-heading\"><i class=\"fa-solid fa-pencil\"></i> Exercice 1: lire et explorer la structure de fichiers géographiques</h3>"
      ],
      "id": "70bfe6e1-1bb8-4b18-871a-ba87de3755dd"
    },
    {
      "cell_type": "markdown",
      "metadata": {},
      "source": [
        "1.  S’inspirer des exemples de code présents dans le chapitre précédent, mobilisant\n",
        "    le package `cartiflette`\n",
        "    pour télécharger les données communales des départements 75, 92, 93 et 94.\n",
        "    Vous pouvez nommer l’objet `communes_borders`\n",
        "2.  Regarder les premières lignes des données. Identifier la différence avec\n",
        "    un DataFrame standard.\n",
        "3.  Afficher l’attribut `crs` de `communes_borders`. Ce dernier contrôle la\n",
        "    transformation de l’espace tridimensionnel terrestre en une surface plane.\n",
        "    Utiliser `to_crs` pour transformer les données en Lambert 93 (code EPSG 2154).\n",
        "4.  Afficher les communes des Hauts de Seine (département 92) et utiliser la méthode\n",
        "    `plot`\n",
        "5.  Réprésenter la carte de Paris : quel est le problème ?"
      ],
      "id": "fc270094-7026-450b-996d-2b65caa59fa1"
    },
    {
      "cell_type": "raw",
      "metadata": {
        "raw_mimetype": "text/html"
      },
      "source": [
        "</div>"
      ],
      "id": "d5ff9575-809c-49d1-9afa-f5815b04e310"
    },
    {
      "cell_type": "markdown",
      "metadata": {},
      "source": [
        ":::\n",
        "\n",
        "La carte du 92 est la suivante:\n",
        "\n",
        "Quant à Paris, à l’issue de la question 5, la carte\n",
        "aura l’aspect suivant:\n",
        "\n",
        "En effet, on ne dispose ainsi pas des limites des arrondissements parisiens, ce\n",
        "qui appauvrit grandement la carte de Paris.\n",
        "On pourrait les récupérer directement\n",
        "depuis le site d’*open-data* du Grand Paris, ce qui est proposé\n",
        "en [exercice supplémentaire 👇️](#exo-supp).\n",
        "On propose ici d’utiliser à nouveau\n",
        "`cartiflette` pour cela afin de disposer du fonds de carte officiel."
      ],
      "id": "7ede8f30-20af-42ce-9943-c03cc37a0c4a"
    },
    {
      "cell_type": "markdown",
      "metadata": {},
      "source": [
        "<div class=\"alert alert-success\" role=\"alert\">\n",
        "<h3 class=\"alert-heading\"><i class=\"fa-solid fa-pencil\"></i> Exercice 2: compléter des données spatiales issues de sources différentes</h3>\n",
        "\n",
        "1.  Importer les données de découpage des arrondissements parisiens à l’adresse à l’aide de `cartiflette`.\n",
        "2.  Vérifier sur une carte que les découpages des arrondissements sont bien présents.\n",
        "3.  Vérifier l’attribut `crs`. Est-il cohérent avec celui des données communales ?\n",
        "    Si non, transformer en Lambert 93 (code EPSG 2154).\n",
        "4.  Retirer Paris du jeu de données communales et utiliser les arrondissements\n",
        "    pour enrichir (nommer l’objet obtenu `data_borders`).\n",
        "5.  Représenter à nouveau les communes de la petite couronne parisienne (75, 92, 93, 94)\n",
        "\n",
        "</div>"
      ],
      "id": "55e4e67b-53a8-4270-8d8b-0ad09c157f8a"
    },
    {
      "cell_type": "markdown",
      "metadata": {},
      "source": [
        "La carte de Paris intra-muros est, après la\n",
        "récupération des arrondissements avec\n",
        "`cartiflette` de ce type là:\n",
        "\n",
        "La carte obtenue à l’issue de la question 6, c’est-à-dire après\n",
        "avoir consolidé les données, devrait avoir l’aspect suivant:\n",
        "\n",
        "# Utiliser des données géographiques comme des couches graphiques\n",
        "\n",
        "Souvent, le découpage communal ne sert qu’en fond de cartes, pour donner des\n",
        "repères. En complément de celui-ci, on peut désirer exploiter\n",
        "un autre jeu de données.\n",
        "\n",
        "On va partir des données de localisation des\n",
        "stations velib,\n",
        "disponibles [sur le site d’open data de la ville de Paris](https://opendata.paris.fr/explore/dataset/velib-emplacement-des-stations/table/) et\n",
        "requêtables directement par l’url\n",
        "<https://opendata.paris.fr/explore/dataset/velib-emplacement-des-stations/download/?format=geojson&timezone=Europe/Berlin&lang=fr>"
      ],
      "id": "6eae745b-68a0-4d6a-87e7-2f5507d02298"
    },
    {
      "cell_type": "markdown",
      "metadata": {},
      "source": [
        "<div class=\"alert alert-success\" role=\"alert\">\n",
        "<h3 class=\"alert-heading\"><i class=\"fa-solid fa-pencil\"></i> Exercice 3: importer et explorer les données velib</h3>\n",
        "\n",
        "1.  Importer les données velib sous le nom `station`\n",
        "2.  Vérifier la projection géographique de `station` (attribut `crs`). Si celle-ci est différente des données communales, reprojeter ces\n",
        "    dernières dans le même système de projection que les stations de vélib\n",
        "3.  Représenter sur une carte les 50 stations les plus importantes (variable `capacity`). Vous pouvez également afficher le fonds de carte des arrondissements de Paris.\n",
        "    Cette [page](https://geopandas.org/mapping.html#maps-with-layers) peut vous aider pour comprendre comment afficher plusieurs couches à la fois. Vous pouvez customiser la carte en retirant les axes grâce à la méthode `set_axis_off` et mettre un titre tel que *“Les 50 principales stations de Vélib”* avec la méthode `set_title`.\n",
        "4.  Afficher également (trait bleu et épais) les réseaux de transport en communs, disponibles [ici](https://data.iledefrance-mobilites.fr/explore/dataset/traces-du-reseau-ferre-idf/map/?location=7,48.69717,2.33167&basemap=jawg.streets). L’url à requêter est\n",
        "    <https://data.iledefrance-mobilites.fr/explore/dataset/traces-du-reseau-ferre-idf/download/?format=geojson&timezone=Europe/Berlin&lang=fr>\n",
        "\n",
        "</div>"
      ],
      "id": "eec20bbc-757d-446d-8330-93b94f4b1c51"
    },
    {
      "cell_type": "markdown",
      "metadata": {},
      "source": [
        "La carte attendu à l’issue de la question 3 a l’aspect suivant:\n",
        "\n",
        "L’ajout du réseau de métro permet d’obtenir une carte ressemblant à celle-ci:\n",
        "\n",
        "Pour faire une belle carte, il faudrait couper les lignes de métro via une jointure spatiale ou\n",
        "utiliser un fonds de carte conceptuel.\n",
        "L’exercice suivant propose de mettre en oeuvre la deuxième méthode. La première\n",
        "est proposée en [exercice supplémentaire 👇️](#exo-supp)."
      ],
      "id": "6b489209-567d-4d20-9925-cf545cd712d4"
    },
    {
      "cell_type": "markdown",
      "metadata": {},
      "source": [
        "<div class=\"alert alert-success\" role=\"alert\">\n",
        "<h3 class=\"alert-heading\"><i class=\"fa-solid fa-pencil\"></i> Exercice 4: ajouter un fond de carte</h3>\n",
        "\n",
        "1.  Recréer par couche successive la carte précédente, que vous pouvez nommer `base`\n",
        "2.  Utiliser `add_basemap` du package [`contextily`](https://contextily.readthedocs.io/en/latest/)\n",
        "    pour ajouter, en arrière plan, un fonds de carte\n",
        "3.  Jouer avec les fonds disponibles en utilisant l’argument `source`\n",
        "\n",
        "</div>"
      ],
      "id": "1947e4a9-4bf7-4f21-bb38-4bd679a23fe5"
    },
    {
      "cell_type": "markdown",
      "metadata": {},
      "source": [
        "Par exemple, en utilisant le fond `Stamen.Watercolor`, on obtient la carte\n",
        "suivante. Celle-ci permet déjà de mieux localiser les stations.\n",
        "\n",
        "# Jointures spatiales\n",
        "\n",
        "Les jointures attributaires fonctionnent comme avec un DataFrame `pandas`.\n",
        "Pour conserver un objet spatial *in fine*, il faut faire attention à utiliser en premier (base de gauche) l’objet `GeoPandas`.\n",
        "En revanche, l’un des intérêts des objets geopandas est qu’on peut également faire une jointure sur la dimension spatiale grâce à `sjoin`.\n",
        "\n",
        "La documentation à laquelle se référer est [ici](https://geopandas.org/mergingdata.html#spatial-joins)."
      ],
      "id": "649a70fe-309d-4aae-ba37-de3782cec846"
    },
    {
      "cell_type": "markdown",
      "metadata": {},
      "source": [
        "<div class=\"alert alert-success\" role=\"alert\">\n",
        "<h3 class=\"alert-heading\"><i class=\"fa-solid fa-pencil\"></i> Exercice 5 : Associer les stations aux communes et arrondissements auxquels elles appartiennent</h3>\n",
        "\n",
        "1.  Faire une jointure spatiale pour enrichir les données de stations en y ajoutant des informations de `data_paris`. Appeler cet objet `stations_info`\n",
        "2.  Représenter la carte des stations du 19e arrondissement (s’aider de la variable `c_ar`). Vous pouvez mettre en fond de carte les arrondissements parisiens.\n",
        "3.  Compter le nombre de stations velib et le nombre de places velib par arrondissement ou commune (pour vous aider, vous pouvez compléter vos connaissances avec [ce tutoriel](https://pandas.pydata.org/docs/getting_started/intro_tutorials/06_calculate_statistics.html)). Représenter sur une carte chacune des informations\n",
        "4.  Représenter les mêmes informations mais en densité (diviser par la surface de l’arrondissement ou commune en km2)\n",
        "5.  (optionnel) Choisir une des cartes de densité et la nettoyer (retirer les axes, mettre les titres…)\n",
        "\n",
        "</div>"
      ],
      "id": "ec14385a-831f-4ad3-b3be-580230778691"
    },
    {
      "cell_type": "markdown",
      "metadata": {},
      "source": [
        "Pour la question 2,\n",
        "la première méthode consiste à afficher\n",
        "toute la ville mais à ne représenter que\n",
        "les points des stations du 19e:\n",
        "\n",
        "Néanmoins, il est préférable de se centrer sur\n",
        "le 19e en premier lieu, ce qui donne une\n",
        "carte comme celle-ci:\n",
        "\n",
        "La carte des places disponibles est celle-ci:\n",
        "\n",
        "Alors que la carte des capacités de stations est\n",
        "plutôt celle-là:\n",
        "\n",
        "Pas vraiment de différence marquée entre les\n",
        "deux, on peut se contenter de regarder la capacité.\n",
        "\n",
        "Enfin, dans la question 4,\n",
        "si on représente plutôt la capacité\n",
        "sous forme de densité, pour tenir compte\n",
        "de la taille différente des arrondissements,\n",
        "on obtient cette carte:\n",
        "\n",
        "Avec une palette `plasma_r`, cela donne plutôt cette carte:\n",
        "\n",
        "Avec un peu de travail sur l’esthétique, la carte\n",
        "que vous obtenez à l’issue de l’exercice\n",
        "ressemble à celle-ci:\n",
        "\n",
        "# Trouver les toilettes publiques les plus proches\n",
        "\n",
        "## Objectif\n",
        "\n",
        "Jusqu’à présent, nous nous sommes familiarisés avec\n",
        "la manipulation de données spatiales et la représentation\n",
        "rapide de celle-ci grâce aux fonctionalités de `GeoPandas`.\n",
        "\n",
        "A partir de maintenant, nous allons utiliser `GeoPandas`\n",
        "pour des tâches de manipulation géométrique.  \n",
        "Ces opérations reposeront sur des tâches classiques\n",
        "de la géomatique qui sont facilitées par le fait que\n",
        "`GeoPandas` offre une surcouche au package `Shapely`\n",
        "de la même manière que `Pandas` était une sur-couche\n",
        "de `Numpy` pour les opérations numériques.\n",
        "\n",
        "L’exemple suivant permet d’illustrer\n",
        "le principe d’une des\n",
        "opérations que nous allons utiliser,\n",
        "à savoir la recherche de plus proche point:"
      ],
      "id": "40f0d0de-3ce0-4c2a-a3a7-c92b6fd82709"
    },
    {
      "cell_type": "code",
      "execution_count": 33,
      "metadata": {},
      "outputs": [],
      "source": [
        "from shapely.ops import Polygon\n",
        "from shapely.ops import nearest_points\n",
        "triangle = Polygon([(0, 0), (1, 0), (0.5, 1), (0, 0)])\n",
        "square = Polygon([(0, 2), (1, 2), (1, 3), (0, 3), (0, 2)])\n",
        "[o.wkt for o in nearest_points(triangle, square)]"
      ],
      "id": "664852f0"
    },
    {
      "cell_type": "markdown",
      "metadata": {},
      "source": [
        "`GeoPandas` va permettre de généraliser ce processus\n",
        "en utilisant non plus deux listes modifiées (les\n",
        "polygones de `Shapely`) mais des `DataFrames` géographiques.\n",
        "Cela permettra, au passage, d’enrichir les\n",
        "jointures spatiales avec les attributs des `DataFrames`\n",
        "concernés.\n",
        "\n",
        "Sur `Shapely`, vous pourrez trouver une aide [ici](https://pysal.org/scipy2019-intermediate-gds/deterministic/gds1-relations.html#how-about-nearest-neighbor-joins).\n",
        "Néanmoins, à mesure que `GeoPandas` se développe, il\n",
        "devient de moins en moins nécessaire d’utiliser directement\n",
        "`Shapely`.\n",
        "\n",
        "## Mise en application\n",
        "\n",
        "Nous allons rechercher les toilettes publiques les\n",
        "plus proches de chaque station.\n",
        "Sans les fonctionalités de `GeoPandas`,\n",
        "cette recherche serait assez pénible."
      ],
      "id": "6e252b17-bb7b-4cd6-8e09-34f85de847c0"
    },
    {
      "cell_type": "markdown",
      "metadata": {},
      "source": [
        "<div class=\"alert alert-success\" role=\"alert\">\n",
        "<h3 class=\"alert-heading\"><i class=\"fa-solid fa-pencil\"></i> Exercice 5 (optionnel) : Trouver les toilettes publiques les plus proches d'une station de vélib</h3>\n",
        "\n",
        "1.  Charger la localisation des toilettes publiques présente ici : https://data.ratp.fr/explore/dataset/sanitaires-reseau-ratp/download/?format=geojson&timezone=Europe/Berlin&lang=fr. Appelez-la `toilettes_publiques`.\n",
        "2.  Convertir les objets `toilettes_publiques` et `stations` en projection Lambert-93 (CRS 2154). Cette\n",
        "    conversion permettra de mesurer en mètres les distances entre objets géographiques. Sans\n",
        "    celle-ci, nous ferions des distances entre coordonnées GPS, ce qui n’aide pas l’analyse\n",
        "    et l’interprétation.\n",
        "3.  Utiliser la jointure spatiale par plus proche distance `sjoin_nearest` pour associer à chaque station les toilettes publiques les plus proches\n",
        "4.  Trouver les toilettes publiques les plus proches des stations de vélib autour d’Edgard Quinet.\n",
        "5.  Représenter un histogramme des distances aux toilettes les plus proches\n",
        "\n",
        "</div>"
      ],
      "id": "826843f3-c6e4-4b08-951c-420c416aed5e"
    },
    {
      "cell_type": "markdown",
      "metadata": {},
      "source": [
        "Le jeu de données *open-data* des toilettes\n",
        "publiques présente l’aspect suivant:\n",
        "\n",
        "Les toilettes les plus proches\n",
        "d’Edgar Quinet sont les suivantes:\n",
        "\n",
        "Il va donc falloir se\n",
        "retenir un peu car s’agit de toilettes situées\n",
        "à la station Denfert Rochereau !\n",
        "\n",
        "Enfin, de manière plus globale, voici la distribution\n",
        "des distances aux toilettes les plus proches:\n",
        "\n",
        "Le mode de la distribution est entre 1 et 2 km, ce\n",
        "qui est une petite distance tout de même !\n",
        "C’est normal, il ne s’agit pas de l’ensemble des\n",
        "toilettes publiques de la ville de Paris mais\n",
        "de celles gérées par la RATP. Rassurez-vous, au\n",
        "moins dans Paris intra-muros, vous n’avez pas\n",
        "à systématiquement marcher (ou rouler) autant.\n",
        "\n",
        "# Exercices supplémentaires\n",
        "\n",
        "Voici une fonction pour télécharger et dézipper\n",
        "facilement un fonds de carte issu de `data.gouv`"
      ],
      "id": "1530ea39-d914-4aa3-88a8-313c1447bfaf"
    },
    {
      "cell_type": "code",
      "execution_count": 38,
      "metadata": {},
      "outputs": [],
      "source": [
        "import requests\n",
        "import tempfile\n",
        "import zipfile\n",
        "\n",
        "temporary_location = tempfile.gettempdir()\n",
        "\n",
        "def download_unzip(url, dirname = tempfile.gettempdir(), destname = \"borders\"):\n",
        "  myfile = requests.get(url)\n",
        "  open(\"{}/{}.zip\".format(dirname, destname), 'wb').write(myfile.content)\n",
        "  with zipfile.ZipFile(\"{}/{}.zip\".format(dirname, destname), 'r') as zip_ref:\n",
        "      zip_ref.extractall(dirname + '/' + destname)"
      ],
      "id": "8e7d2658"
    },
    {
      "cell_type": "markdown",
      "metadata": {},
      "source": [
        "<div class=\"alert alert-success\" role=\"alert\">\n",
        "<h3 class=\"alert-heading\"><i class=\"fa-solid fa-pencil\"></i> Exercice optionnel 1: télécharger et dézipper vous-même le fonds de carte</h3>\n",
        "\n",
        "Importer le fichier avec le package `GeoPandas`\n",
        "(si vous avez laissé les paramètres par défaut,\n",
        "le fichier devrait\n",
        "être à l’emplacement `temporary_location + \"/borders/communes-20210101.shp\"`).\n",
        "\n",
        "</div>"
      ],
      "id": "936a1705-4f0f-4b27-bf1c-d551c0db80bd"
    },
    {
      "cell_type": "markdown",
      "metadata": {},
      "source": [
        "<div class=\"alert alert-success\" role=\"alert\">\n",
        "<h3 class=\"alert-heading\"><i class=\"fa-solid fa-pencil\"></i> Exercice optionnel 2 : Utiliser les arrondissements fournis par l'open data parisien</h3>\n",
        "\n",
        "1.  Importer les données de découpage des arrondissements parisiens à l’adresse\n",
        "    <https://opendata.paris.fr/explore/dataset/arrondissements/download/?format=geojson&timezone=Europe/Berlin&lang=fr>\n",
        "2.  Vérifier sur une carte que les découpages des arrondissements sont bien présents.\n",
        "3.  Vérifier l’attribut `crs`. Est-il cohérent avec celui des données communales ?\n",
        "4.  Retirer Paris du jeu de données communales et utiliser les arrondissements\n",
        "    pour enrichir (nommer l’objet obtenu `data_borders`). Ici, on peut ne pas se\n",
        "    soucier de la variable commune de superficie aux niveaux différents car on\n",
        "    va la recréer. En revanche, renommer la variable `c_arinsee` en `insee` avec\n",
        "    la méthode `rename` et faire attention aux types des variables\n",
        "\n",
        "</div>"
      ],
      "id": "75dbb0c7-100f-424f-bc9a-5ca14e994013"
    },
    {
      "cell_type": "markdown",
      "metadata": {},
      "source": [
        "## Jointures spatiales\n",
        "\n",
        "L’objectif de cet exercice est de ne conserver que les\n",
        "lignes de transports à l’intérieur de Paris intra-muros.\n",
        "Il s’agit d’appliquer les jointures spatiales de manière\n",
        "un petit peu différente à précédemment."
      ],
      "id": "5cc78e67-0df8-4619-9657-5fb3ddfe966f"
    },
    {
      "cell_type": "raw",
      "metadata": {
        "raw_mimetype": "text/html"
      },
      "source": [
        "<div class=\"alert alert-success\" role=\"alert\">\n",
        "<h3 class=\"alert-heading\"><i class=\"fa-solid fa-pencil\"></i> Exercice optionnel 3 : Les lignes de transport dans Paris</h3>"
      ],
      "id": "e8f19e57-310d-4c25-9ee9-4779c953ac14"
    },
    {
      "cell_type": "markdown",
      "metadata": {},
      "source": [
        "1.  Utiliser l’URL <https://data.iledefrance-mobilites.fr/explore/dataset/traces-du-reseau-ferre-idf/download/?format=geojson&timezone=Europe/Berlin&lang=fr> pour récupérer les lignes de transport\n",
        "    de la RATP. L’appeler `transports`.\n",
        "2.  A partir des arrondissements parisiens, utiliser `unary_union` pour créer un unique polygone parisien. Utiliser `within` pour ne conserver que les points de `transports` qui se trouvent\n",
        "    dans Paris intra-muros\n",
        "3.  Représenter graphiquement"
      ],
      "id": "986fa257-d2cf-4c05-9d82-6481f9bb9c92"
    },
    {
      "cell_type": "raw",
      "metadata": {
        "raw_mimetype": "text/html"
      },
      "source": [
        "</div>"
      ],
      "id": "0d6918c5-ac66-43c2-805e-fa7f6ce15459"
    },
    {
      "cell_type": "markdown",
      "metadata": {},
      "source": [
        ":::\n",
        "\n",
        "La carte obtenue aura l’aspect suivant:\n",
        "\n",
        "Cette fois, on a bien conservé que les lignes de transport dans\n",
        "Paris. Un peu de travail sur le rendu serait nécessaire pour\n",
        "obtenir une belle carte. Vous pouvez le faire en exercice, après\n",
        "avoir consulté le chapitre relatif à la cartographie dans\n",
        "la partie visualisation de données."
      ],
      "id": "14e0aad9-ddc7-409a-a972-f7692be23eb8"
    }
  ],
  "nbformat": 4,
  "nbformat_minor": 5,
  "metadata": {
    "kernelspec": {
      "name": "python3",
      "display_name": "Python 3 (ipykernel)",
      "language": "python"
    },
    "language_info": {
      "name": "python",
      "codemirror_mode": {
        "name": "ipython",
        "version": "3"
      },
      "file_extension": ".py",
      "mimetype": "text/x-python",
      "nbconvert_exporter": "python",
      "pygments_lexer": "ipython3",
      "version": "3.9.16"
    }
  }
}