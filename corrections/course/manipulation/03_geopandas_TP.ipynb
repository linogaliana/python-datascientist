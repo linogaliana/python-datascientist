{
  "cells": [
    {
      "cell_type": "markdown",
      "metadata": {},
      "source": [
        "# Pratique de geopandas: données vélib\n",
        "\n",
        "<a href=\"https://github.com/linogaliana/python-datascientist/blob/master/notebooks/course/manipulation/03_geopandas_TP.ipynb\" class=\"github\"><i class=\"fab fa-github\"></i></a>\n",
        "[![Download](https://img.shields.io/badge/Download-Notebook-important?logo=Jupyter.png)](https://downgit.github.io/#/home?url=https://github.com/linogaliana/python-datascientist/blob/master/notebooks/course/manipulation/03_geopandas_TP.ipynb)\n",
        "[![nbviewer](https://img.shields.io/badge/Visualize-nbviewer-blue?logo=Jupyter.png)](https://nbviewer.jupyter.org/github/linogaliana/python-datascientist/blob/master/notebooks/course/manipulation/03_geopandas_TP.ipynb)\n",
        "[![Onyxia](https://img.shields.io/badge/SSPcloud-Tester%20via%20SSP--cloud-informational&color=yellow?logo=Python.png)](https://datalab.sspcloud.fr/launcher/inseefrlab-helm-charts-datascience/jupyter?autoLaunch=true&onyxia.friendlyName=%C2%ABpython-datascience%C2%BB&init.personalInit=%C2%ABhttps%3A%2F%2Fraw.githubusercontent.com%2Flinogaliana%2Fpython-datascientist%2Fmaster%2Fsspcloud%2Finit-jupyter.sh%C2%BB&init.personalInitArgs=%C2%ABnotebooks/course/manipulation%2003_geopandas_TP.ipynb%C2%BB&security.allowlist.enabled=false)<br>\n",
        "[![Binder](https://img.shields.io/badge/Launch-Binder-E66581.svg?logo=data:image/png;base64,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.png)](https://mybinder.org/v2/gh/linogaliana/python-datascientist/master?filepath=notebooks/course/manipulation/03_geopandas_TP.ipynb)\n",
        "[![Open In Colab](https://colab.research.google.com/assets/colab-badge.svg)](http://colab.research.google.com/github/linogaliana/python-datascientist/blob/master/notebooks/course/manipulation/03_geopandas_TP.ipynb)\n",
        "[![githubdev](https://img.shields.io/static/v1?logo=visualstudiocode&label=&message=Open%20in%20Visual%20Studio%20Code&labelColor=2c2c32&color=007acc&logoColor=007acc.png)](https://github.dev/linogaliana/python-datascientist/notebooks/course/manipulation/03_geopandas_TP.ipynb)\n",
        "\n",
        "Installations préalables :"
      ],
      "id": "6a410aaf-151c-47b1-b47c-ff2895947aaa"
    },
    {
      "cell_type": "code",
      "execution_count": 2,
      "metadata": {},
      "outputs": [],
      "source": [
        "!pip install pandas fiona shapely pyproj rtree # à faire obligatoirement en premier pour utiliser rtree ou pygeos pour les jointures spatiales\n",
        "!pip install contextily\n",
        "!pip install geopandas"
      ],
      "id": "ef4839e4-dacc-4cae-9f12-3d4fa2a06b1e"
    },
    {
      "cell_type": "code",
      "execution_count": 3,
      "metadata": {},
      "outputs": [],
      "source": [
        "import geopandas as gpd"
      ],
      "id": "43b0f1eb-ecb1-43a0-9424-9d826023988a"
    },
    {
      "cell_type": "markdown",
      "metadata": {},
      "source": [
        "# Lire et enrichir des données spatiales\n",
        "\n",
        "Dans cette partie, nous utiliserons la fonction suivante, qui facilite\n",
        "le téléchargement et le dézippage des données proposées sur `data.gouv`:"
      ],
      "id": "3110d013-d763-407b-928d-b501a9d6a61a"
    },
    {
      "cell_type": "code",
      "execution_count": 4,
      "metadata": {},
      "outputs": [],
      "source": [
        "import requests\n",
        "import tempfile\n",
        "import zipfile\n",
        "\n",
        "temporary_location = tempfile.gettempdir()\n",
        "\n",
        "def download_unzip(url, dirname = tempfile.gettempdir(), destname = \"borders\"):\n",
        "  myfile = requests.get(url)\n",
        "  open(dirname + '/' + destname + '.zip', 'wb').write(myfile.content)\n",
        "  with zipfile.ZipFile(dirname + '/' + destname + '.zip', 'r') as zip_ref:\n",
        "      zip_ref.extractall(dirname + '/' + destname)"
      ],
      "id": "0a5730a6-036b-477d-ae78-9bf747e15778"
    },
    {
      "cell_type": "markdown",
      "metadata": {},
      "source": [
        "{{% box status=“exercise” title=“Exercice 1: lire et explorer la structure de fichiers géographiques” icon=“fas fa-pencil-alt” %}}\n",
        "1. Utiliser la fonction `download_unzip` avec l’url <https://www.data.gouv.fr/fr/datasets/r/07b7c9a2-d1e2-4da6-9f20-01a7b72d4b12>\n",
        "pour télécharger les données communales.\n",
        "2. Importer le fichier avec la package `geopandas`\n",
        "(si vous avez laissé les paramètres par défaut,\n",
        "le fichier devrait\n",
        "être à l’emplacement `temporary_location + \"/borders/communes-20190101.json\"`).\n",
        "Vous pouvez le nommer `communes_borders`\n",
        "3. Regarder les premières lignes des données. Identifier la différence avec\n",
        "un DataFrame standard.\n",
        "4. Afficher l’attribut `crs` de `communes_borders`. Ce dernier contrôle la\n",
        "transformation de l’espace tridimensionnel terrestre en une surface plane.\n",
        "5. Afficher les communes de l’Aveyron (département 12) et utiliser la méthode\n",
        "`plot`\n",
        "6. Réprésenter la carte de Paris : quel est le problème ?\n",
        "{{% /box %}}\n",
        "\n",
        "En effet, on ne dispose ainsi pas des limites des arrondissements parisiens, ce\n",
        "qui appauvrit grandement la carte de Paris. On peut les récupérer directement\n",
        "depuis le site d’open data du grand Paris\n",
        "(cf. [tutoriel du chapitre précédent](geopandas)).\n",
        "\n",
        "{{% box status=“exercise” title=“Exercice 2: compléter des données spatiales issues de sources différentes” icon=“fas fa-pencil-alt” %}}\n",
        "\n",
        "1.  Importer les données de découpage des arrondissements parisiens à l’adresse\n",
        "    <https://opendata.paris.fr/explore/dataset/arrondissements/download/?format=geojson&timezone=Europe/Berlin&lang=fr>\n",
        "2.  Vérifier sur une carte que les découpages des arrondissements sont bien présents\n",
        "3.  Vérifier l’attribut `crs`. Est-il cohérent avec celui des données communales ?\n",
        "4.  Retirer Paris du jeu de données communales et utiliser les arrondissements\n",
        "    pour enrichir (nommer l’objet obtenu `data_borders`). Ici, on peut ne pas se\n",
        "    soucier de la variable commune de superficie aux niveaux différents car on\n",
        "    va la recréer. En revanche, renommer la variable `c_arinsee` en `insee` avec\n",
        "    la méthode `rename` et faire attention aux types des variables\n",
        "5.  Créer une variable `dep` stockant le département\n",
        "6.  Représenter les communes de la petite couronne parisienne (75, 92, 93, 94)\n",
        "    {{% /box %}}\n",
        "\n",
        "# Utiliser des données géographiques comme des couches graphiques\n",
        "\n",
        "Souvent, le découpage communal ne sert qu’en fond de cartes, pour donner des\n",
        "repères. En complément de celui-ci, on peut désirer exploiter\n",
        "un autre jeu de données. On va partir des données de localisation des\n",
        "stations velib,\n",
        "disponibles [sur le site d’open data de la ville de Paris](https://opendata.paris.fr/explore/dataset/velib-emplacement-des-stations/table/) et\n",
        "requêtables directement par l’url\n",
        "<https://opendata.paris.fr/explore/dataset/velib-emplacement-des-stations/download/?format=geojson&timezone=Europe/Berlin&lang=fr>\n",
        "\n",
        "{{% box status=“exercise” title=“Exercice 3: importer et explorer les données velib” icon=“fas fa-pencil-alt” %}}\n",
        "1. Importer les données velib sous le nom `station`\n",
        "2. Représenter sur une carte les 50 stations les plus importantes (variable `capacity`). Vous pouvez également afficher le fonds de carte des arrondissements en ne gardant que les départements de la petite couronne (75, 92, 93, 94).\n",
        "Cette [page](https://geopandas.org/mapping.html#maps-with-layers) peut vous aider pour afficher plusieurs couches à la fois.\n",
        "3. Afficher également les réseaux de transport en communs, disponibles [ici](https://data.iledefrance-mobilites.fr/explore/dataset/traces-du-reseau-ferre-idf/map/?location=7,48.69717,2.33167&basemap=jawg.streets). L’url à requêter est\n",
        "<https://data.iledefrance-mobilites.fr/explore/dataset/traces-du-reseau-ferre-idf/download/?format=geojson&timezone=Europe/Berlin&lang=fr>\n",
        "{{% /box %}}\n",
        "\n",
        "# Jointures spatiales\n",
        "\n",
        "Les jointures attributaires fonctionnent comme avec un DataFrame `pandas`. Pour conserver un objet spatial *in fine*, il faut faire attention à utiliser en premier (base de gauche) l’objet `geopandas`. En revanche, l’un des intérêts des objets geopandas est qu’on peut également faire une jointure sur la dimension spatiale.\n",
        "\n",
        "La documentation à laquelle se référer est [ici](https://geopandas.org/mergingdata.html#spatial-joins).\n",
        "\n",
        "{{% box status=“exercise” title=“Exercice 4: Associer les stations aux communes et arrondissements auxquels elles appartiennent” icon=“fas fa-pencil-alt” %}}\n",
        "1. Faire une jointure spatiale pour enrichir les données de stations en y ajoutant des informations de `data_paris`. Appeler cet objet `stations_info`\n",
        "2. Représenter la carte des stations du 19e arrondissement (s’aider de la variable `c_ar`). Vous pouvez mettre en fond de carte les arrondissements parisiens.\n",
        "3. Compter le nombre de stations velib et le nombre de places velib par arrondissement ou commune (pour vous aider, vous pouvez compléter vos connaissances avec [ce tutoriel](https://pandas.pydata.org/docs/getting_started/intro_tutorials/06_calculate_statistics.html)). Représenter sur une carte chacune des informations\n",
        "4. Représenter les mêmes informations mais en densité (diviser par la surface de l’arrondissement ou commune en km2)\n",
        "{{% /box %}}\n",
        "\n",
        "# Trouver la station la plus proche\n",
        "\n",
        "Une aide [ici](https://pysal.org/scipy2019-intermediate-gds/deterministic/gds1-relations.html#how-about-nearest-neighbor-joins)\n",
        "\n",
        "Cet exemple peut également vous aider à comprendre certains concepts :\n",
        "\n",
        "{{% box status=“exercise” title=“Exercice 5 (optionnel): Trouver la station de métro la plus proche d’une station de vélib” icon=“fas fa-pencil-alt” %}}\n",
        "1. Charger la localisation des stations de transports présente ici : https://data.ratp.fr/explore/dataset/accessibilite-des-gares-et-stations-metro-et-rer-ratp/download/?format=geojson&timezone=Europe/Berlin&lang=fr. Appelez-la `stations_transport` et ne gardez que les variables ‘nomptar’ et ‘geometry’.\n",
        "2. Trouver la station de transport la plus proche de la station de vélib “Edgard Quinet - Gaité”. La ligne de code `ensemble_stations = stations_transport.unary_union` vous sera utile ainsi que l’importation de la fonction `from shapely.ops import nearest_points`.\n",
        "3. Généraliser aux 10 premières lignes de la table `stations` des vélibs en indiquant pour chaque station velib quelle est la station de transport en commun la plus proche dans une nouvelle colonne appelée `Nearest`.\n",
        "\n",
        "{{% /box %}}"
      ],
      "id": "a7edea62-59b9-4f3e-bf46-8cf728737ac2"
    },
    {
      "cell_type": "raw",
      "metadata": {
        "raw_mimetype": "text/html"
      },
      "source": [
        "<!-- 3. Quelle ligne de transport est à proximité du plus de velibs ? -->"
      ],
      "id": "25e89096-f9ad-4808-8f5c-323c05078b16"
    },
    {
      "cell_type": "raw",
      "metadata": {
        "raw_mimetype": "text/html"
      },
      "source": [
        "<!-- 4. Calculer la distance de chaque station à la ligne de métro la plus proche. Faire un nuage de points reliant distance au métro et nombre de places en stations -->"
      ],
      "id": "b84b7ec0-a96a-4d98-8576-cd31103d817e"
    },
    {
      "cell_type": "raw",
      "metadata": {
        "raw_mimetype": "text/html"
      },
      "source": [
        "<!-- # Exercices supplémentaires -->"
      ],
      "id": "3592ec3e-83e9-465b-8c52-374839c3816d"
    },
    {
      "cell_type": "raw",
      "metadata": {
        "raw_mimetype": "text/html"
      },
      "source": [
        "<!-- ## carte US election 2020 -->"
      ],
      "id": "97ec148c-d519-4a85-864d-3df0dab7fd17"
    }
  ],
  "nbformat": 4,
  "nbformat_minor": 5,
  "metadata": {
    "kernelspec": {
      "name": "python3",
      "display_name": "Python 3 (ipykernel)",
      "language": "python"
    },
    "language_info": {
      "name": "python",
      "codemirror_mode": {
        "name": "ipython",
        "version": "3"
      },
      "file_extension": ".py",
      "mimetype": "text/x-python",
      "nbconvert_exporter": "python",
      "pygments_lexer": "ipython3",
      "version": "3.9.12"
    }
  }
}