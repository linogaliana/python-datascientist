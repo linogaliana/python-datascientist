{
  "cells": [
    {
      "cell_type": "markdown",
      "metadata": {},
      "source": [
        "# Retour sur numpy\n",
        "\n",
        "Pour essayer les exemples présents dans ce tutoriel :\n",
        "\n",
        "<a href=\"https://github.com/linogaliana/python-datascientist/blob/master/notebooks/course/manipulation/01_numpy.ipynb\" class=\"github\"><i class=\"fab fa-github\"></i></a>\n",
        "[![Download](https://img.shields.io/badge/Download-Notebook-important?logo=Jupyter.png)](https://downgit.github.io/#/home?url=https://github.com/linogaliana/python-datascientist/blob/master/notebooks/course/manipulation/01_numpy.ipynb)\n",
        "[![nbviewer](https://img.shields.io/badge/Visualize-nbviewer-blue?logo=Jupyter.png)](https://nbviewer.jupyter.org/github/linogaliana/python-datascientist/blob/master/notebooks/course/manipulation/01_numpy.ipynb)\n",
        "[![Onyxia](https://img.shields.io/badge/SSPcloud-Tester%20via%20SSP--cloud-informational&color=yellow?logo=Python.png)](https://datalab.sspcloud.fr/launcher/inseefrlab-helm-charts-datascience/jupyter?autoLaunch=true&onyxia.friendlyName=%C2%ABpython-datascience%C2%BB&init.personalInit=%C2%ABhttps%3A%2F%2Fraw.githubusercontent.com%2Flinogaliana%2Fpython-datascientist%2Fmaster%2Fsspcloud%2Finit-jupyter.sh%C2%BB&init.personalInitArgs=%C2%ABnotebooks/course/manipulation%2001_numpy.ipynb%C2%BB&security.allowlist.enabled=false)<br>\n",
        "[![Binder](https://img.shields.io/badge/Launch-Binder-E66581.svg?logo=data:image/png;base64,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.png)](https://mybinder.org/v2/gh/linogaliana/python-datascientist/master?filepath=notebooks/course/manipulation/01_numpy.ipynb)\n",
        "[![Open In Colab](https://colab.research.google.com/assets/colab-badge.svg)](http://colab.research.google.com/github/linogaliana/python-datascientist/blob/master/notebooks/course/manipulation/01_numpy.ipynb)\n",
        "[![githubdev](https://img.shields.io/static/v1?logo=visualstudiocode&label=&message=Open%20in%20Visual%20Studio%20Code&labelColor=2c2c32&color=007acc&logoColor=007acc.png)](https://github.dev/linogaliana/python-datascientist/notebooks/course/manipulation/01_numpy.ipynb)\n",
        "\n",
        "Il est recommandé de régulièrement se référer à\n",
        "la [cheatsheet numpy](https://www.datacamp.com/community/blog/python-numpy-cheat-sheet) et à la\n",
        "[doc officielle](https://numpy.org/doc/stable/) en cas de doute\n",
        "sur une fonction.\n",
        "\n",
        "Dans ce chapitre, on ne dérogera pas à la convention qui s’est imposée\n",
        "d’importer `numpy` de la\n",
        "manière suivante:"
      ],
      "id": "3d1690b7-e120-4ada-bd24-8794749dc701"
    },
    {
      "cell_type": "code",
      "execution_count": 2,
      "metadata": {},
      "outputs": [],
      "source": [
        "import numpy as np"
      ],
      "id": "8edfe30c-9e82-4c36-a581-c9a3d3872523"
    },
    {
      "cell_type": "markdown",
      "metadata": {},
      "source": [
        "Si les scripts suivants sont exécutés dans un `notebook`, il est recommandé d’utiliser les paramètres suivants\n",
        "pour contrôler le rendu\n",
        "\n",
        "``` python\n",
        "from IPython.core.interactiveshell import InteractiveShell\n",
        "InteractiveShell.ast_node_interactivity = \"all\"\n",
        "```\n",
        "\n",
        "## Le concept d’array\n",
        "\n",
        "Le concept central de `NumPy` (`Numerical Python`) est\n",
        "l’**`array`** qui est un tableau de données multidimensionnel.\n",
        "\n",
        "L’array numpy peut être unidimensionnel et s’apparenter à un vecteur (1d-array),\n",
        "bidimensionnel et ainsi s’apparenter à une matrice (2d-array) ou, de manière plus générale,\n",
        "prendre la forme d’un objet\n",
        "multidimensionnel (Nd-array).\n",
        "\n",
        "Les tableaux simples (uni ou bi-dimensionnels) sont faciles à se représenter et seront particulièrement\n",
        "utilisés dans le paradigme des DataFrames mais\n",
        "la possibilité d’avoir des objets multidimensionnels permettra d’exploiter des\n",
        "structures très complexes.\n",
        "\n",
        "Un DataFrame sera construit à partir d’une collection\n",
        "d’array uni-dimensionnels (les variables de la table), ce qui permettra d’effectuer des opérations cohérentes\n",
        "(et optimisées) avec le type de la variable.\n",
        "\n",
        "Par rapport à une liste,\n",
        "\n",
        "-   un *array* ne peut contenir qu’un type de données (`integer`, `string`, etc.),\n",
        "    contrairement à une liste.\n",
        "-   les opérations implémentées par `numpy` seront plus efficaces et demanderont moins\n",
        "    de mémoire\n",
        "\n",
        "Les données géographiques constitueront une construction un peu plus complexe qu’un `DataFrame` traditionnel.\n",
        "La dimension géographique prend la forme d’un tableau plus profond, au moins bidimensionnel\n",
        "(coordonnées d’un point).\n",
        "\n",
        "## Créer un array\n",
        "\n",
        "On peut créer un `array` de plusieurs manières. Pour créer un `array` à partir d’une liste,\n",
        "il suffit d’utiliser la méthode `array`:"
      ],
      "id": "b32bca61-0122-403d-8705-03507471584f"
    },
    {
      "cell_type": "code",
      "execution_count": 3,
      "metadata": {},
      "outputs": [
        {
          "output_type": "display_data",
          "metadata": {},
          "data": {
            "text/plain": [
              "array([1, 2, 5])"
            ]
          }
        }
      ],
      "source": [
        "np.array([1,2,5])"
      ],
      "id": "303c4bdd-2f8e-46e3-8f3b-4744a3559023"
    },
    {
      "cell_type": "markdown",
      "metadata": {},
      "source": [
        "Il est possible d’ajouter un argument `dtype` pour contraindre le type du *array*:"
      ],
      "id": "7887b5b7-acf1-4c5a-bc7c-2d8af7f6f525"
    },
    {
      "cell_type": "code",
      "execution_count": 4,
      "metadata": {},
      "outputs": [
        {
          "output_type": "display_data",
          "metadata": {},
          "data": {
            "text/plain": [
              "array([list(['a', 'z', 'e']), list(['r', 't']), list(['y'])], dtype=object)"
            ]
          }
        }
      ],
      "source": [
        "np.array([[\"a\",\"z\",\"e\"],[\"r\",\"t\"],[\"y\"]], dtype=\"object\")"
      ],
      "id": "456a4cfd-5191-4d33-ac90-c8b0f3009d15"
    },
    {
      "cell_type": "markdown",
      "metadata": {},
      "source": [
        "Il existe aussi des méthodes pratiques pour créer des array:\n",
        "\n",
        "-   séquences logiques : `np.arange` (suite) ou `np.linspace` (interpolation linéaire entre deux bornes)\n",
        "-   séquences ordonnées: *array* rempli de zéros, de 1 ou d’un nombre désiré : `np.zeros`, `np.ones` ou `np.full`\n",
        "-   séquences aléatoires: fonctions de génération de nombres aléatoires: `np.rand.uniform`, `np.rand.normal`, etc.\n",
        "-   tableau sous forme de matrice identité: `np.eye`"
      ],
      "id": "678626e8-fac6-4c20-955a-31a81fba851a"
    },
    {
      "cell_type": "code",
      "execution_count": 5,
      "metadata": {},
      "outputs": [
        {
          "output_type": "display_data",
          "metadata": {},
          "data": {
            "text/plain": [
              "array([[1., 0., 0.],\n",
              "       [0., 1., 0.],\n",
              "       [0., 0., 1.]])"
            ]
          }
        }
      ],
      "source": [
        "np.arange(0,10)\n",
        "np.arange(0,10,3)\n",
        "np.linspace(0, 1, 5)\n",
        "np.zeros(10, dtype=int)\n",
        "np.ones((3, 5), dtype=float)\n",
        "np.full((3, 5), 3.14)\n",
        "np.eye(3)"
      ],
      "id": "1b771e1b-c9f2-41f2-bd2c-3a57b677c7fc"
    },
    {
      "cell_type": "markdown",
      "metadata": {},
      "source": [
        "{{% box status=“exercise” title=“Exercise 1” icon=“fas fa-pencil-alt” %}}\n",
        "\n",
        "Générer:\n",
        "\n",
        "-   $X$ une variable aléatoire, 1000 répétitions d’une loi $U(0,1)$\n",
        "-   $Y$ une variable aléatoire, 1000 répétitions d’une loi normale de moyenne nulle et de variance égale à 2\n",
        "-   Vérifier la variance de $Y$ avec `np.var`\n",
        "\n",
        "{{% /box %}}\n",
        "\n",
        "## Indexation et slicing\n",
        "\n",
        "### Logique dans le cas d’un array unidimensionnel\n",
        "\n",
        "La structure la plus simple imaginable est l’array unidimensionnel:"
      ],
      "id": "aba18196-20c3-4f88-9582-1f5ca46f3b03"
    },
    {
      "cell_type": "code",
      "execution_count": 7,
      "metadata": {},
      "outputs": [
        {
          "output_type": "stream",
          "name": "stdout",
          "text": [
            "[0 1 2 3 4 5 6 7 8 9]"
          ]
        }
      ],
      "source": [
        "x = np.arange(10)\n",
        "print(x)"
      ],
      "id": "84ef435b-fd5d-49bc-8c8f-eb2b83533e1f"
    },
    {
      "cell_type": "markdown",
      "metadata": {},
      "source": [
        "L’indexation est dans ce cas similaire à celle d’une liste:\n",
        "\n",
        "-   le premier élément est 0\n",
        "-   le énième élément est accessible à la position $n-1$\n",
        "\n",
        "La logique d’accès aux éléments est ainsi la suivante:\n",
        "\n",
        "``` python\n",
        "x[start:stop:step]\n",
        "```\n",
        "\n",
        "Avec un *array* unidimensionnel, l’opération de *slicing* (garder une coupe du *array*) est très simple.\n",
        "Par exemple, pour garder les *K* premiers éléments d’un *array*, on fera:\n",
        "\n",
        "``` python\n",
        "x[:(K-1)]\n",
        "```\n",
        "\n",
        "En l’occurrence, on sélectionne le K$^{eme}$ élément en utilisant\n",
        "\n",
        "``` python\n",
        "x[K-1]\n",
        "```\n",
        "\n",
        "Pour sélectionner uniquement un élément, on fera ainsi:"
      ],
      "id": "4ecdf246-2189-4272-bd31-1ccf253dff07"
    },
    {
      "cell_type": "code",
      "execution_count": 8,
      "metadata": {},
      "outputs": [
        {
          "output_type": "display_data",
          "metadata": {},
          "data": {
            "text/plain": [
              "2"
            ]
          }
        }
      ],
      "source": [
        "x = np.arange(10)\n",
        "x[2]"
      ],
      "id": "a0805ca1-0edd-47e3-b9bc-e0d78e49efe9"
    },
    {
      "cell_type": "markdown",
      "metadata": {},
      "source": [
        "Les syntaxes qui permettent de sélectionner des indices particuliers d’une liste fonctionnent également\n",
        "avec les arrays.\n",
        "\n",
        "{{% box status=“exercise” title=“Exercise 2” icon=“fas fa-pencil-alt” %}}\n",
        "\n",
        "-   Sélectionner les éléments 0,3,5\n",
        "-   Sélectionner les éléments pairs\n",
        "-   Sélectionner tous les éléments sauf le premier\n",
        "-   Sélectionner les 5 premiers éléments\n",
        "\n",
        "{{% /box %}}\n",
        "\n",
        "### Sur la performance\n",
        "\n",
        "Un élément déterminant dans la performance de `numpy` par rapport aux listes, lorsqu’il est question de\n",
        "*slicing* est qu’un array ne renvoie pas une\n",
        "copie de l’élément en question (copie qui coûte de la mémoire et du temps) mais simplement une vue de celui-ci.\n",
        "\n",
        "Lorsqu’il est nécessaire d’effectuer une copie, par exemple pour ne pas altérer l’array sous-jacent, on peut\n",
        "utiliser la méthode `copy`:\n",
        "\n",
        "``` python\n",
        "x_sub_copy = x[:2, :2].copy()\n",
        "```\n",
        "\n",
        "------------------------------------------------------------------------\n",
        "\n",
        "### Filtres logiques\n",
        "\n",
        "Il est également possible, et plus pratique, de sélectionner des données à partir de conditions logiques\n",
        "(opération qu’on appelle un *boolean mask*)\n",
        "Cette fonctionalité servira principalement à\n",
        "effectuer des opérations de filtre sur les données.\n",
        "\n",
        "Pour des opérations de comparaison simples, les comparateurs logiques peuvent être suffisants.\n",
        "Ces comparaisons fonctionnent aussi sur les tableaux multidimensionnels grâce au\n",
        "*broadcasting* sur lequel nous reviendrons :\n",
        "\n",
        "``` python\n",
        "x = np.arange(10)\n",
        "x2 = np.array([[-1,1,-2],[-3,2,0]])\n",
        "print(x)\n",
        "print(x2)\n",
        "```\n",
        "\n",
        "``` python\n",
        "x==2\n",
        "x2<0\n",
        "```\n",
        "\n",
        "Pour sélectionner les observations relatives à la condition logique,\n",
        "il suffit d’utiliser la logique de *slicing* de `numpy` qui fonctionne avec les conditions logiques\n",
        "\n",
        "{{% box status=“exercise” title=“Exercise 3” icon=“fas fa-pencil-alt” %}}\n",
        "\n",
        "Soit"
      ],
      "id": "5a458dd2-d997-44ae-adc6-a88e5b04b544"
    },
    {
      "cell_type": "code",
      "execution_count": 10,
      "metadata": {},
      "outputs": [],
      "source": [
        "x = np.random.normal(size=10000)"
      ],
      "id": "66496f94-22b8-41be-8595-55fa9abb3e6d"
    },
    {
      "cell_type": "markdown",
      "metadata": {},
      "source": [
        "1.  Ne conserver que les valeurs dont la valeur absolue est supérieure à 1.96\n",
        "2.  Compter le nombre de valeurs supérieures à 1.96 en valeur absolue et leur proportion dans l’ensemble\n",
        "3.  Sommer les valeurs absolues de toutes les observations supérieures (en valeur absolue) à 1.96\n",
        "    et rapportez les à la somme des valeurs de `x` (en valeur absolue)\n",
        "\n",
        "{{% /box %}}\n",
        "\n",
        "Lorsque c’est possible, il est recommandé d’utiliser les fonctions logiques de `numpy` (optimisées et\n",
        "qui gèrent bien la dimension). Parmi elles, on peut retrouver:\n",
        "\n",
        "-   `count_nonzero`\n",
        "-   `isnan`\n",
        "-   `any` ; `all` ; notamment avec l’argument `axis`\n",
        "-   `np.array_equal` pour vérifier, élément par élément, l’égalité\n",
        "\n",
        "{{% box status=“exercise” title=“Exercise 4” icon=“fas fa-pencil-alt” %}}\n",
        "\n",
        "Soit"
      ],
      "id": "d3796a71-2c84-47dc-933d-30ac25c3d5a1"
    },
    {
      "cell_type": "code",
      "execution_count": 12,
      "metadata": {},
      "outputs": [],
      "source": [
        "x = np.random.normal(0, size=(3, 4))"
      ],
      "id": "f3ac2711-501d-4b57-a3fc-f81d88f2d2e1"
    },
    {
      "cell_type": "markdown",
      "metadata": {},
      "source": [
        "un *array* multidimensionnel et"
      ],
      "id": "fc500835-f8b4-4d6f-8dda-b131fa610cd3"
    },
    {
      "cell_type": "code",
      "execution_count": 13,
      "metadata": {},
      "outputs": [],
      "source": [
        "y = np.array([np.nan, 0, 1])"
      ],
      "id": "4140600e-db63-4b53-af0c-8f5414026c13"
    },
    {
      "cell_type": "markdown",
      "metadata": {},
      "source": [
        "un *array* unidimensionnel présentant une valeur manquante.\n",
        "\n",
        "1.  Utiliser `count_nonzero` sur `y`\n",
        "2.  Utiliser `isnan` sur `y` et compter le nombre de valeurs non NaN\n",
        "3.  Vérifier que `x` comporte au moins une valeur positive dans son ensemble, en parcourant les lignes puis les colonnes.\n",
        "\n",
        "Note : Jetez un oeil à ce que correspond le paramètre `axis` dans `numpy` en vous documentant sur internet. Par exemple [ici](https://www.sharpsightlabs.com/blog/numpy-axes-explained/).\n",
        "\n",
        "{{% /box %}}\n",
        "\n",
        "## Manipuler un array\n",
        "\n",
        "Dans cette section, on utilisera un array multidimensionnel:"
      ],
      "id": "0bb2cbc8-5b6a-403c-8458-a815d32b3e25"
    },
    {
      "cell_type": "code",
      "execution_count": 15,
      "metadata": {},
      "outputs": [],
      "source": [
        "x = np.random.normal(0, size=(3, 4))"
      ],
      "id": "ebcc81f2-dda5-42da-89ad-1e8b4562884a"
    },
    {
      "cell_type": "markdown",
      "metadata": {},
      "source": [
        "### Statistiques sur un array\n",
        "\n",
        "Pour les statistiques descriptives classiques, `numpy` propose un certain nombre de fonctions déjà implémentées,\n",
        "qui peuvent être combinées avec l’argument `axis`\n",
        "\n",
        "{{% box status=“exercise” title=“Exercise 5” icon=“fas fa-pencil-alt” %}}\n",
        "\n",
        "1.  Faire la somme de tous les éléments d’un `array`, des éléments en ligne et des éléments en colonne. Vérifier\n",
        "    la cohérence\n",
        "2.  Ecrire une fonction `statdesc` pour renvoyer les valeurs suivantes : moyenne, médiane, écart-type, minimum et maximum.\n",
        "    L’appliquer sur `x` en jouant avec l’argument axis\n",
        "\n",
        "{{% /box %}}\n",
        "\n",
        "### Fonctions de manipulation\n",
        "\n",
        "Voici quelques fonctions pour modifier un array,\n",
        "\n",
        "| Opération                                                      | Implémentation                                  |\n",
        "|------------------------------|------------------------------------------|\n",
        "| Applatir un array                                              | `x.flatten()` (méthode)                         |\n",
        "| Transposer un array                                            | `x.T` (méthode) ou `np.transpose(x)` (fonction) |\n",
        "| Ajouter des éléments à la fin                                  | `np.append(x, [1,2])`                           |\n",
        "| Ajouter des éléments à un endroit donné (aux positions 1 et 2) | `np.insert(x, [1,2], 3)`                        |\n",
        "| Supprimer des éléments (aux positions 0 et 3)                  | `np.delete(x, [0,3])`                           |\n",
        "\n",
        "Pour combiner des array, on peut utiliser, selon les cas,\n",
        "les fonctions `np.concatenate`, `np.vstack` ou la méthode `.r_` (concaténation *rowwise*).\n",
        "`np.hstack` ou la méthode `.column_stack` ou `.c_` (concaténation *column-wise*)"
      ],
      "id": "3b33b979-9973-4d90-b749-412b045e4a98"
    },
    {
      "cell_type": "code",
      "execution_count": 18,
      "metadata": {},
      "outputs": [],
      "source": [
        "x = np.random.normal(size = 10)"
      ],
      "id": "27ae0d90-374b-4434-98b5-7d59f70c0b95"
    },
    {
      "cell_type": "markdown",
      "metadata": {},
      "source": [
        "Pour ordonner un array, on utilise `np.sort`"
      ],
      "id": "ecb05af7-ccd7-48a6-8104-dbca9f177219"
    },
    {
      "cell_type": "code",
      "execution_count": 19,
      "metadata": {},
      "outputs": [
        {
          "output_type": "display_data",
          "metadata": {},
          "data": {
            "text/plain": [
              "array([1, 2, 3, 4, 5, 6, 7])"
            ]
          }
        }
      ],
      "source": [
        "x = np.array([7, 2, 3, 1, 6, 5, 4])\n",
        "\n",
        "np.sort(x)"
      ],
      "id": "b594afe9-ef4e-458c-aab0-8551d7a44006"
    },
    {
      "cell_type": "markdown",
      "metadata": {},
      "source": [
        "Si on désire faire un ré-ordonnement partiel pour trouver les *k* valeurs les plus petites d’un `array` sans les ordonner, on utilise `partition`:"
      ],
      "id": "0a52c642-9cb3-4b13-a680-90650cebb723"
    },
    {
      "cell_type": "code",
      "execution_count": 20,
      "metadata": {},
      "outputs": [
        {
          "output_type": "display_data",
          "metadata": {},
          "data": {
            "text/plain": [
              "array([2, 1, 3, 4, 6, 5, 7])"
            ]
          }
        }
      ],
      "source": [
        "np.partition(x, 3)"
      ],
      "id": "ce7e2a44-81bd-437a-92bf-eb3771fe87ff"
    },
    {
      "cell_type": "markdown",
      "metadata": {},
      "source": [
        "## Broadcasting\n",
        "\n",
        "Le *broadcasting* désigne un ensemble de règles permettant\n",
        "d’appliquer des opérations sur des tableaux de dimensions différentes. En pratique,\n",
        "cela consiste généralement à appliquer une seule opération à l’ensemble des membres d’un tableau `numpy`.\n",
        "\n",
        "La différence peut être comprise à partir de l’exemple suivant. Le *broadcasting* permet\n",
        "de transformer le scalaire `5` en *array* de dimension 3:"
      ],
      "id": "ba49005f-dc79-4248-9c3f-74ee6926bebf"
    },
    {
      "cell_type": "code",
      "execution_count": 21,
      "metadata": {},
      "outputs": [
        {
          "output_type": "display_data",
          "metadata": {},
          "data": {
            "text/plain": [
              "array([5, 6, 7])"
            ]
          }
        }
      ],
      "source": [
        "a = np.array([0, 1, 2])\n",
        "\n",
        "b = np.array([5, 5, 5])\n",
        "\n",
        "a + b\n",
        "a + 5"
      ],
      "id": "d360de7f-0ede-49ef-aa36-3519bf16655b"
    },
    {
      "cell_type": "markdown",
      "metadata": {},
      "source": [
        "Le *broadcasting* peut être très pratique pour effectuer de manière efficace des opérations sur des données à\n",
        "la structure complexe. Pour plus de détails, se rendre\n",
        "[ici](https://jakevdp.github.io/PythonDataScienceHandbook/02.05-computation-on-arrays-broadcasting.html) ou [ici](https://stackoverflow.com/questions/47435526/what-is-the-meaning-of-axis-1-in-keras-argmax).\n",
        "\n",
        "## Une application: programmer ses propres k-nearest neighbors"
      ],
      "id": "832f3426-dcfb-4227-a018-aa13984f3370"
    },
    {
      "cell_type": "raw",
      "metadata": {
        "raw_mimetype": "text/html"
      },
      "source": [
        "<!----\n",
        "L'idée de cet exercice vient de\n",
        "[là](https://jakevdp.github.io/PythonDataScienceHandbook/02.08-sorting.html#Example:-k-Nearest-Neighbors). \n",
        "------>"
      ],
      "id": "c4c567aa-074a-4563-9d47-133d768848f1"
    },
    {
      "cell_type": "markdown",
      "metadata": {},
      "source": [
        "{{% box status=“exercise” title=“Exercise (un peu corsé)” icon=“fas fa-pencil-alt” %}}\n",
        "\n",
        "1.  Créer `X` un tableau à deux dimensions (i.e. une matrice) comportant 10 lignes\n",
        "    et 2 colonnes. Les nombres dans le tableau sont aléatoires.\n",
        "2.  Importer le module `matplotlib.pyplot` sous le nom `plt`. Utiliser\n",
        "    `plt.scatter` pour représenter les données sous forme de nuage de points.\n",
        "3.  Constuire une matrice 10x10 stockant, à l’élément $(i,j)$, la distance euclidienne entre les points $X[i,]$ et $X[j,]$. Pour cela, il va falloir jouer avec les dimensions en créant des tableaux emboîtés à partir par des appels à `np.newaxis` :\n",
        "\n",
        "-   En premier lieu, utiliser `X1 = X[:, np.newaxis, :]` pour transformer la matrice en tableau emboîté. Vérifier les dimensions\n",
        "-   Créer `X2` de dimension `(1, 10, 2)` à partir de la même logique\n",
        "-   En déduire, pour chaque point, la distance avec les autres points pour chaque coordonnées. Elever celle-ci au carré\n",
        "-   A ce stade, vous devriez avoir un tableau de dimension `(10, 10, 2)`. La réduction à une matrice s’obtient en sommant sur le dernier axe. Regarder dans l’aide de `np.sum` comme effectuer une somme sur le dernier axe.\n",
        "-   Enfin, appliquer la racine carrée pour obtenir une distance euclidienne en bonne et due forme.\n",
        "\n",
        "1.  Vérifier que les termes diagonaux sont bien nuls (distance d’un point à lui-même…)\n",
        "2.  Il s’agit maintenant de classer, pour chaque point, les points dont les valeurs sont les plus similaires. Utiliser `np.argsort` pour obtenir, pour chaque ligne, le classement des points les plus proches\n",
        "3.  On va s’intéresser aux k-plus proches voisins. Pour le moment, fixons k=2. Utiliser `argpartition` pour réordonner chaque ligne de manière à avoir les 2 plus proches voisins de chaque point d’abord et le reste de la ligne ensuite\n",
        "4.  Utiliser le morceau de code ci-dessous\n",
        "\n",
        "``` python\n",
        "plt.scatter(X[:, 0], X[:, 1], s=100)\n",
        "\n",
        "# draw lines from each point to its two nearest neighbors\n",
        "K = 2\n",
        "\n",
        "for i in range(X.shape[0]):\n",
        "    for j in nearest_partition[i, :K+1]:\n",
        "        # plot a line from X[i] to X[j]\n",
        "        # use some zip magic to make it happen:\n",
        "        plt.plot(*zip(X[j], X[i]), color='black')\n",
        "```\n",
        "\n",
        "pour représenter graphiquement le réseau de plus proches voisins\n",
        "\n",
        "{{% /box %}}\n",
        "\n",
        "Pour la question 2, vous devriez obtenir un graphique ayant cet aspect :\n",
        "\n",
        "![](attachment:scatter_numpy.png)\n",
        "\n",
        "Le résultat de la question 7 est le suivant:\n",
        "\n",
        "![](attachment:knn.png)\n",
        "\n",
        "Ai-je inventé cet exercice corsé ? Pas du tout, il [vient de là](https://jakevdp.github.io/PythonDataScienceHandbook/02.08-sorting.html#Example:-k-Nearest-Neighbors). Mais, si je vous l’avais indiqué immédiatement, auriez-vous cherché à répondre aux questions ?\n",
        "\n",
        "Par ailleurs, il ne serait pas une bonne idée de généraliser cet algorithme à de grosses données. La complexité de notre approche est $O(N^2)$. L’algorithme implémenté par Scikit-learn est\n",
        "en $O[NlogN]$.\n",
        "\n",
        "De plus, le calcul de distances matricielles en utilisant la puissance des cartes graphiques serait plus rapide. A cet égard, la librairie [faiss](https://github.com/facebookresearch/faiss) offre des performances beaucoup plus satisfaisantes que celles que permettraient `numpy` sur ce problème précis."
      ],
      "attachments": {
        "knn.png": {
          "image/png": "[encoded data removed]"
        },
        "scatter_numpy.png": {
          "image/png": "[encoded data removed]"
        }
      },
      "id": "61de782b-94a6-4b5c-8c60-ad7f3681d422"
    },
    {
      "cell_type": "raw",
      "metadata": {
        "raw_mimetype": "text/html"
      },
      "source": [
        "<!-----\n",
        "## Restructuration, concaténation et division\n",
        "\n",
        "* Pour restructurer un `array`, c'est-à-dire changer ses dimensions, le plus simple est d'utiliser la méthode `reshape`. Par exemple, pour \n",
        "\n",
        "np.reshape\n",
        "np.concatenate\n",
        "np.split, np.hsplit, and np.vsplit\n",
        "----->"
      ],
      "id": "9bd502bd-8198-47b2-ba4a-00a40d48aa66"
    },
    {
      "cell_type": "markdown",
      "metadata": {},
      "source": [
        "## Exercices supplémentaires\n",
        "\n",
        "-   Simulations de variables aléatoires ;\n",
        "-   TCL ;\n",
        "-   Pagerank"
      ],
      "id": "a8199362-a737-4e1c-836e-8011bf182a61"
    },
    {
      "cell_type": "code",
      "execution_count": 25,
      "metadata": {},
      "outputs": [],
      "source": [
        "\"\"\"PageRank algorithm with explicit number of iterations.\n",
        "\n",
        "Returns\n",
        "-------\n",
        "ranking of nodes (pages) in the adjacency matrix\n",
        "\n",
        "\"\"\"\n",
        "\n",
        "import numpy as np\n",
        "\n",
        "def pagerank(M, num_iterations: int = 100, d: float = 0.85):\n",
        "    \"\"\"PageRank: The trillion dollar algorithm.\n",
        "\n",
        "    Parameters\n",
        "    ----------\n",
        "    M : numpy array\n",
        "        adjacency matrix where M_i,j represents the link from 'j' to 'i', such that for all 'j'\n",
        "        sum(i, M_i,j) = 1\n",
        "    num_iterations : int, optional\n",
        "        number of iterations, by default 100\n",
        "    d : float, optional\n",
        "        damping factor, by default 0.85\n",
        "\n",
        "    Returns\n",
        "    -------\n",
        "    numpy array\n",
        "        a vector of ranks such that v_i is the i-th rank from [0, 1],\n",
        "        v sums to 1\n",
        "\n",
        "    \"\"\"\n",
        "    N = M.shape[1]\n",
        "    v = np.random.rand(N, 1)\n",
        "    v = v / np.linalg.norm(v, 1)\n",
        "    M_hat = (d * M + (1 - d) / N)\n",
        "    for i in range(num_iterations):\n",
        "        v = M_hat @ v\n",
        "    return v\n",
        "\n",
        "M = np.array([[0, 0, 0, 0, 1],\n",
        "              [0.5, 0, 0, 0, 0],\n",
        "              [0.5, 0, 0, 0, 0],\n",
        "              [0, 1, 0.5, 0, 0],\n",
        "              [0, 0, 0.5, 1, 0]])\n",
        "v = pagerank(M, 100, 0.85)"
      ],
      "id": "e469eb5e-81d0-4012-9031-af7568f7a0f5"
    }
  ],
  "nbformat": 4,
  "nbformat_minor": 5,
  "metadata": {
    "kernelspec": {
      "name": "python3",
      "display_name": "Python 3 (ipykernel)",
      "language": "python"
    },
    "language_info": {
      "name": "python",
      "codemirror_mode": {
        "name": "ipython",
        "version": "3"
      },
      "file_extension": ".py",
      "mimetype": "text/x-python",
      "nbconvert_exporter": "python",
      "pygments_lexer": "ipython3",
      "version": "3.9.12"
    }
  }
}