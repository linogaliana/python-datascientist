{
  "cells": [
    {
      "cell_type": "raw",
      "metadata": {},
      "source": [
        "---\n",
        "title: \"Introduction à dask grâce aux données DVF\"\n",
        "date: 2022-08-30T15:00:00Z\n",
        "draft: false\n",
        "weight: 90\n",
        "slug: dask\n",
        "type: book\n",
        "tags:\n",
        "  - dask\n",
        "  - Manipulation\n",
        "  - DVF\n",
        "categories:\n",
        "  - Tutoriel\n",
        "  - Manipulation\n",
        "summary: |\n",
        "  `pandas` peut rapidement trouver ses limites lorsqu'on\n",
        "  désire exploiter des données volumineuses. Pour ces\n",
        "  dernières, il existe des librairies plus\n",
        "  adaptées que `pandas`. L'une d'elle est\n",
        "  `dask` qui fournit une syntaxe très proche de\n",
        "  celle de `pandas` mais avec, en arrière-plan, \n",
        "  un _framework_ plus adapté aux données \n",
        "  volumineuses.\n",
        "image: featured.png\n",
        "---"
      ],
      "id": "051d54b7"
    },
    {
      "cell_type": "markdown",
      "metadata": {},
      "source": [
        "Pour essayer les exemples présents dans ce tutoriel : \n",
        "\n",
        "::: {.cell .markdown}"
      ],
      "id": "5f43e197"
    },
    {
      "cell_type": "code",
      "metadata": {},
      "source": [
        "#| output: asis\n",
        "#| include: true\n",
        "#| eval: true\n",
        "\n",
        "import sys\n",
        "sys.path.insert(1, '../../../../') #insert the utils module\n",
        "from utils import print_badges\n",
        "\n",
        "#print_badges(__file__)\n",
        "print_badges(\"content/course/manipulation/07_dask.qmd\")"
      ],
      "id": "3ce4bdd1",
      "execution_count": null,
      "outputs": []
    },
    {
      "cell_type": "markdown",
      "metadata": {},
      "source": [
        ":::\n",
        "\n",
        "\n",
        "La documentation complète sur `Dask` se trouve sur <https://docs.dask.org/>. \n",
        "\n",
        "Le projet requiert l'installation de `dask`. Afin d'avoir\n",
        "la distribution complète on utilise la commande suivante:\n",
        "\n",
        "```shell\n",
        "pip install dask[complete]\n",
        "```\n",
        "\n",
        "# Pourquoi utiliser  `Dask` ?\n",
        "\n",
        "On peut se référer à la page https://docs.dask.org/en/stable/why.html\n",
        "\n",
        "Plusieurs points sont mis en avant dans la documentation officielle et sont résumés ci-dessous: \n",
        "- `Dask` ressemble fortement en termes de syntaxe à `pandas` et `numpy` ;\n",
        "- `Dask` peut être utilisé sur un ordinateur seul ou sur un _cloud cluster_. Avec `Dask`, on peut traiter des bases de 100GB sur un ordinateur portable, voire même 1TB sans même avoir besoin d'un cluster _big data_ ;\n",
        "- `Dask` requiert peu de temps d'installation puisqu'il peut être installé avec le gestionnaire de _packages_ `conda` (il est même livré dans la distribution par défaut d'Anaconda)\n",
        "\n",
        "## Comment `Dask` se compare à `Spark` ?\n",
        "\n",
        "Dans le monde du _big-data_, un écosystème concurrent existe: [`Spark`](https://spark.apache.org/). Globalement, lorsqu'on a compris la logique\n",
        "de l'un, il est très facile de faire la transition vers l'autre si besoin<a name=\"cite_ref-1\"></a>[<sup>[1]</sup>](#cite_note-1). Pour ma part, j'ai principalement fait du `Spark` sur\n",
        "des [données de téléphonie de plusieurs TB](https://www.linogaliana.fr/publication/2020-segregation/). En fait, la logique sera la même que celle de `Dask` sur données moins volumineuses.\n",
        "\n",
        "\n",
        "```{=html}\n",
        "<a name=\"cite_note-1\"></a>1. [^](#cite_ref-1)\n",
        "```\n",
        "\n",
        " Sauf si on doit mettre en oeuvre soi-même l'infrastructure `Spark`, ce qui relève plus des compétences du _data architect_ que du _data scientist_.\n",
        "\n",
        "\n",
        "- `Spark` est écrit en `Scala` à l'origine. Le package [`pyspark`](https://spark.apache.org/docs/latest/api/python/) permet d'écrire en `Python` et s'assure de la traduction en `Python` afin d'interagir avec les machines virtuelles `Java` (JVM) nécessaires pour la parallélisation des opérations `Spark`. `Dask` est quant à lui écrit en Python, ce qui est un écosystème plus léger. Pour gagner en performance, il permet d'interagir avec du code C/C++ entre autres ;\n",
        "- L'installation de `Spark` est plus lourde que celle de `Dask`\n",
        "- `Spark` est un projet Apache en lui-même alors que `Dask` intervient comme une composante de l'univers `Python`;\n",
        "- `Spark` est un peu plus vieux (2010 versus 2014 pour `Dask`) ;\n",
        "- `Spark` permet de très bien faire des opérations classiques SQL et des ETLs, et proposer ses propres librairies de parallélisation de modèles de _machine learning_. Pour faire du _machine learning_ avec `Spark` il faut aller piocher dans `Spark MLLib`. `Dask` permet quant à lui de bien interagir avec `scikit-learn` et de faire de la modélisation. \n",
        "\n",
        "Globalement, il faut retenir que `Dask` comme `Spark` ne sont intéressants que pour des données dont le traitement engendre des problèmes de RAM. Autrement, il\n",
        "vaut mieux se contenter de `pandas`. \n",
        "\n",
        "# Démonstration de quelques _features_ de `Dask`\n",
        "\n",
        "## Présentation du `Dask.DataFrame`\n",
        "\n",
        "Nous allons utiliser les [données immobilières `DVF`](https://www.data.gouv.fr/fr/datasets/demandes-de-valeurs-foncieres/) pour montrer quelques éléments clefs de `Dask`.\n"
      ],
      "id": "53a44ece"
    },
    {
      "cell_type": "code",
      "metadata": {},
      "source": [
        "# Import dvf files \n",
        "import pandas as pd\n",
        "import dask.dataframe as dd\n",
        "\n",
        "d_urls = {\n",
        "    \"2019\" : 'https://www.data.gouv.fr/fr/datasets/r/3004168d-bec4-44d9-a781-ef16f41856a2',\n",
        "    \"2020\" : \"https://www.data.gouv.fr/fr/datasets/r/90a98de0-f562-4328-aa16-fe0dd1dca60f\",\n",
        "    \"2021\": \"https://www.data.gouv.fr/fr/datasets/r/817204ac-2202-4b4a-98e7-4184d154d98c\"\n",
        "}\n",
        "\n",
        "\n",
        "def import_dvf_one_year(year, dict_url = d_urls):\n",
        "    df = pd.read_csv(dict_url[year], sep = \"|\", decimal=\",\")\n",
        "    df[\"year\"] = year\n",
        "    return df\n",
        "\n",
        "def import_dvf_all_years(dict_url = d_urls):\n",
        "    dfs = [import_dvf_one_year(y, dict_url) for y in dict_url.keys()]\n",
        "    df = pd.concat(dfs).reset_index()\n",
        "    df = df.drop([\"level_0\", \"level_1\"], axis=1)\n",
        "    return df"
      ],
      "id": "e88312fe",
      "execution_count": null,
      "outputs": []
    },
    {
      "cell_type": "markdown",
      "metadata": {},
      "source": [
        "Dans un premier temps, on va utiliser `pandas` pour \n",
        "importer une année de données (millésime 2019), ces dernières tenant en mémoire\n",
        "sur un ordinateur normalement doté en RAM```{=html}\n",
        "<a name=\"cite_note-1\"></a>1. [^](#cite_ref-1)\n",
        "```\n"
      ],
      "id": "07e06e7b"
    },
    {
      "cell_type": "code",
      "metadata": {},
      "source": [
        "dvf = import_dvf_one_year(\"2019\")\n",
        "dvf.shape\n",
        "dvf.head()"
      ],
      "id": "dd711a46",
      "execution_count": null,
      "outputs": []
    },
    {
      "cell_type": "markdown",
      "metadata": {},
      "source": [
        "```{=html}\n",
        "<a name=\"cite_note-1\"></a>1. [^](#cite_ref-1)\n",
        "```\n",
        "\n",
        " Ce site web est testé sur les serveurs d'intégration\n",
        "continue mis à disposition gratuitement par `Github`. Ces\n",
        "derniers sont des machines à la mémoire limitée. Il s'agit\n",
        "d'un bon exemple d'intérêt de `dask`: avec `pandas`, on ne\n",
        "peut tester les exemples sur les trois millésimes disponibles\n",
        "car la volumétrie accède la RAM disponible. \n",
        "\n",
        "Ici on travaille sur un `DataFrame` d'environ 3.5 millions de lignes et 44 variables. \n",
        "L'objet `dvf` est un `pandas.DataFrame`\n",
        "qui tient en mémoire sur le `SSP-Cloud` ou sur les serveurs utilisés\n",
        "pour construire ce site web. \n",
        "\n",
        "::: {.cell .markdown}\n",
        "\n",
        "```{=html}\n",
        "<div class=\"alert alert-success\" role=\"alert\" style=\"color: rgba(0,0,0,.8); background-color: white; margin-top: 1em; margin-bottom: 1em; margin:1.5625emauto; padding:0 .6rem .8rem!important;overflow:hidden; page-break-inside:avoid; border-radius:.25rem; box-shadow:0 .2rem .5rem rgba(0,0,0,.05),0 0 .05rem rgba(0,0,0,.1); transition:color .25s,background-color .25s,border-color .25s ; border-right: 1px solid #dee2e6 ; border-top: 1px solid #dee2e6 ; border-bottom: 1px solid #dee2e6 ; border-left:.2rem solid #3fb618;\">\n",
        "<h3 class=\"alert-heading\"><i class=\"fa fa-pencil\"></i> Exercice 1</h3>\n",
        "```\n",
        "\n",
        "\n",
        "On aurait pu lire directement les csv dans un `dask.DataFrame` avec le `read_csv` de `dask`. Comme exercice, vous pouvez essayer de le faire\n",
        "pour une année (analogue de la fonction `import_dvf_one_year`) puis sur toutes les données (analogue de la fonction `import_dvf_all_years`).\n",
        "\n",
        "\n",
        "```{=html}\n",
        "</div>\n",
        "```\n",
        "\n",
        ":::\n",
        "\n",
        "\n",
        "\n",
        "On peut créer une structure `Dask` directement à partir\n",
        "d'un `DataFrame` `pandas` avec la méthode `from_pandas`. \n"
      ],
      "id": "c9f29c1f"
    },
    {
      "cell_type": "code",
      "metadata": {},
      "source": [
        "dvf_dd = dd.from_pandas(dvf, npartitions=10) \n",
        "dvf_dd"
      ],
      "id": "a64e7359",
      "execution_count": null,
      "outputs": []
    },
    {
      "cell_type": "markdown",
      "metadata": {},
      "source": [
        "Pour souligner la différence avec un `pandas.DataFrame`,\n",
        "l'affichage diffère. Seule la structure du `dask.DataFrame`\n",
        "est affichée et non son contenu car les données\n",
        "`dask` ne sont pas chargées en mémoire. \n",
        "\n",
        "\n",
        "::: {.cell .markdown}\n",
        "\n",
        "```{=html}\n",
        "<div class=\"alert alert-danger\" role=\"alert\" style=\"color: rgba(0,0,0,.8); background-color: white; margin-top: 1em; margin-bottom: 1em; margin:1.5625emauto; padding:0 .6rem .8rem!important;overflow:hidden; page-break-inside:avoid; border-radius:.25rem; box-shadow:0 .2rem .5rem rgba(0,0,0,.05),0 0 .05rem rgba(0,0,0,.1); transition:color .25s,background-color .25s,border-color .25s ; border-right: 1px solid #dee2e6 ; border-top: 1px solid #dee2e6 ; border-bottom: 1px solid #dee2e6 ; border-left: .2rem solid #ff0039;\">\n",
        "<i class=\"fa fa-exclamation-triangle\"></i> Warning</h3>\n",
        "```\n",
        "\n",
        "Attention, `Dask` ne peut créer un `Dask.DataFrame` à partir d'un `pandas.DataFrame` multi-indexé.\n",
        "\n",
        "Dans ce cas il a fallu faire un `reset_index()` pour avoir un unique index.\n",
        "\n",
        "\n",
        "\n",
        "```{=html}\n",
        "</div>\n",
        "```\n",
        "\n",
        ":::\n",
        "\n",
        "\n",
        "On a ainsi la structure de notre `dask.DataFrame`, soit environ 3.5 millions de lignes, avec 44 colonnes en 10 partitions, soit environ 350 000 observations par partition. \n",
        "\n",
        "Il faut savoir que `Dask` produit des `Array`, `Bag` et `DataFrames`, qui fonctionnent comme dans `Numpy` et `Pandas` (il est possible de créer d'autres structures _ad hoc_, cf plus loin).\n",
        "`Dask`, comme `Spark` et en fait comme la plupart des _frameworks_ permettant de\n",
        "traiter des données plus volumineuses que la RAM disponible, \n",
        "repose sur le principe du partitionnement et de la parallélisation\n",
        "des opérations. Les données ne sont jamais importées dans leur\n",
        "ensemble mais par bloc. Un plan des opérations à effectuer est\n",
        "ensuite appliquer sur chaque bloc (nous reviendrons\n",
        "sur ce principe), indépendamment. La particularité de `Dask`,\n",
        "par rapport à `Spark`, \n",
        "est que chaque bloc est un `pandas.DataFrame`, ce qui \n",
        "rend très facile l'application de manipulations de données\n",
        "traditionnelles sur des sources volumineuses:\n",
        "\n",
        "![](https://docs.dask.org/en/stable/_images/dask-dataframe.svg)\n",
        "\n",
        "Le site de `Dask` cite une règle qui est la suivante : \n",
        "\n",
        "> *\"Have 5 to 10 times as much RAM as the size of your dataset\"*, \n",
        ">\n",
        "> @mckinney2017apache, [*10 things I hate about pandas*](https://wesmckinney.com/blog/apache-arrow-pandas-internals/)\n",
        "\n",
        "Sur disque, en sauvegardant en `CSV`, on\n",
        "obtient une base de 1.4GB. Si l'on suit la règle du pouce donnée plus haut, on va avoir besoin d'une RAM entre 7-14GB pour traiter la donnée, en fonction de nos traitements qui seront plus ou moins intensifs. Autrement dit, si on a moins de 8GB de RAM, il devient intéressant de faire appel à `dask`, sinon il vaut mieux privilégier `pandas` (sauf si on fait des\n",
        "traitements très intensifs en calculs).\n",
        "\n",
        "Il existe un autre objet `dask`, les `Array` pour reprendre la logique de `numpy`. De la même manière qu'un `dask.DataFrame` est en quelque sorte un ensemble de `pandas.DataFrame`, un `dask.Array` est un ensemble de `numpy.Array` qui sont plus importants en taille que la RAM. On pourra utiliser les opérations courantes `numpy` avec `dask` de la même manière que le `dask DataFrame` réplique la logique du `pandas DataFrame`. \n",
        "\n",
        "\n",
        "::: {.cell .markdown}\n",
        "\n",
        "```{=html}\n",
        "<div class=\"alert alert-warning\" role=\"alert\" style=\"color: rgba(0,0,0,.8); background-color: white; margin-top: 1em; margin-bottom: 1em; margin:1.5625emauto; padding:0 .6rem .8rem!important;overflow:hidden; page-break-inside:avoid; border-radius:.25rem; box-shadow:0 .2rem .5rem rgba(0,0,0,.05),0 0 .05rem rgba(0,0,0,.1); transition:color .25s,background-color .25s,border-color .25s ; border-right: 1px solid #dee2e6 ; border-top: 1px solid #dee2e6 ; border-bottom: 1px solid #dee2e6 ; border-left:.2rem solid #ffc10780;\">\n",
        "<h3 class=\"alert-heading\"><i class=\"fa fa-lightbulb-o\"></i> Hint</h3>\n",
        "```\n",
        "\n",
        "\n",
        "Le choix du nombre de partition (10) est arbitraire ici. Bien qu'on puisse\n",
        "trouver des règles du pouce pour fixer un nombre optimal de\n",
        "partitions, cela dépend de beaucoup de facteurs et, en pratique,\n",
        "rien ne remplace l'essai-erreur. Par exemple, [la documentation `Dask` recommande des blocs d'environ\n",
        "100MB](https://docs.dask.org/en/stable/dataframe-best-practices.html)\n",
        "ce qui peut convenir pour des ordinateurs à la RAM limitée mais n'a pas\n",
        "forcément de sens pour des machines ayant 16GB de RAM.\n",
        "Un nombre important de partition va permettre de faire des opérations\n",
        "sur des petits blocs de données, ce qui permettra de gagner en vitesse\n",
        "d'exécution. Le prix à payer est beaucoup _d'input/output_ car\n",
        "`Dask` va passer du temps à lire beaucoup de blocs de données et écrire\n",
        "des bases intermédiaires.\n",
        "\n",
        "\n",
        "```{=html}\n",
        "</div>\n",
        "```\n",
        "\n",
        ":::\n",
        "\n",
        "\n",
        "On peut accéder aux index que couvrent les partitions de la manière suivante:\n"
      ],
      "id": "5aecc543"
    },
    {
      "cell_type": "code",
      "metadata": {},
      "source": [
        "dvf_dd.divisions"
      ],
      "id": "5fd2db19",
      "execution_count": null,
      "outputs": []
    },
    {
      "cell_type": "code",
      "metadata": {},
      "source": [
        "#| output: asis\n",
        "print(f\"Autrement dit, la première partition couvrira les lignes {dvf_dd.divisions[0]} à {dvf_dd.divisions[1]}. La deuxième les lignes {dvf_dd.divisions[1]+1} à {dvf_dd.divisions[2]}, etc.\")"
      ],
      "id": "52fb7691",
      "execution_count": null,
      "outputs": []
    },
    {
      "cell_type": "markdown",
      "metadata": {},
      "source": [
        "Et on peut directement accéder à une partition grâce aux crochets `[]`:\n"
      ],
      "id": "c623442f"
    },
    {
      "cell_type": "code",
      "metadata": {},
      "source": [
        "dvf_dd.partitions[0]"
      ],
      "id": "45916cdc",
      "execution_count": null,
      "outputs": []
    },
    {
      "cell_type": "markdown",
      "metadata": {},
      "source": [
        "## La *\"lazy evaluation\"*\n",
        "\n",
        "`Dask` fait de la **\"lazy evaluation\"**. Cela signifie que le résultat n'est calculé que si on le demande explicitement. Dans le cas, contraire, ce que l'on appelle un `dask` **task graph** est produit (on verra plus bas comment voir ce *graph*). \n",
        "\n",
        "Pour demander explicitement le résultat d'un calcul, il faut utiliser la\n",
        "méthode `compute`. \n",
        "A noter que certaines méthodes vont déclencher un `compute` directement, comme par exemple `len` ou `head`. \n",
        "\n",
        "Par exemple, pour afficher le contenu des 100 premières lignes :\n"
      ],
      "id": "bef5614e"
    },
    {
      "cell_type": "code",
      "metadata": {},
      "source": [
        "dvf_dd.loc[0:100,:].compute()"
      ],
      "id": "85a1106b",
      "execution_count": null,
      "outputs": []
    },
    {
      "cell_type": "markdown",
      "metadata": {},
      "source": [
        "Ce qui est pratique avec `dask.dataframe` c'est que de nombreuses méthodes sont semblables à celles de `pandas`. Par exemple, si l'on souhaite connaitre les types de locaux présents dans la base en 2019:\n"
      ],
      "id": "da2cb73a"
    },
    {
      "cell_type": "code",
      "metadata": {},
      "source": [
        "dvf_dd.loc[:,\"Type local\"].value_counts().compute()"
      ],
      "id": "86f1604c",
      "execution_count": null,
      "outputs": []
    },
    {
      "cell_type": "markdown",
      "metadata": {},
      "source": [
        "A titre de comparaison, comparons les temps de calculs entre `pandas` et `dask` ici:\n"
      ],
      "id": "2129d14f"
    },
    {
      "cell_type": "code",
      "metadata": {},
      "source": [
        "import time\n",
        "start_time = time.time()\n",
        "dvf_dd.loc[:,\"Type local\"].value_counts().compute()\n",
        "print(f\"{time.time() - start_time} seconds\")"
      ],
      "id": "6d74327e",
      "execution_count": null,
      "outputs": []
    },
    {
      "cell_type": "code",
      "metadata": {},
      "source": [
        "start_time = time.time()\n",
        "dvf.loc[:,\"Type local\"].value_counts()\n",
        "print(f\"{time.time() - start_time} seconds\")"
      ],
      "id": "4c447589",
      "execution_count": null,
      "outputs": []
    },
    {
      "cell_type": "markdown",
      "metadata": {},
      "source": [
        "On se rend compte que le `pandas.DataFrame` a un temps de calcul plus court, mais c'est parce que `dask` va nous servir avant tout à lire des bases dont le traitement excède notre RAM. Donc, cette comparaison n'existera tout simplement pas car le `pandas.DataFrame` n'aura pas été chargé en RAM. **On voit dans cet exemple que lorsque le traitement du `DataFrame` tient en RAM, l'utilisation de `Dask` est inutile**.\n",
        "\n",
        "Les méthodes dans `Dask` peuvent être chainées, comme dans `pandas`, par exemple, on pourra écrire: \n"
      ],
      "id": "7e6f719c"
    },
    {
      "cell_type": "code",
      "metadata": {},
      "source": [
        "mean_by_year = dvf_dd.loc[~dvf_dd[\"Surface terrain\"].isna(),[\"Surface terrain\", \"year\"]].groupby(\"year\").mean()"
      ],
      "id": "122d422e",
      "execution_count": null,
      "outputs": []
    },
    {
      "cell_type": "code",
      "metadata": {},
      "source": [
        "mean_by_year.compute()"
      ],
      "id": "bc174fac",
      "execution_count": null,
      "outputs": []
    },
    {
      "cell_type": "markdown",
      "metadata": {},
      "source": [
        "Le principe de la _lazy evaluation_ est donc d'annoncer à `Dask`\n",
        "qu'on va effectuer une série d'opération qui ne vont se réaliser\n",
        "que lorsqu'on fera un appel à `compute`. `Dask`, quant à lui, \n",
        "se chargera d'optimiser les traitements. \n",
        "Comme le plan d'action peut devenir difficile à suivre si on\n",
        "désire effectuer beaucoup d'opérations enchaînées, on peut\n",
        "vouloir visualiser le *graph* de computation de `dask`.\n",
        "Avec celui-ci, on voit toutes les étapes que jusqu'ici `dask` n'a pas *executé*\n",
        "et qu'il va devoir exécuter pour calculer le résultat (`compute()`).\n"
      ],
      "id": "0c08d786"
    },
    {
      "cell_type": "code",
      "metadata": {},
      "source": [
        "#| eval: false\n",
        "mean_by_year.dask"
      ],
      "id": "7e6e0296",
      "execution_count": null,
      "outputs": []
    },
    {
      "cell_type": "markdown",
      "metadata": {},
      "source": [
        "En l'occurence on voit l'enchaînement des étapes\n",
        "`from_pandas()`, `getitem`, `isna`, `inv` et `loc-series` qui résultent de nos filtres sur le `DataFrame`. Ensuite,\n",
        "on voit les étapes de `groupby` et, enfin, pour calculer la moyenne il convient de faire la somme et la division. Toutes ces étapes vont être effectuées quand on appelle `compute()` et pas avant (*lazy evaluation*).\n",
        "\n",
        "Afin de voir la structure du `dask.DataFrame` on peut utiliser la méthode `visualize()`\n"
      ],
      "id": "591c8d98"
    },
    {
      "cell_type": "code",
      "metadata": {},
      "source": [
        "dvf_dd.visualize() # attention graphviz est requis"
      ],
      "id": "b1f4d4f0",
      "execution_count": null,
      "outputs": []
    },
    {
      "cell_type": "markdown",
      "metadata": {},
      "source": [
        "::: {.cell .markdown}\n",
        "\n",
        "```{=html}\n",
        "<div class=\"alert alert-info\" role=\"alert\" style=\"color: rgba(0,0,0,.8); background-color: white; margin-top: 1em; margin-bottom: 1em; margin:1.5625emauto; padding:0 .6rem .8rem!important;overflow:hidden; page-break-inside:avoid; border-radius:.25rem; box-shadow:0 .2rem .5rem rgba(0,0,0,.05),0 0 .05rem rgba(0,0,0,.1); transition:color .25s,background-color .25s,border-color .25s ; border-right: 1px solid #dee2e6 ; border-top: 1px solid #dee2e6 ; border-bottom: 1px solid #dee2e6 ; border-left:.2rem solid #007bff80;\">\n",
        "<h3 class=\"alert-heading\"><i class=\"fa fa-comment\"></i> Note</h3>\n",
        "```\n",
        "\n",
        "\n",
        "`graphviz` est requis pour ce graphique. S'il n'est pas installé dans votre environnement, faire :\n",
        "\n",
        "```python\n",
        "!pip install graphviz\n",
        "```\n",
        "\n",
        "\n",
        "```{=html}\n",
        "</div>\n",
        "```\n",
        "\n",
        ":::\n",
        "\n",
        "\n",
        "Pour construire de véritables _pipelines_ de données,\n",
        "les principes du [`pipe` de `pandas`](https://docs.dask.org/en/stable/generated/dask.dataframe.Series.pipe.html) évoqué [dans cette partie du cours](#pandas/#les-pipe) et celui des [pipelines scikit](https://ml.dask.org/compose.html), évoqué [dans un chapitre dédié](#pipeline-scikit/)\n",
        "ont été importés dans `dask`. \n",
        "\n",
        "\n",
        "## Problèmes de lecture dus à des types problématiques\n",
        "\n",
        "La méthode `read_csv` de `dask` va inférer les types du `DataFrame` à partir d'échantillon, et va les implémenter sur tout le `DataFrame` seulement au moment d'une étape `compute`. \n",
        "\n",
        "Il peut donc y avoir des erreurs de types dûs à un échantillon ne prenant pas en compte certains cas particuliers, causant des erreurs dans la lecture du fichier.\n",
        "\n",
        "Dans ce cas, et comme de manière générale avec `pandas`, il peut être recommandé de faire appel au paramètre `dtype` de `read_csv` - qui est un `dict` - (la doc de `dask` nous dit aussi que l'on peut augmenter la taille de l'échantllon  `sample`).\n",
        "\n",
        "# Utiliser `dask` avec le format parquet\n",
        "\n",
        "Le format `parquet` tend à devenir le format\n",
        "de référence dans le monde de la _data-science_. \n",
        "Une présentation extensive de celui-ci est disponible\n",
        "dans le [chapitre dédié](#reads3).\n",
        "\n",
        "`dask` permet de lire le format `parquet`, et plus précisément d'utiliser des fonctionnalités spécifiques à ce format. La lecture et l'écriture en `parquet` reposent par défaut sur `pyarrow`. On peut aussi utiliser `fastparquet` et préciser dans la lecture/écriture ce que l'on souhaite des deux. \n"
      ],
      "id": "92790ac6"
    },
    {
      "cell_type": "code",
      "metadata": {},
      "source": [
        "dvf_net = dvf.loc[:,[ 'Date mutation', 'Nature mutation', 'Valeur fonciere', 'Commune', \n",
        "       'Code commune', 'Type local', 'Identifiant local', 'Surface reelle bati',\n",
        "       'Nombre pieces principales', 'Nature culture',\n",
        "       'Nature culture speciale', 'Surface terrain', 'year']]"
      ],
      "id": "99918458",
      "execution_count": null,
      "outputs": []
    },
    {
      "cell_type": "markdown",
      "metadata": {},
      "source": [
        "On va utiliser l'_engine_ par défaut pour\n",
        "l'écriture de `parquet` qui est `pyarrow` (faire `pip install pyarrow` si vous ne l'avez pas déjà installé). `to_parquet` qui est une méthode `pandas` a été également étendue aux objets `dask`:\n"
      ],
      "id": "cf21c9e3"
    },
    {
      "cell_type": "code",
      "metadata": {},
      "source": [
        "#| eval: false\n",
        "dvf_net.to_parquet(\"dvf/\", partition_cols=\"year\")"
      ],
      "id": "1c86fcbf",
      "execution_count": null,
      "outputs": []
    },
    {
      "cell_type": "markdown",
      "metadata": {},
      "source": [
        "Lorsqu'il est partitionné, le format `parquet` amène à une structure\n",
        "de fichiers similaire à [celle-ci](https://spark.apache.org/docs/latest/sql-data-sources-parquet.html#partition-discovery):\n",
        "\n",
        "```raw\n",
        "path\n",
        "└── to\n",
        "    └── table\n",
        "        ├── gender=male\n",
        "        │   ├── ...\n",
        "        │   │\n",
        "        │   ├── country=US\n",
        "        │   │   └── data.parquet\n",
        "        │   ├── country=CN\n",
        "        │   │   └── data.parquet\n",
        "        │   └── ...\n",
        "        └── gender=female\n",
        "            ├── ...\n",
        "            │\n",
        "            ├── country=US\n",
        "            │   └── data.parquet\n",
        "            ├── country=CN\n",
        "            │   └── data.parquet\n",
        "            └── ...\n",
        "```\n",
        "\n",
        "On peut alors facilement traiter un sous-échantillon des données,\n",
        "par exemple l'année 2019:\n"
      ],
      "id": "77fb54fe"
    },
    {
      "cell_type": "code",
      "metadata": {},
      "source": [
        "#| eval: false\n",
        "dvf_2019 = dd.read_parquet(\"dvf/year=2019/\", columns=[\"Date mutation\", \"Valeur fonciere\"]) # On peut sélectionner directement les deux colonnes"
      ],
      "id": "a1889656",
      "execution_count": null,
      "outputs": []
    },
    {
      "cell_type": "markdown",
      "metadata": {},
      "source": [
        "Lorsqu'il faudra passer à l'échelle, on changera le chemin en `\"dvf/`\n",
        "pour utiliser l'ensemble des données. \n",
        "\n",
        "# A quoi sert `persist` ?\n",
        "\n",
        "Par défaut, `compute` exécute l'ensemble du plan et ne conserve\n",
        "en mémoire que le résultat de celui-ci. Les données intermédiaires\n",
        "ne sont pas conservées. Si on désire réutiliser une partie de celui-ci, \n",
        "par exemple les premières étapes, on devra donc ré-effectuer\n",
        "les calculs. \n",
        "\n",
        "Il est possible de garder une partie des données en mémoire avec `persist()`. Les données sont sauvegardées dans des objets appelés `Futures`. Cela peut être intéressant si un bloc particulier de données est utilisé dans plusieurs `compute` ou si l'on a besoin de voir ce qu'il y a à l'intérieur souvent. \n"
      ],
      "id": "611f33e1"
    },
    {
      "cell_type": "code",
      "metadata": {},
      "source": [
        "dvf_dd_mem = dvf_dd.persist()"
      ],
      "id": "231f3e3b",
      "execution_count": null,
      "outputs": []
    },
    {
      "cell_type": "code",
      "metadata": {},
      "source": [
        "#| eval: false\n",
        "start_time = time.time()\n",
        "dvf_dd_mem.head()\n",
        "print(f\"{time.time() - start_time} seconds\")"
      ],
      "id": "f5afb539",
      "execution_count": null,
      "outputs": []
    },
    {
      "cell_type": "code",
      "metadata": {},
      "source": [
        "start_time = time.time()\n",
        "dvf_dd.head()\n",
        "print(f\"{time.time() - start_time} seconds\")"
      ],
      "id": "c0ad93da",
      "execution_count": null,
      "outputs": []
    },
    {
      "cell_type": "markdown",
      "metadata": {},
      "source": [
        "On a bien un temps plus important avec le `dask.DataFrame` initial, comparé avec celui sur lequel on a utilisé `persist`. L'opération qu'on réalise ici étant peu complexe, la différence n'est pas substantielle. Elle serait beaucoup plus marquée avec un jeu de données plus volumineux ou des étapes intensives en calcul. \n",
        "\n",
        "\n",
        "# Aller plus loin: Utiliser le decorator `dask.delayed` pour paralléliser du code\n",
        "\n",
        "Il est possible de paralléliser des fonctions par exemple en utilisant le **decorator** `dask.delayed`. Cela permet de rendre les fonctions `lazy`. Cela signifie que lorsqu'on appelle la fonction, un `delayed object` est construit. Pour avoir le résultat, il faut faire un `compute`. Pour aller plus loin: <https://tutorial.dask.org/03_dask.delayed.html>.\n",
        "\n",
        "Prenons par exemple des fonctions permettant de calculer\n",
        "des aires et des périmètres. Comme il s'agit d'une opération\n",
        "très peu complexe, on ajoute un délai de calcul avec `time.sleep`\n",
        "pour que le _timer_ ne nous suggère pas que l'opération est\n",
        "instantanée. \n"
      ],
      "id": "48127e71"
    },
    {
      "cell_type": "code",
      "metadata": {},
      "source": [
        "def aire_carre(longueur):\n",
        "    time.sleep(1)\n",
        "    return longueur**2\n",
        "\n",
        "def perimetre_carre(longueur):\n",
        "    time.sleep(1)\n",
        "    return 4*longueur\n",
        "\n",
        "def ajout_aire_perim(a, b):\n",
        "    return a + b"
      ],
      "id": "ad60aa1b",
      "execution_count": null,
      "outputs": []
    },
    {
      "cell_type": "markdown",
      "metadata": {},
      "source": [
        "Sans _timer_, c'est-à-dire de manière classique, \n",
        "on ferait nos appels de fonctions de la\n",
        "manière suivante:\n"
      ],
      "id": "4caee4b6"
    },
    {
      "cell_type": "code",
      "metadata": {},
      "source": [
        "start_time = time.time()\n",
        "car1 = aire_carre(7)\n",
        "car2 = perimetre_carre(9)\n",
        "car3 = ajout_aire_perim(car1, car2)\n",
        "car3\n",
        "print(time.time() - start_time)"
      ],
      "id": "1db2d103",
      "execution_count": null,
      "outputs": []
    },
    {
      "cell_type": "markdown",
      "metadata": {},
      "source": [
        "Avec le décorateur `dask.delayed`, on définit\n",
        "nos fonctions de la manière suivante:\n"
      ],
      "id": "851874bb"
    },
    {
      "cell_type": "code",
      "metadata": {},
      "source": [
        "import dask\n",
        "\n",
        "@dask.delayed\n",
        "def aire_carre(longueur):\n",
        "    time.sleep(1)\n",
        "    return longueur**2\n",
        "\n",
        "@dask.delayed\n",
        "def perimetre_carre(longueur):\n",
        "    time.sleep(1)\n",
        "    return 4*longueur\n",
        "\n",
        "@dask.delayed\n",
        "def ajout_aire_perim(a, b):\n",
        "    return a + b"
      ],
      "id": "510b71a9",
      "execution_count": null,
      "outputs": []
    },
    {
      "cell_type": "markdown",
      "metadata": {},
      "source": [
        "L'appel de fonctions est identique\n"
      ],
      "id": "95cb9b5a"
    },
    {
      "cell_type": "code",
      "metadata": {},
      "source": [
        "car1 = aire_carre(7)\n",
        "car2 = perimetre_carre(9)\n",
        "car3 = ajout_aire_perim(car1, car2)"
      ],
      "id": "82c7fb27",
      "execution_count": null,
      "outputs": []
    },
    {
      "cell_type": "markdown",
      "metadata": {},
      "source": [
        "Cependant, en fait rien n'a été calculé, si l'on souhaite le résultat, il faut appeler `compute`:\n"
      ],
      "id": "5729f870"
    },
    {
      "cell_type": "code",
      "metadata": {},
      "source": [
        "start_time = time.time()\n",
        "car3.compute()\n",
        "print(time.time() - start_time)"
      ],
      "id": "5c1a9298",
      "execution_count": null,
      "outputs": []
    },
    {
      "cell_type": "markdown",
      "metadata": {},
      "source": [
        "Ici l'intérêt est assez limité, mais on voit que l'on réduit quand même de 2 à 1 seconde le temps de calcul. Mais l'idée derrière est que l'on a transformé `car3` en un objet `Delayed`. Cela a généré un `task graph` permettant de paralléliser certaines opérations.\n",
        "\n",
        "Ici il est important de noter que les fonctions que l'on parallélise doivent mettre un certain temps, sinon il n'y aura pas de gain de performance (si on retire le `time.sleep` il n'y a pas de gain de performance car le fait de paralléliser rajoute en fait du temps vu que chaque fonction a un temps de calcul trop faible pour que la parallélisation soit intéressante).\n"
      ],
      "id": "96f1e871"
    },
    {
      "cell_type": "code",
      "metadata": {},
      "source": [
        "car3.visualize() # on peut visualiser le task graph et voir ce qui est fait en parallèle "
      ],
      "id": "3f38222e",
      "execution_count": null,
      "outputs": []
    },
    {
      "cell_type": "markdown",
      "metadata": {},
      "source": [
        "Il y a des exercices intéressants dans la doc de `Dask` sur les objets `Delayed`, notamment sur la parallélisation de séquence de traitement de données. Ils donnent l'exemple d'un ensemble de csv ayant le même format dont on veut résumer un indicateur final. On peut appliquer le decorator à une fonction permettant de lire le csv, puis utiliser une boucle `for` pour lire chaque fichier et appliquer les traitements. Ensuite, il faudra appeler `compute` sur l'objet final que l'on souhaite.  \n",
        "\n",
        "Pour aller plus loin sur l'utilisation de `Dask` sur un cluster voir <https://tutorial.dask.org/04_distributed.html>.\n",
        "\n",
        "\n",
        "# Remerciements\n",
        "\n",
        "Ce chapitre a été rédigé avec [Raphaële Adjerad](https://github.com/raphaeleadjerad).\n"
      ],
      "id": "8a118ca5"
    }
  ],
  "metadata": {
    "kernelspec": {
      "name": "python3",
      "language": "python",
      "display_name": "Python 3 (ipykernel)"
    }
  },
  "nbformat": 4,
  "nbformat_minor": 5
}