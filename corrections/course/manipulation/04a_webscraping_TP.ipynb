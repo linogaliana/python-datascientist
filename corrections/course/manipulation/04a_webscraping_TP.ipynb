{
  "cells": [
    {
      "cell_type": "raw",
      "metadata": {},
      "source": [
        "---\n",
        "title: \"Webscraping avec python\"\n",
        "date: 2020-09-08T13:00:00Z\n",
        "draft: false\n",
        "weight: 60\n",
        "slug: webscraping\n",
        "tags:\n",
        "  - Webscraping\n",
        "  - BeautifulSoup\n",
        "  - Exercice\n",
        "  - Manipulation\n",
        "categories:\n",
        "  - Exercice\n",
        "  - Manipulation\n",
        "type: book\n",
        "summary: |\n",
        "  `Python` permet de facilement récupérer une page web pour en extraire des\n",
        "  données à restructurer. Le webscraping, que les Canadiens nomment\n",
        "  _\"moissonnage du web\"_, est une manière de plus en plus utilisée de\n",
        "  récupérer une grande masse d'information en temps réel. \n",
        "eval: false\n",
        "image: featured.png\n",
        "---"
      ],
      "id": "bee72a79"
    },
    {
      "cell_type": "markdown",
      "metadata": {},
      "source": [
        "::: {.cell .markdown}"
      ],
      "id": "9e40205a"
    },
    {
      "cell_type": "code",
      "metadata": {},
      "source": [
        "#| output: 'asis'\n",
        "#| include: true\n",
        "#| eval: true\n",
        "\n",
        "import sys\n",
        "sys.path.insert(1, '../../../../') #insert the utils module\n",
        "from utils import print_badges\n",
        "\n",
        "#print_badges(__file__)\n",
        "print_badges(\"content/course/manipulation/04a_webscraping_TP.qmd\")"
      ],
      "id": "527a79f3",
      "execution_count": null,
      "outputs": []
    },
    {
      "cell_type": "markdown",
      "metadata": {},
      "source": [
        ":::\n",
        "\n",
        "Le [webscraping](https://fr.wikipedia.org/wiki/Web_scraping) désigne les techniques d'extraction du contenu des sites internet.\n",
        "C'est une pratique très utile pour toute personne souhaitant travailler sur des informations disponibles en ligne, mais n'existant pas forcément sous la forme d'un tableau *Excel*.\n",
        "\n",
        "Ce TP vous présente comment créer et exécuter des robots afin de recupérer rapidement des informations utiles à vos projets actuels ou futurs.\n",
        "Il part de quelques cas d'usages concret. \n",
        "Ce chapitre est très fortement inspiré et réadapté à partir de [celui de Xavier Dupré](http://www.xavierdupre.fr/app/ensae_teaching_cs/helpsphinx/notebooks/TD2A_Eco_Web_Scraping.html), l'ancien professeur de la matière.\n",
        "\n",
        "# Enjeux\n",
        "\n",
        "Un certain nombre d'enjeux du _webscraping_ ne seront évoqués\n",
        "que superficiellement dans le cadre de ce chapitre. \n",
        "\n",
        "## La zone grise de la légalité du _webscraping_\n",
        "\n",
        "En premier lieu, en ce qui concerne la question de la légalité\n",
        "de la récupération d'information par _scraping_, il existe\n",
        "une zone grise. Ce n'est pas parce qu'une information est\n",
        "disponible sur internet, directement ou avec un peu de recherche,\n",
        "qu'elle peut être récupérée et réutilisée. \n",
        "\n",
        "L'excellent cours d'[Antoine Palazzolo](https://inseefrlab.github.io/formation_webscraping/) évoque un certain nombre de cas\n",
        "médiatiques et judiciaires sur cette question. \n",
        "Dans le champ français, la CNIL a publié en 2020\n",
        "de nouvelles directives sur le *webscraping* reprécisant\n",
        "que toute donnée ne peut être réutilisée à l'insu de la personne\n",
        "à laquelle ces données appartiennent. Autrement dit, en principe,\n",
        "les données collectées par _webscraping_ sont soumises au\n",
        "RGPD, c'est-à-dire nécessitent le consentement des personnes\n",
        "à partir desquelles la réutilisation des données est faite.\n",
        "\n",
        "Il est donc recommandé d'__être vigilant avec les données récupérées__\n",
        "par _webscraping_ pour ne pas se mettre en faute légalement. \n",
        "\n",
        "\n",
        "## Stabilité et fiabilité des informations reçues\n",
        "\n",
        "La récupération de données par _webscraping_ \n",
        "est certes pratique mais elle ne correspond pas nécessairement\n",
        "à un usage pensé, ou désiré, par un fournisseur de données.\n",
        "Les données étant coûteuses à collecter et à mettre à disposition,\n",
        "certains sites ne désirent pas nécessairement que celles-ci soient\n",
        "extraites gratuitement et facilement. _A fortiori_ lorsque la donnée\n",
        "peut permettre à un concurrent de disposer d'une information\n",
        "utile d'un point de vue commercial (prix d'un produit concurrent, etc.). \n",
        "\n",
        "Les acteurs mettent donc souvent en oeuvre des stratégies pour bloquer ou\n",
        "limiter la quantité de données scrappées. La méthode la plus \n",
        "classique est la détection et le blocage\n",
        "des requêtes faites par des robots plutôt que par des humains.\n",
        "Pour des acteurs spécialisés, cette détection est très facile car\n",
        "de nombreuses preuves permettent d'identifier si une visite du site _web_\n",
        "provient d'un utilisateur\n",
        "humain derrière un navigateur ou d'un robot. Pour ne citer que quelques indices:\n",
        "vitesse de la navigation entre pages, rapidité à extraire la donnée,\n",
        "empreinte digitale du navigateur utilisé, capacité à répondre à des\n",
        "questions aléatoires (captcha)...\n",
        "Les bonnes pratiques, évoquées par la suite, ont pour objectif de faire\n",
        "en sorte qu'un robot se comporte de manière civile en adoptant un comportement\n",
        "proche de celui de l'humain mais sans contrefaire le fait qu'il ne s'agit\n",
        "pas d'un humain.\n",
        "\n",
        "Il convient d'ailleurs\n",
        "d'être prudent quant aux informations reçues par _webscraping_. \n",
        "La donnée étant au coeur du modèle économique de certains acteurs, certains\n",
        "n'hésitent pas à renvoyer des données fausses aux robots\n",
        "plutôt que les bloquer. C'est de bonne guerre!\n",
        "Une autre technique piège s'appelle le _honey pot_. Il s'agit de pages qu'un humain \n",
        "n'irait jamais visiter - par exemple parce qu'elles n'apparaissent pas dans\n",
        "l'interface graphique - mais sur lesquelles un robot, en recherche automatique\n",
        "de contenu, va rester bloquer.\n",
        "\n",
        "Sans aller jusqu'à la stratégie de blocage du _webscraping_, d'autres raisons\n",
        "peuvent expliquer qu'une récupération de données ait fonctionné par\n",
        "le passé mais ne fonctionne plus. La plus fréquente est un changement dans la structure\n",
        "d'un site _web_. Le _webscraping_ présente en effet l'inconvénient d'aller chercher\n",
        "de l'information dans une structure très hiérarchisée. Un changement dans cette structure\n",
        "peut suffire à rendre un robot incapable  de récupérer du contenu. Or, pour rester\n",
        "attractifs, les sites _web_ changent fréquemment ce qui peut facilement\n",
        "rendre inopérant un robot.\n",
        "\n",
        "De manière générale, l'un des principaux messages de ce \n",
        "chapitre, à retenir, est que le\n",
        "__webscraping est une solution de dernier ressort, pour des récupérations ponctuelles de données sans garantie de fonctionnement ultérieur__. Il est préférable de __privilégier les API__ lorsque celles-ci sont disponibles. \n",
        "Ces dernières ressemblent à un contrat (formel ou non) entre un fournisseur de données\n",
        "et un utilisateur où sont définis des besoins (les données) mais aussi des\n",
        "conditions d'accès (nombre de requêtes, volumétrie, authentification...) là\n",
        "où le _webscraping_ est plus proche du comportement dans le _Far West_. \n",
        "\n",
        "## Les bonnes pratiques\n",
        "\n",
        "La possibilité de récupérer des données par l'intermédiaire\n",
        "d'un robot ne signifie pas qu'on peut se permettre de n'être\n",
        "pas civilisé. En effet, lorsqu'il est non-maîtrisé, le \n",
        "_webscraping_ peut ressembler à une attaque informatique\n",
        "classique pour faire sauter un site _web_: le déni de service. \n",
        "Le cours d'[Antoine Palazzolo](https://inseefrlab.github.io/formation_webscraping/) revient\n",
        "sur certaines bonnes pratiques qui ont émergé dans la communauté\n",
        "des _scrapeurs_. Il est recommandé de lire cette ressource\n",
        "pour en apprendre plus sur ce sujet. Y sont évoqués\n",
        "plusieurs conventions, parmi lesquelles :\n",
        "\n",
        "- Se rendre, depuis la racine du site,\n",
        "sur le fichier `robots.txt` pour vérifier les consignes\n",
        "proposées par les développeurs du site _web_ pour\n",
        "cadrer le comportement des robots ;\n",
        "- Espacer chaque requêtes de plusieurs secondes, comme le ferait\n",
        "un humain, afin d'éviter de surcharger le site _web_ et de le \n",
        "faire sauter par déni de service ;\n",
        "- Faire les requêtes dans les heures creuses de fréquentation du \n",
        "site _web_ s'il ne s'agit pas d'un site consulté internationalement. \n",
        "Par exemple, pour un site en Français, lancer le robot\n",
        "pendant la nuit en France métropolitaine, est une bonne pratique.\n",
        "Pour lancer un robot depuis `Python` a une heure programmée \n",
        "à l'avancer, il existe les `cronjobs`. \n",
        "\n",
        "\n",
        "# Un détour par le Web : comment fonctionne un site ?\n",
        "\n",
        "Même si ce TP ne vise pas à faire un cours de web, il vous faut néanmoins certaines bases sur la manière dont un site internet fonctionne afin de comprendre comment sont structurées les informations sur une page.\n",
        "\n",
        "Un site Web est un ensemble de pages codées en *HTML* qui permet de décrire à la fois le contenu et la forme d'une page *Web*.\n",
        "\n",
        "Pour voir cela, ouvrez n'importe quelle page web et faites un clic-droit dessus. \n",
        "- Sous `Chrome` <i class=\"fab fa-chrome\"></i> : Cliquez ensuite sur _\"Affichez le code source de la page\"_ (<kbd>CTRL</kbd>+<kbd>U</kbd>) ;\n",
        "- Sous `Firefox` <i class=\"fab fa-firefox\"></i> : _\"Code source de la page\"_ (<kbd>CTRL</kbd>+<kbd>MAJ</kbd>+<kbd>K</kbd>) ;\n",
        "- Sous `Edge` <i class=\"fab fa-edge\"></i> : _\"Affichez la page source\"_ (<kbd>CTRL</kbd>+<kbd>U</kbd>) ;\n",
        "- Sous `Safari` <i class=\"fab fa-safari\"></i> : voir comment faire [ici](https://fr.wikihow.com/voir-le-code-source)\n",
        "\n",
        "\n",
        "## Les balises\n",
        "\n",
        "\n",
        "Sur une page web, vous trouverez toujours à coup sûr des éléments comme `<head>`, `<title>`, etc. Il  s'agit des codes qui vous permettent de structurer le contenu d'une page *HTML* et qui s'appellent des **balises**. \n",
        "Citons, par exemple, les balises `<p>`, `<h1>`, `<h2>`, `<h3>`, `<strong>` ou `<em>`.\n",
        "Le symbole ``< >`` est une balise : il sert à indiquer le début d'une partie. Le symbole `</ >` indique la fin de cette partie. La plupart des balises vont par paires, avec une *balise ouvrante* et une *balise fermante* (par exemple `<p>` et `</p>`).\n",
        "\n",
        "### Exemple : les balise des tableaux\n",
        "\n",
        "| Balise      | Description                        |\n",
        "|-------------|------------------------------------|\n",
        "| `<table>`   | Tableau                            |\n",
        "| `<caption>` | Titre du tableau                   |\n",
        "| `<tr>`      | Ligne de tableau                   |\n",
        "| `<th>`      | Cellule d'en-tête                  |\n",
        "| `<td>`      | Cellule                            |\n",
        "| `<thead>`   | Section de l'en-tête du tableau    |\n",
        "| `<tbody>`   | Section du corps du tableau        |\n",
        "| `<tfoot>`   | Section du pied du tableau         |\n",
        "\n",
        "\n",
        "**Application : un tableau en HTML**\n",
        "\n",
        "Le code *HTML* du tableau suivant\n",
        "\n",
        "\n",
        "\n",
        "```{html}\n",
        "<table>\n",
        "<caption> Le Titre de mon tableau </caption>\n",
        "\n",
        "   <tr>\n",
        "      <th>Prénom</th>\n",
        "      <th>Nom</th>\n",
        "      <th>Profession</th>\n",
        "   </tr>\n",
        "   <tr>\n",
        "      <td>Mike </td>\n",
        "      <td>Stuntman</td>\n",
        "      <td>Cascadeur</td>\n",
        "   </tr>\n",
        "   <tr>\n",
        "      <td>Mister</td>\n",
        "      <td>Pink</td>\n",
        "      <td>Gangster</td>\n",
        "   </tr>\n",
        "</table>\n",
        "```\n",
        "\n",
        "\n",
        "Donnera dans le navigateur :\n",
        "\n",
        "::: {.cell .markdown}\n",
        "\n",
        "```{=html}\n",
        "<table>\n",
        "<caption> Le Titre de mon tableau </caption>\n",
        "\n",
        "   <tr>\n",
        "      <th>Prénom</th>\n",
        "      <th>Nom</th>\n",
        "      <th>Profession</th>\n",
        "   </tr>\n",
        "   <tr>\n",
        "      <td>Mike </td>\n",
        "      <td>Stuntman</td>\n",
        "      <td>Cascadeur</td>\n",
        "   </tr>\n",
        "   <tr>\n",
        "      <td>Mister</td>\n",
        "      <td>Pink</td>\n",
        "      <td>Gangster</td>\n",
        "   </tr>\n",
        "</table>\n",
        "```\n",
        "\n",
        ":::\n",
        "\n",
        "### Parent et enfant\n",
        "\n",
        "Dans le cadre du langage HTML, les termes de parent (*parent*) et enfant (*child*) servent à désigner des élements emboîtés les uns dans les autres. Dans la construction suivante, par exemple :\n",
        "\n",
        "```html\n",
        "< div> \n",
        "    < p>\n",
        "       bla,bla\n",
        "    < /p>\n",
        "< /div>\n",
        "```\n",
        "\n",
        "Sur la page web, cela apparaitra de la manière suivante : \n",
        "\n",
        "<div> \n",
        "    <p>\n",
        "       bla,bla\n",
        "    </p>\n",
        "</div>\n",
        "\n",
        "\n",
        "On dira que l'élément `<div>` est le parent de l'élément `<p>` tandis que l'élément `<p>` est l'enfant de l'élément `<div>`.\n",
        "\n",
        "\n",
        "\n",
        "> *Mais pourquoi apprendre ça pour \"scraper\" ?*\n",
        "\n",
        "Parce que, pour bien récupérer les informations d'un site internet, il faut pouvoir comprendre sa structure et donc son code HTML. Les fonctions `Python` qui servent au _scraping_ sont principalement construites pour vous permettre de naviguer entre les balises.\n",
        "Avec `Python`, vous allez en fait reproduire votre comportement manuel de recherche de manière \n",
        "à l'automatiser. \n",
        "\n",
        "\n",
        "# Scraper avec python: le package `BeautifulSoup`\n",
        "\n",
        "## Les packages disponibles\n",
        "\n",
        "Dans la première partie de ce chapitre,\n",
        "nous allons essentiellement utiliser le package [`BeautifulSoup4`](https://www.crummy.com/software/BeautifulSoup/bs4/doc/),\n",
        "en conjonction avec  [`urllib`](https://docs.python.org/3/library/urllib.html#module-urllib)\n",
        "ou `requests`. Ces deux derniers _packages_ permettent de récupérer le texte\n",
        "brut d'une page qui sera ensuite\n",
        "inspecté via [`BeautifulSoup4`](https://www.crummy.com/software/BeautifulSoup/bs4/doc/).\n",
        "\n",
        "`BeautifulSoup` sera suffisant quand vous voudrez travailler sur des pages HTML statiques. Dès que les informations que vous recherchez sont générées via l'exécution de scripts [Javascript](https://fr.wikipedia.org/wiki/JavaScript), il vous faudra passer par des outils comme [Selenium](https://selenium-python.readthedocs.io/).\n",
        "\n",
        "De même, si vous ne connaissez pas l'URL, il faudra passer par un _framework_ comme [Scrapy](https://scrapy.org/), qui passe facilement d'une page à une autre. On appelle\n",
        "cette technique le _\"webcrawling\"_. `Scrapy` est plus complexe à manipuler que `BeautifulSoup` : si vous voulez plus de détails, rendez-vous sur la page du [tutoriel `Scrapy`](https://doc.scrapy.org/en/latest/intro/tutorial.html).\n",
        "\n",
        "Le *webscraping* est un domaine où la reproductibilité est compliquée à mettre en oeuvre.\n",
        "Une page *web* évolue\n",
        "potentiellement régulièrement et d'une page web à l'autre, la structure peut\n",
        "être très différente ce qui rend certains codes difficilement exportables.\n",
        "Par conséquent, la meilleure manière d'avoir un programme fonctionnel est\n",
        "de comprendre la structure d'une page web et dissocier les éléments exportables\n",
        "à d'autres cas d'usages des requêtes *ad hoc*. \n",
        "\n",
        "\n",
        "{{< tweet 1474353569780355074 >}}\n"
      ],
      "id": "3840e4c3"
    },
    {
      "cell_type": "code",
      "metadata": {},
      "source": [
        "import urllib\n",
        "import bs4\n",
        "import pandas\n",
        "from urllib import request"
      ],
      "id": "d9a6a7a5",
      "execution_count": null,
      "outputs": []
    },
    {
      "cell_type": "markdown",
      "metadata": {},
      "source": [
        "## Récupérer le contenu d'une page HTML\n",
        "\n",
        "On va commencer doucement. Prenons une page _wikipedia_,\n",
        "par exemple celle de la Ligue 1 de football, millésime 2019-2020 : [Championnat de France de football 2019-2020](https://fr.wikipedia.org/wiki/Championnat_de_France_de_football_2019-2020). On va souhaiter récupérer la liste des équipes, ainsi que les url des pages Wikipedia de ces équipes.\n",
        "\n",
        "Etape :one: : se connecter à la page wikipedia et obtenir le code source.\n",
        "Pour cela, le plus simple est d'utiliser le package `urllib` ou, mieux, `requests`.\n",
        "Nous allons ici utiliser la fonction `request` du _package_ `urllib`:\n"
      ],
      "id": "f2687428"
    },
    {
      "cell_type": "code",
      "metadata": {},
      "source": [
        "url_ligue_1 = \"https://fr.wikipedia.org/wiki/Championnat_de_France_de_football_2019-2020\"\n",
        "    \n",
        "request_text = request.urlopen(url_ligue_1).read()\n",
        "# print(request_text[:1000])    "
      ],
      "id": "3a61c681",
      "execution_count": null,
      "outputs": []
    },
    {
      "cell_type": "code",
      "metadata": {},
      "source": [
        "type(request_text)"
      ],
      "id": "e69b7b49",
      "execution_count": null,
      "outputs": []
    },
    {
      "cell_type": "markdown",
      "metadata": {},
      "source": [
        "Etape :two: : utiliser le package BeautifulSoup\n",
        "qui permet de rechercher efficacement\n",
        "les balises contenues dans la chaine de caractères\n",
        "renvoyée par la fonction `request`:\n"
      ],
      "id": "a65c4386"
    },
    {
      "cell_type": "code",
      "metadata": {},
      "source": [
        "page = bs4.BeautifulSoup(request_text, \"lxml\")"
      ],
      "id": "9ae7333e",
      "execution_count": null,
      "outputs": []
    },
    {
      "cell_type": "markdown",
      "metadata": {},
      "source": [
        "Si on _print_ l'objet `page` créée avec `BeautifulSoup`,\n",
        "on voit que ce n'est plus une chaine de caractères mais bien une page HTML avec des balises.\n",
        "On peut à présent chercher des élements à l'intérieur de ces balises.\n",
        "\n",
        "## La méthode `find`\n",
        "\n",
        "Par exemple, si on veut connaître le titre de la page, on utilise la méthode `.find` et on lui demande *\"title\"*\n"
      ],
      "id": "758ea670"
    },
    {
      "cell_type": "code",
      "metadata": {},
      "source": [
        "print(page.find(\"title\"))"
      ],
      "id": "df86a243",
      "execution_count": null,
      "outputs": []
    },
    {
      "cell_type": "markdown",
      "metadata": {},
      "source": [
        "La methode `.find` ne renvoie que la première occurence de l'élément. \n",
        "\n",
        "Pour vous en assurer vous pouvez :\n",
        "\n",
        "- copier le bout de code source obtenu, \n",
        "- le coller  dans une cellule de votre notebook\n",
        "- et passer la cellule en _\"Markdown\"_\n",
        "\n",
        "\n",
        "La cellule avec le copier-coller du code source donne : \n"
      ],
      "id": "37e38397"
    },
    {
      "cell_type": "code",
      "metadata": {},
      "source": [
        "print(page.find(\"table\"))"
      ],
      "id": "ee30d93e",
      "execution_count": null,
      "outputs": []
    },
    {
      "cell_type": "markdown",
      "metadata": {},
      "source": [
        "ce qui est le texte source permettant de générer le tableau suivant:\n",
        "\n",
        "::: {.cell .markdown}"
      ],
      "id": "9773272b"
    },
    {
      "cell_type": "code",
      "metadata": {},
      "source": [
        "#| output: asis\n",
        "print(page.find(\"table\"))"
      ],
      "id": "bae75fa8",
      "execution_count": null,
      "outputs": []
    },
    {
      "cell_type": "markdown",
      "metadata": {},
      "source": [
        ":::\n",
        "\n",
        "## La méthode `findAll`\n",
        "\n",
        "Pour trouver toutes les occurences, on utilise `.findAll()`.\n"
      ],
      "id": "11bc54bf"
    },
    {
      "cell_type": "code",
      "metadata": {},
      "source": [
        "print(\"Il y a\", len(page.findAll(\"table\")), \"éléments dans la page qui sont des <table>\")"
      ],
      "id": "4dea30f5",
      "execution_count": null,
      "outputs": []
    },
    {
      "cell_type": "markdown",
      "metadata": {},
      "source": [
        "# Exercice guidé : obtenir la liste des équipes de Ligue 1\n",
        "\n",
        "Dans le premier paragraphe de la page _\"Participants\"_,\n",
        "on a le tableau avec les résultats de l'année. \n",
        "\n",
        "::: {.cell .markdown}\n",
        "\n",
        "```{=html}\n",
        "<div class=\"alert alert-success\" role=\"alert\" style=\"color: rgba(0,0,0,.8); background-color: white; margin-top: 1em; margin-bottom: 1em; margin:1.5625emauto; padding:0 .6rem .8rem!important;overflow:hidden; page-break-inside:avoid; border-radius:.25rem; box-shadow:0 .2rem .5rem rgba(0,0,0,.05),0 0 .05rem rgba(0,0,0,.1); transition:color .25s,background-color .25s,border-color .25s ; border-right: 1px solid #dee2e6 ; border-top: 1px solid #dee2e6 ; border-bottom: 1px solid #dee2e6 ; border-left:.2rem solid #3fb618;\">\n",
        "<h3 class=\"alert-heading\"><i class=\"fa fa-pencil\"></i> Exercice 1 : Récupérer les participants de la Ligue 1</h3>\n",
        "```\n",
        "\n",
        "\n",
        "Pour cela, nous allons procéder en 6 étapes:\n",
        "\n",
        "1. Trouver le tableau\n",
        "2. Récupérer chaque ligne du table\n",
        "3. Nettoyer les sorties en ne gardant que le texte sur une ligne\n",
        "4. Généraliser sur toutes les lignes\n",
        "5. Récupérer les entêtes du tableau\n",
        "6. Finalisation du tableau\n",
        "\n",
        "\n",
        "```{=html}\n",
        "</div>\n",
        "```\n",
        "\n",
        ":::\n",
        "\n",
        "1️ Trouver le tableau\n"
      ],
      "id": "f6ed67f7"
    },
    {
      "cell_type": "code",
      "metadata": {},
      "source": [
        "# on identifie le tableau en question : c'est le premier qui a cette classe \"wikitable sortable\"\n",
        "tableau_participants = page.find('table', {'class' : 'wikitable sortable'})"
      ],
      "id": "00b1c82f",
      "execution_count": null,
      "outputs": []
    },
    {
      "cell_type": "markdown",
      "metadata": {},
      "source": [
        "::: {.cell .markdown}"
      ],
      "id": "40a13549"
    },
    {
      "cell_type": "code",
      "metadata": {},
      "source": [
        "#| output: asis\n",
        "print(tableau_participants)"
      ],
      "id": "40fc7cd8",
      "execution_count": null,
      "outputs": []
    },
    {
      "cell_type": "markdown",
      "metadata": {},
      "source": [
        ":::\n",
        "\n",
        "2️ Récupérer chaque ligne du tableau.\n",
        "\n",
        "On recherche d'abord toutes les lignes du tableau avec la balise `tr`\n"
      ],
      "id": "1ddfa22e"
    },
    {
      "cell_type": "code",
      "metadata": {},
      "source": [
        "table_body = tableau_participants.find('tbody')\n",
        "rows = table_body.find_all('tr')"
      ],
      "id": "3e305573",
      "execution_count": null,
      "outputs": []
    },
    {
      "cell_type": "markdown",
      "metadata": {},
      "source": [
        "On obtient une liste où chaque élément est une des lignes du tableau\n",
        "Pour illustrer cela, on va d'abord afficher la première ligne.\n",
        "Celle-ci correspont aux entêtes de colonne:\n"
      ],
      "id": "bab8f4d5"
    },
    {
      "cell_type": "code",
      "metadata": {},
      "source": [
        "print(rows[0])"
      ],
      "id": "aaa4bef5",
      "execution_count": null,
      "outputs": []
    },
    {
      "cell_type": "markdown",
      "metadata": {},
      "source": [
        "La seconde ligne va correspondre à la ligne du premier club présent dans le tableau:\n"
      ],
      "id": "acda305e"
    },
    {
      "cell_type": "code",
      "metadata": {},
      "source": [
        "print(rows[1])"
      ],
      "id": "ff045cd8",
      "execution_count": null,
      "outputs": []
    },
    {
      "cell_type": "markdown",
      "metadata": {},
      "source": [
        "3️ Nettoyer les sorties en ne gardant que le texte sur une ligne\n",
        "\n",
        "\n",
        "On va utiliser l'attribut `text` afin de se débarasser de toute la couche de HTML qu'on obtient à l'étape 2.\n",
        "\n",
        "Un exemple sur la ligne du premier club :\n",
        "- on commence par prendre toutes les cellules de cette ligne, avec la balise `td`.\n",
        "- on fait ensuite une boucle sur chacune des cellules et on ne garde que le texte de la cellule avec l'attribut `text`.\n",
        "- enfin, on applique la méthode `strip()` pour que le texte soit bien mis en forme (sans espace inutile etc).\n"
      ],
      "id": "ac07c434"
    },
    {
      "cell_type": "code",
      "metadata": {},
      "source": [
        "cols = rows[1].find_all('td')\n",
        "print(cols[0])\n",
        "print(cols[0].text.strip())"
      ],
      "id": "954c6827",
      "execution_count": null,
      "outputs": []
    },
    {
      "cell_type": "code",
      "metadata": {},
      "source": [
        "for ele in cols : \n",
        "    print(ele.text.strip())"
      ],
      "id": "d3fe305e",
      "execution_count": null,
      "outputs": []
    },
    {
      "cell_type": "markdown",
      "metadata": {},
      "source": [
        "4️ Généraliser sur toutes les lignes :\n"
      ],
      "id": "7972ec49"
    },
    {
      "cell_type": "code",
      "metadata": {},
      "source": [
        "for row in rows:\n",
        "    cols = row.find_all('td')\n",
        "    cols = [ele.text.strip() for ele in cols]\n",
        "    print(cols)"
      ],
      "id": "55a6974c",
      "execution_count": null,
      "outputs": []
    },
    {
      "cell_type": "markdown",
      "metadata": {},
      "source": [
        "On a bien réussi à avoir les informations contenues dans le tableau des participants du championnat.\n",
        "Mais la première ligne est étrange : c'est une liste vide ... \n",
        "\n",
        "Il s'agit des en-têtes : elles sont reconnues par la balise `th` et non `td`. \n",
        "\n",
        "On va mettre tout le contenu dans un dictionnaire, pour le transformer ensuite en DataFrame pandas : \n"
      ],
      "id": "7b3d5703"
    },
    {
      "cell_type": "code",
      "metadata": {},
      "source": [
        "#| code-overflow: wrap\n",
        "\n",
        "dico_participants = dict()\n",
        "for row in rows:\n",
        "    cols = row.find_all('td')\n",
        "    cols = [ele.text.strip() for ele in cols]\n",
        "    if len(cols) > 0 : \n",
        "        dico_participants[cols[0]] = cols[1:]\n",
        "dico_participants"
      ],
      "id": "53379508",
      "execution_count": null,
      "outputs": []
    },
    {
      "cell_type": "code",
      "metadata": {},
      "source": [
        "data_participants = pandas.DataFrame.from_dict(dico_participants,orient='index')\n",
        "data_participants.head()"
      ],
      "id": "1351296b",
      "execution_count": null,
      "outputs": []
    },
    {
      "cell_type": "markdown",
      "metadata": {},
      "source": [
        "5️ Récupérer les en-têtes du tableau:\n"
      ],
      "id": "5f9a9580"
    },
    {
      "cell_type": "code",
      "metadata": {},
      "source": [
        "for row in rows:\n",
        "    cols = row.find_all('th')\n",
        "    print(cols)\n",
        "    if len(cols) > 0 : \n",
        "        cols = [ele.get_text(separator=' ').strip().title() for ele in cols]\n",
        "        columns_participants = cols"
      ],
      "id": "de480a08",
      "execution_count": null,
      "outputs": []
    },
    {
      "cell_type": "code",
      "metadata": {},
      "source": [
        "columns_participants"
      ],
      "id": "c8f8410f",
      "execution_count": null,
      "outputs": []
    },
    {
      "cell_type": "code",
      "metadata": {},
      "source": [
        "#| eval: false\n",
        "\n",
        "# KA : j'ai enlevé car je ne suis pas sûre que ce soit utile ? Sinon remettre et indiquer pourquoi ça l'est ?\n",
        "import re\n",
        "    \n",
        "columns_participants = [re.sub('\\[ (\\d+) \\] ?', '', nom_col) for nom_col in columns_participants]\n",
        "columns_participants"
      ],
      "id": "66f753a8",
      "execution_count": null,
      "outputs": []
    },
    {
      "cell_type": "markdown",
      "metadata": {},
      "source": [
        "6️ Finalisation du tableau \n"
      ],
      "id": "895b3fab"
    },
    {
      "cell_type": "code",
      "metadata": {},
      "source": [
        "data_participants.columns = columns_participants[1:]"
      ],
      "id": "25849135",
      "execution_count": null,
      "outputs": []
    },
    {
      "cell_type": "code",
      "metadata": {},
      "source": [
        "data_participants.head()"
      ],
      "id": "2cff0f76",
      "execution_count": null,
      "outputs": []
    },
    {
      "cell_type": "markdown",
      "metadata": {},
      "source": [
        "## Pour aller plus loin\n",
        "\n",
        "### Récupération des localisations des stades\n",
        "\n",
        "Essayez de comprendre pas à pas ce qui est fait dans les étapes qui suivent (la récupération d'informations supplémentaires en naviguant dans les pages des différents clubs). \n"
      ],
      "id": "7a319598"
    },
    {
      "cell_type": "code",
      "metadata": {},
      "source": [
        "import urllib\n",
        "import pandas as pd\n",
        "import bs4 \n",
        "\n",
        "division=[]\n",
        "equipe=[]\n",
        "stade=[]\n",
        "latitude_stade=[]        \n",
        "longitude_stade=[]     \n",
        "\n",
        "def dms2dd(degrees, minutes, seconds, direction):\n",
        "    dd = float(degrees) + float(minutes)/60 + float(seconds)/(60*60);\n",
        "    if direction == 'S' or direction == 'O':\n",
        "        dd *= -1\n",
        "    return dd;\n",
        "\n",
        "url_list=[\"http://fr.wikipedia.org/wiki/Championnat_de_France_de_football_2019-2020\", \"http://fr.wikipedia.org/wiki/Championnat_de_France_de_football_de_Ligue_2_2019-2020\"]\n",
        "\n",
        "for url_ligue in url_list :\n",
        "       \n",
        "    print(url_ligue)\n",
        "    sock = urllib.request.urlopen(url_ligue).read() \n",
        "    page=bs4.BeautifulSoup(sock)\n",
        "\n",
        "# Rechercher les liens des équipes dans la liste disponible sur wikipedia \n",
        "\n",
        "    for team in page.findAll('span' , {'class' : 'toponyme'}) :  \n",
        "        \n",
        "        # Indiquer si c'est de la ligue 1 ou de la ligue 2\n",
        "        \n",
        "        if url_ligue==url_list[0] :\n",
        "            division.append(\"L1\")\n",
        "        else :\n",
        "            division.append(\"L2\")\n",
        "\n",
        "       # Trouver le nom et le lien de l'équipe\n",
        "            \n",
        "        if team.find('a')!=None :\n",
        "            team_url=team.find('a').get('href')\n",
        "            name_team=team.find('a').get('title')\n",
        "            equipe.append(name_team)\n",
        "            url_get_info = \"http://fr.wikipedia.org\"+team_url\n",
        "            print(url_get_info)\n",
        " \n",
        "       # aller sur la page de l'équipe\n",
        "           \n",
        "            search = urllib.request.urlopen(url_get_info).read()\n",
        "            search_team=bs4.BeautifulSoup(search)\n",
        "\n",
        "       # trouver le stade             \n",
        "            compteur = 0\n",
        "            for stadium in search_team.findAll('tr'):\n",
        "                for x in stadium.findAll('th' , {'scope' : 'row'} ) :\n",
        "                    if x.contents[0].string==\"Stade\" and compteur == 0:\n",
        "                        compteur = 1\n",
        "                        # trouver le lien du stade et son nom\n",
        "                        url_stade=stadium.findAll('a')[1].get('href')\n",
        "                        name_stadium=stadium.findAll('a')[1].get('title')\n",
        "                        stade.append(name_stadium)\n",
        "                        url_get_stade = \"http://fr.wikipedia.org\"+url_stade\n",
        "                        print(url_get_stade)\n",
        "                        \n",
        "                        # Aller sur la page du stade et trouver ses coodronnées géographiques\n",
        "                        \n",
        "                        search_stade = urllib.request.urlopen(url_get_stade).read()\n",
        "                        soup_stade=bs4.BeautifulSoup(search_stade) \n",
        "                        kartographer = soup_stade.find('a',{'class': \"mw-kartographer-maplink\"})\n",
        "                        if kartographer == None :\n",
        "                          latitude_stade.append(None)\n",
        "                          longitude_stade.append(None) \n",
        "                        else :\n",
        "                            for coordinates in kartographer :\n",
        "                                print(coordinates)\n",
        "                                liste =   coordinates.split(\",\")          \n",
        "                                latitude_stade.append(str(liste[0]).replace(\" \", \"\") + \"'\")\n",
        "                                longitude_stade.append(str(liste[1]).replace(\" \", \"\") + \"'\")\n",
        "                            \n",
        "\n",
        "dict = {'division' : division , 'equipe': equipe, 'stade': stade, 'latitude': latitude_stade, 'longitude' : longitude_stade}\n",
        "data = pd.DataFrame(dict)\n",
        "data = data.dropna()"
      ],
      "id": "c7090fa8",
      "execution_count": null,
      "outputs": []
    },
    {
      "cell_type": "code",
      "metadata": {},
      "source": [
        "data.head(5)"
      ],
      "id": "551dab05",
      "execution_count": null,
      "outputs": []
    },
    {
      "cell_type": "markdown",
      "metadata": {},
      "source": [
        "On va transformer les coordonnées en degrés en coordonnées numériques\n",
        "afin d'être en mesure de faire une carte\n"
      ],
      "id": "f196adf0"
    },
    {
      "cell_type": "code",
      "metadata": {},
      "source": [
        "import re\n",
        "\n",
        "def dms2dd(degrees, minutes, seconds, direction):\n",
        "    dd = float(degrees) + float(minutes)/60 + float(seconds)/(60*60);\n",
        "    if direction in ('S', 'O'):\n",
        "        dd *= -1\n",
        "    return dd\n",
        "\n",
        "def parse_dms(dms):\n",
        "    parts = re.split('[^\\d\\w]+', dms)\n",
        "    lat = dms2dd(parts[0], parts[1], parts[2], parts[3])\n",
        "    #lng = dms2dd(parts[4], parts[5], parts[6], parts[7])\n",
        "    return lat"
      ],
      "id": "957553a9",
      "execution_count": null,
      "outputs": []
    },
    {
      "cell_type": "code",
      "metadata": {},
      "source": [
        "data['latitude'] = data['latitude'].apply(parse_dms)\n",
        "data['longitude'] = data['longitude'].apply(parse_dms)"
      ],
      "id": "6627ce38",
      "execution_count": null,
      "outputs": []
    },
    {
      "cell_type": "markdown",
      "metadata": {},
      "source": [
        "Tous les éléments sont en place pour faire une belle carte à ce stade. On\n",
        "va utiliser `folium` pour celle-ci, qui est présenté dans la partie\n",
        "[visualisation](#cartotp).\n",
        "\n",
        "### Carte des stades avec `folium` {#cartes-stades-ligue1}\n"
      ],
      "id": "2ba2ff0d"
    },
    {
      "cell_type": "code",
      "metadata": {},
      "source": [
        "#| echo: true\n",
        "#| output: false\n",
        "\n",
        "#!pip install geopandas\n",
        "import geopandas as gpd\n",
        "from pathlib import Path\n",
        "import folium\n",
        "\n",
        "gdf = gpd.GeoDataFrame(\n",
        "    data, geometry=gpd.points_from_xy(data.longitude, data.latitude))\n",
        "\n",
        "Path(\"leaflet\").mkdir(parents=True, exist_ok=True)\n",
        "\n",
        "center = gdf[['latitude', 'longitude']].mean().values.tolist()\n",
        "sw = gdf[['latitude', 'longitude']].min().values.tolist()\n",
        "ne = gdf[['latitude', 'longitude']].max().values.tolist()\n",
        "\n",
        "m = folium.Map(location = center, tiles='Stamen Toner')\n",
        "\n",
        "# I can add marker one by one on the map\n",
        "for i in range(0,len(gdf)):\n",
        "    folium.Marker([gdf.iloc[i]['latitude'], gdf.iloc[i]['longitude']], popup=gdf.iloc[i]['stade']).add_to(m) \n",
        "\n",
        "m.fit_bounds([sw, ne])"
      ],
      "id": "aac042e7",
      "execution_count": null,
      "outputs": []
    },
    {
      "cell_type": "markdown",
      "metadata": {},
      "source": [
        "La carte obtenue doit ressembler à la suivante:\n"
      ],
      "id": "278d5256"
    },
    {
      "cell_type": "code",
      "metadata": {},
      "source": [
        "#| eval : false\n",
        "# Afficher la carte\n",
        "m"
      ],
      "id": "23c2ba99",
      "execution_count": null,
      "outputs": []
    },
    {
      "cell_type": "markdown",
      "metadata": {},
      "source": [
        "# Récupérer des informations sur les pokemons\n",
        "\n",
        "Le prochain exercice pour mettre en pratique le _webscraping_\n",
        "consiste à récupérer des informations sur les \n",
        "pokemons à partir du \n",
        "site internet [pokemondb.net](http://pokemondb.net/pokedex/national). \n",
        "\n",
        "## Version non guidée\n",
        "\n",
        "\n",
        "::: {.cell .markdown}\n",
        "\n",
        "```{=html}\n",
        "<div class=\"alert alert-success\" role=\"alert\" style=\"color: rgba(0,0,0,.8); background-color: white; margin-top: 1em; margin-bottom: 1em; margin:1.5625emauto; padding:0 .6rem .8rem!important;overflow:hidden; page-break-inside:avoid; border-radius:.25rem; box-shadow:0 .2rem .5rem rgba(0,0,0,.05),0 0 .05rem rgba(0,0,0,.1); transition:color .25s,background-color .25s,border-color .25s ; border-right: 1px solid #dee2e6 ; border-top: 1px solid #dee2e6 ; border-bottom: 1px solid #dee2e6 ; border-left:.2rem solid #3fb618;\">\n",
        "<h3 class=\"alert-heading\"><i class=\"fa fa-pencil\"></i> Exercice 2 : Les pokemon (version non guidée)</h3>\n",
        "```\n",
        "\n",
        "\n",
        "Pour cet exercice, nous vous demandons d'obtenir différentes informations sur les pokémons :\n",
        "\n",
        "1. les informations personnelles des __893__ pokemons sur le site internet [pokemondb.net](http://pokemondb.net/pokedex/national).\n",
        "Les informations que nous aimerions obtenir au final dans un `DataFrame` sont celles contenues dans 4 tableaux :\n",
        "\n",
        "- Pokédex data\n",
        "- Training\n",
        "- Breeding\n",
        "- Base stats\n",
        "\n",
        "2. Nous aimerions que vous récupériez également les images de chacun des pokémons et que vous les enregistriez dans un dossier  \n",
        "\n",
        "* Petit indice : utilisez les modules `request` et [`shutil`](https://docs.python.org/3/library/shutil.html)\n",
        "* Pour cette question, il faut que vous cherchiez de vous même certains éléments, tout n'est pas présent dans le TD.\n",
        "\n",
        "\n",
        "```{=html}\n",
        "</div>\n",
        "```\n",
        "\n",
        ":::\n",
        "\n",
        "Pour la question 1, l'objectif est d'obtenir le code source d'un tableau comme\n",
        "celui qui suit\n",
        "(Pokemon [Nincada](http://pokemondb.net/pokedex/nincada).)\n",
        "\n",
        "::: {.cell .markdown}\n",
        "<div class=\"grid-col span-md-6 span-lg-4\">\n",
        "<h2>Pokédex data</h2>\n",
        "<table class=\"vitals-table\">\n",
        "<tbody>\n",
        "<tr>\n",
        "<th>National №</th>\n",
        "<td><strong>290</strong></td>\n",
        "</tr>\n",
        "<tr>\n",
        "<th>Type</th>\n",
        "<td>\n",
        "<a class=\"type-icon type-bug\" href=\"/type/bug\">Bug</a> <a class=\"type-icon type-ground\" href=\"/type/ground\">Ground</a> </td>\n",
        "</tr>\n",
        "<tr>\n",
        "<th>Species</th>\n",
        "<td>Trainee Pokémon</td>\n",
        "</tr>\n",
        "<tr>\n",
        "<th>Height</th>\n",
        "<td>0.5&nbsp;m (1′08″)</td>\n",
        "</tr>\n",
        "<tr>\n",
        "<th>Weight</th>\n",
        "<td>5.5&nbsp;kg (12.1&nbsp;lbs)</td>\n",
        "</tr>\n",
        "<tr>\n",
        "<th>Abilities</th>\n",
        "<td><span class=\"text-muted\">1. <a href=\"/ability/compound-eyes\" title=\"The Pokémon's accuracy is boosted.\">Compound Eyes</a></span><br><small class=\"text-muted\"><a href=\"/ability/run-away\" title=\"Enables a sure getaway from wild Pokémon.\">Run Away</a> (hidden ability)</small><br></td>\n",
        "</tr>\n",
        "<tr>\n",
        "<th>Local №</th>\n",
        "<td>042 <small class=\"text-muted\">(Ruby/Sapphire/Emerald)</small><br>111 <small class=\"text-muted\">(X/Y — Central Kalos)</small><br>043 <small class=\"text-muted\">(Omega Ruby/Alpha Sapphire)</small><br>104 <small class=\"text-muted\">(Sword/Shield)</small><br></td>\n",
        "</tr>\n",
        "</tbody>\n",
        "</table>\n",
        "</div>\n",
        "\n",
        "\n",
        "<div class=\"grid-col span-md-12 span-lg-4\">\n",
        "<div class=\"grid-row\">\n",
        "<div class=\"grid-col span-md-6 span-lg-12\">\n",
        "<h2>Training</h2>\n",
        "<table class=\"vitals-table\">\n",
        "<tbody>\n",
        "<tr>\n",
        "<th>EV yield</th>\n",
        "<td class=\"text\">\n",
        "1 Defense </td>\n",
        "</tr>\n",
        "<tr>\n",
        "<th>Catch rate</th>\n",
        "<td>255 <small class=\"text-muted\">(33.3% with PokéBall, full HP)</small></td>\n",
        "</tr>\n",
        "<tr>\n",
        "<th>Base <a href=\"/glossary#def-friendship\">Friendship</a></th>\n",
        "<td>70 <small class=\"text-muted\">(normal)</small></td>\n",
        "</tr>\n",
        "<tr>\n",
        "<th>Base Exp.</th>\n",
        "<td>53</td>\n",
        "</tr>\n",
        "<tr>\n",
        "<th>Growth Rate</th>\n",
        "<td>Erratic</td>\n",
        "</tr>\n",
        "</tbody>\n",
        "</table>\n",
        "</div>\n",
        "<div class=\"grid-col span-md-6 span-lg-12\">\n",
        "<h2>Breeding</h2>\n",
        "<table class=\"vitals-table\">\n",
        "<tbody>\n",
        "<tr>\n",
        "<th>Egg Groups</th>\n",
        "<td>\n",
        "<a href=\"/egg-group/bug\">Bug</a> </td>\n",
        "</tr>\n",
        "<tr>\n",
        "<th>Gender</th>\n",
        "<td><span class=\"text-blue\">50% male</span>, <span class=\"text-pink\">50% female</span></td> </tr>\n",
        "<tr>\n",
        "<th><a href=\"/glossary#def-eggcycle\">Egg cycles</a></th>\n",
        "<td>15 <small class=\"text-muted\">(3,599–3,855 steps)</small>\n",
        "</td>\n",
        "</tr>\n",
        "</tbody>\n",
        "</table>\n",
        "</div>\n",
        "</div>\n",
        "</div>\n",
        "\n",
        "<div class=\"grid-col span-md-12 span-lg-8\">\n",
        "<div id=\"dex-stats\"></div>\n",
        "<h2>Base stats</h2>\n",
        "<div class=\"resp-scroll\">\n",
        "<table class=\"vitals-table\">\n",
        "<tbody>\n",
        "<tr>\n",
        "<th>HP</th>\n",
        "<td class=\"cell-num\">31</td>\n",
        "<td class=\"cell-barchart\">\n",
        "<div style=\"width:17.22%;\" class=\"barchart-bar barchart-rank-2 \"></div>\n",
        "</td>\n",
        "<td class=\"cell-num\">172</td>\n",
        "<td class=\"cell-num\">266</td>\n",
        "</tr>\n",
        "<tr>\n",
        "<th>Attack</th>\n",
        "<td class=\"cell-num\">45</td>\n",
        "<td class=\"cell-barchart\">\n",
        "<div style=\"width:25.00%;\" class=\"barchart-bar barchart-rank-2 \"></div>\n",
        "</td>\n",
        "<td class=\"cell-num\">85</td>\n",
        "<td class=\"cell-num\">207</td>\n",
        "</tr>\n",
        "<tr>\n",
        "<th>Defense</th>\n",
        "<td class=\"cell-num\">90</td>\n",
        "<td class=\"cell-barchart\">\n",
        "<div style=\"width:50.00%;\" class=\"barchart-bar barchart-rank-4 \"></div>\n",
        "</td>\n",
        "<td class=\"cell-num\">166</td>\n",
        "<td class=\"cell-num\">306</td>\n",
        "</tr>\n",
        "<tr>\n",
        "<th>Sp. Atk</th>\n",
        "<td class=\"cell-num\">30</td>\n",
        "<td class=\"cell-barchart\">\n",
        "<div style=\"width:16.67%;\" class=\"barchart-bar barchart-rank-2 \"></div>\n",
        "</td>\n",
        "<td class=\"cell-num\">58</td>\n",
        "<td class=\"cell-num\">174</td>\n",
        "</tr>\n",
        "<tr>\n",
        "<th>Sp. Def</th>\n",
        "<td class=\"cell-num\">30</td>\n",
        "<td class=\"cell-barchart\">\n",
        "<div style=\"width:16.67%;\" class=\"barchart-bar barchart-rank-2 \"></div>\n",
        "</td>\n",
        "<td class=\"cell-num\">58</td>\n",
        "<td class=\"cell-num\">174</td>\n",
        "</tr>\n",
        "<tr>\n",
        "<th>Speed</th>\n",
        "<td class=\"cell-num\">40</td>\n",
        "<td class=\"cell-barchart\">\n",
        "<div style=\"width:22.22%;\" class=\"barchart-bar barchart-rank-2 \"></div>\n",
        "</td>\n",
        "<td class=\"cell-num\">76</td>\n",
        "<td class=\"cell-num\">196</td>\n",
        "</tr>\n",
        "</tbody>\n",
        "<tfoot>\n",
        "<tr>\n",
        "<th>Total</th>\n",
        "<td class=\"cell-total\"><b>266</b></td>\n",
        "<th class=\"cell-barchart\"></th>\n",
        "<th>Min</th>\n",
        "<th>Max</th>\n",
        "</tr>\n",
        "</tfoot>\n",
        "</table>\n",
        "</div>\n",
        "</div>\n",
        ":::\n",
        "\n",
        "Pour la question 2, l'objectif est d'obtenir\n",
        "l'une des images suivantes:\n",
        "\n",
        "![](featured.jpg)\n",
        "\n",
        "## Version guidée\n",
        "\n",
        "Les prochaines parties permettront de faire l'exercice ci-dessus\n",
        "étape par étape, \n",
        "de manière guidée.\n",
        "\n",
        "Nous souhaitons tout d'abord obtenir les\n",
        "informations personnelles de tous\n",
        "les pokemons sur [pokemondb.net](http://pokemondb.net/pokedex/national).\n",
        "\n",
        "Les informations que nous aimerions obtenir au final pour les pokemons sont celles contenues dans 4 tableaux :\n",
        "\n",
        "- Pokédex data\n",
        "- Training\n",
        "- Breeding\n",
        "- Base stats\n",
        "\n",
        "Nous proposons ensuite de récupérer et afficher les images.\n",
        "\n",
        "### Etape 1: constituer un DataFrame de caractéristiques\n",
        "\n",
        "::: {.cell .markdown}\n",
        "\n",
        "```{=html}\n",
        "<div class=\"alert alert-success\" role=\"alert\" style=\"color: rgba(0,0,0,.8); background-color: white; margin-top: 1em; margin-bottom: 1em; margin:1.5625emauto; padding:0 .6rem .8rem!important;overflow:hidden; page-break-inside:avoid; border-radius:.25rem; box-shadow:0 .2rem .5rem rgba(0,0,0,.05),0 0 .05rem rgba(0,0,0,.1); transition:color .25s,background-color .25s,border-color .25s ; border-right: 1px solid #dee2e6 ; border-top: 1px solid #dee2e6 ; border-bottom: 1px solid #dee2e6 ; border-left:.2rem solid #3fb618;\">\n",
        "<h3 class=\"alert-heading\"><i class=\"fa fa-pencil\"></i> Exercice 2b : Les pokémons (version guidée)</h3>\n",
        "```\n",
        "\n",
        "\n",
        "Pour récupérer les informations, le code devra être divisé en plusieurs étapes : \n",
        "\n",
        "\n",
        "1. Trouvez la page principale du site et la transformer en un objet intelligible pour votre code.\n",
        "Les fonctions suivantes vous seront utiles :\n",
        "- `urllib.request.Request`\n",
        "- `urllib.request.urlopen`\n",
        "- `bs4.BeautifulSoup`\n",
        "\n",
        "2. Créez une fonction qui permet de récupérer la page d'un pokémon à partir de son nom.\n",
        "\n",
        "3. A partir de la page de `bulbasaur`, obtenez les 4 tableaux qui nous intéressent :\n",
        "- on va chercher l'élément suivant : `('table', { 'class' : \"vitals-table\"})`\n",
        "- puis stocker ses éléments dans un dictionnaire\n",
        "\n",
        "4. Récupérez par ailleurs la liste de noms des pokémons qui nous permettra de faire une boucle par la suite. Combien trouvez-vous de pokémons ? \n",
        "\n",
        "5. Ecrire une fonction qui récupère l'ensemble des informations sur les dix premiers pokémons de la liste et les intègre dans un `DataFrame`\n",
        "\n",
        "\n",
        "```{=html}\n",
        "</div>\n",
        "```\n",
        "\n",
        ":::\n"
      ],
      "id": "2db78bd3"
    },
    {
      "cell_type": "code",
      "metadata": {},
      "source": [
        "# 1. trouver la page principale du site et la transformer en un objet intelligible pour votre code.\n",
        "import urllib\n",
        "import bs4\n",
        "import collections\n",
        "import pandas as pd\n",
        "\n",
        "# pour le site que nous utilisons, le user agent de python 3 n'est pas  bien passé :\n",
        "# on le change donc pour celui de Mozilla\n",
        "\n",
        "req = urllib.request.Request('http://pokemondb.net/pokedex/national',\n",
        "                             headers={'User-Agent': 'Mozilla/5.0'})\n",
        "html = urllib.request.urlopen(req).read()\n",
        "page = bs4.BeautifulSoup(html, \"lxml\")\n",
        "#page.findAll('span', {'class': 'infocard-lg-img'})"
      ],
      "id": "81f90be1",
      "execution_count": null,
      "outputs": []
    },
    {
      "cell_type": "code",
      "metadata": {},
      "source": [
        "# 2. Créez une fonction qui permet de récupérer la page d'un pokémon à partir de son nom\n",
        "#https://pokemondb.net/pokedex/bulbasaur\n",
        "\n",
        "def get_page(pokemon_name):\n",
        "    url_pokemon = 'http://pokemondb.net/pokedex/'+ pokemon_name\n",
        "    req = urllib.request.Request(url_pokemon, headers = {'User-Agent' : 'Mozilla/5.0'})\n",
        "    html = urllib.request.urlopen(req).read()\n",
        "    return bs4.BeautifulSoup(html, \"lxml\")\n",
        "\n",
        "#get_page(\"bulbasaur\")"
      ],
      "id": "dba58060",
      "execution_count": null,
      "outputs": []
    },
    {
      "cell_type": "code",
      "metadata": {},
      "source": [
        "# 3. A partir de la page de Bulbasaur, obtenir les 4 tableaux qui nous intéressent et les stocker dans un dictionnaire\n",
        "#https://pokemondb.net/pokedex/bulbasaur\n",
        "\n",
        "## On explore un peu\n",
        "page_pokemon = get_page(\"bulbasaur\")\n",
        "\n",
        "indice_tableau = 0 #premier tableau : 0\n",
        "print(\"\\n tableau\", indice_tableau+1, \" : deux premières lignes\")\n",
        "tableau_1 = page_pokemon.findAll('table', { 'class' : \"vitals-table\"})[indice_tableau] \n",
        "for elements in tableau_1.find('tbody').findChildren(['tr'])[0:2]:  #Afficher les 2 éléments du tableau\n",
        "    print(elements.findChild('th'))\n",
        "    print(elements.findChild('td'))\n",
        "print(\"\\n\\n\\n\")\n",
        "\n",
        "## On automatise : fonction pour stocker dans un dictionnaire\n",
        "def get_cara_pokemon(pokemon_name):\n",
        "    page = get_page(pokemon_name)\n",
        "    data = collections.defaultdict()\n",
        "    for table in page.findAll('table', { 'class' : \"vitals-table\"})[0:4] :\n",
        "        table_body = table.find('tbody')\n",
        "        for rows in table_body.findChildren(['tr']) :\n",
        "            if len(rows) > 1 : # attention aux tr qui ne contiennent rien\n",
        "                column = rows.findChild('th').getText()\n",
        "                cells = rows.findChild('td').getText()\n",
        "                cells = cells.replace('\\t','').replace('\\n',' ')\n",
        "                data[column] = cells\n",
        "                data['name'] = pokemon_name\n",
        "    return data"
      ],
      "id": "0ab1c7f5",
      "execution_count": null,
      "outputs": []
    },
    {
      "cell_type": "markdown",
      "metadata": {},
      "source": [
        "A l'issue de la question 3,\n",
        "vous devriez obtenir une liste de caractéristiques proche de celle-ci:\n"
      ],
      "id": "76515447"
    },
    {
      "cell_type": "code",
      "metadata": {},
      "source": [
        "get_cara_pokemon(\"bulbasaur\")"
      ],
      "id": "186ea3a4",
      "execution_count": null,
      "outputs": []
    },
    {
      "cell_type": "markdown",
      "metadata": {},
      "source": [
        "La structure est ici en dictionnaire, ce qui est pratique. \n"
      ],
      "id": "5f6b6cff"
    },
    {
      "cell_type": "code",
      "metadata": {},
      "source": [
        "# 4. Récupérez la liste de noms des pokémons\n",
        "liste_pokemon =[]\n",
        "for pokemon in page.findAll('span', {'class': 'infocard-lg-img'}) :\n",
        "    pokemon = pokemon.find('a').get('href').replace(\"/pokedex/\",'')\n",
        "    liste_pokemon.append(pokemon)\n",
        "print(len(liste_pokemon)) #898\n",
        "liste_pokemon[0:10]"
      ],
      "id": "cd97400f",
      "execution_count": null,
      "outputs": []
    },
    {
      "cell_type": "markdown",
      "metadata": {},
      "source": [
        "Enfin, vous les\n",
        "informations sur les dix premiers pokémons de la liste intégrées dans un\n",
        "`DataFrame` prendront l'aspect suivant:\n"
      ],
      "id": "0ef034e9"
    },
    {
      "cell_type": "code",
      "metadata": {},
      "source": [
        "# 5. Informations sur les dix premiers pokémons de la liste intégrées dans un data.frame\n",
        "items = []\n",
        "for pokemon in liste_pokemon[0:10] :\n",
        "    item = get_cara_pokemon(pokemon)\n",
        "    items.append(item)\n",
        "df = pd.DataFrame(items)"
      ],
      "id": "9f89d460",
      "execution_count": null,
      "outputs": []
    },
    {
      "cell_type": "code",
      "metadata": {},
      "source": [
        "df.head()"
      ],
      "id": "513633eb",
      "execution_count": null,
      "outputs": []
    },
    {
      "cell_type": "markdown",
      "metadata": {},
      "source": [
        "### Etape 2: récupérer et afficher des photos de Pokemon\n",
        "\n",
        "Nous aimerions que vous récupériez également les images des 5 premiers pokémons\n",
        "et que vous les enregistriez dans un dossier.\n",
        "\n",
        "::: {.cell .markdown}\n",
        "\n",
        "```{=html}\n",
        "<div class=\"alert alert-success\" role=\"alert\" style=\"color: rgba(0,0,0,.8); background-color: white; margin-top: 1em; margin-bottom: 1em; margin:1.5625emauto; padding:0 .6rem .8rem!important;overflow:hidden; page-break-inside:avoid; border-radius:.25rem; box-shadow:0 .2rem .5rem rgba(0,0,0,.05),0 0 .05rem rgba(0,0,0,.1); transition:color .25s,background-color .25s,border-color .25s ; border-right: 1px solid #dee2e6 ; border-top: 1px solid #dee2e6 ; border-bottom: 1px solid #dee2e6 ; border-left:.2rem solid #3fb618;\">\n",
        "<h3 class=\"alert-heading\"><i class=\"fa fa-pencil\"></i> Exercice 2b : Les pokémons (version guidée)</h3>\n",
        "```\n",
        "\n",
        "\n",
        "- Les URL des images des pokemon prennent la forme _\"https://img.pokemondb.net/artwork/{pokemon}.jpg\"_. \n",
        "Utiliser les modules `requests` et `shutil` pour télécharger \n",
        "et enregistrer en local les images. \n",
        "- Importer ces images stockées au format JPEG dans `Python` grâce à la fonction `imread` du package `skimage.io`\n",
        "\n",
        "\n",
        "```{=html}\n",
        "</div>\n",
        "```\n",
        "\n",
        ":::\n"
      ],
      "id": "248a4613"
    },
    {
      "cell_type": "code",
      "metadata": {},
      "source": [
        "# Correction de l'étape 2\n",
        "import shutil\n",
        "import requests\n",
        "import os\n",
        "import matplotlib.pyplot as plt\n",
        "import skimage.io as imio\n",
        "\n",
        "nb_pokemons = 5\n",
        "fig, ax = plt.subplots(1, nb_pokemons, figsize=(12,4))\n",
        "for indice_pokemon in range(0,nb_pokemons) :\n",
        "    pokemon = liste_pokemon[indice_pokemon]\n",
        "    url = f\"https://img.pokemondb.net/artwork/{pokemon}.jpg\"\n",
        "    response = requests.get(url, stream=True)\n",
        "    with open(f'{pokemon}.jpg', 'wb') as out_file:\n",
        "        shutil.copyfileobj(response.raw, out_file)\n",
        "    name = f'{pokemon}.jpg'\n",
        "    img = imio.imread(name)\n",
        "    ax[indice_pokemon].imshow(img)  \n",
        "    ax[indice_pokemon].get_xaxis().set_visible(False)\n",
        "    ax[indice_pokemon].get_yaxis().set_visible(False)"
      ],
      "id": "4b7b7219",
      "execution_count": null,
      "outputs": []
    },
    {
      "cell_type": "code",
      "metadata": {},
      "source": [
        "#plt.savefig('pokemon.png', bbox_inches='tight')\n",
        "ax[0].get_figure()"
      ],
      "id": "7faee39c",
      "execution_count": null,
      "outputs": []
    },
    {
      "cell_type": "code",
      "metadata": {},
      "source": [
        "shutil.copyfile(\"bulbasaur.jpg\", \"featured.jpg\")"
      ],
      "id": "b899957f",
      "execution_count": null,
      "outputs": []
    },
    {
      "cell_type": "markdown",
      "metadata": {},
      "source": [
        "# `Selenium` : mimer le comportement d'un utilisateur internet\n",
        "\n",
        "\n",
        "Jusqu'à présent,\n",
        "nous avons raisonné comme si nous connaissions toujours l'url qui nous intéresse.\n",
        "De plus, les pages que nous visitons sont __\"statiques\"__,\n",
        "elles ne dépendent pas d'une action ou d'une recherche de l'internaute. \n",
        "\n",
        "Nous allons voir à présent comment nous en sortir pour remplir\n",
        "des champs sur un site _web_ et récupérer ce qui nous intéresse. \n",
        "La réaction d'un site _web_ à l'action d'un utilisateur passe régulièrement par\n",
        "l'usage de `JavaScript` dans le monde du développement _web_. \n",
        "Le _package_ [Selenium](https://pypi.python.org/pypi/selenium) permet \n",
        "de reproduire, depuis un code automatisé, le comportement\n",
        "manuel d'un utilisateur. Il permet ainsi\n",
        "d'obtenir des informations du site qui ne sont pas dans le\n",
        "code `HTML` mais qui apparaissent uniquement à la suite de\n",
        "l'exécution de script `JavaScript` en arrière plan. \n",
        "\n",
        "`Selenium` se comporte comme un utilisateur _lambda_ sur internet :\n",
        "il clique sur des liens, il remplit des formulaires, etc.\n",
        "\n",
        "## Premier exemple en scrapant un moteur de recherche\n",
        "\n",
        "Dans cet exemple, nous allons essayer d'aller sur le\n",
        "site de [Bing Actualités](https://www.bing.com/news)\n",
        "et entrer dans la barre de recherche un sujet donné.\n",
        "Pour tester, nous allons faire une recherche avec le mot-clé __\"Trump\"__. \n",
        "\n",
        "L'installation de `Selenium` nécessite d'avoir `Chromium` qui est un \n",
        "navigateur Google Chrome minimaliste. \n",
        "La version de [chromedriver](https://sites.google.com/a/chromium.org/chromedriver/)\n",
        "doit être `>= 2.36` et dépend de la version de `Chrome` que vous avez sur votre environnement\n",
        "de travail. Pour installer cette version minimaliste de `Chrome` sur un environnement\n",
        "`Linux`, vous pouvez\n",
        "vous référer à l'encadré dédié\n",
        "\n",
        "\n",
        "::: {.cell .markdown}\n",
        "\n",
        "```{=html}\n",
        "<div class=\"alert alert-info\" role=\"alert\" style=\"color: rgba(0,0,0,.8); background-color: white; margin-top: 1em; margin-bottom: 1em; margin:1.5625emauto; padding:0 .6rem .8rem!important;overflow:hidden; page-break-inside:avoid; border-radius:.25rem; box-shadow:0 .2rem .5rem rgba(0,0,0,.05),0 0 .05rem rgba(0,0,0,.1); transition:color .25s,background-color .25s,border-color .25s ; border-right: 1px solid #dee2e6 ; border-top: 1px solid #dee2e6 ; border-bottom: 1px solid #dee2e6 ; border-left:.2rem solid #007bff80;\">\n",
        "<h3 class=\"alert-heading\"><i class=\"fa fa-pencil\"></i> `Installation de Selenium`</h3>\n",
        "```\n",
        "\n",
        "\n",
        "D'abord, il convient d'installer les dépendances. \n",
        "Sur `Colab`, vous pouvez utiliser les commandes suivantes:\n"
      ],
      "id": "30a89e1d"
    },
    {
      "cell_type": "code",
      "metadata": {},
      "source": [
        "#| eval: false\n",
        "!sudo apt-get update\n",
        "!sudo apt install -y unzip xvfb libxi6 libgconf-2-4 -y\n",
        "!sudo apt install chromium-chromedriver -y\n",
        "!cp /usr/lib/chromium-browser/chromedriver /usr/bin"
      ],
      "id": "d543ef15",
      "execution_count": null,
      "outputs": []
    },
    {
      "cell_type": "markdown",
      "metadata": {},
      "source": [
        "Si vous êtes sur le `SSP-Cloud`, vous pouvez\n",
        "exécuter les commandes suivantes:\n"
      ],
      "id": "7876534a"
    },
    {
      "cell_type": "code",
      "metadata": {},
      "source": [
        "#| output: false\n",
        "!wget https://dl.google.com/linux/direct/google-chrome-stable_current_amd64.deb -O /tmp/chrome.deb\n",
        "!sudo apt-get update\n",
        "!sudo -E apt-get install -y /tmp/chrome.deb\n",
        "!pip install chromedriver-autoinstaller selenium\n",
        "\n",
        "import chromedriver_autoinstaller\n",
        "chromedriver_autoinstaller.install()"
      ],
      "id": "134a59c5",
      "execution_count": null,
      "outputs": []
    },
    {
      "cell_type": "markdown",
      "metadata": {},
      "source": [
        "Vous pouvez ensuite installer `Selenium`. Par\n",
        "exemple, depuis une\n",
        "cellule de `Notebook`:\n"
      ],
      "id": "2b8caf3d"
    },
    {
      "cell_type": "code",
      "metadata": {},
      "source": [
        "#| output: false\n",
        "!pip install selenium"
      ],
      "id": "b76515b3",
      "execution_count": null,
      "outputs": []
    },
    {
      "cell_type": "markdown",
      "metadata": {},
      "source": [
        "```{=html}\n",
        "</div>\n",
        "```\n",
        "\n",
        ":::\n",
        "\n",
        "Après avoir installé `Chromium`, \n",
        "il est nécessaire d'indiquer à `Python` où\n",
        "le trouver. Si vous êtes sur `Linux` et que vous\n",
        "avez suivi les consignes précédentes, vous\n",
        "pouvez faire:\n"
      ],
      "id": "37903e1f"
    },
    {
      "cell_type": "code",
      "metadata": {},
      "source": [
        "#| output: false\n",
        "import sys\n",
        "sys.path.insert(0,'/usr/lib/chromium-browser/chromedriver')\n",
        "import selenium\n",
        "path_to_web_driver = \"chromedriver\""
      ],
      "id": "a61ecaff",
      "execution_count": null,
      "outputs": []
    },
    {
      "cell_type": "markdown",
      "metadata": {},
      "source": [
        "En premier lieu, il convient d'initialiser le comportement\n",
        "de `Selenium` en répliquant les paramètres\n",
        "du navigateur. Pour cela, on va d'abord initialiser\n",
        "notre navigateur avec quelques options:\n"
      ],
      "id": "ebc8dc89"
    },
    {
      "cell_type": "code",
      "metadata": {},
      "source": [
        "#| output: false\n",
        "import time\n",
        "\n",
        "from selenium import webdriver\n",
        "from selenium.webdriver.common.keys import Keys\n",
        "\n",
        "chrome_options = webdriver.ChromeOptions()\n",
        "chrome_options.add_argument('--headless')\n",
        "chrome_options.add_argument('--no-sandbox')\n",
        "#chrome_options.add_argument('--verbose') "
      ],
      "id": "c459a35d",
      "execution_count": null,
      "outputs": []
    },
    {
      "cell_type": "code",
      "metadata": {},
      "source": [
        "# specific pour usage dans docker container\n",
        "chrome_options.add_argument('--disable-dev-shm-usage')"
      ],
      "id": "69b71b07",
      "execution_count": null,
      "outputs": []
    },
    {
      "cell_type": "markdown",
      "metadata": {},
      "source": [
        "Puis on lance le navigateur:\n"
      ],
      "id": "b9c7d045"
    },
    {
      "cell_type": "code",
      "metadata": {},
      "source": [
        "browser = webdriver.Chrome(executable_path=path_to_web_driver,\n",
        "                           options=chrome_options)"
      ],
      "id": "860aebd6",
      "execution_count": null,
      "outputs": []
    },
    {
      "cell_type": "markdown",
      "metadata": {},
      "source": [
        "On va sur le site de `Bing Actualités`, et on lui indique le mot clé que nous souhaitons chercher. \n",
        "En l'occurrence, on s'intéresse aux actualités de Donald Trump.\n",
        "Après avoir inspecté la page depuis les outils de développement du navigateur,\n",
        "on voit que la barre de recherche est un élement du code appelé `q` (comme _query_).\n",
        "On va ainsi demander à `selenium` de chercher cet élément:\n"
      ],
      "id": "f3518350"
    },
    {
      "cell_type": "code",
      "metadata": {},
      "source": [
        "browser.get('https://www.bing.com/news')\n",
        "\n",
        "search = browser.find_element(\"name\", \"q\")\n",
        "print(search)\n",
        "print([search.text, search.tag_name, search.id])\n",
        "\n",
        "# on envoie à cet endroit le mot qu'on aurait tapé dans la barre de recherche\n",
        "search.send_keys(\"Trump\")\n",
        "\n",
        "search_button = browser.find_element(\"xpath\", \"//input[@id='sb_form_go']\") \n",
        "search_button.click()"
      ],
      "id": "8f1493a7",
      "execution_count": null,
      "outputs": []
    },
    {
      "cell_type": "markdown",
      "metadata": {},
      "source": [
        "`selenium` permet de capturer l'image qu'on verrait dans le navigateur\n",
        "avec `get_screenshot_as_png`. Cela peut être utile pour vérifier qu'on\n",
        "a fait la bonne action:\n"
      ],
      "id": "94fa3533"
    },
    {
      "cell_type": "code",
      "metadata": {},
      "source": [
        "#| output: false\n",
        "png = browser.get_screenshot_as_png()"
      ],
      "id": "7075bd3d",
      "execution_count": null,
      "outputs": []
    },
    {
      "cell_type": "code",
      "metadata": {},
      "source": [
        "from IPython.display import Image\n",
        "Image(png, width='500')"
      ],
      "id": "87aa319c",
      "execution_count": null,
      "outputs": []
    },
    {
      "cell_type": "markdown",
      "metadata": {},
      "source": [
        "Enfin, on peut extraire les résultats. Plusieurs\n",
        "méthodes sont disponibles. La méthode la plus\n",
        "pratique, lorsqu'elle est disponible,\n",
        "est d'utiliser le `XPath` qui est un chemin\n",
        "non ambigu pour accéder à un élement. En effet,\n",
        "plusieurs éléments peuvent partager la même classe ou \n",
        "le même attribut ce qui peut faire qu'une recherche \n",
        "de ce type peut renvoyer plusieurs échos. \n",
        "Pour déterminer le `XPath` d'un objet, les outils\n",
        "de développeurs de votre site _web_ sont pratiques. \n",
        "Par exemple, sous `Firefox`, une fois que vous\n",
        "avez trouvé un élément dans l'inspecteur, vous\n",
        "pouvez faire `click droit > Copier > XPath`. \n"
      ],
      "id": "07629947"
    },
    {
      "cell_type": "code",
      "metadata": {},
      "source": [
        "from selenium.common.exceptions import StaleElementReferenceException\n",
        "links = browser.find_elements(\"xpath\", \"//div/a[@class='title'][@href]\")\n",
        "\n",
        "results = []\n",
        "for link in links:\n",
        "    try:\n",
        "        url = link.get_attribute('href')\n",
        "    except StaleElementReferenceException as e:\n",
        "        print(\"Issue with '{0}' and '{1}'\".format(url, link))\n",
        "        print(\"It might be due to slow javascript which produces the HTML page.\")\n",
        "    results.append(url)"
      ],
      "id": "c31e103a",
      "execution_count": null,
      "outputs": []
    },
    {
      "cell_type": "markdown",
      "metadata": {},
      "source": [
        "Enfin, pour mettre fin à notre session, on demande\n",
        "à `Python` de quitter le navigateur\n"
      ],
      "id": "e5c1d485"
    },
    {
      "cell_type": "code",
      "metadata": {},
      "source": [
        "browser.quit()"
      ],
      "id": "21e77dd5",
      "execution_count": null,
      "outputs": []
    },
    {
      "cell_type": "markdown",
      "metadata": {},
      "source": [
        "On a obtenu les résultats suivants:\n"
      ],
      "id": "37cfeaae"
    },
    {
      "cell_type": "code",
      "metadata": {},
      "source": [
        "print(results)"
      ],
      "id": "91593cc7",
      "execution_count": null,
      "outputs": []
    },
    {
      "cell_type": "markdown",
      "metadata": {},
      "source": [
        "Les autres méthodes utiles de `Selenium`:\n",
        "\n",
        "| `find_element(****).click()` | Une fois qu'on a trouvé un élément réactif, notamment un bouton, on peut cliquer dessus pour activer une nouvelle page |\n",
        "| `find_element(****).send_keys(\"toto\")` | Une fois qu'on a trouvé un élément, notamment un champ où s'authentifier, on peut envoyer une valeur, ici _\"toto\"_. \n",
        "\n",
        "\n",
        "## Utiliser selenium pour jouer à 2048\n",
        "\n",
        "Dans cet exemple, on utilise le module pour que `Python`\n",
        "appuie lui même sur les touches du clavier afin de jouer à 2048.\n",
        "\n",
        "Note : ce bout de code ne donne pas une solution à 2048,\n",
        "il permet juste de voir ce qu'on peut faire avec `Selenium`\n"
      ],
      "id": "9b09e002"
    },
    {
      "cell_type": "code",
      "metadata": {},
      "source": [
        "#| eval: false\n",
        "from selenium import webdriver\n",
        "from selenium.webdriver.common.keys import Keys\n",
        "\n",
        "# on ouvre la page internet du jeu 2048\n",
        "\n",
        "browser = webdriver.Chrome(executable_path=path_to_web_driver,\n",
        "                           options=chrome_options)\n",
        "browser.get('https://play2048.co//')\n",
        "\n",
        "# Ce qu'on va faire : une boucle qui répète inlassablement la même chose : haut / droite / bas / gauche\n",
        "\n",
        "# on commence par cliquer sur la page pour que les touches sachent \n",
        "browser.find_element(\"class name\", 'grid-container').click()\n",
        "grid = browser.find_element(\"tag name\", 'body')\n",
        "\n",
        "# pour savoir quels coups faire à quel moment, on crée un dictionnaire\n",
        "direction = {0: Keys.UP, 1: Keys.RIGHT, 2: Keys.DOWN, 3: Keys.LEFT}\n",
        "count = 0\n",
        "\n",
        "while True:\n",
        "    try: # on vérifie que le bouton \"Try again\" n'est pas là - sinon ça veut dire que le jeu est fini\n",
        "        retryButton = browser.find_element(\"link text\",'Try again')\n",
        "        scoreElem = browser.find_element(\"class name\", 'score-container')\n",
        "        break\n",
        "    except:\n",
        "        #Do nothing.  Game is not over yet\n",
        "        pass\n",
        "    # on continue le jeu - on appuie sur la touche suivante pour le coup d'après\n",
        "    count += 1\n",
        "    grid.send_keys(direction[count % 4]) \n",
        "    time.sleep(0.1)\n",
        "\n",
        "print('Score final : {} en {} coups'.format(scoreElem.text, count))    \n",
        "browser.quit()"
      ],
      "id": "ce77f27e",
      "execution_count": null,
      "outputs": []
    },
    {
      "cell_type": "markdown",
      "metadata": {},
      "source": [
        "# Exercices supplémentaires\n",
        "\n",
        "## Récupérer les noms et âges des ministres français\n",
        "\n",
        "Pour cet exercice, on propose de scraper la liste des ministres français depuis le [site du gouvernement](https://www.gouvernement.fr/composition-du-gouvernement). L'objectif sera, _in fine_ de faire un graphique qui représente la distribution de leurs âges.\n",
        "La solution pour cet exercice a été proposée\n",
        "par [Tien-Thinh](https://github.com/tttienthinh)\n",
        "et [Antoine Palazzolo](https://github.com/antoine-palazz).\n",
        "\n",
        "Pour être en mesure de faire cet exercice, il est\n",
        "recommandé d'installer le package `dateparser`\n"
      ],
      "id": "c6d6c876"
    },
    {
      "cell_type": "code",
      "metadata": {},
      "source": [
        "#| output: false\n",
        "!pip install dateparser\n",
        "#depuis un notebook. En ligne de commande, retirer le !"
      ],
      "id": "72d3837c",
      "execution_count": null,
      "outputs": []
    },
    {
      "cell_type": "markdown",
      "metadata": {},
      "source": [
        "Pour cet exercice, nous proposons d'utiliser les _packages_\n",
        "suivants:\n"
      ],
      "id": "b0824676"
    },
    {
      "cell_type": "code",
      "metadata": {},
      "source": [
        "import time\n",
        "from tqdm import tqdm\n",
        "import urllib\n",
        "import re, datetime\n",
        "from dateutil.parser import parse as parse_dt\n",
        "import dateparser\n",
        "\n",
        "import matplotlib.pyplot as plt\n",
        "\n",
        "import numpy as np\n",
        "import pandas as pd\n",
        "import bs4"
      ],
      "id": "e0ac3864",
      "execution_count": null,
      "outputs": []
    },
    {
      "cell_type": "markdown",
      "metadata": {},
      "source": [
        "Nous proposons également d'utiliser la fonction suivante\n",
        "pour calculer l'âge à partir de la date de naissance. \n"
      ],
      "id": "28b4630f"
    },
    {
      "cell_type": "code",
      "metadata": {},
      "source": [
        "def from_birth_to_age(birth):\n",
        "    today = datetime.date.today()\n",
        "    return today.year - birth.year - ((today.month, today.day) < (birth.month, birth.day))"
      ],
      "id": "8fa78da7",
      "execution_count": null,
      "outputs": []
    },
    {
      "cell_type": "markdown",
      "metadata": {},
      "source": [
        "::: {.cell .markdown}\n",
        "\n",
        "```{=html}\n",
        "<div class=\"alert alert-success\" role=\"alert\" style=\"color: rgba(0,0,0,.8); background-color: white; margin-top: 1em; margin-bottom: 1em; margin:1.5625emauto; padding:0 .6rem .8rem!important;overflow:hidden; page-break-inside:avoid; border-radius:.25rem; box-shadow:0 .2rem .5rem rgba(0,0,0,.05),0 0 .05rem rgba(0,0,0,.1); transition:color .25s,background-color .25s,border-color .25s ; border-right: 1px solid #dee2e6 ; border-top: 1px solid #dee2e6 ; border-bottom: 1px solid #dee2e6 ; border-left:.2rem solid #3fb618;\">\n",
        "<h3 class=\"alert-heading\"><i class=\"fa fa-pencil\"></i> Exercice : Les ministres français </h3>\n",
        "```\n",
        "\n",
        "\n",
        "\n",
        "1. Créer des variables globales `url_gouvernement` et `url_gouvernement` qui représenteront,\n",
        "respectivement, la racine de l'URL du site web et le chemin au sein de celui-ci ;\n",
        "2. Utiliser `bs4` pour récupérer la composition du gouvernement, qui est contenue dans un `<div>`\n",
        "ayant une classe _ad hoc_. Nommer cet objet `compo`\n",
        "3. Utiliser `find_all` pour récupérer la liste des ministres dans `compo`. Nommer\n",
        "cet objet `ministres`\n",
        "4. Inspecter la structure des champs au sein de `ministres`. Répérer les id `biography`. Comme\n",
        "la structure est générique, on va écrire une fonction `from_bio_to_age` sur laquelle on va itérer\n",
        "pour chaque élément de la liste `ministres`. Cette fonction effectuera les opérations suivantes:\n",
        "    + Remplacer les champs de dates de naissance non numériques (par exemple _\"1er\"_), en valeur numérique (par exemple 1). \n",
        "    + Utiliser la regex `[0-3]?\\d \\S* \\d{4}` avec le _package_ `re` pour extraire les dates\n",
        "    de naissance. Nommer l'objet `str_date`.\n",
        "    + Appliquer `dateparser.parse` pour convertir sous forme de date\n",
        "    + Appliquer `from_birth_to_age` pour transformer cette date de naissance en âge\n",
        "5. Pour chaque élément de la liste `ministres`, faire une boucle (en introduisant un \n",
        "    `time.sleep(0.25)` entre chaque itération pour ne pas surcharger le site):\n",
        "    + Récupérer les noms et prénoms, fonctions pour chaque ministre\n",
        "    + Récupérer l'URL de la photo\n",
        "    + Créer un URL pour chaque ministre afin d'appliquer la fonction\n",
        "    `from_bio_to_age`\n",
        "6. Utiliser `matplotlib` ou `seaborn` pour faire un histogramme d'âge\n",
        "\n",
        "\n",
        "```{=html}\n",
        "</div>\n",
        "```\n",
        "\n",
        ":::\n"
      ],
      "id": "7b01c104"
    },
    {
      "cell_type": "code",
      "metadata": {},
      "source": [
        "# 1/ Créer des variables globales\n",
        "url_gouvernement = \"https://www.gouvernement.fr\"\n",
        "suffixe_ministres = \"/composition-du-gouvernement\""
      ],
      "id": "dd3e3b6c",
      "execution_count": null,
      "outputs": []
    },
    {
      "cell_type": "code",
      "metadata": {},
      "source": [
        "# 2/ Récupérer compo gouvernement\n",
        "url = f\"{url_gouvernement}/{suffixe_ministres}\"\n",
        "html = urllib.request.urlopen(url).read()\n",
        "page = bs4.BeautifulSoup(html)\n",
        "compo = page.find(\"div\", {\"class\":\"composition-du-gouvernement-contenu\"}) # Nous n'avons besoin que de la composition"
      ],
      "id": "56394658",
      "execution_count": null,
      "outputs": []
    },
    {
      "cell_type": "code",
      "metadata": {},
      "source": [
        "# 3/ Récupérer les ministres\n",
        "ministres = compo.find_all(\"div\", {\"class\":\"ministre\"})"
      ],
      "id": "6e156ff5",
      "execution_count": null,
      "outputs": []
    },
    {
      "cell_type": "markdown",
      "metadata": {},
      "source": [
        "A l'issue de la question 4, on devrait \n",
        "retrouver les informations suivantes:\n"
      ],
      "id": "4d3717fa"
    },
    {
      "cell_type": "code",
      "metadata": {},
      "source": [
        "print(f\"Nous retrouvons ainsi {len(ministres)} ministres.\")"
      ],
      "id": "e6e975f8",
      "execution_count": null,
      "outputs": []
    },
    {
      "cell_type": "code",
      "metadata": {},
      "source": [
        "def from_bio_to_age(url):\n",
        "    html = urllib.request.urlopen(url).read()\n",
        "    page = bs4.BeautifulSoup(html)\n",
        "    s = page.find(\"div\", {\"id\":\"biography\"}).text.replace(\"1er\", \"1\") # un peu ad hoc\n",
        "    expression = re.compile(\"[0-3]?\\d \\S* \\d{4}\") # renvoie parfois des dates autres que dates de naissance\n",
        "    str_date = expression.findall(s)[0]\n",
        "    date_de_naissance = dateparser.parse(str_date).date()\n",
        "    return from_birth_to_age(date_de_naissance)"
      ],
      "id": "6b9b9240",
      "execution_count": null,
      "outputs": []
    },
    {
      "cell_type": "code",
      "metadata": {},
      "source": [
        "liste = []\n",
        "\n",
        "for ministre in tqdm(ministres):\n",
        "    prenom_nom = ministre.find(\"a\", {\"class\":\"ministre-nom\"}).text\n",
        "    fonction = ministre.find(\"p\", {\"class\":\"ministre-fonction\"}).text\n",
        "    photo = ministre.find(\"img\")[\"src\"]\n",
        "    href = url_gouvernement + ministre.find(\"a\", {\"class\":\"ministre-nom\"})[\"href\"]\n",
        "    try:\n",
        "        age = from_bio_to_age(href)\n",
        "    except:\n",
        "        age = np.NaN\n",
        "\n",
        "    liste.append({\n",
        "        'Nom complet': prenom_nom,\n",
        "        'Fonction': fonction,\n",
        "        'Photo': photo,\n",
        "        'href': href,\n",
        "        'Age': age\n",
        "        })\n",
        "    \n",
        "    time.sleep(0.25) # Ne pas surcharger les requêtes"
      ],
      "id": "977fb673",
      "execution_count": null,
      "outputs": []
    },
    {
      "cell_type": "markdown",
      "metadata": {},
      "source": [
        "_In fine_, on obtient une liste dont le premier élément\n",
        "prend la forme suivante:\n"
      ],
      "id": "6f40d63d"
    },
    {
      "cell_type": "code",
      "metadata": {},
      "source": [
        "liste[0]"
      ],
      "id": "702e8d2b",
      "execution_count": null,
      "outputs": []
    },
    {
      "cell_type": "markdown",
      "metadata": {},
      "source": [
        "Finalement, le `DataFrame` pourra être\n",
        "structuré sous la forme suivante. On va éliminer\n",
        "les âges égaux à 0 sont qui sont des erreurs\n",
        "de scraping:\n",
        "lorsque la date de naissance complète n'est pas disponible\n",
        "sur la biographie d'un ministre.\n"
      ],
      "id": "dbb90b05"
    },
    {
      "cell_type": "code",
      "metadata": {},
      "source": [
        "df = pd.DataFrame(liste)\n",
        "df = df.loc[df['Age'] != 0]\n",
        "df.head(3)"
      ],
      "id": "8da38c30",
      "execution_count": null,
      "outputs": []
    },
    {
      "cell_type": "markdown",
      "metadata": {},
      "source": [
        "Finalement, l'histogramme aura l'aspect suivant:\n"
      ],
      "id": "e030111f"
    },
    {
      "cell_type": "code",
      "metadata": {},
      "source": [
        "plt.hist(df.Age, bins=np.arange(25, 80, 4))"
      ],
      "id": "3130da5a",
      "execution_count": null,
      "outputs": []
    }
  ],
  "metadata": {
    "kernelspec": {
      "name": "python3",
      "language": "python",
      "display_name": "Python 3 (ipykernel)"
    }
  },
  "nbformat": 4,
  "nbformat_minor": 5
}