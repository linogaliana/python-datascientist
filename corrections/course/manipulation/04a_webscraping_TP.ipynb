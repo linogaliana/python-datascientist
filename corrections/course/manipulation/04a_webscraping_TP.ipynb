{
  "cells": [
    {
      "cell_type": "markdown",
      "metadata": {},
      "source": [
        "# Webscraping avec python"
      ],
      "id": "cdb96b65-a0e2-4a28-a27c-3e68868a02e9"
    },
    {
      "cell_type": "raw",
      "metadata": {
        "raw_mimetype": "text/html"
      },
      "source": [
        "<p class=\"badges\">"
      ],
      "id": "2250fdae-acb3-46e7-9c1a-fc23a073bcb2"
    },
    {
      "cell_type": "markdown",
      "metadata": {},
      "source": [
        "<a href=\"https://github.com/linogaliana/python-datascientist/blob/master/notebooks/course/manipulation/04_webscraping_TP.ipynb\" class=\"github\"><i class=\"fab fa-github\"></i></a>\n",
        "<a href=\"https://downgit.github.io/#/home?url=https://github.com/linogaliana/python-datascientist/blob/master/notebooks/course/manipulation/04_webscraping_TP.ipynb\" target=\"_blank\" rel=\"noopener\"><img src=\"https://img.shields.io/badge/Download-Notebook-important?logo=Jupyter\" alt=\"Download\"></a>\n",
        "<a href=\"https://nbviewer.jupyter.org/github/linogaliana/python-datascientist/blob/master/notebooks/course/manipulation/04_webscraping_TP.ipynb\" target=\"_blank\" rel=\"noopener\"><img src=\"https://img.shields.io/badge/Visualize-nbviewer-blue?logo=Jupyter\" alt=\"nbviewer\"></a>\n",
        "<a href=\"https://datalab.sspcloud.fr/launcher/inseefrlab-helm-charts-datascience/jupyter?autoLaunch=true&onyxia.friendlyName=%C2%ABpython-datascience%C2%BB&init.personalInit=%C2%ABhttps%3A%2F%2Fraw.githubusercontent.com%2Flinogaliana%2Fpython-datascientist%2Fmaster%2Fsspcloud%2Finit-jupyter.sh%C2%BB&init.personalInitArgs=%C2%ABnotebooks/course/manipulation%2004_webscraping_TP.ipynb%C2%BB&security.allowlist.enabled=false\" target=\"_blank\" rel=\"noopener\"><img src=\"https://img.shields.io/badge/SSPcloud-Tester%20via%20SSP--cloud-informational&amp;color=yellow?logo=Python\" alt=\"Onyxia\"></a><br>\n",
        "<a href=\"https://mybinder.org/v2/gh/linogaliana/python-datascientist/master?filepath={binder_path}\" target=\"_blank\" rel=\"noopener\"><img src=\"https://img.shields.io/badge/Launch-Binder-E66581.svg?logo=data:image/png;base64,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\" alt=\"Binder\"></a>\n",
        "<a href=\"http://colab.research.google.com/github/linogaliana/python-datascientist/blob/master/notebooks/course/manipulation/04_webscraping_TP.ipynb\" target=\"_blank\" rel=\"noopener\"><img src=\"https://colab.research.google.com/assets/colab-badge.svg\" alt=\"Open In Colab\"></a>\n",
        "<a href=\"https://github.dev/linogaliana/python-datascientist/notebooks/course/manipulation/04_webscraping_TP.ipynb\" target=\"_blank\" rel=\"noopener\"><img src=\"https://img.shields.io/static/v1?logo=visualstudiocode&label=&message=Open%20in%20Visual%20Studio%20Code&labelColor=2c2c32&color=007acc&logoColor=007acc\" alt=\"githubdev\"></a>"
      ],
      "id": "532592cb-0092-4828-aacc-daaa6d82d772"
    },
    {
      "cell_type": "raw",
      "metadata": {
        "raw_mimetype": "text/html"
      },
      "source": [
        "</p>"
      ],
      "id": "503ca4c1-90b4-4c74-ab44-49ad36ad443d"
    },
    {
      "cell_type": "raw",
      "metadata": {
        "raw_mimetype": "text/html"
      },
      "source": [
        "</p>"
      ],
      "id": "4fc16ce7-66c0-4111-83b7-060d70a1fdf7"
    },
    {
      "cell_type": "markdown",
      "metadata": {},
      "source": [
        "Le [webscraping](https://fr.wikipedia.org/wiki/Web_scraping) désigne les techniques d’extraction du contenu des sites internet. C’est une pratique très utile pour toute personne souhaitant travailler sur des informations disponibles en ligne, mais n’existant pas forcément sous la forme d’un tableau *Excel*.\n",
        "\n",
        "Ce TP vous présente comment créer et exécuter des robots afin de recupérer rapidement des informations utiles à vos projets actuels ou futurs.\n",
        "\n",
        "Le *webscraping* a un certain nombre d’enjeux en termes de légalité, qui ne seront pas enseignés dans ce cours mais dans un cours de 3A à l’ENSAE. En particulier, la CNIL a publié en 2020 de nouvelles directives sur le *webscraping* reprécisant que toute donnée ne peut être réutilisée à l’insu de la personne à laquelle ces données appartiennent.\n",
        "\n",
        "Enfin, il est à noter que ce notebook est très fortement inspiré et réadapté à partir de [celui de Xavier Dupré](http://www.xavierdupre.fr/app/ensae_teaching_cs/helpsphinx/notebooks/TD2A_Eco_Web_Scraping.html), l’ancien professeur de la matière.\n",
        "\n",
        "# Un détour par le Web : comment fonctionne un site ?\n",
        "\n",
        "Même si ce TP ne vise pas à faire un cours de web, il vous faut néanmoins certaines bases sur la manière dont un site internet fonctionne afin de comprendre comment sont structurées les informations sur une page.\n",
        "\n",
        "Un site Web est un ensemble de pages codées en *HTML* qui permet de décrire à la fois le contenu et la forme d’une page *Web*.\n",
        "\n",
        "Pour voir cela, ouvrez n’importe quelle page web et faites un clic-droit dessus.\n",
        "- Sous `Chrome` <i class=\"fab fa-chrome\"></i> : Cliquez ensuite sur “Affichez le code source de la page” (<kbd>CTRL</kbd>+<kbd>U</kbd>) ;\n",
        "- Sous `Firefox` <i class=\"fab fa-firefox\"></i> : “Code source de la page” (<kbd>CTRL</kbd>+<kbd>MAJ</kbd>+<kbd>K</kbd>) ;\n",
        "- Sous `Edge` <i class=\"fab fa-edge\"></i> : “Affichez la page source” (<kbd>CTRL</kbd>+<kbd>U</kbd>) ;\n",
        "- Sous `Safari` <i class=\"fab fa-safari\"></i> : voir comment faire [ici](https://fr.wikihow.com/voir-le-code-source)\n",
        "\n",
        "## Les balises\n",
        "\n",
        "Sur une page web, vous trouverez toujours à coup sûr des éléments comme `<head>`, `<title>`, etc. Il s’agit des codes qui vous permettent de structurer le contenu d’une page *HTML* et qui s’appellent des **balises**.\n",
        "Citons, par exemple, les balises `<p>`, `<h1>`, `<h2>`, `<h3>`, `<strong>` ou `<em>`.\n",
        "Le symbole `< >` est une balise : il sert à indiquer le début d’une partie. Le symbole `</ >` indique la fin de cette partie. La plupart des balises vont par paires, avec une *balise ouvrante* et une *balise fermante* (par exemple `<p>` et `</p>`).\n",
        "\n",
        "### Exemple : les balise des tableaux\n",
        "\n",
        "| Balise      | Description                     |\n",
        "|-------------|---------------------------------|\n",
        "| `<table>`   | Tableau                         |\n",
        "| `<caption>` | Titre du tableau                |\n",
        "| `<tr>`      | Ligne de tableau                |\n",
        "| `<th>`      | Cellule d’en-tête               |\n",
        "| `<td>`      | Cellule                         |\n",
        "| `<thead>`   | Section de l’en-tête du tableau |\n",
        "| `<tbody>`   | Section du corps du tableau     |\n",
        "| `<tfoot>`   | Section du pied du tableau      |\n",
        "\n",
        "**Application : un tableau en HTML**\n",
        "\n",
        "Le code *HTML* du tableau suivant\n",
        "\n",
        "``` {html}\n",
        "<table>\n",
        "<caption> Le Titre de mon tableau </caption>\n",
        "\n",
        "   <tr>\n",
        "      <th>Prénom</th>\n",
        "      <th>Nom</th>\n",
        "      <th>Profession</th>\n",
        "   </tr>\n",
        "   <tr>\n",
        "      <td>Mike </td>\n",
        "      <td>Stuntman</td>\n",
        "      <td>Cascadeur</td>\n",
        "   </tr>\n",
        "   <tr>\n",
        "      <td>Mister</td>\n",
        "      <td>Pink</td>\n",
        "      <td>Gangster</td>\n",
        "   </tr>\n",
        "</table>\n",
        "```\n",
        "\n",
        "Donnera dans le navigateur :"
      ],
      "id": "9ab0af12-1809-4a5b-837c-01a7c2239a26"
    },
    {
      "cell_type": "raw",
      "metadata": {
        "raw_mimetype": "text/html"
      },
      "source": [
        "<table>"
      ],
      "id": "7d53fba4-4fc9-4620-9076-9f87df9d3021"
    },
    {
      "cell_type": "raw",
      "metadata": {
        "raw_mimetype": "text/html"
      },
      "source": [
        "<caption>"
      ],
      "id": "fe37ec14-09f9-4002-a277-6a60680910af"
    },
    {
      "cell_type": "markdown",
      "metadata": {},
      "source": [
        "Le Titre de mon tableau"
      ],
      "id": "fc6af022-ce64-488d-88f1-f8af22c08535"
    },
    {
      "cell_type": "raw",
      "metadata": {
        "raw_mimetype": "text/html"
      },
      "source": [
        "</caption>"
      ],
      "id": "1b2177d6-e99c-4dca-8e1f-b1a3a3cf462c"
    },
    {
      "cell_type": "raw",
      "metadata": {
        "raw_mimetype": "text/html"
      },
      "source": [
        "<tr>"
      ],
      "id": "6bde88b1-8652-4eba-b177-df2dc514b934"
    },
    {
      "cell_type": "raw",
      "metadata": {
        "raw_mimetype": "text/html"
      },
      "source": [
        "<th>"
      ],
      "id": "8e90246a-6bed-42e0-9ffd-7361b97f241c"
    },
    {
      "cell_type": "markdown",
      "metadata": {},
      "source": [
        "Prénom"
      ],
      "id": "c62187ff-1b70-444c-a754-633f06df2dfd"
    },
    {
      "cell_type": "raw",
      "metadata": {
        "raw_mimetype": "text/html"
      },
      "source": [
        "</th>"
      ],
      "id": "367287cf-9b4b-4616-af9d-267a2ea12175"
    },
    {
      "cell_type": "raw",
      "metadata": {
        "raw_mimetype": "text/html"
      },
      "source": [
        "<th>"
      ],
      "id": "d604c5a6-b3ec-4333-a07f-d32db8d3ff77"
    },
    {
      "cell_type": "markdown",
      "metadata": {},
      "source": [
        "Nom"
      ],
      "id": "923e60ab-f414-4289-b8c1-1d872b502bc9"
    },
    {
      "cell_type": "raw",
      "metadata": {
        "raw_mimetype": "text/html"
      },
      "source": [
        "</th>"
      ],
      "id": "a8c3a74c-2812-430e-a3e8-805700a59bd2"
    },
    {
      "cell_type": "raw",
      "metadata": {
        "raw_mimetype": "text/html"
      },
      "source": [
        "<th>"
      ],
      "id": "c98305bb-f7d6-4378-8f19-464d61779434"
    },
    {
      "cell_type": "markdown",
      "metadata": {},
      "source": [
        "Profession"
      ],
      "id": "46b17de1-7d64-4fdb-b9c7-9740d728ff2b"
    },
    {
      "cell_type": "raw",
      "metadata": {
        "raw_mimetype": "text/html"
      },
      "source": [
        "</th>"
      ],
      "id": "faec4016-0524-4d9c-aebf-770fe3ff3f18"
    },
    {
      "cell_type": "raw",
      "metadata": {
        "raw_mimetype": "text/html"
      },
      "source": [
        "</tr>"
      ],
      "id": "4326e3ef-60d1-4553-b743-c220b743b60a"
    },
    {
      "cell_type": "raw",
      "metadata": {
        "raw_mimetype": "text/html"
      },
      "source": [
        "<tr>"
      ],
      "id": "6a73cbbb-63ef-44ae-ac5f-6d6d9338241f"
    },
    {
      "cell_type": "raw",
      "metadata": {
        "raw_mimetype": "text/html"
      },
      "source": [
        "<td>"
      ],
      "id": "a050c619-df30-43eb-b813-a0a30dd930d7"
    },
    {
      "cell_type": "markdown",
      "metadata": {},
      "source": [
        "Mike"
      ],
      "id": "4a183f21-652b-4844-b121-051c31e419ac"
    },
    {
      "cell_type": "raw",
      "metadata": {
        "raw_mimetype": "text/html"
      },
      "source": [
        "</td>"
      ],
      "id": "3e964ed3-1edd-4e16-bf6b-e8c7969b0028"
    },
    {
      "cell_type": "raw",
      "metadata": {
        "raw_mimetype": "text/html"
      },
      "source": [
        "<td>"
      ],
      "id": "c23eebcf-dc82-481a-b8fc-7be33ab458b6"
    },
    {
      "cell_type": "markdown",
      "metadata": {},
      "source": [
        "Stuntman"
      ],
      "id": "46731bd0-7d20-448b-b015-9ad756c835e3"
    },
    {
      "cell_type": "raw",
      "metadata": {
        "raw_mimetype": "text/html"
      },
      "source": [
        "</td>"
      ],
      "id": "f1e8aa5b-c8cb-4836-898b-778e7bc06697"
    },
    {
      "cell_type": "raw",
      "metadata": {
        "raw_mimetype": "text/html"
      },
      "source": [
        "<td>"
      ],
      "id": "0d74a84a-3c3c-4371-abfd-519ff34ee6e3"
    },
    {
      "cell_type": "markdown",
      "metadata": {},
      "source": [
        "Cascadeur"
      ],
      "id": "99830b4b-5c66-47b9-be0f-f063d1ccac82"
    },
    {
      "cell_type": "raw",
      "metadata": {
        "raw_mimetype": "text/html"
      },
      "source": [
        "</td>"
      ],
      "id": "47fa3ce1-0e34-4dd0-88e0-8b358bc508b2"
    },
    {
      "cell_type": "raw",
      "metadata": {
        "raw_mimetype": "text/html"
      },
      "source": [
        "</tr>"
      ],
      "id": "aeeb144c-1775-4b4e-a401-6b2e0d502059"
    },
    {
      "cell_type": "raw",
      "metadata": {
        "raw_mimetype": "text/html"
      },
      "source": [
        "<tr>"
      ],
      "id": "ff7c413f-63ef-4f4d-bd90-94a24f72c2f8"
    },
    {
      "cell_type": "raw",
      "metadata": {
        "raw_mimetype": "text/html"
      },
      "source": [
        "<td>"
      ],
      "id": "bd40d2a0-0928-4c9a-baf4-b2feec0a92ab"
    },
    {
      "cell_type": "markdown",
      "metadata": {},
      "source": [
        "Mister"
      ],
      "id": "b7484f49-2184-4990-9701-db0d718719dc"
    },
    {
      "cell_type": "raw",
      "metadata": {
        "raw_mimetype": "text/html"
      },
      "source": [
        "</td>"
      ],
      "id": "52aa2269-e7cd-4584-b53a-085bd006b9f7"
    },
    {
      "cell_type": "raw",
      "metadata": {
        "raw_mimetype": "text/html"
      },
      "source": [
        "<td>"
      ],
      "id": "0434d67f-7a0b-41bd-a2eb-8f2ec79f2257"
    },
    {
      "cell_type": "markdown",
      "metadata": {},
      "source": [
        "Pink"
      ],
      "id": "4afcf95b-cdbb-44f5-b0fb-f451a725b0d5"
    },
    {
      "cell_type": "raw",
      "metadata": {
        "raw_mimetype": "text/html"
      },
      "source": [
        "</td>"
      ],
      "id": "ecb190c4-f786-4716-af71-29dd4735495f"
    },
    {
      "cell_type": "raw",
      "metadata": {
        "raw_mimetype": "text/html"
      },
      "source": [
        "<td>"
      ],
      "id": "4f21e6b2-92cc-4a42-89fe-8568b61128bc"
    },
    {
      "cell_type": "markdown",
      "metadata": {},
      "source": [
        "Gangster"
      ],
      "id": "c519d3d4-8d98-4f30-acbe-fdd3ed9de545"
    },
    {
      "cell_type": "raw",
      "metadata": {
        "raw_mimetype": "text/html"
      },
      "source": [
        "</td>"
      ],
      "id": "c5e8f852-6af7-4027-8ad0-8efabded94ff"
    },
    {
      "cell_type": "raw",
      "metadata": {
        "raw_mimetype": "text/html"
      },
      "source": [
        "</tr>"
      ],
      "id": "7b622462-e63f-4577-afee-3512fa0b78ac"
    },
    {
      "cell_type": "raw",
      "metadata": {
        "raw_mimetype": "text/html"
      },
      "source": [
        "</table>"
      ],
      "id": "abfd0d4b-875d-4dd9-81e0-1771a10123f2"
    },
    {
      "cell_type": "markdown",
      "metadata": {},
      "source": [
        "### Parent et enfant\n",
        "\n",
        "Dans le cadre du langage HTML, les termes de parent (*parent*) et enfant (*child*) servent à désigner des élements emboîtés les uns dans les autres. Dans la construction suivante, par exemple :\n",
        "\n",
        "``` html\n",
        "< div> \n",
        "    < p>\n",
        "       bla,bla\n",
        "    < /p>\n",
        "< /div>\n",
        "```\n",
        "\n",
        "Sur la page web, cela apparaitra de la manière suivante :\n",
        "\n",
        "    <p>\n",
        "       bla,bla\n",
        "    </p>\n",
        "\n",
        "On dira que l’élément `<div>` est le parent de l’élément `<p>` tandis que l’élément `<p>` est l’enfant de l’élément `<div>`.\n",
        "\n",
        "*Mais pourquoi apprendre ça pour “scraper”, me direz-vous ?*\n",
        "\n",
        "Parce que, pour bien récupérer les informations d’un site internet, il faut pouvoir comprendre sa structure et donc son code HTML. Les fonctions python qui servent au scraping sont principalement construites pour vous permettre de naviguer entre les balises.\n",
        "\n",
        "# Scraper avec python: le package `BeautifulSoup`\n",
        "\n",
        "## Les packages disponibles\n",
        "\n",
        "Nous allons essentiellement utiliser le package [BeautifulSoup4](https://www.crummy.com/software/BeautifulSoup/bs4/doc/) pour ce cours, mais d’autres packages existent (Selenium, Scrapy…). Il s’utilise souvent en conjonction avec\n",
        "[urllib](https://docs.python.org/3/library/urllib.html#module-urllib).\n",
        "\n",
        "`BeautifulSoup` sera suffisant quand vous voudrez travailler sur des pages HTML statiques. Dès que les informations que vous recherchez sont générées via l’exécution de scripts [Javascript](https://fr.wikipedia.org/wiki/JavaScript), il vous faudra passer par des outils comme [Selenium](https://selenium-python.readthedocs.io/).\n",
        "\n",
        "De même, si vous ne connaissez pas l’URL, il faudra passer par un framework comme [Scrapy](https://scrapy.org/), qui passe facilement d’une page à une autre (“crawl”). Scrapy est plus complexe à manipuler que BeautifulSoup : si vous voulez plus de détails, rendez-vous sur la page du [tutoriel Scrapy](https://doc.scrapy.org/en/latest/intro/tutorial.html).\n",
        "\n",
        "Le *webscraping* est un domaine où la reproductibilité est compliquée à mettre en oeuvre. Une page *web* évolue\n",
        "potentiellement régulièrement et d’une page web à l’autre, la structure peut\n",
        "être très différente ce qui rend certains codes difficilement exportables.\n",
        "Par conséquent, la meilleure manière d’avoir un programme fonctionnel est\n",
        "de comprendre la structure d’une page web et dissocier les éléments exportables\n",
        "à d’autres cas d’usages des requêtes *ad hoc*.\n",
        "\n",
        "{{< tweet 1474353569780355074 >}}"
      ],
      "id": "c89d6f3e-f841-4202-89c2-189cb9242ee3"
    },
    {
      "cell_type": "code",
      "execution_count": 2,
      "metadata": {},
      "outputs": [],
      "source": [
        "import urllib\n",
        "import bs4\n",
        "import pandas\n",
        "from urllib import request"
      ],
      "id": "07316850-f8fa-47f8-8d93-5c70f4bc0f18"
    },
    {
      "cell_type": "markdown",
      "metadata": {},
      "source": [
        "## Récupérer le contenu d’une page HTML\n",
        "\n",
        "On va commencer doucement. Prenons une page wikipedia, par exemple celle de la Ligue 1 de football : [Championnat de France de football 2019-2020](https://fr.wikipedia.org/wiki/Championnat_de_France_de_football_2019-2020). On va souhaiter récupérer la liste des équipes, ainsi que les url des pages Wikipedia de ces équipes."
      ],
      "id": "d1640a17-4034-4c85-a78a-33b8169db91f"
    },
    {
      "cell_type": "code",
      "execution_count": 3,
      "metadata": {},
      "outputs": [],
      "source": [
        "# Etape 1 : se connecter à la page wikipedia et obtenir le code source\n",
        "\n",
        "url_ligue_1 = \"https://fr.wikipedia.org/wiki/Championnat_de_France_de_football_2019-2020\"\n",
        "    \n",
        "request_text = request.urlopen(url_ligue_1).read()\n",
        "# print(request_text[:1000])    "
      ],
      "id": "6bbc5f98-67eb-4ad0-a0b4-876021ce770a"
    },
    {
      "cell_type": "code",
      "execution_count": 4,
      "metadata": {},
      "outputs": [
        {
          "output_type": "display_data",
          "metadata": {},
          "data": {
            "text/plain": [
              "bytes"
            ]
          }
        }
      ],
      "source": [
        "type(request_text)"
      ],
      "id": "425ba6c5-cc79-4649-a4b1-ccb8b9bb5616"
    },
    {
      "cell_type": "code",
      "execution_count": 5,
      "metadata": {},
      "outputs": [],
      "source": [
        "# Etape 2 : utiliser le package BeautifulSoup\n",
        "# qui \"comprend\" les balises contenues dans la chaine de caractères renvoyée par la fonction request\n",
        "\n",
        "page = bs4.BeautifulSoup(request_text, \"lxml\")\n",
        "\n",
        "#print(page)"
      ],
      "id": "a97d8850-8b9e-47ab-bcc4-011d469453c9"
    },
    {
      "cell_type": "markdown",
      "metadata": {},
      "source": [
        "Si on print l’objet, page créée avec BeautifulSoup, on voit que ce n’est plus une chaine de caractères mais bien une page HTML avec des balises. On peut à présent chercher des élements à l’intérieur de ces balises.\n",
        "\n",
        "## La méthode `find`\n",
        "\n",
        "Par exemple, si on veut connaître le titre de la page, on utilise la méthode `.find` et on lui demande *“title”*"
      ],
      "id": "49eaf160-5430-46de-bc9b-50a9414d0ee1"
    },
    {
      "cell_type": "code",
      "execution_count": 6,
      "metadata": {},
      "outputs": [
        {
          "output_type": "stream",
          "name": "stdout",
          "text": [
            "<title>Championnat de France de football 2019-2020 — Wikipédia</title>"
          ]
        }
      ],
      "source": [
        "print(page.find(\"title\"))"
      ],
      "id": "373bb0b5-56a1-4e0b-b924-8f5784c00680"
    },
    {
      "cell_type": "markdown",
      "metadata": {},
      "source": [
        "La methode `.find` ne renvoie que la première occurence de l’élément.\n",
        "\n",
        "Pour vous en assurer vous pouvez :\n",
        "- copier le bout de code source obtenu,\n",
        "- le coller dans une cellule de votre notebook\n",
        "- et passer la cellule en “Markdown”\n",
        "\n",
        "La cellule avec le copier-coller du code source donne :"
      ],
      "id": "2591399f-02a2-4a19-bea5-2cedea0a7ed3"
    },
    {
      "cell_type": "code",
      "execution_count": 7,
      "metadata": {},
      "outputs": [
        {
          "output_type": "stream",
          "name": "stdout",
          "text": [
            "<table><caption style=\"background-color:#99cc99;color:#000000;\">Généralités</caption><tbody><tr>\n",
            "<th scope=\"row\" style=\"width:10.5em;\">Sport</th>\n",
            "<td>\n",
            "<a href=\"/wiki/Football\" title=\"Football\">Football</a></td>\n",
            "</tr>\n",
            "<tr>\n",
            "<th scope=\"row\" style=\"width:10.5em;\">Organisateur(s)</th>\n",
            "<td>\n",
            "<a href=\"/wiki/Ligue_de_football_professionnel\" title=\"Ligue de football professionnel\">LFP</a></td>\n",
            "</tr>\n",
            "<tr>\n",
            "<th scope=\"row\" style=\"width:10.5em;\">Édition</th>\n",
            "<td>\n",
            "<abbr class=\"abbr\" title=\"Quatre-vingt-deuxième (huitante-deuxième / octante-deuxième)\">82<sup>e</sup></abbr></td>\n",
            "</tr>\n",
            "<tr>\n",
            "<th scope=\"row\" style=\"width:10.5em;\">Lieu(x)</th>\n",
            "<td>\n",
            "<span class=\"datasortkey\" data-sort-value=\"France\"><span class=\"flagicon\"><a class=\"image\" href=\"/wiki/Fichier:Flag_of_France.svg\" title=\"Drapeau de la France\"><img alt=\"Drapeau de la France\" class=\"noviewer thumbborder\" data-file-height=\"600\" data-file-width=\"900\" decoding=\"async\" height=\"13\" src=\"//upload.wikimedia.org/wikipedia/commons/thumb/c/c3/Flag_of_France.svg/20px-Flag_of_France.svg.png\" srcset=\"//upload.wikimedia.org/wikipedia/commons/thumb/c/c3/Flag_of_France.svg/30px-Flag_of_France.svg.png 1.5x, //upload.wikimedia.org/wikipedia/commons/thumb/c/c3/Flag_of_France.svg/40px-Flag_of_France.svg.png 2x\" width=\"20\"/></a> </span><a href=\"/wiki/France\" title=\"France\">France</a></span> et <br/><span class=\"datasortkey\" data-sort-value=\"Monaco\"><span class=\"flagicon\"><a class=\"image\" href=\"/wiki/Fichier:Flag_of_Monaco.svg\" title=\"Drapeau de Monaco\"><img alt=\"Drapeau de Monaco\" class=\"noviewer thumbborder\" data-file-height=\"800\" data-file-width=\"1000\" decoding=\"async\" height=\"16\" src=\"//upload.wikimedia.org/wikipedia/commons/thumb/e/ea/Flag_of_Monaco.svg/20px-Flag_of_Monaco.svg.png\" srcset=\"//upload.wikimedia.org/wikipedia/commons/thumb/e/ea/Flag_of_Monaco.svg/30px-Flag_of_Monaco.svg.png 1.5x, //upload.wikimedia.org/wikipedia/commons/thumb/e/ea/Flag_of_Monaco.svg/40px-Flag_of_Monaco.svg.png 2x\" width=\"20\"/></a> </span><a href=\"/wiki/Monaco\" title=\"Monaco\">Monaco</a></span></td>\n",
            "</tr>\n",
            "<tr>\n",
            "<th scope=\"row\" style=\"width:10.5em;\">Date</th>\n",
            "<td>\n",
            "Du <time class=\"nowrap date-lien\" data-sort-value=\"2019-08-09\" datetime=\"2019-08-09\"><a href=\"/wiki/9_ao%C3%BBt_en_sport\" title=\"9 août en sport\">9</a> <a class=\"mw-redirect\" href=\"/wiki/Ao%C3%BBt_2019_en_sport\" title=\"Août 2019 en sport\">août</a> <a href=\"/wiki/2019_en_football\" title=\"2019 en football\">2019</a></time><br/>au <time class=\"nowrap date-lien\" data-sort-value=\"2020-03-08\" datetime=\"2020-03-08\"><a href=\"/wiki/8_mars_en_sport\" title=\"8 mars en sport\">8 mars</a> <a href=\"/wiki/2020_en_football\" title=\"2020 en football\">2020</a></time> <small>(arrêt définitif)</small></td>\n",
            "</tr>\n",
            "<tr>\n",
            "<th scope=\"row\" style=\"width:10.5em;\">Participants</th>\n",
            "<td>\n",
            "20 équipes</td>\n",
            "</tr>\n",
            "<tr>\n",
            "<th scope=\"row\" style=\"width:10.5em;\">Matchs joués</th>\n",
            "<td>\n",
            "279 (sur 380 prévus)</td>\n",
            "</tr>\n",
            "<tr>\n",
            "<th scope=\"row\" style=\"width:10.5em;\">Site web officiel</th>\n",
            "<td>\n",
            "<a class=\"external text\" href=\"https://www.ligue1.fr/\" rel=\"nofollow\">Site officiel</a></td>\n",
            "</tr></tbody></table>"
          ]
        }
      ],
      "source": [
        "print(page.find(\"table\"))"
      ],
      "id": "bcc53365-8afb-4816-80dd-d7b0125bf23f"
    },
    {
      "cell_type": "markdown",
      "metadata": {},
      "source": [
        "ce qui est le texte source permettant de générer le tableau suivant:"
      ],
      "id": "c8d3afb2-b6ae-4f8f-9247-d942c2c878be"
    },
    {
      "cell_type": "raw",
      "metadata": {
        "raw_mimetype": "text/html"
      },
      "source": [
        "<table>"
      ],
      "id": "5c7513d3-b4f6-4fb8-81a9-e2360eab862b"
    },
    {
      "cell_type": "raw",
      "metadata": {
        "raw_mimetype": "text/html"
      },
      "source": [
        "<caption style=\"background-color:#99cc99;color:#000000;\">"
      ],
      "id": "152091fa-c691-459c-bdcc-3e7ab906618f"
    },
    {
      "cell_type": "markdown",
      "metadata": {},
      "source": [
        "Généralités"
      ],
      "id": "1ae99875-dd54-47db-a02a-bb12df6b3bbc"
    },
    {
      "cell_type": "raw",
      "metadata": {
        "raw_mimetype": "text/html"
      },
      "source": [
        "</caption>"
      ],
      "id": "3a6c2f34-95ac-4f9f-8db3-5e03e0af02a3"
    },
    {
      "cell_type": "raw",
      "metadata": {
        "raw_mimetype": "text/html"
      },
      "source": [
        "<tbody>"
      ],
      "id": "e268bcde-f010-41d3-a450-f7394a6c4130"
    },
    {
      "cell_type": "raw",
      "metadata": {
        "raw_mimetype": "text/html"
      },
      "source": [
        "<tr>"
      ],
      "id": "7238761a-c4b4-4733-a5a9-2f03c4a1667f"
    },
    {
      "cell_type": "raw",
      "metadata": {
        "raw_mimetype": "text/html"
      },
      "source": [
        "<th scope=\"row\" style=\"width:10.5em;\">"
      ],
      "id": "0f9b31b0-3ff9-4195-85e2-dfc614ce46b2"
    },
    {
      "cell_type": "markdown",
      "metadata": {},
      "source": [
        "Sport"
      ],
      "id": "37eb8740-1519-433c-8cc7-224b7d9c895b"
    },
    {
      "cell_type": "raw",
      "metadata": {
        "raw_mimetype": "text/html"
      },
      "source": [
        "</th>"
      ],
      "id": "1b9e6977-1b50-4001-9b76-8ba06d70040a"
    },
    {
      "cell_type": "raw",
      "metadata": {
        "raw_mimetype": "text/html"
      },
      "source": [
        "<td>"
      ],
      "id": "a1aabd9e-ea44-4f51-a658-fd7f684f47f7"
    },
    {
      "cell_type": "markdown",
      "metadata": {},
      "source": [
        "<a href=\"/wiki/Football\" title=\"Football\">Football</a>"
      ],
      "id": "8bd0bbcb-6cc5-433b-bea9-337d3b15a772"
    },
    {
      "cell_type": "raw",
      "metadata": {
        "raw_mimetype": "text/html"
      },
      "source": [
        "</td>"
      ],
      "id": "e8189523-ef5b-46d2-a65d-6820662c4a26"
    },
    {
      "cell_type": "raw",
      "metadata": {
        "raw_mimetype": "text/html"
      },
      "source": [
        "</tr>"
      ],
      "id": "0cb53698-df9a-40cd-a302-fdfe256f685d"
    },
    {
      "cell_type": "raw",
      "metadata": {
        "raw_mimetype": "text/html"
      },
      "source": [
        "<tr>"
      ],
      "id": "37fceca7-7d75-4d26-b8a3-a0a33d9db9dc"
    },
    {
      "cell_type": "raw",
      "metadata": {
        "raw_mimetype": "text/html"
      },
      "source": [
        "<th scope=\"row\" style=\"width:10.5em;\">"
      ],
      "id": "b96a0559-62d4-4778-be96-6c5af768cec8"
    },
    {
      "cell_type": "markdown",
      "metadata": {},
      "source": [
        "Organisateur(s)"
      ],
      "id": "0c996822-3074-412a-b12c-759720e67d16"
    },
    {
      "cell_type": "raw",
      "metadata": {
        "raw_mimetype": "text/html"
      },
      "source": [
        "</th>"
      ],
      "id": "48a0b900-680a-4c3b-bdf3-71adab9d973f"
    },
    {
      "cell_type": "raw",
      "metadata": {
        "raw_mimetype": "text/html"
      },
      "source": [
        "<td>"
      ],
      "id": "2baa1da7-3fe6-4f0a-b2f8-a94a5eb2c960"
    },
    {
      "cell_type": "markdown",
      "metadata": {},
      "source": [
        "<a href=\"/wiki/Ligue_de_football_professionnel\" title=\"Ligue de football professionnel\">LFP</a>"
      ],
      "id": "64414801-2569-4529-ae30-5a084b6e181e"
    },
    {
      "cell_type": "raw",
      "metadata": {
        "raw_mimetype": "text/html"
      },
      "source": [
        "</td>"
      ],
      "id": "873c82bf-0110-4921-bce3-28232e3f34ce"
    },
    {
      "cell_type": "raw",
      "metadata": {
        "raw_mimetype": "text/html"
      },
      "source": [
        "</tr>"
      ],
      "id": "294f9474-54ea-4a65-8f17-f4868dbb8a70"
    },
    {
      "cell_type": "raw",
      "metadata": {
        "raw_mimetype": "text/html"
      },
      "source": [
        "<tr>"
      ],
      "id": "aff031da-19be-4e81-bb45-4dd50ef673a9"
    },
    {
      "cell_type": "raw",
      "metadata": {
        "raw_mimetype": "text/html"
      },
      "source": [
        "<th scope=\"row\" style=\"width:10.5em;\">"
      ],
      "id": "5de450cb-6ada-4734-8534-065e07de46d7"
    },
    {
      "cell_type": "markdown",
      "metadata": {},
      "source": [
        "Édition"
      ],
      "id": "becb5b74-3ffc-400b-b641-03f18bab5a85"
    },
    {
      "cell_type": "raw",
      "metadata": {
        "raw_mimetype": "text/html"
      },
      "source": [
        "</th>"
      ],
      "id": "cc7a5283-e880-4399-a51d-349c58d360c3"
    },
    {
      "cell_type": "raw",
      "metadata": {
        "raw_mimetype": "text/html"
      },
      "source": [
        "<td>"
      ],
      "id": "6158451d-f496-4ad4-83f3-d530883ae8b9"
    },
    {
      "cell_type": "markdown",
      "metadata": {},
      "source": [
        "<abbr class=\"abbr\" title=\"Quatre-vingt-deuxième (huitante-deuxième / octante-deuxième)\">82<sup>e</sup></abbr>"
      ],
      "id": "44c76c13-5e05-4c29-b68d-f8cf6a7f9ed2"
    },
    {
      "cell_type": "raw",
      "metadata": {
        "raw_mimetype": "text/html"
      },
      "source": [
        "</td>"
      ],
      "id": "2066a253-0433-4307-887e-170463f82417"
    },
    {
      "cell_type": "raw",
      "metadata": {
        "raw_mimetype": "text/html"
      },
      "source": [
        "</tr>"
      ],
      "id": "b3de7abc-e2a1-415e-9380-21a1724108c3"
    },
    {
      "cell_type": "raw",
      "metadata": {
        "raw_mimetype": "text/html"
      },
      "source": [
        "<tr>"
      ],
      "id": "6c5e0e9e-3093-4b4e-835f-cb0727ba2516"
    },
    {
      "cell_type": "raw",
      "metadata": {
        "raw_mimetype": "text/html"
      },
      "source": [
        "<th scope=\"row\" style=\"width:10.5em;\">"
      ],
      "id": "b9142251-98c2-4aab-ab83-f6cf81910a55"
    },
    {
      "cell_type": "markdown",
      "metadata": {},
      "source": [
        "Lieu(x)"
      ],
      "id": "f4667c8e-ae7a-449b-95dd-bc67d8ba01e9"
    },
    {
      "cell_type": "raw",
      "metadata": {
        "raw_mimetype": "text/html"
      },
      "source": [
        "</th>"
      ],
      "id": "856bd452-4671-4a64-aa48-e3abbc9d3df4"
    },
    {
      "cell_type": "raw",
      "metadata": {
        "raw_mimetype": "text/html"
      },
      "source": [
        "<td>"
      ],
      "id": "b81e115d-0ea7-49c1-a982-586907c663fa"
    },
    {
      "cell_type": "markdown",
      "metadata": {},
      "source": [
        "<span class=\"datasortkey\" data-sort-value=\"France\"><span class=\"flagicon\"><a class=\"image\" href=\"/wiki/Fichier:Flag_of_France.svg\" title=\"Drapeau de la France\"><img alt=\"Drapeau de la France\" class=\"noviewer thumbborder\" data-file-height=\"600\" data-file-width=\"900\" decoding=\"async\" height=\"13\" src=\"//upload.wikimedia.org/wikipedia/commons/thumb/c/c3/Flag_of_France.svg/20px-Flag_of_France.svg.png\" srcset=\"//upload.wikimedia.org/wikipedia/commons/thumb/c/c3/Flag_of_France.svg/30px-Flag_of_France.svg.png 1.5x, //upload.wikimedia.org/wikipedia/commons/thumb/c/c3/Flag_of_France.svg/40px-Flag_of_France.svg.png 2x\" width=\"20\"/></a> </span><a href=\"/wiki/France\" title=\"France\">France</a></span> et <br/><span class=\"datasortkey\" data-sort-value=\"Monaco\"><span class=\"flagicon\"><a class=\"image\" href=\"/wiki/Fichier:Flag_of_Monaco.svg\" title=\"Drapeau de Monaco\"><img alt=\"Drapeau de Monaco\" class=\"noviewer thumbborder\" data-file-height=\"800\" data-file-width=\"1000\" decoding=\"async\" height=\"16\" src=\"//upload.wikimedia.org/wikipedia/commons/thumb/e/ea/Flag_of_Monaco.svg/20px-Flag_of_Monaco.svg.png\" srcset=\"//upload.wikimedia.org/wikipedia/commons/thumb/e/ea/Flag_of_Monaco.svg/30px-Flag_of_Monaco.svg.png 1.5x, //upload.wikimedia.org/wikipedia/commons/thumb/e/ea/Flag_of_Monaco.svg/40px-Flag_of_Monaco.svg.png 2x\" width=\"20\"/></a> </span><a href=\"/wiki/Monaco\" title=\"Monaco\">Monaco</a></span>"
      ],
      "id": "b3b2b98b-fe4d-4ad0-a608-7ea4ee368e70"
    },
    {
      "cell_type": "raw",
      "metadata": {
        "raw_mimetype": "text/html"
      },
      "source": [
        "</td>"
      ],
      "id": "0200fbd8-d4a5-45f5-ae9d-5c386a298e7d"
    },
    {
      "cell_type": "raw",
      "metadata": {
        "raw_mimetype": "text/html"
      },
      "source": [
        "</tr>"
      ],
      "id": "76f3cd2e-dfc2-42e3-8df7-ce02b1a5b58d"
    },
    {
      "cell_type": "raw",
      "metadata": {
        "raw_mimetype": "text/html"
      },
      "source": [
        "<tr>"
      ],
      "id": "159bb926-5cf8-4aa2-86e0-df10c8fbb239"
    },
    {
      "cell_type": "raw",
      "metadata": {
        "raw_mimetype": "text/html"
      },
      "source": [
        "<th scope=\"row\" style=\"width:10.5em;\">"
      ],
      "id": "eaaef5ee-87fe-40c1-9d64-f98cce5e3508"
    },
    {
      "cell_type": "markdown",
      "metadata": {},
      "source": [
        "Date"
      ],
      "id": "79010790-caa3-4c8a-8b5f-f4f0881d9110"
    },
    {
      "cell_type": "raw",
      "metadata": {
        "raw_mimetype": "text/html"
      },
      "source": [
        "</th>"
      ],
      "id": "8f37ed37-87af-45de-b62b-6ca4e12431dc"
    },
    {
      "cell_type": "raw",
      "metadata": {
        "raw_mimetype": "text/html"
      },
      "source": [
        "<td>"
      ],
      "id": "3510734b-bed6-4d5f-b9f6-0139f63c1ad3"
    },
    {
      "cell_type": "markdown",
      "metadata": {},
      "source": [
        "Du <time class=\"nowrap date-lien\" data-sort-value=\"2019-08-09\" datetime=\"2019-08-09\"><a href=\"/wiki/9_ao%C3%BBt_en_sport\" title=\"9 août en sport\">9</a> <a class=\"mw-redirect\" href=\"/wiki/Ao%C3%BBt_2019_en_sport\" title=\"Août 2019 en sport\">août</a> <a href=\"/wiki/2019_en_football\" title=\"2019 en football\">2019</a></time><br/>au <time class=\"nowrap date-lien\" data-sort-value=\"2020-03-08\" datetime=\"2020-03-08\"><a href=\"/wiki/8_mars_en_sport\" title=\"8 mars en sport\">8 mars</a> <a href=\"/wiki/2020_en_football\" title=\"2020 en football\">2020</a></time> <small>(arrêt définitif)</small>"
      ],
      "id": "5c17dc8d-cdc4-4301-a0c2-db5918ab7aee"
    },
    {
      "cell_type": "raw",
      "metadata": {
        "raw_mimetype": "text/html"
      },
      "source": [
        "</td>"
      ],
      "id": "299be95e-4f50-4ecf-8cc5-1eaa6bb0e2cf"
    },
    {
      "cell_type": "raw",
      "metadata": {
        "raw_mimetype": "text/html"
      },
      "source": [
        "</tr>"
      ],
      "id": "1931b3e9-575a-4d45-babb-863abab2ff0f"
    },
    {
      "cell_type": "raw",
      "metadata": {
        "raw_mimetype": "text/html"
      },
      "source": [
        "<tr>"
      ],
      "id": "93005fc5-16b1-465b-ade2-888df12d865e"
    },
    {
      "cell_type": "raw",
      "metadata": {
        "raw_mimetype": "text/html"
      },
      "source": [
        "<th scope=\"row\" style=\"width:10.5em;\">"
      ],
      "id": "c704eb31-7f3d-4306-bcbf-656647b8547e"
    },
    {
      "cell_type": "markdown",
      "metadata": {},
      "source": [
        "Participants"
      ],
      "id": "aec3e57c-6610-431e-9b68-19d3f0b051e6"
    },
    {
      "cell_type": "raw",
      "metadata": {
        "raw_mimetype": "text/html"
      },
      "source": [
        "</th>"
      ],
      "id": "b731bcfb-f43b-41f6-9626-0d89549a3751"
    },
    {
      "cell_type": "raw",
      "metadata": {
        "raw_mimetype": "text/html"
      },
      "source": [
        "<td>"
      ],
      "id": "ccbd3965-c24e-477d-9bc9-e19a59f56872"
    },
    {
      "cell_type": "markdown",
      "metadata": {},
      "source": [
        "20 équipes"
      ],
      "id": "3885a4f1-dc29-478e-9dbe-06a692f2bc42"
    },
    {
      "cell_type": "raw",
      "metadata": {
        "raw_mimetype": "text/html"
      },
      "source": [
        "</td>"
      ],
      "id": "7fd27493-4cc7-451e-86e5-f0584a1d3077"
    },
    {
      "cell_type": "raw",
      "metadata": {
        "raw_mimetype": "text/html"
      },
      "source": [
        "</tr>"
      ],
      "id": "33485f0e-c048-4124-b9f3-71cea9ae367d"
    },
    {
      "cell_type": "raw",
      "metadata": {
        "raw_mimetype": "text/html"
      },
      "source": [
        "<tr>"
      ],
      "id": "9b80e086-5a5d-465a-bcd2-73d8b5327519"
    },
    {
      "cell_type": "raw",
      "metadata": {
        "raw_mimetype": "text/html"
      },
      "source": [
        "<th scope=\"row\" style=\"width:10.5em;\">"
      ],
      "id": "5a071adf-3251-4f16-a2a8-4cab2605a490"
    },
    {
      "cell_type": "markdown",
      "metadata": {},
      "source": [
        "Matchs joués"
      ],
      "id": "bc4197e9-b4bc-416b-8dd7-ec977fbbdd0f"
    },
    {
      "cell_type": "raw",
      "metadata": {
        "raw_mimetype": "text/html"
      },
      "source": [
        "</th>"
      ],
      "id": "913b4fbb-045b-4cc3-a4eb-595747e39f1e"
    },
    {
      "cell_type": "raw",
      "metadata": {
        "raw_mimetype": "text/html"
      },
      "source": [
        "<td>"
      ],
      "id": "897a9167-365e-4d3e-97f3-5e8060b87fe8"
    },
    {
      "cell_type": "markdown",
      "metadata": {},
      "source": [
        "279 (sur 380 prévus)"
      ],
      "id": "1258505f-e28e-434f-8ba3-abfbc8c4229d"
    },
    {
      "cell_type": "raw",
      "metadata": {
        "raw_mimetype": "text/html"
      },
      "source": [
        "</td>"
      ],
      "id": "08129839-775e-4e8c-9411-65d3125b7de8"
    },
    {
      "cell_type": "raw",
      "metadata": {
        "raw_mimetype": "text/html"
      },
      "source": [
        "</tr>"
      ],
      "id": "a217b523-e771-4568-ba59-8d3de5b57d8f"
    },
    {
      "cell_type": "raw",
      "metadata": {
        "raw_mimetype": "text/html"
      },
      "source": [
        "<tr>"
      ],
      "id": "fefb2385-70ad-4857-9c6e-556bdbb3f910"
    },
    {
      "cell_type": "raw",
      "metadata": {
        "raw_mimetype": "text/html"
      },
      "source": [
        "<th scope=\"row\" style=\"width:10.5em;\">"
      ],
      "id": "410ea22e-2592-4357-a2b1-fa4a9d720816"
    },
    {
      "cell_type": "markdown",
      "metadata": {},
      "source": [
        "Site web officiel"
      ],
      "id": "42186bc3-5c65-48ce-9ff8-6228e796fa1b"
    },
    {
      "cell_type": "raw",
      "metadata": {
        "raw_mimetype": "text/html"
      },
      "source": [
        "</th>"
      ],
      "id": "74276032-661b-473a-9313-da37cb5072f8"
    },
    {
      "cell_type": "raw",
      "metadata": {
        "raw_mimetype": "text/html"
      },
      "source": [
        "<td>"
      ],
      "id": "c2716300-5e27-475b-9b9b-a8c0a5e4e3f6"
    },
    {
      "cell_type": "markdown",
      "metadata": {},
      "source": [
        "<a class=\"external text\" href=\"https://www.ligue1.fr/\" rel=\"nofollow\">Site officiel</a>"
      ],
      "id": "32a90573-69be-40bd-ba35-63ee78f95f6e"
    },
    {
      "cell_type": "raw",
      "metadata": {
        "raw_mimetype": "text/html"
      },
      "source": [
        "</td>"
      ],
      "id": "08cc6e23-b8a8-41e0-8590-340a48edb9e1"
    },
    {
      "cell_type": "raw",
      "metadata": {
        "raw_mimetype": "text/html"
      },
      "source": [
        "</tr>"
      ],
      "id": "eef2ff7e-7841-4386-b063-99d7432173c5"
    },
    {
      "cell_type": "raw",
      "metadata": {
        "raw_mimetype": "text/html"
      },
      "source": [
        "</tbody>"
      ],
      "id": "68730586-e658-4ce7-b08a-b8633ad8d18e"
    },
    {
      "cell_type": "raw",
      "metadata": {
        "raw_mimetype": "text/html"
      },
      "source": [
        "</table>"
      ],
      "id": "e6450fb8-3821-406a-9b1d-bda99ddb8fb2"
    },
    {
      "cell_type": "markdown",
      "metadata": {},
      "source": [
        "## La méthode `findAll`\n",
        "\n",
        "Pour trouver toutes les occurences, on utilise `.findAll()`."
      ],
      "id": "dabca33c-e617-4122-81ba-1689d2e6513a"
    },
    {
      "cell_type": "code",
      "execution_count": 9,
      "metadata": {},
      "outputs": [
        {
          "output_type": "stream",
          "name": "stdout",
          "text": [
            "Il y a 34 éléments dans la page qui sont des <table>"
          ]
        }
      ],
      "source": [
        "print(\"Il y a\", len(page.findAll(\"table\")), \"éléments dans la page qui sont des <table>\")"
      ],
      "id": "7a40bab3-0c17-4d08-9839-5129451824ad"
    },
    {
      "cell_type": "markdown",
      "metadata": {},
      "source": [
        "# Exercice guidé : obtenir la liste des équipes de Ligue 1\n",
        "\n",
        "Dans le premier paragraphe de la page “Participants”, on a le tableau avec les résultats de l’année.\n",
        "\n",
        "{{% box status=“exercise” title=“Exercice” icon=“fas fa-pencil-alt” %}}\n",
        "Le but est de récupérer les informations contenues dans ce tableau.\n",
        "\n",
        "Pour cela, nous allons procéder en 6 étapes:\n",
        "\n",
        "1.  Trouver le tableau\n",
        "2.  Récupérer chaque ligne du table\n",
        "3.  Nettoyer les sorties en ne gardant que le texte sur une ligne\n",
        "4.  Généraliser sur toutes les lignes\n",
        "5.  Récupérer les entêtes du tableau\n",
        "6.  Finalisation du tableau\n",
        "\n",
        "{{% /box %}}\n",
        "\n",
        ":one:\n",
        "Trouver le tableau\n",
        "\n",
        "``` python\n",
        "# on identifie le tableau en question : c'est le premier qui a cette classe \"wikitable sortable\"\n",
        "tableau_participants = page.find('table', {'class' : 'wikitable sortable'})\n",
        "\n",
        "print(tableau_participants)\n",
        "```"
      ],
      "id": "07b026d9-ee86-48ab-b41e-fa06f364e808"
    },
    {
      "cell_type": "raw",
      "metadata": {
        "raw_mimetype": "text/html"
      },
      "source": [
        "<table class=\"wikitable sortable\" style=\"font-size:90%;line-height:15px;text-align:center\">"
      ],
      "id": "d2632944-88e6-431d-9e79-2242e9f01525"
    },
    {
      "cell_type": "raw",
      "metadata": {
        "raw_mimetype": "text/html"
      },
      "source": [
        "<tbody>"
      ],
      "id": "85efac43-61bb-4b11-bc67-d8aa0934a8ef"
    },
    {
      "cell_type": "raw",
      "metadata": {
        "raw_mimetype": "text/html"
      },
      "source": [
        "<tr>"
      ],
      "id": "bca79957-6271-4ab5-9919-41ee0bce1cb5"
    },
    {
      "cell_type": "raw",
      "metadata": {
        "raw_mimetype": "text/html"
      },
      "source": [
        "<th scope=\"col\">"
      ],
      "id": "559572d4-1169-4e6d-a8e2-8b13351edcad"
    },
    {
      "cell_type": "markdown",
      "metadata": {},
      "source": [
        "Club"
      ],
      "id": "1eb2bef8-e57d-45c0-8003-d3ac94a3e7fb"
    },
    {
      "cell_type": "raw",
      "metadata": {
        "raw_mimetype": "text/html"
      },
      "source": [
        "</th>"
      ],
      "id": "69676d59-1a76-4ec2-88ce-dbeacd2386b6"
    },
    {
      "cell_type": "raw",
      "metadata": {
        "raw_mimetype": "text/html"
      },
      "source": [
        "<th scope=\"col\">"
      ],
      "id": "e120acef-6949-4120-8c30-afdbc49e7334"
    },
    {
      "cell_type": "markdown",
      "metadata": {},
      "source": [
        "Dernière<br/>montée"
      ],
      "id": "fd1d4cb7-4aa7-4be3-aabe-617082b3ded9"
    },
    {
      "cell_type": "raw",
      "metadata": {
        "raw_mimetype": "text/html"
      },
      "source": [
        "</th>"
      ],
      "id": "7de93572-96c4-46f3-89cd-bc039b357e86"
    },
    {
      "cell_type": "raw",
      "metadata": {
        "raw_mimetype": "text/html"
      },
      "source": [
        "<th scope=\"col\">"
      ],
      "id": "d9f154fb-7c28-4d73-ba8d-106f6e2cc6ab"
    },
    {
      "cell_type": "markdown",
      "metadata": {},
      "source": [
        "Budget<sup class=\"reference\" id=\"cite_ref-3\"><a href=\"#cite_note-3\"><span class=\"cite_crochet\">\\[</span>3<span class=\"cite_crochet\">\\]</span></a></sup><br/>en M<a href=\"/wiki/Euro\" title=\"Euro\">€</a>"
      ],
      "id": "0d5c04ef-160e-4cf0-803f-cd16967184e5"
    },
    {
      "cell_type": "raw",
      "metadata": {
        "raw_mimetype": "text/html"
      },
      "source": [
        "</th>"
      ],
      "id": "81dc7125-4451-4a9e-b5c0-2dd815a00835"
    },
    {
      "cell_type": "raw",
      "metadata": {
        "raw_mimetype": "text/html"
      },
      "source": [
        "<th scope=\"col\">"
      ],
      "id": "a2f79a6a-4e84-44ad-8f09-c6469a4ecac6"
    },
    {
      "cell_type": "markdown",
      "metadata": {},
      "source": [
        "Classement<br/><a href=\"/wiki/Championnat_de_France_de_football_2018-2019\" title=\"Championnat de France de football 2018-2019\">2018-2019</a>"
      ],
      "id": "2b357822-e846-4561-9695-ac129ca9920f"
    },
    {
      "cell_type": "raw",
      "metadata": {
        "raw_mimetype": "text/html"
      },
      "source": [
        "</th>"
      ],
      "id": "2d1e6a46-9e23-441e-9dcb-87a35472f22d"
    },
    {
      "cell_type": "raw",
      "metadata": {
        "raw_mimetype": "text/html"
      },
      "source": [
        "<th scope=\"col\">"
      ],
      "id": "a9e37786-6f89-4731-82f3-e2ee216a24ce"
    },
    {
      "cell_type": "markdown",
      "metadata": {},
      "source": [
        "Entraîneur"
      ],
      "id": "8051f2c9-8202-4df2-92b3-d7b228123d0d"
    },
    {
      "cell_type": "raw",
      "metadata": {
        "raw_mimetype": "text/html"
      },
      "source": [
        "</th>"
      ],
      "id": "cc4414d0-8d81-4468-abd2-895c4b9d821b"
    },
    {
      "cell_type": "raw",
      "metadata": {
        "raw_mimetype": "text/html"
      },
      "source": [
        "<th scope=\"col\">"
      ],
      "id": "57682f5b-6547-44ce-a50e-73cde09d5b70"
    },
    {
      "cell_type": "markdown",
      "metadata": {},
      "source": [
        "Depuis"
      ],
      "id": "26e61087-1d0f-45a5-a843-08648f1a7759"
    },
    {
      "cell_type": "raw",
      "metadata": {
        "raw_mimetype": "text/html"
      },
      "source": [
        "</th>"
      ],
      "id": "0b5ea47d-ca6f-4761-86de-29b889918dfa"
    },
    {
      "cell_type": "raw",
      "metadata": {
        "raw_mimetype": "text/html"
      },
      "source": [
        "<th scope=\"col\">"
      ],
      "id": "fd629947-14a2-417d-948a-954b2a4a00ec"
    },
    {
      "cell_type": "markdown",
      "metadata": {},
      "source": [
        "Stade"
      ],
      "id": "3a8471ff-fb63-4626-ac97-a375afcc4a68"
    },
    {
      "cell_type": "raw",
      "metadata": {
        "raw_mimetype": "text/html"
      },
      "source": [
        "</th>"
      ],
      "id": "8c2c1548-223f-41d7-b722-a816a294671e"
    },
    {
      "cell_type": "raw",
      "metadata": {
        "raw_mimetype": "text/html"
      },
      "source": [
        "<th scope=\"col\">"
      ],
      "id": "2ea60c11-9cbc-44ae-a6f2-ee2bcd4f7824"
    },
    {
      "cell_type": "markdown",
      "metadata": {},
      "source": [
        "Capacité<br/>en L1<sup class=\"reference\" id=\"cite_ref-4\"><a href=\"#cite_note-4\"><span class=\"cite_crochet\">\\[</span>4<span class=\"cite_crochet\">\\]</span></a></sup>"
      ],
      "id": "f2d6d431-ccf5-4286-bd75-e93f2b698d4a"
    },
    {
      "cell_type": "raw",
      "metadata": {
        "raw_mimetype": "text/html"
      },
      "source": [
        "</th>"
      ],
      "id": "4b75a84f-4bc6-4e68-ab66-abfeb9be4060"
    },
    {
      "cell_type": "raw",
      "metadata": {
        "raw_mimetype": "text/html"
      },
      "source": [
        "<th scope=\"col\">"
      ],
      "id": "f1df5aa8-bcba-41a5-b48b-41400acda707"
    },
    {
      "cell_type": "markdown",
      "metadata": {},
      "source": [
        "Nombre<br/>de saisons<br/>en L1"
      ],
      "id": "a814f3a0-a333-47ab-a309-0ca957e883cb"
    },
    {
      "cell_type": "raw",
      "metadata": {
        "raw_mimetype": "text/html"
      },
      "source": [
        "</th>"
      ],
      "id": "a09dfd3a-a4a4-47e1-88f0-a6dfb7a358bc"
    },
    {
      "cell_type": "raw",
      "metadata": {
        "raw_mimetype": "text/html"
      },
      "source": [
        "</tr>"
      ],
      "id": "097be4f0-d298-4591-a26d-5fbc73514e99"
    },
    {
      "cell_type": "raw",
      "metadata": {
        "raw_mimetype": "text/html"
      },
      "source": [
        "<tr bgcolor=\"#97DEFF\">"
      ],
      "id": "42bfebb7-e753-4d9c-9edb-a95297c2c14d"
    },
    {
      "cell_type": "raw",
      "metadata": {
        "raw_mimetype": "text/html"
      },
      "source": [
        "<td>"
      ],
      "id": "9dd29d1c-122f-40a5-961b-9c116270e3a4"
    },
    {
      "cell_type": "markdown",
      "metadata": {},
      "source": [
        "<a href=\"/wiki/Paris_Saint-Germain_Football_Club\" title=\"Paris Saint-Germain Football Club\">Paris Saint-Germain</a>"
      ],
      "id": "b38eb75b-6d20-437c-91b4-92dfc3bb2524"
    },
    {
      "cell_type": "raw",
      "metadata": {
        "raw_mimetype": "text/html"
      },
      "source": [
        "</td>"
      ],
      "id": "696bdd6c-895d-4d01-99c0-1041171c8cb9"
    },
    {
      "cell_type": "raw",
      "metadata": {
        "raw_mimetype": "text/html"
      },
      "source": [
        "<td>"
      ],
      "id": "0f9b7e96-be86-417b-adea-b911042e1df2"
    },
    {
      "cell_type": "markdown",
      "metadata": {},
      "source": [
        "1974"
      ],
      "id": "248a929d-48df-4b0c-bd36-ddcf60cf84d8"
    },
    {
      "cell_type": "raw",
      "metadata": {
        "raw_mimetype": "text/html"
      },
      "source": [
        "</td>"
      ],
      "id": "c6838e78-e580-4b24-88e9-a9cedf3569d7"
    },
    {
      "cell_type": "raw",
      "metadata": {
        "raw_mimetype": "text/html"
      },
      "source": [
        "<td>"
      ],
      "id": "54b678c3-eac7-459a-89ad-100913e96988"
    },
    {
      "cell_type": "markdown",
      "metadata": {},
      "source": [
        "637"
      ],
      "id": "f9aa3fb0-19a1-4680-a7d5-7e125ecff87f"
    },
    {
      "cell_type": "raw",
      "metadata": {
        "raw_mimetype": "text/html"
      },
      "source": [
        "</td>"
      ],
      "id": "92b06c76-8ca5-4b9c-8d8c-b0de3e0b4678"
    },
    {
      "cell_type": "raw",
      "metadata": {
        "raw_mimetype": "text/html"
      },
      "source": [
        "<td>"
      ],
      "id": "1e59638d-88c0-4d08-91b6-1e129937ea0e"
    },
    {
      "cell_type": "markdown",
      "metadata": {},
      "source": [
        "<span data-sort-value=\"101 !\"></span><abbr class=\"abbr\" title=\"Premier\">1<sup>er</sup></abbr>"
      ],
      "id": "3ae8f653-754b-4049-80c3-6c59cb969130"
    },
    {
      "cell_type": "raw",
      "metadata": {
        "raw_mimetype": "text/html"
      },
      "source": [
        "</td>"
      ],
      "id": "7d76ddac-180b-4183-a6ff-4cd63ff5f5ea"
    },
    {
      "cell_type": "raw",
      "metadata": {
        "raw_mimetype": "text/html"
      },
      "source": [
        "<td align=\"left\">"
      ],
      "id": "cd0db399-2263-41ea-8602-8b943a9d655b"
    },
    {
      "cell_type": "markdown",
      "metadata": {},
      "source": [
        "<span class=\"flagicon\"><a class=\"image\" href=\"/wiki/Fichier:Flag_of_Germany.svg\" title=\"Drapeau : Allemagne\"><img alt=\"\" class=\"noviewer thumbborder\" data-file-height=\"600\" data-file-width=\"1000\" decoding=\"async\" height=\"12\" src=\"//upload.wikimedia.org/wikipedia/commons/thumb/b/ba/Flag_of_Germany.svg/20px-Flag_of_Germany.svg.png\" srcset=\"//upload.wikimedia.org/wikipedia/commons/thumb/b/ba/Flag_of_Germany.svg/30px-Flag_of_Germany.svg.png 1.5x, //upload.wikimedia.org/wikipedia/commons/thumb/b/ba/Flag_of_Germany.svg/40px-Flag_of_Germany.svg.png 2x\" width=\"20\"/></a></span> <a href=\"/wiki/Thomas_Tuchel\" title=\"Thomas Tuchel\">Thomas Tuchel</a>"
      ],
      "id": "4f2c9c64-91fd-4dc0-8784-a7ae819ef982"
    },
    {
      "cell_type": "raw",
      "metadata": {
        "raw_mimetype": "text/html"
      },
      "source": [
        "</td>"
      ],
      "id": "a274e98c-9910-43c4-a8b2-74698134ac56"
    },
    {
      "cell_type": "raw",
      "metadata": {
        "raw_mimetype": "text/html"
      },
      "source": [
        "<td>"
      ],
      "id": "e3899d56-5085-4c63-9d34-65753d865e1b"
    },
    {
      "cell_type": "markdown",
      "metadata": {},
      "source": [
        "2018"
      ],
      "id": "352fde7e-0d4b-4ad6-acfa-07d6165b9793"
    },
    {
      "cell_type": "raw",
      "metadata": {
        "raw_mimetype": "text/html"
      },
      "source": [
        "</td>"
      ],
      "id": "63845856-869e-4cf7-9a45-5f08c1fb39b7"
    },
    {
      "cell_type": "raw",
      "metadata": {
        "raw_mimetype": "text/html"
      },
      "source": [
        "<td>"
      ],
      "id": "161a6fae-6186-4ad2-9722-4aa448389122"
    },
    {
      "cell_type": "markdown",
      "metadata": {},
      "source": [
        "<a href=\"/wiki/Parc_des_Princes\" title=\"Parc des Princes\">Parc des Princes</a>"
      ],
      "id": "5b7d50c7-fcdf-44ad-96f3-7649ae7f4cee"
    },
    {
      "cell_type": "raw",
      "metadata": {
        "raw_mimetype": "text/html"
      },
      "source": [
        "</td>"
      ],
      "id": "edac000d-deaa-4a26-a121-ed2e00f6a4f2"
    },
    {
      "cell_type": "raw",
      "metadata": {
        "raw_mimetype": "text/html"
      },
      "source": [
        "<td>"
      ],
      "id": "6c3a79de-e50f-4630-a1fb-908c78da6b02"
    },
    {
      "cell_type": "markdown",
      "metadata": {},
      "source": [
        "47 929"
      ],
      "id": "aa49c8c4-83dd-4b92-90b3-ab20f0a053c5"
    },
    {
      "cell_type": "raw",
      "metadata": {
        "raw_mimetype": "text/html"
      },
      "source": [
        "</td>"
      ],
      "id": "4a6533fb-9646-41fd-a92b-4af90429b7cd"
    },
    {
      "cell_type": "raw",
      "metadata": {
        "raw_mimetype": "text/html"
      },
      "source": [
        "<td>"
      ],
      "id": "6948b40f-301a-482a-9dd1-232c4cf80e96"
    },
    {
      "cell_type": "markdown",
      "metadata": {},
      "source": [
        "46"
      ],
      "id": "70a7daed-7d69-4a58-8fc2-6f916298bf04"
    },
    {
      "cell_type": "raw",
      "metadata": {
        "raw_mimetype": "text/html"
      },
      "source": [
        "</td>"
      ],
      "id": "2aab805e-0d79-472a-b88b-ace826106db2"
    },
    {
      "cell_type": "raw",
      "metadata": {
        "raw_mimetype": "text/html"
      },
      "source": [
        "</tr>"
      ],
      "id": "9ff16ac0-1694-489f-b510-2e5af85693e7"
    },
    {
      "cell_type": "raw",
      "metadata": {
        "raw_mimetype": "text/html"
      },
      "source": [
        "<tr bgcolor=\"#97DEFF\">"
      ],
      "id": "1b637beb-4fad-42e3-a056-43b09723a6d1"
    },
    {
      "cell_type": "raw",
      "metadata": {
        "raw_mimetype": "text/html"
      },
      "source": [
        "<td>"
      ],
      "id": "af923804-1c03-433d-b8ae-ccd28f19daa5"
    },
    {
      "cell_type": "markdown",
      "metadata": {},
      "source": [
        "<a href=\"/wiki/LOSC_Lille\" title=\"LOSC Lille\">LOSC Lille</a>"
      ],
      "id": "18edbf67-0d10-4645-9977-67a9c23949fb"
    },
    {
      "cell_type": "raw",
      "metadata": {
        "raw_mimetype": "text/html"
      },
      "source": [
        "</td>"
      ],
      "id": "a2605622-e3df-4d77-ba86-35705f280988"
    },
    {
      "cell_type": "raw",
      "metadata": {
        "raw_mimetype": "text/html"
      },
      "source": [
        "<td>"
      ],
      "id": "1b693151-6a26-46c9-b7fb-ff327ed14247"
    },
    {
      "cell_type": "markdown",
      "metadata": {},
      "source": [
        "2000"
      ],
      "id": "9b503435-7f7e-4e56-83ce-7c13bcde096d"
    },
    {
      "cell_type": "raw",
      "metadata": {
        "raw_mimetype": "text/html"
      },
      "source": [
        "</td>"
      ],
      "id": "6a3ca816-9ef5-49ae-b720-2d82d4033c6e"
    },
    {
      "cell_type": "raw",
      "metadata": {
        "raw_mimetype": "text/html"
      },
      "source": [
        "<td>"
      ],
      "id": "72ac4f22-5585-48fe-94cc-049ae54b3c40"
    },
    {
      "cell_type": "markdown",
      "metadata": {},
      "source": [
        "120"
      ],
      "id": "00ffe503-8826-4004-978e-87e7c96c8544"
    },
    {
      "cell_type": "raw",
      "metadata": {
        "raw_mimetype": "text/html"
      },
      "source": [
        "</td>"
      ],
      "id": "1f71f72c-c414-4d7a-bd9e-f82df4a6345b"
    },
    {
      "cell_type": "raw",
      "metadata": {
        "raw_mimetype": "text/html"
      },
      "source": [
        "<td>"
      ],
      "id": "0aed9529-85fc-4db9-9dab-aaee0b2f70ca"
    },
    {
      "cell_type": "markdown",
      "metadata": {},
      "source": [
        "<span data-sort-value=\"102 !\"></span><abbr class=\"abbr\" title=\"Deuxième\">2<sup>e</sup></abbr>"
      ],
      "id": "34a72c91-7aa0-4a7c-9073-4f53505473ae"
    },
    {
      "cell_type": "raw",
      "metadata": {
        "raw_mimetype": "text/html"
      },
      "source": [
        "</td>"
      ],
      "id": "409d337c-1d18-4246-a34b-529446e8bcec"
    },
    {
      "cell_type": "raw",
      "metadata": {
        "raw_mimetype": "text/html"
      },
      "source": [
        "<td align=\"left\">"
      ],
      "id": "bbf40225-82c3-447d-9b48-9af959269229"
    },
    {
      "cell_type": "markdown",
      "metadata": {},
      "source": [
        "<span class=\"flagicon\"><a class=\"image\" href=\"/wiki/Fichier:Flag_of_France.svg\" title=\"Drapeau : France\"><img alt=\"\" class=\"noviewer thumbborder\" data-file-height=\"600\" data-file-width=\"900\" decoding=\"async\" height=\"13\" src=\"//upload.wikimedia.org/wikipedia/commons/thumb/c/c3/Flag_of_France.svg/20px-Flag_of_France.svg.png\" srcset=\"//upload.wikimedia.org/wikipedia/commons/thumb/c/c3/Flag_of_France.svg/30px-Flag_of_France.svg.png 1.5x, //upload.wikimedia.org/wikipedia/commons/thumb/c/c3/Flag_of_France.svg/40px-Flag_of_France.svg.png 2x\" width=\"20\"/></a></span> <a href=\"/wiki/Christophe_Galtier\" title=\"Christophe Galtier\">Christophe Galtier</a>"
      ],
      "id": "b6c748bc-51ff-49e6-b9fe-dd89376667e2"
    },
    {
      "cell_type": "raw",
      "metadata": {
        "raw_mimetype": "text/html"
      },
      "source": [
        "</td>"
      ],
      "id": "e17115ea-6f0b-4af2-b3b5-9aaf2e24ce51"
    },
    {
      "cell_type": "raw",
      "metadata": {
        "raw_mimetype": "text/html"
      },
      "source": [
        "<td>"
      ],
      "id": "9fc4465e-f981-44b8-8b00-df889b8911bc"
    },
    {
      "cell_type": "markdown",
      "metadata": {},
      "source": [
        "2017"
      ],
      "id": "a2c74fc4-de1e-4642-9260-e2343b5b0bbc"
    },
    {
      "cell_type": "raw",
      "metadata": {
        "raw_mimetype": "text/html"
      },
      "source": [
        "</td>"
      ],
      "id": "5dd8f387-b04f-4aea-be5f-19da80bdfd04"
    },
    {
      "cell_type": "raw",
      "metadata": {
        "raw_mimetype": "text/html"
      },
      "source": [
        "<td>"
      ],
      "id": "4093efb5-a1e3-45e9-a51f-29e182e95795"
    },
    {
      "cell_type": "markdown",
      "metadata": {},
      "source": [
        "<a href=\"/wiki/Stade_Pierre-Mauroy\" title=\"Stade Pierre-Mauroy\">Stade Pierre-Mauroy</a>"
      ],
      "id": "7f90ea9e-2839-42bc-a53e-37ea191a1d9e"
    },
    {
      "cell_type": "raw",
      "metadata": {
        "raw_mimetype": "text/html"
      },
      "source": [
        "</td>"
      ],
      "id": "f1d097a5-6b08-4268-8b23-9ace12258599"
    },
    {
      "cell_type": "raw",
      "metadata": {
        "raw_mimetype": "text/html"
      },
      "source": [
        "<td>"
      ],
      "id": "ba39e9d8-bf26-4096-8366-62dcfcaaa3df"
    },
    {
      "cell_type": "markdown",
      "metadata": {},
      "source": [
        "49 712"
      ],
      "id": "6f95627d-bc19-4db9-bcff-dace7a391106"
    },
    {
      "cell_type": "raw",
      "metadata": {
        "raw_mimetype": "text/html"
      },
      "source": [
        "</td>"
      ],
      "id": "8a72d01f-c8c2-4408-b026-1105db6a1210"
    },
    {
      "cell_type": "raw",
      "metadata": {
        "raw_mimetype": "text/html"
      },
      "source": [
        "<td>"
      ],
      "id": "25c63304-3964-4cdf-9cb0-28502685f92c"
    },
    {
      "cell_type": "markdown",
      "metadata": {},
      "source": [
        "59"
      ],
      "id": "fd595a7f-bdb4-4b99-9842-51a33dbc1836"
    },
    {
      "cell_type": "raw",
      "metadata": {
        "raw_mimetype": "text/html"
      },
      "source": [
        "</td>"
      ],
      "id": "e52bc98b-0c61-41ed-8324-b19dc82005d7"
    },
    {
      "cell_type": "raw",
      "metadata": {
        "raw_mimetype": "text/html"
      },
      "source": [
        "</tr>"
      ],
      "id": "13392eb1-c33d-417f-b36e-3a7894c1f756"
    },
    {
      "cell_type": "raw",
      "metadata": {
        "raw_mimetype": "text/html"
      },
      "source": [
        "<tr bgcolor=\"#97DEFF\">"
      ],
      "id": "e7490ef6-2bad-4600-b617-ad4220251a10"
    },
    {
      "cell_type": "raw",
      "metadata": {
        "raw_mimetype": "text/html"
      },
      "source": [
        "<td>"
      ],
      "id": "162d2e0f-05c7-4ddd-b454-450f77849c78"
    },
    {
      "cell_type": "markdown",
      "metadata": {},
      "source": [
        "<a href=\"/wiki/Olympique_lyonnais\" title=\"Olympique lyonnais\">Olympique lyonnais</a>"
      ],
      "id": "ae93616a-7f79-4289-9fd8-e1a85a20ba3a"
    },
    {
      "cell_type": "raw",
      "metadata": {
        "raw_mimetype": "text/html"
      },
      "source": [
        "</td>"
      ],
      "id": "3b60baf0-41e6-41b3-ad71-2633a59ef576"
    },
    {
      "cell_type": "raw",
      "metadata": {
        "raw_mimetype": "text/html"
      },
      "source": [
        "<td>"
      ],
      "id": "f67e9c33-1b33-421e-9047-f157b16deae5"
    },
    {
      "cell_type": "markdown",
      "metadata": {},
      "source": [
        "1989"
      ],
      "id": "36f3650d-0163-45ed-b082-af76bdca3184"
    },
    {
      "cell_type": "raw",
      "metadata": {
        "raw_mimetype": "text/html"
      },
      "source": [
        "</td>"
      ],
      "id": "bc588e1f-6605-40ca-9aff-2d6de649f21d"
    },
    {
      "cell_type": "raw",
      "metadata": {
        "raw_mimetype": "text/html"
      },
      "source": [
        "<td>"
      ],
      "id": "f679ffad-642a-4442-8d99-83904022a227"
    },
    {
      "cell_type": "markdown",
      "metadata": {},
      "source": [
        "310"
      ],
      "id": "013740c2-3a6d-4f70-b2c3-463420dab2cb"
    },
    {
      "cell_type": "raw",
      "metadata": {
        "raw_mimetype": "text/html"
      },
      "source": [
        "</td>"
      ],
      "id": "043f06f1-65a8-478f-851e-fb31862d5a91"
    },
    {
      "cell_type": "raw",
      "metadata": {
        "raw_mimetype": "text/html"
      },
      "source": [
        "<td>"
      ],
      "id": "40a3d2dd-2d4c-41b9-a4cc-b7d524c7386b"
    },
    {
      "cell_type": "markdown",
      "metadata": {},
      "source": [
        "<span data-sort-value=\"103 !\"></span><abbr class=\"abbr\" title=\"Troisième\">3<sup>e</sup></abbr>"
      ],
      "id": "3b5873e3-5bb8-4e8a-82a3-1b76767af3c6"
    },
    {
      "cell_type": "raw",
      "metadata": {
        "raw_mimetype": "text/html"
      },
      "source": [
        "</td>"
      ],
      "id": "b901abce-8683-4d89-a92b-e8dfc910320a"
    },
    {
      "cell_type": "raw",
      "metadata": {
        "raw_mimetype": "text/html"
      },
      "source": [
        "<td align=\"left\">"
      ],
      "id": "34e65ed5-efd5-4b71-88ea-58264a9012de"
    },
    {
      "cell_type": "markdown",
      "metadata": {},
      "source": [
        "<span class=\"flagicon\"><a class=\"image\" href=\"/wiki/Fichier:Flag_of_France.svg\" title=\"Drapeau : France\"><img alt=\"\" class=\"noviewer thumbborder\" data-file-height=\"600\" data-file-width=\"900\" decoding=\"async\" height=\"13\" src=\"//upload.wikimedia.org/wikipedia/commons/thumb/c/c3/Flag_of_France.svg/20px-Flag_of_France.svg.png\" srcset=\"//upload.wikimedia.org/wikipedia/commons/thumb/c/c3/Flag_of_France.svg/30px-Flag_of_France.svg.png 1.5x, //upload.wikimedia.org/wikipedia/commons/thumb/c/c3/Flag_of_France.svg/40px-Flag_of_France.svg.png 2x\" width=\"20\"/></a></span> <a href=\"/wiki/Rudi_Garcia\" title=\"Rudi Garcia\">Rudi Garcia</a>"
      ],
      "id": "0b811409-6268-4e71-aa71-2011a4e8aee6"
    },
    {
      "cell_type": "raw",
      "metadata": {
        "raw_mimetype": "text/html"
      },
      "source": [
        "</td>"
      ],
      "id": "160ca596-d916-4705-bda2-9835ef371a7b"
    },
    {
      "cell_type": "raw",
      "metadata": {
        "raw_mimetype": "text/html"
      },
      "source": [
        "<td>"
      ],
      "id": "70fc9db1-ba5f-4a7e-84a0-531d5d2bca51"
    },
    {
      "cell_type": "markdown",
      "metadata": {},
      "source": [
        "2019"
      ],
      "id": "df06dfcd-a7a2-4f31-aba3-d974913a3bf0"
    },
    {
      "cell_type": "raw",
      "metadata": {
        "raw_mimetype": "text/html"
      },
      "source": [
        "</td>"
      ],
      "id": "9eb5ce37-6926-42d4-9e83-efb5f71e1e0c"
    },
    {
      "cell_type": "raw",
      "metadata": {
        "raw_mimetype": "text/html"
      },
      "source": [
        "<td>"
      ],
      "id": "b37ebbff-930c-4331-9158-b4309da8f7fd"
    },
    {
      "cell_type": "markdown",
      "metadata": {},
      "source": [
        "<a href=\"/wiki/Parc_Olympique_lyonnais\" title=\"Parc Olympique lyonnais\">Groupama Stadium</a>"
      ],
      "id": "dbe9b65f-584b-4c31-962f-22b048b32174"
    },
    {
      "cell_type": "raw",
      "metadata": {
        "raw_mimetype": "text/html"
      },
      "source": [
        "</td>"
      ],
      "id": "747dbe58-e85e-477b-8d74-dbf42c033858"
    },
    {
      "cell_type": "raw",
      "metadata": {
        "raw_mimetype": "text/html"
      },
      "source": [
        "<td>"
      ],
      "id": "36fd4a93-0140-4dc1-8f9a-e4511087e35c"
    },
    {
      "cell_type": "markdown",
      "metadata": {},
      "source": [
        "57 206"
      ],
      "id": "5a9cc677-c337-464e-8f3b-a207e9049367"
    },
    {
      "cell_type": "raw",
      "metadata": {
        "raw_mimetype": "text/html"
      },
      "source": [
        "</td>"
      ],
      "id": "180b2d63-bf31-48ae-8709-27d21294d075"
    },
    {
      "cell_type": "raw",
      "metadata": {
        "raw_mimetype": "text/html"
      },
      "source": [
        "<td>"
      ],
      "id": "db1a88f2-fd8c-4cc7-aa06-f12e698d5d98"
    },
    {
      "cell_type": "markdown",
      "metadata": {},
      "source": [
        "60"
      ],
      "id": "2130994e-1b9c-434c-be89-0a552c0938bd"
    },
    {
      "cell_type": "raw",
      "metadata": {
        "raw_mimetype": "text/html"
      },
      "source": [
        "</td>"
      ],
      "id": "f1227f63-5e86-4c56-b8d9-612558ecd287"
    },
    {
      "cell_type": "raw",
      "metadata": {
        "raw_mimetype": "text/html"
      },
      "source": [
        "</tr>"
      ],
      "id": "c49e9bdd-b653-4e1a-8d2c-5faf7b27c480"
    },
    {
      "cell_type": "raw",
      "metadata": {
        "raw_mimetype": "text/html"
      },
      "source": [
        "<tr bgcolor=\"#FFE052\">"
      ],
      "id": "8a670e42-91c5-43bf-8eb0-54078db431d9"
    },
    {
      "cell_type": "raw",
      "metadata": {
        "raw_mimetype": "text/html"
      },
      "source": [
        "<td>"
      ],
      "id": "5bb88306-83b2-453b-8d6e-4f289095093e"
    },
    {
      "cell_type": "markdown",
      "metadata": {},
      "source": [
        "<a href=\"/wiki/Association_sportive_de_Saint-%C3%89tienne\" title=\"Association sportive de Saint-Étienne\">AS Saint-Étienne</a>"
      ],
      "id": "6afbfbc0-c389-47a7-95dc-b3ab2269f3e8"
    },
    {
      "cell_type": "raw",
      "metadata": {
        "raw_mimetype": "text/html"
      },
      "source": [
        "</td>"
      ],
      "id": "3da99871-9b87-409a-807f-f33e6903470f"
    },
    {
      "cell_type": "raw",
      "metadata": {
        "raw_mimetype": "text/html"
      },
      "source": [
        "<td>"
      ],
      "id": "e4ebd08a-b6e2-4aa1-a1d3-b10e958db6c3"
    },
    {
      "cell_type": "markdown",
      "metadata": {},
      "source": [
        "2004"
      ],
      "id": "a628730d-21e6-4cc3-9c1b-13ccb7e680fb"
    },
    {
      "cell_type": "raw",
      "metadata": {
        "raw_mimetype": "text/html"
      },
      "source": [
        "</td>"
      ],
      "id": "4d26090c-bee1-40dc-a8f2-ab87510d2d82"
    },
    {
      "cell_type": "raw",
      "metadata": {
        "raw_mimetype": "text/html"
      },
      "source": [
        "<td>"
      ],
      "id": "fcc1e9e4-2553-46a2-81dd-732dbf753362"
    },
    {
      "cell_type": "markdown",
      "metadata": {},
      "source": [
        "100"
      ],
      "id": "c9479e47-ff6e-4b10-81df-eccd3b10419d"
    },
    {
      "cell_type": "raw",
      "metadata": {
        "raw_mimetype": "text/html"
      },
      "source": [
        "</td>"
      ],
      "id": "5e1b70b9-1888-4675-a672-371a5776173f"
    },
    {
      "cell_type": "raw",
      "metadata": {
        "raw_mimetype": "text/html"
      },
      "source": [
        "<td>"
      ],
      "id": "1be9da15-fc81-45c3-86c8-86a2f0a6770c"
    },
    {
      "cell_type": "markdown",
      "metadata": {},
      "source": [
        "<span data-sort-value=\"104 !\"></span><abbr class=\"abbr\" title=\"Quatrième\">4<sup>e</sup></abbr>"
      ],
      "id": "de99a703-b3e3-407f-8bd3-fc4b81e9f683"
    },
    {
      "cell_type": "raw",
      "metadata": {
        "raw_mimetype": "text/html"
      },
      "source": [
        "</td>"
      ],
      "id": "6c5995c6-b018-4720-8176-60ea1dfdf006"
    },
    {
      "cell_type": "raw",
      "metadata": {
        "raw_mimetype": "text/html"
      },
      "source": [
        "<td align=\"left\">"
      ],
      "id": "30b8e049-e3b4-45fe-a806-d2bcf2b07927"
    },
    {
      "cell_type": "markdown",
      "metadata": {},
      "source": [
        "<span class=\"flagicon\"><a class=\"image\" href=\"/wiki/Fichier:Flag_of_France.svg\" title=\"Drapeau : France\"><img alt=\"\" class=\"noviewer thumbborder\" data-file-height=\"600\" data-file-width=\"900\" decoding=\"async\" height=\"13\" src=\"//upload.wikimedia.org/wikipedia/commons/thumb/c/c3/Flag_of_France.svg/20px-Flag_of_France.svg.png\" srcset=\"//upload.wikimedia.org/wikipedia/commons/thumb/c/c3/Flag_of_France.svg/30px-Flag_of_France.svg.png 1.5x, //upload.wikimedia.org/wikipedia/commons/thumb/c/c3/Flag_of_France.svg/40px-Flag_of_France.svg.png 2x\" width=\"20\"/></a></span> <a href=\"/wiki/Claude_Puel\" title=\"Claude Puel\">Claude Puel</a>"
      ],
      "id": "132bcc92-065d-4cda-9de7-31663494068e"
    },
    {
      "cell_type": "raw",
      "metadata": {
        "raw_mimetype": "text/html"
      },
      "source": [
        "</td>"
      ],
      "id": "8f8e3dfc-abce-449a-adf4-2c2c47561faa"
    },
    {
      "cell_type": "raw",
      "metadata": {
        "raw_mimetype": "text/html"
      },
      "source": [
        "<td>"
      ],
      "id": "b016c5fd-31d3-4cb8-a0d4-eca7904ab7aa"
    },
    {
      "cell_type": "markdown",
      "metadata": {},
      "source": [
        "2019"
      ],
      "id": "3f2b1eb5-0cf5-4bb0-98d6-d2c4afee47b2"
    },
    {
      "cell_type": "raw",
      "metadata": {
        "raw_mimetype": "text/html"
      },
      "source": [
        "</td>"
      ],
      "id": "f5fe94b3-e775-4c74-bc1a-4355e4de4c25"
    },
    {
      "cell_type": "raw",
      "metadata": {
        "raw_mimetype": "text/html"
      },
      "source": [
        "<td>"
      ],
      "id": "c620536f-79c8-40c1-bdda-49a20345e167"
    },
    {
      "cell_type": "markdown",
      "metadata": {},
      "source": [
        "<a href=\"/wiki/Stade_Geoffroy-Guichard\" title=\"Stade Geoffroy-Guichard\">Stade Geoffroy-Guichard</a>"
      ],
      "id": "8dda7b94-0811-4603-9e35-3a72fc09c96c"
    },
    {
      "cell_type": "raw",
      "metadata": {
        "raw_mimetype": "text/html"
      },
      "source": [
        "</td>"
      ],
      "id": "05bf209b-64e5-4ba3-a971-db329ab3a1cb"
    },
    {
      "cell_type": "raw",
      "metadata": {
        "raw_mimetype": "text/html"
      },
      "source": [
        "<td>"
      ],
      "id": "2f519768-6e06-4ab8-a806-ba852941f9ce"
    },
    {
      "cell_type": "markdown",
      "metadata": {},
      "source": [
        "41 965"
      ],
      "id": "3d8ff1c4-9ad4-437b-a431-7b56c3560ba1"
    },
    {
      "cell_type": "raw",
      "metadata": {
        "raw_mimetype": "text/html"
      },
      "source": [
        "</td>"
      ],
      "id": "bc1f30c1-f1a0-43e8-ac1c-a41997d11236"
    },
    {
      "cell_type": "raw",
      "metadata": {
        "raw_mimetype": "text/html"
      },
      "source": [
        "<td>"
      ],
      "id": "890d62ac-ce3f-4091-8360-48d3b83295fd"
    },
    {
      "cell_type": "markdown",
      "metadata": {},
      "source": [
        "66"
      ],
      "id": "03219fe2-8b32-44ad-bb83-6ccff9b743fd"
    },
    {
      "cell_type": "raw",
      "metadata": {
        "raw_mimetype": "text/html"
      },
      "source": [
        "</td>"
      ],
      "id": "21244c1a-1967-449e-85a2-08bbf53aa5fc"
    },
    {
      "cell_type": "raw",
      "metadata": {
        "raw_mimetype": "text/html"
      },
      "source": [
        "</tr>"
      ],
      "id": "9c5c0315-1e5d-4307-bfcd-11e4511543b9"
    },
    {
      "cell_type": "raw",
      "metadata": {
        "raw_mimetype": "text/html"
      },
      "source": [
        "<tr>"
      ],
      "id": "b258582b-5d80-48aa-83e2-00df8bb6783d"
    },
    {
      "cell_type": "raw",
      "metadata": {
        "raw_mimetype": "text/html"
      },
      "source": [
        "<td>"
      ],
      "id": "c2631825-dd9f-4dff-aa83-6558f51d40c3"
    },
    {
      "cell_type": "markdown",
      "metadata": {},
      "source": [
        "<a href=\"/wiki/Olympique_de_Marseille\" title=\"Olympique de Marseille\">Olympique de Marseille</a>"
      ],
      "id": "1803c9e1-2288-4301-96f4-20578355ce45"
    },
    {
      "cell_type": "raw",
      "metadata": {
        "raw_mimetype": "text/html"
      },
      "source": [
        "</td>"
      ],
      "id": "f250df0c-3b68-445e-8087-6e9de8db8830"
    },
    {
      "cell_type": "raw",
      "metadata": {
        "raw_mimetype": "text/html"
      },
      "source": [
        "<td>"
      ],
      "id": "028003c8-fc30-4d97-81fc-508980b56d24"
    },
    {
      "cell_type": "markdown",
      "metadata": {},
      "source": [
        "1996"
      ],
      "id": "3b0c80ab-4454-4ada-871c-072186817a84"
    },
    {
      "cell_type": "raw",
      "metadata": {
        "raw_mimetype": "text/html"
      },
      "source": [
        "</td>"
      ],
      "id": "634fa970-2ca7-40e3-b308-013e3fdd7b15"
    },
    {
      "cell_type": "raw",
      "metadata": {
        "raw_mimetype": "text/html"
      },
      "source": [
        "<td>"
      ],
      "id": "42979d05-da5a-4ded-a652-9e12e392e004"
    },
    {
      "cell_type": "markdown",
      "metadata": {},
      "source": [
        "110"
      ],
      "id": "c485ab3d-74f8-4612-bce3-27f98662fea5"
    },
    {
      "cell_type": "raw",
      "metadata": {
        "raw_mimetype": "text/html"
      },
      "source": [
        "</td>"
      ],
      "id": "04c97d6b-7406-4ead-85b7-7a0935ddb647"
    },
    {
      "cell_type": "raw",
      "metadata": {
        "raw_mimetype": "text/html"
      },
      "source": [
        "<td>"
      ],
      "id": "38f93d31-a741-4d84-8060-52be6b3edd4f"
    },
    {
      "cell_type": "markdown",
      "metadata": {},
      "source": [
        "<span data-sort-value=\"105 !\"></span><abbr class=\"abbr\" title=\"Cinquième\">5<sup>e</sup></abbr>"
      ],
      "id": "88eb905f-54a6-4022-8158-98e6f5be2c47"
    },
    {
      "cell_type": "raw",
      "metadata": {
        "raw_mimetype": "text/html"
      },
      "source": [
        "</td>"
      ],
      "id": "c479e470-4143-4742-bc70-2ac51ee2b8a2"
    },
    {
      "cell_type": "raw",
      "metadata": {
        "raw_mimetype": "text/html"
      },
      "source": [
        "<td align=\"left\">"
      ],
      "id": "34c366ed-409b-4a78-b5fe-f82719f97faf"
    },
    {
      "cell_type": "markdown",
      "metadata": {},
      "source": [
        "<span class=\"flagicon\"><a class=\"image\" href=\"/wiki/Fichier:Flag_of_Portugal.svg\" title=\"Drapeau : Portugal\"><img alt=\"\" class=\"noviewer thumbborder\" data-file-height=\"400\" data-file-width=\"600\" decoding=\"async\" height=\"13\" src=\"//upload.wikimedia.org/wikipedia/commons/thumb/5/5c/Flag_of_Portugal.svg/20px-Flag_of_Portugal.svg.png\" srcset=\"//upload.wikimedia.org/wikipedia/commons/thumb/5/5c/Flag_of_Portugal.svg/30px-Flag_of_Portugal.svg.png 1.5x, //upload.wikimedia.org/wikipedia/commons/thumb/5/5c/Flag_of_Portugal.svg/40px-Flag_of_Portugal.svg.png 2x\" width=\"20\"/></a></span> <a href=\"/wiki/Andr%C3%A9_Villas-Boas\" title=\"André Villas-Boas\">André Villas-Boas</a>"
      ],
      "id": "4a9f0eb3-261f-43e7-9a4b-e363785a086c"
    },
    {
      "cell_type": "raw",
      "metadata": {
        "raw_mimetype": "text/html"
      },
      "source": [
        "</td>"
      ],
      "id": "0dab8f4a-ee1b-49f1-895c-a421bb73b3d4"
    },
    {
      "cell_type": "raw",
      "metadata": {
        "raw_mimetype": "text/html"
      },
      "source": [
        "<td>"
      ],
      "id": "31db3139-6fb4-41e0-832e-76d046409655"
    },
    {
      "cell_type": "markdown",
      "metadata": {},
      "source": [
        "2019"
      ],
      "id": "a5b10576-c637-4b96-81a7-ef1099a5d599"
    },
    {
      "cell_type": "raw",
      "metadata": {
        "raw_mimetype": "text/html"
      },
      "source": [
        "</td>"
      ],
      "id": "b9f5b7f0-a84d-4568-af11-6d23b49751a2"
    },
    {
      "cell_type": "raw",
      "metadata": {
        "raw_mimetype": "text/html"
      },
      "source": [
        "<td>"
      ],
      "id": "59db6324-14a0-4f09-9da1-c5cd0c307f8a"
    },
    {
      "cell_type": "markdown",
      "metadata": {},
      "source": [
        "<a href=\"/wiki/Stade_V%C3%A9lodrome\" title=\"Stade Vélodrome\">Orange Vélodrome</a>"
      ],
      "id": "99233fce-a9f9-4efa-a9de-c5fde2a7abda"
    },
    {
      "cell_type": "raw",
      "metadata": {
        "raw_mimetype": "text/html"
      },
      "source": [
        "</td>"
      ],
      "id": "8069c898-cc05-4ce9-b4c2-4ec54e71ce64"
    },
    {
      "cell_type": "raw",
      "metadata": {
        "raw_mimetype": "text/html"
      },
      "source": [
        "<td>"
      ],
      "id": "61124121-46d8-4ea5-b9c7-8a983a7e0b6d"
    },
    {
      "cell_type": "markdown",
      "metadata": {},
      "source": [
        "66 226"
      ],
      "id": "2c04c41e-786c-4472-86c3-5ad360824a6f"
    },
    {
      "cell_type": "raw",
      "metadata": {
        "raw_mimetype": "text/html"
      },
      "source": [
        "</td>"
      ],
      "id": "74f31dc6-a72b-48f5-a265-de6342c9cc23"
    },
    {
      "cell_type": "raw",
      "metadata": {
        "raw_mimetype": "text/html"
      },
      "source": [
        "<td>"
      ],
      "id": "80696e86-5824-4f1f-8e04-a212ffa752cc"
    },
    {
      "cell_type": "markdown",
      "metadata": {},
      "source": [
        "69"
      ],
      "id": "41af48a9-f021-4fa0-aa64-728b818da54a"
    },
    {
      "cell_type": "raw",
      "metadata": {
        "raw_mimetype": "text/html"
      },
      "source": [
        "</td>"
      ],
      "id": "6219b427-e8ba-4c97-9e8f-1f222e925985"
    },
    {
      "cell_type": "raw",
      "metadata": {
        "raw_mimetype": "text/html"
      },
      "source": [
        "</tr>"
      ],
      "id": "758249a1-e279-4285-af42-b7a1104735f0"
    },
    {
      "cell_type": "raw",
      "metadata": {
        "raw_mimetype": "text/html"
      },
      "source": [
        "<tr>"
      ],
      "id": "ac3aaef2-c0bf-4c2f-91ff-fd2c9d678708"
    },
    {
      "cell_type": "raw",
      "metadata": {
        "raw_mimetype": "text/html"
      },
      "source": [
        "<td>"
      ],
      "id": "b32c2b8a-92ad-453b-a89e-c461ce2288b0"
    },
    {
      "cell_type": "markdown",
      "metadata": {},
      "source": [
        "<a href=\"/wiki/Montpellier_H%C3%A9rault_Sport_Club\" title=\"Montpellier Hérault Sport Club\">Montpellier HSC</a>"
      ],
      "id": "3da5ce7a-973e-499f-8a92-5106b0cda92d"
    },
    {
      "cell_type": "raw",
      "metadata": {
        "raw_mimetype": "text/html"
      },
      "source": [
        "</td>"
      ],
      "id": "34b02110-b6ef-44c7-bb0a-b6e5abd8cd3e"
    },
    {
      "cell_type": "raw",
      "metadata": {
        "raw_mimetype": "text/html"
      },
      "source": [
        "<td>"
      ],
      "id": "d8cad4a2-8fc4-43bf-bfb2-8f880ca5f713"
    },
    {
      "cell_type": "markdown",
      "metadata": {},
      "source": [
        "2009"
      ],
      "id": "d0420cc5-f7b8-4549-b74d-7b5ee0818e1a"
    },
    {
      "cell_type": "raw",
      "metadata": {
        "raw_mimetype": "text/html"
      },
      "source": [
        "</td>"
      ],
      "id": "75fbcd49-3319-4086-8591-e86ac070e9e2"
    },
    {
      "cell_type": "raw",
      "metadata": {
        "raw_mimetype": "text/html"
      },
      "source": [
        "<td>"
      ],
      "id": "1ae409cc-80e1-446b-bc95-279fb641ba0f"
    },
    {
      "cell_type": "markdown",
      "metadata": {},
      "source": [
        "40"
      ],
      "id": "b763a587-a40c-4a57-b663-887e999d90f6"
    },
    {
      "cell_type": "raw",
      "metadata": {
        "raw_mimetype": "text/html"
      },
      "source": [
        "</td>"
      ],
      "id": "71c44467-338c-4109-a79d-dc012a276883"
    },
    {
      "cell_type": "raw",
      "metadata": {
        "raw_mimetype": "text/html"
      },
      "source": [
        "<td>"
      ],
      "id": "0c6ff3dd-b3f3-40db-8bbc-805ab4da30e9"
    },
    {
      "cell_type": "markdown",
      "metadata": {},
      "source": [
        "<span data-sort-value=\"106 !\"></span><abbr class=\"abbr\" title=\"Sixième\">6<sup>e</sup></abbr>"
      ],
      "id": "b3997042-cfd9-4575-8b0e-79679b9a378a"
    },
    {
      "cell_type": "raw",
      "metadata": {
        "raw_mimetype": "text/html"
      },
      "source": [
        "</td>"
      ],
      "id": "8636e73c-e3f8-4622-bb71-8173e1206679"
    },
    {
      "cell_type": "raw",
      "metadata": {
        "raw_mimetype": "text/html"
      },
      "source": [
        "<td align=\"left\">"
      ],
      "id": "949895f2-79a6-49cc-9cba-b0372dc9240f"
    },
    {
      "cell_type": "markdown",
      "metadata": {},
      "source": [
        "<span class=\"flagicon\"><a class=\"image\" href=\"/wiki/Fichier:Flag_of_Armenia.svg\" title=\"Drapeau : Arménie\"><img alt=\"\" class=\"noviewer thumbborder\" data-file-height=\"600\" data-file-width=\"1200\" decoding=\"async\" height=\"10\" src=\"//upload.wikimedia.org/wikipedia/commons/thumb/2/2f/Flag_of_Armenia.svg/20px-Flag_of_Armenia.svg.png\" srcset=\"//upload.wikimedia.org/wikipedia/commons/thumb/2/2f/Flag_of_Armenia.svg/30px-Flag_of_Armenia.svg.png 1.5x, //upload.wikimedia.org/wikipedia/commons/thumb/2/2f/Flag_of_Armenia.svg/40px-Flag_of_Armenia.svg.png 2x\" width=\"20\"/></a></span><span class=\"flagicon\"><a class=\"image\" href=\"/wiki/Fichier:Flag_of_France.svg\" title=\"Drapeau : France\"><img alt=\"\" class=\"noviewer thumbborder\" data-file-height=\"600\" data-file-width=\"900\" decoding=\"async\" height=\"13\" src=\"//upload.wikimedia.org/wikipedia/commons/thumb/c/c3/Flag_of_France.svg/20px-Flag_of_France.svg.png\" srcset=\"//upload.wikimedia.org/wikipedia/commons/thumb/c/c3/Flag_of_France.svg/30px-Flag_of_France.svg.png 1.5x, //upload.wikimedia.org/wikipedia/commons/thumb/c/c3/Flag_of_France.svg/40px-Flag_of_France.svg.png 2x\" width=\"20\"/></a></span> <a href=\"/wiki/Michel_Der_Zakarian\" title=\"Michel Der Zakarian\">Michel Der Zakarian</a>"
      ],
      "id": "88ffeb1d-1400-4801-a8fc-a4285a1ff686"
    },
    {
      "cell_type": "raw",
      "metadata": {
        "raw_mimetype": "text/html"
      },
      "source": [
        "</td>"
      ],
      "id": "583040cd-9cd1-4660-9a5f-b8abc5bd53e4"
    },
    {
      "cell_type": "raw",
      "metadata": {
        "raw_mimetype": "text/html"
      },
      "source": [
        "<td>"
      ],
      "id": "54cbd14a-7d16-4f9a-8d7d-31c7c41fcda0"
    },
    {
      "cell_type": "markdown",
      "metadata": {},
      "source": [
        "2017"
      ],
      "id": "7c8cd21b-2593-4fff-b67a-4de5190c9c59"
    },
    {
      "cell_type": "raw",
      "metadata": {
        "raw_mimetype": "text/html"
      },
      "source": [
        "</td>"
      ],
      "id": "e7e51b7f-fbf5-4b3b-b934-4773645c92b1"
    },
    {
      "cell_type": "raw",
      "metadata": {
        "raw_mimetype": "text/html"
      },
      "source": [
        "<td>"
      ],
      "id": "edc394b7-f594-490d-b6bb-8c4c997ac649"
    },
    {
      "cell_type": "markdown",
      "metadata": {},
      "source": [
        "<a href=\"/wiki/Stade_de_la_Mosson\" title=\"Stade de la Mosson\">Stade de la Mosson</a>"
      ],
      "id": "ac356c56-fce4-4c74-af22-af836a5fd643"
    },
    {
      "cell_type": "raw",
      "metadata": {
        "raw_mimetype": "text/html"
      },
      "source": [
        "</td>"
      ],
      "id": "bcb54786-e5c7-4a68-a62b-1651c4aa3b6f"
    },
    {
      "cell_type": "raw",
      "metadata": {
        "raw_mimetype": "text/html"
      },
      "source": [
        "<td>"
      ],
      "id": "e105bda6-b53a-461e-88d5-98facda0369f"
    },
    {
      "cell_type": "markdown",
      "metadata": {},
      "source": [
        "22 000"
      ],
      "id": "fcbafdeb-4a36-44f1-92d8-bf6d04994b45"
    },
    {
      "cell_type": "raw",
      "metadata": {
        "raw_mimetype": "text/html"
      },
      "source": [
        "</td>"
      ],
      "id": "2f37a890-1ef6-4750-b209-95f51c901d87"
    },
    {
      "cell_type": "raw",
      "metadata": {
        "raw_mimetype": "text/html"
      },
      "source": [
        "<td>"
      ],
      "id": "cf78b1b1-2ee6-4323-913f-dc1e29fed46d"
    },
    {
      "cell_type": "markdown",
      "metadata": {},
      "source": [
        "27"
      ],
      "id": "562e8d16-a05c-45eb-b7c4-061c36310704"
    },
    {
      "cell_type": "raw",
      "metadata": {
        "raw_mimetype": "text/html"
      },
      "source": [
        "</td>"
      ],
      "id": "969764b0-e294-45b7-a9f6-2d2959583b97"
    },
    {
      "cell_type": "raw",
      "metadata": {
        "raw_mimetype": "text/html"
      },
      "source": [
        "</tr>"
      ],
      "id": "3f982a28-f47c-40ad-9940-a59214b3a03f"
    },
    {
      "cell_type": "raw",
      "metadata": {
        "raw_mimetype": "text/html"
      },
      "source": [
        "<tr>"
      ],
      "id": "51f08df5-c9ad-40a6-a9ec-88dc8124c388"
    },
    {
      "cell_type": "raw",
      "metadata": {
        "raw_mimetype": "text/html"
      },
      "source": [
        "<td>"
      ],
      "id": "5838a246-ad11-434e-bbdd-8d4d9381f71d"
    },
    {
      "cell_type": "markdown",
      "metadata": {},
      "source": [
        "<a href=\"/wiki/Olympique_Gymnaste_Club_Nice\" title=\"Olympique Gymnaste Club Nice\">OGC Nice</a>"
      ],
      "id": "d099f5d6-499c-4141-ab2d-993becc5d6ac"
    },
    {
      "cell_type": "raw",
      "metadata": {
        "raw_mimetype": "text/html"
      },
      "source": [
        "</td>"
      ],
      "id": "b255d8a1-3c46-4829-8648-d8b0c182d4df"
    },
    {
      "cell_type": "raw",
      "metadata": {
        "raw_mimetype": "text/html"
      },
      "source": [
        "<td>"
      ],
      "id": "8b1b5ec9-add8-406b-ab7f-3ba7fa86149e"
    },
    {
      "cell_type": "markdown",
      "metadata": {},
      "source": [
        "2002"
      ],
      "id": "7fa693a4-b416-4ebe-ac8f-b444a85955b0"
    },
    {
      "cell_type": "raw",
      "metadata": {
        "raw_mimetype": "text/html"
      },
      "source": [
        "</td>"
      ],
      "id": "18661e88-1b3a-4f7d-919c-c2d43a70fd1d"
    },
    {
      "cell_type": "raw",
      "metadata": {
        "raw_mimetype": "text/html"
      },
      "source": [
        "<td>"
      ],
      "id": "e28d3a6a-8b0e-44ba-bc7d-668a8ff71aba"
    },
    {
      "cell_type": "markdown",
      "metadata": {},
      "source": [
        "50"
      ],
      "id": "6555b875-304a-4dc1-9541-68f3fe8ffe48"
    },
    {
      "cell_type": "raw",
      "metadata": {
        "raw_mimetype": "text/html"
      },
      "source": [
        "</td>"
      ],
      "id": "437b6ffb-526a-4163-90d6-a641a6185746"
    },
    {
      "cell_type": "raw",
      "metadata": {
        "raw_mimetype": "text/html"
      },
      "source": [
        "<td>"
      ],
      "id": "b5077829-6ea6-43da-bf94-a4375278e1d6"
    },
    {
      "cell_type": "markdown",
      "metadata": {},
      "source": [
        "<span data-sort-value=\"107 !\"></span><abbr class=\"abbr\" title=\"Septième\">7<sup>e</sup></abbr>"
      ],
      "id": "6276c1b8-6d01-4dc6-a66f-25b30785bdf5"
    },
    {
      "cell_type": "raw",
      "metadata": {
        "raw_mimetype": "text/html"
      },
      "source": [
        "</td>"
      ],
      "id": "a5d11385-dd3d-43f8-b098-648461b916d3"
    },
    {
      "cell_type": "raw",
      "metadata": {
        "raw_mimetype": "text/html"
      },
      "source": [
        "<td align=\"left\">"
      ],
      "id": "ff036357-3397-4a6c-84af-c7392802ee86"
    },
    {
      "cell_type": "markdown",
      "metadata": {},
      "source": [
        "<span class=\"flagicon\"><a class=\"image\" href=\"/wiki/Fichier:Flag_of_France.svg\" title=\"Drapeau : France\"><img alt=\"\" class=\"noviewer thumbborder\" data-file-height=\"600\" data-file-width=\"900\" decoding=\"async\" height=\"13\" src=\"//upload.wikimedia.org/wikipedia/commons/thumb/c/c3/Flag_of_France.svg/20px-Flag_of_France.svg.png\" srcset=\"//upload.wikimedia.org/wikipedia/commons/thumb/c/c3/Flag_of_France.svg/30px-Flag_of_France.svg.png 1.5x, //upload.wikimedia.org/wikipedia/commons/thumb/c/c3/Flag_of_France.svg/40px-Flag_of_France.svg.png 2x\" width=\"20\"/></a></span> <a href=\"/wiki/Patrick_Vieira\" title=\"Patrick Vieira\">Patrick Vieira</a>"
      ],
      "id": "36c36bce-d32e-4a37-8fcb-2bb1d2efb70e"
    },
    {
      "cell_type": "raw",
      "metadata": {
        "raw_mimetype": "text/html"
      },
      "source": [
        "</td>"
      ],
      "id": "1a5c36b8-7343-468a-9b96-868cec758c9f"
    },
    {
      "cell_type": "raw",
      "metadata": {
        "raw_mimetype": "text/html"
      },
      "source": [
        "<td>"
      ],
      "id": "7fd312f0-c1db-4c6e-b77f-33c3e0f7c6bd"
    },
    {
      "cell_type": "markdown",
      "metadata": {},
      "source": [
        "2018"
      ],
      "id": "b7d6de7e-7e8e-45cb-9033-77e0a4a339c8"
    },
    {
      "cell_type": "raw",
      "metadata": {
        "raw_mimetype": "text/html"
      },
      "source": [
        "</td>"
      ],
      "id": "b94cd112-9de2-4d83-b145-50f8ada4c32c"
    },
    {
      "cell_type": "raw",
      "metadata": {
        "raw_mimetype": "text/html"
      },
      "source": [
        "<td>"
      ],
      "id": "1bd7dae7-4c98-41d3-b7ba-caa35f118835"
    },
    {
      "cell_type": "markdown",
      "metadata": {},
      "source": [
        "<a href=\"/wiki/Allianz_Riviera\" title=\"Allianz Riviera\">Allianz Riviera</a>"
      ],
      "id": "ac8fa193-7258-40d7-958c-a21fb889b0ca"
    },
    {
      "cell_type": "raw",
      "metadata": {
        "raw_mimetype": "text/html"
      },
      "source": [
        "</td>"
      ],
      "id": "85b99ec1-186b-4ffe-8d36-355a183b29f2"
    },
    {
      "cell_type": "raw",
      "metadata": {
        "raw_mimetype": "text/html"
      },
      "source": [
        "<td>"
      ],
      "id": "426f437d-4206-41b5-b089-a4ad88764068"
    },
    {
      "cell_type": "markdown",
      "metadata": {},
      "source": [
        "35 596"
      ],
      "id": "653eb7ba-8f67-45bd-b193-bf3579833665"
    },
    {
      "cell_type": "raw",
      "metadata": {
        "raw_mimetype": "text/html"
      },
      "source": [
        "</td>"
      ],
      "id": "929be4b9-eaf7-47c4-961b-716b99f4832b"
    },
    {
      "cell_type": "raw",
      "metadata": {
        "raw_mimetype": "text/html"
      },
      "source": [
        "<td>"
      ],
      "id": "72f81ad7-2a06-449f-96bc-7150772523f0"
    },
    {
      "cell_type": "markdown",
      "metadata": {},
      "source": [
        "60"
      ],
      "id": "db4365aa-fc83-4eef-a9f4-f9fed7aeaf3b"
    },
    {
      "cell_type": "raw",
      "metadata": {
        "raw_mimetype": "text/html"
      },
      "source": [
        "</td>"
      ],
      "id": "0193fa3c-d95a-493b-bf38-d2925141c755"
    },
    {
      "cell_type": "raw",
      "metadata": {
        "raw_mimetype": "text/html"
      },
      "source": [
        "</tr>"
      ],
      "id": "fa58a8be-97f6-476f-ab6a-a3f550d2ee94"
    },
    {
      "cell_type": "raw",
      "metadata": {
        "raw_mimetype": "text/html"
      },
      "source": [
        "<tr>"
      ],
      "id": "2a56665d-1cfa-4633-8a84-5511abbff4ce"
    },
    {
      "cell_type": "raw",
      "metadata": {
        "raw_mimetype": "text/html"
      },
      "source": [
        "<td>"
      ],
      "id": "015715eb-8f0e-4de8-ad66-81e2328a3c31"
    },
    {
      "cell_type": "markdown",
      "metadata": {},
      "source": [
        "<a href=\"/wiki/Stade_de_Reims\" title=\"Stade de Reims\">Stade de Reims</a>"
      ],
      "id": "353717e4-7823-469d-afc2-bf1011e9622d"
    },
    {
      "cell_type": "raw",
      "metadata": {
        "raw_mimetype": "text/html"
      },
      "source": [
        "</td>"
      ],
      "id": "10febb10-750a-456d-aa78-7f4adf6ef70f"
    },
    {
      "cell_type": "raw",
      "metadata": {
        "raw_mimetype": "text/html"
      },
      "source": [
        "<td>"
      ],
      "id": "b5053e25-59a7-4095-92ca-323b616116b2"
    },
    {
      "cell_type": "markdown",
      "metadata": {},
      "source": [
        "2018"
      ],
      "id": "eda609fc-e2d0-4b8a-8793-104366220262"
    },
    {
      "cell_type": "raw",
      "metadata": {
        "raw_mimetype": "text/html"
      },
      "source": [
        "</td>"
      ],
      "id": "410d69ab-1150-4ebf-b615-1a4c4f04516b"
    },
    {
      "cell_type": "raw",
      "metadata": {
        "raw_mimetype": "text/html"
      },
      "source": [
        "<td>"
      ],
      "id": "a7d5e1da-fcd3-4a0f-b11f-5681d473da0b"
    },
    {
      "cell_type": "markdown",
      "metadata": {},
      "source": [
        "45"
      ],
      "id": "c87dd019-9199-4225-8e26-fccd18022cb4"
    },
    {
      "cell_type": "raw",
      "metadata": {
        "raw_mimetype": "text/html"
      },
      "source": [
        "</td>"
      ],
      "id": "3fe03cef-88d3-494f-8920-007e97d22461"
    },
    {
      "cell_type": "raw",
      "metadata": {
        "raw_mimetype": "text/html"
      },
      "source": [
        "<td>"
      ],
      "id": "a815e726-c2c2-4bb3-89ba-f1b307a5dead"
    },
    {
      "cell_type": "markdown",
      "metadata": {},
      "source": [
        "<span data-sort-value=\"108 !\"></span><abbr class=\"abbr\" title=\"Huitième\">8<sup>e</sup></abbr>"
      ],
      "id": "938571fd-a45a-4d29-b376-b94115495d9f"
    },
    {
      "cell_type": "raw",
      "metadata": {
        "raw_mimetype": "text/html"
      },
      "source": [
        "</td>"
      ],
      "id": "c1c5aadb-86bc-4668-af1a-fe4a106b6c8b"
    },
    {
      "cell_type": "raw",
      "metadata": {
        "raw_mimetype": "text/html"
      },
      "source": [
        "<td align=\"left\">"
      ],
      "id": "e1daf592-27c2-4d6e-a73e-364b78a44b7e"
    },
    {
      "cell_type": "markdown",
      "metadata": {},
      "source": [
        "<span class=\"flagicon\"><a class=\"image\" href=\"/wiki/Fichier:Flag_of_France.svg\" title=\"Drapeau : France\"><img alt=\"\" class=\"noviewer thumbborder\" data-file-height=\"600\" data-file-width=\"900\" decoding=\"async\" height=\"13\" src=\"//upload.wikimedia.org/wikipedia/commons/thumb/c/c3/Flag_of_France.svg/20px-Flag_of_France.svg.png\" srcset=\"//upload.wikimedia.org/wikipedia/commons/thumb/c/c3/Flag_of_France.svg/30px-Flag_of_France.svg.png 1.5x, //upload.wikimedia.org/wikipedia/commons/thumb/c/c3/Flag_of_France.svg/40px-Flag_of_France.svg.png 2x\" width=\"20\"/></a></span> <a href=\"/wiki/David_Guion\" title=\"David Guion\">David Guion</a>"
      ],
      "id": "cf9c2cd9-ceb9-4cb8-ab14-e661f8e9663b"
    },
    {
      "cell_type": "raw",
      "metadata": {
        "raw_mimetype": "text/html"
      },
      "source": [
        "</td>"
      ],
      "id": "ec0064aa-e304-4e25-a2e8-4d39476b7533"
    },
    {
      "cell_type": "raw",
      "metadata": {
        "raw_mimetype": "text/html"
      },
      "source": [
        "<td>"
      ],
      "id": "2ce34461-8160-4e1c-a14c-56499f72bdb3"
    },
    {
      "cell_type": "markdown",
      "metadata": {},
      "source": [
        "2017"
      ],
      "id": "de20ce4b-1d30-4c3c-90d4-8af9d5897873"
    },
    {
      "cell_type": "raw",
      "metadata": {
        "raw_mimetype": "text/html"
      },
      "source": [
        "</td>"
      ],
      "id": "ddeb6d17-1a0a-4757-a238-5c8804df7c0b"
    },
    {
      "cell_type": "raw",
      "metadata": {
        "raw_mimetype": "text/html"
      },
      "source": [
        "<td>"
      ],
      "id": "99a5c91a-504c-4dd6-9e70-4c0d0a7c0f3e"
    },
    {
      "cell_type": "markdown",
      "metadata": {},
      "source": [
        "<a href=\"/wiki/Stade_Auguste-Delaune\" title=\"Stade Auguste-Delaune\">Stade Auguste-Delaune</a>"
      ],
      "id": "eedbefd7-891b-422f-975a-451f11c31ea9"
    },
    {
      "cell_type": "raw",
      "metadata": {
        "raw_mimetype": "text/html"
      },
      "source": [
        "</td>"
      ],
      "id": "8ebe98b9-0a49-423f-a7d7-6f29d0cb5d96"
    },
    {
      "cell_type": "raw",
      "metadata": {
        "raw_mimetype": "text/html"
      },
      "source": [
        "<td>"
      ],
      "id": "57ae3f86-d0b6-4077-8830-928c69280e5a"
    },
    {
      "cell_type": "markdown",
      "metadata": {},
      "source": [
        "20 546"
      ],
      "id": "e76cb906-2d4c-47c6-9d69-668b4293a12c"
    },
    {
      "cell_type": "raw",
      "metadata": {
        "raw_mimetype": "text/html"
      },
      "source": [
        "</td>"
      ],
      "id": "0647b03c-ff89-4791-8962-07b16983d16f"
    },
    {
      "cell_type": "raw",
      "metadata": {
        "raw_mimetype": "text/html"
      },
      "source": [
        "<td>"
      ],
      "id": "216390cf-1f5e-46b9-829b-56b192e16eb9"
    },
    {
      "cell_type": "markdown",
      "metadata": {},
      "source": [
        "35"
      ],
      "id": "ab9fb999-028f-4b40-bd12-ae46f69cc0dc"
    },
    {
      "cell_type": "raw",
      "metadata": {
        "raw_mimetype": "text/html"
      },
      "source": [
        "</td>"
      ],
      "id": "f7fec866-d062-4e66-bfe4-d0d1327fd638"
    },
    {
      "cell_type": "raw",
      "metadata": {
        "raw_mimetype": "text/html"
      },
      "source": [
        "</tr>"
      ],
      "id": "f98ecdf7-b72e-42f6-90ca-2ce90bcfa9a5"
    },
    {
      "cell_type": "raw",
      "metadata": {
        "raw_mimetype": "text/html"
      },
      "source": [
        "<tr>"
      ],
      "id": "a684b6f1-6272-4572-9b2c-2ea92f0889c8"
    },
    {
      "cell_type": "raw",
      "metadata": {
        "raw_mimetype": "text/html"
      },
      "source": [
        "<td>"
      ],
      "id": "620fc2db-b4cf-429d-8153-91e7cf653f0f"
    },
    {
      "cell_type": "markdown",
      "metadata": {},
      "source": [
        "<a href=\"/wiki/N%C3%AEmes_Olympique\" title=\"Nîmes Olympique\">Nîmes Olympique</a>"
      ],
      "id": "03b7bb7f-804c-42ec-892d-f45a7826e909"
    },
    {
      "cell_type": "raw",
      "metadata": {
        "raw_mimetype": "text/html"
      },
      "source": [
        "</td>"
      ],
      "id": "7460e0ff-116a-4ca9-9848-4328d06e97a1"
    },
    {
      "cell_type": "raw",
      "metadata": {
        "raw_mimetype": "text/html"
      },
      "source": [
        "<td>"
      ],
      "id": "82c01581-3895-448b-af43-ac445f360396"
    },
    {
      "cell_type": "markdown",
      "metadata": {},
      "source": [
        "2018"
      ],
      "id": "b80c4699-5e4e-4cd0-817f-1a53d240f14c"
    },
    {
      "cell_type": "raw",
      "metadata": {
        "raw_mimetype": "text/html"
      },
      "source": [
        "</td>"
      ],
      "id": "43f923a8-b85f-452a-96ab-4096d6b96155"
    },
    {
      "cell_type": "raw",
      "metadata": {
        "raw_mimetype": "text/html"
      },
      "source": [
        "<td>"
      ],
      "id": "c237908d-8b87-460d-8405-f701367338e3"
    },
    {
      "cell_type": "markdown",
      "metadata": {},
      "source": [
        "27"
      ],
      "id": "f6af9faa-9a12-4fec-8ba1-ee3ad43d0f76"
    },
    {
      "cell_type": "raw",
      "metadata": {
        "raw_mimetype": "text/html"
      },
      "source": [
        "</td>"
      ],
      "id": "efc59219-dddc-4e17-a1ce-d9353f077c72"
    },
    {
      "cell_type": "raw",
      "metadata": {
        "raw_mimetype": "text/html"
      },
      "source": [
        "<td>"
      ],
      "id": "ffa2f309-69d9-4596-be17-fe8d738541ae"
    },
    {
      "cell_type": "markdown",
      "metadata": {},
      "source": [
        "<span data-sort-value=\"109 !\"></span><abbr class=\"abbr\" title=\"Neuvième\">9<sup>e</sup></abbr>"
      ],
      "id": "e9650a5d-79e0-4207-8689-0d663aa2685e"
    },
    {
      "cell_type": "raw",
      "metadata": {
        "raw_mimetype": "text/html"
      },
      "source": [
        "</td>"
      ],
      "id": "53114bc1-7148-4001-9f24-8df9244d9aca"
    },
    {
      "cell_type": "raw",
      "metadata": {
        "raw_mimetype": "text/html"
      },
      "source": [
        "<td align=\"left\">"
      ],
      "id": "f5483f5f-695c-453d-b454-ce5b4a45e07e"
    },
    {
      "cell_type": "markdown",
      "metadata": {},
      "source": [
        "<span class=\"flagicon\"><a class=\"image\" href=\"/wiki/Fichier:Flag_of_France.svg\" title=\"Drapeau : France\"><img alt=\"\" class=\"noviewer thumbborder\" data-file-height=\"600\" data-file-width=\"900\" decoding=\"async\" height=\"13\" src=\"//upload.wikimedia.org/wikipedia/commons/thumb/c/c3/Flag_of_France.svg/20px-Flag_of_France.svg.png\" srcset=\"//upload.wikimedia.org/wikipedia/commons/thumb/c/c3/Flag_of_France.svg/30px-Flag_of_France.svg.png 1.5x, //upload.wikimedia.org/wikipedia/commons/thumb/c/c3/Flag_of_France.svg/40px-Flag_of_France.svg.png 2x\" width=\"20\"/></a></span> <a href=\"/wiki/Bernard_Blaquart\" title=\"Bernard Blaquart\">Bernard Blaquart</a>"
      ],
      "id": "ba5d0106-84df-4306-8334-b0aff4569104"
    },
    {
      "cell_type": "raw",
      "metadata": {
        "raw_mimetype": "text/html"
      },
      "source": [
        "</td>"
      ],
      "id": "6a62d54e-65f7-4fd0-b211-a9074df1202f"
    },
    {
      "cell_type": "raw",
      "metadata": {
        "raw_mimetype": "text/html"
      },
      "source": [
        "<td>"
      ],
      "id": "e93e041a-0232-489e-b7a1-25dc5859b2a6"
    },
    {
      "cell_type": "markdown",
      "metadata": {},
      "source": [
        "2015"
      ],
      "id": "dc9fa482-e6a9-4be9-a585-e5666feb82d4"
    },
    {
      "cell_type": "raw",
      "metadata": {
        "raw_mimetype": "text/html"
      },
      "source": [
        "</td>"
      ],
      "id": "ee4696f6-849b-43ae-b2ed-baf638bf1eb5"
    },
    {
      "cell_type": "raw",
      "metadata": {
        "raw_mimetype": "text/html"
      },
      "source": [
        "<td>"
      ],
      "id": "5aaf207c-8a9b-4d64-a3eb-3e1458dc0ef0"
    },
    {
      "cell_type": "markdown",
      "metadata": {},
      "source": [
        "<a href=\"/wiki/Stade_des_Costi%C3%A8res\" title=\"Stade des Costières\">Stade des Costières</a>"
      ],
      "id": "eb5673b0-cd41-4701-85d3-9f757ae3883b"
    },
    {
      "cell_type": "raw",
      "metadata": {
        "raw_mimetype": "text/html"
      },
      "source": [
        "</td>"
      ],
      "id": "764545dc-6972-4295-b631-cb032f29be03"
    },
    {
      "cell_type": "raw",
      "metadata": {
        "raw_mimetype": "text/html"
      },
      "source": [
        "<td>"
      ],
      "id": "fe6004d7-b6bb-4087-88b0-788f4cfbc25a"
    },
    {
      "cell_type": "markdown",
      "metadata": {},
      "source": [
        "15 788"
      ],
      "id": "389ef8a3-7d5e-4324-86e3-9afe8ac53d73"
    },
    {
      "cell_type": "raw",
      "metadata": {
        "raw_mimetype": "text/html"
      },
      "source": [
        "</td>"
      ],
      "id": "a2045d43-bc23-4dba-9f90-23aeb149a43a"
    },
    {
      "cell_type": "raw",
      "metadata": {
        "raw_mimetype": "text/html"
      },
      "source": [
        "<td>"
      ],
      "id": "87de5566-8aae-40a2-a624-5003a9559f8a"
    },
    {
      "cell_type": "markdown",
      "metadata": {},
      "source": [
        "35"
      ],
      "id": "e3af0f1e-bd9c-4bb6-a951-4ada531805e4"
    },
    {
      "cell_type": "raw",
      "metadata": {
        "raw_mimetype": "text/html"
      },
      "source": [
        "</td>"
      ],
      "id": "187b89c4-2480-4df6-ab83-606dafe61dec"
    },
    {
      "cell_type": "raw",
      "metadata": {
        "raw_mimetype": "text/html"
      },
      "source": [
        "</tr>"
      ],
      "id": "16db3824-9086-485c-9a6d-3fe6a8ab29dc"
    },
    {
      "cell_type": "raw",
      "metadata": {
        "raw_mimetype": "text/html"
      },
      "source": [
        "<tr bgcolor=\"#FFE052\">"
      ],
      "id": "1b6e3132-435e-4976-acef-5b54a1fe311e"
    },
    {
      "cell_type": "raw",
      "metadata": {
        "raw_mimetype": "text/html"
      },
      "source": [
        "<td>"
      ],
      "id": "26ab17ca-3e0e-4970-9a49-41abc7310385"
    },
    {
      "cell_type": "markdown",
      "metadata": {},
      "source": [
        "<a class=\"mw-redirect\" href=\"/wiki/Stade_rennais_football_club\" title=\"Stade rennais football club\">Stade rennais FC</a>"
      ],
      "id": "84d795bb-219c-42ea-9be4-6f6fdbe033d6"
    },
    {
      "cell_type": "raw",
      "metadata": {
        "raw_mimetype": "text/html"
      },
      "source": [
        "</td>"
      ],
      "id": "1008019d-0c80-477d-98b7-8debeac089b4"
    },
    {
      "cell_type": "raw",
      "metadata": {
        "raw_mimetype": "text/html"
      },
      "source": [
        "<td>"
      ],
      "id": "338b79c5-bc2d-41af-aa18-a23b5564ab94"
    },
    {
      "cell_type": "markdown",
      "metadata": {},
      "source": [
        "1994"
      ],
      "id": "160d4245-fdee-4ecd-bdbb-87127959a1b5"
    },
    {
      "cell_type": "raw",
      "metadata": {
        "raw_mimetype": "text/html"
      },
      "source": [
        "</td>"
      ],
      "id": "eba90b59-a661-4e8e-bb40-1456c5b1c283"
    },
    {
      "cell_type": "raw",
      "metadata": {
        "raw_mimetype": "text/html"
      },
      "source": [
        "<td>"
      ],
      "id": "59967ade-d50d-43bb-b77d-62d1f2cce2a9"
    },
    {
      "cell_type": "markdown",
      "metadata": {},
      "source": [
        "65"
      ],
      "id": "a3b0f04f-1805-489c-8cf9-57363e562eff"
    },
    {
      "cell_type": "raw",
      "metadata": {
        "raw_mimetype": "text/html"
      },
      "source": [
        "</td>"
      ],
      "id": "f8a7dae6-a8b0-411c-a15e-53a2212bd391"
    },
    {
      "cell_type": "raw",
      "metadata": {
        "raw_mimetype": "text/html"
      },
      "source": [
        "<td>"
      ],
      "id": "84507fb2-55a1-4f8f-b703-17a248f09b49"
    },
    {
      "cell_type": "markdown",
      "metadata": {},
      "source": [
        "<span data-sort-value=\"110 !\"></span><abbr class=\"abbr\" title=\"Dixième\">10<sup>e</sup></abbr>"
      ],
      "id": "24c31b84-dfe1-48e4-abec-3b30476607e0"
    },
    {
      "cell_type": "raw",
      "metadata": {
        "raw_mimetype": "text/html"
      },
      "source": [
        "</td>"
      ],
      "id": "52c5e389-9bbd-4fc5-bd7f-80c262dbce4a"
    },
    {
      "cell_type": "raw",
      "metadata": {
        "raw_mimetype": "text/html"
      },
      "source": [
        "<td align=\"left\">"
      ],
      "id": "575bdca3-c7f0-4843-bc3d-7b4c748bf77f"
    },
    {
      "cell_type": "markdown",
      "metadata": {},
      "source": [
        "<span class=\"flagicon\"><a class=\"image\" href=\"/wiki/Fichier:Flag_of_France.svg\" title=\"Drapeau : France\"><img alt=\"\" class=\"noviewer thumbborder\" data-file-height=\"600\" data-file-width=\"900\" decoding=\"async\" height=\"13\" src=\"//upload.wikimedia.org/wikipedia/commons/thumb/c/c3/Flag_of_France.svg/20px-Flag_of_France.svg.png\" srcset=\"//upload.wikimedia.org/wikipedia/commons/thumb/c/c3/Flag_of_France.svg/30px-Flag_of_France.svg.png 1.5x, //upload.wikimedia.org/wikipedia/commons/thumb/c/c3/Flag_of_France.svg/40px-Flag_of_France.svg.png 2x\" width=\"20\"/></a></span> <a href=\"/wiki/Julien_St%C3%A9phan\" title=\"Julien Stéphan\">Julien Stéphan</a>"
      ],
      "id": "2733762d-7c36-4071-bc4c-f0c4ada5e17a"
    },
    {
      "cell_type": "raw",
      "metadata": {
        "raw_mimetype": "text/html"
      },
      "source": [
        "</td>"
      ],
      "id": "94ebc6e8-0573-42b4-bc0e-a5a50cb360d4"
    },
    {
      "cell_type": "raw",
      "metadata": {
        "raw_mimetype": "text/html"
      },
      "source": [
        "<td>"
      ],
      "id": "0d1bbe7c-aec2-4750-b3ba-ad60851ef2cd"
    },
    {
      "cell_type": "markdown",
      "metadata": {},
      "source": [
        "2018"
      ],
      "id": "1628cca2-8704-4e90-a971-af0be4085e1e"
    },
    {
      "cell_type": "raw",
      "metadata": {
        "raw_mimetype": "text/html"
      },
      "source": [
        "</td>"
      ],
      "id": "f275cae8-8cdd-4114-bb2f-af7910e501ae"
    },
    {
      "cell_type": "raw",
      "metadata": {
        "raw_mimetype": "text/html"
      },
      "source": [
        "<td>"
      ],
      "id": "b9f17963-e35b-44d4-98bb-60c4f9aabc52"
    },
    {
      "cell_type": "markdown",
      "metadata": {},
      "source": [
        "<a href=\"/wiki/Roazhon_Park\" title=\"Roazhon Park\">Roazhon Park</a>"
      ],
      "id": "5c3ef0f0-bdf2-4117-9845-8b0ca977e8c1"
    },
    {
      "cell_type": "raw",
      "metadata": {
        "raw_mimetype": "text/html"
      },
      "source": [
        "</td>"
      ],
      "id": "14f68dcc-fb86-48d6-9635-a2972a8313d8"
    },
    {
      "cell_type": "raw",
      "metadata": {
        "raw_mimetype": "text/html"
      },
      "source": [
        "<td>"
      ],
      "id": "631af494-1ea3-4fe5-8b00-e16152092b4f"
    },
    {
      "cell_type": "markdown",
      "metadata": {},
      "source": [
        "29 194"
      ],
      "id": "2803925a-42de-4e0f-85e7-465a8ce587a3"
    },
    {
      "cell_type": "raw",
      "metadata": {
        "raw_mimetype": "text/html"
      },
      "source": [
        "</td>"
      ],
      "id": "35af3071-0380-42b8-97ac-06f5ad347d43"
    },
    {
      "cell_type": "raw",
      "metadata": {
        "raw_mimetype": "text/html"
      },
      "source": [
        "<td>"
      ],
      "id": "801f61ca-f5eb-4339-a1e8-6d12549579bf"
    },
    {
      "cell_type": "markdown",
      "metadata": {},
      "source": [
        "62"
      ],
      "id": "5adbff05-4e3c-4b25-b167-97da60a16ed9"
    },
    {
      "cell_type": "raw",
      "metadata": {
        "raw_mimetype": "text/html"
      },
      "source": [
        "</td>"
      ],
      "id": "b6170169-2339-4f35-9ea7-6f2901463427"
    },
    {
      "cell_type": "raw",
      "metadata": {
        "raw_mimetype": "text/html"
      },
      "source": [
        "</tr>"
      ],
      "id": "156946fb-0355-4dbb-bf20-52186f73175a"
    },
    {
      "cell_type": "raw",
      "metadata": {
        "raw_mimetype": "text/html"
      },
      "source": [
        "<tr bgcolor=\"#FFF052\">"
      ],
      "id": "67ff4590-9ba2-43fd-9249-80b843eac4b5"
    },
    {
      "cell_type": "raw",
      "metadata": {
        "raw_mimetype": "text/html"
      },
      "source": [
        "<td>"
      ],
      "id": "56b0ec7d-63d8-44bc-b649-5922751a8301"
    },
    {
      "cell_type": "markdown",
      "metadata": {},
      "source": [
        "<a href=\"/wiki/Racing_Club_de_Strasbourg_Alsace\" title=\"Racing Club de Strasbourg Alsace\">RC Strasbourg Alsace</a>"
      ],
      "id": "107e22b1-b138-43cd-a6cf-3bb84e025634"
    },
    {
      "cell_type": "raw",
      "metadata": {
        "raw_mimetype": "text/html"
      },
      "source": [
        "</td>"
      ],
      "id": "4999c9f0-71e0-4489-a01b-9bdeb9b56748"
    },
    {
      "cell_type": "raw",
      "metadata": {
        "raw_mimetype": "text/html"
      },
      "source": [
        "<td>"
      ],
      "id": "923b3e13-a92b-48a4-81d8-66ee1643ec23"
    },
    {
      "cell_type": "markdown",
      "metadata": {},
      "source": [
        "2017"
      ],
      "id": "0fa0050c-be78-4d3e-a057-732df78f0e5f"
    },
    {
      "cell_type": "raw",
      "metadata": {
        "raw_mimetype": "text/html"
      },
      "source": [
        "</td>"
      ],
      "id": "bbf6e577-3ffc-4961-91e4-20a9693533de"
    },
    {
      "cell_type": "raw",
      "metadata": {
        "raw_mimetype": "text/html"
      },
      "source": [
        "<td>"
      ],
      "id": "b1861fc2-1e98-4773-936b-57154e0759dc"
    },
    {
      "cell_type": "markdown",
      "metadata": {},
      "source": [
        "43"
      ],
      "id": "4e9d5afd-597d-4357-b4c6-d4302addeef7"
    },
    {
      "cell_type": "raw",
      "metadata": {
        "raw_mimetype": "text/html"
      },
      "source": [
        "</td>"
      ],
      "id": "74b1a51a-7eef-46d4-92f4-137144dc9ba9"
    },
    {
      "cell_type": "raw",
      "metadata": {
        "raw_mimetype": "text/html"
      },
      "source": [
        "<td>"
      ],
      "id": "714ca6b6-2c9e-4a5c-94dc-10b91b8f0da9"
    },
    {
      "cell_type": "markdown",
      "metadata": {},
      "source": [
        "<span data-sort-value=\"111 !\"></span><abbr class=\"abbr\" title=\"Onzième\">11<sup>e</sup></abbr>"
      ],
      "id": "1077688a-a225-44b7-8c6a-9bce614ac715"
    },
    {
      "cell_type": "raw",
      "metadata": {
        "raw_mimetype": "text/html"
      },
      "source": [
        "</td>"
      ],
      "id": "94d1a0f4-d91c-48fb-8f9f-9d005f0326e8"
    },
    {
      "cell_type": "raw",
      "metadata": {
        "raw_mimetype": "text/html"
      },
      "source": [
        "<td align=\"left\">"
      ],
      "id": "2c0a3eb2-1a97-404d-9288-27e4604afd47"
    },
    {
      "cell_type": "markdown",
      "metadata": {},
      "source": [
        "<span class=\"flagicon\"><a class=\"image\" href=\"/wiki/Fichier:Flag_of_France.svg\" title=\"Drapeau : France\"><img alt=\"\" class=\"noviewer thumbborder\" data-file-height=\"600\" data-file-width=\"900\" decoding=\"async\" height=\"13\" src=\"//upload.wikimedia.org/wikipedia/commons/thumb/c/c3/Flag_of_France.svg/20px-Flag_of_France.svg.png\" srcset=\"//upload.wikimedia.org/wikipedia/commons/thumb/c/c3/Flag_of_France.svg/30px-Flag_of_France.svg.png 1.5x, //upload.wikimedia.org/wikipedia/commons/thumb/c/c3/Flag_of_France.svg/40px-Flag_of_France.svg.png 2x\" width=\"20\"/></a></span> <a href=\"/wiki/Thierry_Laurey\" title=\"Thierry Laurey\">Thierry Laurey</a>"
      ],
      "id": "c4fb2c89-3b68-44f8-b1fd-9fc397d82e14"
    },
    {
      "cell_type": "raw",
      "metadata": {
        "raw_mimetype": "text/html"
      },
      "source": [
        "</td>"
      ],
      "id": "4e21ba9d-e4e5-40a7-934a-c40643ba081c"
    },
    {
      "cell_type": "raw",
      "metadata": {
        "raw_mimetype": "text/html"
      },
      "source": [
        "<td>"
      ],
      "id": "9c095ca1-62fc-40a0-91fe-f69508230fad"
    },
    {
      "cell_type": "markdown",
      "metadata": {},
      "source": [
        "2016"
      ],
      "id": "940bf58a-3c6c-4131-b617-11c8698b72fe"
    },
    {
      "cell_type": "raw",
      "metadata": {
        "raw_mimetype": "text/html"
      },
      "source": [
        "</td>"
      ],
      "id": "4b3f7742-85b9-4755-926f-7c9f6332bb41"
    },
    {
      "cell_type": "raw",
      "metadata": {
        "raw_mimetype": "text/html"
      },
      "source": [
        "<td>"
      ],
      "id": "c1664854-93b4-43c6-b257-b09653cf3a27"
    },
    {
      "cell_type": "markdown",
      "metadata": {},
      "source": [
        "<a href=\"/wiki/Stade_de_la_Meinau\" title=\"Stade de la Meinau\">Stade de la Meinau</a>"
      ],
      "id": "e4d91dc9-11e9-48f1-8b4c-2a9a37b5029f"
    },
    {
      "cell_type": "raw",
      "metadata": {
        "raw_mimetype": "text/html"
      },
      "source": [
        "</td>"
      ],
      "id": "1fe546c6-5f1c-4fd9-9502-74024a5cb4ed"
    },
    {
      "cell_type": "raw",
      "metadata": {
        "raw_mimetype": "text/html"
      },
      "source": [
        "<td>"
      ],
      "id": "800b511f-6e8c-4590-b1ce-575e05499112"
    },
    {
      "cell_type": "markdown",
      "metadata": {},
      "source": [
        "26 109"
      ],
      "id": "00bffbe1-e8d2-4e52-8512-ac5d4ff1aa20"
    },
    {
      "cell_type": "raw",
      "metadata": {
        "raw_mimetype": "text/html"
      },
      "source": [
        "</td>"
      ],
      "id": "6ec6484c-5309-417e-980c-9c6a0ab39333"
    },
    {
      "cell_type": "raw",
      "metadata": {
        "raw_mimetype": "text/html"
      },
      "source": [
        "<td>"
      ],
      "id": "8852033a-41ac-4ba8-9c03-075b8e987a91"
    },
    {
      "cell_type": "markdown",
      "metadata": {},
      "source": [
        "58"
      ],
      "id": "0a5c60c9-e3f9-4706-bec1-733aefe845b5"
    },
    {
      "cell_type": "raw",
      "metadata": {
        "raw_mimetype": "text/html"
      },
      "source": [
        "</td>"
      ],
      "id": "e463b69d-16b5-4f60-ab17-7e2eb99e344d"
    },
    {
      "cell_type": "raw",
      "metadata": {
        "raw_mimetype": "text/html"
      },
      "source": [
        "</tr>"
      ],
      "id": "1b3bd680-8be9-4ddb-ae06-e051781ba8ec"
    },
    {
      "cell_type": "raw",
      "metadata": {
        "raw_mimetype": "text/html"
      },
      "source": [
        "<tr>"
      ],
      "id": "0a8328c5-9840-457f-b69b-d49fc3f19ade"
    },
    {
      "cell_type": "raw",
      "metadata": {
        "raw_mimetype": "text/html"
      },
      "source": [
        "<td>"
      ],
      "id": "f06bd0e1-7a9e-4918-a0f7-beaf3fb6677a"
    },
    {
      "cell_type": "markdown",
      "metadata": {},
      "source": [
        "<a href=\"/wiki/Football_Club_de_Nantes\" title=\"Football Club de Nantes\">FC Nantes</a>"
      ],
      "id": "9d0f9920-89e1-4176-9c4c-a46f1bc05b26"
    },
    {
      "cell_type": "raw",
      "metadata": {
        "raw_mimetype": "text/html"
      },
      "source": [
        "</td>"
      ],
      "id": "468f4ac6-7b05-459e-8e38-7ea99a90c818"
    },
    {
      "cell_type": "raw",
      "metadata": {
        "raw_mimetype": "text/html"
      },
      "source": [
        "<td>"
      ],
      "id": "8d0d1406-4ac7-4d2f-9e9c-e261f81bb203"
    },
    {
      "cell_type": "markdown",
      "metadata": {},
      "source": [
        "2013"
      ],
      "id": "ace96480-6000-4e5a-ade0-6c8ba0c14ef0"
    },
    {
      "cell_type": "raw",
      "metadata": {
        "raw_mimetype": "text/html"
      },
      "source": [
        "</td>"
      ],
      "id": "f025424b-bf0a-41f3-bb7e-599df31ed9f9"
    },
    {
      "cell_type": "raw",
      "metadata": {
        "raw_mimetype": "text/html"
      },
      "source": [
        "<td>"
      ],
      "id": "8cc6d9e2-3ba1-4f26-b16c-4a94af0461ec"
    },
    {
      "cell_type": "markdown",
      "metadata": {},
      "source": [
        "70"
      ],
      "id": "de2624b1-8a0b-4c49-8303-70771f5fa4bf"
    },
    {
      "cell_type": "raw",
      "metadata": {
        "raw_mimetype": "text/html"
      },
      "source": [
        "</td>"
      ],
      "id": "00479ea5-4615-4e5a-b3ac-19b6df79c435"
    },
    {
      "cell_type": "raw",
      "metadata": {
        "raw_mimetype": "text/html"
      },
      "source": [
        "<td>"
      ],
      "id": "4af1fa41-6516-4a95-a861-b823fda3b829"
    },
    {
      "cell_type": "markdown",
      "metadata": {},
      "source": [
        "<span data-sort-value=\"112 !\"></span><abbr class=\"abbr\" title=\"Douzième\">12<sup>e</sup></abbr>"
      ],
      "id": "14365071-bf77-4742-a76e-da5908dced9e"
    },
    {
      "cell_type": "raw",
      "metadata": {
        "raw_mimetype": "text/html"
      },
      "source": [
        "</td>"
      ],
      "id": "dbf7ef61-254e-4c03-83f0-2aa511178c28"
    },
    {
      "cell_type": "raw",
      "metadata": {
        "raw_mimetype": "text/html"
      },
      "source": [
        "<td align=\"left\">"
      ],
      "id": "dae870d5-fc88-4d1f-a40d-846e8001a4fa"
    },
    {
      "cell_type": "markdown",
      "metadata": {},
      "source": [
        "<span class=\"flagicon\"><a class=\"image\" href=\"/wiki/Fichier:Flag_of_France.svg\" title=\"Drapeau : France\"><img alt=\"\" class=\"noviewer thumbborder\" data-file-height=\"600\" data-file-width=\"900\" decoding=\"async\" height=\"13\" src=\"//upload.wikimedia.org/wikipedia/commons/thumb/c/c3/Flag_of_France.svg/20px-Flag_of_France.svg.png\" srcset=\"//upload.wikimedia.org/wikipedia/commons/thumb/c/c3/Flag_of_France.svg/30px-Flag_of_France.svg.png 1.5x, //upload.wikimedia.org/wikipedia/commons/thumb/c/c3/Flag_of_France.svg/40px-Flag_of_France.svg.png 2x\" width=\"20\"/></a></span> <a href=\"/wiki/Christian_Gourcuff\" title=\"Christian Gourcuff\">Christian Gourcuff</a>"
      ],
      "id": "74d3bdec-a413-4f0e-a494-856229013262"
    },
    {
      "cell_type": "raw",
      "metadata": {
        "raw_mimetype": "text/html"
      },
      "source": [
        "</td>"
      ],
      "id": "86129382-f31c-45f4-924d-040d4ff71301"
    },
    {
      "cell_type": "raw",
      "metadata": {
        "raw_mimetype": "text/html"
      },
      "source": [
        "<td>"
      ],
      "id": "a784bd6b-5f8f-4bc5-aeec-ba398ae044e1"
    },
    {
      "cell_type": "markdown",
      "metadata": {},
      "source": [
        "2019"
      ],
      "id": "2743b386-3c32-4af3-8bbc-5f58bea2619e"
    },
    {
      "cell_type": "raw",
      "metadata": {
        "raw_mimetype": "text/html"
      },
      "source": [
        "</td>"
      ],
      "id": "e9eaecbb-b89a-4e2c-9e63-dadc8e283428"
    },
    {
      "cell_type": "raw",
      "metadata": {
        "raw_mimetype": "text/html"
      },
      "source": [
        "<td>"
      ],
      "id": "6f28fe8e-2575-4041-9d8d-a5dc621a16e6"
    },
    {
      "cell_type": "markdown",
      "metadata": {},
      "source": [
        "<a href=\"/wiki/Stade_de_la_Beaujoire\" title=\"Stade de la Beaujoire\">Stade de la Beaujoire - Louis Fonteneau</a>"
      ],
      "id": "387d792a-5965-4054-94f1-6030870c44af"
    },
    {
      "cell_type": "raw",
      "metadata": {
        "raw_mimetype": "text/html"
      },
      "source": [
        "</td>"
      ],
      "id": "f0afec43-f477-47e3-b179-e219cb7d88fb"
    },
    {
      "cell_type": "raw",
      "metadata": {
        "raw_mimetype": "text/html"
      },
      "source": [
        "<td>"
      ],
      "id": "1d3896d0-4c18-4c34-b6a8-6aef4c65296d"
    },
    {
      "cell_type": "markdown",
      "metadata": {},
      "source": [
        "35 322"
      ],
      "id": "ba98d232-9d11-409c-a592-db54b1fd4135"
    },
    {
      "cell_type": "raw",
      "metadata": {
        "raw_mimetype": "text/html"
      },
      "source": [
        "</td>"
      ],
      "id": "be91978d-14e0-44a7-9cc3-22a5f1dfb23b"
    },
    {
      "cell_type": "raw",
      "metadata": {
        "raw_mimetype": "text/html"
      },
      "source": [
        "<td>"
      ],
      "id": "190ebdac-f771-4595-b2b8-7c095a28cc36"
    },
    {
      "cell_type": "markdown",
      "metadata": {},
      "source": [
        "51"
      ],
      "id": "3e0dc1a4-0983-4850-99d3-4f974158f51c"
    },
    {
      "cell_type": "raw",
      "metadata": {
        "raw_mimetype": "text/html"
      },
      "source": [
        "</td>"
      ],
      "id": "db511b46-9dd7-41a7-a507-5ccaa089ec9e"
    },
    {
      "cell_type": "raw",
      "metadata": {
        "raw_mimetype": "text/html"
      },
      "source": [
        "</tr>"
      ],
      "id": "4c0846d8-a6bf-47b4-b0f0-9d46fad276f9"
    },
    {
      "cell_type": "raw",
      "metadata": {
        "raw_mimetype": "text/html"
      },
      "source": [
        "<tr>"
      ],
      "id": "872401e9-83ec-4eeb-a68c-e47f957232ad"
    },
    {
      "cell_type": "raw",
      "metadata": {
        "raw_mimetype": "text/html"
      },
      "source": [
        "<td>"
      ],
      "id": "eeeed627-1e26-49c8-875e-57266734b4b6"
    },
    {
      "cell_type": "markdown",
      "metadata": {},
      "source": [
        "<a class=\"mw-redirect\" href=\"/wiki/Angers_sporting_club_de_l%27Ouest\" title=\"Angers sporting club de l'Ouest\">SCO d’Angers</a>"
      ],
      "id": "9281b12d-fc54-494d-a1df-5b77857496ec"
    },
    {
      "cell_type": "raw",
      "metadata": {
        "raw_mimetype": "text/html"
      },
      "source": [
        "</td>"
      ],
      "id": "5d4fd0c7-2d51-474f-b04f-9c2ae8dbfce3"
    },
    {
      "cell_type": "raw",
      "metadata": {
        "raw_mimetype": "text/html"
      },
      "source": [
        "<td>"
      ],
      "id": "eea278cc-6a94-469f-b615-3891800ce1de"
    },
    {
      "cell_type": "markdown",
      "metadata": {},
      "source": [
        "2015"
      ],
      "id": "b45194a9-8c7c-4261-938d-abbccb9815d6"
    },
    {
      "cell_type": "raw",
      "metadata": {
        "raw_mimetype": "text/html"
      },
      "source": [
        "</td>"
      ],
      "id": "be3acaef-6a3c-4ccc-8a58-f24d63b2ebcc"
    },
    {
      "cell_type": "raw",
      "metadata": {
        "raw_mimetype": "text/html"
      },
      "source": [
        "<td>"
      ],
      "id": "79fa8cb7-3c52-49c6-a3e7-ad449a3f548e"
    },
    {
      "cell_type": "markdown",
      "metadata": {},
      "source": [
        "32"
      ],
      "id": "30c33141-4ff9-4027-ac2a-a9bf6d16dede"
    },
    {
      "cell_type": "raw",
      "metadata": {
        "raw_mimetype": "text/html"
      },
      "source": [
        "</td>"
      ],
      "id": "2ba84dd0-fcf3-4643-bdad-bbba6ac0d916"
    },
    {
      "cell_type": "raw",
      "metadata": {
        "raw_mimetype": "text/html"
      },
      "source": [
        "<td>"
      ],
      "id": "1bb5fd07-c25d-425c-a24d-28f44f79fd48"
    },
    {
      "cell_type": "markdown",
      "metadata": {},
      "source": [
        "<span data-sort-value=\"113 !\"></span><abbr class=\"abbr\" title=\"Treizième\">13<sup>e</sup></abbr>"
      ],
      "id": "de31d0a1-06a9-4b94-a58e-cc14690315a2"
    },
    {
      "cell_type": "raw",
      "metadata": {
        "raw_mimetype": "text/html"
      },
      "source": [
        "</td>"
      ],
      "id": "35e43ca3-f2b4-4161-b176-183b7c059e77"
    },
    {
      "cell_type": "raw",
      "metadata": {
        "raw_mimetype": "text/html"
      },
      "source": [
        "<td align=\"left\">"
      ],
      "id": "10b7d20c-8552-4095-a3f6-32ad40a735e6"
    },
    {
      "cell_type": "markdown",
      "metadata": {},
      "source": [
        "<span class=\"flagicon\"><a class=\"image\" href=\"/wiki/Fichier:Flag_of_France.svg\" title=\"Drapeau : France\"><img alt=\"\" class=\"noviewer thumbborder\" data-file-height=\"600\" data-file-width=\"900\" decoding=\"async\" height=\"13\" src=\"//upload.wikimedia.org/wikipedia/commons/thumb/c/c3/Flag_of_France.svg/20px-Flag_of_France.svg.png\" srcset=\"//upload.wikimedia.org/wikipedia/commons/thumb/c/c3/Flag_of_France.svg/30px-Flag_of_France.svg.png 1.5x, //upload.wikimedia.org/wikipedia/commons/thumb/c/c3/Flag_of_France.svg/40px-Flag_of_France.svg.png 2x\" width=\"20\"/></a></span> <a href=\"/wiki/St%C3%A9phane_Moulin_(football)\" title=\"Stéphane Moulin (football)\">Stéphane Moulin</a>"
      ],
      "id": "7b69c6a3-3e21-49e3-abb5-66ed5734afd4"
    },
    {
      "cell_type": "raw",
      "metadata": {
        "raw_mimetype": "text/html"
      },
      "source": [
        "</td>"
      ],
      "id": "6f13df7f-6c76-4605-af59-00924f29c923"
    },
    {
      "cell_type": "raw",
      "metadata": {
        "raw_mimetype": "text/html"
      },
      "source": [
        "<td>"
      ],
      "id": "2e5c04be-dfbd-468a-8d2b-4eee219695cd"
    },
    {
      "cell_type": "markdown",
      "metadata": {},
      "source": [
        "2011"
      ],
      "id": "ea025f4c-df4b-4d0a-b65d-cc857a6682c6"
    },
    {
      "cell_type": "raw",
      "metadata": {
        "raw_mimetype": "text/html"
      },
      "source": [
        "</td>"
      ],
      "id": "487b216b-4414-4ecd-b13c-7d7d7cef8c6d"
    },
    {
      "cell_type": "raw",
      "metadata": {
        "raw_mimetype": "text/html"
      },
      "source": [
        "<td>"
      ],
      "id": "9281ab43-b74a-43d8-be75-504153f2bbef"
    },
    {
      "cell_type": "markdown",
      "metadata": {},
      "source": [
        "<a href=\"/wiki/Stade_Raymond-Kopa\" title=\"Stade Raymond-Kopa\">Stade Raymond-Kopa</a>"
      ],
      "id": "7abfeb7c-c916-4d73-8c3b-4c549921c1df"
    },
    {
      "cell_type": "raw",
      "metadata": {
        "raw_mimetype": "text/html"
      },
      "source": [
        "</td>"
      ],
      "id": "63e9d61a-96ea-4893-b37c-658fa555db8c"
    },
    {
      "cell_type": "raw",
      "metadata": {
        "raw_mimetype": "text/html"
      },
      "source": [
        "<td>"
      ],
      "id": "2c2be6cc-012f-4443-82f4-2a1daadf5ec2"
    },
    {
      "cell_type": "markdown",
      "metadata": {},
      "source": [
        "14 582"
      ],
      "id": "6fd471c1-a82f-4f6a-837f-db660e9a4470"
    },
    {
      "cell_type": "raw",
      "metadata": {
        "raw_mimetype": "text/html"
      },
      "source": [
        "</td>"
      ],
      "id": "7993bfbd-39d8-410f-8032-0d2e312633f7"
    },
    {
      "cell_type": "raw",
      "metadata": {
        "raw_mimetype": "text/html"
      },
      "source": [
        "<td>"
      ],
      "id": "d586c85e-20b8-4989-99b2-97916d9dedf3"
    },
    {
      "cell_type": "markdown",
      "metadata": {},
      "source": [
        "27"
      ],
      "id": "652c5fe1-da88-46cf-8bf0-4e35413d51f8"
    },
    {
      "cell_type": "raw",
      "metadata": {
        "raw_mimetype": "text/html"
      },
      "source": [
        "</td>"
      ],
      "id": "3a289959-6f46-496b-bc09-14c9c7479fe6"
    },
    {
      "cell_type": "raw",
      "metadata": {
        "raw_mimetype": "text/html"
      },
      "source": [
        "</tr>"
      ],
      "id": "9c696f98-8c6c-4b43-8c5e-06ee8211eaf5"
    },
    {
      "cell_type": "raw",
      "metadata": {
        "raw_mimetype": "text/html"
      },
      "source": [
        "<tr>"
      ],
      "id": "9c87d382-8290-4b8d-804f-afa9f442f067"
    },
    {
      "cell_type": "raw",
      "metadata": {
        "raw_mimetype": "text/html"
      },
      "source": [
        "<td>"
      ],
      "id": "c4e6f6a6-8c56-4f90-85c3-aa980a7eeeaf"
    },
    {
      "cell_type": "markdown",
      "metadata": {},
      "source": [
        "<a href=\"/wiki/Football_Club_des_Girondins_de_Bordeaux\" title=\"Football Club des Girondins de Bordeaux\">Girondins de Bordeaux</a>"
      ],
      "id": "01da92b1-a707-4e97-9129-112f97011fda"
    },
    {
      "cell_type": "raw",
      "metadata": {
        "raw_mimetype": "text/html"
      },
      "source": [
        "</td>"
      ],
      "id": "a075e761-0c4c-4598-b76e-84cc6414a2b3"
    },
    {
      "cell_type": "raw",
      "metadata": {
        "raw_mimetype": "text/html"
      },
      "source": [
        "<td>"
      ],
      "id": "810d021c-cba7-45be-be6f-41401749d52a"
    },
    {
      "cell_type": "markdown",
      "metadata": {},
      "source": [
        "1992"
      ],
      "id": "2b59989f-28c4-40e6-8f2d-5385312e3e3a"
    },
    {
      "cell_type": "raw",
      "metadata": {
        "raw_mimetype": "text/html"
      },
      "source": [
        "</td>"
      ],
      "id": "78672006-293f-4afd-8321-67010786b68b"
    },
    {
      "cell_type": "raw",
      "metadata": {
        "raw_mimetype": "text/html"
      },
      "source": [
        "<td>"
      ],
      "id": "898b3783-0524-4f1d-aa4e-b452359c7dc2"
    },
    {
      "cell_type": "markdown",
      "metadata": {},
      "source": [
        "70"
      ],
      "id": "c5d36b34-d87c-4127-b4ef-25769b4fbc1e"
    },
    {
      "cell_type": "raw",
      "metadata": {
        "raw_mimetype": "text/html"
      },
      "source": [
        "</td>"
      ],
      "id": "a6de8590-5666-4146-9543-41b0e5bc490f"
    },
    {
      "cell_type": "raw",
      "metadata": {
        "raw_mimetype": "text/html"
      },
      "source": [
        "<td>"
      ],
      "id": "57078641-022b-44ff-bae9-c6f31e93ec5f"
    },
    {
      "cell_type": "markdown",
      "metadata": {},
      "source": [
        "<span data-sort-value=\"114 !\"></span><abbr class=\"abbr\" title=\"Quatorzième\">14<sup>e</sup></abbr>"
      ],
      "id": "efebce64-9191-41e7-aebe-364cfe0e38f2"
    },
    {
      "cell_type": "raw",
      "metadata": {
        "raw_mimetype": "text/html"
      },
      "source": [
        "</td>"
      ],
      "id": "58b0f01a-76cc-4e8a-ae24-76d870de4641"
    },
    {
      "cell_type": "raw",
      "metadata": {
        "raw_mimetype": "text/html"
      },
      "source": [
        "<td align=\"left\">"
      ],
      "id": "6d37020d-a47a-41b7-9682-9904475e179e"
    },
    {
      "cell_type": "markdown",
      "metadata": {},
      "source": [
        "<span class=\"flagicon\"><a class=\"image\" href=\"/wiki/Fichier:Flag_of_Portugal.svg\" title=\"Drapeau : Portugal\"><img alt=\"\" class=\"noviewer thumbborder\" data-file-height=\"400\" data-file-width=\"600\" decoding=\"async\" height=\"13\" src=\"//upload.wikimedia.org/wikipedia/commons/thumb/5/5c/Flag_of_Portugal.svg/20px-Flag_of_Portugal.svg.png\" srcset=\"//upload.wikimedia.org/wikipedia/commons/thumb/5/5c/Flag_of_Portugal.svg/30px-Flag_of_Portugal.svg.png 1.5x, //upload.wikimedia.org/wikipedia/commons/thumb/5/5c/Flag_of_Portugal.svg/40px-Flag_of_Portugal.svg.png 2x\" width=\"20\"/></a></span> <a href=\"/wiki/Paulo_Sousa_(football,_1970)\" title=\"Paulo Sousa (football, 1970)\">Paulo Sousa</a>"
      ],
      "id": "89b8abea-eab3-4b82-811c-9d11dc0ff1a8"
    },
    {
      "cell_type": "raw",
      "metadata": {
        "raw_mimetype": "text/html"
      },
      "source": [
        "</td>"
      ],
      "id": "9c97186a-d613-45f9-bdf6-59ceb1cd0b4d"
    },
    {
      "cell_type": "raw",
      "metadata": {
        "raw_mimetype": "text/html"
      },
      "source": [
        "<td>"
      ],
      "id": "fc6de25d-d049-45b4-8e16-1488b2a37f42"
    },
    {
      "cell_type": "markdown",
      "metadata": {},
      "source": [
        "2019"
      ],
      "id": "32a1fee1-9a9f-4cbc-8be9-102ca4e17b8a"
    },
    {
      "cell_type": "raw",
      "metadata": {
        "raw_mimetype": "text/html"
      },
      "source": [
        "</td>"
      ],
      "id": "b6bb0da2-0002-44c6-bb6e-8d361b002a91"
    },
    {
      "cell_type": "raw",
      "metadata": {
        "raw_mimetype": "text/html"
      },
      "source": [
        "<td>"
      ],
      "id": "d39103d4-2da8-4d34-9b6e-95359fd52aad"
    },
    {
      "cell_type": "markdown",
      "metadata": {},
      "source": [
        "<a href=\"/wiki/Matmut_Atlantique\" title=\"Matmut Atlantique\">Matmut Atlantique</a>"
      ],
      "id": "c648e205-e9fa-4064-8c16-0b248264d26a"
    },
    {
      "cell_type": "raw",
      "metadata": {
        "raw_mimetype": "text/html"
      },
      "source": [
        "</td>"
      ],
      "id": "4ae7c2e1-9796-48ac-9a77-5e1807f5c6e8"
    },
    {
      "cell_type": "raw",
      "metadata": {
        "raw_mimetype": "text/html"
      },
      "source": [
        "<td>"
      ],
      "id": "1b11e62d-34ee-4501-bd9a-ce9c8f906a3a"
    },
    {
      "cell_type": "markdown",
      "metadata": {},
      "source": [
        "42 115"
      ],
      "id": "02e3dbf9-2805-442a-af38-ae8b460b88b0"
    },
    {
      "cell_type": "raw",
      "metadata": {
        "raw_mimetype": "text/html"
      },
      "source": [
        "</td>"
      ],
      "id": "2401787d-568b-49c8-b4ee-a8a4b878c42d"
    },
    {
      "cell_type": "raw",
      "metadata": {
        "raw_mimetype": "text/html"
      },
      "source": [
        "<td>"
      ],
      "id": "81243377-0021-463c-b051-ef149681dcbc"
    },
    {
      "cell_type": "markdown",
      "metadata": {},
      "source": [
        "66"
      ],
      "id": "1ddd3d08-97c4-494a-bbf3-1b120a72c5e6"
    },
    {
      "cell_type": "raw",
      "metadata": {
        "raw_mimetype": "text/html"
      },
      "source": [
        "</td>"
      ],
      "id": "5be2dda8-fe70-4717-a944-ee4165189c20"
    },
    {
      "cell_type": "raw",
      "metadata": {
        "raw_mimetype": "text/html"
      },
      "source": [
        "</tr>"
      ],
      "id": "91952853-5760-465d-9ade-aa1399da0d21"
    },
    {
      "cell_type": "raw",
      "metadata": {
        "raw_mimetype": "text/html"
      },
      "source": [
        "<tr>"
      ],
      "id": "4f629470-71d4-4d93-8cfb-8d59a0affdf5"
    },
    {
      "cell_type": "raw",
      "metadata": {
        "raw_mimetype": "text/html"
      },
      "source": [
        "<td>"
      ],
      "id": "39280c53-3d72-4bb1-83f8-425d55ea3860"
    },
    {
      "cell_type": "markdown",
      "metadata": {},
      "source": [
        "<a href=\"/wiki/Amiens_Sporting_Club\" title=\"Amiens Sporting Club\">Amiens SC</a>"
      ],
      "id": "f1f61f83-38fd-4cd3-a794-fa6c70fe063d"
    },
    {
      "cell_type": "raw",
      "metadata": {
        "raw_mimetype": "text/html"
      },
      "source": [
        "</td>"
      ],
      "id": "6cfe20cd-d2c9-4534-ac19-96370e71d14a"
    },
    {
      "cell_type": "raw",
      "metadata": {
        "raw_mimetype": "text/html"
      },
      "source": [
        "<td>"
      ],
      "id": "b8f03f4e-abfd-4d16-89ae-5e845104ea27"
    },
    {
      "cell_type": "markdown",
      "metadata": {},
      "source": [
        "2017"
      ],
      "id": "b9c5d5e4-f664-4e9a-8658-73573b418262"
    },
    {
      "cell_type": "raw",
      "metadata": {
        "raw_mimetype": "text/html"
      },
      "source": [
        "</td>"
      ],
      "id": "7b36e4d1-8ba8-4ed9-8dfe-448b369b6127"
    },
    {
      "cell_type": "raw",
      "metadata": {
        "raw_mimetype": "text/html"
      },
      "source": [
        "<td>"
      ],
      "id": "62099d73-8ad9-4c0e-9ab2-fd30e823f3eb"
    },
    {
      "cell_type": "markdown",
      "metadata": {},
      "source": [
        "30"
      ],
      "id": "1c11506e-36d4-4357-a2b4-77467e6f9d6e"
    },
    {
      "cell_type": "raw",
      "metadata": {
        "raw_mimetype": "text/html"
      },
      "source": [
        "</td>"
      ],
      "id": "4bebdf6e-756a-4f0b-8b99-68a315097099"
    },
    {
      "cell_type": "raw",
      "metadata": {
        "raw_mimetype": "text/html"
      },
      "source": [
        "<td>"
      ],
      "id": "65b09175-febb-4261-a00f-9bc7eed19bbe"
    },
    {
      "cell_type": "markdown",
      "metadata": {},
      "source": [
        "<span data-sort-value=\"115 !\"></span><abbr class=\"abbr\" title=\"Quinzième\">15<sup>e</sup></abbr>"
      ],
      "id": "5aa185bd-25d5-412b-af4f-99c577ebb883"
    },
    {
      "cell_type": "raw",
      "metadata": {
        "raw_mimetype": "text/html"
      },
      "source": [
        "</td>"
      ],
      "id": "6f7b748f-938b-40a0-bbac-5aaf34b17d2e"
    },
    {
      "cell_type": "raw",
      "metadata": {
        "raw_mimetype": "text/html"
      },
      "source": [
        "<td align=\"left\">"
      ],
      "id": "011b8ab9-f4d9-4b37-9921-4c1ca05652fe"
    },
    {
      "cell_type": "markdown",
      "metadata": {},
      "source": [
        "<span class=\"flagicon\"><a class=\"image\" href=\"/wiki/Fichier:Flag_of_Slovenia.svg\" title=\"Drapeau : Slovénie\"><img alt=\"\" class=\"noviewer thumbborder\" data-file-height=\"600\" data-file-width=\"1200\" decoding=\"async\" height=\"10\" src=\"//upload.wikimedia.org/wikipedia/commons/thumb/f/f0/Flag_of_Slovenia.svg/20px-Flag_of_Slovenia.svg.png\" srcset=\"//upload.wikimedia.org/wikipedia/commons/thumb/f/f0/Flag_of_Slovenia.svg/30px-Flag_of_Slovenia.svg.png 1.5x, //upload.wikimedia.org/wikipedia/commons/thumb/f/f0/Flag_of_Slovenia.svg/40px-Flag_of_Slovenia.svg.png 2x\" width=\"20\"/></a></span> <a href=\"/wiki/Luka_Elsner\" title=\"Luka Elsner\">Luka Elsner</a>"
      ],
      "id": "4f35bbb9-6c2d-4c88-8099-6956df18e1c1"
    },
    {
      "cell_type": "raw",
      "metadata": {
        "raw_mimetype": "text/html"
      },
      "source": [
        "</td>"
      ],
      "id": "c6db35b7-e487-4b5c-a7ba-dceb8e5004b5"
    },
    {
      "cell_type": "raw",
      "metadata": {
        "raw_mimetype": "text/html"
      },
      "source": [
        "<td>"
      ],
      "id": "5ffe9848-fc30-4de7-999b-0ddd250ae6f1"
    },
    {
      "cell_type": "markdown",
      "metadata": {},
      "source": [
        "2019"
      ],
      "id": "f0793631-b7a1-4ba1-9746-d610f4948ce4"
    },
    {
      "cell_type": "raw",
      "metadata": {
        "raw_mimetype": "text/html"
      },
      "source": [
        "</td>"
      ],
      "id": "74354f65-bba8-4c90-95c4-2b7d199da4ab"
    },
    {
      "cell_type": "raw",
      "metadata": {
        "raw_mimetype": "text/html"
      },
      "source": [
        "<td>"
      ],
      "id": "ed446a3b-14e5-4bd4-bd0d-dc52dba17157"
    },
    {
      "cell_type": "markdown",
      "metadata": {},
      "source": [
        "<a href=\"/wiki/Stade_de_la_Licorne\" title=\"Stade de la Licorne\">Stade Crédit Agricole la Licorne</a>"
      ],
      "id": "84030033-e0e7-4119-9dd5-9ec718317b0f"
    },
    {
      "cell_type": "raw",
      "metadata": {
        "raw_mimetype": "text/html"
      },
      "source": [
        "</td>"
      ],
      "id": "b59b47dc-4164-4d99-a641-b35782899ff0"
    },
    {
      "cell_type": "raw",
      "metadata": {
        "raw_mimetype": "text/html"
      },
      "source": [
        "<td>"
      ],
      "id": "7a6a6464-7a0c-4f61-b030-3f0b21e16177"
    },
    {
      "cell_type": "markdown",
      "metadata": {},
      "source": [
        "12 999"
      ],
      "id": "639a8f43-f12d-462f-907a-dd306dc24410"
    },
    {
      "cell_type": "raw",
      "metadata": {
        "raw_mimetype": "text/html"
      },
      "source": [
        "</td>"
      ],
      "id": "76a06b7f-4f37-40e3-94e8-7f6ddf431180"
    },
    {
      "cell_type": "raw",
      "metadata": {
        "raw_mimetype": "text/html"
      },
      "source": [
        "<td>"
      ],
      "id": "a08f4783-1d63-4b52-82e8-ab9e9cd2573a"
    },
    {
      "cell_type": "markdown",
      "metadata": {},
      "source": [
        "2"
      ],
      "id": "ba1776a9-7c2f-4c4f-95a3-be4b7eb84789"
    },
    {
      "cell_type": "raw",
      "metadata": {
        "raw_mimetype": "text/html"
      },
      "source": [
        "</td>"
      ],
      "id": "cd399fa0-cf34-4fc1-8091-fc4db5320fce"
    },
    {
      "cell_type": "raw",
      "metadata": {
        "raw_mimetype": "text/html"
      },
      "source": [
        "</tr>"
      ],
      "id": "9d51ea87-8de4-4f7d-b6e2-b210fbebcc89"
    },
    {
      "cell_type": "raw",
      "metadata": {
        "raw_mimetype": "text/html"
      },
      "source": [
        "<tr>"
      ],
      "id": "24c6c868-b9a8-4da3-bda2-62c3a8a1fb89"
    },
    {
      "cell_type": "raw",
      "metadata": {
        "raw_mimetype": "text/html"
      },
      "source": [
        "<td>"
      ],
      "id": "2ff67ffe-f16c-44ef-9173-0f2fc02006c9"
    },
    {
      "cell_type": "markdown",
      "metadata": {},
      "source": [
        "<a href=\"/wiki/Toulouse_Football_Club\" title=\"Toulouse Football Club\">Toulouse FC</a>"
      ],
      "id": "86884289-719e-4998-96b2-e1a501f0b9ec"
    },
    {
      "cell_type": "raw",
      "metadata": {
        "raw_mimetype": "text/html"
      },
      "source": [
        "</td>"
      ],
      "id": "6cf97c23-0005-4868-9e7c-f20ab846dade"
    },
    {
      "cell_type": "raw",
      "metadata": {
        "raw_mimetype": "text/html"
      },
      "source": [
        "<td>"
      ],
      "id": "2ba3d695-0308-417f-ae6c-8e9bc374f610"
    },
    {
      "cell_type": "markdown",
      "metadata": {},
      "source": [
        "2003"
      ],
      "id": "d098f1ca-0970-48c3-8d64-8b63f5b12d8d"
    },
    {
      "cell_type": "raw",
      "metadata": {
        "raw_mimetype": "text/html"
      },
      "source": [
        "</td>"
      ],
      "id": "86815cc8-da3c-4f13-aaa3-aa8ab21da48b"
    },
    {
      "cell_type": "raw",
      "metadata": {
        "raw_mimetype": "text/html"
      },
      "source": [
        "<td>"
      ],
      "id": "94bc6234-e74d-4d5e-bf23-e42a7fef4ae1"
    },
    {
      "cell_type": "markdown",
      "metadata": {},
      "source": [
        "35"
      ],
      "id": "90ac7909-665f-45e4-ac99-c6142df84d1d"
    },
    {
      "cell_type": "raw",
      "metadata": {
        "raw_mimetype": "text/html"
      },
      "source": [
        "</td>"
      ],
      "id": "730c2664-8f2e-4ac8-9162-bde08a08a85c"
    },
    {
      "cell_type": "raw",
      "metadata": {
        "raw_mimetype": "text/html"
      },
      "source": [
        "<td>"
      ],
      "id": "4678c200-dfff-45d4-aa44-4d768674ce7f"
    },
    {
      "cell_type": "markdown",
      "metadata": {},
      "source": [
        "<span data-sort-value=\"116 !\"></span><abbr class=\"abbr\" title=\"Seizième\">16<sup>e</sup></abbr>"
      ],
      "id": "0ef84f3e-21a2-4cb0-8577-b0b88ac227da"
    },
    {
      "cell_type": "raw",
      "metadata": {
        "raw_mimetype": "text/html"
      },
      "source": [
        "</td>"
      ],
      "id": "31e84ee1-25ac-401a-95aa-2ceb42f6e8bf"
    },
    {
      "cell_type": "raw",
      "metadata": {
        "raw_mimetype": "text/html"
      },
      "source": [
        "<td align=\"left\">"
      ],
      "id": "80f1418e-971b-4a7c-b9e1-8a8509669238"
    },
    {
      "cell_type": "markdown",
      "metadata": {},
      "source": [
        "<span class=\"flagicon\"><a class=\"image\" href=\"/wiki/Fichier:Flag_of_France.svg\" title=\"Drapeau : France\"><img alt=\"\" class=\"noviewer thumbborder\" data-file-height=\"600\" data-file-width=\"900\" decoding=\"async\" height=\"13\" src=\"//upload.wikimedia.org/wikipedia/commons/thumb/c/c3/Flag_of_France.svg/20px-Flag_of_France.svg.png\" srcset=\"//upload.wikimedia.org/wikipedia/commons/thumb/c/c3/Flag_of_France.svg/30px-Flag_of_France.svg.png 1.5x, //upload.wikimedia.org/wikipedia/commons/thumb/c/c3/Flag_of_France.svg/40px-Flag_of_France.svg.png 2x\" width=\"20\"/></a></span> <a href=\"/wiki/Denis_Zanko\" title=\"Denis Zanko\">Denis Zanko</a>"
      ],
      "id": "18e24430-f8c0-42da-909c-cbb6114cbb92"
    },
    {
      "cell_type": "raw",
      "metadata": {
        "raw_mimetype": "text/html"
      },
      "source": [
        "</td>"
      ],
      "id": "fa425d77-8b4e-4f9e-8903-050add9e4692"
    },
    {
      "cell_type": "raw",
      "metadata": {
        "raw_mimetype": "text/html"
      },
      "source": [
        "<td>"
      ],
      "id": "9d75c888-ba5d-46c5-a123-b2d2eff9a313"
    },
    {
      "cell_type": "markdown",
      "metadata": {},
      "source": [
        "2020"
      ],
      "id": "a00bd23f-df01-4398-b417-64b12c459a67"
    },
    {
      "cell_type": "raw",
      "metadata": {
        "raw_mimetype": "text/html"
      },
      "source": [
        "</td>"
      ],
      "id": "6b4de8e1-2865-4496-b65a-36df51c2aa54"
    },
    {
      "cell_type": "raw",
      "metadata": {
        "raw_mimetype": "text/html"
      },
      "source": [
        "<td>"
      ],
      "id": "732fde54-617a-4eb4-8b54-b1d28af7c039"
    },
    {
      "cell_type": "markdown",
      "metadata": {},
      "source": [
        "<a href=\"/wiki/Stadium_de_Toulouse\" title=\"Stadium de Toulouse\">Stadium de Toulouse</a>"
      ],
      "id": "f1e95b28-01d5-4af6-9d0f-3063b9aefa02"
    },
    {
      "cell_type": "raw",
      "metadata": {
        "raw_mimetype": "text/html"
      },
      "source": [
        "</td>"
      ],
      "id": "1b13c951-79a0-446f-847d-46166d79004a"
    },
    {
      "cell_type": "raw",
      "metadata": {
        "raw_mimetype": "text/html"
      },
      "source": [
        "<td>"
      ],
      "id": "fa0ccec0-f9f0-425b-87ff-c210586c3f52"
    },
    {
      "cell_type": "markdown",
      "metadata": {},
      "source": [
        "33 033"
      ],
      "id": "4b80e0b2-1822-4263-b1da-e80d4db2f998"
    },
    {
      "cell_type": "raw",
      "metadata": {
        "raw_mimetype": "text/html"
      },
      "source": [
        "</td>"
      ],
      "id": "096ab531-e2d1-4184-8c92-d637d6847450"
    },
    {
      "cell_type": "raw",
      "metadata": {
        "raw_mimetype": "text/html"
      },
      "source": [
        "<td>"
      ],
      "id": "79ed42c3-ced4-4ac7-ade4-a68776cf70df"
    },
    {
      "cell_type": "markdown",
      "metadata": {},
      "source": [
        "32"
      ],
      "id": "19cfb522-2bd7-45d4-aad2-bc353593ee09"
    },
    {
      "cell_type": "raw",
      "metadata": {
        "raw_mimetype": "text/html"
      },
      "source": [
        "</td>"
      ],
      "id": "8f48e2b4-7530-4761-9d47-e23c5e419d94"
    },
    {
      "cell_type": "raw",
      "metadata": {
        "raw_mimetype": "text/html"
      },
      "source": [
        "</tr>"
      ],
      "id": "f30f0a51-4663-4c2d-b526-ca9cc27d098a"
    },
    {
      "cell_type": "raw",
      "metadata": {
        "raw_mimetype": "text/html"
      },
      "source": [
        "<tr>"
      ],
      "id": "332f64b6-3402-4a29-a78a-d1ef0db72017"
    },
    {
      "cell_type": "raw",
      "metadata": {
        "raw_mimetype": "text/html"
      },
      "source": [
        "<td>"
      ],
      "id": "fdc7991d-2c0c-49ca-aae4-df59fccd9272"
    },
    {
      "cell_type": "markdown",
      "metadata": {},
      "source": [
        "<a class=\"mw-redirect\" href=\"/wiki/Association_sportive_de_Monaco_football_club\" title=\"Association sportive de Monaco football club\">AS Monaco</a>"
      ],
      "id": "468bfa8c-7f5e-4962-8497-693a26e8ffc5"
    },
    {
      "cell_type": "raw",
      "metadata": {
        "raw_mimetype": "text/html"
      },
      "source": [
        "</td>"
      ],
      "id": "12f33993-2342-4fc3-b2b8-55ea4867ff33"
    },
    {
      "cell_type": "raw",
      "metadata": {
        "raw_mimetype": "text/html"
      },
      "source": [
        "<td>"
      ],
      "id": "5528cea3-ccf7-47a5-b95b-f4730dfb1e81"
    },
    {
      "cell_type": "markdown",
      "metadata": {},
      "source": [
        "2013"
      ],
      "id": "3f730284-e2af-4cff-a3a2-31a3e96bbe05"
    },
    {
      "cell_type": "raw",
      "metadata": {
        "raw_mimetype": "text/html"
      },
      "source": [
        "</td>"
      ],
      "id": "1d192ddc-01c7-4854-b5cd-15cd2ed1fd6d"
    },
    {
      "cell_type": "raw",
      "metadata": {
        "raw_mimetype": "text/html"
      },
      "source": [
        "<td>"
      ],
      "id": "27c544cd-5052-4b82-a5ec-133cfe87d3e2"
    },
    {
      "cell_type": "markdown",
      "metadata": {},
      "source": [
        "220"
      ],
      "id": "b8c2665e-818a-4d46-8e34-f6d17516908a"
    },
    {
      "cell_type": "raw",
      "metadata": {
        "raw_mimetype": "text/html"
      },
      "source": [
        "</td>"
      ],
      "id": "583260fc-804e-4089-9132-c531fe7e6c76"
    },
    {
      "cell_type": "raw",
      "metadata": {
        "raw_mimetype": "text/html"
      },
      "source": [
        "<td>"
      ],
      "id": "e79b2fc9-00d9-4a3f-b74e-d45c396c767c"
    },
    {
      "cell_type": "markdown",
      "metadata": {},
      "source": [
        "<span data-sort-value=\"117 !\"></span><abbr class=\"abbr\" title=\"Dix-septième\">17<sup>e</sup></abbr>"
      ],
      "id": "448819fc-6806-4cef-8405-fd6b2ea4a0e3"
    },
    {
      "cell_type": "raw",
      "metadata": {
        "raw_mimetype": "text/html"
      },
      "source": [
        "</td>"
      ],
      "id": "7f464681-3b25-4096-977f-f89bbece6d23"
    },
    {
      "cell_type": "raw",
      "metadata": {
        "raw_mimetype": "text/html"
      },
      "source": [
        "<td align=\"left\">"
      ],
      "id": "e266ae9c-223c-4149-8df7-f6fcabf90427"
    },
    {
      "cell_type": "markdown",
      "metadata": {},
      "source": [
        "<span class=\"flagicon\"><a class=\"image\" href=\"/wiki/Fichier:Flag_of_Spain.svg\" title=\"Drapeau : Espagne\"><img alt=\"\" class=\"noviewer thumbborder\" data-file-height=\"500\" data-file-width=\"750\" decoding=\"async\" height=\"13\" src=\"//upload.wikimedia.org/wikipedia/commons/thumb/9/9a/Flag_of_Spain.svg/20px-Flag_of_Spain.svg.png\" srcset=\"//upload.wikimedia.org/wikipedia/commons/thumb/9/9a/Flag_of_Spain.svg/30px-Flag_of_Spain.svg.png 1.5x, //upload.wikimedia.org/wikipedia/commons/thumb/9/9a/Flag_of_Spain.svg/40px-Flag_of_Spain.svg.png 2x\" width=\"20\"/></a></span> <a href=\"/wiki/Robert_Moreno\" title=\"Robert Moreno\">Robert Moreno</a>"
      ],
      "id": "841082a5-2da2-42fb-9c0d-0a3123517f12"
    },
    {
      "cell_type": "raw",
      "metadata": {
        "raw_mimetype": "text/html"
      },
      "source": [
        "</td>"
      ],
      "id": "f88744ac-c9c8-4e43-a962-3c2e66919638"
    },
    {
      "cell_type": "raw",
      "metadata": {
        "raw_mimetype": "text/html"
      },
      "source": [
        "<td>"
      ],
      "id": "865f829a-9f5d-4e89-8235-1086df23bc2b"
    },
    {
      "cell_type": "markdown",
      "metadata": {},
      "source": [
        "2019"
      ],
      "id": "de7f45ec-ba09-4304-b4a7-25c6e37e0e0e"
    },
    {
      "cell_type": "raw",
      "metadata": {
        "raw_mimetype": "text/html"
      },
      "source": [
        "</td>"
      ],
      "id": "f0e1c1ca-ab98-46ba-8492-650616993dd0"
    },
    {
      "cell_type": "raw",
      "metadata": {
        "raw_mimetype": "text/html"
      },
      "source": [
        "<td>"
      ],
      "id": "10aa55c4-3843-4d7e-8208-edf4a74d73be"
    },
    {
      "cell_type": "markdown",
      "metadata": {},
      "source": [
        "<a href=\"/wiki/Stade_Louis-II\" title=\"Stade Louis-II\">Stade Louis-II</a>"
      ],
      "id": "7bb064b2-8a8f-4f1e-893b-e543545d6c39"
    },
    {
      "cell_type": "raw",
      "metadata": {
        "raw_mimetype": "text/html"
      },
      "source": [
        "</td>"
      ],
      "id": "10af0428-acf1-4be3-8c80-75f324de0e46"
    },
    {
      "cell_type": "raw",
      "metadata": {
        "raw_mimetype": "text/html"
      },
      "source": [
        "<td>"
      ],
      "id": "1bd50c75-c40d-49bf-88d5-75fb1af09c80"
    },
    {
      "cell_type": "markdown",
      "metadata": {},
      "source": [
        "16 500"
      ],
      "id": "892376f7-3fa8-422f-ab1d-aaad2444ffa3"
    },
    {
      "cell_type": "raw",
      "metadata": {
        "raw_mimetype": "text/html"
      },
      "source": [
        "</td>"
      ],
      "id": "7371362a-3a30-41bc-ab07-7ce3f49b0e67"
    },
    {
      "cell_type": "raw",
      "metadata": {
        "raw_mimetype": "text/html"
      },
      "source": [
        "<td>"
      ],
      "id": "e1c6d3ea-8dda-4529-8392-7c7dcec36071"
    },
    {
      "cell_type": "markdown",
      "metadata": {},
      "source": [
        "60"
      ],
      "id": "fe54e54f-6123-4782-bb4b-49240cb75512"
    },
    {
      "cell_type": "raw",
      "metadata": {
        "raw_mimetype": "text/html"
      },
      "source": [
        "</td>"
      ],
      "id": "7a64a232-5e7e-4b90-a0e8-169e53d338f1"
    },
    {
      "cell_type": "raw",
      "metadata": {
        "raw_mimetype": "text/html"
      },
      "source": [
        "</tr>"
      ],
      "id": "70011b3a-e965-4712-ba1c-a73c8ee68a55"
    },
    {
      "cell_type": "raw",
      "metadata": {
        "raw_mimetype": "text/html"
      },
      "source": [
        "<tr>"
      ],
      "id": "72967aa0-e487-4e66-b30a-f8303aa68d4a"
    },
    {
      "cell_type": "raw",
      "metadata": {
        "raw_mimetype": "text/html"
      },
      "source": [
        "<td>"
      ],
      "id": "b5b1fe5d-f35f-47a7-ba45-f6a08ff7a9f6"
    },
    {
      "cell_type": "markdown",
      "metadata": {},
      "source": [
        "<a href=\"/wiki/Dijon_Football_C%C3%B4te-d%27Or\" title=\"Dijon Football Côte-d'Or\">Dijon FCO</a>"
      ],
      "id": "bbdbd84b-9f87-4569-a5b5-abf6f405c709"
    },
    {
      "cell_type": "raw",
      "metadata": {
        "raw_mimetype": "text/html"
      },
      "source": [
        "</td>"
      ],
      "id": "143ee109-95a6-4bfb-a462-343f4f806fb2"
    },
    {
      "cell_type": "raw",
      "metadata": {
        "raw_mimetype": "text/html"
      },
      "source": [
        "<td>"
      ],
      "id": "c1164823-97ad-42f6-9cbc-7a86d0fbe41c"
    },
    {
      "cell_type": "markdown",
      "metadata": {},
      "source": [
        "2016"
      ],
      "id": "cfc6a296-8744-42d4-a623-79c27975fca7"
    },
    {
      "cell_type": "raw",
      "metadata": {
        "raw_mimetype": "text/html"
      },
      "source": [
        "</td>"
      ],
      "id": "3fd07fb7-2b61-4b0f-a911-540c92beb2ae"
    },
    {
      "cell_type": "raw",
      "metadata": {
        "raw_mimetype": "text/html"
      },
      "source": [
        "<td>"
      ],
      "id": "cac5484a-d839-4008-8051-b37722b8c4dc"
    },
    {
      "cell_type": "markdown",
      "metadata": {},
      "source": [
        "38"
      ],
      "id": "37643952-3e53-44ba-92c0-7341bbfa5d22"
    },
    {
      "cell_type": "raw",
      "metadata": {
        "raw_mimetype": "text/html"
      },
      "source": [
        "</td>"
      ],
      "id": "474b2990-39b9-475d-bdc3-41afca8c6dba"
    },
    {
      "cell_type": "raw",
      "metadata": {
        "raw_mimetype": "text/html"
      },
      "source": [
        "<td>"
      ],
      "id": "9e1ee251-d6db-4565-8ebc-779b0506aad8"
    },
    {
      "cell_type": "markdown",
      "metadata": {},
      "source": [
        "<span data-sort-value=\"118 !\"></span><abbr class=\"abbr\" title=\"Dix-huitième\">18<sup>e</sup></abbr>"
      ],
      "id": "0d6e2877-8e57-4043-a069-87568818d27a"
    },
    {
      "cell_type": "raw",
      "metadata": {
        "raw_mimetype": "text/html"
      },
      "source": [
        "</td>"
      ],
      "id": "27a7c34f-b2ee-4c62-b5f3-578f7542dbd4"
    },
    {
      "cell_type": "raw",
      "metadata": {
        "raw_mimetype": "text/html"
      },
      "source": [
        "<td align=\"left\">"
      ],
      "id": "49d89663-6b9b-40bb-a00b-e76ecdd3aeae"
    },
    {
      "cell_type": "markdown",
      "metadata": {},
      "source": [
        "<span class=\"flagicon\"><a class=\"image\" href=\"/wiki/Fichier:Flag_of_France.svg\" title=\"Drapeau : France\"><img alt=\"\" class=\"noviewer thumbborder\" data-file-height=\"600\" data-file-width=\"900\" decoding=\"async\" height=\"13\" src=\"//upload.wikimedia.org/wikipedia/commons/thumb/c/c3/Flag_of_France.svg/20px-Flag_of_France.svg.png\" srcset=\"//upload.wikimedia.org/wikipedia/commons/thumb/c/c3/Flag_of_France.svg/30px-Flag_of_France.svg.png 1.5x, //upload.wikimedia.org/wikipedia/commons/thumb/c/c3/Flag_of_France.svg/40px-Flag_of_France.svg.png 2x\" width=\"20\"/></a></span> <a href=\"/wiki/St%C3%A9phane_Jobard\" title=\"Stéphane Jobard\">Stéphane Jobard</a>"
      ],
      "id": "2986f729-f388-4109-bb9c-30feeb7c2405"
    },
    {
      "cell_type": "raw",
      "metadata": {
        "raw_mimetype": "text/html"
      },
      "source": [
        "</td>"
      ],
      "id": "4a68dd0f-bf9d-4a4a-a69e-03f1ad36d307"
    },
    {
      "cell_type": "raw",
      "metadata": {
        "raw_mimetype": "text/html"
      },
      "source": [
        "<td>"
      ],
      "id": "a220708e-1843-4f14-b3b0-3dc8bf77309d"
    },
    {
      "cell_type": "markdown",
      "metadata": {},
      "source": [
        "2019"
      ],
      "id": "d04f67b3-ff07-4c23-8033-72c3aa6e36b1"
    },
    {
      "cell_type": "raw",
      "metadata": {
        "raw_mimetype": "text/html"
      },
      "source": [
        "</td>"
      ],
      "id": "e157bd95-301d-4e17-a611-99e5d946296b"
    },
    {
      "cell_type": "raw",
      "metadata": {
        "raw_mimetype": "text/html"
      },
      "source": [
        "<td>"
      ],
      "id": "fef48c0d-3c2b-47ab-99f6-f5b201b300ce"
    },
    {
      "cell_type": "markdown",
      "metadata": {},
      "source": [
        "<a href=\"/wiki/Stade_Gaston-G%C3%A9rard\" title=\"Stade Gaston-Gérard\">Parc des Sports Gaston-Gérard</a>"
      ],
      "id": "92418762-1bdd-4f4e-8914-cbc34c6807dd"
    },
    {
      "cell_type": "raw",
      "metadata": {
        "raw_mimetype": "text/html"
      },
      "source": [
        "</td>"
      ],
      "id": "a6b80075-0523-460b-8653-88dabd4f4816"
    },
    {
      "cell_type": "raw",
      "metadata": {
        "raw_mimetype": "text/html"
      },
      "source": [
        "<td>"
      ],
      "id": "cf0ad662-d3ca-4883-8b49-8276382291c9"
    },
    {
      "cell_type": "markdown",
      "metadata": {},
      "source": [
        "15 459"
      ],
      "id": "934c692a-ae70-4efb-bbd7-2e343b3b3b8e"
    },
    {
      "cell_type": "raw",
      "metadata": {
        "raw_mimetype": "text/html"
      },
      "source": [
        "</td>"
      ],
      "id": "d571d073-2847-4829-a683-7a2bc1543f83"
    },
    {
      "cell_type": "raw",
      "metadata": {
        "raw_mimetype": "text/html"
      },
      "source": [
        "<td>"
      ],
      "id": "459c7cba-d34e-41dc-877d-5a1d713e3cc0"
    },
    {
      "cell_type": "markdown",
      "metadata": {},
      "source": [
        "4"
      ],
      "id": "f82b2bc1-cdc8-4970-8eda-8db4a42bed08"
    },
    {
      "cell_type": "raw",
      "metadata": {
        "raw_mimetype": "text/html"
      },
      "source": [
        "</td>"
      ],
      "id": "40c4a4b2-4a51-4628-926d-7f90e1eca60d"
    },
    {
      "cell_type": "raw",
      "metadata": {
        "raw_mimetype": "text/html"
      },
      "source": [
        "</tr>"
      ],
      "id": "7ecf5a11-facf-4f01-a647-5cb37e133cc5"
    },
    {
      "cell_type": "raw",
      "metadata": {
        "raw_mimetype": "text/html"
      },
      "source": [
        "<tr bgcolor=\"#a8fca8\">"
      ],
      "id": "ab38ab41-10f2-4822-a135-ff6a72ffe8bc"
    },
    {
      "cell_type": "raw",
      "metadata": {
        "raw_mimetype": "text/html"
      },
      "source": [
        "<td>"
      ],
      "id": "b04f0039-52e0-4705-b54a-718a2fa99a78"
    },
    {
      "cell_type": "markdown",
      "metadata": {},
      "source": [
        "<a href=\"/wiki/Football_Club_de_Metz\" title=\"Football Club de Metz\">FC Metz</a>"
      ],
      "id": "d67646c2-739f-4f40-b13b-0c7f7e494d11"
    },
    {
      "cell_type": "raw",
      "metadata": {
        "raw_mimetype": "text/html"
      },
      "source": [
        "</td>"
      ],
      "id": "aa4e1f08-b70e-48a4-9bc4-74fdc33b532b"
    },
    {
      "cell_type": "raw",
      "metadata": {
        "raw_mimetype": "text/html"
      },
      "source": [
        "<td>"
      ],
      "id": "fd955924-23d9-4984-8e09-ef486513bb71"
    },
    {
      "cell_type": "markdown",
      "metadata": {},
      "source": [
        "2019"
      ],
      "id": "b437e111-0f16-46bf-a5af-1391fd87fecb"
    },
    {
      "cell_type": "raw",
      "metadata": {
        "raw_mimetype": "text/html"
      },
      "source": [
        "</td>"
      ],
      "id": "08b39732-f247-4c25-a969-972b5cb8e027"
    },
    {
      "cell_type": "raw",
      "metadata": {
        "raw_mimetype": "text/html"
      },
      "source": [
        "<td>"
      ],
      "id": "cfbf89cd-1821-4fdd-8683-4564c0e148d1"
    },
    {
      "cell_type": "markdown",
      "metadata": {},
      "source": [
        "40"
      ],
      "id": "5c578159-6cd1-4c9f-b8ad-8e564c1e511a"
    },
    {
      "cell_type": "raw",
      "metadata": {
        "raw_mimetype": "text/html"
      },
      "source": [
        "</td>"
      ],
      "id": "7d9f8957-1ece-4bb2-81e7-8ae9cd474255"
    },
    {
      "cell_type": "raw",
      "metadata": {
        "raw_mimetype": "text/html"
      },
      "source": [
        "<td>"
      ],
      "id": "a934a482-82e1-428c-a206-0f964092fbb2"
    },
    {
      "cell_type": "markdown",
      "metadata": {},
      "source": [
        "<span data-sort-value=\"201 !\"></span><abbr class=\"abbr\" title=\"Premier\">1<sup>er</sup></abbr> (<a class=\"mw-redirect\" href=\"/wiki/Championnat_de_France_de_football_de_Ligue_2_2018-2019\" title=\"Championnat de France de football de Ligue 2 2018-2019\">Ligue 2</a>)"
      ],
      "id": "c5aff091-30f0-4c0b-a45e-78cde2cbfc3b"
    },
    {
      "cell_type": "raw",
      "metadata": {
        "raw_mimetype": "text/html"
      },
      "source": [
        "</td>"
      ],
      "id": "99284fd7-6df2-4a46-bed2-1caf37156f0a"
    },
    {
      "cell_type": "raw",
      "metadata": {
        "raw_mimetype": "text/html"
      },
      "source": [
        "<td align=\"left\">"
      ],
      "id": "53341600-6c05-452c-bb44-46e56bba55be"
    },
    {
      "cell_type": "markdown",
      "metadata": {},
      "source": [
        "<span class=\"flagicon\"><a class=\"image\" href=\"/wiki/Fichier:Flag_of_France.svg\" title=\"Drapeau : France\"><img alt=\"\" class=\"noviewer thumbborder\" data-file-height=\"600\" data-file-width=\"900\" decoding=\"async\" height=\"13\" src=\"//upload.wikimedia.org/wikipedia/commons/thumb/c/c3/Flag_of_France.svg/20px-Flag_of_France.svg.png\" srcset=\"//upload.wikimedia.org/wikipedia/commons/thumb/c/c3/Flag_of_France.svg/30px-Flag_of_France.svg.png 1.5x, //upload.wikimedia.org/wikipedia/commons/thumb/c/c3/Flag_of_France.svg/40px-Flag_of_France.svg.png 2x\" width=\"20\"/></a></span> <a href=\"/wiki/Vincent_Hognon\" title=\"Vincent Hognon\">Vincent Hognon</a>"
      ],
      "id": "733b2882-27d5-4934-aa06-dfcaee14d371"
    },
    {
      "cell_type": "raw",
      "metadata": {
        "raw_mimetype": "text/html"
      },
      "source": [
        "</td>"
      ],
      "id": "44a14be3-22ac-444c-b5dd-4523ea4615d7"
    },
    {
      "cell_type": "raw",
      "metadata": {
        "raw_mimetype": "text/html"
      },
      "source": [
        "<td>"
      ],
      "id": "b118449e-3170-4015-8c90-dbb81a616677"
    },
    {
      "cell_type": "markdown",
      "metadata": {},
      "source": [
        "2019"
      ],
      "id": "fbc816aa-4119-4c01-b22d-00d97069a369"
    },
    {
      "cell_type": "raw",
      "metadata": {
        "raw_mimetype": "text/html"
      },
      "source": [
        "</td>"
      ],
      "id": "f7b9bf0f-1419-4212-a554-3eb416997308"
    },
    {
      "cell_type": "raw",
      "metadata": {
        "raw_mimetype": "text/html"
      },
      "source": [
        "<td>"
      ],
      "id": "4baf435f-c4eb-465b-b156-949277f61ff1"
    },
    {
      "cell_type": "markdown",
      "metadata": {},
      "source": [
        "<a href=\"/wiki/Stade_Saint-Symphorien\" title=\"Stade Saint-Symphorien\">Stade Saint-Symphorien</a>"
      ],
      "id": "ef75668e-3a68-4be7-9ce6-a16d160fba49"
    },
    {
      "cell_type": "raw",
      "metadata": {
        "raw_mimetype": "text/html"
      },
      "source": [
        "</td>"
      ],
      "id": "7d3bb068-003c-4f38-a661-f5400cf8c7ad"
    },
    {
      "cell_type": "raw",
      "metadata": {
        "raw_mimetype": "text/html"
      },
      "source": [
        "<td>"
      ],
      "id": "40bcadcd-d348-476c-9593-768969c19d79"
    },
    {
      "cell_type": "markdown",
      "metadata": {},
      "source": [
        "25 865"
      ],
      "id": "ce7502f8-2781-4a00-b2b8-8dee9df2154a"
    },
    {
      "cell_type": "raw",
      "metadata": {
        "raw_mimetype": "text/html"
      },
      "source": [
        "</td>"
      ],
      "id": "0f40d33f-b1d9-470b-b670-e0289a092742"
    },
    {
      "cell_type": "raw",
      "metadata": {
        "raw_mimetype": "text/html"
      },
      "source": [
        "<td>"
      ],
      "id": "f7a015cc-4db7-4e62-b34f-0c58d6112cf6"
    },
    {
      "cell_type": "markdown",
      "metadata": {},
      "source": [
        "61"
      ],
      "id": "a5ece818-f990-4c71-8d83-723d170a3d82"
    },
    {
      "cell_type": "raw",
      "metadata": {
        "raw_mimetype": "text/html"
      },
      "source": [
        "</td>"
      ],
      "id": "d959a19f-1759-4c0c-9757-f7ba890c4a1b"
    },
    {
      "cell_type": "raw",
      "metadata": {
        "raw_mimetype": "text/html"
      },
      "source": [
        "</tr>"
      ],
      "id": "0229e82c-db35-45da-8055-19804140cdc2"
    },
    {
      "cell_type": "raw",
      "metadata": {
        "raw_mimetype": "text/html"
      },
      "source": [
        "<tr bgcolor=\"#a8fca8\">"
      ],
      "id": "90c21593-04cc-4bc8-8632-7dff351ee3a5"
    },
    {
      "cell_type": "raw",
      "metadata": {
        "raw_mimetype": "text/html"
      },
      "source": [
        "<td>"
      ],
      "id": "45ffb6b5-d1d5-4e1a-b21a-e134b08634b3"
    },
    {
      "cell_type": "markdown",
      "metadata": {},
      "source": [
        "<a href=\"/wiki/Stade_brestois_29\" title=\"Stade brestois 29\">Stade brestois 29</a>"
      ],
      "id": "50103d06-d34b-4df7-a180-c4b683df0dea"
    },
    {
      "cell_type": "raw",
      "metadata": {
        "raw_mimetype": "text/html"
      },
      "source": [
        "</td>"
      ],
      "id": "80673766-b0f0-4eaf-9c6f-fffc33b4887f"
    },
    {
      "cell_type": "raw",
      "metadata": {
        "raw_mimetype": "text/html"
      },
      "source": [
        "<td>"
      ],
      "id": "d570c616-e465-4967-873a-506aa2e8389e"
    },
    {
      "cell_type": "markdown",
      "metadata": {},
      "source": [
        "2019"
      ],
      "id": "509853b2-7d40-4bb3-a39c-a3238b0b5fc0"
    },
    {
      "cell_type": "raw",
      "metadata": {
        "raw_mimetype": "text/html"
      },
      "source": [
        "</td>"
      ],
      "id": "c94fdabd-0341-4741-aea7-6454d2a4aa15"
    },
    {
      "cell_type": "raw",
      "metadata": {
        "raw_mimetype": "text/html"
      },
      "source": [
        "<td>"
      ],
      "id": "0f60931d-db0d-46ba-bbf3-903f56ee9c90"
    },
    {
      "cell_type": "markdown",
      "metadata": {},
      "source": [
        "30"
      ],
      "id": "e1978e82-8fdc-40e0-a4be-3e6f390ee05b"
    },
    {
      "cell_type": "raw",
      "metadata": {
        "raw_mimetype": "text/html"
      },
      "source": [
        "</td>"
      ],
      "id": "b8c12a80-b51b-4cb9-82db-87e0f40d985b"
    },
    {
      "cell_type": "raw",
      "metadata": {
        "raw_mimetype": "text/html"
      },
      "source": [
        "<td>"
      ],
      "id": "617d88d6-2337-483c-8eb0-e2398ad91860"
    },
    {
      "cell_type": "markdown",
      "metadata": {},
      "source": [
        "<span data-sort-value=\"202 !\"></span><abbr class=\"abbr\" title=\"Deuxième\">2<sup>e</sup></abbr> (<a class=\"mw-redirect\" href=\"/wiki/Championnat_de_France_de_football_de_Ligue_2_2018-2019\" title=\"Championnat de France de football de Ligue 2 2018-2019\">Ligue 2</a>)"
      ],
      "id": "082b479f-cea3-4fbf-96fc-c316542acb1f"
    },
    {
      "cell_type": "raw",
      "metadata": {
        "raw_mimetype": "text/html"
      },
      "source": [
        "</td>"
      ],
      "id": "a439b627-09d3-43ae-8d14-df76d9bfff31"
    },
    {
      "cell_type": "raw",
      "metadata": {
        "raw_mimetype": "text/html"
      },
      "source": [
        "<td align=\"left\">"
      ],
      "id": "6f9792ec-fa57-40a8-ae36-094c85addcce"
    },
    {
      "cell_type": "markdown",
      "metadata": {},
      "source": [
        "<span class=\"flagicon\"><a class=\"image\" href=\"/wiki/Fichier:Flag_of_France.svg\" title=\"Drapeau : France\"><img alt=\"\" class=\"noviewer thumbborder\" data-file-height=\"600\" data-file-width=\"900\" decoding=\"async\" height=\"13\" src=\"//upload.wikimedia.org/wikipedia/commons/thumb/c/c3/Flag_of_France.svg/20px-Flag_of_France.svg.png\" srcset=\"//upload.wikimedia.org/wikipedia/commons/thumb/c/c3/Flag_of_France.svg/30px-Flag_of_France.svg.png 1.5x, //upload.wikimedia.org/wikipedia/commons/thumb/c/c3/Flag_of_France.svg/40px-Flag_of_France.svg.png 2x\" width=\"20\"/></a></span> <a href=\"/wiki/Olivier_Dall%27Oglio\" title=\"Olivier Dall'Oglio\">Olivier Dall’Oglio</a>"
      ],
      "id": "55f92b2a-da1e-4250-a091-10c04b894bbb"
    },
    {
      "cell_type": "raw",
      "metadata": {
        "raw_mimetype": "text/html"
      },
      "source": [
        "</td>"
      ],
      "id": "cc8df1ff-bc9c-4b6d-97fb-b51621405b1d"
    },
    {
      "cell_type": "raw",
      "metadata": {
        "raw_mimetype": "text/html"
      },
      "source": [
        "<td>"
      ],
      "id": "34c3290b-c291-42e1-a3a0-b68b13f71501"
    },
    {
      "cell_type": "markdown",
      "metadata": {},
      "source": [
        "2019"
      ],
      "id": "922fc6f1-b1f3-4324-a9f1-9c1d936c0f8e"
    },
    {
      "cell_type": "raw",
      "metadata": {
        "raw_mimetype": "text/html"
      },
      "source": [
        "</td>"
      ],
      "id": "a13b132a-cd94-48d0-a702-a55d0abae1a1"
    },
    {
      "cell_type": "raw",
      "metadata": {
        "raw_mimetype": "text/html"
      },
      "source": [
        "<td>"
      ],
      "id": "a8ab6eab-2e26-4e00-b86d-c52ffb9fc893"
    },
    {
      "cell_type": "markdown",
      "metadata": {},
      "source": [
        "<a href=\"/wiki/Stade_Francis-Le_Bl%C3%A9\" title=\"Stade Francis-Le Blé\">Stade Francis-Le Blé</a>"
      ],
      "id": "63269061-ee23-4c84-b247-6965470845c7"
    },
    {
      "cell_type": "raw",
      "metadata": {
        "raw_mimetype": "text/html"
      },
      "source": [
        "</td>"
      ],
      "id": "435e14be-d7a5-4ae1-9d72-0dd541dfae7c"
    },
    {
      "cell_type": "raw",
      "metadata": {
        "raw_mimetype": "text/html"
      },
      "source": [
        "<td>"
      ],
      "id": "8319ff5b-6774-4be5-bb92-638fb1792d40"
    },
    {
      "cell_type": "markdown",
      "metadata": {},
      "source": [
        "14 920"
      ],
      "id": "8149a362-fa1c-406a-89c5-a0f77b80dcf0"
    },
    {
      "cell_type": "raw",
      "metadata": {
        "raw_mimetype": "text/html"
      },
      "source": [
        "</td>"
      ],
      "id": "9075f8b5-c849-4a50-bc73-ec78aa63031a"
    },
    {
      "cell_type": "raw",
      "metadata": {
        "raw_mimetype": "text/html"
      },
      "source": [
        "<td>"
      ],
      "id": "0d47f114-2839-4c21-ae02-8c13bfe1bc38"
    },
    {
      "cell_type": "markdown",
      "metadata": {},
      "source": [
        "13"
      ],
      "id": "1b03c11e-564f-4de5-a16d-7070599a7f8a"
    },
    {
      "cell_type": "raw",
      "metadata": {
        "raw_mimetype": "text/html"
      },
      "source": [
        "</td>"
      ],
      "id": "4777de82-484b-4909-8917-d94a210959b4"
    },
    {
      "cell_type": "raw",
      "metadata": {
        "raw_mimetype": "text/html"
      },
      "source": [
        "</tr>"
      ],
      "id": "6c0c39ee-8e10-4101-b280-e53b4d093b3a"
    },
    {
      "cell_type": "raw",
      "metadata": {
        "raw_mimetype": "text/html"
      },
      "source": [
        "</tbody>"
      ],
      "id": "6a83eabc-ec5f-4bc6-a7ab-764555666347"
    },
    {
      "cell_type": "raw",
      "metadata": {
        "raw_mimetype": "text/html"
      },
      "source": [
        "</table>"
      ],
      "id": "16da282e-e4f9-435b-a0ed-feaf01373fbc"
    },
    {
      "cell_type": "markdown",
      "metadata": {},
      "source": [
        ":two:\n",
        "Récupérer chaque ligne du tableau"
      ],
      "id": "dd2983b6-ae13-427f-87a7-b389802f8a0a"
    },
    {
      "cell_type": "code",
      "execution_count": 11,
      "metadata": {},
      "outputs": [
        {
          "output_type": "stream",
          "name": "stdout",
          "text": [
            "<tr>\n",
            "<th scope=\"col\">Club\n",
            "</th>\n",
            "<th scope=\"col\">Dernière<br/>montée\n",
            "</th>\n",
            "<th scope=\"col\">Budget<sup class=\"reference\" id=\"cite_ref-3\"><a href=\"#cite_note-3\"><span class=\"cite_crochet\">[</span>3<span class=\"cite_crochet\">]</span></a></sup><br/>en M<a href=\"/wiki/Euro\" title=\"Euro\">€</a>\n",
            "</th>\n",
            "<th scope=\"col\">Classement<br/><a href=\"/wiki/Championnat_de_France_de_football_2018-2019\" title=\"Championnat de France de football 2018-2019\">2018-2019</a>\n",
            "</th>\n",
            "<th scope=\"col\">Entraîneur\n",
            "</th>\n",
            "<th scope=\"col\">Depuis\n",
            "</th>\n",
            "<th scope=\"col\">Stade\n",
            "</th>\n",
            "<th scope=\"col\">Capacité<br/>en L1<sup class=\"reference\" id=\"cite_ref-4\"><a href=\"#cite_note-4\"><span class=\"cite_crochet\">[</span>4<span class=\"cite_crochet\">]</span></a></sup>\n",
            "</th>\n",
            "<th scope=\"col\">Nombre<br/>de saisons<br/>en L1\n",
            "</th></tr>"
          ]
        }
      ],
      "source": [
        "table_body = tableau_participants.find('tbody')\n",
        "\n",
        "# on recherche toutes les lignes du tableau avec la balise \"tr\"\n",
        "rows = table_body.find_all('tr')\n",
        "\n",
        "# on obtient une liste où chaque élément est une des lignes du tableau\n",
        "\n",
        "# par exemple la première ligne va correspondre aux entêtes de colonne\n",
        "print(rows[0])"
      ],
      "id": "61a40f20-26e0-409c-8d02-9b73141bb356"
    },
    {
      "cell_type": "code",
      "execution_count": 12,
      "metadata": {},
      "outputs": [
        {
          "output_type": "stream",
          "name": "stdout",
          "text": [
            "<tr bgcolor=\"#97DEFF\">\n",
            "<td><a href=\"/wiki/Paris_Saint-Germain_Football_Club\" title=\"Paris Saint-Germain Football Club\">Paris Saint-Germain</a>\n",
            "</td>\n",
            "<td>1974\n",
            "</td>\n",
            "<td>637\n",
            "</td>\n",
            "<td><span data-sort-value=\"101 !\"></span><abbr class=\"abbr\" title=\"Premier\">1<sup>er</sup></abbr>\n",
            "</td>\n",
            "<td align=\"left\"><span class=\"flagicon\"><a class=\"image\" href=\"/wiki/Fichier:Flag_of_Germany.svg\" title=\"Drapeau : Allemagne\"><img alt=\"\" class=\"noviewer thumbborder\" data-file-height=\"600\" data-file-width=\"1000\" decoding=\"async\" height=\"12\" src=\"//upload.wikimedia.org/wikipedia/commons/thumb/b/ba/Flag_of_Germany.svg/20px-Flag_of_Germany.svg.png\" srcset=\"//upload.wikimedia.org/wikipedia/commons/thumb/b/ba/Flag_of_Germany.svg/30px-Flag_of_Germany.svg.png 1.5x, //upload.wikimedia.org/wikipedia/commons/thumb/b/ba/Flag_of_Germany.svg/40px-Flag_of_Germany.svg.png 2x\" width=\"20\"/></a></span> <a href=\"/wiki/Thomas_Tuchel\" title=\"Thomas Tuchel\">Thomas Tuchel</a>\n",
            "</td>\n",
            "<td>2018\n",
            "</td>\n",
            "<td><a href=\"/wiki/Parc_des_Princes\" title=\"Parc des Princes\">Parc des Princes</a>\n",
            "</td>\n",
            "<td>47 929\n",
            "</td>\n",
            "<td>46\n",
            "</td></tr>"
          ]
        }
      ],
      "source": [
        "# par exemple la seconde ligne va correspondre à la ligne du premier club présent dans le tableau\n",
        "\n",
        "print(rows[1])"
      ],
      "id": "cb14a311-3ee1-45fb-99e2-225c310bec6a"
    },
    {
      "cell_type": "markdown",
      "metadata": {},
      "source": [
        ":three:\n",
        "Nettoyer les sorties en ne gardant que le texte sur une ligne\n",
        "\n",
        "On va utiliser l’attribut `text` afin de se débarasser de toute la couche de HTML qu’on obtient à l’étape 2.\n",
        "\n",
        "Un exemple sur la ligne du premier club :\n",
        "- on commence par prendre toutes les cellules de cette ligne, avec la balise `td`.\n",
        "- on fait ensuite une boucle sur chacune des cellules et on ne garde que le texte de la cellule avec l’attribut `text`.\n",
        "- enfin, on applique la méthode `strip()` pour que le texte soit bien mis en forme (sans espace inutile etc)."
      ],
      "id": "a9d21ab5-2c42-4ebf-a092-ae2f80a73ddb"
    },
    {
      "cell_type": "code",
      "execution_count": 13,
      "metadata": {},
      "outputs": [
        {
          "output_type": "stream",
          "name": "stdout",
          "text": [
            "<td><a href=\"/wiki/Paris_Saint-Germain_Football_Club\" title=\"Paris Saint-Germain Football Club\">Paris Saint-Germain</a>\n",
            "</td>\n",
            "Paris Saint-Germain"
          ]
        }
      ],
      "source": [
        "cols = rows[1].find_all('td')\n",
        "print(cols[0])\n",
        "print(cols[0].text.strip())"
      ],
      "id": "b55b56cd-0c93-47df-80d5-ab3283d654f1"
    },
    {
      "cell_type": "code",
      "execution_count": 14,
      "metadata": {},
      "outputs": [
        {
          "output_type": "stream",
          "name": "stdout",
          "text": [
            "Paris Saint-Germain\n",
            "1974\n",
            "637\n",
            "1er\n",
            "Thomas Tuchel\n",
            "2018\n",
            "Parc des Princes\n",
            "47 929\n",
            "46"
          ]
        }
      ],
      "source": [
        "for ele in cols : \n",
        "    print(ele.text.strip())"
      ],
      "id": "6b040e0f-2d7c-4dcf-93ea-e9fd303d5f41"
    },
    {
      "cell_type": "markdown",
      "metadata": {},
      "source": [
        ":four:\n",
        "Généraliser sur toutes les lignes"
      ],
      "id": "b0f2b8ae-ae32-4499-b3cc-d759818c1a98"
    },
    {
      "cell_type": "code",
      "execution_count": 15,
      "metadata": {},
      "outputs": [
        {
          "output_type": "stream",
          "name": "stdout",
          "text": [
            "[]\n",
            "['Paris Saint-Germain', '1974', '637', '1er', 'Thomas Tuchel', '2018', 'Parc des Princes', '47\\xa0929', '46']\n",
            "['LOSC Lille', '2000', '120', '2e', 'Christophe Galtier', '2017', 'Stade Pierre-Mauroy', '49\\xa0712', '59']\n",
            "['Olympique lyonnais', '1989', '310', '3e', 'Rudi Garcia', '2019', 'Groupama Stadium', '57\\xa0206', '60']\n",
            "['AS Saint-Étienne', '2004', '100', '4e', 'Claude Puel', '2019', 'Stade Geoffroy-Guichard', '41\\xa0965', '66']\n",
            "['Olympique de Marseille', '1996', '110', '5e', 'André Villas-Boas', '2019', 'Orange Vélodrome', '66\\xa0226', '69']\n",
            "['Montpellier HSC', '2009', '40', '6e', 'Michel Der Zakarian', '2017', 'Stade de la Mosson', '22\\xa0000', '27']\n",
            "['OGC Nice', '2002', '50', '7e', 'Patrick Vieira', '2018', 'Allianz Riviera', '35\\xa0596', '60']\n",
            "['Stade de Reims', '2018', '45', '8e', 'David Guion', '2017', 'Stade Auguste-Delaune', '20\\xa0546', '35']\n",
            "['Nîmes Olympique', '2018', '27', '9e', 'Bernard Blaquart', '2015', 'Stade des Costières', '15\\xa0788', '35']\n",
            "['Stade rennais FC', '1994', '65', '10e', 'Julien Stéphan', '2018', 'Roazhon Park', '29\\xa0194', '62']\n",
            "['RC Strasbourg Alsace', '2017', '43', '11e', 'Thierry Laurey', '2016', 'Stade de la Meinau', '26\\xa0109', '58']\n",
            "['FC Nantes', '2013', '70', '12e', 'Christian Gourcuff', '2019', 'Stade de la Beaujoire - Louis Fonteneau', '35\\xa0322', '51']\n",
            "['SCO d’Angers', '2015', '32', '13e', 'Stéphane Moulin', '2011', 'Stade Raymond-Kopa', '14\\xa0582', '27']\n",
            "['Girondins de Bordeaux', '1992', '70', '14e', 'Paulo Sousa', '2019', 'Matmut Atlantique', '42\\xa0115', '66']\n",
            "['Amiens SC', '2017', '30', '15e', 'Luka Elsner', '2019', 'Stade Crédit Agricole la Licorne', '12\\xa0999', '2']\n",
            "['Toulouse FC', '2003', '35', '16e', 'Denis Zanko', '2020', 'Stadium de Toulouse', '33\\xa0033', '32']\n",
            "['AS Monaco', '2013', '220', '17e', 'Robert Moreno', '2019', 'Stade Louis-II', '16\\xa0500', '60']\n",
            "['Dijon FCO', '2016', '38', '18e', 'Stéphane Jobard', '2019', 'Parc des Sports Gaston-Gérard', '15\\xa0459', '4']\n",
            "['FC Metz', '2019', '40', '1er (Ligue 2)', 'Vincent Hognon', '2019', 'Stade Saint-Symphorien', '25\\xa0865', '61']\n",
            "['Stade brestois 29', '2019', '30', '2e (Ligue 2)', \"Olivier Dall'Oglio\", '2019', 'Stade Francis-Le Blé', '14\\xa0920', '13']"
          ]
        }
      ],
      "source": [
        "for row in rows:\n",
        "    cols = row.find_all('td')\n",
        "    cols = [ele.text.strip() for ele in cols]\n",
        "    print(cols)"
      ],
      "id": "bd008ac4-9cae-4ada-9600-1d33d0654035"
    },
    {
      "cell_type": "markdown",
      "metadata": {},
      "source": [
        "On a bien réussi à avoir les informations contenues dans le tableau des participants du championnat.\n",
        "Mais la première ligne est étrange : c’est une liste vide …\n",
        "\n",
        "Il s’agit des en-têtes : elles sont reconnues par la balise `th` et non `td`.\n",
        "\n",
        "On va mettre tout le contenu dans un dictionnaire, pour le transformer ensuite en DataFrame pandas :"
      ],
      "id": "446d25bc-4d43-4646-8057-2f7f38188a5c"
    },
    {
      "cell_type": "code",
      "execution_count": 16,
      "metadata": {},
      "outputs": [
        {
          "output_type": "display_data",
          "metadata": {},
          "data": {
            "text/plain": [
              "{'Paris Saint-Germain': ['1974',\n",
              "  '637',\n",
              "  '1er',\n",
              "  'Thomas Tuchel',\n",
              "  '2018',\n",
              "  'Parc des Princes',\n",
              "  '47\\xa0929',\n",
              "  '46'],\n",
              " 'LOSC Lille': ['2000',\n",
              "  '120',\n",
              "  '2e',\n",
              "  'Christophe Galtier',\n",
              "  '2017',\n",
              "  'Stade Pierre-Mauroy',\n",
              "  '49\\xa0712',\n",
              "  '59'],\n",
              " 'Olympique lyonnais': ['1989',\n",
              "  '310',\n",
              "  '3e',\n",
              "  'Rudi Garcia',\n",
              "  '2019',\n",
              "  'Groupama Stadium',\n",
              "  '57\\xa0206',\n",
              "  '60'],\n",
              " 'AS Saint-Étienne': ['2004',\n",
              "  '100',\n",
              "  '4e',\n",
              "  'Claude Puel',\n",
              "  '2019',\n",
              "  'Stade Geoffroy-Guichard',\n",
              "  '41\\xa0965',\n",
              "  '66'],\n",
              " 'Olympique de Marseille': ['1996',\n",
              "  '110',\n",
              "  '5e',\n",
              "  'André Villas-Boas',\n",
              "  '2019',\n",
              "  'Orange Vélodrome',\n",
              "  '66\\xa0226',\n",
              "  '69'],\n",
              " 'Montpellier HSC': ['2009',\n",
              "  '40',\n",
              "  '6e',\n",
              "  'Michel Der Zakarian',\n",
              "  '2017',\n",
              "  'Stade de la Mosson',\n",
              "  '22\\xa0000',\n",
              "  '27'],\n",
              " 'OGC Nice': ['2002',\n",
              "  '50',\n",
              "  '7e',\n",
              "  'Patrick Vieira',\n",
              "  '2018',\n",
              "  'Allianz Riviera',\n",
              "  '35\\xa0596',\n",
              "  '60'],\n",
              " 'Stade de Reims': ['2018',\n",
              "  '45',\n",
              "  '8e',\n",
              "  'David Guion',\n",
              "  '2017',\n",
              "  'Stade Auguste-Delaune',\n",
              "  '20\\xa0546',\n",
              "  '35'],\n",
              " 'Nîmes Olympique': ['2018',\n",
              "  '27',\n",
              "  '9e',\n",
              "  'Bernard Blaquart',\n",
              "  '2015',\n",
              "  'Stade des Costières',\n",
              "  '15\\xa0788',\n",
              "  '35'],\n",
              " 'Stade rennais FC': ['1994',\n",
              "  '65',\n",
              "  '10e',\n",
              "  'Julien Stéphan',\n",
              "  '2018',\n",
              "  'Roazhon Park',\n",
              "  '29\\xa0194',\n",
              "  '62'],\n",
              " 'RC Strasbourg Alsace': ['2017',\n",
              "  '43',\n",
              "  '11e',\n",
              "  'Thierry Laurey',\n",
              "  '2016',\n",
              "  'Stade de la Meinau',\n",
              "  '26\\xa0109',\n",
              "  '58'],\n",
              " 'FC Nantes': ['2013',\n",
              "  '70',\n",
              "  '12e',\n",
              "  'Christian Gourcuff',\n",
              "  '2019',\n",
              "  'Stade de la Beaujoire - Louis Fonteneau',\n",
              "  '35\\xa0322',\n",
              "  '51'],\n",
              " 'SCO d’Angers': ['2015',\n",
              "  '32',\n",
              "  '13e',\n",
              "  'Stéphane Moulin',\n",
              "  '2011',\n",
              "  'Stade Raymond-Kopa',\n",
              "  '14\\xa0582',\n",
              "  '27'],\n",
              " 'Girondins de Bordeaux': ['1992',\n",
              "  '70',\n",
              "  '14e',\n",
              "  'Paulo Sousa',\n",
              "  '2019',\n",
              "  'Matmut Atlantique',\n",
              "  '42\\xa0115',\n",
              "  '66'],\n",
              " 'Amiens SC': ['2017',\n",
              "  '30',\n",
              "  '15e',\n",
              "  'Luka Elsner',\n",
              "  '2019',\n",
              "  'Stade Crédit Agricole la Licorne',\n",
              "  '12\\xa0999',\n",
              "  '2'],\n",
              " 'Toulouse FC': ['2003',\n",
              "  '35',\n",
              "  '16e',\n",
              "  'Denis Zanko',\n",
              "  '2020',\n",
              "  'Stadium de Toulouse',\n",
              "  '33\\xa0033',\n",
              "  '32'],\n",
              " 'AS Monaco': ['2013',\n",
              "  '220',\n",
              "  '17e',\n",
              "  'Robert Moreno',\n",
              "  '2019',\n",
              "  'Stade Louis-II',\n",
              "  '16\\xa0500',\n",
              "  '60'],\n",
              " 'Dijon FCO': ['2016',\n",
              "  '38',\n",
              "  '18e',\n",
              "  'Stéphane Jobard',\n",
              "  '2019',\n",
              "  'Parc des Sports Gaston-Gérard',\n",
              "  '15\\xa0459',\n",
              "  '4'],\n",
              " 'FC Metz': ['2019',\n",
              "  '40',\n",
              "  '1er (Ligue 2)',\n",
              "  'Vincent Hognon',\n",
              "  '2019',\n",
              "  'Stade Saint-Symphorien',\n",
              "  '25\\xa0865',\n",
              "  '61'],\n",
              " 'Stade brestois 29': ['2019',\n",
              "  '30',\n",
              "  '2e (Ligue 2)',\n",
              "  \"Olivier Dall'Oglio\",\n",
              "  '2019',\n",
              "  'Stade Francis-Le Blé',\n",
              "  '14\\xa0920',\n",
              "  '13']}"
            ]
          }
        }
      ],
      "source": [
        "dico_participants = dict()\n",
        "for row in rows:\n",
        "    cols = row.find_all('td')\n",
        "    cols = [ele.text.strip() for ele in cols]\n",
        "    if len(cols) > 0 : \n",
        "        dico_participants[cols[0]] = cols[1:]\n",
        "dico_participants"
      ],
      "id": "b56bb6a8-2877-4659-ab0b-746b6b6ec0f4"
    },
    {
      "cell_type": "code",
      "execution_count": 17,
      "metadata": {},
      "outputs": [
        {
          "output_type": "display_data",
          "metadata": {},
          "data": {
            "text/html": [
              "<div>\n",
              "<style scoped>\n",
              "    .dataframe tbody tr th:only-of-type {\n",
              "        vertical-align: middle;\n",
              "    }\n",
              "\n",
              "    .dataframe tbody tr th {\n",
              "        vertical-align: top;\n",
              "    }\n",
              "\n",
              "    .dataframe thead th {\n",
              "        text-align: right;\n",
              "    }\n",
              "</style>\n",
              "<table border=\"1\" class=\"dataframe\">\n",
              "  <thead>\n",
              "    <tr style=\"text-align: right;\">\n",
              "      <th></th>\n",
              "      <th>0</th>\n",
              "      <th>1</th>\n",
              "      <th>2</th>\n",
              "      <th>3</th>\n",
              "      <th>4</th>\n",
              "      <th>5</th>\n",
              "      <th>6</th>\n",
              "      <th>7</th>\n",
              "    </tr>\n",
              "  </thead>\n",
              "  <tbody>\n",
              "    <tr>\n",
              "      <th>Paris Saint-Germain</th>\n",
              "      <td>1974</td>\n",
              "      <td>637</td>\n",
              "      <td>1er</td>\n",
              "      <td>Thomas Tuchel</td>\n",
              "      <td>2018</td>\n",
              "      <td>Parc des Princes</td>\n",
              "      <td>47 929</td>\n",
              "      <td>46</td>\n",
              "    </tr>\n",
              "    <tr>\n",
              "      <th>LOSC Lille</th>\n",
              "      <td>2000</td>\n",
              "      <td>120</td>\n",
              "      <td>2e</td>\n",
              "      <td>Christophe Galtier</td>\n",
              "      <td>2017</td>\n",
              "      <td>Stade Pierre-Mauroy</td>\n",
              "      <td>49 712</td>\n",
              "      <td>59</td>\n",
              "    </tr>\n",
              "    <tr>\n",
              "      <th>Olympique lyonnais</th>\n",
              "      <td>1989</td>\n",
              "      <td>310</td>\n",
              "      <td>3e</td>\n",
              "      <td>Rudi Garcia</td>\n",
              "      <td>2019</td>\n",
              "      <td>Groupama Stadium</td>\n",
              "      <td>57 206</td>\n",
              "      <td>60</td>\n",
              "    </tr>\n",
              "    <tr>\n",
              "      <th>AS Saint-Étienne</th>\n",
              "      <td>2004</td>\n",
              "      <td>100</td>\n",
              "      <td>4e</td>\n",
              "      <td>Claude Puel</td>\n",
              "      <td>2019</td>\n",
              "      <td>Stade Geoffroy-Guichard</td>\n",
              "      <td>41 965</td>\n",
              "      <td>66</td>\n",
              "    </tr>\n",
              "    <tr>\n",
              "      <th>Olympique de Marseille</th>\n",
              "      <td>1996</td>\n",
              "      <td>110</td>\n",
              "      <td>5e</td>\n",
              "      <td>André Villas-Boas</td>\n",
              "      <td>2019</td>\n",
              "      <td>Orange Vélodrome</td>\n",
              "      <td>66 226</td>\n",
              "      <td>69</td>\n",
              "    </tr>\n",
              "  </tbody>\n",
              "</table>\n",
              "</div>"
            ]
          }
        }
      ],
      "source": [
        "data_participants = pandas.DataFrame.from_dict(dico_participants,orient='index')\n",
        "data_participants.head()"
      ],
      "id": "1f578f68-d66d-411e-83b7-3e7b3d21898c"
    },
    {
      "cell_type": "markdown",
      "metadata": {},
      "source": [
        ":five:\n",
        "Récupérer les entêtes du tableau"
      ],
      "id": "fc7660cf-967a-4227-89de-4229cb1e7097"
    },
    {
      "cell_type": "code",
      "execution_count": 18,
      "metadata": {},
      "outputs": [
        {
          "output_type": "stream",
          "name": "stdout",
          "text": [
            "[<th scope=\"col\">Club\n",
            "</th>, <th scope=\"col\">Dernière<br/>montée\n",
            "</th>, <th scope=\"col\">Budget<sup class=\"reference\" id=\"cite_ref-3\"><a href=\"#cite_note-3\"><span class=\"cite_crochet\">[</span>3<span class=\"cite_crochet\">]</span></a></sup><br/>en M<a href=\"/wiki/Euro\" title=\"Euro\">€</a>\n",
            "</th>, <th scope=\"col\">Classement<br/><a href=\"/wiki/Championnat_de_France_de_football_2018-2019\" title=\"Championnat de France de football 2018-2019\">2018-2019</a>\n",
            "</th>, <th scope=\"col\">Entraîneur\n",
            "</th>, <th scope=\"col\">Depuis\n",
            "</th>, <th scope=\"col\">Stade\n",
            "</th>, <th scope=\"col\">Capacité<br/>en L1<sup class=\"reference\" id=\"cite_ref-4\"><a href=\"#cite_note-4\"><span class=\"cite_crochet\">[</span>4<span class=\"cite_crochet\">]</span></a></sup>\n",
            "</th>, <th scope=\"col\">Nombre<br/>de saisons<br/>en L1\n",
            "</th>]\n",
            "[]\n",
            "[]\n",
            "[]\n",
            "[]\n",
            "[]\n",
            "[]\n",
            "[]\n",
            "[]\n",
            "[]\n",
            "[]\n",
            "[]\n",
            "[]\n",
            "[]\n",
            "[]\n",
            "[]\n",
            "[]\n",
            "[]\n",
            "[]\n",
            "[]\n",
            "[]"
          ]
        }
      ],
      "source": [
        "for row in rows:\n",
        "    cols = row.find_all('th')\n",
        "    print(cols)\n",
        "    if len(cols) > 0 : \n",
        "        cols = [ele.get_text(separator=' ').strip().title() for ele in cols]\n",
        "        columns_participants = cols"
      ],
      "id": "e3497d51-f070-4a65-ae17-257c89730a2e"
    },
    {
      "cell_type": "code",
      "execution_count": 19,
      "metadata": {},
      "outputs": [
        {
          "output_type": "display_data",
          "metadata": {},
          "data": {
            "text/plain": [
              "['Club',\n",
              " 'Dernière Montée',\n",
              " 'Budget [ 3 ] En M €',\n",
              " 'Classement 2018-2019',\n",
              " 'Entraîneur',\n",
              " 'Depuis',\n",
              " 'Stade',\n",
              " 'Capacité En L1 [ 4 ]',\n",
              " 'Nombre De Saisons En L1']"
            ]
          }
        }
      ],
      "source": [
        "columns_participants"
      ],
      "id": "6e4238e1-6b7a-4442-8827-db7cc8bdd99e"
    },
    {
      "cell_type": "markdown",
      "metadata": {},
      "source": [
        ":six: Finalisation du tableau"
      ],
      "id": "45bdbb6f-05d4-4d3c-ae88-83da60b00ce7"
    },
    {
      "cell_type": "code",
      "execution_count": 21,
      "metadata": {},
      "outputs": [],
      "source": [
        "data_participants.columns = columns_participants[1:]"
      ],
      "id": "57c8560e-a6c6-4c3b-9145-39fdb22f0c27"
    },
    {
      "cell_type": "code",
      "execution_count": 22,
      "metadata": {},
      "outputs": [
        {
          "output_type": "display_data",
          "metadata": {},
          "data": {
            "text/html": [
              "<div>\n",
              "<style scoped>\n",
              "    .dataframe tbody tr th:only-of-type {\n",
              "        vertical-align: middle;\n",
              "    }\n",
              "\n",
              "    .dataframe tbody tr th {\n",
              "        vertical-align: top;\n",
              "    }\n",
              "\n",
              "    .dataframe thead th {\n",
              "        text-align: right;\n",
              "    }\n",
              "</style>\n",
              "<table border=\"1\" class=\"dataframe\">\n",
              "  <thead>\n",
              "    <tr style=\"text-align: right;\">\n",
              "      <th></th>\n",
              "      <th>Dernière Montée</th>\n",
              "      <th>Budget [ 3 ] En M €</th>\n",
              "      <th>Classement 2018-2019</th>\n",
              "      <th>Entraîneur</th>\n",
              "      <th>Depuis</th>\n",
              "      <th>Stade</th>\n",
              "      <th>Capacité En L1 [ 4 ]</th>\n",
              "      <th>Nombre De Saisons En L1</th>\n",
              "    </tr>\n",
              "  </thead>\n",
              "  <tbody>\n",
              "    <tr>\n",
              "      <th>Paris Saint-Germain</th>\n",
              "      <td>1974</td>\n",
              "      <td>637</td>\n",
              "      <td>1er</td>\n",
              "      <td>Thomas Tuchel</td>\n",
              "      <td>2018</td>\n",
              "      <td>Parc des Princes</td>\n",
              "      <td>47 929</td>\n",
              "      <td>46</td>\n",
              "    </tr>\n",
              "    <tr>\n",
              "      <th>LOSC Lille</th>\n",
              "      <td>2000</td>\n",
              "      <td>120</td>\n",
              "      <td>2e</td>\n",
              "      <td>Christophe Galtier</td>\n",
              "      <td>2017</td>\n",
              "      <td>Stade Pierre-Mauroy</td>\n",
              "      <td>49 712</td>\n",
              "      <td>59</td>\n",
              "    </tr>\n",
              "    <tr>\n",
              "      <th>Olympique lyonnais</th>\n",
              "      <td>1989</td>\n",
              "      <td>310</td>\n",
              "      <td>3e</td>\n",
              "      <td>Rudi Garcia</td>\n",
              "      <td>2019</td>\n",
              "      <td>Groupama Stadium</td>\n",
              "      <td>57 206</td>\n",
              "      <td>60</td>\n",
              "    </tr>\n",
              "    <tr>\n",
              "      <th>AS Saint-Étienne</th>\n",
              "      <td>2004</td>\n",
              "      <td>100</td>\n",
              "      <td>4e</td>\n",
              "      <td>Claude Puel</td>\n",
              "      <td>2019</td>\n",
              "      <td>Stade Geoffroy-Guichard</td>\n",
              "      <td>41 965</td>\n",
              "      <td>66</td>\n",
              "    </tr>\n",
              "    <tr>\n",
              "      <th>Olympique de Marseille</th>\n",
              "      <td>1996</td>\n",
              "      <td>110</td>\n",
              "      <td>5e</td>\n",
              "      <td>André Villas-Boas</td>\n",
              "      <td>2019</td>\n",
              "      <td>Orange Vélodrome</td>\n",
              "      <td>66 226</td>\n",
              "      <td>69</td>\n",
              "    </tr>\n",
              "  </tbody>\n",
              "</table>\n",
              "</div>"
            ]
          }
        }
      ],
      "source": [
        "data_participants.head()"
      ],
      "id": "c6ff1278-06f8-4674-966a-57cb97433c00"
    },
    {
      "cell_type": "markdown",
      "metadata": {},
      "source": [
        "## Pour aller plus loin\n",
        "\n",
        "### Récupération des localisations des stades\n",
        "\n",
        "Essayez de comprendre pas à pas ce qui est fait dans les étapes qui suivent (la récupération d’informations supplémentaires en naviguant dans les pages des différents clubs)."
      ],
      "id": "857c528e-0478-4bef-a3a2-5dd6ae816469"
    },
    {
      "cell_type": "code",
      "execution_count": 23,
      "metadata": {},
      "outputs": [
        {
          "output_type": "stream",
          "name": "stdout",
          "text": [
            "http://fr.wikipedia.org/wiki/Championnat_de_France_de_football_2019-2020"
          ]
        },
        {
          "output_type": "stream",
          "name": "stdout",
          "text": [
            "http://fr.wikipedia.org/wiki/Paris_Saint-Germain_Football_Club"
          ]
        },
        {
          "output_type": "stream",
          "name": "stdout",
          "text": [
            "http://fr.wikipedia.org/wiki/Parc_des_Princes"
          ]
        },
        {
          "output_type": "stream",
          "name": "stdout",
          "text": [
            "48° 50′ 29″ N, 2° 15′ 11″ E\n",
            "http://fr.wikipedia.org/wiki/LOSC_Lille"
          ]
        },
        {
          "output_type": "stream",
          "name": "stdout",
          "text": [
            "http://fr.wikipedia.org/wiki/Stade_Pierre-Mauroy"
          ]
        },
        {
          "output_type": "stream",
          "name": "stdout",
          "text": [
            "50° 36′ 43″ N, 3° 07′ 50″ E\n",
            "http://fr.wikipedia.org/wiki/Olympique_lyonnais"
          ]
        },
        {
          "output_type": "stream",
          "name": "stdout",
          "text": [
            "http://fr.wikipedia.org/wiki/Parc_Olympique_lyonnais"
          ]
        },
        {
          "output_type": "stream",
          "name": "stdout",
          "text": [
            "45° 45′ 55″ N, 4° 58′ 55″ E\n",
            "http://fr.wikipedia.org/wiki/Association_sportive_de_Saint-%C3%89tienne"
          ]
        },
        {
          "output_type": "stream",
          "name": "stdout",
          "text": [
            "http://fr.wikipedia.org/wiki/Stade_Geoffroy-Guichard"
          ]
        },
        {
          "output_type": "stream",
          "name": "stdout",
          "text": [
            "45° 27′ 39″ N, 4° 23′ 25″ E\n",
            "http://fr.wikipedia.org/wiki/Olympique_de_Marseille"
          ]
        },
        {
          "output_type": "stream",
          "name": "stdout",
          "text": [
            "http://fr.wikipedia.org/wiki/Orange_V%C3%A9lodrome"
          ]
        },
        {
          "output_type": "stream",
          "name": "stdout",
          "text": [
            "43° 16′ 11″ N, 5° 23′ 45″ E\n",
            "http://fr.wikipedia.org/wiki/Montpellier_H%C3%A9rault_Sport_Club"
          ]
        },
        {
          "output_type": "stream",
          "name": "stdout",
          "text": [
            "http://fr.wikipedia.org/wiki/Stade_de_la_Mosson"
          ]
        },
        {
          "output_type": "stream",
          "name": "stdout",
          "text": [
            "43° 37′ 19″ N, 3° 48′ 44″ E\n",
            "http://fr.wikipedia.org/wiki/Stade_de_Reims"
          ]
        },
        {
          "output_type": "stream",
          "name": "stdout",
          "text": [
            "http://fr.wikipedia.org/wiki/Stade_Auguste-Delaune"
          ]
        },
        {
          "output_type": "stream",
          "name": "stdout",
          "text": [
            "49° 14′ 48″ N, 4° 01′ 30″ E\n",
            "http://fr.wikipedia.org/wiki/Olympique_Gymnaste_Club_Nice"
          ]
        },
        {
          "output_type": "stream",
          "name": "stdout",
          "text": [
            "http://fr.wikipedia.org/wiki/Allianz_Riviera"
          ]
        },
        {
          "output_type": "stream",
          "name": "stdout",
          "text": [
            "43° 42′ 18″ N, 7° 11′ 33″ E\n",
            "http://fr.wikipedia.org/wiki/N%C3%AEmes_Olympique"
          ]
        },
        {
          "output_type": "stream",
          "name": "stdout",
          "text": [
            "http://fr.wikipedia.org/wiki/Stade_des_Costi%C3%A8res"
          ]
        },
        {
          "output_type": "stream",
          "name": "stdout",
          "text": [
            "43° 48′ 58″ N, 4° 21′ 33″ E\n",
            "http://fr.wikipedia.org/wiki/Racing_Club_de_Strasbourg_Alsace"
          ]
        },
        {
          "output_type": "stream",
          "name": "stdout",
          "text": [
            "http://fr.wikipedia.org/wiki/Stade_de_la_Meinau"
          ]
        },
        {
          "output_type": "stream",
          "name": "stdout",
          "text": [
            "48° 33′ 36″ N, 7° 45′ 18″ E\n",
            "http://fr.wikipedia.org/wiki/Stade_rennais_Football_Club"
          ]
        },
        {
          "output_type": "stream",
          "name": "stdout",
          "text": [
            "http://fr.wikipedia.org/wiki/Roazhon_Park"
          ]
        },
        {
          "output_type": "stream",
          "name": "stdout",
          "text": [
            "48° 06′ 27″ N, 1° 42′ 46″ O\n",
            "http://fr.wikipedia.org/wiki/Angers_sporting_club_de_l%27Ouest"
          ]
        },
        {
          "output_type": "stream",
          "name": "stdout",
          "text": [
            "http://fr.wikipedia.org/wiki/Stade_Raymond-Kopa"
          ]
        },
        {
          "output_type": "stream",
          "name": "stdout",
          "text": [
            "47° 27′ 38″ N, 0° 31′ 51″ O\n",
            "http://fr.wikipedia.org/wiki/Football_Club_de_Metz"
          ]
        },
        {
          "output_type": "stream",
          "name": "stdout",
          "text": [
            "http://fr.wikipedia.org/wiki/Stade_Saint-Symphorien"
          ]
        },
        {
          "output_type": "stream",
          "name": "stdout",
          "text": [
            "49° 06′ 35″ N, 6° 09′ 33″ E\n",
            "http://fr.wikipedia.org/wiki/Football_Club_de_Nantes"
          ]
        },
        {
          "output_type": "stream",
          "name": "stdout",
          "text": [
            "http://fr.wikipedia.org/wiki/Stade_de_la_Beaujoire"
          ]
        },
        {
          "output_type": "stream",
          "name": "stdout",
          "text": [
            "47° 15′ 20″ N, 1° 31′ 31″ O\n",
            "http://fr.wikipedia.org/wiki/Stade_brestois_29"
          ]
        },
        {
          "output_type": "stream",
          "name": "stdout",
          "text": [
            "http://fr.wikipedia.org/wiki/Stade_Francis-Le_Bl%C3%A9"
          ]
        },
        {
          "output_type": "stream",
          "name": "stdout",
          "text": [
            "48° 24′ 11″ N, 4° 27′ 42″ O\n",
            "http://fr.wikipedia.org/wiki/Football_Club_des_Girondins_de_Bordeaux"
          ]
        },
        {
          "output_type": "stream",
          "name": "stdout",
          "text": [
            "http://fr.wikipedia.org/wiki/Matmut_Atlantique"
          ]
        },
        {
          "output_type": "stream",
          "name": "stdout",
          "text": [
            "44° 53′ 50″ N, 0° 33′ 41″ O\n",
            "http://fr.wikipedia.org/wiki/Toulouse_Football_Club"
          ]
        },
        {
          "output_type": "stream",
          "name": "stdout",
          "text": [
            "http://fr.wikipedia.org/wiki/Stadium_de_Toulouse"
          ]
        },
        {
          "output_type": "stream",
          "name": "stdout",
          "text": [
            "43° 35′ 00″ N, 1° 26′ 03″ E\n",
            "http://fr.wikipedia.org/wiki/Amiens_Sporting_Club"
          ]
        },
        {
          "output_type": "stream",
          "name": "stdout",
          "text": [
            "http://fr.wikipedia.org/wiki/Stade_de_la_Licorne"
          ]
        },
        {
          "output_type": "stream",
          "name": "stdout",
          "text": [
            "49° 53′ 38″ N, 2° 15′ 49″ E\n",
            "http://fr.wikipedia.org/wiki/Association_sportive_de_Monaco_football_club"
          ]
        },
        {
          "output_type": "stream",
          "name": "stdout",
          "text": [
            "http://fr.wikipedia.org/wiki/Stade_Louis-II"
          ]
        },
        {
          "output_type": "stream",
          "name": "stdout",
          "text": [
            "43° 43′ 39″ N, 7° 24′ 56″ E\n",
            "http://fr.wikipedia.org/wiki/Dijon_Football_C%C3%B4te-d%27Or"
          ]
        },
        {
          "output_type": "stream",
          "name": "stdout",
          "text": [
            "http://fr.wikipedia.org/wiki/Stade_Gaston-G%C3%A9rard"
          ]
        },
        {
          "output_type": "stream",
          "name": "stdout",
          "text": [
            "47° 19′ 28″ N, 5° 04′ 06″ E\n",
            "http://fr.wikipedia.org/wiki/Championnat_de_France_de_football_de_Ligue_2_2019-2020"
          ]
        },
        {
          "output_type": "stream",
          "name": "stdout",
          "text": [
            "http://fr.wikipedia.org/wiki/Athletic_Club_ajaccien"
          ]
        },
        {
          "output_type": "stream",
          "name": "stdout",
          "text": [
            "http://fr.wikipedia.org/wiki/Stade_Fran%C3%A7ois-Coty\n",
            "41° 55′ 51″ N, 8° 46′ 35″ E"
          ]
        },
        {
          "output_type": "stream",
          "name": "stdout",
          "text": [
            "http://fr.wikipedia.org/wiki/Association_sportive_Nancy-Lorraine"
          ]
        },
        {
          "output_type": "stream",
          "name": "stdout",
          "text": [
            "http://fr.wikipedia.org/wiki/Stade_Marcel-Picot"
          ]
        },
        {
          "output_type": "stream",
          "name": "stdout",
          "text": [
            "48° 41′ 43″ N, 6° 12′ 38″ E\n",
            "http://fr.wikipedia.org/wiki/Le_Havre_Athletic_Club_(football)"
          ]
        },
        {
          "output_type": "stream",
          "name": "stdout",
          "text": [
            "http://fr.wikipedia.org/wiki/Stade_Oc%C3%A9ane"
          ]
        },
        {
          "output_type": "stream",
          "name": "stdout",
          "text": [
            "49° 29′ 56″ N, 0° 10′ 11″ E\n",
            "http://fr.wikipedia.org/wiki/Stade_Malherbe_Caen_Calvados_Basse-Normandie"
          ]
        },
        {
          "output_type": "stream",
          "name": "stdout",
          "text": [
            "http://fr.wikipedia.org/wiki/Stade_Michel-d%27Ornano"
          ]
        },
        {
          "output_type": "stream",
          "name": "stdout",
          "text": [
            "49° 10′ 46″ N, 0° 23′ 48″ O\n",
            "http://fr.wikipedia.org/wiki/Clermont_Foot_63"
          ]
        },
        {
          "output_type": "stream",
          "name": "stdout",
          "text": [
            "http://fr.wikipedia.org/wiki/Stade_Gabriel-Montpied"
          ]
        },
        {
          "output_type": "stream",
          "name": "stdout",
          "text": [
            "45° 48′ 57″ N, 3° 07′ 18″ E\n",
            "http://fr.wikipedia.org/wiki/En_Avant_de_Guingamp"
          ]
        },
        {
          "output_type": "stream",
          "name": "stdout",
          "text": [
            "http://fr.wikipedia.org/wiki/Stade_de_Roudourou"
          ]
        },
        {
          "output_type": "stream",
          "name": "stdout",
          "text": [
            "48° 33′ 58″ N, 3° 09′ 52″ O\n",
            "http://fr.wikipedia.org/wiki/Football_Club_Lorient"
          ]
        },
        {
          "output_type": "stream",
          "name": "stdout",
          "text": [
            "http://fr.wikipedia.org/wiki/Stade_du_Moustoir"
          ]
        },
        {
          "output_type": "stream",
          "name": "stdout",
          "text": [
            "47° 44′ 56″ N, 3° 22′ 09″ O\n",
            "http://fr.wikipedia.org/wiki/Paris_Football_Club"
          ]
        },
        {
          "output_type": "stream",
          "name": "stdout",
          "text": [
            "http://fr.wikipedia.org/wiki/Stade_Charl%C3%A9ty"
          ]
        },
        {
          "output_type": "stream",
          "name": "stdout",
          "text": [
            "48° 49′ 07″ N, 2° 20′ 47″ E\n",
            "http://fr.wikipedia.org/wiki/La_Berrichonne_de_Ch%C3%A2teauroux"
          ]
        },
        {
          "output_type": "stream",
          "name": "stdout",
          "text": [
            "http://fr.wikipedia.org/wiki/Stade_Gaston-Petit"
          ]
        },
        {
          "output_type": "stream",
          "name": "stdout",
          "text": [
            "46° 48′ 07″ N, 1° 43′ 18″ E\n",
            "http://fr.wikipedia.org/wiki/Association_de_la_jeunesse_auxerroise"
          ]
        },
        {
          "output_type": "stream",
          "name": "stdout",
          "text": [
            "http://fr.wikipedia.org/wiki/Stade_de_l%27Abb%C3%A9-Deschamps"
          ]
        },
        {
          "output_type": "stream",
          "name": "stdout",
          "text": [
            "47° 47′ 12″ N, 3° 35′ 19″ E\n",
            "http://fr.wikipedia.org/wiki/Union_sportive_Orl%C3%A9ans_Loiret_football"
          ]
        },
        {
          "output_type": "stream",
          "name": "stdout",
          "text": [
            "http://fr.wikipedia.org/wiki/Stade_de_la_Source"
          ]
        },
        {
          "output_type": "stream",
          "name": "stdout",
          "text": [
            "47° 50′ 25″ N, 1° 56′ 28″ E\n",
            "http://fr.wikipedia.org/wiki/Valenciennes_Football_Club"
          ]
        },
        {
          "output_type": "stream",
          "name": "stdout",
          "text": [
            "http://fr.wikipedia.org/wiki/Stade_du_Hainaut"
          ]
        },
        {
          "output_type": "stream",
          "name": "stdout",
          "text": [
            "50° 20′ 55″ N, 3° 31′ 56″ E\n",
            "http://fr.wikipedia.org/wiki/Chamois_niortais_Football_Club"
          ]
        },
        {
          "output_type": "stream",
          "name": "stdout",
          "text": [
            "http://fr.wikipedia.org/wiki/Stade_Ren%C3%A9-Gaillard"
          ]
        },
        {
          "output_type": "stream",
          "name": "stdout",
          "text": [
            "46° 19′ 01″ N, 0° 29′ 21″ O\n",
            "http://fr.wikipedia.org/wiki/Grenoble_Foot_38"
          ]
        },
        {
          "output_type": "stream",
          "name": "stdout",
          "text": [
            "http://fr.wikipedia.org/wiki/Stade_des_Alpes"
          ]
        },
        {
          "output_type": "stream",
          "name": "stdout",
          "text": [
            "45° 11′ 15″ N, 5° 44′ 24″ E\n",
            "http://fr.wikipedia.org/wiki/Football_Club_Sochaux-Montb%C3%A9liard"
          ]
        },
        {
          "output_type": "stream",
          "name": "stdout",
          "text": [
            "http://fr.wikipedia.org/wiki/Stade_Auguste-Bonal\n",
            "47° 30′ 44″ N, 6° 48′ 41″ E"
          ]
        },
        {
          "output_type": "stream",
          "name": "stdout",
          "text": [
            "http://fr.wikipedia.org/wiki/Rodez_Aveyron_Football"
          ]
        },
        {
          "output_type": "stream",
          "name": "stdout",
          "text": [
            "http://fr.wikipedia.org/wiki/Stade_Paul-Lignon\n",
            "44° 21′ 06″ N, 2° 33′ 49″ E\n",
            "http://fr.wikipedia.org/wiki/Football_Club_de_Chambly_Oise"
          ]
        },
        {
          "output_type": "stream",
          "name": "stdout",
          "text": [
            "http://fr.wikipedia.org/wiki/Stade_Walter_Luzi\n",
            "49° 10′ 45″ N, 2° 14′ 01″ E\n",
            "http://fr.wikipedia.org/wiki/Esp%C3%A9rance_sportive_Troyes_Aube_Champagne"
          ]
        },
        {
          "output_type": "stream",
          "name": "stdout",
          "text": [
            "http://fr.wikipedia.org/wiki/Stade_de_l%27Aube"
          ]
        },
        {
          "output_type": "stream",
          "name": "stdout",
          "text": [
            "48° 18′ 27″ N, 4° 05′ 55″ E\n",
            "http://fr.wikipedia.org/wiki/Racing_Club_de_Lens"
          ]
        },
        {
          "output_type": "stream",
          "name": "stdout",
          "text": [
            "http://fr.wikipedia.org/wiki/Stade_Bollaert-Delelis"
          ]
        },
        {
          "output_type": "stream",
          "name": "stdout",
          "text": [
            "50° 25′ 58″ N, 2° 48′ 54″ E\n",
            "http://fr.wikipedia.org/wiki/Le_Mans_Football_Club"
          ]
        },
        {
          "output_type": "stream",
          "name": "stdout",
          "text": [
            "http://fr.wikipedia.org/wiki/Le_Mans_Arena"
          ]
        },
        {
          "output_type": "stream",
          "name": "stdout",
          "text": [
            "47° 57′ 32″ N, 0° 13′ 29″ E"
          ]
        }
      ],
      "source": [
        "import urllib\n",
        "import pandas as pd\n",
        "import bs4 \n",
        "\n",
        "division=[]\n",
        "equipe=[]\n",
        "stade=[]\n",
        "latitude_stade=[]        \n",
        "longitude_stade=[]     \n",
        "\n",
        "def dms2dd(degrees, minutes, seconds, direction):\n",
        "    dd = float(degrees) + float(minutes)/60 + float(seconds)/(60*60);\n",
        "    if direction == 'S' or direction == 'O':\n",
        "        dd *= -1\n",
        "    return dd;\n",
        "\n",
        "url_list=[\"http://fr.wikipedia.org/wiki/Championnat_de_France_de_football_2019-2020\", \"http://fr.wikipedia.org/wiki/Championnat_de_France_de_football_de_Ligue_2_2019-2020\"]\n",
        "\n",
        "for url_ligue in url_list :\n",
        "       \n",
        "    print(url_ligue)\n",
        "    sock = urllib.request.urlopen(url_ligue).read() \n",
        "    page=bs4.BeautifulSoup(sock)\n",
        "\n",
        "# Rechercher les liens des équipes dans la liste disponible sur wikipedia \n",
        "\n",
        "    for team in page.findAll('span' , {'class' : 'toponyme'}) :  \n",
        "        \n",
        "        # Indiquer si c'est de la ligue 1 ou de la ligue 2\n",
        "        \n",
        "        if url_ligue==url_list[0] :\n",
        "            division.append(\"L1\")\n",
        "        else :\n",
        "            division.append(\"L2\")\n",
        "\n",
        "       # Trouver le nom et le lien de l'équipe\n",
        "            \n",
        "        if team.find('a')!=None :\n",
        "            team_url=team.find('a').get('href')\n",
        "            name_team=team.find('a').get('title')\n",
        "            equipe.append(name_team)\n",
        "            url_get_info = \"http://fr.wikipedia.org\"+team_url\n",
        "            print(url_get_info)\n",
        " \n",
        "       # aller sur la page de l'équipe\n",
        "           \n",
        "            search = urllib.request.urlopen(url_get_info).read()\n",
        "            search_team=bs4.BeautifulSoup(search)\n",
        "\n",
        "       # trouver le stade             \n",
        "            compteur = 0\n",
        "            for stadium in search_team.findAll('tr'):\n",
        "                for x in stadium.findAll('th' , {'scope' : 'row'} ) :\n",
        "                    if x.contents[0].string==\"Stade\" and compteur == 0:\n",
        "                        compteur = 1\n",
        "                        # trouver le lien du stade et son nom\n",
        "                        url_stade=stadium.findAll('a')[1].get('href')\n",
        "                        name_stadium=stadium.findAll('a')[1].get('title')\n",
        "                        stade.append(name_stadium)\n",
        "                        url_get_stade = \"http://fr.wikipedia.org\"+url_stade\n",
        "                        print(url_get_stade)\n",
        "                        \n",
        "                        # Aller sur la page du stade et trouver ses coodronnées géographiques\n",
        "                        \n",
        "                        search_stade = urllib.request.urlopen(url_get_stade).read()\n",
        "                        soup_stade=bs4.BeautifulSoup(search_stade) \n",
        "                        kartographer = soup_stade.find('a',{'class': \"mw-kartographer-maplink\"})\n",
        "                        if kartographer == None :\n",
        "                          latitude_stade.append(None)\n",
        "                          longitude_stade.append(None) \n",
        "                        else :\n",
        "                            for coordinates in kartographer :\n",
        "                                print(coordinates)\n",
        "                                liste =   coordinates.split(\",\")          \n",
        "                                latitude_stade.append(str(liste[0]).replace(\" \", \"\") + \"'\")\n",
        "                                longitude_stade.append(str(liste[1]).replace(\" \", \"\") + \"'\")\n",
        "                            \n",
        "\n",
        "dict = {'division' : division , 'equipe': equipe, 'stade': stade, 'latitude': latitude_stade, 'longitude' : longitude_stade}\n",
        "data = pd.DataFrame(dict)\n",
        "data = data.dropna()"
      ],
      "id": "caac727c-1829-439f-abf6-a062ced1acb7"
    },
    {
      "cell_type": "code",
      "execution_count": 24,
      "metadata": {},
      "outputs": [
        {
          "output_type": "display_data",
          "metadata": {},
          "data": {
            "text/html": [
              "<div>\n",
              "<style scoped>\n",
              "    .dataframe tbody tr th:only-of-type {\n",
              "        vertical-align: middle;\n",
              "    }\n",
              "\n",
              "    .dataframe tbody tr th {\n",
              "        vertical-align: top;\n",
              "    }\n",
              "\n",
              "    .dataframe thead th {\n",
              "        text-align: right;\n",
              "    }\n",
              "</style>\n",
              "<table border=\"1\" class=\"dataframe\">\n",
              "  <thead>\n",
              "    <tr style=\"text-align: right;\">\n",
              "      <th></th>\n",
              "      <th>division</th>\n",
              "      <th>equipe</th>\n",
              "      <th>stade</th>\n",
              "      <th>latitude</th>\n",
              "      <th>longitude</th>\n",
              "    </tr>\n",
              "  </thead>\n",
              "  <tbody>\n",
              "    <tr>\n",
              "      <th>0</th>\n",
              "      <td>L1</td>\n",
              "      <td>Paris Saint-Germain Football Club</td>\n",
              "      <td>Parc des Princes</td>\n",
              "      <td>48° 50′ 29″ N'</td>\n",
              "      <td>2° 15′ 11″ E'</td>\n",
              "    </tr>\n",
              "    <tr>\n",
              "      <th>1</th>\n",
              "      <td>L1</td>\n",
              "      <td>LOSC Lille</td>\n",
              "      <td>Stade Pierre-Mauroy</td>\n",
              "      <td>50° 36′ 43″ N'</td>\n",
              "      <td>3° 07′ 50″ E'</td>\n",
              "    </tr>\n",
              "    <tr>\n",
              "      <th>2</th>\n",
              "      <td>L1</td>\n",
              "      <td>Olympique lyonnais</td>\n",
              "      <td>Parc Olympique lyonnais</td>\n",
              "      <td>45° 45′ 55″ N'</td>\n",
              "      <td>4° 58′ 55″ E'</td>\n",
              "    </tr>\n",
              "    <tr>\n",
              "      <th>3</th>\n",
              "      <td>L1</td>\n",
              "      <td>Association sportive de Saint-Étienne</td>\n",
              "      <td>Stade Geoffroy-Guichard</td>\n",
              "      <td>45° 27′ 39″ N'</td>\n",
              "      <td>4° 23′ 25″ E'</td>\n",
              "    </tr>\n",
              "    <tr>\n",
              "      <th>4</th>\n",
              "      <td>L1</td>\n",
              "      <td>Olympique de Marseille</td>\n",
              "      <td>Orange Vélodrome</td>\n",
              "      <td>43° 16′ 11″ N'</td>\n",
              "      <td>5° 23′ 45″ E'</td>\n",
              "    </tr>\n",
              "  </tbody>\n",
              "</table>\n",
              "</div>"
            ]
          }
        }
      ],
      "source": [
        "data.head(5)"
      ],
      "id": "8f2103f6-5fce-4ac3-b1a0-f835c1456285"
    },
    {
      "cell_type": "markdown",
      "metadata": {},
      "source": [
        "On va transformer les coordonnées en degrés en coordonnées numériques\n",
        "afin d’être en mesure de faire une carte"
      ],
      "id": "d3a5b8b7-bd6c-43b3-b1fe-357413e8b680"
    },
    {
      "cell_type": "code",
      "execution_count": 25,
      "metadata": {},
      "outputs": [],
      "source": [
        "import re\n",
        "\n",
        "def dms2dd(degrees, minutes, seconds, direction):\n",
        "    dd = float(degrees) + float(minutes)/60 + float(seconds)/(60*60);\n",
        "    if direction in ('S', 'O'):\n",
        "        dd *= -1\n",
        "    return dd\n",
        "\n",
        "def parse_dms(dms):\n",
        "    parts = re.split('[^\\d\\w]+', dms)\n",
        "    lat = dms2dd(parts[0], parts[1], parts[2], parts[3])\n",
        "    #lng = dms2dd(parts[4], parts[5], parts[6], parts[7])\n",
        "    return lat"
      ],
      "id": "a48679f5-54c0-4b5a-867b-6ffd00805353"
    },
    {
      "cell_type": "code",
      "execution_count": 26,
      "metadata": {},
      "outputs": [],
      "source": [
        "data['latitude'] = data['latitude'].apply(parse_dms)\n",
        "data['longitude'] = data['longitude'].apply(parse_dms)"
      ],
      "id": "fddecbd0-3c3f-41cf-b5f0-134295832c31"
    },
    {
      "cell_type": "markdown",
      "metadata": {},
      "source": [
        "Tous les éléments sont en place pour faire une belle carte à ce stade. On\n",
        "va utilisee `folium` pour celle-ci, qui est présenté dans la partie\n",
        "[visualisation](#cartotp).\n",
        "\n",
        "### Carte des stades avec `folium`"
      ],
      "id": "fa244ecb-bb07-486c-81d7-8fb15a4c0679"
    },
    {
      "cell_type": "code",
      "execution_count": 27,
      "metadata": {},
      "outputs": [],
      "source": [
        "#!pip install geopandas\n",
        "import geopandas as gpd\n",
        "from pathlib import Path\n",
        "import folium\n",
        "\n",
        "gdf = gpd.GeoDataFrame(\n",
        "    data, geometry=gpd.points_from_xy(data.longitude, data.latitude))\n",
        "\n",
        "Path(\"leaflet\").mkdir(parents=True, exist_ok=True)\n",
        "\n",
        "center = gdf[['latitude', 'longitude']].mean().values.tolist()\n",
        "sw = gdf[['latitude', 'longitude']].min().values.tolist()\n",
        "ne = gdf[['latitude', 'longitude']].max().values.tolist()\n",
        "\n",
        "m = folium.Map(location = center, tiles='Stamen Toner')\n",
        "\n",
        "# I can add marker one by one on the map\n",
        "for i in range(0,len(gdf)):\n",
        "    folium.Marker([gdf.iloc[i]['latitude'], gdf.iloc[i]['longitude']], popup=gdf.iloc[i]['stade']).add_to(m) \n",
        "\n",
        "m.fit_bounds([sw, ne])"
      ],
      "id": "79d948cf-8772-4933-a2c2-22ea7fcbb181"
    },
    {
      "cell_type": "markdown",
      "metadata": {},
      "source": [
        "La carte obtenue doit ressembler à la suivante:\n",
        "\n",
        "{{< rawhtml >}}"
      ],
      "id": "052558df-e969-474a-9763-4abfa7cebeac"
    },
    {
      "cell_type": "code",
      "execution_count": 28,
      "metadata": {},
      "outputs": [
        {
          "output_type": "display_data",
          "metadata": {},
          "data": {
            "text/html": [
              "<div style=\"width:100%;\"><div style=\"position:relative;width:100%;height:0;padding-bottom:60%;\"><span style=\"color:#565656\">Make this Notebook Trusted to load map: File -> Trust Notebook</span><iframe srcdoc=\"&lt;!DOCTYPE html&gt;\n",
              "&lt;head&gt;    \n",
              "    &lt;meta http-equiv=&quot;content-type&quot; content=&quot;text/html; charset=UTF-8&quot; /&gt;\n",
              "    \n",
              "        &lt;script&gt;\n",
              "            L_NO_TOUCH = false;\n",
              "            L_DISABLE_3D = false;\n",
              "        &lt;/script&gt;\n",
              "    \n",
              "    &lt;style&gt;html, body {width: 100%;height: 100%;margin: 0;padding: 0;}&lt;/style&gt;\n",
              "    &lt;style&gt;#map {position:absolute;top:0;bottom:0;right:0;left:0;}&lt;/style&gt;\n",
              "    &lt;script src=&quot;https://cdn.jsdelivr.net/npm/leaflet@1.6.0/dist/leaflet.js&quot;&gt;&lt;/script&gt;\n",
              "    &lt;script src=&quot;https://code.jquery.com/jquery-1.12.4.min.js&quot;&gt;&lt;/script&gt;\n",
              "    &lt;script src=&quot;https://maxcdn.bootstrapcdn.com/bootstrap/3.2.0/js/bootstrap.min.js&quot;&gt;&lt;/script&gt;\n",
              "    &lt;script src=&quot;https://cdnjs.cloudflare.com/ajax/libs/Leaflet.awesome-markers/2.0.2/leaflet.awesome-markers.js&quot;&gt;&lt;/script&gt;\n",
              "    &lt;link rel=&quot;stylesheet&quot; href=&quot;https://cdn.jsdelivr.net/npm/leaflet@1.6.0/dist/leaflet.css&quot;/&gt;\n",
              "    &lt;link rel=&quot;stylesheet&quot; href=&quot;https://maxcdn.bootstrapcdn.com/bootstrap/3.2.0/css/bootstrap.min.css&quot;/&gt;\n",
              "    &lt;link rel=&quot;stylesheet&quot; href=&quot;https://maxcdn.bootstrapcdn.com/bootstrap/3.2.0/css/bootstrap-theme.min.css&quot;/&gt;\n",
              "    &lt;link rel=&quot;stylesheet&quot; href=&quot;https://maxcdn.bootstrapcdn.com/font-awesome/4.6.3/css/font-awesome.min.css&quot;/&gt;\n",
              "    &lt;link rel=&quot;stylesheet&quot; href=&quot;https://cdnjs.cloudflare.com/ajax/libs/Leaflet.awesome-markers/2.0.2/leaflet.awesome-markers.css&quot;/&gt;\n",
              "    &lt;link rel=&quot;stylesheet&quot; href=&quot;https://cdn.jsdelivr.net/gh/python-visualization/folium/folium/templates/leaflet.awesome.rotate.min.css&quot;/&gt;\n",
              "    \n",
              "            &lt;meta name=&quot;viewport&quot; content=&quot;width=device-width,\n",
              "                initial-scale=1.0, maximum-scale=1.0, user-scalable=no&quot; /&gt;\n",
              "            &lt;style&gt;\n",
              "                #map_ea7d5d703a7f0b736b336fd16d292e03 {\n",
              "                    position: relative;\n",
              "                    width: 100.0%;\n",
              "                    height: 100.0%;\n",
              "                    left: 0.0%;\n",
              "                    top: 0.0%;\n",
              "                }\n",
              "            &lt;/style&gt;\n",
              "        \n",
              "&lt;/head&gt;\n",
              "&lt;body&gt;    \n",
              "    \n",
              "            &lt;div class=&quot;folium-map&quot; id=&quot;map_ea7d5d703a7f0b736b336fd16d292e03&quot; &gt;&lt;/div&gt;\n",
              "        \n",
              "&lt;/body&gt;\n",
              "&lt;script&gt;    \n",
              "    \n",
              "            var map_ea7d5d703a7f0b736b336fd16d292e03 = L.map(\n",
              "                &quot;map_ea7d5d703a7f0b736b336fd16d292e03&quot;,\n",
              "                {\n",
              "                    center: [47.12349305555556, 2.733006944444445],\n",
              "                    crs: L.CRS.EPSG3857,\n",
              "                    zoom: 10,\n",
              "                    zoomControl: true,\n",
              "                    preferCanvas: false,\n",
              "                }\n",
              "            );\n",
              "\n",
              "            \n",
              "\n",
              "        \n",
              "    \n",
              "            var tile_layer_2427a2b2039b5b980170d47a319050bd = L.tileLayer(\n",
              "                &quot;https://stamen-tiles-{s}.a.ssl.fastly.net/toner/{z}/{x}/{y}.png&quot;,\n",
              "                {&quot;attribution&quot;: &quot;Map tiles by \\u003ca href=\\&quot;http://stamen.com\\&quot;\\u003eStamen Design\\u003c/a\\u003e, under \\u003ca href=\\&quot;http://creativecommons.org/licenses/by/3.0\\&quot;\\u003eCC BY 3.0\\u003c/a\\u003e. Data by \\u0026copy; \\u003ca href=\\&quot;http://openstreetmap.org\\&quot;\\u003eOpenStreetMap\\u003c/a\\u003e, under \\u003ca href=\\&quot;http://www.openstreetmap.org/copyright\\&quot;\\u003eODbL\\u003c/a\\u003e.&quot;, &quot;detectRetina&quot;: false, &quot;maxNativeZoom&quot;: 18, &quot;maxZoom&quot;: 18, &quot;minZoom&quot;: 0, &quot;noWrap&quot;: false, &quot;opacity&quot;: 1, &quot;subdomains&quot;: &quot;abc&quot;, &quot;tms&quot;: false}\n",
              "            ).addTo(map_ea7d5d703a7f0b736b336fd16d292e03);\n",
              "        \n",
              "    \n",
              "            var marker_6ebbf94cec63bdf012b6b8afa3832f48 = L.marker(\n",
              "                [48.84138888888889, 2.2530555555555556],\n",
              "                {}\n",
              "            ).addTo(map_ea7d5d703a7f0b736b336fd16d292e03);\n",
              "        \n",
              "    \n",
              "        var popup_9fbc7dd2888d72200d0916cd66fd70af = L.popup({&quot;maxWidth&quot;: &quot;100%&quot;});\n",
              "\n",
              "        \n",
              "            var html_a3bad044c1dd9c370454f61b97a820fc = $(`&lt;div id=&quot;html_a3bad044c1dd9c370454f61b97a820fc&quot; style=&quot;width: 100.0%; height: 100.0%;&quot;&gt;Parc des Princes&lt;/div&gt;`)[0];\n",
              "            popup_9fbc7dd2888d72200d0916cd66fd70af.setContent(html_a3bad044c1dd9c370454f61b97a820fc);\n",
              "        \n",
              "\n",
              "        marker_6ebbf94cec63bdf012b6b8afa3832f48.bindPopup(popup_9fbc7dd2888d72200d0916cd66fd70af)\n",
              "        ;\n",
              "\n",
              "        \n",
              "    \n",
              "    \n",
              "            var marker_0f06facdb54809d327000762a7c23788 = L.marker(\n",
              "                [50.61194444444445, 3.1305555555555555],\n",
              "                {}\n",
              "            ).addTo(map_ea7d5d703a7f0b736b336fd16d292e03);\n",
              "        \n",
              "    \n",
              "        var popup_3ac84695247fcff99d5a9ffd8c67f3a6 = L.popup({&quot;maxWidth&quot;: &quot;100%&quot;});\n",
              "\n",
              "        \n",
              "            var html_2d66d04b3522ad8e8ea8e5a08a576f3e = $(`&lt;div id=&quot;html_2d66d04b3522ad8e8ea8e5a08a576f3e&quot; style=&quot;width: 100.0%; height: 100.0%;&quot;&gt;Stade Pierre-Mauroy&lt;/div&gt;`)[0];\n",
              "            popup_3ac84695247fcff99d5a9ffd8c67f3a6.setContent(html_2d66d04b3522ad8e8ea8e5a08a576f3e);\n",
              "        \n",
              "\n",
              "        marker_0f06facdb54809d327000762a7c23788.bindPopup(popup_3ac84695247fcff99d5a9ffd8c67f3a6)\n",
              "        ;\n",
              "\n",
              "        \n",
              "    \n",
              "    \n",
              "            var marker_c5e544e7665dbf573e0639eb7ceac05e = L.marker(\n",
              "                [45.765277777777776, 4.981944444444444],\n",
              "                {}\n",
              "            ).addTo(map_ea7d5d703a7f0b736b336fd16d292e03);\n",
              "        \n",
              "    \n",
              "        var popup_9728198f1d7851f054308cd92b2704ac = L.popup({&quot;maxWidth&quot;: &quot;100%&quot;});\n",
              "\n",
              "        \n",
              "            var html_cc7b8ef5f9459fb35f71f6d3a8211baa = $(`&lt;div id=&quot;html_cc7b8ef5f9459fb35f71f6d3a8211baa&quot; style=&quot;width: 100.0%; height: 100.0%;&quot;&gt;Parc Olympique lyonnais&lt;/div&gt;`)[0];\n",
              "            popup_9728198f1d7851f054308cd92b2704ac.setContent(html_cc7b8ef5f9459fb35f71f6d3a8211baa);\n",
              "        \n",
              "\n",
              "        marker_c5e544e7665dbf573e0639eb7ceac05e.bindPopup(popup_9728198f1d7851f054308cd92b2704ac)\n",
              "        ;\n",
              "\n",
              "        \n",
              "    \n",
              "    \n",
              "            var marker_b392d87ed1bf48fb31afd78156474510 = L.marker(\n",
              "                [45.46083333333333, 4.390277777777778],\n",
              "                {}\n",
              "            ).addTo(map_ea7d5d703a7f0b736b336fd16d292e03);\n",
              "        \n",
              "    \n",
              "        var popup_a47a9c7d06589cf5da7d69cead4d08ec = L.popup({&quot;maxWidth&quot;: &quot;100%&quot;});\n",
              "\n",
              "        \n",
              "            var html_c3dd6fb4a2a7ed992b3a3f406b845c23 = $(`&lt;div id=&quot;html_c3dd6fb4a2a7ed992b3a3f406b845c23&quot; style=&quot;width: 100.0%; height: 100.0%;&quot;&gt;Stade Geoffroy-Guichard&lt;/div&gt;`)[0];\n",
              "            popup_a47a9c7d06589cf5da7d69cead4d08ec.setContent(html_c3dd6fb4a2a7ed992b3a3f406b845c23);\n",
              "        \n",
              "\n",
              "        marker_b392d87ed1bf48fb31afd78156474510.bindPopup(popup_a47a9c7d06589cf5da7d69cead4d08ec)\n",
              "        ;\n",
              "\n",
              "        \n",
              "    \n",
              "    \n",
              "            var marker_3c3785e29933765ee41724e4a1d0973b = L.marker(\n",
              "                [43.26972222222222, 5.395833333333334],\n",
              "                {}\n",
              "            ).addTo(map_ea7d5d703a7f0b736b336fd16d292e03);\n",
              "        \n",
              "    \n",
              "        var popup_2d30a0c5bbb7fba3b26f4259fca2ddc9 = L.popup({&quot;maxWidth&quot;: &quot;100%&quot;});\n",
              "\n",
              "        \n",
              "            var html_a728025ede479890c30b374ea6d8be90 = $(`&lt;div id=&quot;html_a728025ede479890c30b374ea6d8be90&quot; style=&quot;width: 100.0%; height: 100.0%;&quot;&gt;Orange Vélodrome&lt;/div&gt;`)[0];\n",
              "            popup_2d30a0c5bbb7fba3b26f4259fca2ddc9.setContent(html_a728025ede479890c30b374ea6d8be90);\n",
              "        \n",
              "\n",
              "        marker_3c3785e29933765ee41724e4a1d0973b.bindPopup(popup_2d30a0c5bbb7fba3b26f4259fca2ddc9)\n",
              "        ;\n",
              "\n",
              "        \n",
              "    \n",
              "    \n",
              "            var marker_c052856ab3b74ba715c91dc308240001 = L.marker(\n",
              "                [43.621944444444445, 3.812222222222222],\n",
              "                {}\n",
              "            ).addTo(map_ea7d5d703a7f0b736b336fd16d292e03);\n",
              "        \n",
              "    \n",
              "        var popup_eeab8e0f5840121f278275f87352d976 = L.popup({&quot;maxWidth&quot;: &quot;100%&quot;});\n",
              "\n",
              "        \n",
              "            var html_778202d54d85e2d46c359308f053803c = $(`&lt;div id=&quot;html_778202d54d85e2d46c359308f053803c&quot; style=&quot;width: 100.0%; height: 100.0%;&quot;&gt;Stade de la Mosson&lt;/div&gt;`)[0];\n",
              "            popup_eeab8e0f5840121f278275f87352d976.setContent(html_778202d54d85e2d46c359308f053803c);\n",
              "        \n",
              "\n",
              "        marker_c052856ab3b74ba715c91dc308240001.bindPopup(popup_eeab8e0f5840121f278275f87352d976)\n",
              "        ;\n",
              "\n",
              "        \n",
              "    \n",
              "    \n",
              "            var marker_87f94bcd5d61db20a4482cc0ed706daf = L.marker(\n",
              "                [49.24666666666667, 4.025],\n",
              "                {}\n",
              "            ).addTo(map_ea7d5d703a7f0b736b336fd16d292e03);\n",
              "        \n",
              "    \n",
              "        var popup_d87722e7127c5a175a916508c232c360 = L.popup({&quot;maxWidth&quot;: &quot;100%&quot;});\n",
              "\n",
              "        \n",
              "            var html_3eeb278212565eb946747355a35f9e04 = $(`&lt;div id=&quot;html_3eeb278212565eb946747355a35f9e04&quot; style=&quot;width: 100.0%; height: 100.0%;&quot;&gt;Stade Auguste-Delaune&lt;/div&gt;`)[0];\n",
              "            popup_d87722e7127c5a175a916508c232c360.setContent(html_3eeb278212565eb946747355a35f9e04);\n",
              "        \n",
              "\n",
              "        marker_87f94bcd5d61db20a4482cc0ed706daf.bindPopup(popup_d87722e7127c5a175a916508c232c360)\n",
              "        ;\n",
              "\n",
              "        \n",
              "    \n",
              "    \n",
              "            var marker_176d47baf63cec42034d130183fca7fe = L.marker(\n",
              "                [43.705000000000005, 7.1925],\n",
              "                {}\n",
              "            ).addTo(map_ea7d5d703a7f0b736b336fd16d292e03);\n",
              "        \n",
              "    \n",
              "        var popup_ec43b543eaaf957dcec6a28b87785f89 = L.popup({&quot;maxWidth&quot;: &quot;100%&quot;});\n",
              "\n",
              "        \n",
              "            var html_e99f7c6bd105005e8e5703a9c93691e9 = $(`&lt;div id=&quot;html_e99f7c6bd105005e8e5703a9c93691e9&quot; style=&quot;width: 100.0%; height: 100.0%;&quot;&gt;Allianz Riviera&lt;/div&gt;`)[0];\n",
              "            popup_ec43b543eaaf957dcec6a28b87785f89.setContent(html_e99f7c6bd105005e8e5703a9c93691e9);\n",
              "        \n",
              "\n",
              "        marker_176d47baf63cec42034d130183fca7fe.bindPopup(popup_ec43b543eaaf957dcec6a28b87785f89)\n",
              "        ;\n",
              "\n",
              "        \n",
              "    \n",
              "    \n",
              "            var marker_aadea2c807cba320149f17cf8f733d59 = L.marker(\n",
              "                [43.816111111111105, 4.359166666666666],\n",
              "                {}\n",
              "            ).addTo(map_ea7d5d703a7f0b736b336fd16d292e03);\n",
              "        \n",
              "    \n",
              "        var popup_76cdf17dcb3a0c1af9914e6eaa6c1cd5 = L.popup({&quot;maxWidth&quot;: &quot;100%&quot;});\n",
              "\n",
              "        \n",
              "            var html_55d89ad48e22bb59aa60b03cd7ff6359 = $(`&lt;div id=&quot;html_55d89ad48e22bb59aa60b03cd7ff6359&quot; style=&quot;width: 100.0%; height: 100.0%;&quot;&gt;Stade des Costières&lt;/div&gt;`)[0];\n",
              "            popup_76cdf17dcb3a0c1af9914e6eaa6c1cd5.setContent(html_55d89ad48e22bb59aa60b03cd7ff6359);\n",
              "        \n",
              "\n",
              "        marker_aadea2c807cba320149f17cf8f733d59.bindPopup(popup_76cdf17dcb3a0c1af9914e6eaa6c1cd5)\n",
              "        ;\n",
              "\n",
              "        \n",
              "    \n",
              "    \n",
              "            var marker_5c38d0e14dd32e420ba4688a9c712932 = L.marker(\n",
              "                [48.559999999999995, 7.755],\n",
              "                {}\n",
              "            ).addTo(map_ea7d5d703a7f0b736b336fd16d292e03);\n",
              "        \n",
              "    \n",
              "        var popup_f6077e8919681b5e628a04fe30d991fc = L.popup({&quot;maxWidth&quot;: &quot;100%&quot;});\n",
              "\n",
              "        \n",
              "            var html_434a6f75ad3ed6d6f6afe42d2b805822 = $(`&lt;div id=&quot;html_434a6f75ad3ed6d6f6afe42d2b805822&quot; style=&quot;width: 100.0%; height: 100.0%;&quot;&gt;Stade de la Meinau&lt;/div&gt;`)[0];\n",
              "            popup_f6077e8919681b5e628a04fe30d991fc.setContent(html_434a6f75ad3ed6d6f6afe42d2b805822);\n",
              "        \n",
              "\n",
              "        marker_5c38d0e14dd32e420ba4688a9c712932.bindPopup(popup_f6077e8919681b5e628a04fe30d991fc)\n",
              "        ;\n",
              "\n",
              "        \n",
              "    \n",
              "    \n",
              "            var marker_c312cf88f17e8ae940aaedfda4fcda71 = L.marker(\n",
              "                [48.1075, -1.7127777777777777],\n",
              "                {}\n",
              "            ).addTo(map_ea7d5d703a7f0b736b336fd16d292e03);\n",
              "        \n",
              "    \n",
              "        var popup_7227478dbf4200e6a8bb941a0a300349 = L.popup({&quot;maxWidth&quot;: &quot;100%&quot;});\n",
              "\n",
              "        \n",
              "            var html_f622e7972ffd9842e8c6da93a271a6d1 = $(`&lt;div id=&quot;html_f622e7972ffd9842e8c6da93a271a6d1&quot; style=&quot;width: 100.0%; height: 100.0%;&quot;&gt;Roazhon Park&lt;/div&gt;`)[0];\n",
              "            popup_7227478dbf4200e6a8bb941a0a300349.setContent(html_f622e7972ffd9842e8c6da93a271a6d1);\n",
              "        \n",
              "\n",
              "        marker_c312cf88f17e8ae940aaedfda4fcda71.bindPopup(popup_7227478dbf4200e6a8bb941a0a300349)\n",
              "        ;\n",
              "\n",
              "        \n",
              "    \n",
              "    \n",
              "            var marker_be6b3dd15f431a6fe8444686b64a3e4b = L.marker(\n",
              "                [47.46055555555556, -0.5308333333333334],\n",
              "                {}\n",
              "            ).addTo(map_ea7d5d703a7f0b736b336fd16d292e03);\n",
              "        \n",
              "    \n",
              "        var popup_03764e8d3ea41e740d10f6383a72438e = L.popup({&quot;maxWidth&quot;: &quot;100%&quot;});\n",
              "\n",
              "        \n",
              "            var html_0bd8bb0e188bf93e0f583e74fbdf2668 = $(`&lt;div id=&quot;html_0bd8bb0e188bf93e0f583e74fbdf2668&quot; style=&quot;width: 100.0%; height: 100.0%;&quot;&gt;Stade Raymond-Kopa&lt;/div&gt;`)[0];\n",
              "            popup_03764e8d3ea41e740d10f6383a72438e.setContent(html_0bd8bb0e188bf93e0f583e74fbdf2668);\n",
              "        \n",
              "\n",
              "        marker_be6b3dd15f431a6fe8444686b64a3e4b.bindPopup(popup_03764e8d3ea41e740d10f6383a72438e)\n",
              "        ;\n",
              "\n",
              "        \n",
              "    \n",
              "    \n",
              "            var marker_dce046483a48fb653c5bdd6c7ab64786 = L.marker(\n",
              "                [49.109722222222224, 6.159166666666667],\n",
              "                {}\n",
              "            ).addTo(map_ea7d5d703a7f0b736b336fd16d292e03);\n",
              "        \n",
              "    \n",
              "        var popup_d227dfc4c290bf9b724cbf7d6ec29cac = L.popup({&quot;maxWidth&quot;: &quot;100%&quot;});\n",
              "\n",
              "        \n",
              "            var html_7279215002e96d01bd4ea1b6dbde8c38 = $(`&lt;div id=&quot;html_7279215002e96d01bd4ea1b6dbde8c38&quot; style=&quot;width: 100.0%; height: 100.0%;&quot;&gt;Stade Saint-Symphorien&lt;/div&gt;`)[0];\n",
              "            popup_d227dfc4c290bf9b724cbf7d6ec29cac.setContent(html_7279215002e96d01bd4ea1b6dbde8c38);\n",
              "        \n",
              "\n",
              "        marker_dce046483a48fb653c5bdd6c7ab64786.bindPopup(popup_d227dfc4c290bf9b724cbf7d6ec29cac)\n",
              "        ;\n",
              "\n",
              "        \n",
              "    \n",
              "    \n",
              "            var marker_afcd59edc0cbbe1b5a8adfaa08fb0927 = L.marker(\n",
              "                [47.25555555555555, -1.5252777777777777],\n",
              "                {}\n",
              "            ).addTo(map_ea7d5d703a7f0b736b336fd16d292e03);\n",
              "        \n",
              "    \n",
              "        var popup_51ac586e7f65f968b77ab8470c384310 = L.popup({&quot;maxWidth&quot;: &quot;100%&quot;});\n",
              "\n",
              "        \n",
              "            var html_2466f45ba9e7f2c1aeb9e826783fde20 = $(`&lt;div id=&quot;html_2466f45ba9e7f2c1aeb9e826783fde20&quot; style=&quot;width: 100.0%; height: 100.0%;&quot;&gt;Stade de la Beaujoire&lt;/div&gt;`)[0];\n",
              "            popup_51ac586e7f65f968b77ab8470c384310.setContent(html_2466f45ba9e7f2c1aeb9e826783fde20);\n",
              "        \n",
              "\n",
              "        marker_afcd59edc0cbbe1b5a8adfaa08fb0927.bindPopup(popup_51ac586e7f65f968b77ab8470c384310)\n",
              "        ;\n",
              "\n",
              "        \n",
              "    \n",
              "    \n",
              "            var marker_5d4c15c042b92b646e8328f5d8909b1e = L.marker(\n",
              "                [48.403055555555554, -4.461666666666667],\n",
              "                {}\n",
              "            ).addTo(map_ea7d5d703a7f0b736b336fd16d292e03);\n",
              "        \n",
              "    \n",
              "        var popup_83076de76bbe879d409ceca036b6380e = L.popup({&quot;maxWidth&quot;: &quot;100%&quot;});\n",
              "\n",
              "        \n",
              "            var html_d1923c44bd75c2d651b97602cb89fb5d = $(`&lt;div id=&quot;html_d1923c44bd75c2d651b97602cb89fb5d&quot; style=&quot;width: 100.0%; height: 100.0%;&quot;&gt;Stade Francis-Le Blé&lt;/div&gt;`)[0];\n",
              "            popup_83076de76bbe879d409ceca036b6380e.setContent(html_d1923c44bd75c2d651b97602cb89fb5d);\n",
              "        \n",
              "\n",
              "        marker_5d4c15c042b92b646e8328f5d8909b1e.bindPopup(popup_83076de76bbe879d409ceca036b6380e)\n",
              "        ;\n",
              "\n",
              "        \n",
              "    \n",
              "    \n",
              "            var marker_038adbe4b165f3365152fc0adfcd6f14 = L.marker(\n",
              "                [44.89722222222222, -0.5613888888888889],\n",
              "                {}\n",
              "            ).addTo(map_ea7d5d703a7f0b736b336fd16d292e03);\n",
              "        \n",
              "    \n",
              "        var popup_4df58e64b54556f9443036ad701a0a04 = L.popup({&quot;maxWidth&quot;: &quot;100%&quot;});\n",
              "\n",
              "        \n",
              "            var html_e21a8a6b6627e09c5ff31ee7ab33f503 = $(`&lt;div id=&quot;html_e21a8a6b6627e09c5ff31ee7ab33f503&quot; style=&quot;width: 100.0%; height: 100.0%;&quot;&gt;Matmut Atlantique&lt;/div&gt;`)[0];\n",
              "            popup_4df58e64b54556f9443036ad701a0a04.setContent(html_e21a8a6b6627e09c5ff31ee7ab33f503);\n",
              "        \n",
              "\n",
              "        marker_038adbe4b165f3365152fc0adfcd6f14.bindPopup(popup_4df58e64b54556f9443036ad701a0a04)\n",
              "        ;\n",
              "\n",
              "        \n",
              "    \n",
              "    \n",
              "            var marker_fe73925b9ecf841934c500b99a273940 = L.marker(\n",
              "                [43.583333333333336, 1.4341666666666666],\n",
              "                {}\n",
              "            ).addTo(map_ea7d5d703a7f0b736b336fd16d292e03);\n",
              "        \n",
              "    \n",
              "        var popup_e79b3a1143321662b5e7586130202095 = L.popup({&quot;maxWidth&quot;: &quot;100%&quot;});\n",
              "\n",
              "        \n",
              "            var html_1cfe5a2939d1e766fc8ff7342b06a5e6 = $(`&lt;div id=&quot;html_1cfe5a2939d1e766fc8ff7342b06a5e6&quot; style=&quot;width: 100.0%; height: 100.0%;&quot;&gt;Stadium de Toulouse&lt;/div&gt;`)[0];\n",
              "            popup_e79b3a1143321662b5e7586130202095.setContent(html_1cfe5a2939d1e766fc8ff7342b06a5e6);\n",
              "        \n",
              "\n",
              "        marker_fe73925b9ecf841934c500b99a273940.bindPopup(popup_e79b3a1143321662b5e7586130202095)\n",
              "        ;\n",
              "\n",
              "        \n",
              "    \n",
              "    \n",
              "            var marker_ffcca4f8db31d954599b9d32b2296475 = L.marker(\n",
              "                [49.89388888888889, 2.263611111111111],\n",
              "                {}\n",
              "            ).addTo(map_ea7d5d703a7f0b736b336fd16d292e03);\n",
              "        \n",
              "    \n",
              "        var popup_5918b106bc945f1d36b2c13d2d95e3b0 = L.popup({&quot;maxWidth&quot;: &quot;100%&quot;});\n",
              "\n",
              "        \n",
              "            var html_3939da4da840eef5aaa1050d92dce21a = $(`&lt;div id=&quot;html_3939da4da840eef5aaa1050d92dce21a&quot; style=&quot;width: 100.0%; height: 100.0%;&quot;&gt;Stade de la Licorne&lt;/div&gt;`)[0];\n",
              "            popup_5918b106bc945f1d36b2c13d2d95e3b0.setContent(html_3939da4da840eef5aaa1050d92dce21a);\n",
              "        \n",
              "\n",
              "        marker_ffcca4f8db31d954599b9d32b2296475.bindPopup(popup_5918b106bc945f1d36b2c13d2d95e3b0)\n",
              "        ;\n",
              "\n",
              "        \n",
              "    \n",
              "    \n",
              "            var marker_b0e5ea0e9f69e9706fe1ffe0b0dc4796 = L.marker(\n",
              "                [43.7275, 7.415555555555556],\n",
              "                {}\n",
              "            ).addTo(map_ea7d5d703a7f0b736b336fd16d292e03);\n",
              "        \n",
              "    \n",
              "        var popup_e6f86eb151d0b41478594f0e5d14ea5b = L.popup({&quot;maxWidth&quot;: &quot;100%&quot;});\n",
              "\n",
              "        \n",
              "            var html_1fa1dbb1c57148511bbb3cd34310a5d1 = $(`&lt;div id=&quot;html_1fa1dbb1c57148511bbb3cd34310a5d1&quot; style=&quot;width: 100.0%; height: 100.0%;&quot;&gt;Stade Louis-II&lt;/div&gt;`)[0];\n",
              "            popup_e6f86eb151d0b41478594f0e5d14ea5b.setContent(html_1fa1dbb1c57148511bbb3cd34310a5d1);\n",
              "        \n",
              "\n",
              "        marker_b0e5ea0e9f69e9706fe1ffe0b0dc4796.bindPopup(popup_e6f86eb151d0b41478594f0e5d14ea5b)\n",
              "        ;\n",
              "\n",
              "        \n",
              "    \n",
              "    \n",
              "            var marker_7717e3e089afb8c0453a20bbe136e923 = L.marker(\n",
              "                [47.324444444444445, 5.068333333333333],\n",
              "                {}\n",
              "            ).addTo(map_ea7d5d703a7f0b736b336fd16d292e03);\n",
              "        \n",
              "    \n",
              "        var popup_8feb036dcaa3be2e64df0027a1120bac = L.popup({&quot;maxWidth&quot;: &quot;100%&quot;});\n",
              "\n",
              "        \n",
              "            var html_e705bc5a673c7cc61b3b951bd998e193 = $(`&lt;div id=&quot;html_e705bc5a673c7cc61b3b951bd998e193&quot; style=&quot;width: 100.0%; height: 100.0%;&quot;&gt;Stade Gaston-Gérard&lt;/div&gt;`)[0];\n",
              "            popup_8feb036dcaa3be2e64df0027a1120bac.setContent(html_e705bc5a673c7cc61b3b951bd998e193);\n",
              "        \n",
              "\n",
              "        marker_7717e3e089afb8c0453a20bbe136e923.bindPopup(popup_8feb036dcaa3be2e64df0027a1120bac)\n",
              "        ;\n",
              "\n",
              "        \n",
              "    \n",
              "    \n",
              "            var marker_bf7ac5a979331382719f925361e68cba = L.marker(\n",
              "                [41.93083333333333, 8.77638888888889],\n",
              "                {}\n",
              "            ).addTo(map_ea7d5d703a7f0b736b336fd16d292e03);\n",
              "        \n",
              "    \n",
              "        var popup_9a5f060d0d9b2317bc24be914be23df3 = L.popup({&quot;maxWidth&quot;: &quot;100%&quot;});\n",
              "\n",
              "        \n",
              "            var html_becc36862c668668fc9e483b50b70484 = $(`&lt;div id=&quot;html_becc36862c668668fc9e483b50b70484&quot; style=&quot;width: 100.0%; height: 100.0%;&quot;&gt;Stade François-Coty&lt;/div&gt;`)[0];\n",
              "            popup_9a5f060d0d9b2317bc24be914be23df3.setContent(html_becc36862c668668fc9e483b50b70484);\n",
              "        \n",
              "\n",
              "        marker_bf7ac5a979331382719f925361e68cba.bindPopup(popup_9a5f060d0d9b2317bc24be914be23df3)\n",
              "        ;\n",
              "\n",
              "        \n",
              "    \n",
              "    \n",
              "            var marker_d6c6500e7cf9dcffc8598315c2e52621 = L.marker(\n",
              "                [48.695277777777775, 6.210555555555556],\n",
              "                {}\n",
              "            ).addTo(map_ea7d5d703a7f0b736b336fd16d292e03);\n",
              "        \n",
              "    \n",
              "        var popup_0cd6d1f8c35bc04a9e465c8e8b69811a = L.popup({&quot;maxWidth&quot;: &quot;100%&quot;});\n",
              "\n",
              "        \n",
              "            var html_89e62249a2c86df218aefcb2dbbb0e73 = $(`&lt;div id=&quot;html_89e62249a2c86df218aefcb2dbbb0e73&quot; style=&quot;width: 100.0%; height: 100.0%;&quot;&gt;Stade Marcel-Picot&lt;/div&gt;`)[0];\n",
              "            popup_0cd6d1f8c35bc04a9e465c8e8b69811a.setContent(html_89e62249a2c86df218aefcb2dbbb0e73);\n",
              "        \n",
              "\n",
              "        marker_d6c6500e7cf9dcffc8598315c2e52621.bindPopup(popup_0cd6d1f8c35bc04a9e465c8e8b69811a)\n",
              "        ;\n",
              "\n",
              "        \n",
              "    \n",
              "    \n",
              "            var marker_a45e46c5e9ce7cba1c543ef4d82d1d32 = L.marker(\n",
              "                [49.49888888888889, 0.16972222222222222],\n",
              "                {}\n",
              "            ).addTo(map_ea7d5d703a7f0b736b336fd16d292e03);\n",
              "        \n",
              "    \n",
              "        var popup_1b8abfdd9cc6ce5c93fcabdb7953e615 = L.popup({&quot;maxWidth&quot;: &quot;100%&quot;});\n",
              "\n",
              "        \n",
              "            var html_b378e63b83fe635ea8deef1ba5fb699d = $(`&lt;div id=&quot;html_b378e63b83fe635ea8deef1ba5fb699d&quot; style=&quot;width: 100.0%; height: 100.0%;&quot;&gt;Stade Océane&lt;/div&gt;`)[0];\n",
              "            popup_1b8abfdd9cc6ce5c93fcabdb7953e615.setContent(html_b378e63b83fe635ea8deef1ba5fb699d);\n",
              "        \n",
              "\n",
              "        marker_a45e46c5e9ce7cba1c543ef4d82d1d32.bindPopup(popup_1b8abfdd9cc6ce5c93fcabdb7953e615)\n",
              "        ;\n",
              "\n",
              "        \n",
              "    \n",
              "    \n",
              "            var marker_e29bed452e26ea346a1e8ded3618ae51 = L.marker(\n",
              "                [49.17944444444444, -0.39666666666666667],\n",
              "                {}\n",
              "            ).addTo(map_ea7d5d703a7f0b736b336fd16d292e03);\n",
              "        \n",
              "    \n",
              "        var popup_e5643579086332dd70ce50666d23853a = L.popup({&quot;maxWidth&quot;: &quot;100%&quot;});\n",
              "\n",
              "        \n",
              "            var html_8a6e015ffd25c02892d96061d90875d6 = $(`&lt;div id=&quot;html_8a6e015ffd25c02892d96061d90875d6&quot; style=&quot;width: 100.0%; height: 100.0%;&quot;&gt;Stade Michel-d&#x27;Ornano&lt;/div&gt;`)[0];\n",
              "            popup_e5643579086332dd70ce50666d23853a.setContent(html_8a6e015ffd25c02892d96061d90875d6);\n",
              "        \n",
              "\n",
              "        marker_e29bed452e26ea346a1e8ded3618ae51.bindPopup(popup_e5643579086332dd70ce50666d23853a)\n",
              "        ;\n",
              "\n",
              "        \n",
              "    \n",
              "    \n",
              "            var marker_87974a07af048cb7576b3fdb21927914 = L.marker(\n",
              "                [45.81583333333333, 3.1216666666666666],\n",
              "                {}\n",
              "            ).addTo(map_ea7d5d703a7f0b736b336fd16d292e03);\n",
              "        \n",
              "    \n",
              "        var popup_cd1cf7d25d18894375dd7c5ded6a4af0 = L.popup({&quot;maxWidth&quot;: &quot;100%&quot;});\n",
              "\n",
              "        \n",
              "            var html_6d927a54ff80e9928408ef8722d45cd4 = $(`&lt;div id=&quot;html_6d927a54ff80e9928408ef8722d45cd4&quot; style=&quot;width: 100.0%; height: 100.0%;&quot;&gt;Stade Gabriel-Montpied&lt;/div&gt;`)[0];\n",
              "            popup_cd1cf7d25d18894375dd7c5ded6a4af0.setContent(html_6d927a54ff80e9928408ef8722d45cd4);\n",
              "        \n",
              "\n",
              "        marker_87974a07af048cb7576b3fdb21927914.bindPopup(popup_cd1cf7d25d18894375dd7c5ded6a4af0)\n",
              "        ;\n",
              "\n",
              "        \n",
              "    \n",
              "    \n",
              "            var marker_af76236dd086457c6ef63fa0b511e091 = L.marker(\n",
              "                [48.566111111111105, -3.1644444444444444],\n",
              "                {}\n",
              "            ).addTo(map_ea7d5d703a7f0b736b336fd16d292e03);\n",
              "        \n",
              "    \n",
              "        var popup_48d4633a4b7a29d7cefb7a31bac3e698 = L.popup({&quot;maxWidth&quot;: &quot;100%&quot;});\n",
              "\n",
              "        \n",
              "            var html_f534cb846103e117131a3c9f7cdb7f3d = $(`&lt;div id=&quot;html_f534cb846103e117131a3c9f7cdb7f3d&quot; style=&quot;width: 100.0%; height: 100.0%;&quot;&gt;Stade de Roudourou&lt;/div&gt;`)[0];\n",
              "            popup_48d4633a4b7a29d7cefb7a31bac3e698.setContent(html_f534cb846103e117131a3c9f7cdb7f3d);\n",
              "        \n",
              "\n",
              "        marker_af76236dd086457c6ef63fa0b511e091.bindPopup(popup_48d4633a4b7a29d7cefb7a31bac3e698)\n",
              "        ;\n",
              "\n",
              "        \n",
              "    \n",
              "    \n",
              "            var marker_446a10dd41525e4f167e038eac0acb9c = L.marker(\n",
              "                [47.74888888888889, -3.3691666666666666],\n",
              "                {}\n",
              "            ).addTo(map_ea7d5d703a7f0b736b336fd16d292e03);\n",
              "        \n",
              "    \n",
              "        var popup_07ff695ebac8d61f2fa90d18dedcdabf = L.popup({&quot;maxWidth&quot;: &quot;100%&quot;});\n",
              "\n",
              "        \n",
              "            var html_83b8cb39b73d93d5f76ea032de9cda82 = $(`&lt;div id=&quot;html_83b8cb39b73d93d5f76ea032de9cda82&quot; style=&quot;width: 100.0%; height: 100.0%;&quot;&gt;Stade du Moustoir&lt;/div&gt;`)[0];\n",
              "            popup_07ff695ebac8d61f2fa90d18dedcdabf.setContent(html_83b8cb39b73d93d5f76ea032de9cda82);\n",
              "        \n",
              "\n",
              "        marker_446a10dd41525e4f167e038eac0acb9c.bindPopup(popup_07ff695ebac8d61f2fa90d18dedcdabf)\n",
              "        ;\n",
              "\n",
              "        \n",
              "    \n",
              "    \n",
              "            var marker_e301a56253257942432da1caa5eafddd = L.marker(\n",
              "                [48.81861111111112, 2.346388888888889],\n",
              "                {}\n",
              "            ).addTo(map_ea7d5d703a7f0b736b336fd16d292e03);\n",
              "        \n",
              "    \n",
              "        var popup_eefb0a887a18f0a81c499c89c90c86a2 = L.popup({&quot;maxWidth&quot;: &quot;100%&quot;});\n",
              "\n",
              "        \n",
              "            var html_952cc01c5b531e4cdcf585f2d1da9c96 = $(`&lt;div id=&quot;html_952cc01c5b531e4cdcf585f2d1da9c96&quot; style=&quot;width: 100.0%; height: 100.0%;&quot;&gt;Stade Charléty&lt;/div&gt;`)[0];\n",
              "            popup_eefb0a887a18f0a81c499c89c90c86a2.setContent(html_952cc01c5b531e4cdcf585f2d1da9c96);\n",
              "        \n",
              "\n",
              "        marker_e301a56253257942432da1caa5eafddd.bindPopup(popup_eefb0a887a18f0a81c499c89c90c86a2)\n",
              "        ;\n",
              "\n",
              "        \n",
              "    \n",
              "    \n",
              "            var marker_6177ded6b5d0a065bddbb88e09bdf6cb = L.marker(\n",
              "                [46.801944444444445, 1.7216666666666667],\n",
              "                {}\n",
              "            ).addTo(map_ea7d5d703a7f0b736b336fd16d292e03);\n",
              "        \n",
              "    \n",
              "        var popup_85a2078d6c0e17a6c315f44783529374 = L.popup({&quot;maxWidth&quot;: &quot;100%&quot;});\n",
              "\n",
              "        \n",
              "            var html_6fd5198b24260ebd8a23950086c1ea79 = $(`&lt;div id=&quot;html_6fd5198b24260ebd8a23950086c1ea79&quot; style=&quot;width: 100.0%; height: 100.0%;&quot;&gt;Stade Gaston-Petit&lt;/div&gt;`)[0];\n",
              "            popup_85a2078d6c0e17a6c315f44783529374.setContent(html_6fd5198b24260ebd8a23950086c1ea79);\n",
              "        \n",
              "\n",
              "        marker_6177ded6b5d0a065bddbb88e09bdf6cb.bindPopup(popup_85a2078d6c0e17a6c315f44783529374)\n",
              "        ;\n",
              "\n",
              "        \n",
              "    \n",
              "    \n",
              "            var marker_4a90c459b8cd341f1f1b2f98f7e6c99c = L.marker(\n",
              "                [47.78666666666666, 3.588611111111111],\n",
              "                {}\n",
              "            ).addTo(map_ea7d5d703a7f0b736b336fd16d292e03);\n",
              "        \n",
              "    \n",
              "        var popup_91de7cadefd9f008c26a14ddfb7ee18d = L.popup({&quot;maxWidth&quot;: &quot;100%&quot;});\n",
              "\n",
              "        \n",
              "            var html_f32f4b8d51d3ee8714cfe6e72ee49b46 = $(`&lt;div id=&quot;html_f32f4b8d51d3ee8714cfe6e72ee49b46&quot; style=&quot;width: 100.0%; height: 100.0%;&quot;&gt;Stade de l&#x27;Abbé-Deschamps&lt;/div&gt;`)[0];\n",
              "            popup_91de7cadefd9f008c26a14ddfb7ee18d.setContent(html_f32f4b8d51d3ee8714cfe6e72ee49b46);\n",
              "        \n",
              "\n",
              "        marker_4a90c459b8cd341f1f1b2f98f7e6c99c.bindPopup(popup_91de7cadefd9f008c26a14ddfb7ee18d)\n",
              "        ;\n",
              "\n",
              "        \n",
              "    \n",
              "    \n",
              "            var marker_788a756404d0b9e6cb54bac0a90f4a50 = L.marker(\n",
              "                [47.84027777777778, 1.9411111111111112],\n",
              "                {}\n",
              "            ).addTo(map_ea7d5d703a7f0b736b336fd16d292e03);\n",
              "        \n",
              "    \n",
              "        var popup_b219418fbd041aae9c141d72821d03dc = L.popup({&quot;maxWidth&quot;: &quot;100%&quot;});\n",
              "\n",
              "        \n",
              "            var html_dcee03b2d5318c4ccc1fdb60b12fe437 = $(`&lt;div id=&quot;html_dcee03b2d5318c4ccc1fdb60b12fe437&quot; style=&quot;width: 100.0%; height: 100.0%;&quot;&gt;Stade de la Source&lt;/div&gt;`)[0];\n",
              "            popup_b219418fbd041aae9c141d72821d03dc.setContent(html_dcee03b2d5318c4ccc1fdb60b12fe437);\n",
              "        \n",
              "\n",
              "        marker_788a756404d0b9e6cb54bac0a90f4a50.bindPopup(popup_b219418fbd041aae9c141d72821d03dc)\n",
              "        ;\n",
              "\n",
              "        \n",
              "    \n",
              "    \n",
              "            var marker_85de7aba60948c7230c3c996ce2b3365 = L.marker(\n",
              "                [50.34861111111111, 3.5322222222222224],\n",
              "                {}\n",
              "            ).addTo(map_ea7d5d703a7f0b736b336fd16d292e03);\n",
              "        \n",
              "    \n",
              "        var popup_3d1f2976477e8708c61b90fa9e1da61d = L.popup({&quot;maxWidth&quot;: &quot;100%&quot;});\n",
              "\n",
              "        \n",
              "            var html_c7818abda84a9a4f8a126359e785e35e = $(`&lt;div id=&quot;html_c7818abda84a9a4f8a126359e785e35e&quot; style=&quot;width: 100.0%; height: 100.0%;&quot;&gt;Stade du Hainaut&lt;/div&gt;`)[0];\n",
              "            popup_3d1f2976477e8708c61b90fa9e1da61d.setContent(html_c7818abda84a9a4f8a126359e785e35e);\n",
              "        \n",
              "\n",
              "        marker_85de7aba60948c7230c3c996ce2b3365.bindPopup(popup_3d1f2976477e8708c61b90fa9e1da61d)\n",
              "        ;\n",
              "\n",
              "        \n",
              "    \n",
              "    \n",
              "            var marker_67c887478b8a9bf1c66d52f60a94e985 = L.marker(\n",
              "                [46.316944444444445, -0.4891666666666667],\n",
              "                {}\n",
              "            ).addTo(map_ea7d5d703a7f0b736b336fd16d292e03);\n",
              "        \n",
              "    \n",
              "        var popup_2c94aebe5976fe0b211f44523acd20de = L.popup({&quot;maxWidth&quot;: &quot;100%&quot;});\n",
              "\n",
              "        \n",
              "            var html_c6e73962218bf6e1eb86895b5e6e0640 = $(`&lt;div id=&quot;html_c6e73962218bf6e1eb86895b5e6e0640&quot; style=&quot;width: 100.0%; height: 100.0%;&quot;&gt;Stade René-Gaillard&lt;/div&gt;`)[0];\n",
              "            popup_2c94aebe5976fe0b211f44523acd20de.setContent(html_c6e73962218bf6e1eb86895b5e6e0640);\n",
              "        \n",
              "\n",
              "        marker_67c887478b8a9bf1c66d52f60a94e985.bindPopup(popup_2c94aebe5976fe0b211f44523acd20de)\n",
              "        ;\n",
              "\n",
              "        \n",
              "    \n",
              "    \n",
              "            var marker_c1a5a85469f7e3d5de299a36a296c876 = L.marker(\n",
              "                [45.1875, 5.74],\n",
              "                {}\n",
              "            ).addTo(map_ea7d5d703a7f0b736b336fd16d292e03);\n",
              "        \n",
              "    \n",
              "        var popup_b57d9c4d2f4fc4c071e3680e065fa257 = L.popup({&quot;maxWidth&quot;: &quot;100%&quot;});\n",
              "\n",
              "        \n",
              "            var html_5444ee1df934946ab1f595a1d6f4bfda = $(`&lt;div id=&quot;html_5444ee1df934946ab1f595a1d6f4bfda&quot; style=&quot;width: 100.0%; height: 100.0%;&quot;&gt;Stade des Alpes&lt;/div&gt;`)[0];\n",
              "            popup_b57d9c4d2f4fc4c071e3680e065fa257.setContent(html_5444ee1df934946ab1f595a1d6f4bfda);\n",
              "        \n",
              "\n",
              "        marker_c1a5a85469f7e3d5de299a36a296c876.bindPopup(popup_b57d9c4d2f4fc4c071e3680e065fa257)\n",
              "        ;\n",
              "\n",
              "        \n",
              "    \n",
              "    \n",
              "            var marker_a1460b81b7df4d3bd078c4ac0e77674f = L.marker(\n",
              "                [47.51222222222222, 6.811388888888889],\n",
              "                {}\n",
              "            ).addTo(map_ea7d5d703a7f0b736b336fd16d292e03);\n",
              "        \n",
              "    \n",
              "        var popup_e3d113fe30ccde8112c4a326435fc01f = L.popup({&quot;maxWidth&quot;: &quot;100%&quot;});\n",
              "\n",
              "        \n",
              "            var html_bbc58be6bc538039a97e37d41b976918 = $(`&lt;div id=&quot;html_bbc58be6bc538039a97e37d41b976918&quot; style=&quot;width: 100.0%; height: 100.0%;&quot;&gt;Stade Auguste-Bonal&lt;/div&gt;`)[0];\n",
              "            popup_e3d113fe30ccde8112c4a326435fc01f.setContent(html_bbc58be6bc538039a97e37d41b976918);\n",
              "        \n",
              "\n",
              "        marker_a1460b81b7df4d3bd078c4ac0e77674f.bindPopup(popup_e3d113fe30ccde8112c4a326435fc01f)\n",
              "        ;\n",
              "\n",
              "        \n",
              "    \n",
              "    \n",
              "            var marker_ea54b51dd1bc4fe6b99b052c1a62adf5 = L.marker(\n",
              "                [44.35166666666667, 2.563611111111111],\n",
              "                {}\n",
              "            ).addTo(map_ea7d5d703a7f0b736b336fd16d292e03);\n",
              "        \n",
              "    \n",
              "        var popup_25beb9ab914687aa9d3808181b899d4b = L.popup({&quot;maxWidth&quot;: &quot;100%&quot;});\n",
              "\n",
              "        \n",
              "            var html_0f9b4a6c07b4438de43824380936254e = $(`&lt;div id=&quot;html_0f9b4a6c07b4438de43824380936254e&quot; style=&quot;width: 100.0%; height: 100.0%;&quot;&gt;Stade Paul-Lignon&lt;/div&gt;`)[0];\n",
              "            popup_25beb9ab914687aa9d3808181b899d4b.setContent(html_0f9b4a6c07b4438de43824380936254e);\n",
              "        \n",
              "\n",
              "        marker_ea54b51dd1bc4fe6b99b052c1a62adf5.bindPopup(popup_25beb9ab914687aa9d3808181b899d4b)\n",
              "        ;\n",
              "\n",
              "        \n",
              "    \n",
              "    \n",
              "            var marker_8608b5041de65692c797c10a45fadf1c = L.marker(\n",
              "                [49.17916666666667, 2.233611111111111],\n",
              "                {}\n",
              "            ).addTo(map_ea7d5d703a7f0b736b336fd16d292e03);\n",
              "        \n",
              "    \n",
              "        var popup_91996edfc4f51bf0a42c6e989dd5b1a4 = L.popup({&quot;maxWidth&quot;: &quot;100%&quot;});\n",
              "\n",
              "        \n",
              "            var html_d80d5fcf0223fa5d737c8883855387ca = $(`&lt;div id=&quot;html_d80d5fcf0223fa5d737c8883855387ca&quot; style=&quot;width: 100.0%; height: 100.0%;&quot;&gt;Stade Walter Luzi&lt;/div&gt;`)[0];\n",
              "            popup_91996edfc4f51bf0a42c6e989dd5b1a4.setContent(html_d80d5fcf0223fa5d737c8883855387ca);\n",
              "        \n",
              "\n",
              "        marker_8608b5041de65692c797c10a45fadf1c.bindPopup(popup_91996edfc4f51bf0a42c6e989dd5b1a4)\n",
              "        ;\n",
              "\n",
              "        \n",
              "    \n",
              "    \n",
              "            var marker_1594a2be27ba61550eef16df3f6cc2e1 = L.marker(\n",
              "                [48.3075, 4.0986111111111105],\n",
              "                {}\n",
              "            ).addTo(map_ea7d5d703a7f0b736b336fd16d292e03);\n",
              "        \n",
              "    \n",
              "        var popup_58960f258601682adefe1d4bba94e74a = L.popup({&quot;maxWidth&quot;: &quot;100%&quot;});\n",
              "\n",
              "        \n",
              "            var html_238ba2d6adb640908f94b11a392de558 = $(`&lt;div id=&quot;html_238ba2d6adb640908f94b11a392de558&quot; style=&quot;width: 100.0%; height: 100.0%;&quot;&gt;Stade de l&#x27;Aube&lt;/div&gt;`)[0];\n",
              "            popup_58960f258601682adefe1d4bba94e74a.setContent(html_238ba2d6adb640908f94b11a392de558);\n",
              "        \n",
              "\n",
              "        marker_1594a2be27ba61550eef16df3f6cc2e1.bindPopup(popup_58960f258601682adefe1d4bba94e74a)\n",
              "        ;\n",
              "\n",
              "        \n",
              "    \n",
              "    \n",
              "            var marker_f836e74fba1815e31b0bd20a9d1151f4 = L.marker(\n",
              "                [50.43277777777777, 2.815],\n",
              "                {}\n",
              "            ).addTo(map_ea7d5d703a7f0b736b336fd16d292e03);\n",
              "        \n",
              "    \n",
              "        var popup_6e5cb07b69039bb5c75ce34e44c615c4 = L.popup({&quot;maxWidth&quot;: &quot;100%&quot;});\n",
              "\n",
              "        \n",
              "            var html_cbd40833aaad020e5d3211fbf2e7cec5 = $(`&lt;div id=&quot;html_cbd40833aaad020e5d3211fbf2e7cec5&quot; style=&quot;width: 100.0%; height: 100.0%;&quot;&gt;Stade Bollaert-Delelis&lt;/div&gt;`)[0];\n",
              "            popup_6e5cb07b69039bb5c75ce34e44c615c4.setContent(html_cbd40833aaad020e5d3211fbf2e7cec5);\n",
              "        \n",
              "\n",
              "        marker_f836e74fba1815e31b0bd20a9d1151f4.bindPopup(popup_6e5cb07b69039bb5c75ce34e44c615c4)\n",
              "        ;\n",
              "\n",
              "        \n",
              "    \n",
              "    \n",
              "            var marker_f9967ac22670f14dca5d446d2fad499c = L.marker(\n",
              "                [47.95888888888889, 0.22472222222222224],\n",
              "                {}\n",
              "            ).addTo(map_ea7d5d703a7f0b736b336fd16d292e03);\n",
              "        \n",
              "    \n",
              "        var popup_837dcf618581a0dcdf83e5ff220b7030 = L.popup({&quot;maxWidth&quot;: &quot;100%&quot;});\n",
              "\n",
              "        \n",
              "            var html_c3b86dd0825d498a77d3fe5251b95f56 = $(`&lt;div id=&quot;html_c3b86dd0825d498a77d3fe5251b95f56&quot; style=&quot;width: 100.0%; height: 100.0%;&quot;&gt;Le Mans Arena&lt;/div&gt;`)[0];\n",
              "            popup_837dcf618581a0dcdf83e5ff220b7030.setContent(html_c3b86dd0825d498a77d3fe5251b95f56);\n",
              "        \n",
              "\n",
              "        marker_f9967ac22670f14dca5d446d2fad499c.bindPopup(popup_837dcf618581a0dcdf83e5ff220b7030)\n",
              "        ;\n",
              "\n",
              "        \n",
              "    \n",
              "    \n",
              "            map_ea7d5d703a7f0b736b336fd16d292e03.fitBounds(\n",
              "                [[41.93083333333333, -4.461666666666667], [50.61194444444445, 8.77638888888889]],\n",
              "                {}\n",
              "            );\n",
              "        \n",
              "&lt;/script&gt;\" style=\"position:absolute;width:100%;height:100%;left:0;top:0;border:none !important;\" allowfullscreen webkitallowfullscreen mozallowfullscreen></iframe></div></div>"
            ]
          }
        }
      ],
      "source": [],
      "id": "b654c920-4ebc-488d-bdb9-10bdb0fcbe5d"
    },
    {
      "cell_type": "markdown",
      "metadata": {},
      "source": [
        "{{< /rawhtml >}}\n",
        "\n",
        "# Exercice 1 : Les pokémons (version non guidée)\n",
        "\n",
        "{{% box status=“exercise” title=“Exercice” icon=“fas fa-pencil-alt” %}}\n",
        "Pour cet exercice, nous vous demandons d’obtenir différentes informations sur les pokémons à partir du site internet [pokemondb.net](http://pokemondb.net/pokedex/national).\n",
        "\n",
        "1.  les informations personnelles des `893` pokemons sur le site internet [pokemondb.net](http://pokemondb.net/pokedex/national). Les informations que nous aimerions obtenir au final dans un DataFrame sont celles contenues dans 4 tableaux :\n",
        "\n",
        "-   Pokédex data\n",
        "-   Training\n",
        "-   Breeding\n",
        "-   Base stats\n",
        "\n",
        "1.  Nous aimerions que vous récupériez également les images de chacun des pokémons et que vous les enregistriez dans un dossier\n",
        "\n",
        "-   Petit indice : utilisez les modules request et [shutil](https://docs.python.org/3/library/shutil.html)\n",
        "-   Pour cette question, il faut que vous cherchiez de vous même certains éléments, tout n’est pas présent dans le TD.\n",
        "\n",
        "{{% /box %}}\n",
        "\n",
        "Pour la question 1, l’objectif est d’obtenir le code source d’un tableau comme\n",
        "celui qui suit\n",
        "(Pokemon [Nincada](http://pokemondb.net/pokedex/nincada).)\n",
        "\n",
        "<h2>\n",
        "\n",
        "Pokédex data\n",
        "\n",
        "</h2>\n",
        "\n",
        "<table class=\"vitals-table\">\n",
        "\n",
        "<tbody>\n",
        "\n",
        "<tr>\n",
        "\n",
        "<th>\n",
        "\n",
        "National №\n",
        "\n",
        "</th>\n",
        "\n",
        "<td>\n",
        "\n",
        "<strong>290</strong>\n",
        "\n",
        "</td>\n",
        "\n",
        "</tr>\n",
        "\n",
        "<tr>\n",
        "\n",
        "<th>\n",
        "\n",
        "Type\n",
        "\n",
        "</th>\n",
        "\n",
        "<td>\n",
        "\n",
        "<a class=\"type-icon type-bug\" href=\"/type/bug\">Bug</a> <a class=\"type-icon type-ground\" href=\"/type/ground\">Ground</a>\n",
        "\n",
        "</td>\n",
        "\n",
        "</tr>\n",
        "\n",
        "<tr>\n",
        "\n",
        "<th>\n",
        "\n",
        "Species\n",
        "\n",
        "</th>\n",
        "\n",
        "<td>\n",
        "\n",
        "Trainee Pokémon\n",
        "\n",
        "</td>\n",
        "\n",
        "</tr>\n",
        "\n",
        "<tr>\n",
        "\n",
        "<th>\n",
        "\n",
        "Height\n",
        "\n",
        "</th>\n",
        "\n",
        "<td>\n",
        "\n",
        "0.5 m (1′08″)\n",
        "\n",
        "</td>\n",
        "\n",
        "</tr>\n",
        "\n",
        "<tr>\n",
        "\n",
        "<th>\n",
        "\n",
        "Weight\n",
        "\n",
        "</th>\n",
        "\n",
        "<td>\n",
        "\n",
        "5.5 kg (12.1 lbs)\n",
        "\n",
        "</td>\n",
        "\n",
        "</tr>\n",
        "\n",
        "<tr>\n",
        "\n",
        "<th>\n",
        "\n",
        "Abilities\n",
        "\n",
        "</th>\n",
        "\n",
        "<td>\n",
        "\n",
        "<span class=\"text-muted\">1. <a href=\"/ability/compound-eyes\" title=\"The Pokémon's accuracy is boosted.\">Compound Eyes</a></span><br><small class=\"text-muted\"><a href=\"/ability/run-away\" title=\"Enables a sure getaway from wild Pokémon.\">Run Away</a> (hidden ability)</small><br>\n",
        "\n",
        "</td>\n",
        "\n",
        "</tr>\n",
        "\n",
        "<tr>\n",
        "\n",
        "<th>\n",
        "\n",
        "Local №\n",
        "\n",
        "</th>\n",
        "\n",
        "<td>\n",
        "\n",
        "042 <small class=\"text-muted\">(Ruby/Sapphire/Emerald)</small><br>111 <small class=\"text-muted\">(X/Y — Central Kalos)</small><br>043 <small class=\"text-muted\">(Omega Ruby/Alpha Sapphire)</small><br>104 <small class=\"text-muted\">(Sword/Shield)</small><br>\n",
        "\n",
        "</td>\n",
        "\n",
        "</tr>\n",
        "\n",
        "</tbody>\n",
        "\n",
        "</table>\n",
        "\n",
        "<h2>\n",
        "\n",
        "Training\n",
        "\n",
        "</h2>\n",
        "\n",
        "<table class=\"vitals-table\">\n",
        "\n",
        "<tbody>\n",
        "\n",
        "<tr>\n",
        "\n",
        "<th>\n",
        "\n",
        "EV yield\n",
        "\n",
        "</th>\n",
        "\n",
        "<td class=\"text\">\n",
        "\n",
        "1 Defense\n",
        "\n",
        "</td>\n",
        "\n",
        "</tr>\n",
        "\n",
        "<tr>\n",
        "\n",
        "<th>\n",
        "\n",
        "Catch rate\n",
        "\n",
        "</th>\n",
        "\n",
        "<td>\n",
        "\n",
        "255 <small class=\"text-muted\">(33.3% with PokéBall, full HP)</small>\n",
        "\n",
        "</td>\n",
        "\n",
        "</tr>\n",
        "\n",
        "<tr>\n",
        "\n",
        "<th>\n",
        "\n",
        "Base <a href=\"/glossary#def-friendship\">Friendship</a>\n",
        "\n",
        "</th>\n",
        "\n",
        "<td>\n",
        "\n",
        "70 <small class=\"text-muted\">(normal)</small>\n",
        "\n",
        "</td>\n",
        "\n",
        "</tr>\n",
        "\n",
        "<tr>\n",
        "\n",
        "<th>\n",
        "\n",
        "Base Exp.\n",
        "\n",
        "</th>\n",
        "\n",
        "<td>\n",
        "\n",
        "53\n",
        "\n",
        "</td>\n",
        "\n",
        "</tr>\n",
        "\n",
        "<tr>\n",
        "\n",
        "<th>\n",
        "\n",
        "Growth Rate\n",
        "\n",
        "</th>\n",
        "\n",
        "<td>\n",
        "\n",
        "Erratic\n",
        "\n",
        "</td>\n",
        "\n",
        "</tr>\n",
        "\n",
        "</tbody>\n",
        "\n",
        "</table>\n",
        "\n",
        "<h2>\n",
        "\n",
        "Breeding\n",
        "\n",
        "</h2>\n",
        "\n",
        "<table class=\"vitals-table\">\n",
        "\n",
        "<tbody>\n",
        "\n",
        "<tr>\n",
        "\n",
        "<th>\n",
        "\n",
        "Egg Groups\n",
        "\n",
        "</th>\n",
        "\n",
        "<td>\n",
        "\n",
        "<a href=\"/egg-group/bug\">Bug</a>\n",
        "\n",
        "</td>\n",
        "\n",
        "</tr>\n",
        "\n",
        "<tr>\n",
        "\n",
        "<th>\n",
        "\n",
        "Gender\n",
        "\n",
        "</th>\n",
        "\n",
        "<td>\n",
        "\n",
        "<span class=\"text-blue\">50% male</span>, <span class=\"text-pink\">50% female</span>\n",
        "\n",
        "</td>\n",
        "\n",
        "</tr>\n",
        "\n",
        "<tr>\n",
        "\n",
        "<th>\n",
        "\n",
        "<a href=\"/glossary#def-eggcycle\">Egg cycles</a>\n",
        "\n",
        "</th>\n",
        "\n",
        "<td>\n",
        "\n",
        "15 <small class=\"text-muted\">(3,599–3,855 steps)</small>\n",
        "\n",
        "</td>\n",
        "\n",
        "</tr>\n",
        "\n",
        "</tbody>\n",
        "\n",
        "</table>\n",
        "\n",
        "<h2>\n",
        "\n",
        "Base stats\n",
        "\n",
        "</h2>\n",
        "\n",
        "<table class=\"vitals-table\">\n",
        "\n",
        "<tbody>\n",
        "\n",
        "<tr>\n",
        "\n",
        "<th>\n",
        "\n",
        "HP\n",
        "\n",
        "</th>\n",
        "\n",
        "<td class=\"cell-num\">\n",
        "\n",
        "31\n",
        "\n",
        "</td>\n",
        "\n",
        "<td class=\"cell-barchart\">\n",
        "\n",
        "</td>\n",
        "\n",
        "<td class=\"cell-num\">\n",
        "\n",
        "172\n",
        "\n",
        "</td>\n",
        "\n",
        "<td class=\"cell-num\">\n",
        "\n",
        "266\n",
        "\n",
        "</td>\n",
        "\n",
        "</tr>\n",
        "\n",
        "<tr>\n",
        "\n",
        "<th>\n",
        "\n",
        "Attack\n",
        "\n",
        "</th>\n",
        "\n",
        "<td class=\"cell-num\">\n",
        "\n",
        "45\n",
        "\n",
        "</td>\n",
        "\n",
        "<td class=\"cell-barchart\">\n",
        "\n",
        "</td>\n",
        "\n",
        "<td class=\"cell-num\">\n",
        "\n",
        "85\n",
        "\n",
        "</td>\n",
        "\n",
        "<td class=\"cell-num\">\n",
        "\n",
        "207\n",
        "\n",
        "</td>\n",
        "\n",
        "</tr>\n",
        "\n",
        "<tr>\n",
        "\n",
        "<th>\n",
        "\n",
        "Defense\n",
        "\n",
        "</th>\n",
        "\n",
        "<td class=\"cell-num\">\n",
        "\n",
        "90\n",
        "\n",
        "</td>\n",
        "\n",
        "<td class=\"cell-barchart\">\n",
        "\n",
        "</td>\n",
        "\n",
        "<td class=\"cell-num\">\n",
        "\n",
        "166\n",
        "\n",
        "</td>\n",
        "\n",
        "<td class=\"cell-num\">\n",
        "\n",
        "306\n",
        "\n",
        "</td>\n",
        "\n",
        "</tr>\n",
        "\n",
        "<tr>\n",
        "\n",
        "<th>\n",
        "\n",
        "Sp. Atk\n",
        "\n",
        "</th>\n",
        "\n",
        "<td class=\"cell-num\">\n",
        "\n",
        "30\n",
        "\n",
        "</td>\n",
        "\n",
        "<td class=\"cell-barchart\">\n",
        "\n",
        "</td>\n",
        "\n",
        "<td class=\"cell-num\">\n",
        "\n",
        "58\n",
        "\n",
        "</td>\n",
        "\n",
        "<td class=\"cell-num\">\n",
        "\n",
        "174\n",
        "\n",
        "</td>\n",
        "\n",
        "</tr>\n",
        "\n",
        "<tr>\n",
        "\n",
        "<th>\n",
        "\n",
        "Sp. Def\n",
        "\n",
        "</th>\n",
        "\n",
        "<td class=\"cell-num\">\n",
        "\n",
        "30\n",
        "\n",
        "</td>\n",
        "\n",
        "<td class=\"cell-barchart\">\n",
        "\n",
        "</td>\n",
        "\n",
        "<td class=\"cell-num\">\n",
        "\n",
        "58\n",
        "\n",
        "</td>\n",
        "\n",
        "<td class=\"cell-num\">\n",
        "\n",
        "174\n",
        "\n",
        "</td>\n",
        "\n",
        "</tr>\n",
        "\n",
        "<tr>\n",
        "\n",
        "<th>\n",
        "\n",
        "Speed\n",
        "\n",
        "</th>\n",
        "\n",
        "<td class=\"cell-num\">\n",
        "\n",
        "40\n",
        "\n",
        "</td>\n",
        "\n",
        "<td class=\"cell-barchart\">\n",
        "\n",
        "</td>\n",
        "\n",
        "<td class=\"cell-num\">\n",
        "\n",
        "76\n",
        "\n",
        "</td>\n",
        "\n",
        "<td class=\"cell-num\">\n",
        "\n",
        "196\n",
        "\n",
        "</td>\n",
        "\n",
        "</tr>\n",
        "\n",
        "</tbody>\n",
        "\n",
        "<tfoot>\n",
        "\n",
        "<tr>\n",
        "\n",
        "<th>\n",
        "\n",
        "Total\n",
        "\n",
        "</th>\n",
        "\n",
        "<td class=\"cell-total\">\n",
        "\n",
        "<b>266</b>\n",
        "\n",
        "</td>\n",
        "\n",
        "<th class=\"cell-barchart\">\n",
        "\n",
        "</th>\n",
        "\n",
        "<th>\n",
        "\n",
        "Min\n",
        "\n",
        "</th>\n",
        "\n",
        "<th>\n",
        "\n",
        "Max\n",
        "\n",
        "</th>\n",
        "\n",
        "</tr>\n",
        "\n",
        "</tfoot>\n",
        "\n",
        "</table>\n",
        "\n",
        "# Exercice 1 : Les pokémons (version guidée)\n",
        "\n",
        "{{% box status=“exercise” title=“Exercice” icon=“fas fa-pencil-alt” %}}\n",
        "\n",
        "Pour cet exercice, nous vous demandons d’obtenir différentes informations sur les pokémons à partir du site internet [pokemondb.net](http://pokemondb.net/pokedex/national).\n",
        "\n",
        "## Etape 1\n",
        "\n",
        "Nous souhaitons tout d’abord obtenir les informations personnelles des `893` pokemons sur [pokemondb.net](http://pokemondb.net/pokedex/national). Les informations que nous aimerions obtenir au final pour les pokemons sont celles contenues dans 4 tableaux :\n",
        "\n",
        "-   Pokédex data\n",
        "-   Training\n",
        "-   Breeding\n",
        "-   Base stats\n",
        "\n",
        "Plus haut est disponible un exemple.\n",
        "\n",
        "Pour cela, le code devra être divisé en plusieurs étapes :\n",
        "\n",
        "1.  Trouvez la page principale du site et la transformez en un objet intelligible pour votre code. Les fonctions suivantes vous seront utiles :\n",
        "\n",
        "-   `urllib.request.Request`\n",
        "-   `urllib.request.urlopen`\n",
        "-   `bs4.BeautifulSoup`\n",
        "\n",
        "Pour ce site, par rapport à tout à l’heure,\n",
        "il faudra ajouter un paramètre supplémentaire à la fonction `Request`:\n",
        "\n",
        "``` python\n",
        "urllib.request.Request( www.sitequinousintéresse.com ,headers={'User-Agent': 'Mozilla/5.0'})\n",
        "```\n",
        "\n",
        "1.  Créez une fonction qui permet de récupérer la page d’un pokémon à partir de son nom.\n",
        "\n",
        "2.  A partir de la page de `bulbasaur`, obtenez les 4 tableaux qui nous intéressent :\n",
        "\n",
        "-   on va chercher l’élément suivant : `('table', { 'class' : \"vitals-table\"})`\n",
        "-   puis stocker ses éléments dans un dictionnaire\n",
        "\n",
        "Vous devriez obtenir une liste de caractéristiques proche de celle-ci\n",
        "(la structure est ici en dictionnaire, ce qui est pratique)"
      ],
      "id": "c2010f49-4ee6-4b70-a77d-37d27d34854b"
    },
    {
      "cell_type": "code",
      "execution_count": 32,
      "metadata": {},
      "outputs": [
        {
          "output_type": "display_data",
          "metadata": {},
          "data": {
            "text/plain": [
              "defaultdict(None,\n",
              "            {'National №': '001',\n",
              "             'name': 'bulbasaur',\n",
              "             'Type': ' Grass Poison ',\n",
              "             'Species': 'Seed Pokémon',\n",
              "             'Height': '0.7\\xa0m (2′04″)',\n",
              "             'Weight': '6.9\\xa0kg (15.2\\xa0lbs)',\n",
              "             'Abilities': '1. OvergrowChlorophyll (hidden ability)',\n",
              "             'Local №': \"001 (Red/Blue/Yellow)226 (Gold/Silver/Crystal)001 (FireRed/LeafGreen)231 (HeartGold/SoulSilver)080 (X/Y — Central Kalos)001 (Let's Go Pikachu/Let's Go Eevee)068 (The Isle of Armor)\",\n",
              "             'EV yield': ' 1 Special Attack ',\n",
              "             'Catch rate': ' 45 (5.9% with PokéBall, full HP) ',\n",
              "             'Base Friendship': ' 50 (normal) ',\n",
              "             'Base Exp.': '64',\n",
              "             'Growth Rate': 'Medium Slow',\n",
              "             'Egg Groups': 'Grass, Monster',\n",
              "             'Gender': '87.5% male, 12.5% female',\n",
              "             'Egg cycles': '20 (4,884–5,140 steps) ',\n",
              "             'HP': '45',\n",
              "             'Attack': '49',\n",
              "             'Defense': '49',\n",
              "             'Sp. Atk': '65',\n",
              "             'Sp. Def': '65',\n",
              "             'Speed': '45'})"
            ]
          }
        }
      ],
      "source": [],
      "id": "9d646bb0-6cfc-4a99-bce7-ec0b48c2ee61"
    },
    {
      "cell_type": "markdown",
      "metadata": {},
      "source": [
        "1.  Récupérez par ailleurs la liste de noms des pokémons qui nous permettra de faire une boucle par la suite. Combien trouvez-vous de pokémons ?\n",
        "\n",
        "2.  Ecrire une fonction qui récupère l’ensemble des informations sur les dix premiers pokémons de la liste et les intègre dans un data.frame"
      ],
      "id": "b5adb4ac-a96e-4f2e-83f7-263fc6cd5c6c"
    },
    {
      "cell_type": "code",
      "execution_count": 35,
      "metadata": {},
      "outputs": [
        {
          "output_type": "display_data",
          "metadata": {},
          "data": {
            "text/html": [
              "<div>\n",
              "<style scoped>\n",
              "    .dataframe tbody tr th:only-of-type {\n",
              "        vertical-align: middle;\n",
              "    }\n",
              "\n",
              "    .dataframe tbody tr th {\n",
              "        vertical-align: top;\n",
              "    }\n",
              "\n",
              "    .dataframe thead th {\n",
              "        text-align: right;\n",
              "    }\n",
              "</style>\n",
              "<table border=\"1\" class=\"dataframe\">\n",
              "  <thead>\n",
              "    <tr style=\"text-align: right;\">\n",
              "      <th></th>\n",
              "      <th>National №</th>\n",
              "      <th>name</th>\n",
              "      <th>Type</th>\n",
              "      <th>Species</th>\n",
              "      <th>Height</th>\n",
              "      <th>Weight</th>\n",
              "      <th>Abilities</th>\n",
              "      <th>Local №</th>\n",
              "      <th>EV yield</th>\n",
              "      <th>Catch rate</th>\n",
              "      <th>...</th>\n",
              "      <th>Growth Rate</th>\n",
              "      <th>Egg Groups</th>\n",
              "      <th>Gender</th>\n",
              "      <th>Egg cycles</th>\n",
              "      <th>HP</th>\n",
              "      <th>Attack</th>\n",
              "      <th>Defense</th>\n",
              "      <th>Sp. Atk</th>\n",
              "      <th>Sp. Def</th>\n",
              "      <th>Speed</th>\n",
              "    </tr>\n",
              "  </thead>\n",
              "  <tbody>\n",
              "    <tr>\n",
              "      <th>0</th>\n",
              "      <td>001</td>\n",
              "      <td>bulbasaur</td>\n",
              "      <td>Grass Poison</td>\n",
              "      <td>Seed Pokémon</td>\n",
              "      <td>0.7 m (2′04″)</td>\n",
              "      <td>6.9 kg (15.2 lbs)</td>\n",
              "      <td>1. OvergrowChlorophyll (hidden ability)</td>\n",
              "      <td>001 (Red/Blue/Yellow)226 (Gold/Silver/Crystal)...</td>\n",
              "      <td>1 Special Attack</td>\n",
              "      <td>45 (5.9% with PokéBall, full HP)</td>\n",
              "      <td>...</td>\n",
              "      <td>Medium Slow</td>\n",
              "      <td>Grass, Monster</td>\n",
              "      <td>87.5% male, 12.5% female</td>\n",
              "      <td>20 (4,884–5,140 steps)</td>\n",
              "      <td>45</td>\n",
              "      <td>49</td>\n",
              "      <td>49</td>\n",
              "      <td>65</td>\n",
              "      <td>65</td>\n",
              "      <td>45</td>\n",
              "    </tr>\n",
              "    <tr>\n",
              "      <th>1</th>\n",
              "      <td>002</td>\n",
              "      <td>ivysaur</td>\n",
              "      <td>Grass Poison</td>\n",
              "      <td>Seed Pokémon</td>\n",
              "      <td>1.0 m (3′03″)</td>\n",
              "      <td>13.0 kg (28.7 lbs)</td>\n",
              "      <td>1. OvergrowChlorophyll (hidden ability)</td>\n",
              "      <td>002 (Red/Blue/Yellow)227 (Gold/Silver/Crystal)...</td>\n",
              "      <td>1 Special Attack, 1 Special Defense</td>\n",
              "      <td>45 (5.9% with PokéBall, full HP)</td>\n",
              "      <td>...</td>\n",
              "      <td>Medium Slow</td>\n",
              "      <td>Grass, Monster</td>\n",
              "      <td>87.5% male, 12.5% female</td>\n",
              "      <td>20 (4,884–5,140 steps)</td>\n",
              "      <td>60</td>\n",
              "      <td>62</td>\n",
              "      <td>63</td>\n",
              "      <td>80</td>\n",
              "      <td>80</td>\n",
              "      <td>60</td>\n",
              "    </tr>\n",
              "    <tr>\n",
              "      <th>2</th>\n",
              "      <td>003</td>\n",
              "      <td>venusaur</td>\n",
              "      <td>Grass Poison</td>\n",
              "      <td>Seed Pokémon</td>\n",
              "      <td>2.0 m (6′07″)</td>\n",
              "      <td>100.0 kg (220.5 lbs)</td>\n",
              "      <td>1. OvergrowChlorophyll (hidden ability)</td>\n",
              "      <td>003 (Red/Blue/Yellow)228 (Gold/Silver/Crystal)...</td>\n",
              "      <td>2 Special Attack, 1 Special Defense</td>\n",
              "      <td>45 (5.9% with PokéBall, full HP)</td>\n",
              "      <td>...</td>\n",
              "      <td>Medium Slow</td>\n",
              "      <td>Grass, Monster</td>\n",
              "      <td>87.5% male, 12.5% female</td>\n",
              "      <td>20 (4,884–5,140 steps)</td>\n",
              "      <td>80</td>\n",
              "      <td>82</td>\n",
              "      <td>83</td>\n",
              "      <td>100</td>\n",
              "      <td>100</td>\n",
              "      <td>80</td>\n",
              "    </tr>\n",
              "    <tr>\n",
              "      <th>3</th>\n",
              "      <td>004</td>\n",
              "      <td>charmander</td>\n",
              "      <td>Fire</td>\n",
              "      <td>Lizard Pokémon</td>\n",
              "      <td>0.6 m (2′00″)</td>\n",
              "      <td>8.5 kg (18.7 lbs)</td>\n",
              "      <td>1. BlazeSolar Power (hidden ability)</td>\n",
              "      <td>004 (Red/Blue/Yellow)229 (Gold/Silver/Crystal)...</td>\n",
              "      <td>1 Speed</td>\n",
              "      <td>45 (5.9% with PokéBall, full HP)</td>\n",
              "      <td>...</td>\n",
              "      <td>Medium Slow</td>\n",
              "      <td>Dragon, Monster</td>\n",
              "      <td>87.5% male, 12.5% female</td>\n",
              "      <td>20 (4,884–5,140 steps)</td>\n",
              "      <td>39</td>\n",
              "      <td>52</td>\n",
              "      <td>43</td>\n",
              "      <td>60</td>\n",
              "      <td>50</td>\n",
              "      <td>65</td>\n",
              "    </tr>\n",
              "    <tr>\n",
              "      <th>4</th>\n",
              "      <td>005</td>\n",
              "      <td>charmeleon</td>\n",
              "      <td>Fire</td>\n",
              "      <td>Flame Pokémon</td>\n",
              "      <td>1.1 m (3′07″)</td>\n",
              "      <td>19.0 kg (41.9 lbs)</td>\n",
              "      <td>1. BlazeSolar Power (hidden ability)</td>\n",
              "      <td>005 (Red/Blue/Yellow)230 (Gold/Silver/Crystal)...</td>\n",
              "      <td>1 Special Attack, 1 Speed</td>\n",
              "      <td>45 (5.9% with PokéBall, full HP)</td>\n",
              "      <td>...</td>\n",
              "      <td>Medium Slow</td>\n",
              "      <td>Dragon, Monster</td>\n",
              "      <td>87.5% male, 12.5% female</td>\n",
              "      <td>20 (4,884–5,140 steps)</td>\n",
              "      <td>58</td>\n",
              "      <td>64</td>\n",
              "      <td>58</td>\n",
              "      <td>80</td>\n",
              "      <td>65</td>\n",
              "      <td>80</td>\n",
              "    </tr>\n",
              "  </tbody>\n",
              "</table>\n",
              "<p>5 rows × 22 columns</p>\n",
              "</div>"
            ]
          }
        }
      ],
      "source": [],
      "id": "2664aa1c-359c-4b40-9e3c-da2f42a59c34"
    },
    {
      "cell_type": "markdown",
      "metadata": {},
      "source": [
        "## Etape 2\n",
        "\n",
        "Nous aimerions que vous récupériez également les images des 5 premiers pokémons et que vous les enregistriez dans un dossier\n",
        "\n",
        "Idée : Utilisez les modules `request` et [`shutil`](https://docs.python.org/3/library/shutil.html)\n",
        "\n",
        "*pour cette question, il faut que vous cherchiez de vous même certains éléments, tout n’est pas présent dans le TD*.\n",
        "\n",
        "{{% /box %}}\n",
        "\n",
        "# Exercice supplémentaire \\[BONUS\\]\n",
        "\n",
        "{{% box status=“exercise” title=“Les ministres sur wikipédia” icon=“fas fa-pencil-alt” %}}\n",
        "\n",
        "Scraper la liste des ministres français depuis wikipedia. Faire une graphique qui représente la distribution de leur âge.\n",
        "\n",
        "Si vous avez une solution satisfaisante, n’hésitez pas à la soumettre\n",
        "sur <a href=\"https://github.com/linogaliana/python-datascientist\" class=\"github\"><i class=\"fab fa-github\"></i></a>\n",
        "(car je n’ai pas encore testé…)\n",
        "\n",
        "{{% /box %}}\n",
        "\n",
        "# `Selenium` : mimer le comportement d’un utilisateur internet\n",
        "\n",
        "Jusqu’à présent, nous avons raisonné comme si nous connaissions toujours l’url qui nous intéresse. De plus, les pages que nous visitons sont “statiques”, elles ne dépendent pas d’une action ou d’une recherche de l’internaute.\n",
        "\n",
        "Nous allons voir à présent comment nous en sortir pour remplir des champs sur un site web et récupérer ce qui nous intéresse.\n",
        "\n",
        "L’avantage du package [Selenium](https://pypi.python.org/pypi/selenium) est d’obtenir des informations du site qui ne sont pas dans le code html mais qui apparaissent uniquement à la suite de l’exécution de script javascript en arrière plan.\n",
        "\n",
        "Selenium se comporte comme un utilisateur lambda sur internet : il clique sur des liens, il remplit des formulaires etc. Dans cet exemple, nous allons essayer de aller sur le site de [Bing Actualités](https://www.bing.com/news) et entrer dans la barre de recherche un sujet donné (Trump).\n",
        "\n",
        "L’installation de `selenium` nécessite d’avoir chromium qui est un\n",
        "navigateur Google Chrome minimaliste.\n",
        "La version de [chromedriver](https://sites.google.com/a/chromium.org/chromedriver/) doit être `>= 2.36` et dépend de la version de Chrome que vous avez sur votre poste.\n",
        "\n",
        "``` python\n",
        "!pip install selenium\n",
        "\n",
        "# Sur votre poste  \n",
        "# télécharger le chrome driver https://chromedriver.storage.googleapis.com/index.html?path=85.0.4183.83/\n",
        "\n",
        "# Sur google colab \n",
        "# https://stackoverflow.com/questions/51046454/how-can-we-use-selenium-webdriver-in-colab-research-google-com\n",
        "!apt-get update # to update ubuntu to correctly run apt install\n",
        "!apt install chromium-chromedriver\n",
        "!cp /usr/lib/chromium-browser/chromedriver /usr/bin\n",
        "import sys\n",
        "sys.path.insert(0,'/usr/lib/chromium-browser/chromedriver')\n",
        "```\n",
        "\n",
        "``` python\n",
        "import selenium\n",
        "path_to_web_driver = \"chromedriver\"\n",
        "```\n",
        "\n",
        "On va sur le site de Bing Actualités, et on lui indique le mot clé que nous souhaitons chercher.\n",
        "\n",
        "Dans cet exemple, on va voir que l’ordinateur va ouvrir une nouvelle fenêtre.\n",
        "\n",
        "``` python\n",
        "import time\n",
        "\n",
        "from selenium import webdriver\n",
        "from selenium.webdriver.common.keys import Keys\n",
        "\n",
        "chrome_options = webdriver.ChromeOptions()\n",
        "chrome_options.add_argument('--headless')\n",
        "chrome_options.add_argument('--no-sandbox')\n",
        "#chrome_options.add_argument('--verbose') \n",
        "#chrome_options.add_argument('--disable-dev-shm-usage')\n",
        "\n",
        "browser = webdriver.Chrome(executable_path=path_to_web_driver,\n",
        "                           options=chrome_options)\n",
        "\n",
        "browser.get('https://www.bing.com/news')\n",
        "\n",
        "# on cherche l'endroit où on peut remplir un formulaire\n",
        "# en utilisant les outils du navigateur > inspecter les éléments de la page\n",
        "# on voit que la barre de recherche est un élement du code appelé 'q' comme query\n",
        "# on lui demande de chercher cet élément\n",
        "\n",
        "search = browser.find_element_by_name('q')\n",
        "print(search)\n",
        "print([search.text, search.tag_name, search.id])\n",
        "\n",
        "# on envoie à cet endroit le mot qu'on aurait tapé dans la barre de recherche\n",
        "search.send_keys(\"Trump\")\n",
        "\n",
        "search_button = browser.find_element_by_xpath(\"//input[@id='sb_form_go']\")\n",
        "\n",
        "#search_button = browser.find_element_by_id('search_button_homepage')\n",
        " \n",
        "search_button.click()\n",
        "\n",
        "# on appuie sur le bouton \"Entrée\" Return en anglais\n",
        "#search.send_keys(Keys.RETURN)\n",
        "```\n",
        "\n",
        "``` python\n",
        "png = browser.get_screenshot_as_png()\n",
        "```\n",
        "\n",
        "``` python\n",
        "from IPython.display import Image\n",
        "Image(png, width='500')\n",
        "```\n",
        "\n",
        "On extrait les résultats.\n",
        "\n",
        "``` python\n",
        "from selenium.common.exceptions import StaleElementReferenceException\n",
        "links = browser.find_elements_by_xpath(\"//div/a[@class='title'][@href]\")\n",
        "\n",
        "results = []\n",
        "for link in links:\n",
        "    try:\n",
        "        url = link.get_attribute('href')\n",
        "    except StaleElementReferenceException as e:\n",
        "        print(\"Issue with '{0}' and '{1}'\".format(url, link))\n",
        "        print(\"It might be due to slow javascript which produces the HTML page.\")\n",
        "    results.append(url)\n",
        "\n",
        "len(results)\n",
        "```\n",
        "\n",
        "``` python\n",
        "# on a une pause de 10 secondes pour aller voir ce qui se passe sur la page internet\n",
        "# on demande de quitter le navigateur quand tout est fini\n",
        "browser.quit()\n",
        "```\n",
        "\n",
        "``` python\n",
        "print(results)\n",
        "```\n",
        "\n",
        "## Utiliser selenium pour jouer à 2048\n",
        "\n",
        "Dans cet exemple, on utilise le module pour que python appuie lui même sur les touches du clavier afin de jouer à 2048.\n",
        "\n",
        "Note : ce bout de code ne donne pas une solution à 2048, il permet juste de voir ce qu’on peut faire avec selenium\n",
        "\n",
        "``` python\n",
        "from selenium import webdriver\n",
        "from selenium.webdriver.common.keys import Keys\n",
        "\n",
        "# on ouvre la page internet du jeu 2048\n",
        "\n",
        "browser = webdriver.Chrome(executable_path=path_to_web_driver,\n",
        "                           options=chrome_options)\n",
        "browser.get('https://play2048.co//')\n",
        "\n",
        "# Ce qu'on va faire : une boucle qui répète inlassablement la même chose : haut / droite / bas / gauche\n",
        "\n",
        "# on commence par cliquer sur la page pour que les touches sachent \n",
        "browser.find_element_by_class_name('grid-container').click()\n",
        "grid = browser.find_element_by_tag_name('body')\n",
        "\n",
        "# pour savoir quels coups faire à quel moment, on crée un dictionnaire\n",
        "direction = {0: Keys.UP, 1: Keys.RIGHT, 2: Keys.DOWN, 3: Keys.LEFT}\n",
        "count = 0\n",
        "\n",
        "while True:\n",
        "    try: # on vérifie que le bouton \"Try again\" n'est pas là - sinon ça veut dire que le jeu est fini\n",
        "        retryButton = browser.find_element_by_link_text('Try again')\n",
        "        scoreElem = browser.find_element_by_class_name('score-container')\n",
        "        break\n",
        "    except:\n",
        "        #Do nothing.  Game is not over yet\n",
        "        pass\n",
        "    # on continue le jeu - on appuie sur la touche suivante pour le coup d'après\n",
        "    count += 1\n",
        "    grid.send_keys(direction[count % 4]) \n",
        "    time.sleep(0.1)\n",
        "\n",
        "print('Score final : {} en {} coups'.format(scoreElem.text, count))    \n",
        "browser.quit()\n",
        "```"
      ],
      "id": "cf2fc126-ec91-4db8-85f5-5196f768ebcd"
    }
  ],
  "nbformat": 4,
  "nbformat_minor": 5,
  "metadata": {
    "kernelspec": {
      "name": "python3",
      "display_name": "Python 3 (ipykernel)",
      "language": "python"
    },
    "language_info": {
      "name": "python",
      "codemirror_mode": {
        "name": "ipython",
        "version": "3"
      },
      "file_extension": ".py",
      "mimetype": "text/x-python",
      "nbconvert_exporter": "python",
      "pygments_lexer": "ipython3",
      "version": "3.9.13"
    }
  }
}