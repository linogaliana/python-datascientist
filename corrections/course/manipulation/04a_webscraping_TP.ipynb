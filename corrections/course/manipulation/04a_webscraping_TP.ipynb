{
  "cells": [
    {
      "cell_type": "markdown",
      "metadata": {},
      "source": [
        "# Webscraping avec python"
      ],
      "id": "2f03cab4-9fe0-49dd-ab61-8fe182a86a07"
    },
    {
      "cell_type": "raw",
      "metadata": {
        "raw_mimetype": "text/html"
      },
      "source": [
        "<p class=\"badges\">"
      ],
      "id": "9481c06b-4632-484b-9654-3fe942aea428"
    },
    {
      "cell_type": "markdown",
      "metadata": {},
      "source": [
        "<a href=\"https://github.com/linogaliana/python-datascientist/blob/master/notebooks/course/manipulation/04_webscraping_TP.ipynb\" class=\"github\"><i class=\"fab fa-github\"></i></a>\n",
        "<a href=\"https://downgit.github.io/#/home?url=https://github.com/linogaliana/python-datascientist/blob/master/notebooks/course/manipulation/04_webscraping_TP.ipynb\" target=\"_blank\" rel=\"noopener\"><img src=\"https://img.shields.io/badge/Download-Notebook-important?logo=Jupyter\" alt=\"Download\"></a>\n",
        "<a href=\"https://nbviewer.jupyter.org/github/linogaliana/python-datascientist/blob/master/notebooks/course/manipulation/04_webscraping_TP.ipynb\" target=\"_blank\" rel=\"noopener\"><img src=\"https://img.shields.io/badge/Visualize-nbviewer-blue?logo=Jupyter\" alt=\"nbviewer\"></a>\n",
        "<a href=\"https://datalab.sspcloud.fr/launcher/inseefrlab-helm-charts-datascience/jupyter?autoLaunch=true&onyxia.friendlyName=%C2%ABpython-datascience%C2%BB&init.personalInit=%C2%ABhttps%3A%2F%2Fraw.githubusercontent.com%2Flinogaliana%2Fpython-datascientist%2Fmaster%2Fsspcloud%2Finit-jupyter.sh%C2%BB&init.personalInitArgs=%C2%ABnotebooks/course/manipulation%2004_webscraping_TP.ipynb%C2%BB&security.allowlist.enabled=false\" target=\"_blank\" rel=\"noopener\"><img src=\"https://img.shields.io/badge/SSPcloud-Tester%20via%20SSP--cloud-informational&amp;color=yellow?logo=Python\" alt=\"Onyxia\"></a><br>\n",
        "<a href=\"https://mybinder.org/v2/gh/linogaliana/python-datascientist/master?filepath={binder_path}\" target=\"_blank\" rel=\"noopener\"><img src=\"https://img.shields.io/badge/Launch-Binder-E66581.svg?logo=data:image/png;base64,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\" alt=\"Binder\"></a>\n",
        "<a href=\"http://colab.research.google.com/github/linogaliana/python-datascientist/blob/master/notebooks/course/manipulation/04_webscraping_TP.ipynb\" target=\"_blank\" rel=\"noopener\"><img src=\"https://colab.research.google.com/assets/colab-badge.svg\" alt=\"Open In Colab\"></a>\n",
        "<a href=\"https://github.dev/linogaliana/python-datascientist/notebooks/course/manipulation/04_webscraping_TP.ipynb\" target=\"_blank\" rel=\"noopener\"><img src=\"https://img.shields.io/static/v1?logo=visualstudiocode&label=&message=Open%20in%20Visual%20Studio%20Code&labelColor=2c2c32&color=007acc&logoColor=007acc\" alt=\"githubdev\"></a>"
      ],
      "id": "27b49546-34e4-4fde-8a1a-d0d2a93b9664"
    },
    {
      "cell_type": "raw",
      "metadata": {
        "raw_mimetype": "text/html"
      },
      "source": [
        "</p>"
      ],
      "id": "aa5c00e1-f7f0-45f5-82d1-de3ff812c99f"
    },
    {
      "cell_type": "raw",
      "metadata": {
        "raw_mimetype": "text/html"
      },
      "source": [
        "</p>"
      ],
      "id": "7a29f2b9-c075-4e60-9fa8-756aea571cc6"
    },
    {
      "cell_type": "markdown",
      "metadata": {},
      "source": [
        "Le [webscraping](https://fr.wikipedia.org/wiki/Web_scraping) désigne les techniques d’extraction du contenu des sites internet. C’est une pratique très utile pour toute personne souhaitant travailler sur des informations disponibles en ligne, mais n’existant pas forcément sous la forme d’un tableau *Excel*.\n",
        "\n",
        "Ce TP vous présente comment créer et exécuter des robots afin de recupérer rapidement des informations utiles à vos projets actuels ou futurs.\n",
        "\n",
        "Le *webscraping* a un certain nombre d’enjeux en termes de légalité, qui ne seront pas enseignés dans ce cours mais dans un cours de 3A à l’ENSAE. En particulier, la CNIL a publié en 2020 de nouvelles directives sur le *webscraping* reprécisant que toute donnée ne peut être réutilisée à l’insu de la personne à laquelle ces données appartiennent.\n",
        "\n",
        "Enfin, il est à noter que ce notebook est très fortement inspiré et réadapté à partir de [celui de Xavier Dupré](http://www.xavierdupre.fr/app/ensae_teaching_cs/helpsphinx/notebooks/TD2A_Eco_Web_Scraping.html), l’ancien professeur de la matière.\n",
        "\n",
        "# Un détour par le Web : comment fonctionne un site ?\n",
        "\n",
        "Même si ce TP ne vise pas à faire un cours de web, il vous faut néanmoins certaines bases sur la manière dont un site internet fonctionne afin de comprendre comment sont structurées les informations sur une page.\n",
        "\n",
        "Un site Web est un ensemble de pages codées en *HTML* qui permet de décrire à la fois le contenu et la forme d’une page *Web*.\n",
        "\n",
        "Pour voir cela, ouvrez n’importe quelle page web et faites un clic-droit dessus.\n",
        "- Sous `Chrome` <i class=\"fab fa-chrome\"></i> : Cliquez ensuite sur “Affichez le code source de la page” (<kbd>CTRL</kbd>+<kbd>U</kbd>) ;\n",
        "- Sous `Firefox` <i class=\"fab fa-firefox\"></i> : “Code source de la page” (<kbd>CTRL</kbd>+<kbd>MAJ</kbd>+<kbd>K</kbd>) ;\n",
        "- Sous `Edge` <i class=\"fab fa-edge\"></i> : “Affichez la page source” (<kbd>CTRL</kbd>+<kbd>U</kbd>) ;\n",
        "- Sous `Safari` <i class=\"fab fa-safari\"></i> : voir comment faire [ici](https://fr.wikihow.com/voir-le-code-source)\n",
        "\n",
        "## Les balises\n",
        "\n",
        "Sur une page web, vous trouverez toujours à coup sûr des éléments comme `<head>`, `<title>`, etc. Il s’agit des codes qui vous permettent de structurer le contenu d’une page *HTML* et qui s’appellent des **balises**.\n",
        "Citons, par exemple, les balises `<p>`, `<h1>`, `<h2>`, `<h3>`, `<strong>` ou `<em>`.\n",
        "Le symbole `< >` est une balise : il sert à indiquer le début d’une partie. Le symbole `</ >` indique la fin de cette partie. La plupart des balises vont par paires, avec une *balise ouvrante* et une *balise fermante* (par exemple `<p>` et `</p>`).\n",
        "\n",
        "### Exemple : les balise des tableaux\n",
        "\n",
        "| Balise      | Description                     |\n",
        "|-------------|---------------------------------|\n",
        "| `<table>`   | Tableau                         |\n",
        "| `<caption>` | Titre du tableau                |\n",
        "| `<tr>`      | Ligne de tableau                |\n",
        "| `<th>`      | Cellule d’en-tête               |\n",
        "| `<td>`      | Cellule                         |\n",
        "| `<thead>`   | Section de l’en-tête du tableau |\n",
        "| `<tbody>`   | Section du corps du tableau     |\n",
        "| `<tfoot>`   | Section du pied du tableau      |\n",
        "\n",
        "**Application : un tableau en HTML**\n",
        "\n",
        "Le code *HTML* du tableau suivant\n",
        "\n",
        "``` {html}\n",
        "<table>\n",
        "<caption> Le Titre de mon tableau </caption>\n",
        "\n",
        "   <tr>\n",
        "      <th>Prénom</th>\n",
        "      <th>Nom</th>\n",
        "      <th>Profession</th>\n",
        "   </tr>\n",
        "   <tr>\n",
        "      <td>Mike </td>\n",
        "      <td>Stuntman</td>\n",
        "      <td>Cascadeur</td>\n",
        "   </tr>\n",
        "   <tr>\n",
        "      <td>Mister</td>\n",
        "      <td>Pink</td>\n",
        "      <td>Gangster</td>\n",
        "   </tr>\n",
        "</table>\n",
        "```\n",
        "\n",
        "Donnera dans le navigateur :"
      ],
      "id": "49f75bc8-9d97-44be-a1c1-a48daaff8ebd"
    },
    {
      "cell_type": "raw",
      "metadata": {
        "raw_mimetype": "text/html"
      },
      "source": [
        "<table>"
      ],
      "id": "9affc85b-ab09-41f9-a4cd-040100432d2d"
    },
    {
      "cell_type": "raw",
      "metadata": {
        "raw_mimetype": "text/html"
      },
      "source": [
        "<caption>"
      ],
      "id": "46f80fcf-66e8-4866-b758-da80ede0bee9"
    },
    {
      "cell_type": "markdown",
      "metadata": {},
      "source": [
        "Le Titre de mon tableau"
      ],
      "id": "6511f4fe-a4df-44b7-97f5-8382e1d2cb8c"
    },
    {
      "cell_type": "raw",
      "metadata": {
        "raw_mimetype": "text/html"
      },
      "source": [
        "</caption>"
      ],
      "id": "9287f1e9-4ebc-4d52-8005-1a943789dd75"
    },
    {
      "cell_type": "raw",
      "metadata": {
        "raw_mimetype": "text/html"
      },
      "source": [
        "<tr>"
      ],
      "id": "ec2ad619-e297-46c1-b015-d2d855918127"
    },
    {
      "cell_type": "raw",
      "metadata": {
        "raw_mimetype": "text/html"
      },
      "source": [
        "<th>"
      ],
      "id": "84f89660-95b9-432e-a76c-dfc51e1bec5f"
    },
    {
      "cell_type": "markdown",
      "metadata": {},
      "source": [
        "Prénom"
      ],
      "id": "5cbba5e7-a400-48b6-9f63-4bccd1c13b38"
    },
    {
      "cell_type": "raw",
      "metadata": {
        "raw_mimetype": "text/html"
      },
      "source": [
        "</th>"
      ],
      "id": "e1114862-9a14-491c-8797-ab4de6495b33"
    },
    {
      "cell_type": "raw",
      "metadata": {
        "raw_mimetype": "text/html"
      },
      "source": [
        "<th>"
      ],
      "id": "d5bb6c25-0529-4251-9fc5-861b28e7156e"
    },
    {
      "cell_type": "markdown",
      "metadata": {},
      "source": [
        "Nom"
      ],
      "id": "9902c7a0-c571-4980-96b1-e7ae7fbfb624"
    },
    {
      "cell_type": "raw",
      "metadata": {
        "raw_mimetype": "text/html"
      },
      "source": [
        "</th>"
      ],
      "id": "7cb636ec-183f-46b8-afd3-dc2658129795"
    },
    {
      "cell_type": "raw",
      "metadata": {
        "raw_mimetype": "text/html"
      },
      "source": [
        "<th>"
      ],
      "id": "1892455d-147e-4925-b9b4-2d5d27746774"
    },
    {
      "cell_type": "markdown",
      "metadata": {},
      "source": [
        "Profession"
      ],
      "id": "d28c372d-1b1f-473b-bceb-51fd5a6336a0"
    },
    {
      "cell_type": "raw",
      "metadata": {
        "raw_mimetype": "text/html"
      },
      "source": [
        "</th>"
      ],
      "id": "c9ca0ebe-78a4-4e0c-bf37-7be6c7e2d87e"
    },
    {
      "cell_type": "raw",
      "metadata": {
        "raw_mimetype": "text/html"
      },
      "source": [
        "</tr>"
      ],
      "id": "244a84c2-2b11-4d16-a6aa-6b61d8bcbc7d"
    },
    {
      "cell_type": "raw",
      "metadata": {
        "raw_mimetype": "text/html"
      },
      "source": [
        "<tr>"
      ],
      "id": "ce1a975f-30ee-42f3-a886-b37dd8a2a020"
    },
    {
      "cell_type": "raw",
      "metadata": {
        "raw_mimetype": "text/html"
      },
      "source": [
        "<td>"
      ],
      "id": "0b51f31a-f19e-49cf-addb-c240c257aff1"
    },
    {
      "cell_type": "markdown",
      "metadata": {},
      "source": [
        "Mike"
      ],
      "id": "6dd02e8d-0329-40c6-b69b-823d0e95590b"
    },
    {
      "cell_type": "raw",
      "metadata": {
        "raw_mimetype": "text/html"
      },
      "source": [
        "</td>"
      ],
      "id": "2f57fa7c-e8e5-4f9c-b7d9-60f2572fb626"
    },
    {
      "cell_type": "raw",
      "metadata": {
        "raw_mimetype": "text/html"
      },
      "source": [
        "<td>"
      ],
      "id": "8f2dbee2-ab7c-46b6-9a13-53cad59a1e65"
    },
    {
      "cell_type": "markdown",
      "metadata": {},
      "source": [
        "Stuntman"
      ],
      "id": "91f6d0e8-11a4-4ffa-a985-32e008e0297a"
    },
    {
      "cell_type": "raw",
      "metadata": {
        "raw_mimetype": "text/html"
      },
      "source": [
        "</td>"
      ],
      "id": "e678b854-7da7-42e6-b3bb-fe5edc7d8634"
    },
    {
      "cell_type": "raw",
      "metadata": {
        "raw_mimetype": "text/html"
      },
      "source": [
        "<td>"
      ],
      "id": "bd2aaa11-1c74-41d6-bc58-986030a54e49"
    },
    {
      "cell_type": "markdown",
      "metadata": {},
      "source": [
        "Cascadeur"
      ],
      "id": "6ed4c2ae-eb29-4950-81b3-d8fe10bb833d"
    },
    {
      "cell_type": "raw",
      "metadata": {
        "raw_mimetype": "text/html"
      },
      "source": [
        "</td>"
      ],
      "id": "880e1048-1c1a-494e-a4ad-94dd605d6f03"
    },
    {
      "cell_type": "raw",
      "metadata": {
        "raw_mimetype": "text/html"
      },
      "source": [
        "</tr>"
      ],
      "id": "de78030b-3ee6-4945-a409-cb8f856a831c"
    },
    {
      "cell_type": "raw",
      "metadata": {
        "raw_mimetype": "text/html"
      },
      "source": [
        "<tr>"
      ],
      "id": "05db35ef-891f-4994-be39-bacf21330531"
    },
    {
      "cell_type": "raw",
      "metadata": {
        "raw_mimetype": "text/html"
      },
      "source": [
        "<td>"
      ],
      "id": "461226a3-d292-4679-a0d9-0755dbded9d3"
    },
    {
      "cell_type": "markdown",
      "metadata": {},
      "source": [
        "Mister"
      ],
      "id": "3241df38-3d58-4522-b12a-41b2f529eaba"
    },
    {
      "cell_type": "raw",
      "metadata": {
        "raw_mimetype": "text/html"
      },
      "source": [
        "</td>"
      ],
      "id": "50eb32a2-8a9e-4ef2-9d14-cf5a2512653f"
    },
    {
      "cell_type": "raw",
      "metadata": {
        "raw_mimetype": "text/html"
      },
      "source": [
        "<td>"
      ],
      "id": "2361afa3-56a1-4cf1-9402-3f971b3911e1"
    },
    {
      "cell_type": "markdown",
      "metadata": {},
      "source": [
        "Pink"
      ],
      "id": "c814baa7-8623-4d5d-ad8c-2b10f154c994"
    },
    {
      "cell_type": "raw",
      "metadata": {
        "raw_mimetype": "text/html"
      },
      "source": [
        "</td>"
      ],
      "id": "b1cb3c6a-c24b-4724-9897-1926c2cbba77"
    },
    {
      "cell_type": "raw",
      "metadata": {
        "raw_mimetype": "text/html"
      },
      "source": [
        "<td>"
      ],
      "id": "e359518b-0bb1-4a20-a41d-c0f504766051"
    },
    {
      "cell_type": "markdown",
      "metadata": {},
      "source": [
        "Gangster"
      ],
      "id": "246b2e09-86aa-4a34-983f-2a11f9f871d3"
    },
    {
      "cell_type": "raw",
      "metadata": {
        "raw_mimetype": "text/html"
      },
      "source": [
        "</td>"
      ],
      "id": "79a81c36-e5e0-48a1-9a8a-e5903d684ea0"
    },
    {
      "cell_type": "raw",
      "metadata": {
        "raw_mimetype": "text/html"
      },
      "source": [
        "</tr>"
      ],
      "id": "6312ba58-6e16-4e41-a392-d89a3093e737"
    },
    {
      "cell_type": "raw",
      "metadata": {
        "raw_mimetype": "text/html"
      },
      "source": [
        "</table>"
      ],
      "id": "e699ee39-9db3-47a1-b714-e8d1094a1edc"
    },
    {
      "cell_type": "markdown",
      "metadata": {},
      "source": [
        "### Parent et enfant\n",
        "\n",
        "Dans le cadre du langage HTML, les termes de parent (*parent*) et enfant (*child*) servent à désigner des élements emboîtés les uns dans les autres. Dans la construction suivante, par exemple :\n",
        "\n",
        "``` html\n",
        "< div> \n",
        "    < p>\n",
        "       bla,bla\n",
        "    < /p>\n",
        "< /div>\n",
        "```\n",
        "\n",
        "Sur la page web, cela apparaitra de la manière suivante :\n",
        "\n",
        "    <p>\n",
        "       bla,bla\n",
        "    </p>\n",
        "\n",
        "On dira que l’élément `<div>` est le parent de l’élément `<p>` tandis que l’élément `<p>` est l’enfant de l’élément `<div>`.\n",
        "\n",
        "*Mais pourquoi apprendre ça pour “scraper”, me direz-vous ?*\n",
        "\n",
        "Parce que, pour bien récupérer les informations d’un site internet, il faut pouvoir comprendre sa structure et donc son code HTML. Les fonctions python qui servent au scraping sont principalement construites pour vous permettre de naviguer entre les balises.\n",
        "\n",
        "# Scraper avec python: le package `BeautifulSoup`\n",
        "\n",
        "## Les packages disponibles\n",
        "\n",
        "Nous allons essentiellement utiliser le package [BeautifulSoup4](https://www.crummy.com/software/BeautifulSoup/bs4/doc/) pour ce cours, mais d’autres packages existent (Selenium, Scrapy…). Il s’utilise souvent en conjonction avec\n",
        "[urllib](https://docs.python.org/3/library/urllib.html#module-urllib).\n",
        "\n",
        "`BeautifulSoup` sera suffisant quand vous voudrez travailler sur des pages HTML statiques. Dès que les informations que vous recherchez sont générées via l’exécution de scripts [Javascript](https://fr.wikipedia.org/wiki/JavaScript), il vous faudra passer par des outils comme [Selenium](https://selenium-python.readthedocs.io/).\n",
        "\n",
        "De même, si vous ne connaissez pas l’URL, il faudra passer par un framework comme [Scrapy](https://scrapy.org/), qui passe facilement d’une page à une autre (“crawl”). Scrapy est plus complexe à manipuler que BeautifulSoup : si vous voulez plus de détails, rendez-vous sur la page du [tutoriel Scrapy](https://doc.scrapy.org/en/latest/intro/tutorial.html).\n",
        "\n",
        "Le *webscraping* est un domaine où la reproductibilité est compliquée à mettre en oeuvre. Une page *web* évolue\n",
        "potentiellement régulièrement et d’une page web à l’autre, la structure peut\n",
        "être très différente ce qui rend certains codes difficilement exportables.\n",
        "Par conséquent, la meilleure manière d’avoir un programme fonctionnel est\n",
        "de comprendre la structure d’une page web et dissocier les éléments exportables\n",
        "à d’autres cas d’usages des requêtes *ad hoc*.\n",
        "\n",
        "{{< tweet 1474353569780355074 >}}"
      ],
      "id": "9cf3decb-c999-4e0b-811b-d775b14e49c3"
    },
    {
      "cell_type": "code",
      "execution_count": 2,
      "metadata": {},
      "outputs": [],
      "source": [
        "import urllib\n",
        "import bs4\n",
        "import pandas\n",
        "from urllib import request"
      ],
      "id": "0c015371-afc1-4172-b6a8-e567d53ffbce"
    },
    {
      "cell_type": "markdown",
      "metadata": {},
      "source": [
        "## Récupérer le contenu d’une page HTML\n",
        "\n",
        "On va commencer doucement. Prenons une page wikipedia, par exemple celle de la Ligue 1 de football : [Championnat de France de football 2019-2020](https://fr.wikipedia.org/wiki/Championnat_de_France_de_football_2019-2020). On va souhaiter récupérer la liste des équipes, ainsi que les url des pages Wikipedia de ces équipes."
      ],
      "id": "da2b4d25-fa3e-49e0-a5d6-5337f69af27f"
    },
    {
      "cell_type": "code",
      "execution_count": 3,
      "metadata": {},
      "outputs": [],
      "source": [
        "# Etape 1 : se connecter à la page wikipedia et obtenir le code source\n",
        "\n",
        "url_ligue_1 = \"https://fr.wikipedia.org/wiki/Championnat_de_France_de_football_2019-2020\"\n",
        "    \n",
        "request_text = request.urlopen(url_ligue_1).read()\n",
        "# print(request_text[:1000])    "
      ],
      "id": "3549e316-9c61-4fa2-8d41-8f1926efeb30"
    },
    {
      "cell_type": "code",
      "execution_count": 4,
      "metadata": {},
      "outputs": [
        {
          "output_type": "display_data",
          "metadata": {},
          "data": {
            "text/plain": [
              "bytes"
            ]
          }
        }
      ],
      "source": [
        "type(request_text)"
      ],
      "id": "19d6cc5d-6261-48d9-9694-8d62bbe4dd93"
    },
    {
      "cell_type": "code",
      "execution_count": 5,
      "metadata": {},
      "outputs": [],
      "source": [
        "# Etape 2 : utiliser le package BeautifulSoup\n",
        "# qui \"comprend\" les balises contenues dans la chaine de caractères renvoyée par la fonction request\n",
        "\n",
        "page = bs4.BeautifulSoup(request_text, \"lxml\")\n",
        "\n",
        "#print(page)"
      ],
      "id": "94a97dcf-a302-4f45-ad28-d6b5fae06c2c"
    },
    {
      "cell_type": "markdown",
      "metadata": {},
      "source": [
        "Si on print l’objet, page créée avec BeautifulSoup, on voit que ce n’est plus une chaine de caractères mais bien une page HTML avec des balises. On peut à présent chercher des élements à l’intérieur de ces balises.\n",
        "\n",
        "## La méthode `find`\n",
        "\n",
        "Par exemple, si on veut connaître le titre de la page, on utilise la méthode `.find` et on lui demande *“title”*"
      ],
      "id": "cd189a90-04d1-4ef6-84b0-63f6b57b90e8"
    },
    {
      "cell_type": "code",
      "execution_count": 6,
      "metadata": {},
      "outputs": [
        {
          "output_type": "stream",
          "name": "stdout",
          "text": [
            "<title>Championnat de France de football 2019-2020 — Wikipédia</title>"
          ]
        }
      ],
      "source": [
        "print(page.find(\"title\"))"
      ],
      "id": "6808b7f0-ad6d-49ab-8bf2-298eeeb49e2a"
    },
    {
      "cell_type": "markdown",
      "metadata": {},
      "source": [
        "La methode `.find` ne renvoie que la première occurence de l’élément.\n",
        "\n",
        "Pour vous en assurer vous pouvez :\n",
        "- copier le bout de code source obtenu,\n",
        "- le coller dans une cellule de votre notebook\n",
        "- et passer la cellule en “Markdown”\n",
        "\n",
        "La cellule avec le copier-coller du code source donne :"
      ],
      "id": "fd38143b-4951-4783-9383-aed9717e2203"
    },
    {
      "cell_type": "code",
      "execution_count": 7,
      "metadata": {},
      "outputs": [
        {
          "output_type": "stream",
          "name": "stdout",
          "text": [
            "<table><caption style=\"background-color:#99cc99;color:#000000;\">Généralités</caption><tbody><tr>\n",
            "<th scope=\"row\" style=\"width:10.5em;\">Sport</th>\n",
            "<td>\n",
            "<a href=\"/wiki/Football\" title=\"Football\">Football</a></td>\n",
            "</tr>\n",
            "<tr>\n",
            "<th scope=\"row\" style=\"width:10.5em;\">Organisateur(s)</th>\n",
            "<td>\n",
            "<a href=\"/wiki/Ligue_de_football_professionnel\" title=\"Ligue de football professionnel\">LFP</a></td>\n",
            "</tr>\n",
            "<tr>\n",
            "<th scope=\"row\" style=\"width:10.5em;\">Édition</th>\n",
            "<td>\n",
            "<abbr class=\"abbr\" title=\"Quatre-vingt-deuxième (huitante-deuxième / octante-deuxième)\">82<sup>e</sup></abbr></td>\n",
            "</tr>\n",
            "<tr>\n",
            "<th scope=\"row\" style=\"width:10.5em;\">Lieu(x)</th>\n",
            "<td>\n",
            "<span class=\"datasortkey\" data-sort-value=\"France\"><span class=\"flagicon\"><a class=\"image\" href=\"/wiki/Fichier:Flag_of_France.svg\" title=\"Drapeau de la France\"><img alt=\"Drapeau de la France\" class=\"noviewer thumbborder\" data-file-height=\"600\" data-file-width=\"900\" decoding=\"async\" height=\"13\" src=\"//upload.wikimedia.org/wikipedia/commons/thumb/c/c3/Flag_of_France.svg/20px-Flag_of_France.svg.png\" srcset=\"//upload.wikimedia.org/wikipedia/commons/thumb/c/c3/Flag_of_France.svg/30px-Flag_of_France.svg.png 1.5x, //upload.wikimedia.org/wikipedia/commons/thumb/c/c3/Flag_of_France.svg/40px-Flag_of_France.svg.png 2x\" width=\"20\"/></a> </span><a href=\"/wiki/France\" title=\"France\">France</a></span> et <br/><span class=\"datasortkey\" data-sort-value=\"Monaco\"><span class=\"flagicon\"><a class=\"image\" href=\"/wiki/Fichier:Flag_of_Monaco.svg\" title=\"Drapeau de Monaco\"><img alt=\"Drapeau de Monaco\" class=\"noviewer thumbborder\" data-file-height=\"800\" data-file-width=\"1000\" decoding=\"async\" height=\"16\" src=\"//upload.wikimedia.org/wikipedia/commons/thumb/e/ea/Flag_of_Monaco.svg/20px-Flag_of_Monaco.svg.png\" srcset=\"//upload.wikimedia.org/wikipedia/commons/thumb/e/ea/Flag_of_Monaco.svg/30px-Flag_of_Monaco.svg.png 1.5x, //upload.wikimedia.org/wikipedia/commons/thumb/e/ea/Flag_of_Monaco.svg/40px-Flag_of_Monaco.svg.png 2x\" width=\"20\"/></a> </span><a href=\"/wiki/Monaco\" title=\"Monaco\">Monaco</a></span></td>\n",
            "</tr>\n",
            "<tr>\n",
            "<th scope=\"row\" style=\"width:10.5em;\">Date</th>\n",
            "<td>\n",
            "Du <time class=\"nowrap date-lien\" data-sort-value=\"2019-08-09\" datetime=\"2019-08-09\"><a href=\"/wiki/9_ao%C3%BBt_en_sport\" title=\"9 août en sport\">9</a> <a class=\"mw-redirect\" href=\"/wiki/Ao%C3%BBt_2019_en_sport\" title=\"Août 2019 en sport\">août</a> <a href=\"/wiki/2019_en_football\" title=\"2019 en football\">2019</a></time><br/>au <time class=\"nowrap date-lien\" data-sort-value=\"2020-03-08\" datetime=\"2020-03-08\"><a href=\"/wiki/8_mars_en_sport\" title=\"8 mars en sport\">8 mars</a> <a href=\"/wiki/2020_en_football\" title=\"2020 en football\">2020</a></time> <small>(arrêt définitif)</small></td>\n",
            "</tr>\n",
            "<tr>\n",
            "<th scope=\"row\" style=\"width:10.5em;\">Participants</th>\n",
            "<td>\n",
            "20 équipes</td>\n",
            "</tr>\n",
            "<tr>\n",
            "<th scope=\"row\" style=\"width:10.5em;\">Matchs joués</th>\n",
            "<td>\n",
            "279 (sur 380 prévus)</td>\n",
            "</tr>\n",
            "<tr>\n",
            "<th scope=\"row\" style=\"width:10.5em;\">Site web officiel</th>\n",
            "<td>\n",
            "<a class=\"external text\" href=\"https://www.ligue1.fr/\" rel=\"nofollow\">Site officiel</a></td>\n",
            "</tr></tbody></table>"
          ]
        }
      ],
      "source": [
        "print(page.find(\"table\"))"
      ],
      "id": "b453cef7-58b0-4e35-970c-b3a5ff0cc643"
    },
    {
      "cell_type": "markdown",
      "metadata": {},
      "source": [
        "ce qui est le texte source permettant de générer le tableau suivant:"
      ],
      "id": "10c06c7e-8d48-4215-a1df-86a1f0264fef"
    },
    {
      "cell_type": "raw",
      "metadata": {
        "raw_mimetype": "text/html"
      },
      "source": [
        "<table>"
      ],
      "id": "a34fb427-a060-4420-8772-72506e507be3"
    },
    {
      "cell_type": "raw",
      "metadata": {
        "raw_mimetype": "text/html"
      },
      "source": [
        "<caption style=\"background-color:#99cc99;color:#000000;\">"
      ],
      "id": "c1afde83-09f2-49d7-8a81-e78f82d0df4a"
    },
    {
      "cell_type": "markdown",
      "metadata": {},
      "source": [
        "Généralités"
      ],
      "id": "802ca6da-0026-468e-9f26-ab5fb3ab58e0"
    },
    {
      "cell_type": "raw",
      "metadata": {
        "raw_mimetype": "text/html"
      },
      "source": [
        "</caption>"
      ],
      "id": "d4508467-3390-4cfd-a30c-6ed72229a159"
    },
    {
      "cell_type": "raw",
      "metadata": {
        "raw_mimetype": "text/html"
      },
      "source": [
        "<tbody>"
      ],
      "id": "5b8e2588-b896-4093-a5b7-25fa4aa541f4"
    },
    {
      "cell_type": "raw",
      "metadata": {
        "raw_mimetype": "text/html"
      },
      "source": [
        "<tr>"
      ],
      "id": "37010363-5cef-4da0-8524-028848c84491"
    },
    {
      "cell_type": "raw",
      "metadata": {
        "raw_mimetype": "text/html"
      },
      "source": [
        "<th scope=\"row\" style=\"width:10.5em;\">"
      ],
      "id": "d3582559-fef2-41fa-ac9f-cd121c524df4"
    },
    {
      "cell_type": "markdown",
      "metadata": {},
      "source": [
        "Sport"
      ],
      "id": "f68c3e41-9e13-4a08-8796-bae55516a506"
    },
    {
      "cell_type": "raw",
      "metadata": {
        "raw_mimetype": "text/html"
      },
      "source": [
        "</th>"
      ],
      "id": "dff58e95-5096-4c89-866d-40eeb31fd335"
    },
    {
      "cell_type": "raw",
      "metadata": {
        "raw_mimetype": "text/html"
      },
      "source": [
        "<td>"
      ],
      "id": "de5ca31f-ec3b-471e-bc33-5d235658de69"
    },
    {
      "cell_type": "markdown",
      "metadata": {},
      "source": [
        "<a href=\"/wiki/Football\" title=\"Football\">Football</a>"
      ],
      "id": "868f54d6-6c73-4015-aa04-38279d6f30fd"
    },
    {
      "cell_type": "raw",
      "metadata": {
        "raw_mimetype": "text/html"
      },
      "source": [
        "</td>"
      ],
      "id": "08fa619a-0c35-4c47-8a08-8a421a57b35b"
    },
    {
      "cell_type": "raw",
      "metadata": {
        "raw_mimetype": "text/html"
      },
      "source": [
        "</tr>"
      ],
      "id": "a6c3fba7-7c1b-458f-ac32-cc5b108c2122"
    },
    {
      "cell_type": "raw",
      "metadata": {
        "raw_mimetype": "text/html"
      },
      "source": [
        "<tr>"
      ],
      "id": "9841df2c-84fd-44d4-924b-fcf83ae6296e"
    },
    {
      "cell_type": "raw",
      "metadata": {
        "raw_mimetype": "text/html"
      },
      "source": [
        "<th scope=\"row\" style=\"width:10.5em;\">"
      ],
      "id": "46793094-24c0-4bda-b370-3ead232971d5"
    },
    {
      "cell_type": "markdown",
      "metadata": {},
      "source": [
        "Organisateur(s)"
      ],
      "id": "dbfbd305-8b03-45b5-831e-2901fc5cb795"
    },
    {
      "cell_type": "raw",
      "metadata": {
        "raw_mimetype": "text/html"
      },
      "source": [
        "</th>"
      ],
      "id": "c0eec312-dfe3-42b6-9b3b-8afc4cb6a944"
    },
    {
      "cell_type": "raw",
      "metadata": {
        "raw_mimetype": "text/html"
      },
      "source": [
        "<td>"
      ],
      "id": "80c9003b-71da-40a2-9700-0825c1f6890e"
    },
    {
      "cell_type": "markdown",
      "metadata": {},
      "source": [
        "<a href=\"/wiki/Ligue_de_football_professionnel\" title=\"Ligue de football professionnel\">LFP</a>"
      ],
      "id": "757988ed-06d0-4631-af05-c9a58c1cdfaf"
    },
    {
      "cell_type": "raw",
      "metadata": {
        "raw_mimetype": "text/html"
      },
      "source": [
        "</td>"
      ],
      "id": "f2e4d377-fe97-4e74-8e53-b2060b1f9fdb"
    },
    {
      "cell_type": "raw",
      "metadata": {
        "raw_mimetype": "text/html"
      },
      "source": [
        "</tr>"
      ],
      "id": "c2a39120-edcf-4f15-893b-e700c4d52ec4"
    },
    {
      "cell_type": "raw",
      "metadata": {
        "raw_mimetype": "text/html"
      },
      "source": [
        "<tr>"
      ],
      "id": "4e091338-748f-4091-9edd-1d0eec4efe3c"
    },
    {
      "cell_type": "raw",
      "metadata": {
        "raw_mimetype": "text/html"
      },
      "source": [
        "<th scope=\"row\" style=\"width:10.5em;\">"
      ],
      "id": "1a523d1f-08ec-4bd6-a463-a31dc3d45f86"
    },
    {
      "cell_type": "markdown",
      "metadata": {},
      "source": [
        "Édition"
      ],
      "id": "92be3c29-05ff-4e68-83c8-8e869c67bbb0"
    },
    {
      "cell_type": "raw",
      "metadata": {
        "raw_mimetype": "text/html"
      },
      "source": [
        "</th>"
      ],
      "id": "87178783-fa9c-4a93-be7f-365c05cac2fe"
    },
    {
      "cell_type": "raw",
      "metadata": {
        "raw_mimetype": "text/html"
      },
      "source": [
        "<td>"
      ],
      "id": "3577c99d-9967-469f-b8d1-7b66350be054"
    },
    {
      "cell_type": "markdown",
      "metadata": {},
      "source": [
        "<abbr class=\"abbr\" title=\"Quatre-vingt-deuxième (huitante-deuxième / octante-deuxième)\">82<sup>e</sup></abbr>"
      ],
      "id": "655dff45-a7c5-4c10-bc02-1b5c56af2ae5"
    },
    {
      "cell_type": "raw",
      "metadata": {
        "raw_mimetype": "text/html"
      },
      "source": [
        "</td>"
      ],
      "id": "c9177ebd-52fb-4354-89fd-c050828d960d"
    },
    {
      "cell_type": "raw",
      "metadata": {
        "raw_mimetype": "text/html"
      },
      "source": [
        "</tr>"
      ],
      "id": "017694d3-76b9-47cc-ad32-70d1497d61b3"
    },
    {
      "cell_type": "raw",
      "metadata": {
        "raw_mimetype": "text/html"
      },
      "source": [
        "<tr>"
      ],
      "id": "0921c271-e5bb-4bf8-8574-fc10fc480bc1"
    },
    {
      "cell_type": "raw",
      "metadata": {
        "raw_mimetype": "text/html"
      },
      "source": [
        "<th scope=\"row\" style=\"width:10.5em;\">"
      ],
      "id": "fbfe1c5f-ae25-4ac0-9605-c18c91e8d3d9"
    },
    {
      "cell_type": "markdown",
      "metadata": {},
      "source": [
        "Lieu(x)"
      ],
      "id": "24ee3428-d694-43c0-9565-76caf9879bc3"
    },
    {
      "cell_type": "raw",
      "metadata": {
        "raw_mimetype": "text/html"
      },
      "source": [
        "</th>"
      ],
      "id": "6e4377d9-dcfd-4f2e-91ed-da161caf9bd9"
    },
    {
      "cell_type": "raw",
      "metadata": {
        "raw_mimetype": "text/html"
      },
      "source": [
        "<td>"
      ],
      "id": "72a7f6cb-d6a3-4542-9803-41bdb57de31e"
    },
    {
      "cell_type": "markdown",
      "metadata": {},
      "source": [
        "<span class=\"datasortkey\" data-sort-value=\"France\"><span class=\"flagicon\"><a class=\"image\" href=\"/wiki/Fichier:Flag_of_France.svg\" title=\"Drapeau de la France\"><img alt=\"Drapeau de la France\" class=\"noviewer thumbborder\" data-file-height=\"600\" data-file-width=\"900\" decoding=\"async\" height=\"13\" src=\"//upload.wikimedia.org/wikipedia/commons/thumb/c/c3/Flag_of_France.svg/20px-Flag_of_France.svg.png\" srcset=\"//upload.wikimedia.org/wikipedia/commons/thumb/c/c3/Flag_of_France.svg/30px-Flag_of_France.svg.png 1.5x, //upload.wikimedia.org/wikipedia/commons/thumb/c/c3/Flag_of_France.svg/40px-Flag_of_France.svg.png 2x\" width=\"20\"/></a> </span><a href=\"/wiki/France\" title=\"France\">France</a></span> et <br/><span class=\"datasortkey\" data-sort-value=\"Monaco\"><span class=\"flagicon\"><a class=\"image\" href=\"/wiki/Fichier:Flag_of_Monaco.svg\" title=\"Drapeau de Monaco\"><img alt=\"Drapeau de Monaco\" class=\"noviewer thumbborder\" data-file-height=\"800\" data-file-width=\"1000\" decoding=\"async\" height=\"16\" src=\"//upload.wikimedia.org/wikipedia/commons/thumb/e/ea/Flag_of_Monaco.svg/20px-Flag_of_Monaco.svg.png\" srcset=\"//upload.wikimedia.org/wikipedia/commons/thumb/e/ea/Flag_of_Monaco.svg/30px-Flag_of_Monaco.svg.png 1.5x, //upload.wikimedia.org/wikipedia/commons/thumb/e/ea/Flag_of_Monaco.svg/40px-Flag_of_Monaco.svg.png 2x\" width=\"20\"/></a> </span><a href=\"/wiki/Monaco\" title=\"Monaco\">Monaco</a></span>"
      ],
      "id": "d314bb00-f718-4ce4-9941-4fdbb89c9593"
    },
    {
      "cell_type": "raw",
      "metadata": {
        "raw_mimetype": "text/html"
      },
      "source": [
        "</td>"
      ],
      "id": "b65caecf-7d16-4f3a-bc0b-5ef43a42b212"
    },
    {
      "cell_type": "raw",
      "metadata": {
        "raw_mimetype": "text/html"
      },
      "source": [
        "</tr>"
      ],
      "id": "df2567b9-e9fc-4cad-a097-1ba0d037098a"
    },
    {
      "cell_type": "raw",
      "metadata": {
        "raw_mimetype": "text/html"
      },
      "source": [
        "<tr>"
      ],
      "id": "6004e102-5aaf-4964-b4bf-78f4a0758a77"
    },
    {
      "cell_type": "raw",
      "metadata": {
        "raw_mimetype": "text/html"
      },
      "source": [
        "<th scope=\"row\" style=\"width:10.5em;\">"
      ],
      "id": "50b84a4f-cb74-409a-b91e-b9c157ee4530"
    },
    {
      "cell_type": "markdown",
      "metadata": {},
      "source": [
        "Date"
      ],
      "id": "beffba05-6bf2-446c-ab9f-09587fc312f9"
    },
    {
      "cell_type": "raw",
      "metadata": {
        "raw_mimetype": "text/html"
      },
      "source": [
        "</th>"
      ],
      "id": "1dae4944-02c4-44ec-a9b8-46423e7db82d"
    },
    {
      "cell_type": "raw",
      "metadata": {
        "raw_mimetype": "text/html"
      },
      "source": [
        "<td>"
      ],
      "id": "824e0376-b232-4798-895e-9d03efccdf2d"
    },
    {
      "cell_type": "markdown",
      "metadata": {},
      "source": [
        "Du <time class=\"nowrap date-lien\" data-sort-value=\"2019-08-09\" datetime=\"2019-08-09\"><a href=\"/wiki/9_ao%C3%BBt_en_sport\" title=\"9 août en sport\">9</a> <a class=\"mw-redirect\" href=\"/wiki/Ao%C3%BBt_2019_en_sport\" title=\"Août 2019 en sport\">août</a> <a href=\"/wiki/2019_en_football\" title=\"2019 en football\">2019</a></time><br/>au <time class=\"nowrap date-lien\" data-sort-value=\"2020-03-08\" datetime=\"2020-03-08\"><a href=\"/wiki/8_mars_en_sport\" title=\"8 mars en sport\">8 mars</a> <a href=\"/wiki/2020_en_football\" title=\"2020 en football\">2020</a></time> <small>(arrêt définitif)</small>"
      ],
      "id": "4556047f-438a-4170-afd0-9b72cf1468b3"
    },
    {
      "cell_type": "raw",
      "metadata": {
        "raw_mimetype": "text/html"
      },
      "source": [
        "</td>"
      ],
      "id": "64346383-4263-458a-89b3-635a9e52d3ac"
    },
    {
      "cell_type": "raw",
      "metadata": {
        "raw_mimetype": "text/html"
      },
      "source": [
        "</tr>"
      ],
      "id": "2d04055e-a39e-49f2-867e-672e034c4215"
    },
    {
      "cell_type": "raw",
      "metadata": {
        "raw_mimetype": "text/html"
      },
      "source": [
        "<tr>"
      ],
      "id": "8e7f1fc4-1006-4eae-aa31-15be89753e77"
    },
    {
      "cell_type": "raw",
      "metadata": {
        "raw_mimetype": "text/html"
      },
      "source": [
        "<th scope=\"row\" style=\"width:10.5em;\">"
      ],
      "id": "4091ba84-f9a8-41c8-a8e8-5422fa9b2e92"
    },
    {
      "cell_type": "markdown",
      "metadata": {},
      "source": [
        "Participants"
      ],
      "id": "fb2096bd-6c69-402d-9cda-cc266b437087"
    },
    {
      "cell_type": "raw",
      "metadata": {
        "raw_mimetype": "text/html"
      },
      "source": [
        "</th>"
      ],
      "id": "ee634cd6-93a0-4f86-bd55-cabb636969f0"
    },
    {
      "cell_type": "raw",
      "metadata": {
        "raw_mimetype": "text/html"
      },
      "source": [
        "<td>"
      ],
      "id": "41a1d559-9b69-4c44-b2af-bde10a5f6e08"
    },
    {
      "cell_type": "markdown",
      "metadata": {},
      "source": [
        "20 équipes"
      ],
      "id": "62562b6a-f85e-4090-a91d-a6d851b7abcd"
    },
    {
      "cell_type": "raw",
      "metadata": {
        "raw_mimetype": "text/html"
      },
      "source": [
        "</td>"
      ],
      "id": "6c69151e-c942-4f3c-9bfb-3dc8c1f4c54e"
    },
    {
      "cell_type": "raw",
      "metadata": {
        "raw_mimetype": "text/html"
      },
      "source": [
        "</tr>"
      ],
      "id": "1dc90984-f37d-4e62-82d5-71bbdce1066b"
    },
    {
      "cell_type": "raw",
      "metadata": {
        "raw_mimetype": "text/html"
      },
      "source": [
        "<tr>"
      ],
      "id": "c83a4a70-b5d2-421b-bf44-0c65049c615a"
    },
    {
      "cell_type": "raw",
      "metadata": {
        "raw_mimetype": "text/html"
      },
      "source": [
        "<th scope=\"row\" style=\"width:10.5em;\">"
      ],
      "id": "57d7b123-cbfc-48e1-a90d-bfaa3d66ac89"
    },
    {
      "cell_type": "markdown",
      "metadata": {},
      "source": [
        "Matchs joués"
      ],
      "id": "d5ecf8c7-08fe-4deb-9dfc-60605de83716"
    },
    {
      "cell_type": "raw",
      "metadata": {
        "raw_mimetype": "text/html"
      },
      "source": [
        "</th>"
      ],
      "id": "0980ae5a-9e27-4144-9c11-37a66f1fc5e2"
    },
    {
      "cell_type": "raw",
      "metadata": {
        "raw_mimetype": "text/html"
      },
      "source": [
        "<td>"
      ],
      "id": "11e99946-a180-4a7f-8dbd-0a6d9faa9725"
    },
    {
      "cell_type": "markdown",
      "metadata": {},
      "source": [
        "279 (sur 380 prévus)"
      ],
      "id": "8024f7f6-ee83-42fc-8a4a-4d07a8274c01"
    },
    {
      "cell_type": "raw",
      "metadata": {
        "raw_mimetype": "text/html"
      },
      "source": [
        "</td>"
      ],
      "id": "7ddb304d-b9a3-429b-8701-79d1e3cb687e"
    },
    {
      "cell_type": "raw",
      "metadata": {
        "raw_mimetype": "text/html"
      },
      "source": [
        "</tr>"
      ],
      "id": "9baa69f5-01c4-474a-8790-ed7eea6e32fb"
    },
    {
      "cell_type": "raw",
      "metadata": {
        "raw_mimetype": "text/html"
      },
      "source": [
        "<tr>"
      ],
      "id": "7bbe7925-afee-4c9b-823e-363404adb713"
    },
    {
      "cell_type": "raw",
      "metadata": {
        "raw_mimetype": "text/html"
      },
      "source": [
        "<th scope=\"row\" style=\"width:10.5em;\">"
      ],
      "id": "ea38b970-e1fe-41e8-abf8-07d4b48529ca"
    },
    {
      "cell_type": "markdown",
      "metadata": {},
      "source": [
        "Site web officiel"
      ],
      "id": "2bb830ce-e771-41ff-a7eb-90d235a7ff6a"
    },
    {
      "cell_type": "raw",
      "metadata": {
        "raw_mimetype": "text/html"
      },
      "source": [
        "</th>"
      ],
      "id": "d3e417de-8570-4e1d-99b1-c6b74534cc60"
    },
    {
      "cell_type": "raw",
      "metadata": {
        "raw_mimetype": "text/html"
      },
      "source": [
        "<td>"
      ],
      "id": "bdd7e389-3050-421c-98dc-32736c5cedf9"
    },
    {
      "cell_type": "markdown",
      "metadata": {},
      "source": [
        "<a class=\"external text\" href=\"https://www.ligue1.fr/\" rel=\"nofollow\">Site officiel</a>"
      ],
      "id": "bd92e97e-4ac3-43c5-af23-e19e178236e5"
    },
    {
      "cell_type": "raw",
      "metadata": {
        "raw_mimetype": "text/html"
      },
      "source": [
        "</td>"
      ],
      "id": "8a8b0c21-728d-4da7-b716-3ec6238342e6"
    },
    {
      "cell_type": "raw",
      "metadata": {
        "raw_mimetype": "text/html"
      },
      "source": [
        "</tr>"
      ],
      "id": "04984208-65d3-4d0f-9868-441aea516604"
    },
    {
      "cell_type": "raw",
      "metadata": {
        "raw_mimetype": "text/html"
      },
      "source": [
        "</tbody>"
      ],
      "id": "d48fb630-5232-44dd-b897-d2e896d5c629"
    },
    {
      "cell_type": "raw",
      "metadata": {
        "raw_mimetype": "text/html"
      },
      "source": [
        "</table>"
      ],
      "id": "12a9a4e0-a8c5-45ab-a8cf-679224e13c79"
    },
    {
      "cell_type": "markdown",
      "metadata": {},
      "source": [
        "## La méthode `findAll`\n",
        "\n",
        "Pour trouver toutes les occurences, on utilise `.findAll()`."
      ],
      "id": "3d561000-5380-4348-bbde-51ac837798be"
    },
    {
      "cell_type": "code",
      "execution_count": 9,
      "metadata": {},
      "outputs": [
        {
          "output_type": "stream",
          "name": "stdout",
          "text": [
            "Il y a 34 éléments dans la page qui sont des <table>"
          ]
        }
      ],
      "source": [
        "print(\"Il y a\", len(page.findAll(\"table\")), \"éléments dans la page qui sont des <table>\")"
      ],
      "id": "1d4a4076-e06a-4e9b-8446-f02de7e1c97e"
    },
    {
      "cell_type": "markdown",
      "metadata": {},
      "source": [
        "# Exercice guidé : obtenir la liste des équipes de Ligue 1\n",
        "\n",
        "Dans le premier paragraphe de la page “Participants”, on a le tableau avec les résultats de l’année.\n",
        "\n",
        "{{% box status=“exercise” title=“Exercice” icon=“fas fa-pencil-alt” %}}\n",
        "Le but est de récupérer les informations contenues dans ce tableau.\n",
        "\n",
        "Pour cela, nous allons procéder en 6 étapes:\n",
        "\n",
        "1.  Trouver le tableau\n",
        "2.  Récupérer chaque ligne du table\n",
        "3.  Nettoyer les sorties en ne gardant que le texte sur une ligne\n",
        "4.  Généraliser sur toutes les lignes\n",
        "5.  Récupérer les entêtes du tableau\n",
        "6.  Finalisation du tableau\n",
        "\n",
        "{{% /box %}}\n",
        "\n",
        ":one:\n",
        "Trouver le tableau\n",
        "\n",
        "``` python\n",
        "# on identifie le tableau en question : c'est le premier qui a cette classe \"wikitable sortable\"\n",
        "tableau_participants = page.find('table', {'class' : 'wikitable sortable'})\n",
        "\n",
        "print(tableau_participants)\n",
        "```"
      ],
      "id": "070d8c4c-5323-4339-81ff-080767c70dea"
    },
    {
      "cell_type": "raw",
      "metadata": {
        "raw_mimetype": "text/html"
      },
      "source": [
        "<table class=\"wikitable sortable\" style=\"font-size:90%;line-height:15px;text-align:center\">"
      ],
      "id": "cd40551b-359d-4702-a027-856b40567be7"
    },
    {
      "cell_type": "raw",
      "metadata": {
        "raw_mimetype": "text/html"
      },
      "source": [
        "<tbody>"
      ],
      "id": "e58ed29f-1ce7-4abd-a231-94fcba605cb9"
    },
    {
      "cell_type": "raw",
      "metadata": {
        "raw_mimetype": "text/html"
      },
      "source": [
        "<tr>"
      ],
      "id": "541e9f35-26c3-464e-8758-151c4be00c99"
    },
    {
      "cell_type": "raw",
      "metadata": {
        "raw_mimetype": "text/html"
      },
      "source": [
        "<th scope=\"col\">"
      ],
      "id": "0041b277-0b51-460f-b2b5-e35e52954595"
    },
    {
      "cell_type": "markdown",
      "metadata": {},
      "source": [
        "Club"
      ],
      "id": "f151e9bd-5388-43f2-aaf4-15f550a7e2df"
    },
    {
      "cell_type": "raw",
      "metadata": {
        "raw_mimetype": "text/html"
      },
      "source": [
        "</th>"
      ],
      "id": "c162a0b3-0755-4dc6-9b4e-0624bc25e90e"
    },
    {
      "cell_type": "raw",
      "metadata": {
        "raw_mimetype": "text/html"
      },
      "source": [
        "<th scope=\"col\">"
      ],
      "id": "1188f6fa-0cc9-4169-bd6b-4fd285466884"
    },
    {
      "cell_type": "markdown",
      "metadata": {},
      "source": [
        "Dernière<br/>montée"
      ],
      "id": "1b3b2622-d330-4418-b795-36a7ad76f562"
    },
    {
      "cell_type": "raw",
      "metadata": {
        "raw_mimetype": "text/html"
      },
      "source": [
        "</th>"
      ],
      "id": "23b94a88-e22b-478f-ab7f-0c965d4c8e70"
    },
    {
      "cell_type": "raw",
      "metadata": {
        "raw_mimetype": "text/html"
      },
      "source": [
        "<th scope=\"col\">"
      ],
      "id": "9f69eb39-b9bd-444a-bd11-11287af28b64"
    },
    {
      "cell_type": "markdown",
      "metadata": {},
      "source": [
        "Budget<sup class=\"reference\" id=\"cite_ref-3\"><a href=\"#cite_note-3\"><span class=\"cite_crochet\">\\[</span>3<span class=\"cite_crochet\">\\]</span></a></sup><br/>en M<a href=\"/wiki/Euro\" title=\"Euro\">€</a>"
      ],
      "id": "eb1299d6-6bb8-47ec-97ee-447b2b511ea0"
    },
    {
      "cell_type": "raw",
      "metadata": {
        "raw_mimetype": "text/html"
      },
      "source": [
        "</th>"
      ],
      "id": "8ce435d1-320c-49df-99ce-dba2a0eba958"
    },
    {
      "cell_type": "raw",
      "metadata": {
        "raw_mimetype": "text/html"
      },
      "source": [
        "<th scope=\"col\">"
      ],
      "id": "1fe39355-eb2d-49c7-9247-ae56d2827266"
    },
    {
      "cell_type": "markdown",
      "metadata": {},
      "source": [
        "Classement<br/><a href=\"/wiki/Championnat_de_France_de_football_2018-2019\" title=\"Championnat de France de football 2018-2019\">2018-2019</a>"
      ],
      "id": "65f89afa-aeb9-48b0-bbf3-c77e09d61da4"
    },
    {
      "cell_type": "raw",
      "metadata": {
        "raw_mimetype": "text/html"
      },
      "source": [
        "</th>"
      ],
      "id": "0f23e6ce-d863-4b9c-a5f5-8a1ee9f4b911"
    },
    {
      "cell_type": "raw",
      "metadata": {
        "raw_mimetype": "text/html"
      },
      "source": [
        "<th scope=\"col\">"
      ],
      "id": "0a407401-fcb3-4113-a1f0-b3d01348e003"
    },
    {
      "cell_type": "markdown",
      "metadata": {},
      "source": [
        "Entraîneur"
      ],
      "id": "3cb90e30-51f4-4262-b491-850e77f97619"
    },
    {
      "cell_type": "raw",
      "metadata": {
        "raw_mimetype": "text/html"
      },
      "source": [
        "</th>"
      ],
      "id": "efe02992-a3db-4a62-9003-c39a291d5dfb"
    },
    {
      "cell_type": "raw",
      "metadata": {
        "raw_mimetype": "text/html"
      },
      "source": [
        "<th scope=\"col\">"
      ],
      "id": "73655264-f492-4137-a222-672624180ca3"
    },
    {
      "cell_type": "markdown",
      "metadata": {},
      "source": [
        "Depuis"
      ],
      "id": "0d5a11b2-bce4-4def-bd7d-08b14bf31e2e"
    },
    {
      "cell_type": "raw",
      "metadata": {
        "raw_mimetype": "text/html"
      },
      "source": [
        "</th>"
      ],
      "id": "02abaf4d-084c-41bf-a9a6-3df46a5a6d9a"
    },
    {
      "cell_type": "raw",
      "metadata": {
        "raw_mimetype": "text/html"
      },
      "source": [
        "<th scope=\"col\">"
      ],
      "id": "bba7c8a8-173c-497d-b68c-5ecfde8b4721"
    },
    {
      "cell_type": "markdown",
      "metadata": {},
      "source": [
        "Stade"
      ],
      "id": "d38a5840-e310-45b7-a308-9593b0c8b5d8"
    },
    {
      "cell_type": "raw",
      "metadata": {
        "raw_mimetype": "text/html"
      },
      "source": [
        "</th>"
      ],
      "id": "d177f51e-7905-4366-b4f5-dfd200e4e5a9"
    },
    {
      "cell_type": "raw",
      "metadata": {
        "raw_mimetype": "text/html"
      },
      "source": [
        "<th scope=\"col\">"
      ],
      "id": "f03ab80b-b8e1-40a6-9017-02f5743abd17"
    },
    {
      "cell_type": "markdown",
      "metadata": {},
      "source": [
        "Capacité<br/>en L1<sup class=\"reference\" id=\"cite_ref-4\"><a href=\"#cite_note-4\"><span class=\"cite_crochet\">\\[</span>4<span class=\"cite_crochet\">\\]</span></a></sup>"
      ],
      "id": "2284381e-4f72-496d-a3e7-a4c8af743670"
    },
    {
      "cell_type": "raw",
      "metadata": {
        "raw_mimetype": "text/html"
      },
      "source": [
        "</th>"
      ],
      "id": "9ad2ec77-14f6-47a1-b38a-541d74e52647"
    },
    {
      "cell_type": "raw",
      "metadata": {
        "raw_mimetype": "text/html"
      },
      "source": [
        "<th scope=\"col\">"
      ],
      "id": "8346e50f-6e59-4c68-bbba-237867529a04"
    },
    {
      "cell_type": "markdown",
      "metadata": {},
      "source": [
        "Nombre<br/>de saisons<br/>en L1"
      ],
      "id": "73565ba7-e8ec-445c-8f34-86dda1431d8e"
    },
    {
      "cell_type": "raw",
      "metadata": {
        "raw_mimetype": "text/html"
      },
      "source": [
        "</th>"
      ],
      "id": "816223fc-7027-4acd-af2b-e87896a84c44"
    },
    {
      "cell_type": "raw",
      "metadata": {
        "raw_mimetype": "text/html"
      },
      "source": [
        "</tr>"
      ],
      "id": "1f203bd9-4d12-4e58-8dfb-95d3ce07e511"
    },
    {
      "cell_type": "raw",
      "metadata": {
        "raw_mimetype": "text/html"
      },
      "source": [
        "<tr bgcolor=\"#97DEFF\">"
      ],
      "id": "5994c925-304d-48d2-8f00-e0969c420581"
    },
    {
      "cell_type": "raw",
      "metadata": {
        "raw_mimetype": "text/html"
      },
      "source": [
        "<td>"
      ],
      "id": "0942d326-f98d-4b53-92a2-2f3f03b3aef1"
    },
    {
      "cell_type": "markdown",
      "metadata": {},
      "source": [
        "<a href=\"/wiki/Paris_Saint-Germain_Football_Club\" title=\"Paris Saint-Germain Football Club\">Paris Saint-Germain</a>"
      ],
      "id": "bce370dd-f606-49a5-a4f5-0a5943d9d020"
    },
    {
      "cell_type": "raw",
      "metadata": {
        "raw_mimetype": "text/html"
      },
      "source": [
        "</td>"
      ],
      "id": "30800e5a-f2b2-4343-9e92-770dbccd059e"
    },
    {
      "cell_type": "raw",
      "metadata": {
        "raw_mimetype": "text/html"
      },
      "source": [
        "<td>"
      ],
      "id": "3ee81922-60fb-4cf4-9698-3de83cc02234"
    },
    {
      "cell_type": "markdown",
      "metadata": {},
      "source": [
        "1974"
      ],
      "id": "569c700a-1c95-420d-9326-8b48c01cb134"
    },
    {
      "cell_type": "raw",
      "metadata": {
        "raw_mimetype": "text/html"
      },
      "source": [
        "</td>"
      ],
      "id": "187b1e69-5cc6-4fba-a199-57246a28bba6"
    },
    {
      "cell_type": "raw",
      "metadata": {
        "raw_mimetype": "text/html"
      },
      "source": [
        "<td>"
      ],
      "id": "6bd73dda-cc8c-4bb6-85f3-d1851a75b39f"
    },
    {
      "cell_type": "markdown",
      "metadata": {},
      "source": [
        "637"
      ],
      "id": "558123ae-4e81-49c9-a25d-95e7e80ca086"
    },
    {
      "cell_type": "raw",
      "metadata": {
        "raw_mimetype": "text/html"
      },
      "source": [
        "</td>"
      ],
      "id": "e5342ebb-df2b-4f9d-a35e-82f6b64ef8b7"
    },
    {
      "cell_type": "raw",
      "metadata": {
        "raw_mimetype": "text/html"
      },
      "source": [
        "<td>"
      ],
      "id": "874782e4-f25b-4d50-8e25-d16fed2419cd"
    },
    {
      "cell_type": "markdown",
      "metadata": {},
      "source": [
        "<span data-sort-value=\"101 !\"></span><abbr class=\"abbr\" title=\"Premier\">1<sup>er</sup></abbr>"
      ],
      "id": "d960f166-03bd-4348-9743-c25fa598a53a"
    },
    {
      "cell_type": "raw",
      "metadata": {
        "raw_mimetype": "text/html"
      },
      "source": [
        "</td>"
      ],
      "id": "9c5943bc-c259-418d-8027-9ad5eae65d97"
    },
    {
      "cell_type": "raw",
      "metadata": {
        "raw_mimetype": "text/html"
      },
      "source": [
        "<td align=\"left\">"
      ],
      "id": "2fef8eb1-5f0e-4073-bcaa-e9828d242e8d"
    },
    {
      "cell_type": "markdown",
      "metadata": {},
      "source": [
        "<span class=\"flagicon\"><a class=\"image\" href=\"/wiki/Fichier:Flag_of_Germany.svg\" title=\"Drapeau : Allemagne\"><img alt=\"\" class=\"noviewer thumbborder\" data-file-height=\"600\" data-file-width=\"1000\" decoding=\"async\" height=\"12\" src=\"//upload.wikimedia.org/wikipedia/commons/thumb/b/ba/Flag_of_Germany.svg/20px-Flag_of_Germany.svg.png\" srcset=\"//upload.wikimedia.org/wikipedia/commons/thumb/b/ba/Flag_of_Germany.svg/30px-Flag_of_Germany.svg.png 1.5x, //upload.wikimedia.org/wikipedia/commons/thumb/b/ba/Flag_of_Germany.svg/40px-Flag_of_Germany.svg.png 2x\" width=\"20\"/></a></span> <a href=\"/wiki/Thomas_Tuchel\" title=\"Thomas Tuchel\">Thomas Tuchel</a>"
      ],
      "id": "9d480075-c1c8-4ecc-a025-54ab73d98f38"
    },
    {
      "cell_type": "raw",
      "metadata": {
        "raw_mimetype": "text/html"
      },
      "source": [
        "</td>"
      ],
      "id": "9a4cf4e5-8f26-4cf3-944b-9ef37b0b6a0a"
    },
    {
      "cell_type": "raw",
      "metadata": {
        "raw_mimetype": "text/html"
      },
      "source": [
        "<td>"
      ],
      "id": "4b99ec60-e51d-4d51-9ea0-6d9265592e88"
    },
    {
      "cell_type": "markdown",
      "metadata": {},
      "source": [
        "2018"
      ],
      "id": "4f178508-c84b-42cd-b5d1-dd616569c5b8"
    },
    {
      "cell_type": "raw",
      "metadata": {
        "raw_mimetype": "text/html"
      },
      "source": [
        "</td>"
      ],
      "id": "5b00105a-2699-4bd3-9357-9ad2ec9ef700"
    },
    {
      "cell_type": "raw",
      "metadata": {
        "raw_mimetype": "text/html"
      },
      "source": [
        "<td>"
      ],
      "id": "27141e4f-adc2-4532-922c-cc322e0c177d"
    },
    {
      "cell_type": "markdown",
      "metadata": {},
      "source": [
        "<a href=\"/wiki/Parc_des_Princes\" title=\"Parc des Princes\">Parc des Princes</a>"
      ],
      "id": "e1914e01-889f-45c2-a559-b2662123d685"
    },
    {
      "cell_type": "raw",
      "metadata": {
        "raw_mimetype": "text/html"
      },
      "source": [
        "</td>"
      ],
      "id": "682aeeca-433e-42fd-a2f5-a23064116a91"
    },
    {
      "cell_type": "raw",
      "metadata": {
        "raw_mimetype": "text/html"
      },
      "source": [
        "<td>"
      ],
      "id": "05694d7b-f66a-4c6d-b858-c5490536b686"
    },
    {
      "cell_type": "markdown",
      "metadata": {},
      "source": [
        "47 929"
      ],
      "id": "c631969e-8d59-438d-9449-c960554b2e99"
    },
    {
      "cell_type": "raw",
      "metadata": {
        "raw_mimetype": "text/html"
      },
      "source": [
        "</td>"
      ],
      "id": "17b312d4-cb3f-4184-972f-920c4371a976"
    },
    {
      "cell_type": "raw",
      "metadata": {
        "raw_mimetype": "text/html"
      },
      "source": [
        "<td>"
      ],
      "id": "d4b04eab-2fa2-4d3a-89f7-2a798e5bab4b"
    },
    {
      "cell_type": "markdown",
      "metadata": {},
      "source": [
        "46"
      ],
      "id": "5361057f-f4b5-40a3-a4af-359a75b865ac"
    },
    {
      "cell_type": "raw",
      "metadata": {
        "raw_mimetype": "text/html"
      },
      "source": [
        "</td>"
      ],
      "id": "8f4e74f7-5b3f-4ed8-a0b2-24e84acf9b48"
    },
    {
      "cell_type": "raw",
      "metadata": {
        "raw_mimetype": "text/html"
      },
      "source": [
        "</tr>"
      ],
      "id": "6be8aa4b-689b-4c13-9bfa-b2f4dff2bb1b"
    },
    {
      "cell_type": "raw",
      "metadata": {
        "raw_mimetype": "text/html"
      },
      "source": [
        "<tr bgcolor=\"#97DEFF\">"
      ],
      "id": "684fd5f7-4a76-4bbb-8daa-62918666422b"
    },
    {
      "cell_type": "raw",
      "metadata": {
        "raw_mimetype": "text/html"
      },
      "source": [
        "<td>"
      ],
      "id": "e803bda9-e07c-4aae-8b83-dcb8d0059502"
    },
    {
      "cell_type": "markdown",
      "metadata": {},
      "source": [
        "<a href=\"/wiki/LOSC_Lille\" title=\"LOSC Lille\">LOSC Lille</a>"
      ],
      "id": "eb737f34-7ea7-4758-b13a-feb4eb45b959"
    },
    {
      "cell_type": "raw",
      "metadata": {
        "raw_mimetype": "text/html"
      },
      "source": [
        "</td>"
      ],
      "id": "4659a202-0c23-4c83-a5a4-cea187a57e85"
    },
    {
      "cell_type": "raw",
      "metadata": {
        "raw_mimetype": "text/html"
      },
      "source": [
        "<td>"
      ],
      "id": "5cdd1757-cc6b-4f6e-a3f4-5d90012ed919"
    },
    {
      "cell_type": "markdown",
      "metadata": {},
      "source": [
        "2000"
      ],
      "id": "726e81d8-ed4e-4f1d-9bcd-9d9915b09310"
    },
    {
      "cell_type": "raw",
      "metadata": {
        "raw_mimetype": "text/html"
      },
      "source": [
        "</td>"
      ],
      "id": "3a9378f7-0ed2-4f5d-90c7-d73e358e6f26"
    },
    {
      "cell_type": "raw",
      "metadata": {
        "raw_mimetype": "text/html"
      },
      "source": [
        "<td>"
      ],
      "id": "f4b27c6e-8d0a-49d3-bb0c-a9bc70badf1b"
    },
    {
      "cell_type": "markdown",
      "metadata": {},
      "source": [
        "120"
      ],
      "id": "5cb5934c-431d-4395-886b-b160813e6053"
    },
    {
      "cell_type": "raw",
      "metadata": {
        "raw_mimetype": "text/html"
      },
      "source": [
        "</td>"
      ],
      "id": "f4e4fd41-bee8-4787-a753-66283b9a4d18"
    },
    {
      "cell_type": "raw",
      "metadata": {
        "raw_mimetype": "text/html"
      },
      "source": [
        "<td>"
      ],
      "id": "69ecd67e-b87c-4777-97ee-69d078c5b77a"
    },
    {
      "cell_type": "markdown",
      "metadata": {},
      "source": [
        "<span data-sort-value=\"102 !\"></span><abbr class=\"abbr\" title=\"Deuxième\">2<sup>e</sup></abbr>"
      ],
      "id": "12dbf63e-b309-4848-aac2-d79fa42e8e70"
    },
    {
      "cell_type": "raw",
      "metadata": {
        "raw_mimetype": "text/html"
      },
      "source": [
        "</td>"
      ],
      "id": "46362243-10b7-4a4f-bff8-884624c74ac3"
    },
    {
      "cell_type": "raw",
      "metadata": {
        "raw_mimetype": "text/html"
      },
      "source": [
        "<td align=\"left\">"
      ],
      "id": "6f79632d-89fa-4e9b-bd05-1c200a0ca9c1"
    },
    {
      "cell_type": "markdown",
      "metadata": {},
      "source": [
        "<span class=\"flagicon\"><a class=\"image\" href=\"/wiki/Fichier:Flag_of_France.svg\" title=\"Drapeau : France\"><img alt=\"\" class=\"noviewer thumbborder\" data-file-height=\"600\" data-file-width=\"900\" decoding=\"async\" height=\"13\" src=\"//upload.wikimedia.org/wikipedia/commons/thumb/c/c3/Flag_of_France.svg/20px-Flag_of_France.svg.png\" srcset=\"//upload.wikimedia.org/wikipedia/commons/thumb/c/c3/Flag_of_France.svg/30px-Flag_of_France.svg.png 1.5x, //upload.wikimedia.org/wikipedia/commons/thumb/c/c3/Flag_of_France.svg/40px-Flag_of_France.svg.png 2x\" width=\"20\"/></a></span> <a href=\"/wiki/Christophe_Galtier\" title=\"Christophe Galtier\">Christophe Galtier</a>"
      ],
      "id": "e3fe1cda-eee1-43f7-ad08-fd7994b9e2e4"
    },
    {
      "cell_type": "raw",
      "metadata": {
        "raw_mimetype": "text/html"
      },
      "source": [
        "</td>"
      ],
      "id": "d77fe397-d06b-49a5-9b15-b3259dea476d"
    },
    {
      "cell_type": "raw",
      "metadata": {
        "raw_mimetype": "text/html"
      },
      "source": [
        "<td>"
      ],
      "id": "69587b43-7a9b-4e9d-8b0c-fee63d88a9d8"
    },
    {
      "cell_type": "markdown",
      "metadata": {},
      "source": [
        "2017"
      ],
      "id": "5b548193-316b-43b4-86d9-03d5e36058ab"
    },
    {
      "cell_type": "raw",
      "metadata": {
        "raw_mimetype": "text/html"
      },
      "source": [
        "</td>"
      ],
      "id": "d6ad9125-a15d-45b0-94a7-9e7695f565f7"
    },
    {
      "cell_type": "raw",
      "metadata": {
        "raw_mimetype": "text/html"
      },
      "source": [
        "<td>"
      ],
      "id": "b420cd46-e862-4b80-936a-17a1a20ebc15"
    },
    {
      "cell_type": "markdown",
      "metadata": {},
      "source": [
        "<a href=\"/wiki/Stade_Pierre-Mauroy\" title=\"Stade Pierre-Mauroy\">Stade Pierre-Mauroy</a>"
      ],
      "id": "5e50a5bd-970f-48e5-a41f-a59f5b0664a3"
    },
    {
      "cell_type": "raw",
      "metadata": {
        "raw_mimetype": "text/html"
      },
      "source": [
        "</td>"
      ],
      "id": "90d233bc-9219-4de1-8396-cadc4076d02c"
    },
    {
      "cell_type": "raw",
      "metadata": {
        "raw_mimetype": "text/html"
      },
      "source": [
        "<td>"
      ],
      "id": "01e01765-491f-46d6-b493-148b740d8975"
    },
    {
      "cell_type": "markdown",
      "metadata": {},
      "source": [
        "49 712"
      ],
      "id": "c82a51d9-8b45-409d-80eb-445c0720584f"
    },
    {
      "cell_type": "raw",
      "metadata": {
        "raw_mimetype": "text/html"
      },
      "source": [
        "</td>"
      ],
      "id": "1e444a30-8a75-4d5a-b656-a717b55f0293"
    },
    {
      "cell_type": "raw",
      "metadata": {
        "raw_mimetype": "text/html"
      },
      "source": [
        "<td>"
      ],
      "id": "e44e3b1f-abaf-4dac-8cdd-675128c1578a"
    },
    {
      "cell_type": "markdown",
      "metadata": {},
      "source": [
        "59"
      ],
      "id": "a21ece8e-c72d-4f49-bb7e-bec95629659a"
    },
    {
      "cell_type": "raw",
      "metadata": {
        "raw_mimetype": "text/html"
      },
      "source": [
        "</td>"
      ],
      "id": "de9ee521-6102-4fd6-afc2-7741ee53cb86"
    },
    {
      "cell_type": "raw",
      "metadata": {
        "raw_mimetype": "text/html"
      },
      "source": [
        "</tr>"
      ],
      "id": "0bd6cdd0-daaf-49f0-b55c-f8ba88866a92"
    },
    {
      "cell_type": "raw",
      "metadata": {
        "raw_mimetype": "text/html"
      },
      "source": [
        "<tr bgcolor=\"#97DEFF\">"
      ],
      "id": "cdf98dbc-2a0c-490c-b85c-e4c42af1389b"
    },
    {
      "cell_type": "raw",
      "metadata": {
        "raw_mimetype": "text/html"
      },
      "source": [
        "<td>"
      ],
      "id": "8ecc95d6-67a2-4f79-b0be-04ec9111986d"
    },
    {
      "cell_type": "markdown",
      "metadata": {},
      "source": [
        "<a href=\"/wiki/Olympique_lyonnais\" title=\"Olympique lyonnais\">Olympique lyonnais</a>"
      ],
      "id": "73d7d671-b79f-419c-ad90-92a204a7239a"
    },
    {
      "cell_type": "raw",
      "metadata": {
        "raw_mimetype": "text/html"
      },
      "source": [
        "</td>"
      ],
      "id": "756a78fb-1807-412a-895d-b6c56745ed82"
    },
    {
      "cell_type": "raw",
      "metadata": {
        "raw_mimetype": "text/html"
      },
      "source": [
        "<td>"
      ],
      "id": "8f46bec7-474b-4485-8b27-1131e9fed0b2"
    },
    {
      "cell_type": "markdown",
      "metadata": {},
      "source": [
        "1989"
      ],
      "id": "83b27204-f1fb-42ae-82c1-0e1cf81d9bdb"
    },
    {
      "cell_type": "raw",
      "metadata": {
        "raw_mimetype": "text/html"
      },
      "source": [
        "</td>"
      ],
      "id": "d72fa7c0-0c97-445c-afb1-ba693d07bca0"
    },
    {
      "cell_type": "raw",
      "metadata": {
        "raw_mimetype": "text/html"
      },
      "source": [
        "<td>"
      ],
      "id": "84cc727f-d46c-41f8-aed0-6c0bec6fec5a"
    },
    {
      "cell_type": "markdown",
      "metadata": {},
      "source": [
        "310"
      ],
      "id": "096a2d14-9016-4b69-8c9a-79a93328b0fb"
    },
    {
      "cell_type": "raw",
      "metadata": {
        "raw_mimetype": "text/html"
      },
      "source": [
        "</td>"
      ],
      "id": "95cda88a-2434-4d3b-a7ec-a63754ae04ff"
    },
    {
      "cell_type": "raw",
      "metadata": {
        "raw_mimetype": "text/html"
      },
      "source": [
        "<td>"
      ],
      "id": "98f6864f-7c50-4fe9-a905-458377a57a5c"
    },
    {
      "cell_type": "markdown",
      "metadata": {},
      "source": [
        "<span data-sort-value=\"103 !\"></span><abbr class=\"abbr\" title=\"Troisième\">3<sup>e</sup></abbr>"
      ],
      "id": "ee773822-e111-4909-9165-f3bc0a5abd6a"
    },
    {
      "cell_type": "raw",
      "metadata": {
        "raw_mimetype": "text/html"
      },
      "source": [
        "</td>"
      ],
      "id": "363b7dcc-1934-401d-be8a-c25553c58f53"
    },
    {
      "cell_type": "raw",
      "metadata": {
        "raw_mimetype": "text/html"
      },
      "source": [
        "<td align=\"left\">"
      ],
      "id": "e69551cc-3d97-4b37-8a0b-a046eeadc232"
    },
    {
      "cell_type": "markdown",
      "metadata": {},
      "source": [
        "<span class=\"flagicon\"><a class=\"image\" href=\"/wiki/Fichier:Flag_of_France.svg\" title=\"Drapeau : France\"><img alt=\"\" class=\"noviewer thumbborder\" data-file-height=\"600\" data-file-width=\"900\" decoding=\"async\" height=\"13\" src=\"//upload.wikimedia.org/wikipedia/commons/thumb/c/c3/Flag_of_France.svg/20px-Flag_of_France.svg.png\" srcset=\"//upload.wikimedia.org/wikipedia/commons/thumb/c/c3/Flag_of_France.svg/30px-Flag_of_France.svg.png 1.5x, //upload.wikimedia.org/wikipedia/commons/thumb/c/c3/Flag_of_France.svg/40px-Flag_of_France.svg.png 2x\" width=\"20\"/></a></span> <a href=\"/wiki/Rudi_Garcia\" title=\"Rudi Garcia\">Rudi Garcia</a>"
      ],
      "id": "2d2ae517-1dc5-4981-b52d-6e6e86706eb0"
    },
    {
      "cell_type": "raw",
      "metadata": {
        "raw_mimetype": "text/html"
      },
      "source": [
        "</td>"
      ],
      "id": "8205fd13-0efc-474c-a58b-b218c64e5d87"
    },
    {
      "cell_type": "raw",
      "metadata": {
        "raw_mimetype": "text/html"
      },
      "source": [
        "<td>"
      ],
      "id": "3f704cbf-7269-464e-a5fe-7fec853824fc"
    },
    {
      "cell_type": "markdown",
      "metadata": {},
      "source": [
        "2019"
      ],
      "id": "c3a8cd36-d840-4366-a002-2b2a941afc45"
    },
    {
      "cell_type": "raw",
      "metadata": {
        "raw_mimetype": "text/html"
      },
      "source": [
        "</td>"
      ],
      "id": "bcec35e4-8a45-4675-aaeb-caa4653b8109"
    },
    {
      "cell_type": "raw",
      "metadata": {
        "raw_mimetype": "text/html"
      },
      "source": [
        "<td>"
      ],
      "id": "8c29eebc-0c6c-4b2d-bb31-ad0090ae1180"
    },
    {
      "cell_type": "markdown",
      "metadata": {},
      "source": [
        "<a href=\"/wiki/Parc_Olympique_lyonnais\" title=\"Parc Olympique lyonnais\">Groupama Stadium</a>"
      ],
      "id": "c40a7886-eb38-40d3-bb36-2cf406fb16d6"
    },
    {
      "cell_type": "raw",
      "metadata": {
        "raw_mimetype": "text/html"
      },
      "source": [
        "</td>"
      ],
      "id": "2348c3aa-00db-4414-9810-66599075c582"
    },
    {
      "cell_type": "raw",
      "metadata": {
        "raw_mimetype": "text/html"
      },
      "source": [
        "<td>"
      ],
      "id": "67b20163-5076-4f40-b570-18164f61ea67"
    },
    {
      "cell_type": "markdown",
      "metadata": {},
      "source": [
        "57 206"
      ],
      "id": "313a846f-b9e0-4e3b-a08b-def3bf7c83ff"
    },
    {
      "cell_type": "raw",
      "metadata": {
        "raw_mimetype": "text/html"
      },
      "source": [
        "</td>"
      ],
      "id": "ef0615ad-021b-4c5d-8728-de5926346026"
    },
    {
      "cell_type": "raw",
      "metadata": {
        "raw_mimetype": "text/html"
      },
      "source": [
        "<td>"
      ],
      "id": "426fd59f-266f-4c13-bc2b-f953f2c1734f"
    },
    {
      "cell_type": "markdown",
      "metadata": {},
      "source": [
        "60"
      ],
      "id": "84aa3fbe-e8fb-4a7e-b9da-2421c1a533b3"
    },
    {
      "cell_type": "raw",
      "metadata": {
        "raw_mimetype": "text/html"
      },
      "source": [
        "</td>"
      ],
      "id": "3ca5d374-6c7a-4c75-a951-876cbf7edfaa"
    },
    {
      "cell_type": "raw",
      "metadata": {
        "raw_mimetype": "text/html"
      },
      "source": [
        "</tr>"
      ],
      "id": "14ad4609-ab23-4e0e-9449-8799f783091b"
    },
    {
      "cell_type": "raw",
      "metadata": {
        "raw_mimetype": "text/html"
      },
      "source": [
        "<tr bgcolor=\"#FFE052\">"
      ],
      "id": "910826ef-35c1-4467-af4d-cc717ea6a077"
    },
    {
      "cell_type": "raw",
      "metadata": {
        "raw_mimetype": "text/html"
      },
      "source": [
        "<td>"
      ],
      "id": "eaac69d2-3a97-484c-883a-a80d31366149"
    },
    {
      "cell_type": "markdown",
      "metadata": {},
      "source": [
        "<a href=\"/wiki/Association_sportive_de_Saint-%C3%89tienne\" title=\"Association sportive de Saint-Étienne\">AS Saint-Étienne</a>"
      ],
      "id": "3fd51ec5-a31b-4767-96e1-9e41dbc5c38a"
    },
    {
      "cell_type": "raw",
      "metadata": {
        "raw_mimetype": "text/html"
      },
      "source": [
        "</td>"
      ],
      "id": "144bf562-dd80-449f-a4ea-54cedb06a00b"
    },
    {
      "cell_type": "raw",
      "metadata": {
        "raw_mimetype": "text/html"
      },
      "source": [
        "<td>"
      ],
      "id": "c0f71bfa-68b2-4a3a-9a58-2d0c64be3763"
    },
    {
      "cell_type": "markdown",
      "metadata": {},
      "source": [
        "2004"
      ],
      "id": "e7753c28-4b17-46e3-b0b7-1f1bc79800f2"
    },
    {
      "cell_type": "raw",
      "metadata": {
        "raw_mimetype": "text/html"
      },
      "source": [
        "</td>"
      ],
      "id": "8abfd11b-0723-4e6d-8a19-e4194d146d2f"
    },
    {
      "cell_type": "raw",
      "metadata": {
        "raw_mimetype": "text/html"
      },
      "source": [
        "<td>"
      ],
      "id": "f8d3aafa-c286-4ffe-b8ed-37ee3d76323e"
    },
    {
      "cell_type": "markdown",
      "metadata": {},
      "source": [
        "100"
      ],
      "id": "20280674-fa72-41ae-8b74-8cb5c267fcfd"
    },
    {
      "cell_type": "raw",
      "metadata": {
        "raw_mimetype": "text/html"
      },
      "source": [
        "</td>"
      ],
      "id": "ae1516c0-55d0-4930-a530-b6d99a05fb8d"
    },
    {
      "cell_type": "raw",
      "metadata": {
        "raw_mimetype": "text/html"
      },
      "source": [
        "<td>"
      ],
      "id": "ba7d064b-3efe-4314-bdb3-5a695f27cd83"
    },
    {
      "cell_type": "markdown",
      "metadata": {},
      "source": [
        "<span data-sort-value=\"104 !\"></span><abbr class=\"abbr\" title=\"Quatrième\">4<sup>e</sup></abbr>"
      ],
      "id": "400f301a-80c6-4eb8-9068-abb5ce397f96"
    },
    {
      "cell_type": "raw",
      "metadata": {
        "raw_mimetype": "text/html"
      },
      "source": [
        "</td>"
      ],
      "id": "923ef444-91c0-4ad6-87b8-3793afc60984"
    },
    {
      "cell_type": "raw",
      "metadata": {
        "raw_mimetype": "text/html"
      },
      "source": [
        "<td align=\"left\">"
      ],
      "id": "281ea5bb-059b-4399-b767-7cd549536215"
    },
    {
      "cell_type": "markdown",
      "metadata": {},
      "source": [
        "<span class=\"flagicon\"><a class=\"image\" href=\"/wiki/Fichier:Flag_of_France.svg\" title=\"Drapeau : France\"><img alt=\"\" class=\"noviewer thumbborder\" data-file-height=\"600\" data-file-width=\"900\" decoding=\"async\" height=\"13\" src=\"//upload.wikimedia.org/wikipedia/commons/thumb/c/c3/Flag_of_France.svg/20px-Flag_of_France.svg.png\" srcset=\"//upload.wikimedia.org/wikipedia/commons/thumb/c/c3/Flag_of_France.svg/30px-Flag_of_France.svg.png 1.5x, //upload.wikimedia.org/wikipedia/commons/thumb/c/c3/Flag_of_France.svg/40px-Flag_of_France.svg.png 2x\" width=\"20\"/></a></span> <a href=\"/wiki/Claude_Puel\" title=\"Claude Puel\">Claude Puel</a>"
      ],
      "id": "094039db-fde9-4b0a-9515-e9c0982e896e"
    },
    {
      "cell_type": "raw",
      "metadata": {
        "raw_mimetype": "text/html"
      },
      "source": [
        "</td>"
      ],
      "id": "5ef7e077-5071-4c7e-94f3-6989a03dd130"
    },
    {
      "cell_type": "raw",
      "metadata": {
        "raw_mimetype": "text/html"
      },
      "source": [
        "<td>"
      ],
      "id": "0f13f58b-7289-44e5-8f46-fb5c0722c1d5"
    },
    {
      "cell_type": "markdown",
      "metadata": {},
      "source": [
        "2019"
      ],
      "id": "a9122fb6-4feb-4bef-b3d8-bb74c6f542f4"
    },
    {
      "cell_type": "raw",
      "metadata": {
        "raw_mimetype": "text/html"
      },
      "source": [
        "</td>"
      ],
      "id": "8d6c395a-4f76-41a5-aa65-50ef207becbc"
    },
    {
      "cell_type": "raw",
      "metadata": {
        "raw_mimetype": "text/html"
      },
      "source": [
        "<td>"
      ],
      "id": "59620d73-cc33-415f-b50e-c13c2e5553b1"
    },
    {
      "cell_type": "markdown",
      "metadata": {},
      "source": [
        "<a href=\"/wiki/Stade_Geoffroy-Guichard\" title=\"Stade Geoffroy-Guichard\">Stade Geoffroy-Guichard</a>"
      ],
      "id": "1934c08c-e593-4883-bdaa-6dba8891d4f0"
    },
    {
      "cell_type": "raw",
      "metadata": {
        "raw_mimetype": "text/html"
      },
      "source": [
        "</td>"
      ],
      "id": "5922de32-1d98-4d75-9f89-859c0674852f"
    },
    {
      "cell_type": "raw",
      "metadata": {
        "raw_mimetype": "text/html"
      },
      "source": [
        "<td>"
      ],
      "id": "7db571f3-d874-44dc-bb1f-c017195b2fd2"
    },
    {
      "cell_type": "markdown",
      "metadata": {},
      "source": [
        "41 965"
      ],
      "id": "eb2d4a73-f8eb-4950-8692-18a2f82655b3"
    },
    {
      "cell_type": "raw",
      "metadata": {
        "raw_mimetype": "text/html"
      },
      "source": [
        "</td>"
      ],
      "id": "7856310e-1d8b-40fb-b833-d2fc23cfd05f"
    },
    {
      "cell_type": "raw",
      "metadata": {
        "raw_mimetype": "text/html"
      },
      "source": [
        "<td>"
      ],
      "id": "70004de0-42a6-43bc-b52a-15a73e5055ef"
    },
    {
      "cell_type": "markdown",
      "metadata": {},
      "source": [
        "66"
      ],
      "id": "3c8fdb60-ed83-4f3d-bcda-44bdaf617cf2"
    },
    {
      "cell_type": "raw",
      "metadata": {
        "raw_mimetype": "text/html"
      },
      "source": [
        "</td>"
      ],
      "id": "7319b4f6-0652-4a1c-a579-673539c96cca"
    },
    {
      "cell_type": "raw",
      "metadata": {
        "raw_mimetype": "text/html"
      },
      "source": [
        "</tr>"
      ],
      "id": "903930cb-791e-43bb-93dc-78ac11f4323b"
    },
    {
      "cell_type": "raw",
      "metadata": {
        "raw_mimetype": "text/html"
      },
      "source": [
        "<tr>"
      ],
      "id": "fbb7f8f0-1c0d-4869-b313-91a50b429ffd"
    },
    {
      "cell_type": "raw",
      "metadata": {
        "raw_mimetype": "text/html"
      },
      "source": [
        "<td>"
      ],
      "id": "977b3ab1-5447-455d-96b6-8c505367fd5f"
    },
    {
      "cell_type": "markdown",
      "metadata": {},
      "source": [
        "<a href=\"/wiki/Olympique_de_Marseille\" title=\"Olympique de Marseille\">Olympique de Marseille</a>"
      ],
      "id": "3975f847-1685-4525-bad2-ee838e902861"
    },
    {
      "cell_type": "raw",
      "metadata": {
        "raw_mimetype": "text/html"
      },
      "source": [
        "</td>"
      ],
      "id": "14c923ed-d865-43b8-9df5-bb9c35a73758"
    },
    {
      "cell_type": "raw",
      "metadata": {
        "raw_mimetype": "text/html"
      },
      "source": [
        "<td>"
      ],
      "id": "ae11d812-4cfa-45e1-9215-cbfc25e952e6"
    },
    {
      "cell_type": "markdown",
      "metadata": {},
      "source": [
        "1996"
      ],
      "id": "69c4064d-bfb6-4340-bf04-8547ba52b727"
    },
    {
      "cell_type": "raw",
      "metadata": {
        "raw_mimetype": "text/html"
      },
      "source": [
        "</td>"
      ],
      "id": "344faf93-bd21-4f52-ae57-27f5a0f4a737"
    },
    {
      "cell_type": "raw",
      "metadata": {
        "raw_mimetype": "text/html"
      },
      "source": [
        "<td>"
      ],
      "id": "0abd6a46-0898-45b0-a884-4ef540616020"
    },
    {
      "cell_type": "markdown",
      "metadata": {},
      "source": [
        "110"
      ],
      "id": "63d52432-30b1-4246-9238-f7d6bd1f2d30"
    },
    {
      "cell_type": "raw",
      "metadata": {
        "raw_mimetype": "text/html"
      },
      "source": [
        "</td>"
      ],
      "id": "3ca83ce1-726b-4bc3-a00d-d9f464d4966b"
    },
    {
      "cell_type": "raw",
      "metadata": {
        "raw_mimetype": "text/html"
      },
      "source": [
        "<td>"
      ],
      "id": "d54316e8-32ce-4d08-b47d-7b8ef9247b0d"
    },
    {
      "cell_type": "markdown",
      "metadata": {},
      "source": [
        "<span data-sort-value=\"105 !\"></span><abbr class=\"abbr\" title=\"Cinquième\">5<sup>e</sup></abbr>"
      ],
      "id": "bb6f4784-1da4-4534-87a7-a9deef8f4521"
    },
    {
      "cell_type": "raw",
      "metadata": {
        "raw_mimetype": "text/html"
      },
      "source": [
        "</td>"
      ],
      "id": "bc5351ca-ad9f-4fc0-a2cd-eb4df772609d"
    },
    {
      "cell_type": "raw",
      "metadata": {
        "raw_mimetype": "text/html"
      },
      "source": [
        "<td align=\"left\">"
      ],
      "id": "c6f4e835-a69e-4e00-b5dd-5642f8ec8883"
    },
    {
      "cell_type": "markdown",
      "metadata": {},
      "source": [
        "<span class=\"flagicon\"><a class=\"image\" href=\"/wiki/Fichier:Flag_of_Portugal.svg\" title=\"Drapeau : Portugal\"><img alt=\"\" class=\"noviewer thumbborder\" data-file-height=\"400\" data-file-width=\"600\" decoding=\"async\" height=\"13\" src=\"//upload.wikimedia.org/wikipedia/commons/thumb/5/5c/Flag_of_Portugal.svg/20px-Flag_of_Portugal.svg.png\" srcset=\"//upload.wikimedia.org/wikipedia/commons/thumb/5/5c/Flag_of_Portugal.svg/30px-Flag_of_Portugal.svg.png 1.5x, //upload.wikimedia.org/wikipedia/commons/thumb/5/5c/Flag_of_Portugal.svg/40px-Flag_of_Portugal.svg.png 2x\" width=\"20\"/></a></span> <a href=\"/wiki/Andr%C3%A9_Villas-Boas\" title=\"André Villas-Boas\">André Villas-Boas</a>"
      ],
      "id": "de9f15bd-6ad9-4984-85d2-b21bf2030ae0"
    },
    {
      "cell_type": "raw",
      "metadata": {
        "raw_mimetype": "text/html"
      },
      "source": [
        "</td>"
      ],
      "id": "34d70d0f-8166-4c49-b983-ca18f64dccc4"
    },
    {
      "cell_type": "raw",
      "metadata": {
        "raw_mimetype": "text/html"
      },
      "source": [
        "<td>"
      ],
      "id": "d03368fe-329f-4d35-aeee-4b26cf68242c"
    },
    {
      "cell_type": "markdown",
      "metadata": {},
      "source": [
        "2019"
      ],
      "id": "31d2e1f5-bb1b-4879-b194-e161202df3f2"
    },
    {
      "cell_type": "raw",
      "metadata": {
        "raw_mimetype": "text/html"
      },
      "source": [
        "</td>"
      ],
      "id": "abdb0f8e-2407-4ee9-94c1-9947b8094374"
    },
    {
      "cell_type": "raw",
      "metadata": {
        "raw_mimetype": "text/html"
      },
      "source": [
        "<td>"
      ],
      "id": "84508045-7030-4385-8272-112b63084222"
    },
    {
      "cell_type": "markdown",
      "metadata": {},
      "source": [
        "<a href=\"/wiki/Stade_V%C3%A9lodrome\" title=\"Stade Vélodrome\">Orange Vélodrome</a>"
      ],
      "id": "e281d025-ad71-4fc7-88b5-f21f01054993"
    },
    {
      "cell_type": "raw",
      "metadata": {
        "raw_mimetype": "text/html"
      },
      "source": [
        "</td>"
      ],
      "id": "1049ba64-3382-46e8-8849-f3d90dd6ac84"
    },
    {
      "cell_type": "raw",
      "metadata": {
        "raw_mimetype": "text/html"
      },
      "source": [
        "<td>"
      ],
      "id": "7b75e4f4-2e1b-436b-b9c0-516cdeaaad34"
    },
    {
      "cell_type": "markdown",
      "metadata": {},
      "source": [
        "66 226"
      ],
      "id": "98dd7cbe-4104-4063-bc19-7312d2d9fa18"
    },
    {
      "cell_type": "raw",
      "metadata": {
        "raw_mimetype": "text/html"
      },
      "source": [
        "</td>"
      ],
      "id": "2c1fb3fd-ae51-495c-b3dd-5ab55f736a45"
    },
    {
      "cell_type": "raw",
      "metadata": {
        "raw_mimetype": "text/html"
      },
      "source": [
        "<td>"
      ],
      "id": "11a62d14-220c-4ca9-afba-307d2b4616ee"
    },
    {
      "cell_type": "markdown",
      "metadata": {},
      "source": [
        "69"
      ],
      "id": "ca55f88a-9a3b-4a39-b957-f1dd3a6607e0"
    },
    {
      "cell_type": "raw",
      "metadata": {
        "raw_mimetype": "text/html"
      },
      "source": [
        "</td>"
      ],
      "id": "ea032259-2f11-4691-a238-0ad06ee7ec3b"
    },
    {
      "cell_type": "raw",
      "metadata": {
        "raw_mimetype": "text/html"
      },
      "source": [
        "</tr>"
      ],
      "id": "fc12078f-ba7a-44cd-91de-4e2b326d53f2"
    },
    {
      "cell_type": "raw",
      "metadata": {
        "raw_mimetype": "text/html"
      },
      "source": [
        "<tr>"
      ],
      "id": "23a930da-d8cf-497e-86b2-2b0c60a6f48e"
    },
    {
      "cell_type": "raw",
      "metadata": {
        "raw_mimetype": "text/html"
      },
      "source": [
        "<td>"
      ],
      "id": "8ffeb832-9d19-4720-a75c-ed084352b928"
    },
    {
      "cell_type": "markdown",
      "metadata": {},
      "source": [
        "<a href=\"/wiki/Montpellier_H%C3%A9rault_Sport_Club\" title=\"Montpellier Hérault Sport Club\">Montpellier HSC</a>"
      ],
      "id": "294c3c49-cf6a-478a-b1ff-c2d5c5b83b1f"
    },
    {
      "cell_type": "raw",
      "metadata": {
        "raw_mimetype": "text/html"
      },
      "source": [
        "</td>"
      ],
      "id": "efdd0b96-fc74-43d3-a9c9-4afa2d669815"
    },
    {
      "cell_type": "raw",
      "metadata": {
        "raw_mimetype": "text/html"
      },
      "source": [
        "<td>"
      ],
      "id": "a8154de4-c79c-4939-a8e8-e6dc38ff0ef7"
    },
    {
      "cell_type": "markdown",
      "metadata": {},
      "source": [
        "2009"
      ],
      "id": "f762b333-d5c9-4226-a53b-dd464e4db54c"
    },
    {
      "cell_type": "raw",
      "metadata": {
        "raw_mimetype": "text/html"
      },
      "source": [
        "</td>"
      ],
      "id": "2762f038-e65d-428f-a7a4-536f345ec7ff"
    },
    {
      "cell_type": "raw",
      "metadata": {
        "raw_mimetype": "text/html"
      },
      "source": [
        "<td>"
      ],
      "id": "86e743d2-696e-478f-885c-ccb31cf30b38"
    },
    {
      "cell_type": "markdown",
      "metadata": {},
      "source": [
        "40"
      ],
      "id": "a7c6b8e1-38de-4727-87ae-af7111bf1aea"
    },
    {
      "cell_type": "raw",
      "metadata": {
        "raw_mimetype": "text/html"
      },
      "source": [
        "</td>"
      ],
      "id": "4ce34ce5-9e2f-44ec-a806-5370380a1b0d"
    },
    {
      "cell_type": "raw",
      "metadata": {
        "raw_mimetype": "text/html"
      },
      "source": [
        "<td>"
      ],
      "id": "81ed145c-31e1-44e5-ab77-348f2bf5869e"
    },
    {
      "cell_type": "markdown",
      "metadata": {},
      "source": [
        "<span data-sort-value=\"106 !\"></span><abbr class=\"abbr\" title=\"Sixième\">6<sup>e</sup></abbr>"
      ],
      "id": "11dd710b-b5be-4765-99d5-c71ce5671068"
    },
    {
      "cell_type": "raw",
      "metadata": {
        "raw_mimetype": "text/html"
      },
      "source": [
        "</td>"
      ],
      "id": "f452dbab-88fc-476d-8b41-55e78cac1031"
    },
    {
      "cell_type": "raw",
      "metadata": {
        "raw_mimetype": "text/html"
      },
      "source": [
        "<td align=\"left\">"
      ],
      "id": "d6885d42-39ab-4dae-9066-b1d3f993aa00"
    },
    {
      "cell_type": "markdown",
      "metadata": {},
      "source": [
        "<span class=\"flagicon\"><a class=\"image\" href=\"/wiki/Fichier:Flag_of_Armenia.svg\" title=\"Drapeau : Arménie\"><img alt=\"\" class=\"noviewer thumbborder\" data-file-height=\"600\" data-file-width=\"1200\" decoding=\"async\" height=\"10\" src=\"//upload.wikimedia.org/wikipedia/commons/thumb/2/2f/Flag_of_Armenia.svg/20px-Flag_of_Armenia.svg.png\" srcset=\"//upload.wikimedia.org/wikipedia/commons/thumb/2/2f/Flag_of_Armenia.svg/30px-Flag_of_Armenia.svg.png 1.5x, //upload.wikimedia.org/wikipedia/commons/thumb/2/2f/Flag_of_Armenia.svg/40px-Flag_of_Armenia.svg.png 2x\" width=\"20\"/></a></span><span class=\"flagicon\"><a class=\"image\" href=\"/wiki/Fichier:Flag_of_France.svg\" title=\"Drapeau : France\"><img alt=\"\" class=\"noviewer thumbborder\" data-file-height=\"600\" data-file-width=\"900\" decoding=\"async\" height=\"13\" src=\"//upload.wikimedia.org/wikipedia/commons/thumb/c/c3/Flag_of_France.svg/20px-Flag_of_France.svg.png\" srcset=\"//upload.wikimedia.org/wikipedia/commons/thumb/c/c3/Flag_of_France.svg/30px-Flag_of_France.svg.png 1.5x, //upload.wikimedia.org/wikipedia/commons/thumb/c/c3/Flag_of_France.svg/40px-Flag_of_France.svg.png 2x\" width=\"20\"/></a></span> <a href=\"/wiki/Michel_Der_Zakarian\" title=\"Michel Der Zakarian\">Michel Der Zakarian</a>"
      ],
      "id": "3d15450c-d154-402c-8dcb-cfd8a2036e10"
    },
    {
      "cell_type": "raw",
      "metadata": {
        "raw_mimetype": "text/html"
      },
      "source": [
        "</td>"
      ],
      "id": "29a9ec31-1dcc-4086-994a-c6ce40f3a772"
    },
    {
      "cell_type": "raw",
      "metadata": {
        "raw_mimetype": "text/html"
      },
      "source": [
        "<td>"
      ],
      "id": "e413f751-5136-42c2-83cc-8f1542ff97d8"
    },
    {
      "cell_type": "markdown",
      "metadata": {},
      "source": [
        "2017"
      ],
      "id": "09c62815-97db-4087-a056-a5947752c92e"
    },
    {
      "cell_type": "raw",
      "metadata": {
        "raw_mimetype": "text/html"
      },
      "source": [
        "</td>"
      ],
      "id": "1c35a05a-514c-4df0-bc30-3517993f5def"
    },
    {
      "cell_type": "raw",
      "metadata": {
        "raw_mimetype": "text/html"
      },
      "source": [
        "<td>"
      ],
      "id": "47e99e85-72d5-4f91-bb38-7be22e71809e"
    },
    {
      "cell_type": "markdown",
      "metadata": {},
      "source": [
        "<a href=\"/wiki/Stade_de_la_Mosson\" title=\"Stade de la Mosson\">Stade de la Mosson</a>"
      ],
      "id": "c6c49425-6646-4ddb-8800-3d176958a73c"
    },
    {
      "cell_type": "raw",
      "metadata": {
        "raw_mimetype": "text/html"
      },
      "source": [
        "</td>"
      ],
      "id": "f269bb4a-3b7d-4a87-aeb8-037dcc227c6c"
    },
    {
      "cell_type": "raw",
      "metadata": {
        "raw_mimetype": "text/html"
      },
      "source": [
        "<td>"
      ],
      "id": "87cebd84-23db-4650-9b15-62fba97d0e5f"
    },
    {
      "cell_type": "markdown",
      "metadata": {},
      "source": [
        "22 000"
      ],
      "id": "8e8f648a-847c-4f40-b4cf-8bcfa8ca9b40"
    },
    {
      "cell_type": "raw",
      "metadata": {
        "raw_mimetype": "text/html"
      },
      "source": [
        "</td>"
      ],
      "id": "c653103c-81bd-4347-935b-c584adfcdbd7"
    },
    {
      "cell_type": "raw",
      "metadata": {
        "raw_mimetype": "text/html"
      },
      "source": [
        "<td>"
      ],
      "id": "4ef1b2dd-2f9f-4b5b-b137-9f76c8f79fd9"
    },
    {
      "cell_type": "markdown",
      "metadata": {},
      "source": [
        "27"
      ],
      "id": "864bcbce-3ba7-4e3d-a43e-0ba932782663"
    },
    {
      "cell_type": "raw",
      "metadata": {
        "raw_mimetype": "text/html"
      },
      "source": [
        "</td>"
      ],
      "id": "3406e235-9733-445f-a272-d79e210b4476"
    },
    {
      "cell_type": "raw",
      "metadata": {
        "raw_mimetype": "text/html"
      },
      "source": [
        "</tr>"
      ],
      "id": "07a55eca-30be-45bf-b0a0-0cfa8f3315a6"
    },
    {
      "cell_type": "raw",
      "metadata": {
        "raw_mimetype": "text/html"
      },
      "source": [
        "<tr>"
      ],
      "id": "930c9ec0-da8f-47de-a379-ae46ff2b263a"
    },
    {
      "cell_type": "raw",
      "metadata": {
        "raw_mimetype": "text/html"
      },
      "source": [
        "<td>"
      ],
      "id": "afc228ef-a89e-4957-bfb3-c8034c7ee425"
    },
    {
      "cell_type": "markdown",
      "metadata": {},
      "source": [
        "<a href=\"/wiki/Olympique_Gymnaste_Club_Nice\" title=\"Olympique Gymnaste Club Nice\">OGC Nice</a>"
      ],
      "id": "fb1cda69-9b9d-434d-b323-c780d9754f6b"
    },
    {
      "cell_type": "raw",
      "metadata": {
        "raw_mimetype": "text/html"
      },
      "source": [
        "</td>"
      ],
      "id": "b584dfdb-7a33-419b-8099-ea03f5dfb2dc"
    },
    {
      "cell_type": "raw",
      "metadata": {
        "raw_mimetype": "text/html"
      },
      "source": [
        "<td>"
      ],
      "id": "9e92e185-df44-4c68-9d59-bab5b3b912c1"
    },
    {
      "cell_type": "markdown",
      "metadata": {},
      "source": [
        "2002"
      ],
      "id": "d7e159a5-7128-49f3-b9e0-c7d49804c085"
    },
    {
      "cell_type": "raw",
      "metadata": {
        "raw_mimetype": "text/html"
      },
      "source": [
        "</td>"
      ],
      "id": "11e692f0-bacf-459e-862d-8b3a69cc6d7b"
    },
    {
      "cell_type": "raw",
      "metadata": {
        "raw_mimetype": "text/html"
      },
      "source": [
        "<td>"
      ],
      "id": "1a2ef588-099e-43ef-86ac-434e2d54d455"
    },
    {
      "cell_type": "markdown",
      "metadata": {},
      "source": [
        "50"
      ],
      "id": "7cb88db9-0432-4d68-b6e3-2db30ee7dce2"
    },
    {
      "cell_type": "raw",
      "metadata": {
        "raw_mimetype": "text/html"
      },
      "source": [
        "</td>"
      ],
      "id": "e1f027f3-ccd2-4319-a7f4-64ec74ceeaf4"
    },
    {
      "cell_type": "raw",
      "metadata": {
        "raw_mimetype": "text/html"
      },
      "source": [
        "<td>"
      ],
      "id": "1fc26c65-c0e8-4a6a-9328-70904446ed17"
    },
    {
      "cell_type": "markdown",
      "metadata": {},
      "source": [
        "<span data-sort-value=\"107 !\"></span><abbr class=\"abbr\" title=\"Septième\">7<sup>e</sup></abbr>"
      ],
      "id": "b6455950-7bbb-4a88-b81c-1858f82d530a"
    },
    {
      "cell_type": "raw",
      "metadata": {
        "raw_mimetype": "text/html"
      },
      "source": [
        "</td>"
      ],
      "id": "fdfa43f0-70f6-45a2-b04b-f521363915fe"
    },
    {
      "cell_type": "raw",
      "metadata": {
        "raw_mimetype": "text/html"
      },
      "source": [
        "<td align=\"left\">"
      ],
      "id": "c5bd9d19-b115-455d-877b-b1942474c080"
    },
    {
      "cell_type": "markdown",
      "metadata": {},
      "source": [
        "<span class=\"flagicon\"><a class=\"image\" href=\"/wiki/Fichier:Flag_of_France.svg\" title=\"Drapeau : France\"><img alt=\"\" class=\"noviewer thumbborder\" data-file-height=\"600\" data-file-width=\"900\" decoding=\"async\" height=\"13\" src=\"//upload.wikimedia.org/wikipedia/commons/thumb/c/c3/Flag_of_France.svg/20px-Flag_of_France.svg.png\" srcset=\"//upload.wikimedia.org/wikipedia/commons/thumb/c/c3/Flag_of_France.svg/30px-Flag_of_France.svg.png 1.5x, //upload.wikimedia.org/wikipedia/commons/thumb/c/c3/Flag_of_France.svg/40px-Flag_of_France.svg.png 2x\" width=\"20\"/></a></span> <a href=\"/wiki/Patrick_Vieira\" title=\"Patrick Vieira\">Patrick Vieira</a>"
      ],
      "id": "e717fb0e-6ad5-4637-90f6-8c2a6a9054f1"
    },
    {
      "cell_type": "raw",
      "metadata": {
        "raw_mimetype": "text/html"
      },
      "source": [
        "</td>"
      ],
      "id": "8bdd7d84-3c2f-4d3a-830c-d4a61aa0e649"
    },
    {
      "cell_type": "raw",
      "metadata": {
        "raw_mimetype": "text/html"
      },
      "source": [
        "<td>"
      ],
      "id": "939cf98b-ef47-4c4a-afc8-d0fd4f9c5300"
    },
    {
      "cell_type": "markdown",
      "metadata": {},
      "source": [
        "2018"
      ],
      "id": "2cf06cdf-74f2-482b-b615-e4ca8c719158"
    },
    {
      "cell_type": "raw",
      "metadata": {
        "raw_mimetype": "text/html"
      },
      "source": [
        "</td>"
      ],
      "id": "89abd471-5e10-411a-a006-103cf1dcf774"
    },
    {
      "cell_type": "raw",
      "metadata": {
        "raw_mimetype": "text/html"
      },
      "source": [
        "<td>"
      ],
      "id": "3f56b00c-1d82-4f01-a56f-fdea9f8a826c"
    },
    {
      "cell_type": "markdown",
      "metadata": {},
      "source": [
        "<a href=\"/wiki/Allianz_Riviera\" title=\"Allianz Riviera\">Allianz Riviera</a>"
      ],
      "id": "2cfd3cd3-3445-4512-8e9f-1f804b8016b6"
    },
    {
      "cell_type": "raw",
      "metadata": {
        "raw_mimetype": "text/html"
      },
      "source": [
        "</td>"
      ],
      "id": "e9a152e4-729c-44c3-9218-95e7d6521ea4"
    },
    {
      "cell_type": "raw",
      "metadata": {
        "raw_mimetype": "text/html"
      },
      "source": [
        "<td>"
      ],
      "id": "7d3616cb-934d-4f67-9253-81dbbe6fb0ab"
    },
    {
      "cell_type": "markdown",
      "metadata": {},
      "source": [
        "35 596"
      ],
      "id": "8c2bcb26-c6e7-41b4-a432-a14da2d587a1"
    },
    {
      "cell_type": "raw",
      "metadata": {
        "raw_mimetype": "text/html"
      },
      "source": [
        "</td>"
      ],
      "id": "ee2967b4-f73a-4d82-aba0-7753bfdd2156"
    },
    {
      "cell_type": "raw",
      "metadata": {
        "raw_mimetype": "text/html"
      },
      "source": [
        "<td>"
      ],
      "id": "c6c1c001-f41c-4cc3-a322-23af86f33c09"
    },
    {
      "cell_type": "markdown",
      "metadata": {},
      "source": [
        "60"
      ],
      "id": "ccce6334-c2ea-4843-bce7-395ef0e37032"
    },
    {
      "cell_type": "raw",
      "metadata": {
        "raw_mimetype": "text/html"
      },
      "source": [
        "</td>"
      ],
      "id": "3e49cd39-1fb0-43a4-9748-27aa36ee6e57"
    },
    {
      "cell_type": "raw",
      "metadata": {
        "raw_mimetype": "text/html"
      },
      "source": [
        "</tr>"
      ],
      "id": "07d84230-4ec0-4d2b-a05f-f62727c908c6"
    },
    {
      "cell_type": "raw",
      "metadata": {
        "raw_mimetype": "text/html"
      },
      "source": [
        "<tr>"
      ],
      "id": "7b4cb9b4-e67a-471c-bf07-839c8706c83c"
    },
    {
      "cell_type": "raw",
      "metadata": {
        "raw_mimetype": "text/html"
      },
      "source": [
        "<td>"
      ],
      "id": "292df7d3-8cba-4123-9930-4d4048c9a01a"
    },
    {
      "cell_type": "markdown",
      "metadata": {},
      "source": [
        "<a href=\"/wiki/Stade_de_Reims\" title=\"Stade de Reims\">Stade de Reims</a>"
      ],
      "id": "69b6f4ca-7635-4447-919a-8b98ce53afe6"
    },
    {
      "cell_type": "raw",
      "metadata": {
        "raw_mimetype": "text/html"
      },
      "source": [
        "</td>"
      ],
      "id": "afa60505-1be9-4615-bf65-7098d7dcf03c"
    },
    {
      "cell_type": "raw",
      "metadata": {
        "raw_mimetype": "text/html"
      },
      "source": [
        "<td>"
      ],
      "id": "ab3b0873-cfcc-4807-b2b2-9967591ff271"
    },
    {
      "cell_type": "markdown",
      "metadata": {},
      "source": [
        "2018"
      ],
      "id": "9c254c13-5535-42d1-a18b-cf9ca01e063c"
    },
    {
      "cell_type": "raw",
      "metadata": {
        "raw_mimetype": "text/html"
      },
      "source": [
        "</td>"
      ],
      "id": "5eabd6a6-964e-4c2e-8501-72c07954d774"
    },
    {
      "cell_type": "raw",
      "metadata": {
        "raw_mimetype": "text/html"
      },
      "source": [
        "<td>"
      ],
      "id": "4eb7ea0e-5340-4a2e-9fbd-632106892ce3"
    },
    {
      "cell_type": "markdown",
      "metadata": {},
      "source": [
        "45"
      ],
      "id": "1d21d498-17b8-4a3a-b2a8-d4547e92c505"
    },
    {
      "cell_type": "raw",
      "metadata": {
        "raw_mimetype": "text/html"
      },
      "source": [
        "</td>"
      ],
      "id": "d59c5d10-e56c-42e9-a9f2-7148c993495f"
    },
    {
      "cell_type": "raw",
      "metadata": {
        "raw_mimetype": "text/html"
      },
      "source": [
        "<td>"
      ],
      "id": "57ffe6b9-30c3-4847-bbc0-f067643400de"
    },
    {
      "cell_type": "markdown",
      "metadata": {},
      "source": [
        "<span data-sort-value=\"108 !\"></span><abbr class=\"abbr\" title=\"Huitième\">8<sup>e</sup></abbr>"
      ],
      "id": "bcc9fb45-2df1-4f1b-8f3c-a9e2853c6b9f"
    },
    {
      "cell_type": "raw",
      "metadata": {
        "raw_mimetype": "text/html"
      },
      "source": [
        "</td>"
      ],
      "id": "52d572f4-3c2b-46e4-abd9-77353459d2df"
    },
    {
      "cell_type": "raw",
      "metadata": {
        "raw_mimetype": "text/html"
      },
      "source": [
        "<td align=\"left\">"
      ],
      "id": "b4a53173-7837-47da-8054-3d664060bc44"
    },
    {
      "cell_type": "markdown",
      "metadata": {},
      "source": [
        "<span class=\"flagicon\"><a class=\"image\" href=\"/wiki/Fichier:Flag_of_France.svg\" title=\"Drapeau : France\"><img alt=\"\" class=\"noviewer thumbborder\" data-file-height=\"600\" data-file-width=\"900\" decoding=\"async\" height=\"13\" src=\"//upload.wikimedia.org/wikipedia/commons/thumb/c/c3/Flag_of_France.svg/20px-Flag_of_France.svg.png\" srcset=\"//upload.wikimedia.org/wikipedia/commons/thumb/c/c3/Flag_of_France.svg/30px-Flag_of_France.svg.png 1.5x, //upload.wikimedia.org/wikipedia/commons/thumb/c/c3/Flag_of_France.svg/40px-Flag_of_France.svg.png 2x\" width=\"20\"/></a></span> <a href=\"/wiki/David_Guion\" title=\"David Guion\">David Guion</a>"
      ],
      "id": "b3e3c25c-5e31-4925-b447-f84565128a0f"
    },
    {
      "cell_type": "raw",
      "metadata": {
        "raw_mimetype": "text/html"
      },
      "source": [
        "</td>"
      ],
      "id": "3bceb29d-8454-42eb-9e80-04458d4c719e"
    },
    {
      "cell_type": "raw",
      "metadata": {
        "raw_mimetype": "text/html"
      },
      "source": [
        "<td>"
      ],
      "id": "09061ac9-cd7d-40bf-b473-4a1f6c4c68b4"
    },
    {
      "cell_type": "markdown",
      "metadata": {},
      "source": [
        "2017"
      ],
      "id": "06433762-efcf-4262-ad5c-cc0f8347b244"
    },
    {
      "cell_type": "raw",
      "metadata": {
        "raw_mimetype": "text/html"
      },
      "source": [
        "</td>"
      ],
      "id": "ee422d38-595a-4703-a1e3-5e14ccf7b4cd"
    },
    {
      "cell_type": "raw",
      "metadata": {
        "raw_mimetype": "text/html"
      },
      "source": [
        "<td>"
      ],
      "id": "ecffd5a1-0ff9-490e-bd1c-20771dcbdd3a"
    },
    {
      "cell_type": "markdown",
      "metadata": {},
      "source": [
        "<a href=\"/wiki/Stade_Auguste-Delaune\" title=\"Stade Auguste-Delaune\">Stade Auguste-Delaune</a>"
      ],
      "id": "5b1a5a10-e5e9-4b14-b959-f745da861ca2"
    },
    {
      "cell_type": "raw",
      "metadata": {
        "raw_mimetype": "text/html"
      },
      "source": [
        "</td>"
      ],
      "id": "74c374d8-3609-4f17-be1a-51e3f5d18b29"
    },
    {
      "cell_type": "raw",
      "metadata": {
        "raw_mimetype": "text/html"
      },
      "source": [
        "<td>"
      ],
      "id": "131f59c8-a0ad-4514-8a77-732cc7985567"
    },
    {
      "cell_type": "markdown",
      "metadata": {},
      "source": [
        "20 546"
      ],
      "id": "4984c9d6-b289-4fb0-b2b1-ee881a8c3fc2"
    },
    {
      "cell_type": "raw",
      "metadata": {
        "raw_mimetype": "text/html"
      },
      "source": [
        "</td>"
      ],
      "id": "fe493fa7-b3e9-44b0-be7f-1fa0ae1b591f"
    },
    {
      "cell_type": "raw",
      "metadata": {
        "raw_mimetype": "text/html"
      },
      "source": [
        "<td>"
      ],
      "id": "749b963c-c058-4f00-a64b-00615503b99f"
    },
    {
      "cell_type": "markdown",
      "metadata": {},
      "source": [
        "35"
      ],
      "id": "fb59f8dd-08f9-47f0-a73d-0328dfbfc857"
    },
    {
      "cell_type": "raw",
      "metadata": {
        "raw_mimetype": "text/html"
      },
      "source": [
        "</td>"
      ],
      "id": "79706787-5120-4250-bf15-91e564ff8f40"
    },
    {
      "cell_type": "raw",
      "metadata": {
        "raw_mimetype": "text/html"
      },
      "source": [
        "</tr>"
      ],
      "id": "9cec5837-814f-4d96-876a-fda1f8caa2d0"
    },
    {
      "cell_type": "raw",
      "metadata": {
        "raw_mimetype": "text/html"
      },
      "source": [
        "<tr>"
      ],
      "id": "4764909c-3cd5-4bd6-a662-d750ca534fd9"
    },
    {
      "cell_type": "raw",
      "metadata": {
        "raw_mimetype": "text/html"
      },
      "source": [
        "<td>"
      ],
      "id": "ee7f2cb0-813e-4747-acd0-18443add815a"
    },
    {
      "cell_type": "markdown",
      "metadata": {},
      "source": [
        "<a href=\"/wiki/N%C3%AEmes_Olympique\" title=\"Nîmes Olympique\">Nîmes Olympique</a>"
      ],
      "id": "d33db546-5052-4a04-ac4a-8fc5578c00fb"
    },
    {
      "cell_type": "raw",
      "metadata": {
        "raw_mimetype": "text/html"
      },
      "source": [
        "</td>"
      ],
      "id": "46e1d28e-b9f0-4849-9173-1d6363a5b38b"
    },
    {
      "cell_type": "raw",
      "metadata": {
        "raw_mimetype": "text/html"
      },
      "source": [
        "<td>"
      ],
      "id": "eca8bf39-5ca4-402c-a21f-0da83b0203a7"
    },
    {
      "cell_type": "markdown",
      "metadata": {},
      "source": [
        "2018"
      ],
      "id": "31e0b9f5-dcb6-423f-85ef-f8c151a24d02"
    },
    {
      "cell_type": "raw",
      "metadata": {
        "raw_mimetype": "text/html"
      },
      "source": [
        "</td>"
      ],
      "id": "888607a1-7684-4cc9-bd24-cdccbe4540ca"
    },
    {
      "cell_type": "raw",
      "metadata": {
        "raw_mimetype": "text/html"
      },
      "source": [
        "<td>"
      ],
      "id": "c1d6a6ac-fa03-4f6e-8cf5-ba3aab8ea713"
    },
    {
      "cell_type": "markdown",
      "metadata": {},
      "source": [
        "27"
      ],
      "id": "9745544c-befd-4038-9a18-8401ab6b9a5c"
    },
    {
      "cell_type": "raw",
      "metadata": {
        "raw_mimetype": "text/html"
      },
      "source": [
        "</td>"
      ],
      "id": "b5d71f1b-4209-47e1-8113-6131e42cfcce"
    },
    {
      "cell_type": "raw",
      "metadata": {
        "raw_mimetype": "text/html"
      },
      "source": [
        "<td>"
      ],
      "id": "29ca3e87-3aca-4df8-b85d-d0d4118056bf"
    },
    {
      "cell_type": "markdown",
      "metadata": {},
      "source": [
        "<span data-sort-value=\"109 !\"></span><abbr class=\"abbr\" title=\"Neuvième\">9<sup>e</sup></abbr>"
      ],
      "id": "49d9c72d-209c-4532-8aa3-c2c42ccac543"
    },
    {
      "cell_type": "raw",
      "metadata": {
        "raw_mimetype": "text/html"
      },
      "source": [
        "</td>"
      ],
      "id": "d0e23780-3dd1-4469-b115-fe28d0c155e7"
    },
    {
      "cell_type": "raw",
      "metadata": {
        "raw_mimetype": "text/html"
      },
      "source": [
        "<td align=\"left\">"
      ],
      "id": "3dc78c5f-13c4-4ec9-8f9c-6b3cd0cee9a2"
    },
    {
      "cell_type": "markdown",
      "metadata": {},
      "source": [
        "<span class=\"flagicon\"><a class=\"image\" href=\"/wiki/Fichier:Flag_of_France.svg\" title=\"Drapeau : France\"><img alt=\"\" class=\"noviewer thumbborder\" data-file-height=\"600\" data-file-width=\"900\" decoding=\"async\" height=\"13\" src=\"//upload.wikimedia.org/wikipedia/commons/thumb/c/c3/Flag_of_France.svg/20px-Flag_of_France.svg.png\" srcset=\"//upload.wikimedia.org/wikipedia/commons/thumb/c/c3/Flag_of_France.svg/30px-Flag_of_France.svg.png 1.5x, //upload.wikimedia.org/wikipedia/commons/thumb/c/c3/Flag_of_France.svg/40px-Flag_of_France.svg.png 2x\" width=\"20\"/></a></span> <a href=\"/wiki/Bernard_Blaquart\" title=\"Bernard Blaquart\">Bernard Blaquart</a>"
      ],
      "id": "05c14401-b17e-4a99-a168-3f1953f2e953"
    },
    {
      "cell_type": "raw",
      "metadata": {
        "raw_mimetype": "text/html"
      },
      "source": [
        "</td>"
      ],
      "id": "e42a49df-29bd-4856-8796-a468621e80cd"
    },
    {
      "cell_type": "raw",
      "metadata": {
        "raw_mimetype": "text/html"
      },
      "source": [
        "<td>"
      ],
      "id": "16df98ec-27d0-4333-8720-876013dd4e85"
    },
    {
      "cell_type": "markdown",
      "metadata": {},
      "source": [
        "2015"
      ],
      "id": "193c81ef-6126-428a-ac0d-51817b158517"
    },
    {
      "cell_type": "raw",
      "metadata": {
        "raw_mimetype": "text/html"
      },
      "source": [
        "</td>"
      ],
      "id": "989ac7ff-f5ad-4d67-b68a-e914ba66273b"
    },
    {
      "cell_type": "raw",
      "metadata": {
        "raw_mimetype": "text/html"
      },
      "source": [
        "<td>"
      ],
      "id": "4658b402-23ff-44df-9947-95795cb17d35"
    },
    {
      "cell_type": "markdown",
      "metadata": {},
      "source": [
        "<a href=\"/wiki/Stade_des_Costi%C3%A8res\" title=\"Stade des Costières\">Stade des Costières</a>"
      ],
      "id": "73a8c7e2-cff1-4afb-bc83-331ce016ef17"
    },
    {
      "cell_type": "raw",
      "metadata": {
        "raw_mimetype": "text/html"
      },
      "source": [
        "</td>"
      ],
      "id": "9569513d-ce63-41e6-b3fa-7e4f565d815b"
    },
    {
      "cell_type": "raw",
      "metadata": {
        "raw_mimetype": "text/html"
      },
      "source": [
        "<td>"
      ],
      "id": "d29aecda-cbb6-4971-9ead-6dd4a0bef8f7"
    },
    {
      "cell_type": "markdown",
      "metadata": {},
      "source": [
        "15 788"
      ],
      "id": "5c9afbeb-89d7-4976-947b-8e070048dff9"
    },
    {
      "cell_type": "raw",
      "metadata": {
        "raw_mimetype": "text/html"
      },
      "source": [
        "</td>"
      ],
      "id": "f8d3ae14-24d7-421b-a3f3-eaeec1a6fbd3"
    },
    {
      "cell_type": "raw",
      "metadata": {
        "raw_mimetype": "text/html"
      },
      "source": [
        "<td>"
      ],
      "id": "3f7f5720-487e-420e-b949-5035576640d1"
    },
    {
      "cell_type": "markdown",
      "metadata": {},
      "source": [
        "35"
      ],
      "id": "095b649b-19e4-40ef-ae1d-f75a30032567"
    },
    {
      "cell_type": "raw",
      "metadata": {
        "raw_mimetype": "text/html"
      },
      "source": [
        "</td>"
      ],
      "id": "5f6a068e-0c30-4174-a61c-7e3b6babc882"
    },
    {
      "cell_type": "raw",
      "metadata": {
        "raw_mimetype": "text/html"
      },
      "source": [
        "</tr>"
      ],
      "id": "56172c8a-5ece-4594-b2fb-45b3d0349add"
    },
    {
      "cell_type": "raw",
      "metadata": {
        "raw_mimetype": "text/html"
      },
      "source": [
        "<tr bgcolor=\"#FFE052\">"
      ],
      "id": "be540423-58bf-4962-863f-aaa18c270a07"
    },
    {
      "cell_type": "raw",
      "metadata": {
        "raw_mimetype": "text/html"
      },
      "source": [
        "<td>"
      ],
      "id": "f5a4038e-8ce6-4d0a-85d9-bcb649d6bee7"
    },
    {
      "cell_type": "markdown",
      "metadata": {},
      "source": [
        "<a class=\"mw-redirect\" href=\"/wiki/Stade_rennais_football_club\" title=\"Stade rennais football club\">Stade rennais FC</a>"
      ],
      "id": "fcfb40b6-c083-42ec-81b2-59c16ede418d"
    },
    {
      "cell_type": "raw",
      "metadata": {
        "raw_mimetype": "text/html"
      },
      "source": [
        "</td>"
      ],
      "id": "903e9c15-2bdb-4196-a3d2-bbe02fde9cd4"
    },
    {
      "cell_type": "raw",
      "metadata": {
        "raw_mimetype": "text/html"
      },
      "source": [
        "<td>"
      ],
      "id": "2efccd25-a8de-461f-b109-72315c0d20c3"
    },
    {
      "cell_type": "markdown",
      "metadata": {},
      "source": [
        "1994"
      ],
      "id": "f91f19b4-5374-42d7-bfab-fb7a17d7bed9"
    },
    {
      "cell_type": "raw",
      "metadata": {
        "raw_mimetype": "text/html"
      },
      "source": [
        "</td>"
      ],
      "id": "01fbec1f-3525-4d3d-b76d-bd11b6c0adf0"
    },
    {
      "cell_type": "raw",
      "metadata": {
        "raw_mimetype": "text/html"
      },
      "source": [
        "<td>"
      ],
      "id": "e0d73223-9c69-439f-81e8-d16ff839459c"
    },
    {
      "cell_type": "markdown",
      "metadata": {},
      "source": [
        "65"
      ],
      "id": "ce12f23f-7566-4823-99d4-e8e62b8d76bf"
    },
    {
      "cell_type": "raw",
      "metadata": {
        "raw_mimetype": "text/html"
      },
      "source": [
        "</td>"
      ],
      "id": "f5c055e8-865b-4ced-a2e4-297ef33cf8fb"
    },
    {
      "cell_type": "raw",
      "metadata": {
        "raw_mimetype": "text/html"
      },
      "source": [
        "<td>"
      ],
      "id": "2722a951-5dc6-4f8f-a79f-13b87c9ee6dc"
    },
    {
      "cell_type": "markdown",
      "metadata": {},
      "source": [
        "<span data-sort-value=\"110 !\"></span><abbr class=\"abbr\" title=\"Dixième\">10<sup>e</sup></abbr>"
      ],
      "id": "349ec0a4-0163-4410-aee5-87b1a46b4eb3"
    },
    {
      "cell_type": "raw",
      "metadata": {
        "raw_mimetype": "text/html"
      },
      "source": [
        "</td>"
      ],
      "id": "b5ec5086-4cdd-490c-b667-1d666588b5fd"
    },
    {
      "cell_type": "raw",
      "metadata": {
        "raw_mimetype": "text/html"
      },
      "source": [
        "<td align=\"left\">"
      ],
      "id": "753cdf19-e3d0-4452-9d50-ca13b57eea7b"
    },
    {
      "cell_type": "markdown",
      "metadata": {},
      "source": [
        "<span class=\"flagicon\"><a class=\"image\" href=\"/wiki/Fichier:Flag_of_France.svg\" title=\"Drapeau : France\"><img alt=\"\" class=\"noviewer thumbborder\" data-file-height=\"600\" data-file-width=\"900\" decoding=\"async\" height=\"13\" src=\"//upload.wikimedia.org/wikipedia/commons/thumb/c/c3/Flag_of_France.svg/20px-Flag_of_France.svg.png\" srcset=\"//upload.wikimedia.org/wikipedia/commons/thumb/c/c3/Flag_of_France.svg/30px-Flag_of_France.svg.png 1.5x, //upload.wikimedia.org/wikipedia/commons/thumb/c/c3/Flag_of_France.svg/40px-Flag_of_France.svg.png 2x\" width=\"20\"/></a></span> <a href=\"/wiki/Julien_St%C3%A9phan\" title=\"Julien Stéphan\">Julien Stéphan</a>"
      ],
      "id": "95070eff-5aee-49f4-aaea-57d6edcafc16"
    },
    {
      "cell_type": "raw",
      "metadata": {
        "raw_mimetype": "text/html"
      },
      "source": [
        "</td>"
      ],
      "id": "33999d7c-97f5-49bd-b449-a999f8c4ad56"
    },
    {
      "cell_type": "raw",
      "metadata": {
        "raw_mimetype": "text/html"
      },
      "source": [
        "<td>"
      ],
      "id": "c120a3de-13e8-4b0f-ac8e-b5c02e1182bc"
    },
    {
      "cell_type": "markdown",
      "metadata": {},
      "source": [
        "2018"
      ],
      "id": "dfd7ad0b-5230-4d32-9a01-8068d619cdd2"
    },
    {
      "cell_type": "raw",
      "metadata": {
        "raw_mimetype": "text/html"
      },
      "source": [
        "</td>"
      ],
      "id": "07d20822-4167-42c9-8f36-7d918826806e"
    },
    {
      "cell_type": "raw",
      "metadata": {
        "raw_mimetype": "text/html"
      },
      "source": [
        "<td>"
      ],
      "id": "305df1b8-0d06-417d-961a-20e18bcea961"
    },
    {
      "cell_type": "markdown",
      "metadata": {},
      "source": [
        "<a href=\"/wiki/Roazhon_Park\" title=\"Roazhon Park\">Roazhon Park</a>"
      ],
      "id": "15ad3e8f-d325-4191-afbb-cba16b784e10"
    },
    {
      "cell_type": "raw",
      "metadata": {
        "raw_mimetype": "text/html"
      },
      "source": [
        "</td>"
      ],
      "id": "4feaf9a6-723b-436c-8e9d-7f3b493e6434"
    },
    {
      "cell_type": "raw",
      "metadata": {
        "raw_mimetype": "text/html"
      },
      "source": [
        "<td>"
      ],
      "id": "337bf6f5-d14c-4e12-ac19-0af8df3e4065"
    },
    {
      "cell_type": "markdown",
      "metadata": {},
      "source": [
        "29 194"
      ],
      "id": "83cccae3-84ea-47c2-94ba-d04700991fd6"
    },
    {
      "cell_type": "raw",
      "metadata": {
        "raw_mimetype": "text/html"
      },
      "source": [
        "</td>"
      ],
      "id": "0e95d4e7-0daf-4216-b0ee-0b4d9dcff23d"
    },
    {
      "cell_type": "raw",
      "metadata": {
        "raw_mimetype": "text/html"
      },
      "source": [
        "<td>"
      ],
      "id": "d4042179-2aa5-452e-a888-2c376ff2b0bc"
    },
    {
      "cell_type": "markdown",
      "metadata": {},
      "source": [
        "62"
      ],
      "id": "3b170143-ea7a-43bd-a86d-62ae4b97df6c"
    },
    {
      "cell_type": "raw",
      "metadata": {
        "raw_mimetype": "text/html"
      },
      "source": [
        "</td>"
      ],
      "id": "3305f513-c7d9-47db-a210-5d049d98acf2"
    },
    {
      "cell_type": "raw",
      "metadata": {
        "raw_mimetype": "text/html"
      },
      "source": [
        "</tr>"
      ],
      "id": "f5387e0a-f102-4269-a363-500c300a28f6"
    },
    {
      "cell_type": "raw",
      "metadata": {
        "raw_mimetype": "text/html"
      },
      "source": [
        "<tr bgcolor=\"#FFF052\">"
      ],
      "id": "132831f5-7fc0-4682-84bd-e675d8103df6"
    },
    {
      "cell_type": "raw",
      "metadata": {
        "raw_mimetype": "text/html"
      },
      "source": [
        "<td>"
      ],
      "id": "4e22efd5-df0e-4a70-bbdb-9b56285fc03d"
    },
    {
      "cell_type": "markdown",
      "metadata": {},
      "source": [
        "<a href=\"/wiki/Racing_Club_de_Strasbourg_Alsace\" title=\"Racing Club de Strasbourg Alsace\">RC Strasbourg Alsace</a>"
      ],
      "id": "c6149929-cedf-4531-9cd9-7678555bc660"
    },
    {
      "cell_type": "raw",
      "metadata": {
        "raw_mimetype": "text/html"
      },
      "source": [
        "</td>"
      ],
      "id": "e1969061-1ba8-46fc-909f-e6ac300f83b4"
    },
    {
      "cell_type": "raw",
      "metadata": {
        "raw_mimetype": "text/html"
      },
      "source": [
        "<td>"
      ],
      "id": "6b937a4b-2016-4642-ac04-1182d45e5629"
    },
    {
      "cell_type": "markdown",
      "metadata": {},
      "source": [
        "2017"
      ],
      "id": "fbbdf8fb-6575-4d97-8f76-ab9b50e7e3bc"
    },
    {
      "cell_type": "raw",
      "metadata": {
        "raw_mimetype": "text/html"
      },
      "source": [
        "</td>"
      ],
      "id": "b3f0ba00-9ffb-4d49-a941-f482c3142e4e"
    },
    {
      "cell_type": "raw",
      "metadata": {
        "raw_mimetype": "text/html"
      },
      "source": [
        "<td>"
      ],
      "id": "ba887de5-242c-462a-afb9-9aea6fdbffa0"
    },
    {
      "cell_type": "markdown",
      "metadata": {},
      "source": [
        "43"
      ],
      "id": "39f4eb90-92ba-4df4-8ce6-870b45403b7f"
    },
    {
      "cell_type": "raw",
      "metadata": {
        "raw_mimetype": "text/html"
      },
      "source": [
        "</td>"
      ],
      "id": "186eff72-4bda-4bd3-87ed-ee724f775e7c"
    },
    {
      "cell_type": "raw",
      "metadata": {
        "raw_mimetype": "text/html"
      },
      "source": [
        "<td>"
      ],
      "id": "a3fb58e0-a26f-4959-9592-1d62ec9f2982"
    },
    {
      "cell_type": "markdown",
      "metadata": {},
      "source": [
        "<span data-sort-value=\"111 !\"></span><abbr class=\"abbr\" title=\"Onzième\">11<sup>e</sup></abbr>"
      ],
      "id": "e28c6652-1c6f-482f-ab70-08d10282624d"
    },
    {
      "cell_type": "raw",
      "metadata": {
        "raw_mimetype": "text/html"
      },
      "source": [
        "</td>"
      ],
      "id": "6ccd8424-d1bd-41f3-9fa0-ae5972a54480"
    },
    {
      "cell_type": "raw",
      "metadata": {
        "raw_mimetype": "text/html"
      },
      "source": [
        "<td align=\"left\">"
      ],
      "id": "8e58281c-3fdd-4d11-b6ce-9d6563684911"
    },
    {
      "cell_type": "markdown",
      "metadata": {},
      "source": [
        "<span class=\"flagicon\"><a class=\"image\" href=\"/wiki/Fichier:Flag_of_France.svg\" title=\"Drapeau : France\"><img alt=\"\" class=\"noviewer thumbborder\" data-file-height=\"600\" data-file-width=\"900\" decoding=\"async\" height=\"13\" src=\"//upload.wikimedia.org/wikipedia/commons/thumb/c/c3/Flag_of_France.svg/20px-Flag_of_France.svg.png\" srcset=\"//upload.wikimedia.org/wikipedia/commons/thumb/c/c3/Flag_of_France.svg/30px-Flag_of_France.svg.png 1.5x, //upload.wikimedia.org/wikipedia/commons/thumb/c/c3/Flag_of_France.svg/40px-Flag_of_France.svg.png 2x\" width=\"20\"/></a></span> <a href=\"/wiki/Thierry_Laurey\" title=\"Thierry Laurey\">Thierry Laurey</a>"
      ],
      "id": "f776b7f2-a0a0-4707-89e9-85942189827b"
    },
    {
      "cell_type": "raw",
      "metadata": {
        "raw_mimetype": "text/html"
      },
      "source": [
        "</td>"
      ],
      "id": "5426680a-18e6-4a4e-88a2-6f5d54840657"
    },
    {
      "cell_type": "raw",
      "metadata": {
        "raw_mimetype": "text/html"
      },
      "source": [
        "<td>"
      ],
      "id": "f5d1d00b-4543-498c-9a40-3337602f7d5c"
    },
    {
      "cell_type": "markdown",
      "metadata": {},
      "source": [
        "2016"
      ],
      "id": "dde2075f-73c5-4a8a-9f1f-d35a1c41fae1"
    },
    {
      "cell_type": "raw",
      "metadata": {
        "raw_mimetype": "text/html"
      },
      "source": [
        "</td>"
      ],
      "id": "970e7c3a-0248-4adc-9d33-085b306a3dfd"
    },
    {
      "cell_type": "raw",
      "metadata": {
        "raw_mimetype": "text/html"
      },
      "source": [
        "<td>"
      ],
      "id": "5e6def83-7306-407c-964d-675149e2b0c7"
    },
    {
      "cell_type": "markdown",
      "metadata": {},
      "source": [
        "<a href=\"/wiki/Stade_de_la_Meinau\" title=\"Stade de la Meinau\">Stade de la Meinau</a>"
      ],
      "id": "bd781baf-fb37-4e3d-9889-0703f67df607"
    },
    {
      "cell_type": "raw",
      "metadata": {
        "raw_mimetype": "text/html"
      },
      "source": [
        "</td>"
      ],
      "id": "7a6cd9d4-03e3-4f02-ae16-6ff17333dff2"
    },
    {
      "cell_type": "raw",
      "metadata": {
        "raw_mimetype": "text/html"
      },
      "source": [
        "<td>"
      ],
      "id": "1fe19923-939c-42a9-b620-0e59ca2c1aab"
    },
    {
      "cell_type": "markdown",
      "metadata": {},
      "source": [
        "26 109"
      ],
      "id": "2a6cd4e7-3751-4f68-be2e-5b3aadefc13d"
    },
    {
      "cell_type": "raw",
      "metadata": {
        "raw_mimetype": "text/html"
      },
      "source": [
        "</td>"
      ],
      "id": "a8f4abfd-c748-4380-835a-e3b83848f522"
    },
    {
      "cell_type": "raw",
      "metadata": {
        "raw_mimetype": "text/html"
      },
      "source": [
        "<td>"
      ],
      "id": "37765af8-8f81-4d7b-aa6a-3d8024540e09"
    },
    {
      "cell_type": "markdown",
      "metadata": {},
      "source": [
        "58"
      ],
      "id": "ebb12ac3-6224-4feb-907e-428ca98e34c9"
    },
    {
      "cell_type": "raw",
      "metadata": {
        "raw_mimetype": "text/html"
      },
      "source": [
        "</td>"
      ],
      "id": "86abd76a-7a17-4fc4-82cf-2cb7400783f3"
    },
    {
      "cell_type": "raw",
      "metadata": {
        "raw_mimetype": "text/html"
      },
      "source": [
        "</tr>"
      ],
      "id": "87c6bb11-1d7d-4cb3-a544-6c939631c4fa"
    },
    {
      "cell_type": "raw",
      "metadata": {
        "raw_mimetype": "text/html"
      },
      "source": [
        "<tr>"
      ],
      "id": "72af90f9-ba8c-4187-8918-41d97db8e4e6"
    },
    {
      "cell_type": "raw",
      "metadata": {
        "raw_mimetype": "text/html"
      },
      "source": [
        "<td>"
      ],
      "id": "e4dc0175-3344-4973-8d4b-419f31ffe978"
    },
    {
      "cell_type": "markdown",
      "metadata": {},
      "source": [
        "<a href=\"/wiki/Football_Club_de_Nantes\" title=\"Football Club de Nantes\">FC Nantes</a>"
      ],
      "id": "809633bf-552f-471a-90b5-73f2ea780c2e"
    },
    {
      "cell_type": "raw",
      "metadata": {
        "raw_mimetype": "text/html"
      },
      "source": [
        "</td>"
      ],
      "id": "d3869a92-8460-432f-b740-908014e64b65"
    },
    {
      "cell_type": "raw",
      "metadata": {
        "raw_mimetype": "text/html"
      },
      "source": [
        "<td>"
      ],
      "id": "e5afa9ec-9680-4d1c-9daa-c454e10c3416"
    },
    {
      "cell_type": "markdown",
      "metadata": {},
      "source": [
        "2013"
      ],
      "id": "785dc8fd-cefd-4714-b850-560e4c227ea4"
    },
    {
      "cell_type": "raw",
      "metadata": {
        "raw_mimetype": "text/html"
      },
      "source": [
        "</td>"
      ],
      "id": "348f7e98-4d3d-4e8e-92c1-1d27598c0f4a"
    },
    {
      "cell_type": "raw",
      "metadata": {
        "raw_mimetype": "text/html"
      },
      "source": [
        "<td>"
      ],
      "id": "d4d70659-a769-43d4-b604-ad6b8eb634a1"
    },
    {
      "cell_type": "markdown",
      "metadata": {},
      "source": [
        "70"
      ],
      "id": "074fa173-d90b-4f4e-af25-5b249328c2e3"
    },
    {
      "cell_type": "raw",
      "metadata": {
        "raw_mimetype": "text/html"
      },
      "source": [
        "</td>"
      ],
      "id": "29a34909-6b26-42a7-8590-d1794690b918"
    },
    {
      "cell_type": "raw",
      "metadata": {
        "raw_mimetype": "text/html"
      },
      "source": [
        "<td>"
      ],
      "id": "ff2aa0ea-4903-4f53-be6d-e332e23a6ab5"
    },
    {
      "cell_type": "markdown",
      "metadata": {},
      "source": [
        "<span data-sort-value=\"112 !\"></span><abbr class=\"abbr\" title=\"Douzième\">12<sup>e</sup></abbr>"
      ],
      "id": "664cc590-459a-4645-90d6-376d4de99885"
    },
    {
      "cell_type": "raw",
      "metadata": {
        "raw_mimetype": "text/html"
      },
      "source": [
        "</td>"
      ],
      "id": "3cc9a86f-2e9b-47e2-a07f-b72d00cf482d"
    },
    {
      "cell_type": "raw",
      "metadata": {
        "raw_mimetype": "text/html"
      },
      "source": [
        "<td align=\"left\">"
      ],
      "id": "df7f085c-5ef4-4138-ac70-aac8207722b1"
    },
    {
      "cell_type": "markdown",
      "metadata": {},
      "source": [
        "<span class=\"flagicon\"><a class=\"image\" href=\"/wiki/Fichier:Flag_of_France.svg\" title=\"Drapeau : France\"><img alt=\"\" class=\"noviewer thumbborder\" data-file-height=\"600\" data-file-width=\"900\" decoding=\"async\" height=\"13\" src=\"//upload.wikimedia.org/wikipedia/commons/thumb/c/c3/Flag_of_France.svg/20px-Flag_of_France.svg.png\" srcset=\"//upload.wikimedia.org/wikipedia/commons/thumb/c/c3/Flag_of_France.svg/30px-Flag_of_France.svg.png 1.5x, //upload.wikimedia.org/wikipedia/commons/thumb/c/c3/Flag_of_France.svg/40px-Flag_of_France.svg.png 2x\" width=\"20\"/></a></span> <a href=\"/wiki/Christian_Gourcuff\" title=\"Christian Gourcuff\">Christian Gourcuff</a>"
      ],
      "id": "2300d965-656a-4a78-ac11-1e60499f4a14"
    },
    {
      "cell_type": "raw",
      "metadata": {
        "raw_mimetype": "text/html"
      },
      "source": [
        "</td>"
      ],
      "id": "d201614e-58f2-411c-9598-491d79277984"
    },
    {
      "cell_type": "raw",
      "metadata": {
        "raw_mimetype": "text/html"
      },
      "source": [
        "<td>"
      ],
      "id": "fd2ff348-0b34-41e7-ac4a-0b7114f866e9"
    },
    {
      "cell_type": "markdown",
      "metadata": {},
      "source": [
        "2019"
      ],
      "id": "868f4e5b-060c-4c1b-97e9-eab036f87a9e"
    },
    {
      "cell_type": "raw",
      "metadata": {
        "raw_mimetype": "text/html"
      },
      "source": [
        "</td>"
      ],
      "id": "e1550aab-f542-4ad3-92b5-e69e7d96fc00"
    },
    {
      "cell_type": "raw",
      "metadata": {
        "raw_mimetype": "text/html"
      },
      "source": [
        "<td>"
      ],
      "id": "3fcff292-0ba6-4dbf-a80c-ab111b3991c2"
    },
    {
      "cell_type": "markdown",
      "metadata": {},
      "source": [
        "<a href=\"/wiki/Stade_de_la_Beaujoire\" title=\"Stade de la Beaujoire\">Stade de la Beaujoire - Louis Fonteneau</a>"
      ],
      "id": "f7c3cde2-e206-4c9f-b53b-31c3f63c029c"
    },
    {
      "cell_type": "raw",
      "metadata": {
        "raw_mimetype": "text/html"
      },
      "source": [
        "</td>"
      ],
      "id": "b4cd4d6a-6115-4fcd-a67a-0a725c3b382c"
    },
    {
      "cell_type": "raw",
      "metadata": {
        "raw_mimetype": "text/html"
      },
      "source": [
        "<td>"
      ],
      "id": "6ae3ecb6-638a-465b-bac9-c9a23d75ebb0"
    },
    {
      "cell_type": "markdown",
      "metadata": {},
      "source": [
        "35 322"
      ],
      "id": "236d1d61-5ad2-4df0-b974-2bc53be22b5d"
    },
    {
      "cell_type": "raw",
      "metadata": {
        "raw_mimetype": "text/html"
      },
      "source": [
        "</td>"
      ],
      "id": "756c9f4b-e51d-4caf-8a3a-7098eef7f620"
    },
    {
      "cell_type": "raw",
      "metadata": {
        "raw_mimetype": "text/html"
      },
      "source": [
        "<td>"
      ],
      "id": "a4d09d4c-ef92-412e-97ca-5f93b626ccd1"
    },
    {
      "cell_type": "markdown",
      "metadata": {},
      "source": [
        "51"
      ],
      "id": "f0085b8b-468a-4c37-b6ed-8ec95fdfda9f"
    },
    {
      "cell_type": "raw",
      "metadata": {
        "raw_mimetype": "text/html"
      },
      "source": [
        "</td>"
      ],
      "id": "d598ba9d-ec00-4bac-aae2-71a9c7ba86a3"
    },
    {
      "cell_type": "raw",
      "metadata": {
        "raw_mimetype": "text/html"
      },
      "source": [
        "</tr>"
      ],
      "id": "34bddadc-1a5f-4630-952c-426b96ad7ee6"
    },
    {
      "cell_type": "raw",
      "metadata": {
        "raw_mimetype": "text/html"
      },
      "source": [
        "<tr>"
      ],
      "id": "fcaf221d-73a8-4bc9-91de-50b8e8e9c781"
    },
    {
      "cell_type": "raw",
      "metadata": {
        "raw_mimetype": "text/html"
      },
      "source": [
        "<td>"
      ],
      "id": "0ae30be8-4ba0-49d4-84a3-b541a3f952e2"
    },
    {
      "cell_type": "markdown",
      "metadata": {},
      "source": [
        "<a class=\"mw-redirect\" href=\"/wiki/Angers_sporting_club_de_l%27Ouest\" title=\"Angers sporting club de l'Ouest\">SCO d’Angers</a>"
      ],
      "id": "b6a8013b-165d-48fa-a6ea-baeba1758ab1"
    },
    {
      "cell_type": "raw",
      "metadata": {
        "raw_mimetype": "text/html"
      },
      "source": [
        "</td>"
      ],
      "id": "a176e47a-80c1-4843-abc9-6c41d06c2ea4"
    },
    {
      "cell_type": "raw",
      "metadata": {
        "raw_mimetype": "text/html"
      },
      "source": [
        "<td>"
      ],
      "id": "e17bc00f-246a-487c-a3c0-48412b815e32"
    },
    {
      "cell_type": "markdown",
      "metadata": {},
      "source": [
        "2015"
      ],
      "id": "00f5d57a-63a9-431b-a6dd-b42f077546b7"
    },
    {
      "cell_type": "raw",
      "metadata": {
        "raw_mimetype": "text/html"
      },
      "source": [
        "</td>"
      ],
      "id": "80918586-388c-46d9-bf44-81c28c4a2a4e"
    },
    {
      "cell_type": "raw",
      "metadata": {
        "raw_mimetype": "text/html"
      },
      "source": [
        "<td>"
      ],
      "id": "6781822e-d2a7-462e-b17d-8486685323be"
    },
    {
      "cell_type": "markdown",
      "metadata": {},
      "source": [
        "32"
      ],
      "id": "279295f3-c813-4226-971c-7d3346dbe2f7"
    },
    {
      "cell_type": "raw",
      "metadata": {
        "raw_mimetype": "text/html"
      },
      "source": [
        "</td>"
      ],
      "id": "bc567fcb-de9b-4c74-a5d4-5db6cdb6adad"
    },
    {
      "cell_type": "raw",
      "metadata": {
        "raw_mimetype": "text/html"
      },
      "source": [
        "<td>"
      ],
      "id": "09b204f4-4d46-49df-9d37-c13153ecf1f1"
    },
    {
      "cell_type": "markdown",
      "metadata": {},
      "source": [
        "<span data-sort-value=\"113 !\"></span><abbr class=\"abbr\" title=\"Treizième\">13<sup>e</sup></abbr>"
      ],
      "id": "0e9cd217-cf0f-4336-b3a9-af35c9b14a82"
    },
    {
      "cell_type": "raw",
      "metadata": {
        "raw_mimetype": "text/html"
      },
      "source": [
        "</td>"
      ],
      "id": "e6186df3-d90c-4285-b409-c0d794690859"
    },
    {
      "cell_type": "raw",
      "metadata": {
        "raw_mimetype": "text/html"
      },
      "source": [
        "<td align=\"left\">"
      ],
      "id": "17ec33c3-22a7-4082-9779-deadefb18f9b"
    },
    {
      "cell_type": "markdown",
      "metadata": {},
      "source": [
        "<span class=\"flagicon\"><a class=\"image\" href=\"/wiki/Fichier:Flag_of_France.svg\" title=\"Drapeau : France\"><img alt=\"\" class=\"noviewer thumbborder\" data-file-height=\"600\" data-file-width=\"900\" decoding=\"async\" height=\"13\" src=\"//upload.wikimedia.org/wikipedia/commons/thumb/c/c3/Flag_of_France.svg/20px-Flag_of_France.svg.png\" srcset=\"//upload.wikimedia.org/wikipedia/commons/thumb/c/c3/Flag_of_France.svg/30px-Flag_of_France.svg.png 1.5x, //upload.wikimedia.org/wikipedia/commons/thumb/c/c3/Flag_of_France.svg/40px-Flag_of_France.svg.png 2x\" width=\"20\"/></a></span> <a href=\"/wiki/St%C3%A9phane_Moulin_(football)\" title=\"Stéphane Moulin (football)\">Stéphane Moulin</a>"
      ],
      "id": "d18ae36f-db7c-44c0-b6d4-553389b5e386"
    },
    {
      "cell_type": "raw",
      "metadata": {
        "raw_mimetype": "text/html"
      },
      "source": [
        "</td>"
      ],
      "id": "be6bab89-d3c6-4c4f-b34a-b7977e0270d1"
    },
    {
      "cell_type": "raw",
      "metadata": {
        "raw_mimetype": "text/html"
      },
      "source": [
        "<td>"
      ],
      "id": "5bc9b9f0-23b6-488f-adf0-088029e879fd"
    },
    {
      "cell_type": "markdown",
      "metadata": {},
      "source": [
        "2011"
      ],
      "id": "5db278bb-f9a8-4913-81f9-08f74a36ebe3"
    },
    {
      "cell_type": "raw",
      "metadata": {
        "raw_mimetype": "text/html"
      },
      "source": [
        "</td>"
      ],
      "id": "6b1d769c-996c-4abc-814a-d0f9f6361d3c"
    },
    {
      "cell_type": "raw",
      "metadata": {
        "raw_mimetype": "text/html"
      },
      "source": [
        "<td>"
      ],
      "id": "539c5015-fbaf-443a-8fd2-38bac4d92c21"
    },
    {
      "cell_type": "markdown",
      "metadata": {},
      "source": [
        "<a href=\"/wiki/Stade_Raymond-Kopa\" title=\"Stade Raymond-Kopa\">Stade Raymond-Kopa</a>"
      ],
      "id": "cb186a6e-10ef-44db-9105-da1b4e269a52"
    },
    {
      "cell_type": "raw",
      "metadata": {
        "raw_mimetype": "text/html"
      },
      "source": [
        "</td>"
      ],
      "id": "3b5bd530-ba8c-406b-9f61-e391d249a785"
    },
    {
      "cell_type": "raw",
      "metadata": {
        "raw_mimetype": "text/html"
      },
      "source": [
        "<td>"
      ],
      "id": "68d941af-e8a4-482f-9f42-2eade3671cdc"
    },
    {
      "cell_type": "markdown",
      "metadata": {},
      "source": [
        "14 582"
      ],
      "id": "490a1727-e5c0-4d7c-90f0-593faf6d486b"
    },
    {
      "cell_type": "raw",
      "metadata": {
        "raw_mimetype": "text/html"
      },
      "source": [
        "</td>"
      ],
      "id": "c026a7ef-8931-484c-aac6-92ec6409826a"
    },
    {
      "cell_type": "raw",
      "metadata": {
        "raw_mimetype": "text/html"
      },
      "source": [
        "<td>"
      ],
      "id": "53d72fc4-292e-4ec6-803a-119903750630"
    },
    {
      "cell_type": "markdown",
      "metadata": {},
      "source": [
        "27"
      ],
      "id": "ccebe819-ab57-4cc8-8bd6-bbf2d1d5900d"
    },
    {
      "cell_type": "raw",
      "metadata": {
        "raw_mimetype": "text/html"
      },
      "source": [
        "</td>"
      ],
      "id": "cac26262-dc40-4eb1-a93f-3442c7957e69"
    },
    {
      "cell_type": "raw",
      "metadata": {
        "raw_mimetype": "text/html"
      },
      "source": [
        "</tr>"
      ],
      "id": "b8e6545b-d8e1-4fac-b335-4bb7ecb55d0b"
    },
    {
      "cell_type": "raw",
      "metadata": {
        "raw_mimetype": "text/html"
      },
      "source": [
        "<tr>"
      ],
      "id": "3889d80e-27b1-4e95-a1a0-babf329a77d9"
    },
    {
      "cell_type": "raw",
      "metadata": {
        "raw_mimetype": "text/html"
      },
      "source": [
        "<td>"
      ],
      "id": "6d585413-9f8a-44f2-88b2-f823484c14da"
    },
    {
      "cell_type": "markdown",
      "metadata": {},
      "source": [
        "<a href=\"/wiki/Football_Club_des_Girondins_de_Bordeaux\" title=\"Football Club des Girondins de Bordeaux\">Girondins de Bordeaux</a>"
      ],
      "id": "9c237901-3c02-429a-86a2-d38546f30a15"
    },
    {
      "cell_type": "raw",
      "metadata": {
        "raw_mimetype": "text/html"
      },
      "source": [
        "</td>"
      ],
      "id": "5094d401-7324-48c1-8a73-c00ed247d084"
    },
    {
      "cell_type": "raw",
      "metadata": {
        "raw_mimetype": "text/html"
      },
      "source": [
        "<td>"
      ],
      "id": "b4ba8653-e64c-432b-9f5c-25e81dc73348"
    },
    {
      "cell_type": "markdown",
      "metadata": {},
      "source": [
        "1992"
      ],
      "id": "6856ba7d-a654-4a18-aa65-8569398af7f5"
    },
    {
      "cell_type": "raw",
      "metadata": {
        "raw_mimetype": "text/html"
      },
      "source": [
        "</td>"
      ],
      "id": "e3c7da95-75e9-4a27-a448-f97621ebdf3e"
    },
    {
      "cell_type": "raw",
      "metadata": {
        "raw_mimetype": "text/html"
      },
      "source": [
        "<td>"
      ],
      "id": "9adbb617-381c-45df-ab48-07075e94580b"
    },
    {
      "cell_type": "markdown",
      "metadata": {},
      "source": [
        "70"
      ],
      "id": "6d8b7c98-244d-4e6c-bbe1-4404a526424e"
    },
    {
      "cell_type": "raw",
      "metadata": {
        "raw_mimetype": "text/html"
      },
      "source": [
        "</td>"
      ],
      "id": "fc2384ab-e974-41dc-b107-6ff9f90c7035"
    },
    {
      "cell_type": "raw",
      "metadata": {
        "raw_mimetype": "text/html"
      },
      "source": [
        "<td>"
      ],
      "id": "37dfd2e7-4b17-45c2-a05f-69d20106f046"
    },
    {
      "cell_type": "markdown",
      "metadata": {},
      "source": [
        "<span data-sort-value=\"114 !\"></span><abbr class=\"abbr\" title=\"Quatorzième\">14<sup>e</sup></abbr>"
      ],
      "id": "885343c8-31ef-43f7-8e45-c357200987fd"
    },
    {
      "cell_type": "raw",
      "metadata": {
        "raw_mimetype": "text/html"
      },
      "source": [
        "</td>"
      ],
      "id": "d3c5e4c2-2298-435c-9ef1-7402f65048e2"
    },
    {
      "cell_type": "raw",
      "metadata": {
        "raw_mimetype": "text/html"
      },
      "source": [
        "<td align=\"left\">"
      ],
      "id": "c23c7d59-c43e-4c3c-b1dd-c6ea6704b68f"
    },
    {
      "cell_type": "markdown",
      "metadata": {},
      "source": [
        "<span class=\"flagicon\"><a class=\"image\" href=\"/wiki/Fichier:Flag_of_Portugal.svg\" title=\"Drapeau : Portugal\"><img alt=\"\" class=\"noviewer thumbborder\" data-file-height=\"400\" data-file-width=\"600\" decoding=\"async\" height=\"13\" src=\"//upload.wikimedia.org/wikipedia/commons/thumb/5/5c/Flag_of_Portugal.svg/20px-Flag_of_Portugal.svg.png\" srcset=\"//upload.wikimedia.org/wikipedia/commons/thumb/5/5c/Flag_of_Portugal.svg/30px-Flag_of_Portugal.svg.png 1.5x, //upload.wikimedia.org/wikipedia/commons/thumb/5/5c/Flag_of_Portugal.svg/40px-Flag_of_Portugal.svg.png 2x\" width=\"20\"/></a></span> <a href=\"/wiki/Paulo_Sousa_(football,_1970)\" title=\"Paulo Sousa (football, 1970)\">Paulo Sousa</a>"
      ],
      "id": "d2af431a-ef6b-43ff-91fb-bcb707459a54"
    },
    {
      "cell_type": "raw",
      "metadata": {
        "raw_mimetype": "text/html"
      },
      "source": [
        "</td>"
      ],
      "id": "6d006c83-4cae-4247-b187-741194044225"
    },
    {
      "cell_type": "raw",
      "metadata": {
        "raw_mimetype": "text/html"
      },
      "source": [
        "<td>"
      ],
      "id": "f858f645-dbda-40d6-8a29-b16975920ad0"
    },
    {
      "cell_type": "markdown",
      "metadata": {},
      "source": [
        "2019"
      ],
      "id": "0563e3a6-a4e7-43b4-8b61-e59e7d15fccb"
    },
    {
      "cell_type": "raw",
      "metadata": {
        "raw_mimetype": "text/html"
      },
      "source": [
        "</td>"
      ],
      "id": "c5fef88a-5ccb-4986-acc3-5196b19dd702"
    },
    {
      "cell_type": "raw",
      "metadata": {
        "raw_mimetype": "text/html"
      },
      "source": [
        "<td>"
      ],
      "id": "6dea88c5-dc44-4d45-83fd-df3aafb824f8"
    },
    {
      "cell_type": "markdown",
      "metadata": {},
      "source": [
        "<a href=\"/wiki/Matmut_Atlantique\" title=\"Matmut Atlantique\">Matmut Atlantique</a>"
      ],
      "id": "cb31ef2a-abb4-466f-aa6f-1cc260ff4281"
    },
    {
      "cell_type": "raw",
      "metadata": {
        "raw_mimetype": "text/html"
      },
      "source": [
        "</td>"
      ],
      "id": "77e716d9-f982-4bfc-8c2e-20fec9514fe6"
    },
    {
      "cell_type": "raw",
      "metadata": {
        "raw_mimetype": "text/html"
      },
      "source": [
        "<td>"
      ],
      "id": "338b1925-1e9b-4c64-af59-2473de7663a1"
    },
    {
      "cell_type": "markdown",
      "metadata": {},
      "source": [
        "42 115"
      ],
      "id": "24dc444f-9085-453c-9dbb-13bbd1b3d3ab"
    },
    {
      "cell_type": "raw",
      "metadata": {
        "raw_mimetype": "text/html"
      },
      "source": [
        "</td>"
      ],
      "id": "2a770b5a-0b90-47c9-906e-a8d0c362da58"
    },
    {
      "cell_type": "raw",
      "metadata": {
        "raw_mimetype": "text/html"
      },
      "source": [
        "<td>"
      ],
      "id": "2bac4e10-e962-4158-9ef4-99d9d2e439cb"
    },
    {
      "cell_type": "markdown",
      "metadata": {},
      "source": [
        "66"
      ],
      "id": "90a7f53f-8fd8-4571-87ac-91a79e7a68b8"
    },
    {
      "cell_type": "raw",
      "metadata": {
        "raw_mimetype": "text/html"
      },
      "source": [
        "</td>"
      ],
      "id": "bf3cb6d3-b7ab-480f-9ba2-bed516d33b26"
    },
    {
      "cell_type": "raw",
      "metadata": {
        "raw_mimetype": "text/html"
      },
      "source": [
        "</tr>"
      ],
      "id": "9ed12d4a-f82e-44ff-a2cb-e9b710c60b60"
    },
    {
      "cell_type": "raw",
      "metadata": {
        "raw_mimetype": "text/html"
      },
      "source": [
        "<tr>"
      ],
      "id": "17752e35-6730-437f-8e39-5941252de209"
    },
    {
      "cell_type": "raw",
      "metadata": {
        "raw_mimetype": "text/html"
      },
      "source": [
        "<td>"
      ],
      "id": "15e993ee-3be8-4b13-8fde-497592d14b1c"
    },
    {
      "cell_type": "markdown",
      "metadata": {},
      "source": [
        "<a href=\"/wiki/Amiens_Sporting_Club\" title=\"Amiens Sporting Club\">Amiens SC</a>"
      ],
      "id": "d9a5ac8e-5ae0-4a30-b439-1ac4b49593a4"
    },
    {
      "cell_type": "raw",
      "metadata": {
        "raw_mimetype": "text/html"
      },
      "source": [
        "</td>"
      ],
      "id": "648bbb2f-d343-42d3-922a-74d180e27817"
    },
    {
      "cell_type": "raw",
      "metadata": {
        "raw_mimetype": "text/html"
      },
      "source": [
        "<td>"
      ],
      "id": "bbdb80c9-b3f9-4437-9ddd-95238673424e"
    },
    {
      "cell_type": "markdown",
      "metadata": {},
      "source": [
        "2017"
      ],
      "id": "40057a72-cca3-489b-b887-3481a3e768d8"
    },
    {
      "cell_type": "raw",
      "metadata": {
        "raw_mimetype": "text/html"
      },
      "source": [
        "</td>"
      ],
      "id": "f9aa7044-b50c-438d-8906-5db2346d00bf"
    },
    {
      "cell_type": "raw",
      "metadata": {
        "raw_mimetype": "text/html"
      },
      "source": [
        "<td>"
      ],
      "id": "bb2ffc75-de4c-4253-a562-7696e4f5b642"
    },
    {
      "cell_type": "markdown",
      "metadata": {},
      "source": [
        "30"
      ],
      "id": "63ce1d4f-5457-4704-84c7-753c0f0d6e69"
    },
    {
      "cell_type": "raw",
      "metadata": {
        "raw_mimetype": "text/html"
      },
      "source": [
        "</td>"
      ],
      "id": "f52c2d7f-8b34-4fe0-bb9d-037d43952e75"
    },
    {
      "cell_type": "raw",
      "metadata": {
        "raw_mimetype": "text/html"
      },
      "source": [
        "<td>"
      ],
      "id": "f63ae91c-9957-4545-b64a-444dd894f9a8"
    },
    {
      "cell_type": "markdown",
      "metadata": {},
      "source": [
        "<span data-sort-value=\"115 !\"></span><abbr class=\"abbr\" title=\"Quinzième\">15<sup>e</sup></abbr>"
      ],
      "id": "c92ed9ca-0909-4a79-8c0b-9c8b258bfbfa"
    },
    {
      "cell_type": "raw",
      "metadata": {
        "raw_mimetype": "text/html"
      },
      "source": [
        "</td>"
      ],
      "id": "e2a8043f-40c6-4fd2-88cc-d28ec6fc4a10"
    },
    {
      "cell_type": "raw",
      "metadata": {
        "raw_mimetype": "text/html"
      },
      "source": [
        "<td align=\"left\">"
      ],
      "id": "d13262c0-d5c2-4085-aebd-cdf5ac96ce06"
    },
    {
      "cell_type": "markdown",
      "metadata": {},
      "source": [
        "<span class=\"flagicon\"><a class=\"image\" href=\"/wiki/Fichier:Flag_of_Slovenia.svg\" title=\"Drapeau : Slovénie\"><img alt=\"\" class=\"noviewer thumbborder\" data-file-height=\"600\" data-file-width=\"1200\" decoding=\"async\" height=\"10\" src=\"//upload.wikimedia.org/wikipedia/commons/thumb/f/f0/Flag_of_Slovenia.svg/20px-Flag_of_Slovenia.svg.png\" srcset=\"//upload.wikimedia.org/wikipedia/commons/thumb/f/f0/Flag_of_Slovenia.svg/30px-Flag_of_Slovenia.svg.png 1.5x, //upload.wikimedia.org/wikipedia/commons/thumb/f/f0/Flag_of_Slovenia.svg/40px-Flag_of_Slovenia.svg.png 2x\" width=\"20\"/></a></span> <a href=\"/wiki/Luka_Elsner\" title=\"Luka Elsner\">Luka Elsner</a>"
      ],
      "id": "91927f0c-a83e-4128-99f9-ea6872492025"
    },
    {
      "cell_type": "raw",
      "metadata": {
        "raw_mimetype": "text/html"
      },
      "source": [
        "</td>"
      ],
      "id": "04b5310b-ca42-4995-9233-c3512fa3b367"
    },
    {
      "cell_type": "raw",
      "metadata": {
        "raw_mimetype": "text/html"
      },
      "source": [
        "<td>"
      ],
      "id": "2fbcf891-2948-44c8-add6-25f84aeb7355"
    },
    {
      "cell_type": "markdown",
      "metadata": {},
      "source": [
        "2019"
      ],
      "id": "81b1bf18-7e22-49ea-95e8-fcdd41a08be3"
    },
    {
      "cell_type": "raw",
      "metadata": {
        "raw_mimetype": "text/html"
      },
      "source": [
        "</td>"
      ],
      "id": "f4b68543-7e7a-4d7b-9af1-18e8b4c268d8"
    },
    {
      "cell_type": "raw",
      "metadata": {
        "raw_mimetype": "text/html"
      },
      "source": [
        "<td>"
      ],
      "id": "44aaf81f-cf5c-461e-9181-1b349a4603a0"
    },
    {
      "cell_type": "markdown",
      "metadata": {},
      "source": [
        "<a href=\"/wiki/Stade_de_la_Licorne\" title=\"Stade de la Licorne\">Stade Crédit Agricole la Licorne</a>"
      ],
      "id": "75f5791a-0076-4168-90b4-a1455149c85b"
    },
    {
      "cell_type": "raw",
      "metadata": {
        "raw_mimetype": "text/html"
      },
      "source": [
        "</td>"
      ],
      "id": "f6ddcd0e-668f-4f3b-965a-bdb5febc6fc4"
    },
    {
      "cell_type": "raw",
      "metadata": {
        "raw_mimetype": "text/html"
      },
      "source": [
        "<td>"
      ],
      "id": "04118118-cd20-41c2-aae5-7d53df25c140"
    },
    {
      "cell_type": "markdown",
      "metadata": {},
      "source": [
        "12 999"
      ],
      "id": "37fab60d-767b-4806-b119-633530cdd37f"
    },
    {
      "cell_type": "raw",
      "metadata": {
        "raw_mimetype": "text/html"
      },
      "source": [
        "</td>"
      ],
      "id": "e0025629-ecc5-4449-8bf2-2017b747ff26"
    },
    {
      "cell_type": "raw",
      "metadata": {
        "raw_mimetype": "text/html"
      },
      "source": [
        "<td>"
      ],
      "id": "442167a4-a4dc-418f-a89f-cce0a149dd8b"
    },
    {
      "cell_type": "markdown",
      "metadata": {},
      "source": [
        "2"
      ],
      "id": "8def83be-fbc1-4bbb-ab4b-4cbe37065187"
    },
    {
      "cell_type": "raw",
      "metadata": {
        "raw_mimetype": "text/html"
      },
      "source": [
        "</td>"
      ],
      "id": "cd3a28d8-06ea-43ce-8ab1-feaaa666f728"
    },
    {
      "cell_type": "raw",
      "metadata": {
        "raw_mimetype": "text/html"
      },
      "source": [
        "</tr>"
      ],
      "id": "cfab8c97-8ccb-4ed9-a10c-381011ff1e39"
    },
    {
      "cell_type": "raw",
      "metadata": {
        "raw_mimetype": "text/html"
      },
      "source": [
        "<tr>"
      ],
      "id": "7fe7d17e-0f56-4566-8fbc-12c55af1cbba"
    },
    {
      "cell_type": "raw",
      "metadata": {
        "raw_mimetype": "text/html"
      },
      "source": [
        "<td>"
      ],
      "id": "055cd6e6-b66d-4cd2-a882-46c68f36f294"
    },
    {
      "cell_type": "markdown",
      "metadata": {},
      "source": [
        "<a href=\"/wiki/Toulouse_Football_Club\" title=\"Toulouse Football Club\">Toulouse FC</a>"
      ],
      "id": "ebdf6736-5041-4046-900b-9298b5c4847d"
    },
    {
      "cell_type": "raw",
      "metadata": {
        "raw_mimetype": "text/html"
      },
      "source": [
        "</td>"
      ],
      "id": "1a4ee565-0af8-491b-9f38-c2db273ea623"
    },
    {
      "cell_type": "raw",
      "metadata": {
        "raw_mimetype": "text/html"
      },
      "source": [
        "<td>"
      ],
      "id": "c9f9c9f1-3285-4752-9a19-afab911810e4"
    },
    {
      "cell_type": "markdown",
      "metadata": {},
      "source": [
        "2003"
      ],
      "id": "2ef651f8-50b9-42c1-bd92-ea1be39b4aa9"
    },
    {
      "cell_type": "raw",
      "metadata": {
        "raw_mimetype": "text/html"
      },
      "source": [
        "</td>"
      ],
      "id": "56311d6d-ea29-46dd-8a4e-dd15230ec9e6"
    },
    {
      "cell_type": "raw",
      "metadata": {
        "raw_mimetype": "text/html"
      },
      "source": [
        "<td>"
      ],
      "id": "7d660282-0c74-47be-9cfe-edfb4e8b0229"
    },
    {
      "cell_type": "markdown",
      "metadata": {},
      "source": [
        "35"
      ],
      "id": "dd3646f8-e888-4c20-9ba4-22cd0b017815"
    },
    {
      "cell_type": "raw",
      "metadata": {
        "raw_mimetype": "text/html"
      },
      "source": [
        "</td>"
      ],
      "id": "a7ba2d2e-c6e5-45be-940e-9da9f06acb2d"
    },
    {
      "cell_type": "raw",
      "metadata": {
        "raw_mimetype": "text/html"
      },
      "source": [
        "<td>"
      ],
      "id": "b420b1f4-2ead-443a-ab3d-9874c827257a"
    },
    {
      "cell_type": "markdown",
      "metadata": {},
      "source": [
        "<span data-sort-value=\"116 !\"></span><abbr class=\"abbr\" title=\"Seizième\">16<sup>e</sup></abbr>"
      ],
      "id": "23b553e1-b418-4f33-9d6e-155f4b5dad2d"
    },
    {
      "cell_type": "raw",
      "metadata": {
        "raw_mimetype": "text/html"
      },
      "source": [
        "</td>"
      ],
      "id": "78cbb410-128e-4431-912b-00785718362e"
    },
    {
      "cell_type": "raw",
      "metadata": {
        "raw_mimetype": "text/html"
      },
      "source": [
        "<td align=\"left\">"
      ],
      "id": "290b5bc6-ce0a-4016-ae48-ff9251df8813"
    },
    {
      "cell_type": "markdown",
      "metadata": {},
      "source": [
        "<span class=\"flagicon\"><a class=\"image\" href=\"/wiki/Fichier:Flag_of_France.svg\" title=\"Drapeau : France\"><img alt=\"\" class=\"noviewer thumbborder\" data-file-height=\"600\" data-file-width=\"900\" decoding=\"async\" height=\"13\" src=\"//upload.wikimedia.org/wikipedia/commons/thumb/c/c3/Flag_of_France.svg/20px-Flag_of_France.svg.png\" srcset=\"//upload.wikimedia.org/wikipedia/commons/thumb/c/c3/Flag_of_France.svg/30px-Flag_of_France.svg.png 1.5x, //upload.wikimedia.org/wikipedia/commons/thumb/c/c3/Flag_of_France.svg/40px-Flag_of_France.svg.png 2x\" width=\"20\"/></a></span> <a href=\"/wiki/Denis_Zanko\" title=\"Denis Zanko\">Denis Zanko</a>"
      ],
      "id": "0d6a6948-3b9f-41da-8470-ab97c86224b8"
    },
    {
      "cell_type": "raw",
      "metadata": {
        "raw_mimetype": "text/html"
      },
      "source": [
        "</td>"
      ],
      "id": "165b58f6-f478-41b5-b142-6d76ba442a93"
    },
    {
      "cell_type": "raw",
      "metadata": {
        "raw_mimetype": "text/html"
      },
      "source": [
        "<td>"
      ],
      "id": "2f532339-8843-46f4-8168-236450b54f68"
    },
    {
      "cell_type": "markdown",
      "metadata": {},
      "source": [
        "2020"
      ],
      "id": "79f47836-8c49-471a-b211-3c8d42e63411"
    },
    {
      "cell_type": "raw",
      "metadata": {
        "raw_mimetype": "text/html"
      },
      "source": [
        "</td>"
      ],
      "id": "8913c6d4-a59a-4070-80bc-ed93845112e4"
    },
    {
      "cell_type": "raw",
      "metadata": {
        "raw_mimetype": "text/html"
      },
      "source": [
        "<td>"
      ],
      "id": "6ad8b7f8-5299-458e-a1e8-50281e3aefab"
    },
    {
      "cell_type": "markdown",
      "metadata": {},
      "source": [
        "<a href=\"/wiki/Stadium_de_Toulouse\" title=\"Stadium de Toulouse\">Stadium de Toulouse</a>"
      ],
      "id": "8a37cd46-64a7-4e90-b49f-fa82a4b7ea6a"
    },
    {
      "cell_type": "raw",
      "metadata": {
        "raw_mimetype": "text/html"
      },
      "source": [
        "</td>"
      ],
      "id": "73251d2d-0159-45e2-ad65-56fc43640d26"
    },
    {
      "cell_type": "raw",
      "metadata": {
        "raw_mimetype": "text/html"
      },
      "source": [
        "<td>"
      ],
      "id": "82bfec5c-fe66-4c57-9f8c-03b51ca348ec"
    },
    {
      "cell_type": "markdown",
      "metadata": {},
      "source": [
        "33 033"
      ],
      "id": "4604fddc-d170-4a7a-a222-470de332f72e"
    },
    {
      "cell_type": "raw",
      "metadata": {
        "raw_mimetype": "text/html"
      },
      "source": [
        "</td>"
      ],
      "id": "f6eebd7a-be0e-4b18-863b-247b376245f8"
    },
    {
      "cell_type": "raw",
      "metadata": {
        "raw_mimetype": "text/html"
      },
      "source": [
        "<td>"
      ],
      "id": "c6c01660-6804-4bb2-981d-fa8cc78d7896"
    },
    {
      "cell_type": "markdown",
      "metadata": {},
      "source": [
        "32"
      ],
      "id": "f4bfb128-ffc7-4ac8-bef9-24805a75179f"
    },
    {
      "cell_type": "raw",
      "metadata": {
        "raw_mimetype": "text/html"
      },
      "source": [
        "</td>"
      ],
      "id": "93cc0233-5037-453b-b0ce-41f746104321"
    },
    {
      "cell_type": "raw",
      "metadata": {
        "raw_mimetype": "text/html"
      },
      "source": [
        "</tr>"
      ],
      "id": "a67429dd-619c-4788-ae67-024c097280b6"
    },
    {
      "cell_type": "raw",
      "metadata": {
        "raw_mimetype": "text/html"
      },
      "source": [
        "<tr>"
      ],
      "id": "3c0da9fd-e190-450f-a4ff-187a629603f3"
    },
    {
      "cell_type": "raw",
      "metadata": {
        "raw_mimetype": "text/html"
      },
      "source": [
        "<td>"
      ],
      "id": "347b20b8-cf8b-4e59-a75f-9bcbbb15a6a1"
    },
    {
      "cell_type": "markdown",
      "metadata": {},
      "source": [
        "<a class=\"mw-redirect\" href=\"/wiki/Association_sportive_de_Monaco_football_club\" title=\"Association sportive de Monaco football club\">AS Monaco</a>"
      ],
      "id": "78629691-b430-4ca6-af5e-90bbba14eed4"
    },
    {
      "cell_type": "raw",
      "metadata": {
        "raw_mimetype": "text/html"
      },
      "source": [
        "</td>"
      ],
      "id": "25aeb4ff-1b48-4441-b0e3-30b01219f961"
    },
    {
      "cell_type": "raw",
      "metadata": {
        "raw_mimetype": "text/html"
      },
      "source": [
        "<td>"
      ],
      "id": "a0ae9b88-7407-4ead-905c-7b021e4609a3"
    },
    {
      "cell_type": "markdown",
      "metadata": {},
      "source": [
        "2013"
      ],
      "id": "bface185-4090-4ef0-a57b-29584ffb5420"
    },
    {
      "cell_type": "raw",
      "metadata": {
        "raw_mimetype": "text/html"
      },
      "source": [
        "</td>"
      ],
      "id": "ac0fcb8d-4086-4f45-9603-f4f54caa6b29"
    },
    {
      "cell_type": "raw",
      "metadata": {
        "raw_mimetype": "text/html"
      },
      "source": [
        "<td>"
      ],
      "id": "59513cb2-07e1-49b9-ac17-608db2feb4d3"
    },
    {
      "cell_type": "markdown",
      "metadata": {},
      "source": [
        "220"
      ],
      "id": "4807e87e-a5ed-48e9-acb0-d7c3298d824e"
    },
    {
      "cell_type": "raw",
      "metadata": {
        "raw_mimetype": "text/html"
      },
      "source": [
        "</td>"
      ],
      "id": "7df7999b-54b7-4679-a422-6647b22d9501"
    },
    {
      "cell_type": "raw",
      "metadata": {
        "raw_mimetype": "text/html"
      },
      "source": [
        "<td>"
      ],
      "id": "fcf64af7-42f0-4f4f-be98-817d035254f8"
    },
    {
      "cell_type": "markdown",
      "metadata": {},
      "source": [
        "<span data-sort-value=\"117 !\"></span><abbr class=\"abbr\" title=\"Dix-septième\">17<sup>e</sup></abbr>"
      ],
      "id": "61192171-f4fa-4845-a153-1d6de12f8293"
    },
    {
      "cell_type": "raw",
      "metadata": {
        "raw_mimetype": "text/html"
      },
      "source": [
        "</td>"
      ],
      "id": "441c1eab-3930-4749-9790-b77460560c02"
    },
    {
      "cell_type": "raw",
      "metadata": {
        "raw_mimetype": "text/html"
      },
      "source": [
        "<td align=\"left\">"
      ],
      "id": "2202d30b-1d19-4f3c-9b99-76115b905497"
    },
    {
      "cell_type": "markdown",
      "metadata": {},
      "source": [
        "<span class=\"flagicon\"><a class=\"image\" href=\"/wiki/Fichier:Flag_of_Spain.svg\" title=\"Drapeau : Espagne\"><img alt=\"\" class=\"noviewer thumbborder\" data-file-height=\"500\" data-file-width=\"750\" decoding=\"async\" height=\"13\" src=\"//upload.wikimedia.org/wikipedia/commons/thumb/9/9a/Flag_of_Spain.svg/20px-Flag_of_Spain.svg.png\" srcset=\"//upload.wikimedia.org/wikipedia/commons/thumb/9/9a/Flag_of_Spain.svg/30px-Flag_of_Spain.svg.png 1.5x, //upload.wikimedia.org/wikipedia/commons/thumb/9/9a/Flag_of_Spain.svg/40px-Flag_of_Spain.svg.png 2x\" width=\"20\"/></a></span> <a href=\"/wiki/Robert_Moreno\" title=\"Robert Moreno\">Robert Moreno</a>"
      ],
      "id": "75716d03-6a05-430e-bdc9-db85b312a4c9"
    },
    {
      "cell_type": "raw",
      "metadata": {
        "raw_mimetype": "text/html"
      },
      "source": [
        "</td>"
      ],
      "id": "b1b7bc13-ccbf-4504-b472-9d66f135d4ca"
    },
    {
      "cell_type": "raw",
      "metadata": {
        "raw_mimetype": "text/html"
      },
      "source": [
        "<td>"
      ],
      "id": "7e5bd66c-cfdb-40f3-bda9-41f383a90de4"
    },
    {
      "cell_type": "markdown",
      "metadata": {},
      "source": [
        "2019"
      ],
      "id": "298ecd54-075e-48bc-96f6-6c6792953d1a"
    },
    {
      "cell_type": "raw",
      "metadata": {
        "raw_mimetype": "text/html"
      },
      "source": [
        "</td>"
      ],
      "id": "0119eb90-3e2b-4d43-9036-d5569a8e054d"
    },
    {
      "cell_type": "raw",
      "metadata": {
        "raw_mimetype": "text/html"
      },
      "source": [
        "<td>"
      ],
      "id": "c166632f-b6f1-4b4f-b8a5-86f54b7da1c9"
    },
    {
      "cell_type": "markdown",
      "metadata": {},
      "source": [
        "<a href=\"/wiki/Stade_Louis-II\" title=\"Stade Louis-II\">Stade Louis-II</a>"
      ],
      "id": "f5c0b18b-5768-4f47-8122-214d5a3dbe8a"
    },
    {
      "cell_type": "raw",
      "metadata": {
        "raw_mimetype": "text/html"
      },
      "source": [
        "</td>"
      ],
      "id": "b7527be5-a256-4ba8-8b21-80dcf12af26c"
    },
    {
      "cell_type": "raw",
      "metadata": {
        "raw_mimetype": "text/html"
      },
      "source": [
        "<td>"
      ],
      "id": "7135d634-6af7-4b0d-ac8a-dd0e44afbf02"
    },
    {
      "cell_type": "markdown",
      "metadata": {},
      "source": [
        "16 500"
      ],
      "id": "9376cb30-0d63-474c-a159-6fa4676bc79e"
    },
    {
      "cell_type": "raw",
      "metadata": {
        "raw_mimetype": "text/html"
      },
      "source": [
        "</td>"
      ],
      "id": "fbafbe15-c2ad-4c5f-8f71-488e5bd1c38a"
    },
    {
      "cell_type": "raw",
      "metadata": {
        "raw_mimetype": "text/html"
      },
      "source": [
        "<td>"
      ],
      "id": "93d6866c-d4c8-4834-8c4c-a1587639ba2a"
    },
    {
      "cell_type": "markdown",
      "metadata": {},
      "source": [
        "60"
      ],
      "id": "aa932a24-4029-4a95-b90e-380f3cad4b63"
    },
    {
      "cell_type": "raw",
      "metadata": {
        "raw_mimetype": "text/html"
      },
      "source": [
        "</td>"
      ],
      "id": "4a5b2109-84e5-4fc2-92cc-a3e0c0ce3361"
    },
    {
      "cell_type": "raw",
      "metadata": {
        "raw_mimetype": "text/html"
      },
      "source": [
        "</tr>"
      ],
      "id": "b133aca9-31be-4862-b58a-6a1c850e2252"
    },
    {
      "cell_type": "raw",
      "metadata": {
        "raw_mimetype": "text/html"
      },
      "source": [
        "<tr>"
      ],
      "id": "e718fce3-5a7f-42e8-9f81-eb4418a2f157"
    },
    {
      "cell_type": "raw",
      "metadata": {
        "raw_mimetype": "text/html"
      },
      "source": [
        "<td>"
      ],
      "id": "fd3808a3-9ed9-4502-aee9-839f0bcd4965"
    },
    {
      "cell_type": "markdown",
      "metadata": {},
      "source": [
        "<a href=\"/wiki/Dijon_Football_C%C3%B4te-d%27Or\" title=\"Dijon Football Côte-d'Or\">Dijon FCO</a>"
      ],
      "id": "ffd06b4b-3060-4277-a16b-90fa0d9b272c"
    },
    {
      "cell_type": "raw",
      "metadata": {
        "raw_mimetype": "text/html"
      },
      "source": [
        "</td>"
      ],
      "id": "42b84f52-20c8-4328-aae3-3c17ded8d1d2"
    },
    {
      "cell_type": "raw",
      "metadata": {
        "raw_mimetype": "text/html"
      },
      "source": [
        "<td>"
      ],
      "id": "d555bf46-78f0-47fd-9f95-83ab290587f2"
    },
    {
      "cell_type": "markdown",
      "metadata": {},
      "source": [
        "2016"
      ],
      "id": "8339beb0-04e7-4584-b3af-df7b686558a8"
    },
    {
      "cell_type": "raw",
      "metadata": {
        "raw_mimetype": "text/html"
      },
      "source": [
        "</td>"
      ],
      "id": "93fc0184-68ce-419d-a947-e254124716e9"
    },
    {
      "cell_type": "raw",
      "metadata": {
        "raw_mimetype": "text/html"
      },
      "source": [
        "<td>"
      ],
      "id": "16b011c6-f303-473b-bb71-c561840b9e0e"
    },
    {
      "cell_type": "markdown",
      "metadata": {},
      "source": [
        "38"
      ],
      "id": "ba70cacd-812c-4bac-82c4-b29930078ec0"
    },
    {
      "cell_type": "raw",
      "metadata": {
        "raw_mimetype": "text/html"
      },
      "source": [
        "</td>"
      ],
      "id": "ba486154-c6c3-4d6d-8e7e-eee3a31cf6fd"
    },
    {
      "cell_type": "raw",
      "metadata": {
        "raw_mimetype": "text/html"
      },
      "source": [
        "<td>"
      ],
      "id": "5cbce305-eb52-4e61-ae88-9f4ffdaf3530"
    },
    {
      "cell_type": "markdown",
      "metadata": {},
      "source": [
        "<span data-sort-value=\"118 !\"></span><abbr class=\"abbr\" title=\"Dix-huitième\">18<sup>e</sup></abbr>"
      ],
      "id": "c0f52c8d-0c8e-41c9-b67c-60db03a6b6e3"
    },
    {
      "cell_type": "raw",
      "metadata": {
        "raw_mimetype": "text/html"
      },
      "source": [
        "</td>"
      ],
      "id": "f3815d60-9c6a-4b59-b8b9-66910af6987c"
    },
    {
      "cell_type": "raw",
      "metadata": {
        "raw_mimetype": "text/html"
      },
      "source": [
        "<td align=\"left\">"
      ],
      "id": "785d996c-4ac6-4711-8d35-77ab3a191cf4"
    },
    {
      "cell_type": "markdown",
      "metadata": {},
      "source": [
        "<span class=\"flagicon\"><a class=\"image\" href=\"/wiki/Fichier:Flag_of_France.svg\" title=\"Drapeau : France\"><img alt=\"\" class=\"noviewer thumbborder\" data-file-height=\"600\" data-file-width=\"900\" decoding=\"async\" height=\"13\" src=\"//upload.wikimedia.org/wikipedia/commons/thumb/c/c3/Flag_of_France.svg/20px-Flag_of_France.svg.png\" srcset=\"//upload.wikimedia.org/wikipedia/commons/thumb/c/c3/Flag_of_France.svg/30px-Flag_of_France.svg.png 1.5x, //upload.wikimedia.org/wikipedia/commons/thumb/c/c3/Flag_of_France.svg/40px-Flag_of_France.svg.png 2x\" width=\"20\"/></a></span> <a href=\"/wiki/St%C3%A9phane_Jobard\" title=\"Stéphane Jobard\">Stéphane Jobard</a>"
      ],
      "id": "4e256a18-3e0c-4f0c-9018-cfffb70b363a"
    },
    {
      "cell_type": "raw",
      "metadata": {
        "raw_mimetype": "text/html"
      },
      "source": [
        "</td>"
      ],
      "id": "5b4f35b1-f431-4c43-854a-28731defba2c"
    },
    {
      "cell_type": "raw",
      "metadata": {
        "raw_mimetype": "text/html"
      },
      "source": [
        "<td>"
      ],
      "id": "cc89c3d7-881a-47d7-b958-c9805d39c3b9"
    },
    {
      "cell_type": "markdown",
      "metadata": {},
      "source": [
        "2019"
      ],
      "id": "44fc0682-b9d6-4858-b217-93de4324a127"
    },
    {
      "cell_type": "raw",
      "metadata": {
        "raw_mimetype": "text/html"
      },
      "source": [
        "</td>"
      ],
      "id": "9dc879c4-a09c-4cd6-9170-9e7e05673c92"
    },
    {
      "cell_type": "raw",
      "metadata": {
        "raw_mimetype": "text/html"
      },
      "source": [
        "<td>"
      ],
      "id": "4b5e914b-884c-4b93-8741-4c9594219f44"
    },
    {
      "cell_type": "markdown",
      "metadata": {},
      "source": [
        "<a href=\"/wiki/Stade_Gaston-G%C3%A9rard\" title=\"Stade Gaston-Gérard\">Parc des Sports Gaston-Gérard</a>"
      ],
      "id": "03f78bc6-cec8-4292-bd7b-450a9ae6c3f1"
    },
    {
      "cell_type": "raw",
      "metadata": {
        "raw_mimetype": "text/html"
      },
      "source": [
        "</td>"
      ],
      "id": "2b43069e-137e-4935-bd77-1d146fbdd7fa"
    },
    {
      "cell_type": "raw",
      "metadata": {
        "raw_mimetype": "text/html"
      },
      "source": [
        "<td>"
      ],
      "id": "60a0237d-58ba-4274-83f3-d1baef3108f6"
    },
    {
      "cell_type": "markdown",
      "metadata": {},
      "source": [
        "15 459"
      ],
      "id": "7fc4bf3c-22a9-4d6d-8d7d-3577d52662a5"
    },
    {
      "cell_type": "raw",
      "metadata": {
        "raw_mimetype": "text/html"
      },
      "source": [
        "</td>"
      ],
      "id": "8c96b823-9772-480e-86d6-9f1ad560925e"
    },
    {
      "cell_type": "raw",
      "metadata": {
        "raw_mimetype": "text/html"
      },
      "source": [
        "<td>"
      ],
      "id": "b3e90f6d-ad99-4a0a-b0c5-3b23e1b99d0d"
    },
    {
      "cell_type": "markdown",
      "metadata": {},
      "source": [
        "4"
      ],
      "id": "fb879e76-1467-4f3a-b48e-2db14def5a54"
    },
    {
      "cell_type": "raw",
      "metadata": {
        "raw_mimetype": "text/html"
      },
      "source": [
        "</td>"
      ],
      "id": "35ab724d-8a56-47ce-ac10-c5c5fe86dbfd"
    },
    {
      "cell_type": "raw",
      "metadata": {
        "raw_mimetype": "text/html"
      },
      "source": [
        "</tr>"
      ],
      "id": "14cbd77f-3b16-4574-8e95-475e8db5f63c"
    },
    {
      "cell_type": "raw",
      "metadata": {
        "raw_mimetype": "text/html"
      },
      "source": [
        "<tr bgcolor=\"#a8fca8\">"
      ],
      "id": "60671a8f-54ab-4cf5-ae9d-b4550698d4ac"
    },
    {
      "cell_type": "raw",
      "metadata": {
        "raw_mimetype": "text/html"
      },
      "source": [
        "<td>"
      ],
      "id": "d8396d31-11d7-4143-b654-1a5eba017623"
    },
    {
      "cell_type": "markdown",
      "metadata": {},
      "source": [
        "<a href=\"/wiki/Football_Club_de_Metz\" title=\"Football Club de Metz\">FC Metz</a>"
      ],
      "id": "1b8c90d9-6cf0-46c3-b6a8-97634032d9e2"
    },
    {
      "cell_type": "raw",
      "metadata": {
        "raw_mimetype": "text/html"
      },
      "source": [
        "</td>"
      ],
      "id": "9d8a5129-a4b1-4f06-bf6b-efd1c6fb95d0"
    },
    {
      "cell_type": "raw",
      "metadata": {
        "raw_mimetype": "text/html"
      },
      "source": [
        "<td>"
      ],
      "id": "d445c594-aa57-437e-ac4b-271d95ff420f"
    },
    {
      "cell_type": "markdown",
      "metadata": {},
      "source": [
        "2019"
      ],
      "id": "7429a7c3-69eb-4d53-9825-b7b7a19669d7"
    },
    {
      "cell_type": "raw",
      "metadata": {
        "raw_mimetype": "text/html"
      },
      "source": [
        "</td>"
      ],
      "id": "f612ca81-2fc9-4fef-b502-dc7c81163bdc"
    },
    {
      "cell_type": "raw",
      "metadata": {
        "raw_mimetype": "text/html"
      },
      "source": [
        "<td>"
      ],
      "id": "5947881d-d664-44ff-91e8-15c433260f03"
    },
    {
      "cell_type": "markdown",
      "metadata": {},
      "source": [
        "40"
      ],
      "id": "daf18c95-3617-4ee6-a4f2-a29e58858a03"
    },
    {
      "cell_type": "raw",
      "metadata": {
        "raw_mimetype": "text/html"
      },
      "source": [
        "</td>"
      ],
      "id": "21f5b994-64dd-42f5-b58e-cd62959f0991"
    },
    {
      "cell_type": "raw",
      "metadata": {
        "raw_mimetype": "text/html"
      },
      "source": [
        "<td>"
      ],
      "id": "bb41facc-890c-41e1-9f5c-afb2480df9d9"
    },
    {
      "cell_type": "markdown",
      "metadata": {},
      "source": [
        "<span data-sort-value=\"201 !\"></span><abbr class=\"abbr\" title=\"Premier\">1<sup>er</sup></abbr> (<a class=\"mw-redirect\" href=\"/wiki/Championnat_de_France_de_football_de_Ligue_2_2018-2019\" title=\"Championnat de France de football de Ligue 2 2018-2019\">Ligue 2</a>)"
      ],
      "id": "c824bc50-ea48-4e7b-a86e-327fefdb3e40"
    },
    {
      "cell_type": "raw",
      "metadata": {
        "raw_mimetype": "text/html"
      },
      "source": [
        "</td>"
      ],
      "id": "f5485384-8fd8-455a-af83-b77e0fd2916b"
    },
    {
      "cell_type": "raw",
      "metadata": {
        "raw_mimetype": "text/html"
      },
      "source": [
        "<td align=\"left\">"
      ],
      "id": "f231045f-773e-4e31-836d-1ea855e1431c"
    },
    {
      "cell_type": "markdown",
      "metadata": {},
      "source": [
        "<span class=\"flagicon\"><a class=\"image\" href=\"/wiki/Fichier:Flag_of_France.svg\" title=\"Drapeau : France\"><img alt=\"\" class=\"noviewer thumbborder\" data-file-height=\"600\" data-file-width=\"900\" decoding=\"async\" height=\"13\" src=\"//upload.wikimedia.org/wikipedia/commons/thumb/c/c3/Flag_of_France.svg/20px-Flag_of_France.svg.png\" srcset=\"//upload.wikimedia.org/wikipedia/commons/thumb/c/c3/Flag_of_France.svg/30px-Flag_of_France.svg.png 1.5x, //upload.wikimedia.org/wikipedia/commons/thumb/c/c3/Flag_of_France.svg/40px-Flag_of_France.svg.png 2x\" width=\"20\"/></a></span> <a href=\"/wiki/Vincent_Hognon\" title=\"Vincent Hognon\">Vincent Hognon</a>"
      ],
      "id": "ef3a5941-00a0-4082-bc3f-585941839e8c"
    },
    {
      "cell_type": "raw",
      "metadata": {
        "raw_mimetype": "text/html"
      },
      "source": [
        "</td>"
      ],
      "id": "b4135f30-2b58-4ecc-91de-2172dce0b8d7"
    },
    {
      "cell_type": "raw",
      "metadata": {
        "raw_mimetype": "text/html"
      },
      "source": [
        "<td>"
      ],
      "id": "967de8cb-7283-458e-a673-e45b4a74cb91"
    },
    {
      "cell_type": "markdown",
      "metadata": {},
      "source": [
        "2019"
      ],
      "id": "fc69d2a8-f03c-4c02-a0fa-7ce2baa01715"
    },
    {
      "cell_type": "raw",
      "metadata": {
        "raw_mimetype": "text/html"
      },
      "source": [
        "</td>"
      ],
      "id": "6014d228-9988-4f0d-b49a-04777314a580"
    },
    {
      "cell_type": "raw",
      "metadata": {
        "raw_mimetype": "text/html"
      },
      "source": [
        "<td>"
      ],
      "id": "f3a1e2f0-3d75-466e-b5f6-415246c2d925"
    },
    {
      "cell_type": "markdown",
      "metadata": {},
      "source": [
        "<a href=\"/wiki/Stade_Saint-Symphorien\" title=\"Stade Saint-Symphorien\">Stade Saint-Symphorien</a>"
      ],
      "id": "570e36ed-2a26-4b5d-b12e-27157b34ba6e"
    },
    {
      "cell_type": "raw",
      "metadata": {
        "raw_mimetype": "text/html"
      },
      "source": [
        "</td>"
      ],
      "id": "c33693ef-7240-4b33-bb99-9f842636e4bf"
    },
    {
      "cell_type": "raw",
      "metadata": {
        "raw_mimetype": "text/html"
      },
      "source": [
        "<td>"
      ],
      "id": "6b6bb871-a0a6-4bfb-b783-165dec6af58c"
    },
    {
      "cell_type": "markdown",
      "metadata": {},
      "source": [
        "25 865"
      ],
      "id": "982e4f10-d791-42b4-9237-8a6e2afb717f"
    },
    {
      "cell_type": "raw",
      "metadata": {
        "raw_mimetype": "text/html"
      },
      "source": [
        "</td>"
      ],
      "id": "0e6a5103-aaad-4776-a3ec-fa88b8c5ea57"
    },
    {
      "cell_type": "raw",
      "metadata": {
        "raw_mimetype": "text/html"
      },
      "source": [
        "<td>"
      ],
      "id": "3887b69a-6a25-42c8-8459-c96c5a35acab"
    },
    {
      "cell_type": "markdown",
      "metadata": {},
      "source": [
        "61"
      ],
      "id": "e4a7f201-34fb-482e-aab3-4d0f30ed69ee"
    },
    {
      "cell_type": "raw",
      "metadata": {
        "raw_mimetype": "text/html"
      },
      "source": [
        "</td>"
      ],
      "id": "ec725ca7-e911-480e-a580-5c3eb55d0d1d"
    },
    {
      "cell_type": "raw",
      "metadata": {
        "raw_mimetype": "text/html"
      },
      "source": [
        "</tr>"
      ],
      "id": "8528f6c2-a220-4667-9154-695000ddbf94"
    },
    {
      "cell_type": "raw",
      "metadata": {
        "raw_mimetype": "text/html"
      },
      "source": [
        "<tr bgcolor=\"#a8fca8\">"
      ],
      "id": "63bf9326-42d8-4a90-9c1c-efc57ba68487"
    },
    {
      "cell_type": "raw",
      "metadata": {
        "raw_mimetype": "text/html"
      },
      "source": [
        "<td>"
      ],
      "id": "bbf3c765-d3dd-45c9-b223-0625fc900789"
    },
    {
      "cell_type": "markdown",
      "metadata": {},
      "source": [
        "<a href=\"/wiki/Stade_brestois_29\" title=\"Stade brestois 29\">Stade brestois 29</a>"
      ],
      "id": "24f0e34d-b748-4174-87d9-ab6b0b67bd05"
    },
    {
      "cell_type": "raw",
      "metadata": {
        "raw_mimetype": "text/html"
      },
      "source": [
        "</td>"
      ],
      "id": "7399f924-3330-495e-a4ef-0a8d76ea133e"
    },
    {
      "cell_type": "raw",
      "metadata": {
        "raw_mimetype": "text/html"
      },
      "source": [
        "<td>"
      ],
      "id": "2c923009-60d0-40df-ba68-103491b4f760"
    },
    {
      "cell_type": "markdown",
      "metadata": {},
      "source": [
        "2019"
      ],
      "id": "e8c116b3-014f-4f64-85fa-f3923d781419"
    },
    {
      "cell_type": "raw",
      "metadata": {
        "raw_mimetype": "text/html"
      },
      "source": [
        "</td>"
      ],
      "id": "f3ddd1fd-5989-498b-99a3-cbb3ddf3423b"
    },
    {
      "cell_type": "raw",
      "metadata": {
        "raw_mimetype": "text/html"
      },
      "source": [
        "<td>"
      ],
      "id": "a09fb8e8-1168-4c1a-8f57-5910a1a16650"
    },
    {
      "cell_type": "markdown",
      "metadata": {},
      "source": [
        "30"
      ],
      "id": "a717d082-c2e0-43fd-bfbb-cf4e8522f43d"
    },
    {
      "cell_type": "raw",
      "metadata": {
        "raw_mimetype": "text/html"
      },
      "source": [
        "</td>"
      ],
      "id": "f1717dcd-5351-4344-81a2-c40ee6525eb5"
    },
    {
      "cell_type": "raw",
      "metadata": {
        "raw_mimetype": "text/html"
      },
      "source": [
        "<td>"
      ],
      "id": "c5c51387-6c0d-4bfd-8a65-25c1df3f96dc"
    },
    {
      "cell_type": "markdown",
      "metadata": {},
      "source": [
        "<span data-sort-value=\"202 !\"></span><abbr class=\"abbr\" title=\"Deuxième\">2<sup>e</sup></abbr> (<a class=\"mw-redirect\" href=\"/wiki/Championnat_de_France_de_football_de_Ligue_2_2018-2019\" title=\"Championnat de France de football de Ligue 2 2018-2019\">Ligue 2</a>)"
      ],
      "id": "cffbde30-b7e1-4c3c-ba9e-3fd7cf78345a"
    },
    {
      "cell_type": "raw",
      "metadata": {
        "raw_mimetype": "text/html"
      },
      "source": [
        "</td>"
      ],
      "id": "e5f7a356-b18a-4305-ae60-bbbd3c011f3a"
    },
    {
      "cell_type": "raw",
      "metadata": {
        "raw_mimetype": "text/html"
      },
      "source": [
        "<td align=\"left\">"
      ],
      "id": "7176ffc7-2ffc-44d6-97f7-cee14e29bf1a"
    },
    {
      "cell_type": "markdown",
      "metadata": {},
      "source": [
        "<span class=\"flagicon\"><a class=\"image\" href=\"/wiki/Fichier:Flag_of_France.svg\" title=\"Drapeau : France\"><img alt=\"\" class=\"noviewer thumbborder\" data-file-height=\"600\" data-file-width=\"900\" decoding=\"async\" height=\"13\" src=\"//upload.wikimedia.org/wikipedia/commons/thumb/c/c3/Flag_of_France.svg/20px-Flag_of_France.svg.png\" srcset=\"//upload.wikimedia.org/wikipedia/commons/thumb/c/c3/Flag_of_France.svg/30px-Flag_of_France.svg.png 1.5x, //upload.wikimedia.org/wikipedia/commons/thumb/c/c3/Flag_of_France.svg/40px-Flag_of_France.svg.png 2x\" width=\"20\"/></a></span> <a href=\"/wiki/Olivier_Dall%27Oglio\" title=\"Olivier Dall'Oglio\">Olivier Dall’Oglio</a>"
      ],
      "id": "56d30d41-17e8-4044-a7f0-3b90230e6a4b"
    },
    {
      "cell_type": "raw",
      "metadata": {
        "raw_mimetype": "text/html"
      },
      "source": [
        "</td>"
      ],
      "id": "514aa8bf-1c7c-4cc0-8a9d-d3cc2eaeafa0"
    },
    {
      "cell_type": "raw",
      "metadata": {
        "raw_mimetype": "text/html"
      },
      "source": [
        "<td>"
      ],
      "id": "4395a18e-caf3-40ff-ab0d-5e3dd8d12618"
    },
    {
      "cell_type": "markdown",
      "metadata": {},
      "source": [
        "2019"
      ],
      "id": "5aebdf3e-3ab7-4032-b629-49b77650bf5a"
    },
    {
      "cell_type": "raw",
      "metadata": {
        "raw_mimetype": "text/html"
      },
      "source": [
        "</td>"
      ],
      "id": "43c21da9-f098-46f9-bfad-f4b02fe18842"
    },
    {
      "cell_type": "raw",
      "metadata": {
        "raw_mimetype": "text/html"
      },
      "source": [
        "<td>"
      ],
      "id": "f1025f72-6312-4b79-8faa-557488ee8b30"
    },
    {
      "cell_type": "markdown",
      "metadata": {},
      "source": [
        "<a href=\"/wiki/Stade_Francis-Le_Bl%C3%A9\" title=\"Stade Francis-Le Blé\">Stade Francis-Le Blé</a>"
      ],
      "id": "abefbab7-91c9-4dde-a812-dedb1eb5a84e"
    },
    {
      "cell_type": "raw",
      "metadata": {
        "raw_mimetype": "text/html"
      },
      "source": [
        "</td>"
      ],
      "id": "e534ab8f-7a6d-4065-8582-44882ed50137"
    },
    {
      "cell_type": "raw",
      "metadata": {
        "raw_mimetype": "text/html"
      },
      "source": [
        "<td>"
      ],
      "id": "dfdf85c5-8620-4698-8966-33b797d5c24e"
    },
    {
      "cell_type": "markdown",
      "metadata": {},
      "source": [
        "14 920"
      ],
      "id": "0cea6508-87e0-478a-b1e9-f4fc6f305f11"
    },
    {
      "cell_type": "raw",
      "metadata": {
        "raw_mimetype": "text/html"
      },
      "source": [
        "</td>"
      ],
      "id": "cca22d70-f1f1-47f7-9cd5-1840b2768699"
    },
    {
      "cell_type": "raw",
      "metadata": {
        "raw_mimetype": "text/html"
      },
      "source": [
        "<td>"
      ],
      "id": "73fe7c7d-c4e8-4dab-8b39-15e43d78f2cc"
    },
    {
      "cell_type": "markdown",
      "metadata": {},
      "source": [
        "13"
      ],
      "id": "df3c6458-8927-4387-96ca-dacc95124826"
    },
    {
      "cell_type": "raw",
      "metadata": {
        "raw_mimetype": "text/html"
      },
      "source": [
        "</td>"
      ],
      "id": "7078a1c3-8b9e-4f16-8e2b-ee954f61dbc0"
    },
    {
      "cell_type": "raw",
      "metadata": {
        "raw_mimetype": "text/html"
      },
      "source": [
        "</tr>"
      ],
      "id": "c05e4ed6-3ba7-4939-b19d-0e271f18c6c3"
    },
    {
      "cell_type": "raw",
      "metadata": {
        "raw_mimetype": "text/html"
      },
      "source": [
        "</tbody>"
      ],
      "id": "4c505b70-194b-415f-bee5-7bfbbf43377a"
    },
    {
      "cell_type": "raw",
      "metadata": {
        "raw_mimetype": "text/html"
      },
      "source": [
        "</table>"
      ],
      "id": "1756acf0-786d-448e-bce9-21810d007966"
    },
    {
      "cell_type": "markdown",
      "metadata": {},
      "source": [
        ":two:\n",
        "Récupérer chaque ligne du tableau"
      ],
      "id": "59ebaa70-b651-4044-a42c-5713c7bb699f"
    },
    {
      "cell_type": "code",
      "execution_count": 11,
      "metadata": {},
      "outputs": [
        {
          "output_type": "stream",
          "name": "stdout",
          "text": [
            "<tr>\n",
            "<th scope=\"col\">Club\n",
            "</th>\n",
            "<th scope=\"col\">Dernière<br/>montée\n",
            "</th>\n",
            "<th scope=\"col\">Budget<sup class=\"reference\" id=\"cite_ref-3\"><a href=\"#cite_note-3\"><span class=\"cite_crochet\">[</span>3<span class=\"cite_crochet\">]</span></a></sup><br/>en M<a href=\"/wiki/Euro\" title=\"Euro\">€</a>\n",
            "</th>\n",
            "<th scope=\"col\">Classement<br/><a href=\"/wiki/Championnat_de_France_de_football_2018-2019\" title=\"Championnat de France de football 2018-2019\">2018-2019</a>\n",
            "</th>\n",
            "<th scope=\"col\">Entraîneur\n",
            "</th>\n",
            "<th scope=\"col\">Depuis\n",
            "</th>\n",
            "<th scope=\"col\">Stade\n",
            "</th>\n",
            "<th scope=\"col\">Capacité<br/>en L1<sup class=\"reference\" id=\"cite_ref-4\"><a href=\"#cite_note-4\"><span class=\"cite_crochet\">[</span>4<span class=\"cite_crochet\">]</span></a></sup>\n",
            "</th>\n",
            "<th scope=\"col\">Nombre<br/>de saisons<br/>en L1\n",
            "</th></tr>"
          ]
        }
      ],
      "source": [
        "table_body = tableau_participants.find('tbody')\n",
        "\n",
        "# on recherche toutes les lignes du tableau avec la balise \"tr\"\n",
        "rows = table_body.find_all('tr')\n",
        "\n",
        "# on obtient une liste où chaque élément est une des lignes du tableau\n",
        "\n",
        "# par exemple la première ligne va correspondre aux entêtes de colonne\n",
        "print(rows[0])"
      ],
      "id": "3afcc295-4071-4618-92d1-e7fb34ce9dc8"
    },
    {
      "cell_type": "code",
      "execution_count": 12,
      "metadata": {},
      "outputs": [
        {
          "output_type": "stream",
          "name": "stdout",
          "text": [
            "<tr bgcolor=\"#97DEFF\">\n",
            "<td><a href=\"/wiki/Paris_Saint-Germain_Football_Club\" title=\"Paris Saint-Germain Football Club\">Paris Saint-Germain</a>\n",
            "</td>\n",
            "<td>1974\n",
            "</td>\n",
            "<td>637\n",
            "</td>\n",
            "<td><span data-sort-value=\"101 !\"></span><abbr class=\"abbr\" title=\"Premier\">1<sup>er</sup></abbr>\n",
            "</td>\n",
            "<td align=\"left\"><span class=\"flagicon\"><a class=\"image\" href=\"/wiki/Fichier:Flag_of_Germany.svg\" title=\"Drapeau : Allemagne\"><img alt=\"\" class=\"noviewer thumbborder\" data-file-height=\"600\" data-file-width=\"1000\" decoding=\"async\" height=\"12\" src=\"//upload.wikimedia.org/wikipedia/commons/thumb/b/ba/Flag_of_Germany.svg/20px-Flag_of_Germany.svg.png\" srcset=\"//upload.wikimedia.org/wikipedia/commons/thumb/b/ba/Flag_of_Germany.svg/30px-Flag_of_Germany.svg.png 1.5x, //upload.wikimedia.org/wikipedia/commons/thumb/b/ba/Flag_of_Germany.svg/40px-Flag_of_Germany.svg.png 2x\" width=\"20\"/></a></span> <a href=\"/wiki/Thomas_Tuchel\" title=\"Thomas Tuchel\">Thomas Tuchel</a>\n",
            "</td>\n",
            "<td>2018\n",
            "</td>\n",
            "<td><a href=\"/wiki/Parc_des_Princes\" title=\"Parc des Princes\">Parc des Princes</a>\n",
            "</td>\n",
            "<td>47 929\n",
            "</td>\n",
            "<td>46\n",
            "</td></tr>"
          ]
        }
      ],
      "source": [
        "# par exemple la seconde ligne va correspondre à la ligne du premier club présent dans le tableau\n",
        "\n",
        "print(rows[1])"
      ],
      "id": "0476b239-9998-4eb7-b328-a4d9f28bfd06"
    },
    {
      "cell_type": "markdown",
      "metadata": {},
      "source": [
        ":three:\n",
        "Nettoyer les sorties en ne gardant que le texte sur une ligne\n",
        "\n",
        "On va utiliser l’attribut `text` afin de se débarasser de toute la couche de HTML qu’on obtient à l’étape 2.\n",
        "\n",
        "Un exemple sur la ligne du premier club :\n",
        "- on commence par prendre toutes les cellules de cette ligne, avec la balise `td`.\n",
        "- on fait ensuite une boucle sur chacune des cellules et on ne garde que le texte de la cellule avec l’attribut `text`.\n",
        "- enfin, on applique la méthode `strip()` pour que le texte soit bien mis en forme (sans espace inutile etc)."
      ],
      "id": "e11e1973-4130-4caf-a7c2-9a35813d6b31"
    },
    {
      "cell_type": "code",
      "execution_count": 13,
      "metadata": {},
      "outputs": [
        {
          "output_type": "stream",
          "name": "stdout",
          "text": [
            "<td><a href=\"/wiki/Paris_Saint-Germain_Football_Club\" title=\"Paris Saint-Germain Football Club\">Paris Saint-Germain</a>\n",
            "</td>\n",
            "Paris Saint-Germain"
          ]
        }
      ],
      "source": [
        "cols = rows[1].find_all('td')\n",
        "print(cols[0])\n",
        "print(cols[0].text.strip())"
      ],
      "id": "c11881c0-9920-4835-8c39-ef0e6610aa3c"
    },
    {
      "cell_type": "code",
      "execution_count": 14,
      "metadata": {},
      "outputs": [
        {
          "output_type": "stream",
          "name": "stdout",
          "text": [
            "Paris Saint-Germain\n",
            "1974\n",
            "637\n",
            "1er\n",
            "Thomas Tuchel\n",
            "2018\n",
            "Parc des Princes\n",
            "47 929\n",
            "46"
          ]
        }
      ],
      "source": [
        "for ele in cols : \n",
        "    print(ele.text.strip())"
      ],
      "id": "4ce28279-149e-41b0-9cb3-829abad75045"
    },
    {
      "cell_type": "markdown",
      "metadata": {},
      "source": [
        ":four:\n",
        "Généraliser sur toutes les lignes"
      ],
      "id": "d027764a-c774-4018-bd38-1ed4f50c265e"
    },
    {
      "cell_type": "code",
      "execution_count": 15,
      "metadata": {},
      "outputs": [
        {
          "output_type": "stream",
          "name": "stdout",
          "text": [
            "[]\n",
            "['Paris Saint-Germain', '1974', '637', '1er', 'Thomas Tuchel', '2018', 'Parc des Princes', '47\\xa0929', '46']\n",
            "['LOSC Lille', '2000', '120', '2e', 'Christophe Galtier', '2017', 'Stade Pierre-Mauroy', '49\\xa0712', '59']\n",
            "['Olympique lyonnais', '1989', '310', '3e', 'Rudi Garcia', '2019', 'Groupama Stadium', '57\\xa0206', '60']\n",
            "['AS Saint-Étienne', '2004', '100', '4e', 'Claude Puel', '2019', 'Stade Geoffroy-Guichard', '41\\xa0965', '66']\n",
            "['Olympique de Marseille', '1996', '110', '5e', 'André Villas-Boas', '2019', 'Orange Vélodrome', '66\\xa0226', '69']\n",
            "['Montpellier HSC', '2009', '40', '6e', 'Michel Der Zakarian', '2017', 'Stade de la Mosson', '22\\xa0000', '27']\n",
            "['OGC Nice', '2002', '50', '7e', 'Patrick Vieira', '2018', 'Allianz Riviera', '35\\xa0596', '60']\n",
            "['Stade de Reims', '2018', '45', '8e', 'David Guion', '2017', 'Stade Auguste-Delaune', '20\\xa0546', '35']\n",
            "['Nîmes Olympique', '2018', '27', '9e', 'Bernard Blaquart', '2015', 'Stade des Costières', '15\\xa0788', '35']\n",
            "['Stade rennais FC', '1994', '65', '10e', 'Julien Stéphan', '2018', 'Roazhon Park', '29\\xa0194', '62']\n",
            "['RC Strasbourg Alsace', '2017', '43', '11e', 'Thierry Laurey', '2016', 'Stade de la Meinau', '26\\xa0109', '58']\n",
            "['FC Nantes', '2013', '70', '12e', 'Christian Gourcuff', '2019', 'Stade de la Beaujoire - Louis Fonteneau', '35\\xa0322', '51']\n",
            "['SCO d’Angers', '2015', '32', '13e', 'Stéphane Moulin', '2011', 'Stade Raymond-Kopa', '14\\xa0582', '27']\n",
            "['Girondins de Bordeaux', '1992', '70', '14e', 'Paulo Sousa', '2019', 'Matmut Atlantique', '42\\xa0115', '66']\n",
            "['Amiens SC', '2017', '30', '15e', 'Luka Elsner', '2019', 'Stade Crédit Agricole la Licorne', '12\\xa0999', '2']\n",
            "['Toulouse FC', '2003', '35', '16e', 'Denis Zanko', '2020', 'Stadium de Toulouse', '33\\xa0033', '32']\n",
            "['AS Monaco', '2013', '220', '17e', 'Robert Moreno', '2019', 'Stade Louis-II', '16\\xa0500', '60']\n",
            "['Dijon FCO', '2016', '38', '18e', 'Stéphane Jobard', '2019', 'Parc des Sports Gaston-Gérard', '15\\xa0459', '4']\n",
            "['FC Metz', '2019', '40', '1er (Ligue 2)', 'Vincent Hognon', '2019', 'Stade Saint-Symphorien', '25\\xa0865', '61']\n",
            "['Stade brestois 29', '2019', '30', '2e (Ligue 2)', \"Olivier Dall'Oglio\", '2019', 'Stade Francis-Le Blé', '14\\xa0920', '13']"
          ]
        }
      ],
      "source": [
        "for row in rows:\n",
        "    cols = row.find_all('td')\n",
        "    cols = [ele.text.strip() for ele in cols]\n",
        "    print(cols)"
      ],
      "id": "4288896a-3c2e-443d-aa92-22ea09ad5c3a"
    },
    {
      "cell_type": "markdown",
      "metadata": {},
      "source": [
        "On a bien réussi à avoir les informations contenues dans le tableau des participants du championnat.\n",
        "Mais la première ligne est étrange : c’est une liste vide …\n",
        "\n",
        "Il s’agit des en-têtes : elles sont reconnues par la balise `th` et non `td`.\n",
        "\n",
        "On va mettre tout le contenu dans un dictionnaire, pour le transformer ensuite en DataFrame pandas :"
      ],
      "id": "a5e43ed1-5b8a-4a43-bd7e-53e23ddab50c"
    },
    {
      "cell_type": "code",
      "execution_count": 16,
      "metadata": {},
      "outputs": [
        {
          "output_type": "display_data",
          "metadata": {},
          "data": {
            "text/plain": [
              "{'Paris Saint-Germain': ['1974',\n",
              "  '637',\n",
              "  '1er',\n",
              "  'Thomas Tuchel',\n",
              "  '2018',\n",
              "  'Parc des Princes',\n",
              "  '47\\xa0929',\n",
              "  '46'],\n",
              " 'LOSC Lille': ['2000',\n",
              "  '120',\n",
              "  '2e',\n",
              "  'Christophe Galtier',\n",
              "  '2017',\n",
              "  'Stade Pierre-Mauroy',\n",
              "  '49\\xa0712',\n",
              "  '59'],\n",
              " 'Olympique lyonnais': ['1989',\n",
              "  '310',\n",
              "  '3e',\n",
              "  'Rudi Garcia',\n",
              "  '2019',\n",
              "  'Groupama Stadium',\n",
              "  '57\\xa0206',\n",
              "  '60'],\n",
              " 'AS Saint-Étienne': ['2004',\n",
              "  '100',\n",
              "  '4e',\n",
              "  'Claude Puel',\n",
              "  '2019',\n",
              "  'Stade Geoffroy-Guichard',\n",
              "  '41\\xa0965',\n",
              "  '66'],\n",
              " 'Olympique de Marseille': ['1996',\n",
              "  '110',\n",
              "  '5e',\n",
              "  'André Villas-Boas',\n",
              "  '2019',\n",
              "  'Orange Vélodrome',\n",
              "  '66\\xa0226',\n",
              "  '69'],\n",
              " 'Montpellier HSC': ['2009',\n",
              "  '40',\n",
              "  '6e',\n",
              "  'Michel Der Zakarian',\n",
              "  '2017',\n",
              "  'Stade de la Mosson',\n",
              "  '22\\xa0000',\n",
              "  '27'],\n",
              " 'OGC Nice': ['2002',\n",
              "  '50',\n",
              "  '7e',\n",
              "  'Patrick Vieira',\n",
              "  '2018',\n",
              "  'Allianz Riviera',\n",
              "  '35\\xa0596',\n",
              "  '60'],\n",
              " 'Stade de Reims': ['2018',\n",
              "  '45',\n",
              "  '8e',\n",
              "  'David Guion',\n",
              "  '2017',\n",
              "  'Stade Auguste-Delaune',\n",
              "  '20\\xa0546',\n",
              "  '35'],\n",
              " 'Nîmes Olympique': ['2018',\n",
              "  '27',\n",
              "  '9e',\n",
              "  'Bernard Blaquart',\n",
              "  '2015',\n",
              "  'Stade des Costières',\n",
              "  '15\\xa0788',\n",
              "  '35'],\n",
              " 'Stade rennais FC': ['1994',\n",
              "  '65',\n",
              "  '10e',\n",
              "  'Julien Stéphan',\n",
              "  '2018',\n",
              "  'Roazhon Park',\n",
              "  '29\\xa0194',\n",
              "  '62'],\n",
              " 'RC Strasbourg Alsace': ['2017',\n",
              "  '43',\n",
              "  '11e',\n",
              "  'Thierry Laurey',\n",
              "  '2016',\n",
              "  'Stade de la Meinau',\n",
              "  '26\\xa0109',\n",
              "  '58'],\n",
              " 'FC Nantes': ['2013',\n",
              "  '70',\n",
              "  '12e',\n",
              "  'Christian Gourcuff',\n",
              "  '2019',\n",
              "  'Stade de la Beaujoire - Louis Fonteneau',\n",
              "  '35\\xa0322',\n",
              "  '51'],\n",
              " 'SCO d’Angers': ['2015',\n",
              "  '32',\n",
              "  '13e',\n",
              "  'Stéphane Moulin',\n",
              "  '2011',\n",
              "  'Stade Raymond-Kopa',\n",
              "  '14\\xa0582',\n",
              "  '27'],\n",
              " 'Girondins de Bordeaux': ['1992',\n",
              "  '70',\n",
              "  '14e',\n",
              "  'Paulo Sousa',\n",
              "  '2019',\n",
              "  'Matmut Atlantique',\n",
              "  '42\\xa0115',\n",
              "  '66'],\n",
              " 'Amiens SC': ['2017',\n",
              "  '30',\n",
              "  '15e',\n",
              "  'Luka Elsner',\n",
              "  '2019',\n",
              "  'Stade Crédit Agricole la Licorne',\n",
              "  '12\\xa0999',\n",
              "  '2'],\n",
              " 'Toulouse FC': ['2003',\n",
              "  '35',\n",
              "  '16e',\n",
              "  'Denis Zanko',\n",
              "  '2020',\n",
              "  'Stadium de Toulouse',\n",
              "  '33\\xa0033',\n",
              "  '32'],\n",
              " 'AS Monaco': ['2013',\n",
              "  '220',\n",
              "  '17e',\n",
              "  'Robert Moreno',\n",
              "  '2019',\n",
              "  'Stade Louis-II',\n",
              "  '16\\xa0500',\n",
              "  '60'],\n",
              " 'Dijon FCO': ['2016',\n",
              "  '38',\n",
              "  '18e',\n",
              "  'Stéphane Jobard',\n",
              "  '2019',\n",
              "  'Parc des Sports Gaston-Gérard',\n",
              "  '15\\xa0459',\n",
              "  '4'],\n",
              " 'FC Metz': ['2019',\n",
              "  '40',\n",
              "  '1er (Ligue 2)',\n",
              "  'Vincent Hognon',\n",
              "  '2019',\n",
              "  'Stade Saint-Symphorien',\n",
              "  '25\\xa0865',\n",
              "  '61'],\n",
              " 'Stade brestois 29': ['2019',\n",
              "  '30',\n",
              "  '2e (Ligue 2)',\n",
              "  \"Olivier Dall'Oglio\",\n",
              "  '2019',\n",
              "  'Stade Francis-Le Blé',\n",
              "  '14\\xa0920',\n",
              "  '13']}"
            ]
          }
        }
      ],
      "source": [
        "dico_participants = dict()\n",
        "for row in rows:\n",
        "    cols = row.find_all('td')\n",
        "    cols = [ele.text.strip() for ele in cols]\n",
        "    if len(cols) > 0 : \n",
        "        dico_participants[cols[0]] = cols[1:]\n",
        "dico_participants"
      ],
      "id": "f7fa98b3-6d1e-4333-b258-5aa8b5b123e0"
    },
    {
      "cell_type": "code",
      "execution_count": 17,
      "metadata": {},
      "outputs": [
        {
          "output_type": "display_data",
          "metadata": {},
          "data": {
            "text/html": [
              "<div>\n",
              "<style scoped>\n",
              "    .dataframe tbody tr th:only-of-type {\n",
              "        vertical-align: middle;\n",
              "    }\n",
              "\n",
              "    .dataframe tbody tr th {\n",
              "        vertical-align: top;\n",
              "    }\n",
              "\n",
              "    .dataframe thead th {\n",
              "        text-align: right;\n",
              "    }\n",
              "</style>\n",
              "<table border=\"1\" class=\"dataframe\">\n",
              "  <thead>\n",
              "    <tr style=\"text-align: right;\">\n",
              "      <th></th>\n",
              "      <th>0</th>\n",
              "      <th>1</th>\n",
              "      <th>2</th>\n",
              "      <th>3</th>\n",
              "      <th>4</th>\n",
              "      <th>5</th>\n",
              "      <th>6</th>\n",
              "      <th>7</th>\n",
              "    </tr>\n",
              "  </thead>\n",
              "  <tbody>\n",
              "    <tr>\n",
              "      <th>Paris Saint-Germain</th>\n",
              "      <td>1974</td>\n",
              "      <td>637</td>\n",
              "      <td>1er</td>\n",
              "      <td>Thomas Tuchel</td>\n",
              "      <td>2018</td>\n",
              "      <td>Parc des Princes</td>\n",
              "      <td>47 929</td>\n",
              "      <td>46</td>\n",
              "    </tr>\n",
              "    <tr>\n",
              "      <th>LOSC Lille</th>\n",
              "      <td>2000</td>\n",
              "      <td>120</td>\n",
              "      <td>2e</td>\n",
              "      <td>Christophe Galtier</td>\n",
              "      <td>2017</td>\n",
              "      <td>Stade Pierre-Mauroy</td>\n",
              "      <td>49 712</td>\n",
              "      <td>59</td>\n",
              "    </tr>\n",
              "    <tr>\n",
              "      <th>Olympique lyonnais</th>\n",
              "      <td>1989</td>\n",
              "      <td>310</td>\n",
              "      <td>3e</td>\n",
              "      <td>Rudi Garcia</td>\n",
              "      <td>2019</td>\n",
              "      <td>Groupama Stadium</td>\n",
              "      <td>57 206</td>\n",
              "      <td>60</td>\n",
              "    </tr>\n",
              "    <tr>\n",
              "      <th>AS Saint-Étienne</th>\n",
              "      <td>2004</td>\n",
              "      <td>100</td>\n",
              "      <td>4e</td>\n",
              "      <td>Claude Puel</td>\n",
              "      <td>2019</td>\n",
              "      <td>Stade Geoffroy-Guichard</td>\n",
              "      <td>41 965</td>\n",
              "      <td>66</td>\n",
              "    </tr>\n",
              "    <tr>\n",
              "      <th>Olympique de Marseille</th>\n",
              "      <td>1996</td>\n",
              "      <td>110</td>\n",
              "      <td>5e</td>\n",
              "      <td>André Villas-Boas</td>\n",
              "      <td>2019</td>\n",
              "      <td>Orange Vélodrome</td>\n",
              "      <td>66 226</td>\n",
              "      <td>69</td>\n",
              "    </tr>\n",
              "  </tbody>\n",
              "</table>\n",
              "</div>"
            ]
          }
        }
      ],
      "source": [
        "data_participants = pandas.DataFrame.from_dict(dico_participants,orient='index')\n",
        "data_participants.head()"
      ],
      "id": "15490658-477a-4156-815d-31fe8a299bb6"
    },
    {
      "cell_type": "markdown",
      "metadata": {},
      "source": [
        ":five:\n",
        "Récupérer les entêtes du tableau"
      ],
      "id": "dd75668a-aa65-4082-84ed-2cecda85417e"
    },
    {
      "cell_type": "code",
      "execution_count": 18,
      "metadata": {},
      "outputs": [
        {
          "output_type": "stream",
          "name": "stdout",
          "text": [
            "[<th scope=\"col\">Club\n",
            "</th>, <th scope=\"col\">Dernière<br/>montée\n",
            "</th>, <th scope=\"col\">Budget<sup class=\"reference\" id=\"cite_ref-3\"><a href=\"#cite_note-3\"><span class=\"cite_crochet\">[</span>3<span class=\"cite_crochet\">]</span></a></sup><br/>en M<a href=\"/wiki/Euro\" title=\"Euro\">€</a>\n",
            "</th>, <th scope=\"col\">Classement<br/><a href=\"/wiki/Championnat_de_France_de_football_2018-2019\" title=\"Championnat de France de football 2018-2019\">2018-2019</a>\n",
            "</th>, <th scope=\"col\">Entraîneur\n",
            "</th>, <th scope=\"col\">Depuis\n",
            "</th>, <th scope=\"col\">Stade\n",
            "</th>, <th scope=\"col\">Capacité<br/>en L1<sup class=\"reference\" id=\"cite_ref-4\"><a href=\"#cite_note-4\"><span class=\"cite_crochet\">[</span>4<span class=\"cite_crochet\">]</span></a></sup>\n",
            "</th>, <th scope=\"col\">Nombre<br/>de saisons<br/>en L1\n",
            "</th>]\n",
            "[]\n",
            "[]\n",
            "[]\n",
            "[]\n",
            "[]\n",
            "[]\n",
            "[]\n",
            "[]\n",
            "[]\n",
            "[]\n",
            "[]\n",
            "[]\n",
            "[]\n",
            "[]\n",
            "[]\n",
            "[]\n",
            "[]\n",
            "[]\n",
            "[]\n",
            "[]"
          ]
        }
      ],
      "source": [
        "for row in rows:\n",
        "    cols = row.find_all('th')\n",
        "    print(cols)\n",
        "    if len(cols) > 0 : \n",
        "        cols = [ele.get_text(separator=' ').strip().title() for ele in cols]\n",
        "        columns_participants = cols"
      ],
      "id": "3a68e087-f9ed-4184-ab6f-ed822088888b"
    },
    {
      "cell_type": "code",
      "execution_count": 19,
      "metadata": {},
      "outputs": [
        {
          "output_type": "display_data",
          "metadata": {},
          "data": {
            "text/plain": [
              "['Club',\n",
              " 'Dernière Montée',\n",
              " 'Budget [ 3 ] En M €',\n",
              " 'Classement 2018-2019',\n",
              " 'Entraîneur',\n",
              " 'Depuis',\n",
              " 'Stade',\n",
              " 'Capacité En L1 [ 4 ]',\n",
              " 'Nombre De Saisons En L1']"
            ]
          }
        }
      ],
      "source": [
        "columns_participants"
      ],
      "id": "cc18db65-c92f-4db3-9bce-d5549051d33b"
    },
    {
      "cell_type": "markdown",
      "metadata": {},
      "source": [
        ":six: Finalisation du tableau"
      ],
      "id": "c4dddc7e-5717-4ba8-b908-ddc86243ad4e"
    },
    {
      "cell_type": "code",
      "execution_count": 21,
      "metadata": {},
      "outputs": [],
      "source": [
        "data_participants.columns = columns_participants[1:]"
      ],
      "id": "d9d05c3e-2a54-4195-9f3b-5c1890d685c5"
    },
    {
      "cell_type": "code",
      "execution_count": 22,
      "metadata": {},
      "outputs": [
        {
          "output_type": "display_data",
          "metadata": {},
          "data": {
            "text/html": [
              "<div>\n",
              "<style scoped>\n",
              "    .dataframe tbody tr th:only-of-type {\n",
              "        vertical-align: middle;\n",
              "    }\n",
              "\n",
              "    .dataframe tbody tr th {\n",
              "        vertical-align: top;\n",
              "    }\n",
              "\n",
              "    .dataframe thead th {\n",
              "        text-align: right;\n",
              "    }\n",
              "</style>\n",
              "<table border=\"1\" class=\"dataframe\">\n",
              "  <thead>\n",
              "    <tr style=\"text-align: right;\">\n",
              "      <th></th>\n",
              "      <th>Dernière Montée</th>\n",
              "      <th>Budget [ 3 ] En M €</th>\n",
              "      <th>Classement 2018-2019</th>\n",
              "      <th>Entraîneur</th>\n",
              "      <th>Depuis</th>\n",
              "      <th>Stade</th>\n",
              "      <th>Capacité En L1 [ 4 ]</th>\n",
              "      <th>Nombre De Saisons En L1</th>\n",
              "    </tr>\n",
              "  </thead>\n",
              "  <tbody>\n",
              "    <tr>\n",
              "      <th>Paris Saint-Germain</th>\n",
              "      <td>1974</td>\n",
              "      <td>637</td>\n",
              "      <td>1er</td>\n",
              "      <td>Thomas Tuchel</td>\n",
              "      <td>2018</td>\n",
              "      <td>Parc des Princes</td>\n",
              "      <td>47 929</td>\n",
              "      <td>46</td>\n",
              "    </tr>\n",
              "    <tr>\n",
              "      <th>LOSC Lille</th>\n",
              "      <td>2000</td>\n",
              "      <td>120</td>\n",
              "      <td>2e</td>\n",
              "      <td>Christophe Galtier</td>\n",
              "      <td>2017</td>\n",
              "      <td>Stade Pierre-Mauroy</td>\n",
              "      <td>49 712</td>\n",
              "      <td>59</td>\n",
              "    </tr>\n",
              "    <tr>\n",
              "      <th>Olympique lyonnais</th>\n",
              "      <td>1989</td>\n",
              "      <td>310</td>\n",
              "      <td>3e</td>\n",
              "      <td>Rudi Garcia</td>\n",
              "      <td>2019</td>\n",
              "      <td>Groupama Stadium</td>\n",
              "      <td>57 206</td>\n",
              "      <td>60</td>\n",
              "    </tr>\n",
              "    <tr>\n",
              "      <th>AS Saint-Étienne</th>\n",
              "      <td>2004</td>\n",
              "      <td>100</td>\n",
              "      <td>4e</td>\n",
              "      <td>Claude Puel</td>\n",
              "      <td>2019</td>\n",
              "      <td>Stade Geoffroy-Guichard</td>\n",
              "      <td>41 965</td>\n",
              "      <td>66</td>\n",
              "    </tr>\n",
              "    <tr>\n",
              "      <th>Olympique de Marseille</th>\n",
              "      <td>1996</td>\n",
              "      <td>110</td>\n",
              "      <td>5e</td>\n",
              "      <td>André Villas-Boas</td>\n",
              "      <td>2019</td>\n",
              "      <td>Orange Vélodrome</td>\n",
              "      <td>66 226</td>\n",
              "      <td>69</td>\n",
              "    </tr>\n",
              "  </tbody>\n",
              "</table>\n",
              "</div>"
            ]
          }
        }
      ],
      "source": [
        "data_participants.head()"
      ],
      "id": "99c49420-6160-455b-803f-791700b0a813"
    },
    {
      "cell_type": "markdown",
      "metadata": {},
      "source": [
        "## Pour aller plus loin\n",
        "\n",
        "### Récupération des localisations des stades\n",
        "\n",
        "Essayez de comprendre pas à pas ce qui est fait dans les étapes qui suivent (la récupération d’informations supplémentaires en naviguant dans les pages des différents clubs)."
      ],
      "id": "7dda2b74-1aee-4cce-93ae-602cb5bf252f"
    },
    {
      "cell_type": "code",
      "execution_count": 23,
      "metadata": {},
      "outputs": [
        {
          "output_type": "stream",
          "name": "stdout",
          "text": [
            "http://fr.wikipedia.org/wiki/Championnat_de_France_de_football_2019-2020"
          ]
        },
        {
          "output_type": "stream",
          "name": "stdout",
          "text": [
            "http://fr.wikipedia.org/wiki/Paris_Saint-Germain_Football_Club"
          ]
        },
        {
          "output_type": "stream",
          "name": "stdout",
          "text": [
            "http://fr.wikipedia.org/wiki/Parc_des_Princes"
          ]
        },
        {
          "output_type": "stream",
          "name": "stdout",
          "text": [
            "48° 50′ 29″ N, 2° 15′ 11″ E\n",
            "http://fr.wikipedia.org/wiki/LOSC_Lille"
          ]
        },
        {
          "output_type": "stream",
          "name": "stdout",
          "text": [
            "http://fr.wikipedia.org/wiki/Stade_Pierre-Mauroy"
          ]
        },
        {
          "output_type": "stream",
          "name": "stdout",
          "text": [
            "50° 36′ 43″ N, 3° 07′ 50″ E\n",
            "http://fr.wikipedia.org/wiki/Olympique_lyonnais"
          ]
        },
        {
          "output_type": "stream",
          "name": "stdout",
          "text": [
            "http://fr.wikipedia.org/wiki/Parc_Olympique_lyonnais"
          ]
        },
        {
          "output_type": "stream",
          "name": "stdout",
          "text": [
            "45° 45′ 55″ N, 4° 58′ 55″ E\n",
            "http://fr.wikipedia.org/wiki/Association_sportive_de_Saint-%C3%89tienne"
          ]
        },
        {
          "output_type": "stream",
          "name": "stdout",
          "text": [
            "http://fr.wikipedia.org/wiki/Stade_Geoffroy-Guichard"
          ]
        },
        {
          "output_type": "stream",
          "name": "stdout",
          "text": [
            "45° 27′ 39″ N, 4° 23′ 25″ E\n",
            "http://fr.wikipedia.org/wiki/Olympique_de_Marseille"
          ]
        },
        {
          "output_type": "stream",
          "name": "stdout",
          "text": [
            "http://fr.wikipedia.org/wiki/Orange_V%C3%A9lodrome"
          ]
        },
        {
          "output_type": "stream",
          "name": "stdout",
          "text": [
            "43° 16′ 11″ N, 5° 23′ 45″ E\n",
            "http://fr.wikipedia.org/wiki/Montpellier_H%C3%A9rault_Sport_Club"
          ]
        },
        {
          "output_type": "stream",
          "name": "stdout",
          "text": [
            "http://fr.wikipedia.org/wiki/Stade_de_la_Mosson"
          ]
        },
        {
          "output_type": "stream",
          "name": "stdout",
          "text": [
            "43° 37′ 19″ N, 3° 48′ 44″ E\n",
            "http://fr.wikipedia.org/wiki/Stade_de_Reims"
          ]
        },
        {
          "output_type": "stream",
          "name": "stdout",
          "text": [
            "http://fr.wikipedia.org/wiki/Stade_Auguste-Delaune"
          ]
        },
        {
          "output_type": "stream",
          "name": "stdout",
          "text": [
            "49° 14′ 48″ N, 4° 01′ 30″ E\n",
            "http://fr.wikipedia.org/wiki/Olympique_Gymnaste_Club_Nice"
          ]
        },
        {
          "output_type": "stream",
          "name": "stdout",
          "text": [
            "http://fr.wikipedia.org/wiki/Allianz_Riviera"
          ]
        },
        {
          "output_type": "stream",
          "name": "stdout",
          "text": [
            "43° 42′ 18″ N, 7° 11′ 33″ E\n",
            "http://fr.wikipedia.org/wiki/N%C3%AEmes_Olympique"
          ]
        },
        {
          "output_type": "stream",
          "name": "stdout",
          "text": [
            "http://fr.wikipedia.org/wiki/Stade_des_Costi%C3%A8res"
          ]
        },
        {
          "output_type": "stream",
          "name": "stdout",
          "text": [
            "43° 48′ 58″ N, 4° 21′ 33″ E\n",
            "http://fr.wikipedia.org/wiki/Racing_Club_de_Strasbourg_Alsace"
          ]
        },
        {
          "output_type": "stream",
          "name": "stdout",
          "text": [
            "http://fr.wikipedia.org/wiki/Stade_de_la_Meinau"
          ]
        },
        {
          "output_type": "stream",
          "name": "stdout",
          "text": [
            "48° 33′ 36″ N, 7° 45′ 18″ E\n",
            "http://fr.wikipedia.org/wiki/Stade_rennais_Football_Club"
          ]
        },
        {
          "output_type": "stream",
          "name": "stdout",
          "text": [
            "http://fr.wikipedia.org/wiki/Roazhon_Park"
          ]
        },
        {
          "output_type": "stream",
          "name": "stdout",
          "text": [
            "48° 06′ 27″ N, 1° 42′ 46″ O\n",
            "http://fr.wikipedia.org/wiki/Angers_sporting_club_de_l%27Ouest"
          ]
        },
        {
          "output_type": "stream",
          "name": "stdout",
          "text": [
            "http://fr.wikipedia.org/wiki/Stade_Raymond-Kopa"
          ]
        },
        {
          "output_type": "stream",
          "name": "stdout",
          "text": [
            "47° 27′ 38″ N, 0° 31′ 51″ O\n",
            "http://fr.wikipedia.org/wiki/Football_Club_de_Metz"
          ]
        },
        {
          "output_type": "stream",
          "name": "stdout",
          "text": [
            "http://fr.wikipedia.org/wiki/Stade_Saint-Symphorien"
          ]
        },
        {
          "output_type": "stream",
          "name": "stdout",
          "text": [
            "49° 06′ 35″ N, 6° 09′ 33″ E\n",
            "http://fr.wikipedia.org/wiki/Football_Club_de_Nantes"
          ]
        },
        {
          "output_type": "stream",
          "name": "stdout",
          "text": [
            "http://fr.wikipedia.org/wiki/Stade_de_la_Beaujoire"
          ]
        },
        {
          "output_type": "stream",
          "name": "stdout",
          "text": [
            "47° 15′ 20″ N, 1° 31′ 31″ O\n",
            "http://fr.wikipedia.org/wiki/Stade_brestois_29"
          ]
        },
        {
          "output_type": "stream",
          "name": "stdout",
          "text": [
            "http://fr.wikipedia.org/wiki/Stade_Francis-Le_Bl%C3%A9"
          ]
        },
        {
          "output_type": "stream",
          "name": "stdout",
          "text": [
            "48° 24′ 11″ N, 4° 27′ 42″ O\n",
            "http://fr.wikipedia.org/wiki/Football_Club_des_Girondins_de_Bordeaux"
          ]
        },
        {
          "output_type": "stream",
          "name": "stdout",
          "text": [
            "http://fr.wikipedia.org/wiki/Matmut_Atlantique"
          ]
        },
        {
          "output_type": "stream",
          "name": "stdout",
          "text": [
            "44° 53′ 50″ N, 0° 33′ 41″ O\n",
            "http://fr.wikipedia.org/wiki/Toulouse_Football_Club"
          ]
        },
        {
          "output_type": "stream",
          "name": "stdout",
          "text": [
            "http://fr.wikipedia.org/wiki/Stadium_de_Toulouse"
          ]
        },
        {
          "output_type": "stream",
          "name": "stdout",
          "text": [
            "43° 35′ 00″ N, 1° 26′ 03″ E\n",
            "http://fr.wikipedia.org/wiki/Amiens_Sporting_Club"
          ]
        },
        {
          "output_type": "stream",
          "name": "stdout",
          "text": [
            "http://fr.wikipedia.org/wiki/Stade_de_la_Licorne"
          ]
        },
        {
          "output_type": "stream",
          "name": "stdout",
          "text": [
            "49° 53′ 38″ N, 2° 15′ 49″ E\n",
            "http://fr.wikipedia.org/wiki/Association_sportive_de_Monaco_football_club"
          ]
        },
        {
          "output_type": "stream",
          "name": "stdout",
          "text": [
            "http://fr.wikipedia.org/wiki/Stade_Louis-II"
          ]
        },
        {
          "output_type": "stream",
          "name": "stdout",
          "text": [
            "43° 43′ 39″ N, 7° 24′ 56″ E\n",
            "http://fr.wikipedia.org/wiki/Dijon_Football_C%C3%B4te-d%27Or"
          ]
        },
        {
          "output_type": "stream",
          "name": "stdout",
          "text": [
            "http://fr.wikipedia.org/wiki/Stade_Gaston-G%C3%A9rard"
          ]
        },
        {
          "output_type": "stream",
          "name": "stdout",
          "text": [
            "47° 19′ 28″ N, 5° 04′ 06″ E\n",
            "http://fr.wikipedia.org/wiki/Championnat_de_France_de_football_de_Ligue_2_2019-2020"
          ]
        },
        {
          "output_type": "stream",
          "name": "stdout",
          "text": [
            "http://fr.wikipedia.org/wiki/Athletic_Club_ajaccien"
          ]
        },
        {
          "output_type": "stream",
          "name": "stdout",
          "text": [
            "http://fr.wikipedia.org/wiki/Stade_Fran%C3%A7ois-Coty\n",
            "41° 55′ 51″ N, 8° 46′ 35″ E\n",
            "http://fr.wikipedia.org/wiki/Association_sportive_Nancy-Lorraine"
          ]
        },
        {
          "output_type": "stream",
          "name": "stdout",
          "text": [
            "http://fr.wikipedia.org/wiki/Stade_Marcel-Picot"
          ]
        },
        {
          "output_type": "stream",
          "name": "stdout",
          "text": [
            "48° 41′ 43″ N, 6° 12′ 38″ E\n",
            "http://fr.wikipedia.org/wiki/Le_Havre_Athletic_Club_(football)"
          ]
        },
        {
          "output_type": "stream",
          "name": "stdout",
          "text": [
            "http://fr.wikipedia.org/wiki/Stade_Oc%C3%A9ane"
          ]
        },
        {
          "output_type": "stream",
          "name": "stdout",
          "text": [
            "49° 29′ 56″ N, 0° 10′ 11″ E\n",
            "http://fr.wikipedia.org/wiki/Stade_Malherbe_Caen_Calvados_Basse-Normandie"
          ]
        },
        {
          "output_type": "stream",
          "name": "stdout",
          "text": [
            "http://fr.wikipedia.org/wiki/Stade_Michel-d%27Ornano"
          ]
        },
        {
          "output_type": "stream",
          "name": "stdout",
          "text": [
            "49° 10′ 46″ N, 0° 23′ 48″ O\n",
            "http://fr.wikipedia.org/wiki/Clermont_Foot_63"
          ]
        },
        {
          "output_type": "stream",
          "name": "stdout",
          "text": [
            "http://fr.wikipedia.org/wiki/Stade_Gabriel-Montpied\n",
            "45° 48′ 57″ N, 3° 07′ 18″ E\n",
            "http://fr.wikipedia.org/wiki/En_Avant_de_Guingamp"
          ]
        },
        {
          "output_type": "stream",
          "name": "stdout",
          "text": [
            "http://fr.wikipedia.org/wiki/Stade_de_Roudourou"
          ]
        },
        {
          "output_type": "stream",
          "name": "stdout",
          "text": [
            "48° 33′ 58″ N, 3° 09′ 52″ O\n",
            "http://fr.wikipedia.org/wiki/Football_Club_Lorient"
          ]
        },
        {
          "output_type": "stream",
          "name": "stdout",
          "text": [
            "http://fr.wikipedia.org/wiki/Stade_du_Moustoir"
          ]
        },
        {
          "output_type": "stream",
          "name": "stdout",
          "text": [
            "47° 44′ 56″ N, 3° 22′ 09″ O\n",
            "http://fr.wikipedia.org/wiki/Paris_Football_Club"
          ]
        },
        {
          "output_type": "stream",
          "name": "stdout",
          "text": [
            "http://fr.wikipedia.org/wiki/Stade_Charl%C3%A9ty"
          ]
        },
        {
          "output_type": "stream",
          "name": "stdout",
          "text": [
            "48° 49′ 07″ N, 2° 20′ 47″ E\n",
            "http://fr.wikipedia.org/wiki/La_Berrichonne_de_Ch%C3%A2teauroux"
          ]
        },
        {
          "output_type": "stream",
          "name": "stdout",
          "text": [
            "http://fr.wikipedia.org/wiki/Stade_Gaston-Petit\n",
            "46° 48′ 07″ N, 1° 43′ 18″ E"
          ]
        },
        {
          "output_type": "stream",
          "name": "stdout",
          "text": [
            "http://fr.wikipedia.org/wiki/Association_de_la_jeunesse_auxerroise"
          ]
        },
        {
          "output_type": "stream",
          "name": "stdout",
          "text": [
            "http://fr.wikipedia.org/wiki/Stade_de_l%27Abb%C3%A9-Deschamps"
          ]
        },
        {
          "output_type": "stream",
          "name": "stdout",
          "text": [
            "47° 47′ 12″ N, 3° 35′ 19″ E\n",
            "http://fr.wikipedia.org/wiki/Union_sportive_Orl%C3%A9ans_Loiret_football"
          ]
        },
        {
          "output_type": "stream",
          "name": "stdout",
          "text": [
            "http://fr.wikipedia.org/wiki/Stade_de_la_Source\n",
            "47° 50′ 25″ N, 1° 56′ 28″ E\n",
            "http://fr.wikipedia.org/wiki/Valenciennes_Football_Club"
          ]
        },
        {
          "output_type": "stream",
          "name": "stdout",
          "text": [
            "http://fr.wikipedia.org/wiki/Stade_du_Hainaut"
          ]
        },
        {
          "output_type": "stream",
          "name": "stdout",
          "text": [
            "50° 20′ 55″ N, 3° 31′ 56″ E\n",
            "http://fr.wikipedia.org/wiki/Chamois_niortais_Football_Club"
          ]
        },
        {
          "output_type": "stream",
          "name": "stdout",
          "text": [
            "http://fr.wikipedia.org/wiki/Stade_Ren%C3%A9-Gaillard"
          ]
        },
        {
          "output_type": "stream",
          "name": "stdout",
          "text": [
            "46° 19′ 01″ N, 0° 29′ 21″ O\n",
            "http://fr.wikipedia.org/wiki/Grenoble_Foot_38"
          ]
        },
        {
          "output_type": "stream",
          "name": "stdout",
          "text": [
            "http://fr.wikipedia.org/wiki/Stade_des_Alpes"
          ]
        },
        {
          "output_type": "stream",
          "name": "stdout",
          "text": [
            "45° 11′ 15″ N, 5° 44′ 24″ E\n",
            "http://fr.wikipedia.org/wiki/Football_Club_Sochaux-Montb%C3%A9liard"
          ]
        },
        {
          "output_type": "stream",
          "name": "stdout",
          "text": [
            "http://fr.wikipedia.org/wiki/Stade_Auguste-Bonal\n",
            "47° 30′ 44″ N, 6° 48′ 41″ E\n",
            "http://fr.wikipedia.org/wiki/Rodez_Aveyron_Football"
          ]
        },
        {
          "output_type": "stream",
          "name": "stdout",
          "text": [
            "http://fr.wikipedia.org/wiki/Stade_Paul-Lignon\n",
            "44° 21′ 06″ N, 2° 33′ 49″ E\n",
            "http://fr.wikipedia.org/wiki/Football_Club_de_Chambly_Oise"
          ]
        },
        {
          "output_type": "stream",
          "name": "stdout",
          "text": [
            "http://fr.wikipedia.org/wiki/Stade_Walter_Luzi\n",
            "49° 10′ 45″ N, 2° 14′ 01″ E\n",
            "http://fr.wikipedia.org/wiki/Esp%C3%A9rance_sportive_Troyes_Aube_Champagne"
          ]
        },
        {
          "output_type": "stream",
          "name": "stdout",
          "text": [
            "http://fr.wikipedia.org/wiki/Stade_de_l%27Aube\n",
            "48° 18′ 27″ N, 4° 05′ 55″ E\n",
            "http://fr.wikipedia.org/wiki/Racing_Club_de_Lens"
          ]
        },
        {
          "output_type": "stream",
          "name": "stdout",
          "text": [
            "http://fr.wikipedia.org/wiki/Stade_Bollaert-Delelis"
          ]
        },
        {
          "output_type": "stream",
          "name": "stdout",
          "text": [
            "50° 25′ 58″ N, 2° 48′ 54″ E\n",
            "http://fr.wikipedia.org/wiki/Le_Mans_Football_Club"
          ]
        },
        {
          "output_type": "stream",
          "name": "stdout",
          "text": [
            "http://fr.wikipedia.org/w/index.php?title=Stade_Marie_Marvingt&action=edit&redlink=1"
          ]
        }
      ],
      "source": [
        "import urllib\n",
        "import pandas as pd\n",
        "import bs4 \n",
        "\n",
        "division=[]\n",
        "equipe=[]\n",
        "stade=[]\n",
        "latitude_stade=[]        \n",
        "longitude_stade=[]     \n",
        "\n",
        "def dms2dd(degrees, minutes, seconds, direction):\n",
        "    dd = float(degrees) + float(minutes)/60 + float(seconds)/(60*60);\n",
        "    if direction == 'S' or direction == 'O':\n",
        "        dd *= -1\n",
        "    return dd;\n",
        "\n",
        "url_list=[\"http://fr.wikipedia.org/wiki/Championnat_de_France_de_football_2019-2020\", \"http://fr.wikipedia.org/wiki/Championnat_de_France_de_football_de_Ligue_2_2019-2020\"]\n",
        "\n",
        "for url_ligue in url_list :\n",
        "       \n",
        "    print(url_ligue)\n",
        "    sock = urllib.request.urlopen(url_ligue).read() \n",
        "    page=bs4.BeautifulSoup(sock)\n",
        "\n",
        "# Rechercher les liens des équipes dans la liste disponible sur wikipedia \n",
        "\n",
        "    for team in page.findAll('span' , {'class' : 'toponyme'}) :  \n",
        "        \n",
        "        # Indiquer si c'est de la ligue 1 ou de la ligue 2\n",
        "        \n",
        "        if url_ligue==url_list[0] :\n",
        "            division.append(\"L1\")\n",
        "        else :\n",
        "            division.append(\"L2\")\n",
        "\n",
        "       # Trouver le nom et le lien de l'équipe\n",
        "            \n",
        "        if team.find('a')!=None :\n",
        "            team_url=team.find('a').get('href')\n",
        "            name_team=team.find('a').get('title')\n",
        "            equipe.append(name_team)\n",
        "            url_get_info = \"http://fr.wikipedia.org\"+team_url\n",
        "            print(url_get_info)\n",
        " \n",
        "       # aller sur la page de l'équipe\n",
        "           \n",
        "            search = urllib.request.urlopen(url_get_info).read()\n",
        "            search_team=bs4.BeautifulSoup(search)\n",
        "\n",
        "       # trouver le stade             \n",
        "            compteur = 0\n",
        "            for stadium in search_team.findAll('tr'):\n",
        "                for x in stadium.findAll('th' , {'scope' : 'row'} ) :\n",
        "                    if x.contents[0].string==\"Stade\" and compteur == 0:\n",
        "                        compteur = 1\n",
        "                        # trouver le lien du stade et son nom\n",
        "                        url_stade=stadium.findAll('a')[1].get('href')\n",
        "                        name_stadium=stadium.findAll('a')[1].get('title')\n",
        "                        stade.append(name_stadium)\n",
        "                        url_get_stade = \"http://fr.wikipedia.org\"+url_stade\n",
        "                        print(url_get_stade)\n",
        "                        \n",
        "                        # Aller sur la page du stade et trouver ses coodronnées géographiques\n",
        "                        \n",
        "                        search_stade = urllib.request.urlopen(url_get_stade).read()\n",
        "                        soup_stade=bs4.BeautifulSoup(search_stade) \n",
        "                        kartographer = soup_stade.find('a',{'class': \"mw-kartographer-maplink\"})\n",
        "                        if kartographer == None :\n",
        "                          latitude_stade.append(None)\n",
        "                          longitude_stade.append(None) \n",
        "                        else :\n",
        "                            for coordinates in kartographer :\n",
        "                                print(coordinates)\n",
        "                                liste =   coordinates.split(\",\")          \n",
        "                                latitude_stade.append(str(liste[0]).replace(\" \", \"\") + \"'\")\n",
        "                                longitude_stade.append(str(liste[1]).replace(\" \", \"\") + \"'\")\n",
        "                            \n",
        "\n",
        "dict = {'division' : division , 'equipe': equipe, 'stade': stade, 'latitude': latitude_stade, 'longitude' : longitude_stade}\n",
        "data = pd.DataFrame(dict)\n",
        "data = data.dropna()"
      ],
      "id": "7fe3a149-b90e-496e-b421-bdd1caf8e6c8"
    },
    {
      "cell_type": "code",
      "execution_count": 24,
      "metadata": {},
      "outputs": [
        {
          "output_type": "display_data",
          "metadata": {},
          "data": {
            "text/html": [
              "<div>\n",
              "<style scoped>\n",
              "    .dataframe tbody tr th:only-of-type {\n",
              "        vertical-align: middle;\n",
              "    }\n",
              "\n",
              "    .dataframe tbody tr th {\n",
              "        vertical-align: top;\n",
              "    }\n",
              "\n",
              "    .dataframe thead th {\n",
              "        text-align: right;\n",
              "    }\n",
              "</style>\n",
              "<table border=\"1\" class=\"dataframe\">\n",
              "  <thead>\n",
              "    <tr style=\"text-align: right;\">\n",
              "      <th></th>\n",
              "      <th>division</th>\n",
              "      <th>equipe</th>\n",
              "      <th>stade</th>\n",
              "      <th>latitude</th>\n",
              "      <th>longitude</th>\n",
              "    </tr>\n",
              "  </thead>\n",
              "  <tbody>\n",
              "    <tr>\n",
              "      <th>0</th>\n",
              "      <td>L1</td>\n",
              "      <td>Paris Saint-Germain Football Club</td>\n",
              "      <td>Parc des Princes</td>\n",
              "      <td>48° 50′ 29″ N'</td>\n",
              "      <td>2° 15′ 11″ E'</td>\n",
              "    </tr>\n",
              "    <tr>\n",
              "      <th>1</th>\n",
              "      <td>L1</td>\n",
              "      <td>LOSC Lille</td>\n",
              "      <td>Stade Pierre-Mauroy</td>\n",
              "      <td>50° 36′ 43″ N'</td>\n",
              "      <td>3° 07′ 50″ E'</td>\n",
              "    </tr>\n",
              "    <tr>\n",
              "      <th>2</th>\n",
              "      <td>L1</td>\n",
              "      <td>Olympique lyonnais</td>\n",
              "      <td>Parc Olympique lyonnais</td>\n",
              "      <td>45° 45′ 55″ N'</td>\n",
              "      <td>4° 58′ 55″ E'</td>\n",
              "    </tr>\n",
              "    <tr>\n",
              "      <th>3</th>\n",
              "      <td>L1</td>\n",
              "      <td>Association sportive de Saint-Étienne</td>\n",
              "      <td>Stade Geoffroy-Guichard</td>\n",
              "      <td>45° 27′ 39″ N'</td>\n",
              "      <td>4° 23′ 25″ E'</td>\n",
              "    </tr>\n",
              "    <tr>\n",
              "      <th>4</th>\n",
              "      <td>L1</td>\n",
              "      <td>Olympique de Marseille</td>\n",
              "      <td>Orange Vélodrome</td>\n",
              "      <td>43° 16′ 11″ N'</td>\n",
              "      <td>5° 23′ 45″ E'</td>\n",
              "    </tr>\n",
              "  </tbody>\n",
              "</table>\n",
              "</div>"
            ]
          }
        }
      ],
      "source": [
        "data.head(5)"
      ],
      "id": "f180f7b4-4f01-4212-b9aa-f73608e1b5ad"
    },
    {
      "cell_type": "markdown",
      "metadata": {},
      "source": [
        "On va transformer les coordonnées en degrés en coordonnées numériques\n",
        "afin d’être en mesure de faire une carte"
      ],
      "id": "98cf9817-964c-4b27-9c80-313922538395"
    },
    {
      "cell_type": "code",
      "execution_count": 25,
      "metadata": {},
      "outputs": [],
      "source": [
        "import re\n",
        "\n",
        "def dms2dd(degrees, minutes, seconds, direction):\n",
        "    dd = float(degrees) + float(minutes)/60 + float(seconds)/(60*60);\n",
        "    if direction in ('S', 'O'):\n",
        "        dd *= -1\n",
        "    return dd\n",
        "\n",
        "def parse_dms(dms):\n",
        "    parts = re.split('[^\\d\\w]+', dms)\n",
        "    lat = dms2dd(parts[0], parts[1], parts[2], parts[3])\n",
        "    #lng = dms2dd(parts[4], parts[5], parts[6], parts[7])\n",
        "    return lat"
      ],
      "id": "e32c65cc-a98b-4df4-9721-f09dad767c96"
    },
    {
      "cell_type": "code",
      "execution_count": 26,
      "metadata": {},
      "outputs": [],
      "source": [
        "data['latitude'] = data['latitude'].apply(parse_dms)\n",
        "data['longitude'] = data['longitude'].apply(parse_dms)"
      ],
      "id": "1177a3ad-c471-45ee-98ff-f1697cc7e622"
    },
    {
      "cell_type": "markdown",
      "metadata": {},
      "source": [
        "Tous les éléments sont en place pour faire une belle carte à ce stade. On\n",
        "va utilisee `folium` pour celle-ci, qui est présenté dans la partie\n",
        "[visualisation](#cartotp).\n",
        "\n",
        "### Carte des stades avec `folium`"
      ],
      "id": "2d6657e4-5474-469c-ab76-3ab09d8f9f59"
    },
    {
      "cell_type": "code",
      "execution_count": 27,
      "metadata": {},
      "outputs": [],
      "source": [
        "#!pip install geopandas\n",
        "import geopandas as gpd\n",
        "from pathlib import Path\n",
        "import folium\n",
        "\n",
        "gdf = gpd.GeoDataFrame(\n",
        "    data, geometry=gpd.points_from_xy(data.longitude, data.latitude))\n",
        "\n",
        "Path(\"leaflet\").mkdir(parents=True, exist_ok=True)\n",
        "\n",
        "center = gdf[['latitude', 'longitude']].mean().values.tolist()\n",
        "sw = gdf[['latitude', 'longitude']].min().values.tolist()\n",
        "ne = gdf[['latitude', 'longitude']].max().values.tolist()\n",
        "\n",
        "m = folium.Map(location = center, tiles='Stamen Toner')\n",
        "\n",
        "# I can add marker one by one on the map\n",
        "for i in range(0,len(gdf)):\n",
        "    folium.Marker([gdf.iloc[i]['latitude'], gdf.iloc[i]['longitude']], popup=gdf.iloc[i]['stade']).add_to(m) \n",
        "\n",
        "m.fit_bounds([sw, ne])"
      ],
      "id": "6843a2ce-061d-4296-bb83-792deb073874"
    },
    {
      "cell_type": "markdown",
      "metadata": {},
      "source": [
        "La carte obtenue doit ressembler à la suivante:\n",
        "\n",
        "{{< rawhtml >}}"
      ],
      "id": "c1eff6b1-abf1-40bb-9b13-d25d519af09e"
    },
    {
      "cell_type": "code",
      "execution_count": 28,
      "metadata": {},
      "outputs": [
        {
          "output_type": "display_data",
          "metadata": {},
          "data": {
            "text/html": [
              "<div style=\"width:100%;\"><div style=\"position:relative;width:100%;height:0;padding-bottom:60%;\"><span style=\"color:#565656\">Make this Notebook Trusted to load map: File -> Trust Notebook</span><iframe srcdoc=\"&lt;!DOCTYPE html&gt;\n",
              "&lt;head&gt;    \n",
              "    &lt;meta http-equiv=&quot;content-type&quot; content=&quot;text/html; charset=UTF-8&quot; /&gt;\n",
              "    \n",
              "        &lt;script&gt;\n",
              "            L_NO_TOUCH = false;\n",
              "            L_DISABLE_3D = false;\n",
              "        &lt;/script&gt;\n",
              "    \n",
              "    &lt;style&gt;html, body {width: 100%;height: 100%;margin: 0;padding: 0;}&lt;/style&gt;\n",
              "    &lt;style&gt;#map {position:absolute;top:0;bottom:0;right:0;left:0;}&lt;/style&gt;\n",
              "    &lt;script src=&quot;https://cdn.jsdelivr.net/npm/leaflet@1.6.0/dist/leaflet.js&quot;&gt;&lt;/script&gt;\n",
              "    &lt;script src=&quot;https://code.jquery.com/jquery-1.12.4.min.js&quot;&gt;&lt;/script&gt;\n",
              "    &lt;script src=&quot;https://maxcdn.bootstrapcdn.com/bootstrap/3.2.0/js/bootstrap.min.js&quot;&gt;&lt;/script&gt;\n",
              "    &lt;script src=&quot;https://cdnjs.cloudflare.com/ajax/libs/Leaflet.awesome-markers/2.0.2/leaflet.awesome-markers.js&quot;&gt;&lt;/script&gt;\n",
              "    &lt;link rel=&quot;stylesheet&quot; href=&quot;https://cdn.jsdelivr.net/npm/leaflet@1.6.0/dist/leaflet.css&quot;/&gt;\n",
              "    &lt;link rel=&quot;stylesheet&quot; href=&quot;https://maxcdn.bootstrapcdn.com/bootstrap/3.2.0/css/bootstrap.min.css&quot;/&gt;\n",
              "    &lt;link rel=&quot;stylesheet&quot; href=&quot;https://maxcdn.bootstrapcdn.com/bootstrap/3.2.0/css/bootstrap-theme.min.css&quot;/&gt;\n",
              "    &lt;link rel=&quot;stylesheet&quot; href=&quot;https://maxcdn.bootstrapcdn.com/font-awesome/4.6.3/css/font-awesome.min.css&quot;/&gt;\n",
              "    &lt;link rel=&quot;stylesheet&quot; href=&quot;https://cdnjs.cloudflare.com/ajax/libs/Leaflet.awesome-markers/2.0.2/leaflet.awesome-markers.css&quot;/&gt;\n",
              "    &lt;link rel=&quot;stylesheet&quot; href=&quot;https://cdn.jsdelivr.net/gh/python-visualization/folium/folium/templates/leaflet.awesome.rotate.min.css&quot;/&gt;\n",
              "    \n",
              "            &lt;meta name=&quot;viewport&quot; content=&quot;width=device-width,\n",
              "                initial-scale=1.0, maximum-scale=1.0, user-scalable=no&quot; /&gt;\n",
              "            &lt;style&gt;\n",
              "                #map_6985928774d5e00dd92b0f098fba20a4 {\n",
              "                    position: relative;\n",
              "                    width: 100.0%;\n",
              "                    height: 100.0%;\n",
              "                    left: 0.0%;\n",
              "                    top: 0.0%;\n",
              "                }\n",
              "            &lt;/style&gt;\n",
              "        \n",
              "&lt;/head&gt;\n",
              "&lt;body&gt;    \n",
              "    \n",
              "            &lt;div class=&quot;folium-map&quot; id=&quot;map_6985928774d5e00dd92b0f098fba20a4&quot; &gt;&lt;/div&gt;\n",
              "        \n",
              "&lt;/body&gt;\n",
              "&lt;script&gt;    \n",
              "    \n",
              "            var map_6985928774d5e00dd92b0f098fba20a4 = L.map(\n",
              "                &quot;map_6985928774d5e00dd92b0f098fba20a4&quot;,\n",
              "                {\n",
              "                    center: [47.10207264957264, 2.797321937321937],\n",
              "                    crs: L.CRS.EPSG3857,\n",
              "                    zoom: 10,\n",
              "                    zoomControl: true,\n",
              "                    preferCanvas: false,\n",
              "                }\n",
              "            );\n",
              "\n",
              "            \n",
              "\n",
              "        \n",
              "    \n",
              "            var tile_layer_ced71e52c231b5379a59d2ec7af5f6b7 = L.tileLayer(\n",
              "                &quot;https://stamen-tiles-{s}.a.ssl.fastly.net/toner/{z}/{x}/{y}.png&quot;,\n",
              "                {&quot;attribution&quot;: &quot;Map tiles by \\u003ca href=\\&quot;http://stamen.com\\&quot;\\u003eStamen Design\\u003c/a\\u003e, under \\u003ca href=\\&quot;http://creativecommons.org/licenses/by/3.0\\&quot;\\u003eCC BY 3.0\\u003c/a\\u003e. Data by \\u0026copy; \\u003ca href=\\&quot;http://openstreetmap.org\\&quot;\\u003eOpenStreetMap\\u003c/a\\u003e, under \\u003ca href=\\&quot;http://www.openstreetmap.org/copyright\\&quot;\\u003eODbL\\u003c/a\\u003e.&quot;, &quot;detectRetina&quot;: false, &quot;maxNativeZoom&quot;: 18, &quot;maxZoom&quot;: 18, &quot;minZoom&quot;: 0, &quot;noWrap&quot;: false, &quot;opacity&quot;: 1, &quot;subdomains&quot;: &quot;abc&quot;, &quot;tms&quot;: false}\n",
              "            ).addTo(map_6985928774d5e00dd92b0f098fba20a4);\n",
              "        \n",
              "    \n",
              "            var marker_3f8bf73da027de8a71466c3c6f07c4bc = L.marker(\n",
              "                [48.84138888888889, 2.2530555555555556],\n",
              "                {}\n",
              "            ).addTo(map_6985928774d5e00dd92b0f098fba20a4);\n",
              "        \n",
              "    \n",
              "        var popup_72ff4ddb8ac2926abd3befa609cc9d77 = L.popup({&quot;maxWidth&quot;: &quot;100%&quot;});\n",
              "\n",
              "        \n",
              "            var html_762f438198adf43120bb68f2f0e6b88d = $(`&lt;div id=&quot;html_762f438198adf43120bb68f2f0e6b88d&quot; style=&quot;width: 100.0%; height: 100.0%;&quot;&gt;Parc des Princes&lt;/div&gt;`)[0];\n",
              "            popup_72ff4ddb8ac2926abd3befa609cc9d77.setContent(html_762f438198adf43120bb68f2f0e6b88d);\n",
              "        \n",
              "\n",
              "        marker_3f8bf73da027de8a71466c3c6f07c4bc.bindPopup(popup_72ff4ddb8ac2926abd3befa609cc9d77)\n",
              "        ;\n",
              "\n",
              "        \n",
              "    \n",
              "    \n",
              "            var marker_f653317cc9a30aaaa2fba04e0e6d876f = L.marker(\n",
              "                [50.61194444444445, 3.1305555555555555],\n",
              "                {}\n",
              "            ).addTo(map_6985928774d5e00dd92b0f098fba20a4);\n",
              "        \n",
              "    \n",
              "        var popup_ebe84ddece37b8c89fb4bab2f1df65b6 = L.popup({&quot;maxWidth&quot;: &quot;100%&quot;});\n",
              "\n",
              "        \n",
              "            var html_5739a0c7bf5f6ab7398e4ed228e51bbb = $(`&lt;div id=&quot;html_5739a0c7bf5f6ab7398e4ed228e51bbb&quot; style=&quot;width: 100.0%; height: 100.0%;&quot;&gt;Stade Pierre-Mauroy&lt;/div&gt;`)[0];\n",
              "            popup_ebe84ddece37b8c89fb4bab2f1df65b6.setContent(html_5739a0c7bf5f6ab7398e4ed228e51bbb);\n",
              "        \n",
              "\n",
              "        marker_f653317cc9a30aaaa2fba04e0e6d876f.bindPopup(popup_ebe84ddece37b8c89fb4bab2f1df65b6)\n",
              "        ;\n",
              "\n",
              "        \n",
              "    \n",
              "    \n",
              "            var marker_2088cb0c0b764c457954f22a22b4279b = L.marker(\n",
              "                [45.765277777777776, 4.981944444444444],\n",
              "                {}\n",
              "            ).addTo(map_6985928774d5e00dd92b0f098fba20a4);\n",
              "        \n",
              "    \n",
              "        var popup_19167a755e14f9099d727ec47c9246af = L.popup({&quot;maxWidth&quot;: &quot;100%&quot;});\n",
              "\n",
              "        \n",
              "            var html_e3f9b873b65482210de9892708a9434f = $(`&lt;div id=&quot;html_e3f9b873b65482210de9892708a9434f&quot; style=&quot;width: 100.0%; height: 100.0%;&quot;&gt;Parc Olympique lyonnais&lt;/div&gt;`)[0];\n",
              "            popup_19167a755e14f9099d727ec47c9246af.setContent(html_e3f9b873b65482210de9892708a9434f);\n",
              "        \n",
              "\n",
              "        marker_2088cb0c0b764c457954f22a22b4279b.bindPopup(popup_19167a755e14f9099d727ec47c9246af)\n",
              "        ;\n",
              "\n",
              "        \n",
              "    \n",
              "    \n",
              "            var marker_17332136d22654ca20748f3c9948de58 = L.marker(\n",
              "                [45.46083333333333, 4.390277777777778],\n",
              "                {}\n",
              "            ).addTo(map_6985928774d5e00dd92b0f098fba20a4);\n",
              "        \n",
              "    \n",
              "        var popup_c8f367bd43af2e27426141cf57ba5243 = L.popup({&quot;maxWidth&quot;: &quot;100%&quot;});\n",
              "\n",
              "        \n",
              "            var html_77db2522d77f802dd69e5c5eeabaef64 = $(`&lt;div id=&quot;html_77db2522d77f802dd69e5c5eeabaef64&quot; style=&quot;width: 100.0%; height: 100.0%;&quot;&gt;Stade Geoffroy-Guichard&lt;/div&gt;`)[0];\n",
              "            popup_c8f367bd43af2e27426141cf57ba5243.setContent(html_77db2522d77f802dd69e5c5eeabaef64);\n",
              "        \n",
              "\n",
              "        marker_17332136d22654ca20748f3c9948de58.bindPopup(popup_c8f367bd43af2e27426141cf57ba5243)\n",
              "        ;\n",
              "\n",
              "        \n",
              "    \n",
              "    \n",
              "            var marker_1619abb0c546617b09916777f01d3e54 = L.marker(\n",
              "                [43.26972222222222, 5.395833333333334],\n",
              "                {}\n",
              "            ).addTo(map_6985928774d5e00dd92b0f098fba20a4);\n",
              "        \n",
              "    \n",
              "        var popup_64927e989e49f8baa12485454da544a2 = L.popup({&quot;maxWidth&quot;: &quot;100%&quot;});\n",
              "\n",
              "        \n",
              "            var html_dfdaaaf8da43d06b8bd5ccfc07c40ca2 = $(`&lt;div id=&quot;html_dfdaaaf8da43d06b8bd5ccfc07c40ca2&quot; style=&quot;width: 100.0%; height: 100.0%;&quot;&gt;Orange Vélodrome&lt;/div&gt;`)[0];\n",
              "            popup_64927e989e49f8baa12485454da544a2.setContent(html_dfdaaaf8da43d06b8bd5ccfc07c40ca2);\n",
              "        \n",
              "\n",
              "        marker_1619abb0c546617b09916777f01d3e54.bindPopup(popup_64927e989e49f8baa12485454da544a2)\n",
              "        ;\n",
              "\n",
              "        \n",
              "    \n",
              "    \n",
              "            var marker_2f2af09ba075d42138c89a871f69c163 = L.marker(\n",
              "                [43.621944444444445, 3.812222222222222],\n",
              "                {}\n",
              "            ).addTo(map_6985928774d5e00dd92b0f098fba20a4);\n",
              "        \n",
              "    \n",
              "        var popup_55c287ca696119df0e112fbb1e38890a = L.popup({&quot;maxWidth&quot;: &quot;100%&quot;});\n",
              "\n",
              "        \n",
              "            var html_49b25a431009af71d406856017997e3c = $(`&lt;div id=&quot;html_49b25a431009af71d406856017997e3c&quot; style=&quot;width: 100.0%; height: 100.0%;&quot;&gt;Stade de la Mosson&lt;/div&gt;`)[0];\n",
              "            popup_55c287ca696119df0e112fbb1e38890a.setContent(html_49b25a431009af71d406856017997e3c);\n",
              "        \n",
              "\n",
              "        marker_2f2af09ba075d42138c89a871f69c163.bindPopup(popup_55c287ca696119df0e112fbb1e38890a)\n",
              "        ;\n",
              "\n",
              "        \n",
              "    \n",
              "    \n",
              "            var marker_13155dc1cb83f5f3addf1bf3e713f9e1 = L.marker(\n",
              "                [49.24666666666667, 4.025],\n",
              "                {}\n",
              "            ).addTo(map_6985928774d5e00dd92b0f098fba20a4);\n",
              "        \n",
              "    \n",
              "        var popup_a8b0cb7d025b83d7c36c2b1969d03d9d = L.popup({&quot;maxWidth&quot;: &quot;100%&quot;});\n",
              "\n",
              "        \n",
              "            var html_6dba9ceb87627e71afe4944735cefdb8 = $(`&lt;div id=&quot;html_6dba9ceb87627e71afe4944735cefdb8&quot; style=&quot;width: 100.0%; height: 100.0%;&quot;&gt;Stade Auguste-Delaune&lt;/div&gt;`)[0];\n",
              "            popup_a8b0cb7d025b83d7c36c2b1969d03d9d.setContent(html_6dba9ceb87627e71afe4944735cefdb8);\n",
              "        \n",
              "\n",
              "        marker_13155dc1cb83f5f3addf1bf3e713f9e1.bindPopup(popup_a8b0cb7d025b83d7c36c2b1969d03d9d)\n",
              "        ;\n",
              "\n",
              "        \n",
              "    \n",
              "    \n",
              "            var marker_150f53e535ffc2a7603d2946cadd36ac = L.marker(\n",
              "                [43.705000000000005, 7.1925],\n",
              "                {}\n",
              "            ).addTo(map_6985928774d5e00dd92b0f098fba20a4);\n",
              "        \n",
              "    \n",
              "        var popup_b213d101e586d2a7c5abb5eb19a54228 = L.popup({&quot;maxWidth&quot;: &quot;100%&quot;});\n",
              "\n",
              "        \n",
              "            var html_426abb119bd401a1ae30e6dce95c8e3f = $(`&lt;div id=&quot;html_426abb119bd401a1ae30e6dce95c8e3f&quot; style=&quot;width: 100.0%; height: 100.0%;&quot;&gt;Allianz Riviera&lt;/div&gt;`)[0];\n",
              "            popup_b213d101e586d2a7c5abb5eb19a54228.setContent(html_426abb119bd401a1ae30e6dce95c8e3f);\n",
              "        \n",
              "\n",
              "        marker_150f53e535ffc2a7603d2946cadd36ac.bindPopup(popup_b213d101e586d2a7c5abb5eb19a54228)\n",
              "        ;\n",
              "\n",
              "        \n",
              "    \n",
              "    \n",
              "            var marker_1f46fbce3d81966048e785ef68dbb077 = L.marker(\n",
              "                [43.816111111111105, 4.359166666666666],\n",
              "                {}\n",
              "            ).addTo(map_6985928774d5e00dd92b0f098fba20a4);\n",
              "        \n",
              "    \n",
              "        var popup_5d5470928e2fedfb7ae84b8529916b3b = L.popup({&quot;maxWidth&quot;: &quot;100%&quot;});\n",
              "\n",
              "        \n",
              "            var html_edc8a8c4473547a69d035cac574c0622 = $(`&lt;div id=&quot;html_edc8a8c4473547a69d035cac574c0622&quot; style=&quot;width: 100.0%; height: 100.0%;&quot;&gt;Stade des Costières&lt;/div&gt;`)[0];\n",
              "            popup_5d5470928e2fedfb7ae84b8529916b3b.setContent(html_edc8a8c4473547a69d035cac574c0622);\n",
              "        \n",
              "\n",
              "        marker_1f46fbce3d81966048e785ef68dbb077.bindPopup(popup_5d5470928e2fedfb7ae84b8529916b3b)\n",
              "        ;\n",
              "\n",
              "        \n",
              "    \n",
              "    \n",
              "            var marker_10e73f01cde437b6da04cff919d154b7 = L.marker(\n",
              "                [48.559999999999995, 7.755],\n",
              "                {}\n",
              "            ).addTo(map_6985928774d5e00dd92b0f098fba20a4);\n",
              "        \n",
              "    \n",
              "        var popup_2a6656a255b172092c675f8c0ee3e399 = L.popup({&quot;maxWidth&quot;: &quot;100%&quot;});\n",
              "\n",
              "        \n",
              "            var html_9689402538c616ba2c817fdaae667cba = $(`&lt;div id=&quot;html_9689402538c616ba2c817fdaae667cba&quot; style=&quot;width: 100.0%; height: 100.0%;&quot;&gt;Stade de la Meinau&lt;/div&gt;`)[0];\n",
              "            popup_2a6656a255b172092c675f8c0ee3e399.setContent(html_9689402538c616ba2c817fdaae667cba);\n",
              "        \n",
              "\n",
              "        marker_10e73f01cde437b6da04cff919d154b7.bindPopup(popup_2a6656a255b172092c675f8c0ee3e399)\n",
              "        ;\n",
              "\n",
              "        \n",
              "    \n",
              "    \n",
              "            var marker_79348076a73488efaf996125670f7ffe = L.marker(\n",
              "                [48.1075, -1.7127777777777777],\n",
              "                {}\n",
              "            ).addTo(map_6985928774d5e00dd92b0f098fba20a4);\n",
              "        \n",
              "    \n",
              "        var popup_e5fbf42a08d86abe656b4025dc7b46d8 = L.popup({&quot;maxWidth&quot;: &quot;100%&quot;});\n",
              "\n",
              "        \n",
              "            var html_aacc8e3a0080667fb48c9f69d2692a09 = $(`&lt;div id=&quot;html_aacc8e3a0080667fb48c9f69d2692a09&quot; style=&quot;width: 100.0%; height: 100.0%;&quot;&gt;Roazhon Park&lt;/div&gt;`)[0];\n",
              "            popup_e5fbf42a08d86abe656b4025dc7b46d8.setContent(html_aacc8e3a0080667fb48c9f69d2692a09);\n",
              "        \n",
              "\n",
              "        marker_79348076a73488efaf996125670f7ffe.bindPopup(popup_e5fbf42a08d86abe656b4025dc7b46d8)\n",
              "        ;\n",
              "\n",
              "        \n",
              "    \n",
              "    \n",
              "            var marker_22a84c85dc654b73bbd44ff838b08562 = L.marker(\n",
              "                [47.46055555555556, -0.5308333333333334],\n",
              "                {}\n",
              "            ).addTo(map_6985928774d5e00dd92b0f098fba20a4);\n",
              "        \n",
              "    \n",
              "        var popup_99084dcfb9ff48e905cec5d5fc8c6d21 = L.popup({&quot;maxWidth&quot;: &quot;100%&quot;});\n",
              "\n",
              "        \n",
              "            var html_31c991852d0a416a49519aa71ea22cfd = $(`&lt;div id=&quot;html_31c991852d0a416a49519aa71ea22cfd&quot; style=&quot;width: 100.0%; height: 100.0%;&quot;&gt;Stade Raymond-Kopa&lt;/div&gt;`)[0];\n",
              "            popup_99084dcfb9ff48e905cec5d5fc8c6d21.setContent(html_31c991852d0a416a49519aa71ea22cfd);\n",
              "        \n",
              "\n",
              "        marker_22a84c85dc654b73bbd44ff838b08562.bindPopup(popup_99084dcfb9ff48e905cec5d5fc8c6d21)\n",
              "        ;\n",
              "\n",
              "        \n",
              "    \n",
              "    \n",
              "            var marker_6c7dfdaeed8aa979e50337f17e692b82 = L.marker(\n",
              "                [49.109722222222224, 6.159166666666667],\n",
              "                {}\n",
              "            ).addTo(map_6985928774d5e00dd92b0f098fba20a4);\n",
              "        \n",
              "    \n",
              "        var popup_d77c48e9a8e55128a988e3cd8fd2dd0f = L.popup({&quot;maxWidth&quot;: &quot;100%&quot;});\n",
              "\n",
              "        \n",
              "            var html_fbbcaf4fc16e3e27b9b7397f1d2ba074 = $(`&lt;div id=&quot;html_fbbcaf4fc16e3e27b9b7397f1d2ba074&quot; style=&quot;width: 100.0%; height: 100.0%;&quot;&gt;Stade Saint-Symphorien&lt;/div&gt;`)[0];\n",
              "            popup_d77c48e9a8e55128a988e3cd8fd2dd0f.setContent(html_fbbcaf4fc16e3e27b9b7397f1d2ba074);\n",
              "        \n",
              "\n",
              "        marker_6c7dfdaeed8aa979e50337f17e692b82.bindPopup(popup_d77c48e9a8e55128a988e3cd8fd2dd0f)\n",
              "        ;\n",
              "\n",
              "        \n",
              "    \n",
              "    \n",
              "            var marker_dc260db50655473a04a60f298f6579c4 = L.marker(\n",
              "                [47.25555555555555, -1.5252777777777777],\n",
              "                {}\n",
              "            ).addTo(map_6985928774d5e00dd92b0f098fba20a4);\n",
              "        \n",
              "    \n",
              "        var popup_a80f0da7a4298d36600c526c46462878 = L.popup({&quot;maxWidth&quot;: &quot;100%&quot;});\n",
              "\n",
              "        \n",
              "            var html_193e30b7db01e7fbc24746df42c8427f = $(`&lt;div id=&quot;html_193e30b7db01e7fbc24746df42c8427f&quot; style=&quot;width: 100.0%; height: 100.0%;&quot;&gt;Stade de la Beaujoire&lt;/div&gt;`)[0];\n",
              "            popup_a80f0da7a4298d36600c526c46462878.setContent(html_193e30b7db01e7fbc24746df42c8427f);\n",
              "        \n",
              "\n",
              "        marker_dc260db50655473a04a60f298f6579c4.bindPopup(popup_a80f0da7a4298d36600c526c46462878)\n",
              "        ;\n",
              "\n",
              "        \n",
              "    \n",
              "    \n",
              "            var marker_6aebfa82dee702790c2ff2384cbe4f37 = L.marker(\n",
              "                [48.403055555555554, -4.461666666666667],\n",
              "                {}\n",
              "            ).addTo(map_6985928774d5e00dd92b0f098fba20a4);\n",
              "        \n",
              "    \n",
              "        var popup_21186ca53cca496cc4ba42e711b6714c = L.popup({&quot;maxWidth&quot;: &quot;100%&quot;});\n",
              "\n",
              "        \n",
              "            var html_020d17ccf594e5f9cd4ce3f0b67e35cb = $(`&lt;div id=&quot;html_020d17ccf594e5f9cd4ce3f0b67e35cb&quot; style=&quot;width: 100.0%; height: 100.0%;&quot;&gt;Stade Francis-Le Blé&lt;/div&gt;`)[0];\n",
              "            popup_21186ca53cca496cc4ba42e711b6714c.setContent(html_020d17ccf594e5f9cd4ce3f0b67e35cb);\n",
              "        \n",
              "\n",
              "        marker_6aebfa82dee702790c2ff2384cbe4f37.bindPopup(popup_21186ca53cca496cc4ba42e711b6714c)\n",
              "        ;\n",
              "\n",
              "        \n",
              "    \n",
              "    \n",
              "            var marker_262d77065c71a70ff5df7f4798150c3c = L.marker(\n",
              "                [44.89722222222222, -0.5613888888888889],\n",
              "                {}\n",
              "            ).addTo(map_6985928774d5e00dd92b0f098fba20a4);\n",
              "        \n",
              "    \n",
              "        var popup_5b475e032a3f6fa26720dd150a98791a = L.popup({&quot;maxWidth&quot;: &quot;100%&quot;});\n",
              "\n",
              "        \n",
              "            var html_70a49141bb26bedb8e17db38b94fb389 = $(`&lt;div id=&quot;html_70a49141bb26bedb8e17db38b94fb389&quot; style=&quot;width: 100.0%; height: 100.0%;&quot;&gt;Matmut Atlantique&lt;/div&gt;`)[0];\n",
              "            popup_5b475e032a3f6fa26720dd150a98791a.setContent(html_70a49141bb26bedb8e17db38b94fb389);\n",
              "        \n",
              "\n",
              "        marker_262d77065c71a70ff5df7f4798150c3c.bindPopup(popup_5b475e032a3f6fa26720dd150a98791a)\n",
              "        ;\n",
              "\n",
              "        \n",
              "    \n",
              "    \n",
              "            var marker_1e03e34fe9fe653d4a71497987493a7a = L.marker(\n",
              "                [43.583333333333336, 1.4341666666666666],\n",
              "                {}\n",
              "            ).addTo(map_6985928774d5e00dd92b0f098fba20a4);\n",
              "        \n",
              "    \n",
              "        var popup_229be0781814692a7a5a267ffcd0ac27 = L.popup({&quot;maxWidth&quot;: &quot;100%&quot;});\n",
              "\n",
              "        \n",
              "            var html_c1d581a61790416fabcd65c21c0f9670 = $(`&lt;div id=&quot;html_c1d581a61790416fabcd65c21c0f9670&quot; style=&quot;width: 100.0%; height: 100.0%;&quot;&gt;Stadium de Toulouse&lt;/div&gt;`)[0];\n",
              "            popup_229be0781814692a7a5a267ffcd0ac27.setContent(html_c1d581a61790416fabcd65c21c0f9670);\n",
              "        \n",
              "\n",
              "        marker_1e03e34fe9fe653d4a71497987493a7a.bindPopup(popup_229be0781814692a7a5a267ffcd0ac27)\n",
              "        ;\n",
              "\n",
              "        \n",
              "    \n",
              "    \n",
              "            var marker_36a4ca00797285f2dbd99a512d325682 = L.marker(\n",
              "                [49.89388888888889, 2.263611111111111],\n",
              "                {}\n",
              "            ).addTo(map_6985928774d5e00dd92b0f098fba20a4);\n",
              "        \n",
              "    \n",
              "        var popup_6dcad5db459f56fe30ce458f1ea70fbd = L.popup({&quot;maxWidth&quot;: &quot;100%&quot;});\n",
              "\n",
              "        \n",
              "            var html_6da48a6cb5280ab3dc31ad00a1730b67 = $(`&lt;div id=&quot;html_6da48a6cb5280ab3dc31ad00a1730b67&quot; style=&quot;width: 100.0%; height: 100.0%;&quot;&gt;Stade de la Licorne&lt;/div&gt;`)[0];\n",
              "            popup_6dcad5db459f56fe30ce458f1ea70fbd.setContent(html_6da48a6cb5280ab3dc31ad00a1730b67);\n",
              "        \n",
              "\n",
              "        marker_36a4ca00797285f2dbd99a512d325682.bindPopup(popup_6dcad5db459f56fe30ce458f1ea70fbd)\n",
              "        ;\n",
              "\n",
              "        \n",
              "    \n",
              "    \n",
              "            var marker_7a5efb796869bf6656cc20a14403a527 = L.marker(\n",
              "                [43.7275, 7.415555555555556],\n",
              "                {}\n",
              "            ).addTo(map_6985928774d5e00dd92b0f098fba20a4);\n",
              "        \n",
              "    \n",
              "        var popup_075085805cd02f0eeaacf86a916d2f45 = L.popup({&quot;maxWidth&quot;: &quot;100%&quot;});\n",
              "\n",
              "        \n",
              "            var html_dab631724ce06de5c4adc0baa677ae2e = $(`&lt;div id=&quot;html_dab631724ce06de5c4adc0baa677ae2e&quot; style=&quot;width: 100.0%; height: 100.0%;&quot;&gt;Stade Louis-II&lt;/div&gt;`)[0];\n",
              "            popup_075085805cd02f0eeaacf86a916d2f45.setContent(html_dab631724ce06de5c4adc0baa677ae2e);\n",
              "        \n",
              "\n",
              "        marker_7a5efb796869bf6656cc20a14403a527.bindPopup(popup_075085805cd02f0eeaacf86a916d2f45)\n",
              "        ;\n",
              "\n",
              "        \n",
              "    \n",
              "    \n",
              "            var marker_4693856c609fade15496419c842e6e1a = L.marker(\n",
              "                [47.324444444444445, 5.068333333333333],\n",
              "                {}\n",
              "            ).addTo(map_6985928774d5e00dd92b0f098fba20a4);\n",
              "        \n",
              "    \n",
              "        var popup_766fd57444ad0e5009a431968e723275 = L.popup({&quot;maxWidth&quot;: &quot;100%&quot;});\n",
              "\n",
              "        \n",
              "            var html_4969ea75f8343f45e952f8d4337b98ec = $(`&lt;div id=&quot;html_4969ea75f8343f45e952f8d4337b98ec&quot; style=&quot;width: 100.0%; height: 100.0%;&quot;&gt;Stade Gaston-Gérard&lt;/div&gt;`)[0];\n",
              "            popup_766fd57444ad0e5009a431968e723275.setContent(html_4969ea75f8343f45e952f8d4337b98ec);\n",
              "        \n",
              "\n",
              "        marker_4693856c609fade15496419c842e6e1a.bindPopup(popup_766fd57444ad0e5009a431968e723275)\n",
              "        ;\n",
              "\n",
              "        \n",
              "    \n",
              "    \n",
              "            var marker_1729989249a086c182ee0d2dae7e0aba = L.marker(\n",
              "                [41.93083333333333, 8.77638888888889],\n",
              "                {}\n",
              "            ).addTo(map_6985928774d5e00dd92b0f098fba20a4);\n",
              "        \n",
              "    \n",
              "        var popup_9e5bfec4641feda2c8ab65e41f12c3b9 = L.popup({&quot;maxWidth&quot;: &quot;100%&quot;});\n",
              "\n",
              "        \n",
              "            var html_149286bf2d94ff558389ba5bcb6bd9d4 = $(`&lt;div id=&quot;html_149286bf2d94ff558389ba5bcb6bd9d4&quot; style=&quot;width: 100.0%; height: 100.0%;&quot;&gt;Stade François-Coty&lt;/div&gt;`)[0];\n",
              "            popup_9e5bfec4641feda2c8ab65e41f12c3b9.setContent(html_149286bf2d94ff558389ba5bcb6bd9d4);\n",
              "        \n",
              "\n",
              "        marker_1729989249a086c182ee0d2dae7e0aba.bindPopup(popup_9e5bfec4641feda2c8ab65e41f12c3b9)\n",
              "        ;\n",
              "\n",
              "        \n",
              "    \n",
              "    \n",
              "            var marker_f6a9e6631010615cd5a0bdfcdd95ec08 = L.marker(\n",
              "                [48.695277777777775, 6.210555555555556],\n",
              "                {}\n",
              "            ).addTo(map_6985928774d5e00dd92b0f098fba20a4);\n",
              "        \n",
              "    \n",
              "        var popup_98658d2c0b039137070421e1e73a5cc0 = L.popup({&quot;maxWidth&quot;: &quot;100%&quot;});\n",
              "\n",
              "        \n",
              "            var html_ca6b6275e16024679e2ca077abcf51ed = $(`&lt;div id=&quot;html_ca6b6275e16024679e2ca077abcf51ed&quot; style=&quot;width: 100.0%; height: 100.0%;&quot;&gt;Stade Marcel-Picot&lt;/div&gt;`)[0];\n",
              "            popup_98658d2c0b039137070421e1e73a5cc0.setContent(html_ca6b6275e16024679e2ca077abcf51ed);\n",
              "        \n",
              "\n",
              "        marker_f6a9e6631010615cd5a0bdfcdd95ec08.bindPopup(popup_98658d2c0b039137070421e1e73a5cc0)\n",
              "        ;\n",
              "\n",
              "        \n",
              "    \n",
              "    \n",
              "            var marker_e64d994e71d9f931f97e110df406b944 = L.marker(\n",
              "                [49.49888888888889, 0.16972222222222222],\n",
              "                {}\n",
              "            ).addTo(map_6985928774d5e00dd92b0f098fba20a4);\n",
              "        \n",
              "    \n",
              "        var popup_5631998a674b93c7ac4cbe603b015c7a = L.popup({&quot;maxWidth&quot;: &quot;100%&quot;});\n",
              "\n",
              "        \n",
              "            var html_d0f339f931671e3458d911b5100d983b = $(`&lt;div id=&quot;html_d0f339f931671e3458d911b5100d983b&quot; style=&quot;width: 100.0%; height: 100.0%;&quot;&gt;Stade Océane&lt;/div&gt;`)[0];\n",
              "            popup_5631998a674b93c7ac4cbe603b015c7a.setContent(html_d0f339f931671e3458d911b5100d983b);\n",
              "        \n",
              "\n",
              "        marker_e64d994e71d9f931f97e110df406b944.bindPopup(popup_5631998a674b93c7ac4cbe603b015c7a)\n",
              "        ;\n",
              "\n",
              "        \n",
              "    \n",
              "    \n",
              "            var marker_fc237330d2947cdc326f3f885bfe4791 = L.marker(\n",
              "                [49.17944444444444, -0.39666666666666667],\n",
              "                {}\n",
              "            ).addTo(map_6985928774d5e00dd92b0f098fba20a4);\n",
              "        \n",
              "    \n",
              "        var popup_9e9a62958e15c8b9d2a4f7818f2e6caf = L.popup({&quot;maxWidth&quot;: &quot;100%&quot;});\n",
              "\n",
              "        \n",
              "            var html_945314a9435c15574d4bd25ed577fc38 = $(`&lt;div id=&quot;html_945314a9435c15574d4bd25ed577fc38&quot; style=&quot;width: 100.0%; height: 100.0%;&quot;&gt;Stade Michel-d&#x27;Ornano&lt;/div&gt;`)[0];\n",
              "            popup_9e9a62958e15c8b9d2a4f7818f2e6caf.setContent(html_945314a9435c15574d4bd25ed577fc38);\n",
              "        \n",
              "\n",
              "        marker_fc237330d2947cdc326f3f885bfe4791.bindPopup(popup_9e9a62958e15c8b9d2a4f7818f2e6caf)\n",
              "        ;\n",
              "\n",
              "        \n",
              "    \n",
              "    \n",
              "            var marker_c40b419766589ed2b4316ef886f6771f = L.marker(\n",
              "                [45.81583333333333, 3.1216666666666666],\n",
              "                {}\n",
              "            ).addTo(map_6985928774d5e00dd92b0f098fba20a4);\n",
              "        \n",
              "    \n",
              "        var popup_60908eeb10d161e1b55ffd82e5aff0fd = L.popup({&quot;maxWidth&quot;: &quot;100%&quot;});\n",
              "\n",
              "        \n",
              "            var html_1649e374e3a0bcd0e0926e8711c19d85 = $(`&lt;div id=&quot;html_1649e374e3a0bcd0e0926e8711c19d85&quot; style=&quot;width: 100.0%; height: 100.0%;&quot;&gt;Stade Gabriel-Montpied&lt;/div&gt;`)[0];\n",
              "            popup_60908eeb10d161e1b55ffd82e5aff0fd.setContent(html_1649e374e3a0bcd0e0926e8711c19d85);\n",
              "        \n",
              "\n",
              "        marker_c40b419766589ed2b4316ef886f6771f.bindPopup(popup_60908eeb10d161e1b55ffd82e5aff0fd)\n",
              "        ;\n",
              "\n",
              "        \n",
              "    \n",
              "    \n",
              "            var marker_7e9367a0070c242235ab16c70c1fb80c = L.marker(\n",
              "                [48.566111111111105, -3.1644444444444444],\n",
              "                {}\n",
              "            ).addTo(map_6985928774d5e00dd92b0f098fba20a4);\n",
              "        \n",
              "    \n",
              "        var popup_f8e1805d81d0132c1a2dc34da3703e13 = L.popup({&quot;maxWidth&quot;: &quot;100%&quot;});\n",
              "\n",
              "        \n",
              "            var html_cd1e113a2086a4fdf50394cab9583c38 = $(`&lt;div id=&quot;html_cd1e113a2086a4fdf50394cab9583c38&quot; style=&quot;width: 100.0%; height: 100.0%;&quot;&gt;Stade de Roudourou&lt;/div&gt;`)[0];\n",
              "            popup_f8e1805d81d0132c1a2dc34da3703e13.setContent(html_cd1e113a2086a4fdf50394cab9583c38);\n",
              "        \n",
              "\n",
              "        marker_7e9367a0070c242235ab16c70c1fb80c.bindPopup(popup_f8e1805d81d0132c1a2dc34da3703e13)\n",
              "        ;\n",
              "\n",
              "        \n",
              "    \n",
              "    \n",
              "            var marker_f520922ef0e76c6b5cc4abf4494a87ce = L.marker(\n",
              "                [47.74888888888889, -3.3691666666666666],\n",
              "                {}\n",
              "            ).addTo(map_6985928774d5e00dd92b0f098fba20a4);\n",
              "        \n",
              "    \n",
              "        var popup_6586fbb69d586e5441f4a79a17d461ca = L.popup({&quot;maxWidth&quot;: &quot;100%&quot;});\n",
              "\n",
              "        \n",
              "            var html_2b67095c645a65e02b4cc7cbebee70cb = $(`&lt;div id=&quot;html_2b67095c645a65e02b4cc7cbebee70cb&quot; style=&quot;width: 100.0%; height: 100.0%;&quot;&gt;Stade du Moustoir&lt;/div&gt;`)[0];\n",
              "            popup_6586fbb69d586e5441f4a79a17d461ca.setContent(html_2b67095c645a65e02b4cc7cbebee70cb);\n",
              "        \n",
              "\n",
              "        marker_f520922ef0e76c6b5cc4abf4494a87ce.bindPopup(popup_6586fbb69d586e5441f4a79a17d461ca)\n",
              "        ;\n",
              "\n",
              "        \n",
              "    \n",
              "    \n",
              "            var marker_be9c128b7e891347fbd435bbc0984358 = L.marker(\n",
              "                [48.81861111111112, 2.346388888888889],\n",
              "                {}\n",
              "            ).addTo(map_6985928774d5e00dd92b0f098fba20a4);\n",
              "        \n",
              "    \n",
              "        var popup_bd4d79062bbed7ca1473b4bc6bc3d1e6 = L.popup({&quot;maxWidth&quot;: &quot;100%&quot;});\n",
              "\n",
              "        \n",
              "            var html_a0eb2634949dc3bd012c199e01ddcff2 = $(`&lt;div id=&quot;html_a0eb2634949dc3bd012c199e01ddcff2&quot; style=&quot;width: 100.0%; height: 100.0%;&quot;&gt;Stade Charléty&lt;/div&gt;`)[0];\n",
              "            popup_bd4d79062bbed7ca1473b4bc6bc3d1e6.setContent(html_a0eb2634949dc3bd012c199e01ddcff2);\n",
              "        \n",
              "\n",
              "        marker_be9c128b7e891347fbd435bbc0984358.bindPopup(popup_bd4d79062bbed7ca1473b4bc6bc3d1e6)\n",
              "        ;\n",
              "\n",
              "        \n",
              "    \n",
              "    \n",
              "            var marker_329c9d253424a421d0437d06e6eb44fe = L.marker(\n",
              "                [46.801944444444445, 1.7216666666666667],\n",
              "                {}\n",
              "            ).addTo(map_6985928774d5e00dd92b0f098fba20a4);\n",
              "        \n",
              "    \n",
              "        var popup_e88f6ca4deccd74f8ee69a4fb7cf718c = L.popup({&quot;maxWidth&quot;: &quot;100%&quot;});\n",
              "\n",
              "        \n",
              "            var html_fa8969b7d27403e91918340a0c8878ec = $(`&lt;div id=&quot;html_fa8969b7d27403e91918340a0c8878ec&quot; style=&quot;width: 100.0%; height: 100.0%;&quot;&gt;Stade Gaston-Petit&lt;/div&gt;`)[0];\n",
              "            popup_e88f6ca4deccd74f8ee69a4fb7cf718c.setContent(html_fa8969b7d27403e91918340a0c8878ec);\n",
              "        \n",
              "\n",
              "        marker_329c9d253424a421d0437d06e6eb44fe.bindPopup(popup_e88f6ca4deccd74f8ee69a4fb7cf718c)\n",
              "        ;\n",
              "\n",
              "        \n",
              "    \n",
              "    \n",
              "            var marker_79ea5cb6f2526ff81258e314c4a4be60 = L.marker(\n",
              "                [47.78666666666666, 3.588611111111111],\n",
              "                {}\n",
              "            ).addTo(map_6985928774d5e00dd92b0f098fba20a4);\n",
              "        \n",
              "    \n",
              "        var popup_98155f3419fa7785734c18749c85d635 = L.popup({&quot;maxWidth&quot;: &quot;100%&quot;});\n",
              "\n",
              "        \n",
              "            var html_5daabcef3da1f4e633c3445ebc41db3c = $(`&lt;div id=&quot;html_5daabcef3da1f4e633c3445ebc41db3c&quot; style=&quot;width: 100.0%; height: 100.0%;&quot;&gt;Stade de l&#x27;Abbé-Deschamps&lt;/div&gt;`)[0];\n",
              "            popup_98155f3419fa7785734c18749c85d635.setContent(html_5daabcef3da1f4e633c3445ebc41db3c);\n",
              "        \n",
              "\n",
              "        marker_79ea5cb6f2526ff81258e314c4a4be60.bindPopup(popup_98155f3419fa7785734c18749c85d635)\n",
              "        ;\n",
              "\n",
              "        \n",
              "    \n",
              "    \n",
              "            var marker_593ce8d58ae977980a6314742a80802c = L.marker(\n",
              "                [47.84027777777778, 1.9411111111111112],\n",
              "                {}\n",
              "            ).addTo(map_6985928774d5e00dd92b0f098fba20a4);\n",
              "        \n",
              "    \n",
              "        var popup_6e6a91732d8af329d784b52552e583e4 = L.popup({&quot;maxWidth&quot;: &quot;100%&quot;});\n",
              "\n",
              "        \n",
              "            var html_288a01f68e27531c2dd3cf4e1727e42c = $(`&lt;div id=&quot;html_288a01f68e27531c2dd3cf4e1727e42c&quot; style=&quot;width: 100.0%; height: 100.0%;&quot;&gt;Stade de la Source&lt;/div&gt;`)[0];\n",
              "            popup_6e6a91732d8af329d784b52552e583e4.setContent(html_288a01f68e27531c2dd3cf4e1727e42c);\n",
              "        \n",
              "\n",
              "        marker_593ce8d58ae977980a6314742a80802c.bindPopup(popup_6e6a91732d8af329d784b52552e583e4)\n",
              "        ;\n",
              "\n",
              "        \n",
              "    \n",
              "    \n",
              "            var marker_268bffa922ff81df85c6196b99fd8eea = L.marker(\n",
              "                [50.34861111111111, 3.5322222222222224],\n",
              "                {}\n",
              "            ).addTo(map_6985928774d5e00dd92b0f098fba20a4);\n",
              "        \n",
              "    \n",
              "        var popup_785075399953b1225e9bbae9e1c3bd1e = L.popup({&quot;maxWidth&quot;: &quot;100%&quot;});\n",
              "\n",
              "        \n",
              "            var html_a4c0ce0ec886efa055b25b2280fd4bba = $(`&lt;div id=&quot;html_a4c0ce0ec886efa055b25b2280fd4bba&quot; style=&quot;width: 100.0%; height: 100.0%;&quot;&gt;Stade du Hainaut&lt;/div&gt;`)[0];\n",
              "            popup_785075399953b1225e9bbae9e1c3bd1e.setContent(html_a4c0ce0ec886efa055b25b2280fd4bba);\n",
              "        \n",
              "\n",
              "        marker_268bffa922ff81df85c6196b99fd8eea.bindPopup(popup_785075399953b1225e9bbae9e1c3bd1e)\n",
              "        ;\n",
              "\n",
              "        \n",
              "    \n",
              "    \n",
              "            var marker_6498e9b36c96b2b4f380a4b36f67b36d = L.marker(\n",
              "                [46.316944444444445, -0.4891666666666667],\n",
              "                {}\n",
              "            ).addTo(map_6985928774d5e00dd92b0f098fba20a4);\n",
              "        \n",
              "    \n",
              "        var popup_6a5a733bc72660b76c88b3c71d45c841 = L.popup({&quot;maxWidth&quot;: &quot;100%&quot;});\n",
              "\n",
              "        \n",
              "            var html_f04d7399edb00fe7d2ae15b05cd9f9c5 = $(`&lt;div id=&quot;html_f04d7399edb00fe7d2ae15b05cd9f9c5&quot; style=&quot;width: 100.0%; height: 100.0%;&quot;&gt;Stade René-Gaillard&lt;/div&gt;`)[0];\n",
              "            popup_6a5a733bc72660b76c88b3c71d45c841.setContent(html_f04d7399edb00fe7d2ae15b05cd9f9c5);\n",
              "        \n",
              "\n",
              "        marker_6498e9b36c96b2b4f380a4b36f67b36d.bindPopup(popup_6a5a733bc72660b76c88b3c71d45c841)\n",
              "        ;\n",
              "\n",
              "        \n",
              "    \n",
              "    \n",
              "            var marker_7d1c3bfff729040901fd1174104ec062 = L.marker(\n",
              "                [45.1875, 5.74],\n",
              "                {}\n",
              "            ).addTo(map_6985928774d5e00dd92b0f098fba20a4);\n",
              "        \n",
              "    \n",
              "        var popup_19713ebf425f71e025ebd3c34a520dcc = L.popup({&quot;maxWidth&quot;: &quot;100%&quot;});\n",
              "\n",
              "        \n",
              "            var html_b84550f5984c67a1187b73467f6e0d41 = $(`&lt;div id=&quot;html_b84550f5984c67a1187b73467f6e0d41&quot; style=&quot;width: 100.0%; height: 100.0%;&quot;&gt;Stade des Alpes&lt;/div&gt;`)[0];\n",
              "            popup_19713ebf425f71e025ebd3c34a520dcc.setContent(html_b84550f5984c67a1187b73467f6e0d41);\n",
              "        \n",
              "\n",
              "        marker_7d1c3bfff729040901fd1174104ec062.bindPopup(popup_19713ebf425f71e025ebd3c34a520dcc)\n",
              "        ;\n",
              "\n",
              "        \n",
              "    \n",
              "    \n",
              "            var marker_63cbf0508fcb88d3237be9ee651f591e = L.marker(\n",
              "                [47.51222222222222, 6.811388888888889],\n",
              "                {}\n",
              "            ).addTo(map_6985928774d5e00dd92b0f098fba20a4);\n",
              "        \n",
              "    \n",
              "        var popup_4c07482f0316bd20ba7f7b58dba0380a = L.popup({&quot;maxWidth&quot;: &quot;100%&quot;});\n",
              "\n",
              "        \n",
              "            var html_1e6e850c8e17a693a969d69998e7ceeb = $(`&lt;div id=&quot;html_1e6e850c8e17a693a969d69998e7ceeb&quot; style=&quot;width: 100.0%; height: 100.0%;&quot;&gt;Stade Auguste-Bonal&lt;/div&gt;`)[0];\n",
              "            popup_4c07482f0316bd20ba7f7b58dba0380a.setContent(html_1e6e850c8e17a693a969d69998e7ceeb);\n",
              "        \n",
              "\n",
              "        marker_63cbf0508fcb88d3237be9ee651f591e.bindPopup(popup_4c07482f0316bd20ba7f7b58dba0380a)\n",
              "        ;\n",
              "\n",
              "        \n",
              "    \n",
              "    \n",
              "            var marker_cc5ae485ff96d4f7acf5f216f2f21823 = L.marker(\n",
              "                [44.35166666666667, 2.563611111111111],\n",
              "                {}\n",
              "            ).addTo(map_6985928774d5e00dd92b0f098fba20a4);\n",
              "        \n",
              "    \n",
              "        var popup_122fe158a0547e48fd3a36d24970b905 = L.popup({&quot;maxWidth&quot;: &quot;100%&quot;});\n",
              "\n",
              "        \n",
              "            var html_c92501cf41213b46cff0a04e788e7326 = $(`&lt;div id=&quot;html_c92501cf41213b46cff0a04e788e7326&quot; style=&quot;width: 100.0%; height: 100.0%;&quot;&gt;Stade Paul-Lignon&lt;/div&gt;`)[0];\n",
              "            popup_122fe158a0547e48fd3a36d24970b905.setContent(html_c92501cf41213b46cff0a04e788e7326);\n",
              "        \n",
              "\n",
              "        marker_cc5ae485ff96d4f7acf5f216f2f21823.bindPopup(popup_122fe158a0547e48fd3a36d24970b905)\n",
              "        ;\n",
              "\n",
              "        \n",
              "    \n",
              "    \n",
              "            var marker_c72626a93308b7b445bf365df2d18f55 = L.marker(\n",
              "                [49.17916666666667, 2.233611111111111],\n",
              "                {}\n",
              "            ).addTo(map_6985928774d5e00dd92b0f098fba20a4);\n",
              "        \n",
              "    \n",
              "        var popup_9941b8d07eed5bca32bd743bba0120e6 = L.popup({&quot;maxWidth&quot;: &quot;100%&quot;});\n",
              "\n",
              "        \n",
              "            var html_8c2f78e51baff441b03c3cb2b7b282f9 = $(`&lt;div id=&quot;html_8c2f78e51baff441b03c3cb2b7b282f9&quot; style=&quot;width: 100.0%; height: 100.0%;&quot;&gt;Stade Walter Luzi&lt;/div&gt;`)[0];\n",
              "            popup_9941b8d07eed5bca32bd743bba0120e6.setContent(html_8c2f78e51baff441b03c3cb2b7b282f9);\n",
              "        \n",
              "\n",
              "        marker_c72626a93308b7b445bf365df2d18f55.bindPopup(popup_9941b8d07eed5bca32bd743bba0120e6)\n",
              "        ;\n",
              "\n",
              "        \n",
              "    \n",
              "    \n",
              "            var marker_04306bd2e6331a416e7ec348472b3e15 = L.marker(\n",
              "                [48.3075, 4.0986111111111105],\n",
              "                {}\n",
              "            ).addTo(map_6985928774d5e00dd92b0f098fba20a4);\n",
              "        \n",
              "    \n",
              "        var popup_421fc6906c1ef32997d85eecb5d2016e = L.popup({&quot;maxWidth&quot;: &quot;100%&quot;});\n",
              "\n",
              "        \n",
              "            var html_4978ca46a1058751e2a063c6c5abe9cf = $(`&lt;div id=&quot;html_4978ca46a1058751e2a063c6c5abe9cf&quot; style=&quot;width: 100.0%; height: 100.0%;&quot;&gt;Stade de l&#x27;Aube&lt;/div&gt;`)[0];\n",
              "            popup_421fc6906c1ef32997d85eecb5d2016e.setContent(html_4978ca46a1058751e2a063c6c5abe9cf);\n",
              "        \n",
              "\n",
              "        marker_04306bd2e6331a416e7ec348472b3e15.bindPopup(popup_421fc6906c1ef32997d85eecb5d2016e)\n",
              "        ;\n",
              "\n",
              "        \n",
              "    \n",
              "    \n",
              "            var marker_468b713a084e053fbdbbe7f5b278da4c = L.marker(\n",
              "                [50.43277777777777, 2.815],\n",
              "                {}\n",
              "            ).addTo(map_6985928774d5e00dd92b0f098fba20a4);\n",
              "        \n",
              "    \n",
              "        var popup_ef75861fc45490aa7f3762f2722db56c = L.popup({&quot;maxWidth&quot;: &quot;100%&quot;});\n",
              "\n",
              "        \n",
              "            var html_f3280a454a4f026fec41d323b7277a0d = $(`&lt;div id=&quot;html_f3280a454a4f026fec41d323b7277a0d&quot; style=&quot;width: 100.0%; height: 100.0%;&quot;&gt;Stade Bollaert-Delelis&lt;/div&gt;`)[0];\n",
              "            popup_ef75861fc45490aa7f3762f2722db56c.setContent(html_f3280a454a4f026fec41d323b7277a0d);\n",
              "        \n",
              "\n",
              "        marker_468b713a084e053fbdbbe7f5b278da4c.bindPopup(popup_ef75861fc45490aa7f3762f2722db56c)\n",
              "        ;\n",
              "\n",
              "        \n",
              "    \n",
              "    \n",
              "            map_6985928774d5e00dd92b0f098fba20a4.fitBounds(\n",
              "                [[41.93083333333333, -4.461666666666667], [50.61194444444445, 8.77638888888889]],\n",
              "                {}\n",
              "            );\n",
              "        \n",
              "&lt;/script&gt;\" style=\"position:absolute;width:100%;height:100%;left:0;top:0;border:none !important;\" allowfullscreen webkitallowfullscreen mozallowfullscreen></iframe></div></div>"
            ]
          }
        }
      ],
      "source": [],
      "id": "568b1943-ccdf-4e17-abb1-ae596fb1a67d"
    },
    {
      "cell_type": "markdown",
      "metadata": {},
      "source": [
        "{{< /rawhtml >}}\n",
        "\n",
        "# Exercice 1 : Les pokémons (version non guidée)\n",
        "\n",
        "{{% box status=“exercise” title=“Exercice” icon=“fas fa-pencil-alt” %}}\n",
        "Pour cet exercice, nous vous demandons d’obtenir différentes informations sur les pokémons à partir du site internet [pokemondb.net](http://pokemondb.net/pokedex/national).\n",
        "\n",
        "1.  les informations personnelles des `893` pokemons sur le site internet [pokemondb.net](http://pokemondb.net/pokedex/national). Les informations que nous aimerions obtenir au final dans un DataFrame sont celles contenues dans 4 tableaux :\n",
        "\n",
        "-   Pokédex data\n",
        "-   Training\n",
        "-   Breeding\n",
        "-   Base stats\n",
        "\n",
        "1.  Nous aimerions que vous récupériez également les images de chacun des pokémons et que vous les enregistriez dans un dossier\n",
        "\n",
        "-   Petit indice : utilisez les modules request et [shutil](https://docs.python.org/3/library/shutil.html)\n",
        "-   Pour cette question, il faut que vous cherchiez de vous même certains éléments, tout n’est pas présent dans le TD.\n",
        "\n",
        "{{% /box %}}\n",
        "\n",
        "Pour la question 1, l’objectif est d’obtenir le code source d’un tableau comme\n",
        "celui qui suit\n",
        "(Pokemon [Nincada](http://pokemondb.net/pokedex/nincada).)\n",
        "\n",
        "<h2>\n",
        "\n",
        "Pokédex data\n",
        "\n",
        "</h2>\n",
        "\n",
        "<table class=\"vitals-table\">\n",
        "\n",
        "<tbody>\n",
        "\n",
        "<tr>\n",
        "\n",
        "<th>\n",
        "\n",
        "National №\n",
        "\n",
        "</th>\n",
        "\n",
        "<td>\n",
        "\n",
        "<strong>290</strong>\n",
        "\n",
        "</td>\n",
        "\n",
        "</tr>\n",
        "\n",
        "<tr>\n",
        "\n",
        "<th>\n",
        "\n",
        "Type\n",
        "\n",
        "</th>\n",
        "\n",
        "<td>\n",
        "\n",
        "<a class=\"type-icon type-bug\" href=\"/type/bug\">Bug</a> <a class=\"type-icon type-ground\" href=\"/type/ground\">Ground</a>\n",
        "\n",
        "</td>\n",
        "\n",
        "</tr>\n",
        "\n",
        "<tr>\n",
        "\n",
        "<th>\n",
        "\n",
        "Species\n",
        "\n",
        "</th>\n",
        "\n",
        "<td>\n",
        "\n",
        "Trainee Pokémon\n",
        "\n",
        "</td>\n",
        "\n",
        "</tr>\n",
        "\n",
        "<tr>\n",
        "\n",
        "<th>\n",
        "\n",
        "Height\n",
        "\n",
        "</th>\n",
        "\n",
        "<td>\n",
        "\n",
        "0.5 m (1′08″)\n",
        "\n",
        "</td>\n",
        "\n",
        "</tr>\n",
        "\n",
        "<tr>\n",
        "\n",
        "<th>\n",
        "\n",
        "Weight\n",
        "\n",
        "</th>\n",
        "\n",
        "<td>\n",
        "\n",
        "5.5 kg (12.1 lbs)\n",
        "\n",
        "</td>\n",
        "\n",
        "</tr>\n",
        "\n",
        "<tr>\n",
        "\n",
        "<th>\n",
        "\n",
        "Abilities\n",
        "\n",
        "</th>\n",
        "\n",
        "<td>\n",
        "\n",
        "<span class=\"text-muted\">1. <a href=\"/ability/compound-eyes\" title=\"The Pokémon's accuracy is boosted.\">Compound Eyes</a></span><br><small class=\"text-muted\"><a href=\"/ability/run-away\" title=\"Enables a sure getaway from wild Pokémon.\">Run Away</a> (hidden ability)</small><br>\n",
        "\n",
        "</td>\n",
        "\n",
        "</tr>\n",
        "\n",
        "<tr>\n",
        "\n",
        "<th>\n",
        "\n",
        "Local №\n",
        "\n",
        "</th>\n",
        "\n",
        "<td>\n",
        "\n",
        "042 <small class=\"text-muted\">(Ruby/Sapphire/Emerald)</small><br>111 <small class=\"text-muted\">(X/Y — Central Kalos)</small><br>043 <small class=\"text-muted\">(Omega Ruby/Alpha Sapphire)</small><br>104 <small class=\"text-muted\">(Sword/Shield)</small><br>\n",
        "\n",
        "</td>\n",
        "\n",
        "</tr>\n",
        "\n",
        "</tbody>\n",
        "\n",
        "</table>\n",
        "\n",
        "<h2>\n",
        "\n",
        "Training\n",
        "\n",
        "</h2>\n",
        "\n",
        "<table class=\"vitals-table\">\n",
        "\n",
        "<tbody>\n",
        "\n",
        "<tr>\n",
        "\n",
        "<th>\n",
        "\n",
        "EV yield\n",
        "\n",
        "</th>\n",
        "\n",
        "<td class=\"text\">\n",
        "\n",
        "1 Defense\n",
        "\n",
        "</td>\n",
        "\n",
        "</tr>\n",
        "\n",
        "<tr>\n",
        "\n",
        "<th>\n",
        "\n",
        "Catch rate\n",
        "\n",
        "</th>\n",
        "\n",
        "<td>\n",
        "\n",
        "255 <small class=\"text-muted\">(33.3% with PokéBall, full HP)</small>\n",
        "\n",
        "</td>\n",
        "\n",
        "</tr>\n",
        "\n",
        "<tr>\n",
        "\n",
        "<th>\n",
        "\n",
        "Base <a href=\"/glossary#def-friendship\">Friendship</a>\n",
        "\n",
        "</th>\n",
        "\n",
        "<td>\n",
        "\n",
        "70 <small class=\"text-muted\">(normal)</small>\n",
        "\n",
        "</td>\n",
        "\n",
        "</tr>\n",
        "\n",
        "<tr>\n",
        "\n",
        "<th>\n",
        "\n",
        "Base Exp.\n",
        "\n",
        "</th>\n",
        "\n",
        "<td>\n",
        "\n",
        "53\n",
        "\n",
        "</td>\n",
        "\n",
        "</tr>\n",
        "\n",
        "<tr>\n",
        "\n",
        "<th>\n",
        "\n",
        "Growth Rate\n",
        "\n",
        "</th>\n",
        "\n",
        "<td>\n",
        "\n",
        "Erratic\n",
        "\n",
        "</td>\n",
        "\n",
        "</tr>\n",
        "\n",
        "</tbody>\n",
        "\n",
        "</table>\n",
        "\n",
        "<h2>\n",
        "\n",
        "Breeding\n",
        "\n",
        "</h2>\n",
        "\n",
        "<table class=\"vitals-table\">\n",
        "\n",
        "<tbody>\n",
        "\n",
        "<tr>\n",
        "\n",
        "<th>\n",
        "\n",
        "Egg Groups\n",
        "\n",
        "</th>\n",
        "\n",
        "<td>\n",
        "\n",
        "<a href=\"/egg-group/bug\">Bug</a>\n",
        "\n",
        "</td>\n",
        "\n",
        "</tr>\n",
        "\n",
        "<tr>\n",
        "\n",
        "<th>\n",
        "\n",
        "Gender\n",
        "\n",
        "</th>\n",
        "\n",
        "<td>\n",
        "\n",
        "<span class=\"text-blue\">50% male</span>, <span class=\"text-pink\">50% female</span>\n",
        "\n",
        "</td>\n",
        "\n",
        "</tr>\n",
        "\n",
        "<tr>\n",
        "\n",
        "<th>\n",
        "\n",
        "<a href=\"/glossary#def-eggcycle\">Egg cycles</a>\n",
        "\n",
        "</th>\n",
        "\n",
        "<td>\n",
        "\n",
        "15 <small class=\"text-muted\">(3,599–3,855 steps)</small>\n",
        "\n",
        "</td>\n",
        "\n",
        "</tr>\n",
        "\n",
        "</tbody>\n",
        "\n",
        "</table>\n",
        "\n",
        "<h2>\n",
        "\n",
        "Base stats\n",
        "\n",
        "</h2>\n",
        "\n",
        "<table class=\"vitals-table\">\n",
        "\n",
        "<tbody>\n",
        "\n",
        "<tr>\n",
        "\n",
        "<th>\n",
        "\n",
        "HP\n",
        "\n",
        "</th>\n",
        "\n",
        "<td class=\"cell-num\">\n",
        "\n",
        "31\n",
        "\n",
        "</td>\n",
        "\n",
        "<td class=\"cell-barchart\">\n",
        "\n",
        "</td>\n",
        "\n",
        "<td class=\"cell-num\">\n",
        "\n",
        "172\n",
        "\n",
        "</td>\n",
        "\n",
        "<td class=\"cell-num\">\n",
        "\n",
        "266\n",
        "\n",
        "</td>\n",
        "\n",
        "</tr>\n",
        "\n",
        "<tr>\n",
        "\n",
        "<th>\n",
        "\n",
        "Attack\n",
        "\n",
        "</th>\n",
        "\n",
        "<td class=\"cell-num\">\n",
        "\n",
        "45\n",
        "\n",
        "</td>\n",
        "\n",
        "<td class=\"cell-barchart\">\n",
        "\n",
        "</td>\n",
        "\n",
        "<td class=\"cell-num\">\n",
        "\n",
        "85\n",
        "\n",
        "</td>\n",
        "\n",
        "<td class=\"cell-num\">\n",
        "\n",
        "207\n",
        "\n",
        "</td>\n",
        "\n",
        "</tr>\n",
        "\n",
        "<tr>\n",
        "\n",
        "<th>\n",
        "\n",
        "Defense\n",
        "\n",
        "</th>\n",
        "\n",
        "<td class=\"cell-num\">\n",
        "\n",
        "90\n",
        "\n",
        "</td>\n",
        "\n",
        "<td class=\"cell-barchart\">\n",
        "\n",
        "</td>\n",
        "\n",
        "<td class=\"cell-num\">\n",
        "\n",
        "166\n",
        "\n",
        "</td>\n",
        "\n",
        "<td class=\"cell-num\">\n",
        "\n",
        "306\n",
        "\n",
        "</td>\n",
        "\n",
        "</tr>\n",
        "\n",
        "<tr>\n",
        "\n",
        "<th>\n",
        "\n",
        "Sp. Atk\n",
        "\n",
        "</th>\n",
        "\n",
        "<td class=\"cell-num\">\n",
        "\n",
        "30\n",
        "\n",
        "</td>\n",
        "\n",
        "<td class=\"cell-barchart\">\n",
        "\n",
        "</td>\n",
        "\n",
        "<td class=\"cell-num\">\n",
        "\n",
        "58\n",
        "\n",
        "</td>\n",
        "\n",
        "<td class=\"cell-num\">\n",
        "\n",
        "174\n",
        "\n",
        "</td>\n",
        "\n",
        "</tr>\n",
        "\n",
        "<tr>\n",
        "\n",
        "<th>\n",
        "\n",
        "Sp. Def\n",
        "\n",
        "</th>\n",
        "\n",
        "<td class=\"cell-num\">\n",
        "\n",
        "30\n",
        "\n",
        "</td>\n",
        "\n",
        "<td class=\"cell-barchart\">\n",
        "\n",
        "</td>\n",
        "\n",
        "<td class=\"cell-num\">\n",
        "\n",
        "58\n",
        "\n",
        "</td>\n",
        "\n",
        "<td class=\"cell-num\">\n",
        "\n",
        "174\n",
        "\n",
        "</td>\n",
        "\n",
        "</tr>\n",
        "\n",
        "<tr>\n",
        "\n",
        "<th>\n",
        "\n",
        "Speed\n",
        "\n",
        "</th>\n",
        "\n",
        "<td class=\"cell-num\">\n",
        "\n",
        "40\n",
        "\n",
        "</td>\n",
        "\n",
        "<td class=\"cell-barchart\">\n",
        "\n",
        "</td>\n",
        "\n",
        "<td class=\"cell-num\">\n",
        "\n",
        "76\n",
        "\n",
        "</td>\n",
        "\n",
        "<td class=\"cell-num\">\n",
        "\n",
        "196\n",
        "\n",
        "</td>\n",
        "\n",
        "</tr>\n",
        "\n",
        "</tbody>\n",
        "\n",
        "<tfoot>\n",
        "\n",
        "<tr>\n",
        "\n",
        "<th>\n",
        "\n",
        "Total\n",
        "\n",
        "</th>\n",
        "\n",
        "<td class=\"cell-total\">\n",
        "\n",
        "<b>266</b>\n",
        "\n",
        "</td>\n",
        "\n",
        "<th class=\"cell-barchart\">\n",
        "\n",
        "</th>\n",
        "\n",
        "<th>\n",
        "\n",
        "Min\n",
        "\n",
        "</th>\n",
        "\n",
        "<th>\n",
        "\n",
        "Max\n",
        "\n",
        "</th>\n",
        "\n",
        "</tr>\n",
        "\n",
        "</tfoot>\n",
        "\n",
        "</table>\n",
        "\n",
        "# Exercice 1 : Les pokémons (version guidée)\n",
        "\n",
        "{{% box status=“exercise” title=“Exercice” icon=“fas fa-pencil-alt” %}}\n",
        "\n",
        "Pour cet exercice, nous vous demandons d’obtenir différentes informations sur les pokémons à partir du site internet [pokemondb.net](http://pokemondb.net/pokedex/national).\n",
        "\n",
        "## Etape 1\n",
        "\n",
        "Nous souhaitons tout d’abord obtenir les informations personnelles des `893` pokemons sur [pokemondb.net](http://pokemondb.net/pokedex/national). Les informations que nous aimerions obtenir au final pour les pokemons sont celles contenues dans 4 tableaux :\n",
        "\n",
        "-   Pokédex data\n",
        "-   Training\n",
        "-   Breeding\n",
        "-   Base stats\n",
        "\n",
        "Plus haut est disponible un exemple.\n",
        "\n",
        "Pour cela, le code devra être divisé en plusieurs étapes :\n",
        "\n",
        "1.  Trouvez la page principale du site et la transformez en un objet intelligible pour votre code. Les fonctions suivantes vous seront utiles :\n",
        "\n",
        "-   `urllib.request.Request`\n",
        "-   `urllib.request.urlopen`\n",
        "-   `bs4.BeautifulSoup`\n",
        "\n",
        "Pour ce site, par rapport à tout à l’heure,\n",
        "il faudra ajouter un paramètre supplémentaire à la fonction `Request`:\n",
        "\n",
        "``` python\n",
        "urllib.request.Request( www.sitequinousintéresse.com ,headers={'User-Agent': 'Mozilla/5.0'})\n",
        "```\n",
        "\n",
        "1.  Créez une fonction qui permet de récupérer la page d’un pokémon à partir de son nom.\n",
        "\n",
        "2.  A partir de la page de `bulbasaur`, obtenez les 4 tableaux qui nous intéressent :\n",
        "\n",
        "-   on va chercher l’élément suivant : `('table', { 'class' : \"vitals-table\"})`\n",
        "-   puis stocker ses éléments dans un dictionnaire\n",
        "\n",
        "Vous devriez obtenir une liste de caractéristiques proche de celle-ci\n",
        "(la structure est ici en dictionnaire, ce qui est pratique)"
      ],
      "id": "088ffa0b-1340-4847-9326-929c14d9af6a"
    },
    {
      "cell_type": "code",
      "execution_count": 33,
      "metadata": {},
      "outputs": [
        {
          "output_type": "display_data",
          "metadata": {},
          "data": {
            "text/plain": [
              "defaultdict(None,\n",
              "            {'National №': '001',\n",
              "             'name': 'bulbasaur',\n",
              "             'Type': ' Grass Poison ',\n",
              "             'Species': 'Seed Pokémon',\n",
              "             'Height': '0.7\\xa0m (2′04″)',\n",
              "             'Weight': '6.9\\xa0kg (15.2\\xa0lbs)',\n",
              "             'Abilities': '1. OvergrowChlorophyll (hidden ability)',\n",
              "             'Local №': \"001 (Red/Blue/Yellow)226 (Gold/Silver/Crystal)001 (FireRed/LeafGreen)231 (HeartGold/SoulSilver)080 (X/Y — Central Kalos)001 (Let's Go Pikachu/Let's Go Eevee)068 (The Isle of Armor)\",\n",
              "             'EV yield': ' 1 Special Attack ',\n",
              "             'Catch rate': ' 45 (5.9% with PokéBall, full HP) ',\n",
              "             'Base Friendship': ' 50 (normal) ',\n",
              "             'Base Exp.': '64',\n",
              "             'Growth Rate': 'Medium Slow',\n",
              "             'Egg Groups': 'Grass, Monster',\n",
              "             'Gender': '87.5% male, 12.5% female',\n",
              "             'Egg cycles': '20 (4,884–5,140 steps) ',\n",
              "             'HP': '45',\n",
              "             'Attack': '49',\n",
              "             'Defense': '49',\n",
              "             'Sp. Atk': '65',\n",
              "             'Sp. Def': '65',\n",
              "             'Speed': '45'})"
            ]
          }
        }
      ],
      "source": [],
      "id": "8415b23c-91e8-4a16-89d0-ef67836bea95"
    },
    {
      "cell_type": "markdown",
      "metadata": {},
      "source": [
        "1.  Récupérez par ailleurs la liste de noms des pokémons qui nous permettra de faire une boucle par la suite. Combien trouvez-vous de pokémons ?\n",
        "\n",
        "2.  Ecrire une fonction qui récupère l’ensemble des informations sur les dix premiers pokémons de la liste et les intègre dans un data.frame"
      ],
      "id": "1b3c300a-c1fb-43e2-8c21-86e9209ecfd6"
    },
    {
      "cell_type": "code",
      "execution_count": 36,
      "metadata": {},
      "outputs": [
        {
          "output_type": "display_data",
          "metadata": {},
          "data": {
            "text/html": [
              "<div>\n",
              "<style scoped>\n",
              "    .dataframe tbody tr th:only-of-type {\n",
              "        vertical-align: middle;\n",
              "    }\n",
              "\n",
              "    .dataframe tbody tr th {\n",
              "        vertical-align: top;\n",
              "    }\n",
              "\n",
              "    .dataframe thead th {\n",
              "        text-align: right;\n",
              "    }\n",
              "</style>\n",
              "<table border=\"1\" class=\"dataframe\">\n",
              "  <thead>\n",
              "    <tr style=\"text-align: right;\">\n",
              "      <th></th>\n",
              "      <th>National №</th>\n",
              "      <th>name</th>\n",
              "      <th>Type</th>\n",
              "      <th>Species</th>\n",
              "      <th>Height</th>\n",
              "      <th>Weight</th>\n",
              "      <th>Abilities</th>\n",
              "      <th>Local №</th>\n",
              "      <th>EV yield</th>\n",
              "      <th>Catch rate</th>\n",
              "      <th>...</th>\n",
              "      <th>Growth Rate</th>\n",
              "      <th>Egg Groups</th>\n",
              "      <th>Gender</th>\n",
              "      <th>Egg cycles</th>\n",
              "      <th>HP</th>\n",
              "      <th>Attack</th>\n",
              "      <th>Defense</th>\n",
              "      <th>Sp. Atk</th>\n",
              "      <th>Sp. Def</th>\n",
              "      <th>Speed</th>\n",
              "    </tr>\n",
              "  </thead>\n",
              "  <tbody>\n",
              "    <tr>\n",
              "      <th>0</th>\n",
              "      <td>001</td>\n",
              "      <td>bulbasaur</td>\n",
              "      <td>Grass Poison</td>\n",
              "      <td>Seed Pokémon</td>\n",
              "      <td>0.7 m (2′04″)</td>\n",
              "      <td>6.9 kg (15.2 lbs)</td>\n",
              "      <td>1. OvergrowChlorophyll (hidden ability)</td>\n",
              "      <td>001 (Red/Blue/Yellow)226 (Gold/Silver/Crystal)...</td>\n",
              "      <td>1 Special Attack</td>\n",
              "      <td>45 (5.9% with PokéBall, full HP)</td>\n",
              "      <td>...</td>\n",
              "      <td>Medium Slow</td>\n",
              "      <td>Grass, Monster</td>\n",
              "      <td>87.5% male, 12.5% female</td>\n",
              "      <td>20 (4,884–5,140 steps)</td>\n",
              "      <td>45</td>\n",
              "      <td>49</td>\n",
              "      <td>49</td>\n",
              "      <td>65</td>\n",
              "      <td>65</td>\n",
              "      <td>45</td>\n",
              "    </tr>\n",
              "    <tr>\n",
              "      <th>1</th>\n",
              "      <td>002</td>\n",
              "      <td>ivysaur</td>\n",
              "      <td>Grass Poison</td>\n",
              "      <td>Seed Pokémon</td>\n",
              "      <td>1.0 m (3′03″)</td>\n",
              "      <td>13.0 kg (28.7 lbs)</td>\n",
              "      <td>1. OvergrowChlorophyll (hidden ability)</td>\n",
              "      <td>002 (Red/Blue/Yellow)227 (Gold/Silver/Crystal)...</td>\n",
              "      <td>1 Special Attack, 1 Special Defense</td>\n",
              "      <td>45 (5.9% with PokéBall, full HP)</td>\n",
              "      <td>...</td>\n",
              "      <td>Medium Slow</td>\n",
              "      <td>Grass, Monster</td>\n",
              "      <td>87.5% male, 12.5% female</td>\n",
              "      <td>20 (4,884–5,140 steps)</td>\n",
              "      <td>60</td>\n",
              "      <td>62</td>\n",
              "      <td>63</td>\n",
              "      <td>80</td>\n",
              "      <td>80</td>\n",
              "      <td>60</td>\n",
              "    </tr>\n",
              "    <tr>\n",
              "      <th>2</th>\n",
              "      <td>003</td>\n",
              "      <td>venusaur</td>\n",
              "      <td>Grass Poison</td>\n",
              "      <td>Seed Pokémon</td>\n",
              "      <td>2.0 m (6′07″)</td>\n",
              "      <td>100.0 kg (220.5 lbs)</td>\n",
              "      <td>1. OvergrowChlorophyll (hidden ability)</td>\n",
              "      <td>003 (Red/Blue/Yellow)228 (Gold/Silver/Crystal)...</td>\n",
              "      <td>2 Special Attack, 1 Special Defense</td>\n",
              "      <td>45 (5.9% with PokéBall, full HP)</td>\n",
              "      <td>...</td>\n",
              "      <td>Medium Slow</td>\n",
              "      <td>Grass, Monster</td>\n",
              "      <td>87.5% male, 12.5% female</td>\n",
              "      <td>20 (4,884–5,140 steps)</td>\n",
              "      <td>80</td>\n",
              "      <td>82</td>\n",
              "      <td>83</td>\n",
              "      <td>100</td>\n",
              "      <td>100</td>\n",
              "      <td>80</td>\n",
              "    </tr>\n",
              "    <tr>\n",
              "      <th>3</th>\n",
              "      <td>004</td>\n",
              "      <td>charmander</td>\n",
              "      <td>Fire</td>\n",
              "      <td>Lizard Pokémon</td>\n",
              "      <td>0.6 m (2′00″)</td>\n",
              "      <td>8.5 kg (18.7 lbs)</td>\n",
              "      <td>1. BlazeSolar Power (hidden ability)</td>\n",
              "      <td>004 (Red/Blue/Yellow)229 (Gold/Silver/Crystal)...</td>\n",
              "      <td>1 Speed</td>\n",
              "      <td>45 (5.9% with PokéBall, full HP)</td>\n",
              "      <td>...</td>\n",
              "      <td>Medium Slow</td>\n",
              "      <td>Dragon, Monster</td>\n",
              "      <td>87.5% male, 12.5% female</td>\n",
              "      <td>20 (4,884–5,140 steps)</td>\n",
              "      <td>39</td>\n",
              "      <td>52</td>\n",
              "      <td>43</td>\n",
              "      <td>60</td>\n",
              "      <td>50</td>\n",
              "      <td>65</td>\n",
              "    </tr>\n",
              "    <tr>\n",
              "      <th>4</th>\n",
              "      <td>005</td>\n",
              "      <td>charmeleon</td>\n",
              "      <td>Fire</td>\n",
              "      <td>Flame Pokémon</td>\n",
              "      <td>1.1 m (3′07″)</td>\n",
              "      <td>19.0 kg (41.9 lbs)</td>\n",
              "      <td>1. BlazeSolar Power (hidden ability)</td>\n",
              "      <td>005 (Red/Blue/Yellow)230 (Gold/Silver/Crystal)...</td>\n",
              "      <td>1 Special Attack, 1 Speed</td>\n",
              "      <td>45 (5.9% with PokéBall, full HP)</td>\n",
              "      <td>...</td>\n",
              "      <td>Medium Slow</td>\n",
              "      <td>Dragon, Monster</td>\n",
              "      <td>87.5% male, 12.5% female</td>\n",
              "      <td>20 (4,884–5,140 steps)</td>\n",
              "      <td>58</td>\n",
              "      <td>64</td>\n",
              "      <td>58</td>\n",
              "      <td>80</td>\n",
              "      <td>65</td>\n",
              "      <td>80</td>\n",
              "    </tr>\n",
              "  </tbody>\n",
              "</table>\n",
              "<p>5 rows × 22 columns</p>\n",
              "</div>"
            ]
          }
        }
      ],
      "source": [],
      "id": "1c0083d1-1ca6-4694-8d70-3d83bc2a2cd9"
    },
    {
      "cell_type": "markdown",
      "metadata": {},
      "source": [
        "## Etape 2\n",
        "\n",
        "Nous aimerions que vous récupériez également les images des 5 premiers pokémons et que vous les enregistriez dans un dossier\n",
        "\n",
        "Idée : Utilisez les modules `request` et [`shutil`](https://docs.python.org/3/library/shutil.html)\n",
        "\n",
        "*pour cette question, il faut que vous cherchiez de vous même certains éléments, tout n’est pas présent dans le TD*.\n",
        "\n",
        "{{% /box %}}\n",
        "\n",
        "# Exercice supplémentaire \\[BONUS\\]\n",
        "\n",
        "{{% box status=“exercise” title=“Les ministres sur wikipédia” icon=“fas fa-pencil-alt” %}}\n",
        "\n",
        "Scraper la liste des ministres français depuis wikipedia. Faire une graphique qui représente la distribution de leur âge.\n",
        "\n",
        "Si vous avez une solution satisfaisante, n’hésitez pas à la soumettre\n",
        "sur <a href=\"https://github.com/linogaliana/python-datascientist\" class=\"github\"><i class=\"fab fa-github\"></i></a>\n",
        "(car je n’ai pas encore testé…)\n",
        "\n",
        "{{% /box %}}\n",
        "\n",
        "# `Selenium` : mimer le comportement d’un utilisateur internet\n",
        "\n",
        "Jusqu’à présent, nous avons raisonné comme si nous connaissions toujours l’url qui nous intéresse. De plus, les pages que nous visitons sont “statiques”, elles ne dépendent pas d’une action ou d’une recherche de l’internaute.\n",
        "\n",
        "Nous allons voir à présent comment nous en sortir pour remplir des champs sur un site web et récupérer ce qui nous intéresse.\n",
        "\n",
        "L’avantage du package [Selenium](https://pypi.python.org/pypi/selenium) est d’obtenir des informations du site qui ne sont pas dans le code html mais qui apparaissent uniquement à la suite de l’exécution de script javascript en arrière plan.\n",
        "\n",
        "Selenium se comporte comme un utilisateur lambda sur internet : il clique sur des liens, il remplit des formulaires etc. Dans cet exemple, nous allons essayer de aller sur le site de [Bing Actualités](https://www.bing.com/news) et entrer dans la barre de recherche un sujet donné (Trump).\n",
        "\n",
        "L’installation de `selenium` nécessite d’avoir chromium qui est un\n",
        "navigateur Google Chrome minimaliste.\n",
        "La version de [chromedriver](https://sites.google.com/a/chromium.org/chromedriver/) doit être `>= 2.36` et dépend de la version de Chrome que vous avez sur votre poste.\n",
        "\n",
        "``` python\n",
        "!pip install selenium\n",
        "\n",
        "# Sur votre poste  \n",
        "# télécharger le chrome driver https://chromedriver.storage.googleapis.com/index.html?path=85.0.4183.83/\n",
        "\n",
        "# Sur google colab \n",
        "# https://stackoverflow.com/questions/51046454/how-can-we-use-selenium-webdriver-in-colab-research-google-com\n",
        "!apt-get update # to update ubuntu to correctly run apt install\n",
        "!apt install chromium-chromedriver\n",
        "!cp /usr/lib/chromium-browser/chromedriver /usr/bin\n",
        "import sys\n",
        "sys.path.insert(0,'/usr/lib/chromium-browser/chromedriver')\n",
        "```\n",
        "\n",
        "``` python\n",
        "import selenium\n",
        "path_to_web_driver = \"chromedriver\"\n",
        "```\n",
        "\n",
        "On va sur le site de Bing Actualités, et on lui indique le mot clé que nous souhaitons chercher.\n",
        "\n",
        "Dans cet exemple, on va voir que l’ordinateur va ouvrir une nouvelle fenêtre.\n",
        "\n",
        "``` python\n",
        "import time\n",
        "\n",
        "from selenium import webdriver\n",
        "from selenium.webdriver.common.keys import Keys\n",
        "\n",
        "chrome_options = webdriver.ChromeOptions()\n",
        "chrome_options.add_argument('--headless')\n",
        "chrome_options.add_argument('--no-sandbox')\n",
        "#chrome_options.add_argument('--verbose') \n",
        "#chrome_options.add_argument('--disable-dev-shm-usage')\n",
        "\n",
        "browser = webdriver.Chrome(executable_path=path_to_web_driver,\n",
        "                           options=chrome_options)\n",
        "\n",
        "browser.get('https://www.bing.com/news')\n",
        "\n",
        "# on cherche l'endroit où on peut remplir un formulaire\n",
        "# en utilisant les outils du navigateur > inspecter les éléments de la page\n",
        "# on voit que la barre de recherche est un élement du code appelé 'q' comme query\n",
        "# on lui demande de chercher cet élément\n",
        "\n",
        "search = browser.find_element_by_name('q')\n",
        "print(search)\n",
        "print([search.text, search.tag_name, search.id])\n",
        "\n",
        "# on envoie à cet endroit le mot qu'on aurait tapé dans la barre de recherche\n",
        "search.send_keys(\"Trump\")\n",
        "\n",
        "search_button = browser.find_element_by_xpath(\"//input[@id='sb_form_go']\")\n",
        "\n",
        "#search_button = browser.find_element_by_id('search_button_homepage')\n",
        " \n",
        "search_button.click()\n",
        "\n",
        "# on appuie sur le bouton \"Entrée\" Return en anglais\n",
        "#search.send_keys(Keys.RETURN)\n",
        "```\n",
        "\n",
        "``` python\n",
        "png = browser.get_screenshot_as_png()\n",
        "```\n",
        "\n",
        "``` python\n",
        "from IPython.display import Image\n",
        "Image(png, width='500')\n",
        "```\n",
        "\n",
        "On extrait les résultats.\n",
        "\n",
        "``` python\n",
        "from selenium.common.exceptions import StaleElementReferenceException\n",
        "links = browser.find_elements_by_xpath(\"//div/a[@class='title'][@href]\")\n",
        "\n",
        "results = []\n",
        "for link in links:\n",
        "    try:\n",
        "        url = link.get_attribute('href')\n",
        "    except StaleElementReferenceException as e:\n",
        "        print(\"Issue with '{0}' and '{1}'\".format(url, link))\n",
        "        print(\"It might be due to slow javascript which produces the HTML page.\")\n",
        "    results.append(url)\n",
        "\n",
        "len(results)\n",
        "```\n",
        "\n",
        "``` python\n",
        "# on a une pause de 10 secondes pour aller voir ce qui se passe sur la page internet\n",
        "# on demande de quitter le navigateur quand tout est fini\n",
        "browser.quit()\n",
        "```\n",
        "\n",
        "``` python\n",
        "print(results)\n",
        "```\n",
        "\n",
        "## Utiliser selenium pour jouer à 2048\n",
        "\n",
        "Dans cet exemple, on utilise le module pour que python appuie lui même sur les touches du clavier afin de jouer à 2048.\n",
        "\n",
        "Note : ce bout de code ne donne pas une solution à 2048, il permet juste de voir ce qu’on peut faire avec selenium\n",
        "\n",
        "``` python\n",
        "from selenium import webdriver\n",
        "from selenium.webdriver.common.keys import Keys\n",
        "\n",
        "# on ouvre la page internet du jeu 2048\n",
        "\n",
        "browser = webdriver.Chrome(executable_path=path_to_web_driver,\n",
        "                           options=chrome_options)\n",
        "browser.get('https://play2048.co//')\n",
        "\n",
        "# Ce qu'on va faire : une boucle qui répète inlassablement la même chose : haut / droite / bas / gauche\n",
        "\n",
        "# on commence par cliquer sur la page pour que les touches sachent \n",
        "browser.find_element_by_class_name('grid-container').click()\n",
        "grid = browser.find_element_by_tag_name('body')\n",
        "\n",
        "# pour savoir quels coups faire à quel moment, on crée un dictionnaire\n",
        "direction = {0: Keys.UP, 1: Keys.RIGHT, 2: Keys.DOWN, 3: Keys.LEFT}\n",
        "count = 0\n",
        "\n",
        "while True:\n",
        "    try: # on vérifie que le bouton \"Try again\" n'est pas là - sinon ça veut dire que le jeu est fini\n",
        "        retryButton = browser.find_element_by_link_text('Try again')\n",
        "        scoreElem = browser.find_element_by_class_name('score-container')\n",
        "        break\n",
        "    except:\n",
        "        #Do nothing.  Game is not over yet\n",
        "        pass\n",
        "    # on continue le jeu - on appuie sur la touche suivante pour le coup d'après\n",
        "    count += 1\n",
        "    grid.send_keys(direction[count % 4]) \n",
        "    time.sleep(0.1)\n",
        "\n",
        "print('Score final : {} en {} coups'.format(scoreElem.text, count))    \n",
        "browser.quit()\n",
        "```"
      ],
      "id": "52a2644d-1286-4c5a-a3f1-0fe32e6672f1"
    }
  ],
  "nbformat": 4,
  "nbformat_minor": 5,
  "metadata": {
    "kernelspec": {
      "name": "python3",
      "display_name": "Python 3 (ipykernel)",
      "language": "python"
    },
    "language_info": {
      "name": "python",
      "codemirror_mode": {
        "name": "ipython",
        "version": "3"
      },
      "file_extension": ".py",
      "mimetype": "text/x-python",
      "nbconvert_exporter": "python",
      "pygments_lexer": "ipython3",
      "version": "3.9.13"
    }
  }
}