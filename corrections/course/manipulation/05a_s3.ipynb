{
 "cells": [
  {
   "cell_type": "markdown",
   "id": "0b75f2e9",
   "metadata": {},
   "source": [
    "#  Lire des données depuis s3\n",
    "\n"
   ]
  },
  {
   "cell_type": "markdown",
   "id": "8a6652f3",
   "metadata": {},
   "source": [
    "<a href=\"https://github.com/linogaliana/python-datascientist/blob/master//__w/python-datascientist/python-datascientist/notebooks/course/manipulation/05a_s3.ipynb\" class=\"github\"><i class=\"fab fa-github\"></i></a>\n",
    "[![Download](https://img.shields.io/badge/Download-Notebook-important?logo=Jupyter)](https://downgit.github.io/#/home?url=https://github.com/linogaliana/python-datascientist/blob/master//__w/python-datascientist/python-datascientist/notebooks/course/manipulation/05a_s3.ipynb)\n",
    "[![nbviewer](https://img.shields.io/badge/Visualize-nbviewer-blue?logo=Jupyter)](https://nbviewer.jupyter.org/github/linogaliana/python-datascientist/blob/master//__w/python-datascientist/python-datascientist/notebooks/course/manipulation/05a_s3.ipynb)\n",
    "[![Onyxia](https://img.shields.io/badge/SSPcloud-Tester%20via%20SSP--cloud-informational&color=yellow?logo=Python)](https://datalab.sspcloud.fr/launcher/inseefrlab-helm-charts-datascience/jupyter?autoLaunch=true&onyxia.friendlyName=%C2%ABpython-datascience%C2%BB&init.personalInit=%C2%ABhttps%3A%2F%2Fraw.githubusercontent.com%2Flinogaliana%2Fpython-datascientist%2Fmaster%2Fsspcloud%2Finit-jupyter.sh%C2%BB&init.personalInitArgs=%C2%ABmanipulation%2005a_s3%C2%BB&security.allowlist.enabled=false)\n",
    "<br>\n",
    "[![Binder](https://img.shields.io/badge/Launch-Binder-E66581.svg?logo=data:image/png;base64,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)](https://mybinder.org/v2/gh/linogaliana/python-datascientist/master?filepath=/__w/python-datascientist/python-datascientist/notebooks/course/manipulation/05a_s3.ipynb)\n",
    "[![Open In Colab](https://colab.research.google.com/assets/colab-badge.svg)](http://colab.research.google.com/github/linogaliana/python-datascientist/blob/master//__w/python-datascientist/python-datascientist/notebooks/course/manipulation/05a_s3.ipynb)\n",
    "[![githubdev](https://open.vscode.dev/badges/open-in-vscode.svg)](https://github.dev/linogaliana/python-datascientist//__w/python-datascientist/python-datascientist/notebooks/course/manipulation/05a_s3.ipynb)\n",
    "\n",
    "## Qu'est-ce que le système de stockage S3 ?\n",
    "\n",
    "Dans les entreprises et administrations, un nombre croissant de données sont\n",
    "disponibles depuis un système de stockage\n",
    "nommé `S3`. \n",
    "Le système S3 (*Simple Storage System*) est un système de stockage développé\n",
    "par Amazon et qui est maintenant devenu une référence pour le stockage en ligne.\n",
    "Il s'agit d'une architecture à la fois\n",
    "sécurisée (données cryptées, accès restreints) et performante.\n",
    "\n",
    "Le concept central du système S3 est le *bucket*.\n",
    "Un *bucket* est un espace (privé ou partagé) où on peut stocker une\n",
    "arborescence de fichiers. Pour accéder aux fichiers figurant\n",
    "dans un *bucket* privé, il fournit des jetons d'accès (l'équivalent d'un mot de passe)\n",
    "reconnus par le serveur de stockage. On peut alors lire et écrire dans le *bucket*.\n",
    "\n",
    "Le SSP cloud \n",
    "[![Onyxia](https://img.shields.io/badge/SSPcloud-Tester%20via%20SSP--cloud-informational&color=yellow?logo=Python)](https://datalab.sspcloud.fr/launcher/inseefrlab-helm-charts-datascience/jupyter?onyxia.friendlyName=%C2%ABpython-datascientist%C2%BB&resources.requests.memory=%C2%AB4Gi%C2%BB) repose par exemple sur cette infrastructure technique. "
   ]
  },
  {
   "cell_type": "markdown",
   "id": "d25e3bb3",
   "metadata": {},
   "source": [
    "## Comment faire avec Python ?\n",
    "\n",
    "### Les librairies principales\n",
    "\n",
    "L'interaction entre ce système distant de fichiers et une session locale de Python\n",
    "est possible grâce à des API. Les deux principales librairies sont les suivantes:\n",
    "\n",
    "* [boto3](https://boto3.amazonaws.com/v1/documentation/api/latest/index.html), une librairie créée et maintenue par Amazon ;\n",
    "* [s3fs](https://s3fs.readthedocs.io/en/latest/), une librairie qui permet d'interagir avec les fichiers stockés à l'instar d'un filesystem classique."
   ]
  },
  {
   "cell_type": "markdown",
   "id": "2db1f275",
   "metadata": {},
   "source": [
    "Ces deux librairies offrent toutes deux la possibilité de se connecter depuis `Python`,\n",
    "à un dépôt de fichiers distant, de lister les fichiers disponibles dans un\n",
    "*bucket*, d'en télécharger un ou plusieurs ou de faire de l'*upload*\n",
    "\n",
    "Les exemples suivants seront réplicables pour les utilisateurs de la plateforme\n",
    "SSP-cloud\n",
    "\n",
    "Personnellement, j'ai une petite préférence pour `boto3` que je trouve plus\n",
    "intuitif.\n",
    "\n",
    "### Quelques cas spéciaux\n",
    "\n",
    "La librairie ultra-performante [`arrow`](https://arrow.apache.org/docs/python/)\n",
    "propose également un accès à des fichiers sur \n",
    "`S3` comme s'ils étaient disponibles sur un _filesystem_\n",
    "local. Un exemple, assez court, est disponible \n",
    "[dans la documentation officielle](https://arrow.apache.org/docs/python/filesystems.html#s3)\n",
    "\n",
    "Les utilisateurs de\n",
    "[`Snakemake`](https://snakemake.readthedocs.io/en/stable/snakefiles/remote_files.html)\n",
    "peuvent également \n",
    "lire ou écrire des tables intermédiaires sur `S3`\n",
    "comme s'ils utilisaient un\n",
    "système de fichier local. En arrière-plan, `snakemake`\n",
    "va utiliser `boto3` pour communiquer avec le système\n",
    "de stockage\n",
    "\n",
    "Un outil très performant utilisant la ligne de commande est également \n",
    "disponible. Son nom est `mc` pour\n",
    "[`Minio Client`](https://docs.min.io/docs/minio-client-complete-guide.html).\n",
    "Il propose les mêmes\n",
    "opérations que la ligne de commande linux mais avec un système distant.\n",
    "\n",
    "## Connexion à un bucket\n",
    "\n",
    "Par la suite, on va utiliser des alias pour les trois valeurs suivantes, qui servent\n",
    "à s'authentifier. \n"
   ]
  },
  {
   "cell_type": "code",
   "execution_count": null,
   "id": "0926cf8a",
   "metadata": {},
   "outputs": [],
   "source": [
    "key_id = 'MY_KEY_ID'\n",
    "access_key = 'MY_ACCESS_KEY'\n",
    "token = \"MY_TOKEN\""
   ]
  },
  {
   "cell_type": "markdown",
   "id": "448b7171",
   "metadata": {},
   "source": [
    "Ces valeurs peuvent être également disponibles dans \n",
    "les variables d'environnement de `Python`. Comme il s'agit d'une information\n",
    "d'authentification personnelle, il ne faut pas stocker les vraies valeurs de ces\n",
    "variables dans un projet, sous peine de partager des traits d'identité sans le\n",
    "vouloir lors d'un partage de code. "
   ]
  },
  {
   "cell_type": "markdown",
   "id": "9e641093",
   "metadata": {},
   "source": [
    "Avec `boto3`, on créé d'abord un client puis on exécute des requêtes dessus.\n",
    "Pour initialiser un client, il suffit, en supposant que l'url du dépôt S3 est\n",
    "`\"https://minio.lab.sspcloud.fr\"`, de faire:\n"
   ]
  },
  {
   "cell_type": "code",
   "execution_count": null,
   "id": "6a2d1c1e",
   "metadata": {
    "lines_to_next_cell": 0
   },
   "outputs": [],
   "source": [
    "import boto3\n",
    "s3 = boto3.client(\"s3\",endpoint_url = \"https://minio.lab.sspcloud.fr\")"
   ]
  },
  {
   "cell_type": "markdown",
   "id": "4a01e54f",
   "metadata": {},
   "source": []
  },
  {
   "cell_type": "markdown",
   "id": "8f3dff34",
   "metadata": {},
   "source": [
    "La logique est identique avec `s3fs`. \n",
    "\n",
    "Si on a des jetons d'accès à jour et dans les variables d'environnement\n",
    "adéquates:\n"
   ]
  },
  {
   "cell_type": "code",
   "execution_count": null,
   "id": "0da40d83",
   "metadata": {
    "lines_to_next_cell": 0
   },
   "outputs": [],
   "source": [
    "import s3fs\n",
    "fs = s3fs.S3FileSystem(\n",
    "  client_kwargs={'endpoint_url': 'https://minio.lab.sspcloud.fr'})"
   ]
  },
  {
   "cell_type": "markdown",
   "id": "d5bf82b4",
   "metadata": {},
   "source": []
  },
  {
   "cell_type": "markdown",
   "id": "7f22f161",
   "metadata": {},
   "source": [
    "La logique d'`Arrow` est proche de celle de `s3fs`. Seuls les noms\n",
    "d'arguments changent\n",
    "\n",
    "Si on a des jetons d'accès à jour et dans les variables d'environnement\n",
    "adéquates:\n"
   ]
  },
  {
   "cell_type": "code",
   "execution_count": null,
   "id": "1c202986",
   "metadata": {
    "lines_to_next_cell": 0
   },
   "outputs": [],
   "source": [
    "from pyarrow import fs\n",
    "s3 = fs.S3FileSystem(endpoint_override='http://'+'minio.lab.sspcloud.fr')\n",
    "s3.get_file_info(fs.FileSelector('projet-relevanc', recursive=True))"
   ]
  },
  {
   "cell_type": "markdown",
   "id": "b445baa0",
   "metadata": {},
   "source": []
  },
  {
   "cell_type": "markdown",
   "id": "84399f50",
   "metadata": {},
   "source": [
    "La logique de `Snakemake` est, quant à elle,\n",
    "plus proche de celle de `boto3`. Seuls les noms\n",
    "d'arguments changent\n",
    "\n",
    "Si on a des jetons d'accès à jour et dans les variables d'environnement\n",
    "adéquates:\n"
   ]
  },
  {
   "cell_type": "code",
   "execution_count": null,
   "id": "2881e85e",
   "metadata": {
    "lines_to_next_cell": 0
   },
   "outputs": [],
   "source": [
    "from snakemake.remote.S3 import RemoteProvider as S3RemoteProvider\n",
    "S3 = S3RemoteProvider(host = \"https://\" + os.getenv('AWS_S3_ENDPOINT'))"
   ]
  },
  {
   "cell_type": "markdown",
   "id": "67d75da9",
   "metadata": {},
   "source": [
    "\n"
   ]
  },
  {
   "cell_type": "markdown",
   "id": "7326a05a",
   "metadata": {},
   "source": [
    "Il se peut que la connexion à ce stade soit refusée (`HTTP error 403`).\n",
    "Cela peut provenir \n",
    "d'une erreur dans l'URL utilisé. Cependant, cela reflète plus généralement\n",
    "des paramètres d'authentification erronés.\n"
   ]
  },
  {
   "cell_type": "markdown",
   "id": "09de6df2",
   "metadata": {},
   "source": [
    "Les paramètres d'authentification sont des arguments supplémentaires:\n"
   ]
  },
  {
   "cell_type": "code",
   "execution_count": null,
   "id": "a2737bb8",
   "metadata": {
    "lines_to_next_cell": 0
   },
   "outputs": [],
   "source": [
    "import boto3\n",
    "s3 = boto3.client(\"s3\",endpoint_url = \"https://minio.lab.sspcloud.fr\",\n",
    "                  aws_access_key_id=key_id, \n",
    "                  aws_secret_access_key=access_key, \n",
    "                  aws_session_token = token)"
   ]
  },
  {
   "cell_type": "markdown",
   "id": "574e0275",
   "metadata": {},
   "source": []
  },
  {
   "cell_type": "markdown",
   "id": "d44b0938",
   "metadata": {},
   "source": [
    "La logique est la même, seuls les noms d'arguments diffèrent\n"
   ]
  },
  {
   "cell_type": "code",
   "execution_count": null,
   "id": "51cb8d4e",
   "metadata": {
    "lines_to_next_cell": 0
   },
   "outputs": [],
   "source": [
    "import s3fs\n",
    "fs = s3fs.S3FileSystem(\n",
    "  client_kwargs={'endpoint_url': 'https://'+'minio.lab.sspcloud.fr'},\n",
    "  key = key_id, secret = access_key,\n",
    "  token = token)"
   ]
  },
  {
   "cell_type": "markdown",
   "id": "84d81b2b",
   "metadata": {},
   "source": []
  },
  {
   "cell_type": "markdown",
   "id": "eec104d7",
   "metadata": {},
   "source": [
    "Tout est en argument cette fois:\n"
   ]
  },
  {
   "cell_type": "code",
   "execution_count": null,
   "id": "c3a42e0b",
   "metadata": {
    "lines_to_next_cell": 0
   },
   "outputs": [],
   "source": [
    "from pyarrow import fs\n",
    "\n",
    "s3 = fs.S3FileSystem(\n",
    "    access_key = key_id,\n",
    "    secret_key = access_key,\n",
    "    session_token = token,\n",
    "    endpoint_override = 'https://'+'minio.lab.sspcloud.fr',\n",
    "    scheme = \"https\"\n",
    "    )"
   ]
  },
  {
   "cell_type": "markdown",
   "id": "976e8145",
   "metadata": {},
   "source": []
  },
  {
   "cell_type": "markdown",
   "id": "6d215ddb",
   "metadata": {},
   "source": [
    "La logique est la même, seuls les noms d'arguments diffèrent\n"
   ]
  },
  {
   "cell_type": "code",
   "execution_count": null,
   "id": "db92efd6",
   "metadata": {
    "lines_to_next_cell": 0
   },
   "outputs": [],
   "source": [
    "from snakemake.remote.S3 import RemoteProvider as S3RemoteProvider\n",
    "S3 = S3RemoteProvider(host = \"https://\" + os.getenv('AWS_S3_ENDPOINT'), access_key_id=key_id, secret_access_key=access_key)"
   ]
  },
  {
   "cell_type": "markdown",
   "id": "000b6250",
   "metadata": {},
   "source": [
    "\n",
    "\n"
   ]
  },
  {
   "cell_type": "markdown",
   "id": "180b116c",
   "metadata": {},
   "source": [
    "Dans le SSP-cloud, \n",
    "lorsque l'initialisation du service `Jupyter` du SSP-cloud est récente\n",
    "(moins de 12 heures), il est possible d'utiliser\n",
    "automatiquement les jetons stockés automatiquement à la création du dépôt. \n",
    "\n",
    "Si on désire accéder aux données du SSP-cloud depuis une session python du\n",
    "datalab (service VSCode, Jupyter...),\n",
    "il faut remplacer l'url par `http://minio.lab.sspcloud.fr`\n",
    "\n",
    "## Lister les fichiers\n",
    "\n",
    "S'il n'y a pas d'erreur à ce stade, c'est que la connexion est bien effective.\n",
    "Pour le vérifier, on peut essayer de faire la liste des fichiers disponibles\n",
    "dans un `bucket` auquel on désire accéder.\n",
    "\n",
    "Par exemple, on peut vouloir\n",
    "tester l'accès aux bases `FILOSOFI` (données de revenu localisées disponibles\n",
    "sur <https://www.insee.fr>) au sein du bucket `donnees-insee`. "
   ]
  },
  {
   "cell_type": "markdown",
   "id": "c75c514d",
   "metadata": {},
   "source": [
    "Pour cela,\n",
    "la méthode `list_objects` offre toutes les options nécessaires:\n"
   ]
  },
  {
   "cell_type": "code",
   "execution_count": null,
   "id": "34e12720",
   "metadata": {
    "lines_to_next_cell": 0
   },
   "outputs": [],
   "source": [
    "for key in s3.list_objects(Bucket='donnees-insee', Prefix='FILOSOFI')['Contents']:\n",
    "    print(key['Key'])"
   ]
  },
  {
   "cell_type": "markdown",
   "id": "b4cd2f5b",
   "metadata": {},
   "source": []
  },
  {
   "cell_type": "markdown",
   "id": "edf36e46",
   "metadata": {},
   "source": [
    "Pour lister les fichiers, c'est la méthode `ls` (celle-ci ne liste pas par\n",
    "défaut les fichiers de manière récursive comme `boto3`):\n"
   ]
  },
  {
   "cell_type": "code",
   "execution_count": null,
   "id": "4df26d0f",
   "metadata": {
    "lines_to_next_cell": 0
   },
   "outputs": [],
   "source": [
    "fs.ls(\"donnees-insee\")"
   ]
  },
  {
   "cell_type": "markdown",
   "id": "137162af",
   "metadata": {},
   "source": [
    "\n",
    "\n",
    "\n"
   ]
  },
  {
   "cell_type": "code",
   "execution_count": null,
   "id": "6f497c69",
   "metadata": {
    "lines_to_next_cell": 0
   },
   "outputs": [],
   "source": [
    "from pyarrow import fs\n",
    "s3 = fs.S3FileSystem(endpoint_override='http://'+'minio.lab.sspcloud.fr')\n",
    "s3.get_file_info(fs.FileSelector('donnees-insee', recursive=True))"
   ]
  },
  {
   "cell_type": "markdown",
   "id": "255326bb",
   "metadata": {},
   "source": [
    "\n",
    "\n"
   ]
  },
  {
   "cell_type": "markdown",
   "id": "e7ad9daa",
   "metadata": {},
   "source": [
    "```shell\n",
    "mc ls -r\n",
    "```\n",
    "\n",
    "\n"
   ]
  },
  {
   "cell_type": "markdown",
   "id": "0a43e02e",
   "metadata": {},
   "source": [
    "## Télécharger un fichier depuis s3 pour l'enregistrer en local\n",
    "\n",
    "Cette méthode n'est en général pas recommandée car, comme on va le voir\n",
    "par la suite, il est possible de lire à la volée des fichiers. Cependant,\n",
    "télécharger un fichier depuis le _cloud_ pour l'écrire sur le disque\n",
    "local peut parfois être utile (par exemple, lorsqu'il est nécessaire\n",
    "de dézipper un fichier). "
   ]
  },
  {
   "cell_type": "markdown",
   "id": "3f7e9a63",
   "metadata": {},
   "source": [
    "On utilise cette fois la méthode `download_file`\n"
   ]
  },
  {
   "cell_type": "code",
   "execution_count": null,
   "id": "5b3ac412",
   "metadata": {
    "lines_to_next_cell": 0
   },
   "outputs": [],
   "source": [
    "s3.download_file('donnees-insee', \"FILOSOFI/2014/FILOSOFI_COM.csv\", 'data.csv')"
   ]
  },
  {
   "cell_type": "markdown",
   "id": "3077387b",
   "metadata": {},
   "source": [
    "\n",
    "\n"
   ]
  },
  {
   "cell_type": "code",
   "execution_count": null,
   "id": "b2cfbd88",
   "metadata": {
    "lines_to_next_cell": 0
   },
   "outputs": [],
   "source": [
    "fs.download('donnees-insee/FILOSOFI/2014/FILOSOFI_COM.csv','test.csv')"
   ]
  },
  {
   "cell_type": "markdown",
   "id": "60bf8b74",
   "metadata": {},
   "source": [
    "\n",
    "\n"
   ]
  },
  {
   "cell_type": "code",
   "execution_count": null,
   "id": "f1e4ca11",
   "metadata": {
    "lines_to_next_cell": 0
   },
   "outputs": [],
   "source": [
    "from snakemake.remote.S3 import RemoteProvider as S3RemoteProvider\n",
    "S3 = S3RemoteProvider(host = \"https://\" + os.getenv('AWS_S3_ENDPOINT'))\n",
    "bucket = \"mon-bucket\"\n",
    "\n",
    "rule ma_super_regle_s3:\n",
    "    input:\n",
    "        fichier = S3.remote(f'{bucket}/moninput.csv')\n",
    "    output:\n",
    "        fichier='mon_dossier_local/monoutput.csv'\n",
    "    run:\n",
    "        shell(\"cp {input[0]} {output[0]}\")"
   ]
  },
  {
   "cell_type": "markdown",
   "id": "340181cb",
   "metadata": {},
   "source": [
    "\n",
    "\n"
   ]
  },
  {
   "cell_type": "code",
   "execution_count": null,
   "id": "89d7fb97",
   "metadata": {
    "lines_to_next_cell": 0
   },
   "outputs": [],
   "source": [
    "mc cp \"donnees-insee/FILOSOFI/2014/FILOSOFI_COM.csv\" 'data.csv'"
   ]
  },
  {
   "cell_type": "markdown",
   "id": "6fd6d13c",
   "metadata": {},
   "source": [
    "\n",
    "\n"
   ]
  },
  {
   "cell_type": "markdown",
   "id": "b3b58bf9",
   "metadata": {},
   "source": [
    "## Lire un fichier directement\n",
    "\n",
    "La méthode précédente n'est pas optimale. En effet, l'un des intérêts des API\n",
    "est qu'on peut traiter un fichier sur `S3` comme s'il s'agissait d'un fichier\n",
    "sur son PC. Cela est d'ailleurs une manière plus sécurisée de procéder puisqu'on\n",
    "lit les données à la volée, sans les écrire dans un filesystem local. \n",
    "\n"
   ]
  },
  {
   "cell_type": "code",
   "execution_count": null,
   "id": "f56140d2",
   "metadata": {
    "lines_to_next_cell": 0
   },
   "outputs": [],
   "source": [
    "obj = s3.get_object(Bucket='donnees-insee', Key=\"FILOSOFI/2014/FILOSOFI_COM.csv\")\n",
    "df = pd.read_csv(obj['Body'], sep = \";\")\n",
    "df.head(2)"
   ]
  },
  {
   "cell_type": "markdown",
   "id": "4aed00f5",
   "metadata": {},
   "source": []
  },
  {
   "cell_type": "markdown",
   "id": "059fbf0d",
   "metadata": {},
   "source": [
    "Le code suivant devrait permettre d'effectuer la même opération avec `s3fs`\n"
   ]
  },
  {
   "cell_type": "code",
   "execution_count": null,
   "id": "f40297b4",
   "metadata": {
    "lines_to_next_cell": 0
   },
   "outputs": [],
   "source": [
    "df = pd.read_csv(fs.open('{}/{}'.format('donnees-insee', \"FILOSOFI/2014/FILOSOFI_COM.csv\"),\n",
    "                         mode='rb')\n",
    "                 )\n",
    "\n",
    "df.head(2)"
   ]
  },
  {
   "cell_type": "markdown",
   "id": "394aa3eb",
   "metadata": {},
   "source": [
    "\n",
    "\n"
   ]
  },
  {
   "cell_type": "code",
   "execution_count": null,
   "id": "a8b6df77",
   "metadata": {
    "lines_to_next_cell": 0
   },
   "outputs": [],
   "source": [
    "from snakemake.remote.S3 import RemoteProvider as S3RemoteProvider\n",
    "S3 = S3RemoteProvider(host = \"https://\" + os.getenv('AWS_S3_ENDPOINT'))\n",
    "bucket = \"mon-bucket\"\n",
    "\n",
    "rule ma_super_regle_s3:\n",
    "    input:\n",
    "        fichier = S3.remote(f'{bucket}/moninput.csv')\n",
    "    run:\n",
    "        import pandas as pd\n",
    "        df = pd.read_csv(input.fichier)\n",
    "        # PLUS D'OPERATIONS"
   ]
  },
  {
   "cell_type": "markdown",
   "id": "3bde95ee",
   "metadata": {},
   "source": []
  },
  {
   "cell_type": "markdown",
   "id": "1520c1a7",
   "metadata": {},
   "source": [
    "`Arrow` est une librairie qui permet de lire des `CSV`.\n",
    "Il est néanmoins\n",
    "beaucoup plus pratique d'utiliser le format `parquet` avec `arrow`. \n",
    "Dans un premier temps, on configure le _filesystem_ avec les \n",
    "fonctionalités d'`Arrow` (cf. précédemment). \n"
   ]
  },
  {
   "cell_type": "code",
   "execution_count": null,
   "id": "be142595",
   "metadata": {},
   "outputs": [],
   "source": [
    "from pyarrow import fs\n",
    "\n",
    "s3 = fs.S3FileSystem(endpoint_override='http://'+'minio.lab.sspcloud.fr')"
   ]
  },
  {
   "cell_type": "markdown",
   "id": "fded89e5",
   "metadata": {},
   "source": [
    "Pour lire un csv, on fera:\n"
   ]
  },
  {
   "cell_type": "code",
   "execution_count": null,
   "id": "e4f2093d",
   "metadata": {},
   "outputs": [],
   "source": [
    "from pyarrow import csv\n",
    "\n",
    "with s3.open_input_file(\"donnees-insee/FILOSOFI/2014/FILOSOFI_COM.csv\") as file:\n",
    "    df = csv.read_csv(file, parse_options=csv.ParseOptions(delimiter=\";\")).to_pandas()\n",
    "\n",
    "df.head(2)"
   ]
  },
  {
   "cell_type": "markdown",
   "id": "ae8f570e",
   "metadata": {},
   "source": [
    "Pour un fichier au format parquet, on privilégiera:\n"
   ]
  },
  {
   "cell_type": "code",
   "execution_count": null,
   "id": "2c11c544",
   "metadata": {
    "lines_to_next_cell": 0
   },
   "outputs": [],
   "source": [
    "#bucket = \"\"\n",
    "parquet_file=\"\"\n",
    "df = pq.ParquetDataset(f'{bucket}/{parquet_file}', filesystem=s3).read_pandas().to_pandas()"
   ]
  },
  {
   "cell_type": "markdown",
   "id": "d6a44835",
   "metadata": {},
   "source": [
    "\n"
   ]
  },
  {
   "cell_type": "markdown",
   "id": "3f09e639",
   "metadata": {},
   "source": [
    "## Uploader un fichier\n",
    "\n"
   ]
  },
  {
   "cell_type": "code",
   "execution_count": null,
   "id": "62c91c34",
   "metadata": {
    "lines_to_next_cell": 0
   },
   "outputs": [],
   "source": [
    "s3.upload_file(file_name, bucket, object_name)"
   ]
  },
  {
   "cell_type": "markdown",
   "id": "0de1e1d5",
   "metadata": {},
   "source": [
    "\n",
    "\n"
   ]
  },
  {
   "cell_type": "code",
   "execution_count": null,
   "id": "fe8cf7dd",
   "metadata": {
    "lines_to_next_cell": 0
   },
   "outputs": [],
   "source": [
    "fs.upload(bucket + \"/\" + file_name)"
   ]
  },
  {
   "cell_type": "markdown",
   "id": "29474374",
   "metadata": {},
   "source": [
    "\n"
   ]
  },
  {
   "cell_type": "markdown",
   "id": "6b898bb9",
   "metadata": {},
   "source": [
    "__TO BE COMPLETED__\n",
    "\n",
    "\n"
   ]
  },
  {
   "cell_type": "code",
   "execution_count": null,
   "id": "1cc701e4",
   "metadata": {
    "lines_to_next_cell": 0
   },
   "outputs": [],
   "source": [
    "from snakemake.remote.S3 import RemoteProvider as S3RemoteProvider\n",
    "S3 = S3RemoteProvider(host = \"https://\" + os.getenv('AWS_S3_ENDPOINT'))\n",
    "bucket = \"mon-bucket\"\n",
    "\n",
    "rule ma_super_regle_s3:\n",
    "    input:\n",
    "        fichier='mon_dossier_local/moninput.csv'\n",
    "    output:\n",
    "        fichier=S3.remote(f'{bucket}/monoutput.csv')\n",
    "    run:\n",
    "        shell(\"cp output.fichier input.fichier\")"
   ]
  },
  {
   "cell_type": "markdown",
   "id": "33083cae",
   "metadata": {},
   "source": [
    "\n",
    "\n",
    "\n"
   ]
  },
  {
   "cell_type": "code",
   "execution_count": null,
   "id": "149307b3",
   "metadata": {
    "lines_to_next_cell": 0
   },
   "outputs": [],
   "source": [
    "mc cp 'data.csv' \"MONBUCKET/monoutput.csv\""
   ]
  },
  {
   "cell_type": "markdown",
   "id": "913ddfa8",
   "metadata": {},
   "source": [
    "\n",
    "\n"
   ]
  },
  {
   "cell_type": "markdown",
   "id": "11d96e10",
   "metadata": {},
   "source": [
    "## Pour aller plus loin\n",
    "\n",
    "- [La documentation sur MinIO du SSPCloud](https://docs.sspcloud.fr/onyxia-guide/stockage-de-donnees)"
   ]
  }
 ],
 "metadata": {
  "kernelspec": {
   "display_name": "Python 3",
   "language": "python",
   "name": "python3"
  }
 },
 "nbformat": 4,
 "nbformat_minor": 5
}
