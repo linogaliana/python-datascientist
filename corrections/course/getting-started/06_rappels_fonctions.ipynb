{
  "cells": [
    {
      "cell_type": "markdown",
      "metadata": {},
      "source": [
        "# Modules, tests, boucles, fonctions"
      ],
      "id": "cddd402c-9a0d-4745-9b58-8a1db78aae18"
    },
    {
      "cell_type": "markdown",
      "metadata": {},
      "source": [
        "``` python\n",
        "import sys\n",
        "sys.path.insert(1, '../../../../') #insert the utils module\n",
        "from utils import print_badges\n",
        "\n",
        "#print_badges(__file__)\n",
        "print_badges(\"content/course/getting-started/06_rappels_fonctions.qmd\")\n",
        "```\n",
        "\n",
        "<p class=\"badges\">\n",
        "\n",
        "<a href=\"https://github.com/linogaliana/python-datascientist/blob/master/notebooks/course/getting-started/06_rappels_fonctions.ipynb\" class=\"github\"><i class=\"fab fa-github\"></i></a>\n",
        "<a href=\"https://downgit.github.io/#/home?url=https://github.com/linogaliana/python-datascientist/blob/master/notebooks/course/getting-started/06_rappels_fonctions.ipynb\" target=\"_blank\" rel=\"noopener\"><img src=\"https://img.shields.io/badge/Download-Notebook-important?logo=Jupyter\" alt=\"Download\"></a>\n",
        "<a href=\"https://nbviewer.jupyter.org/github/linogaliana/python-datascientist/blob/master/notebooks/course/getting-started/06_rappels_fonctions.ipynb\" target=\"_blank\" rel=\"noopener\"><img src=\"https://img.shields.io/badge/Visualize-nbviewer-blue?logo=Jupyter\" alt=\"nbviewer\"></a>\n",
        "<a href=\"https://datalab.sspcloud.fr/launcher/ide/jupyter-python?autoLaunch=true&onyxia.friendlyName=%C2%ABpython-datascience%C2%BB&init.personalInit=%C2%ABhttps%3A%2F%2Fraw.githubusercontent.com%2Flinogaliana%2Fpython-datascientist%2Fmaster%2Fsspcloud%2Finit-jupyter.sh%C2%BB&init.personalInitArgs=%C2%ABgetting-started%2006_rappels_fonctions%C2%BB&security.allowlist.enabled=false\" target=\"_blank\" rel=\"noopener\"><img src=\"https://img.shields.io/badge/SSPcloud-Tester%20via%20SSP--cloud-informational&amp;color=yellow?logo=Python\" alt=\"Onyxia\"></a><br>\n",
        "<a href=\"https://mybinder.org/v2/gh/linogaliana/python-datascientist/master?filepath={binder_path}\" target=\"_blank\" rel=\"noopener\"><img src=\"https://img.shields.io/badge/Launch-Binder-E66581.svg?logo=data:image/png;base64,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\" alt=\"Binder\"></a>\n",
        "<a href=\"http://colab.research.google.com/github/linogaliana/python-datascientist/blob/master/notebooks/course/getting-started/06_rappels_fonctions.ipynb\" target=\"_blank\" rel=\"noopener\"><img src=\"https://colab.research.google.com/assets/colab-badge.svg\" alt=\"Open In Colab\"></a>\n",
        "<a href=\"https://github.dev/linogaliana/python-datascientist/notebooks/course/getting-started/06_rappels_fonctions.ipynb\" target=\"_blank\" rel=\"noopener\"><img src=\"https://img.shields.io/static/v1?logo=visualstudiocode&label=&message=Open%20in%20Visual%20Studio%20Code&labelColor=2c2c32&color=007acc&logoColor=007acc\" alt=\"githubdev\"></a>\n",
        "\n",
        "</p>\n",
        "\n",
        "</p>"
      ],
      "id": "2583a795-db53-49a0-8e00-be368304d0b7"
    },
    {
      "cell_type": "markdown",
      "metadata": {},
      "source": [
        "# Utilisation d’un module installé\n",
        "\n",
        "`Python`, comme `R`, sont des langages\n",
        "construits sur le principe de briques.\n",
        "Ces briques sont ce qu’on appelle des *packages*.\n",
        "\n",
        "Au contraire de `Stata` mais comme pour `R`,\n",
        "il\n",
        "faut **toujours préciser les packages que vous utilisez au début du code**,\n",
        "sinon `Python` ne reconnait pas les fonctions appelées.\n",
        "\n",
        "## Import *module*\n",
        "\n",
        "On charge un module grâce à la commande `import`.\n",
        "Pour chaque code que vous exécutez,\n",
        "il faut charger les modules en introduction.\n",
        "\n",
        "Une fois qu’on a chargé le module,\n",
        "on peut faire appel aux commandes qui en dépendent en les appelant\n",
        "après avoir tapé le nom du module.\n",
        "Si vous ne précisez pas le nom du module avant celui de la fonction,\n",
        "il ne la trouvera pas forcément.\n",
        "\n",
        "Voici un exemple avec le module `numpy`\n",
        "qui est très courant et permet de faire des\n",
        "calculs matriciels sous `Python`."
      ],
      "id": "2f180b6c-db09-4ad0-be83-d2f3ac6f46eb"
    },
    {
      "cell_type": "code",
      "execution_count": 2,
      "metadata": {},
      "outputs": [],
      "source": [
        "import numpy\n",
        "print(numpy.arange(5))"
      ],
      "id": "d173fc54"
    },
    {
      "cell_type": "markdown",
      "metadata": {},
      "source": [
        "### Import *module* as *md* - donner un nom au module\n",
        "\n",
        "On peut aussi donner un pseudonyme au module pour\n",
        "éviter de taper un nom trop long à chaque fois\n",
        "qu’on utilise une fonction.\n",
        "\n",
        "Classiquement le nom raccourci de `numpy` est *`np`*,\n",
        "celui de `pandas` est *`pd`*."
      ],
      "id": "844e83e2-fb69-4d0f-9b07-28fcf22531e1"
    },
    {
      "cell_type": "code",
      "execution_count": 3,
      "metadata": {},
      "outputs": [],
      "source": [
        "import pandas as pd\n",
        "import numpy as np\n",
        "small_array = np.array([[1, 2], [3, 4]])\n",
        "data = pd.DataFrame(small_array)\n",
        "data.head()"
      ],
      "id": "e117280a"
    },
    {
      "cell_type": "markdown",
      "metadata": {},
      "source": [
        "### from *Module* Import *fonction* - seulement une partie du module\n",
        "\n",
        "Si on ne veut pas être obligé de donner\n",
        "le nom du module avant d’appeler\n",
        "la fonction,\n",
        "il y a toujours la possibilité de n’importer qu’une fonction du module.\n",
        "Dans le cas de l’exemple, `Python` sait que la fonction `arrange` est celle de `numpy`.\n",
        "\n",
        "Mais ***attention*** : si deux fonctions de modules différents\n",
        "ont le même nom,\n",
        "c’est toujours la dernière importée qui gagne.\n",
        "\n",
        "On voit souvent `from _module_ import *`.\n",
        "C’est-à-dire qu’on importe toutes\n",
        "les fonctions du module\n",
        "mais on n’a pas besoin de spécifier le nom du module avant les méthodes."
      ],
      "id": "86ef0ff5-3f36-47b0-8dfc-dd600fe30367"
    },
    {
      "cell_type": "markdown",
      "metadata": {},
      "source": [
        "<div class=\"alert alert-danger\" role=\"alert\" style=\"color: rgba(0,0,0,.8); background-color: white; margin-top: 1em; margin-bottom: 1em; margin:1.5625emauto; padding:0 .6rem .8rem!important;overflow:hidden; page-break-inside:avoid; border-radius:.25rem; box-shadow:0 .2rem .5rem rgba(0,0,0,.05),0 0 .05rem rgba(0,0,0,.1); transition:color .25s,background-color .25s,border-color .25s ; border-right: 1px solid #dee2e6 ; border-top: 1px solid #dee2e6 ; border-bottom: 1px solid #dee2e6 ; border-left: .2rem solid #ff0039;\">\n",
        "\n",
        "La méthode `from _module_ import *` n’est pas recommandée car elle rend le code moins intelligible.\n",
        "En effet, d’où vient la fonction `floor` ? De `maths` ou de `numpy` ?\n",
        "Elle risque\n",
        "aussi de créer des conflits de fonction, qui malgré un nom commun peuvent ne\n",
        "pas attendre les mêmes arguments ou objets.\n",
        "\n",
        "</div>"
      ],
      "id": "72e2f7f7-d529-4be5-bbdd-6787e3de21e8"
    },
    {
      "cell_type": "code",
      "execution_count": 4,
      "metadata": {},
      "outputs": [],
      "source": [
        "from numpy import array\n",
        "print(array(5))"
      ],
      "id": "1ba44e29"
    },
    {
      "cell_type": "markdown",
      "metadata": {},
      "source": [
        "# Les tests\n",
        "\n",
        "Les tests permettent d’exécuter telle ou telle instruction\n",
        "selon la valeur d’une condition.\n",
        "\n",
        "Pour faire un test avec un bloc d’instructions, il faut toujours :\n",
        "\n",
        "-   que l’expression à vérifier soit suivie de `:`\n",
        "-   que le bloc d’instruction soit **forcément indenté**\n",
        "\n",
        "## Test avec contrepartie : `if` et `else`\n",
        "\n",
        "Comme dans les autres langages,\n",
        "on teste une condition. Si elle est vérifiée,\n",
        "alors une instruction suit et sinon, une autre instruction est exécutée.\n",
        "\n",
        "Il est conseillé de toujours indiquer une contrepartie afin d’éviter les surprises.\n",
        "\n",
        "### Test d’une équalité ou inéqualité"
      ],
      "id": "14931c59-e9aa-4377-b181-660c53cf0738"
    },
    {
      "cell_type": "code",
      "execution_count": 5,
      "metadata": {},
      "outputs": [],
      "source": [
        "x = 6\n",
        "\n",
        "if x > 5 :\n",
        "    print(\"x est plus grand que 5\")\n",
        "else : # la contrepartie si la condition if n'est pas réalisée\n",
        "    print(\"x est plus petit que 5\")"
      ],
      "id": "6232d661"
    },
    {
      "cell_type": "markdown",
      "metadata": {},
      "source": [
        "### Test dans un intervalle"
      ],
      "id": "481808f9-6385-4d95-8d0f-7ef2f1e9fb2c"
    },
    {
      "cell_type": "code",
      "execution_count": 6,
      "metadata": {},
      "outputs": [],
      "source": [
        "# on peut avoir des intervalles directement\n",
        "x = 6\n",
        "if 5 < x < 10 : \n",
        "    print(\"x est entre 5 et 10\")\n",
        "else : \n",
        "    print(\"x est plus grand que 10\")"
      ],
      "id": "1391b3e2"
    },
    {
      "cell_type": "code",
      "execution_count": 7,
      "metadata": {},
      "outputs": [],
      "source": [
        "# tester plusieurs valeurs avec l'opérateur logique \"or\"\n",
        "x = 5\n",
        "if x == 5 or x == 10 : \n",
        "    print(\"x vaut 5 ou 10\")    \n",
        "else : \n",
        "    print(\"x est différent de 5 et 10\")"
      ],
      "id": "fcdc517e"
    },
    {
      "cell_type": "markdown",
      "metadata": {},
      "source": [
        "### Tests successifs : `if`, `elif` et `else`\n",
        "\n",
        "Avec `if` et `elif`,\n",
        "dès qu’on rencontre une condition qui est réalisée,\n",
        "on n’en cherche pas d’autres potentiellement vérifiées.\n",
        "Plusieurs `if` à la suite peuvent quant à eux être vérifiés.\n",
        "Suivant ce que vous souhaitez faire, les opérateurs ne sont pas substituables.\n",
        "\n",
        "Notez la différence entre ces deux bouts de code :"
      ],
      "id": "561ce5d4-ec58-4715-a515-cde8637ca276"
    },
    {
      "cell_type": "code",
      "execution_count": 8,
      "metadata": {},
      "outputs": [],
      "source": [
        "#code 1\n",
        "x = 5\n",
        "\n",
        "if x != 10 : \n",
        "    print(\"x ne vaut pas 10\")   \n",
        "elif x >= 5 : \n",
        "    print(\"x est égal ou supérieur à 5\")"
      ],
      "id": "74aef253"
    },
    {
      "cell_type": "markdown",
      "metadata": {},
      "source": [
        "Dans le cas de elif, on **s’arrête à la première condition** vérifiée et dans le cas suivant, on **continue à chaque condition vérifiée**"
      ],
      "id": "8d684ca4-2a74-490f-b9e2-aef84d44fb56"
    },
    {
      "cell_type": "code",
      "execution_count": 9,
      "metadata": {},
      "outputs": [],
      "source": [
        "#code 2\n",
        "x = 5\n",
        "\n",
        "if x != 10 : \n",
        "    print(\"x ne vaut pas 10\")   \n",
        "if x >= 5 : \n",
        "    print(\"x est égal ou supérieur à 5\")"
      ],
      "id": "c091464d"
    },
    {
      "cell_type": "markdown",
      "metadata": {},
      "source": [
        "# Boucles\n",
        "\n",
        "Il existe deux types de boucles : les boucles ***`for`*** et les boucles ***`while`***\n",
        "\n",
        "La boucle *`for`* parcourt un ensemble, tandis que la boucle *`while`*\n",
        "continue tant qu’une condition est vraie.\n",
        "\n",
        "## Boucle `for`\n",
        "\n",
        "### Parcourir une liste croissantes d’entiers"
      ],
      "id": "a07cf039-1059-4bce-b9da-b6ef8a804ecf"
    },
    {
      "cell_type": "code",
      "execution_count": 10,
      "metadata": {},
      "outputs": [],
      "source": [
        "# parcourt les entiers de 0 à n-1 inclus\n",
        "for i in range(0,3) : \n",
        "    print(i)"
      ],
      "id": "ff826794"
    },
    {
      "cell_type": "markdown",
      "metadata": {},
      "source": [
        "### Parcourir une liste décroissante d’entiers"
      ],
      "id": "fe3d8585-ecd3-421b-bcea-fa9a6c8556d2"
    },
    {
      "cell_type": "code",
      "execution_count": 11,
      "metadata": {},
      "outputs": [],
      "source": [
        "# parcourt les entiers de 3 à n+1 inclus\n",
        "for i in range(3,0,-1) : \n",
        "    print(i)"
      ],
      "id": "4e5802d3"
    },
    {
      "cell_type": "markdown",
      "metadata": {},
      "source": [
        "### Parcourir une liste de chaines de caractères\n",
        "\n",
        "On va faire une boucle sur les éléments d’une liste\n",
        "\n",
        "#### Boucle sur les éléments d’une liste"
      ],
      "id": "bee5c31e-022c-480a-9e59-34770e9f993f"
    },
    {
      "cell_type": "code",
      "execution_count": 12,
      "metadata": {},
      "outputs": [],
      "source": [
        "liste_elements = ['Nicolas','Romain','Florimond']\n",
        "\n",
        "# pour avoir l'ensemble des éléments de la liste\n",
        "for item in liste_elements : \n",
        "    print(item)"
      ],
      "id": "2ccbbcca"
    },
    {
      "cell_type": "markdown",
      "metadata": {},
      "source": [
        "#### Boucle sur les éléments d’une liste dans une autre liste"
      ],
      "id": "d02eaf55-8cab-4383-b62f-44b9e5d20f74"
    },
    {
      "cell_type": "code",
      "execution_count": 13,
      "metadata": {},
      "outputs": [],
      "source": [
        "# pour avoir la place des éléments de la première liste dans la seconde liste  \n",
        "\n",
        "liste_globale = ['Violette','Nicolas','Mathilde','Romain','Florimond','Helene'] \n",
        "\n",
        "for item in liste_elements : \n",
        "    print(item,liste_globale.index(item))"
      ],
      "id": "081bd480"
    },
    {
      "cell_type": "markdown",
      "metadata": {},
      "source": [
        "### Bonus : les list comprehension\n",
        "\n",
        "Avec les listes, il existe aussi un moyen très élégant de condenser son code pour éviter de faire apparaitre des boucles sans arrêt. Comme les boucles doivent etre indentées, le code peut rapidement devenir illisible.\n",
        "\n",
        "Grace aux list comprehension, vous pouvez en une ligne faire ce qu’une boucle vous permettait de faire en 3 lignes.\n",
        "\n",
        "Par exemple, imaginez que vous vouliez faire la liste de toutes les lettres contenues dans un mot, avec un boucle vous devrez d’abord créer une liste vide, puis ajouter à cette liste toutes les lettres en question avec un .append()"
      ],
      "id": "815b05c0-d344-48ac-83de-af6eef361014"
    },
    {
      "cell_type": "code",
      "execution_count": 14,
      "metadata": {},
      "outputs": [],
      "source": [
        "liste_lettres = []\n",
        "\n",
        "for lettre in 'ENSAE':\n",
        "    liste_lettres.append(lettre)\n",
        "\n",
        "print(liste_lettres)"
      ],
      "id": "80cbed9c"
    },
    {
      "cell_type": "markdown",
      "metadata": {},
      "source": [
        "avec une list comprehension, on condense la syntaxe de la manière suivante :"
      ],
      "id": "3159bef2-863f-4895-a792-5b0fd7bd9faf"
    },
    {
      "cell_type": "code",
      "execution_count": 15,
      "metadata": {},
      "outputs": [],
      "source": [
        "h_letters = [ letter for letter in 'ENSAE' ]\n",
        "print(h_letters)"
      ],
      "id": "eec87d70"
    },
    {
      "cell_type": "markdown",
      "metadata": {},
      "source": [
        "Avec une list comprehension\n",
        "\n",
        "``` python\n",
        "[ expression for item in list if conditional ]\n",
        "```\n",
        "\n",
        "est équivalent à\n",
        "\n",
        "``` python\n",
        "for item in list:\n",
        "    if conditional:\n",
        "        expression  \n",
        "```\n",
        "\n",
        "#### Mise en application\n",
        "\n",
        "Mettez sous forme de list comprehension le bout de code suivant"
      ],
      "id": "1e546e3a-a345-49c6-bb2c-f0c337b55a34"
    },
    {
      "cell_type": "code",
      "execution_count": 16,
      "metadata": {},
      "outputs": [],
      "source": [
        "squares = []\n",
        "\n",
        "for x in range(10):\n",
        "    squares.append(x**2)\n",
        "print(squares)"
      ],
      "id": "bf405009"
    },
    {
      "cell_type": "code",
      "execution_count": 17,
      "metadata": {},
      "outputs": [],
      "source": [
        "# Correction\n",
        "squares = [x**2 for x in range(10)]\n",
        "squares"
      ],
      "id": "74bef6c5"
    },
    {
      "cell_type": "markdown",
      "metadata": {},
      "source": [
        "## Boucle while\n",
        "\n",
        "Le bloc d’instruction d’une boucle **while** est exécuté tant que la condition est vérifiée.\n",
        "\n",
        "Le piège de ces boucles : la boucle `while` infinie ! Il faut toujours vérifier que votre boucle s’arrêtera un jour, il faut qu’à un moment ou à un autre, il y ait un élément qui s’incrémente ou qui soit modifié."
      ],
      "id": "0c1940d4-4c98-4c25-b216-84124b751500"
    },
    {
      "cell_type": "code",
      "execution_count": 18,
      "metadata": {},
      "outputs": [],
      "source": [
        "x = 10\n",
        "y = 8\n",
        "# tant que y est plus petit que 10, je continue de lui ajouter 1\n",
        "while y <= x : \n",
        "    print(\"y n'est pas encore plus grand que x\")\n",
        "    y += 1 # l'incrément\n",
        "else : \n",
        "    print(\"y est plus grand que x et vaut\",y)"
      ],
      "id": "38f60d44"
    },
    {
      "cell_type": "markdown",
      "metadata": {},
      "source": [
        "## Break et continue\n",
        "\n",
        "Dans les boucles *for* ou *while* on peut avoir besoin d’ignorer ou de ne pas effectuer certaines itérations. **2 instructions utiles** :\n",
        "\n",
        "-   l’instruction **break** : permet de sortir de la boucle\n",
        "-   l’instruction **continue** : permet de passer à l’itération suivante sans exécuter les instructions qui suivent"
      ],
      "id": "bf7ddf69-2732-4d32-b1ec-63370952aecf"
    },
    {
      "cell_type": "code",
      "execution_count": 19,
      "metadata": {},
      "outputs": [],
      "source": [
        "# utilisation de break\n",
        "for x in range(5) : \n",
        "    if x == 2 : \n",
        "        break\n",
        "    else :\n",
        "        print(x)"
      ],
      "id": "4dfad89e"
    },
    {
      "cell_type": "code",
      "execution_count": 20,
      "metadata": {},
      "outputs": [],
      "source": [
        "# utilisation de continue\n",
        "for x in range(5) : \n",
        "    if x == 2 : \n",
        "        continue\n",
        "    else :\n",
        "        print(x)"
      ],
      "id": "f435938b"
    },
    {
      "cell_type": "markdown",
      "metadata": {},
      "source": [
        "# Créer ses fonctions\n",
        "\n",
        "Les fonctions permettent de faire la même chose sans avoir à recopier le code plusieurs fois dans le même programme. Dès que vous le pouvez, faites des fonctions : le copier-coller est trop dangereux.\n",
        "\n",
        "-   Elles peuvent prendre plusieurs paramètres (ou aucun) elles peuvent retourner plusieurs résultats (ou aucun)\n",
        "-   Pour mettre une aide à la fonction, on écrit au début entre ““” ““” (en rouge dans l’exemple)"
      ],
      "id": "0259e1d9-7875-4c28-960f-bdb3ae048689"
    },
    {
      "cell_type": "code",
      "execution_count": 21,
      "metadata": {},
      "outputs": [],
      "source": [
        "# 1er exemple de fonction\n",
        "\n",
        "def ma_fonction_increment(parametre) : \n",
        "    \"\"\"Cette fonction ajoute 1 au paramètre qu'on lui donne\"\"\"\n",
        "    x = parametre + 1 \n",
        "    return x\n",
        "\n",
        "# pour documenter la fonction, on écrit son aide\n",
        "help(ma_fonction_increment)"
      ],
      "id": "4eb70ece"
    },
    {
      "cell_type": "markdown",
      "metadata": {},
      "source": [
        "On peut également :\n",
        "\n",
        "-   avoir des paramètres **facultatifs**, mais ils doivent toujours être placés à la **fin des paramètres**\n",
        "-   en cas de paramètre facultatif, il faut lui donner une valeur par défaut\n",
        "-   retourner plus d’un élément à la fin d’une fonction\n",
        "-   avoir des paramètres de tailles différentes"
      ],
      "id": "dbb01fa7-7ed8-4729-83c0-974af6926b9c"
    },
    {
      "cell_type": "code",
      "execution_count": 22,
      "metadata": {},
      "outputs": [],
      "source": [
        "def ma_fonction(p,q = 2) :\n",
        "    y1 = p + q\n",
        "    y2 = y1%3 #reste de la division euclidienne\n",
        "    return y1,y2\n",
        "\n",
        "x = ma_fonction(11) \n",
        "# ici, on n'a pas de 2nd paramètre\n",
        "#, par défaut, x = ma_fonction(10,2)\n",
        "print(\"x=\", x)\n",
        "\n",
        "z = ma_fonction(10,-1)\n",
        "print(\"z =\",z)"
      ],
      "id": "337781ec"
    },
    {
      "cell_type": "markdown",
      "metadata": {},
      "source": [
        "Une fonction peut également s’appeler elle même : c’est ce qu’on appelle une fonction récursive.\n",
        "\n",
        "Dans cet exemple, `somme_recursion()` est une fonction que nous avons définie de sorte à ce qu’elle s’appelle elle-même (récursif).\n",
        "\n",
        "On utilise l’argument k, qui décroit (-1) chaque fois qu’on fait appel à la fonction.\n",
        "\n",
        "La récursion s’arrête quand k est nul.\n",
        "Dans cet exemple, on va donc appeler 6 fois la fonction récursive."
      ],
      "id": "f46726cc-2f1d-4219-a243-933636b88955"
    },
    {
      "cell_type": "code",
      "execution_count": 23,
      "metadata": {},
      "outputs": [],
      "source": [
        "def somme_recursion(k):\n",
        "    if(k > 0):\n",
        "        result = k + somme_recursion(k - 1)\n",
        "        print(k,result)\n",
        "    else:\n",
        "        result = 0\n",
        "    return result\n",
        "somme_recursion(6)"
      ],
      "id": "dab0ad57"
    },
    {
      "cell_type": "markdown",
      "metadata": {},
      "source": [
        "Les fonctions sont très utiles et nous vous invitons à les utiliser dès que vous le pouvez car elles permettent d’avoir un code clair et structuré, plutôt que des bouts de code éparpillés.\n",
        "\n",
        "# Lever des exceptions\n",
        "\n",
        "Python peut rencontrer des erreurs en exécutant votre programme.\n",
        "\n",
        "Ces erreurs peuvent être interceptées très facilement et c’est même, dans certains cas, indispensable. Par exemple, si vous voulez faire une boucle mais que vous savez que l’instruction ne marchera pas toujours : au lieu de lister les cas où une opération n’est pas possible, on peut indiquer directement quelle erreur doit être ignorée.\n",
        "\n",
        "Cependant, il ne faut pas tout intercepter non plus : si Python envoie une erreur, c’est qu’il y a une raison. Si vous ignorez une erreur, vous risquez d’avoir des résultats très étranges dans votre programme."
      ],
      "id": "d6080757-434d-44dd-853b-2bd1efca7f4a"
    },
    {
      "cell_type": "code",
      "execution_count": 24,
      "metadata": {},
      "outputs": [],
      "source": [
        "# éviter une division par 0, c'est une bonne idée : \n",
        "\n",
        "def inverse(x) :\n",
        "    '''Cette fonction renvoie l inverse de l argument'''\n",
        "    y = 1/x\n",
        "    return y\n",
        "\n",
        "div = inverse(0)"
      ],
      "id": "2c1b4aee"
    },
    {
      "cell_type": "markdown",
      "metadata": {},
      "source": [
        "L’erreur est écrite noir sur blanc : **ZeroDivisionError**\n",
        "\n",
        "Dans l’idéal on aimerait éviter que notre code bloque sur ce problème. On pourrait passer par un test if et vérifier que x est différent de 0. Mais on se rend vite compte que dans certains cas, on ne peut lister tous les tests en fonction de valeurs.\n",
        "\n",
        "Alors on va lui précisier ce qu’il doit faire en fonction de l’erreur retournée.\n",
        "\n",
        "**Syntaxe**\n",
        "\n",
        "Try :\n",
        "\n",
        "    instruction\n",
        "\n",
        "except TypeErreur :\n",
        "\n",
        "    autre instruction"
      ],
      "id": "9fd29015-f2f0-4024-97be-f5f89c1a2bbc"
    },
    {
      "cell_type": "raw",
      "metadata": {
        "raw_mimetype": "text/html"
      },
      "source": [
        "<!-- #endregion -->"
      ],
      "id": "2cc7aa3c-ca4c-4e48-948c-26a7d2240e1c"
    },
    {
      "cell_type": "code",
      "execution_count": 25,
      "metadata": {},
      "outputs": [],
      "source": [
        "def inverse(x) : \n",
        "    try :\n",
        "        y = 1/x\n",
        "    except ZeroDivisionError :\n",
        "        y = None\n",
        "    return y\n",
        "    \n",
        "print(inverse(10))\n",
        "print(inverse(0))"
      ],
      "id": "27031cc9"
    },
    {
      "cell_type": "markdown",
      "metadata": {},
      "source": [
        "Il est recommandé de toujours **préciser le type d’erreur** qu’on rencontre. Si on met uniquement “except” sans préciser le type, on peut passer à côté d’erreurs pour lesquelles la solution n’est pas universelle.\n",
        "\n",
        "# A retenir et questions\n",
        "\n",
        "## A retenir\n",
        "\n",
        "-   Toujours mettre “:” avant un bloc d’instructions\n",
        "-   Indenter avant un bloc d’instructions (avec 4 espaces et non une tabulation !)\n",
        "-   Indiquer les modules nécessaires à l’exécution en début de code\n",
        "-   Documenter les fonctions créées\n",
        "-   Préciser le type d’erreur pour les exceptions et potentiellement différencier les blocs d’instructions en fonction de l’erreur\n",
        "\n",
        "## Questions\n",
        "\n",
        "-   Que fait ce programme ?"
      ],
      "id": "c75cc5e1-0c78-4d0e-839a-bd2c23b857c9"
    },
    {
      "cell_type": "code",
      "execution_count": 26,
      "metadata": {},
      "outputs": [],
      "source": [
        "def inverse(x) : \n",
        "    try :\n",
        "        y = 1/x\n",
        "    except ZeroDivisionError :\n",
        "        y = None\n",
        "        return y"
      ],
      "id": "6e3b84c8"
    },
    {
      "cell_type": "code",
      "execution_count": 27,
      "metadata": {},
      "outputs": [],
      "source": [
        "# Correction\n",
        "print(inverse(1))\n",
        "# On voit que le return est mal placé ! Dans le cas de x différent de 0 on ne renvoie rien !"
      ],
      "id": "7208ec20"
    },
    {
      "cell_type": "markdown",
      "metadata": {},
      "source": [
        "-   Ecrivez un programme qui peut trouver tous les nombres divisibles par 7 et non multiples de 5 entre 6523 et 8463 (inclus)"
      ],
      "id": "3e4bd6d6-11d5-4ea2-a756-c1caebee7760"
    },
    {
      "cell_type": "code",
      "execution_count": 28,
      "metadata": {},
      "outputs": [],
      "source": [
        "# Correction\n",
        "def ma_super_fonction() :\n",
        "    liste = []\n",
        "    for i in range(6523,8463+1): \n",
        "        if i%7==0 and i%5!=0 :\n",
        "            liste.append(i)\n",
        "    return liste\n",
        "\n",
        "ma_super_fonction()"
      ],
      "id": "3d6c9bd6"
    },
    {
      "cell_type": "markdown",
      "metadata": {},
      "source": [
        "-   Ecrivez un programme qui prend une phrase en entrée et qui calcule le nombre de voyelles en Majuscules et de consonnes en minuscules :\n",
        "    -   phrase = “Vous savez, moi je ne crois pas qu’il y ait de bonne ou de mauvaise situation. Moi, si je devais résumer ma vie aujourd’hui avec vous, je dirais que c’est d’abord des rencontres. Des gens qui m’ont tendu la main, peut-être à un moment où je ne pouvais pas, où j’étais seul chez moi. Et c’est assez curieux de se dire que les hasards, les rencontres forgent une destinée… Parce que quand on a le goût de la chose, quand on a le goût de la chose bien faite, le beau geste, parfois on ne trouve pas l’interlocuteur en face je dirais, le miroir qui vous aide à avancer. Alors ça n’est pas mon cas, comme je disais là, puisque moi au contraire, j’ai pu : et je dis merci à la vie, je lui dis merci, je chante la vie, je danse la vie… je ne suis qu’amour ! Et finalement, quand beaucoup de gens aujourd’hui me disent ‘Mais comment fais-tu pour avoir cette humanité ?’, et bien je leur réponds très simplement, je leur dis que c’est ce goût de l’amour ce goût donc qui m’a poussé aujourd’hui à entreprendre une construction mécanique, mais demain qui sait ? Peut-être simplement à me mettre au service de la communauté, à faire le don, le don de soi…”"
      ],
      "id": "19821dd2-81ef-4a49-8cd3-a749e7991133"
    },
    {
      "cell_type": "code",
      "execution_count": 29,
      "metadata": {},
      "outputs": [],
      "source": [
        "phs = \"Vous savez, moi je ne crois pas qu’il y ait de bonne ou de mauvaise situation. Moi, si je devais résumer ma vie aujourd’hui avec vous, je dirais que c’est d’abord des rencontres. Des gens qui m’ont tendu la main, peut-être à un moment où je ne pouvais pas, où j’étais seul chez moi. Et c’est assez curieux de se dire que les hasards, les rencontres forgent une destinée... Parce que quand on a le goût de la chose, quand on a le goût de la chose bien faite, le beau geste, parfois on ne trouve pas l’interlocuteur en face je dirais, le miroir qui vous aide à avancer. Alors ça n’est pas mon cas, comme je disais là, puisque moi au contraire, j’ai pu : et je dis merci à la vie, je lui dis merci, je chante la vie, je danse la vie... je ne suis qu’amour ! Et finalement, quand beaucoup de gens aujourd’hui me disent 'Mais comment fais-tu pour avoir cette humanité ?', et bien je leur réponds très simplement, je leur dis que c’est ce goût de l’amour ce goût donc qui m’a poussé aujourd’hui à entreprendre une construction mécanique, mais demain qui sait ? Peut-être simplement à me mettre au service de la communauté, à faire le don, le don de soi...\"\n",
        "\n",
        "def ma_super_fonction2(phrase) :\n",
        "    liste_voyelles_majuscules=[x.upper() for x in [\"a\",\"e\",\"i\",\"o\",\"u\",\"y\"]]\n",
        "    nombre_voyelles_majuscules = 0\n",
        "    nombre_consonnes_minuscules = 0 \n",
        "    for lettre in phrase:\n",
        "        if lettre in liste_voyelles_majuscules:\n",
        "            nombre_voyelles_majuscules += 1\n",
        "        elif lettre.lower()==lettre and lettre not in [\"a\",\"e\",\"i\",\"o\",\"u\",\"y\"]:\n",
        "            nombre_consonnes_minuscules +=1\n",
        "    print(\"Il y a \", nombre_voyelles_majuscules, \"voyelles en majuscule et \",nombre_consonnes_minuscules, \"consonnes en minuscule.\")\n",
        "\n",
        "ma_super_fonction2(phs)"
      ],
      "id": "f8c52ea5"
    }
  ],
  "nbformat": 4,
  "nbformat_minor": 5,
  "metadata": {
    "kernelspec": {
      "name": "python3",
      "display_name": "Python 3 (ipykernel)",
      "language": "python"
    },
    "language_info": {
      "name": "python",
      "codemirror_mode": {
        "name": "ipython",
        "version": "3"
      },
      "file_extension": ".py",
      "mimetype": "text/x-python",
      "nbconvert_exporter": "python",
      "pygments_lexer": "ipython3",
      "version": "3.9.16"
    }
  }
}