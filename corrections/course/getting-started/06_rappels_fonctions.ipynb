{
  "cells": [
    {
      "cell_type": "raw",
      "metadata": {},
      "source": [
        "---\n",
        "title: 'Modules, tests, boucles, fonctions'\n",
        "date: '2020-07-09T15:00:00Z'\n",
        "draft: false\n",
        "weight: 60\n",
        "slug: rappelsfonctions\n",
        "type: book\n",
        "summary: |\n",
        "  Les fonctions permettent de généraliser des\n",
        "  instructions. Il s'agit ainsi d'un outil privilégié\n",
        "  pour automatiser des tâches répétitives ou réduire\n",
        "  la complexité d'une chaîne de traitement. Elles sont donc\n",
        "  à utiliser sans modération. Ce chapitre présente quelques\n",
        "  rappels sur le sujet.\n",
        "format:\n",
        "  html: default\n",
        "  ipynb: default\n",
        "---"
      ],
      "id": "fff3db5c"
    },
    {
      "cell_type": "markdown",
      "metadata": {},
      "source": [
        "::: {.cell .markdown}"
      ],
      "id": "5c2663ce"
    },
    {
      "cell_type": "code",
      "metadata": {},
      "source": [
        "#| echo: false\n",
        "#| output: 'asis'\n",
        "#| include: true\n",
        "#| eval: true\n",
        "\n",
        "import sys\n",
        "sys.path.insert(1, '../../../../') #insert the utils module\n",
        "from utils import print_badges\n",
        "\n",
        "#print_badges(__file__)\n",
        "print_badges(\"content/course/getting-started/06_rappels_fonctions.qmd\")"
      ],
      "id": "da9ec305",
      "execution_count": null,
      "outputs": []
    },
    {
      "cell_type": "markdown",
      "metadata": {},
      "source": [
        ":::\n",
        "\n",
        "# Utilisation d'un module installé\n",
        "\n",
        "`Python`, comme `R`, sont des langages\n",
        "construits sur le principe de briques. \n",
        "Ces briques sont ce qu'on appelle des _packages_.\n",
        "\n",
        "Au contraire de `Stata` mais comme pour `R`,\n",
        "il\n",
        "faut __toujours préciser les packages que vous utilisez au début du code__,\n",
        "sinon `Python` ne reconnait pas les fonctions appelées. \n",
        "\n",
        "## Import _module_\n",
        "\n",
        "On charge un module grâce à la commande `import`.\n",
        "Pour chaque code que vous exécutez,\n",
        "il faut charger les modules en introduction. \n",
        "\n",
        "Une fois qu'on a chargé le module,\n",
        "on peut faire appel aux commandes qui en dépendent en les appelant\n",
        "après avoir tapé le nom du module.\n",
        "Si vous ne précisez pas le nom du module avant celui de la fonction,\n",
        "il ne la trouvera pas forcément.\n",
        "\n",
        "\n",
        "Voici un exemple avec le module `numpy`\n",
        "qui est très courant et permet de faire des\n",
        "calculs matriciels sous `Python`. \n"
      ],
      "id": "a092abb4"
    },
    {
      "cell_type": "code",
      "metadata": {},
      "source": [
        "import numpy\n",
        "print(numpy.arange(5))"
      ],
      "id": "6d1660c7",
      "execution_count": null,
      "outputs": []
    },
    {
      "cell_type": "markdown",
      "metadata": {},
      "source": [
        "### Import _module_ as _md_ - donner un nom au module\n",
        "\n",
        "On peut aussi donner un pseudonyme au module pour\n",
        "éviter de taper un nom trop long à chaque fois\n",
        "qu'on utilise une fonction.\n",
        "\n",
        "Classiquement le nom raccourci de `numpy` est _`np`_,\n",
        "celui de `pandas` est _`pd`_.\n"
      ],
      "id": "82caca48"
    },
    {
      "cell_type": "code",
      "metadata": {},
      "source": [
        "import pandas as pd\n",
        "import numpy as np\n",
        "small_array = np.array([[1, 2], [3, 4]])\n",
        "data = pd.DataFrame(small_array)\n",
        "data.head()"
      ],
      "id": "75d0c29d",
      "execution_count": null,
      "outputs": []
    },
    {
      "cell_type": "markdown",
      "metadata": {},
      "source": [
        "### from _Module_ Import _fonction_ - seulement une partie du module\n",
        "\n",
        "Si on ne veut pas être obligé de donner\n",
        "le nom du module avant d'appeler\n",
        "la fonction,\n",
        "il y a toujours la possibilité de n'importer qu'une fonction du module.\n",
        "Dans le cas de l'exemple, `Python` sait que la fonction `arrange` est celle de `numpy`.\n",
        "\n",
        "Mais ___attention___ : si deux fonctions de modules différents\n",
        "ont le même nom,\n",
        "c'est toujours la dernière importée qui gagne.\n",
        "\n",
        "On voit souvent `from _module_ import *`.\n",
        "C'est-à-dire qu'on importe toutes\n",
        "les fonctions du module\n",
        "mais on n'a pas besoin de spécifier le nom du module avant les méthodes. \n",
        "\n",
        "{{% box status=\"warning\" title=\"Warning\" icon=\"fa fa-exclamation-triangle\" %}}\n",
        "La méthode `from _module_ import *` n'est pas recommandée car elle rend le code moins intelligible.\n",
        "En effet, d'où vient la fonction `floor` ? De `maths` ou de `numpy` ?\n",
        "Elle risque\n",
        "aussi de créer des conflits de fonction, qui malgré un nom commun peuvent ne\n",
        "pas attendre les mêmes arguments ou objets.\n",
        "{{% /box %}}\n"
      ],
      "id": "ec31b2d2"
    },
    {
      "cell_type": "code",
      "metadata": {},
      "source": [
        "from numpy import array\n",
        "print(array(5))"
      ],
      "id": "cabeea78",
      "execution_count": null,
      "outputs": []
    },
    {
      "cell_type": "markdown",
      "metadata": {},
      "source": [
        "# Les tests\n",
        "\n",
        "Les tests permettent d'exécuter telle ou telle instruction\n",
        "selon la valeur d'une condition. \n",
        "\n",
        "\n",
        "Pour faire un test avec un bloc d'instructions, il faut toujours : \n",
        "\n",
        "- que l'expression à vérifier soit suivie de `:`\n",
        "- que le bloc d'instruction soit __forcément indenté__\n",
        "\n",
        "## Test avec contrepartie : `if` et `else`\n",
        "\n",
        "Comme dans les autres langages,\n",
        "on teste une condition. Si elle est vérifiée,\n",
        "alors une instruction suit et sinon, une autre instruction est exécutée. \n",
        "\n",
        "Il est conseillé de toujours indiquer une contrepartie afin d'éviter les surprises. \n",
        "\n",
        "### Test d'une équalité ou inéqualité\n"
      ],
      "id": "b29a5d13"
    },
    {
      "cell_type": "code",
      "metadata": {},
      "source": [
        "x = 6\n",
        "\n",
        "if x > 5 :\n",
        "    print(\"x est plus grand que 5\")\n",
        "else : # la contrepartie si la condition if n'est pas réalisée\n",
        "    print(\"x est plus petit que 5\")"
      ],
      "id": "025e0d97",
      "execution_count": null,
      "outputs": []
    },
    {
      "cell_type": "markdown",
      "metadata": {},
      "source": [
        "### Test dans un intervalle\n"
      ],
      "id": "7297233d"
    },
    {
      "cell_type": "code",
      "metadata": {},
      "source": [
        "# on peut avoir des intervalles directement\n",
        "x = 6\n",
        "if 5 < x < 10 : \n",
        "    print(\"x est entre 5 et 10\")\n",
        "else : \n",
        "    print(\"x est plus grand que 10\")"
      ],
      "id": "25caa0a4",
      "execution_count": null,
      "outputs": []
    },
    {
      "cell_type": "code",
      "metadata": {},
      "source": [
        "# tester plusieurs valeurs avec l'opérateur logique \"or\"\n",
        "x = 5\n",
        "if x == 5 or x == 10 : \n",
        "    print(\"x vaut 5 ou 10\")    \n",
        "else : \n",
        "    print(\"x est différent de 5 et 10\")"
      ],
      "id": "2b160dea",
      "execution_count": null,
      "outputs": []
    },
    {
      "cell_type": "markdown",
      "metadata": {},
      "source": [
        "### Tests successifs : `if`, `elif` et `else`\n",
        "\n",
        "Avec `if` et `elif`,\n",
        "dès qu'on rencontre une condition qui est réalisée,\n",
        "on n'en cherche pas d'autres potentiellement vérifiées. \n",
        "Plusieurs `if` à la suite peuvent quant à eux être vérifiés.\n",
        "Suivant ce que vous souhaitez faire, les opérateurs ne sont pas substituables.\n",
        "\n",
        "Notez la différence entre ces deux bouts de code :\n"
      ],
      "id": "c6577b96"
    },
    {
      "cell_type": "code",
      "metadata": {},
      "source": [
        "#code 1\n",
        "x = 5\n",
        "\n",
        "if x != 10 : \n",
        "    print(\"x ne vaut pas 10\")   \n",
        "elif x >= 5 : \n",
        "    print(\"x est égal ou supérieur à 5\")"
      ],
      "id": "2d1a4eb7",
      "execution_count": null,
      "outputs": []
    },
    {
      "cell_type": "markdown",
      "metadata": {},
      "source": [
        "Dans le cas de elif, on __s'arrête à la première condition__ vérifiée et dans le cas suivant, on __continue à chaque condition vérifiée__\n"
      ],
      "id": "bec7b36a"
    },
    {
      "cell_type": "code",
      "metadata": {},
      "source": [
        "#code 2\n",
        "x = 5\n",
        "\n",
        "if x != 10 : \n",
        "    print(\"x ne vaut pas 10\")   \n",
        "if x >= 5 : \n",
        "    print(\"x est égal ou supérieur à 5\")"
      ],
      "id": "deaf46dc",
      "execution_count": null,
      "outputs": []
    },
    {
      "cell_type": "markdown",
      "metadata": {},
      "source": [
        "# Boucles\n",
        "\n",
        "Il existe deux types de boucles : les boucles ___`for`___ et les boucles ___`while`___\n",
        "\n",
        "La boucle _`for`_ parcourt un ensemble, tandis que la boucle _`while`_\n",
        "continue tant qu'une condition est vraie. \n",
        "\n",
        "\n",
        "## Boucle `for`\n",
        "\n",
        "### Parcourir une liste croissantes d'entiers\n"
      ],
      "id": "357e7eb8"
    },
    {
      "cell_type": "code",
      "metadata": {},
      "source": [
        "# parcourt les entiers de 0 à n-1 inclus\n",
        "for i in range(0,3) : \n",
        "    print(i)"
      ],
      "id": "59373ce1",
      "execution_count": null,
      "outputs": []
    },
    {
      "cell_type": "markdown",
      "metadata": {},
      "source": [
        "### Parcourir une liste décroissante d'entiers\n"
      ],
      "id": "f702f824"
    },
    {
      "cell_type": "code",
      "metadata": {},
      "source": [
        "# parcourt les entiers de 3 à n+1 inclus\n",
        "for i in range(3,0,-1) : \n",
        "    print(i)"
      ],
      "id": "7d53d2f6",
      "execution_count": null,
      "outputs": []
    },
    {
      "cell_type": "markdown",
      "metadata": {},
      "source": [
        "### Parcourir une liste de chaines de caractères\n",
        "\n",
        "On va faire une boucle sur les éléments d'une liste\n",
        "\n",
        "#### Boucle sur les éléments d'une liste\n"
      ],
      "id": "dde2b2ed"
    },
    {
      "cell_type": "code",
      "metadata": {},
      "source": [
        "liste_elements = ['Nicolas','Romain','Florimond']\n",
        "\n",
        "# pour avoir l'ensemble des éléments de la liste\n",
        "for item in liste_elements : \n",
        "    print(item)"
      ],
      "id": "3d041652",
      "execution_count": null,
      "outputs": []
    },
    {
      "cell_type": "markdown",
      "metadata": {},
      "source": [
        "#### Boucle sur les éléments d'une liste dans une autre liste\n"
      ],
      "id": "8a9c27a9"
    },
    {
      "cell_type": "code",
      "metadata": {},
      "source": [
        "# pour avoir la place des éléments de la première liste dans la seconde liste  \n",
        "\n",
        "liste_globale = ['Violette','Nicolas','Mathilde','Romain','Florimond','Helene'] \n",
        "\n",
        "for item in liste_elements : \n",
        "    print(item,liste_globale.index(item))"
      ],
      "id": "1dcd78bb",
      "execution_count": null,
      "outputs": []
    },
    {
      "cell_type": "markdown",
      "metadata": {},
      "source": [
        "### Bonus : les list comprehension\n",
        "\n",
        "Avec les listes, il existe aussi un moyen très élégant de condenser son code pour éviter de faire apparaitre des boucles sans arrêt. Comme les boucles doivent etre indentées, le code peut rapidement devenir illisible.\n",
        "\n",
        "Grace aux list comprehension, vous pouvez en une ligne faire ce qu'une boucle vous permettait de faire en 3 lignes.\n",
        "\n",
        "Par exemple, imaginez que vous vouliez faire la liste de toutes les lettres contenues dans un mot, avec un boucle vous devrez d'abord créer une liste vide, puis ajouter à cette liste toutes les lettres en question avec un .append()\n"
      ],
      "id": "15b4de33"
    },
    {
      "cell_type": "code",
      "metadata": {},
      "source": [
        "liste_lettres = []\n",
        "\n",
        "for lettre in 'ENSAE':\n",
        "    liste_lettres.append(lettre)\n",
        "\n",
        "print(liste_lettres)"
      ],
      "id": "aae96bad",
      "execution_count": null,
      "outputs": []
    },
    {
      "cell_type": "markdown",
      "metadata": {},
      "source": [
        "avec une list comprehension, on condense la syntaxe de la manière suivante : \n"
      ],
      "id": "7eee0dad"
    },
    {
      "cell_type": "code",
      "metadata": {},
      "source": [
        "h_letters = [ letter for letter in 'ENSAE' ]\n",
        "print(h_letters)"
      ],
      "id": "8410a3d7",
      "execution_count": null,
      "outputs": []
    },
    {
      "cell_type": "markdown",
      "metadata": {},
      "source": [
        "Avec une list comprehension\n",
        "\n",
        "~~~python\n",
        "[ expression for item in list if conditional ]\n",
        "~~~\n",
        "\n",
        "est équivalent à \n",
        "\n",
        "\n",
        "~~~python\n",
        "for item in list:\n",
        "    if conditional:\n",
        "        expression  \n",
        "~~~\n",
        "\n",
        "#### Mise en application\n",
        "Mettez sous forme de list comprehension le bout de code suivant\n"
      ],
      "id": "9d978d7e"
    },
    {
      "cell_type": "code",
      "metadata": {},
      "source": [
        "squares = []\n",
        "\n",
        "for x in range(10):\n",
        "    squares.append(x**2)\n",
        "print(squares)"
      ],
      "id": "d4c146ed",
      "execution_count": null,
      "outputs": []
    },
    {
      "cell_type": "code",
      "metadata": {},
      "source": [
        "# Correction\n",
        "squares = [x**2 for x in range(10)]\n",
        "squares"
      ],
      "id": "73960ed1",
      "execution_count": null,
      "outputs": []
    },
    {
      "cell_type": "markdown",
      "metadata": {},
      "source": [
        "## Boucle while\n",
        "\n",
        "Le bloc d'instruction d'une boucle __while__ est exécuté tant que la condition est vérifiée. \n",
        "\n",
        "\n",
        "\n",
        "Le piège de ces boucles : la boucle `while` infinie ! Il faut toujours vérifier que votre boucle s'arrêtera un jour, il faut qu'à un moment ou à un autre, il y ait un élément qui s'incrémente ou qui soit modifié. \n"
      ],
      "id": "07a71ee4"
    },
    {
      "cell_type": "code",
      "metadata": {},
      "source": [
        "x = 10\n",
        "y = 8\n",
        "# tant que y est plus petit que 10, je continue de lui ajouter 1\n",
        "while y <= x : \n",
        "    print(\"y n'est pas encore plus grand que x\")\n",
        "    y += 1 # l'incrément\n",
        "else : \n",
        "    print(\"y est plus grand que x et vaut\",y)"
      ],
      "id": "cadaef52",
      "execution_count": null,
      "outputs": []
    },
    {
      "cell_type": "markdown",
      "metadata": {},
      "source": [
        "## Break et continue\n",
        "\n",
        "Dans les boucles _for_ ou _while_ on peut avoir besoin d'ignorer ou de ne pas effectuer certaines itérations. __2 instructions utiles__ :\n",
        "\n",
        "- l'instruction __break__ : permet de sortir de la boucle\n",
        "- l'instruction __continue__ : permet de passer à l'itération suivante sans exécuter les instructions qui suivent \n"
      ],
      "id": "a8e0f001"
    },
    {
      "cell_type": "code",
      "metadata": {},
      "source": [
        "# utilisation de break\n",
        "for x in range(5) : \n",
        "    if x == 2 : \n",
        "        break\n",
        "    else :\n",
        "        print(x)"
      ],
      "id": "130df5f9",
      "execution_count": null,
      "outputs": []
    },
    {
      "cell_type": "code",
      "metadata": {},
      "source": [
        "# utilisation de continue\n",
        "for x in range(5) : \n",
        "    if x == 2 : \n",
        "        continue\n",
        "    else :\n",
        "        print(x)"
      ],
      "id": "a343e815",
      "execution_count": null,
      "outputs": []
    },
    {
      "cell_type": "markdown",
      "metadata": {},
      "source": [
        "# Créer ses fonctions\n",
        "\n",
        "Les fonctions permettent de faire la même chose sans avoir à recopier le code plusieurs fois dans le même programme. Dès que vous le pouvez, faites des fonctions : le copier-coller est trop dangereux.\n",
        "\n",
        "\n",
        "   - Elles peuvent prendre plusieurs paramètres (ou aucun) elles peuvent retourner plusieurs résultats (ou aucun)\n",
        "   - Pour mettre une aide à la fonction, on écrit au début entre \"\"\" \"\"\" (en rouge dans l'exemple)\n"
      ],
      "id": "7f272677"
    },
    {
      "cell_type": "code",
      "metadata": {},
      "source": [
        "# 1er exemple de fonction\n",
        "\n",
        "def ma_fonction_increment(parametre) : \n",
        "    \"\"\"Cette fonction ajoute 1 au paramètre qu'on lui donne\"\"\"\n",
        "    x = parametre + 1 \n",
        "    return x\n",
        "\n",
        "# pour documenter la fonction, on écrit son aide\n",
        "help(ma_fonction_increment)"
      ],
      "id": "6fcbfc62",
      "execution_count": null,
      "outputs": []
    },
    {
      "cell_type": "markdown",
      "metadata": {},
      "source": [
        "On peut également : \n",
        "\n",
        "- avoir des paramètres __facultatifs__, mais ils doivent toujours être placés à la __fin des paramètres__ \n",
        "- en cas de paramètre facultatif, il faut lui donner une valeur par défaut\n",
        "- retourner plus d'un élément à la fin d'une fonction\n",
        "- avoir des paramètres de tailles différentes\n"
      ],
      "id": "3a4bcf05"
    },
    {
      "cell_type": "code",
      "metadata": {},
      "source": [
        "def ma_fonction(p,q = 2) :\n",
        "    y1 = p + q\n",
        "    y2 = y1%3 #reste de la division euclidienne\n",
        "    return y1,y2\n",
        "\n",
        "x = ma_fonction(11) \n",
        "# ici, on n'a pas de 2nd paramètre\n",
        "#, par défaut, x = ma_fonction(10,2)\n",
        "print(\"x=\", x)\n",
        "\n",
        "z = ma_fonction(10,-1)\n",
        "print(\"z =\",z)"
      ],
      "id": "6703e2aa",
      "execution_count": null,
      "outputs": []
    },
    {
      "cell_type": "markdown",
      "metadata": {},
      "source": [
        "Une fonction peut également s'appeler elle même : c'est ce qu'on appelle une fonction récursive.\n",
        "\n",
        "Dans cet exemple, `somme_recursion()` est une fonction que nous avons définie de sorte à ce qu'elle s'appelle elle-même (récursif). \n",
        "\n",
        "On utilise l'argument k, qui décroit (-1) chaque fois qu'on fait appel à la fonction. \n",
        "\n",
        "La récursion s'arrête quand k est nul. \n",
        "Dans cet exemple, on va donc appeler 6 fois la fonction récursive.\n"
      ],
      "id": "746da898"
    },
    {
      "cell_type": "code",
      "metadata": {},
      "source": [
        "def somme_recursion(k):\n",
        "    if(k > 0):\n",
        "        result = k + somme_recursion(k - 1)\n",
        "        print(k,result)\n",
        "    else:\n",
        "        result = 0\n",
        "    return result\n",
        "somme_recursion(6)"
      ],
      "id": "5b63dbc8",
      "execution_count": null,
      "outputs": []
    },
    {
      "cell_type": "markdown",
      "metadata": {},
      "source": [
        "Les fonctions sont très utiles et nous vous invitons à les utiliser dès que vous le pouvez car elles permettent d'avoir un code clair et structuré, plutôt que des bouts de code éparpillés. \n",
        "\n",
        "# Lever des exceptions\n",
        "\n",
        "Python peut rencontrer des erreurs en exécutant votre programme. \n",
        "\n",
        "\n",
        "\n",
        "Ces erreurs peuvent être interceptées très facilement et c'est même, dans certains cas, indispensable. Par exemple, si vous voulez faire une boucle mais que vous savez que l'instruction ne marchera pas toujours : au lieu de lister les cas où une opération n'est pas possible, on peut indiquer directement quelle erreur doit être ignorée.\n",
        "\n",
        "\n",
        "\n",
        "\n",
        "Cependant, il ne faut pas tout intercepter non plus : si Python envoie une erreur, c'est qu'il y a une raison. Si vous ignorez une erreur, vous risquez d'avoir des résultats très étranges dans votre programme.\n"
      ],
      "id": "c9943d4c"
    },
    {
      "cell_type": "code",
      "metadata": {},
      "source": [
        "#| error: true\n",
        "\n",
        "# éviter une division par 0, c'est une bonne idée : \n",
        "\n",
        "def inverse(x) :\n",
        "    '''Cette fonction renvoie l inverse de l argument'''\n",
        "    y = 1/x\n",
        "    return y\n",
        "\n",
        "div = inverse(0)"
      ],
      "id": "e48a8646",
      "execution_count": null,
      "outputs": []
    },
    {
      "cell_type": "markdown",
      "metadata": {},
      "source": [
        "L'erreur est écrite noir sur blanc : __ZeroDivisionError__\n",
        "\n",
        "Dans l'idéal on aimerait éviter que notre code bloque sur ce problème. On pourrait passer par un test if et vérifier que x est différent de 0. Mais on se rend vite compte que dans certains cas, on ne peut lister tous les tests en fonction de valeurs. \n",
        "\n",
        "Alors on va lui précisier ce qu'il doit faire en fonction de l'erreur retournée. \n",
        "\n",
        "\n",
        "__Syntaxe__\n",
        "\n",
        "Try : \n",
        "\n",
        "\n",
        "    instruction\n",
        "\n",
        "\n",
        "except TypeErreur :\n",
        "\n",
        "\n",
        "    autre instruction\n",
        "<!-- #endregion -->\n"
      ],
      "id": "5846e924"
    },
    {
      "cell_type": "code",
      "metadata": {},
      "source": [
        "def inverse(x) : \n",
        "    try :\n",
        "        y = 1/x\n",
        "    except ZeroDivisionError :\n",
        "        y = None\n",
        "    return y\n",
        "    \n",
        "print(inverse(10))\n",
        "print(inverse(0))"
      ],
      "id": "b83700ae",
      "execution_count": null,
      "outputs": []
    },
    {
      "cell_type": "markdown",
      "metadata": {},
      "source": [
        "Il est recommandé de toujours __préciser le type d'erreur__ qu'on rencontre. Si on met uniquement \"except\" sans préciser le type, on peut passer à côté d'erreurs pour lesquelles la solution n'est pas universelle.\n",
        "\n",
        "\n",
        "# A retenir et questions\n",
        "\n",
        "## A retenir\n",
        "\n",
        "- Toujours mettre \":\" avant un bloc d'instructions\n",
        "- Indenter avant un bloc d'instructions (avec 4 espaces et non une tabulation !)\n",
        "- Indiquer les modules nécessaires à l'exécution en début de code\n",
        "- Documenter les fonctions créées\n",
        "- Préciser le type d'erreur pour les exceptions et potentiellement différencier les blocs d'instructions en fonction de l'erreur\n",
        "\n",
        "\n",
        "## Questions \n",
        "\n",
        "\n",
        "- Que fait ce programme ?\n"
      ],
      "id": "79fa86b1"
    },
    {
      "cell_type": "code",
      "metadata": {},
      "source": [
        "def inverse(x) : \n",
        "    try :\n",
        "        y = 1/x\n",
        "    except ZeroDivisionError :\n",
        "        y = None\n",
        "        return y"
      ],
      "id": "c7223134",
      "execution_count": null,
      "outputs": []
    },
    {
      "cell_type": "code",
      "metadata": {},
      "source": [
        "#| include: false\n",
        "#| eval: false\n",
        "\n",
        "# Correction\n",
        "print(inverse(1))\n",
        "# On voit que le return est mal placé ! Dans le cas de x différent de 0 on ne renvoie rien !"
      ],
      "id": "3bbfd42a",
      "execution_count": null,
      "outputs": []
    },
    {
      "cell_type": "markdown",
      "metadata": {},
      "source": [
        "- Ecrivez un programme qui peut trouver tous les nombres divisibles par 7 et non multiples de 5 entre 6523 et 8463 (inclus)\n"
      ],
      "id": "bfe4ab84"
    },
    {
      "cell_type": "code",
      "metadata": {},
      "source": [
        "#| include: false\n",
        "#| eval: false\n",
        "\n",
        "# Correction\n",
        "def ma_super_fonction() :\n",
        "    liste = []\n",
        "    for i in range(6523,8463+1): \n",
        "        if i%7==0 and i%5!=0 :\n",
        "            liste.append(i)\n",
        "    return liste\n",
        "\n",
        "ma_super_fonction()"
      ],
      "id": "9d53be6a",
      "execution_count": null,
      "outputs": []
    },
    {
      "cell_type": "markdown",
      "metadata": {},
      "source": [
        "- Ecrivez un programme qui prend une phrase en entrée et qui calcule le nombre de voyelles en Majuscules et de consonnes en minuscules : \n",
        "    - phrase = \"Vous savez, moi je ne crois pas qu’il y ait de bonne ou de mauvaise situation. Moi, si je devais résumer ma vie aujourd’hui avec vous, je dirais que c’est d’abord des rencontres. Des gens qui m’ont tendu la main, peut-être à un moment où je ne pouvais pas, où j’étais seul chez moi. Et c’est assez curieux de se dire que les hasards, les rencontres forgent une destinée... Parce que quand on a le goût de la chose, quand on a le goût de la chose bien faite, le beau geste, parfois on ne trouve pas l’interlocuteur en face je dirais, le miroir qui vous aide à avancer. Alors ça n’est pas mon cas, comme je disais là, puisque moi au contraire, j’ai pu : et je dis merci à la vie, je lui dis merci, je chante la vie, je danse la vie... je ne suis qu’amour ! Et finalement, quand beaucoup de gens aujourd’hui me disent 'Mais comment fais-tu pour avoir cette humanité ?', et bien je leur réponds très simplement, je leur dis que c’est ce goût de l’amour ce goût donc qui m’a poussé aujourd’hui à entreprendre une construction mécanique, mais demain qui sait ? Peut-être simplement à me mettre au service de la communauté, à faire le don, le don de soi...\"\n"
      ],
      "id": "772f0b6f"
    },
    {
      "cell_type": "code",
      "metadata": {},
      "source": [
        "#| include: false\n",
        "#| eval: false\n",
        "\n",
        "phs = \"Vous savez, moi je ne crois pas qu’il y ait de bonne ou de mauvaise situation. Moi, si je devais résumer ma vie aujourd’hui avec vous, je dirais que c’est d’abord des rencontres. Des gens qui m’ont tendu la main, peut-être à un moment où je ne pouvais pas, où j’étais seul chez moi. Et c’est assez curieux de se dire que les hasards, les rencontres forgent une destinée... Parce que quand on a le goût de la chose, quand on a le goût de la chose bien faite, le beau geste, parfois on ne trouve pas l’interlocuteur en face je dirais, le miroir qui vous aide à avancer. Alors ça n’est pas mon cas, comme je disais là, puisque moi au contraire, j’ai pu : et je dis merci à la vie, je lui dis merci, je chante la vie, je danse la vie... je ne suis qu’amour ! Et finalement, quand beaucoup de gens aujourd’hui me disent 'Mais comment fais-tu pour avoir cette humanité ?', et bien je leur réponds très simplement, je leur dis que c’est ce goût de l’amour ce goût donc qui m’a poussé aujourd’hui à entreprendre une construction mécanique, mais demain qui sait ? Peut-être simplement à me mettre au service de la communauté, à faire le don, le don de soi...\"\n",
        "\n",
        "def ma_super_fonction2(phrase) :\n",
        "    liste_voyelles_majuscules=[x.upper() for x in [\"a\",\"e\",\"i\",\"o\",\"u\",\"y\"]]\n",
        "    nombre_voyelles_majuscules = 0\n",
        "    nombre_consonnes_minuscules = 0 \n",
        "    for lettre in phrase:\n",
        "        if lettre in liste_voyelles_majuscules:\n",
        "            nombre_voyelles_majuscules += 1\n",
        "        elif lettre.lower()==lettre and lettre not in [\"a\",\"e\",\"i\",\"o\",\"u\",\"y\"]:\n",
        "            nombre_consonnes_minuscules +=1\n",
        "    print(\"Il y a \", nombre_voyelles_majuscules, \"voyelles en majuscule et \",nombre_consonnes_minuscules, \"consonnes en minuscule.\")\n",
        "\n",
        "ma_super_fonction2(phs)"
      ],
      "id": "d230e907",
      "execution_count": null,
      "outputs": []
    }
  ],
  "metadata": {
    "kernelspec": {
      "name": "python3",
      "language": "python",
      "display_name": "Python 3 (ipykernel)"
    }
  },
  "nbformat": 4,
  "nbformat_minor": 5
}