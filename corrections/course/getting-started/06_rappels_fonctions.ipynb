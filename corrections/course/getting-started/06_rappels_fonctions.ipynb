{
 "cells": [
  {
   "cell_type": "markdown",
   "id": "ba4fb714",
   "metadata": {},
   "source": [
    "#  Modules, tests, boucles, fonctions\n",
    "\n"
   ]
  },
  {
   "cell_type": "markdown",
   "id": "9311d512",
   "metadata": {},
   "source": [
    "<a href=\"https://github.com/linogaliana/python-datascientist/blob/master//__w/python-datascientist/python-datascientist/notebooks/course/getting-started/06_rappels_fonctions.ipynb\" class=\"github\"><i class=\"fab fa-github\"></i></a>\n",
    "[![Download](https://img.shields.io/badge/Download-Notebook-important?logo=Jupyter)](https://downgit.github.io/#/home?url=https://github.com/linogaliana/python-datascientist/blob/master//__w/python-datascientist/python-datascientist/notebooks/course/getting-started/06_rappels_fonctions.ipynb)\n",
    "[![nbviewer](https://img.shields.io/badge/Visualize-nbviewer-blue?logo=Jupyter)](https://nbviewer.jupyter.org/github/linogaliana/python-datascientist/blob/master//__w/python-datascientist/python-datascientist/notebooks/course/getting-started/06_rappels_fonctions.ipynb)\n",
    "[![Onyxia](https://img.shields.io/badge/SSPcloud-Tester%20via%20SSP--cloud-informational&color=yellow?logo=Python)](https://datalab.sspcloud.fr/launcher/inseefrlab-helm-charts-datascience/jupyter?autoLaunch=true&onyxia.friendlyName=%C2%ABpython-datascience%C2%BB&init.personalInit=%C2%ABhttps%3A%2F%2Fraw.githubusercontent.com%2Flinogaliana%2Fpython-datascientist%2Fmaster%2Fsspcloud%2Finit-jupyter.sh%C2%BB&init.personalInitArgs=%C2%ABgetting-started%2006_rappels_fonctions%C2%BB&security.allowlist.enabled=false)\n",
    "<br>\n",
    "[![Binder](https://img.shields.io/badge/Launch-Binder-E66581.svg?logo=data:image/png;base64,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)](https://mybinder.org/v2/gh/linogaliana/python-datascientist/master?filepath=/__w/python-datascientist/python-datascientist/notebooks/course/getting-started/06_rappels_fonctions.ipynb)\n",
    "[![Open In Colab](https://colab.research.google.com/assets/colab-badge.svg)](http://colab.research.google.com/github/linogaliana/python-datascientist/blob/master//__w/python-datascientist/python-datascientist/notebooks/course/getting-started/06_rappels_fonctions.ipynb)\n",
    "[![githubdev](https://open.vscode.dev/badges/open-in-vscode.svg)](https://github.dev/linogaliana/python-datascientist//__w/python-datascientist/python-datascientist/notebooks/course/getting-started/06_rappels_fonctions.ipynb)"
   ]
  },
  {
   "cell_type": "markdown",
   "id": "a90ce430",
   "metadata": {},
   "source": [
    "### Pour mettre à jour un module déjà installé : \n",
    "\n",
    "Il faut retourner dans l'invite de commande et taper\n",
    "\n",
    "- __conda upgrade__ nom_module\n"
   ]
  },
  {
   "cell_type": "markdown",
   "id": "4ed26805",
   "metadata": {},
   "source": [
    "## Utilisation d'un module installé\n",
    "\n",
    "Au contraire de STATA mais comme pour R, il\n",
    "faut __toujours préciser les packages que vous utilisez au début du code__,\n",
    "sinon Python ne reconnait pas les fonctions appelées. \n",
    "\n",
    "### Import _module_\n",
    "\n",
    "On charge un module grâce à la commande `import`.\n",
    "Pour chaque code que vous exécutez, il faut charger les modules en introduction. \n"
   ]
  },
  {
   "cell_type": "markdown",
   "id": "bf54ade2",
   "metadata": {},
   "source": [
    "Une fois que l'on a chargé le module, on peut faire appel aux commandes qui en dépendent en les appelant après avoir tapé le nom du module. Si vous ne précisez pas le nom du module avant celui de la fonction, il ne la trouvera pas forcément."
   ]
  },
  {
   "cell_type": "markdown",
   "id": "b819b040",
   "metadata": {},
   "source": [
    "Voici un exemple avec le module numpy qui est très courant et permet de faire des calculs matriciels sous Python. \n",
    "\n"
   ]
  },
  {
   "cell_type": "code",
   "execution_count": null,
   "id": "6e0a9c3d",
   "metadata": {},
   "outputs": [],
   "source": [
    "import numpy\n",
    "print(numpy.arange(5))"
   ]
  },
  {
   "cell_type": "markdown",
   "id": "732c5d13",
   "metadata": {},
   "source": [
    "```\n",
    "## [0 1 2 3 4]\n",
    "```\n",
    "\n",
    "### Import _module_ as _md_ - donner un nom au module\n",
    "\n",
    "On peut aussi donner un pseudonyme au module pour éviter de taper un nom trop long à chaque fois qu'on utilise une fonction. Classiquement le nom raccourci de numpy est _np_, celui de pandas est _pd_.\n"
   ]
  },
  {
   "cell_type": "code",
   "execution_count": null,
   "id": "9d3255cf",
   "metadata": {},
   "outputs": [],
   "source": [
    "import pandas as pd\n",
    "import numpy as np\n",
    "small_array = np.array([[1, 2], [3, 4]])\n",
    "data = pd.DataFrame(small_array)\n",
    "data.head()"
   ]
  },
  {
   "cell_type": "markdown",
   "id": "0d7560b4",
   "metadata": {},
   "source": [
    "```\n",
    "##    0  1\n",
    "## 0  1  2\n",
    "## 1  3  4\n",
    "```\n",
    "\n",
    "### from _Module_ Import _fonction_ - seulement une partie du module\n",
    "\n",
    "\n",
    "\n"
   ]
  },
  {
   "cell_type": "markdown",
   "id": "797884e1",
   "metadata": {},
   "source": [
    "Si on ne veut pas être obligé de donner le nom du module avant d'appeler\n",
    "la fonction, il y a toujours la possibilité de n'importer qu'une fonction du module. Dans le cas de l'exemple, Python sait que la fonction `arrange` est celle de `numpy`.\n",
    "\n",
    "Mais ___attention___ : si deux fonctions de modules différents ont le même nom, c'est toujours la dernière importée qui gagne.\n",
    "\n",
    "On voit souvent `from _module_ import *`. C'est-à-dire qu'on importe toutes les fonctions du module mais on n'a pas besoin de spécifier le nom du module avant les méthodes. \n",
    "\n",
    "La méthode from _module_ import \\* n'est pas recommandée car elle rend le code moins intelligible:\n",
    "d'où vient la fonction `floor`: de `maths` ou de `numpy` ? Elle risque\n",
    "aussi de créer des conflits de fonction, qui malgré un nom commun peuvent ne\n",
    "pas attendre les mêmes arguments ou objets.\n",
    "\n"
   ]
  },
  {
   "cell_type": "code",
   "execution_count": null,
   "id": "d85cc6fd",
   "metadata": {},
   "outputs": [],
   "source": [
    "from numpy import array\n",
    "print(array(5))"
   ]
  },
  {
   "cell_type": "markdown",
   "id": "c15fc004",
   "metadata": {},
   "source": [
    "```\n",
    "## 5\n",
    "```"
   ]
  },
  {
   "cell_type": "markdown",
   "id": "af0b2eef",
   "metadata": {},
   "source": [
    "# Les tests\n",
    "\n",
    "Les tests permettent d'exécuter telle ou telle instruction\n",
    "selon la valeur d'une condition. "
   ]
  },
  {
   "cell_type": "markdown",
   "id": "f0ac5d36",
   "metadata": {},
   "source": [
    "Pour faire un test avec un bloc d'instructions, il faut toujours : \n",
    "\n",
    "- que l'expression à vérifier soit suivie de : \n",
    "- que le bloc d'instruction soit __forcément indenté__\n",
    "\n",
    "## Test avec contrepartie : if et else\n",
    "\n",
    "Comme dans les autres langages, on teste une condition, si elle est vérifiée, alors une instruction suit et sinon, une autre instruction est exécutée. \n",
    "\n",
    "Il est conseillé de toujours indiquer une contrepartie afin d'éviter les surprises. \n",
    "\n",
    "### Test d'une équalité ou inéqualité\n",
    "<!-- #endregion -->\n"
   ]
  },
  {
   "cell_type": "code",
   "execution_count": null,
   "id": "19b9c53e",
   "metadata": {},
   "outputs": [],
   "source": [
    "x = 6\n",
    "\n",
    "if x > 5 :\n",
    "    print(\"x est plus grand que 5\")\n",
    "else : # la contrepartie si la condition if n'est pas réalisée\n",
    "    print(\"x est plus petit que 5\")"
   ]
  },
  {
   "cell_type": "markdown",
   "id": "29ff4fc3",
   "metadata": {},
   "source": [
    "```\n",
    "## x est plus grand que 5\n",
    "```\n",
    "\n",
    "### Test dans un intervalle\n"
   ]
  },
  {
   "cell_type": "code",
   "execution_count": null,
   "id": "5c8c27e9",
   "metadata": {},
   "outputs": [],
   "source": [
    "# on peut avoir des intervalles directement\n",
    "x = 6\n",
    "if 5 < x < 10 : \n",
    "    print(\"x est entre 5 et 10\")\n",
    "else : \n",
    "    print(\"x est plus grand que 10\")"
   ]
  },
  {
   "cell_type": "markdown",
   "id": "cb2a8175",
   "metadata": {},
   "source": [
    "```\n",
    "## x est entre 5 et 10\n",
    "```\n"
   ]
  },
  {
   "cell_type": "code",
   "execution_count": null,
   "id": "1abeefb3",
   "metadata": {},
   "outputs": [],
   "source": [
    "# tester plusieurs valeurs avec l'opérateur logique \"or\"\n",
    "x = 5\n",
    "if x == 5 or x == 10 : \n",
    "    print(\"x vaut 5 ou 10\")    \n",
    "else : \n",
    "    print(\"x est différent de 5 et 10\")"
   ]
  },
  {
   "cell_type": "markdown",
   "id": "df2aa3a5",
   "metadata": {},
   "source": [
    "```\n",
    "## x vaut 5 ou 10\n",
    "```\n",
    "\n",
    "### Tests successifs : if, elif et else\n",
    "\n",
    "Avec if et elif, dès qu'on rencontre une condition qui est réalisée, on n'en cherche pas d'autres potentiellement vérifiées. \n",
    "Plusieurs if à la suite peuvent quant à eux être vérifiés. Suivant ce que vous souhaitez faire, les opérateurs ne sont pas substituables. Notez la différence entre ces deux bouts de code :\n"
   ]
  },
  {
   "cell_type": "code",
   "execution_count": null,
   "id": "ffeadf46",
   "metadata": {},
   "outputs": [],
   "source": [
    "#code 1\n",
    "x = 5\n",
    "\n",
    "if x != 10 : \n",
    "    print(\"x ne vaut pas 10\")   \n",
    "elif x >= 5 : \n",
    "    print(\"x est égal ou supérieur à 5\")"
   ]
  },
  {
   "cell_type": "markdown",
   "id": "88221225",
   "metadata": {},
   "source": [
    "```\n",
    "## x ne vaut pas 10\n",
    "```\n",
    "\n",
    "Dans le cas de elif, on __s'arrête à la première condition__ vérifiée et dans le cas suivant, on __continue à chaque condition vérifiée__\n"
   ]
  },
  {
   "cell_type": "code",
   "execution_count": null,
   "id": "4ee96150",
   "metadata": {},
   "outputs": [],
   "source": [
    "#code 2\n",
    "x = 5\n",
    "\n",
    "if x != 10 : \n",
    "    print(\"x ne vaut pas 10\")   "
   ]
  },
  {
   "cell_type": "markdown",
   "id": "4475eaec",
   "metadata": {},
   "source": [
    "```\n",
    "## x ne vaut pas 10\n",
    "```"
   ]
  },
  {
   "cell_type": "code",
   "execution_count": null,
   "id": "0ed6bf43",
   "metadata": {},
   "outputs": [],
   "source": [
    "if x >= 5 : \n",
    "    print(\"x est égal ou supérieur à 5\")"
   ]
  },
  {
   "cell_type": "markdown",
   "id": "dfd1ed1a",
   "metadata": {},
   "source": [
    "```\n",
    "## x est égal ou supérieur à 5\n",
    "```"
   ]
  },
  {
   "cell_type": "markdown",
   "id": "e63c0f07",
   "metadata": {
    "lines_to_next_cell": 2
   },
   "source": [
    "# Boucles\n",
    "\n",
    "Il existe deux types de boucles : les boucles ___for___ et les boucles ___while___\n",
    "\n",
    "La boucle _for_ parcourt un ensemble, tandis que la boucle _while_ continue tant qu'une condition est vraie. \n",
    "\n",
    "\n",
    "## Boucle for\n",
    "\n",
    "### Parcourir une liste croissantes d'entiers"
   ]
  },
  {
   "cell_type": "code",
   "execution_count": null,
   "id": "cd7b6964",
   "metadata": {},
   "outputs": [],
   "source": [
    "# parcourt les entiers de 0 à n-1 inclus\n",
    "for i in range(0,3) : \n",
    "    print(i)"
   ]
  },
  {
   "cell_type": "markdown",
   "id": "3a3af176",
   "metadata": {},
   "source": [
    "```\n",
    "## 0\n",
    "## 1\n",
    "## 2\n",
    "```\n",
    "\n",
    "### Parcourir une liste décroissante d'entiers\n"
   ]
  },
  {
   "cell_type": "code",
   "execution_count": null,
   "id": "1f6db112",
   "metadata": {},
   "outputs": [],
   "source": [
    "# parcourt les entiers de 3 à n+1 inclus\n",
    "for i in range(3,0,-1) : \n",
    "    print(i)"
   ]
  },
  {
   "cell_type": "markdown",
   "id": "1e48b091",
   "metadata": {},
   "source": [
    "```\n",
    "## 3\n",
    "## 2\n",
    "## 1\n",
    "```\n",
    "\n",
    "### Parcourir une liste de chaines de caractères\n",
    "\n",
    "On va faire une boucle sur les éléments d'une liste\n",
    "\n",
    "#### Boucle sur les éléments d'une liste\n"
   ]
  },
  {
   "cell_type": "code",
   "execution_count": null,
   "id": "8d6207f0",
   "metadata": {},
   "outputs": [],
   "source": [
    "liste_elements = ['Nicolas','Romain','Florimond']\n",
    "\n",
    "# pour avoir l'ensemble des éléments de la liste\n",
    "for item in liste_elements : \n",
    "    print(item)"
   ]
  },
  {
   "cell_type": "markdown",
   "id": "d16b44ce",
   "metadata": {},
   "source": [
    "```\n",
    "## Nicolas\n",
    "## Romain\n",
    "## Florimond\n",
    "```\n",
    "\n",
    "#### Boucle sur les éléments d'une liste dans une autre liste\n"
   ]
  },
  {
   "cell_type": "code",
   "execution_count": null,
   "id": "facc4b60",
   "metadata": {},
   "outputs": [],
   "source": [
    "# pour avoir la place des éléments de la première liste dans la seconde liste  \n",
    "\n",
    "liste_globale = ['Violette','Nicolas','Mathilde','Romain','Florimond','Helene'] \n",
    "\n",
    "for item in liste_elements : \n",
    "    print(item,liste_globale.index(item))"
   ]
  },
  {
   "cell_type": "markdown",
   "id": "517cfbab",
   "metadata": {},
   "source": [
    "```\n",
    "## Nicolas 1\n",
    "## Romain 3\n",
    "## Florimond 4\n",
    "```\n",
    "\n",
    "### Bonus : les list comprehension\n",
    "\n",
    "Avec les listes, il existe aussi un moyen très élégant de condenser son code pour éviter de faire apparaitre des boucles sans arrêt. Comme les boucles doivent etre indentées, le code peut rapidement devenir illisible.\n",
    "\n",
    "Grace aux list comprehension, vous pouvez en une ligne faire ce qu'une boucle vous permettait de faire en 3 lignes.\n",
    "\n",
    "Par exemple, imaginez que vous vouliez faire la liste de toutes les lettres contenues dans un mot, avec un boucle vous devrez d'abord créer une liste vide, puis ajouter à cette liste toutes les lettres en question avec un .append()\n"
   ]
  },
  {
   "cell_type": "code",
   "execution_count": null,
   "id": "e212db70",
   "metadata": {},
   "outputs": [],
   "source": [
    "liste_lettres = []\n",
    "\n",
    "for lettre in 'ENSAE':\n",
    "    liste_lettres.append(lettre)\n",
    "\n",
    "print(liste_lettres)"
   ]
  },
  {
   "cell_type": "markdown",
   "id": "5f43bae6",
   "metadata": {},
   "source": [
    "```\n",
    "## ['E', 'N', 'S', 'A', 'E']\n",
    "```\n",
    "\n",
    "avec une list comprehension, on condense la syntaxe de la manière suivante : \n"
   ]
  },
  {
   "cell_type": "code",
   "execution_count": null,
   "id": "ff4b5f3d",
   "metadata": {},
   "outputs": [],
   "source": [
    "h_letters = [ letter for letter in 'ENSAE' ]\n",
    "print(h_letters)"
   ]
  },
  {
   "cell_type": "markdown",
   "id": "4220f5de",
   "metadata": {},
   "source": [
    "```\n",
    "## ['E', 'N', 'S', 'A', 'E']\n",
    "```\n",
    "\n",
    "Avec une list comprehension\n",
    "\n",
    "~~~python\n",
    "[ expression for item in list if conditional ]\n",
    "~~~\n",
    "\n",
    "est équivalent à "
   ]
  },
  {
   "cell_type": "markdown",
   "id": "52dd3ac1",
   "metadata": {},
   "source": [
    "~~~python\n",
    "for item in list:\n",
    "    if conditional:\n",
    "        expression  \n",
    "~~~\n",
    "\n",
    "#### Mise en application\n",
    "Mettez sous forme de list comprehension le bout de code suivant\n"
   ]
  },
  {
   "cell_type": "code",
   "execution_count": null,
   "id": "0d7db460",
   "metadata": {},
   "outputs": [],
   "source": [
    "squares = []\n",
    "\n",
    "for x in range(10):\n",
    "    squares.append(x**2)\n",
    "print(squares)"
   ]
  },
  {
   "cell_type": "markdown",
   "id": "4ed14cab",
   "metadata": {},
   "source": [
    "```\n",
    "## [0, 1, 4, 9, 16, 25, 36, 49, 64, 81]\n",
    "```\n",
    "\n"
   ]
  },
  {
   "cell_type": "markdown",
   "id": "ef25177d",
   "metadata": {
    "lines_to_next_cell": 2
   },
   "source": [
    "## Boucle while\n",
    "\n",
    "Le bloc d'instruction d'une boucle __while__ est exécuté tant que la condition est vérifiée. \n",
    "\n",
    "\n",
    "\n",
    "Le piège de ces boucles : la boucle `while` infinie ! Il faut toujours vérifier que votre boucle s'arrêtera un jour, il faut qu'à un moment ou à un autre, il y ait un élément qui s'incrémente ou qui soit modifié. "
   ]
  },
  {
   "cell_type": "code",
   "execution_count": null,
   "id": "b406a279",
   "metadata": {},
   "outputs": [],
   "source": [
    "x = 10\n",
    "y = 8\n",
    "# tant que y est plus petit que 10, je continue de lui ajouter 1\n",
    "while y <= x : \n",
    "    print(\"y n'est pas encore plus grand que x\")\n",
    "    y += 1 # l'incrément\n",
    "else : \n",
    "    print(\"y est plus grand que x et vaut\",y)"
   ]
  },
  {
   "cell_type": "markdown",
   "id": "46c53969",
   "metadata": {},
   "source": [
    "```\n",
    "## y n'est pas encore plus grand que x\n",
    "## y n'est pas encore plus grand que x\n",
    "## y n'est pas encore plus grand que x\n",
    "## y est plus grand que x et vaut 11\n",
    "```\n",
    "\n",
    "## Break et continue\n",
    "\n",
    "Dans les boucles _for_ ou _while_ on peut avoir besoin d'ignorer ou de ne pas effectuer certaines itérations. __2 instructions utiles__ :\n",
    "\n",
    "- l'instruction __break__ : permet de sortir de la boucle\n",
    "- l'instruction __continue__ : permet de passer à l'itération suivante sans exécuter les instructions qui suivent \n"
   ]
  },
  {
   "cell_type": "code",
   "execution_count": null,
   "id": "44b0d428",
   "metadata": {},
   "outputs": [],
   "source": [
    "# utilisation de break\n",
    "for x in range(5) : \n",
    "    if x == 2 : \n",
    "        break\n",
    "    else :\n",
    "        print(x)"
   ]
  },
  {
   "cell_type": "markdown",
   "id": "ab532a2f",
   "metadata": {},
   "source": [
    "```\n",
    "## 0\n",
    "## 1\n",
    "```\n"
   ]
  },
  {
   "cell_type": "code",
   "execution_count": null,
   "id": "7bce21fa",
   "metadata": {},
   "outputs": [],
   "source": [
    "# utilisation de continue\n",
    "for x in range(5) : \n",
    "    if x == 2 : \n",
    "        continue\n",
    "    else :\n",
    "        print(x)"
   ]
  },
  {
   "cell_type": "markdown",
   "id": "69408b89",
   "metadata": {},
   "source": [
    "```\n",
    "## 0\n",
    "## 1\n",
    "## 3\n",
    "## 4\n",
    "```"
   ]
  },
  {
   "cell_type": "markdown",
   "id": "47719a6c",
   "metadata": {
    "lines_to_next_cell": 2
   },
   "source": [
    "# Créer ses fonctions\n",
    "\n",
    "Les fonctions permettent de faire la même chose sans avoir à recopier le code plusieurs fois dans le même programme. Dès que vous le pouvez, faites des fonctions : le copier-coller est trop dangereux.\n",
    "\n",
    "\n",
    "   - Elles peuvent prendre plusieurs paramètres (ou aucun) elles peuvent retourner plusieurs résultats (ou aucun)\n",
    "   - Pour mettre une aide à la fonction, on écrit au début entre \"\"\" \"\"\" (en rouge dans l'exemple)"
   ]
  },
  {
   "cell_type": "code",
   "execution_count": null,
   "id": "edcaee19",
   "metadata": {},
   "outputs": [],
   "source": [
    "# 1er exemple de fonction\n",
    "\n",
    "def ma_fonction_increment(parametre) : \n",
    "    \"\"\"Cette fonction ajoute 1 au paramètre qu'on lui donne\"\"\"\n",
    "    x = parametre + 1 \n",
    "    return x\n",
    "\n",
    "# pour documenter la fonction, on écrit son aide\n",
    "help(ma_fonction_increment)"
   ]
  },
  {
   "cell_type": "markdown",
   "id": "57b8ae30",
   "metadata": {},
   "source": [
    "```\n",
    "## Help on function ma_fonction_increment in module __main__:\n",
    "## \n",
    "## ma_fonction_increment(parametre)\n",
    "##     Cette fonction ajoute 1 au paramètre qu'on lui donne\n",
    "```\n",
    "\n",
    "On peut également : \n",
    "\n",
    "- avoir des paramètres __facultatifs__, mais ils doivent toujours être placés à la __fin des paramètres__ \n",
    "- en cas de paramètre facultatif, il faut lui donner une valeur par défaut\n",
    "- retourner plus d'un élément à la fin d'une fonction\n",
    "- avoir des paramètres de tailles différentes\n"
   ]
  },
  {
   "cell_type": "code",
   "execution_count": null,
   "id": "6eee4d8c",
   "metadata": {},
   "outputs": [],
   "source": [
    "def ma_fonction(p,q = 2) :\n",
    "    y1 = p + q\n",
    "    y2 = y1%3 #reste de la division euclidienne\n",
    "    return y1,y2\n",
    "\n",
    "x = ma_fonction(11) \n",
    "# ici, on n'a pas de 2nd paramètre\n",
    "#, par défaut, x = ma_fonction(10,2)\n",
    "print(\"x=\", x)"
   ]
  },
  {
   "cell_type": "markdown",
   "id": "9f42d465",
   "metadata": {},
   "source": [
    "```\n",
    "## x= (13, 1)\n",
    "```"
   ]
  },
  {
   "cell_type": "code",
   "execution_count": null,
   "id": "8d2d151c",
   "metadata": {},
   "outputs": [],
   "source": [
    "z = ma_fonction(10,-1)\n",
    "print(\"z =\",z)"
   ]
  },
  {
   "cell_type": "markdown",
   "id": "e03c4830",
   "metadata": {},
   "source": [
    "```\n",
    "## z = (9, 0)\n",
    "```\n",
    "\n",
    "Une fonction peut également s'appeler elle même : c'est ce qu'on appelle une fonction récursive.\n",
    "\n",
    "Dans cet exemple, `somme_recursion()` est une fonction que nous avons définie de sorte à ce qu'elle s'appelle elle-même (récursif). \n",
    "\n",
    "On utilise l'argument k, qui décroit (-1) chaque fois qu'on fait appel à la fonction. \n",
    "\n",
    "La récursion s'arrête quand k est nul. \n",
    "Dans cet exemple, on va donc appeler 6 fois la fonction récursive.\n"
   ]
  },
  {
   "cell_type": "code",
   "execution_count": null,
   "id": "fcde4106",
   "metadata": {},
   "outputs": [],
   "source": [
    "def somme_recursion(k):\n",
    "    if(k > 0):\n",
    "        result = k + somme_recursion(k - 1)\n",
    "        print(k,result)\n",
    "    else:\n",
    "        result = 0\n",
    "    return result\n",
    "somme_recursion(6)"
   ]
  },
  {
   "cell_type": "markdown",
   "id": "81659362",
   "metadata": {},
   "source": [
    "```\n",
    "## 1 1\n",
    "## 2 3\n",
    "## 3 6\n",
    "## 4 10\n",
    "## 5 15\n",
    "## 6 21\n",
    "## 21\n",
    "```\n",
    "\n",
    "Les fonctions sont très utiles et nous vous invitons à les utiliser dès que vous le pouvez car elles permettent d'avoir un code clair et structuré, plutôt que des bouts de code éparpillés. "
   ]
  },
  {
   "cell_type": "markdown",
   "id": "38f031b4",
   "metadata": {
    "lines_to_next_cell": 2
   },
   "source": [
    "# Lever des exceptions\n",
    "\n",
    "Python peut rencontrer des erreurs en exécutant votre programme. \n",
    "\n",
    "\n",
    "\n",
    "Ces erreurs peuvent être interceptées très facilement et c'est même, dans certains cas, indispensable. Par exemple, si vous voulez faire une boucle mais que vous savez que l'instruction ne marchera pas toujours : au lieu de lister les cas où une opération n'est pas possible, on peut indiquer directement quelle erreur doit être ignorée.\n",
    "\n",
    "\n",
    "\n",
    "\n",
    "Cependant, il ne faut pas tout intercepter non plus : si Python envoie une erreur, c'est qu'il y a une raison. Si vous ignorez une erreur, vous risquez d'avoir des résultats très étranges dans votre programme."
   ]
  },
  {
   "cell_type": "code",
   "execution_count": null,
   "id": "7a6e36fa",
   "metadata": {},
   "outputs": [],
   "source": [
    "# éviter une division par 0, c'est une bonne idée : \n",
    "\n",
    "def inverse(x) :\n",
    "    '''Cette fonction renvoie l inverse de l argument'''\n",
    "    y = 1/x\n",
    "    return y\n",
    "\n",
    "div = inverse(0)"
   ]
  },
  {
   "cell_type": "markdown",
   "id": "517167b2",
   "metadata": {},
   "source": [
    "```\n",
    "## Error in py_call_impl(callable, dots$args, dots$keywords): ZeroDivisionError: division by zero\n",
    "## \n",
    "## Detailed traceback: \n",
    "##   File \"<string>\", line 1, in <module>\n",
    "##   File \"<string>\", line 3, in inverse\n",
    "```\n",
    "\n"
   ]
  },
  {
   "cell_type": "markdown",
   "id": "94e88a21",
   "metadata": {
    "lines_to_next_cell": 2
   },
   "source": [
    "L'erreur est écrite noir sur blanc : __ZeroDivisionError__\n",
    "\n",
    "Dans l'idéal on aimerait éviter que notre code bloque sur ce problème. On pourrait passer par un test if et vérifier que x est différent de 0. Mais on se rend vite compte que dans certains cas, on ne peut lister tous les tests en fonction de valeurs. \n",
    "\n",
    "Alors on va lui précisier ce qu'il doit faire en fonction de l'erreur retournée. \n",
    "\n",
    "\n",
    "__Syntaxe__\n",
    "\n",
    "Try : \n",
    "\n",
    "\n",
    "    instruction\n",
    "\n",
    "\n",
    "except TypeErreur :\n",
    "\n",
    "\n",
    "    autre instruction"
   ]
  },
  {
   "cell_type": "code",
   "execution_count": null,
   "id": "7b1e0098",
   "metadata": {},
   "outputs": [],
   "source": [
    "def inverse(x) : \n",
    "    try :\n",
    "        y = 1/x\n",
    "    except ZeroDivisionError :\n",
    "        y = None\n",
    "    return y\n",
    "    \n",
    "print(inverse(10))"
   ]
  },
  {
   "cell_type": "markdown",
   "id": "a4fa097d",
   "metadata": {},
   "source": [
    "```\n",
    "## 0.1\n",
    "```"
   ]
  },
  {
   "cell_type": "code",
   "execution_count": null,
   "id": "0035f395",
   "metadata": {},
   "outputs": [],
   "source": [
    "print(inverse(0))"
   ]
  },
  {
   "cell_type": "markdown",
   "id": "b6e0bbf2",
   "metadata": {},
   "source": [
    "```\n",
    "## None\n",
    "```\n",
    "\n",
    "Il est recommandé de toujours __préciser le type d'erreur__ qu'on rencontre. Si on met uniquement \"except\" sans préciser le type, on peut passer à côté d'erreurs pour lesquelles la solution n'est pas universelle."
   ]
  },
  {
   "cell_type": "markdown",
   "id": "b9203a07",
   "metadata": {},
   "source": [
    "# A retenir et questions\n",
    "\n",
    "A retenir\n",
    "\n",
    "- Toujours mettre \":\" avant un bloc d'instructions\n",
    "- Indenter avant un bloc d'instructions (avec 4 espaces et non une tabulation !)\n",
    "- Indiquer les modules nécessaires à l'exécution en début de code\n",
    "- Documenter les fonctions créées\n",
    "- Préciser le type d'erreur pour les exceptions et potentiellement différencier les blocs d'instructions en fonction de l'erreur\n",
    "- Les modules indispensables \n",
    "    - matplotlib : graphes scientifiques\n",
    "    - numpy : calcul matriciel\n",
    "    - pandas : gestion de DataFrame\n",
    "    - scikit-learn : machine learning, statistique descriptive\n",
    "    - bs4 (nouveau Beautifulsoup) : webscraping "
   ]
  },
  {
   "cell_type": "markdown",
   "id": "ff437230",
   "metadata": {
    "lines_to_next_cell": 2
   },
   "source": [
    "------\n",
    "Questions \n",
    "\n",
    "\n",
    "- Que fait ce programme ?"
   ]
  },
  {
   "cell_type": "code",
   "execution_count": null,
   "id": "49701754",
   "metadata": {
    "lines_to_next_cell": 0
   },
   "outputs": [],
   "source": [
    "def inverse(x) : \n",
    "    try :\n",
    "        y = 1/x\n",
    "    except ZeroDivisionError :\n",
    "        y = None\n",
    "        return y"
   ]
  },
  {
   "cell_type": "markdown",
   "id": "bc4792d5",
   "metadata": {},
   "source": [
    "\n",
    "\n"
   ]
  },
  {
   "cell_type": "markdown",
   "id": "4c6a7310",
   "metadata": {},
   "source": [
    "- Ecrivez un programme qui peut trouver tous les nombres divisibles par 7 et non multiples de 5 entre 6523 et 8463 (inclus)\n",
    "\n"
   ]
  },
  {
   "cell_type": "markdown",
   "id": "05c58619",
   "metadata": {},
   "source": [
    "- Ecrivez un programme qui prend une phrase en entrée et qui calcule le nombre de voyelles en Majuscules et de consonnes en minuscules : \n",
    "    - phrase = \"Vous savez, moi je ne crois pas qu’il y ait de bonne ou de mauvaise situation. Moi, si je devais résumer ma vie aujourd’hui avec vous, je dirais que c’est d’abord des rencontres. Des gens qui m’ont tendu la main, peut-être à un moment où je ne pouvais pas, où j’étais seul chez moi. Et c’est assez curieux de se dire que les hasards, les rencontres forgent une destinée... Parce que quand on a le goût de la chose, quand on a le goût de la chose bien faite, le beau geste, parfois on ne trouve pas l’interlocuteur en face je dirais, le miroir qui vous aide à avancer. Alors ça n’est pas mon cas, comme je disais là, puisque moi au contraire, j’ai pu : et je dis merci à la vie, je lui dis merci, je chante la vie, je danse la vie... je ne suis qu’amour ! Et finalement, quand beaucoup de gens aujourd’hui me disent 'Mais comment fais-tu pour avoir cette humanité ?', et bien je leur réponds très simplement, je leur dis que c’est ce goût de l’amour ce goût donc qui m’a poussé aujourd’hui à entreprendre une construction mécanique, mais demain qui sait ? Peut-être simplement à me mettre au service de la communauté, à faire le don, le don de soi...\"\n",
    "    \n",
    "    \n"
   ]
  }
 ],
 "metadata": {
  "kernelspec": {
   "display_name": "Python 3",
   "language": "python",
   "name": "python3"
  }
 },
 "nbformat": 4,
 "nbformat_minor": 5
}
