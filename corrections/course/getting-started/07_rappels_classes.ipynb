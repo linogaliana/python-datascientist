{
  "cells": [
    {
      "cell_type": "markdown",
      "metadata": {},
      "source": [
        "# Les classes en Python"
      ],
      "id": "a5432830-e4c4-4487-a9bd-5be69e70aaa5"
    },
    {
      "cell_type": "raw",
      "metadata": {
        "raw_mimetype": "text/html"
      },
      "source": [
        "<!----\n",
        "\n",
        "\n",
        "```{r setup, include=FALSE}\n",
        "dir_path <- gsub(here::here(), \"..\", here::here(\"course\",\"getting-started\"))\n",
        "knitr::knit_hooks$set(\n",
        "  plot = function(x, options) modif_plot(x, options, dir_path = dir_path)\n",
        ")\n",
        "```\n",
        "\n",
        "\n",
        "----->"
      ],
      "id": "c0f6c97c-af6f-4965-b615-6abe62b58b6a"
    },
    {
      "cell_type": "markdown",
      "metadata": {},
      "source": [
        "<a href=\"https://github.com/linogaliana/python-datascientist/blob/master/notebooks/course/getting-started/07_rappels_classes.ipynb\" class=\"github\"><i class=\"fab fa-github\"></i></a>\n",
        "[![Download](https://img.shields.io/badge/Download-Notebook-important?logo=Jupyter.png)](https://downgit.github.io/#/home?url=https://github.com/linogaliana/python-datascientist/blob/master/notebooks/course/getting-started/07_rappels_classes.ipynb)\n",
        "[![nbviewer](https://img.shields.io/badge/Visualize-nbviewer-blue?logo=Jupyter.png)](https://nbviewer.jupyter.org/github/linogaliana/python-datascientist/blob/master/notebooks/course/getting-started/07_rappels_classes.ipynb)\n",
        "[![Onyxia](https://img.shields.io/badge/SSPcloud-Tester%20via%20SSP--cloud-informational&color=yellow?logo=Python.png)](https://datalab.sspcloud.fr/launcher/inseefrlab-helm-charts-datascience/jupyter?autoLaunch=true&onyxia.friendlyName=%C2%ABpython-datascience%C2%BB&init.personalInit=%C2%ABhttps%3A%2F%2Fraw.githubusercontent.com%2Flinogaliana%2Fpython-datascientist%2Fmaster%2Fsspcloud%2Finit-jupyter.sh%C2%BB&init.personalInitArgs=%C2%ABnotebooks/course/getting-started%2007_rappels_classes.ipynb%C2%BB&security.allowlist.enabled=false)<br>\n",
        "[![Binder](https://img.shields.io/badge/Launch-Binder-E66581.svg?logo=data:image/png;base64,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.png)](https://mybinder.org/v2/gh/linogaliana/python-datascientist/master?filepath=notebooks/course/getting-started/07_rappels_classes.ipynb)\n",
        "[![Open In Colab](https://colab.research.google.com/assets/colab-badge.svg)](http://colab.research.google.com/github/linogaliana/python-datascientist/blob/master/notebooks/course/getting-started/07_rappels_classes.ipynb)\n",
        "[![githubdev](https://img.shields.io/static/v1?logo=visualstudiocode&label=&message=Open%20in%20Visual%20Studio%20Code&labelColor=2c2c32&color=007acc&logoColor=007acc.png)](https://github.dev/linogaliana/python-datascientist/notebooks/course/getting-started/07_rappels_classes.ipynb)\n",
        "\n",
        "# Qu’est-ce que la programmation orientée objet ?\n",
        "\n",
        "Le langage `Python` se base sur des objets et définit pour eux des actions.\n",
        "Selon le type d’objet, les actions seront différentes.\n",
        "On parle à ce propos de **langage orienté objet** ce qui signifie\n",
        "que la syntaxe du langage `Python` permet de définir de manière conceptuelle\n",
        "des objets et appliquer des traitements cohérents avec leur structure interne.\n",
        "\n",
        "Par exemple,\n",
        "pour manipuler des données textuelles ou numériques, on aura\n",
        "besoin d’appliquer des méthodes différentes. Prenons l’exemple\n",
        "de l’opération `+`. Pour des données numériques, il s’agit\n",
        "de l’addition. Pour des données textuelles, l’addition n’a pas de sens\n",
        "mais on peut envisager d’appliquer cette opération pour faire de la\n",
        "concaténation.\n",
        "\n",
        "Chaque type d’objet se verra donc appliquer des actions\n",
        "adaptées. Cela offre une grande flexibilité au langage `Python` car on\n",
        "peut définir une méthode générique (par exemple l’addition) et l’adapter\n",
        "à différents types d’objets.\n",
        "\n",
        "Le fait que `Python` soit un langage orienté objet a une influence sur la\n",
        "syntaxe. On retrouvera régulière la syntaxe `objet.method` qui est au coeur\n",
        "de `Python`. Par exemple `pd.DataFrame.mean` se traduit par\n",
        "appliquer la méthode `mean` a un objet de type `pd.DataFrame`.\n",
        "\n",
        "## Quand utilise-t-on cela dans le domaine de la *data-science* ?\n",
        "\n",
        "Les réseaux de neurone programmés avec `Keras` ou `PyTorch` fonctionnent de\n",
        "cette manière. On part d’une structure de base et modifie les attributs (par\n",
        "exemple le nombre de couches) ou les méthodes.\n",
        "\n",
        "# La définition d’un objet\n",
        "\n",
        "Pour définir un objet, il faut lui donner des caractéristiques et des actions, ce qu’il est, ce qu’il peut faire.\n",
        "\n",
        "Avec une liste, on peut ajouter des éléments par exemple avec l’action .append(). On peut créer autant d’objets “liste” qu’on le souhaite.\n",
        "\n",
        "**Une classe regroupe des fonctions et des attributs qui définissent un objet.**\n",
        "Un objet est une instance d’une classe, c’est-à-dire un exemplaire issu de la classe. L’objet avec un comportement et un état, tous deux définis par la classe. On peut créer autant d’objets que l’on désire avec une classe donnée.\n",
        "\n",
        "Ici nous allons essayer de créer une classe chat, avec des attributs pour caractériser le chat et des actions, pour voir ce qu’il peut faire avec un objet de la classe chat.\n",
        "\n",
        "# Exemple : la Classe chat()\n",
        "\n",
        "## Les attributs de la classe chat\n",
        "\n",
        "### Classe chat version 1 - premiers attributs\n",
        "\n",
        "On veut pouvoir créer un objet chat() qui nous permettra à terme de créer une colonie de chats (on sait\n",
        "jamais ca peut servir …).\n",
        "Pour commencer, on va définir un chat avec des attributs de base : une couleur et un nom."
      ],
      "id": "23fecabe-3a04-4186-b1b3-7b373305a614"
    },
    {
      "cell_type": "code",
      "execution_count": 2,
      "metadata": {},
      "outputs": [],
      "source": [
        "class chat: # Définition de notre classe chat\n",
        "    \"\"\"Classe définissant un chat caractérisé par :\n",
        "    - son nom\n",
        "    - sa couleur \"\"\"\n",
        "    \n",
        "    def __init__(self): # Notre méthode constructeur - \n",
        "        # self c'est notre objet qu'on est en train de créer\n",
        "        \"\"\"Pour l'instant, on ne va définir que deux attributs - nom et couleur \"\"\"\n",
        "        self.couleur = \"Noir\"   \n",
        "        self.nom = \"Aucun nom\""
      ],
      "id": "45c67eca-2cfb-480c-9e8b-28dfc8e930c1"
    },
    {
      "cell_type": "code",
      "execution_count": 3,
      "metadata": {},
      "outputs": [
        {
          "output_type": "stream",
          "name": "stdout",
          "text": [
            "<class '__main__.chat'> Noir , Aucun nom"
          ]
        }
      ],
      "source": [
        "mon_chat = chat()\n",
        "\n",
        "print(type(mon_chat), mon_chat.couleur ,\",\", mon_chat.nom) "
      ],
      "id": "892fb000-c323-48b5-b91a-43e397d336db"
    },
    {
      "cell_type": "markdown",
      "metadata": {},
      "source": [
        "On nous dit bien que Mon chat est défini à partir de la classe chat,\n",
        "c’est ce que nous apprend la fonction type.\n",
        "Pour l’instant il n’a pas de nom\n",
        "\n",
        "### Classe chat version 2 - autres attributs\n",
        "\n",
        "Avec un nom et une couleur, on ne va pas loin. On peut continuer à définir des attributs pour la classe chat\n",
        "de la même façon que précédemment."
      ],
      "id": "848e22b5-91a2-430b-b480-a42a51e44652"
    },
    {
      "cell_type": "code",
      "execution_count": 4,
      "metadata": {},
      "outputs": [],
      "source": [
        "class chat: # Définition de notre classe chat\n",
        "    \"\"\"Classe définissant un chat caractérisé par :\n",
        "    - sa couleur\n",
        "    - son âge\n",
        "    - son caractère\n",
        "    - son poids\n",
        "    - son maitre\n",
        "    - son nom \"\"\"\n",
        "\n",
        "    \n",
        "    def __init__(self): # Notre méthode constructeur - \n",
        "        #self c'est notre objet qu'on est en train de créer\n",
        "        self.couleur = \"Noir\"    \n",
        "        self.age = 10\n",
        "        self.caractere = \"Joueur\"\n",
        "        self.poids = 3\n",
        "        self.maitre = \"Jeanne\"\n",
        "        self.nom = \"Aucun nom\""
      ],
      "id": "dee0b6e2-83a2-4630-81bc-abb3ee37ed1f"
    },
    {
      "cell_type": "code",
      "execution_count": 5,
      "metadata": {},
      "outputs": [
        {
          "output_type": "stream",
          "name": "stdout",
          "text": [
            "Help on class chat in module __main__:\n",
            "\n",
            "class chat(builtins.object)\n",
            " |  Classe définissant un chat caractérisé par :\n",
            " |  - sa couleur\n",
            " |  - son âge\n",
            " |  - son caractère\n",
            " |  - son poids\n",
            " |  - son maitre\n",
            " |  - son nom\n",
            " |  \n",
            " |  Methods defined here:\n",
            " |  \n",
            " |  __init__(self)\n",
            " |      Initialize self.  See help(type(self)) for accurate signature.\n",
            " |  \n",
            " |  ----------------------------------------------------------------------\n",
            " |  Data descriptors defined here:\n",
            " |  \n",
            " |  __dict__\n",
            " |      dictionary for instance variables (if defined)\n",
            " |  \n",
            " |  __weakref__\n",
            " |      list of weak references to the object (if defined)\n"
          ]
        }
      ],
      "source": [
        "help(chat) \n",
        "# si on veut savoir ce que fait la classe \"chat\" on appelle l'aide"
      ],
      "id": "ea0c08c6-6cfb-4aa1-a35f-cd83b68f17d0"
    },
    {
      "cell_type": "code",
      "execution_count": 6,
      "metadata": {},
      "outputs": [
        {
          "output_type": "stream",
          "name": "stdout",
          "text": [
            "L'âge du chat est 10 ans"
          ]
        }
      ],
      "source": [
        "mon_chat = chat()\n",
        "print(\"L'âge du chat est\", mon_chat.age,\"ans\") \n",
        "# on avait défini l'attribut age de la classe chat comme étant égal à 10\n",
        "#, si on demande l'attribut age de notre Martin on obtient 10"
      ],
      "id": "5dfe16f5-78f8-4177-ac09-797ca4940e67"
    },
    {
      "cell_type": "markdown",
      "metadata": {},
      "source": [
        "Par défaut, les attributs de la classe Chat seront toujours les mêmes à chaque création de chat à partir\n",
        "de la classe Chat.\n",
        "\n",
        "Mais une fois qu’une instance de classe est créée (ici mon chat est une instance de classe) on peut décider\n",
        "de changer la valeur de ses attributs.\n",
        "\n",
        "#### Un nouveau poids"
      ],
      "id": "0a22b6de-b3cb-4a41-81fd-992839e06ead"
    },
    {
      "cell_type": "code",
      "execution_count": 7,
      "metadata": {},
      "outputs": [
        {
          "output_type": "stream",
          "name": "stdout",
          "text": [
            "3\n",
            "3.5"
          ]
        }
      ],
      "source": [
        "print(mon_chat.poids)\n",
        "# si on veut changer le poids de mon chat, parce qu'il a un peu grossi après les fêtes\n",
        "mon_chat.poids = 3.5\n",
        "print(mon_chat.poids) # maintenant le poids est 3.5"
      ],
      "id": "5e718207-1751-4d2e-b6eb-5a2029e5a747"
    },
    {
      "cell_type": "markdown",
      "metadata": {},
      "source": [
        "#### Un nouveau nom"
      ],
      "id": "9f16738b-d1b4-45f3-9b9c-5eef9fd5b4cd"
    },
    {
      "cell_type": "code",
      "execution_count": 8,
      "metadata": {},
      "outputs": [
        {
          "output_type": "display_data",
          "metadata": {},
          "data": {
            "text/plain": [
              "'Martin'"
            ]
          }
        }
      ],
      "source": [
        "# on veut aussi lui donner un nom \n",
        "mon_chat.nom = \"Martin\"\n",
        "mon_chat.nom"
      ],
      "id": "e3deef3c-1a54-4b50-8287-4cac08141774"
    },
    {
      "cell_type": "markdown",
      "metadata": {},
      "source": [
        "#### Une autre instance de la classe Chat\n",
        "\n",
        "On peut aussi créer d’autres objets chat à partir de la classe chat :"
      ],
      "id": "af0e4fe0-0d44-405f-b3cf-3288d2810fbb"
    },
    {
      "cell_type": "code",
      "execution_count": 9,
      "metadata": {},
      "outputs": [
        {
          "output_type": "stream",
          "name": "stdout",
          "text": [
            "Noir"
          ]
        }
      ],
      "source": [
        "# on appelle la classe\n",
        "l_autre_chat = chat()\n",
        "# on change les attributs qui nous intéressent\n",
        "l_autre_chat.nom = \"Ginette\"\n",
        "l_autre_chat.maitre = \"Roger\"\n",
        "# les attributs inchangés donnent la même chose \n",
        "# que ceux définis par défaut pour la classe\n",
        "print(l_autre_chat.couleur)"
      ],
      "id": "218609ed-940d-47f8-929e-de087a020ec0"
    },
    {
      "cell_type": "markdown",
      "metadata": {},
      "source": [
        "## Les méthodes de la classe chat\n",
        "\n",
        "Les attributs sont des variables propres à notre objet, qui servent à le caractériser.\n",
        "\n",
        "Les méthodes sont plutôt des actions, comme nous l’avons vu dans la partie précédente, agissant sur l’objet.\n",
        "\n",
        "Par exemple, la méthode append de la classe list permet d’ajouter un élément dans l’objet list manipulé.\n",
        "\n",
        "### Classe chat version 3 - première méthode\n",
        "\n",
        "On peut définir une première méthode : nourrir"
      ],
      "id": "1a8e066c-55a0-4ed3-ac46-091b0a0ce5bd"
    },
    {
      "cell_type": "code",
      "execution_count": 10,
      "metadata": {},
      "outputs": [],
      "source": [
        "class chat: # Définition de notre classe chat\n",
        "    \"\"\"Classe définissant un chat caractérisé par :\n",
        "    - sa couleur\n",
        "    - son âge\n",
        "    - son caractère\n",
        "    - son poids\n",
        "    - son maitre\n",
        "    - son nom \n",
        "    \n",
        "    L'objet chat a une méthode : nourrir \"\"\"\n",
        "\n",
        "    \n",
        "    def __init__(self): # Notre méthode constructeur - \n",
        "        #self c'est notre objet qu'on est en train de créer\n",
        "        self.couleur = \"Noir\"    \n",
        "        self.age = 10\n",
        "        self.caractere = \"Joueur\"\n",
        "        self.poids = 3\n",
        "        self.maitre = \"Jeanne\"\n",
        "        self.nom = \"Aucun nom\"\n",
        "        \n",
        "        \"\"\"Par défaut, notre ventre est vide\"\"\"\n",
        "        self.ventre = \"\"\n",
        "        \n",
        "    def nourrir(self, nourriture):\n",
        "        \"\"\"Méthode permettant de donner à manger au chat.\n",
        "        Si le ventre n'est pas vide, on met une virgule avant de rajouter\n",
        "        la nourriture\"\"\"       \n",
        "        if self.ventre != \"\":\n",
        "            self.ventre += \",\"\n",
        "        self.ventre += nourriture"
      ],
      "id": "1d0ef891-585a-4bae-b170-d218964275f6"
    },
    {
      "cell_type": "code",
      "execution_count": 11,
      "metadata": {},
      "outputs": [
        {
          "output_type": "display_data",
          "metadata": {},
          "data": {
            "text/plain": [
              "''"
            ]
          }
        }
      ],
      "source": [
        "mon_chat = chat()\n",
        "mon_chat.nom = \"Martin\"\n",
        "mon_chat.ventre # On n'a rien donné à Martin, son ventre est vide"
      ],
      "id": "997d7145-0619-4af2-9e1f-b2f2436d9877"
    },
    {
      "cell_type": "code",
      "execution_count": 12,
      "metadata": {},
      "outputs": [
        {
          "output_type": "stream",
          "name": "stdout",
          "text": [
            "Le contenu du ventre de martin :  Croquettes"
          ]
        }
      ],
      "source": [
        "# on appelle la méthode \"nourrir\" de la classe chat, \n",
        "# on lui donne un élément, ici des croquettes\n",
        "mon_chat.nourrir('Croquettes')\n",
        "print(\"Le contenu du ventre de martin : \",mon_chat.ventre)"
      ],
      "id": "3c53b50d-142e-4652-a1d0-b814f3b06d98"
    },
    {
      "cell_type": "code",
      "execution_count": 13,
      "metadata": {},
      "outputs": [
        {
          "output_type": "stream",
          "name": "stdout",
          "text": [
            "Le contenu du ventre de martin :  Croquettes,Saumon"
          ]
        }
      ],
      "source": [
        "mon_chat.nourrir('Saumon')\n",
        "print(\"Le contenu du ventre de martin : \",mon_chat.ventre)"
      ],
      "id": "5793c815-2c7b-41df-856e-988b20f6c630"
    },
    {
      "cell_type": "markdown",
      "metadata": {},
      "source": [
        "### Classe chat version 4 - autre méthode\n",
        "\n",
        "Avec un chat, on peut imaginer plein de méthodes. Ici on va définir une action “nourrir” et une autre action\n",
        "“litiere”, qui consiste à vider l’estomac du chat."
      ],
      "id": "76d3ea9f-035b-461a-a4dd-1576467aaf90"
    },
    {
      "cell_type": "code",
      "execution_count": 14,
      "metadata": {},
      "outputs": [],
      "source": [
        "class chat: # Définition de notre classe Personne\n",
        "    \"\"\"Classe définissant un chat caractérisé par :\n",
        "    - sa couleur\n",
        "    - son âge\n",
        "    - son caractère\n",
        "    - son poids\n",
        "    - son maitre\n",
        "    - son nom \n",
        "    \n",
        "    L'objet chat a deux méthodes : nourrir et litiere \"\"\"\n",
        "\n",
        "    \n",
        "    def __init__(self): # Notre méthode constructeur - \n",
        "        #self c'est notre objet qu'on est en train de créer\n",
        "        self.nom = \"\"\n",
        "        self.couleur = \"Roux\"    \n",
        "        self.age = 10\n",
        "        self.caractere = \"Joueur\"\n",
        "        self.poids = 3\n",
        "        self.maitre = \"Jeanne\"\n",
        "        \"\"\"Par défaut, notre ventre est vide\"\"\"\n",
        "        self.ventre = \"\"\n",
        "        \n",
        "    def nourrir(self, nourriture):\n",
        "        \"\"\"Méthode permettant de donner à manger au chat.\n",
        "        Si le ventre n'est pas vide, on met une virgule avant de rajouter\n",
        "        la nourriture\"\"\"       \n",
        "        if self.ventre != \"\":\n",
        "            self.ventre += \",\"\n",
        "        self.ventre += nourriture\n",
        "\n",
        "    def litiere(self) : \n",
        "        \"\"\" Méthode permettant au chat d'aller à sa litière : \n",
        "        en conséquence son ventre est vide \"\"\"       \n",
        "        self.ventre = \"\"\n",
        "        print(self.nom,\"a le ventre vide\")"
      ],
      "id": "0f588e75-c9c7-45d6-acff-f5c129d29e69"
    },
    {
      "cell_type": "code",
      "execution_count": 15,
      "metadata": {},
      "outputs": [
        {
          "output_type": "stream",
          "name": "stdout",
          "text": [
            "Le contenu du ventre de martin croquettes\n",
            "Martin a le ventre vide"
          ]
        }
      ],
      "source": [
        "# on définit Martin le chat\n",
        "mon_chat = chat()\n",
        "mon_chat.nom = \"Martin\"\n",
        "# on le nourrit avec des croquettes\n",
        "mon_chat.nourrir('croquettes')\n",
        "print(\"Le contenu du ventre de martin\", mon_chat.ventre)\n",
        "\n",
        "\n",
        "# Il va dans sa litiere\n",
        "mon_chat.litiere()"
      ],
      "id": "404a63d7-44fa-4d5f-a065-2aad5f41ae24"
    },
    {
      "cell_type": "code",
      "execution_count": 16,
      "metadata": {},
      "outputs": [
        {
          "output_type": "stream",
          "name": "stdout",
          "text": [
            "Help on method nourrir in module __main__:\n",
            "\n",
            "nourrir(nourriture) method of __main__.chat instance\n",
            "    Méthode permettant de donner à manger au chat.\n",
            "    Si le ventre n'est pas vide, on met une virgule avant de rajouter\n",
            "    la nourriture\n",
            "\n",
            "Help on method litiere in module __main__:\n",
            "\n",
            "litiere() method of __main__.chat instance\n",
            "    Méthode permettant au chat d'aller à sa litière : \n",
            "    en conséquence son ventre est vide\n"
          ]
        }
      ],
      "source": [
        "help(mon_chat.nourrir)\n",
        "help(mon_chat.litiere)"
      ],
      "id": "ad53d371-0ac7-4240-901c-67fa879ec019"
    },
    {
      "cell_type": "markdown",
      "metadata": {},
      "source": [
        "### ***facultatif*** Les méthodes spéciales\n",
        "\n",
        "Si on reprend notre classe chat, il y a en réalité des méthodes spéciales que nous n’avons pas définies mais\n",
        "qui sont implicites.\n",
        "\n",
        "Python comprend seul ce que doivent faire ces méthodes. Il a une idée préconcue de ce qu’elles doivent\n",
        "effectuer comme opération. Si vous ne redéfinissez par une méthode spéciale pour qu’elle fasse ce que vous\n",
        "souhaitez, ca peut donner des r\u0013esultats inattendus.\n",
        "\n",
        "Elles servent à plusieurs choses :\n",
        "\n",
        "-   à initialiser l’objet instancié : \\_\\_init\\_\\_\n",
        "-   à modifier son affichage : \\_\\_repr\\_\\_"
      ],
      "id": "ba1944fe-f8f8-422b-9d08-b95bdf9873d0"
    },
    {
      "cell_type": "raw",
      "metadata": {
        "raw_mimetype": "text/html"
      },
      "source": [
        "<!-- #endregion -->"
      ],
      "id": "aaa266cd-4c57-4097-9436-a7a262394400"
    },
    {
      "cell_type": "code",
      "execution_count": 17,
      "metadata": {},
      "outputs": [
        {
          "output_type": "stream",
          "name": "stdout",
          "text": [
            "Martin\n",
            "Martin"
          ]
        }
      ],
      "source": [
        "# pour avoir la valeur de l'attribut \"nom\"\n",
        "\n",
        "print(mon_chat.__getattribute__(\"nom\"))\n",
        "# on aurait aussi pu faire plus simple :\n",
        "print(mon_chat.nom)"
      ],
      "id": "f8f569af-15e6-4a42-9767-8d392f328438"
    },
    {
      "cell_type": "markdown",
      "metadata": {},
      "source": [
        "``` python\n",
        "# si l'attribut n'existe pas : on a une erreur\n",
        "# Python recherche l'attribut et, s'il ne le trouve pas dans l'objet et si une méthode __getattr__ est spécifiée, \n",
        "# il va l'appeler en lui passant en paramètre le nom de l'attribut recherché, sous la forme d'une chaîne de caractères.\n",
        "\n",
        "print(mon_chat.origine)\n",
        "```\n",
        "\n",
        "    ## Error in py_call_impl(callable, dots$args, dots$keywords): AttributeError: 'chat' object has no attribute 'origine'\n",
        "    ## \n",
        "    ## Detailed traceback: \n",
        "    ##   File \"<string>\", line 1, in <module>\n",
        "\n",
        "Mais on peut modifier les méthodes spéciales de notre classe chat pour éviter d’avoir des erreurs d’attributs. On va aussi en profiter pour modifier la représentation de l’instance chat qui pour l’instant donne \\<\\_*main\\_*.chat object at 0x0000000005AB4C50\\>\n",
        "\n",
        "### Classe chat version 5 - méthode spéciale"
      ],
      "id": "8b620e73-432b-4ab2-b47f-57e17e4dec35"
    },
    {
      "cell_type": "code",
      "execution_count": 18,
      "metadata": {},
      "outputs": [],
      "source": [
        "class chat: # Définition de notre classe Personne\n",
        "    \"\"\"Classe définissant un chat caractérisé par :\n",
        "    - sa couleur\n",
        "    - son âge\n",
        "    - son caractère\n",
        "    - son poids\n",
        "    - son maitre\n",
        "    - son nom \n",
        "    \n",
        "    L'objet chat a deux méthodes : nourrir et litiere \"\"\"\n",
        "\n",
        "    \n",
        "    def __init__(self): # Notre méthode constructeur - \n",
        "        #self c'est notre objet qu'on est en train de créer\n",
        "        self.nom = \"\"\n",
        "        self.couleur = \"Roux\"    \n",
        "        self.age = 10\n",
        "        self.caractere = \"Joueur\"\n",
        "        self.poids = 3\n",
        "        self.maitre = \"Jeanne\"\n",
        "        \"\"\"Par défaut, notre ventre est vide\"\"\"\n",
        "        self.ventre = \"\"\n",
        "        \n",
        "    def nourrir(self, nourriture):\n",
        "        \"\"\"Méthode permettant de donner à manger au chat.\n",
        "        Si le ventre n'est pas vide, on met une virgule avant de rajouter\n",
        "        la nourriture\"\"\"       \n",
        "        if self.ventre != \"\":\n",
        "            self.ventre += \",\"\n",
        "        self.ventre += nourriture\n",
        "\n",
        "    def litiere(self) : \n",
        "        \"\"\" Méthode permettant au chat d'aller à sa litière : \n",
        "        en conséquence son ventre est vide \"\"\"       \n",
        "        self.ventre = \"\"\n",
        "        print(self.nom,\"a le ventre vide\")\n",
        "    \n",
        "    def __getattribute__(self, key):\n",
        "            return print(key,\"n'est pas un attribut de la classe chat\")   \n",
        "            \n",
        "    def __repr__(self):\n",
        "            return \"Je suis une instance de la classe chat\""
      ],
      "id": "f52c2586-1077-4191-bee9-972225035a59"
    },
    {
      "cell_type": "code",
      "execution_count": 19,
      "metadata": {},
      "outputs": [
        {
          "output_type": "stream",
          "name": "stdout",
          "text": [
            "Martin\n",
            "origine n'est pas un attribut de la classe chat\n",
            "<__main__.chat object at 0x7f992499ea60>\n",
            "Je suis une instance de la classe chat"
          ]
        }
      ],
      "source": [
        "# j'ai gardé l'exemple chat défini selon la classe version 4\n",
        "# Martin, le chat\n",
        "# on a vu précédemment qu'il n'avait pas d'attribut origine\n",
        "# et que cela levait une erreur AttributeError\n",
        "print(mon_chat.nom)\n",
        "\n",
        "\n",
        "# on va définir un nouveau chat avec la version 5\n",
        "# on appelle à nouveau un attribut qui n'existe pas \"origine\"\n",
        "# on a bien le message défini par la méthode spéciale _gettattribute\n",
        "\n",
        "mon_chat_nouvelle_version = chat()\n",
        "mon_chat_nouvelle_version.origine\n",
        "\n",
        "# Maintenant on a aussi une définition de l'objet plus clair\n",
        "print(mon_chat)\n",
        "print(mon_chat_nouvelle_version)"
      ],
      "id": "cb46b308-a367-4837-b151-6b07eaf0724b"
    },
    {
      "cell_type": "markdown",
      "metadata": {},
      "source": [
        "------------------------------------------------------------------------\n",
        "\n",
        "### Conclusion sur les classes : ce qu’on retient\n",
        "\n",
        "-   Les méthodes se définissent comme des fonctions, sauf qu’elles se trouvent dans le corps de la classe.\n",
        "\n",
        "-   On définit les attributs d’une instance dans le constructeur de sa classe, en suivant cette syntaxe : self.nom_attribut = valeur.\n",
        "\n",
        "-   *facultatif* : Les méthodes d’instance prennent en premier paramètre “self”, l’instance de l’objet manipulé.\n",
        "\n",
        "-   *facultatif* : On construit une instance de classe en appelant son constructeur, une méthode d’instance appelée **init**."
      ],
      "id": "53e8a594-9cba-4996-be61-83e2beb87e55"
    }
  ],
  "nbformat": 4,
  "nbformat_minor": 5,
  "metadata": {
    "kernelspec": {
      "name": "python3",
      "display_name": "Python 3 (ipykernel)",
      "language": "python"
    },
    "language_info": {
      "name": "python",
      "codemirror_mode": {
        "name": "ipython",
        "version": "3"
      },
      "file_extension": ".py",
      "mimetype": "text/x-python",
      "nbconvert_exporter": "python",
      "pygments_lexer": "ipython3",
      "version": "3.9.12"
    }
  }
}