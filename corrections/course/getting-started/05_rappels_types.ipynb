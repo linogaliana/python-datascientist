{
  "cells": [
    {
      "cell_type": "markdown",
      "metadata": {},
      "source": [
        "# Rappel de ce que vous savez déjà mais avez peut-être oublié"
      ],
      "id": "b893a840-db57-424f-a2eb-df6c5babb907"
    },
    {
      "cell_type": "markdown",
      "metadata": {},
      "source": [
        "<p class=\"badges\">\n",
        "\n",
        "<a href=\"https://github.com/linogaliana/python-datascientist/blob/master/notebooks/course/getting-started/05_rappels_types.ipynb\" class=\"github\"><i class=\"fab fa-github\"></i></a>\n",
        "<a href=\"https://downgit.github.io/#/home?url=https://github.com/linogaliana/python-datascientist/blob/master/notebooks/course/getting-started/05_rappels_types.ipynb\" target=\"_blank\" rel=\"noopener\"><img src=\"https://img.shields.io/badge/Download-Notebook-important?logo=Jupyter\" alt=\"Download\"></a>\n",
        "<a href=\"https://nbviewer.jupyter.org/github/linogaliana/python-datascientist/blob/master/notebooks/course/getting-started/05_rappels_types.ipynb\" target=\"_blank\" rel=\"noopener\"><img src=\"https://img.shields.io/badge/Visualize-nbviewer-blue?logo=Jupyter\" alt=\"nbviewer\"></a>\n",
        "<a href=\"https://datalab.sspcloud.fr/launcher/ide/jupyter-python?autoLaunch=true&onyxia.friendlyName=%C2%ABpython-datascience%C2%BB&init.personalInit=%C2%ABhttps%3A%2F%2Fraw.githubusercontent.com%2Flinogaliana%2Fpython-datascientist%2Fmaster%2Fsspcloud%2Finit-jupyter.sh%C2%BB&init.personalInitArgs=%C2%ABgetting-started%2005_rappels_types%C2%BB&security.allowlist.enabled=false\" target=\"_blank\" rel=\"noopener\"><img src=\"https://img.shields.io/badge/SSPcloud-Tester%20via%20SSP--cloud-informational&amp;color=yellow?logo=Python\" alt=\"Onyxia\"></a><br>\n",
        "<a href=\"https://mybinder.org/v2/gh/linogaliana/python-datascientist/master?filepath={binder_path}\" target=\"_blank\" rel=\"noopener\"><img src=\"https://img.shields.io/badge/Launch-Binder-E66581.svg?logo=data:image/png;base64,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\" alt=\"Binder\"></a>\n",
        "<a href=\"http://colab.research.google.com/github/linogaliana/python-datascientist/blob/master/notebooks/course/getting-started/05_rappels_types.ipynb\" target=\"_blank\" rel=\"noopener\"><img src=\"https://colab.research.google.com/assets/colab-badge.svg\" alt=\"Open In Colab\"></a>\n",
        "<a href=\"https://github.dev/linogaliana/python-datascientist/notebooks/course/getting-started/05_rappels_types.ipynb\" target=\"_blank\" rel=\"noopener\"><img src=\"https://img.shields.io/static/v1?logo=visualstudiocode&label=&message=Open%20in%20Visual%20Studio%20Code&labelColor=2c2c32&color=007acc&logoColor=007acc\" alt=\"githubdev\"></a>\n",
        "\n",
        "</p>\n",
        "\n",
        "</p>"
      ],
      "id": "20d08019-90b7-45d7-93c7-5092ddf8f8d0"
    },
    {
      "cell_type": "markdown",
      "metadata": {},
      "source": [
        "[`pandas`](http://pandas.pydata.org/) et [`numpy`](http://www.numpy.org/) sont\n",
        "essentiels pour manipuler les données.\n",
        "Néanmoins, il est nécessaire de ne pas faire l’impasse sur les fondements\n",
        "du langage python. Une bonne compréhension des éléments structurants le\n",
        "langage entraîne une plus grande productivité et liberté.\n",
        "\n",
        "Voir aussi [Essential Cheat Sheets for Machine Learning and Deep Learning Engineers](https://startupsventurecapital.com/essential-cheat-sheets-for-machine-learning-and-deep-learning-researchers-efb6a8ebd2e5).\n",
        "\n",
        "## Les quelques règles de Python\n",
        "\n",
        "Python est un peu susceptible et protocolaire, plus formaliste que ne l’est `R`.\n",
        "Il y a ainsi quelques règles à respecter :\n",
        "\n",
        "*Règle 1:* **L’indentation est primordiale** : un code mal indenté provoque une erreur\n",
        "L’indentation indique à l’interpréteur où se trouvent les\n",
        "séparations entre des blocs d’instructions. Un peu comme des points dans un\n",
        "texte.\n",
        "\n",
        "Si les lignes ne sont pas bien alignées, l’interpréteur ne sait plus à quel\n",
        "bloc associer la ligne. Par exemple, le corps d’une fonction doit être indenté\n",
        "d’un niveau ; les éléments dans une clause logique (`if`, `else`, etc.) également\n",
        "\n",
        "*Règle 2:* On commence à compter à 0, comme dans beaucoup de langages\n",
        "(`C++`, `java`…). `python` diffère dans ce domaine de `R` où on commence\n",
        "à compter à 1.\n",
        "Le premier élément d’une liste est ainsi, en python, le 0-ème.\n",
        "\n",
        "*Règle 3:* Comme dans une langue naturelle, les marques de\n",
        "ponctuation sont importantes :\n",
        "\n",
        "-   Pour une liste : `[]`\n",
        "-   Pour un dictionnaire : `{}`\n",
        "-   Pour un tuple : `()`\n",
        "-   Pour séparer des éléments `:` ,\n",
        "-   Pour commenter un bout de code : `#`\n",
        "-   Pour aller à la ligne dans un bloc d’instructions : `\\`\n",
        "-   Les majuscules et minuscules sont importantes\n",
        "-   Par contre l’usage des `'` ou des `\"` est indifférent.\n",
        "    Il faut juste avoir les mêmes début et fin.\n",
        "-   Pour documenter une fonction ou une classe *““” mon texte de documentation “““*\n",
        "\n",
        "## Les outputs de Python : l’opération, le `print` et le `return`\n",
        "\n",
        "Quand Python réalise des opérations, il faut lui préciser ce qu’il doit en faire :\n",
        "\\* est-ce qu’il doit juste faire l’opération,\n",
        "\\* afficher le résultat de l’opération,\n",
        "\\* créer un objet avec le résultat de l’opération ?\n",
        "\n",
        "Contrairement à `R`, par défaut, python ne renvoie pas le résultat de la\n",
        "dernière opération effectuée.\n",
        "\n",
        "Remarque : dans l’environnement Notebook, le dernier élement d’une cellule\n",
        "est automatiquement affiché (print), qu’on lui demande ou non de le faire. Ce\n",
        "n’est pas le cas dans un éditeur classique comme Spyder ou PyCharm."
      ],
      "id": "e7807880-1d16-457d-b123-157ad8244dae"
    },
    {
      "cell_type": "code",
      "execution_count": 2,
      "metadata": {},
      "outputs": [
        {
          "output_type": "stream",
          "name": "stdout",
          "text": [
            "5"
          ]
        }
      ],
      "source": [
        "# on calcule : dans le cas d'une opération par exemple une somme\n",
        "2+3 # Python calcule le résultat mais n'affiche rien dans la sortie\n",
        "\n",
        "# le print : on affiche\n",
        "\n",
        "print(2+3) # Python calcule et on lui demande juste de l'afficher\n",
        "# le résultat est en dessous du code"
      ],
      "id": "337183dd-1bb0-4bb9-88b9-b0152ca11111"
    },
    {
      "cell_type": "code",
      "execution_count": 3,
      "metadata": {},
      "outputs": [
        {
          "output_type": "stream",
          "name": "stdout",
          "text": [
            "2\n",
            "<class 'NoneType'>"
          ]
        }
      ],
      "source": [
        "# le print dans une fonction \n",
        "\n",
        "def addition_v1(a,b) : \n",
        "    print(a+b)\n",
        "\n",
        "resultat_print = addition_v1(2,0) \n",
        "print(type(resultat_print))\n",
        "\n",
        "# dans la sortie on a l'affichage du résultat, car la sortie de la fonction est un print \n",
        "# en plus on lui demande quel est le type du résultat. Un print ne renvoie aucun type, ce n'est ni un numérique,\n",
        "# ni une chaine de charactères, le résultat d'un print n'est pas un format utilisable"
      ],
      "id": "20703921-7ab8-47fe-bc43-3eeae059a95b"
    },
    {
      "cell_type": "markdown",
      "metadata": {},
      "source": [
        "Le résultat de l’addition est affiché\n",
        "\n",
        "La fonction addition_v1 effectue un print\n",
        "\n",
        "Par contre, l’objet créé n’a pas de type, il n’est pas un chiffre,\n",
        "ce n’est qu’un affichage.\n",
        "\n",
        "Pour créer un objet avec le résultat de la fonction, il faut utiliser **return**"
      ],
      "id": "fc1e3789-e10f-4b18-ad9c-f9eabe8dda73"
    },
    {
      "cell_type": "code",
      "execution_count": 4,
      "metadata": {},
      "outputs": [
        {
          "output_type": "stream",
          "name": "stdout",
          "text": [
            "<class 'int'>"
          ]
        }
      ],
      "source": [
        "# le return dans une fonction\n",
        "def addition_v2(a,b) : \n",
        "    return a+b\n",
        "\n",
        "resultat_return = addition_v2(2,5) # \n",
        "print(type(resultat_return))\n",
        "## là on a bien un résultat qui est du type \"entier\""
      ],
      "id": "54a83325-7149-4c2d-8789-a6f71e7909a2"
    },
    {
      "cell_type": "markdown",
      "metadata": {},
      "source": [
        "Le résultat de addition_v2 n’est pas affiché comme dans addition_v1\n",
        "\n",
        "Par contre, la fonction addition_v2 permet d’avoir un objet de type `int`,\n",
        "un entier donc.\n",
        "\n",
        "## Type de base : variables, listes, dictionnaires …\n",
        "\n",
        "Python permet de manipuler différents types de base.\n",
        "\n",
        "On distingue deux types de variables : les immuables (*immutables*)\n",
        "qui ne peuvent être\n",
        "modifiés et les modifiables (*mutables*)\n",
        "\n",
        "### Les variables - types immuables\n",
        "\n",
        "Les variables immuables ne peuvent être modifiées\n",
        "\n",
        "-   `None` : ce type est une convention de programmation pour dire que la valeur n’est pas calculée\n",
        "-   `bool` : un booléen\n",
        "-   `int` : un entier\n",
        "-   `float` : un réel\n",
        "-   `str` : une chaine de caractères\n",
        "-   `tuple` : un vecteur"
      ],
      "id": "4c010e1b-b2b7-463d-9a25-23589d001418"
    },
    {
      "cell_type": "code",
      "execution_count": 5,
      "metadata": {},
      "outputs": [
        {
          "output_type": "stream",
          "name": "stdout",
          "text": [
            "3 3.3 exemple None (1, 2)"
          ]
        }
      ],
      "source": [
        "i = 3         # entier = type numérique (type int)\n",
        "r = 3.3       # réel   = type numérique (type float)\n",
        "s = \"exemple\" # chaîne de caractères = type str \n",
        "n = None      # None signifie que la variable existe mais qu'elle ne contient rien\n",
        "              # elle est souvent utilisée pour signifier qu'il n'y a pas de résultat\n",
        "a = (1,2)     # tuple\n",
        "\n",
        "print(i,r,s,n,a)         "
      ],
      "id": "2d3b51f4-c927-45a5-9e42-f07487570ffc"
    },
    {
      "cell_type": "markdown",
      "metadata": {},
      "source": [
        "Si on essaie de changer le premier élément de la chaine de caractères **s** on va avoir un peu de mal.\n",
        "\n",
        "Par exemple si on voulait mettre une majuscule à “exemple”, on aurait envie d’écrire que le premier élément de la chaine s est “E” majuscule\n",
        "\n",
        "Mais Python ne va pas nous laisser faire, il nous dit que les objets “chaine de caractère” ne peuvent être modifiés\n",
        "\n",
        "``` python\n",
        "s[0] = \"E\"  # déclenche une exception\n",
        "```\n",
        "\n",
        "Tout ce qu’on peut faire avec une variable immuable, c’est la réaffecter à une autre valeur : elle ne peut pas être modifiée.\n",
        "\n",
        "Pour s’en convaincre, utilisons la fonction id() qui donne un identifiant à chaque objet."
      ],
      "id": "6454812d-58fa-4a4b-85f7-2cf2d843ce16"
    },
    {
      "cell_type": "code",
      "execution_count": 6,
      "metadata": {},
      "outputs": [
        {
          "output_type": "stream",
          "name": "stdout",
          "text": [
            "exemple"
          ]
        },
        {
          "output_type": "display_data",
          "metadata": {},
          "data": {
            "text/plain": [
              "139951994523952"
            ]
          }
        }
      ],
      "source": [
        "print(s)\n",
        "id(s)"
      ],
      "id": "190ac1bd-24a8-4964-be40-a01a63adb8c9"
    },
    {
      "cell_type": "code",
      "execution_count": 7,
      "metadata": {},
      "outputs": [
        {
          "output_type": "display_data",
          "metadata": {},
          "data": {
            "text/plain": [
              "139951994201136"
            ]
          }
        }
      ],
      "source": [
        "s = \"autre_mot\"\n",
        "id(s)"
      ],
      "id": "2e869b2f-3b8a-4fc9-a4bb-2c7bd3e0ba0d"
    },
    {
      "cell_type": "markdown",
      "metadata": {},
      "source": [
        "On voit bien que s a changé d’identifiant : il peut avoir le même nom, ce n’est plus le même objet"
      ],
      "id": "78d69ae3-700f-4ee3-98b4-73cf166f490a"
    },
    {
      "cell_type": "raw",
      "metadata": {
        "raw_mimetype": "text/html"
      },
      "source": [
        "<!-- #region -->"
      ],
      "id": "75b1b17d-cf62-40c5-bdce-333f997c6e7d"
    },
    {
      "cell_type": "markdown",
      "metadata": {},
      "source": [
        "### Les variables - types modifiable : listes et dictionnaires\n",
        "\n",
        "Heureusement, il existe des variables modifiables comme les listes et les dictionnaires.\n",
        "\n",
        "#### Les listes - elles s’écrivent entre \\[ \\]\n",
        "\n",
        "Les listes sont des élements très utiles, notamment quand vous souhaitez faire des boucles\n",
        "\n",
        "Pour faire appel aux élements d’une liste, on donne leur position dans la liste : le 1er est le 0, le 2ème est le 1 …\n",
        "<!-- #endregion -->"
      ],
      "id": "6e1fa4f4-542c-4f14-8964-025d856d3a98"
    },
    {
      "cell_type": "code",
      "execution_count": 8,
      "metadata": {},
      "outputs": [
        {
          "output_type": "stream",
          "name": "stdout",
          "text": [
            "La longueur de ma liste est de 4\n",
            "Le premier élément de ma liste est : 1\n",
            "Le dernier élément de ma liste est : 4\n",
            "Le dernier élément de ma liste est : 4"
          ]
        }
      ],
      "source": [
        "ma_liste = [1,2,3,4]\n",
        "\n",
        "\n",
        "print(\"La longueur de ma liste est de\", len(ma_liste))\n",
        "\n",
        "print(\"Le premier élément de ma liste est :\", ma_liste[0])\n",
        "\n",
        "print(\"Le dernier élément de ma liste est :\", ma_liste[3])\n",
        "print(\"Le dernier élément de ma liste est :\", ma_liste[-1])"
      ],
      "id": "c03ec886-d297-41d9-b2e8-6674322f32fd"
    },
    {
      "cell_type": "raw",
      "metadata": {
        "raw_mimetype": "text/html"
      },
      "source": [
        "<!-- Attention les {} disparaissent quand ils sont render dans le qmd. Je ne sais pas comment corriger. -->"
      ],
      "id": "f2a60586-ea74-4d6e-97d1-f87aab08fb7f"
    },
    {
      "cell_type": "markdown",
      "metadata": {},
      "source": [
        "#### Les dictionnaires - ils s’écrivent entre accolades\n",
        "\n",
        "Un dictionnaire associe à une clé un autre élément, appelé une valeur : un chiffre, un nom, une liste, un autre dictionnaire etc.\n",
        "\n",
        "-   **Format d’un dictionnaire : {Clé : valeur}**\n",
        "\n",
        "#### Dictionnaire avec des valeurs int\n",
        "\n",
        "On peut par exemple associer à un nom, un nombre"
      ],
      "id": "cd83850d-8fea-4e3f-a254-9aa00ee66510"
    },
    {
      "cell_type": "code",
      "execution_count": 9,
      "metadata": {},
      "outputs": [
        {
          "output_type": "stream",
          "name": "stdout",
          "text": [
            "{'Nicolas': 18, 'Pimprenelle': 15}"
          ]
        }
      ],
      "source": [
        "mon_dictionnaire_notes = { 'Nicolas' : 18 , 'Pimprenelle' : 15} \n",
        "# un dictionnaire qui à chaque nom associe un nombre\n",
        "# à Nicolas, on associe 18\n",
        "\n",
        "print(mon_dictionnaire_notes) "
      ],
      "id": "5f5791b1-c2c2-47b3-8688-f14ea53b0476"
    },
    {
      "cell_type": "markdown",
      "metadata": {},
      "source": [
        "#### Dictionnaire avec des valeurs qui sont des listes\n",
        "\n",
        "Pour chaque clé d’un dictionnaire, il ne faut pas forcément garder la même forme de valeur\n",
        "\n",
        "Dans l’exemple, la valeur de la clé “Nicolas” est une liste, alors que celle de “Philou” est une liste de liste"
      ],
      "id": "10e0c2c6-1e89-4487-b4b3-753ae47e4cd9"
    },
    {
      "cell_type": "code",
      "execution_count": 10,
      "metadata": {},
      "outputs": [],
      "source": [
        "mon_dictionnaire_loisirs =  \\\n",
        "{ 'Nicolas' : ['Rugby','Pastis','Belote'] , \n",
        "  'Pimprenelle' : ['Gin Rami','Tisane','Tara Jarmon','Barcelone','Mickey Mouse'],\n",
        "  'Philou' : [['Maths','Jeux'],['Guillaume','Jeanne','Thimothée','Adrien']]}"
      ],
      "id": "a8ed6258-2c16-48ea-aa60-af991ecad6ca"
    },
    {
      "cell_type": "markdown",
      "metadata": {},
      "source": [
        "Pour accéder à un élément du dictionnaire, on fait appel à la clé et non plus à la position, comme c’était le cas dans les listes"
      ],
      "id": "f7820ada-4075-4a3b-bd47-f64fb002d3b0"
    },
    {
      "cell_type": "code",
      "execution_count": 11,
      "metadata": {},
      "outputs": [
        {
          "output_type": "stream",
          "name": "stdout",
          "text": [
            "['Rugby', 'Pastis', 'Belote']"
          ]
        }
      ],
      "source": [
        "print(mon_dictionnaire_loisirs['Nicolas']) # on affiche une liste"
      ],
      "id": "4a999c85-1753-4e4f-9660-e2bed57d4c7b"
    },
    {
      "cell_type": "code",
      "execution_count": 12,
      "metadata": {},
      "outputs": [
        {
          "output_type": "stream",
          "name": "stdout",
          "text": [
            "[['Maths', 'Jeux'], ['Guillaume', 'Jeanne', 'Thimothée', 'Adrien']]"
          ]
        }
      ],
      "source": [
        "print(mon_dictionnaire_loisirs['Philou']) # on affiche une liste de listes"
      ],
      "id": "a59cb8c2-3755-43de-a097-434edd8ee797"
    },
    {
      "cell_type": "markdown",
      "metadata": {},
      "source": [
        "Si on ne veut avoir que la première liste des loisirs de Philou, on demande le premier élément de la liste"
      ],
      "id": "44df13c5-9c3d-458d-95d4-07c15d425614"
    },
    {
      "cell_type": "code",
      "execution_count": 13,
      "metadata": {},
      "outputs": [
        {
          "output_type": "stream",
          "name": "stdout",
          "text": [
            "['Maths', 'Jeux']"
          ]
        }
      ],
      "source": [
        "print(mon_dictionnaire_loisirs['Philou'][0]) # on affiche alors juste la première liste"
      ],
      "id": "d00c9c0b-1354-4e79-adf9-a99d9f11b17a"
    },
    {
      "cell_type": "markdown",
      "metadata": {},
      "source": [
        "On peut aussi avoir des valeurs qui sont des int et des listes"
      ],
      "id": "be6ad257-8b43-47b0-b47f-b4ce15de87f6"
    },
    {
      "cell_type": "code",
      "execution_count": 14,
      "metadata": {},
      "outputs": [],
      "source": [
        "mon_dictionnaire_patchwork_good = \\\n",
        "{ 'Nicolas' : ['Rugby','Pastis','Belote'] ,\n",
        "  'Pimprenelle' : 18 }"
      ],
      "id": "86a9c503-cf5f-4a8c-8873-ef644a335770"
    },
    {
      "cell_type": "markdown",
      "metadata": {},
      "source": [
        "### A retenir\n",
        "\n",
        "-   L’indentation du code est importante (4 espaces et pas une tabulation)\n",
        "-   Une **liste** est entre \\[\\] et on peut appeler les positions par leur place\n",
        "-   Un **dictionnaire**, clé x valeur, s’écrit entre {} et on appelle un élément en fonction de la clé\n",
        "\n",
        "## Questions pratiques :\n",
        "\n",
        "-   Quelle est la position de 7 dans la liste suivante"
      ],
      "id": "d97d564c-4d8f-4870-b4da-29a3edf177e3"
    },
    {
      "cell_type": "code",
      "execution_count": 15,
      "metadata": {},
      "outputs": [],
      "source": [
        "liste_nombres = [1,2,7,5,3]"
      ],
      "id": "fd95cda7-9631-4bf7-b1fe-7d8d0866d466"
    },
    {
      "cell_type": "markdown",
      "metadata": {},
      "source": [
        "-   Combien de clés a ce dictionnaire ?"
      ],
      "id": "1ca283b9-657a-4af0-84eb-f570f78001ad"
    },
    {
      "cell_type": "code",
      "execution_count": 17,
      "metadata": {},
      "outputs": [],
      "source": [
        " dictionnaire_evangile = {\"Marc\" : \"Lion\", \"Matthieu\" : [\"Ange\",\"Homme ailé\"] , \n",
        "                          \"Jean\" : \"Aigle\" , \"Luc\" : \"Taureau\"}"
      ],
      "id": "c7e00d34-62e3-468a-8af0-d0ffcaa800b9"
    },
    {
      "cell_type": "markdown",
      "metadata": {},
      "source": [
        "-   Que faut-il écrire pour obtenir “Ange” en résultat à partir du dictionnaire_evangile ?"
      ],
      "id": "d6a68e71-e282-4d81-98b0-e3ce76344ecf"
    },
    {
      "cell_type": "code",
      "execution_count": 19,
      "metadata": {},
      "outputs": [
        {
          "output_type": "display_data",
          "metadata": {},
          "data": {
            "text/plain": [
              "'Ange'"
            ]
          }
        }
      ],
      "source": [
        "dictionnaire_evangile[\"Matthieu\"][0]"
      ],
      "id": "4d09f707-6c77-43bf-abce-3241a2ca3ed1"
    },
    {
      "cell_type": "markdown",
      "metadata": {},
      "source": [
        "## Objets : méthodes et attributs\n",
        "\n",
        "Maintenant qu’on a vu quels objets existent en Python, nous allons\n",
        "voir comment nous en servir.\n",
        "\n",
        "### Un petit détour pour bien comprendre : Un objet, c’est quoi ?\n",
        "\n",
        "Un objet a deux choses : des attributs et des méthodes\n",
        "\n",
        "-   Les attributs décrivent sa structure interne : sa taille, sa forme (dont on ne va pas parler ici)\n",
        "-   Les méthodes sont des “actions” qui s’appliqueront à l’objet\n",
        "\n",
        "### Premiers exemples de méthode\n",
        "\n",
        "Avec les éléments définis dans la partie 1 (les listes, les dictionnaires) on peut faire appel à des méthodes qui sont directement liées à ces objets.\n",
        "\n",
        "Les méthodes, c’est un peu les actions de Python.\n",
        "\n",
        "#### Une méthode pour les listes\n",
        "\n",
        "Pour ajouter un item dans une liste : on va utiliser la méthode *.append()*"
      ],
      "id": "72de39fb-ddd9-4e47-9f2d-f9565366b7ec"
    },
    {
      "cell_type": "code",
      "execution_count": 20,
      "metadata": {},
      "outputs": [
        {
          "output_type": "stream",
          "name": "stdout",
          "text": [
            "['Nicolas', 'Michel', 'Bernard', 'Philippe']"
          ]
        }
      ],
      "source": [
        "ma_liste = [\"Nicolas\",\"Michel\",\"Bernard\"]\n",
        "\n",
        "ma_liste.append(\"Philippe\")\n",
        "\n",
        "print(ma_liste)"
      ],
      "id": "e75e1646-7160-4fcb-a39a-66d69cb04edf"
    },
    {
      "cell_type": "markdown",
      "metadata": {},
      "source": [
        "#### Une méthode pour les dictionnaires\n",
        "\n",
        "Pour connaitre l’ensemble des clés d’un dictionnaire, on appelle la méthode *.keys()*"
      ],
      "id": "14c6779c-e7aa-4941-88bc-a4e9a719c445"
    },
    {
      "cell_type": "code",
      "execution_count": 21,
      "metadata": {},
      "outputs": [
        {
          "output_type": "stream",
          "name": "stdout",
          "text": [
            "dict_keys(['Marc', 'Matthieu', 'Jean', 'Luc'])"
          ]
        }
      ],
      "source": [
        "mon_dictionnaire = {\"Marc\" : \"Lion\", \"Matthieu\" : [\"Ange\",\"Homme ailé\"] , \n",
        "                          \"Jean\" : \"Aigle\" , \"Luc\" : \"Taureau\"}\n",
        "\n",
        "print(mon_dictionnaire.keys())"
      ],
      "id": "69bcfdb7-057a-43f5-896f-4ad90c203309"
    },
    {
      "cell_type": "markdown",
      "metadata": {},
      "source": [
        "### Connaitre les méthodes d’un objet\n",
        "\n",
        "Pour savoir quelles sont les méthodes d’un objet vous pouvez :\n",
        "- taper `help(mon_objet)` ou `mon_objet?` dans la console iPython\n",
        "- taper mon_objet. + touche tabulation dans la console iPython ou dans le notebook . iPython permet la complétion, c’est-à-dire que vous pouvez faire appaître la liste\n",
        "\n",
        "## Les opérations et méthodes classiques des listes\n",
        "\n",
        "### Créer une liste\n",
        "\n",
        "Pour créer un objet de la classe list, il suffit de le déclarer. Ici on affecte à **x** une liste"
      ],
      "id": "560b39bf-95c7-43bd-9f3c-e7f4fcdde070"
    },
    {
      "cell_type": "code",
      "execution_count": 22,
      "metadata": {},
      "outputs": [],
      "source": [
        "x = [4, 5] # création d’une liste composée de deux entiers\n",
        "x = [\"un\", 1, \"deux\", 2] # création d’une liste composée de 2 chaînes de caractères\n",
        "# et de deux entiers, l’ordre d’écriture est important\n",
        "x = [3] # création d’une liste d’un élément, sans la virgule,\n",
        "x = [ ] # crée une liste vide\n",
        "x = list () # crée une liste vide"
      ],
      "id": "9d924407-e16c-45de-bf50-e01fb70a297d"
    },
    {
      "cell_type": "markdown",
      "metadata": {},
      "source": [
        "### Un premier test sur les listes\n",
        "\n",
        "Si on veut tester la présence d’un élément dans une liste, on l’écrit de la manière suivante :"
      ],
      "id": "47c8318f-3ca2-4191-9dd3-4918f40f5df7"
    },
    {
      "cell_type": "code",
      "execution_count": 23,
      "metadata": {},
      "outputs": [
        {
          "output_type": "stream",
          "name": "stdout",
          "text": [
            "True"
          ]
        }
      ],
      "source": [
        "# Exemple \n",
        "\n",
        "x = \"Marcel\"\n",
        "\n",
        "l = [\"Marcel\",\"Edith\",\"Maurice\",\"Jean\"]\n",
        "\n",
        "print(x in l)\n",
        "\n",
        "#vrai si x est un des éléments de l"
      ],
      "id": "bb780f96-12c8-48ec-bb01-3bc0f2e382c2"
    },
    {
      "cell_type": "markdown",
      "metadata": {},
      "source": [
        "### Pour concaténer deux listes :\n",
        "\n",
        "On utilise le symbole +"
      ],
      "id": "16d81648-eef6-411f-815f-ed47dfadfd15"
    },
    {
      "cell_type": "code",
      "execution_count": 24,
      "metadata": {},
      "outputs": [
        {
          "output_type": "stream",
          "name": "stdout",
          "text": [
            "['Marcel', 'Edith', 'Maurice', 'Jean', 'Antoine', 'David']"
          ]
        }
      ],
      "source": [
        "t = [\"Antoine\",\"David\"]\n",
        "print(l + t) #concaténation de l et t"
      ],
      "id": "9d26e32b-e81f-46f2-a23c-d08b803d0fc5"
    },
    {
      "cell_type": "markdown",
      "metadata": {},
      "source": [
        "### Pour trouver certains éléments d’une liste\n",
        "\n",
        "Pour chercher des élements dans une liste, on utilise la position dans la liste."
      ],
      "id": "691caa7b-a186-479a-84f7-257659a23fb3"
    },
    {
      "cell_type": "code",
      "execution_count": 25,
      "metadata": {},
      "outputs": [
        {
          "output_type": "display_data",
          "metadata": {},
          "data": {
            "text/plain": [
              "'Edith'"
            ]
          }
        }
      ],
      "source": [
        "l[1] # donne l'élément qui est en 2ème position de la liste"
      ],
      "id": "cbdbe617-c370-4652-be5f-d9298c81a0b9"
    },
    {
      "cell_type": "code",
      "execution_count": 26,
      "metadata": {},
      "outputs": [
        {
          "output_type": "display_data",
          "metadata": {},
          "data": {
            "text/plain": [
              "['Edith', 'Maurice']"
            ]
          }
        }
      ],
      "source": [
        "l[1:3] # donne les éléments de la 2ème position de la liste à la 4ème exclue"
      ],
      "id": "06a589bf-ec7a-40a7-8f57-fe3c9b22a198"
    },
    {
      "cell_type": "markdown",
      "metadata": {},
      "source": [
        "### Quelques fonctions des listes"
      ],
      "id": "2e0b5770-6342-4ee4-81bb-6095daccb202"
    },
    {
      "cell_type": "code",
      "execution_count": 27,
      "metadata": {},
      "outputs": [
        {
          "output_type": "stream",
          "name": "stdout",
          "text": [
            "4 Edith Maurice"
          ]
        }
      ],
      "source": [
        "longueur = len(l) # nombre d’éléments de l\n",
        "\n",
        "minimum = min(l) # plus petit élément de l, ici par ordre alphabétique\n",
        "\n",
        "maximum = max(l) # plus grand élément de l, ici par ordre alphabétique\n",
        "\n",
        "print(longueur,minimum,maximum)"
      ],
      "id": "3e3c487f-4b89-4b2b-9253-467d896a4372"
    },
    {
      "cell_type": "code",
      "execution_count": 28,
      "metadata": {},
      "outputs": [
        {
          "output_type": "stream",
          "name": "stdout",
          "text": [
            "['Maurice', 'Jean']"
          ]
        }
      ],
      "source": [
        "del l[0 : 2] # supprime les éléments entre la position 0 et 2 exclue\n",
        "print(l)"
      ],
      "id": "37e7328b-5252-4357-8b1b-f2a0705b05d1"
    },
    {
      "cell_type": "markdown",
      "metadata": {},
      "source": [
        "## Les méthodes des listes\n",
        "\n",
        "On les trouve dans l’aide de la liste. On distingue les méthodes et les méthodes spéciales : visuellement, les méthodes spéciales sont celles qui précédées et suivis de deux caractères de soulignement, les autres sont des méthodes classiques."
      ],
      "id": "f7243b98-5220-4b96-99b6-5f19f0b90303"
    },
    {
      "cell_type": "code",
      "execution_count": 29,
      "metadata": {},
      "outputs": [
        {
          "output_type": "stream",
          "name": "stdout",
          "text": [
            "Help on list object:\n",
            "\n",
            "class list(object)\n",
            " |  list(iterable=(), /)\n",
            " |  \n",
            " |  Built-in mutable sequence.\n",
            " |  \n",
            " |  If no argument is given, the constructor creates a new empty list.\n",
            " |  The argument must be an iterable if specified.\n",
            " |  \n",
            " |  Methods defined here:\n",
            " |  \n",
            " |  __add__(self, value, /)\n",
            " |      Return self+value.\n",
            " |  \n",
            " |  __contains__(self, key, /)\n",
            " |      Return key in self.\n",
            " |  \n",
            " |  __delitem__(self, key, /)\n",
            " |      Delete self[key].\n",
            " |  \n",
            " |  __eq__(self, value, /)\n",
            " |      Return self==value.\n",
            " |  \n",
            " |  __ge__(self, value, /)\n",
            " |      Return self>=value.\n",
            " |  \n",
            " |  __getattribute__(self, name, /)\n",
            " |      Return getattr(self, name).\n",
            " |  \n",
            " |  __getitem__(...)\n",
            " |      x.__getitem__(y) <==> x[y]\n",
            " |  \n",
            " |  __gt__(self, value, /)\n",
            " |      Return self>value.\n",
            " |  \n",
            " |  __iadd__(self, value, /)\n",
            " |      Implement self+=value.\n",
            " |  \n",
            " |  __imul__(self, value, /)\n",
            " |      Implement self*=value.\n",
            " |  \n",
            " |  __init__(self, /, *args, **kwargs)\n",
            " |      Initialize self.  See help(type(self)) for accurate signature.\n",
            " |  \n",
            " |  __iter__(self, /)\n",
            " |      Implement iter(self).\n",
            " |  \n",
            " |  __le__(self, value, /)\n",
            " |      Return self<=value.\n",
            " |  \n",
            " |  __len__(self, /)\n",
            " |      Return len(self).\n",
            " |  \n",
            " |  __lt__(self, value, /)\n",
            " |      Return self<value.\n",
            " |  \n",
            " |  __mul__(self, value, /)\n",
            " |      Return self*value.\n",
            " |  \n",
            " |  __ne__(self, value, /)\n",
            " |      Return self!=value.\n",
            " |  \n",
            " |  __repr__(self, /)\n",
            " |      Return repr(self).\n",
            " |  \n",
            " |  __reversed__(self, /)\n",
            " |      Return a reverse iterator over the list.\n",
            " |  \n",
            " |  __rmul__(self, value, /)\n",
            " |      Return value*self.\n",
            " |  \n",
            " |  __setitem__(self, key, value, /)\n",
            " |      Set self[key] to value.\n",
            " |  \n",
            " |  __sizeof__(self, /)\n",
            " |      Return the size of the list in memory, in bytes.\n",
            " |  \n",
            " |  append(self, object, /)\n",
            " |      Append object to the end of the list.\n",
            " |  \n",
            " |  clear(self, /)\n",
            " |      Remove all items from list.\n",
            " |  \n",
            " |  copy(self, /)\n",
            " |      Return a shallow copy of the list.\n",
            " |  \n",
            " |  count(self, value, /)\n",
            " |      Return number of occurrences of value.\n",
            " |  \n",
            " |  extend(self, iterable, /)\n",
            " |      Extend list by appending elements from the iterable.\n",
            " |  \n",
            " |  index(self, value, start=0, stop=9223372036854775807, /)\n",
            " |      Return first index of value.\n",
            " |      \n",
            " |      Raises ValueError if the value is not present.\n",
            " |  \n",
            " |  insert(self, index, object, /)\n",
            " |      Insert object before index.\n",
            " |  \n",
            " |  pop(self, index=-1, /)\n",
            " |      Remove and return item at index (default last).\n",
            " |      \n",
            " |      Raises IndexError if list is empty or index is out of range.\n",
            " |  \n",
            " |  remove(self, value, /)\n",
            " |      Remove first occurrence of value.\n",
            " |      \n",
            " |      Raises ValueError if the value is not present.\n",
            " |  \n",
            " |  reverse(self, /)\n",
            " |      Reverse *IN PLACE*.\n",
            " |  \n",
            " |  sort(self, /, *, key=None, reverse=False)\n",
            " |      Sort the list in ascending order and return None.\n",
            " |      \n",
            " |      The sort is in-place (i.e. the list itself is modified) and stable (i.e. the\n",
            " |      order of two equal elements is maintained).\n",
            " |      \n",
            " |      If a key function is given, apply it once to each list item and sort them,\n",
            " |      ascending or descending, according to their function values.\n",
            " |      \n",
            " |      The reverse flag can be set to sort in descending order.\n",
            " |  \n",
            " |  ----------------------------------------------------------------------\n",
            " |  Class methods defined here:\n",
            " |  \n",
            " |  __class_getitem__(...) from builtins.type\n",
            " |      See PEP 585\n",
            " |  \n",
            " |  ----------------------------------------------------------------------\n",
            " |  Static methods defined here:\n",
            " |  \n",
            " |  __new__(*args, **kwargs) from builtins.type\n",
            " |      Create and return a new object.  See help(type) for accurate signature.\n",
            " |  \n",
            " |  ----------------------------------------------------------------------\n",
            " |  Data and other attributes defined here:\n",
            " |  \n",
            " |  __hash__ = None\n"
          ]
        }
      ],
      "source": [
        "help(l)"
      ],
      "id": "962ed37a-8e94-465d-ade4-f7e8efcc495d"
    },
    {
      "cell_type": "markdown",
      "metadata": {},
      "source": [
        "## A retenir et questions\n",
        "\n",
        "A retenir :\n",
        "\n",
        "-   Chaque objet Python a des attributs et des méthodes\n",
        "-   Vous pouvez créer des classes avec des attributs et des méthodes\n",
        "-   Les méthodes des listes et des dictionnaires qui sont les plus utilisées :\n",
        "    -   `list.count()`\n",
        "    -   `list.sort()`\n",
        "    -   `list.append()`\n",
        "    -   `dict.keys()`\n",
        "    -   `dict.items()`\n",
        "    -   `dict.values()`\n",
        "\n",
        "------------------------------------------------------------------------\n",
        "\n",
        "Questions pratiques :\n",
        "\n",
        "-   Définir la liste allant de 1 à 10, puis effectuez les actions suivantes :\n",
        "\n",
        "         – triez et affichez la liste \n",
        "         – ajoutez l’élément 11 à la liste et affichez la liste \n",
        "         – renversez et affichez la liste \n",
        "         – affichez l’élément d’indice 7 \n",
        "         – enlevez l’élément 9 et affichez la liste \n",
        "         – affichez la sous-liste du 2e au 3e éléments inclus ;\n",
        "         – affichez la sous-liste du début au 2e élément inclus ;\n",
        "         – affichez la sous-liste du 3e élément à la fin de la liste ;\n",
        "\n",
        "-   Construire le dictionnaire des 6 premiers mois de l’année avec comme valeurs le nombre de jours respectif.\n",
        "\n",
        "          - Renvoyer la liste des mois \n",
        "          - Renvoyer la liste des jours\n",
        "          - Ajoutez la clé du mois de Juillet\n",
        "\n",
        "## Passer des listes, dictionnaires à `pandas`\n",
        "\n",
        "Supposons que la variable ‘data’ est une liste qui contient nos données.\n",
        "\n",
        "Une observation correspond à un dictionnaire qui contient le nom, le type, l’ambiance et la note d’un restaurant.\n",
        "\n",
        "Il est aisé de transformer cette liste en dataframe grâce à la fonction ‘DataFrame’."
      ],
      "id": "4267bc89-624a-4c0f-b0d5-8e154db6dc45"
    },
    {
      "cell_type": "code",
      "execution_count": 32,
      "metadata": {},
      "outputs": [
        {
          "output_type": "stream",
          "name": "stdout",
          "text": [
            "[{'nom': 'Little Pub', 'type': 'Bar', 'ambiance': 9, 'note': 7}, {'nom': 'Le Corse', 'type': 'Sandwicherie', 'ambiance': 2, 'note': 8}, {'nom': 'Café Caumartin', 'type': 'Bar', 'ambiance': 1}]"
          ]
        },
        {
          "output_type": "display_data",
          "metadata": {},
          "data": {
            "text/html": [
              "<div>\n",
              "<style scoped>\n",
              "    .dataframe tbody tr th:only-of-type {\n",
              "        vertical-align: middle;\n",
              "    }\n",
              "\n",
              "    .dataframe tbody tr th {\n",
              "        vertical-align: top;\n",
              "    }\n",
              "\n",
              "    .dataframe thead th {\n",
              "        text-align: right;\n",
              "    }\n",
              "</style>\n",
              "<table border=\"1\" class=\"dataframe\">\n",
              "  <thead>\n",
              "    <tr style=\"text-align: right;\">\n",
              "      <th></th>\n",
              "      <th>nom</th>\n",
              "      <th>type</th>\n",
              "      <th>ambiance</th>\n",
              "      <th>note</th>\n",
              "    </tr>\n",
              "  </thead>\n",
              "  <tbody>\n",
              "    <tr>\n",
              "      <th>0</th>\n",
              "      <td>Little Pub</td>\n",
              "      <td>Bar</td>\n",
              "      <td>9</td>\n",
              "      <td>7.0</td>\n",
              "    </tr>\n",
              "    <tr>\n",
              "      <th>1</th>\n",
              "      <td>Le Corse</td>\n",
              "      <td>Sandwicherie</td>\n",
              "      <td>2</td>\n",
              "      <td>8.0</td>\n",
              "    </tr>\n",
              "    <tr>\n",
              "      <th>2</th>\n",
              "      <td>Café Caumartin</td>\n",
              "      <td>Bar</td>\n",
              "      <td>1</td>\n",
              "      <td>NaN</td>\n",
              "    </tr>\n",
              "  </tbody>\n",
              "</table>\n",
              "</div>"
            ]
          }
        }
      ],
      "source": [
        "import pandas \n",
        "\n",
        "data = [{\"nom\": \"Little Pub\", \"type\" : \"Bar\", \"ambiance\": 9, \"note\": 7},\n",
        "     {\"nom\": \"Le Corse\", \"type\" : \"Sandwicherie\", \"ambiance\": 2, \"note\": 8},\n",
        "     {\"nom\": \"Café Caumartin\", \"type\" : \"Bar\", \"ambiance\": 1}]\n",
        "\n",
        "df = pandas.DataFrame(data)\n",
        "\n",
        "print(data)\n",
        "df"
      ],
      "id": "040d08cc-661b-4991-b282-3fffc61662cb"
    }
  ],
  "nbformat": 4,
  "nbformat_minor": 5,
  "metadata": {
    "kernelspec": {
      "name": "python3",
      "display_name": "Python 3 (ipykernel)",
      "language": "python"
    },
    "language_info": {
      "name": "python",
      "codemirror_mode": {
        "name": "ipython",
        "version": "3"
      },
      "file_extension": ".py",
      "mimetype": "text/x-python",
      "nbconvert_exporter": "python",
      "pygments_lexer": "ipython3",
      "version": "3.9.13"
    }
  }
}