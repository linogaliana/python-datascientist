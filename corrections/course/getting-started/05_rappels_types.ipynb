{
  "cells": [
    {
      "cell_type": "markdown",
      "metadata": {},
      "source": [
        "# Quelques rappels sur les principes de base de Python"
      ],
      "id": "85362b29-1ce3-4256-a491-22795bd78aec"
    },
    {
      "cell_type": "markdown",
      "metadata": {},
      "source": [
        "``` python\n",
        "import sys\n",
        "sys.path.insert(1, '../../../../') #insert the utils module\n",
        "from utils import print_badges\n",
        "\n",
        "#print_badges(__file__)\n",
        "print_badges(\"content/course/getting-started/05_rappels_types.qmd\")\n",
        "```\n",
        "\n",
        "<p class=\"badges\">\n",
        "\n",
        "<a href=\"https://github.com/linogaliana/python-datascientist/blob/master/notebooks/course/getting-started/05_rappels_types.ipynb\" class=\"github\"><i class=\"fab fa-github\"></i></a>\n",
        "<a href=\"https://downgit.github.io/#/home?url=https://github.com/linogaliana/python-datascientist/blob/master/notebooks/course/getting-started/05_rappels_types.ipynb\" target=\"_blank\" rel=\"noopener\"><img src=\"https://img.shields.io/badge/Download-Notebook-important?logo=Jupyter\" alt=\"Download\"></a>\n",
        "<a href=\"https://nbviewer.jupyter.org/github/linogaliana/python-datascientist/blob/master/notebooks/course/getting-started/05_rappels_types.ipynb\" target=\"_blank\" rel=\"noopener\"><img src=\"https://img.shields.io/badge/Visualize-nbviewer-blue?logo=Jupyter\" alt=\"nbviewer\"></a>\n",
        "<a href=\"https://datalab.sspcloud.fr/launcher/ide/jupyter-python?autoLaunch=true&onyxia.friendlyName=%C2%ABpython-datascience%C2%BB&init.personalInit=%C2%ABhttps%3A%2F%2Fraw.githubusercontent.com%2Flinogaliana%2Fpython-datascientist%2Fmaster%2Fsspcloud%2Finit-jupyter.sh%C2%BB&init.personalInitArgs=%C2%ABgetting-started%2005_rappels_types%C2%BB&security.allowlist.enabled=false\" target=\"_blank\" rel=\"noopener\"><img src=\"https://img.shields.io/badge/SSPcloud-Tester%20via%20SSP--cloud-informational&amp;color=yellow?logo=Python\" alt=\"Onyxia\"></a><br>\n",
        "<a href=\"https://mybinder.org/v2/gh/linogaliana/python-datascientist/master?filepath={binder_path}\" target=\"_blank\" rel=\"noopener\"><img src=\"https://img.shields.io/badge/Launch-Binder-E66581.svg?logo=data:image/png;base64,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\" alt=\"Binder\"></a>\n",
        "<a href=\"http://colab.research.google.com/github/linogaliana/python-datascientist/blob/master/notebooks/course/getting-started/05_rappels_types.ipynb\" target=\"_blank\" rel=\"noopener\"><img src=\"https://colab.research.google.com/assets/colab-badge.svg\" alt=\"Open In Colab\"></a>\n",
        "<a href=\"https://github.dev/linogaliana/python-datascientist/notebooks/course/getting-started/05_rappels_types.ipynb\" target=\"_blank\" rel=\"noopener\"><img src=\"https://img.shields.io/static/v1?logo=visualstudiocode&label=&message=Open%20in%20Visual%20Studio%20Code&labelColor=2c2c32&color=007acc&logoColor=007acc\" alt=\"githubdev\"></a>\n",
        "\n",
        "</p>\n",
        "\n",
        "</p>"
      ],
      "id": "4d2262bb-6225-44bc-b2c0-7f570b941759"
    },
    {
      "cell_type": "markdown",
      "metadata": {},
      "source": [
        "[`pandas`](http://pandas.pydata.org/) et [`numpy`](http://www.numpy.org/) sont\n",
        "essentiels pour manipuler les données.\n",
        "Néanmoins, il est nécessaire de ne pas faire l’impasse sur les fondements\n",
        "du langage `Python`. Une bonne compréhension des éléments structurants le\n",
        "langage entraîne une plus grande productivité et liberté.\n",
        "\n",
        "Ce chapitre est inspiré du matériel qui était proposé\n",
        "par [Xavier Dupré](http://www.xavierdupre.fr/app/ensae_teaching_cs/helpsphinx/notebooks/td2_eco_rappels_1a.html?highlight=rappel),\n",
        "le précédent professeur de ce cours.\n",
        "\n",
        "Voir aussi [Essential Cheat Sheets for Machine Learning and Deep Learning Engineers](https://startupsventurecapital.com/essential-cheat-sheets-for-machine-learning-and-deep-learning-researchers-efb6a8ebd2e5).\n",
        "\n",
        "# Les quelques règles de `Python`\n",
        "\n",
        "`Python` est un peu susceptible et protocolaire, plus formaliste que ne l’est `R`.\n",
        "Il y a ainsi quelques règles à respecter :\n",
        "\n",
        "*Règle 1:* **L’indentation est primordiale** : un code mal indenté provoque une erreur.\n",
        "L’indentation indique à l’interpréteur où se trouvent les\n",
        "séparations entre des blocs d’instructions. Un peu comme des points dans un\n",
        "texte.\n",
        "\n",
        "Si les lignes ne sont pas bien alignées, l’interpréteur ne sait plus à quel\n",
        "bloc associer la ligne. Par exemple, le corps d’une fonction doit être indenté\n",
        "d’un niveau ; les éléments dans une clause logique (`if`, `else`, etc.) également\n",
        "\n",
        "*Règle 2:* On commence à compter à 0, comme dans beaucoup de langages\n",
        "(`C++`, `java`…). `Python` diffère dans ce domaine de `R` où on commence\n",
        "à compter à 1.\n",
        "Le premier élément d’une liste est ainsi, en `Python`, le 0-ème.\n",
        "\n",
        "*Règle 3:* Comme dans une langue naturelle, les marques de\n",
        "ponctuation sont importantes :\n",
        "\n",
        "-   Pour une liste : `[]`\n",
        "-   Pour un dictionnaire : `{}`\n",
        "-   Pour un tuple : `()`\n",
        "-   Pour séparer des éléments `:` ,\n",
        "-   Pour commenter un bout de code : `#`\n",
        "-   Pour aller à la ligne dans un bloc d’instructions : `\\`\n",
        "-   Les majuscules et minuscules sont importantes\n",
        "-   Par contre l’usage des `'` ou des `\"` est indifférent.\n",
        "    Il faut juste avoir les mêmes début et fin.\n",
        "-   Pour documenter une fonction ou une classe *““” mon texte de documentation “““*\n",
        "\n",
        "# Les outputs de `Python` : l’opération, le `print` et le `return`\n",
        "\n",
        "Quand Python réalise des opérations, il faut lui préciser ce qu’il doit en faire :\n",
        "\n",
        "-   est-ce qu’il doit juste faire l’opération,\n",
        "-   afficher le résultat de l’opération,\n",
        "-   créer un objet avec le résultat de l’opération ?\n",
        "\n",
        "Contrairement à `R`, par défaut, `Python` ne renvoie pas le résultat de la\n",
        "dernière opération effectuée."
      ],
      "id": "16909ad6-c94f-4e0e-81c3-e9b4e35274fb"
    },
    {
      "cell_type": "markdown",
      "metadata": {},
      "source": [
        "<div class=\"alert alert-info\" role=\"alert\" style=\"color: rgba(0,0,0,.8); background-color: white; margin-top: 1em; margin-bottom: 1em; margin:1.5625emauto; padding:0 .6rem .8rem!important;overflow:hidden; page-break-inside:avoid; border-radius:.25rem; box-shadow:0 .2rem .5rem rgba(0,0,0,.05),0 0 .05rem rgba(0,0,0,.1); transition:color .25s,background-color .25s,border-color .25s ; border-right: 1px solid #dee2e6 ; border-top: 1px solid #dee2e6 ; border-bottom: 1px solid #dee2e6 ; border-left:.2rem solid #007bff80;\">\n",
        "\n",
        "Dans l’environnement `Jupyter Notebook`, le dernier élement d’une cellule\n",
        "est automatiquement affiché (`print`), qu’on lui demande ou non de le faire.\n",
        "Ce comportement est particulièrement pratique pour afficher des figures\n",
        "générées via `matplotlib` ou `seaborn`.\n",
        "\n",
        "Ce comportement\n",
        "n’est pas le cas dans un éditeur classique comme `VisualStudio`,\n",
        "`Spyder` ou `PyCharm`. Pour afficher un résultat dans la console,\n",
        "il faut utiliser\n",
        "`print` ou la commande consacrée (par exemple `plt.show()`\n",
        "pour afficher la dernière figure générée par `matplotlib`)\n",
        "\n",
        "</div>"
      ],
      "id": "6f0ac7c5-8aee-4fa5-867d-97385ad95b19"
    },
    {
      "cell_type": "markdown",
      "metadata": {},
      "source": [
        "## Le `print`"
      ],
      "id": "0d19b581-1e66-4350-a46d-388826450d4b"
    },
    {
      "cell_type": "code",
      "execution_count": 2,
      "metadata": {},
      "outputs": [],
      "source": [
        "# on calcule : dans le cas d'une opération par exemple une somme\n",
        "2+3 # Python calcule le résultat mais n'affiche rien dans la sortie\n",
        "\n",
        "# le print : on affiche\n",
        "\n",
        "print(2+3) # Python calcule et on lui demande juste de l'afficher\n",
        "# le résultat est en dessous du code"
      ],
      "id": "189ec5e2"
    },
    {
      "cell_type": "code",
      "execution_count": 3,
      "metadata": {},
      "outputs": [],
      "source": [
        "# le print dans une fonction \n",
        "\n",
        "def addition_v1(a,b) : \n",
        "    print(a+b)\n",
        "\n",
        "resultat_print = addition_v1(2,0) \n",
        "print(type(resultat_print))\n",
        "\n",
        "# dans la sortie on a l'affichage du résultat, car la sortie de la fonction est un print \n",
        "# en plus on lui demande quel est le type du résultat. Un print ne renvoie aucun type, ce n'est ni un numérique,\n",
        "# ni une chaine de charactères, le résultat d'un print n'est pas un format utilisable"
      ],
      "id": "9bf8031d"
    },
    {
      "cell_type": "markdown",
      "metadata": {},
      "source": [
        "Le résultat de l’addition est affiché\n",
        "car la fonction `addition_v1` effectue un `print`\n",
        "\n",
        "Par contre, l’objet créé n’a pas de type, il n’est pas un chiffre,\n",
        "ce n’est qu’un affichage.\n",
        "\n",
        "## Le `return`\n",
        "\n",
        "Pour créer un objet avec le résultat de la fonction, il faut utiliser **`return`**"
      ],
      "id": "76d27a26-d878-4a7b-8e18-26b3cee88040"
    },
    {
      "cell_type": "code",
      "execution_count": 4,
      "metadata": {},
      "outputs": [],
      "source": [
        "# le return dans une fonction\n",
        "def addition_v2(a,b) : \n",
        "    return a+b\n",
        "\n",
        "resultat_return = addition_v2(2,5) # \n",
        "print(type(resultat_return))\n",
        "## là on a bien un résultat qui est du type \"entier\""
      ],
      "id": "ab5fba3f"
    },
    {
      "cell_type": "markdown",
      "metadata": {},
      "source": [
        "Le résultat de `addition_v2` n’est pas affiché comme dans `addition_v1`\n",
        "\n",
        "Par contre, la fonction `addition_v2` permet d’avoir un objet de type `int`,\n",
        "un entier donc.\n",
        "\n",
        "# Les types de base : variables, listes, dictionnaires …\n",
        "\n",
        "`Python` permet de manipuler différents types de base. Nous en\n",
        "verrons des extensions dans la suite du cours (`np.array` par exemple)\n",
        "qui, d’une manière ou d’une autre, s’appuient sur ces types de base.\n",
        "\n",
        "On distingue deux types de variables : les **immuables** (*immutables*)\n",
        "qui ne peuvent être\n",
        "modifiés et les **modifiables** (*mutables*)\n",
        "\n",
        "## Les variables immuables\n",
        "\n",
        "Les variables immuables ne peuvent être modifiées\n",
        "\n",
        "-   `None` : ce type est une convention de programmation pour dire que la valeur n’est pas calculée\n",
        "-   `bool` : un booléen\n",
        "-   `int` : un entier\n",
        "-   `float` : un réel\n",
        "-   `str` : une chaine de caractères\n",
        "-   `tuple` : un vecteur"
      ],
      "id": "9c2a526a-04f4-425f-811c-f6255654b972"
    },
    {
      "cell_type": "code",
      "execution_count": 5,
      "metadata": {},
      "outputs": [],
      "source": [
        "i = 3         # entier = type numérique (type int)\n",
        "r = 3.3       # réel   = type numérique (type float)\n",
        "s = \"exemple\" # chaîne de caractères = type str \n",
        "n = None      # None signifie que la variable existe mais qu'elle ne contient rien\n",
        "              # elle est souvent utilisée pour signifier qu'il n'y a pas de résultat\n",
        "a = (1,2)     # tuple\n",
        "\n",
        "print(i,r,s,n,a)         "
      ],
      "id": "492cd90b"
    },
    {
      "cell_type": "markdown",
      "metadata": {},
      "source": [
        "Si on essaie de changer le premier élément de la chaine de caractères `s` on va avoir un peu de mal.\n",
        "\n",
        "Par exemple si on voulait mettre une majuscule à *“exemple”*,\n",
        "on aurait envie d’écrire que le premier élément de la chaine `s` est “E” majuscule\n",
        "\n",
        "Mais `Python` ne va pas nous laisser faire, il nous dit que les objets “chaine de caractère” ne peuvent être modifiés"
      ],
      "id": "6d231a16-ca88-4dd9-a2b3-63629d33fc1c"
    },
    {
      "cell_type": "code",
      "execution_count": 6,
      "metadata": {},
      "outputs": [],
      "source": [
        "s[0] = \"E\"  # déclenche une exception"
      ],
      "id": "7b61bbad"
    },
    {
      "cell_type": "markdown",
      "metadata": {},
      "source": [
        "Tout ce qu’on peut faire avec une variable immuable,\n",
        "c’est la réaffecter à une autre valeur : elle ne peut pas être modifiée.\n",
        "\n",
        "Pour s’en convaincre, utilisons la fonction `id()` qui donne un identifiant à chaque objet."
      ],
      "id": "80c22efd-55f6-46f3-b9c3-3ff9002c16d4"
    },
    {
      "cell_type": "code",
      "execution_count": 7,
      "metadata": {},
      "outputs": [],
      "source": [
        "print(s)\n",
        "id(s)"
      ],
      "id": "51f380a3"
    },
    {
      "cell_type": "code",
      "execution_count": 8,
      "metadata": {},
      "outputs": [],
      "source": [
        "s = \"autre_mot\"\n",
        "id(s)"
      ],
      "id": "5126a558"
    },
    {
      "cell_type": "markdown",
      "metadata": {},
      "source": [
        "On voit bien que `s` a changé d’identifiant : il peut avoir le même nom, ce n’est plus le même objet\n",
        "\n",
        "## Les types modifiable : listes et dictionnaires\n",
        "\n",
        "Heureusement, il existe des variables modifiables comme les listes et les dictionnaires.\n",
        "\n",
        "### Les listes - elles s’écrivent entre `[ ]`\n",
        "\n",
        "Les listes sont des élements très utiles, notamment quand vous souhaitez faire des boucles.\n",
        "\n",
        "Pour faire appel aux élements d’une liste, on donne leur position dans la liste : le 1er est le 0, le 2ème est le 1 …"
      ],
      "id": "d7b5f317-e9ea-4543-969b-8b9fb269dc5b"
    },
    {
      "cell_type": "code",
      "execution_count": 9,
      "metadata": {},
      "outputs": [],
      "source": [
        "ma_liste = [1,2,3,4]\n",
        "\n",
        "\n",
        "print(\"La longueur de ma liste est de\", len(ma_liste))\n",
        "print(\"Le premier élément de ma liste est :\", ma_liste[0])\n",
        "print(\"Le dernier élément de ma liste est :\", ma_liste[3])\n",
        "print(\"Le dernier élément de ma liste est :\", ma_liste[-1])"
      ],
      "id": "eb64413b"
    },
    {
      "cell_type": "markdown",
      "metadata": {},
      "source": [
        "<div class=\"alert alert-success\" role=\"alert\" style=\"color: rgba(0,0,0,.8); background-color: white; margin-top: 1em; margin-bottom: 1em; margin:1.5625emauto; padding:0 .6rem .8rem!important;overflow:hidden; page-break-inside:avoid; border-radius:.25rem; box-shadow:0 .2rem .5rem rgba(0,0,0,.05),0 0 .05rem rgba(0,0,0,.1); transition:color .25s,background-color .25s,border-color .25s ; border-right: 1px solid #dee2e6 ; border-top: 1px solid #dee2e6 ; border-bottom: 1px solid #dee2e6 ; border-left:.2rem solid #3fb618;\">\n",
        "\n",
        "Pour effectuer des boucles sur les listes, la méthode la plus lisible\n",
        "est d’utiliser les `list comprehension`. Cette approche consiste\n",
        "à itérer les éléments d’une liste à la volée.\n",
        "\n",
        "Par exemple, si on reprend [cet exemple](https://www.w3schools.com/python/python_lists_comprehension.asp),\n",
        "un code qui repose sur les `list comprehension` sera le suivant:\n",
        "\n",
        "``` python\n",
        "fruits = [\"apple\", \"banana\", \"cherry\", \"kiwi\", \"mango\"]\n",
        "newlist = [x for x in fruits if \"a\" in x]\n",
        "print(newlist)\n",
        "```\n",
        "\n",
        "Le même code, ne reposant pas sur les compréhensions de liste, sera beaucoup\n",
        "moins concis et ainsi inutilement verbeux:\n",
        "\n",
        "``` python\n",
        "fruits = [\"apple\", \"banana\", \"cherry\", \"kiwi\", \"mango\"]\n",
        "newlist = []\n",
        "\n",
        "for x in fruits:\n",
        "  if \"a\" in x:\n",
        "    newlist.append(x)\n",
        "\n",
        "print(newlist) \n",
        "```\n",
        "\n",
        "</div>"
      ],
      "id": "36561845-1cae-4a4d-bcf8-f9b4aa307258"
    },
    {
      "cell_type": "markdown",
      "metadata": {},
      "source": [
        "### Les dictionnaires - ils s’écrivent entre accolades `{}`\n",
        "\n",
        "Un dictionnaire associe à une clé un autre élément, appelé une valeur : un chiffre, un nom, une liste, un autre dictionnaire etc.\n",
        "Le format d’un dictionnaire est le suivant: `{Clé : valeur}`. Il s’agit\n",
        "d’un objet très pratique pour la recherche, beaucoup plus que les listes\n",
        "qui ne permettent pas de stocker de l’information diverse de manière\n",
        "hiérarchisée.\n",
        "\n",
        "#### Dictionnaire avec des valeurs int\n",
        "\n",
        "On peut par exemple associer à un nom, un nombre"
      ],
      "id": "86167d39-a34a-49d9-a31f-2f114d9e9eaf"
    },
    {
      "cell_type": "code",
      "execution_count": 12,
      "metadata": {},
      "outputs": [],
      "source": [
        "mon_dictionnaire_notes = { 'Nicolas' : 18 , 'Pimprenelle' : 15} \n",
        "# un dictionnaire qui à chaque nom associe un nombre\n",
        "# à Nicolas, on associe 18\n",
        "\n",
        "print(mon_dictionnaire_notes) "
      ],
      "id": "6aa9a6ed"
    },
    {
      "cell_type": "markdown",
      "metadata": {},
      "source": [
        "#### Dictionnaire avec des valeurs qui sont des listes\n",
        "\n",
        "Pour chaque clé d’un dictionnaire, il ne faut pas forcément garder la même forme de valeur\n",
        "\n",
        "Dans l’exemple, la valeur de la clé “Nicolas” est une liste, alors que celle de “Philou” est une liste de liste"
      ],
      "id": "73879f06-0467-40e9-9b32-287c353c369f"
    },
    {
      "cell_type": "code",
      "execution_count": 13,
      "metadata": {},
      "outputs": [],
      "source": [
        "mon_dictionnaire_loisirs =  \\\n",
        "{ 'Nicolas' : ['Rugby','Pastis','Belote'] , \n",
        "  'Pimprenelle' : ['Gin Rami','Tisane','Tara Jarmon','Barcelone','Mickey Mouse'],\n",
        "  'Philou' : [['Maths','Jeux'],['Guillaume','Jeanne','Thimothée','Adrien']]}"
      ],
      "id": "25cf40d0"
    },
    {
      "cell_type": "markdown",
      "metadata": {},
      "source": [
        "Pour accéder à un élément du dictionnaire, on fait appel à la clé et non plus à la position, comme c’était le cas dans les listes.\n",
        "C’est beaucoup plus pratique pour rechercher de l’information:"
      ],
      "id": "84ed2e5c-5cd3-4344-8b8b-6981f84b1587"
    },
    {
      "cell_type": "code",
      "execution_count": 14,
      "metadata": {},
      "outputs": [],
      "source": [
        "print(mon_dictionnaire_loisirs['Nicolas']) # on affiche une liste"
      ],
      "id": "a9d39eaf"
    },
    {
      "cell_type": "code",
      "execution_count": 15,
      "metadata": {},
      "outputs": [],
      "source": [
        "print(mon_dictionnaire_loisirs['Philou']) # on affiche une liste de listes"
      ],
      "id": "b1d5e573"
    },
    {
      "cell_type": "markdown",
      "metadata": {},
      "source": [
        "Si on ne veut avoir que la première liste des loisirs de Philou, on demande le premier élément de la liste"
      ],
      "id": "99042a67-c176-4566-86d8-de59b8d43b56"
    },
    {
      "cell_type": "code",
      "execution_count": 16,
      "metadata": {},
      "outputs": [],
      "source": [
        "print(mon_dictionnaire_loisirs['Philou'][0]) # on affiche alors juste la première liste"
      ],
      "id": "2fee9ef6"
    },
    {
      "cell_type": "markdown",
      "metadata": {},
      "source": [
        "On peut aussi avoir des valeurs qui sont des `int` et des `list`"
      ],
      "id": "8029d7f3-9f32-43fd-84aa-92ede81cd352"
    },
    {
      "cell_type": "code",
      "execution_count": 17,
      "metadata": {},
      "outputs": [],
      "source": [
        "mon_dictionnaire_patchwork_good = \\\n",
        "{ 'Nicolas' : ['Rugby','Pastis','Belote'] ,\n",
        "  'Pimprenelle' : 18 }"
      ],
      "id": "265e04aa"
    },
    {
      "cell_type": "markdown",
      "metadata": {},
      "source": [
        "## A retenir\n",
        "\n",
        "-   L’indentation du code est importante (4 espaces et pas une tabulation)\n",
        "-   Une **liste** est entre \\[\\] et on peut appeler les positions par leur place\n",
        "-   Un **dictionnaire**, clé x valeur, s’écrit entre {} et on appelle un élément en fonction de la clé\n",
        "\n",
        "# Questions pratiques :"
      ],
      "id": "ccaff0d0-ff3a-455f-8e8e-6cb9955614c3"
    },
    {
      "cell_type": "markdown",
      "metadata": {},
      "source": [
        "<div class=\"alert alert-success\" role=\"alert\" style=\"color: rgba(0,0,0,.8); background-color: white; margin-top: 1em; margin-bottom: 1em; margin:1.5625emauto; padding:0 .6rem .8rem!important;overflow:hidden; page-break-inside:avoid; border-radius:.25rem; box-shadow:0 .2rem .5rem rgba(0,0,0,.05),0 0 .05rem rgba(0,0,0,.1); transition:color .25s,background-color .25s,border-color .25s ; border-right: 1px solid #dee2e6 ; border-top: 1px solid #dee2e6 ; border-bottom: 1px solid #dee2e6 ; border-left:.2rem solid #3fb618;\">\n",
        "\n",
        "1.  Quelle est la position de 7 dans la liste suivante\n",
        "\n",
        "``` python\n",
        "liste_nombres = [1,2,7,5,3]\n",
        "```\n",
        "\n",
        "``` python\n",
        "# Correction\n",
        "# Position 2\n",
        "liste_nombres.index(7)\n",
        "```\n",
        "\n",
        "1.  Combien de clés a ce dictionnaire ?\n",
        "\n",
        "``` python\n",
        "dictionnaire_evangile = {\"Marc\" : \"Lion\", \"Matthieu\" : [\"Ange\",\"Homme ailé\"] , \n",
        "                          \"Jean\" : \"Aigle\" , \"Luc\" : \"Taureau\"}\n",
        "```\n",
        "\n",
        "``` python\n",
        "# Correction \n",
        "# 4 clefs\n",
        "print(len(dictionnaire_evangile.keys()))\n",
        "```\n",
        "\n",
        "1.  Que faut-il écrire pour obtenir *“Ange”* en résultat à partir du `dictionnaire_evangile` ?\n",
        "\n",
        "``` python\n",
        "dictionnaire_evangile[\"Matthieu\"][0]\n",
        "```\n",
        "\n",
        "</div>"
      ],
      "id": "706fafc2-4f23-4fc1-8d56-982ac7bf71b4"
    },
    {
      "cell_type": "markdown",
      "metadata": {},
      "source": [
        "# Effectuer des opérations sur les objets de base `Python`\n",
        "\n",
        "Maintenant qu’on a vu quels objets existent en `Python`,\n",
        "nous allons\n",
        "voir comment nous en servir.\n",
        "Pour comprendre comment modifier un objet, il convient\n",
        "de distinguer deux concepts, développés plus amplement\n",
        "dans le chapitre dédié: les **attributs** et les **méthodes**:\n",
        "\n",
        "-   Les *attributs* décrivent la structure interne d’un objet. Par exemple,\n",
        "    la taille d’un objet, sa langue, etc.\n",
        "    Nous n’allons pas trop développer ce concept ici. Le chapitre dédié au sujet\n",
        "    permettra de plus développer ce concept.\n",
        "-   Les **méthodes** correspondent à des actions qui s’appliqueront à l’objet et s’adaptent à sa structure.\n",
        "    La même méthode (par exemple `append`) fonctionnera ainsi de manière différente selon le type d’objet.\n",
        "\n",
        "## Premiers exemples de méthodes\n",
        "\n",
        "Avec les éléments définis dans la partie 1\n",
        "(les listes, les dictionnaires) on peut faire appel à des méthodes qui sont directement liées à ces objets.\n",
        "\n",
        "### Une méthode pour les listes\n",
        "\n",
        "Pour ajouter un élément (`item`) dans une liste : on va utiliser la méthode *`.append()`*"
      ],
      "id": "f8054cf5-afb8-4977-9f86-85c854e39dfd"
    },
    {
      "cell_type": "code",
      "execution_count": 23,
      "metadata": {},
      "outputs": [],
      "source": [
        "ma_liste = [\"Nicolas\",\"Michel\",\"Bernard\"]\n",
        "\n",
        "ma_liste.append(\"Philippe\")\n",
        "\n",
        "print(ma_liste)"
      ],
      "id": "2b1d4c31"
    },
    {
      "cell_type": "markdown",
      "metadata": {},
      "source": [
        "### Une méthode pour les dictionnaires\n",
        "\n",
        "Pour connaitre l’ensemble des clés d’un dictionnaire, on appelle la méthode *`.keys()`*"
      ],
      "id": "1492d5e9-7d13-4014-b23d-4aaedf64628d"
    },
    {
      "cell_type": "code",
      "execution_count": 24,
      "metadata": {},
      "outputs": [],
      "source": [
        "mon_dictionnaire = {\"Marc\" : \"Lion\", \"Matthieu\" : [\"Ange\",\"Homme ailé\"] , \n",
        "                          \"Jean\" : \"Aigle\" , \"Luc\" : \"Taureau\"}\n",
        "\n",
        "print(mon_dictionnaire.keys())"
      ],
      "id": "ed2291c4"
    },
    {
      "cell_type": "markdown",
      "metadata": {},
      "source": [
        "## Connaitre les méthodes d’un objet\n",
        "\n",
        "Pour savoir quelles sont les méthodes d’un objet vous pouvez :\n",
        "\n",
        "-   taper `help(mon_objet)` ou `mon_objet?` dans la console `Python`\n",
        "-   taper mon_objet. + touche tabulation dans la console `Python` ou dans le `Notebook`.\n",
        "    `Python` permet la complétion, c’est-à-dire que vous pouvez faire appaître la liste\n",
        "    des méthodes possibles.\n",
        "\n",
        "# Les opérations et méthodes classiques des listes\n",
        "\n",
        "## Créer une liste\n",
        "\n",
        "Pour créer un objet de la classe `list`, il suffit de le déclarer. Ici on affecte à **`x`** une liste"
      ],
      "id": "9cd597d2-3597-4c57-97f1-f8a372b69101"
    },
    {
      "cell_type": "code",
      "execution_count": 25,
      "metadata": {},
      "outputs": [],
      "source": [
        "x = [4, 5] # création d’une liste composée de deux entiers\n",
        "x = [\"un\", 1, \"deux\", 2] # création d’une liste composée de 2 chaînes de caractères\n",
        "# et de deux entiers, l’ordre d’écriture est important\n",
        "x = [3] # création d’une liste d’un élément, sans la virgule,\n",
        "x = [ ] # crée une liste vide\n",
        "x = list () # crée une liste vide"
      ],
      "id": "16dd9e73"
    },
    {
      "cell_type": "markdown",
      "metadata": {},
      "source": [
        "## Un premier test sur les listes\n",
        "\n",
        "Si on veut tester la présence d’un élément dans une liste, on l’écrit de la manière suivante :"
      ],
      "id": "ea9f1bfa-a5f5-4cc0-b48c-d9d3798f536f"
    },
    {
      "cell_type": "code",
      "execution_count": 26,
      "metadata": {},
      "outputs": [],
      "source": [
        "# Exemple \n",
        "\n",
        "x = \"Marcel\"\n",
        "\n",
        "l = [\"Marcel\",\"Edith\",\"Maurice\",\"Jean\"]\n",
        "\n",
        "print(x in l)\n",
        "\n",
        "#vrai si x est un des éléments de l"
      ],
      "id": "fa7f2a75"
    },
    {
      "cell_type": "markdown",
      "metadata": {},
      "source": [
        "## `+`: une méthode pour concaténer deux listes\n",
        "\n",
        "On utilise le symbole `+`"
      ],
      "id": "009340d5-0c52-4bce-b0f4-22bf67f2361a"
    },
    {
      "cell_type": "code",
      "execution_count": 27,
      "metadata": {},
      "outputs": [],
      "source": [
        "t = [\"Antoine\",\"David\"]\n",
        "print(l + t) #concaténation de l et t"
      ],
      "id": "2d46b3d1"
    },
    {
      "cell_type": "markdown",
      "metadata": {},
      "source": [
        "## Pour trouver certains éléments d’une liste\n",
        "\n",
        "Pour chercher des élements dans une liste, on utilise la position dans la liste."
      ],
      "id": "6744a75b-2b2f-44b9-8fcd-f00ba1fcc939"
    },
    {
      "cell_type": "code",
      "execution_count": 28,
      "metadata": {},
      "outputs": [],
      "source": [
        "l[1] # donne l'élément qui est en 2ème position de la liste"
      ],
      "id": "81bdf25c"
    },
    {
      "cell_type": "code",
      "execution_count": 29,
      "metadata": {},
      "outputs": [],
      "source": [
        "l[1:3] # donne les éléments de la 2ème position de la liste à la 4ème exclue"
      ],
      "id": "b2802d5e"
    },
    {
      "cell_type": "markdown",
      "metadata": {},
      "source": [
        "## Quelques fonctions des listes\n",
        "\n",
        "Les listes embarquent ainsi nativement un certain nombre de méthodes\n",
        "qui sont pratiques. Cependant, pour avoir certaines informations\n",
        "sur une liste, il faut parfois plutôt passer par\n",
        "des fonctions natives comme les suivantes:"
      ],
      "id": "d68d4987-6af6-46f3-853d-94ff1852fd91"
    },
    {
      "cell_type": "code",
      "execution_count": 30,
      "metadata": {},
      "outputs": [],
      "source": [
        "longueur = len(l) # nombre d’éléments de l\n",
        "minimum = min(l) # plus petit élément de l, ici par ordre alphabétique\n",
        "maximum = max(l) # plus grand élément de l, ici par ordre alphabétique\n",
        "print(longueur,minimum,maximum)"
      ],
      "id": "f4b440f8"
    },
    {
      "cell_type": "code",
      "execution_count": 31,
      "metadata": {},
      "outputs": [],
      "source": [
        "del l[0 : 2] # supprime les éléments entre la position 0 et 2 exclue\n",
        "print(l)"
      ],
      "id": "c1edef56"
    },
    {
      "cell_type": "markdown",
      "metadata": {},
      "source": [
        "## Les méthodes des listes\n",
        "\n",
        "On les trouve dans l’aide de la liste.\n",
        "On distingue les méthodes et les méthodes spéciales : visuellement,\n",
        "les méthodes spéciales sont celles qui précédées et suivis de deux caractères de soulignement,\n",
        "les autres sont des méthodes classiques."
      ],
      "id": "07074874-28b6-4cea-b8fc-bd66699bab9d"
    },
    {
      "cell_type": "code",
      "execution_count": 32,
      "metadata": {},
      "outputs": [],
      "source": [
        "help(l)"
      ],
      "id": "435e1172"
    },
    {
      "cell_type": "markdown",
      "metadata": {},
      "source": [
        "## A retenir et questions\n",
        "\n",
        "A retenir :\n",
        "\n",
        "-   Chaque objet `Python` a des attributs et des méthodes\n",
        "-   Vous pouvez créer des classes avec des attributs et des méthodes\n",
        "-   Les méthodes des listes et des dictionnaires qui sont les plus utilisées :\n",
        "    -   `list.count()`\n",
        "    -   `list.sort()`\n",
        "    -   `list.append()`\n",
        "    -   `dict.keys()`\n",
        "    -   `dict.items()`\n",
        "    -   `dict.values()`"
      ],
      "id": "1a9ba65b-d219-4698-9235-858b8e8fd968"
    },
    {
      "cell_type": "markdown",
      "metadata": {},
      "source": [
        "<div class=\"alert alert-success\" role=\"alert\" style=\"color: rgba(0,0,0,.8); background-color: white; margin-top: 1em; margin-bottom: 1em; margin:1.5625emauto; padding:0 .6rem .8rem!important;overflow:hidden; page-break-inside:avoid; border-radius:.25rem; box-shadow:0 .2rem .5rem rgba(0,0,0,.05),0 0 .05rem rgba(0,0,0,.1); transition:color .25s,background-color .25s,border-color .25s ; border-right: 1px solid #dee2e6 ; border-top: 1px solid #dee2e6 ; border-bottom: 1px solid #dee2e6 ; border-left:.2rem solid #3fb618;\">\n",
        "\n",
        "1.  Définir la liste allant de 1 à 10, puis effectuez les actions suivantes :\n",
        "\n",
        "-   triez et affichez la liste\n",
        "-   ajoutez l’élément 11 à la liste et affichez la liste\n",
        "-   renversez et affichez la liste\n",
        "-   affichez l’élément d’indice 7\n",
        "-   enlevez l’élément 9 et affichez la liste\n",
        "-   affichez la sous-liste du 2e au 3e éléments inclus ;\n",
        "-   affichez la sous-liste du début au 2e élément inclus ;\n",
        "-   affichez la sous-liste du 3e élément à la fin de la liste ;\n",
        "\n",
        "``` python\n",
        " # Correction\n",
        " ## liste des nombres de 1 à 10\n",
        " liste = list(range(1, 11))\n",
        " ## triez et affichez la liste\n",
        " liste.sort()\n",
        " print(liste)\n",
        " ## ajoutez l’élément 11 à la liste et affichez la liste \n",
        " liste.append(11)\n",
        " print(liste)\n",
        " ## renversez et affichez la liste \n",
        " liste.sort(reverse=True)\n",
        " print(liste)\n",
        " ## affichez l’élément d'indice 7 \n",
        " print(liste[7])\n",
        " ## enlevez l’élément 9 et affichez la liste \n",
        " liste.remove(9)\n",
        " print(liste)\n",
        " ## affichez la sous-liste du 2e au 3e éléments inclus ;\n",
        " print(liste[1:3])\n",
        " ## affichez la sous-liste du début au 2e élément inclus ;\n",
        " print(liste[:2])\n",
        " ## affichez la sous-liste du 3e élément à la fin de la liste ;\n",
        " print(liste[2:])\n",
        "```\n",
        "\n",
        "1.  Construire le dictionnaire des 6 premiers mois de l’année avec comme valeurs le nombre de jours respectif.\n",
        "\n",
        "-   Renvoyer la liste des mois\n",
        "-   Renvoyer la liste des jours\n",
        "-   Ajoutez la clé du mois de Juillet\n",
        "\n",
        "``` python\n",
        "# Correction\n",
        "## Construire le dictionnaire des 6 premiers mois de l'année avec comme valeurs le nombre de jours respectif.\n",
        "mon_dictionnaire_mois = { 'Janvier' : 31 , 'Fevrier' : 28, 'Mars' : 31, 'Avril' : 30, 'Mai' : 31, 'Juin' : 30} \n",
        "## Renvoyer la liste des mois\n",
        "print(list(mon_dictionnaire_mois.keys()))\n",
        "## Renvoyer la liste des jours\n",
        "print(list(mon_dictionnaire_mois.values()))\n",
        "## Ajoutez la clé du mois de Juillet\n",
        "mon_dictionnaire_mois['Juillet']=31\n",
        "print(mon_dictionnaire_mois)\n",
        "```\n",
        "\n",
        "</div>"
      ],
      "id": "a10c5405-b4c0-4e08-9966-f6a3ff240c52"
    },
    {
      "cell_type": "markdown",
      "metadata": {},
      "source": [
        "## Passer des listes, dictionnaires à `pandas`\n",
        "\n",
        "Supposons que la variable ‘data’ est une liste qui contient nos données.\n",
        "\n",
        "Une observation correspond à un dictionnaire qui contient le nom, le type, l’ambiance et la note d’un restaurant.\n",
        "\n",
        "Il est aisé de transformer cette liste en dataframe grâce à la fonction ‘DataFrame’."
      ],
      "id": "2b56fb17-6737-4335-8273-e6d4a17d4880"
    },
    {
      "cell_type": "code",
      "execution_count": 35,
      "metadata": {},
      "outputs": [],
      "source": [
        "import pandas \n",
        "\n",
        "data = [{\"nom\": \"Little Pub\", \"type\" : \"Bar\", \"ambiance\": 9, \"note\": 7},\n",
        "     {\"nom\": \"Le Corse\", \"type\" : \"Sandwicherie\", \"ambiance\": 2, \"note\": 8},\n",
        "     {\"nom\": \"Café Caumartin\", \"type\" : \"Bar\", \"ambiance\": 1}]\n",
        "\n",
        "df = pandas.DataFrame(data)\n",
        "\n",
        "print(data)\n",
        "df"
      ],
      "id": "1790af87"
    }
  ],
  "nbformat": 4,
  "nbformat_minor": 5,
  "metadata": {
    "kernelspec": {
      "name": "python3",
      "display_name": "Python 3 (ipykernel)",
      "language": "python"
    },
    "language_info": {
      "name": "python",
      "codemirror_mode": {
        "name": "ipython",
        "version": "3"
      },
      "file_extension": ".py",
      "mimetype": "text/x-python",
      "nbconvert_exporter": "python",
      "pygments_lexer": "ipython3",
      "version": "3.9.16"
    }
  }
}