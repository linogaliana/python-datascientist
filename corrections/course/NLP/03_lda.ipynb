{
 "cells": [
  {
   "cell_type": "markdown",
   "id": "d1c19cbb",
   "metadata": {},
   "source": [
    "#  Latent Dirichlet Allocation (LDA)\n",
    "\n"
   ]
  },
  {
   "cell_type": "markdown",
   "id": "457848dd",
   "metadata": {},
   "source": [
    "<a href=\"https://github.com/linogaliana/python-datascientist/blob/master//__w/python-datascientist/python-datascientist/notebooks/course/NLP/03_lda.ipynb\" class=\"github\"><i class=\"fab fa-github\"></i></a>\n",
    "[![Download](https://img.shields.io/badge/Download-Notebook-important?logo=Jupyter)](https://downgit.github.io/#/home?url=https://github.com/linogaliana/python-datascientist/blob/master//__w/python-datascientist/python-datascientist/notebooks/course/NLP/03_lda.ipynb)\n",
    "[![nbviewer](https://img.shields.io/badge/Visualize-nbviewer-blue?logo=Jupyter)](https://nbviewer.jupyter.org/github/linogaliana/python-datascientist/blob/master//__w/python-datascientist/python-datascientist/notebooks/course/NLP/03_lda.ipynb)\n",
    "[![Onyxia](https://img.shields.io/badge/SSPcloud-Tester%20via%20SSP--cloud-informational&color=yellow?logo=Python)](https://datalab.sspcloud.fr/launcher/inseefrlab-helm-charts-datascience/jupyter?onyxia.friendlyName=«python-datascientist»&resources.requests.memory=«4Gi»&security.allowlist.enabled=false&init.personalInit=«https://raw.githubusercontent.com/linogaliana/python-datascientist/master/init_onyxia.sh»)\n",
    "<br>\n",
    "[![Binder](https://img.shields.io/badge/Launch-Binder-E66581.svg?logo=data:image/png;base64,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)](https://mybinder.org/v2/gh/linogaliana/python-datascientist/master?filepath=/__w/python-datascientist/python-datascientist/notebooks/course/NLP/03_lda.ipynb)\n",
    "[![Open In Colab](https://colab.research.google.com/assets/colab-badge.svg)](http://colab.research.google.com/github/linogaliana/python-datascientist/blob/master//__w/python-datascientist/python-datascientist/notebooks/course/NLP/03_lda.ipynb)\n",
    "[![githubdev](https://open.vscode.dev/badges/open-in-vscode.svg)](https://github.dev/linogaliana/python-datascientist//__w/python-datascientist/python-datascientist/notebooks/course/NLP/03_lda.ipynb)\n",
    "\n"
   ]
  },
  {
   "cell_type": "markdown",
   "id": "1260affa",
   "metadata": {},
   "source": [
    "Cette page approfondit les exercices présentés dans la \n",
    "[section précédente](#nlpexo). \n",
    "On va ainsi continuer notre exploration de la littérature anglophones :\n",
    "\n",
    "* Edgar Allan Poe, (EAP) ;\n",
    "* HP Lovecraft (HPL) ;\n",
    "* Mary Wollstonecraft Shelley (MWS).\n",
    "\n",
    "Les données sont disponibles ici : [spooky.csv](https://github.com/GU4243-ADS/spring2018-project1-ginnyqg/blob/master/data/spooky.csv) et peuvent être requétées via l'url \n",
    "<https://github.com/GU4243-ADS/spring2018-project1-ginnyqg/raw/master/data/spooky.csv>."
   ]
  },
  {
   "cell_type": "markdown",
   "id": "c9fe0257",
   "metadata": {},
   "source": [
    "Le but va être dans un premier temps de regarder dans le détail les termes les plus fréquents utilisés par les auteurs, et les représenter graphiquement.\n",
    "\n",
    "<!-- puis on va ensuite essayer de prédire quel texte correspond à quel auteur à partir d'un modèle `Word2Vec`. -->"
   ]
  },
  {
   "cell_type": "markdown",
   "id": "9ccb0fac",
   "metadata": {},
   "source": [
    "Ce notebook est librement inspiré de  : \n",
    "\n",
    "* https://www.kaggle.com/enerrio/scary-nlp-with-spacy-and-keras\n",
    "* https://github.com/GU4243-ADS/spring2018-project1-ginnyqg\n",
    "* https://www.kaggle.com/meiyizi/spooky-nlp-and-topic-modelling-tutorial/notebook\n",
    "\n",
    "La LDA est une technique d'estimation bayésienne.\n",
    "Le [poly d'Alberto Brietti](http://alberto.bietti.me/files/rapport-lda.pdf)\n",
    "sur le sujet constitue une très bonne ressource pour comprendre\n",
    "les fondements de cette technique. "
   ]
  },
  {
   "cell_type": "markdown",
   "id": "13e287ce",
   "metadata": {},
   "source": [
    "## Librairies nécessaires\n",
    "\n",
    "Cette page évoquera les principales librairies pour faire du NLP, notamment : \n",
    "\n",
    "* [WordCloud](https://github.com/amueller/word_cloud)\n",
    "* [nltk](https://www.nltk.org/)\n",
    "* [spacy](https://spacy.io/)\n",
    "* [Keras](https://keras.io/)\n",
    "* [TensorFlow](https://www.tensorflow.org/)"
   ]
  },
  {
   "cell_type": "markdown",
   "id": "d5a08747",
   "metadata": {},
   "source": [
    "Comme dans la [partie précédente](#nlpexo), il faut télécharger quelques\n",
    "éléments pour que `NTLK` puisse fonctionner correctement. Pour cela, faire:\n",
    "\n",
    "~~~python\n",
    "import nltk\n",
    "nltk.download('stopwords')\n",
    "nltk.download('punkt')\n",
    "nltk.download('genesis')\n",
    "~~~"
   ]
  },
  {
   "cell_type": "markdown",
   "id": "d32e2303",
   "metadata": {},
   "source": [
    "La liste des modules à importer est assez longue, la voici:\n"
   ]
  },
  {
   "cell_type": "code",
   "execution_count": null,
   "id": "3b3b75fd",
   "metadata": {},
   "outputs": [],
   "source": [
    "import nltk\n",
    "nltk.download('stopwords')"
   ]
  },
  {
   "cell_type": "markdown",
   "id": "e4485412",
   "metadata": {},
   "source": [
    "```\n",
    "## True\n",
    "## \n",
    "## [nltk_data] Downloading package stopwords to /github/home/nltk_data...\n",
    "## [nltk_data]   Unzipping corpora/stopwords.zip.\n",
    "```"
   ]
  },
  {
   "cell_type": "code",
   "execution_count": null,
   "id": "9a2bba29",
   "metadata": {},
   "outputs": [],
   "source": [
    "nltk.download('punkt')"
   ]
  },
  {
   "cell_type": "markdown",
   "id": "6417b9b5",
   "metadata": {},
   "source": [
    "```\n",
    "## True\n",
    "## \n",
    "## [nltk_data] Downloading package punkt to /github/home/nltk_data...\n",
    "## [nltk_data]   Unzipping tokenizers/punkt.zip.\n",
    "```"
   ]
  },
  {
   "cell_type": "code",
   "execution_count": null,
   "id": "afc1c7e5",
   "metadata": {},
   "outputs": [],
   "source": [
    "nltk.download('genesis')"
   ]
  },
  {
   "cell_type": "markdown",
   "id": "1b698154",
   "metadata": {},
   "source": [
    "```\n",
    "## True\n",
    "## \n",
    "## [nltk_data] Downloading package genesis to /github/home/nltk_data...\n",
    "## [nltk_data]   Unzipping corpora/genesis.zip.\n",
    "```"
   ]
  },
  {
   "cell_type": "code",
   "execution_count": null,
   "id": "487895d2",
   "metadata": {},
   "outputs": [],
   "source": [
    "nltk.download('wordnet')"
   ]
  },
  {
   "cell_type": "markdown",
   "id": "855e5485",
   "metadata": {},
   "source": [
    "```\n",
    "## True\n",
    "## \n",
    "## [nltk_data] Downloading package wordnet to /github/home/nltk_data...\n",
    "## [nltk_data]   Unzipping corpora/wordnet.zip.\n",
    "```"
   ]
  },
  {
   "cell_type": "code",
   "execution_count": null,
   "id": "f2b11345",
   "metadata": {},
   "outputs": [],
   "source": [
    "import numpy as np # linear algebra\n",
    "import pandas as pd # data processing, CSV file I/O (e.g. pd.read_csv)\n",
    "import matplotlib.pyplot as plt\n",
    "from wordcloud import WordCloud\n",
    "#from IPython.display import display\n",
    "import base64\n",
    "import string\n",
    "import re\n",
    "import nltk\n",
    "\n",
    "from collections import Counter\n",
    "from time import time\n",
    "# from sklearn.feature_extraction.stop_words import ENGLISH_STOP_WORDS as stopwords\n",
    "from sklearn.metrics import log_loss\n",
    "import matplotlib.pyplot as plt\n",
    "\n",
    "from nltk.stem import WordNetLemmatizer\n",
    "from sklearn.feature_extraction.text import TfidfVectorizer, CountVectorizer\n",
    "from sklearn.decomposition import NMF, LatentDirichletAllocation"
   ]
  },
  {
   "cell_type": "markdown",
   "id": "df86c7aa",
   "metadata": {},
   "source": [
    "## Données utilisées\n",
    "\n",
    "*Si vous avez déjà lu la section précédente et importé les données, vous\n",
    "pouvez passer à la section suivante*\n",
    "\n",
    "Le code suivant permet d'importer le jeu de données `spooky`: \n"
   ]
  },
  {
   "cell_type": "code",
   "execution_count": null,
   "id": "2d59439e",
   "metadata": {},
   "outputs": [],
   "source": [
    "import pandas as pd\n",
    "\n",
    "url='https://github.com/GU4243-ADS/spring2018-project1-ginnyqg/raw/master/data/spooky.csv'\n",
    "import pandas as pd\n",
    "train = pd.read_csv(url,\n",
    "                    encoding='latin-1')\n",
    "train.columns = train.columns.str.capitalize()\n",
    "                    \n",
    "train['ID'] = train['Id'].str.replace(\"id\",\"\")\n",
    "train = train.set_index('Id')"
   ]
  },
  {
   "cell_type": "markdown",
   "id": "1e65cded",
   "metadata": {},
   "source": [
    "Le jeu de données met ainsi en regard un auteur avec une phrase qu'il a écrite:\n"
   ]
  },
  {
   "cell_type": "code",
   "execution_count": null,
   "id": "2306562d",
   "metadata": {},
   "outputs": [],
   "source": [
    "train.head()"
   ]
  },
  {
   "cell_type": "markdown",
   "id": "4c110b7b",
   "metadata": {},
   "source": [
    "```\n",
    "##                                                       Text Author     ID\n",
    "## Id                                                                      \n",
    "## id26305  This process, however, afforded me no means of...    EAP  26305\n",
    "## id17569  It never once occurred to me that the fumbling...    HPL  17569\n",
    "## id11008  In his left hand was a gold snuff box, from wh...    EAP  11008\n",
    "## id27763  How lovely is spring As we looked from Windsor...    MWS  27763\n",
    "## id12958  Finding nothing else, not even gold, the Super...    HPL  12958\n",
    "```\n",
    "\n",
    "Les étapes de *preprocessing* sont expliquées dans le [chapitre précédent](#nlpexo). On applique les étapes suivantes :\n",
    "\n",
    "1. Tokeniser\n",
    "2. Retirer la ponctuation et les stopwords\n",
    "3. Lemmatiser le texte\n"
   ]
  },
  {
   "cell_type": "code",
   "execution_count": null,
   "id": "b8ef19f8",
   "metadata": {},
   "outputs": [],
   "source": [
    "lemma = WordNetLemmatizer()\n",
    "\n",
    "train_clean = (train\n",
    "    .groupby([\"ID\",\"Author\"])\n",
    "    .apply(lambda s: nltk.word_tokenize(' '.join(s['Text'])))\n",
    "    .apply(lambda words: [word for word in words if word.isalpha()])\n",
    ")"
   ]
  },
  {
   "cell_type": "markdown",
   "id": "aad89c36",
   "metadata": {},
   "source": [
    "```\n",
    "## Error in py_call_impl(callable, dots$args, dots$keywords): IndexError: list index out of range\n",
    "## \n",
    "## Detailed traceback: \n",
    "##   File \"<string>\", line 1, in <module>\n",
    "##   File \"/opt/conda/envs/python-ENSAE/lib/python3.9/site-packages/pandas/core/groupby/groupby.py\", line 1275, in apply\n",
    "##     result = self._python_apply_general(f, self._selected_obj)\n",
    "##   File \"/opt/conda/envs/python-ENSAE/lib/python3.9/site-packages/pandas/core/groupby/groupby.py\", line 1309, in _python_apply_general\n",
    "##     keys, values, mutated = self.grouper.apply(f, data, self.axis)\n",
    "##   File \"/opt/conda/envs/python-ENSAE/lib/python3.9/site-packages/pandas/core/groupby/ops.py\", line 852, in apply\n",
    "##     res = f(group)\n",
    "##   File \"<string>\", line 3, in <lambda>\n",
    "##   File \"/opt/conda/envs/python-ENSAE/lib/python3.9/site-packages/nltk/tokenize/__init__.py\", line 129, in word_tokenize\n",
    "##     sentences = [text] if preserve_line else sent_tokenize(text, language)\n",
    "##   File \"/opt/conda/envs/python-ENSAE/lib/python3.9/site-packages/nltk/tokenize/__init__.py\", line 107, in sent_tokenize\n",
    "##     return tokenizer.tokenize(text)\n",
    "##   File \"/opt/conda/envs/python-ENSAE/lib/python3.9/site-packages/nltk/tokenize/punkt.py\", line 1276, in tokenize\n",
    "##     return list(self.sentences_from_text(text, realign_boundaries))\n",
    "##   File \"/opt/conda/envs/python-ENSAE/lib/python3.9/site-packages/nltk/tokenize/punkt.py\", line 1332, in sentences_from_text\n",
    "##     return [text[s:e] for s, e in self.span_tokenize(text, realign_boundaries)]\n",
    "##   File \"/opt/conda/envs/python-ENSAE/lib/python3.9/site-packages/nltk/tokenize/punkt.py\", line 1332, in <listcomp>\n",
    "##     return [text[s:e] for s, e in self.span_tokenize(text, realign_boundaries)]\n",
    "##   File \"/opt/conda/envs/python-ENSAE/lib/python3.9/site-packages/nltk/tokenize/punkt.py\", line 1322, in span_tokenize\n",
    "##     for sentence in slices:\n",
    "##   File \"/opt/conda/envs/python-ENSAE/lib/python3.9/site-packages/nltk/tokenize/punkt.py\", line 1421, in _realign_boundaries\n",
    "##     for sentence1, sentence2 in _pair_iter(slices):\n",
    "##   File \"/opt/conda/envs/python-ENSAE/lib/python3.9/site-packages/nltk/tokenize/punkt.py\", line 318, in _pair_iter\n",
    "##     prev = next(iterator)\n",
    "##   File \"/opt/conda/envs/python-ENSAE/lib/python3.9/site-packages/nltk/tokenize/punkt.py\", line 1395, in _slices_from_text\n",
    "##     for match, context in self._match_potential_end_contexts(text):\n",
    "##   File \"/opt/conda/envs/python-ENSAE/lib/python3.9/site-packages/nltk/tokenize/punkt.py\", line 1382, in _match_potential_end_contexts\n",
    "##     before_words[match] = split[-1]\n",
    "```"
   ]
  },
  {
   "cell_type": "code",
   "execution_count": null,
   "id": "3b794cbf",
   "metadata": {},
   "outputs": [],
   "source": [
    "from nltk.corpus import stopwords  \n",
    "stop_words = set(stopwords.words('english'))\n",
    "\n",
    "train_clean = (train_clean\n",
    "    .apply(lambda words: [lemma.lemmatize(w) for w in words if not w in stop_words])\n",
    "    .reset_index(name='tokenized')\n",
    ")"
   ]
  },
  {
   "cell_type": "markdown",
   "id": "b1e196ba",
   "metadata": {},
   "source": [
    "```\n",
    "## Error in py_call_impl(callable, dots$args, dots$keywords): NameError: name 'train_clean' is not defined\n",
    "## \n",
    "## Detailed traceback: \n",
    "##   File \"<string>\", line 1, in <module>\n",
    "```"
   ]
  },
  {
   "cell_type": "code",
   "execution_count": null,
   "id": "0e96c0e4",
   "metadata": {},
   "outputs": [],
   "source": [
    "train_clean.head(2)"
   ]
  },
  {
   "cell_type": "markdown",
   "id": "ffe0635d",
   "metadata": {},
   "source": [
    "```\n",
    "## Error in py_call_impl(callable, dots$args, dots$keywords): NameError: name 'train_clean' is not defined\n",
    "## \n",
    "## Detailed traceback: \n",
    "##   File \"<string>\", line 1, in <module>\n",
    "```\n"
   ]
  },
  {
   "cell_type": "markdown",
   "id": "a3a96366",
   "metadata": {},
   "source": [
    "## Principe de la LDA (Latent Dirichlet Allocation)\n",
    "\n",
    "Le modèle __Latent Dirichlet Allocation (LDA)__ est un modèle probabiliste génératif qui permet\n",
    "de décrire des collections de documents de texte ou d’autres types de données discrètes. LDA fait\n",
    "partie d’une catégorie de modèles appelés _“topic models”_, qui cherchent à découvrir des structures\n",
    "thématiques cachées dans des vastes archives de documents."
   ]
  },
  {
   "cell_type": "markdown",
   "id": "8ea0dc9f",
   "metadata": {},
   "source": [
    "Ceci permet d’obtenir des méthodes\n",
    "efficaces pour le traitement et l’organisation des documents de ces archives: organisation automatique\n",
    "des documents par sujet, recherche, compréhension et analyse du texte, ou même résumer des\n",
    "textes. \n",
    "\n",
    "Aujourd’hui, ce genre de méthodes s’utilisent fréquemment dans le web, par exemple pour\n",
    "analyser des ensemble d’articles d’actualité, les regrouper par sujet, faire de la recommandation\n",
    "d’articles, etc. \n",
    "\n",
    "La LDA est une méthode qui considère les corpus comme des __mélanges__ de sujets et\n",
    "de mots. Chaque document peut être représenté comme le résultat d'un mélange :\n",
    "\n",
    "* de sujets\n",
    "* et, au sein de ces sujets, d'un choix de mots.\n",
    "\n",
    "L’estimation des\n",
    "paramètres de la LDA passe par l’estimation des distributions des variables\n",
    "latentes à partir des données observées (*posterior inference*). \n",
    "Mathématiquement, on peut se représenter la LDA comme une \n",
    "technique de maximisation de *log vraisemblance* avec un algorithme EM (*expectation maximisation*)\n",
    "dans un modèle de mélange.\n",
    "\n",
    "La matrice termes-documents qui sert de point de départ est la suivante:\n",
    "\n",
    "|     | word_1 | word_2 | word_3 | ... | word_J |\n",
    "|---- |--------|--------|--------|-----|--------|\n",
    "|doc_1| 3      | 0      | 1      | ... | 0      |\n",
    "| ... | ...    | ...    | ...    | ... | ...    |\n",
    "|doc_N| 1      | 0      | 0      | ... | 5      |\n",
    "\n",
    "On dit que cette matrice est *sparse* (creuse en Français) car elle contient principalement des 0. En effet, un document n'utilise qu'une partie mineure du vocabulaire complet. \n",
    "\n",
    "La LDA consiste à transformer cette matrice *sparse*document-terme en deux matrices de moindre dimension:\n",
    "\n",
    "1. Une matrice document-sujet\n",
    "2. Une matrice sujet-mots\n",
    "\n",
    "En notant $K_i$ le sujet $i$. On obtient donc\n",
    "\n",
    "* Une __matrice document-sujet__ ayant la structure suivante:\n",
    "\n",
    "|     | K_1 | K_2 | K_3 | ... | K_M |\n",
    "|---- |--------|--------|--------|-----|--------|\n",
    "|doc_1| 1      | 0      | 1      | ... | 0      |\n",
    "| ... | ...    | ...    | ...    | ... | ...    |\n",
    "|doc_N| 1      | 1      | 1      | ... | 0      |\n",
    "\n",
    "* Une __matrice sujets-mots__ ayant la structure suivante:\n",
    "\n",
    "|     | word_1 | word_2 | word_3 | ... | word_J |\n",
    "|---- |--------|--------|--------|-----|--------|\n",
    "|K_1| 1      | 0      | 0      | ... | 0      |\n",
    "| ... | ...    | ...    | ...    | ... | ...    |\n",
    "|K_M| 1      | 1      | 1      | ... | 0      |\n",
    "\n",
    "Ces deux matrices ont l'interprétation suivante :\n",
    "\n",
    "* La première nous renseigne sur la présence d'un sujet dans un document\n",
    "* La seconde nous renseigne sur la présence d'un mot dans un sujet\n",
    "\n",
    "En fait, le principe de la LDA est de construire ces deux matrices à partir des fréquences d'apparition des mots dans le texte. "
   ]
  },
  {
   "cell_type": "markdown",
   "id": "81f30a74",
   "metadata": {},
   "source": [
    "On va se concentrer sur Edgar Allan Poe. \n"
   ]
  },
  {
   "cell_type": "code",
   "execution_count": null,
   "id": "36d6be89",
   "metadata": {},
   "outputs": [],
   "source": [
    "corpus = train_clean[train_clean[\"Author\"] == \"EAP\"]"
   ]
  },
  {
   "cell_type": "markdown",
   "id": "ee4e19e0",
   "metadata": {},
   "source": [
    "```\n",
    "## Error in py_call_impl(callable, dots$args, dots$keywords): NameError: name 'train_clean' is not defined\n",
    "## \n",
    "## Detailed traceback: \n",
    "##   File \"<string>\", line 1, in <module>\n",
    "```\n",
    "\n",
    "## Entraîner une LDA\n",
    "\n",
    "Il existe plusieurs manières d'entraîner une LDA.\n",
    "\n",
    "Nous allons utiliser `scikit` ici avec la méthode `LatentDirichletAllocation`.\n",
    "Comme expliqué dans la partie [modélisation](#modelisation) :\n",
    "\n",
    "1. On initialise le modèle ;\n",
    "2. On le met à jour avec la méthode `fit`.\n"
   ]
  },
  {
   "cell_type": "code",
   "execution_count": null,
   "id": "812621f6",
   "metadata": {},
   "outputs": [],
   "source": [
    "from sklearn.feature_extraction.text import CountVectorizer\n",
    "from sklearn.decomposition import LatentDirichletAllocation\n",
    "\n",
    "# Initialise the count vectorizer with the English stop words\n",
    "count_vectorizer = CountVectorizer(stop_words='english')# Fit and transform the processed titles\n",
    "count_data = count_vectorizer.fit_transform(corpus['tokenized'].apply(lambda s: ' '.join(s)))\n",
    "\n",
    "# Tweak the two parameters below"
   ]
  },
  {
   "cell_type": "markdown",
   "id": "393e9db8",
   "metadata": {},
   "source": [
    "```\n",
    "## Error in py_call_impl(callable, dots$args, dots$keywords): NameError: name 'corpus' is not defined\n",
    "## \n",
    "## Detailed traceback: \n",
    "##   File \"<string>\", line 1, in <module>\n",
    "```"
   ]
  },
  {
   "cell_type": "code",
   "execution_count": null,
   "id": "c07b886c",
   "metadata": {},
   "outputs": [],
   "source": [
    "number_topics = 5\n",
    "number_words = 10# Create and fit the LDA model\n",
    "lda = LatentDirichletAllocation(n_components=11, max_iter=5,\n",
    "                                learning_method = 'online',\n",
    "                                learning_offset = 50.,\n",
    "                                random_state = 0,\n",
    "                                n_jobs = 1)\n",
    "lda.fit(count_data)"
   ]
  },
  {
   "cell_type": "markdown",
   "id": "34f5b1e7",
   "metadata": {},
   "source": [
    "```\n",
    "## Error in py_call_impl(callable, dots$args, dots$keywords): NameError: name 'count_data' is not defined\n",
    "## \n",
    "## Detailed traceback: \n",
    "##   File \"<string>\", line 1, in <module>\n",
    "```\n",
    "\n",
    "## Visualiser les résultats\n",
    "\n",
    "On peut déjà commencer par utiliser une fonction pour afficher les\n",
    "résultats :\n"
   ]
  },
  {
   "cell_type": "code",
   "execution_count": null,
   "id": "fbab64ec",
   "metadata": {},
   "outputs": [],
   "source": [
    "# Helper function\n",
    "def print_topics(model, count_vectorizer, n_top_words):\n",
    "    words = count_vectorizer.get_feature_names()\n",
    "    for topic_idx, topic in enumerate(model.components_):\n",
    "        print(\"\\nTopic #%d:\" % topic_idx)\n",
    "        print(\" \".join([words[i]\n",
    "                        for i in topic.argsort()[:-n_top_words - 1:-1]]))\n",
    "\n",
    "print_topics(lda, count_vectorizer, number_words)"
   ]
  },
  {
   "cell_type": "markdown",
   "id": "cc2f97a9",
   "metadata": {},
   "source": [
    "```\n",
    "## Error in py_call_impl(callable, dots$args, dots$keywords): NotFittedError: Vocabulary not fitted or provided\n",
    "## \n",
    "## Detailed traceback: \n",
    "##   File \"<string>\", line 1, in <module>\n",
    "##   File \"<string>\", line 2, in print_topics\n",
    "##   File \"/opt/conda/envs/python-ENSAE/lib/python3.9/site-packages/sklearn/utils/deprecation.py\", line 88, in wrapped\n",
    "##     return fun(*args, **kwargs)\n",
    "##   File \"/opt/conda/envs/python-ENSAE/lib/python3.9/site-packages/sklearn/feature_extraction/text.py\", line 1429, in get_feature_names\n",
    "##     self._check_vocabulary()\n",
    "##   File \"/opt/conda/envs/python-ENSAE/lib/python3.9/site-packages/sklearn/feature_extraction/text.py\", line 498, in _check_vocabulary\n",
    "##     raise NotFittedError(\"Vocabulary not fitted or provided\")\n",
    "```"
   ]
  },
  {
   "cell_type": "markdown",
   "id": "a2947e5c",
   "metadata": {},
   "source": [
    "La représentation sous forme de liste de mots n'est pas la plus pratique...\n",
    "\n",
    "On peut essayer de se représenter un *wordcloud* de chaque sujet pour mieux voir si cette piste est pertinente :\n"
   ]
  },
  {
   "cell_type": "code",
   "execution_count": null,
   "id": "e0a08ed2",
   "metadata": {},
   "outputs": [],
   "source": [
    "tf_feature_names = count_vectorizer.get_feature_names()"
   ]
  },
  {
   "cell_type": "markdown",
   "id": "4a721454",
   "metadata": {},
   "source": [
    "```\n",
    "## Error in py_call_impl(callable, dots$args, dots$keywords): NotFittedError: Vocabulary not fitted or provided\n",
    "## \n",
    "## Detailed traceback: \n",
    "##   File \"<string>\", line 1, in <module>\n",
    "##   File \"/opt/conda/envs/python-ENSAE/lib/python3.9/site-packages/sklearn/utils/deprecation.py\", line 88, in wrapped\n",
    "##     return fun(*args, **kwargs)\n",
    "##   File \"/opt/conda/envs/python-ENSAE/lib/python3.9/site-packages/sklearn/feature_extraction/text.py\", line 1429, in get_feature_names\n",
    "##     self._check_vocabulary()\n",
    "##   File \"/opt/conda/envs/python-ENSAE/lib/python3.9/site-packages/sklearn/feature_extraction/text.py\", line 498, in _check_vocabulary\n",
    "##     raise NotFittedError(\"Vocabulary not fitted or provided\")\n",
    "```"
   ]
  },
  {
   "cell_type": "code",
   "execution_count": null,
   "id": "08be915e",
   "metadata": {},
   "outputs": [],
   "source": [
    "def wordcloud_lda(lda, tf_feature_names):\n",
    "\n",
    "  fig, axs = plt.subplots(len(lda.components_) // 3 + 1, 3)\n",
    "  \n",
    "  for i in range(len(lda.components_)):\n",
    "      corpus_lda = lda.components_[i]\n",
    "      first_topic_words = [tf_feature_names[l] for l in corpus_lda.argsort()[:-50-1:-1]]\n",
    "      k = i // 3\n",
    "      j = (i - k*3)\n",
    "      wordcloud = WordCloud(stopwords=stop_words, background_color=\"black\",width = 2500, height = 1800)\n",
    "      wordcloud = wordcloud.generate(\" \".join(first_topic_words))\n",
    "      axs[k][j].set_title(\"Wordcloud pour le \\nsujet {}\".format(i))\n",
    "      axs[k][j].axis('off')\n",
    "      axs[k][j].imshow(wordcloud)\n",
    "  \n",
    "  r = len(lda.components_) % 3\n",
    "  [fig.delaxes(axs[len(lda.components_) // 3,k-1]) for k in range(r+1, 3+1) if r != 0]\n",
    "\n",
    "wc = wordcloud_lda(lda, tf_feature_names)"
   ]
  },
  {
   "cell_type": "markdown",
   "id": "19f0bf3a",
   "metadata": {},
   "source": [
    "```\n",
    "## Error in py_call_impl(callable, dots$args, dots$keywords): NameError: name 'tf_feature_names' is not defined\n",
    "## \n",
    "## Detailed traceback: \n",
    "##   File \"<string>\", line 1, in <module>\n",
    "```"
   ]
  },
  {
   "cell_type": "code",
   "execution_count": null,
   "id": "f15092c8",
   "metadata": {},
   "outputs": [],
   "source": [
    "wc"
   ]
  },
  {
   "cell_type": "markdown",
   "id": "5287d062",
   "metadata": {},
   "source": [
    "```\n",
    "## Error in py_call_impl(callable, dots$args, dots$keywords): NameError: name 'wc' is not defined\n",
    "## \n",
    "## Detailed traceback: \n",
    "##   File \"<string>\", line 1, in <module>\n",
    "```"
   ]
  },
  {
   "cell_type": "markdown",
   "id": "ac81bfbe",
   "metadata": {},
   "source": [
    "```\n",
    "## Error in py_call_impl(callable, dots$args, dots$keywords): NameError: name 'wc' is not defined\n",
    "## \n",
    "## Detailed traceback: \n",
    "##   File \"<string>\", line 1, in <module>\n",
    "```\n"
   ]
  },
  {
   "cell_type": "markdown",
   "id": "c4862285",
   "metadata": {},
   "source": [
    "Le module `pyLDAvis` offre quelques visualisations bien pratiques lorsqu'on\n",
    "désire représenter de manière synthétique les résultats d'une LDA et observer la distribution sujet x mots."
   ]
  },
  {
   "cell_type": "markdown",
   "id": "f5ea169f",
   "metadata": {},
   "source": [
    "Dans un *notebook* faire :\n",
    "\n",
    "~~~python\n",
    "import pyLDAvis.sklearn\n",
    "\n",
    "pyLDAvis.enable_notebook()\n",
    "~~~\n",
    "\n",
    "Pour les utilisateurs de Windows, il est nécessaire d'ajouter l'argument\n",
    "`n_jobs = 1`. Sinon, `python` tente d'entraîner le modèle avec de la \n",
    "parallélisation. Le problème est que les processus sont des FORKs, ce que\n",
    "Windows ne supporte pas. Sur un système unix, on peut se passer de cet\n",
    "argument. \n",
    "\n"
   ]
  },
  {
   "cell_type": "code",
   "execution_count": null,
   "id": "d625663a",
   "metadata": {
    "lines_to_next_cell": 0
   },
   "outputs": [],
   "source": [
    "#!pip install pyLDAvis #à faire en haut du notebook sur colab\n",
    "import pyLDAvis\n",
    "import pyLDAvis.sklearn\n",
    "\n",
    "# pyLDAvis.enable_notebook()\n",
    "vis_data = pyLDAvis.sklearn.prepare(lda, count_data, count_vectorizer, n_jobs = 1)\n",
    "pyLDAvis.display(vis_data)"
   ]
  },
  {
   "cell_type": "markdown",
   "id": "00dc6546",
   "metadata": {},
   "source": [
    "\n"
   ]
  },
  {
   "cell_type": "markdown",
   "id": "1304d09f",
   "metadata": {},
   "source": [
    "```\n",
    "## Error in py_call_impl(callable, dots$args, dots$keywords): NameError: name 'count_data' is not defined\n",
    "## \n",
    "## Detailed traceback: \n",
    "##   File \"<string>\", line 1, in <module>\n",
    "```\n"
   ]
  },
  {
   "cell_type": "markdown",
   "id": "4e76a0d4",
   "metadata": {},
   "source": [
    "```\n",
    "## Error in py_call_impl(callable, dots$args, dots$keywords): NameError: name 'vis_data' is not defined\n",
    "## \n",
    "## Detailed traceback: \n",
    "##   File \"<string>\", line 2, in <module>\n",
    "```\n"
   ]
  },
  {
   "cell_type": "markdown",
   "id": "5ffe8676",
   "metadata": {},
   "source": [
    "* Chaque **bulle** représente un sujet. Plus la bulle est grande, plus il y a de documents qui traitent de ce sujet.\n",
    "\n",
    "Plus les barres sont loin les unes des autres, plus elles sont différentes. Un bon modèle aura donc tendance à avoir de grandes bulles qui ne se recoupent pas. Ce n'est pas vraiment le cas ici...\n",
    "\n",
    "* Les **barres bleues** représentent la fréquence de chaque mot dans le corpus.\n",
    "\n",
    "* Les **barres rouges** représentent une estimation du nombre de termes générés dans un sujet précis. La barre rouge la plus longue correspond au mot le plus utilisé dans ce sujet. "
   ]
  },
  {
   "cell_type": "markdown",
   "id": "899a6ca7",
   "metadata": {},
   "source": [
    "# Références\n",
    "\n",
    "* Le [poly d'Alberto Brietti](http://alberto.bietti.me/files/rapport-lda.pdf)"
   ]
  }
 ],
 "metadata": {
  "kernelspec": {
   "display_name": "Python 3",
   "language": "python",
   "name": "python3"
  }
 },
 "nbformat": 4,
 "nbformat_minor": 5
}
