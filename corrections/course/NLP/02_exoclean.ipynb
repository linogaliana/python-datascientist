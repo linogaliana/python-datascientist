{
 "cells": [
  {
   "cell_type": "markdown",
   "id": "2a3647ce",
   "metadata": {},
   "source": [
    "#  Nettoyer un texte: approche bag-of-words (exercices)\n",
    "\n"
   ]
  },
  {
   "cell_type": "markdown",
   "id": "fdcf2cdf",
   "metadata": {},
   "source": [
    "<a href=\"https://github.com/linogaliana/python-datascientist/blob/master//__w/python-datascientist/python-datascientist/notebooks/course/NLP/02_exoclean.ipynb\" class=\"github\"><i class=\"fab fa-github\"></i></a>\n",
    "[![Download](https://img.shields.io/badge/Download-Notebook-important?logo=Jupyter)](https://downgit.github.io/#/home?url=https://github.com/linogaliana/python-datascientist/blob/master//__w/python-datascientist/python-datascientist/notebooks/course/NLP/02_exoclean.ipynb)\n",
    "[![nbviewer](https://img.shields.io/badge/Visualize-nbviewer-blue?logo=Jupyter)](https://nbviewer.jupyter.org/github/linogaliana/python-datascientist/blob/master//__w/python-datascientist/python-datascientist/notebooks/course/NLP/02_exoclean.ipynb)\n",
    "[![Onyxia](https://img.shields.io/badge/SSPcloud-Tester%20via%20SSP--cloud-informational&color=yellow?logo=Python)](https://datalab.sspcloud.fr/launcher/inseefrlab-helm-charts-datascience/jupyter?autoLaunch=true&onyxia.friendlyName=%C2%ABpython-datascience%C2%BB&init.personalInit=%C2%ABhttps%3A%2F%2Fraw.githubusercontent.com%2Flinogaliana%2Fpython-datascientist%2Fmaster%2Fsspcloud%2Finit-jupyter.sh%C2%BB&init.personalInitArgs=%C2%ABNLP%2002_exoclean%C2%BB&security.allowlist.enabled=false)\n",
    "<br>\n",
    "[![Binder](https://img.shields.io/badge/Launch-Binder-E66581.svg?logo=data:image/png;base64,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)](https://mybinder.org/v2/gh/linogaliana/python-datascientist/master?filepath=/__w/python-datascientist/python-datascientist/notebooks/course/NLP/02_exoclean.ipynb)\n",
    "[![Open In Colab](https://colab.research.google.com/assets/colab-badge.svg)](http://colab.research.google.com/github/linogaliana/python-datascientist/blob/master//__w/python-datascientist/python-datascientist/notebooks/course/NLP/02_exoclean.ipynb)\n",
    "[![githubdev](https://open.vscode.dev/badges/open-in-vscode.svg)](https://github.dev/linogaliana/python-datascientist//__w/python-datascientist/python-datascientist/notebooks/course/NLP/02_exoclean.ipynb)\n"
   ]
  },
  {
   "cell_type": "markdown",
   "id": "4daf14b2",
   "metadata": {},
   "source": [
    "Cette page approfondit certains aspects présentés dans la\n",
    "[partie introductive](#nlp). Après avoir travaillé sur le\n",
    "*Comte de Monte Cristo*, on va continuer notre exploration de la littérature\n",
    "avec cette fois des auteurs anglophones :\n",
    "\n",
    "* Edgar Allan Poe, (EAP) ;\n",
    "* HP Lovecraft (HPL) ;\n",
    "* Mary Wollstonecraft Shelley (MWS).\n",
    "\n",
    "Les données sont disponibles ici : [spooky.csv](https://github.com/GU4243-ADS/spring2018-project1-ginnyqg/blob/master/data/spooky.csv) et peuvent être requétées via l'url \n",
    "<https://github.com/GU4243-ADS/spring2018-project1-ginnyqg/raw/master/data/spooky.csv>.\n",
    "\n",
    "Le but va être dans un premier temps de regarder dans le détail les termes les plus fréquemment utilisés par les auteurs, de les représenter graphiquement.\n",
    "On prendra appui sur l'approche *bag of words* présentée dans le chapitre précédent[^1]."
   ]
  },
  {
   "cell_type": "markdown",
   "id": "9f705a3a",
   "metadata": {},
   "source": [
    "[^1]: L'approche *bag of words* est déjà, si on la pousse à ses limites, très intéressante. Elle peut notamment\n",
    "faciliter la mise en cohérence de différents corpus\n",
    "par la méthode des appariements flous\n",
    "(cf. [Galiana et al. 2022](https://epic-davinci-acb57b.netlify.app/#1).\n",
    "Le [chapitre sur ElasticSearch](#elastic) présent dans cette partie du cours présente quelques\n",
    "éléments de ce travail sur les données de l'`OpenFoodFacts`"
   ]
  },
  {
   "cell_type": "markdown",
   "id": "83f140a1",
   "metadata": {},
   "source": [
    "Ce notebook est librement inspiré de  : \n",
    "\n",
    "* https://www.kaggle.com/enerrio/scary-nlp-with-spacy-and-keras\n",
    "* https://github.com/GU4243-ADS/spring2018-project1-ginnyqg\n",
    "* https://www.kaggle.com/meiyizi/spooky-nlp-and-topic-modelling-tutorial/notebook\n",
    "\n",
    "Les chapitres suivants permettront d'introduire aux enjeux de modélisation\n",
    "de corpus textuels. Dans un premier temps, le modèle LDA permettra d'explorer\n",
    "le principe des modèles bayésiens à couche cachés pour modéliser les sujets (*topics*)\n",
    "présents dans un corpus et segmenter ces topics selon les mots qui les composent.\n",
    "\n",
    "Le dernier chapitre de la partie visera à\n",
    "prédire quel texte correspond à quel auteur à partir d'un modèle `Word2Vec`.\n",
    "Cela sera un pas supplémentaire dans la formalisation puisqu'il s'agira de\n",
    "représenter chaque mot d'un texte sous forme d'un vecteur de grande dimension, ce\n",
    "qui nous permettra de rapprocher les mots entre eux dans un espace complexe."
   ]
  },
  {
   "cell_type": "markdown",
   "id": "5572da33",
   "metadata": {},
   "source": [
    "## Librairies nécessaires\n",
    "\n",
    "Cette page évoquera les principales librairies pour faire du NLP, notamment : \n",
    "\n",
    "* [WordCloud](https://github.com/amueller/word_cloud)\n",
    "* [nltk](https://www.nltk.org/)\n",
    "* [spacy](https://spacy.io/)\n",
    "* [Keras](https://keras.io/)\n",
    "* [TensorFlow](https://www.tensorflow.org/)\n",
    "\n",
    "Il faudra également installer les librairies `gensim` et `pywaffle`\n",
    "\n",
    "Comme dans la [partie précédente](#nlp), il faut télécharger quelques éléments pour que `NTLK` puisse fonctionner correctement. Pour cela, faire :\n"
   ]
  },
  {
   "cell_type": "code",
   "execution_count": null,
   "id": "696e9258",
   "metadata": {
    "lines_to_next_cell": 2
   },
   "outputs": [],
   "source": [
    "import nltk\n",
    "nltk.download('stopwords')\n",
    "nltk.download('punkt')\n",
    "nltk.download('genesis')\n",
    "nltk.download('wordnet')"
   ]
  },
  {
   "cell_type": "markdown",
   "id": "c3d20674",
   "metadata": {},
   "source": [
    "La liste des modules à importer est assez longue, la voici :\n"
   ]
  },
  {
   "cell_type": "code",
   "execution_count": null,
   "id": "2db5e4a3",
   "metadata": {},
   "outputs": [],
   "source": [
    "import numpy as np\n",
    "import pandas as pd\n",
    "import seaborn as sns\n",
    "import matplotlib.pyplot as plt\n",
    "from wordcloud import WordCloud\n",
    "import base64\n",
    "import string\n",
    "import re\n",
    "import nltk\n",
    "\n",
    "from collections import Counter\n",
    "from time import time\n",
    "# from sklearn.feature_extraction.stop_words import ENGLISH_STOP_WORDS as stopwords\n",
    "from sklearn.metrics import log_loss\n",
    "import matplotlib.pyplot as plt\n",
    "#!pip install pywaffle\n",
    "from pywaffle import Waffle\n",
    "\n",
    "from nltk.stem import WordNetLemmatizer\n",
    "from sklearn.feature_extraction.text import TfidfVectorizer, CountVectorizer\n",
    "from sklearn.decomposition import NMF, LatentDirichletAllocation\n",
    "\n",
    "nltk.download('stopwords')"
   ]
  },
  {
   "cell_type": "code",
   "execution_count": null,
   "id": "d0278d6a",
   "metadata": {},
   "outputs": [],
   "source": [
    "nltk.download('punkt')"
   ]
  },
  {
   "cell_type": "code",
   "execution_count": null,
   "id": "f7d44246",
   "metadata": {},
   "outputs": [],
   "source": [
    "nltk.download('genesis')"
   ]
  },
  {
   "cell_type": "code",
   "execution_count": null,
   "id": "174889e8",
   "metadata": {},
   "outputs": [],
   "source": [
    "nltk.download('wordnet')"
   ]
  },
  {
   "cell_type": "markdown",
   "id": "6cb5bdf6",
   "metadata": {},
   "source": [
    "## Données utilisées"
   ]
  },
  {
   "cell_type": "markdown",
   "id": "c3110050",
   "metadata": {},
   "source": [
    "**Exercice 1 : Importer les données spooky** [OPTIONNEL]\n",
    "\n",
    "*Pour ceux qui ont envie de tester leurs connaissances en pandas*\n"
   ]
  },
  {
   "cell_type": "code",
   "execution_count": null,
   "id": "6ed9d17f",
   "metadata": {},
   "outputs": [],
   "source": [
    "# packages utiles\n",
    "import pandas as pd"
   ]
  },
  {
   "cell_type": "markdown",
   "id": "701e805f",
   "metadata": {},
   "source": [
    "1. Importer le jeu de données `spooky` à partir de l'URL <https://github.com/GU4243-ADS/spring2018-project1-ginnyqg/raw/master/data/spooky.csv> sous le nom `train`. L'encoding est `latin-1`\n"
   ]
  },
  {
   "cell_type": "code",
   "execution_count": null,
   "id": "c9caa31d",
   "metadata": {},
   "outputs": [],
   "source": [
    "#1. Import des données\n",
    "url='https://github.com/GU4243-ADS/spring2018-project1-ginnyqg/raw/master/data/spooky.csv'\n",
    "train = pd.read_csv(url,encoding='latin-1')"
   ]
  },
  {
   "cell_type": "markdown",
   "id": "6249e515",
   "metadata": {},
   "source": [
    "2. Mettre des majuscules au nom des colonnes.\n"
   ]
  },
  {
   "cell_type": "code",
   "execution_count": null,
   "id": "2a27f525",
   "metadata": {},
   "outputs": [],
   "source": [
    "#2. Majuscules aux noms des colonnes\n",
    "train.columns = train.columns.str.capitalize()"
   ]
  },
  {
   "cell_type": "markdown",
   "id": "34954340",
   "metadata": {},
   "source": [
    "3. Retirer le prefix `id` de la colonne `Id` et appeler la nouvelle colonne `ID`.\n"
   ]
  },
  {
   "cell_type": "code",
   "execution_count": null,
   "id": "8b0eeea1",
   "metadata": {
    "lines_to_next_cell": 2
   },
   "outputs": [],
   "source": [
    "#3. Retirer le prefixe id\n",
    "train['ID'] = train['Id'].str.replace(\"id\",\"\")"
   ]
  },
  {
   "cell_type": "markdown",
   "id": "778d81d5",
   "metadata": {},
   "source": [
    "4. Mettre l'ancienne colonne `Id` en index. \n"
   ]
  },
  {
   "cell_type": "code",
   "execution_count": null,
   "id": "8e8a5ebc",
   "metadata": {
    "lines_to_next_cell": 0
   },
   "outputs": [],
   "source": [
    "#3. Retirer le prefixe id\n",
    "train = train.set_index('ID')\n",
    "#train.head()"
   ]
  },
  {
   "cell_type": "markdown",
   "id": "1316ddcd",
   "metadata": {},
   "source": [
    "\n"
   ]
  },
  {
   "cell_type": "markdown",
   "id": "b86cac14",
   "metadata": {},
   "source": [
    "Si vous ne faites pas l'exercice 1, pensez à charger les données en executant la fonction `get_data.py` :\n"
   ]
  },
  {
   "cell_type": "code",
   "execution_count": null,
   "id": "0fc72030",
   "metadata": {},
   "outputs": [],
   "source": [
    "import requests\n",
    "\n",
    "url = 'https://raw.githubusercontent.com/linogaliana/python-datascientist/master/content/course/NLP/get_data.py'\n",
    "r = requests.get(url, allow_redirects=True)\n",
    "open('getdata.py', 'wb').write(r.content)"
   ]
  },
  {
   "cell_type": "markdown",
   "id": "4ad0404e",
   "metadata": {},
   "source": [
    "```\n",
    "## 341\n",
    "```"
   ]
  },
  {
   "cell_type": "code",
   "execution_count": null,
   "id": "636ab4c4",
   "metadata": {},
   "outputs": [],
   "source": [
    "import getdata\n",
    "train = getdata.create_train_dataframes()"
   ]
  },
  {
   "cell_type": "markdown",
   "id": "a5cec597",
   "metadata": {},
   "source": [
    "Ce code introduit une base nommée `train` dans l'environnement.\n"
   ]
  },
  {
   "cell_type": "markdown",
   "id": "a4d575ae",
   "metadata": {},
   "source": [
    "Le jeu de données met ainsi en regard un auteur avec une phrase qu'il a écrite : \n"
   ]
  },
  {
   "cell_type": "code",
   "execution_count": null,
   "id": "f831500a",
   "metadata": {},
   "outputs": [],
   "source": [
    "train.head()"
   ]
  },
  {
   "cell_type": "markdown",
   "id": "f182b144",
   "metadata": {},
   "source": [
    "```\n",
    "##                                                       Text Author     ID\n",
    "## Id                                                                      \n",
    "## id26305  This process, however, afforded me no means of...    EAP  26305\n",
    "## id17569  It never once occurred to me that the fumbling...    HPL  17569\n",
    "## id11008  In his left hand was a gold snuff box, from wh...    EAP  11008\n",
    "## id27763  How lovely is spring As we looked from Windsor...    MWS  27763\n",
    "## id12958  Finding nothing else, not even gold, the Super...    HPL  12958\n",
    "```\n",
    "\n"
   ]
  },
  {
   "cell_type": "markdown",
   "id": "cf5ff01c",
   "metadata": {},
   "source": [
    "On peut se rendre compte que les extraits des 3 auteurs ne sont pas forcément équilibrés dans le jeu de données. Il faudra en tenir compte dans la prédiction. \n",
    "\n",
    "\n",
    "\n",
    "\n"
   ]
  },
  {
   "cell_type": "markdown",
   "id": "1592db12",
   "metadata": {},
   "source": [
    "L'approche *bag of words* est présentée de\n",
    "manière plus extensive dans le [chapitre précédent](#nlp).\n",
    "\n",
    "L'idée est d'étudier la fréquence des mots d'un document et la\n",
    "surreprésentation des mots par rapport à un document de\n",
    "référence (appelé *corpus*).\n",
    "\n",
    "Cette approche un peu simpliste mais très\n",
    "efficace : on peut calculer des scores permettant par exemple de faire\n",
    "de classification automatique de document par thème, de comparer la\n",
    "similarité de deux documents. Elle est souvent utilisée en première analyse,\n",
    "et elle reste la référence pour l'analyse de textes mal\n",
    "structurés (tweets, dialogue tchat, etc.). \n",
    "\n",
    "Les analyses tf-idf (*term frequency-inverse document frequency*) ou les\n",
    "constructions d'indices de similarité cosinus reposent sur ce type d'approche"
   ]
  },
  {
   "cell_type": "markdown",
   "id": "5af23aaa",
   "metadata": {},
   "source": [
    "## Fréquence d'un mot\n",
    "\n",
    "Avant de s'adonner à une analyse systématique du champ lexical de chaque\n",
    "auteur, on se focaliser dans un premier temps sur un unique mot, le mot *fear*. \n",
    "\n",
    "L'exercice ci-dessous présente une représentation graphique nommée \n",
    "*waffle chart*. Il s'agit d'une représentation graphique préférable aux\n",
    "camemberts qui sont des graphiques manipulables car l'oeil humain se laisse\n",
    "facilement berner par cette représentation graphique qui ne respecte pas\n",
    "les proportions. "
   ]
  },
  {
   "cell_type": "markdown",
   "id": "be8d41d1",
   "metadata": {},
   "source": [
    "**Exercice 2 : Fréquence d'un mot** \n",
    "\n",
    "1. Compter le nombre de phrases, pour chaque auteur, où apparaît le mot `fear`.\n"
   ]
  },
  {
   "cell_type": "code",
   "execution_count": null,
   "id": "762e5d34",
   "metadata": {},
   "outputs": [],
   "source": [
    "#1. Compter le nombre de phrase pour chaque auteur avec fear\n",
    "def nb_occurrences(word, train_data):\n",
    "    train_data['wordtoplot'] = train_data['Text'].str.contains(word).astype(int)\n",
    "    table = train.groupby('Author').sum()\n",
    "    data = table.to_dict()['wordtoplot']\n",
    "    return table\n",
    "  \n",
    "table = nb_occurrences(\"fear\", train)\n",
    "table.head()"
   ]
  },
  {
   "cell_type": "markdown",
   "id": "f88a147e",
   "metadata": {},
   "source": [
    "```\n",
    "##         wordtoplot\n",
    "## Author            \n",
    "## EAP             70\n",
    "## HPL            160\n",
    "## MWS            211\n",
    "```\n",
    "\n",
    "2. Utiliser `pywaffle` pour obtenir les graphiques ci-dessous qui résument\n",
    "de manière synthétique le nombre d'occurrences du mot *\"fear\"* par auteur.\n",
    "\n"
   ]
  },
  {
   "cell_type": "code",
   "execution_count": null,
   "id": "0083bdcc",
   "metadata": {
    "lines_to_next_cell": 2
   },
   "outputs": [],
   "source": [
    "\n",
    "#2. Faire un graphique d'occurences avc pywaffle\n",
    "def graph_occurrence(word, train_data):\n",
    "    table = nb_occurrences(word, train_data)\n",
    "    data = table.to_dict()['wordtoplot']\n",
    "    fig = plt.figure(\n",
    "        FigureClass=Waffle, \n",
    "        rows=15, \n",
    "        values=data, \n",
    "        title={'label': 'Utilisation du mot \"%s\" par les auteurs' %word, 'loc': 'left'},\n",
    "        labels=[\"{0} ({1})\".format(k, v) for k, v in data.items()]\n",
    "    )\n",
    "    return fig\n",
    "\n",
    "fig = graph_occurrence(\"fear\", train)\n",
    "plt.savefig(\"fear.png\", bbox_inches='tight')"
   ]
  },
  {
   "cell_type": "markdown",
   "id": "8e33f366",
   "metadata": {},
   "source": [
    "```r\n",
    "knitr::include_graphics(\"fear.png\")\n",
    "```"
   ]
  },
  {
   "cell_type": "markdown",
   "id": "6ad0aa99",
   "metadata": {},
   "source": [
    "3. Refaire l'analyse avec le mot *\"horror\"*. \n"
   ]
  },
  {
   "cell_type": "code",
   "execution_count": null,
   "id": "c9806cf9",
   "metadata": {
    "lines_to_next_cell": 2
   },
   "outputs": [],
   "source": [
    "#3. Graphe d'occurences avec le mot horror\n",
    "fig = graph_occurrence(\"horror\", train)\n",
    "plt.savefig(\"horror.png\", bbox_inches='tight')"
   ]
  },
  {
   "cell_type": "markdown",
   "id": "4bb55730",
   "metadata": {},
   "source": [
    "```r\n",
    "knitr::include_graphics(\"horror.png\")\n",
    "```"
   ]
  },
  {
   "cell_type": "markdown",
   "id": "50b2bb9c",
   "metadata": {},
   "source": [
    "La peur est ainsi plus évoquée par Mary Shelley\n",
    "(sentiment assez naturel face à la créature du docteur Frankenstein) alors\n",
    "que Lovecraft n'a pas volé sa réputation d'écrivain de l'horreur !"
   ]
  },
  {
   "cell_type": "markdown",
   "id": "015b12a0",
   "metadata": {},
   "source": [
    "## Premier *wordcloud*\n",
    "\n",
    "Pour aller plus loin dans l'analyse du champ lexical de chaque auteur,\n",
    "on peut représenter un `wordcloud` qui permet d'afficher chaque mot avec une\n",
    "taille proportionnelle au nombre d'occurrence de celui-ci."
   ]
  },
  {
   "cell_type": "markdown",
   "id": "08d616a2",
   "metadata": {},
   "source": [
    "**Exercice 3 : Wordcloud** \n",
    "\n",
    "1. En utilisant la fonction `wordCloud`, faire trois nuages de mot pour représenter les mots les plus utilisés par chaque auteur.\n"
   ]
  },
  {
   "cell_type": "code",
   "execution_count": null,
   "id": "d0ca34a7",
   "metadata": {},
   "outputs": [],
   "source": [
    "\n",
    "#1. Wordclouds\n",
    "def graph_wordcloud(author, train_data, varname = \"Text\"):\n",
    "  txt = train_data[train_data['Author']==author][varname]\n",
    "  all_text = ' '.join([text for text in txt])\n",
    "  wordcloud = WordCloud(width=800, height=500,\n",
    "                      random_state=21,\n",
    "                      max_words=2000).generate(all_text)\n",
    "  return wordcloud\n",
    "\n",
    "n_topics = [\"HPL\",\"EAP\",\"MWS\"]\n",
    "\n",
    "fig = plt.figure(figsize=(15, 12))\n",
    "for i in range(len(n_topics)):\n",
    "    ax = fig.add_subplot(2,2,i+1)\n",
    "    wordcloud = graph_wordcloud(n_topics[i], train)\n",
    "\n",
    "    ax.imshow(wordcloud)\n",
    "    ax.axis('off')"
   ]
  },
  {
   "cell_type": "markdown",
   "id": "b886630b",
   "metadata": {},
   "source": [
    "```\n",
    "## <matplotlib.image.AxesImage object at 0x7feb395cebb0>\n",
    "## (-0.5, 799.5, 499.5, -0.5)\n",
    "## <matplotlib.image.AxesImage object at 0x7feb392e4f40>\n",
    "## (-0.5, 799.5, 499.5, -0.5)\n",
    "## <matplotlib.image.AxesImage object at 0x7feb38a8ee20>\n",
    "## (-0.5, 799.5, 499.5, -0.5)\n",
    "```"
   ]
  },
  {
   "cell_type": "code",
   "execution_count": null,
   "id": "cd0cc072",
   "metadata": {
    "lines_to_next_cell": 2
   },
   "outputs": [],
   "source": [
    "plt.savefig('wordcloud1.png', bbox_inches='tight')"
   ]
  },
  {
   "cell_type": "markdown",
   "id": "f42187a7",
   "metadata": {},
   "source": [
    "```r\n",
    "knitr::include_graphics(\"wordcloud1.png\")\n",
    "```\n"
   ]
  },
  {
   "cell_type": "markdown",
   "id": "c449e675",
   "metadata": {},
   "source": [
    "2. Calculer les 25 mots plus communs pour chaque auteur et représenter les trois histogrammes des décomptes. \n"
   ]
  },
  {
   "cell_type": "code",
   "execution_count": null,
   "id": "86eb4114",
   "metadata": {},
   "outputs": [],
   "source": [
    "\n",
    "#2. Histogramme de décompte\n",
    "count_words = pd.DataFrame({'counter' : train\n",
    "    .groupby('Author')\n",
    "    .apply(lambda s: ' '.join(s['Text']).split())\n",
    "    .apply(lambda s: Counter(s))\n",
    "    .apply(lambda s: s.most_common(25))\n",
    "    .explode()}\n",
    ")\n",
    "count_words[['word','count']] = pd.DataFrame(count_words['counter'].tolist(),\n",
    "index=count_words.index)\n",
    "count_words = count_words.reset_index()\n",
    "g = sns.FacetGrid(count_words, row=\"Author\")\n",
    "g.map_dataframe(sns.barplot, x=\"word\", y=\"count\")"
   ]
  },
  {
   "cell_type": "markdown",
   "id": "dedb0ee5",
   "metadata": {},
   "source": [
    "```\n",
    "## <seaborn.axisgrid.FacetGrid object at 0x7feb38a8eee0>\n",
    "```"
   ]
  },
  {
   "cell_type": "code",
   "execution_count": null,
   "id": "bd00641e",
   "metadata": {
    "lines_to_next_cell": 2
   },
   "outputs": [],
   "source": [
    "plt.savefig('wordcount1.png', bbox_inches='tight')"
   ]
  },
  {
   "cell_type": "markdown",
   "id": "b2d8d47e",
   "metadata": {},
   "source": [
    "```r\n",
    "knitr::include_graphics(\"wordcount1.png\")\n",
    "```"
   ]
  },
  {
   "cell_type": "markdown",
   "id": "ebda383d",
   "metadata": {},
   "source": [
    "On voit ici que ce sont des mots communs, comme *\"the\"*, *\"of\"*, etc. sont très\n",
    "présents. Mais ils sont peu porteurs d'information, on peut donc les éliminer\n",
    "avant de faire une analyse syntaxique poussée.\n",
    "Ceci est une démonstration par l'exemple qu'il vaut mieux nettoyer le texte avant de \n",
    "l'analyser (sauf si on est intéressé\n",
    "par la loi de Zipf, cf. exercice suivant).\n",
    "\n"
   ]
  },
  {
   "cell_type": "markdown",
   "id": "33d846f5",
   "metadata": {},
   "source": [
    "## Aparté: la loi de Zipf\n",
    "\n",
    "Dans son sens strict, la loi de Zipf prévoit que\n",
    "dans un texte donné, la fréquence d'occurrence $f(n_i)$ d'un mot est\n",
    "liée à son rang $n_i$ dans l'ordre des fréquences par une loi de la forme\n",
    "$f(n_i) = c/n_i$ où $c$ est une constante. Zipf, dans les années 1930, se basait sur l'oeuvre \n",
    "de Joyce, *Ulysse* pour cette affirmation. \n",
    "\n",
    "Plus généralement, on peut dériver la loi de Zipf d'une distribution exponentielle des fréquences: $f(n_i) = cn_{i}^{-k}$. Cela permet d'utiliser la famille des modèles linéaires généralisés, notamment les régressions poissonniennes, pour mesurer les paramètres de la loi. Les modèles linéaire traditionnels en `log` souffrent en effet, dans ce contexte, de biais (la loi de Zipf est un cas particulier d'un modèle gravitaire, où appliquer des OLS est une mauvaise idée, cf. [Galiana et al. (2020)](https://linogaliana.netlify.app/publication/2020-segregation/) pour les limites).\n",
    "\n",
    "On va estimer le modèle suivant par GLM via `statsmodels`:\n",
    "\n",
    "$$\n",
    "\\mathbb{E}\\bigg( f(n_i)|n_i \\bigg) = \\exp(\\beta_0 + \\beta_1 \\log(n_i))\n",
    "$$\n",
    "\n",
    "Prenons les résultats de l'exercice précédent et enrichissons les du rang et de la fréquence d'occurrence d'un mot : \n",
    "\n",
    "<!-- source : https://stackoverflow.com/questions/23377108/pandas-percentage-of-total-with-groupby -->\n"
   ]
  },
  {
   "cell_type": "code",
   "execution_count": null,
   "id": "bfbd6722",
   "metadata": {
    "lines_to_next_cell": 2
   },
   "outputs": [],
   "source": [
    "count_words = pd.DataFrame({'counter' : train\n",
    "    .groupby('Author')\n",
    "    .apply(lambda s: ' '.join(s['Text']).split())\n",
    "    .apply(lambda s: Counter(s))\n",
    "    .apply(lambda s: s.most_common())\n",
    "    .explode()}\n",
    ")\n",
    "count_words[['word','count']] = pd.DataFrame(count_words['counter'].tolist(), index=count_words.index)\n",
    "count_words = count_words.reset_index()\n",
    "\n",
    "count_words = count_words.assign(\n",
    "    tot_mots_auteur = lambda x: (x.groupby(\"Author\")['count'].transform('sum')),\n",
    "    freq = lambda x: x['count'] /  x['tot_mots_auteur'],\n",
    "    rank = lambda x: x.groupby(\"Author\")['count'].transform('rank', ascending = False)\n",
    ")"
   ]
  },
  {
   "cell_type": "code",
   "execution_count": null,
   "id": "cac4403c",
   "metadata": {
    "lines_to_next_cell": 0
   },
   "outputs": [],
   "source": [
    "g = sns.lmplot(y = \"freq\", x = \"rank\", hue = 'Author', data = count_words, fit_reg = False)\n",
    "g.set(xscale=\"log\", yscale=\"log\")\n",
    "g"
   ]
  },
  {
   "cell_type": "markdown",
   "id": "40b9da1e",
   "metadata": {},
   "source": [
    "\n"
   ]
  },
  {
   "cell_type": "markdown",
   "id": "dfc4bedf",
   "metadata": {},
   "source": [
    "```r\n",
    "knitr::include_graphics(\"zipf.png\")\n",
    "```\n",
    "\n",
    "\n"
   ]
  },
  {
   "cell_type": "code",
   "execution_count": null,
   "id": "52346ee3",
   "metadata": {},
   "outputs": [],
   "source": [
    "import statsmodels.api as sm\n",
    "\n",
    "\n",
    "exog = sm.add_constant(np.log(count_words['rank'].astype(float)))\n",
    "\n",
    "model = sm.GLM(count_words['freq'].astype(float), exog, family = sm.families.Poisson()).fit()\n",
    "\n",
    "# Afficher les résultats du modèle\n",
    "print(model.summary())"
   ]
  },
  {
   "cell_type": "markdown",
   "id": "2cb9a9ef",
   "metadata": {},
   "source": [
    "<!-- TO BE COMPLETED -->\n"
   ]
  },
  {
   "cell_type": "markdown",
   "id": "7f35af69",
   "metadata": {},
   "source": [
    "## Nettoyage d'un texte\n",
    "\n",
    "Les premières étapes dans le nettoyage d'un texte, qu'on a\n",
    "développé au cours du [chapitre précédent](#nlp), sont :\n",
    "\n",
    "* suppression de la ponctuation\n",
    "* suppression des *stopwords*\n",
    "\n",
    "Cela passe par la tokenisation d'un texte, c'est-à-dire la décomposition\n",
    "de celui-ci en unités lexicales (les *tokens*). Ces unités lexicales peuvent être de différentes natures, selon l'analyse que l'on désire mener. Ici, on va définir les tokens comme étant les mots utilisés.\n",
    "\n",
    "Plutôt que de faire soi-même ce travail de nettoyage, avec des fonctions mal optimisées, on peut utiliser la librairie `nltk` comme détaillé [précédemment](#nlp). \n"
   ]
  },
  {
   "cell_type": "markdown",
   "id": "a14dccea",
   "metadata": {},
   "source": [
    "**Exercice 4 : Nettoyage du texte** \n",
    "\n",
    "Repartir de `train`, notre jeu de données d'entraînement. Pour rappel, `train` a la structure suivante:"
   ]
  },
  {
   "cell_type": "markdown",
   "id": "f0a0d65e",
   "metadata": {},
   "source": [
    "```\n",
    "##                                                       Text  ... wordtoplot\n",
    "## Id                                                          ...           \n",
    "## id26305  This process, however, afforded me no means of...  ...          0\n",
    "## id17569  It never once occurred to me that the fumbling...  ...          0\n",
    "## \n",
    "## [2 rows x 4 columns]\n",
    "```\n",
    "\n",
    "1. Tokeniser chaque phrase avec `nltk`. Le `DataFrame` devrait maintenant avoir cet aspect :\n"
   ]
  },
  {
   "cell_type": "code",
   "execution_count": null,
   "id": "647f0df7",
   "metadata": {},
   "outputs": [],
   "source": [
    "#1. Tokenisation\n",
    "train_clean = (train\n",
    "    .groupby([\"ID\",\"Author\"])\n",
    "    .apply(lambda s: nltk.word_tokenize(' '.join(s['Text'])))\n",
    "    .apply(lambda words: [word for word in words if word.isalpha()])\n",
    ")\n",
    "train_clean.head(2)"
   ]
  },
  {
   "cell_type": "markdown",
   "id": "d82891ae",
   "metadata": {},
   "source": [
    "```\n",
    "## ID     Author\n",
    "## 00001  MWS       [Idris, was, well, content, with, this, resolv...\n",
    "## 00002  HPL       [I, was, faint, even, fainter, than, the, hate...\n",
    "## dtype: object\n",
    "```\n",
    "\n",
    "2. Retirer les stopwords avec `nltk`.\n"
   ]
  },
  {
   "cell_type": "code",
   "execution_count": null,
   "id": "5b524b21",
   "metadata": {},
   "outputs": [],
   "source": [
    "#2. Enlever les stopwords.\n",
    "from nltk.corpus import stopwords  \n",
    "stop_words = set(stopwords.words('english'))\n",
    "\n",
    "train_clean = (train_clean\n",
    "    .apply(lambda words: [w for w in words if not w in stop_words])\n",
    "    .reset_index(name='tokenized')\n",
    ")\n",
    "\n",
    "train_clean.head(2)"
   ]
  },
  {
   "cell_type": "markdown",
   "id": "414bd8cf",
   "metadata": {},
   "source": [
    "```\n",
    "##       ID Author                                          tokenized\n",
    "## 0  00001    MWS              [Idris, well, content, resolve, mine]\n",
    "## 1  00002    HPL  [I, faint, even, fainter, hateful, modernity, ...\n",
    "```"
   ]
  },
  {
   "cell_type": "markdown",
   "id": "38acd9bf",
   "metadata": {},
   "source": [
    "La méthode `apply` est très pratique ici car nous avons une phrase par ligne. Plutôt que de faire un `DataFrame` par auteur, ce qui n'est pas une approche très flexible, on peut directement appliquer la tokenisation\n",
    "sur notre `DataFrame` grâce à `apply`, sans le diviser.\n",
    "\n",
    "Ce petit nettoyage permet d'arriver à un texte plus intéressant en termes d'analyse lexicale. Par exemple, si on reproduit l'analyse précédente... :\n",
    "\n",
    "\n",
    "\n"
   ]
  },
  {
   "cell_type": "markdown",
   "id": "0ccd4a7d",
   "metadata": {},
   "source": [
    "```r\n",
    "knitr::include_graphics(\"wordcloud2.png\")\n",
    "```"
   ]
  },
  {
   "cell_type": "markdown",
   "id": "8effc03d",
   "metadata": {},
   "source": [
    "Pour aller plus loin dans l'harmonisation d'un texte, il est possible de\n",
    "mettre en place les classes d'équivalence développées dans la \n",
    "[partie précédente](#nlp) afin de remplacer différentes variations d'un même\n",
    "mot par une forme canonique :\n",
    "\n",
    "* la **racinisation** (*stemming*) assez fruste mais rapide, notamment\n",
    "en présence de fautes d’orthographe. Dans ce cas, chevaux peut devenir chev\n",
    "mais être ainsi confondu avec chevet ou cheveux. Elles est généralement plus simple à mettre en oeuvre, quoique\n",
    "plus fruste. \n",
    "\n",
    "* la **lemmatisation** qui requiert la connaissance des statuts\n",
    "grammaticaux (exemple : chevaux devient cheval).\n",
    "Elle est mise en oeuvre, comme toujours avec `nltk`, à travers un\n",
    "modèle. En l'occurrence, un `WordNetLemmatizer`  (WordNet est une base\n",
    "lexicographique ouverte). Par exemple, les mots *\"women\"*, *\"daughters\"*\n",
    "et *\"leaves\"* seront ainsi lemmatisés de la manière suivante :\n"
   ]
  },
  {
   "cell_type": "code",
   "execution_count": null,
   "id": "0e45c8de",
   "metadata": {},
   "outputs": [],
   "source": [
    "from nltk.stem import WordNetLemmatizer\n",
    "lemm = WordNetLemmatizer()\n",
    "\n",
    "for word in [\"women\",\"daughters\", \"leaves\"]:\n",
    "    print(\"The lemmatized form of %s is: {}\".format(lemm.lemmatize(word)) % word)"
   ]
  },
  {
   "cell_type": "markdown",
   "id": "26d9e1f2",
   "metadata": {},
   "source": [
    "```\n",
    "## Error in py_call_impl(callable, dots$args, dots$keywords): LookupError: \n",
    "## **********************************************************************\n",
    "##   Resource \u001b[93momw-1.4\u001b[0m not found.\n",
    "##   Please use the NLTK Downloader to obtain the resource:\n",
    "## \n",
    "##   \u001b[31m>>> import nltk\n",
    "##   >>> nltk.download('omw-1.4')\n",
    "##   \u001b[0m\n",
    "##   For more information see: https://www.nltk.org/data.html\n",
    "## \n",
    "##   Attempted to load \u001b[93mcorpora/omw-1.4\u001b[0m\n",
    "## \n",
    "##   Searched in:\n",
    "##     - '/github/home/nltk_data'\n",
    "##     - '/opt/conda/envs/python-ENSAE/nltk_data'\n",
    "##     - '/opt/conda/envs/python-ENSAE/share/nltk_data'\n",
    "##     - '/opt/conda/envs/python-ENSAE/lib/nltk_data'\n",
    "##     - '/usr/share/nltk_data'\n",
    "##     - '/usr/local/share/nltk_data'\n",
    "##     - '/usr/lib/nltk_data'\n",
    "##     - '/usr/local/lib/nltk_data'\n",
    "## **********************************************************************\n",
    "## \n",
    "## \n",
    "## Detailed traceback: \n",
    "##   File \"<string>\", line 2, in <module>\n",
    "##   File \"/opt/conda/envs/python-ENSAE/lib/python3.9/site-packages/nltk/stem/wordnet.py\", line 45, in lemmatize\n",
    "##     lemmas = wn._morphy(word, pos)\n",
    "##   File \"/opt/conda/envs/python-ENSAE/lib/python3.9/site-packages/nltk/corpus/util.py\", line 121, in __getattr__\n",
    "##     self.__load()\n",
    "##   File \"/opt/conda/envs/python-ENSAE/lib/python3.9/site-packages/nltk/corpus/util.py\", line 89, in __load\n",
    "##     corpus = self.__reader_cls(root, *self.__args, **self.__kwargs)\n",
    "##   File \"/opt/conda/envs/python-ENSAE/lib/python3.9/site-packages/nltk/corpus/reader/wordnet.py\", line 1176, in __init__\n",
    "##     self.provenances = self.omw_prov()\n",
    "##   File \"/opt/conda/envs/python-ENSAE/lib/python3.9/site-packages/nltk/corpus/reader/wordnet.py\", line 1285, in omw_prov\n",
    "##     fileids = self._omw_reader.fileids()\n",
    "##   File \"/opt/conda/envs/python-ENSAE/lib/python3.9/site-packages/nltk/corpus/util.py\", line 121, in __getattr__\n",
    "##     self.__load()\n",
    "##   File \"/opt/conda/envs/python-ENSAE/lib/python3.9/site-packages/nltk/corpus/util.py\", line 86, in __load\n",
    "##     raise e\n",
    "##   File \"/opt/conda/envs/python-ENSAE/lib/python3.9/site-packages/nltk/corpus/util.py\", line 81, in __load\n",
    "##     root = nltk.data.find(f\"{self.subdir}/{self.__name}\")\n",
    "##   File \"/opt/conda/envs/python-ENSAE/lib/python3.9/site-packages/nltk/data.py\", line 583, in find\n",
    "##     raise LookupError(resource_not_found)\n",
    "```\n",
    "\n",
    "Pour disposer du corpus nécessaire à la lemmatisation, il faut, la première fois,\n",
    "télécharger celui-ci grâce aux commandes suivantes:\n",
    "~~~python\n",
    "import nltk\n",
    "nltk.download('wordnet')\n",
    "~~~"
   ]
  },
  {
   "cell_type": "markdown",
   "id": "714d88f6",
   "metadata": {},
   "source": [
    "**Exercice 5 : Lemmatisation avec `nltk` et `spaCy`** \n",
    "\n",
    "On va se restreindre au corpus d'Edgar Allan Poe et repartir de la base de données\n",
    "brute :\n"
   ]
  },
  {
   "cell_type": "code",
   "execution_count": null,
   "id": "477b3833",
   "metadata": {},
   "outputs": [],
   "source": [
    "eap_clean = train[train[\"Author\"] == \"EAP\"]\n",
    "eap_clean = ' '.join(eap_clean['Text'])\n",
    "#Tokenisation naïve sur les espaces entre les mots => on obtient une liste de mots\n",
    "#tokens = eap_clean.split()\n",
    "word_list = nltk.word_tokenize(eap_clean)"
   ]
  },
  {
   "cell_type": "markdown",
   "id": "e54dca4b",
   "metadata": {},
   "source": [
    "Utiliser un `WordNetLemmatizer` et observer le résultat.\n"
   ]
  },
  {
   "cell_type": "code",
   "execution_count": null,
   "id": "cb10a0bd",
   "metadata": {},
   "outputs": [],
   "source": [
    "#Exercice 5 : WordNetLemmatizer\n",
    "lemmatizer = WordNetLemmatizer()\n",
    "lemmatized_output = ' '.join([lemmatizer.lemmatize(w) for w in word_list])"
   ]
  },
  {
   "cell_type": "markdown",
   "id": "2dafb8be",
   "metadata": {},
   "source": [
    "```\n",
    "## Error in py_call_impl(callable, dots$args, dots$keywords): LookupError: \n",
    "## **********************************************************************\n",
    "##   Resource \u001b[93momw-1.4\u001b[0m not found.\n",
    "##   Please use the NLTK Downloader to obtain the resource:\n",
    "## \n",
    "##   \u001b[31m>>> import nltk\n",
    "##   >>> nltk.download('omw-1.4')\n",
    "##   \u001b[0m\n",
    "##   For more information see: https://www.nltk.org/data.html\n",
    "## \n",
    "##   Attempted to load \u001b[93mcorpora/omw-1.4\u001b[0m\n",
    "## \n",
    "##   Searched in:\n",
    "##     - '/github/home/nltk_data'\n",
    "##     - '/opt/conda/envs/python-ENSAE/nltk_data'\n",
    "##     - '/opt/conda/envs/python-ENSAE/share/nltk_data'\n",
    "##     - '/opt/conda/envs/python-ENSAE/lib/nltk_data'\n",
    "##     - '/usr/share/nltk_data'\n",
    "##     - '/usr/local/share/nltk_data'\n",
    "##     - '/usr/lib/nltk_data'\n",
    "##     - '/usr/local/lib/nltk_data'\n",
    "## **********************************************************************\n",
    "## \n",
    "## \n",
    "## Detailed traceback: \n",
    "##   File \"<string>\", line 1, in <module>\n",
    "##   File \"<string>\", line 1, in <listcomp>\n",
    "##   File \"/opt/conda/envs/python-ENSAE/lib/python3.9/site-packages/nltk/stem/wordnet.py\", line 45, in lemmatize\n",
    "##     lemmas = wn._morphy(word, pos)\n",
    "##   File \"/opt/conda/envs/python-ENSAE/lib/python3.9/site-packages/nltk/corpus/util.py\", line 121, in __getattr__\n",
    "##     self.__load()\n",
    "##   File \"/opt/conda/envs/python-ENSAE/lib/python3.9/site-packages/nltk/corpus/util.py\", line 89, in __load\n",
    "##     corpus = self.__reader_cls(root, *self.__args, **self.__kwargs)\n",
    "##   File \"/opt/conda/envs/python-ENSAE/lib/python3.9/site-packages/nltk/corpus/reader/wordnet.py\", line 1176, in __init__\n",
    "##     self.provenances = self.omw_prov()\n",
    "##   File \"/opt/conda/envs/python-ENSAE/lib/python3.9/site-packages/nltk/corpus/reader/wordnet.py\", line 1285, in omw_prov\n",
    "##     fileids = self._omw_reader.fileids()\n",
    "##   File \"/opt/conda/envs/python-ENSAE/lib/python3.9/site-packages/nltk/corpus/util.py\", line 121, in __getattr__\n",
    "##     self.__load()\n",
    "##   File \"/opt/conda/envs/python-ENSAE/lib/python3.9/site-packages/nltk/corpus/util.py\", line 86, in __load\n",
    "##     raise e\n",
    "##   File \"/opt/conda/envs/python-ENSAE/lib/python3.9/site-packages/nltk/corpus/util.py\", line 81, in __load\n",
    "##     root = nltk.data.find(f\"{self.subdir}/{self.__name}\")\n",
    "##   File \"/opt/conda/envs/python-ENSAE/lib/python3.9/site-packages/nltk/data.py\", line 583, in find\n",
    "##     raise LookupError(resource_not_found)\n",
    "```"
   ]
  },
  {
   "cell_type": "code",
   "execution_count": null,
   "id": "a75898e7",
   "metadata": {},
   "outputs": [],
   "source": [
    "print(\" \".join(word_list[:43]))"
   ]
  },
  {
   "cell_type": "markdown",
   "id": "34780253",
   "metadata": {},
   "source": [
    "```\n",
    "## This process , however , afforded me no means of ascertaining the dimensions of my dungeon ; as I might make its circuit , and return to the point whence I set out , without being aware of the fact ; so perfectly\n",
    "```"
   ]
  },
  {
   "cell_type": "code",
   "execution_count": null,
   "id": "542dadbb",
   "metadata": {},
   "outputs": [],
   "source": [
    "print(\"---------------------------\")"
   ]
  },
  {
   "cell_type": "markdown",
   "id": "fec9b6bf",
   "metadata": {},
   "source": [
    "```\n",
    "## ---------------------------\n",
    "```"
   ]
  },
  {
   "cell_type": "code",
   "execution_count": null,
   "id": "e94a0761",
   "metadata": {},
   "outputs": [],
   "source": [
    "print(lemmatized_output[:209])"
   ]
  },
  {
   "cell_type": "markdown",
   "id": "c5a7d9cc",
   "metadata": {},
   "source": [
    "```\n",
    "## Error in py_call_impl(callable, dots$args, dots$keywords): NameError: name 'lemmatized_output' is not defined\n",
    "## \n",
    "## Detailed traceback: \n",
    "##   File \"<string>\", line 1, in <module>\n",
    "```\n"
   ]
  },
  {
   "cell_type": "markdown",
   "id": "f1474263",
   "metadata": {},
   "source": [
    "## TF-IDF: calcul de fréquence\n",
    "\n",
    "Le calcul [tf-idf](https://fr.wikipedia.org/wiki/TF-IDF) (term frequency–inverse document frequency) permet de calculer un score de proximité entre un terme de recherche et un document (c'est ce que font les moteurs de recherche). \n",
    "\n",
    "* La partie `tf` calcule une fonction croissante de la fréquence du terme de recherche dans le document à l'étude ;\n",
    "* La partie `idf` calcule une fonction inversement proportionnelle à la fréquence du terme dans l'ensemble des documents (ou corpus).\n",
    "\n",
    "Le score total, obtenu en multipliant les deux composantes, permet ainsi de donner un score d'autant plus élevé que le terme est surréprésenté dans un document (par rapport à l'ensemble des documents). Il existe plusieurs fonctions, qui pénalisent plus ou moins les documents longs, ou qui sont plus ou moins *smooth*.\n"
   ]
  },
  {
   "cell_type": "markdown",
   "id": "44df2ece",
   "metadata": {},
   "source": [
    "**Exercice 6 : TF-IDF: calcul de fréquence** \n",
    "\n",
    "1. Utiliser le vectoriseur TfIdF de `scikit-learn` pour transformer notre corpus en une matrice `document x terms`. Au passage, utiliser l'option `stop_words` pour ne pas provoquer une inflation de la taille de la matrice. Nommer le modèle `tfidf` et le jeu entraîné `tfs`.\n"
   ]
  },
  {
   "cell_type": "code",
   "execution_count": null,
   "id": "3edbf8f8",
   "metadata": {},
   "outputs": [],
   "source": [
    "#1. TfIdf de scikit\n",
    "from sklearn.feature_extraction.text import TfidfVectorizer\n",
    "tfidf = TfidfVectorizer(stop_words=stopwords.words(\"english\"))\n",
    "tfs = tfidf.fit_transform(train['Text'])"
   ]
  },
  {
   "cell_type": "markdown",
   "id": "e3ac181c",
   "metadata": {},
   "source": [
    "2. Après avoir construit la matrice de documents x terms avec le code suivant, rechercher les lignes où les termes ayant la structure `abandon` sont non-nuls. \n"
   ]
  },
  {
   "cell_type": "markdown",
   "id": "01fd9f45",
   "metadata": {},
   "source": [
    "Les lignes sont les suivantes :\n"
   ]
  },
  {
   "cell_type": "code",
   "execution_count": null,
   "id": "c99ca6c2",
   "metadata": {},
   "outputs": [],
   "source": [
    "#2. Lignes où les termes de abandon sont non nuls.\n",
    "tempdf = df.loc[(df.filter(regex = \"abandon\")!=0).any(axis=1)]\n",
    "print(tempdf.index)"
   ]
  },
  {
   "cell_type": "markdown",
   "id": "ab01c4db",
   "metadata": {},
   "source": [
    "```\n",
    "## Int64Index([    4,   116,   215,   571,   839,  1042,  1052,  1069,  2247,\n",
    "##              2317,  2505,  3023,  3058,  3245,  3380,  3764,  3886,  4425,\n",
    "##              5289,  5576,  5694,  6812,  7500,  9013,  9021,  9077,  9560,\n",
    "##             11229, 11395, 11451, 11588, 11827, 11989, 11998, 12122, 12158,\n",
    "##             12189, 13666, 15259, 16516, 16524, 16759, 17547, 18019, 18072,\n",
    "##             18126, 18204, 18251],\n",
    "##            dtype='int64')\n",
    "```"
   ]
  },
  {
   "cell_type": "code",
   "execution_count": null,
   "id": "eb5b57ec",
   "metadata": {},
   "outputs": [],
   "source": [
    "tempdf.head(5)"
   ]
  },
  {
   "cell_type": "markdown",
   "id": "81d62662",
   "metadata": {},
   "source": [
    "```\n",
    "##      aaem   ab  aback  abaft   abandon  ...  zopyrus  zorry  zubmizzion  zuro   á¼\n",
    "## 4     0.0  0.0    0.0    0.0  0.000000  ...      0.0    0.0         0.0   0.0  0.0\n",
    "## 116   0.0  0.0    0.0    0.0  0.000000  ...      0.0    0.0         0.0   0.0  0.0\n",
    "## 215   0.0  0.0    0.0    0.0  0.235817  ...      0.0    0.0         0.0   0.0  0.0\n",
    "## 571   0.0  0.0    0.0    0.0  0.000000  ...      0.0    0.0         0.0   0.0  0.0\n",
    "## 839   0.0  0.0    0.0    0.0  0.285886  ...      0.0    0.0         0.0   0.0  0.0\n",
    "## \n",
    "## [5 rows x 24937 columns]\n",
    "```\n",
    "\n",
    "3. Trouver les 50 extraits où le score TF-IDF est le plus élevé et l'auteur associé. Vous devriez obtenir le classement suivant:\n"
   ]
  },
  {
   "cell_type": "code",
   "execution_count": null,
   "id": "33e127f8",
   "metadata": {},
   "outputs": [],
   "source": [
    "#3. 50 extraits avec le TF-IDF le plus élevé.\n",
    "list_fear = df[\"fear\"].sort_values(ascending =False).head(n=50).index.tolist()\n",
    "train.iloc[list_fear].groupby('Author').count()['Text'].sort_values(ascending = False)"
   ]
  },
  {
   "cell_type": "markdown",
   "id": "4bd1b2d1",
   "metadata": {},
   "source": [
    "```\n",
    "## Author\n",
    "## MWS    22\n",
    "## HPL    15\n",
    "## EAP    13\n",
    "## Name: Text, dtype: int64\n",
    "```\n",
    "\n",
    "Les 10 scores les plus élevés sont les suivants :\n"
   ]
  },
  {
   "cell_type": "code",
   "execution_count": null,
   "id": "b0ec29b5",
   "metadata": {},
   "outputs": [],
   "source": [
    "print(train.iloc[list_fear[:9]]['Text'].values)"
   ]
  },
  {
   "cell_type": "markdown",
   "id": "5b78e9e1",
   "metadata": {},
   "source": [
    "```\n",
    "## ['We could not fear we did not.' '\"And now I do not fear death.'\n",
    "##  'Be of heart and fear nothing.' 'I smiled, for what had I to fear?'\n",
    "##  'Indeed I had no fear on her account.'\n",
    "##  'I have not the slightest fear for the result.'\n",
    "##  'At length, in an abrupt manner she asked, \"Where is he?\" \"O, fear not,\" she continued, \"fear not that I should entertain hope Yet tell me, have you found him?'\n",
    "##  '\"I fear you are right there,\" said the Prefect.'\n",
    "##  'I went down to open it with a light heart, for what had I now to fear?']\n",
    "```"
   ]
  },
  {
   "cell_type": "markdown",
   "id": "31625dfe",
   "metadata": {},
   "source": [
    "On remarque que les scores les plus élévés sont soient des extraits courts où le mot apparait une seule fois, soit des extraits plus longs où le mot fear apparaît plusieurs fois."
   ]
  },
  {
   "cell_type": "markdown",
   "id": "d62bc1c8",
   "metadata": {},
   "source": [
    "La matrice `document x terms` est un exemple typique de matrice sparse puisque, dans des corpus volumineux, une grande diversité de vocabulaire peut être trouvée.  "
   ]
  },
  {
   "cell_type": "markdown",
   "id": "7efd613a",
   "metadata": {},
   "source": [
    "## Approche contextuelle: les *n-gramms*\n",
    "\n",
    "Pour être en mesure de mener cette analyse, il est nécessaire de télécharger un corpus supplémentaire :\n",
    "\n"
   ]
  },
  {
   "cell_type": "code",
   "execution_count": null,
   "id": "0594cdb0",
   "metadata": {},
   "outputs": [],
   "source": [
    "import nltk\n",
    "nltk.download('genesis')"
   ]
  },
  {
   "cell_type": "markdown",
   "id": "dc1b9411",
   "metadata": {},
   "source": [
    "```\n",
    "## True\n",
    "## \n",
    "## [nltk_data] Downloading package genesis to /github/home/nltk_data...\n",
    "## [nltk_data]   Package genesis is already up-to-date!\n",
    "```"
   ]
  },
  {
   "cell_type": "code",
   "execution_count": null,
   "id": "4a4b11bc",
   "metadata": {},
   "outputs": [],
   "source": [
    "nltk.corpus.genesis.words('english-web.txt')"
   ]
  },
  {
   "cell_type": "markdown",
   "id": "b770e8cf",
   "metadata": {},
   "source": [
    "```\n",
    "## ['In', 'the', 'beginning', 'God', 'created', 'the', ...]\n",
    "```"
   ]
  },
  {
   "cell_type": "markdown",
   "id": "19be7465",
   "metadata": {},
   "source": [
    "Il s'agit maintenant de raffiner l'analyse. \n",
    "\n",
    "On s'intéresse non seulement aux mots et à leur fréquence, mais aussi aux mots qui suivent. Cette approche est essentielle pour désambiguiser les homonymes. Elle permet aussi d'affiner les modèles \"bag-of-words\". Le calcul de n-grams (bigrams pour les co-occurences de mots deux-à-deux, tri-grams pour les co-occurences trois-à-trois, etc.) constitue la méthode la plus simple pour tenir compte du contexte."
   ]
  },
  {
   "cell_type": "markdown",
   "id": "fd1ae707",
   "metadata": {},
   "source": [
    "`nltk` offre des methodes pour tenir compte du contexte : pour ce faire, nous calculons les n-grams, c'est-à-dire l'ensemble des co-occurrences successives de mots n-à-n.  En général, on se contente de bi-grams, au mieux de tri-grams :\n",
    "\n",
    "* les modèles de classification, analyse du sentiment, comparaison de documents, etc. qui comparent des n-grams avec n trop grands sont rapidement confrontés au problème de données sparse, cela réduit la capacité prédictive des modèles ;\n",
    "* les performances décroissent très rapidement en fonction de n, et les coûts de stockage des données augmentent rapidement (environ n fois plus élevé que la base de données initiale).\n"
   ]
  },
  {
   "cell_type": "markdown",
   "id": "7b6e1315",
   "metadata": {},
   "source": [
    "**Exercice 7  : n-grams et contexte du mot fear** \n",
    "\n",
    "On va, rapidement, regarder dans quel contexte apparaît le mot `fear` dans\n",
    "l'oeuvre d'Edgar Allan Poe (EAP). Pour cela, on transforme d'abord\n",
    "le corpus EAP en tokens `nltk` : \n"
   ]
  },
  {
   "cell_type": "markdown",
   "id": "dd6142c4",
   "metadata": {},
   "source": [
    "1. Utiliser la méthode `concordance` pour afficher le contexte dans lequel apparaît le terme `fear`. La liste devrait ressembler à celle-ci:\n"
   ]
  },
  {
   "cell_type": "code",
   "execution_count": null,
   "id": "c3465816",
   "metadata": {},
   "outputs": [],
   "source": [
    "# 1. Methode concordance\n",
    "print(\"Exemples d'occurences du terme 'fear' :\")"
   ]
  },
  {
   "cell_type": "markdown",
   "id": "40abcd77",
   "metadata": {},
   "source": [
    "```\n",
    "## Exemples d'occurences du terme 'fear' :\n",
    "```"
   ]
  },
  {
   "cell_type": "code",
   "execution_count": null,
   "id": "f16da9e9",
   "metadata": {},
   "outputs": [],
   "source": [
    "text.concordance(\"fear\")"
   ]
  },
  {
   "cell_type": "markdown",
   "id": "6beb2aa4",
   "metadata": {},
   "source": [
    "```\n",
    "## Displaying 24 of 24 matches:\n",
    "## lady seventy years age heard express fear never see Marie observation attracte\n",
    "## ingly well I went open light heart I fear The fact business simple indeed I ma\n",
    "##  Geneva seemed resolved give scruple fear wind No one spoken frequenting house\n",
    "## d propeller must entirely remodelled fear serious accident I mean steel rod va\n",
    "## ud rose amazing velocity I slightest fear result He proceeded observing analyz\n",
    "## His third contempt ambition Indeed I fear account The ceiling gloomy looking o\n",
    "## dverted blush extreme recency date I fear right said Prefect This could refast\n",
    "## loud quick unequal spoken apparently fear well anger three four quite right Sa\n",
    "## oughts Question Oinos freely without fear No path trodden vicinity reach happy\n",
    "## ick darkness shutters close fastened fear robbers I knew could see opening doo\n",
    "## ible game antagonist I even went far fear I occasioned much trouble might glad\n",
    "## dame could easily enter unobserved I fear mesmerized adding immediately afterw\n",
    "## here poodle Perhaps said I Legrand I fear artist In left hand little heavy Dut\n",
    "##  strong relish physical philosophy I fear tinctured mind common error age I me\n",
    "## ripods expired The replied entered I fear unusual horror thing The rudder ligh\n",
    "## rdiality In second place impressed I fear indeed impossible make comprehended \n",
    "##  spades whole insisted upon carrying fear seemed trusting either implements wi\n",
    "## ind dreaded whip instantly converted fear This prison like rampart formed limi\n",
    "##  I started hourly dreams unutterable fear find hot breath thing upon face vast\n",
    "## ers deputed search premises Be heart fear nothing I removed bed examined corps\n",
    "##  looked stiff rolled eyes I smiled I fear My first idea mere surprise really r\n",
    "## g memory long time awaking slumber I fear I shall never see Marie But imagine \n",
    "## et lonely I watched minutes somewhat fear wonder The one wrote Jeremiad usury \n",
    "## d garments muddy clotted gore I much fear replied Monsieur Maillard becoming e\n",
    "```"
   ]
  },
  {
   "cell_type": "code",
   "execution_count": null,
   "id": "2186a2ef",
   "metadata": {},
   "outputs": [],
   "source": [
    "print('\\n')"
   ]
  },
  {
   "cell_type": "markdown",
   "id": "7b719280",
   "metadata": {},
   "source": [
    "Même si on peut facilement voir le mot avant et après, cette liste est assez difficile à interpréter car elle recoupe beaucoup d'information. \n",
    "\n",
    "La `collocation` consiste à trouver les bi-grammes qui\n",
    "apparaissent le plus fréquemment ensemble. Parmi toutes les paires de deux mots observées, il s'agit de sélectionner, à partir d'un modèle statistique, les \"meilleures\". \n",
    "\n",
    "2. Sélectionner et afficher les meilleures collocation, par exemple selon le critère du ratio de vraisemblance. \n",
    "\n",
    "Vous aurez besoin des fonctions ` BigramCollocationFinder.from_words` et `BigramAssocMeasures.likelihood_ratio` : \n"
   ]
  },
  {
   "cell_type": "code",
   "execution_count": null,
   "id": "7df122e8",
   "metadata": {},
   "outputs": [],
   "source": [
    "from nltk.collocations import BigramCollocationFinder\n",
    "from nltk.metrics import BigramAssocMeasures"
   ]
  },
  {
   "cell_type": "markdown",
   "id": "ed5db4e2",
   "metadata": {},
   "source": [
    "<!-- Une approche ingénue de la `collocation` amène ainsi à considérer les mots suivants :  -->\n"
   ]
  },
  {
   "cell_type": "code",
   "execution_count": null,
   "id": "d8a45015",
   "metadata": {},
   "outputs": [],
   "source": [
    "# 2. Modélisation des meilleures collocations\n",
    "bcf = BigramCollocationFinder.from_words(text)\n",
    "bcf.nbest(BigramAssocMeasures.likelihood_ratio, 20)"
   ]
  },
  {
   "cell_type": "markdown",
   "id": "f1a5d9cb",
   "metadata": {},
   "source": [
    "```\n",
    "## [('I', 'could'), ('I', 'felt'), ('main', 'compartment'), ('Chess', 'Player'), ('Let', 'us'), ('I', 'saw'), ('Madame', 'Lalande'), ('At', 'length'), ('New', 'York'), ('Ourang', 'Outang'), ('ha', 'ha'), ('three', 'four'), ('I', 'knew'), ('I', 'say'), ('du', 'Roule'), ('I', 'I'), ('General', 'John'), ('could', 'help'), ('In', 'meantime'), ('let', 'us')]\n",
    "```\n"
   ]
  },
  {
   "cell_type": "markdown",
   "id": "e61a790a",
   "metadata": {},
   "source": [
    "Lorsque deux mots sont fortement associés, cela est parfois dû au fait qu'ils apparaissent rarement. Il est donc parfois nécessaire d'appliquer des filtres, par exemple ignorer les bigrammes qui apparaissent moins de 5 fois dans le corpus.\n",
    "\n",
    "3. Refaire la question précédente en utilisant toujours un modèle `BigramCollocationFinder` suivi de la méthode `apply_freq_filter` pour ne conserver que les bigrammes présents au moins 5 fois. Puis, au lieu d'utiliser la méthode de maximum de vraisemblance, testez la méthode `nltk.collocations.BigramAssocMeasures().jaccard`.\n"
   ]
  },
  {
   "cell_type": "code",
   "execution_count": null,
   "id": "92a245fb",
   "metadata": {},
   "outputs": [],
   "source": [
    "# 3. Modélisation des meilleures collocations (qui apparaissent 5+)\n",
    "finder = nltk.BigramCollocationFinder.from_words(text)\n",
    "finder.apply_freq_filter(5)\n",
    "bigram_measures = nltk.collocations.BigramAssocMeasures()\n",
    "collocations = finder.nbest(bigram_measures.jaccard, 15) \n",
    "\n",
    "for collocation in collocations:\n",
    "    c = ' '.join(collocation)\n",
    "    print(c)"
   ]
  },
  {
   "cell_type": "markdown",
   "id": "31c3399e",
   "metadata": {},
   "source": [
    "```\n",
    "## Chess Player\n",
    "## Ourang Outang\n",
    "## Brevet Brigadier\n",
    "## Hans Pfaall\n",
    "## Bas Bleu\n",
    "## du Roule\n",
    "## New York\n",
    "## ugh ugh\n",
    "## Tea Pot\n",
    "## gum elastic\n",
    "## hu hu\n",
    "## prodigies valor\n",
    "## Gad Fly\n",
    "## Massa Will\n",
    "## Von Kempelen\n",
    "```\n",
    "\n",
    "Cette liste a un peu plus de sens, on a des noms de personnages, de lieux mais aussi des termes fréquemment employés ensemble (*Chess Player* par exemple).\n",
    "\n",
    "4. Ne s'intéresser qu'aux *collocations* qui concernent le mot *fear*\n"
   ]
  },
  {
   "cell_type": "code",
   "execution_count": null,
   "id": "677a606b",
   "metadata": {},
   "outputs": [],
   "source": [
    "# 4. collocations du mot fear\n",
    "bigram_measures = nltk.collocations.BigramAssocMeasures()\n",
    "\n",
    "def collocations_word(word = \"fear\"):\n",
    "    # Ngrams with a specific name \n",
    "    name_filter = lambda *w: word not in w\n",
    "    ## Bigrams\n",
    "    finder = BigramCollocationFinder.from_words(\n",
    "                nltk.corpus.genesis.words('english-web.txt'))\n",
    "    # only bigrams that contain 'fear'\n",
    "    finder.apply_ngram_filter(name_filter)\n",
    "    # return the 100 n-grams with the highest PMI\n",
    "    print(finder.nbest(bigram_measures.likelihood_ratio,100))\n",
    "    \n",
    "collocations_word(\"fear\")"
   ]
  },
  {
   "cell_type": "markdown",
   "id": "a332e3dd",
   "metadata": {},
   "source": [
    "```\n",
    "## [('fear', 'of'), ('fear', 'God'), ('I', 'fear'), ('the', 'fear'), ('The', 'fear'), ('fear', 'him'), ('you', 'fear')]\n",
    "```\n",
    "\n",
    "Si on mène la même analyse pour le terme *love*, on remarque que de manière logique, on retrouve bien des sujets généralement accolés au verbe :"
   ]
  },
  {
   "cell_type": "markdown",
   "id": "680cec18",
   "metadata": {},
   "source": [
    "```\n",
    "## [('love', 'me'), ('love', 'he'), ('will', 'love'), ('I', 'love'), ('love', ','), ('you', 'love'), ('the', 'love')]\n",
    "```\n",
    "\n",
    "\n",
    "\n"
   ]
  }
 ],
 "metadata": {
  "kernelspec": {
   "display_name": "Python 3",
   "language": "python",
   "name": "python3"
  }
 },
 "nbformat": 4,
 "nbformat_minor": 5
}
