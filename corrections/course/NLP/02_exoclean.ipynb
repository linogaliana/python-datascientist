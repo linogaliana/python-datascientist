{
 "cells": [
  {
   "cell_type": "markdown",
<<<<<<< HEAD
<<<<<<< HEAD
   "id": "dbf23be0",
=======
   "id": "139d126b",
>>>>>>> master
=======
   "id": "d25fe19b",
>>>>>>> master
   "metadata": {},
   "source": [
    "#  Nettoyer un texte: approche bag-of-words (exercices)\n",
    "\n"
   ]
  },
  {
   "cell_type": "markdown",
<<<<<<< HEAD
<<<<<<< HEAD
   "id": "479c9f31",
=======
   "id": "256f0f73",
>>>>>>> master
=======
   "id": "c3fde833",
>>>>>>> master
   "metadata": {},
   "source": [
    "<a href=\"https://github.com/linogaliana/python-datascientist/blob/master//__w/python-datascientist/python-datascientist/notebooks/course/NLP/02_exoclean.ipynb\" class=\"github\"><i class=\"fab fa-github\"></i></a>\n",
    "[![Download](https://img.shields.io/badge/Download-Notebook-important?logo=Jupyter)](https://downgit.github.io/#/home?url=https://github.com/linogaliana/python-datascientist/blob/master//__w/python-datascientist/python-datascientist/notebooks/course/NLP/02_exoclean.ipynb)\n",
    "[![nbviewer](https://img.shields.io/badge/Visualize-nbviewer-blue?logo=Jupyter)](https://nbviewer.jupyter.org/github/linogaliana/python-datascientist/blob/master//__w/python-datascientist/python-datascientist/notebooks/course/NLP/02_exoclean.ipynb)\n",
    "[![Onyxia](https://img.shields.io/badge/SSPcloud-Tester%20via%20SSP--cloud-informational&color=yellow?logo=Python)](https://datalab.sspcloud.fr/launcher/inseefrlab-helm-charts-datascience/jupyter?onyxia.friendlyName=«python-datascientist»&resources.requests.memory=«4Gi»&security.allowlist.enabled=false&init.personalInit=«https://raw.githubusercontent.com/linogaliana/python-datascientist/master/init_onyxia.sh»)\n",
    "<br>\n",
    "[![Binder](https://img.shields.io/badge/Launch-Binder-E66581.svg?logo=data:image/png;base64,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)](https://mybinder.org/v2/gh/linogaliana/python-datascientist/master?filepath=/__w/python-datascientist/python-datascientist/notebooks/course/NLP/02_exoclean.ipynb)\n",
    "[![Open In Colab](https://colab.research.google.com/assets/colab-badge.svg)](http://colab.research.google.com/github/linogaliana/python-datascientist/blob/master//__w/python-datascientist/python-datascientist/notebooks/course/NLP/02_exoclean.ipynb)\n",
    "[![githubdev](https://open.vscode.dev/badges/open-in-vscode.svg)](https://github.dev/linogaliana/python-datascientist//__w/python-datascientist/python-datascientist/notebooks/course/NLP/02_exoclean.ipynb)\n"
   ]
  },
  {
   "cell_type": "markdown",
<<<<<<< HEAD
<<<<<<< HEAD
   "id": "71ec2750",
=======
   "id": "765142a7",
>>>>>>> master
=======
   "id": "4df8729a",
>>>>>>> master
   "metadata": {},
   "source": [
    "Cette page approfondit certains aspects présentés dans la\n",
    "[partie introductive](#nlp). Après avoir travaillé sur le\n",
    "*Comte de Monte Cristo*, on va continuer notre exploration de la littérature\n",
    "avec cette fois des auteurs anglophones :\n",
    "\n",
    "* Edgar Allan Poe, (EAP) ;\n",
    "* HP Lovecraft (HPL) ;\n",
    "* Mary Wollstonecraft Shelley (MWS).\n",
    "\n",
    "Les données sont disponibles ici : [spooky.csv](https://github.com/GU4243-ADS/spring2018-project1-ginnyqg/blob/master/data/spooky.csv) et peuvent être requétées via l'url \n",
    "<https://github.com/GU4243-ADS/spring2018-project1-ginnyqg/raw/master/data/spooky.csv>.\n",
    "\n",
    "Le but va être dans un premier temps de regarder dans le détail les termes les plus fréquemment utilisés par les auteurs, de les représenter graphiquement.\n",
    "On prendra appui sur l'approche *bag of words* présentée dans le chapitre précédent[^1]."
   ]
  },
  {
   "cell_type": "markdown",
   "id": "da829d07",
   "metadata": {},
   "source": [
    "[^1]: L'approche *bag of words* est déjà, si on la pousse à ses limites, très intéressante. Elle peut notamment\n",
    "faciliter la mise en cohérence de différents corpus\n",
    "par la méthode des appariements flous\n",
    "(cf. [Galiana et al. 2022](https://epic-davinci-acb57b.netlify.app/#1).\n",
    "Le [chapitre sur ElasticSearch](#elastic) présent dans cette partie du cours présente quelques\n",
    "éléments de ce travail sur les données de l'`OpenFoodFacts`"
   ]
  },
  {
   "cell_type": "markdown",
<<<<<<< HEAD
<<<<<<< HEAD
   "id": "612572ae",
=======
   "id": "ce49650f",
>>>>>>> master
=======
   "id": "562be14b",
>>>>>>> master
   "metadata": {},
   "source": [
    "Ce notebook est librement inspiré de  : \n",
    "\n",
    "* https://www.kaggle.com/enerrio/scary-nlp-with-spacy-and-keras\n",
    "* https://github.com/GU4243-ADS/spring2018-project1-ginnyqg\n",
    "* https://www.kaggle.com/meiyizi/spooky-nlp-and-topic-modelling-tutorial/notebook\n",
    "\n",
    "Les chapitres suivants permettront d'introduire aux enjeux de modélisation\n",
    "de corpus textuels. Dans un premier temps, le modèle LDA permettra d'explorer\n",
    "le principe des modèles bayésiens à couche cachés pour modéliser les sujets (*topics*)\n",
    "présents dans un corpus et segmenter ces topics selon les mots qui les composent.\n",
    "\n",
    "Le dernier chapitre de la partie visera à\n",
    "prédire quel texte correspond à quel auteur à partir d'un modèle `Word2Vec`.\n",
    "Cela sera un pas supplémentaire dans la formalisation puisqu'il s'agira de\n",
    "représenter chaque mot d'un texte sous forme d'un vecteur de grande dimension, ce\n",
    "qui nous permettra de rapprocher les mots entre eux dans un espace complexe."
   ]
  },
  {
   "cell_type": "markdown",
<<<<<<< HEAD
<<<<<<< HEAD
   "id": "6d102cf3",
=======
   "id": "a0180d3a",
>>>>>>> master
=======
   "id": "593f28ad",
>>>>>>> master
   "metadata": {},
   "source": [
    "## Librairies nécessaires\n",
    "\n",
    "Cette page évoquera les principales librairies pour faire du NLP, notamment : \n",
    "\n",
    "* [WordCloud](https://github.com/amueller/word_cloud)\n",
    "* [nltk](https://www.nltk.org/)\n",
    "* [spacy](https://spacy.io/)\n",
    "* [Keras](https://keras.io/)\n",
    "* [TensorFlow](https://www.tensorflow.org/)\n",
    "\n",
    "Il faudra également installer les librairies `gensim` et `pywaffle`\n",
    "\n",
    "Comme dans la [partie précédente](#nlp), il faut télécharger quelques éléments pour que `NTLK` puisse fonctionner correctement. Pour cela, faire :\n"
   ]
  },
  {
   "cell_type": "code",
   "execution_count": null,
<<<<<<< HEAD
<<<<<<< HEAD
   "id": "d5152e2b",
=======
   "id": "fb56abe8",
>>>>>>> master
=======
   "id": "3d3c85db",
>>>>>>> master
   "metadata": {
    "lines_to_next_cell": 2
   },
   "outputs": [],
   "source": [
    "import nltk\n",
    "nltk.download('stopwords')\n",
    "nltk.download('punkt')\n",
    "nltk.download('genesis')\n",
    "nltk.download('wordnet')"
   ]
  },
  {
   "cell_type": "markdown",
<<<<<<< HEAD
<<<<<<< HEAD
   "id": "bf74b7d7",
=======
   "id": "6815163b",
>>>>>>> master
=======
   "id": "ed5ef0b5",
>>>>>>> master
   "metadata": {},
   "source": [
    "La liste des modules à importer est assez longue, la voici :\n"
   ]
  },
  {
   "cell_type": "code",
   "execution_count": null,
<<<<<<< HEAD
<<<<<<< HEAD
   "id": "676eddec",
=======
   "id": "e0e86d9c",
>>>>>>> master
=======
   "id": "24890e4c",
>>>>>>> master
   "metadata": {},
   "outputs": [],
   "source": [
    "import numpy as np\n",
    "import pandas as pd\n",
    "import seaborn as sns\n",
    "import matplotlib.pyplot as plt\n",
    "from wordcloud import WordCloud\n",
    "import base64\n",
    "import string\n",
    "import re\n",
    "import nltk\n",
    "\n",
    "from collections import Counter\n",
    "from time import time\n",
    "# from sklearn.feature_extraction.stop_words import ENGLISH_STOP_WORDS as stopwords\n",
    "from sklearn.metrics import log_loss\n",
    "import matplotlib.pyplot as plt\n",
    "#!pip install pywaffle\n",
    "from pywaffle import Waffle\n",
    "\n",
    "from nltk.stem import WordNetLemmatizer\n",
    "from sklearn.feature_extraction.text import TfidfVectorizer, CountVectorizer\n",
    "from sklearn.decomposition import NMF, LatentDirichletAllocation\n",
    "\n",
    "nltk.download('stopwords')"
   ]
  },
  {
   "cell_type": "code",
   "execution_count": null,
<<<<<<< HEAD
<<<<<<< HEAD
   "id": "36bf2acf",
=======
   "id": "768da033",
>>>>>>> master
=======
   "id": "0187f3c3",
>>>>>>> master
   "metadata": {},
   "outputs": [],
   "source": [
    "nltk.download('punkt')"
   ]
  },
  {
   "cell_type": "code",
   "execution_count": null,
<<<<<<< HEAD
<<<<<<< HEAD
   "id": "4322deef",
=======
   "id": "1f71d9fe",
>>>>>>> master
=======
   "id": "085391d7",
>>>>>>> master
   "metadata": {},
   "outputs": [],
   "source": [
    "nltk.download('genesis')"
   ]
  },
  {
   "cell_type": "code",
   "execution_count": null,
<<<<<<< HEAD
<<<<<<< HEAD
   "id": "90cc0e0f",
=======
   "id": "6c606a44",
>>>>>>> master
=======
   "id": "17c190dc",
>>>>>>> master
   "metadata": {},
   "outputs": [],
   "source": [
    "nltk.download('wordnet')"
   ]
  },
  {
   "cell_type": "markdown",
<<<<<<< HEAD
<<<<<<< HEAD
   "id": "dd4e7655",
=======
   "id": "242e06a8",
>>>>>>> master
=======
   "id": "ee0894f3",
>>>>>>> master
   "metadata": {},
   "source": [
    "## Données utilisées"
   ]
  },
  {
   "cell_type": "markdown",
<<<<<<< HEAD
<<<<<<< HEAD
   "id": "1cd4a0f6",
=======
   "id": "c1fa5808",
>>>>>>> master
=======
   "id": "fb76b1f0",
>>>>>>> master
   "metadata": {},
   "source": [
    "**Exercice 1 : Importer les données spooky** [OPTIONNEL]\n",
    "\n",
    "*Pour ceux qui ont envie de tester leurs connaissances en pandas*\n"
   ]
  },
  {
   "cell_type": "code",
   "execution_count": null,
<<<<<<< HEAD
<<<<<<< HEAD
   "id": "c8efed88",
=======
   "id": "da539df1",
>>>>>>> master
=======
   "id": "8fb43157",
>>>>>>> master
   "metadata": {},
   "outputs": [],
   "source": [
    "# packages utiles\n",
    "import pandas as pd"
   ]
  },
  {
   "cell_type": "markdown",
<<<<<<< HEAD
<<<<<<< HEAD
   "id": "fff8ab1f",
=======
   "id": "b376d519",
>>>>>>> master
=======
   "id": "7b19fb0c",
>>>>>>> master
   "metadata": {},
   "source": [
    "1. Importer le jeu de données `spooky` à partir de l'URL <https://github.com/GU4243-ADS/spring2018-project1-ginnyqg/raw/master/data/spooky.csv> sous le nom `train`. L'encoding est `latin-1`\n"
   ]
  },
  {
   "cell_type": "code",
   "execution_count": null,
<<<<<<< HEAD
<<<<<<< HEAD
   "id": "aeb97db4",
=======
   "id": "c230764e",
>>>>>>> master
=======
   "id": "b72cd712",
>>>>>>> master
   "metadata": {},
   "outputs": [],
   "source": [
    "#1. Import des données\n",
    "url='https://github.com/GU4243-ADS/spring2018-project1-ginnyqg/raw/master/data/spooky.csv'\n",
    "train = pd.read_csv(url,encoding='latin-1')"
   ]
  },
  {
   "cell_type": "markdown",
<<<<<<< HEAD
<<<<<<< HEAD
   "id": "51ae466b",
=======
   "id": "e4167563",
>>>>>>> master
=======
   "id": "546b6124",
>>>>>>> master
   "metadata": {},
   "source": [
    "2. Mettre des majuscules au nom des colonnes.\n"
   ]
  },
  {
   "cell_type": "code",
   "execution_count": null,
<<<<<<< HEAD
<<<<<<< HEAD
   "id": "40327029",
=======
   "id": "9ac37141",
>>>>>>> master
=======
   "id": "e1f5aa86",
>>>>>>> master
   "metadata": {},
   "outputs": [],
   "source": [
    "#2. Majuscules aux noms des colonnes\n",
    "train.columns = train.columns.str.capitalize()"
   ]
  },
  {
   "cell_type": "markdown",
<<<<<<< HEAD
<<<<<<< HEAD
   "id": "fceea0ac",
=======
   "id": "98600927",
>>>>>>> master
=======
   "id": "da52a46a",
>>>>>>> master
   "metadata": {},
   "source": [
    "3. Retirer le prefix `id` de la colonne `Id` et appeler la nouvelle colonne `ID`.\n"
   ]
  },
  {
   "cell_type": "code",
   "execution_count": null,
<<<<<<< HEAD
<<<<<<< HEAD
   "id": "954b0742",
=======
   "id": "202d2848",
>>>>>>> master
=======
   "id": "df42e2d8",
>>>>>>> master
   "metadata": {
    "lines_to_next_cell": 2
   },
   "outputs": [],
   "source": [
    "#3. Retirer le prefixe id\n",
    "train['ID'] = train['Id'].str.replace(\"id\",\"\")"
   ]
  },
  {
   "cell_type": "markdown",
<<<<<<< HEAD
<<<<<<< HEAD
   "id": "f518e961",
=======
   "id": "2d8b1254",
>>>>>>> master
=======
   "id": "40d53a1f",
>>>>>>> master
   "metadata": {},
   "source": [
    "4. Mettre l'ancienne colonne `Id` en index. \n"
   ]
  },
  {
   "cell_type": "code",
   "execution_count": null,
<<<<<<< HEAD
<<<<<<< HEAD
   "id": "924fb9af",
=======
   "id": "2bfb9f60",
>>>>>>> master
=======
   "id": "e4b022cd",
>>>>>>> master
   "metadata": {
    "lines_to_next_cell": 0
   },
   "outputs": [],
   "source": [
    "#3. Retirer le prefixe id\n",
    "train = train.set_index('ID')\n",
    "#train.head()"
   ]
  },
  {
   "cell_type": "markdown",
<<<<<<< HEAD
<<<<<<< HEAD
   "id": "f2243e1f",
=======
   "id": "10af77da",
>>>>>>> master
=======
   "id": "b201a84a",
>>>>>>> master
   "metadata": {},
   "source": [
    "\n"
   ]
  },
  {
   "cell_type": "markdown",
<<<<<<< HEAD
<<<<<<< HEAD
   "id": "5aa27785",
=======
   "id": "757dd465",
>>>>>>> master
=======
   "id": "dee816e5",
>>>>>>> master
   "metadata": {},
   "source": [
    "Si vous ne faites pas l'exercice 1, pensez à charger les données en executant la fonction `get_data.py` :\n"
   ]
  },
  {
   "cell_type": "code",
   "execution_count": null,
<<<<<<< HEAD
<<<<<<< HEAD
   "id": "8251b87d",
=======
   "id": "52e9d548",
>>>>>>> master
=======
   "id": "5e699083",
>>>>>>> master
   "metadata": {},
   "outputs": [],
   "source": [
    "import requests\n",
    "\n",
    "url = 'https://raw.githubusercontent.com/linogaliana/python-datascientist/master/content/course/NLP/get_data.py'\n",
    "r = requests.get(url, allow_redirects=True)\n",
    "open('getdata.py', 'wb').write(r.content)"
   ]
  },
  {
   "cell_type": "markdown",
<<<<<<< HEAD
<<<<<<< HEAD
   "id": "a3ddff37",
=======
   "id": "9d2556f5",
>>>>>>> master
=======
   "id": "eea47839",
>>>>>>> master
   "metadata": {},
   "source": [
    "```\n",
    "## 341\n",
    "```"
   ]
  },
  {
   "cell_type": "code",
   "execution_count": null,
<<<<<<< HEAD
<<<<<<< HEAD
   "id": "8b216017",
=======
   "id": "be326ff6",
>>>>>>> master
=======
   "id": "ff309606",
>>>>>>> master
   "metadata": {},
   "outputs": [],
   "source": [
    "import getdata\n",
    "train = getdata.create_train_dataframes()"
   ]
  },
  {
   "cell_type": "markdown",
<<<<<<< HEAD
<<<<<<< HEAD
   "id": "2d84769f",
=======
   "id": "d627f68e",
>>>>>>> master
=======
   "id": "eb41a72f",
>>>>>>> master
   "metadata": {},
   "source": [
    "Ce code introduit une base nommée `train` dans l'environnement.\n"
   ]
  },
  {
   "cell_type": "markdown",
<<<<<<< HEAD
<<<<<<< HEAD
   "id": "d2d9d954",
=======
   "id": "79a6b506",
>>>>>>> master
=======
   "id": "c7241e39",
>>>>>>> master
   "metadata": {},
   "source": [
    "Le jeu de données met ainsi en regard un auteur avec une phrase qu'il a écrite : \n"
   ]
  },
  {
   "cell_type": "code",
   "execution_count": null,
<<<<<<< HEAD
<<<<<<< HEAD
   "id": "ec7514dd",
=======
   "id": "690edef9",
>>>>>>> master
=======
   "id": "7dbf3840",
>>>>>>> master
   "metadata": {},
   "outputs": [],
   "source": [
    "train.head()"
   ]
  },
  {
   "cell_type": "markdown",
<<<<<<< HEAD
<<<<<<< HEAD
   "id": "6561e4ce",
=======
   "id": "b72ed4f2",
>>>>>>> master
=======
   "id": "5bd245be",
>>>>>>> master
   "metadata": {},
   "source": [
    "```\n",
    "##                                                       Text Author     ID\n",
    "## Id                                                                      \n",
    "## id26305  This process, however, afforded me no means of...    EAP  26305\n",
    "## id17569  It never once occurred to me that the fumbling...    HPL  17569\n",
    "## id11008  In his left hand was a gold snuff box, from wh...    EAP  11008\n",
    "## id27763  How lovely is spring As we looked from Windsor...    MWS  27763\n",
    "## id12958  Finding nothing else, not even gold, the Super...    HPL  12958\n",
    "```\n",
    "\n"
   ]
  },
  {
   "cell_type": "markdown",
<<<<<<< HEAD
<<<<<<< HEAD
   "id": "ad6f4210",
=======
   "id": "711a9d3b",
>>>>>>> master
   "metadata": {},
   "source": [
    "On peut se rendre compte que les extraits des 3 auteurs ne sont pas forcément équilibrés dans le jeu de données. Il faudra en tenir compte dans la prédiction. \n"
   ]
  },
  {
   "cell_type": "code",
   "execution_count": null,
<<<<<<< HEAD
   "id": "96d7c31d",
=======
   "id": "ce5fdf69",
>>>>>>> master
   "metadata": {
    "lines_to_next_cell": 0
   },
   "outputs": [],
   "source": [
    "fig = plt.figure()\n",
    "sns.barplot(x=['Edgar Allen Poe', 'Mary W. Shelley', 'H.P. Lovecraft'], y=train['Author'].value_counts())\n",
    "plt.savefig(\"wordfreq.png\", bbox_inches='tight')"
=======
   "id": "c0eac9e4",
   "metadata": {},
   "source": [
    "On peut se rendre compte que les extraits des 3 auteurs ne sont pas forcément équilibrés dans le jeu de données. Il faudra en tenir compte dans la prédiction. \n",
    "\n",
    "\n",
    "\n",
    "\n"
>>>>>>> master
   ]
  },
  {
   "cell_type": "markdown",
<<<<<<< HEAD
<<<<<<< HEAD
   "id": "70d69daf",
=======
   "id": "05359af5",
>>>>>>> master
   "metadata": {},
   "source": []
  },
  {
   "cell_type": "markdown",
<<<<<<< HEAD
   "id": "d5bff89e",
=======
   "id": "9d47ecd3",
>>>>>>> master
=======
   "id": "bf3904af",
>>>>>>> master
   "metadata": {},
   "source": [
    "L'approche *bag of words* est présentée de\n",
    "manière plus extensive dans le [chapitre précédent](#nlp).\n",
    "\n",
    "L'idée est d'étudier la fréquence des mots d'un document et la\n",
    "surreprésentation des mots par rapport à un document de\n",
    "référence (appelé *corpus*).\n",
    "\n",
    "Cette approche un peu simpliste mais très\n",
    "efficace : on peut calculer des scores permettant par exemple de faire\n",
    "de classification automatique de document par thème, de comparer la\n",
    "similarité de deux documents. Elle est souvent utilisée en première analyse,\n",
    "et elle reste la référence pour l'analyse de textes mal\n",
    "structurés (tweets, dialogue tchat, etc.). \n",
    "\n",
    "Les analyses tf-idf (*term frequency-inverse document frequency*) ou les\n",
    "constructions d'indices de similarité cosinus reposent sur ce type d'approche"
   ]
  },
  {
   "cell_type": "markdown",
<<<<<<< HEAD
<<<<<<< HEAD
   "id": "bb54819a",
=======
   "id": "637b9f78",
>>>>>>> master
=======
   "id": "2e0d4fc1",
>>>>>>> master
   "metadata": {},
   "source": [
    "## Fréquence d'un mot\n",
    "\n",
    "Avant de s'adonner à une analyse systématique du champ lexical de chaque\n",
    "auteur, on se focaliser dans un premier temps sur un unique mot, le mot *fear*. \n",
    "\n",
    "L'exercice ci-dessous présente une représentation graphique nommée \n",
    "*waffle chart*. Il s'agit d'une représentation graphique préférable aux\n",
    "camemberts qui sont des graphiques manipulables car l'oeil humain se laisse\n",
    "facilement berner par cette représentation graphique qui ne respecte pas\n",
    "les proportions. "
   ]
  },
  {
   "cell_type": "markdown",
<<<<<<< HEAD
<<<<<<< HEAD
   "id": "ac24a557",
=======
   "id": "9ba1e5b5",
>>>>>>> master
=======
   "id": "3206556b",
>>>>>>> master
   "metadata": {},
   "source": [
    "**Exercice 2 : Fréquence d'un mot** \n",
    "\n",
    "1. Compter le nombre de phrases, pour chaque auteur, où apparaît le mot `fear`.\n"
   ]
  },
  {
   "cell_type": "code",
   "execution_count": null,
<<<<<<< HEAD
<<<<<<< HEAD
   "id": "f2c15a78",
=======
   "id": "5fa7198a",
>>>>>>> master
=======
   "id": "c6d95eda",
>>>>>>> master
   "metadata": {},
   "outputs": [],
   "source": [
    "#1. Compter le nombre de phrase pour chaque auteur avec fear\n",
    "def nb_occurrences(word, train_data):\n",
    "    train_data['wordtoplot'] = train_data['Text'].str.contains(word).astype(int)\n",
    "    table = train.groupby('Author').sum()\n",
    "    data = table.to_dict()['wordtoplot']\n",
    "    return table\n",
    "  \n",
    "table = nb_occurrences(\"fear\", train)\n",
    "table.head()"
   ]
  },
  {
   "cell_type": "markdown",
<<<<<<< HEAD
<<<<<<< HEAD
   "id": "ff6766f8",
=======
   "id": "030bd9b8",
>>>>>>> master
=======
   "id": "344f2534",
>>>>>>> master
   "metadata": {},
   "source": [
    "```\n",
    "##         wordtoplot\n",
    "## Author            \n",
    "## EAP             70\n",
    "## HPL            160\n",
    "## MWS            211\n",
    "```\n",
    "\n",
    "2. Utiliser `pywaffle` pour obtenir les graphiques ci-dessous qui résument\n",
    "de manière synthétique le nombre d'occurrences du mot *\"fear\"* par auteur.\n",
    "\n"
   ]
  },
  {
   "cell_type": "code",
   "execution_count": null,
<<<<<<< HEAD
<<<<<<< HEAD
   "id": "430ef8fe",
=======
   "id": "ef8a8533",
>>>>>>> master
=======
   "id": "feee2329",
>>>>>>> master
   "metadata": {
    "lines_to_next_cell": 2
   },
   "outputs": [],
   "source": [
    "\n",
    "#2. Faire un graphique d'occurences avc pywaffle\n",
    "def graph_occurrence(word, train_data):\n",
    "    table = nb_occurrences(word, train_data)\n",
    "    data = table.to_dict()['wordtoplot']\n",
    "    fig = plt.figure(\n",
    "        FigureClass=Waffle, \n",
    "        rows=15, \n",
    "        values=data, \n",
    "        title={'label': 'Utilisation du mot \"%s\" par les auteurs' %word, 'loc': 'left'},\n",
    "        labels=[\"{0} ({1})\".format(k, v) for k, v in data.items()]\n",
    "    )\n",
    "    return fig\n",
    "\n",
    "fig = graph_occurrence(\"fear\", train)\n",
    "plt.savefig(\"fear.png\", bbox_inches='tight')"
   ]
  },
  {
   "cell_type": "markdown",
<<<<<<< HEAD
<<<<<<< HEAD
   "id": "b81a36ec",
=======
   "id": "c4d2c823",
>>>>>>> master
=======
   "id": "b32acd74",
>>>>>>> master
   "metadata": {},
   "source": [
    "```r\n",
    "knitr::include_graphics(\"fear.png\")\n",
    "```"
   ]
  },
  {
   "cell_type": "markdown",
<<<<<<< HEAD
<<<<<<< HEAD
   "id": "e4b0e1e4",
=======
   "id": "0981d1be",
>>>>>>> master
=======
   "id": "9315b37d",
>>>>>>> master
   "metadata": {},
   "source": [
    "3. Refaire l'analyse avec le mot *\"horror\"*. \n"
   ]
  },
  {
   "cell_type": "code",
   "execution_count": null,
<<<<<<< HEAD
<<<<<<< HEAD
   "id": "8a0ac48d",
=======
   "id": "59d9bc69",
>>>>>>> master
=======
   "id": "3116a1c0",
>>>>>>> master
   "metadata": {
    "lines_to_next_cell": 2
   },
   "outputs": [],
   "source": [
    "#3. Graphe d'occurences avec le mot horror\n",
    "fig = graph_occurrence(\"horror\", train)\n",
    "plt.savefig(\"horror.png\", bbox_inches='tight')"
   ]
  },
  {
   "cell_type": "markdown",
<<<<<<< HEAD
<<<<<<< HEAD
   "id": "2527e7e3",
=======
   "id": "8e3b4f81",
>>>>>>> master
=======
   "id": "37054526",
>>>>>>> master
   "metadata": {},
   "source": [
    "```r\n",
    "knitr::include_graphics(\"horror.png\")\n",
    "```"
   ]
  },
  {
   "cell_type": "markdown",
<<<<<<< HEAD
<<<<<<< HEAD
   "id": "51d33ffe",
=======
   "id": "fa8d1e64",
>>>>>>> master
=======
   "id": "2e2e1f71",
>>>>>>> master
   "metadata": {},
   "source": [
    "La peur est ainsi plus évoquée par Mary Shelley\n",
    "(sentiment assez naturel face à la créature du docteur Frankenstein) alors\n",
    "que Lovecraft n'a pas volé sa réputation d'écrivain de l'horreur !"
   ]
  },
  {
   "cell_type": "markdown",
<<<<<<< HEAD
<<<<<<< HEAD
   "id": "63f32b80",
=======
   "id": "34641a62",
>>>>>>> master
=======
   "id": "29bc6781",
>>>>>>> master
   "metadata": {},
   "source": [
    "## Premier *wordcloud*\n",
    "\n",
    "Pour aller plus loin dans l'analyse du champ lexical de chaque auteur,\n",
    "on peut représenter un `wordcloud` qui permet d'afficher chaque mot avec une\n",
    "taille proportionnelle au nombre d'occurrence de celui-ci."
   ]
  },
  {
   "cell_type": "markdown",
<<<<<<< HEAD
<<<<<<< HEAD
   "id": "6d886202",
=======
   "id": "d9a6ecc4",
>>>>>>> master
=======
   "id": "1b94ab5d",
>>>>>>> master
   "metadata": {},
   "source": [
    "**Exercice 3 : Wordcloud** \n",
    "\n",
    "1. En utilisant la fonction `wordCloud`, faire trois nuages de mot pour représenter les mots les plus utilisés par chaque auteur.\n"
   ]
  },
  {
   "cell_type": "code",
   "execution_count": null,
<<<<<<< HEAD
<<<<<<< HEAD
   "id": "1a20fa82",
=======
   "id": "46ec403a",
>>>>>>> master
=======
   "id": "a6040b29",
>>>>>>> master
   "metadata": {},
   "outputs": [],
   "source": [
    "\n",
    "#1. Wordclouds\n",
    "def graph_wordcloud(author, train_data, varname = \"Text\"):\n",
    "  txt = train_data[train_data['Author']==author][varname]\n",
    "  all_text = ' '.join([text for text in txt])\n",
    "  wordcloud = WordCloud(width=800, height=500,\n",
    "                      random_state=21,\n",
    "                      max_words=2000).generate(all_text)\n",
    "  return wordcloud\n",
    "\n",
    "n_topics = [\"HPL\",\"EAP\",\"MWS\"]\n",
    "\n",
    "fig = plt.figure(figsize=(15, 12))\n",
    "for i in range(len(n_topics)):\n",
    "    ax = fig.add_subplot(2,2,i+1)\n",
    "    wordcloud = graph_wordcloud(n_topics[i], train)\n",
    "\n",
    "    ax.imshow(wordcloud)\n",
    "    ax.axis('off')"
   ]
  },
  {
   "cell_type": "markdown",
<<<<<<< HEAD
<<<<<<< HEAD
   "id": "400fa421",
   "metadata": {},
   "source": [
    "```\n",
    "## <matplotlib.image.AxesImage object at 0x7ff3b75f7a90>\n",
    "## (-0.5, 799.5, 499.5, -0.5)\n",
    "## <matplotlib.image.AxesImage object at 0x7ff3b759a640>\n",
    "## (-0.5, 799.5, 499.5, -0.5)\n",
    "## <matplotlib.image.AxesImage object at 0x7ff3b74534f0>\n",
=======
   "id": "c4257a92",
=======
   "id": "c6cfe492",
>>>>>>> master
   "metadata": {},
   "source": [
    "```\n",
    "## <matplotlib.image.AxesImage object at 0x7fbc98d16220>\n",
    "## (-0.5, 799.5, 499.5, -0.5)\n",
    "## <matplotlib.image.AxesImage object at 0x7fbc98d3fe50>\n",
    "## (-0.5, 799.5, 499.5, -0.5)\n",
<<<<<<< HEAD
    "## <matplotlib.image.AxesImage object at 0x7f10f1958550>\n",
>>>>>>> master
=======
    "## <matplotlib.image.AxesImage object at 0x7fbc98b94bb0>\n",
>>>>>>> master
    "## (-0.5, 799.5, 499.5, -0.5)\n",
    "```"
   ]
  },
  {
   "cell_type": "code",
   "execution_count": null,
<<<<<<< HEAD
<<<<<<< HEAD
   "id": "2def080f",
=======
   "id": "23e930ba",
>>>>>>> master
=======
   "id": "9e6e8a68",
>>>>>>> master
   "metadata": {
    "lines_to_next_cell": 2
   },
   "outputs": [],
   "source": [
    "plt.savefig('wordcloud1.png', bbox_inches='tight')"
   ]
  },
  {
   "cell_type": "markdown",
<<<<<<< HEAD
<<<<<<< HEAD
   "id": "adb533dc",
=======
   "id": "2333a6da",
>>>>>>> master
=======
   "id": "47d2e0bb",
>>>>>>> master
   "metadata": {},
   "source": [
    "```r\n",
    "knitr::include_graphics(\"wordcloud1.png\")\n",
    "```\n"
   ]
  },
  {
   "cell_type": "markdown",
<<<<<<< HEAD
<<<<<<< HEAD
   "id": "cb435687",
=======
   "id": "38fbc065",
>>>>>>> master
=======
   "id": "f0d65810",
>>>>>>> master
   "metadata": {},
   "source": [
    "2. Calculer les 25 mots plus communs pour chaque auteur et représenter les trois histogrammes des décomptes. \n"
   ]
  },
  {
   "cell_type": "code",
   "execution_count": null,
<<<<<<< HEAD
<<<<<<< HEAD
   "id": "9442cd2d",
=======
   "id": "28fed660",
>>>>>>> master
=======
   "id": "ac2ec5b8",
>>>>>>> master
   "metadata": {},
   "outputs": [],
   "source": [
    "\n",
    "#2. Histogramme de décompte\n",
    "count_words = pd.DataFrame({'counter' : train\n",
    "    .groupby('Author')\n",
    "    .apply(lambda s: ' '.join(s['Text']).split())\n",
    "    .apply(lambda s: Counter(s))\n",
    "    .apply(lambda s: s.most_common(25))\n",
    "    .explode()}\n",
    ")\n",
    "count_words[['word','count']] = pd.DataFrame(count_words['counter'].tolist(),\n",
    "index=count_words.index)\n",
    "count_words = count_words.reset_index()\n",
    "g = sns.FacetGrid(count_words, row=\"Author\")\n",
    "g.map_dataframe(sns.barplot, x=\"word\", y=\"count\")"
   ]
  },
  {
   "cell_type": "markdown",
<<<<<<< HEAD
<<<<<<< HEAD
   "id": "536ef519",
   "metadata": {},
   "source": [
    "```\n",
    "## <seaborn.axisgrid.FacetGrid object at 0x7ff3b74535b0>\n",
=======
   "id": "520d8593",
   "metadata": {},
   "source": [
    "```\n",
    "## <seaborn.axisgrid.FacetGrid object at 0x7f10f1958610>\n",
>>>>>>> master
=======
   "id": "324382fa",
   "metadata": {},
   "source": [
    "```\n",
    "## <seaborn.axisgrid.FacetGrid object at 0x7fbc98b94c70>\n",
>>>>>>> master
    "```"
   ]
  },
  {
   "cell_type": "code",
   "execution_count": null,
<<<<<<< HEAD
<<<<<<< HEAD
   "id": "3b36d009",
=======
   "id": "c4cf21ec",
>>>>>>> master
=======
   "id": "e56eff7b",
>>>>>>> master
   "metadata": {
    "lines_to_next_cell": 2
   },
   "outputs": [],
   "source": [
    "plt.savefig('wordcount1.png', bbox_inches='tight')"
   ]
  },
  {
   "cell_type": "markdown",
<<<<<<< HEAD
<<<<<<< HEAD
   "id": "bd3de3d0",
=======
   "id": "a60d32bb",
>>>>>>> master
=======
   "id": "ec7e43db",
>>>>>>> master
   "metadata": {},
   "source": [
    "```r\n",
    "knitr::include_graphics(\"wordcount1.png\")\n",
    "```"
   ]
  },
  {
   "cell_type": "markdown",
<<<<<<< HEAD
<<<<<<< HEAD
   "id": "c2997fba",
=======
   "id": "86495e15",
>>>>>>> master
=======
   "id": "97e2b4ad",
>>>>>>> master
   "metadata": {},
   "source": [
    "On voit ici que ce sont des mots communs, comme *\"the\"*, *\"of\"*, etc. sont très\n",
    "présents. Mais ils sont peu porteurs d'information, on peut donc les éliminer\n",
    "avant de faire une analyse syntaxique poussée.\n",
    "Ceci est une démonstration par l'exemple qu'il vaut mieux nettoyer le texte avant de \n",
    "l'analyser (sauf si on est intéressé\n",
    "par la loi de Zipf, cf. exercice suivant).\n",
    "\n"
   ]
  },
  {
   "cell_type": "markdown",
<<<<<<< HEAD
<<<<<<< HEAD
   "id": "8243ef27",
=======
   "id": "94148e56",
>>>>>>> master
=======
   "id": "725bcb0a",
>>>>>>> master
   "metadata": {},
   "source": [
    "## Aparté: la loi de Zipf\n",
    "\n",
    "Dans son sens strict, la loi de Zipf prévoit que\n",
    "dans un texte donné, la fréquence d'occurrence $f(n_i)$ d'un mot est\n",
    "liée à son rang $n_i$ dans l'ordre des fréquences par une loi de la forme\n",
    "$f(n_i) = c/n_i$ où $c$ est une constante. Zipf, dans les années 1930, se basait sur l'oeuvre \n",
    "de Joyce, *Ulysse* pour cette affirmation. \n",
    "\n",
    "Plus généralement, on peut dériver la loi de Zipf d'une distribution exponentielle des fréquences: $f(n_i) = cn_{i}^{-k}$. Cela permet d'utiliser la famille des modèles linéaires généralisés, notamment les régressions poissonniennes, pour mesurer les paramètres de la loi. Les modèles linéaire traditionnels en `log` souffrent en effet, dans ce contexte, de biais (la loi de Zipf est un cas particulier d'un modèle gravitaire, où appliquer des OLS est une mauvaise idée, cf. [Galiana et al. (2020)](https://linogaliana.netlify.app/publication/2020-segregation/) pour les limites).\n",
    "\n",
    "On va estimer le modèle suivant par GLM via `statsmodels`:\n",
    "\n",
    "$$\n",
    "\\mathbb{E}\\bigg( f(n_i)|n_i \\bigg) = \\exp(\\beta_0 + \\beta_1 \\log(n_i))\n",
    "$$\n",
    "\n",
    "Prenons les résultats de l'exercice précédent et enrichissons les du rang et de la fréquence d'occurrence d'un mot : \n",
    "\n",
    "<!-- source : https://stackoverflow.com/questions/23377108/pandas-percentage-of-total-with-groupby -->\n"
   ]
  },
  {
   "cell_type": "code",
   "execution_count": null,
<<<<<<< HEAD
<<<<<<< HEAD
   "id": "a63b5cef",
=======
   "id": "66c9de77",
>>>>>>> master
=======
   "id": "9b6c10a6",
>>>>>>> master
   "metadata": {
    "lines_to_next_cell": 2
   },
   "outputs": [],
   "source": [
    "count_words = pd.DataFrame({'counter' : train\n",
    "    .groupby('Author')\n",
    "    .apply(lambda s: ' '.join(s['Text']).split())\n",
    "    .apply(lambda s: Counter(s))\n",
    "    .apply(lambda s: s.most_common())\n",
    "    .explode()}\n",
    ")\n",
    "count_words[['word','count']] = pd.DataFrame(count_words['counter'].tolist(), index=count_words.index)\n",
    "count_words = count_words.reset_index()\n",
    "\n",
    "count_words = count_words.assign(\n",
    "    tot_mots_auteur = lambda x: (x.groupby(\"Author\")['count'].transform('sum')),\n",
    "    freq = lambda x: x['count'] /  x['tot_mots_auteur'],\n",
    "    rank = lambda x: x.groupby(\"Author\")['count'].transform('rank', ascending = False)\n",
    ")"
   ]
  },
  {
   "cell_type": "code",
   "execution_count": null,
<<<<<<< HEAD
<<<<<<< HEAD
   "id": "06897e62",
=======
   "id": "ee997923",
>>>>>>> master
=======
   "id": "3a936276",
>>>>>>> master
   "metadata": {
    "lines_to_next_cell": 0
   },
   "outputs": [],
   "source": [
    "g = sns.lmplot(y = \"freq\", x = \"rank\", hue = 'Author', data = count_words, fit_reg = False)\n",
    "g.set(xscale=\"log\", yscale=\"log\")\n",
    "g"
   ]
  },
  {
   "cell_type": "markdown",
<<<<<<< HEAD
<<<<<<< HEAD
   "id": "665fb8f2",
=======
   "id": "dc577cc1",
>>>>>>> master
=======
   "id": "046c775a",
>>>>>>> master
   "metadata": {},
   "source": [
    "\n"
   ]
  },
  {
   "cell_type": "markdown",
<<<<<<< HEAD
<<<<<<< HEAD
   "id": "17c87037",
=======
   "id": "a012dc7b",
>>>>>>> master
=======
   "id": "fb4534f9",
>>>>>>> master
   "metadata": {},
   "source": [
    "```r\n",
    "knitr::include_graphics(\"zipf.png\")\n",
    "```\n",
    "\n",
    "\n"
   ]
  },
  {
   "cell_type": "code",
   "execution_count": null,
<<<<<<< HEAD
<<<<<<< HEAD
   "id": "ed2b4e27",
=======
   "id": "3244efd6",
>>>>>>> master
=======
   "id": "a1f772cf",
>>>>>>> master
   "metadata": {},
   "outputs": [],
   "source": [
    "import statsmodels.api as sm\n",
    "\n",
    "\n",
    "exog = sm.add_constant(np.log(count_words['rank'].astype(float)))\n",
    "\n",
    "model = sm.GLM(count_words['freq'].astype(float), exog, family = sm.families.Poisson()).fit()\n",
    "\n",
    "# Afficher les résultats du modèle\n",
    "print(model.summary())"
   ]
  },
  {
   "cell_type": "markdown",
<<<<<<< HEAD
<<<<<<< HEAD
   "id": "a3ccbe8b",
=======
   "id": "b6520543",
>>>>>>> master
=======
   "id": "89b6f5c2",
>>>>>>> master
   "metadata": {},
   "source": [
    "<!-- TO BE COMPLETED -->\n"
   ]
  },
  {
   "cell_type": "markdown",
<<<<<<< HEAD
<<<<<<< HEAD
   "id": "423bb297",
=======
   "id": "ccae32da",
>>>>>>> master
=======
   "id": "956c6076",
>>>>>>> master
   "metadata": {},
   "source": [
    "## Nettoyage d'un texte\n",
    "\n",
    "Les premières étapes dans le nettoyage d'un texte, qu'on a\n",
    "développé au cours du [chapitre précédent](#nlp), sont :\n",
    "\n",
    "* suppression de la ponctuation\n",
    "* suppression des *stopwords*\n",
    "\n",
    "Cela passe par la tokenisation d'un texte, c'est-à-dire la décomposition\n",
    "de celui-ci en unités lexicales (les *tokens*). Ces unités lexicales peuvent être de différentes natures, selon l'analyse que l'on désire mener. Ici, on va définir les tokens comme étant les mots utilisés.\n",
    "\n",
    "Plutôt que de faire soi-même ce travail de nettoyage, avec des fonctions mal optimisées, on peut utiliser la librairie `nltk` comme détaillé [précédemment](#nlp). \n"
   ]
  },
  {
   "cell_type": "markdown",
<<<<<<< HEAD
<<<<<<< HEAD
   "id": "aa6ed22c",
=======
   "id": "cb7c21ae",
>>>>>>> master
=======
   "id": "b335816d",
>>>>>>> master
   "metadata": {},
   "source": [
    "**Exercice 4 : Nettoyage du texte** \n",
    "\n",
<<<<<<< HEAD
    "Repartir de `train`, notre jeu de données d'entraînement. Pour rappel, `train` a la structure suivante:\n"
   ]
  },
  {
   "cell_type": "code",
   "execution_count": null,
<<<<<<< HEAD
   "id": "50b9eb26",
=======
   "id": "36fe0a7e",
>>>>>>> master
   "metadata": {},
   "outputs": [],
   "source": [
    "train.head(2)"
=======
    "Repartir de `train`, notre jeu de données d'entraînement. Pour rappel, `train` a la structure suivante:"
>>>>>>> master
   ]
  },
  {
   "cell_type": "markdown",
<<<<<<< HEAD
<<<<<<< HEAD
   "id": "feff8dec",
=======
   "id": "911e1978",
>>>>>>> master
=======
   "id": "f7ea94f6",
>>>>>>> master
   "metadata": {},
   "source": [
    "```\n",
    "##                                                       Text  ... wordtoplot\n",
    "## Id                                                          ...           \n",
    "## id26305  This process, however, afforded me no means of...  ...          0\n",
    "## id17569  It never once occurred to me that the fumbling...  ...          0\n",
    "## \n",
    "## [2 rows x 4 columns]\n",
    "```\n",
    "\n",
    "1. Tokeniser chaque phrase avec `nltk`. Le `DataFrame` devrait maintenant avoir cet aspect :\n"
   ]
  },
  {
   "cell_type": "code",
   "execution_count": null,
<<<<<<< HEAD
<<<<<<< HEAD
   "id": "ac94470e",
=======
   "id": "6e1b9ad4",
>>>>>>> master
=======
   "id": "3a74ca2a",
>>>>>>> master
   "metadata": {},
   "outputs": [],
   "source": [
    "#1. Tokenisation\n",
    "train_clean = (train\n",
    "    .groupby([\"ID\",\"Author\"])\n",
    "    .apply(lambda s: nltk.word_tokenize(' '.join(s['Text'])))\n",
    "    .apply(lambda words: [word for word in words if word.isalpha()])\n",
    ")\n",
    "train_clean.head(2)"
   ]
  },
  {
   "cell_type": "markdown",
<<<<<<< HEAD
<<<<<<< HEAD
   "id": "61db5371",
=======
   "id": "a21152fa",
>>>>>>> master
=======
   "id": "08768c26",
>>>>>>> master
   "metadata": {},
   "source": [
    "```\n",
    "## ID     Author\n",
    "## 00001  MWS       [Idris, was, well, content, with, this, resolv...\n",
    "## 00002  HPL       [I, was, faint, even, fainter, than, the, hate...\n",
    "## dtype: object\n",
    "```\n",
    "\n",
    "2. Retirer les stopwords avec `nltk`.\n"
   ]
  },
  {
   "cell_type": "code",
   "execution_count": null,
<<<<<<< HEAD
<<<<<<< HEAD
   "id": "7b8607ca",
=======
   "id": "8a5e9df9",
>>>>>>> master
=======
   "id": "a8547cca",
>>>>>>> master
   "metadata": {},
   "outputs": [],
   "source": [
    "#2. Enlever les stopwords.\n",
    "from nltk.corpus import stopwords  \n",
    "stop_words = set(stopwords.words('english'))\n",
    "\n",
    "train_clean = (train_clean\n",
    "    .apply(lambda words: [w for w in words if not w in stop_words])\n",
    "    .reset_index(name='tokenized')\n",
    ")\n",
    "\n",
    "train_clean.head(2)"
   ]
  },
  {
   "cell_type": "markdown",
<<<<<<< HEAD
<<<<<<< HEAD
   "id": "2a095200",
=======
   "id": "40cf3edb",
>>>>>>> master
=======
   "id": "3842fe19",
>>>>>>> master
   "metadata": {},
   "source": [
    "```\n",
    "##       ID Author                                          tokenized\n",
    "## 0  00001    MWS              [Idris, well, content, resolve, mine]\n",
    "## 1  00002    HPL  [I, faint, even, fainter, hateful, modernity, ...\n",
    "```"
   ]
  },
  {
   "cell_type": "markdown",
<<<<<<< HEAD
<<<<<<< HEAD
   "id": "68ce3ba5",
=======
   "id": "07c48adb",
>>>>>>> master
=======
   "id": "a4977f76",
>>>>>>> master
   "metadata": {},
   "source": [
    "La méthode `apply` est très pratique ici car nous avons une phrase par ligne. Plutôt que de faire un `DataFrame` par auteur, ce qui n'est pas une approche très flexible, on peut directement appliquer la tokenisation\n",
    "sur notre `DataFrame` grâce à `apply`, sans le diviser.\n",
    "\n",
<<<<<<< HEAD
    "Ce petit nettoyage permet d'arriver à un texte plus intéressant en termes d'analyse lexicale. Par exemple, si on reproduit l'analyse précédente... :\n"
   ]
  },
  {
   "cell_type": "code",
   "execution_count": null,
<<<<<<< HEAD
   "id": "562f4bea",
=======
   "id": "84035ca2",
>>>>>>> master
   "metadata": {},
   "outputs": [],
   "source": [
    "train_clean[\"Text\"] = train_clean['tokenized'].apply(lambda s: \" \".join(map(str, s)))\n",
=======
    "Ce petit nettoyage permet d'arriver à un texte plus intéressant en termes d'analyse lexicale. Par exemple, si on reproduit l'analyse précédente... :\n",
>>>>>>> master
    "\n",
    "\n",
<<<<<<< HEAD
    "fig = plt.figure(figsize=(15, 12))\n",
    "for i in range(len(n_topics)):\n",
    "    ax = fig.add_subplot(2,2,i+1)\n",
    "    wordcloud = graph_wordcloud(n_topics[i], train_clean)\n",
    "\n",
    "    ax.imshow(wordcloud)\n",
    "    ax.axis('off')"
   ]
  },
  {
   "cell_type": "markdown",
<<<<<<< HEAD
   "id": "d65be78a",
   "metadata": {},
   "source": [
    "```\n",
    "## <matplotlib.image.AxesImage object at 0x7ff3b7447250>\n",
    "## (-0.5, 799.5, 499.5, -0.5)\n",
    "## <matplotlib.image.AxesImage object at 0x7ff3b4475460>\n",
    "## (-0.5, 799.5, 499.5, -0.5)\n",
    "## <matplotlib.image.AxesImage object at 0x7ff3b43ca130>\n",
=======
   "id": "d4d84573",
   "metadata": {},
   "source": [
    "```\n",
    "## <matplotlib.image.AxesImage object at 0x7f10f57d32b0>\n",
    "## (-0.5, 799.5, 499.5, -0.5)\n",
    "## <matplotlib.image.AxesImage object at 0x7f10eee1d4c0>\n",
    "## (-0.5, 799.5, 499.5, -0.5)\n",
    "## <matplotlib.image.AxesImage object at 0x7f10f0d5e190>\n",
>>>>>>> master
    "## (-0.5, 799.5, 499.5, -0.5)\n",
    "```"
   ]
  },
  {
   "cell_type": "code",
   "execution_count": null,
<<<<<<< HEAD
   "id": "eb3c08f8",
=======
   "id": "5f247f05",
>>>>>>> master
   "metadata": {
    "lines_to_next_cell": 2
   },
   "outputs": [],
   "source": [
    "fig\n",
    "plt.savefig('wordcloud2.png', bbox_inches='tight')"
=======
    "\n"
>>>>>>> master
   ]
  },
  {
   "cell_type": "markdown",
<<<<<<< HEAD
<<<<<<< HEAD
   "id": "a6767ae3",
=======
   "id": "38914d3a",
>>>>>>> master
=======
   "id": "19992f47",
>>>>>>> master
   "metadata": {},
   "source": [
    "```r\n",
    "knitr::include_graphics(\"wordcloud2.png\")\n",
    "```"
   ]
  },
  {
   "cell_type": "markdown",
<<<<<<< HEAD
<<<<<<< HEAD
   "id": "c1a2d3d8",
=======
   "id": "323b6749",
>>>>>>> master
=======
   "id": "bb4b94dd",
>>>>>>> master
   "metadata": {},
   "source": [
    "Pour aller plus loin dans l'harmonisation d'un texte, il est possible de\n",
    "mettre en place les classes d'équivalence développées dans la \n",
    "[partie précédente](#nlp) afin de remplacer différentes variations d'un même\n",
    "mot par une forme canonique :\n",
    "\n",
    "* la **racinisation** (*stemming*) assez fruste mais rapide, notamment\n",
    "en présence de fautes d’orthographe. Dans ce cas, chevaux peut devenir chev\n",
    "mais être ainsi confondu avec chevet ou cheveux. Elles est généralement plus simple à mettre en oeuvre, quoique\n",
    "plus fruste. \n",
    "\n",
    "* la **lemmatisation** qui requiert la connaissance des statuts\n",
    "grammaticaux (exemple : chevaux devient cheval).\n",
    "Elle est mise en oeuvre, comme toujours avec `nltk`, à travers un\n",
    "modèle. En l'occurrence, un `WordNetLemmatizer`  (WordNet est une base\n",
    "lexicographique ouverte). Par exemple, les mots *\"women\"*, *\"daughters\"*\n",
    "et *\"leaves\"* seront ainsi lemmatisés de la manière suivante :\n"
   ]
  },
  {
   "cell_type": "code",
   "execution_count": null,
<<<<<<< HEAD
<<<<<<< HEAD
   "id": "72177da8",
=======
   "id": "ccbb18fe",
>>>>>>> master
=======
   "id": "beb4ee1c",
>>>>>>> master
   "metadata": {},
   "outputs": [],
   "source": [
    "from nltk.stem import WordNetLemmatizer\n",
    "lemm = WordNetLemmatizer()\n",
    "\n",
    "for word in [\"women\",\"daughters\", \"leaves\"]:\n",
    "    print(\"The lemmatized form of %s is: {}\".format(lemm.lemmatize(word)) % word)"
   ]
  },
  {
   "cell_type": "markdown",
<<<<<<< HEAD
<<<<<<< HEAD
   "id": "d857c302",
=======
   "id": "d648f426",
>>>>>>> master
=======
   "id": "b697e083",
>>>>>>> master
   "metadata": {},
   "source": [
    "```\n",
    "## The lemmatized form of women is: woman\n",
    "## The lemmatized form of daughters is: daughter\n",
    "## The lemmatized form of leaves is: leaf\n",
    "```\n",
    "\n",
    "Pour disposer du corpus nécessaire à la lemmatisation, il faut, la première fois,\n",
    "télécharger celui-ci grâce aux commandes suivantes:\n",
    "~~~python\n",
    "import nltk\n",
    "nltk.download('wordnet')\n",
    "~~~"
   ]
  },
  {
   "cell_type": "markdown",
<<<<<<< HEAD
<<<<<<< HEAD
   "id": "dc043e9e",
=======
   "id": "27f9e393",
>>>>>>> master
=======
   "id": "ce0317d0",
>>>>>>> master
   "metadata": {},
   "source": [
    "**Exercice 5 : Lemmatisation avec `nltk` et `spaCy`** \n",
    "\n",
    "On va se restreindre au corpus d'Edgar Allan Poe et repartir de la base de données\n",
    "brute :\n"
   ]
  },
  {
   "cell_type": "code",
   "execution_count": null,
<<<<<<< HEAD
<<<<<<< HEAD
   "id": "3e783acb",
=======
   "id": "991bf284",
>>>>>>> master
=======
   "id": "23a0e1d3",
>>>>>>> master
   "metadata": {},
   "outputs": [],
   "source": [
    "eap_clean = train[train[\"Author\"] == \"EAP\"]\n",
    "eap_clean = ' '.join(eap_clean['Text'])\n",
    "#Tokenisation naïve sur les espaces entre les mots => on obtient une liste de mots\n",
    "#tokens = eap_clean.split()\n",
    "word_list = nltk.word_tokenize(eap_clean)"
   ]
  },
  {
   "cell_type": "markdown",
<<<<<<< HEAD
<<<<<<< HEAD
   "id": "df4f34e0",
=======
   "id": "79b4f308",
>>>>>>> master
=======
   "id": "4163bd70",
>>>>>>> master
   "metadata": {},
   "source": [
    "Utiliser un `WordNetLemmatizer` et observer le résultat.\n"
   ]
  },
  {
   "cell_type": "code",
   "execution_count": null,
<<<<<<< HEAD
<<<<<<< HEAD
   "id": "5fe75807",
=======
   "id": "b900f58b",
>>>>>>> master
=======
   "id": "ff7ae696",
>>>>>>> master
   "metadata": {},
   "outputs": [],
   "source": [
    "#Exercice 5 : WordNetLemmatizer\n",
    "lemmatizer = WordNetLemmatizer()\n",
    "lemmatized_output = ' '.join([lemmatizer.lemmatize(w) for w in word_list])\n",
    "\n",
    "print(\" \".join(word_list[:43]))"
   ]
  },
  {
   "cell_type": "markdown",
<<<<<<< HEAD
<<<<<<< HEAD
   "id": "6f90890c",
=======
   "id": "209bf955",
>>>>>>> master
=======
   "id": "20ba6ded",
>>>>>>> master
   "metadata": {},
   "source": [
    "```\n",
    "## This process , however , afforded me no means of ascertaining the dimensions of my dungeon ; as I might make its circuit , and return to the point whence I set out , without being aware of the fact ; so perfectly\n",
    "```"
   ]
  },
  {
   "cell_type": "code",
   "execution_count": null,
<<<<<<< HEAD
<<<<<<< HEAD
   "id": "1eb5c822",
=======
   "id": "9d06d97a",
>>>>>>> master
=======
   "id": "bb205195",
>>>>>>> master
   "metadata": {},
   "outputs": [],
   "source": [
    "print(\"---------------------------\")"
   ]
  },
  {
   "cell_type": "markdown",
<<<<<<< HEAD
<<<<<<< HEAD
   "id": "65316a9d",
=======
   "id": "6d5683ac",
>>>>>>> master
=======
   "id": "0518f45a",
>>>>>>> master
   "metadata": {},
   "source": [
    "```\n",
    "## ---------------------------\n",
    "```"
   ]
  },
  {
   "cell_type": "code",
   "execution_count": null,
<<<<<<< HEAD
<<<<<<< HEAD
   "id": "45cd30a7",
=======
   "id": "1a535c83",
>>>>>>> master
=======
   "id": "ba4bbd14",
>>>>>>> master
   "metadata": {},
   "outputs": [],
   "source": [
    "print(lemmatized_output[:209])"
   ]
  },
  {
   "cell_type": "markdown",
<<<<<<< HEAD
<<<<<<< HEAD
   "id": "ff158057",
=======
   "id": "8d8aafb0",
>>>>>>> master
=======
   "id": "787c6b80",
>>>>>>> master
   "metadata": {},
   "source": [
    "```\n",
    "## This process , however , afforded me no mean of ascertaining the dimension of my dungeon ; a I might make it circuit , and return to the point whence I set out , without being aware of the fact ; so perfectly\n",
    "```\n"
   ]
  },
  {
   "cell_type": "markdown",
<<<<<<< HEAD
<<<<<<< HEAD
   "id": "f471c782",
=======
   "id": "a1665eab",
>>>>>>> master
=======
   "id": "7e969134",
>>>>>>> master
   "metadata": {},
   "source": [
    "## TF-IDF: calcul de fréquence\n",
    "\n",
    "Le calcul [tf-idf](https://fr.wikipedia.org/wiki/TF-IDF) (term frequency–inverse document frequency) permet de calculer un score de proximité entre un terme de recherche et un document (c'est ce que font les moteurs de recherche). \n",
    "\n",
    "* La partie `tf` calcule une fonction croissante de la fréquence du terme de recherche dans le document à l'étude ;\n",
    "* La partie `idf` calcule une fonction inversement proportionnelle à la fréquence du terme dans l'ensemble des documents (ou corpus).\n",
    "\n",
    "Le score total, obtenu en multipliant les deux composantes, permet ainsi de donner un score d'autant plus élevé que le terme est surréprésenté dans un document (par rapport à l'ensemble des documents). Il existe plusieurs fonctions, qui pénalisent plus ou moins les documents longs, ou qui sont plus ou moins *smooth*.\n"
   ]
  },
  {
   "cell_type": "markdown",
<<<<<<< HEAD
<<<<<<< HEAD
   "id": "f3c1e4e2",
=======
   "id": "f3bd9d0c",
>>>>>>> master
=======
   "id": "4e614780",
>>>>>>> master
   "metadata": {},
   "source": [
    "**Exercice 6 : TF-IDF: calcul de fréquence** \n",
    "\n",
    "1. Utiliser le vectoriseur TfIdF de `scikit-learn` pour transformer notre corpus en une matrice `document x terms`. Au passage, utiliser l'option `stop_words` pour ne pas provoquer une inflation de la taille de la matrice. Nommer le modèle `tfidf` et le jeu entraîné `tfs`.\n"
   ]
  },
  {
   "cell_type": "code",
   "execution_count": null,
<<<<<<< HEAD
<<<<<<< HEAD
   "id": "1e76db46",
=======
   "id": "258b1e4e",
>>>>>>> master
=======
   "id": "9d4a6053",
>>>>>>> master
   "metadata": {},
   "outputs": [],
   "source": [
    "#1. TfIdf de scikit\n",
    "from sklearn.feature_extraction.text import TfidfVectorizer\n",
    "tfidf = TfidfVectorizer(stop_words=stopwords.words(\"english\"))\n",
    "tfs = tfidf.fit_transform(train['Text'])"
   ]
  },
  {
   "cell_type": "markdown",
<<<<<<< HEAD
<<<<<<< HEAD
   "id": "6ebbd2c0",
=======
   "id": "37b32e05",
>>>>>>> master
=======
   "id": "4563c019",
>>>>>>> master
   "metadata": {},
   "source": [
    "2. Après avoir construit la matrice de documents x terms avec le code suivant, rechercher les lignes où les termes ayant la structure `abandon` sont non-nuls. \n"
   ]
  },
  {
<<<<<<< HEAD
   "cell_type": "code",
   "execution_count": null,
<<<<<<< HEAD
   "id": "5fa20987",
=======
   "id": "c27e56f7",
>>>>>>> master
   "metadata": {},
   "outputs": [],
   "source": [
    "feature_names = tfidf.get_feature_names()\n",
    "corpus_index = [n for n in list(tfidf.vocabulary_.keys())]\n",
    "import pandas as pd\n",
    "df = pd.DataFrame(tfs.todense(), columns=feature_names)\n",
    "\n",
    "df.head()"
   ]
  },
  {
   "cell_type": "markdown",
<<<<<<< HEAD
   "id": "d3318342",
=======
   "id": "1dd532a4",
>>>>>>> master
=======
   "cell_type": "markdown",
   "id": "43ccf9eb",
>>>>>>> master
   "metadata": {},
   "source": [
    "Les lignes sont les suivantes :\n"
   ]
  },
  {
   "cell_type": "code",
   "execution_count": null,
<<<<<<< HEAD
<<<<<<< HEAD
   "id": "855d8c88",
=======
   "id": "46e966f2",
>>>>>>> master
=======
   "id": "20842c60",
>>>>>>> master
   "metadata": {},
   "outputs": [],
   "source": [
    "#2. Lignes où les termes de abandon sont non nuls.\n",
    "tempdf = df.loc[(df.filter(regex = \"abandon\")!=0).any(axis=1)]\n",
    "print(tempdf.index)"
   ]
  },
  {
   "cell_type": "markdown",
<<<<<<< HEAD
<<<<<<< HEAD
   "id": "530bc42e",
=======
   "id": "567f6573",
>>>>>>> master
=======
   "id": "a067eb84",
>>>>>>> master
   "metadata": {},
   "source": [
    "```\n",
    "## Int64Index([    4,   116,   215,   571,   839,  1042,  1052,  1069,  2247,\n",
    "##              2317,  2505,  3023,  3058,  3245,  3380,  3764,  3886,  4425,\n",
    "##              5289,  5576,  5694,  6812,  7500,  9013,  9021,  9077,  9560,\n",
    "##             11229, 11395, 11451, 11588, 11827, 11989, 11998, 12122, 12158,\n",
    "##             12189, 13666, 15259, 16516, 16524, 16759, 17547, 18019, 18072,\n",
    "##             18126, 18204, 18251],\n",
    "##            dtype='int64')\n",
    "```"
   ]
  },
  {
   "cell_type": "code",
   "execution_count": null,
<<<<<<< HEAD
<<<<<<< HEAD
   "id": "0cb4d965",
=======
   "id": "f4a55b3f",
>>>>>>> master
=======
   "id": "4c7d22fd",
>>>>>>> master
   "metadata": {},
   "outputs": [],
   "source": [
    "tempdf.head(5)"
   ]
  },
  {
   "cell_type": "markdown",
<<<<<<< HEAD
<<<<<<< HEAD
   "id": "263517cc",
=======
   "id": "a249b8ff",
>>>>>>> master
=======
   "id": "83a3c0f8",
>>>>>>> master
   "metadata": {},
   "source": [
    "```\n",
    "##      aaem   ab  aback  abaft   abandon  ...  zopyrus  zorry  zubmizzion  zuro   á¼\n",
    "## 4     0.0  0.0    0.0    0.0  0.000000  ...      0.0    0.0         0.0   0.0  0.0\n",
    "## 116   0.0  0.0    0.0    0.0  0.000000  ...      0.0    0.0         0.0   0.0  0.0\n",
    "## 215   0.0  0.0    0.0    0.0  0.235817  ...      0.0    0.0         0.0   0.0  0.0\n",
    "## 571   0.0  0.0    0.0    0.0  0.000000  ...      0.0    0.0         0.0   0.0  0.0\n",
    "## 839   0.0  0.0    0.0    0.0  0.285886  ...      0.0    0.0         0.0   0.0  0.0\n",
    "## \n",
    "## [5 rows x 24937 columns]\n",
    "```\n",
    "\n",
    "3. Trouver les 50 extraits où le score TF-IDF est le plus élevé et l'auteur associé. Vous devriez obtenir le classement suivant:\n"
   ]
  },
  {
   "cell_type": "code",
   "execution_count": null,
<<<<<<< HEAD
<<<<<<< HEAD
   "id": "075eb885",
=======
   "id": "ecb406df",
>>>>>>> master
=======
   "id": "cbc3cb39",
>>>>>>> master
   "metadata": {},
   "outputs": [],
   "source": [
    "#3. 50 extraits avec le TF-IDF le plus élevé.\n",
    "list_fear = df[\"fear\"].sort_values(ascending =False).head(n=50).index.tolist()\n",
    "train.iloc[list_fear].groupby('Author').count()['Text'].sort_values(ascending = False)"
   ]
  },
  {
   "cell_type": "markdown",
<<<<<<< HEAD
<<<<<<< HEAD
   "id": "61c820ad",
=======
   "id": "4ae757f0",
>>>>>>> master
=======
   "id": "83a41096",
>>>>>>> master
   "metadata": {},
   "source": [
    "```\n",
    "## Author\n",
    "## MWS    22\n",
    "## HPL    15\n",
    "## EAP    13\n",
    "## Name: Text, dtype: int64\n",
    "```\n",
    "\n",
    "Les 10 scores les plus élevés sont les suivants :\n"
   ]
  },
  {
   "cell_type": "code",
   "execution_count": null,
<<<<<<< HEAD
<<<<<<< HEAD
   "id": "a9d01f4a",
=======
   "id": "96b083b6",
>>>>>>> master
=======
   "id": "615d2d1c",
>>>>>>> master
   "metadata": {},
   "outputs": [],
   "source": [
    "print(train.iloc[list_fear[:9]]['Text'].values)"
   ]
  },
  {
   "cell_type": "markdown",
<<<<<<< HEAD
<<<<<<< HEAD
   "id": "56574f91",
=======
   "id": "0e389548",
>>>>>>> master
=======
   "id": "bbe31d94",
>>>>>>> master
   "metadata": {},
   "source": [
    "```\n",
    "## ['We could not fear we did not.' '\"And now I do not fear death.'\n",
    "##  'Be of heart and fear nothing.' 'I smiled, for what had I to fear?'\n",
    "##  'Indeed I had no fear on her account.'\n",
    "##  'I have not the slightest fear for the result.'\n",
    "##  'At length, in an abrupt manner she asked, \"Where is he?\" \"O, fear not,\" she continued, \"fear not that I should entertain hope Yet tell me, have you found him?'\n",
    "##  '\"I fear you are right there,\" said the Prefect.'\n",
    "##  'I went down to open it with a light heart, for what had I now to fear?']\n",
    "```"
   ]
  },
  {
   "cell_type": "markdown",
<<<<<<< HEAD
<<<<<<< HEAD
   "id": "befd7d8a",
=======
   "id": "30a2c3e8",
>>>>>>> master
=======
   "id": "4851e1b6",
>>>>>>> master
   "metadata": {},
   "source": [
    "On remarque que les scores les plus élévés sont soient des extraits courts où le mot apparait une seule fois, soit des extraits plus longs où le mot fear apparaît plusieurs fois."
   ]
  },
  {
   "cell_type": "markdown",
<<<<<<< HEAD
<<<<<<< HEAD
   "id": "418b5f49",
=======
   "id": "739881f6",
>>>>>>> master
=======
   "id": "e7cb8063",
>>>>>>> master
   "metadata": {},
   "source": [
    "La matrice `document x terms` est un exemple typique de matrice sparse puisque, dans des corpus volumineux, une grande diversité de vocabulaire peut être trouvée.  "
   ]
  },
  {
   "cell_type": "markdown",
<<<<<<< HEAD
<<<<<<< HEAD
   "id": "91ef38e4",
=======
   "id": "c0fc762e",
>>>>>>> master
=======
   "id": "27ac0bce",
>>>>>>> master
   "metadata": {},
   "source": [
    "## Approche contextuelle: les *n-gramms*\n",
    "\n",
    "Pour être en mesure de mener cette analyse, il est nécessaire de télécharger un corpus supplémentaire :\n",
    "\n"
   ]
  },
  {
   "cell_type": "code",
   "execution_count": null,
<<<<<<< HEAD
<<<<<<< HEAD
   "id": "e7be2f77",
=======
   "id": "d7bc6edf",
>>>>>>> master
=======
   "id": "e0eb8d2b",
>>>>>>> master
   "metadata": {},
   "outputs": [],
   "source": [
    "import nltk\n",
    "nltk.download('genesis')"
   ]
  },
  {
   "cell_type": "markdown",
<<<<<<< HEAD
<<<<<<< HEAD
   "id": "7db54a2b",
=======
   "id": "45c38492",
>>>>>>> master
=======
   "id": "bd883b35",
>>>>>>> master
   "metadata": {},
   "source": [
    "```\n",
    "## True\n",
    "## \n",
    "## [nltk_data] Downloading package genesis to /github/home/nltk_data...\n",
    "## [nltk_data]   Package genesis is already up-to-date!\n",
    "```"
   ]
  },
  {
   "cell_type": "code",
   "execution_count": null,
<<<<<<< HEAD
<<<<<<< HEAD
   "id": "a913aaae",
=======
   "id": "d443d037",
>>>>>>> master
=======
   "id": "04b4136b",
>>>>>>> master
   "metadata": {},
   "outputs": [],
   "source": [
    "nltk.corpus.genesis.words('english-web.txt')"
   ]
  },
  {
   "cell_type": "markdown",
<<<<<<< HEAD
<<<<<<< HEAD
   "id": "6966ffb5",
=======
   "id": "6988c4f7",
>>>>>>> master
=======
   "id": "59c46eae",
>>>>>>> master
   "metadata": {},
   "source": [
    "```\n",
    "## ['In', 'the', 'beginning', 'God', 'created', 'the', ...]\n",
    "```"
   ]
  },
  {
   "cell_type": "markdown",
<<<<<<< HEAD
<<<<<<< HEAD
   "id": "fcfa9473",
=======
   "id": "20cb3ffe",
>>>>>>> master
=======
   "id": "5616b707",
>>>>>>> master
   "metadata": {},
   "source": [
    "Il s'agit maintenant de raffiner l'analyse. \n",
    "\n",
    "On s'intéresse non seulement aux mots et à leur fréquence, mais aussi aux mots qui suivent. Cette approche est essentielle pour désambiguiser les homonymes. Elle permet aussi d'affiner les modèles \"bag-of-words\". Le calcul de n-grams (bigrams pour les co-occurences de mots deux-à-deux, tri-grams pour les co-occurences trois-à-trois, etc.) constitue la méthode la plus simple pour tenir compte du contexte."
   ]
  },
  {
   "cell_type": "markdown",
<<<<<<< HEAD
<<<<<<< HEAD
   "id": "c363df45",
=======
   "id": "afb69555",
>>>>>>> master
=======
   "id": "818cc33d",
>>>>>>> master
   "metadata": {},
   "source": [
    "`nltk` offre des methodes pour tenir compte du contexte : pour ce faire, nous calculons les n-grams, c'est-à-dire l'ensemble des co-occurrences successives de mots n-à-n.  En général, on se contente de bi-grams, au mieux de tri-grams :\n",
    "\n",
    "* les modèles de classification, analyse du sentiment, comparaison de documents, etc. qui comparent des n-grams avec n trop grands sont rapidement confrontés au problème de données sparse, cela réduit la capacité prédictive des modèles ;\n",
    "* les performances décroissent très rapidement en fonction de n, et les coûts de stockage des données augmentent rapidement (environ n fois plus élevé que la base de données initiale).\n"
   ]
  },
  {
   "cell_type": "markdown",
<<<<<<< HEAD
<<<<<<< HEAD
   "id": "657095da",
=======
   "id": "c502e865",
>>>>>>> master
=======
   "id": "ffa3e294",
>>>>>>> master
   "metadata": {},
   "source": [
    "**Exercice 7  : n-grams et contexte du mot fear** \n",
    "\n",
    "On va, rapidement, regarder dans quel contexte apparaît le mot `fear` dans\n",
    "l'oeuvre d'Edgar Allan Poe (EAP). Pour cela, on transforme d'abord\n",
    "le corpus EAP en tokens `nltk` : \n"
   ]
  },
  {
<<<<<<< HEAD
   "cell_type": "code",
   "execution_count": null,
<<<<<<< HEAD
   "id": "ccf2744b",
=======
   "id": "89d8b90e",
>>>>>>> master
   "metadata": {},
   "outputs": [],
   "source": [
    "eap_clean = train_clean[train_clean[\"Author\"] == \"EAP\"]\n",
    "eap_clean = ' '.join(eap_clean['Text'])\n",
    "#Tokenisation naïve sur les espaces entre les mots => on obtient une liste de mots\n",
    "tokens = eap_clean.split()\n",
    "print(tokens[:10])"
   ]
  },
  {
   "cell_type": "markdown",
<<<<<<< HEAD
   "id": "7c0b8589",
=======
   "id": "317b4599",
>>>>>>> master
   "metadata": {},
   "source": [
    "```\n",
    "## ['Above', 'I', 'burn', 'know', 'incidents', 'passage', 'dark', 'Valley', 'Shadow', 'He']\n",
    "```"
   ]
  },
  {
   "cell_type": "code",
   "execution_count": null,
<<<<<<< HEAD
   "id": "ff982390",
=======
   "id": "72033d35",
>>>>>>> master
   "metadata": {},
   "outputs": [],
   "source": [
    "text = nltk.Text(tokens)\n",
    "print(text)"
   ]
  },
  {
   "cell_type": "markdown",
<<<<<<< HEAD
   "id": "b6fffc52",
=======
   "id": "b970ac93",
>>>>>>> master
   "metadata": {},
   "source": [
    "```\n",
    "## <Text: Above I burn know incidents passage dark Valley...>\n",
    "```\n",
    "\n",
=======
   "cell_type": "markdown",
   "id": "560c24f2",
   "metadata": {},
   "source": [
>>>>>>> master
    "1. Utiliser la méthode `concordance` pour afficher le contexte dans lequel apparaît le terme `fear`. La liste devrait ressembler à celle-ci:\n"
   ]
  },
  {
   "cell_type": "code",
   "execution_count": null,
<<<<<<< HEAD
<<<<<<< HEAD
   "id": "b3a2f0b7",
=======
   "id": "c5ede818",
>>>>>>> master
=======
   "id": "cbed2f0e",
>>>>>>> master
   "metadata": {},
   "outputs": [],
   "source": [
    "# 1. Methode concordance\n",
    "print(\"Exemples d'occurences du terme 'fear' :\")"
   ]
  },
  {
   "cell_type": "markdown",
<<<<<<< HEAD
<<<<<<< HEAD
   "id": "6a7bba88",
=======
   "id": "44f76a88",
>>>>>>> master
=======
   "id": "67b37781",
>>>>>>> master
   "metadata": {},
   "source": [
    "```\n",
    "## Exemples d'occurences du terme 'fear' :\n",
    "```"
   ]
  },
  {
   "cell_type": "code",
   "execution_count": null,
<<<<<<< HEAD
<<<<<<< HEAD
   "id": "41e4ab7f",
=======
   "id": "78dad295",
>>>>>>> master
=======
   "id": "c74c6117",
>>>>>>> master
   "metadata": {},
   "outputs": [],
   "source": [
    "text.concordance(\"fear\")"
   ]
  },
  {
   "cell_type": "markdown",
<<<<<<< HEAD
<<<<<<< HEAD
   "id": "2a214ef0",
=======
   "id": "f2194073",
>>>>>>> master
=======
   "id": "1fd19456",
>>>>>>> master
   "metadata": {},
   "source": [
    "```\n",
    "## Displaying 24 of 24 matches:\n",
    "## lady seventy years age heard express fear never see Marie observation attracte\n",
    "## ingly well I went open light heart I fear The fact business simple indeed I ma\n",
    "##  Geneva seemed resolved give scruple fear wind No one spoken frequenting house\n",
    "## d propeller must entirely remodelled fear serious accident I mean steel rod va\n",
    "## ud rose amazing velocity I slightest fear result He proceeded observing analyz\n",
    "## His third contempt ambition Indeed I fear account The ceiling gloomy looking o\n",
    "## dverted blush extreme recency date I fear right said Prefect This could refast\n",
    "## loud quick unequal spoken apparently fear well anger three four quite right Sa\n",
    "## oughts Question Oinos freely without fear No path trodden vicinity reach happy\n",
    "## ick darkness shutters close fastened fear robbers I knew could see opening doo\n",
    "## ible game antagonist I even went far fear I occasioned much trouble might glad\n",
    "## dame could easily enter unobserved I fear mesmerized adding immediately afterw\n",
    "## here poodle Perhaps said I Legrand I fear artist In left hand little heavy Dut\n",
    "##  strong relish physical philosophy I fear tinctured mind common error age I me\n",
    "## ripods expired The replied entered I fear unusual horror thing The rudder ligh\n",
    "## rdiality In second place impressed I fear indeed impossible make comprehended \n",
    "##  spades whole insisted upon carrying fear seemed trusting either implements wi\n",
    "## ind dreaded whip instantly converted fear This prison like rampart formed limi\n",
    "##  I started hourly dreams unutterable fear find hot breath thing upon face vast\n",
    "## ers deputed search premises Be heart fear nothing I removed bed examined corps\n",
    "##  looked stiff rolled eyes I smiled I fear My first idea mere surprise really r\n",
    "## g memory long time awaking slumber I fear I shall never see Marie But imagine \n",
    "## et lonely I watched minutes somewhat fear wonder The one wrote Jeremiad usury \n",
    "## d garments muddy clotted gore I much fear replied Monsieur Maillard becoming e\n",
    "```"
   ]
  },
  {
   "cell_type": "code",
   "execution_count": null,
<<<<<<< HEAD
<<<<<<< HEAD
   "id": "60b10071",
=======
   "id": "e77a38cd",
>>>>>>> master
=======
   "id": "522ae7e4",
>>>>>>> master
   "metadata": {},
   "outputs": [],
   "source": [
    "print('\\n')"
   ]
  },
  {
   "cell_type": "markdown",
<<<<<<< HEAD
<<<<<<< HEAD
   "id": "5db12841",
=======
   "id": "a9cb049b",
>>>>>>> master
=======
   "id": "a65fdd9a",
>>>>>>> master
   "metadata": {},
   "source": [
    "Même si on peut facilement voir le mot avant et après, cette liste est assez difficile à interpréter car elle recoupe beaucoup d'information. \n",
    "\n",
    "La `collocation` consiste à trouver les bi-grammes qui\n",
    "apparaissent le plus fréquemment ensemble. Parmi toutes les paires de deux mots observées, il s'agit de sélectionner, à partir d'un modèle statistique, les \"meilleures\". \n",
    "\n",
    "2. Sélectionner et afficher les meilleures collocation, par exemple selon le critère du ratio de vraisemblance. \n",
    "\n",
    "Vous aurez besoin des fonctions ` BigramCollocationFinder.from_words` et `BigramAssocMeasures.likelihood_ratio` : \n"
   ]
  },
  {
   "cell_type": "code",
   "execution_count": null,
<<<<<<< HEAD
<<<<<<< HEAD
   "id": "59a48bd2",
=======
   "id": "50b0a7f5",
>>>>>>> master
=======
   "id": "ecf958ee",
>>>>>>> master
   "metadata": {},
   "outputs": [],
   "source": [
    "from nltk.collocations import BigramCollocationFinder\n",
    "from nltk.metrics import BigramAssocMeasures"
   ]
  },
  {
   "cell_type": "markdown",
<<<<<<< HEAD
<<<<<<< HEAD
   "id": "4100245f",
=======
   "id": "4e632183",
>>>>>>> master
=======
   "id": "4e8b8716",
>>>>>>> master
   "metadata": {},
   "source": [
    "<!-- Une approche ingénue de la `collocation` amène ainsi à considérer les mots suivants :  -->\n"
   ]
  },
  {
   "cell_type": "code",
   "execution_count": null,
<<<<<<< HEAD
<<<<<<< HEAD
   "id": "c162a4de",
=======
   "id": "79c2e792",
>>>>>>> master
=======
   "id": "6ee91000",
>>>>>>> master
   "metadata": {},
   "outputs": [],
   "source": [
    "# 2. Modélisation des meilleures collocations\n",
    "bcf = BigramCollocationFinder.from_words(text)\n",
    "bcf.nbest(BigramAssocMeasures.likelihood_ratio, 20)"
   ]
  },
  {
   "cell_type": "markdown",
<<<<<<< HEAD
<<<<<<< HEAD
   "id": "599017b1",
=======
   "id": "3063be44",
>>>>>>> master
=======
   "id": "1ce5cf89",
>>>>>>> master
   "metadata": {},
   "source": [
    "```\n",
    "## [('I', 'could'), ('I', 'felt'), ('main', 'compartment'), ('Chess', 'Player'), ('Let', 'us'), ('I', 'saw'), ('Madame', 'Lalande'), ('At', 'length'), ('New', 'York'), ('Ourang', 'Outang'), ('ha', 'ha'), ('three', 'four'), ('I', 'knew'), ('I', 'say'), ('du', 'Roule'), ('I', 'I'), ('General', 'John'), ('could', 'help'), ('In', 'meantime'), ('let', 'us')]\n",
    "```\n"
   ]
  },
  {
   "cell_type": "markdown",
<<<<<<< HEAD
<<<<<<< HEAD
   "id": "64a075ad",
=======
   "id": "506c1377",
>>>>>>> master
=======
   "id": "b0e3b03d",
>>>>>>> master
   "metadata": {},
   "source": [
    "Lorsque deux mots sont fortement associés, cela est parfois dû au fait qu'ils apparaissent rarement. Il est donc parfois nécessaire d'appliquer des filtres, par exemple ignorer les bigrammes qui apparaissent moins de 5 fois dans le corpus.\n",
    "\n",
    "3. Refaire la question précédente en utilisant toujours un modèle `BigramCollocationFinder` suivi de la méthode `apply_freq_filter` pour ne conserver que les bigrammes présents au moins 5 fois. Puis, au lieu d'utiliser la méthode de maximum de vraisemblance, testez la méthode `nltk.collocations.BigramAssocMeasures().jaccard`.\n"
   ]
  },
  {
   "cell_type": "code",
   "execution_count": null,
<<<<<<< HEAD
<<<<<<< HEAD
   "id": "0dddd091",
=======
   "id": "73a0cdaf",
>>>>>>> master
=======
   "id": "758d3f42",
>>>>>>> master
   "metadata": {},
   "outputs": [],
   "source": [
    "# 3. Modélisation des meilleures collocations (qui apparaissent 5+)\n",
    "finder = nltk.BigramCollocationFinder.from_words(text)\n",
    "finder.apply_freq_filter(5)\n",
    "bigram_measures = nltk.collocations.BigramAssocMeasures()\n",
    "collocations = finder.nbest(bigram_measures.jaccard, 15) \n",
    "\n",
    "for collocation in collocations:\n",
    "    c = ' '.join(collocation)\n",
    "    print(c)"
   ]
  },
  {
   "cell_type": "markdown",
<<<<<<< HEAD
<<<<<<< HEAD
   "id": "bd514758",
=======
   "id": "f80f7b34",
>>>>>>> master
=======
   "id": "7f43cbd0",
>>>>>>> master
   "metadata": {},
   "source": [
    "```\n",
    "## Chess Player\n",
    "## Ourang Outang\n",
    "## Brevet Brigadier\n",
    "## Hans Pfaall\n",
    "## Bas Bleu\n",
    "## du Roule\n",
    "## New York\n",
    "## ugh ugh\n",
    "## Tea Pot\n",
    "## gum elastic\n",
    "## hu hu\n",
    "## prodigies valor\n",
    "## Gad Fly\n",
    "## Massa Will\n",
    "## Von Kempelen\n",
    "```\n",
    "\n",
    "Cette liste a un peu plus de sens, on a des noms de personnages, de lieux mais aussi des termes fréquemment employés ensemble (*Chess Player* par exemple).\n",
    "\n",
    "4. Ne s'intéresser qu'aux *collocations* qui concernent le mot *fear*\n"
   ]
  },
  {
   "cell_type": "code",
   "execution_count": null,
<<<<<<< HEAD
<<<<<<< HEAD
   "id": "e36e2b89",
=======
   "id": "9ab31cfc",
>>>>>>> master
=======
   "id": "fbc35ca2",
>>>>>>> master
   "metadata": {},
   "outputs": [],
   "source": [
    "# 4. collocations du mot fear\n",
    "bigram_measures = nltk.collocations.BigramAssocMeasures()\n",
    "\n",
    "def collocations_word(word = \"fear\"):\n",
    "    # Ngrams with a specific name \n",
    "    name_filter = lambda *w: word not in w\n",
    "    ## Bigrams\n",
    "    finder = BigramCollocationFinder.from_words(\n",
    "                nltk.corpus.genesis.words('english-web.txt'))\n",
    "    # only bigrams that contain 'fear'\n",
    "    finder.apply_ngram_filter(name_filter)\n",
    "    # return the 100 n-grams with the highest PMI\n",
    "    print(finder.nbest(bigram_measures.likelihood_ratio,100))\n",
    "    \n",
    "collocations_word(\"fear\")"
   ]
  },
  {
   "cell_type": "markdown",
<<<<<<< HEAD
<<<<<<< HEAD
   "id": "1827ba8c",
=======
   "id": "91021aa9",
>>>>>>> master
=======
   "id": "cf5e4de7",
>>>>>>> master
   "metadata": {},
   "source": [
    "```\n",
    "## [('fear', 'of'), ('fear', 'God'), ('I', 'fear'), ('the', 'fear'), ('The', 'fear'), ('fear', 'him'), ('you', 'fear')]\n",
    "```\n",
    "\n",
    "Si on mène la même analyse pour le terme *love*, on remarque que de manière logique, on retrouve bien des sujets généralement accolés au verbe :"
   ]
  },
  {
   "cell_type": "markdown",
<<<<<<< HEAD
<<<<<<< HEAD
   "id": "d2aab239",
=======
   "id": "3254bc21",
>>>>>>> master
=======
   "id": "85a32ffe",
>>>>>>> master
   "metadata": {},
   "source": [
    "```\n",
    "## [('love', 'me'), ('love', 'he'), ('will', 'love'), ('I', 'love'), ('love', ','), ('you', 'love'), ('the', 'love')]\n",
    "```\n",
    "\n",
    "\n",
    "\n"
   ]
  }
 ],
 "metadata": {
  "kernelspec": {
   "display_name": "Python 3",
   "language": "python",
   "name": "python3"
  }
 },
 "nbformat": 4,
 "nbformat_minor": 5
}
