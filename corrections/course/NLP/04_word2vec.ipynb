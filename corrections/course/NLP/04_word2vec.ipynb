{
 "cells": [
  {
   "cell_type": "markdown",
<<<<<<< HEAD
   "id": "2274c00a",
=======
<<<<<<< HEAD
   "id": "7dbc0581",
>>>>>>> embeddings
   "metadata": {},
   "source": [
    "#  Prédiction dauteurs littéraires à partir de différentes méthodes de vectorisation\n",
=======
   "id": "8d6b93b2",
   "metadata": {},
   "source": [
    "#  Méthodes de vectorisation : comptages et word embeddings\n",
>>>>>>> e0c71349550dcbf39dad9c65a6d6e9fba51428d4
    "\n"
   ]
  },
  {
   "cell_type": "markdown",
<<<<<<< HEAD
   "id": "860561d9",
=======
<<<<<<< HEAD
   "id": "ade44621",
=======
   "id": "883d28d1",
>>>>>>> e0c71349550dcbf39dad9c65a6d6e9fba51428d4
>>>>>>> embeddings
   "metadata": {},
   "source": [
    "<a href=\"https://github.com/linogaliana/python-datascientist/blob/master//__w/python-datascientist/python-datascientist/notebooks/course/NLP/04_word2vec.ipynb\" class=\"github\"><i class=\"fab fa-github\"></i></a>\n",
    "[![Download](https://img.shields.io/badge/Download-Notebook-important?logo=Jupyter)](https://downgit.github.io/#/home?url=https://github.com/linogaliana/python-datascientist/blob/master//__w/python-datascientist/python-datascientist/notebooks/course/NLP/04_word2vec.ipynb)\n",
    "[![nbviewer](https://img.shields.io/badge/Visualize-nbviewer-blue?logo=Jupyter)](https://nbviewer.jupyter.org/github/linogaliana/python-datascientist/blob/master//__w/python-datascientist/python-datascientist/notebooks/course/NLP/04_word2vec.ipynb)\n",
    "[![Onyxia](https://img.shields.io/badge/SSPcloud-Tester%20via%20SSP--cloud-informational&color=yellow?logo=Python)](https://datalab.sspcloud.fr/launcher/inseefrlab-helm-charts-datascience/jupyter?onyxia.friendlyName=«python-datascientist»&resources.requests.memory=«4Gi»&security.allowlist.enabled=false&init.personalInit=«https://raw.githubusercontent.com/linogaliana/python-datascientist/master/init_onyxia.sh»)\n",
    "<br>\n",
    "[![Binder](https://img.shields.io/badge/Launch-Binder-E66581.svg?logo=data:image/png;base64,iVBORw0KGgoAAAANSUhEUgAAAFkAAABZCAMAAABi1XidAAAB8lBMVEX///9XmsrmZYH1olJXmsr1olJXmsrmZYH1olJXmsr1olJXmsrmZYH1olL1olJXmsr1olJXmsrmZYH1olL1olJXmsrmZYH1olJXmsr1olL1olJXmsrmZYH1olL1olJXmsrmZYH1olL1olL0nFf1olJXmsrmZYH1olJXmsq8dZb1olJXmsrmZYH1olJXmspXmspXmsr1olL1olJXmsrmZYH1olJXmsr1olL1olJXmsrmZYH1olL1olLeaIVXmsrmZYH1olL1olL1olJXmsrmZYH1olLna31Xmsr1olJXmsr1olJXmsrmZYH1olLqoVr1olJXmsr1olJXmsrmZYH1olL1olKkfaPobXvviGabgadXmsqThKuofKHmZ4Dobnr1olJXmsr1olJXmspXmsr1olJXmsrfZ4TuhWn1olL1olJXmsqBi7X1olJXmspZmslbmMhbmsdemsVfl8ZgmsNim8Jpk8F0m7R4m7F5nLB6jbh7jbiDirOEibOGnKaMhq+PnaCVg6qWg6qegKaff6WhnpKofKGtnomxeZy3noG6dZi+n3vCcpPDcpPGn3bLb4/Mb47UbIrVa4rYoGjdaIbeaIXhoWHmZYHobXvpcHjqdHXreHLroVrsfG/uhGnuh2bwj2Hxk17yl1vzmljzm1j0nlX1olL3AJXWAAAAbXRSTlMAEBAQHx8gICAuLjAwMDw9PUBAQEpQUFBXV1hgYGBkcHBwcXl8gICAgoiIkJCQlJicnJ2goKCmqK+wsLC4usDAwMjP0NDQ1NbW3Nzg4ODi5+3v8PDw8/T09PX29vb39/f5+fr7+/z8/Pz9/v7+zczCxgAABC5JREFUeAHN1ul3k0UUBvCb1CTVpmpaitAGSLSpSuKCLWpbTKNJFGlcSMAFF63iUmRccNG6gLbuxkXU66JAUef/9LSpmXnyLr3T5AO/rzl5zj137p136BISy44fKJXuGN/d19PUfYeO67Znqtf2KH33Id1psXoFdW30sPZ1sMvs2D060AHqws4FHeJojLZqnw53cmfvg+XR8mC0OEjuxrXEkX5ydeVJLVIlV0e10PXk5k7dYeHu7Cj1j+49uKg7uLU61tGLw1lq27ugQYlclHC4bgv7VQ+TAyj5Zc/UjsPvs1sd5cWryWObtvWT2EPa4rtnWW3JkpjggEpbOsPr7F7EyNewtpBIslA7p43HCsnwooXTEc3UmPmCNn5lrqTJxy6nRmcavGZVt/3Da2pD5NHvsOHJCrdc1G2r3DITpU7yic7w/7Rxnjc0kt5GC4djiv2Sz3Fb2iEZg41/ddsFDoyuYrIkmFehz0HR2thPgQqMyQYb2OtB0WxsZ3BeG3+wpRb1vzl2UYBog8FfGhttFKjtAclnZYrRo9ryG9uG/FZQU4AEg8ZE9LjGMzTmqKXPLnlWVnIlQQTvxJf8ip7VgjZjyVPrjw1te5otM7RmP7xm+sK2Gv9I8Gi++BRbEkR9EBw8zRUcKxwp73xkaLiqQb+kGduJTNHG72zcW9LoJgqQxpP3/Tj//c3yB0tqzaml05/+orHLksVO+95kX7/7qgJvnjlrfr2Ggsyx0eoy9uPzN5SPd86aXggOsEKW2Prz7du3VID3/tzs/sSRs2w7ovVHKtjrX2pd7ZMlTxAYfBAL9jiDwfLkq55Tm7ifhMlTGPyCAs7RFRhn47JnlcB9RM5T97ASuZXIcVNuUDIndpDbdsfrqsOppeXl5Y+XVKdjFCTh+zGaVuj0d9zy05PPK3QzBamxdwtTCrzyg/2Rvf2EstUjordGwa/kx9mSJLr8mLLtCW8HHGJc2R5hS219IiF6PnTusOqcMl57gm0Z8kanKMAQg0qSyuZfn7zItsbGyO9QlnxY0eCuD1XL2ys/MsrQhltE7Ug0uFOzufJFE2PxBo/YAx8XPPdDwWN0MrDRYIZF0mSMKCNHgaIVFoBbNoLJ7tEQDKxGF0kcLQimojCZopv0OkNOyWCCg9XMVAi7ARJzQdM2QUh0gmBozjc3Skg6dSBRqDGYSUOu66Zg+I2fNZs/M3/f/Grl/XnyF1Gw3VKCez0PN5IUfFLqvgUN4C0qNqYs5YhPL+aVZYDE4IpUk57oSFnJm4FyCqqOE0jhY2SMyLFoo56zyo6becOS5UVDdj7Vih0zp+tcMhwRpBeLyqtIjlJKAIZSbI8SGSF3k0pA3mR5tHuwPFoa7N7reoq2bqCsAk1HqCu5uvI1n6JuRXI+S1Mco54YmYTwcn6Aeic+kssXi8XpXC4V3t7/ADuTNKaQJdScAAAAAElFTkSuQmCC)](https://mybinder.org/v2/gh/linogaliana/python-datascientist/master?filepath=/__w/python-datascientist/python-datascientist/notebooks/course/NLP/04_word2vec.ipynb)\n",
    "[![Open In Colab](https://colab.research.google.com/assets/colab-badge.svg)](http://colab.research.google.com/github/linogaliana/python-datascientist/blob/master//__w/python-datascientist/python-datascientist/notebooks/course/NLP/04_word2vec.ipynb)\n",
    "[![githubdev](https://open.vscode.dev/badges/open-in-vscode.svg)](https://github.dev/linogaliana/python-datascientist//__w/python-datascientist/python-datascientist/notebooks/course/NLP/04_word2vec.ipynb)\n",
    "\n",
    "Cette page approfondit certains aspects présentés dans la\n",
    "[partie introductive](#nlp). Après avoir travaillé sur le\n",
    "*Comte de Monte Cristo*, on va continuer notre exploration de la littérature\n",
    "avec cette fois des auteurs anglophones:\n",
    "\n",
    "* Edgar Allan Poe, (EAP) ;\n",
    "* HP Lovecraft (HPL) ;\n",
    "* Mary Wollstonecraft Shelley (MWS).\n",
    "\n",
    "Les données sont disponibles ici : [spooky.csv](https://github.com/GU4243-ADS/spring2018-project1-ginnyqg/blob/master/data/spooky.csv) et peuvent être requétées via l'url \n",
    "<https://github.com/GU4243-ADS/spring2018-project1-ginnyqg/raw/master/data/spooky.csv>.\n",
    "\n",
    "Le but va être dans un premier temps de regarder dans le détail les termes les plus fréquents utilisés par les auteurs, de les représenter graphiquement puis on va ensuite essayer de prédire quel texte correspond à quel auteur à partir de différents modèles de vectorisation, notamment les *word embeddings*.\n",
    "\n",
    "Ce notebook est librement inspiré de  : \n",
    "\n",
    "* https://www.kaggle.com/enerrio/scary-nlp-with-spacy-and-keras\n",
    "* https://github.com/GU4243-ADS/spring2018-project1-ginnyqg\n",
    "* https://www.kaggle.com/meiyizi/spooky-nlp-and-topic-modelling-tutorial/notebook\n"
   ]
  },
  {
   "cell_type": "markdown",
<<<<<<< HEAD
   "id": "7842f052",
=======
<<<<<<< HEAD
   "id": "26d2b27d",
=======
   "id": "6abce876",
>>>>>>> e0c71349550dcbf39dad9c65a6d6e9fba51428d4
>>>>>>> embeddings
   "metadata": {},
   "source": [
    "Comme dans la [partie précédente](#nlp), il faut télécharger quelques éléments\n",
    "pour que nos librairies de NLP puissent fonctionner correctement.\n",
    "\n",
    "En premier lieu, il convient d'installer les librairies adéquates\n",
    "(`spacy`, `gensim` et `sentence_transformers`):\n"
   ]
  },
  {
   "cell_type": "code",
   "execution_count": null,
<<<<<<< HEAD
   "id": "18a08451",
=======
<<<<<<< HEAD
   "id": "8c183c47",
=======
   "id": "a7460042",
>>>>>>> e0c71349550dcbf39dad9c65a6d6e9fba51428d4
>>>>>>> embeddings
   "metadata": {},
   "outputs": [],
   "source": [
    "!pip install spacy gensim sentence_transformers"
   ]
  },
  {
   "cell_type": "markdown",
<<<<<<< HEAD
   "id": "77846133",
=======
<<<<<<< HEAD
   "id": "232bdfe3",
=======
   "id": "b60f09e6",
>>>>>>> e0c71349550dcbf39dad9c65a6d6e9fba51428d4
>>>>>>> embeddings
   "metadata": {},
   "source": [
    "Ensuite, comme nous allons utiliser également `spacy`, il convient de télécharger\n",
    "le corpus Anglais. Pour cela, on peut se référer à\n",
    "[la documentation de `spacy`](https://spacy.io/usage/models),\n",
    "extrèmement bien faite."
   ]
  },
  {
   "cell_type": "markdown",
<<<<<<< HEAD
   "id": "4e93f568",
=======
<<<<<<< HEAD
   "id": "8053552d",
=======
   "id": "e1424338",
>>>>>>> e0c71349550dcbf39dad9c65a6d6e9fba51428d4
>>>>>>> embeddings
   "metadata": {},
   "source": [
    "- Idéalement, il faut installer le module via la ligne de commande. Dans\n",
    "une cellule de notebook `Jupyter`, faire :\n"
   ]
  },
  {
   "cell_type": "code",
   "execution_count": null,
<<<<<<< HEAD
   "id": "67e27bf5",
=======
<<<<<<< HEAD
   "id": "d9ec1b98",
=======
   "id": "b2093671",
>>>>>>> e0c71349550dcbf39dad9c65a6d6e9fba51428d4
>>>>>>> embeddings
   "metadata": {},
   "outputs": [],
   "source": [
    "!python -m spacy download en_core_web_sm"
   ]
  },
  {
   "cell_type": "markdown",
<<<<<<< HEAD
   "id": "3c45ef56",
=======
<<<<<<< HEAD
   "id": "9a10aa35",
=======
   "id": "69719d7b",
>>>>>>> e0c71349550dcbf39dad9c65a6d6e9fba51428d4
>>>>>>> embeddings
   "metadata": {},
   "source": [
    "- Sans accès à la ligne de commande (depuis une instance `Docker` par exemple),\n",
    "faire :\n"
   ]
  },
  {
   "cell_type": "code",
   "execution_count": null,
<<<<<<< HEAD
   "id": "0e809da9",
=======
<<<<<<< HEAD
   "id": "2c57e85b",
=======
   "id": "41844f59",
>>>>>>> e0c71349550dcbf39dad9c65a6d6e9fba51428d4
>>>>>>> embeddings
   "metadata": {},
   "outputs": [],
   "source": [
    "import spacy\n",
    "spacy.cli.download(\"en_core_web_sm\")"
   ]
  },
  {
   "cell_type": "markdown",
<<<<<<< HEAD
   "id": "4a8aa054",
=======
<<<<<<< HEAD
   "id": "d8613c1d",
=======
   "id": "4f705b9b",
>>>>>>> e0c71349550dcbf39dad9c65a6d6e9fba51428d4
>>>>>>> embeddings
   "metadata": {},
   "source": [
    "- Sinon, il est également possible d'installer le module en faisant pointer\n",
    "`pip install` depuis le fichier adéquat sur\n",
    "[`Github`](https://github.com/explosion/spacy-models). Pour cela, taper\n",
    "\n",
    "~~~python\n",
    "pip install https://github.com/explosion/spacy-models/releases/download/en_core_web_sm-3.0.0/en_core_web_sm-3.0.0-py3-none-any.whl\n",
    "~~~\n",
    "\n",
    "\n",
    "\n",
    "\n"
   ]
  },
  {
   "cell_type": "code",
   "execution_count": null,
<<<<<<< HEAD
   "id": "b8031e09",
=======
<<<<<<< HEAD
   "id": "ccd8757b",
=======
   "id": "db0ec09d",
>>>>>>> e0c71349550dcbf39dad9c65a6d6e9fba51428d4
>>>>>>> embeddings
   "metadata": {},
   "outputs": [],
   "source": [
    "from collections import Counter\n",
    "\n",
    "import numpy as np\n",
    "import pandas as pd\n",
    "import matplotlib.pyplot as plt\n",
    "import seaborn as sns\n",
    "import gensim\n",
    "\n",
    "from sklearn.preprocessing import LabelEncoder\n",
    "from sklearn.model_selection import train_test_split\n",
    "from sklearn.pipeline import Pipeline\n",
    "from sklearn.preprocessing import StandardScaler\n",
    "from sklearn.svm import LinearSVC\n",
    "from sklearn.feature_extraction.text import CountVectorizer, TfidfVectorizer\n",
    "from sklearn.model_selection import GridSearchCV, cross_val_score\n",
    "from gensim.models.word2vec import Word2Vec\n",
    "import gensim.downloader\n",
    "from sentence_transformers import SentenceTransformer\n",
    "\n",
    "plt.style.use('dark_background')"
   ]
  },
  {
   "cell_type": "markdown",
<<<<<<< HEAD
   "id": "2e8988c4",
=======
<<<<<<< HEAD
   "id": "9515916c",
=======
   "id": "685ac1e1",
>>>>>>> e0c71349550dcbf39dad9c65a6d6e9fba51428d4
>>>>>>> embeddings
   "metadata": {},
   "source": [
    "# Nettoyage des données\n",
    "\n",
    "Nous allons ainsi à nouveau utiliser le jeu de données `spooky`:\n"
   ]
  },
  {
   "cell_type": "code",
   "execution_count": null,
<<<<<<< HEAD
   "id": "0b45f504",
=======
<<<<<<< HEAD
   "id": "dc841940",
=======
   "id": "5e9d5b4e",
>>>>>>> e0c71349550dcbf39dad9c65a6d6e9fba51428d4
>>>>>>> embeddings
   "metadata": {},
   "outputs": [],
   "source": [
    "data_url = 'https://github.com/GU4243-ADS/spring2018-project1-ginnyqg/raw/master/data/spooky.csv'\n",
    "spooky_df = pd.read_csv(data_url)"
   ]
  },
  {
   "cell_type": "markdown",
<<<<<<< HEAD
   "id": "b3c4f7de",
=======
<<<<<<< HEAD
   "id": "aabd46f5",
=======
   "id": "df7f2177",
>>>>>>> e0c71349550dcbf39dad9c65a6d6e9fba51428d4
>>>>>>> embeddings
   "metadata": {},
   "source": [
    "Le jeu de données met ainsi en regard un auteur avec une phrase qu'il a écrite:\n"
   ]
  },
  {
   "cell_type": "code",
   "execution_count": null,
<<<<<<< HEAD
   "id": "e23db869",
=======
<<<<<<< HEAD
   "id": "74d2e5bd",
=======
   "id": "35ce3a59",
>>>>>>> e0c71349550dcbf39dad9c65a6d6e9fba51428d4
>>>>>>> embeddings
   "metadata": {},
   "outputs": [],
   "source": [
    "spooky_df.head()"
   ]
  },
  {
   "cell_type": "markdown",
<<<<<<< HEAD
   "id": "fda06893",
=======
<<<<<<< HEAD
   "id": "728eb3fb",
=======
   "id": "8c221050",
>>>>>>> e0c71349550dcbf39dad9c65a6d6e9fba51428d4
>>>>>>> embeddings
   "metadata": {},
   "source": [
    "```\n",
    "##         id                                               text author\n",
    "## 0  id26305  This process, however, afforded me no means of...    EAP\n",
    "## 1  id17569  It never once occurred to me that the fumbling...    HPL\n",
    "## 2  id11008  In his left hand was a gold snuff box, from wh...    EAP\n",
    "## 3  id27763  How lovely is spring As we looked from Windsor...    MWS\n",
    "## 4  id12958  Finding nothing else, not even gold, the Super...    HPL\n",
    "```"
   ]
  },
  {
   "cell_type": "markdown",
<<<<<<< HEAD
   "id": "560471fe",
=======
<<<<<<< HEAD
   "id": "943f77aa",
=======
   "id": "95853f91",
>>>>>>> e0c71349550dcbf39dad9c65a6d6e9fba51428d4
>>>>>>> embeddings
   "metadata": {},
   "source": [
    "## Preprocessing\n",
    "\n",
    "En NLP, la première étape est souvent celle du *preprocessing*, qui inclut notamment les étapes de tokenization et de nettoyage du texte. Comme celles-ci ont été vues en détail dans le précédent chapitre, on se contentera ici d'un *preprocessing* minimaliste : suppression de la ponctuation et suppression des *stop words* (pour la visualisation et les méthodes de vectorisation basées sur des comptages).\n",
    "\n",
    "Jusqu'à présent, nous avons utilisé principalement `nltk` pour le \n",
    "*preprocessing* de données textuelles. Cette fois, nous proposons\n",
    "d'utiliser la librairie `spaCy` qui permet de mieux automatiser sous forme de\n",
    "*pipeline* de *preprocessing*. \n",
    "\n"
   ]
  },
  {
   "cell_type": "code",
   "execution_count": null,
<<<<<<< HEAD
   "id": "db7e6f6c",
=======
<<<<<<< HEAD
   "id": "fb991d1c",
=======
   "id": "0db60150",
>>>>>>> e0c71349550dcbf39dad9c65a6d6e9fba51428d4
>>>>>>> embeddings
   "metadata": {},
   "outputs": [],
   "source": [
    "nlp = spacy.load('en_core_web_sm')"
   ]
  },
  {
   "cell_type": "markdown",
<<<<<<< HEAD
   "id": "6a121140",
=======
<<<<<<< HEAD
   "id": "1622ddbc",
=======
   "id": "f1d0a349",
>>>>>>> e0c71349550dcbf39dad9c65a6d6e9fba51428d4
>>>>>>> embeddings
   "metadata": {},
   "source": [
    "On va utiliser un `pipe` `spacy` qui permet d'automatiser, et de paralléliser,\n",
    "un certain nombre d'opérations. Les *pipes* sont l'équivalent, en NLP, de\n",
    "nos *pipelines* `scikit` ou des *pipes* `pandas`. Il s'agit donc d'un outil\n",
    "très approprié pour industrialiser un certain nombre d'opérations de\n",
    "*preprocessing*:\n"
   ]
  },
  {
   "cell_type": "code",
   "execution_count": null,
<<<<<<< HEAD
   "id": "f7b9c74d",
=======
<<<<<<< HEAD
   "id": "8aede560",
=======
   "id": "cc2abaf4",
>>>>>>> e0c71349550dcbf39dad9c65a6d6e9fba51428d4
>>>>>>> embeddings
   "metadata": {},
   "outputs": [],
   "source": [
    "def clean_docs(texts, remove_stopwords=False, n_process = 4):\n",
    "    \n",
    "    docs = nlp.pipe(texts, \n",
    "                    n_process=n_process,\n",
    "                    disable=['parser', 'ner',\n",
    "                             'lemmatizer', 'textcat'])\n",
    "    stopwords = nlp.Defaults.stop_words\n",
    "\n",
    "    docs_cleaned = []\n",
    "    for doc in docs:\n",
    "        tokens = [tok.text.lower().strip() for tok in doc if not tok.is_punct]\n",
    "        if remove_stopwords:\n",
    "            tokens = [tok for tok in tokens if tok not in stopwords]\n",
    "        doc_clean = ' '.join(tokens)\n",
    "        docs_cleaned.append(doc_clean)\n",
    "        \n",
    "    return docs_cleaned"
   ]
  },
  {
   "cell_type": "markdown",
<<<<<<< HEAD
   "id": "54e005cc",
=======
<<<<<<< HEAD
   "id": "c72568ba",
=======
   "id": "dfe57df2",
>>>>>>> e0c71349550dcbf39dad9c65a6d6e9fba51428d4
>>>>>>> embeddings
   "metadata": {},
   "source": [
    "On applique la fonction `clean_docs` à notre colonne `pandas`.\n",
    "Les `pandas.Series` étant itérables, elles se comportent comme des listes et\n",
    "fonctionnent ainsi très bien avec notre `pipe` `spacy`\n"
   ]
  },
  {
   "cell_type": "code",
   "execution_count": null,
<<<<<<< HEAD
   "id": "ede77b00",
=======
<<<<<<< HEAD
   "id": "d7ff5696",
=======
   "id": "c6d0b163",
>>>>>>> e0c71349550dcbf39dad9c65a6d6e9fba51428d4
>>>>>>> embeddings
   "metadata": {
    "lines_to_next_cell": 2
   },
   "outputs": [],
   "source": [
    "spooky_df['text_clean'] = clean_docs(spooky_df['text'])"
   ]
  },
  {
   "cell_type": "code",
   "execution_count": null,
<<<<<<< HEAD
   "id": "da76066b",
=======
<<<<<<< HEAD
   "id": "df7dcef5",
=======
   "id": "dc1e12cf",
>>>>>>> e0c71349550dcbf39dad9c65a6d6e9fba51428d4
>>>>>>> embeddings
   "metadata": {},
   "outputs": [],
   "source": [
    "spooky_df.head()"
   ]
  },
  {
   "cell_type": "markdown",
<<<<<<< HEAD
   "id": "dac5a175",
=======
<<<<<<< HEAD
   "id": "0452e514",
=======
   "id": "690be6a8",
>>>>>>> e0c71349550dcbf39dad9c65a6d6e9fba51428d4
>>>>>>> embeddings
   "metadata": {},
   "source": [
    "```\n",
    "##         id  ...                                         text_clean\n",
    "## 0  id26305  ...  this process however afforded me no means of a...\n",
    "## 1  id17569  ...  it never once occurred to me that the fumbling...\n",
    "## 2  id11008  ...  in his left hand was a gold snuff box from whi...\n",
    "## 3  id27763  ...  how lovely is spring as we looked from windsor...\n",
    "## 4  id12958  ...  finding nothing else not even gold the superin...\n",
    "## \n",
    "## [5 rows x 4 columns]\n",
    "```"
   ]
  },
  {
   "cell_type": "markdown",
<<<<<<< HEAD
   "id": "d6a6b195",
=======
<<<<<<< HEAD
   "id": "edebd678",
=======
   "id": "2090359d",
>>>>>>> e0c71349550dcbf39dad9c65a6d6e9fba51428d4
>>>>>>> embeddings
   "metadata": {},
   "source": [
    "## Encodage de la variable à prédire\n",
    "\n",
    "On réalise un simple encodage de la variable à prédire :\n",
    "il y a trois catégories, représentées par des entiers de 0 à 2.\n",
    "\n",
    "Pour cela, on utilise le `LabelEncoder` de `scikit` déjà présenté \n",
    "dans la [partie modélisation](#preprocessing). On va utiliser la méthode\n",
    "`fit_transform` qui permet, en un tour de main, d'appliquer à la fois\n",
    "l'entraînement (`fit`), à savoir la création d'une correspondance entre valeurs\n",
    "numériques et _labels_, et l'appliquer (`transform`) à la même colonne.\n"
   ]
  },
  {
   "cell_type": "code",
   "execution_count": null,
<<<<<<< HEAD
   "id": "a4466c10",
=======
<<<<<<< HEAD
   "id": "db1105f8",
=======
   "id": "f60749e7",
>>>>>>> e0c71349550dcbf39dad9c65a6d6e9fba51428d4
>>>>>>> embeddings
   "metadata": {},
   "outputs": [],
   "source": [
    "le = LabelEncoder()\n",
    "spooky_df['author_encoded'] = le.fit_transform(spooky_df['author'])"
   ]
  },
  {
   "cell_type": "markdown",
<<<<<<< HEAD
   "id": "ee3f5779",
=======
<<<<<<< HEAD
   "id": "877c2c19",
=======
   "id": "a8ff604c",
>>>>>>> e0c71349550dcbf39dad9c65a6d6e9fba51428d4
>>>>>>> embeddings
   "metadata": {},
   "source": [
    "On peut vérifier les classes de notre `LabelEncoder`:\n"
   ]
  },
  {
   "cell_type": "code",
   "execution_count": null,
<<<<<<< HEAD
   "id": "60dd8719",
=======
<<<<<<< HEAD
   "id": "7169e075",
=======
   "id": "78a75386",
>>>>>>> e0c71349550dcbf39dad9c65a6d6e9fba51428d4
>>>>>>> embeddings
   "metadata": {},
   "outputs": [],
   "source": [
    "le.classes_"
   ]
  },
  {
   "cell_type": "markdown",
<<<<<<< HEAD
   "id": "b2f5bd88",
=======
<<<<<<< HEAD
   "id": "91475480",
=======
   "id": "95df556f",
>>>>>>> e0c71349550dcbf39dad9c65a6d6e9fba51428d4
>>>>>>> embeddings
   "metadata": {},
   "source": [
    "```\n",
    "## array(['EAP', 'HPL', 'MWS'], dtype=object)\n",
    "```\n",
    "\n",
    "## Construction des bases d'entraînement et de test\n",
    "\n",
    "On met de côté un échantillon de test (20 %) avant toute analyse (même descriptive).\n",
    "Cela permettra d'évaluer nos différents modèles toute à la fin de manière très rigoureuse,\n",
    "puisque ces données n'auront jamais utilisées pendant l'entraînement.\n",
    "\n",
    "Notre échantillon initial n'est pas balancé puisqu'on retrouve plus d'oeuvres de\n",
    "certains auteurs que d'autres. On va donc stratifier notre échantillon\n",
    "pour s'assurer qu'on a bien une répartition similaire d'auteurs dans nos\n",
    "ensembles d'entraînement et de test.\n"
   ]
  },
  {
   "cell_type": "code",
   "execution_count": null,
<<<<<<< HEAD
   "id": "ed92330e",
=======
<<<<<<< HEAD
   "id": "125cf99d",
=======
   "id": "b2cfd1f0",
>>>>>>> e0c71349550dcbf39dad9c65a6d6e9fba51428d4
>>>>>>> embeddings
   "metadata": {
    "lines_to_next_cell": 0
   },
   "outputs": [],
   "source": [
    "X_train, X_test, y_train, y_test = train_test_split(spooky_df['text_clean'].values, \n",
    "                                                    spooky_df['author_encoded'].values, \n",
    "                                                    test_size=0.2, \n",
    "                                                    random_state=33,\n",
    "                                                    stratify = spooky_df['author_encoded'].values)"
   ]
  },
  {
   "cell_type": "markdown",
<<<<<<< HEAD
   "id": "0d172c4f",
=======
<<<<<<< HEAD
   "id": "3fdc7080",
=======
   "id": "02effafd",
>>>>>>> e0c71349550dcbf39dad9c65a6d6e9fba51428d4
>>>>>>> embeddings
   "metadata": {},
   "source": [
    "\n"
   ]
  },
  {
   "cell_type": "code",
   "execution_count": null,
<<<<<<< HEAD
   "id": "d4c1cd75",
=======
<<<<<<< HEAD
   "id": "ea5222f7",
=======
   "id": "6eb5db46",
>>>>>>> e0c71349550dcbf39dad9c65a6d6e9fba51428d4
>>>>>>> embeddings
   "metadata": {},
   "outputs": [],
   "source": [
    "X_train[0]"
   ]
  },
  {
   "cell_type": "markdown",
<<<<<<< HEAD
   "id": "e2dd498a",
=======
<<<<<<< HEAD
   "id": "1a1bd71d",
=======
   "id": "c2e40a86",
>>>>>>> e0c71349550dcbf39dad9c65a6d6e9fba51428d4
>>>>>>> embeddings
   "metadata": {},
   "source": [
    "```\n",
    "## 'for the first time during many hours or perhaps days i thought'\n",
    "```\n",
    "\n",
    "On peut aussi vérifier qu'on est capable de retrouver\n",
    "la correspondance entre nos auteurs initiaux avec\n",
    "la méthode `inverse_transform`\n"
   ]
  },
  {
   "cell_type": "code",
   "execution_count": null,
<<<<<<< HEAD
   "id": "dc2f06ea",
=======
<<<<<<< HEAD
   "id": "04979c03",
=======
   "id": "95fe052e",
>>>>>>> e0c71349550dcbf39dad9c65a6d6e9fba51428d4
>>>>>>> embeddings
   "metadata": {},
   "outputs": [],
   "source": [
    "print(y_train[0], le.inverse_transform([y_train[0]])[0])"
   ]
  },
  {
   "cell_type": "markdown",
<<<<<<< HEAD
   "id": "42ad8500",
=======
<<<<<<< HEAD
   "id": "8345a201",
=======
   "id": "02e3aa7e",
>>>>>>> e0c71349550dcbf39dad9c65a6d6e9fba51428d4
>>>>>>> embeddings
   "metadata": {},
   "source": [
    "```\n",
    "## 0 EAP\n",
    "```\n",
    "\n",
    "# Statistiques exploratoires\n",
    "\n",
    "## Répartition des labels\n",
    "\n",
    "Refaisons un graphique que nous avons déjà produit précédemment pour voir\n",
    "la répartition de notre corpus entre auteurs:\n"
   ]
  },
  {
   "cell_type": "code",
   "execution_count": null,
<<<<<<< HEAD
   "id": "4a196470",
=======
<<<<<<< HEAD
   "id": "391747b9",
=======
   "id": "beb3af32",
>>>>>>> e0c71349550dcbf39dad9c65a6d6e9fba51428d4
>>>>>>> embeddings
   "metadata": {
    "lines_to_next_cell": 2
   },
   "outputs": [],
   "source": [
    "pd.Series(le.inverse_transform(y_train)).value_counts().plot(kind='bar')\n",
    "plt.savefig(\"repart.png\", bbox_inches='tight')"
   ]
  },
  {
   "cell_type": "markdown",
<<<<<<< HEAD
   "id": "230e4fef",
=======
<<<<<<< HEAD
   "id": "d18c65ef",
=======
   "id": "b487dc6f",
>>>>>>> e0c71349550dcbf39dad9c65a6d6e9fba51428d4
>>>>>>> embeddings
   "metadata": {},
   "source": [
    "On observe une petite asymétrie : les passages des livres d'Edgar Allen Poe sont plus nombreux dans notre corpus d'entraînement, ce qui peut être problématique dans le cadre d'une tâche de classification.\n",
    "L'écart n'est pas dramatique, mais on essaiera d'en tenir compte dans l'analyse en choisissant une métrique d'évaluation pertinente. \n",
    "\n",
    "## Mots les plus fréquemment utilisés par chaque auteur\n",
    "\n",
    "On va supprimer les *stopwords* pour réduire le bruit dans notre jeu\n",
    "de données\n"
   ]
  },
  {
   "cell_type": "code",
   "execution_count": null,
<<<<<<< HEAD
   "id": "2ef4a017",
=======
<<<<<<< HEAD
   "id": "e4d771e7",
=======
   "id": "330f7f4a",
>>>>>>> e0c71349550dcbf39dad9c65a6d6e9fba51428d4
>>>>>>> embeddings
   "metadata": {},
   "outputs": [],
   "source": [
    "# Suppression des stop words\n",
    "X_train_no_sw = clean_docs(X_train, remove_stopwords=True)\n",
    "X_train_no_sw = np.array(X_train_no_sw)"
<<<<<<< HEAD
=======
   ]
  },
  {
   "cell_type": "markdown",
<<<<<<< HEAD
   "id": "c7817985",
=======
   "id": "d09d816e",
>>>>>>> embeddings
   "metadata": {},
   "source": [
    "Pour visualiser rapidement nos corpus, on peut utiliser la technique des\n",
    "nuages de mots déjà vue à plusieurs reprises. \n",
    "\n",
    "Vous pouvez essayer de faire vous-même les nuages ci-dessous\n",
    "ou cliquer sur la ligne ci-dessous pour afficher le code ayant\n",
    "généré les figures:\n",
    "\n"
   ]
  },
  {
   "cell_type": "code",
   "execution_count": null,
<<<<<<< HEAD
   "id": "0f02ab2d",
=======
   "id": "4150d4db",
>>>>>>> embeddings
   "metadata": {
    "lines_to_next_cell": 2
   },
   "outputs": [],
   "source": [
    "def plot_top_words(initials, ax, n_words=20):\n",
    "    # Calcul des mots les plus fréquemment utilisés par l'auteur\n",
    "    texts = X_train_no_sw[le.inverse_transform(y_train) == initials]\n",
    "    all_tokens = ' '.join(texts).split()\n",
    "    counts = Counter(all_tokens)\n",
    "    top_words = [word[0] for word in counts.most_common(n_words)]\n",
    "    top_words_counts = [word[1] for word in counts.most_common(n_words)]\n",
    "    \n",
    "    # Représentation sous forme de barplot\n",
    "    ax = sns.barplot(ax = ax, x=top_words, y=top_words_counts)\n",
    "    ax.set_title(f'Most Common Words used by {initials_to_author[initials]}')"
   ]
  },
  {
   "cell_type": "code",
   "execution_count": null,
<<<<<<< HEAD
   "id": "ee1590de",
=======
   "id": "44f148cf",
>>>>>>> embeddings
   "metadata": {
    "lines_to_next_cell": 0
   },
   "outputs": [],
   "source": [
    "initials_to_author = {\n",
    "    'EAP': 'Edgar Allen Poe',\n",
    "    'HPL': 'H.P. Lovecraft',\n",
    "    'MWS': 'Mary Wollstonecraft Shelley'\n",
    "}\n",
    "\n",
    "fig, axs = plt.subplots(3, 1, figsize = (12,12))\n",
    "\n",
    "plot_top_words('EAP', ax = axs[0])\n",
    "plot_top_words('HPL', ax = axs[1])\n",
    "plot_top_words('MWS', ax = axs[2])"
>>>>>>> e0c71349550dcbf39dad9c65a6d6e9fba51428d4
   ]
  },
  {
   "cell_type": "markdown",
<<<<<<< HEAD
   "id": "71c546b6",
=======
<<<<<<< HEAD
   "id": "d40f8c2c",
   "metadata": {},
   "source": [
    "Pour visualiser rapidement nos corpus, on peut utiliser la technique des\n",
    "nuages de mots déjà vue à plusieurs reprises. \n",
    "\n",
    "Vous pouvez essayer de faire vous-même les nuages ci-dessous\n",
    "ou cliquer sur la ligne ci-dessous pour afficher le code ayant\n",
    "généré les figures:\n",
    "\n"
   ]
  },
  {
   "cell_type": "code",
   "execution_count": null,
   "id": "92ddffb1",
   "metadata": {
    "lines_to_next_cell": 2
   },
   "outputs": [],
   "source": [
    "def plot_top_words(initials, ax, n_words=20):\n",
    "    # Calcul des mots les plus fréquemment utilisés par l'auteur\n",
    "    texts = X_train_no_sw[le.inverse_transform(y_train) == initials]\n",
    "    all_tokens = ' '.join(texts).split()\n",
    "    counts = Counter(all_tokens)\n",
    "    top_words = [word[0] for word in counts.most_common(n_words)]\n",
    "    top_words_counts = [word[1] for word in counts.most_common(n_words)]\n",
    "    \n",
    "    # Représentation sous forme de barplot\n",
    "    plt.style.use('dark_background')\n",
    "    ax = sns.barplot(ax = ax, x=top_words, y=top_words_counts)\n",
    "    ax.set_title(f'Most Common Words used by {initials_to_author[initials]}')"
   ]
  },
  {
   "cell_type": "code",
   "execution_count": null,
   "id": "ce452bb5",
   "metadata": {
    "lines_to_next_cell": 0
   },
   "outputs": [],
   "source": [
    "initials_to_author = {\n",
    "    'EAP': 'Edgar Allen Poe',\n",
    "    'HPL': 'H.P. Lovecraft',\n",
    "    'MWS': 'Mary Wollstonecraft Shelley'\n",
    "}\n",
    "\n",
    "fig, axs = plt.subplots(3, 1, figsize = (12,12))\n",
    "\n",
    "plot_top_words('EAP', ax = axs[0])\n",
    "plot_top_words('HPL', ax = axs[1])\n",
    "plot_top_words('MWS', ax = axs[2])"
=======
   "id": "e8d5ab4c",
>>>>>>> embeddings
   "metadata": {},
   "source": [
    "\n",
    "\n",
    "\n",
    "\n"
<<<<<<< HEAD
=======
>>>>>>> e0c71349550dcbf39dad9c65a6d6e9fba51428d4
>>>>>>> embeddings
   ]
  },
  {
   "cell_type": "markdown",
<<<<<<< HEAD
   "id": "426ebbd3",
=======
<<<<<<< HEAD
   "id": "b21c9db7",
=======
   "id": "109feb37",
>>>>>>> embeddings
   "metadata": {},
   "source": [
    "Beaucoup de mots se retrouvent très utilisés par les trois auteurs.\n",
    "Il y a cependant des différences notables : le mot _\"life\"_\n",
    "est le plus employé par MWS, alors qu'il n'apparaît pas dans les deux autres tops.\n",
    "De même, le mot _\"old\"_ est le plus utilisé par HPL\n",
    "là où les deux autres ne l'utilisent pas de manière surreprésentée.\n",
    "\n",
    "Il semble donc qu'il y ait des particularités propres à chacun des auteurs\n",
    "en termes de vocabulaire,\n",
    "ce qui laisse penser qu'il est envisageable de prédire les auteurs à partir\n",
    "de leurs textes dans une certaine mesure.\n",
    "\n",
    "# Prédiction sur le set d'entraînement\n",
    "\n",
    "Nous allons à présent vérifier cette conjecture en comparant\n",
    "plusieurs modèles de vectorisation,\n",
    "_i.e._ de transformation du texte en objets numériques\n",
    "pour que l'information contenue soit exploitable dans un modèle de classification.\n",
    "\n",
    "## Démarche\n",
    "\n",
    "Comme nous nous intéressons plus à l'effet de la vectorisation qu'à la tâche de classification en elle-même,\n",
    "nous allons utiliser un algorithme de classification simple (un SVM linéaire), avec des paramètres non fine-tunés.\n",
    "\n",
    "Ce modèle est connu pour être très performant sur les tâches de classification de texte, et nous fournira donc une bonne *baseline*. Cela nous permettra également de comparer de manière objective l'impact des méthodes de vectorisation sur la performance finale.\n",
    "\n",
    "On va utiliser au maximum les objets de type pipeline de `sklearn`,\n",
    "qui permettent de réaliser des analyses reproductibles\n",
    "et de fine-tuner proprement les différents hyperparamètres.\n",
    "\n",
    "Pour les deux premières méthodes de vectorisation\n",
    "(basées sur des fréquences et fréquences relatives des mots),\n",
    "on va simplement normaliser les données d'entrée, ce qui va permettre au SVM de converger plus rapidement, ces modèles étant sensibles aux différences d'échelle dans les données.\n",
    "\n",
    "On va également _fine-tuner_ via _grid-search_\n",
    "certains hyperparamètres liés à ces méthodes de vectorisation : \n",
    "\n",
    "- on teste différents _ranges_ de `n-grams` (unigrammes et unigrammes + bigrammes)\n",
    "- on teste avec et sans _stop-words_\n",
    "\n",
    "Afin d'éviter le surapprentissage,\n",
    "on va évaluer les différents modèles via validation croisée, calculée sur 4 blocs.\n",
    "\n",
    "On récupère à la fin le meilleur modèle selon une métrique spécifiée.\n",
    "On choisit le `score F1`,\n",
    "moyenne harmonique de la précision et du rappel,\n",
    "qui donne un poids équilibré aux deux métriques, tout en pénalisant fortement le cas où l'une des deux est faible.\n",
    "Précisément, on retient le `score F1 *micro-averaged*` :\n",
    "les contributions des différentes classes à prédire sont agrégées,\n",
    "puis on calcule le `score F1` sur ces données aggrégées.\n",
    "L'avantage de ce choix est qu'il permet de tenir compte des différences\n",
    "de fréquences des différentes classes.\n"
   ]
  },
  {
   "cell_type": "code",
   "execution_count": null,
<<<<<<< HEAD
   "id": "cd60e9ee",
   "metadata": {},
   "outputs": [],
   "source": [
    "clf = LinearSVC(max_iter=10000, C=0.1)"
=======
   "id": "43d0d820",
>>>>>>> e0c71349550dcbf39dad9c65a6d6e9fba51428d4
   "metadata": {},
   "outputs": [],
   "source": [
<<<<<<< HEAD
    "\n",
    "\n",
    "\n",
    "\n"
=======
    "clf = LinearSVC(max_iter=10000, C=0.1)"
>>>>>>> e0c71349550dcbf39dad9c65a6d6e9fba51428d4
>>>>>>> embeddings
   ]
  },
  {
   "cell_type": "markdown",
<<<<<<< HEAD
   "id": "43c909d8",
=======
<<<<<<< HEAD
   "id": "b786839d",
   "metadata": {},
   "source": [
    "Beaucoup de mots se retrouvent très utilisés par les trois auteurs.\n",
    "Il y a cependant des différences notables : le mot _\"life\"_\n",
    "est le plus employé par MWS, alors qu'il n'apparaît pas dans les deux autres tops.\n",
    "De même, le mot _\"old\"_ est le plus utilisé par HPL\n",
    "là où les deux autres ne l'utilisent pas de manière surreprésentée.\n",
    "\n",
    "Il semble donc qu'il y ait des particularités propres à chacun des auteurs\n",
    "en termes de vocabulaire,\n",
    "ce qui laisse penser qu'il est envisageable de prédire les auteurs à partir\n",
    "de leurs textes dans une certaine mesure.\n",
    "\n",
    "# Prédiction sur le set d'entraînement\n",
    "\n",
    "Nous allons à présent vérifier cette conjecture en comparant\n",
    "plusieurs modèles de vectorisation,\n",
    "_i.e._ de transformation du texte en objets numériques\n",
    "pour que l'information contenue soit exploitable dans un modèle de classification.\n",
    "\n",
    "## Démarche\n",
    "\n",
    "Comme nous nous intéressons plus à l'effet de la vectorisation qu'à la tâche de classification en elle-même,\n",
    "nous allons utiliser un algorithme de classification simple (un SVM linéaire), avec des paramètres non fine-tunés.\n",
    "\n",
    "Ce modèle est connu pour être très performant sur les tâches de classification de texte, et nous fournira donc une bonne *baseline*. Cela nous permettra également de comparer de manière objective l'impact des méthodes de vectorisation sur la performance finale.\n",
    "\n",
    "On va utiliser au maximum les objets de type pipeline de `sklearn`,\n",
    "qui permettent de réaliser des analyses reproductibles\n",
    "et de fine-tuner proprement les différents hyperparamètres.\n",
    "\n",
    "Pour les deux premières méthodes de vectorisation\n",
    "(basées sur des fréquences et fréquences relatives des mots),\n",
    "on va simplement normaliser les données d'entrée, ce qui va permettre au SVM de converger plus rapidement, ces modèles étant sensibles aux différences d'échelle dans les données.\n",
    "\n",
    "On va également _fine-tuner_ via _grid-search_\n",
    "certains hyperparamètres liés à ces méthodes de vectorisation : \n",
    "\n",
    "- on teste différents _ranges_ de `n-grams` (unigrammes et unigrammes + bigrammes)\n",
    "- on teste avec et sans _stop-words_\n",
    "\n",
    "Afin d'éviter le surapprentissage,\n",
    "on va évaluer les différents modèles via validation croisée, calculée sur 4 blocs.\n",
    "\n",
    "On récupère à la fin le meilleur modèle selon une métrique spécifiée.\n",
    "On choisit le `score F1`,\n",
    "moyenne harmonique de la précision et du rappel,\n",
    "qui donne un poids équilibré aux deux métriques, tout en pénalisant fortement le cas où l'une des deux est faible.\n",
    "Précisément, on retient le `score F1 *micro-averaged*` :\n",
    "les contributions des différentes classes à prédire sont agrégées,\n",
    "puis on calcule le `score F1` sur ces données aggrégées.\n",
    "L'avantage de ce choix est qu'il permet de tenir compte des différences\n",
    "de fréquences des différentes classes.\n"
   ]
  },
  {
   "cell_type": "code",
   "execution_count": null,
   "id": "549f6273",
   "metadata": {},
   "outputs": [],
   "source": [
    "clf = LinearSVC(max_iter=10000, C=0.1)"
=======
   "id": "e6f9e5d4",
>>>>>>> embeddings
   "metadata": {},
   "source": [
    "## Pipeline de prédiction\n",
    "\n",
    "On va utiliser un *pipeline* `scikit` ce qui va nous permettre d'avoir\n",
    "un code très concis pour effectuer cet ensemble de tâches cohérentes. \n",
    "De plus, cela va nous assurer de gérer de manière cohérentes nos différentes\n",
    "transformations (cf. [partie sur les pipelines](#pipelines))\n",
    "\n",
    "Pour se faciliter la vie, on définit une fonction `fit_vectorizers` qui\n",
    "intègre dans un *pipeline* générique une méthode d'estimation `scikit`\n",
    "et fait de la validation croisée en cherchant le meilleur modèle\n",
    "(en excluant/incluant les *stopwords* et avec unigrammes/bigrammes)\n"
   ]
  },
  {
   "cell_type": "code",
   "execution_count": null,
<<<<<<< HEAD
   "id": "ff2932b1",
=======
   "id": "9ad56a37",
>>>>>>> embeddings
   "metadata": {},
   "outputs": [],
   "source": [
    "def fit_vectorizers(vectorizer):\n",
    "    pipeline = Pipeline(\n",
    "    [\n",
    "        (\"vect\", vectorizer()),\n",
    "        (\"scaling\", StandardScaler(with_mean=False)),\n",
    "        (\"clf\", clf),\n",
    "    ]\n",
    "    )\n",
    "\n",
    "    parameters = {\n",
    "        \"vect__ngram_range\": ((1, 1), (1, 2)),  # unigrams or bigrams\n",
    "        \"vect__stop_words\": (\"english\", None)\n",
    "    }\n",
    "\n",
    "    grid_search = GridSearchCV(pipeline, parameters, scoring='f1_micro',\n",
    "                               cv=4, n_jobs=4, verbose=1)\n",
    "    grid_search.fit(X_train, y_train)\n",
    "\n",
    "    best_parameters = grid_search.best_estimator_.get_params()\n",
    "    for param_name in sorted(parameters.keys()):\n",
    "        print(\"\\t%s: %r\" % (param_name, best_parameters[param_name]))\n",
    "\n",
    "    print(f\"CV scores {grid_search.cv_results_['mean_test_score']}\")\n",
    "    print(f\"Mean F1 {np.mean(grid_search.cv_results_['mean_test_score'])}\")\n",
    "    \n",
    "    return grid_search"
<<<<<<< HEAD
=======
>>>>>>> e0c71349550dcbf39dad9c65a6d6e9fba51428d4
>>>>>>> embeddings
   ]
  },
  {
   "cell_type": "markdown",
<<<<<<< HEAD
   "id": "b6bba259",
   "metadata": {},
   "source": [
=======
<<<<<<< HEAD
   "id": "4241f748",
   "metadata": {},
   "source": [
    "## Pipeline de prédiction\n",
    "\n",
    "On va utiliser un *pipeline* `scikit` ce qui va nous permettre d'avoir\n",
    "un code très concis pour effectuer cet ensemble de tâches cohérentes. \n",
    "De plus, cela va nous assurer de gérer de manière cohérentes nos différentes\n",
    "transformations (cf. [partie sur les pipelines](#pipelines))\n",
    "\n",
    "Pour se faciliter la vie, on définit une fonction `fit_vectorizers` qui\n",
    "intègre dans un *pipeline* générique une méthode d'estimation `scikit`\n",
    "et fait de la validation croisée en cherchant le meilleur modèle\n",
    "(en excluant/incluant les *stopwords* et avec unigrammes/bigrammes)\n"
=======
   "id": "3b6261b9",
   "metadata": {},
   "source": [
>>>>>>> embeddings
    "# Approche _bag-of-words_\n",
    "\n",
    "On commence par une approche __\"bag-of-words\"__, \n",
    "i.e. qui revient simplement à représenter chaque document par un vecteur\n",
    "qui compte le nombre d'apparitions de chaque mot du vocabulaire dans le document.\n"
<<<<<<< HEAD
=======
>>>>>>> e0c71349550dcbf39dad9c65a6d6e9fba51428d4
>>>>>>> embeddings
   ]
  },
  {
   "cell_type": "code",
   "execution_count": null,
<<<<<<< HEAD
   "id": "7aeea7e3",
   "metadata": {},
   "outputs": [],
   "source": [
    "cv_bow = fit_vectorizers(CountVectorizer)"
=======
<<<<<<< HEAD
   "id": "afc2e786",
   "metadata": {},
   "outputs": [],
   "source": [
    "def fit_vectorizers(vectorizer):\n",
    "    pipeline = Pipeline(\n",
    "    [\n",
    "        (\"vect\", vectorizer()),\n",
    "        (\"scaling\", StandardScaler(with_mean=False)),\n",
    "        (\"clf\", clf),\n",
    "    ]\n",
    "    )\n",
    "\n",
    "    parameters = {\n",
    "        \"vect__ngram_range\": ((1, 1), (1, 2)),  # unigrams or bigrams\n",
    "        \"vect__stop_words\": (\"english\", None)\n",
    "    }\n",
    "\n",
    "    grid_search = GridSearchCV(pipeline, parameters, scoring='f1_micro',\n",
    "                               cv=4, n_jobs=4, verbose=1)\n",
    "    grid_search.fit(X_train, y_train)\n",
    "\n",
    "    best_parameters = grid_search.best_estimator_.get_params()\n",
    "    for param_name in sorted(parameters.keys()):\n",
    "        print(\"\\t%s: %r\" % (param_name, best_parameters[param_name]))\n",
    "\n",
    "    print(f\"CV scores {grid_search.cv_results_['mean_test_score']}\")\n",
    "    print(f\"Mean F1 {np.mean(grid_search.cv_results_['mean_test_score'])}\")\n",
    "    \n",
    "    return grid_search"
=======
   "id": "0e5dc929",
   "metadata": {},
   "outputs": [],
   "source": [
    "cv_bow = fit_vectorizers(CountVectorizer)"
>>>>>>> e0c71349550dcbf39dad9c65a6d6e9fba51428d4
>>>>>>> embeddings
   ]
  },
  {
   "cell_type": "markdown",
<<<<<<< HEAD
   "id": "a0698af0",
   "metadata": {},
   "source": [
=======
<<<<<<< HEAD
   "id": "ccf4884a",
   "metadata": {},
   "source": [
    "# Approche _bag-of-words_\n",
    "\n",
    "On commence par une approche __\"bag-of-words\"__, \n",
    "i.e. qui revient simplement à représenter chaque document par un vecteur\n",
    "qui compte le nombre d'apparitions de chaque mot du vocabulaire dans le document.\n"
=======
   "id": "a66f0c2b",
   "metadata": {},
   "source": [
>>>>>>> embeddings
    "```\n",
    "## Fitting 4 folds for each of 4 candidates, totalling 16 fits\n",
    "## \tvect__ngram_range: (1, 2)\n",
    "## \tvect__stop_words: None\n",
    "## CV scores [0.65613231 0.68467074 0.59318236 0.78152334]\n",
    "## Mean F1 0.6788771863997067\n",
    "```\n",
    "\n",
    "# TF-IDF\n",
    "\n",
    "On s'intéresse ensuite à l'approche __TF-IDF__,\n",
    "qui permet de tenir compte des fréquences *relatives* des mots.\n",
    "\n",
    "Ainsi, pour un mot donné, on va multiplier la fréquence d'apparition du mot dans le document (calculé comme dans la méthode précédente) par un terme qui pénalise une fréquence élevée du mot dans le corpus. L'image ci-dessous, empruntée à Chris Albon, illustre cette mesure:\n",
    "\n",
    "![](https://chrisalbon.com/images/machine_learning_flashcards/TF-IDF_print.png)\n",
    "*Source: [https://chrisalbon](https://chrisalbon.com/code/machine_learning/preprocessing_text/tf-idf/)*\n",
    "\n",
    "La vectorisation `TF-IDF` permet donc de limiter l'influence des *stop-words*\n",
    "et donc de donner plus de poids aux mots les plus salients d'un document.\n",
    "On observe clairement que la performance de classification est bien supérieure,\n",
    "ce qui montre la pertinence de cette technique.\n",
    "\n"
>>>>>>> e0c71349550dcbf39dad9c65a6d6e9fba51428d4
   ]
  },
  {
   "cell_type": "code",
   "execution_count": null,
<<<<<<< HEAD
   "id": "6496b96c",
=======
<<<<<<< HEAD
   "id": "541aa276",
   "metadata": {},
   "outputs": [],
   "source": [
    "cv_bow = fit_vectorizers(CountVectorizer)"
=======
   "id": "8d56e2fa",
>>>>>>> embeddings
   "metadata": {},
   "outputs": [],
   "source": [
    "cv_tfidf = fit_vectorizers(TfidfVectorizer)"
>>>>>>> e0c71349550dcbf39dad9c65a6d6e9fba51428d4
   ]
  },
  {
   "cell_type": "markdown",
<<<<<<< HEAD
   "id": "5337f0ff",
=======
<<<<<<< HEAD
   "id": "4744a580",
=======
   "id": "b03fcbc7",
>>>>>>> e0c71349550dcbf39dad9c65a6d6e9fba51428d4
>>>>>>> embeddings
   "metadata": {},
   "source": [
    "```\n",
    "## Fitting 4 folds for each of 4 candidates, totalling 16 fits\n",
    "## \tvect__ngram_range: (1, 2)\n",
    "## \tvect__stop_words: None\n",
<<<<<<< HEAD
    "## CV scores [0.65613231 0.68467074 0.59318236 0.78152334]\n",
    "## Mean F1 0.6788771863997067\n",
    "```\n",
    "\n",
    "# TF-IDF\n",
    "\n",
    "On s'intéresse ensuite à l'approche __TF-IDF__,\n",
    "qui permet de tenir compte des fréquences *relatives* des mots.\n",
    "\n",
    "Ainsi, pour un mot donné, on va multiplier la fréquence d'apparition du mot dans le document (calculé comme dans la méthode précédente) par un terme qui pénalise une fréquence élevée du mot dans le corpus. L'image ci-dessous, empruntée à Chris Albon, illustre cette mesure:\n",
    "\n",
    "![](https://chrisalbon.com/images/machine_learning_flashcards/TF-IDF_print.png)\n",
    "*Source: [https://chrisalbon](https://chrisalbon.com/code/machine_learning/preprocessing_text/tf-idf/)*\n",
    "\n",
    "La vectorisation `TF-IDF` permet donc de limiter l'influence des *stop-words*\n",
    "et donc de donner plus de poids aux mots les plus salients d'un document.\n",
    "On observe clairement que la performance de classification est bien supérieure,\n",
    "ce qui montre la pertinence de cette technique.\n",
=======
    "## CV scores [0.68486264 0.72438203 0.75381483 0.80852971]\n",
    "## Mean F1 0.7428973032990371\n",
    "```\n",
    "\n",
    "# Word2vec avec averaging\n",
    "\n",
    "On va maintenant explorer les techniques de vectorisation basées sur les\n",
    "*embeddings* de mots, et notamment la plus populaire : `Word2Vec`.\n",
    "\n",
    "L'idée derrière est simple, mais a révolutionné le NLP :\n",
    "au lieu de représenter les documents par des\n",
    "vecteurs *sparse* de très grande dimension (la taille du vocabulaire)\n",
    "comme on l'a fait jusqu'à présent,\n",
    "on va les représenter par des vecteurs *dense* (continus)\n",
    "de dimension réduite (en général, autour de 100-300).\n",
    "\n",
    "Chacune de ces dimensions va représenter un facteur latent,\n",
    "c'est à dire une variable inobservée,\n",
    "de la même manière que les composantes principales produites par une ACP.\n",
    "\n",
    "*Source: https://medium.com/@zafaralibagh6/simple-tutorial-on-word-embedding-and-word2vec-43d477624b6d*"
   ]
  },
  {
   "cell_type": "markdown",
<<<<<<< HEAD
   "id": "f93ba8b2",
=======
   "id": "a5b4500c",
   "metadata": {},
   "source": [
    "__Pourquoi est-ce intéressant ?__\n",
    "Pour de nombreuses raisons, mais pour résumer :\n",
    "cela permet de beaucoup mieux capturer la similarité sémantique entre les documents.\n",
    "\n",
    "Par exemple, un humain sait qu'un document contenant le mot _\"Roi\"_\n",
    "et un autre document contenant le mot _\"Reine\"_ ont beaucoup de chance\n",
    "d'aborder des sujets semblables.\n",
    "\n",
    "Pourtant, une vectorisation de type comptage ou TF-IDF\n",
    "ne permet pas de saisir cette similarité :\n",
    "le calcul d'une mesure de similarité (norme euclidienne ou similarité cosine)\n",
    "entre les deux vecteurs ne prendra en compte la similarité des deux concepts, puisque les mots utilisés sont différents.\n",
    "\n",
    "A l'inverse, un modèle `word2vec` bien entraîné va capter\n",
    "qu'il existe un facteur latent de type _\"royauté\"_,\n",
    "et la similarité entre les vecteurs associés aux deux mots sera forte.\n",
    "\n",
    "La magie va même plus loin : le modèle captera aussi qu'il existe un\n",
    "facteur latent de type _\"genre\"_,\n",
    "et va permettre de construire un espace sémantique dans lequel les\n",
    "relations arithmétiques entre vecteurs ont du sens ;\n",
    "par exemple :\n",
    "$$\\text{king} - \\text{man} + \\text{woman} ≈ \\text{queen}$$\n",
    "\n",
    "__Comment ces modèles sont-ils entraînés ?__\n",
    "Via une tâche de prédiction résolue par un réseau de neurones simple.\n",
    "\n",
    "L'idée fondamentale est que la signification d'un mot se comprend\n",
    "en regardant les mots qui apparaissent fréquemment dans son voisinage.\n",
    "\n",
    "Pour un mot donné, on va donc essayer de prédire les mots\n",
    "qui apparaissent dans une fenêtre autour du mot cible.\n",
    "\n",
    "En répétant cette tâche de nombreuses fois et sur un corpus suffisamment varié,\n",
    "on obtient finalement des *embeddings* pour chaque mot du vocabulaire,\n",
    "qui présentent les propriétés discutées précédemment.\n",
>>>>>>> e0c71349550dcbf39dad9c65a6d6e9fba51428d4
    "\n"
   ]
  },
  {
   "cell_type": "code",
   "execution_count": null,
<<<<<<< HEAD
   "id": "05d323db",
   "metadata": {},
   "outputs": [],
   "source": [
    "cv_tfidf = fit_vectorizers(TfidfVectorizer)"
   ]
  },
  {
   "cell_type": "markdown",
   "id": "f8cc76a2",
   "metadata": {},
   "source": [
    "```\n",
    "## Fitting 4 folds for each of 4 candidates, totalling 16 fits\n",
    "## \tvect__ngram_range: (1, 2)\n",
    "## \tvect__stop_words: None\n",
    "## CV scores [0.68486264 0.72438203 0.75381483 0.80852971]\n",
    "## Mean F1 0.7428973032990371\n",
    "```\n",
    "\n",
    "# Word2vec avec averaging\n",
    "\n",
    "On va maintenant explorer les techniques de vectorisation basées sur les\n",
    "*embeddings* de mots, et notamment la plus populaire : `Word2Vec`.\n",
    "\n",
    "L'idée derrière est simple, mais a révolutionné le NLP :\n",
    "au lieu de représenter les documents par des\n",
    "vecteurs *sparse* de très grande dimension (la taille du vocabulaire)\n",
    "comme on l'a fait jusqu'à présent,\n",
    "on va les représenter par des vecteurs *dense* (continus)\n",
    "de dimension réduite (en général, autour de 100-300).\n",
    "\n",
    "Chacune de ces dimensions va représenter un facteur latent,\n",
    "c'est à dire une variable inobservée,\n",
    "de la même manière que les composantes principales produites par une ACP.\n",
    "\n"
   ]
  },
  {
   "cell_type": "markdown",
   "id": "741ae5ef",
>>>>>>> embeddings
   "metadata": {},
   "source": [
    "__Pourquoi est-ce intéressant ?__\n",
    "Pour de nombreuses raisons, mais pour résumer :\n",
    "cela permet de beaucoup mieux capturer la similarité sémantique entre les documents.\n",
    "\n",
    "Par exemple, un humain sait qu'un document contenant le mot _\"Roi\"_\n",
    "et un autre document contenant le mot _\"Reine\"_ ont beaucoup de chance\n",
    "d'aborder des sujets semblables.\n",
    "\n",
    "Pourtant, une vectorisation de type comptage ou TF-IDF\n",
    "ne permet pas de saisir cette similarité :\n",
    "le calcul d'une mesure de similarité (norme euclidienne ou similarité cosine)\n",
    "entre les deux vecteurs ne prendra en compte la similarité des deux concepts, puisque les mots utilisés sont différents.\n",
    "\n",
    "A l'inverse, un modèle `word2vec` bien entraîné va capter\n",
    "qu'il existe un facteur latent de type _\"royauté\"_,\n",
    "et la similarité entre les vecteurs associés aux deux mots sera forte.\n",
    "\n",
    "La magie va même plus loin : le modèle captera aussi qu'il existe un\n",
    "facteur latent de type _\"genre\"_,\n",
    "et va permettre de construire un espace sémantique dans lequel les\n",
    "relations arithmétiques entre vecteurs ont du sens ;\n",
    "par exemple :\n",
    "$$\\text{king} - \\text{man} + \\text{woman} ≈ \\text{queen}$$\n",
    "\n",
    "__Comment ces modèles sont-ils entraînés ?__\n",
    "Via une tâche de prédiction résolue par un réseau de neurones simple.\n",
    "\n",
    "L'idée fondamentale est que la signification d'un mot se comprend\n",
    "en regardant les mots qui apparaissent fréquemment dans son voisinage.\n",
    "\n",
    "Pour un mot donné, on va donc essayer de prédire les mots\n",
    "qui apparaissent dans une fenêtre autour du mot cible.\n",
    "\n",
    "En répétant cette tâche de nombreuses fois et sur un corpus suffisamment varié,\n",
    "on obtient finalement des *embeddings* pour chaque mot du vocabulaire,\n",
    "qui présentent les propriétés discutées précédemment.\n",
    "\n"
   ]
  },
  {
   "cell_type": "code",
   "execution_count": null,
<<<<<<< HEAD
   "id": "5fb88b8f",
=======
   "id": "b6c05d0f",
=======
   "id": "f4cdc1de",
>>>>>>> e0c71349550dcbf39dad9c65a6d6e9fba51428d4
>>>>>>> embeddings
   "metadata": {
    "lines_to_next_cell": 0
   },
   "outputs": [],
   "source": [
    "X_train_tokens = [text.split() for text in X_train]\n",
    "w2v_model = Word2Vec(X_train_tokens, vector_size=200, window=5, \n",
    "                     min_count=1, workers=4)"
   ]
  },
  {
   "cell_type": "markdown",
<<<<<<< HEAD
   "id": "1827378f",
=======
<<<<<<< HEAD
   "id": "b9a00d5a",
=======
   "id": "8c375fd2",
>>>>>>> e0c71349550dcbf39dad9c65a6d6e9fba51428d4
>>>>>>> embeddings
   "metadata": {},
   "source": [
    "\n"
   ]
  },
  {
   "cell_type": "code",
   "execution_count": null,
<<<<<<< HEAD
   "id": "b205f78a",
=======
<<<<<<< HEAD
   "id": "a0e0cac8",
=======
   "id": "33144647",
>>>>>>> e0c71349550dcbf39dad9c65a6d6e9fba51428d4
>>>>>>> embeddings
   "metadata": {},
   "outputs": [],
   "source": [
    "w2v_model.wv.most_similar(\"mother\")"
   ]
  },
  {
   "cell_type": "markdown",
<<<<<<< HEAD
   "id": "f26fbed7",
   "metadata": {},
   "source": [
    "```\n",
    "## [('wife', 0.9865505695343018), ('own', 0.9858484864234924), ('child', 0.9831435680389404), ('countenance', 0.983066737651825), ('heart', 0.9813422560691833), ('companion', 0.9803611636161804), ('husband', 0.9798547625541687), ('sister', 0.9788311123847961), ('father', 0.978223979473114), ('soul', 0.9770116806030273)]\n",
=======
<<<<<<< HEAD
   "id": "94a2e460",
   "metadata": {},
   "source": [
    "```\n",
    "## [('countenance', 0.9875809550285339), ('daughter', 0.984634518623352), ('soul', 0.9805460572242737), ('wife', 0.9798368215560913), ('own', 0.9788948893547058), ('heart', 0.9776562452316284), ('pulse', 0.9768896102905273), ('aunt', 0.9764512181282043), ('guest', 0.9762728214263916), ('lover', 0.9761380553245544)]\n",
=======
   "id": "63a0b8bb",
   "metadata": {},
   "source": [
    "```\n",
    "## [('sister', 0.9868832230567932), ('own', 0.9858357310295105), ('soul', 0.9843564629554749), ('grandmother', 0.9817497134208679), ('host', 0.9801095724105835), ('countenance', 0.9799167513847351), ('requested', 0.9790165424346924), ('union', 0.9785746932029724), ('heart', 0.9782719612121582), ('beloved', 0.9777069091796875)]\n",
>>>>>>> e0c71349550dcbf39dad9c65a6d6e9fba51428d4
>>>>>>> embeddings
    "```\n",
    "\n",
    "On voit que les mots les plus similaires à _\"mother\"_\n",
    "sont souvent des mots liés à la famille, mais pas toujours.\n",
    "\n",
    "C'est lié à la taille très restreinte du corpus sur lequel on entraîne le modèle,\n",
    "qui ne permet pas de réaliser des associations toujours pertinentes.\n",
    "\n"
   ]
  },
  {
   "cell_type": "code",
   "execution_count": null,
<<<<<<< HEAD
   "id": "765a83d9",
=======
<<<<<<< HEAD
   "id": "3d33aa11",
=======
   "id": "2f77a80a",
>>>>>>> e0c71349550dcbf39dad9c65a6d6e9fba51428d4
>>>>>>> embeddings
   "metadata": {
    "lines_to_next_cell": 0
   },
   "outputs": [],
   "source": [
    "def get_mean_vector(w2v_vectors, words):\n",
    "    words = [word for word in words if word in w2v_vectors]\n",
    "    if words:\n",
    "        avg_vector = np.mean(w2v_vectors[words], axis=0)\n",
    "    else:\n",
    "        avg_vector = np.zeros_like(w2v_vectors['hi'])\n",
    "    return avg_vector\n",
    "\n",
    "def fit_w2v_avg(w2v_vectors):\n",
    "    X_train_vectors = np.array([get_mean_vector(w2v_vectors, words)\n",
    "                                for words in X_train_tokens])\n",
    "    \n",
    "    scores = cross_val_score(clf, X_train_vectors, y_train, \n",
    "                         cv=4, scoring='f1_micro', n_jobs=4)\n",
    "\n",
    "    print(f\"CV scores {scores}\")\n",
    "    print(f\"Mean F1 {np.mean(scores)}\")\n",
    "    return scores"
   ]
  },
  {
   "cell_type": "markdown",
<<<<<<< HEAD
   "id": "9caa4e3d",
=======
<<<<<<< HEAD
   "id": "544b827c",
=======
   "id": "d8d4d697",
>>>>>>> e0c71349550dcbf39dad9c65a6d6e9fba51428d4
>>>>>>> embeddings
   "metadata": {},
   "source": [
    "\n"
   ]
  },
  {
   "cell_type": "code",
   "execution_count": null,
<<<<<<< HEAD
   "id": "7c5c5fec",
=======
<<<<<<< HEAD
   "id": "a60ff0e2",
=======
   "id": "62c0097f",
>>>>>>> e0c71349550dcbf39dad9c65a6d6e9fba51428d4
>>>>>>> embeddings
   "metadata": {},
   "outputs": [],
   "source": [
    "cv_w2vec = fit_w2v_avg(w2v_model.wv)"
<<<<<<< HEAD
=======
   ]
  },
  {
   "cell_type": "markdown",
<<<<<<< HEAD
   "id": "bca74ec1",
   "metadata": {},
   "source": [
    "```\n",
    "## CV scores [0.55822268 0.55158325 0.54724208 0.56321839]\n",
    "## Mean F1 0.5550665997440504\n",
=======
   "id": "f06feb20",
   "metadata": {},
   "source": [
    "```\n",
    "## CV scores [0.55975485 0.55005107 0.54724208 0.55989783]\n",
    "## Mean F1 0.5542364592587375\n",
>>>>>>> embeddings
    "```\n",
    "\n",
    "La performance chute fortement ;\n",
    "la faute à la taille très restreinte du corpus, comme annoncé précédemment.\n",
    "\n",
    "# Word2vec pré-entraîné + averaging\n",
    "\n",
    "Quand on travaille avec des corpus de taille restreinte,\n",
    "c'est généralement une mauvaise idée d'entraîner son propre modèle `word2vec`.\n",
    "\n",
    "Heureusement, des modèles pré-entraînés sur de très gros corpus sont disponibles.\n",
    "Ils permettent de réaliser du *transfer learning*,\n",
    "c'est à dire de bénéficier de la performance d'un modèle qui a été entraîné sur une autre tâche ou bien un autre corpus.\n",
    "\n",
    "L'un des modèles les plus connus pour démarrer est le `glove_model` de\n",
    "`Gensim` (Glove pour _Global Vectors for Word Representation_)[^1]:\n",
    "\n",
    "> GloVe is an unsupervised learning algorithm for obtaining vector representations for words. Training is performed on aggregated global word-word co-occurrence statistics from a corpus, and the resulting representations showcase interesting linear substructures of the word vector space. \n",
    ">\n",
    "> _Source_: https://nlp.stanford.edu/projects/glove/\n",
    "\n",
    "[^1]: Jeffrey Pennington, Richard Socher, and Christopher D. Manning. 2014. _GloVe: Global Vectors for Word Representation_. \n"
   ]
  },
  {
   "cell_type": "code",
   "execution_count": null,
<<<<<<< HEAD
   "id": "40d03ca5",
=======
   "id": "d03649a1",
>>>>>>> embeddings
   "metadata": {},
   "outputs": [],
   "source": [
    "glove_model = gensim.downloader.load('glove-wiki-gigaword-200')"
   ]
  },
  {
   "cell_type": "markdown",
<<<<<<< HEAD
   "id": "f15ac4ac",
=======
   "id": "38dd03de",
>>>>>>> embeddings
   "metadata": {},
   "source": [
    "Par exemple, la représentation vectorielle de roi est l'objet\n",
    "multidimensionnel suivant;\n"
   ]
  },
  {
   "cell_type": "code",
   "execution_count": null,
<<<<<<< HEAD
   "id": "b675d386",
=======
   "id": "5647bb2b",
>>>>>>> embeddings
   "metadata": {},
   "outputs": [],
   "source": [
    "glove_model['king']"
   ]
  },
  {
   "cell_type": "markdown",
<<<<<<< HEAD
   "id": "2a6acbc8",
=======
   "id": "e5355960",
>>>>>>> embeddings
   "metadata": {},
   "source": [
    "```\n",
    "## array([-0.49346  , -0.14768  ,  0.32166  ,  0.056899 ,  0.052572 ,\n",
    "##         0.20192  , -0.13506  , -0.030793 ,  0.15614  , -0.23004  ,\n",
    "##        -0.66376  , -0.27316  ,  0.10391  ,  0.57334  , -0.032355 ,\n",
    "##        -0.32766  , -0.2716   ,  0.32919  ,  0.41305  , -0.18085  ,\n",
    "##         1.5167   ,  2.1649   , -0.10278  ,  0.098019 , -0.018946 ,\n",
    "##         0.027292 , -0.7948   ,  0.36631  , -0.33151  ,  0.2884   ,\n",
    "##         0.10436  , -0.19166  ,  0.27326  , -0.17519  , -0.14986  ,\n",
    "##        -0.072333 , -0.54371  , -0.29728  ,  0.081491 , -0.42673  ,\n",
    "##        -0.36406  , -0.52035  ,  0.18455  ,  0.44121  , -0.32196  ,\n",
    "##         0.39172  ,  0.11952  ,  0.36979  ,  0.29229  , -0.42954  ,\n",
    "##         0.46653  , -0.067243 ,  0.31216  , -0.17216  ,  0.48874  ,\n",
    "##         0.2803   , -0.17577  , -0.35101  ,  0.020792 ,  0.15974  ,\n",
    "##         0.21927  , -0.32499  ,  0.086022 ,  0.38927  , -0.65638  ,\n",
    "##        -0.67401  , -0.41896  ,  1.2709   ,  0.20857  ,  0.28315  ,\n",
    "##         0.58238  , -0.14944  ,  0.3989   ,  0.52681  ,  0.35714  ,\n",
    "##        -0.39101  , -0.55372  , -0.56642  , -0.15762  , -0.48004  ,\n",
    "##         0.40448  ,  0.057518 , -1.0157   ,  0.21755  ,  0.073296 ,\n",
    "##         0.15237  , -0.38362  , -0.75308  , -0.0060254, -0.26232  ,\n",
    "##        -0.54102  , -0.34347  ,  0.11113  ,  0.47685  , -0.7323   ,\n",
    "##         0.77597  ,  0.015216 , -0.66327  , -0.21144  , -0.42964  ,\n",
    "##        -0.7269   , -0.067968 ,  0.50601  ,  0.039817 , -0.27584  ,\n",
    "##        -0.34794  , -0.0474   ,  0.50734  , -0.30777  ,  0.11594  ,\n",
    "##        -0.19211  ,  0.3107   , -0.60075  ,  0.22044  , -0.36265  ,\n",
    "##        -0.59442  , -1.2046   ,  0.10619  , -0.60278  ,  0.21573  ,\n",
    "##        -0.35362  ,  0.55473  ,  0.58094  ,  0.077259 ,  1.0776   ,\n",
    "##        -0.1867   , -1.5168   ,  0.32418  ,  0.83333  ,  0.17366  ,\n",
    "##         1.1232   ,  0.10863  ,  0.55889  ,  0.30799  ,  0.084318 ,\n",
    "##        -0.43178  , -0.042287 , -0.054615 ,  0.054712 , -0.80914  ,\n",
    "##        -0.2443   , -0.076909 ,  0.55216  , -0.71896  ,  0.83319  ,\n",
    "##         0.020735 ,  0.020472 , -0.40279  , -0.28874  ,  0.23758  ,\n",
    "##         0.12576  , -0.15165  , -0.6942   , -0.25174  ,  0.29591  ,\n",
    "##         0.4029   , -1.0618   ,  0.19847  , -0.63463  , -0.70843  ,\n",
    "##         0.067943 ,  0.57366  ,  0.041122 ,  0.17452  ,  0.19431  ,\n",
    "##        -0.28641  , -1.1363   ,  0.45116  , -0.066518 ,  0.82615  ,\n",
    "##        -0.45452  , -0.85652  ,  0.18105  , -0.24187  ,  0.20153  ,\n",
    "##         0.72298  ,  0.17415  , -0.87328  ,  0.69815  ,  0.024706 ,\n",
    "##         0.26174  , -0.0087155, -0.39349  ,  0.13801  , -0.39299  ,\n",
    "##        -0.23057  , -0.22611  , -0.14407  ,  0.010511 , -0.47389  ,\n",
    "##        -0.15645  ,  0.28601  , -0.21772  , -0.49535  ,  0.022209 ,\n",
    "##        -0.23575  , -0.22469  , -0.011578 ,  0.52867  , -0.062309 ],\n",
    "##       dtype=float32)\n",
    "```\n",
    "\n",
    "Comme elle est peu intelligible, on va plutôt rechercher les termes les\n",
    "plus similaires. Par exemple,\n"
   ]
  },
  {
   "cell_type": "code",
   "execution_count": null,
<<<<<<< HEAD
   "id": "3113fc2b",
=======
   "id": "27bca3f9",
>>>>>>> embeddings
   "metadata": {},
   "outputs": [],
   "source": [
    "glove_model.most_similar('mother')"
>>>>>>> e0c71349550dcbf39dad9c65a6d6e9fba51428d4
   ]
  },
  {
   "cell_type": "markdown",
<<<<<<< HEAD
   "id": "a89b7438",
=======
<<<<<<< HEAD
   "id": "33e419ae",
   "metadata": {},
   "source": [
    "```\n",
    "## CV scores [0.56026558 0.55439224 0.55107252 0.56704981]\n",
    "## Mean F1 0.5581950363769426\n",
    "```\n",
    "\n",
    "La performance chute fortement ;\n",
    "la faute à la taille très restreinte du corpus, comme annoncé précédemment.\n",
    "\n",
    "# Word2vec pré-entraîné + averaging\n",
    "\n",
    "Quand on travaille avec des corpus de taille restreinte,\n",
    "c'est généralement une mauvaise idée d'entraîner son propre modèle `word2vec`.\n",
    "\n",
    "Heureusement, des modèles pré-entraînés sur de très gros corpus sont disponibles.\n",
    "Ils permettent de réaliser du *transfer learning*,\n",
    "c'est à dire de bénéficier de la performance d'un modèle qui a été entraîné sur une autre tâche ou bien un autre corpus.\n",
    "\n"
   ]
  },
  {
   "cell_type": "code",
   "execution_count": null,
   "id": "62268ee9",
   "metadata": {
    "lines_to_next_cell": 0
   },
   "outputs": [],
   "source": [
    "glove_model = gensim.downloader.load('glove-wiki-gigaword-200')"
   ]
  },
  {
   "cell_type": "markdown",
   "id": "e3ec7429",
   "metadata": {},
   "source": [
    "\n"
=======
   "id": "93d4429b",
>>>>>>> embeddings
   "metadata": {},
   "source": [
    "```\n",
    "## [('daughter', 0.8648022413253784), ('wife', 0.8568021655082703), ('grandmother', 0.8373793363571167), ('husband', 0.8055646419525146), ('sister', 0.8029242157936096), ('father', 0.7936768531799316), ('her', 0.783749520778656), ('daughters', 0.7589756846427917), ('woman', 0.7579867243766785), ('she', 0.7452898025512695)]\n",
    "```\n",
    "\n",
    "On peut retrouver notre formule précédente\n",
    "\n",
    "$$\\text{king} - \\text{man} + \\text{woman} ≈ \\text{queen}$$\n",
    "dans ce plongement de mots:\n"
>>>>>>> e0c71349550dcbf39dad9c65a6d6e9fba51428d4
   ]
  },
  {
   "cell_type": "code",
   "execution_count": null,
<<<<<<< HEAD
   "id": "8f2b5349",
=======
<<<<<<< HEAD
   "id": "1c00d20a",
   "metadata": {},
   "outputs": [],
   "source": [
    "glove_model.most_similar('mother')"
=======
   "id": "012f9255",
>>>>>>> embeddings
   "metadata": {},
   "outputs": [],
   "source": [
    "glove_model.most_similar(positive = ['king', 'woman'], negative = ['man'])"
   ]
  },
  {
   "cell_type": "markdown",
<<<<<<< HEAD
   "id": "b57ccdf4",
=======
   "id": "874588a0",
>>>>>>> embeddings
   "metadata": {},
   "source": [
    "```\n",
    "## [('queen', 0.6978678107261658), ('princess', 0.6081745028495789), ('monarch', 0.5889754891395569), ('throne', 0.5775108933448792), ('prince', 0.5750998258590698), ('elizabeth', 0.5463595986366272), ('daughter', 0.5399126410484314), ('kingdom', 0.5318052768707275), ('mother', 0.5168544054031372), ('crown', 0.5164473056793213)]\n",
    "```\n",
    "\n",
    "Vous pouvez vous référer à [ce tutoriel](https://jalammar.github.io/illustrated-word2vec/)\n",
    "pour en découvrir plus sur `Word2Vec`.\n",
    "\n",
    "Faisons notre apprentissage par transfert:\n"
   ]
  },
  {
   "cell_type": "code",
   "execution_count": null,
<<<<<<< HEAD
   "id": "a3cc545c",
=======
   "id": "aa391723",
>>>>>>> embeddings
   "metadata": {},
   "outputs": [],
   "source": [
    "cv_w2vec_transfert = fit_w2v_avg(glove_model)"
>>>>>>> e0c71349550dcbf39dad9c65a6d6e9fba51428d4
   ]
  },
  {
   "cell_type": "markdown",
<<<<<<< HEAD
   "id": "de78b04d",
=======
<<<<<<< HEAD
   "id": "6712d9eb",
   "metadata": {},
   "source": [
    "```\n",
    "## [('daughter', 0.8648022413253784), ('wife', 0.8568021655082703), ('grandmother', 0.8373793363571167), ('husband', 0.8055646419525146), ('sister', 0.8029242157936096), ('father', 0.7936768531799316), ('her', 0.783749520778656), ('daughters', 0.7589756846427917), ('woman', 0.7579867243766785), ('she', 0.7452898025512695)]\n",
    "```\n",
    "\n"
=======
   "id": "e8e1c49a",
>>>>>>> embeddings
   "metadata": {},
   "source": [
    "```\n",
    "## CV scores [0.67696629 0.67262513 0.66905005 0.68633461]\n",
    "## Mean F1 0.6762440203403008\n",
    "```\n",
    "\n",
    "La performance remonte substantiellement.\n",
    "Cela étant, on ne parvient pas à faire mieux que les approches basiques,\n",
    "on arrive à peine aux performances de la vectorisation par comptage.\n",
    "\n",
    "En effet, pour rappel, les performances sont les suivantes:\n"
>>>>>>> e0c71349550dcbf39dad9c65a6d6e9fba51428d4
   ]
  },
  {
   "cell_type": "code",
   "execution_count": null,
<<<<<<< HEAD
   "id": "43c5d884",
=======
<<<<<<< HEAD
   "id": "2f556647",
   "metadata": {},
   "outputs": [],
   "source": [
    "cv_w2vec_transfert = fit_w2v_avg(glove_model)"
=======
   "id": "0301fba7",
>>>>>>> embeddings
   "metadata": {},
   "outputs": [],
   "source": [
    "perfs = pd.DataFrame(\n",
    "    [np.mean(cv_bow.cv_results_['mean_test_score']),\n",
    "     np.mean(cv_tfidf.cv_results_['mean_test_score']),\n",
    "    np.mean(cv_w2vec),\n",
    "    np.mean(cv_w2vec_transfert)],\n",
    "    index = ['Bag-of-Words','TF-IDF', 'Word2Vec non pré-entraîné', 'Word2Vec pré-entraîné'],\n",
    "    columns = [\"Mean F1 score\"]\n",
    ").sort_values(\"Mean F1 score\",ascending = False)\n",
    "perfs"
>>>>>>> e0c71349550dcbf39dad9c65a6d6e9fba51428d4
   ]
  },
  {
   "cell_type": "markdown",
<<<<<<< HEAD
   "id": "a9f6c951",
=======
<<<<<<< HEAD
   "id": "db5e539c",
   "metadata": {},
   "source": [
    "```\n",
    "## CV scores [0.67696629 0.67262513 0.66905005 0.68633461]\n",
    "## Mean F1 0.6762440203403008\n",
    "```\n",
    "\n",
    "La performance remonte substantiellement.\n",
    "Cela étant, on ne parvient pas à faire mieux que les approches basiques,\n",
    "on arrive à peine aux performances de la vectorisation par comptage.\n",
    "\n",
    "En effet, pour rappel, les performances sont les suivantes:\n"
   ]
  },
  {
   "cell_type": "code",
   "execution_count": null,
   "id": "cd415ad0",
   "metadata": {},
   "outputs": [],
   "source": [
    "perfs = pd.DataFrame(\n",
    "    [np.mean(cv_bow.cv_results_['mean_test_score']),\n",
    "     np.mean(cv_tfidf.cv_results_['mean_test_score']),\n",
    "    np.mean(cv_w2vec),\n",
    "    np.mean(cv_w2vec_transfert)],\n",
    "    index = ['Bag-of-Words','TF-IDF', 'Word2Vec non pré-entraîné', 'Word2Vec pré-entraîné'],\n",
    "    columns = [\"Mean F1 score\"]\n",
    ").sort_values(\"Mean F1 score\",ascending = False)\n",
    "perfs"
   ]
  },
  {
   "cell_type": "markdown",
   "id": "852c5dad",
>>>>>>> embeddings
   "metadata": {},
   "source": [
    "```\n",
    "##                            Mean F1 score\n",
    "## TF-IDF                          0.742897\n",
    "## Bag-of-Words                    0.678877\n",
    "## Word2Vec pré-entraîné           0.676244\n",
<<<<<<< HEAD
    "## Word2Vec non pré-entraîné       0.555067\n",
=======
    "## Word2Vec non pré-entraîné       0.558195\n",
>>>>>>> embeddings
    "```\n",
    "\n",
    "La cause est cette fois certainement dans la manière dont on exploite\n",
    "les *embeddings* :\n",
    "afin d'obtenir une représentation vectorielle pour chaque document,\n",
    "on moyennise les vecteurs des différents mots compris dans un document.\n",
    "\n",
<<<<<<< HEAD
=======
=======
   "id": "d19a61d1",
   "metadata": {},
   "source": [
    "```\n",
    "##                            Mean F1 score\n",
    "## TF-IDF                          0.742897\n",
    "## Bag-of-Words                    0.678877\n",
    "## Word2Vec pré-entraîné           0.676244\n",
    "## Word2Vec non pré-entraîné       0.554236\n",
    "```\n",
    "\n",
    "La cause est cette fois certainement dans la manière dont on exploite\n",
    "les *embeddings* :\n",
    "afin d'obtenir une représentation vectorielle pour chaque document,\n",
    "on moyennise les vecteurs des différents mots compris dans un document.\n",
    "\n",
>>>>>>> e0c71349550dcbf39dad9c65a6d6e9fba51428d4
>>>>>>> embeddings
    "Cela a plusieurs limites : \n",
    "\n",
    "- on ne tient pas compte de l'ordre et donc du contexte des mots\n",
    "- lorsque les documents sont longs, la moyennisation peut créer\n",
    "des représentation bruitées.\n",
<<<<<<< HEAD
    "\n",
    "# Contextual embeddings\n",
    "\n",
    "Les *embeddings* contextuels visent à pallier les limites des *embeddings*\n",
    "traditionnels évoquées précédemment.\n",
    "\n",
    "Cette fois, les mots n'ont plus de représentation vectorielle fixe,\n",
    "celle-ci est calculée dynamiquement en fonction des mots du voisinage, et ainsi de suite.\n",
    "Cela permet de tenir compte de la structure spatiale des phrases\n",
    "et de tenir compte du fait que le sens d'un mot est fortement dépendant des mots\n",
    "qui l'entourent (ex : dans les phrases \"le président Macron\" et \"le camembert Président\" le mot président n'a pas du tout le même rôle).\n",
    "\n",
=======
    "\n",
    "# Contextual embeddings\n",
    "\n",
    "Les *embeddings* contextuels visent à pallier les limites des *embeddings*\n",
    "traditionnels évoquées précédemment.\n",
    "\n",
    "Cette fois, les mots n'ont plus de représentation vectorielle fixe,\n",
    "celle-ci est calculée dynamiquement en fonction des mots du voisinage, et ainsi de suite.\n",
    "Cela permet de tenir compte de la structure spatiale des phrases\n",
    "et de tenir compte du fait que le sens d'un mot est fortement dépendant des mots\n",
    "qui l'entourent (ex : dans les phrases \"le président Macron\" et \"le camembert Président\" le mot président n'a pas du tout le même rôle).\n",
    "\n",
>>>>>>> e0c71349550dcbf39dad9c65a6d6e9fba51428d4
    "Ces *embeddings* sont produits par des architectures très complexes,\n",
    "de type Transformer (`BERT`, etc.).\n",
    "\n"
   ]
  },
  {
   "cell_type": "code",
   "execution_count": null,
<<<<<<< HEAD
   "id": "c3a6b1f9",
=======
<<<<<<< HEAD
   "id": "b517d569",
=======
   "id": "015b986e",
>>>>>>> e0c71349550dcbf39dad9c65a6d6e9fba51428d4
>>>>>>> embeddings
   "metadata": {
    "lines_to_next_cell": 0
   },
   "outputs": [],
   "source": [
    "model = SentenceTransformer('all-mpnet-base-v2')"
   ]
  },
  {
   "cell_type": "markdown",
<<<<<<< HEAD
   "id": "67d1c173",
=======
<<<<<<< HEAD
   "id": "1248042d",
=======
   "id": "58d95320",
>>>>>>> e0c71349550dcbf39dad9c65a6d6e9fba51428d4
>>>>>>> embeddings
   "metadata": {},
   "source": [
    "\n"
   ]
  },
  {
   "cell_type": "code",
   "execution_count": null,
<<<<<<< HEAD
   "id": "5be94e8b",
=======
<<<<<<< HEAD
   "id": "a321a4ce",
=======
   "id": "3dea6691",
>>>>>>> e0c71349550dcbf39dad9c65a6d6e9fba51428d4
>>>>>>> embeddings
   "metadata": {
    "lines_to_next_cell": 0
   },
   "outputs": [],
   "source": [
    "X_train_vectors = model.encode(X_train)"
   ]
  },
  {
   "cell_type": "markdown",
<<<<<<< HEAD
   "id": "a6fb9b98",
=======
<<<<<<< HEAD
   "id": "7555d650",
=======
   "id": "812fd4dc",
>>>>>>> e0c71349550dcbf39dad9c65a6d6e9fba51428d4
>>>>>>> embeddings
   "metadata": {},
   "source": [
    "\n"
   ]
  },
  {
   "cell_type": "code",
   "execution_count": null,
<<<<<<< HEAD
   "id": "ff7e5373",
=======
<<<<<<< HEAD
   "id": "ea019d85",
=======
   "id": "e33213e2",
>>>>>>> e0c71349550dcbf39dad9c65a6d6e9fba51428d4
>>>>>>> embeddings
   "metadata": {},
   "outputs": [],
   "source": [
    "scores = cross_val_score(clf, X_train_vectors, y_train, \n",
    "                         cv=4, scoring='f1_micro', n_jobs=4)\n",
    "\n",
    "print(f\"CV scores {scores}\")"
   ]
  },
  {
   "cell_type": "markdown",
<<<<<<< HEAD
   "id": "96863471",
=======
<<<<<<< HEAD
   "id": "f88903b1",
=======
   "id": "6324db5e",
>>>>>>> e0c71349550dcbf39dad9c65a6d6e9fba51428d4
>>>>>>> embeddings
   "metadata": {},
   "source": [
    "```\n",
    "## CV scores [0.75       0.7308478  0.74361593 0.75376756]\n",
    "```"
   ]
  },
  {
   "cell_type": "code",
   "execution_count": null,
<<<<<<< HEAD
   "id": "bbb6535c",
=======
<<<<<<< HEAD
   "id": "1a4370c7",
=======
   "id": "a4cb5eca",
>>>>>>> e0c71349550dcbf39dad9c65a6d6e9fba51428d4
>>>>>>> embeddings
   "metadata": {},
   "outputs": [],
   "source": [
    "print(f\"Mean F1 {np.mean(scores)}\")"
   ]
  },
  {
   "cell_type": "markdown",
<<<<<<< HEAD
   "id": "24c402b2",
=======
<<<<<<< HEAD
   "id": "8e778455",
=======
   "id": "39a73af8",
>>>>>>> e0c71349550dcbf39dad9c65a6d6e9fba51428d4
>>>>>>> embeddings
   "metadata": {},
   "source": [
    "```\n",
    "## Mean F1 0.7445578247931987\n",
    "```\n"
   ]
  },
  {
   "cell_type": "code",
   "execution_count": null,
<<<<<<< HEAD
   "id": "86e00503",
=======
<<<<<<< HEAD
   "id": "5dc8f754",
=======
   "id": "2a622e16",
>>>>>>> e0c71349550dcbf39dad9c65a6d6e9fba51428d4
>>>>>>> embeddings
   "metadata": {},
   "outputs": [],
   "source": [
    "perfs = pd.concat(\n",
    "  [perfs,\n",
    "  pd.DataFrame(\n",
    "    [np.mean(scores)],\n",
    "    index = ['Contextual Embedding'],\n",
    "    columns = [\"Mean F1 score\"])]\n",
    ").sort_values(\"Mean F1 score\",ascending = False)\n",
    "perfs"
   ]
  },
  {
   "cell_type": "markdown",
<<<<<<< HEAD
   "id": "85f0b9be",
=======
<<<<<<< HEAD
   "id": "956a94bb",
=======
   "id": "5e7578d3",
>>>>>>> e0c71349550dcbf39dad9c65a6d6e9fba51428d4
>>>>>>> embeddings
   "metadata": {},
   "source": [
    "```\n",
    "##                            Mean F1 score\n",
    "## Contextual Embedding            0.744558\n",
    "## TF-IDF                          0.742897\n",
    "## Bag-of-Words                    0.678877\n",
    "## Word2Vec pré-entraîné           0.676244\n",
<<<<<<< HEAD
    "## Word2Vec non pré-entraîné       0.555067\n",
=======
<<<<<<< HEAD
    "## Word2Vec non pré-entraîné       0.558195\n",
=======
    "## Word2Vec non pré-entraîné       0.554236\n",
>>>>>>> e0c71349550dcbf39dad9c65a6d6e9fba51428d4
>>>>>>> embeddings
    "```"
   ]
  },
  {
   "cell_type": "markdown",
<<<<<<< HEAD
   "id": "e500a550",
=======
<<<<<<< HEAD
   "id": "fa38f530",
=======
   "id": "7d19bd04",
>>>>>>> e0c71349550dcbf39dad9c65a6d6e9fba51428d4
>>>>>>> embeddings
   "metadata": {},
   "source": [
    "Verdict : on fait très légèrement mieux que la vectorisation TF-IDF.\n",
    "On voit donc l'importance de tenir compte du contexte.\n",
    "\n",
<<<<<<< HEAD
    "_Mais pourquoi, avec une méthode très compliquée, ne parvenons-nous pas à battre une méthode toute simple ?_\n",
    "\n",
    "On peut avancer plusieurs raisons : \n",
    "- le TF-IDF est un modèle simple, mais toujours très performant\n",
    "(on parle de _\"tough-to-beat baseline\"_).\n",
    "- la classification d'auteurs est une tâche très particulière et très ardue,\n",
    "qui ne fait pas justice aux *embeddings*. Comme on l'a dit précédemment, ces derniers se révèlent particulièrement pertinent lorsqu'il est question de similarité sémantique entre des textes (clustering, etc.).\n",
=======
    "__Mais pourquoi, avec une méthode très compliquée, ne parvenons-nous pas à battre une méthode toute simple ?__\n",
    "\n",
    "On peut avancer plusieurs raisons : \n",
    "\n",
    "- le `TF-IDF` est un modèle simple, mais toujours très performant\n",
    "(on parle de _\"tough-to-beat baseline\"_).\n",
    "- la classification d'auteurs est une tâche très particulière et très ardue,\n",
    "qui ne fait pas justice aux *embeddings*. Comme on l'a dit précédemment, ces derniers se révèlent particulièrement pertinent lorsqu'il est question de similarité sémantique entre des textes (_clustering_, etc.).\n",
>>>>>>> e0c71349550dcbf39dad9c65a6d6e9fba51428d4
    "\n",
    "Dans le cas de notre tâche de classification, il est probable que\n",
    "certains mots (noms de personnage, noms de lieux) soient suffisants pour classifier de manière pertinente,\n",
    "ce que ne permettent pas de capter les *embeddings*.\n",
    "\n",
    "## Exercices\n",
    "\n",
<<<<<<< HEAD
=======
<<<<<<< HEAD
>>>>>>> embeddings
    "- Prédictions sur le test set en utilisant les modèles entraînés\n",
    "- Faire un *vrai* split train/test : faire l'entraînement avec des textes de certains auteurs, et faire la prédiction avec des textes d'auteurs différents. Cela permettrait de neutraliser la présence de noms de lieux, de personnages, etc.\n",
    "- Comparer avec d'autres algorithmes de classification qu'un SVM\n",
    "- (Avancé) : fine-tuner le modèle d'embeddings contextuels sur la tâche de classification\n"
<<<<<<< HEAD
=======
=======
    "- Nous avons entraîné différents modèles sur le set d'entraînement par validation croisée, mais nous n'avons toujours pas utilisé le set de test que nous avons mis de côté au début. Réaliser la prédiction sur les données de test, et vérifier si l'on obtient le même classement des méthodes de vectorisation.\n",
    "- Faire un *vrai* split train/test : faire l'entraînement avec des textes de certains auteurs, et faire la prédiction avec des textes d'auteurs différents. Cela permettrait de neutraliser la présence de noms de lieux, de personnages, etc.\n",
    "- Comparer avec d'autres algorithmes de classification qu'un SVM\n",
    "- (Avancé) : fine-tuner le modèle d'embeddings contextuels sur la tâche de classification"
>>>>>>> e0c71349550dcbf39dad9c65a6d6e9fba51428d4
>>>>>>> embeddings
   ]
  }
 ],
 "metadata": {
  "kernelspec": {
   "display_name": "Python 3",
   "language": "python",
   "name": "python3"
  }
 },
 "nbformat": 4,
 "nbformat_minor": 5
}
