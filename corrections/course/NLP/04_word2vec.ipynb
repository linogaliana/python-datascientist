{
  "cells": [
    {
      "cell_type": "markdown",
      "metadata": {},
      "source": [
        "# Méthodes de vectorisation : comptages et word embeddings\n",
        "\n",
        "<a href=\"https://github.com/linogaliana/python-datascientist/blob/master/notebooks/course/NLP/04_word2vec.ipynb\" class=\"github\"><i class=\"fab fa-github\"></i></a>\n",
        "[![Download](https://img.shields.io/badge/Download-Notebook-important?logo=Jupyter.png)](https://downgit.github.io/#/home?url=https://github.com/linogaliana/python-datascientist/blob/master/notebooks/course/NLP/04_word2vec.ipynb)\n",
        "[![nbviewer](https://img.shields.io/badge/Visualize-nbviewer-blue?logo=Jupyter.png)](https://nbviewer.jupyter.org/github/linogaliana/python-datascientist/blob/master/notebooks/course/NLP/04_word2vec.ipynb)\n",
        "[![Onyxia](https://img.shields.io/badge/SSPcloud-Tester%20via%20SSP--cloud-informational&color=yellow?logo=Python.png)](https://datalab.sspcloud.fr/launcher/inseefrlab-helm-charts-datascience/jupyter?autoLaunch=true&onyxia.friendlyName=%C2%ABpython-datascience%C2%BB&init.personalInit=%C2%ABhttps%3A%2F%2Fraw.githubusercontent.com%2Flinogaliana%2Fpython-datascientist%2Fmaster%2Fsspcloud%2Finit-jupyter.sh%C2%BB&init.personalInitArgs=%C2%ABnotebooks/course/NLP%2004_word2vec.ipynb%C2%BB&security.allowlist.enabled=false)<br>\n",
        "[![Binder](https://img.shields.io/badge/Launch-Binder-E66581.svg?logo=data:image/png;base64,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.png)](https://mybinder.org/v2/gh/linogaliana/python-datascientist/master?filepath=notebooks/course/NLP/04_word2vec.ipynb)\n",
        "[![Open In Colab](https://colab.research.google.com/assets/colab-badge.svg)](http://colab.research.google.com/github/linogaliana/python-datascientist/blob/master/notebooks/course/NLP/04_word2vec.ipynb)\n",
        "[![githubdev](https://img.shields.io/static/v1?logo=visualstudiocode&label=&message=Open%20in%20Visual%20Studio%20Code&labelColor=2c2c32&color=007acc&logoColor=007acc.png)](https://github.dev/linogaliana/python-datascientist/notebooks/course/NLP/04_word2vec.ipynb)\n",
        "\n",
        "Cette page approfondit certains aspects présentés dans la\n",
        "[partie introductive](#nlp). Après avoir travaillé sur le\n",
        "*Comte de Monte Cristo*, on va continuer notre exploration de la littérature\n",
        "avec cette fois des auteurs anglophones:\n",
        "\n",
        "-   Edgar Allan Poe, (EAP) ;\n",
        "-   HP Lovecraft (HPL) ;\n",
        "-   Mary Wollstonecraft Shelley (MWS).\n",
        "\n",
        "Les données sont disponibles ici : [spooky.csv](https://github.com/GU4243-ADS/spring2018-project1-ginnyqg/blob/master/data/spooky.csv) et peuvent être requétées via l’url\n",
        "<https://github.com/GU4243-ADS/spring2018-project1-ginnyqg/raw/master/data/spooky.csv>.\n",
        "\n",
        "Le but va être dans un premier temps de regarder dans le détail les termes les plus fréquents utilisés par les auteurs, de les représenter graphiquement puis on va ensuite essayer de prédire quel texte correspond à quel auteur à partir de différents modèles de vectorisation, notamment les *word embeddings*.\n",
        "\n",
        "Ce notebook est librement inspiré de :\n",
        "\n",
        "-   https://www.kaggle.com/enerrio/scary-nlp-with-spacy-and-keras\n",
        "-   https://github.com/GU4243-ADS/spring2018-project1-ginnyqg\n",
        "-   https://www.kaggle.com/meiyizi/spooky-nlp-and-topic-modelling-tutorial/notebook\n",
        "\n",
        "{{% box status=“warning” title=“Warning” icon=“fa fa-exclamation-triangle” %}}\n",
        "Comme dans la [partie précédente](#nlp), il faut télécharger quelques éléments\n",
        "pour que nos librairies de NLP puissent fonctionner correctement.\n",
        "\n",
        "En premier lieu, il convient d’installer les librairies adéquates\n",
        "(`spacy`, `gensim` et `sentence_transformers`):\n",
        "\n",
        "``` python\n",
        "!pip install spacy gensim sentence_transformers\n",
        "```\n",
        "\n",
        "Ensuite, comme nous allons utiliser également `spacy`, il convient de télécharger\n",
        "le corpus Anglais. Pour cela, on peut se référer à\n",
        "[la documentation de `spacy`](https://spacy.io/usage/models),\n",
        "extrêmement bien faite.\n",
        "\n",
        "-   Idéalement, il faut installer le module via la ligne de commande. Dans\n",
        "    une cellule de notebook `Jupyter`, faire :\n",
        "\n",
        "``` python\n",
        "!python -m spacy download en_core_web_sm\n",
        "```\n",
        "\n",
        "-   Sans accès à la ligne de commande (depuis une instance `Docker` par exemple),\n",
        "    faire :\n",
        "\n",
        "``` python\n",
        "import spacy\n",
        "spacy.cli.download(\"en_core_web_sm\")\n",
        "```\n",
        "\n",
        "-   Sinon, il est également possible d’installer le module en faisant pointer\n",
        "    `pip install` vers le fichier adéquat sur\n",
        "    [`Github`](https://github.com/explosion/spacy-models). Pour cela, taper\n",
        "\n",
        "``` python\n",
        "pip install https://github.com/explosion/spacy-models/releases/download/en_core_web_sm-3.0.0/en_core_web_sm-3.0.0-py3-none-any.whl\n",
        "```\n",
        "\n",
        "{{% /box %}}"
      ],
      "id": "0a86f9d2-babf-457b-9626-cf60b317d57a"
    },
    {
      "cell_type": "code",
      "execution_count": 2,
      "metadata": {},
      "outputs": [],
      "source": [
        "from collections import Counter\n",
        "\n",
        "import numpy as np\n",
        "import pandas as pd\n",
        "import matplotlib.pyplot as plt\n",
        "import seaborn as sns\n",
        "import gensim\n",
        "\n",
        "from sklearn.preprocessing import LabelEncoder\n",
        "from sklearn.model_selection import train_test_split\n",
        "from sklearn.pipeline import Pipeline\n",
        "from sklearn.preprocessing import StandardScaler\n",
        "from sklearn.svm import LinearSVC\n",
        "from sklearn.feature_extraction.text import CountVectorizer, TfidfVectorizer\n",
        "from sklearn.model_selection import GridSearchCV, cross_val_score\n",
        "\n",
        "from gensim.models.word2vec import Word2Vec\n",
        "import gensim.downloader\n",
        "from sentence_transformers import SentenceTransformer"
      ],
      "id": "4b62e768-4e0e-48eb-8ac0-15e69044b3aa"
    },
    {
      "cell_type": "markdown",
      "metadata": {},
      "source": [
        "# Nettoyage des données\n",
        "\n",
        "Nous allons ainsi à nouveau utiliser le jeu de données `spooky`:"
      ],
      "id": "f2bf2f90-3868-47de-81b4-27ee3f2e0e3f"
    },
    {
      "cell_type": "code",
      "execution_count": 3,
      "metadata": {},
      "outputs": [],
      "source": [
        "data_url = 'https://github.com/GU4243-ADS/spring2018-project1-ginnyqg/raw/master/data/spooky.csv'\n",
        "spooky_df = pd.read_csv(data_url)"
      ],
      "id": "7652dca8-59b3-456d-9ab0-72e2e4d7204c"
    },
    {
      "cell_type": "markdown",
      "metadata": {},
      "source": [
        "Le jeu de données met ainsi en regard un auteur avec une phrase qu’il a écrite:"
      ],
      "id": "920c2c60-7298-4706-90a5-2b07b3b413a1"
    },
    {
      "cell_type": "code",
      "execution_count": 4,
      "metadata": {},
      "outputs": [],
      "source": [
        "spooky_df.head()"
      ],
      "id": "f4ad2a5d-545a-48fe-9188-1d43fa5872d6"
    },
    {
      "cell_type": "markdown",
      "metadata": {},
      "source": [
        "## Preprocessing\n",
        "\n",
        "En NLP, la première étape est souvent celle du *preprocessing*, qui inclut notamment les étapes de tokenization et de nettoyage du texte. Comme celles-ci ont été vues en détail dans le précédent chapitre, on se contentera ici d’un *preprocessing* minimaliste : suppression de la ponctuation et des *stop words* (pour la visualisation et les méthodes de vectorisation basées sur des comptages).\n",
        "\n",
        "Jusqu’à présent, nous avons utilisé principalement `nltk` pour le\n",
        "*preprocessing* de données textuelles. Cette fois, nous proposons\n",
        "d’utiliser la librairie `spaCy` qui permet de mieux automatiser sous forme de\n",
        "*pipelines* de *preprocessing*.\n",
        "\n",
        "Pour initialiser le processus de nettoyage,\n",
        "on va utiliser le corpus `en_core_web_sm` (voir plus\n",
        "haut pour l’installation de ce corpus):"
      ],
      "id": "70f7071d-9cc7-46cc-9c8c-7163fbb032af"
    },
    {
      "cell_type": "code",
      "execution_count": 5,
      "metadata": {},
      "outputs": [],
      "source": [
        "import spacy\n",
        "nlp = spacy.load('en_core_web_sm')"
      ],
      "id": "79cc33c2-f896-4244-b0ac-7a6bc3ce5313"
    },
    {
      "cell_type": "markdown",
      "metadata": {},
      "source": [
        "On va utiliser un `pipe` `spacy` qui permet d’automatiser, et de paralléliser,\n",
        "un certain nombre d’opérations. Les *pipes* sont l’équivalent, en NLP, de\n",
        "nos *pipelines* `scikit` ou des *pipes* `pandas`. Il s’agit donc d’un outil\n",
        "très approprié pour industrialiser un certain nombre d’opérations de\n",
        "*preprocessing* :"
      ],
      "id": "8bfefc46-29b4-40ad-93e6-efe134bf2b69"
    },
    {
      "cell_type": "code",
      "execution_count": 6,
      "metadata": {},
      "outputs": [],
      "source": [
        "def clean_docs(texts, remove_stopwords=False, n_process = 4):\n",
        "    \n",
        "    docs = nlp.pipe(texts, \n",
        "                    n_process=n_process,\n",
        "                    disable=['parser', 'ner',\n",
        "                             'lemmatizer', 'textcat'])\n",
        "    stopwords = nlp.Defaults.stop_words\n",
        "\n",
        "    docs_cleaned = []\n",
        "    for doc in docs:\n",
        "        tokens = [tok.text.lower().strip() for tok in doc if not tok.is_punct]\n",
        "        if remove_stopwords:\n",
        "            tokens = [tok for tok in tokens if tok not in stopwords]\n",
        "        doc_clean = ' '.join(tokens)\n",
        "        docs_cleaned.append(doc_clean)\n",
        "        \n",
        "    return docs_cleaned"
      ],
      "id": "d4746c68-a32d-440b-aa7d-9351626bc3db"
    },
    {
      "cell_type": "markdown",
      "metadata": {},
      "source": [
        "On applique la fonction `clean_docs` à notre colonne `pandas`.\n",
        "Les `pandas.Series` étant itérables, elles se comportent comme des listes et\n",
        "fonctionnent ainsi très bien avec notre `pipe` `spacy`"
      ],
      "id": "44596016-2597-47fd-a58f-bb62c287692a"
    },
    {
      "cell_type": "code",
      "execution_count": 7,
      "metadata": {},
      "outputs": [],
      "source": [
        "spooky_df['text_clean'] = clean_docs(spooky_df['text'])"
      ],
      "id": "4a819a8d-14c3-4876-84d5-6e5520548d49"
    },
    {
      "cell_type": "code",
      "execution_count": 8,
      "metadata": {},
      "outputs": [],
      "source": [
        "spooky_df.head()"
      ],
      "id": "ddb895a9-7ae3-42a1-8c50-ca8f7cf7681c"
    },
    {
      "cell_type": "markdown",
      "metadata": {},
      "source": [
        "## Encodage de la variable à prédire\n",
        "\n",
        "On réalise un simple encodage de la variable à prédire :\n",
        "il y a trois catégories (auteurs), représentées par des entiers 0, 1 et 2.\n",
        "\n",
        "Pour cela, on utilise le `LabelEncoder` de `scikit` déjà présenté\n",
        "dans la [partie modélisation](#preprocessing). On va utiliser la méthode\n",
        "`fit_transform` qui permet, en un tour de main, d’appliquer à la fois\n",
        "l’entraînement (`fit`), à savoir la création d’une correspondance entre valeurs\n",
        "numériques et *labels*, et l’appliquer (`transform`) à la même colonne."
      ],
      "id": "fed04ae3-bca2-4bc0-b72e-6a4f294294bd"
    },
    {
      "cell_type": "code",
      "execution_count": 9,
      "metadata": {},
      "outputs": [],
      "source": [
        "le = LabelEncoder()\n",
        "spooky_df['author_encoded'] = le.fit_transform(spooky_df['author'])"
      ],
      "id": "3064df34-253d-413a-816c-29e880081795"
    },
    {
      "cell_type": "markdown",
      "metadata": {},
      "source": [
        "On peut vérifier les classes de notre `LabelEncoder` :"
      ],
      "id": "83bd361e-c5ae-4368-9f30-a5a4689e57cc"
    },
    {
      "cell_type": "code",
      "execution_count": 10,
      "metadata": {},
      "outputs": [],
      "source": [
        "le.classes_"
      ],
      "id": "500ee8b2-a0c2-4d8c-83bd-c2529fb0b47d"
    },
    {
      "cell_type": "markdown",
      "metadata": {},
      "source": [
        "## Construction des bases d’entraînement et de test\n",
        "\n",
        "On met de côté un échantillon de test (20 %) avant toute analyse (même descriptive).\n",
        "Cela permettra d’évaluer nos différents modèles toute à la fin de manière très rigoureuse,\n",
        "puisque ces données n’auront jamais utilisées pendant l’entraînement.\n",
        "\n",
        "Notre échantillon initial n’est pas équilibré (*balanced*) : on retrouve plus d’oeuvres de\n",
        "certains auteurs que d’autres. Afin d’obtenir un modèle qui soit évalué au mieux, nous allons donc stratifier notre échantillon de manière à obtenir une répartition similaire d’auteurs dans nos\n",
        "ensembles d’entraînement et de test."
      ],
      "id": "bb9ed81e-2ffc-4b5d-a1db-282825f09290"
    },
    {
      "cell_type": "code",
      "execution_count": 11,
      "metadata": {},
      "outputs": [],
      "source": [
        "X_train, X_test, y_train, y_test = train_test_split(spooky_df['text_clean'].values, \n",
        "                                                    spooky_df['author_encoded'].values, \n",
        "                                                    test_size=0.2, \n",
        "                                                    random_state=33,\n",
        "                                                    stratify = spooky_df['author_encoded'].values)"
      ],
      "id": "f6009865-fd91-478c-ad56-81876a5452c7"
    },
    {
      "cell_type": "markdown",
      "metadata": {},
      "source": [
        "Par exemple, les textes d’EAP représentent 40 % des échantillons d’entraînement et de test :"
      ],
      "id": "c0404ddc-ca49-423e-a6d9-1a37025cdfcf"
    },
    {
      "cell_type": "code",
      "execution_count": 12,
      "metadata": {},
      "outputs": [],
      "source": [
        "print(100*y_train.tolist().count(0)/(len(y_train)))\n",
        "print(100*y_test.tolist().count(0)/(len(y_test)))"
      ],
      "id": "3dafada2-a0d9-4da4-9c2e-094a07dba9ea"
    },
    {
      "cell_type": "markdown",
      "metadata": {},
      "source": [
        "Aperçu du premier élément de `X_train` :"
      ],
      "id": "a4d85b65-0fdb-4b1f-9ad7-de165b43725b"
    },
    {
      "cell_type": "code",
      "execution_count": 13,
      "metadata": {},
      "outputs": [],
      "source": [
        "X_train[0]"
      ],
      "id": "21124f74-bb1d-4726-9455-e0efe390c14e"
    },
    {
      "cell_type": "markdown",
      "metadata": {},
      "source": [
        "On peut aussi vérifier qu’on est capable de retrouver\n",
        "la correspondance entre nos auteurs initiaux avec\n",
        "la méthode `inverse_transform`"
      ],
      "id": "6509bee6-7d2d-4807-8222-a945277259e6"
    },
    {
      "cell_type": "code",
      "execution_count": 14,
      "metadata": {},
      "outputs": [],
      "source": [
        "print(y_train[0], le.inverse_transform([y_train[0]])[0])"
      ],
      "id": "474930d3-fa08-47b8-9e80-56284a9066d0"
    },
    {
      "cell_type": "markdown",
      "metadata": {},
      "source": [
        "# Statistiques exploratoires\n",
        "\n",
        "## Répartition des labels\n",
        "\n",
        "Refaisons un graphique que nous avons déjà produit précédemment pour voir\n",
        "la répartition de notre corpus entre auteurs:"
      ],
      "id": "b6985bc7-058c-4e97-8a2e-8987e96c55be"
    },
    {
      "cell_type": "code",
      "execution_count": 15,
      "metadata": {},
      "outputs": [],
      "source": [
        "fig = pd.Series(le.inverse_transform(y_train)).value_counts().plot(kind='bar')\n",
        "fig"
      ],
      "id": "b858de19-a22d-40d9-b439-f259c375e572"
    },
    {
      "cell_type": "markdown",
      "metadata": {},
      "source": [
        "On observe une petite asymétrie : les passages des livres d’Edgar Allen Poe sont plus nombreux que ceux des autres auteurs dans notre corpus d’entraînement, ce qui peut être problématique dans le cadre d’une tâche de classification.\n",
        "L’écart n’est pas dramatique, mais on essaiera d’en tenir compte dans l’analyse en choisissant une métrique d’évaluation pertinente.\n",
        "\n",
        "## Mots les plus fréquemment utilisés par chaque auteur\n",
        "\n",
        "On va supprimer les *stopwords* pour réduire le bruit dans notre jeu\n",
        "de données."
      ],
      "id": "d578c431-8d1d-4984-a746-bdbcb6fb1d1e"
    },
    {
      "cell_type": "code",
      "execution_count": 17,
      "metadata": {},
      "outputs": [],
      "source": [
        "# Suppression des stop words\n",
        "X_train_no_sw = clean_docs(X_train, remove_stopwords=True)\n",
        "X_train_no_sw = np.array(X_train_no_sw)"
      ],
      "id": "e5c453cb-f9f0-4f15-9b94-c7240e600155"
    },
    {
      "cell_type": "markdown",
      "metadata": {},
      "source": [
        "Pour visualiser rapidement nos corpus, on peut utiliser la technique des\n",
        "nuages de mots déjà vue à plusieurs reprises.\n",
        "\n",
        "Vous pouvez essayer de faire vous-même les nuages ci-dessous\n",
        "ou cliquer sur la ligne ci-dessous pour afficher le code ayant\n",
        "généré les figures :\n",
        "\n",
        "{{\\< spoiler text=“Cliquer pour afficher le code” \\>}}"
      ],
      "id": "d4b08c66-4363-4ec1-9f22-96bfb8cb7277"
    },
    {
      "cell_type": "code",
      "execution_count": 18,
      "metadata": {},
      "outputs": [],
      "source": [
        "def plot_top_words(initials, ax, n_words=20):\n",
        "    # Calcul des mots les plus fréquemment utilisés par l'auteur\n",
        "    texts = X_train_no_sw[le.inverse_transform(y_train) == initials]\n",
        "    all_tokens = ' '.join(texts).split()\n",
        "    counts = Counter(all_tokens)\n",
        "    top_words = [word[0] for word in counts.most_common(n_words)]\n",
        "    top_words_counts = [word[1] for word in counts.most_common(n_words)]\n",
        "    \n",
        "    # Représentation sous forme de barplot\n",
        "    ax = sns.barplot(ax = ax, x=top_words, y=top_words_counts)\n",
        "    ax.set_title(f'Most Common Words used by {initials_to_author[initials]}')"
      ],
      "id": "11889db1-eeba-4ebf-b2aa-5c6f5f8174ae"
    },
    {
      "cell_type": "code",
      "execution_count": 19,
      "metadata": {},
      "outputs": [],
      "source": [
        "initials_to_author = {\n",
        "    'EAP': 'Edgar Allen Poe',\n",
        "    'HPL': 'H.P. Lovecraft',\n",
        "    'MWS': 'Mary Wollstonecraft Shelley'\n",
        "}\n",
        "\n",
        "fig, axs = plt.subplots(3, 1, figsize = (12,12))\n",
        "\n",
        "plot_top_words('EAP', ax = axs[0])\n",
        "plot_top_words('HPL', ax = axs[1])\n",
        "plot_top_words('MWS', ax = axs[2])"
      ],
      "id": "629199d4-ce96-491d-b56e-3a2479ef027d"
    },
    {
      "cell_type": "markdown",
      "metadata": {},
      "source": [
        "{{\\< /spoiler \\>}}\n",
        "\n",
        "Beaucoup de mots se retrouvent très utilisés par les trois auteurs.\n",
        "Il y a cependant des différences notables : le mot *“life”*\n",
        "est le plus employé par MWS, alors qu’il n’apparaît pas dans les deux autres tops.\n",
        "De même, le mot *“old”* est le plus utilisé par HPL\n",
        "là où les deux autres ne l’utilisent pas de manière surreprésentée.\n",
        "\n",
        "Il semble donc qu’il y ait des particularités propres à chacun des auteurs\n",
        "en termes de vocabulaire,\n",
        "ce qui laisse penser qu’il est envisageable de prédire les auteurs à partir\n",
        "de leurs textes dans une certaine mesure.\n",
        "\n",
        "# Prédiction sur le set d’entraînement\n",
        "\n",
        "Nous allons à présent vérifier cette conjecture en comparant\n",
        "plusieurs modèles de vectorisation,\n",
        "*i.e.* de transformation du texte en objets numériques\n",
        "pour que l’information contenue soit exploitable dans un modèle de classification.\n",
        "\n",
        "## Démarche\n",
        "\n",
        "Comme nous nous intéressons plus à l’effet de la vectorisation qu’à la tâche de classification en elle-même,\n",
        "nous allons utiliser un algorithme de classification simple (un SVM linéaire), avec des paramètres non fine-tunés (c’est-à-dire des paramètres pas nécessairement choisis pour être les meilleurs de tous)."
      ],
      "id": "d77ffb42-a2dc-47cc-a7cf-19da822d63dd"
    },
    {
      "cell_type": "code",
      "execution_count": 21,
      "metadata": {},
      "outputs": [],
      "source": [
        "clf = LinearSVC(max_iter=10000, C=0.1)"
      ],
      "id": "9b810bed-67c0-484a-bd72-61685a4b8294"
    },
    {
      "cell_type": "markdown",
      "metadata": {},
      "source": [
        "Ce modèle est connu pour être très performant sur les tâches de classification de texte, et nous fournira donc un bon modèle de référence (*baseline*). Cela nous permettra également de comparer de manière objective l’impact des méthodes de vectorisation sur la performance finale."
      ],
      "id": "ec9c9fcc-b9cc-4655-a376-008d691a2e01"
    },
    {
      "cell_type": "raw",
      "metadata": {
        "raw_mimetype": "text/html"
      },
      "source": [
        "<!-- KA : dit plus bas. -->"
      ],
      "id": "db75c2c8-26d0-48a9-8b22-488b48a7fea2"
    },
    {
      "cell_type": "raw",
      "metadata": {
        "raw_mimetype": "text/html"
      },
      "source": [
        "<!-- On va utiliser au maximum les objets de type pipeline de `sklearn`, -->"
      ],
      "id": "c04dcaa4-3cfa-48bc-ad00-ed153ebe6a1e"
    },
    {
      "cell_type": "raw",
      "metadata": {
        "raw_mimetype": "text/html"
      },
      "source": [
        "<!-- qui permettent de réaliser des analyses reproductibles -->"
      ],
      "id": "51b2bb13-1747-44ba-8ed2-c540170435d4"
    },
    {
      "cell_type": "raw",
      "metadata": {
        "raw_mimetype": "text/html"
      },
      "source": [
        "<!-- et de fine-tuner proprement les différents hyperparamètres. -->"
      ],
      "id": "27391576-563d-4afc-98b4-65cac6ff8867"
    },
    {
      "cell_type": "markdown",
      "metadata": {},
      "source": [
        "Pour les deux premières méthodes de vectorisation\n",
        "(basées sur des fréquences et fréquences relatives des mots),\n",
        "on va simplement normaliser les données d’entrée, ce qui va permettre au SVM de converger plus rapidement, ces modèles étant sensibles aux différences d’échelle dans les données.\n",
        "\n",
        "On va également *fine-tuner* via *grid-search*\n",
        "certains hyperparamètres liés à ces méthodes de vectorisation :\n",
        "\n",
        "-   on teste différents *ranges* de `n-grams` (unigrammes et unigrammes + bigrammes)\n",
        "-   on teste avec et sans *stop-words*\n",
        "\n",
        "Afin d’éviter le surapprentissage,\n",
        "on va évaluer les différents modèles via validation croisée, calculée sur 4 blocs.\n",
        "\n",
        "On récupère à la fin le meilleur modèle selon une métrique spécifiée.\n",
        "On choisit le `score F1`,\n",
        "moyenne harmonique de la précision et du rappel,\n",
        "qui donne un poids équilibré aux deux métriques, tout en pénalisant fortement le cas où l’une des deux est faible.\n",
        "Précisément, on retient le `score F1 *micro-averaged*` :\n",
        "les contributions des différentes classes à prédire sont agrégées,\n",
        "puis on calcule le `score F1` sur ces données agrégées.\n",
        "L’avantage de ce choix est qu’il permet de tenir compte des différences\n",
        "de fréquences des différentes classes.\n",
        "\n",
        "## Pipeline de prédiction\n",
        "\n",
        "On va utiliser un *pipeline* `scikit` ce qui va nous permettre d’avoir\n",
        "un code très concis pour effectuer cet ensemble de tâches cohérentes.\n",
        "De plus, cela va nous assurer de gérer de manière cohérentes nos différentes\n",
        "transformations (cf. [partie sur les pipelines](#pipelines))\n",
        "\n",
        "Pour se faciliter la vie, on définit une fonction `fit_vectorizers` qui\n",
        "intègre dans un *pipeline* générique une méthode d’estimation `scikit`\n",
        "et fait de la validation croisée en cherchant le meilleur modèle\n",
        "(en excluant/incluant les *stopwords* et avec unigrammes/bigrammes)"
      ],
      "id": "b27b0531-3b28-49dd-acbe-a3abca0c77fc"
    },
    {
      "cell_type": "code",
      "execution_count": 22,
      "metadata": {},
      "outputs": [],
      "source": [
        "def fit_vectorizers(vectorizer):\n",
        "    pipeline = Pipeline(\n",
        "    [\n",
        "        (\"vect\", vectorizer()),\n",
        "        (\"scaling\", StandardScaler(with_mean=False)),\n",
        "        (\"clf\", clf),\n",
        "    ]\n",
        "    )\n",
        "\n",
        "    parameters = {\n",
        "        \"vect__ngram_range\": ((1, 1), (1, 2)),  # unigrams or bigrams\n",
        "        \"vect__stop_words\": (\"english\", None)\n",
        "    }\n",
        "\n",
        "    grid_search = GridSearchCV(pipeline, parameters, scoring='f1_micro',\n",
        "                               cv=4, n_jobs=4, verbose=1)\n",
        "    grid_search.fit(X_train, y_train)\n",
        "\n",
        "    best_parameters = grid_search.best_estimator_.get_params()\n",
        "    for param_name in sorted(parameters.keys()):\n",
        "        print(\"\\t%s: %r\" % (param_name, best_parameters[param_name]))\n",
        "\n",
        "    print(f\"CV scores {grid_search.cv_results_['mean_test_score']}\")\n",
        "    print(f\"Mean F1 {np.mean(grid_search.cv_results_['mean_test_score'])}\")\n",
        "    \n",
        "    return grid_search"
      ],
      "id": "bfb2cc0c-95b3-4456-ab10-14307791bbe3"
    },
    {
      "cell_type": "markdown",
      "metadata": {},
      "source": [
        "# Approche *bag-of-words*\n",
        "\n",
        "On commence par une approche **“bag-of-words”**,\n",
        "i.e. qui revient simplement à représenter chaque document par un vecteur\n",
        "qui compte le nombre d’apparitions de chaque mot du vocabulaire dans le document."
      ],
      "id": "ccffb145-0d68-438e-bf3c-2cdd067e0176"
    },
    {
      "cell_type": "code",
      "execution_count": 23,
      "metadata": {},
      "outputs": [],
      "source": [
        "cv_bow = fit_vectorizers(CountVectorizer)"
      ],
      "id": "a16ea6c4-0e81-427d-bdbc-1e9878fc09a7"
    },
    {
      "cell_type": "markdown",
      "metadata": {},
      "source": [
        "# TF-IDF\n",
        "\n",
        "On s’intéresse ensuite à l’approche **TF-IDF**,\n",
        "qui permet de tenir compte des fréquences *relatives* des mots.\n",
        "\n",
        "Ainsi, pour un mot donné, on va multiplier la fréquence d’apparition du mot dans le document (calculé comme dans la méthode précédente) par un terme qui pénalise une fréquence élevée du mot dans le corpus. L’image ci-dessous, empruntée à Chris Albon, illustre cette mesure:\n",
        "\n",
        "![](https://chrisalbon.com/images/machine_learning_flashcards/TF-IDF_print.png)\n",
        "*Source: [https://chrisalbon](https://chrisalbon.com/code/machine_learning/preprocessing_text/tf-idf/)*\n",
        "\n",
        "La vectorisation `TF-IDF` permet donc de limiter l’influence des *stop-words*\n",
        "et donc de donner plus de poids aux mots les plus salients d’un document.\n",
        "On observe clairement que la performance de classification est bien supérieure,\n",
        "ce qui montre la pertinence de cette technique."
      ],
      "id": "ded6ee7d-f1e8-4074-8385-6cec2cd9e717"
    },
    {
      "cell_type": "code",
      "execution_count": 24,
      "metadata": {},
      "outputs": [],
      "source": [
        "cv_tfidf = fit_vectorizers(TfidfVectorizer)"
      ],
      "id": "99e9a52b-16f0-4f34-ae72-9afc9e32d540"
    },
    {
      "cell_type": "markdown",
      "metadata": {},
      "source": [
        "# Word2vec avec averaging\n",
        "\n",
        "On va maintenant explorer les techniques de vectorisation basées sur les\n",
        "*embeddings* de mots, et notamment la plus populaire : `Word2Vec`.\n",
        "\n",
        "L’idée derrière est simple, mais a révolutionné le NLP :\n",
        "au lieu de représenter les documents par des\n",
        "vecteurs *sparse* de très grande dimension (la taille du vocabulaire)\n",
        "comme on l’a fait jusqu’à présent,\n",
        "on va les représenter par des vecteurs *dense* (continus)\n",
        "de dimension réduite (en général, autour de 100-300).\n",
        "\n",
        "Chacune de ces dimensions va représenter un facteur latent,\n",
        "c’est à dire une variable inobservée,\n",
        "de la même manière que les composantes principales produites par une ACP.\n",
        "\n",
        "![](attachment:w2v_vecto.png)\n",
        "\n",
        "*Source: https://medium.com/@zafaralibagh6/simple-tutorial-on-word-embedding-and-word2vec-43d477624b6d*\n",
        "\n",
        "**Pourquoi est-ce intéressant ?**\n",
        "Pour de nombreuses raisons, mais pour résumer :\n",
        "cela permet de beaucoup mieux capturer la similarité sémantique entre les documents.\n",
        "\n",
        "Par exemple, un humain sait qu’un document contenant le mot *“Roi”*\n",
        "et un autre document contenant le mot *“Reine”* ont beaucoup de chance\n",
        "d’aborder des sujets semblables.\n",
        "\n",
        "Pourtant, une vectorisation de type comptage ou TF-IDF\n",
        "ne permet pas de saisir cette similarité :\n",
        "le calcul d’une mesure de similarité (norme euclidienne ou similarité cosinus)\n",
        "entre les deux vecteurs ne prendra en compte la similarité des deux concepts, puisque les mots utilisés sont différents.\n",
        "\n",
        "A l’inverse, un modèle `word2vec` bien entraîné va capter\n",
        "qu’il existe un facteur latent de type *“royauté”*,\n",
        "et la similarité entre les vecteurs associés aux deux mots sera forte.\n",
        "\n",
        "La magie va même plus loin : le modèle captera aussi qu’il existe un\n",
        "facteur latent de type *“genre”*,\n",
        "et va permettre de construire un espace sémantique dans lequel les\n",
        "relations arithmétiques entre vecteurs ont du sens ;\n",
        "par exemple :\n",
        "\n",
        "$$\\text{king} - \\text{man} + \\text{woman} ≈ \\text{queen}$$\n",
        "\n",
        "**Comment ces modèles sont-ils entraînés ?**\n",
        "Via une tâche de prédiction résolue par un réseau de neurones simple.\n",
        "\n",
        "L’idée fondamentale est que la signification d’un mot se comprend\n",
        "en regardant les mots qui apparaissent fréquemment dans son voisinage.\n",
        "\n",
        "Pour un mot donné, on va donc essayer de prédire les mots\n",
        "qui apparaissent dans une fenêtre autour du mot cible.\n",
        "\n",
        "En répétant cette tâche de nombreuses fois et sur un corpus suffisamment varié,\n",
        "on obtient finalement des *embeddings* pour chaque mot du vocabulaire,\n",
        "qui présentent les propriétés discutées précédemment."
      ],
      "attachments": {
        "w2v_vecto.png": {
          "image/png": "[encoded data removed]"
        }
      },
      "id": "5c694ec8-5451-40dc-ad28-c5fb155c1298"
    },
    {
      "cell_type": "code",
      "execution_count": 25,
      "metadata": {},
      "outputs": [],
      "source": [
        "X_train_tokens = [text.split() for text in X_train]\n",
        "w2v_model = Word2Vec(X_train_tokens, vector_size=200, window=5, \n",
        "                     min_count=1, workers=4)"
      ],
      "id": "8d4913d7-de43-4c19-8d9f-787fa7eed805"
    },
    {
      "cell_type": "code",
      "execution_count": 26,
      "metadata": {},
      "outputs": [],
      "source": [
        "w2v_model.wv.most_similar(\"mother\")"
      ],
      "id": "28aa47b1-7688-4c65-af88-3d1df8dbf095"
    },
    {
      "cell_type": "markdown",
      "metadata": {},
      "source": [
        "On voit que les mots les plus similaires à *“mother”*\n",
        "sont souvent des mots liés à la famille, mais pas toujours.\n",
        "\n",
        "C’est lié à la taille très restreinte du corpus sur lequel on entraîne le modèle,\n",
        "qui ne permet pas de réaliser des associations toujours pertinentes.\n",
        "\n",
        "L’*embedding* (la représentation vectorielle) de chaque document correspond à la moyenne des *word-embeddings* des mots qui le composent :"
      ],
      "id": "17134752-40f4-493a-84cf-021c67c366a8"
    },
    {
      "cell_type": "code",
      "execution_count": 27,
      "metadata": {},
      "outputs": [],
      "source": [
        "def get_mean_vector(w2v_vectors, words):\n",
        "    words = [word for word in words if word in w2v_vectors]\n",
        "    if words:\n",
        "        avg_vector = np.mean(w2v_vectors[words], axis=0)\n",
        "    else:\n",
        "        avg_vector = np.zeros_like(w2v_vectors['hi'])\n",
        "    return avg_vector\n",
        "\n",
        "def fit_w2v_avg(w2v_vectors):\n",
        "    X_train_vectors = np.array([get_mean_vector(w2v_vectors, words)\n",
        "                                for words in X_train_tokens])\n",
        "    \n",
        "    scores = cross_val_score(clf, X_train_vectors, y_train, \n",
        "                         cv=4, scoring='f1_micro', n_jobs=4)\n",
        "\n",
        "    print(f\"CV scores {scores}\")\n",
        "    print(f\"Mean F1 {np.mean(scores)}\")\n",
        "    return scores"
      ],
      "id": "513ab8d5-3f72-4c56-a9b1-fd2c397d6daa"
    },
    {
      "cell_type": "code",
      "execution_count": 28,
      "metadata": {},
      "outputs": [],
      "source": [
        "cv_w2vec = fit_w2v_avg(w2v_model.wv)"
      ],
      "id": "cdcc688c-d73c-4466-ab05-9552f4850e21"
    },
    {
      "cell_type": "markdown",
      "metadata": {},
      "source": [
        "La performance chute fortement ;\n",
        "la faute à la taille très restreinte du corpus, comme annoncé précédemment.\n",
        "\n",
        "# Word2vec pré-entraîné + averaging\n",
        "\n",
        "Quand on travaille avec des corpus de taille restreinte,\n",
        "c’est généralement une mauvaise idée d’entraîner son propre modèle `word2vec`.\n",
        "\n",
        "Heureusement, des modèles pré-entraînés sur de très gros corpus sont disponibles.\n",
        "Ils permettent de réaliser du *transfer learning*,\n",
        "c’est-à-dire de bénéficier de la performance d’un modèle qui a été entraîné sur une autre tâche ou bien sur un autre corpus.\n",
        "\n",
        "L’un des modèles les plus connus pour démarrer est le `glove_model` de\n",
        "`Gensim` (Glove pour *Global Vectors for Word Representation*)[1]:\n",
        "\n",
        "> GloVe is an unsupervised learning algorithm for obtaining vector representations for words. Training is performed on aggregated global word-word co-occurrence statistics from a corpus, and the resulting representations showcase interesting linear substructures of the word vector space.\n",
        ">\n",
        "> *Source*: https://nlp.stanford.edu/projects/glove/\n",
        "\n",
        "On peut le charger directement grâce à l’instruction suivante :\n",
        "\n",
        "[1] Jeffrey Pennington, Richard Socher, and Christopher D. Manning. 2014. *GloVe: Global Vectors for Word Representation*."
      ],
      "id": "a9f93946-dafa-4b47-b511-c89c9fe65b8f"
    },
    {
      "cell_type": "code",
      "execution_count": 29,
      "metadata": {},
      "outputs": [],
      "source": [
        "glove_model = gensim.downloader.load('glove-wiki-gigaword-200')"
      ],
      "id": "bf1f54d2-8de2-4506-a86b-af281001304d"
    },
    {
      "cell_type": "markdown",
      "metadata": {},
      "source": [
        "Par exemple, la représentation vectorielle de roi est l’objet\n",
        "multidimensionnel suivant :"
      ],
      "id": "7a643794-1dd0-4f16-9adf-b3d745f6b3ba"
    },
    {
      "cell_type": "code",
      "execution_count": 30,
      "metadata": {},
      "outputs": [],
      "source": [
        "glove_model['king']"
      ],
      "id": "f2c28d1c-311d-4f19-bc61-0ca64fedbbad"
    },
    {
      "cell_type": "markdown",
      "metadata": {},
      "source": [
        "Comme elle est peu intelligible, on va plutôt rechercher les termes les\n",
        "plus similaires. Par exemple,"
      ],
      "id": "4e998ea7-9e2d-49d5-87fd-240c59596e16"
    },
    {
      "cell_type": "code",
      "execution_count": 31,
      "metadata": {},
      "outputs": [],
      "source": [
        "glove_model.most_similar('mother')"
      ],
      "id": "ded68c23-d96e-4caa-a46a-82075a155150"
    },
    {
      "cell_type": "markdown",
      "metadata": {},
      "source": [
        "On peut retrouver notre formule précédente\n",
        "\n",
        "$$\\text{king} - \\text{man} + \\text{woman} ≈ \\text{queen}$$\n",
        "\n",
        "dans ce plongement de mots:"
      ],
      "id": "ea94f849-5217-41fb-89a8-3c9f1e440e0e"
    },
    {
      "cell_type": "code",
      "execution_count": 32,
      "metadata": {},
      "outputs": [],
      "source": [
        "glove_model.most_similar(positive = ['king', 'woman'], negative = ['man'])"
      ],
      "id": "10f5695a-0a8f-4e61-b138-40a13969c16b"
    },
    {
      "cell_type": "markdown",
      "metadata": {},
      "source": [
        "Vous pouvez vous référer à [ce tutoriel](https://jalammar.github.io/illustrated-word2vec/)\n",
        "pour en découvrir plus sur `Word2Vec`.\n",
        "\n",
        "Faisons notre apprentissage par transfert :"
      ],
      "id": "e27f071a-4772-4a7e-8d90-c2815ab8ee86"
    },
    {
      "cell_type": "code",
      "execution_count": 33,
      "metadata": {},
      "outputs": [],
      "source": [
        "cv_w2vec_transfert = fit_w2v_avg(glove_model)"
      ],
      "id": "b5a3f7d7-ea28-4ff4-8b92-40901346d275"
    },
    {
      "cell_type": "markdown",
      "metadata": {},
      "source": [
        "La performance remonte substantiellement.\n",
        "Cela étant, on ne parvient pas à faire mieux que les approches basiques,\n",
        "on arrive à peine aux performances de la vectorisation par comptage.\n",
        "\n",
        "En effet, pour rappel, les performances sont les suivantes:"
      ],
      "id": "bc2d2ff5-bfca-4c38-9cef-1aa9191193c6"
    },
    {
      "cell_type": "code",
      "execution_count": 34,
      "metadata": {},
      "outputs": [],
      "source": [
        "perfs = pd.DataFrame(\n",
        "    [np.mean(cv_bow.cv_results_['mean_test_score']),\n",
        "     np.mean(cv_tfidf.cv_results_['mean_test_score']),\n",
        "    np.mean(cv_w2vec),\n",
        "    np.mean(cv_w2vec_transfert)],\n",
        "    index = ['Bag-of-Words','TF-IDF', 'Word2Vec non pré-entraîné', 'Word2Vec pré-entraîné'],\n",
        "    columns = [\"Mean F1 score\"]\n",
        ").sort_values(\"Mean F1 score\",ascending = False)\n",
        "perfs"
      ],
      "id": "9d5b4e38-135d-4493-919a-e6b1fd5617dc"
    },
    {
      "cell_type": "markdown",
      "metadata": {},
      "source": [
        "Les performences limitées du modèle *Word2Vec* sont cette fois certainement dues à la manière dont\n",
        "les *word-embeddings* sont exploités : ils sont moyennés pour décrire chaque document.\n",
        "\n",
        "Cela a plusieurs limites :\n",
        "\n",
        "-   on ne tient pas compte de l’ordre et donc du contexte des mots\n",
        "-   lorsque les documents sont longs, la moyennisation peut créer\n",
        "    des représentation bruitées.\n",
        "\n",
        "# Contextual embeddings\n",
        "\n",
        "Les *embeddings* contextuels visent à pallier les limites des *embeddings*\n",
        "traditionnels évoquées précédemment.\n",
        "\n",
        "Cette fois, les mots n’ont plus de représentation vectorielle fixe,\n",
        "celle-ci est calculée dynamiquement en fonction des mots du voisinage, et ainsi de suite.\n",
        "Cela permet de tenir compte de la structure des phrases\n",
        "et de tenir compte du fait que le sens d’un mot est fortement dépendant des mots\n",
        "qui l’entourent.\n",
        "Par exemple, dans les expressions “le président Macron” et “le camembert Président” le mot président n’a pas du tout le même rôle.\n",
        "\n",
        "Ces *embeddings* sont produits par des architectures très complexes,\n",
        "de type Transformer (`BERT`, etc.)."
      ],
      "id": "766abf05-c779-4c28-9cd0-419180769b64"
    },
    {
      "cell_type": "code",
      "execution_count": 35,
      "metadata": {},
      "outputs": [],
      "source": [
        "model = SentenceTransformer('all-mpnet-base-v2')"
      ],
      "id": "793c58a0-f9d1-42e7-83cf-bb186fffe88a"
    },
    {
      "cell_type": "code",
      "execution_count": 36,
      "metadata": {},
      "outputs": [],
      "source": [
        "X_train_vectors = model.encode(X_train)"
      ],
      "id": "fa3cbbe9-593f-4298-8018-855e2ebd6ab7"
    },
    {
      "cell_type": "code",
      "execution_count": 37,
      "metadata": {},
      "outputs": [],
      "source": [
        "scores = cross_val_score(clf, X_train_vectors, y_train, \n",
        "                         cv=4, scoring='f1_micro', n_jobs=4)\n",
        "\n",
        "print(f\"CV scores {scores}\")\n",
        "print(f\"Mean F1 {np.mean(scores)}\")"
      ],
      "id": "06aecbf6-fd58-4f21-8881-cfba35fb5069"
    },
    {
      "cell_type": "code",
      "execution_count": 38,
      "metadata": {},
      "outputs": [],
      "source": [
        "perfs = pd.concat(\n",
        "  [perfs,\n",
        "  pd.DataFrame(\n",
        "    [np.mean(scores)],\n",
        "    index = ['Contextual Embedding'],\n",
        "    columns = [\"Mean F1 score\"])]\n",
        ").sort_values(\"Mean F1 score\",ascending = False)\n",
        "perfs"
      ],
      "id": "4aaba17c-66c8-4c7f-8bf5-fe4af52c3e9f"
    },
    {
      "cell_type": "markdown",
      "metadata": {},
      "source": [
        "Verdict : on fait très légèrement mieux que la vectorisation TF-IDF.\n",
        "On voit donc l’importance de tenir compte du contexte.\n",
        "\n",
        "**Mais pourquoi, avec une méthode très compliquée, ne parvenons-nous pas à battre une méthode toute simple ?**\n",
        "\n",
        "On peut avancer plusieurs raisons :\n",
        "\n",
        "-   le `TF-IDF` est un modèle simple, mais toujours très performant\n",
        "    (on parle de *“tough-to-beat baseline”*).\n",
        "-   la classification d’auteurs est une tâche très particulière et très ardue,\n",
        "    qui ne fait pas justice aux *embeddings*. Comme on l’a dit précédemment, ces derniers se révèlent particulièrement pertinents lorsqu’il est question de similarité sémantique entre des textes (*clustering*, etc.).\n",
        "\n",
        "Dans le cas de notre tâche de classification, il est probable que\n",
        "certains mots (noms de personnage, noms de lieux) soient suffisants pour classifier de manière pertinente,\n",
        "ce que ne permettent pas de capter les *embeddings* qui accordent à tous les mots la même importance.\n",
        "\n",
        "## Aller plus loin\n",
        "\n",
        "-   Nous avons entraîné différents modèles sur l’échantillon d’entraînement par validation croisée, mais nous n’avons toujours pas utilisé l’échantillon test que nous avons mis de côté au début. Réaliser la prédiction sur les données de test, et vérifier si l’on obtient le même classement des méthodes de vectorisation.\n",
        "-   Faire un *vrai* split train/test : faire l’entraînement avec des textes de certains auteurs, et faire la prédiction avec des textes d’auteurs différents. Cela permettrait de neutraliser la présence de noms de lieux, de personnages, etc.\n",
        "-   Comparer avec d’autres algorithmes de classification qu’un SVM\n",
        "-   (Avancé) : fine-tuner le modèle d’embeddings contextuels sur la tâche de classification"
      ],
      "id": "4bcde0b2-90dd-424f-bd57-0125eb4da251"
    }
  ],
  "nbformat": 4,
  "nbformat_minor": 5,
  "metadata": {
    "kernelspec": {
      "name": "python3",
      "display_name": "Python 3 (ipykernel)",
      "language": "python"
    },
    "language_info": {
      "name": "python",
      "codemirror_mode": {
        "name": "ipython",
        "version": "3"
      },
      "file_extension": ".py",
      "mimetype": "text/x-python",
      "nbconvert_exporter": "python",
      "pygments_lexer": "ipython3",
      "version": "3.9.12"
    }
  }
}