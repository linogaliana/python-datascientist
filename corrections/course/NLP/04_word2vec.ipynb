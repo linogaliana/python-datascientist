{
 "cells": [
  {
   "cell_type": "markdown",
   "id": "f244469e",
   "metadata": {},
   "source": [
    "#  Prédiction dauteurs littéraires à partir de différentes méthodes de vectorisation\n",
    "\n"
   ]
  },
  {
   "cell_type": "markdown",
   "id": "8b8003d7",
   "metadata": {},
   "source": [
    "<a href=\"https://github.com/linogaliana/python-datascientist/blob/master//__w/python-datascientist/python-datascientist/notebooks/course/NLP/04_word2vec.ipynb\" class=\"github\"><i class=\"fab fa-github\"></i></a>\n",
    "[![Download](https://img.shields.io/badge/Download-Notebook-important?logo=Jupyter)](https://downgit.github.io/#/home?url=https://github.com/linogaliana/python-datascientist/blob/master//__w/python-datascientist/python-datascientist/notebooks/course/NLP/04_word2vec.ipynb)\n",
    "[![nbviewer](https://img.shields.io/badge/Visualize-nbviewer-blue?logo=Jupyter)](https://nbviewer.jupyter.org/github/linogaliana/python-datascientist/blob/master//__w/python-datascientist/python-datascientist/notebooks/course/NLP/04_word2vec.ipynb)\n",
    "[![Onyxia](https://img.shields.io/badge/SSPcloud-Tester%20via%20SSP--cloud-informational&color=yellow?logo=Python)](https://datalab.sspcloud.fr/launcher/inseefrlab-helm-charts-datascience/jupyter?onyxia.friendlyName=«python-datascientist»&resources.requests.memory=«4Gi»&security.allowlist.enabled=false&init.personalInit=«https://raw.githubusercontent.com/linogaliana/python-datascientist/master/init_onyxia.sh»)\n",
    "<br>\n",
    "[![Binder](https://img.shields.io/badge/Launch-Binder-E66581.svg?logo=data:image/png;base64,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)](https://mybinder.org/v2/gh/linogaliana/python-datascientist/master?filepath=/__w/python-datascientist/python-datascientist/notebooks/course/NLP/04_word2vec.ipynb)\n",
    "[![Open In Colab](https://colab.research.google.com/assets/colab-badge.svg)](http://colab.research.google.com/github/linogaliana/python-datascientist/blob/master//__w/python-datascientist/python-datascientist/notebooks/course/NLP/04_word2vec.ipynb)\n",
    "[![githubdev](https://open.vscode.dev/badges/open-in-vscode.svg)](https://github.dev/linogaliana/python-datascientist//__w/python-datascientist/python-datascientist/notebooks/course/NLP/04_word2vec.ipynb)\n",
    "\n",
    "Cette page approfondit certains aspects présentés dans la\n",
    "[partie introductive](#nlp). Après avoir travaillé sur le\n",
    "*Comte de Monte Cristo*, on va continuer notre exploration de la littérature\n",
    "avec cette fois des auteurs anglophones:\n",
    "\n",
    "* Edgar Allan Poe, (EAP) ;\n",
    "* HP Lovecraft (HPL) ;\n",
    "* Mary Wollstonecraft Shelley (MWS).\n",
    "\n",
    "Les données sont disponibles ici : [spooky.csv](https://github.com/GU4243-ADS/spring2018-project1-ginnyqg/blob/master/data/spooky.csv) et peuvent être requétées via l'url \n",
    "<https://github.com/GU4243-ADS/spring2018-project1-ginnyqg/raw/master/data/spooky.csv>.\n",
    "\n",
    "Le but va être dans un premier temps de regarder dans le détail les termes les plus fréquents utilisés par les auteurs, de les représenter graphiquement puis on va ensuite essayer de prédire quel texte correspond à quel auteur à partir de différents modèles de vectorisation, notamment les *word embeddings*.\n",
    "\n",
    "Ce notebook est librement inspiré de  : \n",
    "\n",
    "* https://www.kaggle.com/enerrio/scary-nlp-with-spacy-and-keras\n",
    "* https://github.com/GU4243-ADS/spring2018-project1-ginnyqg\n",
    "* https://www.kaggle.com/meiyizi/spooky-nlp-and-topic-modelling-tutorial/notebook\n"
   ]
  },
  {
   "cell_type": "markdown",
   "id": "3a34f884",
   "metadata": {},
   "source": [
    "Comme dans la [partie précédente](#nlp), il faut télécharger quelques éléments\n",
    "pour que nos librairies de NLP puissent fonctionner correctement.\n",
    "\n",
    "En premier lieu, il convient d'installer les librairies adéquates\n",
    "(`spacy`, `gensim` et `sentence_transformers`):\n"
   ]
  },
  {
   "cell_type": "code",
   "execution_count": null,
   "id": "3574e4d1",
   "metadata": {},
   "outputs": [],
   "source": [
    "!pip install spacy gensim sentence_transformers"
   ]
  },
  {
   "cell_type": "markdown",
   "id": "30738f20",
   "metadata": {},
   "source": [
    "Ensuite, comme nous allons utiliser également `spacy`, il convient de télécharger\n",
    "le corpus Anglais. Pour cela, on peut se référer à\n",
    "[la documentation de `spacy`](https://spacy.io/usage/models),\n",
    "extrèmement bien faite."
   ]
  },
  {
   "cell_type": "markdown",
   "id": "2bdfef28",
   "metadata": {},
   "source": [
    "- Idéalement, il faut installer le module via la ligne de commande. Dans\n",
    "une cellule de notebook `Jupyter`, faire :\n"
   ]
  },
  {
   "cell_type": "code",
   "execution_count": null,
   "id": "fef13344",
   "metadata": {},
   "outputs": [],
   "source": [
    "!python -m spacy download en_core_web_sm"
   ]
  },
  {
   "cell_type": "markdown",
   "id": "6ba1748e",
   "metadata": {},
   "source": [
    "- Sans accès à la ligne de commande (depuis une instance `Docker` par exemple),\n",
    "faire :\n"
   ]
  },
  {
   "cell_type": "code",
   "execution_count": null,
   "id": "87a63f65",
   "metadata": {},
   "outputs": [],
   "source": [
    "import spacy\n",
    "spacy.cli.download(\"en_core_web_sm\")"
   ]
  },
  {
   "cell_type": "markdown",
   "id": "7de5e67b",
   "metadata": {},
   "source": [
    "- Sinon, il est également possible d'installer le module en faisant pointer\n",
    "`pip install` depuis le fichier adéquat sur\n",
    "[`Github`](https://github.com/explosion/spacy-models). Pour cela, taper\n",
    "\n",
    "~~~python\n",
    "pip install https://github.com/explosion/spacy-models/releases/download/en_core_web_sm-3.0.0/en_core_web_sm-3.0.0-py3-none-any.whl\n",
    "~~~\n",
    "\n",
    "\n",
    "\n",
    "\n"
   ]
  },
  {
   "cell_type": "code",
   "execution_count": null,
   "id": "4f8e9e93",
   "metadata": {},
   "outputs": [],
   "source": [
    "from collections import Counter\n",
    "\n",
    "import numpy as np\n",
    "import pandas as pd\n",
    "import matplotlib.pyplot as plt\n",
    "import seaborn as sns\n",
    "import spacy\n",
    "from sklearn.preprocessing import LabelEncoder\n",
    "from sklearn.model_selection import train_test_split\n",
    "from sklearn.pipeline import Pipeline\n",
    "from sklearn.preprocessing import StandardScaler\n",
    "from sklearn.svm import LinearSVC\n",
    "from sklearn.feature_extraction.text import CountVectorizer, TfidfVectorizer\n",
    "from sklearn.model_selection import GridSearchCV, cross_val_score\n",
    "from gensim.models.word2vec import Word2Vec\n",
    "import gensim.downloader\n",
    "from sentence_transformers import SentenceTransformer"
   ]
  },
  {
   "cell_type": "markdown",
   "id": "bff4a64a",
   "metadata": {},
   "source": [
    "```\n",
    "## Error in py_call_impl(callable, dots$args, dots$keywords): ModuleNotFoundError: No module named 'sentence_transformers'\n",
    "## \n",
    "## Detailed traceback: \n",
    "##   File \"<string>\", line 1, in <module>\n",
    "```\n",
    "\n",
    "# Nettoyage des données\n",
    "\n",
    "Nous allons ainsi à nouveau utiliser le jeu de données `spooky`:\n"
   ]
  },
  {
   "cell_type": "code",
   "execution_count": null,
   "id": "74726aea",
   "metadata": {},
   "outputs": [],
   "source": [
    "data_url = 'https://github.com/GU4243-ADS/spring2018-project1-ginnyqg/raw/master/data/spooky.csv'\n",
    "spooky_df = pd.read_csv(data_url)"
   ]
  },
  {
   "cell_type": "markdown",
   "id": "56c2f57b",
   "metadata": {},
   "source": [
    "Le jeu de données met ainsi en regard un auteur avec une phrase qu'il a écrite:\n"
   ]
  },
  {
   "cell_type": "code",
   "execution_count": null,
   "id": "573939fd",
   "metadata": {},
   "outputs": [],
   "source": [
    "spooky_df.head()"
   ]
  },
  {
   "cell_type": "markdown",
   "id": "aa86ee20",
   "metadata": {},
   "source": [
    "```\n",
    "##         id                                               text author\n",
    "## 0  id26305  This process, however, afforded me no means of...    EAP\n",
    "## 1  id17569  It never once occurred to me that the fumbling...    HPL\n",
    "## 2  id11008  In his left hand was a gold snuff box, from wh...    EAP\n",
    "## 3  id27763  How lovely is spring As we looked from Windsor...    MWS\n",
    "## 4  id12958  Finding nothing else, not even gold, the Super...    HPL\n",
    "```\n",
    "\n",
    "Pour rappel, nous avons les auteurs suivants dans notre corpus:\n"
   ]
  },
  {
   "cell_type": "code",
   "execution_count": null,
   "id": "2cbc64ce",
   "metadata": {},
   "outputs": [],
   "source": [
    "initials_to_author = {\n",
    "    'EAP': 'Edgar Allen Poe',\n",
    "    'HPL': 'H.P. Lovecraft',\n",
    "    'MWS': 'Mary Wollstonecraft Shelley'\n",
    "}"
   ]
  },
  {
   "cell_type": "markdown",
   "id": "c1e0040c",
   "metadata": {},
   "source": [
    "## Preprocessing\n",
    "\n",
    "En NLP, la première étape est souvent celle du *preprocessing*, qui inclut notamment les étapes de tokenization et de nettoyage du texte. Comme celles-ci ont été vues en détail dans le précédent chapitre, on se contentera ici d'un *preprocessing* minimaliste : suppression de la ponctuation et suppression des *stop words* (pour la visualisation et les méthodes de vectorisation basées sur des comptages).\n",
    "\n",
    "### Nettoyage\n"
   ]
  },
  {
   "cell_type": "code",
   "execution_count": null,
   "id": "06bdefa8",
   "metadata": {
    "lines_to_next_cell": 2
   },
   "outputs": [],
   "source": [
    "nlp = spacy.load('en_core_web_sm')"
   ]
  },
  {
   "cell_type": "code",
   "execution_count": null,
   "id": "cbb32388",
   "metadata": {},
   "outputs": [],
   "source": [
    "def clean_docs(texts, remove_stopwords=False):\n",
    "    \n",
    "    docs = nlp.pipe(texts, \n",
    "                    n_process=4,\n",
    "                    disable=['parser', 'ner',\n",
    "                             'lemmatizer', 'textcat'])\n",
    "    stopwords = nlp.Defaults.stop_words\n",
    "\n",
    "    docs_cleaned = []\n",
    "    for doc in docs:\n",
    "        tokens = [tok.text.lower().strip() for tok in doc if not tok.is_punct]\n",
    "        if remove_stopwords:\n",
    "            tokens = [tok for tok in tokens if tok not in stopwords]\n",
    "        doc_clean = ' '.join(tokens)\n",
    "        docs_cleaned.append(doc_clean)\n",
    "        \n",
    "    return docs_cleaned\n",
    "\n",
    "spooky_df['text_clean'] = clean_docs(spooky_df['text'])"
   ]
  },
  {
   "cell_type": "markdown",
   "id": "086e5aee",
   "metadata": {},
   "source": [
    "### Encodage de la variable à prédire\n",
    "\n",
    "On réalise un simple encodage de la variable à prédire : il y a trois catégories, représentées par des entiers de 0 à 2.\n"
   ]
  },
  {
   "cell_type": "code",
   "execution_count": null,
   "id": "3a29e5e6",
   "metadata": {},
   "outputs": [],
   "source": [
    "le = LabelEncoder()\n",
    "spooky_df['author_encoded'] = le.fit_transform(spooky_df['author'])\n",
    "le.classes_"
   ]
  },
  {
   "cell_type": "markdown",
   "id": "d003aa29",
   "metadata": {},
   "source": [
    "### Construction des bases d'entraînement et de test\n",
    "\n",
    "Etape très importante : on met de côté un échantillon de test (20 %) avant toute analyse (même descriptive). Cela permettra d'évaluer nos différents modèles toute à la fin de manière très rigoureuse, puisque ces données n'auront jamais utilisées pendant l'entraînement.\n"
   ]
  },
  {
   "cell_type": "code",
   "execution_count": null,
   "id": "0e69a2e9",
   "metadata": {
    "lines_to_next_cell": 2
   },
   "outputs": [],
   "source": [
    "X_train, X_test, y_train, y_test = train_test_split(spooky_df['text_clean'].values, \n",
    "                                                    spooky_df['author_encoded'].values, \n",
    "                                                    test_size=0.2, \n",
    "                                                    random_state=33)"
   ]
  },
  {
   "cell_type": "code",
   "execution_count": null,
   "id": "e45771fe",
   "metadata": {
    "lines_to_next_cell": 2
   },
   "outputs": [],
   "source": [
    "X_train[0]"
   ]
  },
  {
   "cell_type": "code",
   "execution_count": null,
   "id": "d7906a96",
   "metadata": {},
   "outputs": [],
   "source": [
    "print(y_train[0], le.inverse_transform([y_train[0]])[0])"
   ]
  },
  {
   "cell_type": "markdown",
   "id": "cf002670",
   "metadata": {},
   "source": [
    "## Statistiques exploratoires\n",
    "\n",
    "### Répartition des labels\n"
   ]
  },
  {
   "cell_type": "code",
   "execution_count": null,
   "id": "4f38b2e6",
   "metadata": {},
   "outputs": [],
   "source": [
    "plt.style.use('dark_background')\n",
    "pd.Series(le.inverse_transform(y_train)).value_counts().plot(kind='bar')"
   ]
  },
  {
   "cell_type": "markdown",
   "id": "73b39b9d",
   "metadata": {},
   "source": [
    "On observe une petite asymétrie : les passages des livres d'Edgar Allen Poe sont plus nombreux dans notre corpus d'entraînement, ce qui peut être problématique dans le cadre d'une tâche de classification. L'écart n'est pas dramatique, mais on essaiera d'en tenir compte dans l'analyse en choisissant une métrique d'évaluation pertinente. \n",
    "\n",
    "### Mots les plus fréquemment utilisés par chaque auteur\n"
   ]
  },
  {
   "cell_type": "code",
   "execution_count": null,
   "id": "9b3360f8",
   "metadata": {
    "lines_to_next_cell": 2
   },
   "outputs": [],
   "source": [
    "# Suppression des stop words\n",
    "X_train_no_sw = clean_docs(X_train, remove_stopwords=True)\n",
    "X_train_no_sw = np.array(X_train_no_sw)"
   ]
  },
  {
   "cell_type": "code",
   "execution_count": null,
   "id": "805a1fb8",
   "metadata": {
    "lines_to_next_cell": 2
   },
   "outputs": [],
   "source": [
    "def plot_top_words(initials, n_words=20):\n",
    "    # Calcul des mots les plus fréquemment utilisés par l'auteur\n",
    "    texts = X_train_no_sw[le.inverse_transform(y_train) == initials]\n",
    "    all_tokens = ' '.join(texts).split()\n",
    "    counts = Counter(all_tokens)\n",
    "    top_words = [word[0] for word in counts.most_common(n_words)]\n",
    "    top_words_counts = [word[1] for word in counts.most_common(n_words)]\n",
    "    \n",
    "    # Représentation sous forme de barplot\n",
    "    plt.style.use('dark_background')\n",
    "    plt.figure(figsize=(20, 6))\n",
    "    sns.barplot(x=top_words, y=top_words_counts)\n",
    "    plt.title(f'Most Common Words used by {initials_to_author[initials]}')\n",
    "    plt.show()"
   ]
  },
  {
   "cell_type": "code",
   "execution_count": null,
   "id": "dd791247",
   "metadata": {
    "lines_to_next_cell": 2
   },
   "outputs": [],
   "source": [
    "plot_top_words('EAP')"
   ]
  },
  {
   "cell_type": "code",
   "execution_count": null,
   "id": "64fd371a",
   "metadata": {
    "lines_to_next_cell": 2
   },
   "outputs": [],
   "source": [
    "plot_top_words('HPL')"
   ]
  },
  {
   "cell_type": "code",
   "execution_count": null,
   "id": "4152740f",
   "metadata": {},
   "outputs": [],
   "source": [
    "plot_top_words('MWS')"
   ]
  },
  {
   "cell_type": "markdown",
   "id": "dc415560",
   "metadata": {},
   "source": [
    "Beaucoup de mots se retrouvent très utilisés par les trois auteurs. Il y a cependant des différences notables : le mot \"life\" est le plus employé par MWS, alors qu'il n'apparaît pas dans les deux autres tops. De même, le mot \"old\" est le plus utilisé par HPL là où les deux autres ne l'utilisent pas de manière surreprésentée. Il semble donc qu'il y ait des particularités propres à chacun des auteurs en termes de vocabulaire, ce qui laisse penser qu'il est envisageable de prédire les auteurs à partir de leurs textes dans une certaine mesure.\n",
    "\n",
    "## Prédiction sur le set d'entraînement\n",
    "\n",
    "Nous allons à présent vérifier cette conjecture en comparant plusieurs modèles de vectorisation, i.e. de transformation du texte en objets numériques pour que l'information contenue soit exploitable dans un modèle de classification. Comme nous nous intéressons plus à l'effet de la vectorisation qu'à la tâche de classification en elle-même, nous allons utiliser un algorithme de classification simple (un SVM linéaire), avec des paramètres non fine-tunés. Ce modèle est connu pour être très performant sur les tâches de classification de texte, et nous fournira donc une bonne *baseline*. Cela nous permettra également de comparer de manière objective l'impact des méthodes de vectorisation sur la performance finale.\n",
    "\n",
    "On va utiliser au maximum les objets de type pipeline de `sklearn`, qui permettent de réaliser des analyses reproductibles et de fine-tuner proprement les différents hyperparamètres. Pour les deux premières méthodes de vectorisation (basées sur des fréquences et fréquences relatives des mots), on va simplement normaliser les données d'entrée, ce qui va permettre au SVM de converger plus rapidement, ces modèles étant sensibles aux différences d'échelle dans les données. On va également fine-tuner via grid-search certains hyperparamètres liés à ces méthodes de vectorisation : \n",
    "- on teste différents ranges de n-grams (unigrammes et unigrammes + bigrammes)\n",
    "- on teste avec et sans stop-words\n",
    "\n",
    "Afin d'éviter le surapprentissage, on va évaluer les différents modèles via validation croisée, calculée sur 4 blocs. On récupère à la fin le meilleur modèle selon une métrique spécifiée. On choisit le score F1, moyenne harmonique de la précision et du rappel, qui donne un poids équilibré aux deux métriques, tout en pénalisant fortement le cas où l'une des deux est faible. Précisément, on retient le score F1 *micro-averaged* : les contributions des différentes classes à prédire sont aggrégées, puis l'on calcule le score F1 sur ces données aggrégées. L'avantage de ce choix est qu'il permet de tenir compte des différences de fréquences des différentes classes.\n"
   ]
  },
  {
   "cell_type": "code",
   "execution_count": null,
   "id": "a3e477c9",
   "metadata": {
    "lines_to_next_cell": 2
   },
   "outputs": [],
   "source": [
    "clf = LinearSVC(max_iter=10000, C=0.1)"
   ]
  },
  {
   "cell_type": "code",
   "execution_count": null,
   "id": "768e2c8d",
   "metadata": {},
   "outputs": [],
   "source": [
    "def fit_vectorizers(vectorizer):\n",
    "    pipeline = Pipeline(\n",
    "    [\n",
    "        (\"vect\", vectorizer()),\n",
    "        (\"scaling\", StandardScaler(with_mean=False)),\n",
    "        (\"clf\", clf),\n",
    "    ]\n",
    "    )\n",
    "\n",
    "    parameters = {\n",
    "        \"vect__ngram_range\": ((1, 1), (1, 2)),  # unigrams or bigrams\n",
    "        \"vect__stop_words\": (\"english\", None)\n",
    "    }\n",
    "\n",
    "    grid_search = GridSearchCV(pipeline, parameters, scoring='f1_micro',\n",
    "                               cv=4, n_jobs=4, verbose=1)\n",
    "    grid_search.fit(X_train, y_train)\n",
    "\n",
    "    best_parameters = grid_search.best_estimator_.get_params()\n",
    "    for param_name in sorted(parameters.keys()):\n",
    "        print(\"\\t%s: %r\" % (param_name, best_parameters[param_name]))\n",
    "\n",
    "    print(f\"CV scores {grid_search.cv_results_['mean_test_score']}\")\n",
    "    print(f\"Mean F1 {np.mean(grid_search.cv_results_['mean_test_score'])}\")"
   ]
  },
  {
   "cell_type": "markdown",
   "id": "850ac876",
   "metadata": {},
   "source": [
    "### Bag-of-words\n",
    "\n",
    "On commence par une approche \"bag-of-words\", i.e. qui revient simplement à représenter chaque document par un vecteur qui compte le nombre d'apparitions de chaque mot du vocabulaire dans le document.\n"
   ]
  },
  {
   "cell_type": "code",
   "execution_count": null,
   "id": "999c3e92",
   "metadata": {},
   "outputs": [],
   "source": [
    "fit_vectorizers(CountVectorizer)"
   ]
  },
  {
   "cell_type": "markdown",
   "id": "d369e4fc",
   "metadata": {},
   "source": [
    "### TF-IDF\n",
    "\n",
    "On s'intéresse ensuite à l'approche TF-IDF, qui permet de tenir compte des fréquences *relatives* des mots. Ainsi, pour un mot donné, on va multiplier la fréquence d'apparition du mot dans le document (calculé comme dans la méthode précédente) par un terme qui pénalise une fréquence élevée du mot dans le corpus. La vectorisation TF-IDF permet donc de limiter l'influence des *stop-words* et donc de donner plus de poids aux mots les plus salients d'un document. On observe clairement que la performance de classification est bien supérieure, ce qui montre la pertinence de cette technique.\n"
   ]
  },
  {
   "cell_type": "code",
   "execution_count": null,
   "id": "0018946b",
   "metadata": {},
   "outputs": [],
   "source": [
    "fit_vectorizers(TfidfVectorizer)"
   ]
  },
  {
   "cell_type": "markdown",
   "id": "1ce7e928",
   "metadata": {},
   "source": [
    "### Word2vec + averaging\n",
    "\n",
    "On va maintenant explorer les techniques de vectorisation basées sur les *embeddings* de mots, et notamment la plus populaire : `word2vec`. L'idée derrière est simple, mais a révolutionné le NLP : au lieu de représenter les documents par des vecteurs *sparse* de très grande dimension (la taille du vocabulaire) comme on l'a fait jusqu'à présent, on va les représenter par des vecteurs *dense* (continus) de dimension réduite (en général, autour de 100-300). Chacune de ces dimensions va représenter un facteur latent, c'est à dire une variable inobservée, de la même manière que les composantes principales produites par une ACP.\n",
    "\n",
    "![title](w2v_vecto.png)\n",
    "\n",
    "Pourquoi est-ce intéressant ? Pour plein de raisons, mais pour résumer : cela permet de beaucoup mieux capturer la similarité sémantique entre les documents. Par exemple, un humain sait qu'un document contenant le mot \"Roi\" et un autre document contenant le mot \"Reine\" ont beaucoup de chance d'aborder des sujets semblables. Pourtant, une vectorisation de type comptage ou TF-IDF ne permet pas de saisir cette similarité : le calcul d'une mesure de similarité (norme euclidienne ou similarité cosine) entre les deux vecteurs ne prendra en compte la similarité des deux concepts, puisque les mots utilisés sont différents. A l'inverse, un modèle `word2vec` bien entraîné va capter qu'il existe un facteur latent de type \"royauté\", et la similarité entre les vecteurs associés aux deux mots sera forte. La magie va même plus loin : le modèle captera aussi qu'il existe un facteur latent de type \"genre\", et va permettre de construire un espace sémantique dans lequel les relations arithmétiques entre vecteurs ont du sens ; par exemple : $king - man + woman ≈ queen$.\n",
    "\n",
    "Comment ces modèles sont-ils entraînés ? Via une tâche de prédiction résolue par un réseau de neurones simple. L'idée fondamentale est que la signification d'un mot se comprend en regardant les mots qui apparaissent fréquemment dans son voisinage. Pour un mot donné, on va donc essayer de prédire les mots qui apparaissent dans une fenêtre autour du mot cible. En répétant cette tâche de nombreuses fois et sur un corpus suffisamment varié, on obtient finalement des *embeddings* pour chaque mot du vocabulaire, qui présentent les propriétés discutées précédemment.\n"
   ]
  },
  {
   "cell_type": "code",
   "execution_count": null,
   "id": "46ed88ae",
   "metadata": {
    "lines_to_next_cell": 2
   },
   "outputs": [],
   "source": [
    "X_train_tokens = [text.split() for text in X_train]\n",
    "w2v_model = Word2Vec(X_train_tokens, vector_size=200, window=5, \n",
    "                     min_count=1, workers=4)"
   ]
  },
  {
   "cell_type": "code",
   "execution_count": null,
   "id": "b7f441b3",
   "metadata": {},
   "outputs": [],
   "source": [
    "w2v_model.wv.most_similar(\"mother\")"
   ]
  },
  {
   "cell_type": "markdown",
   "id": "22b706f1",
   "metadata": {},
   "source": [
    "On voit que les mots les plus similaires à \"mother\" sont souvent des mots liés à la famille, mais pas toujours. C'est lié à la taille très restreinte du corpus sur lequel on entraîne le modèle, qui ne permet pas de réaliser des associations toujours pertinentes.\n"
   ]
  },
  {
   "cell_type": "code",
   "execution_count": null,
   "id": "bba70847",
   "metadata": {
    "lines_to_next_cell": 2
   },
   "outputs": [],
   "source": [
    "def get_mean_vector(w2v_vectors, words):\n",
    "    words = [word for word in words if word in w2v_vectors]\n",
    "    if words:\n",
    "        avg_vector = np.mean(w2v_vectors[words], axis=0)\n",
    "    else:\n",
    "        avg_vector = np.zeros_like(w2v_vectors['hi'])\n",
    "    return avg_vector\n",
    "\n",
    "def fit_w2v_avg(w2v_vectors):\n",
    "    X_train_vectors = np.array([get_mean_vector(w2v_vectors, words)\n",
    "                                for words in X_train_tokens])\n",
    "    \n",
    "    scores = cross_val_score(clf, X_train_vectors, y_train, \n",
    "                         cv=4, scoring='f1_micro', n_jobs=4)\n",
    "\n",
    "    print(f\"CV scores {scores}\")\n",
    "    print(f\"Mean F1 {np.mean(scores)}\")"
   ]
  },
  {
   "cell_type": "code",
   "execution_count": null,
   "id": "9aa5ef50",
   "metadata": {},
   "outputs": [],
   "source": [
    "fit_w2v_avg(w2v_model.wv)"
   ]
  },
  {
   "cell_type": "markdown",
   "id": "bf251b27",
   "metadata": {},
   "source": [
    "La performance chute fortement ; la faute à la taille très restreinte du corpus, comme annoncé précédemment.\n",
    "\n",
    "### Word2vec pré-entraîné + averaging\n",
    "\n",
    "Quand on travaille avec des corpus de taille restreinte, c'est généralement une mauvaise idée d'entraîner son propre modèle `word2vec`. Heureusement, des modèles pré-entraînés sur de très gros corpus sont disponibles. Ils permettent de réaliser du *transfer learning*, c'est à dire de bénéficier de la performance d'un modèle qui a été entraîné sur une autre tâche ou bien un autre corpus.\n"
   ]
  },
  {
   "cell_type": "code",
   "execution_count": null,
   "id": "505a9ea0",
   "metadata": {
    "lines_to_next_cell": 2
   },
   "outputs": [],
   "source": [
    "glove_model = gensim.downloader.load('glove-wiki-gigaword-200')"
   ]
  },
  {
   "cell_type": "code",
   "execution_count": null,
   "id": "6937bbc6",
   "metadata": {
    "lines_to_next_cell": 2
   },
   "outputs": [],
   "source": [
    "glove_model.most_similar('mother')"
   ]
  },
  {
   "cell_type": "code",
   "execution_count": null,
   "id": "7b6513ae",
   "metadata": {},
   "outputs": [],
   "source": [
    "fit_w2v_avg(glove_model)"
   ]
  },
  {
   "cell_type": "markdown",
   "id": "08cfd75d",
   "metadata": {},
   "source": [
    "La performance remonte substantiellement. Cela étant, on ne parvient pas à faire mieux que les approches basiques, on arrive à peine aux performances de la vectorisation par comptage. La cause est cette fois certainement dans la manière dont on exploite les *embeddings* : afin d'obtenir une représentation vectorielle pour chaque document, on moyennise les vecteurs des différents mots compris dans un document. Cela a plusieurs limites : \n",
    "- on ne tient pas compte de l'ordre et donc du contexte des mots\n",
    "- lorsque les documents sont longs, la moyennisation peut créer des représentation bruitées.\n",
    "\n",
    "### Contextual embeddings\n",
    "\n",
    "Les *embeddings* contextuels visent à pallier les limites des *embeddings* traditionnels évoquées précédemment. Cette fois, les mots n'ont plus de représentation vectorielle fixe, celle-ci est calculée dynamiquement en fonction des mots du voisinage, et ainsi de suite. Cela permet de tenir compte de la structure spatiale des phrases et de tenir compte du fait que le sens d'un mot est fortement dépendant des mots qui l'entourent (ex : dans les phrases \"le président Macron\" et \"le camembert Président\" le mot président n'a pas du tout le même rôle). Ces *embeddings* sont produits par des architectures très complexes, de type Transformer (BERT, etc.).\n"
   ]
  },
  {
   "cell_type": "code",
   "execution_count": null,
   "id": "7cddf3bf",
   "metadata": {
    "lines_to_next_cell": 2
   },
   "outputs": [],
   "source": [
    "model = SentenceTransformer('all-mpnet-base-v2')"
   ]
  },
  {
   "cell_type": "code",
   "execution_count": null,
   "id": "c75b5cb7",
   "metadata": {
    "lines_to_next_cell": 2
   },
   "outputs": [],
   "source": [
    "X_train_vectors = model.encode(X_train)"
   ]
  },
  {
   "cell_type": "code",
   "execution_count": null,
   "id": "ca63be0c",
   "metadata": {},
   "outputs": [],
   "source": [
    "scores = cross_val_score(clf, X_train_vectors, y_train, \n",
    "                         cv=4, scoring='f1_micro', n_jobs=4)\n",
    "\n",
    "print(f\"CV scores {scores}\")\n",
    "print(f\"Mean F1 {np.mean(scores)}\")"
   ]
  },
  {
   "cell_type": "markdown",
   "id": "fd4a028d",
   "metadata": {},
   "source": [
    "Verdict : on fait très légèrement mieux que la vectorisation TF-IDF. On voit donc l'importance de tenir compte du contexte. Mais pourquoi, avec une méthode très compliquée, ne parvenons-nous pas à battre une méthode toute simple ? On peut avancer plusieurs raisons : \n",
    "- le TF-IDF est un modèle simple, mais toujours très performant (on parle de \"tough-to-beat baseline\").\n",
    "- la classification d'auteurs est une tâche très particulière et très ardue, qui ne fait pas justice aux *embeddings*. Comme on l'a dit précédemment, ces derniers se révèlent particulièrement pertinent lorsqu'il est question de similarité sémantique entre des textes (clustering, etc.). Dans le cas de notre tâche de classification, il est probable que certains mots (noms de personnage, noms de lieux) soient suffisants pour classifier de manière pertinente, ce que ne permettent pas de capter les *embeddings*.\n",
    "\n",
    "## Exercices\n",
    "\n",
    "- Prédictions sur le test set en utilisant les modèles entraînés\n",
    "- Faire un *vrai* split train/test : faire l'entraînement avec des textes de certains auteurs, et faire la prédiction avec des textes d'auteurs différents. Cela permettrait de neutraliser la présence de noms de lieux, de personnages, etc.\n",
    "- Comparer avec d'autres algorithmes de classification qu'un SVM\n",
    "- (Avancé) : fine-tuner le modèle d'embeddings contextuels sur la tâche de classification\n"
   ]
  },
  {
   "cell_type": "code",
   "execution_count": null,
   "id": "cf1356ff",
   "metadata": {},
   "outputs": [],
   "source": []
  }
 ],
 "metadata": {
  "kernelspec": {
   "display_name": "Python 3",
   "language": "python",
   "name": "python3"
  }
 },
 "nbformat": 4,
 "nbformat_minor": 5
}
