{
  "cells": [
    {
      "cell_type": "raw",
      "metadata": {},
      "source": [
        "---\n",
        "title: \"Méthodes de vectorisation : comptages et word embeddings\"\n",
        "date: 2020-10-29T13:00:00Z\n",
        "draft: false\n",
        "weight: 40\n",
        "slug: word2vec\n",
        "type: book\n",
        "tags:\n",
        "  - NLP\n",
        "  - Littérature\n",
        "  - Topics Modelling\n",
        "  - Word2Vec\n",
        "categories:\n",
        "  - Tutoriel\n",
        "summary: |\n",
        "  Pour pouvoir utiliser des données textuelles dans des algorithmes\n",
        "  de _machine learning_, il faut les vectoriser, c'est à dire transformer\n",
        "  le texte en données numériques. Dans ce TP, nous allons comparer\n",
        "  différentes méthodes de vectorisation, à travers une tâche de prédiction :\n",
        "  _peut-on prédire un auteur littéraire à partir d'extraits de ses textes ?_\n",
        "  Parmi ces méthodes, on va notamment explorer le modèle `Word2Vec`, qui\n",
        "  permet d'exploiter les structures latentes d'un texte en construisant\n",
        "  des _word embeddings_ (plongements de mots).\n",
        "eval: false\n",
        "image: featured.png\n",
        "---"
      ],
      "id": "d7094091"
    },
    {
      "cell_type": "markdown",
      "metadata": {},
      "source": [
        "::: {.cell .markdown}"
      ],
      "id": "d75ff1cf"
    },
    {
      "cell_type": "code",
      "metadata": {},
      "source": [
        "#| output: 'asis'\n",
        "#| include: true\n",
        "#| eval: true\n",
        "\n",
        "import sys\n",
        "sys.path.insert(1, '../../../../') #insert the utils module\n",
        "from utils import print_badges\n",
        "\n",
        "#print_badges(__file__)\n",
        "print_badges(\"content/course/NLP/04_word2vec.qmd\")"
      ],
      "id": "94bb7407",
      "execution_count": null,
      "outputs": []
    },
    {
      "cell_type": "markdown",
      "metadata": {},
      "source": [
        ":::\n",
        "\n",
        "Cette page approfondit certains aspects présentés dans la\n",
        "[partie introductive](#nlp). Après avoir travaillé sur le\n",
        "*Comte de Monte Cristo*, on va continuer notre exploration de la littérature\n",
        "avec cette fois des auteurs anglophones:\n",
        "\n",
        "* Edgar Allan Poe, (EAP) ;\n",
        "* HP Lovecraft (HPL) ;\n",
        "* Mary Wollstonecraft Shelley (MWS).\n",
        "\n",
        "Les données sont disponibles ici : [spooky.csv](https://github.com/GU4243-ADS/spring2018-project1-ginnyqg/blob/master/data/spooky.csv) et peuvent être requétées via l'url \n",
        "<https://github.com/GU4243-ADS/spring2018-project1-ginnyqg/raw/master/data/spooky.csv>.\n",
        "\n",
        "Le but va être dans un premier temps de regarder dans le détail les termes les plus fréquents utilisés par les auteurs, de les représenter graphiquement puis on va ensuite essayer de prédire quel texte correspond à quel auteur à partir de différents modèles de vectorisation, notamment les *word embeddings*.\n",
        "\n",
        "Ce notebook est librement inspiré de  : \n",
        "\n",
        "* https://www.kaggle.com/enerrio/scary-nlp-with-spacy-and-keras\n",
        "* https://github.com/GU4243-ADS/spring2018-project1-ginnyqg\n",
        "* https://www.kaggle.com/meiyizi/spooky-nlp-and-topic-modelling-tutorial/notebook\n",
        "\n",
        "\n",
        "\n",
        "::: {.cell .markdown}\n",
        "\n",
        "```{=html}\n",
        "<div class=\"alert alert-danger\" role=\"alert\" style=\"color: rgba(0,0,0,.8); background-color: white; margin-top: 1em; margin-bottom: 1em; margin:1.5625emauto; padding:0 .6rem .8rem!important;overflow:hidden; page-break-inside:avoid; border-radius:.25rem; box-shadow:0 .2rem .5rem rgba(0,0,0,.05),0 0 .05rem rgba(0,0,0,.1); transition:color .25s,background-color .25s,border-color .25s ; border-right: 1px solid #dee2e6 ; border-top: 1px solid #dee2e6 ; border-bottom: 1px solid #dee2e6 ; border-left: .2rem solid #ff0039;\">\n",
        "```\n",
        "\n",
        "Comme dans la [partie précédente](#nlp), il faut télécharger quelques éléments\n",
        "pour que nos librairies de NLP puissent fonctionner correctement.\n",
        "\n",
        "En premier lieu, il convient d'installer les librairies adéquates\n",
        "(`spacy`, `gensim` et `sentence_transformers`):\n",
        "\n",
        "~~~python\n",
        "!pip install spacy gensim sentence_transformers\n",
        "~~~\n",
        "\n",
        "Ensuite, comme nous allons utiliser également `spacy`, il convient de télécharger\n",
        "le corpus Anglais. Pour cela, on peut se référer à\n",
        "[la documentation de `spacy`](https://spacy.io/usage/models),\n",
        "extrêmement bien faite.\n",
        "\n",
        "\n",
        "- Idéalement, il faut installer le module via la ligne de commande. Dans\n",
        "une cellule de notebook `Jupyter`, faire :\n",
        "\n",
        "~~~python\n",
        "!python -m spacy download en_core_web_sm\n",
        "~~~\n",
        "\n",
        "- Sans accès à la ligne de commande (depuis une instance `Docker` par exemple),\n",
        "faire :\n",
        "\n",
        "~~~python\n",
        "import spacy\n",
        "spacy.cli.download(\"en_core_web_sm\")\n",
        "~~~\n",
        "\n",
        "- Sinon, il est également possible d'installer le module en faisant pointer\n",
        "`pip install` vers le fichier adéquat sur\n",
        "[`Github`](https://github.com/explosion/spacy-models). Pour cela, taper\n",
        "\n",
        "~~~python\n",
        "pip install https://github.com/explosion/spacy-models/releases/download/en_core_web_sm-3.0.0/en_core_web_sm-3.0.0-py3-none-any.whl\n",
        "~~~\n",
        "\n",
        "\n",
        "\n",
        "```{=html}\n",
        "</div>\n",
        "```\n",
        "\n",
        ":::\n"
      ],
      "id": "55de329e"
    },
    {
      "cell_type": "code",
      "metadata": {},
      "source": [
        "from collections import Counter\n",
        "\n",
        "import numpy as np\n",
        "import pandas as pd\n",
        "import matplotlib.pyplot as plt\n",
        "import seaborn as sns\n",
        "import gensim\n",
        "\n",
        "from sklearn.preprocessing import LabelEncoder\n",
        "from sklearn.model_selection import train_test_split\n",
        "from sklearn.pipeline import Pipeline\n",
        "from sklearn.preprocessing import StandardScaler\n",
        "from sklearn.svm import LinearSVC\n",
        "from sklearn.feature_extraction.text import CountVectorizer, TfidfVectorizer\n",
        "from sklearn.model_selection import GridSearchCV, cross_val_score\n",
        "\n",
        "from gensim.models.word2vec import Word2Vec\n",
        "import gensim.downloader\n",
        "from sentence_transformers import SentenceTransformer"
      ],
      "id": "0ec4970d",
      "execution_count": null,
      "outputs": []
    },
    {
      "cell_type": "markdown",
      "metadata": {},
      "source": [
        "# Nettoyage des données\n",
        "\n",
        "Nous allons ainsi à nouveau utiliser le jeu de données `spooky`:\n"
      ],
      "id": "b97eaec1"
    },
    {
      "cell_type": "code",
      "metadata": {},
      "source": [
        "data_url = 'https://github.com/GU4243-ADS/spring2018-project1-ginnyqg/raw/master/data/spooky.csv'\n",
        "spooky_df = pd.read_csv(data_url)"
      ],
      "id": "e550305e",
      "execution_count": null,
      "outputs": []
    },
    {
      "cell_type": "markdown",
      "metadata": {},
      "source": [
        "Le jeu de données met ainsi en regard un auteur avec une phrase qu'il a écrite:\n"
      ],
      "id": "540b7820"
    },
    {
      "cell_type": "code",
      "metadata": {},
      "source": [
        "spooky_df.head()"
      ],
      "id": "113b78d5",
      "execution_count": null,
      "outputs": []
    },
    {
      "cell_type": "markdown",
      "metadata": {},
      "source": [
        "## Preprocessing\n",
        "\n",
        "En NLP, la première étape est souvent celle du *preprocessing*, qui inclut notamment les étapes de tokenization et de nettoyage du texte. Comme celles-ci ont été vues en détail dans le précédent chapitre, on se contentera ici d'un *preprocessing* minimaliste : suppression de la ponctuation et des *stop words* (pour la visualisation et les méthodes de vectorisation basées sur des comptages).\n",
        "\n",
        "Jusqu'à présent, nous avons utilisé principalement `nltk` pour le \n",
        "*preprocessing* de données textuelles. Cette fois, nous proposons\n",
        "d'utiliser la librairie `spaCy` qui permet de mieux automatiser sous forme de\n",
        "*pipelines* de *preprocessing*. \n",
        "\n",
        "Pour initialiser le processus de nettoyage,\n",
        "on va utiliser le corpus `en_core_web_sm` (voir plus\n",
        "haut pour l'installation de ce corpus):\n"
      ],
      "id": "15724421"
    },
    {
      "cell_type": "code",
      "metadata": {},
      "source": [
        "import spacy\n",
        "nlp = spacy.load('en_core_web_sm')"
      ],
      "id": "d9ec7fb4",
      "execution_count": null,
      "outputs": []
    },
    {
      "cell_type": "markdown",
      "metadata": {},
      "source": [
        "On va utiliser un `pipe` `spacy` qui permet d'automatiser, et de paralléliser,\n",
        "un certain nombre d'opérations. Les *pipes* sont l'équivalent, en NLP, de\n",
        "nos *pipelines* `scikit` ou des *pipes* `pandas`. Il s'agit donc d'un outil\n",
        "très approprié pour industrialiser un certain nombre d'opérations de\n",
        "*preprocessing* :\n"
      ],
      "id": "0d7ad177"
    },
    {
      "cell_type": "code",
      "metadata": {},
      "source": [
        "def clean_docs(texts, remove_stopwords=False, n_process = 4):\n",
        "    \n",
        "    docs = nlp.pipe(texts, \n",
        "                    n_process=n_process,\n",
        "                    disable=['parser', 'ner',\n",
        "                             'lemmatizer', 'textcat'])\n",
        "    stopwords = nlp.Defaults.stop_words\n",
        "\n",
        "    docs_cleaned = []\n",
        "    for doc in docs:\n",
        "        tokens = [tok.text.lower().strip() for tok in doc if not tok.is_punct]\n",
        "        if remove_stopwords:\n",
        "            tokens = [tok for tok in tokens if tok not in stopwords]\n",
        "        doc_clean = ' '.join(tokens)\n",
        "        docs_cleaned.append(doc_clean)\n",
        "        \n",
        "    return docs_cleaned"
      ],
      "id": "f0cfacc5",
      "execution_count": null,
      "outputs": []
    },
    {
      "cell_type": "markdown",
      "metadata": {},
      "source": [
        "On applique la fonction `clean_docs` à notre colonne `pandas`.\n",
        "Les `pandas.Series` étant itérables, elles se comportent comme des listes et\n",
        "fonctionnent ainsi très bien avec notre `pipe` `spacy`\n"
      ],
      "id": "c66102cd"
    },
    {
      "cell_type": "code",
      "metadata": {},
      "source": [
        "spooky_df['text_clean'] = clean_docs(spooky_df['text'])"
      ],
      "id": "af2d7558",
      "execution_count": null,
      "outputs": []
    },
    {
      "cell_type": "code",
      "metadata": {},
      "source": [
        "spooky_df.head()"
      ],
      "id": "e712f843",
      "execution_count": null,
      "outputs": []
    },
    {
      "cell_type": "markdown",
      "metadata": {},
      "source": [
        "## Encodage de la variable à prédire\n",
        "\n",
        "On réalise un simple encodage de la variable à prédire :\n",
        "il y a trois catégories (auteurs), représentées par des entiers 0, 1 et 2.\n",
        "\n",
        "Pour cela, on utilise le `LabelEncoder` de `scikit` déjà présenté \n",
        "dans la [partie modélisation](#preprocessing). On va utiliser la méthode\n",
        "`fit_transform` qui permet, en un tour de main, d'appliquer à la fois\n",
        "l'entraînement (`fit`), à savoir la création d'une correspondance entre valeurs\n",
        "numériques et _labels_, et l'appliquer (`transform`) à la même colonne.\n"
      ],
      "id": "cd2ed480"
    },
    {
      "cell_type": "code",
      "metadata": {},
      "source": [
        "le = LabelEncoder()\n",
        "spooky_df['author_encoded'] = le.fit_transform(spooky_df['author'])"
      ],
      "id": "081c95e8",
      "execution_count": null,
      "outputs": []
    },
    {
      "cell_type": "markdown",
      "metadata": {},
      "source": [
        "On peut vérifier les classes de notre `LabelEncoder` :\n"
      ],
      "id": "748294d0"
    },
    {
      "cell_type": "code",
      "metadata": {},
      "source": [
        "le.classes_"
      ],
      "id": "b71b80b3",
      "execution_count": null,
      "outputs": []
    },
    {
      "cell_type": "markdown",
      "metadata": {},
      "source": [
        "## Construction des bases d'entraînement et de test\n",
        "\n",
        "On met de côté un échantillon de test (20 %) avant toute analyse (même descriptive).\n",
        "Cela permettra d'évaluer nos différents modèles toute à la fin de manière très rigoureuse,\n",
        "puisque ces données n'auront jamais utilisées pendant l'entraînement.\n",
        "\n",
        "Notre échantillon initial n'est pas équilibré (*balanced*) : on retrouve plus d'oeuvres de\n",
        "certains auteurs que d'autres. Afin d'obtenir un modèle qui soit évalué au mieux, nous allons donc stratifier notre échantillon de manière à obtenir une répartition similaire d'auteurs dans nos\n",
        "ensembles d'entraînement et de test.\n"
      ],
      "id": "008e7920"
    },
    {
      "cell_type": "code",
      "metadata": {},
      "source": [
        "X_train, X_test, y_train, y_test = train_test_split(spooky_df['text_clean'].values, \n",
        "                                                    spooky_df['author_encoded'].values, \n",
        "                                                    test_size=0.2, \n",
        "                                                    random_state=33,\n",
        "                                                    stratify = spooky_df['author_encoded'].values)"
      ],
      "id": "9a7ebe66",
      "execution_count": null,
      "outputs": []
    },
    {
      "cell_type": "markdown",
      "metadata": {},
      "source": [
        "Par exemple, les textes d'EAP représentent 40 % des échantillons d'entraînement et de test : \n"
      ],
      "id": "2db533ae"
    },
    {
      "cell_type": "code",
      "metadata": {},
      "source": [
        "print(100*y_train.tolist().count(0)/(len(y_train)))\n",
        "print(100*y_test.tolist().count(0)/(len(y_test)))"
      ],
      "id": "256c21e1",
      "execution_count": null,
      "outputs": []
    },
    {
      "cell_type": "markdown",
      "metadata": {},
      "source": [
        "Aperçu du premier élément de `X_train` : \n"
      ],
      "id": "bb8afcd0"
    },
    {
      "cell_type": "code",
      "metadata": {},
      "source": [
        "X_train[0]"
      ],
      "id": "62f83237",
      "execution_count": null,
      "outputs": []
    },
    {
      "cell_type": "markdown",
      "metadata": {},
      "source": [
        "On peut aussi vérifier qu'on est capable de retrouver\n",
        "la correspondance entre nos auteurs initiaux avec\n",
        "la méthode `inverse_transform`\n"
      ],
      "id": "fc6075fd"
    },
    {
      "cell_type": "code",
      "metadata": {},
      "source": [
        "print(y_train[0], le.inverse_transform([y_train[0]])[0])"
      ],
      "id": "97acbfe1",
      "execution_count": null,
      "outputs": []
    },
    {
      "cell_type": "markdown",
      "metadata": {},
      "source": [
        "# Statistiques exploratoires\n",
        "\n",
        "## Répartition des labels\n",
        "\n",
        "Refaisons un graphique que nous avons déjà produit précédemment pour voir\n",
        "la répartition de notre corpus entre auteurs:\n"
      ],
      "id": "e21a0444"
    },
    {
      "cell_type": "code",
      "metadata": {},
      "source": [
        "#| output: hide\n",
        "fig = pd.Series(le.inverse_transform(y_train)).value_counts().plot(kind='bar')\n",
        "fig"
      ],
      "id": "4136c4cc",
      "execution_count": null,
      "outputs": []
    },
    {
      "cell_type": "code",
      "metadata": {},
      "source": [
        "fig.get_figure()"
      ],
      "id": "6b45b93c",
      "execution_count": null,
      "outputs": []
    },
    {
      "cell_type": "markdown",
      "metadata": {},
      "source": [
        "On observe une petite asymétrie : les passages des livres d'Edgar Allen Poe sont plus nombreux que ceux des autres auteurs dans notre corpus d'entraînement, ce qui peut être problématique dans le cadre d'une tâche de classification.\n",
        "L'écart n'est pas dramatique, mais on essaiera d'en tenir compte dans l'analyse en choisissant une métrique d'évaluation pertinente. \n",
        "\n",
        "## Mots les plus fréquemment utilisés par chaque auteur\n",
        "\n",
        "On va supprimer les *stopwords* pour réduire le bruit dans notre jeu\n",
        "de données.\n"
      ],
      "id": "967dcb97"
    },
    {
      "cell_type": "code",
      "metadata": {},
      "source": [
        "# Suppression des stop words\n",
        "X_train_no_sw = clean_docs(X_train, remove_stopwords=True)\n",
        "X_train_no_sw = np.array(X_train_no_sw)"
      ],
      "id": "c543fe6e",
      "execution_count": null,
      "outputs": []
    },
    {
      "cell_type": "markdown",
      "metadata": {},
      "source": [
        "Pour visualiser rapidement nos corpus, on peut utiliser la technique des\n",
        "nuages de mots déjà vue à plusieurs reprises. \n",
        "\n",
        "Vous pouvez essayer de faire vous-même les nuages ci-dessous\n",
        "ou cliquer sur la ligne ci-dessous pour afficher le code ayant\n",
        "généré les figures :\n",
        "\n",
        "::: {.cell .markdown}\n",
        "\n",
        "```{=html}\n",
        "<details><summary><code>Cliquer pour afficher le code</code> 👇</summary>\n",
        "```"
      ],
      "id": "41f878a3"
    },
    {
      "cell_type": "code",
      "metadata": {},
      "source": [
        "def plot_top_words(initials, ax, n_words=20):\n",
        "    # Calcul des mots les plus fréquemment utilisés par l'auteur\n",
        "    texts = X_train_no_sw[le.inverse_transform(y_train) == initials]\n",
        "    all_tokens = ' '.join(texts).split()\n",
        "    counts = Counter(all_tokens)\n",
        "    top_words = [word[0] for word in counts.most_common(n_words)]\n",
        "    top_words_counts = [word[1] for word in counts.most_common(n_words)]\n",
        "    \n",
        "    # Représentation sous forme de barplot\n",
        "    ax = sns.barplot(ax = ax, x=top_words, y=top_words_counts)\n",
        "    ax.set_title(f'Most Common Words used by {initials_to_author[initials]}')"
      ],
      "id": "cbd7af5a",
      "execution_count": null,
      "outputs": []
    },
    {
      "cell_type": "code",
      "metadata": {},
      "source": [
        "#| output: hide\n",
        "\n",
        "initials_to_author = {\n",
        "    'EAP': 'Edgar Allen Poe',\n",
        "    'HPL': 'H.P. Lovecraft',\n",
        "    'MWS': 'Mary Wollstonecraft Shelley'\n",
        "}\n",
        "\n",
        "fig, axs = plt.subplots(3, 1, figsize = (12,12))\n",
        "\n",
        "plot_top_words('EAP', ax = axs[0])\n",
        "plot_top_words('HPL', ax = axs[1])\n",
        "plot_top_words('MWS', ax = axs[2])"
      ],
      "id": "0dcd3285",
      "execution_count": null,
      "outputs": []
    },
    {
      "cell_type": "markdown",
      "metadata": {},
      "source": [
        "```{=html}\n",
        "</details>\n",
        "```\n",
        "\n",
        ":::\n"
      ],
      "id": "adc23130"
    },
    {
      "cell_type": "code",
      "metadata": {},
      "source": [
        "#| eval: false\n",
        "\n",
        "axs[0].get_figure()\n",
        "axs[1].get_figure()\n",
        "axs[2].get_figure()"
      ],
      "id": "53afe817",
      "execution_count": null,
      "outputs": []
    },
    {
      "cell_type": "markdown",
      "metadata": {},
      "source": [
        "Beaucoup de mots se retrouvent très utilisés par les trois auteurs.\n",
        "Il y a cependant des différences notables : le mot _\"life\"_\n",
        "est le plus employé par MWS, alors qu'il n'apparaît pas dans les deux autres tops.\n",
        "De même, le mot _\"old\"_ est le plus utilisé par HPL\n",
        "là où les deux autres ne l'utilisent pas de manière surreprésentée.\n",
        "\n",
        "Il semble donc qu'il y ait des particularités propres à chacun des auteurs\n",
        "en termes de vocabulaire,\n",
        "ce qui laisse penser qu'il est envisageable de prédire les auteurs à partir\n",
        "de leurs textes dans une certaine mesure.\n",
        "\n",
        "# Prédiction sur le set d'entraînement\n",
        "\n",
        "Nous allons à présent vérifier cette conjecture en comparant\n",
        "plusieurs modèles de vectorisation,\n",
        "_i.e._ de transformation du texte en objets numériques\n",
        "pour que l'information contenue soit exploitable dans un modèle de classification.\n",
        "\n",
        "## Démarche\n",
        "\n",
        "Comme nous nous intéressons plus à l'effet de la vectorisation qu'à la tâche de classification en elle-même,\n",
        "nous allons utiliser un algorithme de classification simple (un SVM linéaire), avec des paramètres non fine-tunés (c'est-à-dire des paramètres pas nécessairement choisis pour être les meilleurs de tous).\n"
      ],
      "id": "ddaa0f51"
    },
    {
      "cell_type": "code",
      "metadata": {},
      "source": [
        "clf = LinearSVC(max_iter=10000, C=0.1)"
      ],
      "id": "7c9f0eff",
      "execution_count": null,
      "outputs": []
    },
    {
      "cell_type": "markdown",
      "metadata": {},
      "source": [
        "Ce modèle est connu pour être très performant sur les tâches de classification de texte, et nous fournira donc un bon modèle de référence (*baseline*). Cela nous permettra également de comparer de manière objective l'impact des méthodes de vectorisation sur la performance finale.\n",
        "\n",
        "<!-- KA : dit plus bas. -->\n",
        "<!-- On va utiliser au maximum les objets de type pipeline de `sklearn`, -->\n",
        "<!-- qui permettent de réaliser des analyses reproductibles -->\n",
        "<!-- et de fine-tuner proprement les différents hyperparamètres. -->\n",
        "\n",
        "Pour les deux premières méthodes de vectorisation\n",
        "(basées sur des fréquences et fréquences relatives des mots),\n",
        "on va simplement normaliser les données d'entrée, ce qui va permettre au SVM de converger plus rapidement, ces modèles étant sensibles aux différences d'échelle dans les données.\n",
        "\n",
        "On va également _fine-tuner_ via _grid-search_\n",
        "certains hyperparamètres liés à ces méthodes de vectorisation : \n",
        "\n",
        "- on teste différents _ranges_ de `n-grams` (unigrammes et unigrammes + bigrammes)\n",
        "- on teste avec et sans _stop-words_\n",
        "\n",
        "Afin d'éviter le surapprentissage,\n",
        "on va évaluer les différents modèles via validation croisée, calculée sur 4 blocs.\n",
        "\n",
        "On récupère à la fin le meilleur modèle selon une métrique spécifiée.\n",
        "On choisit le `score F1`,\n",
        "moyenne harmonique de la précision et du rappel,\n",
        "qui donne un poids équilibré aux deux métriques, tout en pénalisant fortement le cas où l'une des deux est faible.\n",
        "Précisément, on retient le `score F1 *micro-averaged*` :\n",
        "les contributions des différentes classes à prédire sont agrégées,\n",
        "puis on calcule le `score F1` sur ces données agrégées.\n",
        "L'avantage de ce choix est qu'il permet de tenir compte des différences\n",
        "de fréquences des différentes classes.\n",
        "\n",
        "## Pipeline de prédiction\n",
        "\n",
        "On va utiliser un *pipeline* `scikit` ce qui va nous permettre d'avoir\n",
        "un code très concis pour effectuer cet ensemble de tâches cohérentes. \n",
        "De plus, cela va nous assurer de gérer de manière cohérentes nos différentes\n",
        "transformations (cf. [partie sur les pipelines](#pipelines))\n",
        "\n",
        "Pour se faciliter la vie, on définit une fonction `fit_vectorizers` qui\n",
        "intègre dans un *pipeline* générique une méthode d'estimation `scikit`\n",
        "et fait de la validation croisée en cherchant le meilleur modèle\n",
        "(en excluant/incluant les *stopwords* et avec unigrammes/bigrammes)\n"
      ],
      "id": "204c5015"
    },
    {
      "cell_type": "code",
      "metadata": {},
      "source": [
        "def fit_vectorizers(vectorizer):\n",
        "    pipeline = Pipeline(\n",
        "    [\n",
        "        (\"vect\", vectorizer()),\n",
        "        (\"scaling\", StandardScaler(with_mean=False)),\n",
        "        (\"clf\", clf),\n",
        "    ]\n",
        "    )\n",
        "\n",
        "    parameters = {\n",
        "        \"vect__ngram_range\": ((1, 1), (1, 2)),  # unigrams or bigrams\n",
        "        \"vect__stop_words\": (\"english\", None)\n",
        "    }\n",
        "\n",
        "    grid_search = GridSearchCV(pipeline, parameters, scoring='f1_micro',\n",
        "                               cv=4, n_jobs=4, verbose=1)\n",
        "    grid_search.fit(X_train, y_train)\n",
        "\n",
        "    best_parameters = grid_search.best_estimator_.get_params()\n",
        "    for param_name in sorted(parameters.keys()):\n",
        "        print(\"\\t%s: %r\" % (param_name, best_parameters[param_name]))\n",
        "\n",
        "    print(f\"CV scores {grid_search.cv_results_['mean_test_score']}\")\n",
        "    print(f\"Mean F1 {np.mean(grid_search.cv_results_['mean_test_score'])}\")\n",
        "    \n",
        "    return grid_search"
      ],
      "id": "9574b119",
      "execution_count": null,
      "outputs": []
    },
    {
      "cell_type": "markdown",
      "metadata": {},
      "source": [
        "# Approche _bag-of-words_\n",
        "\n",
        "On commence par une approche __\"bag-of-words\"__, \n",
        "i.e. qui revient simplement à représenter chaque document par un vecteur\n",
        "qui compte le nombre d'apparitions de chaque mot du vocabulaire dans le document.\n"
      ],
      "id": "407e5408"
    },
    {
      "cell_type": "code",
      "metadata": {},
      "source": [
        "cv_bow = fit_vectorizers(CountVectorizer)"
      ],
      "id": "e1b2384a",
      "execution_count": null,
      "outputs": []
    },
    {
      "cell_type": "markdown",
      "metadata": {},
      "source": [
        "# TF-IDF\n",
        "\n",
        "On s'intéresse ensuite à l'approche __TF-IDF__,\n",
        "qui permet de tenir compte des fréquences *relatives* des mots.\n",
        "\n",
        "Ainsi, pour un mot donné, on va multiplier la fréquence d'apparition du mot dans le document (calculé comme dans la méthode précédente) par un terme qui pénalise une fréquence élevée du mot dans le corpus. L'image ci-dessous, empruntée à Chris Albon, illustre cette mesure:\n",
        "\n",
        "![](https://chrisalbon.com/images/machine_learning_flashcards/TF-IDF_print.png)\n",
        "*Source: [https://chrisalbon](https://chrisalbon.com/code/machine_learning/preprocessing_text/tf-idf/)*\n",
        "\n",
        "La vectorisation `TF-IDF` permet donc de limiter l'influence des *stop-words*\n",
        "et donc de donner plus de poids aux mots les plus salients d'un document.\n",
        "On observe clairement que la performance de classification est bien supérieure,\n",
        "ce qui montre la pertinence de cette technique.\n"
      ],
      "id": "8e8ba3c7"
    },
    {
      "cell_type": "code",
      "metadata": {},
      "source": [
        "cv_tfidf = fit_vectorizers(TfidfVectorizer)"
      ],
      "id": "4e316aae",
      "execution_count": null,
      "outputs": []
    },
    {
      "cell_type": "markdown",
      "metadata": {},
      "source": [
        "# Word2vec avec averaging\n",
        "\n",
        "On va maintenant explorer les techniques de vectorisation basées sur les\n",
        "*embeddings* de mots, et notamment la plus populaire : `Word2Vec`.\n",
        "\n",
        "L'idée derrière est simple, mais a révolutionné le NLP :\n",
        "au lieu de représenter les documents par des\n",
        "vecteurs *sparse* de très grande dimension (la taille du vocabulaire)\n",
        "comme on l'a fait jusqu'à présent,\n",
        "on va les représenter par des vecteurs *dense* (continus)\n",
        "de dimension réduite (en général, autour de 100-300).\n",
        "\n",
        "Chacune de ces dimensions va représenter un facteur latent,\n",
        "c'est à dire une variable inobservée,\n",
        "de la même manière que les composantes principales produites par une ACP.\n",
        "\n",
        "![](w2v_vecto.png)\n",
        "\n",
        "*Source: https://medium.com/@zafaralibagh6/simple-tutorial-on-word-embedding-and-word2vec-43d477624b6d*\n",
        "\n",
        "\n",
        "__Pourquoi est-ce intéressant ?__\n",
        "Pour de nombreuses raisons, mais pour résumer :\n",
        "cela permet de beaucoup mieux capturer la similarité sémantique entre les documents.\n",
        "\n",
        "Par exemple, un humain sait qu'un document contenant le mot _\"Roi\"_\n",
        "et un autre document contenant le mot _\"Reine\"_ ont beaucoup de chance\n",
        "d'aborder des sujets semblables.\n",
        "\n",
        "Pourtant, une vectorisation de type comptage ou TF-IDF\n",
        "ne permet pas de saisir cette similarité :\n",
        "le calcul d'une mesure de similarité (norme euclidienne ou similarité cosinus)\n",
        "entre les deux vecteurs ne prendra en compte la similarité des deux concepts, puisque les mots utilisés sont différents.\n",
        "\n",
        "A l'inverse, un modèle `word2vec` bien entraîné va capter\n",
        "qu'il existe un facteur latent de type _\"royauté\"_,\n",
        "et la similarité entre les vecteurs associés aux deux mots sera forte.\n",
        "\n",
        "La magie va même plus loin : le modèle captera aussi qu'il existe un\n",
        "facteur latent de type _\"genre\"_,\n",
        "et va permettre de construire un espace sémantique dans lequel les\n",
        "relations arithmétiques entre vecteurs ont du sens ;\n",
        "par exemple :\n",
        "$$\\text{king} - \\text{man} + \\text{woman} ≈ \\text{queen}$$\n",
        "\n",
        "__Comment ces modèles sont-ils entraînés ?__\n",
        "Via une tâche de prédiction résolue par un réseau de neurones simple.\n",
        "\n",
        "L'idée fondamentale est que la signification d'un mot se comprend\n",
        "en regardant les mots qui apparaissent fréquemment dans son voisinage.\n",
        "\n",
        "Pour un mot donné, on va donc essayer de prédire les mots\n",
        "qui apparaissent dans une fenêtre autour du mot cible.\n",
        "\n",
        "En répétant cette tâche de nombreuses fois et sur un corpus suffisamment varié,\n",
        "on obtient finalement des *embeddings* pour chaque mot du vocabulaire,\n",
        "qui présentent les propriétés discutées précédemment.\n"
      ],
      "id": "873a4c87"
    },
    {
      "cell_type": "code",
      "metadata": {},
      "source": [
        "X_train_tokens = [text.split() for text in X_train]\n",
        "w2v_model = Word2Vec(X_train_tokens, vector_size=200, window=5, \n",
        "                     min_count=1, workers=4)"
      ],
      "id": "0307f5a2",
      "execution_count": null,
      "outputs": []
    },
    {
      "cell_type": "code",
      "metadata": {},
      "source": [
        "w2v_model.wv.most_similar(\"mother\")"
      ],
      "id": "9a115273",
      "execution_count": null,
      "outputs": []
    },
    {
      "cell_type": "markdown",
      "metadata": {},
      "source": [
        "On voit que les mots les plus similaires à _\"mother\"_\n",
        "sont souvent des mots liés à la famille, mais pas toujours.\n",
        "\n",
        "C'est lié à la taille très restreinte du corpus sur lequel on entraîne le modèle,\n",
        "qui ne permet pas de réaliser des associations toujours pertinentes.\n",
        "\n",
        "\n",
        "L'*embedding* (la représentation vectorielle) de chaque document correspond à la moyenne des *word-embeddings* des mots qui le composent : \n"
      ],
      "id": "de31edc5"
    },
    {
      "cell_type": "code",
      "metadata": {},
      "source": [
        "def get_mean_vector(w2v_vectors, words):\n",
        "    words = [word for word in words if word in w2v_vectors]\n",
        "    if words:\n",
        "        avg_vector = np.mean(w2v_vectors[words], axis=0)\n",
        "    else:\n",
        "        avg_vector = np.zeros_like(w2v_vectors['hi'])\n",
        "    return avg_vector\n",
        "\n",
        "def fit_w2v_avg(w2v_vectors):\n",
        "    X_train_vectors = np.array([get_mean_vector(w2v_vectors, words)\n",
        "                                for words in X_train_tokens])\n",
        "    \n",
        "    scores = cross_val_score(clf, X_train_vectors, y_train, \n",
        "                         cv=4, scoring='f1_micro', n_jobs=4)\n",
        "\n",
        "    print(f\"CV scores {scores}\")\n",
        "    print(f\"Mean F1 {np.mean(scores)}\")\n",
        "    return scores"
      ],
      "id": "7b043eb6",
      "execution_count": null,
      "outputs": []
    },
    {
      "cell_type": "code",
      "metadata": {},
      "source": [
        "cv_w2vec = fit_w2v_avg(w2v_model.wv)"
      ],
      "id": "88d796bd",
      "execution_count": null,
      "outputs": []
    },
    {
      "cell_type": "markdown",
      "metadata": {},
      "source": [
        "La performance chute fortement ;\n",
        "la faute à la taille très restreinte du corpus, comme annoncé précédemment.\n",
        "\n",
        "# Word2vec pré-entraîné + averaging\n",
        "\n",
        "Quand on travaille avec des corpus de taille restreinte,\n",
        "c'est généralement une mauvaise idée d'entraîner son propre modèle `word2vec`.\n",
        "\n",
        "Heureusement, des modèles pré-entraînés sur de très gros corpus sont disponibles.\n",
        "Ils permettent de réaliser du *transfer learning*,\n",
        "c'est-à-dire de bénéficier de la performance d'un modèle qui a été entraîné sur une autre tâche ou bien sur un autre corpus.\n",
        "\n",
        "L'un des modèles les plus connus pour démarrer est le `glove_model` de\n",
        "`Gensim` (Glove pour _Global Vectors for Word Representation_)```{=html}\n",
        "<a name=\"cite_note-1\"></a>1. [^](#cite_ref-1)\n",
        "```\n",
        "\n",
        "\n",
        "> GloVe is an unsupervised learning algorithm for obtaining vector representations for words. Training is performed on aggregated global word-word co-occurrence statistics from a corpus, and the resulting representations showcase interesting linear substructures of the word vector space. \n",
        ">\n",
        "> _Source_: https://nlp.stanford.edu/projects/glove/\n",
        "\n",
        "```{=html}\n",
        "<a name=\"cite_note-1\"></a>1. [^](#cite_ref-1)\n",
        "```\n",
        " Jeffrey Pennington, Richard Socher, and Christopher D. Manning. 2014. _GloVe: Global Vectors for Word Representation_. \n",
        "\n",
        "On peut le charger directement grâce à l'instruction suivante : \n"
      ],
      "id": "8dfbe764"
    },
    {
      "cell_type": "code",
      "metadata": {},
      "source": [
        "#| output: hide\n",
        "glove_model = gensim.downloader.load('glove-wiki-gigaword-200')"
      ],
      "id": "b2536a8d",
      "execution_count": null,
      "outputs": []
    },
    {
      "cell_type": "markdown",
      "metadata": {},
      "source": [
        "Par exemple, la représentation vectorielle de roi est l'objet\n",
        "multidimensionnel suivant :\n"
      ],
      "id": "e2d4d342"
    },
    {
      "cell_type": "code",
      "metadata": {},
      "source": [
        "glove_model['king']"
      ],
      "id": "5e3e7a76",
      "execution_count": null,
      "outputs": []
    },
    {
      "cell_type": "markdown",
      "metadata": {},
      "source": [
        "Comme elle est peu intelligible, on va plutôt rechercher les termes les\n",
        "plus similaires. Par exemple,\n"
      ],
      "id": "acce18a2"
    },
    {
      "cell_type": "code",
      "metadata": {},
      "source": [
        "glove_model.most_similar('mother')"
      ],
      "id": "e0685645",
      "execution_count": null,
      "outputs": []
    },
    {
      "cell_type": "markdown",
      "metadata": {},
      "source": [
        "On peut retrouver notre formule précédente\n",
        "\n",
        "$$\\text{king} - \\text{man} + \\text{woman} ≈ \\text{queen}$$\n",
        "dans ce plongement de mots:\n"
      ],
      "id": "82a1f982"
    },
    {
      "cell_type": "code",
      "metadata": {},
      "source": [
        "glove_model.most_similar(positive = ['king', 'woman'], negative = ['man'])"
      ],
      "id": "8c6339a3",
      "execution_count": null,
      "outputs": []
    },
    {
      "cell_type": "markdown",
      "metadata": {},
      "source": [
        "Vous pouvez vous référer à [ce tutoriel](https://jalammar.github.io/illustrated-word2vec/)\n",
        "pour en découvrir plus sur `Word2Vec`.\n",
        "\n",
        "Faisons notre apprentissage par transfert :\n"
      ],
      "id": "38b2f14d"
    },
    {
      "cell_type": "code",
      "metadata": {},
      "source": [
        "cv_w2vec_transfert = fit_w2v_avg(glove_model)"
      ],
      "id": "05f181b4",
      "execution_count": null,
      "outputs": []
    },
    {
      "cell_type": "markdown",
      "metadata": {},
      "source": [
        "La performance remonte substantiellement.\n",
        "Cela étant, on ne parvient pas à faire mieux que les approches basiques,\n",
        "on arrive à peine aux performances de la vectorisation par comptage.\n",
        "\n",
        "En effet, pour rappel, les performances sont les suivantes:\n"
      ],
      "id": "5ba9f4d8"
    },
    {
      "cell_type": "code",
      "metadata": {},
      "source": [
        "perfs = pd.DataFrame(\n",
        "    [np.mean(cv_bow.cv_results_['mean_test_score']),\n",
        "     np.mean(cv_tfidf.cv_results_['mean_test_score']),\n",
        "    np.mean(cv_w2vec),\n",
        "    np.mean(cv_w2vec_transfert)],\n",
        "    index = ['Bag-of-Words','TF-IDF', 'Word2Vec non pré-entraîné', 'Word2Vec pré-entraîné'],\n",
        "    columns = [\"Mean F1 score\"]\n",
        ").sort_values(\"Mean F1 score\",ascending = False)\n",
        "perfs"
      ],
      "id": "9ce148a7",
      "execution_count": null,
      "outputs": []
    },
    {
      "cell_type": "markdown",
      "metadata": {},
      "source": [
        "Les performences limitées du modèle *Word2Vec* sont cette fois certainement dues à la manière dont\n",
        "les *word-embeddings* sont exploités : ils sont moyennés pour décrire chaque document. \n",
        "\n",
        "Cela a plusieurs limites : \n",
        "\n",
        "- on ne tient pas compte de l'ordre et donc du contexte des mots\n",
        "- lorsque les documents sont longs, la moyennisation peut créer\n",
        "des représentation bruitées.\n",
        "\n",
        "# Contextual embeddings\n",
        "\n",
        "Les *embeddings* contextuels visent à pallier les limites des *embeddings*\n",
        "traditionnels évoquées précédemment.\n",
        "\n",
        "Cette fois, les mots n'ont plus de représentation vectorielle fixe,\n",
        "celle-ci est calculée dynamiquement en fonction des mots du voisinage, et ainsi de suite.\n",
        "Cela permet de tenir compte de la structure des phrases\n",
        "et de tenir compte du fait que le sens d'un mot est fortement dépendant des mots\n",
        "qui l'entourent. \n",
        "Par exemple, dans les expressions \"le président Macron\" et \"le camembert Président\" le mot président n'a pas du tout le même rôle.\n",
        "\n",
        "Ces *embeddings* sont produits par des architectures très complexes,\n",
        "de type Transformer (`BERT`, etc.).\n"
      ],
      "id": "44abd459"
    },
    {
      "cell_type": "code",
      "metadata": {},
      "source": [
        "#| output: hide\n",
        "model = SentenceTransformer('all-mpnet-base-v2')"
      ],
      "id": "aba0be46",
      "execution_count": null,
      "outputs": []
    },
    {
      "cell_type": "code",
      "metadata": {},
      "source": [
        "X_train_vectors = model.encode(X_train)"
      ],
      "id": "e5a799dd",
      "execution_count": null,
      "outputs": []
    },
    {
      "cell_type": "code",
      "metadata": {},
      "source": [
        "scores = cross_val_score(clf, X_train_vectors, y_train, \n",
        "                         cv=4, scoring='f1_micro', n_jobs=4)\n",
        "\n",
        "print(f\"CV scores {scores}\")\n",
        "print(f\"Mean F1 {np.mean(scores)}\")"
      ],
      "id": "69268880",
      "execution_count": null,
      "outputs": []
    },
    {
      "cell_type": "code",
      "metadata": {},
      "source": [
        "perfs = pd.concat(\n",
        "  [perfs,\n",
        "  pd.DataFrame(\n",
        "    [np.mean(scores)],\n",
        "    index = ['Contextual Embedding'],\n",
        "    columns = [\"Mean F1 score\"])]\n",
        ").sort_values(\"Mean F1 score\",ascending = False)\n",
        "perfs"
      ],
      "id": "21253988",
      "execution_count": null,
      "outputs": []
    },
    {
      "cell_type": "markdown",
      "metadata": {},
      "source": [
        "Verdict : on fait très légèrement mieux que la vectorisation TF-IDF.\n",
        "On voit donc l'importance de tenir compte du contexte.\n",
        "\n",
        "__Mais pourquoi, avec une méthode très compliquée, ne parvenons-nous pas à battre une méthode toute simple ?__\n",
        "\n",
        "On peut avancer plusieurs raisons : \n",
        "\n",
        "- le `TF-IDF` est un modèle simple, mais toujours très performant\n",
        "(on parle de _\"tough-to-beat baseline\"_).\n",
        "- la classification d'auteurs est une tâche très particulière et très ardue,\n",
        "qui ne fait pas justice aux *embeddings*. Comme on l'a dit précédemment, ces derniers se révèlent particulièrement pertinents lorsqu'il est question de similarité sémantique entre des textes (_clustering_, etc.).\n",
        "\n",
        "Dans le cas de notre tâche de classification, il est probable que\n",
        "certains mots (noms de personnage, noms de lieux) soient suffisants pour classifier de manière pertinente,\n",
        "ce que ne permettent pas de capter les *embeddings* qui accordent à tous les mots la même importance.\n",
        "\n",
        "## Aller plus loin\n",
        "\n",
        "- Nous avons entraîné différents modèles sur l'échantillon d'entraînement par validation croisée, mais nous n'avons toujours pas utilisé l'échantillon test que nous avons mis de côté au début. Réaliser la prédiction sur les données de test, et vérifier si l'on obtient le même classement des méthodes de vectorisation.\n",
        "- Faire un *vrai* split train/test : faire l'entraînement avec des textes de certains auteurs, et faire la prédiction avec des textes d'auteurs différents. Cela permettrait de neutraliser la présence de noms de lieux, de personnages, etc.\n",
        "- Comparer avec d'autres algorithmes de classification qu'un SVM\n",
        "- (Avancé) : fine-tuner le modèle d'embeddings contextuels sur la tâche de classification"
      ],
      "id": "5b593e47"
    }
  ],
  "metadata": {
    "kernelspec": {
      "name": "python3",
      "language": "python",
      "display_name": "Python 3 (ipykernel)"
    }
  },
  "nbformat": 4,
  "nbformat_minor": 5
}