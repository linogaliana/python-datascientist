{
  "cells": [
    {
      "cell_type": "markdown",
      "metadata": {},
      "source": [
        "# Approfondissement ElasticSearch pour des recherches de proximité\n",
        "\n",
        "géographique\n",
        "\n",
        "Pour essayer les exemples présents dans ce tutoriel :\n",
        "\n",
        "<a href=\"https://github.com/linogaliana/python-datascientist/blob/master/notebooks/course/modern-ds/elastic_approfondissement.ipynb\" class=\"github\"><i class=\"fab fa-github\"></i></a>\n",
        "[![Download](https://img.shields.io/badge/Download-Notebook-important?logo=Jupyter.png)](https://downgit.github.io/#/home?url=https://github.com/linogaliana/python-datascientist/blob/master/notebooks/course/modern-ds/elastic_approfondissement.ipynb)\n",
        "[![nbviewer](https://img.shields.io/badge/Visualize-nbviewer-blue?logo=Jupyter.png)](https://nbviewer.jupyter.org/github/linogaliana/python-datascientist/blob/master/notebooks/course/modern-ds/elastic_approfondissement.ipynb)\n",
        "[![Onyxia](https://img.shields.io/badge/SSPcloud-Tester%20via%20SSP--cloud-informational&color=yellow?logo=Python.png)](https://datalab.sspcloud.fr/launcher/inseefrlab-helm-charts-datascience/jupyter?autoLaunch=true&onyxia.friendlyName=%C2%ABpython-datascience%C2%BB&init.personalInit=%C2%ABhttps%3A%2F%2Fraw.githubusercontent.com%2Flinogaliana%2Fpython-datascientist%2Fmaster%2Fsspcloud%2Finit-jupyter.sh%C2%BB&init.personalInitArgs=%C2%ABnotebooks/course/modern-ds%20elastic_approfondissement.ipynb%C2%BB&security.allowlist.enabled=false)<br>\n",
        "[![Binder](https://img.shields.io/badge/Launch-Binder-E66581.svg?logo=data:image/png;base64,iVBORw0KGgoAAAANSUhEUgAAAFkAAABZCAMAAABi1XidAAAB8lBMVEX///9XmsrmZYH1olJXmsr1olJXmsrmZYH1olJXmsr1olJXmsrmZYH1olL1olJXmsr1olJXmsrmZYH1olL1olJXmsrmZYH1olJXmsr1olL1olJXmsrmZYH1olL1olJXmsrmZYH1olL1olL0nFf1olJXmsrmZYH1olJXmsq8dZb1olJXmsrmZYH1olJXmspXmspXmsr1olL1olJXmsrmZYH1olJXmsr1olL1olJXmsrmZYH1olL1olLeaIVXmsrmZYH1olL1olL1olJXmsrmZYH1olLna31Xmsr1olJXmsr1olJXmsrmZYH1olLqoVr1olJXmsr1olJXmsrmZYH1olL1olKkfaPobXvviGabgadXmsqThKuofKHmZ4Dobnr1olJXmsr1olJXmspXmsr1olJXmsrfZ4TuhWn1olL1olJXmsqBi7X1olJXmspZmslbmMhbmsdemsVfl8ZgmsNim8Jpk8F0m7R4m7F5nLB6jbh7jbiDirOEibOGnKaMhq+PnaCVg6qWg6qegKaff6WhnpKofKGtnomxeZy3noG6dZi+n3vCcpPDcpPGn3bLb4/Mb47UbIrVa4rYoGjdaIbeaIXhoWHmZYHobXvpcHjqdHXreHLroVrsfG/uhGnuh2bwj2Hxk17yl1vzmljzm1j0nlX1olL3AJXWAAAAbXRSTlMAEBAQHx8gICAuLjAwMDw9PUBAQEpQUFBXV1hgYGBkcHBwcXl8gICAgoiIkJCQlJicnJ2goKCmqK+wsLC4usDAwMjP0NDQ1NbW3Nzg4ODi5+3v8PDw8/T09PX29vb39/f5+fr7+/z8/Pz9/v7+zczCxgAABC5JREFUeAHN1ul3k0UUBvCb1CTVpmpaitAGSLSpSuKCLWpbTKNJFGlcSMAFF63iUmRccNG6gLbuxkXU66JAUef/9LSpmXnyLr3T5AO/rzl5zj137p136BISy44fKJXuGN/d19PUfYeO67Znqtf2KH33Id1psXoFdW30sPZ1sMvs2D060AHqws4FHeJojLZqnw53cmfvg+XR8mC0OEjuxrXEkX5ydeVJLVIlV0e10PXk5k7dYeHu7Cj1j+49uKg7uLU61tGLw1lq27ugQYlclHC4bgv7VQ+TAyj5Zc/UjsPvs1sd5cWryWObtvWT2EPa4rtnWW3JkpjggEpbOsPr7F7EyNewtpBIslA7p43HCsnwooXTEc3UmPmCNn5lrqTJxy6nRmcavGZVt/3Da2pD5NHvsOHJCrdc1G2r3DITpU7yic7w/7Rxnjc0kt5GC4djiv2Sz3Fb2iEZg41/ddsFDoyuYrIkmFehz0HR2thPgQqMyQYb2OtB0WxsZ3BeG3+wpRb1vzl2UYBog8FfGhttFKjtAclnZYrRo9ryG9uG/FZQU4AEg8ZE9LjGMzTmqKXPLnlWVnIlQQTvxJf8ip7VgjZjyVPrjw1te5otM7RmP7xm+sK2Gv9I8Gi++BRbEkR9EBw8zRUcKxwp73xkaLiqQb+kGduJTNHG72zcW9LoJgqQxpP3/Tj//c3yB0tqzaml05/+orHLksVO+95kX7/7qgJvnjlrfr2Ggsyx0eoy9uPzN5SPd86aXggOsEKW2Prz7du3VID3/tzs/sSRs2w7ovVHKtjrX2pd7ZMlTxAYfBAL9jiDwfLkq55Tm7ifhMlTGPyCAs7RFRhn47JnlcB9RM5T97ASuZXIcVNuUDIndpDbdsfrqsOppeXl5Y+XVKdjFCTh+zGaVuj0d9zy05PPK3QzBamxdwtTCrzyg/2Rvf2EstUjordGwa/kx9mSJLr8mLLtCW8HHGJc2R5hS219IiF6PnTusOqcMl57gm0Z8kanKMAQg0qSyuZfn7zItsbGyO9QlnxY0eCuD1XL2ys/MsrQhltE7Ug0uFOzufJFE2PxBo/YAx8XPPdDwWN0MrDRYIZF0mSMKCNHgaIVFoBbNoLJ7tEQDKxGF0kcLQimojCZopv0OkNOyWCCg9XMVAi7ARJzQdM2QUh0gmBozjc3Skg6dSBRqDGYSUOu66Zg+I2fNZs/M3/f/Grl/XnyF1Gw3VKCez0PN5IUfFLqvgUN4C0qNqYs5YhPL+aVZYDE4IpUk57oSFnJm4FyCqqOE0jhY2SMyLFoo56zyo6becOS5UVDdj7Vih0zp+tcMhwRpBeLyqtIjlJKAIZSbI8SGSF3k0pA3mR5tHuwPFoa7N7reoq2bqCsAk1HqCu5uvI1n6JuRXI+S1Mco54YmYTwcn6Aeic+kssXi8XpXC4V3t7/ADuTNKaQJdScAAAAAElFTkSuQmCC.png)](https://mybinder.org/v2/gh/linogaliana/python-datascientist/master?filepath=notebooks/course/modern-ds/elastic_approfondissement.ipynb)\n",
        "[![Open In Colab](https://colab.research.google.com/assets/colab-badge.svg)](http://colab.research.google.com/github/linogaliana/python-datascientist/blob/master/notebooks/course/modern-ds/elastic_approfondissement.ipynb)\n",
        "[![githubdev](https://img.shields.io/static/v1?logo=visualstudiocode&label=&message=Open%20in%20Visual%20Studio%20Code&labelColor=2c2c32&color=007acc&logoColor=007acc.png)](https://github.dev/linogaliana/python-datascientist/notebooks/course/modern-ds/elastic_approfondissement.ipynb)\n",
        "\n",
        "Ce chapitre est issu du travail produit\n",
        "dans le cadre d’un hackathon de l’Insee avec\n",
        "[Raphaële Adjerad](https://github.com/raphaeleadjerad)\n",
        "et présente quelques éléments qui peuvent être utiles\n",
        "pour l’enrichissement de données d’entreprises\n",
        "à partir d’un répertoire officiel.\n",
        "\n",
        ":warning: Il nécessite une version particulière du package `elasticsearch` pour tenir compte de l’héritage de la version 7 du moteur Elastic. Pour cela, faire\n",
        "\n",
        "``` python\n",
        "pip install elasticsearch==8.2.0\n",
        "```\n",
        "\n",
        "# Introduction\n",
        "\n",
        "## Objectif\n",
        "\n",
        "Ce chapitre vise à approfondir les éléments présentés sur Elastic précédemment. L’idée\n",
        "est de se placer dans un contexte opérationnel où on reçoit des informations\n",
        "sur des entreprises telles que l’adresse et la localisation et qu’on\n",
        "désire associer à des données administratives considérées plus fliables.\n",
        "\n",
        "## Réplication de ce chapitre\n",
        "\n",
        "Comme le précédent, ce chapitre est plus exigeant en termes d’infrastructures que les précédents.\n",
        "Il nécessite un serveur Elastic. Les utilisateurs du\n",
        "[SSP Cloud](datalab.sspcloud.fr/) pourront répliquer les exemples de ce cours\n",
        "car cette technologie est disponible (que ce soit pour indexer une base ou\n",
        "pour requêter une base existante).\n",
        "\n",
        "La première partie de ce tutoriel, qui consiste à créer une base Sirene géolocalisée\n",
        "à partir des données *open-data* ne nécessite pas d’architecture particulière et\n",
        "peut ainsi être exécutée en utilisant les packages suivants:"
      ],
      "id": "ca7c7744-822a-48b3-981e-fc25d1a2a0f9"
    },
    {
      "cell_type": "code",
      "execution_count": 2,
      "metadata": {},
      "outputs": [],
      "source": [
        "import time\n",
        "import numpy as np\n",
        "import pandas as pd"
      ],
      "id": "90c22933-5ad1-42f9-8f24-e536b3de5a37"
    },
    {
      "cell_type": "markdown",
      "metadata": {},
      "source": [
        "## Sources\n",
        "\n",
        "Ce chapitre va utiliser plusieurs sources de diffusion de\n",
        "l’Insee:\n",
        "\n",
        "-   Le stock des établissements présents dans les [données de diffusion Sirene](https://www.insee.fr/fr/information/3591226) ;\n",
        "-   Les [données Sirene géolocalisées](https://www.data.gouv.fr/fr/datasets/geolocalisation-des-etablissements-du-repertoire-sirene-pour-les-etudes-statistiques/)\n",
        "\n",
        "# Constitution du référentiel administratif géolocalisé\n",
        "\n",
        "Dans un premier temps, on va combiner ensemble les différentes sources\n",
        "*open-data* pour créer un référentiel fiable d’entreprises\n",
        "géolocalisées.\n",
        "\n",
        "## Importer la base déjà créée\n",
        "\n",
        "Les données à utiliser pour constuire une base Sirene géolocalisée\n",
        "sont trop volumineuses pour les serveurs mis à disposition\n",
        "gratuitement par `Github` pour la compilation de ce site web.\n",
        "Nous proposons ainsi une version déjà construite, stockée\n",
        "dans l’espace de mise à disposition du SSP Cloud. Ce fichier est\n",
        "au format `parquet` et est ouvert à\n",
        "tous, même pour les personnes ne disposant pas d’un compte.\n",
        "Le code ayant construit cette base est présenté ci-dessous.\n",
        "\n",
        "Pour importer cette base\n",
        "\n",
        "## Reproduire la construction de la base\n",
        "\n",
        "La première base d’entrée à utiliser est disponible sur\n",
        "[data.gouv](https://www.data.gouv.fr/fr/datasets/base-sirene-des-entreprises-et-de-leurs-etablissements-siren-siret/)"
      ],
      "id": "dbd7b7ad-03b4-48a4-9dc3-80ae801db730"
    },
    {
      "cell_type": "code",
      "execution_count": 3,
      "metadata": {},
      "outputs": [],
      "source": [
        "import requests\n",
        "import zipfile\n",
        "\n",
        "url_download = \"https://www.data.gouv.fr/fr/datasets/r/0651fb76-bcf3-4f6a-a38d-bc04fa708576\"\n",
        "req = requests.get(url_download)\n",
        "\n",
        "with open(\"sirene.zip\",'wb') as f:\n",
        "  f.write(req.content)\n",
        "\n",
        "with zipfile.ZipFile(\"sirene.zip\", 'r') as zip_ref:\n",
        "  zip_ref.extractall(\"sirene\")"
      ],
      "id": "8d02b25a-4863-4134-b158-93cb92951909"
    },
    {
      "cell_type": "markdown",
      "metadata": {},
      "source": [
        "On va importer seulement les colonnes utiles et simplifier la structure\n",
        "pour être en mesure de ne garder que les informations qui nous\n",
        "intéressent (nom de l’entreprise, adresse, commune, code postal…)"
      ],
      "id": "16472894-502a-42ed-bd90-5c44382a8993"
    },
    {
      "cell_type": "code",
      "execution_count": 4,
      "metadata": {},
      "outputs": [],
      "source": [
        "import pandas as pd\n",
        "import numpy as np\n",
        "\n",
        "list_cols = [\n",
        "  'siren', 'siret',\n",
        "  'activitePrincipaleRegistreMetiersEtablissement',\n",
        "  'complementAdresseEtablissement',\n",
        "  'numeroVoieEtablissement',\n",
        "  'typeVoieEtablissement',\n",
        "  'libelleVoieEtablissement',\n",
        "  'codePostalEtablissement',\n",
        "  'libelleCommuneEtablissement',\n",
        "  'codeCommuneEtablissement',\n",
        "  'etatAdministratifEtablissement',\n",
        "  'denominationUsuelleEtablissement',\n",
        "  'activitePrincipaleEtablissement'\n",
        "]\n",
        "\n",
        "df = pd.read_csv(\n",
        "  \"sirene/StockEtablissement_utf8.csv\",\n",
        "  usecols = list_cols)\n",
        "\n",
        "df['numero'] = df['numeroVoieEtablissement']\\\n",
        "  .replace('-', np.NaN).str.split().str[0]\\\n",
        "  .str.extract('(\\d+)', expand=False)\\\n",
        "  .fillna(\"0\").astype(int)\n",
        "\n",
        "df['numero'] = df['numero'].astype(str).replace(\"0\",\"\")\n",
        "\n",
        "df['adresse'] = df['numero'] + \" \" + \\\n",
        "  df['typeVoieEtablissement'] + \" \" + \\\n",
        "  df['libelleVoieEtablissement']\n",
        "\n",
        "df['adresse'] = df['adresse'].replace(np.nan, \"\")\n",
        "\n",
        "df = df.loc[df['etatAdministratifEtablissement'] == \"A\"]\n",
        "\n",
        "df.rename(\n",
        "  {\"denominationUsuelleEtablissement\": \"denom\",\n",
        "  \"libelleCommuneEtablissement\": \"commune\",\n",
        "  \"codeCommuneEtablissement\" : \"code_commune\",\n",
        "  \"codePostalEtablissement\": \"code_postal\"},\n",
        "  axis = \"columns\", inplace = True)\n",
        "\n",
        "df['ape'] = df['activitePrincipaleEtablissement'].str.replace(\"\\.\", \"\", regex = True)\n",
        "df['denom'] = df[\"denom\"].replace(np.nan, \"\")\n",
        "\n",
        "df_siret = df.loc[:, ['siren', 'siret','adresse', 'ape', 'denom', 'commune', 'code_commune','code_postal']]\n",
        "df_siret['code_postal'] = df_siret['code_postal'].replace(np.nan, \"0\").astype(int).astype(str).replace(\"0\",\"\")"
      ],
      "id": "7d01b40d-0e42-4f1e-a898-5cdb70a874d4"
    },
    {
      "cell_type": "markdown",
      "metadata": {},
      "source": [
        "On importe ensuite les données géolocalisées"
      ],
      "id": "98f4324e-4a68-4a75-8796-0c558ade9adb"
    },
    {
      "cell_type": "code",
      "execution_count": 5,
      "metadata": {},
      "outputs": [],
      "source": [
        "import zipfile\n",
        "import shutil\n",
        "import os\n",
        "\n",
        "#os.remove(\"sirene.zip\")\n",
        "#shutil.rmtree('sirene/')\n",
        "\n",
        "url_geoloc = \"https://files.data.gouv.fr/insee-sirene-geo/GeolocalisationEtablissement_Sirene_pour_etudes_statistiques_utf8.zip\"\n",
        "r = requests.get(url_geoloc)  \n",
        "\n",
        "with open('geoloc.zip', 'wb') as f:\n",
        "    f.write(r.content)\n",
        "\n",
        "with zipfile.ZipFile(\"geoloc.zip\", 'r') as zip_ref:\n",
        "  zip_ref.extractall(\"geoloc\")\n",
        "\n",
        "df_geoloc = pd.read_csv(\n",
        "  \"geoloc/GeolocalisationEtablissement_Sirene_pour_etudes_statistiques_utf8.csv\",\n",
        "  usecols = [\"siret\", \"epsg\", \"x_longitude\", \"y_latitude\"] , sep = \";\")"
      ],
      "id": "9495f922-5233-413b-b3cf-9b60542bb912"
    },
    {
      "cell_type": "markdown",
      "metadata": {},
      "source": [
        "Il ne reste plus qu’à associer les deux jeux de données"
      ],
      "id": "fe1324f7-b973-4e60-a49f-3cb6ce94fed2"
    },
    {
      "cell_type": "code",
      "execution_count": 6,
      "metadata": {},
      "outputs": [],
      "source": [
        "df_geolocalized = df_siret.merge(df_geoloc, on = \"siret\") \n",
        "df_geolocalized['code_commune'] = df_geolocalized['code_commune'].astype(str) "
      ],
      "id": "ba302afa-55cc-48a0-bc1b-198bc6e34dc8"
    },
    {
      "cell_type": "markdown",
      "metadata": {},
      "source": [
        "Si vous avez accès à un espace de stockage cloud de type\n",
        "`S3`, il est possible d’utiliser `pyarrow` pour enregister\n",
        "cette base. Afin de l’enregistrer dans un espace de stockage\n",
        "public, nous allons l’enregistrer dans un dossier `diffusion`[1]\n",
        "\n",
        "[1] Le SSP-Cloud, dont la technologie de stockage repose sur\n",
        "MinIO permet de partager des fichiers dans des espaces publics\n",
        "ou privés. Par construction, les fichiers enregistrés dans un dossier\n",
        "nommé `diffusion` seront publics."
      ],
      "id": "1d6d157f-2b13-4ef7-9c2f-26adbc617be7"
    },
    {
      "cell_type": "code",
      "execution_count": 7,
      "metadata": {},
      "outputs": [],
      "source": [
        "from pyarrow import fs\n",
        "import pyarrow as pa\n",
        "import pyarrow.parquet as pq\n",
        "\n",
        "bucket = \"lgaliana\"\n",
        "path = \"diffusion/sirene_geolocalized.parquet\"\n",
        "\n",
        "s3 = fs.S3FileSystem(endpoint_override=\"http://\"+\"minio.lab.sspcloud.fr\")\n",
        "\n",
        "table = pa.Table.from_pandas(df_geolocalized)"
      ],
      "id": "53b6ef1a-068c-49df-9cdf-abe4d73a53bf"
    }
  ],
  "nbformat": 4,
  "nbformat_minor": 5,
  "metadata": {
    "kernelspec": {
      "name": "python3",
      "display_name": "Python 3 (ipykernel)",
      "language": "python"
    },
    "language_info": {
      "name": "python",
      "codemirror_mode": {
        "name": "ipython",
        "version": "3"
      },
      "file_extension": ".py",
      "mimetype": "text/x-python",
      "nbconvert_exporter": "python",
      "pygments_lexer": "ipython3",
      "version": "3.9.13"
    }
  }
}