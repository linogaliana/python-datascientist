{
  "cells": [
    {
      "cell_type": "raw",
      "metadata": {},
      "source": [
        "---\n",
        "title: \"Introduction à ElasticSearch pour la recherche textuelle\"\n",
        "date: 2020-09-03T13:00:00Z\n",
        "draft: false\n",
        "weight: 30\n",
        "tags:\n",
        "  - elastic\n",
        "  - levenshtein\n",
        "  - openfood\n",
        "categories:\n",
        "  - Tutoriel\n",
        "slug: elastic\n",
        "type: book\n",
        "summary: |\n",
        "  `ElasticSearch` est un moteur de recherche extrêmement rapide et flexible. \n",
        "  Cette technologie s'est imposée dans le domaine du traitement des \n",
        "  données textuelles. L'API `Python` permet d'intégrer cette \n",
        "  technologie dans des processus `Python` afin de les accélérer. Ce chapitre\n",
        "  présente cette intégration d' `Elastic` avec l'exemple de la recherche\n",
        "  dans les données alimentaires de l' `OpenFoodFacts` Database \n",
        "bibliography: ../../../../reference.bib\n",
        "---"
      ],
      "id": "c2e6bc17"
    },
    {
      "cell_type": "markdown",
      "metadata": {},
      "source": [
        "Pour essayer les exemples présents dans ce tutoriel : \n",
        "\n",
        "::: {.cell .markdown}"
      ],
      "id": "2626eeca"
    },
    {
      "cell_type": "code",
      "metadata": {},
      "source": [
        "#| echo: false\n",
        "#| output: 'asis'\n",
        "#| include: true\n",
        "#| eval: true\n",
        "\n",
        "import sys\n",
        "sys.path.insert(1, '../../../../') #insert the utils module\n",
        "from utils import print_badges\n",
        "\n",
        "#print_badges(__file__)\n",
        "print_badges(\"content/course/modern-ds/elastic_intro.qmd\")"
      ],
      "id": "df55d3a9",
      "execution_count": null,
      "outputs": []
    },
    {
      "cell_type": "markdown",
      "metadata": {},
      "source": [
        ":::\n",
        "\n",
        "Ce chapitre a été écrit avec [Milena Suarez-Castillo](https://milenasuarezcastillo.netlify.app/) \n",
        "et présente quelques éléments qui servent de base à un travail en cours\n",
        "sur les inégalités socioéconomiques dans les\n",
        "choix de consommation alimentaire.\n",
        "\n",
        "# Introduction\n",
        "\n",
        "## Réplication de ce chapitre\n",
        "\n",
        "Ce chapitre est plus exigeant en termes d'infrastructures que les précédents.\n",
        "Si la première partie de ce chapitre peut être menée avec une \n",
        "installation standard de `Python`, ce n'est pas le cas de la\n",
        "deuxième qui nécessite un serveur `ElasticSearch`. Les utilisateurs du\n",
        "[SSP Cloud](datalab.sspcloud.fr/) pourront répliquer les exemples de ce cours\n",
        "car cette technologie est disponible (que ce soit pour indexer une base ou\n",
        "pour requêter une base existante).\n",
        "\n",
        ":warning: Ce\n",
        "chapitre nécessite une version particulière du\n",
        "package `ElasticSearch` pour tenir compte de l'héritage de la version 7 du moteur `Elastic`.\n",
        "Pour cela, faire\n"
      ],
      "id": "d6e54d7a"
    },
    {
      "cell_type": "code",
      "metadata": {},
      "source": [
        "#| eval: false\n",
        "!pip install elasticsearch==8.2.0\n",
        "!pip install unidecode\n",
        "!pip install rapidfuzz\n",
        "!pip install xlrd"
      ],
      "id": "7e92b28b",
      "execution_count": null,
      "outputs": []
    },
    {
      "cell_type": "markdown",
      "metadata": {},
      "source": [
        "La première partie de ce tutoriel ne nécessite pas d'architecture particulière et\n",
        "peut ainsi être exécutée en utilisant les packages suivants: \n"
      ],
      "id": "30823eae"
    },
    {
      "cell_type": "code",
      "metadata": {},
      "source": [
        "import time\n",
        "import pandas as pd"
      ],
      "id": "032779cf",
      "execution_count": null,
      "outputs": []
    },
    {
      "cell_type": "markdown",
      "metadata": {},
      "source": [
        "Le script `functions.py`, disponible sur `Github`,\n",
        "regroupe un certain nombre de fonctions utiles permettant\n",
        "d'automatiser certaines tâches de nettoyage classiques\n",
        "en NLP. \n",
        "\n",
        "{{% box status=\"hint\" title=\"Hint\" icon=\"fa fa-lightbulb\" %}}\n",
        "\n",
        "Plusieurs méthodes peuvent être mises en oeuvre pour récupérer\n",
        "le script d'utilitaires. Vous pouvez trouver en dessous\n",
        "de cet encadré une méthode qui va chercher la dernière\n",
        "version sur le dépôt `Github` du cours\n",
        "\n",
        "{{% /box %}}\n"
      ],
      "id": "201f1e2e"
    },
    {
      "cell_type": "code",
      "metadata": {},
      "source": [
        "#| eval: false\n",
        "import requests\n",
        "baseurl = \"https://raw.githubusercontent.com/linogaliana/python-datascientist\"\n",
        "branch = \"master\"\n",
        "path = \"content/course/modern-ds/elastic_intro/functions.py\"\n",
        "\n",
        "url = f\"{baseurl}/{branch}/{path}\"\n",
        "r = requests.get(url, allow_redirects=True)\n",
        "\n",
        "open('functions.py', 'wb').write(r.content)"
      ],
      "id": "d30b4f5c",
      "execution_count": null,
      "outputs": []
    },
    {
      "cell_type": "markdown",
      "metadata": {},
      "source": [
        "Après l'avoir récupéré (cf. encadré dédié),\n",
        "il convient d'importer les fonctions sous forme de module:\n"
      ],
      "id": "667750f4"
    },
    {
      "cell_type": "code",
      "metadata": {},
      "source": [
        "import functions as fc"
      ],
      "id": "65d812ba",
      "execution_count": null,
      "outputs": []
    },
    {
      "cell_type": "markdown",
      "metadata": {},
      "source": [
        "## Cas d'usage\n",
        "\n",
        "Ce _notebook_ recense et propose d'appréhender quelques outils utilisés\n",
        "pour le papier présenté aux\n",
        "[Journées de Méthodologie Statistiques 2022: Galiana and Suarez-Castillo, _\"Fuzzy matching on big-data: an illustration with scanner data and crowd-sourced nutritional data\"_](http://jms-insee.fr/jms2022s28_2/)\n",
        "(travail en cours!)\n",
        "\n",
        "On va partir du cas d'usage suivant:\n",
        "\n",
        "> Combien de calories dans ma recette de cuisine de ce soir? Combien de calories dans mes courses de la semaine?\n",
        "\n",
        "L'objectif est de reconstituer, à partir de libellés de produits, les caractéristiques nutritionnelles d'une recette.\n",
        "Le problème est que les libellés des tickets de caisse ne sont pas des champs textuels très propres, ils contiennent, \n",
        "par exemple, beaucoup d'abbréviations, toutes n'étant pas évidentes. \n",
        "\n",
        "Voici par exemple une série de noms de produits qu'on va utiliser par la suite: \n"
      ],
      "id": "493bc06a"
    },
    {
      "cell_type": "code",
      "metadata": {},
      "source": [
        "ticket = ['CROISSANTS X6 400G',\n",
        "          'MAQUEREAUX MOUTAR.',\n",
        "          'IGP OC SAUVIGNON B',\n",
        "          'LAIT 1/2 ECRM UHT',\n",
        "          '6 OEUFS FRAIS LOCA',\n",
        "          'ANANAS C2',\n",
        "          'L POMME FUDJI X6 CAL 75/80 1KG ENV',\n",
        "          'PLT MIEL',\n",
        "          'STELLA ARTOIS X6',\n",
        "          'COTES DU LUBERON AIGUEBRUN 75C']"
      ],
      "id": "6a63c6c1",
      "execution_count": null,
      "outputs": []
    },
    {
      "cell_type": "markdown",
      "metadata": {},
      "source": [
        "A ces produits, s'ajoutent les ingrédients suivants, issus de la\n",
        "[recette du velouté de potiron et carottes de Marmiton](https://www.marmiton.org/recettes/recette_veloute-de-potiron-et-carottes_19009.aspx)\n",
        "qui sera notre plat principal :\n"
      ],
      "id": "a999a24a"
    },
    {
      "cell_type": "code",
      "metadata": {},
      "source": [
        "ingredients = ['500 g de carottes',\n",
        " '2 pommes de terre',\n",
        " \"1 gousse d'ail\",\n",
        " '1/2 l de lait',\n",
        " '1/2 l de bouillon de volaille',\n",
        " \"1 cuillère à soupe de huile d'olive\",\n",
        " '1 kg de potiron',\n",
        " '1 oignon',\n",
        " '10 cl de crème liquide (facultatif)']"
      ],
      "id": "dc44d9c6",
      "execution_count": null,
      "outputs": []
    },
    {
      "cell_type": "markdown",
      "metadata": {},
      "source": [
        "Essayer de récupérer par webscraping cette liste est un bon exercice pour réviser\n",
        "les concepts [vus précedemment](#webscraping)\n",
        "\n",
        "\n",
        "On va donc créer une liste de course compilant\n",
        "ces deux \n",
        "listes hétérogènes de noms de produits:\n"
      ],
      "id": "9da56c38"
    },
    {
      "cell_type": "code",
      "metadata": {},
      "source": [
        "libelles = ticket + ingredients"
      ],
      "id": "87a7e519",
      "execution_count": null,
      "outputs": []
    },
    {
      "cell_type": "markdown",
      "metadata": {},
      "source": [
        "On part avec cette liste dans notre supermarché virtuel. L'objectif sera de trouver\n",
        "une méthode permettant de passer à l'échelle:\n",
        "automatiser les traitements, effectuer des recherches efficaces, garder une certaine généralité et flexibilité. \n",
        "\n",
        "Ce chapitre montrera par l'exemple l'intérêt d'`Elastic` par rapport à une solution \n",
        "qui n'utiliserait que du `Python`.\n",
        "\n",
        "# Données utilisées\n",
        "\n",
        "\n",
        "## Les bases offrant des informations nutritionnelles \n",
        "\n",
        "Pour un nombre restreint de produits, on pourrait bien-sûr chercher à\n",
        "la main les caractéristiques des produits en utilisant les \n",
        "fonctionalités d'un moteur de recherche:\n",
        "\n",
        "![](fraise.png)\n",
        "\n",
        "Cependant, cette approche serait très fastidieuse et \n",
        "nécessiterait de récuperer, à la main, chaque caractéristique\n",
        "pour chaque produit. Ce n'est donc pas envisageable.\n",
        "\n",
        "Les données disponibles sur `Google` viennent de l'[USDA](https://fdc.nal.usda.gov/),\n",
        "l'équivalent américain de notre Ministère de l'Agriculture. \n",
        "Cependant, pour des recettes comportant des noms de produits français, ainsi que \n",
        "des produits potentiellement transformés, ce n'est pas très pratique d'utiliser\n",
        "une base de données de produits agricoles en Français. Pour cette raison,\n",
        "nous proposons d'utiliser les deux bases suivantes,\n",
        "qui servent de base au travail de\n",
        "[ @galiana2022 ](https://dl.acm.org/doi/10.1145/3524458.3547244)\n",
        "\n",
        "\n",
        "* L'[`OpenFoodFacts` database](https://fr.openfoodfacts.org/) qui est une base  \n",
        "collaborative française de produits alimentaires. Issue d'un projet [Data4Good](https://dataforgood.fr/), il s'agit d'une \n",
        "alternative _opensource_ et _opendata_ à la base de données de l'application [Yuka](https://yuka.io/). \n",
        "* La table de composition nutritionnelle [`Ciqual`](https://ciqual.anses.fr) produite par l'Anses. Celle-ci\n",
        "propose la composition nutritionnelle _moyenne_ des aliments les plus consommés en France. Il s'agit d'une base de données\n",
        "enrichie par rapport à celle de l'USDA puisqu'elle ne se cantonne pas aux produits agricoles non transformés. \n",
        "Avec cette base, il ne s'agit pas de trouver un produit exact mais essayer de trouver un produit type proche du produit\n",
        "dont on désire connaître les caractéristiques. \n",
        "\n",
        "![](openfood.png)\n",
        "\n",
        "## Import \n",
        "\n",
        "Quelques fonctions utiles sont regroupées dans le script `functions.py` et importées dans le _notebook_.\n",
        "\n",
        "La base `OpenFood` peut être récupérée en ligne\n",
        "via la fonction `fc.import_openfood`. Néanmoins, cette opération nécessitant \n",
        "un certain temps (les données brutes faisant autour de 2Go), nous proposons une méthode\n",
        "pour les utilisateurs du `SSP-Cloud` où une version est disponible sur\n",
        "l'espace de stockage. \n",
        "\n",
        "La base `Ciqual`, qui plus légère, est récupérée elle directement en ligne\n",
        "via la fonction `fc.import_ciqual`. \n"
      ],
      "id": "94ae90ff"
    },
    {
      "cell_type": "code",
      "metadata": {},
      "source": [
        "#| eval: false\n",
        "# Pour les utilisateurs du SSP-Cloud\n",
        "openfood = fc.import_openfood_s3()\n",
        "# Pour les utilisateurs hors du SSP-Cloud\n",
        "# openfood = fc.import_openfood()\n",
        "ciqual = fc.import_ciqual()"
      ],
      "id": "411a9227",
      "execution_count": null,
      "outputs": []
    },
    {
      "cell_type": "code",
      "metadata": {},
      "source": [
        "#| echo: false\n",
        "openfood = fc.import_openfood()\n",
        "ciqual = fc.import_ciqual()"
      ],
      "id": "939bc367",
      "execution_count": null,
      "outputs": []
    },
    {
      "cell_type": "code",
      "metadata": {},
      "source": [
        "openfood.head()"
      ],
      "id": "647b33a4",
      "execution_count": null,
      "outputs": []
    },
    {
      "cell_type": "code",
      "metadata": {},
      "source": [
        "ciqual.head()"
      ],
      "id": "440df644",
      "execution_count": null,
      "outputs": []
    },
    {
      "cell_type": "markdown",
      "metadata": {},
      "source": [
        "# ElasticSearch ? Mais ce n'est pas du Python ?!\n",
        "\n",
        "## Qu'est-ce qu'Elastic ? \n",
        "\n",
        "`ElasticSearch` c'est un logiciel qui fournit un moteur de recherche installé sur\n",
        "un serveur (ou une machine personnelle) qu'il est possible de requêter depuis un client\n",
        "(une session `Python` par exemple).\n",
        "C'est un moteur de recherche \n",
        "très performant, puissant et flexible, extrêmement utilisé dans le domaine de la datascience\n",
        "sur données textuelles.\n",
        "\n",
        "Un cas d'usage est par exemple de trouver,\n",
        "dans un corpus de grande dimension\n",
        "(plusieurs sites web, livres...), un certain texte en s'autorisant des termes voisins\n",
        "(verbes conjugués, fautes de frappes...).  \n",
        "\n",
        "Un __index__ est une collection de documents dans lesquels on souhaite chercher, préalablement ingérés dans un moteur de recherche les documents sont les établissements.\n",
        "L'__indexation__ consiste à pré-réaliser les traitements des termes des documents pour gagner en efficacité lors de la phase de recherche.\n",
        "L'indexation est faite une fois pour de nombreuses recherches potentielles, pour lesquelles la rapidité de réponse peut être cruciale.\n",
        "Après avoir indexé une base, on effectuera des __requêtes__ qui sont des recherches \n",
        "d'un document dans la base indexé (équivalent de notre _web_) à partir de \n",
        "termes de recherche normalisés.\n",
        "\n",
        "Le principe est le même que celui d'un moteur de recherche du web comme `Google`. \n",
        "D'un côté, l'ensemble à parcourir est indexé pour être en \n",
        "mesure de parcourir de manière efficace l'ensemble du corpus.\n",
        "De l'autre côté, la phase de recherche permet de retrouver l'élément du corpus le\n",
        "plus cohérent avec la requête de recherche.\n",
        "L'indexation consiste, par exemple,\n",
        "à pré-définir des traitements des termes du corpus pour gagner en efficacité\n",
        "lors de la phase de recherche. En effet, l'indexation est une opération peu fréquente\n",
        "par rapport à la recherche. Pour cette dernière, l'efficacité est cruciale (un site web \n",
        "qui prend plusieurs secondes à interpréter une requête simple ne sera pas utilisé). Mais, pour\n",
        "l'indexation, ceci est moins crucial. \n",
        "\n",
        "Les documents sont constitués de variables, les __champs__ (_'fields'_),\n",
        "dont le type est spécifié (_\"text\"_, _\"keywoard\"_, *\"geo_point\"*, _\"numeric\"_...) à l'indexation.\n",
        "\n",
        "`ElasticSearch` propose une interface graphique nommée `Kibana`.\n",
        "Celle-ci est pratique\n",
        "pour tester des requêtes et pour superviser le serveur Elastic. Cependant,\n",
        "pour le passage à l'échelle, notamment pour mettre en lien une base indexée dans\n",
        "Elastic avec une autre source de données, les API proposées par `ElasticSearch`\n",
        "sont beaucoup plus pratiques. Ces API permettent de connecter une session `Python` (idem pour `R`)\n",
        "à un serveur `Elastic` afin de communiquer avec lui\n",
        "(échanger des flux via une API REST). \n",
        "\n",
        "## `ElasticSearch` et `Python`\n",
        "\n",
        "En `Python`, le package officiel est [`elasticsearch`](https://elasticsearch-py.readthedocs.io/en/v7.12.0/).\n",
        "Ce dernier permet de configurer les paramètres pour interagir avec un serveur, indexer \n",
        "une ou plusieurs bases, envoyer de manière automatisée un ensemble de requêtes\n",
        "au serveur, récupérer les résultats directement dans une session `Python`...\n",
        "\n",
        "# Premières limites de la distance de Levenshtein\n",
        "\n",
        "Pour évaluer la similarité entre deux données textuelles, il est \n",
        "nécessaire de transformer l'information qualitative qu'est le nom\n",
        "du produit en information quantitative qui permettra de rapprocher\n",
        "différents types de produits. \n",
        "Les ordinateurs ont en effet besoin de transformer les informations\n",
        "textuelles en information numérique pour être en mesure\n",
        "de les exploiter. \n",
        "\n",
        "On appelle __distance de Levenshtein__ entre deux chaînes de caractères \n",
        "le coût minimal (en nombre d'opérations)\n",
        "pour transformer la première en la seconde par:\n",
        "\n",
        "* substitution\n",
        "* insertion\n",
        "* suppression\n",
        "\n",
        "La distance de Levenshtein est une mesure très utilisée pour comparer la similarité entre deux\n",
        "chaînes de caractères. Il existe plusieurs packages pour calculer cette dernière. \n",
        "`fuzzywuzzy` est le plus connu mais ce dernier est assez lent (implémentation en pur `Python`).\n",
        "Le package `rapidfuzz`, présenté ici, propose les mêmes fonctionalités mais est plus rapide car implémenté\n",
        "en `C++` qui est plus efficace. \n",
        "Cependant, nous allons le voir, ce package ne nous\n",
        "offrira pas des performances\n",
        "assez bonnes pour que nous puissions\n",
        "passer à l'échelle.\n",
        "\n",
        "Voici trois exemples pour évaluer le coût de chaque \n",
        "opération:\n"
      ],
      "id": "4e7198ff"
    },
    {
      "cell_type": "code",
      "metadata": {},
      "source": [
        "import rapidfuzz\n",
        "\n",
        "[\n",
        "  rapidfuzz.distance.Levenshtein.distance('salut','slut', weights =(1,1,1)), # Suppression \n",
        "  rapidfuzz.distance.Levenshtein.distance('salut','saalut', weights =(1,1,1)), # Addition \n",
        "  rapidfuzz.distance.Levenshtein.distance('salut','selut', weights =(1,1,1)) # Substitution\n",
        "] "
      ],
      "id": "98d5f5a7",
      "execution_count": null,
      "outputs": []
    },
    {
      "cell_type": "markdown",
      "metadata": {},
      "source": [
        "## Premier essai: les produits `Ciqual` les plus similaires aux produits de la recette\n",
        "\n",
        "On pourrait écrire une fonction qui prend en argument\n",
        "une liste de libellés d'intérêt et une liste de candidat au *match* et\n",
        "renvoie le libellé le plus proche.\n",
        "Cependant, le risque est que cet algorithme soit relativement lent s'il n'est pas codé\n",
        "parfaitement.\n",
        "\n",
        "Il est, à mon avis, plus simple, quand\n",
        "on est habitué à la logique `Pandas`,\n",
        "de faire un produit cartésien pour obtenir un vecteur mettant en miroir\n",
        "chaque produit de notre recette avec l'ensembles des produits `Ciqual` et ensuite comparer les deux vecteurs pour prendre,\n",
        "pour chaque produit, le meilleur *match*.\n",
        "\n",
        "Les bases étant de taille limitée, le produit cartésien n'est pas problématique.\n",
        "Avec des bases plus conséquentes, une stratégie plus parcimonieuse en mémoire devrait être envisagée. \n",
        "\n",
        "Pour faire cette opération, on va utiliser la fonction `match_product` de \n",
        "note script d'utilitaires. \n"
      ],
      "id": "c43d1299"
    },
    {
      "cell_type": "code",
      "metadata": {},
      "source": [
        "dist_leven = fc.match_product(libelles, ciqual)\n",
        "dist_leven"
      ],
      "id": "20badc46",
      "execution_count": null,
      "outputs": []
    },
    {
      "cell_type": "markdown",
      "metadata": {},
      "source": [
        "Cette première étape naïve est décevante à plusieurs égards: \n",
        "\n",
        "* Certes, on a des matches cohérent (par exemple \"Oignon rouge, cru\" et \"1 oignon\")\n",
        "mais on a plus de couples incohérents ;\n",
        "* Le temps de calcul peut apparaître faible mais le passage à l'échelle risque d'être compliqué ;\n",
        "* Les besoins mémoires sont potentiellement importants lors de l'appel à \n",
        "`rapidfuzz.process.extract` ce qui peut bloquer le passage à l'échelle ;\n",
        "* La distance textuelle n'est pas nécessairement la plus pertinente. \n",
        "\n",
        "On a, en fait, négligé une étape importante: la normalisation (ou nettoyage des textes) présentée dans la \n",
        "partie [NLP](#nlp), notamment: \n",
        "\n",
        "* harmonisation de la casse, suppression des accents...\n",
        "* suppressions des mots outils (e.g. ici on va d'abord négliger les quantités pour trouver la nature de l'aliment, en particulier pour `Ciqual`)\n",
        "\n",
        "\n",
        "::: {layout-nrow=2}\n",
        "![Scanner-data avant nettoyage](wordcloud_relevanc_start.png)\n",
        "\n",
        "![OpenFood data avant nettoyage](wordcloud_openfood_start.png)\n",
        "\n",
        "![Scanner-data après nettoyage](wordcloud_relevanc_clean.png)\n",
        "\n",
        "![OpenFood data après nettoyage](wordcloud_openfood_clean.png)\n",
        ":::\n",
        "\n",
        "Faisons donc en apparence un retour en arrière qui sera\n",
        "néanmoins salvateur pour améliorer\n",
        "la pertinence des liens faits entre nos \n",
        "bases de données.\n",
        "\n",
        "# Preprocessing pour améliorer la pertinence des matches\n",
        "\n",
        "## Objectif\n",
        "\n",
        "Le _preprocessing_ correspond à l'ensemble des opérations\n",
        "ayant lieu avant l'analyse à proprement parler. \n",
        "Ici, ce _preprocessing_ est intéressant à plusieurs\n",
        "égards:\n",
        "\n",
        "- Il réduit le bruit dans nos jeux de données (par exemple des mots de liaisons) ;\n",
        "- Il permet de normaliser et harmoniser les syntaxes dans nos différentes sources.\n",
        "\n",
        "L'objectif est ainsi de réduire nos noms de produits à la substantifique moelle\n",
        "pour améliorer la pertinence de la recherche. \n",
        "\n",
        "Pour être pertinent, le _preprocessing_ comporte généralement deux types de\n",
        "traitements. En premier lieu, ceux qui sont généraux et applicables\n",
        "à tous types de corpus textuels: retrait des _stopwords_, de la ponctuation, etc.\n",
        "les méthodes disponibles dans la partie [NLP](#NLP).\n",
        "Ensuite, il est nécessaire de mettre en oeuvre des nettoyages plus spécifiques à chaque corpus. \n",
        "Par exemple dans la source `Ciqual`,\n",
        "la cuisson est souvent renseignée et bruite les appariemments.\n",
        "\n",
        "## Démarche\n",
        "\n",
        "{{% box status=\"exercise\" title=\"Exercice 1\" icon=\"fas fa-pencil-alt\" %}}\n",
        "\n",
        "**Exercice 1: preprocessing**\n",
        "\n",
        "1. Pour transformer les lettres avec accents en leur équivalent\n",
        "sans accent, la fonction `unidecode` \n",
        "(du package du même nom) est pratique. \n",
        "La tester sur le jeu de données `ciqual` en créant une nouvelle\n",
        "colonne nommée `libel_clean`\n",
        "\n",
        "2. La casse différente selon les jeux de données peut être pénalisante\n",
        "pour trouver des produits similaires. Pour éviter ces problèmes,\n",
        "mettre tout en majuscule. \n",
        "\n",
        "3. Les informations sur les quantités ou le _packaging_ peuvent apporter\n",
        "du bruit dans notre comparaison. Nous allons retirer ces mots,\n",
        "à travers la liste `['KG','CL','G','L','CRUE?S?', 'PREEMBALLEE?S?']`,\n",
        "qu'on peut considérer comme un dictionnaire de _stop-words_ métier.\n",
        "Pour cela, il convient d'utiliser une expression régulière dans la méthode\n",
        "`str.replace` de `Pandas`.\n",
        "Avec ceux-ci, on va utiliser la liste des _stop-words_ de \n",
        "la librairie `nltk` pour retirer les _stop-words_ classiques (_\"le\",\"la\", etc.).\n",
        "La librairie `SpaCy`, plus riche, pourrait être utilisée ; nous laissons\n",
        "cela sous la forme d'exercice supplémentaire. \n",
        "\n",
        "4. On a encore des signes de ponctuation ou des chiffres qui peuvent\n",
        "poluer la comparaison. Les retirer grâce à la méthode `replace` et\n",
        "une regex `[^a-zA-Z]`\n",
        "\n",
        "5. Enfin, par sécurité, on peut supprimer les espaces multiples. \n",
        "Utiliser la regex `'([ ]{2,})'` pour cela. Observer le résultat\n",
        "final. \n",
        "\n",
        "6. __(Optionnel)__. Comme exercice supplémentaire, faire la même chose avec les\n",
        "_pipelines_ `SpaCy`. \n",
        "\n",
        "{{% /box %}}\n",
        "\n",
        "\n",
        "A l'issue de la question 1, le jeu de données `ciqual` devrait\n",
        "ressembler à celui-ci:\n"
      ],
      "id": "785a9d55"
    },
    {
      "cell_type": "code",
      "metadata": {},
      "source": [
        "#| echo: false\n",
        "from unidecode import unidecode\n",
        "ciqual['libel_clean'] = ciqual['alim_nom_fr'].apply(lambda s: unidecode(s))\n",
        "ciqual.head(2)"
      ],
      "id": "b9c0a60e",
      "execution_count": null,
      "outputs": []
    },
    {
      "cell_type": "markdown",
      "metadata": {},
      "source": [
        "Après avoir mis en majuscule, on se retrouve avec le jeu de données\n",
        "suivant:\n"
      ],
      "id": "1ce6e6b0"
    },
    {
      "cell_type": "code",
      "metadata": {},
      "source": [
        "#| echo: false\n",
        "ciqual['libel_clean'] = ciqual['libel_clean'].str.upper()\n",
        "ciqual.head(2)"
      ],
      "id": "f5d8706f",
      "execution_count": null,
      "outputs": []
    },
    {
      "cell_type": "markdown",
      "metadata": {},
      "source": [
        "Après retrait des _stop-words_, nos libellés prennent\n",
        "la forme suivante:\n"
      ],
      "id": "44727928"
    },
    {
      "cell_type": "code",
      "metadata": {},
      "source": [
        "#| echo: false\n",
        "import nltk\n",
        "from nltk.corpus import stopwords\n",
        "nltk.download('stopwords')\n",
        "\n",
        "stop_words = ['KG','CL','G','L','CRUE?S?', 'PREEMBALLEE?S?']\n",
        "stop_words += [l.upper() for l in stopwords.words('french')]\n",
        "\n",
        "ciqual['libel_clean'] = ciqual['libel_clean'].str.replace(\n",
        "            '|'.join([r'\\b{}\\b'.format(w) for w in stop_words]),\n",
        "            \"\", regex = True\n",
        "        )\n",
        "\n",
        "ciqual.head(2)"
      ],
      "id": "e6b04c7a",
      "execution_count": null,
      "outputs": []
    },
    {
      "cell_type": "markdown",
      "metadata": {},
      "source": [
        "La regex pour éliminer les caractères de ponctuation permet ainsi d'obtenir:\n"
      ],
      "id": "9c9c635a"
    },
    {
      "cell_type": "code",
      "metadata": {},
      "source": [
        "#| echo: false\n",
        "ciqual[\"libel_clean\"] = ciqual[\"libel_clean\"].str.replace(r'[^a-zA-Z]', ' ', regex=True)\n",
        "ciqual.head(2)"
      ],
      "id": "f2fc9867",
      "execution_count": null,
      "outputs": []
    },
    {
      "cell_type": "markdown",
      "metadata": {},
      "source": [
        "Enfin, à l'issue de la question 5, le `DataFrame` obtenu est le suivant:\n"
      ],
      "id": "a685ed90"
    },
    {
      "cell_type": "code",
      "metadata": {},
      "source": [
        "#| echo: false\n",
        "ciqual[\"libel_clean\"] = ciqual[\"libel_clean\"].str.replace(r'([ ]{2,})', ' ', regex=True)\n",
        "ciqual.head(2)"
      ],
      "id": "96b5aa7e",
      "execution_count": null,
      "outputs": []
    },
    {
      "cell_type": "markdown",
      "metadata": {},
      "source": [
        "Ces étapes de nettoyage ont ainsi permis de concentrer l'information\n",
        "dans les noms de produits sur ce qui l'identifie vraiment. \n",
        "\n",
        "## Approche systématique\n",
        "\n",
        "Pour systématiser cette approche à nos différents `DataFrame`, rien de mieux\n",
        "qu'une fonction. Celle-ci est présente dans le module `functions` \n",
        "sous le nom `clean_libelle`. \n"
      ],
      "id": "026aaf64"
    },
    {
      "cell_type": "code",
      "metadata": {},
      "source": [
        "from functions import clean_libelle"
      ],
      "id": "f4a4766c",
      "execution_count": null,
      "outputs": []
    },
    {
      "cell_type": "markdown",
      "metadata": {},
      "source": [
        "Pour résumer l'exercice précédent, cette fonction va : \n",
        "\n",
        "* Harmoniser la casse et retirer les accents (voir `functions.py`) ;\n",
        "* Retirer tout les caractères qui ne sont pas des lettres (chiffres, ponctuations) ;\n",
        "* Retirer les caractères isolés.\n"
      ],
      "id": "9d9aa1f0"
    },
    {
      "cell_type": "code",
      "metadata": {},
      "source": [
        "import nltk\n",
        "from nltk.corpus import stopwords\n",
        "nltk.download('stopwords')\n",
        "\n",
        "stop_words = ['KG','CL','G','L','CRUE?S?', 'PREEMBALLEE?S?']\n",
        "stop_words += [l.upper() for l in stopwords.words('french')]\n",
        "\n",
        "replace_regex = {r'[^A-Z]': ' ', r'\\b[A-Z0-9]{1,2}?\\b':' '} # "
      ],
      "id": "cca666c9",
      "execution_count": null,
      "outputs": []
    },
    {
      "cell_type": "markdown",
      "metadata": {},
      "source": [
        "Cela permet d'obtenir les bases nettoyées suivantes:\n"
      ],
      "id": "5af7cd2b"
    },
    {
      "cell_type": "code",
      "metadata": {},
      "source": [
        "ciqual = clean_libelle(ciqual, yvar = 'alim_nom_fr', replace_regex = replace_regex, stopWords = stop_words)\n",
        "ciqual.sample(10)"
      ],
      "id": "18ab76ad",
      "execution_count": null,
      "outputs": []
    },
    {
      "cell_type": "code",
      "metadata": {},
      "source": [
        "openfood = clean_libelle(openfood, yvar = 'product_name', replace_regex = replace_regex, stopWords = stop_words)\n",
        "openfood.sample(10)"
      ],
      "id": "436f1884",
      "execution_count": null,
      "outputs": []
    },
    {
      "cell_type": "code",
      "metadata": {},
      "source": [
        "courses = pd.DataFrame(libelles, columns = ['libel'])\n",
        "courses = clean_libelle(courses, yvar = 'libel', replace_regex = replace_regex, stopWords = stop_words)\n",
        "courses.sample(10)"
      ],
      "id": "fdc4823c",
      "execution_count": null,
      "outputs": []
    },
    {
      "cell_type": "markdown",
      "metadata": {},
      "source": [
        "Les noms de produits sont déjà plus harmonisés.\n",
        "Voyons voir si cela permet de trouver un\n",
        "*match* dans l'Openfood database: \n"
      ],
      "id": "fa3340da"
    },
    {
      "cell_type": "code",
      "metadata": {},
      "source": [
        "dist_leven_openfood = fc.match_product(courses[\"libel_clean\"], openfood, \"libel_clean\")\n",
        "dist_leven_openfood.sample(10)"
      ],
      "id": "bd53a95b",
      "execution_count": null,
      "outputs": []
    },
    {
      "cell_type": "markdown",
      "metadata": {},
      "source": [
        "Pas encore parfait, mais on progresse sur les produits appariés! \n",
        "Concernant le temps de calcul, les quelques secondes nécessaires à\n",
        "ce calcul peuvent apparaître un faible prix à payer. Cependant,\n",
        "il convient de rappeler que le nombre de produits dans l'ensemble\n",
        "de recherche est faible. Cette solution n'est donc pas généralisable.\n",
        "\n",
        "\n",
        "\n",
        "## Réduire les temps de recherche\n",
        "\n",
        "Finalement, l'idéal serait de disposer d'un **moteur de recherche** adapté à notre besoin,\n",
        "contenant les produits candidats, que l'on pourrait interroger, rapide en lecture, capable de classer les échos renvoyés par pertinence, que l'on pourrait requêter de manière flexible. \n",
        "\n",
        "Par exemple, on pourrait vouloir signaler qu'un\n",
        "écho nous intéresse seulement si la donnée calorique n'est pas manquante.\n",
        "On pourrait même vouloir qu'il effectue pour nous des prétraitements sur les données. \n",
        "\n",
        "Cela paraît beaucoup demander. Mais c'est exactement ce que fait `ElasticSearch`.\n",
        "\n",
        "# Indexer une base \n",
        "\n",
        "A partir de maintenant, commence, à proprement parler, la démonstration `Elastic`.\n",
        "Cette \n",
        "partie développe les éléments les plus techniques, à savoir l'indexation d'une base. \n",
        "Tous les utilisateurs d'`Elastic` n'ont pas nécessairement à passer par là, ils peuvent \n",
        "trouver une base déjà indexée, idéalement par un *data engineer* qui aura optimisé\n",
        "les traitements. \n",
        "\n",
        "Les utilisateurs du [SSP Cloud](https://datalab.sspcloud.fr/accueil), architecture qui\n",
        "repose sur la technologie [Kubernetes](https://kubernetes.io/) peuvent \n",
        "répliquer les éléments de la suite du document. \n",
        "\n",
        "\n",
        "## Créer un cluster `Elastic` sur le DataLab\n",
        "\n",
        "Pour lancer un service `Elastic`, il faut cliquer sur [ce lien](https://datalab.sspcloud.fr/launcher/databases/elastic?autoLaunch=false&security.allowlist.enabled=false). \n",
        "\n",
        "Une fois créé, vous pouvez explorer l'interface graphique `Kibana`.\n",
        "Cependant, grâce à l'API `Elastic`\n",
        "de `Python`, on se passera de celle-ci. Donc, en pratique,\n",
        "une fois lancé, pas besoin d'ouvrir ce service `Elastic` pour continuer à suivre[^1].\n",
        "\n",
        "[^1]: Le lancement du service a créé dans votre `NAMESPACE Kubernetes` (l'ensemble de tout vos services) un cluster `Elastic`.\n",
        "Vous n'avez droit qu'à un cluster par _namespace_ (ou compte d'utilisateur).\n",
        "Votre service `Jupyter`, `VSCode`, `RStudio`, etc. est associé au même _namespace_.\n",
        "De même qu'il n'est pas nécessaire de comprendre comment fonctionne le moteur d'une voiture pour conduire, \n",
        "il n'est pas nécessaire de comprendre la manière dont tout ce beau monde dialogue pour pouvoir utiliser le `SSP Cloud`. \n",
        "\n",
        "Dans un terminal, vous pouvez aussi vérifier que vous êtes en mesure de dialoguer avec votre cluster `Elastic`,\n",
        "qui est prêt à vous écouter:\n",
        "\n",
        "```shell\n",
        "kubectl get statefulset\n",
        "```\n",
        "\n",
        "Passer par la ligne de commande serait peu commode pour industrialiser notre\n",
        "recherche. \n",
        "Nous allons utiliser la librairie `elasticsearch` pour dialoguer avec notre moteur de recherche Elastic.\n",
        "Les instructions ci-dessous indiquent comment établir la connection.\n"
      ],
      "id": "597e39bd"
    },
    {
      "cell_type": "code",
      "metadata": {},
      "source": [
        "#| eval: false\n",
        "from elasticsearch import Elasticsearch\n",
        "HOST = 'elasticsearch-master'\n",
        "\n",
        "def elastic():\n",
        "    \"\"\"Connection avec Elastic sur le data lab\"\"\"\n",
        "    es = Elasticsearch([{'host': HOST, 'port': 9200, 'scheme': 'http'}], http_compress=True, request_timeout=200)\n",
        "    return es\n",
        "\n",
        "es = elastic()"
      ],
      "id": "51b295d5",
      "execution_count": null,
      "outputs": []
    },
    {
      "cell_type": "markdown",
      "metadata": {},
      "source": [
        "```\n",
        "<Elasticsearch([{'host': 'elasticsearch-master', 'port': 9200}])>\n",
        "```\n",
        "\n",
        "\n",
        "Maintenant que la connection est établie, deux étapes nous attendent:\n",
        "\n",
        "1. **Indexation** Envoyer les documents parmi lesquels on veut chercher des echos pertinents dans notre elastic. Un index est une collection de document. Nous pourrions en créer deux: un pour les produits ciqual, un pour les produits openfood\n",
        "2. **Requête** Chercher les documents les plus pertinents suivant une recherche textuelle flexible. Nous allons rechercher les libellés de notre recette et de notre liste de course.\n",
        "\n",
        "## Première indexation\n",
        "\n",
        "On crée donc nos deux index:\n"
      ],
      "id": "3072a424"
    },
    {
      "cell_type": "code",
      "metadata": {},
      "source": [
        "#| eval: false\n",
        "if not es.indices.exists(index = 'openfood'):\n",
        "    es.indices.create(index = 'openfood')\n",
        "if not es.indices.exists(index = 'ciqual'):\n",
        "    es.indices.create(index = 'ciqual')"
      ],
      "id": "c77c55ab",
      "execution_count": null,
      "outputs": []
    },
    {
      "cell_type": "markdown",
      "metadata": {},
      "source": [
        "Pour l'instant, nos index sont vides! Ils contiennent 0 documents.\n"
      ],
      "id": "8a736f5f"
    },
    {
      "cell_type": "code",
      "metadata": {},
      "source": [
        "#| eval: false\n",
        "es.count(index = 'openfood')"
      ],
      "id": "a536f33a",
      "execution_count": null,
      "outputs": []
    },
    {
      "cell_type": "markdown",
      "metadata": {},
      "source": [
        "```\n",
        "{'count': 0, '_shards': {'total': 1, 'successful': 1, 'skipped': 0, 'failed': 0}}\n",
        "```\n",
        "\n",
        "Nous allons en rajouter quelques uns ! \n"
      ],
      "id": "0c4ae128"
    },
    {
      "cell_type": "code",
      "metadata": {},
      "source": [
        "#| eval: false\n",
        "es.create(index = 'openfood',  id = 1, body = {'product_name': 'Tarte noix de coco', 'product_name_clean': 'TARTE NOIX COCO'})\n",
        "es.create(index = 'openfood',  id = 2, body = {'product_name': 'Noix de coco', 'product_name_clean': 'NOIX COCO'})\n",
        "es.create(index = 'openfood',  id = 3, body = {'product_name': 'Beurre doux', 'product_name_clean': 'BEURRE DOUX'})"
      ],
      "id": "3207d603",
      "execution_count": null,
      "outputs": []
    },
    {
      "cell_type": "code",
      "metadata": {},
      "source": [
        "#| eval: false\n",
        "es.count(index = 'openfood')"
      ],
      "id": "f53cd98b",
      "execution_count": null,
      "outputs": []
    },
    {
      "cell_type": "markdown",
      "metadata": {},
      "source": [
        "```\n",
        "{'count': 3, '_shards': {'total': 1, 'successful': 1, 'skipped': 0, 'failed': 0}}\n",
        "```\n",
        "\n",
        "Dans l'interface graphique `Kibana`,\n",
        "on peut vérifier que l'indexation \n",
        "a bien eue lieu en allant dans `Management > Stack Management`\n",
        "\n",
        "![](index_management.png)\n",
        "\n",
        "\n",
        "\n",
        "## Première recherche\n",
        "\n",
        "Faisons notre première recherche: cherchons des noix de pécan! \n"
      ],
      "id": "d1f0ffdf"
    },
    {
      "cell_type": "code",
      "metadata": {},
      "source": [
        "#| eval: false\n",
        "es.search(index = 'openfood', q = 'noix de pécan')"
      ],
      "id": "2cc62f16",
      "execution_count": null,
      "outputs": []
    },
    {
      "cell_type": "markdown",
      "metadata": {},
      "source": [
        "```\n",
        "ObjectApiResponse({'took': 116, 'timed_out': False, '_shards': {'total': 1, 'successful': 1, 'skipped': 0, 'failed': 0}, 'hits': {'total': {'value': 2, 'relation': 'eq'}, 'max_score': 0.9400072, 'hits': [{'_index': 'openfood', '_type': '_doc', '_id': '2', '_score': 0.9400072, '_source': {'product_name': 'Noix de coco', 'product_name_clean': 'NOIX COCO'}}, {'_index': 'openfood', '_type': '_doc', '_id': '1', '_score': 0.8272065, '_source': {'product_name': 'Tarte noix de coco', 'product_name_clean': 'TARTE NOIX COCO'}}]}})\n",
        "```\n",
        "\n",
        "\n",
        "Intéressons nous aux `hits` (résultats pertinents, ou echos) : nous en avons 2. \n",
        "Le score maximal parmi les hits est mentionné dans `max_score` et correspond à celui du deuxième document indexé.\n",
        "\n",
        "`Elastic` nous fournit ici un **score de pertinence** dans notre recherche d'information, et classe ainsi les documents renvoyés.\n",
        "\n",
        "Ici nous utilisons la configuration par défaut. Mais comment est calculé ce score? Demandons à Elastic de nous expliquer le score du document `2` dans la requête `\"noix de pécan\"`.\n"
      ],
      "id": "5ea8ae99"
    },
    {
      "cell_type": "code",
      "metadata": {},
      "source": [
        "#| eval: false\n",
        "es.explain(index = 'openfood', id = 2, q = 'noix de pécan')"
      ],
      "id": "b6c0bc32",
      "execution_count": null,
      "outputs": []
    },
    {
      "cell_type": "markdown",
      "metadata": {},
      "source": [
        "```\n",
        "ObjectApiResponse({'_index': 'openfood', '_type': '_doc', '_id': '2', 'matched': True, 'explanation': {'value': 0.9400072, 'description': 'max of:', 'details': [{'value': 0.49917626, 'description': 'sum of:', 'details': [{'value': 0.49917626, 'description': 'weight(product_name_clean:noix in 1) [PerFieldSimilarity], result of:', 'details': [{'value': 0.49917626, 'description': 'score(freq=1.0), computed as boost * idf * tf from:', 'details': [{'value': 2.2, 'description': 'boost', 'details': []}, {'value': 0.47000363, 'description': 'idf, computed as log(1 + (N - n + 0.5) / (n + 0.5)) from:', 'details': [{'value': 2, 'description': 'n, number of documents containing term', 'details': []}, {'value': 3, 'description': 'N, total number of documents with field', 'details': []}]}, {'value': 0.48275858, 'description': 'tf, computed as freq / (freq + k1 * (1 - b + b * dl / avgdl)) from:', 'details': [{'value': 1.0, 'description': 'freq, occurrences of term within document', 'details': []}, {'value': 1.2, 'description': 'k1, term saturation parameter', 'details': []}, {'value': 0.75, 'description': 'b, length normalization parameter', 'details': []}, {'value': 2.0, 'description': 'dl, length of field', 'details': []}, {'value': 2.3333333, 'description': 'avgdl, average length of field', 'details': []}]}]}]}]}, {'value': 0.9400072, 'description': 'sum of:', 'details': [{'value': 0.4700036, 'description': 'weight(product_name:noix in 1) [PerFieldSimilarity], result of:', 'details': [{'value': 0.4700036, 'description': 'score(freq=1.0), computed as boost * idf * tf from:', 'details': [{'value': 2.2, 'description': 'boost', 'details': []}, {'value': 0.47000363, 'description': 'idf, computed as log(1 + (N - n + 0.5) / (n + 0.5)) from:', 'details': [{'value': 2, 'description': 'n, number of documents containing term', 'details': []}, {'value': 3, 'description': 'N, total number of documents with field', 'details': []}]}, {'value': 0.45454544, 'description': 'tf, computed as freq / (freq + k1 * (1 - b + b * dl / avgdl)) from:', 'details': [{'value': 1.0, 'description': 'freq, occurrences of term within document', 'details': []}, {'value': 1.2, 'description': 'k1, term saturation parameter', 'details': []}, {'value': 0.75, 'description': 'b, length normalization parameter', 'details': []}, {'value': 3.0, 'description': 'dl, length of field', 'details': []}, {'value': 3.0, 'description': 'avgdl, average length of field', 'details': []}]}]}]}, {'value': 0.4700036, 'description': 'weight(product_name:de in 1) [PerFieldSimilarity], result of:', 'details': [{'value': 0.4700036, 'description': 'score(freq=1.0), computed as boost * idf * tf from:', 'details': [{'value': 2.2, 'description': 'boost', 'details': []}, {'value': 0.47000363, 'description': 'idf, computed as log(1 + (N - n + 0.5) / (n + 0.5)) from:', 'details': [{'value': 2, 'description': 'n, number of documents containing term', 'details': []}, {'value': 3, 'description': 'N, total number of documents with field', 'details': []}]}, {'value': 0.45454544, 'description': 'tf, computed as freq / (freq + k1 * (1 - b + b * dl / avgdl)) from:', 'details': [{'value': 1.0, 'description': 'freq, occurrences of term within document', 'details': []}, {'value': 1.2, 'description': 'k1, term saturation parameter', 'details': []}, {'value': 0.75, 'description': 'b, length normalization parameter', 'details': []}, {'value': 3.0, 'description': 'dl, length of field', 'details': []}, {'value': 3.0, 'description': 'avgdl, average length of field', 'details': []}]}]}]}]}]}})\n",
        "```\n",
        "\n",
        "\n",
        "`Elastic` nous explique donc que le score `0.9400072` est le maximum entre deux sous-scores, `0.4991` et `0.9400072`.\n",
        "\n",
        "Pour chacun de ces sous-scores, le détail de son calcul est donné.\n",
        "Le premier sous-score n'a accordé un score que par rapport au premier mot (noix), tandis que le second a accordé un score sur la base des deux mots déjà connu dans les documents (\"noix\" et \"de\"). Il a ignoré pécan! Jusqu'à présent, ce terme n'est pas connu dans l'index. \n",
        "\n",
        "La pertinence d'un mot pour notre recherche est construite sur une variante de la `TF-IDF`,\n",
        "considérant qu'un terme est pertinent s'il est souvent présent dans le document (Term Frequency)\n",
        "alors qu'il est peu fréquent dans les autres document (inverse document frequency).\n",
        "Ici les notations des documents 1 et 2 sont très proches, la différence est dûe à des IDF plus faibles dans le document 1,\n",
        "qui est pénalisé pour être légérement plus long. \n",
        "\n",
        "Bref, tout ça est un peu lourd, mais assez efficace,\n",
        "en tout cas moins rudimentaire que les distances caractères à caractères pour ramener des echos pertinents.\n",
        "\n",
        "\n",
        "## Limite de cette première indexation\n",
        "\n",
        "Pour l'instant, Elastic n'a pas l'air de gérer les fautes de frappes!\n",
        "Pas le droit à l'erreur dans la requête:\n"
      ],
      "id": "25c7695d"
    },
    {
      "cell_type": "code",
      "metadata": {},
      "source": [
        "#| eval: false\n",
        "es.search(index = 'openfood',q = 'TART NOI')"
      ],
      "id": "33b9bc17",
      "execution_count": null,
      "outputs": []
    },
    {
      "cell_type": "markdown",
      "metadata": {},
      "source": [
        "```\n",
        "ObjectApiResponse({'took': 38, 'timed_out': False, '_shards': {'total': 1, 'successful': 1, 'skipped': 0, 'failed': 0}, 'hits': {'total': {'value': 0, 'relation': 'eq'}, 'max_score': None, 'hits': []}})\n",
        "```\n",
        "\n",
        "\n",
        "Cela s'explique par la représentation des champs (*'product_name'* par exemple) qu'`Elastic` a inféré,\n",
        "puisque nous n'avons rien spécifié.\n",
        "La représentation d'une variable conditionne la façon dont les champs sont analysés pour calculer la pertinence.\n",
        "Par exemple, regardons la représentation du champ `product_name`\n"
      ],
      "id": "015a1bb0"
    },
    {
      "cell_type": "code",
      "metadata": {},
      "source": [
        "#| eval: false\n",
        "es.indices.get_field_mapping(index = 'openfood', fields = 'product_name')"
      ],
      "id": "88cd788c",
      "execution_count": null,
      "outputs": []
    },
    {
      "cell_type": "markdown",
      "metadata": {},
      "source": [
        "```\n",
        "ObjectApiResponse({'openfood': {'mappings': {'product_name': {'full_name': 'product_name', 'mapping': {'product_name': {'type': 'text', 'fields': {'keyword': {'type': 'keyword', 'ignore_above': 256}}}}}}}})\n",
        "```\n",
        "\n",
        "`Elastic` a compris qu'il s'agissait d'un champ textuel.\n",
        "En revanche, le type est `keyword` n'autorise pas des analyses approximatives donc \n",
        "ne permet pas de tenir compte de fautes de frappes.\n",
        "\n",
        "Pour qu'un echo remonte, un des termes doit matcher exactement. Dommage !\n",
        "Mais c'est parce qu'on a utilisé le *mapping* par défaut.\n",
        "En réalité, il est assez simple de préciser un *mapping* plus riche,\n",
        "autorisant une analyse *\"fuzzy\"* ou *\"flou\"*.\n",
        "\n",
        "# Améliorer l'indexation\n",
        "\n",
        "On peut spécifier la façon dont l'on souhaite analyser le texte.\n",
        "Par exemple, on peut préciser que l'on souhaite enlever des *stopwords*, raciniser, analyser les termes via des *n-grammes*\n",
        "pour rendre la recherche plus robuste aux fautes de frappes...\n",
        "\n",
        "Ces concepts sont présentés dans la partie [NLP](#nlp).\n",
        "Pour une présentation plus complète, voir\n",
        "[la documentation officielle d'Elastic](https://www.elastic.co/guide/en/elasticsearch/reference/current/mapping.html)\n",
        "\n",
        "On propose les analyseurs stockés dans un fichier [schema.json](#schema.json)\n",
        "\n",
        "Les *n-grammes* sont des séquences de *n* caractères ou plus généralement *n* éléments qui s'enchaînent séquentiellement.\n",
        "Par exemple, NOI et OIX sont des tri-grammes de caractères dans NOIX. \n",
        "\n",
        "Comparer les *n-grammes* composant des libellés peut permettre d'avoir dans des comparaisons à fautes de frappe/abbréviations près.\n",
        "Cela fait aussi plus de comparaisons à opérer ! D'où également, l'intérêt d'Elastic, qui intégre facilement et efficacement ces comparaisons. \n",
        "\n",
        "\n",
        "On va préciser un peu le schéma de données qu'on souhaite _indexer_, et aussi préciser comment les différents champs seront _analysés_.\n",
        "\n",
        "\n",
        "### Une indexation plus adaptée\n"
      ],
      "id": "5256064e"
    },
    {
      "cell_type": "code",
      "metadata": {},
      "source": [
        "#| eval: false\n",
        "import json\n",
        "\n",
        "if es.indices.exists(index = 'openfood'):\n",
        "    es.indices.delete(index = 'openfood')\n",
        "\n",
        "with open('schema.json') as f:\n",
        "    mapping = json.load(f)\n",
        "    \n",
        "es.indices.create(index = \"openfood\", body = mapping)    "
      ],
      "id": "a806941d",
      "execution_count": null,
      "outputs": []
    },
    {
      "cell_type": "markdown",
      "metadata": {},
      "source": [
        "Maintenant, les champs textuels *\"product_name\"* et *\"product_name_clean\"*\n",
        "vont pouvoir être analysé aussi via leur n-grammes et après racinisation (et l'un n'exclut pas l'autre!)\n"
      ],
      "id": "8d3ef355"
    },
    {
      "cell_type": "code",
      "metadata": {},
      "source": [
        "#| eval: false\n",
        "es.indices.get_field_mapping(\n",
        "  index = 'openfood', fields = 'product_name'\n",
        "  )"
      ],
      "id": "cee8a6bc",
      "execution_count": null,
      "outputs": []
    },
    {
      "cell_type": "markdown",
      "metadata": {},
      "source": [
        "```\n",
        "ObjectApiResponse({'openfood': {'mappings': {'product_name': {'full_name': 'product_name', 'mapping': {'product_name': {'type': 'text', 'fields': {'keyword': {'type': 'keyword', 'ignore_above': 256}, 'ngr': {'type': 'text', 'analyzer': 'ngram_analyzer'}, 'stem': {'type': 'text', 'analyzer': 'stem_analyzer'}}}}}}}})\n",
        "```\n",
        "\n",
        "C'est parti, on envoie toute notre base OpenFood pour pouvoir la requêter !\n",
        "La fonction suivante (`index_elastic`) va vous faire gagner du temps pour indexer\n",
        "car indexer chaque produit à la main n'est pas très efficace.\n",
        "\n",
        "Du coup ça prend quelques minutes... mais c'est pour nous en faire gagner ensuite.\n",
        "Cette opération est faite une fois, pour préparer des requêtes potentiellement nombreuses!\n"
      ],
      "id": "414c8006"
    },
    {
      "cell_type": "code",
      "metadata": {},
      "source": [
        "#| eval: false\n",
        "fc.index_elastic(es =es, index_name = \"openfood\",\n",
        "        setting_file = 'schema.json',\n",
        "        df = openfood[['product_name',\"libel_clean\",\"energy_100g\",\"nutriscore_score\"]].drop_duplicates())"
      ],
      "id": "f5b0efc3",
      "execution_count": null,
      "outputs": []
    },
    {
      "cell_type": "markdown",
      "metadata": {},
      "source": [
        "```\n",
        "Temps d'exécution total : 125.57 secondes ---\n",
        "```\n"
      ],
      "id": "d77d5494"
    },
    {
      "cell_type": "code",
      "metadata": {},
      "source": [
        "#| eval: false\n",
        "es.count(index = 'openfood')['count']"
      ],
      "id": "6084ebf2",
      "execution_count": null,
      "outputs": []
    },
    {
      "cell_type": "markdown",
      "metadata": {},
      "source": [
        "```\n",
        "738366\n",
        "```\n",
        "\n",
        "\n",
        "## Nos premières requêtes\n",
        "\n",
        "Vérifions qu'on recupère quelques tartes aux noix même si l'on fait plein de fautes:\n"
      ],
      "id": "dcd58332"
    },
    {
      "cell_type": "code",
      "metadata": {},
      "source": [
        "#| eval: false\n",
        "es.search(index = 'openfood', q = 'TART NOI', size = 3)"
      ],
      "id": "cdaacfa0",
      "execution_count": null,
      "outputs": []
    },
    {
      "cell_type": "markdown",
      "metadata": {},
      "source": [
        "```\n",
        "ObjectApiResponse({'took': 60, 'timed_out': False, '_shards': {'total': 1, 'successful': 1, 'skipped': 0, 'failed': 0}, 'hits': {'total': {'value': 10000, 'relation': 'gte'}, 'max_score': 22.837925, 'hits': [{'_index': 'openfood', '_type': '_doc', '_id': '405332', '_score': 22.837925, '_source': {'product_name': 'Tarte noix', 'libel_clean': 'TARTE NOIX', 'energy_100g': 1833.0, 'nutriscore_score': 23.0}}, {'_index': 'openfood', '_type': '_doc', '_id': '1103594', '_score': 22.82367, '_source': {'product_name': 'Tarte aux noix', 'libel_clean': 'TARTE NOIX', 'energy_100g': 4.0, 'nutriscore_score': 4.0}}, {'_index': 'openfood', '_type': '_doc', '_id': '1150755', '_score': 22.82367, '_source': {'product_name': 'Tarte aux noix', 'libel_clean': 'TARTE NOIX', 'energy_100g': 1929.0, 'nutriscore_score': 21.0}}]}})\n",
        "```\n",
        "\n",
        "Si on préfère sous une forme de `DataFrame`:\n"
      ],
      "id": "908c124e"
    },
    {
      "cell_type": "code",
      "metadata": {},
      "source": [
        "#| eval: false\n",
        "df = pd.json_normalize(\n",
        "    es.search(index = 'openfood', q = 'TART NOI', size = 3)['hits']['hits']\n",
        ")\n",
        "df.columns = df.columns.str.replace(\"_source.\", \"\", regex = False)\n",
        "df.head(2)"
      ],
      "id": "e1e33de8",
      "execution_count": null,
      "outputs": []
    },
    {
      "cell_type": "markdown",
      "metadata": {},
      "source": [
        "```{=html}\n",
        "<table border=\"1\" class=\"dataframe\">\\n  <thead>\\n    <tr style=\"text-align: right;\">\\n      <th></th>\\n      <th>_index</th>\\n      <th>_type</th>\\n      <th>_id</th>\\n      <th>_score</th>\\n      <th>product_name</th>\\n      <th>libel_clean</th>\\n      <th>energy_100g</th>\\n      <th>nutriscore_score</th>\\n    </tr>\\n  </thead>\\n  <tbody>\\n    <tr>\\n      <th>0</th>\\n      <td>openfood</td>\\n      <td>_doc</td>\\n      <td>405332</td>\\n      <td>22.837925</td>\\n      <td>Tarte noix</td>\\n      <td>TARTE NOIX</td>\\n      <td>1833.0</td>\\n      <td>23.0</td>\\n    </tr>\\n    <tr>\\n      <th>1</th>\\n      <td>openfood</td>\\n      <td>_doc</td>\\n      <td>1103594</td>\\n      <td>22.823670</td>\\n      <td>Tarte aux noix</td>\\n      <td>TARTE NOIX</td>\\n      <td>4.0</td>\\n      <td>4.0</td>\\n    </tr>\\n    <tr>\\n      <th>2</th>\\n      <td>openfood</td>\\n      <td>_doc</td>\\n      <td>1150755</td>\\n      <td>22.823670</td>\\n      <td>Tarte aux noix</td>\\n      <td>TARTE NOIX</td>\\n      <td>1929.0</td>\\n      <td>21.0</td>\\n    </tr>\\n  </tbody>\\n</table>\n",
        "```\n",
        "\n",
        "\n",
        "Pour automatiser l'envoi de requêtes et la récupération du meilleur\n",
        "écho, on peut définir la fonction suivante\n"
      ],
      "id": "70e0b727"
    },
    {
      "cell_type": "code",
      "metadata": {},
      "source": [
        "#| eval: false\n",
        "def matchElastic(libelles):\n",
        "    start_time = time.time()\n",
        "    matches = {}\n",
        "    for l in libelles:\n",
        "        response = es.search(index = 'openfood', q = l, size = 1)\n",
        "        if len(response['hits']['hits'])>0:\n",
        "            matches[l] = pd.json_normalize(\n",
        "              response['hits']['hits']\n",
        "            )\n",
        "    print(80*'-')\n",
        "    print(f\"Temps d'exécution total : {(time.time() - start_time):.2f} secondes ---\")\n",
        "    \n",
        "    return matches"
      ],
      "id": "592bca90",
      "execution_count": null,
      "outputs": []
    },
    {
      "cell_type": "code",
      "metadata": {},
      "source": [
        "#| eval: false\n",
        "matches = matchElastic(courses['libel_clean'])\n",
        "matches = pd.concat(matches)\n",
        "matches.sample(3)"
      ],
      "id": "cfdd2f9d",
      "execution_count": null,
      "outputs": []
    },
    {
      "cell_type": "markdown",
      "metadata": {},
      "source": [
        "```{=html}\n",
        "<table border=\"1\" class=\"dataframe\">\\n  <thead>\\n    <tr style=\"text-align: right;\">\\n      <th></th>\\n      <th></th>\\n      <th>_index</th>\\n      <th>_type</th>\\n      <th>_id</th>\\n      <th>_score</th>\\n      <th>_source.product_name</th>\\n      <th>_source.libel_clean</th>\\n      <th>_source.energy_100g</th>\\n      <th>_source.nutriscore_score</th>\\n    </tr>\\n  </thead>\\n  <tbody>\\n    <tr>\\n      <th>GOUSSE AIL</th>\\n      <th>0</th>\\n      <td>openfood</td>\\n      <td>_doc</td>\\n      <td>1982062</td>\\n      <td>57.93140</td>\\n      <td>Gousse d\\'ail</td>\\n      <td>GOUSSE AIL</td>\\n      <td>498.0</td>\\n      <td>5.0</td>\\n    </tr>\\n    <tr>\\n      <th>IGP SAUVIGNON</th>\\n      <th>0</th>\\n      <td>openfood</td>\\n      <td>_doc</td>\\n      <td>1801406</td>\\n      <td>96.55756</td>\\n      <td>vin blanc Sauvignon</td>\\n      <td>VIN BLANC SAUVIGNON</td>\\n      <td>66.3</td>\\n      <td>1.0</td>\\n    </tr>\\n    <tr>\\n      <th>POTIRON</th>\\n      <th>0</th>\\n      <td>openfood</td>\\n      <td>_doc</td>\\n      <td>1043961</td>\\n      <td>75.96385</td>\\n      <td>Potiron</td>\\n      <td>POTIRON</td>\\n      <td>172.0</td>\\n      <td>0.0</td>\\n    </tr>\\n  </tbody>\\n</table>\n",
        "```\n",
        "\n",
        "\n",
        "Et voilà, on a un outil très rapide de requête ! \n",
        "La pertinence des résultats est encore douteuse. \n",
        "Pour cela, il conviendrait de préciser des requêtes plus sophistiquées![^2]\n",
        "\n",
        "[^2]: Vous pouvez aussi explorer les possibilités de requêtes via la [doc Elastic](https://www.elastic.co/guide/en/elasticsearch/reference/6.8/query-dsl.html) et vous entrainer à un écrire avec votre index tout neuf.\n"
      ],
      "id": "4e426eed"
    },
    {
      "cell_type": "code",
      "metadata": {},
      "source": [
        "req = {\n",
        "    \"bool\": {\n",
        "      \"should\": [\n",
        "        { \"match\": { \"libel_clean\":  { \"query\":  \"HUILE OLIVE\" , \"boost\" : 10}}},\n",
        "        { \"match\": { \"libel_clean.ngr\":   \"HUILE OLIVE\" }}\n",
        "        ],\n",
        "      \"minimum_should_match\": 1,\n",
        "      \"filter\": [\n",
        "      { \n",
        "            \"range\" : {\n",
        "                \"nutriscore_score\" : {\n",
        "                    \"gte\" : 10,\n",
        "                    \"lte\" : 20\n",
        "                    }\n",
        "                    }\n",
        "                    }\n",
        "      ]\n",
        "    }\n",
        "}"
      ],
      "id": "d6025bc4",
      "execution_count": null,
      "outputs": []
    },
    {
      "cell_type": "code",
      "metadata": {},
      "source": [
        "#| eval: false\n",
        "out = es.search(index = 'openfood', query = req, size = 1)\n",
        "pd.json_normalize(out['hits']['hits'])"
      ],
      "id": "d09776c5",
      "execution_count": null,
      "outputs": []
    },
    {
      "cell_type": "markdown",
      "metadata": {},
      "source": [
        "```{=html}\n",
        "<table border=\"1\" class=\"dataframe\">\\n  <thead>\\n    <tr style=\"text-align: right;\">\\n      <th></th>\\n      <th>_index</th>\\n      <th>_type</th>\\n      <th>_id</th>\\n      <th>_score</th>\\n      <th>_source.product_name</th>\\n      <th>_source.libel_clean</th>\\n      <th>_source.energy_100g</th>\\n      <th>_source.nutriscore_score</th>\\n    </tr>\\n  </thead>\\n  <tbody>\\n    <tr>\\n      <th>0</th>\\n      <td>openfood</td>\\n      <td>_doc</td>\\n      <td>960041</td>\\n      <td>174.27896</td>\\n      <td>Huile d olive</td>\\n      <td>HUILE OLIVE</td>\\n      <td>3761.0</td>\\n      <td>11.0</td>\\n    </tr>\\n  </tbody>\\n</table>\n",
        "```\n",
        "\n",
        "\n",
        "\n",
        "Qu'a-t-on demandé ici? \n",
        "- De renvoyer 1 et 1 seul echo (`\"size\":\"1\"`) et seulement si celui ci a:\n",
        "    + `\"should\"`: Au moins un (`\"minimum_should_match\":\"1\"`) des termes des deux champs `libel_clean` et `libel_clean.ngr` qui matche sur un terme de _HUILE OLIVE_, l'analyse (la définition du \"terme\") étant réalisé soit en tant que `text` (\"libel_clean\") soit en tant que n-gramme `ngr` (\"libel_clean.ngr\", une analyse que nous avons spécifié dans le mapping) \n",
        "    + `\"filter\"`: Le champ `float` `nutriscore_score` doit être compris entre 10 et 20 (\"filter\").  \n",
        "\n",
        "A noter :\n",
        "\n",
        "1. Les clauses (`\"should\"`+`\"minimum_should_match\":\"1\"`) peuvent être remplacé par un `\"must\"`. Auquel cas, l'écho doit obligatoirement matcher sur chaque clause.\n",
        "2. Préciser dans `\"filter\"` (plutôt que dans `\"should\"`) une condition signifie que celle-ci ne participe pas au score de pertinence. \n",
        "\n",
        "\n",
        "On n'a pas encore un appariemment très satisfaisant, en particulier sur les boissons. Comment faire ? La réponse est dans @galiana2022 \n",
        "\n",
        "<div class=\"alert alert-success\" role=\"alert\">\n",
        "A vous, de calculer le nombre de calories de notre recette de course ! \n",
        "</div>"
      ],
      "id": "1bc6899b"
    }
  ],
  "metadata": {
    "kernelspec": {
      "name": "python3",
      "language": "python",
      "display_name": "Python 3 (ipykernel)"
    }
  },
  "nbformat": 4,
  "nbformat_minor": 5
}