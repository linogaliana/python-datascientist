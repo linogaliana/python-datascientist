{
 "cells": [
  {
   "cell_type": "markdown",
   "id": "be735e74",
   "metadata": {},
   "source": [
    "#  Classification: premier modèle avec les SVM\n",
    "\n"
   ]
  },
  {
   "cell_type": "markdown",
   "id": "eccded99",
   "metadata": {},
   "source": [
    "<a href=\"https://github.com/linogaliana/python-datascientist/blob/master//__w/python-datascientist/python-datascientist/notebooks/course/modelisation/2_SVM.ipynb\" class=\"github\"><i class=\"fab fa-github\"></i></a>\n",
    "[![Download](https://img.shields.io/badge/Download-Notebook-important?logo=Jupyter)](https://downgit.github.io/#/home?url=https://github.com/linogaliana/python-datascientist/blob/master//__w/python-datascientist/python-datascientist/notebooks/course/modelisation/2_SVM.ipynb)\n",
    "[![nbviewer](https://img.shields.io/badge/Visualize-nbviewer-blue?logo=Jupyter)](https://nbviewer.jupyter.org/github/linogaliana/python-datascientist/blob/master//__w/python-datascientist/python-datascientist/notebooks/course/modelisation/2_SVM.ipynb)\n",
    "[![Onyxia](https://img.shields.io/badge/SSPcloud-Tester%20via%20SSP--cloud-informational&color=yellow?logo=Python)](https://datalab.sspcloud.fr/launcher/inseefrlab-helm-charts-datascience/jupyter?onyxia.friendlyName=«python-datascientist»&resources.requests.memory=«4Gi»&security.allowlist.enabled=false&init.personalInit=«https://raw.githubusercontent.com/linogaliana/python-datascientist/master/init_onyxia.sh»)\n",
    "[![Binder](https://img.shields.io/badge/Launch-Binder-E66581.svg?logo=data:image/png;base64,iVBORw0KGgoAAAANSUhEUgAAAFkAAABZCAMAAABi1XidAAAB8lBMVEX///9XmsrmZYH1olJXmsr1olJXmsrmZYH1olJXmsr1olJXmsrmZYH1olL1olJXmsr1olJXmsrmZYH1olL1olJXmsrmZYH1olJXmsr1olL1olJXmsrmZYH1olL1olJXmsrmZYH1olL1olL0nFf1olJXmsrmZYH1olJXmsq8dZb1olJXmsrmZYH1olJXmspXmspXmsr1olL1olJXmsrmZYH1olJXmsr1olL1olJXmsrmZYH1olL1olLeaIVXmsrmZYH1olL1olL1olJXmsrmZYH1olLna31Xmsr1olJXmsr1olJXmsrmZYH1olLqoVr1olJXmsr1olJXmsrmZYH1olL1olKkfaPobXvviGabgadXmsqThKuofKHmZ4Dobnr1olJXmsr1olJXmspXmsr1olJXmsrfZ4TuhWn1olL1olJXmsqBi7X1olJXmspZmslbmMhbmsdemsVfl8ZgmsNim8Jpk8F0m7R4m7F5nLB6jbh7jbiDirOEibOGnKaMhq+PnaCVg6qWg6qegKaff6WhnpKofKGtnomxeZy3noG6dZi+n3vCcpPDcpPGn3bLb4/Mb47UbIrVa4rYoGjdaIbeaIXhoWHmZYHobXvpcHjqdHXreHLroVrsfG/uhGnuh2bwj2Hxk17yl1vzmljzm1j0nlX1olL3AJXWAAAAbXRSTlMAEBAQHx8gICAuLjAwMDw9PUBAQEpQUFBXV1hgYGBkcHBwcXl8gICAgoiIkJCQlJicnJ2goKCmqK+wsLC4usDAwMjP0NDQ1NbW3Nzg4ODi5+3v8PDw8/T09PX29vb39/f5+fr7+/z8/Pz9/v7+zczCxgAABC5JREFUeAHN1ul3k0UUBvCb1CTVpmpaitAGSLSpSuKCLWpbTKNJFGlcSMAFF63iUmRccNG6gLbuxkXU66JAUef/9LSpmXnyLr3T5AO/rzl5zj137p136BISy44fKJXuGN/d19PUfYeO67Znqtf2KH33Id1psXoFdW30sPZ1sMvs2D060AHqws4FHeJojLZqnw53cmfvg+XR8mC0OEjuxrXEkX5ydeVJLVIlV0e10PXk5k7dYeHu7Cj1j+49uKg7uLU61tGLw1lq27ugQYlclHC4bgv7VQ+TAyj5Zc/UjsPvs1sd5cWryWObtvWT2EPa4rtnWW3JkpjggEpbOsPr7F7EyNewtpBIslA7p43HCsnwooXTEc3UmPmCNn5lrqTJxy6nRmcavGZVt/3Da2pD5NHvsOHJCrdc1G2r3DITpU7yic7w/7Rxnjc0kt5GC4djiv2Sz3Fb2iEZg41/ddsFDoyuYrIkmFehz0HR2thPgQqMyQYb2OtB0WxsZ3BeG3+wpRb1vzl2UYBog8FfGhttFKjtAclnZYrRo9ryG9uG/FZQU4AEg8ZE9LjGMzTmqKXPLnlWVnIlQQTvxJf8ip7VgjZjyVPrjw1te5otM7RmP7xm+sK2Gv9I8Gi++BRbEkR9EBw8zRUcKxwp73xkaLiqQb+kGduJTNHG72zcW9LoJgqQxpP3/Tj//c3yB0tqzaml05/+orHLksVO+95kX7/7qgJvnjlrfr2Ggsyx0eoy9uPzN5SPd86aXggOsEKW2Prz7du3VID3/tzs/sSRs2w7ovVHKtjrX2pd7ZMlTxAYfBAL9jiDwfLkq55Tm7ifhMlTGPyCAs7RFRhn47JnlcB9RM5T97ASuZXIcVNuUDIndpDbdsfrqsOppeXl5Y+XVKdjFCTh+zGaVuj0d9zy05PPK3QzBamxdwtTCrzyg/2Rvf2EstUjordGwa/kx9mSJLr8mLLtCW8HHGJc2R5hS219IiF6PnTusOqcMl57gm0Z8kanKMAQg0qSyuZfn7zItsbGyO9QlnxY0eCuD1XL2ys/MsrQhltE7Ug0uFOzufJFE2PxBo/YAx8XPPdDwWN0MrDRYIZF0mSMKCNHgaIVFoBbNoLJ7tEQDKxGF0kcLQimojCZopv0OkNOyWCCg9XMVAi7ARJzQdM2QUh0gmBozjc3Skg6dSBRqDGYSUOu66Zg+I2fNZs/M3/f/Grl/XnyF1Gw3VKCez0PN5IUfFLqvgUN4C0qNqYs5YhPL+aVZYDE4IpUk57oSFnJm4FyCqqOE0jhY2SMyLFoo56zyo6becOS5UVDdj7Vih0zp+tcMhwRpBeLyqtIjlJKAIZSbI8SGSF3k0pA3mR5tHuwPFoa7N7reoq2bqCsAk1HqCu5uvI1n6JuRXI+S1Mco54YmYTwcn6Aeic+kssXi8XpXC4V3t7/ADuTNKaQJdScAAAAAElFTkSuQmCC)](https://mybinder.org/v2/gh/linogaliana/python-datascientist/master?filepath=/__w/python-datascientist/python-datascientist/notebooks/course/modelisation/2_SVM.ipynb)\n",
    "[![Open In Colab](https://colab.research.google.com/assets/colab-badge.svg)](http://colab.research.google.com/github/linogaliana/python-datascientist/blob/master//__w/python-datascientist/python-datascientist/notebooks/course/modelisation/2_SVM.ipynb)\n",
    "[![githubdev](https://open.vscode.dev/badges/open-in-vscode.svg)](https://github.dev/linogaliana/python-datascientist//__w/python-datascientist/python-datascientist/notebooks/course/modelisation/2_SVM.ipynb)"
   ]
  },
  {
   "cell_type": "markdown",
   "id": "0d297147",
   "metadata": {},
   "source": [
    "Pour illustrer le travail d'exploration des données nécessaire avant de construire un modèle de Machine Learning, nous allons partir du même jeu de données que précédemment,\n",
    "c'est-à-dire les résultats des élections US 2020 présentés dans l'[introduction\n",
    "de cette partie](https://linogaliana-teaching.netlify.app/modelisation/): les données de vote aux élections présidentielles US\n",
    "croisées à des variables socio-démographiques.\n",
    "Le code \n",
    "est disponible [sur Github](https://github.com/linogaliana/python-datascientist/blob/master/content/course/modelisation/get_data.py).\n",
    "\n"
   ]
  },
  {
   "cell_type": "code",
   "execution_count": null,
   "id": "91e45d91",
   "metadata": {
    "lines_to_next_cell": 0
   },
   "outputs": [],
   "source": [
    "#!pip install geopandas\n",
    "import urllib.request\n",
    "code = 'https://raw.githubusercontent.com/linogaliana/python-datascientist/master/content/course/modelisation/get_data.py'\n",
    "data = urllib.request.urlopen(code).read()\n",
    "exec(data)"
   ]
  },
  {
   "cell_type": "markdown",
   "id": "2de0912a",
   "metadata": {},
   "source": [
    "\n",
    "\n",
    "\n"
   ]
  },
  {
   "cell_type": "code",
   "execution_count": null,
   "id": "63640845",
   "metadata": {},
   "outputs": [],
   "source": [
    "import matplotlib.pyplot as plt"
   ]
  },
  {
   "cell_type": "markdown",
   "id": "7bc416bb",
   "metadata": {},
   "source": [
    "## La méthode des SVM (Support Vector Machines)\n",
    "\n",
    "L'une des méthodes de *Machine Learning* les plus utilisées en classification est les SVM. Il s'agit de trouver, dans un système de projection adéquat (noyau ou *kernel*), les paramètres de l'hyperplan (en fait d'un hyperplan à marges maximales) séparant les classes de données: \n",
    "\n",
    "![](https://scikit-learn.org/stable/_images/sphx_glr_plot_iris_svc_001.png)\n",
    "\n",
    "On peut, sans perdre de généralité, supposer que le problème consiste à supposer l'existence d'une loi de probabilité $\\mathbb{P}(x,y)$ ($\\mathbb{P} \\to \\{-1,1\\}$) qui est inconnue. Le problème de discrimination\n",
    "vise à construire un estimateur de la fonction de décision idéale qui minimise la probabilité d'erreur, autrement dit $\\theta = \\arg\\min_\\Theta \\mathbb{P}(h_\\theta(X) \\neq y |x)$\n",
    "\n",
    "Les SVM les plus simples sont les SVM linéaires. Dans ce cas, on suppose qu'il existe un séparateur linéaire qui permet d'associer chaque classe à son signe:\n",
    "\n",
    "$$\n",
    "h_\\theta(x) = \\text{signe}(f_\\theta(x)) ; \\text{ avec } f_\\theta(x) = \\theta^T x + b\n",
    "$$\n",
    "avec $\\theta \\in \\mathbb{R}^p$ et $w \\in \\mathbb{R}$. \n",
    "\n",
    "![](https://en.wikipedia.org/wiki/File:SVM_margin.png)\n",
    "\n",
    "Lorsque des observations sont linéairement séparables, il existe une infinité de frontières de décision linéaire séparant les deux classes. Le \"meilleur\" choix est de prendre la marge maximale permettant de séparer les données. La distance entre les deux marges est $\\frac{2}{||\\theta||}$. Donc maximiser cette distance entre deux hyperplans revient à minimiser $||\\theta||^2$ sous la contrainte $y_i(\\theta^Tx_i + b) \\geq 1$. "
   ]
  },
  {
   "cell_type": "markdown",
   "id": "6f68caa6",
   "metadata": {},
   "source": [
    "Dans le cas non linéairement séparable, la *hinge loss* $\\max\\big(0,y_i(\\theta^Tx_i + b)\\big)$ permet de linéariser la fonction de perte:\n",
    "\n",
    "![](https://upload.wikimedia.org/wikipedia/commons/thumb/b/b5/Hinge_loss_vs_zero_one_loss.svg/1024px-Hinge_loss_vs_zero_one_loss.svg.png)\n",
    "\n",
    "ce qui donne le programme d'optimisation suivant:\n",
    "\n",
    "$$\n",
    "\\frac{1}{n} \\sum_{i=1}^n \\max\\big(0,y_i(\\theta^Tx_i + b)\\big) + \\lambda ||\\theta||^2\n",
    "$$\n",
    "\n",
    "La généralisation au cas non linéaire implique d'introduire des noyaux transformant l'espace de coordonnées des observations.\n",
    "\n",
    "![](https://upload.wikimedia.org/wikipedia/commons/thumb/f/fe/Kernel_Machine.svg/1920px-Kernel_Machine.svg.png)\n"
   ]
  },
  {
   "cell_type": "markdown",
   "id": "78f625f4",
   "metadata": {},
   "source": [
    "## Exercice"
   ]
  },
  {
   "cell_type": "markdown",
   "id": "8fe5a8e3",
   "metadata": {},
   "source": [
    "**Exercice 1 : Premier algorithme de classification**\n"
   ]
  },
  {
   "cell_type": "code",
   "execution_count": null,
   "id": "40a5695e",
   "metadata": {},
   "outputs": [],
   "source": [
    "# packages utiles\n",
    "from sklearn import svm\n",
    "import sklearn.metrics\n",
    "from sklearn.model_selection import train_test_split\n",
    "from sklearn.model_selection import cross_val_score"
   ]
  },
  {
   "cell_type": "markdown",
   "id": "14f9dec0",
   "metadata": {},
   "source": [
    "1. Créer une variable *dummy* appelée `y` dont la valeur vaut 1 quand les républicains l'emportent. \n",
    "\n"
   ]
  },
  {
   "cell_type": "code",
   "execution_count": null,
   "id": "d43a71b1",
   "metadata": {},
   "outputs": [],
   "source": [
    "# 1. Création de la dummy y de victoire des républicains\n",
    "votes['y'] = (votes['votes_gop'] > votes['votes_dem']).astype(int)"
   ]
  },
  {
   "cell_type": "markdown",
   "id": "d0eb36ed",
   "metadata": {},
   "source": [
    "2. Créer des échantillons de test (20 % des observations) et d'estimation (80 %) avec comme *features*: `'Unemployment_rate_2019', 'Median_Household_Income_2019', 'Percent of adults with less than a high school diploma, 2015-19', \"Percent of adults with a bachelor's degree or higher, 2015-19\"` et comme *label* la variable `y`. \n",
    "\n",
    "> A column-vector y was passed when a 1d array was expected. Please change the shape of y to (n_samples, ), for example using ravel()\n",
    "\n",
    "*Note : Pour éviter ce warning à chaque fois que vous estimez votre modèle, vous pouvez utiliser `DataFrame[['y']].values.ravel()` plutôt que `DataFrame[['y']]` lorsque vous constituez vos échantillons.*\n",
    "\n"
   ]
  },
  {
   "cell_type": "code",
   "execution_count": null,
   "id": "be732724",
   "metadata": {
    "lines_to_next_cell": 2
   },
   "outputs": [],
   "source": [
    "#2. Création des échantillons d'entraînement et de validation\n",
    "xvars = ['Unemployment_rate_2019', 'Median_Household_Income_2019', 'Percent of adults with less than a high school diploma, 2015-19', \"Percent of adults with a bachelor's degree or higher, 2015-19\"]\n",
    "\n",
    "df = votes[[\"y\"] + xvars]\n",
    "tempdf = df.dropna(how = \"any\")\n",
    "\n",
    "X_train, X_test, y_train, y_test = train_test_split(\n",
    "    df[xvars],\n",
    "    df[['y']].values.ravel(), test_size=0.2, random_state=0\n",
    ")\n",
    "#X_train.head()\n",
    "#y_test\n",
    "     "
   ]
  },
  {
   "cell_type": "markdown",
   "id": "5ddf824e",
   "metadata": {},
   "source": [
    "3. Entraîner un classifieur SVM avec comme paramètre de régularisation `C = 1`. Regarder les mesures de performance suivante : `accuracy`, `f1`, `recall` et `precision`.\n",
    "\n"
   ]
  },
  {
   "cell_type": "code",
   "execution_count": null,
   "id": "65c730db",
   "metadata": {},
   "outputs": [],
   "source": [
    "# 3. Entraînement du modèle et performances\n",
    "clf = svm.SVC(kernel='linear', C=1).fit(X_train, y_train)\n",
    "y_pred = clf.predict(X_test)\n",
    "\n",
    "sc_accuracy = sklearn.metrics.accuracy_score(y_pred, y_test)\n",
    "sc_f1 = sklearn.metrics.f1_score(y_pred, y_test)\n",
    "sc_recall = sklearn.metrics.recall_score(y_pred, y_test)\n",
    "sc_precision = sklearn.metrics.precision_score(y_pred, y_test)\n",
    "\n",
    "#print(sc_accuracy)\n",
    "#print(sc_f1)\n",
    "#print(sc_recall)\n",
    "#print(sc_precision)"
   ]
  },
  {
   "cell_type": "markdown",
   "id": "92ea4f9b",
   "metadata": {},
   "source": [
    "Le classifieur avec `C = 1` devrait avoir les performances suivantes:\n"
   ]
  },
  {
   "cell_type": "code",
   "execution_count": null,
   "id": "fae2b073",
   "metadata": {},
   "outputs": [],
   "source": [
    "out = pd.DataFrame.from_dict({\"Accuracy\": [sc_accuracy], \"Recall\": [sc_recall],\n",
    "                        \"Precision\": [sc_precision], \"F1\": [sc_f1]}, orient = \"index\", columns = [\"Score\"])\n",
    "print(out.to_markdown())"
   ]
  },
  {
   "cell_type": "markdown",
   "id": "404c2b1e",
   "metadata": {},
   "source": [
    "|           |    Score |\n",
    "|:----------|---------:|\n",
    "| Accuracy  | 0.868167 |\n",
    "| Recall    | 0.878307 |\n",
    "| Precision | 0.97456  |\n",
    "| F1        | 0.923933 |\n",
    "\n",
    "4. Vérifier la matrice de confusion : vous devriez voir que malgré des scores en apparence pas si mauvais, il y a un problème notable. \n",
    "\n"
   ]
  },
  {
   "cell_type": "code",
   "execution_count": null,
   "id": "96826a94",
   "metadata": {},
   "outputs": [],
   "source": [
    "# 4. Matrice de confusion\n",
    "sklearn.metrics.plot_confusion_matrix(clf, X_test, y_test)\n",
    "\n",
    "#Réponse : Notre classifieur manque totalement les labels 0, qui sont minoritaires.\n",
    "#Une raison possible ? L'échelle des variables: le revenu a une\n",
    "#distribution qui peut écraser celle des autres variables,\n",
    "#dans un modèle linéaire. Il faut donc, a minima, \n",
    "#standardiser les variables."
   ]
  },
  {
   "cell_type": "markdown",
   "id": "b6fd3f2f",
   "metadata": {},
   "source": [
    "```\n",
    "## <sklearn.metrics._plot.confusion_matrix.ConfusionMatrixDisplay object at 0x7fc5fd2039d0>\n",
    "```"
   ]
  },
  {
   "cell_type": "code",
   "execution_count": null,
   "id": "38775482",
   "metadata": {
    "lines_to_next_cell": 2
   },
   "outputs": [],
   "source": [
    "plt.savefig(\"confusion_matrix.png\")"
   ]
  },
  {
   "cell_type": "markdown",
   "id": "468ebe27",
   "metadata": {},
   "source": [
    "```r\n",
    "knitr::include_graphics(\"confusion_matrix.png\")\n",
    "```"
   ]
  },
  {
   "cell_type": "markdown",
   "id": "46cd5ad2",
   "metadata": {},
   "source": [
    "5. Refaire les questions précédentes avec des variables normalisées. Le résultat est-il différent ?\n",
    "\n"
   ]
  },
  {
   "cell_type": "code",
   "execution_count": null,
   "id": "9a571f9c",
   "metadata": {},
   "outputs": [],
   "source": [
    "# 5. Refaire les questions précédentes avec des variables normalisées.\n",
    "import sklearn.preprocessing as preprocessing\n",
    "\n",
    "X = tempdf[xvars]\n",
    "y = tempdf[['y']]\n",
    "scaler = preprocessing.StandardScaler().fit(X)\n",
    "X = scaler.transform(X)\n",
    "\n",
    "X_train, X_test, y_train, y_test = train_test_split(\n",
    "    X,\n",
    "    y.values.ravel(), test_size=0.2, random_state=0\n",
    ")\n",
    "\n",
    "clf = svm.SVC(kernel='linear', C=1).fit(X_train, y_train)\n",
    "y_pred = clf.predict(X_test)\n",
    "sklearn.metrics.plot_confusion_matrix(clf, X_test, y_test)\n",
    "\n",
    "#Réponse : Non, standardiser les variables n'apporte pas de gain\n",
    "# Il faut donc aller plus loin : le problème ne vient pas de l'échelle mais du choix des variables. \n",
    "# C'est pour cette raison que l'étape de sélection de variable est cruciale."
   ]
  },
  {
   "cell_type": "markdown",
   "id": "d9916886",
   "metadata": {},
   "source": [
    "```\n",
    "## <sklearn.metrics._plot.confusion_matrix.ConfusionMatrixDisplay object at 0x7fc5e9888190>\n",
    "```"
   ]
  },
  {
   "cell_type": "code",
   "execution_count": null,
   "id": "44ab353c",
   "metadata": {
    "lines_to_next_cell": 2
   },
   "outputs": [],
   "source": [
    "plt.savefig(\"confusion_matrix2.png\")"
   ]
  },
  {
   "cell_type": "markdown",
   "id": "649e83dc",
   "metadata": {},
   "source": [
    "```r\n",
    "knitr::include_graphics(\"confusion_matrix2.png\")\n",
    "```\n"
   ]
  },
  {
   "cell_type": "markdown",
   "id": "dbdf1aa4",
   "metadata": {},
   "source": [
    "6. Changer de variables *x*. Utiliser uniquement le résultat passé du vote démocrate et le revenu (`votes_gop` et `Median_Household_Income_2019`). Regarder les résultats, notamment la matrice de confusion. \n",
    "\n",
    "Le nouveau classifieur avec devrait avoir les performances suivantes :\n"
   ]
  },
  {
   "cell_type": "code",
   "execution_count": null,
   "id": "0fe2c3d2",
   "metadata": {},
   "outputs": [],
   "source": [
    "out = pd.DataFrame.from_dict({\"Accuracy\": [sc_accuracy], \"Recall\": [sc_recall],\n",
    "                        \"Precision\": [sc_precision], \"F1\": [sc_f1]}, orient = \"index\", columns = [\"Score\"])\n",
    "print(out.to_markdown())"
   ]
  },
  {
   "cell_type": "markdown",
   "id": "f3fa575a",
   "metadata": {},
   "source": [
    "|           |    Score |\n",
    "|:----------|---------:|\n",
    "| Accuracy  | 0.868167 |\n",
    "| Recall    | 0.878307 |\n",
    "| Precision | 0.97456  |\n",
    "| F1        | 0.923933 |\n",
    "\n",
    "\n",
    "\n"
   ]
  },
  {
   "cell_type": "code",
   "execution_count": null,
   "id": "2927ee4e",
   "metadata": {},
   "outputs": [],
   "source": [
    "# 6. Refaire les questions en changeant la variable X.\n",
    "votes['y'] = (votes['votes_gop'] > votes['votes_dem']).astype(int)\n",
    "df = votes[[\"y\", \"share_2016_republican\", 'Median_Household_Income_2019']]\n",
    "tempdf = df.dropna(how = \"any\")\n",
    "\n",
    "X = votes[['share_2016_republican', 'Median_Household_Income_2019']]\n",
    "y = tempdf[['y']]\n",
    "scaler = preprocessing.StandardScaler().fit(X)\n",
    "X = scaler.transform(X)\n",
    "\n",
    "X_train, X_test, y_train, y_test = train_test_split(\n",
    "    X,\n",
    "    y.values.ravel(), test_size=0.2, random_state=0\n",
    ")\n",
    "\n",
    "clf = svm.SVC(kernel='linear', C=1).fit(X_train, y_train)\n",
    "y_pred = clf.predict(X_test)\n",
    "\n",
    "sc_accuracy = sklearn.metrics.accuracy_score(y_pred, y_test)\n",
    "sc_f1 = sklearn.metrics.f1_score(y_pred, y_test)\n",
    "sc_recall = sklearn.metrics.recall_score(y_pred, y_test)\n",
    "sc_precision = sklearn.metrics.precision_score(y_pred, y_test)\n",
    "\n",
    "#print(sc_accuracy)\n",
    "#print(sc_f1)\n",
    "#print(sc_recall)\n",
    "#print(sc_precision)\n",
    "\n",
    "sklearn.metrics.plot_confusion_matrix(clf, X_test, y_test)\n",
    "# On obtient un résultat beaucoup plus cohérent."
   ]
  },
  {
   "cell_type": "markdown",
   "id": "e6e80f6b",
   "metadata": {},
   "source": [
    "```\n",
    "## <sklearn.metrics._plot.confusion_matrix.ConfusionMatrixDisplay object at 0x7fc5e4189490>\n",
    "```"
   ]
  },
  {
   "cell_type": "code",
   "execution_count": null,
   "id": "02475f37",
   "metadata": {
    "lines_to_next_cell": 0
   },
   "outputs": [],
   "source": [
    "plt.savefig(\"confusion_matrix3.png\")"
   ]
  },
  {
   "cell_type": "markdown",
   "id": "f02419bf",
   "metadata": {},
   "source": []
  },
  {
   "cell_type": "markdown",
   "id": "2208bd72",
   "metadata": {},
   "source": [
    "7. [OPTIONNEL] Faire une 5-fold validation croisée pour déterminer le paramètre *C* idéal. \n"
   ]
  },
  {
   "cell_type": "code",
   "execution_count": null,
   "id": "cb322f36",
   "metadata": {
    "lines_to_next_cell": 0
   },
   "outputs": [],
   "source": [
    "# TODO : correction à rédiger."
   ]
  },
  {
   "cell_type": "markdown",
   "id": "1532ac43",
   "metadata": {},
   "source": [
    "\n",
    "\n",
    "\n",
    "\n",
    "\n",
    "\n",
    "\n",
    "\n",
    "\n",
    "\n"
   ]
  }
 ],
 "metadata": {
  "kernelspec": {
   "display_name": "Python 3",
   "language": "python",
   "name": "python3"
  }
 },
 "nbformat": 4,
 "nbformat_minor": 5
}
