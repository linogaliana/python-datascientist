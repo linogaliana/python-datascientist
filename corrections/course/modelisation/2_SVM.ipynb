{
  "cells": [
    {
      "cell_type": "raw",
      "metadata": {},
      "source": [
        "---\n",
        "title: \"Classification: premier modèle avec les SVM\"\n",
        "date: 2020-10-15T13:00:00Z\n",
        "draft: false\n",
        "weight: 30\n",
        "slug: SVM\n",
        "tags:\n",
        "  - scikit\n",
        "  - Machine Learning\n",
        "  - US elections\n",
        "  - classification\n",
        "  - SVM\n",
        "  - Modélisation\n",
        "  - Exercice\n",
        "categories:\n",
        "  - Modélisation\n",
        "  - Exercice\n",
        "type: book\n",
        "summary: |\n",
        "  La classification permet d'attribuer une classe d'appartenance (_label_\n",
        "  dans la terminologie du _machine learning_)\n",
        "  discrète à des données à partir de certaines variables explicatives\n",
        "  (_features_ dans la même terminologie).\n",
        "  Les algorithmes de classification sont nombreux. L'un des plus intuitifs et\n",
        "  les plus fréquemment rencontrés est le `SVM` (*Support Vector Machine*).\n",
        "  Ce chapitre illustre les enjeux de la classification à partir de\n",
        "  ce modèle sur les données de vote aux élections présidentielles US de 2020.\n",
        "image: featured.png\n",
        "---"
      ],
      "id": "16f62506"
    },
    {
      "cell_type": "markdown",
      "metadata": {},
      "source": [
        "::: {.cell .markdown}"
      ],
      "id": "4cb3ce40"
    },
    {
      "cell_type": "code",
      "metadata": {},
      "source": [
        "#| output: 'asis'\n",
        "#| include: true\n",
        "#| eval: true\n",
        "\n",
        "import sys\n",
        "sys.path.insert(1, '../../../../') #insert the utils module\n",
        "from utils import print_badges\n",
        "\n",
        "#print_badges(__file__)\n",
        "print_badges(\"content/course/modelisation/2_SVM.qmd\")"
      ],
      "id": "0c385c6c",
      "execution_count": null,
      "outputs": []
    },
    {
      "cell_type": "markdown",
      "metadata": {},
      "source": [
        ":::\n",
        "\n",
        "Nous allons partir du même jeu de données que précédemment,\n",
        "c'est-à-dire les résultats des élections US 2020 présentés dans l'[introduction\n",
        "de cette partie](https://linogaliana-teaching.netlify.app/modelisation/): les données de vote aux élections présidentielles américaines\n",
        "croisées à des variables sociodémographiques.\n",
        "Le code \n",
        "est disponible [sur Github](https://github.com/linogaliana/python-datascientist/blob/master/content/course/modelisation/get_data.py).\n"
      ],
      "id": "56f23fa6"
    },
    {
      "cell_type": "code",
      "metadata": {
        "message": false
      },
      "source": [
        "#| echo: true\n",
        "#| warning: false\n",
        "\n",
        "#!pip install --upgrade xlrd #colab bug verson xlrd\n",
        "#!pip install geopandas\n",
        "\n",
        "import requests\n",
        "\n",
        "url = 'https://raw.githubusercontent.com/linogaliana/python-datascientist/master/content/course/modelisation/get_data.py'\n",
        "r = requests.get(url, allow_redirects=True)\n",
        "open('getdata.py', 'wb').write(r.content)\n",
        "\n",
        "import getdata\n",
        "votes = getdata.create_votes_dataframes()"
      ],
      "id": "b3212349",
      "execution_count": null,
      "outputs": []
    },
    {
      "cell_type": "markdown",
      "metadata": {},
      "source": [
        "Pour ce TP, nous aurons besoin des packages suivants :\n"
      ],
      "id": "ed7cd734"
    },
    {
      "cell_type": "code",
      "metadata": {},
      "source": [
        "import pandas as pd\n",
        "import matplotlib.pyplot as plt"
      ],
      "id": "837d6a13",
      "execution_count": null,
      "outputs": []
    },
    {
      "cell_type": "markdown",
      "metadata": {},
      "source": [
        "## La méthode des SVM (Support Vector Machines)\n",
        "\n",
        "L'une des méthodes de *Machine Learning* les plus utilisées en classification est les SVM.\n",
        "Il s'agit de trouver, dans un système de projection adéquat (noyau ou *kernel*),\n",
        "les paramètres de l'hyperplan (en fait d'un hyperplan à marges maximales)\n",
        "séparant les classes de données: \n",
        "\n",
        "![](https://scikit-learn.org/stable/_images/sphx_glr_plot_iris_svc_001.png)\n",
        "\n",
        "::: {.cell .markdown}\n",
        "\n",
        "```{=html}\n",
        "<div class=\"alert alert-warning\" role=\"alert\" style=\"color: rgba(0,0,0,.8); background-color: white; margin-top: 1em; margin-bottom: 1em; margin:1.5625emauto; padding:0 .6rem .8rem!important;overflow:hidden; page-break-inside:avoid; border-radius:.25rem; box-shadow:0 .2rem .5rem rgba(0,0,0,.05),0 0 .05rem rgba(0,0,0,.1); transition:color .25s,background-color .25s,border-color .25s ; border-right: 1px solid #dee2e6 ; border-top: 1px solid #dee2e6 ; border-bottom: 1px solid #dee2e6 ; border-left:.2rem solid #ffc10780;\">\n",
        "<h3 class=\"alert-heading\"><i class=\"fa fa-lightbulb-o\"></i> Formalisation mathématique</h3>\n",
        "```\n",
        "\n",
        "\n",
        "On peut, sans perdre de généralité, supposer que le problème consiste à supposer l'existence d'une loi de probabilité $\\mathbb{P}(x,y)$ ($\\mathbb{P} \\to \\{-1,1\\}$) qui est inconnue. Le problème de discrimination\n",
        "vise à construire un estimateur de la fonction de décision idéale qui minimise la probabilité d'erreur, autrement dit $\\theta = \\arg\\min_\\Theta \\mathbb{P}(h_\\theta(X) \\neq y |x)$\n",
        "\n",
        "Les SVM les plus simples sont les SVM linéaires. Dans ce cas, on suppose qu'il existe un séparateur linéaire qui permet d'associer chaque classe à son signe:\n",
        "\n",
        "$$\n",
        "h_\\theta(x) = \\text{signe}(f_\\theta(x)) ; \\text{ avec } f_\\theta(x) = \\theta^T x + b\n",
        "$$\n",
        "avec $\\theta \\in \\mathbb{R}^p$ et $w \\in \\mathbb{R}$. \n",
        "\n",
        "![](https://en.wikipedia.org/wiki/File:SVM_margin.png)\n",
        "\n",
        "Lorsque des observations sont linéairement séparables, il existe une infinité de frontières de décision linéaire séparant les deux classes. Le \"meilleur\" choix est de prendre la marge maximale permettant de séparer les données. La distance entre les deux marges est $\\frac{2}{||\\theta||}$. Donc maximiser cette distance entre deux hyperplans revient à minimiser $||\\theta||^2$ sous la contrainte $y_i(\\theta^Tx_i + b) \\geq 1$. \n",
        "\n",
        "\n",
        "Dans le cas non linéairement séparable, la *hinge loss* $\\max\\big(0,y_i(\\theta^Tx_i + b)\\big)$ permet de linéariser la fonction de perte:\n",
        "\n",
        "![](https://upload.wikimedia.org/wikipedia/commons/thumb/b/b5/Hinge_loss_vs_zero_one_loss.svg/1024px-Hinge_loss_vs_zero_one_loss.svg.png)\n",
        "\n",
        "ce qui donne le programme d'optimisation suivant:\n",
        "\n",
        "$$\n",
        "\\frac{1}{n} \\sum_{i=1}^n \\max\\big(0,y_i(\\theta^Tx_i + b)\\big) + \\lambda ||\\theta||^2\n",
        "$$\n",
        "\n",
        "La généralisation au cas non linéaire implique d'introduire des noyaux transformant l'espace de coordonnées des observations.\n"
      ],
      "id": "f6ea4513"
    },
    {
      "cell_type": "code",
      "metadata": {},
      "source": [
        "import requests\n",
        "import shutil\n",
        "\n",
        "url = 'https://dataanalyticspost.com/wp-content/uploads/2018/01/img_svm.png'\n",
        "response = requests.get(url, stream=True)\n",
        "with open('featured.png', 'wb') as out_file:\n",
        "    shutil.copyfileobj(response.raw, out_file)"
      ],
      "id": "13f3f0a1",
      "execution_count": null,
      "outputs": []
    },
    {
      "cell_type": "markdown",
      "metadata": {},
      "source": [
        "![](featured.png)\n",
        "\n",
        "\n",
        "\n",
        "```{=html}\n",
        "</div>\n",
        "```\n",
        "\n",
        "\n",
        ":::\n",
        "\n",
        "\n",
        "## Exercice\n"
      ],
      "id": "d90ade51"
    },
    {
      "cell_type": "code",
      "metadata": {},
      "source": [
        "# packages utiles\n",
        "from sklearn import svm\n",
        "import sklearn.metrics\n",
        "from sklearn.model_selection import train_test_split\n",
        "from sklearn.model_selection import cross_val_score"
      ],
      "id": "a4bc7f27",
      "execution_count": null,
      "outputs": []
    },
    {
      "cell_type": "markdown",
      "metadata": {},
      "source": [
        "::: {.cell .markdown}\n",
        "\n",
        "```{=html}\n",
        "<div class=\"alert alert-success\" role=\"alert\" style=\"color: rgba(0,0,0,.8); background-color: white; margin-top: 1em; margin-bottom: 1em; margin:1.5625emauto; padding:0 .6rem .8rem!important;overflow:hidden; page-break-inside:avoid; border-radius:.25rem; box-shadow:0 .2rem .5rem rgba(0,0,0,.05),0 0 .05rem rgba(0,0,0,.1); transition:color .25s,background-color .25s,border-color .25s ; border-right: 1px solid #dee2e6 ; border-top: 1px solid #dee2e6 ; border-bottom: 1px solid #dee2e6 ; border-left:.2rem solid #3fb618;\">\n",
        "<h3 class=\"alert-heading\"><i class=\"fa fa-pencil\"></i> Exercice 1 : Premier algorithme de classification</h3>\n",
        "```\n",
        "\n",
        "\n",
        "1. Créer une variable *dummy* appelée `y` dont la valeur vaut 1 quand les républicains l'emportent. \n",
        "2. En utilisant la fonction prête à l'emploi nommée `train_test_split` de la librairie `sklearn.model_selection`,\n",
        "créer des échantillons de test (20 % des observations) et d'estimation (80 %) avec comme *features*: `'Unemployment_rate_2019', 'Median_Household_Income_2019', 'Percent of adults with less than a high school diploma, 2015-19', \"Percent of adults with a bachelor's degree or higher, 2015-19\"` et comme *label* la variable `y`. \n",
        "\n",
        "\n",
        "> A column-vector y was passed when a 1d array was expected. Please change the shape of y to (n_samples, ), for example using ravel()\n",
        "\n",
        "*Note : Pour éviter ce warning à chaque fois que vous estimez votre modèle, vous pouvez utiliser `DataFrame[['y']].values.ravel()` plutôt que `DataFrame[['y']]` lorsque vous constituez vos échantillons.*\n",
        "\n",
        "3. Entraîner un classifieur SVM avec comme paramètre de régularisation `C = 1`. Regarder les mesures de performance suivante : `accuracy`, `f1`, `recall` et `precision`.\n",
        "\n",
        "4. Vérifier la matrice de confusion : vous devriez voir que malgré des scores en apparence pas si mauvais, il y a un problème notable. \n",
        "\n",
        "5. Refaire les questions précédentes avec des variables normalisées. Le résultat est-il différent ?\n",
        "\n",
        "6. Changer de variables *x*. Utiliser uniquement le résultat passé du vote démocrate et le revenu (`votes_gop` et `Median_Household_Income_2019`). Regarder les résultats, notamment la matrice de confusion. \n",
        "\n",
        "7. [OPTIONNEL] Faire une 5-fold validation croisée pour déterminer le paramètre *C* idéal. \n",
        "\n",
        "\n",
        "```{=html}\n",
        "</div>\n",
        "```\n",
        "\n",
        ":::\n"
      ],
      "id": "3fecbebf"
    },
    {
      "cell_type": "code",
      "metadata": {},
      "source": [
        "# 1. Création de la dummy y de victoire des républicains\n",
        "votes['y'] = (votes['votes_gop'] > votes['votes_dem']).astype(int)"
      ],
      "id": "4dec44fc",
      "execution_count": null,
      "outputs": []
    },
    {
      "cell_type": "code",
      "metadata": {},
      "source": [
        "#2. Création des échantillons d'entraînement et de validation\n",
        "xvars = ['Unemployment_rate_2019', 'Median_Household_Income_2019', 'Percent of adults with less than a high school diploma, 2015-19', \"Percent of adults with a bachelor's degree or higher, 2015-19\"]\n",
        "\n",
        "df = votes[[\"y\"] + xvars]\n",
        "\n",
        "X_train, X_test, y_train, y_test = train_test_split(\n",
        "    df[xvars],\n",
        "    df[['y']].values.ravel(), test_size=0.2, random_state=0\n",
        ")\n",
        "#X_train.head()\n",
        "#y_test\n"
      ],
      "id": "b6f9d328",
      "execution_count": null,
      "outputs": []
    },
    {
      "cell_type": "code",
      "metadata": {},
      "source": [
        "# 3. Entraînement du modèle et performances\n",
        "clf = svm.SVC(kernel='linear', C=1).fit(X_train, y_train)\n",
        "y_pred = clf.predict(X_test)\n",
        "\n",
        "sc_accuracy = sklearn.metrics.accuracy_score(y_pred, y_test)\n",
        "sc_f1 = sklearn.metrics.f1_score(y_pred, y_test)\n",
        "sc_recall = sklearn.metrics.recall_score(y_pred, y_test)\n",
        "sc_precision = sklearn.metrics.precision_score(y_pred, y_test)\n",
        "\n",
        "#print(sc_accuracy)\n",
        "#print(sc_f1)\n",
        "#print(sc_recall)\n",
        "#print(sc_precision)"
      ],
      "id": "c4fa52ae",
      "execution_count": null,
      "outputs": []
    },
    {
      "cell_type": "markdown",
      "metadata": {},
      "source": [
        "A l'issue de la question 3,\n",
        "le classifieur avec `C = 1`\n",
        "devrait avoir les performances suivantes:\n"
      ],
      "id": "359d9fe0"
    },
    {
      "cell_type": "code",
      "metadata": {},
      "source": [
        "#| output: asis\n",
        "\n",
        "out = pd.DataFrame.from_dict({\"Accuracy\": [sc_accuracy], \"Recall\": [sc_recall],\n",
        "                        \"Precision\": [sc_precision], \"F1\": [sc_f1]}, orient = \"index\", columns = [\"Score\"])\n",
        "print(out.to_markdown())"
      ],
      "id": "6b50e0d1",
      "execution_count": null,
      "outputs": []
    },
    {
      "cell_type": "code",
      "metadata": {},
      "source": [
        "# 4. Matrice de confusion\n",
        "predictions = clf.predict(X_test)\n",
        "cm = sklearn.metrics.confusion_matrix(y_test, predictions, labels=clf.classes_)\n",
        "disp = sklearn.metrics.ConfusionMatrixDisplay(\n",
        "            confusion_matrix=cm,\n",
        "            display_labels=clf.classes_\n",
        "       )\n",
        "disp.plot()\n",
        "\n",
        "#Réponse : Notre classifieur manque totalement les labels 0, qui sont minoritaires.\n",
        "#Une raison possible ? L'échelle des variables: le revenu a une\n",
        "#distribution qui peut écraser celle des autres variables,\n",
        "#dans un modèle linéaire. Il faut donc, a minima, \n",
        "#standardiser les variables.\n",
        "\n",
        "plt.savefig(\"confusion_matrix.png\")"
      ],
      "id": "c3b9b491",
      "execution_count": null,
      "outputs": []
    },
    {
      "cell_type": "markdown",
      "metadata": {},
      "source": [
        "La matrice de confusion associée\n",
        "prend cette forme:\n",
        "\n",
        "![](confusion_matrix.png)\n"
      ],
      "id": "2ea1a612"
    },
    {
      "cell_type": "code",
      "metadata": {},
      "source": [
        "# 5. Refaire les questions précédentes avec des variables normalisées.\n",
        "import sklearn.preprocessing as preprocessing\n",
        "\n",
        "X = df[xvars]\n",
        "y = df[['y']]\n",
        "scaler = preprocessing.StandardScaler().fit(X) #Ici on standardise\n",
        "X = scaler.transform(X) #Ici on standardise\n",
        "\n",
        "X_train, X_test, y_train, y_test = train_test_split(\n",
        "    X,\n",
        "    y.values.ravel(), test_size=0.2, random_state=0\n",
        ")\n",
        "\n",
        "clf = svm.SVC(kernel='linear', C=1).fit(X_train, y_train)\n",
        "predictions = clf.predict(X_test)\n",
        "cm = sklearn.metrics.confusion_matrix(y_test, predictions, labels=clf.classes_)\n",
        "disp = sklearn.metrics.ConfusionMatrixDisplay(\n",
        "            confusion_matrix=cm,\n",
        "            display_labels=clf.classes_\n",
        "       )\n",
        "disp.plot()\n",
        "\n",
        "#Réponse : Non, standardiser les variables n'apporte pas de gain\n",
        "# Il faut donc aller plus loin : le problème ne vient pas de l'échelle mais du choix des variables. \n",
        "# C'est pour cette raison que l'étape de sélection de variable est cruciale.\n",
        "\n",
        "plt.savefig(\"confusion_matrix2.png\")"
      ],
      "id": "8fd87dde",
      "execution_count": null,
      "outputs": []
    },
    {
      "cell_type": "markdown",
      "metadata": {},
      "source": [
        "![](confusion_matrix2.png)\n",
        "\n",
        "\n",
        "A l'issue de la question 6,\n",
        "le nouveau classifieur avec devrait avoir les performances suivantes :\n"
      ],
      "id": "0251392f"
    },
    {
      "cell_type": "code",
      "metadata": {},
      "source": [
        "#| output: asis\n",
        "\n",
        "out = pd.DataFrame.from_dict({\"Accuracy\": [sc_accuracy], \"Recall\": [sc_recall],\n",
        "                        \"Precision\": [sc_precision], \"F1\": [sc_f1]}, orient = \"index\", columns = [\"Score\"])\n",
        "print(out.to_markdown())"
      ],
      "id": "91ce1497",
      "execution_count": null,
      "outputs": []
    },
    {
      "cell_type": "code",
      "metadata": {},
      "source": [
        "# 6. Refaire les questions en changeant la variable X.\n",
        "votes['y'] = (votes['votes_gop'] > votes['votes_dem']).astype(int)\n",
        "df = votes[[\"y\", \"share_2016_republican\", 'Median_Household_Income_2019']]\n",
        "tempdf = df.dropna(how = \"any\")\n",
        "\n",
        "X = votes[['share_2016_republican', 'Median_Household_Income_2019']]\n",
        "y = tempdf[['y']]\n",
        "scaler = preprocessing.StandardScaler().fit(X)\n",
        "X = scaler.transform(X)\n",
        "\n",
        "X_train, X_test, y_train, y_test = train_test_split(\n",
        "    X,\n",
        "    y.values.ravel(), test_size=0.2, random_state=0\n",
        ")\n",
        "\n",
        "clf = svm.SVC(kernel='linear', C=1).fit(X_train, y_train)\n",
        "y_pred = clf.predict(X_test)\n",
        "\n",
        "sc_accuracy = sklearn.metrics.accuracy_score(y_pred, y_test)\n",
        "sc_f1 = sklearn.metrics.f1_score(y_pred, y_test)\n",
        "sc_recall = sklearn.metrics.recall_score(y_pred, y_test)\n",
        "sc_precision = sklearn.metrics.precision_score(y_pred, y_test)\n",
        "\n",
        "#print(sc_accuracy)\n",
        "#print(sc_f1)\n",
        "#print(sc_recall)\n",
        "#print(sc_precision)\n",
        "\n",
        "predictions = clf.predict(X_test)\n",
        "cm = sklearn.metrics.confusion_matrix(y_test, predictions, labels=clf.classes_)\n",
        "disp = sklearn.metrics.ConfusionMatrixDisplay(\n",
        "            confusion_matrix=cm,\n",
        "            display_labels=clf.classes_\n",
        "       )\n",
        "disp.plot()\n",
        "# On obtient un résultat beaucoup plus cohérent.\n",
        "\n",
        "plt.savefig(\"confusion_matrix3.png\")"
      ],
      "id": "e43f266d",
      "execution_count": null,
      "outputs": []
    },
    {
      "cell_type": "markdown",
      "metadata": {},
      "source": [
        "Et la matrice de confusion associée:\n",
        "\n",
        "![](confusion_matrix3.png)\n"
      ],
      "id": "7212e0b4"
    },
    {
      "cell_type": "code",
      "metadata": {},
      "source": [
        "# TODO : correction à rédiger."
      ],
      "id": "f76ba6e6",
      "execution_count": null,
      "outputs": []
    }
  ],
  "metadata": {
    "kernelspec": {
      "name": "python3",
      "language": "python",
      "display_name": "Python 3 (ipykernel)"
    }
  },
  "nbformat": 4,
  "nbformat_minor": 5
}