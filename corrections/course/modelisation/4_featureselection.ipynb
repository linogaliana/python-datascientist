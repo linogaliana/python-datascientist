{
 "cells": [
  {
   "cell_type": "markdown",
   "id": "55c8d9e0",
   "metadata": {},
   "source": [
    "#  Sélection de variables : une introduction\n",
    "\n",
    "\n"
   ]
  },
  {
   "cell_type": "markdown",
   "id": "34167fd5",
   "metadata": {},
   "source": [
    "<a href=\"https://github.com/linogaliana/python-datascientist/blob/master//__w/python-datascientist/python-datascientist/notebooks/course/modelisation/4_featureselection.ipynb\" class=\"github\"><i class=\"fab fa-github\"></i></a>\n",
    "[![Download](https://img.shields.io/badge/Download-Notebook-important?logo=Jupyter)](https://downgit.github.io/#/home?url=https://github.com/linogaliana/python-datascientist/blob/master//__w/python-datascientist/python-datascientist/notebooks/course/modelisation/4_featureselection.ipynb)\n",
    "[![nbviewer](https://img.shields.io/badge/Visualize-nbviewer-blue?logo=Jupyter)](https://nbviewer.jupyter.org/github/linogaliana/python-datascientist/blob/master//__w/python-datascientist/python-datascientist/notebooks/course/modelisation/4_featureselection.ipynb)\n",
    "[![Onyxia](https://img.shields.io/badge/SSPcloud-Tester%20via%20SSP--cloud-informational&color=yellow?logo=Python)](https://datalab.sspcloud.fr/launcher/inseefrlab-helm-charts-datascience/jupyter?autoLaunch=true&onyxia.friendlyName=%C2%ABpython-datascience%C2%BB&init.personalInit=%C2%ABhttps%3A%2F%2Fraw.githubusercontent.com%2Flinogaliana%2Fpython-datascientist%2Fmaster%2Fsspcloud%2Finit-jupyter.sh%C2%BB&init.personalInitArgs=%C2%ABmodelisation%204_featureselection%C2%BB&security.allowlist.enabled=false)\n",
    "<br>\n",
    "[![Binder](https://img.shields.io/badge/Launch-Binder-E66581.svg?logo=data:image/png;base64,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)](https://mybinder.org/v2/gh/linogaliana/python-datascientist/master?filepath=/__w/python-datascientist/python-datascientist/notebooks/course/modelisation/4_featureselection.ipynb)\n",
    "[![Open In Colab](https://colab.research.google.com/assets/colab-badge.svg)](http://colab.research.google.com/github/linogaliana/python-datascientist/blob/master//__w/python-datascientist/python-datascientist/notebooks/course/modelisation/4_featureselection.ipynb)\n",
    "[![githubdev](https://open.vscode.dev/badges/open-in-vscode.svg)](https://github.dev/linogaliana/python-datascientist//__w/python-datascientist/python-datascientist/notebooks/course/modelisation/4_featureselection.ipynb)"
   ]
  },
  {
   "cell_type": "markdown",
   "id": "80f1dc3a",
   "metadata": {},
   "source": [
    "Pour illustrer le travail de données nécessaire pour faire de la sélection de variables,\n",
    "nous allons partir du même jeu de données que précédemment,\n",
    "c'est-à-dire les résultats des élections US 2020 présentés dans l'[introduction\n",
    "de cette partie](https://linogaliana-teaching.netlify.app/modelisation/): les données de vote aux élections présidentielles US\n",
    "croisées à des variables socio-démographiques.\n",
    "Le code \n",
    "est disponible [sur Github](https://github.com/linogaliana/python-datascientist/blob/master/content/course/modelisation/get_data.py)."
   ]
  },
  {
   "cell_type": "markdown",
   "id": "e3dc6cc7",
   "metadata": {},
   "source": [
    "Le code \n",
    "est disponible [sur Github](https://github.com/linogaliana/python-datascientist/blob/master/content/course/modelisation/get_data.py).\n"
   ]
  },
  {
   "cell_type": "code",
   "execution_count": null,
   "id": "be4d1aa1",
   "metadata": {},
   "outputs": [],
   "source": [
    "#!pip install geopandas\n",
    "\n",
    "import requests\n",
    "\n",
    "url = 'https://raw.githubusercontent.com/linogaliana/python-datascientist/master/content/course/modelisation/get_data.py'\n",
    "r = requests.get(url, allow_redirects=True)\n",
    "open('getdata.py', 'wb').write(r.content)"
   ]
  },
  {
   "cell_type": "markdown",
   "id": "7c02164b",
   "metadata": {},
   "source": [
    "```\n",
    "## 3585\n",
    "```"
   ]
  },
  {
   "cell_type": "code",
   "execution_count": null,
   "id": "6368a6a5",
   "metadata": {},
   "outputs": [],
   "source": [
    "import getdata\n",
    "votes = getdata.create_votes_dataframes()"
   ]
  },
  {
   "cell_type": "markdown",
   "id": "79a80b48",
   "metadata": {},
   "source": [
    "```\n",
    "## Error in py_call_impl(callable, dots$args, dots$keywords): AttributeError: module 'getdata' has no attribute 'create_votes_dataframes'\n",
    "## \n",
    "## Detailed traceback: \n",
    "##   File \"<string>\", line 1, in <module>\n",
    "```\n",
    "\n",
    "Jusqu'à présent, nous avons supposé que les variables utiles à la prévision du\n",
    "vote Républicain étaient connues du modélisateur. Nous n'avons ainsi exploité qu'une partie\n",
    "limitée des variables disponibles dans nos données. Néanmoins, outre le fléau\n",
    "computationnel que représenterait la construction d'un modèle avec un grand\n",
    "nombre de variables, le choix d'un nombre restreint de variables\n",
    "(modèle parcimonieux) limite le risque de sur-apprentissage.\n",
    "\n",
    "Comment, dès-lors, choisir le bon nombre de variables et la meilleure\n",
    "combinaison de ces variables ? Il existe de multiples méthodes, parmi lesquelles :\n",
    "\n",
    "* se fonder sur des critères statistiques de performance qui pénalisent les\n",
    "modèles non parcimonieux. Par exemple, le BIC.\n",
    "* techniques de *backward elimination*.\n",
    "* construire des modèles pour lesquels la statistique d'intérêt pénalise l'absence\n",
    "de parcimonie (ce que l'on va souhaiter faire ici). \n",
    "\n",
    "# Principe du LASSO\n",
    "\n",
    "## Principe général\n",
    "\n",
    "La classe des modèles de *feature selection* est ainsi très vaste et regroupe\n",
    "un ensemble très diverse de modèles. Nous allons nous focaliser sur le LASSO\n",
    "(*Least Absolute Shrinkage and Selection Operator*)\n",
    "qui est une extension de la régression linéaire qui vise à sélectionner des\n",
    "modèles *sparses*. Ce type de modèle est central dans le champ du \n",
    "*Compressed sensing* (où on emploie plutôt le terme \n",
    "de *L1-regularization* que de LASSO). Le LASSO est un cas particulier des\n",
    "régressions elastic-net dont un autre cas fameux est la régression *ridge*.\n",
    "Contrairement à la régression linéaire classique, elles fonctionnent également\n",
    "dans un cadre où $p>N$, c'est à dire où le nombre de régresseurs est très grand puisque supérieur\n",
    "au nombre d'observations.\n",
    "\n",
    "## Pénalisation\n",
    "\n",
    "En adoptant le principe d'une fonction objectif pénalisée,\n",
    "le LASSO permet de fixer un certain nombre de coefficients à 0.\n",
    "Les variables dont la norme est non nulle passent ainsi le test de sélection. \n",
    "\n",
    "Le LASSO est un programme d'optimisation sous contrainte. On cherche à trouver l'estimateur $\\beta$ qui minimise l'erreur quadratique (régression linéaire) sous une contrainte additionnelle régularisant les paramètres:\n",
    "$$\n",
    "\\min_{\\beta} \\frac{1}{2}\\mathbb{E}\\bigg( \\big( X\\beta - y  \\big)^2 \\bigg) \\\\\n",
    "\\text{s.t. } \\sum_{j=1}^p |\\beta_j| \\leq t\n",
    "$$\n",
    "Ce programme se reformule grâce au Lagrangien est permet ainsi d'obtenir un programme de minimisation plus maniable : \n",
    "$$\n",
    "\\beta^{\\text{LASSO}} = \\arg \\min_{\\beta} \\frac{1}{2}\\mathbb{E}\\bigg( \\big( X\\beta - y  \\big)^2 \\bigg) + \\alpha \\sum_{j=1}^p |\\beta_j| = \\arg \\min_{\\beta} ||y-X\\beta||_{2}^{2} + \\alpha ||\\beta||_1\n",
    "$$\n",
    "où $\\lambda$ est une réécriture de la régularisation précédente. \n",
    "\n",
    "<!-- warning: sélection de variables corrélées -->\n",
    "\n",
    "## Première régression LASSO\n",
    "\n",
    "Avant de se lancer dans les exercices, on va éliminer quelques colonnes redondantes, \n",
    "celles qui concernent les votes des partis concurrents (forcément très\n",
    "corrélés au vote Républicain...)  :\n"
   ]
  },
  {
   "cell_type": "code",
   "execution_count": null,
   "id": "a9418bd5",
   "metadata": {},
   "outputs": [],
   "source": [
    "df2 = votes.loc[:,~votes.columns.str.endswith(\n",
    "  ('_democrat','_green','_other', 'per_point_diff', 'per_dem')\n",
    "  )]"
   ]
  },
  {
   "cell_type": "markdown",
   "id": "dffef894",
   "metadata": {},
   "source": [
    "```\n",
    "## Error in py_call_impl(callable, dots$args, dots$keywords): NameError: name 'votes' is not defined\n",
    "## \n",
    "## Detailed traceback: \n",
    "##   File \"<string>\", line 1, in <module>\n",
    "```"
   ]
  },
  {
   "cell_type": "markdown",
   "id": "006b19c0",
   "metadata": {},
   "source": [
    "**Exercice 1 : Premier LASSO**\n"
   ]
  },
  {
   "cell_type": "code",
   "execution_count": null,
   "id": "dd531e13",
   "metadata": {},
   "outputs": [],
   "source": [
    "# packages utiles\n",
    "import numpy as np\n",
    "from sklearn.svm import LinearSVC\n",
    "from sklearn.feature_selection import SelectFromModel\n",
    "from sklearn.model_selection import train_test_split\n",
    "from sklearn.preprocessing import StandardScaler\n",
    "from sklearn.linear_model import Lasso\n",
    "import sklearn.metrics\n",
    "from sklearn.linear_model import LinearRegression\n",
    "import matplotlib.cm as cm\n",
    "import matplotlib.pyplot as plt\n",
    "from sklearn.linear_model import lasso_path\n",
    "import seaborn as sns"
   ]
  },
  {
   "cell_type": "markdown",
   "id": "782c9bc1",
   "metadata": {},
   "source": [
    "1. Préparez les variables à utiliser.\n",
    "* Ne garder que les colonnes numériques (idéalement on transformerait\n",
    "les variables non numériques en numériques)\n",
    "* Remplacer les valeurs infinies par des NaN\n",
    "* Standardiser les variables avec `StandardScaler`\n"
   ]
  },
  {
   "cell_type": "code",
   "execution_count": null,
   "id": "95e9a4d2",
   "metadata": {},
   "outputs": [],
   "source": [
    "#1. Garder uniquement les variables numériques et standardiser.\n",
    "df2 = votes.loc[:,~votes.columns.str.endswith(('_democrat','_green','_other', 'per_point_diff', 'per_dem'))]"
   ]
  },
  {
   "cell_type": "markdown",
   "id": "f2923771",
   "metadata": {},
   "source": [
    "```\n",
    "## Error in py_call_impl(callable, dots$args, dots$keywords): NameError: name 'votes' is not defined\n",
    "## \n",
    "## Detailed traceback: \n",
    "##   File \"<string>\", line 1, in <module>\n",
    "```"
   ]
  },
  {
   "cell_type": "code",
   "execution_count": null,
   "id": "bc12939f",
   "metadata": {},
   "outputs": [],
   "source": [
    "df2 = df2.select_dtypes(include=np.number)"
   ]
  },
  {
   "cell_type": "markdown",
   "id": "bc88c08d",
   "metadata": {},
   "source": [
    "```\n",
    "## Error in py_call_impl(callable, dots$args, dots$keywords): NameError: name 'df2' is not defined\n",
    "## \n",
    "## Detailed traceback: \n",
    "##   File \"<string>\", line 1, in <module>\n",
    "```"
   ]
  },
  {
   "cell_type": "code",
   "execution_count": null,
   "id": "5a23da6d",
   "metadata": {},
   "outputs": [],
   "source": [
    "df2.replace([np.inf, -np.inf], np.nan, inplace=True)"
   ]
  },
  {
   "cell_type": "markdown",
   "id": "b79e1a80",
   "metadata": {},
   "source": [
    "```\n",
    "## Error in py_call_impl(callable, dots$args, dots$keywords): NameError: name 'df2' is not defined\n",
    "## \n",
    "## Detailed traceback: \n",
    "##   File \"<string>\", line 1, in <module>\n",
    "```"
   ]
  },
  {
   "cell_type": "code",
   "execution_count": null,
   "id": "3cc8b21e",
   "metadata": {},
   "outputs": [],
   "source": [
    "df2 = df2.fillna(0)"
   ]
  },
  {
   "cell_type": "markdown",
   "id": "21fb9d10",
   "metadata": {},
   "source": [
    "```\n",
    "## Error in py_call_impl(callable, dots$args, dots$keywords): NameError: name 'df2' is not defined\n",
    "## \n",
    "## Detailed traceback: \n",
    "##   File \"<string>\", line 1, in <module>\n",
    "```"
   ]
  },
  {
   "cell_type": "code",
   "execution_count": null,
   "id": "74250d98",
   "metadata": {},
   "outputs": [],
   "source": [
    "col_names = df2.loc[:, df2.columns != 'per_gop'].columns.values"
   ]
  },
  {
   "cell_type": "markdown",
   "id": "bc0a3648",
   "metadata": {},
   "source": [
    "```\n",
    "## Error in py_call_impl(callable, dots$args, dots$keywords): NameError: name 'df2' is not defined\n",
    "## \n",
    "## Detailed traceback: \n",
    "##   File \"<string>\", line 1, in <module>\n",
    "```"
   ]
  },
  {
   "cell_type": "code",
   "execution_count": null,
   "id": "e71a4f5d",
   "metadata": {},
   "outputs": [],
   "source": [
    "features = df2[col_names]"
   ]
  },
  {
   "cell_type": "markdown",
   "id": "19063c8e",
   "metadata": {},
   "source": [
    "```\n",
    "## Error in py_call_impl(callable, dots$args, dots$keywords): NameError: name 'df2' is not defined\n",
    "## \n",
    "## Detailed traceback: \n",
    "##   File \"<string>\", line 1, in <module>\n",
    "```"
   ]
  },
  {
   "cell_type": "code",
   "execution_count": null,
   "id": "cd95b43d",
   "metadata": {},
   "outputs": [],
   "source": [
    "features = StandardScaler().fit(features.values).transform(features.values)"
   ]
  },
  {
   "cell_type": "markdown",
   "id": "a3bd3dfd",
   "metadata": {},
   "source": [
    "```\n",
    "## Error in py_call_impl(callable, dots$args, dots$keywords): NameError: name 'features' is not defined\n",
    "## \n",
    "## Detailed traceback: \n",
    "##   File \"<string>\", line 1, in <module>\n",
    "```"
   ]
  },
  {
   "cell_type": "code",
   "execution_count": null,
   "id": "473a0b60",
   "metadata": {},
   "outputs": [],
   "source": [
    "df2[col_names] = features\n",
    "#df2.head()"
   ]
  },
  {
   "cell_type": "markdown",
   "id": "c0df0883",
   "metadata": {},
   "source": [
    "```\n",
    "## Error in py_call_impl(callable, dots$args, dots$keywords): NameError: name 'features' is not defined\n",
    "## \n",
    "## Detailed traceback: \n",
    "##   File \"<string>\", line 1, in <module>\n",
    "```\n",
    "\n",
    "2. On cherche toujours à prédire la variable `per_gop`. Créez un échantillon d'entraînement et un échantillon test. \n"
   ]
  },
  {
   "cell_type": "code",
   "execution_count": null,
   "id": "f5463553",
   "metadata": {},
   "outputs": [],
   "source": [
    "#2. Echantillon d'entraînement et échantillon test\n",
    "X_train, X_test, y_train, y_test = train_test_split(\n",
    "    df2.drop([\"per_gop\"], axis = 1),\n",
    "    100*df2[['per_gop']].values.ravel(), test_size=0.2, random_state=0\n",
    ")"
   ]
  },
  {
   "cell_type": "markdown",
   "id": "8cbcaf35",
   "metadata": {},
   "source": [
    "```\n",
    "## Error in py_call_impl(callable, dots$args, dots$keywords): NameError: name 'df2' is not defined\n",
    "## \n",
    "## Detailed traceback: \n",
    "##   File \"<string>\", line 2, in <module>\n",
    "```"
   ]
  },
  {
   "cell_type": "markdown",
   "id": "2b2df2ab",
   "metadata": {},
   "source": [
    "3. Estimer un modèle LASSO pénalisé avec $alpha = 0.1$. Afficher les valeurs des coefficients. Quelles variables ont une valeur non nulle ?\n",
    "\n",
    "Les variables sélectionnées sont :\n"
   ]
  },
  {
   "cell_type": "code",
   "execution_count": null,
   "id": "1c7c9679",
   "metadata": {},
   "outputs": [],
   "source": [
    "#3. Estimer un modèle LASSO et afficher les valeurs des coefficients\n",
    "lasso1 = Lasso(fit_intercept=True,normalize=False, alpha = 0.1).fit(X_train,y_train)\n",
    "\n",
    "#np.abs(lasso1.coef_)"
   ]
  },
  {
   "cell_type": "markdown",
   "id": "86dca0a9",
   "metadata": {},
   "source": [
    "```\n",
    "## Error in py_call_impl(callable, dots$args, dots$keywords): ValueError: Input contains NaN, infinity or a value too large for dtype('float64').\n",
    "## \n",
    "## Detailed traceback: \n",
    "##   File \"<string>\", line 1, in <module>\n",
    "##   File \"/opt/conda/envs/python-ENSAE/lib/python3.9/site-packages/sklearn/linear_model/_coordinate_descent.py\", line 935, in fit\n",
    "##     X, y = self._validate_data(\n",
    "##   File \"/opt/conda/envs/python-ENSAE/lib/python3.9/site-packages/sklearn/base.py\", line 581, in _validate_data\n",
    "##     X, y = check_X_y(X, y, **check_params)\n",
    "##   File \"/opt/conda/envs/python-ENSAE/lib/python3.9/site-packages/sklearn/utils/validation.py\", line 979, in check_X_y\n",
    "##     y = _check_y(y, multi_output=multi_output, y_numeric=y_numeric)\n",
    "##   File \"/opt/conda/envs/python-ENSAE/lib/python3.9/site-packages/sklearn/utils/validation.py\", line 989, in _check_y\n",
    "##     y = check_array(\n",
    "##   File \"/opt/conda/envs/python-ENSAE/lib/python3.9/site-packages/sklearn/utils/validation.py\", line 800, in check_array\n",
    "##     _assert_all_finite(array, allow_nan=force_all_finite == \"allow-nan\")\n",
    "##   File \"/opt/conda/envs/python-ENSAE/lib/python3.9/site-packages/sklearn/utils/validation.py\", line 114, in _assert_all_finite\n",
    "##     raise ValueError(\n",
    "```"
   ]
  },
  {
   "cell_type": "code",
   "execution_count": null,
   "id": "b7e0b47c",
   "metadata": {},
   "outputs": [],
   "source": [
    "features_selec = df2.select_dtypes(include=np.number).drop(\"per_gop\", axis = 1).columns[np.abs(lasso1.coef_)>0].tolist()"
   ]
  },
  {
   "cell_type": "markdown",
   "id": "49d57df0",
   "metadata": {},
   "source": [
    "```\n",
    "## Error in py_call_impl(callable, dots$args, dots$keywords): NameError: name 'df2' is not defined\n",
    "## \n",
    "## Detailed traceback: \n",
    "##   File \"<string>\", line 1, in <module>\n",
    "```"
   ]
  },
  {
   "cell_type": "code",
   "execution_count": null,
   "id": "53d1031c",
   "metadata": {},
   "outputs": [],
   "source": [
    "features_selec\n",
    "# Le modèle est assez parcimonieux puisque \n",
    "# un sous-échantillon de variables sont sélectionnées "
   ]
  },
  {
   "cell_type": "markdown",
   "id": "93fbc6c8",
   "metadata": {},
   "source": [
    "```\n",
    "## Error in py_call_impl(callable, dots$args, dots$keywords): NameError: name 'features_selec' is not defined\n",
    "## \n",
    "## Detailed traceback: \n",
    "##   File \"<string>\", line 1, in <module>\n",
    "```\n",
    "\n",
    "Certaines variables font sens, comme les variables d'éducation par exemple. Notamment, un des meilleurs prédicteurs pour le score des Républicains en 2020 est... le score des Républicains (et mécaniquement des démocrates) en 2016.\n",
    "\n",
    "Par ailleurs, on sélectionne des variables redondantes. Une phase plus approfondie de nettoyage des données serait nécessaire ;\n",
    "\n",
    "4. Montrer que les variables sélectionnées sont parfois très corrélées. \n"
   ]
  },
  {
   "cell_type": "code",
   "execution_count": null,
   "id": "9d315492",
   "metadata": {},
   "outputs": [],
   "source": [
    "#4. Corrélations entre les variables sélectionnées\n",
    "corr = df2[features_selec].corr()"
   ]
  },
  {
   "cell_type": "markdown",
   "id": "9df22c9a",
   "metadata": {},
   "source": [
    "```\n",
    "## Error in py_call_impl(callable, dots$args, dots$keywords): NameError: name 'df2' is not defined\n",
    "## \n",
    "## Detailed traceback: \n",
    "##   File \"<string>\", line 1, in <module>\n",
    "```"
   ]
  },
  {
   "cell_type": "code",
   "execution_count": null,
   "id": "a348f908",
   "metadata": {},
   "outputs": [],
   "source": [
    "plt.figure()\n",
    "p = corr.style.background_gradient(cmap='coolwarm', axis=None).set_precision(2)"
   ]
  },
  {
   "cell_type": "markdown",
   "id": "e4d83610",
   "metadata": {},
   "source": [
    "```\n",
    "## Error in py_call_impl(callable, dots$args, dots$keywords): NameError: name 'corr' is not defined\n",
    "## \n",
    "## Detailed traceback: \n",
    "##   File \"<string>\", line 1, in <module>\n",
    "```"
   ]
  },
  {
   "cell_type": "code",
   "execution_count": null,
   "id": "25779fa1",
   "metadata": {
    "lines_to_next_cell": 2
   },
   "outputs": [],
   "source": [
    "p\n",
    "plt.savefig(\"correlationvar.png\")"
   ]
  },
  {
   "cell_type": "markdown",
   "id": "e1a6e9e0",
   "metadata": {},
   "source": [
    "```r\n",
    "knitr::include_graphics(\"correlationvar.png\")\n",
    "```\n"
   ]
  },
  {
   "cell_type": "markdown",
   "id": "16bc06da",
   "metadata": {},
   "source": [
    "5. Comparer la performance de ce modèle parcimonieux avec celle d'un modèle avec plus de variables \n"
   ]
  },
  {
   "cell_type": "code",
   "execution_count": null,
   "id": "928e75bb",
   "metadata": {},
   "outputs": [],
   "source": [
    "#5. Faire une régression linéaire parcimonieuse et non parcimonieuse\n",
    "\n",
    "## Régression parcimonieuse\n",
    "y_pred_parci = lasso1.predict(X_test)"
   ]
  },
  {
   "cell_type": "markdown",
   "id": "242411d3",
   "metadata": {},
   "source": [
    "```\n",
    "## Error in py_call_impl(callable, dots$args, dots$keywords): NameError: name 'lasso1' is not defined\n",
    "## \n",
    "## Detailed traceback: \n",
    "##   File \"<string>\", line 1, in <module>\n",
    "```"
   ]
  },
  {
   "cell_type": "code",
   "execution_count": null,
   "id": "c339a1ce",
   "metadata": {},
   "outputs": [],
   "source": [
    "rmse_parci = sklearn.metrics.mean_squared_error(y_test, y_pred_parci, squared = False)"
   ]
  },
  {
   "cell_type": "markdown",
   "id": "737ee6d0",
   "metadata": {},
   "source": [
    "```\n",
    "## Error in py_call_impl(callable, dots$args, dots$keywords): NameError: name 'y_pred_parci' is not defined\n",
    "## \n",
    "## Detailed traceback: \n",
    "##   File \"<string>\", line 1, in <module>\n",
    "```"
   ]
  },
  {
   "cell_type": "code",
   "execution_count": null,
   "id": "72fe48d2",
   "metadata": {},
   "outputs": [],
   "source": [
    "print(\"rmse_parci : \", rmse_parci)"
   ]
  },
  {
   "cell_type": "markdown",
   "id": "910eade0",
   "metadata": {},
   "source": [
    "```\n",
    "## Error in py_call_impl(callable, dots$args, dots$keywords): NameError: name 'rmse_parci' is not defined\n",
    "## \n",
    "## Detailed traceback: \n",
    "##   File \"<string>\", line 1, in <module>\n",
    "```"
   ]
  },
  {
   "cell_type": "code",
   "execution_count": null,
   "id": "6c4643fd",
   "metadata": {},
   "outputs": [],
   "source": [
    "rsq_parci = sklearn.metrics.r2_score(y_test, y_pred_parci) "
   ]
  },
  {
   "cell_type": "markdown",
   "id": "333afaa2",
   "metadata": {},
   "source": [
    "```\n",
    "## Error in py_call_impl(callable, dots$args, dots$keywords): NameError: name 'y_pred_parci' is not defined\n",
    "## \n",
    "## Detailed traceback: \n",
    "##   File \"<string>\", line 1, in <module>\n",
    "```"
   ]
  },
  {
   "cell_type": "code",
   "execution_count": null,
   "id": "4543398c",
   "metadata": {},
   "outputs": [],
   "source": [
    "print(\"rsq_parci : \", rsq_parci)\n",
    "\n",
    "## Régression non parcimonieuse"
   ]
  },
  {
   "cell_type": "markdown",
   "id": "19d8da52",
   "metadata": {},
   "source": [
    "```\n",
    "## Error in py_call_impl(callable, dots$args, dots$keywords): NameError: name 'rsq_parci' is not defined\n",
    "## \n",
    "## Detailed traceback: \n",
    "##   File \"<string>\", line 1, in <module>\n",
    "```"
   ]
  },
  {
   "cell_type": "code",
   "execution_count": null,
   "id": "c763f807",
   "metadata": {},
   "outputs": [],
   "source": [
    "ols = LinearRegression().fit(X_train, y_train)"
   ]
  },
  {
   "cell_type": "markdown",
   "id": "d38e7aec",
   "metadata": {},
   "source": [
    "```\n",
    "## Error in py_call_impl(callable, dots$args, dots$keywords): ValueError: Input contains NaN, infinity or a value too large for dtype('float64').\n",
    "## \n",
    "## Detailed traceback: \n",
    "##   File \"<string>\", line 1, in <module>\n",
    "##   File \"/opt/conda/envs/python-ENSAE/lib/python3.9/site-packages/sklearn/linear_model/_base.py\", line 662, in fit\n",
    "##     X, y = self._validate_data(\n",
    "##   File \"/opt/conda/envs/python-ENSAE/lib/python3.9/site-packages/sklearn/base.py\", line 581, in _validate_data\n",
    "##     X, y = check_X_y(X, y, **check_params)\n",
    "##   File \"/opt/conda/envs/python-ENSAE/lib/python3.9/site-packages/sklearn/utils/validation.py\", line 979, in check_X_y\n",
    "##     y = _check_y(y, multi_output=multi_output, y_numeric=y_numeric)\n",
    "##   File \"/opt/conda/envs/python-ENSAE/lib/python3.9/site-packages/sklearn/utils/validation.py\", line 989, in _check_y\n",
    "##     y = check_array(\n",
    "##   File \"/opt/conda/envs/python-ENSAE/lib/python3.9/site-packages/sklearn/utils/validation.py\", line 800, in check_array\n",
    "##     _assert_all_finite(array, allow_nan=force_all_finite == \"allow-nan\")\n",
    "##   File \"/opt/conda/envs/python-ENSAE/lib/python3.9/site-packages/sklearn/utils/validation.py\", line 114, in _assert_all_finite\n",
    "##     raise ValueError(\n",
    "```"
   ]
  },
  {
   "cell_type": "code",
   "execution_count": null,
   "id": "248d95f0",
   "metadata": {},
   "outputs": [],
   "source": [
    "y_pred_nonparci = ols.predict(X_test)"
   ]
  },
  {
   "cell_type": "markdown",
   "id": "7fbaf8b8",
   "metadata": {},
   "source": [
    "```\n",
    "## Error in py_call_impl(callable, dots$args, dots$keywords): NameError: name 'ols' is not defined\n",
    "## \n",
    "## Detailed traceback: \n",
    "##   File \"<string>\", line 1, in <module>\n",
    "```"
   ]
  },
  {
   "cell_type": "code",
   "execution_count": null,
   "id": "dc285666",
   "metadata": {},
   "outputs": [],
   "source": [
    "rmse_nonparci = sklearn.metrics.mean_squared_error(y_test, y_pred_nonparci, squared = False)"
   ]
  },
  {
   "cell_type": "markdown",
   "id": "e36fa6d0",
   "metadata": {},
   "source": [
    "```\n",
    "## Error in py_call_impl(callable, dots$args, dots$keywords): NameError: name 'y_pred_nonparci' is not defined\n",
    "## \n",
    "## Detailed traceback: \n",
    "##   File \"<string>\", line 1, in <module>\n",
    "```"
   ]
  },
  {
   "cell_type": "code",
   "execution_count": null,
   "id": "a5ba3146",
   "metadata": {},
   "outputs": [],
   "source": [
    "print(\"rmse_nonparci : \", rmse_nonparci)"
   ]
  },
  {
   "cell_type": "markdown",
   "id": "747c86fc",
   "metadata": {},
   "source": [
    "```\n",
    "## Error in py_call_impl(callable, dots$args, dots$keywords): NameError: name 'rmse_nonparci' is not defined\n",
    "## \n",
    "## Detailed traceback: \n",
    "##   File \"<string>\", line 1, in <module>\n",
    "```"
   ]
  },
  {
   "cell_type": "code",
   "execution_count": null,
   "id": "58b2f664",
   "metadata": {},
   "outputs": [],
   "source": [
    "rsq_nonparci = sklearn.metrics.r2_score(y_test, y_pred_nonparci) "
   ]
  },
  {
   "cell_type": "markdown",
   "id": "e79c3d17",
   "metadata": {},
   "source": [
    "```\n",
    "## Error in py_call_impl(callable, dots$args, dots$keywords): NameError: name 'y_pred_nonparci' is not defined\n",
    "## \n",
    "## Detailed traceback: \n",
    "##   File \"<string>\", line 1, in <module>\n",
    "```"
   ]
  },
  {
   "cell_type": "code",
   "execution_count": null,
   "id": "04e4e7fb",
   "metadata": {},
   "outputs": [],
   "source": [
    "print(\"rsq_nonparci : \", rsq_nonparci)\n",
    "\n",
    "# Le modèle parcimonieux est plus performant. "
   ]
  },
  {
   "cell_type": "markdown",
   "id": "dddb29a6",
   "metadata": {},
   "source": [
    "```\n",
    "## Error in py_call_impl(callable, dots$args, dots$keywords): NameError: name 'rsq_nonparci' is not defined\n",
    "## \n",
    "## Detailed traceback: \n",
    "##   File \"<string>\", line 1, in <module>\n",
    "```\n"
   ]
  },
  {
   "cell_type": "code",
   "execution_count": null,
   "id": "d810030f",
   "metadata": {},
   "outputs": [],
   "source": [
    "\n",
    "### Autres exemples Lino : \n",
    "#import statsmodels.api as sm\n",
    "#import statsmodels.formula.api as smf\n",
    "#print(smf.ols(\"per_gop ~ share_2016_republican\", data = #df2).fit().summary())\n",
    "# Performance du modèle déjà bonne avec une variable explicative\n",
    "# Par la suite : se contenter de variables moins bonnes mais qui\n",
    "# présentent un intérêt pour la sélection\n",
    "#df2 = votes.loc[:,~votes.columns.str.endswith((\"_republican\",'_democrat','_green','_other', 'per_point_diff', 'per_dem'))]\n",
    "# df2 = df[[c for c in df.columns if c not in cols_to_exclude] + ['rep16_frac']]"
   ]
  },
  {
   "cell_type": "markdown",
   "id": "f24d73da",
   "metadata": {},
   "source": [
    "6. Utiliser la fonction `lasso_path` pour évaluer le nombre de paramètres sélectionnés par LASSO lorsque $\\alpha$\n",
    "varie (parcourir $\\alpha \\in [0.001,0.01,0.02,0.025,0.05,0.1,0.25,0.5,0.8,1.0]$ ). \n"
   ]
  },
  {
   "cell_type": "code",
   "execution_count": null,
   "id": "c057fba3",
   "metadata": {},
   "outputs": [],
   "source": [
    "#6. Utilisation de lasso_path\n",
    "my_alphas = np.array([0.001,0.01,0.02,0.025,0.05,0.1,0.25,0.5,0.8,1.0])\n",
    "alpha_for_path, coefs_lasso, _ = lasso_path(X_train,y_train,alphas=my_alphas)\n",
    "#print(coefs_lasso)"
   ]
  },
  {
   "cell_type": "markdown",
   "id": "a9ccbfd1",
   "metadata": {},
   "source": [
    "```\n",
    "## Error in py_call_impl(callable, dots$args, dots$keywords): ValueError: Input contains NaN, infinity or a value too large for dtype('float64').\n",
    "## \n",
    "## Detailed traceback: \n",
    "##   File \"<string>\", line 1, in <module>\n",
    "##   File \"/opt/conda/envs/python-ENSAE/lib/python3.9/site-packages/sklearn/linear_model/_coordinate_descent.py\", line 349, in lasso_path\n",
    "##     return enet_path(\n",
    "##   File \"/opt/conda/envs/python-ENSAE/lib/python3.9/site-packages/sklearn/linear_model/_coordinate_descent.py\", line 521, in enet_path\n",
    "##     y = check_array(\n",
    "##   File \"/opt/conda/envs/python-ENSAE/lib/python3.9/site-packages/sklearn/utils/validation.py\", line 800, in check_array\n",
    "##     _assert_all_finite(array, allow_nan=force_all_finite == \"allow-nan\")\n",
    "##   File \"/opt/conda/envs/python-ENSAE/lib/python3.9/site-packages/sklearn/utils/validation.py\", line 114, in _assert_all_finite\n",
    "##     raise ValueError(\n",
    "```"
   ]
  },
  {
   "cell_type": "code",
   "execution_count": null,
   "id": "39a6628b",
   "metadata": {},
   "outputs": [],
   "source": [
    "nb_non_zero = np.apply_along_axis(func1d=np.count_nonzero,arr=coefs_lasso,axis=0)"
   ]
  },
  {
   "cell_type": "markdown",
   "id": "892c58ad",
   "metadata": {},
   "source": [
    "```\n",
    "## Error in py_call_impl(callable, dots$args, dots$keywords): NameError: name 'coefs_lasso' is not defined\n",
    "## \n",
    "## Detailed traceback: \n",
    "##   File \"<string>\", line 1, in <module>\n",
    "```"
   ]
  },
  {
   "cell_type": "code",
   "execution_count": null,
   "id": "103b623c",
   "metadata": {},
   "outputs": [],
   "source": [
    "print(nb_non_zero)\n",
    "\n",
    "## graphique\n",
    "# Graphe emprunté à http://tutoriels-data-mining.blogspot.com/2018/05/regression-lasso-sous-python.html"
   ]
  },
  {
   "cell_type": "markdown",
   "id": "91e4a626",
   "metadata": {},
   "source": [
    "```\n",
    "## Error in py_call_impl(callable, dots$args, dots$keywords): NameError: name 'nb_non_zero' is not defined\n",
    "## \n",
    "## Detailed traceback: \n",
    "##   File \"<string>\", line 1, in <module>\n",
    "```"
   ]
  },
  {
   "cell_type": "code",
   "execution_count": null,
   "id": "ca57ac0d",
   "metadata": {},
   "outputs": [],
   "source": [
    "sns.set_style(\"whitegrid\")\n",
    "plt.figure()\n",
    "p = sns.lineplot(y=nb_non_zero, x=alpha_for_path).set(title = r\"Number variables and regularization parameter ($\\alpha$)\", xlabel=r'$\\alpha$', ylabel='Nb. de variables')"
   ]
  },
  {
   "cell_type": "markdown",
   "id": "81bb6c05",
   "metadata": {},
   "source": [
    "```\n",
    "## Error in py_call_impl(callable, dots$args, dots$keywords): NameError: name 'nb_non_zero' is not defined\n",
    "## \n",
    "## Detailed traceback: \n",
    "##   File \"<string>\", line 1, in <module>\n",
    "```"
   ]
  },
  {
   "cell_type": "code",
   "execution_count": null,
   "id": "771d4ed4",
   "metadata": {
    "lines_to_next_cell": 2
   },
   "outputs": [],
   "source": [
    "p\n",
    "plt.savefig(\"lassoplot.png\")"
   ]
  },
  {
   "cell_type": "markdown",
   "id": "c0b2a215",
   "metadata": {},
   "source": [
    "```r\n",
    "knitr::include_graphics(\"lassoplot.png\")\n",
    "```"
   ]
  },
  {
   "cell_type": "markdown",
   "id": "a694bf6e",
   "metadata": {},
   "source": [
    "On voit que plus alpha est élevé, moins le modèle sélectionne de variables.\n",
    "\n"
   ]
  },
  {
   "cell_type": "markdown",
   "id": "3f79006c",
   "metadata": {},
   "source": [
    "## Validation croisée pour sélectionner le modèle\n",
    "\n",
    "Quel $\\alpha$ faut-il privilégier ? Pour cela, \n",
    "il convient d'effectuer une validation croisée afin de choisir le modèle pour\n",
    "lequel les variables qui passent la phase de sélection permettent de mieux\n",
    "prédire le résultat Républicain.\n",
    "\n",
    "\n"
   ]
  },
  {
   "cell_type": "code",
   "execution_count": null,
   "id": "a7fa3164",
   "metadata": {},
   "outputs": [],
   "source": [
    "print(\"alpha optimal :\", lcv.alpha_)"
   ]
  },
  {
   "cell_type": "markdown",
   "id": "1cd1c576",
   "metadata": {},
   "source": [
    "```\n",
    "## Error in py_call_impl(callable, dots$args, dots$keywords): NameError: name 'lcv' is not defined\n",
    "## \n",
    "## Detailed traceback: \n",
    "##   File \"<string>\", line 1, in <module>\n",
    "```\n",
    "\n"
   ]
  },
  {
   "cell_type": "markdown",
   "id": "195cec06",
   "metadata": {},
   "source": [
    "Les variables sélectionnées sont : \n"
   ]
  },
  {
   "cell_type": "code",
   "execution_count": null,
   "id": "c099af43",
   "metadata": {},
   "outputs": [],
   "source": [
    "print(features_selec2)"
   ]
  },
  {
   "cell_type": "markdown",
   "id": "03b34012",
   "metadata": {},
   "source": [
    "```\n",
    "## Error in py_call_impl(callable, dots$args, dots$keywords): NameError: name 'features_selec2' is not defined\n",
    "## \n",
    "## Detailed traceback: \n",
    "##   File \"<string>\", line 1, in <module>\n",
    "```\n",
    "\n"
   ]
  },
  {
   "cell_type": "code",
   "execution_count": null,
   "id": "5f00c332",
   "metadata": {},
   "outputs": [],
   "source": [
    "df2.select_dtypes(include=np.number).drop(\"per_gop\", axis = 1).columns[np.abs(lasso2.coef_)>0]"
   ]
  },
  {
   "cell_type": "markdown",
   "id": "7a2138a6",
   "metadata": {},
   "source": [
    "```\n",
    "## Error in py_call_impl(callable, dots$args, dots$keywords): NameError: name 'df2' is not defined\n",
    "## \n",
    "## Detailed traceback: \n",
    "##   File \"<string>\", line 1, in <module>\n",
    "```"
   ]
  },
  {
   "cell_type": "code",
   "execution_count": null,
   "id": "577ff3d4",
   "metadata": {},
   "outputs": [],
   "source": [
    "nlasso = sum(np.abs(lasso2.coef_)>0)"
   ]
  },
  {
   "cell_type": "markdown",
   "id": "12a97e8c",
   "metadata": {},
   "source": [
    "```\n",
    "## Error in py_call_impl(callable, dots$args, dots$keywords): NameError: name 'lasso2' is not defined\n",
    "## \n",
    "## Detailed traceback: \n",
    "##   File \"<string>\", line 1, in <module>\n",
    "```"
   ]
  },
  {
   "cell_type": "code",
   "execution_count": null,
   "id": "49fd8874",
   "metadata": {},
   "outputs": [],
   "source": [
    "print(nlasso)"
   ]
  },
  {
   "cell_type": "markdown",
   "id": "0e19baa6",
   "metadata": {},
   "source": [
    "```\n",
    "## Error in py_call_impl(callable, dots$args, dots$keywords): NameError: name 'nlasso' is not defined\n",
    "## \n",
    "## Detailed traceback: \n",
    "##   File \"<string>\", line 1, in <module>\n",
    "```"
   ]
  },
  {
   "cell_type": "markdown",
   "id": "bb5cf616",
   "metadata": {},
   "source": [
    "```\n",
    "## Error in py_call_impl(callable, dots$args, dots$keywords): NameError: name 'nlasso' is not defined\n",
    "## \n",
    "## Detailed traceback: \n",
    "##   File \"<string>\", line 1, in <module>\n",
    "```\n",
    "\n",
    "Dans le cas où le modèle paraîtrait trop peu parcimonieux, il faudrait revoir la phase de définition des variables pertinentes pour comprendre si des échelles différentes de certaines variables ne seraient pas plus appropriées (par exemple du `log`). "
   ]
  }
 ],
 "metadata": {
  "kernelspec": {
   "display_name": "Python 3",
   "language": "python",
   "name": "python3"
  }
 },
 "nbformat": 4,
 "nbformat_minor": 5
}
