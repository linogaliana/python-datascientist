{
  "cells": [
    {
      "cell_type": "raw",
      "metadata": {},
      "source": [
        "---\n",
        "title: \"Sélection de variables : une introduction\"\n",
        "date: 2020-10-15T13:00:00Z\n",
        "draft: false\n",
        "weight: 50\n",
        "slug: lasso\n",
        "type: book\n",
        "tags:\n",
        "  - scikit\n",
        "  - machine learning\n",
        "  - US elections\n",
        "  - LASSO\n",
        "  - feature selection\n",
        "  - Modélisation\n",
        "  - Exercice\n",
        "categories:\n",
        "  - Modélisation\n",
        "  - Exercice\n",
        "summary: |\n",
        "  L'accès à des bases de données de plus en plus riches permet\n",
        "  des modélisations de plus en plus raffinées. Cependant,\n",
        "  les modèles parcimonieux sont généralement préférables\n",
        "  aux modèles extrêmement riches pour obtenir de bonnes\n",
        "  performances sur un nouveau jeu de données (prédictions\n",
        "  _out-of-sample_). Les méthodes de sélection de variables,\n",
        "  notamment le [`LASSO`](https://fr.wikipedia.org/wiki/Lasso_(statistiques)),\n",
        "  permettent de sélectionner le signal le plus\n",
        "  pertinent dilué au milieu du bruit lorsqu'on a beaucoup d'information à\n",
        "  traiter.  \n",
        "image: featured.png\n",
        "---"
      ],
      "id": "b838b1b4"
    },
    {
      "cell_type": "markdown",
      "metadata": {},
      "source": [
        "::: {.cell .markdown}"
      ],
      "id": "b3796d1a"
    },
    {
      "cell_type": "code",
      "metadata": {},
      "source": [
        "#| output: 'asis'\n",
        "#| include: true\n",
        "#| eval: true\n",
        "\n",
        "import sys\n",
        "sys.path.insert(1, '../../../../') #insert the utils module\n",
        "from utils import print_badges\n",
        "\n",
        "#print_badges(__file__)\n",
        "print_badges(\"content/course/modelisation/4_featureselection.qmd\")"
      ],
      "id": "8d4370d3",
      "execution_count": null,
      "outputs": []
    },
    {
      "cell_type": "markdown",
      "metadata": {},
      "source": [
        ":::\n",
        "\n",
        "\n",
        "\n",
        "Pour illustrer le travail de données nécessaire pour faire de la sélection de variables,\n",
        "nous allons partir du même jeu de données que précédemment,\n",
        "c'est-à-dire les résultats des élections US 2020 présentés dans l'[introduction\n",
        "de cette partie](https://linogaliana-teaching.netlify.app/modelisation/): les données de vote aux élections présidentielles américaines\n",
        "croisées à des variables sociodémographiques.\n",
        "Le code \n",
        "est disponible [sur Github](https://github.com/linogaliana/python-datascientist/blob/master/content/course/modelisation/get_data.py).\n"
      ],
      "id": "981ab7fe"
    },
    {
      "cell_type": "code",
      "metadata": {
        "message": false
      },
      "source": [
        "#| echo: true\n",
        "#| warning: false\n",
        "\n",
        "#!pip install --upgrade xlrd #colab bug verson xlrd\n",
        "#!pip install geopandas\n",
        "\n",
        "import requests\n",
        "\n",
        "url = 'https://raw.githubusercontent.com/linogaliana/python-datascientist/master/content/course/modelisation/get_data.py'\n",
        "r = requests.get(url, allow_redirects=True)\n",
        "open('getdata.py', 'wb').write(r.content)\n",
        "\n",
        "import getdata\n",
        "votes = getdata.create_votes_dataframes()"
      ],
      "id": "0b785499",
      "execution_count": null,
      "outputs": []
    },
    {
      "cell_type": "markdown",
      "metadata": {},
      "source": [
        "Jusqu'à présent, nous avons supposé que les variables utiles à la prévision du\n",
        "vote Républicain étaient connues du modélisateur. Nous n'avons ainsi exploité qu'une partie\n",
        "limitée des variables disponibles dans nos données. Néanmoins, outre le fléau\n",
        "computationnel que représenterait la construction d'un modèle avec un grand\n",
        "nombre de variables, le choix d'un nombre restreint de variables\n",
        "(modèle parcimonieux) limite le risque de sur-apprentissage.\n",
        "\n",
        "Comment, dès-lors, choisir le bon nombre de variables et la meilleure\n",
        "combinaison de ces variables ? Il existe de multiples méthodes, parmi lesquelles :\n",
        "\n",
        "* se fonder sur des critères statistiques de performance qui pénalisent les\n",
        "modèles non parcimonieux. Par exemple, le BIC.\n",
        "* techniques de *backward elimination*.\n",
        "* construire des modèles pour lesquels la statistique d'intérêt pénalise l'absence\n",
        "de parcimonie (ce que l'on va souhaiter faire ici). \n",
        "\n",
        "# Principe du LASSO\n",
        "\n",
        "## Principe général\n",
        "\n",
        "La classe des modèles de *feature selection* est ainsi très vaste et regroupe\n",
        "un ensemble très diverse de modèles. Nous allons nous focaliser sur le LASSO\n",
        "(*Least Absolute Shrinkage and Selection Operator*)\n",
        "qui est une extension de la régression linéaire qui vise à sélectionner des\n",
        "modèles *sparses*. Ce type de modèle est central dans le champ du \n",
        "*Compressed sensing* (où on emploie plutôt le terme \n",
        "de *L1-regularization* que de LASSO). Le LASSO est un cas particulier des\n",
        "régressions elastic-net dont un autre cas fameux est la régression *ridge*.\n",
        "Contrairement à la régression linéaire classique, elles fonctionnent également\n",
        "dans un cadre où $p>N$, c'est à dire où le nombre de régresseurs est très grand puisque supérieur\n",
        "au nombre d'observations.\n",
        "\n",
        "## Pénalisation\n",
        "\n",
        "En adoptant le principe d'une fonction objectif pénalisée,\n",
        "le LASSO permet de fixer un certain nombre de coefficients à 0.\n",
        "Les variables dont la norme est non nulle passent ainsi le test de sélection. \n",
        "\n",
        "::: {.cell .markdown}\n",
        "\n",
        "```{=html}\n",
        "<div class=\"alert alert-warning\" role=\"alert\" style=\"color: rgba(0,0,0,.8); background-color: white; margin-top: 1em; margin-bottom: 1em; margin:1.5625emauto; padding:0 .6rem .8rem!important;overflow:hidden; page-break-inside:avoid; border-radius:.25rem; box-shadow:0 .2rem .5rem rgba(0,0,0,.05),0 0 .05rem rgba(0,0,0,.1); transition:color .25s,background-color .25s,border-color .25s ; border-right: 1px solid #dee2e6 ; border-top: 1px solid #dee2e6 ; border-bottom: 1px solid #dee2e6 ; border-left:.2rem solid #ffc10780;\">\n",
        "<h3 class=\"alert-heading\"><i class=\"fa fa-pencil\"></i> Hint</h3>\n",
        "```\n",
        "\n",
        "Le LASSO est un programme d'optimisation sous contrainte. On cherche à trouver l'estimateur $\\beta$ qui minimise l'erreur quadratique (régression linéaire) sous une contrainte additionnelle régularisant les paramètres:\n",
        "$$\n",
        "\\min_{\\beta} \\frac{1}{2}\\mathbb{E}\\bigg( \\big( X\\beta - y  \\big)^2 \\bigg) \\\\\n",
        "\\text{s.t. } \\sum_{j=1}^p |\\beta_j| \\leq t\n",
        "$$\n",
        "Ce programme se reformule grâce au Lagrangien est permet ainsi d'obtenir un programme de minimisation plus maniable : \n",
        "$$\n",
        "\\beta^{\\text{LASSO}} = \\arg \\min_{\\beta} \\frac{1}{2}\\mathbb{E}\\bigg( \\big( X\\beta - y  \\big)^2 \\bigg) + \\alpha \\sum_{j=1}^p |\\beta_j| = \\arg \\min_{\\beta} ||y-X\\beta||_{2}^{2} + \\alpha ||\\beta||_1\n",
        "$$\n",
        "où $\\lambda$ est une réécriture de la régularisation précédente. \n",
        "\n",
        "\n",
        "```{=html}\n",
        "</div>\n",
        "```\n",
        "\n",
        ":::\n",
        "\n",
        "## Première régression LASSO\n",
        "\n",
        "Avant de se lancer dans les exercices, on va éliminer quelques colonnes redondantes, \n",
        "celles qui concernent les votes des partis concurrents (forcément très\n",
        "corrélés au vote Républicain...)  :\n"
      ],
      "id": "3bc1642b"
    },
    {
      "cell_type": "code",
      "metadata": {},
      "source": [
        "df2 = votes.loc[:,~votes.columns.str.endswith(\n",
        "  ('_democrat','_green','_other', 'per_point_diff', 'per_dem')\n",
        "  )]"
      ],
      "id": "5d1ebbfb",
      "execution_count": null,
      "outputs": []
    },
    {
      "cell_type": "markdown",
      "metadata": {},
      "source": [
        "Nous allons utiliser par la suite les fonctions ou\n",
        "packages suivants:\n"
      ],
      "id": "bc274b47"
    },
    {
      "cell_type": "code",
      "metadata": {},
      "source": [
        "# packages utiles\n",
        "import numpy as np\n",
        "from sklearn.svm import LinearSVC\n",
        "from sklearn.feature_selection import SelectFromModel\n",
        "from sklearn.model_selection import train_test_split\n",
        "from sklearn.preprocessing import StandardScaler\n",
        "from sklearn.linear_model import Lasso\n",
        "import sklearn.metrics\n",
        "from sklearn.linear_model import LinearRegression\n",
        "import matplotlib.cm as cm\n",
        "import matplotlib.pyplot as plt\n",
        "from sklearn.linear_model import lasso_path\n",
        "import seaborn as sns"
      ],
      "id": "fd8aa4e2",
      "execution_count": null,
      "outputs": []
    },
    {
      "cell_type": "markdown",
      "metadata": {},
      "source": [
        "::: {.cell .markdown}\n",
        "\n",
        "```{=html}\n",
        "<div class=\"alert alert-success\" role=\"alert\" style=\"color: rgba(0,0,0,.8); background-color: white; margin-top: 1em; margin-bottom: 1em; margin:1.5625emauto; padding:0 .6rem .8rem!important;overflow:hidden; page-break-inside:avoid; border-radius:.25rem; box-shadow:0 .2rem .5rem rgba(0,0,0,.05),0 0 .05rem rgba(0,0,0,.1); transition:color .25s,background-color .25s,border-color .25s ; border-right: 1px solid #dee2e6 ; border-top: 1px solid #dee2e6 ; border-bottom: 1px solid #dee2e6 ; border-left:.2rem solid #3fb618;\">\n",
        "<h3 class=\"alert-heading\"><i class=\"fa fa-pencil\"></i> Exercice 1 : Premier LASSO</h3>\n",
        "```\n",
        "\n",
        "\n",
        "\n",
        "On cherche toujours à prédire la variable `per_gop`.\n",
        "\n",
        "1.  Préparez les variables à utiliser.\n",
        "  * Ne garder que les colonnes numériques (idéalement on transformerait\n",
        "      les variables non numériques en numériques)\n",
        "  * Remplacer les valeurs infinies par des NaN et les valeurs manquantes par 0. \n",
        "  * Standardiser les *features* (c'est-à-dire les variables autres que la variable `per_gop`) avec `StandardScaler`\n",
        "2. On cherche toujours à prédire la variable `per_gop`. Créez un échantillon d'entraînement et un échantillon test. \n",
        "3. Estimer un modèle LASSO pénalisé avec $alpha = 0.1$. Afficher les valeurs des coefficients. Quelles variables ont une valeur non nulle ?\n",
        "4. Montrer que les variables sélectionnées sont parfois très corrélées. \n",
        "5. Comparer la performance de ce modèle parcimonieux avec celle d'un modèle avec plus de variables \n",
        "6. Utiliser la fonction `lasso_path` pour évaluer le nombre de paramètres sélectionnés par LASSO lorsque $\\alpha$\n",
        "varie (parcourir $\\alpha \\in [0.001,0.01,0.02,0.025,0.05,0.1,0.25,0.5,0.8,1.0]$ ). \n",
        "\n",
        "\n",
        "```{=html}\n",
        "</div>\n",
        "```\n",
        "\n",
        ":::\n"
      ],
      "id": "41ebe9dd"
    },
    {
      "cell_type": "code",
      "metadata": {},
      "source": [
        "#1. Garder uniquement les variables numériques et standardiser.\n",
        "df2 = votes.loc[:,~votes.columns.str.endswith(('_democrat','_green','_other', 'per_point_diff', 'per_dem'))]\n",
        "df2 = df2.select_dtypes(include=np.number)\n",
        "df2.replace([np.inf, -np.inf], np.nan, inplace=True)\n",
        "df2 = df2.fillna(0)\n",
        "col_names = df2.loc[:, df2.columns != 'per_gop'].columns.values\n",
        "features = df2[col_names]\n",
        "features = StandardScaler().fit(features.values).transform(features.values)\n",
        "df2[col_names] = features\n",
        "#df2.head()"
      ],
      "id": "2715c911",
      "execution_count": null,
      "outputs": []
    },
    {
      "cell_type": "code",
      "metadata": {},
      "source": [
        "#2. Echantillon d'entraînement et échantillon test\n",
        "X_train, X_test, y_train, y_test = train_test_split(\n",
        "    df2.drop([\"per_gop\"], axis = 1),\n",
        "    100*df2[['per_gop']].values.ravel(), test_size=0.2, random_state=0\n",
        ")"
      ],
      "id": "52f65358",
      "execution_count": null,
      "outputs": []
    },
    {
      "cell_type": "markdown",
      "metadata": {},
      "source": [
        "A l'issue de la question 3,\n",
        "les variables sélectionnées sont :\n"
      ],
      "id": "178065be"
    },
    {
      "cell_type": "code",
      "metadata": {},
      "source": [
        "#| include: true\n",
        "\n",
        "\n",
        "#3. Estimer un modèle LASSO et afficher les valeurs des coefficients\n",
        "lasso1 = Lasso(fit_intercept=True, alpha = 0.1).fit(X_train, y_train)\n",
        "\n",
        "#np.abs(lasso1.coef_)\n",
        "features_selec = df2.select_dtypes(include=np.number).drop(\"per_gop\", axis = 1).columns[np.abs(lasso1.coef_)>0].tolist()\n",
        "features_selec\n",
        "# Le modèle est assez parcimonieux puisque \n",
        "# un sous-échantillon de variables sont sélectionnées "
      ],
      "id": "6cb89cf2",
      "execution_count": null,
      "outputs": []
    },
    {
      "cell_type": "markdown",
      "metadata": {},
      "source": [
        "Certaines variables font sens, comme les variables d'éducation par exemple. Notamment, un des meilleurs prédicteurs pour le score des Républicains en 2020 est... le score des Républicains (et mécaniquement des démocrates) en 2016.\n",
        "\n",
        "Par ailleurs, on sélectionne des variables redondantes. Une phase plus approfondie de nettoyage des données serait en réalité nécessaire.\n"
      ],
      "id": "ee12291c"
    },
    {
      "cell_type": "code",
      "metadata": {},
      "source": [
        "#4. Corrélations entre les variables sélectionnées\n",
        "corr = df2[features_selec].corr()\n",
        "\n",
        "plt.figure()\n",
        "p = corr.style.background_gradient(cmap='coolwarm', axis=None).format('{:.2f}')\n",
        "p"
      ],
      "id": "1f452fc5",
      "execution_count": null,
      "outputs": []
    },
    {
      "cell_type": "code",
      "metadata": {},
      "source": [
        "#5. Faire une régression linéaire parcimonieuse et non parcimonieuse\n",
        "\n",
        "## Régression parcimonieuse\n",
        "y_pred_parci = lasso1.predict(X_test)\n",
        "rmse_parci = sklearn.metrics.mean_squared_error(y_test, y_pred_parci, squared = False)\n",
        "print(\"rmse_parci : \", rmse_parci)\n",
        "rsq_parci = sklearn.metrics.r2_score(y_test, y_pred_parci) \n",
        "print(\"rsq_parci : \", rsq_parci)\n",
        "\n",
        "## Régression non parcimonieuse\n",
        "ols = LinearRegression().fit(X_train, y_train)\n",
        "y_pred_nonparci = ols.predict(X_test)\n",
        "rmse_nonparci = sklearn.metrics.mean_squared_error(y_test, y_pred_nonparci, squared = False)\n",
        "print(\"rmse_nonparci : \", rmse_nonparci)\n",
        "rsq_nonparci = sklearn.metrics.r2_score(y_test, y_pred_nonparci) \n",
        "print(\"rsq_nonparci : \", rsq_nonparci)\n",
        "\n",
        "# Le modèle parcimonieux est (légèrement) plus performant. "
      ],
      "id": "159445c9",
      "execution_count": null,
      "outputs": []
    },
    {
      "cell_type": "code",
      "metadata": {},
      "source": [
        "### Autres exemples Lino : \n",
        "#import statsmodels.api as sm\n",
        "#import statsmodels.formula.api as smf\n",
        "#print(smf.ols(\"per_gop ~ share_2016_republican\", data = #df2).fit().summary())\n",
        "# Performance du modèle déjà bonne avec une variable explicative\n",
        "# Par la suite : se contenter de variables moins bonnes mais qui\n",
        "# présentent un intérêt pour la sélection\n",
        "#df2 = votes.loc[:,~votes.columns.str.endswith((\"_republican\",'_democrat','_green','_other', 'per_point_diff', 'per_dem'))]\n",
        "# df2 = df[[c for c in df.columns if c not in cols_to_exclude] + ['rep16_frac']]"
      ],
      "id": "e2b363a5",
      "execution_count": null,
      "outputs": []
    },
    {
      "cell_type": "code",
      "metadata": {},
      "source": [
        "#6. Utilisation de lasso_path\n",
        "my_alphas = np.array([0.001,0.01,0.02,0.025,0.05,0.1,0.25,0.5,0.8,1.0])\n",
        "alpha_for_path, coefs_lasso, _ = lasso_path(X_train,y_train,alphas=my_alphas)\n",
        "#print(coefs_lasso)\n",
        "nb_non_zero = np.apply_along_axis(func1d=np.count_nonzero,arr=coefs_lasso,axis=0)\n",
        "print(nb_non_zero)\n",
        "\n",
        "## graphique\n",
        "# Graphe emprunté à http://tutoriels-data-mining.blogspot.com/2018/05/regression-lasso-sous-python.html\n",
        "\n",
        "sns.set_style(\"whitegrid\")\n",
        "plt.figure()\n",
        "p = sns.lineplot(y=nb_non_zero, x=alpha_for_path)\n",
        "p.set(title = r\"Number variables and regularization parameter ($\\alpha$)\", xlabel=r'$\\alpha$', ylabel='Nb. de variables')"
      ],
      "id": "ad59c9a5",
      "execution_count": null,
      "outputs": []
    },
    {
      "cell_type": "code",
      "metadata": {},
      "source": [
        "p.figure.get_figure()"
      ],
      "id": "2630f760",
      "execution_count": null,
      "outputs": []
    },
    {
      "cell_type": "markdown",
      "metadata": {},
      "source": [
        "On voit que plus $\\alpha$ est élevé, moins le modèle sélectionne de variables.\n"
      ],
      "id": "9249ca04"
    },
    {
      "cell_type": "code",
      "metadata": {},
      "source": [
        "p.figure.get_figure().savefig(\"featured.png\")"
      ],
      "id": "8190f644",
      "execution_count": null,
      "outputs": []
    },
    {
      "cell_type": "markdown",
      "metadata": {},
      "source": [
        "## Validation croisée pour sélectionner le modèle\n",
        "\n",
        "Quel $\\alpha$ faut-il privilégier ? Pour cela, \n",
        "il convient d'effectuer une validation croisée afin de choisir le modèle pour\n",
        "lequel les variables qui passent la phase de sélection permettent de mieux\n",
        "prédire le résultat Républicain :\n"
      ],
      "id": "a839c173"
    },
    {
      "cell_type": "code",
      "metadata": {},
      "source": [
        "#| echo: true\n",
        "from sklearn.linear_model import LassoCV\n",
        "\n",
        "df3 = df2.select_dtypes(include=np.number)\n",
        "df3.replace([np.inf, -np.inf], np.nan, inplace=True)\n",
        "df3 = df3.fillna(0)\n",
        "scaler = StandardScaler()\n",
        "yindex = df3.columns.get_loc(\"per_gop\")\n",
        "df3_scale = scaler.fit(df3).transform(df3)\n",
        "# X_train, X_test , y_train, y_test = train_test_split(np.delete(data, yindex, axis = 1),data[:,yindex], test_size=0.2, random_state=0)\n",
        "\n",
        "lcv = LassoCV(alphas=my_alphas, fit_intercept=False,random_state=0,cv=5).fit(np.delete(df3_scale, yindex, axis = 1), df3_scale[:,yindex])"
      ],
      "id": "fe3861c1",
      "execution_count": null,
      "outputs": []
    },
    {
      "cell_type": "code",
      "metadata": {},
      "source": [
        "print(\"alpha optimal :\", lcv.alpha_)"
      ],
      "id": "2fb4aafd",
      "execution_count": null,
      "outputs": []
    },
    {
      "cell_type": "code",
      "metadata": {},
      "source": [
        "lasso2 = Lasso(fit_intercept=True, alpha = lcv.alpha_).fit(X_train,y_train)\n",
        "features_selec2 = df2.select_dtypes(include=np.number).drop(\"per_gop\", axis = 1).columns[np.abs(lasso2.coef_)>0].tolist()"
      ],
      "id": "9875400b",
      "execution_count": null,
      "outputs": []
    },
    {
      "cell_type": "markdown",
      "metadata": {},
      "source": [
        "Les variables sélectionnées sont : \n"
      ],
      "id": "4450218b"
    },
    {
      "cell_type": "code",
      "metadata": {},
      "source": [
        "print(features_selec2)"
      ],
      "id": "99739b61",
      "execution_count": null,
      "outputs": []
    },
    {
      "cell_type": "code",
      "metadata": {},
      "source": [
        "df2.select_dtypes(include=np.number).drop(\"per_gop\", axis = 1).columns[np.abs(lasso2.coef_)>0]\n",
        "nlasso = sum(np.abs(lasso2.coef_)>0)"
      ],
      "id": "aaa9be14",
      "execution_count": null,
      "outputs": []
    },
    {
      "cell_type": "code",
      "metadata": {},
      "source": [
        "#| output: asis\n",
        "print(\"Cela correspond à un modèle avec {} variables sélectionnées.\".format(int(nlasso)))"
      ],
      "id": "d3fc930f",
      "execution_count": null,
      "outputs": []
    },
    {
      "cell_type": "markdown",
      "metadata": {},
      "source": [
        "::: {.cell .markdown}\n",
        "\n",
        "```{=html}\n",
        "<div class=\"alert alert-warning\" role=\"alert\" style=\"color: rgba(0,0,0,.8); background-color: white; margin-top: 1em; margin-bottom: 1em; margin:1.5625emauto; padding:0 .6rem .8rem!important;overflow:hidden; page-break-inside:avoid; border-radius:.25rem; box-shadow:0 .2rem .5rem rgba(0,0,0,.05),0 0 .05rem rgba(0,0,0,.1); transition:color .25s,background-color .25s,border-color .25s ; border-right: 1px solid #dee2e6 ; border-top: 1px solid #dee2e6 ; border-bottom: 1px solid #dee2e6 ; border-left:.2rem solid #ffc10780;\">\n",
        "<h3 class=\"alert-heading\"><i class=\"fa fa-pencil\"></i> Hint</h3>\n",
        "```\n",
        "\n",
        "\n",
        "Dans le cas où le modèle paraîtrait trop peu parcimonieux, il faudrait revoir la phase de définition des variables pertinentes pour comprendre si des échelles différentes de certaines variables ne seraient pas plus appropriées (par exemple du `log`). \n",
        "\n",
        "\n",
        "```{=html}\n",
        "</div>\n",
        "```\n",
        "\n",
        ":::"
      ],
      "id": "b09d0f37"
    }
  ],
  "metadata": {
    "kernelspec": {
      "name": "python3",
      "language": "python",
      "display_name": "Python 3 (ipykernel)"
    }
  },
  "nbformat": 4,
  "nbformat_minor": 5
}