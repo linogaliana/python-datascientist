{
 "cells": [
  {
   "cell_type": "markdown",
   "id": "87ed2ff5",
   "metadata": {},
   "source": [
    "#  Préparation des données pour construire un modèle\n",
    "\n"
   ]
  },
  {
   "cell_type": "markdown",
   "id": "e9bb0d0a",
   "metadata": {},
   "source": [
    "<a href=\"https://github.com/linogaliana/python-datascientist/blob/master//__w/python-datascientist/python-datascientist/notebooks/course/modelisation/0_preprocessing.ipynb\" class=\"github\"><i class=\"fab fa-github\"></i></a>\n",
    "[![Download](https://img.shields.io/badge/Download-Notebook-important?logo=Jupyter)](https://downgit.github.io/#/home?url=https://github.com/linogaliana/python-datascientist/blob/master//__w/python-datascientist/python-datascientist/notebooks/course/modelisation/0_preprocessing.ipynb)\n",
    "[![nbviewer](https://img.shields.io/badge/Visualize-nbviewer-blue?logo=Jupyter)](https://nbviewer.jupyter.org/github/linogaliana/python-datascientist/blob/master//__w/python-datascientist/python-datascientist/notebooks/course/modelisation/0_preprocessing.ipynb)\n",
    "[![Onyxia](https://img.shields.io/badge/SSPcloud-Tester%20via%20SSP--cloud-informational&color=yellow?logo=Python)](https://datalab.sspcloud.fr/launcher/inseefrlab-helm-charts-datascience/jupyter?onyxia.friendlyName=«python-datascientist»&resources.requests.memory=«4Gi»&security.allowlist.enabled=false&init.personalInit=«https://raw.githubusercontent.com/linogaliana/python-datascientist/master/init_onyxia.sh»)\n",
    "[![Binder](https://img.shields.io/badge/Launch-Binder-E66581.svg?logo=data:image/png;base64,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)](https://mybinder.org/v2/gh/linogaliana/python-datascientist/master?filepath=/__w/python-datascientist/python-datascientist/notebooks/course/modelisation/0_preprocessing.ipynb)\n",
    "[![Open In Colab](https://colab.research.google.com/assets/colab-badge.svg)](http://colab.research.google.com/github/linogaliana/python-datascientist/blob/master//__w/python-datascientist/python-datascientist/notebooks/course/modelisation/0_preprocessing.ipynb)\n",
    "[![githubdev](https://open.vscode.dev/badges/open-in-vscode.svg)](https://github.dev/linogaliana/python-datascientist//__w/python-datascientist/python-datascientist/notebooks/course/modelisation/0_preprocessing.ipynb)"
   ]
  },
  {
   "cell_type": "markdown",
   "id": "eea6e6cf",
   "metadata": {},
   "source": [
    "Ce chapitre utilise le jeu de données présenté dans l'[introduction\n",
    "de cette partie](https://linogaliana-teaching.netlify.app/modelisation/):\n",
    "les données de vote aux élections présidentielles US\n",
    "croisées à des variables socio-démographiques. Le code \n",
    "est disponible [sur Github](https://github.com/linogaliana/python-datascientist/blob/master/content/course/modelisation/get_data.py) mais l'exercice 1 permet, à ceux qui le désirent, d'essayer de reproduire la constitution de la base de données. \n",
    "\n",
    "Le guide utilisateur de `scikit` est une référence précieuse,\n",
    "à consulter régulièrement. La partie sur le *preprocessing* est\n",
    "disponible [ici](https://scikit-learn.org/stable/modules/preprocessing.html).\n",
    "\n",
    "Nous verrons dans le chapitre sur les *pipelines* comment industrialiser\n",
    "ces étapes de pré-processing afin de se simplifier la vie pour appliquer\n",
    "un modèle sur un jeu de données différent de celui sur lequel il a été estimé. "
   ]
  },
  {
   "cell_type": "markdown",
   "id": "1e38eea6",
   "metadata": {},
   "source": [
    "# Construction de la base de données\n",
    "\n",
    "Les sources étant éclatées, le code pour construire une base combinant toutes ces\n",
    "sources est directement fourni. Le travail de construction d'une base unique\n",
    "est un peu fastidieux mais il s'agit d'un bon exercice, que vous pouvez tenter,\n",
    "pour [réviser `pandas`](#pandas)   :"
   ]
  },
  {
   "cell_type": "markdown",
   "id": "538f03bc",
   "metadata": {},
   "source": [
    "**Exercice 1 : Importer les données des élections US** [OPTIONNEL]\n",
    "\n",
    "1. Télécharger et importer le shapefile [depuis ce lien](https://www2.census.gov/geo/tiger/GENZ2019/shp/cb_2019_02_sldl_500k.zip)\n",
    "2. Exclure les Etats suivants: \"02\", \"69\", \"66\", \"78\", \"60\", \"72\", \"15\"\n",
    "3. Importer les résultats des élections depuis [ce lien](https://raw.githubusercontent.com/tonmcg/US_County_Level_Election_Results_08-20/master/2020_US_County_Level_Presidential_Results.csv)\n",
    "4. Importer les bases disponibles sur le site de l'USDA en faisant attention à renommer les variables de code FIPS de manière identique\n",
    "dans les 4 bases\n",
    "5. *Merger* ces 4 bases dans une base unique de caractéristiques socio-économiques\n",
    "6. *Merger* aux données électorales à partir du code FIPS\n",
    "7. *Merger* au shapefile à partir du code FIPS. Faire attention aux 0 à gauche dans certains codes. Il est\n",
    "recommandé d'utiliser la méthode `str.lstrip` pour les retirer\n",
    "8. Importer les données des élections 2000 à 2016 à partir du [MIT Election Lab](https://electionlab.mit.edu/data)?\n",
    "Les données peuvent être directement requêtées depuis l'url\n",
    "<https://dataverse.harvard.edu/api/access/datafile/3641280?gbrecs=false>\n",
    "9. Créer une variable `share` comptabilisant la part des votes pour chaque candidat. \n",
    "Ne garder que les colonnes `\"year\", \"FIPS\", \"party\", \"candidatevotes\", \"share\"`\n",
    "10. Faire une conversion `long` to `wide` avec la méthode `pivot_table` pour garder une ligne\n",
    "par comté x année avec en colonnes les résultats de chaque candidat dans cet état.\n",
    "11. Merger à partir du code FIPS au reste de la base. "
   ]
  },
  {
   "cell_type": "markdown",
   "id": "b1303f02",
   "metadata": {},
   "source": [
    "Si vous ne faites pas l'exercice 1, pensez à charger les données en executant la fonction `get_data.py` :\n"
   ]
  },
  {
   "cell_type": "code",
   "execution_count": null,
   "id": "44f3e109",
   "metadata": {},
   "outputs": [],
   "source": [
    "#!pip install geopandas\n",
    "\n",
    "import requests\n",
    "\n",
    "url = 'https://raw.githubusercontent.com/linogaliana/python-datascientist/master/content/course/modelisation/get_data.py'\n",
    "r = requests.get(url, allow_redirects=True)\n",
    "open('getdata.py', 'wb').write(r.content)"
   ]
  },
  {
   "cell_type": "markdown",
   "id": "3d15f0b4",
   "metadata": {},
   "source": [
    "```\n",
    "## 3585\n",
    "```"
   ]
  },
  {
   "cell_type": "code",
   "execution_count": null,
   "id": "1d316555",
   "metadata": {},
   "outputs": [],
   "source": [
    "import getdata\n",
    "votes = getdata.create_votes_dataframes()"
   ]
  },
  {
   "cell_type": "markdown",
   "id": "81589058",
   "metadata": {},
   "source": [
    "Ce code introduit une base nommée `votes` dans l'environnement. Il s'agit d'une\n",
    "base rassemblant les différentes sources. Elle a l'aspect\n",
    "suivant:\n",
    "\n"
   ]
  },
  {
   "cell_type": "markdown",
   "id": "1446e8c3",
   "metadata": {},
   "source": [
    "La carte choroplèthe suivante permet de visualiser rapidement les résultats\n",
    "(l'Alaska et Hawaï ont été exclus). \n"
   ]
  },
  {
   "cell_type": "code",
   "execution_count": null,
   "id": "da8a2a98",
   "metadata": {},
   "outputs": [],
   "source": [
    "import numpy as np\n",
    "import matplotlib.pyplot as plt\n",
    "import seaborn as sns\n",
    "\n",
    "color_dict = {'republican': '#FF0000', 'democrats': '#0000FF'}\n",
    "#votes.plot(column = \"winner\", figsize = (12,12), c=votes['winner'].map(color_dict))\n",
    "\n",
    "fig, ax = plt.subplots(figsize = (12,12))\n",
    "grouped = votes.groupby('winner')\n",
    "for key, group in grouped:\n",
    "    group.plot(ax=ax, column='winner', label=key, color=color_dict[key])\n",
    "plt.axis('off')\n",
    "\n",
    "# plt.show()"
   ]
  },
  {
   "cell_type": "markdown",
   "id": "3cc4b63c",
   "metadata": {},
   "source": [
    "```\n",
    "## (-127.6146362, -64.0610978, 23.253819649999997, 50.628669349999996)\n",
    "```\n",
    "\n"
   ]
  },
  {
   "cell_type": "markdown",
   "id": "55a4830a",
   "metadata": {},
   "source": [
    "```r\n",
    "knitr::include_graphics(\"map_vote.png\")\n",
    "```"
   ]
  },
  {
   "cell_type": "markdown",
   "id": "45fdc34c",
   "metadata": {},
   "source": [
    "Les cartes choroplèthes peuvent donner une impression fallacieuse ayant servi \n",
    "de justification pour contester les résultats du vote. En effet, un biais\n",
    "connu des représentations choroplèthes est qu'elles donnent une importance\n",
    "visuelle excessive aux grands espaces. Or, ceux-ci sont souvent des espaces\n",
    "peu denses et influencent donc moins la variable d'intérêt (en l'occurrence\n",
    "le taux de vote en faveur des républicains/démocrates). Une représentation à \n",
    "privilégier pour ce type de phénomènes est les ronds proportionnels. \n",
    "\n",
    "Le [GIF \"Land does not vote, people do\"](https://www.core77.com/posts/90771/A-Great-Example-of-Better-Data-Visualization-This-Voting-Map-GIF)\n",
    "qui avait eu un certain succès en 2020 propose un autre mode de visualisation.\n",
    "La carte originale a probablement été construite avec `JavaScript`. Cependant,\n",
    "on dispose avec `Python` pour répliquer, à faible coût, cette approche avec \n",
    "l'une des surcouches à JavaScript vue dans la partie [visualisation](#visualisation). \n",
    "\n",
    "En l'occurrence, on peut utiliser `plotly` pour tenir compte de la population:\n",
    "\n",
    "\n",
    "\n",
    "\n",
    "\n",
    "\n"
   ]
  },
  {
   "cell_type": "markdown",
   "id": "1a8eeacb",
   "metadata": {},
   "source": [
    "## Explorer la structure des données\n",
    "\n",
    "La première étape nécessaire à suivre avant de se lancer dans la modélisation\n",
    "est de déterminer les variables à inclure dans le modèle.\n",
    "\n",
    "Les fonctionnalités de `pandas` sont, à ce niveau, suffisantes pour explorer des structures simples. Néanmoins, lorsqu'on est face à un jeu de données présentant de nombreuses variables explicatives (*features* en machine learning, *covariates* en économétrie), il est souvent judicieux d'avoir une première étape de sélection de variable, ce que nous verrons par la suite dans la [partie dédiée](https://linogaliana-teaching.netlify.app/lasso/).  \n",
    "\n",
    "Avant d'être en mesure de sélectionner le meilleur ensemble de variables explicatives, nous allons en prendre un nombre restreint et arbitraire. La première tâche est de représenter les relations entre les données, notamment la relation des variables explicatives à la variable dépendante (le score du parti républicain) ainsi que les relations entre les variables explicatives. "
   ]
  },
  {
   "cell_type": "markdown",
   "id": "6d238d8f",
   "metadata": {},
   "source": [
    "**Exercice 2 : Regarder les corrélations entre les variables**\n",
    "\n",
    "1. Créer un DataFrame `df2` plus petit avec les variables `winner` et \n",
    "`votes_gop`, `Unemployment_rate_2019`,\n",
    "`Median_Household_Income_2019`,\n",
    "`Percent of adults with less than a high school diploma, 2015-19`,\n",
    "`Percent of adults with a bachelor's degree or higher, 2015-19`\n"
   ]
  },
  {
   "cell_type": "code",
   "execution_count": null,
   "id": "425956f0",
   "metadata": {},
   "outputs": [],
   "source": [
    "# 1. Créer le data.frame df2.\n",
    "df2 = votes.set_index(\"GEOID\").loc[: , [\"winner\", \"votes_gop\",\n",
    "          'Unemployment_rate_2019', 'Median_Household_Income_2019',\n",
    "          'Percent of adults with less than a high school diploma, 2015-19',\n",
    "          \"Percent of adults with a bachelor's degree or higher, 2015-19\"]]"
   ]
  },
  {
   "cell_type": "markdown",
   "id": "0bfeef3d",
   "metadata": {},
   "source": [
    "2. Représenter grâce à un graphique la matrice de corrélation avec `heatmap` de `seaborn`.\n"
   ]
  },
  {
   "cell_type": "code",
   "execution_count": null,
   "id": "fe3f8c5a",
   "metadata": {},
   "outputs": [],
   "source": [
    "# 2. Matrice de corrélation graphique\n",
    "sns.heatmap(df2.drop(\"winner\", axis = 1).corr(), cmap='coolwarm', annot=True, fmt=\".2f\")\n",
    "plt.savefig('correlation_matrix2.png', bbox_inches='tight')\n",
    "\n",
    "## Construction directement avec pandas également possible\n",
    "df2.drop(\"winner\", axis = 1).corr().style.background_gradient(cmap='coolwarm').set_precision(2)"
   ]
  },
  {
   "cell_type": "markdown",
   "id": "4bb0e863",
   "metadata": {},
   "source": [
    "```\n",
    "## <pandas.io.formats.style.Styler object at 0x7f764ca05f10>\n",
    "## \n",
    "## <string>:1: FutureWarning:\n",
    "## \n",
    "## this method is deprecated in favour of `Styler.format(precision=..)`\n",
    "```\n",
    "\n",
    "Elle aura l'aspect suivant:"
   ]
  },
  {
   "cell_type": "markdown",
   "id": "828caaa3",
   "metadata": {},
   "source": [
    "3. Choisir quelques variables (pas plus de 4 ou 5) et représenter une matrice de nuages de points\n"
   ]
  },
  {
   "cell_type": "code",
   "execution_count": null,
   "id": "68e646ac",
   "metadata": {},
   "outputs": [],
   "source": [
    "# 3. Matrice de nuages de points\n",
    "ax = pd.plotting.scatter_matrix(df2, figsize = (15,15))\n",
    "ax"
   ]
  },
  {
   "cell_type": "markdown",
   "id": "2a2ff777",
   "metadata": {},
   "source": [
    "```\n",
    "## array([[<AxesSubplot:xlabel='votes_gop', ylabel='votes_gop'>,\n",
    "##         <AxesSubplot:xlabel='Unemployment_rate_2019', ylabel='votes_gop'>,\n",
    "##         <AxesSubplot:xlabel='Median_Household_Income_2019', ylabel='votes_gop'>,\n",
    "##         <AxesSubplot:xlabel='Percent of adults with less than a high school diploma, 2015-19', ylabel='votes_gop'>,\n",
    "##         <AxesSubplot:xlabel=\"Percent of adults with a bachelor's degree or higher, 2015-19\", ylabel='votes_gop'>],\n",
    "##        [<AxesSubplot:xlabel='votes_gop', ylabel='Unemployment_rate_2019'>,\n",
    "##         <AxesSubplot:xlabel='Unemployment_rate_2019', ylabel='Unemployment_rate_2019'>,\n",
    "##         <AxesSubplot:xlabel='Median_Household_Income_2019', ylabel='Unemployment_rate_2019'>,\n",
    "##         <AxesSubplot:xlabel='Percent of adults with less than a high school diploma, 2015-19', ylabel='Unemployment_rate_2019'>,\n",
    "##         <AxesSubplot:xlabel=\"Percent of adults with a bachelor's degree or higher, 2015-19\", ylabel='Unemployment_rate_2019'>],\n",
    "##        [<AxesSubplot:xlabel='votes_gop', ylabel='Median_Household_Income_2019'>,\n",
    "##         <AxesSubplot:xlabel='Unemployment_rate_2019', ylabel='Median_Household_Income_2019'>,\n",
    "##         <AxesSubplot:xlabel='Median_Household_Income_2019', ylabel='Median_Household_Income_2019'>,\n",
    "##         <AxesSubplot:xlabel='Percent of adults with less than a high school diploma, 2015-19', ylabel='Median_Household_Income_2019'>,\n",
    "##         <AxesSubplot:xlabel=\"Percent of adults with a bachelor's degree or higher, 2015-19\", ylabel='Median_Household_Income_2019'>],\n",
    "##        [<AxesSubplot:xlabel='votes_gop', ylabel='Percent of adults with less than a high school diploma, 2015-19'>,\n",
    "##         <AxesSubplot:xlabel='Unemployment_rate_2019', ylabel='Percent of adults with less than a high school diploma, 2015-19'>,\n",
    "##         <AxesSubplot:xlabel='Median_Household_Income_2019', ylabel='Percent of adults with less than a high school diploma, 2015-19'>,\n",
    "##         <AxesSubplot:xlabel='Percent of adults with less than a high school diploma, 2015-19', ylabel='Percent of adults with less than a high school diploma, 2015-19'>,\n",
    "##         <AxesSubplot:xlabel=\"Percent of adults with a bachelor's degree or higher, 2015-19\", ylabel='Percent of adults with less than a high school diploma, 2015-19'>],\n",
    "##        [<AxesSubplot:xlabel='votes_gop', ylabel=\"Percent of adults with a bachelor's degree or higher, 2015-19\">,\n",
    "##         <AxesSubplot:xlabel='Unemployment_rate_2019', ylabel=\"Percent of adults with a bachelor's degree or higher, 2015-19\">,\n",
    "##         <AxesSubplot:xlabel='Median_Household_Income_2019', ylabel=\"Percent of adults with a bachelor's degree or higher, 2015-19\">,\n",
    "##         <AxesSubplot:xlabel='Percent of adults with less than a high school diploma, 2015-19', ylabel=\"Percent of adults with a bachelor's degree or higher, 2015-19\">,\n",
    "##         <AxesSubplot:xlabel=\"Percent of adults with a bachelor's degree or higher, 2015-19\", ylabel=\"Percent of adults with a bachelor's degree or higher, 2015-19\">]],\n",
    "##       dtype=object)\n",
    "```"
   ]
  },
  {
   "cell_type": "code",
   "execution_count": null,
   "id": "5c2c5e03",
   "metadata": {
    "lines_to_next_cell": 0
   },
   "outputs": [],
   "source": [
    "plt.savefig('scatter_matrix.png', bbox_inches='tight')"
   ]
  },
  {
   "cell_type": "markdown",
   "id": "3b72a4c4",
   "metadata": {},
   "source": []
  },
  {
   "cell_type": "markdown",
   "id": "83a57c15",
   "metadata": {},
   "source": [
    "4. (optionnel) Refaire ces figures avec `plotly` qui offre également la possibilité de faire une matrice de corrélation. Le résultat devrait ressembler au graphique suivant :\n",
    " \n"
   ]
  },
  {
   "cell_type": "code",
   "execution_count": null,
   "id": "21379cea",
   "metadata": {},
   "outputs": [],
   "source": [
    "# 4. Matrice de corélation avec plotly\n",
    "import plotly\n",
    "import plotly.express as px\n",
    "htmlsnip2 = px.scatter_matrix(df2)\n",
    "htmlsnip2.update_traces(diagonal_visible=False)\n",
    "# Pour inclusion dans le site web"
   ]
  },
  {
   "cell_type": "markdown",
   "id": "cd736b08",
   "metadata": {},
   "source": [
    "```\n",
    "## Figure({\n",
    "##     'data': [{'diagonal': {'visible': False},\n",
    "##               'dimensions': [{'axis': {'matches': True},\n",
    "##                               'label': 'winner',\n",
    "##                               'values': array(['republican', 'republican', 'republican', ..., 'republican',\n",
    "##                                                'republican', 'republican'], dtype=object)},\n",
    "##                              {'axis': {'matches': True},\n",
    "##                               'label': 'votes_gop',\n",
    "##                               'values': array([  877,  1437, 34853, ...,  7060, 10161,  5646])},\n",
    "##                              {'axis': {'matches': True},\n",
    "##                               'label': 'Unemployment_rate_2019',\n",
    "##                               'values': array([2.7, 3.4, 4.7, ..., 3.1, 4.6, 3.6])},\n",
    "##                              {'axis': {'matches': True},\n",
    "##                               'label': 'Median_Household_Income_2019',\n",
    "##                               'values': array([45023., 49659., 50143., ..., 43601., 42633., 47016.])},\n",
    "##                              {'axis': {'matches': True},\n",
    "##                               'label': 'Percent of adults with less than a high school diploma, 2015-19',\n",
    "##                               'values': array([10.16949177,  7.5345521 , 11.19228745, ..., 18.78642273, 15.49140453,\n",
    "##                                                15.47547245])},\n",
    "##                              {'axis': {'matches': True},\n",
    "##                               'label': \"Percent of adults with a bachelor's degree or higher, 2015-19\",\n",
    "##                               'values': array([20.        , 17.29826164, 22.2482872 , ..., 15.22979832, 11.24642944,\n",
    "##                                                16.12207985])}],\n",
    "##               'hovertemplate': '%{xaxis.title.text}=%{x}<br>%{yaxis.title.text}=%{y}<extra></extra>',\n",
    "##               'legendgroup': '',\n",
    "##               'marker': {'color': '#636efa', 'symbol': 'circle'},\n",
    "##               'name': '',\n",
    "##               'showlegend': False,\n",
    "##               'type': 'splom'}],\n",
    "##     'layout': {'dragmode': 'select', 'legend': {'tracegroupgap': 0}, 'margin': {'t': 60}, 'template': '...'}\n",
    "## })\n",
    "```"
   ]
  },
  {
   "cell_type": "code",
   "execution_count": null,
   "id": "0f436d7a",
   "metadata": {
    "lines_to_next_cell": 0
   },
   "outputs": [],
   "source": [
    "htmlsnip2.write_json(\"scatter_matrix.json\")"
   ]
  },
  {
   "cell_type": "markdown",
   "id": "c1bee20a",
   "metadata": {},
   "source": [
    "\n",
    "\n"
   ]
  },
  {
   "cell_type": "markdown",
   "id": "17395bd1",
   "metadata": {},
   "source": [
    "## Transformer les données\n",
    "\n",
    "Les différences d'échelle ou de distribution entre les variables peuvent \n",
    "diverger des hypothèses sous-jacentes dans les modèles.\n",
    "\n",
    "Par exemple, dans le cadre\n",
    "de la régression linéaire, les variables catégorielles ne sont pas traitées à la même\n",
    "enseigne que les variables ayant valeur dans $\\mathbb{R}$. Une variable\n",
    "discrète (prenant un nombre fini de valeurs) devra être transformées en suite de\n",
    "variables 0/1 par rapport à une modalité de référence pour être en adéquation\n",
    "avec les hypothèses de la régression linéaire. On appelle ce type de transformation\n",
    "*one-hot encoding*, sur lequel nous reviendrons. Il s'agit d'une transformation,\n",
    "parmi d'autres, disponibles dans `scikit` pour mettre en adéquation un jeu de\n",
    "données et des hypothèses mathématiques. \n",
    "\n",
    "L'ensemble de ces tâches s'appelle le *preprocessing*. L'un des intérêts\n",
    "d'utiliser `scikit` est qu'on peut considérer qu'une tâche de preprocessing\n",
    "est une tâche d'apprentissage (on apprend des paramètres d'une structure \n",
    "de données) qui est réutilisable pour un jeu de données à la structure\n",
    "similaire:\n"
   ]
  },
  {
   "cell_type": "markdown",
   "id": "ca5abe85",
   "metadata": {},
   "source": [
    "### Standardisation\n",
    "\n",
    "La standardisation consiste à transformer des données pour que la distribution empirique suive une loi $\\mathcal{N}(0,1)$. Pour être performants, la plupart des modèles de machine learning nécessitent souvent d'avoir des données dans cette distribution.\n",
    "\n",
    "Pour un statisticien, le terme `normalization` dans le vocable `scikit` peut avoir un sens contre-intuitif. On s'attendrait à ce que la normalisation consiste à transformer une variable de manière à ce que $X \\sim \\mathcal{N}(0,1)$. C'est, en fait, la **standardisation** en `scikit`. \n",
    "\n",
    "La **normalisation** consiste à modifier les données de manière à avoir une norme unitaire. La raison est expliquée plus bas."
   ]
  },
  {
   "cell_type": "markdown",
   "id": "6dc42ac0",
   "metadata": {},
   "source": [
    "**Exercice 3: Standardisation**\n",
    "\n",
    "1. Standardiser la variable `Median_Household_Income_2019` (ne pas écraser les valeurs !) et regarder l'histogramme avant/après normalisation.\n"
   ]
  },
  {
   "cell_type": "code",
   "execution_count": null,
   "id": "f42c901e",
   "metadata": {
    "lines_to_next_cell": 2
   },
   "outputs": [],
   "source": [
    "# 1. Standardisation de Median_Household_Income_2019 et histogramme\n",
    "from sklearn import preprocessing\n",
    "df2['y_standard'] = preprocessing.scale(df2['Median_Household_Income_2019'])\n",
    "f, axes = plt.subplots(2, figsize=(10, 10))\n",
    "sns.distplot(df2[\"Median_Household_Income_2019\"] , color=\"skyblue\", ax=axes[0])\n",
    "sns.distplot(df2[\"y_standard\"] , color=\"olive\", ax=axes[1])\n",
    "plt.savefig('standardisation.png', bbox_inches='tight')"
   ]
  },
  {
   "cell_type": "markdown",
   "id": "bed8a8c5",
   "metadata": {},
   "source": [
    "*Note : On obtient bien une distribution centrée à zéro et on pourrait vérifier que la variance empirique soit bien égale à 1. On pourrait aussi vérifier que ceci est vrai également quand on transforme plusieurs colonnes à la fois.*"
   ]
  },
  {
   "cell_type": "markdown",
   "id": "d2c6e670",
   "metadata": {},
   "source": [
    "2. Créer `scaler`, un `Transformer` que vous construisez sur les 1000 premières lignes de votre DataFrame. Vérifier la moyenne et l'écart-type de chaque colonne sur ces mêmes observations.\n"
   ]
  },
  {
   "cell_type": "code",
   "execution_count": null,
   "id": "e1fd5af7",
   "metadata": {},
   "outputs": [],
   "source": [
    "# 2. Créer un scaler\n",
    "df2 = df2.drop(\"winner\", axis = 1)\n",
    "scaler = preprocessing.StandardScaler().fit(df2.head(1000))\n",
    "scaler.transform(df2.head(1000))"
   ]
  },
  {
   "cell_type": "markdown",
   "id": "aff02748",
   "metadata": {},
   "source": [
    "```\n",
    "## array([[-0.50265802, -0.88893647, -0.76328172, -0.4335655 , -0.16810839,\n",
    "##         -0.76328172],\n",
    "##        [-0.48558223, -0.34562421, -0.41520637, -0.8419481 , -0.45532298,\n",
    "##         -0.41520637],\n",
    "##        [ 0.53335481,  0.66338426, -0.37886718, -0.27504501,  0.07090103,\n",
    "##         -0.37886718],\n",
    "##        ...,\n",
    "##        [ 1.2853301 , -0.1127761 ,  0.83579266, -0.69429463,  0.47559916,\n",
    "##          0.83579266],\n",
    "##        [-0.38818922,  1.28431256, -1.12291953,  0.50323123, -0.90532544,\n",
    "##         -1.12291953],\n",
    "##        [-0.35574521, -0.88893647, -0.06705594, -0.4197789 ,  1.25454457,\n",
    "##         -0.06705594]])\n",
    "```"
   ]
  },
  {
   "cell_type": "code",
   "execution_count": null,
   "id": "517d61b4",
   "metadata": {},
   "outputs": [],
   "source": [
    "print(\"Moyenne de chaque variable sur 1000 premières observations\")"
   ]
  },
  {
   "cell_type": "markdown",
   "id": "40a9a4f0",
   "metadata": {},
   "source": [
    "```\n",
    "## Moyenne de chaque variable sur 1000 premières observations\n",
    "```"
   ]
  },
  {
   "cell_type": "code",
   "execution_count": null,
   "id": "860314f4",
   "metadata": {},
   "outputs": [],
   "source": [
    "scaler.transform(df2.head(1000)).mean(axis=0)"
   ]
  },
  {
   "cell_type": "markdown",
   "id": "5df959de",
   "metadata": {},
   "source": [
    "```\n",
    "## array([-3.37507799e-17,  2.66453526e-17,  1.58095759e-16,  1.42108547e-17,\n",
    "##         1.24344979e-17, -1.59872116e-17])\n",
    "```"
   ]
  },
  {
   "cell_type": "code",
   "execution_count": null,
   "id": "446deea6",
   "metadata": {},
   "outputs": [],
   "source": [
    "print(\"Ecart-type de chaque variable sur 1000 premières observations\")"
   ]
  },
  {
   "cell_type": "markdown",
   "id": "5e27e2dc",
   "metadata": {},
   "source": [
    "```\n",
    "## Ecart-type de chaque variable sur 1000 premières observations\n",
    "```"
   ]
  },
  {
   "cell_type": "code",
   "execution_count": null,
   "id": "774e8d94",
   "metadata": {},
   "outputs": [],
   "source": [
    "scaler.transform(df2.head(1000)).std(axis=0)"
   ]
  },
  {
   "cell_type": "markdown",
   "id": "e1d3c0d4",
   "metadata": {},
   "source": [
    "```\n",
    "## array([1., 1., 1., 1., 1., 1.])\n",
    "```"
   ]
  },
  {
   "cell_type": "markdown",
   "id": "45f8127a",
   "metadata": {},
   "source": [
    "*Note : Les paramètres qui seront utilisés pour une standardisation ultérieure sont stockés dans les attributs `.mean_` et `.scale_`*\n"
   ]
  },
  {
   "cell_type": "code",
   "execution_count": null,
   "id": "70b81b4f",
   "metadata": {},
   "outputs": [],
   "source": [
    "scaler.mean_"
   ]
  },
  {
   "cell_type": "markdown",
   "id": "4ad12e27",
   "metadata": {},
   "source": [
    "```\n",
    "## array([ 1.73616500e+04,  3.84530000e+00,  5.51891150e+04,  1.29669150e+01,\n",
    "##         2.15813433e+01, -2.73468885e-02])\n",
    "```"
   ]
  },
  {
   "cell_type": "code",
   "execution_count": null,
   "id": "e3fa1f45",
   "metadata": {},
   "outputs": [],
   "source": [
    "scaler.scale_"
   ]
  },
  {
   "cell_type": "markdown",
   "id": "78288deb",
   "metadata": {},
   "source": [
    "```\n",
    "## array([3.27949605e+04, 1.28839354e+00, 1.33189552e+04, 6.45213516e+00,\n",
    "##        9.40668897e+00, 9.22667364e-01])\n",
    "```\n",
    "\n",
    "On peut voir ces attributs comme des paramètres entraînés sur un certain jeu de\n",
    "données et qu'on peut réutiliser sur un autre, à condition que les\n",
    "dimensions coïncident.\n",
    "\n",
    "3. Appliquer `scaler` sur les autres lignes du DataFrame et comparer les distributions obtenues de la variable `Median_Household_Income_2019`.\n"
   ]
  },
  {
   "cell_type": "code",
   "execution_count": null,
   "id": "a6af3bdb",
   "metadata": {
    "lines_to_next_cell": 0
   },
   "outputs": [],
   "source": [
    "# 3. Appliquer le scaler à toutes les autres lignes\n",
    "X1 = scaler.transform(df2.head(1000))\n",
    "X2 = scaler.transform(df2[1000:])\n",
    "col_pos = df2.columns.get_loc(\"Median_Household_Income_2019\")\n",
    "# X2.mean(axis = 0)\n",
    "# X2.std(axis = 0)\n",
    "f, axes = plt.subplots(2, figsize=(10, 10))\n",
    "sns.distplot(X1[:,col_pos] , color=\"skyblue\", ax=axes[0])\n",
    "sns.distplot(X2[:,col_pos] , color=\"olive\", ax=axes[1])\n",
    "plt.savefig('standardisation2.png', bbox_inches='tight')"
   ]
  },
  {
   "cell_type": "markdown",
   "id": "e2bd74cf",
   "metadata": {},
   "source": []
  },
  {
   "cell_type": "markdown",
   "id": "8d4a4048",
   "metadata": {},
   "source": [
    "*Note : Une fois appliqués à un autre `DataFrame`, on peut remarquer que la distribution n'est pas exactement centrée-réduite dans le `DataFrame` sur lequel les paramètres n'ont pas été estimés. C'est normal, l'échantillon initial n'était pas aléatoire, les moyennes et variances de cet échantillon n'ont pas de raison de coïncider avec les moments de l'échantillon complet.*\n",
    "\n",
    "\n",
    "\n",
    "\n",
    "\n",
    "\n",
    "\n",
    "\n",
    " \n",
    "\n"
   ]
  },
  {
   "cell_type": "markdown",
   "id": "e28b07be",
   "metadata": {},
   "source": [
    "### Normalisation\n",
    "\n",
    "La **normalisation** est l'action de transformer les données de manière à obtenir une norme ($\\mathcal{l}_1$ ou $\\mathcal{l}_2$) unitaire. Autrement dit, avec la norme adéquate, la somme des éléments est égale à 1. Par défaut, la norme est dans $\\mathcal{l}_2$. Cette transformation est particulièrement utilisée en classification de texte ou pour effectuer du *clustering*."
   ]
  },
  {
   "cell_type": "markdown",
   "id": "62451a20",
   "metadata": {},
   "source": [
    "**Exercice 4 : Normalisation**\n",
    "\n",
    "1. Normaliser la variable `median_earnings_2010_dollars` (ne pas écraser les valeurs !) et regarder l'histogramme avant/après normalisation.\n"
   ]
  },
  {
   "cell_type": "code",
   "execution_count": null,
   "id": "5420372c",
   "metadata": {
    "lines_to_next_cell": 0
   },
   "outputs": [],
   "source": [
    "# 1. Normalisation de median_earnings_2010_dollars et histogrammes\n",
    "scaler = preprocessing.Normalizer().fit(df2.dropna(how = \"any\").head(1000))\n",
    "X1 = scaler.transform(df2.dropna(how = \"any\").head(1000))\n",
    "\n",
    "f, axes = plt.subplots(2, figsize=(10, 10))\n",
    "sns.distplot(df2[\"Median_Household_Income_2019\"] , color=\"skyblue\", ax=axes[0])\n",
    "sns.distplot(X1[:,col_pos] , color=\"olive\", ax=axes[1])\n",
    "plt.savefig('normalisation.png', bbox_inches='tight')"
   ]
  },
  {
   "cell_type": "markdown",
   "id": "beda1ab2",
   "metadata": {},
   "source": []
  },
  {
   "cell_type": "markdown",
   "id": "ab90c352",
   "metadata": {},
   "source": [
    "2. Vérifier que la norme $\\mathcal{l}_2$ est bien égale à 1.\n"
   ]
  },
  {
   "cell_type": "code",
   "execution_count": null,
   "id": "05df33a0",
   "metadata": {},
   "outputs": [],
   "source": [
    "# 2. Vérification de la norme L2\n",
    "np.sqrt(np.sum(X1**2, axis=1))[:5] # L2-norm"
   ]
  },
  {
   "cell_type": "markdown",
   "id": "563fadf4",
   "metadata": {},
   "source": [
    "```\n",
    "## array([1., 1., 1., 1., 1.])\n",
    "```\n",
    "\n",
    "\n",
    "\n"
   ]
  },
  {
   "cell_type": "markdown",
   "id": "522bcced",
   "metadata": {},
   "source": [
    "` preprocessing.Normalizer` n'accepte pas les valeurs manquantes, alors que `preprocessing.StandardScaler()` s'en accomode (dans la version `0.22` de scikit). Pour pouvoir aisément appliquer le *normalizer*, il faut\n",
    "\n",
    "* retirer les valeurs manquantes du DataFrame avec la méthode `dropna`: `df.dropna(how = \"any\")`;\n",
    "* ou les imputer avec un modèle adéquat. [`scikit` permet de le faire](https://scikit-learn.org/stable/modules/preprocessing.html#imputation-of-missing-values).\n",
    "\n",
    "### Encodage des valeurs catégorielles\n",
    "\n",
    "Les données catégorielles doivent être recodées sous forme de valeurs numériques pour être intégrables dans le cadre d'un modèle. Cela peut être fait de plusieurs manières :\n",
    "\n",
    "* `LabelEncoder`: transforme un vecteur `[\"a\",\"b\",\"c\"]` en vecteur numérique `[0,1,2]`. Cette approche a l'inconvénient d'introduire un ordre dans les modalités, ce qui n'est pas toujours souhaitable\n",
    "\n",
    "* `OrdinalEncoder`: une version généralisée du `LabelEncoder` qui a vocation à s'appliquer sur des matrices ($X$), alors que `LabelEncoder` est plutôt pour un vecteur ($y$)\n",
    "\n",
    "* `pandas.get_dummies` effectue une opération de *dummy expansion*. Un vecteur de taille *n* avec *K* catégories sera transformé en matrice de taille $n \\times K$ pour lequel chaque colonne sera une variable *dummy* pour la modalité *k*. Il y a ici $K$ modalités et il y a donc multicollinéarité. Avec une régression linéaire avec constante, il convient de retirer une modalité avant l'estimation.\n",
    "\n",
    "* `OneHotEncoder` est une version généralisée (et optimisée) de la *dummy expansion*. Il a plutôt vocation à s'appliquer sur les *features* ($X$) du modèle"
   ]
  },
  {
   "cell_type": "markdown",
   "id": "cfa41f9d",
   "metadata": {},
   "source": [
    "**Exercice 5 : Encoder des variables catégorielles**\n",
    "\n",
    "1. Créer `df` qui conserve uniquement les variables `state_name` et `county_name` dans `votes`.\n"
   ]
  },
  {
   "cell_type": "code",
   "execution_count": null,
   "id": "b352648a",
   "metadata": {},
   "outputs": [],
   "source": [
    "#1. Création de df\n",
    "df = votes[[\"state_name\",'county_name']]"
   ]
  },
  {
   "cell_type": "markdown",
   "id": "088f7a89",
   "metadata": {},
   "source": [
    "2. Appliquer à `state_name` un `LabelEncoder`\n"
   ]
  },
  {
   "cell_type": "code",
   "execution_count": null,
   "id": "cbc10b13",
   "metadata": {},
   "outputs": [],
   "source": [
    "#2. Appliquer un LabelEncoder à stat_name\n",
    "label_enc = preprocessing.LabelEncoder().fit(df['state_name'])\n",
    "np.column_stack((label_enc.transform(df['state_name']),df['state_name']))"
   ]
  },
  {
   "cell_type": "markdown",
   "id": "8e483c86",
   "metadata": {},
   "source": [
    "```\n",
    "## array([[23, 'Missouri'],\n",
    "##        [25, 'Nebraska'],\n",
    "##        [30, 'New York'],\n",
    "##        ...,\n",
    "##        [41, 'Texas'],\n",
    "##        [41, 'Texas'],\n",
    "##        [41, 'Texas']], dtype=object)\n",
    "```\n",
    "\n",
    "*Note : Le résultat du label encoding est relativement intuitif, notamment quand on le met en relation avec le vecteur initial.*\n",
    "\n",
    "3. Regarder la *dummy expansion* de `state_name`\n"
   ]
  },
  {
   "cell_type": "code",
   "execution_count": null,
   "id": "9a7e475e",
   "metadata": {},
   "outputs": [],
   "source": [
    "# 3. dummy expansion de state_name\n",
    "pd.get_dummies(df['state_name'])"
   ]
  },
  {
   "cell_type": "markdown",
   "id": "8f7946ce",
   "metadata": {},
   "source": [
    "```\n",
    "##       Alabama  Arizona  Arkansas  ...  West Virginia  Wisconsin  Wyoming\n",
    "## 0           0        0         0  ...              0          0        0\n",
    "## 1           0        0         0  ...              0          0        0\n",
    "## 2           0        0         0  ...              0          0        0\n",
    "## 3           0        0         0  ...              0          0        0\n",
    "## 4           0        0         0  ...              0          0        0\n",
    "## ...       ...      ...       ...  ...            ...        ...      ...\n",
    "## 3102        0        0         0  ...              0          0        0\n",
    "## 3103        0        0         0  ...              0          0        0\n",
    "## 3104        0        0         0  ...              0          0        0\n",
    "## 3105        0        0         0  ...              0          0        0\n",
    "## 3106        0        0         0  ...              0          0        0\n",
    "## \n",
    "## [3107 rows x 49 columns]\n",
    "```\n",
    "\n",
    "4. Appliquer un `OrdinalEncoder` à `df[['state_name', 'county_name']]`\n",
    "\n"
   ]
  },
  {
   "cell_type": "code",
   "execution_count": null,
   "id": "82664307",
   "metadata": {},
   "outputs": [],
   "source": [
    "# 4. OrdinalEncoder\n",
    "ord_enc = preprocessing.OrdinalEncoder().fit(df)\n",
    "# ord_enc.transform(df[['state', 'county']])\n",
    "ord_enc.transform(df)[:,0]"
   ]
  },
  {
   "cell_type": "markdown",
   "id": "37db9548",
   "metadata": {},
   "source": [
    "```\n",
    "## array([23., 25., 30., ..., 41., 41., 41.])\n",
    "```\n",
    "\n",
    "*Note : Le résultat du *ordinal encoding* est cohérent avec celui du label encoding*\n",
    "\n",
    "5. Appliquer un `OneHotEncoder` à `df[['state_name', 'county_name']]`\n"
   ]
  },
  {
   "cell_type": "code",
   "execution_count": null,
   "id": "3dc05116",
   "metadata": {},
   "outputs": [],
   "source": [
    "# 5. OneHotEncoder\n",
    "onehot_enc = preprocessing.OneHotEncoder().fit(df)\n",
    "onehot_enc.transform(df)"
   ]
  },
  {
   "cell_type": "markdown",
   "id": "8a5f6bfc",
   "metadata": {},
   "source": [
    "```\n",
    "## <3107x1891 sparse matrix of type '<class 'numpy.float64'>'\n",
    "## \twith 6214 stored elements in Compressed Sparse Row format>\n",
    "```\n",
    "\n",
    "*Note : `scikit` optimise l'objet nécessaire pour stocker le résultat d'un modèle de transformation. Par exemple, le résultat de l'encoding One Hot est un objet très volumineux. Dans ce cas, scikit utilise une matrice Sparse.*\n",
    "\n"
   ]
  }
 ],
 "metadata": {
  "kernelspec": {
   "display_name": "Python 3",
   "language": "python",
   "name": "python3"
  }
 },
 "nbformat": 4,
 "nbformat_minor": 5
}
