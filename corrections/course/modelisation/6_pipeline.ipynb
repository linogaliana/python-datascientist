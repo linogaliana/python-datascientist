{
  "cells": [
    {
      "cell_type": "raw",
      "metadata": {},
      "source": [
        "---\n",
        "title: \"Premier pas vers l'industrialisation avec les pipelines scikit\"\n",
        "date: 2020-10-20T13:00:00Z\n",
        "draft: false\n",
        "weight: 60\n",
        "slug: pipeline-scikit\n",
        "type: book\n",
        "tags:\n",
        "  - scikit\n",
        "  - Machine Learning\n",
        "  - Pipeline\n",
        "  - Modelisation\n",
        "  - Tutorial\n",
        "categories:\n",
        "  - Modélisation\n",
        "  - Tutoriel\n",
        "summary: |\n",
        "  Les _pipelines_ `scikit` permettent d'intégrer de manière très flexible\n",
        "  un ensemble d'opérations de pre-processing et d'entraînement de modèles\n",
        "  dans une chaîne d'opérations. Il s'agit d'une approche particulièrement\n",
        "  appropriée pour réduire la difficulté à changer d'algorithme ou pour\n",
        "  faciliter la ré-application d'un code à de nouvelles données\n",
        "eval: false\n",
        "image: featured.png\n",
        "---"
      ],
      "id": "cd17ec1a"
    },
    {
      "cell_type": "markdown",
      "metadata": {},
      "source": [
        "::: {.cell .markdown}"
      ],
      "id": "8d6eb9d1"
    },
    {
      "cell_type": "code",
      "metadata": {},
      "source": [
        "#| output: 'asis'\n",
        "#| include: true\n",
        "#| eval: true\n",
        "\n",
        "import sys\n",
        "sys.path.insert(1, '../../../../') #insert the utils module\n",
        "from utils import print_badges\n",
        "\n",
        "#print_badges(__file__)\n",
        "print_badges(\"content/course/modelisation/6_pipeline.qmd\")"
      ],
      "id": "da9a8ef4",
      "execution_count": null,
      "outputs": []
    },
    {
      "cell_type": "markdown",
      "metadata": {},
      "source": [
        ":::\n",
        "\n",
        "# Pourquoi utiliser les pipelines ?\n",
        "\n",
        "Les chapitres précédents ont permis de montrer des bouts de code \n",
        "épars pour entraîner des modèles ou faire du _preprocessing_.\n",
        "Cette démarche est intéressante pour tâtonner mais risque d'être coûteuse\n",
        "ultérieurement s'il est nécessaire d'ajouter une étape de preprocessing \n",
        "ou de changer d'algorithme.\n",
        "\n",
        "Heureusement, `scikit` propose un excellent outil pour proposer un cadre\n",
        "général pour créer une chaîne de production *machine learning*. Il\n",
        "s'agit des\n",
        "[_pipelines_](https://scikit-learn.org/stable/modules/compose.html). \n",
        "Ils présentent de nombreux intérêts, parmi lesquels:\n",
        "\n",
        "* Ils sont très __pratiques__ et __lisibles__. On rentre des données en entrée, on n'appelle qu'une seule fois les méthodes `fit` et `predict` ce qui permet de s'assurer une gestion cohérente des transformations de variables, par exemple après l'appel d'un `StandardScaler`\n",
        "* La __modularité__ rend aisée la mise à jour d'un pipeline et renforce la capacité à le réutiliser\n",
        "* Ils permettent de facilement chercher les hyperparamètres d'un modèle. Sans *pipeline*, écrire un code qui fait du *tuning* d'hyperparamètres peut être pénible. Avec les *pipelines*, c'est une ligne de code. \n",
        "* La __sécurité__ d'être certain que les étapes de preprocessing sont bien appliquées aux jeux de données désirés avant l'estimation. \n",
        "\n",
        "\n",
        "::: {.cell .markdown}\n",
        "\n",
        "```{=html}\n",
        "<div class=\"alert alert-warning\" role=\"alert\" style=\"color: rgba(0,0,0,.8); background-color: white; margin-top: 1em; margin-bottom: 1em; margin:1.5625emauto; padding:0 .6rem .8rem!important;overflow:hidden; page-break-inside:avoid; border-radius:.25rem; box-shadow:0 .2rem .5rem rgba(0,0,0,.05),0 0 .05rem rgba(0,0,0,.1); transition:color .25s,background-color .25s,border-color .25s ; border-right: 1px solid #dee2e6 ; border-top: 1px solid #dee2e6 ; border-bottom: 1px solid #dee2e6 ; border-left:.2rem solid #ffc10780;\">\n",
        "```\n",
        "\n",
        "Un des intérêts des *pipelines* scikit est qu'ils fonctionnent aussi avec\n",
        "des méthodes qui ne sont pas issues de `scikit`.\n",
        "\n",
        "Il est très \n",
        "facile d'introduire un modèle de réseau de neurone `Keras` dans\n",
        "un pipeline `scikit`.\n",
        "\n",
        "Pour introduire un modèle économétrique `statsmodels`\n",
        "c'est un peu plus coûteux mais nous allons proposer des exemples\n",
        "qui peuvent servir de modèle et qui montrent que c'est faisable \n",
        "sans trop de difficulté.\n",
        "\n",
        "```{=html}\n",
        "</div>\n",
        "```\n",
        "\n",
        ":::\n",
        "\n",
        "::: {.cell .markdown}\n",
        "\n",
        "```{=html}\n",
        "<div class=\"alert alert-danger\" role=\"alert\" style=\"color: rgba(0,0,0,.8); background-color: white; margin-top: 1em; margin-bottom: 1em; margin:1.5625emauto; padding:0 .6rem .8rem!important;overflow:hidden; page-break-inside:avoid; border-radius:.25rem; box-shadow:0 .2rem .5rem rgba(0,0,0,.05),0 0 .05rem rgba(0,0,0,.1); transition:color .25s,background-color .25s,border-color .25s ; border-right: 1px solid #dee2e6 ; border-top: 1px solid #dee2e6 ; border-bottom: 1px solid #dee2e6 ; border-left: .2rem solid #ff0039;\">\n",
        "```\n",
        "\n",
        "\n",
        "Les éléments présents dans ce chapitre nécessitent une version assez récente\n",
        "de `scikit` (au moins la version 1.0). Pour vérifier la version, faire:\n"
      ],
      "id": "99bdbb6d"
    },
    {
      "cell_type": "code",
      "metadata": {},
      "source": [
        "import sklearn\n",
        "print(sklearn.__version__)"
      ],
      "id": "7d951ad3",
      "execution_count": null,
      "outputs": []
    },
    {
      "cell_type": "markdown",
      "metadata": {},
      "source": [
        "Il faut également une version récente de `yellowbrick` pour éviter l'erreur\n",
        "suivante quand on utilise une version récente de `scikit` (ce que \n",
        "je recommande):\n",
        "\n",
        "> `ImportError: cannot import name 'safe_indexing' from 'sklearn.utils'`\n",
        "\n",
        "\n",
        "\n",
        "```{=html}\n",
        "</div>\n",
        "```\n",
        "\n",
        ":::\n",
        "\n",
        "\n",
        "\n",
        "# Comment créer un *pipeline*\n",
        "\n",
        "Un *pipeline* est un enchaînement d'opérations qu'on code en enchainant\n",
        "des pairs *(clé, valeur)*:\n",
        "\n",
        "* la clé est le nom du pipeline, cela peut être utile lorsqu'on va\n",
        "représenter le *pipeline* sous forme de diagramme acyclique (visualisation DAG)\n",
        "ou qu'on veut afficher des informations sur une étape\n",
        "* la valeur représente la transformation à mettre en oeuvre dans le *pipeline*\n",
        "(c'est-à-dire, à l'exception de la dernière étape, \n",
        "mettre en oeuvre une méthode `transform` et éventuellement une\n",
        "transformation inverse).\n"
      ],
      "id": "7cd69226"
    },
    {
      "cell_type": "code",
      "metadata": {},
      "source": [
        "from sklearn.pipeline import Pipeline\n",
        "from sklearn.svm import SVC\n",
        "from sklearn.decomposition import PCA\n",
        "\n",
        "estimators = [('reduce_dim', PCA()), ('clf', SVC())]\n",
        "pipe = Pipeline(estimators)"
      ],
      "id": "6e3516c4",
      "execution_count": null,
      "outputs": []
    },
    {
      "cell_type": "code",
      "metadata": {},
      "source": [
        "from sklearn.utils import estimator_html_repr"
      ],
      "id": "0ec78ae5",
      "execution_count": null,
      "outputs": []
    },
    {
      "cell_type": "markdown",
      "metadata": {},
      "source": [
        "::: {.cell .markdown}\n",
        "\n",
        "```{=html}\n",
        "<div class=\"alert alert-warning\" role=\"alert\" style=\"color: rgba(0,0,0,.8); background-color: white; margin-top: 1em; margin-bottom: 1em; margin:1.5625emauto; padding:0 .6rem .8rem!important;overflow:hidden; page-break-inside:avoid; border-radius:.25rem; box-shadow:0 .2rem .5rem rgba(0,0,0,.05),0 0 .05rem rgba(0,0,0,.1); transition:color .25s,background-color .25s,border-color .25s ; border-right: 1px solid #dee2e6 ; border-top: 1px solid #dee2e6 ; border-bottom: 1px solid #dee2e6 ; border-left:.2rem solid #ffc10780;\">\n",
        "```\n",
        "\n",
        "\n",
        "Il est pratique de visualiser un *pipeline* sous forme de DAG.\n",
        "Pour cela, dans un notebook, on utilise la configuration\n",
        "suivante:\n",
        "\n",
        "~~~python\n",
        "#| eval: false\n",
        "from sklearn import set_config\n",
        "set_config(display='diagram') \n",
        "~~~\n",
        "\n",
        "\n",
        "```{=html}\n",
        "</div>\n",
        "```\n",
        "\n",
        ":::\n",
        "\n",
        "~~~python\n",
        "pipe\n",
        "~~~\n"
      ],
      "id": "5a5e5448"
    },
    {
      "cell_type": "code",
      "metadata": {},
      "source": [
        "#| eval: false\n",
        "\n",
        "print(estimator_html_repr(pipe))"
      ],
      "id": "481c4a16",
      "execution_count": null,
      "outputs": []
    },
    {
      "cell_type": "markdown",
      "metadata": {},
      "source": [
        "Au sein d'une étape de *pipeline*, les paramètres d'un estimateur\n",
        "sont accessibles avec la notation `<estimator>__<parameter>`.\n",
        "Cela permet de fixer des valeurs pour les arguments des fonctions `scikit`\n",
        "qui sont appelées au sein d'un *pipeline*. \n",
        "C'est cela qui rendra l'approche des pipelines particulièrement utile\n",
        "pour la *grid search*:\n"
      ],
      "id": "db5c2af7"
    },
    {
      "cell_type": "code",
      "metadata": {},
      "source": [
        "from sklearn.model_selection import GridSearchCV\n",
        "param_grid = {\"reduce_dim__n_components\":[2, 5, 10], \"clf__C\":[0.1, 10, 100]}\n",
        "grid_search = GridSearchCV(pipe, param_grid=param_grid)"
      ],
      "id": "c7591d0d",
      "execution_count": null,
      "outputs": []
    },
    {
      "cell_type": "code",
      "metadata": {},
      "source": [
        "#| eval: asis\n",
        "\n",
        "print(estimator_html_repr(grid_search))"
      ],
      "id": "e51b425d",
      "execution_count": null,
      "outputs": []
    },
    {
      "cell_type": "markdown",
      "metadata": {},
      "source": [
        "## Données utilisées\n",
        "\n",
        "Nous allons utiliser les données de transactions immobilières DVF pour chercher\n",
        "la meilleure manière de prédire, sachant les caractéristiques d'un bien, son\n",
        "prix.\n",
        "\n",
        "Ces données peuvent être importées directement depuis [`data.gouv`](https://www.data.gouv.fr/fr/datasets/demandes-de-valeurs-foncieres/):\n"
      ],
      "id": "859172dc"
    },
    {
      "cell_type": "code",
      "metadata": {},
      "source": [
        "import numpy as np\n",
        "import pandas as pd\n",
        "import seaborn as sns\n",
        "import matplotlib.pyplot as plt\n",
        "\n",
        "mutations = pd.read_csv('https://www.data.gouv.fr/fr/datasets/r/3004168d-bec4-44d9-a781-ef16f41856a2', sep = \"|\", decimal=\",\")"
      ],
      "id": "c6c4adbc",
      "execution_count": null,
      "outputs": []
    },
    {
      "cell_type": "markdown",
      "metadata": {},
      "source": [
        "On propose d'enrichir la base de quelques variables qui pourraient servir\n",
        "ultérieurement:\n"
      ],
      "id": "ff84e931"
    },
    {
      "cell_type": "code",
      "metadata": {},
      "source": [
        "mutations['Date mutation'] = pd.to_datetime(mutations['Date mutation'], format = \"%d/%m/%Y\")\n",
        "mutations['year'] = mutations['Date mutation'].dt.year\n",
        "mutations['month'] = mutations['Date mutation'].dt.month\n",
        "mutations['dep'] = mutations['Code postal'].astype(str).str[:2]\n",
        "mutations['lprix'] = np.log(mutations[\"Valeur fonciere\"])"
      ],
      "id": "094efe1b",
      "execution_count": null,
      "outputs": []
    },
    {
      "cell_type": "markdown",
      "metadata": {},
      "source": [
        "Si vous travaillez avec les données de 2020, n'oubliez pas\n",
        "d'intégrer l'effet\n",
        "confinement strict dans vos modèles. Pour cela, vous pouvez créer une variable\n",
        "indicatrice entre les dates en question:\n"
      ],
      "id": "b8800c70"
    },
    {
      "cell_type": "code",
      "metadata": {},
      "source": [
        "mutations['confinement'] = mutations['Date mutation'].between(pd.to_datetime(\"2020-03-17\"), pd.to_datetime(\"2020-05-03\")).astype(int)"
      ],
      "id": "7a9109df",
      "execution_count": null,
      "outputs": []
    },
    {
      "cell_type": "markdown",
      "metadata": {},
      "source": [
        "Les données DVF proposent une observation par transaction. Ces transactions\n",
        "peuvent concerner plusieurs lots.\n",
        "Pour simplifier,\n",
        "on va créer une variable de surface qui agrège les différentes informations\n",
        "de surface disponibles dans le jeu de données. En effet, les variables\n",
        "en question sont très corrélées les unes entre elles :\n"
      ],
      "id": "7ebb5328"
    },
    {
      "cell_type": "code",
      "metadata": {},
      "source": [
        "#| echo: true\n",
        "corr = mutations.loc[:, mutations.columns[mutations.columns.str.startswith('Surface Carrez')].tolist()].corr()\n",
        "fig, ax = plt.subplots(1)\n",
        "g = sns.heatmap(corr, ax=ax, \n",
        "            xticklabels=corr.columns.values,\n",
        "            yticklabels=corr.columns.values, cmap='coolwarm', annot=True, fmt=\".2f\")\n",
        "g"
      ],
      "id": "852b6909",
      "execution_count": null,
      "outputs": []
    },
    {
      "cell_type": "code",
      "metadata": {},
      "source": [
        "g.figure.get_figure()"
      ],
      "id": "a8ce888f",
      "execution_count": null,
      "outputs": []
    },
    {
      "cell_type": "markdown",
      "metadata": {},
      "source": [
        "Les agréger revient à supposer que le modèle de fixation des prix est le même\n",
        "entre chaque lot. C'est une hypothèse simplificatrice qu'une personne plus \n",
        "experte du marché immobilier, ou qu'une approche propre de sélection\n",
        "de variable pourrait amener à nier \n"
      ],
      "id": "e3a37b44"
    },
    {
      "cell_type": "code",
      "metadata": {},
      "source": [
        "mutations['surface'] = mutations.loc[:, mutations.columns[mutations.columns.str.startswith('Surface Carrez')].tolist()].sum(axis = 1)"
      ],
      "id": "28a89a1e",
      "execution_count": null,
      "outputs": []
    },
    {
      "cell_type": "markdown",
      "metadata": {},
      "source": [
        "# Un premier pipeline: *random forest* sur des variables standardisées\n",
        "\n",
        "Notre premier *pipeline* va nous permettre d'intégrer ensemble:\n",
        "\n",
        "1. Une étape de *preprocessing* avec la standardisation de variables\n",
        "2. Une étape d'estimation du prix en utilisant un modèle de *random forest*\n",
        "\n",
        "Pour le moment, on va prendre comme acquis un certain nombre de variables\n",
        "explicatives (les *features*) et les hyperparamètres du modèle\n",
        "\n",
        "\n",
        "## Définition des ensembles train/test\n",
        "\n",
        "Nous allons donc nous restreindre à un sous-ensemble de colonnes dans un\n",
        "premier temps :\n"
      ],
      "id": "523d55e3"
    },
    {
      "cell_type": "code",
      "metadata": {},
      "source": [
        "xvars = ['dep', 'Nombre de lots', 'Code type local', 'surface', 'Nombre pieces principales']\n",
        "xvars2 = pd.Series(xvars).str.replace(\" \",\"_\").tolist()\n",
        "\n",
        "mutations2 = mutations.loc[:, xvars + [\"Valeur fonciere\"]]"
      ],
      "id": "c90646c7",
      "execution_count": null,
      "outputs": []
    },
    {
      "cell_type": "markdown",
      "metadata": {},
      "source": [
        "Nous allons également ne conserver que les transactions inférieures à 5 millions\n",
        "d'euros (on anticipe que celles ayant un montant supérieur sont des transactions\n",
        "exceptionnelles dont le mécanisme de fixation du prix diffère)\n"
      ],
      "id": "54f4f84b"
    },
    {
      "cell_type": "code",
      "metadata": {},
      "source": [
        "mutations2  = mutations2.dropna()\n",
        "mutations2 = mutations2.loc[mutations2['Valeur fonciere'] < 5e6] #keep only values below 10 millions\n",
        "\n",
        "mutations2.columns = mutations2.columns.str.replace(\" \", \"_\")\n",
        "numeric_features = mutations2.columns[~mutations2.columns.isin(['dep','Code_type_local', 'confinement'])].tolist()\n",
        "categorical_features = ['dep','Code_type_local']"
      ],
      "id": "c15a1b21",
      "execution_count": null,
      "outputs": []
    },
    {
      "cell_type": "markdown",
      "metadata": {},
      "source": [
        "Au passage, nous avons abandonné la variable de code postal pour privilégier\n",
        "la commune afin de réduire la dimension de notre jeu de données. Si on voulait\n",
        "vraiment avoir un bon modèle, il faudrait faire autrement car le code postal\n",
        "est probablement un très bon prédicteur du prix d'un bien, une fois que\n",
        "les caractéristiques du bien sont contrôlées.\n",
        "\n",
        "Nous allons stratifier notre échantillonage de train/test par département\n",
        "afin de tenir compte, de manière minimale, de la géographie. \n",
        "Pour accélérer les calculs pour ce tutoriel, nous n'allons considérer que\n",
        "20% des transactions observées sur chaque département.\n"
      ],
      "id": "838d9304"
    },
    {
      "cell_type": "code",
      "metadata": {},
      "source": [
        "from sklearn.model_selection import train_test_split\n",
        "\n",
        "mutations2 = mutations2.groupby('dep').sample(frac = 0.2, random_state = 123)\n",
        "\n",
        "X_train, X_test, y_train, y_test = train_test_split(mutations2[xvars2], mutations2[[\"Valeur_fonciere\"]].values.ravel(), test_size = 0.2, random_state = 0, stratify=mutations2[['dep']])"
      ],
      "id": "117fa0da",
      "execution_count": null,
      "outputs": []
    },
    {
      "cell_type": "markdown",
      "metadata": {},
      "source": [
        "## Définition du premier pipeline\n",
        "\n",
        "Nous allons donc partir d'un *random forest* avec des valeurs d'hyperparamètres\n",
        "données. \n",
        "\n",
        "Les _random forest_ sont une méthode d'aggrégation<a name=\"cite_ref-2\"></a>[<sup>[2]</sup>](#cite_note-2) d'arbres de décision. \n",
        "On calcule $K$ arbres de décision et en tire, par une méthode d'agrégation,\n",
        "une règle de décision moyenne qu'on va appliquer pour tirer une\n",
        "prédiction de nos données. \n",
        "\n",
        "\n",
        "```{=html}\n",
        "<a name=\"cite_note-2\"></a>2. [^](#cite_ref-2)\n",
        "```\n",
        "\n",
        " En _machine learning_ on retrouve un principe inspiré du\n",
        "_bootstrap_\n",
        "qui permet d'agréger un ensemble d'estimateurs en un estimateur _\"moyennisé\"_.\n",
        "Il s'agit du [*bagging*](https://en.wikipedia.org/wiki/Bootstrap_aggregating).\n",
        "En économétrie, le _bootstrap_ consiste à ré-estimer sur *K* sous-échantillons\n",
        "aléatoires des données un estimateur afin d'en tirer, par exemple, un intervalle\n",
        "de confiance empirique à 95%. Le principe du _bagging_ est le même. On ré-estime\n",
        "_K_ fois notre estimateur (par exemple un arbre de décision) et propose une \n",
        "règle d'agrégation pour en tirer une règle moyennisée et donc une prédiction. \n",
        "\n",
        "\n",
        "![](https://upload.wikimedia.org/wikipedia/commons/7/76/Random_forest_diagram_complete.png)\n",
        "\n",
        "C'est un article de Léo Breiman (2001)<a name=\"cite_ref-3\"></a>[<sup>[3]</sup>](#cite_note-3), statisticien à Berkeley, qui\n",
        "est à l'origine du succès des *random forests*. L'un des intérêts\n",
        "des *random forest* est qu'il existe des méthodes pour déterminer \n",
        "l'importance relative de chaque variable dans la prédiction. \n",
        "\n",
        "\n",
        "```{=html}\n",
        "<a name=\"cite_note-3\"></a>3. [^](#cite_ref-3)\n",
        "```\n",
        "\n",
        " Breiman L (2001). _\"Random Forests\". Machine Learning_. 45 (1): 5–32.\n",
        "\n",
        "Pour commencer, nous allons fixer la taille des arbres de décision avec\n",
        "l'hyperparamètre `max_depth = 2`. \n"
      ],
      "id": "17c3de57"
    },
    {
      "cell_type": "code",
      "metadata": {},
      "source": [
        "from sklearn.ensemble import RandomForestRegressor\n",
        "regr = RandomForestRegressor(max_depth=2, random_state=123)"
      ],
      "id": "8905ce43",
      "execution_count": null,
      "outputs": []
    },
    {
      "cell_type": "markdown",
      "metadata": {},
      "source": [
        "Notre _pipeline_ va intégrer les étapes suivantes:\n",
        "\n",
        "1. __Preprocessing__:\n",
        "    + Les variables numériques vont être standardisées avec un `StandardScaler`.\n",
        "Pour cela, nous allons utiliser la liste `numeric_features` définie précédemment.\n",
        "    + Les variables catégorielles vont être explosées avec un *one hot encoding*\n",
        "(méthode `OneHotEncoder` de `scikit`)\n",
        "Pour cela, nous allons utiliser la liste `categorical_features`\n",
        "2. __Random forest__: nous allons appliquer l'estimateur `regr` défini plus haut\n",
        "\n",
        "J'ajoute en commentaire un exemple de comment s'introduirait une imputation\n",
        "de valeurs manquantes. La version 1.0 de `scikit` facilite l'intégration\n",
        "d'étapes complexes dans les pipelines<a name=\"cite_ref-4\"></a>[<sup>[4]</sup>](#cite_note-4). Si vous utilisez une \n",
        "version antérieure à la 1.0 de `scikit`, vous pouvez vous rendre dans\n",
        "la section [Annexe](#annexe) pour avoir des exemples de définition alternative\n",
        "(attention cependant, vous ne pourrez récupérer le nom des *features*\n",
        "transformées comme ici, ce qui peut pénaliser l'analyse d'importance\n",
        "de variables)\n",
        "\n",
        "\n",
        "```{=html}\n",
        "<a name=\"cite_note-4\"></a>4. [^](#cite_ref-4)\n",
        "```\n",
        "\n",
        " Voir ce [*thread stackoverflow*](https://stackoverflow.com/questions/54646709/sklearn-pipeline-get-feature-names-after-onehotencode-in-columntransformer)\n"
      ],
      "id": "39b9ff07"
    },
    {
      "cell_type": "code",
      "metadata": {},
      "source": [
        "from sklearn.pipeline import make_pipeline\n",
        "from sklearn.preprocessing import StandardScaler, OneHotEncoder\n",
        "from sklearn.pipeline import Pipeline\n",
        "from sklearn.compose import make_column_transformer\n",
        "\n",
        "numeric_pipeline = make_pipeline(\n",
        "  #SimpleImputer(),\n",
        "  StandardScaler()\n",
        ")\n",
        "transformer = make_column_transformer(\n",
        "    (numeric_pipeline, numeric_features[:-1]),\n",
        "    (OneHotEncoder(sparse = False, handle_unknown = \"ignore\"), categorical_features))\n",
        "pipe = Pipeline(steps=[('preprocessor', transformer),\n",
        "                      ('randomforest', regr)])"
      ],
      "id": "ec04719e",
      "execution_count": null,
      "outputs": []
    },
    {
      "cell_type": "markdown",
      "metadata": {},
      "source": [
        "Nous avons construit ce pipeline sous forme de couches successives. La couche\n",
        "`randomforest` prendra automatiquement le résultat de la couche `preprocessor`\n",
        "en _input_. La couche `features` permet d'introduire de manière relativement\n",
        "simple (quand on a les bonnes méthodes) la complexité du *preprocessing*\n",
        "sur données réelles dont les types divergent. \n",
        "\n",
        "On peut visualiser le graphe et ainsi se représenter la manière dont\n",
        "ce _pipeline_ opère:\n",
        "\n",
        "~~~python\n",
        "pipe\n",
        "~~~\n"
      ],
      "id": "3dd1a914"
    },
    {
      "cell_type": "code",
      "metadata": {},
      "source": [
        "#| eval: asis\n",
        "\n",
        "print(estimator_html_repr(pipe))"
      ],
      "id": "7b7d3afa",
      "execution_count": null,
      "outputs": []
    },
    {
      "cell_type": "markdown",
      "metadata": {},
      "source": [
        "Maintenant, il ne reste plus qu'à estimer notre modèle sur l'ensemble\n",
        "d'entraînement. C'est très simple avec un _pipeline_ : il suffit d'utiliser\n",
        "de mettre à jour le _pipeline_ avec la méthode `fit`\n"
      ],
      "id": "cbd58e9e"
    },
    {
      "cell_type": "code",
      "metadata": {},
      "source": [
        "#| echo: true\n",
        "pipe.fit(X_train, y_train)"
      ],
      "id": "d08a9415",
      "execution_count": null,
      "outputs": []
    },
    {
      "cell_type": "markdown",
      "metadata": {},
      "source": [
        "On peut utiliser le nom du pipeline en conjonction de certaines méthodes\n",
        "pour appliquer cette étape sur un jeu de données pour visualiser\n",
        "l'effet de la transformation.\n",
        "\n",
        "Par exemple, pour visualiser le jeu de données transformé avant l'étape\n",
        "d'estimation, on peut \n",
        "faire\n"
      ],
      "id": "135e5ac4"
    },
    {
      "cell_type": "code",
      "metadata": {},
      "source": [
        "pipe[:-1].fit_transform(X_train)"
      ],
      "id": "d8423154",
      "execution_count": null,
      "outputs": []
    },
    {
      "cell_type": "markdown",
      "metadata": {},
      "source": [
        "De même, si on veut récupérer le nom des *features* en sortie du preprocessing,\n",
        "on utilisera la méthode `.get_feature_names_out` qui est bien pratique\n",
        "(c'est cette méthode qui est plus complexe à appeler dans les versions `scikit`\n",
        "ancienne qui nous a fait privilégier le *pipeline* ci-dessous)\n"
      ],
      "id": "098c986e"
    },
    {
      "cell_type": "code",
      "metadata": {},
      "source": [
        "features_names=pipe['preprocessor'].get_feature_names_out()\n",
        "features_names"
      ],
      "id": "8552da52",
      "execution_count": null,
      "outputs": []
    },
    {
      "cell_type": "markdown",
      "metadata": {},
      "source": [
        "## _Variable importance_\n",
        "\n",
        "On ne va représenter, parmi notre ensemble important de colonnes, que celles\n",
        "qui ont une importance non nulle. Grâce à notre vecteur `features_names`,\n",
        "on va pouvoir facilement afficher le nom des colonnes en question (et donc\n",
        "comprendre les *features* déterminantes)\n",
        "\n",
        "L'importance va être définie à partir \n",
        "de la mesure d'impureté<a name=\"cite_ref-3\"></a>[<sup>[3]</sup>](#cite_note-3)\n",
        "\n",
        "\n",
        "```{=html}\n",
        "<a name=\"cite_note-3\"></a>3. [^](#cite_ref-3)\n",
        "```\n",
        "\n",
        " Extrait de [ce blog](https://mljar.com/blog/feature-importance-in-random-forest/):\n",
        "Gini importance (or mean decrease impurity), which is computed from the Random Forest structure. Let’s look how the Random Forest is constructed. It is a set of Decision Trees. Each Decision Tree is a set of internal nodes and leaves. In the internal node, the selected feature is used to make decision how to divide the data set into two separate sets with similars responses within. The features for internal nodes are selected with some criterion, which for classification tasks can be gini impurity or infomation gain, and for regression is variance reduction. We can measure how each feature decrease the impurity of the split (the feature with highest decrease is selected for internal node). For each feature we can collect how on average it decreases the impurity. The average over all trees in the forest is the measure of the feature importance. \n"
      ],
      "id": "082b31f7"
    },
    {
      "cell_type": "code",
      "metadata": {},
      "source": [
        "#| echo: true\n",
        "importances = pipe['randomforest'].feature_importances_\n",
        "std = np.std([tree.feature_importances_ for tree in pipe['randomforest'].estimators_], axis=0)\n",
        "\n",
        "forest_importances = pd.Series(importances[importances>0], index=features_names[importances>0])\n",
        "\n",
        "fig, ax = plt.subplots()\n",
        "forest_importances.plot.bar(yerr=std[importances>0], ax=ax)\n",
        "ax.set_title(\"Feature importances using MDI\")\n",
        "ax.set_ylabel(\"Mean decrease in impurity\")\n",
        "fig.tight_layout()"
      ],
      "id": "5ec06852",
      "execution_count": null,
      "outputs": []
    },
    {
      "cell_type": "code",
      "metadata": {},
      "source": [
        "ax"
      ],
      "id": "66075da7",
      "execution_count": null,
      "outputs": []
    },
    {
      "cell_type": "markdown",
      "metadata": {},
      "source": [
        "On voit donc que deux variables déterminantes sont des effets fixes\n",
        "géographiques (qui servent à ajuster de la différence de prix entre\n",
        "Paris et les Hauts de Seine et le reste de la France), une autre variable\n",
        "est un effet fixe type de bien. Les deux variables qui pourraient introduire\n",
        "de la variabilité, à savoir la surface et, dans une moindre mesure, le \n",
        "nombre de lots, ont une importance moindre. \n",
        "\n",
        "\n",
        "::: {.cell .markdown}\n",
        "\n",
        "```{=html}\n",
        "<div class=\"alert alert-info\" role=\"alert\" style=\"color: rgba(0,0,0,.8); background-color: white; margin-top: 1em; margin-bottom: 1em; margin:1.5625emauto; padding:0 .6rem .8rem!important;overflow:hidden; page-break-inside:avoid; border-radius:.25rem; box-shadow:0 .2rem .5rem rgba(0,0,0,.05),0 0 .05rem rgba(0,0,0,.1); transition:color .25s,background-color .25s,border-color .25s ; border-right: 1px solid #dee2e6 ; border-top: 1px solid #dee2e6 ; border-bottom: 1px solid #dee2e6 ; border-left:.2rem solid #007bff80;\">\n",
        "```\n",
        "\n",
        "Idéalement, on utiliserait `yellowbrick` pour représenter l'importance des variables\n",
        "Mais en l'état actuel du *pipeline* on a beaucoup de variables dont le poids\n",
        "est nul qui viennent polluer la visualisation. Vous pouvez \n",
        "consulter la\n",
        "[documentation de `yellowbrick` sur ce sujet](https://www.scikit-yb.org/en/latest/api/model_selection/importances.html)\n",
        "\n",
        "```{=html}\n",
        "</div>\n",
        "```\n",
        "\n",
        ":::\n",
        "\n",
        "\n",
        "## Prédiction\n",
        "\n",
        "L'analyse de l'importance de variables permet de mieux comprendre\n",
        "le fonctionnement interne des *random forests*. \n",
        "\n",
        "On obtient un modèle dont les performances sont les suivantes:\n"
      ],
      "id": "2e35604f"
    },
    {
      "cell_type": "code",
      "metadata": {},
      "source": [
        "from sklearn.metrics import mean_squared_error\n",
        "\n",
        "\n",
        "compar = pd.DataFrame([y_test, pipe.predict(X_test)]).T\n",
        "compar.columns = ['obs','pred']\n",
        "compar['diff'] = compar.obs - compar.pred\n",
        "\n",
        "print(\"Le RMSE sur le jeu de test est {:,}\".format(\n",
        "   int(np.sqrt(mean_squared_error(y_test, pipe.predict(X_test))))\n",
        "))"
      ],
      "id": "d935976a",
      "execution_count": null,
      "outputs": []
    },
    {
      "cell_type": "markdown",
      "metadata": {},
      "source": [
        "Le RMSE n'est pas très bon. Pour comprendre pourquoi, représentons\n",
        "notre nuage de point des valeurs observées et prédites:\n"
      ],
      "id": "a373a2d8"
    },
    {
      "cell_type": "code",
      "metadata": {},
      "source": [
        "#| echo: true\n",
        "\n",
        "g = sns.relplot(data = compar, x = 'obs', y = 'pred', color = \"royalblue\", alpha = 0.8)\n",
        "g.set(ylim=(0, 2e6), xlim=(0, 2e6),\n",
        "      title='Evaluating estimation error on test sample',\n",
        "      xlabel='Observed values',\n",
        "      ylabel='Predicted values')\n",
        "g.ax.axline(xy1=(0, 0), slope=1, color=\"red\", dashes=(5, 2))"
      ],
      "id": "2e7b2896",
      "execution_count": null,
      "outputs": []
    },
    {
      "cell_type": "markdown",
      "metadata": {},
      "source": [
        "C'est très décevant. La prédiction a trop peu de variabilité pour capturer\n",
        "la variance des prix observée. Cela vient du fait que les variables\n",
        "ayant de l'importance dans la prédiction sont principalement des effets fixes,\n",
        "qui ne permettent donc qu'une variabilité limitée.\n"
      ],
      "id": "86507e93"
    },
    {
      "cell_type": "code",
      "metadata": {},
      "source": [
        "g.figure.get_figure()"
      ],
      "id": "e0b38421",
      "execution_count": null,
      "outputs": []
    },
    {
      "cell_type": "markdown",
      "metadata": {},
      "source": [
        "# Recherche des hyperparamètres optimaux avec une validation croisée\n",
        "\n",
        "On détecte que le premier modèle n'est pas très bon et ne nous aidera\n",
        "pas vraiment à évaluer de manière fiable la maison de nos rêves. \n",
        "\n",
        "On va essayer de voir si notre modèle ne serait pas meilleur avec des\n",
        "hyperparamètres plus adaptés. Après tout, nous avons choisi par défaut\n",
        "la profondeur de l'arbre mais c'était un choix au doigt mouillé. \n",
        "\n",
        "Quels sont les hyperparamètres qu'on peut essayer d'optimiser ? \n"
      ],
      "id": "f2bdc361"
    },
    {
      "cell_type": "code",
      "metadata": {},
      "source": [
        "pipe['randomforest'].get_params()"
      ],
      "id": "72188833",
      "execution_count": null,
      "outputs": []
    },
    {
      "cell_type": "markdown",
      "metadata": {},
      "source": [
        "Un [détour par la documentation](https://scikit-learn.org/stable/modules/generated/sklearn.ensemble.RandomForestRegressor.html)\n",
        "nous aide à comprendre ceux sur lesquels on va jouer. Par exemple, il serait\n",
        "absurde de jouer sur le paramètre `random_state` qui est la racine du générateur\n",
        "pseudo-aléatoire. \n",
        "\n",
        "Comme l'objectif est de se concentrer sur la démarche plus qu'essayer de\n",
        "trouver un bon modèle,\n",
        "nous allons également réduire la taille des données pour accélérer\n",
        "les calculs\n"
      ],
      "id": "3d9fc11c"
    },
    {
      "cell_type": "code",
      "metadata": {},
      "source": [
        "mutations2 = mutations2.groupby('dep').sample(frac = 0.5, random_state = 123)\n",
        "\n",
        "X_train, X_test, y_train, y_test = train_test_split(mutations2[xvars2], mutations2[[\"Valeur_fonciere\"]].values.ravel(), test_size = 0.2, random_state = 0, stratify=mutations2[['dep']])\n",
        "\n",
        "X = pd.concat((X_train, X_test), axis=0)\n",
        "Y = np.concatenate([y_train,y_test])"
      ],
      "id": "2dbd4399",
      "execution_count": null,
      "outputs": []
    },
    {
      "cell_type": "markdown",
      "metadata": {},
      "source": [
        "Nous allons nous contenter de jouer sur les paramètres:\n",
        "\n",
        "* `n_estimators`: Le nombre d'arbres de décision que notre forêt contient\n",
        "* `max_depth`: La profondeur de chaque arbre\n",
        "\n",
        "Il existe plusieurs manières de faire de la validation croisée. Nous allons ici\n",
        "utiliser la *grid search* qui consiste à estimer et tester le modèle sur chaque\n",
        "combinaison d'une grille de paramètres et sélectionner le couple de valeurs\n",
        "des hyperparamètres amenant à la meilleure prédiction. Par défaut, `scikit`\n",
        "effectue une _5-fold cross validation_. Nous n'allons pas changer\n",
        "ce comportement. \n",
        "\n",
        "Comme expliqué précédemment, les paramètres s'appelent sous la forme\n",
        "`<step>__<parameter_name>`\n",
        "\n",
        "La validation croisée pouvant être très consommatrice de temps, nous \n",
        "n'allons l'effectuer que sur un nombre réduit de valeurs de notre grille.\n",
        "Il est possible de passer la liste des valeurs à passer au crible sous\n",
        "forme de liste (comme pour l'argument `max_depth` ci-dessous) ou\n",
        "sous forme d'`array` (comme pour l'argument `n_estimators`) ce qui est\n",
        "souvent pratique pour générer un criblage d'un intervalle avec `np.linspace`.\n"
      ],
      "id": "7cbbd867"
    },
    {
      "cell_type": "code",
      "metadata": {},
      "source": [
        "#| echo: true\n",
        "\n",
        "import numpy as np\n",
        "from sklearn.model_selection import GridSearchCV\n",
        "\n",
        "import time\n",
        "\n",
        "start_time = time.time()\n",
        "# Parameters of pipelines can be set using ‘__’ separated parameter names:\n",
        "param_grid = {\n",
        "    \"randomforest__n_estimators\": np.linspace(5,25, 5).astype(int),\n",
        "    \"randomforest__max_depth\": [2,4]\n",
        "}\n",
        "grid_search = GridSearchCV(pipe, param_grid=param_grid)\n",
        "grid_search.fit(X, Y)\n",
        "\n",
        "end_time = time.time()\n",
        "print(\"Elapsed time : {} seconds\", int(end_time - start_time))"
      ],
      "id": "a8ff80c1",
      "execution_count": null,
      "outputs": []
    },
    {
      "cell_type": "code",
      "metadata": {},
      "source": [
        "#| eval: false\n",
        "\n",
        "print(estimator_html_repr(grid_search))"
      ],
      "id": "e27fb576",
      "execution_count": null,
      "outputs": []
    },
    {
      "cell_type": "code",
      "metadata": {},
      "source": [
        "print(\"Elapsed time : {} seconds\", int(end_time - start_time))"
      ],
      "id": "15f69391",
      "execution_count": null,
      "outputs": []
    },
    {
      "cell_type": "markdown",
      "metadata": {},
      "source": [
        "On peut récupérer les paramètres optimaux avec la méthode `best_params_`:\n"
      ],
      "id": "bcea57af"
    },
    {
      "cell_type": "code",
      "metadata": {},
      "source": [
        "grid_search.best_params_"
      ],
      "id": "bc13da8e",
      "execution_count": null,
      "outputs": []
    },
    {
      "cell_type": "markdown",
      "metadata": {},
      "source": [
        "On pourra aussi ré-utiliser le modèle optimal de la manière suivante:\n",
        "\n",
        "~~~python\n",
        "grid_search.best_estimator_\n",
        "~~~\n"
      ],
      "id": "fd101d39"
    },
    {
      "cell_type": "code",
      "metadata": {},
      "source": [
        "#| eval: false\n",
        "\n",
        "print(estimator_html_repr(grid_search.best_estimator_))"
      ],
      "id": "b2156267",
      "execution_count": null,
      "outputs": []
    },
    {
      "cell_type": "markdown",
      "metadata": {},
      "source": [
        "Toutes les performances sur les ensembles d'échantillons et de test sur la grille\n",
        "d'hyperparamètres sont disponibles dans l'attribut:\n"
      ],
      "id": "d85e27e1"
    },
    {
      "cell_type": "code",
      "metadata": {},
      "source": [
        "perf_random_forest = pd.DataFrame(grid_search.cv_results_)"
      ],
      "id": "c72e0ee8",
      "execution_count": null,
      "outputs": []
    },
    {
      "cell_type": "markdown",
      "metadata": {},
      "source": [
        "Regardons les résultats moyens pour chaque valeur des hyperparamètres:\n"
      ],
      "id": "fcb15778"
    },
    {
      "cell_type": "code",
      "metadata": {},
      "source": [
        "#| echo: true\n",
        "fig, ax = plt.subplots(1)\n",
        "g = sns.lineplot(data = perf_random_forest, ax = ax,\n",
        "             x = \"param_randomforest__n_estimators\",\n",
        "             y = \"mean_test_score\",\n",
        "             hue = \"param_randomforest__max_depth\")\n",
        "g.set(xlabel='Number of estimators', ylabel='Mean score on test sample')\n",
        "g\n",
        "plt.legend(bbox_to_anchor=(1.05, 1), loc='upper left', borderaxespad=0,\n",
        "           title='Depth of trees')"
      ],
      "id": "7de14d28",
      "execution_count": null,
      "outputs": []
    },
    {
      "cell_type": "code",
      "metadata": {},
      "source": [
        "g.figure.get_figure()"
      ],
      "id": "1f87f021",
      "execution_count": null,
      "outputs": []
    },
    {
      "cell_type": "markdown",
      "metadata": {},
      "source": [
        "Globalement, à profondeur d'arbre donnée, le nombre d'arbres change\n",
        "marginalement la performance (cela détériore\n",
        "la performance quand la profondeur est de 4, cela améliore quand\n",
        "on fixe la profondeur de 2).\n",
        "En revanche, changer la profondeur de l'arbre améliore la \n",
        "performance de manière plus marquée.\n",
        "\n",
        "Maintenant, il nous reste à re-entraîner le modèle avec ces nouveaux\n",
        "paramètres sur l'ensemble du jeu de *train* et l'évaluer sur l'ensemble\n",
        "du jeu de *test*:\n"
      ],
      "id": "b7619060"
    },
    {
      "cell_type": "code",
      "metadata": {},
      "source": [
        "#| echo: true\n",
        "pipe_optimal = grid_search.best_estimator_\n",
        "pipe_optimal.fit(X_train, y_train)\n",
        "\n",
        "compar = pd.DataFrame([y_test, pipe_optimal.predict(X_test)]).T\n",
        "compar.columns = ['obs','pred']\n",
        "compar['diff'] = compar.obs - compar.pred"
      ],
      "id": "d138c1d9",
      "execution_count": null,
      "outputs": []
    },
    {
      "cell_type": "markdown",
      "metadata": {},
      "source": [
        "On obtient le RMSE suivant:\n"
      ],
      "id": "891226f9"
    },
    {
      "cell_type": "code",
      "metadata": {},
      "source": [
        "print(\"Le RMSE sur le jeu de test est {:,}\".format(\n",
        "   int(np.sqrt(mean_squared_error(y_test, pipe_optimal.predict(X_test))))\n",
        "))"
      ],
      "id": "1dde40fd",
      "execution_count": null,
      "outputs": []
    },
    {
      "cell_type": "markdown",
      "metadata": {},
      "source": [
        "Et si on regarde la qualité en prédiction:\n"
      ],
      "id": "7714bb86"
    },
    {
      "cell_type": "code",
      "metadata": {},
      "source": [
        "#| echo: true\n",
        "g = sns.relplot(data = compar, x = 'obs', y = 'pred', color = \"royalblue\", alpha = 0.8)\n",
        "g.set(ylim=(0, 2e6), xlim=(0, 2e6),\n",
        "      title='Evaluating estimation error on test sample',\n",
        "      xlabel='Observed values',\n",
        "      ylabel='Predicted values')\n",
        "g.ax.axline(xy1=(0, 0), slope=1, color=\"red\", dashes=(5, 2))\n",
        "g"
      ],
      "id": "55a62bd7",
      "execution_count": null,
      "outputs": []
    },
    {
      "cell_type": "code",
      "metadata": {},
      "source": [
        "g.figure.get_figure()"
      ],
      "id": "641063c7",
      "execution_count": null,
      "outputs": []
    },
    {
      "cell_type": "markdown",
      "metadata": {},
      "source": [
        "On obtient plus de variance dans la prédiction, c'est déjà un peu mieux.\n",
        "Cependant, cela reste décevant pour plusieurs raisons:\n",
        "\n",
        "- nous n'avons pas fait d'étape de sélection de variable\n",
        "- nous n'avons pas chercher à déterminer si la variable à prédire la plus\n",
        "pertinente était le prix ou une transformation de celle-ci\n",
        "(par exemple le prix au $m^2$)\n"
      ],
      "id": "08043163"
    },
    {
      "cell_type": "code",
      "metadata": {},
      "source": [
        "#| output: hide\n",
        "#| echo: true\n",
        "features_names=pipe_optimal['preprocessor'].get_feature_names_out()\n",
        "importances = pipe_optimal['randomforest'].feature_importances_\n",
        "std = np.std([tree.feature_importances_ for tree in pipe_optimal['randomforest'].estimators_], axis=0)\n",
        "\n",
        "forest_importances = pd.Series(importances[importances>0], index=features_names[importances>0])\n",
        "\n",
        "fig, ax = plt.subplots()\n",
        "forest_importances.plot.bar(yerr=std[importances>0], ax=ax)\n",
        "ax.set_title(\"Feature importances using MDI\")\n",
        "ax.set_ylabel(\"Mean decrease in impurity\")\n",
        "fig.tight_layout()"
      ],
      "id": "551f932d",
      "execution_count": null,
      "outputs": []
    },
    {
      "cell_type": "code",
      "metadata": {},
      "source": [
        "ax"
      ],
      "id": "3c4984b1",
      "execution_count": null,
      "outputs": []
    },
    {
      "cell_type": "markdown",
      "metadata": {},
      "source": [
        "## Remarque sur la performance\n",
        "\n",
        "Les estimations sont, par défaut, menées de manière séquentielle (l'une après\n",
        "l'autre). Nous sommes cependant face à un problème\n",
        "*embarassingly parallel*. \n",
        "Pour gagner en performance, il est recommandé d'utiliser l'argument\n",
        "`n_jobs=-1`.\n",
        "\n",
        "\n",
        "## Remarque sur l'échantillonnage\n",
        "\n",
        "En l'état actuel de l'échantillonnage entre train et test au sein de la\n",
        "_grid search_,\n",
        "on est face à un problème de *data leaking* car l'échantillon\n",
        "n'est pas balancé entre nos classes (les départements).\n",
        "\n",
        "Certaines classes se \n",
        "retrouvent hors de l'échantillon d'estimation mais dans l'échantillon de prédiction.\n",
        "Autrement dit, notre *pipeline* de *preprocessing* se retrouve à devoir\n",
        "nettoyer des valeurs qu'il ne connaît pas. \n",
        "\n",
        "Nous avons choisi une option, dans notre *pipeline* pour se faciliter la vie\n",
        "à ce propos. Nous ne rencontrons pas d'erreur car nous avons utilisé l'option \n",
        "`handle_unknown = \"ignore\"` plutôt que \n",
        "`handle_unknown = \"error\"` (défaut) dans le _one hot encoding_. \n",
        "Cette option est dangereuse et n'est pas recommandée pour un vrai _pipeline_.\n",
        "De manière générale, il vaut mieux adopter une approche de\n",
        "programmation défensive en n'hésitant pas à renvoyer une erreur si la\n",
        "structure du *DataFrame* de prédiction diffère vraiment de celle du *DataFrame*\n",
        "d'entraînement.\n",
        "\n",
        "\n",
        "Pour éviter cette erreur, il serait mieux de définir explicitement le schéma de\n",
        "validation croisée à mettre en oeuvre.\n",
        "Précédemment, nous avions utilisé un échantillonnage stratifié. \n",
        "Cela pourrait être fait ici avec\n",
        "la méthode `StratifiedGroupKFold` (plus d'éléments à venir)\n",
        "\n",
        "~~~python\n",
        "from sklearn.model_selection import StratifiedGroupKFold\n",
        "cv = StratifiedGroupKFold(n_splits=5)\n",
        "#grid_search.fit(pd.concat((X_train, X_test), axis=0), np.concatenate([y_train,y_test]), cv = cv, groups = pd.concat((X_train, X_test), axis=0)['dep'])\n",
        "~~~\n",
        "\n",
        "# Eléments supplémentaires à venir\n",
        "\n",
        "Ce chapitre est amené à être enrichi des éléments suivants\n",
        "(cf. [#207](https://github.com/linogaliana/python-datascientist/issues/207))\n",
        "\n",
        "- [ ] Comparaison performance entre modèles grâce aux pipelines\n",
        "- [ ] Intégration d'une étape de sélection de variable dans un pipeline\n",
        "- [ ] `statsmodels` dans un pipeline\n",
        "- [ ] `Keras` dans un pipeline\n",
        "\n",
        "\n",
        "\n",
        "# Annexes: pipelines alternatifs\n",
        "\n",
        "## Préalable : quelques méthodes pour gagner en flexibilité dans le preprocessing\n",
        "\n",
        "Notre *DataFrame* comporte des types hétérogènes de variables:\n",
        "\n",
        "* Des variables numériques dont les variances sont très hétérogènes\n",
        "* Des variables textuelles qui mériteraient un recodage sous forme numérique\n",
        "* Des variables discrètes dont les modalités devraient être éclatées (_one hot encoding_)\n",
        "\n",
        "Pour gagner en flexibilité, nous allons proposer certaines méthodes qui permettent\n",
        "d'appliquer les étapes de _preprocessing_ adéquates à un sous-ensemble de \n",
        "variables<a name=\"cite_ref-1\"></a>[<sup>[1]</sup>](#cite_note-1). Ces méthodes ne sont plus nécessaires dans les versions\n",
        "récentes de `scikit`.\n",
        "\n",
        "\n",
        "```{=html}\n",
        "<a name=\"cite_note-1\"></a>1. [^](#cite_ref-1)\n",
        "```\n",
        "\n",
        " Un certain nombre des éléments suivants ont été glannés, par ci par là,\n",
        "depuis `stackoverflow`.\n",
        "\n",
        "Pour cela, il convient d'adopter l'approche de la programmation orientée objet. \n",
        "On va créer des classes avec des méthodes `transform` et `fit_transform`\n",
        "qui pourront ainsi être intégrées directement dans les *pipelines*, comme s'il\n",
        "s'agissait de méthodes issues de `scikit`.\n",
        "\n",
        "La première généralise `LabelEncoder` à un sous-ensemble de colonnes:\n"
      ],
      "id": "95aa66ad"
    },
    {
      "cell_type": "code",
      "metadata": {},
      "source": [
        "from sklearn.preprocessing import LabelEncoder, OneHotEncoder\n",
        "from sklearn.compose import ColumnTransformer\n",
        "\n",
        "class MultiColumnLabelEncoder:\n",
        "    def __init__(self,columns = None):\n",
        "        self.columns = columns # array of column names to encode\n",
        "\n",
        "    def fit(self,X,y=None):\n",
        "        return self # not relevant here\n",
        "\n",
        "    def transform(self,X):\n",
        "        '''\n",
        "        Transforms columns of X specified in self.columns using\n",
        "        LabelEncoder(). If no columns specified, transforms all\n",
        "        columns in X.\n",
        "        '''\n",
        "        output = X.copy()\n",
        "        if self.columns is not None:\n",
        "            for col in self.columns:\n",
        "                output[col] = LabelEncoder().fit_transform(output[col])\n",
        "        else:\n",
        "            for colname,col in output.iteritems():\n",
        "                output[colname] = LabelEncoder().fit_transform(col)\n",
        "        return output\n",
        "\n",
        "    def fit_transform(self,X,y=None):\n",
        "        return self.fit(X,y).transform(X)"
      ],
      "id": "85e979b0",
      "execution_count": null,
      "outputs": []
    },
    {
      "cell_type": "markdown",
      "metadata": {},
      "source": [
        "La seconde généralise cette fois le *one hot encoding* à un sous ensemble de \n",
        "fonctions\n"
      ],
      "id": "8171e768"
    },
    {
      "cell_type": "code",
      "metadata": {},
      "source": [
        "class MultiColumnOneHotEncoder:\n",
        "    def __init__(self,columns = None):\n",
        "        self.columns = columns # array of column names to encode\n",
        "\n",
        "    def fit(self,X,y=None):\n",
        "        return self # not relevant here\n",
        "\n",
        "    def transform(self,X):\n",
        "        '''\n",
        "        Transforms columns of X specified in self.columns using\n",
        "        LabelEncoder(). If no columns specified, transforms all\n",
        "        columns in X.\n",
        "        '''\n",
        "        output = X.copy()\n",
        "        if self.columns is not None:\n",
        "            for col in self.columns:\n",
        "                output[col] = OneHotEncoder(sparse=False).fit_transform(output[col])\n",
        "        else:\n",
        "            for colname,col in output.iteritems():\n",
        "                output[colname] = OneHotEncoder(sparse=False).fit_transform(col)\n",
        "        return output\n",
        "\n",
        "    def fit_transform(self,X,y=None):\n",
        "        return self.fit(X,y).transform(X)"
      ],
      "id": "865b9e6e",
      "execution_count": null,
      "outputs": []
    },
    {
      "cell_type": "markdown",
      "metadata": {},
      "source": [
        "Les méthodes suivantes vont nous permettre de passer en arguments les noms\n",
        "de colonnes pour intégrer la récupération des bonnes colonnes de nos\n",
        "dataframes dans le pipeline:\n"
      ],
      "id": "c1a8894f"
    },
    {
      "cell_type": "code",
      "metadata": {},
      "source": [
        "from sklearn.base import BaseEstimator, TransformerMixin, RegressorMixin\n",
        "\n",
        "class Columns(BaseEstimator, TransformerMixin):\n",
        "    def __init__(self, names=None):\n",
        "        self.names = names\n",
        "\n",
        "    def fit(self, X, y=None, **fit_params):\n",
        "        return self\n",
        "\n",
        "    def transform(self, X):\n",
        "        return X[self.names]\n",
        "\n",
        "class Normalize(BaseEstimator, TransformerMixin):\n",
        "    def __init__(self, func=None, func_param={}):\n",
        "        self.func = func\n",
        "        self.func_param = func_param\n",
        "\n",
        "    def transform(self, X):\n",
        "        if self.func != None:\n",
        "            return self.func(X, **self.func_param)\n",
        "        else:\n",
        "            return X\n",
        "\n",
        "    def fit(self, X, y=None, **fit_params):\n",
        "        return self"
      ],
      "id": "81640e8a",
      "execution_count": null,
      "outputs": []
    },
    {
      "cell_type": "markdown",
      "metadata": {},
      "source": [
        "Enfin, on va créer une méthode intermédiaire sous forme de *hack*\n",
        "(elle prend une matrice en entrée et renvoie la même matrice) \n",
        "pour\n",
        "pouvoir facilement récupérer notre matrice de *feature* afin de vérifier\n",
        "ses caractéristiques (notamment le nombre de colonnes disponibles):\n"
      ],
      "id": "7f5050ed"
    },
    {
      "cell_type": "code",
      "metadata": {},
      "source": [
        "class Collect(BaseEstimator, TransformerMixin):\n",
        "\n",
        "    def transform(self, X):\n",
        "        #print(X.shape)\n",
        "        #self.shape = shape\n",
        "        # what other output you want\n",
        "        return X\n",
        "\n",
        "    def fit(self, X, y=None, **fit_params):\n",
        "        return self"
      ],
      "id": "d349fb68",
      "execution_count": null,
      "outputs": []
    },
    {
      "cell_type": "code",
      "metadata": {},
      "source": [
        "from sklearn.pipeline import make_pipeline, FeatureUnion\n",
        "from sklearn.preprocessing import StandardScaler, LabelEncoder, OneHotEncoder\n",
        "from sklearn.pipeline import Pipeline\n",
        "\n",
        "pipe2 = Pipeline([\n",
        "    (\"features\", FeatureUnion([\n",
        "        ('numeric', make_pipeline(Columns(names=numeric_features[:-1]),StandardScaler())),\n",
        "        ('categorical', make_pipeline(Columns(names=categorical_features),OneHotEncoder(sparse=False)))\n",
        "    ])),\n",
        "    ('identity', Collect()),\n",
        "    ('randomforest', regr)\n",
        "])"
      ],
      "id": "d42a32c2",
      "execution_count": null,
      "outputs": []
    },
    {
      "cell_type": "code",
      "metadata": {},
      "source": [
        "#| eval: false\n",
        "\n",
        "print(estimator_html_repr(pipe2))"
      ],
      "id": "41d51bff",
      "execution_count": null,
      "outputs": []
    },
    {
      "cell_type": "code",
      "metadata": {},
      "source": [
        "preprocessor = ColumnTransformer(\n",
        "    transformers=[\n",
        "        ('numeric', StandardScaler(), numeric_features[:-1]),\n",
        "        ('categorical', OneHotEncoder(sparse=False, handle_unknown = \"ignore\"), categorical_features)])\n",
        "\n",
        "pipe3 = Pipeline(steps=[('preprocessor', preprocessor),\n",
        "                      ('randomforest', regr)])"
      ],
      "id": "53881776",
      "execution_count": null,
      "outputs": []
    },
    {
      "cell_type": "code",
      "metadata": {},
      "source": [
        "#| eval: false\n",
        "\n",
        "print(estimator_html_repr(pipe3))"
      ],
      "id": "e4621449",
      "execution_count": null,
      "outputs": []
    },
    {
      "cell_type": "markdown",
      "metadata": {},
      "source": [
        "# Références\n",
        "\n",
        "\n",
        "- Breiman L (2001). _\"Random Forests\". Machine Learning_. 45 (1): 5–32."
      ],
      "id": "1932fa10"
    }
  ],
  "metadata": {
    "kernelspec": {
      "name": "python3",
      "language": "python",
      "display_name": "Python 3 (ipykernel)"
    }
  },
  "nbformat": 4,
  "nbformat_minor": 5
}