{
  "cells": [
    {
      "cell_type": "markdown",
      "metadata": {},
      "source": [
        "# Premier pas vers l’industrialisation avec les pipelines scikit"
      ],
      "id": "d9c5b34c-9826-4a1a-8492-62d43ab41430"
    },
    {
      "cell_type": "markdown",
      "metadata": {},
      "source": [
        "``` python\n",
        "import sys\n",
        "sys.path.insert(1, '../../../../') #insert the utils module\n",
        "from utils import print_badges\n",
        "\n",
        "#print_badges(__file__)\n",
        "print_badges(\"content/course/modelisation/6_pipeline.qmd\")\n",
        "```\n",
        "\n",
        "<p class=\"badges\">\n",
        "\n",
        "<a href=\"https://github.com/linogaliana/python-datascientist/blob/master/notebooks/course/modelisation/6_pipeline.ipynb\" class=\"github\"><i class=\"fab fa-github\"></i></a>\n",
        "<a href=\"https://downgit.github.io/#/home?url=https://github.com/linogaliana/python-datascientist/blob/master/notebooks/course/modelisation/6_pipeline.ipynb\" target=\"_blank\" rel=\"noopener\"><img src=\"https://img.shields.io/badge/Download-Notebook-important?logo=Jupyter\" alt=\"Download\"></a>\n",
        "<a href=\"https://nbviewer.jupyter.org/github/linogaliana/python-datascientist/blob/master/notebooks/course/modelisation/6_pipeline.ipynb\" target=\"_blank\" rel=\"noopener\"><img src=\"https://img.shields.io/badge/Visualize-nbviewer-blue?logo=Jupyter\" alt=\"nbviewer\"></a>\n",
        "<a href=\"https://datalab.sspcloud.fr/launcher/ide/jupyter-python?autoLaunch=true&onyxia.friendlyName=%C2%ABpython-datascience%C2%BB&init.personalInit=%C2%ABhttps%3A%2F%2Fraw.githubusercontent.com%2Flinogaliana%2Fpython-datascientist%2Fmaster%2Fsspcloud%2Finit-jupyter.sh%C2%BB&init.personalInitArgs=%C2%ABmodelisation%206_pipeline%C2%BB&security.allowlist.enabled=false\" target=\"_blank\" rel=\"noopener\"><img src=\"https://img.shields.io/badge/SSPcloud-Tester%20via%20SSP--cloud-informational&amp;color=yellow?logo=Python\" alt=\"Onyxia\"></a><br>\n",
        "<a href=\"https://mybinder.org/v2/gh/linogaliana/python-datascientist/master?filepath={binder_path}\" target=\"_blank\" rel=\"noopener\"><img src=\"https://img.shields.io/badge/Launch-Binder-E66581.svg?logo=data:image/png;base64,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\" alt=\"Binder\"></a>\n",
        "<a href=\"http://colab.research.google.com/github/linogaliana/python-datascientist/blob/master/notebooks/course/modelisation/6_pipeline.ipynb\" target=\"_blank\" rel=\"noopener\"><img src=\"https://colab.research.google.com/assets/colab-badge.svg\" alt=\"Open In Colab\"></a>\n",
        "<a href=\"https://github.dev/linogaliana/python-datascientist/notebooks/course/modelisation/6_pipeline.ipynb\" target=\"_blank\" rel=\"noopener\"><img src=\"https://img.shields.io/static/v1?logo=visualstudiocode&label=&message=Open%20in%20Visual%20Studio%20Code&labelColor=2c2c32&color=007acc&logoColor=007acc\" alt=\"githubdev\"></a>\n",
        "\n",
        "</p>\n",
        "\n",
        "</p>"
      ],
      "id": "4749b58b-442c-46c7-883d-dc10181b071a"
    },
    {
      "cell_type": "markdown",
      "metadata": {},
      "source": [
        "# Pourquoi utiliser les pipelines ?\n",
        "\n",
        "Les chapitres précédents ont permis de montrer des bouts de code\n",
        "épars pour entraîner des modèles ou faire du *preprocessing*.\n",
        "Cette démarche est intéressante pour tâtonner mais risque d’être coûteuse\n",
        "ultérieurement s’il est nécessaire d’ajouter une étape de preprocessing\n",
        "ou de changer d’algorithme.\n",
        "\n",
        "Heureusement, `scikit` propose un excellent outil pour proposer un cadre\n",
        "général pour créer une chaîne de production *machine learning*. Il\n",
        "s’agit des\n",
        "[*pipelines*](https://scikit-learn.org/stable/modules/compose.html).\n",
        "Ils présentent de nombreux intérêts, parmi lesquels:\n",
        "\n",
        "-   Ils sont très **pratiques** et **lisibles**. On rentre des données en entrée, on n’appelle qu’une seule fois les méthodes `fit` et `predict` ce qui permet de s’assurer une gestion cohérente des transformations de variables, par exemple après l’appel d’un `StandardScaler`\n",
        "-   La **modularité** rend aisée la mise à jour d’un pipeline et renforce la capacité à le réutiliser\n",
        "-   Ils permettent de facilement chercher les hyperparamètres d’un modèle. Sans *pipeline*, écrire un code qui fait du *tuning* d’hyperparamètres peut être pénible. Avec les *pipelines*, c’est une ligne de code.\n",
        "-   La **sécurité** d’être certain que les étapes de preprocessing sont bien appliquées aux jeux de données désirés avant l’estimation."
      ],
      "id": "751e2fd3-8bca-41fd-ae23-370625bc468c"
    },
    {
      "cell_type": "markdown",
      "metadata": {},
      "source": [
        "<div class=\"alert alert-warning\" role=\"alert\" style=\"color: rgba(0,0,0,.8); background-color: white; margin-top: 1em; margin-bottom: 1em; margin:1.5625emauto; padding:0 .6rem .8rem!important;overflow:hidden; page-break-inside:avoid; border-radius:.25rem; box-shadow:0 .2rem .5rem rgba(0,0,0,.05),0 0 .05rem rgba(0,0,0,.1); transition:color .25s,background-color .25s,border-color .25s ; border-right: 1px solid #dee2e6 ; border-top: 1px solid #dee2e6 ; border-bottom: 1px solid #dee2e6 ; border-left:.2rem solid #ffc10780;\">\n",
        "\n",
        "Un des intérêts des *pipelines* scikit est qu’ils fonctionnent aussi avec\n",
        "des méthodes qui ne sont pas issues de `scikit`.\n",
        "\n",
        "Il est très\n",
        "facile d’introduire un modèle de réseau de neurone `Keras` dans\n",
        "un pipeline `scikit`.\n",
        "\n",
        "Pour introduire un modèle économétrique `statsmodels`\n",
        "c’est un peu plus coûteux mais nous allons proposer des exemples\n",
        "qui peuvent servir de modèle et qui montrent que c’est faisable\n",
        "sans trop de difficulté.\n",
        "\n",
        "</div>"
      ],
      "id": "30d748ca-b663-452f-83f0-91eb15014cdd"
    },
    {
      "cell_type": "markdown",
      "metadata": {},
      "source": [
        "<div class=\"alert alert-danger\" role=\"alert\" style=\"color: rgba(0,0,0,.8); background-color: white; margin-top: 1em; margin-bottom: 1em; margin:1.5625emauto; padding:0 .6rem .8rem!important;overflow:hidden; page-break-inside:avoid; border-radius:.25rem; box-shadow:0 .2rem .5rem rgba(0,0,0,.05),0 0 .05rem rgba(0,0,0,.1); transition:color .25s,background-color .25s,border-color .25s ; border-right: 1px solid #dee2e6 ; border-top: 1px solid #dee2e6 ; border-bottom: 1px solid #dee2e6 ; border-left: .2rem solid #ff0039;\">\n",
        "\n",
        "Les éléments présents dans ce chapitre nécessitent une version assez récente\n",
        "de `scikit` (au moins la version 1.0). Pour vérifier la version, faire:\n",
        "\n",
        "``` python\n",
        "import sklearn\n",
        "print(sklearn.__version__)\n",
        "```\n",
        "\n",
        "Il faut également une version récente de `yellowbrick` pour éviter l’erreur\n",
        "suivante quand on utilise une version récente de `scikit` (ce que\n",
        "je recommande):\n",
        "\n",
        "> `ImportError: cannot import name 'safe_indexing' from 'sklearn.utils'`\n",
        "\n",
        "</div>"
      ],
      "id": "c48b8ee9-9304-43ba-a2b0-d73539133226"
    },
    {
      "cell_type": "markdown",
      "metadata": {},
      "source": [
        "# Comment créer un *pipeline*\n",
        "\n",
        "Un *pipeline* est un enchaînement d’opérations qu’on code en enchainant\n",
        "des pairs *(clé, valeur)*:\n",
        "\n",
        "-   la clé est le nom du pipeline, cela peut être utile lorsqu’on va\n",
        "    représenter le *pipeline* sous forme de diagramme acyclique (visualisation DAG)\n",
        "    ou qu’on veut afficher des informations sur une étape\n",
        "-   la valeur représente la transformation à mettre en oeuvre dans le *pipeline*\n",
        "    (c’est-à-dire, à l’exception de la dernière étape,\n",
        "    mettre en oeuvre une méthode `transform` et éventuellement une\n",
        "    transformation inverse)."
      ],
      "id": "c0cb018e-49ff-424a-a490-2305d09ced9a"
    },
    {
      "cell_type": "code",
      "execution_count": 3,
      "metadata": {},
      "outputs": [],
      "source": [
        "from sklearn.pipeline import Pipeline\n",
        "from sklearn.svm import SVC\n",
        "from sklearn.decomposition import PCA\n",
        "\n",
        "estimators = [('reduce_dim', PCA()), ('clf', SVC())]\n",
        "pipe = Pipeline(estimators)"
      ],
      "id": "1179ffde"
    },
    {
      "cell_type": "code",
      "execution_count": 4,
      "metadata": {},
      "outputs": [],
      "source": [
        "from sklearn.utils import estimator_html_repr"
      ],
      "id": "1cca4873"
    },
    {
      "cell_type": "markdown",
      "metadata": {},
      "source": [
        "<div class=\"alert alert-warning\" role=\"alert\" style=\"color: rgba(0,0,0,.8); background-color: white; margin-top: 1em; margin-bottom: 1em; margin:1.5625emauto; padding:0 .6rem .8rem!important;overflow:hidden; page-break-inside:avoid; border-radius:.25rem; box-shadow:0 .2rem .5rem rgba(0,0,0,.05),0 0 .05rem rgba(0,0,0,.1); transition:color .25s,background-color .25s,border-color .25s ; border-right: 1px solid #dee2e6 ; border-top: 1px solid #dee2e6 ; border-bottom: 1px solid #dee2e6 ; border-left:.2rem solid #ffc10780;\">\n",
        "\n",
        "Il est pratique de visualiser un *pipeline* sous forme de DAG.\n",
        "Pour cela, dans un notebook, on utilise la configuration\n",
        "suivante:\n",
        "\n",
        "``` python\n",
        "#| eval: false\n",
        "from sklearn import set_config\n",
        "set_config(display='diagram') \n",
        "```\n",
        "\n",
        "</div>"
      ],
      "id": "9b4c297f-aa8b-4977-a3e2-39c859f0edde"
    },
    {
      "cell_type": "markdown",
      "metadata": {},
      "source": [
        "``` python\n",
        "pipe\n",
        "```"
      ],
      "id": "bd76cf43-7103-4155-b135-2a3fdcf396bc"
    },
    {
      "cell_type": "code",
      "execution_count": 5,
      "metadata": {},
      "outputs": [],
      "source": [
        "print(estimator_html_repr(pipe))"
      ],
      "id": "279704d1"
    },
    {
      "cell_type": "markdown",
      "metadata": {},
      "source": [
        "Au sein d’une étape de *pipeline*, les paramètres d’un estimateur\n",
        "sont accessibles avec la notation `<estimator>__<parameter>`.\n",
        "Cela permet de fixer des valeurs pour les arguments des fonctions `scikit`\n",
        "qui sont appelées au sein d’un *pipeline*.\n",
        "C’est cela qui rendra l’approche des pipelines particulièrement utile\n",
        "pour la *grid search*:"
      ],
      "id": "6b1a6373-7268-466a-bef9-809ef6154f06"
    },
    {
      "cell_type": "code",
      "execution_count": 6,
      "metadata": {},
      "outputs": [],
      "source": [
        "from sklearn.model_selection import GridSearchCV\n",
        "param_grid = {\"reduce_dim__n_components\":[2, 5, 10], \"clf__C\":[0.1, 10, 100]}\n",
        "grid_search = GridSearchCV(pipe, param_grid=param_grid)"
      ],
      "id": "a1e2c82c"
    },
    {
      "cell_type": "code",
      "execution_count": 7,
      "metadata": {},
      "outputs": [],
      "source": [
        "print(estimator_html_repr(grid_search))"
      ],
      "id": "26ba5ac7"
    },
    {
      "cell_type": "markdown",
      "metadata": {},
      "source": [
        "## Données utilisées\n",
        "\n",
        "Nous allons utiliser les données de transactions immobilières DVF pour chercher\n",
        "la meilleure manière de prédire, sachant les caractéristiques d’un bien, son\n",
        "prix.\n",
        "\n",
        "Ces données peuvent être importées directement depuis [`data.gouv`](https://www.data.gouv.fr/fr/datasets/demandes-de-valeurs-foncieres/):"
      ],
      "id": "a44413fe-afdb-462b-a6c8-402b83fa8f02"
    },
    {
      "cell_type": "code",
      "execution_count": 8,
      "metadata": {},
      "outputs": [],
      "source": [
        "import numpy as np\n",
        "import pandas as pd\n",
        "import seaborn as sns\n",
        "import matplotlib.pyplot as plt\n",
        "\n",
        "mutations = pd.read_csv('https://www.data.gouv.fr/fr/datasets/r/3004168d-bec4-44d9-a781-ef16f41856a2', sep = \"|\", decimal=\",\")"
      ],
      "id": "3789accf"
    },
    {
      "cell_type": "markdown",
      "metadata": {},
      "source": [
        "On propose d’enrichir la base de quelques variables qui pourraient servir\n",
        "ultérieurement:"
      ],
      "id": "783f9478-86bd-445d-bbf8-4195f0b9e571"
    },
    {
      "cell_type": "code",
      "execution_count": 9,
      "metadata": {},
      "outputs": [],
      "source": [
        "mutations['Date mutation'] = pd.to_datetime(mutations['Date mutation'], format = \"%d/%m/%Y\")\n",
        "mutations['year'] = mutations['Date mutation'].dt.year\n",
        "mutations['month'] = mutations['Date mutation'].dt.month\n",
        "mutations['dep'] = mutations['Code postal'].astype(str).str[:2]\n",
        "mutations['lprix'] = np.log(mutations[\"Valeur fonciere\"])"
      ],
      "id": "793929da"
    },
    {
      "cell_type": "markdown",
      "metadata": {},
      "source": [
        "Si vous travaillez avec les données de 2020, n’oubliez pas\n",
        "d’intégrer l’effet\n",
        "confinement strict dans vos modèles. Pour cela, vous pouvez créer une variable\n",
        "indicatrice entre les dates en question:"
      ],
      "id": "3f926ad6-1f4e-4872-8306-91fe6bdda5d3"
    },
    {
      "cell_type": "code",
      "execution_count": 10,
      "metadata": {},
      "outputs": [],
      "source": [
        "mutations['confinement'] = mutations['Date mutation'].between(pd.to_datetime(\"2020-03-17\"), pd.to_datetime(\"2020-05-03\")).astype(int)"
      ],
      "id": "0f03c39a"
    },
    {
      "cell_type": "markdown",
      "metadata": {},
      "source": [
        "Les données DVF proposent une observation par transaction. Ces transactions\n",
        "peuvent concerner plusieurs lots.\n",
        "Pour simplifier,\n",
        "on va créer une variable de surface qui agrège les différentes informations\n",
        "de surface disponibles dans le jeu de données. En effet, les variables\n",
        "en question sont très corrélées les unes entre elles :"
      ],
      "id": "9d5db679-bf5e-44a7-b52f-8df053502bce"
    },
    {
      "cell_type": "code",
      "execution_count": 11,
      "metadata": {},
      "outputs": [],
      "source": [
        "corr = mutations.loc[:, mutations.columns[mutations.columns.str.startswith('Surface Carrez')].tolist()].corr()\n",
        "fig, ax = plt.subplots(1)\n",
        "g = sns.heatmap(corr, ax=ax, \n",
        "            xticklabels=corr.columns.values,\n",
        "            yticklabels=corr.columns.values, cmap='coolwarm', annot=True, fmt=\".2f\")\n",
        "g"
      ],
      "id": "6da1273b"
    },
    {
      "cell_type": "code",
      "execution_count": 12,
      "metadata": {},
      "outputs": [],
      "source": [
        "g.figure.get_figure()"
      ],
      "id": "594fb966"
    },
    {
      "cell_type": "markdown",
      "metadata": {},
      "source": [
        "Les agréger revient à supposer que le modèle de fixation des prix est le même\n",
        "entre chaque lot. C’est une hypothèse simplificatrice qu’une personne plus\n",
        "experte du marché immobilier, ou qu’une approche propre de sélection\n",
        "de variable pourrait amener à nier"
      ],
      "id": "b9fdf289-cc10-49ab-8f47-4ff86774ef55"
    },
    {
      "cell_type": "code",
      "execution_count": 13,
      "metadata": {},
      "outputs": [],
      "source": [
        "mutations['surface'] = mutations.loc[:, mutations.columns[mutations.columns.str.startswith('Surface Carrez')].tolist()].sum(axis = 1)"
      ],
      "id": "94fdfa01"
    },
    {
      "cell_type": "markdown",
      "metadata": {},
      "source": [
        "# Un premier pipeline: *random forest* sur des variables standardisées\n",
        "\n",
        "Notre premier *pipeline* va nous permettre d’intégrer ensemble:\n",
        "\n",
        "1.  Une étape de *preprocessing* avec la standardisation de variables\n",
        "2.  Une étape d’estimation du prix en utilisant un modèle de *random forest*\n",
        "\n",
        "Pour le moment, on va prendre comme acquis un certain nombre de variables\n",
        "explicatives (les *features*) et les hyperparamètres du modèle\n",
        "\n",
        "## Définition des ensembles train/test\n",
        "\n",
        "Nous allons donc nous restreindre à un sous-ensemble de colonnes dans un\n",
        "premier temps :"
      ],
      "id": "eec5df7e-de0d-4fe2-b65e-9cbf225aa666"
    },
    {
      "cell_type": "code",
      "execution_count": 14,
      "metadata": {},
      "outputs": [],
      "source": [
        "xvars = ['dep', 'Nombre de lots', 'Code type local', 'surface', 'Nombre pieces principales']\n",
        "xvars2 = pd.Series(xvars).str.replace(\" \",\"_\").tolist()\n",
        "\n",
        "mutations2 = mutations.loc[:, xvars + [\"Valeur fonciere\"]]"
      ],
      "id": "4034c6e4"
    },
    {
      "cell_type": "markdown",
      "metadata": {},
      "source": [
        "Nous allons également ne conserver que les transactions inférieures à 5 millions\n",
        "d’euros (on anticipe que celles ayant un montant supérieur sont des transactions\n",
        "exceptionnelles dont le mécanisme de fixation du prix diffère)"
      ],
      "id": "c8fc9396-5ea0-4b4d-9ff4-78c7e224dc9c"
    },
    {
      "cell_type": "code",
      "execution_count": 15,
      "metadata": {},
      "outputs": [],
      "source": [
        "mutations2  = mutations2.dropna()\n",
        "mutations2 = mutations2.loc[mutations2['Valeur fonciere'] < 5e6] #keep only values below 10 millions\n",
        "\n",
        "mutations2.columns = mutations2.columns.str.replace(\" \", \"_\")\n",
        "numeric_features = mutations2.columns[~mutations2.columns.isin(['dep','Code_type_local', 'confinement'])].tolist()\n",
        "categorical_features = ['dep','Code_type_local']"
      ],
      "id": "2d03fb9b"
    },
    {
      "cell_type": "markdown",
      "metadata": {},
      "source": [
        "Au passage, nous avons abandonné la variable de code postal pour privilégier\n",
        "la commune afin de réduire la dimension de notre jeu de données. Si on voulait\n",
        "vraiment avoir un bon modèle, il faudrait faire autrement car le code postal\n",
        "est probablement un très bon prédicteur du prix d’un bien, une fois que\n",
        "les caractéristiques du bien sont contrôlées.\n",
        "\n",
        "Nous allons stratifier notre échantillonage de train/test par département\n",
        "afin de tenir compte, de manière minimale, de la géographie.\n",
        "Pour accélérer les calculs pour ce tutoriel, nous n’allons considérer que\n",
        "20% des transactions observées sur chaque département."
      ],
      "id": "e6384ef4-6f66-4f05-9adc-1235b3a314ce"
    },
    {
      "cell_type": "code",
      "execution_count": 16,
      "metadata": {},
      "outputs": [],
      "source": [
        "from sklearn.model_selection import train_test_split\n",
        "\n",
        "mutations2 = mutations2.groupby('dep').sample(frac = 0.2, random_state = 123)\n",
        "\n",
        "X_train, X_test, y_train, y_test = train_test_split(mutations2[xvars2], mutations2[[\"Valeur_fonciere\"]].values.ravel(), test_size = 0.2, random_state = 0, stratify=mutations2[['dep']])"
      ],
      "id": "d64d4b59"
    },
    {
      "cell_type": "markdown",
      "metadata": {},
      "source": [
        "## Définition du premier pipeline\n",
        "\n",
        "Nous allons donc partir d’un *random forest* avec des valeurs d’hyperparamètres\n",
        "données.\n",
        "\n",
        "Les *random forest* sont une méthode d’aggrégation<a name=\"cite_ref-2\"></a>[<sup>\\[2\\]</sup>](#cite_note-2) d’arbres de décision.\n",
        "On calcule $K$ arbres de décision et en tire, par une méthode d’agrégation,\n",
        "une règle de décision moyenne qu’on va appliquer pour tirer une\n",
        "prédiction de nos données."
      ],
      "id": "3805b2c1-5bd9-4a43-9c38-5153321ee5c1"
    },
    {
      "cell_type": "raw",
      "metadata": {
        "raw_mimetype": "text/html"
      },
      "source": [
        "<a name=\"cite_note-2\"></a>2. [^](#cite_ref-2)"
      ],
      "id": "65c98444-bc11-4c96-a442-890bb77b3e79"
    },
    {
      "cell_type": "markdown",
      "metadata": {},
      "source": [
        "En *machine learning* on retrouve un principe inspiré du\n",
        "*bootstrap*\n",
        "qui permet d’agréger un ensemble d’estimateurs en un estimateur *“moyennisé”*.\n",
        "Il s’agit du [*bagging*](https://en.wikipedia.org/wiki/Bootstrap_aggregating).\n",
        "En économétrie, le *bootstrap* consiste à ré-estimer sur *K* sous-échantillons\n",
        "aléatoires des données un estimateur afin d’en tirer, par exemple, un intervalle\n",
        "de confiance empirique à 95%. Le principe du *bagging* est le même. On ré-estime\n",
        "*K* fois notre estimateur (par exemple un arbre de décision) et propose une\n",
        "règle d’agrégation pour en tirer une règle moyennisée et donc une prédiction.\n",
        "\n",
        "![](https://upload.wikimedia.org/wikipedia/commons/7/76/Random_forest_diagram_complete.png)\n",
        "\n",
        "C’est un article de Léo Breiman (2001)<a name=\"cite_ref-3\"></a>[<sup>\\[3\\]</sup>](#cite_note-3), statisticien à Berkeley, qui\n",
        "est à l’origine du succès des *random forests*. L’un des intérêts\n",
        "des *random forest* est qu’il existe des méthodes pour déterminer\n",
        "l’importance relative de chaque variable dans la prédiction."
      ],
      "id": "e9166133-e08e-4f18-b8da-6a4599b7b39b"
    },
    {
      "cell_type": "raw",
      "metadata": {
        "raw_mimetype": "text/html"
      },
      "source": [
        "<a name=\"cite_note-3\"></a>3. [^](#cite_ref-3)"
      ],
      "id": "c2a6b489-64ce-423c-9d2b-ccea908623cf"
    },
    {
      "cell_type": "markdown",
      "metadata": {},
      "source": [
        "Breiman L (2001). *“Random Forests”. Machine Learning*. 45 (1): 5–32.\n",
        "\n",
        "Pour commencer, nous allons fixer la taille des arbres de décision avec\n",
        "l’hyperparamètre `max_depth = 2`."
      ],
      "id": "b9fe4f96-48a1-4468-9317-07d51e588818"
    },
    {
      "cell_type": "code",
      "execution_count": 17,
      "metadata": {},
      "outputs": [],
      "source": [
        "from sklearn.ensemble import RandomForestRegressor\n",
        "regr = RandomForestRegressor(max_depth=2, random_state=123)"
      ],
      "id": "5cd9d694"
    },
    {
      "cell_type": "markdown",
      "metadata": {},
      "source": [
        "Notre *pipeline* va intégrer les étapes suivantes:\n",
        "\n",
        "1.  **Preprocessing**:\n",
        "    -   Les variables numériques vont être standardisées avec un `StandardScaler`.\n",
        "        Pour cela, nous allons utiliser la liste `numeric_features` définie précédemment.\n",
        "    -   Les variables catégorielles vont être explosées avec un *one hot encoding*\n",
        "        (méthode `OneHotEncoder` de `scikit`)\n",
        "        Pour cela, nous allons utiliser la liste `categorical_features`\n",
        "2.  **Random forest**: nous allons appliquer l’estimateur `regr` défini plus haut\n",
        "\n",
        "J’ajoute en commentaire un exemple de comment s’introduirait une imputation\n",
        "de valeurs manquantes. La version 1.0 de `scikit` facilite l’intégration\n",
        "d’étapes complexes dans les pipelines<a name=\"cite_ref-4\"></a>[<sup>\\[4\\]</sup>](#cite_note-4). Si vous utilisez une\n",
        "version antérieure à la 1.0 de `scikit`, vous pouvez vous rendre dans\n",
        "la section [Annexe](#annexe) pour avoir des exemples de définition alternative\n",
        "(attention cependant, vous ne pourrez récupérer le nom des *features*\n",
        "transformées comme ici, ce qui peut pénaliser l’analyse d’importance\n",
        "de variables)"
      ],
      "id": "fba740b1-1dcc-47b5-b1dd-83c4455f9a75"
    },
    {
      "cell_type": "raw",
      "metadata": {
        "raw_mimetype": "text/html"
      },
      "source": [
        "<a name=\"cite_note-4\"></a>4. [^](#cite_ref-4)"
      ],
      "id": "80628c82-0ad8-41d8-becf-f2499c842807"
    },
    {
      "cell_type": "markdown",
      "metadata": {},
      "source": [
        "Voir ce [*thread stackoverflow*](https://stackoverflow.com/questions/54646709/sklearn-pipeline-get-feature-names-after-onehotencode-in-columntransformer)"
      ],
      "id": "ecd0523b-66d0-407b-a3cf-24333d95308f"
    },
    {
      "cell_type": "code",
      "execution_count": 18,
      "metadata": {},
      "outputs": [],
      "source": [
        "from sklearn.pipeline import make_pipeline\n",
        "from sklearn.preprocessing import StandardScaler, OneHotEncoder\n",
        "from sklearn.pipeline import Pipeline\n",
        "from sklearn.compose import make_column_transformer\n",
        "\n",
        "numeric_pipeline = make_pipeline(\n",
        "  #SimpleImputer(),\n",
        "  StandardScaler()\n",
        ")\n",
        "transformer = make_column_transformer(\n",
        "    (numeric_pipeline, numeric_features[:-1]),\n",
        "    (OneHotEncoder(sparse = False, handle_unknown = \"ignore\"), categorical_features))\n",
        "pipe = Pipeline(steps=[('preprocessor', transformer),\n",
        "                      ('randomforest', regr)])"
      ],
      "id": "c17a9f24"
    },
    {
      "cell_type": "markdown",
      "metadata": {},
      "source": [
        "Nous avons construit ce pipeline sous forme de couches successives. La couche\n",
        "`randomforest` prendra automatiquement le résultat de la couche `preprocessor`\n",
        "en *input*. La couche `features` permet d’introduire de manière relativement\n",
        "simple (quand on a les bonnes méthodes) la complexité du *preprocessing*\n",
        "sur données réelles dont les types divergent.\n",
        "\n",
        "On peut visualiser le graphe et ainsi se représenter la manière dont\n",
        "ce *pipeline* opère:\n",
        "\n",
        "``` python\n",
        "pipe\n",
        "```"
      ],
      "id": "c7dbcd08-b5ec-4511-91d0-f0b92433bcdf"
    },
    {
      "cell_type": "code",
      "execution_count": 19,
      "metadata": {},
      "outputs": [],
      "source": [
        "print(estimator_html_repr(pipe))"
      ],
      "id": "4c6551b7"
    },
    {
      "cell_type": "markdown",
      "metadata": {},
      "source": [
        "Maintenant, il ne reste plus qu’à estimer notre modèle sur l’ensemble\n",
        "d’entraînement. C’est très simple avec un *pipeline* : il suffit d’utiliser\n",
        "de mettre à jour le *pipeline* avec la méthode `fit`"
      ],
      "id": "57268248-d19e-42a0-837c-1e927a5d8bed"
    },
    {
      "cell_type": "code",
      "execution_count": 20,
      "metadata": {},
      "outputs": [],
      "source": [
        "pipe.fit(X_train, y_train)"
      ],
      "id": "f9895c0d"
    },
    {
      "cell_type": "markdown",
      "metadata": {},
      "source": [
        "On peut utiliser le nom du pipeline en conjonction de certaines méthodes\n",
        "pour appliquer cette étape sur un jeu de données pour visualiser\n",
        "l’effet de la transformation.\n",
        "\n",
        "Par exemple, pour visualiser le jeu de données transformé avant l’étape\n",
        "d’estimation, on peut\n",
        "faire"
      ],
      "id": "da5649ee-9a87-40c0-aaf6-3bb873429539"
    },
    {
      "cell_type": "code",
      "execution_count": 21,
      "metadata": {},
      "outputs": [],
      "source": [
        "pipe[:-1].fit_transform(X_train)"
      ],
      "id": "d020671e"
    },
    {
      "cell_type": "markdown",
      "metadata": {},
      "source": [
        "De même, si on veut récupérer le nom des *features* en sortie du preprocessing,\n",
        "on utilisera la méthode `.get_feature_names_out` qui est bien pratique\n",
        "(c’est cette méthode qui est plus complexe à appeler dans les versions `scikit`\n",
        "ancienne qui nous a fait privilégier le *pipeline* ci-dessous)"
      ],
      "id": "62822c6e-10db-48fb-bcc3-d242653651d9"
    },
    {
      "cell_type": "code",
      "execution_count": 22,
      "metadata": {},
      "outputs": [],
      "source": [
        "features_names=pipe['preprocessor'].get_feature_names_out()\n",
        "features_names"
      ],
      "id": "9a0bc2a6"
    },
    {
      "cell_type": "markdown",
      "metadata": {},
      "source": [
        "## *Variable importance*\n",
        "\n",
        "On ne va représenter, parmi notre ensemble important de colonnes, que celles\n",
        "qui ont une importance non nulle. Grâce à notre vecteur `features_names`,\n",
        "on va pouvoir facilement afficher le nom des colonnes en question (et donc\n",
        "comprendre les *features* déterminantes)\n",
        "\n",
        "L’importance va être définie à partir\n",
        "de la mesure d’impureté<a name=\"cite_ref-3\"></a>[<sup>\\[3\\]</sup>](#cite_note-3)"
      ],
      "id": "7a774aed-8636-486e-8064-0e4b43bff0c3"
    },
    {
      "cell_type": "raw",
      "metadata": {
        "raw_mimetype": "text/html"
      },
      "source": [
        "<a name=\"cite_note-3\"></a>3. [^](#cite_ref-3)"
      ],
      "id": "270ba363-6845-4c5f-af95-6713cf555bb4"
    },
    {
      "cell_type": "markdown",
      "metadata": {},
      "source": [
        "Extrait de [ce blog](https://mljar.com/blog/feature-importance-in-random-forest/):\n",
        "Gini importance (or mean decrease impurity), which is computed from the Random Forest structure. Let’s look how the Random Forest is constructed. It is a set of Decision Trees. Each Decision Tree is a set of internal nodes and leaves. In the internal node, the selected feature is used to make decision how to divide the data set into two separate sets with similars responses within. The features for internal nodes are selected with some criterion, which for classification tasks can be gini impurity or infomation gain, and for regression is variance reduction. We can measure how each feature decrease the impurity of the split (the feature with highest decrease is selected for internal node). For each feature we can collect how on average it decreases the impurity. The average over all trees in the forest is the measure of the feature importance."
      ],
      "id": "0c38c1fe-fa5b-423e-a229-2ca107f4eecf"
    },
    {
      "cell_type": "code",
      "execution_count": 23,
      "metadata": {},
      "outputs": [],
      "source": [
        "importances = pipe['randomforest'].feature_importances_\n",
        "std = np.std([tree.feature_importances_ for tree in pipe['randomforest'].estimators_], axis=0)\n",
        "\n",
        "forest_importances = pd.Series(importances[importances>0], index=features_names[importances>0])\n",
        "\n",
        "fig, ax = plt.subplots()\n",
        "forest_importances.plot.bar(yerr=std[importances>0], ax=ax)\n",
        "ax.set_title(\"Feature importances using MDI\")\n",
        "ax.set_ylabel(\"Mean decrease in impurity\")\n",
        "fig.tight_layout()"
      ],
      "id": "4a90f15d"
    },
    {
      "cell_type": "code",
      "execution_count": 24,
      "metadata": {},
      "outputs": [],
      "source": [
        "ax"
      ],
      "id": "d493605a"
    },
    {
      "cell_type": "markdown",
      "metadata": {},
      "source": [
        "On voit donc que deux variables déterminantes sont des effets fixes\n",
        "géographiques (qui servent à ajuster de la différence de prix entre\n",
        "Paris et les Hauts de Seine et le reste de la France), une autre variable\n",
        "est un effet fixe type de bien. Les deux variables qui pourraient introduire\n",
        "de la variabilité, à savoir la surface et, dans une moindre mesure, le\n",
        "nombre de lots, ont une importance moindre."
      ],
      "id": "d35a548a-f09d-435c-ac38-754fb674249f"
    },
    {
      "cell_type": "markdown",
      "metadata": {},
      "source": [
        "<div class=\"alert alert-info\" role=\"alert\" style=\"color: rgba(0,0,0,.8); background-color: white; margin-top: 1em; margin-bottom: 1em; margin:1.5625emauto; padding:0 .6rem .8rem!important;overflow:hidden; page-break-inside:avoid; border-radius:.25rem; box-shadow:0 .2rem .5rem rgba(0,0,0,.05),0 0 .05rem rgba(0,0,0,.1); transition:color .25s,background-color .25s,border-color .25s ; border-right: 1px solid #dee2e6 ; border-top: 1px solid #dee2e6 ; border-bottom: 1px solid #dee2e6 ; border-left:.2rem solid #007bff80;\">\n",
        "\n",
        "Idéalement, on utiliserait `yellowbrick` pour représenter l’importance des variables\n",
        "Mais en l’état actuel du *pipeline* on a beaucoup de variables dont le poids\n",
        "est nul qui viennent polluer la visualisation. Vous pouvez\n",
        "consulter la\n",
        "[documentation de `yellowbrick` sur ce sujet](https://www.scikit-yb.org/en/latest/api/model_selection/importances.html)\n",
        "\n",
        "</div>"
      ],
      "id": "88eb1b5c-2529-4dc7-9b18-7c13488096aa"
    },
    {
      "cell_type": "markdown",
      "metadata": {},
      "source": [
        "## Prédiction\n",
        "\n",
        "L’analyse de l’importance de variables permet de mieux comprendre\n",
        "le fonctionnement interne des *random forests*.\n",
        "\n",
        "On obtient un modèle dont les performances sont les suivantes:"
      ],
      "id": "931008fd-da71-44ea-b812-8ced8369f833"
    },
    {
      "cell_type": "code",
      "execution_count": 25,
      "metadata": {},
      "outputs": [],
      "source": [
        "from sklearn.metrics import mean_squared_error\n",
        "\n",
        "\n",
        "compar = pd.DataFrame([y_test, pipe.predict(X_test)]).T\n",
        "compar.columns = ['obs','pred']\n",
        "compar['diff'] = compar.obs - compar.pred\n",
        "\n",
        "print(\"Le RMSE sur le jeu de test est {:,}\".format(\n",
        "   int(np.sqrt(mean_squared_error(y_test, pipe.predict(X_test))))\n",
        "))"
      ],
      "id": "2ef2b3c3"
    },
    {
      "cell_type": "markdown",
      "metadata": {},
      "source": [
        "Le RMSE n’est pas très bon. Pour comprendre pourquoi, représentons\n",
        "notre nuage de point des valeurs observées et prédites:"
      ],
      "id": "3de54c57-d687-4bf5-b68a-88491b3f315e"
    },
    {
      "cell_type": "code",
      "execution_count": 26,
      "metadata": {},
      "outputs": [],
      "source": [
        "g = sns.relplot(data = compar, x = 'obs', y = 'pred', color = \"royalblue\", alpha = 0.8)\n",
        "g.set(ylim=(0, 2e6), xlim=(0, 2e6),\n",
        "      title='Evaluating estimation error on test sample',\n",
        "      xlabel='Observed values',\n",
        "      ylabel='Predicted values')\n",
        "g.ax.axline(xy1=(0, 0), slope=1, color=\"red\", dashes=(5, 2))"
      ],
      "id": "219b903e"
    },
    {
      "cell_type": "markdown",
      "metadata": {},
      "source": [
        "C’est très décevant. La prédiction a trop peu de variabilité pour capturer\n",
        "la variance des prix observée. Cela vient du fait que les variables\n",
        "ayant de l’importance dans la prédiction sont principalement des effets fixes,\n",
        "qui ne permettent donc qu’une variabilité limitée."
      ],
      "id": "93448e12-18bc-44e8-9f75-e4b19d9a31c7"
    },
    {
      "cell_type": "code",
      "execution_count": 27,
      "metadata": {},
      "outputs": [],
      "source": [
        "g.figure.get_figure()"
      ],
      "id": "0d72d3c6"
    },
    {
      "cell_type": "markdown",
      "metadata": {},
      "source": [
        "# Recherche des hyperparamètres optimaux avec une validation croisée\n",
        "\n",
        "On détecte que le premier modèle n’est pas très bon et ne nous aidera\n",
        "pas vraiment à évaluer de manière fiable la maison de nos rêves.\n",
        "\n",
        "On va essayer de voir si notre modèle ne serait pas meilleur avec des\n",
        "hyperparamètres plus adaptés. Après tout, nous avons choisi par défaut\n",
        "la profondeur de l’arbre mais c’était un choix au doigt mouillé.\n",
        "\n",
        "Quels sont les hyperparamètres qu’on peut essayer d’optimiser ?"
      ],
      "id": "ab75a5c6-1dd9-40df-8107-6e07be4c6653"
    },
    {
      "cell_type": "code",
      "execution_count": 28,
      "metadata": {},
      "outputs": [],
      "source": [
        "pipe['randomforest'].get_params()"
      ],
      "id": "c55d2a28"
    },
    {
      "cell_type": "markdown",
      "metadata": {},
      "source": [
        "Un [détour par la documentation](https://scikit-learn.org/stable/modules/generated/sklearn.ensemble.RandomForestRegressor.html)\n",
        "nous aide à comprendre ceux sur lesquels on va jouer. Par exemple, il serait\n",
        "absurde de jouer sur le paramètre `random_state` qui est la racine du générateur\n",
        "pseudo-aléatoire.\n",
        "\n",
        "Comme l’objectif est de se concentrer sur la démarche plus qu’essayer de\n",
        "trouver un bon modèle,\n",
        "nous allons également réduire la taille des données pour accélérer\n",
        "les calculs"
      ],
      "id": "bce2537c-bda0-4e67-b51d-bc4e46a54945"
    },
    {
      "cell_type": "code",
      "execution_count": 29,
      "metadata": {},
      "outputs": [],
      "source": [
        "mutations2 = mutations2.groupby('dep').sample(frac = 0.5, random_state = 123)\n",
        "\n",
        "X_train, X_test, y_train, y_test = train_test_split(mutations2[xvars2], mutations2[[\"Valeur_fonciere\"]].values.ravel(), test_size = 0.2, random_state = 0, stratify=mutations2[['dep']])\n",
        "\n",
        "X = pd.concat((X_train, X_test), axis=0)\n",
        "Y = np.concatenate([y_train,y_test])"
      ],
      "id": "69ab19b0"
    },
    {
      "cell_type": "markdown",
      "metadata": {},
      "source": [
        "Nous allons nous contenter de jouer sur les paramètres:\n",
        "\n",
        "-   `n_estimators`: Le nombre d’arbres de décision que notre forêt contient\n",
        "-   `max_depth`: La profondeur de chaque arbre\n",
        "\n",
        "Il existe plusieurs manières de faire de la validation croisée. Nous allons ici\n",
        "utiliser la *grid search* qui consiste à estimer et tester le modèle sur chaque\n",
        "combinaison d’une grille de paramètres et sélectionner le couple de valeurs\n",
        "des hyperparamètres amenant à la meilleure prédiction. Par défaut, `scikit`\n",
        "effectue une *5-fold cross validation*. Nous n’allons pas changer\n",
        "ce comportement.\n",
        "\n",
        "Comme expliqué précédemment, les paramètres s’appelent sous la forme\n",
        "`<step>__<parameter_name>`\n",
        "\n",
        "La validation croisée pouvant être très consommatrice de temps, nous\n",
        "n’allons l’effectuer que sur un nombre réduit de valeurs de notre grille.\n",
        "Il est possible de passer la liste des valeurs à passer au crible sous\n",
        "forme de liste (comme pour l’argument `max_depth` ci-dessous) ou\n",
        "sous forme d’`array` (comme pour l’argument `n_estimators`) ce qui est\n",
        "souvent pratique pour générer un criblage d’un intervalle avec `np.linspace`."
      ],
      "id": "76270887-586d-4d5f-ae66-fd2ceca21c76"
    },
    {
      "cell_type": "code",
      "execution_count": 30,
      "metadata": {},
      "outputs": [],
      "source": [
        "import numpy as np\n",
        "from sklearn.model_selection import GridSearchCV\n",
        "\n",
        "import time\n",
        "\n",
        "start_time = time.time()\n",
        "# Parameters of pipelines can be set using ‘__’ separated parameter names:\n",
        "param_grid = {\n",
        "    \"randomforest__n_estimators\": np.linspace(5,25, 5).astype(int),\n",
        "    \"randomforest__max_depth\": [2,4]\n",
        "}\n",
        "grid_search = GridSearchCV(pipe, param_grid=param_grid)\n",
        "grid_search.fit(X, Y)\n",
        "\n",
        "end_time = time.time()\n",
        "print(\"Elapsed time : {} seconds\", int(end_time - start_time))"
      ],
      "id": "a6fb451b"
    },
    {
      "cell_type": "code",
      "execution_count": 31,
      "metadata": {},
      "outputs": [],
      "source": [
        "print(estimator_html_repr(grid_search))"
      ],
      "id": "a7b03ef7"
    },
    {
      "cell_type": "code",
      "execution_count": 32,
      "metadata": {},
      "outputs": [],
      "source": [
        "print(\"Elapsed time : {} seconds\", int(end_time - start_time))"
      ],
      "id": "f07cde05"
    },
    {
      "cell_type": "markdown",
      "metadata": {},
      "source": [
        "On peut récupérer les paramètres optimaux avec la méthode `best_params_`:"
      ],
      "id": "6476bb4c-bf81-423b-b045-fd641a6ccb70"
    },
    {
      "cell_type": "code",
      "execution_count": 33,
      "metadata": {},
      "outputs": [],
      "source": [
        "grid_search.best_params_"
      ],
      "id": "37e4953c"
    },
    {
      "cell_type": "markdown",
      "metadata": {},
      "source": [
        "On pourra aussi ré-utiliser le modèle optimal de la manière suivante:\n",
        "\n",
        "``` python\n",
        "grid_search.best_estimator_\n",
        "```"
      ],
      "id": "589b7825-5234-4b34-beb6-b56412a53cdc"
    },
    {
      "cell_type": "code",
      "execution_count": 34,
      "metadata": {},
      "outputs": [],
      "source": [
        "print(estimator_html_repr(grid_search.best_estimator_))"
      ],
      "id": "d0d1443c"
    },
    {
      "cell_type": "markdown",
      "metadata": {},
      "source": [
        "Toutes les performances sur les ensembles d’échantillons et de test sur la grille\n",
        "d’hyperparamètres sont disponibles dans l’attribut:"
      ],
      "id": "29d30672-72cc-4368-805b-049c8f29d41b"
    },
    {
      "cell_type": "code",
      "execution_count": 35,
      "metadata": {},
      "outputs": [],
      "source": [
        "perf_random_forest = pd.DataFrame(grid_search.cv_results_)"
      ],
      "id": "6223819c"
    },
    {
      "cell_type": "markdown",
      "metadata": {},
      "source": [
        "Regardons les résultats moyens pour chaque valeur des hyperparamètres:"
      ],
      "id": "ff92e992-011a-4c90-aade-6e46e3fbf4e7"
    },
    {
      "cell_type": "code",
      "execution_count": 36,
      "metadata": {},
      "outputs": [],
      "source": [
        "fig, ax = plt.subplots(1)\n",
        "g = sns.lineplot(data = perf_random_forest, ax = ax,\n",
        "             x = \"param_randomforest__n_estimators\",\n",
        "             y = \"mean_test_score\",\n",
        "             hue = \"param_randomforest__max_depth\")\n",
        "g.set(xlabel='Number of estimators', ylabel='Mean score on test sample')\n",
        "g\n",
        "plt.legend(bbox_to_anchor=(1.05, 1), loc='upper left', borderaxespad=0,\n",
        "           title='Depth of trees')"
      ],
      "id": "cf0ad010"
    },
    {
      "cell_type": "code",
      "execution_count": 37,
      "metadata": {},
      "outputs": [],
      "source": [
        "g.figure.get_figure()"
      ],
      "id": "b249d4d7"
    },
    {
      "cell_type": "markdown",
      "metadata": {},
      "source": [
        "Globalement, à profondeur d’arbre donnée, le nombre d’arbres change\n",
        "marginalement la performance (cela détériore\n",
        "la performance quand la profondeur est de 4, cela améliore quand\n",
        "on fixe la profondeur de 2).\n",
        "En revanche, changer la profondeur de l’arbre améliore la\n",
        "performance de manière plus marquée.\n",
        "\n",
        "Maintenant, il nous reste à re-entraîner le modèle avec ces nouveaux\n",
        "paramètres sur l’ensemble du jeu de *train* et l’évaluer sur l’ensemble\n",
        "du jeu de *test*:"
      ],
      "id": "c2d1f089-a604-446c-94de-fa0d8afc07c5"
    },
    {
      "cell_type": "code",
      "execution_count": 38,
      "metadata": {},
      "outputs": [],
      "source": [
        "pipe_optimal = grid_search.best_estimator_\n",
        "pipe_optimal.fit(X_train, y_train)\n",
        "\n",
        "compar = pd.DataFrame([y_test, pipe_optimal.predict(X_test)]).T\n",
        "compar.columns = ['obs','pred']\n",
        "compar['diff'] = compar.obs - compar.pred"
      ],
      "id": "81cd42d7"
    },
    {
      "cell_type": "markdown",
      "metadata": {},
      "source": [
        "On obtient le RMSE suivant:"
      ],
      "id": "90a8e179-6703-4ddc-adf4-7f6490a85f89"
    },
    {
      "cell_type": "code",
      "execution_count": 39,
      "metadata": {},
      "outputs": [],
      "source": [
        "print(\"Le RMSE sur le jeu de test est {:,}\".format(\n",
        "   int(np.sqrt(mean_squared_error(y_test, pipe_optimal.predict(X_test))))\n",
        "))"
      ],
      "id": "adf6d650"
    },
    {
      "cell_type": "markdown",
      "metadata": {},
      "source": [
        "Et si on regarde la qualité en prédiction:"
      ],
      "id": "f53d97fa-9f7b-43b2-9dbf-5f334e23d53b"
    },
    {
      "cell_type": "code",
      "execution_count": 40,
      "metadata": {},
      "outputs": [],
      "source": [
        "g = sns.relplot(data = compar, x = 'obs', y = 'pred', color = \"royalblue\", alpha = 0.8)\n",
        "g.set(ylim=(0, 2e6), xlim=(0, 2e6),\n",
        "      title='Evaluating estimation error on test sample',\n",
        "      xlabel='Observed values',\n",
        "      ylabel='Predicted values')\n",
        "g.ax.axline(xy1=(0, 0), slope=1, color=\"red\", dashes=(5, 2))\n",
        "g"
      ],
      "id": "51dd0063"
    },
    {
      "cell_type": "code",
      "execution_count": 41,
      "metadata": {},
      "outputs": [],
      "source": [
        "g.figure.get_figure()"
      ],
      "id": "17f5849d"
    },
    {
      "cell_type": "markdown",
      "metadata": {},
      "source": [
        "On obtient plus de variance dans la prédiction, c’est déjà un peu mieux.\n",
        "Cependant, cela reste décevant pour plusieurs raisons:\n",
        "\n",
        "-   nous n’avons pas fait d’étape de sélection de variable\n",
        "-   nous n’avons pas chercher à déterminer si la variable à prédire la plus\n",
        "    pertinente était le prix ou une transformation de celle-ci\n",
        "    (par exemple le prix au $m^2$)"
      ],
      "id": "f78f8654-bf3e-448d-8a9c-36ca0de1729e"
    },
    {
      "cell_type": "code",
      "execution_count": 42,
      "metadata": {},
      "outputs": [],
      "source": [
        "features_names=pipe_optimal['preprocessor'].get_feature_names_out()\n",
        "importances = pipe_optimal['randomforest'].feature_importances_\n",
        "std = np.std([tree.feature_importances_ for tree in pipe_optimal['randomforest'].estimators_], axis=0)\n",
        "\n",
        "forest_importances = pd.Series(importances[importances>0], index=features_names[importances>0])\n",
        "\n",
        "fig, ax = plt.subplots()\n",
        "forest_importances.plot.bar(yerr=std[importances>0], ax=ax)\n",
        "ax.set_title(\"Feature importances using MDI\")\n",
        "ax.set_ylabel(\"Mean decrease in impurity\")\n",
        "fig.tight_layout()"
      ],
      "id": "64e89ef0"
    },
    {
      "cell_type": "code",
      "execution_count": 43,
      "metadata": {},
      "outputs": [],
      "source": [
        "ax"
      ],
      "id": "b6d1a8c7"
    },
    {
      "cell_type": "markdown",
      "metadata": {},
      "source": [
        "## Remarque sur la performance\n",
        "\n",
        "Les estimations sont, par défaut, menées de manière séquentielle (l’une après\n",
        "l’autre). Nous sommes cependant face à un problème\n",
        "*embarassingly parallel*.\n",
        "Pour gagner en performance, il est recommandé d’utiliser l’argument\n",
        "`n_jobs=-1`.\n",
        "\n",
        "## Remarque sur l’échantillonnage\n",
        "\n",
        "En l’état actuel de l’échantillonnage entre train et test au sein de la\n",
        "*grid search*,\n",
        "on est face à un problème de *data leaking* car l’échantillon\n",
        "n’est pas balancé entre nos classes (les départements).\n",
        "\n",
        "Certaines classes se\n",
        "retrouvent hors de l’échantillon d’estimation mais dans l’échantillon de prédiction.\n",
        "Autrement dit, notre *pipeline* de *preprocessing* se retrouve à devoir\n",
        "nettoyer des valeurs qu’il ne connaît pas.\n",
        "\n",
        "Nous avons choisi une option, dans notre *pipeline* pour se faciliter la vie\n",
        "à ce propos. Nous ne rencontrons pas d’erreur car nous avons utilisé l’option\n",
        "`handle_unknown = \"ignore\"` plutôt que\n",
        "`handle_unknown = \"error\"` (défaut) dans le *one hot encoding*.\n",
        "Cette option est dangereuse et n’est pas recommandée pour un vrai *pipeline*.\n",
        "De manière générale, il vaut mieux adopter une approche de\n",
        "programmation défensive en n’hésitant pas à renvoyer une erreur si la\n",
        "structure du *DataFrame* de prédiction diffère vraiment de celle du *DataFrame*\n",
        "d’entraînement.\n",
        "\n",
        "Pour éviter cette erreur, il serait mieux de définir explicitement le schéma de\n",
        "validation croisée à mettre en oeuvre.\n",
        "Précédemment, nous avions utilisé un échantillonnage stratifié.\n",
        "Cela pourrait être fait ici avec\n",
        "la méthode `StratifiedGroupKFold` (plus d’éléments à venir)\n",
        "\n",
        "``` python\n",
        "from sklearn.model_selection import StratifiedGroupKFold\n",
        "cv = StratifiedGroupKFold(n_splits=5)\n",
        "#grid_search.fit(pd.concat((X_train, X_test), axis=0), np.concatenate([y_train,y_test]), cv = cv, groups = pd.concat((X_train, X_test), axis=0)['dep'])\n",
        "```\n",
        "\n",
        "# Eléments supplémentaires à venir\n",
        "\n",
        "Ce chapitre est amené à être enrichi des éléments suivants\n",
        "(cf. [#207](https://github.com/linogaliana/python-datascientist/issues/207))\n",
        "\n",
        "-   [ ] Comparaison performance entre modèles grâce aux pipelines\n",
        "-   [ ] Intégration d’une étape de sélection de variable dans un pipeline\n",
        "-   [ ] `statsmodels` dans un pipeline\n",
        "-   [ ] `Keras` dans un pipeline\n",
        "\n",
        "# Annexes: pipelines alternatifs\n",
        "\n",
        "## Préalable : quelques méthodes pour gagner en flexibilité dans le preprocessing\n",
        "\n",
        "Notre *DataFrame* comporte des types hétérogènes de variables:\n",
        "\n",
        "-   Des variables numériques dont les variances sont très hétérogènes\n",
        "-   Des variables textuelles qui mériteraient un recodage sous forme numérique\n",
        "-   Des variables discrètes dont les modalités devraient être éclatées (*one hot encoding*)\n",
        "\n",
        "Pour gagner en flexibilité, nous allons proposer certaines méthodes qui permettent\n",
        "d’appliquer les étapes de *preprocessing* adéquates à un sous-ensemble de\n",
        "variables<a name=\"cite_ref-1\"></a>[<sup>\\[1\\]</sup>](#cite_note-1). Ces méthodes ne sont plus nécessaires dans les versions\n",
        "récentes de `scikit`."
      ],
      "id": "0cb6624e-0a2b-4405-8329-38b94f633a00"
    },
    {
      "cell_type": "raw",
      "metadata": {
        "raw_mimetype": "text/html"
      },
      "source": [
        "<a name=\"cite_note-1\"></a>1. [^](#cite_ref-1)"
      ],
      "id": "c0c8631c-90ec-4753-8016-e5453bd735f9"
    },
    {
      "cell_type": "markdown",
      "metadata": {},
      "source": [
        "Un certain nombre des éléments suivants ont été glannés, par ci par là,\n",
        "depuis `stackoverflow`.\n",
        "\n",
        "Pour cela, il convient d’adopter l’approche de la programmation orientée objet.\n",
        "On va créer des classes avec des méthodes `transform` et `fit_transform`\n",
        "qui pourront ainsi être intégrées directement dans les *pipelines*, comme s’il\n",
        "s’agissait de méthodes issues de `scikit`.\n",
        "\n",
        "La première généralise `LabelEncoder` à un sous-ensemble de colonnes:"
      ],
      "id": "83a2f516-fa0b-4bbf-9f87-9c0b7c321d3d"
    },
    {
      "cell_type": "code",
      "execution_count": 44,
      "metadata": {},
      "outputs": [],
      "source": [
        "from sklearn.preprocessing import LabelEncoder, OneHotEncoder\n",
        "from sklearn.compose import ColumnTransformer\n",
        "\n",
        "class MultiColumnLabelEncoder:\n",
        "    def __init__(self,columns = None):\n",
        "        self.columns = columns # array of column names to encode\n",
        "\n",
        "    def fit(self,X,y=None):\n",
        "        return self # not relevant here\n",
        "\n",
        "    def transform(self,X):\n",
        "        '''\n",
        "        Transforms columns of X specified in self.columns using\n",
        "        LabelEncoder(). If no columns specified, transforms all\n",
        "        columns in X.\n",
        "        '''\n",
        "        output = X.copy()\n",
        "        if self.columns is not None:\n",
        "            for col in self.columns:\n",
        "                output[col] = LabelEncoder().fit_transform(output[col])\n",
        "        else:\n",
        "            for colname,col in output.iteritems():\n",
        "                output[colname] = LabelEncoder().fit_transform(col)\n",
        "        return output\n",
        "\n",
        "    def fit_transform(self,X,y=None):\n",
        "        return self.fit(X,y).transform(X)"
      ],
      "id": "ff688779"
    },
    {
      "cell_type": "markdown",
      "metadata": {},
      "source": [
        "La seconde généralise cette fois le *one hot encoding* à un sous ensemble de\n",
        "fonctions"
      ],
      "id": "15cb8a91-f12f-4dbd-9167-0470195ffdbd"
    },
    {
      "cell_type": "code",
      "execution_count": 45,
      "metadata": {},
      "outputs": [],
      "source": [
        "class MultiColumnOneHotEncoder:\n",
        "    def __init__(self,columns = None):\n",
        "        self.columns = columns # array of column names to encode\n",
        "\n",
        "    def fit(self,X,y=None):\n",
        "        return self # not relevant here\n",
        "\n",
        "    def transform(self,X):\n",
        "        '''\n",
        "        Transforms columns of X specified in self.columns using\n",
        "        LabelEncoder(). If no columns specified, transforms all\n",
        "        columns in X.\n",
        "        '''\n",
        "        output = X.copy()\n",
        "        if self.columns is not None:\n",
        "            for col in self.columns:\n",
        "                output[col] = OneHotEncoder(sparse=False).fit_transform(output[col])\n",
        "        else:\n",
        "            for colname,col in output.iteritems():\n",
        "                output[colname] = OneHotEncoder(sparse=False).fit_transform(col)\n",
        "        return output\n",
        "\n",
        "    def fit_transform(self,X,y=None):\n",
        "        return self.fit(X,y).transform(X)"
      ],
      "id": "8372672f"
    },
    {
      "cell_type": "markdown",
      "metadata": {},
      "source": [
        "Les méthodes suivantes vont nous permettre de passer en arguments les noms\n",
        "de colonnes pour intégrer la récupération des bonnes colonnes de nos\n",
        "dataframes dans le pipeline:"
      ],
      "id": "ec28ac88-eebd-4a88-8204-fb0c6d116262"
    },
    {
      "cell_type": "code",
      "execution_count": 46,
      "metadata": {},
      "outputs": [],
      "source": [
        "from sklearn.base import BaseEstimator, TransformerMixin, RegressorMixin\n",
        "\n",
        "class Columns(BaseEstimator, TransformerMixin):\n",
        "    def __init__(self, names=None):\n",
        "        self.names = names\n",
        "\n",
        "    def fit(self, X, y=None, **fit_params):\n",
        "        return self\n",
        "\n",
        "    def transform(self, X):\n",
        "        return X[self.names]\n",
        "\n",
        "class Normalize(BaseEstimator, TransformerMixin):\n",
        "    def __init__(self, func=None, func_param={}):\n",
        "        self.func = func\n",
        "        self.func_param = func_param\n",
        "\n",
        "    def transform(self, X):\n",
        "        if self.func != None:\n",
        "            return self.func(X, **self.func_param)\n",
        "        else:\n",
        "            return X\n",
        "\n",
        "    def fit(self, X, y=None, **fit_params):\n",
        "        return self"
      ],
      "id": "2360f2ee"
    },
    {
      "cell_type": "markdown",
      "metadata": {},
      "source": [
        "Enfin, on va créer une méthode intermédiaire sous forme de *hack*\n",
        "(elle prend une matrice en entrée et renvoie la même matrice)\n",
        "pour\n",
        "pouvoir facilement récupérer notre matrice de *feature* afin de vérifier\n",
        "ses caractéristiques (notamment le nombre de colonnes disponibles):"
      ],
      "id": "d075e5a0-1345-45f2-84d5-b28a68450c21"
    },
    {
      "cell_type": "code",
      "execution_count": 47,
      "metadata": {},
      "outputs": [],
      "source": [
        "class Collect(BaseEstimator, TransformerMixin):\n",
        "\n",
        "    def transform(self, X):\n",
        "        #print(X.shape)\n",
        "        #self.shape = shape\n",
        "        # what other output you want\n",
        "        return X\n",
        "\n",
        "    def fit(self, X, y=None, **fit_params):\n",
        "        return self"
      ],
      "id": "6545ff79"
    },
    {
      "cell_type": "code",
      "execution_count": 48,
      "metadata": {},
      "outputs": [],
      "source": [
        "from sklearn.pipeline import make_pipeline, FeatureUnion\n",
        "from sklearn.preprocessing import StandardScaler, LabelEncoder, OneHotEncoder\n",
        "from sklearn.pipeline import Pipeline\n",
        "\n",
        "pipe2 = Pipeline([\n",
        "    (\"features\", FeatureUnion([\n",
        "        ('numeric', make_pipeline(Columns(names=numeric_features[:-1]),StandardScaler())),\n",
        "        ('categorical', make_pipeline(Columns(names=categorical_features),OneHotEncoder(sparse=False)))\n",
        "    ])),\n",
        "    ('identity', Collect()),\n",
        "    ('randomforest', regr)\n",
        "])"
      ],
      "id": "97c0a54e"
    },
    {
      "cell_type": "code",
      "execution_count": 49,
      "metadata": {},
      "outputs": [],
      "source": [
        "print(estimator_html_repr(pipe2))"
      ],
      "id": "d0167504"
    },
    {
      "cell_type": "code",
      "execution_count": 50,
      "metadata": {},
      "outputs": [],
      "source": [
        "preprocessor = ColumnTransformer(\n",
        "    transformers=[\n",
        "        ('numeric', StandardScaler(), numeric_features[:-1]),\n",
        "        ('categorical', OneHotEncoder(sparse=False, handle_unknown = \"ignore\"), categorical_features)])\n",
        "\n",
        "pipe3 = Pipeline(steps=[('preprocessor', preprocessor),\n",
        "                      ('randomforest', regr)])"
      ],
      "id": "30b055d4"
    },
    {
      "cell_type": "code",
      "execution_count": 51,
      "metadata": {},
      "outputs": [],
      "source": [
        "print(estimator_html_repr(pipe3))"
      ],
      "id": "1bc4ebd9"
    },
    {
      "cell_type": "markdown",
      "metadata": {},
      "source": [
        "# Références\n",
        "\n",
        "-   Breiman L (2001). *“Random Forests”. Machine Learning*. 45 (1): 5–32."
      ],
      "id": "585e6747-e3fb-469c-b32e-f0c464142911"
    }
  ],
  "nbformat": 4,
  "nbformat_minor": 5,
  "metadata": {
    "kernelspec": {
      "name": "python3",
      "display_name": "Python 3 (ipykernel)",
      "language": "python"
    },
    "language_info": {
      "name": "python",
      "codemirror_mode": {
        "name": "ipython",
        "version": "3"
      },
      "file_extension": ".py",
      "mimetype": "text/x-python",
      "nbconvert_exporter": "python",
      "pygments_lexer": "ipython3",
      "version": "3.9.16"
    }
  }
}