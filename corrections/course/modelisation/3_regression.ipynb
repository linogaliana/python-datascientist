{
  "cells": [
    {
      "cell_type": "markdown",
      "metadata": {},
      "source": [
        "# Régression : une introduction"
      ],
      "id": "a199ec0e-c352-40d2-b1ac-31f67259707c"
    },
    {
      "cell_type": "markdown",
      "metadata": {},
      "source": [
        "``` python\n",
        "import sys\n",
        "sys.path.insert(1, '../../../../') #insert the utils module\n",
        "from utils import print_badges\n",
        "\n",
        "#print_badges(__file__)\n",
        "print_badges(\"content/course/modelisation/3_regression.qmd\")\n",
        "```\n",
        "\n",
        "<p class=\"badges\">\n",
        "\n",
        "<a href=\"https://github.com/linogaliana/python-datascientist/blob/master/notebooks/course/modelisation/3_regression.ipynb\" class=\"github\"><i class=\"fab fa-github\"></i></a>\n",
        "<a href=\"https://downgit.github.io/#/home?url=https://github.com/linogaliana/python-datascientist/blob/master/notebooks/course/modelisation/3_regression.ipynb\" target=\"_blank\" rel=\"noopener\"><img src=\"https://img.shields.io/badge/Download-Notebook-important?logo=Jupyter\" alt=\"Download\"></a>\n",
        "<a href=\"https://nbviewer.jupyter.org/github/linogaliana/python-datascientist/blob/master/notebooks/course/modelisation/3_regression.ipynb\" target=\"_blank\" rel=\"noopener\"><img src=\"https://img.shields.io/badge/Visualize-nbviewer-blue?logo=Jupyter\" alt=\"nbviewer\"></a>\n",
        "<a href=\"https://datalab.sspcloud.fr/launcher/ide/jupyter-python?autoLaunch=true&onyxia.friendlyName=%C2%ABpython-datascience%C2%BB&init.personalInit=%C2%ABhttps%3A%2F%2Fraw.githubusercontent.com%2Flinogaliana%2Fpython-datascientist%2Fmaster%2Fsspcloud%2Finit-jupyter.sh%C2%BB&init.personalInitArgs=%C2%ABmodelisation%203_regression%C2%BB&security.allowlist.enabled=false\" target=\"_blank\" rel=\"noopener\"><img src=\"https://img.shields.io/badge/SSPcloud-Tester%20via%20SSP--cloud-informational&amp;color=yellow?logo=Python\" alt=\"Onyxia\"></a><br>\n",
        "<a href=\"https://mybinder.org/v2/gh/linogaliana/python-datascientist/master?filepath={binder_path}\" target=\"_blank\" rel=\"noopener\"><img src=\"https://img.shields.io/badge/Launch-Binder-E66581.svg?logo=data:image/png;base64,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\" alt=\"Binder\"></a>\n",
        "<a href=\"http://colab.research.google.com/github/linogaliana/python-datascientist/blob/master/notebooks/course/modelisation/3_regression.ipynb\" target=\"_blank\" rel=\"noopener\"><img src=\"https://colab.research.google.com/assets/colab-badge.svg\" alt=\"Open In Colab\"></a>\n",
        "<a href=\"https://github.dev/linogaliana/python-datascientist/notebooks/course/modelisation/3_regression.ipynb\" target=\"_blank\" rel=\"noopener\"><img src=\"https://img.shields.io/static/v1?logo=visualstudiocode&label=&message=Open%20in%20Visual%20Studio%20Code&labelColor=2c2c32&color=007acc&logoColor=007acc\" alt=\"githubdev\"></a>\n",
        "\n",
        "</p>\n",
        "\n",
        "</p>"
      ],
      "id": "818ab5aa-dcac-4db8-9338-98d33d22ba63"
    },
    {
      "cell_type": "markdown",
      "metadata": {},
      "source": [
        "Nous allons partir du même jeu de données que précédemment,\n",
        "c’est-à-dire les résultats des élections US 2020 présentés dans l’[introduction\n",
        "de cette partie](https://linogaliana-teaching.netlify.app/modelisation/): les données de vote aux élections présidentielles américaines\n",
        "croisées à des variables sociodémographiques.\n",
        "Le code\n",
        "est disponible [sur Github](https://github.com/linogaliana/python-datascientist/blob/master/content/course/modelisation/get_data.py)."
      ],
      "id": "1bda1d89-1cfc-4025-b282-af47723532f0"
    },
    {
      "cell_type": "code",
      "execution_count": 2,
      "metadata": {},
      "outputs": [],
      "source": [
        "#!pip install --upgrade xlrd #colab bug verson xlrd\n",
        "#!pip install geopandas\n",
        "\n",
        "import requests\n",
        "\n",
        "url = 'https://raw.githubusercontent.com/linogaliana/python-datascientist/master/content/course/modelisation/get_data.py'\n",
        "r = requests.get(url, allow_redirects=True)\n",
        "open('getdata.py', 'wb').write(r.content)\n",
        "\n",
        "import getdata\n",
        "votes = getdata.create_votes_dataframes()"
      ],
      "id": "85d0a162-fe46-4669-94d8-19034058797f"
    },
    {
      "cell_type": "markdown",
      "metadata": {},
      "source": [
        "Le précédent chapitre visait à proposer un premier modèle pour comprendre\n",
        "les comtés où le parti Républicain l’emporte. La variable d’intérêt étant\n",
        "bimodale (victoire ou défaite), on était dans le cadre d’un modèle de\n",
        "classification.\n",
        "\n",
        "Maintenant, sur les mêmes données, on va proposer un modèle de régression\n",
        "pour expliquer le score du parti Républicain. La variable est donc continue.\n",
        "Nous ignorerons le fait que ses bornes se trouvent entre 0 et 100 et donc\n",
        "qu’il faudrait, pour être rigoureux, transformer l’échelle afin d’avoir\n",
        "des données dans cet intervalle.\n",
        "\n",
        "Ce chapitre utilise toujours le même jeu de données, présenté dans l’[introduction\n",
        "de cette partie](https://linogaliana-teaching.netlify.app/modelisation/): les données de vote aux élections présidentielles américaines\n",
        "croisées à des variables sociodémographiques.\n",
        "Le code\n",
        "est disponible [sur Github](https://github.com/linogaliana/python-datascientist/blob/master/content/course/modelisation/get_data.py)."
      ],
      "id": "5f04ec49-8d6a-4882-91db-6ba925a62305"
    },
    {
      "cell_type": "code",
      "execution_count": 3,
      "metadata": {},
      "outputs": [],
      "source": [
        "#!pip install --upgrade xlrd #colab bug verson xlrd\n",
        "#!pip install geopandas\n",
        "\n",
        "import requests\n",
        "\n",
        "url = 'https://raw.githubusercontent.com/linogaliana/python-datascientist/master/content/course/modelisation/get_data.py'\n",
        "r = requests.get(url, allow_redirects=True)\n",
        "open('getdata.py', 'wb').write(r.content)\n",
        "\n",
        "import getdata\n",
        "votes = getdata.create_votes_dataframes()"
      ],
      "id": "21bd9f2e-d658-48b1-8279-0cfa949265a0"
    },
    {
      "cell_type": "markdown",
      "metadata": {},
      "source": [
        "# Principe général\n",
        "\n",
        "Le principe général de la régression consiste à trouver une loi $h_\\theta(X)$\n",
        "telle que\n",
        "\n",
        "$$\n",
        "h_\\theta(X) = \\mathbb{E}_\\theta(Y|X)\n",
        "$$\n",
        "\n",
        "Cette formalisation est extrêmement généraliste et ne se restreint d’ailleurs\n",
        "par à la régression linéaire.\n",
        "\n",
        "En économétrie, la régression offre une alternative aux méthodes de maximum\n",
        "de vraisemblance et aux méthodes des moments. La régression est un ensemble\n",
        "très vaste de méthodes, selon la famille de modèles\n",
        "(paramétriques, non paramétriques, etc.) et la structure de modèles.\n",
        "\n",
        "## La régression linéaire\n",
        "\n",
        "C’est la manière la plus simple de représenter la loi $h_\\theta(X)$ comme\n",
        "combinaison linéaire de variables $X$ et de paramètres $\\theta$. Dans ce\n",
        "cas,\n",
        "\n",
        "$$\n",
        "\\mathbb{E}_\\theta(Y|X) = X\\beta\n",
        "$$\n",
        "\n",
        "Cette relation est encore, sous cette formulation, théorique. Il convient\n",
        "de l’estimer à partir des données observées $y$. La méthode des moindres\n",
        "carrés consiste à minimiser l’erreur quadratique entre la prédiction et\n",
        "les données observées (ce qui explique qu’on puisse voir la régression comme\n",
        "un problème de *Machine Learning*). En toute généralité, la méthode des\n",
        "moindres carrés consiste à trouver l’ensemble de paramètres $\\theta$\n",
        "tel que\n",
        "\n",
        "$$\n",
        "\\theta = \\arg \\min_{\\theta \\in \\Theta} \\mathbb{E}\\bigg[ \\left( y - h_\\theta(X) \\right)^2 \\bigg]\n",
        "$$\n",
        "\n",
        "Ce qui, dans le cadre de la régression linéaire, s’exprime de la manière suivante:\n",
        "\n",
        "$$\n",
        "\\beta = \\arg\\min \\mathbb{E}\\bigg[ \\left( y - X\\beta \\right)^2 \\bigg]\n",
        "$$\n",
        "\n",
        "Lorsqu’on amène le modèle théorique ($\\mathbb{E}_\\theta(Y|X) = X\\beta$) aux données,\n",
        "on formalise le modèle de la manière suivante:\n",
        "\n",
        "$$\n",
        "Y = X\\beta + \\epsilon\n",
        "$$\n",
        "\n",
        "Avec une certaine distribution du bruit $\\epsilon$ qui dépend\n",
        "des hypothèses faites. Par exemple, avec des\n",
        "$\\epsilon \\sim \\mathcal{N}(0,\\sigma^2)$ i.i.d., l’estimateur $\\beta$ obtenu\n",
        "est équivalent à celui du Maximum de Vraisemblance dont la théorie asymptotique\n",
        "nous assure l’absence de biais, la variance minimale (borne de Cramer-Rao)."
      ],
      "id": "2ba48f01-add9-4057-bbe3-03a9de17a69f"
    },
    {
      "cell_type": "code",
      "execution_count": 4,
      "metadata": {},
      "outputs": [],
      "source": [
        "# packages utiles\n",
        "import numpy as np\n",
        "from sklearn.linear_model import LinearRegression\n",
        "from sklearn.model_selection import train_test_split\n",
        "import sklearn.metrics\n",
        "import matplotlib.pyplot as plt\n",
        "import seaborn as sns\n",
        "import pandas as pd"
      ],
      "id": "a37d1e9b-481c-40a0-bc53-fc8242b325a1"
    },
    {
      "cell_type": "markdown",
      "metadata": {},
      "source": [
        "<div class=\"alert alert-success\" role=\"alert\">\n",
        "<h3 class=\"alert-heading\"><i class=\"fa-solid fa-pencil\"></i> Exercice 1a : Régression linéaire avec scikit</h3>\n",
        "\n",
        "Cet exercice vise à illustrer la manière d’effectuer une régression linéaire avec `scikit`.\n",
        "Dans ce domaine,\n",
        "`statsmodels` est nettement plus complet, ce que montrera l’exercice suivant.\n",
        "L’intérêt principal de faire\n",
        "des régressions avec `scikit` est de pouvoir comparer les résultats d’une régression linéaire\n",
        "avec d’autres modèles de régression. Cependant, le chapitre sur les\n",
        "pipelines montrera qu’on peut très bien insérer, avec quelques efforts\n",
        "de programmation orientée objet, une régression `statsmodels` dans\n",
        "un pipeline `scikit`.\n",
        "\n",
        "L’objectif est d’expliquer le score des Républicains en fonction de quelques\n",
        "variables. Contrairement au chapitre précédent, où on se focalisait sur\n",
        "un résultat binaire (victoire/défaite des Républicains), cette\n",
        "fois on va chercher à modéliser directement le score des Républicains.\n",
        "\n",
        "1.  A partir de quelques variables, par exemple, *‘Unemployment_rate_2019’, ‘Median_Household_Income_2019’, ‘Percent of adults with less than a high school diploma, 2015-19’, “Percent of adults with a bachelor’s degree or higher, 2015-19”*, expliquer la variable `per_gop` à l’aide d’un échantillon d’entraînement `X_train` constitué au préalable.\n",
        "\n",
        ":warning: utiliser la variable `Median_Household_Income_2019`\n",
        "en `log` sinon son échelle risque d’écraser tout effet.\n",
        "\n",
        "1.  Afficher les valeurs des coefficients, constante comprise\n",
        "\n",
        "2.  Evaluer la pertinence du modèle avec le $R^2$ et la qualité du fit avec le MSE.\n",
        "\n",
        "3.  Représenter un nuage de points des valeurs observées\n",
        "    et des erreurs de prédiction. Observez-vous\n",
        "    un problème de spécification ?\n",
        "\n",
        "</div>"
      ],
      "id": "0449d371-4548-414d-8993-9159659d69b5"
    },
    {
      "cell_type": "code",
      "execution_count": 5,
      "metadata": {},
      "outputs": [
        {
          "output_type": "stream",
          "name": "stderr",
          "text": [
            "/tmp/ipykernel_401/2244904719.py:5: SettingWithCopyWarning:\n",
            "\n",
            "\n",
            "A value is trying to be set on a copy of a slice from a DataFrame.\n",
            "Try using .loc[row_indexer,col_indexer] = value instead\n",
            "\n",
            "See the caveats in the documentation: https://pandas.pydata.org/pandas-docs/stable/user_guide/indexing.html#returning-a-view-versus-a-copy\n",
            "\n",
            "/tmp/ipykernel_401/2244904719.py:6: FutureWarning:\n",
            "\n",
            "In a future version of pandas all arguments of DataFrame.any and Series.any will be keyword-only.\n"
          ]
        }
      ],
      "source": [
        "# 1. Régression linéaire de per_gop sur différentes variables explicatives\n",
        "xvars = ['Unemployment_rate_2019', 'Median_Household_Income_2019', 'Percent of adults with less than a high school diploma, 2015-19', \"Percent of adults with a bachelor's degree or higher, 2015-19\"]\n",
        "\n",
        "df2 = votes[[\"per_gop\"] + xvars]\n",
        "df2['log_income'] = np.log(df2[\"Median_Household_Income_2019\"])\n",
        "indices_to_keep = ~df2.isin([np.nan, np.inf, -np.inf]).any(1)\n",
        "df2 = df2[indices_to_keep].astype(np.float64)\n",
        "\n",
        "X_train, X_test, y_train, y_test = train_test_split(\n",
        "    df2.drop([\"Median_Household_Income_2019\",\"per_gop\"], axis = 1),\n",
        "    100*df2[['per_gop']].values.ravel(), test_size=0.2, random_state=0\n",
        ")\n",
        "\n",
        "ols = LinearRegression().fit(X_train, y_train)\n",
        "y_pred = ols.predict(X_test)\n",
        "#y_pred[:10]"
      ],
      "id": "06d41661-5d16-4bbb-87ca-e6d3f6acc126"
    },
    {
      "cell_type": "code",
      "execution_count": 6,
      "metadata": {},
      "outputs": [
        {
          "output_type": "stream",
          "name": "stdout",
          "text": [
            "38.724574226244954 [-3.44264194 -0.47323213 -1.40067009  7.06268493]"
          ]
        }
      ],
      "source": [
        "#2. Afficher les valeurs des coefficients\n",
        "print(ols.intercept_, ols.coef_)"
      ],
      "id": "0209ec89-d652-4bea-9a30-fbe0b557b12b"
    },
    {
      "cell_type": "code",
      "execution_count": 7,
      "metadata": {},
      "outputs": [
        {
          "output_type": "stream",
          "name": "stdout",
          "text": [
            "Mean squared error: 12.56\n",
            "Coefficient of determination: 0.41"
          ]
        }
      ],
      "source": [
        "# 3. Evaluer la pertinence du modèle\n",
        "\n",
        "rmse = sklearn.metrics.mean_squared_error(y_test, y_pred, squared = False)\n",
        "rsq = sklearn.metrics.r2_score(y_test, y_pred) \n",
        "\n",
        "print('Mean squared error: %.2f'\n",
        "      % rmse)\n",
        "# The coefficient of determination: 1 is perfect prediction\n",
        "print('Coefficient of determination: %.2f'\n",
        "      % rsq)"
      ],
      "id": "e327c626-ea72-4858-b15b-3792f882685e"
    },
    {
      "cell_type": "code",
      "execution_count": 8,
      "metadata": {},
      "outputs": [
        {
          "output_type": "display_data",
          "metadata": {},
          "data": {
            "text/plain": [
              "<matplotlib.lines.Line2D at 0x7f8fd57ecdf0>"
            ]
          }
        },
        {
          "output_type": "display_data",
          "metadata": {},
          "data": {
            "image/png": "[encoded data removed]"
          }
        }
      ],
      "source": [
        "#4. Nuage de points des valeurs observées\n",
        "tempdf = pd.DataFrame({\"prediction\": y_pred, \"observed\": y_test,\n",
        "                       \"error\": y_test - y_pred})\n",
        "\n",
        "fig = plt.figure()\n",
        "g = sns.scatterplot(data = tempdf, x = \"observed\", y = \"error\")\n",
        "g.axhline(0, color = \"red\")\n",
        "\n",
        "# La répartition des erreurs n'est clairement pas \n",
        "# aléatoire en fonction de $X$.\n",
        "# Le modèle souffre\n",
        "# donc d'un problème de spécification. "
      ],
      "id": "80e9fcbd-d5b3-4a27-9659-8fa9b16d4db1"
    },
    {
      "cell_type": "code",
      "execution_count": 9,
      "metadata": {},
      "outputs": [
        {
          "output_type": "display_data",
          "metadata": {},
          "data": {
            "image/png": "[encoded data removed]"
          }
        }
      ],
      "source": [
        "g.figure.get_figure()"
      ],
      "id": "709a3568-dccb-4da6-aa7c-3de7455ea887"
    },
    {
      "cell_type": "code",
      "execution_count": 10,
      "metadata": {},
      "outputs": [],
      "source": [
        "g.figure.get_figure().savefig(\"featured.png\")"
      ],
      "id": "d192f953-08ac-4cd8-99ca-a28e8b67ccf0"
    },
    {
      "cell_type": "code",
      "execution_count": 11,
      "metadata": {},
      "outputs": [],
      "source": [
        "# packages utiles\n",
        "import statsmodels.api as sm\n",
        "import statsmodels.formula.api as smf"
      ],
      "id": "fe5e2acb-a5fa-4d18-9757-6276d01104af"
    },
    {
      "cell_type": "markdown",
      "metadata": {},
      "source": [
        "<div class=\"alert alert-success\" role=\"alert\">\n",
        "<h3 class=\"alert-heading\"><i class=\"fa-solid fa-pencil\"></i> Exercice 1b : Régression linéaire avec statsmodels</h3>\n",
        "\n",
        "Cet exercice vise à illustrer la manière d’effectuer une régression linéaire avec `statsmodels` qui offre des fonctionnalités plus proches de celles de `R`, et moins orientées *Machine Learning*.\n",
        "\n",
        "L’objectif est toujours d’expliquer le score des Républicains en fonction de quelques\n",
        "variables.\n",
        "\n",
        "1.  A partir de quelques variables, par exemple, *‘Unemployment_rate_2019’, ‘Median_Household_Income_2019’, ‘Percent of adults with less than a high school diploma, 2015-19’, “Percent of adults with a bachelor’s degree or higher, 2015-19”*, expliquer la variable `per_gop`. :warning: utiliser la variable `Median_Household_Income_2019`\n",
        "    en `log` sinon son échelle risque d’écraser tout effet.\n",
        "2.  Afficher un tableau de régression.\n",
        "3.  Evaluer la pertinence du modèle avec le R^2.\n",
        "4.  Utiliser l’API `formula` pour régresser le score des républicains en fonction de la variable `Unemployment_rate_2019`, de `Unemployment_rate_2019` au carré et du log de\n",
        "    `Median_Household_Income_2019`.\n",
        "\n",
        "</div>"
      ],
      "id": "4759bbbc-35b1-4bba-98bb-ddee74885b99"
    },
    {
      "cell_type": "code",
      "execution_count": 12,
      "metadata": {},
      "outputs": [
        {
          "output_type": "stream",
          "name": "stderr",
          "text": [
            "/tmp/ipykernel_401/3659564834.py:5: SettingWithCopyWarning:\n",
            "\n",
            "\n",
            "A value is trying to be set on a copy of a slice from a DataFrame.\n",
            "Try using .loc[row_indexer,col_indexer] = value instead\n",
            "\n",
            "See the caveats in the documentation: https://pandas.pydata.org/pandas-docs/stable/user_guide/indexing.html#returning-a-view-versus-a-copy\n",
            "\n",
            "/tmp/ipykernel_401/3659564834.py:6: FutureWarning:\n",
            "\n",
            "In a future version of pandas all arguments of DataFrame.any and Series.any will be keyword-only.\n"
          ]
        }
      ],
      "source": [
        "# 1. Régression linéaire de per_gop sur différentes variables explicatives\n",
        "xvars = ['Unemployment_rate_2019', 'Median_Household_Income_2019', 'Percent of adults with less than a high school diploma, 2015-19', \"Percent of adults with a bachelor's degree or higher, 2015-19\"]\n",
        "\n",
        "df2 = votes[[\"per_gop\"] + xvars]\n",
        "df2['log_income'] = np.log(df2[\"Median_Household_Income_2019\"])\n",
        "indices_to_keep = ~df2.isin([np.nan, np.inf, -np.inf]).any(1)\n",
        "df2 = df2[indices_to_keep].astype(np.float64)\n",
        "\n",
        "X = sm.add_constant(df2.drop([\"Median_Household_Income_2019\",\"per_gop\"], axis = 1))\n",
        "results = sm.OLS(df2[['per_gop']], X).fit()"
      ],
      "id": "d6d84faf-9799-4234-821c-baf9991f8b1b"
    },
    {
      "cell_type": "code",
      "execution_count": 13,
      "metadata": {},
      "outputs": [
        {
          "output_type": "stream",
          "name": "stdout",
          "text": [
            "                            OLS Regression Results                            \n",
            "==============================================================================\n",
            "Dep. Variable:                per_gop   R-squared:                       0.440\n",
            "Model:                            OLS   Adj. R-squared:                  0.439\n",
            "Method:                 Least Squares   F-statistic:                     608.7\n",
            "Date:                Mon, 07 Nov 2022   Prob (F-statistic):               0.00\n",
            "Time:                        14:39:05   Log-Likelihood:                 2172.5\n",
            "No. Observations:                3107   AIC:                            -4335.\n",
            "Df Residuals:                    3102   BIC:                            -4305.\n",
            "Df Model:                           4                                         \n",
            "Covariance Type:            nonrobust                                         \n",
            "===================================================================================================================================\n",
            "                                                                      coef    std err          t      P>|t|      [0.025      0.975]\n",
            "-----------------------------------------------------------------------------------------------------------------------------------\n",
            "const                                                               0.4068      0.147      2.765      0.006       0.118       0.695\n",
            "Unemployment_rate_2019                                             -0.0345      0.002    -19.306      0.000      -0.038      -0.031\n",
            "Percent of adults with less than a high school diploma, 2015-19    -0.0051      0.000    -11.333      0.000      -0.006      -0.004\n",
            "Percent of adults with a bachelor's degree or higher, 2015-19      -0.0140      0.000    -42.380      0.000      -0.015      -0.013\n",
            "log_income                                                          0.0692      0.013      5.136      0.000       0.043       0.096\n",
            "==============================================================================\n",
            "Omnibus:                      128.336   Durbin-Watson:                   1.932\n",
            "Prob(Omnibus):                  0.000   Jarque-Bera (JB):              161.315\n",
            "Skew:                          -0.441   Prob(JB):                     9.35e-36\n",
            "Kurtosis:                       3.683   Cond. No.                     1.97e+03\n",
            "==============================================================================\n",
            "\n",
            "Notes:\n",
            "[1] Standard Errors assume that the covariance matrix of the errors is correctly specified.\n",
            "[2] The condition number is large, 1.97e+03. This might indicate that there are\n",
            "strong multicollinearity or other numerical problems."
          ]
        }
      ],
      "source": [
        "# 2. Afficher le tableau de régression\n",
        "print(results.summary())\n",
        "# html_snippet = results.summary().as_html()"
      ],
      "id": "66b9b2d1-1aab-403c-baba-9fae4c38dcc1"
    },
    {
      "cell_type": "code",
      "execution_count": 14,
      "metadata": {},
      "outputs": [
        {
          "output_type": "stream",
          "name": "stdout",
          "text": [
            "R2:  0.439751369229638"
          ]
        }
      ],
      "source": [
        "# 3. Calcul du R^2\n",
        "print(\"R2: \", results.rsquared)"
      ],
      "id": "2681c16c-52ee-40a3-a17e-65e6747bebf0"
    },
    {
      "cell_type": "code",
      "execution_count": 15,
      "metadata": {},
      "outputs": [
        {
          "output_type": "stream",
          "name": "stdout",
          "text": [
            "                            OLS Regression Results                            \n",
            "==============================================================================\n",
            "Dep. Variable:                per_gop   R-squared:                       0.115\n",
            "Model:                            OLS   Adj. R-squared:                  0.114\n",
            "Method:                 Least Squares   F-statistic:                     133.8\n",
            "Date:                Mon, 07 Nov 2022   Prob (F-statistic):           1.55e-81\n",
            "Time:                        14:39:05   Log-Likelihood:                 1461.5\n",
            "No. Observations:                3107   AIC:                            -2915.\n",
            "Df Residuals:                    3103   BIC:                            -2891.\n",
            "Df Model:                           3                                         \n",
            "Covariance Type:            nonrobust                                         \n",
            "========================================================================================================\n",
            "                                           coef    std err          t      P>|t|      [0.025      0.975]\n",
            "--------------------------------------------------------------------------------------------------------\n",
            "Intercept                                3.4689      0.149     23.238      0.000       3.176       3.762\n",
            "Unemployment_rate_2019                  -0.0454      0.006     -7.515      0.000      -0.057      -0.034\n",
            "I(Unemployment_rate_2019 ** 2)           0.0011      0.001      2.094      0.036    6.68e-05       0.002\n",
            "np.log(Median_Household_Income_2019)    -0.2439      0.013    -18.710      0.000      -0.269      -0.218\n",
            "==============================================================================\n",
            "Omnibus:                      334.339   Durbin-Watson:                   1.971\n",
            "Prob(Omnibus):                  0.000   Jarque-Bera (JB):              448.587\n",
            "Skew:                          -0.890   Prob(JB):                     3.90e-98\n",
            "Kurtosis:                       3.547   Cond. No.                     1.41e+03\n",
            "==============================================================================\n",
            "\n",
            "Notes:\n",
            "[1] Standard Errors assume that the covariance matrix of the errors is correctly specified.\n",
            "[2] The condition number is large, 1.41e+03. This might indicate that there are\n",
            "strong multicollinearity or other numerical problems."
          ]
        }
      ],
      "source": [
        "# 4. Nouvelle régression avec l'API formula\n",
        "results = smf.ols('per_gop ~ Unemployment_rate_2019 + I(Unemployment_rate_2019**2) + np.log(Median_Household_Income_2019)', data=df2).fit()\n",
        "print(results.summary())"
      ],
      "id": "d441591f-ba95-44b5-901d-3b2f8a954510"
    },
    {
      "cell_type": "markdown",
      "metadata": {},
      "source": [
        "<div class=\"alert alert-warning\" role=\"alert\">\n",
        "<h3 class=\"alert-heading\"><i class=\"fa-solid fa-lightbulb\"></i> Hint</h3>\n",
        "\n",
        "Pour sortir une belle table pour un rapport sous $\\LaTeX$, il est possible d’utiliser\n",
        "la méthode [`Summary.as_latex`](https://www.statsmodels.org/devel/generated/statsmodels.iolib.summary.Summary.as_latex.html#statsmodels.iolib.summary.Summary.as_latex). Pour un rapport HTML, on utilisera [`Summary.as_html`](https://www.statsmodels.org/devel/generated/statsmodels.iolib.summary.Summary.as_latex.html#statsmodels.iolib.summary.Summary.as_latex)\n",
        "\n",
        "</div>"
      ],
      "id": "3868f706-e044-4009-9518-ae540e754c74"
    },
    {
      "cell_type": "markdown",
      "metadata": {},
      "source": [
        "<div class=\"alert alert-info\" role=\"alert\">\n",
        "<h3 class=\"alert-heading\"><i class=\"fa-solid fa-comment\"></i> Note</h3>\n",
        "\n",
        "Les utilisateurs de `R` retrouveront des éléments très familiers avec `statsmodels`,\n",
        "notamment la possibilité d’utiliser une formule pour définir une régression.\n",
        "La philosophie de `statsmodels` est similaire à celle qui a influé sur la construction\n",
        "des packages `stats` et `MASS` de `R`: offrir une librairie généraliste, proposant\n",
        "une large gamme de modèles. Néanmoins, `statsmodels` bénéficie de sa jeunesse\n",
        "par rapport aux packages `R`. Depuis les années 1990, les packages `R` visant\n",
        "à proposer des fonctionalités manquantes dans `stats` et `MASS` se sont\n",
        "multipliés alors que `statsmodels`, enfant des années 2010, n’a eu qu’à\n",
        "proposer un cadre général (les *generalized estimating equations*) pour\n",
        "englober ces modèles.\n",
        "\n",
        "</div>"
      ],
      "id": "bdfd5477-9b44-4959-a5a4-2012e83e4286"
    },
    {
      "cell_type": "markdown",
      "metadata": {},
      "source": [
        "## La régression logistique\n",
        "\n",
        "Ce modèle s’applique à une distribution binaire.\n",
        "Dans ce cas, $\\mathbb{E}\\_{\\theta}(Y|X) = \\mathbb{P}\\_{\\theta}(Y = 1|X)$.\n",
        "La régression logistique peut être vue comme un modèle linéaire en probabilité:\n",
        "\n",
        "$$\n",
        "\\text{logit}\\bigg(\\mathbb{E}\\_{\\theta}(Y|X)\\bigg) = \\text{logit}\\bigg(\\mathbb{P}\\_{\\theta}(Y = 1|X)\\bigg) = X\\beta\n",
        "$$\n",
        "\n",
        "La fonction $\\text{logit}$ est $]0,1[ \\to \\mathbb{R}: p \\mapsto \\log(\\frac{p}{1-p})$.\n",
        "\n",
        "Elle permet ainsi de transformer une probabilité dans $\\mathbb{R}$.\n",
        "Sa fonction réciproque est la sigmoïde ($\\frac{1}{1 + e^{-x}}$),\n",
        "objet central du *Deep Learning*.\n",
        "\n",
        "Il convient de noter que les probabilités ne sont pas observées, c’est l’*outcome*\n",
        "binaire (0/1) qui l’est. Cela amène à voir la régression logistique de deux\n",
        "manières différentes :\n",
        "\n",
        "-   En économétrie, on s’intéresse au modèle latent qui détermine le choix de\n",
        "    l’outcome. Par exemple, si on observe les choix de participer ou non au marché\n",
        "    du travail, on va modéliser les facteurs déterminant ce choix ;\n",
        "-   En *Machine Learning*, le modèle latent n’est nécessaire que pour classifier\n",
        "    dans la bonne catégorie les observations\n",
        "\n",
        "L’estimation des paramètres $\\beta$ peut se faire par maximum de vraisemblance\n",
        "ou par régression, les deux solutions sont équivalentes sous certaines\n",
        "hypothèses."
      ],
      "id": "6fc07ed4-f455-4ddf-8e1b-f83f9a64bf3a"
    },
    {
      "cell_type": "markdown",
      "metadata": {},
      "source": [
        "<div class=\"alert alert-info\" role=\"alert\">\n",
        "<h3 class=\"alert-heading\"><i class=\"fa-solid fa-comment\"></i> Note</h3>\n",
        "\n",
        "Par défaut, `scikit` applique une régularisation pour pénaliser les modèles\n",
        "peu parcimonieux (comportement différent\n",
        "de celui de `statsmodels`). Ce comportement par défaut est à garder à l’esprit\n",
        "si l’objectif n’est pas de faire de la prédiction.\n",
        "\n",
        "</div>"
      ],
      "id": "362f42df-ccc0-4fc7-8029-5b898ddc2cfa"
    },
    {
      "cell_type": "code",
      "execution_count": 16,
      "metadata": {},
      "outputs": [],
      "source": [
        "# packages utiles\n",
        "from sklearn.linear_model import LogisticRegression\n",
        "import sklearn.metrics"
      ],
      "id": "48ded399-86b6-45f4-86b0-053e1a4398f9"
    },
    {
      "cell_type": "markdown",
      "metadata": {},
      "source": [
        "<div class=\"alert alert-success\" role=\"alert\">\n",
        "<h3 class=\"alert-heading\"><i class=\"fa-solid fa-pencil\"></i> Exercice 2a : Régression logistique avec scikit</h3>\n",
        "\n",
        "Avec `scikit`, en utilisant échantillons d’apprentissage et d’estimation :\n",
        "\n",
        "1.  Evaluer l’effet des variables déjà utilisées sur la probabilité des Républicains\n",
        "    de gagner. Affichez la valeur des coefficients.\n",
        "2.  Déduire une matrice de confusion et\n",
        "    une mesure de qualité du modèle.\n",
        "3.  Supprimer la régularisation grâce au paramètre `penalty`. Quel effet sur les paramètres estimés ?\n",
        "\n",
        "</div>"
      ],
      "id": "543e5d9b-a250-4546-9897-bb31699d52da"
    },
    {
      "cell_type": "code",
      "execution_count": 17,
      "metadata": {},
      "outputs": [
        {
          "output_type": "stream",
          "name": "stdout",
          "text": [
            "[-14.67252666] [[14.97958856 -0.09357842 -0.0688799  -0.10031329  1.04836814]]"
          ]
        },
        {
          "output_type": "stream",
          "name": "stderr",
          "text": [
            "/tmp/ipykernel_401/801491256.py:5: SettingWithCopyWarning:\n",
            "\n",
            "\n",
            "A value is trying to be set on a copy of a slice from a DataFrame.\n",
            "Try using .loc[row_indexer,col_indexer] = value instead\n",
            "\n",
            "See the caveats in the documentation: https://pandas.pydata.org/pandas-docs/stable/user_guide/indexing.html#returning-a-view-versus-a-copy\n",
            "\n",
            "/tmp/ipykernel_401/801491256.py:6: FutureWarning:\n",
            "\n",
            "In a future version of pandas all arguments of DataFrame.any and Series.any will be keyword-only.\n"
          ]
        }
      ],
      "source": [
        "#1. Modèle logit avec les mêmes variables que précédemment\n",
        "xvars = ['Unemployment_rate_2019', 'Median_Household_Income_2019', 'Percent of adults with less than a high school diploma, 2015-19', \"Percent of adults with a bachelor's degree or higher, 2015-19\"]\n",
        "\n",
        "df2 = votes[[\"per_gop\"] + xvars]\n",
        "df2['log_income'] = np.log(df2[\"Median_Household_Income_2019\"])\n",
        "indices_to_keep = ~df2.isin([np.nan, np.inf, -np.inf]).any(1)\n",
        "df2 = df2[indices_to_keep].astype(np.float64)\n",
        "\n",
        "df2['y'] = (df2['per_gop']>0.5).astype(int)\n",
        "\n",
        "X_train, X_test, y_train, y_test = train_test_split(\n",
        "    df2.drop([\"Median_Household_Income_2019\",\"y\"], axis = 1),\n",
        "    1*df2[['y']].values.ravel(), test_size=0.2, random_state=0\n",
        ")\n",
        "\n",
        "clf = LogisticRegression().fit(X_train, y_train)\n",
        "y_pred = clf.predict(X_test)\n",
        "#y_pred[:10]\n",
        "print(clf.intercept_, clf.coef_)\n",
        "# Lino : KA a fait un début de corrigé rapidos : à vérifier"
      ],
      "id": "161eca61-300f-4445-ae0d-0f1bbe254ab2"
    },
    {
      "cell_type": "code",
      "execution_count": 18,
      "metadata": {},
      "outputs": [
        {
          "output_type": "stream",
          "name": "stderr",
          "text": [
            "/miniconda/envs/python-ENSAE/lib/python3.9/site-packages/sklearn/utils/deprecation.py:87: FutureWarning:\n",
            "\n",
            "Function plot_confusion_matrix is deprecated; Function `plot_confusion_matrix` is deprecated in 1.0 and will be removed in 1.2. Use one of the class methods: ConfusionMatrixDisplay.from_predictions or ConfusionMatrixDisplay.from_estimator.\n"
          ]
        },
        {
          "output_type": "display_data",
          "metadata": {},
          "data": {
            "image/png": "[encoded data removed]"
          }
        }
      ],
      "source": [
        "# 2. Matrice de confusion\n",
        "sklearn.metrics.plot_confusion_matrix(clf, X_test, y_test)\n",
        "\n",
        "sc_accuracy = sklearn.metrics.accuracy_score(y_pred, y_test)\n",
        "sc_f1 = sklearn.metrics.f1_score(y_pred, y_test)\n",
        "sc_recall = sklearn.metrics.recall_score(y_pred, y_test)\n",
        "sc_precision = sklearn.metrics.precision_score(y_pred, y_test)\n",
        "\n",
        "#print(sc_accuracy)\n",
        "#print(sc_f1)\n",
        "#print(sc_recall)\n",
        "#print(sc_precision)\n",
        "\n",
        "# Lino : KA a fait un début de corrigé rapidos : à vérifier"
      ],
      "id": "c1e18879-7aef-483a-84ba-71c46f20a705"
    },
    {
      "cell_type": "code",
      "execution_count": 19,
      "metadata": {},
      "outputs": [
        {
          "output_type": "stream",
          "name": "stdout",
          "text": [
            "[-8314.39023385] [[1.59474261e+04 7.09594046e+00 1.67680423e+00 2.46449627e-02\n",
            "  2.54864432e+01]]"
          ]
        }
      ],
      "source": [
        "#3. Supprimer la régularisation\n",
        "clf2 = LogisticRegression(penalty='none').fit(X_train, y_train)\n",
        "y_pred2 = clf.predict(X_test)\n",
        "print(clf2.intercept_, clf2.coef_)\n",
        "# Les coefficients sont complètement différents\n",
        "\n",
        "# Lino : KA a fait un début de corrigé rapidos : à vérifier"
      ],
      "id": "e92ae142-3758-484f-b9e0-6af7d602f57e"
    },
    {
      "cell_type": "code",
      "execution_count": 20,
      "metadata": {},
      "outputs": [],
      "source": [
        "# packages utiles\n",
        "from scipy import stats"
      ],
      "id": "8d368b55-1894-43e5-bd73-dab1e84084ef"
    },
    {
      "cell_type": "markdown",
      "metadata": {},
      "source": [
        "<div class=\"alert alert-success\" role=\"alert\">\n",
        "<h3 class=\"alert-heading\"><i class=\"fa-solid fa-pencil\"></i> Exercice 2b : Régression logistique avec statmodels</h3>\n",
        "\n",
        "En utilisant échantillons d’apprentissage et d’estimation :\n",
        "\n",
        "1.  Evaluer l’effet des variables déjà utilisées sur la probabilité des Républicains\n",
        "    de gagner.\n",
        "2.  Faire un test de ratio de vraisemblance concernant l’inclusion de la variable de (log)-revenu.\n",
        "\n",
        "``` python\n",
        "#1. Modèle logit avec les mêmes variables que précédemment\n",
        "xvars = [\n",
        "  'Unemployment_rate_2019', 'Median_Household_Income_2019',\n",
        "  'Percent of adults with less than a high school diploma, 2015-19',\n",
        "  \"Percent of adults with a bachelor's degree or higher, 2015-19\"]\n",
        "\n",
        "df2 = votes[[\"per_gop\"] + xvars]\n",
        "df2['log_income'] = np.log(df2[\"Median_Household_Income_2019\"])\n",
        "indices_to_keep = ~df2.isin([np.nan, np.inf, -np.inf]).any(1)\n",
        "df2 = df2[indices_to_keep].astype(np.float64)\n",
        "\n",
        "df2['y'] = (df2['per_gop']>0.5).astype(int)\n",
        "\n",
        "mylogit = smf.logit(\n",
        "  formula = 'y ~ Unemployment_rate_2019 + I(Unemployment_rate_2019**2) + np.log(Median_Household_Income_2019)',\n",
        "  data=df2[df2['Median_Household_Income_2019']>0]).fit()\n",
        "print(mylogit.summary())\n",
        "```\n",
        "\n",
        "    Optimization terminated successfully.\n",
        "             Current function value: 0.452194\n",
        "             Iterations 6\n",
        "                               Logit Regression Results                           \n",
        "    ==============================================================================\n",
        "    Dep. Variable:                      y   No. Observations:                 3107\n",
        "    Model:                          Logit   Df Residuals:                     3103\n",
        "    Method:                           MLE   Df Model:                            3\n",
        "    Date:                Mon, 07 Nov 2022   Pseudo R-squ.:                 0.04442\n",
        "    Time:                        14:39:06   Log-Likelihood:                -1405.0\n",
        "    converged:                       True   LL-Null:                       -1470.3\n",
        "    Covariance Type:            nonrobust   LLR p-value:                 3.977e-28\n",
        "    ========================================================================================================\n",
        "                                               coef    std err          z      P>|z|      [0.025      0.975]\n",
        "    --------------------------------------------------------------------------------------------------------\n",
        "    Intercept                               28.5676      2.577     11.086      0.000      23.517      33.618\n",
        "    Unemployment_rate_2019                  -0.2738      0.110     -2.488      0.013      -0.490      -0.058\n",
        "    I(Unemployment_rate_2019 ** 2)          -0.0019      0.009     -0.207      0.836      -0.020       0.016\n",
        "    np.log(Median_Household_Income_2019)    -2.3735      0.223    -10.648      0.000      -2.810      -1.937\n",
        "    ========================================================================================================\n",
        "\n",
        "    /tmp/ipykernel_401/1243337169.py:8: SettingWithCopyWarning:\n",
        "\n",
        "\n",
        "    A value is trying to be set on a copy of a slice from a DataFrame.\n",
        "    Try using .loc[row_indexer,col_indexer] = value instead\n",
        "\n",
        "    See the caveats in the documentation: https://pandas.pydata.org/pandas-docs/stable/user_guide/indexing.html#returning-a-view-versus-a-copy\n",
        "\n",
        "    /tmp/ipykernel_401/1243337169.py:9: FutureWarning:\n",
        "\n",
        "    In a future version of pandas all arguments of DataFrame.any and Series.any will be keyword-only.\n",
        "\n",
        "``` python\n",
        "#2. Faire un test de ratio de vraisemblance \n",
        "logit_h0 = smf.logit(\n",
        "  formula = 'y ~ Unemployment_rate_2019 + I(Unemployment_rate_2019**2)',\n",
        "  data=df2[df2['Median_Household_Income_2019']>0]).fit()\n",
        "# print(logit_h0.summary())\n",
        "\n",
        "lr = -2*(mylogit.llf - logit_h0.llf)\n",
        "lrdf = (logit_h0.df_resid - mylogit.df_resid)\n",
        "\n",
        "lr_pvalue = stats.chi2.sf(lr, df=lrdf)\n",
        "#print(lr_pvalue)\n",
        "\n",
        "# La pvalue du test de maximum de ratio\n",
        "# de vraisemblance étant proche de  1,\n",
        "# cela signifie que la variable log revenu ajoute,\n",
        "# presque à coup sûr, de l'information au modèle. \n",
        "```\n",
        "\n",
        "    Optimization terminated successfully.\n",
        "             Current function value: 0.470844\n",
        "             Iterations 5\n",
        "\n",
        "</div>"
      ],
      "id": "c980493b-8acd-425c-b14c-8c6ed708c116"
    },
    {
      "cell_type": "markdown",
      "metadata": {},
      "source": [
        "<div class=\"alert alert-warning\" role=\"alert\">\n",
        "<h3 class=\"alert-heading\"><i class=\"fa-solid fa-lightbulb\"></i> Hint</h3>\n",
        "\n",
        "La statistique du test est:\n",
        "\n",
        "$$\n",
        "LR = -2\\log\\bigg(\\frac{\\mathcal{L}_{\\theta}}{\\mathcal{L}_{\\theta_0}}\\bigg) = -2(\\mathcal{l}_{\\theta} - \\mathcal{l}_{\\theta_0})\n",
        "$$\n",
        "\n",
        "</div>"
      ],
      "id": "9a7d097b-2b70-43c7-b158-ef1230d53e18"
    },
    {
      "cell_type": "raw",
      "metadata": {
        "raw_mimetype": "text/html"
      },
      "source": [
        "<!-- ## Modèles linéaires généralisés -->"
      ],
      "id": "73f7fe8f-8a03-48bb-a25c-b28502756339"
    },
    {
      "cell_type": "raw",
      "metadata": {
        "raw_mimetype": "text/html"
      },
      "source": [
        "<!-- TO BE COMPLETED -->"
      ],
      "id": "d0d5059b-a391-4eb0-b699-a8c8351612a6"
    },
    {
      "cell_type": "raw",
      "metadata": {
        "raw_mimetype": "text/html"
      },
      "source": [
        "<!-- ## Autres modèles de Machine Learning -->"
      ],
      "id": "d75a5179-ce71-4fb4-8e54-e1f7eb387be5"
    },
    {
      "cell_type": "raw",
      "metadata": {
        "raw_mimetype": "text/html"
      },
      "source": [
        "<!-- TO BE COMPLETED -->"
      ],
      "id": "5b568c2e-da5a-459a-9a1c-96a7cd10342b"
    },
    {
      "cell_type": "raw",
      "metadata": {
        "raw_mimetype": "text/html"
      },
      "source": [
        "<!-- ## Tests d'hypothèses -->"
      ],
      "id": "852b507f-98f4-4b8a-bbc0-7c2849a5d372"
    }
  ],
  "nbformat": 4,
  "nbformat_minor": 5,
  "metadata": {
    "kernelspec": {
      "name": "python3",
      "display_name": "Python 3 (ipykernel)",
      "language": "python"
    },
    "language_info": {
      "name": "python",
      "codemirror_mode": {
        "name": "ipython",
        "version": "3"
      },
      "file_extension": ".py",
      "mimetype": "text/x-python",
      "nbconvert_exporter": "python",
      "pygments_lexer": "ipython3",
      "version": "3.9.13"
    }
  }
}