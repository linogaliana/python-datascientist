{
 "cells": [
  {
   "cell_type": "markdown",
   "id": "eb29a0b6",
   "metadata": {},
   "source": [
    "#  Evaluer la qualité dun modèle\n",
    "\n"
   ]
  },
  {
   "cell_type": "markdown",
   "id": "a6b7a7e1",
   "metadata": {},
   "source": [
    "<a href=\"https://github.com/linogaliana/python-datascientist/blob/master//__w/python-datascientist/python-datascientist/notebooks/course/modelisation/1_modelevaluation.ipynb\" class=\"github\"><i class=\"fab fa-github\"></i></a>\n",
    "[![Download](https://img.shields.io/badge/Download-Notebook-important?logo=Jupyter)](https://downgit.github.io/#/home?url=https://github.com/linogaliana/python-datascientist/blob/master//__w/python-datascientist/python-datascientist/notebooks/course/modelisation/1_modelevaluation.ipynb)\n",
    "[![nbviewer](https://img.shields.io/badge/Visualize-nbviewer-blue?logo=Jupyter)](https://nbviewer.jupyter.org/github/linogaliana/python-datascientist/blob/master//__w/python-datascientist/python-datascientist/notebooks/course/modelisation/1_modelevaluation.ipynb)\n",
    "[![Onyxia](https://img.shields.io/badge/SSPcloud-Tester%20via%20SSP--cloud-informational&color=yellow?logo=Python)](https://datalab.sspcloud.fr/launcher/inseefrlab-helm-charts-datascience/jupyter?autoLaunch=true&onyxia.friendlyName=%C2%ABpython-datascience%C2%BB&init.personalInit=%C2%ABhttps%3A%2F%2Fraw.githubusercontent.com%2Flinogaliana%2Fpython-datascientist%2Fmaster%2Fsspcloud%2Finit-jupyter.sh%C2%BB&init.personalInitArgs=%C2%ABmodelisation%201_modelevaluation%C2%BB&security.allowlist.enabled=false)\n",
    "<br>\n",
    "[![Binder](https://img.shields.io/badge/Launch-Binder-E66581.svg?logo=data:image/png;base64,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)](https://mybinder.org/v2/gh/linogaliana/python-datascientist/master?filepath=/__w/python-datascientist/python-datascientist/notebooks/course/modelisation/1_modelevaluation.ipynb)\n",
    "[![Open In Colab](https://colab.research.google.com/assets/colab-badge.svg)](http://colab.research.google.com/github/linogaliana/python-datascientist/blob/master//__w/python-datascientist/python-datascientist/notebooks/course/modelisation/1_modelevaluation.ipynb)\n",
    "[![githubdev](https://open.vscode.dev/badges/open-in-vscode.svg)](https://github.dev/linogaliana/python-datascientist//__w/python-datascientist/python-datascientist/notebooks/course/modelisation/1_modelevaluation.ipynb)\n",
    "\n",
    "Pour illustrer le travail de données nécessaire pour construire un modèle de\n",
    "Machine Learning, mais aussi nécessaire pour l'exploration de données avant de\n",
    "faire une régression linéaire, nous allons partir du même jeu de données que précédemment,\n",
    "c'est-à-dire les résultats des élections US 2020 présentés dans l'[introduction\n",
    "de cette partie](https://linogaliana-teaching.netlify.app/modelisation/): les données de vote aux élections présidentielles US\n",
    "croisées à des variables socio-démographiques.\n",
    "Le code \n",
    "est disponible [sur Github](https://github.com/linogaliana/python-datascientist/blob/master/content/course/modelisation/get_data.py)\n",
    "\n",
    "\n"
   ]
  },
  {
   "cell_type": "markdown",
   "id": "a9d6d2cf",
   "metadata": {},
   "source": [
    "## Découper l'échantillon\n",
    "\n",
    "Le chapitre précédent présentait le pipeline simple ci-dessous\n",
    "pour introduire à la notion d'entraînement d'un modèle:"
   ]
  },
  {
   "cell_type": "markdown",
   "id": "703ed9ec",
   "metadata": {},
   "source": [
    "Ce *pipeline* fait abstraction d'hypothèses à faire sur des paramètres\n",
    "exogènes à l'estimation mais qui affectent la performance de la prédiction.\n",
    "Par exemple, de nombreux modèles proposent une pénalisation des modèles\n",
    "non parcimonieux pour éviter le sur-apprentissage. Le choix de la pénalisation\n",
    "idéale dépend de la structure des données et n'est jamais connue, *ex-ante*\n",
    "par le modélisateur. Faut-il pénaliser fortement ou non le modèle ? En l'absence\n",
    "d'argument théorique, on aura tendance à tester plusieurs paramètres de\n",
    "pénalisation et choisir celui qui permet la meilleure prédiction.\n",
    "\n",
    "La notion de validation croisée permettra de généraliser cette approche. Ces paramètres\n",
    "qui affectent la prédiction seront pas la suite appelés des\n",
    "**hyperparamètres**. Comme nous allons le voir, nous allons aboutir à un \n",
    "raffinement de l'approche pour obtenir un *pipeline* ayant plutôt cet aspect:"
   ]
  },
  {
   "cell_type": "markdown",
   "id": "ec75834e",
   "metadata": {},
   "source": [
    "### Le problème du sur-apprentissage\n",
    "\n",
    "Le but du *Machine Learning* est de calibrer l’algorithme sur des exemples\n",
    "connus (données labellisées) afin de généraliser à des\n",
    "exemples nouveaux (éventuellement non labellisés). On vise donc de bonnes qualités\n",
    "prédictives et non un ajustement parfait\n",
    "aux données historiques.\n",
    "\n",
    "Il existe un arbitrage biais-variance dans la qualité d'estimation[^1]. Soit $h(X,\\theta)$ un modèle statistique. On \n",
    "peut décomposer l'erreur d'estimation en deux parties :\n",
    "\n",
    "$$\n",
    "\\mathbb{E}\\bigg[(y - h(\\theta,X))^2 \\bigg] = \\underbrace{ \\bigg( y - \\mathbb{E}(h_\\theta(X)) \\bigg)^2}_{\\text{biais}^2} + \\underbrace{\\mathbb{V}\\big(h(\\theta,X)\\big)}_{\\text{variance}}\n",
    "$$\n",
    "\n",
    "Il y a ainsi un compromis à faire entre biais et variance. Un modèle peu parcimonieux, c'est-à-dire proposant un grand nombre de paramètres, va, en général, avoir un faible biais mais une grande variance. En effet, le modèle va tendre à se souvenir d'une combinaison de paramètres à partir d'un grand nombre d'exemples sans être capable d'apprendre la règle qui permette de structurer les données. \n",
    "\n",
    "[^1] Cette formule permet de bien comprendre la théorie statistique asymptotique, notamment le théorème de Cramer-Rao. Dans la classe des estimateurs sans biais, c'est-à-dire dont le premier terme est nul, trouver l'estimateur à variance minimale revient à trouver l'estimateur qui minimise $\\mathbb{E}\\bigg[(y - h_\\theta(X))^2 \\bigg]$. C'est la définition même de la régression, ce qui, quand on fait des hypothèses supplémentaires sur le modèle statistique, explique le théorème de Cramer-Rao."
   ]
  },
  {
   "cell_type": "markdown",
   "id": "22bd0c42",
   "metadata": {},
   "source": [
    "Par exemple, la ligne verte ci-dessous est trop dépendante des données et risque de produire une erreur plus importante que la ligne noire (qui moyennise plus) sur de nouvelles données. "
   ]
  },
  {
   "cell_type": "markdown",
   "id": "6cf7fb61",
   "metadata": {},
   "source": [
    "![](https://upload.wikimedia.org/wikipedia/commons/thumb/1/19/Overfitting.svg/300px-Overfitting.svg.png)"
   ]
  },
  {
   "cell_type": "markdown",
   "id": "6aa368e9",
   "metadata": {},
   "source": [
    "Pour renforcer la validité externe d'un modèle, il est ainsi commun, en *Machine Learning*:\n",
    "\n",
    "1. d'estimer un modèle sur un jeu de données (jeu d'apprentissage ou *training set*) mais d'évaluer la performance, et donc la pertinence, du modèle sur d'autres données (jeu de validation, de test ou *testing set*) ;\n",
    "2. avoir des mesures de performances qui pénalisent fortement les modèles peu parcimonieux (BIC) ou conduire une première phase de sélection de variable (par des méthodes de LASSO...)"
   ]
  },
  {
   "cell_type": "markdown",
   "id": "f1d0033f",
   "metadata": {},
   "source": [
    "Pour décomposer un modèle en jeu d'estimation et de test, la meilleure méthode est d'utiliser les fonctionnalités de `scikit` de la manière suivante : \n"
   ]
  },
  {
   "cell_type": "code",
   "execution_count": null,
   "id": "82a42e9d",
   "metadata": {},
   "outputs": [],
   "source": [
    "from sklearn.model_selection import train_test_split\n",
    "xTrain, xTest, yTrain, yTest = train_test_split(x, y,\n",
    "test_size = 0.2, random_state = 0)"
   ]
  },
  {
   "cell_type": "markdown",
   "id": "b6d93e59",
   "metadata": {},
   "source": [
    "La proportion d'observations dans le jeu de test est contrôlée par l'argument `test_size`. La proportion optimale n'existe pas ; la règle du pouce habituelle est d'assigner aléatoirement 20 % des observations dans l'échantillon de test pour garder suffisamment d'observations dans l'échantillon d'estimation. "
   ]
  },
  {
   "cell_type": "markdown",
   "id": "905c8a31",
   "metadata": {},
   "source": [
    "Lorsqu'on travaille avec des séries temporelles, l'échantillonnage aléatoire des observations n'a pas vraiment de sens. Il vaut mieux tester la qualité de l'observation sur des périodes distinguées. \n",
    "\n",
    "Avec des données multi-niveaux, comme c'est le cas de données géographiques ou de données individuelles avec des variables de classe, il peut être intéressant d'utiliser un échantillonnage stratifié. Cela permet de garder une proportion équivalente de chaque groupe dans les deux jeux de données de test ou d'apprentissage. Ce type d'échantillonnage stratifié est également possible avec `scikit`.\n",
    "\n",
    "L'[exercice sur les SVM](https://linogaliana-teaching.netlify.app/svm/) illustre cette construction et la manière\n",
    "dont elle facilite l'évaluation de la qualité d'un modèle.\n",
    "\n",
    "### Validation croisée\n",
    "\n",
    "Certains algorithmes font intervenir des hyperparamètres, c'est-à-dire des paramètres exogènes qui déterminent la prédiction mais ne sont pas estimés. La validation croisée est une méthode permettant de choisir la valeur du paramètre qui optimise la qualité de la prédiction en agrégeant des scores de performance sur des découpages différents de l'échantillon d'apprentissage.\n",
    "La validation croisée permet d'évaluer les performances de modèles différents (SVM, random forest, etc.) ou, couplé à une stratégie de *grid search* de trouver les valeurs des hyperparamètres qui aboutissent à la meilleure prédiction.\n",
    "\n",
    "L'étape de découpage de l'échantillon de validation croisée est à distinguer de l'étape `split_sample_test`. A ce stade, on a déjà partitionné les données en échantillon d'apprentissage et test. C'est l'échantillon d'apprentissage qu'on découpe en sous-morceaux. \n",
    "\n",
    "La méthode la plus commune est la validation croisée k-fold. On partitionne les données en *K* morceaux et on considère chaque pli, tour à tour, comme un échantillon\n",
    "de test en apprenant sur les *K-1* échantillons restants. Les *K* indicateurs ainsi calculés sur les *K* échantillons de test peuvent être moyennés et\n",
    "comparés pour plusieurs valeurs des hyperparamètres.\n",
    "\n",
    "![](https://scikit-learn.org/stable/_images/grid_search_cross_validation.png)\n",
    "\n",
    "Il existe d'autres types de validation croisée, notamment la *leave one out* qui consiste à considérer une fois\n",
    "exactement chaque observation comme l’échantillon de test (une *n-fold cross validation*).\n",
    "\n",
    "## Mesurer la performance\n",
    "\n",
    "Jusqu'à présent, nous avons passé sous silence la question du support de $y$. En pratique, celui-ci va néanmoins déterminer deux questions cruciales : la méthode et l'indicateur de performance.\n",
    "\n",
    "En apprentissage supervisé, on distingue en général les problèmes de:\n",
    "\n",
    "* Classification : la variable $y$ est discrète\n",
    "* Régression : la variable $y$ est continue\n",
    "\n",
    "Les deux approches ne sont pas sans lien. On peut par exemple voir le modèle économétrique de choix d'offre de travail comme un problème de classification (participation ou non au marché du travail) ou de régression (régression sur un modèle à variable latente)\n",
    "\n",
    "### Classification\n",
    "\n",
    "La plupart des critères de performance sont construits à partir de la **matrice de confusion**:\n",
    "\n",
    "![Image empruntée à https://www.lebigdata.fr/confusion-matrix-definition](https://www.lebigdata.fr/wp-content/uploads/2018/12/confusion-matrix-exemple-768x432.jpg?ezimgfmt=ng:webp/ngcb1)\n",
    "\n",
    "A partir des 4 coins de cette matrice, il existe plusieurs mesure de performance\n",
    "\n",
    "| Critère     | Mesure       |  Calcul |\n",
    "|-------------|--------------|------------------|\n",
    "| *Accuracy*  | Taux de classification correcte | Diagonale du tableau: $\\frac{TP+TN}{TP+FP+FN+FP}$ |\n",
    "| *Precision* | Taux de vrais positifs  |Ligne des prédictions positives: $\\frac{TP}{TP+FP}$ |\n",
    "| *Recall* (rappel)   | Capacité à identifier les labels positifs | Colonne des prédictions positives: $\\frac{TP}{TP+FN}$ |\n",
    "| *F1 Score*  | Mesure synthétique (moyenne harmonique) de la précision et du rappel | $2 \\frac{precision \\times recall}{precision + recall}$  |\n",
    "\n",
    "En présence de classes désequilibrées, la\n",
    "F-mesure est plus pertinente pour évaluer les\n",
    "performances mais l’apprentissage restera\n",
    "mauvais si l’algorithme est sensible à ce\n",
    "problème. Notamment, si on désire avoir une performance équivalente sur les classes minoritaires, il faut généralement les sur-pondérer (ou faire un échantillonnage stratifié) lors de la constitution de l'échantillon d'observation.\n",
    "\n",
    "Il est possible de construire des modèles à partir des probabilités prédites d'appartenir à la classe d'intérêt. Pour cela, on fixe un seuil $c$ tel que\n",
    "\n",
    "$$\n",
    "\\mathbb{P}(y_i=1|X_i) > c \\Rightarrow \\widehat{y}_i = 1 \n",
    "$$\n",
    "\n",
    "Plus on augmente $c$, plus on est sélectif sur le critère d'appartenance à la classe. Le rappel, i.e. le taux de faux négatifs, diminue. Mais on augmente le nombre de positifs manqués. Pour chaque valeur de $c$ correspond une matrice de confusion et donc des mesures de performances. La **courbe ROC** est un outil classique pour représenter en un graphique l’ensemble de ces\n",
    "informations en faisant varier $c$ de 0 à 1\n",
    "\n",
    "![](https://glassboxmedicine.files.wordpress.com/2019/02/roc-curve-v2.png?w=576)\n",
    "\n",
    "L'aire sous la courbe (**AUC**) permet d'évaluer quantitativement le meilleur modèle au\n",
    "sens de ce critère. L'AUC représente la probabilité que le modèle soit capable de distinguer entre la classe positive et négative. \n",
    "\n",
    "### Régression\n",
    "\n",
    "En Machine Learning, les indicateurs de performance en régression sont les suivants:\n",
    "\n",
    "| Nom | Formule |\n",
    "|-----|---------|\n",
    "| Mean squared error | $MSE = \\mathbb{E}\\left[(y - h_\\theta(X))^2\\right]$ |\n",
    "| Root Mean squared error | $RMSE = \\sqrt{\\mathbb{E}\\left[(y - h_\\theta(X))^2\\right]}$ |\n",
    "| Mean Absolute Error | $MAE = \\mathbb{E}\\left[ |y - h_\\theta(X)| \\right]$ |\n",
    "| Mean Absolute Percentage Error | $MAE = \\mathbb{E}\\left[\\left|\\frac{y - h_\\theta(X)}{y}\\right|\\right]$ |\n",
    "\n",
    "L'économètre se focalise moins sur la qualité de la prédiction et utilisera \n",
    "d'autres critères pour évaluer la qualité d'un modèle (certains, comme le BIC, sont\n",
    "à regarder aussi dans une optique *Machine Learning*): $R^2$, $BIC$,\n",
    "$AIC$, *log-likelihood*, etc. "
   ]
  }
 ],
 "metadata": {
  "kernelspec": {
   "display_name": "Python 3",
   "language": "python",
   "name": "python3"
  }
 },
 "nbformat": 4,
 "nbformat_minor": 5
}
