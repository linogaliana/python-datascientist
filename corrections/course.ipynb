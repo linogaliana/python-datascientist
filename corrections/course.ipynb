{
  "cells": [
    {
      "cell_type": "markdown",
      "metadata": {},
      "source": [
        "# Contenu du cours"
      ],
      "id": "56c74d17-0130-423d-a8b3-7aa188787ba0"
    }
  ],
  "nbformat": 4,
  "nbformat_minor": 5,
  "metadata": {
    "kernelspec": {
      "display_name": "Python 3",
      "language": "python",
      "name": "python3"
    }
  }
}