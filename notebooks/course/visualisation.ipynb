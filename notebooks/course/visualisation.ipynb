{
  "cells": [
    {
      "cell_type": "markdown",
      "metadata": {},
      "source": [
        "# Partie 2: visualiser les données\n",
        "\n",
        "L’écosystème `Python` pour la valorisation de données est très riche. Il est\n",
        "possible de consacrer des livres entiers à celui-ci.\n",
        "Dans le domaine de la visualisation, le parti pris est d’explorer quelques\n",
        "librairies centrales à partir d’un nombre restreint d’exemples en\n",
        "répliquant des graphiques qu’on peut trouver sur le site d’*open data* de la\n",
        "mairie de Paris.\n",
        "\n",
        "Seront principalement évoqués, dans la première partie :\n",
        "\n",
        "-   la représentation graphique fixe avec les librairies `matplotlib` et `seaborn`\n",
        "-   les graphiques réactifs avec `plotly`\n",
        "-   les cartes fixes avec `geopandas` ou `geoplot`\n",
        "-   les cartes réactives avec `folium`\n",
        "\n",
        "Des éléments supplémentaires pour produire de belles\n",
        "valorisations de données seront progressivement\n",
        "ajoutés à cette partie, notamment `observableHQ`.\n",
        "\n",
        "{{< list_children >}}"
      ],
<<<<<<< HEAD
      "id": "a5fe9ac7-471c-4b49-9110-a5d09ea5cb9b"
=======
      "id": "ee8a38d4-ed98-4346-83e2-5d4d015f5999"
>>>>>>> 26b943238c33c77c8be1f6c2ca3a137d34fb6093
    }
  ],
  "nbformat": 4,
  "nbformat_minor": 5,
  "metadata": {
    "kernelspec": {
      "display_name": "Python 3",
      "language": "python",
      "name": "python3"
    }
  }
}