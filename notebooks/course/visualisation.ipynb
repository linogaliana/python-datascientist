{
  "cells": [
    {
      "cell_type": "markdown",
      "metadata": {},
      "source": [
        "# Partie 2: visualiser les données\n",
        "\n",
        "L’écosystème `Python` pour la visualisation de données est très riche. Il est\n",
        "possible de consacrer des livres entiers à celui-ci.\n",
        "Dans le domaine de la visualisation, le parti pris est d’explorer quelques\n",
        "librairies centrales à partir d’un nombre restreint d’exemples en\n",
        "répliquant des graphiques qu’on peut trouver sur le site d’*open data* de la\n",
        "mairie de Paris.\n",
        "\n",
        "Seront principalement évoqués, dans la première partie :\n",
        "\n",
        "-   la représentation graphique fixe avec les librairies `matplotlib` et `seaborn`\n",
        "-   les graphiques réactifs avec `plotly`\n",
        "\n",
        "{{\\< list_children \\>}}"
      ],
      "id": "2b9b6b44-78c8-4b1d-9c10-c753d13ae09a"
    }
  ],
  "nbformat": 4,
  "nbformat_minor": 5,
  "metadata": {
    "kernelspec": {
      "display_name": "Python 3",
      "language": "python",
      "name": "python3"
    }
  }
}