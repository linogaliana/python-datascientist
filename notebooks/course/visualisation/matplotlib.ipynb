{
 "cells": [
  {
   "cell_type": "markdown",
   "id": "ce861780",
   "metadata": {},
   "source": [
    "#  De beaux graphiques avec python: mise en pratique\n",
    "\n"
   ]
  },
  {
   "cell_type": "markdown",
   "id": "b3da7138",
   "metadata": {},
   "source": [
    "<a href=\"https://github.com/linogaliana/python-datascientist/blob/master/notebooks/course/visualisation/matplotlib.ipynb\" class=\"github\"><i class=\"fab fa-github\"></i></a>\n",
    "[![Download](https://img.shields.io/badge/Download-Notebook-important?logo=Jupyter)](https://downgit.github.io/#/home?url=https://github.com/linogaliana/python-datascientist/blob/master/notebooks/course/visualisation/matplotlib.ipynb)\n",
    "[![nbviewer](https://img.shields.io/badge/Visualize-nbviewer-blue?logo=Jupyter)](https://nbviewer.jupyter.org/github/linogaliana/python-datascientist/blob/master/notebooks/course/visualisation/matplotlib.ipynb)\n",
    "[![Onyxia](https://img.shields.io/badge/SSPcloud-Tester%20via%20SSP--cloud-informational&color=yellow?logo=Python)](https://datalab.sspcloud.fr/launcher/inseefrlab-helm-charts-datascience/jupyter?onyxia.friendlyName=%C2%ABpython-datascientist%C2%BB&resources.requests.memory=%C2%AB4Gi%C2%BB)\n",
    "[![Binder](https://img.shields.io/badge/Launch-Binder-E66581.svg?logo=data:image/png;base64,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)](https://mybinder.org/v2/gh/linogaliana/python-datascientist/master?filepath=notebooks/course/visualisation/matplotlib.ipynb)\n",
    "[![Open In Colab](https://colab.research.google.com/assets/colab-badge.svg)](http://colab.research.google.com/github/linogaliana/python-datascientist/blob/master/notebooks/course/visualisation/matplotlib.ipynb)\n",
    "\n",
    "La pratique de la visualisation se fera, dans ce cours, en répliquant des graphiques qu'on peut trouver sur\n",
    "la page de l'*open-data* de la ville de Paris \n",
    "[ici](https://opendata.paris.fr/explore/dataset/comptage-velo-donnees-compteurs/information/?disjunctive.id_compteur&disjunctive.nom_compteur&disjunctive.id&disjunctive.name).\n",
    "\n",
    "Ce TP vise à initier:\n",
    "\n",
    "* Aux packages [matplotlib](https://matplotlib.org/) et\n",
    "[seaborn](https://seaborn.pydata.org/) pour la construction de graphiques figés\n",
    "* Au package [plotly](https://plotly.com/python/) pour les graphiques \n",
    "dynamiques, au format HTML\n",
    "\n",
    "Nous verrons par la suite la manière de construire des cartes facilement avec\n",
    "des formats équivalents.\n",
    "\n",
    "Un sous-ensemble des données de [paris open data](https://opendata.paris.fr/explore/dataset/comptage-velo-donnees-compteurs/information/?disjunctive.id_compteur&disjunctive.nom_compteur&disjunctive.id&disjunctive.name) a été mis à disposition\n",
    "sur {{< githubrepo >}} pour faciliter l'import (élimination des colonnes\n",
    "qui ne nous servirons pas mais ralentissent l'import)\n"
   ]
  },
  {
   "cell_type": "markdown",
   "id": "081a2b7d",
   "metadata": {},
   "source": [
    "## Premier graphique avec l'API `matplotlib` de `pandas`\n",
    "\n",
    "{{% panel status=\"exercise\" title=\"Exercice 1: Importer les données et produire un premier graphique\"\n",
    "icon=\"fas fa-pencil-alt\" %}}\n",
    "\n",
    "1. Importer les données de compteurs de vélos. Vous pouvez utiliser l'url <https://github.com/linogaliana/python-datascientist/raw/master/data/bike.csv>. :warning: Il s'agit de données\n",
    "compressées au format `gzip`, il faut donc utiliser l'option `compression`\n",
    "2. En premier lieu, sans se préoccuper des éléments de style ni des labels des\n",
    "graphiques, reproduire les deux premiers graphiques de la\n",
    "[page d'analyse des données](https://opendata.paris.fr/explore/dataset/comptage-velo-donnees-compteurs/dataviz/?disjunctive.id_compteur&disjunctive.nom_compteur&disjunctive.id&disjunctive.name):\n",
    "*Les 10 compteurs avec la moyenne horaire la plus élevée* et *Les 10 compteurs ayant comptabilisés le plus de vélos*."
   ]
  },
  {
   "cell_type": "markdown",
   "id": "3616993d",
   "metadata": {},
   "source": [
    "Pour obtenir un graphique ordonné du plus grand au plus petit, il faut avoir les données ordonnées du plus petit au\n",
    "plus grand. C'est bizarre mais c'est comme ça...\n",
    "\n",
    "\n",
    "\n",
    "\n",
    "\n",
    "\n",
    "\n",
    "\n",
    "\n"
   ]
  },
  {
   "cell_type": "markdown",
   "id": "04bf69cd",
   "metadata": {},
   "source": [
    "On peut remarquer plusieurs éléments problématiques (par exemple les labels) mais\n",
    "aussi des éléments ne correspondant pas (les titres des axes, etc.) ou \n",
    "manquants (le nom du graphique...)\n",
    "\n",
    "Comme les graphiques produits par `pandas` suivent la logique très flexible\n",
    "de `matplotlib`, il est possible de les customiser. Cependant, c'est\n",
    "souvent beaucoup de travail et il peut être préférable de directement\n",
    "utiliser *seaborn*, qui offre quelques arguments prêts à l'emploi"
   ]
  },
  {
   "cell_type": "markdown",
   "id": "bcdf92c0",
   "metadata": {},
   "source": [
    "## Utiliser directement `seaborn`\n",
    "\n",
    "Vous pouvez repartir des deux dataframes précédents. On va suppose qu'ils se\n",
    "nomment `df1` et `df2`. Réinitialiser l'index pour avoir une colonne \n",
    "*'Nom du compteur'*\n"
   ]
  },
  {
   "cell_type": "markdown",
   "id": "0b708a31",
   "metadata": {},
   "source": [
    "{{% panel status=\"exercise\" title=\"Exercice 2: un peu de style\"\n",
    "icon=\"fas fa-pencil-alt\" %}}\n",
    "\n",
    "Il y a plusieurs manières de faire un *bar* plot en `seaborn`. La plus flexible,\n",
    "c'est-à-dire celle qui permet le mieux d'interagir avec `matplotlib` est\n",
    "`catplot`\n",
    "\n",
    "1. Refaire le graphique précédent avec la fonction adéquate de `seaborn`. Pour\n",
    "contrôler la taille du graphique vous pouvez utiliser les arguments `height` et\n",
    "`aspect`\n",
    "2. Ajouter les titres des axes et le titre du graphique pour le premier graphique\n",
    "\n",
    "\n",
    "\n",
    "\n",
    "\n",
    "\n",
    "\n"
   ]
  },
  {
   "cell_type": "markdown",
   "id": "53ede021",
   "metadata": {},
   "source": [
    "Si vous désirez colorer en rouge l'axe des `x`, vous pouvez pré-définir un\n",
    "style avec `sns.set_style(\"ticks\", {\"xtick.color\": \"red\"})`\n",
    "\n",
    "\n"
   ]
  },
  {
   "cell_type": "markdown",
   "id": "2d06fd3b",
   "metadata": {},
   "source": [
    "{{% panel status=\"exercise\" title=\"Exercice 3: refaire les graphiques\"\n",
    "icon=\"fas fa-pencil-alt\" %}}\n",
    "\n",
    "Certaines opérations vont nécessiter un peu d'agilité dans la gestion des dates.\n",
    "Avant cela, il faut créer une variable temporelle (vous pouvez la nommer\n",
    "`datetime`) et la transformer en variable mensuelle (grâce à\n",
    "`dt.to_period('M')`). Vous pouvez essayer de le faire vous même ou cliquer\n",
    "ci-dessous pour la solution : \n"
   ]
  },
  {
   "cell_type": "code",
   "execution_count": null,
   "id": "d8528f37",
   "metadata": {
    "lines_to_next_cell": 2
   },
   "outputs": [],
   "source": [
    "df['timestamp'] = pd.to_datetime(df['Date et heure de comptage'], format='%Y-%m-%dT%H:%M:%SZ', errors='coerce').dt.to_period('M')"
   ]
  },
  {
   "cell_type": "markdown",
   "id": "151d1f21",
   "metadata": {},
   "source": [
    "1. Refaire le graphique *Les 10 compteurs ayant comptabilisés le plus de vélos *\n",
    "2. Refaire le graphique *Moyenne mensuelle des comptages vélos *. Pour cela,\n",
    "n'oubliez pas de créer la variable mensuelle. \n",
    "3. Refaire le graphique *Moyenne journalière des comptages vélos* (créer d'abord\n",
    "une variable de jour avec `.dt.day`)\n",
    "4. Refaire le graphique *Comptages vélo au cours des 7 derniers jours * (de l'échantillon)\n",
    "\n",
    "\n",
    "\n",
    "\n",
    "\n",
    "\n",
    "\n",
    "\n",
    "\n",
    "\n",
    "\n",
    "\n",
    "\n",
    "\n"
   ]
  },
  {
   "cell_type": "markdown",
   "id": "4b6cde0e",
   "metadata": {},
   "source": [
    "## Des graphiques dynamiques avec `Plotly`\n",
    "\n",
    "Le package `Plotly` est une surcouche à la librairie Javascript \n",
    "`Plotly.js` qui permet de créer et manipuler des objets graphiques de manière\n",
    "très flexible afin de produire des objets réactifs sans avoir à recourir\n",
    "à Javascript.\n",
    "\n",
    "Le point d'entrée recommandé est le module `Plotly Express`\n",
    "([documentation ici](https://plotly.com/python/plotly-express/)) qui offre une arborescence\n",
    "riche mais néanmoins intuitive pour construire des graphiques\n",
    "(objets `plotly.graph_objects.Figure`) pouvant être modifiés *a posteriori*\n",
    "si besoin (par exemple pour *customiser* les axes). \n",
    "\n",
    "### Comment visualiser un graphique `plotly` ?\n",
    "\n",
    "Dans un notebook Jupyter classique, les lignes suivantes de code permettent\n",
    "d'afficher le résultat d'une commande `Plotly` sous un bloc de code: \n"
   ]
  },
  {
   "cell_type": "code",
   "execution_count": null,
   "id": "94a6f063",
   "metadata": {},
   "outputs": [],
   "source": [
    "from plotly.offline import init_notebook_mode\n",
    "init_notebook_mode(connected = True)"
   ]
  },
  {
   "cell_type": "markdown",
   "id": "728ae496",
   "metadata": {},
   "source": [
    "Pour `JupyterLab`, l'extension `jupyterlab-plotly` s'avère nécessaire:\n"
   ]
  },
  {
   "cell_type": "code",
   "execution_count": null,
   "id": "7f03ff04",
   "metadata": {},
   "outputs": [],
   "source": [
    "jupyter labextension install jupyterlab-plotly"
   ]
  },
  {
   "cell_type": "markdown",
   "id": "8d33c784",
   "metadata": {},
   "source": [
    "Pour les utilisateurs de `python` via l'excellent package `R` `reticulate`, il\n",
    "est possible d'écrire le résultats dans un fichier `.html` et d'utiliser\n",
    "`htmltools::includeHTML` pour l'afficher via `R Markdown` (les utilisateurs\n",
    "de `R` trouveront bien-sûr une technique bien plus simple: utiliser\n",
    "directement le package `R` `plotly`...)"
   ]
  },
  {
   "cell_type": "markdown",
   "id": "456cf6f0",
   "metadata": {},
   "source": [
    "### Réplication de l'exemple précédent avec `plotly`\n",
    "\n",
    "Les modules suivants seront nécessaires pour construire des graphiques\n",
    "avec `plotly`:\n"
   ]
  },
  {
   "cell_type": "code",
   "execution_count": null,
   "id": "2eb932ae",
   "metadata": {
    "lines_to_next_cell": 2
   },
   "outputs": [],
   "source": [
    "import plotly\n",
    "import plotly.express as px"
   ]
  },
  {
   "cell_type": "markdown",
   "id": "97fc5531",
   "metadata": {},
   "source": [
    "{{% panel status=\"exercise\" title=\"Exercice 4: premier graphique avec plotly\"\n",
    "icon=\"fas fa-pencil-alt\" %}}\n",
    "L'objectif est de reconstuire le premier diagramme en barre avec `plotly`\n",
    "\n",
    "1. Utiliser la fonction adéquate avec `Plotly Express`. Ne pas prendre le\n",
    "thème par défaut mais un à fond blanc, pour avoir un résultat ressemblant\n",
    "à celui proposé sur le site de l'*open-data*. Pour la couleur rouge,\n",
    "vous pouvez utiliser l'argument `color_discrete_sequence`. \n",
    "2. Ne pas oublier de nommer les axes, et la couleur du texte de l'axe inférieur\n",
    "3. Tester un autre thème, à fond sombre. Pour les couleurs, faire un \n",
    "groupe stockant les trois plus fortes valeurs puis les autres.\n",
    "\n",
    "\n",
    "\n",
    "  \n",
    "  \n"
   ]
  },
  {
   "cell_type": "markdown",
   "id": "4370e956",
   "metadata": {},
   "source": [
    "Le résultat devrait ressembler aux deux graphiques suivants:\n",
    "\n"
   ]
  },
  {
   "cell_type": "markdown",
   "id": "77da9847",
   "metadata": {},
   "source": [
    "# Exercices supplémentaires\n",
    "\n",
    "https://plotly.com/python/v3/3d-network-graph/"
   ]
  }
 ],
 "metadata": {
  "kernelspec": {
   "display_name": "Python 3",
   "language": "python",
   "name": "python3"
  }
 },
 "nbformat": 4,
 "nbformat_minor": 5
}
