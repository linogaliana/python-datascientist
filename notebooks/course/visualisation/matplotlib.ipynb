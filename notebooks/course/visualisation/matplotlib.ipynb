{
 "cells": [
  {
   "cell_type": "markdown",
   "id": "b0e93596",
   "metadata": {},
   "source": [
    "#  De beaux graphiques avec python: mise en pratique\n",
    "\n",
    "\n"
   ]
  },
  {
   "cell_type": "markdown",
   "id": "17ef21dc",
   "metadata": {},
   "source": [
    "<a href=\"https://github.com/linogaliana/python-datascientist/blob/master/content/visualisation/notebooks/tp5.ipynb\" class=\"github\"><i class=\"fab fa-github\"></i></a>\n",
    "[![nbviewer](https://img.shields.io/badge/visualize-nbviewer-blue)](https://nbviewer.jupyter.org/github/linogaliana/python-datascientist/blob/master/content/visualisation/notebooks/tp5.ipynb)\n",
    "[![Onyxia](https://img.shields.io/badge/SSPcloud-Tester%20via%20SSP--cloud-informational&color=yellow?logo=Python)](https://datalab.sspcloud.fr/launcher/inseefrlab-helm-charts-datascience/jupyter?onyxia.friendlyName=%C2%ABpython-datascientist%C2%BB&resources.requests.memory=%C2%AB4Gi%C2%BB)\n",
    "[![Binder](https://mybinder.org/badge_logo.svg)](https://mybinder.org/v2/gh/linogaliana/python-datascientist/master?filepath=content/visualisation/notebooks/tp5.ipynb)\n",
    "[![Open In Colab](https://colab.research.google.com/assets/colab-badge.svg)](http://colab.research.google.com/github/linogaliana/python-datascientist/blob/master/content/visualisation/notebooks/tp5.ipynb)"
   ]
  },
  {
   "cell_type": "markdown",
   "id": "652d9338",
   "metadata": {},
   "source": [
    "La pratique de la visualisation se fera, dans ce cours, en répliquant des graphiques qu'on peut trouver sur\n",
    "la page de l'*open-data* de la ville de Paris \n",
    "[ici](https://opendata.paris.fr/explore/dataset/comptage-velo-donnees-compteurs/information/?disjunctive.id_compteur&disjunctive.nom_compteur&disjunctive.id&disjunctive.name).\n",
    "\n",
    "Ce TP vise à initier:\n",
    "\n",
    "* Aux packages [matplotlib](https://matplotlib.org/) et\n",
    "[seaborn](https://seaborn.pydata.org/) pour la construction de graphiques figés\n",
    "* Au package [plotly](https://plotly.com/python/) pour les graphiques \n",
    "dynamiques, au format HTML\n",
    "\n",
    "Nous verrons par la suite la manière de construire des cartes facilement avec\n",
    "des formats équivalents.\n",
    "\n",
    "Un sous-ensemble des données de [paris open data](https://opendata.paris.fr/explore/dataset/comptage-velo-donnees-compteurs/information/?disjunctive.id_compteur&disjunctive.nom_compteur&disjunctive.id&disjunctive.name) a été mis à disposition\n",
    "sur <a href=\"https://github.com/linogaliana/python-datascientist/blob/master/data/bike.csv\" class=\"github\"><i class=\"fab fa-github\"></i></a> pour faciliter l'import (élimination des colonnes\n",
    "qui ne nous servirons pas mais ralentissent l'import)\n"
   ]
  },
  {
   "cell_type": "markdown",
   "id": "71083b93",
   "metadata": {},
   "source": [
    "## Premier graphique avec l'API `matplotlib` de `pandas`\n",
    "\n",
    "{{% panel status=\"exercise\" title=\"Exercice 1: Importer les données et produire un premier graphique\"\n",
    "icon=\"fas fa-pencil-alt\" %}}\n",
    "\n",
    "1. Importer les données de compteurs de vélos. Vous pouvez utiliser l'url <https://github.com/linogaliana/python-datascientist/raw/master/data/bike.csv>. :warning: Il s'agit de données\n",
    "compressées au format `gzip`, il faut donc utiliser l'option `compression`\n",
    "2. En premier lieu, sans se préoccuper des éléments de style ni des labels des\n",
    "graphiques, reproduire les deux premiers graphiques de la\n",
    "[page d'analyse des données](https://opendata.paris.fr/explore/dataset/comptage-velo-donnees-compteurs/dataviz/?disjunctive.id_compteur&disjunctive.nom_compteur&disjunctive.id&disjunctive.name):\n",
    "*Les 10 compteurs avec la moyenne horaire la plus élevée* et *Les 10 compteurs ayant comptabilisés le plus de vélos*."
   ]
  },
  {
   "cell_type": "markdown",
   "id": "5412f6f1",
   "metadata": {},
   "source": [
    "Pour obtenir un graphique ordonné du plus grand au plus petit, il faut avoir les données ordonnées du plus petit au\n",
    "plus grand. C'est bizarre mais c'est comme ça...\n",
    "\n",
    "\n",
    "\n",
    "\n",
    "\n",
    "\n",
    "\n",
    "\n",
    "\n"
   ]
  },
  {
   "cell_type": "markdown",
   "id": "f1f08ad3",
   "metadata": {},
   "source": [
    "On peut remarquer plusieurs éléments problématiques (par exemple les labels) mais\n",
    "aussi des éléments ne correspondant pas (les titres des axes, etc.) ou \n",
    "manquants (le nom du graphique...)\n",
    "\n",
    "Comme les graphiques produits par `pandas` suivent la logique très flexible\n",
    "de `matplotlib`, il est possible de les customiser. Cependant, c'est\n",
    "souvent beaucoup de travail et il peut être préférable de directement\n",
    "utiliser *seaborn*, qui offre quelques arguments prêts à l'emploi"
   ]
  },
  {
   "cell_type": "markdown",
   "id": "5463c6d5",
   "metadata": {},
   "source": [
    "## Utiliser directement `seaborn`\n",
    "\n",
    "Vous pouvez repartir des deux dataframes précédents. On va suppose qu'ils se\n",
    "nomment `df1` et `df2`. Réinitialiser l'index pour avoir une colonne \n",
    "*'Nom du compteur'*\n"
   ]
  },
  {
   "cell_type": "markdown",
   "id": "93efd5a8",
   "metadata": {},
   "source": [
    "{{% panel status=\"exercise\" title=\"Exercice 2: un peu de style\"\n",
    "icon=\"fas fa-pencil-alt\" %}}\n",
    "\n",
    "Il y a plusieurs manières de faire un *bar* plot en `seaborn`. La plus flexible,\n",
    "c'est-à-dire celle qui permet le mieux d'interagir avec `matplotlib` est\n",
    "`catplot`\n",
    "\n",
    "1. Refaire le graphique précédent avec la fonction adéquate de `seaborn`. Pour\n",
    "contrôler la taille du graphique vous pouvez utiliser les arguments `height` et\n",
    "`aspect`\n",
    "2. Ajouter les titres des axes et le titre du graphique pour le premier graphique\n",
    "\n",
    "\n",
    "\n",
    "\n",
    "\n",
    "\n",
    "\n"
   ]
  },
  {
   "cell_type": "markdown",
   "id": "77fab9a8",
   "metadata": {},
   "source": [
    "Si vous désirez colorer en rouge l'axe des `x`, vous pouvez pré-définir un\n",
    "style avec `sns.set_style(\"ticks\", {\"xtick.color\": \"red\"})`\n",
    "\n",
    "\n"
   ]
  },
  {
   "cell_type": "markdown",
   "id": "8fcfaabf",
   "metadata": {},
   "source": [
    "{{% panel status=\"exercise\" title=\"Exercice 3: refaire les graphiques\"\n",
    "icon=\"fas fa-pencil-alt\" %}}\n",
    "\n",
    "Certaines opérations vont nécessiter un peu d'agilité dans la gestion des dates.\n",
    "Avant cela, il faut créer une variable temporelle (vous pouvez la nommer\n",
    "`datetime`) et la transformer en variable mensuelle (grâce à\n",
    "`dt.to_period('M')`). Vous pouvez essayer de le faire vous même ou cliquer\n",
    "ci-dessous pour la solution : \n"
   ]
  },
  {
   "cell_type": "code",
   "execution_count": null,
   "id": "8e166f48",
   "metadata": {
    "lines_to_next_cell": 2
   },
   "outputs": [],
   "source": [
    "df['timestamp'] = pd.to_datetime(df['Date et heure de comptage'], format='%Y-%m-%dT%H:%M:%SZ', errors='coerce').dt.to_period('M')"
   ]
  },
  {
   "cell_type": "markdown",
   "id": "d9b290d9",
   "metadata": {},
   "source": [
    "1. Refaire le graphique *Les 10 compteurs ayant comptabilisés le plus de vélos *\n",
    "2. Refaire le graphique *Moyenne mensuelle des comptages vélos *. Pour cela,\n",
    "n'oubliez pas de créer la variable mensuelle. \n",
    "3. Refaire le graphique *Moyenne journalière des comptages vélos* (créer d'abord\n",
    "une variable de jour avec `.dt.day`)\n",
    "4. Refaire le graphique *Comptages vélo au cours des 7 derniers jours * (de l'échantillon)\n",
    "\n",
    "\n",
    "\n",
    "\n",
    "\n",
    "\n",
    "\n",
    "\n",
    "\n",
    "\n",
    "\n",
    "\n",
    "\n",
    "\n"
   ]
  },
  {
   "cell_type": "markdown",
   "id": "6f1a0b4a",
   "metadata": {},
   "source": [
    "## Des graphiques dynamiques avec `Plotly`\n",
    "\n",
    "Le package `Plotly` est une surcouche à la librairie Javascript \n",
    "`Plotly.js` qui permet de créer et manipuler des objets graphiques de manière\n",
    "très flexible afin de produire des objets réactifs sans avoir à recourir\n",
    "à Javascript.\n",
    "\n",
    "Le point d'entrée recommandé est le module `Plotly Express`\n",
    "([documentation ici](https://plotly.com/python/plotly-express/)) qui offre une arborescence\n",
    "riche mais néanmoins intuitive pour construire des graphiques\n",
    "(objets `plotly.graph_objects.Figure`) pouvant être modifiés *a posteriori*\n",
    "si besoin (par exemple pour *customiser* les axes). \n",
    "\n",
    "### Comment visualiser un graphique `plotly` ?\n",
    "\n",
    "Dans un notebook Jupyter classique, les lignes suivantes de code permettent\n",
    "d'afficher le résultat d'une commande `Plotly` sous un bloc de code: \n"
   ]
  },
  {
   "cell_type": "code",
   "execution_count": null,
   "id": "77c022d7",
   "metadata": {},
   "outputs": [],
   "source": [
    "from plotly.offline import init_notebook_mode\n",
    "init_notebook_mode(connected = True)"
   ]
  },
  {
   "cell_type": "markdown",
   "id": "370e5af0",
   "metadata": {},
   "source": [
    "Pour `JupyterLab`, l'extension `jupyterlab-plotly` s'avère nécessaire:\n"
   ]
  },
  {
   "cell_type": "code",
   "execution_count": null,
   "id": "da66d8e9",
   "metadata": {},
   "outputs": [],
   "source": [
    "jupyter labextension install jupyterlab-plotly"
   ]
  },
  {
   "cell_type": "markdown",
   "id": "a73f6c51",
   "metadata": {},
   "source": [
    "Pour les utilisateurs de `python` via l'excellent package `R` `reticulate`, il\n",
    "est possible d'écrire le résultats dans un fichier `.html` et d'utiliser\n",
    "`htmltools::includeHTML` pour l'afficher via `R Markdown` (les utilisateurs\n",
    "de `R` trouveront bien-sûr une technique bien plus simple: utiliser\n",
    "directement le package `R` `plotly`...)"
   ]
  },
  {
   "cell_type": "markdown",
   "id": "bed4917d",
   "metadata": {},
   "source": [
    "### Réplication de l'exemple précédent avec `plotly`\n",
    "\n",
    "Les modules suivants seront nécessaires pour construire des graphiques\n",
    "avec `plotly`:\n"
   ]
  },
  {
   "cell_type": "code",
   "execution_count": null,
   "id": "5682c0f3",
   "metadata": {
    "lines_to_next_cell": 2
   },
   "outputs": [],
   "source": [
    "import plotly\n",
    "import plotly.express as px"
   ]
  },
  {
   "cell_type": "markdown",
   "id": "11c68da4",
   "metadata": {},
   "source": [
    "{{% panel status=\"exercise\" title=\"Exercice 4: premier graphique avec plotly\"\n",
    "icon=\"fas fa-pencil-alt\" %}}\n",
    "L'objectif est de reconstuire le premier diagramme en barre avec `plotly`\n",
    "\n",
    "1. Utiliser la fonction adéquate avec `Plotly Express`. Ne pas prendre le\n",
    "thème par défaut mais un à fond blanc, pour avoir un résultat ressemblant\n",
    "à celui proposé sur le site de l'*open-data*. Pour la couleur rouge,\n",
    "vous pouvez utiliser l'argument `color_discrete_sequence`. \n",
    "2. Ne pas oublier de nommer les axes, et la couleur du texte de l'axe inférieur\n",
    "3. Tester un autre thème, à fond sombre. Pour les couleurs, faire un \n",
    "groupe stockant les trois plus fortes valeurs puis les autres.\n",
    "\n",
    "\n",
    "\n",
    "  \n",
    "  \n"
   ]
  },
  {
   "cell_type": "markdown",
   "id": "4bed9495",
   "metadata": {},
   "source": [
    "Le résultat devrait ressembler aux deux graphiques suivants:\n",
    "\n"
   ]
  },
  {
   "cell_type": "markdown",
   "id": "57c6a6c7",
   "metadata": {},
   "source": [
    "# Exercices supplémentaires\n",
    "\n",
    "https://plotly.com/python/v3/3d-network-graph/"
   ]
  }
 ],
 "metadata": {
  "kernelspec": {
   "display_name": "Python 3",
   "language": "python",
   "name": "python3"
  }
 },
 "nbformat": 4,
 "nbformat_minor": 5
}
