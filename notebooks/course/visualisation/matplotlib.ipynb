{
 "cells": [
  {
   "cell_type": "markdown",
   "id": "ddb8e1b5",
   "metadata": {},
   "source": [
    "#  De beaux graphiques avec python: mise en pratique\n",
    "\n"
   ]
  },
  {
   "cell_type": "markdown",
   "id": "2cb5631d",
   "metadata": {},
   "source": [
    "<a href=\"https://github.com/linogaliana/python-datascientist/blob/master//__w/python-datascientist/python-datascientist/notebooks/course/visualisation/matplotlib.ipynb\" class=\"github\"><i class=\"fab fa-github\"></i></a>\n",
    "[![Download](https://img.shields.io/badge/Download-Notebook-important?logo=Jupyter)](https://downgit.github.io/#/home?url=https://github.com/linogaliana/python-datascientist/blob/master//__w/python-datascientist/python-datascientist/notebooks/course/visualisation/matplotlib.ipynb)\n",
    "[![nbviewer](https://img.shields.io/badge/Visualize-nbviewer-blue?logo=Jupyter)](https://nbviewer.jupyter.org/github/linogaliana/python-datascientist/blob/master//__w/python-datascientist/python-datascientist/notebooks/course/visualisation/matplotlib.ipynb)\n",
    "[![Onyxia](https://img.shields.io/badge/SSPcloud-Tester%20via%20SSP--cloud-informational&color=yellow?logo=Python)](https://datalab.sspcloud.fr/launcher/inseefrlab-helm-charts-datascience/jupyter?autoLaunch=true&onyxia.friendlyName=%C2%ABpython-datascience%C2%BB&init.personalInit=%C2%ABhttps%3A%2F%2Fraw.githubusercontent.com%2Flinogaliana%2Fpython-datascientist%2Fmaster%2Fsspcloud%2Finit-jupyter.sh%C2%BB&init.personalInitArgs=%C2%ABvisualisation%20matplotlib%C2%BB&security.allowlist.enabled=false)\n",
    "<br>\n",
    "[![Binder](https://img.shields.io/badge/Launch-Binder-E66581.svg?logo=data:image/png;base64,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)](https://mybinder.org/v2/gh/linogaliana/python-datascientist/master?filepath=/__w/python-datascientist/python-datascientist/notebooks/course/visualisation/matplotlib.ipynb)\n",
    "[![Open In Colab](https://colab.research.google.com/assets/colab-badge.svg)](http://colab.research.google.com/github/linogaliana/python-datascientist/blob/master//__w/python-datascientist/python-datascientist/notebooks/course/visualisation/matplotlib.ipynb)\n",
    "[![githubdev](https://open.vscode.dev/badges/open-in-vscode.svg)](https://github.dev/linogaliana/python-datascientist//__w/python-datascientist/python-datascientist/notebooks/course/visualisation/matplotlib.ipynb)\n",
    "\n",
    "La pratique de la visualisation se fera, dans ce cours, en répliquant des graphiques qu'on peut trouver sur\n",
    "la page de l'*open-data* de la ville de Paris \n",
    "[ici](https://opendata.paris.fr/explore/dataset/comptage-velo-donnees-compteurs/information/?disjunctive.id_compteur&disjunctive.nom_compteur&disjunctive.id&disjunctive.name).\n",
    "\n",
    "Ce TP vise à initier:\n",
    "\n",
    "* Aux packages [matplotlib](https://matplotlib.org/) et\n",
    "[seaborn](https://seaborn.pydata.org/) pour la construction de graphiques figés\n",
    "* Au package [plotly](https://plotly.com/python/) pour les graphiques \n",
    "dynamiques, au format HTML\n",
    "\n",
    "Nous verrons par la suite la manière de construire des cartes facilement avec\n",
    "des formats équivalents.\n",
    "\n",
    "Un sous-ensemble des données de [paris open data](https://opendata.paris.fr/explore/dataset/comptage-velo-donnees-compteurs/information/?disjunctive.id_compteur&disjunctive.nom_compteur&disjunctive.id&disjunctive.name) a été mis à disposition\n",
    "sur {{< githubrepo >}} pour faciliter l'import (élimination des colonnes\n",
    "qui ne nous serviront pas mais ralentissent l'import).\n"
   ]
  },
  {
   "cell_type": "code",
   "execution_count": null,
   "id": "8039fdd6",
   "metadata": {},
   "outputs": [],
   "source": [
    "import matplotlib.pyplot as plt\n",
    "import seaborn as sns"
   ]
  },
  {
   "cell_type": "markdown",
   "id": "bb81d2ad",
   "metadata": {},
   "source": [
    "## Premier graphique avec l'API `matplotlib` de `pandas`"
   ]
  },
  {
   "cell_type": "markdown",
   "id": "608bde62",
   "metadata": {},
   "source": [
    "**Exercice 1 : Importer les données et produire un premier graphique**\n",
    "\n",
    "1. Importer les données de compteurs de vélos. Vous pouvez utiliser l'url <https://github.com/linogaliana/python-datascientist/raw/master/data/bike.csv>. :warning: Il s'agit de données\n",
    "compressées au format `gzip`, il faut donc utiliser l'option `compression`\n"
   ]
  },
  {
   "cell_type": "markdown",
   "id": "83fa458b",
   "metadata": {},
   "source": [
    "2. En premier lieu, sans se préoccuper des éléments de style ni des labels des\n",
    "graphiques, reproduire les deux premiers graphiques de la\n",
    "[page d'analyse des données](https://opendata.paris.fr/explore/dataset/comptage-velo-donnees-compteurs/dataviz/?disjunctive.id_compteur&disjunctive.nom_compteur&disjunctive.id&disjunctive.name):\n",
    "*Les 10 compteurs avec la moyenne horaire la plus élevée* et *Les 10 compteurs ayant comptabilisés le plus de vélos*.\n",
    "\n",
    "\n",
    "\n",
    "\n"
   ]
  },
  {
   "cell_type": "markdown",
   "id": "5dbaed56",
   "metadata": {},
   "source": [
    "Pour obtenir un graphique ordonné du plus grand au plus petit, il faut avoir les données ordonnées du plus petit au\n",
    "plus grand. C'est bizarre mais c'est comme ça...\n",
    "\n"
   ]
  },
  {
   "cell_type": "markdown",
   "id": "787c8d17",
   "metadata": {},
   "source": [
    "On peut remarquer plusieurs éléments problématiques (par exemple les labels) mais\n",
    "aussi des éléments ne correspondant pas (les titres des axes, etc.) ou \n",
    "manquants (le nom du graphique...)\n",
    "\n",
    "Comme les graphiques produits par `pandas` suivent la logique très flexible\n",
    "de `matplotlib`, il est possible de les customiser. Cependant, c'est\n",
    "souvent beaucoup de travail et il peut être préférable de directement\n",
    "utiliser *seaborn*, qui offre quelques arguments prêts à l'emploi."
   ]
  },
  {
   "cell_type": "markdown",
   "id": "501263dd",
   "metadata": {},
   "source": [
    "## Utiliser directement `seaborn`\n",
    "\n",
    "Vous pouvez repartir des deux dataframes précédents. On va suppose qu'ils se\n",
    "nomment `df1` et `df2`. \n",
    "\n",
    "{{% box status=\"exercise\" title=\"Exercice\"\n",
    "icon=\"fas fa-pencil-alt\" %}}\n",
    "\n",
    "**Exercice 2 : Un peu de style !**\n",
    "\n",
    "Il y a plusieurs manières de faire un *bar* plot en `seaborn`. La plus flexible,\n",
    "c'est-à-dire celle qui permet le mieux d'interagir avec `matplotlib` est\n",
    "`catplot`\n",
    "\n",
    "1. Réinitialiser l'index des df pour avoir une colonne *'Nom du compteur'*\n"
   ]
  },
  {
   "cell_type": "markdown",
   "id": "96da02ad",
   "metadata": {},
   "source": [
    "2. Refaire le graphique précédent avec la fonction `catplot` de `seaborn`. Pour\n",
    "contrôler la taille du graphique vous pouvez utiliser les arguments `height` et\n",
    "`aspect`.\n",
    "\n"
   ]
  },
  {
   "cell_type": "markdown",
   "id": "6fb81433",
   "metadata": {},
   "source": [
    "3. Ajouter les titres des axes et le titre du graphique pour le premier graphique\n",
    "\n"
   ]
  },
  {
   "cell_type": "markdown",
   "id": "1826d94d",
   "metadata": {},
   "source": [
    "4. Refaites l'exercice avec la fonction `sns.barplot`.\n",
    "\n"
   ]
  },
  {
   "cell_type": "markdown",
   "id": "6124fad1",
   "metadata": {},
   "source": [
    "5. Essayez de colorer en rouge l'axe des `x`. Vous pouvez pré-définir un\n",
    "style avec `sns.set_style(\"ticks\", {\"xtick.color\": \"red\"})`\n",
    "\n",
    "\n",
    "\n",
    "\n",
    "\n",
    "\n",
    "\n",
    "\n"
   ]
  },
  {
   "cell_type": "markdown",
   "id": "a071bf6d",
   "metadata": {},
   "source": [
    "{{% box status=\"exercise\" title=\"Exercice\"\n",
    "icon=\"fas fa-pencil-alt\" %}}\n",
    "\n",
    "**Exercice 3 : Refaire les graphiques**\n",
    "\n",
    "1. Refaire le graphique *Les 10 compteurs ayant comptabilisé le plus de vélos*\n",
    "\n"
   ]
  },
  {
   "cell_type": "markdown",
   "id": "8506795d",
   "metadata": {},
   "source": [
    "2. Les graphiques qui suivent vont nécessiter un peu d'agilité dans la gestion des dates. Il faut en effet commencer par créer une variable temporelle (vous pouvez la nommer\n",
    "`timestamp`) et la transformer en variable mensuelle (grâce à\n",
    "`dt.to_period('M')`) et l'appeler `month`. Vous pouvez essayer de le faire vous même ou cliquer\n",
    "ci-dessous pour la solution.  \n"
   ]
  },
  {
   "cell_type": "code",
   "execution_count": null,
   "id": "fd6c7752",
   "metadata": {},
   "outputs": [],
   "source": [
    "df['timestamp'] = pd.to_datetime(df['Date et heure de comptage'], format='%Y-%m-%dT%H:%M:%SZ', errors='coerce')\n",
    "df['month'] = df['timestamp'].dt.to_period('M')"
   ]
  },
  {
   "cell_type": "markdown",
   "id": "68a15b89",
   "metadata": {},
   "source": [
    "3. Refaire le graphique *Moyenne mensuelle des comptages vélos*. \n",
    "\n"
   ]
  },
  {
   "cell_type": "markdown",
   "id": "c13bebc4",
   "metadata": {},
   "source": [
    "4. Refaire le graphique *Moyenne journalière des comptages vélos* (créer d'abord\n",
    "une variable de jour avec `.dt.day`)\n",
    "\n",
    "\n"
   ]
  },
  {
   "cell_type": "markdown",
   "id": "60f647e0",
   "metadata": {},
   "source": [
    "5. Refaire le graphique *Comptages vélo au cours des 7 derniers jours* (de l'échantillon)\n",
    "\n",
    "\n",
    "\n",
    "\n",
    "\n",
    "\n",
    "\n"
   ]
  },
  {
   "cell_type": "markdown",
   "id": "1fa29bc1",
   "metadata": {},
   "source": [
    "## Des graphiques dynamiques avec `Plotly`\n",
    "\n",
    "Le package `Plotly` est une surcouche à la librairie Javascript \n",
    "`Plotly.js` qui permet de créer et manipuler des objets graphiques de manière\n",
    "très flexible afin de produire des objets réactifs sans avoir à recourir\n",
    "à Javascript.\n",
    "\n",
    "Le point d'entrée recommandé est le module `Plotly Express`\n",
    "([documentation ici](https://plotly.com/python/plotly-express/)) qui offre une arborescence\n",
    "riche mais néanmoins intuitive pour construire des graphiques\n",
    "(objets `plotly.graph_objects.Figure`) pouvant être modifiés *a posteriori*\n",
    "si besoin (par exemple pour *customiser* les axes). \n",
    "\n",
    "### Comment visualiser un graphique `plotly` ?\n",
    "\n",
    "Dans un notebook Jupyter classique, les lignes suivantes de code permettent\n",
    "d'afficher le résultat d'une commande `Plotly` sous un bloc de code: \n"
   ]
  },
  {
   "cell_type": "code",
   "execution_count": null,
   "id": "e318551f",
   "metadata": {},
   "outputs": [],
   "source": [
    "from plotly.offline import init_notebook_mode\n",
    "init_notebook_mode(connected = True)"
   ]
  },
  {
   "cell_type": "markdown",
   "id": "624894f5",
   "metadata": {},
   "source": [
    "Pour `JupyterLab`, l'extension `jupyterlab-plotly` s'avère nécessaire:\n"
   ]
  },
  {
   "cell_type": "code",
   "execution_count": null,
   "id": "86bc52d5",
   "metadata": {},
   "outputs": [],
   "source": [
    "jupyter labextension install jupyterlab-plotly"
   ]
  },
  {
   "cell_type": "markdown",
   "id": "a4bb173b",
   "metadata": {},
   "source": [
    "Pour les utilisateurs de `python` via l'excellent package `R` `reticulate`, il\n",
    "est possible d'écrire le résultats dans un fichier `.html` et d'utiliser\n",
    "`htmltools::includeHTML` pour l'afficher via `R Markdown` (les utilisateurs\n",
    "de `R` trouveront bien-sûr une technique bien plus simple: utiliser\n",
    "directement le package `R` `plotly`...)"
   ]
  },
  {
   "cell_type": "markdown",
   "id": "292c7ec8",
   "metadata": {},
   "source": [
    "### Réplication de l'exemple précédent avec `plotly`\n",
    "\n",
    "Les modules suivants seront nécessaires pour construire des graphiques\n",
    "avec `plotly`:\n"
   ]
  },
  {
   "cell_type": "code",
   "execution_count": null,
   "id": "3cfca02a",
   "metadata": {
    "lines_to_next_cell": 2
   },
   "outputs": [],
   "source": [
    "import plotly\n",
    "import plotly.express as px\n",
    "from IPython.display import HTML #pour afficher les graphs\n",
    "# dans une cellule de notebook"
   ]
  },
  {
   "cell_type": "markdown",
   "id": "ce04fd5b",
   "metadata": {},
   "source": [
    "{{% box status=\"exercise\" title=\"Exercice\"\n",
    "icon=\"fas fa-pencil-alt\" %}}\n",
    "\n",
    "**Exercice 4 : Premier graphique avec plotly**\n",
    "\n",
    "L'objectif est de reconstuire le premier diagramme en barre rouge avec `plotly`. \n",
    "\n",
    "1. Réalisez le graphique en utilisant la fonction adéquate avec `Plotly Express` et...\n",
    "* Ne pas prendre le\n",
    "thème par défaut mais un à fond blanc, pour avoir un résultat ressemblant\n",
    "à celui proposé sur le site de l'*open-data*.\n",
    "* Pour la couleur rouge,\n",
    "vous pouvez utiliser l'argument `color_discrete_sequence`. \n",
    "* Ne pas oublier de nommer les axes\n",
    "* Pensez à la couleur du texte de l'axe inférieur\n",
    "\n"
   ]
  },
  {
   "cell_type": "markdown",
   "id": "8e5afa29",
   "metadata": {},
   "source": [
    "2. Tester un autre thème, à fond sombre. Pour les couleurs, faire un \n",
    "groupe stockant les trois plus fortes valeurs puis les autres.\n",
    "\n",
    "\n"
   ]
  },
  {
   "cell_type": "markdown",
   "id": "76d26320",
   "metadata": {},
   "source": [
    "La première question permet de construire le graphique suivant:"
   ]
  },
  {
   "cell_type": "markdown",
   "id": "8571060e",
   "metadata": {},
   "source": [
    "Alors qu'avec le thème sombre (question 2), on obtient :"
   ]
  },
  {
   "cell_type": "markdown",
   "id": "9fe63c85",
   "metadata": {},
   "source": [
    "# Exercices supplémentaires\n",
    "\n",
    "https://plotly.com/python/v3/3d-network-graph/"
   ]
  }
 ],
 "metadata": {
  "kernelspec": {
   "display_name": "Python 3",
   "language": "python",
   "name": "python3"
  }
 },
 "nbformat": 4,
 "nbformat_minor": 5
}
