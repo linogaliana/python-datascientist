{
 "cells": [
  {
   "cell_type": "markdown",
   "id": "4738161d",
   "metadata": {},
   "source": [
    "#  Quelques éléments pour comprendre les enjeux\n",
    "\n",
    "\n",
    "\n"
   ]
  },
  {
   "cell_type": "markdown",
   "id": "2eaba28a",
   "metadata": {},
   "source": [
    "Le NLP est un domaine immense de recherche. Cette page est une introduction\n",
    "fort incomplète à la question. Il s'agit de montrer la logique, quelques exemples\n",
    "avec `Python` <i class=\"fab fa-python\"></i>\n",
    "et s'amuser avec comme base d'exemple un livre formidable :books: :\n",
    "*Le Comte de Monte Cristo*\n",
    "\n",
    "## Base d'exemple\n",
    "\n",
    "La base d'exemple est le *Comte de Monte Cristo* d'Alexandre Dumas.\n",
    "Il est disponible\n",
    "gratuitement sur le site\n",
    "[Project Gutemberg](http://www.gutenberg.org/ebooks/author/492) comme des milliers\n",
    "d'autres livres dans le domaine public. La manière la plus simple de le récupérer\n",
    "est de télécharger avec le module `urllib` le fichier texte et le retravailler\n",
    "légèrement pour ne conserver que le corpus du livre. "
   ]
  },
  {
   "cell_type": "markdown",
   "id": "2d9ebfb4",
   "metadata": {},
   "source": [
    "```\n",
    "## \" mes yeux. --vous avez donc vu l'empereur aussi? --il est entré chez le maréchal pendant que j'y étais. --et vous lui avez parlé? --c'est-à-dire que c'est lui qui m'a parlé, monsieur, dit dantès en souriant. --et que vous a-t-il dit? --il m'a fait des questions sur le bâtiment, sur l'époque de son départ pour marseille, sur la route qu'il avait suivie et sur la cargaison qu'il portait. je crois que s'il eût été vide, et que j'en eusse été le maître, son intention eût été de l'acheter; mais je lu\"\n",
    "```"
   ]
  },
  {
   "cell_type": "markdown",
   "id": "4da14d3d",
   "metadata": {},
   "source": [
    "## La particularité des données textuelles\n",
    "\n",
    "### Objectif\n",
    "\n",
    "Le *natural language processing* (NLP) ou\n",
    "*traitement automatisé de la langue* (TAL) en Français, vise à extraire de l'information de textes à partir d'une analyse statistique du contenu. \n",
    "Cette définition permet d'inclure de nombreux champs d'applications au sein\n",
    "du NLP (traduction, analyse de sentiment, recommandation, surveillance, etc. ) ainsi que de méthodes. \n",
    "\n",
    "Cette approche implique de transformer un texte, qui est une information compréhensible par un humain, en un nombre, information appropriée pour un ordinateur et une approche statistique ou algorithmique. \n",
    "\n",
    "Transformer une information textuelle en valeurs numériques propres à une analyse statistique n'est pas une tâche évidente. Les données textuelles sont **non structurées** puisque l'information cherchée, qui est propre à chaque analyse, est perdue au milieu d'une grande masse d'information qui doit, de plus, être interprétée dans un certain contexte (un même mot ou une phrase n'ayant pas la même signification selon le contexte). \n",
    "\n",
    "Si cette tâche n'était pas assez difficile comme ça, on peut ajouter d'autres difficultés propres à l'analyse textuelle car ces données sont:\n",
    "\n",
    "* bruitées: ortographe, fautes de frappe...\n",
    "* changeantes: la langue évolue avec de nouveaux mots, sens...\n",
    "* complexes: structures variables, accords...\n",
    "* ambigues: synonymie, polysémie, sens caché...\n",
    "* propres à chaque langue: il n'existe pas de règle de passage unique entre deux langues\n",
    "* grande dimension: des combinaisons infinies de séquences de mots\n",
    "\n",
    "### Méthode\n",
    "\n",
    "L’unité textuelle peut être le mot ou encore une séquence de *n*\n",
    "mots (un *n-gramme*) ou encore une chaîne de caractères (e.g. la\n",
    "ponctuation peut être signifiante). On parle de **token**. L’analyse textuelle vise à transformer le texte en données\n",
    "numériques manipulables. \n",
    "\n",
    "On peut ensuite utiliser diverses techniques (clustering,\n",
    "classification supervisée) suivant l’objectif poursuivi pour exploiter\n",
    "l’information transformée. Mais les étapes de nettoyage de texte sont indispensables car sinon un algorithme sera incapable de détecter une information pertinente dans l'infini des possibles. \n",
    "\n"
   ]
  },
  {
   "cell_type": "markdown",
   "id": "55c1235f",
   "metadata": {},
   "source": [
    "## Nettoyer un texte\n",
    "\n",
    "Les *wordclouds* sont des représentations graphiques assez pratiques pour visualiser\n",
    "les mots les plus fréquents. Elles sont très simples à implémenter en `Python`\n",
    "avec le module `wordcloud` qui permet même d'ajuster la forme du nuage à\n",
    "une image:\n",
    "\n"
   ]
  },
  {
   "cell_type": "markdown",
   "id": "120dc132",
   "metadata": {},
   "source": [
    "Cela montre clairement qu'il est nécessaire de nettoyer notre texte. Le nom\n",
    "du personnage principal, Dantès, est ainsi masqué par un certain nombre\n",
    "d'article ou mots de liaison qui perturbent l'analyse. Ces mots sont des \n",
    "*stop-words*. La librairie `NLTK` (*Natural Language ToolKit*), librairie\n",
    "de référence dans le domaine du NLP, permet de facilement retirer ces\n",
    "stopwords (cela pourrait également être fait avec \n",
    "la librairie plus récente, `spaCy`). Avant cela, il est nécessaire\n",
    "de transformer notre texte en le découpant par unités fondamentales (les tokens)\n",
    "\n",
    "### Tokenisation\n",
    "\n",
    "La tokenisation consiste à découper un texte en morceaux. Ces morceaux\n",
    "pourraient être des phrases, des chapitres, des n-grammes ou des mots. C'est\n",
    "cette dernière option que l'on va choisir, plus simple pour retirer les \n",
    "*stopwords* :"
   ]
  },
  {
   "cell_type": "markdown",
   "id": "869c4ba2",
   "metadata": {},
   "source": [
    "```\n",
    "## True\n",
    "## \n",
    "## [nltk_data] Downloading package punkt to /github/home/nltk_data...\n",
    "## [nltk_data]   Unzipping tokenizers/punkt.zip.\n",
    "```\n",
    "\n",
    "```\n",
    "## ['que', 'voulez-vous', ',', 'monsieur', 'edmond', ',', 'reprit', \"l'armateur\", 'qui', 'paraissait', 'se', 'consoler', 'de', 'plus', 'en', 'plus', ',', 'nous', 'sommes', 'tous']\n",
    "```\n",
    "\n",
    "On remarque que les mots avec apostrophes sont liés en un seul, ce qui est\n",
    "peut-être faux sur le plan de la grammaire mais peu avoir un sens pour une \n",
    "analyse statistique. Il reste des signes de ponctuation qu'on peut éliminer\n",
    "avec la méthode `isalpha`: "
   ]
  },
  {
   "cell_type": "markdown",
   "id": "d2290672",
   "metadata": {},
   "source": [
    "```\n",
    "## ['assez', 'sombre', 'obséquieux', 'envers', 'ses', 'supérieurs', 'insolent', 'envers', 'ses', 'subordonnés', 'aussi', 'outre', 'son', 'titre', 'comptable', 'qui', 'est', 'toujours', 'un', 'motif']\n",
    "```\n",
    "\n",
    "Lors de la première utilisation de `NLTK`, il est nécessaire de télécharger\n",
    "quelques éléments nécessaires à la tokenisation, notamment la ponctuation.\n",
    "Pour cela, \n",
    "\n"
   ]
  },
  {
   "cell_type": "markdown",
   "id": "3d1be12c",
   "metadata": {},
   "source": [
    "### Retirer les stopwords\n",
    "\n",
    "Le jeu de données est maintenant propre à se faire retirer les \n",
    "*stop words*. \n",
    "\n",
    "Lors de la première utilisation de `NLTK`, il est nécessaire de télécharger\n",
    "les stopwords. "
   ]
  },
  {
   "cell_type": "markdown",
   "id": "66d4626b",
   "metadata": {},
   "source": [
    "```\n",
    "## True\n",
    "## \n",
    "## [nltk_data] Downloading package stopwords to /github/home/nltk_data...\n",
    "## [nltk_data]   Unzipping corpora/stopwords.zip.\n",
    "```\n",
    "\n"
   ]
  },
  {
   "cell_type": "markdown",
   "id": "f0a62bb1",
   "metadata": {},
   "source": [
    "```\n",
    "## ['au', 'aux', 'avec', 'ce', 'ces', 'dans', 'de', 'des', 'du', 'elle', 'en', 'et', 'eux', 'il', 'ils', 'je', 'la', 'le', 'les', 'leur', 'lui', 'ma', 'mais', 'me', 'même', 'mes', 'moi', 'mon', 'ne', 'nos', 'notre', 'nous', 'on', 'ou', 'par', 'pas', 'pour', 'qu', 'que', 'qui', 'sa', 'se', 'ses', 'son', 'sur', 'ta', 'te', 'tes', 'toi', 'ton', 'tu', 'un', 'une', 'vos', 'votre', 'vous', 'c', 'd', 'j', 'l', 'à', 'm', 'n', 's', 't', 'y', 'été', 'étée', 'étées', 'étés', 'étant', 'étante', 'étants', 'étantes', 'suis', 'es', 'est', 'sommes', 'êtes', 'sont', 'serai', 'seras', 'sera', 'serons', 'serez', 'seront', 'serais', 'serait', 'serions', 'seriez', 'seraient', 'étais', 'était', 'étions', 'étiez', 'étaient', 'fus', 'fut', 'fûmes', 'fûtes', 'furent', 'sois', 'soit', 'soyons', 'soyez', 'soient', 'fusse', 'fusses', 'fût', 'fussions', 'fussiez', 'fussent', 'ayant', 'ayante', 'ayantes', 'ayants', 'eu', 'eue', 'eues', 'eus', 'ai', 'as', 'avons', 'avez', 'ont', 'aurai', 'auras', 'aura', 'aurons', 'aurez', 'auront', 'aurais', 'aurait', 'aurions', 'auriez', 'auraient', 'avais', 'avait', 'avions', 'aviez', 'avaient', 'eut', 'eûmes', 'eûtes', 'eurent', 'aie', 'aies', 'ait', 'ayons', 'ayez', 'aient', 'eusse', 'eusses', 'eût', 'eussions', 'eussiez', 'eussent']\n",
    "```\n",
    "\n",
    "```\n",
    "## ['celui', 'dantès', 'a', 'déposé', 'passant', 'comment', 'paquet', 'déposer', 'danglars', 'rougit', 'passais', 'devant', 'porte', 'capitaine', 'entrouverte', 'vu', 'remettre', 'paquet', 'cette', 'lettre']\n",
    "```\n",
    "\n",
    "Ces retraitements commencent à porter leurs fruits puisque des mots ayant plus\n",
    "de sens commencent à se dégager, notamment les noms des personnes\n",
    "(Fernand, Mercédès, Villefort, etc.)\n",
    "\n",
    "\n"
   ]
  },
  {
   "cell_type": "markdown",
   "id": "c14b63e4",
   "metadata": {},
   "source": [
    "### *Stemming*\n",
    "\n",
    "Pour réduire la complexité d'un texte, on peut tirer partie de\n",
    "\"classes d'équivalence\" : on peut\n",
    "considérer que différentes formes d’un même mot (pluriel,\n",
    "singulier, conjugaison) sont équivalentes et les remplacer par une\n",
    "même forme dite canonique. Il existe deux approches dans le domaine:\n",
    "\n",
    "* la **lemmatisation** qui requiert la connaissance des statuts\n",
    "grammaticaux (exemple : chevaux devient cheval)\n",
    "* la **racinisation** (*stemming*) plus fruste mais plus rapide, notamment\n",
    "en présence de fautes d’orthographes. Dans ce cas, chevaux peut devenir chev\n",
    "mais être ainsi confondu avec chevet ou cheveux\n",
    "\n",
    "La racinisation est plus simple à mettre en oeuvre car elle peut s'appuyer sur\n",
    "des règles simples pour extraire la racine d'un mot. "
   ]
  },
  {
   "cell_type": "markdown",
   "id": "4c33551a",
   "metadata": {},
   "source": [
    "Pour réduire un mot dans sa forme \"racine\", c'est-à-dire en s'abstrayant des\n",
    "conjugaisons ou variations comme les pluriels, on applique une méthode de\n",
    "*stemming*. Le but du *stemming* est de regrouper de\n",
    "nombreuses variantes d’un mot comme un seul et même mot.\n",
    "Par exemple, une fois que l’on applique un stemming, \"chats\" et \"chat\" \n",
    "deviennent un même mot. \n",
    "Cette approche a l'avantage de réduire la taille du vocabulaire à maîtriser\n",
    "pour l'ordinateur et le modélisateur. Il existe plusieurs algorithmes de \n",
    "*stemming*, notamment le *Porter Stemming Algorithm* ou le\n",
    "*Snowball Stemming Algorithm*. Nous pouvons utiliser ce dernier en Français:"
   ]
  },
  {
   "cell_type": "markdown",
   "id": "6293f4c4",
   "metadata": {},
   "source": [
    "```\n",
    "## ['celui', 'dantes', 'a', 'dépos', 'pass', 'comment', 'paquet', 'dépos', 'danglar', 'roug', 'pass', 'dev', 'port', 'capitain', 'entrouvert', 'vu', 'remettr', 'paquet', 'cet', 'lettr']\n",
    "```\n",
    "\n",
    "A ce niveau, les mots commencent à être moins intelligibles par un humain. \n",
    "La machine prendra le relais, on lui a préparé le travail\n",
    "\n",
    "~~~python\n",
    "from nltk.stem.snowball import FrenchStemmer\n",
    "stemmer = FrenchStemmer()\n",
    "~~~"
   ]
  },
  {
   "cell_type": "markdown",
   "id": "3cc7a294",
   "metadata": {},
   "source": [
    "### Reconnaissance des entités nommées\n",
    "\n",
    "Cette étape n'est pas une étape de préparation mais illustre la capacité \n",
    "des librairies `Python` a extraire du sens d'un texte. La librairie \n",
    "`spaCy` permet de faire de la reconnaissance d'entités nommées, ce qui peut\n",
    "être pratique pour extraire rapidement certains personnages de notre oeuvre\n",
    "\n"
   ]
  },
  {
   "cell_type": "markdown",
   "id": "8d27c1ee",
   "metadata": {},
   "source": [
    "## Représentation d'un texte sous forme vectorielle\n",
    "\n",
    "Une fois nettoyé, le texte est plus propice à une représentation vectorielle.\n",
    "En fait, implicitement, on a depuis le début adopté une démarche *bag of words*.\n",
    "Il s'agit d'une représentation, sans souci de contexte (ordre, utilisation),\n",
    "où chaque *token* représente un élément dans un vocabulaire de taille $|V|$.\n",
    "On peut ainsi avoir une représentation matricielle les occurrences de\n",
    "chaque *token* dans plusieurs documents (par exemple plusieurs livres,\n",
    "chapitres, etc.) pour, par exemple, en déduire une forme de similarité. "
   ]
  },
  {
   "cell_type": "markdown",
   "id": "ddea3357",
   "metadata": {},
   "source": [
    "Afin de réduire la dimension de la matrice *bag of words*,\n",
    "on peut s'appuyer sur des pondérations.\n",
    "On élimine ainsi certains mots très fréquents ou au contraire très rares.\n",
    "La pondération la plus simple est basée sur la fréquence des mots dans le document.\n",
    "C'est l'objet de la métrique **tf-idf** (term frequency - inverse document frequency)\n",
    "abordée dans un prochain chapitre."
   ]
  }
 ],
 "metadata": {
  "kernelspec": {
   "display_name": "Python 3",
   "language": "python",
   "name": "python3"
  }
 },
 "nbformat": 4,
 "nbformat_minor": 5
}
