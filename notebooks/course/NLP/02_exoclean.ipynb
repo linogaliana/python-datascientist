{
 "cells": [
  {
   "cell_type": "markdown",
<<<<<<< HEAD
<<<<<<< HEAD
   "id": "0ed31408",
=======
   "id": "0e1019c6",
>>>>>>> master
=======
   "id": "2b2fe146",
>>>>>>> master
   "metadata": {},
   "source": [
    "#  Nettoyer un texte: approche bag-of-words (exercices)\n",
    "\n"
   ]
  },
  {
   "cell_type": "markdown",
<<<<<<< HEAD
<<<<<<< HEAD
   "id": "edf898b6",
=======
   "id": "5563d385",
>>>>>>> master
=======
   "id": "4352282c",
>>>>>>> master
   "metadata": {},
   "source": [
    "<a href=\"https://github.com/linogaliana/python-datascientist/blob/master//__w/python-datascientist/python-datascientist/notebooks/course/NLP/02_exoclean.ipynb\" class=\"github\"><i class=\"fab fa-github\"></i></a>\n",
    "[![Download](https://img.shields.io/badge/Download-Notebook-important?logo=Jupyter)](https://downgit.github.io/#/home?url=https://github.com/linogaliana/python-datascientist/blob/master//__w/python-datascientist/python-datascientist/notebooks/course/NLP/02_exoclean.ipynb)\n",
    "[![nbviewer](https://img.shields.io/badge/Visualize-nbviewer-blue?logo=Jupyter)](https://nbviewer.jupyter.org/github/linogaliana/python-datascientist/blob/master//__w/python-datascientist/python-datascientist/notebooks/course/NLP/02_exoclean.ipynb)\n",
    "[![Onyxia](https://img.shields.io/badge/SSPcloud-Tester%20via%20SSP--cloud-informational&color=yellow?logo=Python)](https://datalab.sspcloud.fr/launcher/inseefrlab-helm-charts-datascience/jupyter?onyxia.friendlyName=«python-datascientist»&resources.requests.memory=«4Gi»&security.allowlist.enabled=false&init.personalInit=«https://raw.githubusercontent.com/linogaliana/python-datascientist/master/init_onyxia.sh»)\n",
    "<br>\n",
    "[![Binder](https://img.shields.io/badge/Launch-Binder-E66581.svg?logo=data:image/png;base64,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)](https://mybinder.org/v2/gh/linogaliana/python-datascientist/master?filepath=/__w/python-datascientist/python-datascientist/notebooks/course/NLP/02_exoclean.ipynb)\n",
    "[![Open In Colab](https://colab.research.google.com/assets/colab-badge.svg)](http://colab.research.google.com/github/linogaliana/python-datascientist/blob/master//__w/python-datascientist/python-datascientist/notebooks/course/NLP/02_exoclean.ipynb)\n",
    "[![githubdev](https://open.vscode.dev/badges/open-in-vscode.svg)](https://github.dev/linogaliana/python-datascientist//__w/python-datascientist/python-datascientist/notebooks/course/NLP/02_exoclean.ipynb)\n"
   ]
  },
  {
   "cell_type": "markdown",
<<<<<<< HEAD
<<<<<<< HEAD
   "id": "7d950520",
=======
   "id": "ed22b029",
>>>>>>> master
=======
   "id": "93a54351",
>>>>>>> master
   "metadata": {},
   "source": [
    "Cette page approfondit certains aspects présentés dans la\n",
    "[partie introductive](#nlp). Après avoir travaillé sur le\n",
    "*Comte de Monte Cristo*, on va continuer notre exploration de la littérature\n",
    "avec cette fois des auteurs anglophones :\n",
    "\n",
    "* Edgar Allan Poe, (EAP) ;\n",
    "* HP Lovecraft (HPL) ;\n",
    "* Mary Wollstonecraft Shelley (MWS).\n",
    "\n",
    "Les données sont disponibles ici : [spooky.csv](https://github.com/GU4243-ADS/spring2018-project1-ginnyqg/blob/master/data/spooky.csv) et peuvent être requétées via l'url \n",
    "<https://github.com/GU4243-ADS/spring2018-project1-ginnyqg/raw/master/data/spooky.csv>.\n",
    "\n",
    "Le but va être dans un premier temps de regarder dans le détail les termes les plus fréquemment utilisés par les auteurs, de les représenter graphiquement.\n",
    "On prendra appui sur l'approche *bag of words* présentée dans le chapitre précédent[^1]."
   ]
  },
  {
   "cell_type": "markdown",
   "id": "b437ce93",
   "metadata": {},
   "source": [
    "[^1]: L'approche *bag of words* est déjà, si on la pousse à ses limites, très intéressante. Elle peut notamment\n",
    "faciliter la mise en cohérence de différents corpus\n",
    "par la méthode des appariements flous\n",
    "(cf. [Galiana et al. 2022](https://epic-davinci-acb57b.netlify.app/#1).\n",
    "Le [chapitre sur ElasticSearch](#elastic) présent dans cette partie du cours présente quelques\n",
    "éléments de ce travail sur les données de l'`OpenFoodFacts`"
   ]
  },
  {
   "cell_type": "markdown",
<<<<<<< HEAD
<<<<<<< HEAD
   "id": "5511334d",
=======
   "id": "c595a9db",
>>>>>>> master
=======
   "id": "e04486b3",
>>>>>>> master
   "metadata": {},
   "source": [
    "Ce notebook est librement inspiré de  : \n",
    "\n",
    "* https://www.kaggle.com/enerrio/scary-nlp-with-spacy-and-keras\n",
    "* https://github.com/GU4243-ADS/spring2018-project1-ginnyqg\n",
    "* https://www.kaggle.com/meiyizi/spooky-nlp-and-topic-modelling-tutorial/notebook\n",
    "\n",
    "Les chapitres suivants permettront d'introduire aux enjeux de modélisation\n",
    "de corpus textuels. Dans un premier temps, le modèle LDA permettra d'explorer\n",
    "le principe des modèles bayésiens à couche cachés pour modéliser les sujets (*topics*)\n",
    "présents dans un corpus et segmenter ces topics selon les mots qui les composent.\n",
    "\n",
    "Le dernier chapitre de la partie visera à\n",
    "prédire quel texte correspond à quel auteur à partir d'un modèle `Word2Vec`.\n",
    "Cela sera un pas supplémentaire dans la formalisation puisqu'il s'agira de\n",
    "représenter chaque mot d'un texte sous forme d'un vecteur de grande dimension, ce\n",
    "qui nous permettra de rapprocher les mots entre eux dans un espace complexe."
   ]
  },
  {
   "cell_type": "markdown",
<<<<<<< HEAD
<<<<<<< HEAD
   "id": "2607eaf7",
=======
   "id": "33f30356",
>>>>>>> master
=======
   "id": "7f40a27e",
>>>>>>> master
   "metadata": {},
   "source": [
    "## Librairies nécessaires\n",
    "\n",
    "Cette page évoquera les principales librairies pour faire du NLP, notamment : \n",
    "\n",
    "* [WordCloud](https://github.com/amueller/word_cloud)\n",
    "* [nltk](https://www.nltk.org/)\n",
    "* [spacy](https://spacy.io/)\n",
    "* [Keras](https://keras.io/)\n",
    "* [TensorFlow](https://www.tensorflow.org/)\n",
    "\n",
    "Il faudra également installer les librairies `gensim` et `pywaffle`\n",
    "\n",
    "Comme dans la [partie précédente](#nlp), il faut télécharger quelques éléments pour que `NTLK` puisse fonctionner correctement. Pour cela, faire :\n",
    "\n"
   ]
  },
  {
   "cell_type": "markdown",
<<<<<<< HEAD
<<<<<<< HEAD
   "id": "1562b79b",
=======
   "id": "4ab0426e",
>>>>>>> master
=======
   "id": "c9a96bfa",
>>>>>>> master
   "metadata": {},
   "source": [
    "La liste des modules à importer est assez longue, la voici :\n"
   ]
  },
  {
   "cell_type": "code",
   "execution_count": null,
<<<<<<< HEAD
<<<<<<< HEAD
   "id": "d110f1ff",
=======
   "id": "0931f87e",
>>>>>>> master
=======
   "id": "e2e7a4b0",
>>>>>>> master
   "metadata": {},
   "outputs": [],
   "source": [
    "import numpy as np\n",
    "import pandas as pd\n",
    "import seaborn as sns\n",
    "import matplotlib.pyplot as plt\n",
    "from wordcloud import WordCloud\n",
    "import base64\n",
    "import string\n",
    "import re\n",
    "import nltk\n",
    "\n",
    "from collections import Counter\n",
    "from time import time\n",
    "# from sklearn.feature_extraction.stop_words import ENGLISH_STOP_WORDS as stopwords\n",
    "from sklearn.metrics import log_loss\n",
    "import matplotlib.pyplot as plt\n",
    "#!pip install pywaffle\n",
    "from pywaffle import Waffle\n",
    "\n",
    "from nltk.stem import WordNetLemmatizer\n",
    "from sklearn.feature_extraction.text import TfidfVectorizer, CountVectorizer\n",
    "from sklearn.decomposition import NMF, LatentDirichletAllocation\n",
    "\n",
    "nltk.download('stopwords')"
   ]
  },
  {
   "cell_type": "code",
   "execution_count": null,
<<<<<<< HEAD
<<<<<<< HEAD
   "id": "a39787cd",
=======
   "id": "df3ff4d1",
>>>>>>> master
=======
   "id": "5fb314d5",
>>>>>>> master
   "metadata": {},
   "outputs": [],
   "source": [
    "nltk.download('punkt')"
   ]
  },
  {
   "cell_type": "code",
   "execution_count": null,
<<<<<<< HEAD
<<<<<<< HEAD
   "id": "f1832b16",
=======
   "id": "f547ee43",
>>>>>>> master
=======
   "id": "e1fc2381",
>>>>>>> master
   "metadata": {},
   "outputs": [],
   "source": [
    "nltk.download('genesis')"
   ]
  },
  {
   "cell_type": "code",
   "execution_count": null,
<<<<<<< HEAD
<<<<<<< HEAD
   "id": "d8ad29fb",
=======
   "id": "6ebe5a73",
>>>>>>> master
=======
   "id": "3d9ff19c",
>>>>>>> master
   "metadata": {},
   "outputs": [],
   "source": [
    "nltk.download('wordnet')"
   ]
  },
  {
   "cell_type": "markdown",
<<<<<<< HEAD
<<<<<<< HEAD
   "id": "c0dbe27c",
=======
   "id": "0b6d36a7",
>>>>>>> master
=======
   "id": "c6d602ff",
>>>>>>> master
   "metadata": {},
   "source": [
    "## Données utilisées"
   ]
  },
  {
   "cell_type": "markdown",
<<<<<<< HEAD
<<<<<<< HEAD
   "id": "e45b990a",
=======
   "id": "fa0d773b",
>>>>>>> master
=======
   "id": "196c2c1a",
>>>>>>> master
   "metadata": {},
   "source": [
    "**Exercice 1 : Importer les données spooky** [OPTIONNEL]\n",
    "\n",
    "*Pour ceux qui ont envie de tester leurs connaissances en pandas*\n"
   ]
  },
  {
   "cell_type": "markdown",
<<<<<<< HEAD
<<<<<<< HEAD
   "id": "2a113eb5",
=======
   "id": "38a3eed5",
>>>>>>> master
=======
   "id": "1437dc80",
>>>>>>> master
   "metadata": {},
   "source": [
    "1. Importer le jeu de données `spooky` à partir de l'URL <https://github.com/GU4243-ADS/spring2018-project1-ginnyqg/raw/master/data/spooky.csv> sous le nom `train`. L'encoding est `latin-1`\n"
   ]
  },
  {
   "cell_type": "markdown",
<<<<<<< HEAD
<<<<<<< HEAD
   "id": "ec69c5ee",
=======
   "id": "3b6cafba",
>>>>>>> master
=======
   "id": "a6b542e7",
>>>>>>> master
   "metadata": {},
   "source": [
    "2. Mettre des majuscules au nom des colonnes.\n"
   ]
  },
  {
   "cell_type": "markdown",
<<<<<<< HEAD
<<<<<<< HEAD
   "id": "a138927f",
=======
   "id": "e3fd1cb8",
>>>>>>> master
=======
   "id": "b976a8b8",
>>>>>>> master
   "metadata": {},
   "source": [
    "3. Retirer le prefix `id` de la colonne `Id` et appeler la nouvelle colonne `ID`.\n",
    "\n"
   ]
  },
  {
   "cell_type": "markdown",
<<<<<<< HEAD
<<<<<<< HEAD
   "id": "28221a4c",
=======
   "id": "f4ace575",
>>>>>>> master
=======
   "id": "4e369be6",
>>>>>>> master
   "metadata": {},
   "source": [
    "4. Mettre l'ancienne colonne `Id` en index. \n",
    "\n",
    "\n",
    "\n"
   ]
  },
  {
   "cell_type": "markdown",
<<<<<<< HEAD
<<<<<<< HEAD
   "id": "4198edc4",
=======
   "id": "f34b9ac1",
>>>>>>> master
=======
   "id": "adece7c0",
>>>>>>> master
   "metadata": {},
   "source": [
    "Si vous ne faites pas l'exercice 1, pensez à charger les données en executant la fonction `get_data.py` :\n"
   ]
  },
  {
   "cell_type": "code",
   "execution_count": null,
<<<<<<< HEAD
<<<<<<< HEAD
   "id": "e5b6dcd7",
=======
   "id": "0f3e9d37",
>>>>>>> master
=======
   "id": "5f21edd2",
>>>>>>> master
   "metadata": {},
   "outputs": [],
   "source": [
    "import requests\n",
    "\n",
    "url = 'https://raw.githubusercontent.com/linogaliana/python-datascientist/master/content/course/NLP/get_data.py'\n",
    "r = requests.get(url, allow_redirects=True)\n",
    "open('getdata.py', 'wb').write(r.content)"
   ]
  },
  {
   "cell_type": "markdown",
<<<<<<< HEAD
<<<<<<< HEAD
   "id": "13b4e3ae",
=======
   "id": "49c1e9b8",
>>>>>>> master
=======
   "id": "285baeaf",
>>>>>>> master
   "metadata": {},
   "source": [
    "```\n",
    "## 341\n",
    "```"
   ]
  },
  {
   "cell_type": "code",
   "execution_count": null,
<<<<<<< HEAD
<<<<<<< HEAD
   "id": "533bb337",
=======
   "id": "8bc8728a",
>>>>>>> master
=======
   "id": "42ba1893",
>>>>>>> master
   "metadata": {},
   "outputs": [],
   "source": [
    "import getdata\n",
    "train = getdata.create_train_dataframes()"
   ]
  },
  {
   "cell_type": "markdown",
<<<<<<< HEAD
<<<<<<< HEAD
   "id": "1f8fc08d",
=======
   "id": "97e39334",
>>>>>>> master
=======
   "id": "38a392ad",
>>>>>>> master
   "metadata": {},
   "source": [
    "Ce code introduit une base nommée `train` dans l'environnement.\n"
   ]
  },
  {
   "cell_type": "markdown",
<<<<<<< HEAD
<<<<<<< HEAD
   "id": "92b4918e",
=======
   "id": "9fe81e6c",
>>>>>>> master
=======
   "id": "8fa17c5d",
>>>>>>> master
   "metadata": {},
   "source": [
    "Le jeu de données met ainsi en regard un auteur avec une phrase qu'il a écrite : "
   ]
  },
  {
   "cell_type": "markdown",
<<<<<<< HEAD
<<<<<<< HEAD
   "id": "2e6e98e0",
=======
   "id": "13c4f733",
>>>>>>> master
=======
   "id": "cd05515b",
>>>>>>> master
   "metadata": {},
   "source": [
    "```\n",
    "##                                                       Text Author     ID\n",
    "## Id                                                                      \n",
    "## id26305  This process, however, afforded me no means of...    EAP  26305\n",
    "## id17569  It never once occurred to me that the fumbling...    HPL  17569\n",
    "## id11008  In his left hand was a gold snuff box, from wh...    EAP  11008\n",
    "## id27763  How lovely is spring As we looked from Windsor...    MWS  27763\n",
    "## id12958  Finding nothing else, not even gold, the Super...    HPL  12958\n",
    "```\n",
    "\n"
   ]
  },
  {
   "cell_type": "markdown",
<<<<<<< HEAD
<<<<<<< HEAD
   "id": "027f9c18",
=======
   "id": "03a8b418",
>>>>>>> master
   "metadata": {},
   "source": [
    "On peut se rendre compte que les extraits des 3 auteurs ne sont pas forcément équilibrés dans le jeu de données. Il faudra en tenir compte dans la prédiction. \n"
   ]
  },
  {
   "cell_type": "code",
   "execution_count": null,
<<<<<<< HEAD
   "id": "b86a8df7",
=======
   "id": "d715ddbd",
>>>>>>> master
   "metadata": {
    "lines_to_next_cell": 0
   },
   "outputs": [],
   "source": [
    "fig = plt.figure()\n",
    "sns.barplot(x=['Edgar Allen Poe', 'Mary W. Shelley', 'H.P. Lovecraft'], y=train['Author'].value_counts())\n",
    "plt.savefig(\"wordfreq.png\", bbox_inches='tight')"
=======
   "id": "fb3e0c51",
   "metadata": {},
   "source": [
    "On peut se rendre compte que les extraits des 3 auteurs ne sont pas forcément équilibrés dans le jeu de données. Il faudra en tenir compte dans la prédiction. \n",
    "\n",
    "\n",
    "\n",
    "\n"
>>>>>>> master
   ]
  },
  {
   "cell_type": "markdown",
<<<<<<< HEAD
<<<<<<< HEAD
   "id": "af1a5a9f",
=======
   "id": "000dc84b",
>>>>>>> master
   "metadata": {},
   "source": []
  },
  {
   "cell_type": "markdown",
<<<<<<< HEAD
   "id": "b9d898d7",
=======
   "id": "f26ca56a",
>>>>>>> master
=======
   "id": "5a983d8e",
>>>>>>> master
   "metadata": {},
   "source": [
    "L'approche *bag of words* est présentée de\n",
    "manière plus extensive dans le [chapitre précédent](#nlp).\n",
    "\n",
    "L'idée est d'étudier la fréquence des mots d'un document et la\n",
    "surreprésentation des mots par rapport à un document de\n",
    "référence (appelé *corpus*).\n",
    "\n",
    "Cette approche un peu simpliste mais très\n",
    "efficace : on peut calculer des scores permettant par exemple de faire\n",
    "de classification automatique de document par thème, de comparer la\n",
    "similarité de deux documents. Elle est souvent utilisée en première analyse,\n",
    "et elle reste la référence pour l'analyse de textes mal\n",
    "structurés (tweets, dialogue tchat, etc.). \n",
    "\n",
    "Les analyses tf-idf (*term frequency-inverse document frequency*) ou les\n",
    "constructions d'indices de similarité cosinus reposent sur ce type d'approche"
   ]
  },
  {
   "cell_type": "markdown",
<<<<<<< HEAD
<<<<<<< HEAD
   "id": "44d4cc7e",
=======
   "id": "5059d0c7",
>>>>>>> master
=======
   "id": "3b56743b",
>>>>>>> master
   "metadata": {},
   "source": [
    "## Fréquence d'un mot\n",
    "\n",
    "Avant de s'adonner à une analyse systématique du champ lexical de chaque\n",
    "auteur, on se focaliser dans un premier temps sur un unique mot, le mot *fear*. \n",
    "\n",
    "L'exercice ci-dessous présente une représentation graphique nommée \n",
    "*waffle chart*. Il s'agit d'une représentation graphique préférable aux\n",
    "camemberts qui sont des graphiques manipulables car l'oeil humain se laisse\n",
    "facilement berner par cette représentation graphique qui ne respecte pas\n",
    "les proportions. "
   ]
  },
  {
   "cell_type": "markdown",
<<<<<<< HEAD
<<<<<<< HEAD
   "id": "b159a2ba",
=======
   "id": "e1ce8fdd",
>>>>>>> master
=======
   "id": "9d74d198",
>>>>>>> master
   "metadata": {},
   "source": [
    "**Exercice 2 : Fréquence d'un mot** \n",
    "\n",
    "1. Compter le nombre de phrases, pour chaque auteur, où apparaît le mot `fear`."
   ]
  },
  {
   "cell_type": "markdown",
<<<<<<< HEAD
<<<<<<< HEAD
   "id": "7f85da77",
=======
   "id": "a72f233e",
>>>>>>> master
=======
   "id": "9d8e279e",
>>>>>>> master
   "metadata": {},
   "source": [
    "```\n",
    "##         wordtoplot\n",
    "## Author            \n",
    "## EAP             70\n",
    "## HPL            160\n",
    "## MWS            211\n",
    "```\n",
    "\n",
    "2. Utiliser `pywaffle` pour obtenir les graphiques ci-dessous qui résument\n",
    "de manière synthétique le nombre d'occurrences du mot *\"fear\"* par auteur.\n",
    "\n",
    "\n"
   ]
  },
  {
   "cell_type": "markdown",
<<<<<<< HEAD
<<<<<<< HEAD
   "id": "4f04e05a",
=======
   "id": "7648f0c4",
>>>>>>> master
=======
   "id": "ddbc9676",
>>>>>>> master
   "metadata": {},
   "source": [
    "3. Refaire l'analyse avec le mot *\"horror\"*. \n",
    "\n"
   ]
  },
  {
   "cell_type": "markdown",
<<<<<<< HEAD
<<<<<<< HEAD
   "id": "6390cfb2",
=======
   "id": "1d17258c",
>>>>>>> master
=======
   "id": "ce2867b8",
>>>>>>> master
   "metadata": {},
   "source": [
    "La peur est ainsi plus évoquée par Mary Shelley\n",
    "(sentiment assez naturel face à la créature du docteur Frankenstein) alors\n",
    "que Lovecraft n'a pas volé sa réputation d'écrivain de l'horreur !"
   ]
  },
  {
   "cell_type": "markdown",
<<<<<<< HEAD
<<<<<<< HEAD
   "id": "d25e1a1c",
=======
   "id": "dc141fdc",
>>>>>>> master
=======
   "id": "75307140",
>>>>>>> master
   "metadata": {},
   "source": [
    "## Premier *wordcloud*\n",
    "\n",
    "Pour aller plus loin dans l'analyse du champ lexical de chaque auteur,\n",
    "on peut représenter un `wordcloud` qui permet d'afficher chaque mot avec une\n",
    "taille proportionnelle au nombre d'occurrence de celui-ci."
   ]
  },
  {
   "cell_type": "markdown",
<<<<<<< HEAD
<<<<<<< HEAD
   "id": "0bf0990a",
=======
   "id": "b04c204c",
>>>>>>> master
=======
   "id": "121ff5e1",
>>>>>>> master
   "metadata": {},
   "source": [
    "**Exercice 3 : Wordcloud** \n",
    "\n",
    "1. En utilisant la fonction `wordCloud`, faire trois nuages de mot pour représenter les mots les plus utilisés par chaque auteur.\n",
    "\n",
    "\n"
   ]
  },
  {
   "cell_type": "markdown",
<<<<<<< HEAD
<<<<<<< HEAD
   "id": "67eb3f80",
=======
   "id": "d2e94818",
>>>>>>> master
=======
   "id": "b52123e2",
>>>>>>> master
   "metadata": {},
   "source": [
    "2. Calculer les 25 mots plus communs pour chaque auteur et représenter les trois histogrammes des décomptes. \n",
    "\n"
   ]
  },
  {
   "cell_type": "markdown",
<<<<<<< HEAD
<<<<<<< HEAD
   "id": "c5f8f15d",
=======
   "id": "63a4d5fc",
>>>>>>> master
=======
   "id": "ab24b78d",
>>>>>>> master
   "metadata": {},
   "source": [
    "On voit ici que ce sont des mots communs, comme *\"the\"*, *\"of\"*, etc. sont très\n",
    "présents. Mais ils sont peu porteurs d'information, on peut donc les éliminer\n",
    "avant de faire une analyse syntaxique poussée.\n",
    "Ceci est une démonstration par l'exemple qu'il vaut mieux nettoyer le texte avant de \n",
    "l'analyser (sauf si on est intéressé\n",
    "par la loi de Zipf, cf. exercice suivant).\n",
    "\n"
   ]
  },
  {
   "cell_type": "markdown",
<<<<<<< HEAD
<<<<<<< HEAD
   "id": "f14292a3",
=======
   "id": "d461656b",
>>>>>>> master
=======
   "id": "ab242c4d",
>>>>>>> master
   "metadata": {},
   "source": [
    "## Aparté: la loi de Zipf\n",
    "\n",
    "Dans son sens strict, la loi de Zipf prévoit que\n",
    "dans un texte donné, la fréquence d'occurrence $f(n_i)$ d'un mot est\n",
    "liée à son rang $n_i$ dans l'ordre des fréquences par une loi de la forme\n",
    "$f(n_i) = c/n_i$ où $c$ est une constante. Zipf, dans les années 1930, se basait sur l'oeuvre \n",
    "de Joyce, *Ulysse* pour cette affirmation. \n",
    "\n",
    "Plus généralement, on peut dériver la loi de Zipf d'une distribution exponentielle des fréquences: $f(n_i) = cn_{i}^{-k}$. Cela permet d'utiliser la famille des modèles linéaires généralisés, notamment les régressions poissonniennes, pour mesurer les paramètres de la loi. Les modèles linéaire traditionnels en `log` souffrent en effet, dans ce contexte, de biais (la loi de Zipf est un cas particulier d'un modèle gravitaire, où appliquer des OLS est une mauvaise idée, cf. [Galiana et al. (2020)](https://linogaliana.netlify.app/publication/2020-segregation/) pour les limites).\n",
    "\n",
    "On va estimer le modèle suivant par GLM via `statsmodels`:\n",
    "\n",
    "$$\n",
    "\\mathbb{E}\\bigg( f(n_i)|n_i \\bigg) = \\exp(\\beta_0 + \\beta_1 \\log(n_i))\n",
    "$$\n",
    "\n",
    "Prenons les résultats de l'exercice précédent et enrichissons les du rang et de la fréquence d'occurrence d'un mot : \n",
    "\n",
    "<!-- source : https://stackoverflow.com/questions/23377108/pandas-percentage-of-total-with-groupby -->\n"
   ]
  },
  {
   "cell_type": "code",
   "execution_count": null,
<<<<<<< HEAD
<<<<<<< HEAD
   "id": "d23aae42",
=======
   "id": "266108bd",
>>>>>>> master
=======
   "id": "5293e144",
>>>>>>> master
   "metadata": {
    "lines_to_next_cell": 2
   },
   "outputs": [],
   "source": [
    "count_words = pd.DataFrame({'counter' : train\n",
    "    .groupby('Author')\n",
    "    .apply(lambda s: ' '.join(s['Text']).split())\n",
    "    .apply(lambda s: Counter(s))\n",
    "    .apply(lambda s: s.most_common())\n",
    "    .explode()}\n",
    ")\n",
    "count_words[['word','count']] = pd.DataFrame(count_words['counter'].tolist(), index=count_words.index)\n",
    "count_words = count_words.reset_index()\n",
    "\n",
    "count_words = count_words.assign(\n",
    "    tot_mots_auteur = lambda x: (x.groupby(\"Author\")['count'].transform('sum')),\n",
    "    freq = lambda x: x['count'] /  x['tot_mots_auteur'],\n",
    "    rank = lambda x: x.groupby(\"Author\")['count'].transform('rank', ascending = False)\n",
    ")"
   ]
  },
  {
   "cell_type": "code",
   "execution_count": null,
<<<<<<< HEAD
<<<<<<< HEAD
   "id": "358f9dbf",
=======
   "id": "cd734065",
>>>>>>> master
=======
   "id": "d7a9fcbe",
>>>>>>> master
   "metadata": {
    "lines_to_next_cell": 0
   },
   "outputs": [],
   "source": [
    "g = sns.lmplot(y = \"freq\", x = \"rank\", hue = 'Author', data = count_words, fit_reg = False)\n",
    "g.set(xscale=\"log\", yscale=\"log\")\n",
    "g"
   ]
  },
  {
   "cell_type": "markdown",
<<<<<<< HEAD
<<<<<<< HEAD
   "id": "620b61fa",
=======
   "id": "d15f0bc1",
>>>>>>> master
=======
   "id": "19ad47c5",
>>>>>>> master
   "metadata": {},
   "source": [
    "\n",
    "\n",
    "\n",
    "\n"
   ]
  },
  {
   "cell_type": "code",
   "execution_count": null,
<<<<<<< HEAD
<<<<<<< HEAD
   "id": "5467b2f0",
=======
   "id": "ae27857a",
>>>>>>> master
=======
   "id": "56d8a279",
>>>>>>> master
   "metadata": {},
   "outputs": [],
   "source": [
    "import statsmodels.api as sm\n",
    "\n",
    "\n",
    "exog = sm.add_constant(np.log(count_words['rank'].astype(float)))\n",
    "\n",
    "model = sm.GLM(count_words['freq'].astype(float), exog, family = sm.families.Poisson()).fit()\n",
    "\n",
    "# Afficher les résultats du modèle\n",
    "print(model.summary())"
   ]
  },
  {
   "cell_type": "markdown",
<<<<<<< HEAD
<<<<<<< HEAD
   "id": "297391e5",
=======
   "id": "5c0511c3",
>>>>>>> master
=======
   "id": "b2c6183d",
>>>>>>> master
   "metadata": {},
   "source": [
    "<!-- TO BE COMPLETED -->\n"
   ]
  },
  {
   "cell_type": "markdown",
<<<<<<< HEAD
<<<<<<< HEAD
   "id": "002bff47",
=======
   "id": "68bed3b8",
>>>>>>> master
=======
   "id": "190ac90b",
>>>>>>> master
   "metadata": {},
   "source": [
    "## Nettoyage d'un texte\n",
    "\n",
    "Les premières étapes dans le nettoyage d'un texte, qu'on a\n",
    "développé au cours du [chapitre précédent](#nlp), sont :\n",
    "\n",
    "* suppression de la ponctuation\n",
    "* suppression des *stopwords*\n",
    "\n",
    "Cela passe par la tokenisation d'un texte, c'est-à-dire la décomposition\n",
    "de celui-ci en unités lexicales (les *tokens*). Ces unités lexicales peuvent être de différentes natures, selon l'analyse que l'on désire mener. Ici, on va définir les tokens comme étant les mots utilisés.\n",
    "\n",
    "Plutôt que de faire soi-même ce travail de nettoyage, avec des fonctions mal optimisées, on peut utiliser la librairie `nltk` comme détaillé [précédemment](#nlp). \n"
   ]
  },
  {
   "cell_type": "markdown",
<<<<<<< HEAD
<<<<<<< HEAD
   "id": "53ac02a2",
=======
   "id": "23808957",
>>>>>>> master
=======
   "id": "4524957d",
>>>>>>> master
   "metadata": {},
   "source": [
    "**Exercice 4 : Nettoyage du texte** \n",
    "\n",
<<<<<<< HEAD
    "Repartir de `train`, notre jeu de données d'entraînement. Pour rappel, `train` a la structure suivante:\n"
   ]
  },
  {
   "cell_type": "code",
   "execution_count": null,
<<<<<<< HEAD
   "id": "6084e549",
=======
   "id": "12800d07",
>>>>>>> master
   "metadata": {},
   "outputs": [],
   "source": [
    "train.head(2)"
=======
    "Repartir de `train`, notre jeu de données d'entraînement. Pour rappel, `train` a la structure suivante:"
>>>>>>> master
   ]
  },
  {
   "cell_type": "markdown",
<<<<<<< HEAD
<<<<<<< HEAD
   "id": "570ae5d3",
=======
   "id": "4d6e626e",
>>>>>>> master
=======
   "id": "32b7293f",
>>>>>>> master
   "metadata": {},
   "source": [
    "```\n",
    "##                                                       Text  ... wordtoplot\n",
    "## Id                                                          ...           \n",
    "## id26305  This process, however, afforded me no means of...  ...          0\n",
    "## id17569  It never once occurred to me that the fumbling...  ...          0\n",
    "## \n",
    "## [2 rows x 4 columns]\n",
    "```\n",
    "\n",
    "1. Tokeniser chaque phrase avec `nltk`. Le `DataFrame` devrait maintenant avoir cet aspect :"
   ]
  },
  {
   "cell_type": "markdown",
<<<<<<< HEAD
<<<<<<< HEAD
   "id": "e3cf4183",
=======
   "id": "d4d58c16",
>>>>>>> master
=======
   "id": "01a4c5a0",
>>>>>>> master
   "metadata": {},
   "source": [
    "```\n",
    "## ID     Author\n",
    "## 00001  MWS       [Idris, was, well, content, with, this, resolv...\n",
    "## 00002  HPL       [I, was, faint, even, fainter, than, the, hate...\n",
    "## dtype: object\n",
    "```\n",
    "\n",
    "2. Retirer les stopwords avec `nltk`.\n",
    "\n"
   ]
  },
  {
   "cell_type": "markdown",
<<<<<<< HEAD
<<<<<<< HEAD
   "id": "20ac2ff8",
=======
   "id": "c1fff0c0",
>>>>>>> master
=======
   "id": "5f4554c3",
>>>>>>> master
   "metadata": {},
   "source": [
    "La méthode `apply` est très pratique ici car nous avons une phrase par ligne. Plutôt que de faire un `DataFrame` par auteur, ce qui n'est pas une approche très flexible, on peut directement appliquer la tokenisation\n",
    "sur notre `DataFrame` grâce à `apply`, sans le diviser.\n",
    "\n",
<<<<<<< HEAD
    "Ce petit nettoyage permet d'arriver à un texte plus intéressant en termes d'analyse lexicale. Par exemple, si on reproduit l'analyse précédente... :\n"
   ]
  },
  {
   "cell_type": "code",
   "execution_count": null,
<<<<<<< HEAD
   "id": "da74e40d",
=======
   "id": "0d177831",
>>>>>>> master
   "metadata": {},
   "outputs": [],
   "source": [
    "train_clean[\"Text\"] = train_clean['tokenized'].apply(lambda s: \" \".join(map(str, s)))\n",
    "\n",
    "n_topics = [\"HPL\",\"EAP\",\"MWS\"]\n",
=======
    "Ce petit nettoyage permet d'arriver à un texte plus intéressant en termes d'analyse lexicale. Par exemple, si on reproduit l'analyse précédente... :\n",
>>>>>>> master
    "\n",
    "\n",
<<<<<<< HEAD
    "    ax.imshow(wordcloud)\n",
    "    ax.axis('off')"
   ]
  },
  {
   "cell_type": "markdown",
<<<<<<< HEAD
   "id": "25b046d2",
   "metadata": {},
   "source": [
    "```\n",
    "## <matplotlib.image.AxesImage object at 0x7fb7cea35280>\n",
    "## (-0.5, 799.5, 499.5, -0.5)\n",
    "## <matplotlib.image.AxesImage object at 0x7fb7cbaa3490>\n",
    "## (-0.5, 799.5, 499.5, -0.5)\n",
    "## <matplotlib.image.AxesImage object at 0x7fb7ce7dc160>\n",
=======
   "id": "53a9f930",
   "metadata": {},
   "source": [
    "```\n",
    "## <matplotlib.image.AxesImage object at 0x7f3781f3b160>\n",
    "## (-0.5, 799.5, 499.5, -0.5)\n",
    "## <matplotlib.image.AxesImage object at 0x7f377f469490>\n",
    "## (-0.5, 799.5, 499.5, -0.5)\n",
    "## <matplotlib.image.AxesImage object at 0x7f3781112160>\n",
>>>>>>> master
    "## (-0.5, 799.5, 499.5, -0.5)\n",
    "```"
   ]
  },
  {
   "cell_type": "code",
   "execution_count": null,
<<<<<<< HEAD
   "id": "512d3d9c",
=======
   "id": "5631aedc",
>>>>>>> master
   "metadata": {
    "lines_to_next_cell": 2
   },
   "outputs": [],
   "source": [
    "fig\n",
    "plt.savefig('wordcloud2.png', bbox_inches='tight')"
=======
    "\n"
>>>>>>> master
   ]
  },
  {
   "cell_type": "markdown",
<<<<<<< HEAD
<<<<<<< HEAD
   "id": "c32de7f4",
=======
   "id": "15e97fc0",
>>>>>>> master
=======
   "id": "815591e3",
>>>>>>> master
   "metadata": {},
   "source": [
    "Pour aller plus loin dans l'harmonisation d'un texte, il est possible de\n",
    "mettre en place les classes d'équivalence développées dans la \n",
    "[partie précédente](#nlp) afin de remplacer différentes variations d'un même\n",
    "mot par une forme canonique :\n",
    "\n",
    "* la **racinisation** (*stemming*) assez fruste mais rapide, notamment\n",
    "en présence de fautes d’orthographe. Dans ce cas, chevaux peut devenir chev\n",
    "mais être ainsi confondu avec chevet ou cheveux. Elles est généralement plus simple à mettre en oeuvre, quoique\n",
    "plus fruste. \n",
    "\n",
    "* la **lemmatisation** qui requiert la connaissance des statuts\n",
    "grammaticaux (exemple : chevaux devient cheval).\n",
    "Elle est mise en oeuvre, comme toujours avec `nltk`, à travers un\n",
    "modèle. En l'occurrence, un `WordNetLemmatizer`  (WordNet est une base\n",
    "lexicographique ouverte). Par exemple, les mots *\"women\"*, *\"daughters\"*\n",
    "et *\"leaves\"* seront ainsi lemmatisés de la manière suivante :\n"
   ]
  },
  {
   "cell_type": "code",
   "execution_count": null,
<<<<<<< HEAD
<<<<<<< HEAD
   "id": "c9048e2f",
=======
   "id": "3e7475f9",
>>>>>>> master
=======
   "id": "1755cd35",
>>>>>>> master
   "metadata": {},
   "outputs": [],
   "source": [
    "from nltk.stem import WordNetLemmatizer\n",
    "lemm = WordNetLemmatizer()\n",
    "\n",
    "for word in [\"women\",\"daughters\", \"leaves\"]:\n",
    "    print(\"The lemmatized form of %s is: {}\".format(lemm.lemmatize(word)) % word)"
   ]
  },
  {
   "cell_type": "markdown",
<<<<<<< HEAD
<<<<<<< HEAD
   "id": "4d97ea9d",
=======
   "id": "63e8e96b",
>>>>>>> master
=======
   "id": "ba7c48fd",
>>>>>>> master
   "metadata": {},
   "source": [
    "```\n",
    "## The lemmatized form of women is: woman\n",
    "## The lemmatized form of daughters is: daughter\n",
    "## The lemmatized form of leaves is: leaf\n",
    "```\n",
    "\n",
    "Pour disposer du corpus nécessaire à la lemmatisation, il faut, la première fois,\n",
    "télécharger celui-ci grâce aux commandes suivantes:\n",
    "~~~python\n",
    "import nltk\n",
    "nltk.download('wordnet')\n",
    "~~~"
   ]
  },
  {
   "cell_type": "markdown",
<<<<<<< HEAD
<<<<<<< HEAD
   "id": "362365e1",
=======
   "id": "48cfc67c",
>>>>>>> master
=======
   "id": "c507dce2",
>>>>>>> master
   "metadata": {},
   "source": [
    "**Exercice 5 : Lemmatisation avec `nltk` et `spaCy`** \n",
    "\n",
    "On va se restreindre au corpus d'Edgar Allan Poe et repartir de la base de données\n",
    "brute :\n"
   ]
  },
  {
   "cell_type": "code",
   "execution_count": null,
<<<<<<< HEAD
<<<<<<< HEAD
   "id": "ff9dad9d",
=======
   "id": "1578a4ef",
>>>>>>> master
=======
   "id": "9182d6ed",
>>>>>>> master
   "metadata": {},
   "outputs": [],
   "source": [
    "eap_clean = train[train[\"Author\"] == \"EAP\"]\n",
    "eap_clean = ' '.join(eap_clean['Text'])\n",
    "#Tokenisation naïve sur les espaces entre les mots => on obtient une liste de mots\n",
    "#tokens = eap_clean.split()\n",
    "word_list = nltk.word_tokenize(eap_clean)"
   ]
  },
  {
   "cell_type": "markdown",
<<<<<<< HEAD
<<<<<<< HEAD
   "id": "2c0044cc",
=======
   "id": "2cdf46eb",
>>>>>>> master
=======
   "id": "42652919",
>>>>>>> master
   "metadata": {},
   "source": [
    "Utiliser un `WordNetLemmatizer` et observer le résultat.\n",
    "\n",
    "\n"
   ]
  },
  {
   "cell_type": "markdown",
<<<<<<< HEAD
<<<<<<< HEAD
   "id": "486e4ae6",
=======
   "id": "0c92a5f8",
>>>>>>> master
=======
   "id": "7fb6c133",
>>>>>>> master
   "metadata": {},
   "source": [
    "## TF-IDF: calcul de fréquence\n",
    "\n",
    "Le calcul [tf-idf](https://fr.wikipedia.org/wiki/TF-IDF) (term frequency–inverse document frequency) permet de calculer un score de proximité entre un terme de recherche et un document (c'est ce que font les moteurs de recherche). \n",
    "\n",
    "* La partie `tf` calcule une fonction croissante de la fréquence du terme de recherche dans le document à l'étude ;\n",
    "* La partie `idf` calcule une fonction inversement proportionnelle à la fréquence du terme dans l'ensemble des documents (ou corpus).\n",
    "\n",
    "Le score total, obtenu en multipliant les deux composantes, permet ainsi de donner un score d'autant plus élevé que le terme est surréprésenté dans un document (par rapport à l'ensemble des documents). Il existe plusieurs fonctions, qui pénalisent plus ou moins les documents longs, ou qui sont plus ou moins *smooth*.\n"
   ]
  },
  {
   "cell_type": "markdown",
<<<<<<< HEAD
<<<<<<< HEAD
   "id": "ac28d9a3",
=======
   "id": "81db056d",
>>>>>>> master
=======
   "id": "f236a00e",
>>>>>>> master
   "metadata": {},
   "source": [
    "**Exercice 6 : TF-IDF: calcul de fréquence** \n",
    "\n",
    "1. Utiliser le vectoriseur TfIdF de `scikit-learn` pour transformer notre corpus en une matrice `document x terms`. Au passage, utiliser l'option `stop_words` pour ne pas provoquer une inflation de la taille de la matrice. Nommer le modèle `tfidf` et le jeu entraîné `tfs`.\n"
   ]
  },
  {
   "cell_type": "markdown",
<<<<<<< HEAD
<<<<<<< HEAD
   "id": "a688b28c",
=======
   "id": "e8d404fc",
>>>>>>> master
=======
   "id": "b03551bc",
>>>>>>> master
   "metadata": {},
   "source": [
    "2. Après avoir construit la matrice de documents x terms avec le code suivant, rechercher les lignes où les termes ayant la structure `abandon` sont non-nuls. \n"
   ]
  },
  {
<<<<<<< HEAD
   "cell_type": "code",
   "execution_count": null,
<<<<<<< HEAD
   "id": "a8d5a4b4",
=======
   "id": "a32fe625",
>>>>>>> master
=======
   "cell_type": "markdown",
   "id": "004f07a8",
>>>>>>> master
   "metadata": {},
   "source": [
    "Les lignes sont les suivantes :"
   ]
  },
  {
   "cell_type": "markdown",
<<<<<<< HEAD
<<<<<<< HEAD
   "id": "7bd7280c",
=======
   "id": "84400fed",
>>>>>>> master
=======
   "id": "8940039d",
>>>>>>> master
   "metadata": {},
   "source": [
    "```\n",
    "## Int64Index([    4,   116,   215,   571,   839,  1042,  1052,  1069,  2247,\n",
    "##              2317,  2505,  3023,  3058,  3245,  3380,  3764,  3886,  4425,\n",
    "##              5289,  5576,  5694,  6812,  7500,  9013,  9021,  9077,  9560,\n",
    "##             11229, 11395, 11451, 11588, 11827, 11989, 11998, 12122, 12158,\n",
    "##             12189, 13666, 15259, 16516, 16524, 16759, 17547, 18019, 18072,\n",
    "##             18126, 18204, 18251],\n",
    "##            dtype='int64')\n",
    "```\n",
    "\n",
    "```\n",
    "##      aaem   ab  aback  abaft   abandon  ...  zopyrus  zorry  zubmizzion  zuro   á¼\n",
    "## 4     0.0  0.0    0.0    0.0  0.000000  ...      0.0    0.0         0.0   0.0  0.0\n",
    "## 116   0.0  0.0    0.0    0.0  0.000000  ...      0.0    0.0         0.0   0.0  0.0\n",
    "## 215   0.0  0.0    0.0    0.0  0.235817  ...      0.0    0.0         0.0   0.0  0.0\n",
    "## 571   0.0  0.0    0.0    0.0  0.000000  ...      0.0    0.0         0.0   0.0  0.0\n",
    "## 839   0.0  0.0    0.0    0.0  0.285886  ...      0.0    0.0         0.0   0.0  0.0\n",
    "## \n",
    "## [5 rows x 24937 columns]\n",
    "```\n",
    "\n",
<<<<<<< HEAD
    "Les lignes sont les suivantes :\n"
   ]
  },
  {
   "cell_type": "markdown",
<<<<<<< HEAD
   "id": "5e21f585",
=======
   "id": "72277e02",
>>>>>>> master
   "metadata": {},
   "source": [
    "3. Trouver les 50 extraits où le score TF-IDF est le plus élevé et l'auteur associé. Vous devriez obtenir le classement suivant:\n"
=======
    "3. Trouver les 50 extraits où le score TF-IDF est le plus élevé et l'auteur associé. Vous devriez obtenir le classement suivant:"
>>>>>>> master
   ]
  },
  {
   "cell_type": "markdown",
<<<<<<< HEAD
<<<<<<< HEAD
   "id": "a0a30801",
=======
   "id": "8d8e33af",
>>>>>>> master
=======
   "id": "ffdfb0a0",
>>>>>>> master
   "metadata": {},
   "source": [
    "```\n",
    "## Author\n",
    "## MWS    22\n",
    "## HPL    15\n",
    "## EAP    13\n",
    "## Name: Text, dtype: int64\n",
    "```\n",
    "\n",
    "Les 10 scores les plus élevés sont les suivants :"
   ]
  },
  {
   "cell_type": "markdown",
<<<<<<< HEAD
<<<<<<< HEAD
   "id": "81d87b78",
=======
   "id": "bc773db7",
>>>>>>> master
=======
   "id": "bae184c4",
>>>>>>> master
   "metadata": {},
   "source": [
    "```\n",
    "## ['We could not fear we did not.' '\"And now I do not fear death.'\n",
    "##  'Be of heart and fear nothing.' 'I smiled, for what had I to fear?'\n",
    "##  'Indeed I had no fear on her account.'\n",
    "##  'I have not the slightest fear for the result.'\n",
    "##  'At length, in an abrupt manner she asked, \"Where is he?\" \"O, fear not,\" she continued, \"fear not that I should entertain hope Yet tell me, have you found him?'\n",
    "##  '\"I fear you are right there,\" said the Prefect.'\n",
    "##  'I went down to open it with a light heart, for what had I now to fear?']\n",
    "```"
   ]
  },
  {
   "cell_type": "markdown",
<<<<<<< HEAD
<<<<<<< HEAD
   "id": "60c8d5c1",
=======
   "id": "5ab2c9ae",
>>>>>>> master
=======
   "id": "61f28679",
>>>>>>> master
   "metadata": {},
   "source": [
    "On remarque que les scores les plus élévés sont soient des extraits courts où le mot apparait une seule fois, soit des extraits plus longs où le mot fear apparaît plusieurs fois."
   ]
  },
  {
   "cell_type": "markdown",
<<<<<<< HEAD
<<<<<<< HEAD
   "id": "c45e1374",
=======
   "id": "270605c1",
>>>>>>> master
=======
   "id": "a4066f44",
>>>>>>> master
   "metadata": {},
   "source": [
    "La matrice `document x terms` est un exemple typique de matrice sparse puisque, dans des corpus volumineux, une grande diversité de vocabulaire peut être trouvée.  "
   ]
  },
  {
   "cell_type": "markdown",
<<<<<<< HEAD
<<<<<<< HEAD
   "id": "d0af8108",
=======
   "id": "7cb372b9",
>>>>>>> master
=======
   "id": "4d143168",
>>>>>>> master
   "metadata": {},
   "source": [
    "## Approche contextuelle: les *n-gramms*\n",
    "\n",
    "Pour être en mesure de mener cette analyse, il est nécessaire de télécharger un corpus supplémentaire :\n",
    "\n"
   ]
  },
  {
   "cell_type": "code",
   "execution_count": null,
<<<<<<< HEAD
<<<<<<< HEAD
   "id": "2fb2b77b",
=======
   "id": "7dcbaf99",
>>>>>>> master
=======
   "id": "896f15b7",
>>>>>>> master
   "metadata": {},
   "outputs": [],
   "source": [
    "import nltk\n",
    "nltk.download('genesis')"
   ]
  },
  {
   "cell_type": "markdown",
<<<<<<< HEAD
<<<<<<< HEAD
   "id": "e2095d9c",
=======
   "id": "02cdc855",
>>>>>>> master
=======
   "id": "0c6a433d",
>>>>>>> master
   "metadata": {},
   "source": [
    "```\n",
    "## True\n",
    "## \n",
    "## [nltk_data] Downloading package genesis to /github/home/nltk_data...\n",
    "## [nltk_data]   Package genesis is already up-to-date!\n",
    "```"
   ]
  },
  {
   "cell_type": "code",
   "execution_count": null,
<<<<<<< HEAD
<<<<<<< HEAD
   "id": "946c0889",
=======
   "id": "da0c5fc2",
>>>>>>> master
=======
   "id": "780b8a8f",
>>>>>>> master
   "metadata": {},
   "outputs": [],
   "source": [
    "nltk.corpus.genesis.words('english-web.txt')"
   ]
  },
  {
   "cell_type": "markdown",
<<<<<<< HEAD
<<<<<<< HEAD
   "id": "1bba4b21",
=======
   "id": "1bce6794",
>>>>>>> master
=======
   "id": "04e6f6b6",
>>>>>>> master
   "metadata": {},
   "source": [
    "```\n",
    "## ['In', 'the', 'beginning', 'God', 'created', 'the', ...]\n",
    "```"
   ]
  },
  {
   "cell_type": "markdown",
<<<<<<< HEAD
<<<<<<< HEAD
   "id": "ba282461",
=======
   "id": "a4411035",
>>>>>>> master
=======
   "id": "50a038e4",
>>>>>>> master
   "metadata": {},
   "source": [
    "Il s'agit maintenant de raffiner l'analyse. \n",
    "\n",
    "On s'intéresse non seulement aux mots et à leur fréquence, mais aussi aux mots qui suivent. Cette approche est essentielle pour désambiguiser les homonymes. Elle permet aussi d'affiner les modèles \"bag-of-words\". Le calcul de n-grams (bigrams pour les co-occurences de mots deux-à-deux, tri-grams pour les co-occurences trois-à-trois, etc.) constitue la méthode la plus simple pour tenir compte du contexte."
   ]
  },
  {
   "cell_type": "markdown",
<<<<<<< HEAD
<<<<<<< HEAD
   "id": "3218eb15",
=======
   "id": "0aceafd8",
>>>>>>> master
=======
   "id": "64426eb5",
>>>>>>> master
   "metadata": {},
   "source": [
    "`nltk` offre des methodes pour tenir compte du contexte : pour ce faire, nous calculons les n-grams, c'est-à-dire l'ensemble des co-occurrences successives de mots n-à-n.  En général, on se contente de bi-grams, au mieux de tri-grams :\n",
    "\n",
    "* les modèles de classification, analyse du sentiment, comparaison de documents, etc. qui comparent des n-grams avec n trop grands sont rapidement confrontés au problème de données sparse, cela réduit la capacité prédictive des modèles ;\n",
    "* les performances décroissent très rapidement en fonction de n, et les coûts de stockage des données augmentent rapidement (environ n fois plus élevé que la base de données initiale).\n"
   ]
  },
  {
   "cell_type": "markdown",
<<<<<<< HEAD
<<<<<<< HEAD
   "id": "9f5be1b2",
=======
   "id": "528e3de6",
>>>>>>> master
=======
   "id": "670c3295",
>>>>>>> master
   "metadata": {},
   "source": [
    "**Exercice 7  : n-grams et contexte du mot fear** \n",
    "\n",
    "On va, rapidement, regarder dans quel contexte apparaît le mot `fear` dans\n",
    "l'oeuvre d'Edgar Allan Poe (EAP). Pour cela, on transforme d'abord\n",
    "le corpus EAP en tokens `nltk` : \n"
   ]
  },
  {
<<<<<<< HEAD
   "cell_type": "code",
   "execution_count": null,
<<<<<<< HEAD
   "id": "8cf75424",
=======
   "id": "fb360214",
>>>>>>> master
   "metadata": {},
   "outputs": [],
   "source": [
    "eap_clean = train_clean[train_clean[\"Author\"] == \"EAP\"]\n",
    "eap_clean = ' '.join(eap_clean['Text'])\n",
    "#Tokenisation naïve sur les espaces entre les mots => on obtient une liste de mots\n",
    "tokens = eap_clean.split()\n",
    "print(tokens[:10])"
   ]
  },
  {
   "cell_type": "markdown",
<<<<<<< HEAD
   "id": "e8a7e192",
=======
   "id": "1f6e68af",
>>>>>>> master
   "metadata": {},
   "source": [
    "```\n",
    "## ['Above', 'I', 'burn', 'know', 'incidents', 'passage', 'dark', 'Valley', 'Shadow', 'He']\n",
    "```"
   ]
  },
  {
   "cell_type": "code",
   "execution_count": null,
<<<<<<< HEAD
   "id": "c7136093",
=======
   "id": "1499df4b",
>>>>>>> master
=======
   "cell_type": "markdown",
   "id": "a8ae4dc7",
>>>>>>> master
   "metadata": {},
   "source": [
    "1. Utiliser la méthode `concordance` pour afficher le contexte dans lequel apparaît le terme `fear`. La liste devrait ressembler à celle-ci:"
   ]
  },
  {
   "cell_type": "markdown",
<<<<<<< HEAD
<<<<<<< HEAD
   "id": "9350047a",
=======
   "id": "f35ed1be",
>>>>>>> master
=======
   "id": "e7b59d1d",
>>>>>>> master
   "metadata": {},
   "source": [
    "```\n",
    "## Exemples d'occurences du terme 'fear' :\n",
    "```\n",
    "\n",
    "```\n",
    "## Displaying 24 of 24 matches:\n",
    "## lady seventy years age heard express fear never see Marie observation attracte\n",
    "## ingly well I went open light heart I fear The fact business simple indeed I ma\n",
    "##  Geneva seemed resolved give scruple fear wind No one spoken frequenting house\n",
    "## d propeller must entirely remodelled fear serious accident I mean steel rod va\n",
    "## ud rose amazing velocity I slightest fear result He proceeded observing analyz\n",
    "## His third contempt ambition Indeed I fear account The ceiling gloomy looking o\n",
    "## dverted blush extreme recency date I fear right said Prefect This could refast\n",
    "## loud quick unequal spoken apparently fear well anger three four quite right Sa\n",
    "## oughts Question Oinos freely without fear No path trodden vicinity reach happy\n",
    "## ick darkness shutters close fastened fear robbers I knew could see opening doo\n",
    "## ible game antagonist I even went far fear I occasioned much trouble might glad\n",
    "## dame could easily enter unobserved I fear mesmerized adding immediately afterw\n",
    "## here poodle Perhaps said I Legrand I fear artist In left hand little heavy Dut\n",
    "##  strong relish physical philosophy I fear tinctured mind common error age I me\n",
    "## ripods expired The replied entered I fear unusual horror thing The rudder ligh\n",
    "## rdiality In second place impressed I fear indeed impossible make comprehended \n",
    "##  spades whole insisted upon carrying fear seemed trusting either implements wi\n",
    "## ind dreaded whip instantly converted fear This prison like rampart formed limi\n",
    "##  I started hourly dreams unutterable fear find hot breath thing upon face vast\n",
    "## ers deputed search premises Be heart fear nothing I removed bed examined corps\n",
    "##  looked stiff rolled eyes I smiled I fear My first idea mere surprise really r\n",
    "## g memory long time awaking slumber I fear I shall never see Marie But imagine \n",
    "## et lonely I watched minutes somewhat fear wonder The one wrote Jeremiad usury \n",
    "## d garments muddy clotted gore I much fear replied Monsieur Maillard becoming e\n",
    "```\n",
    "\n",
<<<<<<< HEAD
    "1. Utiliser la méthode `concordance` pour afficher le contexte dans lequel apparaît le terme `fear`. La liste devrait ressembler à celle-ci:\n"
   ]
  },
  {
   "cell_type": "markdown",
<<<<<<< HEAD
   "id": "9335e61b",
=======
   "id": "b294a490",
>>>>>>> master
   "metadata": {},
   "source": [
=======
>>>>>>> master
    "Même si on peut facilement voir le mot avant et après, cette liste est assez difficile à interpréter car elle recoupe beaucoup d'information. \n",
    "\n",
    "La `collocation` consiste à trouver les bi-grammes qui\n",
    "apparaissent le plus fréquemment ensemble. Parmi toutes les paires de deux mots observées, il s'agit de sélectionner, à partir d'un modèle statistique, les \"meilleures\". \n",
    "\n",
    "2. Sélectionner et afficher les meilleures collocation, par exemple selon le critère du ratio de vraisemblance. \n",
    "\n",
    "Vous aurez besoin des fonctions ` BigramCollocationFinder.from_words` et `BigramAssocMeasures.likelihood_ratio` : \n"
   ]
  },
  {
   "cell_type": "code",
   "execution_count": null,
<<<<<<< HEAD
<<<<<<< HEAD
   "id": "e1d40ec0",
=======
   "id": "b7eb9d58",
>>>>>>> master
=======
   "id": "5aac0270",
>>>>>>> master
   "metadata": {},
   "outputs": [],
   "source": [
    "from nltk.collocations import BigramCollocationFinder\n",
    "from nltk.metrics import BigramAssocMeasures"
   ]
  },
  {
   "cell_type": "markdown",
<<<<<<< HEAD
<<<<<<< HEAD
   "id": "a8eb8c75",
=======
   "id": "4d7859d5",
>>>>>>> master
=======
   "id": "32d1bd55",
>>>>>>> master
   "metadata": {},
   "source": [
    "<!-- Une approche ingénue de la `collocation` amène ainsi à considérer les mots suivants :  -->\n",
    "\n",
    "\n"
   ]
  },
  {
   "cell_type": "markdown",
<<<<<<< HEAD
<<<<<<< HEAD
   "id": "19e63c1a",
=======
   "id": "eee1d4c6",
>>>>>>> master
=======
   "id": "08213d68",
>>>>>>> master
   "metadata": {},
   "source": [
    "Lorsque deux mots sont fortement associés, cela est parfois dû au fait qu'ils apparaissent rarement. Il est donc parfois nécessaire d'appliquer des filtres, par exemple ignorer les bigrammes qui apparaissent moins de 5 fois dans le corpus.\n",
    "\n",
    "3. Refaire la question précédente en utilisant toujours un modèle `BigramCollocationFinder` suivi de la méthode `apply_freq_filter` pour ne conserver que les bigrammes présents au moins 5 fois. Puis, au lieu d'utiliser la méthode de maximum de vraisemblance, testez la méthode `nltk.collocations.BigramAssocMeasures().jaccard`.\n"
   ]
  },
  {
   "cell_type": "markdown",
<<<<<<< HEAD
<<<<<<< HEAD
   "id": "41285b2f",
=======
   "id": "d2a58e53",
>>>>>>> master
=======
   "id": "c34c8261",
>>>>>>> master
   "metadata": {},
   "source": [
    "Cette liste a un peu plus de sens, on a des noms de personnages, de lieux mais aussi des termes fréquemment employés ensemble (*Chess Player* par exemple).\n",
    "\n",
    "4. Ne s'intéresser qu'aux *collocations* qui concernent le mot *fear*\n"
   ]
  },
  {
   "cell_type": "markdown",
<<<<<<< HEAD
<<<<<<< HEAD
   "id": "415b11e8",
=======
   "id": "8db72216",
>>>>>>> master
=======
   "id": "3a1f7238",
>>>>>>> master
   "metadata": {},
   "source": [
    "Si on mène la même analyse pour le terme *love*, on remarque que de manière logique, on retrouve bien des sujets généralement accolés au verbe :"
   ]
  },
  {
   "cell_type": "markdown",
<<<<<<< HEAD
<<<<<<< HEAD
   "id": "b06aee4a",
=======
   "id": "01d95d3a",
>>>>>>> master
=======
   "id": "9da0e02d",
>>>>>>> master
   "metadata": {},
   "source": [
    "```\n",
    "## [('love', 'me'), ('love', 'he'), ('will', 'love'), ('I', 'love'), ('love', ','), ('you', 'love'), ('the', 'love')]\n",
    "```\n",
    "\n",
    "\n",
    "\n"
   ]
  }
 ],
 "metadata": {
  "kernelspec": {
   "display_name": "Python 3",
   "language": "python",
   "name": "python3"
  }
 },
 "nbformat": 4,
 "nbformat_minor": 5
}
