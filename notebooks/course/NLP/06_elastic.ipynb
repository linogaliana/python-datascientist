{
 "cells": [
  {
   "cell_type": "markdown",
   "id": "fc715470",
   "metadata": {},
   "source": [
    "#  Introduction à ElasticSearch\n",
    "\n",
    "\n"
   ]
  },
  {
   "cell_type": "markdown",
   "id": "7f8e9f67",
   "metadata": {},
   "source": [
    "Pour essayer les exemples présents dans ce tutoriel : \n",
    "\n",
    "<a href=\"https://github.com/linogaliana/python-datascientist/blob/master/notebooks/course/NLP/06_elastic.ipynb\" class=\"github\"><i class=\"fab fa-github\"></i></a>\n",
    "[![nbviewer](https://img.shields.io/badge/visualize-nbviewer-blue)](https://nbviewer.jupyter.org/github/linogaliana/python-datascientist/blob/master/notebooks/course/NLP/06_elastic.ipynb)\n",
    "[![Onyxia](https://img.shields.io/badge/SSPcloud-Tester%20via%20SSP--cloud-informational&color=yellow?logo=Python)](https://datalab.sspcloud.fr/launcher/inseefrlab-helm-charts-datascience/jupyter?onyxia.friendlyName=%C2%ABpython-datascientist%C2%BB&resources.requests.memory=%C2%AB4Gi%C2%BB)\n",
    "\n",
    "Ce chapitre a été écrit avec [Milena Suarez-Castillo](https://milenasuarezcastillo.netlify.app/) \n",
    "et présente quelques éléments qui servent de base à un travail en cours\n",
    "sur les inégalités socioéconomiques dans les\n",
    "choix de consommation alimentaire.\n",
    "\n",
    "# Introduction\n",
    "\n",
    "## Réplication de ce chapitre\n",
    "\n",
    "Ce chapitre est plus exigeant en termes d'infrastructures que les précédents.\n",
    "Il nécessite un serveur Elastic. Les utilisateurs du\n",
    "[SSP Cloud](datalab.sspcloud.fr/) pourront répliquer les exemples de ce cours\n",
    "car cette technologie est disponible (que ce soit pour indexer une base ou\n",
    "pour requêter une base existante).\n",
    "\n",
    "La première partie de ce tutoriel ne nécessite pas d'architecture particulière et\n",
    "peut ainsi être exécutée en utilisant les packages suivants: \n"
   ]
  },
  {
   "cell_type": "code",
   "execution_count": null,
   "id": "87f5a969",
   "metadata": {},
   "outputs": [],
   "source": [
    "import time\n",
    "import pandas as pd"
   ]
  },
  {
   "cell_type": "markdown",
   "id": "11286c90",
   "metadata": {},
   "source": [
    "Le script `utils.py` regroupe un certain nombre de fonctions utiles\n"
   ]
  },
  {
   "cell_type": "code",
   "execution_count": null,
   "id": "467479e1",
   "metadata": {
    "lines_to_next_cell": 2
   },
   "outputs": [],
   "source": [
    "import utils"
   ]
  },
  {
   "cell_type": "markdown",
   "id": "167a3981",
   "metadata": {},
   "source": [
    "## Cas d'usage"
   ]
  },
  {
   "cell_type": "markdown",
   "id": "127f1bdd",
   "metadata": {},
   "source": [
    "Ce notebook recense et propose d'appréhender quelques outils utilisés\n",
    "pour l'étude \"Disparités territoriales de consommation d’aliments gras, salés et sucrés\", Lino Galiana, Milena Suarez Castillo, Lionel Wilner (en cours!)\n",
    "\n",
    "> Combien de calories dans ma recette de cuisine de ce soir? Combien de calories dans mes courses de la semaine?\n",
    "\n",
    "L'objectif est de reconstituer, à partir de libellés de produits, les caractéristiques nutritionnelles d'une recette.\n",
    "Le problème est que les libellés des tickets de caisse ne sont pas des champs textuels très propres, ils contiennent, \n",
    "par exemple, beaucoup d'abbréviations, toutes n'étant pas évidentes. \n",
    "\n",
    "Voici par exemple une série de noms de produits qu'on va utiliser par la suite: \n"
   ]
  },
  {
   "cell_type": "code",
   "execution_count": null,
   "id": "286d46a3",
   "metadata": {},
   "outputs": [],
   "source": [
    "ticket = ['CROISSANTS X6 400G',\n",
    "          'MAQUEREAUX MOUTAR.',\n",
    "          'IGP OC SAUVIGNON B',\n",
    "          'LAIT 1/2 ECRM UHT',\n",
    "          '6 OEUFS FRAIS LOCA',\n",
    "          'ANANAS C2',\n",
    "          'L POMME FUDJI X6 CAL 75/80 1KG ENV',\n",
    "          'PLT MIEL',\n",
    "          'STELLA ARTOIS X6',\n",
    "          'COTES DU LUBERON AIGUEBRUN 75C']"
   ]
  },
  {
   "cell_type": "markdown",
   "id": "0adfd610",
   "metadata": {},
   "source": [
    "A ces produits, s'ajoutent les ingrédients suivants, issus de la\n",
    "[recette du velouté de potiron et carottes de Marmiton](https://www.marmiton.org/recettes/recette_veloute-de-potiron-et-carottes_19009.aspx)\n",
    "qui sera notre plat principal :\n"
   ]
  },
  {
   "cell_type": "code",
   "execution_count": null,
   "id": "27f00212",
   "metadata": {},
   "outputs": [],
   "source": [
    "ingredients = ['500 g de carottes',\n",
    " '2 pommes de terre',\n",
    " \"1 gousse d'ail\",\n",
    " '1/2 l de lait',\n",
    " '1/2 l de bouillon de volaille',\n",
    " \"1 cuillère à soupe de huile d'olive\",\n",
    " '1 kg de potiron',\n",
    " '1 oignon',\n",
    " '10 cl de crème liquide (facultatif)']"
   ]
  },
  {
   "cell_type": "markdown",
   "id": "c92daedd",
   "metadata": {},
   "source": [
    "Essayer de récupérer par webscraping cette liste est un bon exercice pour réviser\n",
    "les concepts [vus précedemment](#webscraping)\n"
   ]
  },
  {
   "cell_type": "code",
   "execution_count": null,
   "id": "bf44bdd1",
   "metadata": {},
   "outputs": [],
   "source": [
    "libelles = ticket + ingredients"
   ]
  },
  {
   "cell_type": "markdown",
   "id": "1907ec36",
   "metadata": {},
   "source": [
    "On part avec cette liste dans notre supermarché virtuel. L'objectif sera de trouver\n",
    "une méthode permettant passer à l'échelle:\n",
    "automatiser les traitements, effectuer des recherches efficaces, garder une certaine généralité et flexibilité. \n",
    "\n",
    "Ce chapitre montrera par l'exemple l'intérêt d'`Elastic` par rapport à une solution \n",
    "qui n'utiliserait que du Python\n",
    "\n",
    "# Données utilisées"
   ]
  },
  {
   "cell_type": "markdown",
   "id": "87e1e295",
   "metadata": {},
   "source": [
    "## Les bases offrant des informations nutritionnelles \n",
    "\n",
    "Pour un nombre restreint de produits, on pourrait bien-sûr chercher à\n",
    "la main les caractéristiques des produits en utilisant les \n",
    "fonctionalités d'un moteur de recherche:"
   ]
  },
  {
   "cell_type": "markdown",
   "id": "8984403b",
   "metadata": {},
   "source": [
    "Cependant, cette approche serait très fastidieuse et \n",
    "nécessiterait de récuperer, à la main, chaque caractéristique\n",
    "pour chaque produit. Ce n'est donc pas envisageable.\n",
    "\n",
    "Les données disponibles sur Google viennent de l'[USDA](https://fdc.nal.usda.gov/),\n",
    "l'équivalent américain de notre Ministère de l'Agriculture. \n",
    "Cependant, pour des recettes comportant des noms de produits français, ainsi que \n",
    "des produits potentiellement transformés, ce n'est pas très pratique d'utiliser\n",
    "une base de données de produits agricoles en Français. Pour cette raison,\n",
    "nous proposons d'utiliser les deux bases suivantes, qui servent de base au travail de\n",
    "Galiana et al. (à venir)"
   ]
  },
  {
   "cell_type": "markdown",
   "id": "8dc11d45",
   "metadata": {},
   "source": [
    "* L'[OpenFoodFacts database](https://fr.openfoodfacts.org/) qui est une base française, \n",
    "collaborative de produits alimentaires. Issue d'un projet [Data4Good](https://dataforgood.fr/), il s'agit d'une \n",
    "alternative opensource et opendata à la base de données de l'application [Yuka](https://yuka.io/). \n",
    "* La table de composition nutritionnelle [Ciqual](https://ciqual.anses.fr) produite par l'Anses. Celle-ci\n",
    "propose la composition nutritionnelle _moyenne_ des aliments les plus consommés en France. Il s'agit d'une base de données\n",
    "enrichie par rapport à celle de l'USDA puisqu'elle ne se cantonne pas aux produits agricoles non transformés. \n",
    "Avec cette base, il ne s'agit pas de trouver un produit exact mais essayer de trouver un produit type proche du produit\n",
    "dont on désire connaître les caractéristiques. \n"
   ]
  },
  {
   "cell_type": "markdown",
   "id": "446690f9",
   "metadata": {},
   "source": [
    "## Import \n",
    "\n",
    "Quelques fonctions utiles sont regroupées dans le script `utils.py` et importées dans le notebook. La base OpenFood peut être récupérée en ligne (opération qui peut prendre un peu de temps, on passe ici par le stockage interne de la plateforme en spécifiant `from_latest=False`). La base ciqual, plus légère, est récupérée elle directement en ligne.\n"
   ]
  },
  {
   "cell_type": "code",
   "execution_count": null,
   "id": "5912e007",
   "metadata": {
    "lines_to_next_cell": 2
   },
   "outputs": [],
   "source": [
    "openfood = utils.import_openfood()\n",
    "ciqual = utils.import_ciqual()"
   ]
  },
  {
   "cell_type": "code",
   "execution_count": null,
   "id": "3735ff4a",
   "metadata": {},
   "outputs": [],
   "source": [
    "openfood.head()"
   ]
  },
  {
   "cell_type": "markdown",
   "id": "f40ac527",
   "metadata": {},
   "source": [
    "```\n",
    "##                       product_name  nutriscore_score  energy_100g\n",
    "## 6      moutarde au moût de raisin               18.0        936.0\n",
    "## 17       Salade de carottes râpées               1.0        134.0\n",
    "## 26              Tarte noix de coco              14.0       1594.0\n",
    "## 36                Compote de poire              -2.0        657.0\n",
    "## 40  Salade de macedoine de légumes               1.0        598.0\n",
    "```\n"
   ]
  },
  {
   "cell_type": "code",
   "execution_count": null,
   "id": "cafe356b",
   "metadata": {},
   "outputs": [],
   "source": [
    "ciqual.head()"
   ]
  },
  {
   "cell_type": "markdown",
   "id": "7b69fcfa",
   "metadata": {},
   "source": [
    "```\n",
    "##                                           alim_nom_fr Energie, Règlement UE N° 1169/2011 (kcal/100 g)\n",
    "## 5           Taboulé ou Salade de couscous, préemballé                                             179\n",
    "## 6   Salade de pomme de terre à la piémontaise, pré...                                             130\n",
    "## 9        Crudité, sans assaisonnement (aliment moyen)                                            29,9\n",
    "## 13  Salade végétale à base de boulgour et/ou quino...                                             168\n",
    "## 16  Salade de chou ou Coleslaw, avec sauce, préemb...                                             105\n",
    "```\n",
    "\n",
    "# ElasticSearch ? Mais ce n'est pas du Python ?!\n",
    "\n",
    "## Qu'est-ce qu'Elastic ? \n",
    "\n",
    "ElasticSearch c'est un logiciel qui fournit un moteur de recherche installé sur\n",
    "un serveur (ou une machine personnelle) qu'il est possible de requêter depuis un client\n",
    "(une session `Python` par exemple). C'est un moteur de recherche \n",
    "très performant, puissant et flexible, extrêmement utilisé dans le domaine de la datascience\n",
    "sur données textuelles. Un cas d'usage est par exemple de trouver,\n",
    "dans un corpus de grande dimension\n",
    "(plusieurs sites web, livres...), un certain texte en s'autorisant des termes voisins\n",
    "(verbes conjugués, fautes de frappes...).  \n",
    "\n",
    "Le principe est le même que celui d'un moteur de recherche du web comme Google. \n",
    "D'un côté, l'ensemble à parcourir est indexé (c'est-à-dire XXX) pour être en \n",
    "mesure de parcourir de manière efficace l'ensemble du corpus.\n",
    "De l'autre côté, la phase de recherche permet de retrouver l'élément du corpus le\n",
    "plus cohérent avec la requête de recherche. L'indexation consiste, par exemple,\n",
    "à pré-définir des traitements des termes du corpus pour gagner en efficacité\n",
    "lors de la phase de recherche. En effet, l'indexation est une opération peu fréquente\n",
    "par rapport à la recherche. Pour cette dernière, l'efficacité est cruciale (un site web \n",
    "qui prend plusieurs secondes à interpréter une requête simple ne sera pas utilisé). Mais, pour\n",
    "l'indexation, ceci est moins crucial. \n",
    "\n",
    "ElasticSearch propose une interface graphique nommée Kibana. Celle-ci est pratique\n",
    "pour tester des requêtes et pour superviser le serveur Elastic. Cependant,\n",
    "pour le passage à l'échelle, notamment pour mettre en lien une base indexée dans\n",
    "Elastic avec une autre source de données, les API proposées par ElasticSearch\n",
    "sont beaucoup plus pratiques. Ces API permettent de connecter une session `Python` (idem pour `R`)\n",
    "à un serveur Elastic afin de communiquer avec lui (échanger des flux via une API REST). \n",
    "\n",
    "## ElasticSearch et Python\n",
    "\n",
    "En `Python`, le package officiel est [`elasticsearch`](https://elasticsearch-py.readthedocs.io/en/v7.12.0/).\n",
    "Ce dernier permet de configurer les paramètres pour interagir avec un serveur, indexer \n",
    "une ou plusieurs bases, envoyer de manière automatisée un ensemble de requêtes\n",
    "au serveur, récupérer les résultats directement dans une session `Python`...\n",
    "\n",
    "# Limites de la distance de Levenshtein"
   ]
  },
  {
   "cell_type": "markdown",
   "id": "73d65001",
   "metadata": {},
   "source": [
    "On appelle distance de Levenshtein entre deux chaînes de caractères le coût minimal (en nombre d'opérations)\n",
    "pour transformer la première en la seconde par\n",
    "\n",
    "* substitution\n",
    "* insertion\n",
    "* suppression\n",
    "\n",
    "La distance de Levenshtein est une mesure très utilisée pour comparer la similarité entre deux\n",
    "chaînes de caractères. Il existe plusieurs packages pour calculer cette dernière. \n",
    "`fuzzywuzzy` est le plus connu mais ce dernier est assez lent (implémentation en pur `Python`).\n",
    "Le package `rapidfuzz`, présenté ici, propose les mêmes fonctionalités mais est plus rapide car implémenté\n",
    "en `C++` qui est plus efficace. \n"
   ]
  },
  {
   "cell_type": "code",
   "execution_count": null,
   "id": "611560ef",
   "metadata": {},
   "outputs": [],
   "source": [
    "import rapidfuzz # \"Rapid fuzzy string matching in Python and C++ using the Levenshtein Distance\" soit l'équivalent plus rapide de la librarie fuzzywuzzy\n",
    "[rapidfuzz.string_metric.levenshtein('salut','slut', weights =(1,1,1)), # Suppression \n",
    " rapidfuzz.string_metric.levenshtein('salut','saalut', weights =(1,1,1)), # Addition \n",
    " rapidfuzz.string_metric.levenshtein('salut','selut', weights =(1,1,1))] # Substitution"
   ]
  },
  {
   "cell_type": "markdown",
   "id": "eb84172b",
   "metadata": {},
   "source": [
    "```\n",
    "## [1, 1, 1]\n",
    "```\n",
    "\n",
    "## Produits Ciqual les plus similaires aux produits de la recette\n",
    "\n",
    "On pourrait écrire une fonction qui prend en argument une liste de libellés d'intérêt et une liste de candidat au *match* et\n",
    "renvoie le libellé le plus proche. Cependant, le risque est que cet algorithme soit relativement lent s'il n'est pas codé\n",
    "parfaitement. Il est, à mon avis, plus simple, quand\n",
    "on est habitué à la logique `pandas`, de faire un produit cartésien pour obtenir un vecteur mettant en miroir\n",
    "chaque produit de notre recette avec l'ensembles des produits Ciqual et ensuite comparer les deux vecteurs pour prendre,\n",
    "pour chaque produit, le meilleur *match*. Les bases étant de taille limitée, le produit cartésien n'est pas problématique.\n",
    "Avec des bases plus conséquentes une stratégie plus parcimonieuse en mémoire devrait être envisagée. \n",
    "\n"
   ]
  },
  {
   "cell_type": "code",
   "execution_count": null,
   "id": "9c5ab894",
   "metadata": {},
   "outputs": [],
   "source": [
    "dist_leven = utils.match_product(libelles, ciqual)"
   ]
  },
  {
   "cell_type": "markdown",
   "id": "6ff08560",
   "metadata": {},
   "source": [
    "```\n",
    "## Temps d'exécution total : 0.05 secondes ---\n",
    "```\n",
    "\n",
    "Cette première étape naïve est décevante à plusieurs égards: \n",
    "\n",
    "* Certes, on a des matches cohérent (par exemple \"Oignon rouge, cru\" et \"1 oignon\")\n",
    "mais on a plus de couples incohérents ;\n",
    "* Le temps de calcul peut apparaître faible mais le passage à l'échelle risque d'être compliqué ;\n",
    "* Les besoins mémoires sont potentiellement importants lors de l'appel à \n",
    "`rapidfuzz.process.extract` ce qui peut bloquer le passage à l'échelle\n",
    "* La distance textuelle n'est pas nécessairement la plus pertinente. \n",
    "\n",
    "On a négligé une étape importante: la normalisation (ou nettoyage des textes) présentée dans la \n",
    "partie [NLP](#nlp), notamment: \n",
    "\n",
    "* harmonisation de la casse, suppression des accents...\n",
    "* suppressions des mots outils (e.g. ici on va d'abord négliger les quantités pour trouver la nature de l'aliment, en particulier pour Ciqual)"
   ]
  },
  {
   "cell_type": "markdown",
   "id": "c57a5cbc",
   "metadata": {},
   "source": [
    "## Preprocessing pour améliorer la pertinence des matches\n",
    "\n",
    "On nettoie les libellés en mobilisant des expressions régulières et un dictionnaire de mots outils.\n",
    "On peut adapter le nettoyage à la base, par exemple dans ciqual, la cuisson est souvent renseignée et bruite les appariemments.\n",
    "La fonction `clean_libelle` du script [`utils.py`](#utils.py) propose quelques fonctions\n",
    "appliquant les méthodes disponibles dans la partie [NLP](#NLP)\n",
    "\n"
   ]
  },
  {
   "cell_type": "code",
   "execution_count": null,
   "id": "1cb5d665",
   "metadata": {},
   "outputs": [],
   "source": [
    "from utils import clean_libelle"
   ]
  },
  {
   "cell_type": "markdown",
   "id": "07f76b0f",
   "metadata": {},
   "source": [
    "On peut déjà : \n",
    "\n",
    "* Harmoniser la casse et retirer les accents (voir utils.py)\n",
    "* Retirer tout les caractères qui ne sont pas des lettres (chiffres, ponctuations)\n",
    "* Retirer les caractères isolés\n"
   ]
  },
  {
   "cell_type": "code",
   "execution_count": null,
   "id": "cc30f578",
   "metadata": {},
   "outputs": [],
   "source": [
    "stopWords = ['KG','CL','G','L','CRUE?S?', 'PREEMBALLEE?S?']\n",
    "replace_regex = {r'[^A-Z]': ' ', r'\\b[A-Z0-9]{1,2}?\\b':' '} # "
   ]
  },
  {
   "cell_type": "markdown",
   "id": "97e7a040",
   "metadata": {},
   "source": [
    "Cela permet d'obtenir les bases nettoyées suivantes:\n"
   ]
  },
  {
   "cell_type": "code",
   "execution_count": null,
   "id": "36235565",
   "metadata": {},
   "outputs": [],
   "source": [
    "ciqual = clean_libelle(ciqual, yvar = 'alim_nom_fr', replace_regex = replace_regex, stopWords = stopWords)\n",
    "ciqual.sample(10)"
   ]
  },
  {
   "cell_type": "markdown",
   "id": "6c9607f8",
   "metadata": {},
   "source": [
    "```\n",
    "##                                             alim_nom_fr  ...                                    libel_clean\n",
    "## 3061                        Vanille, extrait alcoolique  ...                     VANILLE EXTRAIT ALCOOLIQUE\n",
    "## 1258                                   Foie, veau, cuit  ...                                 FOIE VEAU CUIT\n",
    "## 2081  Dessert au soja, aromatisé, sucré, enrichi en ...  ...  DESSERT SOJA AROMATISE SUCRE ENRICHI CALCIUM \n",
    "## 2389                                        Cola, sucré  ...                                     COLA SUCRE\n",
    "## 2177                                  Mimolette vieille  ...                              MIMOLETTE VIEILLE\n",
    "## 236     Pizza à la viande, type bolognaise, préemballée  ...                  PIZZA VIANDE TYPE BOLOGNAISE \n",
    "## 321   Bouchée à la reine, à la viande/volaille/quenelle  ...         BOUCHEE REINE VIANDE VOLAILLE QUENELLE\n",
    "## 737                                         Figue, crue  ...                                         FIGUE \n",
    "## 2195                    Fromage de lactosérum de brebis  ...                      FROMAGE LACTOSERUM BREBIS\n",
    "## 2059          Crème dessert, appertisée (aliment moyen)  ...        CREME DESSERT APPERTISEE ALIMENT MOYEN \n",
    "## \n",
    "## [10 rows x 3 columns]\n",
    "```\n"
   ]
  },
  {
   "cell_type": "code",
   "execution_count": null,
   "id": "c8a9884e",
   "metadata": {},
   "outputs": [],
   "source": [
    "openfood = clean_libelle(openfood, yvar = 'product_name', replace_regex = replace_regex, stopWords = stopWords)\n",
    "openfood.sample(10)"
   ]
  },
  {
   "cell_type": "markdown",
   "id": "8fab8bca",
   "metadata": {},
   "source": [
    "```\n",
    "##                                        product_name  ...                             libel_clean\n",
    "## 1383987        Yaourt du Luxembourg - nature - 3,5%  ...               YAOURT LUXEMBOURG NATURE \n",
    "## 756550   La Grande Box Veggie - torti bolo végétale  ...   GRANDE BOX VEGGIE TORTI BOLO VEGETALE\n",
    "## 1706949                             Lenteja pardina  ...                         LENTEJA PARDINA\n",
    "## 1522750              Cookie aux pepites de chocolat  ...             COOKIE AUX PEPITES CHOCOLAT\n",
    "## 301212                 Tome de montagne au lait cru  ...                     TOME MONTAGNE LAIT \n",
    "## 597768                                   Chipolatas  ...                              CHIPOLATAS\n",
    "## 552278          Pomodori secchi in olio di girasole  ...           POMODORI SECCHI OLIO GIRASOLE\n",
    "## 918853                               Confit de lait  ...                             CONFIT LAIT\n",
    "## 201153                                     Dips mix  ...                                DIPS MIX\n",
    "## 1926139               Woolworths Select Tuna Smoked  ...           WOOLWORTHS SELECT TUNA SMOKED\n",
    "## \n",
    "## [10 rows x 4 columns]\n",
    "```\n"
   ]
  },
  {
   "cell_type": "code",
   "execution_count": null,
   "id": "3d45fe57",
   "metadata": {},
   "outputs": [],
   "source": [
    "courses = pd.DataFrame(libelles, columns = ['libel'])\n",
    "courses = clean_libelle(courses, yvar = 'libel', replace_regex = replace_regex, stopWords = stopWords)\n",
    "courses.sample(10)"
   ]
  },
  {
   "cell_type": "markdown",
   "id": "79e8a343",
   "metadata": {},
   "source": [
    "```\n",
    "##                                   libel                  libel_clean\n",
    "## 15  1 cuillère à soupe de huile d'olive   CUILLERE SOUPE HUILE OLIVE\n",
    "## 1                    MAQUEREAUX MOUTAR.           MAQUEREAUX MOUTAR \n",
    "## 14        1/2 l de bouillon de volaille            BOUILLON VOLAILLE\n",
    "## 13                        1/2 l de lait                         LAIT\n",
    "## 11                    2 pommes de terre                 POMMES TERRE\n",
    "## 16                      1 kg de potiron                      POTIRON\n",
    "## 2                    IGP OC SAUVIGNON B               IGP SAUVIGNON \n",
    "## 5                             ANANAS C2                      ANANAS \n",
    "## 10                    500 g de carottes                     CAROTTES\n",
    "## 12                       1 gousse d'ail                   GOUSSE AIL\n",
    "```"
   ]
  },
  {
   "cell_type": "markdown",
   "id": "73793fbb",
   "metadata": {},
   "source": [
    "Les noms de produits sont déjà plus harmonisés. Voyons voir si _a permet de trouver un\n",
    "*match* dans l'Openfood database: \n",
    "\n"
   ]
  },
  {
   "cell_type": "code",
   "execution_count": null,
   "id": "81435e57",
   "metadata": {},
   "outputs": [],
   "source": [
    "dist_leven_openfood = utils.match_product(courses[\"libel_clean\"], openfood, \"libel_clean\")"
   ]
  },
  {
   "cell_type": "markdown",
   "id": "d7a266aa",
   "metadata": {},
   "source": [
    "```\n",
    "## Temps d'exécution total : 10.46 secondes ---\n",
    "```"
   ]
  },
  {
   "cell_type": "code",
   "execution_count": null,
   "id": "8dcbb790",
   "metadata": {},
   "outputs": [],
   "source": [
    "dist_leven_openfood.sample(10)"
   ]
  },
  {
   "cell_type": "markdown",
   "id": "c68b8ce1",
   "metadata": {},
   "source": [
    "```\n",
    "##                    best_match  ...                     produit\n",
    "## 2                 TOSCANO IGP  ...              IGP SAUVIGNON \n",
    "## 5                      ANANAS  ...                     ANANAS \n",
    "## 9        COTES AGNEAU GRILLER  ...    COTES LUBERON AIGUEBRUN \n",
    "## 11               POMMES TERRE  ...                POMMES TERRE\n",
    "## 16                    POTIRON  ...                     POTIRON\n",
    "## 18      CREME ENTIERE LIQUIDE  ...   CREME LIQUIDE FACULTATIF \n",
    "## 12                 GOUSSE AIL  ...                  GOUSSE AIL\n",
    "## 3            LAIT UHT ECREME   ...               LAIT ECRM UHT\n",
    "## 7                    TOP MIEL  ...                    PLT MIEL\n",
    "## 1   FILET MAQUEREAUX MOUTARDE  ...          MAQUEREAUX MOUTAR \n",
    "## \n",
    "## [10 rows x 4 columns]\n",
    "```\n",
    "\n",
    "Pas encore parfait, mais on progresse sur les produits appariés! \n",
    "Concernant le temps de calcul, les quelques secondes nécessaires à\n",
    "ce calcul peuvent apparaître un faible prix à payer. Cependant,\n",
    "il convient de rappeler que le nombre de produits dans l'ensemble\n",
    "de recherche est faible. Cette solution n'est donc pas généralisable.\n"
   ]
  },
  {
   "cell_type": "markdown",
   "id": "90cfa7cb",
   "metadata": {},
   "source": [
    "## Réduire les temps de recherche\n",
    "\n",
    "Finalement, l'idéal serait de disposer d'un **moteur de recherche** adapté à notre besoin, contenant les produits candidats, que l'on pourrait interroger, rapide en lecture, capable de classer les echos renvoyés par pertinence, que l'on pourrait requêter de manière flexible\n",
    "(par exemple, on pourrait vouloir signaler qu'un echo nous intéresse seulement si la donnée calorique n'est pas manquante).\n",
    "On pourrait même vouloir qu'il effectue pour nous des prétraitements sur les données. \n",
    "\n",
    "C'est exactement ce que fait Elastic\n",
    "\n",
    "# Indexer une base \n",
    "\n",
    "A partir de maintenant, commence, à proprement parler, la démonstration Elastic. Cette \n",
    "partie développe les éléments les plus techniques, à savoir l'indexation d'une base. \n",
    "Tous les utilisateurs d'Elastic n'ont pas nécessairement à passer par là, ils peuvent \n",
    "trouver une base déjà indexée, idéalement par un *data engineer* qui aura optimisé\n",
    "les traitements. \n",
    "\n",
    "Les utilisateurs du [SSP Cloud](https://datalab.sspcloud.fr/accueil), architecture qui\n",
    "repose sur la technologie [Kubernetes](https://kubernetes.io/) peuvent \n",
    "répliquer les éléments de la suite du document. "
   ]
  },
  {
   "cell_type": "markdown",
   "id": "5ae4a7c5",
   "metadata": {},
   "source": [
    "## Créer un cluster Elastic sur le DataLab\n",
    "\n",
    "Pour lancer un service Elastic, il faut cliquer sur [ce lien](https://datalab.sspcloud.fr/launcher/inseefrlab-helm-charts-datascience/elastic). \n",
    "\n",
    "Une fois créé, vous pouvez explorer l'interface graphique Kibana. Cependant, grâce à l'API Elastic\n",
    "de Python, on se passera de celle-ci. Donc, en pratique,\n",
    "une fois lancé, pas besoin d'ouvrir ce service Elastic pour continuer à suivre[^1].\n",
    "\n",
    "[^1]: Le lancement du service a créé dans votre `NAMESPACE Kubernetes` (l'ensemble de tout vos services) un cluster Elastic.\n",
    "Vous n'avez droit qu'à un cluster par namespace (ou compte d'utilisateur).\n",
    "Votre service Jupyter, VSCode, RStudio, etc. est associé au même namespace.\n",
    "De même qu'il n'est pas nécessaire de comprendre comment fonctionne le moteur d'une voiture pour conduire, \n",
    "il n'est pas nécessaire de comprendre la manière dont tout ce beau monde dialogue pour pouvoir utiliser le `SSP Cloud`. \n",
    "\n",
    "Dans un terminal, vous pouvez aussi vérifier que vous êtes en mesure de dialoguer avec votre cluster Elastic, qui est prêt à vous écouter:\n",
    "\n",
    "```shell\n",
    "kubectl get statefulset\n",
    "```\n",
    "\n",
    "Passer par la ligne de commande serait peu commode. \n",
    "Nous allons utiliser la librairie `python` `elasticsearch` pour dialoguer avec notre moteur de recherche Elastic.\n",
    "Les instructions ci-dessous indiquent comment établir la connection."
   ]
  },
  {
   "cell_type": "code",
   "execution_count": null,
   "id": "7f787fd3",
   "metadata": {},
   "outputs": [],
   "source": [
    "from elasticsearch import Elasticsearch\n",
    "HOST = 'elasticsearch-master'\n",
    "\n",
    "def elastic():\n",
    "    \"\"\"Connection avec Elastic sur le data lab\"\"\"\n",
    "    es = Elasticsearch([{'host': HOST, 'port': 9200}], http_compress=True,  timeout=200)\n",
    "    return es\n",
    "\n",
    "es = elastic()"
   ]
  },
  {
   "cell_type": "markdown",
   "id": "a1f096e1",
   "metadata": {},
   "source": [
    "```\n",
    "<Elasticsearch([{'host': 'elasticsearch-master', 'port': 9200}])>\n",
    "```"
   ]
  },
  {
   "cell_type": "markdown",
   "id": "335063a7",
   "metadata": {},
   "source": [
    "Maintenant que la connection est établie, deux étapes nous attendent:\n",
    "\n",
    "1. **Indexation** Envoyer les documents parmi lesquels on veut chercher des echos pertinents dans notre elastic. Un index est une collection de document. Nous pourrions en créer deux: un pour les produits ciqual, un pour les produits openfood\n",
    "2. **Requête** Chercher les documents les plus pertinents suivant une recherche textuelle flexible. Nous allons rechercher les libellés de notre recette et de notre liste de course.\n",
    "\n",
    "## Première indexation\n",
    "\n",
    "On crée donc nos deux index:\n",
    "\n",
    "~~~python\n",
    "if not es.indices.exists('openfood'):\n",
    "    es.indices.create('openfood')\n",
    "if not es.indices.exists('ciqual'):\n",
    "    es.indices.create('ciqual')\n",
    "~~~\n",
    "\n",
    "Pour l'instant, nos index sont vides! Ils contiennent 0 documents.\n",
    "\n",
    "~~~python\n",
    "es.count(index = 'openfood')\n",
    "~~~\n",
    "\n",
    "```\n",
    "{'count': 0, '_shards': {'total': 1, 'successful': 1, 'skipped': 0, 'failed': 0}}\n",
    "```\n",
    "\n",
    "Nous allons en rajouter quelques uns ! \n",
    "\n",
    "~~~python\n",
    "es.create(index = 'openfood',  id = 1, body = {'product_name': 'Tarte noix de coco', 'product_name_clean': 'TARTE NOIX COCO'})\n",
    "es.create(index = 'openfood',  id = 2, body = {'product_name': 'Noix de coco', 'product_name_clean': 'NOIX COCO'})\n",
    "es.create(index = 'openfood',  id = 3, body = {'product_name': 'Beurre doux', 'product_name_clean': 'BEURRE DOUX'})\n",
    "~~~\n",
    "\n",
    "~~~python\n",
    "es.count(index = 'openfood')\n",
    "~~~\n",
    "\n",
    "```\n",
    "{'count': 3, '_shards': {'total': 1, 'successful': 1, 'skipped': 0, 'failed': 0}}\n",
    "```\n",
    "\n",
    "## Première recherche\n",
    "\n",
    "Faisons notre première recherche: cherchons des noix de pécan! \n",
    "\n",
    "~~~python\n",
    "es.search(index = 'openfood', q = 'noix de pécan')\n",
    "~~~\n",
    "\n",
    "```\n",
    "{'took': 3102, 'timed_out': False, '_shards': {'total': 1, 'successful': 1, 'skipped': 0, 'failed': 0}, 'hits': {'total': {'value': 2, 'relation': 'eq'}, 'max_score': 0.9400072, 'hits': [{'_index': 'openfood', '_type': '_doc', '_id': '2', '_score': 0.9400072, '_source': {'product_name': 'Noix de coco', 'product_name_clean': 'NOIX COCO'}}, {'_index': 'openfood', '_type': '_doc', '_id': '1', '_score': 0.8272065, '_source': {'product_name': 'Tarte noix de coco', 'product_name_clean': 'TARTE NOIX COCO'}}]}}\n",
    "```"
   ]
  },
  {
   "cell_type": "markdown",
   "id": "068a3738",
   "metadata": {},
   "source": [
    "Intéressons nous aux `hits` (résultats pertinents, ou echos) : nous en avons 2. \n",
    "Le score maximal parmi les hits est mentionné dans `max_score` et correspond à celui du deuxième document indexé.\n",
    "\n",
    "Elastic nous fournit ici un **score de pertinence** dans notre recherche d'information, et classe ainsi les documents renvoyés.\n",
    "\n",
    "Ici nous utilisons la configuration par défaut. Mais comment est calculé ce score? Demandons à Elastic de nous expliquer le score du document `2` dans la requête `\"noix de pécan\"`.\n",
    "\n",
    "~~~python\n",
    "es.explain(index = 'openfood', id = 2, q = 'noix de pécan')\n",
    "~~~\n",
    "\n",
    "```\n",
    "{'_index': 'openfood', '_type': '_doc', '_id': '2', 'matched': True, 'explanation': {'value': 0.9400072, 'description': 'max of:', 'details': [{'value': 0.49917626, 'description': 'sum of:', 'details': [{'value': 0.49917626, 'description': 'weight(product_name_clean:noix in 1) [PerFieldSimilarity], result of:', 'details': [{'value': 0.49917626, 'description': 'score(freq=1.0), computed as boost * idf * tf from:', 'details': [{'value': 2.2, 'description': 'boost', 'details': []}, {'value': 0.47000363, 'description': 'idf, computed as log(1 + (N - n + 0.5) / (n + 0.5)) from:', 'details': [{'value': 2, 'description': 'n, number of documents containing term', 'details': []}, {'value': 3, 'description': 'N, total number of documents with field', 'details': []}]}, {'value': 0.48275858, 'description': 'tf, computed as freq / (freq + k1 * (1 - b + b * dl / avgdl)) from:', 'details': [{'value': 1.0, 'description': 'freq, occurrences of term within document', 'details': []}, {'value': 1.2, 'description': 'k1, term saturation parameter', 'details': []}, {'value': 0.75, 'description': 'b, length normalization parameter', 'details': []}, {'value': 2.0, 'description': 'dl, length of field', 'details': []}, {'value': 2.3333333, 'description': 'avgdl, average length of field', 'details': []}]}]}]}]}, {'value': 0.9400072, 'description': 'sum of:', 'details': [{'value': 0.4700036, 'description': 'weight(product_name:noix in 1) [PerFieldSimilarity], result of:', 'details': [{'value': 0.4700036, 'description': 'score(freq=1.0), computed as boost * idf * tf from:', 'details': [{'value': 2.2, 'description': 'boost', 'details': []}, {'value': 0.47000363, 'description': 'idf, computed as log(1 + (N - n + 0.5) / (n + 0.5)) from:', 'details': [{'value': 2, 'description': 'n, number of documents containing term', 'details': []}, {'value': 3, 'description': 'N, total number of documents with field', 'details': []}]}, {'value': 0.45454544, 'description': 'tf, computed as freq / (freq + k1 * (1 - b + b * dl / avgdl)) from:', 'details': [{'value': 1.0, 'description': 'freq, occurrences of term within document', 'details': []}, {'value': 1.2, 'description': 'k1, term saturation parameter', 'details': []}, {'value': 0.75, 'description': 'b, length normalization parameter', 'details': []}, {'value': 3.0, 'description': 'dl, length of field', 'details': []}, {'value': 3.0, 'description': 'avgdl, average length of field', 'details': []}]}]}]}, {'value': 0.4700036, 'description': 'weight(product_name:de in 1) [PerFieldSimilarity], result of:', 'details': [{'value': 0.4700036, 'description': 'score(freq=1.0), computed as boost * idf * tf from:', 'details': [{'value': 2.2, 'description': 'boost', 'details': []}, {'value': 0.47000363, 'description': 'idf, computed as log(1 + (N - n + 0.5) / (n + 0.5)) from:', 'details': [{'value': 2, 'description': 'n, number of documents containing term', 'details': []}, {'value': 3, 'description': 'N, total number of documents with field', 'details': []}]}, {'value': 0.45454544, 'description': 'tf, computed as freq / (freq + k1 * (1 - b + b * dl / avgdl)) from:', 'details': [{'value': 1.0, 'description': 'freq, occurrences of term within document', 'details': []}, {'value': 1.2, 'description': 'k1, term saturation parameter', 'details': []}, {'value': 0.75, 'description': 'b, length normalization parameter', 'details': []}, {'value': 3.0, 'description': 'dl, length of field', 'details': []}, {'value': 3.0, 'description': 'avgdl, average length of field', 'details': []}]}]}]}]}]}}\n",
    "```"
   ]
  },
  {
   "cell_type": "markdown",
   "id": "04dcbe33",
   "metadata": {},
   "source": [
    "Elastic nous explique donc que le score `0.9400072` est le maximum entre deux sous-scores, `0.4991` et `0.9400072`.\n",
    "\n",
    "Pour chacun de ces sous-scores, le détail de son calcul est donné.\n",
    "Le premier sous-score n'a accordé un score que par rapport au premier mot (noix), tandis que le second a accordé un score sur la base des deux mots déjà connu dans les documents (\"noix\" et \"de\"). Il a ignoré pécan! Jusqu'à présent, ce terme n'est pas connu dans l'index. \n",
    "\n",
    "La pertinence d'un mot pour notre recherche est construite sur une variante de la TF-IDF,\n",
    "considérant qu'un terme est pertinent s'il est souvent présent dans le document (Term Frequency)\n",
    "alors qu'il est peu fréquent dans les autres document (inverse document frequency).\n",
    "Ici les notations des documents 1 et 2 sont très proches, la différence est dûe à des IDF plus faibles dans le document 1,\n",
    "qui est pénalisé pour être légérement plus long. \n",
    "\n",
    "Bref, tout ça est un peu lourd, mais assez efficace, en tout cas moins rudimentaire que les distances caractères à caractères pour ramener des echos pertinents."
   ]
  },
  {
   "cell_type": "markdown",
   "id": "c9524164",
   "metadata": {},
   "source": [
    "## Limite de cette première indexation\n",
    "\n",
    "Pour l'instant, Elastic n'a pas l'air de gérer les fautes de frappes!\n",
    "Pas le droit à l'erreur dans la requête:\n",
    "\n",
    "~~~python\n",
    "es.search(index = 'openfood',q = 'TART NOI')\n",
    "~~~\n",
    "\n",
    "```\n",
    "{'took': 35, 'timed_out': False, '_shards': {'total': 1, 'successful': 1, 'skipped': 0, 'failed': 0}, 'hits': {'total': {'value': 0, 'relation': 'eq'}, 'max_score': None, 'hits': []}}\n",
    "```"
   ]
  },
  {
   "cell_type": "markdown",
   "id": "e70b6211",
   "metadata": {},
   "source": [
    "Cela s'explique par la représentation des champs (*'product_name'* par exemple) qu'Elastic a inféré, puisque nous n'avons rien spécifié.\n",
    "La représentation d'une variable conditionne la façon dont les champs sont analysés pour calculer la pertinence.\n",
    "Par exemple, regardons la représentation du champ `product_name`\n",
    "\n",
    "~~~python\n",
    "es.indices.get_field_mapping(index = 'openfood', fields = 'product_name')\n",
    "~~~\n",
    "\n",
    "```\n",
    "{'openfood': {'mappings': {'product_name': {'full_name': 'product_name', 'mapping': {'product_name': {'type': 'text'}}}}}}\n",
    "```\n",
    "\n",
    "Elastic a compris qu'il s'agissait d'un champ textuel. En revanche, le type est `keyword` n'autorise pas des analyses approximatives donc \n",
    "ne permet pas de tenir compte de fautes de frappes.\n",
    "Pour qu'un echo remonte, un des termes doit matcher exactement. Dommage !\n",
    "Mais c'est parce qu'on a utilisé le *mapping* par défaut.\n",
    "En réalité, il est assez simple de préciser un *mapping* plus riche, autorisant une analyse *\"fuzzy\"* ou *\"flou\"*.\n",
    "\n",
    "# Améliorer l'indexation"
   ]
  },
  {
   "cell_type": "markdown",
   "id": "b4fa7c06",
   "metadata": {},
   "source": [
    "On peut spécifier la façon dont l'on souhaite analyser le texte.\n",
    "Par exemple, on peut préciser que l'on souhaite enlever des *stopwords*, raciniser, analyser les termes via des *n-grammes*\n",
    "pour rendre la recherche plus robuste aux fautes de frappes...\n",
    "\n",
    "Ces concepts sont présentés dans la partie [NLP](#nlp).\n",
    "Pour une présentation plus complète, voir\n",
    "[la documentation officielle d'Elastic](https://www.elastic.co/guide/en/elasticsearch/reference/current/mapping.html)\n",
    "\n",
    "On propose les analyseurs stockés dans un fichier [schema.json](#schema.json)"
   ]
  },
  {
   "cell_type": "markdown",
   "id": "e4b93392",
   "metadata": {},
   "source": [
    "Les *n-grammes* sont des séquences de *n* caractères ou plus généralement *n* éléments qui s'enchaînent séquentiellement.\n",
    "Par exemple, NOI et OIX sont des tri-grammes de caractères dans NOIX. \n",
    "\n",
    "Comparer les n-grammes composant des libellés peut permettre d'avoir dans des comparaisons à fautes de frappe/abbréviations près.\n",
    "Cela fait aussi plus de comparaisons à opérer ! D'où également, l'intérêt d'Elastic, qui intégre facilement et efficacement ces comparaisons. "
   ]
  },
  {
   "cell_type": "markdown",
   "id": "04570b17",
   "metadata": {},
   "source": [
    "On va préciser un peu le schéma de données qu'on souhaite _indexer_, et aussi préciser comment les différents champs seront _analysés_."
   ]
  },
  {
   "cell_type": "markdown",
   "id": "5895fbb1",
   "metadata": {},
   "source": [
    "### Une indexation plus adaptée\n",
    "\n",
    "~~~python\n",
    "import json\n",
    "\n",
    "if es.indices.exists('openfood'):\n",
    "    es.indices.delete('openfood')\n",
    "\n",
    "with open('schema.json') as f:\n",
    "    mapping = json.load(f)\n",
    "    \n",
    "es.indices.create(index = \"openfood\", body = mapping)    \n",
    "~~~\n",
    "\n",
    "Maintenant, les champs textuels *\"product_name\"* et *\"product_name_clean\"*\n",
    "vont pouvoir être analysé aussi via leur n-grammes et après racinisation (et l'un n'exclut pas l'autre!)\n",
    "\n",
    "~~~python\n",
    "es.indices.get_field_mapping(index = 'openfood', fields = 'product_name')\n",
    "~~~\n",
    "\n",
    "```\n",
    "{'openfood': {'mappings': {'product_name': {'full_name': 'product_name', 'mapping': {'product_name': {'type': 'text', 'fields': {'keyword': {'type': 'keyword', 'ignore_above': 256}, 'ngr': {'type': 'text', 'analyzer': 'ngram_analyzer'}, 'stem': {'type': 'text', 'analyzer': 'stem_analyzer'}}}}}}}}\n",
    "```\n",
    "\n",
    "C'est parti, on envoie toute notre base OpenFood pour pouvoir la requêter ! La fonction suivante (`index_elastic`) va vous faire gagner du temps pour indexer\n",
    "car indexer chaque produit à la main n'est pas très efficace.\n",
    "\n",
    "Du coup ça prend quelques minutes ... mais c'est pour nous en faire gagner ensuite. Cette opération est faite une fois, pour préparer des requêtes potentiellement nombreuses!\n",
    "\n",
    "~~~python\n",
    "utils.index_elastic(es =es, index_name = \"openfood\",\n",
    "        setting_file = 'schema.json',\n",
    "        df = openfood[['product_name',\"libel_clean\",\"energy_100g\",\"nutriscore_score\"]].drop_duplicates())\n",
    "~~~\n",
    "\n",
    "```\n",
    "Temps d'exécution total : 263.11 secondes ---\n",
    "```\n",
    "\n",
    "~~~python\n",
    "es.count(index = 'openfood')\n",
    "~~~\n",
    "\n",
    "```\n",
    "{'count': 630727, '_shards': {'total': 1, 'successful': 1, 'skipped': 0, 'failed': 0}}\n",
    "```"
   ]
  },
  {
   "cell_type": "markdown",
   "id": "b753dd52",
   "metadata": {},
   "source": [
    "## Nos premières requêtes\n",
    "\n",
    "Vérifions qu'on recupère quelques tartes aux noix même si l'on fait plein de fautes:\n",
    "\n",
    "~~~python\n",
    "es.search(index = 'openfood', q = 'TART NOI', size = 3)\n",
    "~~~\n",
    "\n",
    "```\n",
    "{'took': 4201, 'timed_out': False, '_shards': {'total': 1, 'successful': 1, 'skipped': 0, 'failed': 0}, 'hits': {'total': {'value': 10000, 'relation': 'gte'}, 'max_score': 22.765423, 'hits': [{'_index': 'openfood', '_type': '_doc', '_id': '307496', '_score': 22.765423, '_source': {'product_name': 'Tarte noix', 'libel_clean': 'TARTE NOIX', 'energy_100g': 1833.0, 'nutriscore_score': 23.0}}, {'_index': 'openfood', '_type': '_doc', '_id': '825159', '_score': 22.277456, '_source': {'product_name': 'Tarte aux noix', 'libel_clean': 'TARTE AUX NOIX', 'energy_100g': 4.0, 'nutriscore_score': 4.0}}, {'_index': 'openfood', '_type': '_doc', '_id': '867887', '_score': 22.277456, '_source': {'product_name': 'Tarte aux noix', 'libel_clean': 'TARTE AUX NOIX', 'energy_100g': 1929.0, 'nutriscore_score': 21.0}}]}}\n",
    "```\n",
    "\n",
    "Pour automatiser cette approche, on peut définir  la fonctioin suivante"
   ]
  },
  {
   "cell_type": "code",
   "execution_count": null,
   "id": "a1dbfd47",
   "metadata": {},
   "outputs": [],
   "source": [
    "def matchElastic(libelles):\n",
    "    matches = dict()\n",
    "    start_time = time.time()\n",
    "    for l in libelles:\n",
    "        response = es.search(index = 'openfood', q = l, size = 1)\n",
    "        if len(response['hits']['hits'])>0:\n",
    "            matches[l] = response['hits']['hits'][0]['_source']['libel_clean']\n",
    "    print(80*'-')\n",
    "    print(f\"Temps d'exécution total : {(time.time() - start_time):.2f} secondes ---\")\n",
    "    \n",
    "    return matches"
   ]
  },
  {
   "cell_type": "code",
   "execution_count": null,
   "id": "7c090016",
   "metadata": {},
   "outputs": [],
   "source": [
    "matches = matchElastic(courses['libel_clean'])\n",
    "pd.DataFrame.from_dict(matches, orient='index')"
   ]
  },
  {
   "cell_type": "markdown",
   "id": "a5fff3cd",
   "metadata": {},
   "source": [
    "Et voilà, on a un outil très rapide de requête ! \n",
    "Maintenant, on peut préciser des requêtes plus sophistiquées![^2]\n",
    "\n",
    "[^2]: Vous pouvez aussi explorer les possibilités de requêtes via la [doc Elastic](https://www.elastic.co/guide/en/elasticsearch/reference/6.8/query-dsl.html) et vous entrainer à un écrire avec votre index tout neuf.\n"
   ]
  },
  {
   "cell_type": "code",
   "execution_count": null,
   "id": "06c122ca",
   "metadata": {},
   "outputs": [],
   "source": [
    "body = '''\n",
    "{\n",
    "  \"size\": \"1\",\n",
    "  \"query\": {\n",
    "    \"bool\": {\n",
    "      \"should\": [\n",
    "        { \"match\": { \"libel_clean\":  { \"query\":  \"HUILE OLIVE\" , \"boost\" : 10}}},\n",
    "        { \"match\": { \"libel_clean.ngr\":   \"HUILE OLIVE\" }}],\n",
    "      \"minimum_should_match\": 1,\n",
    "      \"filter\": [\n",
    "      { \n",
    "            \"range\" : {\n",
    "                \"nutriscore_score\" : {\n",
    "                    \"gte\" : 10,\n",
    "                    \"lte\" : 20\n",
    "                    }\n",
    "                    }\n",
    "                    }\n",
    "      ]\n",
    "    }\n",
    "  }\n",
    "}\n",
    "'''"
   ]
  },
  {
   "cell_type": "markdown",
   "id": "44a76959",
   "metadata": {},
   "source": [
    "~~~python\n",
    "es.search(index = 'openfood', body = body)\n",
    "~~~\n",
    "\n",
    "```\n",
    "{'took': 10322, 'timed_out': False, '_shards': {'total': 1, 'successful': 1, 'skipped': 0, 'failed': 0}, 'hits': {'total': {'value': 10000, 'relation': 'gte'}, 'max_score': 174.37657, 'hits': [{'_index': 'openfood', '_type': '_doc', '_id': '693544', '_score': 174.37657, '_source': {'product_name': 'Huile d olive', 'libel_clean': 'HUILE OLIVE', 'energy_100g': 3761.0, 'nutriscore_score': 11.0}}]}}\n",
    "```"
   ]
  },
  {
   "cell_type": "markdown",
   "id": "8a63e2eb",
   "metadata": {},
   "source": [
    "Qu'a-t-on demandé ici? De renvoyer 1 et 1 seul echo (`\"size\":\"1\"`) et seulement si celui ci a:\n",
    "* `\"should\"`: Au moins un (`\"minimum_should_match\":\"1\"`) des termes des deux champs `libel_clean` et `libel_clean.ngr` qui matche sur un terme de _HUILE OLIVE_, l'analyse (la définition du \"terme\") étant réalisé soit en tant que `text` (\"libel_clean\") soit en tant que n-gramme `ngr` (\"libel_clean.ngr\", une analyse que nous avons spécifié dans le mapping) \n",
    "* `\"filter\"`: Le champ `float` nutriscore_score doit être compris entre 10 et 20 (\"filter\").  \n",
    "\n",
    "A noter :\n",
    "\n",
    "1. Les clauses (`\"should\"`+`\"minimum_should_match\":\"1\"`) peuvent être remplacé par un `\"must\"`, auquel cas, l'echo doit obligatoirement matcher sur chaque clause.\n",
    "2. Préciser dans `\"filter\"` (plutôt que dans \"`should`\") une condition signifie que celle-ci ne participe pas au score de pertinence. "
   ]
  },
  {
   "cell_type": "markdown",
   "id": "5e2b15d0",
   "metadata": {},
   "source": [
    "On n'a pas encore un appariemment très satisfaisant, en particulier sur les boissons. Comment faire ? La réponse sera dans Galiana et al. (à venir)\n",
    "\n",
    "A vous, de calculer le nombre de calories de notre recette de course ! "
   ]
  }
 ],
 "metadata": {
  "kernelspec": {
   "display_name": "Python 3",
   "language": "python",
   "name": "python3"
  }
 },
 "nbformat": 4,
 "nbformat_minor": 5
}
