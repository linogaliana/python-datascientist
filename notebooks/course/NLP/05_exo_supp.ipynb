{
 "cells": [
  {
   "cell_type": "markdown",
   "id": "53f44502",
   "metadata": {},
   "source": [
    "#  Exercices supplémentaires\n",
    "\n"
   ]
  },
  {
   "cell_type": "markdown",
   "id": "ee5fd169",
   "metadata": {},
   "source": [
    "<a href=\"https://github.com/linogaliana/python-datascientist/blob/master//__w/python-datascientist/python-datascientist/notebooks/course/NLP/05_exo_supp.ipynb\" class=\"github\"><i class=\"fab fa-github\"></i></a>\n",
    "[![Download](https://img.shields.io/badge/Download-Notebook-important?logo=Jupyter)](https://downgit.github.io/#/home?url=https://github.com/linogaliana/python-datascientist/blob/master//__w/python-datascientist/python-datascientist/notebooks/course/NLP/05_exo_supp.ipynb)\n",
    "[![nbviewer](https://img.shields.io/badge/Visualize-nbviewer-blue?logo=Jupyter)](https://nbviewer.jupyter.org/github/linogaliana/python-datascientist/blob/master//__w/python-datascientist/python-datascientist/notebooks/course/NLP/05_exo_supp.ipynb)\n",
    "[![Onyxia](https://img.shields.io/badge/SSPcloud-Tester%20via%20SSP--cloud-informational&color=yellow?logo=Python)](https://datalab.sspcloud.fr/launcher/inseefrlab-helm-charts-datascience/jupyter?onyxia.friendlyName=«python-datascientist»&resources.requests.memory=«4Gi»&security.allowlist.enabled=false&init.personnalInit=«https://raw.githubusercontent.com/linogaliana/python-datascientist/master/init_onyxia.sh»)\n",
    "[![Binder](https://img.shields.io/badge/Launch-Binder-E66581.svg?logo=data:image/png;base64,iVBORw0KGgoAAAANSUhEUgAAAFkAAABZCAMAAABi1XidAAAB8lBMVEX///9XmsrmZYH1olJXmsr1olJXmsrmZYH1olJXmsr1olJXmsrmZYH1olL1olJXmsr1olJXmsrmZYH1olL1olJXmsrmZYH1olJXmsr1olL1olJXmsrmZYH1olL1olJXmsrmZYH1olL1olL0nFf1olJXmsrmZYH1olJXmsq8dZb1olJXmsrmZYH1olJXmspXmspXmsr1olL1olJXmsrmZYH1olJXmsr1olL1olJXmsrmZYH1olL1olLeaIVXmsrmZYH1olL1olL1olJXmsrmZYH1olLna31Xmsr1olJXmsr1olJXmsrmZYH1olLqoVr1olJXmsr1olJXmsrmZYH1olL1olKkfaPobXvviGabgadXmsqThKuofKHmZ4Dobnr1olJXmsr1olJXmspXmsr1olJXmsrfZ4TuhWn1olL1olJXmsqBi7X1olJXmspZmslbmMhbmsdemsVfl8ZgmsNim8Jpk8F0m7R4m7F5nLB6jbh7jbiDirOEibOGnKaMhq+PnaCVg6qWg6qegKaff6WhnpKofKGtnomxeZy3noG6dZi+n3vCcpPDcpPGn3bLb4/Mb47UbIrVa4rYoGjdaIbeaIXhoWHmZYHobXvpcHjqdHXreHLroVrsfG/uhGnuh2bwj2Hxk17yl1vzmljzm1j0nlX1olL3AJXWAAAAbXRSTlMAEBAQHx8gICAuLjAwMDw9PUBAQEpQUFBXV1hgYGBkcHBwcXl8gICAgoiIkJCQlJicnJ2goKCmqK+wsLC4usDAwMjP0NDQ1NbW3Nzg4ODi5+3v8PDw8/T09PX29vb39/f5+fr7+/z8/Pz9/v7+zczCxgAABC5JREFUeAHN1ul3k0UUBvCb1CTVpmpaitAGSLSpSuKCLWpbTKNJFGlcSMAFF63iUmRccNG6gLbuxkXU66JAUef/9LSpmXnyLr3T5AO/rzl5zj137p136BISy44fKJXuGN/d19PUfYeO67Znqtf2KH33Id1psXoFdW30sPZ1sMvs2D060AHqws4FHeJojLZqnw53cmfvg+XR8mC0OEjuxrXEkX5ydeVJLVIlV0e10PXk5k7dYeHu7Cj1j+49uKg7uLU61tGLw1lq27ugQYlclHC4bgv7VQ+TAyj5Zc/UjsPvs1sd5cWryWObtvWT2EPa4rtnWW3JkpjggEpbOsPr7F7EyNewtpBIslA7p43HCsnwooXTEc3UmPmCNn5lrqTJxy6nRmcavGZVt/3Da2pD5NHvsOHJCrdc1G2r3DITpU7yic7w/7Rxnjc0kt5GC4djiv2Sz3Fb2iEZg41/ddsFDoyuYrIkmFehz0HR2thPgQqMyQYb2OtB0WxsZ3BeG3+wpRb1vzl2UYBog8FfGhttFKjtAclnZYrRo9ryG9uG/FZQU4AEg8ZE9LjGMzTmqKXPLnlWVnIlQQTvxJf8ip7VgjZjyVPrjw1te5otM7RmP7xm+sK2Gv9I8Gi++BRbEkR9EBw8zRUcKxwp73xkaLiqQb+kGduJTNHG72zcW9LoJgqQxpP3/Tj//c3yB0tqzaml05/+orHLksVO+95kX7/7qgJvnjlrfr2Ggsyx0eoy9uPzN5SPd86aXggOsEKW2Prz7du3VID3/tzs/sSRs2w7ovVHKtjrX2pd7ZMlTxAYfBAL9jiDwfLkq55Tm7ifhMlTGPyCAs7RFRhn47JnlcB9RM5T97ASuZXIcVNuUDIndpDbdsfrqsOppeXl5Y+XVKdjFCTh+zGaVuj0d9zy05PPK3QzBamxdwtTCrzyg/2Rvf2EstUjordGwa/kx9mSJLr8mLLtCW8HHGJc2R5hS219IiF6PnTusOqcMl57gm0Z8kanKMAQg0qSyuZfn7zItsbGyO9QlnxY0eCuD1XL2ys/MsrQhltE7Ug0uFOzufJFE2PxBo/YAx8XPPdDwWN0MrDRYIZF0mSMKCNHgaIVFoBbNoLJ7tEQDKxGF0kcLQimojCZopv0OkNOyWCCg9XMVAi7ARJzQdM2QUh0gmBozjc3Skg6dSBRqDGYSUOu66Zg+I2fNZs/M3/f/Grl/XnyF1Gw3VKCez0PN5IUfFLqvgUN4C0qNqYs5YhPL+aVZYDE4IpUk57oSFnJm4FyCqqOE0jhY2SMyLFoo56zyo6becOS5UVDdj7Vih0zp+tcMhwRpBeLyqtIjlJKAIZSbI8SGSF3k0pA3mR5tHuwPFoa7N7reoq2bqCsAk1HqCu5uvI1n6JuRXI+S1Mco54YmYTwcn6Aeic+kssXi8XpXC4V3t7/ADuTNKaQJdScAAAAAElFTkSuQmCC)](https://mybinder.org/v2/gh/linogaliana/python-datascientist/master?filepath=/__w/python-datascientist/python-datascientist/notebooks/course/NLP/05_exo_supp.ipynb)\n",
    "[![Open In Colab](https://colab.research.google.com/assets/colab-badge.svg)](http://colab.research.google.com/github/linogaliana/python-datascientist/blob/master//__w/python-datascientist/python-datascientist/notebooks/course/NLP/05_exo_supp.ipynb)\n",
    "\n",
    "Cette page approfondit certains aspects présentés dans les autres tutoriels. Il s'agit d'une suite d'exercice, avec corrections, pour présenter d'autres aspects du NLP ou pratiquer sur des données différentes"
   ]
  },
  {
   "cell_type": "markdown",
   "id": "bad1a032",
   "metadata": {},
   "source": [
    "# Exploration des libellés de l'openfood database\n",
    "\n",
    "L'objectif de cet exercice est d'analyser les termes les plus fréquents\n",
    "dans les noms de produits de l'openfood database. Au passage, cela permet de réviser les étapes de *preprocessing* (LIEN XXXXX) et d'explorer les enjeux de reconnaissance d'entités nommées. \n",
    "\n",
    "Dans cet exercice:\n",
    "\n",
    "* tokenisation (`nltk`)\n",
    "* retrait des stop words (`nltk`)\n",
    "* nuage de mots (`wordcloud`)\n",
    "* reconnaissance du langage (`fasttext`)\n",
    "* reconnaissance d'entités nommées (`spacy`)\n",
    "\n",
    "le tout sur l'OpenFood Database, une base de données alimentaire qui est enrichie de manière collaborative. \n",
    "\n",
    "Pour pouvoir utiliser les modèles pré-entraînés de `spaCy`, il faut les télécharger. La méthode préconisée est d'utiliser, depuis un terminal, la commande suivante"
   ]
  },
  {
   "cell_type": "code",
   "execution_count": null,
   "id": "4c69b493",
   "metadata": {},
   "outputs": [],
   "source": [
    "python -m spacy download fr_core_news_sm"
   ]
  },
  {
   "cell_type": "markdown",
   "id": "a5d92d1a",
   "metadata": {},
   "source": [
    "Dans un notebook jupyter, il se peut qu'il soit nécessaire de relancer le kernel.\n",
    "\n",
    "Si l'accès à la ligne de commande n'est pas possible, ou si la commande échoue, il est possible de télécharger le modèle pré-entraîné directement depuis une session `Python`"
   ]
  },
  {
   "cell_type": "code",
   "execution_count": null,
   "id": "fdde4125",
   "metadata": {
    "lines_to_next_cell": 0
   },
   "outputs": [],
   "source": [
    "import spacy\n",
    "spacy.cli.download('fr_core_news_sm')"
   ]
  },
  {
   "cell_type": "markdown",
   "id": "045305a9",
   "metadata": {},
   "source": []
  },
  {
   "cell_type": "markdown",
   "id": "ac949516",
   "metadata": {},
   "source": [
    "1. Importer le modèle de reconnaissance de langage qui sera utilisé par la suite\n",
    "ainsi que le corpus Français utilisé par `spacy`\n",
    "\n"
   ]
  },
  {
   "cell_type": "markdown",
   "id": "572d46ce",
   "metadata": {},
   "source": [
    "2. Importer les données de l'[openfood database](https://fr.openfoodfacts.org/data) à partir du code suivant"
   ]
  },
  {
   "cell_type": "markdown",
   "id": "5ef56400",
   "metadata": {},
   "source": [
    "```\n",
    "## ('/tmp/tmp7ihrb_we.openfood.csv', <http.client.HTTPMessage object at 0x7f7cf7e03100>)\n",
    "```\n",
    "\n",
    "Ces données devraient avoir l'aspect suivant:"
   ]
  },
  {
   "cell_type": "markdown",
   "id": "72f7e2e8",
   "metadata": {},
   "source": [
    "```\n",
    "##      product_name\n",
    "## 0  jeunes pousses\n",
    "## 1         L.casei\n",
    "```"
   ]
  },
  {
   "cell_type": "markdown",
   "id": "ce2cace5",
   "metadata": {},
   "source": [
    "3. Créer une fonction de nettoyage des noms de produits effectuant les \n",
    "étapes suivantes:\n",
    "\n",
    "* tokeniser le texte en question\n",
    "* retirer la ponctuation et les _stopwords_\n",
    "\n",
    "Appliquer cette fonction à l'ensemble des noms de produits (variable\n",
    "`product_name`)\n"
   ]
  },
  {
   "cell_type": "markdown",
   "id": "50b39768",
   "metadata": {},
   "source": [
    "4. Effectuer un nuage de mot sur les libellés avant et après nettoyage\n",
    "pour comprendre la structure du corpus en question.\n",
    "Le résultat devrait avoir l'apparence suivante\n",
    "\n",
    "\n"
   ]
  },
  {
   "cell_type": "markdown",
   "id": "164e5a2e",
   "metadata": {},
   "source": [
    "5. Utiliser la librairie `fasttext` pour extraire les noms de produits\n",
    "français\n",
    "\n",
    "* Appliquer le modèle téléchargé précedemment pour déterminer le langage\n",
    "* Ne récupérer que les libellés français"
   ]
  },
  {
   "cell_type": "markdown",
   "id": "9eea4b3f",
   "metadata": {},
   "source": [
    "```\n",
    "## Warning : `load_model` does not return WordVectorModel or SupervisedModel any more, but a `FastText` object which is very similar.\n",
    "```\n",
    "\n",
    "```\n",
    "##                    product_name             tokenized language  score_language\n",
    "## 0                jeunes pousses        jeunes pousses       fr        0.971347\n",
    "## 7   moutarde au moût de raisin   moutarde moût raisin       fr        0.990018\n",
    "```"
   ]
  },
  {
   "cell_type": "markdown",
   "id": "f98c05ea",
   "metadata": {},
   "source": [
    "6. Visualiser avec `spacy.displacy` le résultat d'une reconnaissance\n",
    "d'entités nommées sur 50 données aléatoires. Cela vous semble-t-il satisfaisant ?\n"
   ]
  },
  {
   "cell_type": "markdown",
   "id": "ea8c2044",
   "metadata": {},
   "source": [
    "<!DOCTYPE html>\n",
    "<html lang=\"fr\">\n",
    "    <head>\n",
    "        <title>displaCy</title>\n",
    "    </head>\n",
    "\n",
    "    <body style=\"font-size: 16px; font-family: -apple-system, BlinkMacSystemFont, 'Segoe UI', Helvetica, Arial, sans-serif, 'Apple Color Emoji', 'Segoe UI Emoji', 'Segoe UI Symbol'; padding: 4rem 2rem; direction: ltr\">\n",
    "<figure style=\"margin-bottom: 6rem\">\n",
    "<div class=\"entities\" style=\"line-height: 2.5; direction: ltr\">Cru Bourgeois Supérieur 2006 </br> Poulet </br> Coco gourmand </br> Escalope de Dinde </br> Choux Fraise par 2 </br> Mélange de légumes </br> \n",
    "<mark class=\"entity\" style=\"background: #ff9561; padding: 0.45em 0.6em; margin: 0 0.25em; line-height: 1; border-radius: 0.35em;\">\n",
    "    Lonzo\n",
    "    <span style=\"font-size: 0.8em; font-weight: bold; line-height: 1; border-radius: 0.35em; vertical-align: middle; margin-left: 0.5rem\">LOC</span>\n",
    "</mark>\n",
    " de l'île de beauté </br> \n",
    "<mark class=\"entity\" style=\"background: #ddd; padding: 0.45em 0.6em; margin: 0 0.25em; line-height: 1; border-radius: 0.35em;\">\n",
    "    Panier de Yoplait\n",
    "    <span style=\"font-size: 0.8em; font-weight: bold; line-height: 1; border-radius: 0.35em; vertical-align: middle; margin-left: 0.5rem\">PER</span>\n",
    "</mark>\n",
    " (\n",
    "<mark class=\"entity\" style=\"background: #ff9561; padding: 0.45em 0.6em; margin: 0 0.25em; line-height: 1; border-radius: 0.35em;\">\n",
    "    Fraise\n",
    "    <span style=\"font-size: 0.8em; font-weight: bold; line-height: 1; border-radius: 0.35em; vertical-align: middle; margin-left: 0.5rem\">LOC</span>\n",
    "</mark>\n",
    ", cerise, mûre, framboise) </br> \n",
    "<mark class=\"entity\" style=\"background: #ff9561; padding: 0.45em 0.6em; margin: 0 0.25em; line-height: 1; border-radius: 0.35em;\">\n",
    "    Sirea - Cachou Réglisse\n",
    "    <span style=\"font-size: 0.8em; font-weight: bold; line-height: 1; border-radius: 0.35em; vertical-align: middle; margin-left: 0.5rem\">LOC</span>\n",
    "</mark>\n",
    " / \n",
    "<mark class=\"entity\" style=\"background: #ff9561; padding: 0.45em 0.6em; margin: 0 0.25em; line-height: 1; border-radius: 0.35em;\">\n",
    "    Eucalyptus\n",
    "    <span style=\"font-size: 0.8em; font-weight: bold; line-height: 1; border-radius: 0.35em; vertical-align: middle; margin-left: 0.5rem\">LOC</span>\n",
    "</mark>\n",
    " - 15 g - Sa? </br> \n",
    "<mark class=\"entity\" style=\"background: #ddd; padding: 0.45em 0.6em; margin: 0 0.25em; line-height: 1; border-radius: 0.35em;\">\n",
    "    Whey\n",
    "    <span style=\"font-size: 0.8em; font-weight: bold; line-height: 1; border-radius: 0.35em; vertical-align: middle; margin-left: 0.5rem\">PER</span>\n",
    "</mark>\n",
    " plus </br> Glace artisanale végétale </br> \n",
    "<mark class=\"entity\" style=\"background: #ff9561; padding: 0.45em 0.6em; margin: 0 0.25em; line-height: 1; border-radius: 0.35em;\">\n",
    "    Oranges\n",
    "    <span style=\"font-size: 0.8em; font-weight: bold; line-height: 1; border-radius: 0.35em; vertical-align: middle; margin-left: 0.5rem\">LOC</span>\n",
    "</mark>\n",
    " pressées 100% pur jus </br> \n",
    "<mark class=\"entity\" style=\"background: #ddd; padding: 0.45em 0.6em; margin: 0 0.25em; line-height: 1; border-radius: 0.35em;\">\n",
    "    Velouté\n",
    "    <span style=\"font-size: 0.8em; font-weight: bold; line-height: 1; border-radius: 0.35em; vertical-align: middle; margin-left: 0.5rem\">MISC</span>\n",
    "</mark>\n",
    " de tomates bio et homard </br> Duo d’olives à l’ancienne </br> \n",
    "<mark class=\"entity\" style=\"background: #ddd; padding: 0.45em 0.6em; margin: 0 0.25em; line-height: 1; border-radius: 0.35em;\">\n",
    "    Salade\n",
    "    <span style=\"font-size: 0.8em; font-weight: bold; line-height: 1; border-radius: 0.35em; vertical-align: middle; margin-left: 0.5rem\">PER</span>\n",
    "</mark>\n",
    " de fruit rouge </br> \n",
    "<mark class=\"entity\" style=\"background: #ddd; padding: 0.45em 0.6em; margin: 0 0.25em; line-height: 1; border-radius: 0.35em;\">\n",
    "    Rib’\n",
    "    <span style=\"font-size: 0.8em; font-weight: bold; line-height: 1; border-radius: 0.35em; vertical-align: middle; margin-left: 0.5rem\">PER</span>\n",
    "</mark>\n",
    "s de porc mexicain cuit sous vide </br> \n",
    "<mark class=\"entity\" style=\"background: #7aecec; padding: 0.45em 0.6em; margin: 0 0.25em; line-height: 1; border-radius: 0.35em;\">\n",
    "    Boulettes\n",
    "    <span style=\"font-size: 0.8em; font-weight: bold; line-height: 1; border-radius: 0.35em; vertical-align: middle; margin-left: 0.5rem\">ORG</span>\n",
    "</mark>\n",
    " végétales </br> Grillon charentais </br> Yaourt hyper calorique \n",
    "<mark class=\"entity\" style=\"background: #ddd; padding: 0.45em 0.6em; margin: 0 0.25em; line-height: 1; border-radius: 0.35em;\">\n",
    "    Biscuité \n",
    " \n",
    "    <span style=\"font-size: 0.8em; font-weight: bold; line-height: 1; border-radius: 0.35em; vertical-align: middle; margin-left: 0.5rem\">PER</span>\n",
    "</mark>\n",
    "Nougat amande pistache </br> \n",
    "<mark class=\"entity\" style=\"background: #ddd; padding: 0.45em 0.6em; margin: 0 0.25em; line-height: 1; border-radius: 0.35em;\">\n",
    "    Vinaigrette francaise\n",
    "    <span style=\"font-size: 0.8em; font-weight: bold; line-height: 1; border-radius: 0.35em; vertical-align: middle; margin-left: 0.5rem\">MISC</span>\n",
    "</mark>\n",
    " </br> Tagliatelles de carottes \n",
    "<mark class=\"entity\" style=\"background: #7aecec; padding: 0.45em 0.6em; margin: 0 0.25em; line-height: 1; border-radius: 0.35em;\">\n",
    "    ESV\n",
    "    <span style=\"font-size: 0.8em; font-weight: bold; line-height: 1; border-radius: 0.35em; vertical-align: middle; margin-left: 0.5rem\">ORG</span>\n",
    "</mark>\n",
    " </br> \n",
    "<mark class=\"entity\" style=\"background: #ddd; padding: 0.45em 0.6em; margin: 0 0.25em; line-height: 1; border-radius: 0.35em;\">\n",
    "    Petit Lait \n",
    " \n",
    "    <span style=\"font-size: 0.8em; font-weight: bold; line-height: 1; border-radius: 0.35em; vertical-align: middle; margin-left: 0.5rem\">MISC</span>\n",
    "</mark>\n",
    "Yaourt 1/2 \n",
    "<mark class=\"entity\" style=\"background: #ff9561; padding: 0.45em 0.6em; margin: 0 0.25em; line-height: 1; border-radius: 0.35em;\">\n",
    "    �\n",
    "    <span style=\"font-size: 0.8em; font-weight: bold; line-height: 1; border-radius: 0.35em; vertical-align: middle; margin-left: 0.5rem\">LOC</span>\n",
    "</mark>\n",
    "cr\n",
    "<mark class=\"entity\" style=\"background: #ff9561; padding: 0.45em 0.6em; margin: 0 0.25em; line-height: 1; border-radius: 0.35em;\">\n",
    "    �\n",
    "    <span style=\"font-size: 0.8em; font-weight: bold; line-height: 1; border-radius: 0.35em; vertical-align: middle; margin-left: 0.5rem\">LOC</span>\n",
    "</mark>\n",
    "m� \n",
    "<mark class=\"entity\" style=\"background: #ddd; padding: 0.45em 0.6em; margin: 0 0.25em; line-height: 1; border-radius: 0.35em;\">\n",
    "    Aromatis�\n",
    "    <span style=\"font-size: 0.8em; font-weight: bold; line-height: 1; border-radius: 0.35em; vertical-align: middle; margin-left: 0.5rem\">PER</span>\n",
    "</mark>\n",
    " Fraise Seau 10kg </br> \n",
    "<mark class=\"entity\" style=\"background: #ff9561; padding: 0.45em 0.6em; margin: 0 0.25em; line-height: 1; border-radius: 0.35em;\">\n",
    "    Cantal\n",
    "    <span style=\"font-size: 0.8em; font-weight: bold; line-height: 1; border-radius: 0.35em; vertical-align: middle; margin-left: 0.5rem\">LOC</span>\n",
    "</mark>\n",
    " entre-deux bio </br> \n",
    "<mark class=\"entity\" style=\"background: #ddd; padding: 0.45em 0.6em; margin: 0 0.25em; line-height: 1; border-radius: 0.35em;\">\n",
    "    Lentilles\n",
    "    <span style=\"font-size: 0.8em; font-weight: bold; line-height: 1; border-radius: 0.35em; vertical-align: middle; margin-left: 0.5rem\">PER</span>\n",
    "</mark>\n",
    " cuisinees </br> \n",
    "<mark class=\"entity\" style=\"background: #ddd; padding: 0.45em 0.6em; margin: 0 0.25em; line-height: 1; border-radius: 0.35em;\">\n",
    "    Boule\n",
    "    <span style=\"font-size: 0.8em; font-weight: bold; line-height: 1; border-radius: 0.35em; vertical-align: middle; margin-left: 0.5rem\">PER</span>\n",
    "</mark>\n",
    " italienne </br> \n",
    "<mark class=\"entity\" style=\"background: #ddd; padding: 0.45em 0.6em; margin: 0 0.25em; line-height: 1; border-radius: 0.35em;\">\n",
    "    Jambon\n",
    "    <span style=\"font-size: 0.8em; font-weight: bold; line-height: 1; border-radius: 0.35em; vertical-align: middle; margin-left: 0.5rem\">PER</span>\n",
    "</mark>\n",
    " Comté salade et crudité vinaigrette allégée aux herbes </br> \n",
    "<mark class=\"entity\" style=\"background: #ff9561; padding: 0.45em 0.6em; margin: 0 0.25em; line-height: 1; border-radius: 0.35em;\">\n",
    "    Croissants AOP\n",
    "    <span style=\"font-size: 0.8em; font-weight: bold; line-height: 1; border-radius: 0.35em; vertical-align: middle; margin-left: 0.5rem\">LOC</span>\n",
    "</mark>\n",
    " charentes </br> 2 cuisses de poulet  </br> \n",
    "<mark class=\"entity\" style=\"background: #ddd; padding: 0.45em 0.6em; margin: 0 0.25em; line-height: 1; border-radius: 0.35em;\">\n",
    "    Jus de Tomate \n",
    " Fondue\n",
    "    <span style=\"font-size: 0.8em; font-weight: bold; line-height: 1; border-radius: 0.35em; vertical-align: middle; margin-left: 0.5rem\">PER</span>\n",
    "</mark>\n",
    " de borgoña </br> 50CL Soupe Saveur Tomate Epeautre </br> Confiture extra mures du massif central </br> Donuts halowenn au cacao </br> Assortiment guimauve au chocolat noir grand frais </br> \n",
    "<mark class=\"entity\" style=\"background: #ddd; padding: 0.45em 0.6em; margin: 0 0.25em; line-height: 1; border-radius: 0.35em;\">\n",
    "    Chocolat\n",
    "    <span style=\"font-size: 0.8em; font-weight: bold; line-height: 1; border-radius: 0.35em; vertical-align: middle; margin-left: 0.5rem\">MISC</span>\n",
    "</mark>\n",
    " dessert </br> \n",
    "<mark class=\"entity\" style=\"background: #ddd; padding: 0.45em 0.6em; margin: 0 0.25em; line-height: 1; border-radius: 0.35em;\">\n",
    "    Préparation\n",
    "    <span style=\"font-size: 0.8em; font-weight: bold; line-height: 1; border-radius: 0.35em; vertical-align: middle; margin-left: 0.5rem\">MISC</span>\n",
    "</mark>\n",
    " pour pain maison seigle schwarzbrot </br> The pour le foie </br> \n",
    "<mark class=\"entity\" style=\"background: #ff9561; padding: 0.45em 0.6em; margin: 0 0.25em; line-height: 1; border-radius: 0.35em;\">\n",
    "    Purée Prune\n",
    "    <span style=\"font-size: 0.8em; font-weight: bold; line-height: 1; border-radius: 0.35em; vertical-align: middle; margin-left: 0.5rem\">LOC</span>\n",
    "</mark>\n",
    " et poire </br> \n",
    "<mark class=\"entity\" style=\"background: #ff9561; padding: 0.45em 0.6em; margin: 0 0.25em; line-height: 1; border-radius: 0.35em;\">\n",
    "    Noix de Saint-Jacques\n",
    "    <span style=\"font-size: 0.8em; font-weight: bold; line-height: 1; border-radius: 0.35em; vertical-align: middle; margin-left: 0.5rem\">LOC</span>\n",
    "</mark>\n",
    " </br> Miel de fleurs </br> \n",
    "<mark class=\"entity\" style=\"background: #ddd; padding: 0.45em 0.6em; margin: 0 0.25em; line-height: 1; border-radius: 0.35em;\">\n",
    "    Filets de Sardines\n",
    "    <span style=\"font-size: 0.8em; font-weight: bold; line-height: 1; border-radius: 0.35em; vertical-align: middle; margin-left: 0.5rem\">PER</span>\n",
    "</mark>\n",
    " au \n",
    "<mark class=\"entity\" style=\"background: #ff9561; padding: 0.45em 0.6em; margin: 0 0.25em; line-height: 1; border-radius: 0.35em;\">\n",
    "    Citron\n",
    "    <span style=\"font-size: 0.8em; font-weight: bold; line-height: 1; border-radius: 0.35em; vertical-align: middle; margin-left: 0.5rem\">LOC</span>\n",
    "</mark>\n",
    " et au \n",
    "<mark class=\"entity\" style=\"background: #ff9561; padding: 0.45em 0.6em; margin: 0 0.25em; line-height: 1; border-radius: 0.35em;\">\n",
    "    Basilic \n",
    " \n",
    "    <span style=\"font-size: 0.8em; font-weight: bold; line-height: 1; border-radius: 0.35em; vertical-align: middle; margin-left: 0.5rem\">LOC</span>\n",
    "</mark>\n",
    "Batonnets de carotte </br> Rooibos numéro 25 </br> \n",
    "<mark class=\"entity\" style=\"background: #ff9561; padding: 0.45em 0.6em; margin: 0 0.25em; line-height: 1; border-radius: 0.35em;\">\n",
    "    Bâtonnets vannile\n",
    "    <span style=\"font-size: 0.8em; font-weight: bold; line-height: 1; border-radius: 0.35em; vertical-align: middle; margin-left: 0.5rem\">LOC</span>\n",
    "</mark>\n",
    "-chocolat au lait </br> \n",
    "<mark class=\"entity\" style=\"background: #ddd; padding: 0.45em 0.6em; margin: 0 0.25em; line-height: 1; border-radius: 0.35em;\">\n",
    "    Terrine de Campagne\n",
    "    <span style=\"font-size: 0.8em; font-weight: bold; line-height: 1; border-radius: 0.35em; vertical-align: middle; margin-left: 0.5rem\">PER</span>\n",
    "</mark>\n",
    " rotie </br> Soupe fraiche tomate basilic </br> Mangues séchées </br> \n",
    "<mark class=\"entity\" style=\"background: #ddd; padding: 0.45em 0.6em; margin: 0 0.25em; line-height: 1; border-radius: 0.35em;\">\n",
    "    Boeuf Aberdeen\n",
    "    <span style=\"font-size: 0.8em; font-weight: bold; line-height: 1; border-radius: 0.35em; vertical-align: middle; margin-left: 0.5rem\">PER</span>\n",
    "</mark>\n",
    " Angus Haché 5% Mat. Gr.</div>\n",
    "</figure>\n",
    "</body>\n",
    "</html>\n",
    "\n",
    "7. Récupérer dans un vecteur les entités nommées reconnues par `spaCy`.\n",
    "Regarder les entités reconnues dans les 20 premiers libellés de produits "
   ]
  },
  {
   "cell_type": "markdown",
   "id": "21cf814f",
   "metadata": {},
   "source": [
    "```\n",
    "## [[], [], [('Pistou', 'PER')], [], [('Limonade', 'PER')], [('Sachet', 'PER')], [], [], [('Salade', 'PER')], [], [('Vainilla', 'PER')], [], [('Solène', 'PER')], [], [('Caramel', 'ORG')], [('Salade', 'PER')], [], [], [], [('Bouillie', 'PER')]]\n",
    "```"
   ]
  },
  {
   "cell_type": "markdown",
   "id": "fa6e0e35",
   "metadata": {},
   "source": [
    "<!----\n",
    "# State of the union address"
   ]
  },
  {
   "cell_type": "markdown",
   "id": "f231b9b4",
   "metadata": {},
   "source": [
    "Un exercice à venir sur l'analyse des discours des présidents américains \n",
    "inspiré de https://github.com/BuzzFeedNews/2018-01-trump-state-of-the-union\n",
    "---->"
   ]
  }
 ],
 "metadata": {
  "kernelspec": {
   "display_name": "Python 3",
   "language": "python",
   "name": "python3"
  }
 },
 "nbformat": 4,
 "nbformat_minor": 5
}
