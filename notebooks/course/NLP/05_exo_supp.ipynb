{
 "cells": [
  {
   "cell_type": "markdown",
   "id": "fd9c3c85",
   "metadata": {},
   "source": [
    "#  Exercices supplémentaires\n",
    "\n"
   ]
  },
  {
   "cell_type": "markdown",
   "id": "1fb7e715",
   "metadata": {},
   "source": [
    "<a href=\"https://github.com/linogaliana/python-datascientist/blob/master/notebooks/course/NLP/05_exo_supp.ipynb\" class=\"github\"><i class=\"fab fa-github\"></i></a>\n",
    "[![nbviewer](https://img.shields.io/badge/visualize-nbviewer-blue)](https://nbviewer.jupyter.org/github/linogaliana/python-datascientist/blob/master/notebooks/course/NLP/05_exo_supp.ipynb)\n",
    "[![Onyxia](https://img.shields.io/badge/SSPcloud-Tester%20via%20SSP--cloud-informational&color=yellow?logo=Python)](https://datalab.sspcloud.fr/launcher/inseefrlab-helm-charts-datascience/jupyter?onyxia.friendlyName=%C2%ABpython-datascientist%C2%BB&resources.requests.memory=%C2%AB4Gi%C2%BB)\n",
    "[![Binder](https://mybinder.org/badge_logo.svg)](https://mybinder.org/v2/gh/linogaliana/python-datascientist/master?filepath=notebooks/course/NLP/05_exo_supp.ipynb)\n",
    "[![Open In Colab](https://colab.research.google.com/assets/colab-badge.svg)](http://colab.research.google.com/github/linogaliana/python-datascientist/blob/master/notebooks/course/NLP/05_exo_supp.ipynb)\n",
    "\n",
    "Cette page approfondit certains aspects présentés dans les autres tutoriels. Il s'agit d'une suite d'exercice, avec corrections, pour présenter d'autres aspects du NLP ou pratiquer sur des données différentes"
   ]
  },
  {
   "cell_type": "markdown",
   "id": "69181673",
   "metadata": {},
   "source": [
    "# Exploration des libellés de l'openfood database\n",
    "\n",
    "L'objectif de cet exercice est d'analyser les termes les plus fréquents\n",
    "dans les noms de produits de l'openfood database. Au passage, cela permet de réviser les étapes de *preprocessing* (LIEN XXXXX) et d'explorer les enjeux de reconnaissance d'entités nommées. \n",
    "\n",
    "Dans cet exercice:\n",
    "\n",
    "* tokenisation (`nltk`)\n",
    "* retrait des stop words (`nltk`)\n",
    "* nuage de mots (`wordcloud`)\n",
    "* reconnaissance du langage (`fasttext`)\n",
    "* reconnaissance d'entités nommées (`spacy`)\n",
    "\n",
    "le tout sur l'OpenFood Database, une base de données alimentaire qui est enrichie de manière collaborative. \n",
    "\n",
    "Pour pouvoir utiliser les modèles pré-entraînés de `spaCy`, il faut les télécharger. La méthode préconisée est d'utiliser, depuis un terminal, la commande suivante"
   ]
  },
  {
   "cell_type": "code",
   "execution_count": null,
   "id": "26dd1cfe",
   "metadata": {},
   "outputs": [],
   "source": [
    "python -m spacy download fr_core_news_sm"
   ]
  },
  {
   "cell_type": "markdown",
   "id": "8fb569cf",
   "metadata": {},
   "source": [
    "Dans un notebook jupyter, il se peut qu'il soit nécessaire de relancer le kernel.\n",
    "\n",
    "Si l'accès à la ligne de commande n'est pas possible, ou si la commande échoue, il est possible de télécharger le modèle pré-entraîné directement depuis une session `Python`"
   ]
  },
  {
   "cell_type": "code",
   "execution_count": null,
   "id": "49365506",
   "metadata": {
    "lines_to_next_cell": 0
   },
   "outputs": [],
   "source": [
    "import spacy\n",
    "spacy.cli.download('fr_core_news_sm')"
   ]
  },
  {
   "cell_type": "markdown",
   "id": "32c67148",
   "metadata": {},
   "source": []
  },
  {
   "cell_type": "markdown",
   "id": "22ba7f93",
   "metadata": {},
   "source": [
    "1. Importer le modèle de reconnaissance de langage qui sera utilisé par la suite\n",
    "ainsi que le corpus Français utilisé par `spacy`\n",
    "\n"
   ]
  },
  {
   "cell_type": "markdown",
   "id": "c5edf7fd",
   "metadata": {},
   "source": [
    "2. Importer les données de l'[openfood database](https://fr.openfoodfacts.org/data) à partir du code suivant"
   ]
  },
  {
   "cell_type": "markdown",
   "id": "b2ed7299",
   "metadata": {},
   "source": [
    "```\n",
    "## ('/tmp/tmp8dajynjm.openfood.csv', <http.client.HTTPMessage object at 0x7fcc95000910>)\n",
    "```\n",
    "\n",
    "Ces données devraient avoir l'aspect suivant:"
   ]
  },
  {
   "cell_type": "markdown",
   "id": "ea7a9041",
   "metadata": {},
   "source": [
    "```\n",
    "##      product_name\n",
    "## 0  jeunes pousses\n",
    "## 1         L.casei\n",
    "```"
   ]
  },
  {
   "cell_type": "markdown",
   "id": "3d9be9d8",
   "metadata": {},
   "source": [
    "3. Créer une fonction de nettoyage des noms de produits effectuant les \n",
    "étapes suivantes:\n",
    "\n",
    "* tokeniser le texte en question\n",
    "* retirer la ponctuation et les _stopwords_\n",
    "\n",
    "Appliquer cette fonction à l'ensemble des noms de produits (variable\n",
    "`product_name`)\n"
   ]
  },
  {
   "cell_type": "markdown",
   "id": "753d86bb",
   "metadata": {},
   "source": [
    "4. Effectuer un nuage de mot sur les libellés avant et après nettoyage\n",
    "pour comprendre la structure du corpus en question.\n",
    "Le résultat devrait avoir l'apparence suivante\n",
    "\n",
    "\n"
   ]
  },
  {
   "cell_type": "markdown",
   "id": "3d6cd9fd",
   "metadata": {},
   "source": [
    "5. Utiliser la librairie `fasttext` pour extraire les noms de produits\n",
    "français\n",
    "\n",
    "* Appliquer le modèle téléchargé précedemment pour déterminer le langage\n",
    "* Ne récupérer que les libellés français"
   ]
  },
  {
   "cell_type": "markdown",
   "id": "0bc1c884",
   "metadata": {},
   "source": [
    "```\n",
    "## Warning : `load_model` does not return WordVectorModel or SupervisedModel any more, but a `FastText` object which is very similar.\n",
    "```\n",
    "\n",
    "```\n",
    "##                    product_name             tokenized language  score_language\n",
    "## 0                jeunes pousses        jeunes pousses       fr        0.971347\n",
    "## 6   moutarde au moût de raisin   moutarde moût raisin       fr        0.990018\n",
    "```"
   ]
  },
  {
   "cell_type": "markdown",
   "id": "d218c255",
   "metadata": {},
   "source": [
    "6. Visualiser avec `spacy.displacy` le résultat d'une reconnaissance\n",
    "d'entités nommées sur 50 données aléatoires. Cela vous semble-t-il satisfaisant ?\n"
   ]
  },
  {
   "cell_type": "markdown",
   "id": "1d2737b3",
   "metadata": {},
   "source": [
    "<!DOCTYPE html>\n",
    "<html lang=\"fr\">\n",
    "    <head>\n",
    "        <title>displaCy</title>\n",
    "    </head>\n",
    "\n",
    "    <body style=\"font-size: 16px; font-family: -apple-system, BlinkMacSystemFont, 'Segoe UI', Helvetica, Arial, sans-serif, 'Apple Color Emoji', 'Segoe UI Emoji', 'Segoe UI Symbol'; padding: 4rem 2rem; direction: ltr\">\n",
    "<figure style=\"margin-bottom: 6rem\">\n",
    "<div class=\"entities\" style=\"line-height: 2.5; direction: ltr\">Araignée de porc garçon landaise </br> Limonade Mûre Cassis </br> Yaourt pur brebis sur lit de fraise </br> \n",
    "<mark class=\"entity\" style=\"background: #ddd; padding: 0.45em 0.6em; margin: 0 0.25em; line-height: 1; border-radius: 0.35em;\">\n",
    "    Le Gourmand Chocolat \n",
    " Badoit\n",
    "    <span style=\"font-size: 0.8em; font-weight: bold; line-height: 1; border-radius: 0.35em; vertical-align: middle; margin-left: 0.5rem\">MISC</span>\n",
    "</mark>\n",
    " bulles de fruits </br> \n",
    "<mark class=\"entity\" style=\"background: #ff9561; padding: 0.45em 0.6em; margin: 0 0.25em; line-height: 1; border-radius: 0.35em;\">\n",
    "    Sachet\n",
    "    <span style=\"font-size: 0.8em; font-weight: bold; line-height: 1; border-radius: 0.35em; vertical-align: middle; margin-left: 0.5rem\">LOC</span>\n",
    "</mark>\n",
    " bretzels moyennes </br> Granola Coco-\n",
    "<mark class=\"entity\" style=\"background: #ddd; padding: 0.45em 0.6em; margin: 0 0.25em; line-height: 1; border-radius: 0.35em;\">\n",
    "    Amande\n",
    "    <span style=\"font-size: 0.8em; font-weight: bold; line-height: 1; border-radius: 0.35em; vertical-align: middle; margin-left: 0.5rem\">PER</span>\n",
    "</mark>\n",
    " </br> Orange Confite enrobée de Chocolat Noir </br> \n",
    "<mark class=\"entity\" style=\"background: #ff9561; padding: 0.45em 0.6em; margin: 0 0.25em; line-height: 1; border-radius: 0.35em;\">\n",
    "    Noix\n",
    "    <span style=\"font-size: 0.8em; font-weight: bold; line-height: 1; border-radius: 0.35em; vertical-align: middle; margin-left: 0.5rem\">LOC</span>\n",
    "</mark>\n",
    " de cajou grillées et salées </br> Haricots rouges \n",
    "<mark class=\"entity\" style=\"background: #ddd; padding: 0.45em 0.6em; margin: 0 0.25em; line-height: 1; border-radius: 0.35em;\">\n",
    "    Kidney \n",
    " \n",
    "    <span style=\"font-size: 0.8em; font-weight: bold; line-height: 1; border-radius: 0.35em; vertical-align: middle; margin-left: 0.5rem\">PER</span>\n",
    "</mark>\n",
    "Andouille de \n",
    "<mark class=\"entity\" style=\"background: #ff9561; padding: 0.45em 0.6em; margin: 0 0.25em; line-height: 1; border-radius: 0.35em;\">\n",
    "    Vire\n",
    "    <span style=\"font-size: 0.8em; font-weight: bold; line-height: 1; border-radius: 0.35em; vertical-align: middle; margin-left: 0.5rem\">LOC</span>\n",
    "</mark>\n",
    " </br> Laniere de poulet </br> Steak Végétal Millet </br> \n",
    "<mark class=\"entity\" style=\"background: #ff9561; padding: 0.45em 0.6em; margin: 0 0.25em; line-height: 1; border-radius: 0.35em;\">\n",
    "    Chocolat\n",
    "    <span style=\"font-size: 0.8em; font-weight: bold; line-height: 1; border-radius: 0.35em; vertical-align: middle; margin-left: 0.5rem\">LOC</span>\n",
    "</mark>\n",
    " au lait avec crème </br> Torsades lentilles corail </br> \n",
    "<mark class=\"entity\" style=\"background: #ff9561; padding: 0.45em 0.6em; margin: 0 0.25em; line-height: 1; border-radius: 0.35em;\">\n",
    "    Terrine\n",
    "    <span style=\"font-size: 0.8em; font-weight: bold; line-height: 1; border-radius: 0.35em; vertical-align: middle; margin-left: 0.5rem\">LOC</span>\n",
    "</mark>\n",
    " à la biere ambrée </br> \n",
    "<mark class=\"entity\" style=\"background: #ff9561; padding: 0.45em 0.6em; margin: 0 0.25em; line-height: 1; border-radius: 0.35em;\">\n",
    "    Aiguillettes\n",
    "    <span style=\"font-size: 0.8em; font-weight: bold; line-height: 1; border-radius: 0.35em; vertical-align: middle; margin-left: 0.5rem\">LOC</span>\n",
    "</mark>\n",
    " de canard </br> Spécialité la laitière aux fruits </br> Saucisse de porc au basilic </br> Pâte papillon </br> Viande séchée </br> Souris d’agneau confite </br> Rôti de porc 4 tranches </br> Ribs de porc à la provençale </br> Filets de haddock fumé </br> \n",
    "<mark class=\"entity\" style=\"background: #ddd; padding: 0.45em 0.6em; margin: 0 0.25em; line-height: 1; border-radius: 0.35em;\">\n",
    "    Rillettes du Mans\n",
    "    <span style=\"font-size: 0.8em; font-weight: bold; line-height: 1; border-radius: 0.35em; vertical-align: middle; margin-left: 0.5rem\">MISC</span>\n",
    "</mark>\n",
    " - La véritable </br> pate de sesame </br> 6 \n",
    "<mark class=\"entity\" style=\"background: #7aecec; padding: 0.45em 0.6em; margin: 0 0.25em; line-height: 1; border-radius: 0.35em;\">\n",
    "    Crêpes Fraîches\n",
    "    <span style=\"font-size: 0.8em; font-weight: bold; line-height: 1; border-radius: 0.35em; vertical-align: middle; margin-left: 0.5rem\">ORG</span>\n",
    "</mark>\n",
    " </br> \n",
    "<mark class=\"entity\" style=\"background: #ff9561; padding: 0.45em 0.6em; margin: 0 0.25em; line-height: 1; border-radius: 0.35em;\">\n",
    "    Buche\n",
    "    <span style=\"font-size: 0.8em; font-weight: bold; line-height: 1; border-radius: 0.35em; vertical-align: middle; margin-left: 0.5rem\">LOC</span>\n",
    "</mark>\n",
    " de chevre paprika </br> \n",
    "<mark class=\"entity\" style=\"background: #ddd; padding: 0.45em 0.6em; margin: 0 0.25em; line-height: 1; border-radius: 0.35em;\">\n",
    "    Calendrier de l'Avent PSG \n",
    " \n",
    "    <span style=\"font-size: 0.8em; font-weight: bold; line-height: 1; border-radius: 0.35em; vertical-align: middle; margin-left: 0.5rem\">MISC</span>\n",
    "</mark>\n",
    "Infusion verveine menthe </br> Filets de maquereaux </br> \n",
    "<mark class=\"entity\" style=\"background: #ff9561; padding: 0.45em 0.6em; margin: 0 0.25em; line-height: 1; border-radius: 0.35em;\">\n",
    "    Amandes\n",
    "    <span style=\"font-size: 0.8em; font-weight: bold; line-height: 1; border-radius: 0.35em; vertical-align: middle; margin-left: 0.5rem\">LOC</span>\n",
    "</mark>\n",
    " </br> secrets de grand-mère </br> \n",
    "<mark class=\"entity\" style=\"background: #ddd; padding: 0.45em 0.6em; margin: 0 0.25em; line-height: 1; border-radius: 0.35em;\">\n",
    "    Spécial\n",
    "    <span style=\"font-size: 0.8em; font-weight: bold; line-height: 1; border-radius: 0.35em; vertical-align: middle; margin-left: 0.5rem\">MISC</span>\n",
    "</mark>\n",
    " jus </br> Infusion pour le travail </br> Brocheta de pollo </br> Beurre sale </br> Pains au chocolat </br> Guimauve fantaisie \n",
    "<mark class=\"entity\" style=\"background: #ddd; padding: 0.45em 0.6em; margin: 0 0.25em; line-height: 1; border-radius: 0.35em;\">\n",
    "    Fraise\n",
    "    <span style=\"font-size: 0.8em; font-weight: bold; line-height: 1; border-radius: 0.35em; vertical-align: middle; margin-left: 0.5rem\">PER</span>\n",
    "</mark>\n",
    " </br> Bolognese 228 </br> Crème de foie de porc </br> \n",
    "<mark class=\"entity\" style=\"background: #ddd; padding: 0.45em 0.6em; margin: 0 0.25em; line-height: 1; border-radius: 0.35em;\">\n",
    "    Fraise \n",
    " Chocolat\n",
    "    <span style=\"font-size: 0.8em; font-weight: bold; line-height: 1; border-radius: 0.35em; vertical-align: middle; margin-left: 0.5rem\">MISC</span>\n",
    "</mark>\n",
    " au lait </br> Pots dessert à la pomme banane et abricot \n",
    "<mark class=\"entity\" style=\"background: #ff9561; padding: 0.45em 0.6em; margin: 0 0.25em; line-height: 1; border-radius: 0.35em;\">\n",
    "    U_TOUT_PETITS Bio \n",
    " \n",
    "    <span style=\"font-size: 0.8em; font-weight: bold; line-height: 1; border-radius: 0.35em; vertical-align: middle; margin-left: 0.5rem\">LOC</span>\n",
    "</mark>\n",
    "Cœurs fondants au chocolat bio </br> Brut Dargent Blanc de Blancs Chardonnay </br> \n",
    "<mark class=\"entity\" style=\"background: #ddd; padding: 0.45em 0.6em; margin: 0 0.25em; line-height: 1; border-radius: 0.35em;\">\n",
    "    Amande\n",
    "    <span style=\"font-size: 0.8em; font-weight: bold; line-height: 1; border-radius: 0.35em; vertical-align: middle; margin-left: 0.5rem\">PER</span>\n",
    "</mark>\n",
    " </br> \n",
    "<mark class=\"entity\" style=\"background: #ddd; padding: 0.45em 0.6em; margin: 0 0.25em; line-height: 1; border-radius: 0.35em;\">\n",
    "    Ail\n",
    "    <span style=\"font-size: 0.8em; font-weight: bold; line-height: 1; border-radius: 0.35em; vertical-align: middle; margin-left: 0.5rem\">MISC</span>\n",
    "</mark>\n",
    " blanc </br> poulet rôti cuit</div>\n",
    "</figure>\n",
    "</body>\n",
    "</html>\n",
    "\n",
    "7. Récupérer dans un vecteur les entités nommées reconnues par `spaCy`.\n",
    "Regarder les entités reconnues dans les 20 premiers libellés de produits "
   ]
  },
  {
   "cell_type": "markdown",
   "id": "4effce08",
   "metadata": {},
   "source": [
    "```\n",
    "## [[], [], [('Pistou', 'PER')], [], [('Limonade', 'PER')], [('Sachet', 'PER')], [], [], [('Salade', 'PER')], [], [('Vainilla', 'PER')], [], [('Solène', 'PER')], [], [('Caramel', 'ORG')], [('Salade', 'PER')], [], [], [], [('Bouillie', 'PER')]]\n",
    "```"
   ]
  },
  {
   "cell_type": "markdown",
   "id": "4fac9fee",
   "metadata": {},
   "source": [
    "<!----\n",
    "# State of the union address"
   ]
  },
  {
   "cell_type": "markdown",
   "id": "2000bdf8",
   "metadata": {},
   "source": [
    "Un exercice à venir sur l'analyse des discours des présidents américains \n",
    "inspiré de https://github.com/BuzzFeedNews/2018-01-trump-state-of-the-union\n",
    "---->"
   ]
  }
 ],
 "metadata": {
  "kernelspec": {
   "display_name": "Python 3",
   "language": "python",
   "name": "python3"
  }
 },
 "nbformat": 4,
 "nbformat_minor": 5
}
