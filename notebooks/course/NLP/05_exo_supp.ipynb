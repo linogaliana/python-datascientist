{
 "cells": [
  {
   "cell_type": "markdown",
   "id": "1a873c14",
   "metadata": {},
   "source": [
    "#  Exercices supplémentaires\n",
    "\n"
   ]
  },
  {
   "cell_type": "markdown",
   "id": "9f7e0084",
   "metadata": {},
   "source": [
    "<a href=\"https://github.com/linogaliana/python-datascientist/blob/master//__w/python-datascientist/python-datascientist/notebooks/course/NLP/05_exo_supp.ipynb\" class=\"github\"><i class=\"fab fa-github\"></i></a>\n",
    "[![Download](https://img.shields.io/badge/Download-Notebook-important?logo=Jupyter)](https://downgit.github.io/#/home?url=https://github.com/linogaliana/python-datascientist/blob/master//__w/python-datascientist/python-datascientist/notebooks/course/NLP/05_exo_supp.ipynb)\n",
    "[![nbviewer](https://img.shields.io/badge/Visualize-nbviewer-blue?logo=Jupyter)](https://nbviewer.jupyter.org/github/linogaliana/python-datascientist/blob/master//__w/python-datascientist/python-datascientist/notebooks/course/NLP/05_exo_supp.ipynb)\n",
    "[![Onyxia](https://img.shields.io/badge/SSPcloud-Tester%20via%20SSP--cloud-informational&color=yellow?logo=Python)](https://datalab.sspcloud.fr/launcher/inseefrlab-helm-charts-datascience/jupyter?onyxia.friendlyName=«python-datascientist»&resources.requests.memory=«4Gi»&security.allowlist.enabled=false&init.personalInit=«https://raw.githubusercontent.com/linogaliana/python-datascientist/master/init_onyxia.sh»)\n",
    "[![Binder](https://img.shields.io/badge/Launch-Binder-E66581.svg?logo=data:image/png;base64,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)](https://mybinder.org/v2/gh/linogaliana/python-datascientist/master?filepath=/__w/python-datascientist/python-datascientist/notebooks/course/NLP/05_exo_supp.ipynb)\n",
    "[![Open In Colab](https://colab.research.google.com/assets/colab-badge.svg)](http://colab.research.google.com/github/linogaliana/python-datascientist/blob/master//__w/python-datascientist/python-datascientist/notebooks/course/NLP/05_exo_supp.ipynb)\n",
    "\n",
    "Cette page approfondit certains aspects présentés dans les autres tutoriels. Il s'agit d'une suite d'exercice, avec corrections, pour présenter d'autres aspects du NLP ou pratiquer sur des données différentes"
   ]
  },
  {
   "cell_type": "markdown",
   "id": "fe83c993",
   "metadata": {},
   "source": [
    "# Exploration des libellés de l'openfood database\n",
    "\n",
    "L'objectif de cet exercice est d'analyser les termes les plus fréquents\n",
    "dans les noms de produits de l'openfood database. Au passage, cela permet de réviser les étapes de *preprocessing* (LIEN XXXXX) et d'explorer les enjeux de reconnaissance d'entités nommées. \n",
    "\n",
    "Dans cet exercice:\n",
    "\n",
    "* tokenisation (`nltk`)\n",
    "* retrait des stop words (`nltk`)\n",
    "* nuage de mots (`wordcloud`)\n",
    "* reconnaissance du langage (`fasttext`)\n",
    "* reconnaissance d'entités nommées (`spacy`)\n",
    "\n",
    "le tout sur l'OpenFood Database, une base de données alimentaire qui est enrichie de manière collaborative. \n",
    "\n",
    "Pour pouvoir utiliser les modèles pré-entraînés de `spaCy`, il faut les télécharger. La méthode préconisée est d'utiliser, depuis un terminal, la commande suivante"
   ]
  },
  {
   "cell_type": "code",
   "execution_count": null,
   "id": "09a273ff",
   "metadata": {},
   "outputs": [],
   "source": [
    "python -m spacy download fr_core_news_sm"
   ]
  },
  {
   "cell_type": "markdown",
   "id": "dfc5f17a",
   "metadata": {},
   "source": [
    "Dans un notebook jupyter, il se peut qu'il soit nécessaire de relancer le kernel.\n",
    "\n",
    "Si l'accès à la ligne de commande n'est pas possible, ou si la commande échoue, il est possible de télécharger le modèle pré-entraîné directement depuis une session `Python`"
   ]
  },
  {
   "cell_type": "code",
   "execution_count": null,
   "id": "237f9dee",
   "metadata": {
    "lines_to_next_cell": 0
   },
   "outputs": [],
   "source": [
    "import spacy\n",
    "spacy.cli.download('fr_core_news_sm')"
   ]
  },
  {
   "cell_type": "markdown",
   "id": "33db5913",
   "metadata": {},
   "source": []
  },
  {
   "cell_type": "markdown",
   "id": "1f38e3a6",
   "metadata": {},
   "source": [
    "1. Importer le modèle de reconnaissance de langage qui sera utilisé par la suite\n",
    "ainsi que le corpus Français utilisé par `spacy`\n",
    "\n"
   ]
  },
  {
   "cell_type": "markdown",
   "id": "097b72b4",
   "metadata": {},
   "source": [
    "2. Importer les données de l'[openfood database](https://fr.openfoodfacts.org/data) à partir du code suivant"
   ]
  },
  {
   "cell_type": "markdown",
   "id": "6108f6b5",
   "metadata": {},
   "source": [
    "```\n",
    "## ('/tmp/tmptnfphtpk.openfood.csv', <http.client.HTTPMessage object at 0x7fa91e2fe100>)\n",
    "```\n",
    "\n",
    "Ces données devraient avoir l'aspect suivant:"
   ]
  },
  {
   "cell_type": "markdown",
   "id": "69cd9972",
   "metadata": {},
   "source": [
    "```\n",
    "##      product_name\n",
    "## 0  jeunes pousses\n",
    "## 1         L.casei\n",
    "```"
   ]
  },
  {
   "cell_type": "markdown",
   "id": "8e11b015",
   "metadata": {},
   "source": [
    "3. Créer une fonction de nettoyage des noms de produits effectuant les \n",
    "étapes suivantes:\n",
    "\n",
    "* tokeniser le texte en question\n",
    "* retirer la ponctuation et les _stopwords_\n",
    "\n",
    "Appliquer cette fonction à l'ensemble des noms de produits (variable\n",
    "`product_name`)\n"
   ]
  },
  {
   "cell_type": "markdown",
   "id": "0a62fb65",
   "metadata": {},
   "source": [
    "4. Effectuer un nuage de mot sur les libellés avant et après nettoyage\n",
    "pour comprendre la structure du corpus en question.\n",
    "Le résultat devrait avoir l'apparence suivante\n",
    "\n",
    "\n"
   ]
  },
  {
   "cell_type": "markdown",
   "id": "7df0e892",
   "metadata": {},
   "source": [
    "5. Utiliser la librairie `fasttext` pour extraire les noms de produits\n",
    "français\n",
    "\n",
    "* Appliquer le modèle téléchargé précedemment pour déterminer le langage\n",
    "* Ne récupérer que les libellés français"
   ]
  },
  {
   "cell_type": "markdown",
   "id": "29355a20",
   "metadata": {},
   "source": [
    "```\n",
    "## Warning : `load_model` does not return WordVectorModel or SupervisedModel any more, but a `FastText` object which is very similar.\n",
    "```\n",
    "\n",
    "```\n",
    "##                    product_name             tokenized language  score_language\n",
    "## 0                jeunes pousses        jeunes pousses       fr        0.971347\n",
    "## 7   moutarde au moût de raisin   moutarde moût raisin       fr        0.990018\n",
    "```"
   ]
  },
  {
   "cell_type": "markdown",
   "id": "ea7d271b",
   "metadata": {},
   "source": [
    "6. Visualiser avec `spacy.displacy` le résultat d'une reconnaissance\n",
    "d'entités nommées sur 50 données aléatoires. Cela vous semble-t-il satisfaisant ?\n"
   ]
  },
  {
   "cell_type": "markdown",
   "id": "a0db5cba",
   "metadata": {},
   "source": [
    "<!DOCTYPE html>\n",
    "<html lang=\"fr\">\n",
    "    <head>\n",
    "        <title>displaCy</title>\n",
    "    </head>\n",
    "\n",
    "    <body style=\"font-size: 16px; font-family: -apple-system, BlinkMacSystemFont, 'Segoe UI', Helvetica, Arial, sans-serif, 'Apple Color Emoji', 'Segoe UI Emoji', 'Segoe UI Symbol'; padding: 4rem 2rem; direction: ltr\">\n",
    "<figure style=\"margin-bottom: 6rem\">\n",
    "<div class=\"entities\" style=\"line-height: 2.5; direction: ltr\">Mix graines grillées et salées </br> \n",
    "<mark class=\"entity\" style=\"background: #ddd; padding: 0.45em 0.6em; margin: 0 0.25em; line-height: 1; border-radius: 0.35em;\">\n",
    "    Breton\n",
    "    <span style=\"font-size: 0.8em; font-weight: bold; line-height: 1; border-radius: 0.35em; vertical-align: middle; margin-left: 0.5rem\">PER</span>\n",
    "</mark>\n",
    " basil et olive </br> Lot 12x Pruneaux d'Agen IGP BIO - B&amp;S - paquet 250g </br> Le foie gras de canard entier mi-cuit </br> rillettes comtoises </br> \n",
    "<mark class=\"entity\" style=\"background: #7aecec; padding: 0.45em 0.6em; margin: 0 0.25em; line-height: 1; border-radius: 0.35em;\">\n",
    "    Tartelettes\n",
    "    <span style=\"font-size: 0.8em; font-weight: bold; line-height: 1; border-radius: 0.35em; vertical-align: middle; margin-left: 0.5rem\">ORG</span>\n",
    "</mark>\n",
    " à la noix de coco et au chocolat </br> Son de blé \n",
    "<mark class=\"entity\" style=\"background: #7aecec; padding: 0.45em 0.6em; margin: 0 0.25em; line-height: 1; border-radius: 0.35em;\">\n",
    "    Gerblé \n",
    " Preparation\n",
    "    <span style=\"font-size: 0.8em; font-weight: bold; line-height: 1; border-radius: 0.35em; vertical-align: middle; margin-left: 0.5rem\">ORG</span>\n",
    "</mark>\n",
    " pour cake à la rose </br> Gourmandises de volaille figue entière et poitrine fumée </br> L'ancelle </br> \n",
    "<mark class=\"entity\" style=\"background: #ddd; padding: 0.45em 0.6em; margin: 0 0.25em; line-height: 1; border-radius: 0.35em;\">\n",
    "    Fusilli\n",
    "    <span style=\"font-size: 0.8em; font-weight: bold; line-height: 1; border-radius: 0.35em; vertical-align: middle; margin-left: 0.5rem\">PER</span>\n",
    "</mark>\n",
    " au blé complet </br> Les sablés de \n",
    "<mark class=\"entity\" style=\"background: #ff9561; padding: 0.45em 0.6em; margin: 0 0.25em; line-height: 1; border-radius: 0.35em;\">\n",
    "    Nancay\n",
    "    <span style=\"font-size: 0.8em; font-weight: bold; line-height: 1; border-radius: 0.35em; vertical-align: middle; margin-left: 0.5rem\">LOC</span>\n",
    "</mark>\n",
    " </br> Ribs de porc au piment d’espelette </br> \n",
    "<mark class=\"entity\" style=\"background: #ddd; padding: 0.45em 0.6em; margin: 0 0.25em; line-height: 1; border-radius: 0.35em;\">\n",
    "    Jambon\n",
    "    <span style=\"font-size: 0.8em; font-weight: bold; line-height: 1; border-radius: 0.35em; vertical-align: middle; margin-left: 0.5rem\">PER</span>\n",
    "</mark>\n",
    " supérieur cuit à l'étouffée </br> \n",
    "<mark class=\"entity\" style=\"background: #ddd; padding: 0.45em 0.6em; margin: 0 0.25em; line-height: 1; border-radius: 0.35em;\">\n",
    "    Roti\n",
    "    <span style=\"font-size: 0.8em; font-weight: bold; line-height: 1; border-radius: 0.35em; vertical-align: middle; margin-left: 0.5rem\">MISC</span>\n",
    "</mark>\n",
    " de porc </br> \n",
    "<mark class=\"entity\" style=\"background: #ddd; padding: 0.45em 0.6em; margin: 0 0.25em; line-height: 1; border-radius: 0.35em;\">\n",
    "    Piselli\n",
    "    <span style=\"font-size: 0.8em; font-weight: bold; line-height: 1; border-radius: 0.35em; vertical-align: middle; margin-left: 0.5rem\">PER</span>\n",
    "</mark>\n",
    " extrafini </br> \n",
    "<mark class=\"entity\" style=\"background: #ddd; padding: 0.45em 0.6em; margin: 0 0.25em; line-height: 1; border-radius: 0.35em;\">\n",
    "    Le Vieux Lavoir\n",
    "    <span style=\"font-size: 0.8em; font-weight: bold; line-height: 1; border-radius: 0.35em; vertical-align: middle; margin-left: 0.5rem\">MISC</span>\n",
    "</mark>\n",
    ", \n",
    "<mark class=\"entity\" style=\"background: #ff9561; padding: 0.45em 0.6em; margin: 0 0.25em; line-height: 1; border-radius: 0.35em;\">\n",
    "    Pays De Loir\n",
    "    <span style=\"font-size: 0.8em; font-weight: bold; line-height: 1; border-radius: 0.35em; vertical-align: middle; margin-left: 0.5rem\">LOC</span>\n",
    "</mark>\n",
    " </br> Lardons fumés au bois de hêtre </br> Chef salad </br> La \n",
    "<mark class=\"entity\" style=\"background: #7aecec; padding: 0.45em 0.6em; margin: 0 0.25em; line-height: 1; border-radius: 0.35em;\">\n",
    "    Raïole \n",
    " Conf 4 Saisons Bio Abricot 360\n",
    "    <span style=\"font-size: 0.8em; font-weight: bold; line-height: 1; border-radius: 0.35em; vertical-align: middle; margin-left: 0.5rem\">ORG</span>\n",
    "</mark>\n",
    " G </br> Fromages fondus </br> Haricots verts très fins surgelés Bio Saint Eloi </br> Lait au chocolat &amp; \n",
    "<mark class=\"entity\" style=\"background: #ddd; padding: 0.45em 0.6em; margin: 0 0.25em; line-height: 1; border-radius: 0.35em;\">\n",
    "    Biscuits \n",
    " \n",
    "    <span style=\"font-size: 0.8em; font-weight: bold; line-height: 1; border-radius: 0.35em; vertical-align: middle; margin-left: 0.5rem\">MISC</span>\n",
    "</mark>\n",
    "AOP Ventoux rosé \n",
    "<mark class=\"entity\" style=\"background: #ddd; padding: 0.45em 0.6em; margin: 0 0.25em; line-height: 1; border-radius: 0.35em;\">\n",
    "    Château Blanc &amp;\n",
    "    <span style=\"font-size: 0.8em; font-weight: bold; line-height: 1; border-radius: 0.35em; vertical-align: middle; margin-left: 0.5rem\">MISC</span>\n",
    "</mark>\n",
    "quot;Histoire de famille&amp;quot; 2013 </br> \n",
    "<mark class=\"entity\" style=\"background: #ff9561; padding: 0.45em 0.6em; margin: 0 0.25em; line-height: 1; border-radius: 0.35em;\">\n",
    "    Pruneaux\n",
    "    <span style=\"font-size: 0.8em; font-weight: bold; line-height: 1; border-radius: 0.35em; vertical-align: middle; margin-left: 0.5rem\">LOC</span>\n",
    "</mark>\n",
    " d'agent denoyauté </br> Douceur au spéculoos </br> Saucisse seche au canard </br> Le camembert des hauts </br> Croustillants de fromage aux herbes et graines de courge </br> Brassé pomme banane baby bio </br> Pâté de Campagne </br> Madeleinettes nature </br> Tablette chocolat noir 70% </br> Chocolat noir </br> \n",
    "<mark class=\"entity\" style=\"background: #ddd; padding: 0.45em 0.6em; margin: 0 0.25em; line-height: 1; border-radius: 0.35em;\">\n",
    "    Spaghetti\n",
    "    <span style=\"font-size: 0.8em; font-weight: bold; line-height: 1; border-radius: 0.35em; vertical-align: middle; margin-left: 0.5rem\">PER</span>\n",
    "</mark>\n",
    " bolognaise avec petit morceaux </br> Mille feuille </br> \n",
    "<mark class=\"entity\" style=\"background: #ddd; padding: 0.45em 0.6em; margin: 0 0.25em; line-height: 1; border-radius: 0.35em;\">\n",
    "    Mélasse\n",
    "    <span style=\"font-size: 0.8em; font-weight: bold; line-height: 1; border-radius: 0.35em; vertical-align: middle; margin-left: 0.5rem\">MISC</span>\n",
    "</mark>\n",
    " qualité fantaisie </br> \n",
    "<mark class=\"entity\" style=\"background: #ff9561; padding: 0.45em 0.6em; margin: 0 0.25em; line-height: 1; border-radius: 0.35em;\">\n",
    "    Lait Frais \n",
    " \n",
    "    <span style=\"font-size: 0.8em; font-weight: bold; line-height: 1; border-radius: 0.35em; vertical-align: middle; margin-left: 0.5rem\">LOC</span>\n",
    "</mark>\n",
    "Mélange d'ete </br> Le Cookie - Chocolat noir sarrasin noisette </br> Salade de quinoa aux légumes </br> Couscous fin </br> herbe de provence </br> Olives cassées aux herbes de \n",
    "<mark class=\"entity\" style=\"background: #ff9561; padding: 0.45em 0.6em; margin: 0 0.25em; line-height: 1; border-radius: 0.35em;\">\n",
    "    Provence\n",
    "    <span style=\"font-size: 0.8em; font-weight: bold; line-height: 1; border-radius: 0.35em; vertical-align: middle; margin-left: 0.5rem\">LOC</span>\n",
    "</mark>\n",
    " </br> \n",
    "<mark class=\"entity\" style=\"background: #ff9561; padding: 0.45em 0.6em; margin: 0 0.25em; line-height: 1; border-radius: 0.35em;\">\n",
    "    Brochettes\n",
    "    <span style=\"font-size: 0.8em; font-weight: bold; line-height: 1; border-radius: 0.35em; vertical-align: middle; margin-left: 0.5rem\">LOC</span>\n",
    "</mark>\n",
    " de dinde marinée à l'oignon </br> \n",
    "<mark class=\"entity\" style=\"background: #ddd; padding: 0.45em 0.6em; margin: 0 0.25em; line-height: 1; border-radius: 0.35em;\">\n",
    "    Ail\n",
    "    <span style=\"font-size: 0.8em; font-weight: bold; line-height: 1; border-radius: 0.35em; vertical-align: middle; margin-left: 0.5rem\">MISC</span>\n",
    "</mark>\n",
    " en poudre crue et bio </br> Tortilla nature micro ondable \n",
    "<mark class=\"entity\" style=\"background: #ddd; padding: 0.45em 0.6em; margin: 0 0.25em; line-height: 1; border-radius: 0.35em;\">\n",
    "    SAPRESTI\n",
    "    <span style=\"font-size: 0.8em; font-weight: bold; line-height: 1; border-radius: 0.35em; vertical-align: middle; margin-left: 0.5rem\">MISC</span>\n",
    "</mark>\n",
    " TRAITEUR </br> \n",
    "<mark class=\"entity\" style=\"background: #ddd; padding: 0.45em 0.6em; margin: 0 0.25em; line-height: 1; border-radius: 0.35em;\">\n",
    "    Soupe \n",
    " \n",
    "    <span style=\"font-size: 0.8em; font-weight: bold; line-height: 1; border-radius: 0.35em; vertical-align: middle; margin-left: 0.5rem\">MISC</span>\n",
    "</mark>\n",
    "Thé noir agrumes x 20 sachets</div>\n",
    "</figure>\n",
    "</body>\n",
    "</html>\n",
    "\n",
    "7. Récupérer dans un vecteur les entités nommées reconnues par `spaCy`.\n",
    "Regarder les entités reconnues dans les 20 premiers libellés de produits "
   ]
  },
  {
   "cell_type": "markdown",
   "id": "f00a82e6",
   "metadata": {},
   "source": [
    "```\n",
    "## [[], [], [('Pistou', 'PER')], [], [('Limonade', 'PER')], [('Sachet', 'PER')], [], [], [('Salade', 'PER')], [], [('Vainilla', 'PER')], [], [('Solène', 'PER')], [], [('Caramel', 'ORG')], [('Salade', 'PER')], [], [], [], [('Bouillie', 'PER')]]\n",
    "```"
   ]
  },
  {
   "cell_type": "markdown",
   "id": "f26d2cb6",
   "metadata": {},
   "source": [
    "<!----\n",
    "# State of the union address"
   ]
  },
  {
   "cell_type": "markdown",
   "id": "85c7b081",
   "metadata": {},
   "source": [
    "Un exercice à venir sur l'analyse des discours des présidents américains \n",
    "inspiré de https://github.com/BuzzFeedNews/2018-01-trump-state-of-the-union\n",
    "---->"
   ]
  }
 ],
 "metadata": {
  "kernelspec": {
   "display_name": "Python 3",
   "language": "python",
   "name": "python3"
  }
 },
 "nbformat": 4,
 "nbformat_minor": 5
}
