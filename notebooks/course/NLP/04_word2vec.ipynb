{
 "cells": [
  {
   "cell_type": "markdown",
<<<<<<< HEAD
   "id": "4a5b96ea",
=======
<<<<<<< HEAD
   "id": "ef075364",
>>>>>>> embeddings
   "metadata": {},
   "source": [
    "#  Prédiction dauteurs littéraires à partir de différentes méthodes de vectorisation\n",
=======
   "id": "57573ce0",
   "metadata": {},
   "source": [
    "#  Méthodes de vectorisation : comptages et word embeddings\n",
>>>>>>> e0c71349550dcbf39dad9c65a6d6e9fba51428d4
    "\n"
   ]
  },
  {
   "cell_type": "markdown",
<<<<<<< HEAD
   "id": "218a53fb",
=======
<<<<<<< HEAD
   "id": "7373ba25",
=======
   "id": "ae46ed57",
>>>>>>> e0c71349550dcbf39dad9c65a6d6e9fba51428d4
>>>>>>> embeddings
   "metadata": {},
   "source": [
    "<a href=\"https://github.com/linogaliana/python-datascientist/blob/master//__w/python-datascientist/python-datascientist/notebooks/course/NLP/04_word2vec.ipynb\" class=\"github\"><i class=\"fab fa-github\"></i></a>\n",
    "[![Download](https://img.shields.io/badge/Download-Notebook-important?logo=Jupyter)](https://downgit.github.io/#/home?url=https://github.com/linogaliana/python-datascientist/blob/master//__w/python-datascientist/python-datascientist/notebooks/course/NLP/04_word2vec.ipynb)\n",
    "[![nbviewer](https://img.shields.io/badge/Visualize-nbviewer-blue?logo=Jupyter)](https://nbviewer.jupyter.org/github/linogaliana/python-datascientist/blob/master//__w/python-datascientist/python-datascientist/notebooks/course/NLP/04_word2vec.ipynb)\n",
    "[![Onyxia](https://img.shields.io/badge/SSPcloud-Tester%20via%20SSP--cloud-informational&color=yellow?logo=Python)](https://datalab.sspcloud.fr/launcher/inseefrlab-helm-charts-datascience/jupyter?onyxia.friendlyName=«python-datascientist»&resources.requests.memory=«4Gi»&security.allowlist.enabled=false&init.personalInit=«https://raw.githubusercontent.com/linogaliana/python-datascientist/master/init_onyxia.sh»)\n",
    "<br>\n",
    "[![Binder](https://img.shields.io/badge/Launch-Binder-E66581.svg?logo=data:image/png;base64,iVBORw0KGgoAAAANSUhEUgAAAFkAAABZCAMAAABi1XidAAAB8lBMVEX///9XmsrmZYH1olJXmsr1olJXmsrmZYH1olJXmsr1olJXmsrmZYH1olL1olJXmsr1olJXmsrmZYH1olL1olJXmsrmZYH1olJXmsr1olL1olJXmsrmZYH1olL1olJXmsrmZYH1olL1olL0nFf1olJXmsrmZYH1olJXmsq8dZb1olJXmsrmZYH1olJXmspXmspXmsr1olL1olJXmsrmZYH1olJXmsr1olL1olJXmsrmZYH1olL1olLeaIVXmsrmZYH1olL1olL1olJXmsrmZYH1olLna31Xmsr1olJXmsr1olJXmsrmZYH1olLqoVr1olJXmsr1olJXmsrmZYH1olL1olKkfaPobXvviGabgadXmsqThKuofKHmZ4Dobnr1olJXmsr1olJXmspXmsr1olJXmsrfZ4TuhWn1olL1olJXmsqBi7X1olJXmspZmslbmMhbmsdemsVfl8ZgmsNim8Jpk8F0m7R4m7F5nLB6jbh7jbiDirOEibOGnKaMhq+PnaCVg6qWg6qegKaff6WhnpKofKGtnomxeZy3noG6dZi+n3vCcpPDcpPGn3bLb4/Mb47UbIrVa4rYoGjdaIbeaIXhoWHmZYHobXvpcHjqdHXreHLroVrsfG/uhGnuh2bwj2Hxk17yl1vzmljzm1j0nlX1olL3AJXWAAAAbXRSTlMAEBAQHx8gICAuLjAwMDw9PUBAQEpQUFBXV1hgYGBkcHBwcXl8gICAgoiIkJCQlJicnJ2goKCmqK+wsLC4usDAwMjP0NDQ1NbW3Nzg4ODi5+3v8PDw8/T09PX29vb39/f5+fr7+/z8/Pz9/v7+zczCxgAABC5JREFUeAHN1ul3k0UUBvCb1CTVpmpaitAGSLSpSuKCLWpbTKNJFGlcSMAFF63iUmRccNG6gLbuxkXU66JAUef/9LSpmXnyLr3T5AO/rzl5zj137p136BISy44fKJXuGN/d19PUfYeO67Znqtf2KH33Id1psXoFdW30sPZ1sMvs2D060AHqws4FHeJojLZqnw53cmfvg+XR8mC0OEjuxrXEkX5ydeVJLVIlV0e10PXk5k7dYeHu7Cj1j+49uKg7uLU61tGLw1lq27ugQYlclHC4bgv7VQ+TAyj5Zc/UjsPvs1sd5cWryWObtvWT2EPa4rtnWW3JkpjggEpbOsPr7F7EyNewtpBIslA7p43HCsnwooXTEc3UmPmCNn5lrqTJxy6nRmcavGZVt/3Da2pD5NHvsOHJCrdc1G2r3DITpU7yic7w/7Rxnjc0kt5GC4djiv2Sz3Fb2iEZg41/ddsFDoyuYrIkmFehz0HR2thPgQqMyQYb2OtB0WxsZ3BeG3+wpRb1vzl2UYBog8FfGhttFKjtAclnZYrRo9ryG9uG/FZQU4AEg8ZE9LjGMzTmqKXPLnlWVnIlQQTvxJf8ip7VgjZjyVPrjw1te5otM7RmP7xm+sK2Gv9I8Gi++BRbEkR9EBw8zRUcKxwp73xkaLiqQb+kGduJTNHG72zcW9LoJgqQxpP3/Tj//c3yB0tqzaml05/+orHLksVO+95kX7/7qgJvnjlrfr2Ggsyx0eoy9uPzN5SPd86aXggOsEKW2Prz7du3VID3/tzs/sSRs2w7ovVHKtjrX2pd7ZMlTxAYfBAL9jiDwfLkq55Tm7ifhMlTGPyCAs7RFRhn47JnlcB9RM5T97ASuZXIcVNuUDIndpDbdsfrqsOppeXl5Y+XVKdjFCTh+zGaVuj0d9zy05PPK3QzBamxdwtTCrzyg/2Rvf2EstUjordGwa/kx9mSJLr8mLLtCW8HHGJc2R5hS219IiF6PnTusOqcMl57gm0Z8kanKMAQg0qSyuZfn7zItsbGyO9QlnxY0eCuD1XL2ys/MsrQhltE7Ug0uFOzufJFE2PxBo/YAx8XPPdDwWN0MrDRYIZF0mSMKCNHgaIVFoBbNoLJ7tEQDKxGF0kcLQimojCZopv0OkNOyWCCg9XMVAi7ARJzQdM2QUh0gmBozjc3Skg6dSBRqDGYSUOu66Zg+I2fNZs/M3/f/Grl/XnyF1Gw3VKCez0PN5IUfFLqvgUN4C0qNqYs5YhPL+aVZYDE4IpUk57oSFnJm4FyCqqOE0jhY2SMyLFoo56zyo6becOS5UVDdj7Vih0zp+tcMhwRpBeLyqtIjlJKAIZSbI8SGSF3k0pA3mR5tHuwPFoa7N7reoq2bqCsAk1HqCu5uvI1n6JuRXI+S1Mco54YmYTwcn6Aeic+kssXi8XpXC4V3t7/ADuTNKaQJdScAAAAAElFTkSuQmCC)](https://mybinder.org/v2/gh/linogaliana/python-datascientist/master?filepath=/__w/python-datascientist/python-datascientist/notebooks/course/NLP/04_word2vec.ipynb)\n",
    "[![Open In Colab](https://colab.research.google.com/assets/colab-badge.svg)](http://colab.research.google.com/github/linogaliana/python-datascientist/blob/master//__w/python-datascientist/python-datascientist/notebooks/course/NLP/04_word2vec.ipynb)\n",
    "[![githubdev](https://open.vscode.dev/badges/open-in-vscode.svg)](https://github.dev/linogaliana/python-datascientist//__w/python-datascientist/python-datascientist/notebooks/course/NLP/04_word2vec.ipynb)\n",
    "\n",
    "Cette page approfondit certains aspects présentés dans la\n",
    "[partie introductive](#nlp). Après avoir travaillé sur le\n",
    "*Comte de Monte Cristo*, on va continuer notre exploration de la littérature\n",
    "avec cette fois des auteurs anglophones:\n",
    "\n",
    "* Edgar Allan Poe, (EAP) ;\n",
    "* HP Lovecraft (HPL) ;\n",
    "* Mary Wollstonecraft Shelley (MWS).\n",
    "\n",
    "Les données sont disponibles ici : [spooky.csv](https://github.com/GU4243-ADS/spring2018-project1-ginnyqg/blob/master/data/spooky.csv) et peuvent être requétées via l'url \n",
    "<https://github.com/GU4243-ADS/spring2018-project1-ginnyqg/raw/master/data/spooky.csv>.\n",
    "\n",
    "Le but va être dans un premier temps de regarder dans le détail les termes les plus fréquents utilisés par les auteurs, de les représenter graphiquement puis on va ensuite essayer de prédire quel texte correspond à quel auteur à partir de différents modèles de vectorisation, notamment les *word embeddings*.\n",
    "\n",
    "Ce notebook est librement inspiré de  : \n",
    "\n",
    "* https://www.kaggle.com/enerrio/scary-nlp-with-spacy-and-keras\n",
    "* https://github.com/GU4243-ADS/spring2018-project1-ginnyqg\n",
    "* https://www.kaggle.com/meiyizi/spooky-nlp-and-topic-modelling-tutorial/notebook\n"
   ]
  },
  {
   "cell_type": "markdown",
<<<<<<< HEAD
   "id": "095579cd",
=======
<<<<<<< HEAD
   "id": "3c37d5b9",
=======
   "id": "cd83cd8f",
>>>>>>> e0c71349550dcbf39dad9c65a6d6e9fba51428d4
>>>>>>> embeddings
   "metadata": {},
   "source": [
    "Comme dans la [partie précédente](#nlp), il faut télécharger quelques éléments\n",
    "pour que nos librairies de NLP puissent fonctionner correctement.\n",
    "\n",
    "En premier lieu, il convient d'installer les librairies adéquates\n",
    "(`spacy`, `gensim` et `sentence_transformers`):\n"
   ]
  },
  {
   "cell_type": "code",
   "execution_count": null,
<<<<<<< HEAD
   "id": "ee152180",
=======
<<<<<<< HEAD
   "id": "c0e99858",
=======
   "id": "cc036084",
>>>>>>> e0c71349550dcbf39dad9c65a6d6e9fba51428d4
>>>>>>> embeddings
   "metadata": {},
   "outputs": [],
   "source": [
    "!pip install spacy gensim sentence_transformers"
   ]
  },
  {
   "cell_type": "markdown",
<<<<<<< HEAD
   "id": "1d536594",
=======
<<<<<<< HEAD
   "id": "1f66a00f",
=======
   "id": "aabd7acc",
>>>>>>> e0c71349550dcbf39dad9c65a6d6e9fba51428d4
>>>>>>> embeddings
   "metadata": {},
   "source": [
    "Ensuite, comme nous allons utiliser également `spacy`, il convient de télécharger\n",
    "le corpus Anglais. Pour cela, on peut se référer à\n",
    "[la documentation de `spacy`](https://spacy.io/usage/models),\n",
    "extrèmement bien faite."
   ]
  },
  {
   "cell_type": "markdown",
<<<<<<< HEAD
   "id": "78bfce0a",
=======
<<<<<<< HEAD
   "id": "38b7a27f",
=======
   "id": "ca2ed531",
>>>>>>> e0c71349550dcbf39dad9c65a6d6e9fba51428d4
>>>>>>> embeddings
   "metadata": {},
   "source": [
    "- Idéalement, il faut installer le module via la ligne de commande. Dans\n",
    "une cellule de notebook `Jupyter`, faire :\n"
   ]
  },
  {
   "cell_type": "code",
   "execution_count": null,
<<<<<<< HEAD
   "id": "1ae4864d",
=======
<<<<<<< HEAD
   "id": "fe6db2c8",
=======
   "id": "d2624aa1",
>>>>>>> e0c71349550dcbf39dad9c65a6d6e9fba51428d4
>>>>>>> embeddings
   "metadata": {},
   "outputs": [],
   "source": [
    "!python -m spacy download en_core_web_sm"
   ]
  },
  {
   "cell_type": "markdown",
<<<<<<< HEAD
   "id": "39d6c788",
=======
<<<<<<< HEAD
   "id": "f7e4b5e9",
=======
   "id": "756027a4",
>>>>>>> e0c71349550dcbf39dad9c65a6d6e9fba51428d4
>>>>>>> embeddings
   "metadata": {},
   "source": [
    "- Sans accès à la ligne de commande (depuis une instance `Docker` par exemple),\n",
    "faire :\n"
   ]
  },
  {
   "cell_type": "code",
   "execution_count": null,
<<<<<<< HEAD
   "id": "5e248a38",
=======
<<<<<<< HEAD
   "id": "6fd7c67e",
=======
   "id": "1579cf5e",
>>>>>>> e0c71349550dcbf39dad9c65a6d6e9fba51428d4
>>>>>>> embeddings
   "metadata": {},
   "outputs": [],
   "source": [
    "import spacy\n",
    "spacy.cli.download(\"en_core_web_sm\")"
   ]
  },
  {
   "cell_type": "markdown",
<<<<<<< HEAD
   "id": "b248948c",
=======
<<<<<<< HEAD
   "id": "27dd6a65",
=======
   "id": "108b36d5",
>>>>>>> e0c71349550dcbf39dad9c65a6d6e9fba51428d4
>>>>>>> embeddings
   "metadata": {},
   "source": [
    "- Sinon, il est également possible d'installer le module en faisant pointer\n",
    "`pip install` depuis le fichier adéquat sur\n",
    "[`Github`](https://github.com/explosion/spacy-models). Pour cela, taper\n",
    "\n",
    "~~~python\n",
    "pip install https://github.com/explosion/spacy-models/releases/download/en_core_web_sm-3.0.0/en_core_web_sm-3.0.0-py3-none-any.whl\n",
    "~~~\n",
    "\n",
    "\n",
    "\n",
    "\n"
   ]
  },
  {
   "cell_type": "code",
   "execution_count": null,
<<<<<<< HEAD
   "id": "aa75a0b9",
=======
<<<<<<< HEAD
   "id": "be11f8ee",
=======
   "id": "2065b909",
>>>>>>> e0c71349550dcbf39dad9c65a6d6e9fba51428d4
>>>>>>> embeddings
   "metadata": {},
   "outputs": [],
   "source": [
    "from collections import Counter\n",
    "\n",
    "import numpy as np\n",
    "import pandas as pd\n",
    "import matplotlib.pyplot as plt\n",
    "import seaborn as sns\n",
    "import gensim\n",
    "\n",
    "from sklearn.preprocessing import LabelEncoder\n",
    "from sklearn.model_selection import train_test_split\n",
    "from sklearn.pipeline import Pipeline\n",
    "from sklearn.preprocessing import StandardScaler\n",
    "from sklearn.svm import LinearSVC\n",
    "from sklearn.feature_extraction.text import CountVectorizer, TfidfVectorizer\n",
    "from sklearn.model_selection import GridSearchCV, cross_val_score\n",
    "from gensim.models.word2vec import Word2Vec\n",
    "import gensim.downloader\n",
    "from sentence_transformers import SentenceTransformer\n",
    "\n",
    "plt.style.use('dark_background')"
   ]
  },
  {
   "cell_type": "markdown",
<<<<<<< HEAD
   "id": "4258868b",
=======
<<<<<<< HEAD
   "id": "bc541254",
=======
   "id": "7b55bf6d",
>>>>>>> e0c71349550dcbf39dad9c65a6d6e9fba51428d4
>>>>>>> embeddings
   "metadata": {},
   "source": [
    "# Nettoyage des données\n",
    "\n",
    "Nous allons ainsi à nouveau utiliser le jeu de données `spooky`:\n"
   ]
  },
  {
   "cell_type": "code",
   "execution_count": null,
<<<<<<< HEAD
   "id": "1a6604a2",
=======
<<<<<<< HEAD
   "id": "0653efec",
=======
   "id": "515cb0a5",
>>>>>>> e0c71349550dcbf39dad9c65a6d6e9fba51428d4
>>>>>>> embeddings
   "metadata": {},
   "outputs": [],
   "source": [
    "data_url = 'https://github.com/GU4243-ADS/spring2018-project1-ginnyqg/raw/master/data/spooky.csv'\n",
    "spooky_df = pd.read_csv(data_url)"
   ]
  },
  {
   "cell_type": "markdown",
<<<<<<< HEAD
   "id": "db853028",
=======
<<<<<<< HEAD
   "id": "61ebc59c",
=======
   "id": "86dd81d0",
>>>>>>> e0c71349550dcbf39dad9c65a6d6e9fba51428d4
>>>>>>> embeddings
   "metadata": {},
   "source": [
    "Le jeu de données met ainsi en regard un auteur avec une phrase qu'il a écrite:\n"
   ]
  },
  {
   "cell_type": "code",
   "execution_count": null,
<<<<<<< HEAD
   "id": "224c1169",
=======
<<<<<<< HEAD
   "id": "e9009a27",
=======
   "id": "5118e81f",
>>>>>>> e0c71349550dcbf39dad9c65a6d6e9fba51428d4
>>>>>>> embeddings
   "metadata": {},
   "outputs": [],
   "source": [
    "spooky_df.head()"
   ]
  },
  {
   "cell_type": "markdown",
<<<<<<< HEAD
   "id": "73905890",
=======
<<<<<<< HEAD
   "id": "d975c94b",
=======
   "id": "647967fe",
>>>>>>> e0c71349550dcbf39dad9c65a6d6e9fba51428d4
>>>>>>> embeddings
   "metadata": {},
   "source": [
    "```\n",
    "##         id                                               text author\n",
    "## 0  id26305  This process, however, afforded me no means of...    EAP\n",
    "## 1  id17569  It never once occurred to me that the fumbling...    HPL\n",
    "## 2  id11008  In his left hand was a gold snuff box, from wh...    EAP\n",
    "## 3  id27763  How lovely is spring As we looked from Windsor...    MWS\n",
    "## 4  id12958  Finding nothing else, not even gold, the Super...    HPL\n",
    "```"
   ]
  },
  {
   "cell_type": "markdown",
<<<<<<< HEAD
   "id": "6d78e9b4",
=======
<<<<<<< HEAD
   "id": "f0aefebe",
=======
   "id": "f9c21afe",
>>>>>>> e0c71349550dcbf39dad9c65a6d6e9fba51428d4
>>>>>>> embeddings
   "metadata": {},
   "source": [
    "## Preprocessing\n",
    "\n",
    "En NLP, la première étape est souvent celle du *preprocessing*, qui inclut notamment les étapes de tokenization et de nettoyage du texte. Comme celles-ci ont été vues en détail dans le précédent chapitre, on se contentera ici d'un *preprocessing* minimaliste : suppression de la ponctuation et suppression des *stop words* (pour la visualisation et les méthodes de vectorisation basées sur des comptages).\n",
    "\n",
    "Jusqu'à présent, nous avons utilisé principalement `nltk` pour le \n",
    "*preprocessing* de données textuelles. Cette fois, nous proposons\n",
    "d'utiliser la librairie `spaCy` qui permet de mieux automatiser sous forme de\n",
    "*pipeline* de *preprocessing*. \n",
    "\n"
   ]
  },
  {
   "cell_type": "code",
   "execution_count": null,
<<<<<<< HEAD
   "id": "6fa81e87",
=======
<<<<<<< HEAD
   "id": "2ef409b4",
=======
   "id": "1c8855fa",
>>>>>>> e0c71349550dcbf39dad9c65a6d6e9fba51428d4
>>>>>>> embeddings
   "metadata": {},
   "outputs": [],
   "source": [
    "nlp = spacy.load('en_core_web_sm')"
   ]
  },
  {
   "cell_type": "markdown",
<<<<<<< HEAD
   "id": "67d73b31",
=======
<<<<<<< HEAD
   "id": "3f1aa646",
=======
   "id": "7269132f",
>>>>>>> e0c71349550dcbf39dad9c65a6d6e9fba51428d4
>>>>>>> embeddings
   "metadata": {},
   "source": [
    "On va utiliser un `pipe` `spacy` qui permet d'automatiser, et de paralléliser,\n",
    "un certain nombre d'opérations. Les *pipes* sont l'équivalent, en NLP, de\n",
    "nos *pipelines* `scikit` ou des *pipes* `pandas`. Il s'agit donc d'un outil\n",
    "très approprié pour industrialiser un certain nombre d'opérations de\n",
    "*preprocessing*:\n"
   ]
  },
  {
   "cell_type": "code",
   "execution_count": null,
<<<<<<< HEAD
   "id": "ccdb781e",
=======
<<<<<<< HEAD
   "id": "b27ee147",
=======
   "id": "ab7d10ae",
>>>>>>> e0c71349550dcbf39dad9c65a6d6e9fba51428d4
>>>>>>> embeddings
   "metadata": {},
   "outputs": [],
   "source": [
    "def clean_docs(texts, remove_stopwords=False, n_process = 4):\n",
    "    \n",
    "    docs = nlp.pipe(texts, \n",
    "                    n_process=n_process,\n",
    "                    disable=['parser', 'ner',\n",
    "                             'lemmatizer', 'textcat'])\n",
    "    stopwords = nlp.Defaults.stop_words\n",
    "\n",
    "    docs_cleaned = []\n",
    "    for doc in docs:\n",
    "        tokens = [tok.text.lower().strip() for tok in doc if not tok.is_punct]\n",
    "        if remove_stopwords:\n",
    "            tokens = [tok for tok in tokens if tok not in stopwords]\n",
    "        doc_clean = ' '.join(tokens)\n",
    "        docs_cleaned.append(doc_clean)\n",
    "        \n",
    "    return docs_cleaned"
   ]
  },
  {
   "cell_type": "markdown",
<<<<<<< HEAD
   "id": "65c803c6",
=======
<<<<<<< HEAD
   "id": "689242d8",
=======
   "id": "3bbe7e09",
>>>>>>> e0c71349550dcbf39dad9c65a6d6e9fba51428d4
>>>>>>> embeddings
   "metadata": {},
   "source": [
    "On applique la fonction `clean_docs` à notre colonne `pandas`.\n",
    "Les `pandas.Series` étant itérables, elles se comportent comme des listes et\n",
    "fonctionnent ainsi très bien avec notre `pipe` `spacy`\n"
   ]
  },
  {
   "cell_type": "code",
   "execution_count": null,
<<<<<<< HEAD
   "id": "790658c5",
=======
<<<<<<< HEAD
   "id": "8111bc5a",
=======
   "id": "a44fef97",
>>>>>>> e0c71349550dcbf39dad9c65a6d6e9fba51428d4
>>>>>>> embeddings
   "metadata": {
    "lines_to_next_cell": 2
   },
   "outputs": [],
   "source": [
    "spooky_df['text_clean'] = clean_docs(spooky_df['text'])"
   ]
  },
  {
   "cell_type": "code",
   "execution_count": null,
<<<<<<< HEAD
   "id": "460f4b23",
=======
<<<<<<< HEAD
   "id": "fbe979b3",
=======
   "id": "bad541f7",
>>>>>>> e0c71349550dcbf39dad9c65a6d6e9fba51428d4
>>>>>>> embeddings
   "metadata": {},
   "outputs": [],
   "source": [
    "spooky_df.head()"
   ]
  },
  {
   "cell_type": "markdown",
<<<<<<< HEAD
   "id": "f14cc217",
=======
<<<<<<< HEAD
   "id": "9c79cee3",
=======
   "id": "81492e4c",
>>>>>>> e0c71349550dcbf39dad9c65a6d6e9fba51428d4
>>>>>>> embeddings
   "metadata": {},
   "source": [
    "```\n",
    "##         id  ...                                         text_clean\n",
    "## 0  id26305  ...  this process however afforded me no means of a...\n",
    "## 1  id17569  ...  it never once occurred to me that the fumbling...\n",
    "## 2  id11008  ...  in his left hand was a gold snuff box from whi...\n",
    "## 3  id27763  ...  how lovely is spring as we looked from windsor...\n",
    "## 4  id12958  ...  finding nothing else not even gold the superin...\n",
    "## \n",
    "## [5 rows x 4 columns]\n",
    "```"
   ]
  },
  {
   "cell_type": "markdown",
<<<<<<< HEAD
   "id": "6ff6d38e",
=======
<<<<<<< HEAD
   "id": "6dd84374",
=======
   "id": "a4220b2c",
>>>>>>> e0c71349550dcbf39dad9c65a6d6e9fba51428d4
>>>>>>> embeddings
   "metadata": {},
   "source": [
    "## Encodage de la variable à prédire\n",
    "\n",
    "On réalise un simple encodage de la variable à prédire :\n",
    "il y a trois catégories, représentées par des entiers de 0 à 2.\n",
    "\n",
    "Pour cela, on utilise le `LabelEncoder` de `scikit` déjà présenté \n",
    "dans la [partie modélisation](#preprocessing). On va utiliser la méthode\n",
    "`fit_transform` qui permet, en un tour de main, d'appliquer à la fois\n",
    "l'entraînement (`fit`), à savoir la création d'une correspondance entre valeurs\n",
    "numériques et _labels_, et l'appliquer (`transform`) à la même colonne.\n"
   ]
  },
  {
   "cell_type": "code",
   "execution_count": null,
<<<<<<< HEAD
   "id": "320fed50",
=======
<<<<<<< HEAD
   "id": "216d95e5",
=======
   "id": "fab96975",
>>>>>>> e0c71349550dcbf39dad9c65a6d6e9fba51428d4
>>>>>>> embeddings
   "metadata": {},
   "outputs": [],
   "source": [
    "le = LabelEncoder()\n",
    "spooky_df['author_encoded'] = le.fit_transform(spooky_df['author'])"
   ]
  },
  {
   "cell_type": "markdown",
<<<<<<< HEAD
   "id": "c06a371f",
=======
<<<<<<< HEAD
   "id": "96ce0b3a",
=======
   "id": "43ded9ff",
>>>>>>> e0c71349550dcbf39dad9c65a6d6e9fba51428d4
>>>>>>> embeddings
   "metadata": {},
   "source": [
    "On peut vérifier les classes de notre `LabelEncoder`:\n"
   ]
  },
  {
   "cell_type": "code",
   "execution_count": null,
<<<<<<< HEAD
   "id": "333dfebf",
=======
<<<<<<< HEAD
   "id": "22b2af73",
=======
   "id": "a0d74363",
>>>>>>> e0c71349550dcbf39dad9c65a6d6e9fba51428d4
>>>>>>> embeddings
   "metadata": {},
   "outputs": [],
   "source": [
    "le.classes_"
   ]
  },
  {
   "cell_type": "markdown",
<<<<<<< HEAD
   "id": "56aacac2",
=======
<<<<<<< HEAD
   "id": "f3349b99",
=======
   "id": "99f85f13",
>>>>>>> e0c71349550dcbf39dad9c65a6d6e9fba51428d4
>>>>>>> embeddings
   "metadata": {},
   "source": [
    "```\n",
    "## array(['EAP', 'HPL', 'MWS'], dtype=object)\n",
    "```\n",
    "\n",
    "## Construction des bases d'entraînement et de test\n",
    "\n",
    "On met de côté un échantillon de test (20 %) avant toute analyse (même descriptive).\n",
    "Cela permettra d'évaluer nos différents modèles toute à la fin de manière très rigoureuse,\n",
    "puisque ces données n'auront jamais utilisées pendant l'entraînement.\n",
    "\n",
    "Notre échantillon initial n'est pas balancé puisqu'on retrouve plus d'oeuvres de\n",
    "certains auteurs que d'autres. On va donc stratifier notre échantillon\n",
    "pour s'assurer qu'on a bien une répartition similaire d'auteurs dans nos\n",
    "ensembles d'entraînement et de test.\n"
   ]
  },
  {
   "cell_type": "code",
   "execution_count": null,
<<<<<<< HEAD
   "id": "96f7d1a0",
=======
<<<<<<< HEAD
   "id": "6148e695",
=======
   "id": "9733954b",
>>>>>>> e0c71349550dcbf39dad9c65a6d6e9fba51428d4
>>>>>>> embeddings
   "metadata": {
    "lines_to_next_cell": 0
   },
   "outputs": [],
   "source": [
    "X_train, X_test, y_train, y_test = train_test_split(spooky_df['text_clean'].values, \n",
    "                                                    spooky_df['author_encoded'].values, \n",
    "                                                    test_size=0.2, \n",
    "                                                    random_state=33,\n",
    "                                                    stratify = spooky_df['author_encoded'].values)"
   ]
  },
  {
   "cell_type": "markdown",
<<<<<<< HEAD
   "id": "50a9d9c7",
=======
<<<<<<< HEAD
   "id": "8e8cc63c",
=======
   "id": "036f6972",
>>>>>>> e0c71349550dcbf39dad9c65a6d6e9fba51428d4
>>>>>>> embeddings
   "metadata": {},
   "source": [
    "\n"
   ]
  },
  {
   "cell_type": "code",
   "execution_count": null,
<<<<<<< HEAD
   "id": "8e88d987",
=======
<<<<<<< HEAD
   "id": "8f74774a",
=======
   "id": "86e2f7a3",
>>>>>>> e0c71349550dcbf39dad9c65a6d6e9fba51428d4
>>>>>>> embeddings
   "metadata": {},
   "outputs": [],
   "source": [
    "X_train[0]"
   ]
  },
  {
   "cell_type": "markdown",
<<<<<<< HEAD
   "id": "2bf8fbc9",
=======
<<<<<<< HEAD
   "id": "553f848b",
=======
   "id": "73ead01e",
>>>>>>> e0c71349550dcbf39dad9c65a6d6e9fba51428d4
>>>>>>> embeddings
   "metadata": {},
   "source": [
    "```\n",
    "## 'for the first time during many hours or perhaps days i thought'\n",
    "```\n",
    "\n",
    "On peut aussi vérifier qu'on est capable de retrouver\n",
    "la correspondance entre nos auteurs initiaux avec\n",
    "la méthode `inverse_transform`\n"
   ]
  },
  {
   "cell_type": "code",
   "execution_count": null,
<<<<<<< HEAD
   "id": "97a7f046",
=======
<<<<<<< HEAD
   "id": "c8f547d7",
=======
   "id": "a4f1c2b0",
>>>>>>> e0c71349550dcbf39dad9c65a6d6e9fba51428d4
>>>>>>> embeddings
   "metadata": {},
   "outputs": [],
   "source": [
    "print(y_train[0], le.inverse_transform([y_train[0]])[0])"
   ]
  },
  {
   "cell_type": "markdown",
<<<<<<< HEAD
   "id": "33bd6c6e",
=======
<<<<<<< HEAD
   "id": "a38a9336",
=======
   "id": "57181309",
>>>>>>> e0c71349550dcbf39dad9c65a6d6e9fba51428d4
>>>>>>> embeddings
   "metadata": {},
   "source": [
    "```\n",
    "## 0 EAP\n",
    "```\n",
    "\n",
    "# Statistiques exploratoires\n",
    "\n",
    "## Répartition des labels\n",
    "\n",
    "Refaisons un graphique que nous avons déjà produit précédemment pour voir\n",
    "la répartition de notre corpus entre auteurs:\n"
   ]
  },
  {
   "cell_type": "code",
   "execution_count": null,
<<<<<<< HEAD
   "id": "9fa4faf5",
=======
<<<<<<< HEAD
   "id": "44931ce1",
=======
   "id": "c1999e54",
>>>>>>> e0c71349550dcbf39dad9c65a6d6e9fba51428d4
>>>>>>> embeddings
   "metadata": {
    "lines_to_next_cell": 2
   },
   "outputs": [],
   "source": [
    "pd.Series(le.inverse_transform(y_train)).value_counts().plot(kind='bar')\n",
    "plt.savefig(\"repart.png\", bbox_inches='tight')"
   ]
  },
  {
   "cell_type": "markdown",
<<<<<<< HEAD
   "id": "54581ff2",
=======
<<<<<<< HEAD
   "id": "ad9fd301",
=======
   "id": "ab63d84d",
>>>>>>> e0c71349550dcbf39dad9c65a6d6e9fba51428d4
>>>>>>> embeddings
   "metadata": {},
   "source": [
    "On observe une petite asymétrie : les passages des livres d'Edgar Allen Poe sont plus nombreux dans notre corpus d'entraînement, ce qui peut être problématique dans le cadre d'une tâche de classification.\n",
    "L'écart n'est pas dramatique, mais on essaiera d'en tenir compte dans l'analyse en choisissant une métrique d'évaluation pertinente. \n",
    "\n",
    "## Mots les plus fréquemment utilisés par chaque auteur\n",
    "\n",
    "On va supprimer les *stopwords* pour réduire le bruit dans notre jeu\n",
    "de données\n"
   ]
  },
  {
   "cell_type": "code",
   "execution_count": null,
<<<<<<< HEAD
   "id": "09db7b33",
=======
<<<<<<< HEAD
   "id": "6a51a861",
=======
   "id": "05a30461",
>>>>>>> e0c71349550dcbf39dad9c65a6d6e9fba51428d4
>>>>>>> embeddings
   "metadata": {},
   "outputs": [],
   "source": [
    "# Suppression des stop words\n",
    "X_train_no_sw = clean_docs(X_train, remove_stopwords=True)\n",
    "X_train_no_sw = np.array(X_train_no_sw)"
   ]
  },
  {
   "cell_type": "markdown",
<<<<<<< HEAD
   "id": "48a7af0a",
=======
<<<<<<< HEAD
   "id": "232e53fc",
=======
   "id": "d0420a76",
>>>>>>> e0c71349550dcbf39dad9c65a6d6e9fba51428d4
>>>>>>> embeddings
   "metadata": {},
   "source": [
    "Pour visualiser rapidement nos corpus, on peut utiliser la technique des\n",
    "nuages de mots déjà vue à plusieurs reprises. \n",
    "\n",
    "Vous pouvez essayer de faire vous-même les nuages ci-dessous\n",
    "ou cliquer sur la ligne ci-dessous pour afficher le code ayant\n",
    "généré les figures:\n",
    "\n"
   ]
  },
  {
   "cell_type": "code",
   "execution_count": null,
<<<<<<< HEAD
   "id": "cb04482b",
=======
<<<<<<< HEAD
   "id": "a8d9292c",
=======
   "id": "1c5a6de4",
>>>>>>> e0c71349550dcbf39dad9c65a6d6e9fba51428d4
>>>>>>> embeddings
   "metadata": {
    "lines_to_next_cell": 2
   },
   "outputs": [],
   "source": [
    "def plot_top_words(initials, ax, n_words=20):\n",
    "    # Calcul des mots les plus fréquemment utilisés par l'auteur\n",
    "    texts = X_train_no_sw[le.inverse_transform(y_train) == initials]\n",
    "    all_tokens = ' '.join(texts).split()\n",
    "    counts = Counter(all_tokens)\n",
    "    top_words = [word[0] for word in counts.most_common(n_words)]\n",
    "    top_words_counts = [word[1] for word in counts.most_common(n_words)]\n",
    "    \n",
    "    # Représentation sous forme de barplot\n",
    "    ax = sns.barplot(ax = ax, x=top_words, y=top_words_counts)\n",
    "    ax.set_title(f'Most Common Words used by {initials_to_author[initials]}')"
   ]
  },
  {
   "cell_type": "code",
   "execution_count": null,
<<<<<<< HEAD
   "id": "e1b433fb",
=======
<<<<<<< HEAD
   "id": "843d460a",
=======
   "id": "358e3913",
>>>>>>> e0c71349550dcbf39dad9c65a6d6e9fba51428d4
>>>>>>> embeddings
   "metadata": {
    "lines_to_next_cell": 0
   },
   "outputs": [],
   "source": [
    "initials_to_author = {\n",
    "    'EAP': 'Edgar Allen Poe',\n",
    "    'HPL': 'H.P. Lovecraft',\n",
    "    'MWS': 'Mary Wollstonecraft Shelley'\n",
    "}\n",
    "\n",
    "fig, axs = plt.subplots(3, 1, figsize = (12,12))\n",
    "\n",
    "plot_top_words('EAP', ax = axs[0])\n",
    "plot_top_words('HPL', ax = axs[1])\n",
    "plot_top_words('MWS', ax = axs[2])"
   ]
  },
  {
   "cell_type": "markdown",
<<<<<<< HEAD
   "id": "12a63344",
=======
<<<<<<< HEAD
   "id": "2cb792cd",
=======
   "id": "73da6727",
>>>>>>> e0c71349550dcbf39dad9c65a6d6e9fba51428d4
>>>>>>> embeddings
   "metadata": {},
   "source": [
    "\n",
    "\n",
    "\n",
    "\n"
   ]
  },
  {
   "cell_type": "markdown",
<<<<<<< HEAD
   "id": "ab4c443a",
=======
<<<<<<< HEAD
   "id": "b65aaf1c",
=======
   "id": "15edf1fa",
>>>>>>> e0c71349550dcbf39dad9c65a6d6e9fba51428d4
>>>>>>> embeddings
   "metadata": {},
   "source": [
    "Beaucoup de mots se retrouvent très utilisés par les trois auteurs.\n",
    "Il y a cependant des différences notables : le mot _\"life\"_\n",
    "est le plus employé par MWS, alors qu'il n'apparaît pas dans les deux autres tops.\n",
    "De même, le mot _\"old\"_ est le plus utilisé par HPL\n",
    "là où les deux autres ne l'utilisent pas de manière surreprésentée.\n",
    "\n",
    "Il semble donc qu'il y ait des particularités propres à chacun des auteurs\n",
    "en termes de vocabulaire,\n",
    "ce qui laisse penser qu'il est envisageable de prédire les auteurs à partir\n",
    "de leurs textes dans une certaine mesure.\n",
    "\n",
    "# Prédiction sur le set d'entraînement\n",
    "\n",
    "Nous allons à présent vérifier cette conjecture en comparant\n",
    "plusieurs modèles de vectorisation,\n",
    "_i.e._ de transformation du texte en objets numériques\n",
    "pour que l'information contenue soit exploitable dans un modèle de classification.\n",
    "\n",
    "## Démarche\n",
    "\n",
    "Comme nous nous intéressons plus à l'effet de la vectorisation qu'à la tâche de classification en elle-même,\n",
    "nous allons utiliser un algorithme de classification simple (un SVM linéaire), avec des paramètres non fine-tunés.\n",
    "\n",
    "Ce modèle est connu pour être très performant sur les tâches de classification de texte, et nous fournira donc une bonne *baseline*. Cela nous permettra également de comparer de manière objective l'impact des méthodes de vectorisation sur la performance finale.\n",
    "\n",
    "On va utiliser au maximum les objets de type pipeline de `sklearn`,\n",
    "qui permettent de réaliser des analyses reproductibles\n",
    "et de fine-tuner proprement les différents hyperparamètres.\n",
    "\n",
    "Pour les deux premières méthodes de vectorisation\n",
    "(basées sur des fréquences et fréquences relatives des mots),\n",
    "on va simplement normaliser les données d'entrée, ce qui va permettre au SVM de converger plus rapidement, ces modèles étant sensibles aux différences d'échelle dans les données.\n",
    "\n",
    "On va également _fine-tuner_ via _grid-search_\n",
    "certains hyperparamètres liés à ces méthodes de vectorisation : \n",
    "\n",
    "- on teste différents _ranges_ de `n-grams` (unigrammes et unigrammes + bigrammes)\n",
    "- on teste avec et sans _stop-words_\n",
    "\n",
    "Afin d'éviter le surapprentissage,\n",
    "on va évaluer les différents modèles via validation croisée, calculée sur 4 blocs.\n",
    "\n",
    "On récupère à la fin le meilleur modèle selon une métrique spécifiée.\n",
    "On choisit le `score F1`,\n",
    "moyenne harmonique de la précision et du rappel,\n",
    "qui donne un poids équilibré aux deux métriques, tout en pénalisant fortement le cas où l'une des deux est faible.\n",
    "Précisément, on retient le `score F1 *micro-averaged*` :\n",
    "les contributions des différentes classes à prédire sont agrégées,\n",
    "puis on calcule le `score F1` sur ces données aggrégées.\n",
    "L'avantage de ce choix est qu'il permet de tenir compte des différences\n",
    "de fréquences des différentes classes.\n"
   ]
  },
  {
   "cell_type": "code",
   "execution_count": null,
<<<<<<< HEAD
   "id": "dc2c2b33",
=======
<<<<<<< HEAD
   "id": "7409a5aa",
=======
   "id": "70b2de81",
>>>>>>> e0c71349550dcbf39dad9c65a6d6e9fba51428d4
>>>>>>> embeddings
   "metadata": {},
   "outputs": [],
   "source": [
    "clf = LinearSVC(max_iter=10000, C=0.1)"
   ]
  },
  {
   "cell_type": "markdown",
<<<<<<< HEAD
   "id": "98f4474b",
=======
<<<<<<< HEAD
   "id": "58f818c3",
=======
   "id": "9eb72052",
>>>>>>> e0c71349550dcbf39dad9c65a6d6e9fba51428d4
>>>>>>> embeddings
   "metadata": {},
   "source": [
    "## Pipeline de prédiction\n",
    "\n",
    "On va utiliser un *pipeline* `scikit` ce qui va nous permettre d'avoir\n",
    "un code très concis pour effectuer cet ensemble de tâches cohérentes. \n",
    "De plus, cela va nous assurer de gérer de manière cohérentes nos différentes\n",
    "transformations (cf. [partie sur les pipelines](#pipelines))\n",
    "\n",
    "Pour se faciliter la vie, on définit une fonction `fit_vectorizers` qui\n",
    "intègre dans un *pipeline* générique une méthode d'estimation `scikit`\n",
    "et fait de la validation croisée en cherchant le meilleur modèle\n",
    "(en excluant/incluant les *stopwords* et avec unigrammes/bigrammes)\n"
   ]
  },
  {
   "cell_type": "code",
   "execution_count": null,
<<<<<<< HEAD
   "id": "6045c89c",
=======
<<<<<<< HEAD
   "id": "b2c08672",
=======
   "id": "9f14cc6f",
>>>>>>> e0c71349550dcbf39dad9c65a6d6e9fba51428d4
>>>>>>> embeddings
   "metadata": {},
   "outputs": [],
   "source": [
    "def fit_vectorizers(vectorizer):\n",
    "    pipeline = Pipeline(\n",
    "    [\n",
    "        (\"vect\", vectorizer()),\n",
    "        (\"scaling\", StandardScaler(with_mean=False)),\n",
    "        (\"clf\", clf),\n",
    "    ]\n",
    "    )\n",
    "\n",
    "    parameters = {\n",
    "        \"vect__ngram_range\": ((1, 1), (1, 2)),  # unigrams or bigrams\n",
    "        \"vect__stop_words\": (\"english\", None)\n",
    "    }\n",
    "\n",
    "    grid_search = GridSearchCV(pipeline, parameters, scoring='f1_micro',\n",
    "                               cv=4, n_jobs=4, verbose=1)\n",
    "    grid_search.fit(X_train, y_train)\n",
    "\n",
    "    best_parameters = grid_search.best_estimator_.get_params()\n",
    "    for param_name in sorted(parameters.keys()):\n",
    "        print(\"\\t%s: %r\" % (param_name, best_parameters[param_name]))\n",
    "\n",
    "    print(f\"CV scores {grid_search.cv_results_['mean_test_score']}\")\n",
    "    print(f\"Mean F1 {np.mean(grid_search.cv_results_['mean_test_score'])}\")\n",
    "    \n",
    "    return grid_search"
   ]
  },
  {
   "cell_type": "markdown",
<<<<<<< HEAD
   "id": "2f948606",
=======
<<<<<<< HEAD
   "id": "a6b11a0b",
=======
   "id": "820a751b",
>>>>>>> e0c71349550dcbf39dad9c65a6d6e9fba51428d4
>>>>>>> embeddings
   "metadata": {},
   "source": [
    "# Approche _bag-of-words_\n",
    "\n",
    "On commence par une approche __\"bag-of-words\"__, \n",
    "i.e. qui revient simplement à représenter chaque document par un vecteur\n",
    "qui compte le nombre d'apparitions de chaque mot du vocabulaire dans le document.\n"
   ]
  },
  {
   "cell_type": "code",
   "execution_count": null,
<<<<<<< HEAD
   "id": "869acf11",
=======
<<<<<<< HEAD
   "id": "5ef7e72c",
=======
   "id": "6b22c4d0",
>>>>>>> e0c71349550dcbf39dad9c65a6d6e9fba51428d4
>>>>>>> embeddings
   "metadata": {},
   "outputs": [],
   "source": [
    "cv_bow = fit_vectorizers(CountVectorizer)"
   ]
  },
  {
   "cell_type": "markdown",
<<<<<<< HEAD
   "id": "f87d40d5",
=======
<<<<<<< HEAD
   "id": "e3674d6b",
=======
   "id": "2dd5b0c8",
>>>>>>> e0c71349550dcbf39dad9c65a6d6e9fba51428d4
>>>>>>> embeddings
   "metadata": {},
   "source": [
    "```\n",
    "## Fitting 4 folds for each of 4 candidates, totalling 16 fits\n",
    "## \tvect__ngram_range: (1, 2)\n",
    "## \tvect__stop_words: None\n",
    "## CV scores [0.65613231 0.68467074 0.59318236 0.78152334]\n",
    "## Mean F1 0.6788771863997067\n",
    "```\n",
    "\n",
    "# TF-IDF\n",
    "\n",
    "On s'intéresse ensuite à l'approche __TF-IDF__,\n",
    "qui permet de tenir compte des fréquences *relatives* des mots.\n",
    "\n",
    "Ainsi, pour un mot donné, on va multiplier la fréquence d'apparition du mot dans le document (calculé comme dans la méthode précédente) par un terme qui pénalise une fréquence élevée du mot dans le corpus. L'image ci-dessous, empruntée à Chris Albon, illustre cette mesure:\n",
    "\n",
    "![](https://chrisalbon.com/images/machine_learning_flashcards/TF-IDF_print.png)\n",
    "*Source: [https://chrisalbon](https://chrisalbon.com/code/machine_learning/preprocessing_text/tf-idf/)*\n",
    "\n",
    "La vectorisation `TF-IDF` permet donc de limiter l'influence des *stop-words*\n",
    "et donc de donner plus de poids aux mots les plus salients d'un document.\n",
    "On observe clairement que la performance de classification est bien supérieure,\n",
    "ce qui montre la pertinence de cette technique.\n",
    "\n"
   ]
  },
  {
   "cell_type": "code",
   "execution_count": null,
<<<<<<< HEAD
   "id": "cc6591de",
=======
<<<<<<< HEAD
   "id": "45f377b7",
=======
   "id": "d432d791",
>>>>>>> e0c71349550dcbf39dad9c65a6d6e9fba51428d4
>>>>>>> embeddings
   "metadata": {},
   "outputs": [],
   "source": [
    "cv_tfidf = fit_vectorizers(TfidfVectorizer)"
   ]
  },
  {
   "cell_type": "markdown",
<<<<<<< HEAD
   "id": "4fc979c0",
=======
<<<<<<< HEAD
   "id": "7a7ed772",
=======
   "id": "98dba283",
>>>>>>> e0c71349550dcbf39dad9c65a6d6e9fba51428d4
>>>>>>> embeddings
   "metadata": {},
   "source": [
    "```\n",
    "## Fitting 4 folds for each of 4 candidates, totalling 16 fits\n",
    "## \tvect__ngram_range: (1, 2)\n",
    "## \tvect__stop_words: None\n",
    "## CV scores [0.68486264 0.72438203 0.75381483 0.80852971]\n",
    "## Mean F1 0.7428973032990371\n",
    "```\n",
    "\n",
    "# Word2vec avec averaging\n",
    "\n",
    "On va maintenant explorer les techniques de vectorisation basées sur les\n",
    "*embeddings* de mots, et notamment la plus populaire : `Word2Vec`.\n",
    "\n",
    "L'idée derrière est simple, mais a révolutionné le NLP :\n",
    "au lieu de représenter les documents par des\n",
    "vecteurs *sparse* de très grande dimension (la taille du vocabulaire)\n",
    "comme on l'a fait jusqu'à présent,\n",
    "on va les représenter par des vecteurs *dense* (continus)\n",
    "de dimension réduite (en général, autour de 100-300).\n",
    "\n",
    "Chacune de ces dimensions va représenter un facteur latent,\n",
    "c'est à dire une variable inobservée,\n",
    "de la même manière que les composantes principales produites par une ACP.\n",
<<<<<<< HEAD
    "\n"
=======
    "\n",
    "*Source: https://medium.com/@zafaralibagh6/simple-tutorial-on-word-embedding-and-word2vec-43d477624b6d*"
>>>>>>> e0c71349550dcbf39dad9c65a6d6e9fba51428d4
   ]
  },
  {
   "cell_type": "markdown",
<<<<<<< HEAD
   "id": "651bcdc4",
=======
<<<<<<< HEAD
   "id": "62a5d374",
=======
   "id": "d296e582",
>>>>>>> e0c71349550dcbf39dad9c65a6d6e9fba51428d4
>>>>>>> embeddings
   "metadata": {},
   "source": [
    "__Pourquoi est-ce intéressant ?__\n",
    "Pour de nombreuses raisons, mais pour résumer :\n",
    "cela permet de beaucoup mieux capturer la similarité sémantique entre les documents.\n",
    "\n",
    "Par exemple, un humain sait qu'un document contenant le mot _\"Roi\"_\n",
    "et un autre document contenant le mot _\"Reine\"_ ont beaucoup de chance\n",
    "d'aborder des sujets semblables.\n",
    "\n",
    "Pourtant, une vectorisation de type comptage ou TF-IDF\n",
    "ne permet pas de saisir cette similarité :\n",
    "le calcul d'une mesure de similarité (norme euclidienne ou similarité cosine)\n",
    "entre les deux vecteurs ne prendra en compte la similarité des deux concepts, puisque les mots utilisés sont différents.\n",
    "\n",
    "A l'inverse, un modèle `word2vec` bien entraîné va capter\n",
    "qu'il existe un facteur latent de type _\"royauté\"_,\n",
    "et la similarité entre les vecteurs associés aux deux mots sera forte.\n",
    "\n",
    "La magie va même plus loin : le modèle captera aussi qu'il existe un\n",
    "facteur latent de type _\"genre\"_,\n",
    "et va permettre de construire un espace sémantique dans lequel les\n",
    "relations arithmétiques entre vecteurs ont du sens ;\n",
    "par exemple :\n",
    "$$\\text{king} - \\text{man} + \\text{woman} ≈ \\text{queen}$$\n",
    "\n",
    "__Comment ces modèles sont-ils entraînés ?__\n",
    "Via une tâche de prédiction résolue par un réseau de neurones simple.\n",
    "\n",
    "L'idée fondamentale est que la signification d'un mot se comprend\n",
    "en regardant les mots qui apparaissent fréquemment dans son voisinage.\n",
    "\n",
    "Pour un mot donné, on va donc essayer de prédire les mots\n",
    "qui apparaissent dans une fenêtre autour du mot cible.\n",
    "\n",
    "En répétant cette tâche de nombreuses fois et sur un corpus suffisamment varié,\n",
    "on obtient finalement des *embeddings* pour chaque mot du vocabulaire,\n",
    "qui présentent les propriétés discutées précédemment.\n",
    "\n"
   ]
  },
  {
   "cell_type": "code",
   "execution_count": null,
<<<<<<< HEAD
   "id": "fea60121",
=======
<<<<<<< HEAD
   "id": "3ba2afb0",
=======
   "id": "c6a8362a",
>>>>>>> e0c71349550dcbf39dad9c65a6d6e9fba51428d4
>>>>>>> embeddings
   "metadata": {
    "lines_to_next_cell": 0
   },
   "outputs": [],
   "source": [
    "X_train_tokens = [text.split() for text in X_train]\n",
    "w2v_model = Word2Vec(X_train_tokens, vector_size=200, window=5, \n",
    "                     min_count=1, workers=4)"
   ]
  },
  {
   "cell_type": "markdown",
<<<<<<< HEAD
   "id": "e7d01658",
=======
<<<<<<< HEAD
   "id": "99412c51",
=======
   "id": "530d87e5",
>>>>>>> e0c71349550dcbf39dad9c65a6d6e9fba51428d4
>>>>>>> embeddings
   "metadata": {},
   "source": [
    "\n"
   ]
  },
  {
   "cell_type": "code",
   "execution_count": null,
<<<<<<< HEAD
   "id": "76d07707",
=======
<<<<<<< HEAD
   "id": "c758a493",
=======
   "id": "a422814c",
>>>>>>> e0c71349550dcbf39dad9c65a6d6e9fba51428d4
>>>>>>> embeddings
   "metadata": {},
   "outputs": [],
   "source": [
    "w2v_model.wv.most_similar(\"mother\")"
   ]
  },
  {
   "cell_type": "markdown",
<<<<<<< HEAD
   "id": "e1f1f6b1",
   "metadata": {},
   "source": [
    "```\n",
    "## [('husband', 0.9893696308135986), ('wife', 0.989046037197113), ('sister', 0.9880226850509644), ('heart', 0.9858962893486023), ('daughter', 0.985504686832428), ('hiding', 0.9845076203346252), ('clara', 0.9837982654571533), ('child', 0.983633816242218), ('countenance', 0.9831883311271667), ('departure', 0.9828280806541443)]\n",
=======
<<<<<<< HEAD
   "id": "db3a0898",
   "metadata": {},
   "source": [
    "```\n",
    "## [('husband', 0.9892809391021729), ('heart', 0.9824116230010986), ('countenance', 0.9819815158843994), ('brother', 0.9792574048042297), ('soul', 0.9786049723625183), ('tears', 0.9777360558509827), ('hand', 0.9765444397926331), ('host', 0.9760467410087585), ('daughter', 0.9759390950202942), ('lover', 0.9755373597145081)]\n",
=======
   "id": "79e0584f",
   "metadata": {},
   "source": [
    "```\n",
    "## [('wife', 0.9907168745994568), ('sister', 0.9896222352981567), ('shoulder', 0.9885583519935608), ('child', 0.9853304624557495), ('heart', 0.9846987724304199), ('own', 0.983705997467041), ('soul', 0.983376681804657), ('gesture', 0.9831733703613281), ('countenance', 0.9825171828269958), ('daughter', 0.9822549223899841)]\n",
>>>>>>> e0c71349550dcbf39dad9c65a6d6e9fba51428d4
>>>>>>> embeddings
    "```\n",
    "\n",
    "On voit que les mots les plus similaires à _\"mother\"_\n",
    "sont souvent des mots liés à la famille, mais pas toujours.\n",
    "\n",
    "C'est lié à la taille très restreinte du corpus sur lequel on entraîne le modèle,\n",
    "qui ne permet pas de réaliser des associations toujours pertinentes.\n",
    "\n"
   ]
  },
  {
   "cell_type": "code",
   "execution_count": null,
<<<<<<< HEAD
   "id": "b2fbcc87",
=======
<<<<<<< HEAD
   "id": "845ea08e",
=======
   "id": "2b113727",
>>>>>>> e0c71349550dcbf39dad9c65a6d6e9fba51428d4
>>>>>>> embeddings
   "metadata": {
    "lines_to_next_cell": 0
   },
   "outputs": [],
   "source": [
    "def get_mean_vector(w2v_vectors, words):\n",
    "    words = [word for word in words if word in w2v_vectors]\n",
    "    if words:\n",
    "        avg_vector = np.mean(w2v_vectors[words], axis=0)\n",
    "    else:\n",
    "        avg_vector = np.zeros_like(w2v_vectors['hi'])\n",
    "    return avg_vector\n",
    "\n",
    "def fit_w2v_avg(w2v_vectors):\n",
    "    X_train_vectors = np.array([get_mean_vector(w2v_vectors, words)\n",
    "                                for words in X_train_tokens])\n",
    "    \n",
    "    scores = cross_val_score(clf, X_train_vectors, y_train, \n",
    "                         cv=4, scoring='f1_micro', n_jobs=4)\n",
    "\n",
    "    print(f\"CV scores {scores}\")\n",
    "    print(f\"Mean F1 {np.mean(scores)}\")\n",
    "    return scores"
   ]
  },
  {
   "cell_type": "markdown",
<<<<<<< HEAD
   "id": "914a3851",
=======
<<<<<<< HEAD
   "id": "8ec00473",
=======
   "id": "e3d93610",
>>>>>>> e0c71349550dcbf39dad9c65a6d6e9fba51428d4
>>>>>>> embeddings
   "metadata": {},
   "source": [
    "\n"
   ]
  },
  {
   "cell_type": "code",
   "execution_count": null,
<<<<<<< HEAD
   "id": "dc91d045",
=======
<<<<<<< HEAD
   "id": "c49f050a",
=======
   "id": "bf6d728f",
>>>>>>> e0c71349550dcbf39dad9c65a6d6e9fba51428d4
>>>>>>> embeddings
   "metadata": {},
   "outputs": [],
   "source": [
    "cv_w2vec = fit_w2v_avg(w2v_model.wv)"
   ]
  },
  {
   "cell_type": "markdown",
<<<<<<< HEAD
   "id": "3da44531",
   "metadata": {},
   "source": [
    "```\n",
    "## CV scores [0.56384065 0.55311542 0.55132789 0.56781609]\n",
    "## Mean F1 0.5590250137954516\n",
=======
<<<<<<< HEAD
   "id": "bba0fa19",
   "metadata": {},
   "source": [
    "```\n",
    "## CV scores [0.55822268 0.55337079 0.55030644 0.56347382]\n",
    "## Mean F1 0.5563434291252967\n",
=======
   "id": "2c01b16e",
   "metadata": {},
   "source": [
    "```\n",
    "## CV scores [0.55617978 0.55617978 0.54724208 0.56372925]\n",
    "## Mean F1 0.5558327202021507\n",
>>>>>>> e0c71349550dcbf39dad9c65a6d6e9fba51428d4
>>>>>>> embeddings
    "```\n",
    "\n",
    "La performance chute fortement ;\n",
    "la faute à la taille très restreinte du corpus, comme annoncé précédemment.\n",
    "\n",
    "# Word2vec pré-entraîné + averaging\n",
    "\n",
    "Quand on travaille avec des corpus de taille restreinte,\n",
    "c'est généralement une mauvaise idée d'entraîner son propre modèle `word2vec`.\n",
    "\n",
    "Heureusement, des modèles pré-entraînés sur de très gros corpus sont disponibles.\n",
    "Ils permettent de réaliser du *transfer learning*,\n",
    "c'est à dire de bénéficier de la performance d'un modèle qui a été entraîné sur une autre tâche ou bien un autre corpus.\n",
<<<<<<< HEAD
    "\n"
=======
    "\n",
    "L'un des modèles les plus connus pour démarrer est le `glove_model` de\n",
    "`Gensim` (Glove pour _Global Vectors for Word Representation_)[^1]:\n",
    "\n",
    "> GloVe is an unsupervised learning algorithm for obtaining vector representations for words. Training is performed on aggregated global word-word co-occurrence statistics from a corpus, and the resulting representations showcase interesting linear substructures of the word vector space. \n",
    ">\n",
    "> _Source_: https://nlp.stanford.edu/projects/glove/\n",
    "\n",
    "[^1]: Jeffrey Pennington, Richard Socher, and Christopher D. Manning. 2014. _GloVe: Global Vectors for Word Representation_. \n"
>>>>>>> e0c71349550dcbf39dad9c65a6d6e9fba51428d4
   ]
  },
  {
   "cell_type": "code",
   "execution_count": null,
<<<<<<< HEAD
   "id": "1858d4e4",
=======
<<<<<<< HEAD
   "id": "08234775",
   "metadata": {
    "lines_to_next_cell": 0
   },
=======
   "id": "df1faa82",
>>>>>>> embeddings
   "metadata": {},
>>>>>>> e0c71349550dcbf39dad9c65a6d6e9fba51428d4
   "outputs": [],
   "source": [
    "glove_model = gensim.downloader.load('glove-wiki-gigaword-200')"
   ]
  },
  {
   "cell_type": "markdown",
<<<<<<< HEAD
   "id": "41574391",
=======
<<<<<<< HEAD
   "id": "b702100e",
   "metadata": {},
   "source": [
    "\n"
=======
   "id": "f8cd569e",
>>>>>>> embeddings
   "metadata": {},
   "source": [
    "Par exemple, la représentation vectorielle de roi est l'objet\n",
    "multidimensionnel suivant;\n"
>>>>>>> e0c71349550dcbf39dad9c65a6d6e9fba51428d4
   ]
  },
  {
   "cell_type": "code",
   "execution_count": null,
<<<<<<< HEAD
   "id": "2faefbef",
=======
<<<<<<< HEAD
   "id": "1e850beb",
=======
   "id": "53242c43",
>>>>>>> embeddings
   "metadata": {},
   "outputs": [],
   "source": [
    "glove_model['king']"
   ]
  },
  {
   "cell_type": "markdown",
<<<<<<< HEAD
   "id": "6f52a6a1",
=======
   "id": "b12a556a",
>>>>>>> embeddings
   "metadata": {},
   "source": [
    "```\n",
    "## array([-0.49346  , -0.14768  ,  0.32166  ,  0.056899 ,  0.052572 ,\n",
    "##         0.20192  , -0.13506  , -0.030793 ,  0.15614  , -0.23004  ,\n",
    "##        -0.66376  , -0.27316  ,  0.10391  ,  0.57334  , -0.032355 ,\n",
    "##        -0.32766  , -0.2716   ,  0.32919  ,  0.41305  , -0.18085  ,\n",
    "##         1.5167   ,  2.1649   , -0.10278  ,  0.098019 , -0.018946 ,\n",
    "##         0.027292 , -0.7948   ,  0.36631  , -0.33151  ,  0.2884   ,\n",
    "##         0.10436  , -0.19166  ,  0.27326  , -0.17519  , -0.14986  ,\n",
    "##        -0.072333 , -0.54371  , -0.29728  ,  0.081491 , -0.42673  ,\n",
    "##        -0.36406  , -0.52035  ,  0.18455  ,  0.44121  , -0.32196  ,\n",
    "##         0.39172  ,  0.11952  ,  0.36979  ,  0.29229  , -0.42954  ,\n",
    "##         0.46653  , -0.067243 ,  0.31216  , -0.17216  ,  0.48874  ,\n",
    "##         0.2803   , -0.17577  , -0.35101  ,  0.020792 ,  0.15974  ,\n",
    "##         0.21927  , -0.32499  ,  0.086022 ,  0.38927  , -0.65638  ,\n",
    "##        -0.67401  , -0.41896  ,  1.2709   ,  0.20857  ,  0.28315  ,\n",
    "##         0.58238  , -0.14944  ,  0.3989   ,  0.52681  ,  0.35714  ,\n",
    "##        -0.39101  , -0.55372  , -0.56642  , -0.15762  , -0.48004  ,\n",
    "##         0.40448  ,  0.057518 , -1.0157   ,  0.21755  ,  0.073296 ,\n",
    "##         0.15237  , -0.38362  , -0.75308  , -0.0060254, -0.26232  ,\n",
    "##        -0.54102  , -0.34347  ,  0.11113  ,  0.47685  , -0.7323   ,\n",
    "##         0.77597  ,  0.015216 , -0.66327  , -0.21144  , -0.42964  ,\n",
    "##        -0.7269   , -0.067968 ,  0.50601  ,  0.039817 , -0.27584  ,\n",
    "##        -0.34794  , -0.0474   ,  0.50734  , -0.30777  ,  0.11594  ,\n",
    "##        -0.19211  ,  0.3107   , -0.60075  ,  0.22044  , -0.36265  ,\n",
    "##        -0.59442  , -1.2046   ,  0.10619  , -0.60278  ,  0.21573  ,\n",
    "##        -0.35362  ,  0.55473  ,  0.58094  ,  0.077259 ,  1.0776   ,\n",
    "##        -0.1867   , -1.5168   ,  0.32418  ,  0.83333  ,  0.17366  ,\n",
    "##         1.1232   ,  0.10863  ,  0.55889  ,  0.30799  ,  0.084318 ,\n",
    "##        -0.43178  , -0.042287 , -0.054615 ,  0.054712 , -0.80914  ,\n",
    "##        -0.2443   , -0.076909 ,  0.55216  , -0.71896  ,  0.83319  ,\n",
    "##         0.020735 ,  0.020472 , -0.40279  , -0.28874  ,  0.23758  ,\n",
    "##         0.12576  , -0.15165  , -0.6942   , -0.25174  ,  0.29591  ,\n",
    "##         0.4029   , -1.0618   ,  0.19847  , -0.63463  , -0.70843  ,\n",
    "##         0.067943 ,  0.57366  ,  0.041122 ,  0.17452  ,  0.19431  ,\n",
    "##        -0.28641  , -1.1363   ,  0.45116  , -0.066518 ,  0.82615  ,\n",
    "##        -0.45452  , -0.85652  ,  0.18105  , -0.24187  ,  0.20153  ,\n",
    "##         0.72298  ,  0.17415  , -0.87328  ,  0.69815  ,  0.024706 ,\n",
    "##         0.26174  , -0.0087155, -0.39349  ,  0.13801  , -0.39299  ,\n",
    "##        -0.23057  , -0.22611  , -0.14407  ,  0.010511 , -0.47389  ,\n",
    "##        -0.15645  ,  0.28601  , -0.21772  , -0.49535  ,  0.022209 ,\n",
    "##        -0.23575  , -0.22469  , -0.011578 ,  0.52867  , -0.062309 ],\n",
    "##       dtype=float32)\n",
    "```\n",
    "\n",
    "Comme elle est peu intelligible, on va plutôt rechercher les termes les\n",
    "plus similaires. Par exemple,\n"
   ]
  },
  {
   "cell_type": "code",
   "execution_count": null,
<<<<<<< HEAD
   "id": "8c6edf2f",
=======
   "id": "98b6c025",
>>>>>>> e0c71349550dcbf39dad9c65a6d6e9fba51428d4
>>>>>>> embeddings
   "metadata": {},
   "outputs": [],
   "source": [
    "glove_model.most_similar('mother')"
   ]
  },
  {
   "cell_type": "markdown",
<<<<<<< HEAD
   "id": "d37f2b26",
=======
<<<<<<< HEAD
   "id": "38128b0a",
=======
   "id": "1fe48d67",
>>>>>>> e0c71349550dcbf39dad9c65a6d6e9fba51428d4
>>>>>>> embeddings
   "metadata": {},
   "source": [
    "```\n",
    "## [('daughter', 0.8648022413253784), ('wife', 0.8568021655082703), ('grandmother', 0.8373793363571167), ('husband', 0.8055646419525146), ('sister', 0.8029242157936096), ('father', 0.7936768531799316), ('her', 0.783749520778656), ('daughters', 0.7589756846427917), ('woman', 0.7579867243766785), ('she', 0.7452898025512695)]\n",
    "```\n",
<<<<<<< HEAD
    "\n"
=======
    "\n",
    "On peut retrouver notre formule précédente\n",
    "\n",
    "$$\\text{king} - \\text{man} + \\text{woman} ≈ \\text{queen}$$\n",
    "dans ce plongement de mots:\n"
>>>>>>> e0c71349550dcbf39dad9c65a6d6e9fba51428d4
   ]
  },
  {
   "cell_type": "code",
   "execution_count": null,
<<<<<<< HEAD
   "id": "8426c0b0",
=======
<<<<<<< HEAD
   "id": "351190a9",
=======
   "id": "7ba16421",
>>>>>>> embeddings
   "metadata": {},
   "outputs": [],
   "source": [
    "glove_model.most_similar(positive = ['king', 'woman'], negative = ['man'])"
   ]
  },
  {
   "cell_type": "markdown",
<<<<<<< HEAD
   "id": "10a7a432",
=======
   "id": "ae6cd23e",
>>>>>>> embeddings
   "metadata": {},
   "source": [
    "```\n",
    "## [('queen', 0.6978678107261658), ('princess', 0.6081745028495789), ('monarch', 0.5889754891395569), ('throne', 0.5775108933448792), ('prince', 0.5750998258590698), ('elizabeth', 0.5463595986366272), ('daughter', 0.5399126410484314), ('kingdom', 0.5318052768707275), ('mother', 0.5168544054031372), ('crown', 0.5164473056793213)]\n",
    "```\n",
    "\n",
    "Vous pouvez vous référer à [ce tutoriel](https://jalammar.github.io/illustrated-word2vec/)\n",
    "pour en découvrir plus sur `Word2Vec`.\n",
    "\n",
    "Faisons notre apprentissage par transfert:\n"
   ]
  },
  {
   "cell_type": "code",
   "execution_count": null,
<<<<<<< HEAD
   "id": "cf6e6557",
=======
   "id": "a83e9f46",
>>>>>>> e0c71349550dcbf39dad9c65a6d6e9fba51428d4
>>>>>>> embeddings
   "metadata": {},
   "outputs": [],
   "source": [
    "cv_w2vec_transfert = fit_w2v_avg(glove_model)"
   ]
  },
  {
   "cell_type": "markdown",
<<<<<<< HEAD
   "id": "8607a1df",
=======
<<<<<<< HEAD
   "id": "815fc909",
=======
   "id": "253f6b1a",
>>>>>>> e0c71349550dcbf39dad9c65a6d6e9fba51428d4
>>>>>>> embeddings
   "metadata": {},
   "source": [
    "```\n",
    "## CV scores [0.67696629 0.67262513 0.66905005 0.68633461]\n",
    "## Mean F1 0.6762440203403008\n",
    "```\n",
    "\n",
    "La performance remonte substantiellement.\n",
    "Cela étant, on ne parvient pas à faire mieux que les approches basiques,\n",
    "on arrive à peine aux performances de la vectorisation par comptage.\n",
    "\n",
    "En effet, pour rappel, les performances sont les suivantes:\n"
   ]
  },
  {
   "cell_type": "code",
   "execution_count": null,
<<<<<<< HEAD
   "id": "bde2cc1c",
=======
<<<<<<< HEAD
   "id": "1a781ab7",
=======
   "id": "1823bcf2",
>>>>>>> e0c71349550dcbf39dad9c65a6d6e9fba51428d4
>>>>>>> embeddings
   "metadata": {},
   "outputs": [],
   "source": [
    "perfs = pd.DataFrame(\n",
    "    [np.mean(cv_bow.cv_results_['mean_test_score']),\n",
    "     np.mean(cv_tfidf.cv_results_['mean_test_score']),\n",
    "    np.mean(cv_w2vec),\n",
    "    np.mean(cv_w2vec_transfert)],\n",
    "    index = ['Bag-of-Words','TF-IDF', 'Word2Vec non pré-entraîné', 'Word2Vec pré-entraîné'],\n",
    "    columns = [\"Mean F1 score\"]\n",
    ").sort_values(\"Mean F1 score\",ascending = False)\n",
    "perfs"
   ]
  },
  {
   "cell_type": "markdown",
<<<<<<< HEAD
   "id": "f088c5fe",
=======
<<<<<<< HEAD
   "id": "485e9034",
=======
   "id": "daecbc31",
>>>>>>> e0c71349550dcbf39dad9c65a6d6e9fba51428d4
>>>>>>> embeddings
   "metadata": {},
   "source": [
    "```\n",
    "##                            Mean F1 score\n",
    "## TF-IDF                          0.742897\n",
    "## Bag-of-Words                    0.678877\n",
    "## Word2Vec pré-entraîné           0.676244\n",
<<<<<<< HEAD
    "## Word2Vec non pré-entraîné       0.559025\n",
=======
<<<<<<< HEAD
    "## Word2Vec non pré-entraîné       0.556343\n",
=======
    "## Word2Vec non pré-entraîné       0.555833\n",
>>>>>>> e0c71349550dcbf39dad9c65a6d6e9fba51428d4
>>>>>>> embeddings
    "```\n",
    "\n",
    "La cause est cette fois certainement dans la manière dont on exploite\n",
    "les *embeddings* :\n",
    "afin d'obtenir une représentation vectorielle pour chaque document,\n",
    "on moyennise les vecteurs des différents mots compris dans un document.\n",
    "\n",
    "Cela a plusieurs limites : \n",
    "\n",
    "- on ne tient pas compte de l'ordre et donc du contexte des mots\n",
    "- lorsque les documents sont longs, la moyennisation peut créer\n",
    "des représentation bruitées.\n",
    "\n",
    "# Contextual embeddings\n",
    "\n",
    "Les *embeddings* contextuels visent à pallier les limites des *embeddings*\n",
    "traditionnels évoquées précédemment.\n",
    "\n",
    "Cette fois, les mots n'ont plus de représentation vectorielle fixe,\n",
    "celle-ci est calculée dynamiquement en fonction des mots du voisinage, et ainsi de suite.\n",
    "Cela permet de tenir compte de la structure spatiale des phrases\n",
    "et de tenir compte du fait que le sens d'un mot est fortement dépendant des mots\n",
    "qui l'entourent (ex : dans les phrases \"le président Macron\" et \"le camembert Président\" le mot président n'a pas du tout le même rôle).\n",
    "\n",
    "Ces *embeddings* sont produits par des architectures très complexes,\n",
    "de type Transformer (`BERT`, etc.).\n",
    "\n"
   ]
  },
  {
   "cell_type": "code",
   "execution_count": null,
<<<<<<< HEAD
   "id": "a8162567",
=======
<<<<<<< HEAD
   "id": "9ab5758e",
=======
   "id": "729a9019",
>>>>>>> e0c71349550dcbf39dad9c65a6d6e9fba51428d4
>>>>>>> embeddings
   "metadata": {
    "lines_to_next_cell": 0
   },
   "outputs": [],
   "source": [
    "model = SentenceTransformer('all-mpnet-base-v2')"
   ]
  },
  {
   "cell_type": "markdown",
<<<<<<< HEAD
   "id": "3642abf1",
=======
<<<<<<< HEAD
   "id": "cada7fe3",
=======
   "id": "9e9a7cf9",
>>>>>>> e0c71349550dcbf39dad9c65a6d6e9fba51428d4
>>>>>>> embeddings
   "metadata": {},
   "source": [
    "\n"
   ]
  },
  {
   "cell_type": "code",
   "execution_count": null,
<<<<<<< HEAD
   "id": "7a47861a",
=======
<<<<<<< HEAD
   "id": "c107bd62",
=======
   "id": "10118fdf",
>>>>>>> e0c71349550dcbf39dad9c65a6d6e9fba51428d4
>>>>>>> embeddings
   "metadata": {
    "lines_to_next_cell": 0
   },
   "outputs": [],
   "source": [
    "X_train_vectors = model.encode(X_train)"
   ]
  },
  {
   "cell_type": "markdown",
<<<<<<< HEAD
   "id": "e8ec9adb",
=======
<<<<<<< HEAD
   "id": "ff03802d",
=======
   "id": "e7c7c5c9",
>>>>>>> e0c71349550dcbf39dad9c65a6d6e9fba51428d4
>>>>>>> embeddings
   "metadata": {},
   "source": [
    "\n"
   ]
  },
  {
   "cell_type": "code",
   "execution_count": null,
<<<<<<< HEAD
   "id": "d7493705",
=======
<<<<<<< HEAD
   "id": "033d8975",
=======
   "id": "3ec80f77",
>>>>>>> e0c71349550dcbf39dad9c65a6d6e9fba51428d4
>>>>>>> embeddings
   "metadata": {},
   "outputs": [],
   "source": [
    "scores = cross_val_score(clf, X_train_vectors, y_train, \n",
    "                         cv=4, scoring='f1_micro', n_jobs=4)\n",
    "\n",
    "print(f\"CV scores {scores}\")"
   ]
  },
  {
   "cell_type": "markdown",
<<<<<<< HEAD
   "id": "3134375e",
=======
<<<<<<< HEAD
   "id": "a0405933",
=======
   "id": "ad386cbe",
>>>>>>> e0c71349550dcbf39dad9c65a6d6e9fba51428d4
>>>>>>> embeddings
   "metadata": {},
   "source": [
    "```\n",
    "## CV scores [0.75       0.7308478  0.74361593 0.75376756]\n",
    "```"
   ]
  },
  {
   "cell_type": "code",
   "execution_count": null,
<<<<<<< HEAD
   "id": "ef3ff795",
=======
<<<<<<< HEAD
   "id": "c1d30ffe",
=======
   "id": "f4460fcc",
>>>>>>> e0c71349550dcbf39dad9c65a6d6e9fba51428d4
>>>>>>> embeddings
   "metadata": {},
   "outputs": [],
   "source": [
    "print(f\"Mean F1 {np.mean(scores)}\")"
   ]
  },
  {
   "cell_type": "markdown",
<<<<<<< HEAD
   "id": "4bcd711f",
=======
<<<<<<< HEAD
   "id": "a48e7b3a",
=======
   "id": "276fdfcb",
>>>>>>> e0c71349550dcbf39dad9c65a6d6e9fba51428d4
>>>>>>> embeddings
   "metadata": {},
   "source": [
    "```\n",
    "## Mean F1 0.7445578247931987\n",
    "```\n"
   ]
  },
  {
   "cell_type": "code",
   "execution_count": null,
<<<<<<< HEAD
   "id": "9abc4a1c",
=======
<<<<<<< HEAD
   "id": "51d86f1d",
=======
   "id": "6a95aade",
>>>>>>> e0c71349550dcbf39dad9c65a6d6e9fba51428d4
>>>>>>> embeddings
   "metadata": {},
   "outputs": [],
   "source": [
    "perfs = pd.concat(\n",
    "  [perfs,\n",
    "  pd.DataFrame(\n",
    "    [np.mean(scores)],\n",
    "    index = ['Contextual Embedding'],\n",
    "    columns = [\"Mean F1 score\"])]\n",
    ").sort_values(\"Mean F1 score\",ascending = False)\n",
    "perfs"
   ]
  },
  {
   "cell_type": "markdown",
<<<<<<< HEAD
   "id": "1ab440c3",
=======
<<<<<<< HEAD
   "id": "a07256e8",
=======
   "id": "5764c248",
>>>>>>> e0c71349550dcbf39dad9c65a6d6e9fba51428d4
>>>>>>> embeddings
   "metadata": {},
   "source": [
    "```\n",
    "##                            Mean F1 score\n",
    "## Contextual Embedding            0.744558\n",
    "## TF-IDF                          0.742897\n",
    "## Bag-of-Words                    0.678877\n",
    "## Word2Vec pré-entraîné           0.676244\n",
<<<<<<< HEAD
    "## Word2Vec non pré-entraîné       0.559025\n",
=======
<<<<<<< HEAD
    "## Word2Vec non pré-entraîné       0.556343\n",
=======
    "## Word2Vec non pré-entraîné       0.555833\n",
>>>>>>> e0c71349550dcbf39dad9c65a6d6e9fba51428d4
>>>>>>> embeddings
    "```"
   ]
  },
  {
   "cell_type": "markdown",
<<<<<<< HEAD
   "id": "f5689bb0",
=======
<<<<<<< HEAD
   "id": "02ad8e2a",
=======
   "id": "59671b81",
>>>>>>> e0c71349550dcbf39dad9c65a6d6e9fba51428d4
>>>>>>> embeddings
   "metadata": {},
   "source": [
    "Verdict : on fait très légèrement mieux que la vectorisation TF-IDF.\n",
    "On voit donc l'importance de tenir compte du contexte.\n",
    "\n",
<<<<<<< HEAD
    "_Mais pourquoi, avec une méthode très compliquée, ne parvenons-nous pas à battre une méthode toute simple ?_\n",
    "\n",
    "On peut avancer plusieurs raisons : \n",
    "- le TF-IDF est un modèle simple, mais toujours très performant\n",
    "(on parle de _\"tough-to-beat baseline\"_).\n",
    "- la classification d'auteurs est une tâche très particulière et très ardue,\n",
    "qui ne fait pas justice aux *embeddings*. Comme on l'a dit précédemment, ces derniers se révèlent particulièrement pertinent lorsqu'il est question de similarité sémantique entre des textes (clustering, etc.).\n",
=======
    "__Mais pourquoi, avec une méthode très compliquée, ne parvenons-nous pas à battre une méthode toute simple ?__\n",
    "\n",
    "On peut avancer plusieurs raisons : \n",
    "\n",
    "- le `TF-IDF` est un modèle simple, mais toujours très performant\n",
    "(on parle de _\"tough-to-beat baseline\"_).\n",
    "- la classification d'auteurs est une tâche très particulière et très ardue,\n",
    "qui ne fait pas justice aux *embeddings*. Comme on l'a dit précédemment, ces derniers se révèlent particulièrement pertinent lorsqu'il est question de similarité sémantique entre des textes (_clustering_, etc.).\n",
>>>>>>> e0c71349550dcbf39dad9c65a6d6e9fba51428d4
    "\n",
    "Dans le cas de notre tâche de classification, il est probable que\n",
    "certains mots (noms de personnage, noms de lieux) soient suffisants pour classifier de manière pertinente,\n",
    "ce que ne permettent pas de capter les *embeddings*.\n",
    "\n",
    "## Exercices\n",
    "\n",
<<<<<<< HEAD
    "- Prédictions sur le test set en utilisant les modèles entraînés\n",
    "- Faire un *vrai* split train/test : faire l'entraînement avec des textes de certains auteurs, et faire la prédiction avec des textes d'auteurs différents. Cela permettrait de neutraliser la présence de noms de lieux, de personnages, etc.\n",
    "- Comparer avec d'autres algorithmes de classification qu'un SVM\n",
    "- (Avancé) : fine-tuner le modèle d'embeddings contextuels sur la tâche de classification\n"
=======
    "- Nous avons entraîné différents modèles sur le set d'entraînement par validation croisée, mais nous n'avons toujours pas utilisé le set de test que nous avons mis de côté au début. Réaliser la prédiction sur les données de test, et vérifier si l'on obtient le même classement des méthodes de vectorisation.\n",
    "- Faire un *vrai* split train/test : faire l'entraînement avec des textes de certains auteurs, et faire la prédiction avec des textes d'auteurs différents. Cela permettrait de neutraliser la présence de noms de lieux, de personnages, etc.\n",
    "- Comparer avec d'autres algorithmes de classification qu'un SVM\n",
    "- (Avancé) : fine-tuner le modèle d'embeddings contextuels sur la tâche de classification"
>>>>>>> e0c71349550dcbf39dad9c65a6d6e9fba51428d4
   ]
  }
 ],
 "metadata": {
  "kernelspec": {
   "display_name": "Python 3",
   "language": "python",
   "name": "python3"
  }
 },
 "nbformat": 4,
 "nbformat_minor": 5
}
