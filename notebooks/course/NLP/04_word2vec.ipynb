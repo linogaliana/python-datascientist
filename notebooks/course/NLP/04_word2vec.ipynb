{
 "cells": [
  {
   "cell_type": "markdown",
   "id": "a233fd65",
   "metadata": {},
   "source": [
    "#  Prédiction avec Word2Vec et Keras\n",
    "\n",
    "\n"
   ]
  },
  {
   "cell_type": "markdown",
   "id": "7c034de9",
   "metadata": {},
   "source": [
    "Cette page approfondit certains aspects présentés dans la\n",
    "[partie introductive](#nlp). Après avoir travaillé sur le\n",
    "*Comte de Monte Cristo*, on va continuer notre exploration de la littérature\n",
    "avec cette fois des auteurs anglophones:\n",
    "\n",
    "* Edgar Allan Poe, (EAP) ;\n",
    "* HP Lovecraft (HPL) ;\n",
    "* Mary Wollstonecraft Shelley (MWS).\n",
    "\n",
    "Les données sont disponibles ici : [spooky.csv](https://github.com/GU4243-ADS/spring2018-project1-ginnyqg/blob/master/data/spooky.csv) et peuvent être requétées via l'url \n",
    "<https://github.com/GU4243-ADS/spring2018-project1-ginnyqg/raw/master/data/spooky.csv>.\n",
    "\n",
    "Le but va être dans un premier temps de regarder dans le détail les termes les plus fréquents utilisés par les auteurs, de les représenter graphiquement puis on va ensuite essayer de prédire quel texte correspond à quel auteur à partir d'un modèle `Word2Vec`."
   ]
  },
  {
   "cell_type": "markdown",
   "id": "10f4eabc",
   "metadata": {},
   "source": [
    "Ce notebook librement inspiré de  : \n",
    "\n",
    "* https://www.kaggle.com/enerrio/scary-nlp-with-spacy-and-keras\n",
    "* https://github.com/GU4243-ADS/spring2018-project1-ginnyqg\n",
    "* https://www.kaggle.com/meiyizi/spooky-nlp-and-topic-modelling-tutorial/notebook\n",
    "\n",
    "## Librairies nécessaires\n",
    "\n",
    "Cette page évoquera, les principales librairies pour faire du NLP, notamment: \n",
    "\n",
    "* [WordCloud](https://github.com/amueller/word_cloud)\n",
    "* [nltk](https://www.nltk.org/)\n",
    "* [spacy](https://spacy.io/)\n",
    "* [Keras](https://keras.io/)\n",
    "* [TensorFlow](https://www.tensorflow.org/)\n",
    "\n",
    "Il faudra également installer les librairies `gensim` et `pywaffle`\n",
    "\n",
    "Comme dans la [partie précédente](#nlp), il faut télécharger quelques éléments pour que `NTLK` puisse fonctionner correctement. Pour cela, faire:\n",
    "\n",
    "~~~python\n",
    "import nltk\n",
    "nltk.download('stopwords')\n",
    "nltk.download('punkt')\n",
    "nltk.download('genesis')\n",
    "nltk.download('wordnet')\n",
    "~~~"
   ]
  },
  {
   "cell_type": "markdown",
   "id": "a9299ff5",
   "metadata": {},
   "source": [
    "La liste des modules à importer est assez longue, la voici:\n"
   ]
  },
  {
   "cell_type": "markdown",
   "id": "1bb321fd",
   "metadata": {},
   "source": [
    "## Prédiction - Modélisation en utilisant Word2vec et Keras\n",
    "\n",
    "Derniere partie du TD, prédire les auteurs à partir des textes\n",
    "qu'on aura dans la base de test.\n",
    "\n",
    "Pour cela, on utilise les modules `spacy`, `Word2vec` et `Keras`\n",
    "\n"
   ]
  },
  {
   "cell_type": "code",
   "execution_count": null,
   "id": "1f9f0566",
   "metadata": {},
   "outputs": [],
   "source": [
    "import spacy\n",
    "nlp = spacy.load('en_core_web_sm')"
   ]
  }
 ],
 "metadata": {
  "kernelspec": {
   "display_name": "Python 3",
   "language": "python",
   "name": "python3"
  }
 },
 "nbformat": 4,
 "nbformat_minor": 5
}
