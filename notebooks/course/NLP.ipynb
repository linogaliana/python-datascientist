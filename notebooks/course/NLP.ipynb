{
  "cells": [
    {
      "cell_type": "markdown",
      "metadata": {},
      "source": [
        "# Partie 4 : Natural Language Processing (NLP)\n",
        "\n",
        "Cette partie du cours est consacrée à l’analyse des données textuelles avec\n",
        "des exemples de :books: pour s’amuser.\n",
        "\n",
        "Dans un premier temps, cette partie propose d’explorer *bag of words*\n",
        "pour montrer comment transformer un corpus en outil propre à une\n",
        "analyse statistique :\n",
        "\n",
        "-   Elle propose d’abord une introduction aux enjeux du nettoyage des données\n",
        "    textuelles à travers l’analyse du *Comte de Monte Cristo* d’Alexandre Dumas\n",
        "    [ici](#nlpintro)\n",
        "-   Elle propose une série d’exercices sur le nettoyage de textes à partir des\n",
        "    oeuvres d’Edgar Allan Poe, Mary Shelley et H.P. Lovecraft.\n",
        "\n",
        "Ensuite, nous proposerons d’explorer une approche alternative, prenant en compte\n",
        "le contexte d’apparition d’un mot. L’introduction à la\n",
        "*Latent Dirichlet Allocation* sera l’occasion de présenter la modélisation\n",
        "de documents sous la forme de *topics*.\n",
        "\n",
        "Enfin, nous introduirons aux enjeux de la transformation de champs textuels\n",
        "sous forme de vecteurs numériques. Pour cela, nous présenterons le principe\n",
        "de `Word2Vec` qui permet ainsi, par exemple,\n",
        "malgré une distance syntaxique importante,\n",
        "de dire que sémantiquement `Homme` et `Femme` sont proches.\n",
        "\n",
        "## Contenu de la partie\n",
        "\n",
        "## Pour aller plus loin\n",
        "\n",
        "-   [Cours sur `HuggingFace`](https://huggingface.co/course/chapter1/2?fw=pt)"
      ],
      "id": "31a468e9-c944-4660-bc4d-bc0e8df75c7a"
    }
  ],
  "nbformat": 4,
  "nbformat_minor": 5,
  "metadata": {
    "kernelspec": {
      "display_name": "Python 3",
      "language": "python",
      "name": "python3"
    }
  }
}