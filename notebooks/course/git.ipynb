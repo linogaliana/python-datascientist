{
  "cells": [
    {
      "cell_type": "markdown",
      "metadata": {},
      "source": [
        "# Git: un outil nécessaire pour les data-scientists\n",
        "\n",
        "Cette partie du site présente un élément qui n’est pas propre à\n",
        "`Python` mais qui est néanmoins indispensable : la pratique de `Git`.\n",
        "\n",
        "Une grande partie du contenu de la partie provient du cours\n",
        "[Travail collaboratif avec `R`](https://linogaliana.gitlab.io/collaboratif/git.html)\n",
        "ou d’un [cours dédié fait avec Romain Avouac](https://formation.pages.lab.sspcloud.fr/git/20220929-formation-git-dese/#/title-slide).\n",
        "\n",
        "Le chapitre [de présentation de `Git`](../../../introgit) propose\n",
        "une introduction visant à présenter l’intérêt d’utiliser\n",
        "cet outil. Une mise en pratique est proposée\n",
        "avec [un cadavre exquis](../../../exogit).\n",
        "\n",
        "# Utilisation de `Git` avec `Python`\n",
        "\n",
        "`Git` est à la fois un outil et un langage. Il\n",
        "est donc nécessaire d’installer, dans un premier\n",
        "temps `Git Bash`, puis de connecter\n",
        "son outil préféré pour faire du `Python` (qu’il\n",
        "s’agisse de `Jupyter`, `VSCode` ou `PyCharm`).\n",
        "\n",
        "L’un des intérêts d’utiliser une approche *cloud*\n",
        "est que l’utilisateur final n’a pas à se préoccuper\n",
        "de l’installation de ces différentes briques.\n",
        "Les interfaces `Git` sont parfois déjà\n",
        "configurées pour faciliter l’usage. C’est le\n",
        "cas sur le `SSPCloud`."
      ],
      "id": "68685840-6db4-47cb-a4ec-2c858e935ebc"
    }
  ],
  "nbformat": 4,
  "nbformat_minor": 5,
  "metadata": {
    "kernelspec": {
      "display_name": "Python 3",
      "language": "python",
      "name": "python3"
    }
  }
}