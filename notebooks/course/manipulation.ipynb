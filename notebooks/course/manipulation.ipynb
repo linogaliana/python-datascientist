{
 "cells": [
  {
   "cell_type": "raw",
   "id": "3550d952",
   "metadata": {},
   "source": [
    "---\n",
    "title: \"Partie 1: manipuler des données\"\n",
    "date: 2020-07-16\n",
    "draft: false\n",
    "weight: 20\n",
    "#linktitle: manipulation\n",
    "type: book\n",
    "summary: |\n",
    "  Python s'est imposé comme une alternative très crédible à R dans\n",
    "  la manipulation de données. L'écosystème pandas a permis de démocratiser\n",
    "  l'utilisation des DataFrames dans Python et faciliter la manipulation\n",
    "  de données structurées grâce à la philosophie SQL. Python reste également\n",
    "  le langage le plus pratique pour récupérer et manipuler\n",
    "  des données moins structurées (webscraping, API). Python tend à devenir,\n",
    "  grâce au développement d'API vers d'autres langages (C, Spark, Postgres,\n",
    "  ElasticSearch...),\n",
    "  le langage *\"one to rule them all\"*\n",
    "slug: manipulation\n",
    "icon: database\n",
    "icon_pack: fas\n",
    "---"
   ]
  },
  {
   "cell_type": "markdown",
   "id": "972718a3",
   "metadata": {},
   "source": [
    "Le *dataframe* est l'outil central du logiciel `R` mais il s'agit d'un objet qui, en `Python`, ne s'est\n",
    "imposé que récemment, notamment grâce au package `pandas`. Le concept de *dataframe* est relativement \n",
    "intuitif et il existe un grand socle d'approches, héritières notamment de la logique SQL, \n",
    "facilitant le maniement de ces données.\n",
    "\n",
    "`pandas` est devenu incontournable dans l'écosystème `Python` pour la *data science*. \n",
    "`pandas` est lui-même construit à partir du package `numpy`, qu'il est utile de comprendre\n",
    "pour être à l'aise avec `pandas`. `numpy` est une librairie bas-niveau \n",
    "pour stocker et manipuler des données. \n",
    "`numpy` est au coeur de l'écosystème de la *data science* car la plupart des librairies, même celles\n",
    "qui manient des objets destructurés,\n",
    "utilisent des objets construits à partir de `numpy`. \n",
    "\n",
    "L'approche `pandas` a été étendue aux objets géographiques avec `geopandas`.\n",
    "Il est ainsi possible de manipuler des données géographiques comme s'il\n",
    "s'agissait de données structurées classiques. Les données géographiques et\n",
    "la représentation cartographique deviennent de plus en plus commun avec\n",
    "la multiplication de données ouvertes localisées et de *big-data* géolocalisées.\n",
    "\n",
    "Cependant, les données structurées, importées depuis des fichiers plats\n",
    "ne représentent pas l'unique source de données. Les API et le *webscraping*\n",
    "permettent de requêter ou d'extraire \n",
    "des données de manière très flexible. Ces données, notamment\n",
    "celles obtenues par *webscraping* nécessitent souvent un peu plus de travail\n",
    "de nettoyage de données, notamment des chaînes de caractère. \n",
    "\n",
    "## Structure de la partie\n",
    "\n",
    "\n",
    "\n",
    "{{< list_children >}}\n",
    "\n",
    "\n",
    "\n",
    "## Exercices\n",
    "\n",
    "Les notebooks d'exercices sont listés [ici](listetp). Il est\n",
    "possible de les consulter sur ce site ou d'utiliser l'un des\n",
    "badges présents en début de chapitre, par exemple\n",
    "ceux-ci pour ouvrir le TP `pandas`:\n"
   ]
  },
  {
   "cell_type": "code",
   "execution_count": 1,
   "id": "6f416a2f",
   "metadata": {},
   "outputs": [
    {
     "name": "stdout",
     "output_type": "stream",
     "text": [
      "<a href=\"https://github.com/linogaliana/python-datascientist/blob/master/notebooks/course/manipulation/02b_pandas_TP.ipynb\" class=\"github\"><i class=\"fab fa-github\"></i></a>\n",
      "[![Download](https://img.shields.io/badge/Download-Notebook-important?logo=Jupyter)](https://downgit.github.io/#/home?url=https://github.com/linogaliana/python-datascientist/blob/master/notebooks/course/manipulation/02b_pandas_TP.ipynb)\n",
      "[![nbviewer](https://img.shields.io/badge/Visualize-nbviewer-blue?logo=Jupyter)](https://nbviewer.jupyter.org/github/linogaliana/python-datascientist/blob/master/notebooks/course/manipulation/02b_pandas_TP.ipynb)\n",
      "[![Onyxia](https://img.shields.io/badge/SSPcloud-Tester%20via%20SSP--cloud-informational&color=yellow?logo=Python)](https://datalab.sspcloud.fr/launcher/inseefrlab-helm-charts-datascience/jupyter?autoLaunch=true&onyxia.friendlyName=%C2%ABpython-datascience%C2%BB&init.personalInit=%C2%ABhttps%3A%2F%2Fraw.githubusercontent.com%2Flinogaliana%2Fpython-datascientist%2Fmaster%2Fsspcloud%2Finit-jupyter.sh%C2%BB&init.personalInitArgs=%C2%ABnotebooks/course/manipulation%2002b_pandas_TP.ipynb%C2%BB&security.allowlist.enabled=false)<br>\n",
      "[![Binder](https://img.shields.io/badge/Launch-Binder-E66581.svg?logo=data:image/png;base64,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)](https://mybinder.org/v2/gh/linogaliana/python-datascientist/master?filepath=notebooks/course/manipulation/02b_pandas_TP.ipynb)\n",
      "[![Open In Colab](https://colab.research.google.com/assets/colab-badge.svg)](http://colab.research.google.com/github/linogaliana/python-datascientist/blob/master/notebooks/course/manipulation/02b_pandas_TP.ipynb)\n",
      "[![githubdev](https://img.shields.io/static/v1?logo=visualstudiocode&label=&message=Open%20in%20Visual%20Studio%20Code&labelColor=2c2c32&color=007acc&logoColor=007acc)](https://github.dev/linogaliana/python-datascientist/notebooks/course/manipulation/02b_pandas_TP.ipynb)\n"
     ]
    }
   ],
   "source": [
    "#| echo: false\n",
    "#| output: 'asis'\n",
    "#| include: true\n",
    "#| eval: true\n",
    "\n",
    "import sys\n",
    "sys.path.insert(1, '../../../') #insert the utils module\n",
    "from utils import print_badges\n",
    "\n",
    "#print_badges(__file__)\n",
    "print_badges(\"content/course/manipulation/02b_pandas_TP.qmd\")"
   ]
  },
  {
   "cell_type": "markdown",
   "id": "ec3853e6",
   "metadata": {},
   "source": [
    "## Pour aller plus loin\n",
    "\n",
    "Ce cours n'aborde pas encore les questions de volumétrie ou de vitesse de \n",
    "calcul. `pandas` peut montrer ses limites dans ce domaine. \n",
    "\n",
    "Il est ainsi intéressant de porter attention à:\n",
    "\n",
    "* Le livre [Modern Pandas](https://tomaugspurger.github.io/modern-1-intro.html)\n",
    "pour obtenir des éléments supplémentaires sur la question de la performance\n",
    "avec `pandas`\n",
    "* La question des\n",
    "[objets sparse](https://chrisalbon.com/machine_learning/vectors_matrices_and_arrays/create_a_sparse_matrix/)\n",
    "* Le package [`dask`](https://dask.org/) pour accélérer les calculs\n",
    "* [`pySpark`](https://spark.apache.org/docs/latest/api/python/index.html) pour des données très volumineuses\n"
   ]
  }
 ],
 "metadata": {
  "kernelspec": {
   "display_name": "Python 3 (ipykernel)",
   "language": "python",
   "name": "python3"
  },
  "language_info": {
   "codemirror_mode": {
    "name": "ipython",
    "version": 3
   },
   "file_extension": ".py",
   "mimetype": "text/x-python",
   "name": "python",
   "nbconvert_exporter": "python",
   "pygments_lexer": "ipython3",
   "version": "3.9.13"
  }
 },
 "nbformat": 4,
 "nbformat_minor": 5
}
