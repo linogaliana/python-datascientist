{
  "cells": [
    {
      "cell_type": "markdown",
      "metadata": {},
      "source": [
        "# Partie 5: Introduction aux outils et méthodes à l’état de l’art\n",
        "\n",
        "Les parties précédentes étaient très tournées sur l’acquisition\n",
        "de compétences minimales dans chaque domaine de l’analyse de données.\n",
        "Cette partie propose des éléments plus avancés mais plus représentatifs\n",
        "du travail quotidien du *data-scientist*. Cette partie\n",
        "présente la manière dont `Python` peut être utilisé dans une architecture\n",
        "moderne de type *cloud*. Elle illustre la manière dont `Python` peut\n",
        "servir de couteau-suisse faisant l’interface entre différents\n",
        "langages plus efficaces ou plusieurs types de données.\n",
        "\n",
        "Cette partie est **en cours de construction** et présentera les\n",
        "éléments suivants:\n",
        "\n",
        "-   [x] S3\n",
        "-   [x] Intégration continue\n",
        "-   [ ] Elastic\n",
        "-   [ ] Spark\n",
        "-   [ ] Pipelines\n",
        "-   [ ] MLops\n",
        "\n",
        "## Contenu de la partie"
      ],
      "id": "99b575fd-62a1-4e0a-97e0-7a7e3cd2fd62"
    }
  ],
  "nbformat": 4,
  "nbformat_minor": 5,
  "metadata": {
    "kernelspec": {
      "display_name": "Python 3",
      "language": "python",
      "name": "python3"
    }
  }
}