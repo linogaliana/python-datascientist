{
  "cells": [
    {
      "cell_type": "markdown",
      "metadata": {},
      "source": [
        "# Modèle DALL-E 2 et Python\n",
        "\n",
        "Pour tester les exemples présentés dans ce chapitre:"
      ],
      "id": "79692efd-70ce-447d-bde5-8e524d78e37e"
    },
    {
      "cell_type": "markdown",
      "metadata": {},
      "source": [
        "<p class=\"badges\">\n",
        "\n",
        "<a href=\"https://github.com/linogaliana/python-datascientist/blob/master/notebooks/course/modern-ds/dallE.ipynb\" class=\"github\"><i class=\"fab fa-github\"></i></a>\n",
        "<a href=\"https://downgit.github.io/#/home?url=https://github.com/linogaliana/python-datascientist/blob/master/notebooks/course/modern-ds/dallE.ipynb\" target=\"_blank\" rel=\"noopener\"><img src=\"https://img.shields.io/badge/Download-Notebook-important?logo=Jupyter\" alt=\"Download\"></a>\n",
        "<a href=\"https://nbviewer.jupyter.org/github/linogaliana/python-datascientist/blob/master/notebooks/course/modern-ds/dallE.ipynb\" target=\"_blank\" rel=\"noopener\"><img src=\"https://img.shields.io/badge/Visualize-nbviewer-blue?logo=Jupyter\" alt=\"nbviewer\"></a>\n",
        "<a href=\"https://datalab.sspcloud.fr/launcher/inseefrlab-helm-charts-datascience/jupyter?autoLaunch=true&onyxia.friendlyName=%C2%ABpython-datascience%C2%BB&init.personalInit=%C2%ABhttps%3A%2F%2Fraw.githubusercontent.com%2Flinogaliana%2Fpython-datascientist%2Fmaster%2Fsspcloud%2Finit-jupyter.sh%C2%BB&init.personalInitArgs=%C2%ABnotebooks/course/modern-ds/dallE.ipynb%C2%BB&security.allowlist.enabled=false\" target=\"_blank\" rel=\"noopener\"><img src=\"https://img.shields.io/badge/SSPcloud-Tester%20via%20SSP--cloud-informational&amp;color=yellow?logo=Python\" alt=\"Onyxia\"></a><br>\n",
        "<a href=\"https://mybinder.org/v2/gh/linogaliana/python-datascientist/master?filepath={binder_path}\" target=\"_blank\" rel=\"noopener\"><img src=\"https://img.shields.io/badge/Launch-Binder-E66581.svg?logo=data:image/png;base64,iVBORw0KGgoAAAANSUhEUgAAAFkAAABZCAMAAABi1XidAAAB8lBMVEX///9XmsrmZYH1olJXmsr1olJXmsrmZYH1olJXmsr1olJXmsrmZYH1olL1olJXmsr1olJXmsrmZYH1olL1olJXmsrmZYH1olJXmsr1olL1olJXmsrmZYH1olL1olJXmsrmZYH1olL1olL0nFf1olJXmsrmZYH1olJXmsq8dZb1olJXmsrmZYH1olJXmspXmspXmsr1olL1olJXmsrmZYH1olJXmsr1olL1olJXmsrmZYH1olL1olLeaIVXmsrmZYH1olL1olL1olJXmsrmZYH1olLna31Xmsr1olJXmsr1olJXmsrmZYH1olLqoVr1olJXmsr1olJXmsrmZYH1olL1olKkfaPobXvviGabgadXmsqThKuofKHmZ4Dobnr1olJXmsr1olJXmspXmsr1olJXmsrfZ4TuhWn1olL1olJXmsqBi7X1olJXmspZmslbmMhbmsdemsVfl8ZgmsNim8Jpk8F0m7R4m7F5nLB6jbh7jbiDirOEibOGnKaMhq+PnaCVg6qWg6qegKaff6WhnpKofKGtnomxeZy3noG6dZi+n3vCcpPDcpPGn3bLb4/Mb47UbIrVa4rYoGjdaIbeaIXhoWHmZYHobXvpcHjqdHXreHLroVrsfG/uhGnuh2bwj2Hxk17yl1vzmljzm1j0nlX1olL3AJXWAAAAbXRSTlMAEBAQHx8gICAuLjAwMDw9PUBAQEpQUFBXV1hgYGBkcHBwcXl8gICAgoiIkJCQlJicnJ2goKCmqK+wsLC4usDAwMjP0NDQ1NbW3Nzg4ODi5+3v8PDw8/T09PX29vb39/f5+fr7+/z8/Pz9/v7+zczCxgAABC5JREFUeAHN1ul3k0UUBvCb1CTVpmpaitAGSLSpSuKCLWpbTKNJFGlcSMAFF63iUmRccNG6gLbuxkXU66JAUef/9LSpmXnyLr3T5AO/rzl5zj137p136BISy44fKJXuGN/d19PUfYeO67Znqtf2KH33Id1psXoFdW30sPZ1sMvs2D060AHqws4FHeJojLZqnw53cmfvg+XR8mC0OEjuxrXEkX5ydeVJLVIlV0e10PXk5k7dYeHu7Cj1j+49uKg7uLU61tGLw1lq27ugQYlclHC4bgv7VQ+TAyj5Zc/UjsPvs1sd5cWryWObtvWT2EPa4rtnWW3JkpjggEpbOsPr7F7EyNewtpBIslA7p43HCsnwooXTEc3UmPmCNn5lrqTJxy6nRmcavGZVt/3Da2pD5NHvsOHJCrdc1G2r3DITpU7yic7w/7Rxnjc0kt5GC4djiv2Sz3Fb2iEZg41/ddsFDoyuYrIkmFehz0HR2thPgQqMyQYb2OtB0WxsZ3BeG3+wpRb1vzl2UYBog8FfGhttFKjtAclnZYrRo9ryG9uG/FZQU4AEg8ZE9LjGMzTmqKXPLnlWVnIlQQTvxJf8ip7VgjZjyVPrjw1te5otM7RmP7xm+sK2Gv9I8Gi++BRbEkR9EBw8zRUcKxwp73xkaLiqQb+kGduJTNHG72zcW9LoJgqQxpP3/Tj//c3yB0tqzaml05/+orHLksVO+95kX7/7qgJvnjlrfr2Ggsyx0eoy9uPzN5SPd86aXggOsEKW2Prz7du3VID3/tzs/sSRs2w7ovVHKtjrX2pd7ZMlTxAYfBAL9jiDwfLkq55Tm7ifhMlTGPyCAs7RFRhn47JnlcB9RM5T97ASuZXIcVNuUDIndpDbdsfrqsOppeXl5Y+XVKdjFCTh+zGaVuj0d9zy05PPK3QzBamxdwtTCrzyg/2Rvf2EstUjordGwa/kx9mSJLr8mLLtCW8HHGJc2R5hS219IiF6PnTusOqcMl57gm0Z8kanKMAQg0qSyuZfn7zItsbGyO9QlnxY0eCuD1XL2ys/MsrQhltE7Ug0uFOzufJFE2PxBo/YAx8XPPdDwWN0MrDRYIZF0mSMKCNHgaIVFoBbNoLJ7tEQDKxGF0kcLQimojCZopv0OkNOyWCCg9XMVAi7ARJzQdM2QUh0gmBozjc3Skg6dSBRqDGYSUOu66Zg+I2fNZs/M3/f/Grl/XnyF1Gw3VKCez0PN5IUfFLqvgUN4C0qNqYs5YhPL+aVZYDE4IpUk57oSFnJm4FyCqqOE0jhY2SMyLFoo56zyo6becOS5UVDdj7Vih0zp+tcMhwRpBeLyqtIjlJKAIZSbI8SGSF3k0pA3mR5tHuwPFoa7N7reoq2bqCsAk1HqCu5uvI1n6JuRXI+S1Mco54YmYTwcn6Aeic+kssXi8XpXC4V3t7/ADuTNKaQJdScAAAAAElFTkSuQmCC\" alt=\"Binder\"></a>\n",
        "<a href=\"http://colab.research.google.com/github/linogaliana/python-datascientist/blob/master/notebooks/course/modern-ds/dallE.ipynb\" target=\"_blank\" rel=\"noopener\"><img src=\"https://colab.research.google.com/assets/colab-badge.svg\" alt=\"Open In Colab\"></a>\n",
        "<a href=\"https://github.dev/linogaliana/python-datascientist/notebooks/course/modern-ds/dallE.ipynb\" target=\"_blank\" rel=\"noopener\"><img src=\"https://img.shields.io/static/v1?logo=visualstudiocode&label=&message=Open%20in%20Visual%20Studio%20Code&labelColor=2c2c32&color=007acc&logoColor=007acc\" alt=\"githubdev\"></a>\n",
        "\n",
        "</p>\n",
        "\n",
        "</p>"
      ],
      "id": "29c535d3-3d65-4e2f-bfe1-70cc9fd3be1b"
    },
    {
      "cell_type": "markdown",
      "metadata": {},
      "source": [
        "<div class=\"alert alert-info\" role=\"alert\">\n",
        "\n",
        "L’utilisation de ce tutoriel est assez exigeante en termes d’infrastructure\n",
        "car il est nécessaire de disposer de GPU.\n",
        "\n",
        "Bien qu’il en existe sur\n",
        "le *cloud* du SSPCloud, je n’ai pas encore eu le temps de creuser la configuration\n",
        "à mettre en oeuvre pour répliquer ce chapitre.\n",
        "\n",
        "Pour le moment, il faudra\n",
        "se contenter de `Google Colab` pour tester ces exemples. La configuration\n",
        "à mettre en oeuvre pour tester ces exemples est présentée dans une autre\n",
        "boîte.\n",
        "\n",
        "</div>"
      ],
      "id": "b7a69eb5-9af8-4a32-ab55-36b1875e11d6"
    },
    {
      "cell_type": "markdown",
      "metadata": {},
      "source": [
        "<div class=\"alert alert-info\" role=\"alert\">\n",
        "\n",
        "Par défaut, Colab n’utilise pas de GPU mais de la CPU. Il est donc nécessaire\n",
        "d’éditer les paramètres d’exécution du Notebook\n",
        "- Dans le menu `Exécution`, cliquer sur `Modifier le type d'exécution`\n",
        "- Sélectionner `GPU` sous `Accélérateur matériel`\n",
        "\n",
        "</div>"
      ],
      "id": "1eaece16-cf08-4bf9-abfa-3d18262091e7"
    },
    {
      "cell_type": "markdown",
      "metadata": {},
      "source": [
        "# Contexte\n",
        "\n",
        "La publication par l’organisation [Open AI](https://openai.com/) de\n",
        "son modèle de génération de contenu créatif [Dall-E-2](https://openai.com/dall-e-2/)\n",
        "(un jeu de mot mélangeant Dali et Wall-E) a créé un bruit inédit dans\n",
        "le monde de la *data-science*.\n",
        "Un compte twitter ([(**Weird?**) Dall-E Mini Generations](https://twitter.com/weirddalle))\n",
        "propose de nombreuses générations de contenu drôles ou incongrues.\n",
        "Le bloggeur tech Casey Newton a pu parler d’une\n",
        "[révolution créative dans le monde de l’IA](https://www.platformer.news/p/how-dall-e-could-power-a-creative).\n",
        "\n",
        "Voici par exemple l’une des productions possibles de DALL-E-2\n",
        "\n",
        "![](https://upload.wikimedia.org/wikipedia/commons/2/2b/A_Shiba_Inu_dog_wearing_a_beret_and_black_turtleneck_DALLE2.jpg)\n",
        "\n",
        "*“A Shiba Inu dog wearing a beret and black turtleneck”*\n",
        "\n",
        "Et voici un premier exemple de production humoristique faite à partir de Mini Dall-E, la version\n",
        "publique:"
      ],
      "id": "b1fcb58b-795e-4726-abb4-814333230347"
    },
    {
      "cell_type": "raw",
      "metadata": {
        "raw_mimetype": "text/html"
      },
      "source": [
        "<blockquote class=\"twitter-tweet\">"
      ],
      "id": "18080c94-0cc6-4aaa-9c39-0834a0a15633"
    },
    {
      "cell_type": "raw",
      "metadata": {
        "raw_mimetype": "text/html"
      },
      "source": [
        "<p lang=\"zxx\" dir=\"ltr\">"
      ],
      "id": "13a86c18-0346-4520-a426-213842756623"
    },
    {
      "cell_type": "markdown",
      "metadata": {},
      "source": [
        "<a href=\"https://t.co/DIerJPtXGE\">pic.twitter.com/DIerJPtXGE</a>"
      ],
      "id": "c26f3dda-3e03-4a97-892c-7b9bb9e66a20"
    },
    {
      "cell_type": "raw",
      "metadata": {
        "raw_mimetype": "text/html"
      },
      "source": [
        "</p>"
      ],
      "id": "aa606ff1-333f-4ca0-b1e5-6112fd6a689d"
    },
    {
      "cell_type": "markdown",
      "metadata": {},
      "source": [
        "— Weird Dall-E Mini Generations ((**weirddalle?**)) <a href=\"https://twitter.com/weirddalle/status/1556027692163760130?ref_src=twsrc%5Etfw\">August 6, 2022</a>"
      ],
      "id": "b7de7efb-1dfe-4386-bc2b-67bf0d5acca0"
    },
    {
      "cell_type": "raw",
      "metadata": {
        "raw_mimetype": "text/html"
      },
      "source": [
        "</blockquote>"
      ],
      "id": "3bcfb428-e509-48e7-9809-486002ab51da"
    },
    {
      "cell_type": "raw",
      "metadata": {
        "raw_mimetype": "text/html"
      },
      "source": [
        "<script async src=\"https://platform.twitter.com/widgets.js\" charset=\"utf-8\"></script>"
      ],
      "id": "cea12eca-1301-4ab1-9bc9-666f091477f7"
    },
    {
      "cell_type": "markdown",
      "metadata": {},
      "source": [
        "Ainsi qu’un deuxième:"
      ],
      "id": "61cb6c8b-dfa9-4762-98d7-35471f592987"
    },
    {
      "cell_type": "raw",
      "metadata": {
        "raw_mimetype": "text/html"
      },
      "source": [
        "<blockquote class=\"twitter-tweet\">"
      ],
      "id": "7a99f21d-dafa-4283-8816-714845754770"
    },
    {
      "cell_type": "raw",
      "metadata": {
        "raw_mimetype": "text/html"
      },
      "source": [
        "<p lang=\"zxx\" dir=\"ltr\">"
      ],
      "id": "2476aba4-21e0-48a6-ad77-813aaf652bc0"
    },
    {
      "cell_type": "markdown",
      "metadata": {},
      "source": [
        "<a href=\"https://t.co/Ju0Pdcokth\">pic.twitter.com/Ju0Pdcokth</a>"
      ],
      "id": "3fe9e06f-ae7b-4043-9ccf-1ccffd79bd72"
    },
    {
      "cell_type": "raw",
      "metadata": {
        "raw_mimetype": "text/html"
      },
      "source": [
        "</p>"
      ],
      "id": "19407a3a-5029-4e49-92d4-48ed2272e3b2"
    },
    {
      "cell_type": "markdown",
      "metadata": {},
      "source": [
        "— Weird Dall-E Mini Generations ((**weirddalle?**)) <a href=\"https://twitter.com/weirddalle/status/1556573904600268801?ref_src=twsrc%5Etfw\">August 8, 2022</a>"
      ],
      "id": "7458277b-0a94-4119-90e6-e44675cde9cb"
    },
    {
      "cell_type": "raw",
      "metadata": {
        "raw_mimetype": "text/html"
      },
      "source": [
        "</blockquote>"
      ],
      "id": "60b4b03c-8c4a-4803-94c6-5df872cc1fba"
    },
    {
      "cell_type": "raw",
      "metadata": {
        "raw_mimetype": "text/html"
      },
      "source": [
        "<script async src=\"https://platform.twitter.com/widgets.js\" charset=\"utf-8\"></script>"
      ],
      "id": "26b0c9e1-a39a-46db-961a-1e2799f1242c"
    },
    {
      "cell_type": "markdown",
      "metadata": {},
      "source": [
        "Dall-E-2 s’appuie sur des réseaux de neurone à différents niveaux :\n",
        "\n",
        "-   le contenu de la phrase est analysé par un réseau de neurone similaire (mais bien sûr plus évolué) que\n",
        "    ceux que nous avons présenté dans la partie [NLP](#nlp)\n",
        "-   les éléments importants de la phrase (recontextualisés) sont ensuite transformés en image à partir de\n",
        "    modèles entraînés à reconnaître des images\n",
        "\n",
        "Jusqu’à présent, l’inconvénient principal de `Dall-E`\n",
        "pour générer facilement du contenu\n",
        "était que le nombre de contenu pouvant être créé\n",
        "avec un accès gratuit était limité (50 crédits gratuits par mois).\n",
        "Depuis le 22 Août 2022, un générateur de contenu\n",
        "similaire est disponible gratuitement,\n",
        "avec une licence plus permissive<a name=\"cite_ref-1\"></a>[<sup>\\[1\\]</sup>](#cite_note-1). Ce générateur, développé\n",
        "par une équipe de chercheurs (Rombach et al. 2022),\n",
        "s’appelle `Stable Diffusion` ([dépôt `Github` pour le code source](https://github.com/CompVis/stable-diffusion) et\n",
        "[dépôt `HuggingFace` pour le modèle mis à disposition](https://huggingface.co/CompVis/stable-diffusion-v1-4)<a name=\"cite_ref-2\"></a>[<sup>\\[2\\]</sup>](#cite_note-2)).\n",
        "Un [excellent article de blog](https://huggingface.co/blog/stable_diffusion) décrit la démarche de `Stable Diffusion`."
      ],
      "id": "13ab358f-80da-4af0-915e-3aa63a47f325"
    },
    {
      "cell_type": "raw",
      "metadata": {
        "raw_mimetype": "text/html"
      },
      "source": [
        "<a name=\"cite_note-1\"></a>1. [^](#cite_ref-1)"
      ],
      "id": "9fb87caa-c2df-4779-90f7-2dede2d8bdcb"
    },
    {
      "cell_type": "markdown",
      "metadata": {},
      "source": [
        "Il est notamment possible de réutiliser l’image générée à des fins commerciales. En revanche, il est interdit de chercher à nuire à une personne. Pour cette raison, il est fréquent que les visages de personnes célèbres soient floutés pour éviter la création de contenu nuisant à leur réputation."
      ],
      "id": "23f769f2-18b0-4a04-bec5-efd7903156b7"
    },
    {
      "cell_type": "raw",
      "metadata": {
        "raw_mimetype": "text/html"
      },
      "source": [
        "<a name=\"cite_note-2\"></a>2. [^](#cite_ref-2)"
      ],
      "id": "e4ed2e1e-a696-481c-834a-6e800139c402"
    },
    {
      "cell_type": "markdown",
      "metadata": {},
      "source": [
        "`Huggingface` est une plateforme de partage de modèles de type réseau de neurone. Les utilisateurs de réseaux de neurone peuvent\n",
        "ainsi mettre à disposition le résultat de leurs travaux sous forme d’API pour faciliter la réutilisation de leurs\n",
        "modèles ou réutiliser facilement des modèles, ce qui évite de les ré-entraîner (ce qui aurait un coût écologique non\n",
        "négligeable comme expliqué dans le chapitre introductif).\n",
        "\n",
        "Les images générées par `Stable Diffusion` sont également impressionnantes\n",
        "![](https://huggingface.co/blog/assets/98_stable_diffusion/stable_diffusion_12_1.png)\n",
        "\n",
        "# Comment réutiliser le modèle mis à disposition ?\n",
        "\n",
        "## Installation de `PyTorch`\n",
        "\n",
        "Pour installer `PyTorch`, la librairie de *Deep Learning*\n",
        "développée par `Meta`, il suffit de suivre les recommandations\n",
        "sur le [site web officiel](https://pytorch.org/).\n",
        "Dans un `Notebook`, cela prendra la forme suivante<a name=\"cite_ref-3\"></a>[<sup>\\[3\\]</sup>](#cite_note-3)\n",
        "\n",
        "``` python\n",
        "!conda install mamba\n",
        "!mamba install pytorch torchvision torchaudio cudatoolkit=10.2 -c pytorch\n",
        "```"
      ],
      "id": "f576e29c-9472-4544-9521-ad6412ad9966"
    },
    {
      "cell_type": "raw",
      "metadata": {
        "raw_mimetype": "text/html"
      },
      "source": [
        "<a name=\"cite_note-3\"></a>3. [^](#cite_ref-3)"
      ],
      "id": "8182120d-e38e-4bb4-bf6d-9faeded41728"
    },
    {
      "cell_type": "markdown",
      "metadata": {},
      "source": [
        "Je propose ici d’utiliser `mamba` pour accélérer l’installation.\n",
        "Des éléments sur `mamba` sont disponibles dans l’introduction de ce cours.\n",
        "\n",
        "## Accès à `HuggingFace`\n",
        "\n",
        "La question - non négligeable - de l’accès à\n",
        "de la GPU mise à part,\n",
        "la réutilisation des modèles de `Stable Diffusion` est\n",
        "très facile car la documentation mise à disposition sur\n",
        "`HuggingFace` est très bien faite.\n",
        "\n",
        "La première étape est de se créer un compte sur `HuggingFace`\n",
        "et se créer un *token*<a name=\"cite_ref-4\"></a>[<sup>\\[4\\]</sup>](#cite_note-4). Ce *token* sera donné à l’API\n",
        "de `HuggingFace` pour s’authentifier."
      ],
      "id": "05a69bd9-3ba6-461a-8338-2bd64f1ba9c1"
    },
    {
      "cell_type": "raw",
      "metadata": {
        "raw_mimetype": "text/html"
      },
      "source": [
        "<a name=\"cite_note-4\"></a>4. [^](#cite_ref-4)"
      ],
      "id": "1bddb7c5-cb00-4ea7-a771-835419391718"
    },
    {
      "cell_type": "markdown",
      "metadata": {},
      "source": [
        "Comme les autres plateformes du monde de la *data-science*,\n",
        "`HuggingFace` a adopté l’utilisation standardisée des\n",
        "jetons (*token*) comme méthode d’authentification. Le jeton est\n",
        "comme un mot de passe sauf qu’il n’est pas inventé par l’utilisateur\n",
        "(ce qui permet qu’il ne soit pas partagé avec d’autres sites web potentiellement\n",
        "moins sécurisés), est révocable (date d’expiration ou choix de l’utilisateur)\n",
        "et dispose de droits moins importants qu’un\n",
        "mot de passe qui vous permet, potentiellement,\n",
        "de changer tous les paramètres de votre compte. Je recommande vivement l’utilisation\n",
        "d’un gestionnaire de mot de passe pour\n",
        "stocker vos *token* (si vous utilisez `Git`, `Docker`, etc.\n",
        "vous en avez potentiellement beaucoup) plutôt que\n",
        "stocker ces jetons dans des fichiers non sécurisés.\n",
        "\n",
        "L’API d’HuggingFace nécessite l’installation du\n",
        "package [`diffusers`](https://huggingface.co/docs/transformers/installation).\n",
        "Dans un `Notebook`, le code suivant permet d’installer la librairie\n",
        "requise:\n",
        "\n",
        "``` python\n",
        "!pip install --upgrade diffusers transformers scipy\n",
        "```\n",
        "\n",
        "Enfin, on va suppose que le token est stocké dans une variable\n",
        "d’environnement `HF_PAT`. Cela évite d’écrire le token, qui\n",
        "est un élément à garder secret, dans un notebook qu’on va\n",
        "potentiellement partager.\n",
        "\n",
        "Rombach, Robin, Andreas Blattmann, Dominik Lorenz, Patrick Esser, and Björn Ommer. 2022. “High-Resolution Image Synthesis with Latent Diffusion Models.” In *Proceedings of the IEEE/CVF Conference on Computer Vision and Pattern Recognition (CVPR)*, 10684–95."
      ],
      "id": "82c27987-047c-4495-b1c1-77ed94a19596"
    }
  ],
  "nbformat": 4,
  "nbformat_minor": 5,
  "metadata": {
    "kernelspec": {
      "name": "python3",
      "display_name": "Python 3 (ipykernel)",
      "language": "python"
    },
    "language_info": {
      "name": "python",
      "codemirror_mode": {
        "name": "ipython",
        "version": "3"
      },
      "file_extension": ".py",
      "mimetype": "text/x-python",
      "nbconvert_exporter": "python",
      "pygments_lexer": "ipython3",
      "version": "3.9.13"
    }
  }
}