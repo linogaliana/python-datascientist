{
  "cells": [
    {
      "cell_type": "markdown",
      "metadata": {},
      "source": [
        "# Modèle DALL-E 2 et Python\n",
        "\n",
        "Pour tester les exemples présentés dans ce chapitre:"
      ],
      "id": "605eb5ef-39c1-4fa3-82bb-e69a9ed0a1b8"
    },
    {
      "cell_type": "markdown",
      "metadata": {},
      "source": [
        "<p class=\"badges\">\n",
        "\n",
        "<a href=\"https://github.com/linogaliana/python-datascientist/blob/master/notebooks/course/modern-ds/dallE.ipynb\" class=\"github\"><i class=\"fab fa-github\"></i></a>\n",
        "<a href=\"https://downgit.github.io/#/home?url=https://github.com/linogaliana/python-datascientist/blob/master/notebooks/course/modern-ds/dallE.ipynb\" target=\"_blank\" rel=\"noopener\"><img src=\"https://img.shields.io/badge/Download-Notebook-important?logo=Jupyter\" alt=\"Download\"></a>\n",
        "<a href=\"https://nbviewer.jupyter.org/github/linogaliana/python-datascientist/blob/master/notebooks/course/modern-ds/dallE.ipynb\" target=\"_blank\" rel=\"noopener\"><img src=\"https://img.shields.io/badge/Visualize-nbviewer-blue?logo=Jupyter\" alt=\"nbviewer\"></a>\n",
        "<a href=\"https://datalab.sspcloud.fr/launcher/inseefrlab-helm-charts-datascience/jupyter?autoLaunch=true&onyxia.friendlyName=%C2%ABpython-datascience%C2%BB&init.personalInit=%C2%ABhttps%3A%2F%2Fraw.githubusercontent.com%2Flinogaliana%2Fpython-datascientist%2Fmaster%2Fsspcloud%2Finit-jupyter.sh%C2%BB&init.personalInitArgs=%C2%ABnotebooks/course/modern-ds/dallE.ipynb%C2%BB&security.allowlist.enabled=false\" target=\"_blank\" rel=\"noopener\"><img src=\"https://img.shields.io/badge/SSPcloud-Tester%20via%20SSP--cloud-informational&amp;color=yellow?logo=Python\" alt=\"Onyxia\"></a><br>\n",
        "<a href=\"https://mybinder.org/v2/gh/linogaliana/python-datascientist/master?filepath={binder_path}\" target=\"_blank\" rel=\"noopener\"><img src=\"https://img.shields.io/badge/Launch-Binder-E66581.svg?logo=data:image/png;base64,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\" alt=\"Binder\"></a>\n",
        "<a href=\"http://colab.research.google.com/github/linogaliana/python-datascientist/blob/master/notebooks/course/modern-ds/dallE.ipynb\" target=\"_blank\" rel=\"noopener\"><img src=\"https://colab.research.google.com/assets/colab-badge.svg\" alt=\"Open In Colab\"></a>\n",
        "<a href=\"https://github.dev/linogaliana/python-datascientist/notebooks/course/modern-ds/dallE.ipynb\" target=\"_blank\" rel=\"noopener\"><img src=\"https://img.shields.io/static/v1?logo=visualstudiocode&label=&message=Open%20in%20Visual%20Studio%20Code&labelColor=2c2c32&color=007acc&logoColor=007acc\" alt=\"githubdev\"></a>\n",
        "\n",
        "</p>\n",
        "\n",
        "</p>"
      ],
      "id": "f6628b55-0fbb-4a25-aedf-9d489c9bb78a"
    },
    {
      "cell_type": "markdown",
      "metadata": {},
      "source": [
        "<div class=\"alert alert-info\" role=\"alert\">\n",
        "\n",
        "L’utilisation de ce tutoriel est assez exigeante en termes d’infrastructure\n",
        "car il est nécessaire de disposer de GPU.\n",
        "\n",
        "Bien qu’il en existe sur\n",
        "le *cloud* du SSPCloud, je n’ai pas encore eu le temps de creuser la configuration\n",
        "à mettre en oeuvre pour répliquer ce chapitre.\n",
        "\n",
        "Pour le moment, il faudra\n",
        "se contenter de `Google Colab` pour tester ces exemples. La configuration\n",
        "à mettre en oeuvre pour tester ces exemples est présentée dans une autre\n",
        "boîte.\n",
        "\n",
        "</div>"
      ],
      "id": "9e9bd1d7-54eb-4e34-b6a9-d687a0b1a250"
    },
    {
      "cell_type": "markdown",
      "metadata": {},
      "source": [
        "<div class=\"alert alert-info\" role=\"alert\">\n",
        "\n",
        "Par défaut, Colab n’utilise pas de GPU mais de la CPU. Il est donc nécessaire\n",
        "d’éditer les paramètres d’exécution du Notebook\n",
        "- Dans le menu `Exécution`, cliquer sur `Modifier le type d'exécution`\n",
        "- Sélectionner `GPU` sous `Accélérateur matériel`\n",
        "\n",
        "</div>"
      ],
      "id": "5845aeed-f074-4c37-ba5a-ae34067beb44"
    },
    {
      "cell_type": "markdown",
      "metadata": {},
      "source": [
        "# Contexte\n",
        "\n",
        "La publication par l’organisation [Open AI](https://openai.com/) de\n",
        "son modèle de génération de contenu créatif [Dall-E-2](https://openai.com/dall-e-2/)\n",
        "(un jeu de mot mélangeant Dali et Wall-E) a créé un bruit inédit dans\n",
        "le monde de la *data-science*.\n",
        "Un compte twitter ([(**Weird?**) Dall-E Mini Generations](https://twitter.com/weirddalle))\n",
        "propose de nombreuses générations de contenu drôles ou incongrues.\n",
        "Le bloggeur tech Casey Newton a pu parler d’une\n",
        "[révolution créative dans le monde de l’IA](https://www.platformer.news/p/how-dall-e-could-power-a-creative).\n",
        "\n",
        "Voici par exemple l’une des productions possibles de DALL-E-2\n",
        "\n",
        "![](https://upload.wikimedia.org/wikipedia/commons/2/2b/A_Shiba_Inu_dog_wearing_a_beret_and_black_turtleneck_DALLE2.jpg)\n",
        "\n",
        "*“A Shiba Inu dog wearing a beret and black turtleneck”*\n",
        "\n",
        "Et voici un premier exemple de production humoristique faite à partir de Mini Dall-E, la version\n",
        "publique:"
      ],
      "id": "c9526e17-6cdd-4c78-91b2-713ebd9b8ac9"
    },
    {
      "cell_type": "raw",
      "metadata": {
        "raw_mimetype": "text/html"
      },
      "source": [
        "<blockquote class=\"twitter-tweet\">"
      ],
      "id": "a5aacbea-f9f5-4b2b-b1a4-9d3cc0c754bb"
    },
    {
      "cell_type": "raw",
      "metadata": {
        "raw_mimetype": "text/html"
      },
      "source": [
        "<p lang=\"zxx\" dir=\"ltr\">"
      ],
      "id": "2adae81a-2d20-439d-8a27-881f72ee5653"
    },
    {
      "cell_type": "markdown",
      "metadata": {},
      "source": [
        "<a href=\"https://t.co/DIerJPtXGE\">pic.twitter.com/DIerJPtXGE</a>"
      ],
      "id": "2a8ea685-0248-4f7d-adf9-8f631e451c91"
    },
    {
      "cell_type": "raw",
      "metadata": {
        "raw_mimetype": "text/html"
      },
      "source": [
        "</p>"
      ],
      "id": "74d81c6a-e8c2-456b-888d-cbfa97761d78"
    },
    {
      "cell_type": "markdown",
      "metadata": {},
      "source": [
        "— Weird Dall-E Mini Generations ((**weirddalle?**)) <a href=\"https://twitter.com/weirddalle/status/1556027692163760130?ref_src=twsrc%5Etfw\">August 6, 2022</a>"
      ],
      "id": "b8730146-e194-488b-b126-fe6075b320e8"
    },
    {
      "cell_type": "raw",
      "metadata": {
        "raw_mimetype": "text/html"
      },
      "source": [
        "</blockquote>"
      ],
      "id": "7ba47bed-0868-40df-8c8d-deb5524c73c8"
    },
    {
      "cell_type": "raw",
      "metadata": {
        "raw_mimetype": "text/html"
      },
      "source": [
        "<script async src=\"https://platform.twitter.com/widgets.js\" charset=\"utf-8\"></script>"
      ],
      "id": "ff575faf-ebd1-4daf-bb6b-0d28fa43c084"
    },
    {
      "cell_type": "markdown",
      "metadata": {},
      "source": [
        "Ainsi qu’un deuxième:"
      ],
      "id": "c625d1fc-0584-450b-aec7-a00da3dbd763"
    },
    {
      "cell_type": "raw",
      "metadata": {
        "raw_mimetype": "text/html"
      },
      "source": [
        "<blockquote class=\"twitter-tweet\">"
      ],
      "id": "5f94dce1-4052-45b1-93b9-e6a43316cb24"
    },
    {
      "cell_type": "raw",
      "metadata": {
        "raw_mimetype": "text/html"
      },
      "source": [
        "<p lang=\"zxx\" dir=\"ltr\">"
      ],
      "id": "61b05276-afb9-4c88-9c02-976427e27155"
    },
    {
      "cell_type": "markdown",
      "metadata": {},
      "source": [
        "<a href=\"https://t.co/Ju0Pdcokth\">pic.twitter.com/Ju0Pdcokth</a>"
      ],
      "id": "09eba5eb-94d9-4012-9a65-1ef94ca6c2e0"
    },
    {
      "cell_type": "raw",
      "metadata": {
        "raw_mimetype": "text/html"
      },
      "source": [
        "</p>"
      ],
      "id": "ec0fb5c6-ce9b-4ef0-ac4e-63fd298b6d76"
    },
    {
      "cell_type": "markdown",
      "metadata": {},
      "source": [
        "— Weird Dall-E Mini Generations ((**weirddalle?**)) <a href=\"https://twitter.com/weirddalle/status/1556573904600268801?ref_src=twsrc%5Etfw\">August 8, 2022</a>"
      ],
      "id": "24354fa0-491d-47c6-ab37-36b507bf912f"
    },
    {
      "cell_type": "raw",
      "metadata": {
        "raw_mimetype": "text/html"
      },
      "source": [
        "</blockquote>"
      ],
      "id": "5d86bb9d-5e8b-4a24-a4ca-908cb9376225"
    },
    {
      "cell_type": "raw",
      "metadata": {
        "raw_mimetype": "text/html"
      },
      "source": [
        "<script async src=\"https://platform.twitter.com/widgets.js\" charset=\"utf-8\"></script>"
      ],
      "id": "f845a0bc-0738-4b92-8dfc-eb510b08e82c"
    },
    {
      "cell_type": "markdown",
      "metadata": {},
      "source": [
        "Dall-E-2 s’appuie sur des réseaux de neurone à différents niveaux :\n",
        "\n",
        "-   le contenu de la phrase est analysé par un réseau de neurone similaire (mais bien sûr plus évolué) que\n",
        "    ceux que nous avons présenté dans la partie [NLP](#nlp)\n",
        "-   les éléments importants de la phrase (recontextualisés) sont ensuite transformés en image à partir de\n",
        "    modèles entraînés à reconnaître des images\n",
        "\n",
        "Jusqu’à présent, l’inconvénient principal de `Dall-E`\n",
        "pour générer facilement du contenu\n",
        "était que le nombre de contenu pouvant être créé\n",
        "avec un accès gratuit était limité (50 crédits gratuits par mois).\n",
        "Depuis le 22 Août 2022, un générateur de contenu\n",
        "similaire est disponible gratuitement,\n",
        "avec une licence plus permissive<a name=\"cite_ref-1\"></a>[<sup>\\[1\\]</sup>](#cite_note-1). Ce générateur, développé\n",
        "par une équipe de chercheurs (Rombach et al. 2022),\n",
        "s’appelle `Stable Diffusion` ([dépôt `Github` pour le code source](https://github.com/CompVis/stable-diffusion) et\n",
        "[dépôt `HuggingFace` pour le modèle mis à disposition](https://huggingface.co/CompVis/stable-diffusion-v1-4)<a name=\"cite_ref-2\"></a>[<sup>\\[2\\]</sup>](#cite_note-2)).\n",
        "Un [excellent article de blog](https://huggingface.co/blog/stable_diffusion) décrit la démarche de `Stable Diffusion`."
      ],
      "id": "8da5e742-ef7a-4d6b-81a5-27d34c0438c8"
    },
    {
      "cell_type": "raw",
      "metadata": {
        "raw_mimetype": "text/html"
      },
      "source": [
        "<a name=\"cite_note-1\"></a>1. [^](#cite_ref-1)"
      ],
      "id": "c044103f-a9bd-43c8-923d-b762da7828d1"
    },
    {
      "cell_type": "markdown",
      "metadata": {},
      "source": [
        "Il est notamment possible de réutiliser l’image générée à des fins commerciales. En revanche, il est interdit de chercher à nuire à une personne. Pour cette raison, il est fréquent que les visages de personnes célèbres soient floutés pour éviter la création de contenu nuisant à leur réputation."
      ],
      "id": "d4ce766c-ca77-44c2-bba9-7a7b1f302191"
    },
    {
      "cell_type": "raw",
      "metadata": {
        "raw_mimetype": "text/html"
      },
      "source": [
        "<a name=\"cite_note-2\"></a>2. [^](#cite_ref-2)"
      ],
      "id": "e2fad697-22cc-460d-9989-d0ba194fe7aa"
    },
    {
      "cell_type": "markdown",
      "metadata": {},
      "source": [
        "`Huggingface` est une plateforme de partage de modèles de type réseau de neurone. Les utilisateurs de réseaux de neurone peuvent\n",
        "ainsi mettre à disposition le résultat de leurs travaux sous forme d’API pour faciliter la réutilisation de leurs\n",
        "modèles ou réutiliser facilement des modèles, ce qui évite de les ré-entraîner (ce qui aurait un coût écologique non\n",
        "négligeable comme expliqué dans le chapitre introductif).\n",
        "\n",
        "Les images générées par `Stable Diffusion` sont également impressionnantes\n",
        "![](https://huggingface.co/blog/assets/98_stable_diffusion/stable_diffusion_12_1.png)\n",
        "\n",
        "# Comment réutiliser le modèle mis à disposition ?\n",
        "\n",
        "La question - non négligeable - de l’accès à\n",
        "de la GPU mise à part,\n",
        "la réutilisation des modèles de `Stable Diffusion` est\n",
        "très facile car la documentation mise à disposition sur\n",
        "`HuggingFace` est très bien faite.\n",
        "\n",
        "La première étape est de se créer un compte sur `HuggingFace`\n",
        "et se créer un *token*<a name=\"cite_ref-3\"></a>[<sup>\\[3\\]</sup>](#cite_note-3)"
      ],
      "id": "0a8a1a48-4c52-49b5-8878-1bfc3a20d57f"
    },
    {
      "cell_type": "raw",
      "metadata": {
        "raw_mimetype": "text/html"
      },
      "source": [
        "<a name=\"cite_note-3\"></a>3. [^](#cite_ref-3)"
      ],
      "id": "3a5eb2f3-7da8-403e-ab3a-81c712fcf831"
    },
    {
      "cell_type": "markdown",
      "metadata": {},
      "source": [
        "Comme les autres plateformes du monde de la *data-science*,\n",
        "`HuggingFace` a adopté l’utilisation standardisée des\n",
        "jetons (*token*) comme méthode d’authentification. Le jeton est\n",
        "comme un mot de passe sauf qu’il n’est pas inventé par l’utilisateur\n",
        "(ce qui permet qu’il ne soit pas partagé avec d’autres sites web potentiellement\n",
        "moins sécurisés), est révocable (date d’expiration ou choix de l’utilisateur)\n",
        "et dispose de droits moins importants qu’un\n",
        "mot de passe qui vous permet, potentiellement,\n",
        "de changer tous les paramètres de votre compte. Je recommande vivement l’utilisation\n",
        "d’un gestionnaire de mot de passe pour\n",
        "stocker vos *token* (si vous utilisez `Git`, `Docker`, etc.\n",
        "vous en avez potentiellement beaucoup) plutôt que\n",
        "stocker ces jetons dans des fichiers non sécurisés.\n",
        "\n",
        "Rombach, Robin, Andreas Blattmann, Dominik Lorenz, Patrick Esser, and Björn Ommer. 2022. “High-Resolution Image Synthesis with Latent Diffusion Models.” In *Proceedings of the IEEE/CVF Conference on Computer Vision and Pattern Recognition (CVPR)*, 10684–95."
      ],
      "id": "d73366fd-4804-4d7f-8abc-b1f6730e0733"
    }
  ],
  "nbformat": 4,
  "nbformat_minor": 5,
  "metadata": {
    "kernelspec": {
      "name": "python3",
      "display_name": "Python 3 (ipykernel)",
      "language": "python"
    },
    "language_info": {
      "name": "python",
      "codemirror_mode": {
        "name": "ipython",
        "version": "3"
      },
      "file_extension": ".py",
      "mimetype": "text/x-python",
      "nbconvert_exporter": "python",
      "pygments_lexer": "ipython3",
      "version": "3.9.13"
    }
  }
}