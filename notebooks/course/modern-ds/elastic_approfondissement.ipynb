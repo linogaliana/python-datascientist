{
  "cells": [
    {
      "cell_type": "markdown",
      "metadata": {},
      "source": [
        "# Approfondissement ElasticSearch pour des recherches de proximité\n",
        "\n",
        "géographique\n",
        "\n",
        "Pour essayer les exemples présents dans ce tutoriel :"
      ],
      "id": "9e8f6ea6-65b1-4c5d-bc1e-4f1c9a586dbd"
    },
    {
      "cell_type": "markdown",
      "metadata": {},
      "source": [
        "<p class=\"badges\">\n",
        "\n",
        "<a href=\"https://github.com/linogaliana/python-datascientist/blob/master/notebooks/course/modern-ds/elastic_approfondissement.ipynb\" class=\"github\"><i class=\"fab fa-github\"></i></a>\n",
        "<a href=\"https://downgit.github.io/#/home?url=https://github.com/linogaliana/python-datascientist/blob/master/notebooks/course/modern-ds/elastic_approfondissement.ipynb\" target=\"_blank\" rel=\"noopener\"><img src=\"https://img.shields.io/badge/Download-Notebook-important?logo=Jupyter\" alt=\"Download\"></a>\n",
        "<a href=\"https://nbviewer.jupyter.org/github/linogaliana/python-datascientist/blob/master/notebooks/course/modern-ds/elastic_approfondissement.ipynb\" target=\"_blank\" rel=\"noopener\"><img src=\"https://img.shields.io/badge/Visualize-nbviewer-blue?logo=Jupyter\" alt=\"nbviewer\"></a>\n",
        "<a href=\"https://datalab.sspcloud.fr/launcher/ide/jupyter-python?autoLaunch=true&onyxia.friendlyName=%C2%ABpython-datascience%C2%BB&init.personalInit=%C2%ABhttps%3A%2F%2Fraw.githubusercontent.com%2Flinogaliana%2Fpython-datascientist%2Fmaster%2Fsspcloud%2Finit-jupyter.sh%C2%BB&init.personalInitArgs=%C2%ABmodern-ds%20elastic_approfondissement%C2%BB&security.allowlist.enabled=false\" target=\"_blank\" rel=\"noopener\"><img src=\"https://img.shields.io/badge/SSPcloud-Tester%20via%20SSP--cloud-informational&amp;color=yellow?logo=Python\" alt=\"Onyxia\"></a><br>\n",
        "<a href=\"https://mybinder.org/v2/gh/linogaliana/python-datascientist/master?filepath={binder_path}\" target=\"_blank\" rel=\"noopener\"><img src=\"https://img.shields.io/badge/Launch-Binder-E66581.svg?logo=data:image/png;base64,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\" alt=\"Binder\"></a>\n",
        "<a href=\"http://colab.research.google.com/github/linogaliana/python-datascientist/blob/master/notebooks/course/modern-ds/elastic_approfondissement.ipynb\" target=\"_blank\" rel=\"noopener\"><img src=\"https://colab.research.google.com/assets/colab-badge.svg\" alt=\"Open In Colab\"></a>\n",
        "<a href=\"https://github.dev/linogaliana/python-datascientist/notebooks/course/modern-ds/elastic_approfondissement.ipynb\" target=\"_blank\" rel=\"noopener\"><img src=\"https://img.shields.io/static/v1?logo=visualstudiocode&label=&message=Open%20in%20Visual%20Studio%20Code&labelColor=2c2c32&color=007acc&logoColor=007acc\" alt=\"githubdev\"></a>\n",
        "\n",
        "</p>\n",
        "\n",
        "</p>"
      ],
      "id": "3715af16-6cae-4873-b919-fe388c140224"
    },
    {
      "cell_type": "markdown",
      "metadata": {},
      "source": [
        "Ce chapitre est issu du travail produit\n",
        "dans le cadre d’un hackathon de l’Insee avec\n",
        "[Raphaële Adjerad](https://github.com/raphaeleadjerad)\n",
        "et présente quelques éléments qui peuvent être utiles\n",
        "pour l’enrichissement de données d’entreprises\n",
        "à partir d’un répertoire officiel.\n",
        "\n",
        ":warning: Il nécessite une version particulière du package `elasticsearch` pour tenir compte de l’héritage de la version 7 du moteur Elastic. Pour cela, faire\n",
        "\n",
        "``` python\n",
        "pip install elasticsearch==8.2.0\n",
        "```\n",
        "\n",
        "# Introduction\n",
        "\n",
        "Dans le cadre particulier de l’identification des entreprises, Elasticsearch fait partie de la solution retenue par\n",
        "l’API “Sirene données ouvertes” (DINUM) (cf https://annuaire-entreprises.data.gouv.fr/) l’API de recherche d’entreprises Française de la Fabrique numérique des Ministères Sociaux (cf https://api.recherche-entreprises.fabrique.social.gouv.fr/)le projet de l’Insee “Amélioration de l’identification de l’employeur dans le recensement”, pour faire une première sélection des établissements pertinents pour un bulletin de recensement donné.\n",
        "Dans le cadre de l’identification des individus, Elasticsearch fait partie de la solution envisagée pour l’identification des individus au RNIPP (Répertoire national des personnes physiques) pour le projet CSNS (Code statistique non signifiant), et est la solution technique sous-jacente au projet matchID du ministère de l’intérieur.\n",
        "\n",
        "Au delà du secteur public, on peut citer qu’Amazon AWS fait partie des utilisateurs historiques d’Elasticsearch.\n",
        "\n",
        "## Objectif\n",
        "\n",
        "Ce chapitre vise à approfondir les éléments présentés sur Elastic précédemment. L’idée\n",
        "est de se placer dans un contexte opérationnel où on reçoit des informations\n",
        "sur des entreprises telles que l’adresse et la localisation et qu’on\n",
        "désire associer à des données administratives considérées plus fliables.\n",
        "\n",
        "## Réplication de ce chapitre\n",
        "\n",
        "Comme le précédent, ce chapitre est plus exigeant en termes d’infrastructures que les précédents.\n",
        "Il nécessite un serveur Elastic. Les utilisateurs du\n",
        "[SSP Cloud](datalab.sspcloud.fr/) pourront répliquer les exemples de ce cours\n",
        "car cette technologie est disponible (que ce soit pour indexer une base ou\n",
        "pour requêter une base existante).\n",
        "\n",
        "La première partie de ce tutoriel, qui consiste à créer une base Sirene géolocalisée\n",
        "à partir des données *open-data* ne nécessite pas d’architecture particulière et\n",
        "peut ainsi être exécutée en utilisant les packages suivants:"
      ],
      "id": "682fd1ff-3c26-492d-92eb-dc8687ec7450"
    },
    {
      "cell_type": "code",
      "execution_count": 2,
      "metadata": {},
      "outputs": [],
      "source": [
        "import numpy as np\n",
        "import pandas as pd"
      ],
      "id": "0a565e3f"
    },
    {
      "cell_type": "markdown",
      "metadata": {},
      "source": [
        "## Sources\n",
        "\n",
        "Ce chapitre va utiliser plusieurs sources de diffusion de\n",
        "l’Insee:\n",
        "\n",
        "-   Le stock des établissements présents dans les [données de diffusion Sirene](https://www.insee.fr/fr/information/3591226) ;\n",
        "-   Les [données Sirene géolocalisées](https://www.data.gouv.fr/fr/datasets/geolocalisation-des-etablissements-du-repertoire-sirene-pour-les-etudes-statistiques/)\n",
        "\n",
        "Les données à siretiser sont celles du registre Français des émissions polluantes\n",
        "établi par le Ministère de la Transition Energétique. Le jeu de données\n",
        "est disponible sur [data.gouv](https://www.data.gouv.fr/fr/datasets/registre-francais-des-emissions-polluantes/)\n",
        "\n",
        "# Préparation des données à identifier\n",
        "\n",
        "Le jeu de données présente déjà\n",
        "l’identifiant\n",
        "de l’établissement, dit numéro `siret`.\n",
        "Nous allons faire comme si nous étions\n",
        "en amont de cet appariement et que nous\n",
        "désirons trouver ce numéro. La présence\n",
        "dans la base de ce numéro nous permettra d’évaluer la qualité\n",
        "de notre méthode de recherche avec\n",
        "`Elastic`."
      ],
      "id": "b18ec0cf-2314-458e-a06f-5238cf00d9af"
    },
    {
      "cell_type": "code",
      "execution_count": 3,
      "metadata": {},
      "outputs": [],
      "source": [
        "import requests\n",
        "import zipfile\n",
        "import pandas as pd\n",
        "\n",
        "url = \"https://www.data.gouv.fr/fr/datasets/r/9af639b9-e2b6-4d7d-8c5f-0c4953c48663\"\n",
        "req = requests.get(url)\n",
        "\n",
        "with open(\"irep.zip\",'wb') as f:\n",
        "  f.write(req.content)\n",
        "\n",
        "with zipfile.ZipFile(\"irep.zip\", 'r') as zip_ref:\n",
        "  zip_ref.extractall(\"irep\")\n",
        "\n",
        "etablissements = pd.read_csv(\"irep/2019/etablissements.csv\", sep = \";\")"
      ],
      "id": "95b01f55"
    },
    {
      "cell_type": "markdown",
      "metadata": {},
      "source": [
        "# Constitution du référentiel administratif géolocalisé\n",
        "\n",
        "Dans un premier temps, on va combiner ensemble les différentes sources\n",
        "*open-data* pour créer un référentiel fiable d’entreprises\n",
        "géolocalisées.\n",
        "\n",
        "## Importer la base déjà créée\n",
        "\n",
        "Les données à utiliser pour constuire une base Sirene géolocalisée\n",
        "sont trop volumineuses pour les serveurs mis à disposition\n",
        "gratuitement par `Github` pour la compilation de ce site web.\n",
        "Nous proposons ainsi une version déjà construite, stockée\n",
        "dans l’espace de mise à disposition du SSP Cloud. Ce fichier est\n",
        "au format `parquet` et est ouvert à\n",
        "tous, même pour les personnes ne disposant pas d’un compte.\n",
        "Le code ayant construit cette base est présenté ci-dessous.\n",
        "\n",
        "Pour importer cette base, on utilise les fonctionalités\n",
        "de `pyarrow` qui permettent d’importer un fichier sur\n",
        "un système de stockage *cloud* comme s’il était\n",
        "présent sur le disque :"
      ],
      "id": "bf0b9059-dfa7-47d9-9a1b-007f68bb433d"
    },
    {
      "cell_type": "code",
      "execution_count": 4,
      "metadata": {},
      "outputs": [],
      "source": [
        "from pyarrow import fs\n",
        "import pyarrow as pa\n",
        "import pyarrow.parquet as pq\n",
        "\n",
        "bucket = \"lgaliana\"\n",
        "path = \"diffusion/sirene_geolocalized.parquet\"\n",
        "\n",
        "s3 = fs.S3FileSystem(endpoint_override=\"http://\"+\"minio.lab.sspcloud.fr\")\n",
        "\n",
        "df_geolocalized = pq.ParquetDataset(f'{bucket}/{path}', filesystem=s3).read_pandas().to_pandas()\n",
        "df_geolocalized.head(3)"
      ],
      "id": "1ee62534"
    },
    {
      "cell_type": "markdown",
      "metadata": {},
      "source": [
        "## Reproduire la construction de la base\n",
        "\n",
        "La première base d’entrée à utiliser est disponible sur\n",
        "[data.gouv](https://www.data.gouv.fr/fr/datasets/base-sirene-des-entreprises-et-de-leurs-etablissements-siren-siret/)"
      ],
      "id": "de713192-2cb3-49f1-ac78-1cafe9c62095"
    },
    {
      "cell_type": "code",
      "execution_count": 5,
      "metadata": {},
      "outputs": [],
      "source": [
        "import requests\n",
        "import zipfile\n",
        "\n",
        "url_download = \"https://www.data.gouv.fr/fr/datasets/r/0651fb76-bcf3-4f6a-a38d-bc04fa708576\"\n",
        "req = requests.get(url_download)\n",
        "\n",
        "with open(\"sirene.zip\",'wb') as f:\n",
        "  f.write(req.content)\n",
        "\n",
        "with zipfile.ZipFile(\"sirene.zip\", 'r') as zip_ref:\n",
        "  zip_ref.extractall(\"sirene\")"
      ],
      "id": "dd258dfa"
    },
    {
      "cell_type": "markdown",
      "metadata": {},
      "source": [
        "On va importer seulement les colonnes utiles et simplifier la structure\n",
        "pour être en mesure de ne garder que les informations qui nous\n",
        "intéressent (nom de l’entreprise, adresse, commune, code postal…)"
      ],
      "id": "76e27158-bbd3-4125-8f90-a674772ecbb7"
    },
    {
      "cell_type": "code",
      "execution_count": 6,
      "metadata": {},
      "outputs": [],
      "source": [
        "import pandas as pd\n",
        "import numpy as np\n",
        "\n",
        "list_cols = [\n",
        "  'siren', 'siret',\n",
        "  'activitePrincipaleRegistreMetiersEtablissement',\n",
        "  'complementAdresseEtablissement',\n",
        "  'numeroVoieEtablissement',\n",
        "  'typeVoieEtablissement',\n",
        "  'libelleVoieEtablissement',\n",
        "  'codePostalEtablissement',\n",
        "  'libelleCommuneEtablissement',\n",
        "  'codeCommuneEtablissement',\n",
        "  'etatAdministratifEtablissement',\n",
        "  'denominationUsuelleEtablissement',\n",
        "  'activitePrincipaleEtablissement'\n",
        "]\n",
        "\n",
        "df = pd.read_csv(\n",
        "  \"sirene/StockEtablissement_utf8.csv\",\n",
        "  usecols = list_cols)\n",
        "\n",
        "df['numero'] = df['numeroVoieEtablissement']\\\n",
        "  .replace('-', np.NaN).str.split().str[0]\\\n",
        "  .str.extract('(\\d+)', expand=False)\\\n",
        "  .fillna(\"0\").astype(int)\n",
        "\n",
        "df['numero'] = df['numero'].astype(str).replace(\"0\",\"\")\n",
        "\n",
        "df['adresse'] = df['numero'] + \" \" + \\\n",
        "  df['typeVoieEtablissement'] + \" \" + \\\n",
        "  df['libelleVoieEtablissement']\n",
        "\n",
        "df['adresse'] = df['adresse'].replace(np.nan, \"\")\n",
        "\n",
        "df = df.loc[df['etatAdministratifEtablissement'] == \"A\"]\n",
        "\n",
        "df.rename(\n",
        "  {\"denominationUsuelleEtablissement\": \"denom\",\n",
        "  \"libelleCommuneEtablissement\": \"commune\",\n",
        "  \"codeCommuneEtablissement\" : \"code_commune\",\n",
        "  \"codePostalEtablissement\": \"code_postal\"},\n",
        "  axis = \"columns\", inplace = True)\n",
        "\n",
        "df['ape'] = df['activitePrincipaleEtablissement'].str.replace(\"\\.\", \"\", regex = True)\n",
        "df['denom'] = df[\"denom\"].replace(np.nan, \"\")\n",
        "\n",
        "df_siret = df.loc[:, ['siren', 'siret','adresse', 'ape', 'denom', 'commune', 'code_commune','code_postal']]\n",
        "df_siret['code_postal'] = df_siret['code_postal'].replace(np.nan, \"0\").astype(int).astype(str).replace(\"0\",\"\")"
      ],
      "id": "41ff4ae5"
    },
    {
      "cell_type": "markdown",
      "metadata": {},
      "source": [
        "On importe ensuite les données géolocalisées"
      ],
      "id": "93f31db3-9e8c-4cd3-8849-9a088da90d17"
    },
    {
      "cell_type": "code",
      "execution_count": 7,
      "metadata": {},
      "outputs": [],
      "source": [
        "import zipfile\n",
        "import shutil\n",
        "import os\n",
        "\n",
        "#os.remove(\"sirene.zip\")\n",
        "#shutil.rmtree('sirene/')\n",
        "\n",
        "url_geoloc = \"https://files.data.gouv.fr/insee-sirene-geo/GeolocalisationEtablissement_Sirene_pour_etudes_statistiques_utf8.zip\"\n",
        "r = requests.get(url_geoloc)  \n",
        "\n",
        "with open('geoloc.zip', 'wb') as f:\n",
        "    f.write(r.content)\n",
        "\n",
        "with zipfile.ZipFile(\"geoloc.zip\", 'r') as zip_ref:\n",
        "  zip_ref.extractall(\"geoloc\")\n",
        "\n",
        "df_geoloc = pd.read_csv(\n",
        "  \"geoloc/GeolocalisationEtablissement_Sirene_pour_etudes_statistiques_utf8.csv\",\n",
        "  usecols = [\"siret\", \"epsg\", \"x_longitude\", \"y_latitude\"] , sep = \";\")"
      ],
      "id": "87530a79"
    },
    {
      "cell_type": "markdown",
      "metadata": {},
      "source": [
        "Il ne reste plus qu’à associer les deux jeux de données"
      ],
      "id": "351482b5-28e8-4b7b-8ad8-7dc979b1243a"
    },
    {
      "cell_type": "code",
      "execution_count": 8,
      "metadata": {},
      "outputs": [],
      "source": [
        "df_geolocalized = df_siret.merge(df_geoloc, on = \"siret\") \n",
        "df_geolocalized['code_commune'] = df_geolocalized['code_commune'].astype(str) "
      ],
      "id": "5f3e9c39"
    },
    {
      "cell_type": "markdown",
      "metadata": {},
      "source": [
        "Si vous avez accès à un espace de stockage cloud de type\n",
        "`S3`, il est possible d’utiliser `pyarrow` pour enregister\n",
        "cette base. Afin de l’enregistrer dans un espace de stockage\n",
        "public, nous allons l’enregistrer dans un dossier `diffusion`[1]\n",
        "\n",
        "[1] Concernant la première piste, il aurait\n",
        "fallu mieux définir notre mapping pour\n",
        "autoriser des *analyzers*. A défaut,\n",
        "nous pourrons\n",
        "utiliser `nltk` ou `spacy` pour transformer\n",
        "les champs textuels avant d’envoyer la requête.\n",
        "Cette solution présente l’inconvénient\n",
        "de ne pas formatter de la même manière l’ensemble\n",
        "indexé mais pourrait malgré tout améliorer la pertinence\n",
        "des recherches."
      ],
      "id": "ec61bfb0-f8af-43ff-9ee9-f80ace74e1f4"
    },
    {
      "cell_type": "code",
      "execution_count": 9,
      "metadata": {},
      "outputs": [],
      "source": [
        "from pyarrow import fs\n",
        "import pyarrow as pa\n",
        "import pyarrow.parquet as pq\n",
        "\n",
        "bucket = \"lgaliana\"\n",
        "path = \"diffusion/sirene_geolocalized.parquet\"\n",
        "\n",
        "s3 = fs.S3FileSystem(endpoint_override=\"http://\"+\"minio.lab.sspcloud.fr\")\n",
        "\n",
        "table = pa.Table.from_pandas(df_geolocalized)"
      ],
      "id": "3ebf2491"
    },
    {
      "cell_type": "markdown",
      "metadata": {},
      "source": [
        "# Connexion à ElasticSearch\n",
        "\n",
        "On va supposer que l’utilisateur dispose déjà d’un serveur Elastic\n",
        "fonctionnel mais désire créer un nouvel index. Si vous utilisez\n",
        "le SSPCloud, la démarche de création d’un service\n",
        "Elastic est disponible dans le chapitre précédent."
      ],
      "id": "1a71b44b-40dc-4fea-91ec-47f0bcbf9afd"
    },
    {
      "cell_type": "code",
      "execution_count": 10,
      "metadata": {},
      "outputs": [],
      "source": [
        "from elasticsearch import Elasticsearch\n",
        "HOST = 'elasticsearch-master'\n",
        "\n",
        "def elastic():\n",
        "    \"\"\"Connection avec Elastic sur le data lab\"\"\"\n",
        "    es = Elasticsearch([{'host': HOST, 'port': 9200, 'scheme': 'http'}], http_compress=True, request_timeout=200)\n",
        "    return es\n",
        "\n",
        "es = elastic()\n",
        "es"
      ],
      "id": "6eb91055"
    },
    {
      "cell_type": "markdown",
      "metadata": {},
      "source": [
        "    <Elasticsearch(['http://elasticsearch-master:9200'])>\n",
        "\n",
        "# Indexation de notre base Sirène géolocalisée\n",
        "\n",
        "## Définition du mapping\n",
        "\n",
        "On va procéder par étape en essayant d’utiliser la structure la plus simple\n",
        "possible.\n",
        "\n",
        ":one: On s’occupe d’abord de définir le *mapping*\n",
        "pour les variables textuelles."
      ],
      "id": "692b8fff-1d65-471a-b3e5-b9b1611527b3"
    },
    {
      "cell_type": "code",
      "execution_count": 11,
      "metadata": {},
      "outputs": [],
      "source": [
        "string_var = [\"adresse\", \"denom\", \"ape\", \"commune\"]\n",
        "map_string = {\"type\": \"text\", \"fields\": {\"keyword\": {\"type\": \"keyword\", \"ignore_above\": 256}}}\n",
        "mapping_string = {l: map_string for l in string_var}"
      ],
      "id": "7cd6f63d"
    },
    {
      "cell_type": "markdown",
      "metadata": {},
      "source": [
        ":two: Les variables catégorielles sont utilisées\n",
        "par le biais du type `keyword`:"
      ],
      "id": "f4c4025c-e023-4054-a61b-6b8bb372857e"
    },
    {
      "cell_type": "code",
      "execution_count": 12,
      "metadata": {},
      "outputs": [],
      "source": [
        "# keywords\n",
        "keyword_var = [\"siren\",\"siret\",\"code_commune\",\"code_postal\"]\n",
        "map_keywords = {'type': 'text', 'fields': {'keyword': {'type': 'keyword', 'ignore_above': 256}}}\n",
        "mapping_keywords = {l: map_keywords for l in keyword_var}"
      ],
      "id": "fba2e37d"
    },
    {
      "cell_type": "markdown",
      "metadata": {},
      "source": [
        ":three: La nouveauté par rapport à la partie\n",
        "précédente est l’utilisation de la\n",
        "dimension géographique. `Elastic` propose\n",
        "le type `geo_point` pour cela."
      ],
      "id": "0fd2d082-c487-4b4e-98e4-a305d87a1dfc"
    },
    {
      "cell_type": "code",
      "execution_count": 13,
      "metadata": {},
      "outputs": [],
      "source": [
        "# geoloc\n",
        "mapping_geoloc = {\n",
        "  \"location\": {\n",
        "    \"type\": \"geo_point\"\n",
        "    }\n",
        "}    "
      ],
      "id": "0b6c4927"
    },
    {
      "cell_type": "markdown",
      "metadata": {},
      "source": [
        "On collecte tout cela ensemble dans un\n",
        "dictionnaire:"
      ],
      "id": "3fb5b6a2-def6-412f-990f-2c3ad209c2e6"
    },
    {
      "cell_type": "code",
      "execution_count": 14,
      "metadata": {},
      "outputs": [],
      "source": [
        "# mapping\n",
        "mapping_elastic = {\"mappings\":\n",
        "  {\"properties\":\n",
        "    {**mapping_string, **mapping_geoloc, **mapping_keywords}\n",
        "  }\n",
        "}"
      ],
      "id": "c6ba53e8"
    },
    {
      "cell_type": "markdown",
      "metadata": {},
      "source": [
        "Il est tout à fait possible de définir un *mapping*\n",
        "plus raffiné. Ici, on va privilégier\n",
        "l’utilisation d’un *mapping* simple pour\n",
        "illustrer la recherche par distance\n",
        "géographique en priorité.\n",
        "\n",
        "## Création de l’index\n",
        "\n",
        "Pour créer le nouvel index, on s’assure d’abord de ne pas\n",
        "déjà l’avoir créé et on passe le *mapping* défini\n",
        "précédemment."
      ],
      "id": "5d987548-e480-48dd-82e6-ff0c50e9f24a"
    },
    {
      "cell_type": "code",
      "execution_count": 15,
      "metadata": {},
      "outputs": [],
      "source": [
        "if es.indices.exists('sirene'):\n",
        "    es.indices.delete('sirene')\n",
        "\n",
        "es.indices.create(index = \"sirene\", body = mapping_elastic)   "
      ],
      "id": "35c9ac19"
    },
    {
      "cell_type": "markdown",
      "metadata": {},
      "source": [
        "## Indexation de la base géolocalisée\n",
        "\n",
        "Pour le moment, l’index est vide. Il convient de\n",
        "le peupler.\n",
        "\n",
        "Il est néanmoins nécessaire de créer le champ `location`\n",
        "au format attendu par elastic: `lat, lon` à partir\n",
        "de nos colonnes."
      ],
      "id": "efe4e68d-4b37-400d-b51b-1266f1ef0625"
    },
    {
      "cell_type": "code",
      "execution_count": 16,
      "metadata": {},
      "outputs": [],
      "source": [
        "df_geolocalized['location'] = df_geolocalized['y_latitude'].astype(str) + \", \" + df_geolocalized['x_longitude'].astype(str)"
      ],
      "id": "91711901"
    },
    {
      "cell_type": "markdown",
      "metadata": {},
      "source": [
        "La fonction suivante permet de structurer chaque\n",
        "ligne du `DataFrame` telle qu’Elastic l’attend:"
      ],
      "id": "9ef073a3-691a-4ea6-8157-31da83ae63b9"
    },
    {
      "cell_type": "code",
      "execution_count": 17,
      "metadata": {},
      "outputs": [],
      "source": [
        "def gen_dict_from_pandas(index_name, df):\n",
        "    '''\n",
        "    Lit un dataframe pandas Open Food Facts, renvoi un itérable = dictionnaire des données à indexer, sous l'index fourni\n",
        "    '''\n",
        "    for i, row in df.iterrows():\n",
        "        header= {\"_op_type\": \"index\",\"_index\": index_name,\"_id\": i}\n",
        "        yield {**header,**row}"
      ],
      "id": "e11185dd"
    },
    {
      "cell_type": "markdown",
      "metadata": {},
      "source": [
        "Enfin, on peut industrialiser l’indexation\n",
        "de notre `DataFrame` en faisant tourner de\n",
        "manière successive cette fonction:"
      ],
      "id": "c2e60585-2cf5-4160-872a-a880dbc68f83"
    },
    {
      "cell_type": "code",
      "execution_count": 18,
      "metadata": {},
      "outputs": [],
      "source": [
        "from elasticsearch.helpers import bulk, parallel_bulk\n",
        "from collections import deque\n",
        "deque(parallel_bulk(client=es, actions=gen_dict_from_pandas(\"sirene\", df_geolocalized), chunk_size = 1000, thread_count = 4))"
      ],
      "id": "033746a9"
    },
    {
      "cell_type": "code",
      "execution_count": 19,
      "metadata": {},
      "outputs": [],
      "source": [
        "es.count(index = 'sirene')"
      ],
      "id": "30ba1676"
    },
    {
      "cell_type": "markdown",
      "metadata": {},
      "source": [
        "    ObjectApiResponse({'count': 13059694, '_shards': {'total': 1, 'successful': 1, 'skipped': 0, 'failed': 0}})\n",
        "\n",
        "# Recherche\n",
        "\n",
        "Pour se faciliter la création de cartes\n",
        "réactives, nous allons régulièrement\n",
        "utiliser la fonction suivante qui s’appuie\n",
        "sur un code déjà présenté dans un autre\n",
        "chapitre."
      ],
      "id": "964d1d99-233d-4aef-9114-1467438ac34d"
    },
    {
      "cell_type": "code",
      "execution_count": 20,
      "metadata": {},
      "outputs": [],
      "source": [
        "def plot_folium_sirene(df, yvar, xvar):\n",
        "\n",
        "    center = df[[yvar, xvar]].mean().values.tolist()\n",
        "    sw = df[[yvar, xvar]].min().values.tolist()\n",
        "    ne = df[[yvar, xvar]].max().values.tolist()\n",
        "\n",
        "    m = folium.Map(location = center, tiles='Stamen Toner')\n",
        "\n",
        "    # I can add marker one by one on the map\n",
        "    for i in range(0,len(df)):\n",
        "        folium.Marker(\n",
        "            [df.iloc[i][yvar], df.iloc[i][xvar]],\n",
        "            popup = df.iloc[i][\"_source.denom\"] + f'<br>(Score: {df.iloc[i][\"_score\"]:.2f})',\n",
        "            icon=folium.Icon(icon=\"home\")\n",
        "        ).add_to(m)\n",
        "\n",
        "    m.fit_bounds([sw, ne])\n",
        "\n",
        "    return m"
      ],
      "id": "fe3263ea"
    },
    {
      "cell_type": "markdown",
      "metadata": {},
      "source": [
        "## Premier exemple de requête géographique"
      ],
      "id": "696d544d-8ed9-41b7-b0ae-be24d504617f"
    },
    {
      "cell_type": "code",
      "execution_count": 21,
      "metadata": {},
      "outputs": [],
      "source": [
        "ex1 = es.search(index = 'sirene', body = '''{\n",
        "  \"query\": {\n",
        "    \"bool\": {\n",
        "      \"must\":\n",
        "      { \"match\": { \"denom\":   \"institut national de la statistique\"}}\n",
        "      }\n",
        "  }\n",
        "}\n",
        "''')['hits']['hits']\n",
        "\n",
        "echo_insee = pd.json_normalize(ex1)\n",
        "echo_insee"
      ],
      "id": "13389d5c"
    },
    {
      "cell_type": "markdown",
      "metadata": {},
      "source": [
        "On remarque déjà que les intitulés ne sont\n",
        "pas bons. Quand est-il de leurs localisations ?"
      ],
      "id": "89c0583b-a7fd-4567-bf15-ca93797ea7f7"
    },
    {
      "cell_type": "code",
      "execution_count": 22,
      "metadata": {},
      "outputs": [],
      "source": [
        "plot_folium_sirene(\n",
        "  echo_insee, yvar = \"_source.y_latitude\",\n",
        "  xvar = \"_source.x_longitude\")"
      ],
      "id": "2ef77ebf"
    },
    {
      "cell_type": "markdown",
      "metadata": {},
      "source": [
        "Ce premier essai nous suggère qu’il est\n",
        "nécessaire d’améliorer notre recherche.\n",
        "Plusieurs voies sont possibles:\n",
        "\n",
        "1.  Améliorer le preprocessing de nos champs\n",
        "    textuels en excluant, par exemple, les\n",
        "    stopwords ;\n",
        "2.  Effectuer une restriction géographique\n",
        "    pour mieux cibler l’ensemble de recherche\n",
        "3.  Trouver une variable catégorielle jouant\n",
        "    le rôle de variable de blocage[1] pour\n",
        "    mieux cibler les paires pertinentes\n",
        "\n",
        "Concernant la restriction\n",
        "géographique, Elastic fournit une approche\n",
        "très efficace de ciblage géographique.\n",
        "En connaissant une position approximative\n",
        "de l’entreprise à rechercher,\n",
        "il est ainsi possible de\n",
        "rechercher dans un rayon\n",
        "d’une taille plus ou moins grande.\n",
        "En supposant qu’on connaisse précisément\n",
        "la localisation de l’Insee, on peut\n",
        "chercher dans un rayon relativement\n",
        "restreint. Si notre position était plus\n",
        "approximative, on pourrait rechercher\n",
        "dans un rayon plus large.\n",
        "\n",
        "[1] Concernant la première piste, il aurait\n",
        "fallu mieux définir notre mapping pour\n",
        "autoriser des *analyzers*. A défaut,\n",
        "nous pourrons\n",
        "utiliser `nltk` ou `spacy` pour transformer\n",
        "les champs textuels avant d’envoyer la requête.\n",
        "Cette solution présente l’inconvénient\n",
        "de ne pas formatter de la même manière l’ensemble\n",
        "indexé mais pourrait malgré tout améliorer la pertinence\n",
        "des recherches."
      ],
      "id": "73814cbd-3036-4487-a45b-66af71174297"
    },
    {
      "cell_type": "code",
      "execution_count": 23,
      "metadata": {},
      "outputs": [],
      "source": [
        "ex2 = es.search(index = 'sirene', body = '''{\n",
        "  \"query\": {\n",
        "    \"bool\": {\n",
        "      \"must\":\n",
        "      { \"match\": { \"denom\":   \"institut national de la statistique\"}}\n",
        "      ,\n",
        "      \"filter\":\n",
        "        {\"geo_distance\": {\n",
        "          \"distance\": \"1km\",\n",
        "          \"location\": {\n",
        "            \"lat\": \"48.8168\",\n",
        "            \"lon\": \"2.3099\"\n",
        "          }\n",
        "        }\n",
        "      }\n",
        "    }\n",
        "  }\n",
        "}\n",
        "''')['hits']['hits']\n",
        "\n",
        "echo_insee = pd.json_normalize(ex2)\n",
        "echo_insee"
      ],
      "id": "1b65497b"
    },
    {
      "cell_type": "markdown",
      "metadata": {},
      "source": [
        "{{% box status=“hint” title=“Conseil” icon=“fa fa-lightbulb” %}}\n",
        "Connaître la précision précise d’une\n",
        "entreprise\n",
        "nécessite déjà une bonne remontée\n",
        "d’information sur celle-ci.\n",
        "Il est plus plausible de supposer\n",
        "qu’on dispose, dans une phase amont\n",
        "de la chaine de production,\n",
        "de l’adresse de celle-ci.\n",
        "Dans ce cas, il est utile\n",
        "d’utiliser un service de géocodage,\n",
        "comme l’[API Adresse](https://adresse.data.gouv.fr/api-doc/adresse)\n",
        "développée par Etalab.\n",
        "{{% /box %}}\n",
        "\n",
        "Les résultats sont par construction mieux\n",
        "ciblés. Néanmoins ils sont toujours décevants\n",
        "puisqu’on ne parvient pas à identifier l’Insee\n",
        "dans les dix meilleurs échos."
      ],
      "id": "648d2fab-9157-469b-a6d9-d38715382ebe"
    },
    {
      "cell_type": "code",
      "execution_count": 24,
      "metadata": {},
      "outputs": [],
      "source": [
        "specificsearch = es.search(index = 'sirus_2020', body = \n",
        "'''{\n",
        "  \"query\": {\n",
        "    \"bool\": {\n",
        "      \"should\":\n",
        "          { \"match\": { \"rs_denom\":   \"CPCU - CENTRALE DE BERCY\"}},\n",
        "      \"filter\": [\n",
        "          {\"geo_distance\": {\n",
        "                  \"distance\": \"0.5km\",\n",
        "                  \"location\": {\n",
        "                        \"lat\": \"48.84329\", \n",
        "                        \"lon\": \"2.37396\"\n",
        "                              }\n",
        "                            }\n",
        "            }, \n",
        "            { \"prefix\":  { \"apet\": \"3530\" }}\n",
        "                ]\n",
        "            }\n",
        "          }\n",
        "}'''\n",
        ")"
      ],
      "id": "fd1105fa"
    }
  ],
  "nbformat": 4,
  "nbformat_minor": 5,
  "metadata": {
    "kernelspec": {
      "name": "python3",
      "display_name": "Python 3 (ipykernel)",
      "language": "python"
    },
    "language_info": {
      "name": "python",
      "codemirror_mode": {
        "name": "ipython",
        "version": "3"
      },
      "file_extension": ".py",
      "mimetype": "text/x-python",
      "nbconvert_exporter": "python",
      "pygments_lexer": "ipython3",
      "version": "3.9.16"
    }
  }
}