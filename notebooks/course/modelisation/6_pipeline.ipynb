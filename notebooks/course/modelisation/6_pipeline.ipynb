{
 "cells": [
  {
   "cell_type": "markdown",
   "id": "45875e55",
   "metadata": {},
   "source": [
    "#  Premier pas vers lindustrialisation avec les pipelines scikit\n",
    "\n",
    "\n"
   ]
  },
  {
   "cell_type": "markdown",
   "id": "1deb6340",
   "metadata": {},
   "source": [
    "<a href=\"https://github.com/linogaliana/python-datascientist/blob/master//__w/python-datascientist/python-datascientist/notebooks/course/modelisation/6_pipeline.ipynb\" class=\"github\"><i class=\"fab fa-github\"></i></a>\n",
    "[![Download](https://img.shields.io/badge/Download-Notebook-important?logo=Jupyter)](https://downgit.github.io/#/home?url=https://github.com/linogaliana/python-datascientist/blob/master//__w/python-datascientist/python-datascientist/notebooks/course/modelisation/6_pipeline.ipynb)\n",
    "[![nbviewer](https://img.shields.io/badge/Visualize-nbviewer-blue?logo=Jupyter)](https://nbviewer.jupyter.org/github/linogaliana/python-datascientist/blob/master//__w/python-datascientist/python-datascientist/notebooks/course/modelisation/6_pipeline.ipynb)\n",
    "[![Onyxia](https://img.shields.io/badge/SSPcloud-Tester%20via%20SSP--cloud-informational&color=yellow?logo=Python)](https://datalab.sspcloud.fr/launcher/inseefrlab-helm-charts-datascience/jupyter?onyxia.friendlyName=«python-datascientist»&resources.requests.memory=«4Gi»&security.allowlist.enabled=false&init.personalInit=«https://raw.githubusercontent.com/linogaliana/python-datascientist/master/init_onyxia.sh»)\n",
    "<br>\n",
    "[![Binder](https://img.shields.io/badge/Launch-Binder-E66581.svg?logo=data:image/png;base64,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)](https://mybinder.org/v2/gh/linogaliana/python-datascientist/master?filepath=/__w/python-datascientist/python-datascientist/notebooks/course/modelisation/6_pipeline.ipynb)\n",
    "[![Open In Colab](https://colab.research.google.com/assets/colab-badge.svg)](http://colab.research.google.com/github/linogaliana/python-datascientist/blob/master//__w/python-datascientist/python-datascientist/notebooks/course/modelisation/6_pipeline.ipynb)\n",
    "[![githubdev](https://open.vscode.dev/badges/open-in-vscode.svg)](https://github.dev/linogaliana/python-datascientist//__w/python-datascientist/python-datascientist/notebooks/course/modelisation/6_pipeline.ipynb)\n",
    "\n",
    "# Pourquoi utiliser les pipelines ?\n",
    "\n",
    "Les chapitres précédents ont permis de montrer des bouts de code \n",
    "épars pour entraîner des modèles ou faire du _preprocessing_.\n",
    "Cette démarche est intéressante pour tâtonner mais risque d'être coûteuse\n",
    "ultérieurement s'il est nécessaire d'ajouter une étape de preprocessing \n",
    "ou de changer d'algorithme.\n",
    "\n",
    "Heureusement, `scikit` propose un excellent outil pour proposer un cadre\n",
    "général pour créer une chaîne de production *machine learning*. Il\n",
    "s'agit des\n",
    "[_pipelines_](https://scikit-learn.org/stable/modules/compose.html). \n",
    "Ils présentent de nombreux intérêts, parmi lesquels:\n",
    "\n",
    "* Ils sont très __pratiques__ et __lisibles__. On rentre des données en entrée, on n'appelle qu'une seule fois les méthodes `fit` et `predict` ce qui permet de s'assurer une gestion cohérente des transformations de variables, par exemple après l'appel d'un `StandardScaler`\n",
    "* La __modularité__ rend aisée la mise à jour d'un pipeline et renforce la capacité à le réutiliser\n",
    "* Ils permettent de facilement chercher les hyperparamètres d'un modèle. Sans *pipeline*, écrire un code qui fait du *tuning* d'hyperparamètres peut être pénible. Avec les *pipelines*, c'est une ligne de code. \n",
    "* La __sécurité__ d'être certain que les étapes de preprocessing sont bien appliquées aux jeux de données désirés avant l'estimation. "
   ]
  },
  {
   "cell_type": "markdown",
   "id": "b4f11b3c",
   "metadata": {},
   "source": [
    "Un des intérêts des *pipelines* scikit est qu'ils fonctionnent aussi avec\n",
    "des méthodes qui ne sont pas issues de `scikit`.\n",
    "\n",
    "Il est très \n",
    "facile d'introduire un modèle de réseau de neurone `Keras` dans\n",
    "un pipeline `scikit`.\n",
    "\n",
    "Pour introduire un modèle économétrique `statsmodels`\n",
    "c'est un peu plus coûteux mais nous allons proposer des exemples\n",
    "qui peuvent servir de modèle et qui montrent que c'est faisable \n",
    "sans trop de difficulté."
   ]
  },
  {
   "cell_type": "markdown",
   "id": "12a28f29",
   "metadata": {},
   "source": [
    "Les éléments présents dans ce chapitre nécessitent une version assez récente\n",
    "de `scikit` (au moins la version 1.0). Pour vérifier la version, faire:\n"
   ]
  },
  {
   "cell_type": "code",
   "execution_count": null,
   "id": "d533b679",
   "metadata": {},
   "outputs": [],
   "source": [
    "import sklearn\n",
    "print(sklearn.__version__)"
   ]
  },
  {
   "cell_type": "markdown",
   "id": "4cd5e384",
   "metadata": {},
   "source": [
    "```\n",
    "## 1.0.1\n",
    "```\n",
    "\n",
    "Il faut également une version récente de `yellowbrick` pour éviter l'erreur\n",
    "suivante quand on utilise une version récente de `scikit` (ce que \n",
    "je recommande):\n",
    "\n",
    "> `ImportError: cannot import name 'safe_indexing' from 'sklearn.utils'`\n",
    "\n",
    "\n"
   ]
  },
  {
   "cell_type": "markdown",
   "id": "980aec9b",
   "metadata": {},
   "source": [
    "# Comment créer un *pipeline*\n",
    "\n",
    "Un *pipeline* est un enchaînement d'opérations qu'on code en enchainant\n",
    "des pairs *(clé, valeur)*:\n",
    "\n",
    "* la clé est le nom du pipeline, cela peut être utile lorsqu'on va\n",
    "représenter le *pipeline* sous forme de diagramme acyclique (visualisation DAG)\n",
    "ou qu'on veut afficher des informations sur une étape\n",
    "* la valeur représente la transformation à mettre en oeuvre dans le *pipeline*\n",
    "(c'est-à-dire, à l'exception de la dernière étape, \n",
    "mettre en oeuvre une méthode `transform` et éventuellement une\n",
    "transformation inverse).\n",
    "\n"
   ]
  },
  {
   "cell_type": "code",
   "execution_count": null,
   "id": "24d7280b",
   "metadata": {
    "lines_to_next_cell": 0
   },
   "outputs": [],
   "source": [
    "from sklearn.pipeline import Pipeline\n",
    "from sklearn.svm import SVC\n",
    "from sklearn.decomposition import PCA\n",
    "\n",
    "estimators = [('reduce_dim', PCA()), ('clf', SVC())]\n",
    "pipe = Pipeline(estimators)"
   ]
  },
  {
   "cell_type": "markdown",
   "id": "fffd0d32",
   "metadata": {},
   "source": [
    "\n",
    "\n"
   ]
  },
  {
   "cell_type": "markdown",
   "id": "17020ea9",
   "metadata": {},
   "source": [
    "Il est pratique de visualiser un *pipeline* sous forme de DAG.\n",
    "Pour cela, dans un notebook, on utilise la configuration\n",
    "suivante:\n"
   ]
  },
  {
   "cell_type": "code",
   "execution_count": null,
   "id": "b0098330",
   "metadata": {
    "lines_to_next_cell": 0
   },
   "outputs": [],
   "source": [
    "from sklearn import set_config\n",
    "set_config(display='diagram') "
   ]
  },
  {
   "cell_type": "markdown",
   "id": "641dc638",
   "metadata": {},
   "source": [
    "\n"
   ]
  },
  {
   "cell_type": "code",
   "execution_count": null,
   "id": "b7ec3990",
   "metadata": {
    "lines_to_next_cell": 2
   },
   "outputs": [],
   "source": [
    "pipe"
   ]
  },
  {
   "cell_type": "markdown",
   "id": "7700f4a6",
   "metadata": {},
   "source": [
    "<style>#sk-f93a430e-569c-4082-8a3e-5bafde0a2a6d {color: black;background-color: white;}#sk-f93a430e-569c-4082-8a3e-5bafde0a2a6d pre{padding: 0;}#sk-f93a430e-569c-4082-8a3e-5bafde0a2a6d div.sk-toggleable {background-color: white;}#sk-f93a430e-569c-4082-8a3e-5bafde0a2a6d label.sk-toggleable__label {cursor: pointer;display: block;width: 100%;margin-bottom: 0;padding: 0.3em;box-sizing: border-box;text-align: center;}#sk-f93a430e-569c-4082-8a3e-5bafde0a2a6d div.sk-toggleable__content {max-height: 0;max-width: 0;overflow: hidden;text-align: left;background-color: #f0f8ff;}#sk-f93a430e-569c-4082-8a3e-5bafde0a2a6d div.sk-toggleable__content pre {margin: 0.2em;color: black;border-radius: 0.25em;background-color: #f0f8ff;}#sk-f93a430e-569c-4082-8a3e-5bafde0a2a6d input.sk-toggleable__control:checked~div.sk-toggleable__content {max-height: 200px;max-width: 100%;overflow: auto;}#sk-f93a430e-569c-4082-8a3e-5bafde0a2a6d div.sk-estimator input.sk-toggleable__control:checked~label.sk-toggleable__label {background-color: #d4ebff;}#sk-f93a430e-569c-4082-8a3e-5bafde0a2a6d div.sk-label input.sk-toggleable__control:checked~label.sk-toggleable__label {background-color: #d4ebff;}#sk-f93a430e-569c-4082-8a3e-5bafde0a2a6d input.sk-hidden--visually {border: 0;clip: rect(1px 1px 1px 1px);clip: rect(1px, 1px, 1px, 1px);height: 1px;margin: -1px;overflow: hidden;padding: 0;position: absolute;width: 1px;}#sk-f93a430e-569c-4082-8a3e-5bafde0a2a6d div.sk-estimator {font-family: monospace;background-color: #f0f8ff;border: 1px dotted black;border-radius: 0.25em;box-sizing: border-box;margin-bottom: 0.5em;}#sk-f93a430e-569c-4082-8a3e-5bafde0a2a6d div.sk-estimator:hover {background-color: #d4ebff;}#sk-f93a430e-569c-4082-8a3e-5bafde0a2a6d div.sk-parallel-item::after {content: \"\";width: 100%;border-bottom: 1px solid gray;flex-grow: 1;}#sk-f93a430e-569c-4082-8a3e-5bafde0a2a6d div.sk-label:hover label.sk-toggleable__label {background-color: #d4ebff;}#sk-f93a430e-569c-4082-8a3e-5bafde0a2a6d div.sk-serial::before {content: \"\";position: absolute;border-left: 1px solid gray;box-sizing: border-box;top: 2em;bottom: 0;left: 50%;}#sk-f93a430e-569c-4082-8a3e-5bafde0a2a6d div.sk-serial {display: flex;flex-direction: column;align-items: center;background-color: white;padding-right: 0.2em;padding-left: 0.2em;}#sk-f93a430e-569c-4082-8a3e-5bafde0a2a6d div.sk-item {z-index: 1;}#sk-f93a430e-569c-4082-8a3e-5bafde0a2a6d div.sk-parallel {display: flex;align-items: stretch;justify-content: center;background-color: white;}#sk-f93a430e-569c-4082-8a3e-5bafde0a2a6d div.sk-parallel::before {content: \"\";position: absolute;border-left: 1px solid gray;box-sizing: border-box;top: 2em;bottom: 0;left: 50%;}#sk-f93a430e-569c-4082-8a3e-5bafde0a2a6d div.sk-parallel-item {display: flex;flex-direction: column;position: relative;background-color: white;}#sk-f93a430e-569c-4082-8a3e-5bafde0a2a6d div.sk-parallel-item:first-child::after {align-self: flex-end;width: 50%;}#sk-f93a430e-569c-4082-8a3e-5bafde0a2a6d div.sk-parallel-item:last-child::after {align-self: flex-start;width: 50%;}#sk-f93a430e-569c-4082-8a3e-5bafde0a2a6d div.sk-parallel-item:only-child::after {width: 0;}#sk-f93a430e-569c-4082-8a3e-5bafde0a2a6d div.sk-dashed-wrapped {border: 1px dashed gray;margin: 0 0.4em 0.5em 0.4em;box-sizing: border-box;padding-bottom: 0.4em;background-color: white;position: relative;}#sk-f93a430e-569c-4082-8a3e-5bafde0a2a6d div.sk-label label {font-family: monospace;font-weight: bold;background-color: white;display: inline-block;line-height: 1.2em;}#sk-f93a430e-569c-4082-8a3e-5bafde0a2a6d div.sk-label-container {position: relative;z-index: 2;text-align: center;}#sk-f93a430e-569c-4082-8a3e-5bafde0a2a6d div.sk-container {display: inline-block;position: relative;}</style><div id=\"sk-f93a430e-569c-4082-8a3e-5bafde0a2a6d\" class\"sk-top-container\"><div class=\"sk-container\"><div class=\"sk-item sk-dashed-wrapped\"><div class=\"sk-label-container\"><div class=\"sk-label sk-toggleable\"><input class=\"sk-toggleable__control sk-hidden--visually\" id=\"3abc902e-75e6-4f52-b5de-51853d06526b\" type=\"checkbox\" ><label class=\"sk-toggleable__label\" for=\"3abc902e-75e6-4f52-b5de-51853d06526b\">Pipeline</label><div class=\"sk-toggleable__content\"><pre>Pipeline(steps=[('reduce_dim', PCA()), ('clf', SVC())])</pre></div></div></div><div class=\"sk-serial\"><div class=\"sk-item\"><div class=\"sk-estimator sk-toggleable\"><input class=\"sk-toggleable__control sk-hidden--visually\" id=\"6c491c84-4e6c-4074-8402-bd9a5622f8a1\" type=\"checkbox\" ><label class=\"sk-toggleable__label\" for=\"6c491c84-4e6c-4074-8402-bd9a5622f8a1\">PCA</label><div class=\"sk-toggleable__content\"><pre>PCA()</pre></div></div></div><div class=\"sk-item\"><div class=\"sk-estimator sk-toggleable\"><input class=\"sk-toggleable__control sk-hidden--visually\" id=\"036c5ac5-97ec-4dd1-9abb-53ab1b8f64cc\" type=\"checkbox\" ><label class=\"sk-toggleable__label\" for=\"036c5ac5-97ec-4dd1-9abb-53ab1b8f64cc\">SVC</label><div class=\"sk-toggleable__content\"><pre>SVC()</pre></div></div></div></div></div></div></div>"
   ]
  },
  {
   "cell_type": "markdown",
   "id": "56c011b0",
   "metadata": {},
   "source": [
    "Au sein d'une étape de *pipeline*, les paramètres d'un estimateur\n",
    "sont accessibles avec la notation `<estimator>__<parameter>`.\n",
    "Cela permet de fixer des valeurs pour les arguments des fonctions `scikit`\n",
    "qui sont appelées au sein d'un *pipeline*. \n",
    "C'est cela qui rendra l'approche des pipelines particulièrement utile\n",
    "pour la *grid search*:\n"
   ]
  },
  {
   "cell_type": "code",
   "execution_count": null,
   "id": "fbde553c",
   "metadata": {
    "lines_to_next_cell": 2
   },
   "outputs": [],
   "source": [
    "from sklearn.model_selection import GridSearchCV\n",
    "param_grid = {\"reduce_dim__n_components\":[2, 5, 10], \"clf__C\":[0.1, 10, 100]}\n",
    "grid_search = GridSearchCV(pipe, param_grid=param_grid)"
   ]
  },
  {
   "cell_type": "markdown",
   "id": "7025e7da",
   "metadata": {},
   "source": [
    "<style>#sk-622e3f57-0c8b-4b34-bf07-c8d663f14119 {color: black;background-color: white;}#sk-622e3f57-0c8b-4b34-bf07-c8d663f14119 pre{padding: 0;}#sk-622e3f57-0c8b-4b34-bf07-c8d663f14119 div.sk-toggleable {background-color: white;}#sk-622e3f57-0c8b-4b34-bf07-c8d663f14119 label.sk-toggleable__label {cursor: pointer;display: block;width: 100%;margin-bottom: 0;padding: 0.3em;box-sizing: border-box;text-align: center;}#sk-622e3f57-0c8b-4b34-bf07-c8d663f14119 div.sk-toggleable__content {max-height: 0;max-width: 0;overflow: hidden;text-align: left;background-color: #f0f8ff;}#sk-622e3f57-0c8b-4b34-bf07-c8d663f14119 div.sk-toggleable__content pre {margin: 0.2em;color: black;border-radius: 0.25em;background-color: #f0f8ff;}#sk-622e3f57-0c8b-4b34-bf07-c8d663f14119 input.sk-toggleable__control:checked~div.sk-toggleable__content {max-height: 200px;max-width: 100%;overflow: auto;}#sk-622e3f57-0c8b-4b34-bf07-c8d663f14119 div.sk-estimator input.sk-toggleable__control:checked~label.sk-toggleable__label {background-color: #d4ebff;}#sk-622e3f57-0c8b-4b34-bf07-c8d663f14119 div.sk-label input.sk-toggleable__control:checked~label.sk-toggleable__label {background-color: #d4ebff;}#sk-622e3f57-0c8b-4b34-bf07-c8d663f14119 input.sk-hidden--visually {border: 0;clip: rect(1px 1px 1px 1px);clip: rect(1px, 1px, 1px, 1px);height: 1px;margin: -1px;overflow: hidden;padding: 0;position: absolute;width: 1px;}#sk-622e3f57-0c8b-4b34-bf07-c8d663f14119 div.sk-estimator {font-family: monospace;background-color: #f0f8ff;border: 1px dotted black;border-radius: 0.25em;box-sizing: border-box;margin-bottom: 0.5em;}#sk-622e3f57-0c8b-4b34-bf07-c8d663f14119 div.sk-estimator:hover {background-color: #d4ebff;}#sk-622e3f57-0c8b-4b34-bf07-c8d663f14119 div.sk-parallel-item::after {content: \"\";width: 100%;border-bottom: 1px solid gray;flex-grow: 1;}#sk-622e3f57-0c8b-4b34-bf07-c8d663f14119 div.sk-label:hover label.sk-toggleable__label {background-color: #d4ebff;}#sk-622e3f57-0c8b-4b34-bf07-c8d663f14119 div.sk-serial::before {content: \"\";position: absolute;border-left: 1px solid gray;box-sizing: border-box;top: 2em;bottom: 0;left: 50%;}#sk-622e3f57-0c8b-4b34-bf07-c8d663f14119 div.sk-serial {display: flex;flex-direction: column;align-items: center;background-color: white;padding-right: 0.2em;padding-left: 0.2em;}#sk-622e3f57-0c8b-4b34-bf07-c8d663f14119 div.sk-item {z-index: 1;}#sk-622e3f57-0c8b-4b34-bf07-c8d663f14119 div.sk-parallel {display: flex;align-items: stretch;justify-content: center;background-color: white;}#sk-622e3f57-0c8b-4b34-bf07-c8d663f14119 div.sk-parallel::before {content: \"\";position: absolute;border-left: 1px solid gray;box-sizing: border-box;top: 2em;bottom: 0;left: 50%;}#sk-622e3f57-0c8b-4b34-bf07-c8d663f14119 div.sk-parallel-item {display: flex;flex-direction: column;position: relative;background-color: white;}#sk-622e3f57-0c8b-4b34-bf07-c8d663f14119 div.sk-parallel-item:first-child::after {align-self: flex-end;width: 50%;}#sk-622e3f57-0c8b-4b34-bf07-c8d663f14119 div.sk-parallel-item:last-child::after {align-self: flex-start;width: 50%;}#sk-622e3f57-0c8b-4b34-bf07-c8d663f14119 div.sk-parallel-item:only-child::after {width: 0;}#sk-622e3f57-0c8b-4b34-bf07-c8d663f14119 div.sk-dashed-wrapped {border: 1px dashed gray;margin: 0 0.4em 0.5em 0.4em;box-sizing: border-box;padding-bottom: 0.4em;background-color: white;position: relative;}#sk-622e3f57-0c8b-4b34-bf07-c8d663f14119 div.sk-label label {font-family: monospace;font-weight: bold;background-color: white;display: inline-block;line-height: 1.2em;}#sk-622e3f57-0c8b-4b34-bf07-c8d663f14119 div.sk-label-container {position: relative;z-index: 2;text-align: center;}#sk-622e3f57-0c8b-4b34-bf07-c8d663f14119 div.sk-container {display: inline-block;position: relative;}</style><div id=\"sk-622e3f57-0c8b-4b34-bf07-c8d663f14119\" class\"sk-top-container\"><div class=\"sk-container\"><div class=\"sk-item sk-dashed-wrapped\"><div class=\"sk-label-container\"><div class=\"sk-label sk-toggleable\"><input class=\"sk-toggleable__control sk-hidden--visually\" id=\"5ae20ca5-6f5a-44b7-89a1-530620f17a6c\" type=\"checkbox\" ><label class=\"sk-toggleable__label\" for=\"5ae20ca5-6f5a-44b7-89a1-530620f17a6c\">GridSearchCV</label><div class=\"sk-toggleable__content\"><pre>GridSearchCV(estimator=Pipeline(steps=[('reduce_dim', PCA()), ('clf', SVC())]),\n",
    "             param_grid={'clf__C': [0.1, 10, 100],\n",
    "                         'reduce_dim__n_components': [2, 5, 10]})</pre></div></div></div><div class=\"sk-parallel\"><div class=\"sk-parallel-item\"><div class=\"sk-item\"><div class=\"sk-serial\"><div class=\"sk-item\"><div class=\"sk-serial\"><div class=\"sk-item\"><div class=\"sk-estimator sk-toggleable\"><input class=\"sk-toggleable__control sk-hidden--visually\" id=\"e735a49b-3d62-429d-ae18-bf1e50a56bfa\" type=\"checkbox\" ><label class=\"sk-toggleable__label\" for=\"e735a49b-3d62-429d-ae18-bf1e50a56bfa\">PCA</label><div class=\"sk-toggleable__content\"><pre>PCA()</pre></div></div></div><div class=\"sk-item\"><div class=\"sk-estimator sk-toggleable\"><input class=\"sk-toggleable__control sk-hidden--visually\" id=\"5b3a8b2c-5443-407c-9754-a2d6d3edfebc\" type=\"checkbox\" ><label class=\"sk-toggleable__label\" for=\"5b3a8b2c-5443-407c-9754-a2d6d3edfebc\">SVC</label><div class=\"sk-toggleable__content\"><pre>SVC()</pre></div></div></div></div></div></div></div></div></div></div></div></div>\n"
   ]
  },
  {
   "cell_type": "markdown",
   "id": "ae076551",
   "metadata": {},
   "source": [
    "## Données utilisées\n",
    "\n",
    "Nous allons utiliser les données de transactions immobilières DVF pour chercher\n",
    "la meilleure manière de prédire, sachant les caractéristiques d'un bien, son\n",
    "prix.\n",
    "\n",
    "Ces données peuvent être importées directement depuis [`data.gouv`](https://www.data.gouv.fr/fr/datasets/demandes-de-valeurs-foncieres/):\n"
   ]
  },
  {
   "cell_type": "code",
   "execution_count": null,
   "id": "ee90b034",
   "metadata": {},
   "outputs": [],
   "source": [
    "import numpy as np\n",
    "import pandas as pd\n",
    "import seaborn as sns"
   ]
  },
  {
   "cell_type": "markdown",
   "id": "303d740e",
   "metadata": {},
   "source": [
    "```\n",
    "## /opt/conda/envs/python-ENSAE/lib/python3.9/site-packages/seaborn/rcmod.py:82: DeprecationWarning: distutils Version classes are deprecated. Use packaging.version instead.\n",
    "##   if LooseVersion(mpl.__version__) >= \"3.0\":\n",
    "## /opt/conda/envs/python-ENSAE/lib/python3.9/site-packages/setuptools/_distutils/version.py:351: DeprecationWarning: distutils Version classes are deprecated. Use packaging.version instead.\n",
    "##   other = LooseVersion(other)\n",
    "```"
   ]
  },
  {
   "cell_type": "code",
   "execution_count": null,
   "id": "eaa8a56b",
   "metadata": {},
   "outputs": [],
   "source": [
    "import matplotlib.pyplot as plt\n",
    "\n",
    "mutations = pd.read_csv('https://www.data.gouv.fr/fr/datasets/r/3004168d-bec4-44d9-a781-ef16f41856a2', sep = \"|\", decimal=\",\")"
   ]
  },
  {
   "cell_type": "markdown",
   "id": "a33fdd67",
   "metadata": {},
   "source": [
    "```\n",
    "## sys:1: DtypeWarning: Columns (18,23,24,26,28,41) have mixed types.Specify dtype option on import or set low_memory=False.\n",
    "```\n",
    "\n",
    "On propose d'enrichir la base de quelques variables qui pourraient servir\n",
    "ultérieurement:\n"
   ]
  },
  {
   "cell_type": "code",
   "execution_count": null,
   "id": "83da04ee",
   "metadata": {},
   "outputs": [],
   "source": [
    "mutations['Date mutation'] = pd.to_datetime(mutations['Date mutation'], format = \"%d/%m/%Y\")\n",
    "mutations['year'] = mutations['Date mutation'].dt.year\n",
    "mutations['month'] = mutations['Date mutation'].dt.month\n",
    "mutations['dep'] = mutations['Code postal'].astype(str).str[:2]\n",
    "mutations['lprix'] = np.log(mutations[\"Valeur fonciere\"])"
   ]
  },
  {
   "cell_type": "markdown",
   "id": "b09b857e",
   "metadata": {},
   "source": [
    "Si vous travaillez avec les données de 2020, n'oubliez pas\n",
    "d'intégrer l'effet\n",
    "confinement strict dans vos modèles. Pour cela, vous pouvez créer une variable\n",
    "indicatrice entre les dates en question:\n"
   ]
  },
  {
   "cell_type": "code",
   "execution_count": null,
   "id": "e3b8c0af",
   "metadata": {},
   "outputs": [],
   "source": [
    "mutations['confinement'] = mutations['Date mutation'].between(pd.to_datetime(\"2020-03-17\"), pd.to_datetime(\"2020-05-03\")).astype(int)"
   ]
  },
  {
   "cell_type": "markdown",
   "id": "55a4b6a6",
   "metadata": {},
   "source": [
    "Les données DVF proposent une observation par transaction. Ces transactions\n",
    "peuvent concerner plusieurs lots.\n",
    "Pour simplifier,\n",
    "on va créer une variable de surface qui agrège les différentes informations\n",
    "de surface disponibles dans le jeu de données. En effet, les variables\n",
    "en question sont très corrélées les unes entre elles :\n"
   ]
  },
  {
   "cell_type": "code",
   "execution_count": null,
   "id": "ca109b42",
   "metadata": {
    "lines_to_next_cell": 0
   },
   "outputs": [],
   "source": [
    "corr = mutations.loc[:, mutations.columns[mutations.columns.str.startswith('Surface Carrez')].tolist()].corr()\n",
    "sns.heatmap(corr, \n",
    "            xticklabels=corr.columns.values,\n",
    "            yticklabels=corr.columns.values, cmap='coolwarm', annot=True, fmt=\".2f\")\n",
    "plt.savefig('correlation_matrix_dvf.png', bbox_inches='tight')"
   ]
  },
  {
   "cell_type": "markdown",
   "id": "78fd7063",
   "metadata": {},
   "source": [
    "\n",
    "\n"
   ]
  },
  {
   "cell_type": "markdown",
   "id": "fc8c837e",
   "metadata": {},
   "source": [
    "Les agréger revient à supposer que le modèle de fixation des prix est le même\n",
    "entre chaque lot. C'est une hypothèse simplificatrice qu'une personne plus \n",
    "experte du marché immobilier, ou qu'une approche propre de sélection\n",
    "de variable pourrait amener à nier \n"
   ]
  },
  {
   "cell_type": "code",
   "execution_count": null,
   "id": "e6693957",
   "metadata": {
    "lines_to_next_cell": 0
   },
   "outputs": [],
   "source": [
    "mutations['surface'] = mutations.loc[:, mutations.columns[mutations.columns.str.startswith('Surface Carrez')].tolist()].sum(axis = 1)"
   ]
  },
  {
   "cell_type": "markdown",
   "id": "ff32c439",
   "metadata": {},
   "source": []
  },
  {
   "cell_type": "markdown",
   "id": "64b46c66",
   "metadata": {},
   "source": [
    "# Un premier pipeline: *random forest* sur des variables standardisées\n",
    "\n",
    "Notre premier *pipeline* va nous permettre d'intégrer ensemble:\n",
    "\n",
    "1. Une étape de *preprocessing* avec la standardisation de variables\n",
    "2. Une étape d'estimation du prix en utilisant un modèle de *random forest*\n",
    "\n",
    "Pour le moment, on va prendre comme acquis un certain nombre de variables\n",
    "explicatives (les *features*) et les hyperparamètres du modèle"
   ]
  },
  {
   "cell_type": "markdown",
   "id": "569a2a3e",
   "metadata": {},
   "source": [
    "## Définition des ensembles train/test\n",
    "\n",
    "Nous allons donc nous restreindre à un sous-ensemble de colonnes dans un\n",
    "premier temps :\n"
   ]
  },
  {
   "cell_type": "code",
   "execution_count": null,
   "id": "cd2fc27b",
   "metadata": {},
   "outputs": [],
   "source": [
    "xvars = ['dep', 'Nombre de lots', 'Code type local', 'surface', 'Nombre pieces principales']\n",
    "xvars2 = pd.Series(xvars).str.replace(\" \",\"_\").tolist()\n",
    "\n",
    "mutations2 = mutations.loc[:, xvars + [\"Valeur fonciere\"]]"
   ]
  },
  {
   "cell_type": "markdown",
   "id": "6642c7ee",
   "metadata": {},
   "source": [
    "Nous allons également ne conserver que les transactions inférieures à 5 millions\n",
    "d'euros (on anticipe que celles ayant un montant supérieur sont des transactions\n",
    "exceptionnelles dont le mécanisme de fixation du prix diffère)\n"
   ]
  },
  {
   "cell_type": "code",
   "execution_count": null,
   "id": "872a6115",
   "metadata": {},
   "outputs": [],
   "source": [
    "mutations2  = mutations2.dropna()\n",
    "mutations2 = mutations2.loc[mutations2['Valeur fonciere'] < 5e6] #keep only values below 10 millions\n",
    "\n",
    "mutations2.columns = mutations2.columns.str.replace(\" \", \"_\")\n",
    "numeric_features = mutations2.columns[~mutations2.columns.isin(['dep','Code_type_local', 'confinement'])].tolist()\n",
    "categorical_features = ['dep','Code_type_local']"
   ]
  },
  {
   "cell_type": "markdown",
   "id": "9197304b",
   "metadata": {},
   "source": [
    "Au passage, nous avons abandonné la variable de code postal pour privilégier\n",
    "la commune afin de réduire la dimension de notre jeu de données. Si on voulait\n",
    "vraiment avoir un bon modèle, il faudrait faire autrement car le code postal\n",
    "est probablement un très bon prédicteur du prix d'un bien, une fois que\n",
    "les caractéristiques du bien sont contrôlées.\n",
    "\n",
    "Nous allons stratifier notre échantillonage de train/test par département\n",
    "afin de tenir compte, de manière minimale, de la géographie. \n",
    "Pour accélérer les calculs pour ce tutoriel, nous n'allons considérer que\n",
    "20% des transactions observées sur chaque département.\n"
   ]
  },
  {
   "cell_type": "code",
   "execution_count": null,
   "id": "681a87e6",
   "metadata": {
    "lines_to_next_cell": 2
   },
   "outputs": [],
   "source": [
    "from sklearn.model_selection import train_test_split\n",
    "\n",
    "mutations2 = mutations2.groupby('dep').sample(frac = 0.2, random_state = 123)\n",
    "\n",
    "X_train, X_test, y_train, y_test = train_test_split(mutations2[xvars2], mutations2[[\"Valeur_fonciere\"]].values.ravel(), test_size = 0.2, random_state = 0, stratify=mutations2[['dep']])"
   ]
  },
  {
   "cell_type": "markdown",
   "id": "d1515272",
   "metadata": {},
   "source": [
    "## Définition du premier pipeline\n",
    "\n",
    "Nous allons donc partir d'un *random forest* avec des valeurs d'hyperparamètres\n",
    "données. \n",
    "\n",
    "Les _random forest_ sont une méthode d'aggrégation[^2] d'arbres de décision. \n",
    "On calcule $K$ arbres de décision et en tire, par une méthode d'agrégation,\n",
    "une règle de décision moyenne qu'on va appliquer pour tirer une\n",
    "prédiction de nos données. \n",
    "\n",
    "[^2]: En _machine learning_ on retrouve un principe inspiré du\n",
    "_bootstrap_\n",
    "qui permet d'agréger un ensemble d'estimateurs en un estimateur _\"moyennisé\"_.\n",
    "Il s'agit du [*bagging*](https://en.wikipedia.org/wiki/Bootstrap_aggregating).\n",
    "En économétrie, le _bootstrap_ consiste à ré-estimer sur *K* sous-échantillons\n",
    "aléatoires des données un estimateur afin d'en tirer, par exemple, un intervalle\n",
    "de confiance empirique à 95%. Le principe du _bagging_ est le même. On ré-estime\n",
    "_K_ fois notre estimateur (par exemple un arbre de décision) et propose une \n",
    "règle d'agrégation pour en tirer une règle moyennisée et donc une prédiction. "
   ]
  },
  {
   "cell_type": "markdown",
   "id": "fef78a2c",
   "metadata": {},
   "source": [
    "![](https://upload.wikimedia.org/wikipedia/commons/7/76/Random_forest_diagram_complete.png)\n",
    "\n",
    "C'est un article de Léo Breiman (2001)[^3], statisticien à Berkeley, qui\n",
    "est à l'origine du succès des *random forests*. L'un des intérêts\n",
    "des *random forest* est qu'il existe des méthodes pour déterminer \n",
    "l'importance relative de chaque variable dans la prédiction. \n",
    "\n",
    "[^3]: Breiman L (2001). _\"Random Forests\". Machine Learning_. 45 (1): 5–32.\n",
    "\n",
    "Pour commencer, nous allons fixer la taille des arbres de décision avec\n",
    "l'hyperparamètre `max_depth = 2`. \n"
   ]
  },
  {
   "cell_type": "code",
   "execution_count": null,
   "id": "fe3cd865",
   "metadata": {},
   "outputs": [],
   "source": [
    "from sklearn.ensemble import RandomForestRegressor\n",
    "regr = RandomForestRegressor(max_depth=2, random_state=123)"
   ]
  },
  {
   "cell_type": "markdown",
   "id": "d6e052b3",
   "metadata": {},
   "source": [
    "Notre _pipeline_ va intégrer les étapes suivantes:\n",
    "\n",
    "1. __Preprocessing__:\n",
    "    + Les variables numériques vont être standardisées avec un `StandardScaler`.\n",
    "Pour cela, nous allons utiliser la liste `numeric_features` définie précédemment.\n",
    "    + Les variables catégorielles vont être explosées avec un *one hot encoding*\n",
    "(méthode `OneHotEncoder` de `scikit`)\n",
    "Pour cela, nous allons utiliser la liste `categorical_features`\n",
    "2. __Random forest__: nous allons appliquer l'estimateur `regr` défini plus haut\n",
    "\n",
    "J'ajoute en commentaire un exemple de comment s'introduirait une imputation\n",
    "de valeurs manquantes. La version 1.0 de `scikit` facilite l'intégration\n",
    "d'étapes complexes dans les pipelines[^4]. Si vous ne utilisez une \n",
    "version antérieure à la 1.0 de `scikit`, vous pouvez vous rendre dans\n",
    "la section [Annexe](#annexe) pour avoir des exemples de définition alternative\n",
    "(attention cependant, vous ne pourrez récupérer le nom des *features*\n",
    "transformées comme ici, ce qui peut pénaliser l'analyse d'importance\n",
    "de variables)\n",
    "\n",
    "[^4]: Voir ce [*thread stackoverflow*](https://stackoverflow.com/questions/54646709/sklearn-pipeline-get-feature-names-after-onehotencode-in-columntransformer)\n",
    "\n"
   ]
  },
  {
   "cell_type": "code",
   "execution_count": null,
   "id": "b5f4af95",
   "metadata": {
    "lines_to_next_cell": 2
   },
   "outputs": [],
   "source": [
    "from sklearn.pipeline import make_pipeline\n",
    "from sklearn.preprocessing import StandardScaler, OneHotEncoder\n",
    "from sklearn.pipeline import Pipeline\n",
    "from sklearn.compose import make_column_transformer\n",
    "\n",
    "numeric_pipeline = make_pipeline(\n",
    "  #SimpleImputer(),\n",
    "  StandardScaler()\n",
    ")\n",
    "transformer = make_column_transformer(\n",
    "    (numeric_pipeline, numeric_features[:-1]),\n",
    "    (OneHotEncoder(sparse = False, handle_unknown = \"ignore\"), categorical_features))\n",
    "pipe = Pipeline(steps=[('preprocessor', transformer),\n",
    "                      ('randomforest', regr)])"
   ]
  },
  {
   "cell_type": "markdown",
   "id": "0a528272",
   "metadata": {},
   "source": [
    "Nous avons construit ce pipeline sous forme de couches successives. La couche\n",
    "`randomforest` prendra automatiquement le résultat de la couche `preprocessor`\n",
    "en _input_. La couche `features` permet d'introduire de manière relativement\n",
    "simple (quand on a les bonnes méthodes) la complexité du *preprocessing*\n",
    "sur données réelles dont les types divergent. \n",
    "\n",
    "On peut visualiser le graphe et ainsi se représenter la manière dont\n",
    "ce _pipeline_ opère:\n"
   ]
  },
  {
   "cell_type": "code",
   "execution_count": null,
   "id": "4bf20485",
   "metadata": {
    "lines_to_next_cell": 2
   },
   "outputs": [],
   "source": [
    "pipe"
   ]
  },
  {
   "cell_type": "markdown",
   "id": "7d4cf05a",
   "metadata": {},
   "source": [
    "<style>#sk-36efa990-01ae-4094-ade8-9c32aad8eecc {color: black;background-color: white;}#sk-36efa990-01ae-4094-ade8-9c32aad8eecc pre{padding: 0;}#sk-36efa990-01ae-4094-ade8-9c32aad8eecc div.sk-toggleable {background-color: white;}#sk-36efa990-01ae-4094-ade8-9c32aad8eecc label.sk-toggleable__label {cursor: pointer;display: block;width: 100%;margin-bottom: 0;padding: 0.3em;box-sizing: border-box;text-align: center;}#sk-36efa990-01ae-4094-ade8-9c32aad8eecc div.sk-toggleable__content {max-height: 0;max-width: 0;overflow: hidden;text-align: left;background-color: #f0f8ff;}#sk-36efa990-01ae-4094-ade8-9c32aad8eecc div.sk-toggleable__content pre {margin: 0.2em;color: black;border-radius: 0.25em;background-color: #f0f8ff;}#sk-36efa990-01ae-4094-ade8-9c32aad8eecc input.sk-toggleable__control:checked~div.sk-toggleable__content {max-height: 200px;max-width: 100%;overflow: auto;}#sk-36efa990-01ae-4094-ade8-9c32aad8eecc div.sk-estimator input.sk-toggleable__control:checked~label.sk-toggleable__label {background-color: #d4ebff;}#sk-36efa990-01ae-4094-ade8-9c32aad8eecc div.sk-label input.sk-toggleable__control:checked~label.sk-toggleable__label {background-color: #d4ebff;}#sk-36efa990-01ae-4094-ade8-9c32aad8eecc input.sk-hidden--visually {border: 0;clip: rect(1px 1px 1px 1px);clip: rect(1px, 1px, 1px, 1px);height: 1px;margin: -1px;overflow: hidden;padding: 0;position: absolute;width: 1px;}#sk-36efa990-01ae-4094-ade8-9c32aad8eecc div.sk-estimator {font-family: monospace;background-color: #f0f8ff;border: 1px dotted black;border-radius: 0.25em;box-sizing: border-box;margin-bottom: 0.5em;}#sk-36efa990-01ae-4094-ade8-9c32aad8eecc div.sk-estimator:hover {background-color: #d4ebff;}#sk-36efa990-01ae-4094-ade8-9c32aad8eecc div.sk-parallel-item::after {content: \"\";width: 100%;border-bottom: 1px solid gray;flex-grow: 1;}#sk-36efa990-01ae-4094-ade8-9c32aad8eecc div.sk-label:hover label.sk-toggleable__label {background-color: #d4ebff;}#sk-36efa990-01ae-4094-ade8-9c32aad8eecc div.sk-serial::before {content: \"\";position: absolute;border-left: 1px solid gray;box-sizing: border-box;top: 2em;bottom: 0;left: 50%;}#sk-36efa990-01ae-4094-ade8-9c32aad8eecc div.sk-serial {display: flex;flex-direction: column;align-items: center;background-color: white;padding-right: 0.2em;padding-left: 0.2em;}#sk-36efa990-01ae-4094-ade8-9c32aad8eecc div.sk-item {z-index: 1;}#sk-36efa990-01ae-4094-ade8-9c32aad8eecc div.sk-parallel {display: flex;align-items: stretch;justify-content: center;background-color: white;}#sk-36efa990-01ae-4094-ade8-9c32aad8eecc div.sk-parallel::before {content: \"\";position: absolute;border-left: 1px solid gray;box-sizing: border-box;top: 2em;bottom: 0;left: 50%;}#sk-36efa990-01ae-4094-ade8-9c32aad8eecc div.sk-parallel-item {display: flex;flex-direction: column;position: relative;background-color: white;}#sk-36efa990-01ae-4094-ade8-9c32aad8eecc div.sk-parallel-item:first-child::after {align-self: flex-end;width: 50%;}#sk-36efa990-01ae-4094-ade8-9c32aad8eecc div.sk-parallel-item:last-child::after {align-self: flex-start;width: 50%;}#sk-36efa990-01ae-4094-ade8-9c32aad8eecc div.sk-parallel-item:only-child::after {width: 0;}#sk-36efa990-01ae-4094-ade8-9c32aad8eecc div.sk-dashed-wrapped {border: 1px dashed gray;margin: 0 0.4em 0.5em 0.4em;box-sizing: border-box;padding-bottom: 0.4em;background-color: white;position: relative;}#sk-36efa990-01ae-4094-ade8-9c32aad8eecc div.sk-label label {font-family: monospace;font-weight: bold;background-color: white;display: inline-block;line-height: 1.2em;}#sk-36efa990-01ae-4094-ade8-9c32aad8eecc div.sk-label-container {position: relative;z-index: 2;text-align: center;}#sk-36efa990-01ae-4094-ade8-9c32aad8eecc div.sk-container {display: inline-block;position: relative;}</style><div id=\"sk-36efa990-01ae-4094-ade8-9c32aad8eecc\" class\"sk-top-container\"><div class=\"sk-container\"><div class=\"sk-item sk-dashed-wrapped\"><div class=\"sk-label-container\"><div class=\"sk-label sk-toggleable\"><input class=\"sk-toggleable__control sk-hidden--visually\" id=\"035a7e9c-edf8-4486-8ddd-f35b51735ea6\" type=\"checkbox\" ><label class=\"sk-toggleable__label\" for=\"035a7e9c-edf8-4486-8ddd-f35b51735ea6\">Pipeline</label><div class=\"sk-toggleable__content\"><pre>Pipeline(steps=[('preprocessor',\n",
    "                 ColumnTransformer(transformers=[('pipeline',\n",
    "                                                  Pipeline(steps=[('standardscaler',\n",
    "                                                                   StandardScaler())]),\n",
    "                                                  ['Nombre_de_lots', 'surface',\n",
    "                                                   'Nombre_pieces_principales']),\n",
    "                                                 ('onehotencoder',\n",
    "                                                  OneHotEncoder(handle_unknown='ignore',\n",
    "                                                                sparse=False),\n",
    "                                                  ['dep',\n",
    "                                                   'Code_type_local'])])),\n",
    "                ('randomforest',\n",
    "                 RandomForestRegressor(max_depth=2, random_state=123))])</pre></div></div></div><div class=\"sk-serial\"><div class=\"sk-item sk-dashed-wrapped\"><div class=\"sk-label-container\"><div class=\"sk-label sk-toggleable\"><input class=\"sk-toggleable__control sk-hidden--visually\" id=\"7e6617a2-54f8-4422-b3a2-54518900dee7\" type=\"checkbox\" ><label class=\"sk-toggleable__label\" for=\"7e6617a2-54f8-4422-b3a2-54518900dee7\">preprocessor: ColumnTransformer</label><div class=\"sk-toggleable__content\"><pre>ColumnTransformer(transformers=[('pipeline',\n",
    "                                 Pipeline(steps=[('standardscaler',\n",
    "                                                  StandardScaler())]),\n",
    "                                 ['Nombre_de_lots', 'surface',\n",
    "                                  'Nombre_pieces_principales']),\n",
    "                                ('onehotencoder',\n",
    "                                 OneHotEncoder(handle_unknown='ignore',\n",
    "                                               sparse=False),\n",
    "                                 ['dep', 'Code_type_local'])])</pre></div></div></div><div class=\"sk-parallel\"><div class=\"sk-parallel-item\"><div class=\"sk-item\"><div class=\"sk-label-container\"><div class=\"sk-label sk-toggleable\"><input class=\"sk-toggleable__control sk-hidden--visually\" id=\"e448e2ed-03a2-4e8a-8d8e-5c9dcac0946b\" type=\"checkbox\" ><label class=\"sk-toggleable__label\" for=\"e448e2ed-03a2-4e8a-8d8e-5c9dcac0946b\">pipeline</label><div class=\"sk-toggleable__content\"><pre>['Nombre_de_lots', 'surface', 'Nombre_pieces_principales']</pre></div></div></div><div class=\"sk-serial\"><div class=\"sk-item\"><div class=\"sk-serial\"><div class=\"sk-item\"><div class=\"sk-estimator sk-toggleable\"><input class=\"sk-toggleable__control sk-hidden--visually\" id=\"f041ecfd-5525-4c25-bafb-545e248cc551\" type=\"checkbox\" ><label class=\"sk-toggleable__label\" for=\"f041ecfd-5525-4c25-bafb-545e248cc551\">StandardScaler</label><div class=\"sk-toggleable__content\"><pre>StandardScaler()</pre></div></div></div></div></div></div></div></div><div class=\"sk-parallel-item\"><div class=\"sk-item\"><div class=\"sk-label-container\"><div class=\"sk-label sk-toggleable\"><input class=\"sk-toggleable__control sk-hidden--visually\" id=\"d26a2b67-dbd9-40e6-8d5c-22ee6ce73bfa\" type=\"checkbox\" ><label class=\"sk-toggleable__label\" for=\"d26a2b67-dbd9-40e6-8d5c-22ee6ce73bfa\">onehotencoder</label><div class=\"sk-toggleable__content\"><pre>['dep', 'Code_type_local']</pre></div></div></div><div class=\"sk-serial\"><div class=\"sk-item\"><div class=\"sk-estimator sk-toggleable\"><input class=\"sk-toggleable__control sk-hidden--visually\" id=\"79446179-de9e-48c1-b575-11f809f5943c\" type=\"checkbox\" ><label class=\"sk-toggleable__label\" for=\"79446179-de9e-48c1-b575-11f809f5943c\">OneHotEncoder</label><div class=\"sk-toggleable__content\"><pre>OneHotEncoder(handle_unknown='ignore', sparse=False)</pre></div></div></div></div></div></div></div></div><div class=\"sk-item\"><div class=\"sk-estimator sk-toggleable\"><input class=\"sk-toggleable__control sk-hidden--visually\" id=\"7ebbe2a9-a25f-462b-bcce-e008df553cfe\" type=\"checkbox\" ><label class=\"sk-toggleable__label\" for=\"7ebbe2a9-a25f-462b-bcce-e008df553cfe\">RandomForestRegressor</label><div class=\"sk-toggleable__content\"><pre>RandomForestRegressor(max_depth=2, random_state=123)</pre></div></div></div></div></div></div></div>\n"
   ]
  },
  {
   "cell_type": "markdown",
   "id": "ba857b94",
   "metadata": {},
   "source": [
    "Maintenant, il ne reste plus qu'à estimer notre modèle sur l'ensemble\n",
    "d'entraînement. C'est très simple avec un _pipeline_ : il suffit d'utiliser\n",
    "de mettre à jour le _pipeline_ avec la méthode `fit`\n"
   ]
  },
  {
   "cell_type": "code",
   "execution_count": null,
   "id": "9acdb9d6",
   "metadata": {},
   "outputs": [],
   "source": [
    "pipe.fit(X_train, y_train)"
   ]
  },
  {
   "cell_type": "markdown",
   "id": "d941ffa8",
   "metadata": {},
   "source": [
    "On peut utiliser le nom du pipeline en conjonction de certaines méthodes\n",
    "pour appliquer cette étape sur un jeu de données pour visualiser\n",
    "l'effet de la transformation.\n",
    "\n",
    "Par exemple, pour visualiser le jeu de données transformé avant l'étape\n",
    "d'estimation, on peut \n",
    "faire\n"
   ]
  },
  {
   "cell_type": "code",
   "execution_count": null,
   "id": "065c5e60",
   "metadata": {},
   "outputs": [],
   "source": [
    "pipe[:-1].fit_transform(X_train)"
   ]
  },
  {
   "cell_type": "markdown",
   "id": "32afa761",
   "metadata": {},
   "source": [
    "```\n",
    "## array([[ 0.36941323,  0.46064357, -0.66948062, ...,  1.        ,\n",
    "##          0.        ,  0.        ],\n",
    "##        [-0.70954963, -0.27593152,  0.29189439, ...,  0.        ,\n",
    "##          0.        ,  0.        ],\n",
    "##        [ 0.36941323, -0.27593152, -1.15016813, ...,  0.        ,\n",
    "##          1.        ,  0.        ],\n",
    "##        ...,\n",
    "##        [-0.70954963, -0.27593152,  0.7725819 , ...,  0.        ,\n",
    "##          0.        ,  0.        ],\n",
    "##        [ 0.36941323, -0.27593152,  0.7725819 , ...,  1.        ,\n",
    "##          0.        ,  0.        ],\n",
    "##        [-0.70954963, -0.27593152, -1.15016813, ...,  0.        ,\n",
    "##          0.        ,  1.        ]])\n",
    "```\n",
    "\n",
    "De même, si on veut récupérer le nom des *features* en sortie du preprocessing,\n",
    "on utilisera la méthode `.get_feature_names_out` qui est bien pratique\n",
    "(c'est cette méthode qui est plus complexe à appeler dans les versions `scikit`\n",
    "ancienne qui nous a fait privilégier le *pipeline* ci-dessous)\n"
   ]
  },
  {
   "cell_type": "code",
   "execution_count": null,
   "id": "0b86793d",
   "metadata": {},
   "outputs": [],
   "source": [
    "features_names=pipe['preprocessor'].get_feature_names_out()\n",
    "features_names"
   ]
  },
  {
   "cell_type": "markdown",
   "id": "20cb7c0a",
   "metadata": {},
   "source": [
    "```\n",
    "## array(['pipeline__Nombre_de_lots', 'pipeline__surface',\n",
    "##        'pipeline__Nombre_pieces_principales', 'onehotencoder__dep_10',\n",
    "##        'onehotencoder__dep_11', 'onehotencoder__dep_12',\n",
    "##        'onehotencoder__dep_13', 'onehotencoder__dep_14',\n",
    "##        'onehotencoder__dep_15', 'onehotencoder__dep_16',\n",
    "##        'onehotencoder__dep_17', 'onehotencoder__dep_18',\n",
    "##        'onehotencoder__dep_19', 'onehotencoder__dep_20',\n",
    "##        'onehotencoder__dep_21', 'onehotencoder__dep_22',\n",
    "##        'onehotencoder__dep_23', 'onehotencoder__dep_24',\n",
    "##        'onehotencoder__dep_25', 'onehotencoder__dep_26',\n",
    "##        'onehotencoder__dep_27', 'onehotencoder__dep_28',\n",
    "##        'onehotencoder__dep_29', 'onehotencoder__dep_30',\n",
    "##        'onehotencoder__dep_31', 'onehotencoder__dep_32',\n",
    "##        'onehotencoder__dep_33', 'onehotencoder__dep_34',\n",
    "##        'onehotencoder__dep_35', 'onehotencoder__dep_36',\n",
    "##        'onehotencoder__dep_37', 'onehotencoder__dep_38',\n",
    "##        'onehotencoder__dep_39', 'onehotencoder__dep_40',\n",
    "##        'onehotencoder__dep_41', 'onehotencoder__dep_42',\n",
    "##        'onehotencoder__dep_43', 'onehotencoder__dep_44',\n",
    "##        'onehotencoder__dep_45', 'onehotencoder__dep_46',\n",
    "##        'onehotencoder__dep_47', 'onehotencoder__dep_48',\n",
    "##        'onehotencoder__dep_49', 'onehotencoder__dep_50',\n",
    "##        'onehotencoder__dep_51', 'onehotencoder__dep_52',\n",
    "##        'onehotencoder__dep_53', 'onehotencoder__dep_54',\n",
    "##        'onehotencoder__dep_55', 'onehotencoder__dep_56',\n",
    "##        'onehotencoder__dep_57', 'onehotencoder__dep_58',\n",
    "##        'onehotencoder__dep_59', 'onehotencoder__dep_60',\n",
    "##        'onehotencoder__dep_61', 'onehotencoder__dep_62',\n",
    "##        'onehotencoder__dep_63', 'onehotencoder__dep_64',\n",
    "##        'onehotencoder__dep_65', 'onehotencoder__dep_66',\n",
    "##        'onehotencoder__dep_67', 'onehotencoder__dep_68',\n",
    "##        'onehotencoder__dep_69', 'onehotencoder__dep_70',\n",
    "##        'onehotencoder__dep_71', 'onehotencoder__dep_72',\n",
    "##        'onehotencoder__dep_73', 'onehotencoder__dep_74',\n",
    "##        'onehotencoder__dep_75', 'onehotencoder__dep_76',\n",
    "##        'onehotencoder__dep_77', 'onehotencoder__dep_78',\n",
    "##        'onehotencoder__dep_79', 'onehotencoder__dep_80',\n",
    "##        'onehotencoder__dep_81', 'onehotencoder__dep_82',\n",
    "##        'onehotencoder__dep_83', 'onehotencoder__dep_84',\n",
    "##        'onehotencoder__dep_85', 'onehotencoder__dep_86',\n",
    "##        'onehotencoder__dep_87', 'onehotencoder__dep_88',\n",
    "##        'onehotencoder__dep_89', 'onehotencoder__dep_90',\n",
    "##        'onehotencoder__dep_91', 'onehotencoder__dep_92',\n",
    "##        'onehotencoder__dep_93', 'onehotencoder__dep_94',\n",
    "##        'onehotencoder__dep_95', 'onehotencoder__dep_96',\n",
    "##        'onehotencoder__dep_97', 'onehotencoder__dep_98',\n",
    "##        'onehotencoder__dep_na', 'onehotencoder__Code_type_local_1.0',\n",
    "##        'onehotencoder__Code_type_local_2.0',\n",
    "##        'onehotencoder__Code_type_local_3.0',\n",
    "##        'onehotencoder__Code_type_local_4.0'], dtype=object)\n",
    "```"
   ]
  },
  {
   "cell_type": "markdown",
   "id": "dca95e39",
   "metadata": {},
   "source": [
    "## _Variable importance_\n",
    "\n",
    "On ne va représenter, parmi notre ensemble important de colonnes, que celles\n",
    "qui ont une importance non nulle. Grâce à notre vecteur `features_names`,\n",
    "on va pouvoir facilement afficher le nom des colonnes en question (et donc\n",
    "comprendre les *features* déterminantes)\n",
    "\n",
    "L'importance va être définie à partir \n",
    "de la mesure d'impureté[^3]\n",
    "\n",
    "[^3]: Extrait de [ce blog](https://mljar.com/blog/feature-importance-in-random-forest/):\n",
    "Gini importance (or mean decrease impurity), which is computed from the Random Forest structure. Let’s look how the Random Forest is constructed. It is a set of Decision Trees. Each Decision Tree is a set of internal nodes and leaves. In the internal node, the selected feature is used to make decision how to divide the data set into two separate sets with similars responses within. The features for internal nodes are selected with some criterion, which for classification tasks can be gini impurity or infomation gain, and for regression is variance reduction. We can measure how each feature decrease the impurity of the split (the feature with highest decrease is selected for internal node). For each feature we can collect how on average it decreases the impurity. The average over all trees in the forest is the measure of the feature importance. \n"
   ]
  },
  {
   "cell_type": "code",
   "execution_count": null,
   "id": "a0b1dbdc",
   "metadata": {
    "lines_to_next_cell": 0
   },
   "outputs": [],
   "source": [
    "importances = pipe['randomforest'].feature_importances_\n",
    "std = np.std([tree.feature_importances_ for tree in pipe['randomforest'].estimators_], axis=0)\n",
    "\n",
    "forest_importances = pd.Series(importances[importances>0], index=features_names[importances>0])\n",
    "\n",
    "fig, ax = plt.subplots()\n",
    "forest_importances.plot.bar(yerr=std[importances>0], ax=ax)\n",
    "ax.set_title(\"Feature importances using MDI\")\n",
    "ax.set_ylabel(\"Mean decrease in impurity\")\n",
    "fig.tight_layout()"
   ]
  },
  {
   "cell_type": "markdown",
   "id": "3cf45f37",
   "metadata": {},
   "source": [
    "\n"
   ]
  },
  {
   "cell_type": "markdown",
   "id": "28e8fae8",
   "metadata": {},
   "source": [
    "```r\n",
    "knitr::include_graphics(\"varimportance.png\")\n",
    "```"
   ]
  },
  {
   "cell_type": "markdown",
   "id": "b3e71ec0",
   "metadata": {},
   "source": [
    "On voit donc que deux variables déterminantes sont des effets fixes\n",
    "géographiques (qui servent à ajuster de la différence de prix entre\n",
    "Paris et les Hauts de Seine et le reste de la France), une autre variable\n",
    "est un effet fixe type de bien. Les deux variables qui pourraient introduire\n",
    "de la variabilité, à savoir la surface et, dans une moindre mesure, le \n",
    "nombre de lots, ont une importance moindre. "
   ]
  },
  {
   "cell_type": "markdown",
   "id": "b9d954ee",
   "metadata": {},
   "source": [
    "Idéalement, on utiliserait `yellowbrick` pour représenter l'importance des variables\n",
    "Mais en l'état actuel du *pipeline* on a beaucoup de variables dont le poids\n",
    "est nul qui viennent polluer la visualisation. Vous pouvez \n",
    "consulter la\n",
    "[documentation de `yellowbrick` sur ce sujet](https://www.scikit-yb.org/en/latest/api/model_selection/importances.html)"
   ]
  },
  {
   "cell_type": "markdown",
   "id": "e2e90033",
   "metadata": {},
   "source": [
    "## Prédiction\n",
    "\n",
    "L'analyse de l'importance de variables permet de mieux comprendre\n",
    "le fonctionnement interne des *random forests*. \n",
    "\n",
    "On obtient un modèle dont les performances sont les suivantes:\n"
   ]
  },
  {
   "cell_type": "code",
   "execution_count": null,
   "id": "49df87fd",
   "metadata": {},
   "outputs": [],
   "source": [
    "from sklearn.metrics import mean_squared_error\n",
    "\n",
    "\n",
    "compar = pd.DataFrame([y_test, pipe.predict(X_test)]).T\n",
    "compar.columns = ['obs','pred']\n",
    "compar['diff'] = compar.obs - compar.pred\n",
    "\n",
    "print(\"Le RMSE sur le jeu de test est {:,}\".format(\n",
    "   int(np.sqrt(mean_squared_error(y_test, pipe.predict(X_test))))\n",
    "))"
   ]
  },
  {
   "cell_type": "markdown",
   "id": "3ef4843e",
   "metadata": {},
   "source": [
    "```\n",
    "## Le RMSE sur le jeu de test est 464,464\n",
    "```\n",
    "\n",
    "Le RMSE n'est pas très bon. Pour comprendre pourquoi, représentons\n",
    "notre nuage de point des valeurs observées et prédites:\n"
   ]
  },
  {
   "cell_type": "code",
   "execution_count": null,
   "id": "3412078d",
   "metadata": {},
   "outputs": [],
   "source": [
    "g = sns.relplot(data = compar, x = 'obs', y = 'pred', color = \"royalblue\", alpha = 0.8)\n",
    "g.set(ylim=(0, 2e6), xlim=(0, 2e6),\n",
    "      title='Evaluating estimation error on test sample',\n",
    "      xlabel='Observed values',\n",
    "      ylabel='Predicted values')"
   ]
  },
  {
   "cell_type": "code",
   "execution_count": null,
   "id": "f75593d8",
   "metadata": {},
   "outputs": [],
   "source": [
    "g.ax.axline(xy1=(0, 0), slope=1, color=\"red\", dashes=(5, 2))\n",
    "plt.savefig('predict1.png', bbox_inches='tight')"
   ]
  },
  {
   "cell_type": "markdown",
   "id": "391edc77",
   "metadata": {},
   "source": [
    "C'est très décevant. La prédiction a trop peu de variabilité pour capturer\n",
    "la variance des prix observée. Cela vient du fait que les variables\n",
    "ayant de l'importance dans la prédiction sont principalement des effets fixes,\n",
    "qui ne permettent donc qu'une variabilité limitée.\n"
   ]
  },
  {
   "cell_type": "markdown",
   "id": "e6d5700f",
   "metadata": {},
   "source": [
    "# Recherche des hyperparamètres optimaux avec une validation croisée\n",
    "\n",
    "On détecte que le premier modèle n'est pas très bon et ne nous aidera\n",
    "pas vraiment à évaluer de manière fiable la maison de nos rêves. \n",
    "\n",
    "On va essayer de voir si notre modèle ne serait pas meilleur avec des\n",
    "hyperparamètres plus adaptés. Après tout, nous avons choisi par défaut\n",
    "la profondeur de l'arbre mais c'était un choix au doigt mouillé. \n",
    "\n",
    "Quels sont les hyperparamètres qu'on peut essayer d'optimiser ? \n"
   ]
  },
  {
   "cell_type": "code",
   "execution_count": null,
   "id": "1c3958b8",
   "metadata": {},
   "outputs": [],
   "source": [
    "pipe['randomforest'].get_params()"
   ]
  },
  {
   "cell_type": "markdown",
   "id": "0e76e6fb",
   "metadata": {},
   "source": [
    "```\n",
    "## {'bootstrap': True, 'ccp_alpha': 0.0, 'criterion': 'squared_error', 'max_depth': 2, 'max_features': 'auto', 'max_leaf_nodes': None, 'max_samples': None, 'min_impurity_decrease': 0.0, 'min_samples_leaf': 1, 'min_samples_split': 2, 'min_weight_fraction_leaf': 0.0, 'n_estimators': 100, 'n_jobs': None, 'oob_score': False, 'random_state': 123, 'verbose': 0, 'warm_start': False}\n",
    "```\n",
    "\n",
    "Un [détour par la documentation](https://scikit-learn.org/stable/modules/generated/sklearn.ensemble.RandomForestRegressor.html)\n",
    "nous aide à comprendre ceux sur lesquels on va jouer. Par exemple, il serait\n",
    "absurde de jouer sur le paramètre `random_state` qui est la racine du générateur\n",
    "pseudo-aléatoire. \n",
    "\n",
    "Comme l'objectif est de se concentrer sur la démarche plus qu'essayer de\n",
    "trouver un bon modèle,\n",
    "nous allons également réduire la taille des données pour accélérer\n",
    "les calculs\n"
   ]
  },
  {
   "cell_type": "code",
   "execution_count": null,
   "id": "3dd9019b",
   "metadata": {
    "lines_to_next_cell": 2
   },
   "outputs": [],
   "source": [
    "mutations2 = mutations2.groupby('dep').sample(frac = 0.5, random_state = 123)\n",
    "\n",
    "X_train, X_test, y_train, y_test = train_test_split(mutations2[xvars2], mutations2[[\"Valeur_fonciere\"]].values.ravel(), test_size = 0.2, random_state = 0, stratify=mutations2[['dep']])\n",
    "\n",
    "X = pd.concat((X_train, X_test), axis=0)\n",
    "Y = np.concatenate([y_train,y_test])"
   ]
  },
  {
   "cell_type": "markdown",
   "id": "775def67",
   "metadata": {},
   "source": [
    "Nous allons nous contenter de jouer sur les paramètres:\n",
    "\n",
    "* `n_estimators`: Le nombre d'arbres de décision que notre forêt contient\n",
    "* `max_depth`: La profondeur de chaque arbre\n",
    "\n",
    "Il existe plusieurs manières de faire de la validation croisée. Nous allons ici\n",
    "utiliser la *grid search* qui consiste à estimer et tester le modèle sur chaque\n",
    "combinaison d'une grille de paramètres et sélectionner le couple de valeurs\n",
    "des hyperparamètres amenant à la meilleure prédiction. Par défaut, `scikit`\n",
    "effectue une _5-fold cross validation_. Nous n'allons pas changer\n",
    "ce comportement. \n",
    "\n",
    "Comme expliqué précédemment, les paramètres s'appelent sous la forme\n",
    "`<step>__<parameter_name>`\n",
    "\n",
    "La validation croisée pouvant être très consommatrice de temps, nous \n",
    "n'allons l'effectuer que sur un nombre réduit de valeurs de notre grille.\n",
    "Il est possible de passer la liste des valeurs à passer au crible sous\n",
    "forme de liste (comme pour l'argument `max_depth` ci-dessous) ou\n",
    "sous forme d'`array` (comme pour l'argument `n_estimators`) ce qui est\n",
    "souvent pratique pour générer un criblage d'un intervalle avec `np.linspace`.\n"
   ]
  },
  {
   "cell_type": "code",
   "execution_count": null,
   "id": "437c9e65",
   "metadata": {},
   "outputs": [],
   "source": [
    "import numpy as np\n",
    "from sklearn.model_selection import GridSearchCV\n",
    "\n",
    "import time\n",
    "\n",
    "start_time = time.time()\n",
    "# Parameters of pipelines can be set using ‘__’ separated parameter names:\n",
    "param_grid = {\n",
    "    \"randomforest__n_estimators\": np.linspace(5,25, 5).astype(int),\n",
    "    \"randomforest__max_depth\": [2,4]\n",
    "}\n",
    "grid_search = GridSearchCV(pipe, param_grid=param_grid)\n",
    "grid_search.fit(X, Y)"
   ]
  },
  {
   "cell_type": "code",
   "execution_count": null,
   "id": "00dd7c5e",
   "metadata": {
    "lines_to_next_cell": 2
   },
   "outputs": [],
   "source": [
    "end_time = time.time()"
   ]
  },
  {
   "cell_type": "code",
   "execution_count": null,
   "id": "78561e54",
   "metadata": {
    "lines_to_next_cell": 2
   },
   "outputs": [],
   "source": [
    "print(\"Elapsed time : {} seconds\", int(end_time - start_time))"
   ]
  },
  {
   "cell_type": "markdown",
   "id": "8d7732aa",
   "metadata": {},
   "source": [
    "On peut récupérer les paramètres optimaux avec la méthode `best_params_`:\n"
   ]
  },
  {
   "cell_type": "code",
   "execution_count": null,
   "id": "522efb40",
   "metadata": {},
   "outputs": [],
   "source": [
    "grid_search.best_params_"
   ]
  },
  {
   "cell_type": "markdown",
   "id": "eedec897",
   "metadata": {},
   "source": [
    "```\n",
    "## {'randomforest__max_depth': 4, 'randomforest__n_estimators': 5}\n",
    "```\n",
    "\n",
    "On pourra aussi ré-utiliser le modèle optimal de la manière suivante:\n"
   ]
  },
  {
   "cell_type": "code",
   "execution_count": null,
   "id": "3f9d0f42",
   "metadata": {
    "lines_to_next_cell": 0
   },
   "outputs": [],
   "source": [
    "grid_search.best_estimator_"
   ]
  },
  {
   "cell_type": "markdown",
   "id": "d1b1cb43",
   "metadata": {},
   "source": []
  },
  {
   "cell_type": "markdown",
   "id": "4e3e7f14",
   "metadata": {},
   "source": [
    "<style>#sk-840e6c53-665a-4452-8936-4426db0ea21f {color: black;background-color: white;}#sk-840e6c53-665a-4452-8936-4426db0ea21f pre{padding: 0;}#sk-840e6c53-665a-4452-8936-4426db0ea21f div.sk-toggleable {background-color: white;}#sk-840e6c53-665a-4452-8936-4426db0ea21f label.sk-toggleable__label {cursor: pointer;display: block;width: 100%;margin-bottom: 0;padding: 0.3em;box-sizing: border-box;text-align: center;}#sk-840e6c53-665a-4452-8936-4426db0ea21f div.sk-toggleable__content {max-height: 0;max-width: 0;overflow: hidden;text-align: left;background-color: #f0f8ff;}#sk-840e6c53-665a-4452-8936-4426db0ea21f div.sk-toggleable__content pre {margin: 0.2em;color: black;border-radius: 0.25em;background-color: #f0f8ff;}#sk-840e6c53-665a-4452-8936-4426db0ea21f input.sk-toggleable__control:checked~div.sk-toggleable__content {max-height: 200px;max-width: 100%;overflow: auto;}#sk-840e6c53-665a-4452-8936-4426db0ea21f div.sk-estimator input.sk-toggleable__control:checked~label.sk-toggleable__label {background-color: #d4ebff;}#sk-840e6c53-665a-4452-8936-4426db0ea21f div.sk-label input.sk-toggleable__control:checked~label.sk-toggleable__label {background-color: #d4ebff;}#sk-840e6c53-665a-4452-8936-4426db0ea21f input.sk-hidden--visually {border: 0;clip: rect(1px 1px 1px 1px);clip: rect(1px, 1px, 1px, 1px);height: 1px;margin: -1px;overflow: hidden;padding: 0;position: absolute;width: 1px;}#sk-840e6c53-665a-4452-8936-4426db0ea21f div.sk-estimator {font-family: monospace;background-color: #f0f8ff;border: 1px dotted black;border-radius: 0.25em;box-sizing: border-box;margin-bottom: 0.5em;}#sk-840e6c53-665a-4452-8936-4426db0ea21f div.sk-estimator:hover {background-color: #d4ebff;}#sk-840e6c53-665a-4452-8936-4426db0ea21f div.sk-parallel-item::after {content: \"\";width: 100%;border-bottom: 1px solid gray;flex-grow: 1;}#sk-840e6c53-665a-4452-8936-4426db0ea21f div.sk-label:hover label.sk-toggleable__label {background-color: #d4ebff;}#sk-840e6c53-665a-4452-8936-4426db0ea21f div.sk-serial::before {content: \"\";position: absolute;border-left: 1px solid gray;box-sizing: border-box;top: 2em;bottom: 0;left: 50%;}#sk-840e6c53-665a-4452-8936-4426db0ea21f div.sk-serial {display: flex;flex-direction: column;align-items: center;background-color: white;padding-right: 0.2em;padding-left: 0.2em;}#sk-840e6c53-665a-4452-8936-4426db0ea21f div.sk-item {z-index: 1;}#sk-840e6c53-665a-4452-8936-4426db0ea21f div.sk-parallel {display: flex;align-items: stretch;justify-content: center;background-color: white;}#sk-840e6c53-665a-4452-8936-4426db0ea21f div.sk-parallel::before {content: \"\";position: absolute;border-left: 1px solid gray;box-sizing: border-box;top: 2em;bottom: 0;left: 50%;}#sk-840e6c53-665a-4452-8936-4426db0ea21f div.sk-parallel-item {display: flex;flex-direction: column;position: relative;background-color: white;}#sk-840e6c53-665a-4452-8936-4426db0ea21f div.sk-parallel-item:first-child::after {align-self: flex-end;width: 50%;}#sk-840e6c53-665a-4452-8936-4426db0ea21f div.sk-parallel-item:last-child::after {align-self: flex-start;width: 50%;}#sk-840e6c53-665a-4452-8936-4426db0ea21f div.sk-parallel-item:only-child::after {width: 0;}#sk-840e6c53-665a-4452-8936-4426db0ea21f div.sk-dashed-wrapped {border: 1px dashed gray;margin: 0 0.4em 0.5em 0.4em;box-sizing: border-box;padding-bottom: 0.4em;background-color: white;position: relative;}#sk-840e6c53-665a-4452-8936-4426db0ea21f div.sk-label label {font-family: monospace;font-weight: bold;background-color: white;display: inline-block;line-height: 1.2em;}#sk-840e6c53-665a-4452-8936-4426db0ea21f div.sk-label-container {position: relative;z-index: 2;text-align: center;}#sk-840e6c53-665a-4452-8936-4426db0ea21f div.sk-container {display: inline-block;position: relative;}</style><div id=\"sk-840e6c53-665a-4452-8936-4426db0ea21f\" class\"sk-top-container\"><div class=\"sk-container\"><div class=\"sk-item sk-dashed-wrapped\"><div class=\"sk-label-container\"><div class=\"sk-label sk-toggleable\"><input class=\"sk-toggleable__control sk-hidden--visually\" id=\"6a8b368e-7064-4c24-abcb-0a84137225a7\" type=\"checkbox\" ><label class=\"sk-toggleable__label\" for=\"6a8b368e-7064-4c24-abcb-0a84137225a7\">Pipeline</label><div class=\"sk-toggleable__content\"><pre>Pipeline(steps=[('preprocessor',\n",
    "                 ColumnTransformer(transformers=[('pipeline',\n",
    "                                                  Pipeline(steps=[('standardscaler',\n",
    "                                                                   StandardScaler())]),\n",
    "                                                  ['Nombre_de_lots', 'surface',\n",
    "                                                   'Nombre_pieces_principales']),\n",
    "                                                 ('onehotencoder',\n",
    "                                                  OneHotEncoder(handle_unknown='ignore',\n",
    "                                                                sparse=False),\n",
    "                                                  ['dep',\n",
    "                                                   'Code_type_local'])])),\n",
    "                ('randomforest',\n",
    "                 RandomForestRegressor(max_depth=4, n_estimators=5,\n",
    "                                       random_state=123))])</pre></div></div></div><div class=\"sk-serial\"><div class=\"sk-item sk-dashed-wrapped\"><div class=\"sk-label-container\"><div class=\"sk-label sk-toggleable\"><input class=\"sk-toggleable__control sk-hidden--visually\" id=\"90d47fd1-f8c7-4eb5-81dc-a2217e6fa0be\" type=\"checkbox\" ><label class=\"sk-toggleable__label\" for=\"90d47fd1-f8c7-4eb5-81dc-a2217e6fa0be\">preprocessor: ColumnTransformer</label><div class=\"sk-toggleable__content\"><pre>ColumnTransformer(transformers=[('pipeline',\n",
    "                                 Pipeline(steps=[('standardscaler',\n",
    "                                                  StandardScaler())]),\n",
    "                                 ['Nombre_de_lots', 'surface',\n",
    "                                  'Nombre_pieces_principales']),\n",
    "                                ('onehotencoder',\n",
    "                                 OneHotEncoder(handle_unknown='ignore',\n",
    "                                               sparse=False),\n",
    "                                 ['dep', 'Code_type_local'])])</pre></div></div></div><div class=\"sk-parallel\"><div class=\"sk-parallel-item\"><div class=\"sk-item\"><div class=\"sk-label-container\"><div class=\"sk-label sk-toggleable\"><input class=\"sk-toggleable__control sk-hidden--visually\" id=\"8ccbc705-4b47-4c63-a892-d45e06d880fa\" type=\"checkbox\" ><label class=\"sk-toggleable__label\" for=\"8ccbc705-4b47-4c63-a892-d45e06d880fa\">pipeline</label><div class=\"sk-toggleable__content\"><pre>['Nombre_de_lots', 'surface', 'Nombre_pieces_principales']</pre></div></div></div><div class=\"sk-serial\"><div class=\"sk-item\"><div class=\"sk-serial\"><div class=\"sk-item\"><div class=\"sk-estimator sk-toggleable\"><input class=\"sk-toggleable__control sk-hidden--visually\" id=\"77d058b7-b9f9-4cf3-9f13-1176adf4feaa\" type=\"checkbox\" ><label class=\"sk-toggleable__label\" for=\"77d058b7-b9f9-4cf3-9f13-1176adf4feaa\">StandardScaler</label><div class=\"sk-toggleable__content\"><pre>StandardScaler()</pre></div></div></div></div></div></div></div></div><div class=\"sk-parallel-item\"><div class=\"sk-item\"><div class=\"sk-label-container\"><div class=\"sk-label sk-toggleable\"><input class=\"sk-toggleable__control sk-hidden--visually\" id=\"7b7a1686-fc17-4cad-83eb-6bf9c3464a4d\" type=\"checkbox\" ><label class=\"sk-toggleable__label\" for=\"7b7a1686-fc17-4cad-83eb-6bf9c3464a4d\">onehotencoder</label><div class=\"sk-toggleable__content\"><pre>['dep', 'Code_type_local']</pre></div></div></div><div class=\"sk-serial\"><div class=\"sk-item\"><div class=\"sk-estimator sk-toggleable\"><input class=\"sk-toggleable__control sk-hidden--visually\" id=\"c30aa2c3-b904-47d1-9670-6aec48c4e4e8\" type=\"checkbox\" ><label class=\"sk-toggleable__label\" for=\"c30aa2c3-b904-47d1-9670-6aec48c4e4e8\">OneHotEncoder</label><div class=\"sk-toggleable__content\"><pre>OneHotEncoder(handle_unknown='ignore', sparse=False)</pre></div></div></div></div></div></div></div></div><div class=\"sk-item\"><div class=\"sk-estimator sk-toggleable\"><input class=\"sk-toggleable__control sk-hidden--visually\" id=\"4da3e5bc-5bda-48f3-9d74-3fcf839d0f64\" type=\"checkbox\" ><label class=\"sk-toggleable__label\" for=\"4da3e5bc-5bda-48f3-9d74-3fcf839d0f64\">RandomForestRegressor</label><div class=\"sk-toggleable__content\"><pre>RandomForestRegressor(max_depth=4, n_estimators=5, random_state=123)</pre></div></div></div></div></div></div></div>"
   ]
  },
  {
   "cell_type": "markdown",
   "id": "37453024",
   "metadata": {},
   "source": [
    "Toutes les performances sur les ensembles d'échantillons et de test sur la grille\n",
    "d'hyperparamètres sont disponibles dans l'attribut:\n"
   ]
  },
  {
   "cell_type": "code",
   "execution_count": null,
   "id": "aa2df7d1",
   "metadata": {},
   "outputs": [],
   "source": [
    "perf_random_forest = pd.DataFrame(grid_search.cv_results_)"
   ]
  },
  {
   "cell_type": "markdown",
   "id": "563bbf16",
   "metadata": {},
   "source": [
    "Regardons les résultats moyens pour chaque valeur des hyperparamètres:\n"
   ]
  },
  {
   "cell_type": "code",
   "execution_count": null,
   "id": "b077c243",
   "metadata": {},
   "outputs": [],
   "source": [
    "g = sns.lineplot(data = perf_random_forest,\n",
    "             x = \"param_randomforest__n_estimators\",\n",
    "             y = \"mean_test_score\",\n",
    "             hue = \"param_randomforest__max_depth\")\n",
    "g.set(xlabel='Number of estimators', ylabel='Mean score on test sample')"
   ]
  },
  {
   "cell_type": "code",
   "execution_count": null,
   "id": "e2076c08",
   "metadata": {
    "lines_to_next_cell": 0
   },
   "outputs": [],
   "source": [
    "plt.legend(bbox_to_anchor=(1.05, 1), loc='upper left', borderaxespad=0,\n",
    "           title='Depth of trees')\n",
    "plt.savefig(\"perfCV.png\")"
   ]
  },
  {
   "cell_type": "markdown",
   "id": "eefaae8f",
   "metadata": {},
   "source": []
  },
  {
   "cell_type": "markdown",
   "id": "c607caa7",
   "metadata": {},
   "source": [
    "Globalement, à profondeur d'arbre donnée, le nombre d'arbres change\n",
    "marginalement la performance (cela détériore\n",
    "la performance quand la profondeur est de 4, cela améliore quand\n",
    "on fixe la profondeur de 2).\n",
    "En revanche, changer la profondeur de l'arbre améliore la \n",
    "performance de manière plus marquée.\n",
    "\n",
    "Maintenant, il nous reste à re-entraîner le modèle avec ces nouveaux\n",
    "paramètres sur l'ensemble du jeu de *train* et l'évaluer sur l'ensemble\n",
    "du jeu de *test*:\n"
   ]
  },
  {
   "cell_type": "code",
   "execution_count": null,
   "id": "88e095f9",
   "metadata": {},
   "outputs": [],
   "source": [
    "pipe_optimal = grid_search.best_estimator_\n",
    "pipe_optimal.fit(X_train, y_train)"
   ]
  },
  {
   "cell_type": "code",
   "execution_count": null,
   "id": "70d74da3",
   "metadata": {},
   "outputs": [],
   "source": [
    "compar = pd.DataFrame([y_test, pipe_optimal.predict(X_test)]).T\n",
    "compar.columns = ['obs','pred']\n",
    "compar['diff'] = compar.obs - compar.pred"
   ]
  },
  {
   "cell_type": "markdown",
   "id": "b8f58c6d",
   "metadata": {},
   "source": [
    "On obtient le RMSE suivant:\n"
   ]
  },
  {
   "cell_type": "code",
   "execution_count": null,
   "id": "198d92f0",
   "metadata": {},
   "outputs": [],
   "source": [
    "print(\"Le RMSE sur le jeu de test est {:,}\".format(\n",
    "   int(np.sqrt(mean_squared_error(y_test, pipe_optimal.predict(X_test))))\n",
    "))"
   ]
  },
  {
   "cell_type": "markdown",
   "id": "327c5f97",
   "metadata": {},
   "source": [
    "```\n",
    "## Le RMSE sur le jeu de test est 449,713\n",
    "```\n",
    "\n",
    "Et si on regarde la qualité en prédiction:\n"
   ]
  },
  {
   "cell_type": "code",
   "execution_count": null,
   "id": "b03ada92",
   "metadata": {},
   "outputs": [],
   "source": [
    "g = sns.relplot(data = compar, x = 'obs', y = 'pred', color = \"royalblue\", alpha = 0.8)\n",
    "g.set(ylim=(0, 2e6), xlim=(0, 2e6),\n",
    "      title='Evaluating estimation error on test sample',\n",
    "      xlabel='Observed values',\n",
    "      ylabel='Predicted values')"
   ]
  },
  {
   "cell_type": "code",
   "execution_count": null,
   "id": "878cc0fe",
   "metadata": {
    "lines_to_next_cell": 2
   },
   "outputs": [],
   "source": [
    "g.ax.axline(xy1=(0, 0), slope=1, color=\"red\", dashes=(5, 2))\n",
    "\n",
    "plt.savefig(\"predCV.png\")"
   ]
  },
  {
   "cell_type": "markdown",
   "id": "dff369e9",
   "metadata": {},
   "source": [
    "Cela reste décevant pour plusieurs raisons:\n",
    "\n",
    "- nous n'avons pas fait d'étape de sélection de variable\n",
    "- nous n'avons pas chercher à déterminer si la variable à prédire la plus\n",
    "pertinente était le prix ou une transformation de celle-ci\n",
    "(par exemple le prix au $m^2$)\n",
    "\n",
    "## Remarque sur la performance\n",
    "\n",
    "Les estimations sont, par défaut, menées de manière séquentielle (l'une après\n",
    "l'autre). Nous sommes cependant face à un problème\n",
    "*embarassingly parallel*. \n",
    "Pour gagner en performance, il est recommandé d'utiliser l'argument\n",
    "`n_jobs=-1`."
   ]
  },
  {
   "cell_type": "markdown",
   "id": "e6527e94",
   "metadata": {},
   "source": [
    "## Remarque sur l'échantillonnage\n",
    "\n",
    "En l'état actuel de l'échantillonnage entre train et test au sein de la\n",
    "_grid search_,\n",
    "on est face à un problème de *data leaking* car l'échantillon\n",
    "n'est pas balancé entre nos classes (les départements).\n",
    "\n",
    "Certaines classes se \n",
    "retrouvent hors de l'échantillon d'estimation mais dans l'échantillon de prédiction.\n",
    "Autrement dit, notre *pipeline* de *preprocessing* se retrouve à devoir\n",
    "nettoyer des valeurs qu'il ne connaît pas. \n",
    "\n",
    "Nous avons choisi une option, dans notre *pipeline* pour se faciliter la vie\n",
    "à ce propos. Nous ne rencontrons pas d'erreur car nous avons utilisé l'option \n",
    "`handle_unknown = \"ignore\"` plutôt que \n",
    "`handle_unknown = \"error\"` (défaut) dans le _one hot encoding_. \n",
    "Cette option est dangereuse et n'est pas recommandée pour un vrai _pipeline_.\n",
    "De manière générale, il vaut mieux adopter une approche de\n",
    "programmation défensive en n'hésitant pas à renvoyer une erreur si la\n",
    "structure du *DataFrame* de prédiction diffère vraiment de celle du *DataFrame*\n",
    "d'entraînement."
   ]
  },
  {
   "cell_type": "markdown",
   "id": "70806634",
   "metadata": {},
   "source": [
    "Pour éviter cette erreur, il serait mieux de définir explicitement le schéma de\n",
    "validation croisée à mettre en oeuvre.\n",
    "Précédemment, nous avions utilisé un échantillonnage stratifié. \n",
    "Cela pourrait être fait ici avec\n",
    "la méthode `StratifiedGroupKFold` (plus d'éléments à venir)\n"
   ]
  },
  {
   "cell_type": "code",
   "execution_count": null,
   "id": "3005f1c4",
   "metadata": {},
   "outputs": [],
   "source": [
    "from sklearn.model_selection import StratifiedGroupKFold\n",
    "cv = StratifiedGroupKFold(n_splits=5)\n",
    "#grid_search.fit(pd.concat((X_train, X_test), axis=0), np.concatenate([y_train,y_test]), cv = cv, groups = pd.concat((X_train, X_test), axis=0)['dep'])"
   ]
  },
  {
   "cell_type": "markdown",
   "id": "8beadb31",
   "metadata": {},
   "source": [
    "# Eléments supplémentaires à venir\n",
    "\n",
    "Ce chapitre est amené à être enrichi des éléments suivants\n",
    "(cf. [#207](https://github.com/linogaliana/python-datascientist/issues/207))\n",
    "\n",
    "- [ ] Comparaison performance entre modèles grâce aux pipelines\n",
    "- [ ] Intégration d'une étape de sélection de variable dans un pipeline\n",
    "- [ ] `statsmodels` dans un pipeline\n",
    "- [ ] `Keras` dans un pipeline\n"
   ]
  },
  {
   "cell_type": "markdown",
   "id": "14d24953",
   "metadata": {},
   "source": [
    "# Annexes: pipelines alternatifs\n",
    "\n",
    "## Préalable : quelques méthodes pour gagner en flexibilité dans le preprocessing\n",
    "\n",
    "Notre *DataFrame* comporte des types hétérogènes de variables:\n",
    "\n",
    "* Des variables numériques dont les variances sont très hétérogènes\n",
    "* Des variables textuelles qui mériteraient un recodage sous forme numérique\n",
    "* Des variables discrètes dont les modalités devraient être éclatées (_one hot encoding_)\n",
    "\n",
    "Pour gagner en flexibilité, nous allons proposer certaines méthodes qui permettent\n",
    "d'appliquer les étapes de _preprocessing_ adéquates à un sous-ensemble de \n",
    "variables[^1]. Ces méthodes ne sont plus nécessaires dans les versions\n",
    "récentes de `scikit`.\n",
    "\n",
    "[^1]: Un certain nombre des éléments suivants ont été glannés, par ci par là,\n",
    "depuis `stackoverflow`.\n",
    "\n",
    "Pour cela, il convient d'adopter l'approche de la programmation orientée objet. \n",
    "On va créer des classes avec des méthodes `transform` et `fit_transform`\n",
    "qui pourront ainsi être intégrées directement dans les *pipelines*, comme s'il\n",
    "s'agissait de méthodes issues de `scikit`.\n",
    "\n",
    "La première généralise `LabelEncoder` à un sous-ensemble de colonnes:\n"
   ]
  },
  {
   "cell_type": "code",
   "execution_count": null,
   "id": "5ed443bf",
   "metadata": {},
   "outputs": [],
   "source": [
    "from sklearn.preprocessing import LabelEncoder, OneHotEncoder\n",
    "from sklearn.compose import ColumnTransformer\n",
    "\n",
    "class MultiColumnLabelEncoder:\n",
    "    def __init__(self,columns = None):\n",
    "        self.columns = columns # array of column names to encode\n",
    "\n",
    "    def fit(self,X,y=None):\n",
    "        return self # not relevant here\n",
    "\n",
    "    def transform(self,X):\n",
    "        '''\n",
    "        Transforms columns of X specified in self.columns using\n",
    "        LabelEncoder(). If no columns specified, transforms all\n",
    "        columns in X.\n",
    "        '''\n",
    "        output = X.copy()\n",
    "        if self.columns is not None:\n",
    "            for col in self.columns:\n",
    "                output[col] = LabelEncoder().fit_transform(output[col])\n",
    "        else:\n",
    "            for colname,col in output.iteritems():\n",
    "                output[colname] = LabelEncoder().fit_transform(col)\n",
    "        return output\n",
    "\n",
    "    def fit_transform(self,X,y=None):\n",
    "        return self.fit(X,y).transform(X)"
   ]
  },
  {
   "cell_type": "markdown",
   "id": "5a5d72f5",
   "metadata": {},
   "source": [
    "La seconde généralise cette fois le *one hot encoding* à un sous ensemble de \n",
    "fonctions\n"
   ]
  },
  {
   "cell_type": "code",
   "execution_count": null,
   "id": "56cb2d52",
   "metadata": {},
   "outputs": [],
   "source": [
    "class MultiColumnOneHotEncoder:\n",
    "    def __init__(self,columns = None):\n",
    "        self.columns = columns # array of column names to encode\n",
    "\n",
    "    def fit(self,X,y=None):\n",
    "        return self # not relevant here\n",
    "\n",
    "    def transform(self,X):\n",
    "        '''\n",
    "        Transforms columns of X specified in self.columns using\n",
    "        LabelEncoder(). If no columns specified, transforms all\n",
    "        columns in X.\n",
    "        '''\n",
    "        output = X.copy()\n",
    "        if self.columns is not None:\n",
    "            for col in self.columns:\n",
    "                output[col] = OneHotEncoder(sparse=False).fit_transform(output[col])\n",
    "        else:\n",
    "            for colname,col in output.iteritems():\n",
    "                output[colname] = OneHotEncoder(sparse=False).fit_transform(col)\n",
    "        return output\n",
    "\n",
    "    def fit_transform(self,X,y=None):\n",
    "        return self.fit(X,y).transform(X)"
   ]
  },
  {
   "cell_type": "markdown",
   "id": "dcdc687b",
   "metadata": {},
   "source": [
    "Les méthodes suivantes vont nous permettre de passer en arguments les noms\n",
    "de colonnes pour intégrer la récupération des bonnes colonnes de nos\n",
    "dataframes dans le pipeline:\n"
   ]
  },
  {
   "cell_type": "code",
   "execution_count": null,
   "id": "bc4a813c",
   "metadata": {},
   "outputs": [],
   "source": [
    "from sklearn.base import BaseEstimator, TransformerMixin, RegressorMixin\n",
    "\n",
    "class Columns(BaseEstimator, TransformerMixin):\n",
    "    def __init__(self, names=None):\n",
    "        self.names = names\n",
    "\n",
    "    def fit(self, X, y=None, **fit_params):\n",
    "        return self\n",
    "\n",
    "    def transform(self, X):\n",
    "        return X[self.names]\n",
    "\n",
    "class Normalize(BaseEstimator, TransformerMixin):\n",
    "    def __init__(self, func=None, func_param={}):\n",
    "        self.func = func\n",
    "        self.func_param = func_param\n",
    "\n",
    "    def transform(self, X):\n",
    "        if self.func != None:\n",
    "            return self.func(X, **self.func_param)\n",
    "        else:\n",
    "            return X\n",
    "\n",
    "    def fit(self, X, y=None, **fit_params):\n",
    "        return self"
   ]
  },
  {
   "cell_type": "markdown",
   "id": "845c3a44",
   "metadata": {},
   "source": [
    "Enfin, on va créer une méthode intermédiaire sous forme de *hack*\n",
    "(elle prend une matrice en entrée et renvoie la même matrice) \n",
    "pour\n",
    "pouvoir facilement récupérer notre matrice de *feature* afin de vérifier\n",
    "ses caractéristiques (notamment le nombre de colonnes disponibles):\n"
   ]
  },
  {
   "cell_type": "code",
   "execution_count": null,
   "id": "12774a07",
   "metadata": {
    "lines_to_next_cell": 0
   },
   "outputs": [],
   "source": [
    "class Collect(BaseEstimator, TransformerMixin):\n",
    "\n",
    "    def transform(self, X):\n",
    "        #print(X.shape)\n",
    "        #self.shape = shape\n",
    "        # what other output you want\n",
    "        return X\n",
    "\n",
    "    def fit(self, X, y=None, **fit_params):\n",
    "        return self"
   ]
  },
  {
   "cell_type": "markdown",
   "id": "939e5c8c",
   "metadata": {},
   "source": [
    "\n"
   ]
  },
  {
   "cell_type": "code",
   "execution_count": null,
   "id": "6399d72a",
   "metadata": {
    "lines_to_next_cell": 2
   },
   "outputs": [],
   "source": [
    "from sklearn.pipeline import make_pipeline, FeatureUnion\n",
    "from sklearn.preprocessing import StandardScaler, LabelEncoder, OneHotEncoder\n",
    "from sklearn.pipeline import Pipeline\n",
    "\n",
    "pipe2 = Pipeline([\n",
    "    (\"features\", FeatureUnion([\n",
    "        ('numeric', make_pipeline(Columns(names=numeric_features[:-1]),StandardScaler())),\n",
    "        ('categorical', make_pipeline(Columns(names=categorical_features),OneHotEncoder(sparse=False)))\n",
    "    ])),\n",
    "    ('identity', Collect()),\n",
    "    ('randomforest', regr)\n",
    "])"
   ]
  },
  {
   "cell_type": "markdown",
   "id": "542f20fc",
   "metadata": {},
   "source": [
    "<style>#sk-99966282-bda9-4df5-b3c2-ed7d95988d7b {color: black;background-color: white;}#sk-99966282-bda9-4df5-b3c2-ed7d95988d7b pre{padding: 0;}#sk-99966282-bda9-4df5-b3c2-ed7d95988d7b div.sk-toggleable {background-color: white;}#sk-99966282-bda9-4df5-b3c2-ed7d95988d7b label.sk-toggleable__label {cursor: pointer;display: block;width: 100%;margin-bottom: 0;padding: 0.3em;box-sizing: border-box;text-align: center;}#sk-99966282-bda9-4df5-b3c2-ed7d95988d7b div.sk-toggleable__content {max-height: 0;max-width: 0;overflow: hidden;text-align: left;background-color: #f0f8ff;}#sk-99966282-bda9-4df5-b3c2-ed7d95988d7b div.sk-toggleable__content pre {margin: 0.2em;color: black;border-radius: 0.25em;background-color: #f0f8ff;}#sk-99966282-bda9-4df5-b3c2-ed7d95988d7b input.sk-toggleable__control:checked~div.sk-toggleable__content {max-height: 200px;max-width: 100%;overflow: auto;}#sk-99966282-bda9-4df5-b3c2-ed7d95988d7b div.sk-estimator input.sk-toggleable__control:checked~label.sk-toggleable__label {background-color: #d4ebff;}#sk-99966282-bda9-4df5-b3c2-ed7d95988d7b div.sk-label input.sk-toggleable__control:checked~label.sk-toggleable__label {background-color: #d4ebff;}#sk-99966282-bda9-4df5-b3c2-ed7d95988d7b input.sk-hidden--visually {border: 0;clip: rect(1px 1px 1px 1px);clip: rect(1px, 1px, 1px, 1px);height: 1px;margin: -1px;overflow: hidden;padding: 0;position: absolute;width: 1px;}#sk-99966282-bda9-4df5-b3c2-ed7d95988d7b div.sk-estimator {font-family: monospace;background-color: #f0f8ff;border: 1px dotted black;border-radius: 0.25em;box-sizing: border-box;margin-bottom: 0.5em;}#sk-99966282-bda9-4df5-b3c2-ed7d95988d7b div.sk-estimator:hover {background-color: #d4ebff;}#sk-99966282-bda9-4df5-b3c2-ed7d95988d7b div.sk-parallel-item::after {content: \"\";width: 100%;border-bottom: 1px solid gray;flex-grow: 1;}#sk-99966282-bda9-4df5-b3c2-ed7d95988d7b div.sk-label:hover label.sk-toggleable__label {background-color: #d4ebff;}#sk-99966282-bda9-4df5-b3c2-ed7d95988d7b div.sk-serial::before {content: \"\";position: absolute;border-left: 1px solid gray;box-sizing: border-box;top: 2em;bottom: 0;left: 50%;}#sk-99966282-bda9-4df5-b3c2-ed7d95988d7b div.sk-serial {display: flex;flex-direction: column;align-items: center;background-color: white;padding-right: 0.2em;padding-left: 0.2em;}#sk-99966282-bda9-4df5-b3c2-ed7d95988d7b div.sk-item {z-index: 1;}#sk-99966282-bda9-4df5-b3c2-ed7d95988d7b div.sk-parallel {display: flex;align-items: stretch;justify-content: center;background-color: white;}#sk-99966282-bda9-4df5-b3c2-ed7d95988d7b div.sk-parallel::before {content: \"\";position: absolute;border-left: 1px solid gray;box-sizing: border-box;top: 2em;bottom: 0;left: 50%;}#sk-99966282-bda9-4df5-b3c2-ed7d95988d7b div.sk-parallel-item {display: flex;flex-direction: column;position: relative;background-color: white;}#sk-99966282-bda9-4df5-b3c2-ed7d95988d7b div.sk-parallel-item:first-child::after {align-self: flex-end;width: 50%;}#sk-99966282-bda9-4df5-b3c2-ed7d95988d7b div.sk-parallel-item:last-child::after {align-self: flex-start;width: 50%;}#sk-99966282-bda9-4df5-b3c2-ed7d95988d7b div.sk-parallel-item:only-child::after {width: 0;}#sk-99966282-bda9-4df5-b3c2-ed7d95988d7b div.sk-dashed-wrapped {border: 1px dashed gray;margin: 0 0.4em 0.5em 0.4em;box-sizing: border-box;padding-bottom: 0.4em;background-color: white;position: relative;}#sk-99966282-bda9-4df5-b3c2-ed7d95988d7b div.sk-label label {font-family: monospace;font-weight: bold;background-color: white;display: inline-block;line-height: 1.2em;}#sk-99966282-bda9-4df5-b3c2-ed7d95988d7b div.sk-label-container {position: relative;z-index: 2;text-align: center;}#sk-99966282-bda9-4df5-b3c2-ed7d95988d7b div.sk-container {display: inline-block;position: relative;}</style><div id=\"sk-99966282-bda9-4df5-b3c2-ed7d95988d7b\" class\"sk-top-container\"><div class=\"sk-container\"><div class=\"sk-item sk-dashed-wrapped\"><div class=\"sk-label-container\"><div class=\"sk-label sk-toggleable\"><input class=\"sk-toggleable__control sk-hidden--visually\" id=\"50123582-6056-4db3-979a-e81c12eaf42c\" type=\"checkbox\" ><label class=\"sk-toggleable__label\" for=\"50123582-6056-4db3-979a-e81c12eaf42c\">Pipeline</label><div class=\"sk-toggleable__content\"><pre>Pipeline(steps=[('features',\n",
    "                 FeatureUnion(transformer_list=[('numeric',\n",
    "                                                 Pipeline(steps=[('columns',\n",
    "                                                                  Columns(names=['Nombre_de_lots',\n",
    "                                                                                 'surface',\n",
    "                                                                                 'Nombre_pieces_principales'])),\n",
    "                                                                 ('standardscaler',\n",
    "                                                                  StandardScaler())])),\n",
    "                                                ('categorical',\n",
    "                                                 Pipeline(steps=[('columns',\n",
    "                                                                  Columns(names=['dep',\n",
    "                                                                                 'Code_type_local'])),\n",
    "                                                                 ('onehotencoder',\n",
    "                                                                  OneHotEncoder(sparse=False))]))])),\n",
    "                ('identity', Collect()),\n",
    "                ('randomforest',\n",
    "                 RandomForestRegressor(max_depth=2, random_state=123))])</pre></div></div></div><div class=\"sk-serial\"><div class=\"sk-item sk-dashed-wrapped\"><div class=\"sk-label-container\"><div class=\"sk-label sk-toggleable\"><input class=\"sk-toggleable__control sk-hidden--visually\" id=\"9d5cf021-22c3-4ac6-aeea-b99790f7192b\" type=\"checkbox\" ><label class=\"sk-toggleable__label\" for=\"9d5cf021-22c3-4ac6-aeea-b99790f7192b\">features: FeatureUnion</label><div class=\"sk-toggleable__content\"><pre>FeatureUnion(transformer_list=[('numeric',\n",
    "                                Pipeline(steps=[('columns',\n",
    "                                                 Columns(names=['Nombre_de_lots',\n",
    "                                                                'surface',\n",
    "                                                                'Nombre_pieces_principales'])),\n",
    "                                                ('standardscaler',\n",
    "                                                 StandardScaler())])),\n",
    "                               ('categorical',\n",
    "                                Pipeline(steps=[('columns',\n",
    "                                                 Columns(names=['dep',\n",
    "                                                                'Code_type_local'])),\n",
    "                                                ('onehotencoder',\n",
    "                                                 OneHotEncoder(sparse=False))]))])</pre></div></div></div><div class=\"sk-parallel\"><div class=\"sk-parallel-item\"><div class=\"sk-item\"><div class=\"sk-label-container\"><div class=\"sk-label sk-toggleable\"><label>numeric</label></div></div><div class=\"sk-serial\"><div class=\"sk-item\"><div class=\"sk-serial\"><div class=\"sk-item\"><div class=\"sk-estimator sk-toggleable\"><input class=\"sk-toggleable__control sk-hidden--visually\" id=\"ad1f7a58-60bc-479b-b8fe-cdaa7a1ba48b\" type=\"checkbox\" ><label class=\"sk-toggleable__label\" for=\"ad1f7a58-60bc-479b-b8fe-cdaa7a1ba48b\">Columns</label><div class=\"sk-toggleable__content\"><pre>Columns(names=['Nombre_de_lots', 'surface', 'Nombre_pieces_principales'])</pre></div></div></div><div class=\"sk-item\"><div class=\"sk-estimator sk-toggleable\"><input class=\"sk-toggleable__control sk-hidden--visually\" id=\"691a29ef-7e37-4937-9dc6-00e0f77349e3\" type=\"checkbox\" ><label class=\"sk-toggleable__label\" for=\"691a29ef-7e37-4937-9dc6-00e0f77349e3\">StandardScaler</label><div class=\"sk-toggleable__content\"><pre>StandardScaler()</pre></div></div></div></div></div></div></div></div><div class=\"sk-parallel-item\"><div class=\"sk-item\"><div class=\"sk-label-container\"><div class=\"sk-label sk-toggleable\"><label>categorical</label></div></div><div class=\"sk-serial\"><div class=\"sk-item\"><div class=\"sk-serial\"><div class=\"sk-item\"><div class=\"sk-estimator sk-toggleable\"><input class=\"sk-toggleable__control sk-hidden--visually\" id=\"d2e7820a-678c-4289-8e81-d01def35fd22\" type=\"checkbox\" ><label class=\"sk-toggleable__label\" for=\"d2e7820a-678c-4289-8e81-d01def35fd22\">Columns</label><div class=\"sk-toggleable__content\"><pre>Columns(names=['dep', 'Code_type_local'])</pre></div></div></div><div class=\"sk-item\"><div class=\"sk-estimator sk-toggleable\"><input class=\"sk-toggleable__control sk-hidden--visually\" id=\"7da19515-560c-4f95-8193-6a51d61f8d67\" type=\"checkbox\" ><label class=\"sk-toggleable__label\" for=\"7da19515-560c-4f95-8193-6a51d61f8d67\">OneHotEncoder</label><div class=\"sk-toggleable__content\"><pre>OneHotEncoder(sparse=False)</pre></div></div></div></div></div></div></div></div></div></div><div class=\"sk-item\"><div class=\"sk-estimator sk-toggleable\"><input class=\"sk-toggleable__control sk-hidden--visually\" id=\"f0bdc966-847a-41ec-bae8-dd5543085d40\" type=\"checkbox\" ><label class=\"sk-toggleable__label\" for=\"f0bdc966-847a-41ec-bae8-dd5543085d40\">Collect</label><div class=\"sk-toggleable__content\"><pre>Collect()</pre></div></div></div><div class=\"sk-item\"><div class=\"sk-estimator sk-toggleable\"><input class=\"sk-toggleable__control sk-hidden--visually\" id=\"d1a849b7-9967-49ea-bc3e-2421387a2d57\" type=\"checkbox\" ><label class=\"sk-toggleable__label\" for=\"d1a849b7-9967-49ea-bc3e-2421387a2d57\">RandomForestRegressor</label><div class=\"sk-toggleable__content\"><pre>RandomForestRegressor(max_depth=2, random_state=123)</pre></div></div></div></div></div></div></div>\n",
    "\n"
   ]
  },
  {
   "cell_type": "code",
   "execution_count": null,
   "id": "d6278f54",
   "metadata": {
    "lines_to_next_cell": 2
   },
   "outputs": [],
   "source": [
    "preprocessor = ColumnTransformer(\n",
    "    transformers=[\n",
    "        ('numeric', StandardScaler(), numeric_features[:-1]),\n",
    "        ('categorical', OneHotEncoder(sparse=False, handle_unknown = \"ignore\"), categorical_features)])\n",
    "\n",
    "pipe3 = Pipeline(steps=[('preprocessor', preprocessor),\n",
    "                      ('randomforest', regr)])"
   ]
  },
  {
   "cell_type": "markdown",
   "id": "2b772a10",
   "metadata": {},
   "source": [
    "<style>#sk-82718a97-6c4c-4467-886d-120a1efe6274 {color: black;background-color: white;}#sk-82718a97-6c4c-4467-886d-120a1efe6274 pre{padding: 0;}#sk-82718a97-6c4c-4467-886d-120a1efe6274 div.sk-toggleable {background-color: white;}#sk-82718a97-6c4c-4467-886d-120a1efe6274 label.sk-toggleable__label {cursor: pointer;display: block;width: 100%;margin-bottom: 0;padding: 0.3em;box-sizing: border-box;text-align: center;}#sk-82718a97-6c4c-4467-886d-120a1efe6274 div.sk-toggleable__content {max-height: 0;max-width: 0;overflow: hidden;text-align: left;background-color: #f0f8ff;}#sk-82718a97-6c4c-4467-886d-120a1efe6274 div.sk-toggleable__content pre {margin: 0.2em;color: black;border-radius: 0.25em;background-color: #f0f8ff;}#sk-82718a97-6c4c-4467-886d-120a1efe6274 input.sk-toggleable__control:checked~div.sk-toggleable__content {max-height: 200px;max-width: 100%;overflow: auto;}#sk-82718a97-6c4c-4467-886d-120a1efe6274 div.sk-estimator input.sk-toggleable__control:checked~label.sk-toggleable__label {background-color: #d4ebff;}#sk-82718a97-6c4c-4467-886d-120a1efe6274 div.sk-label input.sk-toggleable__control:checked~label.sk-toggleable__label {background-color: #d4ebff;}#sk-82718a97-6c4c-4467-886d-120a1efe6274 input.sk-hidden--visually {border: 0;clip: rect(1px 1px 1px 1px);clip: rect(1px, 1px, 1px, 1px);height: 1px;margin: -1px;overflow: hidden;padding: 0;position: absolute;width: 1px;}#sk-82718a97-6c4c-4467-886d-120a1efe6274 div.sk-estimator {font-family: monospace;background-color: #f0f8ff;border: 1px dotted black;border-radius: 0.25em;box-sizing: border-box;margin-bottom: 0.5em;}#sk-82718a97-6c4c-4467-886d-120a1efe6274 div.sk-estimator:hover {background-color: #d4ebff;}#sk-82718a97-6c4c-4467-886d-120a1efe6274 div.sk-parallel-item::after {content: \"\";width: 100%;border-bottom: 1px solid gray;flex-grow: 1;}#sk-82718a97-6c4c-4467-886d-120a1efe6274 div.sk-label:hover label.sk-toggleable__label {background-color: #d4ebff;}#sk-82718a97-6c4c-4467-886d-120a1efe6274 div.sk-serial::before {content: \"\";position: absolute;border-left: 1px solid gray;box-sizing: border-box;top: 2em;bottom: 0;left: 50%;}#sk-82718a97-6c4c-4467-886d-120a1efe6274 div.sk-serial {display: flex;flex-direction: column;align-items: center;background-color: white;padding-right: 0.2em;padding-left: 0.2em;}#sk-82718a97-6c4c-4467-886d-120a1efe6274 div.sk-item {z-index: 1;}#sk-82718a97-6c4c-4467-886d-120a1efe6274 div.sk-parallel {display: flex;align-items: stretch;justify-content: center;background-color: white;}#sk-82718a97-6c4c-4467-886d-120a1efe6274 div.sk-parallel::before {content: \"\";position: absolute;border-left: 1px solid gray;box-sizing: border-box;top: 2em;bottom: 0;left: 50%;}#sk-82718a97-6c4c-4467-886d-120a1efe6274 div.sk-parallel-item {display: flex;flex-direction: column;position: relative;background-color: white;}#sk-82718a97-6c4c-4467-886d-120a1efe6274 div.sk-parallel-item:first-child::after {align-self: flex-end;width: 50%;}#sk-82718a97-6c4c-4467-886d-120a1efe6274 div.sk-parallel-item:last-child::after {align-self: flex-start;width: 50%;}#sk-82718a97-6c4c-4467-886d-120a1efe6274 div.sk-parallel-item:only-child::after {width: 0;}#sk-82718a97-6c4c-4467-886d-120a1efe6274 div.sk-dashed-wrapped {border: 1px dashed gray;margin: 0 0.4em 0.5em 0.4em;box-sizing: border-box;padding-bottom: 0.4em;background-color: white;position: relative;}#sk-82718a97-6c4c-4467-886d-120a1efe6274 div.sk-label label {font-family: monospace;font-weight: bold;background-color: white;display: inline-block;line-height: 1.2em;}#sk-82718a97-6c4c-4467-886d-120a1efe6274 div.sk-label-container {position: relative;z-index: 2;text-align: center;}#sk-82718a97-6c4c-4467-886d-120a1efe6274 div.sk-container {display: inline-block;position: relative;}</style><div id=\"sk-82718a97-6c4c-4467-886d-120a1efe6274\" class\"sk-top-container\"><div class=\"sk-container\"><div class=\"sk-item sk-dashed-wrapped\"><div class=\"sk-label-container\"><div class=\"sk-label sk-toggleable\"><input class=\"sk-toggleable__control sk-hidden--visually\" id=\"3b09947d-e488-41f3-bd1f-b38c57da05b5\" type=\"checkbox\" ><label class=\"sk-toggleable__label\" for=\"3b09947d-e488-41f3-bd1f-b38c57da05b5\">Pipeline</label><div class=\"sk-toggleable__content\"><pre>Pipeline(steps=[('preprocessor',\n",
    "                 ColumnTransformer(transformers=[('numeric', StandardScaler(),\n",
    "                                                  ['Nombre_de_lots', 'surface',\n",
    "                                                   'Nombre_pieces_principales']),\n",
    "                                                 ('categorical',\n",
    "                                                  OneHotEncoder(handle_unknown='ignore',\n",
    "                                                                sparse=False),\n",
    "                                                  ['dep',\n",
    "                                                   'Code_type_local'])])),\n",
    "                ('randomforest',\n",
    "                 RandomForestRegressor(max_depth=2, random_state=123))])</pre></div></div></div><div class=\"sk-serial\"><div class=\"sk-item sk-dashed-wrapped\"><div class=\"sk-label-container\"><div class=\"sk-label sk-toggleable\"><input class=\"sk-toggleable__control sk-hidden--visually\" id=\"a76c7bbe-43d5-4b74-9cbc-541db968109b\" type=\"checkbox\" ><label class=\"sk-toggleable__label\" for=\"a76c7bbe-43d5-4b74-9cbc-541db968109b\">preprocessor: ColumnTransformer</label><div class=\"sk-toggleable__content\"><pre>ColumnTransformer(transformers=[('numeric', StandardScaler(),\n",
    "                                 ['Nombre_de_lots', 'surface',\n",
    "                                  'Nombre_pieces_principales']),\n",
    "                                ('categorical',\n",
    "                                 OneHotEncoder(handle_unknown='ignore',\n",
    "                                               sparse=False),\n",
    "                                 ['dep', 'Code_type_local'])])</pre></div></div></div><div class=\"sk-parallel\"><div class=\"sk-parallel-item\"><div class=\"sk-item\"><div class=\"sk-label-container\"><div class=\"sk-label sk-toggleable\"><input class=\"sk-toggleable__control sk-hidden--visually\" id=\"6fba7bec-632e-484f-8886-f4b114dd8007\" type=\"checkbox\" ><label class=\"sk-toggleable__label\" for=\"6fba7bec-632e-484f-8886-f4b114dd8007\">numeric</label><div class=\"sk-toggleable__content\"><pre>['Nombre_de_lots', 'surface', 'Nombre_pieces_principales']</pre></div></div></div><div class=\"sk-serial\"><div class=\"sk-item\"><div class=\"sk-estimator sk-toggleable\"><input class=\"sk-toggleable__control sk-hidden--visually\" id=\"b0aa962e-02f5-417e-9d89-d43962210ed8\" type=\"checkbox\" ><label class=\"sk-toggleable__label\" for=\"b0aa962e-02f5-417e-9d89-d43962210ed8\">StandardScaler</label><div class=\"sk-toggleable__content\"><pre>StandardScaler()</pre></div></div></div></div></div></div><div class=\"sk-parallel-item\"><div class=\"sk-item\"><div class=\"sk-label-container\"><div class=\"sk-label sk-toggleable\"><input class=\"sk-toggleable__control sk-hidden--visually\" id=\"2719c7f7-883c-4e0a-8caf-a01230bf4a40\" type=\"checkbox\" ><label class=\"sk-toggleable__label\" for=\"2719c7f7-883c-4e0a-8caf-a01230bf4a40\">categorical</label><div class=\"sk-toggleable__content\"><pre>['dep', 'Code_type_local']</pre></div></div></div><div class=\"sk-serial\"><div class=\"sk-item\"><div class=\"sk-estimator sk-toggleable\"><input class=\"sk-toggleable__control sk-hidden--visually\" id=\"4aa4eae8-f1f2-405a-aa5b-67c55264fda8\" type=\"checkbox\" ><label class=\"sk-toggleable__label\" for=\"4aa4eae8-f1f2-405a-aa5b-67c55264fda8\">OneHotEncoder</label><div class=\"sk-toggleable__content\"><pre>OneHotEncoder(handle_unknown='ignore', sparse=False)</pre></div></div></div></div></div></div></div></div><div class=\"sk-item\"><div class=\"sk-estimator sk-toggleable\"><input class=\"sk-toggleable__control sk-hidden--visually\" id=\"90f1662d-bb08-42a3-9393-a576e05c0e92\" type=\"checkbox\" ><label class=\"sk-toggleable__label\" for=\"90f1662d-bb08-42a3-9393-a576e05c0e92\">RandomForestRegressor</label><div class=\"sk-toggleable__content\"><pre>RandomForestRegressor(max_depth=2, random_state=123)</pre></div></div></div></div></div></div></div>"
   ]
  },
  {
   "cell_type": "markdown",
   "id": "ab868eda",
   "metadata": {},
   "source": [
    "# Références"
   ]
  },
  {
   "cell_type": "markdown",
   "id": "ed7ad47e",
   "metadata": {},
   "source": [
    "- Breiman L (2001). _\"Random Forests\". Machine Learning_. 45 (1): 5–32."
   ]
  }
 ],
 "metadata": {
  "kernelspec": {
   "display_name": "Python 3",
   "language": "python",
   "name": "python3"
  }
 },
 "nbformat": 4,
 "nbformat_minor": 5
}
