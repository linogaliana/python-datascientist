{
 "cells": [
  {
   "cell_type": "markdown",
   "id": "9395399e",
   "metadata": {},
   "source": [
    "#  Premier pas vers lindustrialisation avec les pipelines scikit\n",
    "\n",
    "\n"
   ]
  },
  {
   "cell_type": "markdown",
   "id": "48f62093",
   "metadata": {},
   "source": [
    "<a href=\"https://github.com/linogaliana/python-datascientist/blob/master//__w/python-datascientist/python-datascientist/notebooks/course/modelisation/6_pipeline.ipynb\" class=\"github\"><i class=\"fab fa-github\"></i></a>\n",
    "[![Download](https://img.shields.io/badge/Download-Notebook-important?logo=Jupyter)](https://downgit.github.io/#/home?url=https://github.com/linogaliana/python-datascientist/blob/master//__w/python-datascientist/python-datascientist/notebooks/course/modelisation/6_pipeline.ipynb)\n",
    "[![nbviewer](https://img.shields.io/badge/Visualize-nbviewer-blue?logo=Jupyter)](https://nbviewer.jupyter.org/github/linogaliana/python-datascientist/blob/master//__w/python-datascientist/python-datascientist/notebooks/course/modelisation/6_pipeline.ipynb)\n",
    "[![Onyxia](https://img.shields.io/badge/SSPcloud-Tester%20via%20SSP--cloud-informational&color=yellow?logo=Python)](https://datalab.sspcloud.fr/launcher/inseefrlab-helm-charts-datascience/jupyter?onyxia.friendlyName=«python-datascientist»&resources.requests.memory=«4Gi»&security.allowlist.enabled=false&init.personalInit=«https://raw.githubusercontent.com/linogaliana/python-datascientist/master/init_onyxia.sh»)\n",
    "<br>\n",
    "[![Binder](https://img.shields.io/badge/Launch-Binder-E66581.svg?logo=data:image/png;base64,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)](https://mybinder.org/v2/gh/linogaliana/python-datascientist/master?filepath=/__w/python-datascientist/python-datascientist/notebooks/course/modelisation/6_pipeline.ipynb)\n",
    "[![Open In Colab](https://colab.research.google.com/assets/colab-badge.svg)](http://colab.research.google.com/github/linogaliana/python-datascientist/blob/master//__w/python-datascientist/python-datascientist/notebooks/course/modelisation/6_pipeline.ipynb)\n",
    "[![githubdev](https://open.vscode.dev/badges/open-in-vscode.svg)](https://github.dev/linogaliana/python-datascientist//__w/python-datascientist/python-datascientist/notebooks/course/modelisation/6_pipeline.ipynb)\n",
    "\n",
    "# Pourquoi utiliser les pipelines ?\n",
    "\n",
    "Les chapitres précédents ont permis de montrer des bouts de code \n",
    "épars pour entraîner des modèles ou faire du _preprocessing_.\n",
    "Cette démarche est intéressante pour tâtonner mais risque d'être coûteuse\n",
    "ultérieurement s'il est nécessaire d'ajouter une étape de preprocessing \n",
    "ou de changer d'algorithme.\n",
    "\n",
    "Heureusement, `scikit` propose un excellent outil pour proposer un cadre\n",
    "général pour créer une chaîne de production *machine learning*. Il\n",
    "s'agit des\n",
    "[_pipelines_](https://scikit-learn.org/stable/modules/compose.html). \n",
    "Ils présentent de nombreux intérêts, parmi lesquels:\n",
    "\n",
    "* Ils sont très __pratiques__ et __lisibles__. On rentre des données en entrée, on n'appelle qu'une seule fois les méthodes `fit` et `predict` ce qui permet de s'assurer une gestion cohérente des transformations de variables, par exemple après l'appel d'un `StandardScaler`\n",
    "* La __modularité__ rend aisée la mise à jour d'un pipeline et renforce la capacité à le réutiliser\n",
    "* Ils permettent de facilement chercher les hyperparamètres d'un modèle. Sans *pipeline*, écrire un code qui fait du *tuning* d'hyperparamètres peut être pénible. Avec les *pipelines*, c'est une ligne de code. \n",
    "* La __sécurité__ d'être certain que les étapes de preprocessing sont bien appliquées aux jeux de données désirés avant l'estimation. "
   ]
  },
  {
   "cell_type": "markdown",
   "id": "4f54143a",
   "metadata": {},
   "source": [
    "Un des intérêts des *pipelines* scikit est qu'ils fonctionnent aussi avec\n",
    "des méthodes qui ne sont pas issues de `scikit`.\n",
    "\n",
    "Il est très \n",
    "facile d'introduire un modèle de réseau de neurone `Keras` dans\n",
    "un pipeline `scikit`.\n",
    "\n",
    "Pour introduire un modèle économétrique `statsmodels`\n",
    "c'est un peu plus coûteux mais nous allons proposer des exemples\n",
    "qui peuvent servir de modèle et qui montrent que c'est faisable \n",
    "sans trop de difficulté."
   ]
  },
  {
   "cell_type": "markdown",
   "id": "99e11ac7",
   "metadata": {},
   "source": [
    "Les éléments présents dans ce chapitre nécessitent une version assez récente\n",
    "de `scikit` (au moins la version 1.0). Pour vérifier la version, faire:\n"
   ]
  },
  {
   "cell_type": "code",
   "execution_count": null,
   "id": "3c792429",
   "metadata": {},
   "outputs": [],
   "source": [
    "import sklearn\n",
    "print(sklearn.__version__)"
   ]
  },
  {
   "cell_type": "markdown",
   "id": "501f1247",
   "metadata": {},
   "source": [
    "```\n",
    "## 1.0.1\n",
    "```\n",
    "\n",
    "Il faut également une version récente de `yellowbrick` pour éviter l'erreur\n",
    "suivante quand on utilise une version récente de `scikit` (ce que \n",
    "je recommande):\n",
    "\n",
    "> `ImportError: cannot import name 'safe_indexing' from 'sklearn.utils'`\n",
    "\n",
    "\n"
   ]
  },
  {
   "cell_type": "markdown",
   "id": "b3ff8bac",
   "metadata": {},
   "source": [
    "# Comment créer un *pipeline*\n",
    "\n",
    "Un *pipeline* est un enchaînement d'opérations qu'on code en enchainant\n",
    "des pairs *(clé, valeur)*:\n",
    "\n",
    "* la clé est le nom du pipeline, cela peut être utile lorsqu'on va\n",
    "représenter le *pipeline* sous forme de diagramme acyclique (visualisation DAG)\n",
    "ou qu'on veut afficher des informations sur une étape\n",
    "* la valeur représente la transformation à mettre en oeuvre dans le *pipeline*\n",
    "(c'est-à-dire, à l'exception de la dernière étape, \n",
    "mettre en oeuvre une méthode `transform` et éventuellement une\n",
    "transformation inverse).\n",
    "\n"
   ]
  },
  {
   "cell_type": "code",
   "execution_count": null,
   "id": "a78d1a32",
   "metadata": {
    "lines_to_next_cell": 0
   },
   "outputs": [],
   "source": [
    "from sklearn.pipeline import Pipeline\n",
    "from sklearn.svm import SVC\n",
    "from sklearn.decomposition import PCA\n",
    "\n",
    "estimators = [('reduce_dim', PCA()), ('clf', SVC())]\n",
    "pipe = Pipeline(estimators)"
   ]
  },
  {
   "cell_type": "markdown",
   "id": "7ec104f2",
   "metadata": {},
   "source": [
    "\n",
    "\n"
   ]
  },
  {
   "cell_type": "markdown",
   "id": "88dbb903",
   "metadata": {},
   "source": [
    "Il est pratique de visualiser un *pipeline* sous forme de DAG.\n",
    "Pour cela, dans un notebook, on utilise la configuration\n",
    "suivante:\n"
   ]
  },
  {
   "cell_type": "code",
   "execution_count": null,
   "id": "c11c9fd4",
   "metadata": {
    "lines_to_next_cell": 0
   },
   "outputs": [],
   "source": [
    "from sklearn import set_config\n",
    "set_config(display='diagram') "
   ]
  },
  {
   "cell_type": "markdown",
   "id": "5adbe752",
   "metadata": {},
   "source": [
    "\n"
   ]
  },
  {
   "cell_type": "code",
   "execution_count": null,
   "id": "d7822054",
   "metadata": {
    "lines_to_next_cell": 2
   },
   "outputs": [],
   "source": [
    "pipe"
   ]
  },
  {
   "cell_type": "markdown",
   "id": "88d1c4ac",
   "metadata": {},
   "source": [
    "<style>#sk-9acab8c7-76bf-4945-a76b-60554b1a3243 {color: black;background-color: white;}#sk-9acab8c7-76bf-4945-a76b-60554b1a3243 pre{padding: 0;}#sk-9acab8c7-76bf-4945-a76b-60554b1a3243 div.sk-toggleable {background-color: white;}#sk-9acab8c7-76bf-4945-a76b-60554b1a3243 label.sk-toggleable__label {cursor: pointer;display: block;width: 100%;margin-bottom: 0;padding: 0.3em;box-sizing: border-box;text-align: center;}#sk-9acab8c7-76bf-4945-a76b-60554b1a3243 div.sk-toggleable__content {max-height: 0;max-width: 0;overflow: hidden;text-align: left;background-color: #f0f8ff;}#sk-9acab8c7-76bf-4945-a76b-60554b1a3243 div.sk-toggleable__content pre {margin: 0.2em;color: black;border-radius: 0.25em;background-color: #f0f8ff;}#sk-9acab8c7-76bf-4945-a76b-60554b1a3243 input.sk-toggleable__control:checked~div.sk-toggleable__content {max-height: 200px;max-width: 100%;overflow: auto;}#sk-9acab8c7-76bf-4945-a76b-60554b1a3243 div.sk-estimator input.sk-toggleable__control:checked~label.sk-toggleable__label {background-color: #d4ebff;}#sk-9acab8c7-76bf-4945-a76b-60554b1a3243 div.sk-label input.sk-toggleable__control:checked~label.sk-toggleable__label {background-color: #d4ebff;}#sk-9acab8c7-76bf-4945-a76b-60554b1a3243 input.sk-hidden--visually {border: 0;clip: rect(1px 1px 1px 1px);clip: rect(1px, 1px, 1px, 1px);height: 1px;margin: -1px;overflow: hidden;padding: 0;position: absolute;width: 1px;}#sk-9acab8c7-76bf-4945-a76b-60554b1a3243 div.sk-estimator {font-family: monospace;background-color: #f0f8ff;border: 1px dotted black;border-radius: 0.25em;box-sizing: border-box;margin-bottom: 0.5em;}#sk-9acab8c7-76bf-4945-a76b-60554b1a3243 div.sk-estimator:hover {background-color: #d4ebff;}#sk-9acab8c7-76bf-4945-a76b-60554b1a3243 div.sk-parallel-item::after {content: \"\";width: 100%;border-bottom: 1px solid gray;flex-grow: 1;}#sk-9acab8c7-76bf-4945-a76b-60554b1a3243 div.sk-label:hover label.sk-toggleable__label {background-color: #d4ebff;}#sk-9acab8c7-76bf-4945-a76b-60554b1a3243 div.sk-serial::before {content: \"\";position: absolute;border-left: 1px solid gray;box-sizing: border-box;top: 2em;bottom: 0;left: 50%;}#sk-9acab8c7-76bf-4945-a76b-60554b1a3243 div.sk-serial {display: flex;flex-direction: column;align-items: center;background-color: white;padding-right: 0.2em;padding-left: 0.2em;}#sk-9acab8c7-76bf-4945-a76b-60554b1a3243 div.sk-item {z-index: 1;}#sk-9acab8c7-76bf-4945-a76b-60554b1a3243 div.sk-parallel {display: flex;align-items: stretch;justify-content: center;background-color: white;}#sk-9acab8c7-76bf-4945-a76b-60554b1a3243 div.sk-parallel::before {content: \"\";position: absolute;border-left: 1px solid gray;box-sizing: border-box;top: 2em;bottom: 0;left: 50%;}#sk-9acab8c7-76bf-4945-a76b-60554b1a3243 div.sk-parallel-item {display: flex;flex-direction: column;position: relative;background-color: white;}#sk-9acab8c7-76bf-4945-a76b-60554b1a3243 div.sk-parallel-item:first-child::after {align-self: flex-end;width: 50%;}#sk-9acab8c7-76bf-4945-a76b-60554b1a3243 div.sk-parallel-item:last-child::after {align-self: flex-start;width: 50%;}#sk-9acab8c7-76bf-4945-a76b-60554b1a3243 div.sk-parallel-item:only-child::after {width: 0;}#sk-9acab8c7-76bf-4945-a76b-60554b1a3243 div.sk-dashed-wrapped {border: 1px dashed gray;margin: 0 0.4em 0.5em 0.4em;box-sizing: border-box;padding-bottom: 0.4em;background-color: white;position: relative;}#sk-9acab8c7-76bf-4945-a76b-60554b1a3243 div.sk-label label {font-family: monospace;font-weight: bold;background-color: white;display: inline-block;line-height: 1.2em;}#sk-9acab8c7-76bf-4945-a76b-60554b1a3243 div.sk-label-container {position: relative;z-index: 2;text-align: center;}#sk-9acab8c7-76bf-4945-a76b-60554b1a3243 div.sk-container {display: inline-block;position: relative;}</style><div id=\"sk-9acab8c7-76bf-4945-a76b-60554b1a3243\" class\"sk-top-container\"><div class=\"sk-container\"><div class=\"sk-item sk-dashed-wrapped\"><div class=\"sk-label-container\"><div class=\"sk-label sk-toggleable\"><input class=\"sk-toggleable__control sk-hidden--visually\" id=\"0d125399-2e2d-4cd1-8670-1b3dabcdb605\" type=\"checkbox\" ><label class=\"sk-toggleable__label\" for=\"0d125399-2e2d-4cd1-8670-1b3dabcdb605\">Pipeline</label><div class=\"sk-toggleable__content\"><pre>Pipeline(steps=[('reduce_dim', PCA()), ('clf', SVC())])</pre></div></div></div><div class=\"sk-serial\"><div class=\"sk-item\"><div class=\"sk-estimator sk-toggleable\"><input class=\"sk-toggleable__control sk-hidden--visually\" id=\"f29c2aa8-4800-4fac-8914-b46a2473cbf6\" type=\"checkbox\" ><label class=\"sk-toggleable__label\" for=\"f29c2aa8-4800-4fac-8914-b46a2473cbf6\">PCA</label><div class=\"sk-toggleable__content\"><pre>PCA()</pre></div></div></div><div class=\"sk-item\"><div class=\"sk-estimator sk-toggleable\"><input class=\"sk-toggleable__control sk-hidden--visually\" id=\"9d92fa94-68ad-4187-ad22-8d86420bfce6\" type=\"checkbox\" ><label class=\"sk-toggleable__label\" for=\"9d92fa94-68ad-4187-ad22-8d86420bfce6\">SVC</label><div class=\"sk-toggleable__content\"><pre>SVC()</pre></div></div></div></div></div></div></div>"
   ]
  },
  {
   "cell_type": "markdown",
   "id": "5ec84479",
   "metadata": {},
   "source": [
    "Au sein d'une étape de *pipeline*, les paramètres d'un estimateur\n",
    "sont accessibles avec la notation `<estimator>__<parameter>`.\n",
    "Cela permet de fixer des valeurs pour les arguments des fonctions `scikit`\n",
    "qui sont appelées au sein d'un *pipeline*. \n",
    "C'est cela qui rendra l'approche des pipelines particulièrement utile\n",
    "pour la *grid search*:\n"
   ]
  },
  {
   "cell_type": "code",
   "execution_count": null,
   "id": "29285e6a",
   "metadata": {
    "lines_to_next_cell": 2
   },
   "outputs": [],
   "source": [
    "from sklearn.model_selection import GridSearchCV\n",
    "param_grid = {\"reduce_dim__n_components\":[2, 5, 10], \"clf__C\":[0.1, 10, 100]}\n",
    "grid_search = GridSearchCV(pipe, param_grid=param_grid)"
   ]
  },
  {
   "cell_type": "markdown",
   "id": "1f322cd2",
   "metadata": {},
   "source": [
    "<style>#sk-fab49eed-b58d-42c6-9c46-4c35d9547807 {color: black;background-color: white;}#sk-fab49eed-b58d-42c6-9c46-4c35d9547807 pre{padding: 0;}#sk-fab49eed-b58d-42c6-9c46-4c35d9547807 div.sk-toggleable {background-color: white;}#sk-fab49eed-b58d-42c6-9c46-4c35d9547807 label.sk-toggleable__label {cursor: pointer;display: block;width: 100%;margin-bottom: 0;padding: 0.3em;box-sizing: border-box;text-align: center;}#sk-fab49eed-b58d-42c6-9c46-4c35d9547807 div.sk-toggleable__content {max-height: 0;max-width: 0;overflow: hidden;text-align: left;background-color: #f0f8ff;}#sk-fab49eed-b58d-42c6-9c46-4c35d9547807 div.sk-toggleable__content pre {margin: 0.2em;color: black;border-radius: 0.25em;background-color: #f0f8ff;}#sk-fab49eed-b58d-42c6-9c46-4c35d9547807 input.sk-toggleable__control:checked~div.sk-toggleable__content {max-height: 200px;max-width: 100%;overflow: auto;}#sk-fab49eed-b58d-42c6-9c46-4c35d9547807 div.sk-estimator input.sk-toggleable__control:checked~label.sk-toggleable__label {background-color: #d4ebff;}#sk-fab49eed-b58d-42c6-9c46-4c35d9547807 div.sk-label input.sk-toggleable__control:checked~label.sk-toggleable__label {background-color: #d4ebff;}#sk-fab49eed-b58d-42c6-9c46-4c35d9547807 input.sk-hidden--visually {border: 0;clip: rect(1px 1px 1px 1px);clip: rect(1px, 1px, 1px, 1px);height: 1px;margin: -1px;overflow: hidden;padding: 0;position: absolute;width: 1px;}#sk-fab49eed-b58d-42c6-9c46-4c35d9547807 div.sk-estimator {font-family: monospace;background-color: #f0f8ff;border: 1px dotted black;border-radius: 0.25em;box-sizing: border-box;margin-bottom: 0.5em;}#sk-fab49eed-b58d-42c6-9c46-4c35d9547807 div.sk-estimator:hover {background-color: #d4ebff;}#sk-fab49eed-b58d-42c6-9c46-4c35d9547807 div.sk-parallel-item::after {content: \"\";width: 100%;border-bottom: 1px solid gray;flex-grow: 1;}#sk-fab49eed-b58d-42c6-9c46-4c35d9547807 div.sk-label:hover label.sk-toggleable__label {background-color: #d4ebff;}#sk-fab49eed-b58d-42c6-9c46-4c35d9547807 div.sk-serial::before {content: \"\";position: absolute;border-left: 1px solid gray;box-sizing: border-box;top: 2em;bottom: 0;left: 50%;}#sk-fab49eed-b58d-42c6-9c46-4c35d9547807 div.sk-serial {display: flex;flex-direction: column;align-items: center;background-color: white;padding-right: 0.2em;padding-left: 0.2em;}#sk-fab49eed-b58d-42c6-9c46-4c35d9547807 div.sk-item {z-index: 1;}#sk-fab49eed-b58d-42c6-9c46-4c35d9547807 div.sk-parallel {display: flex;align-items: stretch;justify-content: center;background-color: white;}#sk-fab49eed-b58d-42c6-9c46-4c35d9547807 div.sk-parallel::before {content: \"\";position: absolute;border-left: 1px solid gray;box-sizing: border-box;top: 2em;bottom: 0;left: 50%;}#sk-fab49eed-b58d-42c6-9c46-4c35d9547807 div.sk-parallel-item {display: flex;flex-direction: column;position: relative;background-color: white;}#sk-fab49eed-b58d-42c6-9c46-4c35d9547807 div.sk-parallel-item:first-child::after {align-self: flex-end;width: 50%;}#sk-fab49eed-b58d-42c6-9c46-4c35d9547807 div.sk-parallel-item:last-child::after {align-self: flex-start;width: 50%;}#sk-fab49eed-b58d-42c6-9c46-4c35d9547807 div.sk-parallel-item:only-child::after {width: 0;}#sk-fab49eed-b58d-42c6-9c46-4c35d9547807 div.sk-dashed-wrapped {border: 1px dashed gray;margin: 0 0.4em 0.5em 0.4em;box-sizing: border-box;padding-bottom: 0.4em;background-color: white;position: relative;}#sk-fab49eed-b58d-42c6-9c46-4c35d9547807 div.sk-label label {font-family: monospace;font-weight: bold;background-color: white;display: inline-block;line-height: 1.2em;}#sk-fab49eed-b58d-42c6-9c46-4c35d9547807 div.sk-label-container {position: relative;z-index: 2;text-align: center;}#sk-fab49eed-b58d-42c6-9c46-4c35d9547807 div.sk-container {display: inline-block;position: relative;}</style><div id=\"sk-fab49eed-b58d-42c6-9c46-4c35d9547807\" class\"sk-top-container\"><div class=\"sk-container\"><div class=\"sk-item sk-dashed-wrapped\"><div class=\"sk-label-container\"><div class=\"sk-label sk-toggleable\"><input class=\"sk-toggleable__control sk-hidden--visually\" id=\"ed182c42-8c25-4df2-8e6e-ce8f3f7fefb4\" type=\"checkbox\" ><label class=\"sk-toggleable__label\" for=\"ed182c42-8c25-4df2-8e6e-ce8f3f7fefb4\">GridSearchCV</label><div class=\"sk-toggleable__content\"><pre>GridSearchCV(estimator=Pipeline(steps=[('reduce_dim', PCA()), ('clf', SVC())]),\n",
    "             param_grid={'clf__C': [0.1, 10, 100],\n",
    "                         'reduce_dim__n_components': [2, 5, 10]})</pre></div></div></div><div class=\"sk-parallel\"><div class=\"sk-parallel-item\"><div class=\"sk-item\"><div class=\"sk-serial\"><div class=\"sk-item\"><div class=\"sk-serial\"><div class=\"sk-item\"><div class=\"sk-estimator sk-toggleable\"><input class=\"sk-toggleable__control sk-hidden--visually\" id=\"0286b83a-95b6-4dc3-bd0e-58f1dd247d38\" type=\"checkbox\" ><label class=\"sk-toggleable__label\" for=\"0286b83a-95b6-4dc3-bd0e-58f1dd247d38\">PCA</label><div class=\"sk-toggleable__content\"><pre>PCA()</pre></div></div></div><div class=\"sk-item\"><div class=\"sk-estimator sk-toggleable\"><input class=\"sk-toggleable__control sk-hidden--visually\" id=\"8273b402-f8ce-445b-8630-6d4956745b9c\" type=\"checkbox\" ><label class=\"sk-toggleable__label\" for=\"8273b402-f8ce-445b-8630-6d4956745b9c\">SVC</label><div class=\"sk-toggleable__content\"><pre>SVC()</pre></div></div></div></div></div></div></div></div></div></div></div></div>\n"
   ]
  },
  {
   "cell_type": "markdown",
   "id": "c3cd9f75",
   "metadata": {},
   "source": [
    "## Données utilisées\n",
    "\n",
    "Nous allons utiliser les données de transactions immobilières DVF pour chercher\n",
    "la meilleure manière de prédire, sachant les caractéristiques d'un bien, son\n",
    "prix.\n",
    "\n",
    "Ces données peuvent être importées directement depuis [`data.gouv`](https://www.data.gouv.fr/fr/datasets/demandes-de-valeurs-foncieres/):\n"
   ]
  },
  {
   "cell_type": "code",
   "execution_count": null,
   "id": "475e84aa",
   "metadata": {},
   "outputs": [],
   "source": [
    "import numpy as np\n",
    "import pandas as pd\n",
    "import seaborn as sns\n",
    "import matplotlib.pyplot as plt\n",
    "\n",
    "mutations = pd.read_csv('https://www.data.gouv.fr/fr/datasets/r/3004168d-bec4-44d9-a781-ef16f41856a2', sep = \"|\", decimal=\",\")"
   ]
  },
  {
   "cell_type": "markdown",
   "id": "889c2b4b",
   "metadata": {},
   "source": [
    "```\n",
    "## sys:1: DtypeWarning: Columns (18,23,24,26,28,41) have mixed types.Specify dtype option on import or set low_memory=False.\n",
    "```\n",
    "\n",
    "On propose d'enrichir la base de quelques variables qui pourraient servir\n",
    "ultérieurement:\n"
   ]
  },
  {
   "cell_type": "code",
   "execution_count": null,
   "id": "d546b5bd",
   "metadata": {},
   "outputs": [],
   "source": [
    "mutations['Date mutation'] = pd.to_datetime(mutations['Date mutation'], format = \"%d/%m/%Y\")\n",
    "mutations['year'] = mutations['Date mutation'].dt.year\n",
    "mutations['month'] = mutations['Date mutation'].dt.month\n",
    "mutations['dep'] = mutations['Code postal'].astype(str).str[:2]\n",
    "mutations['lprix'] = np.log(mutations[\"Valeur fonciere\"])"
   ]
  },
  {
   "cell_type": "markdown",
   "id": "b5f3a31e",
   "metadata": {},
   "source": [
    "Si vous travaillez avec les données de 2020, n'oubliez pas\n",
    "d'intégrer l'effet\n",
    "confinement strict dans vos modèles. Pour cela, vous pouvez créer une variable\n",
    "indicatrice entre les dates en question:\n"
   ]
  },
  {
   "cell_type": "code",
   "execution_count": null,
   "id": "084af36f",
   "metadata": {},
   "outputs": [],
   "source": [
    "mutations['confinement'] = mutations['Date mutation'].between(pd.to_datetime(\"2020-03-17\"), pd.to_datetime(\"2020-05-03\")).astype(int)"
   ]
  },
  {
   "cell_type": "markdown",
   "id": "657a49e0",
   "metadata": {},
   "source": [
    "Les données DVF proposent une observation par transaction. Ces transactions\n",
    "peuvent concerner plusieurs lots.\n",
    "Pour simplifier,\n",
    "on va créer une variable de surface qui agrège les différentes informations\n",
    "de surface disponibles dans le jeu de données. En effet, les variables\n",
    "en question sont très corrélées les unes entre elles :\n"
   ]
  },
  {
   "cell_type": "code",
   "execution_count": null,
   "id": "d5d81968",
   "metadata": {},
   "outputs": [],
   "source": [
    "corr = mutations.loc[:, mutations.columns[mutations.columns.str.startswith('Surface Carrez')].tolist()].corr()\n",
    "fig, ax = plt.subfigure(1)"
   ]
  },
  {
   "cell_type": "markdown",
   "id": "925f79de",
   "metadata": {},
   "source": [
    "```\n",
    "## Error in py_call_impl(callable, dots$args, dots$keywords): AttributeError: module 'matplotlib.pyplot' has no attribute 'subfigure'\n",
    "## \n",
    "## Detailed traceback: \n",
    "##   File \"<string>\", line 1, in <module>\n",
    "```"
   ]
  },
  {
   "cell_type": "code",
   "execution_count": null,
   "id": "6301c553",
   "metadata": {},
   "outputs": [],
   "source": [
    "sns.heatmap(corr, ax=ax, \n",
    "            xticklabels=corr.columns.values,\n",
    "            yticklabels=corr.columns.values, cmap='coolwarm', annot=True, fmt=\".2f\")"
   ]
  },
  {
   "cell_type": "markdown",
   "id": "e83e3b25",
   "metadata": {},
   "source": [
    "```\n",
    "## Error in py_call_impl(callable, dots$args, dots$keywords): NameError: name 'ax' is not defined\n",
    "## \n",
    "## Detailed traceback: \n",
    "##   File \"<string>\", line 1, in <module>\n",
    "```"
   ]
  },
  {
   "cell_type": "code",
   "execution_count": null,
   "id": "087a9531",
   "metadata": {
    "lines_to_next_cell": 0
   },
   "outputs": [],
   "source": [
    "plt.savefig('correlation_matrix_dvf.png', bbox_inches='tight')"
   ]
  },
  {
   "cell_type": "markdown",
   "id": "1914b91f",
   "metadata": {},
   "source": [
    "\n",
    "\n"
   ]
  },
  {
   "cell_type": "markdown",
   "id": "2bb0c162",
   "metadata": {},
   "source": [
    "Les agréger revient à supposer que le modèle de fixation des prix est le même\n",
    "entre chaque lot. C'est une hypothèse simplificatrice qu'une personne plus \n",
    "experte du marché immobilier, ou qu'une approche propre de sélection\n",
    "de variable pourrait amener à nier \n"
   ]
  },
  {
   "cell_type": "code",
   "execution_count": null,
   "id": "cd5231e6",
   "metadata": {
    "lines_to_next_cell": 0
   },
   "outputs": [],
   "source": [
    "mutations['surface'] = mutations.loc[:, mutations.columns[mutations.columns.str.startswith('Surface Carrez')].tolist()].sum(axis = 1)"
   ]
  },
  {
   "cell_type": "markdown",
   "id": "0134aa03",
   "metadata": {},
   "source": []
  },
  {
   "cell_type": "markdown",
   "id": "d7e330e2",
   "metadata": {},
   "source": [
    "# Un premier pipeline: *random forest* sur des variables standardisées\n",
    "\n",
    "Notre premier *pipeline* va nous permettre d'intégrer ensemble:\n",
    "\n",
    "1. Une étape de *preprocessing* avec la standardisation de variables\n",
    "2. Une étape d'estimation du prix en utilisant un modèle de *random forest*\n",
    "\n",
    "Pour le moment, on va prendre comme acquis un certain nombre de variables\n",
    "explicatives (les *features*) et les hyperparamètres du modèle"
   ]
  },
  {
   "cell_type": "markdown",
   "id": "38b8c988",
   "metadata": {},
   "source": [
    "## Définition des ensembles train/test\n",
    "\n",
    "Nous allons donc nous restreindre à un sous-ensemble de colonnes dans un\n",
    "premier temps :\n"
   ]
  },
  {
   "cell_type": "code",
   "execution_count": null,
   "id": "978bb0dd",
   "metadata": {},
   "outputs": [],
   "source": [
    "xvars = ['dep', 'Nombre de lots', 'Code type local', 'surface', 'Nombre pieces principales']\n",
    "xvars2 = pd.Series(xvars).str.replace(\" \",\"_\").tolist()\n",
    "\n",
    "mutations2 = mutations.loc[:, xvars + [\"Valeur fonciere\"]]"
   ]
  },
  {
   "cell_type": "markdown",
   "id": "f56c3b4f",
   "metadata": {},
   "source": [
    "Nous allons également ne conserver que les transactions inférieures à 5 millions\n",
    "d'euros (on anticipe que celles ayant un montant supérieur sont des transactions\n",
    "exceptionnelles dont le mécanisme de fixation du prix diffère)\n"
   ]
  },
  {
   "cell_type": "code",
   "execution_count": null,
   "id": "c54bf1ae",
   "metadata": {},
   "outputs": [],
   "source": [
    "mutations2  = mutations2.dropna()\n",
    "mutations2 = mutations2.loc[mutations2['Valeur fonciere'] < 5e6] #keep only values below 10 millions\n",
    "\n",
    "mutations2.columns = mutations2.columns.str.replace(\" \", \"_\")\n",
    "numeric_features = mutations2.columns[~mutations2.columns.isin(['dep','Code_type_local', 'confinement'])].tolist()\n",
    "categorical_features = ['dep','Code_type_local']"
   ]
  },
  {
   "cell_type": "markdown",
   "id": "fd350ece",
   "metadata": {},
   "source": [
    "Au passage, nous avons abandonné la variable de code postal pour privilégier\n",
    "la commune afin de réduire la dimension de notre jeu de données. Si on voulait\n",
    "vraiment avoir un bon modèle, il faudrait faire autrement car le code postal\n",
    "est probablement un très bon prédicteur du prix d'un bien, une fois que\n",
    "les caractéristiques du bien sont contrôlées.\n",
    "\n",
    "Nous allons stratifier notre échantillonage de train/test par département\n",
    "afin de tenir compte, de manière minimale, de la géographie. \n",
    "Pour accélérer les calculs pour ce tutoriel, nous n'allons considérer que\n",
    "20% des transactions observées sur chaque département.\n"
   ]
  },
  {
   "cell_type": "code",
   "execution_count": null,
   "id": "7e75ba5a",
   "metadata": {
    "lines_to_next_cell": 2
   },
   "outputs": [],
   "source": [
    "from sklearn.model_selection import train_test_split\n",
    "\n",
    "mutations2 = mutations2.groupby('dep').sample(frac = 0.2, random_state = 123)\n",
    "\n",
    "X_train, X_test, y_train, y_test = train_test_split(mutations2[xvars2], mutations2[[\"Valeur_fonciere\"]].values.ravel(), test_size = 0.2, random_state = 0, stratify=mutations2[['dep']])"
   ]
  },
  {
   "cell_type": "markdown",
   "id": "7f5c21fb",
   "metadata": {},
   "source": [
    "## Définition du premier pipeline\n",
    "\n",
    "Nous allons donc partir d'un *random forest* avec des valeurs d'hyperparamètres\n",
    "données. \n",
    "\n",
    "Les _random forest_ sont une méthode d'aggrégation[^2] d'arbres de décision. \n",
    "On calcule $K$ arbres de décision et en tire, par une méthode d'agrégation,\n",
    "une règle de décision moyenne qu'on va appliquer pour tirer une\n",
    "prédiction de nos données. \n",
    "\n",
    "[^2]: En _machine learning_ on retrouve un principe inspiré du\n",
    "_bootstrap_\n",
    "qui permet d'agréger un ensemble d'estimateurs en un estimateur _\"moyennisé\"_.\n",
    "Il s'agit du [*bagging*](https://en.wikipedia.org/wiki/Bootstrap_aggregating).\n",
    "En économétrie, le _bootstrap_ consiste à ré-estimer sur *K* sous-échantillons\n",
    "aléatoires des données un estimateur afin d'en tirer, par exemple, un intervalle\n",
    "de confiance empirique à 95%. Le principe du _bagging_ est le même. On ré-estime\n",
    "_K_ fois notre estimateur (par exemple un arbre de décision) et propose une \n",
    "règle d'agrégation pour en tirer une règle moyennisée et donc une prédiction. "
   ]
  },
  {
   "cell_type": "markdown",
   "id": "6152d8b4",
   "metadata": {},
   "source": [
    "![](https://upload.wikimedia.org/wikipedia/commons/7/76/Random_forest_diagram_complete.png)\n",
    "\n",
    "C'est un article de Léo Breiman (2001)[^3], statisticien à Berkeley, qui\n",
    "est à l'origine du succès des *random forests*. L'un des intérêts\n",
    "des *random forest* est qu'il existe des méthodes pour déterminer \n",
    "l'importance relative de chaque variable dans la prédiction. \n",
    "\n",
    "[^3]: Breiman L (2001). _\"Random Forests\". Machine Learning_. 45 (1): 5–32.\n",
    "\n",
    "Pour commencer, nous allons fixer la taille des arbres de décision avec\n",
    "l'hyperparamètre `max_depth = 2`. \n"
   ]
  },
  {
   "cell_type": "code",
   "execution_count": null,
   "id": "a06ab607",
   "metadata": {},
   "outputs": [],
   "source": [
    "from sklearn.ensemble import RandomForestRegressor\n",
    "regr = RandomForestRegressor(max_depth=2, random_state=123)"
   ]
  },
  {
   "cell_type": "markdown",
   "id": "2c1884a6",
   "metadata": {},
   "source": [
    "Notre _pipeline_ va intégrer les étapes suivantes:\n",
    "\n",
    "1. __Preprocessing__:\n",
    "    + Les variables numériques vont être standardisées avec un `StandardScaler`.\n",
    "Pour cela, nous allons utiliser la liste `numeric_features` définie précédemment.\n",
    "    + Les variables catégorielles vont être explosées avec un *one hot encoding*\n",
    "(méthode `OneHotEncoder` de `scikit`)\n",
    "Pour cela, nous allons utiliser la liste `categorical_features`\n",
    "2. __Random forest__: nous allons appliquer l'estimateur `regr` défini plus haut\n",
    "\n",
    "J'ajoute en commentaire un exemple de comment s'introduirait une imputation\n",
    "de valeurs manquantes. La version 1.0 de `scikit` facilite l'intégration\n",
    "d'étapes complexes dans les pipelines[^4]. Si vous ne utilisez une \n",
    "version antérieure à la 1.0 de `scikit`, vous pouvez vous rendre dans\n",
    "la section [Annexe](#annexe) pour avoir des exemples de définition alternative\n",
    "(attention cependant, vous ne pourrez récupérer le nom des *features*\n",
    "transformées comme ici, ce qui peut pénaliser l'analyse d'importance\n",
    "de variables)\n",
    "\n",
    "[^4]: Voir ce [*thread stackoverflow*](https://stackoverflow.com/questions/54646709/sklearn-pipeline-get-feature-names-after-onehotencode-in-columntransformer)\n",
    "\n"
   ]
  },
  {
   "cell_type": "code",
   "execution_count": null,
   "id": "c06b838f",
   "metadata": {
    "lines_to_next_cell": 2
   },
   "outputs": [],
   "source": [
    "from sklearn.pipeline import make_pipeline\n",
    "from sklearn.preprocessing import StandardScaler, OneHotEncoder\n",
    "from sklearn.pipeline import Pipeline\n",
    "from sklearn.compose import make_column_transformer\n",
    "\n",
    "numeric_pipeline = make_pipeline(\n",
    "  #SimpleImputer(),\n",
    "  StandardScaler()\n",
    ")\n",
    "transformer = make_column_transformer(\n",
    "    (numeric_pipeline, numeric_features[:-1]),\n",
    "    (OneHotEncoder(sparse = False, handle_unknown = \"ignore\"), categorical_features))\n",
    "pipe = Pipeline(steps=[('preprocessor', transformer),\n",
    "                      ('randomforest', regr)])"
   ]
  },
  {
   "cell_type": "markdown",
   "id": "e1aa5e23",
   "metadata": {},
   "source": [
    "Nous avons construit ce pipeline sous forme de couches successives. La couche\n",
    "`randomforest` prendra automatiquement le résultat de la couche `preprocessor`\n",
    "en _input_. La couche `features` permet d'introduire de manière relativement\n",
    "simple (quand on a les bonnes méthodes) la complexité du *preprocessing*\n",
    "sur données réelles dont les types divergent. \n",
    "\n",
    "On peut visualiser le graphe et ainsi se représenter la manière dont\n",
    "ce _pipeline_ opère:\n"
   ]
  },
  {
   "cell_type": "code",
   "execution_count": null,
   "id": "3015f644",
   "metadata": {
    "lines_to_next_cell": 2
   },
   "outputs": [],
   "source": [
    "pipe"
   ]
  },
  {
   "cell_type": "markdown",
   "id": "1fba321a",
   "metadata": {},
   "source": [
    "<style>#sk-c3a60d61-de57-4a1d-a0a8-f5d035e26fad {color: black;background-color: white;}#sk-c3a60d61-de57-4a1d-a0a8-f5d035e26fad pre{padding: 0;}#sk-c3a60d61-de57-4a1d-a0a8-f5d035e26fad div.sk-toggleable {background-color: white;}#sk-c3a60d61-de57-4a1d-a0a8-f5d035e26fad label.sk-toggleable__label {cursor: pointer;display: block;width: 100%;margin-bottom: 0;padding: 0.3em;box-sizing: border-box;text-align: center;}#sk-c3a60d61-de57-4a1d-a0a8-f5d035e26fad div.sk-toggleable__content {max-height: 0;max-width: 0;overflow: hidden;text-align: left;background-color: #f0f8ff;}#sk-c3a60d61-de57-4a1d-a0a8-f5d035e26fad div.sk-toggleable__content pre {margin: 0.2em;color: black;border-radius: 0.25em;background-color: #f0f8ff;}#sk-c3a60d61-de57-4a1d-a0a8-f5d035e26fad input.sk-toggleable__control:checked~div.sk-toggleable__content {max-height: 200px;max-width: 100%;overflow: auto;}#sk-c3a60d61-de57-4a1d-a0a8-f5d035e26fad div.sk-estimator input.sk-toggleable__control:checked~label.sk-toggleable__label {background-color: #d4ebff;}#sk-c3a60d61-de57-4a1d-a0a8-f5d035e26fad div.sk-label input.sk-toggleable__control:checked~label.sk-toggleable__label {background-color: #d4ebff;}#sk-c3a60d61-de57-4a1d-a0a8-f5d035e26fad input.sk-hidden--visually {border: 0;clip: rect(1px 1px 1px 1px);clip: rect(1px, 1px, 1px, 1px);height: 1px;margin: -1px;overflow: hidden;padding: 0;position: absolute;width: 1px;}#sk-c3a60d61-de57-4a1d-a0a8-f5d035e26fad div.sk-estimator {font-family: monospace;background-color: #f0f8ff;border: 1px dotted black;border-radius: 0.25em;box-sizing: border-box;margin-bottom: 0.5em;}#sk-c3a60d61-de57-4a1d-a0a8-f5d035e26fad div.sk-estimator:hover {background-color: #d4ebff;}#sk-c3a60d61-de57-4a1d-a0a8-f5d035e26fad div.sk-parallel-item::after {content: \"\";width: 100%;border-bottom: 1px solid gray;flex-grow: 1;}#sk-c3a60d61-de57-4a1d-a0a8-f5d035e26fad div.sk-label:hover label.sk-toggleable__label {background-color: #d4ebff;}#sk-c3a60d61-de57-4a1d-a0a8-f5d035e26fad div.sk-serial::before {content: \"\";position: absolute;border-left: 1px solid gray;box-sizing: border-box;top: 2em;bottom: 0;left: 50%;}#sk-c3a60d61-de57-4a1d-a0a8-f5d035e26fad div.sk-serial {display: flex;flex-direction: column;align-items: center;background-color: white;padding-right: 0.2em;padding-left: 0.2em;}#sk-c3a60d61-de57-4a1d-a0a8-f5d035e26fad div.sk-item {z-index: 1;}#sk-c3a60d61-de57-4a1d-a0a8-f5d035e26fad div.sk-parallel {display: flex;align-items: stretch;justify-content: center;background-color: white;}#sk-c3a60d61-de57-4a1d-a0a8-f5d035e26fad div.sk-parallel::before {content: \"\";position: absolute;border-left: 1px solid gray;box-sizing: border-box;top: 2em;bottom: 0;left: 50%;}#sk-c3a60d61-de57-4a1d-a0a8-f5d035e26fad div.sk-parallel-item {display: flex;flex-direction: column;position: relative;background-color: white;}#sk-c3a60d61-de57-4a1d-a0a8-f5d035e26fad div.sk-parallel-item:first-child::after {align-self: flex-end;width: 50%;}#sk-c3a60d61-de57-4a1d-a0a8-f5d035e26fad div.sk-parallel-item:last-child::after {align-self: flex-start;width: 50%;}#sk-c3a60d61-de57-4a1d-a0a8-f5d035e26fad div.sk-parallel-item:only-child::after {width: 0;}#sk-c3a60d61-de57-4a1d-a0a8-f5d035e26fad div.sk-dashed-wrapped {border: 1px dashed gray;margin: 0 0.4em 0.5em 0.4em;box-sizing: border-box;padding-bottom: 0.4em;background-color: white;position: relative;}#sk-c3a60d61-de57-4a1d-a0a8-f5d035e26fad div.sk-label label {font-family: monospace;font-weight: bold;background-color: white;display: inline-block;line-height: 1.2em;}#sk-c3a60d61-de57-4a1d-a0a8-f5d035e26fad div.sk-label-container {position: relative;z-index: 2;text-align: center;}#sk-c3a60d61-de57-4a1d-a0a8-f5d035e26fad div.sk-container {display: inline-block;position: relative;}</style><div id=\"sk-c3a60d61-de57-4a1d-a0a8-f5d035e26fad\" class\"sk-top-container\"><div class=\"sk-container\"><div class=\"sk-item sk-dashed-wrapped\"><div class=\"sk-label-container\"><div class=\"sk-label sk-toggleable\"><input class=\"sk-toggleable__control sk-hidden--visually\" id=\"e773703d-4e1f-403f-ac87-e11d283f30be\" type=\"checkbox\" ><label class=\"sk-toggleable__label\" for=\"e773703d-4e1f-403f-ac87-e11d283f30be\">Pipeline</label><div class=\"sk-toggleable__content\"><pre>Pipeline(steps=[('preprocessor',\n",
    "                 ColumnTransformer(transformers=[('pipeline',\n",
    "                                                  Pipeline(steps=[('standardscaler',\n",
    "                                                                   StandardScaler())]),\n",
    "                                                  ['Nombre_de_lots', 'surface',\n",
    "                                                   'Nombre_pieces_principales']),\n",
    "                                                 ('onehotencoder',\n",
    "                                                  OneHotEncoder(handle_unknown='ignore',\n",
    "                                                                sparse=False),\n",
    "                                                  ['dep',\n",
    "                                                   'Code_type_local'])])),\n",
    "                ('randomforest',\n",
    "                 RandomForestRegressor(max_depth=2, random_state=123))])</pre></div></div></div><div class=\"sk-serial\"><div class=\"sk-item sk-dashed-wrapped\"><div class=\"sk-label-container\"><div class=\"sk-label sk-toggleable\"><input class=\"sk-toggleable__control sk-hidden--visually\" id=\"334cd985-4dd6-4268-a987-402f13f0e8af\" type=\"checkbox\" ><label class=\"sk-toggleable__label\" for=\"334cd985-4dd6-4268-a987-402f13f0e8af\">preprocessor: ColumnTransformer</label><div class=\"sk-toggleable__content\"><pre>ColumnTransformer(transformers=[('pipeline',\n",
    "                                 Pipeline(steps=[('standardscaler',\n",
    "                                                  StandardScaler())]),\n",
    "                                 ['Nombre_de_lots', 'surface',\n",
    "                                  'Nombre_pieces_principales']),\n",
    "                                ('onehotencoder',\n",
    "                                 OneHotEncoder(handle_unknown='ignore',\n",
    "                                               sparse=False),\n",
    "                                 ['dep', 'Code_type_local'])])</pre></div></div></div><div class=\"sk-parallel\"><div class=\"sk-parallel-item\"><div class=\"sk-item\"><div class=\"sk-label-container\"><div class=\"sk-label sk-toggleable\"><input class=\"sk-toggleable__control sk-hidden--visually\" id=\"a50c3f41-4f5a-4e9b-a061-36e1fa24422d\" type=\"checkbox\" ><label class=\"sk-toggleable__label\" for=\"a50c3f41-4f5a-4e9b-a061-36e1fa24422d\">pipeline</label><div class=\"sk-toggleable__content\"><pre>['Nombre_de_lots', 'surface', 'Nombre_pieces_principales']</pre></div></div></div><div class=\"sk-serial\"><div class=\"sk-item\"><div class=\"sk-serial\"><div class=\"sk-item\"><div class=\"sk-estimator sk-toggleable\"><input class=\"sk-toggleable__control sk-hidden--visually\" id=\"648106ce-612d-4b50-a14d-1b627e5f913d\" type=\"checkbox\" ><label class=\"sk-toggleable__label\" for=\"648106ce-612d-4b50-a14d-1b627e5f913d\">StandardScaler</label><div class=\"sk-toggleable__content\"><pre>StandardScaler()</pre></div></div></div></div></div></div></div></div><div class=\"sk-parallel-item\"><div class=\"sk-item\"><div class=\"sk-label-container\"><div class=\"sk-label sk-toggleable\"><input class=\"sk-toggleable__control sk-hidden--visually\" id=\"c2660cf3-11fa-435e-adbe-5edabcdca7fa\" type=\"checkbox\" ><label class=\"sk-toggleable__label\" for=\"c2660cf3-11fa-435e-adbe-5edabcdca7fa\">onehotencoder</label><div class=\"sk-toggleable__content\"><pre>['dep', 'Code_type_local']</pre></div></div></div><div class=\"sk-serial\"><div class=\"sk-item\"><div class=\"sk-estimator sk-toggleable\"><input class=\"sk-toggleable__control sk-hidden--visually\" id=\"2e6c8674-790b-47ea-a84c-a76fd221e7a1\" type=\"checkbox\" ><label class=\"sk-toggleable__label\" for=\"2e6c8674-790b-47ea-a84c-a76fd221e7a1\">OneHotEncoder</label><div class=\"sk-toggleable__content\"><pre>OneHotEncoder(handle_unknown='ignore', sparse=False)</pre></div></div></div></div></div></div></div></div><div class=\"sk-item\"><div class=\"sk-estimator sk-toggleable\"><input class=\"sk-toggleable__control sk-hidden--visually\" id=\"60487b3b-2a90-4a49-9570-84357e91941b\" type=\"checkbox\" ><label class=\"sk-toggleable__label\" for=\"60487b3b-2a90-4a49-9570-84357e91941b\">RandomForestRegressor</label><div class=\"sk-toggleable__content\"><pre>RandomForestRegressor(max_depth=2, random_state=123)</pre></div></div></div></div></div></div></div>\n"
   ]
  },
  {
   "cell_type": "markdown",
   "id": "1fa1e8d0",
   "metadata": {},
   "source": [
    "Maintenant, il ne reste plus qu'à estimer notre modèle sur l'ensemble\n",
    "d'entraînement. C'est très simple avec un _pipeline_ : il suffit d'utiliser\n",
    "de mettre à jour le _pipeline_ avec la méthode `fit`\n"
   ]
  },
  {
   "cell_type": "code",
   "execution_count": null,
   "id": "2e02fd09",
   "metadata": {},
   "outputs": [],
   "source": [
    "pipe.fit(X_train, y_train)"
   ]
  },
  {
   "cell_type": "markdown",
   "id": "8b66c6ee",
   "metadata": {},
   "source": [
    "On peut utiliser le nom du pipeline en conjonction de certaines méthodes\n",
    "pour appliquer cette étape sur un jeu de données pour visualiser\n",
    "l'effet de la transformation.\n",
    "\n",
    "Par exemple, pour visualiser le jeu de données transformé avant l'étape\n",
    "d'estimation, on peut \n",
    "faire\n"
   ]
  },
  {
   "cell_type": "code",
   "execution_count": null,
   "id": "2c7cd599",
   "metadata": {},
   "outputs": [],
   "source": [
    "pipe[:-1].fit_transform(X_train)"
   ]
  },
  {
   "cell_type": "markdown",
   "id": "147d71bf",
   "metadata": {},
   "source": [
    "```\n",
    "## array([[ 0.36941323,  0.46064357, -0.66948062, ...,  1.        ,\n",
    "##          0.        ,  0.        ],\n",
    "##        [-0.70954963, -0.27593152,  0.29189439, ...,  0.        ,\n",
    "##          0.        ,  0.        ],\n",
    "##        [ 0.36941323, -0.27593152, -1.15016813, ...,  0.        ,\n",
    "##          1.        ,  0.        ],\n",
    "##        ...,\n",
    "##        [-0.70954963, -0.27593152,  0.7725819 , ...,  0.        ,\n",
    "##          0.        ,  0.        ],\n",
    "##        [ 0.36941323, -0.27593152,  0.7725819 , ...,  1.        ,\n",
    "##          0.        ,  0.        ],\n",
    "##        [-0.70954963, -0.27593152, -1.15016813, ...,  0.        ,\n",
    "##          0.        ,  1.        ]])\n",
    "```\n",
    "\n",
    "De même, si on veut récupérer le nom des *features* en sortie du preprocessing,\n",
    "on utilisera la méthode `.get_feature_names_out` qui est bien pratique\n",
    "(c'est cette méthode qui est plus complexe à appeler dans les versions `scikit`\n",
    "ancienne qui nous a fait privilégier le *pipeline* ci-dessous)\n"
   ]
  },
  {
   "cell_type": "code",
   "execution_count": null,
   "id": "bec437e6",
   "metadata": {},
   "outputs": [],
   "source": [
    "features_names=pipe['preprocessor'].get_feature_names_out()\n",
    "features_names"
   ]
  },
  {
   "cell_type": "markdown",
   "id": "024ae01c",
   "metadata": {},
   "source": [
    "```\n",
    "## array(['pipeline__Nombre_de_lots', 'pipeline__surface',\n",
    "##        'pipeline__Nombre_pieces_principales', 'onehotencoder__dep_10',\n",
    "##        'onehotencoder__dep_11', 'onehotencoder__dep_12',\n",
    "##        'onehotencoder__dep_13', 'onehotencoder__dep_14',\n",
    "##        'onehotencoder__dep_15', 'onehotencoder__dep_16',\n",
    "##        'onehotencoder__dep_17', 'onehotencoder__dep_18',\n",
    "##        'onehotencoder__dep_19', 'onehotencoder__dep_20',\n",
    "##        'onehotencoder__dep_21', 'onehotencoder__dep_22',\n",
    "##        'onehotencoder__dep_23', 'onehotencoder__dep_24',\n",
    "##        'onehotencoder__dep_25', 'onehotencoder__dep_26',\n",
    "##        'onehotencoder__dep_27', 'onehotencoder__dep_28',\n",
    "##        'onehotencoder__dep_29', 'onehotencoder__dep_30',\n",
    "##        'onehotencoder__dep_31', 'onehotencoder__dep_32',\n",
    "##        'onehotencoder__dep_33', 'onehotencoder__dep_34',\n",
    "##        'onehotencoder__dep_35', 'onehotencoder__dep_36',\n",
    "##        'onehotencoder__dep_37', 'onehotencoder__dep_38',\n",
    "##        'onehotencoder__dep_39', 'onehotencoder__dep_40',\n",
    "##        'onehotencoder__dep_41', 'onehotencoder__dep_42',\n",
    "##        'onehotencoder__dep_43', 'onehotencoder__dep_44',\n",
    "##        'onehotencoder__dep_45', 'onehotencoder__dep_46',\n",
    "##        'onehotencoder__dep_47', 'onehotencoder__dep_48',\n",
    "##        'onehotencoder__dep_49', 'onehotencoder__dep_50',\n",
    "##        'onehotencoder__dep_51', 'onehotencoder__dep_52',\n",
    "##        'onehotencoder__dep_53', 'onehotencoder__dep_54',\n",
    "##        'onehotencoder__dep_55', 'onehotencoder__dep_56',\n",
    "##        'onehotencoder__dep_57', 'onehotencoder__dep_58',\n",
    "##        'onehotencoder__dep_59', 'onehotencoder__dep_60',\n",
    "##        'onehotencoder__dep_61', 'onehotencoder__dep_62',\n",
    "##        'onehotencoder__dep_63', 'onehotencoder__dep_64',\n",
    "##        'onehotencoder__dep_65', 'onehotencoder__dep_66',\n",
    "##        'onehotencoder__dep_67', 'onehotencoder__dep_68',\n",
    "##        'onehotencoder__dep_69', 'onehotencoder__dep_70',\n",
    "##        'onehotencoder__dep_71', 'onehotencoder__dep_72',\n",
    "##        'onehotencoder__dep_73', 'onehotencoder__dep_74',\n",
    "##        'onehotencoder__dep_75', 'onehotencoder__dep_76',\n",
    "##        'onehotencoder__dep_77', 'onehotencoder__dep_78',\n",
    "##        'onehotencoder__dep_79', 'onehotencoder__dep_80',\n",
    "##        'onehotencoder__dep_81', 'onehotencoder__dep_82',\n",
    "##        'onehotencoder__dep_83', 'onehotencoder__dep_84',\n",
    "##        'onehotencoder__dep_85', 'onehotencoder__dep_86',\n",
    "##        'onehotencoder__dep_87', 'onehotencoder__dep_88',\n",
    "##        'onehotencoder__dep_89', 'onehotencoder__dep_90',\n",
    "##        'onehotencoder__dep_91', 'onehotencoder__dep_92',\n",
    "##        'onehotencoder__dep_93', 'onehotencoder__dep_94',\n",
    "##        'onehotencoder__dep_95', 'onehotencoder__dep_96',\n",
    "##        'onehotencoder__dep_97', 'onehotencoder__dep_98',\n",
    "##        'onehotencoder__dep_na', 'onehotencoder__Code_type_local_1.0',\n",
    "##        'onehotencoder__Code_type_local_2.0',\n",
    "##        'onehotencoder__Code_type_local_3.0',\n",
    "##        'onehotencoder__Code_type_local_4.0'], dtype=object)\n",
    "```"
   ]
  },
  {
   "cell_type": "markdown",
   "id": "dd67b3d8",
   "metadata": {},
   "source": [
    "## _Variable importance_\n",
    "\n",
    "On ne va représenter, parmi notre ensemble important de colonnes, que celles\n",
    "qui ont une importance non nulle. Grâce à notre vecteur `features_names`,\n",
    "on va pouvoir facilement afficher le nom des colonnes en question (et donc\n",
    "comprendre les *features* déterminantes)\n",
    "\n",
    "L'importance va être définie à partir \n",
    "de la mesure d'impureté[^3]\n",
    "\n",
    "[^3]: Extrait de [ce blog](https://mljar.com/blog/feature-importance-in-random-forest/):\n",
    "Gini importance (or mean decrease impurity), which is computed from the Random Forest structure. Let’s look how the Random Forest is constructed. It is a set of Decision Trees. Each Decision Tree is a set of internal nodes and leaves. In the internal node, the selected feature is used to make decision how to divide the data set into two separate sets with similars responses within. The features for internal nodes are selected with some criterion, which for classification tasks can be gini impurity or infomation gain, and for regression is variance reduction. We can measure how each feature decrease the impurity of the split (the feature with highest decrease is selected for internal node). For each feature we can collect how on average it decreases the impurity. The average over all trees in the forest is the measure of the feature importance. \n"
   ]
  },
  {
   "cell_type": "code",
   "execution_count": null,
   "id": "725a75cf",
   "metadata": {
    "lines_to_next_cell": 0
   },
   "outputs": [],
   "source": [
    "importances = pipe['randomforest'].feature_importances_\n",
    "std = np.std([tree.feature_importances_ for tree in pipe['randomforest'].estimators_], axis=0)\n",
    "\n",
    "forest_importances = pd.Series(importances[importances>0], index=features_names[importances>0])\n",
    "\n",
    "fig, ax = plt.subplots()\n",
    "forest_importances.plot.bar(yerr=std[importances>0], ax=ax)\n",
    "ax.set_title(\"Feature importances using MDI\")\n",
    "ax.set_ylabel(\"Mean decrease in impurity\")\n",
    "fig.tight_layout()"
   ]
  },
  {
   "cell_type": "markdown",
   "id": "d534e91a",
   "metadata": {},
   "source": [
    "\n"
   ]
  },
  {
   "cell_type": "markdown",
   "id": "e29084e0",
   "metadata": {},
   "source": [
    "On voit donc que deux variables déterminantes sont des effets fixes\n",
    "géographiques (qui servent à ajuster de la différence de prix entre\n",
    "Paris et les Hauts de Seine et le reste de la France), une autre variable\n",
    "est un effet fixe type de bien. Les deux variables qui pourraient introduire\n",
    "de la variabilité, à savoir la surface et, dans une moindre mesure, le \n",
    "nombre de lots, ont une importance moindre. "
   ]
  },
  {
   "cell_type": "markdown",
   "id": "845d712d",
   "metadata": {},
   "source": [
    "Idéalement, on utiliserait `yellowbrick` pour représenter l'importance des variables\n",
    "Mais en l'état actuel du *pipeline* on a beaucoup de variables dont le poids\n",
    "est nul qui viennent polluer la visualisation. Vous pouvez \n",
    "consulter la\n",
    "[documentation de `yellowbrick` sur ce sujet](https://www.scikit-yb.org/en/latest/api/model_selection/importances.html)"
   ]
  },
  {
   "cell_type": "markdown",
   "id": "7b3395c2",
   "metadata": {},
   "source": [
    "## Prédiction\n",
    "\n",
    "L'analyse de l'importance de variables permet de mieux comprendre\n",
    "le fonctionnement interne des *random forests*. \n",
    "\n",
    "On obtient un modèle dont les performances sont les suivantes:\n"
   ]
  },
  {
   "cell_type": "code",
   "execution_count": null,
   "id": "ee65e360",
   "metadata": {},
   "outputs": [],
   "source": [
    "from sklearn.metrics import mean_squared_error\n",
    "\n",
    "\n",
    "compar = pd.DataFrame([y_test, pipe.predict(X_test)]).T\n",
    "compar.columns = ['obs','pred']\n",
    "compar['diff'] = compar.obs - compar.pred\n",
    "\n",
    "print(\"Le RMSE sur le jeu de test est {:,}\".format(\n",
    "   int(np.sqrt(mean_squared_error(y_test, pipe.predict(X_test))))\n",
    "))"
   ]
  },
  {
   "cell_type": "markdown",
   "id": "4d3af014",
   "metadata": {},
   "source": [
    "```\n",
    "## Le RMSE sur le jeu de test est 464,464\n",
    "```\n",
    "\n",
    "Le RMSE n'est pas très bon. Pour comprendre pourquoi, représentons\n",
    "notre nuage de point des valeurs observées et prédites:\n"
   ]
  },
  {
   "cell_type": "code",
   "execution_count": null,
   "id": "adc4820f",
   "metadata": {},
   "outputs": [],
   "source": [
    "g = sns.relplot(data = compar, x = 'obs', y = 'pred', color = \"royalblue\", alpha = 0.8)\n",
    "g.set(ylim=(0, 2e6), xlim=(0, 2e6),\n",
    "      title='Evaluating estimation error on test sample',\n",
    "      xlabel='Observed values',\n",
    "      ylabel='Predicted values')"
   ]
  },
  {
   "cell_type": "code",
   "execution_count": null,
   "id": "9a6524e1",
   "metadata": {},
   "outputs": [],
   "source": [
    "g.ax.axline(xy1=(0, 0), slope=1, color=\"red\", dashes=(5, 2))\n",
    "plt.savefig('predict1.png', bbox_inches='tight')"
   ]
  },
  {
   "cell_type": "markdown",
   "id": "14f6ba56",
   "metadata": {},
   "source": [
    "C'est très décevant. La prédiction a trop peu de variabilité pour capturer\n",
    "la variance des prix observée. Cela vient du fait que les variables\n",
    "ayant de l'importance dans la prédiction sont principalement des effets fixes,\n",
    "qui ne permettent donc qu'une variabilité limitée.\n"
   ]
  },
  {
   "cell_type": "markdown",
   "id": "33b3b6f5",
   "metadata": {},
   "source": [
    "# Recherche des hyperparamètres optimaux avec une validation croisée\n",
    "\n",
    "On détecte que le premier modèle n'est pas très bon et ne nous aidera\n",
    "pas vraiment à évaluer de manière fiable la maison de nos rêves. \n",
    "\n",
    "On va essayer de voir si notre modèle ne serait pas meilleur avec des\n",
    "hyperparamètres plus adaptés. Après tout, nous avons choisi par défaut\n",
    "la profondeur de l'arbre mais c'était un choix au doigt mouillé. \n",
    "\n",
    "Quels sont les hyperparamètres qu'on peut essayer d'optimiser ? \n"
   ]
  },
  {
   "cell_type": "code",
   "execution_count": null,
   "id": "74ab919c",
   "metadata": {},
   "outputs": [],
   "source": [
    "pipe['randomforest'].get_params()"
   ]
  },
  {
   "cell_type": "markdown",
   "id": "dc179c1f",
   "metadata": {},
   "source": [
    "```\n",
    "## {'bootstrap': True, 'ccp_alpha': 0.0, 'criterion': 'squared_error', 'max_depth': 2, 'max_features': 'auto', 'max_leaf_nodes': None, 'max_samples': None, 'min_impurity_decrease': 0.0, 'min_samples_leaf': 1, 'min_samples_split': 2, 'min_weight_fraction_leaf': 0.0, 'n_estimators': 100, 'n_jobs': None, 'oob_score': False, 'random_state': 123, 'verbose': 0, 'warm_start': False}\n",
    "```\n",
    "\n",
    "Un [détour par la documentation](https://scikit-learn.org/stable/modules/generated/sklearn.ensemble.RandomForestRegressor.html)\n",
    "nous aide à comprendre ceux sur lesquels on va jouer. Par exemple, il serait\n",
    "absurde de jouer sur le paramètre `random_state` qui est la racine du générateur\n",
    "pseudo-aléatoire. \n",
    "\n",
    "Comme l'objectif est de se concentrer sur la démarche plus qu'essayer de\n",
    "trouver un bon modèle,\n",
    "nous allons également réduire la taille des données pour accélérer\n",
    "les calculs\n"
   ]
  },
  {
   "cell_type": "code",
   "execution_count": null,
   "id": "1154af4d",
   "metadata": {
    "lines_to_next_cell": 2
   },
   "outputs": [],
   "source": [
    "mutations2 = mutations2.groupby('dep').sample(frac = 0.5, random_state = 123)\n",
    "\n",
    "X_train, X_test, y_train, y_test = train_test_split(mutations2[xvars2], mutations2[[\"Valeur_fonciere\"]].values.ravel(), test_size = 0.2, random_state = 0, stratify=mutations2[['dep']])\n",
    "\n",
    "X = pd.concat((X_train, X_test), axis=0)\n",
    "Y = np.concatenate([y_train,y_test])"
   ]
  },
  {
   "cell_type": "markdown",
   "id": "dfcd3dbe",
   "metadata": {},
   "source": [
    "Nous allons nous contenter de jouer sur les paramètres:\n",
    "\n",
    "* `n_estimators`: Le nombre d'arbres de décision que notre forêt contient\n",
    "* `max_depth`: La profondeur de chaque arbre\n",
    "\n",
    "Il existe plusieurs manières de faire de la validation croisée. Nous allons ici\n",
    "utiliser la *grid search* qui consiste à estimer et tester le modèle sur chaque\n",
    "combinaison d'une grille de paramètres et sélectionner le couple de valeurs\n",
    "des hyperparamètres amenant à la meilleure prédiction. Par défaut, `scikit`\n",
    "effectue une _5-fold cross validation_. Nous n'allons pas changer\n",
    "ce comportement. \n",
    "\n",
    "Comme expliqué précédemment, les paramètres s'appelent sous la forme\n",
    "`<step>__<parameter_name>`\n",
    "\n",
    "La validation croisée pouvant être très consommatrice de temps, nous \n",
    "n'allons l'effectuer que sur un nombre réduit de valeurs de notre grille.\n",
    "Il est possible de passer la liste des valeurs à passer au crible sous\n",
    "forme de liste (comme pour l'argument `max_depth` ci-dessous) ou\n",
    "sous forme d'`array` (comme pour l'argument `n_estimators`) ce qui est\n",
    "souvent pratique pour générer un criblage d'un intervalle avec `np.linspace`.\n"
   ]
  },
  {
   "cell_type": "code",
   "execution_count": null,
   "id": "bea1b3a9",
   "metadata": {},
   "outputs": [],
   "source": [
    "import numpy as np\n",
    "from sklearn.model_selection import GridSearchCV\n",
    "\n",
    "import time\n",
    "\n",
    "start_time = time.time()\n",
    "# Parameters of pipelines can be set using ‘__’ separated parameter names:\n",
    "param_grid = {\n",
    "    \"randomforest__n_estimators\": np.linspace(5,25, 5).astype(int),\n",
    "    \"randomforest__max_depth\": [2,4]\n",
    "}\n",
    "grid_search = GridSearchCV(pipe, param_grid=param_grid)\n",
    "grid_search.fit(X, Y)"
   ]
  },
  {
   "cell_type": "code",
   "execution_count": null,
   "id": "1994f484",
   "metadata": {
    "lines_to_next_cell": 2
   },
   "outputs": [],
   "source": [
    "end_time = time.time()\n",
    "print(\"Elapsed time : {} seconds\", int(end_time - start_time))"
   ]
  },
  {
   "cell_type": "markdown",
   "id": "cb88a41b",
   "metadata": {},
   "source": [
    "<style>#sk-2b31cd18-9ef9-4d86-995a-d96fed95934e {color: black;background-color: white;}#sk-2b31cd18-9ef9-4d86-995a-d96fed95934e pre{padding: 0;}#sk-2b31cd18-9ef9-4d86-995a-d96fed95934e div.sk-toggleable {background-color: white;}#sk-2b31cd18-9ef9-4d86-995a-d96fed95934e label.sk-toggleable__label {cursor: pointer;display: block;width: 100%;margin-bottom: 0;padding: 0.3em;box-sizing: border-box;text-align: center;}#sk-2b31cd18-9ef9-4d86-995a-d96fed95934e div.sk-toggleable__content {max-height: 0;max-width: 0;overflow: hidden;text-align: left;background-color: #f0f8ff;}#sk-2b31cd18-9ef9-4d86-995a-d96fed95934e div.sk-toggleable__content pre {margin: 0.2em;color: black;border-radius: 0.25em;background-color: #f0f8ff;}#sk-2b31cd18-9ef9-4d86-995a-d96fed95934e input.sk-toggleable__control:checked~div.sk-toggleable__content {max-height: 200px;max-width: 100%;overflow: auto;}#sk-2b31cd18-9ef9-4d86-995a-d96fed95934e div.sk-estimator input.sk-toggleable__control:checked~label.sk-toggleable__label {background-color: #d4ebff;}#sk-2b31cd18-9ef9-4d86-995a-d96fed95934e div.sk-label input.sk-toggleable__control:checked~label.sk-toggleable__label {background-color: #d4ebff;}#sk-2b31cd18-9ef9-4d86-995a-d96fed95934e input.sk-hidden--visually {border: 0;clip: rect(1px 1px 1px 1px);clip: rect(1px, 1px, 1px, 1px);height: 1px;margin: -1px;overflow: hidden;padding: 0;position: absolute;width: 1px;}#sk-2b31cd18-9ef9-4d86-995a-d96fed95934e div.sk-estimator {font-family: monospace;background-color: #f0f8ff;border: 1px dotted black;border-radius: 0.25em;box-sizing: border-box;margin-bottom: 0.5em;}#sk-2b31cd18-9ef9-4d86-995a-d96fed95934e div.sk-estimator:hover {background-color: #d4ebff;}#sk-2b31cd18-9ef9-4d86-995a-d96fed95934e div.sk-parallel-item::after {content: \"\";width: 100%;border-bottom: 1px solid gray;flex-grow: 1;}#sk-2b31cd18-9ef9-4d86-995a-d96fed95934e div.sk-label:hover label.sk-toggleable__label {background-color: #d4ebff;}#sk-2b31cd18-9ef9-4d86-995a-d96fed95934e div.sk-serial::before {content: \"\";position: absolute;border-left: 1px solid gray;box-sizing: border-box;top: 2em;bottom: 0;left: 50%;}#sk-2b31cd18-9ef9-4d86-995a-d96fed95934e div.sk-serial {display: flex;flex-direction: column;align-items: center;background-color: white;padding-right: 0.2em;padding-left: 0.2em;}#sk-2b31cd18-9ef9-4d86-995a-d96fed95934e div.sk-item {z-index: 1;}#sk-2b31cd18-9ef9-4d86-995a-d96fed95934e div.sk-parallel {display: flex;align-items: stretch;justify-content: center;background-color: white;}#sk-2b31cd18-9ef9-4d86-995a-d96fed95934e div.sk-parallel::before {content: \"\";position: absolute;border-left: 1px solid gray;box-sizing: border-box;top: 2em;bottom: 0;left: 50%;}#sk-2b31cd18-9ef9-4d86-995a-d96fed95934e div.sk-parallel-item {display: flex;flex-direction: column;position: relative;background-color: white;}#sk-2b31cd18-9ef9-4d86-995a-d96fed95934e div.sk-parallel-item:first-child::after {align-self: flex-end;width: 50%;}#sk-2b31cd18-9ef9-4d86-995a-d96fed95934e div.sk-parallel-item:last-child::after {align-self: flex-start;width: 50%;}#sk-2b31cd18-9ef9-4d86-995a-d96fed95934e div.sk-parallel-item:only-child::after {width: 0;}#sk-2b31cd18-9ef9-4d86-995a-d96fed95934e div.sk-dashed-wrapped {border: 1px dashed gray;margin: 0 0.4em 0.5em 0.4em;box-sizing: border-box;padding-bottom: 0.4em;background-color: white;position: relative;}#sk-2b31cd18-9ef9-4d86-995a-d96fed95934e div.sk-label label {font-family: monospace;font-weight: bold;background-color: white;display: inline-block;line-height: 1.2em;}#sk-2b31cd18-9ef9-4d86-995a-d96fed95934e div.sk-label-container {position: relative;z-index: 2;text-align: center;}#sk-2b31cd18-9ef9-4d86-995a-d96fed95934e div.sk-container {display: inline-block;position: relative;}</style><div id=\"sk-2b31cd18-9ef9-4d86-995a-d96fed95934e\" class\"sk-top-container\"><div class=\"sk-container\"><div class=\"sk-item sk-dashed-wrapped\"><div class=\"sk-label-container\"><div class=\"sk-label sk-toggleable\"><input class=\"sk-toggleable__control sk-hidden--visually\" id=\"f153ad2d-7984-4460-8a50-5c32f2bff4ed\" type=\"checkbox\" ><label class=\"sk-toggleable__label\" for=\"f153ad2d-7984-4460-8a50-5c32f2bff4ed\">GridSearchCV</label><div class=\"sk-toggleable__content\"><pre>GridSearchCV(estimator=Pipeline(steps=[('preprocessor',\n",
    "                                        ColumnTransformer(transformers=[('pipeline',\n",
    "                                                                         Pipeline(steps=[('standardscaler',\n",
    "                                                                                          StandardScaler())]),\n",
    "                                                                         ['Nombre_de_lots',\n",
    "                                                                          'surface',\n",
    "                                                                          'Nombre_pieces_principales']),\n",
    "                                                                        ('onehotencoder',\n",
    "                                                                         OneHotEncoder(handle_unknown='ignore',\n",
    "                                                                                       sparse=False),\n",
    "                                                                         ['dep',\n",
    "                                                                          'Code_type_local'])])),\n",
    "                                       ('randomforest',\n",
    "                                        RandomForestRegressor(max_depth=2,\n",
    "                                                              random_state=123))]),\n",
    "             param_grid={'randomforest__max_depth': [2, 4],\n",
    "                         'randomforest__n_estimators': array([ 5, 10, 15, 20, 25])})</pre></div></div></div><div class=\"sk-parallel\"><div class=\"sk-parallel-item\"><div class=\"sk-item\"><div class=\"sk-serial\"><div class=\"sk-item\"><div class=\"sk-serial\"><div class=\"sk-item sk-dashed-wrapped\"><div class=\"sk-label-container\"><div class=\"sk-label sk-toggleable\"><input class=\"sk-toggleable__control sk-hidden--visually\" id=\"68e32044-a797-4ba0-8b7b-a0ee007ba8e5\" type=\"checkbox\" ><label class=\"sk-toggleable__label\" for=\"68e32044-a797-4ba0-8b7b-a0ee007ba8e5\">preprocessor: ColumnTransformer</label><div class=\"sk-toggleable__content\"><pre>ColumnTransformer(transformers=[('pipeline',\n",
    "                                 Pipeline(steps=[('standardscaler',\n",
    "                                                  StandardScaler())]),\n",
    "                                 ['Nombre_de_lots', 'surface',\n",
    "                                  'Nombre_pieces_principales']),\n",
    "                                ('onehotencoder',\n",
    "                                 OneHotEncoder(handle_unknown='ignore',\n",
    "                                               sparse=False),\n",
    "                                 ['dep', 'Code_type_local'])])</pre></div></div></div><div class=\"sk-parallel\"><div class=\"sk-parallel-item\"><div class=\"sk-item\"><div class=\"sk-label-container\"><div class=\"sk-label sk-toggleable\"><input class=\"sk-toggleable__control sk-hidden--visually\" id=\"96f532b0-a957-4c7b-925a-f939396406ed\" type=\"checkbox\" ><label class=\"sk-toggleable__label\" for=\"96f532b0-a957-4c7b-925a-f939396406ed\">pipeline</label><div class=\"sk-toggleable__content\"><pre>['Nombre_de_lots', 'surface', 'Nombre_pieces_principales']</pre></div></div></div><div class=\"sk-serial\"><div class=\"sk-item\"><div class=\"sk-serial\"><div class=\"sk-item\"><div class=\"sk-estimator sk-toggleable\"><input class=\"sk-toggleable__control sk-hidden--visually\" id=\"23388688-2ef8-4a02-80cc-cc0de81eeb28\" type=\"checkbox\" ><label class=\"sk-toggleable__label\" for=\"23388688-2ef8-4a02-80cc-cc0de81eeb28\">StandardScaler</label><div class=\"sk-toggleable__content\"><pre>StandardScaler()</pre></div></div></div></div></div></div></div></div><div class=\"sk-parallel-item\"><div class=\"sk-item\"><div class=\"sk-label-container\"><div class=\"sk-label sk-toggleable\"><input class=\"sk-toggleable__control sk-hidden--visually\" id=\"3282fc58-7b30-4621-8513-8287404f6f26\" type=\"checkbox\" ><label class=\"sk-toggleable__label\" for=\"3282fc58-7b30-4621-8513-8287404f6f26\">onehotencoder</label><div class=\"sk-toggleable__content\"><pre>['dep', 'Code_type_local']</pre></div></div></div><div class=\"sk-serial\"><div class=\"sk-item\"><div class=\"sk-estimator sk-toggleable\"><input class=\"sk-toggleable__control sk-hidden--visually\" id=\"da70b2bb-d059-4d8d-bca8-2ccce0f8646d\" type=\"checkbox\" ><label class=\"sk-toggleable__label\" for=\"da70b2bb-d059-4d8d-bca8-2ccce0f8646d\">OneHotEncoder</label><div class=\"sk-toggleable__content\"><pre>OneHotEncoder(handle_unknown='ignore', sparse=False)</pre></div></div></div></div></div></div></div></div><div class=\"sk-item\"><div class=\"sk-estimator sk-toggleable\"><input class=\"sk-toggleable__control sk-hidden--visually\" id=\"9b4e918b-667c-449d-beb0-36d989deea8f\" type=\"checkbox\" ><label class=\"sk-toggleable__label\" for=\"9b4e918b-667c-449d-beb0-36d989deea8f\">RandomForestRegressor</label><div class=\"sk-toggleable__content\"><pre>RandomForestRegressor(max_depth=2, random_state=123)</pre></div></div></div></div></div></div></div></div></div></div></div></div>\n",
    "\n"
   ]
  },
  {
   "cell_type": "markdown",
   "id": "db508e5e",
   "metadata": {},
   "source": [
    "```\n",
    "## Elapsed time : {} seconds 330\n",
    "```"
   ]
  },
  {
   "cell_type": "markdown",
   "id": "8401183d",
   "metadata": {},
   "source": [
    "On peut récupérer les paramètres optimaux avec la méthode `best_params_`:\n"
   ]
  },
  {
   "cell_type": "code",
   "execution_count": null,
   "id": "1a70e235",
   "metadata": {},
   "outputs": [],
   "source": [
    "grid_search.best_params_"
   ]
  },
  {
   "cell_type": "markdown",
   "id": "8c59fd23",
   "metadata": {},
   "source": [
    "```\n",
    "## {'randomforest__max_depth': 4, 'randomforest__n_estimators': 5}\n",
    "```\n",
    "\n",
    "On pourra aussi ré-utiliser le modèle optimal de la manière suivante:\n"
   ]
  },
  {
   "cell_type": "code",
   "execution_count": null,
   "id": "441274e7",
   "metadata": {
    "lines_to_next_cell": 0
   },
   "outputs": [],
   "source": [
    "grid_search.best_estimator_"
   ]
  },
  {
   "cell_type": "markdown",
   "id": "09b4257b",
   "metadata": {},
   "source": []
  },
  {
   "cell_type": "markdown",
   "id": "9de217e1",
   "metadata": {},
   "source": [
    "<style>#sk-1888f695-f69d-42f9-8fa3-4daf41987616 {color: black;background-color: white;}#sk-1888f695-f69d-42f9-8fa3-4daf41987616 pre{padding: 0;}#sk-1888f695-f69d-42f9-8fa3-4daf41987616 div.sk-toggleable {background-color: white;}#sk-1888f695-f69d-42f9-8fa3-4daf41987616 label.sk-toggleable__label {cursor: pointer;display: block;width: 100%;margin-bottom: 0;padding: 0.3em;box-sizing: border-box;text-align: center;}#sk-1888f695-f69d-42f9-8fa3-4daf41987616 div.sk-toggleable__content {max-height: 0;max-width: 0;overflow: hidden;text-align: left;background-color: #f0f8ff;}#sk-1888f695-f69d-42f9-8fa3-4daf41987616 div.sk-toggleable__content pre {margin: 0.2em;color: black;border-radius: 0.25em;background-color: #f0f8ff;}#sk-1888f695-f69d-42f9-8fa3-4daf41987616 input.sk-toggleable__control:checked~div.sk-toggleable__content {max-height: 200px;max-width: 100%;overflow: auto;}#sk-1888f695-f69d-42f9-8fa3-4daf41987616 div.sk-estimator input.sk-toggleable__control:checked~label.sk-toggleable__label {background-color: #d4ebff;}#sk-1888f695-f69d-42f9-8fa3-4daf41987616 div.sk-label input.sk-toggleable__control:checked~label.sk-toggleable__label {background-color: #d4ebff;}#sk-1888f695-f69d-42f9-8fa3-4daf41987616 input.sk-hidden--visually {border: 0;clip: rect(1px 1px 1px 1px);clip: rect(1px, 1px, 1px, 1px);height: 1px;margin: -1px;overflow: hidden;padding: 0;position: absolute;width: 1px;}#sk-1888f695-f69d-42f9-8fa3-4daf41987616 div.sk-estimator {font-family: monospace;background-color: #f0f8ff;border: 1px dotted black;border-radius: 0.25em;box-sizing: border-box;margin-bottom: 0.5em;}#sk-1888f695-f69d-42f9-8fa3-4daf41987616 div.sk-estimator:hover {background-color: #d4ebff;}#sk-1888f695-f69d-42f9-8fa3-4daf41987616 div.sk-parallel-item::after {content: \"\";width: 100%;border-bottom: 1px solid gray;flex-grow: 1;}#sk-1888f695-f69d-42f9-8fa3-4daf41987616 div.sk-label:hover label.sk-toggleable__label {background-color: #d4ebff;}#sk-1888f695-f69d-42f9-8fa3-4daf41987616 div.sk-serial::before {content: \"\";position: absolute;border-left: 1px solid gray;box-sizing: border-box;top: 2em;bottom: 0;left: 50%;}#sk-1888f695-f69d-42f9-8fa3-4daf41987616 div.sk-serial {display: flex;flex-direction: column;align-items: center;background-color: white;padding-right: 0.2em;padding-left: 0.2em;}#sk-1888f695-f69d-42f9-8fa3-4daf41987616 div.sk-item {z-index: 1;}#sk-1888f695-f69d-42f9-8fa3-4daf41987616 div.sk-parallel {display: flex;align-items: stretch;justify-content: center;background-color: white;}#sk-1888f695-f69d-42f9-8fa3-4daf41987616 div.sk-parallel::before {content: \"\";position: absolute;border-left: 1px solid gray;box-sizing: border-box;top: 2em;bottom: 0;left: 50%;}#sk-1888f695-f69d-42f9-8fa3-4daf41987616 div.sk-parallel-item {display: flex;flex-direction: column;position: relative;background-color: white;}#sk-1888f695-f69d-42f9-8fa3-4daf41987616 div.sk-parallel-item:first-child::after {align-self: flex-end;width: 50%;}#sk-1888f695-f69d-42f9-8fa3-4daf41987616 div.sk-parallel-item:last-child::after {align-self: flex-start;width: 50%;}#sk-1888f695-f69d-42f9-8fa3-4daf41987616 div.sk-parallel-item:only-child::after {width: 0;}#sk-1888f695-f69d-42f9-8fa3-4daf41987616 div.sk-dashed-wrapped {border: 1px dashed gray;margin: 0 0.4em 0.5em 0.4em;box-sizing: border-box;padding-bottom: 0.4em;background-color: white;position: relative;}#sk-1888f695-f69d-42f9-8fa3-4daf41987616 div.sk-label label {font-family: monospace;font-weight: bold;background-color: white;display: inline-block;line-height: 1.2em;}#sk-1888f695-f69d-42f9-8fa3-4daf41987616 div.sk-label-container {position: relative;z-index: 2;text-align: center;}#sk-1888f695-f69d-42f9-8fa3-4daf41987616 div.sk-container {display: inline-block;position: relative;}</style><div id=\"sk-1888f695-f69d-42f9-8fa3-4daf41987616\" class\"sk-top-container\"><div class=\"sk-container\"><div class=\"sk-item sk-dashed-wrapped\"><div class=\"sk-label-container\"><div class=\"sk-label sk-toggleable\"><input class=\"sk-toggleable__control sk-hidden--visually\" id=\"643e2a14-23e2-4549-8568-c4f805f0bf45\" type=\"checkbox\" ><label class=\"sk-toggleable__label\" for=\"643e2a14-23e2-4549-8568-c4f805f0bf45\">Pipeline</label><div class=\"sk-toggleable__content\"><pre>Pipeline(steps=[('preprocessor',\n",
    "                 ColumnTransformer(transformers=[('pipeline',\n",
    "                                                  Pipeline(steps=[('standardscaler',\n",
    "                                                                   StandardScaler())]),\n",
    "                                                  ['Nombre_de_lots', 'surface',\n",
    "                                                   'Nombre_pieces_principales']),\n",
    "                                                 ('onehotencoder',\n",
    "                                                  OneHotEncoder(handle_unknown='ignore',\n",
    "                                                                sparse=False),\n",
    "                                                  ['dep',\n",
    "                                                   'Code_type_local'])])),\n",
    "                ('randomforest',\n",
    "                 RandomForestRegressor(max_depth=4, n_estimators=5,\n",
    "                                       random_state=123))])</pre></div></div></div><div class=\"sk-serial\"><div class=\"sk-item sk-dashed-wrapped\"><div class=\"sk-label-container\"><div class=\"sk-label sk-toggleable\"><input class=\"sk-toggleable__control sk-hidden--visually\" id=\"d3f7f7f8-550a-4718-a559-e6534be9589a\" type=\"checkbox\" ><label class=\"sk-toggleable__label\" for=\"d3f7f7f8-550a-4718-a559-e6534be9589a\">preprocessor: ColumnTransformer</label><div class=\"sk-toggleable__content\"><pre>ColumnTransformer(transformers=[('pipeline',\n",
    "                                 Pipeline(steps=[('standardscaler',\n",
    "                                                  StandardScaler())]),\n",
    "                                 ['Nombre_de_lots', 'surface',\n",
    "                                  'Nombre_pieces_principales']),\n",
    "                                ('onehotencoder',\n",
    "                                 OneHotEncoder(handle_unknown='ignore',\n",
    "                                               sparse=False),\n",
    "                                 ['dep', 'Code_type_local'])])</pre></div></div></div><div class=\"sk-parallel\"><div class=\"sk-parallel-item\"><div class=\"sk-item\"><div class=\"sk-label-container\"><div class=\"sk-label sk-toggleable\"><input class=\"sk-toggleable__control sk-hidden--visually\" id=\"cff071ff-539c-4ae3-8987-3a9ba053981c\" type=\"checkbox\" ><label class=\"sk-toggleable__label\" for=\"cff071ff-539c-4ae3-8987-3a9ba053981c\">pipeline</label><div class=\"sk-toggleable__content\"><pre>['Nombre_de_lots', 'surface', 'Nombre_pieces_principales']</pre></div></div></div><div class=\"sk-serial\"><div class=\"sk-item\"><div class=\"sk-serial\"><div class=\"sk-item\"><div class=\"sk-estimator sk-toggleable\"><input class=\"sk-toggleable__control sk-hidden--visually\" id=\"222ebb6e-fb93-4b56-9ea2-da3a375d0dff\" type=\"checkbox\" ><label class=\"sk-toggleable__label\" for=\"222ebb6e-fb93-4b56-9ea2-da3a375d0dff\">StandardScaler</label><div class=\"sk-toggleable__content\"><pre>StandardScaler()</pre></div></div></div></div></div></div></div></div><div class=\"sk-parallel-item\"><div class=\"sk-item\"><div class=\"sk-label-container\"><div class=\"sk-label sk-toggleable\"><input class=\"sk-toggleable__control sk-hidden--visually\" id=\"10c95da5-b443-4de4-b7ad-8371f77ee8a2\" type=\"checkbox\" ><label class=\"sk-toggleable__label\" for=\"10c95da5-b443-4de4-b7ad-8371f77ee8a2\">onehotencoder</label><div class=\"sk-toggleable__content\"><pre>['dep', 'Code_type_local']</pre></div></div></div><div class=\"sk-serial\"><div class=\"sk-item\"><div class=\"sk-estimator sk-toggleable\"><input class=\"sk-toggleable__control sk-hidden--visually\" id=\"9e36a34f-5968-4140-b034-e1d095d5abee\" type=\"checkbox\" ><label class=\"sk-toggleable__label\" for=\"9e36a34f-5968-4140-b034-e1d095d5abee\">OneHotEncoder</label><div class=\"sk-toggleable__content\"><pre>OneHotEncoder(handle_unknown='ignore', sparse=False)</pre></div></div></div></div></div></div></div></div><div class=\"sk-item\"><div class=\"sk-estimator sk-toggleable\"><input class=\"sk-toggleable__control sk-hidden--visually\" id=\"c6603a8d-179a-457e-8125-04319857272f\" type=\"checkbox\" ><label class=\"sk-toggleable__label\" for=\"c6603a8d-179a-457e-8125-04319857272f\">RandomForestRegressor</label><div class=\"sk-toggleable__content\"><pre>RandomForestRegressor(max_depth=4, n_estimators=5, random_state=123)</pre></div></div></div></div></div></div></div>"
   ]
  },
  {
   "cell_type": "markdown",
   "id": "6a8b2cbc",
   "metadata": {},
   "source": [
    "Toutes les performances sur les ensembles d'échantillons et de test sur la grille\n",
    "d'hyperparamètres sont disponibles dans l'attribut:\n"
   ]
  },
  {
   "cell_type": "code",
   "execution_count": null,
   "id": "815ab664",
   "metadata": {},
   "outputs": [],
   "source": [
    "perf_random_forest = pd.DataFrame(grid_search.cv_results_)"
   ]
  },
  {
   "cell_type": "markdown",
   "id": "628d4e05",
   "metadata": {},
   "source": [
    "Regardons les résultats moyens pour chaque valeur des hyperparamètres:\n"
   ]
  },
  {
   "cell_type": "code",
   "execution_count": null,
   "id": "e8281ba4",
   "metadata": {},
   "outputs": [],
   "source": [
    "fig, ax = plt.subfigure(1)"
   ]
  },
  {
   "cell_type": "markdown",
   "id": "6004b6ee",
   "metadata": {},
   "source": [
    "```\n",
    "## Error in py_call_impl(callable, dots$args, dots$keywords): AttributeError: module 'matplotlib.pyplot' has no attribute 'subfigure'\n",
    "## \n",
    "## Detailed traceback: \n",
    "##   File \"<string>\", line 1, in <module>\n",
    "```"
   ]
  },
  {
   "cell_type": "code",
   "execution_count": null,
   "id": "87f30804",
   "metadata": {},
   "outputs": [],
   "source": [
    "g = sns.lineplot(data = perf_random_forest, ax = ax,\n",
    "             x = \"param_randomforest__n_estimators\",\n",
    "             y = \"mean_test_score\",\n",
    "             hue = \"param_randomforest__max_depth\")\n",
    "g.set(xlabel='Number of estimators', ylabel='Mean score on test sample')"
   ]
  },
  {
   "cell_type": "code",
   "execution_count": null,
   "id": "125df47d",
   "metadata": {
    "lines_to_next_cell": 0
   },
   "outputs": [],
   "source": [
    "g\n",
    "plt.legend(bbox_to_anchor=(1.05, 1), loc='upper left', borderaxespad=0,\n",
    "           title='Depth of trees')\n",
    "plt.savefig(\"perfCV.png\")"
   ]
  },
  {
   "cell_type": "markdown",
   "id": "5de48bef",
   "metadata": {},
   "source": []
  },
  {
   "cell_type": "markdown",
   "id": "99a62343",
   "metadata": {},
   "source": [
    "Globalement, à profondeur d'arbre donnée, le nombre d'arbres change\n",
    "marginalement la performance (cela détériore\n",
    "la performance quand la profondeur est de 4, cela améliore quand\n",
    "on fixe la profondeur de 2).\n",
    "En revanche, changer la profondeur de l'arbre améliore la \n",
    "performance de manière plus marquée.\n",
    "\n",
    "Maintenant, il nous reste à re-entraîner le modèle avec ces nouveaux\n",
    "paramètres sur l'ensemble du jeu de *train* et l'évaluer sur l'ensemble\n",
    "du jeu de *test*:\n"
   ]
  },
  {
   "cell_type": "code",
   "execution_count": null,
   "id": "e112f3e6",
   "metadata": {},
   "outputs": [],
   "source": [
    "pipe_optimal = grid_search.best_estimator_\n",
    "pipe_optimal.fit(X_train, y_train)"
   ]
  },
  {
   "cell_type": "code",
   "execution_count": null,
   "id": "5931d25e",
   "metadata": {},
   "outputs": [],
   "source": [
    "compar = pd.DataFrame([y_test, pipe_optimal.predict(X_test)]).T\n",
    "compar.columns = ['obs','pred']\n",
    "compar['diff'] = compar.obs - compar.pred"
   ]
  },
  {
   "cell_type": "markdown",
   "id": "58e93e46",
   "metadata": {},
   "source": [
    "On obtient le RMSE suivant:\n"
   ]
  },
  {
   "cell_type": "code",
   "execution_count": null,
   "id": "bb833610",
   "metadata": {},
   "outputs": [],
   "source": [
    "print(\"Le RMSE sur le jeu de test est {:,}\".format(\n",
    "   int(np.sqrt(mean_squared_error(y_test, pipe_optimal.predict(X_test))))\n",
    "))"
   ]
  },
  {
   "cell_type": "markdown",
   "id": "de2fc8e6",
   "metadata": {},
   "source": [
    "```\n",
    "## Le RMSE sur le jeu de test est 449,713\n",
    "```\n",
    "\n",
    "Et si on regarde la qualité en prédiction:\n"
   ]
  },
  {
   "cell_type": "code",
   "execution_count": null,
   "id": "cc47a23d",
   "metadata": {},
   "outputs": [],
   "source": [
    "g = sns.relplot(data = compar, x = 'obs', y = 'pred', color = \"royalblue\", alpha = 0.8)\n",
    "g.set(ylim=(0, 2e6), xlim=(0, 2e6),\n",
    "      title='Evaluating estimation error on test sample',\n",
    "      xlabel='Observed values',\n",
    "      ylabel='Predicted values')"
   ]
  },
  {
   "cell_type": "code",
   "execution_count": null,
   "id": "12a6d8d2",
   "metadata": {},
   "outputs": [],
   "source": [
    "g.ax.axline(xy1=(0, 0), slope=1, color=\"red\", dashes=(5, 2))\n",
    "g"
   ]
  },
  {
   "cell_type": "code",
   "execution_count": null,
   "id": "99363523",
   "metadata": {
    "lines_to_next_cell": 2
   },
   "outputs": [],
   "source": [
    "plt.savefig(\"predCV.png\")"
   ]
  },
  {
   "cell_type": "markdown",
   "id": "c630830f",
   "metadata": {},
   "source": [
    "On obtient plus de variance dans la prédiction, c'est déjà un peu mieux.\n",
    "Cependant, cela reste décevant pour plusieurs raisons:\n",
    "\n",
    "- nous n'avons pas fait d'étape de sélection de variable\n",
    "- nous n'avons pas chercher à déterminer si la variable à prédire la plus\n",
    "pertinente était le prix ou une transformation de celle-ci\n",
    "(par exemple le prix au $m^2$)\n",
    "\n"
   ]
  },
  {
   "cell_type": "code",
   "execution_count": null,
   "id": "edc9933d",
   "metadata": {
    "lines_to_next_cell": 0
   },
   "outputs": [],
   "source": [
    "features_names=pipe_optimal['preprocessor'].get_feature_names_out()\n",
    "importances = pipe_optimal['randomforest'].feature_importances_\n",
    "std = np.std([tree.feature_importances_ for tree in pipe_optimal['randomforest'].estimators_], axis=0)\n",
    "\n",
    "forest_importances = pd.Series(importances[importances>0], index=features_names[importances>0])\n",
    "\n",
    "fig, ax = plt.subplots()\n",
    "forest_importances.plot.bar(yerr=std[importances>0], ax=ax)\n",
    "ax.set_title(\"Feature importances using MDI\")\n",
    "ax.set_ylabel(\"Mean decrease in impurity\")\n",
    "fig.tight_layout()"
   ]
  },
  {
   "cell_type": "markdown",
   "id": "fe1b3300",
   "metadata": {},
   "source": [
    "\n"
   ]
  },
  {
   "cell_type": "markdown",
   "id": "3874fbbf",
   "metadata": {},
   "source": [
    "```r\n",
    "knitr::include_graphics(\"varimportance2.png\")\n",
    "```\n"
   ]
  },
  {
   "cell_type": "markdown",
   "id": "448a391d",
   "metadata": {},
   "source": [
    "## Remarque sur la performance\n",
    "\n",
    "Les estimations sont, par défaut, menées de manière séquentielle (l'une après\n",
    "l'autre). Nous sommes cependant face à un problème\n",
    "*embarassingly parallel*. \n",
    "Pour gagner en performance, il est recommandé d'utiliser l'argument\n",
    "`n_jobs=-1`."
   ]
  },
  {
   "cell_type": "markdown",
   "id": "e568e7c4",
   "metadata": {},
   "source": [
    "## Remarque sur l'échantillonnage\n",
    "\n",
    "En l'état actuel de l'échantillonnage entre train et test au sein de la\n",
    "_grid search_,\n",
    "on est face à un problème de *data leaking* car l'échantillon\n",
    "n'est pas balancé entre nos classes (les départements).\n",
    "\n",
    "Certaines classes se \n",
    "retrouvent hors de l'échantillon d'estimation mais dans l'échantillon de prédiction.\n",
    "Autrement dit, notre *pipeline* de *preprocessing* se retrouve à devoir\n",
    "nettoyer des valeurs qu'il ne connaît pas. \n",
    "\n",
    "Nous avons choisi une option, dans notre *pipeline* pour se faciliter la vie\n",
    "à ce propos. Nous ne rencontrons pas d'erreur car nous avons utilisé l'option \n",
    "`handle_unknown = \"ignore\"` plutôt que \n",
    "`handle_unknown = \"error\"` (défaut) dans le _one hot encoding_. \n",
    "Cette option est dangereuse et n'est pas recommandée pour un vrai _pipeline_.\n",
    "De manière générale, il vaut mieux adopter une approche de\n",
    "programmation défensive en n'hésitant pas à renvoyer une erreur si la\n",
    "structure du *DataFrame* de prédiction diffère vraiment de celle du *DataFrame*\n",
    "d'entraînement."
   ]
  },
  {
   "cell_type": "markdown",
   "id": "08d209d6",
   "metadata": {},
   "source": [
    "Pour éviter cette erreur, il serait mieux de définir explicitement le schéma de\n",
    "validation croisée à mettre en oeuvre.\n",
    "Précédemment, nous avions utilisé un échantillonnage stratifié. \n",
    "Cela pourrait être fait ici avec\n",
    "la méthode `StratifiedGroupKFold` (plus d'éléments à venir)\n"
   ]
  },
  {
   "cell_type": "code",
   "execution_count": null,
   "id": "b91df50c",
   "metadata": {},
   "outputs": [],
   "source": [
    "from sklearn.model_selection import StratifiedGroupKFold\n",
    "cv = StratifiedGroupKFold(n_splits=5)\n",
    "#grid_search.fit(pd.concat((X_train, X_test), axis=0), np.concatenate([y_train,y_test]), cv = cv, groups = pd.concat((X_train, X_test), axis=0)['dep'])"
   ]
  },
  {
   "cell_type": "markdown",
   "id": "de627bdc",
   "metadata": {},
   "source": [
    "# Eléments supplémentaires à venir\n",
    "\n",
    "Ce chapitre est amené à être enrichi des éléments suivants\n",
    "(cf. [#207](https://github.com/linogaliana/python-datascientist/issues/207))\n",
    "\n",
    "- [ ] Comparaison performance entre modèles grâce aux pipelines\n",
    "- [ ] Intégration d'une étape de sélection de variable dans un pipeline\n",
    "- [ ] `statsmodels` dans un pipeline\n",
    "- [ ] `Keras` dans un pipeline\n"
   ]
  },
  {
   "cell_type": "markdown",
   "id": "c1bfe289",
   "metadata": {},
   "source": [
    "# Annexes: pipelines alternatifs\n",
    "\n",
    "## Préalable : quelques méthodes pour gagner en flexibilité dans le preprocessing\n",
    "\n",
    "Notre *DataFrame* comporte des types hétérogènes de variables:\n",
    "\n",
    "* Des variables numériques dont les variances sont très hétérogènes\n",
    "* Des variables textuelles qui mériteraient un recodage sous forme numérique\n",
    "* Des variables discrètes dont les modalités devraient être éclatées (_one hot encoding_)\n",
    "\n",
    "Pour gagner en flexibilité, nous allons proposer certaines méthodes qui permettent\n",
    "d'appliquer les étapes de _preprocessing_ adéquates à un sous-ensemble de \n",
    "variables[^1]. Ces méthodes ne sont plus nécessaires dans les versions\n",
    "récentes de `scikit`.\n",
    "\n",
    "[^1]: Un certain nombre des éléments suivants ont été glannés, par ci par là,\n",
    "depuis `stackoverflow`.\n",
    "\n",
    "Pour cela, il convient d'adopter l'approche de la programmation orientée objet. \n",
    "On va créer des classes avec des méthodes `transform` et `fit_transform`\n",
    "qui pourront ainsi être intégrées directement dans les *pipelines*, comme s'il\n",
    "s'agissait de méthodes issues de `scikit`.\n",
    "\n",
    "La première généralise `LabelEncoder` à un sous-ensemble de colonnes:\n"
   ]
  },
  {
   "cell_type": "code",
   "execution_count": null,
   "id": "2c228245",
   "metadata": {},
   "outputs": [],
   "source": [
    "from sklearn.preprocessing import LabelEncoder, OneHotEncoder\n",
    "from sklearn.compose import ColumnTransformer\n",
    "\n",
    "class MultiColumnLabelEncoder:\n",
    "    def __init__(self,columns = None):\n",
    "        self.columns = columns # array of column names to encode\n",
    "\n",
    "    def fit(self,X,y=None):\n",
    "        return self # not relevant here\n",
    "\n",
    "    def transform(self,X):\n",
    "        '''\n",
    "        Transforms columns of X specified in self.columns using\n",
    "        LabelEncoder(). If no columns specified, transforms all\n",
    "        columns in X.\n",
    "        '''\n",
    "        output = X.copy()\n",
    "        if self.columns is not None:\n",
    "            for col in self.columns:\n",
    "                output[col] = LabelEncoder().fit_transform(output[col])\n",
    "        else:\n",
    "            for colname,col in output.iteritems():\n",
    "                output[colname] = LabelEncoder().fit_transform(col)\n",
    "        return output\n",
    "\n",
    "    def fit_transform(self,X,y=None):\n",
    "        return self.fit(X,y).transform(X)"
   ]
  },
  {
   "cell_type": "markdown",
   "id": "39e0d428",
   "metadata": {},
   "source": [
    "La seconde généralise cette fois le *one hot encoding* à un sous ensemble de \n",
    "fonctions\n"
   ]
  },
  {
   "cell_type": "code",
   "execution_count": null,
   "id": "2a7d33b8",
   "metadata": {},
   "outputs": [],
   "source": [
    "class MultiColumnOneHotEncoder:\n",
    "    def __init__(self,columns = None):\n",
    "        self.columns = columns # array of column names to encode\n",
    "\n",
    "    def fit(self,X,y=None):\n",
    "        return self # not relevant here\n",
    "\n",
    "    def transform(self,X):\n",
    "        '''\n",
    "        Transforms columns of X specified in self.columns using\n",
    "        LabelEncoder(). If no columns specified, transforms all\n",
    "        columns in X.\n",
    "        '''\n",
    "        output = X.copy()\n",
    "        if self.columns is not None:\n",
    "            for col in self.columns:\n",
    "                output[col] = OneHotEncoder(sparse=False).fit_transform(output[col])\n",
    "        else:\n",
    "            for colname,col in output.iteritems():\n",
    "                output[colname] = OneHotEncoder(sparse=False).fit_transform(col)\n",
    "        return output\n",
    "\n",
    "    def fit_transform(self,X,y=None):\n",
    "        return self.fit(X,y).transform(X)"
   ]
  },
  {
   "cell_type": "markdown",
   "id": "654c981e",
   "metadata": {},
   "source": [
    "Les méthodes suivantes vont nous permettre de passer en arguments les noms\n",
    "de colonnes pour intégrer la récupération des bonnes colonnes de nos\n",
    "dataframes dans le pipeline:\n"
   ]
  },
  {
   "cell_type": "code",
   "execution_count": null,
   "id": "e342e347",
   "metadata": {},
   "outputs": [],
   "source": [
    "from sklearn.base import BaseEstimator, TransformerMixin, RegressorMixin\n",
    "\n",
    "class Columns(BaseEstimator, TransformerMixin):\n",
    "    def __init__(self, names=None):\n",
    "        self.names = names\n",
    "\n",
    "    def fit(self, X, y=None, **fit_params):\n",
    "        return self\n",
    "\n",
    "    def transform(self, X):\n",
    "        return X[self.names]\n",
    "\n",
    "class Normalize(BaseEstimator, TransformerMixin):\n",
    "    def __init__(self, func=None, func_param={}):\n",
    "        self.func = func\n",
    "        self.func_param = func_param\n",
    "\n",
    "    def transform(self, X):\n",
    "        if self.func != None:\n",
    "            return self.func(X, **self.func_param)\n",
    "        else:\n",
    "            return X\n",
    "\n",
    "    def fit(self, X, y=None, **fit_params):\n",
    "        return self"
   ]
  },
  {
   "cell_type": "markdown",
   "id": "1b0a25b2",
   "metadata": {},
   "source": [
    "Enfin, on va créer une méthode intermédiaire sous forme de *hack*\n",
    "(elle prend une matrice en entrée et renvoie la même matrice) \n",
    "pour\n",
    "pouvoir facilement récupérer notre matrice de *feature* afin de vérifier\n",
    "ses caractéristiques (notamment le nombre de colonnes disponibles):\n"
   ]
  },
  {
   "cell_type": "code",
   "execution_count": null,
   "id": "37e24564",
   "metadata": {
    "lines_to_next_cell": 0
   },
   "outputs": [],
   "source": [
    "class Collect(BaseEstimator, TransformerMixin):\n",
    "\n",
    "    def transform(self, X):\n",
    "        #print(X.shape)\n",
    "        #self.shape = shape\n",
    "        # what other output you want\n",
    "        return X\n",
    "\n",
    "    def fit(self, X, y=None, **fit_params):\n",
    "        return self"
   ]
  },
  {
   "cell_type": "markdown",
   "id": "ebc3555c",
   "metadata": {},
   "source": [
    "\n"
   ]
  },
  {
   "cell_type": "code",
   "execution_count": null,
   "id": "76042b39",
   "metadata": {
    "lines_to_next_cell": 2
   },
   "outputs": [],
   "source": [
    "from sklearn.pipeline import make_pipeline, FeatureUnion\n",
    "from sklearn.preprocessing import StandardScaler, LabelEncoder, OneHotEncoder\n",
    "from sklearn.pipeline import Pipeline\n",
    "\n",
    "pipe2 = Pipeline([\n",
    "    (\"features\", FeatureUnion([\n",
    "        ('numeric', make_pipeline(Columns(names=numeric_features[:-1]),StandardScaler())),\n",
    "        ('categorical', make_pipeline(Columns(names=categorical_features),OneHotEncoder(sparse=False)))\n",
    "    ])),\n",
    "    ('identity', Collect()),\n",
    "    ('randomforest', regr)\n",
    "])"
   ]
  },
  {
   "cell_type": "markdown",
   "id": "96d7c7a2",
   "metadata": {},
   "source": [
    "<style>#sk-f26e5d71-240a-4e54-8bb0-cabf03371824 {color: black;background-color: white;}#sk-f26e5d71-240a-4e54-8bb0-cabf03371824 pre{padding: 0;}#sk-f26e5d71-240a-4e54-8bb0-cabf03371824 div.sk-toggleable {background-color: white;}#sk-f26e5d71-240a-4e54-8bb0-cabf03371824 label.sk-toggleable__label {cursor: pointer;display: block;width: 100%;margin-bottom: 0;padding: 0.3em;box-sizing: border-box;text-align: center;}#sk-f26e5d71-240a-4e54-8bb0-cabf03371824 div.sk-toggleable__content {max-height: 0;max-width: 0;overflow: hidden;text-align: left;background-color: #f0f8ff;}#sk-f26e5d71-240a-4e54-8bb0-cabf03371824 div.sk-toggleable__content pre {margin: 0.2em;color: black;border-radius: 0.25em;background-color: #f0f8ff;}#sk-f26e5d71-240a-4e54-8bb0-cabf03371824 input.sk-toggleable__control:checked~div.sk-toggleable__content {max-height: 200px;max-width: 100%;overflow: auto;}#sk-f26e5d71-240a-4e54-8bb0-cabf03371824 div.sk-estimator input.sk-toggleable__control:checked~label.sk-toggleable__label {background-color: #d4ebff;}#sk-f26e5d71-240a-4e54-8bb0-cabf03371824 div.sk-label input.sk-toggleable__control:checked~label.sk-toggleable__label {background-color: #d4ebff;}#sk-f26e5d71-240a-4e54-8bb0-cabf03371824 input.sk-hidden--visually {border: 0;clip: rect(1px 1px 1px 1px);clip: rect(1px, 1px, 1px, 1px);height: 1px;margin: -1px;overflow: hidden;padding: 0;position: absolute;width: 1px;}#sk-f26e5d71-240a-4e54-8bb0-cabf03371824 div.sk-estimator {font-family: monospace;background-color: #f0f8ff;border: 1px dotted black;border-radius: 0.25em;box-sizing: border-box;margin-bottom: 0.5em;}#sk-f26e5d71-240a-4e54-8bb0-cabf03371824 div.sk-estimator:hover {background-color: #d4ebff;}#sk-f26e5d71-240a-4e54-8bb0-cabf03371824 div.sk-parallel-item::after {content: \"\";width: 100%;border-bottom: 1px solid gray;flex-grow: 1;}#sk-f26e5d71-240a-4e54-8bb0-cabf03371824 div.sk-label:hover label.sk-toggleable__label {background-color: #d4ebff;}#sk-f26e5d71-240a-4e54-8bb0-cabf03371824 div.sk-serial::before {content: \"\";position: absolute;border-left: 1px solid gray;box-sizing: border-box;top: 2em;bottom: 0;left: 50%;}#sk-f26e5d71-240a-4e54-8bb0-cabf03371824 div.sk-serial {display: flex;flex-direction: column;align-items: center;background-color: white;padding-right: 0.2em;padding-left: 0.2em;}#sk-f26e5d71-240a-4e54-8bb0-cabf03371824 div.sk-item {z-index: 1;}#sk-f26e5d71-240a-4e54-8bb0-cabf03371824 div.sk-parallel {display: flex;align-items: stretch;justify-content: center;background-color: white;}#sk-f26e5d71-240a-4e54-8bb0-cabf03371824 div.sk-parallel::before {content: \"\";position: absolute;border-left: 1px solid gray;box-sizing: border-box;top: 2em;bottom: 0;left: 50%;}#sk-f26e5d71-240a-4e54-8bb0-cabf03371824 div.sk-parallel-item {display: flex;flex-direction: column;position: relative;background-color: white;}#sk-f26e5d71-240a-4e54-8bb0-cabf03371824 div.sk-parallel-item:first-child::after {align-self: flex-end;width: 50%;}#sk-f26e5d71-240a-4e54-8bb0-cabf03371824 div.sk-parallel-item:last-child::after {align-self: flex-start;width: 50%;}#sk-f26e5d71-240a-4e54-8bb0-cabf03371824 div.sk-parallel-item:only-child::after {width: 0;}#sk-f26e5d71-240a-4e54-8bb0-cabf03371824 div.sk-dashed-wrapped {border: 1px dashed gray;margin: 0 0.4em 0.5em 0.4em;box-sizing: border-box;padding-bottom: 0.4em;background-color: white;position: relative;}#sk-f26e5d71-240a-4e54-8bb0-cabf03371824 div.sk-label label {font-family: monospace;font-weight: bold;background-color: white;display: inline-block;line-height: 1.2em;}#sk-f26e5d71-240a-4e54-8bb0-cabf03371824 div.sk-label-container {position: relative;z-index: 2;text-align: center;}#sk-f26e5d71-240a-4e54-8bb0-cabf03371824 div.sk-container {display: inline-block;position: relative;}</style><div id=\"sk-f26e5d71-240a-4e54-8bb0-cabf03371824\" class\"sk-top-container\"><div class=\"sk-container\"><div class=\"sk-item sk-dashed-wrapped\"><div class=\"sk-label-container\"><div class=\"sk-label sk-toggleable\"><input class=\"sk-toggleable__control sk-hidden--visually\" id=\"cff1e2c2-5b6c-4b1d-b031-94eb63fdda9b\" type=\"checkbox\" ><label class=\"sk-toggleable__label\" for=\"cff1e2c2-5b6c-4b1d-b031-94eb63fdda9b\">Pipeline</label><div class=\"sk-toggleable__content\"><pre>Pipeline(steps=[('features',\n",
    "                 FeatureUnion(transformer_list=[('numeric',\n",
    "                                                 Pipeline(steps=[('columns',\n",
    "                                                                  Columns(names=['Nombre_de_lots',\n",
    "                                                                                 'surface',\n",
    "                                                                                 'Nombre_pieces_principales'])),\n",
    "                                                                 ('standardscaler',\n",
    "                                                                  StandardScaler())])),\n",
    "                                                ('categorical',\n",
    "                                                 Pipeline(steps=[('columns',\n",
    "                                                                  Columns(names=['dep',\n",
    "                                                                                 'Code_type_local'])),\n",
    "                                                                 ('onehotencoder',\n",
    "                                                                  OneHotEncoder(sparse=False))]))])),\n",
    "                ('identity', Collect()),\n",
    "                ('randomforest',\n",
    "                 RandomForestRegressor(max_depth=2, random_state=123))])</pre></div></div></div><div class=\"sk-serial\"><div class=\"sk-item sk-dashed-wrapped\"><div class=\"sk-label-container\"><div class=\"sk-label sk-toggleable\"><input class=\"sk-toggleable__control sk-hidden--visually\" id=\"6cd4b939-990d-4334-9897-ef27b0446a34\" type=\"checkbox\" ><label class=\"sk-toggleable__label\" for=\"6cd4b939-990d-4334-9897-ef27b0446a34\">features: FeatureUnion</label><div class=\"sk-toggleable__content\"><pre>FeatureUnion(transformer_list=[('numeric',\n",
    "                                Pipeline(steps=[('columns',\n",
    "                                                 Columns(names=['Nombre_de_lots',\n",
    "                                                                'surface',\n",
    "                                                                'Nombre_pieces_principales'])),\n",
    "                                                ('standardscaler',\n",
    "                                                 StandardScaler())])),\n",
    "                               ('categorical',\n",
    "                                Pipeline(steps=[('columns',\n",
    "                                                 Columns(names=['dep',\n",
    "                                                                'Code_type_local'])),\n",
    "                                                ('onehotencoder',\n",
    "                                                 OneHotEncoder(sparse=False))]))])</pre></div></div></div><div class=\"sk-parallel\"><div class=\"sk-parallel-item\"><div class=\"sk-item\"><div class=\"sk-label-container\"><div class=\"sk-label sk-toggleable\"><label>numeric</label></div></div><div class=\"sk-serial\"><div class=\"sk-item\"><div class=\"sk-serial\"><div class=\"sk-item\"><div class=\"sk-estimator sk-toggleable\"><input class=\"sk-toggleable__control sk-hidden--visually\" id=\"5e13f77c-6791-46d4-b094-7bd80c819525\" type=\"checkbox\" ><label class=\"sk-toggleable__label\" for=\"5e13f77c-6791-46d4-b094-7bd80c819525\">Columns</label><div class=\"sk-toggleable__content\"><pre>Columns(names=['Nombre_de_lots', 'surface', 'Nombre_pieces_principales'])</pre></div></div></div><div class=\"sk-item\"><div class=\"sk-estimator sk-toggleable\"><input class=\"sk-toggleable__control sk-hidden--visually\" id=\"f29ab14b-47a1-4f32-8d10-a64eff05431d\" type=\"checkbox\" ><label class=\"sk-toggleable__label\" for=\"f29ab14b-47a1-4f32-8d10-a64eff05431d\">StandardScaler</label><div class=\"sk-toggleable__content\"><pre>StandardScaler()</pre></div></div></div></div></div></div></div></div><div class=\"sk-parallel-item\"><div class=\"sk-item\"><div class=\"sk-label-container\"><div class=\"sk-label sk-toggleable\"><label>categorical</label></div></div><div class=\"sk-serial\"><div class=\"sk-item\"><div class=\"sk-serial\"><div class=\"sk-item\"><div class=\"sk-estimator sk-toggleable\"><input class=\"sk-toggleable__control sk-hidden--visually\" id=\"6600c372-493c-4312-ad25-31df1aee991e\" type=\"checkbox\" ><label class=\"sk-toggleable__label\" for=\"6600c372-493c-4312-ad25-31df1aee991e\">Columns</label><div class=\"sk-toggleable__content\"><pre>Columns(names=['dep', 'Code_type_local'])</pre></div></div></div><div class=\"sk-item\"><div class=\"sk-estimator sk-toggleable\"><input class=\"sk-toggleable__control sk-hidden--visually\" id=\"78200f01-2645-4ab8-8484-5c584065f541\" type=\"checkbox\" ><label class=\"sk-toggleable__label\" for=\"78200f01-2645-4ab8-8484-5c584065f541\">OneHotEncoder</label><div class=\"sk-toggleable__content\"><pre>OneHotEncoder(sparse=False)</pre></div></div></div></div></div></div></div></div></div></div><div class=\"sk-item\"><div class=\"sk-estimator sk-toggleable\"><input class=\"sk-toggleable__control sk-hidden--visually\" id=\"dd6cd118-afd7-4ee2-a4f5-7197dce46291\" type=\"checkbox\" ><label class=\"sk-toggleable__label\" for=\"dd6cd118-afd7-4ee2-a4f5-7197dce46291\">Collect</label><div class=\"sk-toggleable__content\"><pre>Collect()</pre></div></div></div><div class=\"sk-item\"><div class=\"sk-estimator sk-toggleable\"><input class=\"sk-toggleable__control sk-hidden--visually\" id=\"8a051b1c-52d8-48c1-97ba-8b11f62590c6\" type=\"checkbox\" ><label class=\"sk-toggleable__label\" for=\"8a051b1c-52d8-48c1-97ba-8b11f62590c6\">RandomForestRegressor</label><div class=\"sk-toggleable__content\"><pre>RandomForestRegressor(max_depth=2, random_state=123)</pre></div></div></div></div></div></div></div>\n",
    "\n"
   ]
  },
  {
   "cell_type": "code",
   "execution_count": null,
   "id": "e79d15ad",
   "metadata": {
    "lines_to_next_cell": 2
   },
   "outputs": [],
   "source": [
    "preprocessor = ColumnTransformer(\n",
    "    transformers=[\n",
    "        ('numeric', StandardScaler(), numeric_features[:-1]),\n",
    "        ('categorical', OneHotEncoder(sparse=False, handle_unknown = \"ignore\"), categorical_features)])\n",
    "\n",
    "pipe3 = Pipeline(steps=[('preprocessor', preprocessor),\n",
    "                      ('randomforest', regr)])"
   ]
  },
  {
   "cell_type": "markdown",
   "id": "5e4081a0",
   "metadata": {},
   "source": [
    "<style>#sk-448f3cf9-d56c-46f2-9849-4e4c323893ec {color: black;background-color: white;}#sk-448f3cf9-d56c-46f2-9849-4e4c323893ec pre{padding: 0;}#sk-448f3cf9-d56c-46f2-9849-4e4c323893ec div.sk-toggleable {background-color: white;}#sk-448f3cf9-d56c-46f2-9849-4e4c323893ec label.sk-toggleable__label {cursor: pointer;display: block;width: 100%;margin-bottom: 0;padding: 0.3em;box-sizing: border-box;text-align: center;}#sk-448f3cf9-d56c-46f2-9849-4e4c323893ec div.sk-toggleable__content {max-height: 0;max-width: 0;overflow: hidden;text-align: left;background-color: #f0f8ff;}#sk-448f3cf9-d56c-46f2-9849-4e4c323893ec div.sk-toggleable__content pre {margin: 0.2em;color: black;border-radius: 0.25em;background-color: #f0f8ff;}#sk-448f3cf9-d56c-46f2-9849-4e4c323893ec input.sk-toggleable__control:checked~div.sk-toggleable__content {max-height: 200px;max-width: 100%;overflow: auto;}#sk-448f3cf9-d56c-46f2-9849-4e4c323893ec div.sk-estimator input.sk-toggleable__control:checked~label.sk-toggleable__label {background-color: #d4ebff;}#sk-448f3cf9-d56c-46f2-9849-4e4c323893ec div.sk-label input.sk-toggleable__control:checked~label.sk-toggleable__label {background-color: #d4ebff;}#sk-448f3cf9-d56c-46f2-9849-4e4c323893ec input.sk-hidden--visually {border: 0;clip: rect(1px 1px 1px 1px);clip: rect(1px, 1px, 1px, 1px);height: 1px;margin: -1px;overflow: hidden;padding: 0;position: absolute;width: 1px;}#sk-448f3cf9-d56c-46f2-9849-4e4c323893ec div.sk-estimator {font-family: monospace;background-color: #f0f8ff;border: 1px dotted black;border-radius: 0.25em;box-sizing: border-box;margin-bottom: 0.5em;}#sk-448f3cf9-d56c-46f2-9849-4e4c323893ec div.sk-estimator:hover {background-color: #d4ebff;}#sk-448f3cf9-d56c-46f2-9849-4e4c323893ec div.sk-parallel-item::after {content: \"\";width: 100%;border-bottom: 1px solid gray;flex-grow: 1;}#sk-448f3cf9-d56c-46f2-9849-4e4c323893ec div.sk-label:hover label.sk-toggleable__label {background-color: #d4ebff;}#sk-448f3cf9-d56c-46f2-9849-4e4c323893ec div.sk-serial::before {content: \"\";position: absolute;border-left: 1px solid gray;box-sizing: border-box;top: 2em;bottom: 0;left: 50%;}#sk-448f3cf9-d56c-46f2-9849-4e4c323893ec div.sk-serial {display: flex;flex-direction: column;align-items: center;background-color: white;padding-right: 0.2em;padding-left: 0.2em;}#sk-448f3cf9-d56c-46f2-9849-4e4c323893ec div.sk-item {z-index: 1;}#sk-448f3cf9-d56c-46f2-9849-4e4c323893ec div.sk-parallel {display: flex;align-items: stretch;justify-content: center;background-color: white;}#sk-448f3cf9-d56c-46f2-9849-4e4c323893ec div.sk-parallel::before {content: \"\";position: absolute;border-left: 1px solid gray;box-sizing: border-box;top: 2em;bottom: 0;left: 50%;}#sk-448f3cf9-d56c-46f2-9849-4e4c323893ec div.sk-parallel-item {display: flex;flex-direction: column;position: relative;background-color: white;}#sk-448f3cf9-d56c-46f2-9849-4e4c323893ec div.sk-parallel-item:first-child::after {align-self: flex-end;width: 50%;}#sk-448f3cf9-d56c-46f2-9849-4e4c323893ec div.sk-parallel-item:last-child::after {align-self: flex-start;width: 50%;}#sk-448f3cf9-d56c-46f2-9849-4e4c323893ec div.sk-parallel-item:only-child::after {width: 0;}#sk-448f3cf9-d56c-46f2-9849-4e4c323893ec div.sk-dashed-wrapped {border: 1px dashed gray;margin: 0 0.4em 0.5em 0.4em;box-sizing: border-box;padding-bottom: 0.4em;background-color: white;position: relative;}#sk-448f3cf9-d56c-46f2-9849-4e4c323893ec div.sk-label label {font-family: monospace;font-weight: bold;background-color: white;display: inline-block;line-height: 1.2em;}#sk-448f3cf9-d56c-46f2-9849-4e4c323893ec div.sk-label-container {position: relative;z-index: 2;text-align: center;}#sk-448f3cf9-d56c-46f2-9849-4e4c323893ec div.sk-container {display: inline-block;position: relative;}</style><div id=\"sk-448f3cf9-d56c-46f2-9849-4e4c323893ec\" class\"sk-top-container\"><div class=\"sk-container\"><div class=\"sk-item sk-dashed-wrapped\"><div class=\"sk-label-container\"><div class=\"sk-label sk-toggleable\"><input class=\"sk-toggleable__control sk-hidden--visually\" id=\"eecd234e-5baf-4583-b72e-a3d0fdebe94a\" type=\"checkbox\" ><label class=\"sk-toggleable__label\" for=\"eecd234e-5baf-4583-b72e-a3d0fdebe94a\">Pipeline</label><div class=\"sk-toggleable__content\"><pre>Pipeline(steps=[('preprocessor',\n",
    "                 ColumnTransformer(transformers=[('numeric', StandardScaler(),\n",
    "                                                  ['Nombre_de_lots', 'surface',\n",
    "                                                   'Nombre_pieces_principales']),\n",
    "                                                 ('categorical',\n",
    "                                                  OneHotEncoder(handle_unknown='ignore',\n",
    "                                                                sparse=False),\n",
    "                                                  ['dep',\n",
    "                                                   'Code_type_local'])])),\n",
    "                ('randomforest',\n",
    "                 RandomForestRegressor(max_depth=2, random_state=123))])</pre></div></div></div><div class=\"sk-serial\"><div class=\"sk-item sk-dashed-wrapped\"><div class=\"sk-label-container\"><div class=\"sk-label sk-toggleable\"><input class=\"sk-toggleable__control sk-hidden--visually\" id=\"380c1952-cfa9-4b14-9ff2-4c352b34454e\" type=\"checkbox\" ><label class=\"sk-toggleable__label\" for=\"380c1952-cfa9-4b14-9ff2-4c352b34454e\">preprocessor: ColumnTransformer</label><div class=\"sk-toggleable__content\"><pre>ColumnTransformer(transformers=[('numeric', StandardScaler(),\n",
    "                                 ['Nombre_de_lots', 'surface',\n",
    "                                  'Nombre_pieces_principales']),\n",
    "                                ('categorical',\n",
    "                                 OneHotEncoder(handle_unknown='ignore',\n",
    "                                               sparse=False),\n",
    "                                 ['dep', 'Code_type_local'])])</pre></div></div></div><div class=\"sk-parallel\"><div class=\"sk-parallel-item\"><div class=\"sk-item\"><div class=\"sk-label-container\"><div class=\"sk-label sk-toggleable\"><input class=\"sk-toggleable__control sk-hidden--visually\" id=\"c0f20667-90b5-4893-a704-75287a83c01d\" type=\"checkbox\" ><label class=\"sk-toggleable__label\" for=\"c0f20667-90b5-4893-a704-75287a83c01d\">numeric</label><div class=\"sk-toggleable__content\"><pre>['Nombre_de_lots', 'surface', 'Nombre_pieces_principales']</pre></div></div></div><div class=\"sk-serial\"><div class=\"sk-item\"><div class=\"sk-estimator sk-toggleable\"><input class=\"sk-toggleable__control sk-hidden--visually\" id=\"f9642f45-d195-4a50-9413-2bc60065e29d\" type=\"checkbox\" ><label class=\"sk-toggleable__label\" for=\"f9642f45-d195-4a50-9413-2bc60065e29d\">StandardScaler</label><div class=\"sk-toggleable__content\"><pre>StandardScaler()</pre></div></div></div></div></div></div><div class=\"sk-parallel-item\"><div class=\"sk-item\"><div class=\"sk-label-container\"><div class=\"sk-label sk-toggleable\"><input class=\"sk-toggleable__control sk-hidden--visually\" id=\"292838f4-bc76-4bc8-b4c7-48d2093c152a\" type=\"checkbox\" ><label class=\"sk-toggleable__label\" for=\"292838f4-bc76-4bc8-b4c7-48d2093c152a\">categorical</label><div class=\"sk-toggleable__content\"><pre>['dep', 'Code_type_local']</pre></div></div></div><div class=\"sk-serial\"><div class=\"sk-item\"><div class=\"sk-estimator sk-toggleable\"><input class=\"sk-toggleable__control sk-hidden--visually\" id=\"5344fd08-57cb-446d-93f8-68111ff082ab\" type=\"checkbox\" ><label class=\"sk-toggleable__label\" for=\"5344fd08-57cb-446d-93f8-68111ff082ab\">OneHotEncoder</label><div class=\"sk-toggleable__content\"><pre>OneHotEncoder(handle_unknown='ignore', sparse=False)</pre></div></div></div></div></div></div></div></div><div class=\"sk-item\"><div class=\"sk-estimator sk-toggleable\"><input class=\"sk-toggleable__control sk-hidden--visually\" id=\"7b349982-1bc9-4981-99c6-dec8781664e4\" type=\"checkbox\" ><label class=\"sk-toggleable__label\" for=\"7b349982-1bc9-4981-99c6-dec8781664e4\">RandomForestRegressor</label><div class=\"sk-toggleable__content\"><pre>RandomForestRegressor(max_depth=2, random_state=123)</pre></div></div></div></div></div></div></div>"
   ]
  },
  {
   "cell_type": "markdown",
   "id": "feac0e0a",
   "metadata": {},
   "source": [
    "# Références"
   ]
  },
  {
   "cell_type": "markdown",
   "id": "c10ea848",
   "metadata": {},
   "source": [
    "- Breiman L (2001). _\"Random Forests\". Machine Learning_. 45 (1): 5–32."
   ]
  }
 ],
 "metadata": {
  "kernelspec": {
   "display_name": "Python 3",
   "language": "python",
   "name": "python3"
  }
 },
 "nbformat": 4,
 "nbformat_minor": 5
}
