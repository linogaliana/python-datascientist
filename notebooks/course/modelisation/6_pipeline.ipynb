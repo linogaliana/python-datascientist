{
 "cells": [
  {
   "cell_type": "markdown",
   "id": "c68b30f9",
   "metadata": {},
   "source": [
    "#  Premier pas vers lindustrialisation avec les pipelines scikit\n",
    "\n",
    "\n"
   ]
  },
  {
   "cell_type": "markdown",
   "id": "f409b125",
   "metadata": {},
   "source": [
    "<a href=\"https://github.com/linogaliana/python-datascientist/blob/master//__w/python-datascientist/python-datascientist/notebooks/course/modelisation/6_pipeline.ipynb\" class=\"github\"><i class=\"fab fa-github\"></i></a>\n",
    "[![Download](https://img.shields.io/badge/Download-Notebook-important?logo=Jupyter)](https://downgit.github.io/#/home?url=https://github.com/linogaliana/python-datascientist/blob/master//__w/python-datascientist/python-datascientist/notebooks/course/modelisation/6_pipeline.ipynb)\n",
    "[![nbviewer](https://img.shields.io/badge/Visualize-nbviewer-blue?logo=Jupyter)](https://nbviewer.jupyter.org/github/linogaliana/python-datascientist/blob/master//__w/python-datascientist/python-datascientist/notebooks/course/modelisation/6_pipeline.ipynb)\n",
    "[![Onyxia](https://img.shields.io/badge/SSPcloud-Tester%20via%20SSP--cloud-informational&color=yellow?logo=Python)](https://datalab.sspcloud.fr/launcher/inseefrlab-helm-charts-datascience/jupyter?autoLaunch=true&onyxia.friendlyName=%C2%ABpython-datascience%C2%BB&init.personalInit=%C2%ABhttps%3A%2F%2Fraw.githubusercontent.com%2Flinogaliana%2Fpython-datascientist%2Fmaster%2Fsspcloud%2Finit-jupyter.sh%C2%BB&init.personalInitArgs=%C2%ABmodelisation%206_pipeline%C2%BB&security.allowlist.enabled=false)\n",
    "<br>\n",
    "[![Binder](https://img.shields.io/badge/Launch-Binder-E66581.svg?logo=data:image/png;base64,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)](https://mybinder.org/v2/gh/linogaliana/python-datascientist/master?filepath=/__w/python-datascientist/python-datascientist/notebooks/course/modelisation/6_pipeline.ipynb)\n",
    "[![Open In Colab](https://colab.research.google.com/assets/colab-badge.svg)](http://colab.research.google.com/github/linogaliana/python-datascientist/blob/master//__w/python-datascientist/python-datascientist/notebooks/course/modelisation/6_pipeline.ipynb)\n",
    "[![githubdev](https://open.vscode.dev/badges/open-in-vscode.svg)](https://github.dev/linogaliana/python-datascientist//__w/python-datascientist/python-datascientist/notebooks/course/modelisation/6_pipeline.ipynb)\n",
    "\n",
    "# Pourquoi utiliser les pipelines ?\n",
    "\n",
    "Les chapitres précédents ont permis de montrer des bouts de code \n",
    "épars pour entraîner des modèles ou faire du _preprocessing_.\n",
    "Cette démarche est intéressante pour tâtonner mais risque d'être coûteuse\n",
    "ultérieurement s'il est nécessaire d'ajouter une étape de preprocessing \n",
    "ou de changer d'algorithme.\n",
    "\n",
    "Heureusement, `scikit` propose un excellent outil pour proposer un cadre\n",
    "général pour créer une chaîne de production *machine learning*. Il\n",
    "s'agit des\n",
    "[_pipelines_](https://scikit-learn.org/stable/modules/compose.html). \n",
    "Ils présentent de nombreux intérêts, parmi lesquels:\n",
    "\n",
    "* Ils sont très __pratiques__ et __lisibles__. On rentre des données en entrée, on n'appelle qu'une seule fois les méthodes `fit` et `predict` ce qui permet de s'assurer une gestion cohérente des transformations de variables, par exemple après l'appel d'un `StandardScaler`\n",
    "* La __modularité__ rend aisée la mise à jour d'un pipeline et renforce la capacité à le réutiliser\n",
    "* Ils permettent de facilement chercher les hyperparamètres d'un modèle. Sans *pipeline*, écrire un code qui fait du *tuning* d'hyperparamètres peut être pénible. Avec les *pipelines*, c'est une ligne de code. \n",
    "* La __sécurité__ d'être certain que les étapes de preprocessing sont bien appliquées aux jeux de données désirés avant l'estimation. "
   ]
  },
  {
   "cell_type": "markdown",
   "id": "57fd01c8",
   "metadata": {},
   "source": [
    "Un des intérêts des *pipelines* scikit est qu'ils fonctionnent aussi avec\n",
    "des méthodes qui ne sont pas issues de `scikit`.\n",
    "\n",
    "Il est très \n",
    "facile d'introduire un modèle de réseau de neurone `Keras` dans\n",
    "un pipeline `scikit`.\n",
    "\n",
    "Pour introduire un modèle économétrique `statsmodels`\n",
    "c'est un peu plus coûteux mais nous allons proposer des exemples\n",
    "qui peuvent servir de modèle et qui montrent que c'est faisable \n",
    "sans trop de difficulté."
   ]
  },
  {
   "cell_type": "markdown",
   "id": "04221cae",
   "metadata": {},
   "source": [
    "Les éléments présents dans ce chapitre nécessitent une version assez récente\n",
    "de `scikit` (au moins la version 1.0). Pour vérifier la version, faire:\n"
   ]
  },
  {
   "cell_type": "code",
   "execution_count": null,
   "id": "7d3ecd79",
   "metadata": {},
   "outputs": [],
   "source": [
    "import sklearn\n",
    "print(sklearn.__version__)"
   ]
  },
  {
   "cell_type": "markdown",
   "id": "5eda1d49",
   "metadata": {},
   "source": [
    "```\n",
    "## 1.0.2\n",
    "```\n",
    "\n",
    "Il faut également une version récente de `yellowbrick` pour éviter l'erreur\n",
    "suivante quand on utilise une version récente de `scikit` (ce que \n",
    "je recommande):\n",
    "\n",
    "> `ImportError: cannot import name 'safe_indexing' from 'sklearn.utils'`\n",
    "\n",
    "\n"
   ]
  },
  {
   "cell_type": "markdown",
   "id": "49f7a7b5",
   "metadata": {},
   "source": [
    "# Comment créer un *pipeline*\n",
    "\n",
    "Un *pipeline* est un enchaînement d'opérations qu'on code en enchainant\n",
    "des pairs *(clé, valeur)*:\n",
    "\n",
    "* la clé est le nom du pipeline, cela peut être utile lorsqu'on va\n",
    "représenter le *pipeline* sous forme de diagramme acyclique (visualisation DAG)\n",
    "ou qu'on veut afficher des informations sur une étape\n",
    "* la valeur représente la transformation à mettre en oeuvre dans le *pipeline*\n",
    "(c'est-à-dire, à l'exception de la dernière étape, \n",
    "mettre en oeuvre une méthode `transform` et éventuellement une\n",
    "transformation inverse).\n",
    "\n"
   ]
  },
  {
   "cell_type": "code",
   "execution_count": null,
   "id": "bd6287ed",
   "metadata": {
    "lines_to_next_cell": 0
   },
   "outputs": [],
   "source": [
    "from sklearn.pipeline import Pipeline\n",
    "from sklearn.svm import SVC\n",
    "from sklearn.decomposition import PCA\n",
    "\n",
    "estimators = [('reduce_dim', PCA()), ('clf', SVC())]\n",
    "pipe = Pipeline(estimators)"
   ]
  },
  {
   "cell_type": "markdown",
   "id": "a1d3eb55",
   "metadata": {},
   "source": [
    "\n",
    "\n"
   ]
  },
  {
   "cell_type": "markdown",
   "id": "cc61dbeb",
   "metadata": {},
   "source": [
    "Il est pratique de visualiser un *pipeline* sous forme de DAG.\n",
    "Pour cela, dans un notebook, on utilise la configuration\n",
    "suivante:\n"
   ]
  },
  {
   "cell_type": "code",
   "execution_count": null,
   "id": "15116848",
   "metadata": {
    "lines_to_next_cell": 0
   },
   "outputs": [],
   "source": [
    "from sklearn import set_config\n",
    "set_config(display='diagram') "
   ]
  },
  {
   "cell_type": "markdown",
   "id": "f1692075",
   "metadata": {},
   "source": [
    "\n"
   ]
  },
  {
   "cell_type": "code",
   "execution_count": null,
   "id": "272da7ed",
   "metadata": {
    "lines_to_next_cell": 2
   },
   "outputs": [],
   "source": [
    "pipe"
   ]
  },
  {
   "cell_type": "markdown",
   "id": "784bcbb9",
   "metadata": {},
   "source": [
    "<style>#sk-1fcb6e41-d711-42ff-80a9-dd30d05050ec {color: black;background-color: white;}#sk-1fcb6e41-d711-42ff-80a9-dd30d05050ec pre{padding: 0;}#sk-1fcb6e41-d711-42ff-80a9-dd30d05050ec div.sk-toggleable {background-color: white;}#sk-1fcb6e41-d711-42ff-80a9-dd30d05050ec label.sk-toggleable__label {cursor: pointer;display: block;width: 100%;margin-bottom: 0;padding: 0.3em;box-sizing: border-box;text-align: center;}#sk-1fcb6e41-d711-42ff-80a9-dd30d05050ec label.sk-toggleable__label-arrow:before {content: \"▸\";float: left;margin-right: 0.25em;color: #696969;}#sk-1fcb6e41-d711-42ff-80a9-dd30d05050ec label.sk-toggleable__label-arrow:hover:before {color: black;}#sk-1fcb6e41-d711-42ff-80a9-dd30d05050ec div.sk-estimator:hover label.sk-toggleable__label-arrow:before {color: black;}#sk-1fcb6e41-d711-42ff-80a9-dd30d05050ec div.sk-toggleable__content {max-height: 0;max-width: 0;overflow: hidden;text-align: left;background-color: #f0f8ff;}#sk-1fcb6e41-d711-42ff-80a9-dd30d05050ec div.sk-toggleable__content pre {margin: 0.2em;color: black;border-radius: 0.25em;background-color: #f0f8ff;}#sk-1fcb6e41-d711-42ff-80a9-dd30d05050ec input.sk-toggleable__control:checked~div.sk-toggleable__content {max-height: 200px;max-width: 100%;overflow: auto;}#sk-1fcb6e41-d711-42ff-80a9-dd30d05050ec input.sk-toggleable__control:checked~label.sk-toggleable__label-arrow:before {content: \"▾\";}#sk-1fcb6e41-d711-42ff-80a9-dd30d05050ec div.sk-estimator input.sk-toggleable__control:checked~label.sk-toggleable__label {background-color: #d4ebff;}#sk-1fcb6e41-d711-42ff-80a9-dd30d05050ec div.sk-label input.sk-toggleable__control:checked~label.sk-toggleable__label {background-color: #d4ebff;}#sk-1fcb6e41-d711-42ff-80a9-dd30d05050ec input.sk-hidden--visually {border: 0;clip: rect(1px 1px 1px 1px);clip: rect(1px, 1px, 1px, 1px);height: 1px;margin: -1px;overflow: hidden;padding: 0;position: absolute;width: 1px;}#sk-1fcb6e41-d711-42ff-80a9-dd30d05050ec div.sk-estimator {font-family: monospace;background-color: #f0f8ff;border: 1px dotted black;border-radius: 0.25em;box-sizing: border-box;margin-bottom: 0.5em;}#sk-1fcb6e41-d711-42ff-80a9-dd30d05050ec div.sk-estimator:hover {background-color: #d4ebff;}#sk-1fcb6e41-d711-42ff-80a9-dd30d05050ec div.sk-parallel-item::after {content: \"\";width: 100%;border-bottom: 1px solid gray;flex-grow: 1;}#sk-1fcb6e41-d711-42ff-80a9-dd30d05050ec div.sk-label:hover label.sk-toggleable__label {background-color: #d4ebff;}#sk-1fcb6e41-d711-42ff-80a9-dd30d05050ec div.sk-serial::before {content: \"\";position: absolute;border-left: 1px solid gray;box-sizing: border-box;top: 2em;bottom: 0;left: 50%;}#sk-1fcb6e41-d711-42ff-80a9-dd30d05050ec div.sk-serial {display: flex;flex-direction: column;align-items: center;background-color: white;padding-right: 0.2em;padding-left: 0.2em;}#sk-1fcb6e41-d711-42ff-80a9-dd30d05050ec div.sk-item {z-index: 1;}#sk-1fcb6e41-d711-42ff-80a9-dd30d05050ec div.sk-parallel {display: flex;align-items: stretch;justify-content: center;background-color: white;}#sk-1fcb6e41-d711-42ff-80a9-dd30d05050ec div.sk-parallel::before {content: \"\";position: absolute;border-left: 1px solid gray;box-sizing: border-box;top: 2em;bottom: 0;left: 50%;}#sk-1fcb6e41-d711-42ff-80a9-dd30d05050ec div.sk-parallel-item {display: flex;flex-direction: column;position: relative;background-color: white;}#sk-1fcb6e41-d711-42ff-80a9-dd30d05050ec div.sk-parallel-item:first-child::after {align-self: flex-end;width: 50%;}#sk-1fcb6e41-d711-42ff-80a9-dd30d05050ec div.sk-parallel-item:last-child::after {align-self: flex-start;width: 50%;}#sk-1fcb6e41-d711-42ff-80a9-dd30d05050ec div.sk-parallel-item:only-child::after {width: 0;}#sk-1fcb6e41-d711-42ff-80a9-dd30d05050ec div.sk-dashed-wrapped {border: 1px dashed gray;margin: 0 0.4em 0.5em 0.4em;box-sizing: border-box;padding-bottom: 0.4em;background-color: white;position: relative;}#sk-1fcb6e41-d711-42ff-80a9-dd30d05050ec div.sk-label label {font-family: monospace;font-weight: bold;background-color: white;display: inline-block;line-height: 1.2em;}#sk-1fcb6e41-d711-42ff-80a9-dd30d05050ec div.sk-label-container {position: relative;z-index: 2;text-align: center;}#sk-1fcb6e41-d711-42ff-80a9-dd30d05050ec div.sk-container {/* jupyter's `normalize.less` sets `[hidden] { display: none; }` but bootstrap.min.css set `[hidden] { display: none !important; }` so we also need the `!important` here to be able to override the default hidden behavior on the sphinx rendered scikit-learn.org. See: https://github.com/scikit-learn/scikit-learn/issues/21755 */display: inline-block !important;position: relative;}#sk-1fcb6e41-d711-42ff-80a9-dd30d05050ec div.sk-text-repr-fallback {display: none;}</style><div id=\"sk-1fcb6e41-d711-42ff-80a9-dd30d05050ec\" class=\"sk-top-container\"><div class=\"sk-text-repr-fallback\"><pre>Pipeline(steps=[(&#x27;reduce_dim&#x27;, PCA()), (&#x27;clf&#x27;, SVC())])</pre><b>Please rerun this cell to show the HTML repr or trust the notebook.</b></div><div class=\"sk-container\" hidden><div class=\"sk-item sk-dashed-wrapped\"><div class=\"sk-label-container\"><div class=\"sk-label sk-toggleable\"><input class=\"sk-toggleable__control sk-hidden--visually\" id=\"013bac5e-218c-4c87-bd29-df94e48a76c5\" type=\"checkbox\" ><label for=\"013bac5e-218c-4c87-bd29-df94e48a76c5\" class=\"sk-toggleable__label sk-toggleable__label-arrow\">Pipeline</label><div class=\"sk-toggleable__content\"><pre>Pipeline(steps=[(&#x27;reduce_dim&#x27;, PCA()), (&#x27;clf&#x27;, SVC())])</pre></div></div></div><div class=\"sk-serial\"><div class=\"sk-item\"><div class=\"sk-estimator sk-toggleable\"><input class=\"sk-toggleable__control sk-hidden--visually\" id=\"b4ac51f8-34a7-44db-84ce-d64a94af2c54\" type=\"checkbox\" ><label for=\"b4ac51f8-34a7-44db-84ce-d64a94af2c54\" class=\"sk-toggleable__label sk-toggleable__label-arrow\">PCA</label><div class=\"sk-toggleable__content\"><pre>PCA()</pre></div></div></div><div class=\"sk-item\"><div class=\"sk-estimator sk-toggleable\"><input class=\"sk-toggleable__control sk-hidden--visually\" id=\"a3a0ae54-9edf-4478-8b9b-1b62aa9df747\" type=\"checkbox\" ><label for=\"a3a0ae54-9edf-4478-8b9b-1b62aa9df747\" class=\"sk-toggleable__label sk-toggleable__label-arrow\">SVC</label><div class=\"sk-toggleable__content\"><pre>SVC()</pre></div></div></div></div></div></div></div>"
   ]
  },
  {
   "cell_type": "markdown",
   "id": "2f5f88e6",
   "metadata": {},
   "source": [
    "Au sein d'une étape de *pipeline*, les paramètres d'un estimateur\n",
    "sont accessibles avec la notation `<estimator>__<parameter>`.\n",
    "Cela permet de fixer des valeurs pour les arguments des fonctions `scikit`\n",
    "qui sont appelées au sein d'un *pipeline*. \n",
    "C'est cela qui rendra l'approche des pipelines particulièrement utile\n",
    "pour la *grid search*:\n"
   ]
  },
  {
   "cell_type": "code",
   "execution_count": null,
   "id": "e86dfaa4",
   "metadata": {
    "lines_to_next_cell": 2
   },
   "outputs": [],
   "source": [
    "from sklearn.model_selection import GridSearchCV\n",
    "param_grid = {\"reduce_dim__n_components\":[2, 5, 10], \"clf__C\":[0.1, 10, 100]}\n",
    "grid_search = GridSearchCV(pipe, param_grid=param_grid)"
   ]
  },
  {
   "cell_type": "markdown",
   "id": "bda967de",
   "metadata": {},
   "source": [
    "<style>#sk-7976d9b4-d43f-47be-9c85-35f92c9f6730 {color: black;background-color: white;}#sk-7976d9b4-d43f-47be-9c85-35f92c9f6730 pre{padding: 0;}#sk-7976d9b4-d43f-47be-9c85-35f92c9f6730 div.sk-toggleable {background-color: white;}#sk-7976d9b4-d43f-47be-9c85-35f92c9f6730 label.sk-toggleable__label {cursor: pointer;display: block;width: 100%;margin-bottom: 0;padding: 0.3em;box-sizing: border-box;text-align: center;}#sk-7976d9b4-d43f-47be-9c85-35f92c9f6730 label.sk-toggleable__label-arrow:before {content: \"▸\";float: left;margin-right: 0.25em;color: #696969;}#sk-7976d9b4-d43f-47be-9c85-35f92c9f6730 label.sk-toggleable__label-arrow:hover:before {color: black;}#sk-7976d9b4-d43f-47be-9c85-35f92c9f6730 div.sk-estimator:hover label.sk-toggleable__label-arrow:before {color: black;}#sk-7976d9b4-d43f-47be-9c85-35f92c9f6730 div.sk-toggleable__content {max-height: 0;max-width: 0;overflow: hidden;text-align: left;background-color: #f0f8ff;}#sk-7976d9b4-d43f-47be-9c85-35f92c9f6730 div.sk-toggleable__content pre {margin: 0.2em;color: black;border-radius: 0.25em;background-color: #f0f8ff;}#sk-7976d9b4-d43f-47be-9c85-35f92c9f6730 input.sk-toggleable__control:checked~div.sk-toggleable__content {max-height: 200px;max-width: 100%;overflow: auto;}#sk-7976d9b4-d43f-47be-9c85-35f92c9f6730 input.sk-toggleable__control:checked~label.sk-toggleable__label-arrow:before {content: \"▾\";}#sk-7976d9b4-d43f-47be-9c85-35f92c9f6730 div.sk-estimator input.sk-toggleable__control:checked~label.sk-toggleable__label {background-color: #d4ebff;}#sk-7976d9b4-d43f-47be-9c85-35f92c9f6730 div.sk-label input.sk-toggleable__control:checked~label.sk-toggleable__label {background-color: #d4ebff;}#sk-7976d9b4-d43f-47be-9c85-35f92c9f6730 input.sk-hidden--visually {border: 0;clip: rect(1px 1px 1px 1px);clip: rect(1px, 1px, 1px, 1px);height: 1px;margin: -1px;overflow: hidden;padding: 0;position: absolute;width: 1px;}#sk-7976d9b4-d43f-47be-9c85-35f92c9f6730 div.sk-estimator {font-family: monospace;background-color: #f0f8ff;border: 1px dotted black;border-radius: 0.25em;box-sizing: border-box;margin-bottom: 0.5em;}#sk-7976d9b4-d43f-47be-9c85-35f92c9f6730 div.sk-estimator:hover {background-color: #d4ebff;}#sk-7976d9b4-d43f-47be-9c85-35f92c9f6730 div.sk-parallel-item::after {content: \"\";width: 100%;border-bottom: 1px solid gray;flex-grow: 1;}#sk-7976d9b4-d43f-47be-9c85-35f92c9f6730 div.sk-label:hover label.sk-toggleable__label {background-color: #d4ebff;}#sk-7976d9b4-d43f-47be-9c85-35f92c9f6730 div.sk-serial::before {content: \"\";position: absolute;border-left: 1px solid gray;box-sizing: border-box;top: 2em;bottom: 0;left: 50%;}#sk-7976d9b4-d43f-47be-9c85-35f92c9f6730 div.sk-serial {display: flex;flex-direction: column;align-items: center;background-color: white;padding-right: 0.2em;padding-left: 0.2em;}#sk-7976d9b4-d43f-47be-9c85-35f92c9f6730 div.sk-item {z-index: 1;}#sk-7976d9b4-d43f-47be-9c85-35f92c9f6730 div.sk-parallel {display: flex;align-items: stretch;justify-content: center;background-color: white;}#sk-7976d9b4-d43f-47be-9c85-35f92c9f6730 div.sk-parallel::before {content: \"\";position: absolute;border-left: 1px solid gray;box-sizing: border-box;top: 2em;bottom: 0;left: 50%;}#sk-7976d9b4-d43f-47be-9c85-35f92c9f6730 div.sk-parallel-item {display: flex;flex-direction: column;position: relative;background-color: white;}#sk-7976d9b4-d43f-47be-9c85-35f92c9f6730 div.sk-parallel-item:first-child::after {align-self: flex-end;width: 50%;}#sk-7976d9b4-d43f-47be-9c85-35f92c9f6730 div.sk-parallel-item:last-child::after {align-self: flex-start;width: 50%;}#sk-7976d9b4-d43f-47be-9c85-35f92c9f6730 div.sk-parallel-item:only-child::after {width: 0;}#sk-7976d9b4-d43f-47be-9c85-35f92c9f6730 div.sk-dashed-wrapped {border: 1px dashed gray;margin: 0 0.4em 0.5em 0.4em;box-sizing: border-box;padding-bottom: 0.4em;background-color: white;position: relative;}#sk-7976d9b4-d43f-47be-9c85-35f92c9f6730 div.sk-label label {font-family: monospace;font-weight: bold;background-color: white;display: inline-block;line-height: 1.2em;}#sk-7976d9b4-d43f-47be-9c85-35f92c9f6730 div.sk-label-container {position: relative;z-index: 2;text-align: center;}#sk-7976d9b4-d43f-47be-9c85-35f92c9f6730 div.sk-container {/* jupyter's `normalize.less` sets `[hidden] { display: none; }` but bootstrap.min.css set `[hidden] { display: none !important; }` so we also need the `!important` here to be able to override the default hidden behavior on the sphinx rendered scikit-learn.org. See: https://github.com/scikit-learn/scikit-learn/issues/21755 */display: inline-block !important;position: relative;}#sk-7976d9b4-d43f-47be-9c85-35f92c9f6730 div.sk-text-repr-fallback {display: none;}</style><div id=\"sk-7976d9b4-d43f-47be-9c85-35f92c9f6730\" class=\"sk-top-container\"><div class=\"sk-text-repr-fallback\"><pre>GridSearchCV(estimator=Pipeline(steps=[(&#x27;reduce_dim&#x27;, PCA()), (&#x27;clf&#x27;, SVC())]),\n",
    "             param_grid={&#x27;clf__C&#x27;: [0.1, 10, 100],\n",
    "                         &#x27;reduce_dim__n_components&#x27;: [2, 5, 10]})</pre><b>Please rerun this cell to show the HTML repr or trust the notebook.</b></div><div class=\"sk-container\" hidden><div class=\"sk-item sk-dashed-wrapped\"><div class=\"sk-label-container\"><div class=\"sk-label sk-toggleable\"><input class=\"sk-toggleable__control sk-hidden--visually\" id=\"e0115c82-948b-4743-b552-d2e0606f2f33\" type=\"checkbox\" ><label for=\"e0115c82-948b-4743-b552-d2e0606f2f33\" class=\"sk-toggleable__label sk-toggleable__label-arrow\">GridSearchCV</label><div class=\"sk-toggleable__content\"><pre>GridSearchCV(estimator=Pipeline(steps=[(&#x27;reduce_dim&#x27;, PCA()), (&#x27;clf&#x27;, SVC())]),\n",
    "             param_grid={&#x27;clf__C&#x27;: [0.1, 10, 100],\n",
    "                         &#x27;reduce_dim__n_components&#x27;: [2, 5, 10]})</pre></div></div></div><div class=\"sk-parallel\"><div class=\"sk-parallel-item\"><div class=\"sk-item\"><div class=\"sk-serial\"><div class=\"sk-item\"><div class=\"sk-serial\"><div class=\"sk-item\"><div class=\"sk-estimator sk-toggleable\"><input class=\"sk-toggleable__control sk-hidden--visually\" id=\"465a7ea4-a217-42c4-9d88-370e3d8a5eb6\" type=\"checkbox\" ><label for=\"465a7ea4-a217-42c4-9d88-370e3d8a5eb6\" class=\"sk-toggleable__label sk-toggleable__label-arrow\">PCA</label><div class=\"sk-toggleable__content\"><pre>PCA()</pre></div></div></div><div class=\"sk-item\"><div class=\"sk-estimator sk-toggleable\"><input class=\"sk-toggleable__control sk-hidden--visually\" id=\"4c7da7d6-a795-4c01-ae15-2ab23b94f854\" type=\"checkbox\" ><label for=\"4c7da7d6-a795-4c01-ae15-2ab23b94f854\" class=\"sk-toggleable__label sk-toggleable__label-arrow\">SVC</label><div class=\"sk-toggleable__content\"><pre>SVC()</pre></div></div></div></div></div></div></div></div></div></div></div></div>\n"
   ]
  },
  {
   "cell_type": "markdown",
   "id": "1e577a61",
   "metadata": {},
   "source": [
    "## Données utilisées\n",
    "\n",
    "Nous allons utiliser les données de transactions immobilières DVF pour chercher\n",
    "la meilleure manière de prédire, sachant les caractéristiques d'un bien, son\n",
    "prix.\n",
    "\n",
    "Ces données peuvent être importées directement depuis [`data.gouv`](https://www.data.gouv.fr/fr/datasets/demandes-de-valeurs-foncieres/):\n"
   ]
  },
  {
   "cell_type": "code",
   "execution_count": null,
   "id": "7bd6dbc8",
   "metadata": {},
   "outputs": [],
   "source": [
    "import numpy as np\n",
    "import pandas as pd\n",
    "import seaborn as sns\n",
    "import matplotlib.pyplot as plt\n",
    "\n",
    "mutations = pd.read_csv('https://www.data.gouv.fr/fr/datasets/r/3004168d-bec4-44d9-a781-ef16f41856a2', sep = \"|\", decimal=\",\")"
   ]
  },
  {
   "cell_type": "markdown",
   "id": "df967d7b",
   "metadata": {},
   "source": [
    "```\n",
    "## <string>:1: DtypeWarning: Columns (18,23,24,26,28,41) have mixed types. Specify dtype option on import or set low_memory=False.\n",
    "```\n",
    "\n",
    "On propose d'enrichir la base de quelques variables qui pourraient servir\n",
    "ultérieurement:\n"
   ]
  },
  {
   "cell_type": "code",
   "execution_count": null,
   "id": "1621d4fd",
   "metadata": {},
   "outputs": [],
   "source": [
    "mutations['Date mutation'] = pd.to_datetime(mutations['Date mutation'], format = \"%d/%m/%Y\")\n",
    "mutations['year'] = mutations['Date mutation'].dt.year\n",
    "mutations['month'] = mutations['Date mutation'].dt.month\n",
    "mutations['dep'] = mutations['Code postal'].astype(str).str[:2]\n",
    "mutations['lprix'] = np.log(mutations[\"Valeur fonciere\"])"
   ]
  },
  {
   "cell_type": "markdown",
   "id": "dc42d841",
   "metadata": {},
   "source": [
    "Si vous travaillez avec les données de 2020, n'oubliez pas\n",
    "d'intégrer l'effet\n",
    "confinement strict dans vos modèles. Pour cela, vous pouvez créer une variable\n",
    "indicatrice entre les dates en question:\n"
   ]
  },
  {
   "cell_type": "code",
   "execution_count": null,
   "id": "2cb813ab",
   "metadata": {},
   "outputs": [],
   "source": [
    "mutations['confinement'] = mutations['Date mutation'].between(pd.to_datetime(\"2020-03-17\"), pd.to_datetime(\"2020-05-03\")).astype(int)"
   ]
  },
  {
   "cell_type": "markdown",
   "id": "2189288f",
   "metadata": {},
   "source": [
    "Les données DVF proposent une observation par transaction. Ces transactions\n",
    "peuvent concerner plusieurs lots.\n",
    "Pour simplifier,\n",
    "on va créer une variable de surface qui agrège les différentes informations\n",
    "de surface disponibles dans le jeu de données. En effet, les variables\n",
    "en question sont très corrélées les unes entre elles :\n"
   ]
  },
  {
   "cell_type": "code",
   "execution_count": null,
   "id": "60ff8dc1",
   "metadata": {
    "lines_to_next_cell": 0
   },
   "outputs": [],
   "source": [
    "corr = mutations.loc[:, mutations.columns[mutations.columns.str.startswith('Surface Carrez')].tolist()].corr()\n",
    "fig, ax = plt.subplots(1)\n",
    "sns.heatmap(corr, ax=ax, \n",
    "            xticklabels=corr.columns.values,\n",
    "            yticklabels=corr.columns.values, cmap='coolwarm', annot=True, fmt=\".2f\")\n",
    "plt.savefig('correlation_matrix_dvf.png', bbox_inches='tight')"
   ]
  },
  {
   "cell_type": "markdown",
   "id": "f9a6ec63",
   "metadata": {},
   "source": [
    "\n",
    "\n"
   ]
  },
  {
   "cell_type": "markdown",
   "id": "b34a0bc9",
   "metadata": {},
   "source": [
    "Les agréger revient à supposer que le modèle de fixation des prix est le même\n",
    "entre chaque lot. C'est une hypothèse simplificatrice qu'une personne plus \n",
    "experte du marché immobilier, ou qu'une approche propre de sélection\n",
    "de variable pourrait amener à nier \n"
   ]
  },
  {
   "cell_type": "code",
   "execution_count": null,
   "id": "97b23648",
   "metadata": {
    "lines_to_next_cell": 0
   },
   "outputs": [],
   "source": [
    "mutations['surface'] = mutations.loc[:, mutations.columns[mutations.columns.str.startswith('Surface Carrez')].tolist()].sum(axis = 1)"
   ]
  },
  {
   "cell_type": "markdown",
   "id": "048f6862",
   "metadata": {},
   "source": []
  },
  {
   "cell_type": "markdown",
   "id": "1f207497",
   "metadata": {},
   "source": [
    "# Un premier pipeline: *random forest* sur des variables standardisées\n",
    "\n",
    "Notre premier *pipeline* va nous permettre d'intégrer ensemble:\n",
    "\n",
    "1. Une étape de *preprocessing* avec la standardisation de variables\n",
    "2. Une étape d'estimation du prix en utilisant un modèle de *random forest*\n",
    "\n",
    "Pour le moment, on va prendre comme acquis un certain nombre de variables\n",
    "explicatives (les *features*) et les hyperparamètres du modèle"
   ]
  },
  {
   "cell_type": "markdown",
   "id": "7b3b0fc9",
   "metadata": {},
   "source": [
    "## Définition des ensembles train/test\n",
    "\n",
    "Nous allons donc nous restreindre à un sous-ensemble de colonnes dans un\n",
    "premier temps :\n"
   ]
  },
  {
   "cell_type": "code",
   "execution_count": null,
   "id": "c71ab50b",
   "metadata": {},
   "outputs": [],
   "source": [
    "xvars = ['dep', 'Nombre de lots', 'Code type local', 'surface', 'Nombre pieces principales']\n",
    "xvars2 = pd.Series(xvars).str.replace(\" \",\"_\").tolist()\n",
    "\n",
    "mutations2 = mutations.loc[:, xvars + [\"Valeur fonciere\"]]"
   ]
  },
  {
   "cell_type": "markdown",
   "id": "b0986fa4",
   "metadata": {},
   "source": [
    "Nous allons également ne conserver que les transactions inférieures à 5 millions\n",
    "d'euros (on anticipe que celles ayant un montant supérieur sont des transactions\n",
    "exceptionnelles dont le mécanisme de fixation du prix diffère)\n"
   ]
  },
  {
   "cell_type": "code",
   "execution_count": null,
   "id": "b4571bf1",
   "metadata": {},
   "outputs": [],
   "source": [
    "mutations2  = mutations2.dropna()\n",
    "mutations2 = mutations2.loc[mutations2['Valeur fonciere'] < 5e6] #keep only values below 10 millions\n",
    "\n",
    "mutations2.columns = mutations2.columns.str.replace(\" \", \"_\")\n",
    "numeric_features = mutations2.columns[~mutations2.columns.isin(['dep','Code_type_local', 'confinement'])].tolist()\n",
    "categorical_features = ['dep','Code_type_local']"
   ]
  },
  {
   "cell_type": "markdown",
   "id": "ef28ca30",
   "metadata": {},
   "source": [
    "Au passage, nous avons abandonné la variable de code postal pour privilégier\n",
    "la commune afin de réduire la dimension de notre jeu de données. Si on voulait\n",
    "vraiment avoir un bon modèle, il faudrait faire autrement car le code postal\n",
    "est probablement un très bon prédicteur du prix d'un bien, une fois que\n",
    "les caractéristiques du bien sont contrôlées.\n",
    "\n",
    "Nous allons stratifier notre échantillonage de train/test par département\n",
    "afin de tenir compte, de manière minimale, de la géographie. \n",
    "Pour accélérer les calculs pour ce tutoriel, nous n'allons considérer que\n",
    "20% des transactions observées sur chaque département.\n"
   ]
  },
  {
   "cell_type": "code",
   "execution_count": null,
   "id": "b24770ba",
   "metadata": {
    "lines_to_next_cell": 2
   },
   "outputs": [],
   "source": [
    "from sklearn.model_selection import train_test_split\n",
    "\n",
    "mutations2 = mutations2.groupby('dep').sample(frac = 0.2, random_state = 123)\n",
    "\n",
    "X_train, X_test, y_train, y_test = train_test_split(mutations2[xvars2], mutations2[[\"Valeur_fonciere\"]].values.ravel(), test_size = 0.2, random_state = 0, stratify=mutations2[['dep']])"
   ]
  },
  {
   "cell_type": "markdown",
   "id": "41f10d12",
   "metadata": {},
   "source": [
    "## Définition du premier pipeline\n",
    "\n",
    "Nous allons donc partir d'un *random forest* avec des valeurs d'hyperparamètres\n",
    "données. \n",
    "\n",
    "Les _random forest_ sont une méthode d'aggrégation[^2] d'arbres de décision. \n",
    "On calcule $K$ arbres de décision et en tire, par une méthode d'agrégation,\n",
    "une règle de décision moyenne qu'on va appliquer pour tirer une\n",
    "prédiction de nos données. \n",
    "\n",
    "[^2]: En _machine learning_ on retrouve un principe inspiré du\n",
    "_bootstrap_\n",
    "qui permet d'agréger un ensemble d'estimateurs en un estimateur _\"moyennisé\"_.\n",
    "Il s'agit du [*bagging*](https://en.wikipedia.org/wiki/Bootstrap_aggregating).\n",
    "En économétrie, le _bootstrap_ consiste à ré-estimer sur *K* sous-échantillons\n",
    "aléatoires des données un estimateur afin d'en tirer, par exemple, un intervalle\n",
    "de confiance empirique à 95%. Le principe du _bagging_ est le même. On ré-estime\n",
    "_K_ fois notre estimateur (par exemple un arbre de décision) et propose une \n",
    "règle d'agrégation pour en tirer une règle moyennisée et donc une prédiction. "
   ]
  },
  {
   "cell_type": "markdown",
   "id": "ae7aac5c",
   "metadata": {},
   "source": [
    "![](https://upload.wikimedia.org/wikipedia/commons/7/76/Random_forest_diagram_complete.png)\n",
    "\n",
    "C'est un article de Léo Breiman (2001)[^3], statisticien à Berkeley, qui\n",
    "est à l'origine du succès des *random forests*. L'un des intérêts\n",
    "des *random forest* est qu'il existe des méthodes pour déterminer \n",
    "l'importance relative de chaque variable dans la prédiction. \n",
    "\n",
    "[^3]: Breiman L (2001). _\"Random Forests\". Machine Learning_. 45 (1): 5–32.\n",
    "\n",
    "Pour commencer, nous allons fixer la taille des arbres de décision avec\n",
    "l'hyperparamètre `max_depth = 2`. \n"
   ]
  },
  {
   "cell_type": "code",
   "execution_count": null,
   "id": "cdddc239",
   "metadata": {},
   "outputs": [],
   "source": [
    "from sklearn.ensemble import RandomForestRegressor\n",
    "regr = RandomForestRegressor(max_depth=2, random_state=123)"
   ]
  },
  {
   "cell_type": "markdown",
   "id": "2fc8fdd2",
   "metadata": {},
   "source": [
    "Notre _pipeline_ va intégrer les étapes suivantes:\n",
    "\n",
    "1. __Preprocessing__:\n",
    "    + Les variables numériques vont être standardisées avec un `StandardScaler`.\n",
    "Pour cela, nous allons utiliser la liste `numeric_features` définie précédemment.\n",
    "    + Les variables catégorielles vont être explosées avec un *one hot encoding*\n",
    "(méthode `OneHotEncoder` de `scikit`)\n",
    "Pour cela, nous allons utiliser la liste `categorical_features`\n",
    "2. __Random forest__: nous allons appliquer l'estimateur `regr` défini plus haut\n",
    "\n",
    "J'ajoute en commentaire un exemple de comment s'introduirait une imputation\n",
    "de valeurs manquantes. La version 1.0 de `scikit` facilite l'intégration\n",
    "d'étapes complexes dans les pipelines[^4]. Si vous utilisez une \n",
    "version antérieure à la 1.0 de `scikit`, vous pouvez vous rendre dans\n",
    "la section [Annexe](#annexe) pour avoir des exemples de définition alternative\n",
    "(attention cependant, vous ne pourrez récupérer le nom des *features*\n",
    "transformées comme ici, ce qui peut pénaliser l'analyse d'importance\n",
    "de variables)\n",
    "\n",
    "[^4]: Voir ce [*thread stackoverflow*](https://stackoverflow.com/questions/54646709/sklearn-pipeline-get-feature-names-after-onehotencode-in-columntransformer)\n",
    "\n"
   ]
  },
  {
   "cell_type": "code",
   "execution_count": null,
   "id": "cde5fc23",
   "metadata": {
    "lines_to_next_cell": 2
   },
   "outputs": [],
   "source": [
    "from sklearn.pipeline import make_pipeline\n",
    "from sklearn.preprocessing import StandardScaler, OneHotEncoder\n",
    "from sklearn.pipeline import Pipeline\n",
    "from sklearn.compose import make_column_transformer\n",
    "\n",
    "numeric_pipeline = make_pipeline(\n",
    "  #SimpleImputer(),\n",
    "  StandardScaler()\n",
    ")\n",
    "transformer = make_column_transformer(\n",
    "    (numeric_pipeline, numeric_features[:-1]),\n",
    "    (OneHotEncoder(sparse = False, handle_unknown = \"ignore\"), categorical_features))\n",
    "pipe = Pipeline(steps=[('preprocessor', transformer),\n",
    "                      ('randomforest', regr)])"
   ]
  },
  {
   "cell_type": "markdown",
   "id": "455bc8d3",
   "metadata": {},
   "source": [
    "Nous avons construit ce pipeline sous forme de couches successives. La couche\n",
    "`randomforest` prendra automatiquement le résultat de la couche `preprocessor`\n",
    "en _input_. La couche `features` permet d'introduire de manière relativement\n",
    "simple (quand on a les bonnes méthodes) la complexité du *preprocessing*\n",
    "sur données réelles dont les types divergent. \n",
    "\n",
    "On peut visualiser le graphe et ainsi se représenter la manière dont\n",
    "ce _pipeline_ opère:\n"
   ]
  },
  {
   "cell_type": "code",
   "execution_count": null,
   "id": "66acc02e",
   "metadata": {
    "lines_to_next_cell": 2
   },
   "outputs": [],
   "source": [
    "pipe"
   ]
  },
  {
   "cell_type": "markdown",
   "id": "4479d8d6",
   "metadata": {},
   "source": [
    "<style>#sk-c1d9c580-4ce6-4cf1-9b2a-bb4198fe9389 {color: black;background-color: white;}#sk-c1d9c580-4ce6-4cf1-9b2a-bb4198fe9389 pre{padding: 0;}#sk-c1d9c580-4ce6-4cf1-9b2a-bb4198fe9389 div.sk-toggleable {background-color: white;}#sk-c1d9c580-4ce6-4cf1-9b2a-bb4198fe9389 label.sk-toggleable__label {cursor: pointer;display: block;width: 100%;margin-bottom: 0;padding: 0.3em;box-sizing: border-box;text-align: center;}#sk-c1d9c580-4ce6-4cf1-9b2a-bb4198fe9389 label.sk-toggleable__label-arrow:before {content: \"▸\";float: left;margin-right: 0.25em;color: #696969;}#sk-c1d9c580-4ce6-4cf1-9b2a-bb4198fe9389 label.sk-toggleable__label-arrow:hover:before {color: black;}#sk-c1d9c580-4ce6-4cf1-9b2a-bb4198fe9389 div.sk-estimator:hover label.sk-toggleable__label-arrow:before {color: black;}#sk-c1d9c580-4ce6-4cf1-9b2a-bb4198fe9389 div.sk-toggleable__content {max-height: 0;max-width: 0;overflow: hidden;text-align: left;background-color: #f0f8ff;}#sk-c1d9c580-4ce6-4cf1-9b2a-bb4198fe9389 div.sk-toggleable__content pre {margin: 0.2em;color: black;border-radius: 0.25em;background-color: #f0f8ff;}#sk-c1d9c580-4ce6-4cf1-9b2a-bb4198fe9389 input.sk-toggleable__control:checked~div.sk-toggleable__content {max-height: 200px;max-width: 100%;overflow: auto;}#sk-c1d9c580-4ce6-4cf1-9b2a-bb4198fe9389 input.sk-toggleable__control:checked~label.sk-toggleable__label-arrow:before {content: \"▾\";}#sk-c1d9c580-4ce6-4cf1-9b2a-bb4198fe9389 div.sk-estimator input.sk-toggleable__control:checked~label.sk-toggleable__label {background-color: #d4ebff;}#sk-c1d9c580-4ce6-4cf1-9b2a-bb4198fe9389 div.sk-label input.sk-toggleable__control:checked~label.sk-toggleable__label {background-color: #d4ebff;}#sk-c1d9c580-4ce6-4cf1-9b2a-bb4198fe9389 input.sk-hidden--visually {border: 0;clip: rect(1px 1px 1px 1px);clip: rect(1px, 1px, 1px, 1px);height: 1px;margin: -1px;overflow: hidden;padding: 0;position: absolute;width: 1px;}#sk-c1d9c580-4ce6-4cf1-9b2a-bb4198fe9389 div.sk-estimator {font-family: monospace;background-color: #f0f8ff;border: 1px dotted black;border-radius: 0.25em;box-sizing: border-box;margin-bottom: 0.5em;}#sk-c1d9c580-4ce6-4cf1-9b2a-bb4198fe9389 div.sk-estimator:hover {background-color: #d4ebff;}#sk-c1d9c580-4ce6-4cf1-9b2a-bb4198fe9389 div.sk-parallel-item::after {content: \"\";width: 100%;border-bottom: 1px solid gray;flex-grow: 1;}#sk-c1d9c580-4ce6-4cf1-9b2a-bb4198fe9389 div.sk-label:hover label.sk-toggleable__label {background-color: #d4ebff;}#sk-c1d9c580-4ce6-4cf1-9b2a-bb4198fe9389 div.sk-serial::before {content: \"\";position: absolute;border-left: 1px solid gray;box-sizing: border-box;top: 2em;bottom: 0;left: 50%;}#sk-c1d9c580-4ce6-4cf1-9b2a-bb4198fe9389 div.sk-serial {display: flex;flex-direction: column;align-items: center;background-color: white;padding-right: 0.2em;padding-left: 0.2em;}#sk-c1d9c580-4ce6-4cf1-9b2a-bb4198fe9389 div.sk-item {z-index: 1;}#sk-c1d9c580-4ce6-4cf1-9b2a-bb4198fe9389 div.sk-parallel {display: flex;align-items: stretch;justify-content: center;background-color: white;}#sk-c1d9c580-4ce6-4cf1-9b2a-bb4198fe9389 div.sk-parallel::before {content: \"\";position: absolute;border-left: 1px solid gray;box-sizing: border-box;top: 2em;bottom: 0;left: 50%;}#sk-c1d9c580-4ce6-4cf1-9b2a-bb4198fe9389 div.sk-parallel-item {display: flex;flex-direction: column;position: relative;background-color: white;}#sk-c1d9c580-4ce6-4cf1-9b2a-bb4198fe9389 div.sk-parallel-item:first-child::after {align-self: flex-end;width: 50%;}#sk-c1d9c580-4ce6-4cf1-9b2a-bb4198fe9389 div.sk-parallel-item:last-child::after {align-self: flex-start;width: 50%;}#sk-c1d9c580-4ce6-4cf1-9b2a-bb4198fe9389 div.sk-parallel-item:only-child::after {width: 0;}#sk-c1d9c580-4ce6-4cf1-9b2a-bb4198fe9389 div.sk-dashed-wrapped {border: 1px dashed gray;margin: 0 0.4em 0.5em 0.4em;box-sizing: border-box;padding-bottom: 0.4em;background-color: white;position: relative;}#sk-c1d9c580-4ce6-4cf1-9b2a-bb4198fe9389 div.sk-label label {font-family: monospace;font-weight: bold;background-color: white;display: inline-block;line-height: 1.2em;}#sk-c1d9c580-4ce6-4cf1-9b2a-bb4198fe9389 div.sk-label-container {position: relative;z-index: 2;text-align: center;}#sk-c1d9c580-4ce6-4cf1-9b2a-bb4198fe9389 div.sk-container {/* jupyter's `normalize.less` sets `[hidden] { display: none; }` but bootstrap.min.css set `[hidden] { display: none !important; }` so we also need the `!important` here to be able to override the default hidden behavior on the sphinx rendered scikit-learn.org. See: https://github.com/scikit-learn/scikit-learn/issues/21755 */display: inline-block !important;position: relative;}#sk-c1d9c580-4ce6-4cf1-9b2a-bb4198fe9389 div.sk-text-repr-fallback {display: none;}</style><div id=\"sk-c1d9c580-4ce6-4cf1-9b2a-bb4198fe9389\" class=\"sk-top-container\"><div class=\"sk-text-repr-fallback\"><pre>Pipeline(steps=[(&#x27;preprocessor&#x27;,\n",
    "                 ColumnTransformer(transformers=[(&#x27;pipeline&#x27;,\n",
    "                                                  Pipeline(steps=[(&#x27;standardscaler&#x27;,\n",
    "                                                                   StandardScaler())]),\n",
    "                                                  [&#x27;Nombre_de_lots&#x27;, &#x27;surface&#x27;,\n",
    "                                                   &#x27;Nombre_pieces_principales&#x27;]),\n",
    "                                                 (&#x27;onehotencoder&#x27;,\n",
    "                                                  OneHotEncoder(handle_unknown=&#x27;ignore&#x27;,\n",
    "                                                                sparse=False),\n",
    "                                                  [&#x27;dep&#x27;,\n",
    "                                                   &#x27;Code_type_local&#x27;])])),\n",
    "                (&#x27;randomforest&#x27;,\n",
    "                 RandomForestRegressor(max_depth=2, random_state=123))])</pre><b>Please rerun this cell to show the HTML repr or trust the notebook.</b></div><div class=\"sk-container\" hidden><div class=\"sk-item sk-dashed-wrapped\"><div class=\"sk-label-container\"><div class=\"sk-label sk-toggleable\"><input class=\"sk-toggleable__control sk-hidden--visually\" id=\"70e2aab9-052c-4d41-b75d-0e42f7cc8e83\" type=\"checkbox\" ><label for=\"70e2aab9-052c-4d41-b75d-0e42f7cc8e83\" class=\"sk-toggleable__label sk-toggleable__label-arrow\">Pipeline</label><div class=\"sk-toggleable__content\"><pre>Pipeline(steps=[(&#x27;preprocessor&#x27;,\n",
    "                 ColumnTransformer(transformers=[(&#x27;pipeline&#x27;,\n",
    "                                                  Pipeline(steps=[(&#x27;standardscaler&#x27;,\n",
    "                                                                   StandardScaler())]),\n",
    "                                                  [&#x27;Nombre_de_lots&#x27;, &#x27;surface&#x27;,\n",
    "                                                   &#x27;Nombre_pieces_principales&#x27;]),\n",
    "                                                 (&#x27;onehotencoder&#x27;,\n",
    "                                                  OneHotEncoder(handle_unknown=&#x27;ignore&#x27;,\n",
    "                                                                sparse=False),\n",
    "                                                  [&#x27;dep&#x27;,\n",
    "                                                   &#x27;Code_type_local&#x27;])])),\n",
    "                (&#x27;randomforest&#x27;,\n",
    "                 RandomForestRegressor(max_depth=2, random_state=123))])</pre></div></div></div><div class=\"sk-serial\"><div class=\"sk-item sk-dashed-wrapped\"><div class=\"sk-label-container\"><div class=\"sk-label sk-toggleable\"><input class=\"sk-toggleable__control sk-hidden--visually\" id=\"ec73b57d-614c-4afc-ad32-11856f2d4a73\" type=\"checkbox\" ><label for=\"ec73b57d-614c-4afc-ad32-11856f2d4a73\" class=\"sk-toggleable__label sk-toggleable__label-arrow\">preprocessor: ColumnTransformer</label><div class=\"sk-toggleable__content\"><pre>ColumnTransformer(transformers=[(&#x27;pipeline&#x27;,\n",
    "                                 Pipeline(steps=[(&#x27;standardscaler&#x27;,\n",
    "                                                  StandardScaler())]),\n",
    "                                 [&#x27;Nombre_de_lots&#x27;, &#x27;surface&#x27;,\n",
    "                                  &#x27;Nombre_pieces_principales&#x27;]),\n",
    "                                (&#x27;onehotencoder&#x27;,\n",
    "                                 OneHotEncoder(handle_unknown=&#x27;ignore&#x27;,\n",
    "                                               sparse=False),\n",
    "                                 [&#x27;dep&#x27;, &#x27;Code_type_local&#x27;])])</pre></div></div></div><div class=\"sk-parallel\"><div class=\"sk-parallel-item\"><div class=\"sk-item\"><div class=\"sk-label-container\"><div class=\"sk-label sk-toggleable\"><input class=\"sk-toggleable__control sk-hidden--visually\" id=\"0e95d1d4-2455-4afd-a706-e951370e843a\" type=\"checkbox\" ><label for=\"0e95d1d4-2455-4afd-a706-e951370e843a\" class=\"sk-toggleable__label sk-toggleable__label-arrow\">pipeline</label><div class=\"sk-toggleable__content\"><pre>[&#x27;Nombre_de_lots&#x27;, &#x27;surface&#x27;, &#x27;Nombre_pieces_principales&#x27;]</pre></div></div></div><div class=\"sk-serial\"><div class=\"sk-item\"><div class=\"sk-serial\"><div class=\"sk-item\"><div class=\"sk-estimator sk-toggleable\"><input class=\"sk-toggleable__control sk-hidden--visually\" id=\"5d20a266-c946-4aa7-b4c1-7b52c143ba6b\" type=\"checkbox\" ><label for=\"5d20a266-c946-4aa7-b4c1-7b52c143ba6b\" class=\"sk-toggleable__label sk-toggleable__label-arrow\">StandardScaler</label><div class=\"sk-toggleable__content\"><pre>StandardScaler()</pre></div></div></div></div></div></div></div></div><div class=\"sk-parallel-item\"><div class=\"sk-item\"><div class=\"sk-label-container\"><div class=\"sk-label sk-toggleable\"><input class=\"sk-toggleable__control sk-hidden--visually\" id=\"4bf08bbe-1274-4635-bec5-2652a1d407b0\" type=\"checkbox\" ><label for=\"4bf08bbe-1274-4635-bec5-2652a1d407b0\" class=\"sk-toggleable__label sk-toggleable__label-arrow\">onehotencoder</label><div class=\"sk-toggleable__content\"><pre>[&#x27;dep&#x27;, &#x27;Code_type_local&#x27;]</pre></div></div></div><div class=\"sk-serial\"><div class=\"sk-item\"><div class=\"sk-estimator sk-toggleable\"><input class=\"sk-toggleable__control sk-hidden--visually\" id=\"c06af7d9-4829-4615-98bd-3103d62086b9\" type=\"checkbox\" ><label for=\"c06af7d9-4829-4615-98bd-3103d62086b9\" class=\"sk-toggleable__label sk-toggleable__label-arrow\">OneHotEncoder</label><div class=\"sk-toggleable__content\"><pre>OneHotEncoder(handle_unknown=&#x27;ignore&#x27;, sparse=False)</pre></div></div></div></div></div></div></div></div><div class=\"sk-item\"><div class=\"sk-estimator sk-toggleable\"><input class=\"sk-toggleable__control sk-hidden--visually\" id=\"ad1ef41a-06eb-43e8-95f3-06340cd5817b\" type=\"checkbox\" ><label for=\"ad1ef41a-06eb-43e8-95f3-06340cd5817b\" class=\"sk-toggleable__label sk-toggleable__label-arrow\">RandomForestRegressor</label><div class=\"sk-toggleable__content\"><pre>RandomForestRegressor(max_depth=2, random_state=123)</pre></div></div></div></div></div></div></div>\n"
   ]
  },
  {
   "cell_type": "markdown",
   "id": "7a76798f",
   "metadata": {},
   "source": [
    "Maintenant, il ne reste plus qu'à estimer notre modèle sur l'ensemble\n",
    "d'entraînement. C'est très simple avec un _pipeline_ : il suffit d'utiliser\n",
    "de mettre à jour le _pipeline_ avec la méthode `fit`\n"
   ]
  },
  {
   "cell_type": "code",
   "execution_count": null,
   "id": "025a0740",
   "metadata": {},
   "outputs": [],
   "source": [
    "pipe.fit(X_train, y_train)"
   ]
  },
  {
   "cell_type": "markdown",
   "id": "13414a7a",
   "metadata": {},
   "source": [
    "On peut utiliser le nom du pipeline en conjonction de certaines méthodes\n",
    "pour appliquer cette étape sur un jeu de données pour visualiser\n",
    "l'effet de la transformation.\n",
    "\n",
    "Par exemple, pour visualiser le jeu de données transformé avant l'étape\n",
    "d'estimation, on peut \n",
    "faire\n"
   ]
  },
  {
   "cell_type": "code",
   "execution_count": null,
   "id": "aa440495",
   "metadata": {},
   "outputs": [],
   "source": [
    "pipe[:-1].fit_transform(X_train)"
   ]
  },
  {
   "cell_type": "markdown",
   "id": "9d3ed823",
   "metadata": {},
   "source": [
    "```\n",
    "## array([[ 0.36941323,  0.46064357, -0.66948062, ...,  1.        ,\n",
    "##          0.        ,  0.        ],\n",
    "##        [-0.70954963, -0.27593152,  0.29189439, ...,  0.        ,\n",
    "##          0.        ,  0.        ],\n",
    "##        [ 0.36941323, -0.27593152, -1.15016813, ...,  0.        ,\n",
    "##          1.        ,  0.        ],\n",
    "##        ...,\n",
    "##        [-0.70954963, -0.27593152,  0.7725819 , ...,  0.        ,\n",
    "##          0.        ,  0.        ],\n",
    "##        [ 0.36941323, -0.27593152,  0.7725819 , ...,  1.        ,\n",
    "##          0.        ,  0.        ],\n",
    "##        [-0.70954963, -0.27593152, -1.15016813, ...,  0.        ,\n",
    "##          0.        ,  1.        ]])\n",
    "```\n",
    "\n",
    "De même, si on veut récupérer le nom des *features* en sortie du preprocessing,\n",
    "on utilisera la méthode `.get_feature_names_out` qui est bien pratique\n",
    "(c'est cette méthode qui est plus complexe à appeler dans les versions `scikit`\n",
    "ancienne qui nous a fait privilégier le *pipeline* ci-dessous)\n"
   ]
  },
  {
   "cell_type": "code",
   "execution_count": null,
   "id": "7f947786",
   "metadata": {},
   "outputs": [],
   "source": [
    "features_names=pipe['preprocessor'].get_feature_names_out()\n",
    "features_names"
   ]
  },
  {
   "cell_type": "markdown",
   "id": "9e3ced05",
   "metadata": {},
   "source": [
    "```\n",
    "## array(['pipeline__Nombre_de_lots', 'pipeline__surface',\n",
    "##        'pipeline__Nombre_pieces_principales', 'onehotencoder__dep_10',\n",
    "##        'onehotencoder__dep_11', 'onehotencoder__dep_12',\n",
    "##        'onehotencoder__dep_13', 'onehotencoder__dep_14',\n",
    "##        'onehotencoder__dep_15', 'onehotencoder__dep_16',\n",
    "##        'onehotencoder__dep_17', 'onehotencoder__dep_18',\n",
    "##        'onehotencoder__dep_19', 'onehotencoder__dep_20',\n",
    "##        'onehotencoder__dep_21', 'onehotencoder__dep_22',\n",
    "##        'onehotencoder__dep_23', 'onehotencoder__dep_24',\n",
    "##        'onehotencoder__dep_25', 'onehotencoder__dep_26',\n",
    "##        'onehotencoder__dep_27', 'onehotencoder__dep_28',\n",
    "##        'onehotencoder__dep_29', 'onehotencoder__dep_30',\n",
    "##        'onehotencoder__dep_31', 'onehotencoder__dep_32',\n",
    "##        'onehotencoder__dep_33', 'onehotencoder__dep_34',\n",
    "##        'onehotencoder__dep_35', 'onehotencoder__dep_36',\n",
    "##        'onehotencoder__dep_37', 'onehotencoder__dep_38',\n",
    "##        'onehotencoder__dep_39', 'onehotencoder__dep_40',\n",
    "##        'onehotencoder__dep_41', 'onehotencoder__dep_42',\n",
    "##        'onehotencoder__dep_43', 'onehotencoder__dep_44',\n",
    "##        'onehotencoder__dep_45', 'onehotencoder__dep_46',\n",
    "##        'onehotencoder__dep_47', 'onehotencoder__dep_48',\n",
    "##        'onehotencoder__dep_49', 'onehotencoder__dep_50',\n",
    "##        'onehotencoder__dep_51', 'onehotencoder__dep_52',\n",
    "##        'onehotencoder__dep_53', 'onehotencoder__dep_54',\n",
    "##        'onehotencoder__dep_55', 'onehotencoder__dep_56',\n",
    "##        'onehotencoder__dep_57', 'onehotencoder__dep_58',\n",
    "##        'onehotencoder__dep_59', 'onehotencoder__dep_60',\n",
    "##        'onehotencoder__dep_61', 'onehotencoder__dep_62',\n",
    "##        'onehotencoder__dep_63', 'onehotencoder__dep_64',\n",
    "##        'onehotencoder__dep_65', 'onehotencoder__dep_66',\n",
    "##        'onehotencoder__dep_67', 'onehotencoder__dep_68',\n",
    "##        'onehotencoder__dep_69', 'onehotencoder__dep_70',\n",
    "##        'onehotencoder__dep_71', 'onehotencoder__dep_72',\n",
    "##        'onehotencoder__dep_73', 'onehotencoder__dep_74',\n",
    "##        'onehotencoder__dep_75', 'onehotencoder__dep_76',\n",
    "##        'onehotencoder__dep_77', 'onehotencoder__dep_78',\n",
    "##        'onehotencoder__dep_79', 'onehotencoder__dep_80',\n",
    "##        'onehotencoder__dep_81', 'onehotencoder__dep_82',\n",
    "##        'onehotencoder__dep_83', 'onehotencoder__dep_84',\n",
    "##        'onehotencoder__dep_85', 'onehotencoder__dep_86',\n",
    "##        'onehotencoder__dep_87', 'onehotencoder__dep_88',\n",
    "##        'onehotencoder__dep_89', 'onehotencoder__dep_90',\n",
    "##        'onehotencoder__dep_91', 'onehotencoder__dep_92',\n",
    "##        'onehotencoder__dep_93', 'onehotencoder__dep_94',\n",
    "##        'onehotencoder__dep_95', 'onehotencoder__dep_96',\n",
    "##        'onehotencoder__dep_97', 'onehotencoder__dep_98',\n",
    "##        'onehotencoder__dep_na', 'onehotencoder__Code_type_local_1.0',\n",
    "##        'onehotencoder__Code_type_local_2.0',\n",
    "##        'onehotencoder__Code_type_local_3.0',\n",
    "##        'onehotencoder__Code_type_local_4.0'], dtype=object)\n",
    "```"
   ]
  },
  {
   "cell_type": "markdown",
   "id": "702da1f5",
   "metadata": {},
   "source": [
    "## _Variable importance_\n",
    "\n",
    "On ne va représenter, parmi notre ensemble important de colonnes, que celles\n",
    "qui ont une importance non nulle. Grâce à notre vecteur `features_names`,\n",
    "on va pouvoir facilement afficher le nom des colonnes en question (et donc\n",
    "comprendre les *features* déterminantes)\n",
    "\n",
    "L'importance va être définie à partir \n",
    "de la mesure d'impureté[^3]\n",
    "\n",
    "[^3]: Extrait de [ce blog](https://mljar.com/blog/feature-importance-in-random-forest/):\n",
    "Gini importance (or mean decrease impurity), which is computed from the Random Forest structure. Let’s look how the Random Forest is constructed. It is a set of Decision Trees. Each Decision Tree is a set of internal nodes and leaves. In the internal node, the selected feature is used to make decision how to divide the data set into two separate sets with similars responses within. The features for internal nodes are selected with some criterion, which for classification tasks can be gini impurity or infomation gain, and for regression is variance reduction. We can measure how each feature decrease the impurity of the split (the feature with highest decrease is selected for internal node). For each feature we can collect how on average it decreases the impurity. The average over all trees in the forest is the measure of the feature importance. \n"
   ]
  },
  {
   "cell_type": "code",
   "execution_count": null,
   "id": "d053891b",
   "metadata": {
    "lines_to_next_cell": 0
   },
   "outputs": [],
   "source": [
    "importances = pipe['randomforest'].feature_importances_\n",
    "std = np.std([tree.feature_importances_ for tree in pipe['randomforest'].estimators_], axis=0)\n",
    "\n",
    "forest_importances = pd.Series(importances[importances>0], index=features_names[importances>0])\n",
    "\n",
    "fig, ax = plt.subplots()\n",
    "forest_importances.plot.bar(yerr=std[importances>0], ax=ax)\n",
    "ax.set_title(\"Feature importances using MDI\")\n",
    "ax.set_ylabel(\"Mean decrease in impurity\")\n",
    "fig.tight_layout()"
   ]
  },
  {
   "cell_type": "markdown",
   "id": "89edf428",
   "metadata": {},
   "source": [
    "\n"
   ]
  },
  {
   "cell_type": "markdown",
   "id": "8ab7ee83",
   "metadata": {},
   "source": [
    "On voit donc que deux variables déterminantes sont des effets fixes\n",
    "géographiques (qui servent à ajuster de la différence de prix entre\n",
    "Paris et les Hauts de Seine et le reste de la France), une autre variable\n",
    "est un effet fixe type de bien. Les deux variables qui pourraient introduire\n",
    "de la variabilité, à savoir la surface et, dans une moindre mesure, le \n",
    "nombre de lots, ont une importance moindre. "
   ]
  },
  {
   "cell_type": "markdown",
   "id": "a34d01be",
   "metadata": {},
   "source": [
    "Idéalement, on utiliserait `yellowbrick` pour représenter l'importance des variables\n",
    "Mais en l'état actuel du *pipeline* on a beaucoup de variables dont le poids\n",
    "est nul qui viennent polluer la visualisation. Vous pouvez \n",
    "consulter la\n",
    "[documentation de `yellowbrick` sur ce sujet](https://www.scikit-yb.org/en/latest/api/model_selection/importances.html)"
   ]
  },
  {
   "cell_type": "markdown",
   "id": "144e9396",
   "metadata": {},
   "source": [
    "## Prédiction\n",
    "\n",
    "L'analyse de l'importance de variables permet de mieux comprendre\n",
    "le fonctionnement interne des *random forests*. \n",
    "\n",
    "On obtient un modèle dont les performances sont les suivantes:\n"
   ]
  },
  {
   "cell_type": "code",
   "execution_count": null,
   "id": "a354773c",
   "metadata": {},
   "outputs": [],
   "source": [
    "from sklearn.metrics import mean_squared_error\n",
    "\n",
    "\n",
    "compar = pd.DataFrame([y_test, pipe.predict(X_test)]).T\n",
    "compar.columns = ['obs','pred']\n",
    "compar['diff'] = compar.obs - compar.pred\n",
    "\n",
    "print(\"Le RMSE sur le jeu de test est {:,}\".format(\n",
    "   int(np.sqrt(mean_squared_error(y_test, pipe.predict(X_test))))\n",
    "))"
   ]
  },
  {
   "cell_type": "markdown",
   "id": "4086532f",
   "metadata": {},
   "source": [
    "```\n",
    "## Le RMSE sur le jeu de test est 464,464\n",
    "```\n",
    "\n",
    "Le RMSE n'est pas très bon. Pour comprendre pourquoi, représentons\n",
    "notre nuage de point des valeurs observées et prédites:\n"
   ]
  },
  {
   "cell_type": "code",
   "execution_count": null,
   "id": "b83ac5f1",
   "metadata": {},
   "outputs": [],
   "source": [
    "g = sns.relplot(data = compar, x = 'obs', y = 'pred', color = \"royalblue\", alpha = 0.8)\n",
    "g.set(ylim=(0, 2e6), xlim=(0, 2e6),\n",
    "      title='Evaluating estimation error on test sample',\n",
    "      xlabel='Observed values',\n",
    "      ylabel='Predicted values')"
   ]
  },
  {
   "cell_type": "code",
   "execution_count": null,
   "id": "95375afc",
   "metadata": {},
   "outputs": [],
   "source": [
    "g.ax.axline(xy1=(0, 0), slope=1, color=\"red\", dashes=(5, 2))\n",
    "plt.savefig('predict1.png', bbox_inches='tight')"
   ]
  },
  {
   "cell_type": "markdown",
   "id": "8c57f4c7",
   "metadata": {},
   "source": [
    "C'est très décevant. La prédiction a trop peu de variabilité pour capturer\n",
    "la variance des prix observée. Cela vient du fait que les variables\n",
    "ayant de l'importance dans la prédiction sont principalement des effets fixes,\n",
    "qui ne permettent donc qu'une variabilité limitée.\n"
   ]
  },
  {
   "cell_type": "markdown",
   "id": "66f48893",
   "metadata": {},
   "source": [
    "# Recherche des hyperparamètres optimaux avec une validation croisée\n",
    "\n",
    "On détecte que le premier modèle n'est pas très bon et ne nous aidera\n",
    "pas vraiment à évaluer de manière fiable la maison de nos rêves. \n",
    "\n",
    "On va essayer de voir si notre modèle ne serait pas meilleur avec des\n",
    "hyperparamètres plus adaptés. Après tout, nous avons choisi par défaut\n",
    "la profondeur de l'arbre mais c'était un choix au doigt mouillé. \n",
    "\n",
    "Quels sont les hyperparamètres qu'on peut essayer d'optimiser ? \n"
   ]
  },
  {
   "cell_type": "code",
   "execution_count": null,
   "id": "87530a26",
   "metadata": {},
   "outputs": [],
   "source": [
    "pipe['randomforest'].get_params()"
   ]
  },
  {
   "cell_type": "markdown",
   "id": "2a856cfd",
   "metadata": {},
   "source": [
    "```\n",
    "## {'bootstrap': True, 'ccp_alpha': 0.0, 'criterion': 'squared_error', 'max_depth': 2, 'max_features': 'auto', 'max_leaf_nodes': None, 'max_samples': None, 'min_impurity_decrease': 0.0, 'min_samples_leaf': 1, 'min_samples_split': 2, 'min_weight_fraction_leaf': 0.0, 'n_estimators': 100, 'n_jobs': None, 'oob_score': False, 'random_state': 123, 'verbose': 0, 'warm_start': False}\n",
    "```\n",
    "\n",
    "Un [détour par la documentation](https://scikit-learn.org/stable/modules/generated/sklearn.ensemble.RandomForestRegressor.html)\n",
    "nous aide à comprendre ceux sur lesquels on va jouer. Par exemple, il serait\n",
    "absurde de jouer sur le paramètre `random_state` qui est la racine du générateur\n",
    "pseudo-aléatoire. \n",
    "\n",
    "Comme l'objectif est de se concentrer sur la démarche plus qu'essayer de\n",
    "trouver un bon modèle,\n",
    "nous allons également réduire la taille des données pour accélérer\n",
    "les calculs\n"
   ]
  },
  {
   "cell_type": "code",
   "execution_count": null,
   "id": "5e449cc9",
   "metadata": {
    "lines_to_next_cell": 2
   },
   "outputs": [],
   "source": [
    "mutations2 = mutations2.groupby('dep').sample(frac = 0.5, random_state = 123)\n",
    "\n",
    "X_train, X_test, y_train, y_test = train_test_split(mutations2[xvars2], mutations2[[\"Valeur_fonciere\"]].values.ravel(), test_size = 0.2, random_state = 0, stratify=mutations2[['dep']])\n",
    "\n",
    "X = pd.concat((X_train, X_test), axis=0)\n",
    "Y = np.concatenate([y_train,y_test])"
   ]
  },
  {
   "cell_type": "markdown",
   "id": "926e609f",
   "metadata": {},
   "source": [
    "Nous allons nous contenter de jouer sur les paramètres:\n",
    "\n",
    "* `n_estimators`: Le nombre d'arbres de décision que notre forêt contient\n",
    "* `max_depth`: La profondeur de chaque arbre\n",
    "\n",
    "Il existe plusieurs manières de faire de la validation croisée. Nous allons ici\n",
    "utiliser la *grid search* qui consiste à estimer et tester le modèle sur chaque\n",
    "combinaison d'une grille de paramètres et sélectionner le couple de valeurs\n",
    "des hyperparamètres amenant à la meilleure prédiction. Par défaut, `scikit`\n",
    "effectue une _5-fold cross validation_. Nous n'allons pas changer\n",
    "ce comportement. \n",
    "\n",
    "Comme expliqué précédemment, les paramètres s'appelent sous la forme\n",
    "`<step>__<parameter_name>`\n",
    "\n",
    "La validation croisée pouvant être très consommatrice de temps, nous \n",
    "n'allons l'effectuer que sur un nombre réduit de valeurs de notre grille.\n",
    "Il est possible de passer la liste des valeurs à passer au crible sous\n",
    "forme de liste (comme pour l'argument `max_depth` ci-dessous) ou\n",
    "sous forme d'`array` (comme pour l'argument `n_estimators`) ce qui est\n",
    "souvent pratique pour générer un criblage d'un intervalle avec `np.linspace`.\n"
   ]
  },
  {
   "cell_type": "code",
   "execution_count": null,
   "id": "12680b8d",
   "metadata": {},
   "outputs": [],
   "source": [
    "import numpy as np\n",
    "from sklearn.model_selection import GridSearchCV\n",
    "\n",
    "import time\n",
    "\n",
    "start_time = time.time()\n",
    "# Parameters of pipelines can be set using ‘__’ separated parameter names:\n",
    "param_grid = {\n",
    "    \"randomforest__n_estimators\": np.linspace(5,25, 5).astype(int),\n",
    "    \"randomforest__max_depth\": [2,4]\n",
    "}\n",
    "grid_search = GridSearchCV(pipe, param_grid=param_grid)\n",
    "grid_search.fit(X, Y)"
   ]
  },
  {
   "cell_type": "code",
   "execution_count": null,
   "id": "77780577",
   "metadata": {
    "lines_to_next_cell": 2
   },
   "outputs": [],
   "source": [
    "end_time = time.time()\n",
    "print(\"Elapsed time : {} seconds\", int(end_time - start_time))"
   ]
  },
  {
   "cell_type": "markdown",
   "id": "d654b9fd",
   "metadata": {},
   "source": [
    "<style>#sk-80bdaa57-44ff-46ea-a0ff-1c9cc3fb2bad {color: black;background-color: white;}#sk-80bdaa57-44ff-46ea-a0ff-1c9cc3fb2bad pre{padding: 0;}#sk-80bdaa57-44ff-46ea-a0ff-1c9cc3fb2bad div.sk-toggleable {background-color: white;}#sk-80bdaa57-44ff-46ea-a0ff-1c9cc3fb2bad label.sk-toggleable__label {cursor: pointer;display: block;width: 100%;margin-bottom: 0;padding: 0.3em;box-sizing: border-box;text-align: center;}#sk-80bdaa57-44ff-46ea-a0ff-1c9cc3fb2bad label.sk-toggleable__label-arrow:before {content: \"▸\";float: left;margin-right: 0.25em;color: #696969;}#sk-80bdaa57-44ff-46ea-a0ff-1c9cc3fb2bad label.sk-toggleable__label-arrow:hover:before {color: black;}#sk-80bdaa57-44ff-46ea-a0ff-1c9cc3fb2bad div.sk-estimator:hover label.sk-toggleable__label-arrow:before {color: black;}#sk-80bdaa57-44ff-46ea-a0ff-1c9cc3fb2bad div.sk-toggleable__content {max-height: 0;max-width: 0;overflow: hidden;text-align: left;background-color: #f0f8ff;}#sk-80bdaa57-44ff-46ea-a0ff-1c9cc3fb2bad div.sk-toggleable__content pre {margin: 0.2em;color: black;border-radius: 0.25em;background-color: #f0f8ff;}#sk-80bdaa57-44ff-46ea-a0ff-1c9cc3fb2bad input.sk-toggleable__control:checked~div.sk-toggleable__content {max-height: 200px;max-width: 100%;overflow: auto;}#sk-80bdaa57-44ff-46ea-a0ff-1c9cc3fb2bad input.sk-toggleable__control:checked~label.sk-toggleable__label-arrow:before {content: \"▾\";}#sk-80bdaa57-44ff-46ea-a0ff-1c9cc3fb2bad div.sk-estimator input.sk-toggleable__control:checked~label.sk-toggleable__label {background-color: #d4ebff;}#sk-80bdaa57-44ff-46ea-a0ff-1c9cc3fb2bad div.sk-label input.sk-toggleable__control:checked~label.sk-toggleable__label {background-color: #d4ebff;}#sk-80bdaa57-44ff-46ea-a0ff-1c9cc3fb2bad input.sk-hidden--visually {border: 0;clip: rect(1px 1px 1px 1px);clip: rect(1px, 1px, 1px, 1px);height: 1px;margin: -1px;overflow: hidden;padding: 0;position: absolute;width: 1px;}#sk-80bdaa57-44ff-46ea-a0ff-1c9cc3fb2bad div.sk-estimator {font-family: monospace;background-color: #f0f8ff;border: 1px dotted black;border-radius: 0.25em;box-sizing: border-box;margin-bottom: 0.5em;}#sk-80bdaa57-44ff-46ea-a0ff-1c9cc3fb2bad div.sk-estimator:hover {background-color: #d4ebff;}#sk-80bdaa57-44ff-46ea-a0ff-1c9cc3fb2bad div.sk-parallel-item::after {content: \"\";width: 100%;border-bottom: 1px solid gray;flex-grow: 1;}#sk-80bdaa57-44ff-46ea-a0ff-1c9cc3fb2bad div.sk-label:hover label.sk-toggleable__label {background-color: #d4ebff;}#sk-80bdaa57-44ff-46ea-a0ff-1c9cc3fb2bad div.sk-serial::before {content: \"\";position: absolute;border-left: 1px solid gray;box-sizing: border-box;top: 2em;bottom: 0;left: 50%;}#sk-80bdaa57-44ff-46ea-a0ff-1c9cc3fb2bad div.sk-serial {display: flex;flex-direction: column;align-items: center;background-color: white;padding-right: 0.2em;padding-left: 0.2em;}#sk-80bdaa57-44ff-46ea-a0ff-1c9cc3fb2bad div.sk-item {z-index: 1;}#sk-80bdaa57-44ff-46ea-a0ff-1c9cc3fb2bad div.sk-parallel {display: flex;align-items: stretch;justify-content: center;background-color: white;}#sk-80bdaa57-44ff-46ea-a0ff-1c9cc3fb2bad div.sk-parallel::before {content: \"\";position: absolute;border-left: 1px solid gray;box-sizing: border-box;top: 2em;bottom: 0;left: 50%;}#sk-80bdaa57-44ff-46ea-a0ff-1c9cc3fb2bad div.sk-parallel-item {display: flex;flex-direction: column;position: relative;background-color: white;}#sk-80bdaa57-44ff-46ea-a0ff-1c9cc3fb2bad div.sk-parallel-item:first-child::after {align-self: flex-end;width: 50%;}#sk-80bdaa57-44ff-46ea-a0ff-1c9cc3fb2bad div.sk-parallel-item:last-child::after {align-self: flex-start;width: 50%;}#sk-80bdaa57-44ff-46ea-a0ff-1c9cc3fb2bad div.sk-parallel-item:only-child::after {width: 0;}#sk-80bdaa57-44ff-46ea-a0ff-1c9cc3fb2bad div.sk-dashed-wrapped {border: 1px dashed gray;margin: 0 0.4em 0.5em 0.4em;box-sizing: border-box;padding-bottom: 0.4em;background-color: white;position: relative;}#sk-80bdaa57-44ff-46ea-a0ff-1c9cc3fb2bad div.sk-label label {font-family: monospace;font-weight: bold;background-color: white;display: inline-block;line-height: 1.2em;}#sk-80bdaa57-44ff-46ea-a0ff-1c9cc3fb2bad div.sk-label-container {position: relative;z-index: 2;text-align: center;}#sk-80bdaa57-44ff-46ea-a0ff-1c9cc3fb2bad div.sk-container {/* jupyter's `normalize.less` sets `[hidden] { display: none; }` but bootstrap.min.css set `[hidden] { display: none !important; }` so we also need the `!important` here to be able to override the default hidden behavior on the sphinx rendered scikit-learn.org. See: https://github.com/scikit-learn/scikit-learn/issues/21755 */display: inline-block !important;position: relative;}#sk-80bdaa57-44ff-46ea-a0ff-1c9cc3fb2bad div.sk-text-repr-fallback {display: none;}</style><div id=\"sk-80bdaa57-44ff-46ea-a0ff-1c9cc3fb2bad\" class=\"sk-top-container\"><div class=\"sk-text-repr-fallback\"><pre>GridSearchCV(estimator=Pipeline(steps=[(&#x27;preprocessor&#x27;,\n",
    "                                        ColumnTransformer(transformers=[(&#x27;pipeline&#x27;,\n",
    "                                                                         Pipeline(steps=[(&#x27;standardscaler&#x27;,\n",
    "                                                                                          StandardScaler())]),\n",
    "                                                                         [&#x27;Nombre_de_lots&#x27;,\n",
    "                                                                          &#x27;surface&#x27;,\n",
    "                                                                          &#x27;Nombre_pieces_principales&#x27;]),\n",
    "                                                                        (&#x27;onehotencoder&#x27;,\n",
    "                                                                         OneHotEncoder(handle_unknown=&#x27;ignore&#x27;,\n",
    "                                                                                       sparse=False),\n",
    "                                                                         [&#x27;dep&#x27;,\n",
    "                                                                          &#x27;Code_type_local&#x27;])])),\n",
    "                                       (&#x27;randomforest&#x27;,\n",
    "                                        RandomForestRegressor(max_depth=2,\n",
    "                                                              random_state=123))]),\n",
    "             param_grid={&#x27;randomforest__max_depth&#x27;: [2, 4],\n",
    "                         &#x27;randomforest__n_estimators&#x27;: array([ 5, 10, 15, 20, 25])})</pre><b>Please rerun this cell to show the HTML repr or trust the notebook.</b></div><div class=\"sk-container\" hidden><div class=\"sk-item sk-dashed-wrapped\"><div class=\"sk-label-container\"><div class=\"sk-label sk-toggleable\"><input class=\"sk-toggleable__control sk-hidden--visually\" id=\"ff1e03f2-0d66-41d1-b74e-25e24b9557a6\" type=\"checkbox\" ><label for=\"ff1e03f2-0d66-41d1-b74e-25e24b9557a6\" class=\"sk-toggleable__label sk-toggleable__label-arrow\">GridSearchCV</label><div class=\"sk-toggleable__content\"><pre>GridSearchCV(estimator=Pipeline(steps=[(&#x27;preprocessor&#x27;,\n",
    "                                        ColumnTransformer(transformers=[(&#x27;pipeline&#x27;,\n",
    "                                                                         Pipeline(steps=[(&#x27;standardscaler&#x27;,\n",
    "                                                                                          StandardScaler())]),\n",
    "                                                                         [&#x27;Nombre_de_lots&#x27;,\n",
    "                                                                          &#x27;surface&#x27;,\n",
    "                                                                          &#x27;Nombre_pieces_principales&#x27;]),\n",
    "                                                                        (&#x27;onehotencoder&#x27;,\n",
    "                                                                         OneHotEncoder(handle_unknown=&#x27;ignore&#x27;,\n",
    "                                                                                       sparse=False),\n",
    "                                                                         [&#x27;dep&#x27;,\n",
    "                                                                          &#x27;Code_type_local&#x27;])])),\n",
    "                                       (&#x27;randomforest&#x27;,\n",
    "                                        RandomForestRegressor(max_depth=2,\n",
    "                                                              random_state=123))]),\n",
    "             param_grid={&#x27;randomforest__max_depth&#x27;: [2, 4],\n",
    "                         &#x27;randomforest__n_estimators&#x27;: array([ 5, 10, 15, 20, 25])})</pre></div></div></div><div class=\"sk-parallel\"><div class=\"sk-parallel-item\"><div class=\"sk-item\"><div class=\"sk-serial\"><div class=\"sk-item\"><div class=\"sk-serial\"><div class=\"sk-item sk-dashed-wrapped\"><div class=\"sk-label-container\"><div class=\"sk-label sk-toggleable\"><input class=\"sk-toggleable__control sk-hidden--visually\" id=\"4e9ea755-333b-4ae0-b9a5-212f4d075573\" type=\"checkbox\" ><label for=\"4e9ea755-333b-4ae0-b9a5-212f4d075573\" class=\"sk-toggleable__label sk-toggleable__label-arrow\">preprocessor: ColumnTransformer</label><div class=\"sk-toggleable__content\"><pre>ColumnTransformer(transformers=[(&#x27;pipeline&#x27;,\n",
    "                                 Pipeline(steps=[(&#x27;standardscaler&#x27;,\n",
    "                                                  StandardScaler())]),\n",
    "                                 [&#x27;Nombre_de_lots&#x27;, &#x27;surface&#x27;,\n",
    "                                  &#x27;Nombre_pieces_principales&#x27;]),\n",
    "                                (&#x27;onehotencoder&#x27;,\n",
    "                                 OneHotEncoder(handle_unknown=&#x27;ignore&#x27;,\n",
    "                                               sparse=False),\n",
    "                                 [&#x27;dep&#x27;, &#x27;Code_type_local&#x27;])])</pre></div></div></div><div class=\"sk-parallel\"><div class=\"sk-parallel-item\"><div class=\"sk-item\"><div class=\"sk-label-container\"><div class=\"sk-label sk-toggleable\"><input class=\"sk-toggleable__control sk-hidden--visually\" id=\"6d1062f9-4af9-4bf9-832a-a1d5bdc39fbe\" type=\"checkbox\" ><label for=\"6d1062f9-4af9-4bf9-832a-a1d5bdc39fbe\" class=\"sk-toggleable__label sk-toggleable__label-arrow\">pipeline</label><div class=\"sk-toggleable__content\"><pre>[&#x27;Nombre_de_lots&#x27;, &#x27;surface&#x27;, &#x27;Nombre_pieces_principales&#x27;]</pre></div></div></div><div class=\"sk-serial\"><div class=\"sk-item\"><div class=\"sk-serial\"><div class=\"sk-item\"><div class=\"sk-estimator sk-toggleable\"><input class=\"sk-toggleable__control sk-hidden--visually\" id=\"94510286-6123-40ab-b556-afb1f0464ac0\" type=\"checkbox\" ><label for=\"94510286-6123-40ab-b556-afb1f0464ac0\" class=\"sk-toggleable__label sk-toggleable__label-arrow\">StandardScaler</label><div class=\"sk-toggleable__content\"><pre>StandardScaler()</pre></div></div></div></div></div></div></div></div><div class=\"sk-parallel-item\"><div class=\"sk-item\"><div class=\"sk-label-container\"><div class=\"sk-label sk-toggleable\"><input class=\"sk-toggleable__control sk-hidden--visually\" id=\"92448731-50f8-4450-8a51-875a041b64e4\" type=\"checkbox\" ><label for=\"92448731-50f8-4450-8a51-875a041b64e4\" class=\"sk-toggleable__label sk-toggleable__label-arrow\">onehotencoder</label><div class=\"sk-toggleable__content\"><pre>[&#x27;dep&#x27;, &#x27;Code_type_local&#x27;]</pre></div></div></div><div class=\"sk-serial\"><div class=\"sk-item\"><div class=\"sk-estimator sk-toggleable\"><input class=\"sk-toggleable__control sk-hidden--visually\" id=\"c0c31933-0009-4261-a2b8-26ada9313af4\" type=\"checkbox\" ><label for=\"c0c31933-0009-4261-a2b8-26ada9313af4\" class=\"sk-toggleable__label sk-toggleable__label-arrow\">OneHotEncoder</label><div class=\"sk-toggleable__content\"><pre>OneHotEncoder(handle_unknown=&#x27;ignore&#x27;, sparse=False)</pre></div></div></div></div></div></div></div></div><div class=\"sk-item\"><div class=\"sk-estimator sk-toggleable\"><input class=\"sk-toggleable__control sk-hidden--visually\" id=\"72b370ff-4500-4009-9e4f-c585cf4f0cfc\" type=\"checkbox\" ><label for=\"72b370ff-4500-4009-9e4f-c585cf4f0cfc\" class=\"sk-toggleable__label sk-toggleable__label-arrow\">RandomForestRegressor</label><div class=\"sk-toggleable__content\"><pre>RandomForestRegressor(max_depth=2, random_state=123)</pre></div></div></div></div></div></div></div></div></div></div></div></div>\n",
    "\n"
   ]
  },
  {
   "cell_type": "markdown",
   "id": "431f6309",
   "metadata": {},
   "source": [
    "```\n",
    "## Elapsed time : {} seconds 356\n",
    "```"
   ]
  },
  {
   "cell_type": "markdown",
   "id": "1a282bb6",
   "metadata": {},
   "source": [
    "On peut récupérer les paramètres optimaux avec la méthode `best_params_`:\n"
   ]
  },
  {
   "cell_type": "code",
   "execution_count": null,
   "id": "67371fe5",
   "metadata": {},
   "outputs": [],
   "source": [
    "grid_search.best_params_"
   ]
  },
  {
   "cell_type": "markdown",
   "id": "14161a72",
   "metadata": {},
   "source": [
    "```\n",
    "## {'randomforest__max_depth': 4, 'randomforest__n_estimators': 5}\n",
    "```\n",
    "\n",
    "On pourra aussi ré-utiliser le modèle optimal de la manière suivante:\n"
   ]
  },
  {
   "cell_type": "code",
   "execution_count": null,
   "id": "8c8eb2bb",
   "metadata": {
    "lines_to_next_cell": 0
   },
   "outputs": [],
   "source": [
    "grid_search.best_estimator_"
   ]
  },
  {
   "cell_type": "markdown",
   "id": "ba1b674f",
   "metadata": {},
   "source": []
  },
  {
   "cell_type": "markdown",
   "id": "ff4d7e84",
   "metadata": {},
   "source": [
    "<style>#sk-d9154dd2-32ca-452c-a1ee-a7d76f15cb98 {color: black;background-color: white;}#sk-d9154dd2-32ca-452c-a1ee-a7d76f15cb98 pre{padding: 0;}#sk-d9154dd2-32ca-452c-a1ee-a7d76f15cb98 div.sk-toggleable {background-color: white;}#sk-d9154dd2-32ca-452c-a1ee-a7d76f15cb98 label.sk-toggleable__label {cursor: pointer;display: block;width: 100%;margin-bottom: 0;padding: 0.3em;box-sizing: border-box;text-align: center;}#sk-d9154dd2-32ca-452c-a1ee-a7d76f15cb98 label.sk-toggleable__label-arrow:before {content: \"▸\";float: left;margin-right: 0.25em;color: #696969;}#sk-d9154dd2-32ca-452c-a1ee-a7d76f15cb98 label.sk-toggleable__label-arrow:hover:before {color: black;}#sk-d9154dd2-32ca-452c-a1ee-a7d76f15cb98 div.sk-estimator:hover label.sk-toggleable__label-arrow:before {color: black;}#sk-d9154dd2-32ca-452c-a1ee-a7d76f15cb98 div.sk-toggleable__content {max-height: 0;max-width: 0;overflow: hidden;text-align: left;background-color: #f0f8ff;}#sk-d9154dd2-32ca-452c-a1ee-a7d76f15cb98 div.sk-toggleable__content pre {margin: 0.2em;color: black;border-radius: 0.25em;background-color: #f0f8ff;}#sk-d9154dd2-32ca-452c-a1ee-a7d76f15cb98 input.sk-toggleable__control:checked~div.sk-toggleable__content {max-height: 200px;max-width: 100%;overflow: auto;}#sk-d9154dd2-32ca-452c-a1ee-a7d76f15cb98 input.sk-toggleable__control:checked~label.sk-toggleable__label-arrow:before {content: \"▾\";}#sk-d9154dd2-32ca-452c-a1ee-a7d76f15cb98 div.sk-estimator input.sk-toggleable__control:checked~label.sk-toggleable__label {background-color: #d4ebff;}#sk-d9154dd2-32ca-452c-a1ee-a7d76f15cb98 div.sk-label input.sk-toggleable__control:checked~label.sk-toggleable__label {background-color: #d4ebff;}#sk-d9154dd2-32ca-452c-a1ee-a7d76f15cb98 input.sk-hidden--visually {border: 0;clip: rect(1px 1px 1px 1px);clip: rect(1px, 1px, 1px, 1px);height: 1px;margin: -1px;overflow: hidden;padding: 0;position: absolute;width: 1px;}#sk-d9154dd2-32ca-452c-a1ee-a7d76f15cb98 div.sk-estimator {font-family: monospace;background-color: #f0f8ff;border: 1px dotted black;border-radius: 0.25em;box-sizing: border-box;margin-bottom: 0.5em;}#sk-d9154dd2-32ca-452c-a1ee-a7d76f15cb98 div.sk-estimator:hover {background-color: #d4ebff;}#sk-d9154dd2-32ca-452c-a1ee-a7d76f15cb98 div.sk-parallel-item::after {content: \"\";width: 100%;border-bottom: 1px solid gray;flex-grow: 1;}#sk-d9154dd2-32ca-452c-a1ee-a7d76f15cb98 div.sk-label:hover label.sk-toggleable__label {background-color: #d4ebff;}#sk-d9154dd2-32ca-452c-a1ee-a7d76f15cb98 div.sk-serial::before {content: \"\";position: absolute;border-left: 1px solid gray;box-sizing: border-box;top: 2em;bottom: 0;left: 50%;}#sk-d9154dd2-32ca-452c-a1ee-a7d76f15cb98 div.sk-serial {display: flex;flex-direction: column;align-items: center;background-color: white;padding-right: 0.2em;padding-left: 0.2em;}#sk-d9154dd2-32ca-452c-a1ee-a7d76f15cb98 div.sk-item {z-index: 1;}#sk-d9154dd2-32ca-452c-a1ee-a7d76f15cb98 div.sk-parallel {display: flex;align-items: stretch;justify-content: center;background-color: white;}#sk-d9154dd2-32ca-452c-a1ee-a7d76f15cb98 div.sk-parallel::before {content: \"\";position: absolute;border-left: 1px solid gray;box-sizing: border-box;top: 2em;bottom: 0;left: 50%;}#sk-d9154dd2-32ca-452c-a1ee-a7d76f15cb98 div.sk-parallel-item {display: flex;flex-direction: column;position: relative;background-color: white;}#sk-d9154dd2-32ca-452c-a1ee-a7d76f15cb98 div.sk-parallel-item:first-child::after {align-self: flex-end;width: 50%;}#sk-d9154dd2-32ca-452c-a1ee-a7d76f15cb98 div.sk-parallel-item:last-child::after {align-self: flex-start;width: 50%;}#sk-d9154dd2-32ca-452c-a1ee-a7d76f15cb98 div.sk-parallel-item:only-child::after {width: 0;}#sk-d9154dd2-32ca-452c-a1ee-a7d76f15cb98 div.sk-dashed-wrapped {border: 1px dashed gray;margin: 0 0.4em 0.5em 0.4em;box-sizing: border-box;padding-bottom: 0.4em;background-color: white;position: relative;}#sk-d9154dd2-32ca-452c-a1ee-a7d76f15cb98 div.sk-label label {font-family: monospace;font-weight: bold;background-color: white;display: inline-block;line-height: 1.2em;}#sk-d9154dd2-32ca-452c-a1ee-a7d76f15cb98 div.sk-label-container {position: relative;z-index: 2;text-align: center;}#sk-d9154dd2-32ca-452c-a1ee-a7d76f15cb98 div.sk-container {/* jupyter's `normalize.less` sets `[hidden] { display: none; }` but bootstrap.min.css set `[hidden] { display: none !important; }` so we also need the `!important` here to be able to override the default hidden behavior on the sphinx rendered scikit-learn.org. See: https://github.com/scikit-learn/scikit-learn/issues/21755 */display: inline-block !important;position: relative;}#sk-d9154dd2-32ca-452c-a1ee-a7d76f15cb98 div.sk-text-repr-fallback {display: none;}</style><div id=\"sk-d9154dd2-32ca-452c-a1ee-a7d76f15cb98\" class=\"sk-top-container\"><div class=\"sk-text-repr-fallback\"><pre>Pipeline(steps=[(&#x27;preprocessor&#x27;,\n",
    "                 ColumnTransformer(transformers=[(&#x27;pipeline&#x27;,\n",
    "                                                  Pipeline(steps=[(&#x27;standardscaler&#x27;,\n",
    "                                                                   StandardScaler())]),\n",
    "                                                  [&#x27;Nombre_de_lots&#x27;, &#x27;surface&#x27;,\n",
    "                                                   &#x27;Nombre_pieces_principales&#x27;]),\n",
    "                                                 (&#x27;onehotencoder&#x27;,\n",
    "                                                  OneHotEncoder(handle_unknown=&#x27;ignore&#x27;,\n",
    "                                                                sparse=False),\n",
    "                                                  [&#x27;dep&#x27;,\n",
    "                                                   &#x27;Code_type_local&#x27;])])),\n",
    "                (&#x27;randomforest&#x27;,\n",
    "                 RandomForestRegressor(max_depth=4, n_estimators=5,\n",
    "                                       random_state=123))])</pre><b>Please rerun this cell to show the HTML repr or trust the notebook.</b></div><div class=\"sk-container\" hidden><div class=\"sk-item sk-dashed-wrapped\"><div class=\"sk-label-container\"><div class=\"sk-label sk-toggleable\"><input class=\"sk-toggleable__control sk-hidden--visually\" id=\"2ef3b763-56a6-49af-abcb-1e18123d59be\" type=\"checkbox\" ><label for=\"2ef3b763-56a6-49af-abcb-1e18123d59be\" class=\"sk-toggleable__label sk-toggleable__label-arrow\">Pipeline</label><div class=\"sk-toggleable__content\"><pre>Pipeline(steps=[(&#x27;preprocessor&#x27;,\n",
    "                 ColumnTransformer(transformers=[(&#x27;pipeline&#x27;,\n",
    "                                                  Pipeline(steps=[(&#x27;standardscaler&#x27;,\n",
    "                                                                   StandardScaler())]),\n",
    "                                                  [&#x27;Nombre_de_lots&#x27;, &#x27;surface&#x27;,\n",
    "                                                   &#x27;Nombre_pieces_principales&#x27;]),\n",
    "                                                 (&#x27;onehotencoder&#x27;,\n",
    "                                                  OneHotEncoder(handle_unknown=&#x27;ignore&#x27;,\n",
    "                                                                sparse=False),\n",
    "                                                  [&#x27;dep&#x27;,\n",
    "                                                   &#x27;Code_type_local&#x27;])])),\n",
    "                (&#x27;randomforest&#x27;,\n",
    "                 RandomForestRegressor(max_depth=4, n_estimators=5,\n",
    "                                       random_state=123))])</pre></div></div></div><div class=\"sk-serial\"><div class=\"sk-item sk-dashed-wrapped\"><div class=\"sk-label-container\"><div class=\"sk-label sk-toggleable\"><input class=\"sk-toggleable__control sk-hidden--visually\" id=\"a5830176-17bf-4da2-a8ec-02f94e0871b3\" type=\"checkbox\" ><label for=\"a5830176-17bf-4da2-a8ec-02f94e0871b3\" class=\"sk-toggleable__label sk-toggleable__label-arrow\">preprocessor: ColumnTransformer</label><div class=\"sk-toggleable__content\"><pre>ColumnTransformer(transformers=[(&#x27;pipeline&#x27;,\n",
    "                                 Pipeline(steps=[(&#x27;standardscaler&#x27;,\n",
    "                                                  StandardScaler())]),\n",
    "                                 [&#x27;Nombre_de_lots&#x27;, &#x27;surface&#x27;,\n",
    "                                  &#x27;Nombre_pieces_principales&#x27;]),\n",
    "                                (&#x27;onehotencoder&#x27;,\n",
    "                                 OneHotEncoder(handle_unknown=&#x27;ignore&#x27;,\n",
    "                                               sparse=False),\n",
    "                                 [&#x27;dep&#x27;, &#x27;Code_type_local&#x27;])])</pre></div></div></div><div class=\"sk-parallel\"><div class=\"sk-parallel-item\"><div class=\"sk-item\"><div class=\"sk-label-container\"><div class=\"sk-label sk-toggleable\"><input class=\"sk-toggleable__control sk-hidden--visually\" id=\"64af23ae-edb6-4d03-86e7-4b86d85cb74c\" type=\"checkbox\" ><label for=\"64af23ae-edb6-4d03-86e7-4b86d85cb74c\" class=\"sk-toggleable__label sk-toggleable__label-arrow\">pipeline</label><div class=\"sk-toggleable__content\"><pre>[&#x27;Nombre_de_lots&#x27;, &#x27;surface&#x27;, &#x27;Nombre_pieces_principales&#x27;]</pre></div></div></div><div class=\"sk-serial\"><div class=\"sk-item\"><div class=\"sk-serial\"><div class=\"sk-item\"><div class=\"sk-estimator sk-toggleable\"><input class=\"sk-toggleable__control sk-hidden--visually\" id=\"dca962d7-a510-4c04-8296-69348d7cf598\" type=\"checkbox\" ><label for=\"dca962d7-a510-4c04-8296-69348d7cf598\" class=\"sk-toggleable__label sk-toggleable__label-arrow\">StandardScaler</label><div class=\"sk-toggleable__content\"><pre>StandardScaler()</pre></div></div></div></div></div></div></div></div><div class=\"sk-parallel-item\"><div class=\"sk-item\"><div class=\"sk-label-container\"><div class=\"sk-label sk-toggleable\"><input class=\"sk-toggleable__control sk-hidden--visually\" id=\"58da5dd0-3674-4314-bd4e-d71b80374d45\" type=\"checkbox\" ><label for=\"58da5dd0-3674-4314-bd4e-d71b80374d45\" class=\"sk-toggleable__label sk-toggleable__label-arrow\">onehotencoder</label><div class=\"sk-toggleable__content\"><pre>[&#x27;dep&#x27;, &#x27;Code_type_local&#x27;]</pre></div></div></div><div class=\"sk-serial\"><div class=\"sk-item\"><div class=\"sk-estimator sk-toggleable\"><input class=\"sk-toggleable__control sk-hidden--visually\" id=\"8ae57554-cbd0-4bf9-afd3-ac13ed926e6a\" type=\"checkbox\" ><label for=\"8ae57554-cbd0-4bf9-afd3-ac13ed926e6a\" class=\"sk-toggleable__label sk-toggleable__label-arrow\">OneHotEncoder</label><div class=\"sk-toggleable__content\"><pre>OneHotEncoder(handle_unknown=&#x27;ignore&#x27;, sparse=False)</pre></div></div></div></div></div></div></div></div><div class=\"sk-item\"><div class=\"sk-estimator sk-toggleable\"><input class=\"sk-toggleable__control sk-hidden--visually\" id=\"37b657b8-1665-4a7c-857c-3e4510b3ea5f\" type=\"checkbox\" ><label for=\"37b657b8-1665-4a7c-857c-3e4510b3ea5f\" class=\"sk-toggleable__label sk-toggleable__label-arrow\">RandomForestRegressor</label><div class=\"sk-toggleable__content\"><pre>RandomForestRegressor(max_depth=4, n_estimators=5, random_state=123)</pre></div></div></div></div></div></div></div>"
   ]
  },
  {
   "cell_type": "markdown",
   "id": "9f9c216d",
   "metadata": {},
   "source": [
    "Toutes les performances sur les ensembles d'échantillons et de test sur la grille\n",
    "d'hyperparamètres sont disponibles dans l'attribut:\n"
   ]
  },
  {
   "cell_type": "code",
   "execution_count": null,
   "id": "d22124a8",
   "metadata": {},
   "outputs": [],
   "source": [
    "perf_random_forest = pd.DataFrame(grid_search.cv_results_)"
   ]
  },
  {
   "cell_type": "markdown",
   "id": "de3b4207",
   "metadata": {},
   "source": [
    "Regardons les résultats moyens pour chaque valeur des hyperparamètres:\n"
   ]
  },
  {
   "cell_type": "code",
   "execution_count": null,
   "id": "ea13095e",
   "metadata": {},
   "outputs": [],
   "source": [
    "fig, ax = plt.subplots(1)\n",
    "g = sns.lineplot(data = perf_random_forest, ax = ax,\n",
    "             x = \"param_randomforest__n_estimators\",\n",
    "             y = \"mean_test_score\",\n",
    "             hue = \"param_randomforest__max_depth\")\n",
    "g.set(xlabel='Number of estimators', ylabel='Mean score on test sample')"
   ]
  },
  {
   "cell_type": "code",
   "execution_count": null,
   "id": "e3c37b44",
   "metadata": {
    "lines_to_next_cell": 0
   },
   "outputs": [],
   "source": [
    "g\n",
    "plt.legend(bbox_to_anchor=(1.05, 1), loc='upper left', borderaxespad=0,\n",
    "           title='Depth of trees')\n",
    "plt.savefig(\"perfCV.png\")"
   ]
  },
  {
   "cell_type": "markdown",
   "id": "45fd0e70",
   "metadata": {},
   "source": []
  },
  {
   "cell_type": "markdown",
   "id": "a7195f1f",
   "metadata": {},
   "source": [
    "Globalement, à profondeur d'arbre donnée, le nombre d'arbres change\n",
    "marginalement la performance (cela détériore\n",
    "la performance quand la profondeur est de 4, cela améliore quand\n",
    "on fixe la profondeur de 2).\n",
    "En revanche, changer la profondeur de l'arbre améliore la \n",
    "performance de manière plus marquée.\n",
    "\n",
    "Maintenant, il nous reste à re-entraîner le modèle avec ces nouveaux\n",
    "paramètres sur l'ensemble du jeu de *train* et l'évaluer sur l'ensemble\n",
    "du jeu de *test*:\n"
   ]
  },
  {
   "cell_type": "code",
   "execution_count": null,
   "id": "0aa19c3c",
   "metadata": {},
   "outputs": [],
   "source": [
    "pipe_optimal = grid_search.best_estimator_\n",
    "pipe_optimal.fit(X_train, y_train)"
   ]
  },
  {
   "cell_type": "code",
   "execution_count": null,
   "id": "60202a92",
   "metadata": {},
   "outputs": [],
   "source": [
    "compar = pd.DataFrame([y_test, pipe_optimal.predict(X_test)]).T\n",
    "compar.columns = ['obs','pred']\n",
    "compar['diff'] = compar.obs - compar.pred"
   ]
  },
  {
   "cell_type": "markdown",
   "id": "4b776381",
   "metadata": {},
   "source": [
    "On obtient le RMSE suivant:\n"
   ]
  },
  {
   "cell_type": "code",
   "execution_count": null,
   "id": "fc81ccb0",
   "metadata": {},
   "outputs": [],
   "source": [
    "print(\"Le RMSE sur le jeu de test est {:,}\".format(\n",
    "   int(np.sqrt(mean_squared_error(y_test, pipe_optimal.predict(X_test))))\n",
    "))"
   ]
  },
  {
   "cell_type": "markdown",
   "id": "a40b96ac",
   "metadata": {},
   "source": [
    "```\n",
    "## Le RMSE sur le jeu de test est 449,713\n",
    "```\n",
    "\n",
    "Et si on regarde la qualité en prédiction:\n"
   ]
  },
  {
   "cell_type": "code",
   "execution_count": null,
   "id": "bb59cf3a",
   "metadata": {},
   "outputs": [],
   "source": [
    "g = sns.relplot(data = compar, x = 'obs', y = 'pred', color = \"royalblue\", alpha = 0.8)\n",
    "g.set(ylim=(0, 2e6), xlim=(0, 2e6),\n",
    "      title='Evaluating estimation error on test sample',\n",
    "      xlabel='Observed values',\n",
    "      ylabel='Predicted values')"
   ]
  },
  {
   "cell_type": "code",
   "execution_count": null,
   "id": "59cd15d6",
   "metadata": {},
   "outputs": [],
   "source": [
    "g.ax.axline(xy1=(0, 0), slope=1, color=\"red\", dashes=(5, 2))\n",
    "g"
   ]
  },
  {
   "cell_type": "code",
   "execution_count": null,
   "id": "e7ec09b4",
   "metadata": {
    "lines_to_next_cell": 2
   },
   "outputs": [],
   "source": [
    "plt.savefig(\"predCV.png\")"
   ]
  },
  {
   "cell_type": "markdown",
   "id": "ae7688e5",
   "metadata": {},
   "source": [
    "On obtient plus de variance dans la prédiction, c'est déjà un peu mieux.\n",
    "Cependant, cela reste décevant pour plusieurs raisons:\n",
    "\n",
    "- nous n'avons pas fait d'étape de sélection de variable\n",
    "- nous n'avons pas chercher à déterminer si la variable à prédire la plus\n",
    "pertinente était le prix ou une transformation de celle-ci\n",
    "(par exemple le prix au $m^2$)\n",
    "\n"
   ]
  },
  {
   "cell_type": "code",
   "execution_count": null,
   "id": "5e317403",
   "metadata": {
    "lines_to_next_cell": 0
   },
   "outputs": [],
   "source": [
    "features_names=pipe_optimal['preprocessor'].get_feature_names_out()\n",
    "importances = pipe_optimal['randomforest'].feature_importances_\n",
    "std = np.std([tree.feature_importances_ for tree in pipe_optimal['randomforest'].estimators_], axis=0)\n",
    "\n",
    "forest_importances = pd.Series(importances[importances>0], index=features_names[importances>0])\n",
    "\n",
    "fig, ax = plt.subplots()\n",
    "forest_importances.plot.bar(yerr=std[importances>0], ax=ax)\n",
    "ax.set_title(\"Feature importances using MDI\")\n",
    "ax.set_ylabel(\"Mean decrease in impurity\")\n",
    "fig.tight_layout()"
   ]
  },
  {
   "cell_type": "markdown",
   "id": "c179d5ef",
   "metadata": {},
   "source": [
    "\n"
   ]
  },
  {
   "cell_type": "markdown",
   "id": "6440d9f7",
   "metadata": {},
   "source": [
    "```r\n",
    "knitr::include_graphics(\"varimportance2.png\")\n",
    "```\n"
   ]
  },
  {
   "cell_type": "markdown",
   "id": "f2b7da7e",
   "metadata": {},
   "source": [
    "## Remarque sur la performance\n",
    "\n",
    "Les estimations sont, par défaut, menées de manière séquentielle (l'une après\n",
    "l'autre). Nous sommes cependant face à un problème\n",
    "*embarassingly parallel*. \n",
    "Pour gagner en performance, il est recommandé d'utiliser l'argument\n",
    "`n_jobs=-1`."
   ]
  },
  {
   "cell_type": "markdown",
   "id": "fd254119",
   "metadata": {},
   "source": [
    "## Remarque sur l'échantillonnage\n",
    "\n",
    "En l'état actuel de l'échantillonnage entre train et test au sein de la\n",
    "_grid search_,\n",
    "on est face à un problème de *data leaking* car l'échantillon\n",
    "n'est pas balancé entre nos classes (les départements).\n",
    "\n",
    "Certaines classes se \n",
    "retrouvent hors de l'échantillon d'estimation mais dans l'échantillon de prédiction.\n",
    "Autrement dit, notre *pipeline* de *preprocessing* se retrouve à devoir\n",
    "nettoyer des valeurs qu'il ne connaît pas. \n",
    "\n",
    "Nous avons choisi une option, dans notre *pipeline* pour se faciliter la vie\n",
    "à ce propos. Nous ne rencontrons pas d'erreur car nous avons utilisé l'option \n",
    "`handle_unknown = \"ignore\"` plutôt que \n",
    "`handle_unknown = \"error\"` (défaut) dans le _one hot encoding_. \n",
    "Cette option est dangereuse et n'est pas recommandée pour un vrai _pipeline_.\n",
    "De manière générale, il vaut mieux adopter une approche de\n",
    "programmation défensive en n'hésitant pas à renvoyer une erreur si la\n",
    "structure du *DataFrame* de prédiction diffère vraiment de celle du *DataFrame*\n",
    "d'entraînement."
   ]
  },
  {
   "cell_type": "markdown",
   "id": "1fdc9dd6",
   "metadata": {},
   "source": [
    "Pour éviter cette erreur, il serait mieux de définir explicitement le schéma de\n",
    "validation croisée à mettre en oeuvre.\n",
    "Précédemment, nous avions utilisé un échantillonnage stratifié. \n",
    "Cela pourrait être fait ici avec\n",
    "la méthode `StratifiedGroupKFold` (plus d'éléments à venir)\n"
   ]
  },
  {
   "cell_type": "code",
   "execution_count": null,
   "id": "08ee7a33",
   "metadata": {},
   "outputs": [],
   "source": [
    "from sklearn.model_selection import StratifiedGroupKFold\n",
    "cv = StratifiedGroupKFold(n_splits=5)\n",
    "#grid_search.fit(pd.concat((X_train, X_test), axis=0), np.concatenate([y_train,y_test]), cv = cv, groups = pd.concat((X_train, X_test), axis=0)['dep'])"
   ]
  },
  {
   "cell_type": "markdown",
   "id": "a2c5bfb4",
   "metadata": {},
   "source": [
    "# Eléments supplémentaires à venir\n",
    "\n",
    "Ce chapitre est amené à être enrichi des éléments suivants\n",
    "(cf. [#207](https://github.com/linogaliana/python-datascientist/issues/207))\n",
    "\n",
    "- [ ] Comparaison performance entre modèles grâce aux pipelines\n",
    "- [ ] Intégration d'une étape de sélection de variable dans un pipeline\n",
    "- [ ] `statsmodels` dans un pipeline\n",
    "- [ ] `Keras` dans un pipeline\n"
   ]
  },
  {
   "cell_type": "markdown",
   "id": "264024d5",
   "metadata": {},
   "source": [
    "# Annexes: pipelines alternatifs\n",
    "\n",
    "## Préalable : quelques méthodes pour gagner en flexibilité dans le preprocessing\n",
    "\n",
    "Notre *DataFrame* comporte des types hétérogènes de variables:\n",
    "\n",
    "* Des variables numériques dont les variances sont très hétérogènes\n",
    "* Des variables textuelles qui mériteraient un recodage sous forme numérique\n",
    "* Des variables discrètes dont les modalités devraient être éclatées (_one hot encoding_)\n",
    "\n",
    "Pour gagner en flexibilité, nous allons proposer certaines méthodes qui permettent\n",
    "d'appliquer les étapes de _preprocessing_ adéquates à un sous-ensemble de \n",
    "variables[^1]. Ces méthodes ne sont plus nécessaires dans les versions\n",
    "récentes de `scikit`.\n",
    "\n",
    "[^1]: Un certain nombre des éléments suivants ont été glannés, par ci par là,\n",
    "depuis `stackoverflow`.\n",
    "\n",
    "Pour cela, il convient d'adopter l'approche de la programmation orientée objet. \n",
    "On va créer des classes avec des méthodes `transform` et `fit_transform`\n",
    "qui pourront ainsi être intégrées directement dans les *pipelines*, comme s'il\n",
    "s'agissait de méthodes issues de `scikit`.\n",
    "\n",
    "La première généralise `LabelEncoder` à un sous-ensemble de colonnes:\n"
   ]
  },
  {
   "cell_type": "code",
   "execution_count": null,
   "id": "9045fa1a",
   "metadata": {},
   "outputs": [],
   "source": [
    "from sklearn.preprocessing import LabelEncoder, OneHotEncoder\n",
    "from sklearn.compose import ColumnTransformer\n",
    "\n",
    "class MultiColumnLabelEncoder:\n",
    "    def __init__(self,columns = None):\n",
    "        self.columns = columns # array of column names to encode\n",
    "\n",
    "    def fit(self,X,y=None):\n",
    "        return self # not relevant here\n",
    "\n",
    "    def transform(self,X):\n",
    "        '''\n",
    "        Transforms columns of X specified in self.columns using\n",
    "        LabelEncoder(). If no columns specified, transforms all\n",
    "        columns in X.\n",
    "        '''\n",
    "        output = X.copy()\n",
    "        if self.columns is not None:\n",
    "            for col in self.columns:\n",
    "                output[col] = LabelEncoder().fit_transform(output[col])\n",
    "        else:\n",
    "            for colname,col in output.iteritems():\n",
    "                output[colname] = LabelEncoder().fit_transform(col)\n",
    "        return output\n",
    "\n",
    "    def fit_transform(self,X,y=None):\n",
    "        return self.fit(X,y).transform(X)"
   ]
  },
  {
   "cell_type": "markdown",
   "id": "a86b136f",
   "metadata": {},
   "source": [
    "La seconde généralise cette fois le *one hot encoding* à un sous ensemble de \n",
    "fonctions\n"
   ]
  },
  {
   "cell_type": "code",
   "execution_count": null,
   "id": "2721e7bd",
   "metadata": {},
   "outputs": [],
   "source": [
    "class MultiColumnOneHotEncoder:\n",
    "    def __init__(self,columns = None):\n",
    "        self.columns = columns # array of column names to encode\n",
    "\n",
    "    def fit(self,X,y=None):\n",
    "        return self # not relevant here\n",
    "\n",
    "    def transform(self,X):\n",
    "        '''\n",
    "        Transforms columns of X specified in self.columns using\n",
    "        LabelEncoder(). If no columns specified, transforms all\n",
    "        columns in X.\n",
    "        '''\n",
    "        output = X.copy()\n",
    "        if self.columns is not None:\n",
    "            for col in self.columns:\n",
    "                output[col] = OneHotEncoder(sparse=False).fit_transform(output[col])\n",
    "        else:\n",
    "            for colname,col in output.iteritems():\n",
    "                output[colname] = OneHotEncoder(sparse=False).fit_transform(col)\n",
    "        return output\n",
    "\n",
    "    def fit_transform(self,X,y=None):\n",
    "        return self.fit(X,y).transform(X)"
   ]
  },
  {
   "cell_type": "markdown",
   "id": "d7c852d5",
   "metadata": {},
   "source": [
    "Les méthodes suivantes vont nous permettre de passer en arguments les noms\n",
    "de colonnes pour intégrer la récupération des bonnes colonnes de nos\n",
    "dataframes dans le pipeline:\n"
   ]
  },
  {
   "cell_type": "code",
   "execution_count": null,
   "id": "a78ba913",
   "metadata": {},
   "outputs": [],
   "source": [
    "from sklearn.base import BaseEstimator, TransformerMixin, RegressorMixin\n",
    "\n",
    "class Columns(BaseEstimator, TransformerMixin):\n",
    "    def __init__(self, names=None):\n",
    "        self.names = names\n",
    "\n",
    "    def fit(self, X, y=None, **fit_params):\n",
    "        return self\n",
    "\n",
    "    def transform(self, X):\n",
    "        return X[self.names]\n",
    "\n",
    "class Normalize(BaseEstimator, TransformerMixin):\n",
    "    def __init__(self, func=None, func_param={}):\n",
    "        self.func = func\n",
    "        self.func_param = func_param\n",
    "\n",
    "    def transform(self, X):\n",
    "        if self.func != None:\n",
    "            return self.func(X, **self.func_param)\n",
    "        else:\n",
    "            return X\n",
    "\n",
    "    def fit(self, X, y=None, **fit_params):\n",
    "        return self"
   ]
  },
  {
   "cell_type": "markdown",
   "id": "0fda9a4e",
   "metadata": {},
   "source": [
    "Enfin, on va créer une méthode intermédiaire sous forme de *hack*\n",
    "(elle prend une matrice en entrée et renvoie la même matrice) \n",
    "pour\n",
    "pouvoir facilement récupérer notre matrice de *feature* afin de vérifier\n",
    "ses caractéristiques (notamment le nombre de colonnes disponibles):\n"
   ]
  },
  {
   "cell_type": "code",
   "execution_count": null,
   "id": "ee2b3509",
   "metadata": {
    "lines_to_next_cell": 0
   },
   "outputs": [],
   "source": [
    "class Collect(BaseEstimator, TransformerMixin):\n",
    "\n",
    "    def transform(self, X):\n",
    "        #print(X.shape)\n",
    "        #self.shape = shape\n",
    "        # what other output you want\n",
    "        return X\n",
    "\n",
    "    def fit(self, X, y=None, **fit_params):\n",
    "        return self"
   ]
  },
  {
   "cell_type": "markdown",
   "id": "2c7331a6",
   "metadata": {},
   "source": [
    "\n"
   ]
  },
  {
   "cell_type": "code",
   "execution_count": null,
   "id": "d107ab71",
   "metadata": {
    "lines_to_next_cell": 2
   },
   "outputs": [],
   "source": [
    "from sklearn.pipeline import make_pipeline, FeatureUnion\n",
    "from sklearn.preprocessing import StandardScaler, LabelEncoder, OneHotEncoder\n",
    "from sklearn.pipeline import Pipeline\n",
    "\n",
    "pipe2 = Pipeline([\n",
    "    (\"features\", FeatureUnion([\n",
    "        ('numeric', make_pipeline(Columns(names=numeric_features[:-1]),StandardScaler())),\n",
    "        ('categorical', make_pipeline(Columns(names=categorical_features),OneHotEncoder(sparse=False)))\n",
    "    ])),\n",
    "    ('identity', Collect()),\n",
    "    ('randomforest', regr)\n",
    "])"
   ]
  },
  {
   "cell_type": "markdown",
   "id": "4454e60f",
   "metadata": {},
   "source": [
    "<style>#sk-dcca9368-e37d-4cc9-a700-c5b4176f7411 {color: black;background-color: white;}#sk-dcca9368-e37d-4cc9-a700-c5b4176f7411 pre{padding: 0;}#sk-dcca9368-e37d-4cc9-a700-c5b4176f7411 div.sk-toggleable {background-color: white;}#sk-dcca9368-e37d-4cc9-a700-c5b4176f7411 label.sk-toggleable__label {cursor: pointer;display: block;width: 100%;margin-bottom: 0;padding: 0.3em;box-sizing: border-box;text-align: center;}#sk-dcca9368-e37d-4cc9-a700-c5b4176f7411 label.sk-toggleable__label-arrow:before {content: \"▸\";float: left;margin-right: 0.25em;color: #696969;}#sk-dcca9368-e37d-4cc9-a700-c5b4176f7411 label.sk-toggleable__label-arrow:hover:before {color: black;}#sk-dcca9368-e37d-4cc9-a700-c5b4176f7411 div.sk-estimator:hover label.sk-toggleable__label-arrow:before {color: black;}#sk-dcca9368-e37d-4cc9-a700-c5b4176f7411 div.sk-toggleable__content {max-height: 0;max-width: 0;overflow: hidden;text-align: left;background-color: #f0f8ff;}#sk-dcca9368-e37d-4cc9-a700-c5b4176f7411 div.sk-toggleable__content pre {margin: 0.2em;color: black;border-radius: 0.25em;background-color: #f0f8ff;}#sk-dcca9368-e37d-4cc9-a700-c5b4176f7411 input.sk-toggleable__control:checked~div.sk-toggleable__content {max-height: 200px;max-width: 100%;overflow: auto;}#sk-dcca9368-e37d-4cc9-a700-c5b4176f7411 input.sk-toggleable__control:checked~label.sk-toggleable__label-arrow:before {content: \"▾\";}#sk-dcca9368-e37d-4cc9-a700-c5b4176f7411 div.sk-estimator input.sk-toggleable__control:checked~label.sk-toggleable__label {background-color: #d4ebff;}#sk-dcca9368-e37d-4cc9-a700-c5b4176f7411 div.sk-label input.sk-toggleable__control:checked~label.sk-toggleable__label {background-color: #d4ebff;}#sk-dcca9368-e37d-4cc9-a700-c5b4176f7411 input.sk-hidden--visually {border: 0;clip: rect(1px 1px 1px 1px);clip: rect(1px, 1px, 1px, 1px);height: 1px;margin: -1px;overflow: hidden;padding: 0;position: absolute;width: 1px;}#sk-dcca9368-e37d-4cc9-a700-c5b4176f7411 div.sk-estimator {font-family: monospace;background-color: #f0f8ff;border: 1px dotted black;border-radius: 0.25em;box-sizing: border-box;margin-bottom: 0.5em;}#sk-dcca9368-e37d-4cc9-a700-c5b4176f7411 div.sk-estimator:hover {background-color: #d4ebff;}#sk-dcca9368-e37d-4cc9-a700-c5b4176f7411 div.sk-parallel-item::after {content: \"\";width: 100%;border-bottom: 1px solid gray;flex-grow: 1;}#sk-dcca9368-e37d-4cc9-a700-c5b4176f7411 div.sk-label:hover label.sk-toggleable__label {background-color: #d4ebff;}#sk-dcca9368-e37d-4cc9-a700-c5b4176f7411 div.sk-serial::before {content: \"\";position: absolute;border-left: 1px solid gray;box-sizing: border-box;top: 2em;bottom: 0;left: 50%;}#sk-dcca9368-e37d-4cc9-a700-c5b4176f7411 div.sk-serial {display: flex;flex-direction: column;align-items: center;background-color: white;padding-right: 0.2em;padding-left: 0.2em;}#sk-dcca9368-e37d-4cc9-a700-c5b4176f7411 div.sk-item {z-index: 1;}#sk-dcca9368-e37d-4cc9-a700-c5b4176f7411 div.sk-parallel {display: flex;align-items: stretch;justify-content: center;background-color: white;}#sk-dcca9368-e37d-4cc9-a700-c5b4176f7411 div.sk-parallel::before {content: \"\";position: absolute;border-left: 1px solid gray;box-sizing: border-box;top: 2em;bottom: 0;left: 50%;}#sk-dcca9368-e37d-4cc9-a700-c5b4176f7411 div.sk-parallel-item {display: flex;flex-direction: column;position: relative;background-color: white;}#sk-dcca9368-e37d-4cc9-a700-c5b4176f7411 div.sk-parallel-item:first-child::after {align-self: flex-end;width: 50%;}#sk-dcca9368-e37d-4cc9-a700-c5b4176f7411 div.sk-parallel-item:last-child::after {align-self: flex-start;width: 50%;}#sk-dcca9368-e37d-4cc9-a700-c5b4176f7411 div.sk-parallel-item:only-child::after {width: 0;}#sk-dcca9368-e37d-4cc9-a700-c5b4176f7411 div.sk-dashed-wrapped {border: 1px dashed gray;margin: 0 0.4em 0.5em 0.4em;box-sizing: border-box;padding-bottom: 0.4em;background-color: white;position: relative;}#sk-dcca9368-e37d-4cc9-a700-c5b4176f7411 div.sk-label label {font-family: monospace;font-weight: bold;background-color: white;display: inline-block;line-height: 1.2em;}#sk-dcca9368-e37d-4cc9-a700-c5b4176f7411 div.sk-label-container {position: relative;z-index: 2;text-align: center;}#sk-dcca9368-e37d-4cc9-a700-c5b4176f7411 div.sk-container {/* jupyter's `normalize.less` sets `[hidden] { display: none; }` but bootstrap.min.css set `[hidden] { display: none !important; }` so we also need the `!important` here to be able to override the default hidden behavior on the sphinx rendered scikit-learn.org. See: https://github.com/scikit-learn/scikit-learn/issues/21755 */display: inline-block !important;position: relative;}#sk-dcca9368-e37d-4cc9-a700-c5b4176f7411 div.sk-text-repr-fallback {display: none;}</style><div id=\"sk-dcca9368-e37d-4cc9-a700-c5b4176f7411\" class=\"sk-top-container\"><div class=\"sk-text-repr-fallback\"><pre>Pipeline(steps=[(&#x27;features&#x27;,\n",
    "                 FeatureUnion(transformer_list=[(&#x27;numeric&#x27;,\n",
    "                                                 Pipeline(steps=[(&#x27;columns&#x27;,\n",
    "                                                                  Columns(names=[&#x27;Nombre_de_lots&#x27;,\n",
    "                                                                                 &#x27;surface&#x27;,\n",
    "                                                                                 &#x27;Nombre_pieces_principales&#x27;])),\n",
    "                                                                 (&#x27;standardscaler&#x27;,\n",
    "                                                                  StandardScaler())])),\n",
    "                                                (&#x27;categorical&#x27;,\n",
    "                                                 Pipeline(steps=[(&#x27;columns&#x27;,\n",
    "                                                                  Columns(names=[&#x27;dep&#x27;,\n",
    "                                                                                 &#x27;Code_type_local&#x27;])),\n",
    "                                                                 (&#x27;onehotencoder&#x27;,\n",
    "                                                                  OneHotEncoder(sparse=False))]))])),\n",
    "                (&#x27;identity&#x27;, Collect()),\n",
    "                (&#x27;randomforest&#x27;,\n",
    "                 RandomForestRegressor(max_depth=2, random_state=123))])</pre><b>Please rerun this cell to show the HTML repr or trust the notebook.</b></div><div class=\"sk-container\" hidden><div class=\"sk-item sk-dashed-wrapped\"><div class=\"sk-label-container\"><div class=\"sk-label sk-toggleable\"><input class=\"sk-toggleable__control sk-hidden--visually\" id=\"f4f68248-2653-4337-886e-69ab70360148\" type=\"checkbox\" ><label for=\"f4f68248-2653-4337-886e-69ab70360148\" class=\"sk-toggleable__label sk-toggleable__label-arrow\">Pipeline</label><div class=\"sk-toggleable__content\"><pre>Pipeline(steps=[(&#x27;features&#x27;,\n",
    "                 FeatureUnion(transformer_list=[(&#x27;numeric&#x27;,\n",
    "                                                 Pipeline(steps=[(&#x27;columns&#x27;,\n",
    "                                                                  Columns(names=[&#x27;Nombre_de_lots&#x27;,\n",
    "                                                                                 &#x27;surface&#x27;,\n",
    "                                                                                 &#x27;Nombre_pieces_principales&#x27;])),\n",
    "                                                                 (&#x27;standardscaler&#x27;,\n",
    "                                                                  StandardScaler())])),\n",
    "                                                (&#x27;categorical&#x27;,\n",
    "                                                 Pipeline(steps=[(&#x27;columns&#x27;,\n",
    "                                                                  Columns(names=[&#x27;dep&#x27;,\n",
    "                                                                                 &#x27;Code_type_local&#x27;])),\n",
    "                                                                 (&#x27;onehotencoder&#x27;,\n",
    "                                                                  OneHotEncoder(sparse=False))]))])),\n",
    "                (&#x27;identity&#x27;, Collect()),\n",
    "                (&#x27;randomforest&#x27;,\n",
    "                 RandomForestRegressor(max_depth=2, random_state=123))])</pre></div></div></div><div class=\"sk-serial\"><div class=\"sk-item sk-dashed-wrapped\"><div class=\"sk-label-container\"><div class=\"sk-label sk-toggleable\"><input class=\"sk-toggleable__control sk-hidden--visually\" id=\"ea6c274f-48b8-44c7-afd7-4f54ba94e9e3\" type=\"checkbox\" ><label for=\"ea6c274f-48b8-44c7-afd7-4f54ba94e9e3\" class=\"sk-toggleable__label sk-toggleable__label-arrow\">features: FeatureUnion</label><div class=\"sk-toggleable__content\"><pre>FeatureUnion(transformer_list=[(&#x27;numeric&#x27;,\n",
    "                                Pipeline(steps=[(&#x27;columns&#x27;,\n",
    "                                                 Columns(names=[&#x27;Nombre_de_lots&#x27;,\n",
    "                                                                &#x27;surface&#x27;,\n",
    "                                                                &#x27;Nombre_pieces_principales&#x27;])),\n",
    "                                                (&#x27;standardscaler&#x27;,\n",
    "                                                 StandardScaler())])),\n",
    "                               (&#x27;categorical&#x27;,\n",
    "                                Pipeline(steps=[(&#x27;columns&#x27;,\n",
    "                                                 Columns(names=[&#x27;dep&#x27;,\n",
    "                                                                &#x27;Code_type_local&#x27;])),\n",
    "                                                (&#x27;onehotencoder&#x27;,\n",
    "                                                 OneHotEncoder(sparse=False))]))])</pre></div></div></div><div class=\"sk-parallel\"><div class=\"sk-parallel-item\"><div class=\"sk-item\"><div class=\"sk-label-container\"><div class=\"sk-label sk-toggleable\"><label>numeric</label></div></div><div class=\"sk-serial\"><div class=\"sk-item\"><div class=\"sk-serial\"><div class=\"sk-item\"><div class=\"sk-estimator sk-toggleable\"><input class=\"sk-toggleable__control sk-hidden--visually\" id=\"f45dddb2-23a4-485f-a5f0-7218e50ed226\" type=\"checkbox\" ><label for=\"f45dddb2-23a4-485f-a5f0-7218e50ed226\" class=\"sk-toggleable__label sk-toggleable__label-arrow\">Columns</label><div class=\"sk-toggleable__content\"><pre>Columns(names=[&#x27;Nombre_de_lots&#x27;, &#x27;surface&#x27;, &#x27;Nombre_pieces_principales&#x27;])</pre></div></div></div><div class=\"sk-item\"><div class=\"sk-estimator sk-toggleable\"><input class=\"sk-toggleable__control sk-hidden--visually\" id=\"c34b4c11-0fa3-4ce6-9cf1-e2f10b352bc2\" type=\"checkbox\" ><label for=\"c34b4c11-0fa3-4ce6-9cf1-e2f10b352bc2\" class=\"sk-toggleable__label sk-toggleable__label-arrow\">StandardScaler</label><div class=\"sk-toggleable__content\"><pre>StandardScaler()</pre></div></div></div></div></div></div></div></div><div class=\"sk-parallel-item\"><div class=\"sk-item\"><div class=\"sk-label-container\"><div class=\"sk-label sk-toggleable\"><label>categorical</label></div></div><div class=\"sk-serial\"><div class=\"sk-item\"><div class=\"sk-serial\"><div class=\"sk-item\"><div class=\"sk-estimator sk-toggleable\"><input class=\"sk-toggleable__control sk-hidden--visually\" id=\"a50a1832-085e-48b1-a86d-59dc2158b9af\" type=\"checkbox\" ><label for=\"a50a1832-085e-48b1-a86d-59dc2158b9af\" class=\"sk-toggleable__label sk-toggleable__label-arrow\">Columns</label><div class=\"sk-toggleable__content\"><pre>Columns(names=[&#x27;dep&#x27;, &#x27;Code_type_local&#x27;])</pre></div></div></div><div class=\"sk-item\"><div class=\"sk-estimator sk-toggleable\"><input class=\"sk-toggleable__control sk-hidden--visually\" id=\"d1d2a153-e6c5-4f8e-901a-17b36ec6074f\" type=\"checkbox\" ><label for=\"d1d2a153-e6c5-4f8e-901a-17b36ec6074f\" class=\"sk-toggleable__label sk-toggleable__label-arrow\">OneHotEncoder</label><div class=\"sk-toggleable__content\"><pre>OneHotEncoder(sparse=False)</pre></div></div></div></div></div></div></div></div></div></div><div class=\"sk-item\"><div class=\"sk-estimator sk-toggleable\"><input class=\"sk-toggleable__control sk-hidden--visually\" id=\"d918a07a-e584-40b6-81db-862be352c171\" type=\"checkbox\" ><label for=\"d918a07a-e584-40b6-81db-862be352c171\" class=\"sk-toggleable__label sk-toggleable__label-arrow\">Collect</label><div class=\"sk-toggleable__content\"><pre>Collect()</pre></div></div></div><div class=\"sk-item\"><div class=\"sk-estimator sk-toggleable\"><input class=\"sk-toggleable__control sk-hidden--visually\" id=\"326e85bc-dfe8-4076-9638-e832cc8593b6\" type=\"checkbox\" ><label for=\"326e85bc-dfe8-4076-9638-e832cc8593b6\" class=\"sk-toggleable__label sk-toggleable__label-arrow\">RandomForestRegressor</label><div class=\"sk-toggleable__content\"><pre>RandomForestRegressor(max_depth=2, random_state=123)</pre></div></div></div></div></div></div></div>\n",
    "\n"
   ]
  },
  {
   "cell_type": "code",
   "execution_count": null,
   "id": "412fe3d1",
   "metadata": {
    "lines_to_next_cell": 2
   },
   "outputs": [],
   "source": [
    "preprocessor = ColumnTransformer(\n",
    "    transformers=[\n",
    "        ('numeric', StandardScaler(), numeric_features[:-1]),\n",
    "        ('categorical', OneHotEncoder(sparse=False, handle_unknown = \"ignore\"), categorical_features)])\n",
    "\n",
    "pipe3 = Pipeline(steps=[('preprocessor', preprocessor),\n",
    "                      ('randomforest', regr)])"
   ]
  },
  {
   "cell_type": "markdown",
   "id": "5565f37a",
   "metadata": {},
   "source": [
    "<style>#sk-e0271b62-992b-4545-8970-69dca55ffe0a {color: black;background-color: white;}#sk-e0271b62-992b-4545-8970-69dca55ffe0a pre{padding: 0;}#sk-e0271b62-992b-4545-8970-69dca55ffe0a div.sk-toggleable {background-color: white;}#sk-e0271b62-992b-4545-8970-69dca55ffe0a label.sk-toggleable__label {cursor: pointer;display: block;width: 100%;margin-bottom: 0;padding: 0.3em;box-sizing: border-box;text-align: center;}#sk-e0271b62-992b-4545-8970-69dca55ffe0a label.sk-toggleable__label-arrow:before {content: \"▸\";float: left;margin-right: 0.25em;color: #696969;}#sk-e0271b62-992b-4545-8970-69dca55ffe0a label.sk-toggleable__label-arrow:hover:before {color: black;}#sk-e0271b62-992b-4545-8970-69dca55ffe0a div.sk-estimator:hover label.sk-toggleable__label-arrow:before {color: black;}#sk-e0271b62-992b-4545-8970-69dca55ffe0a div.sk-toggleable__content {max-height: 0;max-width: 0;overflow: hidden;text-align: left;background-color: #f0f8ff;}#sk-e0271b62-992b-4545-8970-69dca55ffe0a div.sk-toggleable__content pre {margin: 0.2em;color: black;border-radius: 0.25em;background-color: #f0f8ff;}#sk-e0271b62-992b-4545-8970-69dca55ffe0a input.sk-toggleable__control:checked~div.sk-toggleable__content {max-height: 200px;max-width: 100%;overflow: auto;}#sk-e0271b62-992b-4545-8970-69dca55ffe0a input.sk-toggleable__control:checked~label.sk-toggleable__label-arrow:before {content: \"▾\";}#sk-e0271b62-992b-4545-8970-69dca55ffe0a div.sk-estimator input.sk-toggleable__control:checked~label.sk-toggleable__label {background-color: #d4ebff;}#sk-e0271b62-992b-4545-8970-69dca55ffe0a div.sk-label input.sk-toggleable__control:checked~label.sk-toggleable__label {background-color: #d4ebff;}#sk-e0271b62-992b-4545-8970-69dca55ffe0a input.sk-hidden--visually {border: 0;clip: rect(1px 1px 1px 1px);clip: rect(1px, 1px, 1px, 1px);height: 1px;margin: -1px;overflow: hidden;padding: 0;position: absolute;width: 1px;}#sk-e0271b62-992b-4545-8970-69dca55ffe0a div.sk-estimator {font-family: monospace;background-color: #f0f8ff;border: 1px dotted black;border-radius: 0.25em;box-sizing: border-box;margin-bottom: 0.5em;}#sk-e0271b62-992b-4545-8970-69dca55ffe0a div.sk-estimator:hover {background-color: #d4ebff;}#sk-e0271b62-992b-4545-8970-69dca55ffe0a div.sk-parallel-item::after {content: \"\";width: 100%;border-bottom: 1px solid gray;flex-grow: 1;}#sk-e0271b62-992b-4545-8970-69dca55ffe0a div.sk-label:hover label.sk-toggleable__label {background-color: #d4ebff;}#sk-e0271b62-992b-4545-8970-69dca55ffe0a div.sk-serial::before {content: \"\";position: absolute;border-left: 1px solid gray;box-sizing: border-box;top: 2em;bottom: 0;left: 50%;}#sk-e0271b62-992b-4545-8970-69dca55ffe0a div.sk-serial {display: flex;flex-direction: column;align-items: center;background-color: white;padding-right: 0.2em;padding-left: 0.2em;}#sk-e0271b62-992b-4545-8970-69dca55ffe0a div.sk-item {z-index: 1;}#sk-e0271b62-992b-4545-8970-69dca55ffe0a div.sk-parallel {display: flex;align-items: stretch;justify-content: center;background-color: white;}#sk-e0271b62-992b-4545-8970-69dca55ffe0a div.sk-parallel::before {content: \"\";position: absolute;border-left: 1px solid gray;box-sizing: border-box;top: 2em;bottom: 0;left: 50%;}#sk-e0271b62-992b-4545-8970-69dca55ffe0a div.sk-parallel-item {display: flex;flex-direction: column;position: relative;background-color: white;}#sk-e0271b62-992b-4545-8970-69dca55ffe0a div.sk-parallel-item:first-child::after {align-self: flex-end;width: 50%;}#sk-e0271b62-992b-4545-8970-69dca55ffe0a div.sk-parallel-item:last-child::after {align-self: flex-start;width: 50%;}#sk-e0271b62-992b-4545-8970-69dca55ffe0a div.sk-parallel-item:only-child::after {width: 0;}#sk-e0271b62-992b-4545-8970-69dca55ffe0a div.sk-dashed-wrapped {border: 1px dashed gray;margin: 0 0.4em 0.5em 0.4em;box-sizing: border-box;padding-bottom: 0.4em;background-color: white;position: relative;}#sk-e0271b62-992b-4545-8970-69dca55ffe0a div.sk-label label {font-family: monospace;font-weight: bold;background-color: white;display: inline-block;line-height: 1.2em;}#sk-e0271b62-992b-4545-8970-69dca55ffe0a div.sk-label-container {position: relative;z-index: 2;text-align: center;}#sk-e0271b62-992b-4545-8970-69dca55ffe0a div.sk-container {/* jupyter's `normalize.less` sets `[hidden] { display: none; }` but bootstrap.min.css set `[hidden] { display: none !important; }` so we also need the `!important` here to be able to override the default hidden behavior on the sphinx rendered scikit-learn.org. See: https://github.com/scikit-learn/scikit-learn/issues/21755 */display: inline-block !important;position: relative;}#sk-e0271b62-992b-4545-8970-69dca55ffe0a div.sk-text-repr-fallback {display: none;}</style><div id=\"sk-e0271b62-992b-4545-8970-69dca55ffe0a\" class=\"sk-top-container\"><div class=\"sk-text-repr-fallback\"><pre>Pipeline(steps=[(&#x27;preprocessor&#x27;,\n",
    "                 ColumnTransformer(transformers=[(&#x27;numeric&#x27;, StandardScaler(),\n",
    "                                                  [&#x27;Nombre_de_lots&#x27;, &#x27;surface&#x27;,\n",
    "                                                   &#x27;Nombre_pieces_principales&#x27;]),\n",
    "                                                 (&#x27;categorical&#x27;,\n",
    "                                                  OneHotEncoder(handle_unknown=&#x27;ignore&#x27;,\n",
    "                                                                sparse=False),\n",
    "                                                  [&#x27;dep&#x27;,\n",
    "                                                   &#x27;Code_type_local&#x27;])])),\n",
    "                (&#x27;randomforest&#x27;,\n",
    "                 RandomForestRegressor(max_depth=2, random_state=123))])</pre><b>Please rerun this cell to show the HTML repr or trust the notebook.</b></div><div class=\"sk-container\" hidden><div class=\"sk-item sk-dashed-wrapped\"><div class=\"sk-label-container\"><div class=\"sk-label sk-toggleable\"><input class=\"sk-toggleable__control sk-hidden--visually\" id=\"610e0bff-6bac-4e63-a27b-07e4d98a9454\" type=\"checkbox\" ><label for=\"610e0bff-6bac-4e63-a27b-07e4d98a9454\" class=\"sk-toggleable__label sk-toggleable__label-arrow\">Pipeline</label><div class=\"sk-toggleable__content\"><pre>Pipeline(steps=[(&#x27;preprocessor&#x27;,\n",
    "                 ColumnTransformer(transformers=[(&#x27;numeric&#x27;, StandardScaler(),\n",
    "                                                  [&#x27;Nombre_de_lots&#x27;, &#x27;surface&#x27;,\n",
    "                                                   &#x27;Nombre_pieces_principales&#x27;]),\n",
    "                                                 (&#x27;categorical&#x27;,\n",
    "                                                  OneHotEncoder(handle_unknown=&#x27;ignore&#x27;,\n",
    "                                                                sparse=False),\n",
    "                                                  [&#x27;dep&#x27;,\n",
    "                                                   &#x27;Code_type_local&#x27;])])),\n",
    "                (&#x27;randomforest&#x27;,\n",
    "                 RandomForestRegressor(max_depth=2, random_state=123))])</pre></div></div></div><div class=\"sk-serial\"><div class=\"sk-item sk-dashed-wrapped\"><div class=\"sk-label-container\"><div class=\"sk-label sk-toggleable\"><input class=\"sk-toggleable__control sk-hidden--visually\" id=\"d7de37e8-eea7-424a-97ad-ce214555c1cf\" type=\"checkbox\" ><label for=\"d7de37e8-eea7-424a-97ad-ce214555c1cf\" class=\"sk-toggleable__label sk-toggleable__label-arrow\">preprocessor: ColumnTransformer</label><div class=\"sk-toggleable__content\"><pre>ColumnTransformer(transformers=[(&#x27;numeric&#x27;, StandardScaler(),\n",
    "                                 [&#x27;Nombre_de_lots&#x27;, &#x27;surface&#x27;,\n",
    "                                  &#x27;Nombre_pieces_principales&#x27;]),\n",
    "                                (&#x27;categorical&#x27;,\n",
    "                                 OneHotEncoder(handle_unknown=&#x27;ignore&#x27;,\n",
    "                                               sparse=False),\n",
    "                                 [&#x27;dep&#x27;, &#x27;Code_type_local&#x27;])])</pre></div></div></div><div class=\"sk-parallel\"><div class=\"sk-parallel-item\"><div class=\"sk-item\"><div class=\"sk-label-container\"><div class=\"sk-label sk-toggleable\"><input class=\"sk-toggleable__control sk-hidden--visually\" id=\"8b685564-9001-4d59-ae7a-de4a5b821b86\" type=\"checkbox\" ><label for=\"8b685564-9001-4d59-ae7a-de4a5b821b86\" class=\"sk-toggleable__label sk-toggleable__label-arrow\">numeric</label><div class=\"sk-toggleable__content\"><pre>[&#x27;Nombre_de_lots&#x27;, &#x27;surface&#x27;, &#x27;Nombre_pieces_principales&#x27;]</pre></div></div></div><div class=\"sk-serial\"><div class=\"sk-item\"><div class=\"sk-estimator sk-toggleable\"><input class=\"sk-toggleable__control sk-hidden--visually\" id=\"1af4acfe-c9e6-49dc-8be2-adb5475d20bc\" type=\"checkbox\" ><label for=\"1af4acfe-c9e6-49dc-8be2-adb5475d20bc\" class=\"sk-toggleable__label sk-toggleable__label-arrow\">StandardScaler</label><div class=\"sk-toggleable__content\"><pre>StandardScaler()</pre></div></div></div></div></div></div><div class=\"sk-parallel-item\"><div class=\"sk-item\"><div class=\"sk-label-container\"><div class=\"sk-label sk-toggleable\"><input class=\"sk-toggleable__control sk-hidden--visually\" id=\"80a287b8-55d4-4da1-ac8b-d439078a4d56\" type=\"checkbox\" ><label for=\"80a287b8-55d4-4da1-ac8b-d439078a4d56\" class=\"sk-toggleable__label sk-toggleable__label-arrow\">categorical</label><div class=\"sk-toggleable__content\"><pre>[&#x27;dep&#x27;, &#x27;Code_type_local&#x27;]</pre></div></div></div><div class=\"sk-serial\"><div class=\"sk-item\"><div class=\"sk-estimator sk-toggleable\"><input class=\"sk-toggleable__control sk-hidden--visually\" id=\"5ba6dccc-a699-4c21-82f0-4dd2b556070a\" type=\"checkbox\" ><label for=\"5ba6dccc-a699-4c21-82f0-4dd2b556070a\" class=\"sk-toggleable__label sk-toggleable__label-arrow\">OneHotEncoder</label><div class=\"sk-toggleable__content\"><pre>OneHotEncoder(handle_unknown=&#x27;ignore&#x27;, sparse=False)</pre></div></div></div></div></div></div></div></div><div class=\"sk-item\"><div class=\"sk-estimator sk-toggleable\"><input class=\"sk-toggleable__control sk-hidden--visually\" id=\"564039a9-0f9b-433e-ac04-8c327a787aaa\" type=\"checkbox\" ><label for=\"564039a9-0f9b-433e-ac04-8c327a787aaa\" class=\"sk-toggleable__label sk-toggleable__label-arrow\">RandomForestRegressor</label><div class=\"sk-toggleable__content\"><pre>RandomForestRegressor(max_depth=2, random_state=123)</pre></div></div></div></div></div></div></div>"
   ]
  },
  {
   "cell_type": "markdown",
   "id": "1ba9117f",
   "metadata": {},
   "source": [
    "# Références"
   ]
  },
  {
   "cell_type": "markdown",
   "id": "945921e1",
   "metadata": {},
   "source": [
    "- Breiman L (2001). _\"Random Forests\". Machine Learning_. 45 (1): 5–32."
   ]
  }
 ],
 "metadata": {
  "kernelspec": {
   "display_name": "Python 3",
   "language": "python",
   "name": "python3"
  }
 },
 "nbformat": 4,
 "nbformat_minor": 5
}
