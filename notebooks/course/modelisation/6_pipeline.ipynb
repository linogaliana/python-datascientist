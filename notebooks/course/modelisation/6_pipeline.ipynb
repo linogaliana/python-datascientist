{
 "cells": [
  {
   "cell_type": "markdown",
   "id": "a49128fc",
   "metadata": {},
   "source": [
    "#  Premier pas vers lindustrialisation avec les pipelines scikit\n",
    "\n",
    "\n"
   ]
  },
  {
   "cell_type": "markdown",
   "id": "d3029f9b",
   "metadata": {},
   "source": [
    "<a href=\"https://github.com/linogaliana/python-datascientist/blob/master//__w/python-datascientist/python-datascientist/notebooks/course/modelisation/6_pipeline.ipynb\" class=\"github\"><i class=\"fab fa-github\"></i></a>\n",
    "[![Download](https://img.shields.io/badge/Download-Notebook-important?logo=Jupyter)](https://downgit.github.io/#/home?url=https://github.com/linogaliana/python-datascientist/blob/master//__w/python-datascientist/python-datascientist/notebooks/course/modelisation/6_pipeline.ipynb)\n",
    "[![nbviewer](https://img.shields.io/badge/Visualize-nbviewer-blue?logo=Jupyter)](https://nbviewer.jupyter.org/github/linogaliana/python-datascientist/blob/master//__w/python-datascientist/python-datascientist/notebooks/course/modelisation/6_pipeline.ipynb)\n",
    "[![Onyxia](https://img.shields.io/badge/SSPcloud-Tester%20via%20SSP--cloud-informational&color=yellow?logo=Python)](https://datalab.sspcloud.fr/launcher/inseefrlab-helm-charts-datascience/jupyter?onyxia.friendlyName=«python-datascientist»&resources.requests.memory=«4Gi»&security.allowlist.enabled=false&init.personalInit=«https://raw.githubusercontent.com/linogaliana/python-datascientist/master/init_onyxia.sh»)\n",
    "<br>\n",
    "[![Binder](https://img.shields.io/badge/Launch-Binder-E66581.svg?logo=data:image/png;base64,iVBORw0KGgoAAAANSUhEUgAAAFkAAABZCAMAAABi1XidAAAB8lBMVEX///9XmsrmZYH1olJXmsr1olJXmsrmZYH1olJXmsr1olJXmsrmZYH1olL1olJXmsr1olJXmsrmZYH1olL1olJXmsrmZYH1olJXmsr1olL1olJXmsrmZYH1olL1olJXmsrmZYH1olL1olL0nFf1olJXmsrmZYH1olJXmsq8dZb1olJXmsrmZYH1olJXmspXmspXmsr1olL1olJXmsrmZYH1olJXmsr1olL1olJXmsrmZYH1olL1olLeaIVXmsrmZYH1olL1olL1olJXmsrmZYH1olLna31Xmsr1olJXmsr1olJXmsrmZYH1olLqoVr1olJXmsr1olJXmsrmZYH1olL1olKkfaPobXvviGabgadXmsqThKuofKHmZ4Dobnr1olJXmsr1olJXmspXmsr1olJXmsrfZ4TuhWn1olL1olJXmsqBi7X1olJXmspZmslbmMhbmsdemsVfl8ZgmsNim8Jpk8F0m7R4m7F5nLB6jbh7jbiDirOEibOGnKaMhq+PnaCVg6qWg6qegKaff6WhnpKofKGtnomxeZy3noG6dZi+n3vCcpPDcpPGn3bLb4/Mb47UbIrVa4rYoGjdaIbeaIXhoWHmZYHobXvpcHjqdHXreHLroVrsfG/uhGnuh2bwj2Hxk17yl1vzmljzm1j0nlX1olL3AJXWAAAAbXRSTlMAEBAQHx8gICAuLjAwMDw9PUBAQEpQUFBXV1hgYGBkcHBwcXl8gICAgoiIkJCQlJicnJ2goKCmqK+wsLC4usDAwMjP0NDQ1NbW3Nzg4ODi5+3v8PDw8/T09PX29vb39/f5+fr7+/z8/Pz9/v7+zczCxgAABC5JREFUeAHN1ul3k0UUBvCb1CTVpmpaitAGSLSpSuKCLWpbTKNJFGlcSMAFF63iUmRccNG6gLbuxkXU66JAUef/9LSpmXnyLr3T5AO/rzl5zj137p136BISy44fKJXuGN/d19PUfYeO67Znqtf2KH33Id1psXoFdW30sPZ1sMvs2D060AHqws4FHeJojLZqnw53cmfvg+XR8mC0OEjuxrXEkX5ydeVJLVIlV0e10PXk5k7dYeHu7Cj1j+49uKg7uLU61tGLw1lq27ugQYlclHC4bgv7VQ+TAyj5Zc/UjsPvs1sd5cWryWObtvWT2EPa4rtnWW3JkpjggEpbOsPr7F7EyNewtpBIslA7p43HCsnwooXTEc3UmPmCNn5lrqTJxy6nRmcavGZVt/3Da2pD5NHvsOHJCrdc1G2r3DITpU7yic7w/7Rxnjc0kt5GC4djiv2Sz3Fb2iEZg41/ddsFDoyuYrIkmFehz0HR2thPgQqMyQYb2OtB0WxsZ3BeG3+wpRb1vzl2UYBog8FfGhttFKjtAclnZYrRo9ryG9uG/FZQU4AEg8ZE9LjGMzTmqKXPLnlWVnIlQQTvxJf8ip7VgjZjyVPrjw1te5otM7RmP7xm+sK2Gv9I8Gi++BRbEkR9EBw8zRUcKxwp73xkaLiqQb+kGduJTNHG72zcW9LoJgqQxpP3/Tj//c3yB0tqzaml05/+orHLksVO+95kX7/7qgJvnjlrfr2Ggsyx0eoy9uPzN5SPd86aXggOsEKW2Prz7du3VID3/tzs/sSRs2w7ovVHKtjrX2pd7ZMlTxAYfBAL9jiDwfLkq55Tm7ifhMlTGPyCAs7RFRhn47JnlcB9RM5T97ASuZXIcVNuUDIndpDbdsfrqsOppeXl5Y+XVKdjFCTh+zGaVuj0d9zy05PPK3QzBamxdwtTCrzyg/2Rvf2EstUjordGwa/kx9mSJLr8mLLtCW8HHGJc2R5hS219IiF6PnTusOqcMl57gm0Z8kanKMAQg0qSyuZfn7zItsbGyO9QlnxY0eCuD1XL2ys/MsrQhltE7Ug0uFOzufJFE2PxBo/YAx8XPPdDwWN0MrDRYIZF0mSMKCNHgaIVFoBbNoLJ7tEQDKxGF0kcLQimojCZopv0OkNOyWCCg9XMVAi7ARJzQdM2QUh0gmBozjc3Skg6dSBRqDGYSUOu66Zg+I2fNZs/M3/f/Grl/XnyF1Gw3VKCez0PN5IUfFLqvgUN4C0qNqYs5YhPL+aVZYDE4IpUk57oSFnJm4FyCqqOE0jhY2SMyLFoo56zyo6becOS5UVDdj7Vih0zp+tcMhwRpBeLyqtIjlJKAIZSbI8SGSF3k0pA3mR5tHuwPFoa7N7reoq2bqCsAk1HqCu5uvI1n6JuRXI+S1Mco54YmYTwcn6Aeic+kssXi8XpXC4V3t7/ADuTNKaQJdScAAAAAElFTkSuQmCC)](https://mybinder.org/v2/gh/linogaliana/python-datascientist/master?filepath=/__w/python-datascientist/python-datascientist/notebooks/course/modelisation/6_pipeline.ipynb)\n",
    "[![Open In Colab](https://colab.research.google.com/assets/colab-badge.svg)](http://colab.research.google.com/github/linogaliana/python-datascientist/blob/master//__w/python-datascientist/python-datascientist/notebooks/course/modelisation/6_pipeline.ipynb)\n",
    "[![githubdev](https://open.vscode.dev/badges/open-in-vscode.svg)](https://github.dev/linogaliana/python-datascientist//__w/python-datascientist/python-datascientist/notebooks/course/modelisation/6_pipeline.ipynb)\n",
    "\n",
    "# Pourquoi utiliser les pipelines ?\n",
    "\n",
    "Les chapitres précédents ont permis de montrer des bouts de code \n",
    "épars pour entraîner des modèles ou faire du _preprocessing_.\n",
    "Cette démarche est intéressante pour tâtonner mais risque d'être coûteuse\n",
    "ultérieurement s'il est nécessaire d'ajouter une étape de preprocessing \n",
    "ou de changer d'algorithme.\n",
    "\n",
    "Heureusement, `scikit` propose un excellent outil pour proposer un cadre\n",
    "général pour créer une chaîne de production *machine learning*. Il\n",
    "s'agit des\n",
    "[_pipelines_](https://scikit-learn.org/stable/modules/compose.html). \n",
    "Ils présentent de nombreux intérêts, parmi lesquels:\n",
    "\n",
    "* Ils sont très __pratiques__ et __lisibles__. On rentre des données en entrée, on n'appelle qu'une seule fois les méthodes `fit` et `predict` ce qui permet de s'assurer une gestion cohérente des transformations de variables, par exemple après l'appel d'un `StandardScaler`\n",
    "* La __modularité__ rend aisée la mise à jour d'un pipeline et renforce la capacité à le réutiliser\n",
    "* Ils permettent de facilement chercher les hyperparamètres d'un modèle. Sans *pipeline*, écrire un code qui fait du *tuning* d'hyperparamètres peut être pénible. Avec les *pipelines*, c'est une ligne de code. \n",
    "* La __sécurité__ d'être certain que les étapes de preprocessing sont bien appliquées aux jeux de données désirés avant l'estimation. "
   ]
  },
  {
   "cell_type": "markdown",
   "id": "824e6311",
   "metadata": {},
   "source": [
    "Un des intérêts des *pipelines* scikit est qu'ils fonctionnent aussi avec\n",
    "des méthodes qui ne sont pas issues de `scikit`.\n",
    "\n",
    "Il est très \n",
    "facile d'introduire un modèle de réseau de neurone `Keras` dans\n",
    "un pipeline `scikit`.\n",
    "\n",
    "Pour introduire un modèle économétrique `statsmodels`\n",
    "c'est un peu plus coûteux mais nous allons proposer des exemples\n",
    "qui peuvent servir de modèle et qui montrent que c'est faisable \n",
    "sans trop de difficulté."
   ]
  },
  {
   "cell_type": "markdown",
   "id": "0ffe6226",
   "metadata": {},
   "source": [
    "Les éléments présents dans ce chapitre nécessitent une version assez récente\n",
    "de `scikit` (au moins la version 1.0). Pour vérifier la version, faire:\n"
   ]
  },
  {
   "cell_type": "code",
   "execution_count": null,
   "id": "ea576527",
   "metadata": {},
   "outputs": [],
   "source": [
    "import sklearn\n",
    "print(sklearn.__version__)"
   ]
  },
  {
   "cell_type": "markdown",
   "id": "debb0a9b",
   "metadata": {},
   "source": [
    "```\n",
    "## 1.0.1\n",
    "```\n",
    "\n",
    "Il faut également une version récente de `yellowbrick` pour éviter l'erreur\n",
    "suivante quand on utilise une version récente de `scikit` (ce que \n",
    "je recommande):\n",
    "\n",
    "> `ImportError: cannot import name 'safe_indexing' from 'sklearn.utils'`\n",
    "\n",
    "\n"
   ]
  },
  {
   "cell_type": "markdown",
   "id": "a3a06c3e",
   "metadata": {},
   "source": [
    "# Comment créer un *pipeline*\n",
    "\n",
    "Un *pipeline* est un enchaînement d'opérations qu'on code en enchainant\n",
    "des pairs *(clé, valeur)*:\n",
    "\n",
    "* la clé est le nom du pipeline, cela peut être utile lorsqu'on va\n",
    "représenter le *pipeline* sous forme de diagramme acyclique (visualisation DAG)\n",
    "ou qu'on veut afficher des informations sur une étape\n",
    "* la valeur représente la transformation à mettre en oeuvre dans le *pipeline*\n",
    "(c'est-à-dire, à l'exception de la dernière étape, \n",
    "mettre en oeuvre une méthode `transform` et éventuellement une\n",
    "transformation inverse).\n",
    "\n"
   ]
  },
  {
   "cell_type": "code",
   "execution_count": null,
   "id": "7f2cb010",
   "metadata": {
    "lines_to_next_cell": 0
   },
   "outputs": [],
   "source": [
    "from sklearn.pipeline import Pipeline\n",
    "from sklearn.svm import SVC\n",
    "from sklearn.decomposition import PCA\n",
    "\n",
    "estimators = [('reduce_dim', PCA()), ('clf', SVC())]\n",
    "pipe = Pipeline(estimators)"
   ]
  },
  {
   "cell_type": "markdown",
   "id": "42e175ef",
   "metadata": {},
   "source": [
    "\n",
    "\n"
   ]
  },
  {
   "cell_type": "markdown",
   "id": "755c8821",
   "metadata": {},
   "source": [
    "Il est pratique de visualiser un *pipeline* sous forme de DAG.\n",
    "Pour cela, dans un notebook, on utilise la configuration\n",
    "suivante:\n"
   ]
  },
  {
   "cell_type": "code",
   "execution_count": null,
   "id": "ae3e5894",
   "metadata": {
    "lines_to_next_cell": 0
   },
   "outputs": [],
   "source": [
    "from sklearn import set_config\n",
    "set_config(display='diagram') "
   ]
  },
  {
   "cell_type": "markdown",
   "id": "5e3ff274",
   "metadata": {},
   "source": [
    "\n"
   ]
  },
  {
   "cell_type": "code",
   "execution_count": null,
   "id": "779f823a",
   "metadata": {
    "lines_to_next_cell": 2
   },
   "outputs": [],
   "source": [
    "pipe"
   ]
  },
  {
   "cell_type": "markdown",
   "id": "eb66ac2b",
   "metadata": {},
   "source": [
    "<style>#sk-d89a0da1-8f50-4ce3-b88f-9e7804082c8b {color: black;background-color: white;}#sk-d89a0da1-8f50-4ce3-b88f-9e7804082c8b pre{padding: 0;}#sk-d89a0da1-8f50-4ce3-b88f-9e7804082c8b div.sk-toggleable {background-color: white;}#sk-d89a0da1-8f50-4ce3-b88f-9e7804082c8b label.sk-toggleable__label {cursor: pointer;display: block;width: 100%;margin-bottom: 0;padding: 0.3em;box-sizing: border-box;text-align: center;}#sk-d89a0da1-8f50-4ce3-b88f-9e7804082c8b div.sk-toggleable__content {max-height: 0;max-width: 0;overflow: hidden;text-align: left;background-color: #f0f8ff;}#sk-d89a0da1-8f50-4ce3-b88f-9e7804082c8b div.sk-toggleable__content pre {margin: 0.2em;color: black;border-radius: 0.25em;background-color: #f0f8ff;}#sk-d89a0da1-8f50-4ce3-b88f-9e7804082c8b input.sk-toggleable__control:checked~div.sk-toggleable__content {max-height: 200px;max-width: 100%;overflow: auto;}#sk-d89a0da1-8f50-4ce3-b88f-9e7804082c8b div.sk-estimator input.sk-toggleable__control:checked~label.sk-toggleable__label {background-color: #d4ebff;}#sk-d89a0da1-8f50-4ce3-b88f-9e7804082c8b div.sk-label input.sk-toggleable__control:checked~label.sk-toggleable__label {background-color: #d4ebff;}#sk-d89a0da1-8f50-4ce3-b88f-9e7804082c8b input.sk-hidden--visually {border: 0;clip: rect(1px 1px 1px 1px);clip: rect(1px, 1px, 1px, 1px);height: 1px;margin: -1px;overflow: hidden;padding: 0;position: absolute;width: 1px;}#sk-d89a0da1-8f50-4ce3-b88f-9e7804082c8b div.sk-estimator {font-family: monospace;background-color: #f0f8ff;border: 1px dotted black;border-radius: 0.25em;box-sizing: border-box;margin-bottom: 0.5em;}#sk-d89a0da1-8f50-4ce3-b88f-9e7804082c8b div.sk-estimator:hover {background-color: #d4ebff;}#sk-d89a0da1-8f50-4ce3-b88f-9e7804082c8b div.sk-parallel-item::after {content: \"\";width: 100%;border-bottom: 1px solid gray;flex-grow: 1;}#sk-d89a0da1-8f50-4ce3-b88f-9e7804082c8b div.sk-label:hover label.sk-toggleable__label {background-color: #d4ebff;}#sk-d89a0da1-8f50-4ce3-b88f-9e7804082c8b div.sk-serial::before {content: \"\";position: absolute;border-left: 1px solid gray;box-sizing: border-box;top: 2em;bottom: 0;left: 50%;}#sk-d89a0da1-8f50-4ce3-b88f-9e7804082c8b div.sk-serial {display: flex;flex-direction: column;align-items: center;background-color: white;padding-right: 0.2em;padding-left: 0.2em;}#sk-d89a0da1-8f50-4ce3-b88f-9e7804082c8b div.sk-item {z-index: 1;}#sk-d89a0da1-8f50-4ce3-b88f-9e7804082c8b div.sk-parallel {display: flex;align-items: stretch;justify-content: center;background-color: white;}#sk-d89a0da1-8f50-4ce3-b88f-9e7804082c8b div.sk-parallel::before {content: \"\";position: absolute;border-left: 1px solid gray;box-sizing: border-box;top: 2em;bottom: 0;left: 50%;}#sk-d89a0da1-8f50-4ce3-b88f-9e7804082c8b div.sk-parallel-item {display: flex;flex-direction: column;position: relative;background-color: white;}#sk-d89a0da1-8f50-4ce3-b88f-9e7804082c8b div.sk-parallel-item:first-child::after {align-self: flex-end;width: 50%;}#sk-d89a0da1-8f50-4ce3-b88f-9e7804082c8b div.sk-parallel-item:last-child::after {align-self: flex-start;width: 50%;}#sk-d89a0da1-8f50-4ce3-b88f-9e7804082c8b div.sk-parallel-item:only-child::after {width: 0;}#sk-d89a0da1-8f50-4ce3-b88f-9e7804082c8b div.sk-dashed-wrapped {border: 1px dashed gray;margin: 0 0.4em 0.5em 0.4em;box-sizing: border-box;padding-bottom: 0.4em;background-color: white;position: relative;}#sk-d89a0da1-8f50-4ce3-b88f-9e7804082c8b div.sk-label label {font-family: monospace;font-weight: bold;background-color: white;display: inline-block;line-height: 1.2em;}#sk-d89a0da1-8f50-4ce3-b88f-9e7804082c8b div.sk-label-container {position: relative;z-index: 2;text-align: center;}#sk-d89a0da1-8f50-4ce3-b88f-9e7804082c8b div.sk-container {display: inline-block;position: relative;}</style><div id=\"sk-d89a0da1-8f50-4ce3-b88f-9e7804082c8b\" class\"sk-top-container\"><div class=\"sk-container\"><div class=\"sk-item sk-dashed-wrapped\"><div class=\"sk-label-container\"><div class=\"sk-label sk-toggleable\"><input class=\"sk-toggleable__control sk-hidden--visually\" id=\"41dd8bd3-cb21-4240-9752-230b7453016b\" type=\"checkbox\" ><label class=\"sk-toggleable__label\" for=\"41dd8bd3-cb21-4240-9752-230b7453016b\">Pipeline</label><div class=\"sk-toggleable__content\"><pre>Pipeline(steps=[('reduce_dim', PCA()), ('clf', SVC())])</pre></div></div></div><div class=\"sk-serial\"><div class=\"sk-item\"><div class=\"sk-estimator sk-toggleable\"><input class=\"sk-toggleable__control sk-hidden--visually\" id=\"a5468a1b-74a0-4851-810b-99b8bc32156b\" type=\"checkbox\" ><label class=\"sk-toggleable__label\" for=\"a5468a1b-74a0-4851-810b-99b8bc32156b\">PCA</label><div class=\"sk-toggleable__content\"><pre>PCA()</pre></div></div></div><div class=\"sk-item\"><div class=\"sk-estimator sk-toggleable\"><input class=\"sk-toggleable__control sk-hidden--visually\" id=\"61a04ff6-09d9-44f9-bd75-74a24e769dff\" type=\"checkbox\" ><label class=\"sk-toggleable__label\" for=\"61a04ff6-09d9-44f9-bd75-74a24e769dff\">SVC</label><div class=\"sk-toggleable__content\"><pre>SVC()</pre></div></div></div></div></div></div></div>"
   ]
  },
  {
   "cell_type": "markdown",
   "id": "75c361d1",
   "metadata": {},
   "source": [
    "Au sein d'une étape de *pipeline*, les paramètres d'un estimateur\n",
    "sont accessibles avec la notation `<estimator>__<parameter>`.\n",
    "Cela permet de fixer des valeurs pour les arguments des fonctions `scikit`\n",
    "qui sont appelées au sein d'un *pipeline*. \n",
    "C'est cela qui rendra l'approche des pipelines particulièrement utile\n",
    "pour la *grid search*:\n"
   ]
  },
  {
   "cell_type": "code",
   "execution_count": null,
   "id": "5f462bcb",
   "metadata": {
    "lines_to_next_cell": 2
   },
   "outputs": [],
   "source": [
    "from sklearn.model_selection import GridSearchCV\n",
    "param_grid = {\"reduce_dim__n_components\":[2, 5, 10], \"clf__C\":[0.1, 10, 100]}\n",
    "grid_search = GridSearchCV(pipe, param_grid=param_grid)"
   ]
  },
  {
   "cell_type": "markdown",
   "id": "62819c33",
   "metadata": {},
   "source": [
    "<style>#sk-92da342b-7395-4454-8b19-79f11695518d {color: black;background-color: white;}#sk-92da342b-7395-4454-8b19-79f11695518d pre{padding: 0;}#sk-92da342b-7395-4454-8b19-79f11695518d div.sk-toggleable {background-color: white;}#sk-92da342b-7395-4454-8b19-79f11695518d label.sk-toggleable__label {cursor: pointer;display: block;width: 100%;margin-bottom: 0;padding: 0.3em;box-sizing: border-box;text-align: center;}#sk-92da342b-7395-4454-8b19-79f11695518d div.sk-toggleable__content {max-height: 0;max-width: 0;overflow: hidden;text-align: left;background-color: #f0f8ff;}#sk-92da342b-7395-4454-8b19-79f11695518d div.sk-toggleable__content pre {margin: 0.2em;color: black;border-radius: 0.25em;background-color: #f0f8ff;}#sk-92da342b-7395-4454-8b19-79f11695518d input.sk-toggleable__control:checked~div.sk-toggleable__content {max-height: 200px;max-width: 100%;overflow: auto;}#sk-92da342b-7395-4454-8b19-79f11695518d div.sk-estimator input.sk-toggleable__control:checked~label.sk-toggleable__label {background-color: #d4ebff;}#sk-92da342b-7395-4454-8b19-79f11695518d div.sk-label input.sk-toggleable__control:checked~label.sk-toggleable__label {background-color: #d4ebff;}#sk-92da342b-7395-4454-8b19-79f11695518d input.sk-hidden--visually {border: 0;clip: rect(1px 1px 1px 1px);clip: rect(1px, 1px, 1px, 1px);height: 1px;margin: -1px;overflow: hidden;padding: 0;position: absolute;width: 1px;}#sk-92da342b-7395-4454-8b19-79f11695518d div.sk-estimator {font-family: monospace;background-color: #f0f8ff;border: 1px dotted black;border-radius: 0.25em;box-sizing: border-box;margin-bottom: 0.5em;}#sk-92da342b-7395-4454-8b19-79f11695518d div.sk-estimator:hover {background-color: #d4ebff;}#sk-92da342b-7395-4454-8b19-79f11695518d div.sk-parallel-item::after {content: \"\";width: 100%;border-bottom: 1px solid gray;flex-grow: 1;}#sk-92da342b-7395-4454-8b19-79f11695518d div.sk-label:hover label.sk-toggleable__label {background-color: #d4ebff;}#sk-92da342b-7395-4454-8b19-79f11695518d div.sk-serial::before {content: \"\";position: absolute;border-left: 1px solid gray;box-sizing: border-box;top: 2em;bottom: 0;left: 50%;}#sk-92da342b-7395-4454-8b19-79f11695518d div.sk-serial {display: flex;flex-direction: column;align-items: center;background-color: white;padding-right: 0.2em;padding-left: 0.2em;}#sk-92da342b-7395-4454-8b19-79f11695518d div.sk-item {z-index: 1;}#sk-92da342b-7395-4454-8b19-79f11695518d div.sk-parallel {display: flex;align-items: stretch;justify-content: center;background-color: white;}#sk-92da342b-7395-4454-8b19-79f11695518d div.sk-parallel::before {content: \"\";position: absolute;border-left: 1px solid gray;box-sizing: border-box;top: 2em;bottom: 0;left: 50%;}#sk-92da342b-7395-4454-8b19-79f11695518d div.sk-parallel-item {display: flex;flex-direction: column;position: relative;background-color: white;}#sk-92da342b-7395-4454-8b19-79f11695518d div.sk-parallel-item:first-child::after {align-self: flex-end;width: 50%;}#sk-92da342b-7395-4454-8b19-79f11695518d div.sk-parallel-item:last-child::after {align-self: flex-start;width: 50%;}#sk-92da342b-7395-4454-8b19-79f11695518d div.sk-parallel-item:only-child::after {width: 0;}#sk-92da342b-7395-4454-8b19-79f11695518d div.sk-dashed-wrapped {border: 1px dashed gray;margin: 0 0.4em 0.5em 0.4em;box-sizing: border-box;padding-bottom: 0.4em;background-color: white;position: relative;}#sk-92da342b-7395-4454-8b19-79f11695518d div.sk-label label {font-family: monospace;font-weight: bold;background-color: white;display: inline-block;line-height: 1.2em;}#sk-92da342b-7395-4454-8b19-79f11695518d div.sk-label-container {position: relative;z-index: 2;text-align: center;}#sk-92da342b-7395-4454-8b19-79f11695518d div.sk-container {display: inline-block;position: relative;}</style><div id=\"sk-92da342b-7395-4454-8b19-79f11695518d\" class\"sk-top-container\"><div class=\"sk-container\"><div class=\"sk-item sk-dashed-wrapped\"><div class=\"sk-label-container\"><div class=\"sk-label sk-toggleable\"><input class=\"sk-toggleable__control sk-hidden--visually\" id=\"90c2e348-eb54-44a4-adbd-209c09cb91b4\" type=\"checkbox\" ><label class=\"sk-toggleable__label\" for=\"90c2e348-eb54-44a4-adbd-209c09cb91b4\">GridSearchCV</label><div class=\"sk-toggleable__content\"><pre>GridSearchCV(estimator=Pipeline(steps=[('reduce_dim', PCA()), ('clf', SVC())]),\n",
    "             param_grid={'clf__C': [0.1, 10, 100],\n",
    "                         'reduce_dim__n_components': [2, 5, 10]})</pre></div></div></div><div class=\"sk-parallel\"><div class=\"sk-parallel-item\"><div class=\"sk-item\"><div class=\"sk-serial\"><div class=\"sk-item\"><div class=\"sk-serial\"><div class=\"sk-item\"><div class=\"sk-estimator sk-toggleable\"><input class=\"sk-toggleable__control sk-hidden--visually\" id=\"c55eed4f-f7ec-447f-b403-c1bfaf0f8c55\" type=\"checkbox\" ><label class=\"sk-toggleable__label\" for=\"c55eed4f-f7ec-447f-b403-c1bfaf0f8c55\">PCA</label><div class=\"sk-toggleable__content\"><pre>PCA()</pre></div></div></div><div class=\"sk-item\"><div class=\"sk-estimator sk-toggleable\"><input class=\"sk-toggleable__control sk-hidden--visually\" id=\"d2c12152-03b1-4cc5-86bf-8c961974f9eb\" type=\"checkbox\" ><label class=\"sk-toggleable__label\" for=\"d2c12152-03b1-4cc5-86bf-8c961974f9eb\">SVC</label><div class=\"sk-toggleable__content\"><pre>SVC()</pre></div></div></div></div></div></div></div></div></div></div></div></div>\n"
   ]
  },
  {
   "cell_type": "markdown",
   "id": "d99abc3e",
   "metadata": {},
   "source": [
    "## Données utilisées\n",
    "\n",
    "Nous allons utiliser les données de transactions immobilières DVF pour chercher\n",
    "la meilleure manière de prédire, sachant les caractéristiques d'un bien, son\n",
    "prix.\n",
    "\n",
    "Ces données peuvent être importées directement depuis [`data.gouv`](https://www.data.gouv.fr/fr/datasets/demandes-de-valeurs-foncieres/):\n"
   ]
  },
  {
   "cell_type": "code",
   "execution_count": null,
   "id": "d85fdde6",
   "metadata": {},
   "outputs": [],
   "source": [
    "import numpy as np\n",
    "import pandas as pd\n",
    "import seaborn as sns\n",
    "import matplotlib.pyplot as plt\n",
    "\n",
    "mutations = pd.read_csv('https://www.data.gouv.fr/fr/datasets/r/3004168d-bec4-44d9-a781-ef16f41856a2', sep = \"|\", decimal=\",\")"
   ]
  },
  {
   "cell_type": "markdown",
   "id": "bec0139a",
   "metadata": {},
   "source": [
    "```\n",
    "## sys:1: DtypeWarning: Columns (18,23,24,26,28,41) have mixed types.Specify dtype option on import or set low_memory=False.\n",
    "```\n",
    "\n",
    "On propose d'enrichir la base de quelques variables qui pourraient servir\n",
    "ultérieurement:\n"
   ]
  },
  {
   "cell_type": "code",
   "execution_count": null,
   "id": "2eca5beb",
   "metadata": {},
   "outputs": [],
   "source": [
    "mutations['Date mutation'] = pd.to_datetime(mutations['Date mutation'], format = \"%d/%m/%Y\")\n",
    "mutations['year'] = mutations['Date mutation'].dt.year\n",
    "mutations['month'] = mutations['Date mutation'].dt.month\n",
    "mutations['dep'] = mutations['Code postal'].astype(str).str[:2]\n",
    "mutations['lprix'] = np.log(mutations[\"Valeur fonciere\"])"
   ]
  },
  {
   "cell_type": "markdown",
   "id": "3fea8b02",
   "metadata": {},
   "source": [
    "Si vous travaillez avec les données de 2020, n'oubliez pas\n",
    "d'intégrer l'effet\n",
    "confinement strict dans vos modèles. Pour cela, vous pouvez créer une variable\n",
    "indicatrice entre les dates en question:\n"
   ]
  },
  {
   "cell_type": "code",
   "execution_count": null,
   "id": "790f4675",
   "metadata": {},
   "outputs": [],
   "source": [
    "mutations['confinement'] = mutations['Date mutation'].between(pd.to_datetime(\"2020-03-17\"), pd.to_datetime(\"2020-05-03\")).astype(int)"
   ]
  },
  {
   "cell_type": "markdown",
   "id": "9f376a0a",
   "metadata": {},
   "source": [
    "Les données DVF proposent une observation par transaction. Ces transactions\n",
    "peuvent concerner plusieurs lots.\n",
    "Pour simplifier,\n",
    "on va créer une variable de surface qui agrège les différentes informations\n",
    "de surface disponibles dans le jeu de données. En effet, les variables\n",
    "en question sont très corrélées les unes entre elles :\n"
   ]
  },
  {
   "cell_type": "code",
   "execution_count": null,
   "id": "b907a4f6",
   "metadata": {
    "lines_to_next_cell": 0
   },
   "outputs": [],
   "source": [
    "corr = mutations.loc[:, mutations.columns[mutations.columns.str.startswith('Surface Carrez')].tolist()].corr()\n",
    "sns.heatmap(corr, \n",
    "            xticklabels=corr.columns.values,\n",
    "            yticklabels=corr.columns.values, cmap='coolwarm', annot=True, fmt=\".2f\")\n",
    "plt.savefig('correlation_matrix_dvf.png', bbox_inches='tight')"
   ]
  },
  {
   "cell_type": "markdown",
   "id": "9474dc8b",
   "metadata": {},
   "source": [
    "\n"
   ]
  },
  {
   "cell_type": "markdown",
   "id": "10b3dc51",
   "metadata": {},
   "source": [
    "Les agréger revient à supposer que le modèle de fixation des prix est le même\n",
    "entre chaque lot. C'est une hypothèse simplificatrice qu'une personne plus \n",
    "experte du marché immobilier, ou qu'une approche propre de sélection\n",
    "de variable pourrait amener à nier \n"
   ]
  },
  {
   "cell_type": "code",
   "execution_count": null,
   "id": "8aec635f",
   "metadata": {
    "lines_to_next_cell": 0
   },
   "outputs": [],
   "source": [
    "mutations['surface'] = mutations.loc[:, mutations.columns[mutations.columns.str.startswith('Surface Carrez')].tolist()].sum(axis = 1)"
   ]
  },
  {
   "cell_type": "markdown",
   "id": "7b16bd6d",
   "metadata": {},
   "source": []
  },
  {
   "cell_type": "markdown",
   "id": "af29afb1",
   "metadata": {},
   "source": [
    "# Un premier pipeline: *random forest* sur des variables standardisées\n",
    "\n",
    "Notre premier *pipeline* va nous permettre d'intégrer ensemble:\n",
    "\n",
    "1. Une étape de *preprocessing* avec la standardisation de variables\n",
    "2. Une étape d'estimation du prix en utilisant un modèle de *random forest*\n",
    "\n",
    "Pour le moment, on va prendre comme acquis un certain nombre de variables\n",
    "explicatives (les *features*) et les hyperparamètres du modèle"
   ]
  },
  {
   "cell_type": "markdown",
   "id": "5e37df4e",
   "metadata": {},
   "source": [
    "## Définition des ensembles train/test\n",
    "\n",
    "Nous allons donc nous restreindre à un sous-ensemble de colonnes dans un\n",
    "premier temps :\n"
   ]
  },
  {
   "cell_type": "code",
   "execution_count": null,
   "id": "1947be86",
   "metadata": {},
   "outputs": [],
   "source": [
    "xvars = ['dep', 'Nombre de lots', 'Code type local', 'surface', 'Nombre pieces principales']\n",
    "xvars2 = pd.Series(xvars).str.replace(\" \",\"_\").tolist()\n",
    "\n",
    "mutations2 = mutations.loc[:, xvars + [\"Valeur fonciere\"]]"
   ]
  },
  {
   "cell_type": "markdown",
   "id": "80ba3535",
   "metadata": {},
   "source": [
    "Nous allons également ne conserver que les transactions inférieures à 5 millions\n",
    "d'euros (on anticipe que celles ayant un montant supérieur sont des transactions\n",
    "exceptionnelles dont le mécanisme de fixation du prix diffère)\n"
   ]
  },
  {
   "cell_type": "code",
   "execution_count": null,
   "id": "f3411a39",
   "metadata": {},
   "outputs": [],
   "source": [
    "mutations2  = mutations2.dropna()\n",
    "mutations2 = mutations2.loc[mutations2['Valeur fonciere'] < 5e6] #keep only values below 10 millions\n",
    "\n",
    "mutations2.columns = mutations2.columns.str.replace(\" \", \"_\")\n",
    "numeric_features = mutations2.columns[~mutations2.columns.isin(['dep','Code_type_local', 'confinement'])].tolist()\n",
    "categorical_features = ['dep','Code_type_local']"
   ]
  },
  {
   "cell_type": "markdown",
   "id": "f6299610",
   "metadata": {},
   "source": [
    "Au passage, nous avons abandonné la variable de code postal pour privilégier\n",
    "la commune afin de réduire la dimension de notre jeu de données. Si on voulait\n",
    "vraiment avoir un bon modèle, il faudrait faire autrement car le code postal\n",
    "est probablement un très bon prédicteur du prix d'un bien, une fois que\n",
    "les caractéristiques du bien sont contrôlées.\n",
    "\n",
    "Nous allons stratifier notre échantillonage de train/test par département\n",
    "afin de tenir compte, de manière minimale, de la géographie. \n",
    "Pour accélérer les calculs pour ce tutoriel, nous n'allons considérer que\n",
    "20% des transactions observées sur chaque département.\n"
   ]
  },
  {
   "cell_type": "code",
   "execution_count": null,
   "id": "b2ca8a9a",
   "metadata": {
    "lines_to_next_cell": 2
   },
   "outputs": [],
   "source": [
    "from sklearn.model_selection import train_test_split\n",
    "\n",
    "mutations2 = mutations2.groupby('dep').sample(frac = 0.2, random_state = 123)\n",
    "\n",
    "X_train, X_test, y_train, y_test = train_test_split(mutations2[xvars2], mutations2[[\"Valeur_fonciere\"]].values.ravel(), test_size = 0.2, random_state = 0, stratify=mutations2[['dep']])"
   ]
  },
  {
   "cell_type": "markdown",
   "id": "e76f225f",
   "metadata": {},
   "source": [
    "## Définition du premier pipeline\n",
    "\n",
    "Nous allons donc partir d'un *random forest* avec des valeurs d'hyperparamètres\n",
    "données. \n",
    "\n",
    "Les _random forest_ sont une méthode d'aggrégation[^2] d'arbres de décision. \n",
    "On calcule $K$ arbres de décision et en tire, par une méthode d'agrégation,\n",
    "une règle de décision moyenne qu'on va appliquer pour tirer une\n",
    "prédiction de nos données. \n",
    "\n",
    "[^2]: En _machine learning_ on retrouve un principe inspiré du\n",
    "_bootstrap_\n",
    "qui permet d'agréger un ensemble d'estimateurs en un estimateur _\"moyennisé\"_.\n",
    "Il s'agit du [*bagging*](https://en.wikipedia.org/wiki/Bootstrap_aggregating).\n",
    "En économétrie, le _bootstrap_ consiste à ré-estimer sur *K* sous-échantillons\n",
    "aléatoires des données un estimateur afin d'en tirer, par exemple, un intervalle\n",
    "de confiance empirique à 95%. Le principe du _bagging_ est le même. On ré-estime\n",
    "_K_ fois notre estimateur (par exemple un arbre de décision) et propose une \n",
    "règle d'agrégation pour en tirer une règle moyennisée et donc une prédiction. "
   ]
  },
  {
   "cell_type": "markdown",
   "id": "053c779d",
   "metadata": {},
   "source": [
    "![](https://upload.wikimedia.org/wikipedia/commons/7/76/Random_forest_diagram_complete.png)\n",
    "\n",
    "C'est un article de Léo Breiman (2001)[^3], statisticien à Berkeley, qui\n",
    "est à l'origine du succès des *random forests*. L'un des intérêts\n",
    "des *random forest* est qu'il existe des méthodes pour déterminer \n",
    "l'importance relative de chaque variable dans la prédiction. \n",
    "\n",
    "[^3]: Breiman L (2001). _\"Random Forests\". Machine Learning_. 45 (1): 5–32.\n",
    "\n",
    "Pour commencer, nous allons fixer la taille des arbres de décision avec\n",
    "l'hyperparamètre `max_depth = 2`. \n"
   ]
  },
  {
   "cell_type": "code",
   "execution_count": null,
   "id": "137cf555",
   "metadata": {},
   "outputs": [],
   "source": [
    "from sklearn.ensemble import RandomForestRegressor\n",
    "regr = RandomForestRegressor(max_depth=2, random_state=123)"
   ]
  },
  {
   "cell_type": "markdown",
   "id": "5a075521",
   "metadata": {},
   "source": [
    "Notre _pipeline_ va intégrer les étapes suivantes:\n",
    "\n",
    "1. __Preprocessing__:\n",
    "    + Les variables numériques vont être standardisées avec un `StandardScaler`.\n",
    "Pour cela, nous allons utiliser la liste `numeric_features` définie précédemment.\n",
    "    + Les variables catégorielles vont être explosées avec un *one hot encoding*\n",
    "(méthode `OneHotEncoder` de `scikit`)\n",
    "Pour cela, nous allons utiliser la liste `categorical_features`\n",
    "2. __Random forest__: nous allons appliquer l'estimateur `regr` défini plus haut\n",
    "\n",
    "J'ajoute en commentaire un exemple de comment s'introduirait une imputation\n",
    "de valeurs manquantes. La version 1.0 de `scikit` facilite l'intégration\n",
    "d'étapes complexes dans les pipelines[^4]. Si vous ne utilisez une \n",
    "version antérieure à la 1.0 de `scikit`, vous pouvez vous rendre dans\n",
    "la section [Annexe](#annexe) pour avoir des exemples de définition alternative\n",
    "(attention cependant, vous ne pourrez récupérer le nom des *features*\n",
    "transformées comme ici, ce qui peut pénaliser l'analyse d'importance\n",
    "de variables)\n",
    "\n",
    "[^4]: Voir ce [*thread stackoverflow*](https://stackoverflow.com/questions/54646709/sklearn-pipeline-get-feature-names-after-onehotencode-in-columntransformer)\n",
    "\n"
   ]
  },
  {
   "cell_type": "code",
   "execution_count": null,
   "id": "e01c33dd",
   "metadata": {
    "lines_to_next_cell": 2
   },
   "outputs": [],
   "source": [
    "from sklearn.pipeline import make_pipeline\n",
    "from sklearn.preprocessing import StandardScaler, OneHotEncoder\n",
    "from sklearn.pipeline import Pipeline\n",
    "from sklearn.compose import make_column_transformer\n",
    "\n",
    "numeric_pipeline = make_pipeline(\n",
    "  #SimpleImputer(),\n",
    "  StandardScaler()\n",
    ")\n",
    "transformer = make_column_transformer(\n",
    "    (numeric_pipeline, numeric_features[:-1]),\n",
    "    (OneHotEncoder(sparse = False), categorical_features))\n",
    "pipe = Pipeline(steps=[('preprocessor', transformer),\n",
    "                      ('randomforest', regr)])"
   ]
  },
  {
   "cell_type": "markdown",
   "id": "0f0b846d",
   "metadata": {},
   "source": [
    "Nous avons construit ce pipeline sous forme de couches successives. La couche\n",
    "`randomforest` prendra automatiquement le résultat de la couche `preprocessor`\n",
    "en _input_. La couche `features` permet d'introduire de manière relativement\n",
    "simple (quand on a les bonnes méthodes) la complexité du *preprocessing*\n",
    "sur données réelles dont les types divergent. \n",
    "\n",
    "On peut visualiser le graphe et ainsi se représenter la manière dont\n",
    "ce _pipeline_ opère:\n"
   ]
  },
  {
   "cell_type": "code",
   "execution_count": null,
   "id": "57a8b690",
   "metadata": {
    "lines_to_next_cell": 0
   },
   "outputs": [],
   "source": [
    "pipe"
   ]
  },
  {
   "cell_type": "markdown",
   "id": "98de797c",
   "metadata": {},
   "source": [
    "\n",
    "\n",
    "\n"
   ]
  },
  {
   "cell_type": "markdown",
   "id": "0682c24b",
   "metadata": {},
   "source": [
    "Maintenant, il ne reste plus qu'à estimer notre modèle sur l'ensemble\n",
    "d'entraînement. C'est très simple avec un _pipeline_ : il suffit d'utiliser\n",
    "de mettre à jour le _pipeline_ avec la méthode `fit`\n"
   ]
  },
  {
   "cell_type": "code",
   "execution_count": null,
   "id": "39857e6f",
   "metadata": {},
   "outputs": [],
   "source": [
    "pipe.fit(X_train, y_train)"
   ]
  },
  {
   "cell_type": "markdown",
   "id": "54b8eb1c",
   "metadata": {},
   "source": [
    "On peut utiliser le nom du pipeline en conjonction de certaines méthodes\n",
    "pour appliquer cette étape sur un jeu de données pour visualiser\n",
    "l'effet de la transformation.\n",
    "\n",
    "Par exemple, pour visualiser le jeu de données transformé avant l'étape\n",
    "d'estimation, on peut \n",
    "faire\n"
   ]
  },
  {
   "cell_type": "code",
   "execution_count": null,
   "id": "58904be2",
   "metadata": {},
   "outputs": [],
   "source": [
    "pipe[:-1].fit_transform(X_train)"
   ]
  },
  {
   "cell_type": "markdown",
   "id": "dbc8a3cb",
   "metadata": {},
   "source": [
    "```\n",
    "## array([[ 0.36941323,  0.46064357, -0.66948062, ...,  1.        ,\n",
    "##          0.        ,  0.        ],\n",
    "##        [-0.70954963, -0.27593152,  0.29189439, ...,  0.        ,\n",
    "##          0.        ,  0.        ],\n",
    "##        [ 0.36941323, -0.27593152, -1.15016813, ...,  0.        ,\n",
    "##          1.        ,  0.        ],\n",
    "##        ...,\n",
    "##        [-0.70954963, -0.27593152,  0.7725819 , ...,  0.        ,\n",
    "##          0.        ,  0.        ],\n",
    "##        [ 0.36941323, -0.27593152,  0.7725819 , ...,  1.        ,\n",
    "##          0.        ,  0.        ],\n",
    "##        [-0.70954963, -0.27593152, -1.15016813, ...,  0.        ,\n",
    "##          0.        ,  1.        ]])\n",
    "```\n",
    "\n",
    "De même, si on veut récupérer le nom des *features* en sortie du preprocessing,\n",
    "on utilisera la méthode `.get_feature_names_out` qui est bien pratique\n",
    "(c'est cette méthode qui est plus complexe à appeler dans les versions `scikit`\n",
    "ancienne qui nous a fait privilégier le *pipeline* ci-dessous)\n"
   ]
  },
  {
   "cell_type": "code",
   "execution_count": null,
   "id": "007dd0fc",
   "metadata": {},
   "outputs": [],
   "source": [
    "features_names=pipe['preprocessor'].get_feature_names_out()\n",
    "features_names"
   ]
  },
  {
   "cell_type": "markdown",
   "id": "cb2319a3",
   "metadata": {},
   "source": [
    "```\n",
    "## array(['pipeline__Nombre_de_lots', 'pipeline__surface',\n",
    "##        'pipeline__Nombre_pieces_principales', 'onehotencoder__dep_10',\n",
    "##        'onehotencoder__dep_11', 'onehotencoder__dep_12',\n",
    "##        'onehotencoder__dep_13', 'onehotencoder__dep_14',\n",
    "##        'onehotencoder__dep_15', 'onehotencoder__dep_16',\n",
    "##        'onehotencoder__dep_17', 'onehotencoder__dep_18',\n",
    "##        'onehotencoder__dep_19', 'onehotencoder__dep_20',\n",
    "##        'onehotencoder__dep_21', 'onehotencoder__dep_22',\n",
    "##        'onehotencoder__dep_23', 'onehotencoder__dep_24',\n",
    "##        'onehotencoder__dep_25', 'onehotencoder__dep_26',\n",
    "##        'onehotencoder__dep_27', 'onehotencoder__dep_28',\n",
    "##        'onehotencoder__dep_29', 'onehotencoder__dep_30',\n",
    "##        'onehotencoder__dep_31', 'onehotencoder__dep_32',\n",
    "##        'onehotencoder__dep_33', 'onehotencoder__dep_34',\n",
    "##        'onehotencoder__dep_35', 'onehotencoder__dep_36',\n",
    "##        'onehotencoder__dep_37', 'onehotencoder__dep_38',\n",
    "##        'onehotencoder__dep_39', 'onehotencoder__dep_40',\n",
    "##        'onehotencoder__dep_41', 'onehotencoder__dep_42',\n",
    "##        'onehotencoder__dep_43', 'onehotencoder__dep_44',\n",
    "##        'onehotencoder__dep_45', 'onehotencoder__dep_46',\n",
    "##        'onehotencoder__dep_47', 'onehotencoder__dep_48',\n",
    "##        'onehotencoder__dep_49', 'onehotencoder__dep_50',\n",
    "##        'onehotencoder__dep_51', 'onehotencoder__dep_52',\n",
    "##        'onehotencoder__dep_53', 'onehotencoder__dep_54',\n",
    "##        'onehotencoder__dep_55', 'onehotencoder__dep_56',\n",
    "##        'onehotencoder__dep_57', 'onehotencoder__dep_58',\n",
    "##        'onehotencoder__dep_59', 'onehotencoder__dep_60',\n",
    "##        'onehotencoder__dep_61', 'onehotencoder__dep_62',\n",
    "##        'onehotencoder__dep_63', 'onehotencoder__dep_64',\n",
    "##        'onehotencoder__dep_65', 'onehotencoder__dep_66',\n",
    "##        'onehotencoder__dep_67', 'onehotencoder__dep_68',\n",
    "##        'onehotencoder__dep_69', 'onehotencoder__dep_70',\n",
    "##        'onehotencoder__dep_71', 'onehotencoder__dep_72',\n",
    "##        'onehotencoder__dep_73', 'onehotencoder__dep_74',\n",
    "##        'onehotencoder__dep_75', 'onehotencoder__dep_76',\n",
    "##        'onehotencoder__dep_77', 'onehotencoder__dep_78',\n",
    "##        'onehotencoder__dep_79', 'onehotencoder__dep_80',\n",
    "##        'onehotencoder__dep_81', 'onehotencoder__dep_82',\n",
    "##        'onehotencoder__dep_83', 'onehotencoder__dep_84',\n",
    "##        'onehotencoder__dep_85', 'onehotencoder__dep_86',\n",
    "##        'onehotencoder__dep_87', 'onehotencoder__dep_88',\n",
    "##        'onehotencoder__dep_89', 'onehotencoder__dep_90',\n",
    "##        'onehotencoder__dep_91', 'onehotencoder__dep_92',\n",
    "##        'onehotencoder__dep_93', 'onehotencoder__dep_94',\n",
    "##        'onehotencoder__dep_95', 'onehotencoder__dep_96',\n",
    "##        'onehotencoder__dep_97', 'onehotencoder__dep_98',\n",
    "##        'onehotencoder__dep_na', 'onehotencoder__Code_type_local_1.0',\n",
    "##        'onehotencoder__Code_type_local_2.0',\n",
    "##        'onehotencoder__Code_type_local_3.0',\n",
    "##        'onehotencoder__Code_type_local_4.0'], dtype=object)\n",
    "```"
   ]
  },
  {
   "cell_type": "markdown",
   "id": "fb9fb46f",
   "metadata": {},
   "source": [
    "## _Variable importance_\n",
    "\n",
    "On ne va représenter, parmi notre ensemble important de colonnes, que celles\n",
    "qui ont une importance non nulle. Grâce à notre vecteur `features_names`,\n",
    "on va pouvoir facilement afficher le nom des colonnes en question (et donc\n",
    "comprendre les *features* déterminantes)\n",
    "\n",
    "L'importance va être définie à partir \n",
    "de la mesure d'impureté[^3]\n",
    "\n",
    "[^3]: Extrait de [ce blog](https://mljar.com/blog/feature-importance-in-random-forest/):\n",
    "Gini importance (or mean decrease impurity), which is computed from the Random Forest structure. Let’s look how the Random Forest is constructed. It is a set of Decision Trees. Each Decision Tree is a set of internal nodes and leaves. In the internal node, the selected feature is used to make decision how to divide the data set into two separate sets with similars responses within. The features for internal nodes are selected with some criterion, which for classification tasks can be gini impurity or infomation gain, and for regression is variance reduction. We can measure how each feature decrease the impurity of the split (the feature with highest decrease is selected for internal node). For each feature we can collect how on average it decreases the impurity. The average over all trees in the forest is the measure of the feature importance. \n"
   ]
  },
  {
   "cell_type": "code",
   "execution_count": null,
   "id": "3db443a1",
   "metadata": {
    "lines_to_next_cell": 0
   },
   "outputs": [],
   "source": [
    "importances = pipe['randomforest'].feature_importances_\n",
    "std = np.std([tree.feature_importances_ for tree in pipe['randomforest'].estimators_], axis=0)\n",
    "\n",
    "forest_importances = pd.Series(importances[importances>0], index=features_names[importances>0])\n",
    "\n",
    "fig, ax = plt.subplots()\n",
    "forest_importances.plot.bar(yerr=std[importances>0], ax=ax)\n",
    "ax.set_title(\"Feature importances using MDI\")\n",
    "ax.set_ylabel(\"Mean decrease in impurity\")\n",
    "fig.tight_layout()"
   ]
  },
  {
   "cell_type": "markdown",
   "id": "34be86e1",
   "metadata": {},
   "source": [
    "\n"
   ]
  },
  {
   "cell_type": "markdown",
   "id": "2f9db2b4",
   "metadata": {},
   "source": [
    "```r\n",
    "knitr::include_graphics(\"varimportance.png\")\n",
    "```"
   ]
  },
  {
   "cell_type": "markdown",
   "id": "3015831b",
   "metadata": {},
   "source": [
    "Idéalement, on utiliserait `yellowbrick` pour représenter l'importance des variables\n",
    "Mais en l'état actuel du *pipeline* on a beaucoup de variables dont le poids\n",
    "est nul qui viennent polluer la visualisation\n"
   ]
  },
  {
   "cell_type": "code",
   "execution_count": null,
   "id": "a5c10d77",
   "metadata": {},
   "outputs": [],
   "source": [
    "from yellowbrick.model_selection import FeatureImportances\n",
    "viz = FeatureImportances(pipe['randomforest'])\n",
    "viz.fit()"
   ]
  },
  {
   "cell_type": "markdown",
   "id": "58776de2",
   "metadata": {},
   "source": [
    "```\n",
    "## Error in py_call_impl(callable, dots$args, dots$keywords): TypeError: fit() missing 1 required positional argument: 'X'\n",
    "## \n",
    "## Detailed traceback: \n",
    "##   File \"<string>\", line 1, in <module>\n",
    "```"
   ]
  },
  {
   "cell_type": "code",
   "execution_count": null,
   "id": "b000a4ee",
   "metadata": {},
   "outputs": [],
   "source": [
    "viz.show()"
   ]
  },
  {
   "cell_type": "markdown",
   "id": "5c01be52",
   "metadata": {},
   "source": [
    "```\n",
    "## Error in py_call_impl(callable, dots$args, dots$keywords): AttributeError: 'RandomForestRegressor' object has no attribute 'features_'\n",
    "## \n",
    "## Detailed traceback: \n",
    "##   File \"<string>\", line 1, in <module>\n",
    "##   File \"/opt/conda/envs/python-ENSAE/lib/python3.9/site-packages/yellowbrick/base.py\", line 241, in show\n",
    "##     self.finalize()\n",
    "##   File \"/opt/conda/envs/python-ENSAE/lib/python3.9/site-packages/yellowbrick/model_selection/importances.py\", line 305, in finalize\n",
    "##     self._get_topn_title(), self.name\n",
    "##   File \"/opt/conda/envs/python-ENSAE/lib/python3.9/site-packages/yellowbrick/model_selection/importances.py\", line 397, in _get_topn_title\n",
    "##     return str(len(self.features_))\n",
    "##   File \"/opt/conda/envs/python-ENSAE/lib/python3.9/site-packages/yellowbrick/utils/wrapper.py\", line 42, in __getattr__\n",
    "##     return getattr(self._wrapped, attr)\n",
    "```\n",
    "\n"
   ]
  },
  {
   "cell_type": "markdown",
   "id": "153b2370",
   "metadata": {},
   "source": [
    "```r\n",
    "knitr::include_graphics(\"varimportance2.png\")\n",
    "```\n"
   ]
  },
  {
   "cell_type": "markdown",
   "id": "6fe5f0d6",
   "metadata": {},
   "source": [
    "## Prédiction\n",
    "\n",
    "L'analyse de l'importance de variables permet de mieux comprendre\n",
    "le fonctionnement interne des *random forests*. \n",
    "\n",
    "On obtient un modèle dont les performances sont les suivantes:\n"
   ]
  },
  {
   "cell_type": "code",
   "execution_count": null,
   "id": "a0bd3df9",
   "metadata": {},
   "outputs": [],
   "source": [
    "from sklearn.metrics import mean_squared_error\n",
    "\n",
    "\n",
    "compar = pd.DataFrame([y_test, pipe.predict(X_test)]).T\n",
    "compar.columns = ['obs','pred']\n",
    "compar['diff'] = compar.obs - compar.pred\n",
    "\n",
    "print(\"Le RMSE sur le jeu de test est {:,}\".format(\n",
    "   int(np.sqrt(mean_squared_error(y_test, pipe.predict(X_test))))\n",
    "))"
   ]
  },
  {
   "cell_type": "markdown",
   "id": "b16825fb",
   "metadata": {},
   "source": [
    "```\n",
    "## Le RMSE sur le jeu de test est 464,464\n",
    "```"
   ]
  },
  {
   "cell_type": "code",
   "execution_count": null,
   "id": "9ff96674",
   "metadata": {},
   "outputs": [],
   "source": [
    "g = sns.scatterplot(data = compar, x = 'obs', y = 'pred')\n",
    "g.set(ylim=(0, 2e6), xlim=(0, 2e6))"
   ]
  },
  {
   "cell_type": "markdown",
   "id": "fd029278",
   "metadata": {},
   "source": [
    "```\n",
    "## [(0.0, 2000000.0), (0.0, 2000000.0)]\n",
    "```\n",
    "\n",
    "C'est très décevant. La prédiction a trop peu de variabilité pour capturer\n",
    "la variance des prix observée. Cela vient du fait que les variables\n",
    "ayant de l'importance dans la prédiction sont principalement des effets fixes,\n",
    "qui ne permettent donc qu'une variabilité limitée.\n"
   ]
  },
  {
   "cell_type": "code",
   "execution_count": null,
   "id": "200dd11d",
   "metadata": {
    "lines_to_next_cell": 0
   },
   "outputs": [],
   "source": [
    "plt.savefig('predict1.png', bbox_inches='tight')"
   ]
  },
  {
   "cell_type": "markdown",
   "id": "56c91052",
   "metadata": {},
   "source": []
  },
  {
   "cell_type": "markdown",
   "id": "c45c74a6",
   "metadata": {},
   "source": [
    "# Recherche des hyperparamètres optimaux avec une validation croisée"
   ]
  },
  {
   "cell_type": "markdown",
   "id": "ab5f2570",
   "metadata": {},
   "source": [
    "# Annexes: pipelines alternatifs\n",
    "\n",
    "# Préalable : quelques méthodes pour gagner en flexibilité dans le preprocessing\n",
    "\n",
    "Notre *dataframe* comporte des types hétérogènes de variables:\n",
    "\n",
    "* Des variables numériques dont les variances sont très hétérogènes\n",
    "* Des variables textuelles qui mériteraient un recodage sous forme numérique\n",
    "* Des variables discrètes dont les modalités devraient être éclatées (_one hot encoding_)\n",
    "\n",
    "Pour gagner en flexibilité, nous allons proposer certaines méthodes qui permettent\n",
    "d'appliquer les étapes de _preprocessing_ adéquates à un sous-ensemble de \n",
    "variables[^1]. Ces méthodes ne sont plus nécessaires dans les versions\n",
    "récentes de `scikit`.\n",
    "\n",
    "[^1]: Un certain nombre des éléments suivants ont été glannés, par ci par là,\n",
    "depuis `stackoverflow`.\n",
    "\n",
    "Pour cela, il convient d'adopter l'approche de la programmation orientée objet. \n",
    "On va créer des classes avec des méthodes `transform` et `fit_transform`\n",
    "qui pourront ainsi être intégrées directement dans les *pipelines*, comme s'il\n",
    "s'agissait de méthodes issues de `scikit`.\n",
    "\n",
    "La première généralise `LabelEncoder` à un sous-ensemble de colonnes:\n"
   ]
  },
  {
   "cell_type": "code",
   "execution_count": null,
   "id": "44cb1360",
   "metadata": {},
   "outputs": [],
   "source": [
    "from sklearn.preprocessing import LabelEncoder, OneHotEncoder\n",
    "from sklearn.compose import ColumnTransformer\n",
    "\n",
    "class MultiColumnLabelEncoder:\n",
    "    def __init__(self,columns = None):\n",
    "        self.columns = columns # array of column names to encode\n",
    "\n",
    "    def fit(self,X,y=None):\n",
    "        return self # not relevant here\n",
    "\n",
    "    def transform(self,X):\n",
    "        '''\n",
    "        Transforms columns of X specified in self.columns using\n",
    "        LabelEncoder(). If no columns specified, transforms all\n",
    "        columns in X.\n",
    "        '''\n",
    "        output = X.copy()\n",
    "        if self.columns is not None:\n",
    "            for col in self.columns:\n",
    "                output[col] = LabelEncoder().fit_transform(output[col])\n",
    "        else:\n",
    "            for colname,col in output.iteritems():\n",
    "                output[colname] = LabelEncoder().fit_transform(col)\n",
    "        return output\n",
    "\n",
    "    def fit_transform(self,X,y=None):\n",
    "        return self.fit(X,y).transform(X)"
   ]
  },
  {
   "cell_type": "markdown",
   "id": "8893f955",
   "metadata": {},
   "source": [
    "La seconde généralise cette fois le *one hot encoding* à un sous ensemble de \n",
    "fonctions\n"
   ]
  },
  {
   "cell_type": "code",
   "execution_count": null,
   "id": "e8d4f99e",
   "metadata": {},
   "outputs": [],
   "source": [
    "class MultiColumnOneHotEncoder:\n",
    "    def __init__(self,columns = None):\n",
    "        self.columns = columns # array of column names to encode\n",
    "\n",
    "    def fit(self,X,y=None):\n",
    "        return self # not relevant here\n",
    "\n",
    "    def transform(self,X):\n",
    "        '''\n",
    "        Transforms columns of X specified in self.columns using\n",
    "        LabelEncoder(). If no columns specified, transforms all\n",
    "        columns in X.\n",
    "        '''\n",
    "        output = X.copy()\n",
    "        if self.columns is not None:\n",
    "            for col in self.columns:\n",
    "                output[col] = OneHotEncoder(sparse=False).fit_transform(output[col])\n",
    "        else:\n",
    "            for colname,col in output.iteritems():\n",
    "                output[colname] = OneHotEncoder(sparse=False).fit_transform(col)\n",
    "        return output\n",
    "\n",
    "    def fit_transform(self,X,y=None):\n",
    "        return self.fit(X,y).transform(X)"
   ]
  },
  {
   "cell_type": "markdown",
   "id": "582b5e6b",
   "metadata": {},
   "source": [
    "Les méthodes suivantes vont nous permettre de passer en arguments les noms\n",
    "de colonnes pour intégrer la récupération des bonnes colonnes de nos\n",
    "dataframes dans le pipeline:\n"
   ]
  },
  {
   "cell_type": "code",
   "execution_count": null,
   "id": "8df7bf2b",
   "metadata": {},
   "outputs": [],
   "source": [
    "from sklearn.base import BaseEstimator, TransformerMixin, RegressorMixin\n",
    "\n",
    "class Columns(BaseEstimator, TransformerMixin):\n",
    "    def __init__(self, names=None):\n",
    "        self.names = names\n",
    "\n",
    "    def fit(self, X, y=None, **fit_params):\n",
    "        return self\n",
    "\n",
    "    def transform(self, X):\n",
    "        return X[self.names]\n",
    "\n",
    "class Normalize(BaseEstimator, TransformerMixin):\n",
    "    def __init__(self, func=None, func_param={}):\n",
    "        self.func = func\n",
    "        self.func_param = func_param\n",
    "\n",
    "    def transform(self, X):\n",
    "        if self.func != None:\n",
    "            return self.func(X, **self.func_param)\n",
    "        else:\n",
    "            return X\n",
    "\n",
    "    def fit(self, X, y=None, **fit_params):\n",
    "        return self"
   ]
  },
  {
   "cell_type": "markdown",
   "id": "6a1a74a1",
   "metadata": {},
   "source": [
    "Enfin, on va créer une méthode intermédiaire sous forme de *hack*\n",
    "(elle prend une matrice en entrée et renvoie la même matrice) \n",
    "pour\n",
    "pouvoir facilement récupérer notre matrice de *feature* afin de vérifier\n",
    "ses caractéristiques (notamment le nombre de colonnes disponibles):\n"
   ]
  },
  {
   "cell_type": "code",
   "execution_count": null,
   "id": "dff64d0a",
   "metadata": {
    "lines_to_next_cell": 0
   },
   "outputs": [],
   "source": [
    "class Collect(BaseEstimator, TransformerMixin):\n",
    "\n",
    "    def transform(self, X):\n",
    "        #print(X.shape)\n",
    "        #self.shape = shape\n",
    "        # what other output you want\n",
    "        return X\n",
    "\n",
    "    def fit(self, X, y=None, **fit_params):\n",
    "        return self"
   ]
  },
  {
   "cell_type": "markdown",
   "id": "9b6b06fb",
   "metadata": {},
   "source": [
    "\n"
   ]
  },
  {
   "cell_type": "code",
   "execution_count": null,
   "id": "03591b97",
   "metadata": {
    "lines_to_next_cell": 2
   },
   "outputs": [],
   "source": [
    "from sklearn.pipeline import make_pipeline, FeatureUnion\n",
    "from sklearn.preprocessing import StandardScaler, LabelEncoder, OneHotEncoder\n",
    "from sklearn.pipeline import Pipeline\n",
    "\n",
    "pipe2 = Pipeline([\n",
    "    (\"features\", FeatureUnion([\n",
    "        ('numeric', make_pipeline(Columns(names=numeric_features[:-1]),StandardScaler())),\n",
    "        ('categorical', make_pipeline(Columns(names=categorical_features),OneHotEncoder(sparse=False)))\n",
    "    ])),\n",
    "    ('identity', Collect()),\n",
    "    ('randomforest', regr)\n",
    "])"
   ]
  },
  {
   "cell_type": "markdown",
   "id": "3e504a80",
   "metadata": {},
   "source": [
    "<style>#sk-13bf0c8e-0d2b-4e8c-be73-6c91b521e39b {color: black;background-color: white;}#sk-13bf0c8e-0d2b-4e8c-be73-6c91b521e39b pre{padding: 0;}#sk-13bf0c8e-0d2b-4e8c-be73-6c91b521e39b div.sk-toggleable {background-color: white;}#sk-13bf0c8e-0d2b-4e8c-be73-6c91b521e39b label.sk-toggleable__label {cursor: pointer;display: block;width: 100%;margin-bottom: 0;padding: 0.3em;box-sizing: border-box;text-align: center;}#sk-13bf0c8e-0d2b-4e8c-be73-6c91b521e39b div.sk-toggleable__content {max-height: 0;max-width: 0;overflow: hidden;text-align: left;background-color: #f0f8ff;}#sk-13bf0c8e-0d2b-4e8c-be73-6c91b521e39b div.sk-toggleable__content pre {margin: 0.2em;color: black;border-radius: 0.25em;background-color: #f0f8ff;}#sk-13bf0c8e-0d2b-4e8c-be73-6c91b521e39b input.sk-toggleable__control:checked~div.sk-toggleable__content {max-height: 200px;max-width: 100%;overflow: auto;}#sk-13bf0c8e-0d2b-4e8c-be73-6c91b521e39b div.sk-estimator input.sk-toggleable__control:checked~label.sk-toggleable__label {background-color: #d4ebff;}#sk-13bf0c8e-0d2b-4e8c-be73-6c91b521e39b div.sk-label input.sk-toggleable__control:checked~label.sk-toggleable__label {background-color: #d4ebff;}#sk-13bf0c8e-0d2b-4e8c-be73-6c91b521e39b input.sk-hidden--visually {border: 0;clip: rect(1px 1px 1px 1px);clip: rect(1px, 1px, 1px, 1px);height: 1px;margin: -1px;overflow: hidden;padding: 0;position: absolute;width: 1px;}#sk-13bf0c8e-0d2b-4e8c-be73-6c91b521e39b div.sk-estimator {font-family: monospace;background-color: #f0f8ff;border: 1px dotted black;border-radius: 0.25em;box-sizing: border-box;margin-bottom: 0.5em;}#sk-13bf0c8e-0d2b-4e8c-be73-6c91b521e39b div.sk-estimator:hover {background-color: #d4ebff;}#sk-13bf0c8e-0d2b-4e8c-be73-6c91b521e39b div.sk-parallel-item::after {content: \"\";width: 100%;border-bottom: 1px solid gray;flex-grow: 1;}#sk-13bf0c8e-0d2b-4e8c-be73-6c91b521e39b div.sk-label:hover label.sk-toggleable__label {background-color: #d4ebff;}#sk-13bf0c8e-0d2b-4e8c-be73-6c91b521e39b div.sk-serial::before {content: \"\";position: absolute;border-left: 1px solid gray;box-sizing: border-box;top: 2em;bottom: 0;left: 50%;}#sk-13bf0c8e-0d2b-4e8c-be73-6c91b521e39b div.sk-serial {display: flex;flex-direction: column;align-items: center;background-color: white;padding-right: 0.2em;padding-left: 0.2em;}#sk-13bf0c8e-0d2b-4e8c-be73-6c91b521e39b div.sk-item {z-index: 1;}#sk-13bf0c8e-0d2b-4e8c-be73-6c91b521e39b div.sk-parallel {display: flex;align-items: stretch;justify-content: center;background-color: white;}#sk-13bf0c8e-0d2b-4e8c-be73-6c91b521e39b div.sk-parallel::before {content: \"\";position: absolute;border-left: 1px solid gray;box-sizing: border-box;top: 2em;bottom: 0;left: 50%;}#sk-13bf0c8e-0d2b-4e8c-be73-6c91b521e39b div.sk-parallel-item {display: flex;flex-direction: column;position: relative;background-color: white;}#sk-13bf0c8e-0d2b-4e8c-be73-6c91b521e39b div.sk-parallel-item:first-child::after {align-self: flex-end;width: 50%;}#sk-13bf0c8e-0d2b-4e8c-be73-6c91b521e39b div.sk-parallel-item:last-child::after {align-self: flex-start;width: 50%;}#sk-13bf0c8e-0d2b-4e8c-be73-6c91b521e39b div.sk-parallel-item:only-child::after {width: 0;}#sk-13bf0c8e-0d2b-4e8c-be73-6c91b521e39b div.sk-dashed-wrapped {border: 1px dashed gray;margin: 0 0.4em 0.5em 0.4em;box-sizing: border-box;padding-bottom: 0.4em;background-color: white;position: relative;}#sk-13bf0c8e-0d2b-4e8c-be73-6c91b521e39b div.sk-label label {font-family: monospace;font-weight: bold;background-color: white;display: inline-block;line-height: 1.2em;}#sk-13bf0c8e-0d2b-4e8c-be73-6c91b521e39b div.sk-label-container {position: relative;z-index: 2;text-align: center;}#sk-13bf0c8e-0d2b-4e8c-be73-6c91b521e39b div.sk-container {display: inline-block;position: relative;}</style><div id=\"sk-13bf0c8e-0d2b-4e8c-be73-6c91b521e39b\" class\"sk-top-container\"><div class=\"sk-container\"><div class=\"sk-item sk-dashed-wrapped\"><div class=\"sk-label-container\"><div class=\"sk-label sk-toggleable\"><input class=\"sk-toggleable__control sk-hidden--visually\" id=\"55049b1a-f84c-448b-98f4-7e20bcc06747\" type=\"checkbox\" ><label class=\"sk-toggleable__label\" for=\"55049b1a-f84c-448b-98f4-7e20bcc06747\">Pipeline</label><div class=\"sk-toggleable__content\"><pre>Pipeline(steps=[('features',\n",
    "                 FeatureUnion(transformer_list=[('numeric',\n",
    "                                                 Pipeline(steps=[('columns',\n",
    "                                                                  Columns(names=['Nombre_de_lots',\n",
    "                                                                                 'surface',\n",
    "                                                                                 'Nombre_pieces_principales'])),\n",
    "                                                                 ('standardscaler',\n",
    "                                                                  StandardScaler())])),\n",
    "                                                ('categorical',\n",
    "                                                 Pipeline(steps=[('columns',\n",
    "                                                                  Columns(names=['dep',\n",
    "                                                                                 'Code_type_local'])),\n",
    "                                                                 ('onehotencoder',\n",
    "                                                                  OneHotEncoder(sparse=False))]))])),\n",
    "                ('identity', Collect()),\n",
    "                ('randomforest',\n",
    "                 RandomForestRegressor(max_depth=2, random_state=123))])</pre></div></div></div><div class=\"sk-serial\"><div class=\"sk-item sk-dashed-wrapped\"><div class=\"sk-label-container\"><div class=\"sk-label sk-toggleable\"><input class=\"sk-toggleable__control sk-hidden--visually\" id=\"95fd02f5-4914-4810-bd18-ad59d85004c5\" type=\"checkbox\" ><label class=\"sk-toggleable__label\" for=\"95fd02f5-4914-4810-bd18-ad59d85004c5\">features: FeatureUnion</label><div class=\"sk-toggleable__content\"><pre>FeatureUnion(transformer_list=[('numeric',\n",
    "                                Pipeline(steps=[('columns',\n",
    "                                                 Columns(names=['Nombre_de_lots',\n",
    "                                                                'surface',\n",
    "                                                                'Nombre_pieces_principales'])),\n",
    "                                                ('standardscaler',\n",
    "                                                 StandardScaler())])),\n",
    "                               ('categorical',\n",
    "                                Pipeline(steps=[('columns',\n",
    "                                                 Columns(names=['dep',\n",
    "                                                                'Code_type_local'])),\n",
    "                                                ('onehotencoder',\n",
    "                                                 OneHotEncoder(sparse=False))]))])</pre></div></div></div><div class=\"sk-parallel\"><div class=\"sk-parallel-item\"><div class=\"sk-item\"><div class=\"sk-label-container\"><div class=\"sk-label sk-toggleable\"><label>numeric</label></div></div><div class=\"sk-serial\"><div class=\"sk-item\"><div class=\"sk-serial\"><div class=\"sk-item\"><div class=\"sk-estimator sk-toggleable\"><input class=\"sk-toggleable__control sk-hidden--visually\" id=\"634766e3-09fe-4d5c-9505-938a953457d8\" type=\"checkbox\" ><label class=\"sk-toggleable__label\" for=\"634766e3-09fe-4d5c-9505-938a953457d8\">Columns</label><div class=\"sk-toggleable__content\"><pre>Columns(names=['Nombre_de_lots', 'surface', 'Nombre_pieces_principales'])</pre></div></div></div><div class=\"sk-item\"><div class=\"sk-estimator sk-toggleable\"><input class=\"sk-toggleable__control sk-hidden--visually\" id=\"0bde7eeb-42bd-4fd3-aab5-b3d31cc0a335\" type=\"checkbox\" ><label class=\"sk-toggleable__label\" for=\"0bde7eeb-42bd-4fd3-aab5-b3d31cc0a335\">StandardScaler</label><div class=\"sk-toggleable__content\"><pre>StandardScaler()</pre></div></div></div></div></div></div></div></div><div class=\"sk-parallel-item\"><div class=\"sk-item\"><div class=\"sk-label-container\"><div class=\"sk-label sk-toggleable\"><label>categorical</label></div></div><div class=\"sk-serial\"><div class=\"sk-item\"><div class=\"sk-serial\"><div class=\"sk-item\"><div class=\"sk-estimator sk-toggleable\"><input class=\"sk-toggleable__control sk-hidden--visually\" id=\"7dbf8be7-dd60-4ac5-b2b3-37aa9720edf1\" type=\"checkbox\" ><label class=\"sk-toggleable__label\" for=\"7dbf8be7-dd60-4ac5-b2b3-37aa9720edf1\">Columns</label><div class=\"sk-toggleable__content\"><pre>Columns(names=['dep', 'Code_type_local'])</pre></div></div></div><div class=\"sk-item\"><div class=\"sk-estimator sk-toggleable\"><input class=\"sk-toggleable__control sk-hidden--visually\" id=\"23cb976a-b451-493e-8d01-5f14ae915582\" type=\"checkbox\" ><label class=\"sk-toggleable__label\" for=\"23cb976a-b451-493e-8d01-5f14ae915582\">OneHotEncoder</label><div class=\"sk-toggleable__content\"><pre>OneHotEncoder(sparse=False)</pre></div></div></div></div></div></div></div></div></div></div><div class=\"sk-item\"><div class=\"sk-estimator sk-toggleable\"><input class=\"sk-toggleable__control sk-hidden--visually\" id=\"976d2964-7f23-4626-9ca3-7477d239f991\" type=\"checkbox\" ><label class=\"sk-toggleable__label\" for=\"976d2964-7f23-4626-9ca3-7477d239f991\">Collect</label><div class=\"sk-toggleable__content\"><pre>Collect()</pre></div></div></div><div class=\"sk-item\"><div class=\"sk-estimator sk-toggleable\"><input class=\"sk-toggleable__control sk-hidden--visually\" id=\"39e85e15-8152-497b-8f12-0708f96821ab\" type=\"checkbox\" ><label class=\"sk-toggleable__label\" for=\"39e85e15-8152-497b-8f12-0708f96821ab\">RandomForestRegressor</label><div class=\"sk-toggleable__content\"><pre>RandomForestRegressor(max_depth=2, random_state=123)</pre></div></div></div></div></div></div></div>\n",
    "\n"
   ]
  },
  {
   "cell_type": "code",
   "execution_count": null,
   "id": "8e8ee5cd",
   "metadata": {
    "lines_to_next_cell": 2
   },
   "outputs": [],
   "source": [
    "preprocessor = ColumnTransformer(\n",
    "    transformers=[\n",
    "        ('numeric', StandardScaler(), numeric_features[:-1]),\n",
    "        ('categorical', OneHotEncoder(sparse=False), categorical_features)])\n",
    "\n",
    "pipe3 = Pipeline(steps=[('preprocessor', preprocessor),\n",
    "                      ('randomforest', regr)])"
   ]
  },
  {
   "cell_type": "markdown",
   "id": "3bbca91e",
   "metadata": {},
   "source": [
    "<style>#sk-40e51446-9922-4ae9-ad7c-1f2a03703131 {color: black;background-color: white;}#sk-40e51446-9922-4ae9-ad7c-1f2a03703131 pre{padding: 0;}#sk-40e51446-9922-4ae9-ad7c-1f2a03703131 div.sk-toggleable {background-color: white;}#sk-40e51446-9922-4ae9-ad7c-1f2a03703131 label.sk-toggleable__label {cursor: pointer;display: block;width: 100%;margin-bottom: 0;padding: 0.3em;box-sizing: border-box;text-align: center;}#sk-40e51446-9922-4ae9-ad7c-1f2a03703131 div.sk-toggleable__content {max-height: 0;max-width: 0;overflow: hidden;text-align: left;background-color: #f0f8ff;}#sk-40e51446-9922-4ae9-ad7c-1f2a03703131 div.sk-toggleable__content pre {margin: 0.2em;color: black;border-radius: 0.25em;background-color: #f0f8ff;}#sk-40e51446-9922-4ae9-ad7c-1f2a03703131 input.sk-toggleable__control:checked~div.sk-toggleable__content {max-height: 200px;max-width: 100%;overflow: auto;}#sk-40e51446-9922-4ae9-ad7c-1f2a03703131 div.sk-estimator input.sk-toggleable__control:checked~label.sk-toggleable__label {background-color: #d4ebff;}#sk-40e51446-9922-4ae9-ad7c-1f2a03703131 div.sk-label input.sk-toggleable__control:checked~label.sk-toggleable__label {background-color: #d4ebff;}#sk-40e51446-9922-4ae9-ad7c-1f2a03703131 input.sk-hidden--visually {border: 0;clip: rect(1px 1px 1px 1px);clip: rect(1px, 1px, 1px, 1px);height: 1px;margin: -1px;overflow: hidden;padding: 0;position: absolute;width: 1px;}#sk-40e51446-9922-4ae9-ad7c-1f2a03703131 div.sk-estimator {font-family: monospace;background-color: #f0f8ff;border: 1px dotted black;border-radius: 0.25em;box-sizing: border-box;margin-bottom: 0.5em;}#sk-40e51446-9922-4ae9-ad7c-1f2a03703131 div.sk-estimator:hover {background-color: #d4ebff;}#sk-40e51446-9922-4ae9-ad7c-1f2a03703131 div.sk-parallel-item::after {content: \"\";width: 100%;border-bottom: 1px solid gray;flex-grow: 1;}#sk-40e51446-9922-4ae9-ad7c-1f2a03703131 div.sk-label:hover label.sk-toggleable__label {background-color: #d4ebff;}#sk-40e51446-9922-4ae9-ad7c-1f2a03703131 div.sk-serial::before {content: \"\";position: absolute;border-left: 1px solid gray;box-sizing: border-box;top: 2em;bottom: 0;left: 50%;}#sk-40e51446-9922-4ae9-ad7c-1f2a03703131 div.sk-serial {display: flex;flex-direction: column;align-items: center;background-color: white;padding-right: 0.2em;padding-left: 0.2em;}#sk-40e51446-9922-4ae9-ad7c-1f2a03703131 div.sk-item {z-index: 1;}#sk-40e51446-9922-4ae9-ad7c-1f2a03703131 div.sk-parallel {display: flex;align-items: stretch;justify-content: center;background-color: white;}#sk-40e51446-9922-4ae9-ad7c-1f2a03703131 div.sk-parallel::before {content: \"\";position: absolute;border-left: 1px solid gray;box-sizing: border-box;top: 2em;bottom: 0;left: 50%;}#sk-40e51446-9922-4ae9-ad7c-1f2a03703131 div.sk-parallel-item {display: flex;flex-direction: column;position: relative;background-color: white;}#sk-40e51446-9922-4ae9-ad7c-1f2a03703131 div.sk-parallel-item:first-child::after {align-self: flex-end;width: 50%;}#sk-40e51446-9922-4ae9-ad7c-1f2a03703131 div.sk-parallel-item:last-child::after {align-self: flex-start;width: 50%;}#sk-40e51446-9922-4ae9-ad7c-1f2a03703131 div.sk-parallel-item:only-child::after {width: 0;}#sk-40e51446-9922-4ae9-ad7c-1f2a03703131 div.sk-dashed-wrapped {border: 1px dashed gray;margin: 0 0.4em 0.5em 0.4em;box-sizing: border-box;padding-bottom: 0.4em;background-color: white;position: relative;}#sk-40e51446-9922-4ae9-ad7c-1f2a03703131 div.sk-label label {font-family: monospace;font-weight: bold;background-color: white;display: inline-block;line-height: 1.2em;}#sk-40e51446-9922-4ae9-ad7c-1f2a03703131 div.sk-label-container {position: relative;z-index: 2;text-align: center;}#sk-40e51446-9922-4ae9-ad7c-1f2a03703131 div.sk-container {display: inline-block;position: relative;}</style><div id=\"sk-40e51446-9922-4ae9-ad7c-1f2a03703131\" class\"sk-top-container\"><div class=\"sk-container\"><div class=\"sk-item sk-dashed-wrapped\"><div class=\"sk-label-container\"><div class=\"sk-label sk-toggleable\"><input class=\"sk-toggleable__control sk-hidden--visually\" id=\"cb5dcd89-5175-48d9-b087-f67b75e9c33a\" type=\"checkbox\" ><label class=\"sk-toggleable__label\" for=\"cb5dcd89-5175-48d9-b087-f67b75e9c33a\">Pipeline</label><div class=\"sk-toggleable__content\"><pre>Pipeline(steps=[('preprocessor',\n",
    "                 ColumnTransformer(transformers=[('numeric', StandardScaler(),\n",
    "                                                  ['Nombre_de_lots', 'surface',\n",
    "                                                   'Nombre_pieces_principales']),\n",
    "                                                 ('categorical',\n",
    "                                                  OneHotEncoder(sparse=False),\n",
    "                                                  ['dep',\n",
    "                                                   'Code_type_local'])])),\n",
    "                ('randomforest',\n",
    "                 RandomForestRegressor(max_depth=2, random_state=123))])</pre></div></div></div><div class=\"sk-serial\"><div class=\"sk-item sk-dashed-wrapped\"><div class=\"sk-label-container\"><div class=\"sk-label sk-toggleable\"><input class=\"sk-toggleable__control sk-hidden--visually\" id=\"cc799358-9840-4751-b0df-30bcf6c292ca\" type=\"checkbox\" ><label class=\"sk-toggleable__label\" for=\"cc799358-9840-4751-b0df-30bcf6c292ca\">preprocessor: ColumnTransformer</label><div class=\"sk-toggleable__content\"><pre>ColumnTransformer(transformers=[('numeric', StandardScaler(),\n",
    "                                 ['Nombre_de_lots', 'surface',\n",
    "                                  'Nombre_pieces_principales']),\n",
    "                                ('categorical', OneHotEncoder(sparse=False),\n",
    "                                 ['dep', 'Code_type_local'])])</pre></div></div></div><div class=\"sk-parallel\"><div class=\"sk-parallel-item\"><div class=\"sk-item\"><div class=\"sk-label-container\"><div class=\"sk-label sk-toggleable\"><input class=\"sk-toggleable__control sk-hidden--visually\" id=\"02a0642c-0014-43e4-a659-d453878cf0d6\" type=\"checkbox\" ><label class=\"sk-toggleable__label\" for=\"02a0642c-0014-43e4-a659-d453878cf0d6\">numeric</label><div class=\"sk-toggleable__content\"><pre>['Nombre_de_lots', 'surface', 'Nombre_pieces_principales']</pre></div></div></div><div class=\"sk-serial\"><div class=\"sk-item\"><div class=\"sk-estimator sk-toggleable\"><input class=\"sk-toggleable__control sk-hidden--visually\" id=\"b54975fc-9a3e-4e16-95cf-52a0b47b874b\" type=\"checkbox\" ><label class=\"sk-toggleable__label\" for=\"b54975fc-9a3e-4e16-95cf-52a0b47b874b\">StandardScaler</label><div class=\"sk-toggleable__content\"><pre>StandardScaler()</pre></div></div></div></div></div></div><div class=\"sk-parallel-item\"><div class=\"sk-item\"><div class=\"sk-label-container\"><div class=\"sk-label sk-toggleable\"><input class=\"sk-toggleable__control sk-hidden--visually\" id=\"c81a63b7-9fc8-406d-8ffa-2e5679516f0d\" type=\"checkbox\" ><label class=\"sk-toggleable__label\" for=\"c81a63b7-9fc8-406d-8ffa-2e5679516f0d\">categorical</label><div class=\"sk-toggleable__content\"><pre>['dep', 'Code_type_local']</pre></div></div></div><div class=\"sk-serial\"><div class=\"sk-item\"><div class=\"sk-estimator sk-toggleable\"><input class=\"sk-toggleable__control sk-hidden--visually\" id=\"906484a6-b5b4-4946-bd8c-2ae94ebe709e\" type=\"checkbox\" ><label class=\"sk-toggleable__label\" for=\"906484a6-b5b4-4946-bd8c-2ae94ebe709e\">OneHotEncoder</label><div class=\"sk-toggleable__content\"><pre>OneHotEncoder(sparse=False)</pre></div></div></div></div></div></div></div></div><div class=\"sk-item\"><div class=\"sk-estimator sk-toggleable\"><input class=\"sk-toggleable__control sk-hidden--visually\" id=\"4916b71f-87b8-4d06-a007-22119f9b39a3\" type=\"checkbox\" ><label class=\"sk-toggleable__label\" for=\"4916b71f-87b8-4d06-a007-22119f9b39a3\">RandomForestRegressor</label><div class=\"sk-toggleable__content\"><pre>RandomForestRegressor(max_depth=2, random_state=123)</pre></div></div></div></div></div></div></div>\n",
    "\n",
    "# Références\n",
    "\n",
    "- Breiman L (2001). _\"Random Forests\". Machine Learning_. 45 (1): 5–32."
   ]
  }
 ],
 "metadata": {
  "kernelspec": {
   "display_name": "Python 3",
   "language": "python",
   "name": "python3"
  }
 },
 "nbformat": 4,
 "nbformat_minor": 5
}
