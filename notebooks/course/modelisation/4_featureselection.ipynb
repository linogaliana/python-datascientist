{
 "cells": [
  {
   "cell_type": "markdown",
   "id": "ea169f57",
   "metadata": {},
   "source": [
    "#  Sélection de variables: une introduction\n",
    "\n",
    "\n"
   ]
  },
  {
   "cell_type": "markdown",
   "id": "16704c0e",
   "metadata": {},
   "source": [
    "<a href=\"https://github.com/linogaliana/python-datascientist/blob/master/notebooks/course/modelisation/4_featureselection.ipynb\" class=\"github\"><i class=\"fab fa-github\"></i></a>\n",
    "[![nbviewer](https://img.shields.io/badge/visualize-nbviewer-blue)](https://nbviewer.jupyter.org/github/linogaliana/python-datascientist/blob/master/notebooks/course/modelisation/4_featureselection.ipynb)\n",
    "[![Onyxia](https://img.shields.io/badge/SSPcloud-Tester%20via%20SSP--cloud-informational&color=yellow?logo=Python)](https://datalab.sspcloud.fr/launcher/inseefrlab-helm-charts-datascience/jupyter?onyxia.friendlyName=%C2%ABpython-datascientist%C2%BB&resources.requests.memory=%C2%AB4Gi%C2%BB)\n",
    "[![Binder](https://mybinder.org/badge_logo.svg)](https://mybinder.org/v2/gh/linogaliana/python-datascientist/master?filepath=notebooks/course/modelisation/4_featureselection.ipynb)\n",
    "[![Open In Colab](https://colab.research.google.com/assets/colab-badge.svg)](http://colab.research.google.com/github/linogaliana/python-datascientist/blob/master/notebooks/course/modelisation/4_featureselection.ipynb)"
   ]
  },
  {
   "cell_type": "markdown",
   "id": "f50eba7a",
   "metadata": {},
   "source": [
    "Pour illustrer le travail de données nécessaire pour faire de la sélection de variable,\n",
    "nous allons partir du même jeu de données que précédemment,\n",
    "c'est-à-dire les résultats des élections US 2020 présentés dans l'[introduction\n",
    "de cette partie](https://linogaliana-teaching.netlify.app/modelisation/): les données de vote aux élections présidentielles US\n",
    "croisées à des variables socio-démographiques.\n",
    "Le code \n",
    "est disponible [sur Github](https://github.com/linogaliana/python-datascientist/blob/master/content/modelisation/get_data.py)\n",
    "\n",
    "Jusqu'à présent, nous avons supposé que les variables permettant d'éclairer le\n",
    "vote Républicain étaient connues. Nous n'avons ainsi exploité qu'une partie\n",
    "limitée de l'information disponible dans nos données. Néanmoins, outre le fléau\n",
    "computationnel que représenterait la construction d'un modèle avec un grand\n",
    "nombre de variable, le choix d'un nombre restreint de variables\n",
    "(modèle parcimonieux) limite le risque de sur-apprentissage.\n",
    "\n",
    "Comment, dès-lors, choisir le bon nombre de variables et la meilleure\n",
    "combinaison de ces variables ? Il existe de multiples méthodes, parmi lesquelles :\n",
    "\n",
    "* se fonder sur des critères statistiques de performance qui pénalisent les\n",
    "modèles non parcimonieux. Par exemple, le BIC\n",
    "* techniques de *backward elimination*\n",
    "* construire des modèles pour lesquels la statistique d'intérêt pénalise l'absence\n",
    "de parcimonie. "
   ]
  },
  {
   "cell_type": "markdown",
   "id": "335192e2",
   "metadata": {},
   "source": [
    "La classe des modèles de *feature selection* est ainsi très vaste et regroupe\n",
    "un ensemble très diverse de modèles. Nous allons nous focaliser sur le LASSO\n",
    "(*Least Absolute Shrinkage and Selection Operator*)\n",
    "qui est une extension de la régression linéaire qui vise à sélectionner des\n",
    "modèles *sparses*. Ce type de modèle est central dans le champ du \n",
    "*Compressed sensing* (où on emploie plutôt le terme \n",
    "de *L1-regularization* que de LASSO). Le LASSO est un cas particulier des\n",
    "régressions elastic-net dont un autre cas fameux est la régression *ridge*.\n",
    "Contrairement à la régression linéaire classique, elles fonctionnent également\n",
    "dans un cadre où $p>N$, c'est à dire où le nombre de régresseur est supérieur\n",
    "au nombre d'observations.\n",
    "\n",
    "# Données utilisées\n",
    "\n",
    "On continue à utiliser les données de vote US. \n"
   ]
  },
  {
   "cell_type": "markdown",
   "id": "40b483a7",
   "metadata": {},
   "source": [
    "# Principe du LASSO\n",
    "\n",
    "En adoptant le principe d'une fonction objectif pénalisée,\n",
    "le LASSO permet de fixer un certain nombre de coefficients à 0.\n",
    "Les variables dont la norme est non nulle passent ainsi le test de sélection. \n",
    "\n",
    "Le LASSO est un programme d'optimisation sous contrainte. On cherche à trouver l'estimateur $\\beta$ qui minimise l'erreur quadratique (régression linéaire) sous une contrainte additionnelle régularisant les paramètres:\n",
    "$$\n",
    "\\min_{\\beta} \\frac{1}{2}\\mathbb{E}\\bigg( \\big( X\\beta - y  \\big)^2 \\bigg) \\\\\n",
    "\\text{s.t. } \\sum_{j=1}^p |\\beta_j| \\leq t\n",
    "$$\n",
    "Ce programme se reformule grâce au Lagrangien est permet ainsi d'obtenir un programme de minimisation plus maniable: \n",
    "$$\n",
    "\\beta^{\\text{LASSO}} = \\arg \\min_{\\beta} \\frac{1}{2}\\mathbb{E}\\bigg( \\big( X\\beta - y  \\big)^2 \\bigg) + \\alpha \\sum_{j=1}^p |\\beta_j| = \\arg \\min_{\\beta} ||y-X\\beta||_{2}^{2} + \\alpha ||\\beta||_1\n",
    "$$\n",
    "où $\\lambda$ est une réécriture de la régularisation précédente. \n",
    "\n",
    "warning: sélection de variables corrélées\n",
    "\n",
    "## Première régression LASSO\n",
    "\n",
    "Avant de se lancer dans les exercices, on va éliminer quelques colonnes redondantes, \n",
    "celles qui concernent les votes des parties concurrents (forcément très\n",
    "corrélés au vote Républicain...)  :\n"
   ]
  },
  {
   "cell_type": "code",
   "execution_count": null,
   "id": "6e8fb8f7",
   "metadata": {
    "lines_to_next_cell": 2
   },
   "outputs": [],
   "source": [
    "df2 = votes.loc[:,~votes.columns.str.endswith(('_democrat','_green','_other', 'per_point_diff', 'per_dem'))]"
   ]
  },
  {
   "cell_type": "markdown",
   "id": "a17d30ef",
   "metadata": {},
   "source": [
    "1. Standardiser les variables. :warning: Avant ça,\n",
    "ne garder que les colonnes numériques (idéalement on transformerait\n",
    "les variables non numériques en numériques)\n",
    "2. Estimer un modèle LASSO avec $alpha$=0.25. Afficher les valeurs des coefficients: qu'en déduire sur le modèle idéal ? Quelle variable a une valeur non nulle ?\n",
    "3. Faire une régression linéaire avec le modèle parcimonieux et comparer la\n",
    "performance à un modèle avec plus de variables"
   ]
  },
  {
   "cell_type": "markdown",
   "id": "1a50edc3",
   "metadata": {},
   "source": [
    "```\n",
    "## /opt/conda/envs/python-ENSAE/lib/python3.9/site-packages/pandas/core/frame.py:5233: SettingWithCopyWarning:\n",
    "## \n",
    "## \n",
    "## A value is trying to be set on a copy of a slice from a DataFrame\n",
    "## \n",
    "## See the caveats in the documentation: https://pandas.pydata.org/pandas-docs/stable/user_guide/indexing.html#returning-a-view-versus-a-copy\n",
    "```\n",
    "\n",
    "Les coefficients estimés sont ainsi les suivants:"
   ]
  },
  {
   "cell_type": "markdown",
   "id": "2e047b50",
   "metadata": {},
   "source": [
    "```\n",
    "## array([0.00000000e+00, 0.00000000e+00, 0.00000000e+00, 0.00000000e+00,\n",
    "##        0.00000000e+00, 0.00000000e+00, 0.00000000e+00, 1.59154789e-02,\n",
    "##        0.00000000e+00, 0.00000000e+00, 0.00000000e+00, 0.00000000e+00,\n",
    "##        0.00000000e+00, 0.00000000e+00, 0.00000000e+00, 0.00000000e+00,\n",
    "##        0.00000000e+00, 0.00000000e+00, 0.00000000e+00, 0.00000000e+00,\n",
    "##        0.00000000e+00, 0.00000000e+00, 0.00000000e+00, 0.00000000e+00,\n",
    "##        0.00000000e+00, 0.00000000e+00, 0.00000000e+00, 0.00000000e+00,\n",
    "##        0.00000000e+00, 0.00000000e+00, 0.00000000e+00, 0.00000000e+00,\n",
    "##        0.00000000e+00, 0.00000000e+00, 0.00000000e+00, 0.00000000e+00,\n",
    "##        0.00000000e+00, 0.00000000e+00, 0.00000000e+00, 0.00000000e+00,\n",
    "##        0.00000000e+00, 0.00000000e+00, 0.00000000e+00, 0.00000000e+00,\n",
    "##        0.00000000e+00, 0.00000000e+00, 0.00000000e+00, 0.00000000e+00,\n",
    "##        0.00000000e+00, 0.00000000e+00, 0.00000000e+00, 0.00000000e+00,\n",
    "##        0.00000000e+00, 0.00000000e+00, 0.00000000e+00, 0.00000000e+00,\n",
    "##        0.00000000e+00, 0.00000000e+00, 0.00000000e+00, 0.00000000e+00,\n",
    "##        0.00000000e+00, 0.00000000e+00, 0.00000000e+00, 0.00000000e+00,\n",
    "##        0.00000000e+00, 0.00000000e+00, 0.00000000e+00, 0.00000000e+00,\n",
    "##        0.00000000e+00, 0.00000000e+00, 0.00000000e+00, 0.00000000e+00,\n",
    "##        0.00000000e+00, 0.00000000e+00, 0.00000000e+00, 0.00000000e+00,\n",
    "##        0.00000000e+00, 0.00000000e+00, 0.00000000e+00, 0.00000000e+00,\n",
    "##        0.00000000e+00, 0.00000000e+00, 0.00000000e+00, 0.00000000e+00,\n",
    "##        0.00000000e+00, 0.00000000e+00, 0.00000000e+00, 0.00000000e+00,\n",
    "##        0.00000000e+00, 0.00000000e+00, 0.00000000e+00, 0.00000000e+00,\n",
    "##        0.00000000e+00, 0.00000000e+00, 0.00000000e+00, 0.00000000e+00,\n",
    "##        0.00000000e+00, 0.00000000e+00, 0.00000000e+00, 0.00000000e+00,\n",
    "##        0.00000000e+00, 0.00000000e+00, 0.00000000e+00, 0.00000000e+00,\n",
    "##        0.00000000e+00, 0.00000000e+00, 3.45685121e-02, 0.00000000e+00,\n",
    "##        0.00000000e+00, 0.00000000e+00, 0.00000000e+00, 0.00000000e+00,\n",
    "##        0.00000000e+00, 0.00000000e+00, 0.00000000e+00, 0.00000000e+00,\n",
    "##        0.00000000e+00, 0.00000000e+00, 0.00000000e+00, 0.00000000e+00,\n",
    "##        0.00000000e+00, 0.00000000e+00, 0.00000000e+00, 0.00000000e+00,\n",
    "##        0.00000000e+00, 0.00000000e+00, 0.00000000e+00, 0.00000000e+00,\n",
    "##        0.00000000e+00, 0.00000000e+00, 0.00000000e+00, 0.00000000e+00,\n",
    "##        0.00000000e+00, 0.00000000e+00, 0.00000000e+00, 0.00000000e+00,\n",
    "##        0.00000000e+00, 0.00000000e+00, 0.00000000e+00, 0.00000000e+00,\n",
    "##        0.00000000e+00, 0.00000000e+00, 0.00000000e+00, 0.00000000e+00,\n",
    "##        0.00000000e+00, 0.00000000e+00, 0.00000000e+00, 0.00000000e+00,\n",
    "##        0.00000000e+00, 0.00000000e+00, 0.00000000e+00, 0.00000000e+00,\n",
    "##        0.00000000e+00, 0.00000000e+00, 0.00000000e+00, 0.00000000e+00,\n",
    "##        0.00000000e+00, 0.00000000e+00, 0.00000000e+00, 0.00000000e+00,\n",
    "##        0.00000000e+00, 0.00000000e+00, 0.00000000e+00, 0.00000000e+00,\n",
    "##        0.00000000e+00, 0.00000000e+00, 0.00000000e+00, 0.00000000e+00,\n",
    "##        0.00000000e+00, 2.37849357e-02, 0.00000000e+00, 0.00000000e+00,\n",
    "##        0.00000000e+00, 0.00000000e+00, 0.00000000e+00, 0.00000000e+00,\n",
    "##        0.00000000e+00, 0.00000000e+00, 0.00000000e+00, 0.00000000e+00,\n",
    "##        0.00000000e+00, 0.00000000e+00, 0.00000000e+00, 0.00000000e+00,\n",
    "##        0.00000000e+00, 0.00000000e+00, 0.00000000e+00, 0.00000000e+00,\n",
    "##        0.00000000e+00, 0.00000000e+00, 0.00000000e+00, 0.00000000e+00,\n",
    "##        0.00000000e+00, 0.00000000e+00, 0.00000000e+00, 0.00000000e+00,\n",
    "##        2.81116083e-01, 0.00000000e+00, 0.00000000e+00, 0.00000000e+00,\n",
    "##        0.00000000e+00, 0.00000000e+00, 4.07780300e-02, 0.00000000e+00,\n",
    "##        0.00000000e+00, 0.00000000e+00, 0.00000000e+00, 0.00000000e+00,\n",
    "##        0.00000000e+00, 0.00000000e+00, 0.00000000e+00, 0.00000000e+00,\n",
    "##        4.86572240e-03, 0.00000000e+00, 0.00000000e+00, 0.00000000e+00,\n",
    "##        0.00000000e+00, 0.00000000e+00, 0.00000000e+00, 0.00000000e+00,\n",
    "##        0.00000000e+00, 0.00000000e+00, 0.00000000e+00, 0.00000000e+00,\n",
    "##        0.00000000e+00, 0.00000000e+00, 0.00000000e+00, 0.00000000e+00,\n",
    "##        0.00000000e+00, 0.00000000e+00, 0.00000000e+00, 0.00000000e+00,\n",
    "##        0.00000000e+00, 0.00000000e+00, 0.00000000e+00, 0.00000000e+00,\n",
    "##        0.00000000e+00, 0.00000000e+00, 0.00000000e+00, 0.00000000e+00,\n",
    "##        0.00000000e+00, 0.00000000e+00, 0.00000000e+00, 0.00000000e+00,\n",
    "##        0.00000000e+00, 0.00000000e+00, 0.00000000e+00, 0.00000000e+00,\n",
    "##        0.00000000e+00, 0.00000000e+00, 0.00000000e+00, 0.00000000e+00,\n",
    "##        0.00000000e+00, 0.00000000e+00, 0.00000000e+00, 0.00000000e+00,\n",
    "##        0.00000000e+00, 0.00000000e+00, 0.00000000e+00, 0.00000000e+00,\n",
    "##        0.00000000e+00, 0.00000000e+00, 0.00000000e+00, 0.00000000e+00,\n",
    "##        0.00000000e+00, 0.00000000e+00, 0.00000000e+00, 7.35522594e-02,\n",
    "##        0.00000000e+00, 0.00000000e+00, 0.00000000e+00, 0.00000000e+00,\n",
    "##        0.00000000e+00, 0.00000000e+00, 0.00000000e+00, 0.00000000e+00,\n",
    "##        0.00000000e+00, 0.00000000e+00, 0.00000000e+00, 0.00000000e+00,\n",
    "##        0.00000000e+00, 0.00000000e+00, 0.00000000e+00, 0.00000000e+00,\n",
    "##        0.00000000e+00, 0.00000000e+00, 0.00000000e+00, 0.00000000e+00,\n",
    "##        0.00000000e+00, 0.00000000e+00, 0.00000000e+00, 0.00000000e+00,\n",
    "##        0.00000000e+00, 0.00000000e+00, 0.00000000e+00, 0.00000000e+00,\n",
    "##        0.00000000e+00, 0.00000000e+00, 3.33445111e-06, 0.00000000e+00,\n",
    "##        0.00000000e+00, 0.00000000e+00, 0.00000000e+00, 0.00000000e+00,\n",
    "##        0.00000000e+00, 0.00000000e+00, 0.00000000e+00, 0.00000000e+00,\n",
    "##        0.00000000e+00, 0.00000000e+00, 0.00000000e+00, 0.00000000e+00,\n",
    "##        0.00000000e+00, 0.00000000e+00, 0.00000000e+00, 0.00000000e+00,\n",
    "##        0.00000000e+00, 0.00000000e+00, 0.00000000e+00, 0.00000000e+00,\n",
    "##        0.00000000e+00, 0.00000000e+00, 0.00000000e+00, 0.00000000e+00,\n",
    "##        0.00000000e+00, 0.00000000e+00, 0.00000000e+00, 0.00000000e+00,\n",
    "##        0.00000000e+00])\n",
    "```\n",
    "\n",
    "Le modèle est donc extrêmement parcimonieux puisque, avec le paramètre par défaut, seulement une variable explicative est sélectionnée. La variable sélectionnée est\n"
   ]
  },
  {
   "cell_type": "code",
   "execution_count": null,
   "id": "0490c31c",
   "metadata": {},
   "outputs": [],
   "source": [
    "df2.select_dtypes(include=np.number).drop(\"per_gop\", axis = 1).columns[np.abs(lasso1.coef_)>0]"
   ]
  },
  {
   "cell_type": "markdown",
   "id": "9e21d786",
   "metadata": {},
   "source": [
    "```\n",
    "## Index(['Rural-urban_Continuum Code_2003', 'GQ_ESTIMATES_2011',\n",
    "##        '2003 Rural-urban Continuum Code',\n",
    "##        'Percent of adults with a bachelor's degree or higher, 1990',\n",
    "##        'Percent of adults with a high school diploma only, 2000',\n",
    "##        'Percent of adults with a bachelor's degree or higher, 2015-19',\n",
    "##        'Unemployment_rate_2012', 'Rural-urban_Continuum_Code_2003'],\n",
    "##       dtype='object')\n",
    "```\n",
    "\n",
    "Autrement dit, le meilleur prédicteur pour le score des Républicains en 2020 est... le score des Républicains (et mécaniquement des démocrates) en 2016.\n",
    "D'ailleurs, cette information est de loin la meilleure pour prédire le score \n",
    "des Républicains au point que si on tente de faire varier $\\alpha$, un \n",
    "hyperparamètre du LASSO, on continuera à ne sélectionner qu'une seule variable\n",
    "\n"
   ]
  },
  {
   "cell_type": "code",
   "execution_count": null,
   "id": "affbf2dc",
   "metadata": {},
   "outputs": [],
   "source": [
    "import statsmodels.api as sm"
   ]
  },
  {
   "cell_type": "markdown",
   "id": "0ab45ca9",
   "metadata": {},
   "source": [
    "```\n",
    "## Error in py_call_impl(callable, dots$args, dots$keywords): ModuleNotFoundError: No module named 'statsmodels'\n",
    "## \n",
    "## Detailed traceback: \n",
    "##   File \"<string>\", line 1, in <module>\n",
    "```"
   ]
  },
  {
   "cell_type": "code",
   "execution_count": null,
   "id": "3b3acabe",
   "metadata": {},
   "outputs": [],
   "source": [
    "import statsmodels.formula.api as smf"
   ]
  },
  {
   "cell_type": "markdown",
   "id": "d50e9ccc",
   "metadata": {},
   "source": [
    "```\n",
    "## Error in py_call_impl(callable, dots$args, dots$keywords): ModuleNotFoundError: No module named 'statsmodels'\n",
    "## \n",
    "## Detailed traceback: \n",
    "##   File \"<string>\", line 1, in <module>\n",
    "```"
   ]
  },
  {
   "cell_type": "code",
   "execution_count": null,
   "id": "2ce95d24",
   "metadata": {},
   "outputs": [],
   "source": [
    "print(smf.ols(\"per_gop ~ share_2016_republican\", data = df2).fit().summary())"
   ]
  },
  {
   "cell_type": "markdown",
   "id": "5604711f",
   "metadata": {},
   "source": [
    "```\n",
    "## Error in py_call_impl(callable, dots$args, dots$keywords): NameError: name 'smf' is not defined\n",
    "## \n",
    "## Detailed traceback: \n",
    "##   File \"<string>\", line 1, in <module>\n",
    "```\n",
    "\n",
    "La performance du modèle est déjà très bonne, avec une seule variable explicative.\n",
    "\n",
    "Pour la suite, on va ainsi se contenter de variables moins bonnes mais qui \n",
    "présentent un intérêt pour la sélection.\n"
   ]
  },
  {
   "cell_type": "markdown",
   "id": "439e20fd",
   "metadata": {},
   "source": [
    "## Effet du paramètre de pénalisation sur la sélection de variables\n",
    "\n",
    "1. Utiliser la fonction `lasso_path` pour évaluer le nombre de paramètres sélectionnés par LASSO lorsque $\\alpha$\n",
    "varie (parcourir $[0,1]$ pour les valeurs de $\\alpha$)\n",
    "2. Regarder les paramètres qui sont sélectionnés pour, par exemple, $\\alpha=0.1$\n",
    "\n",
    "\n"
   ]
  },
  {
   "cell_type": "markdown",
   "id": "91d80620",
   "metadata": {},
   "source": [
    "```\n",
    "## <Figure size 700x700 with 0 Axes>\n",
    "```\n",
    "\n",
    "```\n",
    "## [Text(0.5, 1.0, 'Number variables and regularization parameter ($\\\\alpha$)'), Text(0.5, 0, '$\\\\alpha$'), Text(0, 0.5, 'Nb. de variables')]\n",
    "```\n",
    "\n"
   ]
  },
  {
   "cell_type": "markdown",
   "id": "e4c50a07",
   "metadata": {},
   "source": [
    "```\n",
    "## /opt/conda/envs/python-ENSAE/lib/python3.9/site-packages/pandas/core/frame.py:5233: SettingWithCopyWarning:\n",
    "## \n",
    "## \n",
    "## A value is trying to be set on a copy of a slice from a DataFrame\n",
    "## \n",
    "## See the caveats in the documentation: https://pandas.pydata.org/pandas-docs/stable/user_guide/indexing.html#returning-a-view-versus-a-copy\n",
    "```\n",
    "\n",
    "Les variables sélectionnées, lorsque $\\alpha = 0.2$, sont les suivantes:"
   ]
  },
  {
   "cell_type": "markdown",
   "id": "5f310396",
   "metadata": {},
   "source": [
    "```\n",
    "## Index(['Rural-urban_Continuum Code_2003', 'GQ_ESTIMATES_2011',\n",
    "##        '2003 Rural-urban Continuum Code',\n",
    "##        'Percent of adults with a bachelor's degree or higher, 1990',\n",
    "##        'Percent of adults with a high school diploma only, 2000',\n",
    "##        'Percent of adults with a bachelor's degree or higher, 2015-19',\n",
    "##        'Unemployment_rate_2012', 'Rural-urban_Continuum_Code_2003'],\n",
    "##       dtype='object')\n",
    "```\n",
    "\n",
    "On voit ici que le LASSO sélectionne plus de variables. Quelques remarques :\n",
    "\n",
    "* Certaines variables font sens, comme les variables\n",
    "d'éducation par exemple ;\n",
    "* On sélectionne des variables redondantes. Une phase plus approfondie de\n",
    "nettoyage des données serait nécessaire ;\n",
    "* On sélectionne des variables très corrélées\n",
    "\n",
    "\n"
   ]
  },
  {
   "cell_type": "markdown",
   "id": "e8eb989f",
   "metadata": {},
   "source": [
    "## Validation croisée pour sélectionner le modèle\n",
    "\n",
    "Faut-il privilégier le modèle où $\\alpha = 1$ ou $\\alpha = 0.1$ ? Pour cela, \n",
    "il convient d'effectuer une validation croisée afin de prendre le modèle pour\n",
    "lequel les variables qui passent la phase de sélection permettent de mieux \n",
    "prédire le résultat Républicain.\n",
    "\n"
   ]
  },
  {
   "cell_type": "markdown",
   "id": "13c9fc1f",
   "metadata": {},
   "source": [
    "```\n",
    "## 0.001\n",
    "```\n",
    "\n",
    "\n"
   ]
  },
  {
   "cell_type": "markdown",
   "id": "07d853ac",
   "metadata": {},
   "source": [
    "```\n",
    "## Index(['Rural-urban_Continuum Code_2003', 'GQ_ESTIMATES_2011',\n",
    "##        '2003 Rural-urban Continuum Code',\n",
    "##        'Percent of adults with a bachelor's degree or higher, 1990',\n",
    "##        'Percent of adults with a high school diploma only, 2000',\n",
    "##        'Percent of adults with a bachelor's degree or higher, 2015-19',\n",
    "##        'Unemployment_rate_2012', 'Rural-urban_Continuum_Code_2003'],\n",
    "##       dtype='object')\n",
    "```\n",
    "\n",
    "ce qui correspond à un modèle avec 8 variables sélectionnées. C'est sans aucun doute trop peu parcimonieux : il faudrait revoir la phase de définition des variables pertinentes pour comprendre si des échelles différentes de certaines variables ne seraient pas plus appropriées (par exemple du `log`). "
   ]
  }
 ],
 "metadata": {
  "kernelspec": {
   "display_name": "Python 3",
   "language": "python",
   "name": "python3"
  }
 },
 "nbformat": 4,
 "nbformat_minor": 5
}
