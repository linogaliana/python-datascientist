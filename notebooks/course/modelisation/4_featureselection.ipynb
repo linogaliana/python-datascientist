{
 "cells": [
  {
   "cell_type": "markdown",
   "id": "4b8ed45d",
   "metadata": {},
   "source": [
    "#  Sélection de variables : une introduction\n",
    "\n",
    "\n"
   ]
  },
  {
   "cell_type": "markdown",
   "id": "b46e8d3a",
   "metadata": {},
   "source": [
    "<a href=\"https://github.com/linogaliana/python-datascientist/blob/master//__w/python-datascientist/python-datascientist/notebooks/course/modelisation/4_featureselection.ipynb\" class=\"github\"><i class=\"fab fa-github\"></i></a>\n",
    "[![Download](https://img.shields.io/badge/Download-Notebook-important?logo=Jupyter)](https://downgit.github.io/#/home?url=https://github.com/linogaliana/python-datascientist/blob/master//__w/python-datascientist/python-datascientist/notebooks/course/modelisation/4_featureselection.ipynb)\n",
    "[![nbviewer](https://img.shields.io/badge/Visualize-nbviewer-blue?logo=Jupyter)](https://nbviewer.jupyter.org/github/linogaliana/python-datascientist/blob/master//__w/python-datascientist/python-datascientist/notebooks/course/modelisation/4_featureselection.ipynb)\n",
    "[![Onyxia](https://img.shields.io/badge/SSPcloud-Tester%20via%20SSP--cloud-informational&color=yellow?logo=Python)](https://datalab.sspcloud.fr/launcher/inseefrlab-helm-charts-datascience/jupyter?autoLaunch=true&onyxia.friendlyName=%C2%ABpython-datascience%C2%BB&init.personalInit=%C2%ABhttps%3A%2F%2Fraw.githubusercontent.com%2Flinogaliana%2Fpython-datascientist%2Fmaster%2Fsspcloud%2Finit-jupyter.sh%C2%BB&init.personalInitArgs=%C2%ABmodelisation%204_featureselection%C2%BB&security.allowlist.enabled=false)\n",
    "<br>\n",
    "[![Binder](https://img.shields.io/badge/Launch-Binder-E66581.svg?logo=data:image/png;base64,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)](https://mybinder.org/v2/gh/linogaliana/python-datascientist/master?filepath=/__w/python-datascientist/python-datascientist/notebooks/course/modelisation/4_featureselection.ipynb)\n",
    "[![Open In Colab](https://colab.research.google.com/assets/colab-badge.svg)](http://colab.research.google.com/github/linogaliana/python-datascientist/blob/master//__w/python-datascientist/python-datascientist/notebooks/course/modelisation/4_featureselection.ipynb)\n",
    "[![githubdev](https://open.vscode.dev/badges/open-in-vscode.svg)](https://github.dev/linogaliana/python-datascientist//__w/python-datascientist/python-datascientist/notebooks/course/modelisation/4_featureselection.ipynb)"
   ]
  },
  {
   "cell_type": "markdown",
   "id": "72acc7ac",
   "metadata": {},
   "source": [
    "Pour illustrer le travail de données nécessaire pour faire de la sélection de variables,\n",
    "nous allons partir du même jeu de données que précédemment,\n",
    "c'est-à-dire les résultats des élections US 2020 présentés dans l'[introduction\n",
    "de cette partie](https://linogaliana-teaching.netlify.app/modelisation/): les données de vote aux élections présidentielles US\n",
    "croisées à des variables socio-démographiques.\n",
    "Le code \n",
    "est disponible [sur Github](https://github.com/linogaliana/python-datascientist/blob/master/content/course/modelisation/get_data.py)."
   ]
  },
  {
   "cell_type": "markdown",
   "id": "83ab1656",
   "metadata": {},
   "source": [
    "Le code \n",
    "est disponible [sur Github](https://github.com/linogaliana/python-datascientist/blob/master/content/course/modelisation/get_data.py).\n"
   ]
  },
  {
   "cell_type": "code",
   "execution_count": null,
   "id": "4c3a67f6",
   "metadata": {},
   "outputs": [],
   "source": [
    "#!pip install geopandas\n",
    "\n",
    "import requests\n",
    "\n",
    "url = 'https://raw.githubusercontent.com/linogaliana/python-datascientist/master/content/course/modelisation/get_data.py'\n",
    "r = requests.get(url, allow_redirects=True)\n",
    "open('getdata.py', 'wb').write(r.content)"
   ]
  },
  {
   "cell_type": "markdown",
   "id": "e0f01702",
   "metadata": {},
   "source": [
    "```\n",
    "## 3585\n",
    "```"
   ]
  },
  {
   "cell_type": "code",
   "execution_count": null,
   "id": "8cfec00f",
   "metadata": {},
   "outputs": [],
   "source": [
    "import getdata\n",
    "votes = getdata.create_votes_dataframes()"
   ]
  },
  {
   "cell_type": "markdown",
   "id": "d90abe0d",
   "metadata": {},
   "source": [
    "Jusqu'à présent, nous avons supposé que les variables utiles à la prévision du\n",
    "vote Républicain étaient connues du modélisateur. Nous n'avons ainsi exploité qu'une partie\n",
    "limitée des variables disponibles dans nos données. Néanmoins, outre le fléau\n",
    "computationnel que représenterait la construction d'un modèle avec un grand\n",
    "nombre de variables, le choix d'un nombre restreint de variables\n",
    "(modèle parcimonieux) limite le risque de sur-apprentissage.\n",
    "\n",
    "Comment, dès-lors, choisir le bon nombre de variables et la meilleure\n",
    "combinaison de ces variables ? Il existe de multiples méthodes, parmi lesquelles :\n",
    "\n",
    "* se fonder sur des critères statistiques de performance qui pénalisent les\n",
    "modèles non parcimonieux. Par exemple, le BIC.\n",
    "* techniques de *backward elimination*.\n",
    "* construire des modèles pour lesquels la statistique d'intérêt pénalise l'absence\n",
    "de parcimonie (ce que l'on va souhaiter faire ici). \n",
    "\n",
    "# Principe du LASSO\n",
    "\n",
    "## Principe général\n",
    "\n",
    "La classe des modèles de *feature selection* est ainsi très vaste et regroupe\n",
    "un ensemble très diverse de modèles. Nous allons nous focaliser sur le LASSO\n",
    "(*Least Absolute Shrinkage and Selection Operator*)\n",
    "qui est une extension de la régression linéaire qui vise à sélectionner des\n",
    "modèles *sparses*. Ce type de modèle est central dans le champ du \n",
    "*Compressed sensing* (où on emploie plutôt le terme \n",
    "de *L1-regularization* que de LASSO). Le LASSO est un cas particulier des\n",
    "régressions elastic-net dont un autre cas fameux est la régression *ridge*.\n",
    "Contrairement à la régression linéaire classique, elles fonctionnent également\n",
    "dans un cadre où $p>N$, c'est à dire où le nombre de régresseurs est très grand puisque supérieur\n",
    "au nombre d'observations.\n",
    "\n",
    "## Pénalisation\n",
    "\n",
    "En adoptant le principe d'une fonction objectif pénalisée,\n",
    "le LASSO permet de fixer un certain nombre de coefficients à 0.\n",
    "Les variables dont la norme est non nulle passent ainsi le test de sélection. \n",
    "\n",
    "Le LASSO est un programme d'optimisation sous contrainte. On cherche à trouver l'estimateur $\\beta$ qui minimise l'erreur quadratique (régression linéaire) sous une contrainte additionnelle régularisant les paramètres:\n",
    "$$\n",
    "\\min_{\\beta} \\frac{1}{2}\\mathbb{E}\\bigg( \\big( X\\beta - y  \\big)^2 \\bigg) \\\\\n",
    "\\text{s.t. } \\sum_{j=1}^p |\\beta_j| \\leq t\n",
    "$$\n",
    "Ce programme se reformule grâce au Lagrangien est permet ainsi d'obtenir un programme de minimisation plus maniable : \n",
    "$$\n",
    "\\beta^{\\text{LASSO}} = \\arg \\min_{\\beta} \\frac{1}{2}\\mathbb{E}\\bigg( \\big( X\\beta - y  \\big)^2 \\bigg) + \\alpha \\sum_{j=1}^p |\\beta_j| = \\arg \\min_{\\beta} ||y-X\\beta||_{2}^{2} + \\alpha ||\\beta||_1\n",
    "$$\n",
    "où $\\lambda$ est une réécriture de la régularisation précédente. \n",
    "\n",
    "<!-- warning: sélection de variables corrélées -->\n",
    "\n",
    "## Première régression LASSO\n",
    "\n",
    "Avant de se lancer dans les exercices, on va éliminer quelques colonnes redondantes, \n",
    "celles qui concernent les votes des partis concurrents (forcément très\n",
    "corrélés au vote Républicain...)  :\n"
   ]
  },
  {
   "cell_type": "code",
   "execution_count": null,
   "id": "d2d9ffa3",
   "metadata": {
    "lines_to_next_cell": 2
   },
   "outputs": [],
   "source": [
    "df2 = votes.loc[:,~votes.columns.str.endswith(\n",
    "  ('_democrat','_green','_other', 'per_point_diff', 'per_dem')\n",
    "  )]"
   ]
  },
  {
   "cell_type": "markdown",
   "id": "ef6ed16d",
   "metadata": {},
   "source": [
    "**Exercice 1 : Premier LASSO**\n"
   ]
  },
  {
   "cell_type": "code",
   "execution_count": null,
   "id": "fdf2e8e7",
   "metadata": {},
   "outputs": [],
   "source": [
    "# packages utiles\n",
    "import numpy as np\n",
    "from sklearn.svm import LinearSVC\n",
    "from sklearn.feature_selection import SelectFromModel\n",
    "from sklearn.model_selection import train_test_split\n",
    "from sklearn.preprocessing import StandardScaler\n",
    "from sklearn.linear_model import Lasso\n",
    "import sklearn.metrics\n",
    "from sklearn.linear_model import LinearRegression\n",
    "import matplotlib.cm as cm\n",
    "import matplotlib.pyplot as plt\n",
    "from sklearn.linear_model import lasso_path\n",
    "import seaborn as sns"
   ]
  },
  {
   "cell_type": "markdown",
   "id": "67914792",
   "metadata": {},
   "source": [
    "1. Préparez les variables à utiliser.\n",
    "* Ne garder que les colonnes numériques (idéalement on transformerait\n",
    "les variables non numériques en numériques)\n",
    "* Remplacer les valeurs infinies par des NaN\n",
    "* Standardiser les variables avec `StandardScaler`\n"
   ]
  },
  {
   "cell_type": "markdown",
   "id": "4da79ef1",
   "metadata": {},
   "source": [
    "2. On cherche toujours à prédire la variable `per_gop`. Créez un échantillon d'entraînement et un échantillon test. \n",
    "\n"
   ]
  },
  {
   "cell_type": "markdown",
   "id": "0dc44e41",
   "metadata": {},
   "source": [
    "3. Estimer un modèle LASSO pénalisé avec $alpha = 0.1$. Afficher les valeurs des coefficients. Quelles variables ont une valeur non nulle ?\n",
    "\n",
    "Les variables sélectionnées sont :"
   ]
  },
  {
   "cell_type": "markdown",
   "id": "c6ffa42a",
   "metadata": {},
   "source": [
    "```\n",
    "## /opt/conda/envs/python-ENSAE/lib/python3.9/site-packages/sklearn/linear_model/_base.py:148: FutureWarning: 'normalize' was deprecated in version 1.0 and will be removed in 1.2. Please leave the normalize parameter to its default value to silence this warning. The default behavior of this estimator is to not do any normalization. If normalization is needed please use sklearn.preprocessing.StandardScaler instead.\n",
    "##   warnings.warn(\n",
    "```\n",
    "\n",
    "```\n",
    "## ['ALAND', 'FIPS_y', 'INTERNATIONAL_MIG_2017', 'DOMESTIC_MIG_2014', 'DOMESTIC_MIG_2017', 'RESIDUAL_2010', 'RESIDUAL_2019', 'R_death_2012', 'R_death_2019', 'R_NATURAL_INC_2019', 'R_INTERNATIONAL_MIG_2011', 'R_DOMESTIC_MIG_2012', \"Percent of adults with a bachelor's degree or higher, 1990\", 'Percent of adults with a high school diploma only, 2000', \"Percent of adults with a bachelor's degree or higher, 2000\", \"Percent of adults with a bachelor's degree or higher, 2015-19\", 'Rural_urban_continuum_code_2013', 'Metro_2013', 'Unemployment_rate_2002', 'Unemployment_rate_2003', 'Unemployment_rate_2012', 'Rural-urban_Continuum_Code_2003', 'Rural-urban_Continuum_Code_2013', 'CI90LB517P_2019', 'candidatevotes_2016_republican', 'share_2012_republican', 'share_2016_republican']\n",
    "```\n",
    "\n",
    "Certaines variables font sens, comme les variables d'éducation par exemple. Notamment, un des meilleurs prédicteurs pour le score des Républicains en 2020 est... le score des Républicains (et mécaniquement des démocrates) en 2016.\n",
    "\n",
    "Par ailleurs, on sélectionne des variables redondantes. Une phase plus approfondie de nettoyage des données serait nécessaire ;\n",
    "\n",
    "4. Montrer que les variables sélectionnées sont parfois très corrélées. \n",
    "\n",
    "\n"
   ]
  },
  {
   "cell_type": "markdown",
   "id": "197ceb0c",
   "metadata": {},
   "source": [
    "5. Comparer la performance de ce modèle parcimonieux avec celle d'un modèle avec plus de variables \n",
    "\n",
    "\n"
   ]
  },
  {
   "cell_type": "markdown",
   "id": "f6b31864",
   "metadata": {},
   "source": [
    "6. Utiliser la fonction `lasso_path` pour évaluer le nombre de paramètres sélectionnés par LASSO lorsque $\\alpha$\n",
    "varie (parcourir $\\alpha \\in [0.001,0.01,0.02,0.025,0.05,0.1,0.25,0.5,0.8,1.0]$ ). \n",
    "\n"
   ]
  },
  {
   "cell_type": "markdown",
   "id": "cd4db0e3",
   "metadata": {},
   "source": [
    "On voit que plus alpha est élevé, moins le modèle sélectionne de variables.\n",
    "\n"
   ]
  },
  {
   "cell_type": "markdown",
   "id": "4c635add",
   "metadata": {},
   "source": [
    "## Validation croisée pour sélectionner le modèle\n",
    "\n",
    "Quel $\\alpha$ faut-il privilégier ? Pour cela, \n",
    "il convient d'effectuer une validation croisée afin de choisir le modèle pour\n",
    "lequel les variables qui passent la phase de sélection permettent de mieux\n",
    "prédire le résultat Républicain.\n",
    "\n"
   ]
  },
  {
   "cell_type": "markdown",
   "id": "8cb2de04",
   "metadata": {},
   "source": [
    "```\n",
    "## alpha optimal : 0.001\n",
    "```\n",
    "\n"
   ]
  },
  {
   "cell_type": "markdown",
   "id": "a45bbd71",
   "metadata": {},
   "source": [
    "Les variables sélectionnées sont : "
   ]
  },
  {
   "cell_type": "markdown",
   "id": "357150b9",
   "metadata": {},
   "source": [
    "```\n",
    "## ['ALAND', 'AWATER', 'votes_gop', 'diff', 'Rural-urban_Continuum Code_2003', 'Rural-urban_Continuum Code_2013', 'Urban_Influence_Code_2013', 'Economic_typology_2015', 'CENSUS_2010_POP', 'N_POP_CHG_2013', 'N_POP_CHG_2016', 'N_POP_CHG_2017', 'N_POP_CHG_2018', 'N_POP_CHG_2019', 'Births_2011', 'Births_2015', 'Deaths_2015', 'Deaths_2017', 'Deaths_2018', 'NATURAL_INC_2012', 'NATURAL_INC_2013', 'NATURAL_INC_2014', 'NATURAL_INC_2016', 'NATURAL_INC_2018', 'INTERNATIONAL_MIG_2010', 'INTERNATIONAL_MIG_2011', 'INTERNATIONAL_MIG_2012', 'INTERNATIONAL_MIG_2013', 'INTERNATIONAL_MIG_2014', 'INTERNATIONAL_MIG_2015', 'INTERNATIONAL_MIG_2016', 'INTERNATIONAL_MIG_2017', 'INTERNATIONAL_MIG_2018', 'INTERNATIONAL_MIG_2019', 'DOMESTIC_MIG_2010', 'DOMESTIC_MIG_2012', 'DOMESTIC_MIG_2013', 'DOMESTIC_MIG_2015', 'DOMESTIC_MIG_2016', 'DOMESTIC_MIG_2018', 'NET_MIG_2011', 'NET_MIG_2014', 'NET_MIG_2018', 'NET_MIG_2019', 'RESIDUAL_2010', 'RESIDUAL_2011', 'RESIDUAL_2012', 'RESIDUAL_2013', 'RESIDUAL_2014', 'RESIDUAL_2015', 'RESIDUAL_2016', 'RESIDUAL_2017', 'RESIDUAL_2018', 'RESIDUAL_2019', 'GQ_ESTIMATES_BASE_2010', 'GQ_ESTIMATES_2013', 'GQ_ESTIMATES_2015', 'GQ_ESTIMATES_2017', 'R_birth_2011', 'R_birth_2013', 'R_birth_2014', 'R_birth_2016', 'R_birth_2017', 'R_birth_2019', 'R_death_2011', 'R_death_2012', 'R_death_2013', 'R_death_2014', 'R_death_2015', 'R_death_2016', 'R_death_2017', 'R_death_2018', 'R_death_2019', 'R_NATURAL_INC_2012', 'R_NATURAL_INC_2015', 'R_NATURAL_INC_2017', 'R_NATURAL_INC_2018', 'R_NATURAL_INC_2019', 'R_INTERNATIONAL_MIG_2011', 'R_INTERNATIONAL_MIG_2012', 'R_INTERNATIONAL_MIG_2013', 'R_INTERNATIONAL_MIG_2014', 'R_INTERNATIONAL_MIG_2015', 'R_INTERNATIONAL_MIG_2016', 'R_INTERNATIONAL_MIG_2017', 'R_INTERNATIONAL_MIG_2018', 'R_INTERNATIONAL_MIG_2019', 'R_DOMESTIC_MIG_2011', 'R_DOMESTIC_MIG_2012', 'R_DOMESTIC_MIG_2013', 'R_DOMESTIC_MIG_2015', 'R_DOMESTIC_MIG_2016', 'R_DOMESTIC_MIG_2018', 'R_NET_MIG_2014', 'R_NET_MIG_2017', 'R_NET_MIG_2019', '2003 Rural-urban Continuum Code', 'Less than a high school diploma, 1970', 'High school diploma only, 1970', 'Some college (1-3 years), 1970', 'Four years of college or higher, 1970', 'Percent of adults with less than a high school diploma, 1970', 'Percent of adults with a high school diploma only, 1970', 'Percent of adults completing some college (1-3 years), 1970', 'Percent of adults completing four years of college or higher, 1970', 'Less than a high school diploma, 1980', 'High school diploma only, 1980', 'Some college (1-3 years), 1980', 'Four years of college or higher, 1980', 'Percent of adults with less than a high school diploma, 1980', 'Percent of adults with a high school diploma only, 1980', 'Percent of adults completing some college (1-3 years), 1980', 'Percent of adults completing four years of college or higher, 1980', 'Less than a high school diploma, 1990', 'Percent of adults with less than a high school diploma, 1990', 'Percent of adults with a high school diploma only, 1990', 'Less than a high school diploma, 2000', 'High school diploma only, 2000', \"Some college or associate's degree, 2000\", \"Bachelor's degree or higher, 2000\", 'Percent of adults with less than a high school diploma, 2000', 'Percent of adults with a high school diploma only, 2000', \"Percent of adults completing some college or associate's degree, 2000\", \"Percent of adults with a bachelor's degree or higher, 2000\", 'Less than a high school diploma, 2015-19', 'High school diploma only, 2015-19', \"Some college or associate's degree, 2015-19\", \"Bachelor's degree or higher, 2015-19\", 'Percent of adults with less than a high school diploma, 2015-19', 'Percent of adults with a high school diploma only, 2015-19', \"Percent of adults completing some college or associate's degree, 2015-19\", \"Percent of adults with a bachelor's degree or higher, 2015-19\", 'Metro_2013', 'Unemployed_2000', 'Unemployment_rate_2000', 'Unemployment_rate_2001', 'Unemployed_2002', 'Unemployment_rate_2002', 'Unemployed_2003', 'Unemployment_rate_2003', 'Civilian_labor_force_2004', 'Employed_2004', 'Unemployment_rate_2004', 'Civilian_labor_force_2005', 'Unemployed_2005', 'Unemployment_rate_2005', 'Civilian_labor_force_2006', 'Unemployed_2006', 'Unemployment_rate_2006', 'Unemployed_2007', 'Unemployment_rate_2007', 'Unemployed_2008', 'Unemployment_rate_2008', 'Employed_2009', 'Unemployment_rate_2009', 'Employed_2010', 'Unemployment_rate_2010', 'Civilian_labor_force_2011', 'Employed_2011', 'Unemployed_2011', 'Civilian_labor_force_2012', 'Employed_2012', 'Unemployed_2012', 'Unemployment_rate_2012', 'Unemployed_2013', 'Unemployment_rate_2013', 'Unemployed_2014', 'Unemployment_rate_2014', 'Civilian_labor_force_2015', 'Employed_2015', 'Unemployment_rate_2015', 'Unemployed_2016', 'Unemployment_rate_2016', 'Unemployed_2017', 'Unemployment_rate_2017', 'Unemployed_2018', 'Unemployment_rate_2018', 'Unemployment_rate_2019', 'Med_HH_Income_Percent_of_State_Total_2019', 'Rural-urban_Continuum_Code_2003', 'Urban_Influence_Code_2003', 'Rural-urban_Continuum_Code_2013', 'POVALL_2019', 'CI90LBALL_2019', 'CI90UBALL_2019', 'CI90LBALLP_2019', 'CI90UBALLP_2019', 'POV017_2019', 'CI90LB017_2019', 'CI90UB017_2019', 'CI90LB017P_2019', 'CI90LB517_2019', 'CI90UB517_2019', 'PCTPOV517_2019', 'CI90LB517P_2019', 'CI90LBINC_2019', 'CI90UBINC_2019', 'candidatevotes_2000_republican', 'candidatevotes_2004_republican', 'candidatevotes_2008_republican', 'candidatevotes_2012_republican', 'candidatevotes_2016_republican', 'share_2000_republican', 'share_2008_republican', 'share_2012_republican', 'share_2016_republican']\n",
    "```\n"
   ]
  },
  {
   "cell_type": "markdown",
   "id": "dc4d795d",
   "metadata": {},
   "source": [
    "```\n",
    "## Index(['ALAND', 'AWATER', 'votes_gop', 'diff',\n",
    "##        'Rural-urban_Continuum Code_2003', 'Rural-urban_Continuum Code_2013',\n",
    "##        'Urban_Influence_Code_2013', 'Economic_typology_2015',\n",
    "##        'CENSUS_2010_POP', 'N_POP_CHG_2013',\n",
    "##        ...\n",
    "##        'CI90UBINC_2019', 'candidatevotes_2000_republican',\n",
    "##        'candidatevotes_2004_republican', 'candidatevotes_2008_republican',\n",
    "##        'candidatevotes_2012_republican', 'candidatevotes_2016_republican',\n",
    "##        'share_2000_republican', 'share_2008_republican',\n",
    "##        'share_2012_republican', 'share_2016_republican'],\n",
    "##       dtype='object', length=206)\n",
    "```\n",
    "\n",
    "```\n",
    "## 206\n",
    "```\n",
    "\n",
    "Cela correspond à un modèle avec 206 variables sélectionnées.\n",
    "\n",
    "Dans le cas où le modèle paraîtrait trop peu parcimonieux, il faudrait revoir la phase de définition des variables pertinentes pour comprendre si des échelles différentes de certaines variables ne seraient pas plus appropriées (par exemple du `log`). "
   ]
  }
 ],
 "metadata": {
  "kernelspec": {
   "display_name": "Python 3",
   "language": "python",
   "name": "python3"
  }
 },
 "nbformat": 4,
 "nbformat_minor": 5
}
