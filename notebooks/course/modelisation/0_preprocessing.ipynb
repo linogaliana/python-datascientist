{
 "cells": [
  {
   "cell_type": "markdown",
   "id": "7ed85bc7",
   "metadata": {},
   "source": [
    "#  Préparation des données pour construire un modèle\n",
    "\n"
   ]
  },
  {
   "cell_type": "markdown",
   "id": "ed4b942f",
   "metadata": {},
   "source": [
    "<a href=\"https://github.com/linogaliana/python-datascientist/blob/master//__w/python-datascientist/python-datascientist/notebooks/course/modelisation/0_preprocessing.ipynb\" class=\"github\"><i class=\"fab fa-github\"></i></a>\n",
    "[![Download](https://img.shields.io/badge/Download-Notebook-important?logo=Jupyter)](https://downgit.github.io/#/home?url=https://github.com/linogaliana/python-datascientist/blob/master//__w/python-datascientist/python-datascientist/notebooks/course/modelisation/0_preprocessing.ipynb)\n",
    "[![nbviewer](https://img.shields.io/badge/Visualize-nbviewer-blue?logo=Jupyter)](https://nbviewer.jupyter.org/github/linogaliana/python-datascientist/blob/master//__w/python-datascientist/python-datascientist/notebooks/course/modelisation/0_preprocessing.ipynb)\n",
    "[![Onyxia](https://img.shields.io/badge/SSPcloud-Tester%20via%20SSP--cloud-informational&color=yellow?logo=Python)](https://datalab.sspcloud.fr/launcher/inseefrlab-helm-charts-datascience/jupyter?onyxia.friendlyName=«python-datascientist»&resources.requests.memory=«4Gi»&security.allowlist.enabled=false&init.personalInit=«https://raw.githubusercontent.com/linogaliana/python-datascientist/master/init_onyxia.sh»)\n",
    "[![Binder](https://img.shields.io/badge/Launch-Binder-E66581.svg?logo=data:image/png;base64,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)](https://mybinder.org/v2/gh/linogaliana/python-datascientist/master?filepath=/__w/python-datascientist/python-datascientist/notebooks/course/modelisation/0_preprocessing.ipynb)\n",
    "[![Open In Colab](https://colab.research.google.com/assets/colab-badge.svg)](http://colab.research.google.com/github/linogaliana/python-datascientist/blob/master//__w/python-datascientist/python-datascientist/notebooks/course/modelisation/0_preprocessing.ipynb)\n",
    "[![githubdev](https://open.vscode.dev/badges/open-in-vscode.svg)](https://github.dev/linogaliana/python-datascientist//__w/python-datascientist/python-datascientist/notebooks/course/modelisation/0_preprocessing.ipynb)"
   ]
  },
  {
   "cell_type": "markdown",
   "id": "4ef51d9a",
   "metadata": {},
   "source": [
    "Ce chapitre utilise le jeu de données présenté dans l'[introduction\n",
    "de cette partie](https://linogaliana-teaching.netlify.app/modelisation/):\n",
    "les données de vote aux élections présidentielles US\n",
    "croisées à des variables socio-démographiques. Le code \n",
    "est disponible [sur Github](https://github.com/linogaliana/python-datascientist/blob/master/content/course/modelisation/get_data.py) mais l'exercice 1 permet, à ceux qui le désirent, d'essayer de reproduire la constitution de la base de données. \n",
    "\n",
    "Le guide utilisateur de `scikit` est une référence précieuse,\n",
    "à consulter régulièrement. La partie sur le *preprocessing* est\n",
    "disponible [ici](https://scikit-learn.org/stable/modules/preprocessing.html).\n",
    "\n",
    "Nous verrons dans le chapitre sur les *pipelines* comment industrialiser\n",
    "ces étapes de pré-processing afin de se simplifier la vie pour appliquer\n",
    "un modèle sur un jeu de données différent de celui sur lequel il a été estimé. "
   ]
  },
  {
   "cell_type": "markdown",
   "id": "ead644d0",
   "metadata": {},
   "source": [
    "# Construction de la base de données\n",
    "\n",
    "Les sources étant éclatées, le code pour construire une base combinant toutes ces\n",
    "sources est directement fourni. Le travail de construction d'une base unique\n",
    "est un peu fastidieux mais il s'agit d'un bon exercice, que vous pouvez tenter,\n",
    "pour [réviser `pandas`](#pandas)   :"
   ]
  },
  {
   "cell_type": "markdown",
   "id": "48735acb",
   "metadata": {},
   "source": [
    "**Exercice 1 : Importer les données des élections US** [OPTIONNEL]\n",
    "\n",
    "1. Télécharger et importer le shapefile [depuis ce lien](https://www2.census.gov/geo/tiger/GENZ2019/shp/cb_2019_02_sldl_500k.zip)\n",
    "2. Exclure les Etats suivants: \"02\", \"69\", \"66\", \"78\", \"60\", \"72\", \"15\"\n",
    "3. Importer les résultats des élections depuis [ce lien](https://raw.githubusercontent.com/tonmcg/US_County_Level_Election_Results_08-20/master/2020_US_County_Level_Presidential_Results.csv)\n",
    "4. Importer les bases disponibles sur le site de l'USDA en faisant attention à renommer les variables de code FIPS de manière identique\n",
    "dans les 4 bases\n",
    "5. *Merger* ces 4 bases dans une base unique de caractéristiques socio-économiques\n",
    "6. *Merger* aux données électorales à partir du code FIPS\n",
    "7. *Merger* au shapefile à partir du code FIPS. Faire attention aux 0 à gauche dans certains codes. Il est\n",
    "recommandé d'utiliser la méthode `str.lstrip` pour les retirer\n",
    "8. Importer les données des élections 2000 à 2016 à partir du [MIT Election Lab](https://electionlab.mit.edu/data)?\n",
    "Les données peuvent être directement requêtées depuis l'url\n",
    "<https://dataverse.harvard.edu/api/access/datafile/3641280?gbrecs=false>\n",
    "9. Créer une variable `share` comptabilisant la part des votes pour chaque candidat. \n",
    "Ne garder que les colonnes `\"year\", \"FIPS\", \"party\", \"candidatevotes\", \"share\"`\n",
    "10. Faire une conversion `long` to `wide` avec la méthode `pivot_table` pour garder une ligne\n",
    "par comté x année avec en colonnes les résultats de chaque candidat dans cet état.\n",
    "11. Merger à partir du code FIPS au reste de la base. "
   ]
  },
  {
   "cell_type": "markdown",
   "id": "ce71f66b",
   "metadata": {},
   "source": [
    "Si vous ne faites pas l'exercice 1, pensez à charger les données en executant la fonction `get_data.py` :\n"
   ]
  },
  {
   "cell_type": "code",
   "execution_count": null,
   "id": "87f48dc5",
   "metadata": {},
   "outputs": [],
   "source": [
    "#!pip install geopandas\n",
    "\n",
    "import requests\n",
    "\n",
    "url = 'https://raw.githubusercontent.com/linogaliana/python-datascientist/master/content/course/modelisation/get_data.py'\n",
    "r = requests.get(url, allow_redirects=True)\n",
    "open('getdata.py', 'wb').write(r.content)"
   ]
  },
  {
   "cell_type": "markdown",
   "id": "54bd8913",
   "metadata": {},
   "source": [
    "```\n",
    "## 3585\n",
    "```"
   ]
  },
  {
   "cell_type": "code",
   "execution_count": null,
   "id": "2979369e",
   "metadata": {},
   "outputs": [],
   "source": [
    "import getdata\n",
    "votes = getdata.create_votes_dataframes()"
   ]
  },
  {
   "cell_type": "markdown",
   "id": "1a9fb786",
   "metadata": {},
   "source": [
    "Ce code introduit une base nommée `votes` dans l'environnement. Il s'agit d'une\n",
    "base rassemblant les différentes sources. Elle a l'aspect\n",
    "suivant:\n",
    "\n"
   ]
  },
  {
   "cell_type": "markdown",
   "id": "d3b29af4",
   "metadata": {},
   "source": [
    "La carte choroplèthe suivante permet de visualiser rapidement les résultats\n",
    "(l'Alaska et Hawaï ont été exclus). \n"
   ]
  },
  {
   "cell_type": "code",
   "execution_count": null,
   "id": "20a81f55",
   "metadata": {},
   "outputs": [],
   "source": [
    "import numpy as np\n",
    "import matplotlib.pyplot as plt\n",
    "import seaborn as sns\n",
    "\n",
    "color_dict = {'republican': '#FF0000', 'democrats': '#0000FF'}\n",
    "#votes.plot(column = \"winner\", figsize = (12,12), c=votes['winner'].map(color_dict))\n",
    "\n",
    "fig, ax = plt.subplots(figsize = (12,12))\n",
    "grouped = votes.groupby('winner')\n",
    "for key, group in grouped:\n",
    "    group.plot(ax=ax, column='winner', label=key, color=color_dict[key])\n",
    "plt.axis('off')\n",
    "\n",
    "# plt.show()"
   ]
  },
  {
   "cell_type": "markdown",
   "id": "809e83b4",
   "metadata": {},
   "source": [
    "```\n",
    "## (-127.6146362, -64.0610978, 23.253819649999997, 50.628669349999996)\n",
    "```\n",
    "\n"
   ]
  },
  {
   "cell_type": "markdown",
   "id": "8dd2cf3e",
   "metadata": {},
   "source": [
    "Les cartes choroplèthes peuvent donner une impression fallacieuse ayant servi \n",
    "de justification pour contester les résultats du vote. En effet, un biais\n",
    "connu des représentations choroplèthes est qu'elles donnent une importance\n",
    "visuelle excessive aux grands espaces. Or, ceux-ci sont souvent des espaces\n",
    "peu denses et influencent donc moins la variable d'intérêt (en l'occurrence\n",
    "le taux de vote en faveur des républicains/démocrates). Une représentation à \n",
    "privilégier pour ce type de phénomènes est les ronds proportionnels. \n",
    "\n",
    "Le [GIF \"Land does not vote, people do\"](https://www.core77.com/posts/90771/A-Great-Example-of-Better-Data-Visualization-This-Voting-Map-GIF)\n",
    "qui avait eu un certain succès en 2020 propose un autre mode de visualisation.\n",
    "La carte originale a probablement été construite avec `JavaScript`. Cependant,\n",
    "on dispose avec `Python` pour répliquer, à faible coût, cette approche avec \n",
    "l'une des surcouches à JavaScript vue dans la partie [visualisation](#visualisation). \n",
    "\n",
    "En l'occurrence, on peut utiliser `plotly` pour tenir compte de la population:\n",
    "\n"
   ]
  },
  {
   "cell_type": "code",
   "execution_count": null,
   "id": "af2c9a79",
   "metadata": {},
   "outputs": [],
   "source": [
    "import plotly\n",
    "import plotly.graph_objects as go\n",
    "import pandas as pd\n",
    "\n",
    "\n",
    "centroids = votes.copy()\n",
    "centroids.geometry = centroids.centroid"
   ]
  },
  {
   "cell_type": "markdown",
   "id": "f551e567",
   "metadata": {},
   "source": [
    "```\n",
    "## <string>:1: UserWarning: Geometry is in a geographic CRS. Results from 'centroid' are likely incorrect. Use 'GeoSeries.to_crs()' to re-project geometries to a projected CRS before this operation.\n",
    "```"
   ]
  },
  {
   "cell_type": "code",
   "execution_count": null,
   "id": "d78ba250",
   "metadata": {},
   "outputs": [],
   "source": [
    "centroids['size'] = centroids['CENSUS_2010_POP'] / 10000  # to get reasonable plotable number\n",
    "\n",
    "color_dict = {\"republican\": '#FF0000', 'democrats': '#0000FF'}\n",
    "centroids[\"winner\"] =  np.where(centroids['votes_gop'] > centroids['votes_dem'], 'republican', 'democrats') \n",
    "\n",
    "\n",
    "centroids['lon'] = centroids['geometry'].x\n",
    "centroids['lat'] = centroids['geometry'].y\n",
    "centroids = pd.DataFrame(centroids[[\"county_name\",'lon','lat','winner', 'CENSUS_2010_POP']])\n",
    "groups = centroids.groupby('winner')\n",
    "\n",
    "df = centroids.copy()\n",
    "\n",
    "df['text'] = df[\"county_name\"] + '<br>Population ' + (df['CENSUS_2010_POP']/1e3).astype(str)+' thousands'\n",
    "limits = [\"republican\",\"democrats\"]\n",
    "colors = ['#FF0000', '#0000FF']\n",
    "\n",
    "fig = go.Figure()\n",
    "\n",
    "\n",
    "for i in range(2):\n",
    "    df2 = df[df['winner'].astype(str) == limits[i]]\n",
    "    fig.add_trace(go.Scattergeo(\n",
    "            locationmode = 'USA-states',\n",
    "            lon = df2['lon'],\n",
    "            lat = df2['lat'],\n",
    "            text = df2['text'],\n",
    "            name = 'Winner: {}'.format(limits[i]),\n",
    "            marker = dict(\n",
    "            size = df2['CENSUS_2010_POP']/6000,\n",
    "            color = colors[i],\n",
    "            opacity=0.5,\n",
    "            line_color='rgb(40,40,40)',\n",
    "            line_width=0.5,\n",
    "            sizemode = 'area'\n",
    "            )))"
   ]
  },
  {
   "cell_type": "markdown",
   "id": "e324b54d",
   "metadata": {},
   "source": [
    "```\n",
    "## Figure({\n",
    "##     'data': [{'lat': array([40.47945588, 40.17636348, 42.2276921 , ..., 31.31996348, 30.57933681,\n",
    "##                             31.02539637]),\n",
    "##               'locationmode': 'USA-states',\n",
    "##               'lon': array([-94.42328751, -98.95299073, -79.36691763, ..., -95.42101018,\n",
    "##                             -95.16260304, -96.51272246]),\n",
    "##               'marker': {'color': '#FF0000',\n",
    "##                          'line': {'color': 'rgb(40,40,40)', 'width': 0.5},\n",
    "##                          'opacity': 0.5,\n",
    "##                          'size': array([ 0.36183333,  0.5375    , 22.48416667, ...,  3.95533333,  4.39733333,\n",
    "##                                          2.77033333]),\n",
    "##                          'sizemode': 'area'},\n",
    "##               'name': 'Winner: republican',\n",
    "##               'text': array(['Worth County<br>Population 2.171 thousands',\n",
    "##                              'Franklin County<br>Population 3.225 thousands',\n",
    "##                              'Chautauqua County<br>Population 134.905 thousands', ...,\n",
    "##                              'Houston County<br>Population 23.732 thousands',\n",
    "##                              'San Jacinto County<br>Population 26.384 thousands',\n",
    "##                              'Robertson County<br>Population 16.622 thousands'], dtype=object),\n",
    "##               'type': 'scattergeo'}],\n",
    "##     'layout': {'template': '...'}\n",
    "## })\n",
    "## Figure({\n",
    "##     'data': [{'lat': array([40.47945588, 40.17636348, 42.2276921 , ..., 31.31996348, 30.57933681,\n",
    "##                             31.02539637]),\n",
    "##               'locationmode': 'USA-states',\n",
    "##               'lon': array([-94.42328751, -98.95299073, -79.36691763, ..., -95.42101018,\n",
    "##                             -95.16260304, -96.51272246]),\n",
    "##               'marker': {'color': '#FF0000',\n",
    "##                          'line': {'color': 'rgb(40,40,40)', 'width': 0.5},\n",
    "##                          'opacity': 0.5,\n",
    "##                          'size': array([ 0.36183333,  0.5375    , 22.48416667, ...,  3.95533333,  4.39733333,\n",
    "##                                          2.77033333]),\n",
    "##                          'sizemode': 'area'},\n",
    "##               'name': 'Winner: republican',\n",
    "##               'text': array(['Worth County<br>Population 2.171 thousands',\n",
    "##                              'Franklin County<br>Population 3.225 thousands',\n",
    "##                              'Chautauqua County<br>Population 134.905 thousands', ...,\n",
    "##                              'Houston County<br>Population 23.732 thousands',\n",
    "##                              'San Jacinto County<br>Population 26.384 thousands',\n",
    "##                              'Robertson County<br>Population 16.622 thousands'], dtype=object),\n",
    "##               'type': 'scattergeo'},\n",
    "##              {'lat': array([36.3688136 , 41.67107032, 38.17359144, ..., 48.0512126 , 26.15184659,\n",
    "##                             34.78498904]),\n",
    "##               'locationmode': 'USA-states',\n",
    "##               'lon': array([ -78.40671176,  -71.57640323, -104.51274366, ..., -123.92757755,\n",
    "##                              -80.48724514,  -90.78383866]),\n",
    "##               'marker': {'color': '#0000FF',\n",
    "##                          'line': {'color': 'rgb(40,40,40)', 'width': 0.5},\n",
    "##                          'opacity': 0.5,\n",
    "##                          'size': array([  7.57033333,  27.693     ,  26.5105    , ...,  11.90066667,\n",
    "##                                         291.34433333,   1.73733333]),\n",
    "##                          'sizemode': 'area'},\n",
    "##               'name': 'Winner: democrats',\n",
    "##               'text': array(['Vance County<br>Population 45.422 thousands',\n",
    "##                              'Kent County<br>Population 166.158 thousands',\n",
    "##                              'Pueblo County<br>Population 159.063 thousands', ...,\n",
    "##                              'Clallam County<br>Population 71.404 thousands',\n",
    "##                              'Broward County<br>Population 1748.066 thousands',\n",
    "##                              'Lee County<br>Population 10.424 thousands'], dtype=object),\n",
    "##               'type': 'scattergeo'}],\n",
    "##     'layout': {'template': '...'}\n",
    "## })\n",
    "```"
   ]
  },
  {
   "cell_type": "code",
   "execution_count": null,
   "id": "55c29526",
   "metadata": {},
   "outputs": [],
   "source": [
    "fig.update_layout(\n",
    "        title_text = \"Reproduction of the \\\"Acres don't vote, people do\\\" map <br>(Click legend to toggle traces)\",\n",
    "        showlegend = True,\n",
    "        geo = dict(\n",
    "            scope = 'usa',\n",
    "            landcolor = 'rgb(217, 217, 217)',\n",
    "        )\n",
    "    )"
   ]
  },
  {
   "cell_type": "markdown",
   "id": "405df254",
   "metadata": {},
   "source": [
    "```\n",
    "## Figure({\n",
    "##     'data': [{'lat': array([40.47945588, 40.17636348, 42.2276921 , ..., 31.31996348, 30.57933681,\n",
    "##                             31.02539637]),\n",
    "##               'locationmode': 'USA-states',\n",
    "##               'lon': array([-94.42328751, -98.95299073, -79.36691763, ..., -95.42101018,\n",
    "##                             -95.16260304, -96.51272246]),\n",
    "##               'marker': {'color': '#FF0000',\n",
    "##                          'line': {'color': 'rgb(40,40,40)', 'width': 0.5},\n",
    "##                          'opacity': 0.5,\n",
    "##                          'size': array([ 0.36183333,  0.5375    , 22.48416667, ...,  3.95533333,  4.39733333,\n",
    "##                                          2.77033333]),\n",
    "##                          'sizemode': 'area'},\n",
    "##               'name': 'Winner: republican',\n",
    "##               'text': array(['Worth County<br>Population 2.171 thousands',\n",
    "##                              'Franklin County<br>Population 3.225 thousands',\n",
    "##                              'Chautauqua County<br>Population 134.905 thousands', ...,\n",
    "##                              'Houston County<br>Population 23.732 thousands',\n",
    "##                              'San Jacinto County<br>Population 26.384 thousands',\n",
    "##                              'Robertson County<br>Population 16.622 thousands'], dtype=object),\n",
    "##               'type': 'scattergeo'},\n",
    "##              {'lat': array([36.3688136 , 41.67107032, 38.17359144, ..., 48.0512126 , 26.15184659,\n",
    "##                             34.78498904]),\n",
    "##               'locationmode': 'USA-states',\n",
    "##               'lon': array([ -78.40671176,  -71.57640323, -104.51274366, ..., -123.92757755,\n",
    "##                              -80.48724514,  -90.78383866]),\n",
    "##               'marker': {'color': '#0000FF',\n",
    "##                          'line': {'color': 'rgb(40,40,40)', 'width': 0.5},\n",
    "##                          'opacity': 0.5,\n",
    "##                          'size': array([  7.57033333,  27.693     ,  26.5105    , ...,  11.90066667,\n",
    "##                                         291.34433333,   1.73733333]),\n",
    "##                          'sizemode': 'area'},\n",
    "##               'name': 'Winner: democrats',\n",
    "##               'text': array(['Vance County<br>Population 45.422 thousands',\n",
    "##                              'Kent County<br>Population 166.158 thousands',\n",
    "##                              'Pueblo County<br>Population 159.063 thousands', ...,\n",
    "##                              'Clallam County<br>Population 71.404 thousands',\n",
    "##                              'Broward County<br>Population 1748.066 thousands',\n",
    "##                              'Lee County<br>Population 10.424 thousands'], dtype=object),\n",
    "##               'type': 'scattergeo'}],\n",
    "##     'layout': {'geo': {'landcolor': 'rgb(217, 217, 217)', 'scope': 'usa'},\n",
    "##                'showlegend': True,\n",
    "##                'template': '...',\n",
    "##                'title': {'text': ('Reproduction of the \"Acres don' ... 'Click legend to toggle traces)')}}\n",
    "## })\n",
    "```\n",
    "\n",
    "\n",
    "\n"
   ]
  },
  {
   "cell_type": "markdown",
   "id": "e3b76429",
   "metadata": {},
   "source": [
    "## Explorer la structure des données\n",
    "\n",
    "La première étape nécessaire à suivre avant de se lancer dans la modélisation\n",
    "est de déterminer les variables à inclure dans le modèle.\n",
    "\n",
    "Les fonctionnalités de `pandas` sont, à ce niveau, suffisantes pour explorer des structures simples. Néanmoins, lorsqu'on est face à un jeu de données présentant de nombreuses variables explicatives (*features* en machine learning, *covariates* en économétrie), il est souvent judicieux d'avoir une première étape de sélection de variable, ce que nous verrons par la suite dans la [partie dédiée](https://linogaliana-teaching.netlify.app/lasso/).  \n",
    "\n",
    "Avant d'être en mesure de sélectionner le meilleur ensemble de variables explicatives, nous allons en prendre un nombre restreint et arbitraire. La première tâche est de représenter les relations entre les données, notamment la relation des variables explicatives à la variable dépendante (le score du parti républicain) ainsi que les relations entre les variables explicatives. "
   ]
  },
  {
   "cell_type": "markdown",
   "id": "9fc6c5a0",
   "metadata": {},
   "source": [
    "**Exercice 2 : Regarder les corrélations entre les variables**\n",
    "\n",
    "1. Créer un DataFrame `df2` plus petit avec les variables `winner` et \n",
    "`votes_gop`, `Unemployment_rate_2019`,\n",
    "`Median_Household_Income_2019`,\n",
    "`Percent of adults with less than a high school diploma, 2015-19`,\n",
    "`Percent of adults with a bachelor's degree or higher, 2015-19`\n"
   ]
  },
  {
   "cell_type": "markdown",
   "id": "e6465f93",
   "metadata": {},
   "source": [
    "2. Représenter grâce à un graphique la matrice de corrélation avec `heatmap` de `seaborn`.\n"
   ]
  },
  {
   "cell_type": "markdown",
   "id": "b1a972ab",
   "metadata": {},
   "source": [
    "Elle aura l'aspect suivant:"
   ]
  },
  {
   "cell_type": "markdown",
   "id": "91ffacf0",
   "metadata": {},
   "source": [
    "3. Choisir quelques variables (pas plus de 4 ou 5) et représenter une matrice de nuages de points\n",
    "\n",
    "\n"
   ]
  },
  {
   "cell_type": "markdown",
   "id": "07e45c09",
   "metadata": {},
   "source": [
    "4. (optionnel) Refaire ces figures avec `plotly` qui offre également la possibilité de faire une matrice de corrélation. Le résultat devrait ressembler au graphique suivant :\n",
    " \n",
    "\n",
    "\n",
    "\n",
    "\n"
   ]
  },
  {
   "cell_type": "markdown",
   "id": "d9d2ec9b",
   "metadata": {},
   "source": [
    "## Transformer les données\n",
    "\n",
    "Les différences d'échelle ou de distribution entre les variables peuvent \n",
    "diverger des hypothèses sous-jacentes dans les modèles.\n",
    "\n",
    "Par exemple, dans le cadre\n",
    "de la régression linéaire, les variables catégorielles ne sont pas traitées à la même\n",
    "enseigne que les variables ayant valeur dans $\\mathbb{R}$. Une variable\n",
    "discrète (prenant un nombre fini de valeurs) devra être transformées en suite de\n",
    "variables 0/1 par rapport à une modalité de référence pour être en adéquation\n",
    "avec les hypothèses de la régression linéaire. On appelle ce type de transformation\n",
    "*one-hot encoding*, sur lequel nous reviendrons. Il s'agit d'une transformation,\n",
    "parmi d'autres, disponibles dans `scikit` pour mettre en adéquation un jeu de\n",
    "données et des hypothèses mathématiques. \n",
    "\n",
    "L'ensemble de ces tâches s'appelle le *preprocessing*. L'un des intérêts\n",
    "d'utiliser `scikit` est qu'on peut considérer qu'une tâche de preprocessing\n",
    "est une tâche d'apprentissage (on apprend des paramètres d'une structure \n",
    "de données) qui est réutilisable pour un jeu de données à la structure\n",
    "similaire:\n"
   ]
  },
  {
   "cell_type": "markdown",
   "id": "da0b74b8",
   "metadata": {},
   "source": [
    "### Standardisation\n",
    "\n",
    "La standardisation consiste à transformer des données pour que la distribution empirique suive une loi $\\mathcal{N}(0,1)$. Pour être performants, la plupart des modèles de machine learning nécessitent souvent d'avoir des données dans cette distribution.\n",
    "\n",
    "Pour un statisticien, le terme `normalization` dans le vocable `scikit` peut avoir un sens contre-intuitif. On s'attendrait à ce que la normalisation consiste à transformer une variable de manière à ce que $X \\sim \\mathcal{N}(0,1)$. C'est, en fait, la **standardisation** en `scikit`. \n",
    "\n",
    "La **normalisation** consiste à modifier les données de manière à avoir une norme unitaire. La raison est expliquée plus bas."
   ]
  },
  {
   "cell_type": "markdown",
   "id": "b45efee2",
   "metadata": {},
   "source": [
    "**Exercice 3: Standardisation**\n",
    "\n",
    "1. Standardiser la variable `Median_Household_Income_2019` (ne pas écraser les valeurs !) et regarder l'histogramme avant/après normalisation.\n",
    "\n"
   ]
  },
  {
   "cell_type": "markdown",
   "id": "5a28a61d",
   "metadata": {},
   "source": [
    "*Note : On obtient bien une distribution centrée à zéro et on pourrait vérifier que la variance empirique soit bien égale à 1. On pourrait aussi vérifier que ceci est vrai également quand on transforme plusieurs colonnes à la fois.*"
   ]
  },
  {
   "cell_type": "markdown",
   "id": "4eef68db",
   "metadata": {},
   "source": [
    "2. Créer `scaler`, un `Transformer` que vous construisez sur les 1000 premières lignes de votre DataFrame. Vérifier la moyenne et l'écart-type de chaque colonne sur ces mêmes observations.\n",
    "\n"
   ]
  },
  {
   "cell_type": "markdown",
   "id": "2ecdaa40",
   "metadata": {},
   "source": [
    "*Note : Les paramètres qui seront utilisés pour une standardisation ultérieure sont stockés dans les attributs `.mean_` et `.scale_`*\n"
   ]
  },
  {
   "cell_type": "markdown",
   "id": "4d284e9f",
   "metadata": {},
   "source": [
    "On peut voir ces attributs comme des paramètres entraînés sur un certain jeu de\n",
    "données et qu'on peut réutiliser sur un autre, à condition que les\n",
    "dimensions coïncident.\n",
    "\n",
    "3. Appliquer `scaler` sur les autres lignes du DataFrame et comparer les distributions obtenues de la variable `Median_Household_Income_2019`.\n",
    "\n",
    "\n"
   ]
  },
  {
   "cell_type": "markdown",
   "id": "6265a67e",
   "metadata": {},
   "source": [
    "*Note : Une fois appliqués à un autre `DataFrame`, on peut remarquer que la distribution n'est pas exactement centrée-réduite dans le `DataFrame` sur lequel les paramètres n'ont pas été estimés. C'est normal, l'échantillon initial n'était pas aléatoire, les moyennes et variances de cet échantillon n'ont pas de raison de coïncider avec les moments de l'échantillon complet.*\n",
    "\n",
    "\n",
    "\n",
    "\n",
    "\n",
    "\n",
    "\n",
    "\n",
    " \n",
    "\n"
   ]
  },
  {
   "cell_type": "markdown",
   "id": "5d830f0b",
   "metadata": {},
   "source": [
    "### Normalisation\n",
    "\n",
    "La **normalisation** est l'action de transformer les données de manière à obtenir une norme ($\\mathcal{l}_1$ ou $\\mathcal{l}_2$) unitaire. Autrement dit, avec la norme adéquate, la somme des éléments est égale à 1. Par défaut, la norme est dans $\\mathcal{l}_2$. Cette transformation est particulièrement utilisée en classification de texte ou pour effectuer du *clustering*."
   ]
  },
  {
   "cell_type": "markdown",
   "id": "2ee6c547",
   "metadata": {},
   "source": [
    "**Exercice 4 : Normalisation**\n",
    "\n",
    "1. Normaliser la variable `Median_Household_Income_2019` (ne pas écraser les valeurs !) et regarder l'histogramme avant/après normalisation.\n",
    "\n",
    "\n"
   ]
  },
  {
   "cell_type": "markdown",
   "id": "67c5dfde",
   "metadata": {},
   "source": [
    "2. Vérifier que la norme $\\mathcal{l}_2$ est bien égale à 1.\n",
    "\n",
    "\n",
    "\n",
    "\n",
    "\n"
   ]
  },
  {
   "cell_type": "markdown",
   "id": "734637d6",
   "metadata": {},
   "source": [
    "` preprocessing.Normalizer` n'accepte pas les valeurs manquantes, alors que `preprocessing.StandardScaler()` s'en accomode (dans la version `0.22` de scikit). Pour pouvoir aisément appliquer le *normalizer*, il faut\n",
    "\n",
    "* retirer les valeurs manquantes du DataFrame avec la méthode `dropna`: `df.dropna(how = \"any\")`;\n",
    "* ou les imputer avec un modèle adéquat. [`scikit` permet de le faire](https://scikit-learn.org/stable/modules/preprocessing.html#imputation-of-missing-values).\n",
    "\n",
    "### Encodage des valeurs catégorielles\n",
    "\n",
    "Les données catégorielles doivent être recodées sous forme de valeurs numériques pour être intégrables dans le cadre d'un modèle. Cela peut être fait de plusieurs manières :\n",
    "\n",
    "* `LabelEncoder`: transforme un vecteur `[\"a\",\"b\",\"c\"]` en vecteur numérique `[0,1,2]`. Cette approche a l'inconvénient d'introduire un ordre dans les modalités, ce qui n'est pas toujours souhaitable\n",
    "\n",
    "* `OrdinalEncoder`: une version généralisée du `LabelEncoder` qui a vocation à s'appliquer sur des matrices ($X$), alors que `LabelEncoder` est plutôt pour un vecteur ($y$)\n",
    "\n",
    "* `pandas.get_dummies` effectue une opération de *dummy expansion*. Un vecteur de taille *n* avec *K* catégories sera transformé en matrice de taille $n \\times K$ pour lequel chaque colonne sera une variable *dummy* pour la modalité *k*. Il y a ici $K$ modalités et il y a donc multicollinéarité. Avec une régression linéaire avec constante, il convient de retirer une modalité avant l'estimation.\n",
    "\n",
    "* `OneHotEncoder` est une version généralisée (et optimisée) de la *dummy expansion*. Il a plutôt vocation à s'appliquer sur les *features* ($X$) du modèle"
   ]
  },
  {
   "cell_type": "markdown",
   "id": "cba64759",
   "metadata": {},
   "source": [
    "**Exercice 5 : Encoder des variables catégorielles**\n",
    "\n",
    "1. Créer `df` qui conserve uniquement les variables `state_name` et `county_name` dans `votes`.\n"
   ]
  },
  {
   "cell_type": "markdown",
   "id": "bb51c6aa",
   "metadata": {},
   "source": [
    "2. Appliquer à `state_name` un `LabelEncoder`\n"
   ]
  },
  {
   "cell_type": "markdown",
   "id": "6397e447",
   "metadata": {},
   "source": [
    "*Note : Le résultat du label encoding est relativement intuitif, notamment quand on le met en relation avec le vecteur initial.*\n",
    "\n",
    "3. Regarder la *dummy expansion* de `state_name`\n"
   ]
  },
  {
   "cell_type": "markdown",
   "id": "ff2e509b",
   "metadata": {},
   "source": [
    "4. Appliquer un `OrdinalEncoder` à `df[['state_name', 'county_name']]`\n",
    "\n"
   ]
  },
  {
   "cell_type": "markdown",
   "id": "88a26f9c",
   "metadata": {},
   "source": [
    "*Note : Le résultat du *ordinal encoding* est cohérent avec celui du label encoding*\n",
    "\n",
    "5. Appliquer un `OneHotEncoder` à `df[['state_name', 'county_name']]`\n"
   ]
  },
  {
   "cell_type": "markdown",
   "id": "f093fbde",
   "metadata": {},
   "source": [
    "*Note : `scikit` optimise l'objet nécessaire pour stocker le résultat d'un modèle de transformation. Par exemple, le résultat de l'encoding One Hot est un objet très volumineux. Dans ce cas, scikit utilise une matrice Sparse.*\n",
    "\n"
   ]
  }
 ],
 "metadata": {
  "kernelspec": {
   "display_name": "Python 3",
   "language": "python",
   "name": "python3"
  }
 },
 "nbformat": 4,
 "nbformat_minor": 5
}
