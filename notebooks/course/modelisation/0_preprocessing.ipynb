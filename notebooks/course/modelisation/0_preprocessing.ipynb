{
 "cells": [
  {
   "cell_type": "markdown",
   "id": "9efbf761",
   "metadata": {},
   "source": [
    "#  Préparation des données pour construire un modèle\n",
    "\n"
   ]
  },
  {
   "cell_type": "markdown",
   "id": "2a1e4fec",
   "metadata": {},
   "source": [
    "<a href=\"https://github.com/linogaliana/python-datascientist/blob/master//__w/python-datascientist/python-datascientist/notebooks/course/modelisation/0_preprocessing.ipynb\" class=\"github\"><i class=\"fab fa-github\"></i></a>\n",
    "[![Download](https://img.shields.io/badge/Download-Notebook-important?logo=Jupyter)](https://downgit.github.io/#/home?url=https://github.com/linogaliana/python-datascientist/blob/master//__w/python-datascientist/python-datascientist/notebooks/course/modelisation/0_preprocessing.ipynb)\n",
    "[![nbviewer](https://img.shields.io/badge/Visualize-nbviewer-blue?logo=Jupyter)](https://nbviewer.jupyter.org/github/linogaliana/python-datascientist/blob/master//__w/python-datascientist/python-datascientist/notebooks/course/modelisation/0_preprocessing.ipynb)\n",
    "[![Onyxia](https://img.shields.io/badge/SSPcloud-Tester%20via%20SSP--cloud-informational&color=yellow?logo=Python)](https://datalab.sspcloud.fr/launcher/inseefrlab-helm-charts-datascience/jupyter?autoLaunch=true&onyxia.friendlyName=%C2%ABpython-datascience%C2%BB&init.personalInit=%C2%ABhttps%3A%2F%2Fraw.githubusercontent.com%2Flinogaliana%2Fpython-datascientist%2Fmaster%2Fsspcloud%2Finit-jupyter.sh%C2%BB&init.personalInitArgs=%C2%ABmodelisation%200_preprocessing%C2%BB&security.allowlist.enabled=false)\n",
    "<br>\n",
    "[![Binder](https://img.shields.io/badge/Launch-Binder-E66581.svg?logo=data:image/png;base64,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)](https://mybinder.org/v2/gh/linogaliana/python-datascientist/master?filepath=/__w/python-datascientist/python-datascientist/notebooks/course/modelisation/0_preprocessing.ipynb)\n",
    "[![Open In Colab](https://colab.research.google.com/assets/colab-badge.svg)](http://colab.research.google.com/github/linogaliana/python-datascientist/blob/master//__w/python-datascientist/python-datascientist/notebooks/course/modelisation/0_preprocessing.ipynb)\n",
    "[![githubdev](https://open.vscode.dev/badges/open-in-vscode.svg)](https://github.dev/linogaliana/python-datascientist//__w/python-datascientist/python-datascientist/notebooks/course/modelisation/0_preprocessing.ipynb)"
   ]
  },
  {
   "cell_type": "markdown",
   "id": "15148509",
   "metadata": {},
   "source": [
    "Ce chapitre utilise le jeu de données présenté dans l'[introduction\n",
    "de cette partie](https://linogaliana-teaching.netlify.app/modelisation/):\n",
    "les données de vote aux élections présidentielles US\n",
    "croisées à des variables socio-démographiques. Le code \n",
    "est disponible [sur Github](https://github.com/linogaliana/python-datascientist/blob/master/content/course/modelisation/get_data.py) mais l'exercice 1 permet, à ceux qui le désirent, d'essayer de reproduire la constitution de la base de données. \n",
    "\n",
    "Le guide utilisateur de `scikit` est une référence précieuse,\n",
    "à consulter régulièrement. La partie sur le *preprocessing* est\n",
    "disponible [ici](https://scikit-learn.org/stable/modules/preprocessing.html).\n",
    "\n",
    "Nous verrons dans le chapitre sur les *pipelines* comment industrialiser\n",
    "ces étapes de pré-processing afin de se simplifier la vie pour appliquer\n",
    "un modèle sur un jeu de données différent de celui sur lequel il a été estimé. "
   ]
  },
  {
   "cell_type": "markdown",
   "id": "e085f573",
   "metadata": {},
   "source": [
    "# Construction de la base de données\n",
    "\n",
    "Les sources étant éclatées, le code pour construire une base combinant toutes ces\n",
    "sources est directement fourni. Le travail de construction d'une base unique\n",
    "est un peu fastidieux mais il s'agit d'un bon exercice, que vous pouvez tenter,\n",
    "pour [réviser `pandas`](#pandas)   :"
   ]
  },
  {
   "cell_type": "markdown",
   "id": "99d698f5",
   "metadata": {},
   "source": [
    "**Exercice 1 : Importer les données des élections US** [OPTIONNEL]\n",
    "\n",
    "1. Télécharger et importer le shapefile [depuis ce lien](https://www2.census.gov/geo/tiger/GENZ2019/shp/cb_2019_02_sldl_500k.zip)\n",
    "2. Exclure les Etats suivants: \"02\", \"69\", \"66\", \"78\", \"60\", \"72\", \"15\"\n",
    "3. Importer les résultats des élections depuis [ce lien](https://raw.githubusercontent.com/tonmcg/US_County_Level_Election_Results_08-20/master/2020_US_County_Level_Presidential_Results.csv)\n",
    "4. Importer les bases disponibles sur le site de l'USDA en faisant attention à renommer les variables de code FIPS de manière identique\n",
    "dans les 4 bases\n",
    "5. *Merger* ces 4 bases dans une base unique de caractéristiques socio-économiques\n",
    "6. *Merger* aux données électorales à partir du code FIPS\n",
    "7. *Merger* au shapefile à partir du code FIPS. Faire attention aux 0 à gauche dans certains codes. Il est\n",
    "recommandé d'utiliser la méthode `str.lstrip` pour les retirer\n",
    "8. Importer les données des élections 2000 à 2016 à partir du [MIT Election Lab](https://electionlab.mit.edu/data)?\n",
    "Les données peuvent être directement requêtées depuis l'url\n",
    "<https://dataverse.harvard.edu/api/access/datafile/3641280?gbrecs=false>\n",
    "9. Créer une variable `share` comptabilisant la part des votes pour chaque candidat. \n",
    "Ne garder que les colonnes `\"year\", \"FIPS\", \"party\", \"candidatevotes\", \"share\"`\n",
    "10. Faire une conversion `long` to `wide` avec la méthode `pivot_table` pour garder une ligne\n",
    "par comté x année avec en colonnes les résultats de chaque candidat dans cet état.\n",
    "11. Merger à partir du code FIPS au reste de la base. "
   ]
  },
  {
   "cell_type": "markdown",
   "id": "382cbc94",
   "metadata": {},
   "source": [
    "Si vous ne faites pas l'exercice 1, pensez à charger les données en executant la fonction `get_data.py` :\n"
   ]
  },
  {
   "cell_type": "code",
   "execution_count": null,
   "id": "db3638f7",
   "metadata": {},
   "outputs": [],
   "source": [
    "#!pip install geopandas\n",
    "\n",
    "import requests\n",
    "\n",
    "url = 'https://raw.githubusercontent.com/linogaliana/python-datascientist/master/content/course/modelisation/get_data.py'\n",
    "r = requests.get(url, allow_redirects=True)\n",
    "open('getdata.py', 'wb').write(r.content)"
   ]
  },
  {
   "cell_type": "markdown",
   "id": "2fe7df4d",
   "metadata": {},
   "source": [
    "```\n",
    "## 3585\n",
    "```"
   ]
  },
  {
   "cell_type": "code",
   "execution_count": null,
   "id": "021f638b",
   "metadata": {},
   "outputs": [],
   "source": [
    "import getdata\n",
    "votes = getdata.create_votes_dataframes()"
   ]
  },
  {
   "cell_type": "markdown",
   "id": "0b27494a",
   "metadata": {},
   "source": [
    "```\n",
    "## Error in py_call_impl(callable, dots$args, dots$keywords): AttributeError: module 'getdata' has no attribute 'create_votes_dataframes'\n",
    "## \n",
    "## Detailed traceback: \n",
    "##   File \"<string>\", line 1, in <module>\n",
    "```\n",
    "\n",
    "Ce code introduit une base nommée `votes` dans l'environnement. Il s'agit d'une\n",
    "base rassemblant les différentes sources. Elle a l'aspect\n",
    "suivant:\n",
    "\n"
   ]
  },
  {
   "cell_type": "markdown",
   "id": "c88a4465",
   "metadata": {},
   "source": [
    "La carte choroplèthe suivante permet de visualiser rapidement les résultats\n",
    "(l'Alaska et Hawaï ont été exclus). \n"
   ]
  },
  {
   "cell_type": "code",
   "execution_count": null,
   "id": "1c8206d3",
   "metadata": {},
   "outputs": [],
   "source": [
    "import numpy as np\n",
    "import matplotlib.pyplot as plt\n",
    "import seaborn as sns\n",
    "\n",
    "color_dict = {'republican': '#FF0000', 'democrats': '#0000FF'}\n",
    "#votes.plot(column = \"winner\", figsize = (12,12), c=votes['winner'].map(color_dict))\n",
    "\n",
    "fig, ax = plt.subplots(figsize = (12,12))\n",
    "grouped = votes.groupby('winner')"
   ]
  },
  {
   "cell_type": "markdown",
   "id": "679622bd",
   "metadata": {},
   "source": [
    "```\n",
    "## Error in py_call_impl(callable, dots$args, dots$keywords): NameError: name 'votes' is not defined\n",
    "## \n",
    "## Detailed traceback: \n",
    "##   File \"<string>\", line 1, in <module>\n",
    "```"
   ]
  },
  {
   "cell_type": "code",
   "execution_count": null,
   "id": "5c0d31e4",
   "metadata": {},
   "outputs": [],
   "source": [
    "for key, group in grouped:\n",
    "    group.plot(ax=ax, column='winner', label=key, color=color_dict[key])"
   ]
  },
  {
   "cell_type": "markdown",
   "id": "3ef0984f",
   "metadata": {},
   "source": [
    "```\n",
    "## Error in py_call_impl(callable, dots$args, dots$keywords): NameError: name 'grouped' is not defined\n",
    "## \n",
    "## Detailed traceback: \n",
    "##   File \"<string>\", line 1, in <module>\n",
    "```"
   ]
  },
  {
   "cell_type": "code",
   "execution_count": null,
   "id": "1fffe70f",
   "metadata": {},
   "outputs": [],
   "source": [
    "plt.axis('off')\n",
    "\n",
    "# plt.show()"
   ]
  },
  {
   "cell_type": "markdown",
   "id": "828ba24f",
   "metadata": {},
   "source": [
    "```\n",
    "## (0.0, 1.0, 0.0, 1.0)\n",
    "```\n",
    "\n"
   ]
  },
  {
   "cell_type": "markdown",
   "id": "3d053e54",
   "metadata": {},
   "source": [
    "Les cartes choroplèthes peuvent donner une impression fallacieuse ayant servi \n",
    "de justification pour contester les résultats du vote. En effet, un biais\n",
    "connu des représentations choroplèthes est qu'elles donnent une importance\n",
    "visuelle excessive aux grands espaces. Or, ceux-ci sont souvent des espaces\n",
    "peu denses et influencent donc moins la variable d'intérêt (en l'occurrence\n",
    "le taux de vote en faveur des républicains/démocrates). Une représentation à \n",
    "privilégier pour ce type de phénomènes est les ronds proportionnels. \n",
    "\n",
    "Le [GIF \"Land does not vote, people do\"](https://www.core77.com/posts/90771/A-Great-Example-of-Better-Data-Visualization-This-Voting-Map-GIF)\n",
    "qui avait eu un certain succès en 2020 propose un autre mode de visualisation.\n",
    "La carte originale a probablement été construite avec `JavaScript`. Cependant,\n",
    "on dispose avec `Python` pour répliquer, à faible coût, cette approche avec \n",
    "l'une des surcouches à JavaScript vue dans la partie [visualisation](#visualisation). \n",
    "\n",
    "En l'occurrence, on peut utiliser `plotly` pour tenir compte de la population:"
   ]
  },
  {
   "cell_type": "markdown",
   "id": "a4e033e4",
   "metadata": {},
   "source": [
    "La Figure a été obtenue avec le code suivant:\n"
   ]
  },
  {
   "cell_type": "code",
   "execution_count": null,
   "id": "e991eaeb",
   "metadata": {},
   "outputs": [],
   "source": [
    "import plotly\n",
    "import plotly.graph_objects as go\n",
    "import pandas as pd\n",
    "import geopandas as gpd\n",
    "\n",
    "\n",
    "centroids = votes.copy()"
   ]
  },
  {
   "cell_type": "markdown",
   "id": "149e1a38",
   "metadata": {},
   "source": [
    "```\n",
    "## Error in py_call_impl(callable, dots$args, dots$keywords): NameError: name 'votes' is not defined\n",
    "## \n",
    "## Detailed traceback: \n",
    "##   File \"<string>\", line 1, in <module>\n",
    "```"
   ]
  },
  {
   "cell_type": "code",
   "execution_count": null,
   "id": "2a06ed6a",
   "metadata": {},
   "outputs": [],
   "source": [
    "centroids.geometry = centroids.centroid"
   ]
  },
  {
   "cell_type": "markdown",
   "id": "483dd4cc",
   "metadata": {},
   "source": [
    "```\n",
    "## Error in py_call_impl(callable, dots$args, dots$keywords): NameError: name 'centroids' is not defined\n",
    "## \n",
    "## Detailed traceback: \n",
    "##   File \"<string>\", line 1, in <module>\n",
    "```"
   ]
  },
  {
   "cell_type": "code",
   "execution_count": null,
   "id": "ecc76939",
   "metadata": {},
   "outputs": [],
   "source": [
    "centroids['size'] = centroids['CENSUS_2010_POP'] / 10000  # to get reasonable plotable number"
   ]
  },
  {
   "cell_type": "markdown",
   "id": "e7449337",
   "metadata": {},
   "source": [
    "```\n",
    "## Error in py_call_impl(callable, dots$args, dots$keywords): NameError: name 'centroids' is not defined\n",
    "## \n",
    "## Detailed traceback: \n",
    "##   File \"<string>\", line 1, in <module>\n",
    "```"
   ]
  },
  {
   "cell_type": "code",
   "execution_count": null,
   "id": "da215e3d",
   "metadata": {},
   "outputs": [],
   "source": [
    "color_dict = {\"republican\": '#FF0000', 'democrats': '#0000FF'}\n",
    "centroids[\"winner\"] =  np.where(centroids['votes_gop'] > centroids['votes_dem'], 'republican', 'democrats') \n"
   ]
  },
  {
   "cell_type": "markdown",
   "id": "f68cee88",
   "metadata": {},
   "source": [
    "```\n",
    "## Error in py_call_impl(callable, dots$args, dots$keywords): NameError: name 'centroids' is not defined\n",
    "## \n",
    "## Detailed traceback: \n",
    "##   File \"<string>\", line 1, in <module>\n",
    "```"
   ]
  },
  {
   "cell_type": "code",
   "execution_count": null,
   "id": "ca7f351c",
   "metadata": {},
   "outputs": [],
   "source": [
    "centroids['lon'] = centroids['geometry'].x"
   ]
  },
  {
   "cell_type": "markdown",
   "id": "b8eb176e",
   "metadata": {},
   "source": [
    "```\n",
    "## Error in py_call_impl(callable, dots$args, dots$keywords): NameError: name 'centroids' is not defined\n",
    "## \n",
    "## Detailed traceback: \n",
    "##   File \"<string>\", line 1, in <module>\n",
    "```"
   ]
  },
  {
   "cell_type": "code",
   "execution_count": null,
   "id": "10e47f07",
   "metadata": {},
   "outputs": [],
   "source": [
    "centroids['lat'] = centroids['geometry'].y"
   ]
  },
  {
   "cell_type": "markdown",
   "id": "a344c223",
   "metadata": {},
   "source": [
    "```\n",
    "## Error in py_call_impl(callable, dots$args, dots$keywords): NameError: name 'centroids' is not defined\n",
    "## \n",
    "## Detailed traceback: \n",
    "##   File \"<string>\", line 1, in <module>\n",
    "```"
   ]
  },
  {
   "cell_type": "code",
   "execution_count": null,
   "id": "ef030f3e",
   "metadata": {},
   "outputs": [],
   "source": [
    "centroids = pd.DataFrame(centroids[[\"county_name\",'lon','lat','winner', 'CENSUS_2010_POP',\"state_name\"]])"
   ]
  },
  {
   "cell_type": "markdown",
   "id": "30d82b86",
   "metadata": {},
   "source": [
    "```\n",
    "## Error in py_call_impl(callable, dots$args, dots$keywords): NameError: name 'centroids' is not defined\n",
    "## \n",
    "## Detailed traceback: \n",
    "##   File \"<string>\", line 1, in <module>\n",
    "```"
   ]
  },
  {
   "cell_type": "code",
   "execution_count": null,
   "id": "b5d8907f",
   "metadata": {},
   "outputs": [],
   "source": [
    "groups = centroids.groupby('winner')"
   ]
  },
  {
   "cell_type": "markdown",
   "id": "32bded66",
   "metadata": {},
   "source": [
    "```\n",
    "## Error in py_call_impl(callable, dots$args, dots$keywords): NameError: name 'centroids' is not defined\n",
    "## \n",
    "## Detailed traceback: \n",
    "##   File \"<string>\", line 1, in <module>\n",
    "```"
   ]
  },
  {
   "cell_type": "code",
   "execution_count": null,
   "id": "eaaa6603",
   "metadata": {},
   "outputs": [],
   "source": [
    "df = centroids.copy()"
   ]
  },
  {
   "cell_type": "markdown",
   "id": "77cf0c9d",
   "metadata": {},
   "source": [
    "```\n",
    "## Error in py_call_impl(callable, dots$args, dots$keywords): NameError: name 'centroids' is not defined\n",
    "## \n",
    "## Detailed traceback: \n",
    "##   File \"<string>\", line 1, in <module>\n",
    "```"
   ]
  },
  {
   "cell_type": "code",
   "execution_count": null,
   "id": "1806637d",
   "metadata": {},
   "outputs": [],
   "source": [
    "df['color'] = df['winner'].replace(color_dict)"
   ]
  },
  {
   "cell_type": "markdown",
   "id": "33fdf782",
   "metadata": {},
   "source": [
    "```\n",
    "## Error in py_call_impl(callable, dots$args, dots$keywords): KeyError: 'winner'\n",
    "## \n",
    "## Detailed traceback: \n",
    "##   File \"<string>\", line 1, in <module>\n",
    "##   File \"/opt/conda/envs/python-ENSAE/lib/python3.9/site-packages/pandas/core/frame.py\", line 3505, in __getitem__\n",
    "##     indexer = self.columns.get_loc(key)\n",
    "##   File \"/opt/conda/envs/python-ENSAE/lib/python3.9/site-packages/pandas/core/indexes/base.py\", line 3623, in get_loc\n",
    "##     raise KeyError(key) from err\n",
    "```"
   ]
  },
  {
   "cell_type": "code",
   "execution_count": null,
   "id": "263e29c9",
   "metadata": {},
   "outputs": [],
   "source": [
    "df['size'] = df['CENSUS_2010_POP']/6000"
   ]
  },
  {
   "cell_type": "markdown",
   "id": "3fab025f",
   "metadata": {},
   "source": [
    "```\n",
    "## Error in py_call_impl(callable, dots$args, dots$keywords): KeyError: 'CENSUS_2010_POP'\n",
    "## \n",
    "## Detailed traceback: \n",
    "##   File \"<string>\", line 1, in <module>\n",
    "##   File \"/opt/conda/envs/python-ENSAE/lib/python3.9/site-packages/pandas/core/frame.py\", line 3505, in __getitem__\n",
    "##     indexer = self.columns.get_loc(key)\n",
    "##   File \"/opt/conda/envs/python-ENSAE/lib/python3.9/site-packages/pandas/core/indexes/base.py\", line 3623, in get_loc\n",
    "##     raise KeyError(key) from err\n",
    "```"
   ]
  },
  {
   "cell_type": "code",
   "execution_count": null,
   "id": "8072d0f4",
   "metadata": {},
   "outputs": [],
   "source": [
    "df['text'] = df['CENSUS_2010_POP'].astype(int).apply(lambda x: '<br>Population: {:,} people'.format(x))"
   ]
  },
  {
   "cell_type": "markdown",
   "id": "74ace4e8",
   "metadata": {},
   "source": [
    "```\n",
    "## Error in py_call_impl(callable, dots$args, dots$keywords): KeyError: 'CENSUS_2010_POP'\n",
    "## \n",
    "## Detailed traceback: \n",
    "##   File \"<string>\", line 1, in <module>\n",
    "##   File \"/opt/conda/envs/python-ENSAE/lib/python3.9/site-packages/pandas/core/frame.py\", line 3505, in __getitem__\n",
    "##     indexer = self.columns.get_loc(key)\n",
    "##   File \"/opt/conda/envs/python-ENSAE/lib/python3.9/site-packages/pandas/core/indexes/base.py\", line 3623, in get_loc\n",
    "##     raise KeyError(key) from err\n",
    "```"
   ]
  },
  {
   "cell_type": "code",
   "execution_count": null,
   "id": "1e30b26c",
   "metadata": {},
   "outputs": [],
   "source": [
    "df['hover'] = df['county_name'].astype(str) +  df['state_name'].apply(lambda x: ' ({}) '.format(x)) + df['text']"
   ]
  },
  {
   "cell_type": "markdown",
   "id": "fc699f3a",
   "metadata": {},
   "source": [
    "```\n",
    "## Error in py_call_impl(callable, dots$args, dots$keywords): KeyError: 'county_name'\n",
    "## \n",
    "## Detailed traceback: \n",
    "##   File \"<string>\", line 1, in <module>\n",
    "##   File \"/opt/conda/envs/python-ENSAE/lib/python3.9/site-packages/pandas/core/frame.py\", line 3505, in __getitem__\n",
    "##     indexer = self.columns.get_loc(key)\n",
    "##   File \"/opt/conda/envs/python-ENSAE/lib/python3.9/site-packages/pandas/core/indexes/base.py\", line 3623, in get_loc\n",
    "##     raise KeyError(key) from err\n",
    "```"
   ]
  },
  {
   "cell_type": "code",
   "execution_count": null,
   "id": "95b2891f",
   "metadata": {},
   "outputs": [],
   "source": [
    "fig_plotly = go.Figure(data=go.Scattergeo(\n",
    "    locationmode = 'USA-states',\n",
    "    lon=df[\"lon\"], lat=df[\"lat\"],\n",
    "    text = df[\"hover\"],\n",
    "    mode = 'markers',\n",
    "    marker_color = df[\"color\"],\n",
    "    marker_size = df['size'],\n",
    "    hoverinfo=\"text\"\n",
    "    ))"
   ]
  },
  {
   "cell_type": "markdown",
   "id": "e4dd4354",
   "metadata": {},
   "source": [
    "```\n",
    "## Error in py_call_impl(callable, dots$args, dots$keywords): KeyError: 'lon'\n",
    "## \n",
    "## Detailed traceback: \n",
    "##   File \"<string>\", line 3, in <module>\n",
    "##   File \"/opt/conda/envs/python-ENSAE/lib/python3.9/site-packages/pandas/core/frame.py\", line 3505, in __getitem__\n",
    "##     indexer = self.columns.get_loc(key)\n",
    "##   File \"/opt/conda/envs/python-ENSAE/lib/python3.9/site-packages/pandas/core/indexes/base.py\", line 3623, in get_loc\n",
    "##     raise KeyError(key) from err\n",
    "```"
   ]
  },
  {
   "cell_type": "code",
   "execution_count": null,
   "id": "630539b3",
   "metadata": {},
   "outputs": [],
   "source": [
    "fig_plotly.update_traces(\n",
    "  marker = {'opacity': 0.5, 'line_color': 'rgb(40,40,40)', 'line_width': 0.5, 'sizemode': 'area'}\n",
    ")"
   ]
  },
  {
   "cell_type": "markdown",
   "id": "3d61e9c3",
   "metadata": {},
   "source": [
    "```\n",
    "## Error in py_call_impl(callable, dots$args, dots$keywords): NameError: name 'fig_plotly' is not defined\n",
    "## \n",
    "## Detailed traceback: \n",
    "##   File \"<string>\", line 1, in <module>\n",
    "```"
   ]
  },
  {
   "cell_type": "code",
   "execution_count": null,
   "id": "d051cd68",
   "metadata": {},
   "outputs": [],
   "source": [
    "fig_plotly.update_layout(\n",
    "        title_text = \"Reproduction of the \\\"Acres don't vote, people do\\\" map <br>(Click legend to toggle traces)\",\n",
    "        showlegend = True,\n",
    "        geo = {\"scope\": 'usa', \"landcolor\": 'rgb(217, 217, 217)'}\n",
    "    )"
   ]
  },
  {
   "cell_type": "markdown",
   "id": "e794b4b0",
   "metadata": {},
   "source": [
    "```\n",
    "## Error in py_call_impl(callable, dots$args, dots$keywords): NameError: name 'fig_plotly' is not defined\n",
    "## \n",
    "## Detailed traceback: \n",
    "##   File \"<string>\", line 1, in <module>\n",
    "```\n",
    "\n",
    "\n",
    "\n"
   ]
  },
  {
   "cell_type": "markdown",
   "id": "b41e592e",
   "metadata": {},
   "source": [
    "## Explorer la structure des données\n",
    "\n",
    "La première étape nécessaire à suivre avant de se lancer dans la modélisation\n",
    "est de déterminer les variables à inclure dans le modèle.\n",
    "\n",
    "Les fonctionnalités de `pandas` sont, à ce niveau, suffisantes pour explorer des structures simples. Néanmoins, lorsqu'on est face à un jeu de données présentant de nombreuses variables explicatives (*features* en machine learning, *covariates* en économétrie), il est souvent judicieux d'avoir une première étape de sélection de variable, ce que nous verrons par la suite dans la [partie dédiée](https://linogaliana-teaching.netlify.app/lasso/).  \n",
    "\n",
    "Avant d'être en mesure de sélectionner le meilleur ensemble de variables explicatives, nous allons en prendre un nombre restreint et arbitraire. La première tâche est de représenter les relations entre les données, notamment la relation des variables explicatives à la variable dépendante (le score du parti républicain) ainsi que les relations entre les variables explicatives. "
   ]
  },
  {
   "cell_type": "markdown",
   "id": "d5cdbd6c",
   "metadata": {},
   "source": [
    "**Exercice 2 : Regarder les corrélations entre les variables**\n",
    "\n",
    "1. Créer un DataFrame `df2` plus petit avec les variables `winner` et \n",
    "`votes_gop`, `Unemployment_rate_2019`,\n",
    "`Median_Household_Income_2019`,\n",
    "`Percent of adults with less than a high school diploma, 2015-19`,\n",
    "`Percent of adults with a bachelor's degree or higher, 2015-19`\n"
   ]
  },
  {
   "cell_type": "markdown",
   "id": "31cddb2c",
   "metadata": {},
   "source": [
    "2. Représenter grâce à un graphique la matrice de corrélation avec `heatmap` de `seaborn`.\n"
   ]
  },
  {
   "cell_type": "markdown",
   "id": "60ade0df",
   "metadata": {},
   "source": [
    "Elle aura l'aspect suivant:"
   ]
  },
  {
   "cell_type": "markdown",
   "id": "540427da",
   "metadata": {},
   "source": [
    "3. Choisir quelques variables (pas plus de 4 ou 5) et représenter une matrice de nuages de points\n",
    "\n",
    "\n"
   ]
  },
  {
   "cell_type": "markdown",
   "id": "e1d62f9c",
   "metadata": {},
   "source": [
    "4. (optionnel) Refaire ces figures avec `plotly` qui offre également la possibilité de faire une matrice de corrélation. Le résultat devrait ressembler au graphique suivant :\n",
    " \n",
    "\n",
    "\n",
    "\n",
    "\n"
   ]
  },
  {
   "cell_type": "markdown",
   "id": "26370b35",
   "metadata": {},
   "source": [
    "## Transformer les données\n",
    "\n",
    "Les différences d'échelle ou de distribution entre les variables peuvent \n",
    "diverger des hypothèses sous-jacentes dans les modèles.\n",
    "\n",
    "Par exemple, dans le cadre\n",
    "de la régression linéaire, les variables catégorielles ne sont pas traitées à la même\n",
    "enseigne que les variables ayant valeur dans $\\mathbb{R}$. Une variable\n",
    "discrète (prenant un nombre fini de valeurs) devra être transformées en suite de\n",
    "variables 0/1 par rapport à une modalité de référence pour être en adéquation\n",
    "avec les hypothèses de la régression linéaire. On appelle ce type de transformation\n",
    "*one-hot encoding*, sur lequel nous reviendrons. Il s'agit d'une transformation,\n",
    "parmi d'autres, disponibles dans `scikit` pour mettre en adéquation un jeu de\n",
    "données et des hypothèses mathématiques. \n",
    "\n",
    "L'ensemble de ces tâches s'appelle le *preprocessing*. L'un des intérêts\n",
    "d'utiliser `scikit` est qu'on peut considérer qu'une tâche de preprocessing\n",
    "est une tâche d'apprentissage (on apprend des paramètres d'une structure \n",
    "de données) qui est réutilisable pour un jeu de données à la structure\n",
    "similaire:\n"
   ]
  },
  {
   "cell_type": "markdown",
   "id": "89bb18bd",
   "metadata": {},
   "source": [
    "### Standardisation\n",
    "\n",
    "La standardisation consiste à transformer des données pour que la distribution empirique suive une loi $\\mathcal{N}(0,1)$. Pour être performants, la plupart des modèles de machine learning nécessitent souvent d'avoir des données dans cette distribution.\n",
    "\n",
    "Pour un statisticien, le terme `normalization` dans le vocable `scikit` peut avoir un sens contre-intuitif. On s'attendrait à ce que la normalisation consiste à transformer une variable de manière à ce que $X \\sim \\mathcal{N}(0,1)$. C'est, en fait, la **standardisation** en `scikit`. \n",
    "\n",
    "La **normalisation** consiste à modifier les données de manière à avoir une norme unitaire. La raison est expliquée plus bas."
   ]
  },
  {
   "cell_type": "markdown",
   "id": "9fcf7d78",
   "metadata": {},
   "source": [
    "**Exercice 3: Standardisation**\n",
    "\n",
    "1. Standardiser la variable `Median_Household_Income_2019` (ne pas écraser les valeurs !) et regarder l'histogramme avant/après normalisation.\n",
    "\n"
   ]
  },
  {
   "cell_type": "markdown",
   "id": "522c5261",
   "metadata": {},
   "source": [
    "*Note : On obtient bien une distribution centrée à zéro et on pourrait vérifier que la variance empirique soit bien égale à 1. On pourrait aussi vérifier que ceci est vrai également quand on transforme plusieurs colonnes à la fois.*"
   ]
  },
  {
   "cell_type": "markdown",
   "id": "0b13c856",
   "metadata": {},
   "source": [
    "2. Créer `scaler`, un `Transformer` que vous construisez sur les 1000 premières lignes de votre DataFrame. Vérifier la moyenne et l'écart-type de chaque colonne sur ces mêmes observations.\n",
    "\n"
   ]
  },
  {
   "cell_type": "markdown",
   "id": "a03c30e4",
   "metadata": {},
   "source": [
    "*Note : Les paramètres qui seront utilisés pour une standardisation ultérieure sont stockés dans les attributs `.mean_` et `.scale_`*\n"
   ]
  },
  {
   "cell_type": "markdown",
   "id": "bdd35c7f",
   "metadata": {},
   "source": [
    "On peut voir ces attributs comme des paramètres entraînés sur un certain jeu de\n",
    "données et qu'on peut réutiliser sur un autre, à condition que les\n",
    "dimensions coïncident.\n",
    "\n",
    "3. Appliquer `scaler` sur les autres lignes du DataFrame et comparer les distributions obtenues de la variable `Median_Household_Income_2019`.\n",
    "\n",
    "\n"
   ]
  },
  {
   "cell_type": "markdown",
   "id": "49cdbe79",
   "metadata": {},
   "source": [
    "*Note : Une fois appliqués à un autre `DataFrame`, on peut remarquer que la distribution n'est pas exactement centrée-réduite dans le `DataFrame` sur lequel les paramètres n'ont pas été estimés. C'est normal, l'échantillon initial n'était pas aléatoire, les moyennes et variances de cet échantillon n'ont pas de raison de coïncider avec les moments de l'échantillon complet.*\n",
    "\n",
    "\n",
    "\n",
    "\n",
    "\n",
    "\n",
    "\n",
    "\n",
    " \n",
    "\n"
   ]
  },
  {
   "cell_type": "markdown",
   "id": "d1cb9e2d",
   "metadata": {},
   "source": [
    "### Normalisation\n",
    "\n",
    "La **normalisation** est l'action de transformer les données de manière à obtenir une norme ($\\mathcal{l}_1$ ou $\\mathcal{l}_2$) unitaire. Autrement dit, avec la norme adéquate, la somme des éléments est égale à 1. Par défaut, la norme est dans $\\mathcal{l}_2$. Cette transformation est particulièrement utilisée en classification de texte ou pour effectuer du *clustering*."
   ]
  },
  {
   "cell_type": "markdown",
   "id": "c779ce8d",
   "metadata": {},
   "source": [
    "**Exercice 4 : Normalisation**\n",
    "\n",
    "1. Normaliser la variable `Median_Household_Income_2019` (ne pas écraser les valeurs !) et regarder l'histogramme avant/après normalisation.\n",
    "\n",
    "\n"
   ]
  },
  {
   "cell_type": "markdown",
   "id": "673359bd",
   "metadata": {},
   "source": [
    "2. Vérifier que la norme $\\mathcal{l}_2$ est bien égale à 1.\n",
    "\n",
    "\n",
    "\n",
    "\n",
    "\n"
   ]
  },
  {
   "cell_type": "markdown",
   "id": "e3ccf4d1",
   "metadata": {},
   "source": [
    "` preprocessing.Normalizer` n'accepte pas les valeurs manquantes, alors que `preprocessing.StandardScaler()` s'en accomode (dans la version `0.22` de scikit). Pour pouvoir aisément appliquer le *normalizer*, il faut\n",
    "\n",
    "* retirer les valeurs manquantes du DataFrame avec la méthode `dropna`: `df.dropna(how = \"any\")`;\n",
    "* ou les imputer avec un modèle adéquat. [`scikit` permet de le faire](https://scikit-learn.org/stable/modules/preprocessing.html#imputation-of-missing-values).\n",
    "\n",
    "### Encodage des valeurs catégorielles\n",
    "\n",
    "Les données catégorielles doivent être recodées sous forme de valeurs numériques pour être intégrables dans le cadre d'un modèle. Cela peut être fait de plusieurs manières :\n",
    "\n",
    "* `LabelEncoder`: transforme un vecteur `[\"a\",\"b\",\"c\"]` en vecteur numérique `[0,1,2]`. Cette approche a l'inconvénient d'introduire un ordre dans les modalités, ce qui n'est pas toujours souhaitable\n",
    "\n",
    "* `OrdinalEncoder`: une version généralisée du `LabelEncoder` qui a vocation à s'appliquer sur des matrices ($X$), alors que `LabelEncoder` est plutôt pour un vecteur ($y$)\n",
    "\n",
    "* `pandas.get_dummies` effectue une opération de *dummy expansion*. Un vecteur de taille *n* avec *K* catégories sera transformé en matrice de taille $n \\times K$ pour lequel chaque colonne sera une variable *dummy* pour la modalité *k*. Il y a ici $K$ modalités et il y a donc multicollinéarité. Avec une régression linéaire avec constante, il convient de retirer une modalité avant l'estimation.\n",
    "\n",
    "* `OneHotEncoder` est une version généralisée (et optimisée) de la *dummy expansion*. Il a plutôt vocation à s'appliquer sur les *features* ($X$) du modèle"
   ]
  },
  {
   "cell_type": "markdown",
   "id": "0f06dcb6",
   "metadata": {},
   "source": [
    "**Exercice 5 : Encoder des variables catégorielles**\n",
    "\n",
    "1. Créer `df` qui conserve uniquement les variables `state_name` et `county_name` dans `votes`.\n"
   ]
  },
  {
   "cell_type": "markdown",
   "id": "00be9db5",
   "metadata": {},
   "source": [
    "2. Appliquer à `state_name` un `LabelEncoder`\n"
   ]
  },
  {
   "cell_type": "markdown",
   "id": "391701c9",
   "metadata": {},
   "source": [
    "*Note : Le résultat du label encoding est relativement intuitif, notamment quand on le met en relation avec le vecteur initial.*\n",
    "\n",
    "3. Regarder la *dummy expansion* de `state_name`\n"
   ]
  },
  {
   "cell_type": "markdown",
   "id": "1208f0c9",
   "metadata": {},
   "source": [
    "4. Appliquer un `OrdinalEncoder` à `df[['state_name', 'county_name']]`\n",
    "\n"
   ]
  },
  {
   "cell_type": "markdown",
   "id": "d8733a02",
   "metadata": {},
   "source": [
    "*Note : Le résultat du *ordinal encoding* est cohérent avec celui du label encoding*\n",
    "\n",
    "5. Appliquer un `OneHotEncoder` à `df[['state_name', 'county_name']]`\n"
   ]
  },
  {
   "cell_type": "markdown",
   "id": "96b5989a",
   "metadata": {},
   "source": [
    "*Note : `scikit` optimise l'objet nécessaire pour stocker le résultat d'un modèle de transformation. Par exemple, le résultat de l'encoding One Hot est un objet très volumineux. Dans ce cas, scikit utilise une matrice Sparse.*\n",
    "\n"
   ]
  }
 ],
 "metadata": {
  "kernelspec": {
   "display_name": "Python 3",
   "language": "python",
   "name": "python3"
  }
 },
 "nbformat": 4,
 "nbformat_minor": 5
}
