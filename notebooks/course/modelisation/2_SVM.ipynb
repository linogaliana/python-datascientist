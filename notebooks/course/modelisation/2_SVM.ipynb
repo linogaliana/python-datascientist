{
 "cells": [
  {
   "cell_type": "raw",
   "id": "9333f76c",
   "metadata": {},
   "source": [
    "---\n",
    "title: \"Classification: premier modèle avec les SVM\"\n",
    "date: 2020-10-15T13:00:00Z\n",
    "draft: false\n",
    "weight: 30\n",
    "slug: SVM\n",
    "tags:\n",
    "  - scikit\n",
    "  - machine learning\n",
    "  - US elections\n",
    "  - classification\n",
    "  - SVM\n",
    "categories:\n",
    "  - Exercice\n",
    "type: book\n",
    "summary: |\n",
    "  La classification permet d'attribuer une classe d'appartenance (label)\n",
    "  discrète à des données à partir de certaines variables explicatives\n",
    "  (features). Les algorithmes sont nombreux. L'un des plus intuitifs et\n",
    "  les plus fréquemment rencontrés est le SVM (*support vector machine*).\n",
    "  Ce chapitre illustre les enjeux de la classification à partir de\n",
    "  ce modèle.\n",
    "---"
   ]
  },
  {
   "cell_type": "code",
   "execution_count": 1,
   "id": "fccbac25",
   "metadata": {},
   "outputs": [
    {
     "name": "stdout",
     "output_type": "stream",
     "text": [
      "<a href=\"https://github.com/linogaliana/python-datascientist/blob/master/notebooks/course/modelisation/2_SVM.ipynb\" class=\"github\"><i class=\"fab fa-github\"></i></a>\n",
      "[![Download](https://img.shields.io/badge/Download-Notebook-important?logo=Jupyter)](https://downgit.github.io/#/home?url=https://github.com/linogaliana/python-datascientist/blob/master/notebooks/course/modelisation/2_SVM.ipynb)\n",
      "[![nbviewer](https://img.shields.io/badge/Visualize-nbviewer-blue?logo=Jupyter)](https://nbviewer.jupyter.org/github/linogaliana/python-datascientist/blob/master/notebooks/course/modelisation/2_SVM.ipynb)\n",
      "[![Onyxia](https://img.shields.io/badge/SSPcloud-Tester%20via%20SSP--cloud-informational&color=yellow?logo=Python)](https://datalab.sspcloud.fr/launcher/inseefrlab-helm-charts-datascience/jupyter?autoLaunch=true&onyxia.friendlyName=%C2%ABpython-datascience%C2%BB&init.personalInit=%C2%ABhttps%3A%2F%2Fraw.githubusercontent.com%2Flinogaliana%2Fpython-datascientist%2Fmaster%2Fsspcloud%2Finit-jupyter.sh%C2%BB&init.personalInitArgs=%C2%ABnotebooks/course/modelisation%202_SVM.ipynb%C2%BB&security.allowlist.enabled=false)<br>\n",
      "[![Binder](https://img.shields.io/badge/Launch-Binder-E66581.svg?logo=data:image/png;base64,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)](https://mybinder.org/v2/gh/linogaliana/python-datascientist/master?filepath=notebooks/course/modelisation/2_SVM.ipynb)\n",
      "[![Open In Colab](https://colab.research.google.com/assets/colab-badge.svg)](http://colab.research.google.com/github/linogaliana/python-datascientist/blob/master/notebooks/course/modelisation/2_SVM.ipynb)\n",
      "[![githubdev](https://img.shields.io/static/v1?logo=visualstudiocode&label=&message=Open%20in%20Visual%20Studio%20Code&labelColor=2c2c32&color=007acc&logoColor=007acc)](https://github.dev/linogaliana/python-datascientist/notebooks/course/modelisation/2_SVM.ipynb)\n"
     ]
    }
   ],
   "source": [
    "#| echo: false\n",
    "#| output: 'asis'\n",
    "#| include: true\n",
    "#| eval: true\n",
    "\n",
    "import sys\n",
    "sys.path.insert(1, '../../../../') #insert the utils module\n",
    "from utils import print_badges\n",
    "\n",
    "#print_badges(__file__)\n",
    "print_badges(\"content/course/modelisation/2_SVM.qmd\")"
   ]
  },
  {
   "cell_type": "markdown",
   "id": "fbb1ec8e",
   "metadata": {},
   "source": [
    "Pour illustrer le travail d'exploration des données nécessaire avant de construire un modèle de Machine Learning, nous allons partir du même jeu de données que précédemment,\n",
    "c'est-à-dire les résultats des élections US 2020 présentés dans l'[introduction\n",
    "de cette partie](https://linogaliana-teaching.netlify.app/modelisation/): les données de vote aux élections présidentielles US\n",
    "croisées à des variables socio-démographiques.\n",
    "Le code \n",
    "est disponible [sur Github](https://github.com/linogaliana/python-datascientist/blob/master/content/course/modelisation/get_data.py).\n"
   ]
  },
  {
   "cell_type": "code",
   "execution_count": 2,
   "id": "33d8d429",
   "metadata": {},
   "outputs": [
    {
     "name": "stderr",
     "output_type": "stream",
     "text": [
      "ERROR 1: PROJ: proj_create_from_database: Open of /miniconda/envs/python-ENSAE/share/proj failed\n"
     ]
    }
   ],
   "source": [
    "#!pip install geopandas\n",
    "\n",
    "import requests\n",
    "\n",
    "url = 'https://raw.githubusercontent.com/linogaliana/python-datascientist/master/content/course/modelisation/get_data.py'\n",
    "r = requests.get(url, allow_redirects=True)\n",
    "open('getdata.py', 'wb').write(r.content)\n",
    "\n",
    "import getdata\n",
    "votes = getdata.create_votes_dataframes()"
   ]
  },
  {
   "cell_type": "markdown",
   "id": "b4a17b78",
   "metadata": {},
   "source": [
    "Dans ce TD, nous aurons besoin des packages suivants:\n"
   ]
  },
  {
   "cell_type": "code",
   "execution_count": 3,
   "id": "6d7ea9a5",
   "metadata": {},
   "outputs": [],
   "source": [
    "import pandas as pd\n",
    "import matplotlib.pyplot as plt"
   ]
  },
  {
   "cell_type": "markdown",
   "id": "cdb47426",
   "metadata": {},
   "source": [
    "## La méthode des SVM (Support Vector Machines)\n",
    "\n",
    "L'une des méthodes de *Machine Learning* les plus utilisées en classification est les SVM. Il s'agit de trouver, dans un système de projection adéquat (noyau ou *kernel*), les paramètres de l'hyperplan (en fait d'un hyperplan à marges maximales) séparant les classes de données: \n",
    "\n",
    "![](https://scikit-learn.org/stable/_images/sphx_glr_plot_iris_svc_001.png)\n",
    "\n",
    "{{% box status=\"hint\" title=\"Formalisation mathématique\" icon=\"fa fa-lightbulb\" %}}\n",
    "On peut, sans perdre de généralité, supposer que le problème consiste à supposer l'existence d'une loi de probabilité $\\mathbb{P}(x,y)$ ($\\mathbb{P} \\to \\{-1,1\\}$) qui est inconnue. Le problème de discrimination\n",
    "vise à construire un estimateur de la fonction de décision idéale qui minimise la probabilité d'erreur, autrement dit $\\theta = \\arg\\min_\\Theta \\mathbb{P}(h_\\theta(X) \\neq y |x)$\n",
    "\n",
    "Les SVM les plus simples sont les SVM linéaires. Dans ce cas, on suppose qu'il existe un séparateur linéaire qui permet d'associer chaque classe à son signe:\n",
    "\n",
    "\n",
    "$$\n",
    "h_\\theta(x) = \\text{signe}(f_\\theta(x)) ; \\text{ avec } f_\\theta(x) = \\theta^T x + b\n",
    "$$\n",
    "\n",
    "avec $\\theta \\in \\mathbb{R}^p$ et $w \\in \\mathbb{R}$. \n",
    "\n",
    "![](https://en.wikipedia.org/wiki/File:SVM_margin.png)\n",
    "\n",
    "Lorsque des observations sont linéairement séparables, il existe une infinité de frontières de décision linéaire séparant les deux classes. Le \"meilleur\" choix est de prendre la marge maximale permettant de séparer les données. La distance entre les deux marges est $\\frac{2}{||\\theta||}$. Donc maximiser cette distance entre deux hyperplans revient à minimiser $||\\theta||^2$ sous la contrainte $y_i(\\theta^Tx_i + b) \\geq 1$. \n",
    "\n",
    "\n",
    "Dans le cas non linéairement séparable, la *hinge loss* $\\max\\big(0,y_i(\\theta^Tx_i + b)\\big)$ permet de linéariser la fonction de perte:\n",
    "\n",
    "![](https://upload.wikimedia.org/wikipedia/commons/thumb/b/b5/Hinge_loss_vs_zero_one_loss.svg/1024px-Hinge_loss_vs_zero_one_loss.svg.png)\n",
    "\n",
    "ce qui donne le programme d'optimisation suivant:\n",
    "\n",
    "\n",
    "$$\n",
    "\\frac{1}{n} \\sum_{i=1}^n \\max\\big(0,y_i(\\theta^Tx_i + b)\\big) + \\lambda ||\\theta||^2\n",
    "$$\n",
    "\n",
    "\n",
    "La généralisation au cas non linéaire implique d'introduire des noyaux transformant l'espace de coordonnées des observations.\n",
    "\n",
    "![](https://upload.wikimedia.org/wikipedia/commons/thumb/f/fe/Kernel_Machine.svg/1920px-Kernel_Machine.svg.png)\n",
    "\n",
    "{{% /box %}}\n",
    "\n",
    "\n",
    "## Exercice\n",
    "\n",
    "{{% box status=\"exercise\" title=\"Exercice\" icon=\"fas fa-pencil-alt\" %}}\n",
    "\n",
    "**Exercice 1 : Premier algorithme de classification**\n"
   ]
  },
  {
   "cell_type": "code",
   "execution_count": 4,
   "id": "ef37fa5d",
   "metadata": {},
   "outputs": [],
   "source": [
    "# packages utiles\n",
    "from sklearn import svm\n",
    "import sklearn.metrics\n",
    "from sklearn.model_selection import train_test_split\n",
    "from sklearn.model_selection import cross_val_score"
   ]
  },
  {
   "cell_type": "markdown",
   "id": "7a668573",
   "metadata": {},
   "source": [
    "1. Créer une variable *dummy* appelée `y` dont la valeur vaut 1 quand les républicains l'emportent. \n"
   ]
  },
  {
   "cell_type": "code",
   "execution_count": 5,
   "id": "58095110",
   "metadata": {},
   "outputs": [],
   "source": [
    "#| include: false\n",
    "#| echo: false\n",
    "\n",
    "# 1. Création de la dummy y de victoire des républicains\n",
    "votes['y'] = (votes['votes_gop'] > votes['votes_dem']).astype(int)"
   ]
  },
  {
   "cell_type": "markdown",
   "id": "f7e80ab6",
   "metadata": {},
   "source": [
    "2. En utilisant la fonction prête à l'emploi nommée `train_test_split` de la librairie `sklearn.model_selection`,\n",
    "créer des échantillons de test (20 % des observations) et d'estimation (80 %) avec comme *features*: `'Unemployment_rate_2019', 'Median_Household_Income_2019', 'Percent of adults with less than a high school diploma, 2015-19', \"Percent of adults with a bachelor's degree or higher, 2015-19\"` et comme *label* la variable `y`. \n",
    "\n",
    "\n",
    "> A column-vector y was passed when a 1d array was expected. Please change the shape of y to (n_samples, ), for example using ravel()\n",
    "\n",
    "*Note : Pour éviter ce warning à chaque fois que vous estimez votre modèle, vous pouvez utiliser `DataFrame[['y']].values.ravel()` plutôt que `DataFrame[['y']]` lorsque vous constituez vos échantillons.*\n"
   ]
  },
  {
   "cell_type": "code",
   "execution_count": 6,
   "id": "a6d01c98",
   "metadata": {},
   "outputs": [],
   "source": [
    "#| include: false\n",
    "#| echo: false\n",
    "\n",
    "#2. Création des échantillons d'entraînement et de validation\n",
    "xvars = ['Unemployment_rate_2019', 'Median_Household_Income_2019', 'Percent of adults with less than a high school diploma, 2015-19', \"Percent of adults with a bachelor's degree or higher, 2015-19\"]\n",
    "\n",
    "df = votes[[\"y\"] + xvars]\n",
    "\n",
    "X_train, X_test, y_train, y_test = train_test_split(\n",
    "    df[xvars],\n",
    "    df[['y']].values.ravel(), test_size=0.2, random_state=0\n",
    ")\n",
    "#X_train.head()\n",
    "#y_test\n"
   ]
  },
  {
   "cell_type": "markdown",
   "id": "2ea07609",
   "metadata": {},
   "source": [
    "3. Entraîner un classifieur SVM avec comme paramètre de régularisation `C = 1`. Regarder les mesures de performance suivante : `accuracy`, `f1`, `recall` et `precision`.\n"
   ]
  },
  {
   "cell_type": "code",
   "execution_count": 7,
   "id": "e9f2984d",
   "metadata": {},
   "outputs": [],
   "source": [
    "#| include: false\n",
    "#| echo: false\n",
    "\n",
    "# 3. Entraînement du modèle et performances\n",
    "clf = svm.SVC(kernel='linear', C=1).fit(X_train, y_train)\n",
    "y_pred = clf.predict(X_test)\n",
    "\n",
    "sc_accuracy = sklearn.metrics.accuracy_score(y_pred, y_test)\n",
    "sc_f1 = sklearn.metrics.f1_score(y_pred, y_test)\n",
    "sc_recall = sklearn.metrics.recall_score(y_pred, y_test)\n",
    "sc_precision = sklearn.metrics.precision_score(y_pred, y_test)\n",
    "\n",
    "#print(sc_accuracy)\n",
    "#print(sc_f1)\n",
    "#print(sc_recall)\n",
    "#print(sc_precision)"
   ]
  },
  {
   "cell_type": "markdown",
   "id": "773dcf3a",
   "metadata": {},
   "source": [
    "Le classifieur avec `C = 1` devrait avoir les performances suivantes:\n"
   ]
  },
  {
   "cell_type": "code",
   "execution_count": 8,
   "id": "a3d290a7",
   "metadata": {},
   "outputs": [
    {
     "name": "stdout",
     "output_type": "stream",
     "text": [
      "|           |    Score |\n",
      "|:----------|---------:|\n",
      "| Accuracy  | 0.871383 |\n",
      "| Recall    | 0.881416 |\n",
      "| Precision | 0.97456  |\n",
      "| F1        | 0.925651 |\n"
     ]
    }
   ],
   "source": [
    "#| output: asis\n",
    "out = pd.DataFrame.from_dict({\"Accuracy\": [sc_accuracy], \"Recall\": [sc_recall],\n",
    "                        \"Precision\": [sc_precision], \"F1\": [sc_f1]}, orient = \"index\", columns = [\"Score\"])\n",
    "print(out.to_markdown())"
   ]
  },
  {
   "cell_type": "markdown",
   "id": "f4b35315",
   "metadata": {},
   "source": [
    "4. Vérifier la matrice de confusion : vous devriez voir que malgré des scores en apparence pas si mauvais, il y a un problème notable. \n"
   ]
  },
  {
   "cell_type": "code",
   "execution_count": 9,
   "id": "a8376fd7",
   "metadata": {},
   "outputs": [
    {
     "name": "stderr",
     "output_type": "stream",
     "text": [
      "/miniconda/envs/python-ENSAE/lib/python3.9/site-packages/sklearn/utils/deprecation.py:87: FutureWarning:\n",
      "\n",
      "Function plot_confusion_matrix is deprecated; Function `plot_confusion_matrix` is deprecated in 1.0 and will be removed in 1.2. Use one of the class methods: ConfusionMatrixDisplay.from_predictions or ConfusionMatrixDisplay.from_estimator.\n",
      "\n"
     ]
    },
    {
     "data": {
      "image/png": "[encoded data removed]",
      "text/plain": [
       "<Figure size 432x288 with 2 Axes>"
      ]
     },
     "metadata": {
      "image/png": {
       "height": 261,
       "width": 312
      },
      "needs_background": "light"
     },
     "output_type": "display_data"
    }
   ],
   "source": [
    "#| include: false\n",
    "#| echo: false\n",
    "\n",
    "# 4. Matrice de confusion\n",
    "sklearn.metrics.plot_confusion_matrix(clf, X_test, y_test)\n",
    "\n",
    "#Réponse : Notre classifieur manque totalement les labels 0, qui sont minoritaires.\n",
    "#Une raison possible ? L'échelle des variables: le revenu a une\n",
    "#distribution qui peut écraser celle des autres variables,\n",
    "#dans un modèle linéaire. Il faut donc, a minima, \n",
    "#standardiser les variables.\n",
    "\n",
    "plt.savefig(\"confusion_matrix.png\")"
   ]
  },
  {
   "cell_type": "markdown",
   "id": "6c469d51",
   "metadata": {},
   "source": [
    "![](confusion_matrix.png)\n",
    "\n",
    "5. Refaire les questions précédentes avec des variables normalisées. Le résultat est-il différent ?\n"
   ]
  },
  {
   "cell_type": "code",
   "execution_count": 10,
   "id": "dd0d2291",
   "metadata": {},
   "outputs": [
    {
     "name": "stderr",
     "output_type": "stream",
     "text": [
      "/miniconda/envs/python-ENSAE/lib/python3.9/site-packages/sklearn/utils/deprecation.py:87: FutureWarning:\n",
      "\n",
      "Function plot_confusion_matrix is deprecated; Function `plot_confusion_matrix` is deprecated in 1.0 and will be removed in 1.2. Use one of the class methods: ConfusionMatrixDisplay.from_predictions or ConfusionMatrixDisplay.from_estimator.\n",
      "\n"
     ]
    },
    {
     "data": {
      "image/png": "[encoded data removed]",
      "text/plain": [
       "<Figure size 432x288 with 2 Axes>"
      ]
     },
     "metadata": {
      "image/png": {
       "height": 265,
       "width": 312
      },
      "needs_background": "light"
     },
     "output_type": "display_data"
    }
   ],
   "source": [
    "#| include: false\n",
    "#| echo: false\n",
    "\n",
    "# 5. Refaire les questions précédentes avec des variables normalisées.\n",
    "import sklearn.preprocessing as preprocessing\n",
    "\n",
    "X = df[xvars]\n",
    "y = df[['y']]\n",
    "scaler = preprocessing.StandardScaler().fit(X)\n",
    "X = scaler.transform(X)\n",
    "\n",
    "X_train, X_test, y_train, y_test = train_test_split(\n",
    "    X,\n",
    "    y.values.ravel(), test_size=0.2, random_state=0\n",
    ")\n",
    "\n",
    "clf = svm.SVC(kernel='linear', C=1).fit(X_train, y_train)\n",
    "y_pred = clf.predict(X_test)\n",
    "sklearn.metrics.plot_confusion_matrix(clf, X_test, y_test)\n",
    "\n",
    "#Réponse : Non, standardiser les variables n'apporte pas de gain\n",
    "# Il faut donc aller plus loin : le problème ne vient pas de l'échelle mais du choix des variables. \n",
    "# C'est pour cette raison que l'étape de sélection de variable est cruciale.\n",
    "\n",
    "plt.savefig(\"confusion_matrix2.png\")"
   ]
  },
  {
   "cell_type": "markdown",
   "id": "e85db857",
   "metadata": {},
   "source": [
    "![](confusion_matrix2.png)\n",
    "\n",
    "\n",
    "6. Changer de variables *x*. Utiliser uniquement le résultat passé du vote démocrate et le revenu (`votes_gop` et `Median_Household_Income_2019`). Regarder les résultats, notamment la matrice de confusion. \n",
    "\n",
    "Le nouveau classifieur avec devrait avoir les performances suivantes :\n"
   ]
  },
  {
   "cell_type": "code",
   "execution_count": 11,
   "id": "0c93c9bd",
   "metadata": {},
   "outputs": [
    {
     "name": "stdout",
     "output_type": "stream",
     "text": [
      "|           |    Score |\n",
      "|:----------|---------:|\n",
      "| Accuracy  | 0.871383 |\n",
      "| Recall    | 0.881416 |\n",
      "| Precision | 0.97456  |\n",
      "| F1        | 0.925651 |\n"
     ]
    }
   ],
   "source": [
    "#| output: asis\n",
    "out = pd.DataFrame.from_dict({\"Accuracy\": [sc_accuracy], \"Recall\": [sc_recall],\n",
    "                        \"Precision\": [sc_precision], \"F1\": [sc_f1]}, orient = \"index\", columns = [\"Score\"])\n",
    "print(out.to_markdown())"
   ]
  },
  {
   "cell_type": "code",
   "execution_count": 12,
   "id": "106835a4",
   "metadata": {},
   "outputs": [
    {
     "name": "stderr",
     "output_type": "stream",
     "text": [
      "/miniconda/envs/python-ENSAE/lib/python3.9/site-packages/sklearn/utils/deprecation.py:87: FutureWarning:\n",
      "\n",
      "Function plot_confusion_matrix is deprecated; Function `plot_confusion_matrix` is deprecated in 1.0 and will be removed in 1.2. Use one of the class methods: ConfusionMatrixDisplay.from_predictions or ConfusionMatrixDisplay.from_estimator.\n",
      "\n"
     ]
    },
    {
     "data": {
      "image/png": "[encoded data removed]",
      "text/plain": [
       "<Figure size 432x288 with 2 Axes>"
      ]
     },
     "metadata": {
      "image/png": {
       "height": 263,
       "width": 312
      },
      "needs_background": "light"
     },
     "output_type": "display_data"
    }
   ],
   "source": [
    "#| include: false\n",
    "#| echo: false\n",
    "\n",
    "# 6. Refaire les questions en changeant la variable X.\n",
    "votes['y'] = (votes['votes_gop'] > votes['votes_dem']).astype(int)\n",
    "df = votes[[\"y\", \"share_2016_republican\", 'Median_Household_Income_2019']]\n",
    "tempdf = df.dropna(how = \"any\")\n",
    "\n",
    "X = votes[['share_2016_republican', 'Median_Household_Income_2019']]\n",
    "y = tempdf[['y']]\n",
    "scaler = preprocessing.StandardScaler().fit(X)\n",
    "X = scaler.transform(X)\n",
    "\n",
    "X_train, X_test, y_train, y_test = train_test_split(\n",
    "    X,\n",
    "    y.values.ravel(), test_size=0.2, random_state=0\n",
    ")\n",
    "\n",
    "clf = svm.SVC(kernel='linear', C=1).fit(X_train, y_train)\n",
    "y_pred = clf.predict(X_test)\n",
    "\n",
    "sc_accuracy = sklearn.metrics.accuracy_score(y_pred, y_test)\n",
    "sc_f1 = sklearn.metrics.f1_score(y_pred, y_test)\n",
    "sc_recall = sklearn.metrics.recall_score(y_pred, y_test)\n",
    "sc_precision = sklearn.metrics.precision_score(y_pred, y_test)\n",
    "\n",
    "#print(sc_accuracy)\n",
    "#print(sc_f1)\n",
    "#print(sc_recall)\n",
    "#print(sc_precision)\n",
    "\n",
    "sklearn.metrics.plot_confusion_matrix(clf, X_test, y_test)\n",
    "# On obtient un résultat beaucoup plus cohérent.\n",
    "\n",
    "plt.savefig(\"confusion_matrix3.png\")"
   ]
  },
  {
   "cell_type": "markdown",
   "id": "d627358c",
   "metadata": {},
   "source": [
    "![](confusion_matrix3.png)\n",
    "\n",
    "\n",
    "7. [OPTIONNEL] Faire une 5-fold validation croisée pour déterminer le paramètre *C* idéal. \n"
   ]
  },
  {
   "cell_type": "code",
   "execution_count": 13,
   "id": "462b4388",
   "metadata": {},
   "outputs": [],
   "source": [
    "# TODO : correction à rédiger."
   ]
  },
  {
   "cell_type": "markdown",
   "id": "84983493",
   "metadata": {},
   "source": [
    "{{% /box %}}\n"
   ]
  }
 ],
 "metadata": {
  "kernelspec": {
   "display_name": "Python 3 (ipykernel)",
   "language": "python",
   "name": "python3"
  },
  "language_info": {
   "codemirror_mode": {
    "name": "ipython",
    "version": 3
   },
   "file_extension": ".py",
   "mimetype": "text/x-python",
   "name": "python",
   "nbconvert_exporter": "python",
   "pygments_lexer": "ipython3",
   "version": "3.9.12"
  }
 },
 "nbformat": 4,
 "nbformat_minor": 5
}
