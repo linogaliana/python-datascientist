{
  "cells": [
    {
      "cell_type": "markdown",
      "metadata": {},
      "source": [
        "# Régression: une introduction"
      ],
      "id": "212aa742-bd0f-4e78-b524-cbe1c4ea19af"
    },
    {
      "cell_type": "raw",
      "metadata": {
        "raw_mimetype": "text/html"
      },
      "source": [
        "<p class=\"badges\">"
      ],
      "id": "21d96d3e-036f-4ccd-95d3-f8b98ad46e21"
    },
    {
      "cell_type": "markdown",
      "metadata": {},
      "source": [
        "<a href=\"https://github.com/linogaliana/python-datascientist/blob/master/notebooks/course/modelisation/3_regression.ipynb\" class=\"github\"><i class=\"fab fa-github\"></i></a>\n",
        "<a href=\"https://downgit.github.io/#/home?url=https://github.com/linogaliana/python-datascientist/blob/master/notebooks/course/modelisation/3_regression.ipynb\" target=\"_blank\" rel=\"noopener\"><img src=\"https://img.shields.io/badge/Download-Notebook-important?logo=Jupyter\" alt=\"Download\"></a>\n",
        "<a href=\"https://nbviewer.jupyter.org/github/linogaliana/python-datascientist/blob/master/notebooks/course/modelisation/3_regression.ipynb\" target=\"_blank\" rel=\"noopener\"><img src=\"https://img.shields.io/badge/Visualize-nbviewer-blue?logo=Jupyter\" alt=\"nbviewer\"></a>\n",
        "<a href=\"https://datalab.sspcloud.fr/launcher/inseefrlab-helm-charts-datascience/jupyter?autoLaunch=true&onyxia.friendlyName=%C2%ABpython-datascience%C2%BB&init.personalInit=%C2%ABhttps%3A%2F%2Fraw.githubusercontent.com%2Flinogaliana%2Fpython-datascientist%2Fmaster%2Fsspcloud%2Finit-jupyter.sh%C2%BB&init.personalInitArgs=%C2%ABnotebooks/course/modelisation%203_regression.ipynb%C2%BB&security.allowlist.enabled=false\" target=\"_blank\" rel=\"noopener\"><img src=\"https://img.shields.io/badge/SSPcloud-Tester%20via%20SSP--cloud-informational&amp;color=yellow?logo=Python\" alt=\"Onyxia\"></a><br>\n",
        "<a href=\"https://mybinder.org/v2/gh/linogaliana/python-datascientist/master?filepath={binder_path}\" target=\"_blank\" rel=\"noopener\"><img src=\"https://img.shields.io/badge/Launch-Binder-E66581.svg?logo=data:image/png;base64,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\" alt=\"Binder\"></a>\n",
        "<a href=\"http://colab.research.google.com/github/linogaliana/python-datascientist/blob/master/notebooks/course/modelisation/3_regression.ipynb\" target=\"_blank\" rel=\"noopener\"><img src=\"https://colab.research.google.com/assets/colab-badge.svg\" alt=\"Open In Colab\"></a>\n",
        "<a href=\"https://github.dev/linogaliana/python-datascientist/notebooks/course/modelisation/3_regression.ipynb\" target=\"_blank\" rel=\"noopener\"><img src=\"https://img.shields.io/static/v1?logo=visualstudiocode&label=&message=Open%20in%20Visual%20Studio%20Code&labelColor=2c2c32&color=007acc&logoColor=007acc\" alt=\"githubdev\"></a>"
      ],
      "id": "a8ad947e-f63d-4f4c-9920-59a31fe4d982"
    },
    {
      "cell_type": "raw",
      "metadata": {
        "raw_mimetype": "text/html"
      },
      "source": [
        "</p>"
      ],
      "id": "7dda29f1-b1d9-4662-8ca2-dcc4fc184c95"
    },
    {
      "cell_type": "raw",
      "metadata": {
        "raw_mimetype": "text/html"
      },
      "source": [
        "</p>"
      ],
      "id": "cd7dd468-c7ba-48cf-a3c2-cb5092e08a85"
    },
    {
      "cell_type": "markdown",
      "metadata": {},
      "source": [
        "Le précédent chapitre visait à proposer un premier modèle pour comprendre\n",
        "les comtés où le parti Républicain l’emporte. La variable d’intérêt étant\n",
        "bimodale (victoire ou défaite), on était dans le cadre d’un modèle de\n",
        "classification.\n",
        "\n",
        "Maintenant, sur les mêmes données, on va proposer un modèle de régression\n",
        "pour expliquer le score du parti Républicain. La variable est donc continue.\n",
        "Nous ignorerons le fait que ses bornes se trouvent entre 0 et 100 et donc\n",
        "qu’il faudrait, pour être rigoureux, transformer l’échelle afin d’avoir\n",
        "des données dans cet intervalle.\n",
        "\n",
        "Ce chapitre utilise toujours le même jeu de données, présenté dans l’[introduction\n",
        "de cette partie](https://linogaliana-teaching.netlify.app/modelisation/): les données de vote aux élections présidentielles US\n",
        "croisées à des variables socio-démographiques.\n",
        "Le code\n",
        "est disponible [sur Github](https://github.com/linogaliana/python-datascientist/blob/master/content/course/modelisation/get_data.py).\n",
        "\n",
        "# Principe général\n",
        "\n",
        "Le principe général de la régression consiste à trouver une loi $h_\\theta(X)$\n",
        "telle que\n",
        "\n",
        "$$\n",
        "h_\\theta(X) = \\mathbb{E}_\\theta(Y|X)\n",
        "$$\n",
        "\n",
        "Cette formalisation est extrêmement généraliste et ne se restreint d’ailleurs\n",
        "par à la régression linéaire.\n",
        "\n",
        "En économétrie, la régression offre une alternative aux méthodes de maximum\n",
        "de vraisemblance et aux méthodes des moments. La régression est un ensemble\n",
        "très vaste de méthodes, selon la famille de modèles\n",
        "(paramétriques, non paramétriques, etc.) et la structure de modèles.\n",
        "\n",
        "## La régression linéaire\n",
        "\n",
        "C’est la manière la plus simple de représenter la loi $h_\\theta(X)$ comme\n",
        "combinaison linéaire de variables $X$ et de paramètres $\\theta$. Dans ce\n",
        "cas,\n",
        "\n",
        "$$\n",
        "\\mathbb{E}_\\theta(Y|X) = X\\beta\n",
        "$$\n",
        "\n",
        "Cette relation est encore, sous cette formulation, théorique. Il convient\n",
        "de l’estimer à partir des données observées $y$. La méthode des moindres\n",
        "carrés consiste à minimiser l’erreur quadratique entre la prédiction et\n",
        "les données observées (ce qui explique qu’on puisse voir la régression comme\n",
        "un problème de *Machine Learning*). En toute généralité, la méthode des\n",
        "moindres carrés consiste à trouver l’ensemble de paramètres $\\theta$\n",
        "tel que\n",
        "\n",
        "$$\n",
        "\\theta = \\arg \\min_{\\theta \\in \\Theta} \\mathbb{E}\\bigg[ \\left( y - h_\\theta(X) \\right)^2 \\bigg]\n",
        "$$\n",
        "\n",
        "Ce qui, dans le cadre de la régression linéaire, s’exprime de la manière suivante:\n",
        "\n",
        "$$\n",
        "\\beta = \\arg\\min \\mathbb{E}\\bigg[ \\left( y - X\\beta \\right)^2 \\bigg]\n",
        "$$\n",
        "\n",
        "Lorsqu’on amène le modèle théorique ($\\mathbb{E}_\\theta(Y|X) = X\\beta$) aux données,\n",
        "on formalise le modèle de la manière suivante:\n",
        "\n",
        "$$\n",
        "Y = X\\beta + \\epsilon\n",
        "$$\n",
        "\n",
        "Avec une certaine distribution du bruit $\\epsilon$ qui dépend\n",
        "des hypothèses faites. Par exemple, avec des\n",
        "$\\epsilon \\sim \\mathcal{N}(0,\\sigma^2)$ i.i.d., l’estimateur $\\beta$ obtenu\n",
        "est équivalent à celui du Maximum de Vraisemblance dont la théorie asymptotique\n",
        "nous assure l’absence de biais, la variance minimale (borne de Cramer-Rao).\n",
        "\n",
        "{{% box status=“exercise” title=“Exercice” icon=“fas fa-pencil-alt” %}}\n",
        "\n",
        "**Exercice 1a : Régression linéaire avec scikit \\[parcours data-science\\]**\n",
        "\n",
        "Cet exercice vise à illustrer la manière d’effectuer une régression linéaire avec `scikit`.\n",
        "Dans ce domaine,\n",
        "`statsmodels` est nettement plus complet, ce que montrera l’exercice suivant.\n",
        "L’intérêt principal de faire\n",
        "des régressions avec `scikit` est de pouvoir comparer les résultats d’une régression linéaire\n",
        "avec d’autres modèles de régression. Cependant, le chapitre sur les\n",
        "pipelines montrera qu’on peut très bien insérer, avec quelques efforts\n",
        "de programmation orientée objet, une régression `statsmodels` dans\n",
        "un pipeline `scikit`.\n",
        "\n",
        "L’objectif est d’expliquer le score des Républicains en fonction de quelques\n",
        "variables. Contrairement au chapitre précédent, où on se focalisait sur\n",
        "un résultat binaire (victoire/défaite des Républicains), cette\n",
        "fois on va chercher à modéliser directement le score des Républicains."
      ],
      "id": "56c649cf-2c60-40b8-933e-4483f261817b"
    },
    {
      "cell_type": "code",
      "execution_count": 3,
      "metadata": {},
      "outputs": [],
      "source": [
        "# packages utiles\n",
        "import numpy as np\n",
        "from sklearn.linear_model import LinearRegression\n",
        "from sklearn.model_selection import train_test_split\n",
        "import sklearn.metrics\n",
        "import matplotlib.pyplot as plt\n",
        "import seaborn as sns\n",
        "import pandas as pd"
      ],
      "id": "cfd976f6-233f-481b-bc11-d062e5a90f89"
    },
    {
      "cell_type": "markdown",
      "metadata": {},
      "source": [
        "1.  A partir de quelques variables, par exemple, *‘Unemployment_rate_2019’, ‘Median_Household_Income_2019’, ‘Percent of adults with less than a high school diploma, 2015-19’, “Percent of adults with a bachelor’s degree or higher, 2015-19”*, expliquer la variable `per_gop` à l’aide d’un échantillon d’entraînement `X_train` constitué au préalable.\n",
        "\n",
        ":warning: utiliser la variable `Median_Household_Income_2019`\n",
        "en `log` sinon son échelle risque d’écraser tout effet.\n",
        "\n",
        "1.  Afficher les valeurs des coefficients, constante comprise\n",
        "\n",
        "2.  Evaluer la pertinence du modèle avec le $R^2$ et la qualité du fit avec le MSE.\n",
        "\n",
        "3.  Représenter un nuage de points des valeurs observées\n",
        "    et des erreurs de prédiction. Observez-vous\n",
        "    un problème de spécification ?\n",
        "\n",
        "{{% /box %}}\n",
        "\n",
        "{{% box status=“exercise” title=“Exercice” icon=“fas fa-pencil-alt” %}}\n",
        "\n",
        "**Exercice 1b : Régression linéaire avec scikit \\[parcours économie\\]**\n",
        "\n",
        "Cet exercice vise à illustrer la manière d’effectuer une régression linéaire avec `statsmodels` qui offre une interface proche de celle de `R`.\n",
        "\n",
        "L’objectif est d’expliquer le score des Républicains en fonction de quelques\n",
        "variables"
      ],
      "id": "d84e5a74-0fbb-40d2-8be8-e06e1d3e2b25"
    },
    {
      "cell_type": "code",
      "execution_count": 10,
      "metadata": {},
      "outputs": [],
      "source": [
        "# packages utiles\n",
        "import statsmodels.api as sm\n",
        "import statsmodels.formula.api as smf"
      ],
      "id": "d79a9b1f-dc71-43da-bd08-0697eb04ea4a"
    },
    {
      "cell_type": "markdown",
      "metadata": {},
      "source": [
        "1.  A partir de quelques variables, par exemple, *‘Unemployment_rate_2019’, ‘Median_Household_Income_2019’, ‘Percent of adults with less than a high school diploma, 2015-19’, “Percent of adults with a bachelor’s degree or higher, 2015-19”*, expliquer la variable `per_gop`. :warning: utiliser la variable `Median_Household_Income_2019`\n",
        "    en `log` sinon son échelle risque d’écraser tout effet.\n",
        "\n",
        "2.  Afficher un tableau de régression.\n",
        "\n",
        "3.  Evaluer la pertinence du modèle avec le R^2.\n",
        "\n",
        "4.  Utiliser l’API `formula` pour régresser le score des républicains en fonction de la variable `Unemployment_rate_2019`, de `Unemployment_rate_2019` au carré et du log de\n",
        "    `Median_Household_Income_2019`.\n",
        "\n",
        "{{% /box %}}\n",
        "\n",
        "{{% box status=“hint” title=“Hint” icon=“fa fa-lightbulb” %}}\n",
        "Pour sortir une belle table pour un rapport sous $\\LaTeX$, il est possible d’utiliser\n",
        "la méthode [`Summary.as_latex`](https://www.statsmodels.org/devel/generated/statsmodels.iolib.summary.Summary.as_latex.html#statsmodels.iolib.summary.Summary.as_latex). Pour un rapport HTML, on utilisera [`Summary.as_html`](https://www.statsmodels.org/devel/generated/statsmodels.iolib.summary.Summary.as_latex.html#statsmodels.iolib.summary.Summary.as_latex)\n",
        "{{% /box %}}\n",
        "\n",
        "{{% box status=“note” title=“Note” icon=“fa fa-comment” %}}\n",
        "Les utilisateurs de `R` retrouveront des éléments très familiers avec `statsmodels`,\n",
        "notamment la possibilité d’utiliser une formule pour définir une régression.\n",
        "La philosophie de `statsmodels` est similaire à celle qui a influé sur la construction\n",
        "des packages `stats` et `MASS` de `R`: offrir une librairie généraliste, proposant\n",
        "une large gamme de modèles. Néanmoins, `statsmodels` bénéficie de sa jeunesse\n",
        "par rapport aux packages `R`. Depuis les années 1990, les packages `R` visant\n",
        "à proposer des fonctionalités manquantes dans `stats` et `MASS` se sont\n",
        "multipliés alors que `statsmodels`, enfant des années 2010, n’a eu qu’à\n",
        "proposer un cadre général (les *generalized estimating equations*) pour\n",
        "englober ces modèles.\n",
        "{{% /box %}}\n",
        "\n",
        "## La régression logistique\n",
        "\n",
        "Ce modèle s’applique à une distribution binaire.\n",
        "Dans ce cas, $\\mathbb{E}\\_{\\theta}(Y|X) = \\mathbb{P}\\_{\\theta}(Y = 1|X)$.\n",
        "La régression logistique peut être vue comme un modèle linéaire en probabilité:\n",
        "\n",
        "$$\n",
        "\\text{logit}\\bigg(\\mathbb{E}\\_{\\theta}(Y|X)\\bigg) = \\text{logit}\\bigg(\\mathbb{P}\\_{\\theta}(Y = 1|X)\\bigg) = X\\beta\n",
        "$$\n",
        "\n",
        "La fonction $\\text{logit}$ est $]0,1[ \\to \\mathbb{R}: p \\mapsto \\log(\\frac{p}{1-p})$.\n",
        "\n",
        "Elle permet ainsi de transformer une probabilité dans $\\mathbb{R}$.\n",
        "Sa fonction réciproque est la sigmoïde ($\\frac{1}{1 + e^{-x}}$),\n",
        "objet central du *Deep Learning*.\n",
        "\n",
        "Il convient de noter que les probabilités ne sont pas observées, c’est l’*outcome*\n",
        "binaire (0/1) qui l’est. Cela amène à voir la régression logistique de deux\n",
        "manières différentes :\n",
        "\n",
        "-   En économétrie, on s’intéresse au modèle latent qui détermine le choix de\n",
        "    l’outcome. Par exemple, si on observe les choix de participer ou non au marché\n",
        "    du travail, on va modéliser les facteurs déterminant ce choix ;\n",
        "-   En *Machine Learning*, le modèle latent n’est nécessaire que pour classifier\n",
        "    dans la bonne catégorie les observations\n",
        "\n",
        "L’estimation des paramètres $\\beta$ peut se faire par maximum de vraisemblance\n",
        "ou par régression, les deux solutions sont équivalentes sous certaines\n",
        "hypothèses.\n",
        "\n",
        "{{% box status=“note” title=“Note” icon=“fa fa-comment” %}}\n",
        "Par défaut, `scikit` applique une régularisation pour pénaliser les modèles\n",
        "peu parcimonieux (comportement différent\n",
        "de celui de `statsmodels`). Ce comportement par défaut est à garder à l’esprit\n",
        "si l’objectif n’est pas de faire de la prédiction.\n",
        "{{% /box %}}\n",
        "\n",
        "{{% box status=“exercise” title=“Exercice” icon=“fas fa-pencil-alt” %}}\n",
        "\n",
        "**Exercice 2a : Régression logistique \\[data-scientists\\]**\n",
        "\n",
        "Avec `scikit`, en utilisant échantillons d’apprentissage et d’estimation :"
      ],
      "id": "b9a245b2-7df2-4d17-a01b-785c29b39c9c"
    },
    {
      "cell_type": "code",
      "execution_count": 15,
      "metadata": {},
      "outputs": [],
      "source": [
        "# packages utiles\n",
        "from sklearn.linear_model import LogisticRegression\n",
        "import sklearn.metrics"
      ],
      "id": "41d552f1-c759-46c7-b6aa-2c517a551b07"
    },
    {
      "cell_type": "markdown",
      "metadata": {},
      "source": [
        "1.  Evaluer l’effet des variables déjà utilisées sur la probabilité des Républicains\n",
        "    de gagner. Affichez la valeur des coefficients.\n",
        "\n",
        "2.  Déduire une matrice de confusion et\n",
        "    une mesure de qualité du modèle.\n",
        "\n",
        "3.  Supprimer la régularisation grâce au paramètre `penalty`. Quel effet sur les paramètres estimés ?\n",
        "\n",
        "{{% /box %}}\n",
        "\n",
        "{{% box status=“exercise” title=“Exercice” icon=“fas fa-pencil-alt” %}}\n",
        "\n",
        "**Exercice 2b : Régression logistique \\[économistes\\]**"
      ],
      "id": "b1ab3fa7-d0cc-4ef2-89bb-2c81acdfc589"
    },
    {
      "cell_type": "code",
      "execution_count": 19,
      "metadata": {},
      "outputs": [],
      "source": [
        "# packages utiles\n",
        "from scipy import stats"
      ],
      "id": "3c49d3f5-1ed2-4331-b650-c0929ab2d7a3"
    },
    {
      "cell_type": "markdown",
      "metadata": {},
      "source": [
        "En utilisant échantillons d’apprentissage et d’estimation :\n",
        "\n",
        "1.  Evaluer l’effet des variables déjà utilisées sur la probabilité des Républicains\n",
        "    de gagner.\n",
        "\n",
        "2.  Faire un test de ratio de vraisemblance concernant l’inclusion de la variable de (log)-revenu.\n",
        "\n",
        "{{% /box %}}\n",
        "\n",
        "{{% box status=“hint” title=“Hint” icon=“fa fa-lightbulb” %}}\n",
        "La statistique du test est:\n",
        "\n",
        "$$\n",
        "LR = -2\\log\\bigg(\\frac{\\mathcal{L}_{\\theta}}{\\mathcal{L}_{\\theta_0}}\\bigg) = -2(\\mathcal{l}_{\\theta} - \\mathcal{l}_{\\theta_0})\n",
        "$$\n",
        "\n",
        "{{% /box %}}"
      ],
      "id": "72b4eeec-2648-4e11-90da-c8dd664b3c4f"
    },
    {
      "cell_type": "raw",
      "metadata": {
        "raw_mimetype": "text/html"
      },
      "source": [
        "<!-- ## Modèles linéaires généralisés -->"
      ],
      "id": "2550c1a5-b772-4c0f-afbb-3c6781fba950"
    },
    {
      "cell_type": "raw",
      "metadata": {
        "raw_mimetype": "text/html"
      },
      "source": [
        "<!-- TO BE COMPLETED -->"
      ],
      "id": "baf11cf8-7bf9-4ede-a896-3bf6bb88e1c7"
    },
    {
      "cell_type": "raw",
      "metadata": {
        "raw_mimetype": "text/html"
      },
      "source": [
        "<!-- ## Autres modèles de Machine Learning -->"
      ],
      "id": "f24ad9d5-97f8-4aea-b7d4-abf80c144d37"
    },
    {
      "cell_type": "raw",
      "metadata": {
        "raw_mimetype": "text/html"
      },
      "source": [
        "<!-- TO BE COMPLETED -->"
      ],
      "id": "5f07c671-07c8-46df-9c0f-b42e730afc28"
    },
    {
      "cell_type": "raw",
      "metadata": {
        "raw_mimetype": "text/html"
      },
      "source": [
        "<!-- ## Tests d'hypothèses -->"
      ],
      "id": "930ad647-e309-4634-b9a4-fbe05185454b"
    }
  ],
  "nbformat": 4,
  "nbformat_minor": 5,
  "metadata": {
    "kernelspec": {
      "name": "python3",
      "display_name": "Python 3 (ipykernel)",
      "language": "python"
    },
    "language_info": {
      "name": "python",
      "codemirror_mode": {
        "name": "ipython",
        "version": "3"
      },
      "file_extension": ".py",
      "mimetype": "text/x-python",
      "nbconvert_exporter": "python",
      "pygments_lexer": "ipython3",
      "version": "3.9.13"
    }
  }
}