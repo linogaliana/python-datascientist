{
  "cells": [
    {
      "cell_type": "markdown",
      "metadata": {},
      "source": [
        "# Régression : une introduction"
      ],
      "id": "3c4a151b-de3b-4643-abb9-275f1151998d"
    },
    {
      "cell_type": "markdown",
      "metadata": {},
      "source": [
        "<p class=\"badges\">\n",
        "\n",
        "<a href=\"https://github.com/linogaliana/python-datascientist/blob/master/notebooks/course/modelisation/3_regression.ipynb\" class=\"github\"><i class=\"fab fa-github\"></i></a>\n",
        "<a href=\"https://downgit.github.io/#/home?url=https://github.com/linogaliana/python-datascientist/blob/master/notebooks/course/modelisation/3_regression.ipynb\" target=\"_blank\" rel=\"noopener\"><img src=\"https://img.shields.io/badge/Download-Notebook-important?logo=Jupyter\" alt=\"Download\"></a>\n",
        "<a href=\"https://nbviewer.jupyter.org/github/linogaliana/python-datascientist/blob/master/notebooks/course/modelisation/3_regression.ipynb\" target=\"_blank\" rel=\"noopener\"><img src=\"https://img.shields.io/badge/Visualize-nbviewer-blue?logo=Jupyter\" alt=\"nbviewer\"></a>\n",
        "<a href=\"https://datalab.sspcloud.fr/launcher/ide/jupyter-python?autoLaunch=true&onyxia.friendlyName=%C2%ABpython-datascience%C2%BB&init.personalInit=%C2%ABhttps%3A%2F%2Fraw.githubusercontent.com%2Flinogaliana%2Fpython-datascientist%2Fmaster%2Fsspcloud%2Finit-jupyter.sh%C2%BB&init.personalInitArgs=%C2%ABmodelisation%203_regression%C2%BB&security.allowlist.enabled=false\" target=\"_blank\" rel=\"noopener\"><img src=\"https://img.shields.io/badge/SSPcloud-Tester%20via%20SSP--cloud-informational&amp;color=yellow?logo=Python\" alt=\"Onyxia\"></a><br>\n",
        "<a href=\"https://mybinder.org/v2/gh/linogaliana/python-datascientist/master?filepath={binder_path}\" target=\"_blank\" rel=\"noopener\"><img src=\"https://img.shields.io/badge/Launch-Binder-E66581.svg?logo=data:image/png;base64,iVBORw0KGgoAAAANSUhEUgAAAFkAAABZCAMAAABi1XidAAAB8lBMVEX///9XmsrmZYH1olJXmsr1olJXmsrmZYH1olJXmsr1olJXmsrmZYH1olL1olJXmsr1olJXmsrmZYH1olL1olJXmsrmZYH1olJXmsr1olL1olJXmsrmZYH1olL1olJXmsrmZYH1olL1olL0nFf1olJXmsrmZYH1olJXmsq8dZb1olJXmsrmZYH1olJXmspXmspXmsr1olL1olJXmsrmZYH1olJXmsr1olL1olJXmsrmZYH1olL1olLeaIVXmsrmZYH1olL1olL1olJXmsrmZYH1olLna31Xmsr1olJXmsr1olJXmsrmZYH1olLqoVr1olJXmsr1olJXmsrmZYH1olL1olKkfaPobXvviGabgadXmsqThKuofKHmZ4Dobnr1olJXmsr1olJXmspXmsr1olJXmsrfZ4TuhWn1olL1olJXmsqBi7X1olJXmspZmslbmMhbmsdemsVfl8ZgmsNim8Jpk8F0m7R4m7F5nLB6jbh7jbiDirOEibOGnKaMhq+PnaCVg6qWg6qegKaff6WhnpKofKGtnomxeZy3noG6dZi+n3vCcpPDcpPGn3bLb4/Mb47UbIrVa4rYoGjdaIbeaIXhoWHmZYHobXvpcHjqdHXreHLroVrsfG/uhGnuh2bwj2Hxk17yl1vzmljzm1j0nlX1olL3AJXWAAAAbXRSTlMAEBAQHx8gICAuLjAwMDw9PUBAQEpQUFBXV1hgYGBkcHBwcXl8gICAgoiIkJCQlJicnJ2goKCmqK+wsLC4usDAwMjP0NDQ1NbW3Nzg4ODi5+3v8PDw8/T09PX29vb39/f5+fr7+/z8/Pz9/v7+zczCxgAABC5JREFUeAHN1ul3k0UUBvCb1CTVpmpaitAGSLSpSuKCLWpbTKNJFGlcSMAFF63iUmRccNG6gLbuxkXU66JAUef/9LSpmXnyLr3T5AO/rzl5zj137p136BISy44fKJXuGN/d19PUfYeO67Znqtf2KH33Id1psXoFdW30sPZ1sMvs2D060AHqws4FHeJojLZqnw53cmfvg+XR8mC0OEjuxrXEkX5ydeVJLVIlV0e10PXk5k7dYeHu7Cj1j+49uKg7uLU61tGLw1lq27ugQYlclHC4bgv7VQ+TAyj5Zc/UjsPvs1sd5cWryWObtvWT2EPa4rtnWW3JkpjggEpbOsPr7F7EyNewtpBIslA7p43HCsnwooXTEc3UmPmCNn5lrqTJxy6nRmcavGZVt/3Da2pD5NHvsOHJCrdc1G2r3DITpU7yic7w/7Rxnjc0kt5GC4djiv2Sz3Fb2iEZg41/ddsFDoyuYrIkmFehz0HR2thPgQqMyQYb2OtB0WxsZ3BeG3+wpRb1vzl2UYBog8FfGhttFKjtAclnZYrRo9ryG9uG/FZQU4AEg8ZE9LjGMzTmqKXPLnlWVnIlQQTvxJf8ip7VgjZjyVPrjw1te5otM7RmP7xm+sK2Gv9I8Gi++BRbEkR9EBw8zRUcKxwp73xkaLiqQb+kGduJTNHG72zcW9LoJgqQxpP3/Tj//c3yB0tqzaml05/+orHLksVO+95kX7/7qgJvnjlrfr2Ggsyx0eoy9uPzN5SPd86aXggOsEKW2Prz7du3VID3/tzs/sSRs2w7ovVHKtjrX2pd7ZMlTxAYfBAL9jiDwfLkq55Tm7ifhMlTGPyCAs7RFRhn47JnlcB9RM5T97ASuZXIcVNuUDIndpDbdsfrqsOppeXl5Y+XVKdjFCTh+zGaVuj0d9zy05PPK3QzBamxdwtTCrzyg/2Rvf2EstUjordGwa/kx9mSJLr8mLLtCW8HHGJc2R5hS219IiF6PnTusOqcMl57gm0Z8kanKMAQg0qSyuZfn7zItsbGyO9QlnxY0eCuD1XL2ys/MsrQhltE7Ug0uFOzufJFE2PxBo/YAx8XPPdDwWN0MrDRYIZF0mSMKCNHgaIVFoBbNoLJ7tEQDKxGF0kcLQimojCZopv0OkNOyWCCg9XMVAi7ARJzQdM2QUh0gmBozjc3Skg6dSBRqDGYSUOu66Zg+I2fNZs/M3/f/Grl/XnyF1Gw3VKCez0PN5IUfFLqvgUN4C0qNqYs5YhPL+aVZYDE4IpUk57oSFnJm4FyCqqOE0jhY2SMyLFoo56zyo6becOS5UVDdj7Vih0zp+tcMhwRpBeLyqtIjlJKAIZSbI8SGSF3k0pA3mR5tHuwPFoa7N7reoq2bqCsAk1HqCu5uvI1n6JuRXI+S1Mco54YmYTwcn6Aeic+kssXi8XpXC4V3t7/ADuTNKaQJdScAAAAAElFTkSuQmCC\" alt=\"Binder\"></a>\n",
        "<a href=\"http://colab.research.google.com/github/linogaliana/python-datascientist/blob/master/notebooks/course/modelisation/3_regression.ipynb\" target=\"_blank\" rel=\"noopener\"><img src=\"https://colab.research.google.com/assets/colab-badge.svg\" alt=\"Open In Colab\"></a>\n",
        "<a href=\"https://github.dev/linogaliana/python-datascientist/notebooks/course/modelisation/3_regression.ipynb\" target=\"_blank\" rel=\"noopener\"><img src=\"https://img.shields.io/static/v1?logo=visualstudiocode&label=&message=Open%20in%20Visual%20Studio%20Code&labelColor=2c2c32&color=007acc&logoColor=007acc\" alt=\"githubdev\"></a>\n",
        "\n",
        "</p>\n",
        "\n",
        "</p>"
      ],
      "id": "4965391b-413a-4ab0-beac-05a7eb2db491"
    },
    {
      "cell_type": "markdown",
      "metadata": {},
      "source": [
        "Nous allons partir du même jeu de données que précédemment,\n",
        "c’est-à-dire les résultats des élections US 2020 présentés dans l’[introduction\n",
        "de cette partie](https://linogaliana-teaching.netlify.app/modelisation/): les données de vote aux élections présidentielles américaines\n",
        "croisées à des variables sociodémographiques.\n",
        "Le code\n",
        "est disponible [sur Github](https://github.com/linogaliana/python-datascientist/blob/master/content/course/modelisation/get_data.py)."
      ],
      "id": "2b51b053-5df5-4a6b-9fd8-418ee28cae54"
    },
    {
      "cell_type": "code",
      "execution_count": 2,
      "metadata": {},
      "outputs": [],
      "source": [
        "#!pip install --upgrade xlrd #colab bug verson xlrd\n",
        "#!pip install geopandas\n",
        "\n",
        "import requests\n",
        "\n",
        "url = 'https://raw.githubusercontent.com/linogaliana/python-datascientist/master/content/course/modelisation/get_data.py'\n",
        "r = requests.get(url, allow_redirects=True)\n",
        "open('getdata.py', 'wb').write(r.content)\n",
        "\n",
        "import getdata\n",
        "votes = getdata.create_votes_dataframes()"
      ],
      "id": "b0beddaf"
    },
    {
      "cell_type": "markdown",
      "metadata": {},
      "source": [
        "Le précédent chapitre visait à proposer un premier modèle pour comprendre\n",
        "les comtés où le parti Républicain l’emporte. La variable d’intérêt étant\n",
        "bimodale (victoire ou défaite), on était dans le cadre d’un modèle de\n",
        "classification.\n",
        "\n",
        "Maintenant, sur les mêmes données, on va proposer un modèle de régression\n",
        "pour expliquer le score du parti Républicain. La variable est donc continue.\n",
        "Nous ignorerons le fait que ses bornes se trouvent entre 0 et 100 et donc\n",
        "qu’il faudrait, pour être rigoureux, transformer l’échelle afin d’avoir\n",
        "des données dans cet intervalle.\n",
        "\n",
        "Ce chapitre utilise toujours le même jeu de données, présenté dans l’[introduction\n",
        "de cette partie](https://linogaliana-teaching.netlify.app/modelisation/): les données de vote aux élections présidentielles américaines\n",
        "croisées à des variables sociodémographiques.\n",
        "Le code\n",
        "est disponible [sur Github](https://github.com/linogaliana/python-datascientist/blob/master/content/course/modelisation/get_data.py).\n",
        "\n",
        "# Principe général\n",
        "\n",
        "Le principe général de la régression consiste à trouver une loi $h_\\theta(X)$\n",
        "telle que\n",
        "\n",
        "$$\n",
        "h_\\theta(X) = \\mathbb{E}_\\theta(Y|X)\n",
        "$$\n",
        "Cette formalisation est extrêmement généraliste et ne se restreint d’ailleurs\n",
        "par à la régression linéaire.\n",
        "\n",
        "En économétrie, la régression offre une alternative aux méthodes de maximum\n",
        "de vraisemblance et aux méthodes des moments. La régression est un ensemble\n",
        "très vaste de méthodes, selon la famille de modèles\n",
        "(paramétriques, non paramétriques, etc.) et la structure de modèles.\n",
        "\n",
        "## La régression linéaire\n",
        "\n",
        "C’est la manière la plus simple de représenter la loi $h_\\theta(X)$ comme\n",
        "combinaison linéaire de variables $X$ et de paramètres $\\theta$. Dans ce\n",
        "cas,\n",
        "\n",
        "$$\n",
        "\\mathbb{E}_\\theta(Y|X) = X\\beta\n",
        "$$\n",
        "\n",
        "Cette relation est encore, sous cette formulation, théorique. Il convient\n",
        "de l’estimer à partir des données observées $y$. La méthode des moindres\n",
        "carrés consiste à minimiser l’erreur quadratique entre la prédiction et\n",
        "les données observées (ce qui explique qu’on puisse voir la régression comme\n",
        "un problème de *Machine Learning*). En toute généralité, la méthode des\n",
        "moindres carrés consiste à trouver l’ensemble de paramètres $\\theta$\n",
        "tel que\n",
        "\n",
        "$$\n",
        "\\theta = \\arg \\min_{\\theta \\in \\Theta} \\mathbb{E}\\bigg[ \\left( y - h_\\theta(X) \\right)^2 \\bigg]\n",
        "$$\n",
        "\n",
        "Ce qui, dans le cadre de la régression linéaire, s’exprime de la manière suivante:\n",
        "\n",
        "$$\n",
        "\\beta = \\arg\\min \\mathbb{E}\\bigg[ \\left( y - X\\beta \\right)^2 \\bigg]\n",
        "$$\n",
        "\n",
        "Lorsqu’on amène le modèle théorique ($\\mathbb{E}_\\theta(Y|X) = X\\beta$) aux données,\n",
        "on formalise le modèle de la manière suivante:\n",
        "\n",
        "$$\n",
        "Y = X\\beta + \\epsilon\n",
        "$$\n",
        "\n",
        "Avec une certaine distribution du bruit $\\epsilon$ qui dépend\n",
        "des hypothèses faites. Par exemple, avec des\n",
        "$\\epsilon \\sim \\mathcal{N}(0,\\sigma^2)$ i.i.d., l’estimateur $\\beta$ obtenu\n",
        "est équivalent à celui du Maximum de Vraisemblance dont la théorie asymptotique\n",
        "nous assure l’absence de biais, la variance minimale (borne de Cramer-Rao)."
      ],
      "id": "b7b67998-593c-4309-9c6f-564846cdcb5c"
    },
    {
      "cell_type": "code",
      "execution_count": 4,
      "metadata": {},
      "outputs": [],
      "source": [
        "# packages utiles\n",
        "import numpy as np\n",
        "from sklearn.linear_model import LinearRegression\n",
        "from sklearn.model_selection import train_test_split\n",
        "import sklearn.metrics\n",
        "import matplotlib.pyplot as plt\n",
        "import seaborn as sns\n",
        "import pandas as pd"
      ],
      "id": "e74075ff"
    },
    {
      "cell_type": "markdown",
      "metadata": {},
      "source": [
        "<div class=\"alert alert-success\" role=\"alert\" style=\"color: rgba(0,0,0,.8); background-color: white; margin-top: 1em; margin-bottom: 1em; margin:1.5625emauto; padding:0 .6rem .8rem!important;overflow:hidden; page-break-inside:avoid; border-radius:.25rem; box-shadow:0 .2rem .5rem rgba(0,0,0,.05),0 0 .05rem rgba(0,0,0,.1); transition:color .25s,background-color .25s,border-color .25s ; border-right: 1px solid #dee2e6 ; border-top: 1px solid #dee2e6 ; border-bottom: 1px solid #dee2e6 ; border-left:.2rem solid #3fb618;\">\n",
        "<h3 class=\"alert-heading\"><i class=\"fa fa-pencil\"></i> Exercice 1a : Régression linéaire avec scikit</h3>\n",
        "\n",
        "Cet exercice vise à illustrer la manière d’effectuer une régression linéaire avec `scikit`.\n",
        "Dans ce domaine,\n",
        "`statsmodels` est nettement plus complet, ce que montrera l’exercice suivant.\n",
        "L’intérêt principal de faire\n",
        "des régressions avec `scikit` est de pouvoir comparer les résultats d’une régression linéaire\n",
        "avec d’autres modèles de régression. Cependant, le chapitre sur les\n",
        "pipelines montrera qu’on peut très bien insérer, avec quelques efforts\n",
        "de programmation orientée objet, une régression `statsmodels` dans\n",
        "un pipeline `scikit`.\n",
        "\n",
        "L’objectif est d’expliquer le score des Républicains en fonction de quelques\n",
        "variables. Contrairement au chapitre précédent, où on se focalisait sur\n",
        "un résultat binaire (victoire/défaite des Républicains), cette\n",
        "fois on va chercher à modéliser directement le score des Républicains.\n",
        "\n",
        "1.  A partir de quelques variables, par exemple, *‘Unemployment_rate_2019’, ‘Median_Household_Income_2019’, ‘Percent of adults with less than a high school diploma, 2015-19’, “Percent of adults with a bachelor’s degree or higher, 2015-19”*, expliquer la variable `per_gop` à l’aide d’un échantillon d’entraînement `X_train` constitué au préalable.\n",
        "\n",
        ":warning: utiliser la variable `Median_Household_Income_2019`\n",
        "en `log` sinon son échelle risque d’écraser tout effet.\n",
        "\n",
        "1.  Afficher les valeurs des coefficients, constante comprise\n",
        "\n",
        "2.  Evaluer la pertinence du modèle avec le $R^2$ et la qualité du fit avec le MSE.\n",
        "\n",
        "3.  Représenter un nuage de points des valeurs observées\n",
        "    et des erreurs de prédiction. Observez-vous\n",
        "    un problème de spécification ?\n",
        "\n",
        "</div>"
      ],
      "id": "34d1e6b7-2ea2-49e7-a8df-d5727dd27ab8"
    },
    {
      "cell_type": "code",
      "execution_count": 11,
      "metadata": {},
      "outputs": [],
      "source": [
        "# packages utiles\n",
        "import statsmodels.api as sm\n",
        "import statsmodels.formula.api as smf"
      ],
      "id": "58767a24"
    },
    {
      "cell_type": "markdown",
      "metadata": {},
      "source": [
        "<div class=\"alert alert-success\" role=\"alert\" style=\"color: rgba(0,0,0,.8); background-color: white; margin-top: 1em; margin-bottom: 1em; margin:1.5625emauto; padding:0 .6rem .8rem!important;overflow:hidden; page-break-inside:avoid; border-radius:.25rem; box-shadow:0 .2rem .5rem rgba(0,0,0,.05),0 0 .05rem rgba(0,0,0,.1); transition:color .25s,background-color .25s,border-color .25s ; border-right: 1px solid #dee2e6 ; border-top: 1px solid #dee2e6 ; border-bottom: 1px solid #dee2e6 ; border-left:.2rem solid #3fb618;\">\n",
        "<h3 class=\"alert-heading\"><i class=\"fa fa-pencil\"></i> Exercice 1b : Régression linéaire avec statsmodels</h3>\n",
        "\n",
        "Cet exercice vise à illustrer la manière d’effectuer une régression linéaire avec `statsmodels` qui offre des fonctionnalités plus proches de celles de `R`, et moins orientées *Machine Learning*.\n",
        "\n",
        "L’objectif est toujours d’expliquer le score des Républicains en fonction de quelques\n",
        "variables.\n",
        "\n",
        "1.  A partir de quelques variables, par exemple, *‘Unemployment_rate_2019’, ‘Median_Household_Income_2019’, ‘Percent of adults with less than a high school diploma, 2015-19’, “Percent of adults with a bachelor’s degree or higher, 2015-19”*, expliquer la variable `per_gop`. :warning: utiliser la variable `Median_Household_Income_2019`\n",
        "    en `log` sinon son échelle risque d’écraser tout effet.\n",
        "2.  Afficher un tableau de régression.\n",
        "3.  Evaluer la pertinence du modèle avec le R^2.\n",
        "4.  Utiliser l’API `formula` pour régresser le score des républicains en fonction de la variable `Unemployment_rate_2019`, de `Unemployment_rate_2019` au carré et du log de\n",
        "    `Median_Household_Income_2019`.\n",
        "\n",
        "</div>"
      ],
      "id": "3b5749a6-571a-40d3-a59a-5f94a1041b13"
    },
    {
      "cell_type": "markdown",
      "metadata": {},
      "source": [
        "<div class=\"alert alert-warning\" role=\"alert\" style=\"color: rgba(0,0,0,.8); background-color: white; margin-top: 1em; margin-bottom: 1em; margin:1.5625emauto; padding:0 .6rem .8rem!important;overflow:hidden; page-break-inside:avoid; border-radius:.25rem; box-shadow:0 .2rem .5rem rgba(0,0,0,.05),0 0 .05rem rgba(0,0,0,.1); transition:color .25s,background-color .25s,border-color .25s ; border-right: 1px solid #dee2e6 ; border-top: 1px solid #dee2e6 ; border-bottom: 1px solid #dee2e6 ; border-left:.2rem solid #ffc10780;\">\n",
        "<h3 class=\"alert-heading\"><i class=\"fa fa-lightbulb-o\"></i> Hint</h3>\n",
        "\n",
        "Pour sortir une belle table pour un rapport sous $\\LaTeX$, il est possible d’utiliser\n",
        "la méthode [`Summary.as_latex`](https://www.statsmodels.org/devel/generated/statsmodels.iolib.summary.Summary.as_latex.html#statsmodels.iolib.summary.Summary.as_latex). Pour un rapport HTML, on utilisera [`Summary.as_html`](https://www.statsmodels.org/devel/generated/statsmodels.iolib.summary.Summary.as_latex.html#statsmodels.iolib.summary.Summary.as_latex)\n",
        "\n",
        "</div>"
      ],
      "id": "99e39c06-8766-4a22-a441-8a5e658546e4"
    },
    {
      "cell_type": "markdown",
      "metadata": {},
      "source": [
        "<div class=\"alert alert-info\" role=\"alert\" style=\"color: rgba(0,0,0,.8); background-color: white; margin-top: 1em; margin-bottom: 1em; margin:1.5625emauto; padding:0 .6rem .8rem!important;overflow:hidden; page-break-inside:avoid; border-radius:.25rem; box-shadow:0 .2rem .5rem rgba(0,0,0,.05),0 0 .05rem rgba(0,0,0,.1); transition:color .25s,background-color .25s,border-color .25s ; border-right: 1px solid #dee2e6 ; border-top: 1px solid #dee2e6 ; border-bottom: 1px solid #dee2e6 ; border-left:.2rem solid #007bff80;\">\n",
        "<h3 class=\"alert-heading\"><i class=\"fa fa-comment\"></i> Note</h3>\n",
        "\n",
        "Les utilisateurs de `R` retrouveront des éléments très familiers avec `statsmodels`,\n",
        "notamment la possibilité d’utiliser une formule pour définir une régression.\n",
        "La philosophie de `statsmodels` est similaire à celle qui a influé sur la construction\n",
        "des packages `stats` et `MASS` de `R`: offrir une librairie généraliste, proposant\n",
        "une large gamme de modèles. Néanmoins, `statsmodels` bénéficie de sa jeunesse\n",
        "par rapport aux packages `R`. Depuis les années 1990, les packages `R` visant\n",
        "à proposer des fonctionalités manquantes dans `stats` et `MASS` se sont\n",
        "multipliés alors que `statsmodels`, enfant des années 2010, n’a eu qu’à\n",
        "proposer un cadre général (les *generalized estimating equations*) pour\n",
        "englober ces modèles.\n",
        "\n",
        "</div>"
      ],
      "id": "3e8bbeb1-baeb-4762-b732-a83c37af8ad5"
    },
    {
      "cell_type": "markdown",
      "metadata": {},
      "source": [
        "## La régression logistique\n",
        "\n",
        "Ce modèle s’applique à une distribution binaire.\n",
        "Dans ce cas, $\\mathbb{E}\\_{\\theta}(Y|X) = \\mathbb{P}\\_{\\theta}(Y = 1|X)$.\n",
        "La régression logistique peut être vue comme un modèle linéaire en probabilité:\n",
        "\n",
        "$$\n",
        "\\text{logit}\\bigg(\\mathbb{E}\\_{\\theta}(Y|X)\\bigg) = \\text{logit}\\bigg(\\mathbb{P}\\_{\\theta}(Y = 1|X)\\bigg) = X\\beta\n",
        "$$\n",
        "\n",
        "La fonction $\\text{logit}$ est $]0,1[ \\to \\mathbb{R}: p \\mapsto \\log(\\frac{p}{1-p})$.\n",
        "\n",
        "Elle permet ainsi de transformer une probabilité dans $\\mathbb{R}$.\n",
        "Sa fonction réciproque est la sigmoïde ($\\frac{1}{1 + e^{-x}}$),\n",
        "objet central du *Deep Learning*.\n",
        "\n",
        "Il convient de noter que les probabilités ne sont pas observées, c’est l’*outcome*\n",
        "binaire (0/1) qui l’est. Cela amène à voir la régression logistique de deux\n",
        "manières différentes :\n",
        "\n",
        "-   En économétrie, on s’intéresse au modèle latent qui détermine le choix de\n",
        "    l’outcome. Par exemple, si on observe les choix de participer ou non au marché\n",
        "    du travail, on va modéliser les facteurs déterminant ce choix ;\n",
        "-   En *Machine Learning*, le modèle latent n’est nécessaire que pour classifier\n",
        "    dans la bonne catégorie les observations\n",
        "\n",
        "L’estimation des paramètres $\\beta$ peut se faire par maximum de vraisemblance\n",
        "ou par régression, les deux solutions sont équivalentes sous certaines\n",
        "hypothèses."
      ],
      "id": "6385e37b-4047-4167-9b2f-5ccce309aa2c"
    },
    {
      "cell_type": "markdown",
      "metadata": {},
      "source": [
        "<div class=\"alert alert-info\" role=\"alert\" style=\"color: rgba(0,0,0,.8); background-color: white; margin-top: 1em; margin-bottom: 1em; margin:1.5625emauto; padding:0 .6rem .8rem!important;overflow:hidden; page-break-inside:avoid; border-radius:.25rem; box-shadow:0 .2rem .5rem rgba(0,0,0,.05),0 0 .05rem rgba(0,0,0,.1); transition:color .25s,background-color .25s,border-color .25s ; border-right: 1px solid #dee2e6 ; border-top: 1px solid #dee2e6 ; border-bottom: 1px solid #dee2e6 ; border-left:.2rem solid #007bff80;\">\n",
        "<h3 class=\"alert-heading\"><i class=\"fa fa-comment\"></i> Note</h3>\n",
        "\n",
        "Par défaut, `scikit` applique une régularisation pour pénaliser les modèles\n",
        "peu parcimonieux (comportement différent\n",
        "de celui de `statsmodels`). Ce comportement par défaut est à garder à l’esprit\n",
        "si l’objectif n’est pas de faire de la prédiction.\n",
        "\n",
        "</div>"
      ],
      "id": "810e3ef2-1cac-4a4f-b90a-ab182b06f94b"
    },
    {
      "cell_type": "code",
      "execution_count": 16,
      "metadata": {},
      "outputs": [],
      "source": [
        "# packages utiles\n",
        "from sklearn.linear_model import LogisticRegression\n",
        "import sklearn.metrics"
      ],
      "id": "32e4791a"
    },
    {
      "cell_type": "markdown",
      "metadata": {},
      "source": [
        "<div class=\"alert alert-success\" role=\"alert\" style=\"color: rgba(0,0,0,.8); background-color: white; margin-top: 1em; margin-bottom: 1em; margin:1.5625emauto; padding:0 .6rem .8rem!important;overflow:hidden; page-break-inside:avoid; border-radius:.25rem; box-shadow:0 .2rem .5rem rgba(0,0,0,.05),0 0 .05rem rgba(0,0,0,.1); transition:color .25s,background-color .25s,border-color .25s ; border-right: 1px solid #dee2e6 ; border-top: 1px solid #dee2e6 ; border-bottom: 1px solid #dee2e6 ; border-left:.2rem solid #3fb618;\">\n",
        "<h3 class=\"alert-heading\"><i class=\"fa fa-pencil\"></i> Exercice 2a : Régression logistique avec scikit</h3>\n",
        "\n",
        "Avec `scikit`, en utilisant échantillons d’apprentissage et d’estimation :\n",
        "\n",
        "1.  Evaluer l’effet des variables déjà utilisées sur la probabilité des Républicains\n",
        "    de gagner. Affichez la valeur des coefficients.\n",
        "2.  Déduire une matrice de confusion et\n",
        "    une mesure de qualité du modèle.\n",
        "3.  Supprimer la régularisation grâce au paramètre `penalty`. Quel effet sur les paramètres estimés ?\n",
        "\n",
        "</div>"
      ],
      "id": "8a0705ed-c061-4733-8546-5bdd62d961f9"
    },
    {
      "cell_type": "code",
      "execution_count": 20,
      "metadata": {},
      "outputs": [],
      "source": [
        "# packages utiles\n",
        "from scipy import stats"
      ],
      "id": "5a051908"
    },
    {
      "cell_type": "markdown",
      "metadata": {},
      "source": [
        "<div class=\"alert alert-success\" role=\"alert\" style=\"color: rgba(0,0,0,.8); background-color: white; margin-top: 1em; margin-bottom: 1em; margin:1.5625emauto; padding:0 .6rem .8rem!important;overflow:hidden; page-break-inside:avoid; border-radius:.25rem; box-shadow:0 .2rem .5rem rgba(0,0,0,.05),0 0 .05rem rgba(0,0,0,.1); transition:color .25s,background-color .25s,border-color .25s ; border-right: 1px solid #dee2e6 ; border-top: 1px solid #dee2e6 ; border-bottom: 1px solid #dee2e6 ; border-left:.2rem solid #3fb618;\">\n",
        "<h3 class=\"alert-heading\"><i class=\"fa fa-pencil\"></i> Exercice 2b : Régression logistique avec statmodels</h3>\n",
        "\n",
        "En utilisant échantillons d’apprentissage et d’estimation :\n",
        "\n",
        "1.  Evaluer l’effet des variables déjà utilisées sur la probabilité des Républicains\n",
        "    de gagner.\n",
        "2.  Faire un test de ratio de vraisemblance concernant l’inclusion de la variable de (log)-revenu.\n",
        "\n",
        "</div>"
      ],
      "id": "c9d45e16-8b85-4765-ad61-4fbd4d3e5259"
    },
    {
      "cell_type": "markdown",
      "metadata": {},
      "source": [
        "<div class=\"alert alert-warning\" role=\"alert\" style=\"color: rgba(0,0,0,.8); background-color: white; margin-top: 1em; margin-bottom: 1em; margin:1.5625emauto; padding:0 .6rem .8rem!important;overflow:hidden; page-break-inside:avoid; border-radius:.25rem; box-shadow:0 .2rem .5rem rgba(0,0,0,.05),0 0 .05rem rgba(0,0,0,.1); transition:color .25s,background-color .25s,border-color .25s ; border-right: 1px solid #dee2e6 ; border-top: 1px solid #dee2e6 ; border-bottom: 1px solid #dee2e6 ; border-left:.2rem solid #ffc10780;\">\n",
        "<h3 class=\"alert-heading\"><i class=\"fa fa-lightbulb-o\"></i> Hint</h3>\n",
        "\n",
        "La statistique du test est:\n",
        "$$\n",
        "LR = -2\\log\\bigg(\\frac{\\mathcal{L}_{\\theta}}{\\mathcal{L}_{\\theta_0}}\\bigg) = -2(\\mathcal{l}_{\\theta} - \\mathcal{l}_{\\theta_0})\n",
        "$$\n",
        "\n",
        "</div>"
      ],
      "id": "f5dcf73b-360d-4f6b-9bcc-0a95eadd4c0d"
    },
    {
      "cell_type": "raw",
      "metadata": {
        "raw_mimetype": "text/html"
      },
      "source": [
        "<!-- ## Modèles linéaires généralisés -->"
      ],
      "id": "b30ff1bf-a5c1-40ab-ba7e-e8fea89d6f4e"
    },
    {
      "cell_type": "raw",
      "metadata": {
        "raw_mimetype": "text/html"
      },
      "source": [
        "<!-- TO BE COMPLETED -->"
      ],
      "id": "14b3c0cc-35ec-44c6-b38d-747dd5bd4193"
    },
    {
      "cell_type": "raw",
      "metadata": {
        "raw_mimetype": "text/html"
      },
      "source": [
        "<!-- ## Autres modèles de Machine Learning -->"
      ],
      "id": "24ef8132-d695-4d2c-8828-d1f6148be864"
    },
    {
      "cell_type": "raw",
      "metadata": {
        "raw_mimetype": "text/html"
      },
      "source": [
        "<!-- TO BE COMPLETED -->"
      ],
      "id": "516613e2-6887-4c59-bae4-ea40c4fa3d43"
    },
    {
      "cell_type": "raw",
      "metadata": {
        "raw_mimetype": "text/html"
      },
      "source": [
        "<!-- ## Tests d'hypothèses -->"
      ],
      "id": "f4e9572c-bb02-4b54-b873-b3da8d771a46"
    }
  ],
  "nbformat": 4,
  "nbformat_minor": 5,
  "metadata": {
    "kernelspec": {
      "name": "python3",
      "display_name": "Python 3 (ipykernel)",
      "language": "python"
    },
    "language_info": {
      "name": "python",
      "codemirror_mode": {
        "name": "ipython",
        "version": "3"
      },
      "file_extension": ".py",
      "mimetype": "text/x-python",
      "nbconvert_exporter": "python",
      "pygments_lexer": "ipython3",
      "version": "3.9.16"
    }
  }
}