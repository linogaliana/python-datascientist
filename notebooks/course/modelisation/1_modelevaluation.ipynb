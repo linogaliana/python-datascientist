{
 "cells": [
  {
   "cell_type": "markdown",
   "id": "6049e5cf",
   "metadata": {},
   "source": [
    "#  Evaluer la qualité dun modèle\n",
    "\n"
   ]
  },
  {
   "cell_type": "markdown",
   "id": "38ab70cc",
   "metadata": {},
   "source": [
    "<a href=\"https://github.com/linogaliana/python-datascientist/blob/master/notebooks/course/modelisation/1_modelevaluation.ipynb\" class=\"github\"><i class=\"fab fa-github\"></i></a>\n",
    "[![nbviewer](https://img.shields.io/badge/visualize-nbviewer-blue)](https://nbviewer.jupyter.org/github/linogaliana/python-datascientist/blob/master/notebooks/course/modelisation/1_modelevaluation.ipynb)\n",
    "[![Onyxia](https://img.shields.io/badge/SSPcloud-Tester%20via%20SSP--cloud-informational&color=yellow?logo=Python)](https://datalab.sspcloud.fr/launcher/inseefrlab-helm-charts-datascience/jupyter?onyxia.friendlyName=%C2%ABpython-datascientist%C2%BB&resources.requests.memory=%C2%AB4Gi%C2%BB)\n",
    "[![Binder](https://mybinder.org/badge_logo.svg)](https://mybinder.org/v2/gh/linogaliana/python-datascientist/master?filepath=notebooks/course/modelisation/1_modelevaluation.ipynb)\n",
    "[![Open In Colab](https://colab.research.google.com/assets/colab-badge.svg)](http://colab.research.google.com/github/linogaliana/python-datascientist/blob/master/notebooks/course/modelisation/1_modelevaluation.ipynb)\n",
    "\n",
    "Pour illustrer le travail de données nécessaire pour construire un modèle de\n",
    "Machine Learning, mais aussi nécessaire pour l'exploration de données avant de\n",
    "faire une régression linéaire, nous allons partir du même jeu de données que précédemment,\n",
    "c'est-à-dire les résultats des élections US 2020 présentés dans l'[introduction\n",
    "de cette partie](https://linogaliana-teaching.netlify.app/modelisation/): les données de vote aux élections présidentielles US\n",
    "croisées à des variables socio-démographiques.\n",
    "Le code \n",
    "est disponible [sur Github](https://github.com/linogaliana/python-datascientist/blob/master/content/modelisation/get_data.py)\n",
    "\n"
   ]
  },
  {
   "cell_type": "markdown",
   "id": "a3637147",
   "metadata": {},
   "source": [
    "## Découper l'échantillon\n",
    "\n",
    "![](https://scikit-learn.org/stable/_images/grid_search_workflow.png){width=\"50%\"}\n",
    "\n",
    "### Le problème du sur-apprentissage\n",
    "\n",
    "Le but du *Machine Learning* est de calibrer l’algorithme sur des exemples\n",
    "connus (données labellisées) afin de généraliser à des\n",
    "exemples nouveaux (éventuellement non labellisés). On vise donc de bonnes qualités\n",
    "prédictives et non un ajustement parfait\n",
    "aux données historiques.\n",
    "\n",
    "Il existe un arbitrage biais-variance dans la qualité d'estimation[^1]. Soit $h(X,\\theta)$ un modèle statistique. On \n",
    "peut décomposer l'erreur d'estimation en deux parties:\n",
    "\n",
    "$$\n",
    "\\mathbb{E}\\bigg[(y - h(\\theta,X))^2 \\bigg] = \\underbrace{ \\bigg( y - \\mathbb{E}(h_\\theta(X)) \\bigg)^2}_{\\text{biais}^2} + \\underbrace{\\mathbb{V}\\big(h(\\theta,X)\\big)}_{\\text{variance}}\n",
    "$$\n",
    "\n",
    "Il y a ainsi un compromis entre biais et variance. Un modèle peu parcimonieux, c'est-à-dire proposant un grand nombre de paramètres, va, en général, avoir un faible biais mais une grande variance. En effet, le modèle va tendre à se souvenir d'une combinaison de paramètres à partir d'un grand nombre d'exemples sans être capable d'apprendre la règle qui permette de structurer les données. \n",
    "\n",
    "[^1] Cette formule permet de bien comprendre la théorie statistique asymptotique, notamment le théorème de Cramer-Rao. Dans la classe des estimateurs sans biais, c'est-à-dire dont le premier terme est nul, trouver l'estimateur à variance minimale revient à trouver l'estimateur qui minimise $\\mathbb{E}\\bigg[(y - h_\\theta(X))^2 \\bigg]$. C'est la définition même de la régression, ce qui, quand on fait des hypothèses supplémentaires sur le modèle statistique, explique le théorème de Cramer-Rao."
   ]
  },
  {
   "cell_type": "markdown",
   "id": "2e9afa66",
   "metadata": {},
   "source": [
    "![](https://upload.wikimedia.org/wikipedia/commons/thumb/1/19/Overfitting.svg/300px-Overfitting.svg.png)\n",
    "\n",
    "La ligne verte ci-dessus est trop dépendante des données et risque de produire une erreur plus importante que la ligne noire (qui moyennise plus) sur de nouvelles données. "
   ]
  },
  {
   "cell_type": "markdown",
   "id": "0091ea4d",
   "metadata": {},
   "source": [
    "Pour renforcer la validité externe d'un modèle, il est ainsi commun, en *Machine Learning*:\n",
    "\n",
    "1. d'estimer un modèle sur un jeu de données mais d'évaluer la performance, et donc la pertinence, du modèle sur d'autres données. On parle de jeu d'apprentissage (*training set*) et jeu de validation ou de test (*testing set*) ;\n",
    "2. avoir des mesures de performances qui pénalisent fortement les modèles peu parcimonieux (BIC) ou conduire une première phase de sélection de variable (par des méthodes de LASSO...)"
   ]
  },
  {
   "cell_type": "markdown",
   "id": "6a2d3e3d",
   "metadata": {},
   "source": [
    "Pour décomposer un modèle en jeu d'estimation et de test, la meilleure méthode est d'utiliser les fonctionalités de `scikit`. La proportion  de la manière suivante:\n"
   ]
  },
  {
   "cell_type": "code",
   "execution_count": null,
   "id": "9c5f199a",
   "metadata": {},
   "outputs": [],
   "source": [
    "from sklearn.model_selection import train_test_split\n",
    "xTrain, xTest, yTrain, yTest = train_test_split(x, y, test_size = 0.2, random_state = 0)"
   ]
  },
  {
   "cell_type": "markdown",
   "id": "3bc6c9bf",
   "metadata": {},
   "source": [
    "La proportion d'observations dans le jeu de test est contrôlée par l'argument `test_size`. La proportion optimale n'existe pas ; la règle du pouce habituelle est d'assigner aléatoirement 20% des observations dans l'échantillon de test pour garder suffisamment d'observations dans l'échantillon d'estimation. "
   ]
  },
  {
   "cell_type": "markdown",
   "id": "398f2a09",
   "metadata": {},
   "source": [
    "Lorsqu'on travaille avec des séries temporelles, l'échantillonnage aléatoire des observations n'a pas vraiment de sens. Il vaut mieux tester la qualité de l'observation sur des périodes distinguées. \n",
    "\n",
    "Avec des données multi-niveaux, comme c'est le cas de données géographiques ou de données individuelles avec des variables de classe, il peut être intéressant d'utiliser un échantillonnage stratifié. Cela permet de garder une proportion équivalente de chaque groupe dans les deux jeux de données de test ou d'apprentissage. Ce type d'échantillonnage stratifié est possible avec `scikit`.\n",
    "\n",
    "L'exercice sur les SVM illustre cette construction et la manière\n",
    "dont elle facilite l'évaluation de la qualité d'un modèle.\n",
    "\n",
    "### Validation croisée\n",
    "\n",
    "Certains algorithmes font intervenir des hyperparamètres, c'est-à-dire des paramètres exogènes qui déterminent la prédiction mais ne sont pas estimés. La validation croisée est une méthode permettant de choisir la valeur du paramètre qui optimise la qualité de la prédiction en agrégeant des scores de performance sur des découpages différents de l'échantillon d'apprentissage.\n",
    "La validation croisée permet d'évaluer les performances de modèles différents (SVM, random forest, etc.) ou, couplé à une stratégie de *grid search* de trouver les valeurs des hyperparamètres qui aboutissent à la meilleure prédiction.\n",
    "\n",
    "L'étape de découpage de l'échantillon de validation croisée est à distinguer de l'étape `split_sample_test`. A ce stade, on a déjà partitionné les données en échantillon d'apprentissage et test. C'est l'échantillon d'apprentissage qu'on découpe en sous-morceaux. \n",
    "\n",
    "La méthode la plus commune est la validation croisée k-fold. On partitionne les données en *K* morceaux et on considère chaque pli, tour à tour, comme un échantillon\n",
    "de test en apprenant sur les *K-1* échantillons restants. Les *K* indicateurs ainsi calculés sur les *K* échantillons de test peuvent être moyennés et\n",
    "comparés pour plusieurs valeurs des hyperparamètres.\n",
    "\n",
    "![](https://scikit-learn.org/stable/_images/grid_search_cross_validation.png)\n",
    "\n",
    "Il existe d'autres types de validation croisée, notamment la *leave one out* qui consiste à considérer une fois\n",
    "exactement chaque observation comme l’échantillon de test (une *n-fold cross validation*).\n",
    "\n",
    "## Mesurer la performance\n",
    "\n",
    "Jusqu'à présent, nous avons passé sous silence la question du support de $y$. En pratique, celui-ci va néanmoins déterminer deux questions cruciales: la méthode et l'indicateur de performance.\n",
    "\n",
    "On distingue en général les problèmes de:\n",
    "\n",
    "* Classification: la variable $y$ est discrète\n",
    "* Régression: la variable $y$ est continue\n",
    "\n",
    "Les deux approches ne sont pas sans lien. On peut par exemple voir le modèle économétrique de choix d'offre de travail comme un problème de classification (participation ou non au marché du travail) ou de régression (régression sur un modèle à variable latente)\n",
    "\n",
    "### Classification\n",
    "\n",
    "La plupart des critères de performance sont construits à partir de la **matrice de confusion**:\n",
    "\n",
    "![Image empruntée à https://www.lebigdata.fr/confusion-matrix-definition](https://www.lebigdata.fr/wp-content/uploads/2018/12/confusion-matrix-exemple-768x432.jpg?ezimgfmt=ng:webp/ngcb1)\n",
    "\n",
    "A partir des 4 coins de cette matrice, il existe plusieurs mesure de performance\n",
    "\n",
    "| Critère     | Mesure       |  Calcul |\n",
    "|-------------|--------------|------------------|\n",
    "| *Accuracy*  | Taux de classification correcte | Diagonale du tableau: $\\frac{TP+TN}{TP+FP+FN+FP}$ |\n",
    "| *Precision* | Taux de vrais positifs  |Ligne des prédictions positives: $\\frac{TP}{TP+FP}$ |\n",
    "| *Recall* (rappel)   | Capacité à identifier les labels positifs | Colonne des prédictions positives: $\\frac{TP}{TP+FN}$ |\n",
    "| *F1 Score*  | Mesure synthétique (moyenne harmonique) de la précision et du rappel | $2 \\frac{precision \\times recall}{precision + recall}$  |\n",
    "\n",
    "En présence de classes désequilibrées, la\n",
    "F-mesure est plus pertinente pour évaluer les\n",
    "performances mais l’apprentissage restera\n",
    "mauvais si l’algorithme est sensible à ce\n",
    "problème. Notamment, si on désire avoir une performance équivalente sur les classes minoritaires, il faut généralement les sur-pondérer (ou faire un échantillonage stratifié) lors de la constitution de l'échantillon d'observation\n",
    "\n",
    "Il est possible de construire des modèles à partir des probabilités prédites d'appartenir à la classe d'intérêt. Pour cela, on fixe un seuil $c$ tel que\n",
    "\n",
    "$$\n",
    "\\mathbb{P}(y_i=1|X_i) > c \\Rightarrow \\widehat{y}_i = 1 \n",
    "$$\n",
    "\n",
    "Plus on augmente $c$, plus on est sélectif sur le critère d'appartenance à la classe. Le rappel, i.e. le taux de faux négatifs, diminue. Mais on augmente le nombre de positifs manqués. Pour chaque valeur de $c$ correspond une matrice de confusion et donc des mesures de performances. La **courbe ROC** est un outil classique pour représenter en un graphique l’ensemble de ces\n",
    "informations en faisant varier $c$ de 0 à 1\n",
    "\n",
    "![](https://glassboxmedicine.files.wordpress.com/2019/02/roc-curve-v2.png?w=576)\n",
    "\n",
    "L'aire sous la courbe (**AUC**) permet d'évaluer quantitativement le meilleur modèle au\n",
    "sens de ce critère. L'AUC représente la probabilité que le modèle soit capable de distinguer entre la classe positive et négative. \n",
    "\n",
    "### Régression\n",
    "\n",
    "En Machine Learning, les indicateurs de performance en régression sont les suivants:\n",
    "\n",
    "| Nom | Formule |\n",
    "|-----|---------|\n",
    "| Mean squared error | $MSE = \\mathbb{E}\\left[(y - h_\\theta(X))^2\\right]$ |\n",
    "| Root Mean squared error | $RMSE = \\sqrt{\\mathbb{E}\\left[(y - h_\\theta(X))^2\\right]}$ |\n",
    "| Mean Absolute Error | $MAE = \\mathbb{E}\\left[ |y - h_\\theta(X)| \\right]$ |\n",
    "| Mean Absolute Percentage Error | $MAE = \\mathbb{E}\\left[\\left|\\frac{y - h_\\theta(X)}{y}\\right|\\right]$ |\n",
    "\n",
    "L'économètre se focalise moins sur la qualité de la prédiction et utilisera \n",
    "d'autres critères pour évaluer la qualité d'un modèle (certains, comme le BIC, sont\n",
    "à regarder aussi dans une optique *Machine Learning*): $R^2$, $BIC$,\n",
    "$AIC$, *log-likelihood*, etc. "
   ]
  }
 ],
 "metadata": {
  "kernelspec": {
   "display_name": "Python 3",
   "language": "python",
   "name": "python3"
  }
 },
 "nbformat": 4,
 "nbformat_minor": 5
}
