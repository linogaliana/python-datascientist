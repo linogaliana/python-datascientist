{
 "cells": [
  {
   "cell_type": "markdown",
   "id": "f7a61c31",
   "metadata": {},
   "source": [
    "#  Les classes en Python"
   ]
  },
  {
   "cell_type": "markdown",
   "id": "616323a5",
   "metadata": {},
   "source": [
    "<a href=\"https://github.com/linogaliana/python-datascientist/blob/master/notebooks/course/getting-started/07_rappels_classes.ipynb\" class=\"github\"><i class=\"fab fa-github\"></i></a>\n",
    "[![Download](https://img.shields.io/badge/Download-Notebook-important?logo=Jupyter)](https://downgit.github.io/#/home?url=https://github.com/linogaliana/python-datascientist/blob/master/notebooks/course/getting-started/07_rappels_classes.ipynb)\n",
    "[![nbviewer](https://img.shields.io/badge/Visualize-nbviewer-blue?logo=Jupyter)](https://nbviewer.jupyter.org/github/linogaliana/python-datascientist/blob/master/notebooks/course/getting-started/07_rappels_classes.ipynb)\n",
    "[![Onyxia](https://img.shields.io/badge/SSPcloud-Tester%20via%20SSP--cloud-informational&color=yellow?logo=Python)](https://datalab.sspcloud.fr/launcher/inseefrlab-helm-charts-datascience/jupyter?onyxia.friendlyName=«python-datascientist»&resources.requests.memory=«4Gi»&init.personnalInit=«https://raw.githubusercontent.com/linogaliana/python-datascientist/master/init_onyxia.sh»)\n",
    "[![Binder](https://img.shields.io/badge/Launch-Binder-E66581.svg?logo=data:image/png;base64,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)](https://mybinder.org/v2/gh/linogaliana/python-datascientist/master?filepath=notebooks/course/getting-started/07_rappels_classes.ipynb)\n",
    "[![Open In Colab](https://colab.research.google.com/assets/colab-badge.svg)](http://colab.research.google.com/github/linogaliana/python-datascientist/blob/master/notebooks/course/getting-started/07_rappels_classes.ipynb)\n",
    "\n",
    "**Ce TP est optionnel**"
   ]
  },
  {
   "cell_type": "markdown",
   "id": "eb8f06c1",
   "metadata": {},
   "source": [
    "On dit que Python est un __langage orienté objet__  \n",
    "\n",
    "Mmmh, certes... Mais ça veut dire quoi ? \n",
    "\n",
    "En résumé, le langage python se base sur des objets et définit pour eux des actions. \n",
    "\n",
    "Chaque objet a des caractéristiques (une taille, un nom, un format etc.) et peut réaliser des actions. \n",
    "\n",
    "Un objet dans le monde réel, ça peut-être comme une voiture, une personne ou encore une page d'un livre. Il possède une structure interne et un comportement, et il sait interagir avec ses pairs. \n",
    "\n",
    "Pour Python, c'est un peu pareil : un code c'est ni plus ni moins que de représenter ces objets et leurs relations entre eux \n",
    "\n"
   ]
  },
  {
   "cell_type": "markdown",
   "id": "fca8f6cf",
   "metadata": {
    "lines_to_next_cell": 2
   },
   "source": [
    "\n",
    "# La définition d'un objet\n",
    "\n",
    "Pour définir un objet, il faut lui donner des caractéristiques et des actions, ce qu'il est, ce qu'il peut faire.\n",
    "\n",
    "\n",
    "Avec une liste, on peut ajouter des éléments par exemple avec l'action .append(). On peut créer autant d'objets \"liste\" qu'on le souhaite. \n",
    "\n",
    "\n",
    "__Une classe regroupe des fonctions et des attributs qui définissent un objet.__\n",
    "Un objet est une instance d'une classe, c'est-à-dire un exemplaire issu de la classe. L'objet avec un comportement et un état, tous deux définis par la classe. On peut créer autant d'objets que l'on désire avec une classe donnée.\n",
    "\n",
    "Ici nous allons essayer de créer une classe chat, avec des attributs pour caractériser le chat et des actions, pour voir ce qu'il peut faire avec un objet de la classe chat.\n",
    "\n",
    "\n",
    "# Exemple : la Classe chat()\n",
    "\n",
    "## Les attributs de la classe chat\n",
    "\n",
    "### Classe chat version 1 - premiers attributs\n",
    "\n",
    "On veut pouvoir créer un objet chat() qui nous permettra à terme de créer une colonie de chats (on sait\n",
    "jamais ca peut servir ...).\n",
    "Pour commencer, on va définir un chat avec des attributs de base : une couleur et un nom."
   ]
  },
  {
   "cell_type": "code",
   "execution_count": null,
   "id": "daf1a10e",
   "metadata": {
    "lines_to_next_cell": 2
   },
   "outputs": [],
   "source": [
    "class chat: # Définition de notre classe chat\n",
    "    \"\"\"Classe définissant un chat caractérisé par :\n",
    "    - son nom\n",
    "    - sa couleur \"\"\"\n",
    "    \n",
    "    def __init__(self): # Notre méthode constructeur - \n",
    "        # self c'est notre objet qu'on est en train de créer\n",
    "        \"\"\"Pour l'instant, on ne va définir que deux attributs - nom et couleur \"\"\"\n",
    "        self.couleur = \"Noir\"   \n",
    "        self.nom = \"Aucun nom\""
   ]
  },
  {
   "cell_type": "code",
   "execution_count": null,
   "id": "b7cdd937",
   "metadata": {},
   "outputs": [],
   "source": [
    "mon_chat = chat()\n",
    "\n",
    "print(type(mon_chat), mon_chat.couleur ,\",\", mon_chat.nom) \n",
    "# on nous dit bien que Mon chat est défini à partir de la classe chat \n",
    "# c'est ce que nous apprend la fonction type\n",
    "# pour l'instant il n'a pas de nom"
   ]
  },
  {
   "cell_type": "markdown",
   "id": "0ded8b09",
   "metadata": {},
   "source": [
    "```\n",
    "## <class '__main__.chat'> Noir , Aucun nom\n",
    "```\n",
    "\n",
    "### Classe chat version 2 - autres attributs\n",
    "\n",
    "Avec un nom et une couleur, on ne va pas loin. On peut continuer à définir des attributs pour la classe chat\n",
    "de la même façon que précédemment.\n"
   ]
  },
  {
   "cell_type": "code",
   "execution_count": null,
   "id": "cff1a67a",
   "metadata": {
    "lines_to_next_cell": 2
   },
   "outputs": [],
   "source": [
    "class chat: # Définition de notre classe chat\n",
    "    \"\"\"Classe définissant un chat caractérisé par :\n",
    "    - sa couleur\n",
    "    - son âge\n",
    "    - son caractère\n",
    "    - son poids\n",
    "    - son maitre\n",
    "    - son nom \"\"\"\n",
    "\n",
    "    \n",
    "    def __init__(self): # Notre méthode constructeur - \n",
    "        #self c'est notre objet qu'on est en train de créer\n",
    "        self.couleur = \"Noir\"    \n",
    "        self.age = 10\n",
    "        self.caractere = \"Joueur\"\n",
    "        self.poids = 3\n",
    "        self.maitre = \"Jeanne\"\n",
    "        self.nom = \"Aucun nom\""
   ]
  },
  {
   "cell_type": "code",
   "execution_count": null,
   "id": "6c48d6cd",
   "metadata": {},
   "outputs": [],
   "source": [
    "help(chat) \n",
    "# si on veut savoir ce que fait la classe \"chat\" on appelle l'aide"
   ]
  },
  {
   "cell_type": "markdown",
   "id": "12a9f2ed",
   "metadata": {},
   "source": [
    "```\n",
    "## Help on class chat in module __main__:\n",
    "## \n",
    "## class chat(builtins.object)\n",
    "##  |  Classe définissant un chat caractérisé par :\n",
    "##  |  - sa couleur\n",
    "##  |  - son âge\n",
    "##  |  - son caractère\n",
    "##  |  - son poids\n",
    "##  |  - son maitre\n",
    "##  |  - son nom\n",
    "##  |  \n",
    "##  |  Methods defined here:\n",
    "##  |  \n",
    "##  |  __init__(self)\n",
    "##  |      Initialize self.  See help(type(self)) for accurate signature.\n",
    "##  |  \n",
    "##  |  ----------------------------------------------------------------------\n",
    "##  |  Data descriptors defined here:\n",
    "##  |  \n",
    "##  |  __dict__\n",
    "##  |      dictionary for instance variables (if defined)\n",
    "##  |  \n",
    "##  |  __weakref__\n",
    "##  |      list of weak references to the object (if defined)\n",
    "```\n"
   ]
  },
  {
   "cell_type": "code",
   "execution_count": null,
   "id": "1de63545",
   "metadata": {},
   "outputs": [],
   "source": [
    "mon_chat = chat()\n",
    "print(\"L'âge du chat est\", mon_chat.age,\"ans\") \n",
    "# on avait défini l'attribut age de la classe chat comme étant égal à 10\n",
    "#, si on demande l'attribut age de notre Martin on obtient 10"
   ]
  },
  {
   "cell_type": "markdown",
   "id": "4eb1c1f5",
   "metadata": {},
   "source": [
    "```\n",
    "## L'âge du chat est 10 ans\n",
    "```\n",
    "\n",
    "Par défaut, les attributs de la classe Chat seront toujours les mêmes à chaque création de chat à partir\n",
    "de la classe Chat.\n",
    "\n",
    "Mais une fois qu'une instance de classe est créée (ici mon chat est une instance de classe) on peut décider\n",
    "de changer la valeur de ses attributs.\n",
    "\n",
    "#### Un nouveau poids\n"
   ]
  },
  {
   "cell_type": "code",
   "execution_count": null,
   "id": "f0006295",
   "metadata": {},
   "outputs": [],
   "source": [
    "print(mon_chat.poids)\n",
    "# si on veut changer le poids de mon chat, parce qu'il a un peu grossi après les fêtes"
   ]
  },
  {
   "cell_type": "markdown",
   "id": "fd4655f2",
   "metadata": {},
   "source": [
    "```\n",
    "## 3\n",
    "```"
   ]
  },
  {
   "cell_type": "code",
   "execution_count": null,
   "id": "66fca391",
   "metadata": {},
   "outputs": [],
   "source": [
    "mon_chat.poids = 3.5\n",
    "print(mon_chat.poids) # maintenant le poids est 3.5"
   ]
  },
  {
   "cell_type": "markdown",
   "id": "990b89fa",
   "metadata": {},
   "source": [
    "```\n",
    "## 3.5\n",
    "```\n",
    "\n",
    "#### Un nouveau nom\n"
   ]
  },
  {
   "cell_type": "code",
   "execution_count": null,
   "id": "97f5ca2c",
   "metadata": {},
   "outputs": [],
   "source": [
    "# on veut aussi lui donner un nom \n",
    "mon_chat.nom = \"Martin\"\n",
    "mon_chat.nom"
   ]
  },
  {
   "cell_type": "markdown",
   "id": "bee51b73",
   "metadata": {},
   "source": [
    "```\n",
    "## 'Martin'\n",
    "```\n",
    "\n",
    "#### Une autre instance de la classe Chat\n",
    "\n",
    "On peut aussi créer d'autres objets chat à partir de la classe chat : \n"
   ]
  },
  {
   "cell_type": "code",
   "execution_count": null,
   "id": "09747a5a",
   "metadata": {},
   "outputs": [],
   "source": [
    "# on appelle la classe\n",
    "l_autre_chat = chat()\n",
    "# on change les attributs qui nous intéressent\n",
    "l_autre_chat.nom = \"Ginette\"\n",
    "l_autre_chat.maitre = \"Roger\"\n",
    "# les attributs inchangés donnent la même chose \n",
    "# que ceux définis par défaut pour la classe\n",
    "print(l_autre_chat.couleur)"
   ]
  },
  {
   "cell_type": "markdown",
   "id": "29b181e5",
   "metadata": {},
   "source": [
    "```\n",
    "## Noir\n",
    "```\n",
    "\n",
    "## Les méthodes de la classe chat\n",
    "\n",
    "Les attributs sont des variables propres à notre objet, qui servent à le caractériser. \n",
    "\n",
    "Les méthodes sont plutôt des actions, comme nous l'avons vu dans la partie précédente, agissant sur l'objet. \n",
    "\n",
    "Par exemple, la méthode append de la classe list permet d'ajouter un élément dans l'objet list manipulé.\n",
    "\n",
    "### Classe chat version 3 - première méthode\n",
    "\n",
    "On peut définir une première méthode : nourrir\n"
   ]
  },
  {
   "cell_type": "code",
   "execution_count": null,
   "id": "b00f06c9",
   "metadata": {
    "lines_to_next_cell": 2
   },
   "outputs": [],
   "source": [
    "class chat: # Définition de notre classe chat\n",
    "    \"\"\"Classe définissant un chat caractérisé par :\n",
    "    - sa couleur\n",
    "    - son âge\n",
    "    - son caractère\n",
    "    - son poids\n",
    "    - son maitre\n",
    "    - son nom \n",
    "    \n",
    "    L'objet chat a une méthode : nourrir \"\"\"\n",
    "\n",
    "    \n",
    "    def __init__(self): # Notre méthode constructeur - \n",
    "        #self c'est notre objet qu'on est en train de créer\n",
    "        self.couleur = \"Noir\"    \n",
    "        self.age = 10\n",
    "        self.caractere = \"Joueur\"\n",
    "        self.poids = 3\n",
    "        self.maitre = \"Jeanne\"\n",
    "        self.nom = \"Aucun nom\"\n",
    "        \n",
    "        \"\"\"Par défaut, notre ventre est vide\"\"\"\n",
    "        self.ventre = \"\"\n",
    "        \n",
    "    def nourrir(self, nourriture):\n",
    "        \"\"\"Méthode permettant de donner à manger au chat.\n",
    "        Si le ventre n'est pas vide, on met une virgule avant de rajouter\n",
    "        la nourriture\"\"\"       \n",
    "        if self.ventre != \"\":\n",
    "            self.ventre += \",\"\n",
    "        self.ventre += nourriture"
   ]
  },
  {
   "cell_type": "code",
   "execution_count": null,
   "id": "cb0cdc0f",
   "metadata": {},
   "outputs": [],
   "source": [
    "mon_chat = chat()\n",
    "mon_chat.nom = \"Martin\"\n",
    "mon_chat.ventre # On n'a rien donné à Martin, son ventre est vide"
   ]
  },
  {
   "cell_type": "markdown",
   "id": "7bed95c8",
   "metadata": {},
   "source": [
    "```\n",
    "## ''\n",
    "```\n"
   ]
  },
  {
   "cell_type": "code",
   "execution_count": null,
   "id": "fb8b5110",
   "metadata": {},
   "outputs": [],
   "source": [
    "# on appelle la méthode \"nourrir\" de la classe chat, \n",
    "# on lui donne un élément, ici des croquettes\n",
    "mon_chat.nourrir('Croquettes')\n",
    "print(\"Le contenu du ventre de martin : \",mon_chat.ventre)"
   ]
  },
  {
   "cell_type": "markdown",
   "id": "2f9033f5",
   "metadata": {},
   "source": [
    "```\n",
    "## Le contenu du ventre de martin :  Croquettes\n",
    "```\n"
   ]
  },
  {
   "cell_type": "code",
   "execution_count": null,
   "id": "343fdf82",
   "metadata": {},
   "outputs": [],
   "source": [
    "mon_chat.nourrir('Saumon')\n",
    "print(\"Le contenu du ventre de martin : \",mon_chat.ventre)"
   ]
  },
  {
   "cell_type": "markdown",
   "id": "5ef4e544",
   "metadata": {},
   "source": [
    "```\n",
    "## Le contenu du ventre de martin :  Croquettes,Saumon\n",
    "```\n",
    "\n",
    "### Classe chat version 4 - autre méthode\n",
    "\n",
    "Avec un chat, on peut imaginer plein de méthodes. Ici on va définir une action \"nourrir\" et une autre action\n",
    "\"litiere\", qui consiste à vider l'estomac du chat.\n"
   ]
  },
  {
   "cell_type": "code",
   "execution_count": null,
   "id": "99f27bf7",
   "metadata": {
    "lines_to_next_cell": 2
   },
   "outputs": [],
   "source": [
    "\n",
    "class chat: # Définition de notre classe Personne\n",
    "    \"\"\"Classe définissant un chat caractérisé par :\n",
    "    - sa couleur\n",
    "    - son âge\n",
    "    - son caractère\n",
    "    - son poids\n",
    "    - son maitre\n",
    "    - son nom \n",
    "    \n",
    "    L'objet chat a deux méthodes : nourrir et litiere \"\"\"\n",
    "\n",
    "    \n",
    "    def __init__(self): # Notre méthode constructeur - \n",
    "        #self c'est notre objet qu'on est en train de créer\n",
    "        self.nom = \"\"\n",
    "        self.couleur = \"Roux\"    \n",
    "        self.age = 10\n",
    "        self.caractere = \"Joueur\"\n",
    "        self.poids = 3\n",
    "        self.maitre = \"Jeanne\"\n",
    "        \"\"\"Par défaut, notre ventre est vide\"\"\"\n",
    "        self.ventre = \"\"\n",
    "        \n",
    "    def nourrir(self, nourriture):\n",
    "        \"\"\"Méthode permettant de donner à manger au chat.\n",
    "        Si le ventre n'est pas vide, on met une virgule avant de rajouter\n",
    "        la nourriture\"\"\"       \n",
    "        if self.ventre != \"\":\n",
    "            self.ventre += \",\"\n",
    "        self.ventre += nourriture\n",
    "\n",
    "    def litiere(self) : \n",
    "        \"\"\" Méthode permettant au chat d'aller à sa litière : \n",
    "        en conséquence son ventre est vide \"\"\"       \n",
    "        self.ventre = \"\"\n",
    "        print(self.nom,\"a le ventre vide\")"
   ]
  },
  {
   "cell_type": "code",
   "execution_count": null,
   "id": "02b29402",
   "metadata": {},
   "outputs": [],
   "source": [
    "# on définit Martin le chat\n",
    "mon_chat = chat()\n",
    "mon_chat.nom = \"Martin\"\n",
    "# on le nourrit avec des croquettes\n",
    "mon_chat.nourrir('croquettes')\n",
    "print(\"Le contenu du ventre de martin\", mon_chat.ventre)\n",
    "\n",
    "\n",
    "# Il va dans sa litiere"
   ]
  },
  {
   "cell_type": "markdown",
   "id": "9ff13bb6",
   "metadata": {},
   "source": [
    "```\n",
    "## Le contenu du ventre de martin croquettes\n",
    "```"
   ]
  },
  {
   "cell_type": "code",
   "execution_count": null,
   "id": "2b75a83a",
   "metadata": {},
   "outputs": [],
   "source": [
    "mon_chat.litiere()"
   ]
  },
  {
   "cell_type": "markdown",
   "id": "c4e73609",
   "metadata": {},
   "source": [
    "```\n",
    "## Martin a le ventre vide\n",
    "```\n"
   ]
  },
  {
   "cell_type": "code",
   "execution_count": null,
   "id": "a562c3b4",
   "metadata": {},
   "outputs": [],
   "source": [
    "help(mon_chat.nourrir)"
   ]
  },
  {
   "cell_type": "markdown",
   "id": "e68c03bb",
   "metadata": {},
   "source": [
    "```\n",
    "## Help on method nourrir in module __main__:\n",
    "## \n",
    "## nourrir(nourriture) method of __main__.chat instance\n",
    "##     Méthode permettant de donner à manger au chat.\n",
    "##     Si le ventre n'est pas vide, on met une virgule avant de rajouter\n",
    "##     la nourriture\n",
    "```"
   ]
  },
  {
   "cell_type": "code",
   "execution_count": null,
   "id": "537a801d",
   "metadata": {},
   "outputs": [],
   "source": [
    "help(mon_chat.litiere)"
   ]
  },
  {
   "cell_type": "markdown",
   "id": "ac2f8f7a",
   "metadata": {},
   "source": [
    "```\n",
    "## Help on method litiere in module __main__:\n",
    "## \n",
    "## litiere() method of __main__.chat instance\n",
    "##     Méthode permettant au chat d'aller à sa litière : \n",
    "##     en conséquence son ventre est vide\n",
    "```"
   ]
  },
  {
   "cell_type": "markdown",
   "id": "9e977c60",
   "metadata": {
    "lines_to_next_cell": 2
   },
   "source": [
    "\n",
    "### ___facultatif___ Les méthodes spéciales \n",
    "\n",
    "Si on reprend notre classe chat, il y a en réalité des méthodes spéciales que nous n'avons pas définies mais\n",
    "qui sont implicites.\n",
    "\n",
    "\n",
    "Python comprend seul ce que doivent faire ces méthodes. Il a une idée préconcue de ce qu'elles doivent\n",
    "effectuer comme opération. Si vous ne redéfinissez par une méthode spéciale pour qu'elle fasse ce que vous\n",
    "souhaitez, ca peut donner des r\u0013esultats inattendus.\n",
    "\n",
    "Elles servent à plusieurs choses : \n",
    "\n",
    "- à initialiser l'objet instancié : \\_\\_init\\_\\_\n",
    "- à modifier son affichage : \\_\\_repr\\_\\_\n"
   ]
  },
  {
   "cell_type": "code",
   "execution_count": null,
   "id": "8218576b",
   "metadata": {},
   "outputs": [],
   "source": [
    "# pour avoir la valeur de l'attribut \"nom\"\n",
    "\n",
    "print(mon_chat.__getattribute__(\"nom\"))\n",
    "# on aurait aussi pu faire plus simple :"
   ]
  },
  {
   "cell_type": "markdown",
   "id": "ce8853e7",
   "metadata": {},
   "source": [
    "```\n",
    "## Martin\n",
    "```"
   ]
  },
  {
   "cell_type": "code",
   "execution_count": null,
   "id": "3e04dccc",
   "metadata": {},
   "outputs": [],
   "source": [
    "print(mon_chat.nom)"
   ]
  },
  {
   "cell_type": "markdown",
   "id": "3382e73b",
   "metadata": {},
   "source": [
    "```\n",
    "## Martin\n",
    "```\n",
    "\n",
    "~~~python\n",
    "# si l'attribut n'existe pas : on a une erreur\n",
    "# Python recherche l'attribut et, s'il ne le trouve pas dans l'objet et si une méthode __getattr__ est spécifiée, \n",
    "# il va l'appeler en lui passant en paramètre le nom de l'attribut recherché, sous la forme d'une chaîne de caractères.\n",
    "\n",
    "print(mon_chat.origine)\n",
    "~~~\n",
    "\n",
    "```\n",
    "## Error in py_call_impl(callable, dots$args, dots$keywords): AttributeError: 'chat' object has no attribute 'origine'\n",
    "## \n",
    "## Detailed traceback: \n",
    "##   File \"<string>\", line 1, in <module>\n",
    "```"
   ]
  },
  {
   "cell_type": "markdown",
   "id": "40374ea5",
   "metadata": {},
   "source": [
    "Mais on peut modifier les méthodes spéciales de notre classe chat pour éviter d'avoir des erreurs d'attributs. On va aussi en profiter pour modifier la représentation de l'instance chat qui pour l'instant donne  <\\__main\\__.chat object at 0x0000000005AB4C50>\n",
    "\n",
    "### Classe chat version 5 - méthode spéciale\n"
   ]
  },
  {
   "cell_type": "code",
   "execution_count": null,
   "id": "3fa8b867",
   "metadata": {
    "lines_to_next_cell": 2
   },
   "outputs": [],
   "source": [
    "\n",
    "class chat: # Définition de notre classe Personne\n",
    "    \"\"\"Classe définissant un chat caractérisé par :\n",
    "    - sa couleur\n",
    "    - son âge\n",
    "    - son caractère\n",
    "    - son poids\n",
    "    - son maitre\n",
    "    - son nom \n",
    "    \n",
    "    L'objet chat a deux méthodes : nourrir et litiere \"\"\"\n",
    "\n",
    "    \n",
    "    def __init__(self): # Notre méthode constructeur - \n",
    "        #self c'est notre objet qu'on est en train de créer\n",
    "        self.nom = \"\"\n",
    "        self.couleur = \"Roux\"    \n",
    "        self.age = 10\n",
    "        self.caractere = \"Joueur\"\n",
    "        self.poids = 3\n",
    "        self.maitre = \"Jeanne\"\n",
    "        \"\"\"Par défaut, notre ventre est vide\"\"\"\n",
    "        self.ventre = \"\"\n",
    "        \n",
    "    def nourrir(self, nourriture):\n",
    "        \"\"\"Méthode permettant de donner à manger au chat.\n",
    "        Si le ventre n'est pas vide, on met une virgule avant de rajouter\n",
    "        la nourriture\"\"\"       \n",
    "        if self.ventre != \"\":\n",
    "            self.ventre += \",\"\n",
    "        self.ventre += nourriture\n",
    "\n",
    "    def litiere(self) : \n",
    "        \"\"\" Méthode permettant au chat d'aller à sa litière : \n",
    "        en conséquence son ventre est vide \"\"\"       \n",
    "        self.ventre = \"\"\n",
    "        print(self.nom,\"a le ventre vide\")\n",
    "    \n",
    "    def __getattribute__(self, key):\n",
    "            return print(key,\"n'est pas un attribut de la classe chat\")   \n",
    "            \n",
    "    def __repr__(self):\n",
    "            return \"Je suis une instance de la classe chat\""
   ]
  },
  {
   "cell_type": "code",
   "execution_count": null,
   "id": "91f31b7f",
   "metadata": {},
   "outputs": [],
   "source": [
    "# j'ai gardé l'exemple chat défini selon la classe version 4\n",
    "# Martin, le chat\n",
    "# on a vu précédemment qu'il n'avait pas d'attribut origine\n",
    "# et que cela levait une erreur AttributeError\n",
    "print(mon_chat.nom)\n",
    "\n",
    "\n",
    "# on va définir un nouveau chat avec la version 5\n",
    "# on appelle à nouveau un attribut qui n'existe pas \"origine\"\n",
    "# on a bien le message défini par la méthode spéciale _gettattribute"
   ]
  },
  {
   "cell_type": "markdown",
   "id": "88be8930",
   "metadata": {},
   "source": [
    "```\n",
    "## Martin\n",
    "```"
   ]
  },
  {
   "cell_type": "code",
   "execution_count": null,
   "id": "f1248352",
   "metadata": {},
   "outputs": [],
   "source": [
    "mon_chat_nouvelle_version = chat()\n",
    "mon_chat_nouvelle_version.origine\n",
    "\n",
    "# Maintenant on a aussi une définition de l'objet plus clair"
   ]
  },
  {
   "cell_type": "markdown",
   "id": "08d1dead",
   "metadata": {},
   "source": [
    "```\n",
    "## origine n'est pas un attribut de la classe chat\n",
    "```"
   ]
  },
  {
   "cell_type": "code",
   "execution_count": null,
   "id": "9c30a1af",
   "metadata": {},
   "outputs": [],
   "source": [
    "print(mon_chat)"
   ]
  },
  {
   "cell_type": "markdown",
   "id": "2b8730a0",
   "metadata": {},
   "source": [
    "```\n",
    "## <__main__.chat object at 0x7f90a9fdbe80>\n",
    "```"
   ]
  },
  {
   "cell_type": "code",
   "execution_count": null,
   "id": "df85b266",
   "metadata": {},
   "outputs": [],
   "source": [
    "print(mon_chat_nouvelle_version)"
   ]
  },
  {
   "cell_type": "markdown",
   "id": "44f84cf0",
   "metadata": {},
   "source": [
    "```\n",
    "## Je suis une instance de la classe chat\n",
    "```\n",
    "\n",
    "------ \n",
    "\n",
    "### Conclusion sur les classes : ce qu'on retient\n",
    "\n",
    "- Les méthodes se définissent comme des fonctions, sauf qu'elles se trouvent dans le corps de la classe.\n",
    "\n",
    "- On définit les attributs d'une instance dans le constructeur de sa classe, en suivant cette syntaxe : self.nom_attribut = valeur.\n",
    "\n",
    "- _facultatif_ : Les méthodes d'instance prennent en premier paramètre \"self\", l'instance de l'objet manipulé.\n",
    "\n",
    "- _facultatif_ : On construit une instance de classe en appelant son constructeur, une méthode d'instance appelée __init__."
   ]
  }
 ],
 "metadata": {
  "kernelspec": {
   "display_name": "Python 3",
   "language": "python",
   "name": "python3"
  }
 },
 "nbformat": 4,
 "nbformat_minor": 5
}
