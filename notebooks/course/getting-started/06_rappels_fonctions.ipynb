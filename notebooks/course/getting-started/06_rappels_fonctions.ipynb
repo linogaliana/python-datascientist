{
  "cells": [
    {
      "cell_type": "markdown",
      "metadata": {},
      "source": [
        "# Modules, tests, boucles, fonctions"
      ],
      "id": "da139a9d-2d7e-44cc-a3a9-485136ad8e29"
    },
    {
      "cell_type": "markdown",
      "metadata": {},
      "source": [
        "<p class=\"badges\">\n",
        "\n",
        "<a href=\"https://github.com/linogaliana/python-datascientist/blob/master/notebooks/course/getting-started/06_rappels_fonctions.ipynb\" class=\"github\"><i class=\"fab fa-github\"></i></a>\n",
        "<a href=\"https://downgit.github.io/#/home?url=https://github.com/linogaliana/python-datascientist/blob/master/notebooks/course/getting-started/06_rappels_fonctions.ipynb\" target=\"_blank\" rel=\"noopener\"><img src=\"https://img.shields.io/badge/Download-Notebook-important?logo=Jupyter\" alt=\"Download\"></a>\n",
        "<a href=\"https://nbviewer.jupyter.org/github/linogaliana/python-datascientist/blob/master/notebooks/course/getting-started/06_rappels_fonctions.ipynb\" target=\"_blank\" rel=\"noopener\"><img src=\"https://img.shields.io/badge/Visualize-nbviewer-blue?logo=Jupyter\" alt=\"nbviewer\"></a>\n",
        "<a href=\"https://datalab.sspcloud.fr/launcher/ide/jupyter-python?autoLaunch=true&onyxia.friendlyName=%C2%ABpython-datascience%C2%BB&init.personalInit=%C2%ABhttps%3A%2F%2Fraw.githubusercontent.com%2Flinogaliana%2Fpython-datascientist%2Fmaster%2Fsspcloud%2Finit-jupyter.sh%C2%BB&init.personalInitArgs=%C2%ABgetting-started%2006_rappels_fonctions%C2%BB&security.allowlist.enabled=false\" target=\"_blank\" rel=\"noopener\"><img src=\"https://img.shields.io/badge/SSPcloud-Tester%20via%20SSP--cloud-informational&amp;color=yellow?logo=Python\" alt=\"Onyxia\"></a><br>\n",
        "<a href=\"https://mybinder.org/v2/gh/linogaliana/python-datascientist/master?filepath={binder_path}\" target=\"_blank\" rel=\"noopener\"><img src=\"https://img.shields.io/badge/Launch-Binder-E66581.svg?logo=data:image/png;base64,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\" alt=\"Binder\"></a>\n",
        "<a href=\"http://colab.research.google.com/github/linogaliana/python-datascientist/blob/master/notebooks/course/getting-started/06_rappels_fonctions.ipynb\" target=\"_blank\" rel=\"noopener\"><img src=\"https://colab.research.google.com/assets/colab-badge.svg\" alt=\"Open In Colab\"></a>\n",
        "<a href=\"https://github.dev/linogaliana/python-datascientist/notebooks/course/getting-started/06_rappels_fonctions.ipynb\" target=\"_blank\" rel=\"noopener\"><img src=\"https://img.shields.io/static/v1?logo=visualstudiocode&label=&message=Open%20in%20Visual%20Studio%20Code&labelColor=2c2c32&color=007acc&logoColor=007acc\" alt=\"githubdev\"></a>\n",
        "\n",
        "</p>\n",
        "\n",
        "</p>"
      ],
      "id": "f03bbab4-3124-41bd-bdc1-e36a8fa03205"
    },
    {
      "cell_type": "markdown",
      "metadata": {},
      "source": [
        "### Pour mettre à jour un module déjà installé :\n",
        "\n",
        "Il faut retourner dans l’invite de commande et taper\n",
        "\n",
        "-   **conda upgrade** nom_module\n",
        "\n",
        "## Utilisation d’un module installé\n",
        "\n",
        "Au contraire de STATA mais comme pour R, il\n",
        "faut **toujours préciser les packages que vous utilisez au début du code**,\n",
        "sinon Python ne reconnait pas les fonctions appelées.\n",
        "\n",
        "### Import *module*\n",
        "\n",
        "On charge un module grâce à la commande `import`.\n",
        "Pour chaque code que vous exécutez, il faut charger les modules en introduction.\n",
        "\n",
        "Une fois que l’on a chargé le module, on peut faire appel aux commandes qui en dépendent en les appelant après avoir tapé le nom du module. Si vous ne précisez pas le nom du module avant celui de la fonction, il ne la trouvera pas forcément.\n",
        "\n",
        "Voici un exemple avec le module numpy qui est très courant et permet de faire des calculs matriciels sous Python."
      ],
      "id": "a4e9227a-bd7d-4b8d-bc2b-85b975117e21"
    },
    {
      "cell_type": "code",
      "execution_count": 2,
      "metadata": {},
      "outputs": [
        {
          "output_type": "stream",
          "name": "stdout",
          "text": [
            "[0 1 2 3 4]"
          ]
        }
      ],
      "source": [
        "import numpy\n",
        "print(numpy.arange(5))"
      ],
      "id": "3ac4ac17-82ad-4850-bdca-3b082b256bd0"
    },
    {
      "cell_type": "markdown",
      "metadata": {},
      "source": [
        "### Import *module* as *md* - donner un nom au module\n",
        "\n",
        "On peut aussi donner un pseudonyme au module pour éviter de taper un nom trop long à chaque fois qu’on utilise une fonction. Classiquement le nom raccourci de numpy est *np*, celui de pandas est *pd*."
      ],
      "id": "59075843-ae2f-4570-9c8d-23913796b54f"
    },
    {
      "cell_type": "code",
      "execution_count": 3,
      "metadata": {},
      "outputs": [
        {
          "output_type": "display_data",
          "metadata": {},
          "data": {
            "text/html": [
              "<div>\n",
              "<style scoped>\n",
              "    .dataframe tbody tr th:only-of-type {\n",
              "        vertical-align: middle;\n",
              "    }\n",
              "\n",
              "    .dataframe tbody tr th {\n",
              "        vertical-align: top;\n",
              "    }\n",
              "\n",
              "    .dataframe thead th {\n",
              "        text-align: right;\n",
              "    }\n",
              "</style>\n",
              "<table border=\"1\" class=\"dataframe\">\n",
              "  <thead>\n",
              "    <tr style=\"text-align: right;\">\n",
              "      <th></th>\n",
              "      <th>0</th>\n",
              "      <th>1</th>\n",
              "    </tr>\n",
              "  </thead>\n",
              "  <tbody>\n",
              "    <tr>\n",
              "      <th>0</th>\n",
              "      <td>1</td>\n",
              "      <td>2</td>\n",
              "    </tr>\n",
              "    <tr>\n",
              "      <th>1</th>\n",
              "      <td>3</td>\n",
              "      <td>4</td>\n",
              "    </tr>\n",
              "  </tbody>\n",
              "</table>\n",
              "</div>"
            ]
          }
        }
      ],
      "source": [
        "import pandas as pd\n",
        "import numpy as np\n",
        "small_array = np.array([[1, 2], [3, 4]])\n",
        "data = pd.DataFrame(small_array)\n",
        "data.head()"
      ],
      "id": "ce270bd9-c789-4cd0-b001-181252769eab"
    },
    {
      "cell_type": "markdown",
      "metadata": {},
      "source": [
        "### from *Module* Import *fonction* - seulement une partie du module\n",
        "\n",
        "Si on ne veut pas être obligé de donner le nom du module avant d’appeler\n",
        "la fonction, il y a toujours la possibilité de n’importer qu’une fonction du module. Dans le cas de l’exemple, Python sait que la fonction `arrange` est celle de `numpy`.\n",
        "\n",
        "Mais ***attention*** : si deux fonctions de modules différents ont le même nom, c’est toujours la dernière importée qui gagne.\n",
        "\n",
        "On voit souvent `from _module_ import *`. C’est-à-dire qu’on importe toutes les fonctions du module mais on n’a pas besoin de spécifier le nom du module avant les méthodes."
      ],
      "id": "eea7daaf-f0dc-4a52-ac39-999fe2d342aa"
    },
    {
      "cell_type": "markdown",
      "metadata": {},
      "source": [
        "<div class=\"alert alert-danger\" role=\"alert\">\n",
        "\n",
        "La méthode from *module* import \\* n’est pas recommandée car elle rend le code moins intelligible:\n",
        "d’où vient la fonction `floor`: de `maths` ou de `numpy` ? Elle risque\n",
        "aussi de créer des conflits de fonction, qui malgré un nom commun peuvent ne\n",
        "pas attendre les mêmes arguments ou objets.\n",
        "\n",
        "</div>"
      ],
      "id": "fc17f2f8-6247-47cb-93aa-09ab8fdd07c0"
    },
    {
      "cell_type": "code",
      "execution_count": 4,
      "metadata": {},
      "outputs": [
        {
          "output_type": "stream",
          "name": "stdout",
          "text": [
            "5"
          ]
        }
      ],
      "source": [
        "from numpy import array\n",
        "print(array(5))"
      ],
      "id": "80983019-efd4-481e-8864-e8b119b27c0c"
    },
    {
      "cell_type": "markdown",
      "metadata": {},
      "source": [
        "# Les tests\n",
        "\n",
        "Les tests permettent d’exécuter telle ou telle instruction\n",
        "selon la valeur d’une condition.\n",
        "\n",
        "Pour faire un test avec un bloc d’instructions, il faut toujours :\n",
        "\n",
        "-   que l’expression à vérifier soit suivie de :\n",
        "-   que le bloc d’instruction soit **forcément indenté**\n",
        "\n",
        "## Test avec contrepartie : if et else\n",
        "\n",
        "Comme dans les autres langages, on teste une condition, si elle est vérifiée, alors une instruction suit et sinon, une autre instruction est exécutée.\n",
        "\n",
        "Il est conseillé de toujours indiquer une contrepartie afin d’éviter les surprises.\n",
        "\n",
        "### Test d’une équalité ou inéqualité"
      ],
      "id": "3369b36f-b07a-455c-8c20-7c37be279c4c"
    },
    {
      "cell_type": "code",
      "execution_count": 5,
      "metadata": {},
      "outputs": [
        {
          "output_type": "stream",
          "name": "stdout",
          "text": [
            "x est plus grand que 5"
          ]
        }
      ],
      "source": [
        "x = 6\n",
        "\n",
        "if x > 5 :\n",
        "    print(\"x est plus grand que 5\")\n",
        "else : # la contrepartie si la condition if n'est pas réalisée\n",
        "    print(\"x est plus petit que 5\")"
      ],
      "id": "c8077add-2b63-4727-a41d-2ff9c142e4c1"
    },
    {
      "cell_type": "markdown",
      "metadata": {},
      "source": [
        "### Test dans un intervalle"
      ],
      "id": "c9dc44eb-a163-4473-9623-d73e454accd3"
    },
    {
      "cell_type": "code",
      "execution_count": 6,
      "metadata": {},
      "outputs": [
        {
          "output_type": "stream",
          "name": "stdout",
          "text": [
            "x est entre 5 et 10"
          ]
        }
      ],
      "source": [
        "# on peut avoir des intervalles directement\n",
        "x = 6\n",
        "if 5 < x < 10 : \n",
        "    print(\"x est entre 5 et 10\")\n",
        "else : \n",
        "    print(\"x est plus grand que 10\")"
      ],
      "id": "47635725-3924-4a97-98f3-a15df03487bb"
    },
    {
      "cell_type": "code",
      "execution_count": 7,
      "metadata": {},
      "outputs": [
        {
          "output_type": "stream",
          "name": "stdout",
          "text": [
            "x vaut 5 ou 10"
          ]
        }
      ],
      "source": [
        "# tester plusieurs valeurs avec l'opérateur logique \"or\"\n",
        "x = 5\n",
        "if x == 5 or x == 10 : \n",
        "    print(\"x vaut 5 ou 10\")    \n",
        "else : \n",
        "    print(\"x est différent de 5 et 10\")"
      ],
      "id": "96da3c4f-77d2-4ba5-8c62-b8a1180d4ed2"
    },
    {
      "cell_type": "markdown",
      "metadata": {},
      "source": [
        "### Tests successifs : if, elif et else\n",
        "\n",
        "Avec if et elif, dès qu’on rencontre une condition qui est réalisée, on n’en cherche pas d’autres potentiellement vérifiées.\n",
        "Plusieurs if à la suite peuvent quant à eux être vérifiés. Suivant ce que vous souhaitez faire, les opérateurs ne sont pas substituables. Notez la différence entre ces deux bouts de code :"
      ],
      "id": "4da18fe7-df75-4a52-ac51-4ae840e7269c"
    },
    {
      "cell_type": "code",
      "execution_count": 8,
      "metadata": {},
      "outputs": [
        {
          "output_type": "stream",
          "name": "stdout",
          "text": [
            "x ne vaut pas 10"
          ]
        }
      ],
      "source": [
        "#code 1\n",
        "x = 5\n",
        "\n",
        "if x != 10 : \n",
        "    print(\"x ne vaut pas 10\")   \n",
        "elif x >= 5 : \n",
        "    print(\"x est égal ou supérieur à 5\")"
      ],
      "id": "79926b24-0ec9-4ee0-8e6c-65aa43811ec0"
    },
    {
      "cell_type": "markdown",
      "metadata": {},
      "source": [
        "Dans le cas de elif, on **s’arrête à la première condition** vérifiée et dans le cas suivant, on **continue à chaque condition vérifiée**"
      ],
      "id": "b6e1aa53-9e50-4478-afbe-3672ea53e66d"
    },
    {
      "cell_type": "code",
      "execution_count": 9,
      "metadata": {},
      "outputs": [
        {
          "output_type": "stream",
          "name": "stdout",
          "text": [
            "x ne vaut pas 10\n",
            "x est égal ou supérieur à 5"
          ]
        }
      ],
      "source": [
        "#code 2\n",
        "x = 5\n",
        "\n",
        "if x != 10 : \n",
        "    print(\"x ne vaut pas 10\")   \n",
        "if x >= 5 : \n",
        "    print(\"x est égal ou supérieur à 5\")"
      ],
      "id": "860db550-861b-43b0-be67-8a9a8af16f3f"
    },
    {
      "cell_type": "raw",
      "metadata": {
        "raw_mimetype": "text/html"
      },
      "source": [
        "<!-- #region -->"
      ],
      "id": "fb73fd5c-4a40-431a-83f9-b84b17bd6ff2"
    },
    {
      "cell_type": "markdown",
      "metadata": {},
      "source": [
        "# Boucles\n",
        "\n",
        "Il existe deux types de boucles : les boucles ***for*** et les boucles ***while***\n",
        "\n",
        "La boucle *for* parcourt un ensemble, tandis que la boucle *while* continue tant qu’une condition est vraie.\n",
        "\n",
        "## Boucle for\n",
        "\n",
        "### Parcourir une liste croissantes d’entiers"
      ],
      "id": "3629f51a-3eed-40f0-b4e8-8896d90251d7"
    },
    {
      "cell_type": "code",
      "execution_count": 10,
      "metadata": {},
      "outputs": [
        {
          "output_type": "stream",
          "name": "stdout",
          "text": [
            "0\n",
            "1\n",
            "2"
          ]
        }
      ],
      "source": [
        "# parcourt les entiers de 0 à n-1 inclus\n",
        "for i in range(0,3) : \n",
        "    print(i)"
      ],
      "id": "5b1cadb9-08d2-4648-a55d-b0496d30a4af"
    },
    {
      "cell_type": "markdown",
      "metadata": {},
      "source": [
        "### Parcourir une liste décroissante d’entiers"
      ],
      "id": "9065e61d-8315-42d6-bbf4-a859d4908038"
    },
    {
      "cell_type": "code",
      "execution_count": 11,
      "metadata": {},
      "outputs": [
        {
          "output_type": "stream",
          "name": "stdout",
          "text": [
            "3\n",
            "2\n",
            "1"
          ]
        }
      ],
      "source": [
        "# parcourt les entiers de 3 à n+1 inclus\n",
        "for i in range(3,0,-1) : \n",
        "    print(i)"
      ],
      "id": "2e07344a-436e-41db-9e44-309e95d2d6c7"
    },
    {
      "cell_type": "markdown",
      "metadata": {},
      "source": [
        "### Parcourir une liste de chaines de caractères\n",
        "\n",
        "On va faire une boucle sur les éléments d’une liste\n",
        "\n",
        "#### Boucle sur les éléments d’une liste"
      ],
      "id": "df849654-1172-4db3-a7a1-20bf6897a5be"
    },
    {
      "cell_type": "code",
      "execution_count": 12,
      "metadata": {},
      "outputs": [
        {
          "output_type": "stream",
          "name": "stdout",
          "text": [
            "Nicolas\n",
            "Romain\n",
            "Florimond"
          ]
        }
      ],
      "source": [
        "liste_elements = ['Nicolas','Romain','Florimond']\n",
        "\n",
        "# pour avoir l'ensemble des éléments de la liste\n",
        "for item in liste_elements : \n",
        "    print(item)"
      ],
      "id": "d0b3b914-b101-4f03-83a6-51ad993ec1eb"
    },
    {
      "cell_type": "markdown",
      "metadata": {},
      "source": [
        "#### Boucle sur les éléments d’une liste dans une autre liste"
      ],
      "id": "f33ae804-c415-422d-b117-5b65432028d5"
    },
    {
      "cell_type": "code",
      "execution_count": 13,
      "metadata": {},
      "outputs": [
        {
          "output_type": "stream",
          "name": "stdout",
          "text": [
            "Nicolas 1\n",
            "Romain 3\n",
            "Florimond 4"
          ]
        }
      ],
      "source": [
        "# pour avoir la place des éléments de la première liste dans la seconde liste  \n",
        "\n",
        "liste_globale = ['Violette','Nicolas','Mathilde','Romain','Florimond','Helene'] \n",
        "\n",
        "for item in liste_elements : \n",
        "    print(item,liste_globale.index(item))"
      ],
      "id": "0d62fcbb-18ec-43c6-88fa-adc9032bb299"
    },
    {
      "cell_type": "markdown",
      "metadata": {},
      "source": [
        "### Bonus : les list comprehension\n",
        "\n",
        "Avec les listes, il existe aussi un moyen très élégant de condenser son code pour éviter de faire apparaitre des boucles sans arrêt. Comme les boucles doivent etre indentées, le code peut rapidement devenir illisible.\n",
        "\n",
        "Grace aux list comprehension, vous pouvez en une ligne faire ce qu’une boucle vous permettait de faire en 3 lignes.\n",
        "\n",
        "Par exemple, imaginez que vous vouliez faire la liste de toutes les lettres contenues dans un mot, avec un boucle vous devrez d’abord créer une liste vide, puis ajouter à cette liste toutes les lettres en question avec un .append()"
      ],
      "id": "71425c8a-60c3-4c62-a298-9641e2b128ff"
    },
    {
      "cell_type": "code",
      "execution_count": 14,
      "metadata": {},
      "outputs": [
        {
          "output_type": "stream",
          "name": "stdout",
          "text": [
            "['E', 'N', 'S', 'A', 'E']"
          ]
        }
      ],
      "source": [
        "liste_lettres = []\n",
        "\n",
        "for lettre in 'ENSAE':\n",
        "    liste_lettres.append(lettre)\n",
        "\n",
        "print(liste_lettres)"
      ],
      "id": "2ce339d5-e6fc-403e-bef3-677403876776"
    },
    {
      "cell_type": "markdown",
      "metadata": {},
      "source": [
        "avec une list comprehension, on condense la syntaxe de la manière suivante :"
      ],
      "id": "9cc5ba3e-42ae-4701-b7bc-a40d46588193"
    },
    {
      "cell_type": "code",
      "execution_count": 15,
      "metadata": {},
      "outputs": [
        {
          "output_type": "stream",
          "name": "stdout",
          "text": [
            "['E', 'N', 'S', 'A', 'E']"
          ]
        }
      ],
      "source": [
        "h_letters = [ letter for letter in 'ENSAE' ]\n",
        "print(h_letters)"
      ],
      "id": "45bd8f18-3e1d-4a86-af8a-1dd59b79c6a0"
    },
    {
      "cell_type": "markdown",
      "metadata": {},
      "source": [
        "Avec une list comprehension\n",
        "\n",
        "``` python\n",
        "[ expression for item in list if conditional ]\n",
        "```\n",
        "\n",
        "est équivalent à\n",
        "\n",
        "``` python\n",
        "for item in list:\n",
        "    if conditional:\n",
        "        expression  \n",
        "```\n",
        "\n",
        "#### Mise en application\n",
        "\n",
        "Mettez sous forme de list comprehension le bout de code suivant"
      ],
      "id": "cf9ad81b-5f1f-4992-9338-7ee7b0cac7d5"
    },
    {
      "cell_type": "code",
      "execution_count": 16,
      "metadata": {},
      "outputs": [
        {
          "output_type": "stream",
          "name": "stdout",
          "text": [
            "[0, 1, 4, 9, 16, 25, 36, 49, 64, 81]"
          ]
        }
      ],
      "source": [
        "squares = []\n",
        "\n",
        "for x in range(10):\n",
        "    squares.append(x**2)\n",
        "print(squares)"
      ],
      "id": "ecc1e5e5-636a-49ef-9d86-942370a1cdef"
    },
    {
      "cell_type": "code",
      "execution_count": 17,
      "metadata": {},
      "outputs": [
        {
          "output_type": "display_data",
          "metadata": {},
          "data": {
            "text/plain": [
              "[0, 1, 4, 9, 16, 25, 36, 49, 64, 81]"
            ]
          }
        }
      ],
      "source": [
        "# Correction\n",
        "squares = [x**2 for x in range(10)]\n",
        "squares"
      ],
      "id": "37c9e46f-fd23-42af-92df-05fe99d916b2"
    },
    {
      "cell_type": "markdown",
      "metadata": {},
      "source": [
        "## Boucle while\n",
        "\n",
        "Le bloc d’instruction d’une boucle **while** est exécuté tant que la condition est vérifiée.\n",
        "\n",
        "Le piège de ces boucles : la boucle `while` infinie ! Il faut toujours vérifier que votre boucle s’arrêtera un jour, il faut qu’à un moment ou à un autre, il y ait un élément qui s’incrémente ou qui soit modifié."
      ],
      "id": "6267df4e-9058-45d5-962a-91f56eb40b60"
    },
    {
      "cell_type": "code",
      "execution_count": 18,
      "metadata": {},
      "outputs": [
        {
          "output_type": "stream",
          "name": "stdout",
          "text": [
            "y n'est pas encore plus grand que x\n",
            "y n'est pas encore plus grand que x\n",
            "y n'est pas encore plus grand que x\n",
            "y est plus grand que x et vaut 11"
          ]
        }
      ],
      "source": [
        "x = 10\n",
        "y = 8\n",
        "# tant que y est plus petit que 10, je continue de lui ajouter 1\n",
        "while y <= x : \n",
        "    print(\"y n'est pas encore plus grand que x\")\n",
        "    y += 1 # l'incrément\n",
        "else : \n",
        "    print(\"y est plus grand que x et vaut\",y)"
      ],
      "id": "99248f61-5a00-4db8-a61a-f796dc368459"
    },
    {
      "cell_type": "markdown",
      "metadata": {},
      "source": [
        "## Break et continue\n",
        "\n",
        "Dans les boucles *for* ou *while* on peut avoir besoin d’ignorer ou de ne pas effectuer certaines itérations. **2 instructions utiles** :\n",
        "\n",
        "-   l’instruction **break** : permet de sortir de la boucle\n",
        "-   l’instruction **continue** : permet de passer à l’itération suivante sans exécuter les instructions qui suivent"
      ],
      "id": "67dcc8bb-4727-48ff-88c8-5b54f004236e"
    },
    {
      "cell_type": "code",
      "execution_count": 19,
      "metadata": {},
      "outputs": [
        {
          "output_type": "stream",
          "name": "stdout",
          "text": [
            "0\n",
            "1"
          ]
        }
      ],
      "source": [
        "# utilisation de break\n",
        "for x in range(5) : \n",
        "    if x == 2 : \n",
        "        break\n",
        "    else :\n",
        "        print(x)"
      ],
      "id": "3049c7fe-c2b5-464a-8c98-cc54aeaef8a2"
    },
    {
      "cell_type": "code",
      "execution_count": 20,
      "metadata": {},
      "outputs": [
        {
          "output_type": "stream",
          "name": "stdout",
          "text": [
            "0\n",
            "1\n",
            "3\n",
            "4"
          ]
        }
      ],
      "source": [
        "# utilisation de continue\n",
        "for x in range(5) : \n",
        "    if x == 2 : \n",
        "        continue\n",
        "    else :\n",
        "        print(x)"
      ],
      "id": "24e0fc71-2075-486e-a258-ac84238ee70d"
    },
    {
      "cell_type": "markdown",
      "metadata": {},
      "source": [
        "# Créer ses fonctions\n",
        "\n",
        "Les fonctions permettent de faire la même chose sans avoir à recopier le code plusieurs fois dans le même programme. Dès que vous le pouvez, faites des fonctions : le copier-coller est trop dangereux.\n",
        "\n",
        "-   Elles peuvent prendre plusieurs paramètres (ou aucun) elles peuvent retourner plusieurs résultats (ou aucun)\n",
        "-   Pour mettre une aide à la fonction, on écrit au début entre ““” ““” (en rouge dans l’exemple)"
      ],
      "id": "6f2f30be-9eaa-4756-af28-9ed2036ea87b"
    },
    {
      "cell_type": "code",
      "execution_count": 21,
      "metadata": {},
      "outputs": [
        {
          "output_type": "stream",
          "name": "stdout",
          "text": [
            "Help on function ma_fonction_increment in module __main__:\n",
            "\n",
            "ma_fonction_increment(parametre)\n",
            "    Cette fonction ajoute 1 au paramètre qu'on lui donne\n"
          ]
        }
      ],
      "source": [
        "# 1er exemple de fonction\n",
        "\n",
        "def ma_fonction_increment(parametre) : \n",
        "    \"\"\"Cette fonction ajoute 1 au paramètre qu'on lui donne\"\"\"\n",
        "    x = parametre + 1 \n",
        "    return x\n",
        "\n",
        "# pour documenter la fonction, on écrit son aide\n",
        "help(ma_fonction_increment)"
      ],
      "id": "e6bd8c7a-30f7-4edf-9f53-c5a081cf50e6"
    },
    {
      "cell_type": "markdown",
      "metadata": {},
      "source": [
        "On peut également :\n",
        "\n",
        "-   avoir des paramètres **facultatifs**, mais ils doivent toujours être placés à la **fin des paramètres**\n",
        "-   en cas de paramètre facultatif, il faut lui donner une valeur par défaut\n",
        "-   retourner plus d’un élément à la fin d’une fonction\n",
        "-   avoir des paramètres de tailles différentes"
      ],
      "id": "87892dae-bfec-470a-855e-856fbf8a6fac"
    },
    {
      "cell_type": "code",
      "execution_count": 22,
      "metadata": {},
      "outputs": [
        {
          "output_type": "stream",
          "name": "stdout",
          "text": [
            "x= (13, 1)\n",
            "z = (9, 0)"
          ]
        }
      ],
      "source": [
        "def ma_fonction(p,q = 2) :\n",
        "    y1 = p + q\n",
        "    y2 = y1%3 #reste de la division euclidienne\n",
        "    return y1,y2\n",
        "\n",
        "x = ma_fonction(11) \n",
        "# ici, on n'a pas de 2nd paramètre\n",
        "#, par défaut, x = ma_fonction(10,2)\n",
        "print(\"x=\", x)\n",
        "\n",
        "z = ma_fonction(10,-1)\n",
        "print(\"z =\",z)"
      ],
      "id": "ca0357fc-e4b3-41ff-84a7-906429d4d2b9"
    },
    {
      "cell_type": "markdown",
      "metadata": {},
      "source": [
        "Une fonction peut également s’appeler elle même : c’est ce qu’on appelle une fonction récursive.\n",
        "\n",
        "Dans cet exemple, `somme_recursion()` est une fonction que nous avons définie de sorte à ce qu’elle s’appelle elle-même (récursif).\n",
        "\n",
        "On utilise l’argument k, qui décroit (-1) chaque fois qu’on fait appel à la fonction.\n",
        "\n",
        "La récursion s’arrête quand k est nul.\n",
        "Dans cet exemple, on va donc appeler 6 fois la fonction récursive."
      ],
      "id": "cfb877c5-9213-4a8c-aac2-9e1128c1df41"
    },
    {
      "cell_type": "code",
      "execution_count": 23,
      "metadata": {},
      "outputs": [
        {
          "output_type": "stream",
          "name": "stdout",
          "text": [
            "1 1\n",
            "2 3\n",
            "3 6\n",
            "4 10\n",
            "5 15\n",
            "6 21"
          ]
        },
        {
          "output_type": "display_data",
          "metadata": {},
          "data": {
            "text/plain": [
              "21"
            ]
          }
        }
      ],
      "source": [
        "def somme_recursion(k):\n",
        "    if(k > 0):\n",
        "        result = k + somme_recursion(k - 1)\n",
        "        print(k,result)\n",
        "    else:\n",
        "        result = 0\n",
        "    return result\n",
        "somme_recursion(6)"
      ],
      "id": "4077bfe5-df4d-42cd-a157-c3f5a358161e"
    },
    {
      "cell_type": "markdown",
      "metadata": {},
      "source": [
        "Les fonctions sont très utiles et nous vous invitons à les utiliser dès que vous le pouvez car elles permettent d’avoir un code clair et structuré, plutôt que des bouts de code éparpillés.\n",
        "\n",
        "# Lever des exceptions\n",
        "\n",
        "Python peut rencontrer des erreurs en exécutant votre programme.\n",
        "\n",
        "Ces erreurs peuvent être interceptées très facilement et c’est même, dans certains cas, indispensable. Par exemple, si vous voulez faire une boucle mais que vous savez que l’instruction ne marchera pas toujours : au lieu de lister les cas où une opération n’est pas possible, on peut indiquer directement quelle erreur doit être ignorée.\n",
        "\n",
        "Cependant, il ne faut pas tout intercepter non plus : si Python envoie une erreur, c’est qu’il y a une raison. Si vous ignorez une erreur, vous risquez d’avoir des résultats très étranges dans votre programme."
      ],
      "id": "3e8dac8d-e806-49c6-88eb-d235f8799c64"
    },
    {
      "cell_type": "code",
      "execution_count": 24,
      "metadata": {},
      "outputs": [],
      "source": [
        "# éviter une division par 0, c'est une bonne idée : \n",
        "\n",
        "def inverse(x) :\n",
        "    '''Cette fonction renvoie l inverse de l argument'''\n",
        "    y = 1/x\n",
        "    return y\n",
        "\n",
        "div = inverse(0)"
      ],
      "id": "0fbffd2b-5b9e-43b1-bafe-8856ffb39f83"
    },
    {
      "cell_type": "markdown",
      "metadata": {},
      "source": [
        "L’erreur est écrite noir sur blanc : **ZeroDivisionError**\n",
        "\n",
        "Dans l’idéal on aimerait éviter que notre code bloque sur ce problème. On pourrait passer par un test if et vérifier que x est différent de 0. Mais on se rend vite compte que dans certains cas, on ne peut lister tous les tests en fonction de valeurs.\n",
        "\n",
        "Alors on va lui précisier ce qu’il doit faire en fonction de l’erreur retournée.\n",
        "\n",
        "**Syntaxe**\n",
        "\n",
        "Try :\n",
        "\n",
        "    instruction\n",
        "\n",
        "except TypeErreur :\n",
        "\n",
        "    autre instruction"
      ],
      "id": "c80521c0-2941-4db5-b83d-dd0b2c6c268c"
    },
    {
      "cell_type": "raw",
      "metadata": {
        "raw_mimetype": "text/html"
      },
      "source": [
        "<!-- #endregion -->"
      ],
      "id": "b06d56f2-89d5-4aad-846d-cc57c58442e6"
    },
    {
      "cell_type": "code",
      "execution_count": 25,
      "metadata": {},
      "outputs": [
        {
          "output_type": "stream",
          "name": "stdout",
          "text": [
            "0.1\n",
            "None"
          ]
        }
      ],
      "source": [
        "def inverse(x) : \n",
        "    try :\n",
        "        y = 1/x\n",
        "    except ZeroDivisionError :\n",
        "        y = None\n",
        "    return y\n",
        "    \n",
        "print(inverse(10))\n",
        "print(inverse(0))"
      ],
      "id": "e4799a0e-d20a-4d40-bb79-b30b371b8726"
    },
    {
      "cell_type": "markdown",
      "metadata": {},
      "source": [
        "Il est recommandé de toujours **préciser le type d’erreur** qu’on rencontre. Si on met uniquement “except” sans préciser le type, on peut passer à côté d’erreurs pour lesquelles la solution n’est pas universelle.\n",
        "\n",
        "# A retenir et questions\n",
        "\n",
        "## A retenir\n",
        "\n",
        "-   Toujours mettre “:” avant un bloc d’instructions\n",
        "-   Indenter avant un bloc d’instructions (avec 4 espaces et non une tabulation !)\n",
        "-   Indiquer les modules nécessaires à l’exécution en début de code\n",
        "-   Documenter les fonctions créées\n",
        "-   Préciser le type d’erreur pour les exceptions et potentiellement différencier les blocs d’instructions en fonction de l’erreur\n",
        "\n",
        "## Questions\n",
        "\n",
        "-   Que fait ce programme ?"
      ],
      "id": "93d09269-1c3f-46f7-a479-0e2b904aa482"
    },
    {
      "cell_type": "code",
      "execution_count": 26,
      "metadata": {},
      "outputs": [],
      "source": [
        "def inverse(x) : \n",
        "    try :\n",
        "        y = 1/x\n",
        "    except ZeroDivisionError :\n",
        "        y = None\n",
        "        return y"
      ],
      "id": "58fe5b4d-8ccf-4e4b-b3f0-d5b9391373e6"
    },
    {
      "cell_type": "markdown",
      "metadata": {},
      "source": [
        "-   Ecrivez un programme qui peut trouver tous les nombres divisibles par 7 et non multiples de 5 entre 6523 et 8463 (inclus)\n",
        "\n",
        "-   Ecrivez un programme qui prend une phrase en entrée et qui calcule le nombre de voyelles en Majuscules et de consonnes en minuscules :\n",
        "\n",
        "    -   phrase = “Vous savez, moi je ne crois pas qu’il y ait de bonne ou de mauvaise situation. Moi, si je devais résumer ma vie aujourd’hui avec vous, je dirais que c’est d’abord des rencontres. Des gens qui m’ont tendu la main, peut-être à un moment où je ne pouvais pas, où j’étais seul chez moi. Et c’est assez curieux de se dire que les hasards, les rencontres forgent une destinée… Parce que quand on a le goût de la chose, quand on a le goût de la chose bien faite, le beau geste, parfois on ne trouve pas l’interlocuteur en face je dirais, le miroir qui vous aide à avancer. Alors ça n’est pas mon cas, comme je disais là, puisque moi au contraire, j’ai pu : et je dis merci à la vie, je lui dis merci, je chante la vie, je danse la vie… je ne suis qu’amour ! Et finalement, quand beaucoup de gens aujourd’hui me disent ‘Mais comment fais-tu pour avoir cette humanité ?’, et bien je leur réponds très simplement, je leur dis que c’est ce goût de l’amour ce goût donc qui m’a poussé aujourd’hui à entreprendre une construction mécanique, mais demain qui sait ? Peut-être simplement à me mettre au service de la communauté, à faire le don, le don de soi…”"
      ],
      "id": "89d78f38-b5d6-474c-a97a-86d7d54a2017"
    }
  ],
  "nbformat": 4,
  "nbformat_minor": 5,
  "metadata": {
    "kernelspec": {
      "name": "python3",
      "display_name": "Python 3 (ipykernel)",
      "language": "python"
    },
    "language_info": {
      "name": "python",
      "codemirror_mode": {
        "name": "ipython",
        "version": "3"
      },
      "file_extension": ".py",
      "mimetype": "text/x-python",
      "nbconvert_exporter": "python",
      "pygments_lexer": "ipython3",
      "version": "3.9.13"
    }
  }
}