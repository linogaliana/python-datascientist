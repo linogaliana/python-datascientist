{
  "cells": [
    {
      "cell_type": "markdown",
      "metadata": {},
      "source": [
        "# Modules, tests, boucles, fonctions"
      ],
      "id": "a4aa77dc-fe3a-41e5-9341-62e516128d41"
    },
    {
      "cell_type": "raw",
      "metadata": {
        "raw_mimetype": "text/html"
      },
      "source": [
        "<p class=\"badges\">"
      ],
      "id": "7a21a9e6-8ce1-4982-972a-936fcf7f0be7"
    },
    {
      "cell_type": "markdown",
      "metadata": {},
      "source": [
        "<a href=\"https://github.com/linogaliana/python-datascientist/blob/master/notebooks/course/getting-started/06_rappels_fonctions.ipynb\" class=\"github\"><i class=\"fab fa-github\"></i></a>\n",
        "<a href=\"https://downgit.github.io/#/home?url=https://github.com/linogaliana/python-datascientist/blob/master/notebooks/course/getting-started/06_rappels_fonctions.ipynb\" target=\"_blank\" rel=\"noopener\"><img src=\"https://img.shields.io/badge/Download-Notebook-important?logo=Jupyter\" alt=\"Download\"></a>\n",
        "<a href=\"https://nbviewer.jupyter.org/github/linogaliana/python-datascientist/blob/master/notebooks/course/getting-started/06_rappels_fonctions.ipynb\" target=\"_blank\" rel=\"noopener\"><img src=\"https://img.shields.io/badge/Visualize-nbviewer-blue?logo=Jupyter\" alt=\"nbviewer\"></a>\n",
        "<a href=\"https://datalab.sspcloud.fr/launcher/inseefrlab-helm-charts-datascience/jupyter?autoLaunch=true&onyxia.friendlyName=%C2%ABpython-datascience%C2%BB&init.personalInit=%C2%ABhttps%3A%2F%2Fraw.githubusercontent.com%2Flinogaliana%2Fpython-datascientist%2Fmaster%2Fsspcloud%2Finit-jupyter.sh%C2%BB&init.personalInitArgs=%C2%ABnotebooks/course/getting-started%2006_rappels_fonctions.ipynb%C2%BB&security.allowlist.enabled=false\" target=\"_blank\" rel=\"noopener\"><img src=\"https://img.shields.io/badge/SSPcloud-Tester%20via%20SSP--cloud-informational&amp;color=yellow?logo=Python\" alt=\"Onyxia\"></a><br>\n",
        "<a href=\"https://mybinder.org/v2/gh/linogaliana/python-datascientist/master?filepath={binder_path}\" target=\"_blank\" rel=\"noopener\"><img src=\"https://img.shields.io/badge/Launch-Binder-E66581.svg?logo=data:image/png;base64,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\" alt=\"Binder\"></a>\n",
        "<a href=\"http://colab.research.google.com/github/linogaliana/python-datascientist/blob/master/notebooks/course/getting-started/06_rappels_fonctions.ipynb\" target=\"_blank\" rel=\"noopener\"><img src=\"https://colab.research.google.com/assets/colab-badge.svg\" alt=\"Open In Colab\"></a>\n",
        "<a href=\"https://github.dev/linogaliana/python-datascientist/notebooks/course/getting-started/06_rappels_fonctions.ipynb\" target=\"_blank\" rel=\"noopener\"><img src=\"https://img.shields.io/static/v1?logo=visualstudiocode&label=&message=Open%20in%20Visual%20Studio%20Code&labelColor=2c2c32&color=007acc&logoColor=007acc\" alt=\"githubdev\"></a>"
      ],
      "id": "739d2b57-4bc7-4a48-9634-0c952b06b601"
    },
    {
      "cell_type": "raw",
      "metadata": {
        "raw_mimetype": "text/html"
      },
      "source": [
        "</p>"
      ],
      "id": "81672c7e-c884-4201-bf4d-0db55aebee77"
    },
    {
      "cell_type": "raw",
      "metadata": {
        "raw_mimetype": "text/html"
      },
      "source": [
        "</p>"
      ],
      "id": "f6dd112f-5991-45d6-8e77-e6ca218444a6"
    },
    {
      "cell_type": "markdown",
      "metadata": {},
      "source": [
        "### Pour mettre à jour un module déjà installé :\n",
        "\n",
        "Il faut retourner dans l’invite de commande et taper\n",
        "\n",
        "-   **conda upgrade** nom_module\n",
        "\n",
        "## Utilisation d’un module installé\n",
        "\n",
        "Au contraire de STATA mais comme pour R, il\n",
        "faut **toujours préciser les packages que vous utilisez au début du code**,\n",
        "sinon Python ne reconnait pas les fonctions appelées.\n",
        "\n",
        "### Import *module*\n",
        "\n",
        "On charge un module grâce à la commande `import`.\n",
        "Pour chaque code que vous exécutez, il faut charger les modules en introduction.\n",
        "\n",
        "Une fois que l’on a chargé le module, on peut faire appel aux commandes qui en dépendent en les appelant après avoir tapé le nom du module. Si vous ne précisez pas le nom du module avant celui de la fonction, il ne la trouvera pas forcément.\n",
        "\n",
        "Voici un exemple avec le module numpy qui est très courant et permet de faire des calculs matriciels sous Python."
      ],
      "id": "dd34d714-8d73-42a2-9482-9e9c8dfe6e4a"
    },
    {
      "cell_type": "code",
      "execution_count": 2,
      "metadata": {},
      "outputs": [
        {
          "output_type": "stream",
          "name": "stdout",
          "text": [
            "[0 1 2 3 4]"
          ]
        }
      ],
      "source": [
        "import numpy\n",
        "print(numpy.arange(5))"
      ],
      "id": "10f06ba3-4811-45d7-bedf-05d5b4885da3"
    },
    {
      "cell_type": "markdown",
      "metadata": {},
      "source": [
        "### Import *module* as *md* - donner un nom au module\n",
        "\n",
        "On peut aussi donner un pseudonyme au module pour éviter de taper un nom trop long à chaque fois qu’on utilise une fonction. Classiquement le nom raccourci de numpy est *np*, celui de pandas est *pd*."
      ],
      "id": "9c9056b4-f91c-44dd-8817-a54cc99f18d2"
    },
    {
      "cell_type": "code",
      "execution_count": 3,
      "metadata": {},
      "outputs": [
        {
          "output_type": "display_data",
          "metadata": {},
          "data": {
            "text/html": [
              "<div>\n",
              "<style scoped>\n",
              "    .dataframe tbody tr th:only-of-type {\n",
              "        vertical-align: middle;\n",
              "    }\n",
              "\n",
              "    .dataframe tbody tr th {\n",
              "        vertical-align: top;\n",
              "    }\n",
              "\n",
              "    .dataframe thead th {\n",
              "        text-align: right;\n",
              "    }\n",
              "</style>\n",
              "<table border=\"1\" class=\"dataframe\">\n",
              "  <thead>\n",
              "    <tr style=\"text-align: right;\">\n",
              "      <th></th>\n",
              "      <th>0</th>\n",
              "      <th>1</th>\n",
              "    </tr>\n",
              "  </thead>\n",
              "  <tbody>\n",
              "    <tr>\n",
              "      <th>0</th>\n",
              "      <td>1</td>\n",
              "      <td>2</td>\n",
              "    </tr>\n",
              "    <tr>\n",
              "      <th>1</th>\n",
              "      <td>3</td>\n",
              "      <td>4</td>\n",
              "    </tr>\n",
              "  </tbody>\n",
              "</table>\n",
              "</div>"
            ]
          }
        }
      ],
      "source": [
        "import pandas as pd\n",
        "import numpy as np\n",
        "small_array = np.array([[1, 2], [3, 4]])\n",
        "data = pd.DataFrame(small_array)\n",
        "data.head()"
      ],
      "id": "07f8498a-805b-4f84-a563-a1d01749c45a"
    },
    {
      "cell_type": "markdown",
      "metadata": {},
      "source": [
        "### from *Module* Import *fonction* - seulement une partie du module\n",
        "\n",
        "Si on ne veut pas être obligé de donner le nom du module avant d’appeler\n",
        "la fonction, il y a toujours la possibilité de n’importer qu’une fonction du module. Dans le cas de l’exemple, Python sait que la fonction `arrange` est celle de `numpy`.\n",
        "\n",
        "Mais ***attention*** : si deux fonctions de modules différents ont le même nom, c’est toujours la dernière importée qui gagne.\n",
        "\n",
        "On voit souvent `from _module_ import *`. C’est-à-dire qu’on importe toutes les fonctions du module mais on n’a pas besoin de spécifier le nom du module avant les méthodes.\n",
        "\n",
        "{{% box status=“warning” title=“Warning” icon=“fa fa-exclamation-triangle” %}}\n",
        "La méthode from *module* import \\* n’est pas recommandée car elle rend le code moins intelligible:\n",
        "d’où vient la fonction `floor`: de `maths` ou de `numpy` ? Elle risque\n",
        "aussi de créer des conflits de fonction, qui malgré un nom commun peuvent ne\n",
        "pas attendre les mêmes arguments ou objets.\n",
        "{{% /box %}}"
      ],
      "id": "e8025e8e-cfd9-4f98-ac63-232cd2b6367d"
    },
    {
      "cell_type": "code",
      "execution_count": 4,
      "metadata": {},
      "outputs": [
        {
          "output_type": "stream",
          "name": "stdout",
          "text": [
            "5"
          ]
        }
      ],
      "source": [
        "from numpy import array\n",
        "print(array(5))"
      ],
      "id": "a588b2c9-8d7e-4125-8337-8e52efb30e5d"
    },
    {
      "cell_type": "markdown",
      "metadata": {},
      "source": [
        "# Les tests\n",
        "\n",
        "Les tests permettent d’exécuter telle ou telle instruction\n",
        "selon la valeur d’une condition.\n",
        "\n",
        "Pour faire un test avec un bloc d’instructions, il faut toujours :\n",
        "\n",
        "-   que l’expression à vérifier soit suivie de :\n",
        "-   que le bloc d’instruction soit **forcément indenté**\n",
        "\n",
        "## Test avec contrepartie : if et else\n",
        "\n",
        "Comme dans les autres langages, on teste une condition, si elle est vérifiée, alors une instruction suit et sinon, une autre instruction est exécutée.\n",
        "\n",
        "Il est conseillé de toujours indiquer une contrepartie afin d’éviter les surprises.\n",
        "\n",
        "### Test d’une équalité ou inéqualité"
      ],
      "id": "27a4780d-5568-47e1-957e-1f03951c04b0"
    },
    {
      "cell_type": "code",
      "execution_count": 5,
      "metadata": {},
      "outputs": [
        {
          "output_type": "stream",
          "name": "stdout",
          "text": [
            "x est plus grand que 5"
          ]
        }
      ],
      "source": [
        "x = 6\n",
        "\n",
        "if x > 5 :\n",
        "    print(\"x est plus grand que 5\")\n",
        "else : # la contrepartie si la condition if n'est pas réalisée\n",
        "    print(\"x est plus petit que 5\")"
      ],
      "id": "d1041295-1187-4169-8995-c659c1987c7a"
    },
    {
      "cell_type": "markdown",
      "metadata": {},
      "source": [
        "### Test dans un intervalle"
      ],
      "id": "f190558f-c2fb-4fb1-88d8-a37a75cbb84b"
    },
    {
      "cell_type": "code",
      "execution_count": 6,
      "metadata": {},
      "outputs": [
        {
          "output_type": "stream",
          "name": "stdout",
          "text": [
            "x est entre 5 et 10"
          ]
        }
      ],
      "source": [
        "# on peut avoir des intervalles directement\n",
        "x = 6\n",
        "if 5 < x < 10 : \n",
        "    print(\"x est entre 5 et 10\")\n",
        "else : \n",
        "    print(\"x est plus grand que 10\")"
      ],
      "id": "2ec3adaa-232b-4685-870b-3473c2d0a5d7"
    },
    {
      "cell_type": "code",
      "execution_count": 7,
      "metadata": {},
      "outputs": [
        {
          "output_type": "stream",
          "name": "stdout",
          "text": [
            "x vaut 5 ou 10"
          ]
        }
      ],
      "source": [
        "# tester plusieurs valeurs avec l'opérateur logique \"or\"\n",
        "x = 5\n",
        "if x == 5 or x == 10 : \n",
        "    print(\"x vaut 5 ou 10\")    \n",
        "else : \n",
        "    print(\"x est différent de 5 et 10\")"
      ],
      "id": "d60c2215-9b25-4380-a5a7-b2d58f96cba8"
    },
    {
      "cell_type": "markdown",
      "metadata": {},
      "source": [
        "### Tests successifs : if, elif et else\n",
        "\n",
        "Avec if et elif, dès qu’on rencontre une condition qui est réalisée, on n’en cherche pas d’autres potentiellement vérifiées.\n",
        "Plusieurs if à la suite peuvent quant à eux être vérifiés. Suivant ce que vous souhaitez faire, les opérateurs ne sont pas substituables. Notez la différence entre ces deux bouts de code :"
      ],
      "id": "8fca02c2-c86e-47bb-b112-582c6ebf1994"
    },
    {
      "cell_type": "code",
      "execution_count": 8,
      "metadata": {},
      "outputs": [
        {
          "output_type": "stream",
          "name": "stdout",
          "text": [
            "x ne vaut pas 10"
          ]
        }
      ],
      "source": [
        "#code 1\n",
        "x = 5\n",
        "\n",
        "if x != 10 : \n",
        "    print(\"x ne vaut pas 10\")   \n",
        "elif x >= 5 : \n",
        "    print(\"x est égal ou supérieur à 5\")"
      ],
      "id": "4e24654f-9752-401c-afc6-dc47f627ccb3"
    },
    {
      "cell_type": "markdown",
      "metadata": {},
      "source": [
        "Dans le cas de elif, on **s’arrête à la première condition** vérifiée et dans le cas suivant, on **continue à chaque condition vérifiée**"
      ],
      "id": "8feee944-e3ae-444e-9f6c-e839cf328180"
    },
    {
      "cell_type": "code",
      "execution_count": 9,
      "metadata": {},
      "outputs": [
        {
          "output_type": "stream",
          "name": "stdout",
          "text": [
            "x ne vaut pas 10\n",
            "x est égal ou supérieur à 5"
          ]
        }
      ],
      "source": [
        "#code 2\n",
        "x = 5\n",
        "\n",
        "if x != 10 : \n",
        "    print(\"x ne vaut pas 10\")   \n",
        "if x >= 5 : \n",
        "    print(\"x est égal ou supérieur à 5\")"
      ],
      "id": "b368364e-e7bb-4c9b-90e8-d3cfdb31dea5"
    },
    {
      "cell_type": "raw",
      "metadata": {
        "raw_mimetype": "text/html"
      },
      "source": [
        "<!-- #region -->"
      ],
      "id": "c473fbc3-199f-447f-a6be-aef06d684b13"
    },
    {
      "cell_type": "markdown",
      "metadata": {},
      "source": [
        "# Boucles\n",
        "\n",
        "Il existe deux types de boucles : les boucles ***for*** et les boucles ***while***\n",
        "\n",
        "La boucle *for* parcourt un ensemble, tandis que la boucle *while* continue tant qu’une condition est vraie.\n",
        "\n",
        "## Boucle for\n",
        "\n",
        "### Parcourir une liste croissantes d’entiers"
      ],
      "id": "e0a68c06-fdf7-4282-aefa-44fd0a0b3d2b"
    },
    {
      "cell_type": "code",
      "execution_count": 10,
      "metadata": {},
      "outputs": [
        {
          "output_type": "stream",
          "name": "stdout",
          "text": [
            "0\n",
            "1\n",
            "2"
          ]
        }
      ],
      "source": [
        "# parcourt les entiers de 0 à n-1 inclus\n",
        "for i in range(0,3) : \n",
        "    print(i)"
      ],
      "id": "54559bbd-203a-43ce-9e62-2f948d919adb"
    },
    {
      "cell_type": "markdown",
      "metadata": {},
      "source": [
        "### Parcourir une liste décroissante d’entiers"
      ],
      "id": "8af0f429-59c9-434e-bfbe-429511c97d43"
    },
    {
      "cell_type": "code",
      "execution_count": 11,
      "metadata": {},
      "outputs": [
        {
          "output_type": "stream",
          "name": "stdout",
          "text": [
            "3\n",
            "2\n",
            "1"
          ]
        }
      ],
      "source": [
        "# parcourt les entiers de 3 à n+1 inclus\n",
        "for i in range(3,0,-1) : \n",
        "    print(i)"
      ],
      "id": "cddc4d1f-99ec-44d7-8245-adab24a50820"
    },
    {
      "cell_type": "markdown",
      "metadata": {},
      "source": [
        "### Parcourir une liste de chaines de caractères\n",
        "\n",
        "On va faire une boucle sur les éléments d’une liste\n",
        "\n",
        "#### Boucle sur les éléments d’une liste"
      ],
      "id": "21ba9b7c-bc72-4149-bf0d-c1a12748f2f1"
    },
    {
      "cell_type": "code",
      "execution_count": 12,
      "metadata": {},
      "outputs": [
        {
          "output_type": "stream",
          "name": "stdout",
          "text": [
            "Nicolas\n",
            "Romain\n",
            "Florimond"
          ]
        }
      ],
      "source": [
        "liste_elements = ['Nicolas','Romain','Florimond']\n",
        "\n",
        "# pour avoir l'ensemble des éléments de la liste\n",
        "for item in liste_elements : \n",
        "    print(item)"
      ],
      "id": "4deb9e14-04bb-4e9d-b891-9ee220ada8b7"
    },
    {
      "cell_type": "markdown",
      "metadata": {},
      "source": [
        "#### Boucle sur les éléments d’une liste dans une autre liste"
      ],
      "id": "216a1ddd-cdcd-46f1-9d21-b6138fdd21e2"
    },
    {
      "cell_type": "code",
      "execution_count": 13,
      "metadata": {},
      "outputs": [
        {
          "output_type": "stream",
          "name": "stdout",
          "text": [
            "Nicolas 1\n",
            "Romain 3\n",
            "Florimond 4"
          ]
        }
      ],
      "source": [
        "# pour avoir la place des éléments de la première liste dans la seconde liste  \n",
        "\n",
        "liste_globale = ['Violette','Nicolas','Mathilde','Romain','Florimond','Helene'] \n",
        "\n",
        "for item in liste_elements : \n",
        "    print(item,liste_globale.index(item))"
      ],
      "id": "14aa253c-4316-4c0d-9602-4bf9c7caca29"
    },
    {
      "cell_type": "markdown",
      "metadata": {},
      "source": [
        "### Bonus : les list comprehension\n",
        "\n",
        "Avec les listes, il existe aussi un moyen très élégant de condenser son code pour éviter de faire apparaitre des boucles sans arrêt. Comme les boucles doivent etre indentées, le code peut rapidement devenir illisible.\n",
        "\n",
        "Grace aux list comprehension, vous pouvez en une ligne faire ce qu’une boucle vous permettait de faire en 3 lignes.\n",
        "\n",
        "Par exemple, imaginez que vous vouliez faire la liste de toutes les lettres contenues dans un mot, avec un boucle vous devrez d’abord créer une liste vide, puis ajouter à cette liste toutes les lettres en question avec un .append()"
      ],
      "id": "f685365b-a14a-4eed-8510-4435afe26832"
    },
    {
      "cell_type": "code",
      "execution_count": 14,
      "metadata": {},
      "outputs": [
        {
          "output_type": "stream",
          "name": "stdout",
          "text": [
            "['E', 'N', 'S', 'A', 'E']"
          ]
        }
      ],
      "source": [
        "liste_lettres = []\n",
        "\n",
        "for lettre in 'ENSAE':\n",
        "    liste_lettres.append(lettre)\n",
        "\n",
        "print(liste_lettres)"
      ],
      "id": "132a6ceb-a6d5-4ff4-849b-2701cfaf2a0e"
    },
    {
      "cell_type": "markdown",
      "metadata": {},
      "source": [
        "avec une list comprehension, on condense la syntaxe de la manière suivante :"
      ],
      "id": "9d985185-954f-4612-9127-c8b95588ad47"
    },
    {
      "cell_type": "code",
      "execution_count": 15,
      "metadata": {},
      "outputs": [
        {
          "output_type": "stream",
          "name": "stdout",
          "text": [
            "['E', 'N', 'S', 'A', 'E']"
          ]
        }
      ],
      "source": [
        "h_letters = [ letter for letter in 'ENSAE' ]\n",
        "print(h_letters)"
      ],
      "id": "47e4ef2c-a5ca-49c4-b2eb-b49872c82ef3"
    },
    {
      "cell_type": "markdown",
      "metadata": {},
      "source": [
        "Avec une list comprehension\n",
        "\n",
        "``` python\n",
        "[ expression for item in list if conditional ]\n",
        "```\n",
        "\n",
        "est équivalent à\n",
        "\n",
        "``` python\n",
        "for item in list:\n",
        "    if conditional:\n",
        "        expression  \n",
        "```\n",
        "\n",
        "#### Mise en application\n",
        "\n",
        "Mettez sous forme de list comprehension le bout de code suivant"
      ],
      "id": "d918bf9b-3ed4-4ede-ab08-555930d6ec86"
    },
    {
      "cell_type": "code",
      "execution_count": 16,
      "metadata": {},
      "outputs": [
        {
          "output_type": "stream",
          "name": "stdout",
          "text": [
            "[0, 1, 4, 9, 16, 25, 36, 49, 64, 81]"
          ]
        }
      ],
      "source": [
        "squares = []\n",
        "\n",
        "for x in range(10):\n",
        "    squares.append(x**2)\n",
        "print(squares)"
      ],
      "id": "b0973c93-7b89-4894-9c1c-1102e539b62e"
    },
    {
      "cell_type": "code",
      "execution_count": 17,
      "metadata": {},
      "outputs": [
        {
          "output_type": "display_data",
          "metadata": {},
          "data": {
            "text/plain": [
              "[0, 1, 4, 9, 16, 25, 36, 49, 64, 81]"
            ]
          }
        }
      ],
      "source": [
        "# Correction\n",
        "squares = [x**2 for x in range(10)]\n",
        "squares"
      ],
      "id": "72c3c45d-b71d-4680-9889-2db8d26231f6"
    },
    {
      "cell_type": "markdown",
      "metadata": {},
      "source": [
        "## Boucle while\n",
        "\n",
        "Le bloc d’instruction d’une boucle **while** est exécuté tant que la condition est vérifiée.\n",
        "\n",
        "Le piège de ces boucles : la boucle `while` infinie ! Il faut toujours vérifier que votre boucle s’arrêtera un jour, il faut qu’à un moment ou à un autre, il y ait un élément qui s’incrémente ou qui soit modifié."
      ],
      "id": "0c47e043-221b-4370-94b5-edbe73d961ab"
    },
    {
      "cell_type": "code",
      "execution_count": 18,
      "metadata": {},
      "outputs": [
        {
          "output_type": "stream",
          "name": "stdout",
          "text": [
            "y n'est pas encore plus grand que x\n",
            "y n'est pas encore plus grand que x\n",
            "y n'est pas encore plus grand que x\n",
            "y est plus grand que x et vaut 11"
          ]
        }
      ],
      "source": [
        "x = 10\n",
        "y = 8\n",
        "# tant que y est plus petit que 10, je continue de lui ajouter 1\n",
        "while y <= x : \n",
        "    print(\"y n'est pas encore plus grand que x\")\n",
        "    y += 1 # l'incrément\n",
        "else : \n",
        "    print(\"y est plus grand que x et vaut\",y)"
      ],
      "id": "160aa6ee-351a-47fa-9c41-389cd7553b02"
    },
    {
      "cell_type": "markdown",
      "metadata": {},
      "source": [
        "## Break et continue\n",
        "\n",
        "Dans les boucles *for* ou *while* on peut avoir besoin d’ignorer ou de ne pas effectuer certaines itérations. **2 instructions utiles** :\n",
        "\n",
        "-   l’instruction **break** : permet de sortir de la boucle\n",
        "-   l’instruction **continue** : permet de passer à l’itération suivante sans exécuter les instructions qui suivent"
      ],
      "id": "5b9da8cf-516e-4906-ade1-0412413110bd"
    },
    {
      "cell_type": "code",
      "execution_count": 19,
      "metadata": {},
      "outputs": [
        {
          "output_type": "stream",
          "name": "stdout",
          "text": [
            "0\n",
            "1"
          ]
        }
      ],
      "source": [
        "# utilisation de break\n",
        "for x in range(5) : \n",
        "    if x == 2 : \n",
        "        break\n",
        "    else :\n",
        "        print(x)"
      ],
      "id": "9feb2b95-6f0f-4183-a18f-7ee255045585"
    },
    {
      "cell_type": "code",
      "execution_count": 20,
      "metadata": {},
      "outputs": [
        {
          "output_type": "stream",
          "name": "stdout",
          "text": [
            "0\n",
            "1\n",
            "3\n",
            "4"
          ]
        }
      ],
      "source": [
        "# utilisation de continue\n",
        "for x in range(5) : \n",
        "    if x == 2 : \n",
        "        continue\n",
        "    else :\n",
        "        print(x)"
      ],
      "id": "4ffbb82b-2f51-4056-b360-9c70a24cbd38"
    },
    {
      "cell_type": "markdown",
      "metadata": {},
      "source": [
        "# Créer ses fonctions\n",
        "\n",
        "Les fonctions permettent de faire la même chose sans avoir à recopier le code plusieurs fois dans le même programme. Dès que vous le pouvez, faites des fonctions : le copier-coller est trop dangereux.\n",
        "\n",
        "-   Elles peuvent prendre plusieurs paramètres (ou aucun) elles peuvent retourner plusieurs résultats (ou aucun)\n",
        "-   Pour mettre une aide à la fonction, on écrit au début entre ““” ““” (en rouge dans l’exemple)"
      ],
      "id": "b16a1695-8ad5-4400-a74a-21982ceec154"
    },
    {
      "cell_type": "code",
      "execution_count": 21,
      "metadata": {},
      "outputs": [
        {
          "output_type": "stream",
          "name": "stdout",
          "text": [
            "Help on function ma_fonction_increment in module __main__:\n",
            "\n",
            "ma_fonction_increment(parametre)\n",
            "    Cette fonction ajoute 1 au paramètre qu'on lui donne\n"
          ]
        }
      ],
      "source": [
        "# 1er exemple de fonction\n",
        "\n",
        "def ma_fonction_increment(parametre) : \n",
        "    \"\"\"Cette fonction ajoute 1 au paramètre qu'on lui donne\"\"\"\n",
        "    x = parametre + 1 \n",
        "    return x\n",
        "\n",
        "# pour documenter la fonction, on écrit son aide\n",
        "help(ma_fonction_increment)"
      ],
      "id": "81d8ac45-9692-4125-b8c1-a27f1f426da0"
    },
    {
      "cell_type": "markdown",
      "metadata": {},
      "source": [
        "On peut également :\n",
        "\n",
        "-   avoir des paramètres **facultatifs**, mais ils doivent toujours être placés à la **fin des paramètres**\n",
        "-   en cas de paramètre facultatif, il faut lui donner une valeur par défaut\n",
        "-   retourner plus d’un élément à la fin d’une fonction\n",
        "-   avoir des paramètres de tailles différentes"
      ],
      "id": "c754d01e-1002-4398-9608-89014b83b5ae"
    },
    {
      "cell_type": "code",
      "execution_count": 22,
      "metadata": {},
      "outputs": [
        {
          "output_type": "stream",
          "name": "stdout",
          "text": [
            "x= (13, 1)\n",
            "z = (9, 0)"
          ]
        }
      ],
      "source": [
        "def ma_fonction(p,q = 2) :\n",
        "    y1 = p + q\n",
        "    y2 = y1%3 #reste de la division euclidienne\n",
        "    return y1,y2\n",
        "\n",
        "x = ma_fonction(11) \n",
        "# ici, on n'a pas de 2nd paramètre\n",
        "#, par défaut, x = ma_fonction(10,2)\n",
        "print(\"x=\", x)\n",
        "\n",
        "z = ma_fonction(10,-1)\n",
        "print(\"z =\",z)"
      ],
      "id": "4398eaa6-b925-4dbb-b2e3-43f3ed546589"
    },
    {
      "cell_type": "markdown",
      "metadata": {},
      "source": [
        "Une fonction peut également s’appeler elle même : c’est ce qu’on appelle une fonction récursive.\n",
        "\n",
        "Dans cet exemple, `somme_recursion()` est une fonction que nous avons définie de sorte à ce qu’elle s’appelle elle-même (récursif).\n",
        "\n",
        "On utilise l’argument k, qui décroit (-1) chaque fois qu’on fait appel à la fonction.\n",
        "\n",
        "La récursion s’arrête quand k est nul.\n",
        "Dans cet exemple, on va donc appeler 6 fois la fonction récursive."
      ],
      "id": "60d85f48-2f3e-4bfc-8947-756e14ebafb6"
    },
    {
      "cell_type": "code",
      "execution_count": 23,
      "metadata": {},
      "outputs": [
        {
          "output_type": "stream",
          "name": "stdout",
          "text": [
            "1 1\n",
            "2 3\n",
            "3 6\n",
            "4 10\n",
            "5 15\n",
            "6 21"
          ]
        },
        {
          "output_type": "display_data",
          "metadata": {},
          "data": {
            "text/plain": [
              "21"
            ]
          }
        }
      ],
      "source": [
        "def somme_recursion(k):\n",
        "    if(k > 0):\n",
        "        result = k + somme_recursion(k - 1)\n",
        "        print(k,result)\n",
        "    else:\n",
        "        result = 0\n",
        "    return result\n",
        "somme_recursion(6)"
      ],
      "id": "c4b657d6-ac65-4e5d-a940-1de78e7f7e73"
    },
    {
      "cell_type": "markdown",
      "metadata": {},
      "source": [
        "Les fonctions sont très utiles et nous vous invitons à les utiliser dès que vous le pouvez car elles permettent d’avoir un code clair et structuré, plutôt que des bouts de code éparpillés.\n",
        "\n",
        "# Lever des exceptions\n",
        "\n",
        "Python peut rencontrer des erreurs en exécutant votre programme.\n",
        "\n",
        "Ces erreurs peuvent être interceptées très facilement et c’est même, dans certains cas, indispensable. Par exemple, si vous voulez faire une boucle mais que vous savez que l’instruction ne marchera pas toujours : au lieu de lister les cas où une opération n’est pas possible, on peut indiquer directement quelle erreur doit être ignorée.\n",
        "\n",
        "Cependant, il ne faut pas tout intercepter non plus : si Python envoie une erreur, c’est qu’il y a une raison. Si vous ignorez une erreur, vous risquez d’avoir des résultats très étranges dans votre programme."
      ],
      "id": "1405ac53-92e1-48cf-a454-166e5542e5f8"
    },
    {
      "cell_type": "code",
      "execution_count": 24,
      "metadata": {},
      "outputs": [],
      "source": [
        "# éviter une division par 0, c'est une bonne idée : \n",
        "\n",
        "def inverse(x) :\n",
        "    '''Cette fonction renvoie l inverse de l argument'''\n",
        "    y = 1/x\n",
        "    return y\n",
        "\n",
        "div = inverse(0)"
      ],
      "id": "95b6971a-0c0d-4676-9608-87b1b9ea54d9"
    },
    {
      "cell_type": "markdown",
      "metadata": {},
      "source": [
        "L’erreur est écrite noir sur blanc : **ZeroDivisionError**\n",
        "\n",
        "Dans l’idéal on aimerait éviter que notre code bloque sur ce problème. On pourrait passer par un test if et vérifier que x est différent de 0. Mais on se rend vite compte que dans certains cas, on ne peut lister tous les tests en fonction de valeurs.\n",
        "\n",
        "Alors on va lui précisier ce qu’il doit faire en fonction de l’erreur retournée.\n",
        "\n",
        "**Syntaxe**\n",
        "\n",
        "Try :\n",
        "\n",
        "    instruction\n",
        "\n",
        "except TypeErreur :\n",
        "\n",
        "    autre instruction"
      ],
      "id": "620cbf6b-20ab-420c-aa8a-8483b60bcda5"
    },
    {
      "cell_type": "raw",
      "metadata": {
        "raw_mimetype": "text/html"
      },
      "source": [
        "<!-- #endregion -->"
      ],
      "id": "f18bfcd7-db8e-437e-bfbc-9e10d09e9ab2"
    },
    {
      "cell_type": "code",
      "execution_count": 25,
      "metadata": {},
      "outputs": [
        {
          "output_type": "stream",
          "name": "stdout",
          "text": [
            "0.1\n",
            "None"
          ]
        }
      ],
      "source": [
        "def inverse(x) : \n",
        "    try :\n",
        "        y = 1/x\n",
        "    except ZeroDivisionError :\n",
        "        y = None\n",
        "    return y\n",
        "    \n",
        "print(inverse(10))\n",
        "print(inverse(0))"
      ],
      "id": "3b262fee-073d-4d24-bce5-fb670e0e3227"
    },
    {
      "cell_type": "markdown",
      "metadata": {},
      "source": [
        "Il est recommandé de toujours **préciser le type d’erreur** qu’on rencontre. Si on met uniquement “except” sans préciser le type, on peut passer à côté d’erreurs pour lesquelles la solution n’est pas universelle.\n",
        "\n",
        "# A retenir et questions\n",
        "\n",
        "A retenir\n",
        "\n",
        "-   Toujours mettre “:” avant un bloc d’instructions\n",
        "-   Indenter avant un bloc d’instructions (avec 4 espaces et non une tabulation !)\n",
        "-   Indiquer les modules nécessaires à l’exécution en début de code\n",
        "-   Documenter les fonctions créées\n",
        "-   Préciser le type d’erreur pour les exceptions et potentiellement différencier les blocs d’instructions en fonction de l’erreur\n",
        "\n",
        "| Questions                          |\n",
        "|------------------------------------|\n",
        "| jupyter:                           \n",
        " kernelspec:                         \n",
        " display_name: Python 3 (ipykernel)  \n",
        " language: python                    \n",
        " name: python3                       \n",
        " language_info:                      \n",
        " codemirror_mode:                    \n",
        " name: ipython                       \n",
        " version: 3                          \n",
        " file_extension: .py                 \n",
        " mimetype: text/x-python             \n",
        " name: python                        \n",
        " nbconvert_exporter: python          \n",
        " pygments_lexer: ipython3            \n",
        " version: 3.9.13                     |"
      ],
      "id": "6862bccc-68b8-4c6c-93d7-b4665c41d152"
    }
  ],
  "nbformat": 4,
  "nbformat_minor": 5,
  "metadata": {
    "kernelspec": {
      "display_name": "Python 3",
      "language": "python",
      "name": "python3"
    }
  }
}