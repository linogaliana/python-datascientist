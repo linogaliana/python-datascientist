{
  "cells": [
    {
      "cell_type": "raw",
      "metadata": {},
      "source": [
        "---\n",
        "title: \"Quelques rappels sur les principes de base de Python\"\n",
        "date: 2020-07-09T15:00:00Z\n",
        "draft: false\n",
        "weight: 50\n",
        "slug: \"rappels2A\"\n",
        "type: book\n",
        "summary: |\n",
        "  Rappels d'éléments essentiels en Python: les règles de syntaxes, les classes,\n",
        "  les méthodes, etc. \n",
        "---"
      ],
      "id": "5fec7707"
    },
    {
      "cell_type": "markdown",
      "metadata": {},
      "source": [
        "::: {.cell .markdown}"
      ],
      "id": "aa24cb0e"
    },
    {
      "cell_type": "code",
      "metadata": {},
      "source": [
        "#| echo: false\n",
        "#| output: 'asis'\n",
        "#| include: true\n",
        "#| eval: true\n",
        "\n",
        "import sys\n",
        "sys.path.insert(1, '../../../../') #insert the utils module\n",
        "from utils import print_badges\n",
        "\n",
        "#print_badges(__file__)\n",
        "print_badges(\"content/course/getting-started/05_rappels_types.qmd\")"
      ],
      "id": "8180790a",
      "execution_count": null,
      "outputs": []
    },
    {
      "cell_type": "markdown",
      "metadata": {},
      "source": [
        ":::\n",
        "\n",
        "[`pandas`](http://pandas.pydata.org/) et [`numpy`](http://www.numpy.org/) sont\n",
        "essentiels pour manipuler les données. \n",
        "Néanmoins, il est nécessaire de ne pas faire l'impasse sur les fondements \n",
        "du langage `Python`. Une bonne compréhension des éléments structurants le\n",
        "langage entraîne une plus grande productivité et liberté.\n",
        "\n",
        "Ce chapitre est inspiré du matériel qui était proposé\n",
        "par [Xavier Dupré](http://www.xavierdupre.fr/app/ensae_teaching_cs/helpsphinx/notebooks/td2_eco_rappels_1a.html?highlight=rappel),\n",
        "le précédent professeur de ce cours.\n",
        "\n",
        "Voir aussi [Essential Cheat Sheets for Machine Learning and Deep Learning Engineers](https://startupsventurecapital.com/essential-cheat-sheets-for-machine-learning-and-deep-learning-researchers-efb6a8ebd2e5).\n",
        "\n",
        "\n",
        "# Les quelques règles de `Python`\n",
        "\n",
        "`Python` est un peu susceptible et protocolaire, plus formaliste que ne l'est `R`.\n",
        "Il y a ainsi quelques règles à respecter : \n",
        "\n",
        "*Règle 1:* **L'indentation est primordiale** : un code mal indenté provoque une erreur.\n",
        "L'indentation indique à l'interpréteur où se trouvent les\n",
        "séparations entre des blocs d'instructions. Un peu comme des points dans un \n",
        "texte. \n",
        "\n",
        "Si les lignes ne sont pas bien alignées, l'interpréteur ne sait plus à quel\n",
        "bloc associer la ligne. Par exemple, le corps d'une fonction doit être indenté\n",
        "d'un niveau ; les éléments dans une clause logique (`if`, `else`, etc.) également\n",
        "\n",
        "\n",
        "*Règle 2:* On commence à compter à 0, comme dans beaucoup de langages\n",
        "(`C++`, `java`...). `Python` diffère dans ce domaine de `R` où on commence\n",
        "à compter à 1. \n",
        "Le premier élément d'une liste est ainsi, en `Python`, le 0-ème. \n",
        "\n",
        "*Règle 3:* Comme dans une langue naturelle, les marques de\n",
        "ponctuation sont importantes : \n",
        "\n",
        "* Pour une liste : `[]`\n",
        "* Pour un dictionnaire : `{}`\n",
        "* Pour un tuple : `()`\n",
        "* Pour séparer des éléments `:` ,\n",
        "* Pour commenter un bout de code : `#`\n",
        "* Pour aller à la ligne dans un bloc d'instructions : `\\`\n",
        "* Les majuscules et minuscules sont importantes\n",
        "* Par contre l'usage des `'` ou des `\"` est indifférent.\n",
        "Il faut juste avoir les mêmes début et fin.\n",
        "* Pour documenter une fonction ou une classe _\"\"\" mon texte de documentation \"\"\"_\n",
        "\n",
        "# Les outputs de `Python` : l'opération, le `print` et le `return`\n",
        "\n",
        "Quand Python réalise des opérations, il faut lui préciser ce qu'il doit en faire : \n",
        "\n",
        "* est-ce qu'il doit juste faire l'opération,\n",
        "* afficher le résultat de l'opération, \n",
        "* créer un objet avec le résultat de l'opération ?\n",
        "\n",
        "Contrairement à `R`, par défaut, `Python` ne renvoie pas le résultat de la\n",
        "dernière opération effectuée. \n",
        "\n",
        "{{% box status=\"note\" title=\"Remarque\" icon=\"fas fa-pencil-alt\" %}}\n",
        "\n",
        "Dans l'environnement `Jupyter Notebook`, le dernier élement d'une cellule\n",
        "est automatiquement affiché (`print`), qu'on lui demande ou non de le faire.\n",
        "Ce comportement est particulièrement pratique pour afficher des figures\n",
        "générées via `matplotlib` ou `seaborn`. \n",
        "\n",
        "Ce comportement\n",
        "n'est pas le cas dans un éditeur classique comme `VisualStudio`,\n",
        "`Spyder` ou `PyCharm`. Pour afficher un résultat dans la console,\n",
        "il faut utiliser\n",
        "`print` ou la commande consacrée (par exemple `plt.show()`\n",
        "pour afficher la dernière figure générée par `matplotlib`)\n",
        "\n",
        "\n",
        "{{% /box %}}\n",
        "\n",
        "\n",
        "\n",
        "## Le `print`\n"
      ],
      "id": "24523ed7"
    },
    {
      "cell_type": "code",
      "metadata": {},
      "source": [
        "# on calcule : dans le cas d'une opération par exemple une somme\n",
        "2+3 # Python calcule le résultat mais n'affiche rien dans la sortie\n",
        "\n",
        "# le print : on affiche\n",
        "\n",
        "print(2+3) # Python calcule et on lui demande juste de l'afficher\n",
        "# le résultat est en dessous du code"
      ],
      "id": "144e2f03",
      "execution_count": null,
      "outputs": []
    },
    {
      "cell_type": "code",
      "metadata": {},
      "source": [
        "# le print dans une fonction \n",
        "\n",
        "def addition_v1(a,b) : \n",
        "    print(a+b)\n",
        "\n",
        "resultat_print = addition_v1(2,0) \n",
        "print(type(resultat_print))\n",
        "\n",
        "# dans la sortie on a l'affichage du résultat, car la sortie de la fonction est un print \n",
        "# en plus on lui demande quel est le type du résultat. Un print ne renvoie aucun type, ce n'est ni un numérique,\n",
        "# ni une chaine de charactères, le résultat d'un print n'est pas un format utilisable"
      ],
      "id": "03dded25",
      "execution_count": null,
      "outputs": []
    },
    {
      "cell_type": "markdown",
      "metadata": {},
      "source": [
        "Le résultat de l'addition est affiché\n",
        "car la fonction `addition_v1` effectue un `print`\n",
        "\n",
        "Par contre, l'objet créé n'a pas de type, il n'est pas un chiffre,\n",
        "ce n'est qu'un affichage.\n",
        "\n",
        "## Le `return` \n",
        "\n",
        "Pour créer un objet avec le résultat de la fonction, il faut utiliser __`return`__\n"
      ],
      "id": "2add1eb0"
    },
    {
      "cell_type": "code",
      "metadata": {},
      "source": [
        "# le return dans une fonction\n",
        "def addition_v2(a,b) : \n",
        "    return a+b\n",
        "\n",
        "resultat_return = addition_v2(2,5) # \n",
        "print(type(resultat_return))\n",
        "## là on a bien un résultat qui est du type \"entier\""
      ],
      "id": "881e4121",
      "execution_count": null,
      "outputs": []
    },
    {
      "cell_type": "markdown",
      "metadata": {},
      "source": [
        "Le résultat de `addition_v2` n'est pas affiché comme dans `addition_v1`\n",
        "\n",
        "Par contre, la fonction `addition_v2` permet d'avoir un objet de type `int`,\n",
        "un entier donc.\n",
        "\n",
        "\n",
        "# Les types de base : variables, listes, dictionnaires ...\n",
        "\n",
        "`Python` permet de manipuler différents types de base. Nous en\n",
        "verrons des extensions dans la suite du cours (`np.array` par exemple)\n",
        "qui, d'une manière ou d'une autre, s'appuient sur ces types de base. \n",
        "\n",
        "On distingue deux types de variables : les __immuables__ (*immutables*)\n",
        "qui ne peuvent être\n",
        "modifiés et les __modifiables__ (*mutables*)\n",
        "\n",
        "## Les variables immuables\n",
        "\n",
        "Les variables immuables ne peuvent être modifiées\n",
        "\n",
        "- `None` : ce type est une convention de programmation pour dire que la valeur n'est pas calculée\n",
        "- `bool` : un booléen\n",
        "- `int` : un entier\n",
        "- `float` : un réel\n",
        "- `str` : une chaine de caractères\n",
        "- `tuple` : un vecteur\n"
      ],
      "id": "fc00ba8f"
    },
    {
      "cell_type": "code",
      "metadata": {},
      "source": [
        "i = 3         # entier = type numérique (type int)\n",
        "r = 3.3       # réel   = type numérique (type float)\n",
        "s = \"exemple\" # chaîne de caractères = type str \n",
        "n = None      # None signifie que la variable existe mais qu'elle ne contient rien\n",
        "              # elle est souvent utilisée pour signifier qu'il n'y a pas de résultat\n",
        "a = (1,2)     # tuple\n",
        "\n",
        "print(i,r,s,n,a)         "
      ],
      "id": "f4a0a563",
      "execution_count": null,
      "outputs": []
    },
    {
      "cell_type": "markdown",
      "metadata": {},
      "source": [
        "Si on essaie de changer le premier élément de la chaine de caractères `s` on va avoir un peu de mal. \n",
        "\n",
        "Par exemple si on voulait mettre une majuscule à _\"exemple\"_,\n",
        "on aurait envie d'écrire que le premier élément de la chaine `s` est \"E\" majuscule\n",
        "\n",
        "Mais `Python` ne va pas nous laisser faire, il nous dit que les objets \"chaine de caractère\" ne peuvent être modifiés\n"
      ],
      "id": "24285633"
    },
    {
      "cell_type": "code",
      "metadata": {},
      "source": [
        "#| error: true\n",
        "s[0] = \"E\"  # déclenche une exception"
      ],
      "id": "f23bb61c",
      "execution_count": null,
      "outputs": []
    },
    {
      "cell_type": "markdown",
      "metadata": {},
      "source": [
        "Tout ce qu'on peut faire avec une variable immuable,\n",
        "c'est la réaffecter à une autre valeur : elle ne peut pas être modifiée.\n",
        "\n",
        "Pour s'en convaincre, utilisons la fonction `id()` qui donne un identifiant à chaque objet.\n"
      ],
      "id": "2b6efb44"
    },
    {
      "cell_type": "code",
      "metadata": {},
      "source": [
        "print(s)\n",
        "id(s)"
      ],
      "id": "84c594e3",
      "execution_count": null,
      "outputs": []
    },
    {
      "cell_type": "code",
      "metadata": {},
      "source": [
        "s = \"autre_mot\"\n",
        "id(s)"
      ],
      "id": "941aad90",
      "execution_count": null,
      "outputs": []
    },
    {
      "cell_type": "markdown",
      "metadata": {},
      "source": [
        "On voit bien que `s` a changé d'identifiant : il peut avoir le même nom, ce n'est plus le même objet\n",
        "\n",
        "## Les types modifiable : listes et dictionnaires\n",
        "\n",
        "Heureusement, il existe des variables modifiables comme les listes et les dictionnaires.  \n",
        "\n",
        "### Les listes - elles s'écrivent entre `[ ]`\n",
        "\n",
        "Les listes sont des élements très utiles, notamment quand vous souhaitez faire des boucles.\n",
        "\n",
        "Pour faire appel aux élements d'une liste, on donne leur position dans la liste : le 1er est le 0, le 2ème est le 1 ...\n"
      ],
      "id": "cdbf343f"
    },
    {
      "cell_type": "code",
      "metadata": {},
      "source": [
        "ma_liste = [1,2,3,4]\n",
        "\n",
        "\n",
        "print(\"La longueur de ma liste est de\", len(ma_liste))\n",
        "print(\"Le premier élément de ma liste est :\", ma_liste[0])\n",
        "print(\"Le dernier élément de ma liste est :\", ma_liste[3])\n",
        "print(\"Le dernier élément de ma liste est :\", ma_liste[-1])"
      ],
      "id": "999f6cbe",
      "execution_count": null,
      "outputs": []
    },
    {
      "cell_type": "markdown",
      "metadata": {},
      "source": [
        "{{% box status=\"exercise\" title=\"Exercice 1\" icon=\"fas fa-pencil-alt\" %}}\n",
        "\n",
        "Pour effectuer des boucles sur les listes, la méthode la plus lisible\n",
        "est d'utiliser les `list comprehension`. Cette approche consiste \n",
        "à itérer les éléments d'une liste à la volée. \n",
        "\n",
        "Par exemple, si on reprend [cet exemple](https://www.w3schools.com/python/python_lists_comprehension.asp),\n",
        "un code qui repose sur les `list comprehension` sera le suivant:\n"
      ],
      "id": "6649aede"
    },
    {
      "cell_type": "code",
      "metadata": {},
      "source": [
        "fruits = [\"apple\", \"banana\", \"cherry\", \"kiwi\", \"mango\"]\n",
        "newlist = [x for x in fruits if \"a\" in x]\n",
        "print(newlist)"
      ],
      "id": "c400ce94",
      "execution_count": null,
      "outputs": []
    },
    {
      "cell_type": "markdown",
      "metadata": {},
      "source": [
        "Le même code, ne reposant pas sur les compréhensions de liste, sera beaucoup\n",
        "moins concis et ainsi inutilement verbeux:\n"
      ],
      "id": "12269110"
    },
    {
      "cell_type": "code",
      "metadata": {},
      "source": [
        "fruits = [\"apple\", \"banana\", \"cherry\", \"kiwi\", \"mango\"]\n",
        "newlist = []\n",
        "\n",
        "for x in fruits:\n",
        "  if \"a\" in x:\n",
        "    newlist.append(x)\n",
        "\n",
        "print(newlist) "
      ],
      "id": "9b1071c0",
      "execution_count": null,
      "outputs": []
    },
    {
      "cell_type": "markdown",
      "metadata": {},
      "source": [
        "{{% /box %}}\n",
        "\n",
        "\n",
        "### Les dictionnaires - ils s'écrivent entre accolades `{}`\n",
        "\n",
        "Un dictionnaire associe à une clé un autre élément, appelé une valeur : un chiffre, un nom, une liste, un autre dictionnaire etc.\n",
        "Le format d'un dictionnaire est le suivant: `{Clé : valeur}`. Il s'agit \n",
        "d'un objet très pratique pour la recherche, beaucoup plus que les listes\n",
        "qui ne permettent pas de stocker de l'information diverse de manière \n",
        "hiérarchisée.  \n",
        "\n",
        "\n",
        "#### Dictionnaire avec des valeurs int\n",
        "\n",
        "On peut par exemple associer à un nom, un nombre\n"
      ],
      "id": "5a770aa4"
    },
    {
      "cell_type": "code",
      "metadata": {},
      "source": [
        "mon_dictionnaire_notes = { 'Nicolas' : 18 , 'Pimprenelle' : 15} \n",
        "# un dictionnaire qui à chaque nom associe un nombre\n",
        "# à Nicolas, on associe 18\n",
        "\n",
        "print(mon_dictionnaire_notes) "
      ],
      "id": "eedfef54",
      "execution_count": null,
      "outputs": []
    },
    {
      "cell_type": "markdown",
      "metadata": {},
      "source": [
        "#### Dictionnaire avec des valeurs qui sont des listes\n",
        "\n",
        "\n",
        "Pour chaque clé d'un dictionnaire, il ne faut pas forcément garder la même forme de valeur\n",
        "\n",
        "Dans l'exemple, la valeur de la clé \"Nicolas\" est une liste, alors que celle de \"Philou\" est une liste de liste\n"
      ],
      "id": "db23cec5"
    },
    {
      "cell_type": "code",
      "metadata": {},
      "source": [
        "mon_dictionnaire_loisirs =  \\\n",
        "{ 'Nicolas' : ['Rugby','Pastis','Belote'] , \n",
        "  'Pimprenelle' : ['Gin Rami','Tisane','Tara Jarmon','Barcelone','Mickey Mouse'],\n",
        "  'Philou' : [['Maths','Jeux'],['Guillaume','Jeanne','Thimothée','Adrien']]}"
      ],
      "id": "3e1e51c8",
      "execution_count": null,
      "outputs": []
    },
    {
      "cell_type": "markdown",
      "metadata": {},
      "source": [
        "Pour accéder à un élément du dictionnaire, on fait appel à la clé et non plus à la position, comme c'était le cas dans les listes.\n",
        "C'est beaucoup plus pratique pour rechercher de l'information:\n"
      ],
      "id": "43aaa39d"
    },
    {
      "cell_type": "code",
      "metadata": {},
      "source": [
        "print(mon_dictionnaire_loisirs['Nicolas']) # on affiche une liste"
      ],
      "id": "2c403d12",
      "execution_count": null,
      "outputs": []
    },
    {
      "cell_type": "code",
      "metadata": {},
      "source": [
        "print(mon_dictionnaire_loisirs['Philou']) # on affiche une liste de listes"
      ],
      "id": "7e1e795a",
      "execution_count": null,
      "outputs": []
    },
    {
      "cell_type": "markdown",
      "metadata": {},
      "source": [
        "Si on ne veut avoir que la première liste des loisirs de Philou, on demande le premier élément de la liste\n"
      ],
      "id": "2a76103a"
    },
    {
      "cell_type": "code",
      "metadata": {},
      "source": [
        "print(mon_dictionnaire_loisirs['Philou'][0]) # on affiche alors juste la première liste"
      ],
      "id": "3002b75f",
      "execution_count": null,
      "outputs": []
    },
    {
      "cell_type": "markdown",
      "metadata": {},
      "source": [
        "On peut aussi avoir des valeurs qui sont des `int` et des `list`\n"
      ],
      "id": "21b2d86b"
    },
    {
      "cell_type": "code",
      "metadata": {},
      "source": [
        "mon_dictionnaire_patchwork_good = \\\n",
        "{ 'Nicolas' : ['Rugby','Pastis','Belote'] ,\n",
        "  'Pimprenelle' : 18 }"
      ],
      "id": "aee0744e",
      "execution_count": null,
      "outputs": []
    },
    {
      "cell_type": "markdown",
      "metadata": {},
      "source": [
        "## A retenir \n",
        "    \n",
        "- L'indentation du code est importante (4 espaces et pas une tabulation)\n",
        "- Une __liste__ est entre [] et on peut appeler les positions par leur place \n",
        "- Un __dictionnaire__, clé x valeur, s'écrit entre {} et on appelle un élément en fonction de la clé\n",
        "\n",
        "# Questions pratiques : \n",
        "\n",
        "\n",
        "{{% box status=\"exercise\" title=\"Exercice 1\" icon=\"fas fa-pencil-alt\" %}}\n",
        "\n",
        "1. Quelle est la position de 7 dans la liste suivante\n"
      ],
      "id": "d6fb2d26"
    },
    {
      "cell_type": "code",
      "metadata": {},
      "source": [
        "liste_nombres = [1,2,7,5,3]"
      ],
      "id": "d12c22a1",
      "execution_count": null,
      "outputs": []
    },
    {
      "cell_type": "code",
      "metadata": {},
      "source": [
        "#| include: false\n",
        "#| eval: false\n",
        "\n",
        "# Correction\n",
        "# Position 2\n",
        "liste_nombres.index(7)"
      ],
      "id": "48071aa2",
      "execution_count": null,
      "outputs": []
    },
    {
      "cell_type": "markdown",
      "metadata": {},
      "source": [
        "2. Combien de clés a ce dictionnaire ?     \n"
      ],
      "id": "bb9e279f"
    },
    {
      "cell_type": "code",
      "metadata": {},
      "source": [
        "dictionnaire_evangile = {\"Marc\" : \"Lion\", \"Matthieu\" : [\"Ange\",\"Homme ailé\"] , \n",
        "                          \"Jean\" : \"Aigle\" , \"Luc\" : \"Taureau\"}"
      ],
      "id": "9506c599",
      "execution_count": null,
      "outputs": []
    },
    {
      "cell_type": "code",
      "metadata": {},
      "source": [
        "#| include: false\n",
        "#| eval: false\n",
        "\n",
        "# Correction \n",
        "# 4 clefs\n",
        "print(len(dictionnaire_evangile.keys()))"
      ],
      "id": "3f55ab37",
      "execution_count": null,
      "outputs": []
    },
    {
      "cell_type": "markdown",
      "metadata": {},
      "source": [
        "3. Que faut-il écrire pour obtenir _\"Ange\"_ en résultat à partir du `dictionnaire_evangile` ? \n"
      ],
      "id": "5e680ba9"
    },
    {
      "cell_type": "code",
      "metadata": {},
      "source": [
        "#| include: false\n",
        "dictionnaire_evangile[\"Matthieu\"][0]"
      ],
      "id": "2dcbefd0",
      "execution_count": null,
      "outputs": []
    },
    {
      "cell_type": "markdown",
      "metadata": {},
      "source": [
        "{{% /box %}}\n",
        "\n",
        "\n",
        "# Effectuer des opérations sur les objets de base `Python`\n",
        "\n",
        "Maintenant qu'on a vu quels objets existent en `Python`,\n",
        "nous allons\n",
        "voir comment nous en servir.\n",
        "Pour comprendre comment modifier un objet, il convient\n",
        "de distinguer deux concepts, développés plus amplement\n",
        "dans le chapitre dédié: les __attributs__ et les __méthodes__:\n",
        "\n",
        "- Les _attributs_ décrivent la structure interne d'un objet. Par exemple,\n",
        "la taille d'un objet, sa langue, etc.\n",
        "Nous n'allons pas trop développer ce concept ici. Le chapitre dédié au sujet\n",
        "permettra de plus développer ce concept. \n",
        "- Les __méthodes__ correspondent à des actions qui s'appliqueront à l'objet et s'adaptent à sa structure. \n",
        "La même méthode (par exemple `append`) fonctionnera ainsi de manière différente selon le type d'objet. \n",
        "\n",
        "\n",
        "## Premiers exemples de méthodes\n",
        "\n",
        "Avec les éléments définis dans la partie 1\n",
        "(les listes, les dictionnaires) on peut faire appel à des méthodes qui sont directement liées à ces objets.\n",
        "\n",
        "### Une méthode pour les listes \n",
        "\n",
        "Pour ajouter un élément (`item`) dans une liste : on va utiliser la méthode _`.append()`_\n"
      ],
      "id": "5fec0096"
    },
    {
      "cell_type": "code",
      "metadata": {},
      "source": [
        "ma_liste = [\"Nicolas\",\"Michel\",\"Bernard\"]\n",
        "\n",
        "ma_liste.append(\"Philippe\")\n",
        "\n",
        "print(ma_liste)"
      ],
      "id": "c00a3052",
      "execution_count": null,
      "outputs": []
    },
    {
      "cell_type": "markdown",
      "metadata": {},
      "source": [
        "### Une méthode pour les dictionnaires\n",
        "\n",
        "Pour connaitre l'ensemble des clés d'un dictionnaire, on appelle la méthode _`.keys()`_\n"
      ],
      "id": "d3996068"
    },
    {
      "cell_type": "code",
      "metadata": {},
      "source": [
        "mon_dictionnaire = {\"Marc\" : \"Lion\", \"Matthieu\" : [\"Ange\",\"Homme ailé\"] , \n",
        "                          \"Jean\" : \"Aigle\" , \"Luc\" : \"Taureau\"}\n",
        "\n",
        "print(mon_dictionnaire.keys())"
      ],
      "id": "497682c2",
      "execution_count": null,
      "outputs": []
    },
    {
      "cell_type": "markdown",
      "metadata": {},
      "source": [
        "## Connaitre les méthodes d'un objet\n",
        "\n",
        "Pour savoir quelles sont les méthodes d'un objet vous pouvez : \n",
        "\n",
        "- taper `help(mon_objet)` ou `mon_objet?` dans la console `Python`\n",
        "- taper mon_objet. + touche tabulation dans la console `Python` ou dans le `Notebook`.\n",
        "`Python` permet la complétion, c'est-à-dire que vous pouvez faire appaître la liste\n",
        "des méthodes possibles. \n",
        "\n",
        "\n",
        "# Les opérations et méthodes classiques des listes\n",
        "\n",
        "\n",
        "## Créer une liste\n",
        "\n",
        "Pour créer un objet de la classe `list`, il suffit de le déclarer. Ici on affecte à __`x`__ une liste\n"
      ],
      "id": "d15b6b72"
    },
    {
      "cell_type": "code",
      "metadata": {},
      "source": [
        "x = [4, 5] # création d’une liste composée de deux entiers\n",
        "x = [\"un\", 1, \"deux\", 2] # création d’une liste composée de 2 chaînes de caractères\n",
        "# et de deux entiers, l’ordre d’écriture est important\n",
        "x = [3] # création d’une liste d’un élément, sans la virgule,\n",
        "x = [ ] # crée une liste vide\n",
        "x = list () # crée une liste vide"
      ],
      "id": "1ed467ec",
      "execution_count": null,
      "outputs": []
    },
    {
      "cell_type": "markdown",
      "metadata": {},
      "source": [
        "## Un premier test sur les listes\n",
        "\n",
        "Si on veut tester la présence d'un élément dans une liste, on l'écrit de la manière suivante : \n"
      ],
      "id": "3425d607"
    },
    {
      "cell_type": "code",
      "metadata": {},
      "source": [
        "# Exemple \n",
        "\n",
        "x = \"Marcel\"\n",
        "\n",
        "l = [\"Marcel\",\"Edith\",\"Maurice\",\"Jean\"]\n",
        "\n",
        "print(x in l)\n",
        "\n",
        "#vrai si x est un des éléments de l"
      ],
      "id": "18e40133",
      "execution_count": null,
      "outputs": []
    },
    {
      "cell_type": "markdown",
      "metadata": {},
      "source": [
        "## `+`: une méthode pour concaténer deux listes\n",
        "\n",
        "On utilise le symbole `+`\n"
      ],
      "id": "cc5b9083"
    },
    {
      "cell_type": "code",
      "metadata": {},
      "source": [
        "t = [\"Antoine\",\"David\"]\n",
        "print(l + t) #concaténation de l et t"
      ],
      "id": "1137d9cc",
      "execution_count": null,
      "outputs": []
    },
    {
      "cell_type": "markdown",
      "metadata": {},
      "source": [
        "## Pour trouver certains éléments d'une liste\n",
        "\n",
        "Pour chercher des élements dans une liste, on utilise la position dans la liste. \n"
      ],
      "id": "a37de80d"
    },
    {
      "cell_type": "code",
      "metadata": {},
      "source": [
        "l[1] # donne l'élément qui est en 2ème position de la liste"
      ],
      "id": "a52fe547",
      "execution_count": null,
      "outputs": []
    },
    {
      "cell_type": "code",
      "metadata": {},
      "source": [
        "l[1:3] # donne les éléments de la 2ème position de la liste à la 4ème exclue"
      ],
      "id": "9189c790",
      "execution_count": null,
      "outputs": []
    },
    {
      "cell_type": "markdown",
      "metadata": {},
      "source": [
        "## Quelques fonctions des listes\n",
        "\n",
        "Les listes embarquent ainsi nativement un certain nombre de méthodes\n",
        "qui sont pratiques. Cependant, pour avoir certaines informations\n",
        "sur une liste, il faut parfois plutôt passer par\n",
        "des fonctions natives comme les suivantes:\n"
      ],
      "id": "bf14af52"
    },
    {
      "cell_type": "code",
      "metadata": {},
      "source": [
        "longueur = len(l) # nombre d’éléments de l\n",
        "minimum = min(l) # plus petit élément de l, ici par ordre alphabétique\n",
        "maximum = max(l) # plus grand élément de l, ici par ordre alphabétique\n",
        "print(longueur,minimum,maximum)"
      ],
      "id": "bde8c927",
      "execution_count": null,
      "outputs": []
    },
    {
      "cell_type": "code",
      "metadata": {},
      "source": [
        "del l[0 : 2] # supprime les éléments entre la position 0 et 2 exclue\n",
        "print(l)"
      ],
      "id": "dd8bf36a",
      "execution_count": null,
      "outputs": []
    },
    {
      "cell_type": "markdown",
      "metadata": {},
      "source": [
        "## Les méthodes des listes\n",
        "\n",
        "On les trouve dans l'aide de la liste.\n",
        "On distingue les méthodes et les méthodes spéciales : visuellement,\n",
        "les méthodes spéciales sont celles qui précédées et suivis de deux caractères de soulignement,\n",
        "les autres sont des méthodes classiques.\n"
      ],
      "id": "0bf83891"
    },
    {
      "cell_type": "code",
      "metadata": {},
      "source": [
        "help(l)"
      ],
      "id": "82851429",
      "execution_count": null,
      "outputs": []
    },
    {
      "cell_type": "markdown",
      "metadata": {},
      "source": [
        "## A retenir et questions\n",
        "\n",
        "A retenir : \n",
        "\n",
        "- Chaque objet `Python` a des attributs et des méthodes\n",
        "- Vous pouvez créer des classes avec des attributs et des méthodes \n",
        "- Les méthodes des listes et des dictionnaires qui sont les plus utilisées : \n",
        "    - `list.count()`\n",
        "    - `list.sort()`\n",
        "    - `list.append()`\n",
        "    - `dict.keys()`\n",
        "    - `dict.items()`\n",
        "    - `dict.values()`\n",
        "    \n",
        "\n",
        "\n",
        "{{% box status=\"exercise\" title=\"Exercice 2\" icon=\"fas fa-pencil-alt\" %}}\n",
        "\n",
        "1. Définir la liste allant de 1 à 10, puis effectuez les actions suivantes :\n",
        " \n",
        "* triez et affichez la liste \n",
        "* ajoutez l’élément 11 à la liste et affichez la liste \n",
        "* renversez et affichez la liste \n",
        "* affichez l’élément d’indice 7 \n",
        "* enlevez l’élément 9 et affichez la liste \n",
        "* affichez la sous-liste du 2e au 3e éléments inclus ;\n",
        "* affichez la sous-liste du début au 2e élément inclus ;\n",
        "* affichez la sous-liste du 3e élément à la fin de la liste ;\n"
      ],
      "id": "cb616908"
    },
    {
      "cell_type": "code",
      "metadata": {},
      "source": [
        "#| include: false\n",
        "#| eval: false\n",
        "\n",
        " # Correction\n",
        " ## liste des nombres de 1 à 10\n",
        " liste = list(range(1, 11))\n",
        " ## triez et affichez la liste\n",
        " liste.sort()\n",
        " print(liste)\n",
        " ## ajoutez l’élément 11 à la liste et affichez la liste \n",
        " liste.append(11)\n",
        " print(liste)\n",
        " ## renversez et affichez la liste \n",
        " liste.sort(reverse=True)\n",
        " print(liste)\n",
        " ## affichez l’élément d'indice 7 \n",
        " print(liste[7])\n",
        " ## enlevez l’élément 9 et affichez la liste \n",
        " liste.remove(9)\n",
        " print(liste)\n",
        " ## affichez la sous-liste du 2e au 3e éléments inclus ;\n",
        " print(liste[1:3])\n",
        " ## affichez la sous-liste du début au 2e élément inclus ;\n",
        " print(liste[:2])\n",
        " ## affichez la sous-liste du 3e élément à la fin de la liste ;\n",
        " print(liste[2:])"
      ],
      "id": "0c7e8e3c",
      "execution_count": null,
      "outputs": []
    },
    {
      "cell_type": "markdown",
      "metadata": {},
      "source": [
        "2. Construire le dictionnaire des 6 premiers mois de l'année avec comme valeurs le nombre de jours respectif. \n",
        "\n",
        "* Renvoyer la liste des mois \n",
        "* Renvoyer la liste des jours\n",
        "* Ajoutez la clé du mois de Juillet\n"
      ],
      "id": "7adb758c"
    },
    {
      "cell_type": "code",
      "metadata": {},
      "source": [
        "#| include: false\n",
        "#| eval: false\n",
        "\n",
        "# Correction\n",
        "## Construire le dictionnaire des 6 premiers mois de l'année avec comme valeurs le nombre de jours respectif.\n",
        "mon_dictionnaire_mois = { 'Janvier' : 31 , 'Fevrier' : 28, 'Mars' : 31, 'Avril' : 30, 'Mai' : 31, 'Juin' : 30} \n",
        "## Renvoyer la liste des mois\n",
        "print(list(mon_dictionnaire_mois.keys()))\n",
        "## Renvoyer la liste des jours\n",
        "print(list(mon_dictionnaire_mois.values()))\n",
        "## Ajoutez la clé du mois de Juillet\n",
        "mon_dictionnaire_mois['Juillet']=31\n",
        "print(mon_dictionnaire_mois)"
      ],
      "id": "a047fc7c",
      "execution_count": null,
      "outputs": []
    },
    {
      "cell_type": "markdown",
      "metadata": {},
      "source": [
        "{{% /box %}}\n",
        "\n",
        "\n",
        "## Passer des listes, dictionnaires à `pandas`\n",
        "\n",
        "\n",
        "Supposons que la variable 'data' est une liste qui contient nos données. \n",
        "\n",
        "Une observation correspond à un dictionnaire qui contient le nom, le type, l'ambiance et la note d'un restaurant. \n",
        "\n",
        "Il est aisé de transformer cette liste en dataframe grâce à la fonction 'DataFrame'.\n"
      ],
      "id": "819aefd7"
    },
    {
      "cell_type": "code",
      "metadata": {},
      "source": [
        "import pandas \n",
        "\n",
        "data = [{\"nom\": \"Little Pub\", \"type\" : \"Bar\", \"ambiance\": 9, \"note\": 7},\n",
        "     {\"nom\": \"Le Corse\", \"type\" : \"Sandwicherie\", \"ambiance\": 2, \"note\": 8},\n",
        "     {\"nom\": \"Café Caumartin\", \"type\" : \"Bar\", \"ambiance\": 1}]\n",
        "\n",
        "df = pandas.DataFrame(data)\n",
        "\n",
        "print(data)\n",
        "df"
      ],
      "id": "08da9061",
      "execution_count": null,
      "outputs": []
    }
  ],
  "metadata": {
    "kernelspec": {
      "name": "python3",
      "language": "python",
      "display_name": "Python 3 (ipykernel)"
    }
  },
  "nbformat": 4,
  "nbformat_minor": 5
}