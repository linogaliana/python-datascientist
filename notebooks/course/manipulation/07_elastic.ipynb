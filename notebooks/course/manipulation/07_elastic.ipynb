{
 "cells": [
  {
   "cell_type": "markdown",
<<<<<<< HEAD
   "id": "b96fdbaa",
=======
   "id": "d6b098b7",
>>>>>>> master
   "metadata": {},
   "source": [
    "#  Introduction à ElasticSearch\n",
    "\n",
    "\n"
   ]
  },
  {
   "cell_type": "markdown",
<<<<<<< HEAD
   "id": "448724f9",
=======
   "id": "81459ed7",
>>>>>>> master
   "metadata": {},
   "source": [
    "Pour essayer les exemples présents dans ce tutoriel : \n",
    "\n",
    "<a href=\"https://github.com/linogaliana/python-datascientist/blob/master/notebooks/course/manipulation/07_elastic.ipynb\" class=\"github\"><i class=\"fab fa-github\"></i></a>\n",
    "[![nbviewer](https://img.shields.io/badge/visualize-nbviewer-blue)](https://nbviewer.jupyter.org/github/linogaliana/python-datascientist/blob/master/notebooks/course/manipulation/07_elastic.ipynb)\n",
    "[![Onyxia](https://img.shields.io/badge/SSPcloud-Tester%20via%20SSP--cloud-informational&color=yellow?logo=Python)](https://datalab.sspcloud.fr/launcher/inseefrlab-helm-charts-datascience/jupyter?onyxia.friendlyName=%C2%ABpython-datascientist%C2%BB&resources.requests.memory=%C2%AB4Gi%C2%BB)\n",
    "\n",
    "# Introduction\n",
    "\n",
    "## Réplication de ce chapitre\n",
    "\n",
    "Ce chapitre est plus exigeant en termes d'infrastructures que les précédents.\n",
    "Il nécessite un serveur Elastic. Les utilisateurs du\n",
    "[SSP Cloud](datalab.sspcloud.fr/) pourront répliquer les exemples de ce cours\n",
    "car cette technologie est disponible (que ce soit pour indexer une base ou\n",
    "pour requêter une base existante).\n",
    "\n",
    "La première partie de ce tutoriel ne nécessite pas d'architecture particulière et\n",
    "peut ainsi être exécutée en utilisant les packages suivants: \n"
   ]
  },
  {
   "cell_type": "code",
   "execution_count": null,
<<<<<<< HEAD
   "id": "9f907253",
=======
   "id": "ce93d6d5",
>>>>>>> master
   "metadata": {},
   "outputs": [],
   "source": [
    "import time\n",
    "import pandas as pd"
   ]
  },
  {
   "cell_type": "markdown",
<<<<<<< HEAD
   "id": "b0248074",
=======
   "id": "1a4db069",
>>>>>>> master
   "metadata": {},
   "source": [
    "Le script `utils.py` regroupe un certain nombre de fonctions utiles\n"
   ]
  },
  {
   "cell_type": "code",
   "execution_count": null,
<<<<<<< HEAD
   "id": "e9db5d7e",
   "metadata": {},
=======
   "id": "156caab8",
   "metadata": {
    "lines_to_next_cell": 2
   },
>>>>>>> master
   "outputs": [],
   "source": [
    "import utils"
   ]
  },
  {
   "cell_type": "markdown",
<<<<<<< HEAD
   "id": "70a273db",
   "metadata": {},
   "source": [
    "```\n",
    "## Error in py_call_impl(callable, dots$args, dots$keywords): ModuleNotFoundError: No module named 'elasticsearch'\n",
    "## \n",
    "## Detailed traceback: \n",
    "##   File \"<string>\", line 1, in <module>\n",
    "##   File \"/__w/python-datascientist/python-datascientist/content/course/manipulation/utils.py\", line 6, in <module>\n",
    "##     from elasticsearch.helpers import bulk, parallel_bulk\n",
    "```"
   ]
  },
  {
   "cell_type": "markdown",
   "id": "52ccb67e",
=======
   "id": "ca7fa1b9",
>>>>>>> master
   "metadata": {},
   "source": [
    "## Cas d'usage"
   ]
  },
  {
   "cell_type": "markdown",
<<<<<<< HEAD
   "id": "0e72a379",
=======
   "id": "b6cee6e7",
>>>>>>> master
   "metadata": {},
   "source": [
    "Ce notebook recense et propose d'appréhender quelques outils utilisés\n",
    "pour l'étude \"Disparités territoriales de consommation d’aliments gras, salés et sucrés\", Lino Galiana, Milena Suarez Castillo, Lionel Wilner (en cours!)\n",
    "\n",
    "> Combien de calories dans ma recette de cuisine de ce soir? Combien de calories dans mes courses de la semaine?\n",
    "\n",
    "L'objectif est de reconstituer, à partir de libellés de produits, les caractéristiques nutritionnelles d'une recette.\n",
    "Le problème est que les libellés des tickets de caisse ne sont pas des champs textuels très propres, ils contiennent, \n",
    "par exemple, beaucoup d'abbréviations, toutes n'étant pas évidentes. \n",
    "\n",
    "Voici par exemple une série de noms de produits qu'on va utiliser par la suite: \n"
   ]
  },
  {
   "cell_type": "code",
   "execution_count": null,
<<<<<<< HEAD
   "id": "70792319",
=======
   "id": "34200cd9",
>>>>>>> master
   "metadata": {},
   "outputs": [],
   "source": [
    "ticket = ['CROISSANTS X6 400G',\n",
    "          'MAQUEREAUX MOUTAR.',\n",
    "          'IGP OC SAUVIGNON B',\n",
    "          'LAIT 1/2 ECRM UHT',\n",
    "          '6 OEUFS FRAIS LOCA',\n",
    "          'ANANAS C2',\n",
    "          'L POMME FUDJI X6 CAL 75/80 1KG ENV',\n",
    "          'PLT MIEL',\n",
    "          'STELLA ARTOIS X6',\n",
    "          'COTES DU LUBERON AIGUEBRUN 75C']"
   ]
  },
  {
   "cell_type": "markdown",
<<<<<<< HEAD
   "id": "42e9354f",
=======
   "id": "f19ff69d",
>>>>>>> master
   "metadata": {},
   "source": [
    "A ces produits, s'ajoutent les ingrédients suivants, issus de la\n",
    "[recette du velouté de potiron et carottes de Marmiton](https://www.marmiton.org/recettes/recette_veloute-de-potiron-et-carottes_19009.aspx)\n",
    "qui sera notre plat principal :\n"
   ]
  },
  {
   "cell_type": "code",
   "execution_count": null,
<<<<<<< HEAD
   "id": "182d1d45",
=======
   "id": "5689200d",
>>>>>>> master
   "metadata": {},
   "outputs": [],
   "source": [
    "ingredients = ['500 g de carottes',\n",
    " '2 pommes de terre',\n",
    " \"1 gousse d'ail\",\n",
    " '1/2 l de lait',\n",
    " '1/2 l de bouillon de volaille',\n",
    " \"1 cuillère à soupe de huile d'olive\",\n",
    " '1 kg de potiron',\n",
    " '1 oignon',\n",
    " '10 cl de crème liquide (facultatif)']"
   ]
  },
  {
   "cell_type": "markdown",
<<<<<<< HEAD
   "id": "3c77401c",
=======
   "id": "278ca5cf",
>>>>>>> master
   "metadata": {},
   "source": [
    "Essayer de récupérer par webscraping cette liste est un bon exercice pour réviser\n",
    "les concepts [vus précedemment](#webscraping)\n"
   ]
  },
  {
   "cell_type": "code",
   "execution_count": null,
<<<<<<< HEAD
   "id": "26bb55c4",
=======
   "id": "f5a65342",
>>>>>>> master
   "metadata": {},
   "outputs": [],
   "source": [
    "libelles = ticket + ingredients"
   ]
  },
  {
   "cell_type": "markdown",
<<<<<<< HEAD
   "id": "47ccdca8",
=======
   "id": "3f45012b",
>>>>>>> master
   "metadata": {},
   "source": [
    "On part avec cette liste dans notre supermarché virtuel. L'objectif sera de trouver\n",
    "une méthode permettant passer à l'échelle:\n",
    "automatiser les traitements, effectuer des recherches efficaces, garder une certaine généralité et flexibilité. \n",
    "\n",
    "Ce chapitre montrera par l'exemple l'intérêt d'`Elastic` par rapport à une solution \n",
    "qui n'utiliserait que du Python\n",
    "\n",
    "# Données utilisées"
   ]
  },
  {
   "cell_type": "markdown",
<<<<<<< HEAD
   "id": "1df9a06b",
=======
   "id": "77708556",
>>>>>>> master
   "metadata": {},
   "source": [
    "## Les bases offrant des informations nutritionnelles \n",
    "\n",
    "Pour un nombre restreint de produits, on pourrait bien-sûr chercher à\n",
    "la main les caractéristiques des produits en utilisant les \n",
    "fonctionalités d'un moteur de recherche:"
   ]
  },
  {
   "cell_type": "markdown",
<<<<<<< HEAD
   "id": "20795b64",
=======
   "id": "2f8eb92f",
>>>>>>> master
   "metadata": {},
   "source": [
    "```r\n",
    "knitr::include_graphics(\"fraise.png\")\n",
    "```"
   ]
  },
  {
   "cell_type": "markdown",
<<<<<<< HEAD
   "id": "8a450c3e",
=======
   "id": "746b258f",
>>>>>>> master
   "metadata": {},
   "source": [
    "Cependant, cette approche serait très fastidieuse et \n",
    "nécessiterait de récuperer, à la main, chaque caractéristique\n",
    "pour chaque produit. Ce n'est donc pas envisageable.\n",
    "\n",
    "Les données disponibles sur Google viennent de l'[USDA](https://fdc.nal.usda.gov/),\n",
    "l'équivalent américain de notre Ministère de l'Agriculture. \n",
    "Cependant, pour des recettes comportant des noms de produits français, ainsi que \n",
    "des produits potentiellement transformés, ce n'est pas très pratique d'utiliser\n",
    "une base de données de produits agricoles en Français. Pour cette raison,\n",
    "nous proposons d'utiliser les deux bases suivantes, qui servent de base au travail de\n",
    "Galiana et al. (à venir)"
   ]
  },
  {
   "cell_type": "markdown",
<<<<<<< HEAD
   "id": "132b36b2",
=======
   "id": "36e62dfe",
>>>>>>> master
   "metadata": {},
   "source": [
    "* L'[OpenFoodFacts database](https://fr.openfoodfacts.org/) qui est une base française, \n",
    "collaborative de produits alimentaires. Issue d'un projet [Data4Good](https://dataforgood.fr/), il s'agit d'une \n",
    "alternative opensource et opendata à la base de données de l'application [Yuka](https://yuka.io/). \n",
    "* La table de composition nutritionnelle [Ciqual](https://ciqual.anses.fr) produite par l'Anses. Celle-ci\n",
    "propose la composition nutritionnelle _moyenne_ des aliments les plus consommés en France. Il s'agit d'une base de données\n",
    "enrichie par rapport à celle de l'USDA puisqu'elle ne se cantonne pas aux produits agricoles non transformés. \n",
    "Avec cette base, il ne s'agit pas de trouver un produit exact mais essayer de trouver un produit type proche du produit\n",
    "dont on désire connaître les caractéristiques. \n"
   ]
  },
  {
   "cell_type": "markdown",
<<<<<<< HEAD
   "id": "d6bdae99",
=======
   "id": "ed8f88bb",
>>>>>>> master
   "metadata": {},
   "source": [
    "```r\n",
    "knitr::include_graphics(\"openfood.png\")\n",
    "```"
   ]
  },
  {
   "cell_type": "markdown",
<<<<<<< HEAD
   "id": "50497bc7",
=======
   "id": "c9e84a7f",
>>>>>>> master
   "metadata": {},
   "source": [
    "## Import \n",
    "\n",
    "Quelques fonctions utiles sont regroupées dans le script `utils.py` et importées dans le notebook. La base OpenFood peut être récupérée en ligne (opération qui peut prendre un peu de temps, on passe ici par le stockage interne de la plateforme en spécifiant `from_latest=False`). La base ciqual, plus légère, est récupérée elle directement en ligne.\n"
   ]
  },
  {
   "cell_type": "code",
   "execution_count": null,
<<<<<<< HEAD
   "id": "6b20cd78",
   "metadata": {},
   "outputs": [],
   "source": [
    "openfood = utils.import_openfood()"
   ]
  },
  {
   "cell_type": "markdown",
   "id": "83f14204",
   "metadata": {},
   "source": [
    "```\n",
    "## Error in py_call_impl(callable, dots$args, dots$keywords): NameError: name 'utils' is not defined\n",
    "## \n",
    "## Detailed traceback: \n",
    "##   File \"<string>\", line 1, in <module>\n",
    "```"
   ]
  },
  {
   "cell_type": "code",
   "execution_count": null,
   "id": "c8846380",
   "metadata": {},
   "outputs": [],
   "source": [
=======
   "id": "2c1a8ec5",
   "metadata": {
    "lines_to_next_cell": 2
   },
   "outputs": [],
   "source": [
    "openfood = utils.import_openfood()\n",
>>>>>>> master
    "ciqual = utils.import_ciqual()"
   ]
  },
  {
<<<<<<< HEAD
   "cell_type": "markdown",
   "id": "71374f43",
   "metadata": {},
   "source": [
    "```\n",
    "## Error in py_call_impl(callable, dots$args, dots$keywords): NameError: name 'utils' is not defined\n",
    "## \n",
    "## Detailed traceback: \n",
    "##   File \"<string>\", line 1, in <module>\n",
    "```\n"
   ]
  },
  {
   "cell_type": "code",
   "execution_count": null,
   "id": "ca96c7fa",
=======
   "cell_type": "code",
   "execution_count": null,
   "id": "498c21eb",
>>>>>>> master
   "metadata": {},
   "outputs": [],
   "source": [
    "openfood.head()"
   ]
  },
  {
   "cell_type": "markdown",
<<<<<<< HEAD
   "id": "b313b6e8",
   "metadata": {},
   "source": [
    "```\n",
    "## Error in py_call_impl(callable, dots$args, dots$keywords): NameError: name 'openfood' is not defined\n",
    "## \n",
    "## Detailed traceback: \n",
    "##   File \"<string>\", line 1, in <module>\n",
=======
   "id": "0b69defe",
   "metadata": {},
   "source": [
    "```\n",
    "##                       product_name  nutriscore_score  energy_100g\n",
    "## 6      moutarde au moût de raisin               18.0        936.0\n",
    "## 17       Salade de carottes râpées               1.0        134.0\n",
    "## 26              Tarte noix de coco              14.0       1594.0\n",
    "## 36                Compote de poire              -2.0        657.0\n",
    "## 40  Salade de macedoine de légumes               1.0        598.0\n",
>>>>>>> master
    "```\n"
   ]
  },
  {
   "cell_type": "code",
   "execution_count": null,
<<<<<<< HEAD
   "id": "c938160e",
=======
   "id": "a5b57d9e",
>>>>>>> master
   "metadata": {},
   "outputs": [],
   "source": [
    "ciqual.head()"
   ]
  },
  {
   "cell_type": "markdown",
<<<<<<< HEAD
   "id": "afec2f64",
   "metadata": {},
   "source": [
    "```\n",
    "## Error in py_call_impl(callable, dots$args, dots$keywords): NameError: name 'ciqual' is not defined\n",
    "## \n",
    "## Detailed traceback: \n",
    "##   File \"<string>\", line 1, in <module>\n",
=======
   "id": "cfc93b44",
   "metadata": {},
   "source": [
    "```\n",
    "##                                           alim_nom_fr Energie, Règlement UE N° 1169/2011 (kcal/100 g)\n",
    "## 5           Taboulé ou Salade de couscous, préemballé                                             179\n",
    "## 6   Salade de pomme de terre à la piémontaise, pré...                                             130\n",
    "## 9        Crudité, sans assaisonnement (aliment moyen)                                            29,9\n",
    "## 13  Salade végétale à base de boulgour et/ou quino...                                             168\n",
    "## 16  Salade de chou ou Coleslaw, avec sauce, préemb...                                             105\n",
>>>>>>> master
    "```\n",
    "\n",
    "# ElasticSearch ? Mais ce n'est pas du Python ?!\n",
    "\n",
    "## Qu'est-ce qu'Elastic ? \n",
    "\n",
    "ElasticSearch c'est un logiciel qui fournit un moteur de recherche installé sur\n",
    "un serveur (ou une machine personnelle) qu'il est possible de requêter depuis un client\n",
    "(une session `Python` par exemple). C'est un moteur de recherche \n",
    "très performant, puissant et flexible, extrêmement utilisé dans le domaine de la datascience\n",
    "sur données textuelles. Un cas d'usage est par exemple de trouver,\n",
    "dans un corpus de grande dimension\n",
    "(plusieurs sites web, livres...), un certain texte en s'autorisant des termes voisins\n",
    "(verbes conjugués, fautes de frappes...).  \n",
    "\n",
    "Le principe est le même que celui d'un moteur de recherche du web comme Google. \n",
    "D'un côté, l'ensemble à parcourir est indexé (c'est-à-dire XXX) pour être en \n",
    "mesure de parcourir de manière efficace l'ensemble du corpus.\n",
    "De l'autre côté, la phase de recherche permet de retrouver l'élément du corpus le\n",
    "plus cohérent avec la requête de recherche. L'indexation consiste, par exemple,\n",
    "à pré-définir des traitements des termes du corpus pour gagner en efficacité\n",
    "lors de la phase de recherche. En effet, l'indexation est une opération peu fréquente\n",
    "par rapport à la recherche. Pour cette dernière, l'efficacité est cruciale (un site web \n",
    "qui prend plusieurs secondes à interpréter une requête simple ne sera pas utilisé). Mais, pour\n",
    "l'indexation, ceci est moins crucial. \n",
    "\n",
    "ElasticSearch propose une interface graphique nommée Kibana. Celle-ci est pratique\n",
    "pour tester des requêtes et pour superviser le serveur Elastic. Cependant,\n",
    "pour le passage à l'échelle, notamment pour mettre en lien une base indexée dans\n",
    "Elastic avec une autre source de données, les API proposées par ElasticSearch\n",
    "sont beaucoup plus pratiques. Ces API permettent de connecter une session `Python` (idem pour `R`)\n",
    "à un serveur Elastic afin de communiquer avec lui (échanger des flux via une API REST). \n",
    "\n",
    "## ElasticSearch et Python\n",
    "\n",
    "En `Python`, le package officiel est [`elasticsearch`](https://elasticsearch-py.readthedocs.io/en/v7.12.0/).\n",
    "Ce dernier permet de configurer les paramètres pour interagir avec un serveur, indexer \n",
    "une ou plusieurs bases, envoyer de manière automatisée un ensemble de requêtes\n",
    "au serveur, récupérer les résultats directement dans une session `Python`...\n",
    "\n",
    "# Limites de la distance de Levenshtein"
   ]
  },
  {
   "cell_type": "markdown",
<<<<<<< HEAD
   "id": "8c7236c2",
=======
   "id": "a82e8fdc",
>>>>>>> master
   "metadata": {},
   "source": [
    "On appelle distance de Levenshtein entre deux chaînes de caractères le coût minimal (en nombre d'opérations)\n",
    "pour transformer la première en la seconde par\n",
    "\n",
    "* substitution\n",
    "* insertion\n",
    "* suppression\n",
    "\n",
    "La distance de Levenshtein est une mesure très utilisée pour comparer la similarité entre deux\n",
    "chaînes de caractères. Il existe plusieurs packages pour calculer cette dernière. \n",
    "`fuzzywuzzy` est le plus connu mais ce dernier est assez lent (implémentation en pur `Python`).\n",
    "Le package `rapidfuzz`, présenté ici, propose les mêmes fonctionalités mais est plus rapide car implémenté\n",
    "en `C++` qui est plus efficace. \n"
   ]
  },
  {
   "cell_type": "code",
   "execution_count": null,
<<<<<<< HEAD
   "id": "c1239f1d",
   "metadata": {},
   "outputs": [],
   "source": [
    "import rapidfuzz # \"Rapid fuzzy string matching in Python and C++ using the Levenshtein Distance\" soit l'équivalent plus rapide de la librarie fuzzywuzzy"
   ]
  },
  {
   "cell_type": "markdown",
   "id": "fdd6dc2f",
   "metadata": {},
   "source": [
    "```\n",
    "## Error in py_call_impl(callable, dots$args, dots$keywords): ModuleNotFoundError: No module named 'rapidfuzz'\n",
    "## \n",
    "## Detailed traceback: \n",
    "##   File \"<string>\", line 1, in <module>\n",
    "```"
   ]
  },
  {
   "cell_type": "code",
   "execution_count": null,
   "id": "990934cb",
   "metadata": {},
   "outputs": [],
   "source": [
=======
   "id": "2d8c8290",
   "metadata": {},
   "outputs": [],
   "source": [
    "import rapidfuzz # \"Rapid fuzzy string matching in Python and C++ using the Levenshtein Distance\" soit l'équivalent plus rapide de la librarie fuzzywuzzy\n",
>>>>>>> master
    "[rapidfuzz.string_metric.levenshtein('salut','slut', weights =(1,1,1)), # Suppression \n",
    " rapidfuzz.string_metric.levenshtein('salut','saalut', weights =(1,1,1)), # Addition \n",
    " rapidfuzz.string_metric.levenshtein('salut','selut', weights =(1,1,1))] # Substitution"
   ]
  },
  {
   "cell_type": "markdown",
<<<<<<< HEAD
   "id": "3f501571",
   "metadata": {},
   "source": [
    "```\n",
    "## Error in py_call_impl(callable, dots$args, dots$keywords): NameError: name 'rapidfuzz' is not defined\n",
    "## \n",
    "## Detailed traceback: \n",
    "##   File \"<string>\", line 1, in <module>\n",
=======
   "id": "7504b501",
   "metadata": {},
   "source": [
    "```\n",
    "## [1, 1, 1]\n",
>>>>>>> master
    "```\n",
    "\n",
    "## Produits Ciqual les plus similaires aux produits de la recette\n",
    "\n",
    "On pourrait écrire une fonction qui prend en argument une liste de libellés d'intérêt et une liste de candidat au *match* et\n",
    "renvoie le libellé le plus proche. Cependant, le risque est que cet algorithme soit relativement lent s'il n'est pas codé\n",
    "parfaitement. Il est, à mon avis, plus simple, quand\n",
    "on est habitué à la logique `pandas`, de faire un produit cartésien pour obtenir un vecteur mettant en miroir\n",
    "chaque produit de notre recette avec l'ensembles des produits Ciqual et ensuite comparer les deux vecteurs pour prendre,\n",
    "pour chaque produit, le meilleur *match*. Les bases étant de taille limitée, le produit cartésien n'est pas problématique.\n",
    "Avec des bases plus conséquentes une stratégie plus parcimonieuse en mémoire devrait être envisagée. \n",
    "\n"
   ]
  },
  {
   "cell_type": "code",
   "execution_count": null,
<<<<<<< HEAD
   "id": "e108e259",
=======
   "id": "536b2186",
>>>>>>> master
   "metadata": {},
   "outputs": [],
   "source": [
    "dist_leven = utils.match_product(libelles, ciqual)"
   ]
  },
  {
   "cell_type": "markdown",
<<<<<<< HEAD
   "id": "b9bd610f",
   "metadata": {},
   "source": [
    "```\n",
    "## Error in py_call_impl(callable, dots$args, dots$keywords): NameError: name 'utils' is not defined\n",
    "## \n",
    "## Detailed traceback: \n",
    "##   File \"<string>\", line 1, in <module>\n",
=======
   "id": "2424d9ad",
   "metadata": {},
   "source": [
    "```\n",
    "## Temps d'exécution total : 0.05 secondes ---\n",
>>>>>>> master
    "```\n",
    "\n",
    "Cette première étape naïve est décevante à plusieurs égards: \n",
    "\n",
    "* Certes, on a des matches cohérent (par exemple \"Oignon rouge, cru\" et \"1 oignon\")\n",
    "mais on a plus de couples incohérents ;\n",
    "* Le temps de calcul peut apparaître faible mais le passage à l'échelle risque d'être compliqué ;\n",
    "* Les besoins mémoires sont potentiellement importants lors de l'appel à \n",
    "`rapidfuzz.process.extract` ce qui peut bloquer le passage à l'échelle\n",
    "* La distance textuelle n'est pas nécessairement la plus pertinente. \n",
    "\n",
    "On a négligé une étape importante: la normalisation (ou nettoyage des textes) présentée dans la \n",
    "partie [NLP](#nlp), notamment: \n",
    "\n",
    "* harmonisation de la casse, suppression des accents...\n",
    "* suppressions des mots outils (e.g. ici on va d'abord négliger les quantités pour trouver la nature de l'aliment, en particulier pour Ciqual)"
   ]
  },
  {
   "cell_type": "markdown",
<<<<<<< HEAD
   "id": "6dbbac14",
=======
   "id": "ff6490e4",
>>>>>>> master
   "metadata": {},
   "source": [
    "## Preprocessing pour améliorer la pertinence des matches\n",
    "\n",
    "On nettoie les libellés en mobilisant des expressions régulières et un dictionnaire de mots outils.\n",
    "On peut adapter le nettoyage à la base, par exemple dans ciqual, la cuisson est souvent renseignée et bruite les appariemments.\n",
    "La fonction `clean_libelle` du script [`utils.py`](#utils.py) propose quelques fonctions\n",
    "appliquant les méthodes disponibles dans la partie [NLP](#NLP)\n",
    "\n"
   ]
  },
  {
   "cell_type": "code",
   "execution_count": null,
<<<<<<< HEAD
   "id": "3951d5f8",
=======
   "id": "e1e27dad",
>>>>>>> master
   "metadata": {},
   "outputs": [],
   "source": [
    "from utils import clean_libelle"
   ]
  },
  {
   "cell_type": "markdown",
<<<<<<< HEAD
   "id": "ce189ffe",
   "metadata": {},
   "source": [
    "```\n",
    "## Error in py_call_impl(callable, dots$args, dots$keywords): ModuleNotFoundError: No module named 'elasticsearch'\n",
    "## \n",
    "## Detailed traceback: \n",
    "##   File \"<string>\", line 1, in <module>\n",
    "##   File \"/__w/python-datascientist/python-datascientist/content/course/manipulation/utils.py\", line 6, in <module>\n",
    "##     from elasticsearch.helpers import bulk, parallel_bulk\n",
    "```\n",
    "\n",
=======
   "id": "9ca060f1",
   "metadata": {},
   "source": [
>>>>>>> master
    "On peut déjà : \n",
    "\n",
    "* Harmoniser la casse et retirer les accents (voir utils.py)\n",
    "* Retirer tout les caractères qui ne sont pas des lettres (chiffres, ponctuations)\n",
    "* Retirer les caractères isolés\n"
   ]
  },
  {
   "cell_type": "code",
   "execution_count": null,
<<<<<<< HEAD
   "id": "dfcfca5f",
=======
   "id": "8a791cac",
>>>>>>> master
   "metadata": {},
   "outputs": [],
   "source": [
    "stopWords = ['KG','CL','G','L','CRUE?S?', 'PREEMBALLEE?S?']\n",
    "replace_regex = {r'[^A-Z]': ' ', r'\\b[A-Z0-9]{1,2}?\\b':' '} # "
   ]
  },
  {
   "cell_type": "markdown",
<<<<<<< HEAD
   "id": "7130b0d9",
=======
   "id": "c9cb88c3",
>>>>>>> master
   "metadata": {},
   "source": [
    "Cela permet d'obtenir les bases nettoyées suivantes:\n"
   ]
  },
  {
   "cell_type": "code",
   "execution_count": null,
<<<<<<< HEAD
   "id": "c7942fe6",
   "metadata": {},
   "outputs": [],
   "source": [
    "ciqual = clean_libelle(ciqual, yvar = 'alim_nom_fr', replace_regex = replace_regex, stopWords = stopWords)"
   ]
  },
  {
   "cell_type": "markdown",
   "id": "f7b27000",
   "metadata": {},
   "source": [
    "```\n",
    "## Error in py_call_impl(callable, dots$args, dots$keywords): NameError: name 'clean_libelle' is not defined\n",
    "## \n",
    "## Detailed traceback: \n",
    "##   File \"<string>\", line 1, in <module>\n",
    "```"
   ]
  },
  {
   "cell_type": "code",
   "execution_count": null,
   "id": "853b4520",
   "metadata": {},
   "outputs": [],
   "source": [
=======
   "id": "44f3c4c9",
   "metadata": {},
   "outputs": [],
   "source": [
    "ciqual = clean_libelle(ciqual, yvar = 'alim_nom_fr', replace_regex = replace_regex, stopWords = stopWords)\n",
>>>>>>> master
    "ciqual.sample(10)"
   ]
  },
  {
   "cell_type": "markdown",
<<<<<<< HEAD
   "id": "053f8b86",
   "metadata": {},
   "source": [
    "```\n",
    "## Error in py_call_impl(callable, dots$args, dots$keywords): NameError: name 'ciqual' is not defined\n",
    "## \n",
    "## Detailed traceback: \n",
    "##   File \"<string>\", line 1, in <module>\n",
=======
   "id": "5979d4a0",
   "metadata": {},
   "source": [
    "```\n",
    "##                                             alim_nom_fr  ...                                        libel_clean\n",
    "## 1857  Moules à la sauce catalane ou escabèche (tomat...  ...  MOULES SAUCE CATALANE ESCABECHE TOMATE APPERTI...\n",
    "## 1218                        Agneau, gigot, grillé/poêlé  ...                          AGNEAU GIGOT GRILLE POELE\n",
    "## 590                         Tomate, rôtie/cuite au four  ...                            TOMATE ROTIE CUITE FOUR\n",
    "## 512                           Chou-fleur, surgelé, cuit  ...                            CHOU FLEUR SURGELE CUIT\n",
    "## 216   Galette de céréales au fromage (sans soja), pr...  ...                GALETTE CEREALES FROMAGE SANS SOJA \n",
    "## 1832                                    Écrevisse, crue  ...                                         ECREVISSE \n",
    "## 2515                              Saké ou Alcool de riz  ...                                    SAKE ALCOOL RIZ\n",
    "## 2239  Eau minérale Aizac, embouteillée, gazeuse, fai...  ...  EAU MINERALE AIZAC EMBOUTEILLEE GAZEUSE FAIBLE...\n",
    "## 303   Sandwich baguette, porc, crudités (tomate, sal...  ...  SANDWICH BAGUETTE PORC CRUDITES TOMATE SALADE ...\n",
    "## 1661                                     Vivaneau, cuit  ...                                      VIVANEAU CUIT\n",
    "## \n",
    "## [10 rows x 3 columns]\n",
>>>>>>> master
    "```\n"
   ]
  },
  {
   "cell_type": "code",
   "execution_count": null,
<<<<<<< HEAD
   "id": "24119330",
   "metadata": {},
   "outputs": [],
   "source": [
    "openfood = clean_libelle(openfood, yvar = 'product_name', replace_regex = replace_regex, stopWords = stopWords)"
   ]
  },
  {
   "cell_type": "markdown",
   "id": "7c4df998",
   "metadata": {},
   "source": [
    "```\n",
    "## Error in py_call_impl(callable, dots$args, dots$keywords): NameError: name 'clean_libelle' is not defined\n",
    "## \n",
    "## Detailed traceback: \n",
    "##   File \"<string>\", line 1, in <module>\n",
    "```"
   ]
  },
  {
   "cell_type": "code",
   "execution_count": null,
   "id": "09909035",
   "metadata": {},
   "outputs": [],
   "source": [
=======
   "id": "6095cc2f",
   "metadata": {},
   "outputs": [],
   "source": [
    "openfood = clean_libelle(openfood, yvar = 'product_name', replace_regex = replace_regex, stopWords = stopWords)\n",
>>>>>>> master
    "openfood.sample(10)"
   ]
  },
  {
   "cell_type": "markdown",
<<<<<<< HEAD
   "id": "e2431c17",
   "metadata": {},
   "source": [
    "```\n",
    "## Error in py_call_impl(callable, dots$args, dots$keywords): NameError: name 'openfood' is not defined\n",
    "## \n",
    "## Detailed traceback: \n",
    "##   File \"<string>\", line 1, in <module>\n",
=======
   "id": "d1be4ad9",
   "metadata": {},
   "source": [
    "```\n",
    "##                                       product_name  ...                                 libel_clean\n",
    "## 1648067           Crostatina con crema di nocciole  ...               CROSTATINA CON CREMA NOCCIOLE\n",
    "## 13360        Roundy's, presliced everything bagels  ...          ROUNDY PRESLICED EVERYTHING BAGELS\n",
    "## 791699                       Olives vertes à l'ail  ...                           OLIVES VERTES AIL\n",
    "## 1262645                            All bran flakes  ...                             ALL BRAN FLAKES\n",
    "## 528668                           Merveilleux choco  ...                           MERVEILLEUX CHOCO\n",
    "## 57758                                 Organic milk  ...                                ORGANIC MILK\n",
    "## 20923                               Parisian bread  ...                              PARISIAN BREAD\n",
    "## 1725924                  Pan hamburguesa con queso  ...                   PAN HAMBURGUESA CON QUESO\n",
    "## 1123033  Kerrygold original irische Süßrahm-Butter  ...  KERRYGOLD ORIGINAL IRISCHE SUSSRAHM BUTTER\n",
    "## 879359                         Terrine de sanglier  ...                            TERRINE SANGLIER\n",
    "## \n",
    "## [10 rows x 4 columns]\n",
>>>>>>> master
    "```\n"
   ]
  },
  {
   "cell_type": "code",
   "execution_count": null,
<<<<<<< HEAD
   "id": "f8dfd472",
=======
   "id": "769a719a",
>>>>>>> master
   "metadata": {},
   "outputs": [],
   "source": [
    "courses = pd.DataFrame(libelles, columns = ['libel'])\n",
<<<<<<< HEAD
    "courses = clean_libelle(courses, yvar = 'libel', replace_regex = replace_regex, stopWords = stopWords)"
   ]
  },
  {
   "cell_type": "markdown",
   "id": "55c057d7",
   "metadata": {},
   "source": [
    "```\n",
    "## Error in py_call_impl(callable, dots$args, dots$keywords): NameError: name 'clean_libelle' is not defined\n",
    "## \n",
    "## Detailed traceback: \n",
    "##   File \"<string>\", line 1, in <module>\n",
    "```"
   ]
  },
  {
   "cell_type": "code",
   "execution_count": null,
   "id": "0a3f2b77",
   "metadata": {},
   "outputs": [],
   "source": [
=======
    "courses = clean_libelle(courses, yvar = 'libel', replace_regex = replace_regex, stopWords = stopWords)\n",
>>>>>>> master
    "courses.sample(10)"
   ]
  },
  {
   "cell_type": "markdown",
<<<<<<< HEAD
   "id": "c73d62d2",
   "metadata": {},
   "source": [
    "```\n",
    "##                                   libel\n",
    "## 11                    2 pommes de terre\n",
    "## 9        COTES DU LUBERON AIGUEBRUN 75C\n",
    "## 7                              PLT MIEL\n",
    "## 18  10 cl de crème liquide (facultatif)\n",
    "## 17                             1 oignon\n",
    "## 4                    6 OEUFS FRAIS LOCA\n",
    "## 2                    IGP OC SAUVIGNON B\n",
    "## 5                             ANANAS C2\n",
    "## 14        1/2 l de bouillon de volaille\n",
    "## 3                     LAIT 1/2 ECRM UHT\n",
=======
   "id": "09b862a9",
   "metadata": {},
   "source": [
    "```\n",
    "##                                   libel                  libel_clean\n",
    "## 2                    IGP OC SAUVIGNON B               IGP SAUVIGNON \n",
    "## 13                        1/2 l de lait                         LAIT\n",
    "## 15  1 cuillère à soupe de huile d'olive   CUILLERE SOUPE HUILE OLIVE\n",
    "## 6    L POMME FUDJI X6 CAL 75/80 1KG ENV          POMME FUDJI CAL ENV\n",
    "## 17                             1 oignon                       OIGNON\n",
    "## 4                    6 OEUFS FRAIS LOCA             OEUFS FRAIS LOCA\n",
    "## 8                      STELLA ARTOIS X6               STELLA ARTOIS \n",
    "## 16                      1 kg de potiron                      POTIRON\n",
    "## 1                    MAQUEREAUX MOUTAR.           MAQUEREAUX MOUTAR \n",
    "## 12                       1 gousse d'ail                   GOUSSE AIL\n",
>>>>>>> master
    "```"
   ]
  },
  {
   "cell_type": "markdown",
<<<<<<< HEAD
   "id": "6d9947be",
=======
   "id": "28a4af66",
>>>>>>> master
   "metadata": {},
   "source": [
    "Les noms de produits sont déjà plus harmonisés. Voyons voir si _a permet de trouver un\n",
    "*match* dans l'Openfood database: \n",
    "\n"
   ]
  },
  {
   "cell_type": "code",
   "execution_count": null,
<<<<<<< HEAD
   "id": "35009ded",
=======
   "id": "d36f8bea",
>>>>>>> master
   "metadata": {},
   "outputs": [],
   "source": [
    "dist_leven_openfood = utils.match_product(courses[\"libel_clean\"], openfood, \"libel_clean\")"
   ]
  },
  {
   "cell_type": "markdown",
<<<<<<< HEAD
   "id": "f42ab7a0",
   "metadata": {},
   "source": [
    "```\n",
    "## Error in py_call_impl(callable, dots$args, dots$keywords): NameError: name 'utils' is not defined\n",
    "## \n",
    "## Detailed traceback: \n",
    "##   File \"<string>\", line 1, in <module>\n",
=======
   "id": "4462360a",
   "metadata": {},
   "source": [
    "```\n",
    "## Temps d'exécution total : 9.44 secondes ---\n",
>>>>>>> master
    "```"
   ]
  },
  {
   "cell_type": "code",
   "execution_count": null,
<<<<<<< HEAD
   "id": "fbc3b64d",
=======
   "id": "588e04ee",
>>>>>>> master
   "metadata": {},
   "outputs": [],
   "source": [
    "dist_leven_openfood.sample(10)"
   ]
  },
  {
   "cell_type": "markdown",
<<<<<<< HEAD
   "id": "14235b5b",
   "metadata": {},
   "source": [
    "```\n",
    "## Error in py_call_impl(callable, dots$args, dots$keywords): NameError: name 'dist_leven_openfood' is not defined\n",
    "## \n",
    "## Detailed traceback: \n",
    "##   File \"<string>\", line 1, in <module>\n",
=======
   "id": "8135368a",
   "metadata": {},
   "source": [
    "```\n",
    "##                            best_match  ...                      produit\n",
    "## 4                         OEUFS FRAIS  ...             OEUFS FRAIS LOCA\n",
    "## 6                FIGUE POMME CANNELLE  ...          POMME FUDJI CAL ENV\n",
    "## 1           FILET MAQUEREAUX MOUTARDE  ...           MAQUEREAUX MOUTAR \n",
    "## 7                            TOP MIEL  ...                     PLT MIEL\n",
    "## 17                             OIGNON  ...                       OIGNON\n",
    "## 10                           CAROTTES  ...                     CAROTTES\n",
    "## 14                  BOUILLON VOLAILLE  ...            BOUILLON VOLAILLE\n",
    "## 15  SOUPE PISTOU CUISINEE HUILE OLIVE  ...   CUILLERE SOUPE HUILE OLIVE\n",
    "## 18              CREME ENTIERE LIQUIDE  ...    CREME LIQUIDE FACULTATIF \n",
    "## 13                               LAIT  ...                         LAIT\n",
    "## \n",
    "## [10 rows x 4 columns]\n",
>>>>>>> master
    "```\n",
    "\n",
    "Pas encore parfait, mais on progresse sur les produits appariés! \n",
    "Concernant le temps de calcul, les quelques secondes nécessaires à\n",
    "ce calcul peuvent apparaître un faible prix à payer. Cependant,\n",
    "il convient de rappeler que le nombre de produits dans l'ensemble\n",
    "de recherche est faible. Cette solution n'est donc pas généralisable.\n"
   ]
  },
  {
   "cell_type": "markdown",
<<<<<<< HEAD
   "id": "ff637c19",
=======
   "id": "3c4b2128",
>>>>>>> master
   "metadata": {},
   "source": [
    "## Réduire les temps de recherche\n",
    "\n",
    "Finalement, l'idéal serait de disposer d'un **moteur de recherche** adapté à notre besoin, contenant les produits candidats, que l'on pourrait interroger, rapide en lecture, capable de classer les echos renvoyés par pertinence, que l'on pourrait requêter de manière flexible\n",
    "(par exemple, on pourrait vouloir signaler qu'un echo nous intéresse seulement si la donnée calorique n'est pas manquante).\n",
    "On pourrait même vouloir qu'il effectue pour nous des prétraitements sur les données. \n",
    "\n",
<<<<<<< HEAD
    "**Important pour la suite !**: \n",
    "\n",
    "* Lancer un service Elastic en parallèle sur le datalab via ce lien: https://datalab.sspcloud.fr/launcher/inseefrlab-helm-charts-datascience/elastic \n",
    "En pratique, une fois lancé, pas besoin d'ouvrir ce service Elastic pour continuer à suivre. \n",
    "\n",
    "_NB pour aller plus loin: Le lancement du service a créé dans votre `NAMESPACE Kubernetes` (l'ensemble de tout vos services) un cluster elastic (vous n'avez droit qu'à un cluster par namespace/compte d'utilisateur). Votre service jupyter est associé au même namespace. Pas besoin de tout saisir pour la suite, seulement que cette architecture permet à tout ce beau monde de dialoguer._\n",
    "\n",
    "Le service Elastic doit apparaître, au même titre que ce service de formation jupyter, dans vos services sur le datalab. Vous pouvez aussi vérifier que votre Jupyter sait dialoguer avec votre Elastic, qui est prêt à vous écouter:"
   ]
  },
  {
   "cell_type": "code",
   "execution_count": null,
   "id": "e8e48f8e",
   "metadata": {},
   "outputs": [],
   "source": [
    "! kubectl get statefulset"
=======
    "C'est exactement ce que fait Elastic\n",
    "\n",
    "# Indexer une base \n",
    "\n",
    "A partir de maintenant, commence, à proprement parler, la démonstration Elastic. Cette \n",
    "partie développe les éléments les plus techniques, à savoir l'indexation d'une base. \n",
    "Tous les utilisateurs d'Elastic n'ont pas nécessairement à passer par là, ils peuvent \n",
    "trouver une base déjà indexée, idéalement par un *data engineer* qui aura optimisé\n",
    "les traitements. \n",
    "\n",
    "Les utilisateurs du [SSP Cloud](https://datalab.sspcloud.fr/accueil), architecture qui\n",
    "repose sur la technologie [Kubernetes](https://kubernetes.io/) peuvent \n",
    "répliquer les éléments de la suite du document. "
>>>>>>> master
   ]
  },
  {
   "cell_type": "markdown",
<<<<<<< HEAD
   "id": "14a5223a",
   "metadata": {},
   "source": [
    "Nous allons utiliser la librairie `python` `elasticsearch` pour dialoguer avec notre moteur de recherche elastic. Les instructions ci dessous indiquent comment établir la connection."
=======
   "id": "6d9870b4",
   "metadata": {},
   "source": [
    "## Créer un cluster Elastic sur le DataLab\n",
    "\n",
    "Pour lancer un service Elastic, il faut cliquer sur [ce lien](https://datalab.sspcloud.fr/launcher/inseefrlab-helm-charts-datascience/elastic). \n",
    "\n",
    "Une fois créé, vous pouvez explorer l'interface graphique Kibana. Cependant, grâce à l'API Elastic\n",
    "de Python, on se passera de celle-ci. Donc, en pratique,\n",
    "une fois lancé, pas besoin d'ouvrir ce service Elastic pour continuer à suivre[^1].\n",
    "\n",
    "[^1]: Le lancement du service a créé dans votre `NAMESPACE Kubernetes` (l'ensemble de tout vos services) un cluster Elastic.\n",
    "Vous n'avez droit qu'à un cluster par namespace (ou compte d'utilisateur).\n",
    "Votre service Jupyter, VSCode, RStudio, etc. est associé au même namespace.\n",
    "De même qu'il n'est pas nécessaire de comprendre comment fonctionne le moteur d'une voiture pour conduire, \n",
    "il n'est pas nécessaire de comprendre la manière dont tout ce beau monde dialogue pour pouvoir utiliser le `SSP Cloud`. \n",
    "\n",
    "Dans un terminal, vous pouvez aussi vérifier que vous êtes en mesure de dialoguer avec votre cluster Elastic, qui est prêt à vous écouter:\n",
    "\n",
    "```shell\n",
    "kubectl get statefulset\n",
    "```\n",
    "\n",
    "Passer par la ligne de commande serait peu commode. \n",
    "Nous allons utiliser la librairie `python` `elasticsearch` pour dialoguer avec notre moteur de recherche Elastic.\n",
    "Les instructions ci-dessous indiquent comment établir la connection."
>>>>>>> master
   ]
  },
  {
   "cell_type": "code",
   "execution_count": null,
<<<<<<< HEAD
   "id": "52330b23",
=======
   "id": "21a87738",
>>>>>>> master
   "metadata": {},
   "outputs": [],
   "source": [
    "from elasticsearch import Elasticsearch\n",
    "HOST = 'elasticsearch-master'\n",
    "\n",
    "def elastic():\n",
    "    \"\"\"Connection avec Elastic sur le data lab\"\"\"\n",
    "    es = Elasticsearch([{'host': HOST, 'port': 9200}], http_compress=True,  timeout=200)\n",
    "    return es\n",
    "\n",
    "es = elastic()"
   ]
  },
  {
   "cell_type": "markdown",
<<<<<<< HEAD
   "id": "de869e4b",
   "metadata": {},
   "source": [
    "Maintenant que la connection est établie, deux étapes nous attendent:\n",
    "\n",
    "1. **Indexation** Envoyer les documents parmi lesquels on veut chercher des echos pertinents dans notre elastic. Un index est une collection de document. Nous pourrions en créer deux: un pour les produits ciqual, un pour les produits openfood\n",
    "2. **Requête** Chercher les documents les plus pertinents suivant une recherche textuelle flexible. Nous allons rechercher les libellés de notre recette et de notre liste de course."
=======
   "id": "06c5c8ce",
   "metadata": {},
   "source": [
    "```\n",
    "<Elasticsearch([{'host': 'elasticsearch-master', 'port': 9200}])>\n",
    "```"
>>>>>>> master
   ]
  },
  {
   "cell_type": "markdown",
<<<<<<< HEAD
   "id": "f4daa3e5",
   "metadata": {},
   "source": [
    "On crée donc nos deux index:"
   ]
  },
  {
   "cell_type": "code",
   "execution_count": null,
   "id": "40614b49",
   "metadata": {},
   "outputs": [],
   "source": [
    "if not es.indices.exists('openfood'):\n",
    "    es.indices.create('openfood')\n",
    "if not es.indices.exists('ciqual'):\n",
    "    es.indices.create('ciqual')"
=======
   "id": "67bc0d42",
   "metadata": {},
   "source": [
    "Maintenant que la connection est établie, deux étapes nous attendent:\n",
    "\n",
    "1. **Indexation** Envoyer les documents parmi lesquels on veut chercher des echos pertinents dans notre elastic. Un index est une collection de document. Nous pourrions en créer deux: un pour les produits ciqual, un pour les produits openfood\n",
    "2. **Requête** Chercher les documents les plus pertinents suivant une recherche textuelle flexible. Nous allons rechercher les libellés de notre recette et de notre liste de course.\n",
    "\n",
    "## Première indexation\n",
    "\n",
    "On crée donc nos deux index:\n",
    "\n",
    "~~~python\n",
    "if not es.indices.exists('openfood'):\n",
    "    es.indices.create('openfood')\n",
    "if not es.indices.exists('ciqual'):\n",
    "    es.indices.create('ciqual')\n",
    "~~~\n",
    "\n",
    "Pour l'instant, nos index sont vides! Ils contiennent 0 documents.\n",
    "\n",
    "~~~python\n",
    "es.count(index = 'openfood')\n",
    "~~~\n",
    "\n",
    "```\n",
    "{'count': 0, '_shards': {'total': 1, 'successful': 1, 'skipped': 0, 'failed': 0}}\n",
    "```\n",
    "\n",
    "Nous allons en rajouter quelques uns ! \n",
    "\n",
    "~~~python\n",
    "es.create(index = 'openfood',  id = 1, body = {'product_name': 'Tarte noix de coco', 'product_name_clean': 'TARTE NOIX COCO'})\n",
    "es.create(index = 'openfood',  id = 2, body = {'product_name': 'Noix de coco', 'product_name_clean': 'NOIX COCO'})\n",
    "es.create(index = 'openfood',  id = 3, body = {'product_name': 'Beurre doux', 'product_name_clean': 'BEURRE DOUX'})\n",
    "~~~\n",
    "\n",
    "~~~python\n",
    "es.count(index = 'openfood')\n",
    "~~~\n",
    "\n",
    "```\n",
    "{'count': 3, '_shards': {'total': 1, 'successful': 1, 'skipped': 0, 'failed': 0}}\n",
    "```\n",
    "\n",
    "## Première recherche\n",
    "\n",
    "Faisons notre première recherche: cherchons des noix de pécan! \n",
    "\n",
    "~~~python\n",
    "es.search(index = 'openfood', q = 'noix de pécan')\n",
    "~~~\n",
    "\n",
    "```\n",
    "{'took': 3102, 'timed_out': False, '_shards': {'total': 1, 'successful': 1, 'skipped': 0, 'failed': 0}, 'hits': {'total': {'value': 2, 'relation': 'eq'}, 'max_score': 0.9400072, 'hits': [{'_index': 'openfood', '_type': '_doc', '_id': '2', '_score': 0.9400072, '_source': {'product_name': 'Noix de coco', 'product_name_clean': 'NOIX COCO'}}, {'_index': 'openfood', '_type': '_doc', '_id': '1', '_score': 0.8272065, '_source': {'product_name': 'Tarte noix de coco', 'product_name_clean': 'TARTE NOIX COCO'}}]}}\n",
    "```"
>>>>>>> master
   ]
  },
  {
   "cell_type": "markdown",
<<<<<<< HEAD
   "id": "798d1cf6",
   "metadata": {},
   "source": [
    "Pour l'instant, nos index sont vides! Ils contiennent 0 documents."
   ]
  },
  {
   "cell_type": "code",
   "execution_count": null,
   "id": "71925d2a",
   "metadata": {},
   "outputs": [],
   "source": [
    "es.count(index = 'openfood')"
=======
   "id": "603453af",
   "metadata": {},
   "source": [
    "Intéressons nous aux `hits` (résultats pertinents, ou echos) : nous en avons 2. \n",
    "Le score maximal parmi les hits est mentionné dans `max_score` et correspond à celui du deuxième document indexé.\n",
    "\n",
    "Elastic nous fournit ici un **score de pertinence** dans notre recherche d'information, et classe ainsi les documents renvoyés.\n",
    "\n",
    "Ici nous utilisons la configuration par défaut. Mais comment est calculé ce score? Demandons à Elastic de nous expliquer le score du document `2` dans la requête `\"noix de pécan\"`.\n",
    "\n",
    "~~~python\n",
    "es.explain(index = 'openfood', id = 2, q = 'noix de pécan')\n",
    "~~~\n",
    "\n",
    "```\n",
    "{'_index': 'openfood', '_type': '_doc', '_id': '2', 'matched': True, 'explanation': {'value': 0.9400072, 'description': 'max of:', 'details': [{'value': 0.49917626, 'description': 'sum of:', 'details': [{'value': 0.49917626, 'description': 'weight(product_name_clean:noix in 1) [PerFieldSimilarity], result of:', 'details': [{'value': 0.49917626, 'description': 'score(freq=1.0), computed as boost * idf * tf from:', 'details': [{'value': 2.2, 'description': 'boost', 'details': []}, {'value': 0.47000363, 'description': 'idf, computed as log(1 + (N - n + 0.5) / (n + 0.5)) from:', 'details': [{'value': 2, 'description': 'n, number of documents containing term', 'details': []}, {'value': 3, 'description': 'N, total number of documents with field', 'details': []}]}, {'value': 0.48275858, 'description': 'tf, computed as freq / (freq + k1 * (1 - b + b * dl / avgdl)) from:', 'details': [{'value': 1.0, 'description': 'freq, occurrences of term within document', 'details': []}, {'value': 1.2, 'description': 'k1, term saturation parameter', 'details': []}, {'value': 0.75, 'description': 'b, length normalization parameter', 'details': []}, {'value': 2.0, 'description': 'dl, length of field', 'details': []}, {'value': 2.3333333, 'description': 'avgdl, average length of field', 'details': []}]}]}]}]}, {'value': 0.9400072, 'description': 'sum of:', 'details': [{'value': 0.4700036, 'description': 'weight(product_name:noix in 1) [PerFieldSimilarity], result of:', 'details': [{'value': 0.4700036, 'description': 'score(freq=1.0), computed as boost * idf * tf from:', 'details': [{'value': 2.2, 'description': 'boost', 'details': []}, {'value': 0.47000363, 'description': 'idf, computed as log(1 + (N - n + 0.5) / (n + 0.5)) from:', 'details': [{'value': 2, 'description': 'n, number of documents containing term', 'details': []}, {'value': 3, 'description': 'N, total number of documents with field', 'details': []}]}, {'value': 0.45454544, 'description': 'tf, computed as freq / (freq + k1 * (1 - b + b * dl / avgdl)) from:', 'details': [{'value': 1.0, 'description': 'freq, occurrences of term within document', 'details': []}, {'value': 1.2, 'description': 'k1, term saturation parameter', 'details': []}, {'value': 0.75, 'description': 'b, length normalization parameter', 'details': []}, {'value': 3.0, 'description': 'dl, length of field', 'details': []}, {'value': 3.0, 'description': 'avgdl, average length of field', 'details': []}]}]}]}, {'value': 0.4700036, 'description': 'weight(product_name:de in 1) [PerFieldSimilarity], result of:', 'details': [{'value': 0.4700036, 'description': 'score(freq=1.0), computed as boost * idf * tf from:', 'details': [{'value': 2.2, 'description': 'boost', 'details': []}, {'value': 0.47000363, 'description': 'idf, computed as log(1 + (N - n + 0.5) / (n + 0.5)) from:', 'details': [{'value': 2, 'description': 'n, number of documents containing term', 'details': []}, {'value': 3, 'description': 'N, total number of documents with field', 'details': []}]}, {'value': 0.45454544, 'description': 'tf, computed as freq / (freq + k1 * (1 - b + b * dl / avgdl)) from:', 'details': [{'value': 1.0, 'description': 'freq, occurrences of term within document', 'details': []}, {'value': 1.2, 'description': 'k1, term saturation parameter', 'details': []}, {'value': 0.75, 'description': 'b, length normalization parameter', 'details': []}, {'value': 3.0, 'description': 'dl, length of field', 'details': []}, {'value': 3.0, 'description': 'avgdl, average length of field', 'details': []}]}]}]}]}]}}\n",
    "```"
>>>>>>> master
   ]
  },
  {
   "cell_type": "markdown",
<<<<<<< HEAD
   "id": "ee1f992a",
   "metadata": {},
   "source": [
    "Nous allons en rajouter quelques uns ! "
   ]
  },
  {
   "cell_type": "code",
   "execution_count": null,
   "id": "cf1e6ca2",
   "metadata": {},
   "outputs": [],
   "source": [
    "es.create(index = 'openfood',  id = 1, body = {'product_name': 'Tarte noix de coco', 'product_name_clean': 'TARTE NOIX COCO'})\n",
    "es.create(index = 'openfood',  id = 2, body = {'product_name': 'Noix de coco', 'product_name_clean': 'NOIX COCO'})\n",
    "es.create(index = 'openfood',  id = 3, body = {'product_name': 'Beurre doux', 'product_name_clean': 'BEURRE DOUX'})"
   ]
  },
  {
   "cell_type": "code",
   "execution_count": null,
   "id": "5c1cafb4",
   "metadata": {},
   "outputs": [],
   "source": [
    "es.count(index = 'openfood')"
=======
   "id": "1cfd8e1d",
   "metadata": {},
   "source": [
    "Elastic nous explique donc que le score `0.9400072` est le maximum entre deux sous-scores, `0.4991` et `0.9400072`.\n",
    "\n",
    "Pour chacun de ces sous-scores, le détail de son calcul est donné.\n",
    "Le premier sous-score n'a accordé un score que par rapport au premier mot (noix), tandis que le second a accordé un score sur la base des deux mots déjà connu dans les documents (\"noix\" et \"de\"). Il a ignoré pécan! Jusqu'à présent, ce terme n'est pas connu dans l'index. \n",
    "\n",
    "La pertinence d'un mot pour notre recherche est construite sur une variante de la TF-IDF,\n",
    "considérant qu'un terme est pertinent s'il est souvent présent dans le document (Term Frequency)\n",
    "alors qu'il est peu fréquent dans les autres document (inverse document frequency).\n",
    "Ici les notations des documents 1 et 2 sont très proches, la différence est dûe à des IDF plus faibles dans le document 1,\n",
    "qui est pénalisé pour être légérement plus long. \n",
    "\n",
    "Bref, tout ça est un peu lourd, mais assez efficace, en tout cas moins rudimentaire que les distances caractères à caractères pour ramener des echos pertinents."
   ]
  },
  {
   "cell_type": "markdown",
   "id": "cd550007",
   "metadata": {},
   "source": [
    "## Limite de cette première indexation\n",
    "\n",
    "Pour l'instant, Elastic n'a pas l'air de gérer les fautes de frappes!\n",
    "Pas le droit à l'erreur dans la requête:\n",
    "\n",
    "~~~python\n",
    "es.search(index = 'openfood',q = 'TART NOI')\n",
    "~~~\n",
    "\n",
    "```\n",
    "{'took': 35, 'timed_out': False, '_shards': {'total': 1, 'successful': 1, 'skipped': 0, 'failed': 0}, 'hits': {'total': {'value': 0, 'relation': 'eq'}, 'max_score': None, 'hits': []}}\n",
    "```"
>>>>>>> master
   ]
  },
  {
   "cell_type": "markdown",
<<<<<<< HEAD
   "id": "ce4b77f7",
   "metadata": {},
   "source": [
    "Faisons notre première recherche: cherchons des noix de pécan! "
   ]
  },
  {
   "cell_type": "code",
   "execution_count": null,
   "id": "4a01cb8b",
   "metadata": {},
   "outputs": [],
   "source": [
    "es.search(index = 'openfood', q = 'noix de pécan')"
=======
   "id": "a3ed465e",
   "metadata": {},
   "source": [
    "Cela s'explique par la représentation des champs (*'product_name'* par exemple) qu'Elastic a inféré, puisque nous n'avons rien spécifié.\n",
    "La représentation d'une variable conditionne la façon dont les champs sont analysés pour calculer la pertinence.\n",
    "Par exemple, regardons la représentation du champ `product_name`\n",
    "\n",
    "~~~python\n",
    "es.indices.get_field_mapping(index = 'openfood', fields = 'product_name')\n",
    "~~~\n",
    "\n",
    "```\n",
    "{'openfood': {'mappings': {'product_name': {'full_name': 'product_name', 'mapping': {'product_name': {'type': 'text'}}}}}}\n",
    "```\n",
    "\n",
    "Elastic a compris qu'il s'agissait d'un champ textuel. En revanche, le type est `keyword` n'autorise pas des analyses approximatives donc \n",
    "ne permet pas de tenir compte de fautes de frappes.\n",
    "Pour qu'un echo remonte, un des termes doit matcher exactement. Dommage !\n",
    "Mais c'est parce qu'on a utilisé le *mapping* par défaut.\n",
    "En réalité, il est assez simple de préciser un *mapping* plus riche, autorisant une analyse *\"fuzzy\"* ou *\"flou\"*.\n",
    "\n",
    "# Améliorer l'indexation"
   ]
  },
  {
   "cell_type": "markdown",
   "id": "d97015a0",
   "metadata": {},
   "source": [
    "On peut spécifier la façon dont l'on souhaite analyser le texte.\n",
    "Par exemple, on peut préciser que l'on souhaite enlever des *stopwords*, raciniser, analyser les termes via des *n-grammes*\n",
    "pour rendre la recherche plus robuste aux fautes de frappes...\n",
    "\n",
    "Ces concepts sont présentés dans la partie [NLP](#nlp).\n",
    "Pour une présentation plus complète, voir\n",
    "[la documentation officielle d'Elastic](https://www.elastic.co/guide/en/elasticsearch/reference/current/mapping.html)\n",
    "\n",
    "On propose les analyseurs stockés dans un fichier [schema.json](#schema.json)"
>>>>>>> master
   ]
  },
  {
   "cell_type": "markdown",
<<<<<<< HEAD
   "id": "26d7e265",
   "metadata": {},
   "source": [
    "Intéressons nous aux `hits` (résultats pertinents, ou echos) : nous en avons 2, le score maximal parmi les hits est mentionné dans `max_score` et correspond à celui du deuxième document indexé. Elastic nous fournit ici un **score de pertinence** dans notre recherche d'information, et classe ainsi les documents renvoyés.\n",
    "\n",
    "Ici nous utilisons la configuration par défaut. Mais comment est calculé ce score?? Demandons à Elastic de nous expliquer le score du document `2` dans la requête `\"noix de pécan\"`."
   ]
  },
  {
   "cell_type": "code",
   "execution_count": null,
   "id": "a4d5cf02",
   "metadata": {},
   "outputs": [],
   "source": [
    "es.explain(index = 'openfood', id = 2, q = 'noix de pécan')"
=======
   "id": "cabb9521",
   "metadata": {},
   "source": [
    "Les *n-grammes* sont des séquences de *n* caractères ou plus généralement *n* éléments qui s'enchaînent séquentiellement.\n",
    "Par exemple, NOI et OIX sont des tri-grammes de caractères dans NOIX. \n",
    "\n",
    "Comparer les n-grammes composant des libellés peut permettre d'avoir dans des comparaisons à fautes de frappe/abbréviations près.\n",
    "Cela fait aussi plus de comparaisons à opérer ! D'où également, l'intérêt d'Elastic, qui intégre facilement et efficacement ces comparaisons. "
   ]
  },
  {
   "cell_type": "markdown",
   "id": "54770d56",
   "metadata": {},
   "source": [
    "On va préciser un peu le schéma de données qu'on souhaite _indexer_, et aussi préciser comment les différents champs seront _analysés_."
>>>>>>> master
   ]
  },
  {
   "cell_type": "markdown",
<<<<<<< HEAD
   "id": "1ec88527",
   "metadata": {},
   "source": [
    "## En déduire ici comment est calculée la pertinence\n",
    "\n",
    "Elastic nous explique donc que le score 0.9400072 est le maximum entre deux sous-scores, 0.4991 et 0.9400072. Pour chacun de ces sous scores, le détail de son calcul est donné. Le premier sous-score n'a accordé un score que par rapport au premier mot (noix), tandis que le second a accordé un score sur la base des deux mots déjà connu dans les documents (\"noix\" et \"de\"). Il a ignoré pécan! Jusqu'à présent, ce terme n'est pas connu dans l'index. \n",
    "\n",
    "La pertinence d'un mot pour notre recherche est construite sur une variante de la TF-IDF, considérant qu'un terme est pertinent s'il est souvent présent dans le document (Term Frequency) alors qu'il est peu fréquent dans les autres document (inverse document frequency). Ici les notations des documents 1 et 2 sont très proches, la différence est du à des IDF plus faibles dans le document 1, qui est pénalisé pour être légérement plus long. \n",
    "\n",
    "Bref, tout ça est un peu lourd, mais assez efficace, en tout cas moins rudimentaire que les distances caractères à caractères pour ramener des echos pertinents."
   ]
  },
  {
   "cell_type": "markdown",
   "id": "4c7b32bc",
   "metadata": {},
   "source": [
    "## Par contre pour l'instant, Elastic n'a pas l'air de gérer les fautes de frappes!"
=======
   "id": "bf8c70d7",
   "metadata": {},
   "source": [
    "### Une indexation plus adaptée\n",
    "\n",
    "~~~python\n",
    "import json\n",
    "\n",
    "if es.indices.exists('openfood'):\n",
    "    es.indices.delete('openfood')\n",
    "\n",
    "with open('schema.json') as f:\n",
    "    mapping = json.load(f)\n",
    "    \n",
    "es.indices.create(index = \"openfood\", body = mapping)    \n",
    "~~~\n",
    "\n",
    "Maintenant, les champs textuels *\"product_name\"* et *\"product_name_clean\"*\n",
    "vont pouvoir être analysé aussi via leur n-grammes et après racinisation (et l'un n'exclut pas l'autre!)\n",
    "\n",
    "~~~python\n",
    "es.indices.get_field_mapping(index = 'openfood', fields = 'product_name')\n",
    "~~~\n",
    "\n",
    "```\n",
    "{'openfood': {'mappings': {'product_name': {'full_name': 'product_name', 'mapping': {'product_name': {'type': 'text', 'fields': {'keyword': {'type': 'keyword', 'ignore_above': 256}, 'ngr': {'type': 'text', 'analyzer': 'ngram_analyzer'}, 'stem': {'type': 'text', 'analyzer': 'stem_analyzer'}}}}}}}}\n",
    "```\n",
    "\n",
    "C'est parti, on envoie toute notre base OpenFood pour pouvoir la requêter ! La fonction suivante (`index_elastic`) va vous faire gagner du temps pour indexer\n",
    "car indexer chaque produit à la main n'est pas très efficace.\n",
    "\n",
    "Du coup ça prend quelques minutes ... mais c'est pour nous en faire gagner ensuite. Cette opération est faite une fois, pour préparer des requêtes potentiellement nombreuses!\n",
    "\n",
    "~~~python\n",
    "utils.index_elastic(es =es, index_name = \"openfood\",\n",
    "        setting_file = 'schema.json',\n",
    "        df = openfood[['product_name',\"libel_clean\",\"energy_100g\",\"nutriscore_score\"]].drop_duplicates())\n",
    "~~~\n",
    "\n",
    "```\n",
    "Temps d'exécution total : 263.11 secondes ---\n",
    "```\n",
    "\n",
    "~~~python\n",
    "es.count(index = 'openfood')\n",
    "~~~\n",
    "\n",
    "```\n",
    "{'count': 630727, '_shards': {'total': 1, 'successful': 1, 'skipped': 0, 'failed': 0}}\n",
    "```"
>>>>>>> master
   ]
  },
  {
   "cell_type": "markdown",
<<<<<<< HEAD
   "id": "8f9a4230",
   "metadata": {},
   "source": [
    "Pas le droit à l'erreur dans la requête:"
=======
   "id": "00d1905c",
   "metadata": {},
   "source": [
    "## Nos premières requêtes\n",
    "\n",
    "Vérifions qu'on recupère quelques tartes aux noix même si l'on fait plein de fautes:\n",
    "\n",
    "~~~python\n",
    "es.search(index = 'openfood', q = 'TART NOI', size = 3)\n",
    "~~~\n",
    "\n",
    "```\n",
    "{'took': 4201, 'timed_out': False, '_shards': {'total': 1, 'successful': 1, 'skipped': 0, 'failed': 0}, 'hits': {'total': {'value': 10000, 'relation': 'gte'}, 'max_score': 22.765423, 'hits': [{'_index': 'openfood', '_type': '_doc', '_id': '307496', '_score': 22.765423, '_source': {'product_name': 'Tarte noix', 'libel_clean': 'TARTE NOIX', 'energy_100g': 1833.0, 'nutriscore_score': 23.0}}, {'_index': 'openfood', '_type': '_doc', '_id': '825159', '_score': 22.277456, '_source': {'product_name': 'Tarte aux noix', 'libel_clean': 'TARTE AUX NOIX', 'energy_100g': 4.0, 'nutriscore_score': 4.0}}, {'_index': 'openfood', '_type': '_doc', '_id': '867887', '_score': 22.277456, '_source': {'product_name': 'Tarte aux noix', 'libel_clean': 'TARTE AUX NOIX', 'energy_100g': 1929.0, 'nutriscore_score': 21.0}}]}}\n",
    "```\n",
    "\n",
    "Pour automatiser cette approche, on peut définir  la fonctioin suivante"
>>>>>>> master
   ]
  },
  {
   "cell_type": "code",
   "execution_count": null,
<<<<<<< HEAD
   "id": "178d6dd3",
   "metadata": {},
   "outputs": [],
   "source": [
    "es.search(index = 'openfood',q = 'TART NOI')"
   ]
  },
  {
   "cell_type": "markdown",
   "id": "08a126a6",
   "metadata": {},
   "source": [
    "Cela s'explique par la représentation des champs ('product_name' par exemple) qu'Elastic a inferré, puisque nous n'avons rien spécifié, représentations qui conditionnent la façon dont les champs sont analysés pour calculer la pertinence. Par exemple, regardons la représentation du champ `product_name`"
   ]
  },
  {
   "cell_type": "code",
   "execution_count": null,
   "id": "1e01f6e2",
   "metadata": {},
   "outputs": [],
   "source": [
    "es.indices.get_field_mapping(index = 'openfood', fields = 'product_name')"
   ]
  },
  {
   "cell_type": "markdown",
   "id": "ca066a3c",
   "metadata": {},
   "source": [
    "Elastic a compris qu'il s'agissait d'un champ textuel, par contre, le type est `keyword` n'autorisant donc pas des analyses approximatives. Pour qu'un echo remonte, un des termes doit matcher exactement. Dommage ! Mais c'est parcequ'on a utilisé le mapping par défaut. En réalité, il est assez simple de préciser un mapping plus riche, autorisant une analyse \"fuzzy\" ou \"flou\"."
   ]
  },
  {
   "cell_type": "markdown",
   "id": "12e418b2",
   "metadata": {},
   "source": [
    "# Une meilleure spécification du mapping, ou de comment vont être compris et analysé nos champs textuels lors des recherches"
   ]
  },
  {
   "cell_type": "markdown",
   "id": "a1e12d99",
   "metadata": {},
   "source": [
    "**On peut spécifier la façon dont l'on souhaite analyser le texte.** Par exemple, on peut préciser que l'on souhaite enlever des stopwords, raciniser, analyser les termes via des n-grammes pour rendre la recherche plus robuste aux fautes de frappes... Pour une présentation plus complète, voir https://www.elastic.co/guide/en/elasticsearch/reference/current/mapping.html   \n",
    "**L'important à retenir à ce stade est la flexibilité de l'outil.** On fournit dans la suite un fichier `settings_OpenFood.json` qui permet de préciser que nous souhaitons par exemple que les matchs sur n-grammes participent au score. Les n-grammes sont des séquences de n caractères ou plus généralement n éléments qui s'enchaînent séquentiellement. Par exemple, NOI et OIX sont des tri-grammes de caractères dans NOIX. Comparer les n-grammes composant des libellés peut permettre d'avoir dans des comparaisons à fautes de frappe/abbréviations près. Cela fait aussi plus de comparaisons à opérer ! D'où également, l'intérêt d'Elastic, qui intégre facilement et efficacement ces comparaisons. "
   ]
  },
  {
   "cell_type": "markdown",
   "id": "260cb24e",
   "metadata": {},
   "source": [
    "On va préciser un peu le schéma de données qu'on souhaite _indexer_, et aussi préciser comment les différents champs seront _analysés_."
   ]
  },
  {
   "cell_type": "markdown",
   "id": "602d79dd",
   "metadata": {},
   "source": [
    "### Une indexation plus adaptée"
   ]
  },
  {
   "cell_type": "code",
   "execution_count": null,
   "id": "06a67864",
   "metadata": {},
   "outputs": [],
   "source": [
    "import json\n",
    "\n",
    "if es.indices.exists('openfood'):\n",
    "    es.indices.delete('openfood')\n",
    "\n",
    "with open('settings_OpenFood.json') as f:\n",
    "    mapping = json.load(f)\n",
    "    \n",
    "es.indices.create(index = \"openfood\", body = mapping)    "
   ]
  },
  {
   "cell_type": "markdown",
   "id": "ac86631a",
   "metadata": {},
   "source": [
    "Maintenant, les champs textuels \"product_name\" et \"product_name_clean\" vont pouvoir être analysé aussi via leur n-grammes et après racinisation (et l'un n'exclut pas l'autre!)"
   ]
  },
  {
   "cell_type": "code",
   "execution_count": null,
   "id": "d5ae9313",
   "metadata": {},
   "outputs": [],
   "source": [
    "es.indices.get_field_mapping(index = 'openfood', fields = 'product_name')"
   ]
  },
  {
   "cell_type": "markdown",
   "id": "c7f81219",
   "metadata": {},
   "source": [
    "La fonction suivante va vous faire gagner du temps: **c'est parti, on envoie toute notre base OpenFood pour pouvoir la requêter!** Parcequ'en rester à 3 documents entrés à la main, ce n'est pas sérieux.\n",
    "\n",
    "Du coup ça prend quelques minutes ... mais c'est pour nous en faire gagner ensuite. Cette opération est faite une fois, pour préparer des requêtes potentiellement nombreuses!"
   ]
  },
  {
   "cell_type": "code",
   "execution_count": null,
   "id": "8cfa9a82",
   "metadata": {},
   "outputs": [],
   "source": [
    "from utils import index_elastic\n",
    "index_elastic(es =es, index_name = \"openfood\",setting_file = 'settings_OpenFood.json', df = openfood[['product_name',\"libel_clean\",\"energy_100g\",\"nutriscore_score\"]].drop_duplicates())"
   ]
  },
  {
   "cell_type": "code",
   "execution_count": null,
   "id": "8d7489a2",
   "metadata": {},
   "outputs": [],
   "source": [
    "es.count(index = 'openfood')"
   ]
  },
  {
   "cell_type": "markdown",
   "id": "663b66ae",
   "metadata": {},
   "source": [
    "## Nos premières requêtes\n",
    "\n",
    "Vérifions qu'on recupère quelques tartes aux noix même si l'on fait plein de fautes:"
   ]
  },
  {
   "cell_type": "code",
   "execution_count": null,
   "id": "cd72f0a3",
   "metadata": {},
   "outputs": [],
   "source": [
    "es.search(index = 'openfood', q = 'TART NOI', size = 3)"
   ]
  },
  {
   "cell_type": "markdown",
   "id": "56019eb1",
   "metadata": {},
   "source": [
    "Et c'est plutôt rapide non?"
   ]
  },
  {
   "cell_type": "code",
   "execution_count": null,
   "id": "a5f5f929",
=======
   "id": "ae497a04",
>>>>>>> master
   "metadata": {},
   "outputs": [],
   "source": [
    "def matchElastic(libelles):\n",
    "    matches = dict()\n",
<<<<<<< HEAD
    "    \n",
    "    start_time = time.time()\n",
    "\n",
=======
    "    start_time = time.time()\n",
>>>>>>> master
    "    for l in libelles:\n",
    "        response = es.search(index = 'openfood', q = l, size = 1)\n",
    "        if len(response['hits']['hits'])>0:\n",
    "            matches[l] = response['hits']['hits'][0]['_source']['libel_clean']\n",
    "    print(80*'-')\n",
    "    print(f\"Temps d'exécution total : {(time.time() - start_time):.2f} secondes ---\")\n",
    "    \n",
    "    return matches"
   ]
  },
  {
   "cell_type": "code",
   "execution_count": null,
<<<<<<< HEAD
   "id": "21ba67c9",
   "metadata": {},
   "outputs": [],
   "source": [
    "matches = matchElastic(libellesDF['libel_clean'])"
=======
   "id": "57e65ccf",
   "metadata": {},
   "outputs": [],
   "source": [
    "matches = matchElastic(courses['libel_clean'])\n",
    "pd.DataFrame.from_dict(matches, orient='index')"
>>>>>>> master
   ]
  },
  {
   "cell_type": "markdown",
<<<<<<< HEAD
   "id": "f22b3ca7",
   "metadata": {},
   "source": [
    "Et voilà, on a un outil très rapide de requête (à noter que je dispose d'un elastic probablement configuré différemment du votre, les performances peuvent varier), maintenant **on peut préciser des requêtes plus sophistiquées!**\n",
    "\n",
    "En fait on a pas nettoyé les champs pour rien! On veut maintenant que notre requête porte spécifiquement sur le champ \"libel_clean\" (et pas indifféremment sur tout les champs textuels du document), ou encore en filtrant les produits avec un bon nutriscore.. Par exemple, des huiles d'olive avec un bon nutri score? \n",
    "\n",
    "à vous de déchiffrer cette requête (QUERY DSL)! Vous pouvez aussi explorer les possibilités de requêtes via la [doc Elastic](https://www.elastic.co/guide/en/elasticsearch/reference/6.8/query-dsl.html) et vous entrainer à un écrire avec votre index tout neuf.\n"
=======
   "id": "3392d2ec",
   "metadata": {},
   "source": [
    "Et voilà, on a un outil très rapide de requête ! \n",
    "Maintenant, on peut préciser des requêtes plus sophistiquées![^2]\n",
    "\n",
    "[^2]: Vous pouvez aussi explorer les possibilités de requêtes via la [doc Elastic](https://www.elastic.co/guide/en/elasticsearch/reference/6.8/query-dsl.html) et vous entrainer à un écrire avec votre index tout neuf.\n"
>>>>>>> master
   ]
  },
  {
   "cell_type": "code",
   "execution_count": null,
<<<<<<< HEAD
   "id": "5a3d0c2a",
=======
   "id": "4d0d8df7",
>>>>>>> master
   "metadata": {},
   "outputs": [],
   "source": [
    "body = '''\n",
    "{\n",
    "  \"size\": \"1\",\n",
    "  \"query\": {\n",
    "    \"bool\": {\n",
    "      \"should\": [\n",
    "        { \"match\": { \"libel_clean\":  { \"query\":  \"HUILE OLIVE\" , \"boost\" : 10}}},\n",
    "        { \"match\": { \"libel_clean.ngr\":   \"HUILE OLIVE\" }}],\n",
    "      \"minimum_should_match\": 1,\n",
    "      \"filter\": [\n",
    "      { \n",
    "            \"range\" : {\n",
    "                \"nutriscore_score\" : {\n",
    "                    \"gte\" : 10,\n",
    "                    \"lte\" : 20\n",
    "                    }\n",
    "                    }\n",
    "                    }\n",
    "      ]\n",
    "    }\n",
    "  }\n",
    "}\n",
    "'''"
   ]
  },
  {
<<<<<<< HEAD
   "cell_type": "code",
   "execution_count": null,
   "id": "c345de3b",
   "metadata": {},
   "outputs": [],
   "source": [
    "es.search(index = 'openfood', body = body)"
=======
   "cell_type": "markdown",
   "id": "29743c20",
   "metadata": {},
   "source": [
    "~~~python\n",
    "es.search(index = 'openfood', body = body)\n",
    "~~~\n",
    "\n",
    "```\n",
    "{'took': 10322, 'timed_out': False, '_shards': {'total': 1, 'successful': 1, 'skipped': 0, 'failed': 0}, 'hits': {'total': {'value': 10000, 'relation': 'gte'}, 'max_score': 174.37657, 'hits': [{'_index': 'openfood', '_type': '_doc', '_id': '693544', '_score': 174.37657, '_source': {'product_name': 'Huile d olive', 'libel_clean': 'HUILE OLIVE', 'energy_100g': 3761.0, 'nutriscore_score': 11.0}}]}}\n",
    "```"
>>>>>>> master
   ]
  },
  {
   "cell_type": "markdown",
<<<<<<< HEAD
   "id": "e265d6fc",
=======
   "id": "013d816c",
>>>>>>> master
   "metadata": {},
   "source": [
    "Qu'a-t-on demandé ici? De renvoyer 1 et 1 seul echo (`\"size\":\"1\"`) et seulement si celui ci a:\n",
    "* `\"should\"`: Au moins un (`\"minimum_should_match\":\"1\"`) des termes des deux champs `libel_clean` et `libel_clean.ngr` qui matche sur un terme de _HUILE OLIVE_, l'analyse (la définition du \"terme\") étant réalisé soit en tant que `text` (\"libel_clean\") soit en tant que n-gramme `ngr` (\"libel_clean.ngr\", une analyse que nous avons spécifié dans le mapping) \n",
    "* `\"filter\"`: Le champ `float` nutriscore_score doit être compris entre 10 et 20 (\"filter\").  \n",
    "\n",
    "A noter :\n",
<<<<<<< HEAD
    "1. Les clauses (`\"should\"`+`\"minimum_should_match\":\"1\"`) peuvent être remplacé par un `\"must\"`, auquel cas, l'echo doit obligatoirement matché sur chaque clause.\n",
    "2. Préciser dans `\"filter\"` (plutôt que dans \"`should`\") une condition signifie que celle-ci ne participe pas au score de pertinence. \n"
   ]
  },
  {
   "cell_type": "markdown",
   "id": "d64fbe0c",
   "metadata": {},
   "source": [
    "**C'est pas tout ça, mais on a pas encore un appariemment très satisfaisant, en particulier sur les boissons**"
   ]
  },
  {
   "cell_type": "code",
   "execution_count": null,
   "id": "97a0ae64",
   "metadata": {},
   "outputs": [],
   "source": [
    "matches"
   ]
  },
  {
   "cell_type": "markdown",
   "id": "d7764c53",
   "metadata": {},
   "source": [
    "## S'aider de dictionnaires, et les construire"
   ]
  },
  {
   "cell_type": "markdown",
   "id": "0489fd98",
   "metadata": {},
   "source": [
    "Une méthode simple pour faire comprendre par exemple que \"Stella Artois\" est une marque de bière est de créer un dictionnaire de marques de bière. A partir de celui-ci, on pourra déterminer si oui ou non on a affaire à une bière. C'est typiquement de l'information connue, publique. On enrichie ainsi l'information disponible. \n",
    "\n",
    "Oui sauf que à la main, c'est pas très marrant!\n",
    "\n",
    "Alors comment récupérer cela efficacement? Wikipedia offre un service web qui donne accès à ses contenus (à utiliser sans en abuser, voir les bonnes pratiques https://www.mediawiki.org/wiki/API:Etiquette). Cela peut être une idée pour constituer des listes de marques. "
   ]
  },
  {
   "cell_type": "code",
   "execution_count": null,
   "id": "1079ba97",
   "metadata": {},
   "outputs": [],
   "source": [
    "import urllib\n",
    "import re\n",
    "\n",
    "def dictionnary_from_wiki_category(categorie = ['Bière blonde','Vin_français','Marque de bière'], n: int = 10, filters = 'Utilisateur|Discussion|Classement|Liste|Catégorie', sub='\\(.*\\)'):\n",
    "    if isinstance(categorie, list):\n",
    "        categorie = categorie[0]\n",
    "    url = \"https://fr.wikipedia.org/w/api.php?action=query&list=categorymembers&cmtitle=Category:\" + urllib.parse.quote(categorie) + \"&cmlimit=\" + str(n) + \"&format=json\"\n",
    "    with urllib.request.urlopen(url) as response:\n",
    "        jsonresp = response.read()\n",
    "    jsonresp = json.loads(jsonresp)['query']['categorymembers']\n",
    "    if len(jsonresp)>1:\n",
    "        res = [re.sub(sub,'',x['title']).strip() for x in jsonresp if not re.match(filters,x['title'])]\n",
    "        return(res)\n",
    "    else:\n",
    "        return []"
   ]
  },
  {
   "cell_type": "code",
   "execution_count": null,
   "id": "32023622",
   "metadata": {},
   "outputs": [],
   "source": [
    "dictionnary_from_wiki_category(\"Marque de bière\", n = 20)"
   ]
  },
  {
   "cell_type": "code",
   "execution_count": null,
   "id": "786b7377",
   "metadata": {},
   "outputs": [],
   "source": [
    "dictionnary_from_wiki_category(\"Fromage français\", n = 20)"
=======
    "\n",
    "1. Les clauses (`\"should\"`+`\"minimum_should_match\":\"1\"`) peuvent être remplacé par un `\"must\"`, auquel cas, l'echo doit obligatoirement matcher sur chaque clause.\n",
    "2. Préciser dans `\"filter\"` (plutôt que dans \"`should`\") une condition signifie que celle-ci ne participe pas au score de pertinence. "
>>>>>>> master
   ]
  },
  {
   "cell_type": "markdown",
<<<<<<< HEAD
   "id": "b8a4eb5e",
   "metadata": {},
   "source": [
    "**Et donc?** \n",
    "\n",
    "à ce stade et faute d'information supplémentaire, on peut associer à toutes les appellations de vins rouges, ou encore toutes les appelations de fromage non encore appariées, leur qualité nutritionnelle moyenne (https://ciqual.anses.fr/#/aliments/5210/vin-(aliment-moyen) ou https://ciqual.anses.fr/#/aliments/12999/fromage-(aliment-moyen)). Etant donné la diversité de ces classes dans le panier de consommation des français, cela peut valoir le coup.\n",
    "\n",
    "Cela peut se faire en créant par exemple un index elastic à partir de ces listes de produits wikipédia (associé à une information nutritionnelle \"moyenne\") pour venir y requêter les produits du reliquat. "
   ]
  },
  {
   "cell_type": "markdown",
   "id": "e2bd90a4",
   "metadata": {},
   "source": [
    "# Considérer les embeddings de mots existants?"
   ]
  },
  {
   "cell_type": "markdown",
   "id": "8e1b1f48",
   "metadata": {},
   "source": [
    "Elastic ramène des echos en général bien ordonnés par pertinence, très bien, mais typiquement, cela peut ratisser large, surtout quand on utile les n-grammes ! Et parfois, il n'y a tout simplement pas l'information dans Ciqual ou Openfood Facts. \n",
    "Il faut donc définir un critère pour décider de classer le premier echo comme un match, **soit une notion de proximité entre deux libellés**. Une possibilité est d'avoir recours aux distances textuelles classiques, dérivées de la distance de levenstein (avec par exemple une normalisation pour tenir compte de la longueur variable des libellés). \n",
    "\n",
    "Une autre option pour définir des distances entre les termes est de s'appuyer sur champ de recherche récent qui cherche à définir des \"plongements de mots\"."
   ]
  },
  {
   "cell_type": "markdown",
   "id": "064e1c1c",
   "metadata": {},
   "source": [
    "**Word Embeddings ou plongement de mots:** représentation vectorielle des chaînes de charactères, de mots, de phrases, de la langue en général, obtenu à partir de modèles de Deep Learning entraînés sur des corpus de texte importants. cf [l'introduction à l'analyse textuelle dans ce set de formation qui évoque Word2Vec](https://datalab.sspcloud.fr/my-lab/catalogue/inseefrlab-helm-charts-datascience/jupyter/deploiement?init.personnalInit=https://git.lab.sspcloud.fr/g6ginq/formation_text_mining_public/-/raw/master/installPy.sh&onyxia.friendlyName=Text_Mining_Python).\n",
    "\n",
    "\n",
    "Des plongements de mots spécifiques à la langue française sont mis à dispositions par des équipes de recherches:  \n",
    "https://camembert-model.fr/  \n",
    "https://github.com/getalp/Flaubert   \n",
    "\n",
    "Là aussi, on prend un peu de temps à installer les librairies nécessaires, et à charger les plongements de mots"
   ]
  },
  {
   "cell_type": "code",
   "execution_count": null,
   "id": "e06f0be1",
   "metadata": {},
   "outputs": [],
   "source": [
    "! pip install -q -q -q torch transformers"
   ]
  },
  {
   "cell_type": "code",
   "execution_count": null,
   "id": "6f41d5f8",
   "metadata": {},
   "outputs": [],
   "source": [
    "import torch\n",
    "from transformers import FlaubertModel, FlaubertTokenizer\n",
    "\n",
    "modelname = 'flaubert/flaubert_base_cased' \n",
    "\n",
    "# Load pretrained model and tokenizer\n",
    "flaubert, log = FlaubertModel.from_pretrained(modelname, output_loading_info=True)\n",
    "flaubert_tokenizer = FlaubertTokenizer.from_pretrained(modelname, do_lowercase=False)"
   ]
  },
  {
   "cell_type": "markdown",
   "id": "f62c5f7b",
   "metadata": {},
   "source": [
    "Calculons quelques distances entre quelques libellés bien choisis au sens de l'embedding \"Flaubert\""
   ]
  },
  {
   "cell_type": "code",
   "execution_count": null,
   "id": "791e63a5",
   "metadata": {},
   "outputs": [],
   "source": [
    "lib1 = \"bière framboise\"\n",
    "lib2 = \"barquette framboises\"\n",
    "lib3 = \"bière blonde\""
   ]
  },
  {
   "cell_type": "markdown",
   "id": "4c11e365",
   "metadata": {},
   "source": [
    "Représentation en `token` (un enchaînement de caractère = 1 entier l'indexant) `flaubert_tokenizer.encode`"
   ]
  },
  {
   "cell_type": "code",
   "execution_count": null,
   "id": "72122854",
   "metadata": {},
   "outputs": [],
   "source": [
    "token1 = torch.tensor([flaubert_tokenizer.encode(lib1)])\n",
    "token2 = torch.tensor([flaubert_tokenizer.encode(lib2)])\n",
    "token3 = torch.tensor([flaubert_tokenizer.encode(lib3)])\n"
   ]
  },
  {
   "cell_type": "markdown",
   "id": "5b4336b5",
   "metadata": {},
   "source": [
    "Représentation vectorielle dense (moyenne des représentations vectorielles de chaque token), en passant les tokens au modèle `flaubert`"
   ]
  },
  {
   "cell_type": "code",
   "execution_count": null,
   "id": "7fef2891",
   "metadata": {},
   "outputs": [],
   "source": [
    "vec1 = flaubert(token1)[0].mean(axis = 1)\n",
    "vec2 = flaubert(token2)[0].mean(axis = 1)\n",
    "vec3 = flaubert(token3)[0].mean(axis = 1)\n"
   ]
  },
  {
   "cell_type": "code",
   "execution_count": null,
   "id": "6828b714",
   "metadata": {},
   "outputs": [],
   "source": [
    "[torch.sum((vec1-vec2)**2),torch.sum((vec3-vec2)**2),torch.sum((vec1-vec3)**2)]"
   ]
  },
  {
   "cell_type": "markdown",
   "id": "0da4e216",
   "metadata": {},
   "source": [
    "Les deux bières sont plus proches l'une de l'autre que les autres couples de libellés. Mais ça demande un peu plus d'exploration à ce stade, voire de retravailler cet embedding pour notre problème. A noter que ces embeddings ne sont pas vraiment pensés pour des libellés courts et bruités, plutôt pour des textes. \n",
    "\n",
    "Reentrainés à la marge pour notre cas d'usage ([\"tranfer learning\"](https://blog.baamtu.com/en/word2vec-camembert-use-embedding-models/\n",
    ")), en supposant que nous disposons d'un échantillon d'entrainement de \"vrai\" couples de libellés appariés), nous pourrions peut être disposer d'une distance textuelle moins rudimentaire que la distance de levenstein.\n",
    "\n",
    "C'est en effet l'ambition des embeddings de mots de représenter la sémantique au delà de la proximité des chaînes de caractères."
   ]
  },
  {
   "cell_type": "markdown",
   "id": "4ca25657",
   "metadata": {},
   "source": [
    "# Conclusion"
   ]
  },
  {
   "cell_type": "markdown",
   "id": "ed8d9352",
   "metadata": {},
   "source": [
    "On a pas encore calculé notre apport total de calories sur la base de notre liste, plutôt exploré quelques idées pour traiter le problème. A vous de jouer maintenant avec tout ces ingrédients! Bon appétit\n"
=======
   "id": "481e8300",
   "metadata": {},
   "source": [
    "On n'a pas encore un appariemment très satisfaisant, en particulier sur les boissons. Comment faire ? La réponse sera dans Galiana et al. (à venir)\n",
    "\n",
    "A vous, de calculer le nombre de calories de notre recette de course ! "
>>>>>>> master
   ]
  }
 ],
 "metadata": {
  "kernelspec": {
   "display_name": "Python 3",
   "language": "python",
   "name": "python3"
  }
 },
 "nbformat": 4,
 "nbformat_minor": 5
}
