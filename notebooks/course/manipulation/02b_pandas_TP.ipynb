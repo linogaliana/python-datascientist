{
 "cells": [
  {
   "cell_type": "raw",
   "id": "748c8cef",
   "metadata": {},
   "source": [
    "---\n",
    "title: \"Pratique de pandas: un exemple complet\"\n",
    "date: 2020-07-09T13:00:00Z\n",
    "draft: false\n",
    "weight: 30\n",
    "tags:\n",
    "  - pandas\n",
    "  - pollution\n",
    "  - Ademe\n",
    "categories:\n",
    "  - Exercice\n",
    "slug: pandasTP\n",
    "type: book\n",
    "summary: |\n",
    "  Après avoir présenté la logique de pandas dans le chapitre précédent, \n",
    "  ce chapitre vise à illustrer les fonctionalités du package \n",
    "  à partir de données d'émissions de gaz à effet de serre\n",
    "  de l'Ademe. \n",
    "echo: false\n",
    "eval: false\n",
    "---"
   ]
  },
  {
   "cell_type": "markdown",
   "id": "88879284",
   "metadata": {},
   "source": [
    "Les exemples de ce TP sont visualisables sous forme de notebooks:\n"
   ]
  },
  {
   "cell_type": "code",
   "execution_count": 1,
   "id": "dec15b78",
   "metadata": {},
   "outputs": [
    {
     "name": "stdout",
     "output_type": "stream",
     "text": [
      "<a href=\"https://github.com/linogaliana/python-datascientist/blob/master/notebooks/course/manipulation/02b_pandas_TP.ipynb\" class=\"github\"><i class=\"fab fa-github\"></i></a>\n",
      "[![Download](https://img.shields.io/badge/Download-Notebook-important?logo=Jupyter)](https://downgit.github.io/#/home?url=https://github.com/linogaliana/python-datascientist/blob/master/notebooks/course/manipulation/02b_pandas_TP.ipynb)\n",
      "[![nbviewer](https://img.shields.io/badge/Visualize-nbviewer-blue?logo=Jupyter)](https://nbviewer.jupyter.org/github/linogaliana/python-datascientist/blob/master/notebooks/course/manipulation/02b_pandas_TP.ipynb)\n",
      "[![Onyxia](https://img.shields.io/badge/SSPcloud-Tester%20via%20SSP--cloud-informational&color=yellow?logo=Python)](https://datalab.sspcloud.fr/launcher/inseefrlab-helm-charts-datascience/jupyter?autoLaunch=true&onyxia.friendlyName=%C2%ABpython-datascience%C2%BB&init.personalInit=%C2%ABhttps%3A%2F%2Fraw.githubusercontent.com%2Flinogaliana%2Fpython-datascientist%2Fmaster%2Fsspcloud%2Finit-jupyter.sh%C2%BB&init.personalInitArgs=%C2%ABnotebooks/course/manipulation%2002b_pandas_TP.ipynb%C2%BB&security.allowlist.enabled=false)<br>\n",
      "[![Binder](https://img.shields.io/badge/Launch-Binder-E66581.svg?logo=data:image/png;base64,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)](https://mybinder.org/v2/gh/linogaliana/python-datascientist/master?filepath=notebooks/course/manipulation/02b_pandas_TP.ipynb)\n",
      "[![Open In Colab](https://colab.research.google.com/assets/colab-badge.svg)](http://colab.research.google.com/github/linogaliana/python-datascientist/blob/master/notebooks/course/manipulation/02b_pandas_TP.ipynb)\n",
      "[![githubdev](https://img.shields.io/static/v1?logo=visualstudiocode&label=&message=Open%20in%20Visual%20Studio%20Code&labelColor=2c2c32&color=007acc&logoColor=007acc)](https://github.dev/linogaliana/python-datascientist/notebooks/course/manipulation/02b_pandas_TP.ipynb)\n"
     ]
    }
   ],
   "source": [
    "#| echo: false\n",
    "#| output: 'asis'\n",
    "#| include: true\n",
    "#| eval: true\n",
    "\n",
    "import sys\n",
    "sys.path.insert(1, '../../../../') #insert the utils module\n",
    "from utils import print_badges\n",
    "\n",
    "#print_badges(__file__)\n",
    "print_badges(\"content/course/manipulation/02b_pandas_TP.qmd\")"
   ]
  },
  {
   "cell_type": "markdown",
   "id": "619a0d6c",
   "metadata": {},
   "source": [
    "Dans ce tutoriel `pandas`, nous allons utiliser deux sources de données :\n",
    "\n",
    "* Les émissions de gaz à effet de serre estimées au niveau communal par l'ADEME. Le jeu de données est \n",
    "disponible sur [data.gouv](https://www.data.gouv.fr/fr/datasets/inventaire-de-gaz-a-effet-de-serre-territorialise/#_)\n",
    "et requêtable directement dans python avec\n",
    "[cet url](https://koumoul.com/s/data-fair/api/v1/datasets/igt-pouvoir-de-rechauffement-global/convert).\n",
    " `pandas` offre la possibilité d'importer des données directement depuis un url. C'est l'option\n",
    "prise dans ce tutoriel.\n",
    "Si vous préfèrez, pour des\n",
    "raisons d'accès au réseau ou de performance, importer depuis un poste local,\n",
    "vous pouvez télécharger les données et changer\n",
    "les commandes d'import avec le chemin adéquat plutôt que l'url. \n",
    "\n",
    "* Idéalement, on utiliserait les données\n",
    "[disponibles sur le site de l'Insee](https://www.insee.fr/fr/statistiques/3560121) mais celles-ci nécessitent un peu de travail\n",
    "de nettoyage qui n'entre pas dans le cadre de ce TP. \n",
    "Pour faciliter l'import de données Insee, il est recommandé d'utiliser le package\n",
    "[`pynsee`](https://github.com/InseeFrLab/Py-Insee-Data) qui simplifie l'accès aux données\n",
    "de l'Insee disponibles sur le site web [insee.fr](https://www.insee.fr/fr/accueil)\n",
    "ou via des API. \n",
    "\n",
    "[^1]: Toute contribution sur ce package, disponible sur [Github](https://github.com/InseeFrLab/Py-Insee-Data) est bienvenue !\n",
    "\n",
    "Nous suivrons les conventions habituelles dans l'import des packages\n"
   ]
  },
  {
   "cell_type": "code",
   "execution_count": 2,
   "id": "5df04ef5",
   "metadata": {},
   "outputs": [],
   "source": [
    "#| echo: true\n",
    "\n",
    "import numpy as np\n",
    "import pandas as pd\n",
    "import matplotlib.pyplot as plt\n",
    "import pynsee\n",
    "import pynsee.download"
   ]
  },
  {
   "cell_type": "markdown",
   "id": "eb62ba46",
   "metadata": {},
   "source": [
    "## Exploration de la structure des données\n",
    "\n",
    "Commencer par importer les données de l'Ademe à l'aide du package `pandas`. Vous pouvez les nommer `df`.\n"
   ]
  },
  {
   "cell_type": "code",
   "execution_count": 3,
   "id": "05b03a11",
   "metadata": {},
   "outputs": [],
   "source": [
    "#| echo: true\n",
    "\n",
    "df = pd.read_csv(\"https://koumoul.com/s/data-fair/api/v1/datasets/igt-pouvoir-de-rechauffement-global\")"
   ]
  },
  {
   "cell_type": "markdown",
   "id": "cd07ef5d",
   "metadata": {},
   "source": [
    "Pour les données de cadrage au niveau communal (source Insee), le package `pynsee` facilite grandement la vie. \n",
    "La liste des données disponibles est [ici](https://inseefrlab.github.io/DoReMIFaSol/articles/donnees_dispo.html).\n",
    "En l'occurrence, on va utiliser les données Filosofi (données de revenus) au niveau communal. \n",
    "Le code pour les télécharger est le suivant :\n"
   ]
  },
  {
   "cell_type": "code",
   "execution_count": 4,
   "id": "1b4e0dbd",
   "metadata": {},
   "outputs": [],
   "source": [
    "#| echo: true\n",
    "\n",
    "df_city = pynsee.download.telechargerDonnees(\"FILOSOFI_COM\", date = \"dernier\")"
   ]
  },
  {
   "cell_type": "markdown",
   "id": "7bc4ab46",
   "metadata": {},
   "source": [
    "{{% box status=\"exercise\" title=\"Exercise\" icon=\"fas fa-pencil-alt\" %}}\n",
    "\n",
    "**Exercice 1: Afficher des données**\n",
    "\n",
    "L'objectif de cet exercice est de vous amener à afficher des informations sur les données dans un bloc de code (notebook) ou dans la console\n",
    "    \n",
    "Commencer sur `df`: \n",
    "\n",
    "    * Utiliser les méthodes adéquates pour les 10 premières valeurs, les 15 dernières et un échantillon aléatoire de 10 valeurs\n",
    "    * Tirer 5 pourcent de l'échantillon sans remise\n",
    "    * Ne conserver que les 10 premières lignes et tirer aléatoirement dans celles-ci pour obtenir un DataFrame de 100 données.\n",
    "    * Faire 100 tirages à partir des 6 premières lignes avec une probabilité de 1/2 pour la première observation et une probabilité uniforme pour les autres\n",
    "    \n",
    "Faire la même chose sur `df_city`\n",
    "\n",
    "{{% /box %}}\n"
   ]
  },
  {
   "cell_type": "code",
   "execution_count": 5,
   "id": "121c125c",
   "metadata": {},
   "outputs": [],
   "source": [
    "df.head(10)\n",
    "df.tail(15)\n",
    "df.sample(10)\n",
    "df.sample(frac = 0.05)\n",
    "df[:10].sample(n = 100, replace = True)\n",
    "df[:6].sample(n = 100, replace = True, weights = [0.5] + [0.1]*5)\n",
    "\n",
    "df_city.head(10)\n",
    "df_city.tail(15)\n",
    "df_city.sample(10)\n",
    "df_city.sample(frac = 0.05)\n",
    "df_city[:10].sample(n = 100, replace = True)\n",
    "df_city[:6].sample(n = 100, replace = True, weights = [0.5] + [0.1]*5)"
   ]
  },
  {
   "cell_type": "markdown",
   "id": "5ab2b22d",
   "metadata": {},
   "source": [
    "Cette première approche exploratoire donne une idée assez précise de la manière dont les données sont organisées. On remarque ainsi une différence entre `df` et `df_city` quant aux valeurs manquantes: la première base est relativement complète, la seconde comporte beaucoup de valeurs manquantes. Autrement dit, si on désire exploiter `df_city`, il faut faire attention à la variable choisie.\n",
    "\n",
    "\n",
    "{{% box status=\"exercise\" title=\"Exercise\" icon=\"fas fa-pencil-alt\" %}}\n",
    "\n",
    "**Exercice 2: structure des données**\n",
    "\n",
    "La première chose à vérifier est le format des données, afin d'identifier des types de variables qui ne conviennent pas. Ici, comme c'est `pandas` qui a géré automatiquement les types de variables, il y a peu de chances que les types ne soient pas adéquats mais une vérification ne fait pas de mal.\n",
    "\n",
    "* Vérifier les types des variables. S'assurer que les types des variables communes aux deux bases sont cohérents.\n"
   ]
  },
  {
   "cell_type": "code",
   "execution_count": 6,
   "id": "6956aa17",
   "metadata": {},
   "outputs": [],
   "source": [
    "print(df.dtypes)\n",
    "print(df_city.dtypes)"
   ]
  },
  {
   "cell_type": "markdown",
   "id": "0478683b",
   "metadata": {},
   "source": [
    "Ensuite, on vérifie les dimensions des `DataFrames` et la structure de certaines variables clés. En l'occurrence, les variables fondamentales pour lier nos données sont les variables communales. Ici, on a deux variables géographiques: un code commune et un nom de commune. \n",
    "\n",
    "* Vérifier les dimensions des DataFrames\n"
   ]
  },
  {
   "cell_type": "code",
   "execution_count": 7,
   "id": "9639d6ee",
   "metadata": {},
   "outputs": [],
   "source": [
    "print(df.shape)\n",
    "print(df_city.shape)"
   ]
  },
  {
   "cell_type": "markdown",
   "id": "c5ce78ae",
   "metadata": {},
   "source": [
    "* Vérifier le nombre de valeurs uniques des variables géographiques dans chaque base. Les résultats apparaissent-ils cohérents ?\n"
   ]
  },
  {
   "cell_type": "code",
   "execution_count": 8,
   "id": "946cc3b5",
   "metadata": {},
   "outputs": [],
   "source": [
    "print(df[['INSEE commune', 'Commune']].nunique())\n",
    "print(df_city[['CODGEO', 'LIBGEO']].nunique())\n",
    "# Résultats dont l'ordre de grandeur est proche. Dans les deux cas, #(libelles) < #(code)"
   ]
  },
  {
   "cell_type": "markdown",
   "id": "113ea76d",
   "metadata": {},
   "source": [
    "* Identifier les libellés pour lesquels on a plusieurs codes communes dans `df_city` et les stocker dans un vecteur `x` (conseil: faire attention à l'index de `x`)\n"
   ]
  },
  {
   "cell_type": "code",
   "execution_count": 9,
   "id": "5a6f47b5",
   "metadata": {},
   "outputs": [],
   "source": [
    "x = df_city.groupby('LIBGEO').count()['CODGEO']\n",
    "x = x[x>1]\n",
    "x = x.reset_index()\n",
    "x"
   ]
  },
  {
   "cell_type": "markdown",
   "id": "9520ca2c",
   "metadata": {},
   "source": [
    "On se focalise temporairement sur les observations où le libellé comporte plus de deux codes communes différents\n",
    "\n",
    "* Regarder dans `df_city` ces observations\n"
   ]
  },
  {
   "cell_type": "code",
   "execution_count": 10,
   "id": "78fe2cb7",
   "metadata": {},
   "outputs": [],
   "source": [
    "df_city[df_city['LIBGEO'].isin(x['LIBGEO'])]"
   ]
  },
  {
   "cell_type": "markdown",
   "id": "2e75828f",
   "metadata": {},
   "source": [
    "* Pour mieux y voir, réordonner la base obtenue par order alphabétique\n"
   ]
  },
  {
   "cell_type": "code",
   "execution_count": 11,
   "id": "1fb8fa87",
   "metadata": {},
   "outputs": [],
   "source": [
    "df_city[df_city['LIBGEO'].isin(x['LIBGEO'])].sort_values('LIBGEO')"
   ]
  },
  {
   "cell_type": "markdown",
   "id": "89835848",
   "metadata": {},
   "source": [
    "* Déterminer la taille moyenne (variable nombre de personnes: `NBPERSMENFISC16`) et quelques statistiques descriptives de ces données. Comparer aux mêmes statistiques sur les données où libellés et codes communes coïncident\n"
   ]
  },
  {
   "cell_type": "code",
   "execution_count": 12,
   "id": "333dfa66",
   "metadata": {},
   "outputs": [],
   "source": [
    "df_city[df_city['LIBGEO'].isin(x['LIBGEO'])]['NBPERSMENFISC16'].describe()\n",
    "df_city[~df_city['LIBGEO'].isin(x['LIBGEO'])]['NBPERSMENFISC16'].describe()"
   ]
  },
  {
   "cell_type": "markdown",
   "id": "084395f0",
   "metadata": {},
   "source": [
    "* Vérifier sur les grandes villes (plus de 100 000 personnes), la proportion de villes où libellés et codes communes ne coïncident pas. Identifier ces observations.\n"
   ]
  },
  {
   "cell_type": "code",
   "execution_count": 13,
   "id": "7d5d9fc1",
   "metadata": {},
   "outputs": [],
   "source": [
    "df_big_city = df_city[df_city['NBPERSMENFISC16']>100000]\n",
    "df_big_city['probleme'] = df_big_city['LIBGEO'].isin(x['LIBGEO'])\n",
    "df_big_city['probleme'].mean()\n",
    "df_big_city[df_big_city['probleme']]"
   ]
  },
  {
   "cell_type": "markdown",
   "id": "8516ad8d",
   "metadata": {},
   "source": [
    "* Vérifier dans `df_city` les villes dont le libellé est égal à Montreuil. Vérifier également celles qui contiennent le terme 'Saint-Denis'\n"
   ]
  },
  {
   "cell_type": "code",
   "execution_count": 14,
   "id": "7644b650",
   "metadata": {},
   "outputs": [],
   "source": [
    "df_city[df_city.LIBGEO == 'Montreuil']\n",
    "df_city[df_city.LIBGEO.str.contains('Saint-Denis')].head(10)"
   ]
  },
  {
   "cell_type": "markdown",
   "id": "7a5d9b0a",
   "metadata": {},
   "source": [
    "{{% /box %}}\n",
    "\n",
    "\n",
    "Ce petit exercice permet de se rassurer car les libellés dupliqués sont en fait des noms de commune identiques mais qui ne sont pas dans le même département. Il ne s'agit donc pas d'observations dupliquées. On se fiera ainsi aux codes communes, qui eux sont uniques.\n",
    "\n",
    "## Les indices\n",
    "\n",
    "Les indices sont des éléments spéciaux d'un DataFrame puisqu'ils permettent d'identifier certaines observations. Il est tout à fait possible d'utiliser plusieurs indices, par exemple si on a des niveaux imbriqués.\n",
    "\n",
    "\n",
    "{{% box status=\"exercise\" title=\"Exercise\" icon=\"fas fa-pencil-alt\" %}}\n",
    "\n",
    "**Exercice 3: Les indices**\n",
    "\n",
    "A partir de l'exercice précédent, on peut se fier aux codes communes.\n",
    "\n",
    "* Fixer comme indice la variable de code commune dans les deux bases. Regarder le changement que cela induit sur le *display* du dataframe\n"
   ]
  },
  {
   "cell_type": "code",
   "execution_count": 15,
   "id": "78eda05a",
   "metadata": {},
   "outputs": [],
   "source": [
    "display(df)\n",
    "df = df.set_index('INSEE commune')\n",
    "display(df)\n",
    "\n",
    "display(df_city)\n",
    "df_city =  df_city.set_index('CODGEO') \n",
    "display(df_city)"
   ]
  },
  {
   "cell_type": "markdown",
   "id": "dfae83d5",
   "metadata": {},
   "source": [
    "* Les deux premiers chiffres des codes communes sont le numéro de département. Créer une variable de département `dep` dans `df` et dans `df_city`\n"
   ]
  },
  {
   "cell_type": "code",
   "execution_count": 16,
   "id": "f652d56f",
   "metadata": {},
   "outputs": [],
   "source": [
    "df['dep'] = df.index.str[:2]\n",
    "df_city['dep'] = df_city.index.str[:2]"
   ]
  },
  {
   "cell_type": "markdown",
   "id": "de3cbd8b",
   "metadata": {},
   "source": [
    "* Calculer les émissions totales par secteur pour chaque département. Mettre en log ces résultats dans un objet `df_log`. Garder 5 départements et produire un barplot\n"
   ]
  },
  {
   "cell_type": "code",
   "execution_count": 17,
   "id": "8a913f45",
   "metadata": {},
   "outputs": [],
   "source": [
    "df_log = df.groupby('dep').sum().apply(np.log)\n",
    "df_log.sample(5).plot(kind = \"bar\")"
   ]
  },
  {
   "cell_type": "markdown",
   "id": "6f52e7b1",
   "metadata": {},
   "source": [
    "* Repartir de `df`. Calculer les émissions totales par département et sortir la liste des 10 principaux émetteurs de CO2 et des 5 départements les moins émetteurs. Sans faire de *merge*, regarder les caractéristiques de ces départements (population et niveau de vie)\n"
   ]
  },
  {
   "cell_type": "code",
   "execution_count": 18,
   "id": "2f093486",
   "metadata": {},
   "outputs": [],
   "source": [
    "## Emissions totales par département (df)\n",
    "df_emissions = df.reset_index().set_index(['INSEE commune','dep']).sum(axis = 1).groupby('dep').sum()\n",
    "#df.reset_index().groupby('dep').sum().sum(axis = 1).head() #version simplifiee ?\n",
    "gros_emetteurs = df_emissions.sort_values(ascending = False).head(10)\n",
    "petits_emetteurs = df_emissions.sort_values().head(5)\n",
    "\n",
    "\n",
    "## Caractéristiques des départements (df_city)\n",
    "print(df_city[df_city['dep'].isin(gros_emetteurs.index)][['NBPERSMENFISC16','MED16']].sum())\n",
    "print(df_city[df_city['dep'].isin(gros_emetteurs.index)][['NBPERSMENFISC16','MED16']].mean())\n",
    "print(df_city[df_city['dep'].isin(petits_emetteurs.index)][['NBPERSMENFISC16','MED16']].sum())\n",
    "print(df_city[df_city['dep'].isin(petits_emetteurs.index)][['NBPERSMENFISC16','MED16']].mean())"
   ]
  },
  {
   "cell_type": "markdown",
   "id": "fe6a1db6",
   "metadata": {},
   "source": [
    "{{% /box %}}\n",
    "\n",
    "\n",
    "\n",
    "\n",
    "{{% box status=\"exercise\" title=\"Exercise\" icon=\"fas fa-pencil-alt\" %}}\n",
    "\n",
    "**Exercice 4: performance des indices**\n",
    "\n",
    "Un des intérêts des indices est qu'ils permettent des agrégations efficaces. \n",
    "\n",
    "* Repartir de `df` et créer une copie `df_copy = df.copy()` et `df_copy2 = df.copy()` afin de ne pas écraser le DataFrame `df`\n"
   ]
  },
  {
   "cell_type": "code",
   "execution_count": 19,
   "id": "83fde0c0",
   "metadata": {},
   "outputs": [],
   "source": [
    "df_copy = df.copy()\n",
    "df_copy2 = df.copy()"
   ]
  },
  {
   "cell_type": "markdown",
   "id": "7d397968",
   "metadata": {},
   "source": [
    "* Utiliser la variable `dep` comme indice pour `df_copy` et retirer tout index pour `df_copy2`\n"
   ]
  },
  {
   "cell_type": "code",
   "execution_count": 20,
   "id": "5c45d8ef",
   "metadata": {},
   "outputs": [],
   "source": [
    "df_copy = df_copy.set_index('dep')\n",
    "df_copy2 = df_copy2.reset_index()"
   ]
  },
  {
   "cell_type": "markdown",
   "id": "3465d7a3",
   "metadata": {},
   "source": [
    "* Importer le module `timeit` et comparer le temps d'exécution de la somme par secteur, pour chaque département, des émissions de CO2\n"
   ]
  },
  {
   "cell_type": "code",
   "execution_count": 21,
   "id": "946fa878",
   "metadata": {},
   "outputs": [],
   "source": [
    "%timeit df_copy.drop('Commune', axis = 1).groupby('dep').sum()\n",
    "%timeit df_copy2.drop('Commune', axis = 1).groupby('dep').sum()"
   ]
  },
  {
   "cell_type": "markdown",
   "id": "0f475f87",
   "metadata": {},
   "source": [
    "{{% /box %}}\n",
    "\n",
    "\n",
    "\n",
    "# Restructurer les données\n",
    "\n",
    "On présente généralement deux types de données: \n",
    "    \n",
    "    * format __wide__: les données comportent des observations répétées, pour un même individu (ou groupe), dans des colonnes différentes \n",
    "    * format __long__: les données comportent des observations répétées, pour un même individu, dans des lignes différentes avec une colonne permettant de distinguer les niveaux d'observations\n",
    "\n",
    "Un exemple de la distinction entre les deux peut être pris à l'ouvrage de référence d'Hadley Wickham, *R for Data Science*:\n",
    "\n",
    "![](https://d33wubrfki0l68.cloudfront.net/3aea19108d39606bbe49981acda07696c0c7fcd8/2de65/images/tidy-9.png)\n",
    "\n",
    "\n",
    "L'aide mémoire suivante aidera à se rappeler les fonctions à appliquer si besoin:\n",
    "\n",
    "![](../02a_pandas_tutorial/reshape.png)\n",
    "\n",
    "Le fait de passer d'un format *wide* au format *long* (ou vice-versa) peut être extrêmement pratique car certaines fonctions sont plus adéquates sur une forme de données ou sur l'autre. En règle générale, avec `python` comme avec `R`, les formats *long* sont souvent préférables.\n",
    "\n",
    "{{% box status=\"exercise\" title=\"Exercise\" icon=\"fas fa-pencil-alt\" %}}\n",
    "\n",
    "**Exercice 5: Restructurer les données: wide to long**\n",
    "\n",
    "* Créer une copie des données de l'ADEME en faisant `df_wide = df.copy()`\n"
   ]
  },
  {
   "cell_type": "code",
   "execution_count": 22,
   "id": "bc043ce9",
   "metadata": {},
   "outputs": [],
   "source": [
    "df_wide = df.copy()\n",
    "df_wide[['Commune','dep', \"Agriculture\", \"Tertiaire\"]].head() "
   ]
  },
  {
   "cell_type": "markdown",
   "id": "4b8dfe97",
   "metadata": {},
   "source": [
    "* Restructurer les données au format *long* pour avoir des données d'émissions par secteur en gardant comme niveau d'analyse la commune (attention aux autres variables identifiantes).\n"
   ]
  },
  {
   "cell_type": "code",
   "execution_count": 23,
   "id": "f38eac97",
   "metadata": {},
   "outputs": [],
   "source": [
    "df_wide.reset_index().melt(id_vars = ['INSEE commune','Commune','dep'],\n",
    "                          var_name = \"secteur\", value_name = \"emissions\")"
   ]
  },
  {
   "cell_type": "markdown",
   "id": "f8e01361",
   "metadata": {},
   "source": [
    "* Faire la somme par secteur et représenter graphiquement\n"
   ]
  },
  {
   "cell_type": "code",
   "execution_count": 24,
   "id": "b7e6b414",
   "metadata": {},
   "outputs": [],
   "source": [
    "(df_wide.reset_index()\n",
    " .melt(id_vars = ['INSEE commune','Commune','dep'],\n",
    "                          var_name = \"secteur\", value_name = \"emissions\")\n",
    " .groupby('secteur').sum().plot(kind = \"barh\")\n",
    ")"
   ]
  },
  {
   "cell_type": "markdown",
   "id": "1e858ddb",
   "metadata": {},
   "source": [
    "* Garder, pour chaque département, le secteur le plus polluant\n"
   ]
  },
  {
   "cell_type": "code",
   "execution_count": 25,
   "id": "4ae1617d",
   "metadata": {},
   "outputs": [],
   "source": [
    "(df_wide.reset_index().melt(id_vars = ['INSEE commune','Commune','dep'],\n",
    "                          var_name = \"secteur\", value_name = \"emissions\")\n",
    " .groupby(['secteur','dep']).sum().reset_index().sort_values(['dep','emissions'], ascending = False).groupby('dep').head(1)\n",
    ")"
   ]
  },
  {
   "cell_type": "markdown",
   "id": "a6e818eb",
   "metadata": {},
   "source": [
    "{{% /box %}}\n",
    "\n",
    "\n",
    "\n",
    "\n",
    "{{% box status=\"exercise\" title=\"Exercise\" icon=\"fas fa-pencil-alt\" %}}\n",
    "\n",
    "**Exercice 6: long to wide**\n",
    "\n",
    "Cette transformation est moins fréquente car appliquer des fonctions par groupe, comme nous le verrons par la suite, est très simple. \n",
    "\n",
    "* Repartir de `df_wide = df.copy()\n"
   ]
  },
  {
   "cell_type": "code",
   "execution_count": 26,
   "id": "a62ad35f",
   "metadata": {},
   "outputs": [],
   "source": [
    "#| echo: true\n",
    "\n",
    "df_wide = df.copy()"
   ]
  },
  {
   "cell_type": "markdown",
   "id": "747c3c3d",
   "metadata": {},
   "source": [
    "* Reconstruire le DataFrame, au format long, des données d'émissions par secteur en gardant comme niveau d'analyse la commune puis faire la somme par département et secteur\n"
   ]
  },
  {
   "cell_type": "code",
   "execution_count": 27,
   "id": "2bf9b9a6",
   "metadata": {},
   "outputs": [],
   "source": [
    "df_long_agg = (df_wide.reset_index()\n",
    " .melt(id_vars = ['INSEE commune','Commune','dep'],\n",
    "                          var_name = \"secteur\", value_name = \"emissions\").groupby([\"dep\", \"secteur\"]).sum()\n",
    ")\n",
    "\n",
    "df_long_agg.head()"
   ]
  },
  {
   "cell_type": "markdown",
   "id": "fc6e696f",
   "metadata": {},
   "source": [
    "* Passer au format *wide* pour avoir une ligne par secteur et une colonne par département\n"
   ]
  },
  {
   "cell_type": "code",
   "execution_count": 28,
   "id": "9d06d0bc",
   "metadata": {},
   "outputs": [],
   "source": [
    "df_wide_agg = df_long_agg.reset_index().pivot_table(values = \"emissions\", index = \"secteur\", columns = \"dep\")\n",
    "\n",
    "df_wide_agg.head()"
   ]
  },
  {
   "cell_type": "markdown",
   "id": "ba4c6591",
   "metadata": {},
   "source": [
    "* Calculer, pour chaque secteur, la place du département dans la hiérarchie des émissions nationales\n"
   ]
  },
  {
   "cell_type": "code",
   "execution_count": 29,
   "id": "27d09bee",
   "metadata": {},
   "outputs": [],
   "source": [
    "df_wide_agg.rank(axis = 1)"
   ]
  },
  {
   "cell_type": "markdown",
   "id": "3380e83d",
   "metadata": {},
   "source": [
    "* A partir de là, en déduire le rang médian de chaque département dans la hiérarchie des émissions et regarder les 10 plus mauvais élèves, selon ce critère.\n"
   ]
  },
  {
   "cell_type": "code",
   "execution_count": 30,
   "id": "36fd9d94",
   "metadata": {},
   "outputs": [],
   "source": [
    "df_wide_agg.rank(axis = 1).median().nlargest(10)"
   ]
  },
  {
   "cell_type": "markdown",
   "id": "b30b4883",
   "metadata": {},
   "source": [
    "{{% /box %}}\n",
    "\n",
    "\n",
    "\n",
    "# Combiner les données\n",
    "\n",
    "Une information que l'on cherche à obtenir s'obtient de moins en moins à partir d'une unique base de données. Il devient commun de devoir combiner des données issues de sources différentes. Nous allons ici nous focaliser sur le cas le plus favorable qui est la situation où une information permet d'apparier de manière exacte deux bases de données (autrement nous serions dans une situation, beaucoup plus complexe, d'appariement flou). La situation typique est l'appariement entre deux sources de données selon un identifiant individuel ou un identifiant de code commune, ce qui est notre cas.\n",
    "\n",
    "Il est recommandé de lire [ce guide assez complet sur la question des jointures avec R](https://linogaliana.gitlab.io/documentationR/joindre-des-tables-de-donn%C3%A9es.html) qui donne des recommandations également utiles en `python`.\n",
    "\n",
    "On utilise de manière indifférente les termes *merge* ou *join*. Le deuxième terme provient de la syntaxe SQL. En `pandas`, dans la plupart des cas, on peut utiliser indifféremment `df.join` et `df.merge`\n",
    "\n",
    "![](../02a_pandas_tutorial/pandas_join.png)\n",
    "\n",
    "\n",
    "{{% box status=\"exercise\" title=\"Exercise\" icon=\"fas fa-pencil-alt\" %}}\n",
    "\n",
    "**Exercice 7: Calculer l'empreinte carbone par habitant**\n",
    "\n",
    "* Créer une variable `emissions` qui correspond aux émissions totales d'une commune\n"
   ]
  },
  {
   "cell_type": "code",
   "execution_count": 31,
   "id": "14dd03b7",
   "metadata": {},
   "outputs": [],
   "source": [
    "df['emissions'] = df.sum(axis = 1)"
   ]
  },
  {
   "cell_type": "markdown",
   "id": "66442203",
   "metadata": {},
   "source": [
    "* Faire une jointure à gauche entre les données d'émissions et les données de cadrage. Comparer les émissions moyennes des villes sans *match* (celles dont des variables bien choisies de la table de droite sont NaN) avec celles où on a bien une valeur correspondante dans la base Insee\n"
   ]
  },
  {
   "cell_type": "code",
   "execution_count": 32,
   "id": "3dbdd6d1",
   "metadata": {},
   "outputs": [],
   "source": [
    "df_merged = df.merge(df_city, how = \"left\", left_index = True, right_index = True)\n",
    "\n",
    "print(df_merged[df_merged['LIBGEO'].isna()]['emissions'].mean())\n",
    "print(df_merged[~df_merged['LIBGEO'].isna()]['emissions'].mean())"
   ]
  },
  {
   "cell_type": "markdown",
   "id": "d9c5d42e",
   "metadata": {},
   "source": [
    "* Faire un *inner join* puis calculer l'empreinte carbone (l'émission rapportée au nombre de ménages fiscaux) dans chaque commune. Sortir un histogramme en niveau puis en log et quelques statistiques descriptives sur le sujet. \n"
   ]
  },
  {
   "cell_type": "code",
   "execution_count": 33,
   "id": "6da4c206",
   "metadata": {},
   "outputs": [],
   "source": [
    "df_merged = df.merge(df_city, left_index = True, right_index = True)\n",
    "df_merged['empreinte'] = df_merged['emissions']/df_merged['NBPERSMENFISC16']\n",
    "\n",
    "df_merged['empreinte'].plot(kind =\"hist\")\n",
    "np.log(df_merged['empreinte']).plot.hist()\n",
    "df_merged['empreinte'].describe()"
   ]
  },
  {
   "cell_type": "markdown",
   "id": "52d22778",
   "metadata": {},
   "source": [
    "* Regarder la corrélation entre les variables de cadrage et l'empreinte carbone. Certaines variables semblent-elles pouvoir potentiellement influer sur l'empreinte carbone ?\n"
   ]
  },
  {
   "cell_type": "code",
   "execution_count": 34,
   "id": "a1a7bc18",
   "metadata": {},
   "outputs": [],
   "source": [
    "df_merged.corr()['empreinte'].nlargest(10)\n",
    "# Les variables en lien avec le transport. "
   ]
  },
  {
   "cell_type": "markdown",
   "id": "aab6f8bb",
   "metadata": {},
   "source": [
    "{{% /box %}}\n",
    "\n",
    "\n",
    "\n",
    "# Exercices bonus\n",
    "\n",
    "Les plus rapides d'entre vous sont invités à aller un peu plus loin en s'entraînant avec des exercices bonus qui proviennent du  [site de Xavier Dupré](http://www.xavierdupre.fr/app/ensae_teaching_cs/helpsphinx3). 3 notebooks en lien avec `numpy` et `pandas` vous y sont proposés : \n",
    "\n",
    "1. Calcul Matriciel, Optimisation : [énoncé](http://www.xavierdupre.fr/app/ensae_teaching_cs/helpsphinx3/notebooks/td2a_cenonce_session_2A.html) / [corrigé](http://www.xavierdupre.fr/app/ensae_teaching_cs/helpsphinx3/notebooks/td2a_correction_session_2A.html)\n",
    "2. DataFrame et Graphes : [énoncé](http://www.xavierdupre.fr/app/ensae_teaching_cs/helpsphinx3/notebooks/td2a_cenonce_session_1.html) / [corrigé](http://www.xavierdupre.fr/app/ensae_teaching_cs/helpsphinx3/notebooks/td2a_correction_session_1.html)\n",
    "3. Pandas et itérateurs : [énoncé](http://www.xavierdupre.fr/app/ensae_teaching_cs/helpsphinx3/notebooks/pandas_iterator.html) / [corrigé](http://www.xavierdupre.fr/app/ensae_teaching_cs/helpsphinx3/notebooks/pandas_iterator_correction.html)\n"
   ]
  }
 ],
 "metadata": {
  "kernelspec": {
   "display_name": "Python 3 (ipykernel)",
   "language": "python",
   "name": "python3"
  },
  "language_info": {
   "codemirror_mode": {
    "name": "ipython",
    "version": 3
   },
   "file_extension": ".py",
   "mimetype": "text/x-python",
   "name": "python",
   "nbconvert_exporter": "python",
   "pygments_lexer": "ipython3",
   "version": "3.9.12"
  }
 },
 "nbformat": 4,
 "nbformat_minor": 5
}
