{
 "cells": [
  {
   "cell_type": "markdown",
   "id": "297a37b3",
   "metadata": {},
   "source": [
    "#  Pratique de pandas: un exemple complet\n",
    "\n"
   ]
  },
  {
   "cell_type": "markdown",
   "id": "a8d694e7",
   "metadata": {},
   "source": [
    "Les exemples de ce TP sont visualisables sous forme de notebooks:\n",
    "\n",
    "<a href=\"https://github.com/linogaliana/python-datascientist/blob/master/notebooks/course/manipulation/02b_pandas_TP.ipynb\" class=\"github\"><i class=\"fab fa-github\"></i></a>\n",
    "[![nbviewer](https://img.shields.io/badge/visualize-nbviewer-blue)](https://nbviewer.jupyter.org/github/linogaliana/python-datascientist/blob/master/notebooks/course/manipulation/02b_pandas_TP.ipynb)\n",
    "[![Onyxia](https://img.shields.io/badge/SSPcloud-Tester%20via%20SSP--cloud-informational&color=yellow?logo=Python)](https://datalab.sspcloud.fr/launcher/inseefrlab-helm-charts-datascience/jupyter?onyxia.friendlyName=%C2%ABpython-datascientist%C2%BB&resources.requests.memory=%C2%AB4Gi%C2%BB)\n",
    "[![Binder](https://mybinder.org/badge_logo.svg)](https://mybinder.org/v2/gh/linogaliana/python-datascientist/master?filepath=notebooks/course/manipulation/02b_pandas_TP.ipynb)\n",
    "[![Open In Colab](https://colab.research.google.com/assets/colab-badge.svg)](http://colab.research.google.com/github/linogaliana/python-datascientist/blob/master/notebooks/course/manipulation/02b_pandas_TP.ipynb)"
   ]
  },
  {
   "cell_type": "markdown",
   "id": "5eb18837",
   "metadata": {},
   "source": [
    "Dans ce tutoriel `pandas`, nous allons utiliser deux sources de données :\n",
    "\n",
    "* Les émissions de gaz à effet de serre estimées au niveau communal par l'ADEME. Le jeu de données est \n",
    "disponible sur [data.gouv](https://www.data.gouv.fr/fr/datasets/inventaire-de-gaz-a-effet-de-serre-territorialise/#_)\n",
    "et requêtable directement dans python avec\n",
    "[cet url](https://koumoul.com/s/data-fair/api/v1/datasets/igt-pouvoir-de-rechauffement-global/convert)\n",
    "`pandas` offre la possibilité d'importer des données directement depuis un url. C'est l'option\n",
    "prise dans ce tutoriel.\n",
    "Si vous préfèrez, pour des\n",
    "raisons d'accès au réseau ou de performance, importer depuis un poste local,\n",
    "vous pouvez télécharger les données et changer\n",
    "les commandes d'import avec le chemin adéquat plutôt que l'url. \n",
    "\n",
    "* Idéalement, on utiliserait les données\n",
    "[disponibles sur le site de l'Insee](https://www.insee.fr/fr/statistiques/3560121) mais celles-ci nécessitent un peu de travail\n",
    "de nettoyage qui n'entre pas dans le cadre de ce TP. \n",
    "Pour faciliter l'import de données Insee, il est recommandé d'utiliser le package\n",
    "[`pynsee`](https://github.com/InseeFrLab/Py-Insee-Data) qui simplifie l'accès aux données\n",
    "de l'Insee disponibles sur le site web [insee.fr](https://www.insee.fr/fr/accueil)\n",
    "ou via des API. \n",
    "\n",
    "Pour installer `pynsee` depuis le [dépôt Github](https://github.com/InseeFrLab/Py-Insee-Data), il est nécessaire\n",
    "de taper, dans une invite de commande,\n",
    "\n",
    "```shell\n",
    "pip install git+https://github.com/InseeFrLab/Py-Insee-Data@master\n",
    "```"
   ]
  },
  {
   "cell_type": "markdown",
   "id": "1eeb1ad3",
   "metadata": {},
   "source": [
    "[^1]: Toute contribution sur ce package, disponible sur [Github](https://github.com/InseeFrLab/Py-Insee-Data) est bienvenue !\n",
    "\n",
    "Nous suivrons les conventions habituelles dans l'import des packages\n",
    "\n"
   ]
  },
  {
   "cell_type": "code",
   "execution_count": null,
   "id": "ba7cd6f9",
   "metadata": {},
   "outputs": [],
   "source": [
    "import numpy as np\n",
    "import pandas as pd\n",
    "import matplotlib.pyplot as plt\n",
    "import pynsee\n",
    "import pynsee.download"
   ]
  },
  {
   "cell_type": "markdown",
   "id": "84159294",
   "metadata": {},
   "source": [
    "## Exploration de la structure des données\n",
    "\n",
    "Commencer par importer les données de l'Ademe à l'aide du package `pandas`. Vous pouvez les nommer `df`\n"
   ]
  },
  {
   "cell_type": "markdown",
   "id": "be95e56c",
   "metadata": {},
   "source": [
    "Pour les données de cadrage au niveau communal (source Insee), le package `pynsee` facilite grandement la vie. \n",
    "La liste des données disponibles est [ici](https://inseefrlab.github.io/DoReMIFaSol/articles/donnees_dispo.html).\n",
    "En l'occurrence, on va utiliser les données Filosofi (données de revenu) au niveau communal. \n",
    "Le code pour télécharger celle-ci est le suivant\n"
   ]
  },
  {
   "cell_type": "code",
   "execution_count": null,
   "id": "56f0a48b",
   "metadata": {},
   "outputs": [],
   "source": [
    "df_city = pynsee.download.telechargerDonnees(\"FILOSOFI_COM\", date = \"dernier\")"
   ]
  },
  {
   "cell_type": "markdown",
   "id": "97deca66",
   "metadata": {},
   "source": [
    "```\n",
    "## No destination directory defined. Data have been written there: /tmp/tmpklsuietf\n",
    "## \n",
    "## \n",
    "Downloading:   0%|          | 0.00/2.67M [00:00<?, ?iB/s]\n",
    "Downloading:   1%|          | 16.0k/2.67M [00:00<00:18, 149kiB/s]\n",
    "Downloading:   1%|1         | 32.0k/2.67M [00:00<00:19, 141kiB/s]\n",
    "Downloading:   2%|2         | 67.0k/2.67M [00:00<00:12, 215kiB/s]\n",
    "Downloading:   4%|3         | 101k/2.67M [00:00<00:11, 244kiB/s] \n",
    "Downloading:   5%|5         | 143k/2.67M [00:00<00:09, 287kiB/s]\n",
    "Downloading:   6%|6         | 175k/2.67M [00:00<00:09, 282kiB/s]\n",
    "Downloading:   9%|8         | 239k/2.67M [00:00<00:06, 369kiB/s]\n",
    "Downloading:  10%|#         | 276k/2.67M [00:00<00:07, 351kiB/s]\n",
    "Downloading:  11%|#1        | 311k/2.67M [00:01<00:08, 300kiB/s]\n",
    "Downloading:  13%|#2        | 342k/2.67M [00:01<00:08, 290kiB/s]\n",
    "Downloading:  14%|#4        | 390k/2.67M [00:01<00:09, 252kiB/s]\n",
    "Downloading:  16%|#6        | 438k/2.67M [00:01<00:08, 290kiB/s]\n",
    "Downloading:  17%|#7        | 469k/2.67M [00:01<00:08, 283kiB/s]\n",
    "Downloading:  18%|#8        | 498k/2.67M [00:01<00:10, 216kiB/s]\n",
    "Downloading:  19%|#9        | 522k/2.67M [00:02<00:10, 213kiB/s]\n",
    "Downloading:  20%|#9        | 545k/2.67M [00:02<00:13, 167kiB/s]\n",
    "Downloading:  21%|##        | 564k/2.67M [00:02<00:13, 166kiB/s]\n",
    "Downloading:  21%|##1       | 582k/2.67M [00:02<00:13, 162kiB/s]\n",
    "Downloading:  22%|##1       | 599k/2.67M [00:02<00:13, 158kiB/s]\n",
    "Downloading:  23%|##2       | 616k/2.67M [00:02<00:14, 154kiB/s]\n",
    "Downloading:  23%|##3       | 632k/2.67M [00:02<00:14, 149kiB/s]\n",
    "Downloading:  24%|##3       | 651k/2.67M [00:03<00:15, 137kiB/s]\n",
    "Downloading:  25%|##5       | 683k/2.67M [00:03<00:13, 150kiB/s]\n",
    "Downloading:  26%|##6       | 715k/2.67M [00:03<00:11, 180kiB/s]\n",
    "Downloading:  27%|##6       | 734k/2.67M [00:03<00:11, 175kiB/s]\n",
    "Downloading:  28%|##7       | 762k/2.67M [00:03<00:10, 193kiB/s]\n",
    "Downloading:  29%|##8       | 782k/2.67M [00:03<00:10, 187kiB/s]\n",
    "Downloading:  30%|##9       | 810k/2.67M [00:03<00:09, 202kiB/s]\n",
    "Downloading:  30%|###       | 830k/2.67M [00:03<00:10, 193kiB/s]\n",
    "Downloading:  31%|###1      | 858k/2.67M [00:04<00:09, 206kiB/s]\n",
    "Downloading:  33%|###2      | 889k/2.67M [00:04<00:08, 216kiB/s]\n",
    "Downloading:  33%|###3      | 911k/2.67M [00:04<00:08, 215kiB/s]\n",
    "Downloading:  34%|###4      | 937k/2.67M [00:04<00:08, 217kiB/s]\n",
    "Downloading:  36%|###5      | 969k/2.67M [00:04<00:07, 232kiB/s]\n",
    "Downloading:  37%|###6      | 0.98M/2.67M [00:04<00:07, 243kiB/s]\n",
    "Downloading:  38%|###7      | 1.01M/2.67M [00:04<00:08, 204kiB/s]\n",
    "Downloading:  40%|###9      | 1.05M/2.67M [00:05<00:07, 241kiB/s]\n",
    "Downloading:  41%|####      | 1.08M/2.67M [00:05<00:07, 223kiB/s]\n",
    "Downloading:  42%|####1     | 1.11M/2.67M [00:05<00:07, 217kiB/s]\n",
    "Downloading:  42%|####2     | 1.13M/2.67M [00:05<00:07, 211kiB/s]\n",
    "Downloading:  44%|####3     | 1.16M/2.67M [00:05<00:07, 208kiB/s]\n",
    "Downloading:  45%|####4     | 1.19M/2.67M [00:05<00:06, 225kiB/s]\n",
    "Downloading:  46%|####5     | 1.22M/2.67M [00:05<00:06, 237kiB/s]\n",
    "Downloading:  47%|####6     | 1.25M/2.67M [00:06<00:06, 228kiB/s]\n",
    "Downloading:  48%|####7     | 1.28M/2.67M [00:06<00:06, 236kiB/s]\n",
    "Downloading:  49%|####9     | 1.31M/2.67M [00:06<00:05, 247kiB/s]\n",
    "Downloading:  50%|#####     | 1.34M/2.67M [00:06<00:05, 254kiB/s]\n",
    "Downloading:  52%|#####1    | 1.38M/2.67M [00:06<00:04, 297kiB/s]\n",
    "Downloading:  53%|#####3    | 1.41M/2.67M [00:06<00:04, 285kiB/s]\n",
    "Downloading:  55%|#####4    | 1.46M/2.67M [00:06<00:04, 309kiB/s]\n",
    "Downloading:  56%|#####5    | 1.49M/2.67M [00:06<00:04, 298kiB/s]\n",
    "Downloading:  57%|#####6    | 1.52M/2.67M [00:07<00:05, 224kiB/s]\n",
    "Downloading:  59%|#####8    | 1.57M/2.67M [00:07<00:04, 270kiB/s]\n",
    "Downloading:  60%|#####9    | 1.59M/2.67M [00:07<00:04, 267kiB/s]\n",
    "Downloading:  61%|######    | 1.62M/2.67M [00:07<00:04, 242kiB/s]\n",
    "Downloading:  62%|######1   | 1.65M/2.67M [00:07<00:05, 212kiB/s]\n",
    "Downloading:  63%|######2   | 1.67M/2.67M [00:07<00:05, 208kiB/s]\n",
    "Downloading:  64%|######3   | 1.70M/2.67M [00:07<00:04, 226kiB/s]\n",
    "Downloading:  65%|######4   | 1.72M/2.67M [00:08<00:04, 199kiB/s]\n",
    "Downloading:  66%|######5   | 1.75M/2.67M [00:08<00:04, 203kiB/s]\n",
    "Downloading:  66%|######6   | 1.77M/2.67M [00:08<00:04, 196kiB/s]\n",
    "Downloading:  67%|######7   | 1.79M/2.67M [00:08<00:04, 189kiB/s]\n",
    "Downloading:  68%|######7   | 1.81M/2.67M [00:08<00:04, 181kiB/s]\n",
    "Downloading:  68%|######8   | 1.82M/2.67M [00:08<00:05, 173kiB/s]\n",
    "Downloading:  69%|######9   | 1.84M/2.67M [00:08<00:05, 165kiB/s]\n",
    "Downloading:  70%|######9   | 1.86M/2.67M [00:08<00:06, 141kiB/s]\n",
    "Downloading:  71%|#######   | 1.89M/2.67M [00:09<00:05, 162kiB/s]\n",
    "Downloading:  72%|#######1  | 1.92M/2.67M [00:09<00:04, 176kiB/s]\n",
    "Downloading:  73%|#######3  | 1.95M/2.67M [00:09<00:03, 201kiB/s]\n",
    "Downloading:  74%|#######4  | 1.98M/2.67M [00:09<00:03, 221kiB/s]\n",
    "Downloading:  75%|#######5  | 2.00M/2.67M [00:09<00:03, 176kiB/s]\n",
    "Downloading:  76%|#######6  | 2.03M/2.67M [00:09<00:03, 183kiB/s]\n",
    "Downloading:  77%|#######7  | 2.05M/2.67M [00:10<00:03, 170kiB/s]\n",
    "Downloading:  78%|#######7  | 2.07M/2.67M [00:10<00:03, 166kiB/s]\n",
    "Downloading:  79%|#######8  | 2.10M/2.67M [00:10<00:03, 175kiB/s]\n",
    "Downloading:  80%|#######9  | 2.12M/2.67M [00:10<00:03, 169kiB/s]\n",
    "Downloading:  80%|########  | 2.14M/2.67M [00:10<00:03, 163kiB/s]\n",
    "Downloading:  81%|########1 | 2.16M/2.67M [00:10<00:02, 184kiB/s]\n",
    "Downloading:  82%|########1 | 2.18M/2.67M [00:10<00:02, 178kiB/s]\n",
    "Downloading:  83%|########2 | 2.20M/2.67M [00:10<00:03, 150kiB/s]\n",
    "Downloading:  83%|########3 | 2.22M/2.67M [00:11<00:03, 152kiB/s]\n",
    "Downloading:  84%|########4 | 2.24M/2.67M [00:11<00:03, 148kiB/s]\n",
    "Downloading:  85%|########4 | 2.26M/2.67M [00:11<00:02, 145kiB/s]\n",
    "Downloading:  85%|########5 | 2.27M/2.67M [00:11<00:02, 142kiB/s]\n",
    "Downloading:  86%|########5 | 2.29M/2.67M [00:11<00:02, 153kiB/s]\n",
    "Downloading:  87%|########6 | 2.31M/2.67M [00:11<00:02, 148kiB/s]\n",
    "Downloading:  88%|########7 | 2.34M/2.67M [00:11<00:02, 158kiB/s]\n",
    "Downloading:  89%|########8 | 2.37M/2.67M [00:12<00:01, 172kiB/s]\n",
    "Downloading:  90%|######### | 2.40M/2.67M [00:12<00:01, 192kiB/s]\n",
    "Downloading:  91%|#########1| 2.43M/2.67M [00:12<00:01, 148kiB/s]\n",
    "Downloading:  92%|#########2| 2.46M/2.67M [00:12<00:01, 174kiB/s]\n",
    "Downloading:  93%|#########3| 2.48M/2.67M [00:12<00:01, 173kiB/s]\n",
    "Downloading:  94%|#########3| 2.50M/2.67M [00:12<00:01, 170kiB/s]\n",
    "Downloading:  94%|#########4| 2.52M/2.67M [00:13<00:00, 166kiB/s]\n",
    "Downloading:  95%|#########5| 2.54M/2.67M [00:13<00:00, 170kiB/s]\n",
    "Downloading:  96%|#########5| 2.55M/2.67M [00:13<00:00, 165kiB/s]\n",
    "Downloading:  96%|#########6| 2.57M/2.67M [00:13<00:00, 159kiB/s]\n",
    "Downloading:  98%|#########7| 2.60M/2.67M [00:13<00:00, 185kiB/s]\n",
    "Downloading:  98%|#########8| 2.62M/2.67M [00:13<00:00, 178kiB/s]\n",
    "Downloading:  99%|#########9| 2.65M/2.67M [00:13<00:00, 203kiB/s]\n",
    "Downloading: 100%|##########| 2.67M/2.67M [00:13<00:00, 203kiB/s]\n",
    "## \n",
    "Extracting:   0%|          | 0.00/10.6M [00:00<?, ?B/s]\n",
    "Extracting: 100%|##########| 10.6M/10.6M [00:00<00:00, 221MB/s]\n",
    "```"
   ]
  },
  {
   "cell_type": "markdown",
   "id": "e3226c34",
   "metadata": {},
   "source": [
    "**Exercice 1: Afficher des données**\n",
    "\n",
    "L'objectif de cet exercice est de vous amener à afficher des informations sur les données dans un bloc de code (notebook) ou dans la console\n",
    "    \n",
    "Commencer sur `df`: \n",
    "\n",
    "    * Utiliser les méthodes adéquates pour les 10 premières valeurs, les 15 dernières et un échantillon aléatoire de 10 valeurs\n",
    "    * Tirer 5 pourcent de l'échantillon sans remise\n",
    "    * Ne conserver que les 10 premières lignes et tirer aléatoirement dans celles-ci pour obtenir un DataFrame de 100 données.\n",
    "    * Faire 100 tirages à partir des 6 premières lignes avec une probabilité de 1/2 pour la première observation et une probabilité uniforme pour les autres\n",
    "    \n",
    "Faire la même chose sur `df_city`\n",
    "\n",
    "\n",
    "\n",
    "\n"
   ]
  },
  {
   "cell_type": "markdown",
   "id": "6e7b3d0f",
   "metadata": {},
   "source": [
    "Cette première approche exploratoire donne une idée assez précise de la manière dont les données sont organisées. On remarque ainsi une différence entre `df` et `df_city` quant aux valeurs manquantes: la première base est relativement complète, la seconde comporte beaucoup de valeurs manquantes. Autrement dit, si on désire exploiter `df_city`, il faut faire attention à la variable choisie.\n"
   ]
  },
  {
   "cell_type": "markdown",
   "id": "200e48a6",
   "metadata": {},
   "source": [
    "**Exercice 2: structure des données**\n",
    "\n",
    "La première chose à vérifier est le format des données, afin d'identifier des types de variables qui ne conviennent pas. Ici, comme c'est `pandas` qui a géré automatiquement les types de variables, il y a peu de chances que les types ne soient pas adéquats mais une vérification ne fait pas de mal.\n",
    "\n",
    "* Vérifier les types des variables. S'assurer que les types des variables communes aux deux bases soient cohérents.\n",
    "\n",
    "Ensuite, on vérifie les dimensions des `DataFrames` et la structure de certaines variables clé. En l'occurrence, les variables fondamentales pour lier nos données sont les variables communales. Ici, on a deux variables géographiques: un code commune et un nom de commune. \n",
    "\n",
    "* Vérifier les dimensions des DataFrames\n",
    "* Vérifier le nombre de valeurs uniques des variables géographiques dans chaque base. Les résultats apparaissent-ils cohérents ?\n",
    "* Identifier les libellés pour lesquels on a plusieurs codes communes dans `df_city` et les stocker dans un vecteur `x` (conseil: faire attention à l'index de `x`)\n",
    "\n",
    "On se focalise temporairement sur les observations où le libellé comporte plus de deux codes communes différents\n",
    "\n",
    "* Regarder dans `df_city` ces observations\n",
    "* Pour mieux y voir, réordonner la base obtenue par order alphabétique\n",
    "* Déterminer la taille moyenne (variable nombre de personnes: `NBPERSMENFISC16`) et quelques statistiques descriptives de ces données. Comparer aux mêmes statistiques sur les données où libellés et codes communes coïncident\n",
    "* Vérifier sur les grandes villes (plus de 100 000 personnes), la proportion de villes où libellés et codes communes ne coïncident pas. Identifier ces observations.\n",
    "* Vérifier dans `df_city` les villes dont le libellé est égal à Montreuil. Vérifier également celles qui contiennent le terme 'Saint-Denis'\n",
    "\n",
    "\n",
    "\n",
    "\n",
    "\n",
    "\n",
    "\n",
    "\n",
    "\n",
    "\n",
    "\n",
    "\n",
    "\n",
    "\n",
    "\n",
    "\n"
   ]
  },
  {
   "cell_type": "markdown",
   "id": "ff562236",
   "metadata": {},
   "source": [
    "Ce petit exercice permet de se rassurer car les libellés dupliqués sont en fait des noms de commune identiques mais qui ne sont pas dans le même département. Il ne s'agit donc pas d'observations dupliquées. On se fiera ainsi aux codes communes, qui eux sont uniques.\n",
    "\n",
    "## Les indices\n",
    "\n",
    "Les indices sont des éléments spéciaux d'un DataFrame puisqu'ils permettent d'identifier certaines observations. Il est tout à fait possible d'utiliser plusieurs indices, par exemple si on a des niveaux imbriqués.\n"
   ]
  },
  {
   "cell_type": "markdown",
   "id": "a2ce2543",
   "metadata": {},
   "source": [
    "**Exercice 3: Les indices**\n",
    "\n",
    "A partir de l'exercice précédent, on peut se fier aux codes communes.\n",
    "\n",
    "* Fixer comme indice la variable de code commune dans les deux bases. Regarder le changement que cela induit sur le *display* du dataframe\n",
    "* Les deux premiers chiffres des codes communes sont le numéro de département. Créer une variable de département `dep` dans `df`\n",
    "* Calculer les émissions totales par secteur pour chaque département. Mettre en log ces résultats dans un objet `df_log`. Garder 5 départements et produire un barplot\n",
    "* Repartir de `df`. Calculer les émissions totales par département et sortir la liste des 10 principaux émetteurs de CO2 et des 5 départements les moins émetteurs. Sans faire de *merge*, regarder les caractéristiques de ces départements (population et niveau de vie)\n",
    "\n",
    "\n",
    "\n",
    "\n",
    "\n",
    "\n",
    "\n",
    "\n",
    "\n",
    "\n",
    "\n",
    "\n",
    "\n",
    "\n",
    "\n"
   ]
  },
  {
   "cell_type": "markdown",
   "id": "57839a67",
   "metadata": {},
   "source": [
    "**Exercice 4: performance des indices**\n",
    "\n",
    "Un des intérêts des indices est qu'il permettent des agrégations efficaces. \n",
    "\n",
    "* Repartir de `df` et créer une copie `df_copy = df.copy()` et `df_copy2 = df.copy()` afin de ne pas écraser le DataFrame `df`\n",
    "* Utiliser la variable `dep` comme indice pour `df_copy` et retirer tout index pour `df_copy2`\n",
    "* Importer le module `timeit` et comparer le temps d'exécution de la somme par secteur, pour chaque département, des émissions de CO2\n",
    "\n",
    "\n",
    "\n",
    "\n",
    "\n",
    "\n",
    "\n"
   ]
  },
  {
   "cell_type": "markdown",
   "id": "c05d612f",
   "metadata": {},
   "source": [
    "# Restructurer les données\n",
    "\n",
    "On présente généralement deux types de données: \n",
    "    \n",
    "    * format __wide__: les données comportent des observations répétées, pour un même individu (ou groupe), dans des colonnes différentes \n",
    "    * format __long__: les données comportent des observations répétées, pour un même individu, dans des lignes différentes avec une colonne permettant de distinguer les niveaux d'observations\n",
    "\n",
    "Un exemple de la distinction entre les deux peut être pris à l'ouvrage de référence d'Hadley Wickham, *R for Data Science*:\n",
    "\n",
    "![](https://d33wubrfki0l68.cloudfront.net/3aea19108d39606bbe49981acda07696c0c7fcd8/2de65/images/tidy-9.png)\n",
    "\n",
    "\n",
    "L'aide mémoire suivante aidera à se rappeler les fonctions à appliquer si besoin:\n",
    "\n",
    "![](../02a_pandas_tutorial/reshape.png)"
   ]
  },
  {
   "cell_type": "markdown",
   "id": "38f5b2f1",
   "metadata": {},
   "source": [
    "Le fait de passer d'un format *wide* au format *long* (ou vice-versa) peut être extrêmement pratique car certaines fonctions sont plus adéquates sur une forme de données ou sur l'autre. En règle générale, avec `python` comme avec `R`, les formats *long* sont souvent préférables."
   ]
  },
  {
   "cell_type": "markdown",
   "id": "5022e7d3",
   "metadata": {},
   "source": [
    "**Exercice 5: Restructurer les données: wide to long**\n",
    "\n",
    "* Créer une copie des données de l'ADEME en faisant `df_wide = df.copy()`\n",
    "* Restructurer les données au format *long* pour avoir des données d'émissions par secteur en gardant comme niveau d'analyse la commune (attention aux autres variables identifiantes). \n",
    "* Faire la somme par secteur et représenter graphiquement\n",
    "* Garder, pour chaque département, le secteur le plus polluant\n",
    "\n",
    "\n",
    "\n",
    "\n"
   ]
  },
  {
   "cell_type": "markdown",
   "id": "1d7164ce",
   "metadata": {},
   "source": [
    "**Exercice 6: long to wide**\n",
    "\n",
    "Cette transformation est moins fréquente car appliquer des fonctions par groupe, comme nous le verrons par la suite, est très simple. \n",
    "\n",
    "* Repartir de `df_wide = df.copy()`. \n",
    "* Reconstruire le DataFrame, au format long, des données d'émissions par secteur en gardant comme niveau d'analyse la commune puis faire la somme par département et secteur\n",
    "* Passer au format *wide* pour avoir une ligne par secteur et une colonne par département\n",
    "* Calculer, pour chaque secteur, la place du département dans la hiérarchie des émissions nationales\n",
    "* A partir de là, en déduire le rang médian de chaque département dans la hiérarchie des émissions et regarder les 10 plus mauvais élèves, selon ce critère.\n",
    "\n",
    "\n"
   ]
  },
  {
   "cell_type": "markdown",
   "id": "eedd0c8f",
   "metadata": {},
   "source": [
    "# Combiner les données\n",
    "\n",
    "L'information de valeur s'obtient de moins en moins à partir d'une unique base de données. Il devient commun de devoir combiner des données issues de sources différentes. Nous allons ici nous focaliser sur le cas le plus favorable qui est la situation où une information permet d'apparier de manière exacte deux bases de données (autrement nous serions dans une situation, beaucoup plus complexe, d'appariement flou). La situation typique est l'appariement entre deux sources de données selon un identifiant individuel ou un identifiant de code commune, ce qui est notre cas.\n",
    "\n",
    "Il est recommandé de lire [ce guide assez complet sur la question des jointures avec R](https://linogaliana.gitlab.io/documentationR/joindre-des-tables-de-donn%C3%A9es.html) qui donne des recommandations également utiles en `python`.\n",
    "\n",
    "On utilise de manière indifférente les termes *merge* ou *join*. Le deuxième terme provient de la syntaxe SQL. En `pandas`, dans la plupart des cas, on peut utiliser indifféremment `df.join` et `df.merge`\n",
    "\n",
    "![](../02a_pandas_tutorial/pandas_join.png)\n"
   ]
  },
  {
   "cell_type": "markdown",
   "id": "ae9e8baf",
   "metadata": {},
   "source": [
    "**Exercice 7: Calculer l'empreinte carbone par habitant**\n",
    "\n",
    "* Créer une variable `emissions` qui correspond aux émissions totales d'une commune\n",
    "* Faire une jointure à gauche entre les données d'émissions et les données de cadrage. Comparer les émissions moyennes des villes sans *match* (celles dont des variables bien choisies de la table de droite sont NaN) avec celles où on a bien une valeur correspondante dans la base Insee\n",
    "* Faire un *inner join* puis calculer l'empreinte carbone dans chaque commune. Sortir un histogramme en niveau puis en log et quelques statistiques descriptives sur le sujet. \n",
    "* Regarder la corrélation entre les variables de cadrage et l'empreinte carbone. Certaines variables semblent expliquer l'empreinte carbone ?\n",
    "\n",
    "\n",
    "\n",
    "\n",
    "\n",
    "\n",
    "\n",
    "\n",
    "\n",
    "\n",
    "\n",
    "\n"
   ]
  },
  {
   "cell_type": "markdown",
   "id": "0cee037b",
   "metadata": {},
   "source": [
    "<!-----\n",
    "\n",
    "# Appliquer des fonctions"
   ]
  },
  {
   "cell_type": "markdown",
   "id": "f2af2a77",
   "metadata": {},
   "source": [
    "On peut utiliser `apply` pour passer des fonctions à appliquer sur plusieurs colonnes ou sur plusieurs valeurs\n",
    "\n",
    "----->"
   ]
  }
 ],
 "metadata": {
  "kernelspec": {
   "display_name": "Python 3",
   "language": "python",
   "name": "python3"
  }
 },
 "nbformat": 4,
 "nbformat_minor": 5
}
