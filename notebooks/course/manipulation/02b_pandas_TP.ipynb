{
 "cells": [
  {
   "cell_type": "markdown",
   "id": "044697f3",
   "metadata": {},
   "source": [
    "#  Pratique de pandas: un exemple complet\n",
    "\n"
   ]
  },
  {
   "cell_type": "markdown",
   "id": "300d9134",
   "metadata": {},
   "source": [
    "Les exemples de ce TP sont visualisables sous forme de notebooks:\n",
    "\n",
    "<a href=\"https://github.com/linogaliana/python-datascientist/blob/master//__w/python-datascientist/python-datascientist/notebooks/course/manipulation/02b_pandas_TP.ipynb\" class=\"github\"><i class=\"fab fa-github\"></i></a>\n",
    "[![Download](https://img.shields.io/badge/Download-Notebook-important?logo=Jupyter)](https://downgit.github.io/#/home?url=https://github.com/linogaliana/python-datascientist/blob/master//__w/python-datascientist/python-datascientist/notebooks/course/manipulation/02b_pandas_TP.ipynb)\n",
    "[![nbviewer](https://img.shields.io/badge/Visualize-nbviewer-blue?logo=Jupyter)](https://nbviewer.jupyter.org/github/linogaliana/python-datascientist/blob/master//__w/python-datascientist/python-datascientist/notebooks/course/manipulation/02b_pandas_TP.ipynb)\n",
    "[![Onyxia](https://img.shields.io/badge/SSPcloud-Tester%20via%20SSP--cloud-informational&color=yellow?logo=Python)](https://datalab.sspcloud.fr/launcher/inseefrlab-helm-charts-datascience/jupyter?onyxia.friendlyName=«python-datascientist»&resources.requests.memory=«4Gi»&security.allowlist.enabled=false&init.personnalInit=«https://raw.githubusercontent.com/linogaliana/python-datascientist/master/init_onyxia.sh»)\n",
    "[![Binder](https://img.shields.io/badge/Launch-Binder-E66581.svg?logo=data:image/png;base64,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)](https://mybinder.org/v2/gh/linogaliana/python-datascientist/master?filepath=/__w/python-datascientist/python-datascientist/notebooks/course/manipulation/02b_pandas_TP.ipynb)\n",
    "[![Open In Colab](https://colab.research.google.com/assets/colab-badge.svg)](http://colab.research.google.com/github/linogaliana/python-datascientist/blob/master//__w/python-datascientist/python-datascientist/notebooks/course/manipulation/02b_pandas_TP.ipynb)"
   ]
  },
  {
   "cell_type": "markdown",
   "id": "31a778a1",
   "metadata": {},
   "source": [
    "Dans ce tutoriel `pandas`, nous allons utiliser deux sources de données :\n",
    "\n",
    "* Les émissions de gaz à effet de serre estimées au niveau communal par l'ADEME. Le jeu de données est \n",
    "disponible sur [data.gouv](https://www.data.gouv.fr/fr/datasets/inventaire-de-gaz-a-effet-de-serre-territorialise/#_)\n",
    "et requêtable directement dans python avec\n",
    "[cet url](https://koumoul.com/s/data-fair/api/v1/datasets/igt-pouvoir-de-rechauffement-global/convert).\n",
    " `pandas` offre la possibilité d'importer des données directement depuis un url. C'est l'option\n",
    "prise dans ce tutoriel.\n",
    "Si vous préfèrez, pour des\n",
    "raisons d'accès au réseau ou de performance, importer depuis un poste local,\n",
    "vous pouvez télécharger les données et changer\n",
    "les commandes d'import avec le chemin adéquat plutôt que l'url. \n",
    "\n",
    "* Idéalement, on utiliserait les données\n",
    "[disponibles sur le site de l'Insee](https://www.insee.fr/fr/statistiques/3560121) mais celles-ci nécessitent un peu de travail\n",
    "de nettoyage qui n'entre pas dans le cadre de ce TP. \n",
    "Pour faciliter l'import de données Insee, il est recommandé d'utiliser le package\n",
    "[`pynsee`](https://github.com/InseeFrLab/Py-Insee-Data) qui simplifie l'accès aux données\n",
    "de l'Insee disponibles sur le site web [insee.fr](https://www.insee.fr/fr/accueil)\n",
    "ou via des API. \n",
    "\n",
    "[^1]: Toute contribution sur ce package, disponible sur [Github](https://github.com/InseeFrLab/Py-Insee-Data) est bienvenue !\n",
    "\n",
    "Nous suivrons les conventions habituelles dans l'import des packages\n",
    "\n"
   ]
  },
  {
   "cell_type": "code",
   "execution_count": null,
   "id": "e7ce71b5",
   "metadata": {},
   "outputs": [],
   "source": [
    "import numpy as np\n",
    "import pandas as pd\n",
    "import matplotlib.pyplot as plt\n",
    "import pynsee\n",
    "import pynsee.download"
   ]
  },
  {
   "cell_type": "markdown",
   "id": "dc4df8c6",
   "metadata": {},
   "source": [
    "## Exploration de la structure des données\n",
    "\n",
    "Commencer par importer les données de l'Ademe à l'aide du package `pandas`. Vous pouvez les nommer `df`.\n"
   ]
  },
  {
   "cell_type": "markdown",
   "id": "5531cf53",
   "metadata": {},
   "source": [
    "Pour les données de cadrage au niveau communal (source Insee), le package `pynsee` facilite grandement la vie. \n",
    "La liste des données disponibles est [ici](https://inseefrlab.github.io/DoReMIFaSol/articles/donnees_dispo.html).\n",
    "En l'occurrence, on va utiliser les données Filosofi (données de revenus) au niveau communal. \n",
    "Le code pour les télécharger est le suivant :\n"
   ]
  },
  {
   "cell_type": "code",
   "execution_count": null,
   "id": "c3468cb4",
   "metadata": {},
   "outputs": [],
   "source": [
    "df_city = pynsee.download.telechargerDonnees(\"FILOSOFI_COM\", date = \"dernier\")"
   ]
  },
  {
   "cell_type": "markdown",
   "id": "319e566e",
   "metadata": {},
   "source": [
    "```\n",
    "## No destination directory defined. Data have been written there: /tmp/tmprnor6sp1\n",
    "## \n",
    "## \n",
    "Downloading:   0%|          | 0.00/2.67M [00:00<?, ?iB/s]\n",
    "Downloading:   1%|          | 17.0k/2.67M [00:00<00:18, 149kiB/s]\n",
    "Downloading:   2%|1         | 46.7k/2.67M [00:00<00:13, 205kiB/s]\n",
    "Downloading:   3%|2         | 81.0k/2.67M [00:00<00:11, 239kiB/s]\n",
    "Downloading:   5%|5         | 137k/2.67M [00:00<00:08, 325kiB/s] \n",
    "Downloading:   7%|7         | 200k/2.67M [00:00<00:06, 392kiB/s]\n",
    "Downloading:  11%|#         | 291k/2.67M [00:00<00:04, 508kiB/s]\n",
    "Downloading:  14%|#4        | 387k/2.67M [00:00<00:04, 596kiB/s]\n",
    "Downloading:  19%|#8        | 510k/2.67M [00:01<00:03, 723kiB/s]\n",
    "Downloading:  23%|##3       | 637k/2.67M [00:01<00:02, 819kiB/s]\n",
    "Downloading:  28%|##8       | 773k/2.67M [00:01<00:02, 906kiB/s]\n",
    "Downloading:  33%|###3      | 903k/2.67M [00:01<00:01, 952kiB/s]\n",
    "Downloading:  37%|###7      | 0.99M/2.67M [00:01<00:01, 945kiB/s]\n",
    "Downloading:  42%|####2     | 1.12M/2.67M [00:01<00:01, 976kiB/s]\n",
    "Downloading:  47%|####7     | 1.25M/2.67M [00:01<00:01, 1.01MiB/s]\n",
    "Downloading:  52%|#####1    | 1.38M/2.67M [00:01<00:01, 1.01MiB/s]\n",
    "Downloading:  56%|#####6    | 1.50M/2.67M [00:02<00:01, 1.02MiB/s]\n",
    "Downloading:  61%|######1   | 1.63M/2.67M [00:02<00:01, 1.03MiB/s]\n",
    "Downloading:  65%|######5   | 1.74M/2.67M [00:02<00:00, 991kiB/s] \n",
    "Downloading:  70%|#######   | 1.87M/2.67M [00:02<00:00, 1.01MiB/s]\n",
    "Downloading:  75%|#######4  | 1.99M/2.67M [00:02<00:00, 1.01MiB/s]\n",
    "Downloading:  80%|#######9  | 2.12M/2.67M [00:02<00:00, 1.04MiB/s]\n",
    "Downloading:  84%|########3 | 2.23M/2.67M [00:02<00:00, 1.01MiB/s]\n",
    "Downloading:  88%|########8 | 2.36M/2.67M [00:02<00:00, 1.02MiB/s]\n",
    "Downloading:  93%|#########3| 2.49M/2.67M [00:03<00:00, 1.03MiB/s]\n",
    "Downloading:  98%|#########8| 2.61M/2.67M [00:03<00:00, 1.03MiB/s]\n",
    "Downloading: 100%|##########| 2.67M/2.67M [00:03<00:00, 884kiB/s] \n",
    "## \n",
    "Extracting:   0%|          | 0.00/10.6M [00:00<?, ?B/s]\n",
    "Extracting: 100%|##########| 10.6M/10.6M [00:00<00:00, 193MB/s]\n",
    "```"
   ]
  },
  {
   "cell_type": "markdown",
   "id": "79c03ec4",
   "metadata": {},
   "source": [
    "**Exercice 1: Afficher des données**\n",
    "\n",
    "L'objectif de cet exercice est de vous amener à afficher des informations sur les données dans un bloc de code (notebook) ou dans la console\n",
    "    \n",
    "Commencer sur `df`: \n",
    "\n",
    "    * Utiliser les méthodes adéquates pour les 10 premières valeurs, les 15 dernières et un échantillon aléatoire de 10 valeurs\n",
    "    * Tirer 5 pourcent de l'échantillon sans remise\n",
    "    * Ne conserver que les 10 premières lignes et tirer aléatoirement dans celles-ci pour obtenir un DataFrame de 100 données.\n",
    "    * Faire 100 tirages à partir des 6 premières lignes avec une probabilité de 1/2 pour la première observation et une probabilité uniforme pour les autres\n",
    "    \n",
    "Faire la même chose sur `df_city`\n",
    "\n",
    "\n"
   ]
  },
  {
   "cell_type": "markdown",
   "id": "3dbead04",
   "metadata": {},
   "source": [
    "Cette première approche exploratoire donne une idée assez précise de la manière dont les données sont organisées. On remarque ainsi une différence entre `df` et `df_city` quant aux valeurs manquantes: la première base est relativement complète, la seconde comporte beaucoup de valeurs manquantes. Autrement dit, si on désire exploiter `df_city`, il faut faire attention à la variable choisie.\n"
   ]
  },
  {
   "cell_type": "markdown",
   "id": "e5c08f1b",
   "metadata": {},
   "source": [
    "**Exercice 2: structure des données**\n",
    "\n",
    "La première chose à vérifier est le format des données, afin d'identifier des types de variables qui ne conviennent pas. Ici, comme c'est `pandas` qui a géré automatiquement les types de variables, il y a peu de chances que les types ne soient pas adéquats mais une vérification ne fait pas de mal.\n",
    "\n",
    "* Vérifier les types des variables. S'assurer que les types des variables communes aux deux bases sont cohérents.\n",
    "\n",
    "\n"
   ]
  },
  {
   "cell_type": "markdown",
   "id": "3eb38445",
   "metadata": {},
   "source": [
    "Ensuite, on vérifie les dimensions des `DataFrames` et la structure de certaines variables clés. En l'occurrence, les variables fondamentales pour lier nos données sont les variables communales. Ici, on a deux variables géographiques: un code commune et un nom de commune. \n",
    "\n",
    "* Vérifier les dimensions des DataFrames\n"
   ]
  },
  {
   "cell_type": "markdown",
   "id": "78a9ede2",
   "metadata": {},
   "source": [
    "* Vérifier le nombre de valeurs uniques des variables géographiques dans chaque base. Les résultats apparaissent-ils cohérents ?\n"
   ]
  },
  {
   "cell_type": "markdown",
   "id": "e1457578",
   "metadata": {},
   "source": [
    "* Identifier les libellés pour lesquels on a plusieurs codes communes dans `df_city` et les stocker dans un vecteur `x` (conseil: faire attention à l'index de `x`)\n",
    "\n"
   ]
  },
  {
   "cell_type": "markdown",
   "id": "4b73fccd",
   "metadata": {},
   "source": [
    "On se focalise temporairement sur les observations où le libellé comporte plus de deux codes communes différents\n",
    "\n",
    "* Regarder dans `df_city` ces observations"
   ]
  },
  {
   "cell_type": "markdown",
   "id": "36ca30cf",
   "metadata": {},
   "source": [
    "* Pour mieux y voir, réordonner la base obtenue par order alphabétique\n"
   ]
  },
  {
   "cell_type": "markdown",
   "id": "b072ad71",
   "metadata": {},
   "source": [
    "* Déterminer la taille moyenne (variable nombre de personnes: `NBPERSMENFISC16`) et quelques statistiques descriptives de ces données. Comparer aux mêmes statistiques sur les données où libellés et codes communes coïncident\n"
   ]
  },
  {
   "cell_type": "markdown",
   "id": "27bb5614",
   "metadata": {},
   "source": [
    "* Vérifier sur les grandes villes (plus de 100 000 personnes), la proportion de villes où libellés et codes communes ne coïncident pas. Identifier ces observations.\n"
   ]
  },
  {
   "cell_type": "markdown",
   "id": "7cf43d9f",
   "metadata": {},
   "source": [
    "* Vérifier dans `df_city` les villes dont le libellé est égal à Montreuil. Vérifier également celles qui contiennent le terme 'Saint-Denis'\n",
    "\n",
    "\n",
    "\n",
    "\n"
   ]
  },
  {
   "cell_type": "markdown",
   "id": "7967fba3",
   "metadata": {},
   "source": [
    "Ce petit exercice permet de se rassurer car les libellés dupliqués sont en fait des noms de commune identiques mais qui ne sont pas dans le même département. Il ne s'agit donc pas d'observations dupliquées. On se fiera ainsi aux codes communes, qui eux sont uniques.\n",
    "\n",
    "## Les indices\n",
    "\n",
    "Les indices sont des éléments spéciaux d'un DataFrame puisqu'ils permettent d'identifier certaines observations. Il est tout à fait possible d'utiliser plusieurs indices, par exemple si on a des niveaux imbriqués.\n"
   ]
  },
  {
   "cell_type": "markdown",
   "id": "cf9984aa",
   "metadata": {},
   "source": [
    "**Exercice 3: Les indices**\n",
    "\n",
    "A partir de l'exercice précédent, on peut se fier aux codes communes.\n",
    "\n",
    "* Fixer comme indice la variable de code commune dans les deux bases. Regarder le changement que cela induit sur le *display* du dataframe\n"
   ]
  },
  {
   "cell_type": "markdown",
   "id": "031986b1",
   "metadata": {},
   "source": [
    "* Les deux premiers chiffres des codes communes sont le numéro de département. Créer une variable de département `dep` dans `df` et dans `df_city`\n"
   ]
  },
  {
   "cell_type": "markdown",
   "id": "0e297b42",
   "metadata": {},
   "source": [
    "* Calculer les émissions totales par secteur pour chaque département. Mettre en log ces résultats dans un objet `df_log`. Garder 5 départements et produire un barplot\n"
   ]
  },
  {
   "cell_type": "markdown",
   "id": "3ce30b7a",
   "metadata": {},
   "source": [
    "* Repartir de `df`. Calculer les émissions totales par département et sortir la liste des 10 principaux émetteurs de CO2 et des 5 départements les moins émetteurs. Sans faire de *merge*, regarder les caractéristiques de ces départements (population et niveau de vie)\n",
    "\n",
    "\n",
    "\n",
    "\n",
    "\n",
    "\n"
   ]
  },
  {
   "cell_type": "markdown",
   "id": "46d36c62",
   "metadata": {},
   "source": [
    "**Exercice 4: performance des indices**\n",
    "\n",
    "Un des intérêts des indices est qu'ils permettent des agrégations efficaces. \n",
    "\n",
    "* Repartir de `df` et créer une copie `df_copy = df.copy()` et `df_copy2 = df.copy()` afin de ne pas écraser le DataFrame `df`\n"
   ]
  },
  {
   "cell_type": "markdown",
   "id": "6bc9a8c0",
   "metadata": {},
   "source": [
    "* Utiliser la variable `dep` comme indice pour `df_copy` et retirer tout index pour `df_copy2`\n"
   ]
  },
  {
   "cell_type": "markdown",
   "id": "e292b943",
   "metadata": {},
   "source": [
    "* Importer le module `timeit` et comparer le temps d'exécution de la somme par secteur, pour chaque département, des émissions de CO2\n",
    "\n",
    "\n",
    "\n",
    "\n",
    "\n",
    "\n"
   ]
  },
  {
   "cell_type": "markdown",
   "id": "d3bb948e",
   "metadata": {},
   "source": [
    "# Restructurer les données\n",
    "\n",
    "On présente généralement deux types de données: \n",
    "    \n",
    "    * format __wide__: les données comportent des observations répétées, pour un même individu (ou groupe), dans des colonnes différentes \n",
    "    * format __long__: les données comportent des observations répétées, pour un même individu, dans des lignes différentes avec une colonne permettant de distinguer les niveaux d'observations\n",
    "\n",
    "Un exemple de la distinction entre les deux peut être pris à l'ouvrage de référence d'Hadley Wickham, *R for Data Science*:\n",
    "\n",
    "![](https://d33wubrfki0l68.cloudfront.net/3aea19108d39606bbe49981acda07696c0c7fcd8/2de65/images/tidy-9.png)\n",
    "\n",
    "\n",
    "L'aide mémoire suivante aidera à se rappeler les fonctions à appliquer si besoin:\n",
    "\n",
    "![](../02a_pandas_tutorial/reshape.png)"
   ]
  },
  {
   "cell_type": "markdown",
   "id": "2a015545",
   "metadata": {},
   "source": [
    "Le fait de passer d'un format *wide* au format *long* (ou vice-versa) peut être extrêmement pratique car certaines fonctions sont plus adéquates sur une forme de données ou sur l'autre. En règle générale, avec `python` comme avec `R`, les formats *long* sont souvent préférables."
   ]
  },
  {
   "cell_type": "markdown",
   "id": "a0f4ea2c",
   "metadata": {},
   "source": [
    "**Exercice 5: Restructurer les données: wide to long**\n",
    "\n",
    "* Créer une copie des données de l'ADEME en faisant `df_wide = df.copy()`\n"
   ]
  },
  {
   "cell_type": "markdown",
   "id": "816e45ce",
   "metadata": {},
   "source": [
    "* Restructurer les données au format *long* pour avoir des données d'émissions par secteur en gardant comme niveau d'analyse la commune (attention aux autres variables identifiantes).\n"
   ]
  },
  {
   "cell_type": "markdown",
   "id": "7318e3c8",
   "metadata": {},
   "source": [
    "* Faire la somme par secteur et représenter graphiquement\n"
   ]
  },
  {
   "cell_type": "markdown",
   "id": "cd315cd8",
   "metadata": {},
   "source": [
    "* Garder, pour chaque département, le secteur le plus polluant\n",
    "\n",
    "\n",
    "\n",
    "\n",
    "\n",
    "\n"
   ]
  },
  {
   "cell_type": "markdown",
   "id": "f7317c83",
   "metadata": {},
   "source": [
    "**Exercice 6: long to wide**\n",
    "\n",
    "Cette transformation est moins fréquente car appliquer des fonctions par groupe, comme nous le verrons par la suite, est très simple. \n",
    "\n",
    "* Repartir de `df_wide = df.copy()\n"
   ]
  },
  {
   "cell_type": "markdown",
   "id": "08414610",
   "metadata": {},
   "source": [
    "* Reconstruire le DataFrame, au format long, des données d'émissions par secteur en gardant comme niveau d'analyse la commune puis faire la somme par département et secteur\n"
   ]
  },
  {
   "cell_type": "markdown",
   "id": "f5814f9e",
   "metadata": {},
   "source": [
    "* Passer au format *wide* pour avoir une ligne par secteur et une colonne par département\n",
    "\n"
   ]
  },
  {
   "cell_type": "markdown",
   "id": "baa6353e",
   "metadata": {},
   "source": [
    "* Calculer, pour chaque secteur, la place du département dans la hiérarchie des émissions nationales\n",
    "\n",
    "\n"
   ]
  },
  {
   "cell_type": "markdown",
   "id": "37f4fe64",
   "metadata": {},
   "source": [
    "* A partir de là, en déduire le rang médian de chaque département dans la hiérarchie des émissions et regarder les 10 plus mauvais élèves, selon ce critère.\n",
    "\n",
    "\n",
    "\n",
    "\n"
   ]
  },
  {
   "cell_type": "markdown",
   "id": "898ca8bc",
   "metadata": {},
   "source": [
    "# Combiner les données\n",
    "\n",
    "Une information que l'on cherche à obtenir s'obtient de moins en moins à partir d'une unique base de données. Il devient commun de devoir combiner des données issues de sources différentes. Nous allons ici nous focaliser sur le cas le plus favorable qui est la situation où une information permet d'apparier de manière exacte deux bases de données (autrement nous serions dans une situation, beaucoup plus complexe, d'appariement flou). La situation typique est l'appariement entre deux sources de données selon un identifiant individuel ou un identifiant de code commune, ce qui est notre cas.\n",
    "\n",
    "Il est recommandé de lire [ce guide assez complet sur la question des jointures avec R](https://linogaliana.gitlab.io/documentationR/joindre-des-tables-de-donn%C3%A9es.html) qui donne des recommandations également utiles en `python`.\n",
    "\n",
    "On utilise de manière indifférente les termes *merge* ou *join*. Le deuxième terme provient de la syntaxe SQL. En `pandas`, dans la plupart des cas, on peut utiliser indifféremment `df.join` et `df.merge`\n",
    "\n",
    "![](../02a_pandas_tutorial/pandas_join.png)\n"
   ]
  },
  {
   "cell_type": "markdown",
   "id": "5801b2c4",
   "metadata": {},
   "source": [
    "**Exercice 7: Calculer l'empreinte carbone par habitant**\n",
    "\n",
    "* Créer une variable `emissions` qui correspond aux émissions totales d'une commune\n"
   ]
  },
  {
   "cell_type": "markdown",
   "id": "801d9f03",
   "metadata": {},
   "source": [
    "* Faire une jointure à gauche entre les données d'émissions et les données de cadrage. Comparer les émissions moyennes des villes sans *match* (celles dont des variables bien choisies de la table de droite sont NaN) avec celles où on a bien une valeur correspondante dans la base Insee\n",
    "\n"
   ]
  },
  {
   "cell_type": "markdown",
   "id": "c7e87472",
   "metadata": {},
   "source": [
    "* Faire un *inner join* puis calculer l'empreinte carbone (l'émission rapportée au nombre de ménages fiscaux) dans chaque commune. Sortir un histogramme en niveau puis en log et quelques statistiques descriptives sur le sujet. \n",
    "\n"
   ]
  },
  {
   "cell_type": "markdown",
   "id": "8e1f0983",
   "metadata": {},
   "source": [
    "* Regarder la corrélation entre les variables de cadrage et l'empreinte carbone. Certaines variables semblent-elles pouvoir potentiellement influer sur l'empreinte carbone ?\n",
    "\n",
    "\n",
    "\n",
    "\n",
    "\n"
   ]
  },
  {
   "cell_type": "markdown",
   "id": "4c9ece3e",
   "metadata": {},
   "source": [
    "<!-----\n",
    "\n",
    "# Appliquer des fonctions"
   ]
  },
  {
   "cell_type": "markdown",
   "id": "fd19aa8f",
   "metadata": {},
   "source": [
    "On peut utiliser `apply` pour passer des fonctions à appliquer sur plusieurs colonnes ou sur plusieurs valeurs\n",
    "\n",
    "----->\n",
    "\n",
    "# Exercices bonus\n",
    "\n",
    "Les plus rapides d'entre vous sont invités à aller un peu plus loin en s'entraînant avec des exercices bonus qui proviennent du  [site de Xavier Dupré](http://www.xavierdupre.fr/app/ensae_teaching_cs/helpsphinx3). 3 notebooks en lien avec `numpy` et `pandas` vous y sont proposés : \n",
    "\n",
    "1. Calcul Matriciel, Optimisation : [énoncé](http://www.xavierdupre.fr/app/ensae_teaching_cs/helpsphinx3/notebooks/td2a_cenonce_session_2A.html) / [corrigé](http://www.xavierdupre.fr/app/ensae_teaching_cs/helpsphinx3/notebooks/td2a_correction_session_2A.html)\n",
    "2. DataFrame et Graphes : [énoncé](http://www.xavierdupre.fr/app/ensae_teaching_cs/helpsphinx3/notebooks/td2a_cenonce_session_1.html) / [corrigé](http://www.xavierdupre.fr/app/ensae_teaching_cs/helpsphinx3/notebooks/td2a_correction_session_1.html)\n",
    "3. Pandas et itérateurs : [énoncé](http://www.xavierdupre.fr/app/ensae_teaching_cs/helpsphinx3/notebooks/pandas_iterator.html) / [corrigé](http://www.xavierdupre.fr/app/ensae_teaching_cs/helpsphinx3/notebooks/pandas_iterator_correction.html)\n"
   ]
  }
 ],
 "metadata": {
  "kernelspec": {
   "display_name": "Python 3",
   "language": "python",
   "name": "python3"
  }
 },
 "nbformat": 4,
 "nbformat_minor": 5
}
