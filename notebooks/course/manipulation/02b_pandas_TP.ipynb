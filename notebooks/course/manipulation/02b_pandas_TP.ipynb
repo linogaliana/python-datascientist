{
  "cells": [
    {
      "cell_type": "raw",
      "metadata": {},
      "source": [
        "---\n",
        "title: \"Pratique de pandas: un exemple complet\"\n",
        "date: 2022-11-01T13:00:00Z\n",
        "draft: false\n",
        "weight: 30\n",
        "tags:\n",
        "  - pandas\n",
        "  - pollution\n",
        "  - Ademe\n",
        "  - Exercice\n",
        "  - Manipulation\n",
        "categories:\n",
        "  - Manipulation\n",
        "  - Exercice\n",
        "slug: pandasTP\n",
        "type: book\n",
        "summary: |\n",
        "  Après avoir présenté la logique de `pandas` dans le chapitre précédent, \n",
        "  ce chapitre vise à illustrer les fonctionalités du _package_ \n",
        "  à partir de données d'émissions de gaz à effet de serre\n",
        "  de l'[`Ademe`](https://data.ademe.fr/). \n",
        "echo: true\n",
        "output: false\n",
        "eval: false\n",
        "---"
      ],
      "id": "afc18a5b"
    },
    {
      "cell_type": "markdown",
      "metadata": {},
      "source": [
        "Les exemples de ce TP sont visualisables sous forme de `Jupyter Notebooks`:\n",
        "\n",
        "::: {.cell .markdown}"
      ],
      "id": "173cf970"
    },
    {
      "cell_type": "code",
      "metadata": {},
      "source": [
        "#| echo: false\n",
        "#| output: 'asis'\n",
        "#| include: true\n",
        "#| eval: true\n",
        "\n",
        "import sys\n",
        "sys.path.insert(1, '../../../../') #insert the utils module\n",
        "from utils import print_badges\n",
        "\n",
        "#print_badges(__file__)\n",
        "print_badges(\"content/course/manipulation/02b_pandas_TP.qmd\")"
      ],
      "id": "eedb222a",
      "execution_count": null,
      "outputs": []
    },
    {
      "cell_type": "markdown",
      "metadata": {},
      "source": [
        ":::\n",
        "\n",
        "Dans ce tutoriel `Pandas`, nous allons utiliser deux sources de données :\n",
        "\n",
        "* Les émissions de gaz à effet de serre estimées au niveau communal par l'`ADEME`. Le jeu de données est \n",
        "disponible sur [data.gouv](https://www.data.gouv.fr/fr/datasets/inventaire-de-gaz-a-effet-de-serre-territorialise/#_)\n",
        "et requêtable directement dans python avec\n",
        "[cet url](https://koumoul.com/s/data-fair/api/v1/datasets/igt-pouvoir-de-rechauffement-global/convert).\n",
        "`pandas` offre la possibilité d'importer des données directement depuis un url. C'est l'option\n",
        "prise dans ce tutoriel.\n",
        "Si vous préfèrez, pour des\n",
        "raisons d'accès au réseau ou de performance, importer depuis un poste local,\n",
        "vous pouvez télécharger les données et changer\n",
        "les commandes d'import avec le chemin adéquat plutôt que l'url. \n",
        "\n",
        "* Idéalement, on utiliserait directement les données\n",
        "[disponibles sur le site de l'Insee](https://www.insee.fr/fr/statistiques/3560121) mais celles-ci nécessitent un peu de travail\n",
        "de nettoyage qui n'entre pas dans le cadre de ce TP. \n",
        "Pour faciliter l'import de données Insee, il est recommandé d'utiliser le package\n",
        "[`pynsee`](https://github.com/InseeFrLab/Py-Insee-Data) qui simplifie l'accès aux données\n",
        "de l'Insee disponibles sur le site web [insee.fr](https://www.insee.fr/fr/accueil)\n",
        "ou via des API[^1]. \n",
        "\n",
        "[^1]: Toute contribution sur ce package, disponible sur [Github](https://github.com/InseeFrLab/Py-Insee-Data) est bienvenue !\n",
        "\n",
        "Après avoir installé la librairie `pynsee` (voir l'[introduction à pandas](course/manipulation/02a_pandas_tutorial)), nous suivrons les conventions habituelles dans l'import des packages :\n"
      ],
      "id": "ca88266b"
    },
    {
      "cell_type": "code",
      "metadata": {},
      "source": [
        "#| echo: true\n",
        "\n",
        "import numpy as np\n",
        "import pandas as pd\n",
        "import matplotlib.pyplot as plt\n",
        "import pynsee\n",
        "import pynsee.download"
      ],
      "id": "1245ef12",
      "execution_count": null,
      "outputs": []
    },
    {
      "cell_type": "markdown",
      "metadata": {},
      "source": [
        "## Exploration de la structure des données\n",
        "\n",
        "Commencer par importer les données de l'Ademe à l'aide du package `pandas`. Vous pouvez nommer le `DataFrame` obtenu `df`.\n"
      ],
      "id": "ce380733"
    },
    {
      "cell_type": "code",
      "metadata": {},
      "source": [
        "#| echo: true\n",
        "\n",
        "df = pd.read_csv(\"https://koumoul.com/s/data-fair/api/v1/datasets/igt-pouvoir-de-rechauffement-global/convert\", sep=\",\")"
      ],
      "id": "755cfb57",
      "execution_count": null,
      "outputs": []
    },
    {
      "cell_type": "markdown",
      "metadata": {},
      "source": [
        "Pour les données de cadrage au niveau communal (source Insee), le package `pynsee` facilite grandement la vie. \n",
        "La liste des données disponibles est [ici](https://inseefrlab.github.io/DoReMIFaSol/articles/donnees_dispo.html).\n",
        "En l'occurrence, on va utiliser les données Filosofi (données de revenus) au niveau communal de 2016. \n",
        "Le point d'entrée principal de la fonction `pynsee` est la fonction `download_file`.\n",
        "Le code pour télécharger les données est le suivant :\n"
      ],
      "id": "abc353dd"
    },
    {
      "cell_type": "code",
      "metadata": {},
      "source": [
        "#| echo: true\n",
        "\n",
        "df_city = pynsee.download.download_file(\"FILOSOFI_COM_2016\")"
      ],
      "id": "db443f50",
      "execution_count": null,
      "outputs": []
    },
    {
      "cell_type": "markdown",
      "metadata": {},
      "source": [
        "::: {.cell .markdown}\n",
        "\n",
        "```{=html}\n",
        "<div class=\"alert alert-info\" role=\"alert\">\n",
        "<h3 class=\"alert-heading\"><i class=\"fa-solid fa-comment\"></i> Note</h3>\n",
        "```\n",
        "\n",
        "\n",
        "La fonction `download_file` attend un identifiant unique\n",
        "pour savoir quelle base de données aller chercher et\n",
        "restructurer depuis le\n",
        "site [insee.fr](https://www.insee.fr/fr/accueil). \n",
        "\n",
        "Pour connaître la liste des bases disponibles, vous\n",
        "pouvez utiliser la fonction `meta = pynsee.get_file_list()`. \n",
        "Celle-ci renvoie un `DataFrame` dans lequel on peut\n",
        "rechercher, par exemple grâce à une recherche\n",
        "de mot clé: \n"
      ],
      "id": "35d9ba4d"
    },
    {
      "cell_type": "code",
      "metadata": {},
      "source": [
        "#| echo: true\n",
        "\n",
        "meta = pynsee.get_file_list()\n",
        "meta.loc[meta['label'].str.contains(r\"Filosofi.*2016\")]"
      ],
      "id": "2d3c2bed",
      "execution_count": null,
      "outputs": []
    },
    {
      "cell_type": "markdown",
      "metadata": {},
      "source": [
        "Ici, `meta['label'].str.contains(r\"Filosofi.*2016\")` signifie:\n",
        "\"_`pandas` trouve moi tous les labels où sont contenus les termes Filosofi et 2016._\"\n",
        " (`.*` signifiant \"_peu m'importe le nombre de mots ou caractères entre_\")\n",
        "\n",
        "\n",
        "\n",
        "```{=html}\n",
        "</div>\n",
        "```\n",
        "\n",
        ":::\n",
        "\n",
        "::: {.cell .markdown}\n",
        "\n",
        "```{=html}\n",
        "<div class=\"alert alert-success\" role=\"alert\">\n",
        "<h3 class=\"alert-heading\"><i class=\"fa-solid fa-pencil\"></i> Exercice 1: Afficher des données</h3>\n",
        "```\n",
        "\n",
        "\n",
        "\n",
        "L'objectif de cet exercice est de vous amener à afficher des informations sur les données dans un bloc de code (notebook) ou dans la console\n",
        "    \n",
        "Commencer sur `df`: \n",
        "\n",
        "1. Utiliser les méthodes adéquates pour les 10 premières valeurs, les 15 dernières et un échantillon aléatoire de 10 valeurs\n",
        "2. Tirer 5 pourcent de l'échantillon sans remise\n",
        "3. Ne conserver que les 10 premières lignes et tirer aléatoirement dans celles-ci pour obtenir un DataFrame de 100 données.\n",
        "4. Faire 100 tirages à partir des 6 premières lignes avec une probabilité de 1/2 pour la première observation et une probabilité uniforme pour les autres\n",
        "5. Faire la même chose sur `df_city`.\n",
        "\n",
        "\n",
        "```{=html}\n",
        "</div>\n",
        "```\n",
        "\n",
        ":::\n"
      ],
      "id": "5b123966"
    },
    {
      "cell_type": "code",
      "metadata": {},
      "source": [
        "#| echo: false\n",
        "# Question 1\n",
        "df.head(10)\n",
        "df.tail(15)\n",
        "df.sample(10)\n",
        "\n",
        "# Question 2\n",
        "df.sample(frac = 0.05)\n",
        "\n",
        "# Question 3\n",
        "df[:10].sample(n = 100, replace = True)\n",
        "\n",
        "# Question 4\n",
        "df[:6].sample(n = 100, replace = True, weights = [0.5] + [0.1]*5)\n",
        "\n",
        "# Question 5\n",
        "df_city.head(10)\n",
        "df_city.tail(15)\n",
        "df_city.sample(10)\n",
        "df_city.sample(frac = 0.05)\n",
        "df_city[:10].sample(n = 100, replace = True)\n",
        "df_city[:6].sample(n = 100, replace = True, weights = [0.5] + [0.1]*5)"
      ],
      "id": "c0731e71",
      "execution_count": null,
      "outputs": []
    },
    {
      "cell_type": "markdown",
      "metadata": {},
      "source": [
        "Cette première approche exploratoire donne une idée assez précise de la manière dont les données sont organisées.\n",
        "On remarque ainsi une différence entre `df` et `df_city` quant aux valeurs manquantes :\n",
        "la première base est relativement complète, la seconde comporte beaucoup de valeurs manquantes.\n",
        "Autrement dit, si on désire exploiter `df_city`, il faut faire attention à la variable choisie.\n",
        "\n",
        "\n",
        "::: {.cell .markdown}\n",
        "\n",
        "```{=html}\n",
        "<div class=\"alert alert-success\" role=\"alert\">\n",
        "<h3 class=\"alert-heading\"><i class=\"fa-solid fa-pencil\"></i> Exercice 2: structure des données</h3>\n",
        "```\n",
        "\n",
        "\n",
        "\n",
        "La première chose à vérifier est le format des données,\n",
        "afin d'identifier des types de variables qui ne conviennent pas\n",
        "\n",
        "Ici, comme c'est `pandas` qui a géré automatiquement les types de variables,\n",
        "il y a peu de chances que les types ne soient pas adéquats mais une vérification ne fait pas de mal.\n",
        "\n",
        "1. Vérifier les types des variables.\n",
        "S'assurer que les types des variables communes aux deux bases sont cohérents.\n",
        "Pour les variables qui ne sont pas en type `float` alors qu'elles devraient l'être, modifier leur type.\n",
        "\n",
        "Ensuite, on vérifie les dimensions des `DataFrames` et la structure de certaines variables clés.\n",
        "En l'occurrence, les variables fondamentales pour lier nos données sont les variables communales.\n",
        "Ici, on a deux variables géographiques: un code commune et un nom de commune. \n",
        "\n",
        "2. Vérifier les dimensions des DataFrames\n",
        "\n",
        "3. Vérifier le nombre de valeurs uniques des variables géographiques dans chaque base. Les résultats apparaissent-ils cohérents ?\n",
        "\n",
        "4. Identifier dans `df_city` les noms de communes qui correspondent à plusieurs codes communes et sélectionner leurs codes. En d'autres termes, identifier les `CODGEO` tels qu'il existe des doublons de `LIBGEO` et les stocker dans un vecteur `x` (conseil: faire attention à l'index de `x`)\n",
        "\n",
        "On se focalise temporairement sur les observations où le libellé comporte plus de deux codes communes différents\n",
        "\n",
        "5. Regarder dans `df_city` ces observations\n",
        "\n",
        "6. Pour mieux y voir, réordonner la base obtenue par order alphabétique\n",
        "\n",
        "7. Déterminer la taille moyenne (variable nombre de personnes: `NBPERSMENFISC16`) et quelques statistiques descriptives de ces données.\n",
        "Comparer aux mêmes statistiques sur les données où libellés et codes communes coïncident\n",
        "\n",
        "8. Vérifier les grandes villes (plus de 100 000 personnes),\n",
        "la proportion de villes pour lesquelles un même nom est associé à différents codes commune.\n",
        "\n",
        "9. Vérifier dans `df_city` les villes dont le libellé est égal à Montreuil.\n",
        "Vérifier également celles qui contiennent le terme 'Saint-Denis'\n",
        "\n",
        "\n",
        "```{=html}\n",
        "</div>\n",
        "```\n",
        "\n",
        ":::\n"
      ],
      "id": "2521229f"
    },
    {
      "cell_type": "code",
      "metadata": {},
      "source": [
        "#| echo: false\n",
        "\n",
        "# Question 1\n",
        "print(\"base df\")\n",
        "print(df.dtypes)\n",
        "print(\"\\nbase df_city\")\n",
        "print(df_city.dtypes)\n",
        "\n",
        "# Il faut changer les types de toutes les variables de df_city à l'exception des codes et libellés de commune.\n",
        "df_city[df_city.columns[2:len(df_city.columns)]] = df_city[df_city.columns[2:len(df_city.columns)]].apply(pd.to_numeric)\n",
        "print(\"\\nbase df_city corrigée\")\n",
        "print(df_city.dtypes)"
      ],
      "id": "be371d99",
      "execution_count": null,
      "outputs": []
    },
    {
      "cell_type": "code",
      "metadata": {},
      "source": [
        "#| echo: false\n",
        "\n",
        "# Question 2\n",
        "print(df.shape)\n",
        "print(df_city.shape)"
      ],
      "id": "1c576f58",
      "execution_count": null,
      "outputs": []
    },
    {
      "cell_type": "code",
      "metadata": {},
      "source": [
        "#| echo: false\n",
        "\n",
        "# Question 3\n",
        "print(df[['INSEE commune', 'Commune']].nunique())\n",
        "print(df_city[['CODGEO', 'LIBGEO']].nunique())\n",
        "# Résultats dont l'ordre de grandeur est proche. Dans les deux cas, #(libelles) < #(code)"
      ],
      "id": "224f7827",
      "execution_count": null,
      "outputs": []
    },
    {
      "cell_type": "code",
      "metadata": {},
      "source": [
        "#| echo: false\n",
        "\n",
        "# Question 4\n",
        "x = df_city.groupby('LIBGEO').count()['CODGEO']\n",
        "x = x[x>1]\n",
        "x = x.reset_index()\n",
        "x"
      ],
      "id": "0f6ac9af",
      "execution_count": null,
      "outputs": []
    },
    {
      "cell_type": "code",
      "metadata": {},
      "source": [
        "#| echo: false\n",
        "# Question 5\n",
        "df_city[df_city['LIBGEO'].isin(x['LIBGEO'])]"
      ],
      "id": "a02d4534",
      "execution_count": null,
      "outputs": []
    },
    {
      "cell_type": "code",
      "metadata": {},
      "source": [
        "#| echo: false\n",
        "# Question 6\n",
        "df_city[df_city['LIBGEO'].isin(x['LIBGEO'])].sort_values('LIBGEO')"
      ],
      "id": "614dcbb1",
      "execution_count": null,
      "outputs": []
    },
    {
      "cell_type": "code",
      "metadata": {},
      "source": [
        "#| echo: false\n",
        "# Question 7\n",
        "print(df_city[df_city['LIBGEO'].isin(x['LIBGEO'])]['NBPERSMENFISC16'].describe())\n",
        "print(df_city[~df_city['LIBGEO'].isin(x['LIBGEO'])]['NBPERSMENFISC16'].describe())"
      ],
      "id": "9272e1ca",
      "execution_count": null,
      "outputs": []
    },
    {
      "cell_type": "code",
      "metadata": {},
      "source": [
        "#| echo: false\n",
        "# Question 8\n",
        "df_big_city = df_city[df_city['NBPERSMENFISC16']>100000].copy()\n",
        "df_big_city['probleme'] = df_big_city['LIBGEO'].isin(x['LIBGEO'])\n",
        "df_big_city['probleme'].mean()\n",
        "df_big_city[df_big_city['probleme']]"
      ],
      "id": "57686fdf",
      "execution_count": null,
      "outputs": []
    },
    {
      "cell_type": "code",
      "metadata": {},
      "source": [
        "#| echo: false\n",
        "# Question 9\n",
        "df_city[df_city.LIBGEO == 'Montreuil']\n",
        "df_city[df_city.LIBGEO.str.contains('Saint-Denis')].head(10)"
      ],
      "id": "6665b2ce",
      "execution_count": null,
      "outputs": []
    },
    {
      "cell_type": "markdown",
      "metadata": {},
      "source": [
        "Ce petit exercice permet de se rassurer car les libellés dupliqués\n",
        "sont en fait des noms de commune identiques mais qui ne sont pas dans le même département.\n",
        "Il ne s'agit donc pas d'observations dupliquées.\n",
        "On se fiera ainsi aux codes communes, qui eux sont uniques.\n",
        "\n",
        "## Les indices\n",
        "\n",
        "Les indices sont des éléments spéciaux d'un DataFrame puisqu'ils permettent d'identifier certaines observations.\n",
        "Il est tout à fait possible d'utiliser plusieurs indices, par exemple si on a des niveaux imbriqués.\n",
        "\n",
        "\n",
        "::: {.cell .markdown}\n",
        "\n",
        "```{=html}\n",
        "<div class=\"alert alert-success\" role=\"alert\">\n",
        "<h3 class=\"alert-heading\"><i class=\"fa-solid fa-pencil\"></i> Exercice 3: Les indices</h3>\n",
        "```\n",
        "\n",
        "\n",
        "\n",
        "A partir de l'exercice précédent, on peut se fier aux codes communes.\n",
        "\n",
        "1. Fixer comme indice la variable de code commune dans les deux bases.\n",
        "Regarder le changement que cela induit sur le *display* du `DataFrame`\n",
        "\n",
        "2. Les deux premiers chiffres des codes communes sont le numéro de département.\n",
        "Créer une variable de département `dep` dans `df` et dans `df_city`\n",
        "\n",
        "3. Calculer les émissions totales par secteur pour chaque département.\n",
        "Mettre en log ces résultats dans un objet `df_log`.\n",
        "Garder 5 départements et produire un `barplot`\n",
        "\n",
        "4. Repartir de `df`.\n",
        "Calculer les émissions totales par département et sortir la liste\n",
        "des 10 principaux émetteurs de CO2 et des 5 départements les moins émetteurs.\n",
        "Sans faire de *merge*,\n",
        "regarder les caractéristiques de ces départements (population et niveau de vie)\n",
        "\n",
        "\n",
        "```{=html}\n",
        "</div>\n",
        "```\n",
        "\n",
        ":::\n"
      ],
      "id": "c0ebc8ce"
    },
    {
      "cell_type": "code",
      "metadata": {},
      "source": [
        "#| echo: false\n",
        "# Question 1\n",
        "display(df)\n",
        "df = df.set_index('INSEE commune')\n",
        "display(df)\n",
        "\n",
        "display(df_city)\n",
        "df_city =  df_city.set_index('CODGEO') \n",
        "display(df_city)"
      ],
      "id": "bcc71714",
      "execution_count": null,
      "outputs": []
    },
    {
      "cell_type": "code",
      "metadata": {},
      "source": [
        "#| echo: false\n",
        "# Question 2\n",
        "df['dep'] = df.index.str[:2]\n",
        "df_city['dep'] = df_city.index.str[:2]"
      ],
      "id": "8b8d1a09",
      "execution_count": null,
      "outputs": []
    },
    {
      "cell_type": "code",
      "metadata": {},
      "source": [
        "#| echo: false\n",
        "# Question 3\n",
        "df_log = df.groupby('dep').sum().apply(np.log)\n",
        "print(df_log.head())\n",
        "df_log.sample(5).plot(kind = \"bar\")"
      ],
      "id": "aea51f55",
      "execution_count": null,
      "outputs": []
    },
    {
      "cell_type": "code",
      "metadata": {},
      "source": [
        "#| echo: false\n",
        "# Question 4\n",
        "## Emissions totales par département (df)\n",
        "df_emissions = df.reset_index().set_index(['INSEE commune','dep']).sum(axis = 1).groupby('dep').sum()\n",
        "#df.reset_index().groupby('dep').sum().sum(axis = 1).head() #version simplifiee ?\n",
        "gros_emetteurs = df_emissions.sort_values(ascending = False).head(10)\n",
        "petits_emetteurs = df_emissions.sort_values().head(5)\n",
        "\n",
        "## Caractéristiques des départements (df_city)\n",
        "print(\"gros emetteurs\")\n",
        "print(df_city[df_city['dep'].isin(gros_emetteurs.index)][['NBPERSMENFISC16','MED16']].mean())\n",
        "print(\"\\npetits emetteurs\")\n",
        "print(df_city[df_city['dep'].isin(petits_emetteurs.index)][['NBPERSMENFISC16','MED16']].mean())\n",
        "# Les petits emetteurs sont en moyenne plus pauvres et moins peuplés que les gros emetteurs"
      ],
      "id": "28a3fd9a",
      "execution_count": null,
      "outputs": []
    },
    {
      "cell_type": "markdown",
      "metadata": {},
      "source": [
        "::: {.cell .markdown}\n",
        "\n",
        "```{=html}\n",
        "<div class=\"alert alert-success\" role=\"alert\">\n",
        "<h3 class=\"alert-heading\"><i class=\"fa-solid fa-pencil\"></i> Exercice 4: performance des indices</h3>\n",
        "```\n",
        "\n",
        "\n",
        "Un des intérêts des indices est qu'ils permettent des agrégations efficaces. \n",
        "\n",
        "1. Repartir de `df` et créer une copie `df_copy = df.copy()` et `df_copy2 = df.copy()` afin de ne pas écraser le DataFrame `df`\n",
        "\n",
        "2. Utiliser la variable `dep` comme indice pour `df_copy` et retirer tout index pour `df_copy2`\n",
        "\n",
        "3. Importer le module `timeit` et comparer le temps d'exécution de la somme par secteur, pour chaque département, des émissions de CO2\n",
        "\n",
        "\n",
        "```{=html}\n",
        "</div>\n",
        "```\n",
        "\n",
        ":::\n"
      ],
      "id": "2268be2d"
    },
    {
      "cell_type": "code",
      "metadata": {},
      "source": [
        "#| echo: false\n",
        "# Question 1\n",
        "df_copy = df.copy()\n",
        "df_copy2 = df.copy()"
      ],
      "id": "35aef291",
      "execution_count": null,
      "outputs": []
    },
    {
      "cell_type": "code",
      "metadata": {},
      "source": [
        "#| echo: false\n",
        "# Question 2\n",
        "df_copy = df_copy.set_index('dep')\n",
        "df_copy2 = df_copy2.reset_index()"
      ],
      "id": "3855a948",
      "execution_count": null,
      "outputs": []
    },
    {
      "cell_type": "code",
      "metadata": {},
      "source": [
        "#| echo: false\n",
        "#| eval: false\n",
        "# Question 3\n",
        "%timeit df_copy.drop('Commune', axis = 1).groupby('dep').sum()\n",
        "%timeit df_copy2.drop('Commune', axis = 1).groupby('dep').sum()\n",
        "# Le temps d'exécution est plus lent sur la base sans index par département."
      ],
      "id": "80cea9e7",
      "execution_count": null,
      "outputs": []
    },
    {
      "cell_type": "markdown",
      "metadata": {},
      "source": [
        "# Restructurer les données\n",
        "\n",
        "On présente généralement deux types de données : \n",
        "    \n",
        "* format __wide__: les données comportent des observations répétées, pour un même individu (ou groupe), dans des colonnes différentes \n",
        "* format __long__: les données comportent des observations répétées, pour un même individu, dans des lignes différentes avec une colonne permettant de distinguer les niveaux d'observations\n",
        "\n",
        "Un exemple de la distinction entre les deux peut être pris à l'ouvrage de référence d'Hadley Wickham, *R for Data Science*:\n",
        "\n",
        "![](https://d33wubrfki0l68.cloudfront.net/3aea19108d39606bbe49981acda07696c0c7fcd8/2de65/images/tidy-9.png)\n",
        "\n",
        "\n",
        "L'aide mémoire suivante aidera à se rappeler les fonctions à appliquer si besoin:\n",
        "\n",
        "![](../02a_pandas_tutorial/reshape.png)\n",
        "\n",
        "Le fait de passer d'un format *wide* au format *long* (ou vice-versa)\n",
        "peut être extrêmement pratique car certaines fonctions sont plus adéquates sur une forme de données ou sur l'autre.\n",
        "En règle générale, avec `Python` comme avec `R`, les formats *long* sont souvent préférables.\n",
        "\n",
        "::: {.cell .markdown}\n",
        "\n",
        "```{=html}\n",
        "<div class=\"alert alert-success\" role=\"alert\">\n",
        "<h3 class=\"alert-heading\"><i class=\"fa-solid fa-pencil\"></i> Exercice 5: Restructurer les données: wide to long</h3>\n",
        "```\n",
        "\n",
        "\n",
        "1. Créer une copie des données de l'`ADEME` en faisant `df_wide = df.copy()`\n",
        "\n",
        "2. Restructurer les données au format *long* pour avoir des données d'émissions par secteur en gardant comme niveau d'analyse la commune (attention aux autres variables identifiantes).\n",
        "\n",
        "3. Faire la somme par secteur et représenter graphiquement\n",
        "\n",
        "4. Garder, pour chaque département, le secteur le plus polluant\n",
        "\n",
        "\n",
        "```{=html}\n",
        "</div>\n",
        "```\n",
        "\n",
        ":::\n"
      ],
      "id": "206f3aa9"
    },
    {
      "cell_type": "code",
      "metadata": {},
      "source": [
        "#| echo: false\n",
        "# Question 1\n",
        "\n",
        "df_wide = df.copy()\n",
        "df_wide[['Commune','dep', \"Agriculture\", \"Tertiaire\"]].head() "
      ],
      "id": "5319e042",
      "execution_count": null,
      "outputs": []
    },
    {
      "cell_type": "code",
      "metadata": {},
      "source": [
        "#| echo: false\n",
        "# Question 2\n",
        "\n",
        "df_wide.reset_index().melt(id_vars = ['INSEE commune','Commune','dep'],\n",
        "                          var_name = \"secteur\", value_name = \"emissions\")"
      ],
      "id": "49af7d9c",
      "execution_count": null,
      "outputs": []
    },
    {
      "cell_type": "code",
      "metadata": {},
      "source": [
        "#| echo: false\n",
        "# Question 3\n",
        "\n",
        "(df_wide.reset_index()\n",
        " .melt(id_vars = ['INSEE commune','Commune','dep'],\n",
        "                          var_name = \"secteur\", value_name = \"emissions\")\n",
        " .groupby('secteur').sum().plot(kind = \"barh\")\n",
        ")"
      ],
      "id": "c39ecf93",
      "execution_count": null,
      "outputs": []
    },
    {
      "cell_type": "code",
      "metadata": {},
      "source": [
        "#| echo: false\n",
        "# Question 4\n",
        "\n",
        "(df_wide.reset_index().melt(id_vars = ['INSEE commune','Commune','dep'],\n",
        "                          var_name = \"secteur\", value_name = \"emissions\")\n",
        " .groupby(['secteur','dep']).sum().reset_index().sort_values(['dep','emissions'], ascending = False).groupby('dep').head(1)\n",
        ")"
      ],
      "id": "648ae597",
      "execution_count": null,
      "outputs": []
    },
    {
      "cell_type": "markdown",
      "metadata": {},
      "source": [
        "::: {.cell .markdown}\n",
        "\n",
        "```{=html}\n",
        "<div class=\"alert alert-success\" role=\"alert\">\n",
        "<h3 class=\"alert-heading\"><i class=\"fa-solid fa-pencil\"></i> Exercice 6: long to wide</h3>\n",
        "```\n",
        "\n",
        "\n",
        "Cette transformation est moins fréquente car appliquer des fonctions par groupe, comme nous le verrons par la suite, est très simple. \n",
        "\n",
        "1. Repartir de `df_wide = df.copy()\n",
        "\n",
        "2. Reconstruire le DataFrame, au format long, des données d'émissions par secteur en gardant comme niveau d'analyse la commune puis faire la somme par département et secteur\n",
        "\n",
        "3. Passer au format *wide* pour avoir une ligne par secteur et une colonne par département\n",
        "\n",
        "4. Calculer, pour chaque secteur, la place du département dans la hiérarchie des émissions nationales\n",
        "\n",
        "5. A partir de là, en déduire le rang médian de chaque département dans la hiérarchie des émissions et regarder les 10 plus mauvais élèves, selon ce critère.\n",
        "\n",
        "\n",
        "```{=html}\n",
        "</div>\n",
        "```\n",
        "\n",
        ":::\n"
      ],
      "id": "0c6beb31"
    },
    {
      "cell_type": "code",
      "metadata": {},
      "source": [
        "#| echo: false\n",
        "# Question 1\n",
        "\n",
        "df_wide = df.copy()"
      ],
      "id": "a265cab4",
      "execution_count": null,
      "outputs": []
    },
    {
      "cell_type": "code",
      "metadata": {},
      "source": [
        "#| echo: false\n",
        "# Question 2\n",
        "\n",
        "df_long_agg = (df_wide.reset_index()\n",
        " .melt(id_vars = ['INSEE commune','Commune','dep'],\n",
        "                          var_name = \"secteur\", value_name = \"emissions\").groupby([\"dep\", \"secteur\"]).sum()\n",
        ")\n",
        "\n",
        "df_long_agg.head()"
      ],
      "id": "c69790ce",
      "execution_count": null,
      "outputs": []
    },
    {
      "cell_type": "code",
      "metadata": {},
      "source": [
        "#| echo: false\n",
        "# Question 3\n",
        "\n",
        "df_wide_agg = df_long_agg.reset_index().pivot_table(values = \"emissions\", index = \"secteur\", columns = \"dep\")\n",
        "\n",
        "df_wide_agg.head()"
      ],
      "id": "b4f8a230",
      "execution_count": null,
      "outputs": []
    },
    {
      "cell_type": "code",
      "metadata": {},
      "source": [
        "#| echo: false\n",
        "# Question 4\n",
        "\n",
        "df_wide_agg.rank(axis = 1)"
      ],
      "id": "3689e63e",
      "execution_count": null,
      "outputs": []
    },
    {
      "cell_type": "code",
      "metadata": {},
      "source": [
        "#| echo: false\n",
        "# Question 5\n",
        "\n",
        "df_wide_agg.rank(axis = 1).median().nlargest(10)"
      ],
      "id": "d647c734",
      "execution_count": null,
      "outputs": []
    },
    {
      "cell_type": "markdown",
      "metadata": {},
      "source": [
        "# Combiner les données\n",
        "\n",
        "Une information que l'on cherche à obtenir s'obtient de moins en moins à partir d'une unique base de données. Il devient commun de devoir combiner des données issues de sources différentes. Nous allons ici nous focaliser sur le cas le plus favorable qui est la situation où une information permet d'apparier de manière exacte deux bases de données (autrement nous serions dans une situation, beaucoup plus complexe, d'appariement flou). La situation typique est l'appariement entre deux sources de données selon un identifiant individuel ou un identifiant de code commune, ce qui est notre cas.\n",
        "\n",
        "Il est recommandé de lire [ce guide assez complet sur la question des jointures avec R](https://linogaliana.gitlab.io/documentationR/joindre-des-tables-de-donn%C3%A9es.html) qui donne des recommandations également utiles en `python`.\n",
        "\n",
        "On utilise de manière indifférente les termes *merge* ou *join*. Le deuxième terme provient de la syntaxe SQL. En `pandas`, dans la plupart des cas, on peut utiliser indifféremment `df.join` et `df.merge`\n",
        "\n",
        "![](../02a_pandas_tutorial/pandas_join.png)\n",
        "\n",
        "\n",
        "::: {.cell .markdown}\n",
        "\n",
        "```{=html}\n",
        "<div class=\"alert alert-success\" role=\"alert\">\n",
        "<h3 class=\"alert-heading\"><i class=\"fa-solid fa-pencil\"></i> Exercice 7: Calculer l'empreinte carbone par habitant</h3>\n",
        "```\n",
        "\n",
        "\n",
        "1. Créer une variable `emissions` qui correspond aux émissions totales d'une commune\n",
        "\n",
        "2. Faire une jointure à gauche entre les données d'émissions et les données de cadrage. Comparer les émissions moyennes des villes sans *match* (celles dont des variables bien choisies de la table de droite sont NaN) avec celles où on a bien une valeur correspondante dans la base Insee\n",
        "\n",
        "3. Faire un *inner join* puis calculer l'empreinte carbone (l'émission rapportée au nombre de ménages fiscaux) dans chaque commune. Sortir un histogramme en niveau puis en log et quelques statistiques descriptives sur le sujet. \n",
        "\n",
        "4. Regarder la corrélation entre les variables de cadrage et l'empreinte carbone. Certaines variables semblent-elles pouvoir potentiellement influer sur l'empreinte carbone ?\n",
        "\n",
        "\n",
        "```{=html}\n",
        "</div>\n",
        "```\n",
        "\n",
        ":::\n"
      ],
      "id": "8955b784"
    },
    {
      "cell_type": "code",
      "metadata": {},
      "source": [
        "#| echo: false\n",
        "# Question 1\n",
        "\n",
        "df['emissions'] = df.sum(axis = 1)"
      ],
      "id": "510a19f3",
      "execution_count": null,
      "outputs": []
    },
    {
      "cell_type": "code",
      "metadata": {},
      "source": [
        "#| echo: false\n",
        "# Question 2\n",
        "\n",
        "df_merged = df.merge(df_city, how = \"left\", left_index = True, right_index = True)\n",
        "\n",
        "print(df_merged[df_merged['LIBGEO'].isna()]['emissions'].mean())\n",
        "print(df_merged[~df_merged['LIBGEO'].isna()]['emissions'].mean())"
      ],
      "id": "1d54d38a",
      "execution_count": null,
      "outputs": []
    },
    {
      "cell_type": "code",
      "metadata": {},
      "source": [
        "#| echo: false\n",
        "# Question 3\n",
        "\n",
        "df_merged = df.merge(df_city, left_index = True, right_index = True)\n",
        "df_merged['empreinte'] = df_merged['emissions']/df_merged['NBPERSMENFISC16']\n",
        "\n",
        "df_merged['empreinte'].plot(kind =\"hist\")\n",
        "np.log(df_merged['empreinte']).plot.hist()\n",
        "df_merged['empreinte'].describe()"
      ],
      "id": "d57609e2",
      "execution_count": null,
      "outputs": []
    },
    {
      "cell_type": "code",
      "metadata": {},
      "source": [
        "#| echo: false\n",
        "# Question 4\n",
        "\n",
        "df_merged.corr()['empreinte'].nlargest(10)\n",
        "# Les variables en lien avec le transport. "
      ],
      "id": "f6865432",
      "execution_count": null,
      "outputs": []
    },
    {
      "cell_type": "markdown",
      "metadata": {},
      "source": [
        "# Exercices bonus\n",
        "\n",
        "Les plus rapides d'entre vous sont invités à aller un peu plus loin en s'entraînant avec des exercices bonus qui proviennent du  [site de Xavier Dupré](http://www.xavierdupre.fr/app/ensae_teaching_cs/helpsphinx3). 3 notebooks en lien avec `numpy` et `pandas` vous y sont proposés : \n",
        "\n",
        "1. Calcul Matriciel, Optimisation : [énoncé](http://www.xavierdupre.fr/app/ensae_teaching_cs/helpsphinx3/notebooks/td2a_cenonce_session_2A.html) / [corrigé](http://www.xavierdupre.fr/app/ensae_teaching_cs/helpsphinx3/notebooks/td2a_correction_session_2A.html)\n",
        "2. DataFrame et Graphes : [énoncé](http://www.xavierdupre.fr/app/ensae_teaching_cs/helpsphinx3/notebooks/td2a_cenonce_session_1.html) / [corrigé](http://www.xavierdupre.fr/app/ensae_teaching_cs/helpsphinx3/notebooks/td2a_correction_session_1.html)\n",
        "3. Pandas et itérateurs : [énoncé](http://www.xavierdupre.fr/app/ensae_teaching_cs/helpsphinx3/notebooks/pandas_iterator.html) / [corrigé](http://www.xavierdupre.fr/app/ensae_teaching_cs/helpsphinx3/notebooks/pandas_iterator_correction.html)\n"
      ],
      "id": "5fcb29e2"
    }
  ],
  "metadata": {
    "kernelspec": {
      "name": "python3",
      "language": "python",
      "display_name": "Python 3 (ipykernel)"
    }
  },
  "nbformat": 4,
  "nbformat_minor": 5
}