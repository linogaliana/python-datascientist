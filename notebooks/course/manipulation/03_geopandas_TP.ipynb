{
  "cells": [
    {
      "cell_type": "markdown",
      "metadata": {},
      "source": [
        "# Pratique de geopandas: données vélib"
      ],
      "id": "40a36d5a-613d-42e0-bea4-aced36f5bc38"
    },
    {
      "cell_type": "markdown",
      "metadata": {},
      "source": [
        "<p class=\"badges\">\n",
        "\n",
        "<a href=\"https://github.com/linogaliana/python-datascientist/blob/master/notebooks/course/manipulation/03_geopandas_TP.ipynb\" class=\"github\"><i class=\"fab fa-github\"></i></a>\n",
        "<a href=\"https://downgit.github.io/#/home?url=https://github.com/linogaliana/python-datascientist/blob/master/notebooks/course/manipulation/03_geopandas_TP.ipynb\" target=\"_blank\" rel=\"noopener\"><img src=\"https://img.shields.io/badge/Download-Notebook-important?logo=Jupyter\" alt=\"Download\"></a>\n",
        "<a href=\"https://nbviewer.jupyter.org/github/linogaliana/python-datascientist/blob/master/notebooks/course/manipulation/03_geopandas_TP.ipynb\" target=\"_blank\" rel=\"noopener\"><img src=\"https://img.shields.io/badge/Visualize-nbviewer-blue?logo=Jupyter\" alt=\"nbviewer\"></a>\n",
        "<a href=\"https://datalab.sspcloud.fr/launcher/ide/jupyter-python?autoLaunch=true&onyxia.friendlyName=%C2%ABpython-datascience%C2%BB&init.personalInit=%C2%ABhttps%3A%2F%2Fraw.githubusercontent.com%2Flinogaliana%2Fpython-datascientist%2Fmaster%2Fsspcloud%2Finit-jupyter.sh%C2%BB&init.personalInitArgs=%C2%ABmanipulation%2003_geopandas_TP%C2%BB&security.allowlist.enabled=false\" target=\"_blank\" rel=\"noopener\"><img src=\"https://img.shields.io/badge/SSPcloud-Tester%20via%20SSP--cloud-informational&amp;color=yellow?logo=Python\" alt=\"Onyxia\"></a><br>\n",
        "<a href=\"https://mybinder.org/v2/gh/linogaliana/python-datascientist/master?filepath={binder_path}\" target=\"_blank\" rel=\"noopener\"><img src=\"https://img.shields.io/badge/Launch-Binder-E66581.svg?logo=data:image/png;base64,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\" alt=\"Binder\"></a>\n",
        "<a href=\"http://colab.research.google.com/github/linogaliana/python-datascientist/blob/master/notebooks/course/manipulation/03_geopandas_TP.ipynb\" target=\"_blank\" rel=\"noopener\"><img src=\"https://colab.research.google.com/assets/colab-badge.svg\" alt=\"Open In Colab\"></a>\n",
        "<a href=\"https://github.dev/linogaliana/python-datascientist/notebooks/course/manipulation/03_geopandas_TP.ipynb\" target=\"_blank\" rel=\"noopener\"><img src=\"https://img.shields.io/static/v1?logo=visualstudiocode&label=&message=Open%20in%20Visual%20Studio%20Code&labelColor=2c2c32&color=007acc&logoColor=007acc\" alt=\"githubdev\"></a>\n",
        "\n",
        "</p>\n",
        "\n",
        "</p>"
      ],
      "id": "26fe1b79-aa72-4841-b254-9b6fa81a8bd6"
    },
    {
      "cell_type": "markdown",
      "metadata": {},
      "source": [
        "Installations préalables :"
      ],
      "id": "ed48b214-3e21-4b54-825f-4bcda6bdba92"
    },
    {
      "cell_type": "code",
      "execution_count": 2,
      "metadata": {},
      "outputs": [],
      "source": [
        "!pip install pandas fiona shapely pyproj rtree # à faire obligatoirement en premier pour utiliser rtree ou pygeos pour les jointures spatiales\n",
        "!pip install contextily\n",
        "!pip install geopandas"
      ],
      "id": "6595b00b-1938-47f0-9f65-0d608f53cb96"
    },
    {
      "cell_type": "code",
      "execution_count": 3,
      "metadata": {},
      "outputs": [],
      "source": [
        "import geopandas as gpd"
      ],
      "id": "cb623069-248e-49bf-a014-a7b121901562"
    },
    {
      "cell_type": "markdown",
      "metadata": {},
      "source": [
        "# Lire et enrichir des données spatiales\n",
        "\n",
        "Dans cette partie, nous utiliserons la fonction suivante,\n",
        "le package [`cartiflette`](https://github.com/InseeFrLab/cartiflette.git)\n",
        "qui facilite la récupération de contours de cartes.\n",
        "Une version antérieure de cet exercice, présentée sous forme\n",
        "d’exercice supplémentaire, utilisait des fonds de carte issus\n",
        "de `data.gouv`."
      ],
      "id": "3fb46621-fc66-4c3f-a5b6-28e23bbb8c6c"
    },
    {
      "cell_type": "code",
      "execution_count": 4,
      "metadata": {},
      "outputs": [],
      "source": [
        "# 0) Chargement des packages utilisés dans la partie tutoriel\n",
        "import geopandas as gpd\n",
        "import contextily as ctx\n",
        "import matplotlib.pyplot as plt\n",
        "import cartiflette.s3"
      ],
      "id": "634ffa3b-d09d-436a-8058-a45da74daf6a"
    },
    {
      "cell_type": "markdown",
      "metadata": {},
      "source": [
        "<div class=\"alert alert-success\" role=\"alert\">\n",
        "\n",
        "1.  S’inspirer des exemples de code présents dans le chapitre précédent, mobilisant\n",
        "    le package `cartiflette`\n",
        "    pour télécharger les données communales.\n",
        "    Vous pouvez nommer l’objet `communes_borders`\n",
        "2.  Regarder les premières lignes des données. Identifier la différence avec\n",
        "    un DataFrame standard.\n",
        "3.  Afficher l’attribut `crs` de `communes_borders`. Ce dernier contrôle la\n",
        "    transformation de l’espace tridimensionnel terrestre en une surface plane.\n",
        "4.  Afficher les communes des Hauts de Seine (département 92) et utiliser la méthode\n",
        "    `plot`\n",
        "5.  Réprésenter la carte de Paris : quel est le problème ?\n",
        "\n",
        "</div>"
      ],
      "id": "ac73891c-03a0-4581-9cdf-e495b344c14a"
    },
    {
      "cell_type": "code",
      "execution_count": 5,
      "metadata": {},
      "outputs": [],
      "source": [
        "communes_borders = cartiflette.s3.download_vectorfile_url_all(\n",
        "    values = [\"75\", \"92\", \"93\", \"94\"],\n",
        "    level=\"COMMUNE\",\n",
        "    vectorfile_format=\"geojson\",\n",
        "    decoupage=\"departement\",\n",
        "    year=2022)"
      ],
      "id": "489aa485-4f61-420c-b09b-98f8139a83ce"
    },
    {
      "cell_type": "code",
      "execution_count": 6,
      "metadata": {},
      "outputs": [],
      "source": [
        "# 2) Regarder les premières lignes\n",
        "communes_borders.head()\n",
        "# Il y a une colonne geometry qui contient les informations nécessaires pour connaître les contours communaux"
      ],
      "id": "a63a4897-024e-40db-a144-7a427ab156b6"
    },
    {
      "cell_type": "code",
      "execution_count": 7,
      "metadata": {},
      "outputs": [],
      "source": [
        "# 3) Afficher le crs\n",
        "communes_borders.crs\n",
        "# Les données ne sont pas projetées, elles sont en \"longitude - latitude\" (WGS 84)"
      ],
      "id": "01c64cf5-c485-4f13-a08f-a518961056cc"
    },
    {
      "cell_type": "code",
      "execution_count": 8,
      "metadata": {},
      "outputs": [],
      "source": [
        "# 4) afficher les communes du département 12\n",
        "ax = communes_borders[communes_borders['INSEE_DEP'] == \"92\"].plot()\n",
        "ax.set_axis_off()"
      ],
      "id": "21d58841-2291-4789-be1c-894f37b16787"
    },
    {
      "cell_type": "code",
      "execution_count": 9,
      "metadata": {},
      "outputs": [],
      "source": [
        "# 5) Représenter la carte de Paris. Quel est le problème ?\n",
        "ax = communes_borders[communes_borders['INSEE_DEP'] == \"75\"].plot()\n",
        "ax.set_axis_off()"
      ],
      "id": "61d85b1a-d95e-4359-870c-771c034b9219"
    },
    {
      "cell_type": "markdown",
      "metadata": {},
      "source": [
        "En effet, on ne dispose ainsi pas des limites des arrondissements parisiens, ce\n",
        "qui appauvrit grandement la carte de Paris.\n",
        "On pourrait les récupérer directement\n",
        "depuis le site d’*open-data* du Grand Paris, ce qui est proposé en exercice supplémentaire.\n",
        "On propose ici d’utiliser à nouveau\n",
        "`cartiflette` pour cela afin de disposer du fonds de carte officiel."
      ],
      "id": "186d5ef9-27da-40bb-8607-a9c4f55c8318"
    },
    {
      "cell_type": "markdown",
      "metadata": {},
      "source": [
        "<div class=\"alert alert-success\" role=\"alert\">\n",
        "\n",
        "1.  Importer les données de découpage des arrondissements parisiens à l’adresse\n",
        "    <https://opendata.paris.fr/explore/dataset/arrondissements/download/?format=geojson&timezone=Europe/Berlin&lang=fr>\n",
        "2.  Vérifier sur une carte que les découpages des arrondissements sont bien présents.\n",
        "3.  Vérifier l’attribut `crs`. Est-il cohérent avec celui des données communales ?\n",
        "4.  Retirer Paris du jeu de données communales et utiliser les arrondissements\n",
        "    pour enrichir (nommer l’objet obtenu `data_borders`).\n",
        "5.  Représenter à nouveau les communes de la petite couronne parisienne (75, 92, 93, 94)\n",
        "\n",
        "</div>"
      ],
      "id": "248e3cb5-5908-4ffb-aceb-21d01fc88e3f"
    },
    {
      "cell_type": "code",
      "execution_count": 10,
      "metadata": {},
      "outputs": [],
      "source": [
        "#1) Importer arrondissements\n",
        "arrondissements = cartiflette.s3.download_vectorfile_url_all(\n",
        "    values = \"75\",\n",
        "    level=\"ARRONDISSEMENT_MUNICIPAL\",\n",
        "    vectorfile_format=\"geojson\",\n",
        "    decoupage=\"departement\",\n",
        "    year=2022)"
      ],
      "id": "46928b1e-c9d6-4191-9a61-e55c551d8188"
    },
    {
      "cell_type": "code",
      "execution_count": 11,
      "metadata": {},
      "outputs": [],
      "source": [
        "#2) Vérifier présence arrondissements\n",
        "ax = arrondissements.plot(alpha = 0.8, edgecolor = \"k\")\n",
        "ax.set_axis_off()"
      ],
      "id": "081a86ba-a5d7-40c2-ab15-c6320c803cc8"
    },
    {
      "cell_type": "code",
      "execution_count": 12,
      "metadata": {},
      "outputs": [],
      "source": [
        "#3) Vérifier l'attribut `crs`. Est-il cohérent ?\n",
        "print(communes_borders.crs)\n",
        "print(communes_borders.crs == arrondissements.crs)\n",
        "# Oui, les deux fonds de carte ont le même attribut CRS, pas besoin de convertir les projections de l'une d'entre elles"
      ],
      "id": "c3c0965e-309c-4ee6-a0d5-e59db13235cd"
    },
    {
      "cell_type": "code",
      "execution_count": 13,
      "metadata": {},
      "outputs": [],
      "source": [
        "#4) Retirer Paris et ajouter les arrondissements\n",
        "import pandas as pd\n",
        "\n",
        "data_paris = pd.concat(\n",
        "  [\n",
        "    communes_borders[communes_borders['INSEE_DEP'] != \"75\"],\n",
        "    arrondissements\n",
        "  ])"
      ],
      "id": "85ebd4d4-a2b8-483e-8631-ddcf391d2bda"
    },
    {
      "cell_type": "markdown",
      "metadata": {},
      "source": [
        "La carte obtenue à l’issue de la question 6, c’est-à-dire après\n",
        "avoir consolidé les données, devrait avoir l’aspect suivant:"
      ],
      "id": "fa335b95-5b5e-46d7-997c-4134e6bc6cfd"
    },
    {
      "cell_type": "code",
      "execution_count": 14,
      "metadata": {},
      "outputs": [],
      "source": [
        "#6) Représenter les communes du 75, 92, 93, 94\n",
        "ax = data_paris.plot(alpha = 0.3, edgecolor = \"k\")\n",
        "ax.set_axis_off()"
      ],
      "id": "e65b75d7-d982-4c9f-9788-e67c9a5b2d05"
    },
    {
      "cell_type": "markdown",
      "metadata": {},
      "source": [
        "# Utiliser des données géographiques comme des couches graphiques\n",
        "\n",
        "Souvent, le découpage communal ne sert qu’en fond de cartes, pour donner des\n",
        "repères. En complément de celui-ci, on peut désirer exploiter\n",
        "un autre jeu de données.\n",
        "\n",
        "On va partir des données de localisation des\n",
        "stations velib,\n",
        "disponibles [sur le site d’open data de la ville de Paris](https://opendata.paris.fr/explore/dataset/velib-emplacement-des-stations/table/) et\n",
        "requêtables directement par l’url\n",
        "<https://opendata.paris.fr/explore/dataset/velib-emplacement-des-stations/download/?format=geojson&timezone=Europe/Berlin&lang=fr>"
      ],
      "id": "583fc162-d868-483b-aaaf-9d0c0d5b7a04"
    },
    {
      "cell_type": "markdown",
      "metadata": {},
      "source": [
        "<div class=\"alert alert-success\" role=\"alert\">\n",
        "\n",
        "1.  Importer les données velib sous le nom `station`\n",
        "2.  Vérifier la projection géographique de `station` (attribut `crs`). Si celle-ci est différente des données communales, reprojeter ces\n",
        "    dernières dans le même système de projection que les stations de vélib\n",
        "3.  Représenter sur une carte les 50 stations les plus importantes (variable `capacity`). Vous pouvez également afficher le fonds de carte des arrondissements de Paris.\n",
        "    Cette [page](https://geopandas.org/mapping.html#maps-with-layers) peut vous aider pour comprendre comment afficher plusieurs couches à la fois. Vous pouvez customiser la carte en retirant les axes grâce à la méthode `set_axis_off` et mettre un titre tel que *“Les 50 principales stations de Vélib”* avec la méthode `set_title`.\n",
        "4.  Afficher également (trait bleu et épais) les réseaux de transport en communs, disponibles [ici](https://data.iledefrance-mobilites.fr/explore/dataset/traces-du-reseau-ferre-idf/map/?location=7,48.69717,2.33167&basemap=jawg.streets). L’url à requêter est\n",
        "    <https://data.iledefrance-mobilites.fr/explore/dataset/traces-du-reseau-ferre-idf/download/?format=geojson&timezone=Europe/Berlin&lang=fr>\n",
        "\n",
        "</div>"
      ],
      "id": "0a874cee-57d9-4077-b614-bc1441dc28b9"
    },
    {
      "cell_type": "code",
      "execution_count": 15,
      "metadata": {},
      "outputs": [],
      "source": [
        "# 1) Importer les données velib\n",
        "url = \"https://opendata.paris.fr/explore/dataset/velib-emplacement-des-stations/download/?format=geojson&timezone=Europe/Berlin&lang=fr\"\n",
        "stations = gpd.read_file(url)\n",
        "stations.head()"
      ],
      "id": "fccc2335-3472-46ca-b128-d0afc170082b"
    },
    {
      "cell_type": "code",
      "execution_count": 16,
      "metadata": {},
      "outputs": [],
      "source": [
        "# 2) Reprojection\n",
        "stations.crs\n",
        "data_paris = data_paris.to_crs(stations.crs)"
      ],
      "id": "a9a851d2-1680-4ea5-bb30-8768b53e7ab0"
    },
    {
      "cell_type": "markdown",
      "metadata": {},
      "source": [
        "La carte attendu à l’issue de la question 3 a l’aspect suivant:"
      ],
      "id": "fe4061f5-00b9-4267-bc38-3d5af0c4af31"
    },
    {
      "cell_type": "code",
      "execution_count": 17,
      "metadata": {},
      "outputs": [],
      "source": [
        "# 3) Carte des 50 stations les plus importantes. \n",
        "base = data_paris[data_paris['INSEE_DEP'] == '75'].plot(alpha = 0.2, edgecolor = 'black')\n",
        "stations.sort_values('capacity', ascending = False).head(50).plot(ax = base, color = 'red', alpha = 0.6)\n",
        "base.set_axis_off()\n",
        "base.set_title(\"Les 50 principales stations de Vélib\")"
      ],
      "id": "52f1bd63-ec68-4cb3-a733-068adb698aca"
    },
    {
      "cell_type": "markdown",
      "metadata": {},
      "source": [
        "L’ajout du réseau de métro permet d’obtenir une carte ressemblant à celle-ci"
      ],
      "id": "2d3c0c58-0ad4-4abe-93cd-60be538fe02a"
    },
    {
      "cell_type": "code",
      "execution_count": 18,
      "metadata": {},
      "outputs": [],
      "source": [
        "# 4) Réseaux de transport en communs\n",
        "url = \"https://data.iledefrance-mobilites.fr/explore/dataset/traces-du-reseau-ferre-idf/download/?format=geojson&timezone=Europe/Berlin&lang=fr\"\n",
        "transports = gpd.read_file(url)\n",
        "transports.head()\n",
        "print(transports['mode'].unique())\n",
        "base = data_paris[data_paris['INSEE_DEP'] == '75'].plot(alpha = 0.2, edgecolor = 'black')\n",
        "stations.sort_values('capacity', ascending = False).head(50).plot(ax = base, color = 'red', alpha = 0.6)\n",
        "transports[transports['mode'] == \"METRO\"].plot(ax=base, color = 'blue', alpha = 0.3,linewidth=3)\n",
        "base.set_axis_off()\n",
        "base.set_title(\"Les 50 principales stations de Vélib\")"
      ],
      "id": "cf1ac996-9cb0-4caf-a951-1b5799cf1ce2"
    },
    {
      "cell_type": "markdown",
      "metadata": {},
      "source": [
        "Pour faire une belle carte, il faudrait couper les lignes de métro via une jointure spatiale ou\n",
        "utiliser un fonds de carte conceptuel.\n",
        "L’exercice suivant propose de mettre en oeuvre la deuxième méthode. La première\n",
        "est proposée en exercice supplémentaire."
      ],
      "id": "a25e5684-db91-465b-809d-b4e42d69f960"
    },
    {
      "cell_type": "markdown",
      "metadata": {},
      "source": [
        "<div class=\"alert alert-success\" role=\"alert\">\n",
        "\n",
        "1.  Recréer par couche successive la carte précédente, que vous pouvez nommer `base`\n",
        "2.  Utiliser `add_basemap` du package [`contextily`](https://contextily.readthedocs.io/en/latest/)\n",
        "    pour ajouter, en arrière plan, un fonds de carte\n",
        "3.  Jouer avec les fonds disponibles en utilisant l’argument `source`\n",
        "\n",
        "</div>"
      ],
      "id": "4288223e-4634-4519-bce2-207123078218"
    },
    {
      "cell_type": "markdown",
      "metadata": {},
      "source": [
        "Par exemple, en utilisant le fond `Stamen.Watercolor`, on obtient la carte\n",
        "suivante. Celle-ci permet déjà de mieux localiser les stations."
      ],
      "id": "e5f633b9-723b-474c-b4e6-de671f44a04d"
    },
    {
      "cell_type": "code",
      "execution_count": 19,
      "metadata": {},
      "outputs": [],
      "source": [
        "base = data_paris[data_paris['INSEE_DEP'] == '75'].to_crs(3857).plot(alpha = 0.2, edgecolor = 'black')\n",
        "stations.sort_values('capacity', ascending = False).head(50).to_crs(3857).plot(ax = base, color = 'red', alpha = 0.6)\n",
        "base.set_axis_off()\n",
        "base.set_title(\"Les 50 principales stations de Vélib\")\n",
        "ctx.add_basemap(base, source=ctx.providers.Stamen.Watercolor)"
      ],
      "id": "63b00154-5591-46e7-8773-aac2f7a7da43"
    },
    {
      "cell_type": "markdown",
      "metadata": {},
      "source": [
        "# Jointures spatiales\n",
        "\n",
        "Les jointures attributaires fonctionnent comme avec un DataFrame `pandas`.\n",
        "Pour conserver un objet spatial *in fine*, il faut faire attention à utiliser en premier (base de gauche) l’objet `GeoPandas`.\n",
        "En revanche, l’un des intérêts des objets geopandas est qu’on peut également faire une jointure sur la dimension spatiale grâce à `sjoin`.\n",
        "\n",
        "La documentation à laquelle se référer est [ici](https://geopandas.org/mergingdata.html#spatial-joins)."
      ],
      "id": "dd393e7b-2d97-4ed3-8263-b4414d7ecf00"
    },
    {
      "cell_type": "markdown",
      "metadata": {},
      "source": [
        "<div class=\"alert alert-success\" role=\"alert\">\n",
        "\n",
        "1.  Faire une jointure spatiale pour enrichir les données de stations en y ajoutant des informations de `data_paris`. Appeler cet objet `stations_info`\n",
        "2.  Représenter la carte des stations du 19e arrondissement (s’aider de la variable `c_ar`). Vous pouvez mettre en fond de carte les arrondissements parisiens.\n",
        "3.  Compter le nombre de stations velib et le nombre de places velib par arrondissement ou commune (pour vous aider, vous pouvez compléter vos connaissances avec [ce tutoriel](https://pandas.pydata.org/docs/getting_started/intro_tutorials/06_calculate_statistics.html)). Représenter sur une carte chacune des informations\n",
        "4.  Représenter les mêmes informations mais en densité (diviser par la surface de l’arrondissement ou commune en km2)\n",
        "5.  (optionnel) Choisir une des cartes de densité et la nettoyer (retirer les axes, mettre les titres…)\n",
        "\n",
        "</div>"
      ],
      "id": "ccb5fc5c-8bbd-499c-90e9-c53dacc3deb2"
    },
    {
      "cell_type": "code",
      "execution_count": 20,
      "metadata": {},
      "outputs": [],
      "source": [
        "#1.  Jointure spatiale entre stations et data_paris\n",
        "stations_info = gpd.sjoin(stations, data_paris, op = 'within')\n",
        "stations_info.head()"
      ],
      "id": "6c325623-18fa-4217-9f06-6d3c35d99494"
    },
    {
      "cell_type": "code",
      "execution_count": 21,
      "metadata": {},
      "outputs": [],
      "source": [
        "#2. Carte des stations du 19e arrondissement\n",
        "# Méthode 1 : En affichant tout Paris\n",
        "base = data_paris[data_paris['INSEE_DEP'] == \"75\"].plot(alpha = 0.2, edgecolor = 'k') #fond de carte des arrondissements\n",
        "stations_19 = stations_info.loc[stations_info['NOM'].str.contains(\"19e\")]\n",
        "stations_19.plot(ax = base, color = 'red', alpha = 0.6) # stations du 19e\n",
        "# Méthode 2 : En affichant seulement le 19e\n",
        "base = data_paris[data_paris['NOM'].str.contains(\"19e\")].to_crs(3857).plot(alpha = 0.2, edgecolor = 'k') #fond de carte du 19e\n",
        "stations_info[stations_info['NOM'].str.contains(\"19e\")].to_crs(3857).plot(ax = base, color = 'red', alpha = 0.6) #stations du 19e\n",
        "ctx.add_basemap(base, source=ctx.providers.Stamen.Toner)"
      ],
      "id": "a7b70dc3-633a-4a1e-8c12-ae64a30a3023"
    },
    {
      "cell_type": "code",
      "execution_count": 22,
      "metadata": {},
      "outputs": [],
      "source": [
        "#3. Nombre de stations et de places vélib par arrondissement\n",
        "stations_agg = stations_info.groupby('NOM').agg({'stationcode': 'nunique',\n",
        "                                   'capacity': 'sum'}).reset_index()\n",
        "stations_agg.head()\n",
        "df = data_paris.merge(stations_agg, how = 'inner')\n",
        "df.head()\n",
        "df.plot(column = 'capacity', legend=True)\n",
        "df.plot(column = 'stationcode', legend=True)"
      ],
      "id": "5a4b20d6-4207-4c1f-8124-22c5ca124766"
    },
    {
      "cell_type": "code",
      "execution_count": 23,
      "metadata": {},
      "outputs": [],
      "source": [
        "#4. En densité\n",
        "cols = ['stationcode','capacity']\n",
        "df[[s + '_density' for s in cols]] = df[cols].div(df.to_crs(2158).area*10**(-6), axis = 0)\n",
        "df.plot(column = 'capacity_density', cmap = 'RdYlBu_r', legend=True)\n",
        "df.plot(column = 'capacity_density', cmap = 'plasma_r', legend=True)"
      ],
      "id": "02386d67-e631-413c-9ac7-2a54e75a011e"
    },
    {
      "cell_type": "code",
      "execution_count": 24,
      "metadata": {},
      "outputs": [],
      "source": [
        "ax = df.plot(column = 'capacity_density', cmap = 'RdYlBu_r', legend=True, legend_kwds={\"orientation\": \"horizontal\", \"pad\": 0.01}) \n",
        "ax.set_axis_off()\n",
        "ax.set_title(\"Densité des stations vélib dans l'agglomération parisienne\")"
      ],
      "id": "95edff62-8d74-4412-9136-1d5ebdbb32e4"
    },
    {
      "cell_type": "markdown",
      "metadata": {},
      "source": [
        "# Trouver les toilettes publiques les plus proches\n",
        "\n",
        "Une aide [ici](https://pysal.org/scipy2019-intermediate-gds/deterministic/gds1-relations.html#how-about-nearest-neighbor-joins)\n",
        "\n",
        "Cet exemple peut également vous aider à comprendre certains concepts :"
      ],
      "id": "af182c50-400e-40e5-96b2-0c62d20a9788"
    },
    {
      "cell_type": "code",
      "execution_count": 26,
      "metadata": {},
      "outputs": [],
      "source": [
        "from shapely.ops import Polygon\n",
        "from shapely.ops import nearest_points\n",
        "triangle = Polygon([(0, 0), (1, 0), (0.5, 1), (0, 0)])\n",
        "square = Polygon([(0, 2), (1, 2), (1, 3), (0, 3), (0, 2)])\n",
        "[o.wkt for o in nearest_points(triangle, square)]"
      ],
      "id": "c060c434-e60b-4266-97fd-0f352895b4f6"
    },
    {
      "cell_type": "markdown",
      "metadata": {},
      "source": [
        "<div class=\"alert alert-success\" role=\"alert\">\n",
        "\n",
        "1.  Charger la localisation des toilettes publiques présente ici : https://data.ratp.fr/explore/dataset/sanitaires-reseau-ratp/download/?format=geojson&timezone=Europe/Berlin&lang=fr. Appelez-la `toilettes_publiques`.\n",
        "2.  Trouver les toilettes publiques les plus proches de la station de vélib “Edgard Quinet - Gaité”. La ligne de code `ensemble_toilettes = toilettes_publiques.unary_union` vous sera utile ainsi que l’importation de la fonction `from shapely.ops import nearest_points`.\n",
        "3.  Généraliser aux 10 premières lignes de la table `stations` des vélibs en indiquant pour chaque station velib quelle sont les toilettes publiques les plus proches dans une nouvelle colonne appelée `Nearest`.\n",
        "\n",
        "</div>"
      ],
      "id": "8bccb896-25c8-4a3c-93e7-6bc2612ebebf"
    },
    {
      "cell_type": "code",
      "execution_count": 27,
      "metadata": {},
      "outputs": [],
      "source": [
        "# 1. Charger les localisations des toilettes\n",
        "toilettes_publiques = gpd.read_file(\"https://data.ratp.fr/explore/dataset/sanitaires-reseau-ratp/download/?format=geojson&timezone=Europe/Berlin&lang=fr\")\n",
        "toilettes_publiques.head()"
      ],
      "id": "224853e3-5f4a-4335-8a38-1dddbb11a7bd"
    },
    {
      "cell_type": "code",
      "execution_count": 28,
      "metadata": {},
      "outputs": [],
      "source": [
        "# 2. Trouver la station de toilettes la plus proche de la station de vélib \"Edgard Quinet - Gaité\"\n",
        "ensemble_toilettes = toilettes_publiques.unary_union\n",
        "ensemble_toilettes\n",
        "from shapely.ops import nearest_points\n",
        "edgard_quinet_gaite = stations[stations.name == 'Edgar Quinet - Gaité'].iloc[0,] #le iloc est fait pour passer d'un pd à un pd.series, sinon bug.\n",
        "nearest = nearest_points(edgard_quinet_gaite['geometry'], ensemble_toilettes)[1]\n",
        "toilettes_publiques[toilettes_publiques['geometry'] == nearest][:1]\n",
        "# Il va falloir se retenir un peu car s'agit de toilettes situées à la station Denfert Rochereau !"
      ],
      "id": "a0838532-75e6-40db-95c9-402ecb38149b"
    },
    {
      "cell_type": "code",
      "execution_count": 29,
      "metadata": {},
      "outputs": [],
      "source": [
        "# A améliorer dans la forme du code (je suis passée par des listes alors que je n'aurais probablement pas du). KA\n",
        "\n",
        "#3. Fonction qui généralise aux 10 premières stations de la base de données\n",
        "def find_nearest(numero_station):\n",
        "      station_choisie = stations.iloc[numero_station,]\n",
        "      nearest = nearest_points(station_choisie['geometry'], ensemble_toilettes)[1]\n",
        "      return toilettes_publiques[toilettes_publiques['geometry'] == nearest][:1]['station']\n",
        "\n",
        "dix_premieres_stations = stations.tail(10)\n",
        "dix_premieres_stations['Nearest'] = [list(find_nearest(num_station))[0] for num_station in dix_premieres_stations.index]\n",
        "dix_premieres_stations"
      ],
      "id": "2e1bbe01-69db-4052-a6ac-1a1e85d297df"
    },
    {
      "cell_type": "raw",
      "metadata": {
        "raw_mimetype": "text/html"
      },
      "source": [
        "<!-- 3. Quelle ligne de transport est à proximité du plus de velibs ? -->"
      ],
      "id": "9ef48ba1-6ba9-49e7-88d5-1e9a1dae03ee"
    },
    {
      "cell_type": "raw",
      "metadata": {
        "raw_mimetype": "text/html"
      },
      "source": [
        "<!-- 4. Calculer la distance de chaque station à la ligne de métro la plus proche. Faire un nuage de points reliant distance au métro et nombre de places en stations -->"
      ],
      "id": "9130950c-8f06-4d19-8cd7-17007bb08c7f"
    },
    {
      "cell_type": "code",
      "execution_count": 30,
      "metadata": {},
      "outputs": [],
      "source": [
        "# Ancienne correction de Lino\n",
        "# un truc comme ça à revoir mais là fait des NaN :'(\n",
        "from shapely.ops import nearest_points\n",
        "temp = stations_transport.unary_union\n",
        "def find_nearest(geometry1, geometry2 = temp, df_point2 = stations_transport):\n",
        "    nearest = nearest_points(geometry1, geometry2)[1]\n",
        "    return df_point2[df_point2['geometry'] == nearest][:1]['nomptar']\n",
        "stations['Nearest'] = stations.apply(lambda row: find_nearest(row.geometry), axis=1)"
      ],
      "id": "b61a5a56-bb1d-45ee-a168-9b68dd890596"
    },
    {
      "cell_type": "raw",
      "metadata": {
        "raw_mimetype": "text/html"
      },
      "source": [
        "<!-- # Exercices supplémentaires -->"
      ],
      "id": "13a3a5e4-d76e-4639-a6e6-f1bc25f78bab"
    },
    {
      "cell_type": "raw",
      "metadata": {
        "raw_mimetype": "text/html"
      },
      "source": [
        "<!-- ## carte US election 2020 -->"
      ],
      "id": "5778d253-4494-4b6f-96aa-266f94e705bb"
    },
    {
      "cell_type": "code",
      "execution_count": 31,
      "metadata": {},
      "outputs": [],
      "source": [
        "import geopandas as gpd\n",
        "import urllib.request\n",
        "import gzip\n",
        "\n",
        "url = \"https://int.nyt.com/newsgraphics/elections/map-data/2020/national/precincts-with-results.geojson.gz\"\n",
        "# urllib.request.urlretrieve(url, \"votes.gz\")\n",
        "\n",
        "url2 = \"https://www2.census.gov/geo/tiger/GENZ2018/shp/cb_2018_us_state_20m.zip\"\n",
        "urllib.request.urlretrieve(url2, \"states.zip\")\n",
        "\n",
        "import gzip\n",
        "import shutil\n",
        "with gzip.open('votes.gz', 'rb') as f_in:\n",
        "    with open('votes.geojson', 'wb') as f_out:\n",
        "        shutil.copyfileobj(f_in, f_out)\n",
        "        \n",
        "import zipfile\n",
        "with zipfile.ZipFile(\"states.zip\", 'r') as zip_ref:\n",
        "    zip_ref.extractall(\"states.shp\")\n",
        "\n",
        "votes = gpd.read_file('votes.geojson')\n",
        "states = gpd.read_file(\"states.shp\")\n",
        "votes['states'] = votes['GEOID'].str[:2]\n",
        "\n",
        "# alternative (plus rapide)\n",
        "essai = pd.read_csv(\"https://github.com/MEDSL/2020-elections-official/raw/main/PRESIDENT/PRESIDENT_precinct_general.csv.zip\")\n",
        "essai.dropna(subset = [\"party_simplified\"]).groupby([\"county_fips\",'party_simplified']).agg({\"votes\": \"sum\"})"
      ],
      "id": "edf124e0-86a0-4d0e-be0b-20724878aeb3"
    },
    {
      "cell_type": "markdown",
      "metadata": {},
      "source": [
        "# Exercices supplémentaires\n",
        "\n",
        "Voici une fonction pour télécharger et dézipper\n",
        "facilement un fonds de carte issu de `data.gouv`"
      ],
      "id": "b482e5db-b602-4e66-81a4-a3324da7f145"
    },
    {
      "cell_type": "code",
      "execution_count": 32,
      "metadata": {},
      "outputs": [],
      "source": [
        "import requests\n",
        "import tempfile\n",
        "import zipfile\n",
        "\n",
        "temporary_location = tempfile.gettempdir()\n",
        "\n",
        "def download_unzip(url, dirname = tempfile.gettempdir(), destname = \"borders\"):\n",
        "  myfile = requests.get(url)\n",
        "  open(\"{}/{}.zip\".format(dirname, destname), 'wb').write(myfile.content)\n",
        "  with zipfile.ZipFile(\"{}/{}.zip\".format(dirname, destname), 'r') as zip_ref:\n",
        "      zip_ref.extractall(dirname + '/' + destname)"
      ],
      "id": "16149c0d-96e3-467f-8800-84c53b972b3d"
    },
    {
      "cell_type": "markdown",
      "metadata": {},
      "source": [
        "Importer le fichier avec le package `GeoPandas`\n",
        "(si vous avez laissé les paramètres par défaut,\n",
        "le fichier devrait\n",
        "être à l’emplacement `temporary_location + \"/borders/communes-20210101.shp\"`)."
      ],
      "id": "6bb22c56-aa3c-414a-9745-01b4edfd811d"
    },
    {
      "cell_type": "code",
      "execution_count": 33,
      "metadata": {},
      "outputs": [],
      "source": [
        "# 1) télécharger les données communales\n",
        "url = \"https://www.data.gouv.fr/fr/datasets/r/0e117c06-248f-45e5-8945-0e79d9136165\"\n",
        "download_unzip(url)"
      ],
      "id": "8d31a4c9-19c1-4c2e-8bbe-ee5395617459"
    },
    {
      "cell_type": "code",
      "execution_count": 34,
      "metadata": {},
      "outputs": [],
      "source": [
        "# 2) Importer le fichier\n",
        "#communes_borders = gpd.read_file(temporary_location + \"/borders/communes-20220101.shp\")"
      ],
      "id": "bd64d1dc-275b-49b1-b136-ab94badd947e"
    },
    {
      "cell_type": "markdown",
      "metadata": {},
      "source": [
        "1.  Importer les données de découpage des arrondissements parisiens à l’adresse\n",
        "    <https://opendata.paris.fr/explore/dataset/arrondissements/download/?format=geojson&timezone=Europe/Berlin&lang=fr>\n",
        "2.  Vérifier sur une carte que les découpages des arrondissements sont bien présents.\n",
        "3.  Vérifier l’attribut `crs`. Est-il cohérent avec celui des données communales ?\n",
        "4.  Retirer Paris du jeu de données communales et utiliser les arrondissements\n",
        "    pour enrichir (nommer l’objet obtenu `data_borders`). Ici, on peut ne pas se\n",
        "    soucier de la variable commune de superficie aux niveaux différents car on\n",
        "    va la recréer. En revanche, renommer la variable `c_arinsee` en `insee` avec\n",
        "    la méthode `rename` et faire attention aux types des variables\n",
        "5.  Créer une variable `dep` stockant le département"
      ],
      "id": "a09a0fde-25e4-4cb8-9d92-1622336c2261"
    },
    {
      "cell_type": "code",
      "execution_count": 35,
      "metadata": {},
      "outputs": [],
      "source": [
        "#1) Importer arrondissements\n",
        "arrondissements = gpd.read_file(\"https://opendata.paris.fr/explore/dataset/arrondissements/download/?format=geojson&timezone=Europe/Berlin&lang=fr\")"
      ],
      "id": "9426782d-8b78-4696-8b99-12f0c30d6401"
    },
    {
      "cell_type": "code",
      "execution_count": 36,
      "metadata": {},
      "outputs": [],
      "source": [
        "#2) Vérifier présence arrondissements\n",
        "arrondissements.plot()"
      ],
      "id": "ecbe779d-b210-4ebd-9123-589fb285f277"
    },
    {
      "cell_type": "code",
      "execution_count": 37,
      "metadata": {},
      "outputs": [],
      "source": [
        "#3) Vérifier l'attribut `crs`. Est-il cohérent ?\n",
        "print(communes_borders.crs)\n",
        "print(communes_borders.crs == arrondissements.crs)\n",
        "# Oui, les deux fonds de carte ont le même attribut CRS, pas besoin de convertir les projections de l'une d'entre elles"
      ],
      "id": "fee11e1a-e016-4d9c-9d75-e654b42f75ac"
    },
    {
      "cell_type": "code",
      "execution_count": 38,
      "metadata": {},
      "outputs": [],
      "source": [
        "#4) Retirer Paris et ajouter les arrondissements\n",
        "## On fait en sorte que les colonnes de arrondissements soient les mêmes que celles de communes borders\n",
        "arrondissements = arrondissements.rename(columns = {\"c_arinsee\": \"insee\"})\n",
        "arrondissements['dep'] = \"75\"\n",
        "# On sélectionne enlève la ligne du contour de Paris initiale, et on ajoute à la place les lignes d'arrondissements\n",
        "data_paris = communes_borders[~communes_borders.insee.str.startswith(\"75\")].append(arrondissements)\n",
        "data_paris.tail()"
      ],
      "id": "d6a3b697-d9cd-409e-be95-a14b2c09de00"
    },
    {
      "cell_type": "code",
      "execution_count": 39,
      "metadata": {},
      "outputs": [],
      "source": [
        "#5)  Créer une variable `dep`\n",
        "print(data_paris['dep'])\n",
        "# Il y a des NA qui proviennent de la base communes_borders\n",
        "# donc on recrée la var dep\n",
        "data_paris['dep'] = data_paris.insee.astype(str).str[:2]"
      ],
      "id": "c5321886-67ca-4990-bd7b-09f3102e50e2"
    },
    {
      "cell_type": "markdown",
      "metadata": {},
      "source": [
        "## Jointures spatiales\n",
        "\n",
        "L’objectif de cet exercice est de ne conserver que les\n",
        "lignes de transports à l’intérieur de Paris intra-muros"
      ],
      "id": "00b11840-6ae5-4692-b79f-4e2466c0b1a6"
    },
    {
      "cell_type": "markdown",
      "metadata": {},
      "source": [
        "<div class=\"alert alert-success\" role=\"alert\">\n",
        "\n",
        "``` python\n",
        "url = \"https://data.iledefrance-mobilites.fr/explore/dataset/traces-du-reseau-ferre-idf/download/?format=geojson&timezone=Europe/Berlin&lang=fr\"\n",
        "transports = gpd.read_file(url)\n",
        "transports_paris = transports.sjoin(data_paris.loc[data_paris['INSEE_DEP']==\"75\"], how=\"inner\", predicate=\"within\")\n",
        "\n",
        "paris = data_paris.loc[data_paris['INSEE_DEP']==\"75\"].geometry.unary_union\n",
        "base = data_paris[data_paris['INSEE_DEP'] == '75'].plot(alpha = 0.2, edgecolor = 'black')\n",
        "transports[transports.geometry.within(paris)].plot(ax=base, column='mode', alpha = 0.9, linewidth=3)\n",
        "```\n",
        "\n",
        "</div>"
      ],
      "id": "8d649fdb-f5c4-4d13-a9f8-3bb942f5f525"
    }
  ],
  "nbformat": 4,
  "nbformat_minor": 5,
  "metadata": {
    "kernelspec": {
      "name": "python3",
      "display_name": "Python 3 (ipykernel)",
      "language": "python"
    },
    "language_info": {
      "name": "python",
      "codemirror_mode": {
        "name": "ipython",
        "version": "3"
      },
      "file_extension": ".py",
      "mimetype": "text/x-python",
      "nbconvert_exporter": "python",
      "pygments_lexer": "ipython3",
      "version": "3.9.13"
    }
  }
}