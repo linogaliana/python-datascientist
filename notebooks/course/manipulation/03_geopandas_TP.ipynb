{
  "cells": [
    {
      "cell_type": "markdown",
      "metadata": {},
      "source": [
        "# Pratique de geopandas: données vélib"
      ],
      "id": "2e253d35-442d-459b-8e2f-6d3c0a56aaca"
    },
    {
      "cell_type": "markdown",
      "metadata": {},
      "source": [
        "<p class=\"badges\">\n",
        "\n",
        "<a href=\"https://github.com/linogaliana/python-datascientist/blob/master/notebooks/course/manipulation/03_geopandas_TP.ipynb\" class=\"github\"><i class=\"fab fa-github\"></i></a>\n",
        "<a href=\"https://downgit.github.io/#/home?url=https://github.com/linogaliana/python-datascientist/blob/master/notebooks/course/manipulation/03_geopandas_TP.ipynb\" target=\"_blank\" rel=\"noopener\"><img src=\"https://img.shields.io/badge/Download-Notebook-important?logo=Jupyter\" alt=\"Download\"></a>\n",
        "<a href=\"https://nbviewer.jupyter.org/github/linogaliana/python-datascientist/blob/master/notebooks/course/manipulation/03_geopandas_TP.ipynb\" target=\"_blank\" rel=\"noopener\"><img src=\"https://img.shields.io/badge/Visualize-nbviewer-blue?logo=Jupyter\" alt=\"nbviewer\"></a>\n",
        "<a href=\"https://datalab.sspcloud.fr/launcher/inseefrlab-helm-charts-datascience/jupyter?autoLaunch=true&onyxia.friendlyName=%C2%ABpython-datascience%C2%BB&init.personalInit=%C2%ABhttps%3A%2F%2Fraw.githubusercontent.com%2Flinogaliana%2Fpython-datascientist%2Fmaster%2Fsspcloud%2Finit-jupyter.sh%C2%BB&init.personalInitArgs=%C2%ABnotebooks/course/manipulation/03_geopandas_TP.ipynb%C2%BB&security.allowlist.enabled=false\" target=\"_blank\" rel=\"noopener\"><img src=\"https://img.shields.io/badge/SSPcloud-Tester%20via%20SSP--cloud-informational&amp;color=yellow?logo=Python\" alt=\"Onyxia\"></a><br>\n",
        "<a href=\"https://mybinder.org/v2/gh/linogaliana/python-datascientist/master?filepath={binder_path}\" target=\"_blank\" rel=\"noopener\"><img src=\"https://img.shields.io/badge/Launch-Binder-E66581.svg?logo=data:image/png;base64,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\" alt=\"Binder\"></a>\n",
        "<a href=\"http://colab.research.google.com/github/linogaliana/python-datascientist/blob/master/notebooks/course/manipulation/03_geopandas_TP.ipynb\" target=\"_blank\" rel=\"noopener\"><img src=\"https://colab.research.google.com/assets/colab-badge.svg\" alt=\"Open In Colab\"></a>\n",
        "<a href=\"https://github.dev/linogaliana/python-datascientist/notebooks/course/manipulation/03_geopandas_TP.ipynb\" target=\"_blank\" rel=\"noopener\"><img src=\"https://img.shields.io/static/v1?logo=visualstudiocode&label=&message=Open%20in%20Visual%20Studio%20Code&labelColor=2c2c32&color=007acc&logoColor=007acc\" alt=\"githubdev\"></a>\n",
        "\n",
        "</p>\n",
        "\n",
        "</p>"
      ],
      "id": "3fc6ca2b-d421-4c17-bd52-062e091a45bb"
    },
    {
      "cell_type": "markdown",
      "metadata": {},
      "source": [
        "Installations préalables :"
      ],
      "id": "3b701a95-71b8-4bd8-a6b0-63c4bb536230"
    },
    {
      "cell_type": "code",
      "execution_count": 2,
      "metadata": {},
      "outputs": [],
      "source": [
        "!pip install pandas fiona shapely pyproj rtree # à faire obligatoirement en premier pour utiliser rtree ou pygeos pour les jointures spatiales\n",
        "!pip install contextily\n",
        "!pip install geopandas"
      ],
      "id": "70543471-150c-488a-8bef-1772da602014"
    },
    {
      "cell_type": "code",
      "execution_count": 3,
      "metadata": {},
      "outputs": [],
      "source": [
        "import geopandas as gpd"
      ],
      "id": "26cbb8b7-1705-4798-8e10-03a817110354"
    },
    {
      "cell_type": "markdown",
      "metadata": {},
      "source": [
        "# Lire et enrichir des données spatiales\n",
        "\n",
        "Dans cette partie, nous utiliserons la fonction suivante, qui facilite\n",
        "le téléchargement et le dézippage des données proposées sur `data.gouv`:"
      ],
      "id": "443d3670-a036-4b41-9dc4-fa9eacdb76da"
    },
    {
      "cell_type": "code",
      "execution_count": 4,
      "metadata": {},
      "outputs": [],
      "source": [
        "import requests\n",
        "import tempfile\n",
        "import zipfile\n",
        "\n",
        "temporary_location = tempfile.gettempdir()\n",
        "\n",
        "def download_unzip(url, dirname = tempfile.gettempdir(), destname = \"borders\"):\n",
        "  myfile = requests.get(url)\n",
        "  open(dirname + '/' + destname + '.zip', 'wb').write(myfile.content)\n",
        "  with zipfile.ZipFile(dirname + '/' + destname + '.zip', 'r') as zip_ref:\n",
        "      zip_ref.extractall(dirname + '/' + destname)"
      ],
      "id": "c4016a6b-0fb8-4fe3-a049-79b49a93d787"
    },
    {
      "cell_type": "markdown",
      "metadata": {},
      "source": [
        "<div class=\"alert alert-success\" role=\"alert\">\n",
        "\n",
        "1.  Utiliser la fonction `download_unzip` avec l’url <https://www.data.gouv.fr/fr/datasets/r/07b7c9a2-d1e2-4da6-9f20-01a7b72d4b12>\n",
        "    pour télécharger les données communales.\n",
        "2.  Importer le fichier avec la package `geopandas`\n",
        "    (si vous avez laissé les paramètres par défaut,\n",
        "    le fichier devrait\n",
        "    être à l’emplacement `temporary_location + \"/borders/communes-20190101.json\"`).\n",
        "    Vous pouvez le nommer `communes_borders`\n",
        "3.  Regarder les premières lignes des données. Identifier la différence avec\n",
        "    un DataFrame standard.\n",
        "4.  Afficher l’attribut `crs` de `communes_borders`. Ce dernier contrôle la\n",
        "    transformation de l’espace tridimensionnel terrestre en une surface plane.\n",
        "5.  Afficher les communes de l’Aveyron (département 12) et utiliser la méthode\n",
        "    `plot`\n",
        "6.  Réprésenter la carte de Paris : quel est le problème ?\n",
        "\n",
        "</div>"
      ],
      "id": "b8deb7ed-ef65-44db-9588-a442d554b7f1"
    },
    {
      "cell_type": "markdown",
      "metadata": {},
      "source": [
        "En effet, on ne dispose ainsi pas des limites des arrondissements parisiens, ce\n",
        "qui appauvrit grandement la carte de Paris. On peut les récupérer directement\n",
        "depuis le site d’open data du grand Paris\n",
        "(cf. [tutoriel du chapitre précédent](geopandas))."
      ],
      "id": "1c49595e-0525-4c45-8353-c78414bbd04e"
    },
    {
      "cell_type": "markdown",
      "metadata": {},
      "source": [
        "<div class=\"alert alert-success\" role=\"alert\">\n",
        "\n",
        "1.  Importer les données de découpage des arrondissements parisiens à l’adresse\n",
        "    <https://opendata.paris.fr/explore/dataset/arrondissements/download/?format=geojson&timezone=Europe/Berlin&lang=fr>\n",
        "2.  Vérifier sur une carte que les découpages des arrondissements sont bien présents\n",
        "3.  Vérifier l’attribut `crs`. Est-il cohérent avec celui des données communales ?\n",
        "4.  Retirer Paris du jeu de données communales et utiliser les arrondissements\n",
        "    pour enrichir (nommer l’objet obtenu `data_borders`). Ici, on peut ne pas se\n",
        "    soucier de la variable commune de superficie aux niveaux différents car on\n",
        "    va la recréer. En revanche, renommer la variable `c_arinsee` en `insee` avec\n",
        "    la méthode `rename` et faire attention aux types des variables\n",
        "5.  Créer une variable `dep` stockant le département\n",
        "6.  Représenter les communes de la petite couronne parisienne (75, 92, 93, 94)\n",
        "\n",
        "</div>"
      ],
      "id": "c50aa95f-4ac9-4ed0-9b57-7b6d88354078"
    },
    {
      "cell_type": "markdown",
      "metadata": {},
      "source": [
        "# Utiliser des données géographiques comme des couches graphiques\n",
        "\n",
        "Souvent, le découpage communal ne sert qu’en fond de cartes, pour donner des\n",
        "repères. En complément de celui-ci, on peut désirer exploiter\n",
        "un autre jeu de données. On va partir des données de localisation des\n",
        "stations velib,\n",
        "disponibles [sur le site d’open data de la ville de Paris](https://opendata.paris.fr/explore/dataset/velib-emplacement-des-stations/table/) et\n",
        "requêtables directement par l’url\n",
        "<https://opendata.paris.fr/explore/dataset/velib-emplacement-des-stations/download/?format=geojson&timezone=Europe/Berlin&lang=fr>"
      ],
      "id": "247d26fb-2fe5-488a-a8f0-d0abc9d2f177"
    },
    {
      "cell_type": "markdown",
      "metadata": {},
      "source": [
        "<div class=\"alert alert-success\" role=\"alert\">\n",
        "\n",
        "1.  Importer les données velib sous le nom `station`\n",
        "2.  Représenter sur une carte les 50 stations les plus importantes (variable `capacity`). Vous pouvez également afficher le fonds de carte des arrondissements en ne gardant que les départements de la petite couronne (75, 92, 93, 94).\n",
        "    Cette [page](https://geopandas.org/mapping.html#maps-with-layers) peut vous aider pour afficher plusieurs couches à la fois.\n",
        "3.  Afficher également les réseaux de transport en communs, disponibles [ici](https://data.iledefrance-mobilites.fr/explore/dataset/traces-du-reseau-ferre-idf/map/?location=7,48.69717,2.33167&basemap=jawg.streets). L’url à requêter est\n",
        "    <https://data.iledefrance-mobilites.fr/explore/dataset/traces-du-reseau-ferre-idf/download/?format=geojson&timezone=Europe/Berlin&lang=fr>\n",
        "\n",
        "</div>"
      ],
      "id": "c1bad4e3-3b3d-4492-b699-6f420d81f840"
    },
    {
      "cell_type": "markdown",
      "metadata": {},
      "source": [
        "# Jointures spatiales\n",
        "\n",
        "Les jointures attributaires fonctionnent comme avec un DataFrame `pandas`. Pour conserver un objet spatial *in fine*, il faut faire attention à utiliser en premier (base de gauche) l’objet `geopandas`. En revanche, l’un des intérêts des objets geopandas est qu’on peut également faire une jointure sur la dimension spatiale.\n",
        "\n",
        "La documentation à laquelle se référer est [ici](https://geopandas.org/mergingdata.html#spatial-joins)."
      ],
      "id": "3aa2f135-02b6-4346-97aa-1903c2dbad75"
    },
    {
      "cell_type": "markdown",
      "metadata": {},
      "source": [
        "<div class=\"alert alert-success\" role=\"alert\">\n",
        "\n",
        "1.  Faire une jointure spatiale pour enrichir les données de stations en y ajoutant des informations de `data_paris`. Appeler cet objet `stations_info`\n",
        "2.  Représenter la carte des stations du 19e arrondissement (s’aider de la variable `c_ar`). Vous pouvez mettre en fond de carte les arrondissements parisiens.\n",
        "3.  Compter le nombre de stations velib et le nombre de places velib par arrondissement ou commune (pour vous aider, vous pouvez compléter vos connaissances avec [ce tutoriel](https://pandas.pydata.org/docs/getting_started/intro_tutorials/06_calculate_statistics.html)). Représenter sur une carte chacune des informations\n",
        "4.  Représenter les mêmes informations mais en densité (diviser par la surface de l’arrondissement ou commune en km2)\n",
        "\n",
        "</div>"
      ],
      "id": "7bb8600c-3652-4486-8746-5cfc2c2ed98e"
    },
    {
      "cell_type": "markdown",
      "metadata": {},
      "source": [
        "# Trouver la station la plus proche\n",
        "\n",
        "Une aide [ici](https://pysal.org/scipy2019-intermediate-gds/deterministic/gds1-relations.html#how-about-nearest-neighbor-joins)\n",
        "\n",
        "Cet exemple peut également vous aider à comprendre certains concepts :"
      ],
      "id": "cf4db8b9-61f8-4caa-a04c-e916a97b7f3f"
    },
    {
      "cell_type": "markdown",
      "metadata": {},
      "source": [
        "<div class=\"alert alert-success\" role=\"alert\">\n",
        "\n",
        "1.  Charger la localisation des stations de transports présente ici : https://data.ratp.fr/explore/dataset/accessibilite-des-gares-et-stations-metro-et-rer-ratp/download/?format=geojson&timezone=Europe/Berlin&lang=fr. Appelez-la `stations_transport` et ne gardez que les variables ‘nomptar’ et ‘geometry’.\n",
        "2.  Trouver la station de transport la plus proche de la station de vélib “Edgard Quinet - Gaité”. La ligne de code `ensemble_stations = stations_transport.unary_union` vous sera utile ainsi que l’importation de la fonction `from shapely.ops import nearest_points`.\n",
        "3.  Généraliser aux 10 premières lignes de la table `stations` des vélibs en indiquant pour chaque station velib quelle est la station de transport en commun la plus proche dans une nouvelle colonne appelée `Nearest`.\n",
        "\n",
        "</div>"
      ],
      "id": "a1a10176-c699-4427-9e36-a6bc547dc9e5"
    },
    {
      "cell_type": "raw",
      "metadata": {
        "raw_mimetype": "text/html"
      },
      "source": [
        "<!-- 3. Quelle ligne de transport est à proximité du plus de velibs ? -->"
      ],
      "id": "e581db5c-7bac-4749-9c14-793ff882947f"
    },
    {
      "cell_type": "raw",
      "metadata": {
        "raw_mimetype": "text/html"
      },
      "source": [
        "<!-- 4. Calculer la distance de chaque station à la ligne de métro la plus proche. Faire un nuage de points reliant distance au métro et nombre de places en stations -->"
      ],
      "id": "2687129e-4a6f-4865-810b-b8dc9ec342f3"
    },
    {
      "cell_type": "raw",
      "metadata": {
        "raw_mimetype": "text/html"
      },
      "source": [
        "<!-- # Exercices supplémentaires -->"
      ],
      "id": "bd6d81c4-b067-4985-908f-89f30659bbf6"
    },
    {
      "cell_type": "raw",
      "metadata": {
        "raw_mimetype": "text/html"
      },
      "source": [
        "<!-- ## carte US election 2020 -->"
      ],
      "id": "3b851e0c-6943-422f-aa49-9b098f8022fc"
    }
  ],
  "nbformat": 4,
  "nbformat_minor": 5,
  "metadata": {
    "kernelspec": {
      "name": "python3",
      "display_name": "Python 3 (ipykernel)",
      "language": "python"
    },
    "language_info": {
      "name": "python",
      "codemirror_mode": {
        "name": "ipython",
        "version": "3"
      },
      "file_extension": ".py",
      "mimetype": "text/x-python",
      "nbconvert_exporter": "python",
      "pygments_lexer": "ipython3",
      "version": "3.9.13"
    }
  }
}