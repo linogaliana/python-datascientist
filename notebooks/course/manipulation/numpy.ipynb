{
 "cells": [
  {
   "cell_type": "raw",
   "id": "7e970747",
   "metadata": {},
   "source": [
    "---\n",
    "title: \"Retour sur numpy\"\n",
    "date: 2020-07-16T13:00:00Z\n",
    "draft: false\n",
    "weight: 10\n",
    "tags:\n",
    "  - numpy\n",
    "categories:\n",
    "  - Tutoriel\n",
    "slug: \"numpy\"\n",
    "type: book\n",
    "summary: |\n",
    "  numpy constitue la brique de base de l'écosystème de la data-science en\n",
    "  Python. Toutes les librairies de manipulation de données, de modélisation\n",
    "  et de visualisation reposent, de manière plus ou moins directe, sur numpy.\n",
    "  Il est donc indispensable d'avoir quelques notions sur ce package avant\n",
    "  d'aller plus loin.\n",
    "---"
   ]
  },
  {
   "cell_type": "markdown",
   "id": "f15e830a",
   "metadata": {},
   "source": [
    "Pour essayer les exemples présents dans ce tutoriel : \n"
   ]
  },
  {
   "cell_type": "code",
   "execution_count": 1,
   "id": "adc222fe",
   "metadata": {},
   "outputs": [
    {
     "name": "stdout",
     "output_type": "stream",
     "text": [
      "<a href=\"https://github.com/linogaliana/python-datascientist/blob/master/course/manipulation/01_numpy.ipynb\" class=\"github\"><i class=\"fab fa-github\"></i></a>\n",
      "[![Download](https://img.shields.io/badge/Download-Notebook-important?logo=Jupyter)](https://downgit.github.io/#/home?url=https://github.com/linogaliana/python-datascientist/blob/master/course/manipulation/01_numpy.ipynb)\n",
      "[![nbviewer](https://img.shields.io/badge/Visualize-nbviewer-blue?logo=Jupyter)](https://nbviewer.jupyter.org/github/linogaliana/python-datascientist/blob/master/course/manipulation/01_numpy.ipynb)\n",
      "[![Onyxia](https://img.shields.io/badge/SSPcloud-Tester%20via%20SSP--cloud-informational&color=yellow?logo=Python)](https://datalab.sspcloud.fr/launcher/inseefrlab-helm-charts-datascience/jupyter?autoLaunch=true&onyxia.friendlyName=%C2%ABpython-datascience%C2%BB&init.personalInit=%C2%ABhttps%3A%2F%2Fraw.githubusercontent.com%2Flinogaliana%2Fpython-datascientist%2Fmaster%2Fsspcloud%2Finit-jupyter.sh%C2%BB&init.personalInitArgs=%C2%ABcourse/manipulation%2001_numpy.ipynb%C2%BB&security.allowlist.enabled=false)<br>\n",
      "[![Binder](https://img.shields.io/badge/Launch-Binder-E66581.svg?logo=data:image/png;base64,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)](https://mybinder.org/v2/gh/linogaliana/python-datascientist/master?filepath=course/manipulation/01_numpy.ipynb)\n",
      "[![Open In Colab](https://colab.research.google.com/assets/colab-badge.svg)](http://colab.research.google.com/github/linogaliana/python-datascientist/blob/master/course/manipulation/01_numpy.ipynb)\n",
      "[![githubdev](https://img.shields.io/static/v1?logo=visualstudiocode&label=&message=Open%20in%20Visual%20Studio%20Code&labelColor=2c2c32&color=007acc&logoColor=007acc)](https://github.dev/linogaliana/python-datascientist/course/manipulation/01_numpy.ipynb)\n"
     ]
    }
   ],
   "source": [
    "#| echo: false\n",
    "#| output: 'asis'\n",
    "#| include: true\n",
    "#| eval: true\n",
    "\n",
    "import sys\n",
    "sys.path.insert(1, '../../../../') #insert the utils module\n",
    "from utils import print_badges\n",
    "\n",
    "#print_badges(__file__)\n",
    "print_badges(\"content/course/manipulation/01_numpy.qmd\")"
   ]
  },
  {
   "cell_type": "markdown",
   "id": "37b33f42",
   "metadata": {},
   "source": [
    "Il est recommandé de régulièrement se référer à\n",
    "la [cheatsheet numpy](https://www.datacamp.com/community/blog/python-numpy-cheat-sheet) et à la\n",
    "[doc officielle](https://numpy.org/doc/stable/) en cas de doute\n",
    "sur une fonction. \n",
    "\n",
    "Dans ce chapitre, on ne dérogera pas à la convention qui s'est imposée\n",
    "d'importer `numpy` de la\n",
    "manière suivante:\n"
   ]
  },
  {
   "cell_type": "code",
   "execution_count": 2,
   "id": "22715482",
   "metadata": {},
   "outputs": [],
   "source": [
    "import numpy as np"
   ]
  },
  {
   "cell_type": "markdown",
   "id": "68d35d84",
   "metadata": {},
   "source": [
    "Si les scripts suivants sont exécutés dans un `notebook`, il est recommandé d'utiliser les paramètres suivants\n",
    "pour contrôler le rendu\n",
    "\n",
    "~~~python\n",
    "from IPython.core.interactiveshell import InteractiveShell\n",
    "InteractiveShell.ast_node_interactivity = \"all\"\n",
    "~~~\n",
    "\n",
    "\n",
    "## Le concept d'array\n",
    "\n",
    "Le concept central de `NumPy` (`Numerical Python`) est\n",
    "l'**`array`** qui est un tableau de données multidimensionnel.\n",
    "\n",
    "L'array numpy peut être unidimensionnel et s'apparenter à un vecteur (1d-array),\n",
    "bidimensionnel et ainsi s'apparenter à une matrice (2d-array) ou, de manière plus générale, \n",
    "prendre la forme d'un objet\n",
    "multidimensionnel (Nd-array). \n",
    "\n",
    "Les tableaux simples (uni ou bi-dimensionnels) sont faciles à se représenter et seront particulièrement\n",
    "utilisés dans le paradigme des DataFrames mais \n",
    "la possibilité d'avoir des objets multidimensionnels permettra d'exploiter des\n",
    "structures très complexes.\n",
    "\n",
    "Un DataFrame sera construit à partir d'une collection\n",
    "d'array uni-dimensionnels (les variables de la table), ce qui permettra d'effectuer des opérations cohérentes\n",
    "(et optimisées) avec le type de la variable.\n",
    "\n",
    "\n",
    "Par rapport à une liste,\n",
    "\n",
    "* un *array* ne peut contenir qu'un type de données (`integer`, `string`, etc.),\n",
    " contrairement à une liste.\n",
    "* les opérations implémentées par `numpy` seront plus efficaces et demanderont moins\n",
    "de mémoire\n",
    "\n",
    "\n",
    "\n",
    "Les données géographiques constitueront une construction un peu plus complexe qu'un `DataFrame` traditionnel. \n",
    "La dimension géographique prend la forme d'un tableau plus profond, au moins bidimensionnel\n",
    "(coordonnées d'un point). \n",
    "\n",
    "\n",
    "## Créer un array\n",
    "\n",
    "On peut créer un `array` de plusieurs manières. Pour créer un `array` à partir d'une liste,\n",
    "il suffit d'utiliser la méthode `array`:\n"
   ]
  },
  {
   "cell_type": "code",
   "execution_count": 3,
   "id": "c0735ad8",
   "metadata": {},
   "outputs": [
    {
     "data": {
      "text/plain": [
       "array([1, 2, 5])"
      ]
     },
     "execution_count": 3,
     "metadata": {},
     "output_type": "execute_result"
    }
   ],
   "source": [
    "np.array([1,2,5])"
   ]
  },
  {
   "cell_type": "markdown",
   "id": "6d5cb626",
   "metadata": {},
   "source": [
    "Il est possible d'ajouter un argument `dtype` pour contraindre le type du *array*:\n"
   ]
  },
  {
   "cell_type": "code",
   "execution_count": 4,
   "id": "019fdafa",
   "metadata": {},
   "outputs": [
    {
     "data": {
      "text/plain": [
       "array([list(['a', 'z', 'e']), list(['r', 't']), list(['y'])], dtype=object)"
      ]
     },
     "execution_count": 4,
     "metadata": {},
     "output_type": "execute_result"
    }
   ],
   "source": [
    "np.array([[\"a\",\"z\",\"e\"],[\"r\",\"t\"],[\"y\"]], dtype=\"object\")"
   ]
  },
  {
   "cell_type": "markdown",
   "id": "bab2a5c2",
   "metadata": {},
   "source": [
    "Il existe aussi des méthodes pratiques pour créer des array:\n",
    "\n",
    "* séquences logiques : `np.arange` (suite) ou `np.linspace` (interpolation linéaire entre deux bornes)\n",
    "* séquences ordonnées: _array_ rempli de zéros, de 1 ou d'un nombre désiré : `np.zeros`, `np.ones` ou `np.full`\n",
    "* séquences aléatoires: fonctions de génération de nombres aléatoires: `np.rand.uniform`, `np.rand.normal`, etc. \n",
    "* tableau sous forme de matrice identité: `np.eye`\n"
   ]
  },
  {
   "cell_type": "code",
   "execution_count": 5,
   "id": "05162edf",
   "metadata": {},
   "outputs": [
    {
     "data": {
      "text/plain": [
       "array([[1., 0., 0.],\n",
       "       [0., 1., 0.],\n",
       "       [0., 0., 1.]])"
      ]
     },
     "execution_count": 5,
     "metadata": {},
     "output_type": "execute_result"
    }
   ],
   "source": [
    "np.arange(0,10)\n",
    "np.arange(0,10,3)\n",
    "np.linspace(0, 1, 5)\n",
    "np.zeros(10, dtype=int)\n",
    "np.ones((3, 5), dtype=float)\n",
    "np.full((3, 5), 3.14)\n",
    "np.eye(3)"
   ]
  },
  {
   "cell_type": "markdown",
   "id": "ab785d2c",
   "metadata": {},
   "source": [
    "{{% box status=\"exercise\" title=\"Exercise 1\" icon=\"fas fa-pencil-alt\" %}}\n",
    "\n",
    "Générer:\n",
    "\n",
    "* $X$ une variable aléatoire, 1000 répétitions d'une loi $U(0,1)$\n",
    "* $Y$ une variable aléatoire, 1000 répétitions d'une loi normale de moyenne nulle et de variance égale à 2\n",
    "* Vérifier la variance de $Y$ avec `np.var`\n",
    "\n",
    "{{% /box %}}\n"
   ]
  },
  {
   "cell_type": "code",
   "execution_count": 6,
   "id": "db44dcd0",
   "metadata": {},
   "outputs": [
    {
     "data": {
      "text/plain": [
       "2.1632293391915107"
      ]
     },
     "execution_count": 6,
     "metadata": {},
     "output_type": "execute_result"
    }
   ],
   "source": [
    "#| include: false\n",
    "\n",
    "# Correction\n",
    "X = np.random.uniform(0,1,1000)\n",
    "Y = np.random.normal(0,np.sqrt(2),1000)\n",
    "\n",
    "np.var(Y)"
   ]
  },
  {
   "cell_type": "markdown",
   "id": "44e07dff",
   "metadata": {},
   "source": [
    "## Indexation et slicing\n",
    "\n",
    "### Logique dans le cas d'un array unidimensionnel\n",
    "\n",
    "La structure la plus simple imaginable est l'array unidimensionnel:\n"
   ]
  },
  {
   "cell_type": "code",
   "execution_count": 7,
   "id": "65d27d00",
   "metadata": {},
   "outputs": [
    {
     "name": "stdout",
     "output_type": "stream",
     "text": [
      "[0 1 2 3 4 5 6 7 8 9]\n"
     ]
    }
   ],
   "source": [
    "x = np.arange(10)\n",
    "print(x)"
   ]
  },
  {
   "cell_type": "markdown",
   "id": "53718055",
   "metadata": {},
   "source": [
    "L'indexation est dans ce cas similaire à celle d'une liste: \n",
    "\n",
    "* le premier élément est 0\n",
    "* le énième élément est accessible à la position $n-1$\n",
    "\n",
    "La logique d'accès aux éléments est ainsi la suivante:\n",
    "\n",
    "~~~python\n",
    "x[start:stop:step]\n",
    "~~~\n",
    "\n",
    "Avec un *array* unidimensionnel, l'opération de *slicing* (garder une coupe du *array*) est très simple. \n",
    "Par exemple, pour garder les *K* premiers éléments d'un *array*, on fera:\n",
    "\n",
    "~~~python\n",
    "x[:(K-1)]\n",
    "~~~\n",
    "\n",
    "En l'occurrence, on sélectionne le K$^{eme}$ élément en utilisant\n",
    "\n",
    "~~~python\n",
    "x[K-1]\n",
    "~~~\n",
    "\n",
    "Pour sélectionner uniquement un élément, on fera ainsi:\n"
   ]
  },
  {
   "cell_type": "code",
   "execution_count": 8,
   "id": "d702a467",
   "metadata": {},
   "outputs": [
    {
     "data": {
      "text/plain": [
       "2"
      ]
     },
     "execution_count": 8,
     "metadata": {},
     "output_type": "execute_result"
    }
   ],
   "source": [
    "x = np.arange(10)\n",
    "x[2]"
   ]
  },
  {
   "cell_type": "markdown",
   "id": "89516886",
   "metadata": {},
   "source": [
    "Les syntaxes qui permettent de sélectionner des indices particuliers d'une liste fonctionnent également\n",
    "avec les arrays.\n",
    "\n",
    "{{% box status=\"exercise\" title=\"Exercise 2\" icon=\"fas fa-pencil-alt\" %}}\n",
    "\n",
    "* Sélectionner les éléments 0,3,5\n",
    "* Sélectionner les éléments pairs\n",
    "* Sélectionner tous les éléments sauf le premier\n",
    "* Sélectionner les 5 premiers éléments\n",
    "\n",
    "{{% /box %}}\n"
   ]
  },
  {
   "cell_type": "code",
   "execution_count": 9,
   "id": "56ccc646",
   "metadata": {},
   "outputs": [
    {
     "data": {
      "text/plain": [
       "array([0, 1, 2, 3, 4])"
      ]
     },
     "execution_count": 9,
     "metadata": {},
     "output_type": "execute_result"
    }
   ],
   "source": [
    "#| include: false\n",
    "\n",
    "# Correction\n",
    "x[[0,3,5]]\n",
    "x[::2]\n",
    "x[-0]\n",
    "x[:5]\n",
    "# x2[0,:] # La première ligne"
   ]
  },
  {
   "cell_type": "markdown",
   "id": "a8eb7214",
   "metadata": {},
   "source": [
    "### Sur la performance\n",
    "\n",
    "Un élément déterminant dans la performance de `numpy` par rapport aux listes, lorsqu'il est question de \n",
    "*slicing* est qu'un array ne renvoie pas une\n",
    "copie de l'élément en question (copie qui coûte de la mémoire et du temps) mais simplement une vue de celui-ci.\n",
    "\n",
    "Lorsqu'il est nécessaire d'effectuer une copie, par exemple pour ne pas altérer l'array sous-jacent, on peut \n",
    "utiliser la méthode `copy`:\n",
    "\n",
    "~~~python\n",
    "x_sub_copy = x[:2, :2].copy()\n",
    "~~~\n",
    "\n",
    "-----\n",
    "\n",
    "\n",
    "### Filtres logiques\n",
    "\n",
    "\n",
    "Il est également possible, et plus pratique, de sélectionner des données à partir de conditions logiques\n",
    "(opération qu'on appelle un *boolean mask*)\n",
    "Cette fonctionalité servira principalement à \n",
    "effectuer des opérations de filtre sur les données.\n",
    "\n",
    "Pour des opérations de comparaison simples, les comparateurs logiques peuvent être suffisants. \n",
    "Ces comparaisons fonctionnent aussi sur les tableaux multidimensionnels grâce au\n",
    "*broadcasting* sur lequel nous reviendrons :\n",
    "\n",
    "```python\n",
    "x = np.arange(10)\n",
    "x2 = np.array([[-1,1,-2],[-3,2,0]])\n",
    "print(x)\n",
    "print(x2)\n",
    "```\n",
    "\n",
    "```python\n",
    "x==2\n",
    "x2<0\n",
    "```\n",
    "\n",
    "Pour sélectionner les observations relatives à la condition logique,\n",
    "il suffit d'utiliser la logique de *slicing* de `numpy` qui fonctionne avec les conditions logiques\n",
    "\n",
    "{{% box status=\"exercise\" title=\"Exercise 3\" icon=\"fas fa-pencil-alt\" %}}\n",
    "\n",
    "Soit \n"
   ]
  },
  {
   "cell_type": "code",
   "execution_count": 10,
   "id": "97fc27f1",
   "metadata": {},
   "outputs": [],
   "source": [
    "x = np.random.normal(size=10000)"
   ]
  },
  {
   "cell_type": "markdown",
   "id": "968cf8e5",
   "metadata": {},
   "source": [
    "1. Ne conserver que les valeurs dont la valeur absolue est supérieure à 1.96\n",
    "2. Compter le nombre de valeurs supérieures à 1.96 en valeur absolue et leur proportion dans l'ensemble\n",
    "3. Sommer les valeurs absolues de toutes les observations supérieures (en valeur absolue) à 1.96\n",
    "et rapportez les à la somme des valeurs de `x` (en valeur absolue) \n",
    "\n",
    "{{% /box %}}\n"
   ]
  },
  {
   "cell_type": "code",
   "execution_count": 11,
   "id": "c5522fa3",
   "metadata": {},
   "outputs": [
    {
     "name": "stdout",
     "output_type": "stream",
     "text": [
      "488\n",
      "0.0488\n"
     ]
    },
    {
     "data": {
      "text/plain": [
       "0.1458795007933684"
      ]
     },
     "execution_count": 11,
     "metadata": {},
     "output_type": "execute_result"
    }
   ],
   "source": [
    "#| include: false\n",
    "\n",
    "# Correction\n",
    "x = np.random.normal(size=10000)\n",
    "\n",
    "x2 = x[np.abs(x)>=1.96]\n",
    "\n",
    "print(x2.size)\n",
    "print(x2.size/x.size)\n",
    "np.sum(np.abs(x2))/np.sum(np.abs(x))"
   ]
  },
  {
   "cell_type": "markdown",
   "id": "3421e07d",
   "metadata": {},
   "source": [
    "Lorsque c'est possible, il est recommandé d'utiliser les fonctions logiques de `numpy` (optimisées et \n",
    "qui gèrent bien la dimension). Parmi elles, on peut retrouver:\n",
    "\n",
    "* `count_nonzero`\n",
    "* `isnan`\n",
    "* `any` ; `all` ; notamment avec l'argument `axis`\n",
    "* `np.array_equal` pour vérifier, élément par élément, l'égalité\n",
    "\n",
    "{{% box status=\"exercise\" title=\"Exercise 4\" icon=\"fas fa-pencil-alt\" %}}\n",
    "\n",
    "Soit\n"
   ]
  },
  {
   "cell_type": "code",
   "execution_count": 12,
   "id": "d11b8246",
   "metadata": {},
   "outputs": [],
   "source": [
    "x = np.random.normal(0, size=(3, 4))"
   ]
  },
  {
   "cell_type": "markdown",
   "id": "74b25d4f",
   "metadata": {},
   "source": [
    "un *array* multidimensionnel et\n"
   ]
  },
  {
   "cell_type": "code",
   "execution_count": 13,
   "id": "6cb09f9d",
   "metadata": {},
   "outputs": [],
   "source": [
    "y = np.array([np.nan, 0, 1])"
   ]
  },
  {
   "cell_type": "markdown",
   "id": "202e670b",
   "metadata": {},
   "source": [
    "un *array* unidimensionnel présentant une valeur manquante. \n",
    "\n",
    "1. Utiliser `count_nonzero` sur `y`\n",
    "2. Utiliser `isnan` sur `y` et compter le nombre de valeurs non NaN\n",
    "3. Vérifier que `x` comporte au moins une valeur positive dans son ensemble, en parcourant les lignes puis les colonnes. \n",
    "\n",
    "Note : Jetez un oeil à ce que correspond le paramètre `axis` dans `numpy` en vous documentant sur internet. Par exemple [ici](https://www.sharpsightlabs.com/blog/numpy-axes-explained/).\n",
    "\n",
    "{{% /box %}}\n"
   ]
  },
  {
   "cell_type": "code",
   "execution_count": 14,
   "id": "65d11a03",
   "metadata": {},
   "outputs": [
    {
     "name": "stdout",
     "output_type": "stream",
     "text": [
      "[[ 0.4499696   0.4537445   0.34830515  1.03754276]\n",
      " [ 0.04691064 -0.67484324 -0.77142206 -0.37233147]\n",
      " [ 1.73123242  0.01945074  1.67829326  0.97770953]]\n",
      "[nan  0.  1.]\n",
      "2\n",
      "[ True False False]\n",
      "1\n",
      "True\n",
      "[ True  True  True  True]\n",
      "[ True  True  True]\n"
     ]
    }
   ],
   "source": [
    "#| include: false\n",
    "\n",
    "# Correction\n",
    "x = np.random.normal(0, size=(3, 4))\n",
    "y = np.array([np.nan, 0, 1])\n",
    "\n",
    "print(x)\n",
    "print(y)\n",
    "# 1. Utiliser `count_nonzero` sur `y`\n",
    "print(np.count_nonzero(y))\n",
    "# 2. Utiliser `isnan` sur `y` et compter le nombre de valeurs non NaN\n",
    "print(np.isnan(y))\n",
    "print(np.sum(np.isnan(y)))\n",
    "# 3. Vérifier que `x` comporte au moins une valeur positive dans son ensemble, en parcourant les lignes puis les colonnes\n",
    "print(np.any(x>0))\n",
    "print(np.any(x>0, axis = 0))\n",
    "print(np.any(x>0, axis = 1))"
   ]
  },
  {
   "cell_type": "markdown",
   "id": "09b6ffaa",
   "metadata": {},
   "source": [
    "## Manipuler un array\n",
    "\n",
    "Dans cette section, on utilisera un array multidimensionnel:\n"
   ]
  },
  {
   "cell_type": "code",
   "execution_count": 15,
   "id": "8f142b55",
   "metadata": {},
   "outputs": [],
   "source": [
    "x = np.random.normal(0, size=(3, 4))"
   ]
  },
  {
   "cell_type": "markdown",
   "id": "72cf3e80",
   "metadata": {},
   "source": [
    "### Statistiques sur un array\n",
    "\n",
    "Pour les statistiques descriptives classiques, `numpy` propose un certain nombre de fonctions déjà implémentées,\n",
    "qui peuvent être combinées avec l'argument `axis`\n",
    "\n",
    "{{% box status=\"exercise\" title=\"Exercise 5\" icon=\"fas fa-pencil-alt\" %}}\n",
    "\n",
    "1. Faire la somme de tous les éléments d'un `array`, des éléments en ligne et des éléments en colonne. Vérifier\n",
    "la cohérence\n",
    "2. Ecrire une fonction `statdesc` pour renvoyer les valeurs suivantes : moyenne, médiane, écart-type, minimum et maximum.\n",
    "L'appliquer sur `x` en jouant avec l'argument axis\n",
    "\n",
    "{{% /box %}}\n"
   ]
  },
  {
   "cell_type": "code",
   "execution_count": 16,
   "id": "056f87c9",
   "metadata": {},
   "outputs": [
    {
     "data": {
      "text/plain": [
       "0.24191866730308642"
      ]
     },
     "execution_count": 16,
     "metadata": {},
     "output_type": "execute_result"
    }
   ],
   "source": [
    "#| include: false\n",
    "\n",
    "# Correction\n",
    "x.sum()\n",
    "x.sum(axis = 0)\n",
    "x.sum(axis = 1)\n",
    "# check coherence\n",
    "x.sum(axis = 0).sum()\n",
    "x.sum(axis = 1).sum()"
   ]
  },
  {
   "cell_type": "code",
   "execution_count": 17,
   "id": "a13f597c",
   "metadata": {},
   "outputs": [
    {
     "data": {
      "text/plain": [
       "array([[ 0.3567723 , -0.00361602, -0.29267662],\n",
       "       [ 0.5725185 ,  0.26980762, -0.24709655],\n",
       "       [ 1.18668661,  0.60444478,  0.3176847 ],\n",
       "       [-1.33127431, -1.03921554, -0.77529857],\n",
       "       [ 1.61332652,  0.48513623,  0.0987852 ]])"
      ]
     },
     "execution_count": 17,
     "metadata": {},
     "output_type": "execute_result"
    }
   ],
   "source": [
    "#| include: false\n",
    "\n",
    "# Correction\n",
    "\n",
    "def statdesc(x, axis = None):\n",
    "    \"\"\"\n",
    "    Statistiques agrégées sur un array numpy\n",
    "\n",
    "    :param x: Numpy array\n",
    "    :param axis: Numpy dimension that should be used\n",
    "    :return: A numpy array with mean, median, sd, min and max\n",
    "    \"\"\"\n",
    "\n",
    "    return np.array([\n",
    "        np.mean(x, axis = axis),\n",
    "        np.median(x, axis = axis),\n",
    "        np.std(x, axis = axis),\n",
    "        np.min(x, axis = axis),\n",
    "        np.max(x, axis = axis)\n",
    "        ])\n",
    "\n",
    "statdesc(x)\n",
    "statdesc(x, axis = 0)\n",
    "statdesc(x, axis = 1)"
   ]
  },
  {
   "cell_type": "markdown",
   "id": "5a5913ed",
   "metadata": {},
   "source": [
    "### Fonctions de manipulation\n",
    "\n",
    "Voici quelques fonctions pour modifier un array, \n",
    "\n",
    "| Opération | Implémentation |\n",
    "|-----------|----------------|\n",
    "| Applatir un array | `x.flatten()` (méthode) |\n",
    "| Transposer un array | `x.T` (méthode) ou `np.transpose(x)` (fonction) |\n",
    "| Ajouter des éléments à la fin | `np.append(x, [1,2])` |\n",
    "| Ajouter des éléments à un endroit donné (aux positions 1 et 2) | `np.insert(x, [1,2], 3)` |\n",
    "| Supprimer des éléments (aux positions 0 et 3) | `np.delete(x, [0,3])` |\n",
    "\n",
    "Pour combiner des array, on peut utiliser, selon les cas, \n",
    "les fonctions `np.concatenate`, `np.vstack` ou la méthode `.r_` (concaténation *rowwise*). \n",
    "`np.hstack` ou la méthode `.column_stack` ou `.c_` (concaténation *column-wise*)\n"
   ]
  },
  {
   "cell_type": "code",
   "execution_count": 18,
   "id": "0d8562c9",
   "metadata": {},
   "outputs": [],
   "source": [
    "x = np.random.normal(size = 10)"
   ]
  },
  {
   "cell_type": "markdown",
   "id": "64a41c4a",
   "metadata": {},
   "source": [
    "Pour ordonner un array, on utilise `np.sort`\n"
   ]
  },
  {
   "cell_type": "code",
   "execution_count": 19,
   "id": "bd3b1157",
   "metadata": {},
   "outputs": [
    {
     "data": {
      "text/plain": [
       "array([1, 2, 3, 4, 5, 6, 7])"
      ]
     },
     "execution_count": 19,
     "metadata": {},
     "output_type": "execute_result"
    }
   ],
   "source": [
    "x = np.array([7, 2, 3, 1, 6, 5, 4])\n",
    "\n",
    "np.sort(x)"
   ]
  },
  {
   "cell_type": "markdown",
   "id": "83903d56",
   "metadata": {},
   "source": [
    "Si on désire faire un ré-ordonnement partiel pour trouver les _k_ valeurs les plus petites d'un `array` sans les ordonner, on utilise `partition`:\n"
   ]
  },
  {
   "cell_type": "code",
   "execution_count": 20,
   "id": "bd8ed33f",
   "metadata": {},
   "outputs": [
    {
     "data": {
      "text/plain": [
       "array([2, 1, 3, 4, 6, 5, 7])"
      ]
     },
     "execution_count": 20,
     "metadata": {},
     "output_type": "execute_result"
    }
   ],
   "source": [
    "np.partition(x, 3)"
   ]
  },
  {
   "cell_type": "markdown",
   "id": "650b7e24",
   "metadata": {},
   "source": [
    "## Broadcasting\n",
    "\n",
    "Le *broadcasting* désigne un ensemble de règles permettant\n",
    "d'appliquer des opérations sur des tableaux de dimensions différentes. En pratique, \n",
    "cela consiste généralement à appliquer une seule opération à l'ensemble des membres d'un tableau `numpy`. \n",
    "\n",
    "La différence peut être comprise à partir de l'exemple suivant. Le *broadcasting* permet\n",
    "de transformer le scalaire `5` en *array* de dimension 3:\n"
   ]
  },
  {
   "cell_type": "code",
   "execution_count": 21,
   "id": "40e537f8",
   "metadata": {},
   "outputs": [
    {
     "data": {
      "text/plain": [
       "array([5, 6, 7])"
      ]
     },
     "execution_count": 21,
     "metadata": {},
     "output_type": "execute_result"
    }
   ],
   "source": [
    "a = np.array([0, 1, 2])\n",
    "\n",
    "b = np.array([5, 5, 5])\n",
    "\n",
    "a + b\n",
    "a + 5"
   ]
  },
  {
   "cell_type": "markdown",
   "id": "538d56af",
   "metadata": {},
   "source": [
    "Le *broadcasting* peut être très pratique pour effectuer de manière efficace des opérations sur des données à\n",
    "la structure complexe. Pour plus de détails, se rendre\n",
    "[ici](https://jakevdp.github.io/PythonDataScienceHandbook/02.05-computation-on-arrays-broadcasting.html) ou [ici](https://stackoverflow.com/questions/47435526/what-is-the-meaning-of-axis-1-in-keras-argmax).\n",
    "\n",
    "## Une application: programmer ses propres k-nearest neighbors\n",
    "\n",
    "<!----\n",
    "L'idée de cet exercice vient de\n",
    "[là](https://jakevdp.github.io/PythonDataScienceHandbook/02.08-sorting.html#Example:-k-Nearest-Neighbors). \n",
    "------>\n",
    "\n",
    "{{% box status=\"exercise\" title=\"Exercise (un peu corsé)\" icon=\"fas fa-pencil-alt\" %}}\n",
    "\n",
    "1. Créer `X` un tableau à deux dimensions (i.e. une matrice) comportant 10 lignes\n",
    "et 2 colonnes. Les nombres dans le tableau sont aléatoires.\n",
    "2. Importer le module `matplotlib.pyplot` sous le nom `plt`. Utiliser\n",
    "`plt.scatter` pour représenter les données sous forme de nuage de points. \n",
    "3. Constuire une matrice 10x10 stockant, à l'élément $(i,j)$, la distance euclidienne entre les points $X[i,]$ et $X[j,]$. Pour cela, il va falloir jouer avec les dimensions en créant des tableaux emboîtés à partir par des appels à `np.newaxis` :\n",
    "  + En premier lieu, utiliser `X1 = X[:, np.newaxis, :]` pour transformer la matrice en tableau emboîté. Vérifier les dimensions\n",
    "  + Créer `X2` de dimension `(1, 10, 2)` à partir de la même logique\n",
    "  + En déduire, pour chaque point, la distance avec les autres points pour chaque coordonnées. Elever celle-ci au carré\n",
    "  + A ce stade, vous devriez avoir un tableau de dimension `(10, 10, 2)`. La réduction à une matrice s'obtient en sommant sur le dernier axe. Regarder dans l'aide de `np.sum` comme effectuer une somme sur le dernier axe. \n",
    "  + Enfin, appliquer la racine carrée pour obtenir une distance euclidienne en bonne et due forme. \n",
    "4. Vérifier que les termes diagonaux sont bien nuls (distance d'un point à lui-même...)\n",
    "5. Il s'agit maintenant de classer, pour chaque point, les points dont les valeurs sont les plus similaires. Utiliser `np.argsort` pour obtenir, pour chaque ligne, le classement des points les plus proches\n",
    "6. On va s'intéresser aux k-plus proches voisins. Pour le moment, fixons k=2. Utiliser `argpartition` pour réordonner chaque ligne de manière à avoir les 2 plus proches voisins de chaque point d'abord et le reste de la ligne ensuite\n",
    "7. Utiliser le morceau de code ci-dessous\n",
    "\n",
    "~~~python\n",
    "plt.scatter(X[:, 0], X[:, 1], s=100)\n",
    "\n",
    "# draw lines from each point to its two nearest neighbors\n",
    "K = 2\n",
    "\n",
    "for i in range(X.shape[0]):\n",
    "    for j in nearest_partition[i, :K+1]:\n",
    "        # plot a line from X[i] to X[j]\n",
    "        # use some zip magic to make it happen:\n",
    "        plt.plot(*zip(X[j], X[i]), color='black')\n",
    "~~~\n",
    "\n",
    "pour représenter graphiquement le réseau de plus proches voisins\n",
    "\n",
    "{{% /box %}}\n"
   ]
  },
  {
   "cell_type": "code",
   "execution_count": 22,
   "id": "6e6765e3",
   "metadata": {},
   "outputs": [
    {
     "name": "stdout",
     "output_type": "stream",
     "text": [
      "[0.91074575 0.43012376 0.09684788 0.55055254 0.2908458  0.19297842\n",
      " 0.05017591 0.74600129 0.8117502  0.87113209]\n",
      "[0.49258393 0.78847724 0.54338606 0.28543468 0.57287445 0.99449753\n",
      " 0.92525927 0.06835244 0.6737083  0.89677148]\n"
     ]
    },
    {
     "data": {
      "text/plain": [
       "<matplotlib.collections.PathCollection at 0x7feaaac8a910>"
      ]
     },
     "execution_count": 22,
     "metadata": {},
     "output_type": "execute_result"
    },
    {
     "data": {
      "image/png": "[encoded data removed]",
      "text/plain": [
       "<Figure size 432x288 with 1 Axes>"
      ]
     },
     "metadata": {
      "image/png": {
       "height": 248,
       "width": 372
      },
      "needs_background": "light"
     },
     "output_type": "display_data"
    }
   ],
   "source": [
    "#| include: false\n",
    "#| echo: false\n",
    "\n",
    "# Correction\n",
    "\n",
    "# 1. Definition de X\n",
    "X = np.random.rand(10, 2)\n",
    "\n",
    "# 2. Nuage de points. \n",
    "import matplotlib.pyplot as plt\n",
    "print(X[:,0])\n",
    "print(X[:,1])\n",
    "plt.scatter(X[:, 0], X[:, 1], s=100)"
   ]
  },
  {
   "cell_type": "code",
   "execution_count": 23,
   "id": "c55e7c8f",
   "metadata": {},
   "outputs": [
    {
     "data": {
      "image/png": "[encoded data removed]",
      "text/plain": [
       "<Figure size 432x288 with 1 Axes>"
      ]
     },
     "metadata": {
      "image/png": {
       "height": 248,
       "width": 372
      },
      "needs_background": "light"
     },
     "output_type": "display_data"
    }
   ],
   "source": [
    "#| include: false\n",
    "#| echo: false\n",
    "\n",
    "fig = plt.figure()\n",
    "plt.scatter(X[:, 0], X[:, 1], s=100)\n",
    "fig\n",
    "plt.savefig(\"scatter_numpy.png\", bbox_inches='tight')"
   ]
  },
  {
   "cell_type": "markdown",
   "id": "1df7e68d",
   "metadata": {},
   "source": [
    "Pour la question 2, vous devriez obtenir un graphique ayant cet aspect :\n",
    "\n",
    "![](scatter_numpy.png)\n"
   ]
  },
  {
   "cell_type": "code",
   "execution_count": 24,
   "id": "3a652d43",
   "metadata": {},
   "outputs": [
    {
     "name": "stdout",
     "output_type": "stream",
     "text": [
      "(10, 2)\n",
      "dimension X1 :  (10, 1, 2)\n",
      "dimension X2 :  (1, 10, 2)\n",
      "dimension dist1 :  (10, 10, 2)\n",
      "dimension dist :  (10, 10)\n",
      "[[0.         0.56440264 0.81548181 0.41551168 0.625078   0.87584656\n",
      "  0.96321773 0.4550968  0.20641259 0.40612414]\n",
      " [0.56440264 0.         0.41369372 0.5172571  0.25667667 0.31413735\n",
      "  0.40381889 0.78635765 0.39851054 0.4541101 ]\n",
      " [0.81548181 0.41369372 0.         0.52190692 0.19622629 0.46124033\n",
      "  0.38471473 0.80439859 0.72668371 0.85111532]\n",
      " [0.41551168 0.5172571  0.52190692 0.         0.38738768 0.79412177\n",
      "  0.81225137 0.29210429 0.46795366 0.69029264]\n",
      " [0.625078   0.25667667 0.19622629 0.38738768 0.         0.43283258\n",
      "  0.42672832 0.67949171 0.53057408 0.6645611 ]\n",
      " [0.87584656 0.31413735 0.46124033 0.79412177 0.43283258 0.\n",
      "  0.15870253 1.07869321 0.69698224 0.68515895]\n",
      " [0.96321773 0.40381889 0.38471473 0.81225137 0.42672832 0.15870253\n",
      "  0.         1.10383979 0.8020432  0.8214503 ]\n",
      " [0.4550968  0.78635765 0.80439859 0.29210429 0.67949171 1.07869321\n",
      "  1.10383979 0.         0.60891596 0.83781611]\n",
      " [0.20641259 0.39851054 0.72668371 0.46795366 0.53057408 0.69698224\n",
      "  0.8020432  0.60891596 0.         0.23083195]\n",
      " [0.40612414 0.4541101  0.85111532 0.69029264 0.6645611  0.68515895\n",
      "  0.8214503  0.83781611 0.23083195 0.        ]]\n",
      "[0. 0. 0. 0. 0. 0. 0. 0. 0. 0.]\n",
      "[[8 0 9 3 7 1 4 5 2 6]\n",
      " [4 1 5 8 6 2 9 7 3 0]\n",
      " [4 2 6 1 5 3 8 7 0 9]\n",
      " [3 4 7 0 1 5 6 2 8 9]\n",
      " [2 4 1 3 6 5 8 0 7 9]\n",
      " [6 5 1 4 2 9 3 7 8 0]\n",
      " [6 5 2 1 4 8 3 9 7 0]\n",
      " [7 3 0 8 4 5 6 1 2 9]\n",
      " [8 0 9 1 3 4 5 7 2 6]\n",
      " [8 9 0 1 4 5 3 7 2 6]]\n"
     ]
    },
    {
     "data": {
      "image/png": "[encoded data removed]",
      "text/plain": [
       "<Figure size 432x288 with 1 Axes>"
      ]
     },
     "metadata": {
      "image/png": {
       "height": 248,
       "width": 372
      },
      "needs_background": "light"
     },
     "output_type": "display_data"
    }
   ],
   "source": [
    "#| include: false\n",
    "#| echo: false\n",
    "\n",
    "# 3. Construire la matrice des distances euclidiennes\n",
    "print(X.shape)\n",
    "X1 = X[:, np.newaxis, :]\n",
    "print(\"dimension X1 : \", X1.shape)\n",
    "X2 = X[np.newaxis, :,:]\n",
    "print(\"dimension X2 : \", X2.shape)\n",
    "dist1 = (X1 - X2) ** 2\n",
    "print(\"dimension dist1 : \", dist1.shape)\n",
    "dist = np.sqrt(np.sum((X1 - X2) ** 2, axis=-1))\n",
    "print(\"dimension dist : \", dist.shape)\n",
    "\n",
    "# 4. Vérif termes diagonaux \n",
    "print(dist)\n",
    "print(dist.diagonal())\n",
    "\n",
    "#5. Classer avec np.argsort \n",
    "np.argsort(dist)\n",
    "\n",
    "#6. 2ppv\n",
    "K = 2\n",
    "nearest_partition = np.argpartition(dist, K + 1, axis=1)\n",
    "print(nearest_partition) # Ne pas oublier que le plus proche voisin d'un point est lui-même !\n",
    "\n",
    "#7. Tester le bout de code\n",
    "# Each point in the plot has lines drawn to its two nearest neighbors.\n",
    "fig = plt.figure()\n",
    "for i in range(X.shape[0]):\n",
    "    for j in nearest_partition[i, :K+1]:\n",
    "        # plot a line from X[i] to X[j]\n",
    "        # use some zip magic to make it happen:\n",
    "        plt.plot(*zip(X[j], X[i]), color='black')\n",
    "fig\n",
    "plt.savefig(\"knn.png\", bbox_inches='tight')"
   ]
  },
  {
   "cell_type": "markdown",
   "id": "14e53740",
   "metadata": {},
   "source": [
    "Le résultat de la question 7 est le suivant: \n",
    "\n",
    "![](knn.png)\n",
    "\n",
    "Ai-je inventé cet exercice corsé ? Pas du tout, il [vient de là](https://jakevdp.github.io/PythonDataScienceHandbook/02.08-sorting.html#Example:-k-Nearest-Neighbors). Mais, si je vous l'avais indiqué immédiatement, auriez-vous cherché à répondre aux questions ?\n",
    "\n",
    "Par ailleurs, il ne serait pas une bonne idée de généraliser cet algorithme à de grosses données. La complexité de notre approche est $O(N^2)$. L'algorithme implémenté par Scikit-learn est\n",
    "en $O[NlogN]$.\n",
    "\n",
    "De plus, le calcul de distances matricielles en utilisant la puissance des cartes graphiques serait plus rapide. A cet égard, la librairie [faiss](https://github.com/facebookresearch/faiss) offre des performances beaucoup plus satisfaisantes que celles que permettraient `numpy` sur ce problème précis.\n",
    "\n",
    "<!-----\n",
    "## Restructuration, concaténation et division\n",
    "\n",
    "* Pour restructurer un `array`, c'est-à-dire changer ses dimensions, le plus simple est d'utiliser la méthode `reshape`. Par exemple, pour \n",
    "\n",
    "np.reshape\n",
    "np.concatenate\n",
    "np.split, np.hsplit, and np.vsplit\n",
    "----->\n",
    "\n",
    "## Exercices supplémentaires\n",
    "\n",
    "* Simulations de variables aléatoires ;\n",
    "* TCL ;\n",
    "* Pagerank\n"
   ]
  },
  {
   "cell_type": "code",
   "execution_count": 25,
   "id": "b6d1bb10",
   "metadata": {},
   "outputs": [],
   "source": [
    "\"\"\"PageRank algorithm with explicit number of iterations.\n",
    "\n",
    "Returns\n",
    "-------\n",
    "ranking of nodes (pages) in the adjacency matrix\n",
    "\n",
    "\"\"\"\n",
    "\n",
    "import numpy as np\n",
    "\n",
    "def pagerank(M, num_iterations: int = 100, d: float = 0.85):\n",
    "    \"\"\"PageRank: The trillion dollar algorithm.\n",
    "\n",
    "    Parameters\n",
    "    ----------\n",
    "    M : numpy array\n",
    "        adjacency matrix where M_i,j represents the link from 'j' to 'i', such that for all 'j'\n",
    "        sum(i, M_i,j) = 1\n",
    "    num_iterations : int, optional\n",
    "        number of iterations, by default 100\n",
    "    d : float, optional\n",
    "        damping factor, by default 0.85\n",
    "\n",
    "    Returns\n",
    "    -------\n",
    "    numpy array\n",
    "        a vector of ranks such that v_i is the i-th rank from [0, 1],\n",
    "        v sums to 1\n",
    "\n",
    "    \"\"\"\n",
    "    N = M.shape[1]\n",
    "    v = np.random.rand(N, 1)\n",
    "    v = v / np.linalg.norm(v, 1)\n",
    "    M_hat = (d * M + (1 - d) / N)\n",
    "    for i in range(num_iterations):\n",
    "        v = M_hat @ v\n",
    "    return v\n",
    "\n",
    "M = np.array([[0, 0, 0, 0, 1],\n",
    "              [0.5, 0, 0, 0, 0],\n",
    "              [0.5, 0, 0, 0, 0],\n",
    "              [0, 1, 0.5, 0, 0],\n",
    "              [0, 0, 0.5, 1, 0]])\n",
    "v = pagerank(M, 100, 0.85)"
   ]
  }
 ],
 "metadata": {
  "kernelspec": {
   "display_name": "Python 3 (ipykernel)",
   "language": "python",
   "name": "python3"
  },
  "language_info": {
   "codemirror_mode": {
    "name": "ipython",
    "version": 3
   },
   "file_extension": ".py",
   "mimetype": "text/x-python",
   "name": "python",
   "nbconvert_exporter": "python",
   "pygments_lexer": "ipython3",
   "version": "3.9.12"
  }
 },
 "nbformat": 4,
 "nbformat_minor": 5
}
