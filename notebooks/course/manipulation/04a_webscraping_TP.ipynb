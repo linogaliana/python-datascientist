{
 "cells": [
  {
   "cell_type": "markdown",
<<<<<<< HEAD
   "id": "f8e599d2",
=======
   "id": "fc1b58f8",
>>>>>>> master
   "metadata": {},
   "source": [
    "#  Webscraping avec python\n",
    "\n"
   ]
  },
  {
   "cell_type": "markdown",
<<<<<<< HEAD
   "id": "5fb8fec7",
=======
   "id": "a3b56486",
>>>>>>> master
   "metadata": {},
   "source": [
    "<a href=\"https://github.com/linogaliana/python-datascientist/blob/master//__w/python-datascientist/python-datascientist/notebooks/course/manipulation/04a_webscraping_TP.ipynb\" class=\"github\"><i class=\"fab fa-github\"></i></a>\n",
    "[![Download](https://img.shields.io/badge/Download-Notebook-important?logo=Jupyter)](https://downgit.github.io/#/home?url=https://github.com/linogaliana/python-datascientist/blob/master//__w/python-datascientist/python-datascientist/notebooks/course/manipulation/04a_webscraping_TP.ipynb)\n",
    "[![nbviewer](https://img.shields.io/badge/Visualize-nbviewer-blue?logo=Jupyter)](https://nbviewer.jupyter.org/github/linogaliana/python-datascientist/blob/master//__w/python-datascientist/python-datascientist/notebooks/course/manipulation/04a_webscraping_TP.ipynb)\n",
    "[![Onyxia](https://img.shields.io/badge/SSPcloud-Tester%20via%20SSP--cloud-informational&color=yellow?logo=Python)](https://datalab.sspcloud.fr/launcher/inseefrlab-helm-charts-datascience/jupyter?onyxia.friendlyName=«python-datascientist»&resources.requests.memory=«4Gi»&security.allowlist.enabled=false&init.personalInit=«https://raw.githubusercontent.com/linogaliana/python-datascientist/master/init_onyxia.sh»)\n",
    "[![Binder](https://img.shields.io/badge/Launch-Binder-E66581.svg?logo=data:image/png;base64,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)](https://mybinder.org/v2/gh/linogaliana/python-datascientist/master?filepath=/__w/python-datascientist/python-datascientist/notebooks/course/manipulation/04a_webscraping_TP.ipynb)\n",
    "[![Open In Colab](https://colab.research.google.com/assets/colab-badge.svg)](http://colab.research.google.com/github/linogaliana/python-datascientist/blob/master//__w/python-datascientist/python-datascientist/notebooks/course/manipulation/04a_webscraping_TP.ipynb)\n",
    "\n",
    "Le [webscraping](https://fr.wikipedia.org/wiki/Web_scraping) désigne les techniques d'extraction du contenu des sites internet. C'est une pratique très utile pour toute personne souhaitant travailler sur des informations disponibles en ligne, mais n'existant pas forcément sous la forme d'un tableau *Excel*.\n",
    "\n",
    "Ce TP vous présente comment créer et exécuter des robots afin de recupérer rapidement des informations utiles à vos projets actuels ou futurs.\n",
    "\n",
    "Le *webscraping* a un certain nombre d'enjeux en termes de légalité, qui ne seront pas enseignés dans ce cours mais dans un cours de 3A à l'ENSAE. En particulier, la CNIL a publié en 2020 de nouvelles directives sur le *webscraping* reprécisant que toute donnée ne peut être réutilisée à l'insu de la personne à laquelle ces données appartiennent. \n",
    "\n",
    "Enfin, il est à noter que ce notebook est très fortement inspiré et réadapté à partir de [celui de Xavier Dupré](http://www.xavierdupre.fr/app/ensae_teaching_cs/helpsphinx/notebooks/TD2A_Eco_Web_Scraping.html), l'ancien professeur de la matière."
   ]
  },
  {
   "cell_type": "markdown",
<<<<<<< HEAD
   "id": "8e7ab03d",
=======
   "id": "1804414b",
>>>>>>> master
   "metadata": {},
   "source": [
    "# Un détour par le Web : comment fonctionne un site ?\n",
    "\n",
    "Même si ce TP ne vise pas à faire un cours de web, il vous faut néanmoins certaines bases sur la manière dont un site internet fonctionne afin de comprendre comment sont structurées les informations sur une page.\n",
    "\n",
    "Un site Web est un ensemble de pages codées en *HTML* qui permet de décrire à la fois le contenu et la forme d'une page *Web*.\n",
    "\n",
    "Pour voir cela, ouvrez n'importe quelle page web et faites un clic-droit dessus. \n",
    "- Sous `Chrome` <i class=\"fab fa-chrome\"></i> : Cliquez ensuite sur \"Affichez le code source de la page\" (<kbd>CTRL</kbd>+<kbd>U</kbd>) ;\n",
    "- Sous `Firefox` <i class=\"fab fa-firefox\"></i> : \"Code source de la page\" (<kbd>CTRL</kbd>+<kbd>MAJ</kbd>+<kbd>K</kbd>) ;\n",
    "- Sous `Edge` <i class=\"fab fa-edge\"></i> : \"Affichez la page source\" (<kbd>CTRL</kbd>+<kbd>U</kbd>) ;\n",
    "- Sous `Safari` <i class=\"fab fa-safari\"></i> : voir comment faire [ici](https://fr.wikihow.com/voir-le-code-source)"
   ]
  },
  {
   "cell_type": "markdown",
<<<<<<< HEAD
   "id": "d73ff3db",
=======
   "id": "a6573c3f",
>>>>>>> master
   "metadata": {},
   "source": [
    "## Les balises"
   ]
  },
  {
   "cell_type": "markdown",
<<<<<<< HEAD
   "id": "ca8fa205",
=======
   "id": "88241d69",
>>>>>>> master
   "metadata": {},
   "source": [
    "Sur une page web, vous trouverez toujours à coup sûr des éléments comme ``<head>``, ``<title>``, etc. Il  s'agit des codes qui vous permettent de structurer le contenu d'une page *HTML* et qui s'appellent des **balises**. \n",
    "Citons, par exemple, les balises ``<p>``, ``<h1>``, ``<h2>``, ``<h3>``, ``<strong>`` ou ``<em>``.\n",
    "Le symbole ``< >`` est une balise : il sert à indiquer le début d'une partie. Le symbole ``</ >`` indique la fin de cette partie. La plupart des balises vont par paires, avec une *balise ouvrante* et une *balise fermante* (par exemple ``<p>`` et ``</p>``).\n",
    "\n",
    "### Exemple : les balise des tableaux\n",
    "\n",
    "| Balise      | Description                        |\n",
    "|-------------|------------------------------------|\n",
    "| `<table>`   | Tableau                            |\n",
    "| `<caption>` | Titre du tableau                   |\n",
    "| `<tr>`      | Ligne de tableau                   |\n",
    "| `<th>`      | Cellule d'en-tête                  |\n",
    "| `<td>`      | Cellule                            |\n",
    "| `<thead>`   | Section de l'en-tête du tableau    |\n",
    "| `<tbody>`   | Section du corps du tableau        |\n",
    "| `<tfoot>`   | Section du pied du tableau         |"
   ]
  },
  {
   "cell_type": "markdown",
<<<<<<< HEAD
   "id": "7d9a2861",
=======
   "id": "04454f10",
>>>>>>> master
   "metadata": {},
   "source": [
    "**Application : un tableau en HTML**\n",
    "\n",
    "Le code *HTML* du tableau suivant\n",
    "\n",
    "```{=html}\n",
    "<table>\n",
    "<caption> Le Titre de mon tableau </caption>\n",
    "\n",
    "   <tr>\n",
    "      <th>Prénom</th>\n",
    "      <th>Nom</th>\n",
    "      <th>Profession</th>\n",
    "   </tr>\n",
    "   <tr>\n",
    "      <td>Mike </td>\n",
    "      <td>Stuntman</td>\n",
    "      <td>Cascadeur</td>\n",
    "   </tr>\n",
    "   <tr>\n",
    "      <td>Mister</td>\n",
    "      <td>Pink</td>\n",
    "      <td>Gangster</td>\n",
    "   </tr>\n",
    "</table>\n",
    "```\n",
    "\n",
    "Donnera dans le navigateur :\n",
    "\n",
    "<table>\n",
    "<caption> Le Titre de mon tableau </caption>\n",
    "\n",
    "   <tr>\n",
    "      <th>Prénom</th>\n",
    "      <th>Nom</th>\n",
    "      <th>Profession</th>\n",
    "   </tr>\n",
    "   <tr>\n",
    "      <td>Mike </td>\n",
    "      <td>Stuntman</td>\n",
    "      <td>Cascadeur</td>\n",
    "   </tr>\n",
    "   <tr>\n",
    "      <td>Mister</td>\n",
    "      <td>Pink</td>\n",
    "      <td>Gangster</td>\n",
    "   </tr>\n",
    "</table>"
   ]
  },
  {
   "cell_type": "markdown",
<<<<<<< HEAD
   "id": "356089a6",
=======
   "id": "6ba37d6b",
>>>>>>> master
   "metadata": {},
   "source": [
    "### Parent et enfant\n",
    "\n",
    "Dans le cadre du langage HTML, les termes de parent (*parent*) et enfant (*child*) servent à désigner des élements emboîtés les uns dans les autres. Dans la construction suivante, par exemple :\n",
    "\n",
    "```{=html}\n",
    "< div> \n",
    "    < p>\n",
    "       bla,bla\n",
    "    < /p>\n",
    "< /div>\n",
    "```\n",
    "\n",
    "Sur la page web, cela apparaitra de la manière suivante : \n",
    "\n",
    "<div> \n",
    "    <p>\n",
    "       bla,bla\n",
    "    </p>\n",
    "</div>"
   ]
  },
  {
   "cell_type": "markdown",
<<<<<<< HEAD
   "id": "19600d7c",
=======
   "id": "38e020f4",
>>>>>>> master
   "metadata": {},
   "source": [
    "On dira que l'élément ``<div>`` est le parent de l'élément ``<p>`` tandis que l'élément ``<p>`` est l'enfant de l'élément ``<div>``.\n"
   ]
  },
  {
   "cell_type": "markdown",
<<<<<<< HEAD
   "id": "6f9617f4",
=======
   "id": "38ec06bc",
>>>>>>> master
   "metadata": {},
   "source": [
    ":comment: *Mais pourquoi apprendre ça pour \"scraper\", me direz-vous ?*\n",
    "\n",
    "Parce que, pour bien récupérer les informations d'un site internet, il faut pouvoir comprendre sa structure et donc son code HTML. Les fonctions python qui servent au scraping sont principalement construites pour vous permettre de naviguer entre les balises."
   ]
  },
  {
   "cell_type": "markdown",
<<<<<<< HEAD
   "id": "0f2d2e7f",
=======
   "id": "4c969c40",
>>>>>>> master
   "metadata": {},
   "source": [
    "# Scraper avec python: le package `BeautifulSoup`\n",
    "\n",
    "## Les packages disponibles\n",
    "\n",
    "Nous allons essentiellement utiliser le package [BeautifulSoup4](https://www.crummy.com/software/BeautifulSoup/bs4/doc/) pour ce cours, mais d'autres packages existent (Selenium, Scrapy...). Il s'utilise souvent en conjonction avec\n",
    "[urllib](https://docs.python.org/3/library/urllib.html#module-urllib)\n",
    "\n",
    "`BeautifulSoup` sera suffisant quand vous voudrez travailler sur des pages HTML statiques. Dès que les informations que vous recherchez sont générées via l'exécution de scripts [Javascript](https://fr.wikipedia.org/wiki/JavaScript), il vous faudra passer par des outils comme [Selenium](https://selenium-python.readthedocs.io/).\n",
    "\n",
    "De même, si vous ne connaissez pas l'URL, il faudra passer par un framework comme [Scrapy](https://scrapy.org/), qui passe facilement d'une page à une autre (\"crawl\"). Scrapy est plus complexe à manipuler que BeautifulSoup : si vous voulez plus de détails, rendez-vous sur la page du [tutoriel Scrapy](https://doc.scrapy.org/en/latest/intro/tutorial.html).\n",
    "\n",
    "Le *webscraping* est un domaine où la reproductibilité est compliquée à mettre en oeuvre. Une page *web* évolue\n",
    "potentiellement régulièrement et d'une page web à l'autre, la structure peut\n",
    "être très différente ce qui rend certains codes difficilement exportables.\n",
    "Par conséquent, la meilleure manière d'avoir un programme fonctionnel est\n",
    "de comprendre la structure d'une page web et dissocier les éléments exportables\n",
    "à d'autres cas d'usages des requêtes *ad hoc*. \n",
    "\n",
    "\n"
   ]
  },
  {
   "cell_type": "code",
   "execution_count": null,
<<<<<<< HEAD
   "id": "b19c7f96",
=======
   "id": "3b2b3295",
>>>>>>> master
   "metadata": {},
   "outputs": [],
   "source": [
    "import urllib\n",
    "import bs4\n",
    "import pandas\n",
    "from urllib import request"
   ]
  },
  {
   "cell_type": "markdown",
<<<<<<< HEAD
   "id": "14344910",
=======
   "id": "cb02c7bc",
>>>>>>> master
   "metadata": {},
   "source": [
    "## Récupérer le contenu d'une page HTML\n",
    "\n",
    "On va commencer doucement. Prenons une page wikipedia, par exemple celle de la Ligue 1 de football : [Championnat de France de football 2019-2020](https://fr.wikipedia.org/wiki/Championnat_de_France_de_football_2019-2020). On va souhaiter récupérer la liste des équipes, ainsi que les url des pages Wikipedia de ces équipes.\n"
   ]
  },
  {
   "cell_type": "code",
   "execution_count": null,
<<<<<<< HEAD
   "id": "3ff8e8d4",
=======
   "id": "f918af09",
>>>>>>> master
   "metadata": {
    "lines_to_next_cell": 2
   },
   "outputs": [],
   "source": [
    "# Etape 1 : se connecter à la page wikipedia et obtenir le code source\n",
    "\n",
    "url_ligue_1 = \"https://fr.wikipedia.org/wiki/Championnat_de_France_de_football_2019-2020\"\n",
    "    \n",
    "request_text = request.urlopen(url_ligue_1).read()\n",
    "# print(request_text[:1000])    "
   ]
  },
  {
   "cell_type": "code",
   "execution_count": null,
<<<<<<< HEAD
   "id": "9809b0f2",
=======
   "id": "d41ea5b9",
>>>>>>> master
   "metadata": {},
   "outputs": [],
   "source": [
    "type(request_text)"
   ]
  },
  {
   "cell_type": "markdown",
<<<<<<< HEAD
   "id": "3f9f40b2",
=======
   "id": "827c1912",
>>>>>>> master
   "metadata": {},
   "source": [
    "```\n",
    "## <class 'bytes'>\n",
    "```\n"
   ]
  },
  {
   "cell_type": "code",
   "execution_count": null,
<<<<<<< HEAD
   "id": "67a6178e",
=======
   "id": "b39637f6",
>>>>>>> master
   "metadata": {},
   "outputs": [],
   "source": [
    "# Etape 2 : utiliser le package BeautifulSoup\n",
    "# qui \"comprend\" les balises contenues dans la chaine de caractères renvoyée par la fonction request\n",
    "\n",
    "page = bs4.BeautifulSoup(request_text, \"lxml\")\n",
    "\n",
    "#print(page)"
   ]
  },
  {
   "cell_type": "markdown",
<<<<<<< HEAD
   "id": "ca9f0ac2",
=======
   "id": "66dbe8aa",
>>>>>>> master
   "metadata": {},
   "source": [
    "Si on print l'objet, page créée avec BeautifulSoup, on voit que ce n'est plus une chaine de caractères mais bien une page HTML avec des balises. On peut à présent chercher des élements à l'intérieur de ces balises.\n",
    "\n",
    "## La méthode `find`\n",
    "\n",
    "Par exemple, si on veut connaître le titre de la page, on utilise la méthode ``.find`` et on lui demande *\"title\"*\n"
   ]
  },
  {
   "cell_type": "code",
   "execution_count": null,
<<<<<<< HEAD
   "id": "8c58cc34",
=======
   "id": "24b9c0c1",
>>>>>>> master
   "metadata": {},
   "outputs": [],
   "source": [
    "print(page.find(\"title\"))"
   ]
  },
  {
   "cell_type": "markdown",
<<<<<<< HEAD
   "id": "d5c9ed6d",
=======
   "id": "4ed3adeb",
>>>>>>> master
   "metadata": {},
   "source": [
    "```\n",
    "## <title>Championnat de France de football 2019-2020 — Wikipédia</title>\n",
    "```\n",
    "\n",
    "La methode ``.find`` ne renvoie que la première occurence de l'élément. \n",
    "\n",
    "Pour vous en assurer vous pouvez :\n",
    "- copier le bout de code source obtenu, \n",
    "- le coller  dans une cellule de votre notebook\n",
    "- et passer la cellule en \"Markdown\""
   ]
  },
  {
   "cell_type": "markdown",
<<<<<<< HEAD
   "id": "58694ce0",
=======
   "id": "36bf17e2",
>>>>>>> master
   "metadata": {},
   "source": [
    "La cellule avec le copier-coller du code source donne : \n"
   ]
  },
  {
   "cell_type": "code",
   "execution_count": null,
<<<<<<< HEAD
   "id": "b9ab04b0",
=======
   "id": "03b71bec",
>>>>>>> master
   "metadata": {},
   "outputs": [],
   "source": [
    "print(page.find(\"table\"))"
   ]
  },
  {
   "cell_type": "markdown",
<<<<<<< HEAD
   "id": "c3d5e219",
=======
   "id": "9b1f5e9e",
>>>>>>> master
   "metadata": {},
   "source": [
    "```\n",
    "## <table><caption style=\"background:#99cc99;color:#000000;\">Généralités</caption><tbody><tr>\n",
    "## <th scope=\"row\" style=\"width:10.5em;\">Sport</th>\n",
    "## <td>\n",
    "## <a href=\"/wiki/Football\" title=\"Football\">Football</a></td>\n",
    "## </tr>\n",
    "## <tr>\n",
    "## <th scope=\"row\" style=\"width:10.5em;\">Organisateur(s)</th>\n",
    "## <td>\n",
    "## <a href=\"/wiki/Ligue_de_football_professionnel\" title=\"Ligue de football professionnel\">LFP</a></td>\n",
    "## </tr>\n",
    "## <tr>\n",
    "## <th scope=\"row\" style=\"width:10.5em;\">Édition</th>\n",
    "## <td>\n",
    "## <abbr class=\"abbr\" title=\"Quatre-vingt-deuxième (huitante-deuxième / octante-deuxième)\">82<sup>e</sup></abbr></td>\n",
    "## </tr>\n",
    "## <tr>\n",
    "## <th scope=\"row\" style=\"width:10.5em;\">Lieu(x)</th>\n",
    "## <td>\n",
    "## <span class=\"datasortkey\" data-sort-value=\"France\"><span class=\"flagicon\"><a class=\"image\" href=\"/wiki/Fichier:Flag_of_France.svg\" title=\"Drapeau de la France\"><img alt=\"Drapeau de la France\" class=\"noviewer thumbborder\" data-file-height=\"600\" data-file-width=\"900\" decoding=\"async\" height=\"13\" src=\"//upload.wikimedia.org/wikipedia/commons/thumb/c/c3/Flag_of_France.svg/20px-Flag_of_France.svg.png\" srcset=\"//upload.wikimedia.org/wikipedia/commons/thumb/c/c3/Flag_of_France.svg/30px-Flag_of_France.svg.png 1.5x, //upload.wikimedia.org/wikipedia/commons/thumb/c/c3/Flag_of_France.svg/40px-Flag_of_France.svg.png 2x\" width=\"20\"/></a> </span><a href=\"/wiki/France\" title=\"France\">France</a></span> et <br/><span class=\"datasortkey\" data-sort-value=\"Monaco\"><span class=\"flagicon\"><a class=\"image\" href=\"/wiki/Fichier:Flag_of_Monaco.svg\" title=\"Drapeau de Monaco\"><img alt=\"Drapeau de Monaco\" class=\"noviewer thumbborder\" data-file-height=\"800\" data-file-width=\"1000\" decoding=\"async\" height=\"16\" src=\"//upload.wikimedia.org/wikipedia/commons/thumb/e/ea/Flag_of_Monaco.svg/20px-Flag_of_Monaco.svg.png\" srcset=\"//upload.wikimedia.org/wikipedia/commons/thumb/e/ea/Flag_of_Monaco.svg/30px-Flag_of_Monaco.svg.png 1.5x, //upload.wikimedia.org/wikipedia/commons/thumb/e/ea/Flag_of_Monaco.svg/40px-Flag_of_Monaco.svg.png 2x\" width=\"20\"/></a> </span><a href=\"/wiki/Monaco\" title=\"Monaco\">Monaco</a></span></td>\n",
    "## </tr>\n",
    "## <tr>\n",
    "## <th scope=\"row\" style=\"width:10.5em;\">Date</th>\n",
    "## <td>\n",
    "## Du <time class=\"nowrap date-lien\" data-sort-value=\"2019-08-09\" datetime=\"2019-08-09\"><a href=\"/wiki/9_ao%C3%BBt_en_sport\" title=\"9 août en sport\">9</a> <a class=\"mw-redirect\" href=\"/wiki/Ao%C3%BBt_2019_en_sport\" title=\"Août 2019 en sport\">août</a> <a href=\"/wiki/2019_en_football\" title=\"2019 en football\">2019</a></time><br/>au <time class=\"nowrap date-lien\" data-sort-value=\"2020-03-08\" datetime=\"2020-03-08\"><a href=\"/wiki/8_mars_en_sport\" title=\"8 mars en sport\">8 mars</a> <a href=\"/wiki/2020_en_football\" title=\"2020 en football\">2020</a></time> <small>(arrêt définitif)</small></td>\n",
    "## </tr>\n",
    "## <tr>\n",
    "## <th scope=\"row\" style=\"width:10.5em;\">Participants</th>\n",
    "## <td>\n",
    "## 20 équipes</td>\n",
    "## </tr>\n",
    "## <tr>\n",
    "## <th scope=\"row\" style=\"width:10.5em;\">Matchs joués</th>\n",
    "## <td>\n",
    "## 279 (sur 380 prévus)</td>\n",
    "## </tr>\n",
    "## <tr>\n",
    "## <th scope=\"row\" style=\"width:10.5em;\">Site web officiel</th>\n",
    "## <td>\n",
    "## <a class=\"external text\" href=\"https://www.ligue1.fr/\" rel=\"nofollow\">Site officiel</a></td>\n",
    "## </tr></tbody></table>\n",
    "```\n",
    "\n",
    "ce qui est le texte source permettant de générer le tableau suivant:\n"
   ]
  },
  {
   "cell_type": "code",
   "execution_count": null,
<<<<<<< HEAD
   "id": "20894c4a",
=======
   "id": "49b62c7f",
>>>>>>> master
   "metadata": {},
   "outputs": [],
   "source": [
    "page.find(\"table\")"
   ]
  },
  {
   "cell_type": "markdown",
<<<<<<< HEAD
   "id": "2bd9d00c",
=======
   "id": "fcf739cb",
>>>>>>> master
   "metadata": {},
   "source": [
    "<table><caption style=\"background:#99cc99;color:#000000;\">Généralités</caption><tbody><tr>\n",
    "<th scope=\"row\" style=\"width:10.5em;\">Sport</th>\n",
    "<td>\n",
    "<a href=\"/wiki/Football\" title=\"Football\">Football</a></td>\n",
    "</tr>\n",
    "<tr>\n",
    "<th scope=\"row\" style=\"width:10.5em;\">Organisateur(s)</th>\n",
    "<td>\n",
    "<a href=\"/wiki/Ligue_de_football_professionnel\" title=\"Ligue de football professionnel\">LFP</a></td>\n",
    "</tr>\n",
    "<tr>\n",
    "<th scope=\"row\" style=\"width:10.5em;\">Édition</th>\n",
    "<td>\n",
    "<abbr class=\"abbr\" title=\"Quatre-vingt-deuxième (huitante-deuxième / octante-deuxième)\">82<sup>e</sup></abbr></td>\n",
    "</tr>\n",
    "<tr>\n",
    "<th scope=\"row\" style=\"width:10.5em;\">Lieu(x)</th>\n",
    "<td>\n",
    "<span class=\"datasortkey\" data-sort-value=\"France\"><span class=\"flagicon\"><a class=\"image\" href=\"/wiki/Fichier:Flag_of_France.svg\" title=\"Drapeau de la France\"><img alt=\"Drapeau de la France\" class=\"noviewer thumbborder\" data-file-height=\"600\" data-file-width=\"900\" decoding=\"async\" height=\"13\" src=\"//upload.wikimedia.org/wikipedia/commons/thumb/c/c3/Flag_of_France.svg/20px-Flag_of_France.svg.png\" srcset=\"//upload.wikimedia.org/wikipedia/commons/thumb/c/c3/Flag_of_France.svg/30px-Flag_of_France.svg.png 1.5x, //upload.wikimedia.org/wikipedia/commons/thumb/c/c3/Flag_of_France.svg/40px-Flag_of_France.svg.png 2x\" width=\"20\"/></a> </span><a href=\"/wiki/France\" title=\"France\">France</a></span> et <br/><span class=\"datasortkey\" data-sort-value=\"Monaco\"><span class=\"flagicon\"><a class=\"image\" href=\"/wiki/Fichier:Flag_of_Monaco.svg\" title=\"Drapeau de Monaco\"><img alt=\"Drapeau de Monaco\" class=\"noviewer thumbborder\" data-file-height=\"800\" data-file-width=\"1000\" decoding=\"async\" height=\"16\" src=\"//upload.wikimedia.org/wikipedia/commons/thumb/e/ea/Flag_of_Monaco.svg/20px-Flag_of_Monaco.svg.png\" srcset=\"//upload.wikimedia.org/wikipedia/commons/thumb/e/ea/Flag_of_Monaco.svg/30px-Flag_of_Monaco.svg.png 1.5x, //upload.wikimedia.org/wikipedia/commons/thumb/e/ea/Flag_of_Monaco.svg/40px-Flag_of_Monaco.svg.png 2x\" width=\"20\"/></a> </span><a href=\"/wiki/Monaco\" title=\"Monaco\">Monaco</a></span></td>\n",
    "</tr>\n",
    "<tr>\n",
    "<th scope=\"row\" style=\"width:10.5em;\">Date</th>\n",
    "<td>\n",
    "Du <time class=\"nowrap date-lien\" data-sort-value=\"2019-08-09\" datetime=\"2019-08-09\"><a href=\"/wiki/9_ao%C3%BBt_en_sport\" title=\"9 août en sport\">9</a> <a class=\"mw-redirect\" href=\"/wiki/Ao%C3%BBt_2019_en_sport\" title=\"Août 2019 en sport\">août</a> <a href=\"/wiki/2019_en_football\" title=\"2019 en football\">2019</a></time><br/>au <time class=\"nowrap date-lien\" data-sort-value=\"2020-03-08\" datetime=\"2020-03-08\"><a href=\"/wiki/8_mars_en_sport\" title=\"8 mars en sport\">8 mars</a> <a href=\"/wiki/2020_en_football\" title=\"2020 en football\">2020</a></time> <small>(arrêt définitif)</small></td>\n",
    "</tr>\n",
    "<tr>\n",
    "<th scope=\"row\" style=\"width:10.5em;\">Participants</th>\n",
    "<td>\n",
    "20 équipes</td>\n",
    "</tr>\n",
    "<tr>\n",
    "<th scope=\"row\" style=\"width:10.5em;\">Matchs joués</th>\n",
    "<td>\n",
    "279 (sur 380 prévus)</td>\n",
    "</tr>\n",
    "<tr>\n",
    "<th scope=\"row\" style=\"width:10.5em;\">Site web officiel</th>\n",
    "<td>\n",
    "<a class=\"external text\" href=\"https://www.ligue1.fr/\" rel=\"nofollow\">Site officiel</a></td>\n",
    "</tr></tbody></table>"
   ]
  },
  {
   "cell_type": "markdown",
<<<<<<< HEAD
   "id": "3db032cc",
=======
   "id": "4997c513",
>>>>>>> master
   "metadata": {},
   "source": [
    "## La méthode `findAll`\n",
    "\n",
    "Pour trouver toutes les occurences, on utilise ``.findAll()``.\n"
   ]
  },
  {
   "cell_type": "code",
   "execution_count": null,
<<<<<<< HEAD
   "id": "bc47af36",
=======
   "id": "8a76febc",
>>>>>>> master
   "metadata": {},
   "outputs": [],
   "source": [
    "print(\"Il y a\", len(page.findAll(\"table\")), \"éléments dans la page qui sont des <table>\")"
   ]
  },
  {
   "cell_type": "markdown",
<<<<<<< HEAD
   "id": "3872bff6",
=======
   "id": "bfee1596",
>>>>>>> master
   "metadata": {},
   "source": [
    "```\n",
    "## Il y a 34 éléments dans la page qui sont des <table>\n",
    "```"
   ]
  },
  {
   "cell_type": "markdown",
<<<<<<< HEAD
   "id": "c25b9a3a",
=======
   "id": "0113518c",
>>>>>>> master
   "metadata": {},
   "source": [
    "# Exercice guidé : obtenir la liste des équipes de Ligue 1\n",
    "\n",
    "Dans le premier paragraphe de la page \"Participants\", on a le tableau avec les résultats de l'année. "
   ]
  },
  {
   "cell_type": "markdown",
<<<<<<< HEAD
   "id": "0842c6bf",
=======
   "id": "55bf950d",
>>>>>>> master
   "metadata": {},
   "source": [
    "Le but est de récupérer les informations contenues dans ce tableau. \n",
    "\n",
    "Pour cela, nous allons procéder en 6 étapes:\n",
    "\n",
    "1. Trouver le tableau\n",
    "2. Récupérer chaque ligne du table\n",
    "3. Nettoyer les sorties en ne gardant que le texte sur une ligne\n",
    "4. Généraliser sur toutes les lignes\n",
    "5. Récupérer les entêtes du tableau\n",
    "6. Finalisation du tableau"
   ]
  },
  {
   "cell_type": "markdown",
<<<<<<< HEAD
   "id": "1b91fb7d",
=======
   "id": "d5b66f6c",
>>>>>>> master
   "metadata": {},
   "source": [
    ":one:\n",
    "Trouver le tableau\n"
   ]
  },
  {
   "cell_type": "code",
   "execution_count": null,
<<<<<<< HEAD
   "id": "17ec565b",
=======
   "id": "7cdec514",
>>>>>>> master
   "metadata": {},
   "outputs": [],
   "source": [
    "# on identifie le tableau en question : c'est le premier qui a cette classe \"wikitable sortable\"\n",
    "tableau_participants = page.find('table', {'class' : 'wikitable sortable'})\n",
    "tableau_participants"
   ]
  },
  {
   "cell_type": "markdown",
<<<<<<< HEAD
   "id": "70151911",
=======
   "id": "41b3f4a9",
>>>>>>> master
   "metadata": {},
   "source": [
    "<table class=\"wikitable sortable\" style=\"font-size:90%;line-height:15px;text-align:center\">\n",
    "<tbody><tr>\n",
    "<th scope=\"col\">Club\n",
    "</th>\n",
    "<th scope=\"col\">Dernière<br/>montée\n",
    "</th>\n",
    "<th scope=\"col\">Budget<sup class=\"reference\" id=\"cite_ref-3\"><a href=\"#cite_note-3\"><span class=\"cite_crochet\">[</span>3<span class=\"cite_crochet\">]</span></a></sup><br/>en M<a href=\"/wiki/Euro\" title=\"Euro\">€</a>\n",
    "</th>\n",
    "<th scope=\"col\">Classement<br/><a href=\"/wiki/Championnat_de_France_de_football_2018-2019\" title=\"Championnat de France de football 2018-2019\">2018-2019</a>\n",
    "</th>\n",
    "<th scope=\"col\">Entraîneur\n",
    "</th>\n",
    "<th scope=\"col\">Depuis\n",
    "</th>\n",
    "<th scope=\"col\">Stade\n",
    "</th>\n",
    "<th scope=\"col\">Capacité<br/>en L1<sup class=\"reference\" id=\"cite_ref-4\"><a href=\"#cite_note-4\"><span class=\"cite_crochet\">[</span>4<span class=\"cite_crochet\">]</span></a></sup>\n",
    "</th>\n",
    "<th scope=\"col\">Nombre<br/>de saisons<br/>en L1\n",
    "</th></tr>\n",
    "<tr bgcolor=\"#97DEFF\">\n",
    "<td><a href=\"/wiki/Paris_Saint-Germain_Football_Club\" title=\"Paris Saint-Germain Football Club\">Paris Saint-Germain</a>\n",
    "</td>\n",
    "<td>1974\n",
    "</td>\n",
    "<td>637\n",
    "</td>\n",
    "<td><span data-sort-value=\"101 !\"></span><abbr class=\"abbr\" title=\"Premier\">1<sup>er</sup></abbr>\n",
    "</td>\n",
    "<td align=\"left\"><span class=\"flagicon\"><a class=\"image\" href=\"/wiki/Fichier:Flag_of_Germany.svg\" title=\"Drapeau : Allemagne\"><img alt=\"\" class=\"noviewer thumbborder\" data-file-height=\"600\" data-file-width=\"1000\" decoding=\"async\" height=\"12\" src=\"//upload.wikimedia.org/wikipedia/commons/thumb/b/ba/Flag_of_Germany.svg/20px-Flag_of_Germany.svg.png\" srcset=\"//upload.wikimedia.org/wikipedia/commons/thumb/b/ba/Flag_of_Germany.svg/30px-Flag_of_Germany.svg.png 1.5x, //upload.wikimedia.org/wikipedia/commons/thumb/b/ba/Flag_of_Germany.svg/40px-Flag_of_Germany.svg.png 2x\" width=\"20\"/></a></span> <a href=\"/wiki/Thomas_Tuchel\" title=\"Thomas Tuchel\">Thomas Tuchel</a>\n",
    "</td>\n",
    "<td>2018\n",
    "</td>\n",
    "<td><a href=\"/wiki/Parc_des_Princes\" title=\"Parc des Princes\">Parc des Princes</a>\n",
    "</td>\n",
    "<td>47 929\n",
    "</td>\n",
    "<td>46\n",
    "</td></tr>\n",
    "<tr bgcolor=\"#97DEFF\">\n",
    "<td><a href=\"/wiki/LOSC_Lille\" title=\"LOSC Lille\">LOSC Lille</a>\n",
    "</td>\n",
    "<td>2000\n",
    "</td>\n",
    "<td>120\n",
    "</td>\n",
    "<td><span data-sort-value=\"102 !\"></span><abbr class=\"abbr\" title=\"Deuxième\">2<sup>e</sup></abbr>\n",
    "</td>\n",
    "<td align=\"left\"><span class=\"flagicon\"><a class=\"image\" href=\"/wiki/Fichier:Flag_of_France.svg\" title=\"Drapeau : France\"><img alt=\"\" class=\"noviewer thumbborder\" data-file-height=\"600\" data-file-width=\"900\" decoding=\"async\" height=\"13\" src=\"//upload.wikimedia.org/wikipedia/commons/thumb/c/c3/Flag_of_France.svg/20px-Flag_of_France.svg.png\" srcset=\"//upload.wikimedia.org/wikipedia/commons/thumb/c/c3/Flag_of_France.svg/30px-Flag_of_France.svg.png 1.5x, //upload.wikimedia.org/wikipedia/commons/thumb/c/c3/Flag_of_France.svg/40px-Flag_of_France.svg.png 2x\" width=\"20\"/></a></span> <a href=\"/wiki/Christophe_Galtier\" title=\"Christophe Galtier\">Christophe Galtier</a>\n",
    "</td>\n",
    "<td>2017\n",
    "</td>\n",
    "<td><a href=\"/wiki/Stade_Pierre-Mauroy\" title=\"Stade Pierre-Mauroy\">Stade Pierre-Mauroy</a>\n",
    "</td>\n",
    "<td>49 712\n",
    "</td>\n",
    "<td>59\n",
    "</td></tr>\n",
    "<tr bgcolor=\"#97DEFF\">\n",
    "<td><a href=\"/wiki/Olympique_lyonnais\" title=\"Olympique lyonnais\">Olympique lyonnais</a>\n",
    "</td>\n",
    "<td>1989\n",
    "</td>\n",
    "<td>310\n",
    "</td>\n",
    "<td><span data-sort-value=\"103 !\"></span><abbr class=\"abbr\" title=\"Troisième\">3<sup>e</sup></abbr>\n",
    "</td>\n",
    "<td align=\"left\"><span class=\"flagicon\"><a class=\"image\" href=\"/wiki/Fichier:Flag_of_France.svg\" title=\"Drapeau : France\"><img alt=\"\" class=\"noviewer thumbborder\" data-file-height=\"600\" data-file-width=\"900\" decoding=\"async\" height=\"13\" src=\"//upload.wikimedia.org/wikipedia/commons/thumb/c/c3/Flag_of_France.svg/20px-Flag_of_France.svg.png\" srcset=\"//upload.wikimedia.org/wikipedia/commons/thumb/c/c3/Flag_of_France.svg/30px-Flag_of_France.svg.png 1.5x, //upload.wikimedia.org/wikipedia/commons/thumb/c/c3/Flag_of_France.svg/40px-Flag_of_France.svg.png 2x\" width=\"20\"/></a></span> <a href=\"/wiki/Rudi_Garcia\" title=\"Rudi Garcia\">Rudi Garcia</a>\n",
    "</td>\n",
    "<td>2019\n",
    "</td>\n",
    "<td><a href=\"/wiki/Parc_Olympique_lyonnais\" title=\"Parc Olympique lyonnais\">Groupama Stadium</a>\n",
    "</td>\n",
    "<td>57 206\n",
    "</td>\n",
    "<td>60\n",
    "</td></tr>\n",
    "<tr bgcolor=\"#FFE052\">\n",
    "<td><a href=\"/wiki/Association_sportive_de_Saint-%C3%89tienne\" title=\"Association sportive de Saint-Étienne\">AS Saint-Étienne</a>\n",
    "</td>\n",
    "<td>2004\n",
    "</td>\n",
    "<td>100\n",
    "</td>\n",
    "<td><span data-sort-value=\"104 !\"></span><abbr class=\"abbr\" title=\"Quatrième\">4<sup>e</sup></abbr>\n",
    "</td>\n",
    "<td align=\"left\"><span class=\"flagicon\"><a class=\"image\" href=\"/wiki/Fichier:Flag_of_France.svg\" title=\"Drapeau : France\"><img alt=\"\" class=\"noviewer thumbborder\" data-file-height=\"600\" data-file-width=\"900\" decoding=\"async\" height=\"13\" src=\"//upload.wikimedia.org/wikipedia/commons/thumb/c/c3/Flag_of_France.svg/20px-Flag_of_France.svg.png\" srcset=\"//upload.wikimedia.org/wikipedia/commons/thumb/c/c3/Flag_of_France.svg/30px-Flag_of_France.svg.png 1.5x, //upload.wikimedia.org/wikipedia/commons/thumb/c/c3/Flag_of_France.svg/40px-Flag_of_France.svg.png 2x\" width=\"20\"/></a></span> <a href=\"/wiki/Claude_Puel\" title=\"Claude Puel\">Claude Puel</a>\n",
    "</td>\n",
    "<td>2019\n",
    "</td>\n",
    "<td><a href=\"/wiki/Stade_Geoffroy-Guichard\" title=\"Stade Geoffroy-Guichard\">Stade Geoffroy-Guichard</a>\n",
    "</td>\n",
    "<td>41 965\n",
    "</td>\n",
    "<td>66\n",
    "</td></tr>\n",
    "<tr>\n",
    "<td><a href=\"/wiki/Olympique_de_Marseille\" title=\"Olympique de Marseille\">Olympique de Marseille</a>\n",
    "</td>\n",
    "<td>1996\n",
    "</td>\n",
    "<td>110\n",
    "</td>\n",
    "<td><span data-sort-value=\"105 !\"></span><abbr class=\"abbr\" title=\"Cinquième\">5<sup>e</sup></abbr>\n",
    "</td>\n",
    "<td align=\"left\"><span class=\"flagicon\"><a class=\"image\" href=\"/wiki/Fichier:Flag_of_Portugal.svg\" title=\"Drapeau : Portugal\"><img alt=\"\" class=\"noviewer thumbborder\" data-file-height=\"400\" data-file-width=\"600\" decoding=\"async\" height=\"13\" src=\"//upload.wikimedia.org/wikipedia/commons/thumb/5/5c/Flag_of_Portugal.svg/20px-Flag_of_Portugal.svg.png\" srcset=\"//upload.wikimedia.org/wikipedia/commons/thumb/5/5c/Flag_of_Portugal.svg/30px-Flag_of_Portugal.svg.png 1.5x, //upload.wikimedia.org/wikipedia/commons/thumb/5/5c/Flag_of_Portugal.svg/40px-Flag_of_Portugal.svg.png 2x\" width=\"20\"/></a></span> <a href=\"/wiki/Andr%C3%A9_Villas-Boas\" title=\"André Villas-Boas\">André Villas-Boas</a>\n",
    "</td>\n",
    "<td>2019\n",
    "</td>\n",
    "<td><a href=\"/wiki/Stade_V%C3%A9lodrome\" title=\"Stade Vélodrome\">Orange Vélodrome</a>\n",
    "</td>\n",
    "<td>66 226\n",
    "</td>\n",
    "<td>69\n",
    "</td></tr>\n",
    "<tr>\n",
    "<td><a href=\"/wiki/Montpellier_H%C3%A9rault_Sport_Club\" title=\"Montpellier Hérault Sport Club\">Montpellier HSC</a>\n",
    "</td>\n",
    "<td>2009\n",
    "</td>\n",
    "<td>40\n",
    "</td>\n",
    "<td><span data-sort-value=\"106 !\"></span><abbr class=\"abbr\" title=\"Sixième\">6<sup>e</sup></abbr>\n",
    "</td>\n",
    "<td align=\"left\"><span class=\"flagicon\"><a class=\"image\" href=\"/wiki/Fichier:Flag_of_Armenia.svg\" title=\"Drapeau : Arménie\"><img alt=\"\" class=\"noviewer thumbborder\" data-file-height=\"600\" data-file-width=\"1200\" decoding=\"async\" height=\"10\" src=\"//upload.wikimedia.org/wikipedia/commons/thumb/2/2f/Flag_of_Armenia.svg/20px-Flag_of_Armenia.svg.png\" srcset=\"//upload.wikimedia.org/wikipedia/commons/thumb/2/2f/Flag_of_Armenia.svg/30px-Flag_of_Armenia.svg.png 1.5x, //upload.wikimedia.org/wikipedia/commons/thumb/2/2f/Flag_of_Armenia.svg/40px-Flag_of_Armenia.svg.png 2x\" width=\"20\"/></a></span><span class=\"flagicon\"><a class=\"image\" href=\"/wiki/Fichier:Flag_of_France.svg\" title=\"Drapeau : France\"><img alt=\"\" class=\"noviewer thumbborder\" data-file-height=\"600\" data-file-width=\"900\" decoding=\"async\" height=\"13\" src=\"//upload.wikimedia.org/wikipedia/commons/thumb/c/c3/Flag_of_France.svg/20px-Flag_of_France.svg.png\" srcset=\"//upload.wikimedia.org/wikipedia/commons/thumb/c/c3/Flag_of_France.svg/30px-Flag_of_France.svg.png 1.5x, //upload.wikimedia.org/wikipedia/commons/thumb/c/c3/Flag_of_France.svg/40px-Flag_of_France.svg.png 2x\" width=\"20\"/></a></span> <a href=\"/wiki/Michel_Der_Zakarian\" title=\"Michel Der Zakarian\">Michel Der Zakarian</a>\n",
    "</td>\n",
    "<td>2017\n",
    "</td>\n",
    "<td><a href=\"/wiki/Stade_de_la_Mosson\" title=\"Stade de la Mosson\">Stade de la Mosson</a>\n",
    "</td>\n",
    "<td>22 000\n",
    "</td>\n",
    "<td>27\n",
    "</td></tr>\n",
    "<tr>\n",
    "<td><a href=\"/wiki/Olympique_Gymnaste_Club_Nice\" title=\"Olympique Gymnaste Club Nice\">OGC Nice</a>\n",
    "</td>\n",
    "<td>2002\n",
    "</td>\n",
    "<td>50\n",
    "</td>\n",
    "<td><span data-sort-value=\"107 !\"></span><abbr class=\"abbr\" title=\"Septième\">7<sup>e</sup></abbr>\n",
    "</td>\n",
    "<td align=\"left\"><span class=\"flagicon\"><a class=\"image\" href=\"/wiki/Fichier:Flag_of_France.svg\" title=\"Drapeau : France\"><img alt=\"\" class=\"noviewer thumbborder\" data-file-height=\"600\" data-file-width=\"900\" decoding=\"async\" height=\"13\" src=\"//upload.wikimedia.org/wikipedia/commons/thumb/c/c3/Flag_of_France.svg/20px-Flag_of_France.svg.png\" srcset=\"//upload.wikimedia.org/wikipedia/commons/thumb/c/c3/Flag_of_France.svg/30px-Flag_of_France.svg.png 1.5x, //upload.wikimedia.org/wikipedia/commons/thumb/c/c3/Flag_of_France.svg/40px-Flag_of_France.svg.png 2x\" width=\"20\"/></a></span> <a href=\"/wiki/Patrick_Vieira\" title=\"Patrick Vieira\">Patrick Vieira</a>\n",
    "</td>\n",
    "<td>2018\n",
    "</td>\n",
    "<td><a href=\"/wiki/Allianz_Riviera\" title=\"Allianz Riviera\">Allianz Riviera</a>\n",
    "</td>\n",
    "<td>35 596\n",
    "</td>\n",
    "<td>60\n",
    "</td></tr>\n",
    "<tr>\n",
    "<td><a href=\"/wiki/Stade_de_Reims\" title=\"Stade de Reims\">Stade de Reims</a>\n",
    "</td>\n",
    "<td>2018\n",
    "</td>\n",
    "<td>45\n",
    "</td>\n",
    "<td><span data-sort-value=\"108 !\"></span><abbr class=\"abbr\" title=\"Huitième\">8<sup>e</sup></abbr>\n",
    "</td>\n",
    "<td align=\"left\"><span class=\"flagicon\"><a class=\"image\" href=\"/wiki/Fichier:Flag_of_France.svg\" title=\"Drapeau : France\"><img alt=\"\" class=\"noviewer thumbborder\" data-file-height=\"600\" data-file-width=\"900\" decoding=\"async\" height=\"13\" src=\"//upload.wikimedia.org/wikipedia/commons/thumb/c/c3/Flag_of_France.svg/20px-Flag_of_France.svg.png\" srcset=\"//upload.wikimedia.org/wikipedia/commons/thumb/c/c3/Flag_of_France.svg/30px-Flag_of_France.svg.png 1.5x, //upload.wikimedia.org/wikipedia/commons/thumb/c/c3/Flag_of_France.svg/40px-Flag_of_France.svg.png 2x\" width=\"20\"/></a></span> <a href=\"/wiki/David_Guion\" title=\"David Guion\">David Guion</a>\n",
    "</td>\n",
    "<td>2017\n",
    "</td>\n",
    "<td><a href=\"/wiki/Stade_Auguste-Delaune\" title=\"Stade Auguste-Delaune\">Stade Auguste-Delaune</a>\n",
    "</td>\n",
    "<td>20 546\n",
    "</td>\n",
    "<td>35\n",
    "</td></tr>\n",
    "<tr>\n",
    "<td><a href=\"/wiki/N%C3%AEmes_Olympique\" title=\"Nîmes Olympique\">Nîmes Olympique</a>\n",
    "</td>\n",
    "<td>2018\n",
    "</td>\n",
    "<td>27\n",
    "</td>\n",
    "<td><span data-sort-value=\"109 !\"></span><abbr class=\"abbr\" title=\"Neuvième\">9<sup>e</sup></abbr>\n",
    "</td>\n",
    "<td align=\"left\"><span class=\"flagicon\"><a class=\"image\" href=\"/wiki/Fichier:Flag_of_France.svg\" title=\"Drapeau : France\"><img alt=\"\" class=\"noviewer thumbborder\" data-file-height=\"600\" data-file-width=\"900\" decoding=\"async\" height=\"13\" src=\"//upload.wikimedia.org/wikipedia/commons/thumb/c/c3/Flag_of_France.svg/20px-Flag_of_France.svg.png\" srcset=\"//upload.wikimedia.org/wikipedia/commons/thumb/c/c3/Flag_of_France.svg/30px-Flag_of_France.svg.png 1.5x, //upload.wikimedia.org/wikipedia/commons/thumb/c/c3/Flag_of_France.svg/40px-Flag_of_France.svg.png 2x\" width=\"20\"/></a></span> <a href=\"/wiki/Bernard_Blaquart\" title=\"Bernard Blaquart\">Bernard Blaquart</a>\n",
    "</td>\n",
    "<td>2015\n",
    "</td>\n",
    "<td><a href=\"/wiki/Stade_des_Costi%C3%A8res\" title=\"Stade des Costières\">Stade des Costières</a>\n",
    "</td>\n",
    "<td>15 788\n",
    "</td>\n",
    "<td>35\n",
    "</td></tr>\n",
    "<tr bgcolor=\"#FFE052\">\n",
    "<td><a class=\"mw-redirect\" href=\"/wiki/Stade_rennais_football_club\" title=\"Stade rennais football club\">Stade rennais FC</a>\n",
    "</td>\n",
    "<td>1994\n",
    "</td>\n",
    "<td>65\n",
    "</td>\n",
    "<td><span data-sort-value=\"110 !\"></span><abbr class=\"abbr\" title=\"Dixième\">10<sup>e</sup></abbr>\n",
    "</td>\n",
    "<td align=\"left\"><span class=\"flagicon\"><a class=\"image\" href=\"/wiki/Fichier:Flag_of_France.svg\" title=\"Drapeau : France\"><img alt=\"\" class=\"noviewer thumbborder\" data-file-height=\"600\" data-file-width=\"900\" decoding=\"async\" height=\"13\" src=\"//upload.wikimedia.org/wikipedia/commons/thumb/c/c3/Flag_of_France.svg/20px-Flag_of_France.svg.png\" srcset=\"//upload.wikimedia.org/wikipedia/commons/thumb/c/c3/Flag_of_France.svg/30px-Flag_of_France.svg.png 1.5x, //upload.wikimedia.org/wikipedia/commons/thumb/c/c3/Flag_of_France.svg/40px-Flag_of_France.svg.png 2x\" width=\"20\"/></a></span> <a href=\"/wiki/Julien_St%C3%A9phan\" title=\"Julien Stéphan\">Julien Stéphan</a>\n",
    "</td>\n",
    "<td>2018\n",
    "</td>\n",
    "<td><a href=\"/wiki/Roazhon_Park\" title=\"Roazhon Park\">Roazhon Park</a>\n",
    "</td>\n",
    "<td>29 194\n",
    "</td>\n",
    "<td>62\n",
    "</td></tr>\n",
    "<tr bgcolor=\"#FFF052\">\n",
    "<td><a href=\"/wiki/Racing_Club_de_Strasbourg_Alsace\" title=\"Racing Club de Strasbourg Alsace\">RC Strasbourg Alsace</a>\n",
    "</td>\n",
    "<td>2017\n",
    "</td>\n",
    "<td>43\n",
    "</td>\n",
    "<td><span data-sort-value=\"111 !\"></span><abbr class=\"abbr\" title=\"Onzième\">11<sup>e</sup></abbr>\n",
    "</td>\n",
    "<td align=\"left\"><span class=\"flagicon\"><a class=\"image\" href=\"/wiki/Fichier:Flag_of_France.svg\" title=\"Drapeau : France\"><img alt=\"\" class=\"noviewer thumbborder\" data-file-height=\"600\" data-file-width=\"900\" decoding=\"async\" height=\"13\" src=\"//upload.wikimedia.org/wikipedia/commons/thumb/c/c3/Flag_of_France.svg/20px-Flag_of_France.svg.png\" srcset=\"//upload.wikimedia.org/wikipedia/commons/thumb/c/c3/Flag_of_France.svg/30px-Flag_of_France.svg.png 1.5x, //upload.wikimedia.org/wikipedia/commons/thumb/c/c3/Flag_of_France.svg/40px-Flag_of_France.svg.png 2x\" width=\"20\"/></a></span> <a href=\"/wiki/Thierry_Laurey\" title=\"Thierry Laurey\">Thierry Laurey</a>\n",
    "</td>\n",
    "<td>2016\n",
    "</td>\n",
    "<td><a href=\"/wiki/Stade_de_la_Meinau\" title=\"Stade de la Meinau\">Stade de la Meinau</a>\n",
    "</td>\n",
    "<td>26 109\n",
    "</td>\n",
    "<td>58\n",
    "</td></tr>\n",
    "<tr>\n",
    "<td><a href=\"/wiki/Football_Club_de_Nantes\" title=\"Football Club de Nantes\">FC Nantes</a>\n",
    "</td>\n",
    "<td>2013\n",
    "</td>\n",
    "<td>70\n",
    "</td>\n",
    "<td><span data-sort-value=\"112 !\"></span><abbr class=\"abbr\" title=\"Douzième\">12<sup>e</sup></abbr>\n",
    "</td>\n",
    "<td align=\"left\"><span class=\"flagicon\"><a class=\"image\" href=\"/wiki/Fichier:Flag_of_France.svg\" title=\"Drapeau : France\"><img alt=\"\" class=\"noviewer thumbborder\" data-file-height=\"600\" data-file-width=\"900\" decoding=\"async\" height=\"13\" src=\"//upload.wikimedia.org/wikipedia/commons/thumb/c/c3/Flag_of_France.svg/20px-Flag_of_France.svg.png\" srcset=\"//upload.wikimedia.org/wikipedia/commons/thumb/c/c3/Flag_of_France.svg/30px-Flag_of_France.svg.png 1.5x, //upload.wikimedia.org/wikipedia/commons/thumb/c/c3/Flag_of_France.svg/40px-Flag_of_France.svg.png 2x\" width=\"20\"/></a></span> <a href=\"/wiki/Christian_Gourcuff\" title=\"Christian Gourcuff\">Christian Gourcuff</a>\n",
    "</td>\n",
    "<td>2019\n",
    "</td>\n",
    "<td><a href=\"/wiki/Stade_de_la_Beaujoire\" title=\"Stade de la Beaujoire\">Stade de la Beaujoire - Louis Fonteneau</a>\n",
    "</td>\n",
    "<td>35 322\n",
    "</td>\n",
    "<td>51\n",
    "</td></tr>\n",
    "<tr>\n",
    "<td><a class=\"mw-redirect\" href=\"/wiki/Angers_sporting_club_de_l%27Ouest\" title=\"Angers sporting club de l'Ouest\">SCO d’Angers</a>\n",
    "</td>\n",
    "<td>2015\n",
    "</td>\n",
    "<td>32\n",
    "</td>\n",
    "<td><span data-sort-value=\"113 !\"></span><abbr class=\"abbr\" title=\"Treizième\">13<sup>e</sup></abbr>\n",
    "</td>\n",
    "<td align=\"left\"><span class=\"flagicon\"><a class=\"image\" href=\"/wiki/Fichier:Flag_of_France.svg\" title=\"Drapeau : France\"><img alt=\"\" class=\"noviewer thumbborder\" data-file-height=\"600\" data-file-width=\"900\" decoding=\"async\" height=\"13\" src=\"//upload.wikimedia.org/wikipedia/commons/thumb/c/c3/Flag_of_France.svg/20px-Flag_of_France.svg.png\" srcset=\"//upload.wikimedia.org/wikipedia/commons/thumb/c/c3/Flag_of_France.svg/30px-Flag_of_France.svg.png 1.5x, //upload.wikimedia.org/wikipedia/commons/thumb/c/c3/Flag_of_France.svg/40px-Flag_of_France.svg.png 2x\" width=\"20\"/></a></span> <a href=\"/wiki/St%C3%A9phane_Moulin_(football)\" title=\"Stéphane Moulin (football)\">Stéphane Moulin</a>\n",
    "</td>\n",
    "<td>2011\n",
    "</td>\n",
    "<td><a href=\"/wiki/Stade_Raymond-Kopa\" title=\"Stade Raymond-Kopa\">Stade Raymond-Kopa</a>\n",
    "</td>\n",
    "<td>17 048\n",
    "</td>\n",
    "<td>27\n",
    "</td></tr>\n",
    "<tr>\n",
    "<td><a href=\"/wiki/Football_Club_des_Girondins_de_Bordeaux\" title=\"Football Club des Girondins de Bordeaux\">Girondins de Bordeaux</a>\n",
    "</td>\n",
    "<td>1992\n",
    "</td>\n",
    "<td>70\n",
    "</td>\n",
    "<td><span data-sort-value=\"114 !\"></span><abbr class=\"abbr\" title=\"Quatorzième\">14<sup>e</sup></abbr>\n",
    "</td>\n",
    "<td align=\"left\"><span class=\"flagicon\"><a class=\"image\" href=\"/wiki/Fichier:Flag_of_Portugal.svg\" title=\"Drapeau : Portugal\"><img alt=\"\" class=\"noviewer thumbborder\" data-file-height=\"400\" data-file-width=\"600\" decoding=\"async\" height=\"13\" src=\"//upload.wikimedia.org/wikipedia/commons/thumb/5/5c/Flag_of_Portugal.svg/20px-Flag_of_Portugal.svg.png\" srcset=\"//upload.wikimedia.org/wikipedia/commons/thumb/5/5c/Flag_of_Portugal.svg/30px-Flag_of_Portugal.svg.png 1.5x, //upload.wikimedia.org/wikipedia/commons/thumb/5/5c/Flag_of_Portugal.svg/40px-Flag_of_Portugal.svg.png 2x\" width=\"20\"/></a></span> <a href=\"/wiki/Paulo_Sousa_(football,_1970)\" title=\"Paulo Sousa (football, 1970)\">Paulo Sousa</a>\n",
    "</td>\n",
    "<td>2019\n",
    "</td>\n",
    "<td><a href=\"/wiki/Matmut_Atlantique\" title=\"Matmut Atlantique\">Matmut Atlantique</a>\n",
    "</td>\n",
    "<td>42 115\n",
    "</td>\n",
    "<td>66\n",
    "</td></tr>\n",
    "<tr>\n",
    "<td><a href=\"/wiki/Amiens_Sporting_Club\" title=\"Amiens Sporting Club\">Amiens SC</a>\n",
    "</td>\n",
    "<td>2017\n",
    "</td>\n",
    "<td>30\n",
    "</td>\n",
    "<td><span data-sort-value=\"115 !\"></span><abbr class=\"abbr\" title=\"Quinzième\">15<sup>e</sup></abbr>\n",
    "</td>\n",
    "<td align=\"left\"><span class=\"flagicon\"><a class=\"image\" href=\"/wiki/Fichier:Flag_of_Slovenia.svg\" title=\"Drapeau : Slovénie\"><img alt=\"\" class=\"noviewer thumbborder\" data-file-height=\"600\" data-file-width=\"1200\" decoding=\"async\" height=\"10\" src=\"//upload.wikimedia.org/wikipedia/commons/thumb/f/f0/Flag_of_Slovenia.svg/20px-Flag_of_Slovenia.svg.png\" srcset=\"//upload.wikimedia.org/wikipedia/commons/thumb/f/f0/Flag_of_Slovenia.svg/30px-Flag_of_Slovenia.svg.png 1.5x, //upload.wikimedia.org/wikipedia/commons/thumb/f/f0/Flag_of_Slovenia.svg/40px-Flag_of_Slovenia.svg.png 2x\" width=\"20\"/></a></span> <a href=\"/wiki/Luka_Elsner\" title=\"Luka Elsner\">Luka Elsner</a>\n",
    "</td>\n",
    "<td>2019\n",
    "</td>\n",
    "<td><a href=\"/wiki/Stade_de_la_Licorne\" title=\"Stade de la Licorne\">Stade Crédit Agricole la Licorne</a>\n",
    "</td>\n",
    "<td>12 999\n",
    "</td>\n",
    "<td>2\n",
    "</td></tr>\n",
    "<tr>\n",
    "<td><a href=\"/wiki/Toulouse_Football_Club\" title=\"Toulouse Football Club\">Toulouse FC</a>\n",
    "</td>\n",
    "<td>2003\n",
    "</td>\n",
    "<td>35\n",
    "</td>\n",
    "<td><span data-sort-value=\"116 !\"></span><abbr class=\"abbr\" title=\"Seizième\">16<sup>e</sup></abbr>\n",
    "</td>\n",
    "<td align=\"left\"><span class=\"flagicon\"><a class=\"image\" href=\"/wiki/Fichier:Flag_of_France.svg\" title=\"Drapeau : France\"><img alt=\"\" class=\"noviewer thumbborder\" data-file-height=\"600\" data-file-width=\"900\" decoding=\"async\" height=\"13\" src=\"//upload.wikimedia.org/wikipedia/commons/thumb/c/c3/Flag_of_France.svg/20px-Flag_of_France.svg.png\" srcset=\"//upload.wikimedia.org/wikipedia/commons/thumb/c/c3/Flag_of_France.svg/30px-Flag_of_France.svg.png 1.5x, //upload.wikimedia.org/wikipedia/commons/thumb/c/c3/Flag_of_France.svg/40px-Flag_of_France.svg.png 2x\" width=\"20\"/></a></span> <a href=\"/wiki/Denis_Zanko\" title=\"Denis Zanko\">Denis Zanko</a>\n",
    "</td>\n",
    "<td>2020\n",
    "</td>\n",
    "<td><a href=\"/wiki/Stadium_de_Toulouse\" title=\"Stadium de Toulouse\">Stadium de Toulouse</a>\n",
    "</td>\n",
    "<td>33 033\n",
    "</td>\n",
    "<td>32\n",
    "</td></tr>\n",
    "<tr>\n",
    "<td><a class=\"mw-redirect\" href=\"/wiki/Association_sportive_de_Monaco_football_club\" title=\"Association sportive de Monaco football club\">AS Monaco</a>\n",
    "</td>\n",
    "<td>2013\n",
    "</td>\n",
    "<td>220\n",
    "</td>\n",
    "<td><span data-sort-value=\"117 !\"></span><abbr class=\"abbr\" title=\"Dix-septième\">17<sup>e</sup></abbr>\n",
    "</td>\n",
    "<td align=\"left\"><span class=\"flagicon\"><a class=\"image\" href=\"/wiki/Fichier:Flag_of_Spain.svg\" title=\"Drapeau : Espagne\"><img alt=\"\" class=\"noviewer thumbborder\" data-file-height=\"500\" data-file-width=\"750\" decoding=\"async\" height=\"13\" src=\"//upload.wikimedia.org/wikipedia/commons/thumb/9/9a/Flag_of_Spain.svg/20px-Flag_of_Spain.svg.png\" srcset=\"//upload.wikimedia.org/wikipedia/commons/thumb/9/9a/Flag_of_Spain.svg/30px-Flag_of_Spain.svg.png 1.5x, //upload.wikimedia.org/wikipedia/commons/thumb/9/9a/Flag_of_Spain.svg/40px-Flag_of_Spain.svg.png 2x\" width=\"20\"/></a></span> <a href=\"/wiki/Robert_Moreno\" title=\"Robert Moreno\">Robert Moreno</a>\n",
    "</td>\n",
    "<td>2019\n",
    "</td>\n",
    "<td><a href=\"/wiki/Stade_Louis-II\" title=\"Stade Louis-II\">Stade Louis-II</a>\n",
    "</td>\n",
    "<td>16 500\n",
    "</td>\n",
    "<td>60\n",
    "</td></tr>\n",
    "<tr>\n",
    "<td><a href=\"/wiki/Dijon_Football_C%C3%B4te-d%27Or\" title=\"Dijon Football Côte-d'Or\">Dijon FCO</a>\n",
    "</td>\n",
    "<td>2016\n",
    "</td>\n",
    "<td>38\n",
    "</td>\n",
    "<td><span data-sort-value=\"118 !\"></span><abbr class=\"abbr\" title=\"Dix-huitième\">18<sup>e</sup></abbr>\n",
    "</td>\n",
    "<td align=\"left\"><span class=\"flagicon\"><a class=\"image\" href=\"/wiki/Fichier:Flag_of_France.svg\" title=\"Drapeau : France\"><img alt=\"\" class=\"noviewer thumbborder\" data-file-height=\"600\" data-file-width=\"900\" decoding=\"async\" height=\"13\" src=\"//upload.wikimedia.org/wikipedia/commons/thumb/c/c3/Flag_of_France.svg/20px-Flag_of_France.svg.png\" srcset=\"//upload.wikimedia.org/wikipedia/commons/thumb/c/c3/Flag_of_France.svg/30px-Flag_of_France.svg.png 1.5x, //upload.wikimedia.org/wikipedia/commons/thumb/c/c3/Flag_of_France.svg/40px-Flag_of_France.svg.png 2x\" width=\"20\"/></a></span> <a href=\"/wiki/St%C3%A9phane_Jobard\" title=\"Stéphane Jobard\">Stéphane Jobard</a>\n",
    "</td>\n",
    "<td>2019\n",
    "</td>\n",
    "<td><a href=\"/wiki/Stade_Gaston-G%C3%A9rard\" title=\"Stade Gaston-Gérard\">Parc des Sports Gaston-Gérard</a>\n",
    "</td>\n",
    "<td>15 459\n",
    "</td>\n",
    "<td>4\n",
    "</td></tr>\n",
    "<tr bgcolor=\"#a8fca8\">\n",
    "<td><a href=\"/wiki/Football_Club_de_Metz\" title=\"Football Club de Metz\">FC Metz</a>\n",
    "</td>\n",
    "<td>2019\n",
    "</td>\n",
    "<td>40\n",
    "</td>\n",
    "<td><span data-sort-value=\"201 !\"></span><abbr class=\"abbr\" title=\"Premier\">1<sup>er</sup></abbr> (<a class=\"mw-redirect\" href=\"/wiki/Championnat_de_France_de_football_de_Ligue_2_2018-2019\" title=\"Championnat de France de football de Ligue 2 2018-2019\">Ligue 2</a>)\n",
    "</td>\n",
    "<td align=\"left\"><span class=\"flagicon\"><a class=\"image\" href=\"/wiki/Fichier:Flag_of_France.svg\" title=\"Drapeau : France\"><img alt=\"\" class=\"noviewer thumbborder\" data-file-height=\"600\" data-file-width=\"900\" decoding=\"async\" height=\"13\" src=\"//upload.wikimedia.org/wikipedia/commons/thumb/c/c3/Flag_of_France.svg/20px-Flag_of_France.svg.png\" srcset=\"//upload.wikimedia.org/wikipedia/commons/thumb/c/c3/Flag_of_France.svg/30px-Flag_of_France.svg.png 1.5x, //upload.wikimedia.org/wikipedia/commons/thumb/c/c3/Flag_of_France.svg/40px-Flag_of_France.svg.png 2x\" width=\"20\"/></a></span> <a href=\"/wiki/Vincent_Hognon\" title=\"Vincent Hognon\">Vincent Hognon</a>\n",
    "</td>\n",
    "<td>2019\n",
    "</td>\n",
    "<td><a href=\"/wiki/Stade_Saint-Symphorien\" title=\"Stade Saint-Symphorien\">Stade Saint-Symphorien</a>\n",
    "</td>\n",
    "<td>25 865\n",
    "</td>\n",
    "<td>61\n",
    "</td></tr>\n",
    "<tr bgcolor=\"#a8fca8\">\n",
    "<td><a href=\"/wiki/Stade_brestois_29\" title=\"Stade brestois 29\">Stade brestois 29</a>\n",
    "</td>\n",
    "<td>2019\n",
    "</td>\n",
    "<td>30\n",
    "</td>\n",
    "<td><span data-sort-value=\"202 !\"></span><abbr class=\"abbr\" title=\"Deuxième\">2<sup>e</sup></abbr> (<a class=\"mw-redirect\" href=\"/wiki/Championnat_de_France_de_football_de_Ligue_2_2018-2019\" title=\"Championnat de France de football de Ligue 2 2018-2019\">Ligue 2</a>)\n",
    "</td>\n",
    "<td align=\"left\"><span class=\"flagicon\"><a class=\"image\" href=\"/wiki/Fichier:Flag_of_France.svg\" title=\"Drapeau : France\"><img alt=\"\" class=\"noviewer thumbborder\" data-file-height=\"600\" data-file-width=\"900\" decoding=\"async\" height=\"13\" src=\"//upload.wikimedia.org/wikipedia/commons/thumb/c/c3/Flag_of_France.svg/20px-Flag_of_France.svg.png\" srcset=\"//upload.wikimedia.org/wikipedia/commons/thumb/c/c3/Flag_of_France.svg/30px-Flag_of_France.svg.png 1.5x, //upload.wikimedia.org/wikipedia/commons/thumb/c/c3/Flag_of_France.svg/40px-Flag_of_France.svg.png 2x\" width=\"20\"/></a></span> <a href=\"/wiki/Olivier_Dall%27Oglio\" title=\"Olivier Dall'Oglio\">Olivier Dall'Oglio</a>\n",
    "</td>\n",
    "<td>2019\n",
    "</td>\n",
    "<td><a href=\"/wiki/Stade_Francis-Le_Bl%C3%A9\" title=\"Stade Francis-Le Blé\">Stade Francis-Le Blé</a>\n",
    "</td>\n",
    "<td>14 920\n",
    "</td>\n",
    "<td>13\n",
    "</td></tr></tbody></table>\n",
    "\n",
    ":two:\n",
    "Récupérer chaque ligne du tableau\n"
   ]
  },
  {
   "cell_type": "code",
   "execution_count": null,
<<<<<<< HEAD
   "id": "f464788a",
=======
   "id": "388a3573",
>>>>>>> master
   "metadata": {},
   "outputs": [],
   "source": [
    "table_body = tableau_participants.find('tbody')\n",
    "\n",
    "# on recherche toutes les lignes du tableau avec la balise \"tr\"\n",
    "rows = table_body.find_all('tr')\n",
    "\n",
    "# on obtient une liste où chaque élément est une des lignes du tableau\n",
    "\n",
    "# par exemple la première ligne va correspondre aux entêtes de colonne\n",
    "print(rows[0])"
   ]
  },
  {
   "cell_type": "markdown",
<<<<<<< HEAD
   "id": "191b1ca4",
=======
   "id": "3df1d130",
>>>>>>> master
   "metadata": {},
   "source": [
    "```\n",
    "## <tr>\n",
    "## <th scope=\"col\">Club\n",
    "## </th>\n",
    "## <th scope=\"col\">Dernière<br/>montée\n",
    "## </th>\n",
    "## <th scope=\"col\">Budget<sup class=\"reference\" id=\"cite_ref-3\"><a href=\"#cite_note-3\"><span class=\"cite_crochet\">[</span>3<span class=\"cite_crochet\">]</span></a></sup><br/>en M<a href=\"/wiki/Euro\" title=\"Euro\">€</a>\n",
    "## </th>\n",
    "## <th scope=\"col\">Classement<br/><a href=\"/wiki/Championnat_de_France_de_football_2018-2019\" title=\"Championnat de France de football 2018-2019\">2018-2019</a>\n",
    "## </th>\n",
    "## <th scope=\"col\">Entraîneur\n",
    "## </th>\n",
    "## <th scope=\"col\">Depuis\n",
    "## </th>\n",
    "## <th scope=\"col\">Stade\n",
    "## </th>\n",
    "## <th scope=\"col\">Capacité<br/>en L1<sup class=\"reference\" id=\"cite_ref-4\"><a href=\"#cite_note-4\"><span class=\"cite_crochet\">[</span>4<span class=\"cite_crochet\">]</span></a></sup>\n",
    "## </th>\n",
    "## <th scope=\"col\">Nombre<br/>de saisons<br/>en L1\n",
    "## </th></tr>\n",
    "```\n"
   ]
  },
  {
   "cell_type": "code",
   "execution_count": null,
<<<<<<< HEAD
   "id": "85e83f85",
=======
   "id": "cb5fd1df",
>>>>>>> master
   "metadata": {},
   "outputs": [],
   "source": [
    "# par exemple la seconde ligne va correspondre à la ligne du premier club présent dans le tableau\n",
    "\n",
    "print(rows[1])"
   ]
  },
  {
   "cell_type": "markdown",
<<<<<<< HEAD
   "id": "e2dbf7bb",
=======
   "id": "37140d76",
>>>>>>> master
   "metadata": {},
   "source": [
    "```\n",
    "## <tr bgcolor=\"#97DEFF\">\n",
    "## <td><a href=\"/wiki/Paris_Saint-Germain_Football_Club\" title=\"Paris Saint-Germain Football Club\">Paris Saint-Germain</a>\n",
    "## </td>\n",
    "## <td>1974\n",
    "## </td>\n",
    "## <td>637\n",
    "## </td>\n",
    "## <td><span data-sort-value=\"101 !\"></span><abbr class=\"abbr\" title=\"Premier\">1<sup>er</sup></abbr>\n",
    "## </td>\n",
    "## <td align=\"left\"><span class=\"flagicon\"><a class=\"image\" href=\"/wiki/Fichier:Flag_of_Germany.svg\" title=\"Drapeau : Allemagne\"><img alt=\"\" class=\"noviewer thumbborder\" data-file-height=\"600\" data-file-width=\"1000\" decoding=\"async\" height=\"12\" src=\"//upload.wikimedia.org/wikipedia/commons/thumb/b/ba/Flag_of_Germany.svg/20px-Flag_of_Germany.svg.png\" srcset=\"//upload.wikimedia.org/wikipedia/commons/thumb/b/ba/Flag_of_Germany.svg/30px-Flag_of_Germany.svg.png 1.5x, //upload.wikimedia.org/wikipedia/commons/thumb/b/ba/Flag_of_Germany.svg/40px-Flag_of_Germany.svg.png 2x\" width=\"20\"/></a></span> <a href=\"/wiki/Thomas_Tuchel\" title=\"Thomas Tuchel\">Thomas Tuchel</a>\n",
    "## </td>\n",
    "## <td>2018\n",
    "## </td>\n",
    "## <td><a href=\"/wiki/Parc_des_Princes\" title=\"Parc des Princes\">Parc des Princes</a>\n",
    "## </td>\n",
    "## <td>47 929\n",
    "## </td>\n",
    "## <td>46\n",
    "## </td></tr>\n",
    "```\n",
    "\n",
    ":three:\n",
    "Nettoyer les sorties en ne gardant que le texte sur une ligne"
   ]
  },
  {
   "cell_type": "markdown",
<<<<<<< HEAD
   "id": "9ef13998",
=======
   "id": "1623f865",
>>>>>>> master
   "metadata": {},
   "source": [
    "On va utiliser l'attribut `text` afin de se débarasser de toute la couche de HTML qu'on obtient à l'étape 2.\n",
    "\n",
    "Un exemple sur la ligne du premier club :\n",
    "- on commence par prendre toutes les cellules de cette ligne, avec la balise `td`.\n",
    "- on fait ensuite une boucle sur chacune des cellules et on ne garde que le texte de la cellule avec l'attribut `text`.\n",
    "- enfin, on applique la méthode `strip()` pour que le texte soit bien mis en forme (sans espace inutile etc).\n",
    "\n"
   ]
  },
  {
   "cell_type": "code",
   "execution_count": null,
<<<<<<< HEAD
   "id": "5363f496",
=======
   "id": "b6b0314b",
>>>>>>> master
   "metadata": {},
   "outputs": [],
   "source": [
    "cols = rows[1].find_all('td')\n",
    "print(cols[0])"
   ]
  },
  {
   "cell_type": "markdown",
<<<<<<< HEAD
   "id": "ac70b39e",
=======
   "id": "3b44c84d",
>>>>>>> master
   "metadata": {},
   "source": [
    "```\n",
    "## <td><a href=\"/wiki/Paris_Saint-Germain_Football_Club\" title=\"Paris Saint-Germain Football Club\">Paris Saint-Germain</a>\n",
    "## </td>\n",
    "```"
   ]
  },
  {
   "cell_type": "code",
   "execution_count": null,
<<<<<<< HEAD
   "id": "8ec498f1",
=======
   "id": "e70560bb",
>>>>>>> master
   "metadata": {},
   "outputs": [],
   "source": [
    "print(cols[0].text.strip())"
   ]
  },
  {
   "cell_type": "markdown",
<<<<<<< HEAD
   "id": "9158839e",
=======
   "id": "c7131056",
>>>>>>> master
   "metadata": {},
   "source": [
    "```\n",
    "## Paris Saint-Germain\n",
    "```\n"
   ]
  },
  {
   "cell_type": "code",
   "execution_count": null,
<<<<<<< HEAD
   "id": "eb9f5ad6",
=======
   "id": "0977a28b",
>>>>>>> master
   "metadata": {},
   "outputs": [],
   "source": [
    "for ele in cols : \n",
    "    print(ele.text.strip())"
   ]
  },
  {
   "cell_type": "markdown",
<<<<<<< HEAD
   "id": "c49edacc",
=======
   "id": "9877d8c0",
>>>>>>> master
   "metadata": {},
   "source": [
    "```\n",
    "## Paris Saint-Germain\n",
    "## 1974\n",
    "## 637\n",
    "## 1er\n",
    "## Thomas Tuchel\n",
    "## 2018\n",
    "## Parc des Princes\n",
    "## 47 929\n",
    "## 46\n",
    "```\n",
    "\n",
    ":four:\n",
    "Généraliser sur toutes les lignes\n"
   ]
  },
  {
   "cell_type": "code",
   "execution_count": null,
<<<<<<< HEAD
   "id": "fdf50bd9",
=======
   "id": "992e9fd7",
>>>>>>> master
   "metadata": {},
   "outputs": [],
   "source": [
    "for row in rows:\n",
    "    cols = row.find_all('td')\n",
    "    cols = [ele.text.strip() for ele in cols]\n",
    "    print(cols)"
   ]
  },
  {
   "cell_type": "markdown",
<<<<<<< HEAD
   "id": "d897032f",
=======
   "id": "b158df74",
>>>>>>> master
   "metadata": {},
   "source": [
    "```\n",
    "## []\n",
    "## ['Paris Saint-Germain', '1974', '637', '1er', 'Thomas Tuchel', '2018', 'Parc des Princes', '47\\xa0929', '46']\n",
    "## ['LOSC Lille', '2000', '120', '2e', 'Christophe Galtier', '2017', 'Stade Pierre-Mauroy', '49\\xa0712', '59']\n",
    "## ['Olympique lyonnais', '1989', '310', '3e', 'Rudi Garcia', '2019', 'Groupama Stadium', '57\\xa0206', '60']\n",
    "## ['AS Saint-Étienne', '2004', '100', '4e', 'Claude Puel', '2019', 'Stade Geoffroy-Guichard', '41\\xa0965', '66']\n",
    "## ['Olympique de Marseille', '1996', '110', '5e', 'André Villas-Boas', '2019', 'Orange Vélodrome', '66\\xa0226', '69']\n",
    "## ['Montpellier HSC', '2009', '40', '6e', 'Michel Der Zakarian', '2017', 'Stade de la Mosson', '22\\xa0000', '27']\n",
    "## ['OGC Nice', '2002', '50', '7e', 'Patrick Vieira', '2018', 'Allianz Riviera', '35\\xa0596', '60']\n",
    "## ['Stade de Reims', '2018', '45', '8e', 'David Guion', '2017', 'Stade Auguste-Delaune', '20\\xa0546', '35']\n",
    "## ['Nîmes Olympique', '2018', '27', '9e', 'Bernard Blaquart', '2015', 'Stade des Costières', '15\\xa0788', '35']\n",
    "## ['Stade rennais FC', '1994', '65', '10e', 'Julien Stéphan', '2018', 'Roazhon Park', '29\\xa0194', '62']\n",
    "## ['RC Strasbourg Alsace', '2017', '43', '11e', 'Thierry Laurey', '2016', 'Stade de la Meinau', '26\\xa0109', '58']\n",
    "## ['FC Nantes', '2013', '70', '12e', 'Christian Gourcuff', '2019', 'Stade de la Beaujoire - Louis Fonteneau', '35\\xa0322', '51']\n",
    "## ['SCO d’Angers', '2015', '32', '13e', 'Stéphane Moulin', '2011', 'Stade Raymond-Kopa', '17\\xa0048', '27']\n",
    "## ['Girondins de Bordeaux', '1992', '70', '14e', 'Paulo Sousa', '2019', 'Matmut Atlantique', '42\\xa0115', '66']\n",
    "## ['Amiens SC', '2017', '30', '15e', 'Luka Elsner', '2019', 'Stade Crédit Agricole la Licorne', '12\\xa0999', '2']\n",
    "## ['Toulouse FC', '2003', '35', '16e', 'Denis Zanko', '2020', 'Stadium de Toulouse', '33\\xa0033', '32']\n",
    "## ['AS Monaco', '2013', '220', '17e', 'Robert Moreno', '2019', 'Stade Louis-II', '16\\xa0500', '60']\n",
    "## ['Dijon FCO', '2016', '38', '18e', 'Stéphane Jobard', '2019', 'Parc des Sports Gaston-Gérard', '15\\xa0459', '4']\n",
    "## ['FC Metz', '2019', '40', '1er (Ligue 2)', 'Vincent Hognon', '2019', 'Stade Saint-Symphorien', '25\\xa0865', '61']\n",
    "## ['Stade brestois 29', '2019', '30', '2e (Ligue 2)', \"Olivier Dall'Oglio\", '2019', 'Stade Francis-Le Blé', '14\\xa0920', '13']\n",
    "```\n",
    "\n",
    "On a bien réussi à avoir les informations contenues dans le tableau des participants du championnat.\n",
    "Mais la première ligne est étrange : c'est une liste vide ... \n",
    "\n",
    "Il s'agit des en-têtes : elles sont reconnues par la balise `th` et non `td`. \n",
    "\n",
    "On va mettre tout le contenu dans un dictionnaire, pour le transformer ensuite en DataFrame pandas : \n"
   ]
  },
  {
   "cell_type": "code",
   "execution_count": null,
<<<<<<< HEAD
   "id": "f9d3015c",
=======
   "id": "40424dde",
>>>>>>> master
   "metadata": {},
   "outputs": [],
   "source": [
    "dico_participants = dict()\n",
    "for row in rows:\n",
    "    cols = row.find_all('td')\n",
    "    cols = [ele.text.strip() for ele in cols]\n",
    "    if len(cols) > 0 : \n",
    "        dico_participants[cols[0]] = cols[1:]\n",
    "dico_participants"
   ]
  },
  {
   "cell_type": "markdown",
<<<<<<< HEAD
   "id": "961f20b6",
=======
   "id": "57b7ee27",
>>>>>>> master
   "metadata": {},
   "source": [
    "```\n",
    "## {'Paris Saint-Germain': ['1974', '637', '1er', 'Thomas Tuchel', '2018', 'Parc des Princes', '47\\xa0929', '46'], 'LOSC Lille': ['2000', '120', '2e', 'Christophe Galtier', '2017', 'Stade Pierre-Mauroy', '49\\xa0712', '59'], 'Olympique lyonnais': ['1989', '310', '3e', 'Rudi Garcia', '2019', 'Groupama Stadium', '57\\xa0206', '60'], 'AS Saint-Étienne': ['2004', '100', '4e', 'Claude Puel', '2019', 'Stade Geoffroy-Guichard', '41\\xa0965', '66'], 'Olympique de Marseille': ['1996', '110', '5e', 'André Villas-Boas', '2019', 'Orange Vélodrome', '66\\xa0226', '69'], 'Montpellier HSC': ['2009', '40', '6e', 'Michel Der Zakarian', '2017', 'Stade de la Mosson', '22\\xa0000', '27'], 'OGC Nice': ['2002', '50', '7e', 'Patrick Vieira', '2018', 'Allianz Riviera', '35\\xa0596', '60'], 'Stade de Reims': ['2018', '45', '8e', 'David Guion', '2017', 'Stade Auguste-Delaune', '20\\xa0546', '35'], 'Nîmes Olympique': ['2018', '27', '9e', 'Bernard Blaquart', '2015', 'Stade des Costières', '15\\xa0788', '35'], 'Stade rennais FC': ['1994', '65', '10e', 'Julien Stéphan', '2018', 'Roazhon Park', '29\\xa0194', '62'], 'RC Strasbourg Alsace': ['2017', '43', '11e', 'Thierry Laurey', '2016', 'Stade de la Meinau', '26\\xa0109', '58'], 'FC Nantes': ['2013', '70', '12e', 'Christian Gourcuff', '2019', 'Stade de la Beaujoire - Louis Fonteneau', '35\\xa0322', '51'], 'SCO d’Angers': ['2015', '32', '13e', 'Stéphane Moulin', '2011', 'Stade Raymond-Kopa', '17\\xa0048', '27'], 'Girondins de Bordeaux': ['1992', '70', '14e', 'Paulo Sousa', '2019', 'Matmut Atlantique', '42\\xa0115', '66'], 'Amiens SC': ['2017', '30', '15e', 'Luka Elsner', '2019', 'Stade Crédit Agricole la Licorne', '12\\xa0999', '2'], 'Toulouse FC': ['2003', '35', '16e', 'Denis Zanko', '2020', 'Stadium de Toulouse', '33\\xa0033', '32'], 'AS Monaco': ['2013', '220', '17e', 'Robert Moreno', '2019', 'Stade Louis-II', '16\\xa0500', '60'], 'Dijon FCO': ['2016', '38', '18e', 'Stéphane Jobard', '2019', 'Parc des Sports Gaston-Gérard', '15\\xa0459', '4'], 'FC Metz': ['2019', '40', '1er (Ligue 2)', 'Vincent Hognon', '2019', 'Stade Saint-Symphorien', '25\\xa0865', '61'], 'Stade brestois 29': ['2019', '30', '2e (Ligue 2)', \"Olivier Dall'Oglio\", '2019', 'Stade Francis-Le Blé', '14\\xa0920', '13']}\n",
    "```\n"
   ]
  },
  {
   "cell_type": "code",
   "execution_count": null,
<<<<<<< HEAD
   "id": "7a48ee4a",
=======
   "id": "2474e611",
>>>>>>> master
   "metadata": {},
   "outputs": [],
   "source": [
    "data_participants = pandas.DataFrame.from_dict(dico_participants,orient='index')\n",
    "data_participants.head()"
   ]
  },
  {
   "cell_type": "markdown",
<<<<<<< HEAD
   "id": "4420eeed",
=======
   "id": "666ac6fe",
>>>>>>> master
   "metadata": {},
   "source": [
    "```\n",
    "##                            0    1    2  ...                        5       6   7\n",
    "## Paris Saint-Germain     1974  637  1er  ...         Parc des Princes  47 929  46\n",
    "## LOSC Lille              2000  120   2e  ...      Stade Pierre-Mauroy  49 712  59\n",
    "## Olympique lyonnais      1989  310   3e  ...         Groupama Stadium  57 206  60\n",
    "## AS Saint-Étienne        2004  100   4e  ...  Stade Geoffroy-Guichard  41 965  66\n",
    "## Olympique de Marseille  1996  110   5e  ...         Orange Vélodrome  66 226  69\n",
    "## \n",
    "## [5 rows x 8 columns]\n",
    "```"
   ]
  },
  {
   "cell_type": "markdown",
<<<<<<< HEAD
   "id": "f92d593b",
=======
   "id": "a26ccc55",
>>>>>>> master
   "metadata": {},
   "source": [
    ":five:\n",
    "Récupérer les entêtes du tableau\n"
   ]
  },
  {
   "cell_type": "code",
   "execution_count": null,
<<<<<<< HEAD
   "id": "9e93d433",
=======
   "id": "d50cd207",
>>>>>>> master
   "metadata": {},
   "outputs": [],
   "source": [
    "for row in rows:\n",
    "    cols = row.find_all('th')\n",
    "    print(cols)\n",
    "    if len(cols) > 0 : \n",
    "        cols = [ele.get_text(separator=' ').strip().title() for ele in cols]\n",
    "        columns_participants = cols"
   ]
  },
  {
   "cell_type": "markdown",
<<<<<<< HEAD
   "id": "14e6cb34",
=======
   "id": "43af223b",
>>>>>>> master
   "metadata": {},
   "source": [
    "```\n",
    "## [<th scope=\"col\">Club\n",
    "## </th>, <th scope=\"col\">Dernière<br/>montée\n",
    "## </th>, <th scope=\"col\">Budget<sup class=\"reference\" id=\"cite_ref-3\"><a href=\"#cite_note-3\"><span class=\"cite_crochet\">[</span>3<span class=\"cite_crochet\">]</span></a></sup><br/>en M<a href=\"/wiki/Euro\" title=\"Euro\">€</a>\n",
    "## </th>, <th scope=\"col\">Classement<br/><a href=\"/wiki/Championnat_de_France_de_football_2018-2019\" title=\"Championnat de France de football 2018-2019\">2018-2019</a>\n",
    "## </th>, <th scope=\"col\">Entraîneur\n",
    "## </th>, <th scope=\"col\">Depuis\n",
    "## </th>, <th scope=\"col\">Stade\n",
    "## </th>, <th scope=\"col\">Capacité<br/>en L1<sup class=\"reference\" id=\"cite_ref-4\"><a href=\"#cite_note-4\"><span class=\"cite_crochet\">[</span>4<span class=\"cite_crochet\">]</span></a></sup>\n",
    "## </th>, <th scope=\"col\">Nombre<br/>de saisons<br/>en L1\n",
    "## </th>]\n",
    "## []\n",
    "## []\n",
    "## []\n",
    "## []\n",
    "## []\n",
    "## []\n",
    "## []\n",
    "## []\n",
    "## []\n",
    "## []\n",
    "## []\n",
    "## []\n",
    "## []\n",
    "## []\n",
    "## []\n",
    "## []\n",
    "## []\n",
    "## []\n",
    "## []\n",
    "## []\n",
    "```\n"
   ]
  },
  {
   "cell_type": "code",
   "execution_count": null,
<<<<<<< HEAD
   "id": "e09cd563",
=======
   "id": "82426ced",
>>>>>>> master
   "metadata": {},
   "outputs": [],
   "source": [
    "columns_participants"
   ]
  },
  {
   "cell_type": "markdown",
<<<<<<< HEAD
   "id": "b35effaa",
=======
   "id": "1990ab34",
>>>>>>> master
   "metadata": {},
   "source": [
    "```\n",
    "## ['Club', 'Dernière Montée', 'Budget [ 3 ] En M €', 'Classement 2018-2019', 'Entraîneur', 'Depuis', 'Stade', 'Capacité En L1 [ 4 ]', 'Nombre De Saisons En L1']\n",
    "```\n"
   ]
  },
  {
   "cell_type": "markdown",
<<<<<<< HEAD
   "id": "1c0d70d2",
=======
   "id": "dfc36343",
>>>>>>> master
   "metadata": {},
   "source": [
    ":six: Finalisation du tableau \n"
   ]
  },
  {
   "cell_type": "code",
   "execution_count": null,
<<<<<<< HEAD
   "id": "4bb01abe",
=======
   "id": "128f4813",
>>>>>>> master
   "metadata": {
    "lines_to_next_cell": 2
   },
   "outputs": [],
   "source": [
    "data_participants.columns = columns_participants[1:]"
   ]
  },
  {
   "cell_type": "code",
   "execution_count": null,
<<<<<<< HEAD
   "id": "5427cd74",
=======
   "id": "bd9e9b5c",
>>>>>>> master
   "metadata": {},
   "outputs": [],
   "source": [
    "data_participants.head()"
   ]
  },
  {
   "cell_type": "markdown",
<<<<<<< HEAD
   "id": "9fad7830",
=======
   "id": "0903dbc9",
>>>>>>> master
   "metadata": {},
   "source": [
    "```\n",
    "##                        Dernière Montée  ... Nombre De Saisons En L1\n",
    "## Paris Saint-Germain               1974  ...                      46\n",
    "## LOSC Lille                        2000  ...                      59\n",
    "## Olympique lyonnais                1989  ...                      60\n",
    "## AS Saint-Étienne                  2004  ...                      66\n",
    "## Olympique de Marseille            1996  ...                      69\n",
    "## \n",
    "## [5 rows x 8 columns]\n",
    "```"
   ]
  },
  {
   "cell_type": "markdown",
<<<<<<< HEAD
   "id": "79543af7",
=======
   "id": "c7f3a4e3",
>>>>>>> master
   "metadata": {},
   "source": [
    "## Pour aller plus loin\n",
    "\n",
    "Essayez de comprendre pas à pas ce qui est fait dans les étapes qui suivent (la récupération d'informations supplémentaires en naviguant dans les pages des différents clubs). \n"
   ]
  },
  {
   "cell_type": "code",
   "execution_count": null,
   "id": "29f77710",
   "metadata": {},
   "outputs": [],
   "source": [
    "import urllib\n",
    "import pandas as pd\n",
    "import bs4 \n",
    "\n",
    "division=[]\n",
    "equipe=[]\n",
    "stade=[]\n",
    "latitude_stade=[]        \n",
    "longitude_stade=[]     \n",
    "\n",
    "def dms2dd(degrees, minutes, seconds, direction):\n",
    "    dd = float(degrees) + float(minutes)/60 + float(seconds)/(60*60);\n",
    "    if direction == 'S' or direction == 'O':\n",
    "        dd *= -1\n",
    "    return dd;\n",
    "\n",
    "url_list=[\"http://fr.wikipedia.org/wiki/Championnat_de_France_de_football_2019-2020\", \"http://fr.wikipedia.org/wiki/Championnat_de_France_de_football_de_Ligue_2_2019-2020\"]\n",
    "\n",
    "for url_ligue in url_list :\n",
    "       \n",
    "    print(url_ligue)\n",
    "    sock = urllib.request.urlopen(url_ligue).read() \n",
    "    page=bs4.BeautifulSoup(sock)\n",
    "\n",
    "# Rechercher les liens des équipes dans la liste disponible sur wikipedia \n",
    "\n",
    "    for team in page.findAll('span' , {'class' : 'toponyme'}) :  \n",
    "        \n",
    "        # Indiquer si c'est de la ligue 1 ou de la ligue 2\n",
    "        \n",
    "        if url_ligue==url_list[0] :\n",
    "            division.append(\"L1\")\n",
    "        else :\n",
    "            division.append(\"L2\")\n",
    "\n",
    "       # Trouver le nom et le lien de l'équipe\n",
    "            \n",
    "        if team.find('a')!=None :\n",
    "            team_url=team.find('a').get('href')\n",
    "            name_team=team.find('a').get('title')\n",
    "            equipe.append(name_team)\n",
    "            url_get_info = \"http://fr.wikipedia.org\"+team_url\n",
    "            print(url_get_info)\n",
    " \n",
    "       # aller sur la page de l'équipe\n",
    "           \n",
    "            search = urllib.request.urlopen(url_get_info).read()\n",
    "            search_team=bs4.BeautifulSoup(search)\n",
    "\n",
    "       # trouver le stade             \n",
    "            compteur = 0\n",
    "            for stadium in search_team.findAll('tr'):\n",
    "                for x in stadium.findAll('th' , {'scope' : 'row'} ) :\n",
    "                    if x.contents[0].string==\"Stade\" and compteur == 0:\n",
    "                        compteur = 1\n",
    "                        # trouver le lien du stade et son nom\n",
    "                        url_stade=stadium.findAll('a')[1].get('href')\n",
    "                        name_stadium=stadium.findAll('a')[1].get('title')\n",
    "                        stade.append(name_stadium)\n",
    "                        url_get_stade = \"http://fr.wikipedia.org\"+url_stade\n",
    "                        print(url_get_stade)\n",
    "                        \n",
    "                        # Aller sur la page du stade et trouver ses coodronnées géographiques\n",
    "                        \n",
    "                        search_stade = urllib.request.urlopen(url_get_stade).read()\n",
    "                        soup_stade=bs4.BeautifulSoup(search_stade) \n",
    "                        kartographer = soup_stade.find('a',{'class': \"mw-kartographer-maplink\"})\n",
    "                        if kartographer == None :\n",
    "                          latitude_stade.append(None)\n",
    "                          longitude_stade.append(None) \n",
    "                        else :\n",
    "                            for coordinates in kartographer :\n",
    "                                print(coordinates)\n",
    "                                liste =   coordinates.split(\",\")          \n",
    "                                latitude_stade.append(str(liste[0]).replace(\" \", \"\") + \"'\")\n",
    "                                longitude_stade.append(str(liste[1]).replace(\" \", \"\") + \"'\")\n",
    "                            "
   ]
  },
  {
   "cell_type": "markdown",
   "id": "8593ee54",
   "metadata": {},
   "source": [
    "```\n",
    "## http://fr.wikipedia.org/wiki/Championnat_de_France_de_football_2019-2020\n",
    "## http://fr.wikipedia.org/wiki/Paris_Saint-Germain_Football_Club\n",
    "## http://fr.wikipedia.org/wiki/Parc_des_Princes\n",
    "## 48° 50′ 29″ N, 2° 15′ 11″ E\n",
    "## http://fr.wikipedia.org/wiki/LOSC_Lille\n",
    "## http://fr.wikipedia.org/wiki/Stade_Pierre-Mauroy\n",
    "## 50° 36′ 43″ N, 3° 07′ 50″ E\n",
    "## http://fr.wikipedia.org/wiki/Olympique_lyonnais\n",
    "## http://fr.wikipedia.org/wiki/Parc_Olympique_lyonnais\n",
    "## 45° 45′ 55″ N, 4° 58′ 55″ E\n",
    "## http://fr.wikipedia.org/wiki/Association_sportive_de_Saint-%C3%89tienne\n",
    "## http://fr.wikipedia.org/wiki/Stade_Geoffroy-Guichard\n",
    "## 45° 27′ 39″ N, 4° 23′ 25″ E\n",
    "## http://fr.wikipedia.org/wiki/Olympique_de_Marseille\n",
    "## http://fr.wikipedia.org/wiki/Orange_V%C3%A9lodrome\n",
    "## 43° 16′ 11″ N, 5° 23′ 45″ E\n",
    "## http://fr.wikipedia.org/wiki/Montpellier_H%C3%A9rault_Sport_Club\n",
    "## http://fr.wikipedia.org/wiki/Stade_de_la_Mosson\n",
    "## 43° 37′ 19″ N, 3° 48′ 44″ E\n",
    "## http://fr.wikipedia.org/wiki/Stade_de_Reims\n",
    "## http://fr.wikipedia.org/wiki/Stade_Auguste-Delaune\n",
    "## 49° 14′ 48″ N, 4° 01′ 30″ E\n",
    "## http://fr.wikipedia.org/wiki/Olympique_Gymnaste_Club_Nice\n",
    "## http://fr.wikipedia.org/wiki/Allianz_Riviera\n",
    "## 43° 42′ 18″ N, 7° 11′ 33″ E\n",
    "## http://fr.wikipedia.org/wiki/N%C3%AEmes_Olympique\n",
    "## http://fr.wikipedia.org/wiki/Stade_des_Costi%C3%A8res\n",
    "## 43° 48′ 58″ N, 4° 21′ 33″ E\n",
    "## http://fr.wikipedia.org/wiki/Racing_Club_de_Strasbourg_Alsace\n",
    "## http://fr.wikipedia.org/wiki/Stade_de_la_Meinau\n",
    "## 48° 33′ 36″ N, 7° 45′ 18″ E\n",
    "## http://fr.wikipedia.org/wiki/Stade_rennais_Football_Club\n",
    "## http://fr.wikipedia.org/wiki/Roazhon_Park\n",
    "## 48° 06′ 27″ N, 1° 42′ 46″ O\n",
    "## http://fr.wikipedia.org/wiki/Angers_sporting_club_de_l%27Ouest\n",
    "## http://fr.wikipedia.org/wiki/Stade_Raymond-Kopa\n",
    "## 47° 27′ 38″ N, 0° 31′ 51″ O\n",
    "## http://fr.wikipedia.org/wiki/Football_Club_de_Metz\n",
    "## http://fr.wikipedia.org/wiki/Stade_Saint-Symphorien\n",
    "## 49° 06′ 35″ N, 6° 09′ 33″ E\n",
    "## http://fr.wikipedia.org/wiki/Football_Club_de_Nantes\n",
    "## http://fr.wikipedia.org/wiki/Stade_de_la_Beaujoire\n",
    "## 47° 15′ 20″ N, 1° 31′ 31″ O\n",
    "## http://fr.wikipedia.org/wiki/Stade_brestois_29\n",
    "## http://fr.wikipedia.org/wiki/Stade_Francis-Le_Bl%C3%A9\n",
    "## 48° 24′ 11″ N, 4° 27′ 42″ O\n",
    "## http://fr.wikipedia.org/wiki/Football_Club_des_Girondins_de_Bordeaux\n",
    "## http://fr.wikipedia.org/wiki/Matmut_Atlantique\n",
    "## 44° 53′ 50″ N, 0° 33′ 41″ O\n",
    "## http://fr.wikipedia.org/wiki/Toulouse_Football_Club\n",
    "## http://fr.wikipedia.org/wiki/Stadium_de_Toulouse\n",
    "## 43° 35′ 00″ N, 1° 26′ 03″ E\n",
    "## http://fr.wikipedia.org/wiki/Amiens_Sporting_Club\n",
    "## http://fr.wikipedia.org/wiki/Stade_de_la_Licorne\n",
    "## 49° 53′ 38″ N, 2° 15′ 49″ E\n",
    "## http://fr.wikipedia.org/wiki/Association_sportive_de_Monaco_football_club\n",
    "## http://fr.wikipedia.org/wiki/Stade_Louis-II\n",
    "## 43° 43′ 39″ N, 7° 24′ 56″ E\n",
    "## http://fr.wikipedia.org/wiki/Dijon_Football_C%C3%B4te-d%27Or\n",
    "## http://fr.wikipedia.org/wiki/Stade_Gaston-G%C3%A9rard\n",
    "## 47° 19′ 28″ N, 5° 04′ 06″ E\n",
    "## http://fr.wikipedia.org/wiki/Championnat_de_France_de_football_de_Ligue_2_2019-2020\n",
    "## http://fr.wikipedia.org/wiki/Athletic_Club_ajaccien\n",
    "## http://fr.wikipedia.org/wiki/Stade_Fran%C3%A7ois-Coty\n",
    "## http://fr.wikipedia.org/wiki/Association_sportive_Nancy-Lorraine\n",
    "## http://fr.wikipedia.org/wiki/Stade_Marcel-Picot\n",
    "## 48° 41′ 43″ N, 6° 12′ 38″ E\n",
    "## http://fr.wikipedia.org/wiki/Le_Havre_Athletic_Club_(football)\n",
    "## http://fr.wikipedia.org/wiki/Stade_Oc%C3%A9ane\n",
    "## 49° 29′ 56″ N, 0° 10′ 11″ E\n",
    "## http://fr.wikipedia.org/wiki/Stade_Malherbe_Caen_Calvados_Basse-Normandie\n",
    "## http://fr.wikipedia.org/wiki/Stade_Michel-d%27Ornano\n",
    "## 49° 10′ 46″ N, 0° 23′ 48″ O\n",
    "## http://fr.wikipedia.org/wiki/Clermont_Foot_63\n",
    "## http://fr.wikipedia.org/wiki/Stade_Gabriel-Montpied\n",
    "## 45° 48′ 57″ N, 3° 07′ 18″ E\n",
    "## http://fr.wikipedia.org/wiki/En_Avant_de_Guingamp\n",
    "## http://fr.wikipedia.org/wiki/Stade_de_Roudourou\n",
    "## 48° 33′ 58″ N, 3° 09′ 52″ O\n",
    "## http://fr.wikipedia.org/wiki/Football_Club_Lorient\n",
    "## http://fr.wikipedia.org/wiki/Stade_du_Moustoir\n",
    "## 47° 44′ 56″ N, 3° 22′ 09″ O\n",
    "## http://fr.wikipedia.org/wiki/Paris_Football_Club\n",
    "## http://fr.wikipedia.org/wiki/Stade_Charl%C3%A9ty\n",
    "## 48° 49′ 07″ N, 2° 20′ 47″ E\n",
    "## http://fr.wikipedia.org/wiki/La_Berrichonne_de_Ch%C3%A2teauroux\n",
    "## http://fr.wikipedia.org/wiki/Stade_Gaston-Petit\n",
    "## 46° 48′ 07″ N, 1° 43′ 18″ E\n",
    "## http://fr.wikipedia.org/wiki/Association_de_la_jeunesse_auxerroise\n",
    "## http://fr.wikipedia.org/wiki/Stade_de_l%27Abb%C3%A9-Deschamps\n",
    "## 47° 47′ 12″ N, 3° 35′ 19″ E\n",
    "## http://fr.wikipedia.org/wiki/Union_sportive_Orl%C3%A9ans_Loiret_football\n",
    "## http://fr.wikipedia.org/wiki/Stade_de_la_Source\n",
    "## 47° 50′ 25″ N, 1° 56′ 28″ E\n",
    "## http://fr.wikipedia.org/wiki/Valenciennes_Football_Club\n",
    "## http://fr.wikipedia.org/wiki/Stade_du_Hainaut\n",
    "## 50° 20′ 55″ N, 3° 31′ 56″ E\n",
    "## http://fr.wikipedia.org/wiki/Chamois_niortais_Football_Club\n",
    "## http://fr.wikipedia.org/wiki/Stade_Ren%C3%A9-Gaillard\n",
    "## 46° 19′ 01″ N, 0° 29′ 21″ O\n",
    "## http://fr.wikipedia.org/wiki/Grenoble_Foot_38\n",
    "## http://fr.wikipedia.org/wiki/Stade_des_Alpes\n",
    "## 45° 11′ 15″ N, 5° 44′ 24″ E\n",
    "## http://fr.wikipedia.org/wiki/Football_Club_Sochaux-Montb%C3%A9liard\n",
    "## http://fr.wikipedia.org/wiki/Stade_Auguste-Bonal\n",
    "## 47° 30′ 44″ N, 6° 48′ 41″ E\n",
    "## http://fr.wikipedia.org/wiki/Rodez_Aveyron_Football\n",
    "## http://fr.wikipedia.org/wiki/Stade_Paul-Lignon\n",
    "## 44° 21′ 06″ N, 2° 33′ 49″ E\n",
    "## http://fr.wikipedia.org/wiki/Football_Club_de_Chambly_Oise\n",
    "## http://fr.wikipedia.org/wiki/Stade_Walter_Luzi\n",
    "## 49° 10′ 45″ N, 2° 14′ 01″ E\n",
    "## http://fr.wikipedia.org/wiki/Esp%C3%A9rance_sportive_Troyes_Aube_Champagne\n",
    "## http://fr.wikipedia.org/wiki/Stade_de_l%27Aube\n",
    "## 48° 18′ 27″ N, 4° 05′ 55″ E\n",
    "## http://fr.wikipedia.org/wiki/Racing_Club_de_Lens\n",
    "## http://fr.wikipedia.org/wiki/Stade_Bollaert-Delelis\n",
    "## 50° 25′ 58″ N, 2° 48′ 54″ E\n",
    "## http://fr.wikipedia.org/wiki/Le_Mans_Football_Club\n",
    "## http://fr.wikipedia.org/wiki/MMArena\n",
    "## 47° 57′ 32″ N, 0° 13′ 29″ E\n",
    "```"
   ]
  },
  {
   "cell_type": "code",
   "execution_count": null,
   "id": "06c8f92f",
   "metadata": {
    "lines_to_next_cell": 2
   },
   "outputs": [],
   "source": [
    "dict = {'division' : division , 'equipe': equipe, 'stade': stade, 'latitude': latitude_stade, 'longitude' : longitude_stade}\n",
    "data = pd.DataFrame(dict)\n",
    "data = data.dropna()"
   ]
  },
  {
   "cell_type": "code",
   "execution_count": null,
<<<<<<< HEAD
   "id": "07d82321",
=======
   "id": "03ebc407",
>>>>>>> master
   "metadata": {},
   "outputs": [],
   "source": [
    "data.head(5)"
   ]
  },
  {
   "cell_type": "markdown",
<<<<<<< HEAD
   "id": "d08f5863",
=======
   "id": "d3047312",
>>>>>>> master
   "metadata": {},
   "source": [
    "```\n",
    "##   division  ...      longitude\n",
    "## 0       L1  ...  2° 15′ 11″ E'\n",
    "## 1       L1  ...  3° 07′ 50″ E'\n",
    "## 2       L1  ...  4° 58′ 55″ E'\n",
    "## 3       L1  ...  4° 23′ 25″ E'\n",
    "## 4       L1  ...  5° 23′ 45″ E'\n",
    "## \n",
    "## [5 rows x 5 columns]\n",
    "```\n",
    "\n",
    "On va transformer les coordonnées en degrés en coordonnées numériques\n",
    "afin d'être en mesure de faire une carte\n"
   ]
  },
  {
   "cell_type": "code",
   "execution_count": null,
<<<<<<< HEAD
   "id": "94fb54a5",
=======
   "id": "80776554",
>>>>>>> master
   "metadata": {
    "lines_to_next_cell": 2
   },
   "outputs": [],
   "source": [
    "import re\n",
    "\n",
    "def dms2dd(degrees, minutes, seconds, direction):\n",
    "    dd = float(degrees) + float(minutes)/60 + float(seconds)/(60*60);\n",
    "    if direction in ('S', 'O'):\n",
    "        dd *= -1\n",
    "    return dd\n",
    "\n",
    "def parse_dms(dms):\n",
    "    parts = re.split('[^\\d\\w]+', dms)\n",
    "    lat = dms2dd(parts[0], parts[1], parts[2], parts[3])\n",
    "    #lng = dms2dd(parts[4], parts[5], parts[6], parts[7])\n",
    "    return lat"
   ]
  },
  {
   "cell_type": "code",
   "execution_count": null,
<<<<<<< HEAD
   "id": "c8dc4e33",
=======
   "id": "e59b71e9",
>>>>>>> master
   "metadata": {},
   "outputs": [],
   "source": [
    "data['latitude'] = data['latitude'].apply(parse_dms)\n",
    "data['longitude'] = data['longitude'].apply(parse_dms)"
   ]
  },
  {
   "cell_type": "markdown",
<<<<<<< HEAD
   "id": "13aeee05",
=======
   "id": "0b6a8f87",
>>>>>>> master
   "metadata": {},
   "source": [
    "Tous les éléments sont en place pour faire une belle carte à ce stade. On\n",
    "va utilise `folium` pour celle-ci, qui est présenté dans la partie\n",
    "[visualisation](#cartotp)\n"
   ]
  },
  {
   "cell_type": "code",
   "execution_count": null,
<<<<<<< HEAD
   "id": "f25c65c1",
=======
   "id": "f7cc595a",
>>>>>>> master
   "metadata": {},
   "outputs": [],
   "source": [
    "#!pip install geopandas\n",
    "import geopandas as gpd\n",
    "from pathlib import Path\n",
    "import folium\n",
    "\n",
    "gdf = gpd.GeoDataFrame(\n",
    "    data, geometry=gpd.points_from_xy(data.longitude, data.latitude))\n",
    "\n",
    "Path(\"leaflet\").mkdir(parents=True, exist_ok=True)\n",
    "\n",
    "center = gdf[['latitude', 'longitude']].mean().values.tolist()\n",
    "sw = gdf[['latitude', 'longitude']].min().values.tolist()\n",
    "ne = gdf[['latitude', 'longitude']].max().values.tolist()\n",
    "\n",
    "m = folium.Map(location = center, tiles='Stamen Toner')\n",
    "\n",
    "# I can add marker one by one on the map\n",
    "for i in range(0,len(gdf)):\n",
    "    folium.Marker([gdf.iloc[i]['latitude'], gdf.iloc[i]['longitude']], popup=gdf.iloc[i]['stade']).add_to(m) #bug du paramètre popup\n",
    "    folium.Marker([gdf.iloc[i]['latitude'], gdf.iloc[i]['longitude']]).add_to(m)"
   ]
  },
  {
   "cell_type": "code",
   "execution_count": null,
<<<<<<< HEAD
   "id": "1ebecddf",
=======
   "id": "57d8ecaf",
>>>>>>> master
   "metadata": {
    "lines_to_next_cell": 2
   },
   "outputs": [],
   "source": [
    "m.fit_bounds([sw, ne])"
   ]
  },
  {
<<<<<<< HEAD
   "cell_type": "code",
   "execution_count": null,
   "id": "04962d69",
   "metadata": {
    "lines_to_next_cell": 0
   },
   "outputs": [],
=======
   "cell_type": "markdown",
   "id": "2ef14469",
   "metadata": {},
>>>>>>> master
   "source": [
    "# Afficher la carte\n",
    "m"
   ]
  },
  {
   "cell_type": "markdown",
<<<<<<< HEAD
   "id": "a1469721",
   "metadata": {},
   "source": []
  },
  {
   "cell_type": "markdown",
   "id": "2288c0be",
=======
   "id": "115af1b4",
>>>>>>> master
   "metadata": {},
   "source": [
    "La carte obtenue doit ressembler à la suivante:\n",
    "\n",
<<<<<<< HEAD
    "<div style=\"width:100%;\"><div style=\"position:relative;width:100%;height:0;padding-bottom:60%;\"><span style=\"color:#565656\">Make this Notebook Trusted to load map: File -> Trust Notebook</span><iframe src=\"about:blank\" style=\"position:absolute;width:100%;height:100%;left:0;top:0;border:none !important;\" data-html=%3C%21DOCTYPE%20html%3E%0A%3Chead%3E%20%20%20%20%0A%20%20%20%20%3Cmeta%20http-equiv%3D%22content-type%22%20content%3D%22text/html%3B%20charset%3DUTF-8%22%20/%3E%0A%20%20%20%20%0A%20%20%20%20%20%20%20%20%3Cscript%3E%0A%20%20%20%20%20%20%20%20%20%20%20%20L_NO_TOUCH%20%3D%20false%3B%0A%20%20%20%20%20%20%20%20%20%20%20%20L_DISABLE_3D%20%3D%20false%3B%0A%20%20%20%20%20%20%20%20%3C/script%3E%0A%20%20%20%20%0A%20%20%20%20%3Cstyle%3Ehtml%2C%20body%20%7Bwidth%3A%20100%25%3Bheight%3A%20100%25%3Bmargin%3A%200%3Bpadding%3A%200%3B%7D%3C/style%3E%0A%20%20%20%20%3Cstyle%3E%23map%20%7Bposition%3Aabsolute%3Btop%3A0%3Bbottom%3A0%3Bright%3A0%3Bleft%3A0%3B%7D%3C/style%3E%0A%20%20%20%20%3Cscript%20src%3D%22https%3A//cdn.jsdelivr.net/npm/leaflet%401.6.0/dist/leaflet.js%22%3E%3C/script%3E%0A%20%20%20%20%3Cscript%20src%3D%22https%3A//code.jquery.com/jquery-1.12.4.min.js%22%3E%3C/script%3E%0A%20%20%20%20%3Cscript%20src%3D%22https%3A//maxcdn.bootstrapcdn.com/bootstrap/3.2.0/js/bootstrap.min.js%22%3E%3C/script%3E%0A%20%20%20%20%3Cscript%20src%3D%22https%3A//cdnjs.cloudflare.com/ajax/libs/Leaflet.awesome-markers/2.0.2/leaflet.awesome-markers.js%22%3E%3C/script%3E%0A%20%20%20%20%3Clink%20rel%3D%22stylesheet%22%20href%3D%22https%3A//cdn.jsdelivr.net/npm/leaflet%401.6.0/dist/leaflet.css%22/%3E%0A%20%20%20%20%3Clink%20rel%3D%22stylesheet%22%20href%3D%22https%3A//maxcdn.bootstrapcdn.com/bootstrap/3.2.0/css/bootstrap.min.css%22/%3E%0A%20%20%20%20%3Clink%20rel%3D%22stylesheet%22%20href%3D%22https%3A//maxcdn.bootstrapcdn.com/bootstrap/3.2.0/css/bootstrap-theme.min.css%22/%3E%0A%20%20%20%20%3Clink%20rel%3D%22stylesheet%22%20href%3D%22https%3A//maxcdn.bootstrapcdn.com/font-awesome/4.6.3/css/font-awesome.min.css%22/%3E%0A%20%20%20%20%3Clink%20rel%3D%22stylesheet%22%20href%3D%22https%3A//cdnjs.cloudflare.com/ajax/libs/Leaflet.awesome-markers/2.0.2/leaflet.awesome-markers.css%22/%3E%0A%20%20%20%20%3Clink%20rel%3D%22stylesheet%22%20href%3D%22https%3A//cdn.jsdelivr.net/gh/python-visualization/folium/folium/templates/leaflet.awesome.rotate.min.css%22/%3E%0A%20%20%20%20%0A%20%20%20%20%20%20%20%20%20%20%20%20%3Cmeta%20name%3D%22viewport%22%20content%3D%22width%3Ddevice-width%2C%0A%20%20%20%20%20%20%20%20%20%20%20%20%20%20%20%20initial-scale%3D1.0%2C%20maximum-scale%3D1.0%2C%20user-scalable%3Dno%22%20/%3E%0A%20%20%20%20%20%20%20%20%20%20%20%20%3Cstyle%3E%0A%20%20%20%20%20%20%20%20%20%20%20%20%20%20%20%20%23map_fbf641a940c94328a431c592fed5bdd5%20%7B%0A%20%20%20%20%20%20%20%20%20%20%20%20%20%20%20%20%20%20%20%20position%3A%20relative%3B%0A%20%20%20%20%20%20%20%20%20%20%20%20%20%20%20%20%20%20%20%20width%3A%20100.0%25%3B%0A%20%20%20%20%20%20%20%20%20%20%20%20%20%20%20%20%20%20%20%20height%3A%20100.0%25%3B%0A%20%20%20%20%20%20%20%20%20%20%20%20%20%20%20%20%20%20%20%20left%3A%200.0%25%3B%0A%20%20%20%20%20%20%20%20%20%20%20%20%20%20%20%20%20%20%20%20top%3A%200.0%25%3B%0A%20%20%20%20%20%20%20%20%20%20%20%20%20%20%20%20%7D%0A%20%20%20%20%20%20%20%20%20%20%20%20%3C/style%3E%0A%20%20%20%20%20%20%20%20%0A%3C/head%3E%0A%3Cbody%3E%20%20%20%20%0A%20%20%20%20%0A%20%20%20%20%20%20%20%20%20%20%20%20%3Cdiv%20class%3D%22folium-map%22%20id%3D%22map_fbf641a940c94328a431c592fed5bdd5%22%20%3E%3C/div%3E%0A%20%20%20%20%20%20%20%20%0A%3C/body%3E%0A%3Cscript%3E%20%20%20%20%0A%20%20%20%20%0A%20%20%20%20%20%20%20%20%20%20%20%20var%20map_fbf641a940c94328a431c592fed5bdd5%20%3D%20L.map%28%0A%20%20%20%20%20%20%20%20%20%20%20%20%20%20%20%20%22map_fbf641a940c94328a431c592fed5bdd5%22%2C%0A%20%20%20%20%20%20%20%20%20%20%20%20%20%20%20%20%7B%0A%20%20%20%20%20%20%20%20%20%20%20%20%20%20%20%20%20%20%20%20center%3A%20%5B47.25663817663817%2C%202.578048433048433%5D%2C%0A%20%20%20%20%20%20%20%20%20%20%20%20%20%20%20%20%20%20%20%20crs%3A%20L.CRS.EPSG3857%2C%0A%20%20%20%20%20%20%20%20%20%20%20%20%20%20%20%20%20%20%20%20zoom%3A%2010%2C%0A%20%20%20%20%20%20%20%20%20%20%20%20%20%20%20%20%20%20%20%20zoomControl%3A%20true%2C%0A%20%20%20%20%20%20%20%20%20%20%20%20%20%20%20%20%20%20%20%20preferCanvas%3A%20false%2C%0A%20%20%20%20%20%20%20%20%20%20%20%20%20%20%20%20%7D%0A%20%20%20%20%20%20%20%20%20%20%20%20%29%3B%0A%0A%20%20%20%20%20%20%20%20%20%20%20%20%0A%0A%20%20%20%20%20%20%20%20%0A%20%20%20%20%0A%20%20%20%20%20%20%20%20%20%20%20%20var%20tile_layer_58370aafe11a4162bc47799f1bc711a7%20%3D%20L.tileLayer%28%0A%20%20%20%20%20%20%20%20%20%20%20%20%20%20%20%20%22https%3A//stamen-tiles-%7Bs%7D.a.ssl.fastly.net/toner/%7Bz%7D/%7Bx%7D/%7By%7D.png%22%2C%0A%20%20%20%20%20%20%20%20%20%20%20%20%20%20%20%20%7B%22attribution%22%3A%20%22Map%20tiles%20by%20%5Cu003ca%20href%3D%5C%22http%3A//stamen.com%5C%22%5Cu003eStamen%20Design%5Cu003c/a%5Cu003e%2C%20under%20%5Cu003ca%20href%3D%5C%22http%3A//creativecommons.org/licenses/by/3.0%5C%22%5Cu003eCC%20BY%203.0%5Cu003c/a%5Cu003e.%20Data%20by%20%5Cu0026copy%3B%20%5Cu003ca%20href%3D%5C%22http%3A//openstreetmap.org%5C%22%5Cu003eOpenStreetMap%5Cu003c/a%5Cu003e%2C%20under%20%5Cu003ca%20href%3D%5C%22http%3A//www.openstreetmap.org/copyright%5C%22%5Cu003eODbL%5Cu003c/a%5Cu003e.%22%2C%20%22detectRetina%22%3A%20false%2C%20%22maxNativeZoom%22%3A%2018%2C%20%22maxZoom%22%3A%2018%2C%20%22minZoom%22%3A%200%2C%20%22noWrap%22%3A%20false%2C%20%22opacity%22%3A%201%2C%20%22subdomains%22%3A%20%22abc%22%2C%20%22tms%22%3A%20false%7D%0A%20%20%20%20%20%20%20%20%20%20%20%20%29.addTo%28map_fbf641a940c94328a431c592fed5bdd5%29%3B%0A%20%20%20%20%20%20%20%20%0A%20%20%20%20%0A%20%20%20%20%20%20%20%20%20%20%20%20var%20marker_b1bb5b757e314deca00dad7714fbcf45%20%3D%20L.marker%28%0A%20%20%20%20%20%20%20%20%20%20%20%20%20%20%20%20%5B48.84138888888889%2C%202.2530555555555556%5D%2C%0A%20%20%20%20%20%20%20%20%20%20%20%20%20%20%20%20%7B%7D%0A%20%20%20%20%20%20%20%20%20%20%20%20%29.addTo%28map_fbf641a940c94328a431c592fed5bdd5%29%3B%0A%20%20%20%20%20%20%20%20%0A%20%20%20%20%0A%20%20%20%20%20%20%20%20var%20popup_642b8dcae99c4971a1323aa13b31b24d%20%3D%20L.popup%28%7B%22maxWidth%22%3A%20%22100%25%22%7D%29%3B%0A%0A%20%20%20%20%20%20%20%20%0A%20%20%20%20%20%20%20%20%20%20%20%20var%20html_8bdf8ff5e9b14014a385e117e48b8092%20%3D%20%24%28%60%3Cdiv%20id%3D%22html_8bdf8ff5e9b14014a385e117e48b8092%22%20style%3D%22width%3A%20100.0%25%3B%20height%3A%20100.0%25%3B%22%3EParc%20des%20Princes%3C/div%3E%60%29%5B0%5D%3B%0A%20%20%20%20%20%20%20%20%20%20%20%20popup_642b8dcae99c4971a1323aa13b31b24d.setContent%28html_8bdf8ff5e9b14014a385e117e48b8092%29%3B%0A%20%20%20%20%20%20%20%20%0A%0A%20%20%20%20%20%20%20%20marker_b1bb5b757e314deca00dad7714fbcf45.bindPopup%28popup_642b8dcae99c4971a1323aa13b31b24d%29%0A%20%20%20%20%20%20%20%20%3B%0A%0A%20%20%20%20%20%20%20%20%0A%20%20%20%20%0A%20%20%20%20%0A%20%20%20%20%20%20%20%20%20%20%20%20var%20marker_db0b1419e3fa46698aa81f3dd9c89060%20%3D%20L.marker%28%0A%20%20%20%20%20%20%20%20%20%20%20%20%20%20%20%20%5B48.84138888888889%2C%202.2530555555555556%5D%2C%0A%20%20%20%20%20%20%20%20%20%20%20%20%20%20%20%20%7B%7D%0A%20%20%20%20%20%20%20%20%20%20%20%20%29.addTo%28map_fbf641a940c94328a431c592fed5bdd5%29%3B%0A%20%20%20%20%20%20%20%20%0A%20%20%20%20%0A%20%20%20%20%20%20%20%20%20%20%20%20var%20marker_0937227e392a4118a333ab8033b67eef%20%3D%20L.marker%28%0A%20%20%20%20%20%20%20%20%20%20%20%20%20%20%20%20%5B50.61194444444445%2C%203.1305555555555555%5D%2C%0A%20%20%20%20%20%20%20%20%20%20%20%20%20%20%20%20%7B%7D%0A%20%20%20%20%20%20%20%20%20%20%20%20%29.addTo%28map_fbf641a940c94328a431c592fed5bdd5%29%3B%0A%20%20%20%20%20%20%20%20%0A%20%20%20%20%0A%20%20%20%20%20%20%20%20var%20popup_7a1fbb73ccb64483a43dab0dad79314d%20%3D%20L.popup%28%7B%22maxWidth%22%3A%20%22100%25%22%7D%29%3B%0A%0A%20%20%20%20%20%20%20%20%0A%20%20%20%20%20%20%20%20%20%20%20%20var%20html_016fcf1421ce427080656897d4ea03fb%20%3D%20%24%28%60%3Cdiv%20id%3D%22html_016fcf1421ce427080656897d4ea03fb%22%20style%3D%22width%3A%20100.0%25%3B%20height%3A%20100.0%25%3B%22%3EStade%20Pierre-Mauroy%3C/div%3E%60%29%5B0%5D%3B%0A%20%20%20%20%20%20%20%20%20%20%20%20popup_7a1fbb73ccb64483a43dab0dad79314d.setContent%28html_016fcf1421ce427080656897d4ea03fb%29%3B%0A%20%20%20%20%20%20%20%20%0A%0A%20%20%20%20%20%20%20%20marker_0937227e392a4118a333ab8033b67eef.bindPopup%28popup_7a1fbb73ccb64483a43dab0dad79314d%29%0A%20%20%20%20%20%20%20%20%3B%0A%0A%20%20%20%20%20%20%20%20%0A%20%20%20%20%0A%20%20%20%20%0A%20%20%20%20%20%20%20%20%20%20%20%20var%20marker_33904e5ae3f44d2dbaceab66e1a3b629%20%3D%20L.marker%28%0A%20%20%20%20%20%20%20%20%20%20%20%20%20%20%20%20%5B50.61194444444445%2C%203.1305555555555555%5D%2C%0A%20%20%20%20%20%20%20%20%20%20%20%20%20%20%20%20%7B%7D%0A%20%20%20%20%20%20%20%20%20%20%20%20%29.addTo%28map_fbf641a940c94328a431c592fed5bdd5%29%3B%0A%20%20%20%20%20%20%20%20%0A%20%20%20%20%0A%20%20%20%20%20%20%20%20%20%20%20%20var%20marker_90f366091d9a4da7809e99d5a000aedc%20%3D%20L.marker%28%0A%20%20%20%20%20%20%20%20%20%20%20%20%20%20%20%20%5B45.765277777777776%2C%204.981944444444444%5D%2C%0A%20%20%20%20%20%20%20%20%20%20%20%20%20%20%20%20%7B%7D%0A%20%20%20%20%20%20%20%20%20%20%20%20%29.addTo%28map_fbf641a940c94328a431c592fed5bdd5%29%3B%0A%20%20%20%20%20%20%20%20%0A%20%20%20%20%0A%20%20%20%20%20%20%20%20var%20popup_aa67e7b619a74fb3992f7009e0482caf%20%3D%20L.popup%28%7B%22maxWidth%22%3A%20%22100%25%22%7D%29%3B%0A%0A%20%20%20%20%20%20%20%20%0A%20%20%20%20%20%20%20%20%20%20%20%20var%20html_6ff00168b7d2451e95485d605cd9c5d1%20%3D%20%24%28%60%3Cdiv%20id%3D%22html_6ff00168b7d2451e95485d605cd9c5d1%22%20style%3D%22width%3A%20100.0%25%3B%20height%3A%20100.0%25%3B%22%3EParc%20Olympique%20lyonnais%3C/div%3E%60%29%5B0%5D%3B%0A%20%20%20%20%20%20%20%20%20%20%20%20popup_aa67e7b619a74fb3992f7009e0482caf.setContent%28html_6ff00168b7d2451e95485d605cd9c5d1%29%3B%0A%20%20%20%20%20%20%20%20%0A%0A%20%20%20%20%20%20%20%20marker_90f366091d9a4da7809e99d5a000aedc.bindPopup%28popup_aa67e7b619a74fb3992f7009e0482caf%29%0A%20%20%20%20%20%20%20%20%3B%0A%0A%20%20%20%20%20%20%20%20%0A%20%20%20%20%0A%20%20%20%20%0A%20%20%20%20%20%20%20%20%20%20%20%20var%20marker_c0fb97d8f1904ccfa1685b2f7836e243%20%3D%20L.marker%28%0A%20%20%20%20%20%20%20%20%20%20%20%20%20%20%20%20%5B45.765277777777776%2C%204.981944444444444%5D%2C%0A%20%20%20%20%20%20%20%20%20%20%20%20%20%20%20%20%7B%7D%0A%20%20%20%20%20%20%20%20%20%20%20%20%29.addTo%28map_fbf641a940c94328a431c592fed5bdd5%29%3B%0A%20%20%20%20%20%20%20%20%0A%20%20%20%20%0A%20%20%20%20%20%20%20%20%20%20%20%20var%20marker_f97b45b91f5f427bb526d03894a23eec%20%3D%20L.marker%28%0A%20%20%20%20%20%20%20%20%20%20%20%20%20%20%20%20%5B45.46083333333333%2C%204.390277777777778%5D%2C%0A%20%20%20%20%20%20%20%20%20%20%20%20%20%20%20%20%7B%7D%0A%20%20%20%20%20%20%20%20%20%20%20%20%29.addTo%28map_fbf641a940c94328a431c592fed5bdd5%29%3B%0A%20%20%20%20%20%20%20%20%0A%20%20%20%20%0A%20%20%20%20%20%20%20%20var%20popup_05ad5311db9743c498ce2fe6688a11cd%20%3D%20L.popup%28%7B%22maxWidth%22%3A%20%22100%25%22%7D%29%3B%0A%0A%20%20%20%20%20%20%20%20%0A%20%20%20%20%20%20%20%20%20%20%20%20var%20html_88e95b9ec5d54a11a104762d5eeca4ee%20%3D%20%24%28%60%3Cdiv%20id%3D%22html_88e95b9ec5d54a11a104762d5eeca4ee%22%20style%3D%22width%3A%20100.0%25%3B%20height%3A%20100.0%25%3B%22%3EStade%20Geoffroy-Guichard%3C/div%3E%60%29%5B0%5D%3B%0A%20%20%20%20%20%20%20%20%20%20%20%20popup_05ad5311db9743c498ce2fe6688a11cd.setContent%28html_88e95b9ec5d54a11a104762d5eeca4ee%29%3B%0A%20%20%20%20%20%20%20%20%0A%0A%20%20%20%20%20%20%20%20marker_f97b45b91f5f427bb526d03894a23eec.bindPopup%28popup_05ad5311db9743c498ce2fe6688a11cd%29%0A%20%20%20%20%20%20%20%20%3B%0A%0A%20%20%20%20%20%20%20%20%0A%20%20%20%20%0A%20%20%20%20%0A%20%20%20%20%20%20%20%20%20%20%20%20var%20marker_705ad65129ee466f863a84cf9d68e897%20%3D%20L.marker%28%0A%20%20%20%20%20%20%20%20%20%20%20%20%20%20%20%20%5B45.46083333333333%2C%204.390277777777778%5D%2C%0A%20%20%20%20%20%20%20%20%20%20%20%20%20%20%20%20%7B%7D%0A%20%20%20%20%20%20%20%20%20%20%20%20%29.addTo%28map_fbf641a940c94328a431c592fed5bdd5%29%3B%0A%20%20%20%20%20%20%20%20%0A%20%20%20%20%0A%20%20%20%20%20%20%20%20%20%20%20%20var%20marker_d62492d4c7874d3297e624f5bf38e3ee%20%3D%20L.marker%28%0A%20%20%20%20%20%20%20%20%20%20%20%20%20%20%20%20%5B43.26972222222222%2C%205.395833333333334%5D%2C%0A%20%20%20%20%20%20%20%20%20%20%20%20%20%20%20%20%7B%7D%0A%20%20%20%20%20%20%20%20%20%20%20%20%29.addTo%28map_fbf641a940c94328a431c592fed5bdd5%29%3B%0A%20%20%20%20%20%20%20%20%0A%20%20%20%20%0A%20%20%20%20%20%20%20%20var%20popup_95186964964e4cdb8f0fecdf343cb555%20%3D%20L.popup%28%7B%22maxWidth%22%3A%20%22100%25%22%7D%29%3B%0A%0A%20%20%20%20%20%20%20%20%0A%20%20%20%20%20%20%20%20%20%20%20%20var%20html_103b30a75b4d42c696d091e3dd154973%20%3D%20%24%28%60%3Cdiv%20id%3D%22html_103b30a75b4d42c696d091e3dd154973%22%20style%3D%22width%3A%20100.0%25%3B%20height%3A%20100.0%25%3B%22%3EOrange%20V%C3%A9lodrome%3C/div%3E%60%29%5B0%5D%3B%0A%20%20%20%20%20%20%20%20%20%20%20%20popup_95186964964e4cdb8f0fecdf343cb555.setContent%28html_103b30a75b4d42c696d091e3dd154973%29%3B%0A%20%20%20%20%20%20%20%20%0A%0A%20%20%20%20%20%20%20%20marker_d62492d4c7874d3297e624f5bf38e3ee.bindPopup%28popup_95186964964e4cdb8f0fecdf343cb555%29%0A%20%20%20%20%20%20%20%20%3B%0A%0A%20%20%20%20%20%20%20%20%0A%20%20%20%20%0A%20%20%20%20%0A%20%20%20%20%20%20%20%20%20%20%20%20var%20marker_141c9ad07f654cda917ebcf256433743%20%3D%20L.marker%28%0A%20%20%20%20%20%20%20%20%20%20%20%20%20%20%20%20%5B43.26972222222222%2C%205.395833333333334%5D%2C%0A%20%20%20%20%20%20%20%20%20%20%20%20%20%20%20%20%7B%7D%0A%20%20%20%20%20%20%20%20%20%20%20%20%29.addTo%28map_fbf641a940c94328a431c592fed5bdd5%29%3B%0A%20%20%20%20%20%20%20%20%0A%20%20%20%20%0A%20%20%20%20%20%20%20%20%20%20%20%20var%20marker_a602aed5d7b84cc09e045650a64be463%20%3D%20L.marker%28%0A%20%20%20%20%20%20%20%20%20%20%20%20%20%20%20%20%5B43.621944444444445%2C%203.812222222222222%5D%2C%0A%20%20%20%20%20%20%20%20%20%20%20%20%20%20%20%20%7B%7D%0A%20%20%20%20%20%20%20%20%20%20%20%20%29.addTo%28map_fbf641a940c94328a431c592fed5bdd5%29%3B%0A%20%20%20%20%20%20%20%20%0A%20%20%20%20%0A%20%20%20%20%20%20%20%20var%20popup_36f95d0617b44c938cb3125dde7894de%20%3D%20L.popup%28%7B%22maxWidth%22%3A%20%22100%25%22%7D%29%3B%0A%0A%20%20%20%20%20%20%20%20%0A%20%20%20%20%20%20%20%20%20%20%20%20var%20html_b59d186319dc4f9a84226cd7fac3badb%20%3D%20%24%28%60%3Cdiv%20id%3D%22html_b59d186319dc4f9a84226cd7fac3badb%22%20style%3D%22width%3A%20100.0%25%3B%20height%3A%20100.0%25%3B%22%3EStade%20de%20la%20Mosson%3C/div%3E%60%29%5B0%5D%3B%0A%20%20%20%20%20%20%20%20%20%20%20%20popup_36f95d0617b44c938cb3125dde7894de.setContent%28html_b59d186319dc4f9a84226cd7fac3badb%29%3B%0A%20%20%20%20%20%20%20%20%0A%0A%20%20%20%20%20%20%20%20marker_a602aed5d7b84cc09e045650a64be463.bindPopup%28popup_36f95d0617b44c938cb3125dde7894de%29%0A%20%20%20%20%20%20%20%20%3B%0A%0A%20%20%20%20%20%20%20%20%0A%20%20%20%20%0A%20%20%20%20%0A%20%20%20%20%20%20%20%20%20%20%20%20var%20marker_a5f899e75b6c4771a7c16435d1584b6d%20%3D%20L.marker%28%0A%20%20%20%20%20%20%20%20%20%20%20%20%20%20%20%20%5B43.621944444444445%2C%203.812222222222222%5D%2C%0A%20%20%20%20%20%20%20%20%20%20%20%20%20%20%20%20%7B%7D%0A%20%20%20%20%20%20%20%20%20%20%20%20%29.addTo%28map_fbf641a940c94328a431c592fed5bdd5%29%3B%0A%20%20%20%20%20%20%20%20%0A%20%20%20%20%0A%20%20%20%20%20%20%20%20%20%20%20%20var%20marker_4c416b9004934ed8ae664f9b259ac72e%20%3D%20L.marker%28%0A%20%20%20%20%20%20%20%20%20%20%20%20%20%20%20%20%5B49.24666666666667%2C%204.025%5D%2C%0A%20%20%20%20%20%20%20%20%20%20%20%20%20%20%20%20%7B%7D%0A%20%20%20%20%20%20%20%20%20%20%20%20%29.addTo%28map_fbf641a940c94328a431c592fed5bdd5%29%3B%0A%20%20%20%20%20%20%20%20%0A%20%20%20%20%0A%20%20%20%20%20%20%20%20var%20popup_af4f0cb54cf9423b9ccf25ee6a862b5c%20%3D%20L.popup%28%7B%22maxWidth%22%3A%20%22100%25%22%7D%29%3B%0A%0A%20%20%20%20%20%20%20%20%0A%20%20%20%20%20%20%20%20%20%20%20%20var%20html_28d78d1cab6345bfb5249d7ff446f31d%20%3D%20%24%28%60%3Cdiv%20id%3D%22html_28d78d1cab6345bfb5249d7ff446f31d%22%20style%3D%22width%3A%20100.0%25%3B%20height%3A%20100.0%25%3B%22%3EStade%20Auguste-Delaune%3C/div%3E%60%29%5B0%5D%3B%0A%20%20%20%20%20%20%20%20%20%20%20%20popup_af4f0cb54cf9423b9ccf25ee6a862b5c.setContent%28html_28d78d1cab6345bfb5249d7ff446f31d%29%3B%0A%20%20%20%20%20%20%20%20%0A%0A%20%20%20%20%20%20%20%20marker_4c416b9004934ed8ae664f9b259ac72e.bindPopup%28popup_af4f0cb54cf9423b9ccf25ee6a862b5c%29%0A%20%20%20%20%20%20%20%20%3B%0A%0A%20%20%20%20%20%20%20%20%0A%20%20%20%20%0A%20%20%20%20%0A%20%20%20%20%20%20%20%20%20%20%20%20var%20marker_ad3204cf62cf432c864ea964f72ac832%20%3D%20L.marker%28%0A%20%20%20%20%20%20%20%20%20%20%20%20%20%20%20%20%5B49.24666666666667%2C%204.025%5D%2C%0A%20%20%20%20%20%20%20%20%20%20%20%20%20%20%20%20%7B%7D%0A%20%20%20%20%20%20%20%20%20%20%20%20%29.addTo%28map_fbf641a940c94328a431c592fed5bdd5%29%3B%0A%20%20%20%20%20%20%20%20%0A%20%20%20%20%0A%20%20%20%20%20%20%20%20%20%20%20%20var%20marker_7dd330f6b9dc48fda397983ecd94118f%20%3D%20L.marker%28%0A%20%20%20%20%20%20%20%20%20%20%20%20%20%20%20%20%5B43.705000000000005%2C%207.1925%5D%2C%0A%20%20%20%20%20%20%20%20%20%20%20%20%20%20%20%20%7B%7D%0A%20%20%20%20%20%20%20%20%20%20%20%20%29.addTo%28map_fbf641a940c94328a431c592fed5bdd5%29%3B%0A%20%20%20%20%20%20%20%20%0A%20%20%20%20%0A%20%20%20%20%20%20%20%20var%20popup_7e8ca89c685e4598a62b6ed910a79f4c%20%3D%20L.popup%28%7B%22maxWidth%22%3A%20%22100%25%22%7D%29%3B%0A%0A%20%20%20%20%20%20%20%20%0A%20%20%20%20%20%20%20%20%20%20%20%20var%20html_280e9d5579984f4bb4a134cf0e6df68b%20%3D%20%24%28%60%3Cdiv%20id%3D%22html_280e9d5579984f4bb4a134cf0e6df68b%22%20style%3D%22width%3A%20100.0%25%3B%20height%3A%20100.0%25%3B%22%3EAllianz%20Riviera%3C/div%3E%60%29%5B0%5D%3B%0A%20%20%20%20%20%20%20%20%20%20%20%20popup_7e8ca89c685e4598a62b6ed910a79f4c.setContent%28html_280e9d5579984f4bb4a134cf0e6df68b%29%3B%0A%20%20%20%20%20%20%20%20%0A%0A%20%20%20%20%20%20%20%20marker_7dd330f6b9dc48fda397983ecd94118f.bindPopup%28popup_7e8ca89c685e4598a62b6ed910a79f4c%29%0A%20%20%20%20%20%20%20%20%3B%0A%0A%20%20%20%20%20%20%20%20%0A%20%20%20%20%0A%20%20%20%20%0A%20%20%20%20%20%20%20%20%20%20%20%20var%20marker_b39cf158cd5a4836a28c7391da204453%20%3D%20L.marker%28%0A%20%20%20%20%20%20%20%20%20%20%20%20%20%20%20%20%5B43.705000000000005%2C%207.1925%5D%2C%0A%20%20%20%20%20%20%20%20%20%20%20%20%20%20%20%20%7B%7D%0A%20%20%20%20%20%20%20%20%20%20%20%20%29.addTo%28map_fbf641a940c94328a431c592fed5bdd5%29%3B%0A%20%20%20%20%20%20%20%20%0A%20%20%20%20%0A%20%20%20%20%20%20%20%20%20%20%20%20var%20marker_6a4350de31544589bc804abf77e963a8%20%3D%20L.marker%28%0A%20%20%20%20%20%20%20%20%20%20%20%20%20%20%20%20%5B43.816111111111105%2C%204.359166666666666%5D%2C%0A%20%20%20%20%20%20%20%20%20%20%20%20%20%20%20%20%7B%7D%0A%20%20%20%20%20%20%20%20%20%20%20%20%29.addTo%28map_fbf641a940c94328a431c592fed5bdd5%29%3B%0A%20%20%20%20%20%20%20%20%0A%20%20%20%20%0A%20%20%20%20%20%20%20%20var%20popup_7c3be72a062241b8a66d857f6b9adb6e%20%3D%20L.popup%28%7B%22maxWidth%22%3A%20%22100%25%22%7D%29%3B%0A%0A%20%20%20%20%20%20%20%20%0A%20%20%20%20%20%20%20%20%20%20%20%20var%20html_9f074530e6a7410ebaf827d2be2d6411%20%3D%20%24%28%60%3Cdiv%20id%3D%22html_9f074530e6a7410ebaf827d2be2d6411%22%20style%3D%22width%3A%20100.0%25%3B%20height%3A%20100.0%25%3B%22%3EStade%20des%20Costi%C3%A8res%3C/div%3E%60%29%5B0%5D%3B%0A%20%20%20%20%20%20%20%20%20%20%20%20popup_7c3be72a062241b8a66d857f6b9adb6e.setContent%28html_9f074530e6a7410ebaf827d2be2d6411%29%3B%0A%20%20%20%20%20%20%20%20%0A%0A%20%20%20%20%20%20%20%20marker_6a4350de31544589bc804abf77e963a8.bindPopup%28popup_7c3be72a062241b8a66d857f6b9adb6e%29%0A%20%20%20%20%20%20%20%20%3B%0A%0A%20%20%20%20%20%20%20%20%0A%20%20%20%20%0A%20%20%20%20%0A%20%20%20%20%20%20%20%20%20%20%20%20var%20marker_ea0a3b9069ac46b78aad549f01012df0%20%3D%20L.marker%28%0A%20%20%20%20%20%20%20%20%20%20%20%20%20%20%20%20%5B43.816111111111105%2C%204.359166666666666%5D%2C%0A%20%20%20%20%20%20%20%20%20%20%20%20%20%20%20%20%7B%7D%0A%20%20%20%20%20%20%20%20%20%20%20%20%29.addTo%28map_fbf641a940c94328a431c592fed5bdd5%29%3B%0A%20%20%20%20%20%20%20%20%0A%20%20%20%20%0A%20%20%20%20%20%20%20%20%20%20%20%20var%20marker_06e602346cb944b1a87f1b3032d8bf26%20%3D%20L.marker%28%0A%20%20%20%20%20%20%20%20%20%20%20%20%20%20%20%20%5B48.559999999999995%2C%207.755%5D%2C%0A%20%20%20%20%20%20%20%20%20%20%20%20%20%20%20%20%7B%7D%0A%20%20%20%20%20%20%20%20%20%20%20%20%29.addTo%28map_fbf641a940c94328a431c592fed5bdd5%29%3B%0A%20%20%20%20%20%20%20%20%0A%20%20%20%20%0A%20%20%20%20%20%20%20%20var%20popup_e4ab8a8b8ebb498a8dc079807a8bd6ee%20%3D%20L.popup%28%7B%22maxWidth%22%3A%20%22100%25%22%7D%29%3B%0A%0A%20%20%20%20%20%20%20%20%0A%20%20%20%20%20%20%20%20%20%20%20%20var%20html_d6b2ebfa8ae14abcb4345ac79ad30fd2%20%3D%20%24%28%60%3Cdiv%20id%3D%22html_d6b2ebfa8ae14abcb4345ac79ad30fd2%22%20style%3D%22width%3A%20100.0%25%3B%20height%3A%20100.0%25%3B%22%3EStade%20de%20la%20Meinau%3C/div%3E%60%29%5B0%5D%3B%0A%20%20%20%20%20%20%20%20%20%20%20%20popup_e4ab8a8b8ebb498a8dc079807a8bd6ee.setContent%28html_d6b2ebfa8ae14abcb4345ac79ad30fd2%29%3B%0A%20%20%20%20%20%20%20%20%0A%0A%20%20%20%20%20%20%20%20marker_06e602346cb944b1a87f1b3032d8bf26.bindPopup%28popup_e4ab8a8b8ebb498a8dc079807a8bd6ee%29%0A%20%20%20%20%20%20%20%20%3B%0A%0A%20%20%20%20%20%20%20%20%0A%20%20%20%20%0A%20%20%20%20%0A%20%20%20%20%20%20%20%20%20%20%20%20var%20marker_93bdc8f6506141a681d769b59f6655c4%20%3D%20L.marker%28%0A%20%20%20%20%20%20%20%20%20%20%20%20%20%20%20%20%5B48.559999999999995%2C%207.755%5D%2C%0A%20%20%20%20%20%20%20%20%20%20%20%20%20%20%20%20%7B%7D%0A%20%20%20%20%20%20%20%20%20%20%20%20%29.addTo%28map_fbf641a940c94328a431c592fed5bdd5%29%3B%0A%20%20%20%20%20%20%20%20%0A%20%20%20%20%0A%20%20%20%20%20%20%20%20%20%20%20%20var%20marker_77390b8965c44676b7679899d062c1d5%20%3D%20L.marker%28%0A%20%20%20%20%20%20%20%20%20%20%20%20%20%20%20%20%5B48.1075%2C%20-1.7127777777777777%5D%2C%0A%20%20%20%20%20%20%20%20%20%20%20%20%20%20%20%20%7B%7D%0A%20%20%20%20%20%20%20%20%20%20%20%20%29.addTo%28map_fbf641a940c94328a431c592fed5bdd5%29%3B%0A%20%20%20%20%20%20%20%20%0A%20%20%20%20%0A%20%20%20%20%20%20%20%20var%20popup_237cbfbb25044eb6b74124975791c8af%20%3D%20L.popup%28%7B%22maxWidth%22%3A%20%22100%25%22%7D%29%3B%0A%0A%20%20%20%20%20%20%20%20%0A%20%20%20%20%20%20%20%20%20%20%20%20var%20html_6b69e10a3d38407e89af6ca704d47e8e%20%3D%20%24%28%60%3Cdiv%20id%3D%22html_6b69e10a3d38407e89af6ca704d47e8e%22%20style%3D%22width%3A%20100.0%25%3B%20height%3A%20100.0%25%3B%22%3ERoazhon%20Park%3C/div%3E%60%29%5B0%5D%3B%0A%20%20%20%20%20%20%20%20%20%20%20%20popup_237cbfbb25044eb6b74124975791c8af.setContent%28html_6b69e10a3d38407e89af6ca704d47e8e%29%3B%0A%20%20%20%20%20%20%20%20%0A%0A%20%20%20%20%20%20%20%20marker_77390b8965c44676b7679899d062c1d5.bindPopup%28popup_237cbfbb25044eb6b74124975791c8af%29%0A%20%20%20%20%20%20%20%20%3B%0A%0A%20%20%20%20%20%20%20%20%0A%20%20%20%20%0A%20%20%20%20%0A%20%20%20%20%20%20%20%20%20%20%20%20var%20marker_1d7b90d6e0da407393dafd282577c838%20%3D%20L.marker%28%0A%20%20%20%20%20%20%20%20%20%20%20%20%20%20%20%20%5B48.1075%2C%20-1.7127777777777777%5D%2C%0A%20%20%20%20%20%20%20%20%20%20%20%20%20%20%20%20%7B%7D%0A%20%20%20%20%20%20%20%20%20%20%20%20%29.addTo%28map_fbf641a940c94328a431c592fed5bdd5%29%3B%0A%20%20%20%20%20%20%20%20%0A%20%20%20%20%0A%20%20%20%20%20%20%20%20%20%20%20%20var%20marker_5089a113c5b54bb8addb56269b14cfdb%20%3D%20L.marker%28%0A%20%20%20%20%20%20%20%20%20%20%20%20%20%20%20%20%5B47.46055555555556%2C%20-0.5308333333333334%5D%2C%0A%20%20%20%20%20%20%20%20%20%20%20%20%20%20%20%20%7B%7D%0A%20%20%20%20%20%20%20%20%20%20%20%20%29.addTo%28map_fbf641a940c94328a431c592fed5bdd5%29%3B%0A%20%20%20%20%20%20%20%20%0A%20%20%20%20%0A%20%20%20%20%20%20%20%20var%20popup_cd3f965af42c4544b048f1aa1449a92b%20%3D%20L.popup%28%7B%22maxWidth%22%3A%20%22100%25%22%7D%29%3B%0A%0A%20%20%20%20%20%20%20%20%0A%20%20%20%20%20%20%20%20%20%20%20%20var%20html_71d06ecdbb7749f086e73f8f35d9c00c%20%3D%20%24%28%60%3Cdiv%20id%3D%22html_71d06ecdbb7749f086e73f8f35d9c00c%22%20style%3D%22width%3A%20100.0%25%3B%20height%3A%20100.0%25%3B%22%3EStade%20Raymond-Kopa%3C/div%3E%60%29%5B0%5D%3B%0A%20%20%20%20%20%20%20%20%20%20%20%20popup_cd3f965af42c4544b048f1aa1449a92b.setContent%28html_71d06ecdbb7749f086e73f8f35d9c00c%29%3B%0A%20%20%20%20%20%20%20%20%0A%0A%20%20%20%20%20%20%20%20marker_5089a113c5b54bb8addb56269b14cfdb.bindPopup%28popup_cd3f965af42c4544b048f1aa1449a92b%29%0A%20%20%20%20%20%20%20%20%3B%0A%0A%20%20%20%20%20%20%20%20%0A%20%20%20%20%0A%20%20%20%20%0A%20%20%20%20%20%20%20%20%20%20%20%20var%20marker_91d181a0df11493c8bccbe0134b5fa77%20%3D%20L.marker%28%0A%20%20%20%20%20%20%20%20%20%20%20%20%20%20%20%20%5B47.46055555555556%2C%20-0.5308333333333334%5D%2C%0A%20%20%20%20%20%20%20%20%20%20%20%20%20%20%20%20%7B%7D%0A%20%20%20%20%20%20%20%20%20%20%20%20%29.addTo%28map_fbf641a940c94328a431c592fed5bdd5%29%3B%0A%20%20%20%20%20%20%20%20%0A%20%20%20%20%0A%20%20%20%20%20%20%20%20%20%20%20%20var%20marker_13614871a78c401f97a1f900260e7f9a%20%3D%20L.marker%28%0A%20%20%20%20%20%20%20%20%20%20%20%20%20%20%20%20%5B49.109722222222224%2C%206.159166666666667%5D%2C%0A%20%20%20%20%20%20%20%20%20%20%20%20%20%20%20%20%7B%7D%0A%20%20%20%20%20%20%20%20%20%20%20%20%29.addTo%28map_fbf641a940c94328a431c592fed5bdd5%29%3B%0A%20%20%20%20%20%20%20%20%0A%20%20%20%20%0A%20%20%20%20%20%20%20%20var%20popup_56a4b30b272e4ee48e62fca9dae4fdb5%20%3D%20L.popup%28%7B%22maxWidth%22%3A%20%22100%25%22%7D%29%3B%0A%0A%20%20%20%20%20%20%20%20%0A%20%20%20%20%20%20%20%20%20%20%20%20var%20html_e04ddc0ab4e841da9ba8682be37992c6%20%3D%20%24%28%60%3Cdiv%20id%3D%22html_e04ddc0ab4e841da9ba8682be37992c6%22%20style%3D%22width%3A%20100.0%25%3B%20height%3A%20100.0%25%3B%22%3EStade%20Saint-Symphorien%3C/div%3E%60%29%5B0%5D%3B%0A%20%20%20%20%20%20%20%20%20%20%20%20popup_56a4b30b272e4ee48e62fca9dae4fdb5.setContent%28html_e04ddc0ab4e841da9ba8682be37992c6%29%3B%0A%20%20%20%20%20%20%20%20%0A%0A%20%20%20%20%20%20%20%20marker_13614871a78c401f97a1f900260e7f9a.bindPopup%28popup_56a4b30b272e4ee48e62fca9dae4fdb5%29%0A%20%20%20%20%20%20%20%20%3B%0A%0A%20%20%20%20%20%20%20%20%0A%20%20%20%20%0A%20%20%20%20%0A%20%20%20%20%20%20%20%20%20%20%20%20var%20marker_66e065971b7442d3b6be060a9bd8d1bb%20%3D%20L.marker%28%0A%20%20%20%20%20%20%20%20%20%20%20%20%20%20%20%20%5B49.109722222222224%2C%206.159166666666667%5D%2C%0A%20%20%20%20%20%20%20%20%20%20%20%20%20%20%20%20%7B%7D%0A%20%20%20%20%20%20%20%20%20%20%20%20%29.addTo%28map_fbf641a940c94328a431c592fed5bdd5%29%3B%0A%20%20%20%20%20%20%20%20%0A%20%20%20%20%0A%20%20%20%20%20%20%20%20%20%20%20%20var%20marker_a6a4e64f9c084a43bd599bd7609824bc%20%3D%20L.marker%28%0A%20%20%20%20%20%20%20%20%20%20%20%20%20%20%20%20%5B47.25555555555555%2C%20-1.5252777777777777%5D%2C%0A%20%20%20%20%20%20%20%20%20%20%20%20%20%20%20%20%7B%7D%0A%20%20%20%20%20%20%20%20%20%20%20%20%29.addTo%28map_fbf641a940c94328a431c592fed5bdd5%29%3B%0A%20%20%20%20%20%20%20%20%0A%20%20%20%20%0A%20%20%20%20%20%20%20%20var%20popup_0da3d3d4a11d40418744bd64d6e14715%20%3D%20L.popup%28%7B%22maxWidth%22%3A%20%22100%25%22%7D%29%3B%0A%0A%20%20%20%20%20%20%20%20%0A%20%20%20%20%20%20%20%20%20%20%20%20var%20html_87394e1317954375a496939ecf459646%20%3D%20%24%28%60%3Cdiv%20id%3D%22html_87394e1317954375a496939ecf459646%22%20style%3D%22width%3A%20100.0%25%3B%20height%3A%20100.0%25%3B%22%3EStade%20de%20la%20Beaujoire%3C/div%3E%60%29%5B0%5D%3B%0A%20%20%20%20%20%20%20%20%20%20%20%20popup_0da3d3d4a11d40418744bd64d6e14715.setContent%28html_87394e1317954375a496939ecf459646%29%3B%0A%20%20%20%20%20%20%20%20%0A%0A%20%20%20%20%20%20%20%20marker_a6a4e64f9c084a43bd599bd7609824bc.bindPopup%28popup_0da3d3d4a11d40418744bd64d6e14715%29%0A%20%20%20%20%20%20%20%20%3B%0A%0A%20%20%20%20%20%20%20%20%0A%20%20%20%20%0A%20%20%20%20%0A%20%20%20%20%20%20%20%20%20%20%20%20var%20marker_d675677051f64716898df554d8fe28a8%20%3D%20L.marker%28%0A%20%20%20%20%20%20%20%20%20%20%20%20%20%20%20%20%5B47.25555555555555%2C%20-1.5252777777777777%5D%2C%0A%20%20%20%20%20%20%20%20%20%20%20%20%20%20%20%20%7B%7D%0A%20%20%20%20%20%20%20%20%20%20%20%20%29.addTo%28map_fbf641a940c94328a431c592fed5bdd5%29%3B%0A%20%20%20%20%20%20%20%20%0A%20%20%20%20%0A%20%20%20%20%20%20%20%20%20%20%20%20var%20marker_ab52354744b34881a351a482256c5ae3%20%3D%20L.marker%28%0A%20%20%20%20%20%20%20%20%20%20%20%20%20%20%20%20%5B48.403055555555554%2C%20-4.461666666666667%5D%2C%0A%20%20%20%20%20%20%20%20%20%20%20%20%20%20%20%20%7B%7D%0A%20%20%20%20%20%20%20%20%20%20%20%20%29.addTo%28map_fbf641a940c94328a431c592fed5bdd5%29%3B%0A%20%20%20%20%20%20%20%20%0A%20%20%20%20%0A%20%20%20%20%20%20%20%20var%20popup_e376bccbcdb2417fa9ae4643e540aba3%20%3D%20L.popup%28%7B%22maxWidth%22%3A%20%22100%25%22%7D%29%3B%0A%0A%20%20%20%20%20%20%20%20%0A%20%20%20%20%20%20%20%20%20%20%20%20var%20html_b16dbc1e4ab54fd1877cac2f11e137dd%20%3D%20%24%28%60%3Cdiv%20id%3D%22html_b16dbc1e4ab54fd1877cac2f11e137dd%22%20style%3D%22width%3A%20100.0%25%3B%20height%3A%20100.0%25%3B%22%3EStade%20Francis-Le%20Bl%C3%A9%3C/div%3E%60%29%5B0%5D%3B%0A%20%20%20%20%20%20%20%20%20%20%20%20popup_e376bccbcdb2417fa9ae4643e540aba3.setContent%28html_b16dbc1e4ab54fd1877cac2f11e137dd%29%3B%0A%20%20%20%20%20%20%20%20%0A%0A%20%20%20%20%20%20%20%20marker_ab52354744b34881a351a482256c5ae3.bindPopup%28popup_e376bccbcdb2417fa9ae4643e540aba3%29%0A%20%20%20%20%20%20%20%20%3B%0A%0A%20%20%20%20%20%20%20%20%0A%20%20%20%20%0A%20%20%20%20%0A%20%20%20%20%20%20%20%20%20%20%20%20var%20marker_c662eee33bf64d1ca98cd8db3537cf1d%20%3D%20L.marker%28%0A%20%20%20%20%20%20%20%20%20%20%20%20%20%20%20%20%5B48.403055555555554%2C%20-4.461666666666667%5D%2C%0A%20%20%20%20%20%20%20%20%20%20%20%20%20%20%20%20%7B%7D%0A%20%20%20%20%20%20%20%20%20%20%20%20%29.addTo%28map_fbf641a940c94328a431c592fed5bdd5%29%3B%0A%20%20%20%20%20%20%20%20%0A%20%20%20%20%0A%20%20%20%20%20%20%20%20%20%20%20%20var%20marker_5c3b92f4141d4e1fb9ccca4efa372dbe%20%3D%20L.marker%28%0A%20%20%20%20%20%20%20%20%20%20%20%20%20%20%20%20%5B44.89722222222222%2C%20-0.5613888888888889%5D%2C%0A%20%20%20%20%20%20%20%20%20%20%20%20%20%20%20%20%7B%7D%0A%20%20%20%20%20%20%20%20%20%20%20%20%29.addTo%28map_fbf641a940c94328a431c592fed5bdd5%29%3B%0A%20%20%20%20%20%20%20%20%0A%20%20%20%20%0A%20%20%20%20%20%20%20%20var%20popup_72b3b3bab47b43849ebbeedeea74788e%20%3D%20L.popup%28%7B%22maxWidth%22%3A%20%22100%25%22%7D%29%3B%0A%0A%20%20%20%20%20%20%20%20%0A%20%20%20%20%20%20%20%20%20%20%20%20var%20html_50b258b7b607419dadb8148d173a9a3d%20%3D%20%24%28%60%3Cdiv%20id%3D%22html_50b258b7b607419dadb8148d173a9a3d%22%20style%3D%22width%3A%20100.0%25%3B%20height%3A%20100.0%25%3B%22%3EMatmut%20Atlantique%3C/div%3E%60%29%5B0%5D%3B%0A%20%20%20%20%20%20%20%20%20%20%20%20popup_72b3b3bab47b43849ebbeedeea74788e.setContent%28html_50b258b7b607419dadb8148d173a9a3d%29%3B%0A%20%20%20%20%20%20%20%20%0A%0A%20%20%20%20%20%20%20%20marker_5c3b92f4141d4e1fb9ccca4efa372dbe.bindPopup%28popup_72b3b3bab47b43849ebbeedeea74788e%29%0A%20%20%20%20%20%20%20%20%3B%0A%0A%20%20%20%20%20%20%20%20%0A%20%20%20%20%0A%20%20%20%20%0A%20%20%20%20%20%20%20%20%20%20%20%20var%20marker_0a6b3dc77eed4dfdb6c73ab370287990%20%3D%20L.marker%28%0A%20%20%20%20%20%20%20%20%20%20%20%20%20%20%20%20%5B44.89722222222222%2C%20-0.5613888888888889%5D%2C%0A%20%20%20%20%20%20%20%20%20%20%20%20%20%20%20%20%7B%7D%0A%20%20%20%20%20%20%20%20%20%20%20%20%29.addTo%28map_fbf641a940c94328a431c592fed5bdd5%29%3B%0A%20%20%20%20%20%20%20%20%0A%20%20%20%20%0A%20%20%20%20%20%20%20%20%20%20%20%20var%20marker_c93f2018b49e4c41bdbf1eb85f66cc5e%20%3D%20L.marker%28%0A%20%20%20%20%20%20%20%20%20%20%20%20%20%20%20%20%5B43.583333333333336%2C%201.4341666666666666%5D%2C%0A%20%20%20%20%20%20%20%20%20%20%20%20%20%20%20%20%7B%7D%0A%20%20%20%20%20%20%20%20%20%20%20%20%29.addTo%28map_fbf641a940c94328a431c592fed5bdd5%29%3B%0A%20%20%20%20%20%20%20%20%0A%20%20%20%20%0A%20%20%20%20%20%20%20%20var%20popup_2e3c2c330ff3400c82f847e9b390d718%20%3D%20L.popup%28%7B%22maxWidth%22%3A%20%22100%25%22%7D%29%3B%0A%0A%20%20%20%20%20%20%20%20%0A%20%20%20%20%20%20%20%20%20%20%20%20var%20html_302a276e86984b74a3189d07303e2ed7%20%3D%20%24%28%60%3Cdiv%20id%3D%22html_302a276e86984b74a3189d07303e2ed7%22%20style%3D%22width%3A%20100.0%25%3B%20height%3A%20100.0%25%3B%22%3EStadium%20de%20Toulouse%3C/div%3E%60%29%5B0%5D%3B%0A%20%20%20%20%20%20%20%20%20%20%20%20popup_2e3c2c330ff3400c82f847e9b390d718.setContent%28html_302a276e86984b74a3189d07303e2ed7%29%3B%0A%20%20%20%20%20%20%20%20%0A%0A%20%20%20%20%20%20%20%20marker_c93f2018b49e4c41bdbf1eb85f66cc5e.bindPopup%28popup_2e3c2c330ff3400c82f847e9b390d718%29%0A%20%20%20%20%20%20%20%20%3B%0A%0A%20%20%20%20%20%20%20%20%0A%20%20%20%20%0A%20%20%20%20%0A%20%20%20%20%20%20%20%20%20%20%20%20var%20marker_4a670a5e66cb46cb923b54218ca49da0%20%3D%20L.marker%28%0A%20%20%20%20%20%20%20%20%20%20%20%20%20%20%20%20%5B43.583333333333336%2C%201.4341666666666666%5D%2C%0A%20%20%20%20%20%20%20%20%20%20%20%20%20%20%20%20%7B%7D%0A%20%20%20%20%20%20%20%20%20%20%20%20%29.addTo%28map_fbf641a940c94328a431c592fed5bdd5%29%3B%0A%20%20%20%20%20%20%20%20%0A%20%20%20%20%0A%20%20%20%20%20%20%20%20%20%20%20%20var%20marker_8ec7b0983b874339b1660d7e02fb3ee2%20%3D%20L.marker%28%0A%20%20%20%20%20%20%20%20%20%20%20%20%20%20%20%20%5B49.89388888888889%2C%202.263611111111111%5D%2C%0A%20%20%20%20%20%20%20%20%20%20%20%20%20%20%20%20%7B%7D%0A%20%20%20%20%20%20%20%20%20%20%20%20%29.addTo%28map_fbf641a940c94328a431c592fed5bdd5%29%3B%0A%20%20%20%20%20%20%20%20%0A%20%20%20%20%0A%20%20%20%20%20%20%20%20var%20popup_f09979cb305c40c49967c5e7ef45624c%20%3D%20L.popup%28%7B%22maxWidth%22%3A%20%22100%25%22%7D%29%3B%0A%0A%20%20%20%20%20%20%20%20%0A%20%20%20%20%20%20%20%20%20%20%20%20var%20html_8f78a613f02743b695d7a83589e7465c%20%3D%20%24%28%60%3Cdiv%20id%3D%22html_8f78a613f02743b695d7a83589e7465c%22%20style%3D%22width%3A%20100.0%25%3B%20height%3A%20100.0%25%3B%22%3EStade%20de%20la%20Licorne%3C/div%3E%60%29%5B0%5D%3B%0A%20%20%20%20%20%20%20%20%20%20%20%20popup_f09979cb305c40c49967c5e7ef45624c.setContent%28html_8f78a613f02743b695d7a83589e7465c%29%3B%0A%20%20%20%20%20%20%20%20%0A%0A%20%20%20%20%20%20%20%20marker_8ec7b0983b874339b1660d7e02fb3ee2.bindPopup%28popup_f09979cb305c40c49967c5e7ef45624c%29%0A%20%20%20%20%20%20%20%20%3B%0A%0A%20%20%20%20%20%20%20%20%0A%20%20%20%20%0A%20%20%20%20%0A%20%20%20%20%20%20%20%20%20%20%20%20var%20marker_ebedd02b7a8042888aa4249ace6a0ced%20%3D%20L.marker%28%0A%20%20%20%20%20%20%20%20%20%20%20%20%20%20%20%20%5B49.89388888888889%2C%202.263611111111111%5D%2C%0A%20%20%20%20%20%20%20%20%20%20%20%20%20%20%20%20%7B%7D%0A%20%20%20%20%20%20%20%20%20%20%20%20%29.addTo%28map_fbf641a940c94328a431c592fed5bdd5%29%3B%0A%20%20%20%20%20%20%20%20%0A%20%20%20%20%0A%20%20%20%20%20%20%20%20%20%20%20%20var%20marker_9d52494ebfc548319994ff5785a6e559%20%3D%20L.marker%28%0A%20%20%20%20%20%20%20%20%20%20%20%20%20%20%20%20%5B43.7275%2C%207.415555555555556%5D%2C%0A%20%20%20%20%20%20%20%20%20%20%20%20%20%20%20%20%7B%7D%0A%20%20%20%20%20%20%20%20%20%20%20%20%29.addTo%28map_fbf641a940c94328a431c592fed5bdd5%29%3B%0A%20%20%20%20%20%20%20%20%0A%20%20%20%20%0A%20%20%20%20%20%20%20%20var%20popup_3a1759d2fcd84249acf8dde27af18684%20%3D%20L.popup%28%7B%22maxWidth%22%3A%20%22100%25%22%7D%29%3B%0A%0A%20%20%20%20%20%20%20%20%0A%20%20%20%20%20%20%20%20%20%20%20%20var%20html_07195060df2a425aa5d7520461b0c19a%20%3D%20%24%28%60%3Cdiv%20id%3D%22html_07195060df2a425aa5d7520461b0c19a%22%20style%3D%22width%3A%20100.0%25%3B%20height%3A%20100.0%25%3B%22%3EStade%20Louis-II%3C/div%3E%60%29%5B0%5D%3B%0A%20%20%20%20%20%20%20%20%20%20%20%20popup_3a1759d2fcd84249acf8dde27af18684.setContent%28html_07195060df2a425aa5d7520461b0c19a%29%3B%0A%20%20%20%20%20%20%20%20%0A%0A%20%20%20%20%20%20%20%20marker_9d52494ebfc548319994ff5785a6e559.bindPopup%28popup_3a1759d2fcd84249acf8dde27af18684%29%0A%20%20%20%20%20%20%20%20%3B%0A%0A%20%20%20%20%20%20%20%20%0A%20%20%20%20%0A%20%20%20%20%0A%20%20%20%20%20%20%20%20%20%20%20%20var%20marker_59257b322eca42aa8003579c7dadaed3%20%3D%20L.marker%28%0A%20%20%20%20%20%20%20%20%20%20%20%20%20%20%20%20%5B43.7275%2C%207.415555555555556%5D%2C%0A%20%20%20%20%20%20%20%20%20%20%20%20%20%20%20%20%7B%7D%0A%20%20%20%20%20%20%20%20%20%20%20%20%29.addTo%28map_fbf641a940c94328a431c592fed5bdd5%29%3B%0A%20%20%20%20%20%20%20%20%0A%20%20%20%20%0A%20%20%20%20%20%20%20%20%20%20%20%20var%20marker_2fed49c66e1941f0bcd2e6b9cba1d6e6%20%3D%20L.marker%28%0A%20%20%20%20%20%20%20%20%20%20%20%20%20%20%20%20%5B47.324444444444445%2C%205.068333333333333%5D%2C%0A%20%20%20%20%20%20%20%20%20%20%20%20%20%20%20%20%7B%7D%0A%20%20%20%20%20%20%20%20%20%20%20%20%29.addTo%28map_fbf641a940c94328a431c592fed5bdd5%29%3B%0A%20%20%20%20%20%20%20%20%0A%20%20%20%20%0A%20%20%20%20%20%20%20%20var%20popup_5aedf071edec431da480c094e1bc15ef%20%3D%20L.popup%28%7B%22maxWidth%22%3A%20%22100%25%22%7D%29%3B%0A%0A%20%20%20%20%20%20%20%20%0A%20%20%20%20%20%20%20%20%20%20%20%20var%20html_841f5ac03d3b4d11b363eb8b77cccf83%20%3D%20%24%28%60%3Cdiv%20id%3D%22html_841f5ac03d3b4d11b363eb8b77cccf83%22%20style%3D%22width%3A%20100.0%25%3B%20height%3A%20100.0%25%3B%22%3EStade%20Gaston-G%C3%A9rard%3C/div%3E%60%29%5B0%5D%3B%0A%20%20%20%20%20%20%20%20%20%20%20%20popup_5aedf071edec431da480c094e1bc15ef.setContent%28html_841f5ac03d3b4d11b363eb8b77cccf83%29%3B%0A%20%20%20%20%20%20%20%20%0A%0A%20%20%20%20%20%20%20%20marker_2fed49c66e1941f0bcd2e6b9cba1d6e6.bindPopup%28popup_5aedf071edec431da480c094e1bc15ef%29%0A%20%20%20%20%20%20%20%20%3B%0A%0A%20%20%20%20%20%20%20%20%0A%20%20%20%20%0A%20%20%20%20%0A%20%20%20%20%20%20%20%20%20%20%20%20var%20marker_0230dd2bb1074edeb1b306b86687a17d%20%3D%20L.marker%28%0A%20%20%20%20%20%20%20%20%20%20%20%20%20%20%20%20%5B47.324444444444445%2C%205.068333333333333%5D%2C%0A%20%20%20%20%20%20%20%20%20%20%20%20%20%20%20%20%7B%7D%0A%20%20%20%20%20%20%20%20%20%20%20%20%29.addTo%28map_fbf641a940c94328a431c592fed5bdd5%29%3B%0A%20%20%20%20%20%20%20%20%0A%20%20%20%20%0A%20%20%20%20%20%20%20%20%20%20%20%20var%20marker_c4c889b9edf74529999627449eb0863a%20%3D%20L.marker%28%0A%20%20%20%20%20%20%20%20%20%20%20%20%20%20%20%20%5B48.695277777777775%2C%206.210555555555556%5D%2C%0A%20%20%20%20%20%20%20%20%20%20%20%20%20%20%20%20%7B%7D%0A%20%20%20%20%20%20%20%20%20%20%20%20%29.addTo%28map_fbf641a940c94328a431c592fed5bdd5%29%3B%0A%20%20%20%20%20%20%20%20%0A%20%20%20%20%0A%20%20%20%20%20%20%20%20var%20popup_fb89d19a4afa4d54801296ff411ecc4e%20%3D%20L.popup%28%7B%22maxWidth%22%3A%20%22100%25%22%7D%29%3B%0A%0A%20%20%20%20%20%20%20%20%0A%20%20%20%20%20%20%20%20%20%20%20%20var%20html_7fa73cfa9835446399e4c2f2a70d7efa%20%3D%20%24%28%60%3Cdiv%20id%3D%22html_7fa73cfa9835446399e4c2f2a70d7efa%22%20style%3D%22width%3A%20100.0%25%3B%20height%3A%20100.0%25%3B%22%3EStade%20Marcel-Picot%3C/div%3E%60%29%5B0%5D%3B%0A%20%20%20%20%20%20%20%20%20%20%20%20popup_fb89d19a4afa4d54801296ff411ecc4e.setContent%28html_7fa73cfa9835446399e4c2f2a70d7efa%29%3B%0A%20%20%20%20%20%20%20%20%0A%0A%20%20%20%20%20%20%20%20marker_c4c889b9edf74529999627449eb0863a.bindPopup%28popup_fb89d19a4afa4d54801296ff411ecc4e%29%0A%20%20%20%20%20%20%20%20%3B%0A%0A%20%20%20%20%20%20%20%20%0A%20%20%20%20%0A%20%20%20%20%0A%20%20%20%20%20%20%20%20%20%20%20%20var%20marker_3353ce6bc19f4eb583f72c66e23ba862%20%3D%20L.marker%28%0A%20%20%20%20%20%20%20%20%20%20%20%20%20%20%20%20%5B48.695277777777775%2C%206.210555555555556%5D%2C%0A%20%20%20%20%20%20%20%20%20%20%20%20%20%20%20%20%7B%7D%0A%20%20%20%20%20%20%20%20%20%20%20%20%29.addTo%28map_fbf641a940c94328a431c592fed5bdd5%29%3B%0A%20%20%20%20%20%20%20%20%0A%20%20%20%20%0A%20%20%20%20%20%20%20%20%20%20%20%20var%20marker_b6eb9e44b46d47e3a61072c94cb5c69d%20%3D%20L.marker%28%0A%20%20%20%20%20%20%20%20%20%20%20%20%20%20%20%20%5B49.49888888888889%2C%200.16972222222222222%5D%2C%0A%20%20%20%20%20%20%20%20%20%20%20%20%20%20%20%20%7B%7D%0A%20%20%20%20%20%20%20%20%20%20%20%20%29.addTo%28map_fbf641a940c94328a431c592fed5bdd5%29%3B%0A%20%20%20%20%20%20%20%20%0A%20%20%20%20%0A%20%20%20%20%20%20%20%20var%20popup_07bc4686b8024f5d9ef7e81039313148%20%3D%20L.popup%28%7B%22maxWidth%22%3A%20%22100%25%22%7D%29%3B%0A%0A%20%20%20%20%20%20%20%20%0A%20%20%20%20%20%20%20%20%20%20%20%20var%20html_d772406560c34fc0af6bbee5733eb83f%20%3D%20%24%28%60%3Cdiv%20id%3D%22html_d772406560c34fc0af6bbee5733eb83f%22%20style%3D%22width%3A%20100.0%25%3B%20height%3A%20100.0%25%3B%22%3EStade%20Oc%C3%A9ane%3C/div%3E%60%29%5B0%5D%3B%0A%20%20%20%20%20%20%20%20%20%20%20%20popup_07bc4686b8024f5d9ef7e81039313148.setContent%28html_d772406560c34fc0af6bbee5733eb83f%29%3B%0A%20%20%20%20%20%20%20%20%0A%0A%20%20%20%20%20%20%20%20marker_b6eb9e44b46d47e3a61072c94cb5c69d.bindPopup%28popup_07bc4686b8024f5d9ef7e81039313148%29%0A%20%20%20%20%20%20%20%20%3B%0A%0A%20%20%20%20%20%20%20%20%0A%20%20%20%20%0A%20%20%20%20%0A%20%20%20%20%20%20%20%20%20%20%20%20var%20marker_410f192e6c524c71816c754121346195%20%3D%20L.marker%28%0A%20%20%20%20%20%20%20%20%20%20%20%20%20%20%20%20%5B49.49888888888889%2C%200.16972222222222222%5D%2C%0A%20%20%20%20%20%20%20%20%20%20%20%20%20%20%20%20%7B%7D%0A%20%20%20%20%20%20%20%20%20%20%20%20%29.addTo%28map_fbf641a940c94328a431c592fed5bdd5%29%3B%0A%20%20%20%20%20%20%20%20%0A%20%20%20%20%0A%20%20%20%20%20%20%20%20%20%20%20%20var%20marker_ba78ba1532db420cbdf3c38b892097e5%20%3D%20L.marker%28%0A%20%20%20%20%20%20%20%20%20%20%20%20%20%20%20%20%5B49.17944444444444%2C%20-0.39666666666666667%5D%2C%0A%20%20%20%20%20%20%20%20%20%20%20%20%20%20%20%20%7B%7D%0A%20%20%20%20%20%20%20%20%20%20%20%20%29.addTo%28map_fbf641a940c94328a431c592fed5bdd5%29%3B%0A%20%20%20%20%20%20%20%20%0A%20%20%20%20%0A%20%20%20%20%20%20%20%20var%20popup_b427b135a097475fb3fd96f4d4014b9e%20%3D%20L.popup%28%7B%22maxWidth%22%3A%20%22100%25%22%7D%29%3B%0A%0A%20%20%20%20%20%20%20%20%0A%20%20%20%20%20%20%20%20%20%20%20%20var%20html_aa3c716d5c3f4b1ca9a3f1ccddccf01a%20%3D%20%24%28%60%3Cdiv%20id%3D%22html_aa3c716d5c3f4b1ca9a3f1ccddccf01a%22%20style%3D%22width%3A%20100.0%25%3B%20height%3A%20100.0%25%3B%22%3EStade%20Michel-d%27Ornano%3C/div%3E%60%29%5B0%5D%3B%0A%20%20%20%20%20%20%20%20%20%20%20%20popup_b427b135a097475fb3fd96f4d4014b9e.setContent%28html_aa3c716d5c3f4b1ca9a3f1ccddccf01a%29%3B%0A%20%20%20%20%20%20%20%20%0A%0A%20%20%20%20%20%20%20%20marker_ba78ba1532db420cbdf3c38b892097e5.bindPopup%28popup_b427b135a097475fb3fd96f4d4014b9e%29%0A%20%20%20%20%20%20%20%20%3B%0A%0A%20%20%20%20%20%20%20%20%0A%20%20%20%20%0A%20%20%20%20%0A%20%20%20%20%20%20%20%20%20%20%20%20var%20marker_9583b3c10497482899ed00504c5a1902%20%3D%20L.marker%28%0A%20%20%20%20%20%20%20%20%20%20%20%20%20%20%20%20%5B49.17944444444444%2C%20-0.39666666666666667%5D%2C%0A%20%20%20%20%20%20%20%20%20%20%20%20%20%20%20%20%7B%7D%0A%20%20%20%20%20%20%20%20%20%20%20%20%29.addTo%28map_fbf641a940c94328a431c592fed5bdd5%29%3B%0A%20%20%20%20%20%20%20%20%0A%20%20%20%20%0A%20%20%20%20%20%20%20%20%20%20%20%20var%20marker_b48050d7d16c4933aa268ad67fb5bb44%20%3D%20L.marker%28%0A%20%20%20%20%20%20%20%20%20%20%20%20%20%20%20%20%5B45.81583333333333%2C%203.1216666666666666%5D%2C%0A%20%20%20%20%20%20%20%20%20%20%20%20%20%20%20%20%7B%7D%0A%20%20%20%20%20%20%20%20%20%20%20%20%29.addTo%28map_fbf641a940c94328a431c592fed5bdd5%29%3B%0A%20%20%20%20%20%20%20%20%0A%20%20%20%20%0A%20%20%20%20%20%20%20%20var%20popup_375635050fda4b1fb35b45c3dc17c7a2%20%3D%20L.popup%28%7B%22maxWidth%22%3A%20%22100%25%22%7D%29%3B%0A%0A%20%20%20%20%20%20%20%20%0A%20%20%20%20%20%20%20%20%20%20%20%20var%20html_3ee4a5d3939349699f176a3f524aba13%20%3D%20%24%28%60%3Cdiv%20id%3D%22html_3ee4a5d3939349699f176a3f524aba13%22%20style%3D%22width%3A%20100.0%25%3B%20height%3A%20100.0%25%3B%22%3EStade%20Gabriel-Montpied%3C/div%3E%60%29%5B0%5D%3B%0A%20%20%20%20%20%20%20%20%20%20%20%20popup_375635050fda4b1fb35b45c3dc17c7a2.setContent%28html_3ee4a5d3939349699f176a3f524aba13%29%3B%0A%20%20%20%20%20%20%20%20%0A%0A%20%20%20%20%20%20%20%20marker_b48050d7d16c4933aa268ad67fb5bb44.bindPopup%28popup_375635050fda4b1fb35b45c3dc17c7a2%29%0A%20%20%20%20%20%20%20%20%3B%0A%0A%20%20%20%20%20%20%20%20%0A%20%20%20%20%0A%20%20%20%20%0A%20%20%20%20%20%20%20%20%20%20%20%20var%20marker_6b44c96b757a4b7993b5a5d641a7c824%20%3D%20L.marker%28%0A%20%20%20%20%20%20%20%20%20%20%20%20%20%20%20%20%5B45.81583333333333%2C%203.1216666666666666%5D%2C%0A%20%20%20%20%20%20%20%20%20%20%20%20%20%20%20%20%7B%7D%0A%20%20%20%20%20%20%20%20%20%20%20%20%29.addTo%28map_fbf641a940c94328a431c592fed5bdd5%29%3B%0A%20%20%20%20%20%20%20%20%0A%20%20%20%20%0A%20%20%20%20%20%20%20%20%20%20%20%20var%20marker_f836ca83f3a74a44acd0eb6782fd2900%20%3D%20L.marker%28%0A%20%20%20%20%20%20%20%20%20%20%20%20%20%20%20%20%5B48.566111111111105%2C%20-3.1644444444444444%5D%2C%0A%20%20%20%20%20%20%20%20%20%20%20%20%20%20%20%20%7B%7D%0A%20%20%20%20%20%20%20%20%20%20%20%20%29.addTo%28map_fbf641a940c94328a431c592fed5bdd5%29%3B%0A%20%20%20%20%20%20%20%20%0A%20%20%20%20%0A%20%20%20%20%20%20%20%20var%20popup_dba6590016ba472eb1eaf4b22e5e1d31%20%3D%20L.popup%28%7B%22maxWidth%22%3A%20%22100%25%22%7D%29%3B%0A%0A%20%20%20%20%20%20%20%20%0A%20%20%20%20%20%20%20%20%20%20%20%20var%20html_8b37139049c946c68cb0789ce5c54dc0%20%3D%20%24%28%60%3Cdiv%20id%3D%22html_8b37139049c946c68cb0789ce5c54dc0%22%20style%3D%22width%3A%20100.0%25%3B%20height%3A%20100.0%25%3B%22%3EStade%20de%20Roudourou%3C/div%3E%60%29%5B0%5D%3B%0A%20%20%20%20%20%20%20%20%20%20%20%20popup_dba6590016ba472eb1eaf4b22e5e1d31.setContent%28html_8b37139049c946c68cb0789ce5c54dc0%29%3B%0A%20%20%20%20%20%20%20%20%0A%0A%20%20%20%20%20%20%20%20marker_f836ca83f3a74a44acd0eb6782fd2900.bindPopup%28popup_dba6590016ba472eb1eaf4b22e5e1d31%29%0A%20%20%20%20%20%20%20%20%3B%0A%0A%20%20%20%20%20%20%20%20%0A%20%20%20%20%0A%20%20%20%20%0A%20%20%20%20%20%20%20%20%20%20%20%20var%20marker_7cf87e05da414ee0ac34e154e907a241%20%3D%20L.marker%28%0A%20%20%20%20%20%20%20%20%20%20%20%20%20%20%20%20%5B48.566111111111105%2C%20-3.1644444444444444%5D%2C%0A%20%20%20%20%20%20%20%20%20%20%20%20%20%20%20%20%7B%7D%0A%20%20%20%20%20%20%20%20%20%20%20%20%29.addTo%28map_fbf641a940c94328a431c592fed5bdd5%29%3B%0A%20%20%20%20%20%20%20%20%0A%20%20%20%20%0A%20%20%20%20%20%20%20%20%20%20%20%20var%20marker_0a55708d79c044b69d7add4266d454ee%20%3D%20L.marker%28%0A%20%20%20%20%20%20%20%20%20%20%20%20%20%20%20%20%5B47.74888888888889%2C%20-3.3691666666666666%5D%2C%0A%20%20%20%20%20%20%20%20%20%20%20%20%20%20%20%20%7B%7D%0A%20%20%20%20%20%20%20%20%20%20%20%20%29.addTo%28map_fbf641a940c94328a431c592fed5bdd5%29%3B%0A%20%20%20%20%20%20%20%20%0A%20%20%20%20%0A%20%20%20%20%20%20%20%20var%20popup_99c37355035148a8b39a8dcd28c021f5%20%3D%20L.popup%28%7B%22maxWidth%22%3A%20%22100%25%22%7D%29%3B%0A%0A%20%20%20%20%20%20%20%20%0A%20%20%20%20%20%20%20%20%20%20%20%20var%20html_3e2bb61522e6461292334283d78f61f9%20%3D%20%24%28%60%3Cdiv%20id%3D%22html_3e2bb61522e6461292334283d78f61f9%22%20style%3D%22width%3A%20100.0%25%3B%20height%3A%20100.0%25%3B%22%3EStade%20du%20Moustoir%3C/div%3E%60%29%5B0%5D%3B%0A%20%20%20%20%20%20%20%20%20%20%20%20popup_99c37355035148a8b39a8dcd28c021f5.setContent%28html_3e2bb61522e6461292334283d78f61f9%29%3B%0A%20%20%20%20%20%20%20%20%0A%0A%20%20%20%20%20%20%20%20marker_0a55708d79c044b69d7add4266d454ee.bindPopup%28popup_99c37355035148a8b39a8dcd28c021f5%29%0A%20%20%20%20%20%20%20%20%3B%0A%0A%20%20%20%20%20%20%20%20%0A%20%20%20%20%0A%20%20%20%20%0A%20%20%20%20%20%20%20%20%20%20%20%20var%20marker_063df1aa247646c5b0f4e10f78730dad%20%3D%20L.marker%28%0A%20%20%20%20%20%20%20%20%20%20%20%20%20%20%20%20%5B47.74888888888889%2C%20-3.3691666666666666%5D%2C%0A%20%20%20%20%20%20%20%20%20%20%20%20%20%20%20%20%7B%7D%0A%20%20%20%20%20%20%20%20%20%20%20%20%29.addTo%28map_fbf641a940c94328a431c592fed5bdd5%29%3B%0A%20%20%20%20%20%20%20%20%0A%20%20%20%20%0A%20%20%20%20%20%20%20%20%20%20%20%20var%20marker_f45a48ab87774580a96c6a943ef46146%20%3D%20L.marker%28%0A%20%20%20%20%20%20%20%20%20%20%20%20%20%20%20%20%5B48.81861111111112%2C%202.346388888888889%5D%2C%0A%20%20%20%20%20%20%20%20%20%20%20%20%20%20%20%20%7B%7D%0A%20%20%20%20%20%20%20%20%20%20%20%20%29.addTo%28map_fbf641a940c94328a431c592fed5bdd5%29%3B%0A%20%20%20%20%20%20%20%20%0A%20%20%20%20%0A%20%20%20%20%20%20%20%20var%20popup_e7eba29428a94e97a514e9b322ad3dab%20%3D%20L.popup%28%7B%22maxWidth%22%3A%20%22100%25%22%7D%29%3B%0A%0A%20%20%20%20%20%20%20%20%0A%20%20%20%20%20%20%20%20%20%20%20%20var%20html_71c6a59614be4fa1b95d752fd4e52df2%20%3D%20%24%28%60%3Cdiv%20id%3D%22html_71c6a59614be4fa1b95d752fd4e52df2%22%20style%3D%22width%3A%20100.0%25%3B%20height%3A%20100.0%25%3B%22%3EStade%20Charl%C3%A9ty%3C/div%3E%60%29%5B0%5D%3B%0A%20%20%20%20%20%20%20%20%20%20%20%20popup_e7eba29428a94e97a514e9b322ad3dab.setContent%28html_71c6a59614be4fa1b95d752fd4e52df2%29%3B%0A%20%20%20%20%20%20%20%20%0A%0A%20%20%20%20%20%20%20%20marker_f45a48ab87774580a96c6a943ef46146.bindPopup%28popup_e7eba29428a94e97a514e9b322ad3dab%29%0A%20%20%20%20%20%20%20%20%3B%0A%0A%20%20%20%20%20%20%20%20%0A%20%20%20%20%0A%20%20%20%20%0A%20%20%20%20%20%20%20%20%20%20%20%20var%20marker_115f43fb40164b6daf1c0cad8ab057ab%20%3D%20L.marker%28%0A%20%20%20%20%20%20%20%20%20%20%20%20%20%20%20%20%5B48.81861111111112%2C%202.346388888888889%5D%2C%0A%20%20%20%20%20%20%20%20%20%20%20%20%20%20%20%20%7B%7D%0A%20%20%20%20%20%20%20%20%20%20%20%20%29.addTo%28map_fbf641a940c94328a431c592fed5bdd5%29%3B%0A%20%20%20%20%20%20%20%20%0A%20%20%20%20%0A%20%20%20%20%20%20%20%20%20%20%20%20var%20marker_dbab54f9d5c440aba22fe0af3b87550e%20%3D%20L.marker%28%0A%20%20%20%20%20%20%20%20%20%20%20%20%20%20%20%20%5B46.801944444444445%2C%201.7216666666666667%5D%2C%0A%20%20%20%20%20%20%20%20%20%20%20%20%20%20%20%20%7B%7D%0A%20%20%20%20%20%20%20%20%20%20%20%20%29.addTo%28map_fbf641a940c94328a431c592fed5bdd5%29%3B%0A%20%20%20%20%20%20%20%20%0A%20%20%20%20%0A%20%20%20%20%20%20%20%20var%20popup_dae2ee93d04d49b9ac0e3397ae875368%20%3D%20L.popup%28%7B%22maxWidth%22%3A%20%22100%25%22%7D%29%3B%0A%0A%20%20%20%20%20%20%20%20%0A%20%20%20%20%20%20%20%20%20%20%20%20var%20html_43bb996368f0487ca75f20e702a83f9a%20%3D%20%24%28%60%3Cdiv%20id%3D%22html_43bb996368f0487ca75f20e702a83f9a%22%20style%3D%22width%3A%20100.0%25%3B%20height%3A%20100.0%25%3B%22%3EStade%20Gaston-Petit%3C/div%3E%60%29%5B0%5D%3B%0A%20%20%20%20%20%20%20%20%20%20%20%20popup_dae2ee93d04d49b9ac0e3397ae875368.setContent%28html_43bb996368f0487ca75f20e702a83f9a%29%3B%0A%20%20%20%20%20%20%20%20%0A%0A%20%20%20%20%20%20%20%20marker_dbab54f9d5c440aba22fe0af3b87550e.bindPopup%28popup_dae2ee93d04d49b9ac0e3397ae875368%29%0A%20%20%20%20%20%20%20%20%3B%0A%0A%20%20%20%20%20%20%20%20%0A%20%20%20%20%0A%20%20%20%20%0A%20%20%20%20%20%20%20%20%20%20%20%20var%20marker_dbe4aba7142f4bc1a4bb7751f44e8a8f%20%3D%20L.marker%28%0A%20%20%20%20%20%20%20%20%20%20%20%20%20%20%20%20%5B46.801944444444445%2C%201.7216666666666667%5D%2C%0A%20%20%20%20%20%20%20%20%20%20%20%20%20%20%20%20%7B%7D%0A%20%20%20%20%20%20%20%20%20%20%20%20%29.addTo%28map_fbf641a940c94328a431c592fed5bdd5%29%3B%0A%20%20%20%20%20%20%20%20%0A%20%20%20%20%0A%20%20%20%20%20%20%20%20%20%20%20%20var%20marker_dba85b360f4c4d86809277be4cd3e1b3%20%3D%20L.marker%28%0A%20%20%20%20%20%20%20%20%20%20%20%20%20%20%20%20%5B47.78666666666666%2C%203.588611111111111%5D%2C%0A%20%20%20%20%20%20%20%20%20%20%20%20%20%20%20%20%7B%7D%0A%20%20%20%20%20%20%20%20%20%20%20%20%29.addTo%28map_fbf641a940c94328a431c592fed5bdd5%29%3B%0A%20%20%20%20%20%20%20%20%0A%20%20%20%20%0A%20%20%20%20%20%20%20%20var%20popup_c0c60844c5c947b7bb535aa8a24581a0%20%3D%20L.popup%28%7B%22maxWidth%22%3A%20%22100%25%22%7D%29%3B%0A%0A%20%20%20%20%20%20%20%20%0A%20%20%20%20%20%20%20%20%20%20%20%20var%20html_81ae8c1acf7749c082674b7ef4d020a1%20%3D%20%24%28%60%3Cdiv%20id%3D%22html_81ae8c1acf7749c082674b7ef4d020a1%22%20style%3D%22width%3A%20100.0%25%3B%20height%3A%20100.0%25%3B%22%3EStade%20de%20l%27Abb%C3%A9-Deschamps%3C/div%3E%60%29%5B0%5D%3B%0A%20%20%20%20%20%20%20%20%20%20%20%20popup_c0c60844c5c947b7bb535aa8a24581a0.setContent%28html_81ae8c1acf7749c082674b7ef4d020a1%29%3B%0A%20%20%20%20%20%20%20%20%0A%0A%20%20%20%20%20%20%20%20marker_dba85b360f4c4d86809277be4cd3e1b3.bindPopup%28popup_c0c60844c5c947b7bb535aa8a24581a0%29%0A%20%20%20%20%20%20%20%20%3B%0A%0A%20%20%20%20%20%20%20%20%0A%20%20%20%20%0A%20%20%20%20%0A%20%20%20%20%20%20%20%20%20%20%20%20var%20marker_587affb122884874a5f60c7edbcd4c3f%20%3D%20L.marker%28%0A%20%20%20%20%20%20%20%20%20%20%20%20%20%20%20%20%5B47.78666666666666%2C%203.588611111111111%5D%2C%0A%20%20%20%20%20%20%20%20%20%20%20%20%20%20%20%20%7B%7D%0A%20%20%20%20%20%20%20%20%20%20%20%20%29.addTo%28map_fbf641a940c94328a431c592fed5bdd5%29%3B%0A%20%20%20%20%20%20%20%20%0A%20%20%20%20%0A%20%20%20%20%20%20%20%20%20%20%20%20var%20marker_6aff0e8b621d4ffab6f3ebc8e23939fd%20%3D%20L.marker%28%0A%20%20%20%20%20%20%20%20%20%20%20%20%20%20%20%20%5B47.84027777777778%2C%201.9411111111111112%5D%2C%0A%20%20%20%20%20%20%20%20%20%20%20%20%20%20%20%20%7B%7D%0A%20%20%20%20%20%20%20%20%20%20%20%20%29.addTo%28map_fbf641a940c94328a431c592fed5bdd5%29%3B%0A%20%20%20%20%20%20%20%20%0A%20%20%20%20%0A%20%20%20%20%20%20%20%20var%20popup_f336d21807414b119e6ad7b3004f51d5%20%3D%20L.popup%28%7B%22maxWidth%22%3A%20%22100%25%22%7D%29%3B%0A%0A%20%20%20%20%20%20%20%20%0A%20%20%20%20%20%20%20%20%20%20%20%20var%20html_8af7c92554824b75a8b41b5170d927af%20%3D%20%24%28%60%3Cdiv%20id%3D%22html_8af7c92554824b75a8b41b5170d927af%22%20style%3D%22width%3A%20100.0%25%3B%20height%3A%20100.0%25%3B%22%3EStade%20de%20la%20Source%3C/div%3E%60%29%5B0%5D%3B%0A%20%20%20%20%20%20%20%20%20%20%20%20popup_f336d21807414b119e6ad7b3004f51d5.setContent%28html_8af7c92554824b75a8b41b5170d927af%29%3B%0A%20%20%20%20%20%20%20%20%0A%0A%20%20%20%20%20%20%20%20marker_6aff0e8b621d4ffab6f3ebc8e23939fd.bindPopup%28popup_f336d21807414b119e6ad7b3004f51d5%29%0A%20%20%20%20%20%20%20%20%3B%0A%0A%20%20%20%20%20%20%20%20%0A%20%20%20%20%0A%20%20%20%20%0A%20%20%20%20%20%20%20%20%20%20%20%20var%20marker_48cb111d8e0b430ea431bcf349193888%20%3D%20L.marker%28%0A%20%20%20%20%20%20%20%20%20%20%20%20%20%20%20%20%5B47.84027777777778%2C%201.9411111111111112%5D%2C%0A%20%20%20%20%20%20%20%20%20%20%20%20%20%20%20%20%7B%7D%0A%20%20%20%20%20%20%20%20%20%20%20%20%29.addTo%28map_fbf641a940c94328a431c592fed5bdd5%29%3B%0A%20%20%20%20%20%20%20%20%0A%20%20%20%20%0A%20%20%20%20%20%20%20%20%20%20%20%20var%20marker_9589e628c3524618af9bdd5d6b6a5093%20%3D%20L.marker%28%0A%20%20%20%20%20%20%20%20%20%20%20%20%20%20%20%20%5B50.34861111111111%2C%203.5322222222222224%5D%2C%0A%20%20%20%20%20%20%20%20%20%20%20%20%20%20%20%20%7B%7D%0A%20%20%20%20%20%20%20%20%20%20%20%20%29.addTo%28map_fbf641a940c94328a431c592fed5bdd5%29%3B%0A%20%20%20%20%20%20%20%20%0A%20%20%20%20%0A%20%20%20%20%20%20%20%20var%20popup_bde7c08065ac43d48be1a0e4e5943341%20%3D%20L.popup%28%7B%22maxWidth%22%3A%20%22100%25%22%7D%29%3B%0A%0A%20%20%20%20%20%20%20%20%0A%20%20%20%20%20%20%20%20%20%20%20%20var%20html_7baa9e9b82cf47149f4958f20fc82ce0%20%3D%20%24%28%60%3Cdiv%20id%3D%22html_7baa9e9b82cf47149f4958f20fc82ce0%22%20style%3D%22width%3A%20100.0%25%3B%20height%3A%20100.0%25%3B%22%3EStade%20du%20Hainaut%3C/div%3E%60%29%5B0%5D%3B%0A%20%20%20%20%20%20%20%20%20%20%20%20popup_bde7c08065ac43d48be1a0e4e5943341.setContent%28html_7baa9e9b82cf47149f4958f20fc82ce0%29%3B%0A%20%20%20%20%20%20%20%20%0A%0A%20%20%20%20%20%20%20%20marker_9589e628c3524618af9bdd5d6b6a5093.bindPopup%28popup_bde7c08065ac43d48be1a0e4e5943341%29%0A%20%20%20%20%20%20%20%20%3B%0A%0A%20%20%20%20%20%20%20%20%0A%20%20%20%20%0A%20%20%20%20%0A%20%20%20%20%20%20%20%20%20%20%20%20var%20marker_8bd2ca002df042d09f36f71461eb4117%20%3D%20L.marker%28%0A%20%20%20%20%20%20%20%20%20%20%20%20%20%20%20%20%5B50.34861111111111%2C%203.5322222222222224%5D%2C%0A%20%20%20%20%20%20%20%20%20%20%20%20%20%20%20%20%7B%7D%0A%20%20%20%20%20%20%20%20%20%20%20%20%29.addTo%28map_fbf641a940c94328a431c592fed5bdd5%29%3B%0A%20%20%20%20%20%20%20%20%0A%20%20%20%20%0A%20%20%20%20%20%20%20%20%20%20%20%20var%20marker_dfb5a8602ccc4a95ac16e357bfee94e8%20%3D%20L.marker%28%0A%20%20%20%20%20%20%20%20%20%20%20%20%20%20%20%20%5B46.316944444444445%2C%20-0.4891666666666667%5D%2C%0A%20%20%20%20%20%20%20%20%20%20%20%20%20%20%20%20%7B%7D%0A%20%20%20%20%20%20%20%20%20%20%20%20%29.addTo%28map_fbf641a940c94328a431c592fed5bdd5%29%3B%0A%20%20%20%20%20%20%20%20%0A%20%20%20%20%0A%20%20%20%20%20%20%20%20var%20popup_e3c043d3590545b8966bec0d0bfb94f1%20%3D%20L.popup%28%7B%22maxWidth%22%3A%20%22100%25%22%7D%29%3B%0A%0A%20%20%20%20%20%20%20%20%0A%20%20%20%20%20%20%20%20%20%20%20%20var%20html_42275365a6964bf7af88893e9486a4a4%20%3D%20%24%28%60%3Cdiv%20id%3D%22html_42275365a6964bf7af88893e9486a4a4%22%20style%3D%22width%3A%20100.0%25%3B%20height%3A%20100.0%25%3B%22%3EStade%20Ren%C3%A9-Gaillard%3C/div%3E%60%29%5B0%5D%3B%0A%20%20%20%20%20%20%20%20%20%20%20%20popup_e3c043d3590545b8966bec0d0bfb94f1.setContent%28html_42275365a6964bf7af88893e9486a4a4%29%3B%0A%20%20%20%20%20%20%20%20%0A%0A%20%20%20%20%20%20%20%20marker_dfb5a8602ccc4a95ac16e357bfee94e8.bindPopup%28popup_e3c043d3590545b8966bec0d0bfb94f1%29%0A%20%20%20%20%20%20%20%20%3B%0A%0A%20%20%20%20%20%20%20%20%0A%20%20%20%20%0A%20%20%20%20%0A%20%20%20%20%20%20%20%20%20%20%20%20var%20marker_5592054cd41b4b2fb2f749c4a91e07cb%20%3D%20L.marker%28%0A%20%20%20%20%20%20%20%20%20%20%20%20%20%20%20%20%5B46.316944444444445%2C%20-0.4891666666666667%5D%2C%0A%20%20%20%20%20%20%20%20%20%20%20%20%20%20%20%20%7B%7D%0A%20%20%20%20%20%20%20%20%20%20%20%20%29.addTo%28map_fbf641a940c94328a431c592fed5bdd5%29%3B%0A%20%20%20%20%20%20%20%20%0A%20%20%20%20%0A%20%20%20%20%20%20%20%20%20%20%20%20var%20marker_a8fa2ad1127e46dba556c55c2a324cd1%20%3D%20L.marker%28%0A%20%20%20%20%20%20%20%20%20%20%20%20%20%20%20%20%5B45.1875%2C%205.74%5D%2C%0A%20%20%20%20%20%20%20%20%20%20%20%20%20%20%20%20%7B%7D%0A%20%20%20%20%20%20%20%20%20%20%20%20%29.addTo%28map_fbf641a940c94328a431c592fed5bdd5%29%3B%0A%20%20%20%20%20%20%20%20%0A%20%20%20%20%0A%20%20%20%20%20%20%20%20var%20popup_e2d2db7f6a764da781ebc0e2718874ce%20%3D%20L.popup%28%7B%22maxWidth%22%3A%20%22100%25%22%7D%29%3B%0A%0A%20%20%20%20%20%20%20%20%0A%20%20%20%20%20%20%20%20%20%20%20%20var%20html_363964fac31b4db8abea1466b2c15497%20%3D%20%24%28%60%3Cdiv%20id%3D%22html_363964fac31b4db8abea1466b2c15497%22%20style%3D%22width%3A%20100.0%25%3B%20height%3A%20100.0%25%3B%22%3EStade%20des%20Alpes%3C/div%3E%60%29%5B0%5D%3B%0A%20%20%20%20%20%20%20%20%20%20%20%20popup_e2d2db7f6a764da781ebc0e2718874ce.setContent%28html_363964fac31b4db8abea1466b2c15497%29%3B%0A%20%20%20%20%20%20%20%20%0A%0A%20%20%20%20%20%20%20%20marker_a8fa2ad1127e46dba556c55c2a324cd1.bindPopup%28popup_e2d2db7f6a764da781ebc0e2718874ce%29%0A%20%20%20%20%20%20%20%20%3B%0A%0A%20%20%20%20%20%20%20%20%0A%20%20%20%20%0A%20%20%20%20%0A%20%20%20%20%20%20%20%20%20%20%20%20var%20marker_d5963715d74d4ad087410d8bf18c4977%20%3D%20L.marker%28%0A%20%20%20%20%20%20%20%20%20%20%20%20%20%20%20%20%5B45.1875%2C%205.74%5D%2C%0A%20%20%20%20%20%20%20%20%20%20%20%20%20%20%20%20%7B%7D%0A%20%20%20%20%20%20%20%20%20%20%20%20%29.addTo%28map_fbf641a940c94328a431c592fed5bdd5%29%3B%0A%20%20%20%20%20%20%20%20%0A%20%20%20%20%0A%20%20%20%20%20%20%20%20%20%20%20%20var%20marker_fa93b910af15483883d0bbf38ce043af%20%3D%20L.marker%28%0A%20%20%20%20%20%20%20%20%20%20%20%20%20%20%20%20%5B47.51222222222222%2C%206.811388888888889%5D%2C%0A%20%20%20%20%20%20%20%20%20%20%20%20%20%20%20%20%7B%7D%0A%20%20%20%20%20%20%20%20%20%20%20%20%29.addTo%28map_fbf641a940c94328a431c592fed5bdd5%29%3B%0A%20%20%20%20%20%20%20%20%0A%20%20%20%20%0A%20%20%20%20%20%20%20%20var%20popup_54b3e3f20c2a4d12b5ff971516a65da0%20%3D%20L.popup%28%7B%22maxWidth%22%3A%20%22100%25%22%7D%29%3B%0A%0A%20%20%20%20%20%20%20%20%0A%20%20%20%20%20%20%20%20%20%20%20%20var%20html_768577081f8547db9c015808f7eabd6a%20%3D%20%24%28%60%3Cdiv%20id%3D%22html_768577081f8547db9c015808f7eabd6a%22%20style%3D%22width%3A%20100.0%25%3B%20height%3A%20100.0%25%3B%22%3EStade%20Auguste-Bonal%3C/div%3E%60%29%5B0%5D%3B%0A%20%20%20%20%20%20%20%20%20%20%20%20popup_54b3e3f20c2a4d12b5ff971516a65da0.setContent%28html_768577081f8547db9c015808f7eabd6a%29%3B%0A%20%20%20%20%20%20%20%20%0A%0A%20%20%20%20%20%20%20%20marker_fa93b910af15483883d0bbf38ce043af.bindPopup%28popup_54b3e3f20c2a4d12b5ff971516a65da0%29%0A%20%20%20%20%20%20%20%20%3B%0A%0A%20%20%20%20%20%20%20%20%0A%20%20%20%20%0A%20%20%20%20%0A%20%20%20%20%20%20%20%20%20%20%20%20var%20marker_833a478100fc4e519214fd8157f55ac2%20%3D%20L.marker%28%0A%20%20%20%20%20%20%20%20%20%20%20%20%20%20%20%20%5B47.51222222222222%2C%206.811388888888889%5D%2C%0A%20%20%20%20%20%20%20%20%20%20%20%20%20%20%20%20%7B%7D%0A%20%20%20%20%20%20%20%20%20%20%20%20%29.addTo%28map_fbf641a940c94328a431c592fed5bdd5%29%3B%0A%20%20%20%20%20%20%20%20%0A%20%20%20%20%0A%20%20%20%20%20%20%20%20%20%20%20%20var%20marker_bd4cb90586b64649bfc79c1924ea9e0b%20%3D%20L.marker%28%0A%20%20%20%20%20%20%20%20%20%20%20%20%20%20%20%20%5B44.35166666666667%2C%202.563611111111111%5D%2C%0A%20%20%20%20%20%20%20%20%20%20%20%20%20%20%20%20%7B%7D%0A%20%20%20%20%20%20%20%20%20%20%20%20%29.addTo%28map_fbf641a940c94328a431c592fed5bdd5%29%3B%0A%20%20%20%20%20%20%20%20%0A%20%20%20%20%0A%20%20%20%20%20%20%20%20var%20popup_772a2263100d48a184ba7addbecfc73b%20%3D%20L.popup%28%7B%22maxWidth%22%3A%20%22100%25%22%7D%29%3B%0A%0A%20%20%20%20%20%20%20%20%0A%20%20%20%20%20%20%20%20%20%20%20%20var%20html_5c94353057aa454ea6a3be8c057114ea%20%3D%20%24%28%60%3Cdiv%20id%3D%22html_5c94353057aa454ea6a3be8c057114ea%22%20style%3D%22width%3A%20100.0%25%3B%20height%3A%20100.0%25%3B%22%3EStade%20Paul-Lignon%3C/div%3E%60%29%5B0%5D%3B%0A%20%20%20%20%20%20%20%20%20%20%20%20popup_772a2263100d48a184ba7addbecfc73b.setContent%28html_5c94353057aa454ea6a3be8c057114ea%29%3B%0A%20%20%20%20%20%20%20%20%0A%0A%20%20%20%20%20%20%20%20marker_bd4cb90586b64649bfc79c1924ea9e0b.bindPopup%28popup_772a2263100d48a184ba7addbecfc73b%29%0A%20%20%20%20%20%20%20%20%3B%0A%0A%20%20%20%20%20%20%20%20%0A%20%20%20%20%0A%20%20%20%20%0A%20%20%20%20%20%20%20%20%20%20%20%20var%20marker_be5b9f25fe2d4e6cac44311c4fc49ead%20%3D%20L.marker%28%0A%20%20%20%20%20%20%20%20%20%20%20%20%20%20%20%20%5B44.35166666666667%2C%202.563611111111111%5D%2C%0A%20%20%20%20%20%20%20%20%20%20%20%20%20%20%20%20%7B%7D%0A%20%20%20%20%20%20%20%20%20%20%20%20%29.addTo%28map_fbf641a940c94328a431c592fed5bdd5%29%3B%0A%20%20%20%20%20%20%20%20%0A%20%20%20%20%0A%20%20%20%20%20%20%20%20%20%20%20%20var%20marker_3c0e7e07592c4a719dae81768cff8667%20%3D%20L.marker%28%0A%20%20%20%20%20%20%20%20%20%20%20%20%20%20%20%20%5B49.17916666666667%2C%202.233611111111111%5D%2C%0A%20%20%20%20%20%20%20%20%20%20%20%20%20%20%20%20%7B%7D%0A%20%20%20%20%20%20%20%20%20%20%20%20%29.addTo%28map_fbf641a940c94328a431c592fed5bdd5%29%3B%0A%20%20%20%20%20%20%20%20%0A%20%20%20%20%0A%20%20%20%20%20%20%20%20var%20popup_7cb896d3c833468dbf47d6ca7167615c%20%3D%20L.popup%28%7B%22maxWidth%22%3A%20%22100%25%22%7D%29%3B%0A%0A%20%20%20%20%20%20%20%20%0A%20%20%20%20%20%20%20%20%20%20%20%20var%20html_04ae81f4ad0949979acbf0d1fc866f1a%20%3D%20%24%28%60%3Cdiv%20id%3D%22html_04ae81f4ad0949979acbf0d1fc866f1a%22%20style%3D%22width%3A%20100.0%25%3B%20height%3A%20100.0%25%3B%22%3EStade%20Walter%20Luzi%3C/div%3E%60%29%5B0%5D%3B%0A%20%20%20%20%20%20%20%20%20%20%20%20popup_7cb896d3c833468dbf47d6ca7167615c.setContent%28html_04ae81f4ad0949979acbf0d1fc866f1a%29%3B%0A%20%20%20%20%20%20%20%20%0A%0A%20%20%20%20%20%20%20%20marker_3c0e7e07592c4a719dae81768cff8667.bindPopup%28popup_7cb896d3c833468dbf47d6ca7167615c%29%0A%20%20%20%20%20%20%20%20%3B%0A%0A%20%20%20%20%20%20%20%20%0A%20%20%20%20%0A%20%20%20%20%0A%20%20%20%20%20%20%20%20%20%20%20%20var%20marker_4534273de6ae4df4a6e2ffa4a855b3ef%20%3D%20L.marker%28%0A%20%20%20%20%20%20%20%20%20%20%20%20%20%20%20%20%5B49.17916666666667%2C%202.233611111111111%5D%2C%0A%20%20%20%20%20%20%20%20%20%20%20%20%20%20%20%20%7B%7D%0A%20%20%20%20%20%20%20%20%20%20%20%20%29.addTo%28map_fbf641a940c94328a431c592fed5bdd5%29%3B%0A%20%20%20%20%20%20%20%20%0A%20%20%20%20%0A%20%20%20%20%20%20%20%20%20%20%20%20var%20marker_50e3c33888274fd8a5ceb9e1ed2055e0%20%3D%20L.marker%28%0A%20%20%20%20%20%20%20%20%20%20%20%20%20%20%20%20%5B48.3075%2C%204.0986111111111105%5D%2C%0A%20%20%20%20%20%20%20%20%20%20%20%20%20%20%20%20%7B%7D%0A%20%20%20%20%20%20%20%20%20%20%20%20%29.addTo%28map_fbf641a940c94328a431c592fed5bdd5%29%3B%0A%20%20%20%20%20%20%20%20%0A%20%20%20%20%0A%20%20%20%20%20%20%20%20var%20popup_33d146840b224a43b6fdab609b492d7d%20%3D%20L.popup%28%7B%22maxWidth%22%3A%20%22100%25%22%7D%29%3B%0A%0A%20%20%20%20%20%20%20%20%0A%20%20%20%20%20%20%20%20%20%20%20%20var%20html_4ec597bb87a64604b70d3626db2cb86a%20%3D%20%24%28%60%3Cdiv%20id%3D%22html_4ec597bb87a64604b70d3626db2cb86a%22%20style%3D%22width%3A%20100.0%25%3B%20height%3A%20100.0%25%3B%22%3EStade%20de%20l%27Aube%3C/div%3E%60%29%5B0%5D%3B%0A%20%20%20%20%20%20%20%20%20%20%20%20popup_33d146840b224a43b6fdab609b492d7d.setContent%28html_4ec597bb87a64604b70d3626db2cb86a%29%3B%0A%20%20%20%20%20%20%20%20%0A%0A%20%20%20%20%20%20%20%20marker_50e3c33888274fd8a5ceb9e1ed2055e0.bindPopup%28popup_33d146840b224a43b6fdab609b492d7d%29%0A%20%20%20%20%20%20%20%20%3B%0A%0A%20%20%20%20%20%20%20%20%0A%20%20%20%20%0A%20%20%20%20%0A%20%20%20%20%20%20%20%20%20%20%20%20var%20marker_7b9b369d6c5d480ba60aa32c83c9e148%20%3D%20L.marker%28%0A%20%20%20%20%20%20%20%20%20%20%20%20%20%20%20%20%5B48.3075%2C%204.0986111111111105%5D%2C%0A%20%20%20%20%20%20%20%20%20%20%20%20%20%20%20%20%7B%7D%0A%20%20%20%20%20%20%20%20%20%20%20%20%29.addTo%28map_fbf641a940c94328a431c592fed5bdd5%29%3B%0A%20%20%20%20%20%20%20%20%0A%20%20%20%20%0A%20%20%20%20%20%20%20%20%20%20%20%20var%20marker_8e93ccf7534647f4a124ed53816743d5%20%3D%20L.marker%28%0A%20%20%20%20%20%20%20%20%20%20%20%20%20%20%20%20%5B50.43277777777777%2C%202.815%5D%2C%0A%20%20%20%20%20%20%20%20%20%20%20%20%20%20%20%20%7B%7D%0A%20%20%20%20%20%20%20%20%20%20%20%20%29.addTo%28map_fbf641a940c94328a431c592fed5bdd5%29%3B%0A%20%20%20%20%20%20%20%20%0A%20%20%20%20%0A%20%20%20%20%20%20%20%20var%20popup_405bd6446f6c4c949a68a3f564245b3f%20%3D%20L.popup%28%7B%22maxWidth%22%3A%20%22100%25%22%7D%29%3B%0A%0A%20%20%20%20%20%20%20%20%0A%20%20%20%20%20%20%20%20%20%20%20%20var%20html_c3bb6fbf61c545e18c0196d460359005%20%3D%20%24%28%60%3Cdiv%20id%3D%22html_c3bb6fbf61c545e18c0196d460359005%22%20style%3D%22width%3A%20100.0%25%3B%20height%3A%20100.0%25%3B%22%3EStade%20Bollaert-Delelis%3C/div%3E%60%29%5B0%5D%3B%0A%20%20%20%20%20%20%20%20%20%20%20%20popup_405bd6446f6c4c949a68a3f564245b3f.setContent%28html_c3bb6fbf61c545e18c0196d460359005%29%3B%0A%20%20%20%20%20%20%20%20%0A%0A%20%20%20%20%20%20%20%20marker_8e93ccf7534647f4a124ed53816743d5.bindPopup%28popup_405bd6446f6c4c949a68a3f564245b3f%29%0A%20%20%20%20%20%20%20%20%3B%0A%0A%20%20%20%20%20%20%20%20%0A%20%20%20%20%0A%20%20%20%20%0A%20%20%20%20%20%20%20%20%20%20%20%20var%20marker_b9d7c9d95a6a4b409fe47d0eceeed759%20%3D%20L.marker%28%0A%20%20%20%20%20%20%20%20%20%20%20%20%20%20%20%20%5B50.43277777777777%2C%202.815%5D%2C%0A%20%20%20%20%20%20%20%20%20%20%20%20%20%20%20%20%7B%7D%0A%20%20%20%20%20%20%20%20%20%20%20%20%29.addTo%28map_fbf641a940c94328a431c592fed5bdd5%29%3B%0A%20%20%20%20%20%20%20%20%0A%20%20%20%20%0A%20%20%20%20%20%20%20%20%20%20%20%20var%20marker_400f37080f5342d6a6f5a50c65ae3346%20%3D%20L.marker%28%0A%20%20%20%20%20%20%20%20%20%20%20%20%20%20%20%20%5B47.95888888888889%2C%200.22472222222222224%5D%2C%0A%20%20%20%20%20%20%20%20%20%20%20%20%20%20%20%20%7B%7D%0A%20%20%20%20%20%20%20%20%20%20%20%20%29.addTo%28map_fbf641a940c94328a431c592fed5bdd5%29%3B%0A%20%20%20%20%20%20%20%20%0A%20%20%20%20%0A%20%20%20%20%20%20%20%20var%20popup_d585cd1600e445d9a9427c9e176f109e%20%3D%20L.popup%28%7B%22maxWidth%22%3A%20%22100%25%22%7D%29%3B%0A%0A%20%20%20%20%20%20%20%20%0A%20%20%20%20%20%20%20%20%20%20%20%20var%20html_42b73395bd3f4898b53bd08a02b543a4%20%3D%20%24%28%60%3Cdiv%20id%3D%22html_42b73395bd3f4898b53bd08a02b543a4%22%20style%3D%22width%3A%20100.0%25%3B%20height%3A%20100.0%25%3B%22%3EMMArena%3C/div%3E%60%29%5B0%5D%3B%0A%20%20%20%20%20%20%20%20%20%20%20%20popup_d585cd1600e445d9a9427c9e176f109e.setContent%28html_42b73395bd3f4898b53bd08a02b543a4%29%3B%0A%20%20%20%20%20%20%20%20%0A%0A%20%20%20%20%20%20%20%20marker_400f37080f5342d6a6f5a50c65ae3346.bindPopup%28popup_d585cd1600e445d9a9427c9e176f109e%29%0A%20%20%20%20%20%20%20%20%3B%0A%0A%20%20%20%20%20%20%20%20%0A%20%20%20%20%0A%20%20%20%20%0A%20%20%20%20%20%20%20%20%20%20%20%20var%20marker_4d63f434d271436fb0af2820faa98681%20%3D%20L.marker%28%0A%20%20%20%20%20%20%20%20%20%20%20%20%20%20%20%20%5B47.95888888888889%2C%200.22472222222222224%5D%2C%0A%20%20%20%20%20%20%20%20%20%20%20%20%20%20%20%20%7B%7D%0A%20%20%20%20%20%20%20%20%20%20%20%20%29.addTo%28map_fbf641a940c94328a431c592fed5bdd5%29%3B%0A%20%20%20%20%20%20%20%20%0A%20%20%20%20%0A%20%20%20%20%20%20%20%20%20%20%20%20map_fbf641a940c94328a431c592fed5bdd5.fitBounds%28%0A%20%20%20%20%20%20%20%20%20%20%20%20%20%20%20%20%5B%5B43.26972222222222%2C%20-4.461666666666667%5D%2C%20%5B50.61194444444445%2C%207.755%5D%5D%2C%0A%20%20%20%20%20%20%20%20%20%20%20%20%20%20%20%20%7B%7D%0A%20%20%20%20%20%20%20%20%20%20%20%20%29%3B%0A%20%20%20%20%20%20%20%20%0A%3C/script%3E onload=\"this.contentDocument.open();this.contentDocument.write(    decodeURIComponent(this.getAttribute('data-html')));this.contentDocument.close();\" allowfullscreen webkitallowfullscreen mozallowfullscreen></iframe></div></div>"
=======
    "<div style=\"width:100%;\"><div style=\"position:relative;width:100%;height:0;padding-bottom:60%;\"><span style=\"color:#565656\">Make this Notebook Trusted to load map: File -> Trust Notebook</span><iframe src=\"about:blank\" style=\"position:absolute;width:100%;height:100%;left:0;top:0;border:none !important;\" data-html=%3C%21DOCTYPE%20html%3E%0A%3Chead%3E%20%20%20%20%0A%20%20%20%20%3Cmeta%20http-equiv%3D%22content-type%22%20content%3D%22text/html%3B%20charset%3DUTF-8%22%20/%3E%0A%20%20%20%20%0A%20%20%20%20%20%20%20%20%3Cscript%3E%0A%20%20%20%20%20%20%20%20%20%20%20%20L_NO_TOUCH%20%3D%20false%3B%0A%20%20%20%20%20%20%20%20%20%20%20%20L_DISABLE_3D%20%3D%20false%3B%0A%20%20%20%20%20%20%20%20%3C/script%3E%0A%20%20%20%20%0A%20%20%20%20%3Cstyle%3Ehtml%2C%20body%20%7Bwidth%3A%20100%25%3Bheight%3A%20100%25%3Bmargin%3A%200%3Bpadding%3A%200%3B%7D%3C/style%3E%0A%20%20%20%20%3Cstyle%3E%23map%20%7Bposition%3Aabsolute%3Btop%3A0%3Bbottom%3A0%3Bright%3A0%3Bleft%3A0%3B%7D%3C/style%3E%0A%20%20%20%20%3Cscript%20src%3D%22https%3A//cdn.jsdelivr.net/npm/leaflet%401.6.0/dist/leaflet.js%22%3E%3C/script%3E%0A%20%20%20%20%3Cscript%20src%3D%22https%3A//code.jquery.com/jquery-1.12.4.min.js%22%3E%3C/script%3E%0A%20%20%20%20%3Cscript%20src%3D%22https%3A//maxcdn.bootstrapcdn.com/bootstrap/3.2.0/js/bootstrap.min.js%22%3E%3C/script%3E%0A%20%20%20%20%3Cscript%20src%3D%22https%3A//cdnjs.cloudflare.com/ajax/libs/Leaflet.awesome-markers/2.0.2/leaflet.awesome-markers.js%22%3E%3C/script%3E%0A%20%20%20%20%3Clink%20rel%3D%22stylesheet%22%20href%3D%22https%3A//cdn.jsdelivr.net/npm/leaflet%401.6.0/dist/leaflet.css%22/%3E%0A%20%20%20%20%3Clink%20rel%3D%22stylesheet%22%20href%3D%22https%3A//maxcdn.bootstrapcdn.com/bootstrap/3.2.0/css/bootstrap.min.css%22/%3E%0A%20%20%20%20%3Clink%20rel%3D%22stylesheet%22%20href%3D%22https%3A//maxcdn.bootstrapcdn.com/bootstrap/3.2.0/css/bootstrap-theme.min.css%22/%3E%0A%20%20%20%20%3Clink%20rel%3D%22stylesheet%22%20href%3D%22https%3A//maxcdn.bootstrapcdn.com/font-awesome/4.6.3/css/font-awesome.min.css%22/%3E%0A%20%20%20%20%3Clink%20rel%3D%22stylesheet%22%20href%3D%22https%3A//cdnjs.cloudflare.com/ajax/libs/Leaflet.awesome-markers/2.0.2/leaflet.awesome-markers.css%22/%3E%0A%20%20%20%20%3Clink%20rel%3D%22stylesheet%22%20href%3D%22https%3A//cdn.jsdelivr.net/gh/python-visualization/folium/folium/templates/leaflet.awesome.rotate.min.css%22/%3E%0A%20%20%20%20%0A%20%20%20%20%20%20%20%20%20%20%20%20%3Cmeta%20name%3D%22viewport%22%20content%3D%22width%3Ddevice-width%2C%0A%20%20%20%20%20%20%20%20%20%20%20%20%20%20%20%20initial-scale%3D1.0%2C%20maximum-scale%3D1.0%2C%20user-scalable%3Dno%22%20/%3E%0A%20%20%20%20%20%20%20%20%20%20%20%20%3Cstyle%3E%0A%20%20%20%20%20%20%20%20%20%20%20%20%20%20%20%20%23map_ee4100b0ab254cdaa184e25592c48c11%20%7B%0A%20%20%20%20%20%20%20%20%20%20%20%20%20%20%20%20%20%20%20%20position%3A%20relative%3B%0A%20%20%20%20%20%20%20%20%20%20%20%20%20%20%20%20%20%20%20%20width%3A%20100.0%25%3B%0A%20%20%20%20%20%20%20%20%20%20%20%20%20%20%20%20%20%20%20%20height%3A%20100.0%25%3B%0A%20%20%20%20%20%20%20%20%20%20%20%20%20%20%20%20%20%20%20%20left%3A%200.0%25%3B%0A%20%20%20%20%20%20%20%20%20%20%20%20%20%20%20%20%20%20%20%20top%3A%200.0%25%3B%0A%20%20%20%20%20%20%20%20%20%20%20%20%20%20%20%20%7D%0A%20%20%20%20%20%20%20%20%20%20%20%20%3C/style%3E%0A%20%20%20%20%20%20%20%20%0A%3C/head%3E%0A%3Cbody%3E%20%20%20%20%0A%20%20%20%20%0A%20%20%20%20%20%20%20%20%20%20%20%20%3Cdiv%20class%3D%22folium-map%22%20id%3D%22map_ee4100b0ab254cdaa184e25592c48c11%22%20%3E%3C/div%3E%0A%20%20%20%20%20%20%20%20%0A%3C/body%3E%0A%3Cscript%3E%20%20%20%20%0A%20%20%20%20%0A%20%20%20%20%20%20%20%20%20%20%20%20var%20map_ee4100b0ab254cdaa184e25592c48c11%20%3D%20L.map%28%0A%20%20%20%20%20%20%20%20%20%20%20%20%20%20%20%20%22map_ee4100b0ab254cdaa184e25592c48c11%22%2C%0A%20%20%20%20%20%20%20%20%20%20%20%20%20%20%20%20%7B%0A%20%20%20%20%20%20%20%20%20%20%20%20%20%20%20%20%20%20%20%20center%3A%20%5B47.25663817663817%2C%202.578048433048433%5D%2C%0A%20%20%20%20%20%20%20%20%20%20%20%20%20%20%20%20%20%20%20%20crs%3A%20L.CRS.EPSG3857%2C%0A%20%20%20%20%20%20%20%20%20%20%20%20%20%20%20%20%20%20%20%20zoom%3A%2010%2C%0A%20%20%20%20%20%20%20%20%20%20%20%20%20%20%20%20%20%20%20%20zoomControl%3A%20true%2C%0A%20%20%20%20%20%20%20%20%20%20%20%20%20%20%20%20%20%20%20%20preferCanvas%3A%20false%2C%0A%20%20%20%20%20%20%20%20%20%20%20%20%20%20%20%20%7D%0A%20%20%20%20%20%20%20%20%20%20%20%20%29%3B%0A%0A%20%20%20%20%20%20%20%20%20%20%20%20%0A%0A%20%20%20%20%20%20%20%20%0A%20%20%20%20%0A%20%20%20%20%20%20%20%20%20%20%20%20var%20tile_layer_4631c27bea604683ae19b38ad01b741c%20%3D%20L.tileLayer%28%0A%20%20%20%20%20%20%20%20%20%20%20%20%20%20%20%20%22https%3A//stamen-tiles-%7Bs%7D.a.ssl.fastly.net/toner/%7Bz%7D/%7Bx%7D/%7By%7D.png%22%2C%0A%20%20%20%20%20%20%20%20%20%20%20%20%20%20%20%20%7B%22attribution%22%3A%20%22Map%20tiles%20by%20%5Cu003ca%20href%3D%5C%22http%3A//stamen.com%5C%22%5Cu003eStamen%20Design%5Cu003c/a%5Cu003e%2C%20under%20%5Cu003ca%20href%3D%5C%22http%3A//creativecommons.org/licenses/by/3.0%5C%22%5Cu003eCC%20BY%203.0%5Cu003c/a%5Cu003e.%20Data%20by%20%5Cu0026copy%3B%20%5Cu003ca%20href%3D%5C%22http%3A//openstreetmap.org%5C%22%5Cu003eOpenStreetMap%5Cu003c/a%5Cu003e%2C%20under%20%5Cu003ca%20href%3D%5C%22http%3A//www.openstreetmap.org/copyright%5C%22%5Cu003eODbL%5Cu003c/a%5Cu003e.%22%2C%20%22detectRetina%22%3A%20false%2C%20%22maxNativeZoom%22%3A%2018%2C%20%22maxZoom%22%3A%2018%2C%20%22minZoom%22%3A%200%2C%20%22noWrap%22%3A%20false%2C%20%22opacity%22%3A%201%2C%20%22subdomains%22%3A%20%22abc%22%2C%20%22tms%22%3A%20false%7D%0A%20%20%20%20%20%20%20%20%20%20%20%20%29.addTo%28map_ee4100b0ab254cdaa184e25592c48c11%29%3B%0A%20%20%20%20%20%20%20%20%0A%20%20%20%20%0A%20%20%20%20%20%20%20%20%20%20%20%20var%20marker_b3c1dbf77f45400bb925b887fc02a24a%20%3D%20L.marker%28%0A%20%20%20%20%20%20%20%20%20%20%20%20%20%20%20%20%5B48.84138888888889%2C%202.2530555555555556%5D%2C%0A%20%20%20%20%20%20%20%20%20%20%20%20%20%20%20%20%7B%7D%0A%20%20%20%20%20%20%20%20%20%20%20%20%29.addTo%28map_ee4100b0ab254cdaa184e25592c48c11%29%3B%0A%20%20%20%20%20%20%20%20%0A%20%20%20%20%0A%20%20%20%20%20%20%20%20var%20popup_a84493d3981148558325d9bd9a5077b4%20%3D%20L.popup%28%7B%22maxWidth%22%3A%20%22100%25%22%7D%29%3B%0A%0A%20%20%20%20%20%20%20%20%0A%20%20%20%20%20%20%20%20%20%20%20%20var%20html_3dd583755ebc4ba38e421f11de6162e6%20%3D%20%24%28%60%3Cdiv%20id%3D%22html_3dd583755ebc4ba38e421f11de6162e6%22%20style%3D%22width%3A%20100.0%25%3B%20height%3A%20100.0%25%3B%22%3EParc%20des%20Princes%3C/div%3E%60%29%5B0%5D%3B%0A%20%20%20%20%20%20%20%20%20%20%20%20popup_a84493d3981148558325d9bd9a5077b4.setContent%28html_3dd583755ebc4ba38e421f11de6162e6%29%3B%0A%20%20%20%20%20%20%20%20%0A%0A%20%20%20%20%20%20%20%20marker_b3c1dbf77f45400bb925b887fc02a24a.bindPopup%28popup_a84493d3981148558325d9bd9a5077b4%29%0A%20%20%20%20%20%20%20%20%3B%0A%0A%20%20%20%20%20%20%20%20%0A%20%20%20%20%0A%20%20%20%20%0A%20%20%20%20%20%20%20%20%20%20%20%20var%20marker_5f1a09ac7cdb478cbef9982d2bd5b656%20%3D%20L.marker%28%0A%20%20%20%20%20%20%20%20%20%20%20%20%20%20%20%20%5B50.61194444444445%2C%203.1305555555555555%5D%2C%0A%20%20%20%20%20%20%20%20%20%20%20%20%20%20%20%20%7B%7D%0A%20%20%20%20%20%20%20%20%20%20%20%20%29.addTo%28map_ee4100b0ab254cdaa184e25592c48c11%29%3B%0A%20%20%20%20%20%20%20%20%0A%20%20%20%20%0A%20%20%20%20%20%20%20%20var%20popup_604e5d011dc24f62ab34cffb3d0fa156%20%3D%20L.popup%28%7B%22maxWidth%22%3A%20%22100%25%22%7D%29%3B%0A%0A%20%20%20%20%20%20%20%20%0A%20%20%20%20%20%20%20%20%20%20%20%20var%20html_dc076ae4f6034ac3b95ecdb15be22814%20%3D%20%24%28%60%3Cdiv%20id%3D%22html_dc076ae4f6034ac3b95ecdb15be22814%22%20style%3D%22width%3A%20100.0%25%3B%20height%3A%20100.0%25%3B%22%3EStade%20Pierre-Mauroy%3C/div%3E%60%29%5B0%5D%3B%0A%20%20%20%20%20%20%20%20%20%20%20%20popup_604e5d011dc24f62ab34cffb3d0fa156.setContent%28html_dc076ae4f6034ac3b95ecdb15be22814%29%3B%0A%20%20%20%20%20%20%20%20%0A%0A%20%20%20%20%20%20%20%20marker_5f1a09ac7cdb478cbef9982d2bd5b656.bindPopup%28popup_604e5d011dc24f62ab34cffb3d0fa156%29%0A%20%20%20%20%20%20%20%20%3B%0A%0A%20%20%20%20%20%20%20%20%0A%20%20%20%20%0A%20%20%20%20%0A%20%20%20%20%20%20%20%20%20%20%20%20var%20marker_2c080c1129d64446a7ad346ec4a37b51%20%3D%20L.marker%28%0A%20%20%20%20%20%20%20%20%20%20%20%20%20%20%20%20%5B45.765277777777776%2C%204.981944444444444%5D%2C%0A%20%20%20%20%20%20%20%20%20%20%20%20%20%20%20%20%7B%7D%0A%20%20%20%20%20%20%20%20%20%20%20%20%29.addTo%28map_ee4100b0ab254cdaa184e25592c48c11%29%3B%0A%20%20%20%20%20%20%20%20%0A%20%20%20%20%0A%20%20%20%20%20%20%20%20var%20popup_f8ebd2a9e2964520a87ac5e703c6e010%20%3D%20L.popup%28%7B%22maxWidth%22%3A%20%22100%25%22%7D%29%3B%0A%0A%20%20%20%20%20%20%20%20%0A%20%20%20%20%20%20%20%20%20%20%20%20var%20html_22c65bec75bb4a2f9d4cf276a4c94555%20%3D%20%24%28%60%3Cdiv%20id%3D%22html_22c65bec75bb4a2f9d4cf276a4c94555%22%20style%3D%22width%3A%20100.0%25%3B%20height%3A%20100.0%25%3B%22%3EParc%20Olympique%20lyonnais%3C/div%3E%60%29%5B0%5D%3B%0A%20%20%20%20%20%20%20%20%20%20%20%20popup_f8ebd2a9e2964520a87ac5e703c6e010.setContent%28html_22c65bec75bb4a2f9d4cf276a4c94555%29%3B%0A%20%20%20%20%20%20%20%20%0A%0A%20%20%20%20%20%20%20%20marker_2c080c1129d64446a7ad346ec4a37b51.bindPopup%28popup_f8ebd2a9e2964520a87ac5e703c6e010%29%0A%20%20%20%20%20%20%20%20%3B%0A%0A%20%20%20%20%20%20%20%20%0A%20%20%20%20%0A%20%20%20%20%0A%20%20%20%20%20%20%20%20%20%20%20%20var%20marker_9503e03b133c406598a00eb754809f1e%20%3D%20L.marker%28%0A%20%20%20%20%20%20%20%20%20%20%20%20%20%20%20%20%5B45.46083333333333%2C%204.390277777777778%5D%2C%0A%20%20%20%20%20%20%20%20%20%20%20%20%20%20%20%20%7B%7D%0A%20%20%20%20%20%20%20%20%20%20%20%20%29.addTo%28map_ee4100b0ab254cdaa184e25592c48c11%29%3B%0A%20%20%20%20%20%20%20%20%0A%20%20%20%20%0A%20%20%20%20%20%20%20%20var%20popup_b88cf392d8b944fab191678f30e01261%20%3D%20L.popup%28%7B%22maxWidth%22%3A%20%22100%25%22%7D%29%3B%0A%0A%20%20%20%20%20%20%20%20%0A%20%20%20%20%20%20%20%20%20%20%20%20var%20html_65defd2997e74184844322f198374a01%20%3D%20%24%28%60%3Cdiv%20id%3D%22html_65defd2997e74184844322f198374a01%22%20style%3D%22width%3A%20100.0%25%3B%20height%3A%20100.0%25%3B%22%3EStade%20Geoffroy-Guichard%3C/div%3E%60%29%5B0%5D%3B%0A%20%20%20%20%20%20%20%20%20%20%20%20popup_b88cf392d8b944fab191678f30e01261.setContent%28html_65defd2997e74184844322f198374a01%29%3B%0A%20%20%20%20%20%20%20%20%0A%0A%20%20%20%20%20%20%20%20marker_9503e03b133c406598a00eb754809f1e.bindPopup%28popup_b88cf392d8b944fab191678f30e01261%29%0A%20%20%20%20%20%20%20%20%3B%0A%0A%20%20%20%20%20%20%20%20%0A%20%20%20%20%0A%20%20%20%20%0A%20%20%20%20%20%20%20%20%20%20%20%20var%20marker_aa8c6d491762455888d0dbf995e60737%20%3D%20L.marker%28%0A%20%20%20%20%20%20%20%20%20%20%20%20%20%20%20%20%5B43.26972222222222%2C%205.395833333333334%5D%2C%0A%20%20%20%20%20%20%20%20%20%20%20%20%20%20%20%20%7B%7D%0A%20%20%20%20%20%20%20%20%20%20%20%20%29.addTo%28map_ee4100b0ab254cdaa184e25592c48c11%29%3B%0A%20%20%20%20%20%20%20%20%0A%20%20%20%20%0A%20%20%20%20%20%20%20%20var%20popup_8341d761650a41ff83ac2e30a36405ce%20%3D%20L.popup%28%7B%22maxWidth%22%3A%20%22100%25%22%7D%29%3B%0A%0A%20%20%20%20%20%20%20%20%0A%20%20%20%20%20%20%20%20%20%20%20%20var%20html_bad5ac1a93f34924bcb0df50cd885dd2%20%3D%20%24%28%60%3Cdiv%20id%3D%22html_bad5ac1a93f34924bcb0df50cd885dd2%22%20style%3D%22width%3A%20100.0%25%3B%20height%3A%20100.0%25%3B%22%3EOrange%20V%C3%A9lodrome%3C/div%3E%60%29%5B0%5D%3B%0A%20%20%20%20%20%20%20%20%20%20%20%20popup_8341d761650a41ff83ac2e30a36405ce.setContent%28html_bad5ac1a93f34924bcb0df50cd885dd2%29%3B%0A%20%20%20%20%20%20%20%20%0A%0A%20%20%20%20%20%20%20%20marker_aa8c6d491762455888d0dbf995e60737.bindPopup%28popup_8341d761650a41ff83ac2e30a36405ce%29%0A%20%20%20%20%20%20%20%20%3B%0A%0A%20%20%20%20%20%20%20%20%0A%20%20%20%20%0A%20%20%20%20%0A%20%20%20%20%20%20%20%20%20%20%20%20var%20marker_c98c13015374495ead77e547b323637d%20%3D%20L.marker%28%0A%20%20%20%20%20%20%20%20%20%20%20%20%20%20%20%20%5B43.621944444444445%2C%203.812222222222222%5D%2C%0A%20%20%20%20%20%20%20%20%20%20%20%20%20%20%20%20%7B%7D%0A%20%20%20%20%20%20%20%20%20%20%20%20%29.addTo%28map_ee4100b0ab254cdaa184e25592c48c11%29%3B%0A%20%20%20%20%20%20%20%20%0A%20%20%20%20%0A%20%20%20%20%20%20%20%20var%20popup_481595fe11fb4265b20fee3cb11c4f86%20%3D%20L.popup%28%7B%22maxWidth%22%3A%20%22100%25%22%7D%29%3B%0A%0A%20%20%20%20%20%20%20%20%0A%20%20%20%20%20%20%20%20%20%20%20%20var%20html_f4b433c938324405a5b0b49f8e9ec493%20%3D%20%24%28%60%3Cdiv%20id%3D%22html_f4b433c938324405a5b0b49f8e9ec493%22%20style%3D%22width%3A%20100.0%25%3B%20height%3A%20100.0%25%3B%22%3EStade%20de%20la%20Mosson%3C/div%3E%60%29%5B0%5D%3B%0A%20%20%20%20%20%20%20%20%20%20%20%20popup_481595fe11fb4265b20fee3cb11c4f86.setContent%28html_f4b433c938324405a5b0b49f8e9ec493%29%3B%0A%20%20%20%20%20%20%20%20%0A%0A%20%20%20%20%20%20%20%20marker_c98c13015374495ead77e547b323637d.bindPopup%28popup_481595fe11fb4265b20fee3cb11c4f86%29%0A%20%20%20%20%20%20%20%20%3B%0A%0A%20%20%20%20%20%20%20%20%0A%20%20%20%20%0A%20%20%20%20%0A%20%20%20%20%20%20%20%20%20%20%20%20var%20marker_73438d1f5c8d4e45b4d65f9ef223543c%20%3D%20L.marker%28%0A%20%20%20%20%20%20%20%20%20%20%20%20%20%20%20%20%5B49.24666666666667%2C%204.025%5D%2C%0A%20%20%20%20%20%20%20%20%20%20%20%20%20%20%20%20%7B%7D%0A%20%20%20%20%20%20%20%20%20%20%20%20%29.addTo%28map_ee4100b0ab254cdaa184e25592c48c11%29%3B%0A%20%20%20%20%20%20%20%20%0A%20%20%20%20%0A%20%20%20%20%20%20%20%20var%20popup_fd0acd23f55c4c58a71b41a2faabf45b%20%3D%20L.popup%28%7B%22maxWidth%22%3A%20%22100%25%22%7D%29%3B%0A%0A%20%20%20%20%20%20%20%20%0A%20%20%20%20%20%20%20%20%20%20%20%20var%20html_b61d3ca08a0f4472b30d68729c91c746%20%3D%20%24%28%60%3Cdiv%20id%3D%22html_b61d3ca08a0f4472b30d68729c91c746%22%20style%3D%22width%3A%20100.0%25%3B%20height%3A%20100.0%25%3B%22%3EStade%20Auguste-Delaune%3C/div%3E%60%29%5B0%5D%3B%0A%20%20%20%20%20%20%20%20%20%20%20%20popup_fd0acd23f55c4c58a71b41a2faabf45b.setContent%28html_b61d3ca08a0f4472b30d68729c91c746%29%3B%0A%20%20%20%20%20%20%20%20%0A%0A%20%20%20%20%20%20%20%20marker_73438d1f5c8d4e45b4d65f9ef223543c.bindPopup%28popup_fd0acd23f55c4c58a71b41a2faabf45b%29%0A%20%20%20%20%20%20%20%20%3B%0A%0A%20%20%20%20%20%20%20%20%0A%20%20%20%20%0A%20%20%20%20%0A%20%20%20%20%20%20%20%20%20%20%20%20var%20marker_9a469b61fccf4f61aa86d07434c23639%20%3D%20L.marker%28%0A%20%20%20%20%20%20%20%20%20%20%20%20%20%20%20%20%5B43.705000000000005%2C%207.1925%5D%2C%0A%20%20%20%20%20%20%20%20%20%20%20%20%20%20%20%20%7B%7D%0A%20%20%20%20%20%20%20%20%20%20%20%20%29.addTo%28map_ee4100b0ab254cdaa184e25592c48c11%29%3B%0A%20%20%20%20%20%20%20%20%0A%20%20%20%20%0A%20%20%20%20%20%20%20%20var%20popup_92bd0bc13725458eb1a079fc0f65f671%20%3D%20L.popup%28%7B%22maxWidth%22%3A%20%22100%25%22%7D%29%3B%0A%0A%20%20%20%20%20%20%20%20%0A%20%20%20%20%20%20%20%20%20%20%20%20var%20html_6125ce4115894b889dd20038f4dd7f77%20%3D%20%24%28%60%3Cdiv%20id%3D%22html_6125ce4115894b889dd20038f4dd7f77%22%20style%3D%22width%3A%20100.0%25%3B%20height%3A%20100.0%25%3B%22%3EAllianz%20Riviera%3C/div%3E%60%29%5B0%5D%3B%0A%20%20%20%20%20%20%20%20%20%20%20%20popup_92bd0bc13725458eb1a079fc0f65f671.setContent%28html_6125ce4115894b889dd20038f4dd7f77%29%3B%0A%20%20%20%20%20%20%20%20%0A%0A%20%20%20%20%20%20%20%20marker_9a469b61fccf4f61aa86d07434c23639.bindPopup%28popup_92bd0bc13725458eb1a079fc0f65f671%29%0A%20%20%20%20%20%20%20%20%3B%0A%0A%20%20%20%20%20%20%20%20%0A%20%20%20%20%0A%20%20%20%20%0A%20%20%20%20%20%20%20%20%20%20%20%20var%20marker_dc5bd08be42e4dbca0a54c50158dac5b%20%3D%20L.marker%28%0A%20%20%20%20%20%20%20%20%20%20%20%20%20%20%20%20%5B43.816111111111105%2C%204.359166666666666%5D%2C%0A%20%20%20%20%20%20%20%20%20%20%20%20%20%20%20%20%7B%7D%0A%20%20%20%20%20%20%20%20%20%20%20%20%29.addTo%28map_ee4100b0ab254cdaa184e25592c48c11%29%3B%0A%20%20%20%20%20%20%20%20%0A%20%20%20%20%0A%20%20%20%20%20%20%20%20var%20popup_da3191a4e750400c9d140f67b1d9cdad%20%3D%20L.popup%28%7B%22maxWidth%22%3A%20%22100%25%22%7D%29%3B%0A%0A%20%20%20%20%20%20%20%20%0A%20%20%20%20%20%20%20%20%20%20%20%20var%20html_9ebe8749c1834477a63ea96cde743033%20%3D%20%24%28%60%3Cdiv%20id%3D%22html_9ebe8749c1834477a63ea96cde743033%22%20style%3D%22width%3A%20100.0%25%3B%20height%3A%20100.0%25%3B%22%3EStade%20des%20Costi%C3%A8res%3C/div%3E%60%29%5B0%5D%3B%0A%20%20%20%20%20%20%20%20%20%20%20%20popup_da3191a4e750400c9d140f67b1d9cdad.setContent%28html_9ebe8749c1834477a63ea96cde743033%29%3B%0A%20%20%20%20%20%20%20%20%0A%0A%20%20%20%20%20%20%20%20marker_dc5bd08be42e4dbca0a54c50158dac5b.bindPopup%28popup_da3191a4e750400c9d140f67b1d9cdad%29%0A%20%20%20%20%20%20%20%20%3B%0A%0A%20%20%20%20%20%20%20%20%0A%20%20%20%20%0A%20%20%20%20%0A%20%20%20%20%20%20%20%20%20%20%20%20var%20marker_6cc55550339841b698dfb5c6a325ea14%20%3D%20L.marker%28%0A%20%20%20%20%20%20%20%20%20%20%20%20%20%20%20%20%5B48.559999999999995%2C%207.755%5D%2C%0A%20%20%20%20%20%20%20%20%20%20%20%20%20%20%20%20%7B%7D%0A%20%20%20%20%20%20%20%20%20%20%20%20%29.addTo%28map_ee4100b0ab254cdaa184e25592c48c11%29%3B%0A%20%20%20%20%20%20%20%20%0A%20%20%20%20%0A%20%20%20%20%20%20%20%20var%20popup_7971f7130c2e4054988cad2f90cf4eaa%20%3D%20L.popup%28%7B%22maxWidth%22%3A%20%22100%25%22%7D%29%3B%0A%0A%20%20%20%20%20%20%20%20%0A%20%20%20%20%20%20%20%20%20%20%20%20var%20html_4f21ba7e916245ef8e55e4517d9d2e56%20%3D%20%24%28%60%3Cdiv%20id%3D%22html_4f21ba7e916245ef8e55e4517d9d2e56%22%20style%3D%22width%3A%20100.0%25%3B%20height%3A%20100.0%25%3B%22%3EStade%20de%20la%20Meinau%3C/div%3E%60%29%5B0%5D%3B%0A%20%20%20%20%20%20%20%20%20%20%20%20popup_7971f7130c2e4054988cad2f90cf4eaa.setContent%28html_4f21ba7e916245ef8e55e4517d9d2e56%29%3B%0A%20%20%20%20%20%20%20%20%0A%0A%20%20%20%20%20%20%20%20marker_6cc55550339841b698dfb5c6a325ea14.bindPopup%28popup_7971f7130c2e4054988cad2f90cf4eaa%29%0A%20%20%20%20%20%20%20%20%3B%0A%0A%20%20%20%20%20%20%20%20%0A%20%20%20%20%0A%20%20%20%20%0A%20%20%20%20%20%20%20%20%20%20%20%20var%20marker_6f6875e7b066455eafaff8f5a84d2e5f%20%3D%20L.marker%28%0A%20%20%20%20%20%20%20%20%20%20%20%20%20%20%20%20%5B48.1075%2C%20-1.7127777777777777%5D%2C%0A%20%20%20%20%20%20%20%20%20%20%20%20%20%20%20%20%7B%7D%0A%20%20%20%20%20%20%20%20%20%20%20%20%29.addTo%28map_ee4100b0ab254cdaa184e25592c48c11%29%3B%0A%20%20%20%20%20%20%20%20%0A%20%20%20%20%0A%20%20%20%20%20%20%20%20var%20popup_3f0f99c0076e42f68a212ffcbc0539d9%20%3D%20L.popup%28%7B%22maxWidth%22%3A%20%22100%25%22%7D%29%3B%0A%0A%20%20%20%20%20%20%20%20%0A%20%20%20%20%20%20%20%20%20%20%20%20var%20html_43d142bc29a6411e9ee18f578b2c1d2c%20%3D%20%24%28%60%3Cdiv%20id%3D%22html_43d142bc29a6411e9ee18f578b2c1d2c%22%20style%3D%22width%3A%20100.0%25%3B%20height%3A%20100.0%25%3B%22%3ERoazhon%20Park%3C/div%3E%60%29%5B0%5D%3B%0A%20%20%20%20%20%20%20%20%20%20%20%20popup_3f0f99c0076e42f68a212ffcbc0539d9.setContent%28html_43d142bc29a6411e9ee18f578b2c1d2c%29%3B%0A%20%20%20%20%20%20%20%20%0A%0A%20%20%20%20%20%20%20%20marker_6f6875e7b066455eafaff8f5a84d2e5f.bindPopup%28popup_3f0f99c0076e42f68a212ffcbc0539d9%29%0A%20%20%20%20%20%20%20%20%3B%0A%0A%20%20%20%20%20%20%20%20%0A%20%20%20%20%0A%20%20%20%20%0A%20%20%20%20%20%20%20%20%20%20%20%20var%20marker_0e9e1669c9044b71bdfb493f4ed50b8d%20%3D%20L.marker%28%0A%20%20%20%20%20%20%20%20%20%20%20%20%20%20%20%20%5B47.46055555555556%2C%20-0.5308333333333334%5D%2C%0A%20%20%20%20%20%20%20%20%20%20%20%20%20%20%20%20%7B%7D%0A%20%20%20%20%20%20%20%20%20%20%20%20%29.addTo%28map_ee4100b0ab254cdaa184e25592c48c11%29%3B%0A%20%20%20%20%20%20%20%20%0A%20%20%20%20%0A%20%20%20%20%20%20%20%20var%20popup_390cf8788a58437083bb96a84e45c493%20%3D%20L.popup%28%7B%22maxWidth%22%3A%20%22100%25%22%7D%29%3B%0A%0A%20%20%20%20%20%20%20%20%0A%20%20%20%20%20%20%20%20%20%20%20%20var%20html_26d46b1113a3463cbbf2d0480999b714%20%3D%20%24%28%60%3Cdiv%20id%3D%22html_26d46b1113a3463cbbf2d0480999b714%22%20style%3D%22width%3A%20100.0%25%3B%20height%3A%20100.0%25%3B%22%3EStade%20Raymond-Kopa%3C/div%3E%60%29%5B0%5D%3B%0A%20%20%20%20%20%20%20%20%20%20%20%20popup_390cf8788a58437083bb96a84e45c493.setContent%28html_26d46b1113a3463cbbf2d0480999b714%29%3B%0A%20%20%20%20%20%20%20%20%0A%0A%20%20%20%20%20%20%20%20marker_0e9e1669c9044b71bdfb493f4ed50b8d.bindPopup%28popup_390cf8788a58437083bb96a84e45c493%29%0A%20%20%20%20%20%20%20%20%3B%0A%0A%20%20%20%20%20%20%20%20%0A%20%20%20%20%0A%20%20%20%20%0A%20%20%20%20%20%20%20%20%20%20%20%20var%20marker_d90ecc43aa044a1784baa53ba7a18f5f%20%3D%20L.marker%28%0A%20%20%20%20%20%20%20%20%20%20%20%20%20%20%20%20%5B49.109722222222224%2C%206.159166666666667%5D%2C%0A%20%20%20%20%20%20%20%20%20%20%20%20%20%20%20%20%7B%7D%0A%20%20%20%20%20%20%20%20%20%20%20%20%29.addTo%28map_ee4100b0ab254cdaa184e25592c48c11%29%3B%0A%20%20%20%20%20%20%20%20%0A%20%20%20%20%0A%20%20%20%20%20%20%20%20var%20popup_5c0e9796276c4752bacc838d130fe1e4%20%3D%20L.popup%28%7B%22maxWidth%22%3A%20%22100%25%22%7D%29%3B%0A%0A%20%20%20%20%20%20%20%20%0A%20%20%20%20%20%20%20%20%20%20%20%20var%20html_838fbec9f085416ba524eff62d0377c3%20%3D%20%24%28%60%3Cdiv%20id%3D%22html_838fbec9f085416ba524eff62d0377c3%22%20style%3D%22width%3A%20100.0%25%3B%20height%3A%20100.0%25%3B%22%3EStade%20Saint-Symphorien%3C/div%3E%60%29%5B0%5D%3B%0A%20%20%20%20%20%20%20%20%20%20%20%20popup_5c0e9796276c4752bacc838d130fe1e4.setContent%28html_838fbec9f085416ba524eff62d0377c3%29%3B%0A%20%20%20%20%20%20%20%20%0A%0A%20%20%20%20%20%20%20%20marker_d90ecc43aa044a1784baa53ba7a18f5f.bindPopup%28popup_5c0e9796276c4752bacc838d130fe1e4%29%0A%20%20%20%20%20%20%20%20%3B%0A%0A%20%20%20%20%20%20%20%20%0A%20%20%20%20%0A%20%20%20%20%0A%20%20%20%20%20%20%20%20%20%20%20%20var%20marker_bbcd21221cfb4d6da5b9ccb700ed11fc%20%3D%20L.marker%28%0A%20%20%20%20%20%20%20%20%20%20%20%20%20%20%20%20%5B47.25555555555555%2C%20-1.5252777777777777%5D%2C%0A%20%20%20%20%20%20%20%20%20%20%20%20%20%20%20%20%7B%7D%0A%20%20%20%20%20%20%20%20%20%20%20%20%29.addTo%28map_ee4100b0ab254cdaa184e25592c48c11%29%3B%0A%20%20%20%20%20%20%20%20%0A%20%20%20%20%0A%20%20%20%20%20%20%20%20var%20popup_44fb96ac0c824d58a373b4b2412bb6a2%20%3D%20L.popup%28%7B%22maxWidth%22%3A%20%22100%25%22%7D%29%3B%0A%0A%20%20%20%20%20%20%20%20%0A%20%20%20%20%20%20%20%20%20%20%20%20var%20html_cad0e0c836d14304a402e72c86a9ee7f%20%3D%20%24%28%60%3Cdiv%20id%3D%22html_cad0e0c836d14304a402e72c86a9ee7f%22%20style%3D%22width%3A%20100.0%25%3B%20height%3A%20100.0%25%3B%22%3EStade%20de%20la%20Beaujoire%3C/div%3E%60%29%5B0%5D%3B%0A%20%20%20%20%20%20%20%20%20%20%20%20popup_44fb96ac0c824d58a373b4b2412bb6a2.setContent%28html_cad0e0c836d14304a402e72c86a9ee7f%29%3B%0A%20%20%20%20%20%20%20%20%0A%0A%20%20%20%20%20%20%20%20marker_bbcd21221cfb4d6da5b9ccb700ed11fc.bindPopup%28popup_44fb96ac0c824d58a373b4b2412bb6a2%29%0A%20%20%20%20%20%20%20%20%3B%0A%0A%20%20%20%20%20%20%20%20%0A%20%20%20%20%0A%20%20%20%20%0A%20%20%20%20%20%20%20%20%20%20%20%20var%20marker_6a743a077e0d486285844459029ad9b5%20%3D%20L.marker%28%0A%20%20%20%20%20%20%20%20%20%20%20%20%20%20%20%20%5B48.403055555555554%2C%20-4.461666666666667%5D%2C%0A%20%20%20%20%20%20%20%20%20%20%20%20%20%20%20%20%7B%7D%0A%20%20%20%20%20%20%20%20%20%20%20%20%29.addTo%28map_ee4100b0ab254cdaa184e25592c48c11%29%3B%0A%20%20%20%20%20%20%20%20%0A%20%20%20%20%0A%20%20%20%20%20%20%20%20var%20popup_07c8e2d413ec41c9bd7adee923b4afd4%20%3D%20L.popup%28%7B%22maxWidth%22%3A%20%22100%25%22%7D%29%3B%0A%0A%20%20%20%20%20%20%20%20%0A%20%20%20%20%20%20%20%20%20%20%20%20var%20html_d17372e43b854cd38ac6d8a555b576d5%20%3D%20%24%28%60%3Cdiv%20id%3D%22html_d17372e43b854cd38ac6d8a555b576d5%22%20style%3D%22width%3A%20100.0%25%3B%20height%3A%20100.0%25%3B%22%3EStade%20Francis-Le%20Bl%C3%A9%3C/div%3E%60%29%5B0%5D%3B%0A%20%20%20%20%20%20%20%20%20%20%20%20popup_07c8e2d413ec41c9bd7adee923b4afd4.setContent%28html_d17372e43b854cd38ac6d8a555b576d5%29%3B%0A%20%20%20%20%20%20%20%20%0A%0A%20%20%20%20%20%20%20%20marker_6a743a077e0d486285844459029ad9b5.bindPopup%28popup_07c8e2d413ec41c9bd7adee923b4afd4%29%0A%20%20%20%20%20%20%20%20%3B%0A%0A%20%20%20%20%20%20%20%20%0A%20%20%20%20%0A%20%20%20%20%0A%20%20%20%20%20%20%20%20%20%20%20%20var%20marker_e8c4c91edb4c4f8da40d597379cfe7e6%20%3D%20L.marker%28%0A%20%20%20%20%20%20%20%20%20%20%20%20%20%20%20%20%5B44.89722222222222%2C%20-0.5613888888888889%5D%2C%0A%20%20%20%20%20%20%20%20%20%20%20%20%20%20%20%20%7B%7D%0A%20%20%20%20%20%20%20%20%20%20%20%20%29.addTo%28map_ee4100b0ab254cdaa184e25592c48c11%29%3B%0A%20%20%20%20%20%20%20%20%0A%20%20%20%20%0A%20%20%20%20%20%20%20%20var%20popup_4a09aab9b7cf4e99b7276d2237b8d924%20%3D%20L.popup%28%7B%22maxWidth%22%3A%20%22100%25%22%7D%29%3B%0A%0A%20%20%20%20%20%20%20%20%0A%20%20%20%20%20%20%20%20%20%20%20%20var%20html_c2cc19960cd24596892e3a895f9a11b2%20%3D%20%24%28%60%3Cdiv%20id%3D%22html_c2cc19960cd24596892e3a895f9a11b2%22%20style%3D%22width%3A%20100.0%25%3B%20height%3A%20100.0%25%3B%22%3EMatmut%20Atlantique%3C/div%3E%60%29%5B0%5D%3B%0A%20%20%20%20%20%20%20%20%20%20%20%20popup_4a09aab9b7cf4e99b7276d2237b8d924.setContent%28html_c2cc19960cd24596892e3a895f9a11b2%29%3B%0A%20%20%20%20%20%20%20%20%0A%0A%20%20%20%20%20%20%20%20marker_e8c4c91edb4c4f8da40d597379cfe7e6.bindPopup%28popup_4a09aab9b7cf4e99b7276d2237b8d924%29%0A%20%20%20%20%20%20%20%20%3B%0A%0A%20%20%20%20%20%20%20%20%0A%20%20%20%20%0A%20%20%20%20%0A%20%20%20%20%20%20%20%20%20%20%20%20var%20marker_baee406e513349b3be1d3b6e54a466a0%20%3D%20L.marker%28%0A%20%20%20%20%20%20%20%20%20%20%20%20%20%20%20%20%5B43.583333333333336%2C%201.4341666666666666%5D%2C%0A%20%20%20%20%20%20%20%20%20%20%20%20%20%20%20%20%7B%7D%0A%20%20%20%20%20%20%20%20%20%20%20%20%29.addTo%28map_ee4100b0ab254cdaa184e25592c48c11%29%3B%0A%20%20%20%20%20%20%20%20%0A%20%20%20%20%0A%20%20%20%20%20%20%20%20var%20popup_2211190de088471da82730e3346e711e%20%3D%20L.popup%28%7B%22maxWidth%22%3A%20%22100%25%22%7D%29%3B%0A%0A%20%20%20%20%20%20%20%20%0A%20%20%20%20%20%20%20%20%20%20%20%20var%20html_20f6dd299a954ad3b5f5ef3af850c3f2%20%3D%20%24%28%60%3Cdiv%20id%3D%22html_20f6dd299a954ad3b5f5ef3af850c3f2%22%20style%3D%22width%3A%20100.0%25%3B%20height%3A%20100.0%25%3B%22%3EStadium%20de%20Toulouse%3C/div%3E%60%29%5B0%5D%3B%0A%20%20%20%20%20%20%20%20%20%20%20%20popup_2211190de088471da82730e3346e711e.setContent%28html_20f6dd299a954ad3b5f5ef3af850c3f2%29%3B%0A%20%20%20%20%20%20%20%20%0A%0A%20%20%20%20%20%20%20%20marker_baee406e513349b3be1d3b6e54a466a0.bindPopup%28popup_2211190de088471da82730e3346e711e%29%0A%20%20%20%20%20%20%20%20%3B%0A%0A%20%20%20%20%20%20%20%20%0A%20%20%20%20%0A%20%20%20%20%0A%20%20%20%20%20%20%20%20%20%20%20%20var%20marker_f95c2d966542424291b5efec492a9912%20%3D%20L.marker%28%0A%20%20%20%20%20%20%20%20%20%20%20%20%20%20%20%20%5B49.89388888888889%2C%202.263611111111111%5D%2C%0A%20%20%20%20%20%20%20%20%20%20%20%20%20%20%20%20%7B%7D%0A%20%20%20%20%20%20%20%20%20%20%20%20%29.addTo%28map_ee4100b0ab254cdaa184e25592c48c11%29%3B%0A%20%20%20%20%20%20%20%20%0A%20%20%20%20%0A%20%20%20%20%20%20%20%20var%20popup_4e9c71a548564d0584f57d853971aa1f%20%3D%20L.popup%28%7B%22maxWidth%22%3A%20%22100%25%22%7D%29%3B%0A%0A%20%20%20%20%20%20%20%20%0A%20%20%20%20%20%20%20%20%20%20%20%20var%20html_2d43cd3b2d7547cb8aaf6681c7242345%20%3D%20%24%28%60%3Cdiv%20id%3D%22html_2d43cd3b2d7547cb8aaf6681c7242345%22%20style%3D%22width%3A%20100.0%25%3B%20height%3A%20100.0%25%3B%22%3EStade%20de%20la%20Licorne%3C/div%3E%60%29%5B0%5D%3B%0A%20%20%20%20%20%20%20%20%20%20%20%20popup_4e9c71a548564d0584f57d853971aa1f.setContent%28html_2d43cd3b2d7547cb8aaf6681c7242345%29%3B%0A%20%20%20%20%20%20%20%20%0A%0A%20%20%20%20%20%20%20%20marker_f95c2d966542424291b5efec492a9912.bindPopup%28popup_4e9c71a548564d0584f57d853971aa1f%29%0A%20%20%20%20%20%20%20%20%3B%0A%0A%20%20%20%20%20%20%20%20%0A%20%20%20%20%0A%20%20%20%20%0A%20%20%20%20%20%20%20%20%20%20%20%20var%20marker_d126d5dca2ab412ab80a9d21796f4994%20%3D%20L.marker%28%0A%20%20%20%20%20%20%20%20%20%20%20%20%20%20%20%20%5B43.7275%2C%207.415555555555556%5D%2C%0A%20%20%20%20%20%20%20%20%20%20%20%20%20%20%20%20%7B%7D%0A%20%20%20%20%20%20%20%20%20%20%20%20%29.addTo%28map_ee4100b0ab254cdaa184e25592c48c11%29%3B%0A%20%20%20%20%20%20%20%20%0A%20%20%20%20%0A%20%20%20%20%20%20%20%20var%20popup_c11bc059d4214e57982b07f83ce71680%20%3D%20L.popup%28%7B%22maxWidth%22%3A%20%22100%25%22%7D%29%3B%0A%0A%20%20%20%20%20%20%20%20%0A%20%20%20%20%20%20%20%20%20%20%20%20var%20html_446323a4b95f4e9cb32838d8e88ac086%20%3D%20%24%28%60%3Cdiv%20id%3D%22html_446323a4b95f4e9cb32838d8e88ac086%22%20style%3D%22width%3A%20100.0%25%3B%20height%3A%20100.0%25%3B%22%3EStade%20Louis-II%3C/div%3E%60%29%5B0%5D%3B%0A%20%20%20%20%20%20%20%20%20%20%20%20popup_c11bc059d4214e57982b07f83ce71680.setContent%28html_446323a4b95f4e9cb32838d8e88ac086%29%3B%0A%20%20%20%20%20%20%20%20%0A%0A%20%20%20%20%20%20%20%20marker_d126d5dca2ab412ab80a9d21796f4994.bindPopup%28popup_c11bc059d4214e57982b07f83ce71680%29%0A%20%20%20%20%20%20%20%20%3B%0A%0A%20%20%20%20%20%20%20%20%0A%20%20%20%20%0A%20%20%20%20%0A%20%20%20%20%20%20%20%20%20%20%20%20var%20marker_7f8473a3de7e450784916710c36dad4d%20%3D%20L.marker%28%0A%20%20%20%20%20%20%20%20%20%20%20%20%20%20%20%20%5B47.324444444444445%2C%205.068333333333333%5D%2C%0A%20%20%20%20%20%20%20%20%20%20%20%20%20%20%20%20%7B%7D%0A%20%20%20%20%20%20%20%20%20%20%20%20%29.addTo%28map_ee4100b0ab254cdaa184e25592c48c11%29%3B%0A%20%20%20%20%20%20%20%20%0A%20%20%20%20%0A%20%20%20%20%20%20%20%20var%20popup_4e59c9cebe6645e7ab5993e1e9c88799%20%3D%20L.popup%28%7B%22maxWidth%22%3A%20%22100%25%22%7D%29%3B%0A%0A%20%20%20%20%20%20%20%20%0A%20%20%20%20%20%20%20%20%20%20%20%20var%20html_55426d9e57f54ebd806c3f4665917ccb%20%3D%20%24%28%60%3Cdiv%20id%3D%22html_55426d9e57f54ebd806c3f4665917ccb%22%20style%3D%22width%3A%20100.0%25%3B%20height%3A%20100.0%25%3B%22%3EStade%20Gaston-G%C3%A9rard%3C/div%3E%60%29%5B0%5D%3B%0A%20%20%20%20%20%20%20%20%20%20%20%20popup_4e59c9cebe6645e7ab5993e1e9c88799.setContent%28html_55426d9e57f54ebd806c3f4665917ccb%29%3B%0A%20%20%20%20%20%20%20%20%0A%0A%20%20%20%20%20%20%20%20marker_7f8473a3de7e450784916710c36dad4d.bindPopup%28popup_4e59c9cebe6645e7ab5993e1e9c88799%29%0A%20%20%20%20%20%20%20%20%3B%0A%0A%20%20%20%20%20%20%20%20%0A%20%20%20%20%0A%20%20%20%20%0A%20%20%20%20%20%20%20%20%20%20%20%20var%20marker_ad491083bcf547f6b4c67ce052926669%20%3D%20L.marker%28%0A%20%20%20%20%20%20%20%20%20%20%20%20%20%20%20%20%5B48.695277777777775%2C%206.210555555555556%5D%2C%0A%20%20%20%20%20%20%20%20%20%20%20%20%20%20%20%20%7B%7D%0A%20%20%20%20%20%20%20%20%20%20%20%20%29.addTo%28map_ee4100b0ab254cdaa184e25592c48c11%29%3B%0A%20%20%20%20%20%20%20%20%0A%20%20%20%20%0A%20%20%20%20%20%20%20%20var%20popup_bb60cc5022094620bda240e0c6c5dd3b%20%3D%20L.popup%28%7B%22maxWidth%22%3A%20%22100%25%22%7D%29%3B%0A%0A%20%20%20%20%20%20%20%20%0A%20%20%20%20%20%20%20%20%20%20%20%20var%20html_c2462aed08b844f2a20e36e47bceefc1%20%3D%20%24%28%60%3Cdiv%20id%3D%22html_c2462aed08b844f2a20e36e47bceefc1%22%20style%3D%22width%3A%20100.0%25%3B%20height%3A%20100.0%25%3B%22%3EStade%20Marcel-Picot%3C/div%3E%60%29%5B0%5D%3B%0A%20%20%20%20%20%20%20%20%20%20%20%20popup_bb60cc5022094620bda240e0c6c5dd3b.setContent%28html_c2462aed08b844f2a20e36e47bceefc1%29%3B%0A%20%20%20%20%20%20%20%20%0A%0A%20%20%20%20%20%20%20%20marker_ad491083bcf547f6b4c67ce052926669.bindPopup%28popup_bb60cc5022094620bda240e0c6c5dd3b%29%0A%20%20%20%20%20%20%20%20%3B%0A%0A%20%20%20%20%20%20%20%20%0A%20%20%20%20%0A%20%20%20%20%0A%20%20%20%20%20%20%20%20%20%20%20%20var%20marker_94d39ebba8fb40569e25b2d9d80370d4%20%3D%20L.marker%28%0A%20%20%20%20%20%20%20%20%20%20%20%20%20%20%20%20%5B49.49888888888889%2C%200.16972222222222222%5D%2C%0A%20%20%20%20%20%20%20%20%20%20%20%20%20%20%20%20%7B%7D%0A%20%20%20%20%20%20%20%20%20%20%20%20%29.addTo%28map_ee4100b0ab254cdaa184e25592c48c11%29%3B%0A%20%20%20%20%20%20%20%20%0A%20%20%20%20%0A%20%20%20%20%20%20%20%20var%20popup_cfdfa7a8c28843d885244faf3a88b549%20%3D%20L.popup%28%7B%22maxWidth%22%3A%20%22100%25%22%7D%29%3B%0A%0A%20%20%20%20%20%20%20%20%0A%20%20%20%20%20%20%20%20%20%20%20%20var%20html_34d0b433bccb4a0fad1fbdc29bad1b46%20%3D%20%24%28%60%3Cdiv%20id%3D%22html_34d0b433bccb4a0fad1fbdc29bad1b46%22%20style%3D%22width%3A%20100.0%25%3B%20height%3A%20100.0%25%3B%22%3EStade%20Oc%C3%A9ane%3C/div%3E%60%29%5B0%5D%3B%0A%20%20%20%20%20%20%20%20%20%20%20%20popup_cfdfa7a8c28843d885244faf3a88b549.setContent%28html_34d0b433bccb4a0fad1fbdc29bad1b46%29%3B%0A%20%20%20%20%20%20%20%20%0A%0A%20%20%20%20%20%20%20%20marker_94d39ebba8fb40569e25b2d9d80370d4.bindPopup%28popup_cfdfa7a8c28843d885244faf3a88b549%29%0A%20%20%20%20%20%20%20%20%3B%0A%0A%20%20%20%20%20%20%20%20%0A%20%20%20%20%0A%20%20%20%20%0A%20%20%20%20%20%20%20%20%20%20%20%20var%20marker_74c8cdb033ca4bca94b71776c1a15221%20%3D%20L.marker%28%0A%20%20%20%20%20%20%20%20%20%20%20%20%20%20%20%20%5B49.17944444444444%2C%20-0.39666666666666667%5D%2C%0A%20%20%20%20%20%20%20%20%20%20%20%20%20%20%20%20%7B%7D%0A%20%20%20%20%20%20%20%20%20%20%20%20%29.addTo%28map_ee4100b0ab254cdaa184e25592c48c11%29%3B%0A%20%20%20%20%20%20%20%20%0A%20%20%20%20%0A%20%20%20%20%20%20%20%20var%20popup_bc15f2a27a58477e8403e0b05dcef9b4%20%3D%20L.popup%28%7B%22maxWidth%22%3A%20%22100%25%22%7D%29%3B%0A%0A%20%20%20%20%20%20%20%20%0A%20%20%20%20%20%20%20%20%20%20%20%20var%20html_20df723b142f49a1bbd2399289073d4c%20%3D%20%24%28%60%3Cdiv%20id%3D%22html_20df723b142f49a1bbd2399289073d4c%22%20style%3D%22width%3A%20100.0%25%3B%20height%3A%20100.0%25%3B%22%3EStade%20Michel-d%27Ornano%3C/div%3E%60%29%5B0%5D%3B%0A%20%20%20%20%20%20%20%20%20%20%20%20popup_bc15f2a27a58477e8403e0b05dcef9b4.setContent%28html_20df723b142f49a1bbd2399289073d4c%29%3B%0A%20%20%20%20%20%20%20%20%0A%0A%20%20%20%20%20%20%20%20marker_74c8cdb033ca4bca94b71776c1a15221.bindPopup%28popup_bc15f2a27a58477e8403e0b05dcef9b4%29%0A%20%20%20%20%20%20%20%20%3B%0A%0A%20%20%20%20%20%20%20%20%0A%20%20%20%20%0A%20%20%20%20%0A%20%20%20%20%20%20%20%20%20%20%20%20var%20marker_0ec3f12c67c44c32ab6f6822a2508e8f%20%3D%20L.marker%28%0A%20%20%20%20%20%20%20%20%20%20%20%20%20%20%20%20%5B45.81583333333333%2C%203.1216666666666666%5D%2C%0A%20%20%20%20%20%20%20%20%20%20%20%20%20%20%20%20%7B%7D%0A%20%20%20%20%20%20%20%20%20%20%20%20%29.addTo%28map_ee4100b0ab254cdaa184e25592c48c11%29%3B%0A%20%20%20%20%20%20%20%20%0A%20%20%20%20%0A%20%20%20%20%20%20%20%20var%20popup_9d0aa7dba5ab4bf6b8d809d99cd09650%20%3D%20L.popup%28%7B%22maxWidth%22%3A%20%22100%25%22%7D%29%3B%0A%0A%20%20%20%20%20%20%20%20%0A%20%20%20%20%20%20%20%20%20%20%20%20var%20html_92b0269b0ac74ee1be37a20bdb2bb258%20%3D%20%24%28%60%3Cdiv%20id%3D%22html_92b0269b0ac74ee1be37a20bdb2bb258%22%20style%3D%22width%3A%20100.0%25%3B%20height%3A%20100.0%25%3B%22%3EStade%20Gabriel-Montpied%3C/div%3E%60%29%5B0%5D%3B%0A%20%20%20%20%20%20%20%20%20%20%20%20popup_9d0aa7dba5ab4bf6b8d809d99cd09650.setContent%28html_92b0269b0ac74ee1be37a20bdb2bb258%29%3B%0A%20%20%20%20%20%20%20%20%0A%0A%20%20%20%20%20%20%20%20marker_0ec3f12c67c44c32ab6f6822a2508e8f.bindPopup%28popup_9d0aa7dba5ab4bf6b8d809d99cd09650%29%0A%20%20%20%20%20%20%20%20%3B%0A%0A%20%20%20%20%20%20%20%20%0A%20%20%20%20%0A%20%20%20%20%0A%20%20%20%20%20%20%20%20%20%20%20%20var%20marker_1c21e09fd522477e8cd3b4d529d7fa12%20%3D%20L.marker%28%0A%20%20%20%20%20%20%20%20%20%20%20%20%20%20%20%20%5B48.566111111111105%2C%20-3.1644444444444444%5D%2C%0A%20%20%20%20%20%20%20%20%20%20%20%20%20%20%20%20%7B%7D%0A%20%20%20%20%20%20%20%20%20%20%20%20%29.addTo%28map_ee4100b0ab254cdaa184e25592c48c11%29%3B%0A%20%20%20%20%20%20%20%20%0A%20%20%20%20%0A%20%20%20%20%20%20%20%20var%20popup_f3a69d556e234613a02c6c5b89e162c1%20%3D%20L.popup%28%7B%22maxWidth%22%3A%20%22100%25%22%7D%29%3B%0A%0A%20%20%20%20%20%20%20%20%0A%20%20%20%20%20%20%20%20%20%20%20%20var%20html_f7eac2abfb6b492e9af0e7ff1b38389f%20%3D%20%24%28%60%3Cdiv%20id%3D%22html_f7eac2abfb6b492e9af0e7ff1b38389f%22%20style%3D%22width%3A%20100.0%25%3B%20height%3A%20100.0%25%3B%22%3EStade%20de%20Roudourou%3C/div%3E%60%29%5B0%5D%3B%0A%20%20%20%20%20%20%20%20%20%20%20%20popup_f3a69d556e234613a02c6c5b89e162c1.setContent%28html_f7eac2abfb6b492e9af0e7ff1b38389f%29%3B%0A%20%20%20%20%20%20%20%20%0A%0A%20%20%20%20%20%20%20%20marker_1c21e09fd522477e8cd3b4d529d7fa12.bindPopup%28popup_f3a69d556e234613a02c6c5b89e162c1%29%0A%20%20%20%20%20%20%20%20%3B%0A%0A%20%20%20%20%20%20%20%20%0A%20%20%20%20%0A%20%20%20%20%0A%20%20%20%20%20%20%20%20%20%20%20%20var%20marker_84697e6db4ee4460879fce92c588beff%20%3D%20L.marker%28%0A%20%20%20%20%20%20%20%20%20%20%20%20%20%20%20%20%5B47.74888888888889%2C%20-3.3691666666666666%5D%2C%0A%20%20%20%20%20%20%20%20%20%20%20%20%20%20%20%20%7B%7D%0A%20%20%20%20%20%20%20%20%20%20%20%20%29.addTo%28map_ee4100b0ab254cdaa184e25592c48c11%29%3B%0A%20%20%20%20%20%20%20%20%0A%20%20%20%20%0A%20%20%20%20%20%20%20%20var%20popup_1ebaf15f5068491b8ffcb50cc3be6b05%20%3D%20L.popup%28%7B%22maxWidth%22%3A%20%22100%25%22%7D%29%3B%0A%0A%20%20%20%20%20%20%20%20%0A%20%20%20%20%20%20%20%20%20%20%20%20var%20html_39dac45e56d5410992ba3336014f2d55%20%3D%20%24%28%60%3Cdiv%20id%3D%22html_39dac45e56d5410992ba3336014f2d55%22%20style%3D%22width%3A%20100.0%25%3B%20height%3A%20100.0%25%3B%22%3EStade%20du%20Moustoir%3C/div%3E%60%29%5B0%5D%3B%0A%20%20%20%20%20%20%20%20%20%20%20%20popup_1ebaf15f5068491b8ffcb50cc3be6b05.setContent%28html_39dac45e56d5410992ba3336014f2d55%29%3B%0A%20%20%20%20%20%20%20%20%0A%0A%20%20%20%20%20%20%20%20marker_84697e6db4ee4460879fce92c588beff.bindPopup%28popup_1ebaf15f5068491b8ffcb50cc3be6b05%29%0A%20%20%20%20%20%20%20%20%3B%0A%0A%20%20%20%20%20%20%20%20%0A%20%20%20%20%0A%20%20%20%20%0A%20%20%20%20%20%20%20%20%20%20%20%20var%20marker_101d2deda2304c419cc53530f7aafc52%20%3D%20L.marker%28%0A%20%20%20%20%20%20%20%20%20%20%20%20%20%20%20%20%5B48.81861111111112%2C%202.346388888888889%5D%2C%0A%20%20%20%20%20%20%20%20%20%20%20%20%20%20%20%20%7B%7D%0A%20%20%20%20%20%20%20%20%20%20%20%20%29.addTo%28map_ee4100b0ab254cdaa184e25592c48c11%29%3B%0A%20%20%20%20%20%20%20%20%0A%20%20%20%20%0A%20%20%20%20%20%20%20%20var%20popup_e56a6485e0a7475c87bec064f266027b%20%3D%20L.popup%28%7B%22maxWidth%22%3A%20%22100%25%22%7D%29%3B%0A%0A%20%20%20%20%20%20%20%20%0A%20%20%20%20%20%20%20%20%20%20%20%20var%20html_744e0c7cfe7f40669c61952350ba055d%20%3D%20%24%28%60%3Cdiv%20id%3D%22html_744e0c7cfe7f40669c61952350ba055d%22%20style%3D%22width%3A%20100.0%25%3B%20height%3A%20100.0%25%3B%22%3EStade%20Charl%C3%A9ty%3C/div%3E%60%29%5B0%5D%3B%0A%20%20%20%20%20%20%20%20%20%20%20%20popup_e56a6485e0a7475c87bec064f266027b.setContent%28html_744e0c7cfe7f40669c61952350ba055d%29%3B%0A%20%20%20%20%20%20%20%20%0A%0A%20%20%20%20%20%20%20%20marker_101d2deda2304c419cc53530f7aafc52.bindPopup%28popup_e56a6485e0a7475c87bec064f266027b%29%0A%20%20%20%20%20%20%20%20%3B%0A%0A%20%20%20%20%20%20%20%20%0A%20%20%20%20%0A%20%20%20%20%0A%20%20%20%20%20%20%20%20%20%20%20%20var%20marker_c071db946f0e4f52a858bdca325b387e%20%3D%20L.marker%28%0A%20%20%20%20%20%20%20%20%20%20%20%20%20%20%20%20%5B46.801944444444445%2C%201.7216666666666667%5D%2C%0A%20%20%20%20%20%20%20%20%20%20%20%20%20%20%20%20%7B%7D%0A%20%20%20%20%20%20%20%20%20%20%20%20%29.addTo%28map_ee4100b0ab254cdaa184e25592c48c11%29%3B%0A%20%20%20%20%20%20%20%20%0A%20%20%20%20%0A%20%20%20%20%20%20%20%20var%20popup_d9ebff08b2124feaa94f13efd5ce7e8c%20%3D%20L.popup%28%7B%22maxWidth%22%3A%20%22100%25%22%7D%29%3B%0A%0A%20%20%20%20%20%20%20%20%0A%20%20%20%20%20%20%20%20%20%20%20%20var%20html_5697d5e41386413eaf7e5ae3db204fc2%20%3D%20%24%28%60%3Cdiv%20id%3D%22html_5697d5e41386413eaf7e5ae3db204fc2%22%20style%3D%22width%3A%20100.0%25%3B%20height%3A%20100.0%25%3B%22%3EStade%20Gaston-Petit%3C/div%3E%60%29%5B0%5D%3B%0A%20%20%20%20%20%20%20%20%20%20%20%20popup_d9ebff08b2124feaa94f13efd5ce7e8c.setContent%28html_5697d5e41386413eaf7e5ae3db204fc2%29%3B%0A%20%20%20%20%20%20%20%20%0A%0A%20%20%20%20%20%20%20%20marker_c071db946f0e4f52a858bdca325b387e.bindPopup%28popup_d9ebff08b2124feaa94f13efd5ce7e8c%29%0A%20%20%20%20%20%20%20%20%3B%0A%0A%20%20%20%20%20%20%20%20%0A%20%20%20%20%0A%20%20%20%20%0A%20%20%20%20%20%20%20%20%20%20%20%20var%20marker_00fb6ae5ed7c4a3c80c9054f154929d3%20%3D%20L.marker%28%0A%20%20%20%20%20%20%20%20%20%20%20%20%20%20%20%20%5B47.78666666666666%2C%203.588611111111111%5D%2C%0A%20%20%20%20%20%20%20%20%20%20%20%20%20%20%20%20%7B%7D%0A%20%20%20%20%20%20%20%20%20%20%20%20%29.addTo%28map_ee4100b0ab254cdaa184e25592c48c11%29%3B%0A%20%20%20%20%20%20%20%20%0A%20%20%20%20%0A%20%20%20%20%20%20%20%20var%20popup_27915ea37df44f3c9580f2c12ed2c352%20%3D%20L.popup%28%7B%22maxWidth%22%3A%20%22100%25%22%7D%29%3B%0A%0A%20%20%20%20%20%20%20%20%0A%20%20%20%20%20%20%20%20%20%20%20%20var%20html_eafb880b6e934bb8be90983bdac32184%20%3D%20%24%28%60%3Cdiv%20id%3D%22html_eafb880b6e934bb8be90983bdac32184%22%20style%3D%22width%3A%20100.0%25%3B%20height%3A%20100.0%25%3B%22%3EStade%20de%20l%27Abb%C3%A9-Deschamps%3C/div%3E%60%29%5B0%5D%3B%0A%20%20%20%20%20%20%20%20%20%20%20%20popup_27915ea37df44f3c9580f2c12ed2c352.setContent%28html_eafb880b6e934bb8be90983bdac32184%29%3B%0A%20%20%20%20%20%20%20%20%0A%0A%20%20%20%20%20%20%20%20marker_00fb6ae5ed7c4a3c80c9054f154929d3.bindPopup%28popup_27915ea37df44f3c9580f2c12ed2c352%29%0A%20%20%20%20%20%20%20%20%3B%0A%0A%20%20%20%20%20%20%20%20%0A%20%20%20%20%0A%20%20%20%20%0A%20%20%20%20%20%20%20%20%20%20%20%20var%20marker_8cf589f4f7244701acf6976aa25a8eea%20%3D%20L.marker%28%0A%20%20%20%20%20%20%20%20%20%20%20%20%20%20%20%20%5B47.84027777777778%2C%201.9411111111111112%5D%2C%0A%20%20%20%20%20%20%20%20%20%20%20%20%20%20%20%20%7B%7D%0A%20%20%20%20%20%20%20%20%20%20%20%20%29.addTo%28map_ee4100b0ab254cdaa184e25592c48c11%29%3B%0A%20%20%20%20%20%20%20%20%0A%20%20%20%20%0A%20%20%20%20%20%20%20%20var%20popup_13fe027d8fd54a34a88b68261a3ed15a%20%3D%20L.popup%28%7B%22maxWidth%22%3A%20%22100%25%22%7D%29%3B%0A%0A%20%20%20%20%20%20%20%20%0A%20%20%20%20%20%20%20%20%20%20%20%20var%20html_9b8df38cda17431b832f0b8b57027068%20%3D%20%24%28%60%3Cdiv%20id%3D%22html_9b8df38cda17431b832f0b8b57027068%22%20style%3D%22width%3A%20100.0%25%3B%20height%3A%20100.0%25%3B%22%3EStade%20de%20la%20Source%3C/div%3E%60%29%5B0%5D%3B%0A%20%20%20%20%20%20%20%20%20%20%20%20popup_13fe027d8fd54a34a88b68261a3ed15a.setContent%28html_9b8df38cda17431b832f0b8b57027068%29%3B%0A%20%20%20%20%20%20%20%20%0A%0A%20%20%20%20%20%20%20%20marker_8cf589f4f7244701acf6976aa25a8eea.bindPopup%28popup_13fe027d8fd54a34a88b68261a3ed15a%29%0A%20%20%20%20%20%20%20%20%3B%0A%0A%20%20%20%20%20%20%20%20%0A%20%20%20%20%0A%20%20%20%20%0A%20%20%20%20%20%20%20%20%20%20%20%20var%20marker_984bc7fdbc3e40bb9ad7495c2ccb015f%20%3D%20L.marker%28%0A%20%20%20%20%20%20%20%20%20%20%20%20%20%20%20%20%5B50.34861111111111%2C%203.5322222222222224%5D%2C%0A%20%20%20%20%20%20%20%20%20%20%20%20%20%20%20%20%7B%7D%0A%20%20%20%20%20%20%20%20%20%20%20%20%29.addTo%28map_ee4100b0ab254cdaa184e25592c48c11%29%3B%0A%20%20%20%20%20%20%20%20%0A%20%20%20%20%0A%20%20%20%20%20%20%20%20var%20popup_c8ce20236099419898dc25637bbed610%20%3D%20L.popup%28%7B%22maxWidth%22%3A%20%22100%25%22%7D%29%3B%0A%0A%20%20%20%20%20%20%20%20%0A%20%20%20%20%20%20%20%20%20%20%20%20var%20html_69ebdc4468c54742aae589b390b523d1%20%3D%20%24%28%60%3Cdiv%20id%3D%22html_69ebdc4468c54742aae589b390b523d1%22%20style%3D%22width%3A%20100.0%25%3B%20height%3A%20100.0%25%3B%22%3EStade%20du%20Hainaut%3C/div%3E%60%29%5B0%5D%3B%0A%20%20%20%20%20%20%20%20%20%20%20%20popup_c8ce20236099419898dc25637bbed610.setContent%28html_69ebdc4468c54742aae589b390b523d1%29%3B%0A%20%20%20%20%20%20%20%20%0A%0A%20%20%20%20%20%20%20%20marker_984bc7fdbc3e40bb9ad7495c2ccb015f.bindPopup%28popup_c8ce20236099419898dc25637bbed610%29%0A%20%20%20%20%20%20%20%20%3B%0A%0A%20%20%20%20%20%20%20%20%0A%20%20%20%20%0A%20%20%20%20%0A%20%20%20%20%20%20%20%20%20%20%20%20var%20marker_aec7fdee077542b8a7729bb8156c9d43%20%3D%20L.marker%28%0A%20%20%20%20%20%20%20%20%20%20%20%20%20%20%20%20%5B46.316944444444445%2C%20-0.4891666666666667%5D%2C%0A%20%20%20%20%20%20%20%20%20%20%20%20%20%20%20%20%7B%7D%0A%20%20%20%20%20%20%20%20%20%20%20%20%29.addTo%28map_ee4100b0ab254cdaa184e25592c48c11%29%3B%0A%20%20%20%20%20%20%20%20%0A%20%20%20%20%0A%20%20%20%20%20%20%20%20var%20popup_68303b0006bc46aa980b5799772e191b%20%3D%20L.popup%28%7B%22maxWidth%22%3A%20%22100%25%22%7D%29%3B%0A%0A%20%20%20%20%20%20%20%20%0A%20%20%20%20%20%20%20%20%20%20%20%20var%20html_c04b88c09ffe49a399b3b4e0a01e55eb%20%3D%20%24%28%60%3Cdiv%20id%3D%22html_c04b88c09ffe49a399b3b4e0a01e55eb%22%20style%3D%22width%3A%20100.0%25%3B%20height%3A%20100.0%25%3B%22%3EStade%20Ren%C3%A9-Gaillard%3C/div%3E%60%29%5B0%5D%3B%0A%20%20%20%20%20%20%20%20%20%20%20%20popup_68303b0006bc46aa980b5799772e191b.setContent%28html_c04b88c09ffe49a399b3b4e0a01e55eb%29%3B%0A%20%20%20%20%20%20%20%20%0A%0A%20%20%20%20%20%20%20%20marker_aec7fdee077542b8a7729bb8156c9d43.bindPopup%28popup_68303b0006bc46aa980b5799772e191b%29%0A%20%20%20%20%20%20%20%20%3B%0A%0A%20%20%20%20%20%20%20%20%0A%20%20%20%20%0A%20%20%20%20%0A%20%20%20%20%20%20%20%20%20%20%20%20var%20marker_6a3334fcd3ff439f9ea4a608bea82c59%20%3D%20L.marker%28%0A%20%20%20%20%20%20%20%20%20%20%20%20%20%20%20%20%5B45.1875%2C%205.74%5D%2C%0A%20%20%20%20%20%20%20%20%20%20%20%20%20%20%20%20%7B%7D%0A%20%20%20%20%20%20%20%20%20%20%20%20%29.addTo%28map_ee4100b0ab254cdaa184e25592c48c11%29%3B%0A%20%20%20%20%20%20%20%20%0A%20%20%20%20%0A%20%20%20%20%20%20%20%20var%20popup_0616ce715e094248ace805e4fae57d2c%20%3D%20L.popup%28%7B%22maxWidth%22%3A%20%22100%25%22%7D%29%3B%0A%0A%20%20%20%20%20%20%20%20%0A%20%20%20%20%20%20%20%20%20%20%20%20var%20html_506eae792f3e48bf85295ad0a2e7e455%20%3D%20%24%28%60%3Cdiv%20id%3D%22html_506eae792f3e48bf85295ad0a2e7e455%22%20style%3D%22width%3A%20100.0%25%3B%20height%3A%20100.0%25%3B%22%3EStade%20des%20Alpes%3C/div%3E%60%29%5B0%5D%3B%0A%20%20%20%20%20%20%20%20%20%20%20%20popup_0616ce715e094248ace805e4fae57d2c.setContent%28html_506eae792f3e48bf85295ad0a2e7e455%29%3B%0A%20%20%20%20%20%20%20%20%0A%0A%20%20%20%20%20%20%20%20marker_6a3334fcd3ff439f9ea4a608bea82c59.bindPopup%28popup_0616ce715e094248ace805e4fae57d2c%29%0A%20%20%20%20%20%20%20%20%3B%0A%0A%20%20%20%20%20%20%20%20%0A%20%20%20%20%0A%20%20%20%20%0A%20%20%20%20%20%20%20%20%20%20%20%20var%20marker_0e5d931001974bdfa459d17dab9f81c4%20%3D%20L.marker%28%0A%20%20%20%20%20%20%20%20%20%20%20%20%20%20%20%20%5B47.51222222222222%2C%206.811388888888889%5D%2C%0A%20%20%20%20%20%20%20%20%20%20%20%20%20%20%20%20%7B%7D%0A%20%20%20%20%20%20%20%20%20%20%20%20%29.addTo%28map_ee4100b0ab254cdaa184e25592c48c11%29%3B%0A%20%20%20%20%20%20%20%20%0A%20%20%20%20%0A%20%20%20%20%20%20%20%20var%20popup_6e96dc2485184acf998c1efb22e43fab%20%3D%20L.popup%28%7B%22maxWidth%22%3A%20%22100%25%22%7D%29%3B%0A%0A%20%20%20%20%20%20%20%20%0A%20%20%20%20%20%20%20%20%20%20%20%20var%20html_170498dfd21e4e19a908b4a93e32b211%20%3D%20%24%28%60%3Cdiv%20id%3D%22html_170498dfd21e4e19a908b4a93e32b211%22%20style%3D%22width%3A%20100.0%25%3B%20height%3A%20100.0%25%3B%22%3EStade%20Auguste-Bonal%3C/div%3E%60%29%5B0%5D%3B%0A%20%20%20%20%20%20%20%20%20%20%20%20popup_6e96dc2485184acf998c1efb22e43fab.setContent%28html_170498dfd21e4e19a908b4a93e32b211%29%3B%0A%20%20%20%20%20%20%20%20%0A%0A%20%20%20%20%20%20%20%20marker_0e5d931001974bdfa459d17dab9f81c4.bindPopup%28popup_6e96dc2485184acf998c1efb22e43fab%29%0A%20%20%20%20%20%20%20%20%3B%0A%0A%20%20%20%20%20%20%20%20%0A%20%20%20%20%0A%20%20%20%20%0A%20%20%20%20%20%20%20%20%20%20%20%20var%20marker_c036e748c9834fa9b83fc611a1244395%20%3D%20L.marker%28%0A%20%20%20%20%20%20%20%20%20%20%20%20%20%20%20%20%5B44.35166666666667%2C%202.563611111111111%5D%2C%0A%20%20%20%20%20%20%20%20%20%20%20%20%20%20%20%20%7B%7D%0A%20%20%20%20%20%20%20%20%20%20%20%20%29.addTo%28map_ee4100b0ab254cdaa184e25592c48c11%29%3B%0A%20%20%20%20%20%20%20%20%0A%20%20%20%20%0A%20%20%20%20%20%20%20%20var%20popup_3914b7b5e8e948debc682fabd85a4467%20%3D%20L.popup%28%7B%22maxWidth%22%3A%20%22100%25%22%7D%29%3B%0A%0A%20%20%20%20%20%20%20%20%0A%20%20%20%20%20%20%20%20%20%20%20%20var%20html_4c97a7d175a541299521923e40c28c55%20%3D%20%24%28%60%3Cdiv%20id%3D%22html_4c97a7d175a541299521923e40c28c55%22%20style%3D%22width%3A%20100.0%25%3B%20height%3A%20100.0%25%3B%22%3EStade%20Paul-Lignon%3C/div%3E%60%29%5B0%5D%3B%0A%20%20%20%20%20%20%20%20%20%20%20%20popup_3914b7b5e8e948debc682fabd85a4467.setContent%28html_4c97a7d175a541299521923e40c28c55%29%3B%0A%20%20%20%20%20%20%20%20%0A%0A%20%20%20%20%20%20%20%20marker_c036e748c9834fa9b83fc611a1244395.bindPopup%28popup_3914b7b5e8e948debc682fabd85a4467%29%0A%20%20%20%20%20%20%20%20%3B%0A%0A%20%20%20%20%20%20%20%20%0A%20%20%20%20%0A%20%20%20%20%0A%20%20%20%20%20%20%20%20%20%20%20%20var%20marker_c6f37ed26d7947bc93fc3cb2629a5ac7%20%3D%20L.marker%28%0A%20%20%20%20%20%20%20%20%20%20%20%20%20%20%20%20%5B49.17916666666667%2C%202.233611111111111%5D%2C%0A%20%20%20%20%20%20%20%20%20%20%20%20%20%20%20%20%7B%7D%0A%20%20%20%20%20%20%20%20%20%20%20%20%29.addTo%28map_ee4100b0ab254cdaa184e25592c48c11%29%3B%0A%20%20%20%20%20%20%20%20%0A%20%20%20%20%0A%20%20%20%20%20%20%20%20var%20popup_2aaeeb2c45d54c70b82bf2347f367d49%20%3D%20L.popup%28%7B%22maxWidth%22%3A%20%22100%25%22%7D%29%3B%0A%0A%20%20%20%20%20%20%20%20%0A%20%20%20%20%20%20%20%20%20%20%20%20var%20html_d51b617ecd7e4bf0bb7fa881110f43f5%20%3D%20%24%28%60%3Cdiv%20id%3D%22html_d51b617ecd7e4bf0bb7fa881110f43f5%22%20style%3D%22width%3A%20100.0%25%3B%20height%3A%20100.0%25%3B%22%3EStade%20Walter%20Luzi%3C/div%3E%60%29%5B0%5D%3B%0A%20%20%20%20%20%20%20%20%20%20%20%20popup_2aaeeb2c45d54c70b82bf2347f367d49.setContent%28html_d51b617ecd7e4bf0bb7fa881110f43f5%29%3B%0A%20%20%20%20%20%20%20%20%0A%0A%20%20%20%20%20%20%20%20marker_c6f37ed26d7947bc93fc3cb2629a5ac7.bindPopup%28popup_2aaeeb2c45d54c70b82bf2347f367d49%29%0A%20%20%20%20%20%20%20%20%3B%0A%0A%20%20%20%20%20%20%20%20%0A%20%20%20%20%0A%20%20%20%20%0A%20%20%20%20%20%20%20%20%20%20%20%20var%20marker_3599a68f445b4c3788fdddba095a5ba8%20%3D%20L.marker%28%0A%20%20%20%20%20%20%20%20%20%20%20%20%20%20%20%20%5B48.3075%2C%204.0986111111111105%5D%2C%0A%20%20%20%20%20%20%20%20%20%20%20%20%20%20%20%20%7B%7D%0A%20%20%20%20%20%20%20%20%20%20%20%20%29.addTo%28map_ee4100b0ab254cdaa184e25592c48c11%29%3B%0A%20%20%20%20%20%20%20%20%0A%20%20%20%20%0A%20%20%20%20%20%20%20%20var%20popup_0768f893624a49f69221169fa6279b1f%20%3D%20L.popup%28%7B%22maxWidth%22%3A%20%22100%25%22%7D%29%3B%0A%0A%20%20%20%20%20%20%20%20%0A%20%20%20%20%20%20%20%20%20%20%20%20var%20html_0c2c128c4fc546ab8e254aef8060d1ae%20%3D%20%24%28%60%3Cdiv%20id%3D%22html_0c2c128c4fc546ab8e254aef8060d1ae%22%20style%3D%22width%3A%20100.0%25%3B%20height%3A%20100.0%25%3B%22%3EStade%20de%20l%27Aube%3C/div%3E%60%29%5B0%5D%3B%0A%20%20%20%20%20%20%20%20%20%20%20%20popup_0768f893624a49f69221169fa6279b1f.setContent%28html_0c2c128c4fc546ab8e254aef8060d1ae%29%3B%0A%20%20%20%20%20%20%20%20%0A%0A%20%20%20%20%20%20%20%20marker_3599a68f445b4c3788fdddba095a5ba8.bindPopup%28popup_0768f893624a49f69221169fa6279b1f%29%0A%20%20%20%20%20%20%20%20%3B%0A%0A%20%20%20%20%20%20%20%20%0A%20%20%20%20%0A%20%20%20%20%0A%20%20%20%20%20%20%20%20%20%20%20%20var%20marker_492e8b8042c447f49cca62a19e78657b%20%3D%20L.marker%28%0A%20%20%20%20%20%20%20%20%20%20%20%20%20%20%20%20%5B50.43277777777777%2C%202.815%5D%2C%0A%20%20%20%20%20%20%20%20%20%20%20%20%20%20%20%20%7B%7D%0A%20%20%20%20%20%20%20%20%20%20%20%20%29.addTo%28map_ee4100b0ab254cdaa184e25592c48c11%29%3B%0A%20%20%20%20%20%20%20%20%0A%20%20%20%20%0A%20%20%20%20%20%20%20%20var%20popup_47a50c1bbb654857ad58b06210c7e1b1%20%3D%20L.popup%28%7B%22maxWidth%22%3A%20%22100%25%22%7D%29%3B%0A%0A%20%20%20%20%20%20%20%20%0A%20%20%20%20%20%20%20%20%20%20%20%20var%20html_eded6a5a76534ca487f8805f84fd9c98%20%3D%20%24%28%60%3Cdiv%20id%3D%22html_eded6a5a76534ca487f8805f84fd9c98%22%20style%3D%22width%3A%20100.0%25%3B%20height%3A%20100.0%25%3B%22%3EStade%20Bollaert-Delelis%3C/div%3E%60%29%5B0%5D%3B%0A%20%20%20%20%20%20%20%20%20%20%20%20popup_47a50c1bbb654857ad58b06210c7e1b1.setContent%28html_eded6a5a76534ca487f8805f84fd9c98%29%3B%0A%20%20%20%20%20%20%20%20%0A%0A%20%20%20%20%20%20%20%20marker_492e8b8042c447f49cca62a19e78657b.bindPopup%28popup_47a50c1bbb654857ad58b06210c7e1b1%29%0A%20%20%20%20%20%20%20%20%3B%0A%0A%20%20%20%20%20%20%20%20%0A%20%20%20%20%0A%20%20%20%20%0A%20%20%20%20%20%20%20%20%20%20%20%20var%20marker_fbcfd726821849d29878e025ef36db73%20%3D%20L.marker%28%0A%20%20%20%20%20%20%20%20%20%20%20%20%20%20%20%20%5B47.95888888888889%2C%200.22472222222222224%5D%2C%0A%20%20%20%20%20%20%20%20%20%20%20%20%20%20%20%20%7B%7D%0A%20%20%20%20%20%20%20%20%20%20%20%20%29.addTo%28map_ee4100b0ab254cdaa184e25592c48c11%29%3B%0A%20%20%20%20%20%20%20%20%0A%20%20%20%20%0A%20%20%20%20%20%20%20%20var%20popup_cdcd78d7ebb742de8f3a31a6d4b4e3a0%20%3D%20L.popup%28%7B%22maxWidth%22%3A%20%22100%25%22%7D%29%3B%0A%0A%20%20%20%20%20%20%20%20%0A%20%20%20%20%20%20%20%20%20%20%20%20var%20html_393f31fbdd5f4226a3de9868578bd5c4%20%3D%20%24%28%60%3Cdiv%20id%3D%22html_393f31fbdd5f4226a3de9868578bd5c4%22%20style%3D%22width%3A%20100.0%25%3B%20height%3A%20100.0%25%3B%22%3EMMArena%3C/div%3E%60%29%5B0%5D%3B%0A%20%20%20%20%20%20%20%20%20%20%20%20popup_cdcd78d7ebb742de8f3a31a6d4b4e3a0.setContent%28html_393f31fbdd5f4226a3de9868578bd5c4%29%3B%0A%20%20%20%20%20%20%20%20%0A%0A%20%20%20%20%20%20%20%20marker_fbcfd726821849d29878e025ef36db73.bindPopup%28popup_cdcd78d7ebb742de8f3a31a6d4b4e3a0%29%0A%20%20%20%20%20%20%20%20%3B%0A%0A%20%20%20%20%20%20%20%20%0A%20%20%20%20%0A%20%20%20%20%0A%20%20%20%20%20%20%20%20%20%20%20%20map_ee4100b0ab254cdaa184e25592c48c11.fitBounds%28%0A%20%20%20%20%20%20%20%20%20%20%20%20%20%20%20%20%5B%5B43.26972222222222%2C%20-4.461666666666667%5D%2C%20%5B50.61194444444445%2C%207.755%5D%5D%2C%0A%20%20%20%20%20%20%20%20%20%20%20%20%20%20%20%20%7B%7D%0A%20%20%20%20%20%20%20%20%20%20%20%20%29%3B%0A%20%20%20%20%20%20%20%20%0A%3C/script%3E onload=\"this.contentDocument.open();this.contentDocument.write(    decodeURIComponent(this.getAttribute('data-html')));this.contentDocument.close();\" allowfullscreen webkitallowfullscreen mozallowfullscreen></iframe></div></div>"
>>>>>>> master
   ]
  },
  {
   "cell_type": "markdown",
<<<<<<< HEAD
   "id": "a3990fd0",
=======
   "id": "e5ecf146",
>>>>>>> master
   "metadata": {},
   "source": [
    "# Exercice 1 : Les pokémons (version non guidée)\n",
    "\n",
    "Pour cet exercice, nous vous demandons d'obtenir différentes informations sur les pokémons à partir du site internet [pokemondb.net](http://pokemondb.net/pokedex/national). \n",
    "\n",
    "1. les informations personnelles des ``893`` pokemons sur le site internet [pokemondb.net](http://pokemondb.net/pokedex/national). Les informations que nous aimerions obtenir au final dans un DataFrame  sont celles contenues dans 4 tableaux :\n",
    "\n",
    "- Pokédex data\n",
    "- Training\n",
    "- Breeding\n",
    "- Base stats\n",
    "\n",
    "2. Nous aimerions que vous récupériez également les images de chacun des pokémons et que vous les enregistriez dans un dossier  \n",
    "\n",
    "* Petit indice : utilisez les modules request et [shutil](https://docs.python.org/3/library/shutil.html)\n",
    "* Pour cette question, il faut que vous cherchiez de vous même certains éléments, tout n'est pas présent dans le TD."
   ]
  },
  {
   "cell_type": "markdown",
<<<<<<< HEAD
   "id": "36146ef3",
=======
   "id": "f6aed988",
>>>>>>> master
   "metadata": {},
   "source": [
    "Pour la question 1, l'objectif est d'obtenir le code source d'un tableau comme\n",
    "celui qui suit\n",
    "(Pokemon [Nincada](http://pokemondb.net/pokedex/nincada).)\n",
    "\n",
    "<div class=\"grid-col span-md-6 span-lg-4\">\n",
    "<h2>Pokédex data</h2>\n",
    "<table class=\"vitals-table\">\n",
    "<tbody>\n",
    "<tr>\n",
    "<th>National №</th>\n",
    "<td><strong>290</strong></td>\n",
    "</tr>\n",
    "<tr>\n",
    "<th>Type</th>\n",
    "<td>\n",
    "<a class=\"type-icon type-bug\" href=\"/type/bug\">Bug</a> <a class=\"type-icon type-ground\" href=\"/type/ground\">Ground</a> </td>\n",
    "</tr>\n",
    "<tr>\n",
    "<th>Species</th>\n",
    "<td>Trainee Pokémon</td>\n",
    "</tr>\n",
    "<tr>\n",
    "<th>Height</th>\n",
    "<td>0.5&nbsp;m (1′08″)</td>\n",
    "</tr>\n",
    "<tr>\n",
    "<th>Weight</th>\n",
    "<td>5.5&nbsp;kg (12.1&nbsp;lbs)</td>\n",
    "</tr>\n",
    "<tr>\n",
    "<th>Abilities</th>\n",
    "<td><span class=\"text-muted\">1. <a href=\"/ability/compound-eyes\" title=\"The Pokémon's accuracy is boosted.\">Compound Eyes</a></span><br><small class=\"text-muted\"><a href=\"/ability/run-away\" title=\"Enables a sure getaway from wild Pokémon.\">Run Away</a> (hidden ability)</small><br></td>\n",
    "</tr>\n",
    "<tr>\n",
    "<th>Local №</th>\n",
    "<td>042 <small class=\"text-muted\">(Ruby/Sapphire/Emerald)</small><br>111 <small class=\"text-muted\">(X/Y — Central Kalos)</small><br>043 <small class=\"text-muted\">(Omega Ruby/Alpha Sapphire)</small><br>104 <small class=\"text-muted\">(Sword/Shield)</small><br></td>\n",
    "</tr>\n",
    "</tbody>\n",
    "</table>\n",
    "</div>"
   ]
  },
  {
   "cell_type": "markdown",
<<<<<<< HEAD
   "id": "24b96d6b",
=======
   "id": "5da54a0b",
>>>>>>> master
   "metadata": {},
   "source": [
    "<div class=\"grid-col span-md-12 span-lg-4\">\n",
    "<div class=\"grid-row\">\n",
    "<div class=\"grid-col span-md-6 span-lg-12\">\n",
    "<h2>Training</h2>\n",
    "<table class=\"vitals-table\">\n",
    "<tbody>\n",
    "<tr>\n",
    "<th>EV yield</th>\n",
    "<td class=\"text\">\n",
    "1 Defense </td>\n",
    "</tr>\n",
    "<tr>\n",
    "<th>Catch rate</th>\n",
    "<td>255 <small class=\"text-muted\">(33.3% with PokéBall, full HP)</small></td>\n",
    "</tr>\n",
    "<tr>\n",
    "<th>Base <a href=\"/glossary#def-friendship\">Friendship</a></th>\n",
    "<td>70 <small class=\"text-muted\">(normal)</small></td>\n",
    "</tr>\n",
    "<tr>\n",
    "<th>Base Exp.</th>\n",
    "<td>53</td>\n",
    "</tr>\n",
    "<tr>\n",
    "<th>Growth Rate</th>\n",
    "<td>Erratic</td>\n",
    "</tr>\n",
    "</tbody>\n",
    "</table>\n",
    "</div>\n",
    "<div class=\"grid-col span-md-6 span-lg-12\">\n",
    "<h2>Breeding</h2>\n",
    "<table class=\"vitals-table\">\n",
    "<tbody>\n",
    "<tr>\n",
    "<th>Egg Groups</th>\n",
    "<td>\n",
    "<a href=\"/egg-group/bug\">Bug</a> </td>\n",
    "</tr>\n",
    "<tr>\n",
    "<th>Gender</th>\n",
    "<td><span class=\"text-blue\">50% male</span>, <span class=\"text-pink\">50% female</span></td> </tr>\n",
    "<tr>\n",
    "<th><a href=\"/glossary#def-eggcycle\">Egg cycles</a></th>\n",
    "<td>15 <small class=\"text-muted\">(3,599–3,855 steps)</small>\n",
    "</td>\n",
    "</tr>\n",
    "</tbody>\n",
    "</table>\n",
    "</div>\n",
    "</div>\n",
    "</div>\n",
    "\n",
    "<div class=\"grid-col span-md-12 span-lg-8\">\n",
    "<div id=\"dex-stats\"></div>\n",
    "<h2>Base stats</h2>\n",
    "<div class=\"resp-scroll\">\n",
    "<table class=\"vitals-table\">\n",
    "<tbody>\n",
    "<tr>\n",
    "<th>HP</th>\n",
    "<td class=\"cell-num\">31</td>\n",
    "<td class=\"cell-barchart\">\n",
    "<div style=\"width:17.22%;\" class=\"barchart-bar barchart-rank-2 \"></div>\n",
    "</td>\n",
    "<td class=\"cell-num\">172</td>\n",
    "<td class=\"cell-num\">266</td>\n",
    "</tr>\n",
    "<tr>\n",
    "<th>Attack</th>\n",
    "<td class=\"cell-num\">45</td>\n",
    "<td class=\"cell-barchart\">\n",
    "<div style=\"width:25.00%;\" class=\"barchart-bar barchart-rank-2 \"></div>\n",
    "</td>\n",
    "<td class=\"cell-num\">85</td>\n",
    "<td class=\"cell-num\">207</td>\n",
    "</tr>\n",
    "<tr>\n",
    "<th>Defense</th>\n",
    "<td class=\"cell-num\">90</td>\n",
    "<td class=\"cell-barchart\">\n",
    "<div style=\"width:50.00%;\" class=\"barchart-bar barchart-rank-4 \"></div>\n",
    "</td>\n",
    "<td class=\"cell-num\">166</td>\n",
    "<td class=\"cell-num\">306</td>\n",
    "</tr>\n",
    "<tr>\n",
    "<th>Sp. Atk</th>\n",
    "<td class=\"cell-num\">30</td>\n",
    "<td class=\"cell-barchart\">\n",
    "<div style=\"width:16.67%;\" class=\"barchart-bar barchart-rank-2 \"></div>\n",
    "</td>\n",
    "<td class=\"cell-num\">58</td>\n",
    "<td class=\"cell-num\">174</td>\n",
    "</tr>\n",
    "<tr>\n",
    "<th>Sp. Def</th>\n",
    "<td class=\"cell-num\">30</td>\n",
    "<td class=\"cell-barchart\">\n",
    "<div style=\"width:16.67%;\" class=\"barchart-bar barchart-rank-2 \"></div>\n",
    "</td>\n",
    "<td class=\"cell-num\">58</td>\n",
    "<td class=\"cell-num\">174</td>\n",
    "</tr>\n",
    "<tr>\n",
    "<th>Speed</th>\n",
    "<td class=\"cell-num\">40</td>\n",
    "<td class=\"cell-barchart\">\n",
    "<div style=\"width:22.22%;\" class=\"barchart-bar barchart-rank-2 \"></div>\n",
    "</td>\n",
    "<td class=\"cell-num\">76</td>\n",
    "<td class=\"cell-num\">196</td>\n",
    "</tr>\n",
    "</tbody>\n",
    "<tfoot>\n",
    "<tr>\n",
    "<th>Total</th>\n",
    "<td class=\"cell-total\"><b>266</b></td>\n",
    "<th class=\"cell-barchart\"></th>\n",
    "<th>Min</th>\n",
    "<th>Max</th>\n",
    "</tr>\n",
    "</tfoot>\n",
    "</table>\n",
    "</div>\n",
    "</div>"
   ]
  },
  {
   "cell_type": "markdown",
<<<<<<< HEAD
   "id": "61b98946",
=======
   "id": "1f05e952",
>>>>>>> master
   "metadata": {},
   "source": [
    "# Exercice 1 : Les pokémons (version guidée)"
   ]
  },
  {
   "cell_type": "markdown",
<<<<<<< HEAD
   "id": "8ada9482",
=======
   "id": "8a51eb4a",
>>>>>>> master
   "metadata": {},
   "source": [
    "Pour cet exercice, nous vous demandons d'obtenir différentes informations sur les pokémons à partir du site internet [pokemondb.net](http://pokemondb.net/pokedex/national). \n",
    "\n",
    "## Etape 1\n",
    "\n",
    "Nous souhaitons tout d'abord obtenir les informations personnelles des ``893`` pokemons sur [pokemondb.net](http://pokemondb.net/pokedex/national). Les informations que nous aimerions obtenir au final pour les pokemons sont celles contenues dans 4 tableaux :\n",
    "\n",
    "- Pokédex data\n",
    "- Training\n",
    "- Breeding\n",
    "- Base stats\n",
    "\n",
    "Plus haut est disponible un exemple.\n",
    "\n",
    "Pour cela, le code devra être divisé en plusieurs étapes : \n",
    "\n",
    "1. Trouvez la page principale du site et la transformez en un objet intelligible pour votre code. Les fonctions suivantes vous seront utiles :\n",
    "- `urllib.request.Request`\n",
    "- `urllib.request.urlopen`\n",
    "- `bs4.BeautifulSoup`\n",
    "\n",
    "Pour ce site, par rapport à tout à l'heure,\n",
    "il faudra ajouter un paramètre supplémentaire à la fonction `Request`:\n",
    "\n",
    "~~~python\n",
    "urllib.request.Request( www.sitequinousintéresse.com ,headers={'User-Agent': 'Mozilla/5.0'})\n",
    "~~~\n"
   ]
  },
  {
   "cell_type": "markdown",
<<<<<<< HEAD
   "id": "764d1128",
=======
   "id": "eb6d3b2e",
>>>>>>> master
   "metadata": {},
   "source": [
    "2. Créez une fonction qui permet de récupérer la page d'un pokémon à partir de son nom.\n"
   ]
  },
  {
   "cell_type": "markdown",
<<<<<<< HEAD
   "id": "696d25c8",
=======
   "id": "832b990d",
>>>>>>> master
   "metadata": {},
   "source": [
    "3. A partir de la page de ``bulbasaur``, obtenez les 4 tableaux qui nous intéressent :\n",
    "- on va chercher l'élément suivant : `('table', { 'class' : \"vitals-table\"})`\n",
    "- puis stocker ses éléments dans un dictionnaire\n"
   ]
  },
  {
   "cell_type": "markdown",
<<<<<<< HEAD
   "id": "69e26df3",
=======
   "id": "ec10a280",
>>>>>>> master
   "metadata": {},
   "source": [
    "Vous devriez obtenir une liste de caractéristiques proche de celle-ci\n",
    "(la structure est ici en dictionnaire, ce qui est pratique)"
   ]
  },
  {
   "cell_type": "markdown",
<<<<<<< HEAD
   "id": "04305130",
=======
   "id": "5b8c190e",
>>>>>>> master
   "metadata": {},
   "source": [
    "```\n",
    "## defaultdict(None, {'National №': '001', 'name': 'bulbasaur', 'Type': ' Grass Poison ', 'Species': 'Seed Pokémon', 'Height': '0.7\\xa0m (2′04″)', 'Weight': '6.9\\xa0kg (15.2\\xa0lbs)', 'Abilities': '1. OvergrowChlorophyll (hidden ability)', 'Local №': \"001 (Red/Blue/Yellow)226 (Gold/Silver/Crystal)001 (FireRed/LeafGreen)231 (HeartGold/SoulSilver)080 (X/Y — Central Kalos)001 (Let's Go Pikachu/Let's Go Eevee)068 (The Isle of Armor)\", 'EV yield': ' 1 Special Attack ', 'Catch rate': ' 45 (5.9% with PokéBall, full HP) ', 'Base Friendship': ' 50 (normal) ', 'Base Exp.': '64', 'Growth Rate': 'Medium Slow', 'Egg Groups': 'Grass, Monster', 'Gender': '87.5% male, 12.5% female', 'Egg cycles': '20 (4,884–5,140 steps) ', 'HP': '45', 'Attack': '49', 'Defense': '49', 'Sp. Atk': '65', 'Sp. Def': '65', 'Speed': '45'})\n",
    "```\n",
    "\n",
    "4. Récupérez par ailleurs la liste de noms des pokémons qui nous permettra de faire une boucle par la suite. Combien trouvez-vous de pokémons ? \n"
   ]
  },
  {
   "cell_type": "markdown",
<<<<<<< HEAD
   "id": "2abeb9e1",
=======
   "id": "c45bd4af",
>>>>>>> master
   "metadata": {},
   "source": [
    "5. Ecrire une fonction qui récupère l'ensemble des informations sur les dix premiers pokémons de la liste et les intègre dans un data.frame\n",
    "\n",
    "\n",
    "\n"
   ]
  },
  {
   "cell_type": "markdown",
<<<<<<< HEAD
   "id": "79f53288",
=======
   "id": "ca8af09f",
>>>>>>> master
   "metadata": {},
   "source": [
    "## Etape 2\n",
    "\n",
    "Nous aimerions que vous récupériez également les images des 5 premiers pokémons et que vous les enregistriez dans un dossier  \n",
    "\n",
    ":idea: Utilisez les modules `request` et [`shutil`](https://docs.python.org/3/library/shutil.html))\n",
    "\n",
    "_pour cette question, il faut que vous cherchiez de vous même certains éléments, tout n'est pas présent dans le TD_.\n",
    "\n",
    "\n",
    "\n",
    "\n",
    "\n",
    "\n"
   ]
  },
  {
   "cell_type": "markdown",
<<<<<<< HEAD
   "id": "dfdceb76",
=======
   "id": "eb1c170d",
>>>>>>> master
   "metadata": {},
   "source": [
    "# Exercice supplémentaire [BONUS]"
   ]
  },
  {
   "cell_type": "markdown",
<<<<<<< HEAD
   "id": "63cede8d",
=======
   "id": "e2777101",
>>>>>>> master
   "metadata": {},
   "source": [
    "Scraper la liste des ministres français depuis wikipedia. Faire une graphique qui représente la distribution de leur âge.\n",
    "\n",
    "Si vous avez une solution satisfaisante, n'hésitez pas à la soumettre\n",
    "sur <a href=\"https://github.com/linogaliana/python-datascientist\" class=\"github\"><i class=\"fab fa-github\"></i></a>\n",
    "(car je n'ai pas encore testé...)\n"
   ]
  },
  {
   "cell_type": "markdown",
<<<<<<< HEAD
   "id": "0bf609a7",
=======
   "id": "a7ee58cc",
>>>>>>> master
   "metadata": {},
   "source": [
    "# `Selenium` : mimer le comportement d'un utilisateur internet"
   ]
  },
  {
   "cell_type": "markdown",
<<<<<<< HEAD
   "id": "b515bc0c",
=======
   "id": "2f0c51e8",
>>>>>>> master
   "metadata": {},
   "source": [
    "Jusqu'à présent, nous avons raisonné comme si nous connaissions toujours l'url qui nous intéresse. De plus, les pages que nous visitons sont \"statiques\", elles ne dépendent pas d'une action ou d'une recherche de l'internaute. \n",
    "\n",
    "Nous allons voir à présent comment nous en sortir pour remplir des champs sur un site web et récupérer ce qui nous intéresse. \n",
    "\n",
    "L'avantage du package [Selenium](https://pypi.python.org/pypi/selenium) est d'obtenir des informations du site qui ne sont pas dans le code html mais qui apparaissent uniquement à la suite de l'exécution de script javascript en arrière plan. \n",
    "\n",
    "Selenium se comporte comme un utilisateur lambda sur internet : il clique sur des liens, il remplit des formulaires etc. Dans cet exemple, nous allons essayer de aller sur le site de [Bing Actualités](https://www.bing.com/news) et entrer dans la barre de recherche un sujet donné (Trump). \n",
    "\n",
    "L'installation de `selenium` nécessite d'avoir chromium qui est un \n",
    "navigateur Google Chrome minimaliste. \n",
<<<<<<< HEAD
    "La version de [chromedriver](https://sites.google.com/a/chromium.org/chromedriver/) doit être ``>= 2.36`` et dépend de la version de Chrome que vous avez sur votre poste.\n"
=======
    "La version de [chromedriver](https://sites.google.com/a/chromium.org/chromedriver/) doit être ``>= 2.36`` et dépend de la version de Chrome que vous avez sur votre poste."
   ]
  },
  {
   "cell_type": "markdown",
   "id": "f0f59bea",
   "metadata": {},
   "source": [
    "```shell\n",
    "# #!pip install selenium\n",
    "```\n",
    "\n"
>>>>>>> master
   ]
  },
  {
   "cell_type": "code",
   "execution_count": null,
<<<<<<< HEAD
   "id": "7859ad7e",
=======
   "id": "4de5667d",
>>>>>>> master
   "metadata": {
    "lines_to_next_cell": 2
   },
   "outputs": [],
   "source": [
    "!pip install selenium\n",
    "\n",
    "# Sur votre poste  \n",
    "# télécharger le chrome driver https://chromedriver.storage.googleapis.com/index.html?path=85.0.4183.83/\n",
    "\n",
    "# Sur google colab \n",
    "# https://stackoverflow.com/questions/51046454/how-can-we-use-selenium-webdriver-in-colab-research-google-com\n",
    "!apt-get update # to update ubuntu to correctly run apt install\n",
    "!apt install chromium-chromedriver\n",
    "!cp /usr/lib/chromium-browser/chromedriver /usr/bin\n",
    "import sys\n",
    "sys.path.insert(0,'/usr/lib/chromium-browser/chromedriver')"
   ]
  },
  {
   "cell_type": "code",
   "execution_count": null,
<<<<<<< HEAD
   "id": "d68bc253",
=======
   "id": "432cbd40",
>>>>>>> master
   "metadata": {},
   "outputs": [],
   "source": [
    "import selenium\n",
    "path_to_web_driver = \"chromedriver\""
   ]
  },
  {
   "cell_type": "markdown",
<<<<<<< HEAD
   "id": "36a45d68",
=======
   "id": "9cd9ba2f",
>>>>>>> master
   "metadata": {},
   "source": [
    "On va sur le site de Bing Actualités, et on lui indique le mot clé que nous souhaitons chercher. \n",
    "\n",
    "Dans cet exemple, on va voir que l'ordinateur va ouvrir une nouvelle fenêtre.\n"
   ]
  },
  {
   "cell_type": "code",
   "execution_count": null,
<<<<<<< HEAD
   "id": "6e5a26d3",
=======
   "id": "0d4e3b2d",
>>>>>>> master
   "metadata": {
    "lines_to_next_cell": 2
   },
   "outputs": [],
   "source": [
    "import time\n",
    "\n",
    "from selenium import webdriver\n",
    "from selenium.webdriver.common.keys import Keys\n",
    "\n",
    "chrome_options = webdriver.ChromeOptions()\n",
    "chrome_options.add_argument('--headless')\n",
    "chrome_options.add_argument('--no-sandbox')\n",
    "#chrome_options.add_argument('--verbose') \n",
    "#chrome_options.add_argument('--disable-dev-shm-usage')\n",
    "\n",
    "browser = webdriver.Chrome(executable_path=path_to_web_driver,\n",
    "                           options=chrome_options)\n",
    "\n",
    "browser.get('https://www.bing.com/news')\n",
    "\n",
    "# on cherche l'endroit où on peut remplir un formulaire\n",
    "# en utilisant les outils du navigateur > inspecter les éléments de la page\n",
    "# on voit que la barre de recherche est un élement du code appelé 'q' comme query\n",
    "# on lui demande de chercher cet élément\n",
    "\n",
    "search = browser.find_element_by_name('q')\n",
    "print(search)\n",
    "print([search.text, search.tag_name, search.id])\n",
    "\n",
    "# on envoie à cet endroit le mot qu'on aurait tapé dans la barre de recherche\n",
    "search.send_keys(\"Trump\")\n",
    "\n",
    "search_button = browser.find_element_by_xpath(\"//input[@id='sb_form_go']\")\n",
    "\n",
    "#search_button = browser.find_element_by_id('search_button_homepage')\n",
    " \n",
    "search_button.click()\n",
    "\n",
    "# on appuie sur le bouton \"Entrée\" Return en anglais\n",
    "#search.send_keys(Keys.RETURN)"
   ]
  },
  {
   "cell_type": "code",
   "execution_count": null,
<<<<<<< HEAD
   "id": "2576e342",
=======
   "id": "debb0e10",
>>>>>>> master
   "metadata": {
    "lines_to_next_cell": 2
   },
   "outputs": [],
   "source": [
    "png = browser.get_screenshot_as_png()"
   ]
  },
  {
   "cell_type": "code",
   "execution_count": null,
<<<<<<< HEAD
   "id": "ff08f0fe",
=======
   "id": "1b4bd83a",
>>>>>>> master
   "metadata": {},
   "outputs": [],
   "source": [
    "from IPython.display import Image\n",
    "Image(png, width='500')"
   ]
  },
  {
   "cell_type": "markdown",
<<<<<<< HEAD
   "id": "8cd4b6a4",
=======
   "id": "f34935f9",
>>>>>>> master
   "metadata": {},
   "source": [
    "On extrait les résultats.\n"
   ]
  },
  {
   "cell_type": "code",
   "execution_count": null,
<<<<<<< HEAD
   "id": "830c75c1",
=======
   "id": "4d168f22",
>>>>>>> master
   "metadata": {
    "lines_to_next_cell": 2
   },
   "outputs": [],
   "source": [
    "from selenium.common.exceptions import StaleElementReferenceException\n",
    "links = browser.find_elements_by_xpath(\"//div/a[@class='title'][@href]\")\n",
    "\n",
    "results = []\n",
    "for link in links:\n",
    "    try:\n",
    "        url = link.get_attribute('href')\n",
    "    except StaleElementReferenceException as e:\n",
    "        print(\"Issue with '{0}' and '{1}'\".format(url, link))\n",
    "        print(\"It might be due to slow javascript which produces the HTML page.\")\n",
    "    results.append(url)\n",
    "\n",
    "len(results)"
   ]
  },
  {
   "cell_type": "code",
   "execution_count": null,
<<<<<<< HEAD
   "id": "8602f31d",
=======
   "id": "33331bb3",
>>>>>>> master
   "metadata": {
    "lines_to_next_cell": 2
   },
   "outputs": [],
   "source": [
    "# on a une pause de 10 secondes pour aller voir ce qui se passe sur la page internet\n",
    "# on demande de quitter le navigateur quand tout est fini\n",
    "browser.quit()"
   ]
  },
  {
   "cell_type": "code",
   "execution_count": null,
<<<<<<< HEAD
   "id": "2f13412d",
=======
   "id": "e25f6023",
>>>>>>> master
   "metadata": {},
   "outputs": [],
   "source": [
    "print(results)"
   ]
  },
  {
   "cell_type": "markdown",
<<<<<<< HEAD
   "id": "0cc33f9b",
=======
   "id": "f7265e72",
>>>>>>> master
   "metadata": {},
   "source": [
    "## Utiliser selenium pour jouer à 2048\n",
    "\n",
    "Dans cet exemple, on utilise le module pour que python appuie lui même sur les touches du clavier afin de jouer à 2048.\n",
    "\n",
    "Note : ce bout de code ne donne pas une solution à 2048, il permet juste de voir ce qu'on peut faire avec selenium\n"
   ]
  },
  {
   "cell_type": "code",
   "execution_count": null,
<<<<<<< HEAD
   "id": "41a93fff",
=======
   "id": "1bcdf18a",
>>>>>>> master
   "metadata": {},
   "outputs": [],
   "source": [
    "from selenium import webdriver\n",
    "from selenium.webdriver.common.keys import Keys\n",
    "\n",
    "# on ouvre la page internet du jeu 2048\n",
    "\n",
    "browser = webdriver.Chrome(executable_path=path_to_web_driver,\n",
    "                           options=chrome_options)\n",
    "browser.get('https://play2048.co//')\n",
    "\n",
    "# Ce qu'on va faire : une boucle qui répète inlassablement la même chose : haut / droite / bas / gauche\n",
    "\n",
    "# on commence par cliquer sur la page pour que les touches sachent \n",
    "browser.find_element_by_class_name('grid-container').click()\n",
    "grid = browser.find_element_by_tag_name('body')\n",
    "\n",
    "# pour savoir quels coups faire à quel moment, on crée un dictionnaire\n",
    "direction = {0: Keys.UP, 1: Keys.RIGHT, 2: Keys.DOWN, 3: Keys.LEFT}\n",
    "count = 0\n",
    "\n",
    "while True:\n",
    "    try: # on vérifie que le bouton \"Try again\" n'est pas là - sinon ça veut dire que le jeu est fini\n",
    "        retryButton = browser.find_element_by_link_text('Try again')\n",
    "        scoreElem = browser.find_element_by_class_name('score-container')\n",
    "        break\n",
    "    except:\n",
    "        #Do nothing.  Game is not over yet\n",
    "        pass\n",
    "    # on continue le jeu - on appuie sur la touche suivante pour le coup d'après\n",
    "    count += 1\n",
    "    grid.send_keys(direction[count % 4]) \n",
    "    time.sleep(0.1)\n",
    "\n",
    "print('Score final : {} en {} coups'.format(scoreElem.text, count))    \n",
    "browser.quit()"
   ]
  }
 ],
 "metadata": {
  "kernelspec": {
   "display_name": "Python 3",
   "language": "python",
   "name": "python3"
  }
 },
 "nbformat": 4,
 "nbformat_minor": 5
}
