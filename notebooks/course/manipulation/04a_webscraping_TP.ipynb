{
  "cells": [
    {
      "cell_type": "markdown",
      "metadata": {},
      "source": [
        "# Webscraping avec python"
      ],
      "id": "1d4fbd02-d3a2-4805-87e1-d9d99073bc5a"
    },
    {
      "cell_type": "raw",
      "metadata": {
        "raw_mimetype": "text/html"
      },
      "source": [
        "<p class=\"badges\">"
      ],
      "id": "cea8cab9-c1f4-48ad-aa9c-e460b4dd304e"
    },
    {
      "cell_type": "markdown",
      "metadata": {},
      "source": [
        "<a href=\"https://github.com/linogaliana/python-datascientist/blob/master/notebooks/course/manipulation/04_webscraping_TP.ipynb\" class=\"github\"><i class=\"fab fa-github\"></i></a>\n",
        "<a href=\"https://downgit.github.io/#/home?url=https://github.com/linogaliana/python-datascientist/blob/master/notebooks/course/manipulation/04_webscraping_TP.ipynb\" target=\"_blank\" rel=\"noopener\"><img src=\"https://img.shields.io/badge/Download-Notebook-important?logo=Jupyter\" alt=\"Download\"></a>\n",
        "<a href=\"https://nbviewer.jupyter.org/github/linogaliana/python-datascientist/blob/master/notebooks/course/manipulation/04_webscraping_TP.ipynb\" target=\"_blank\" rel=\"noopener\"><img src=\"https://img.shields.io/badge/Visualize-nbviewer-blue?logo=Jupyter\" alt=\"nbviewer\"></a>\n",
        "<a href=\"https://datalab.sspcloud.fr/launcher/inseefrlab-helm-charts-datascience/jupyter?autoLaunch=true&onyxia.friendlyName=%C2%ABpython-datascience%C2%BB&init.personalInit=%C2%ABhttps%3A%2F%2Fraw.githubusercontent.com%2Flinogaliana%2Fpython-datascientist%2Fmaster%2Fsspcloud%2Finit-jupyter.sh%C2%BB&init.personalInitArgs=%C2%ABnotebooks/course/manipulation%2004_webscraping_TP.ipynb%C2%BB&security.allowlist.enabled=false\" target=\"_blank\" rel=\"noopener\"><img src=\"https://img.shields.io/badge/SSPcloud-Tester%20via%20SSP--cloud-informational&amp;color=yellow?logo=Python\" alt=\"Onyxia\"></a><br>\n",
        "<a href=\"https://mybinder.org/v2/gh/linogaliana/python-datascientist/master?filepath={binder_path}\" target=\"_blank\" rel=\"noopener\"><img src=\"https://img.shields.io/badge/Launch-Binder-E66581.svg?logo=data:image/png;base64,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\" alt=\"Binder\"></a>\n",
        "<a href=\"http://colab.research.google.com/github/linogaliana/python-datascientist/blob/master/notebooks/course/manipulation/04_webscraping_TP.ipynb\" target=\"_blank\" rel=\"noopener\"><img src=\"https://colab.research.google.com/assets/colab-badge.svg\" alt=\"Open In Colab\"></a>\n",
        "<a href=\"https://github.dev/linogaliana/python-datascientist/notebooks/course/manipulation/04_webscraping_TP.ipynb\" target=\"_blank\" rel=\"noopener\"><img src=\"https://img.shields.io/static/v1?logo=visualstudiocode&label=&message=Open%20in%20Visual%20Studio%20Code&labelColor=2c2c32&color=007acc&logoColor=007acc\" alt=\"githubdev\"></a>"
      ],
      "id": "eac9a2ff-ced6-49ad-a014-9e59ca0f3dcc"
    },
    {
      "cell_type": "raw",
      "metadata": {
        "raw_mimetype": "text/html"
      },
      "source": [
        "</p>"
      ],
      "id": "5575e594-09fd-4e07-9d0e-7f7e8b0cae8b"
    },
    {
      "cell_type": "raw",
      "metadata": {
        "raw_mimetype": "text/html"
      },
      "source": [
        "</p>"
      ],
      "id": "8fd65f2b-8f70-48cd-9635-480c5042538b"
    },
    {
      "cell_type": "markdown",
      "metadata": {},
      "source": [
        "Le [webscraping](https://fr.wikipedia.org/wiki/Web_scraping) désigne les techniques d’extraction du contenu des sites internet. C’est une pratique très utile pour toute personne souhaitant travailler sur des informations disponibles en ligne, mais n’existant pas forcément sous la forme d’un tableau *Excel*.\n",
        "\n",
        "Ce TP vous présente comment créer et exécuter des robots afin de recupérer rapidement des informations utiles à vos projets actuels ou futurs.\n",
        "\n",
        "Le *webscraping* a un certain nombre d’enjeux en termes de légalité, qui ne seront pas enseignés dans ce cours mais dans un cours de 3A à l’ENSAE. En particulier, la CNIL a publié en 2020 de nouvelles directives sur le *webscraping* reprécisant que toute donnée ne peut être réutilisée à l’insu de la personne à laquelle ces données appartiennent.\n",
        "\n",
        "Enfin, il est à noter que ce notebook est très fortement inspiré et réadapté à partir de [celui de Xavier Dupré](http://www.xavierdupre.fr/app/ensae_teaching_cs/helpsphinx/notebooks/TD2A_Eco_Web_Scraping.html), l’ancien professeur de la matière.\n",
        "\n",
        "# Un détour par le Web : comment fonctionne un site ?\n",
        "\n",
        "Même si ce TP ne vise pas à faire un cours de web, il vous faut néanmoins certaines bases sur la manière dont un site internet fonctionne afin de comprendre comment sont structurées les informations sur une page.\n",
        "\n",
        "Un site Web est un ensemble de pages codées en *HTML* qui permet de décrire à la fois le contenu et la forme d’une page *Web*.\n",
        "\n",
        "Pour voir cela, ouvrez n’importe quelle page web et faites un clic-droit dessus.\n",
        "- Sous `Chrome` <i class=\"fab fa-chrome\"></i> : Cliquez ensuite sur “Affichez le code source de la page” (<kbd>CTRL</kbd>+<kbd>U</kbd>) ;\n",
        "- Sous `Firefox` <i class=\"fab fa-firefox\"></i> : “Code source de la page” (<kbd>CTRL</kbd>+<kbd>MAJ</kbd>+<kbd>K</kbd>) ;\n",
        "- Sous `Edge` <i class=\"fab fa-edge\"></i> : “Affichez la page source” (<kbd>CTRL</kbd>+<kbd>U</kbd>) ;\n",
        "- Sous `Safari` <i class=\"fab fa-safari\"></i> : voir comment faire [ici](https://fr.wikihow.com/voir-le-code-source)\n",
        "\n",
        "## Les balises\n",
        "\n",
        "Sur une page web, vous trouverez toujours à coup sûr des éléments comme `<head>`, `<title>`, etc. Il s’agit des codes qui vous permettent de structurer le contenu d’une page *HTML* et qui s’appellent des **balises**.\n",
        "Citons, par exemple, les balises `<p>`, `<h1>`, `<h2>`, `<h3>`, `<strong>` ou `<em>`.\n",
        "Le symbole `< >` est une balise : il sert à indiquer le début d’une partie. Le symbole `</ >` indique la fin de cette partie. La plupart des balises vont par paires, avec une *balise ouvrante* et une *balise fermante* (par exemple `<p>` et `</p>`).\n",
        "\n",
        "### Exemple : les balise des tableaux\n",
        "\n",
        "| Balise      | Description                     |\n",
        "|-------------|---------------------------------|\n",
        "| `<table>`   | Tableau                         |\n",
        "| `<caption>` | Titre du tableau                |\n",
        "| `<tr>`      | Ligne de tableau                |\n",
        "| `<th>`      | Cellule d’en-tête               |\n",
        "| `<td>`      | Cellule                         |\n",
        "| `<thead>`   | Section de l’en-tête du tableau |\n",
        "| `<tbody>`   | Section du corps du tableau     |\n",
        "| `<tfoot>`   | Section du pied du tableau      |\n",
        "\n",
        "**Application : un tableau en HTML**\n",
        "\n",
        "Le code *HTML* du tableau suivant\n",
        "\n",
        "``` {html}\n",
        "<table>\n",
        "<caption> Le Titre de mon tableau </caption>\n",
        "\n",
        "   <tr>\n",
        "      <th>Prénom</th>\n",
        "      <th>Nom</th>\n",
        "      <th>Profession</th>\n",
        "   </tr>\n",
        "   <tr>\n",
        "      <td>Mike </td>\n",
        "      <td>Stuntman</td>\n",
        "      <td>Cascadeur</td>\n",
        "   </tr>\n",
        "   <tr>\n",
        "      <td>Mister</td>\n",
        "      <td>Pink</td>\n",
        "      <td>Gangster</td>\n",
        "   </tr>\n",
        "</table>\n",
        "```\n",
        "\n",
        "Donnera dans le navigateur :"
      ],
      "id": "2c62cdee-30b5-47ff-9a04-fe866fd917c4"
    },
    {
      "cell_type": "raw",
      "metadata": {
        "raw_mimetype": "text/html"
      },
      "source": [
        "<table>"
      ],
      "id": "bb69bcad-1f99-4543-b1f0-3d72d5e658ac"
    },
    {
      "cell_type": "raw",
      "metadata": {
        "raw_mimetype": "text/html"
      },
      "source": [
        "<caption>"
      ],
      "id": "6dd9b1ff-5f37-452e-8a4b-c8903736bc39"
    },
    {
      "cell_type": "markdown",
      "metadata": {},
      "source": [
        "Le Titre de mon tableau"
      ],
      "id": "da976835-0926-4af2-8377-6d3914c16d06"
    },
    {
      "cell_type": "raw",
      "metadata": {
        "raw_mimetype": "text/html"
      },
      "source": [
        "</caption>"
      ],
      "id": "eb1e7dac-1137-4dec-9fdb-19b62111e469"
    },
    {
      "cell_type": "raw",
      "metadata": {
        "raw_mimetype": "text/html"
      },
      "source": [
        "<tr>"
      ],
      "id": "0da85704-5760-4be9-85a6-8538a43b9447"
    },
    {
      "cell_type": "raw",
      "metadata": {
        "raw_mimetype": "text/html"
      },
      "source": [
        "<th>"
      ],
      "id": "6f135e5c-21a2-41b8-9f8e-fe10a2242acf"
    },
    {
      "cell_type": "markdown",
      "metadata": {},
      "source": [
        "Prénom"
      ],
      "id": "25702ba4-1516-43ef-962c-72159accb64a"
    },
    {
      "cell_type": "raw",
      "metadata": {
        "raw_mimetype": "text/html"
      },
      "source": [
        "</th>"
      ],
      "id": "7149466f-2f8a-4f4d-baaf-911517122324"
    },
    {
      "cell_type": "raw",
      "metadata": {
        "raw_mimetype": "text/html"
      },
      "source": [
        "<th>"
      ],
      "id": "784061ec-76b7-499e-a8a5-00f65a4d81b5"
    },
    {
      "cell_type": "markdown",
      "metadata": {},
      "source": [
        "Nom"
      ],
      "id": "2e2943f2-66ca-41c7-a16c-9478a0621a34"
    },
    {
      "cell_type": "raw",
      "metadata": {
        "raw_mimetype": "text/html"
      },
      "source": [
        "</th>"
      ],
      "id": "30cfcd20-5906-4552-9fd3-c5bbbb152069"
    },
    {
      "cell_type": "raw",
      "metadata": {
        "raw_mimetype": "text/html"
      },
      "source": [
        "<th>"
      ],
      "id": "c4cfc394-cb45-49e8-852e-bb421e8c7664"
    },
    {
      "cell_type": "markdown",
      "metadata": {},
      "source": [
        "Profession"
      ],
      "id": "85cee2dd-b63d-466d-9b19-fb7e8f884349"
    },
    {
      "cell_type": "raw",
      "metadata": {
        "raw_mimetype": "text/html"
      },
      "source": [
        "</th>"
      ],
      "id": "70ab4826-2b81-45b2-a859-a782f33c7585"
    },
    {
      "cell_type": "raw",
      "metadata": {
        "raw_mimetype": "text/html"
      },
      "source": [
        "</tr>"
      ],
      "id": "6fa7c5b3-cbd6-44f5-b32a-bd0109bbe3c5"
    },
    {
      "cell_type": "raw",
      "metadata": {
        "raw_mimetype": "text/html"
      },
      "source": [
        "<tr>"
      ],
      "id": "1858042f-8824-4a7e-9f96-aff2d49a0ce0"
    },
    {
      "cell_type": "raw",
      "metadata": {
        "raw_mimetype": "text/html"
      },
      "source": [
        "<td>"
      ],
      "id": "24ab3dac-943b-4c94-bf56-e5637c852718"
    },
    {
      "cell_type": "markdown",
      "metadata": {},
      "source": [
        "Mike"
      ],
      "id": "bab4edfc-d073-450e-9039-8710f65cfb45"
    },
    {
      "cell_type": "raw",
      "metadata": {
        "raw_mimetype": "text/html"
      },
      "source": [
        "</td>"
      ],
      "id": "9b77f452-c789-4f2c-a272-e9f71ef58fa9"
    },
    {
      "cell_type": "raw",
      "metadata": {
        "raw_mimetype": "text/html"
      },
      "source": [
        "<td>"
      ],
      "id": "fe2970ca-0d1b-45a0-9556-1df5f4a41f2f"
    },
    {
      "cell_type": "markdown",
      "metadata": {},
      "source": [
        "Stuntman"
      ],
      "id": "68a7cd18-ca56-409b-983f-1e17e027a50f"
    },
    {
      "cell_type": "raw",
      "metadata": {
        "raw_mimetype": "text/html"
      },
      "source": [
        "</td>"
      ],
      "id": "31aa5c84-43c4-452a-9c19-39ea11dd0d57"
    },
    {
      "cell_type": "raw",
      "metadata": {
        "raw_mimetype": "text/html"
      },
      "source": [
        "<td>"
      ],
      "id": "c3f4e301-4d0a-4290-a4b0-b9f544d53ae9"
    },
    {
      "cell_type": "markdown",
      "metadata": {},
      "source": [
        "Cascadeur"
      ],
      "id": "53ec7b9d-32de-4394-9539-bde89eac89b6"
    },
    {
      "cell_type": "raw",
      "metadata": {
        "raw_mimetype": "text/html"
      },
      "source": [
        "</td>"
      ],
      "id": "91c10725-2dfa-4490-b9fb-dca9256ffa7a"
    },
    {
      "cell_type": "raw",
      "metadata": {
        "raw_mimetype": "text/html"
      },
      "source": [
        "</tr>"
      ],
      "id": "02e2cbcd-2b0d-4873-85c5-7d9e010a55c0"
    },
    {
      "cell_type": "raw",
      "metadata": {
        "raw_mimetype": "text/html"
      },
      "source": [
        "<tr>"
      ],
      "id": "248665ce-068e-47c7-b39c-6400a08c75dd"
    },
    {
      "cell_type": "raw",
      "metadata": {
        "raw_mimetype": "text/html"
      },
      "source": [
        "<td>"
      ],
      "id": "8c217fb6-d226-4ab0-a2d3-50bb50664b46"
    },
    {
      "cell_type": "markdown",
      "metadata": {},
      "source": [
        "Mister"
      ],
      "id": "2276444d-8c97-49c9-b364-7998c2a1ce26"
    },
    {
      "cell_type": "raw",
      "metadata": {
        "raw_mimetype": "text/html"
      },
      "source": [
        "</td>"
      ],
      "id": "75a0b659-8705-48d9-a62b-f82f13ee261c"
    },
    {
      "cell_type": "raw",
      "metadata": {
        "raw_mimetype": "text/html"
      },
      "source": [
        "<td>"
      ],
      "id": "fe1a7e1b-0425-4ea0-a658-fd61e6ffa157"
    },
    {
      "cell_type": "markdown",
      "metadata": {},
      "source": [
        "Pink"
      ],
      "id": "e49de294-4ab0-4848-87f6-7c57034217b5"
    },
    {
      "cell_type": "raw",
      "metadata": {
        "raw_mimetype": "text/html"
      },
      "source": [
        "</td>"
      ],
      "id": "7b27ab6b-0ee9-4e2d-85e1-417d86989eb8"
    },
    {
      "cell_type": "raw",
      "metadata": {
        "raw_mimetype": "text/html"
      },
      "source": [
        "<td>"
      ],
      "id": "91e1d892-c124-4b57-98e2-bc8a66e2d46f"
    },
    {
      "cell_type": "markdown",
      "metadata": {},
      "source": [
        "Gangster"
      ],
      "id": "e2e468e8-4857-4405-9b65-b23d1b014c4f"
    },
    {
      "cell_type": "raw",
      "metadata": {
        "raw_mimetype": "text/html"
      },
      "source": [
        "</td>"
      ],
      "id": "719e2d5d-2cce-4813-9d9b-eeb33181ea4a"
    },
    {
      "cell_type": "raw",
      "metadata": {
        "raw_mimetype": "text/html"
      },
      "source": [
        "</tr>"
      ],
      "id": "e1abe255-6c5b-4a2a-868e-108374a4a09a"
    },
    {
      "cell_type": "raw",
      "metadata": {
        "raw_mimetype": "text/html"
      },
      "source": [
        "</table>"
      ],
      "id": "aea621dd-0d76-4dc7-9caf-8ece58a7ec0e"
    },
    {
      "cell_type": "markdown",
      "metadata": {},
      "source": [
        "### Parent et enfant\n",
        "\n",
        "Dans le cadre du langage HTML, les termes de parent (*parent*) et enfant (*child*) servent à désigner des élements emboîtés les uns dans les autres. Dans la construction suivante, par exemple :\n",
        "\n",
        "``` html\n",
        "< div> \n",
        "    < p>\n",
        "       bla,bla\n",
        "    < /p>\n",
        "< /div>\n",
        "```\n",
        "\n",
        "Sur la page web, cela apparaitra de la manière suivante :\n",
        "\n",
        "    <p>\n",
        "       bla,bla\n",
        "    </p>\n",
        "\n",
        "On dira que l’élément `<div>` est le parent de l’élément `<p>` tandis que l’élément `<p>` est l’enfant de l’élément `<div>`.\n",
        "\n",
        "*Mais pourquoi apprendre ça pour “scraper”, me direz-vous ?*\n",
        "\n",
        "Parce que, pour bien récupérer les informations d’un site internet, il faut pouvoir comprendre sa structure et donc son code HTML. Les fonctions python qui servent au scraping sont principalement construites pour vous permettre de naviguer entre les balises.\n",
        "\n",
        "# Scraper avec python: le package `BeautifulSoup`\n",
        "\n",
        "## Les packages disponibles\n",
        "\n",
        "Nous allons essentiellement utiliser le package [BeautifulSoup4](https://www.crummy.com/software/BeautifulSoup/bs4/doc/) pour ce cours, mais d’autres packages existent (Selenium, Scrapy…). Il s’utilise souvent en conjonction avec\n",
        "[urllib](https://docs.python.org/3/library/urllib.html#module-urllib).\n",
        "\n",
        "`BeautifulSoup` sera suffisant quand vous voudrez travailler sur des pages HTML statiques. Dès que les informations que vous recherchez sont générées via l’exécution de scripts [Javascript](https://fr.wikipedia.org/wiki/JavaScript), il vous faudra passer par des outils comme [Selenium](https://selenium-python.readthedocs.io/).\n",
        "\n",
        "De même, si vous ne connaissez pas l’URL, il faudra passer par un framework comme [Scrapy](https://scrapy.org/), qui passe facilement d’une page à une autre (“crawl”). Scrapy est plus complexe à manipuler que BeautifulSoup : si vous voulez plus de détails, rendez-vous sur la page du [tutoriel Scrapy](https://doc.scrapy.org/en/latest/intro/tutorial.html).\n",
        "\n",
        "Le *webscraping* est un domaine où la reproductibilité est compliquée à mettre en oeuvre. Une page *web* évolue\n",
        "potentiellement régulièrement et d’une page web à l’autre, la structure peut\n",
        "être très différente ce qui rend certains codes difficilement exportables.\n",
        "Par conséquent, la meilleure manière d’avoir un programme fonctionnel est\n",
        "de comprendre la structure d’une page web et dissocier les éléments exportables\n",
        "à d’autres cas d’usages des requêtes *ad hoc*.\n",
        "\n",
        "{{< tweet 1474353569780355074 >}}"
      ],
      "id": "afd0e2ca-46fa-4686-997b-a3075d75b411"
    },
    {
      "cell_type": "code",
      "execution_count": 2,
      "metadata": {},
      "outputs": [],
      "source": [
        "import urllib\n",
        "import bs4\n",
        "import pandas\n",
        "from urllib import request"
      ],
      "id": "41eff307-7223-41ed-ac54-ccf01ab0435d"
    },
    {
      "cell_type": "markdown",
      "metadata": {},
      "source": [
        "## Récupérer le contenu d’une page HTML\n",
        "\n",
        "On va commencer doucement. Prenons une page wikipedia, par exemple celle de la Ligue 1 de football : [Championnat de France de football 2019-2020](https://fr.wikipedia.org/wiki/Championnat_de_France_de_football_2019-2020). On va souhaiter récupérer la liste des équipes, ainsi que les url des pages Wikipedia de ces équipes."
      ],
      "id": "ec56caaa-c79b-43af-a8c7-d37f567ffe8d"
    },
    {
      "cell_type": "code",
      "execution_count": 3,
      "metadata": {},
      "outputs": [],
      "source": [
        "# Etape 1 : se connecter à la page wikipedia et obtenir le code source\n",
        "\n",
        "url_ligue_1 = \"https://fr.wikipedia.org/wiki/Championnat_de_France_de_football_2019-2020\"\n",
        "    \n",
        "request_text = request.urlopen(url_ligue_1).read()\n",
        "# print(request_text[:1000])    "
      ],
      "id": "04f775c4-e3ca-47a8-ac86-ae9d3f54cf85"
    },
    {
      "cell_type": "code",
      "execution_count": 4,
      "metadata": {},
      "outputs": [
        {
          "output_type": "display_data",
          "metadata": {},
          "data": {
            "text/plain": [
              "bytes"
            ]
          }
        }
      ],
      "source": [
        "type(request_text)"
      ],
      "id": "d1b01a20-b458-4c72-9814-bf8d4be184bc"
    },
    {
      "cell_type": "code",
      "execution_count": 5,
      "metadata": {},
      "outputs": [],
      "source": [
        "# Etape 2 : utiliser le package BeautifulSoup\n",
        "# qui \"comprend\" les balises contenues dans la chaine de caractères renvoyée par la fonction request\n",
        "\n",
        "page = bs4.BeautifulSoup(request_text, \"lxml\")\n",
        "\n",
        "#print(page)"
      ],
      "id": "ddfb9b49-88f0-4af7-be71-c6bcad2e4a4e"
    },
    {
      "cell_type": "markdown",
      "metadata": {},
      "source": [
        "Si on print l’objet, page créée avec BeautifulSoup, on voit que ce n’est plus une chaine de caractères mais bien une page HTML avec des balises. On peut à présent chercher des élements à l’intérieur de ces balises.\n",
        "\n",
        "## La méthode `find`\n",
        "\n",
        "Par exemple, si on veut connaître le titre de la page, on utilise la méthode `.find` et on lui demande *“title”*"
      ],
      "id": "bc084368-835a-4450-bbb9-d03362d9abd4"
    },
    {
      "cell_type": "code",
      "execution_count": 6,
      "metadata": {},
      "outputs": [
        {
          "output_type": "stream",
          "name": "stdout",
          "text": [
            "<title>Championnat de France de football 2019-2020 — Wikipédia</title>"
          ]
        }
      ],
      "source": [
        "print(page.find(\"title\"))"
      ],
      "id": "738f8cf4-75d2-476d-be57-8894f0c3a914"
    },
    {
      "cell_type": "markdown",
      "metadata": {},
      "source": [
        "La methode `.find` ne renvoie que la première occurence de l’élément.\n",
        "\n",
        "Pour vous en assurer vous pouvez :\n",
        "- copier le bout de code source obtenu,\n",
        "- le coller dans une cellule de votre notebook\n",
        "- et passer la cellule en “Markdown”\n",
        "\n",
        "La cellule avec le copier-coller du code source donne :"
      ],
      "id": "4198d3f4-528c-4b19-a2b9-bf3511e5d713"
    },
    {
      "cell_type": "code",
      "execution_count": 7,
      "metadata": {},
      "outputs": [
        {
          "output_type": "stream",
          "name": "stdout",
          "text": [
            "<table><caption style=\"background-color:#99cc99;color:#000000;\">Généralités</caption><tbody><tr>\n",
            "<th scope=\"row\" style=\"width:10.5em;\">Sport</th>\n",
            "<td>\n",
            "<a href=\"/wiki/Football\" title=\"Football\">Football</a></td>\n",
            "</tr>\n",
            "<tr>\n",
            "<th scope=\"row\" style=\"width:10.5em;\">Organisateur(s)</th>\n",
            "<td>\n",
            "<a href=\"/wiki/Ligue_de_football_professionnel\" title=\"Ligue de football professionnel\">LFP</a></td>\n",
            "</tr>\n",
            "<tr>\n",
            "<th scope=\"row\" style=\"width:10.5em;\">Édition</th>\n",
            "<td>\n",
            "<abbr class=\"abbr\" title=\"Quatre-vingt-deuxième (huitante-deuxième / octante-deuxième)\">82<sup>e</sup></abbr></td>\n",
            "</tr>\n",
            "<tr>\n",
            "<th scope=\"row\" style=\"width:10.5em;\">Lieu(x)</th>\n",
            "<td>\n",
            "<span class=\"datasortkey\" data-sort-value=\"France\"><span class=\"flagicon\"><a class=\"image\" href=\"/wiki/Fichier:Flag_of_France.svg\" title=\"Drapeau de la France\"><img alt=\"Drapeau de la France\" class=\"noviewer thumbborder\" data-file-height=\"600\" data-file-width=\"900\" decoding=\"async\" height=\"13\" src=\"//upload.wikimedia.org/wikipedia/commons/thumb/c/c3/Flag_of_France.svg/20px-Flag_of_France.svg.png\" srcset=\"//upload.wikimedia.org/wikipedia/commons/thumb/c/c3/Flag_of_France.svg/30px-Flag_of_France.svg.png 1.5x, //upload.wikimedia.org/wikipedia/commons/thumb/c/c3/Flag_of_France.svg/40px-Flag_of_France.svg.png 2x\" width=\"20\"/></a> </span><a href=\"/wiki/France\" title=\"France\">France</a></span> et <br/><span class=\"datasortkey\" data-sort-value=\"Monaco\"><span class=\"flagicon\"><a class=\"image\" href=\"/wiki/Fichier:Flag_of_Monaco.svg\" title=\"Drapeau de Monaco\"><img alt=\"Drapeau de Monaco\" class=\"noviewer thumbborder\" data-file-height=\"800\" data-file-width=\"1000\" decoding=\"async\" height=\"16\" src=\"//upload.wikimedia.org/wikipedia/commons/thumb/e/ea/Flag_of_Monaco.svg/20px-Flag_of_Monaco.svg.png\" srcset=\"//upload.wikimedia.org/wikipedia/commons/thumb/e/ea/Flag_of_Monaco.svg/30px-Flag_of_Monaco.svg.png 1.5x, //upload.wikimedia.org/wikipedia/commons/thumb/e/ea/Flag_of_Monaco.svg/40px-Flag_of_Monaco.svg.png 2x\" width=\"20\"/></a> </span><a href=\"/wiki/Monaco\" title=\"Monaco\">Monaco</a></span></td>\n",
            "</tr>\n",
            "<tr>\n",
            "<th scope=\"row\" style=\"width:10.5em;\">Date</th>\n",
            "<td>\n",
            "Du <time class=\"nowrap date-lien\" data-sort-value=\"2019-08-09\" datetime=\"2019-08-09\"><a href=\"/wiki/9_ao%C3%BBt_en_sport\" title=\"9 août en sport\">9</a> <a class=\"mw-redirect\" href=\"/wiki/Ao%C3%BBt_2019_en_sport\" title=\"Août 2019 en sport\">août</a> <a href=\"/wiki/2019_en_football\" title=\"2019 en football\">2019</a></time><br/>au <time class=\"nowrap date-lien\" data-sort-value=\"2020-03-08\" datetime=\"2020-03-08\"><a href=\"/wiki/8_mars_en_sport\" title=\"8 mars en sport\">8 mars</a> <a href=\"/wiki/2020_en_football\" title=\"2020 en football\">2020</a></time> <small>(arrêt définitif)</small></td>\n",
            "</tr>\n",
            "<tr>\n",
            "<th scope=\"row\" style=\"width:10.5em;\">Participants</th>\n",
            "<td>\n",
            "20 équipes</td>\n",
            "</tr>\n",
            "<tr>\n",
            "<th scope=\"row\" style=\"width:10.5em;\">Matchs joués</th>\n",
            "<td>\n",
            "279 (sur 380 prévus)</td>\n",
            "</tr>\n",
            "<tr>\n",
            "<th scope=\"row\" style=\"width:10.5em;\">Site web officiel</th>\n",
            "<td>\n",
            "<a class=\"external text\" href=\"https://www.ligue1.fr/\" rel=\"nofollow\">Site officiel</a></td>\n",
            "</tr></tbody></table>"
          ]
        }
      ],
      "source": [
        "print(page.find(\"table\"))"
      ],
      "id": "9acd7b3b-c8c2-4f67-93c4-32667149b040"
    },
    {
      "cell_type": "markdown",
      "metadata": {},
      "source": [
        "ce qui est le texte source permettant de générer le tableau suivant:"
      ],
      "id": "2fc831ee-897d-4ee2-a3a6-81abb1186604"
    },
    {
      "cell_type": "raw",
      "metadata": {
        "raw_mimetype": "text/html"
      },
      "source": [
        "<table>"
      ],
      "id": "241f9269-9b28-4860-89e7-05b33e951ccb"
    },
    {
      "cell_type": "raw",
      "metadata": {
        "raw_mimetype": "text/html"
      },
      "source": [
        "<caption style=\"background-color:#99cc99;color:#000000;\">"
      ],
      "id": "c7499a74-5fe0-45a5-b76a-129c0de69c36"
    },
    {
      "cell_type": "markdown",
      "metadata": {},
      "source": [
        "Généralités"
      ],
      "id": "d1bb1148-92a4-4df6-8404-37452c57b7cb"
    },
    {
      "cell_type": "raw",
      "metadata": {
        "raw_mimetype": "text/html"
      },
      "source": [
        "</caption>"
      ],
      "id": "309e0bac-c076-44fd-9620-5d32327f5ee3"
    },
    {
      "cell_type": "raw",
      "metadata": {
        "raw_mimetype": "text/html"
      },
      "source": [
        "<tbody>"
      ],
      "id": "3d0a8ccd-74ab-4dba-8f94-dfea0ab853a4"
    },
    {
      "cell_type": "raw",
      "metadata": {
        "raw_mimetype": "text/html"
      },
      "source": [
        "<tr>"
      ],
      "id": "982860cf-4d2f-44f0-abfd-383f7ab64be3"
    },
    {
      "cell_type": "raw",
      "metadata": {
        "raw_mimetype": "text/html"
      },
      "source": [
        "<th scope=\"row\" style=\"width:10.5em;\">"
      ],
      "id": "f7548529-3399-417a-a9bb-fba5dce43e46"
    },
    {
      "cell_type": "markdown",
      "metadata": {},
      "source": [
        "Sport"
      ],
      "id": "377a9f92-3a64-46f9-a2f2-e1f2ce9e3394"
    },
    {
      "cell_type": "raw",
      "metadata": {
        "raw_mimetype": "text/html"
      },
      "source": [
        "</th>"
      ],
      "id": "c3ca2f3c-d1e7-45ec-ab8f-a5cae8f56a87"
    },
    {
      "cell_type": "raw",
      "metadata": {
        "raw_mimetype": "text/html"
      },
      "source": [
        "<td>"
      ],
      "id": "41fee852-279f-48c3-91c9-d0ecf338ae16"
    },
    {
      "cell_type": "markdown",
      "metadata": {},
      "source": [
        "<a href=\"/wiki/Football\" title=\"Football\">Football</a>"
      ],
      "id": "4fb5bae8-0ef3-4b10-99e8-08ed9817f2f0"
    },
    {
      "cell_type": "raw",
      "metadata": {
        "raw_mimetype": "text/html"
      },
      "source": [
        "</td>"
      ],
      "id": "3b5341ba-f88b-44c9-875d-e78b797b74f6"
    },
    {
      "cell_type": "raw",
      "metadata": {
        "raw_mimetype": "text/html"
      },
      "source": [
        "</tr>"
      ],
      "id": "e36abef8-31c1-4aed-8017-0fc8c1849118"
    },
    {
      "cell_type": "raw",
      "metadata": {
        "raw_mimetype": "text/html"
      },
      "source": [
        "<tr>"
      ],
      "id": "62e72764-d8fc-482f-b300-d4411ffe8009"
    },
    {
      "cell_type": "raw",
      "metadata": {
        "raw_mimetype": "text/html"
      },
      "source": [
        "<th scope=\"row\" style=\"width:10.5em;\">"
      ],
      "id": "849ce616-1796-485a-bfeb-19a4b1d2c429"
    },
    {
      "cell_type": "markdown",
      "metadata": {},
      "source": [
        "Organisateur(s)"
      ],
      "id": "7c760a19-32a3-423a-8415-98d1de9e44c3"
    },
    {
      "cell_type": "raw",
      "metadata": {
        "raw_mimetype": "text/html"
      },
      "source": [
        "</th>"
      ],
      "id": "ec41f2d6-3420-4f57-8a6c-c39f15b076fd"
    },
    {
      "cell_type": "raw",
      "metadata": {
        "raw_mimetype": "text/html"
      },
      "source": [
        "<td>"
      ],
      "id": "7d7e64e3-6ebe-4bd6-bc05-d38840b047dd"
    },
    {
      "cell_type": "markdown",
      "metadata": {},
      "source": [
        "<a href=\"/wiki/Ligue_de_football_professionnel\" title=\"Ligue de football professionnel\">LFP</a>"
      ],
      "id": "f3917058-6e72-49df-9ca0-473aae82ba73"
    },
    {
      "cell_type": "raw",
      "metadata": {
        "raw_mimetype": "text/html"
      },
      "source": [
        "</td>"
      ],
      "id": "3377a3cb-110a-465f-ae09-10f45049e10f"
    },
    {
      "cell_type": "raw",
      "metadata": {
        "raw_mimetype": "text/html"
      },
      "source": [
        "</tr>"
      ],
      "id": "25df9b00-1057-437a-a3ce-137d18bfcbf2"
    },
    {
      "cell_type": "raw",
      "metadata": {
        "raw_mimetype": "text/html"
      },
      "source": [
        "<tr>"
      ],
      "id": "9e36a536-38f3-4e5f-962a-f6e9a3dec6db"
    },
    {
      "cell_type": "raw",
      "metadata": {
        "raw_mimetype": "text/html"
      },
      "source": [
        "<th scope=\"row\" style=\"width:10.5em;\">"
      ],
      "id": "e26d9193-d49b-4d1a-bf93-4aa671336947"
    },
    {
      "cell_type": "markdown",
      "metadata": {},
      "source": [
        "Édition"
      ],
      "id": "094fa86d-616b-4afe-9a04-0b3483512379"
    },
    {
      "cell_type": "raw",
      "metadata": {
        "raw_mimetype": "text/html"
      },
      "source": [
        "</th>"
      ],
      "id": "6f9d743e-725a-4d89-9e60-44aed6ac779c"
    },
    {
      "cell_type": "raw",
      "metadata": {
        "raw_mimetype": "text/html"
      },
      "source": [
        "<td>"
      ],
      "id": "bbdd516e-b2d7-4c33-a110-af99b8950b48"
    },
    {
      "cell_type": "markdown",
      "metadata": {},
      "source": [
        "<abbr class=\"abbr\" title=\"Quatre-vingt-deuxième (huitante-deuxième / octante-deuxième)\">82<sup>e</sup></abbr>"
      ],
      "id": "335ce4b8-60f9-4306-a426-c275e1f609c7"
    },
    {
      "cell_type": "raw",
      "metadata": {
        "raw_mimetype": "text/html"
      },
      "source": [
        "</td>"
      ],
      "id": "e8076d37-5b06-4cc5-bed4-541e1543ea6c"
    },
    {
      "cell_type": "raw",
      "metadata": {
        "raw_mimetype": "text/html"
      },
      "source": [
        "</tr>"
      ],
      "id": "c4c616fa-1dca-4bfe-90c4-dcebacf17751"
    },
    {
      "cell_type": "raw",
      "metadata": {
        "raw_mimetype": "text/html"
      },
      "source": [
        "<tr>"
      ],
      "id": "170b1cb3-c440-4746-b44d-9cec419e841e"
    },
    {
      "cell_type": "raw",
      "metadata": {
        "raw_mimetype": "text/html"
      },
      "source": [
        "<th scope=\"row\" style=\"width:10.5em;\">"
      ],
      "id": "cabddb36-627c-477f-a0e5-c6057581fa8e"
    },
    {
      "cell_type": "markdown",
      "metadata": {},
      "source": [
        "Lieu(x)"
      ],
      "id": "6463ca08-b3c5-433e-a474-ac1bbcb4a324"
    },
    {
      "cell_type": "raw",
      "metadata": {
        "raw_mimetype": "text/html"
      },
      "source": [
        "</th>"
      ],
      "id": "bdef0b7d-2298-4f02-8e8f-b749b3581286"
    },
    {
      "cell_type": "raw",
      "metadata": {
        "raw_mimetype": "text/html"
      },
      "source": [
        "<td>"
      ],
      "id": "2d0dcec8-6343-4049-b616-30644555200d"
    },
    {
      "cell_type": "markdown",
      "metadata": {},
      "source": [
        "<span class=\"datasortkey\" data-sort-value=\"France\"><span class=\"flagicon\"><a class=\"image\" href=\"/wiki/Fichier:Flag_of_France.svg\" title=\"Drapeau de la France\"><img alt=\"Drapeau de la France\" class=\"noviewer thumbborder\" data-file-height=\"600\" data-file-width=\"900\" decoding=\"async\" height=\"13\" src=\"//upload.wikimedia.org/wikipedia/commons/thumb/c/c3/Flag_of_France.svg/20px-Flag_of_France.svg.png\" srcset=\"//upload.wikimedia.org/wikipedia/commons/thumb/c/c3/Flag_of_France.svg/30px-Flag_of_France.svg.png 1.5x, //upload.wikimedia.org/wikipedia/commons/thumb/c/c3/Flag_of_France.svg/40px-Flag_of_France.svg.png 2x\" width=\"20\"/></a> </span><a href=\"/wiki/France\" title=\"France\">France</a></span> et <br/><span class=\"datasortkey\" data-sort-value=\"Monaco\"><span class=\"flagicon\"><a class=\"image\" href=\"/wiki/Fichier:Flag_of_Monaco.svg\" title=\"Drapeau de Monaco\"><img alt=\"Drapeau de Monaco\" class=\"noviewer thumbborder\" data-file-height=\"800\" data-file-width=\"1000\" decoding=\"async\" height=\"16\" src=\"//upload.wikimedia.org/wikipedia/commons/thumb/e/ea/Flag_of_Monaco.svg/20px-Flag_of_Monaco.svg.png\" srcset=\"//upload.wikimedia.org/wikipedia/commons/thumb/e/ea/Flag_of_Monaco.svg/30px-Flag_of_Monaco.svg.png 1.5x, //upload.wikimedia.org/wikipedia/commons/thumb/e/ea/Flag_of_Monaco.svg/40px-Flag_of_Monaco.svg.png 2x\" width=\"20\"/></a> </span><a href=\"/wiki/Monaco\" title=\"Monaco\">Monaco</a></span>"
      ],
      "id": "4b1125d7-2b13-4545-bbec-d9b89c850990"
    },
    {
      "cell_type": "raw",
      "metadata": {
        "raw_mimetype": "text/html"
      },
      "source": [
        "</td>"
      ],
      "id": "bc746d29-ff00-41d4-b5f2-01a60b095110"
    },
    {
      "cell_type": "raw",
      "metadata": {
        "raw_mimetype": "text/html"
      },
      "source": [
        "</tr>"
      ],
      "id": "5bb76028-d0bc-4baa-be52-6280a5a80f37"
    },
    {
      "cell_type": "raw",
      "metadata": {
        "raw_mimetype": "text/html"
      },
      "source": [
        "<tr>"
      ],
      "id": "f7537ac3-4392-42ab-a8e1-f80292f346df"
    },
    {
      "cell_type": "raw",
      "metadata": {
        "raw_mimetype": "text/html"
      },
      "source": [
        "<th scope=\"row\" style=\"width:10.5em;\">"
      ],
      "id": "bc5dc114-44c7-4772-b92e-71a50edf3875"
    },
    {
      "cell_type": "markdown",
      "metadata": {},
      "source": [
        "Date"
      ],
      "id": "29f7d8b5-ba2f-4096-8fe8-9b1037dbb8fa"
    },
    {
      "cell_type": "raw",
      "metadata": {
        "raw_mimetype": "text/html"
      },
      "source": [
        "</th>"
      ],
      "id": "e32f5208-b100-4294-86bd-6fd8e0b46ef7"
    },
    {
      "cell_type": "raw",
      "metadata": {
        "raw_mimetype": "text/html"
      },
      "source": [
        "<td>"
      ],
      "id": "10a7d4b4-0120-4bb3-a314-bc6e9c45c300"
    },
    {
      "cell_type": "markdown",
      "metadata": {},
      "source": [
        "Du <time class=\"nowrap date-lien\" data-sort-value=\"2019-08-09\" datetime=\"2019-08-09\"><a href=\"/wiki/9_ao%C3%BBt_en_sport\" title=\"9 août en sport\">9</a> <a class=\"mw-redirect\" href=\"/wiki/Ao%C3%BBt_2019_en_sport\" title=\"Août 2019 en sport\">août</a> <a href=\"/wiki/2019_en_football\" title=\"2019 en football\">2019</a></time><br/>au <time class=\"nowrap date-lien\" data-sort-value=\"2020-03-08\" datetime=\"2020-03-08\"><a href=\"/wiki/8_mars_en_sport\" title=\"8 mars en sport\">8 mars</a> <a href=\"/wiki/2020_en_football\" title=\"2020 en football\">2020</a></time> <small>(arrêt définitif)</small>"
      ],
      "id": "56bd4adb-2066-4c94-950c-402d7e4d4423"
    },
    {
      "cell_type": "raw",
      "metadata": {
        "raw_mimetype": "text/html"
      },
      "source": [
        "</td>"
      ],
      "id": "8a78a282-c022-4027-a8a7-75df40e613a1"
    },
    {
      "cell_type": "raw",
      "metadata": {
        "raw_mimetype": "text/html"
      },
      "source": [
        "</tr>"
      ],
      "id": "0c93e848-9d2f-4698-8efc-fa66fbea711e"
    },
    {
      "cell_type": "raw",
      "metadata": {
        "raw_mimetype": "text/html"
      },
      "source": [
        "<tr>"
      ],
      "id": "ccbb8e36-ada3-4eb5-9476-e8a6726fdff0"
    },
    {
      "cell_type": "raw",
      "metadata": {
        "raw_mimetype": "text/html"
      },
      "source": [
        "<th scope=\"row\" style=\"width:10.5em;\">"
      ],
      "id": "fba22be5-7415-486c-989b-5fa95a05eb0c"
    },
    {
      "cell_type": "markdown",
      "metadata": {},
      "source": [
        "Participants"
      ],
      "id": "bb029f8c-aa22-4185-9ce5-b01055e8a729"
    },
    {
      "cell_type": "raw",
      "metadata": {
        "raw_mimetype": "text/html"
      },
      "source": [
        "</th>"
      ],
      "id": "ebc47a91-edd8-4e67-93ea-4db751ccd0c7"
    },
    {
      "cell_type": "raw",
      "metadata": {
        "raw_mimetype": "text/html"
      },
      "source": [
        "<td>"
      ],
      "id": "258894b3-4ef5-490b-94f4-26391238d339"
    },
    {
      "cell_type": "markdown",
      "metadata": {},
      "source": [
        "20 équipes"
      ],
      "id": "ee1e0a23-d2a4-45cb-a2ab-590a41fd4f32"
    },
    {
      "cell_type": "raw",
      "metadata": {
        "raw_mimetype": "text/html"
      },
      "source": [
        "</td>"
      ],
      "id": "5b8442c1-22c7-43a6-b1a5-0f20f607f44b"
    },
    {
      "cell_type": "raw",
      "metadata": {
        "raw_mimetype": "text/html"
      },
      "source": [
        "</tr>"
      ],
      "id": "7c4e1fe0-0938-4cff-ab54-ca8a8b7ad191"
    },
    {
      "cell_type": "raw",
      "metadata": {
        "raw_mimetype": "text/html"
      },
      "source": [
        "<tr>"
      ],
      "id": "eb900b38-262c-453a-8bad-b47ea8098015"
    },
    {
      "cell_type": "raw",
      "metadata": {
        "raw_mimetype": "text/html"
      },
      "source": [
        "<th scope=\"row\" style=\"width:10.5em;\">"
      ],
      "id": "fa7cf742-c3df-4719-91d2-2b9e95949371"
    },
    {
      "cell_type": "markdown",
      "metadata": {},
      "source": [
        "Matchs joués"
      ],
      "id": "2fc8bfb9-265a-4ce7-9f3d-441f39ddacd6"
    },
    {
      "cell_type": "raw",
      "metadata": {
        "raw_mimetype": "text/html"
      },
      "source": [
        "</th>"
      ],
      "id": "b92aca44-8401-486e-9440-773f165109c4"
    },
    {
      "cell_type": "raw",
      "metadata": {
        "raw_mimetype": "text/html"
      },
      "source": [
        "<td>"
      ],
      "id": "2c733f89-511d-4a9a-9d5e-7e7128a95815"
    },
    {
      "cell_type": "markdown",
      "metadata": {},
      "source": [
        "279 (sur 380 prévus)"
      ],
      "id": "549eeafa-547d-490e-abfb-12087d9f7199"
    },
    {
      "cell_type": "raw",
      "metadata": {
        "raw_mimetype": "text/html"
      },
      "source": [
        "</td>"
      ],
      "id": "383c6b85-00e1-4965-9585-3939cc3ae202"
    },
    {
      "cell_type": "raw",
      "metadata": {
        "raw_mimetype": "text/html"
      },
      "source": [
        "</tr>"
      ],
      "id": "38f5cf62-48fd-40a6-affb-2fcdaa8be1a7"
    },
    {
      "cell_type": "raw",
      "metadata": {
        "raw_mimetype": "text/html"
      },
      "source": [
        "<tr>"
      ],
      "id": "b17915b0-f965-4d9f-91d3-cca227d05356"
    },
    {
      "cell_type": "raw",
      "metadata": {
        "raw_mimetype": "text/html"
      },
      "source": [
        "<th scope=\"row\" style=\"width:10.5em;\">"
      ],
      "id": "29d59d8e-e2e0-4aad-b886-5504fceb75ba"
    },
    {
      "cell_type": "markdown",
      "metadata": {},
      "source": [
        "Site web officiel"
      ],
      "id": "f8e7fa62-5f33-4b9d-886d-eaf9935842dc"
    },
    {
      "cell_type": "raw",
      "metadata": {
        "raw_mimetype": "text/html"
      },
      "source": [
        "</th>"
      ],
      "id": "f397c744-dfee-4230-9498-f72e8fb80be8"
    },
    {
      "cell_type": "raw",
      "metadata": {
        "raw_mimetype": "text/html"
      },
      "source": [
        "<td>"
      ],
      "id": "869cf5ee-c9a4-4db0-b4ac-cb66714bc92e"
    },
    {
      "cell_type": "markdown",
      "metadata": {},
      "source": [
        "<a class=\"external text\" href=\"https://www.ligue1.fr/\" rel=\"nofollow\">Site officiel</a>"
      ],
      "id": "50f55b48-a2b6-454e-8f48-c90a9e9a2745"
    },
    {
      "cell_type": "raw",
      "metadata": {
        "raw_mimetype": "text/html"
      },
      "source": [
        "</td>"
      ],
      "id": "6c9b4338-f33e-4105-81e7-ca4f123fec1d"
    },
    {
      "cell_type": "raw",
      "metadata": {
        "raw_mimetype": "text/html"
      },
      "source": [
        "</tr>"
      ],
      "id": "1915f43c-33a5-4c5c-8567-37c1144f1b55"
    },
    {
      "cell_type": "raw",
      "metadata": {
        "raw_mimetype": "text/html"
      },
      "source": [
        "</tbody>"
      ],
      "id": "cb056a79-a139-443e-b92e-20d8a6dae2b9"
    },
    {
      "cell_type": "raw",
      "metadata": {
        "raw_mimetype": "text/html"
      },
      "source": [
        "</table>"
      ],
      "id": "abe7e080-5184-4853-934b-bec59ab211d2"
    },
    {
      "cell_type": "markdown",
      "metadata": {},
      "source": [
        "## La méthode `findAll`\n",
        "\n",
        "Pour trouver toutes les occurences, on utilise `.findAll()`."
      ],
      "id": "6197ee62-1ccf-4e37-b76f-027184497538"
    },
    {
      "cell_type": "code",
      "execution_count": 9,
      "metadata": {},
      "outputs": [
        {
          "output_type": "stream",
          "name": "stdout",
          "text": [
            "Il y a 34 éléments dans la page qui sont des <table>"
          ]
        }
      ],
      "source": [
        "print(\"Il y a\", len(page.findAll(\"table\")), \"éléments dans la page qui sont des <table>\")"
      ],
      "id": "2c44e9eb-0623-48a2-9681-6a6001a77419"
    },
    {
      "cell_type": "markdown",
      "metadata": {},
      "source": [
        "# Exercice guidé : obtenir la liste des équipes de Ligue 1\n",
        "\n",
        "Dans le premier paragraphe de la page “Participants”, on a le tableau avec les résultats de l’année.\n",
        "\n",
        "{{% box status=“exercise” title=“Exercice” icon=“fas fa-pencil-alt” %}}\n",
        "Le but est de récupérer les informations contenues dans ce tableau.\n",
        "\n",
        "Pour cela, nous allons procéder en 6 étapes:\n",
        "\n",
        "1.  Trouver le tableau\n",
        "2.  Récupérer chaque ligne du table\n",
        "3.  Nettoyer les sorties en ne gardant que le texte sur une ligne\n",
        "4.  Généraliser sur toutes les lignes\n",
        "5.  Récupérer les entêtes du tableau\n",
        "6.  Finalisation du tableau\n",
        "\n",
        "{{% /box %}}\n",
        "\n",
        ":one:\n",
        "Trouver le tableau\n",
        "\n",
        "``` python\n",
        "# on identifie le tableau en question : c'est le premier qui a cette classe \"wikitable sortable\"\n",
        "tableau_participants = page.find('table', {'class' : 'wikitable sortable'})\n",
        "\n",
        "print(tableau_participants)\n",
        "```"
      ],
      "id": "73a70c77-45ca-43d3-9cd3-efaaa1bb8145"
    },
    {
      "cell_type": "raw",
      "metadata": {
        "raw_mimetype": "text/html"
      },
      "source": [
        "<table class=\"wikitable sortable\" style=\"font-size:90%;line-height:15px;text-align:center\">"
      ],
      "id": "34999b65-7463-4567-ab28-722ca235a3e4"
    },
    {
      "cell_type": "raw",
      "metadata": {
        "raw_mimetype": "text/html"
      },
      "source": [
        "<tbody>"
      ],
      "id": "c3260ca4-ffdd-438f-8961-39dcab24a686"
    },
    {
      "cell_type": "raw",
      "metadata": {
        "raw_mimetype": "text/html"
      },
      "source": [
        "<tr>"
      ],
      "id": "4025c25c-0178-4a18-96b7-cb43741d9e01"
    },
    {
      "cell_type": "raw",
      "metadata": {
        "raw_mimetype": "text/html"
      },
      "source": [
        "<th scope=\"col\">"
      ],
      "id": "f88d78ae-7a90-47da-a77f-0eff9d793a48"
    },
    {
      "cell_type": "markdown",
      "metadata": {},
      "source": [
        "Club"
      ],
      "id": "109b0f24-b694-4279-990b-2d941d734781"
    },
    {
      "cell_type": "raw",
      "metadata": {
        "raw_mimetype": "text/html"
      },
      "source": [
        "</th>"
      ],
      "id": "a41f12ba-9763-4dfe-ad77-2520a015c25c"
    },
    {
      "cell_type": "raw",
      "metadata": {
        "raw_mimetype": "text/html"
      },
      "source": [
        "<th scope=\"col\">"
      ],
      "id": "d1fea7ff-a697-4b41-9fb7-8b1be966e030"
    },
    {
      "cell_type": "markdown",
      "metadata": {},
      "source": [
        "Dernière<br/>montée"
      ],
      "id": "b41e34e8-8cdb-432b-aa8e-6168830a0c57"
    },
    {
      "cell_type": "raw",
      "metadata": {
        "raw_mimetype": "text/html"
      },
      "source": [
        "</th>"
      ],
      "id": "d82229b9-2cea-4c3e-b18f-fd162c6912dc"
    },
    {
      "cell_type": "raw",
      "metadata": {
        "raw_mimetype": "text/html"
      },
      "source": [
        "<th scope=\"col\">"
      ],
      "id": "a39b2368-0cef-49fe-a231-fd9813bfad2c"
    },
    {
      "cell_type": "markdown",
      "metadata": {},
      "source": [
        "Budget<sup class=\"reference\" id=\"cite_ref-3\"><a href=\"#cite_note-3\"><span class=\"cite_crochet\">\\[</span>3<span class=\"cite_crochet\">\\]</span></a></sup><br/>en M<a href=\"/wiki/Euro\" title=\"Euro\">€</a>"
      ],
      "id": "6ba6e571-76da-4182-8bac-d36dcca31d69"
    },
    {
      "cell_type": "raw",
      "metadata": {
        "raw_mimetype": "text/html"
      },
      "source": [
        "</th>"
      ],
      "id": "66ec5859-f4ea-4f65-8082-0c83085f7ae2"
    },
    {
      "cell_type": "raw",
      "metadata": {
        "raw_mimetype": "text/html"
      },
      "source": [
        "<th scope=\"col\">"
      ],
      "id": "8f01fa65-e16b-4818-93c5-5f46e03a942f"
    },
    {
      "cell_type": "markdown",
      "metadata": {},
      "source": [
        "Classement<br/><a href=\"/wiki/Championnat_de_France_de_football_2018-2019\" title=\"Championnat de France de football 2018-2019\">2018-2019</a>"
      ],
      "id": "948b0f53-c761-4004-8a80-10839986f3c7"
    },
    {
      "cell_type": "raw",
      "metadata": {
        "raw_mimetype": "text/html"
      },
      "source": [
        "</th>"
      ],
      "id": "3a20d423-9a02-4887-b9aa-e38f61aa287c"
    },
    {
      "cell_type": "raw",
      "metadata": {
        "raw_mimetype": "text/html"
      },
      "source": [
        "<th scope=\"col\">"
      ],
      "id": "21bb2301-59fc-469a-812c-b8d759df1f90"
    },
    {
      "cell_type": "markdown",
      "metadata": {},
      "source": [
        "Entraîneur"
      ],
      "id": "3d10067a-b8bd-492f-8cd5-bf16c28c78e7"
    },
    {
      "cell_type": "raw",
      "metadata": {
        "raw_mimetype": "text/html"
      },
      "source": [
        "</th>"
      ],
      "id": "28628123-7cdd-4866-b943-845b92c201c7"
    },
    {
      "cell_type": "raw",
      "metadata": {
        "raw_mimetype": "text/html"
      },
      "source": [
        "<th scope=\"col\">"
      ],
      "id": "55b60d0b-0f93-4e91-9a64-98d0c3414c54"
    },
    {
      "cell_type": "markdown",
      "metadata": {},
      "source": [
        "Depuis"
      ],
      "id": "6d2ecd5f-f1db-4bf8-9e91-b4162960e221"
    },
    {
      "cell_type": "raw",
      "metadata": {
        "raw_mimetype": "text/html"
      },
      "source": [
        "</th>"
      ],
      "id": "b0ab9952-1504-46db-87f2-771affed3469"
    },
    {
      "cell_type": "raw",
      "metadata": {
        "raw_mimetype": "text/html"
      },
      "source": [
        "<th scope=\"col\">"
      ],
      "id": "edd2f0a1-407d-4eef-8862-221d5571f8d6"
    },
    {
      "cell_type": "markdown",
      "metadata": {},
      "source": [
        "Stade"
      ],
      "id": "2f2b62ea-c48c-4240-bd27-4663186ebc07"
    },
    {
      "cell_type": "raw",
      "metadata": {
        "raw_mimetype": "text/html"
      },
      "source": [
        "</th>"
      ],
      "id": "7e3f5e42-2c44-486f-8ce6-0eef0f1a22a6"
    },
    {
      "cell_type": "raw",
      "metadata": {
        "raw_mimetype": "text/html"
      },
      "source": [
        "<th scope=\"col\">"
      ],
      "id": "6dea837e-a9c9-45a5-8332-8249968e8c31"
    },
    {
      "cell_type": "markdown",
      "metadata": {},
      "source": [
        "Capacité<br/>en L1<sup class=\"reference\" id=\"cite_ref-4\"><a href=\"#cite_note-4\"><span class=\"cite_crochet\">\\[</span>4<span class=\"cite_crochet\">\\]</span></a></sup>"
      ],
      "id": "3540106d-0e4c-41ce-9535-d254d0ba449a"
    },
    {
      "cell_type": "raw",
      "metadata": {
        "raw_mimetype": "text/html"
      },
      "source": [
        "</th>"
      ],
      "id": "f71715a6-d39d-4f56-8bd0-55b3a7fbaade"
    },
    {
      "cell_type": "raw",
      "metadata": {
        "raw_mimetype": "text/html"
      },
      "source": [
        "<th scope=\"col\">"
      ],
      "id": "e8580f06-e5fe-4a8a-8e98-1b479dded13d"
    },
    {
      "cell_type": "markdown",
      "metadata": {},
      "source": [
        "Nombre<br/>de saisons<br/>en L1"
      ],
      "id": "0a982a10-b4f0-4e8b-b4d2-64854dc4a080"
    },
    {
      "cell_type": "raw",
      "metadata": {
        "raw_mimetype": "text/html"
      },
      "source": [
        "</th>"
      ],
      "id": "20e4a4b2-b8fe-42a8-98bf-05f82b65a2c5"
    },
    {
      "cell_type": "raw",
      "metadata": {
        "raw_mimetype": "text/html"
      },
      "source": [
        "</tr>"
      ],
      "id": "409d745c-9a18-46cd-99dd-86de50b50f59"
    },
    {
      "cell_type": "raw",
      "metadata": {
        "raw_mimetype": "text/html"
      },
      "source": [
        "<tr bgcolor=\"#97DEFF\">"
      ],
      "id": "32185663-db03-4b90-a9f0-0a65e7267f5c"
    },
    {
      "cell_type": "raw",
      "metadata": {
        "raw_mimetype": "text/html"
      },
      "source": [
        "<td>"
      ],
      "id": "a1e08666-da6f-4d1d-b23e-5b744325264c"
    },
    {
      "cell_type": "markdown",
      "metadata": {},
      "source": [
        "<a href=\"/wiki/Paris_Saint-Germain_Football_Club\" title=\"Paris Saint-Germain Football Club\">Paris Saint-Germain</a>"
      ],
      "id": "bea36039-5ce4-4068-98be-93488abb62d9"
    },
    {
      "cell_type": "raw",
      "metadata": {
        "raw_mimetype": "text/html"
      },
      "source": [
        "</td>"
      ],
      "id": "fd5d436d-5f58-4b88-b4bf-aeebaa3cdb54"
    },
    {
      "cell_type": "raw",
      "metadata": {
        "raw_mimetype": "text/html"
      },
      "source": [
        "<td>"
      ],
      "id": "0315336a-7841-4b7d-8fb9-702b65374e82"
    },
    {
      "cell_type": "markdown",
      "metadata": {},
      "source": [
        "1974"
      ],
      "id": "b6d5dbeb-ec37-4ee4-a6f3-330d61c21281"
    },
    {
      "cell_type": "raw",
      "metadata": {
        "raw_mimetype": "text/html"
      },
      "source": [
        "</td>"
      ],
      "id": "55a816ac-8b79-4bc7-842b-cfa24e4d947b"
    },
    {
      "cell_type": "raw",
      "metadata": {
        "raw_mimetype": "text/html"
      },
      "source": [
        "<td>"
      ],
      "id": "3ab37ae8-49a7-4f44-aeb0-bda7433ec3bd"
    },
    {
      "cell_type": "markdown",
      "metadata": {},
      "source": [
        "637"
      ],
      "id": "74102a08-a9e9-46f0-a2fc-db7420b4bae4"
    },
    {
      "cell_type": "raw",
      "metadata": {
        "raw_mimetype": "text/html"
      },
      "source": [
        "</td>"
      ],
      "id": "72f93900-036c-4d67-9cdc-912029025440"
    },
    {
      "cell_type": "raw",
      "metadata": {
        "raw_mimetype": "text/html"
      },
      "source": [
        "<td>"
      ],
      "id": "8fdc74de-ed52-409a-a10f-e3ccf126edfa"
    },
    {
      "cell_type": "markdown",
      "metadata": {},
      "source": [
        "<span data-sort-value=\"101 !\"></span><abbr class=\"abbr\" title=\"Premier\">1<sup>er</sup></abbr>"
      ],
      "id": "b2f822ed-590f-4070-a00e-02aefcb72fd5"
    },
    {
      "cell_type": "raw",
      "metadata": {
        "raw_mimetype": "text/html"
      },
      "source": [
        "</td>"
      ],
      "id": "dd831229-f69f-49fd-b20b-8484c6d92bbc"
    },
    {
      "cell_type": "raw",
      "metadata": {
        "raw_mimetype": "text/html"
      },
      "source": [
        "<td align=\"left\">"
      ],
      "id": "14617a61-ec77-4f21-9292-389d4568036f"
    },
    {
      "cell_type": "markdown",
      "metadata": {},
      "source": [
        "<span class=\"flagicon\"><a class=\"image\" href=\"/wiki/Fichier:Flag_of_Germany.svg\" title=\"Drapeau : Allemagne\"><img alt=\"\" class=\"noviewer thumbborder\" data-file-height=\"600\" data-file-width=\"1000\" decoding=\"async\" height=\"12\" src=\"//upload.wikimedia.org/wikipedia/commons/thumb/b/ba/Flag_of_Germany.svg/20px-Flag_of_Germany.svg.png\" srcset=\"//upload.wikimedia.org/wikipedia/commons/thumb/b/ba/Flag_of_Germany.svg/30px-Flag_of_Germany.svg.png 1.5x, //upload.wikimedia.org/wikipedia/commons/thumb/b/ba/Flag_of_Germany.svg/40px-Flag_of_Germany.svg.png 2x\" width=\"20\"/></a></span> <a href=\"/wiki/Thomas_Tuchel\" title=\"Thomas Tuchel\">Thomas Tuchel</a>"
      ],
      "id": "b5c62e83-731a-4f24-82a3-9c3c0cdd61a5"
    },
    {
      "cell_type": "raw",
      "metadata": {
        "raw_mimetype": "text/html"
      },
      "source": [
        "</td>"
      ],
      "id": "edcb3a87-ad1e-46ce-aa03-784aaae8c64b"
    },
    {
      "cell_type": "raw",
      "metadata": {
        "raw_mimetype": "text/html"
      },
      "source": [
        "<td>"
      ],
      "id": "ee672b1a-4b3c-4391-91f6-0e9339717e44"
    },
    {
      "cell_type": "markdown",
      "metadata": {},
      "source": [
        "2018"
      ],
      "id": "70ee4c11-5a0d-4c03-806b-e094f823a72a"
    },
    {
      "cell_type": "raw",
      "metadata": {
        "raw_mimetype": "text/html"
      },
      "source": [
        "</td>"
      ],
      "id": "d27dbd5c-8ca6-454a-95db-41438e9c92c0"
    },
    {
      "cell_type": "raw",
      "metadata": {
        "raw_mimetype": "text/html"
      },
      "source": [
        "<td>"
      ],
      "id": "72c4501d-01c4-4ab2-80ad-f2641582bbfb"
    },
    {
      "cell_type": "markdown",
      "metadata": {},
      "source": [
        "<a href=\"/wiki/Parc_des_Princes\" title=\"Parc des Princes\">Parc des Princes</a>"
      ],
      "id": "bf7c6cd0-ca2f-406b-bfc1-3ae131e453bb"
    },
    {
      "cell_type": "raw",
      "metadata": {
        "raw_mimetype": "text/html"
      },
      "source": [
        "</td>"
      ],
      "id": "70ea19d6-cd6a-4ad3-bba9-733e8fa84759"
    },
    {
      "cell_type": "raw",
      "metadata": {
        "raw_mimetype": "text/html"
      },
      "source": [
        "<td>"
      ],
      "id": "38508704-0175-4ba0-a877-b54cbcd54a52"
    },
    {
      "cell_type": "markdown",
      "metadata": {},
      "source": [
        "47 929"
      ],
      "id": "6c617ec5-5ac5-40cf-ad6b-2f6598e8583c"
    },
    {
      "cell_type": "raw",
      "metadata": {
        "raw_mimetype": "text/html"
      },
      "source": [
        "</td>"
      ],
      "id": "1b1c5f34-5161-44fa-beb1-66ec5bc33ae6"
    },
    {
      "cell_type": "raw",
      "metadata": {
        "raw_mimetype": "text/html"
      },
      "source": [
        "<td>"
      ],
      "id": "f04b30a1-c8bc-4271-9d56-06ffdaa13755"
    },
    {
      "cell_type": "markdown",
      "metadata": {},
      "source": [
        "46"
      ],
      "id": "e0bba576-e3a5-4552-ade8-bdad6c95084d"
    },
    {
      "cell_type": "raw",
      "metadata": {
        "raw_mimetype": "text/html"
      },
      "source": [
        "</td>"
      ],
      "id": "471200e6-6376-48eb-8bee-1c723c62dc67"
    },
    {
      "cell_type": "raw",
      "metadata": {
        "raw_mimetype": "text/html"
      },
      "source": [
        "</tr>"
      ],
      "id": "9db8ea91-93a9-4f3f-89e1-74d3890b8a98"
    },
    {
      "cell_type": "raw",
      "metadata": {
        "raw_mimetype": "text/html"
      },
      "source": [
        "<tr bgcolor=\"#97DEFF\">"
      ],
      "id": "4d9f84a1-5c5e-497f-9037-eee62c12991d"
    },
    {
      "cell_type": "raw",
      "metadata": {
        "raw_mimetype": "text/html"
      },
      "source": [
        "<td>"
      ],
      "id": "a0a4a66e-aed9-419b-b4b2-ff854942a190"
    },
    {
      "cell_type": "markdown",
      "metadata": {},
      "source": [
        "<a href=\"/wiki/LOSC_Lille\" title=\"LOSC Lille\">LOSC Lille</a>"
      ],
      "id": "03e748d3-9a5b-4713-b6ba-052107878eed"
    },
    {
      "cell_type": "raw",
      "metadata": {
        "raw_mimetype": "text/html"
      },
      "source": [
        "</td>"
      ],
      "id": "cc3a3b54-b6a1-4622-8e09-99aeee353bb5"
    },
    {
      "cell_type": "raw",
      "metadata": {
        "raw_mimetype": "text/html"
      },
      "source": [
        "<td>"
      ],
      "id": "43c21921-053b-46d7-a7a6-00990b786d14"
    },
    {
      "cell_type": "markdown",
      "metadata": {},
      "source": [
        "2000"
      ],
      "id": "91b6a308-a7b2-476c-8669-00df7c83cb88"
    },
    {
      "cell_type": "raw",
      "metadata": {
        "raw_mimetype": "text/html"
      },
      "source": [
        "</td>"
      ],
      "id": "ec8f9d31-ff6a-491d-857d-bcb5d7a6ae22"
    },
    {
      "cell_type": "raw",
      "metadata": {
        "raw_mimetype": "text/html"
      },
      "source": [
        "<td>"
      ],
      "id": "0875cf60-923d-4ec4-8e18-f1292ce0fda9"
    },
    {
      "cell_type": "markdown",
      "metadata": {},
      "source": [
        "120"
      ],
      "id": "1f295a53-c9cd-428c-8cc5-5cf9cbceb78a"
    },
    {
      "cell_type": "raw",
      "metadata": {
        "raw_mimetype": "text/html"
      },
      "source": [
        "</td>"
      ],
      "id": "5ff72f60-4fc8-4f36-a739-316de7000d09"
    },
    {
      "cell_type": "raw",
      "metadata": {
        "raw_mimetype": "text/html"
      },
      "source": [
        "<td>"
      ],
      "id": "8bae1649-9bc1-4dd9-b32a-262f12659635"
    },
    {
      "cell_type": "markdown",
      "metadata": {},
      "source": [
        "<span data-sort-value=\"102 !\"></span><abbr class=\"abbr\" title=\"Deuxième\">2<sup>e</sup></abbr>"
      ],
      "id": "2ef53a5b-852b-477f-a344-687642c1a464"
    },
    {
      "cell_type": "raw",
      "metadata": {
        "raw_mimetype": "text/html"
      },
      "source": [
        "</td>"
      ],
      "id": "e9ba95cd-705b-49a4-a10b-5517ca9b1ba2"
    },
    {
      "cell_type": "raw",
      "metadata": {
        "raw_mimetype": "text/html"
      },
      "source": [
        "<td align=\"left\">"
      ],
      "id": "eac3be9a-a96a-4616-a747-5d9888364af6"
    },
    {
      "cell_type": "markdown",
      "metadata": {},
      "source": [
        "<span class=\"flagicon\"><a class=\"image\" href=\"/wiki/Fichier:Flag_of_France.svg\" title=\"Drapeau : France\"><img alt=\"\" class=\"noviewer thumbborder\" data-file-height=\"600\" data-file-width=\"900\" decoding=\"async\" height=\"13\" src=\"//upload.wikimedia.org/wikipedia/commons/thumb/c/c3/Flag_of_France.svg/20px-Flag_of_France.svg.png\" srcset=\"//upload.wikimedia.org/wikipedia/commons/thumb/c/c3/Flag_of_France.svg/30px-Flag_of_France.svg.png 1.5x, //upload.wikimedia.org/wikipedia/commons/thumb/c/c3/Flag_of_France.svg/40px-Flag_of_France.svg.png 2x\" width=\"20\"/></a></span> <a href=\"/wiki/Christophe_Galtier\" title=\"Christophe Galtier\">Christophe Galtier</a>"
      ],
      "id": "6e694056-80d8-4d8d-9e2c-a0e850ae517b"
    },
    {
      "cell_type": "raw",
      "metadata": {
        "raw_mimetype": "text/html"
      },
      "source": [
        "</td>"
      ],
      "id": "600fb183-30d6-45c4-8cf3-dad11668e939"
    },
    {
      "cell_type": "raw",
      "metadata": {
        "raw_mimetype": "text/html"
      },
      "source": [
        "<td>"
      ],
      "id": "bfcbacbd-65ed-4d63-8f87-72c0029745da"
    },
    {
      "cell_type": "markdown",
      "metadata": {},
      "source": [
        "2017"
      ],
      "id": "ff2640dc-a41d-4753-a6f4-a2971685dda7"
    },
    {
      "cell_type": "raw",
      "metadata": {
        "raw_mimetype": "text/html"
      },
      "source": [
        "</td>"
      ],
      "id": "99d6c066-e9df-4700-8738-8ee64b5f29a0"
    },
    {
      "cell_type": "raw",
      "metadata": {
        "raw_mimetype": "text/html"
      },
      "source": [
        "<td>"
      ],
      "id": "b87a4063-63ac-4f0b-9b41-0db328f443ed"
    },
    {
      "cell_type": "markdown",
      "metadata": {},
      "source": [
        "<a href=\"/wiki/Stade_Pierre-Mauroy\" title=\"Stade Pierre-Mauroy\">Stade Pierre-Mauroy</a>"
      ],
      "id": "b083b4a2-cd85-4a00-a901-3b6d1b80d6f9"
    },
    {
      "cell_type": "raw",
      "metadata": {
        "raw_mimetype": "text/html"
      },
      "source": [
        "</td>"
      ],
      "id": "b33aeb95-d971-4fdd-8629-908646886262"
    },
    {
      "cell_type": "raw",
      "metadata": {
        "raw_mimetype": "text/html"
      },
      "source": [
        "<td>"
      ],
      "id": "793a1974-24a1-42cc-9533-aa34035ac52e"
    },
    {
      "cell_type": "markdown",
      "metadata": {},
      "source": [
        "49 712"
      ],
      "id": "22d8f9a1-f65d-4924-930c-bf8cae5d730e"
    },
    {
      "cell_type": "raw",
      "metadata": {
        "raw_mimetype": "text/html"
      },
      "source": [
        "</td>"
      ],
      "id": "c202f00a-a35c-4683-8f7b-f6e35cf9e097"
    },
    {
      "cell_type": "raw",
      "metadata": {
        "raw_mimetype": "text/html"
      },
      "source": [
        "<td>"
      ],
      "id": "7bc0009a-f43a-48ab-9698-bc18fa108884"
    },
    {
      "cell_type": "markdown",
      "metadata": {},
      "source": [
        "59"
      ],
      "id": "20532515-5fd4-412e-9867-1ee5882e2853"
    },
    {
      "cell_type": "raw",
      "metadata": {
        "raw_mimetype": "text/html"
      },
      "source": [
        "</td>"
      ],
      "id": "f7a2789f-9a72-46b6-b6f7-71ef41d6e689"
    },
    {
      "cell_type": "raw",
      "metadata": {
        "raw_mimetype": "text/html"
      },
      "source": [
        "</tr>"
      ],
      "id": "580eee6d-f884-463a-ad6e-39ccb9b69c26"
    },
    {
      "cell_type": "raw",
      "metadata": {
        "raw_mimetype": "text/html"
      },
      "source": [
        "<tr bgcolor=\"#97DEFF\">"
      ],
      "id": "e0d7a33c-bd40-45ea-938b-8d5b8bb2026b"
    },
    {
      "cell_type": "raw",
      "metadata": {
        "raw_mimetype": "text/html"
      },
      "source": [
        "<td>"
      ],
      "id": "29f79edf-a99c-42e3-8511-6001f0742c92"
    },
    {
      "cell_type": "markdown",
      "metadata": {},
      "source": [
        "<a href=\"/wiki/Olympique_lyonnais\" title=\"Olympique lyonnais\">Olympique lyonnais</a>"
      ],
      "id": "fbf00513-547d-4326-b0dd-701be7e8a57e"
    },
    {
      "cell_type": "raw",
      "metadata": {
        "raw_mimetype": "text/html"
      },
      "source": [
        "</td>"
      ],
      "id": "999c8675-1e2b-45c0-a1d2-172697eb2719"
    },
    {
      "cell_type": "raw",
      "metadata": {
        "raw_mimetype": "text/html"
      },
      "source": [
        "<td>"
      ],
      "id": "4c89856d-169a-4ad0-b3f4-4af851295389"
    },
    {
      "cell_type": "markdown",
      "metadata": {},
      "source": [
        "1989"
      ],
      "id": "f278cfe7-b32c-41ea-b154-dcfaf59115be"
    },
    {
      "cell_type": "raw",
      "metadata": {
        "raw_mimetype": "text/html"
      },
      "source": [
        "</td>"
      ],
      "id": "44ad8ab2-c1ab-44cc-aec4-1243b933d89e"
    },
    {
      "cell_type": "raw",
      "metadata": {
        "raw_mimetype": "text/html"
      },
      "source": [
        "<td>"
      ],
      "id": "0fc0620d-df81-4b1a-a859-95b86fd42d46"
    },
    {
      "cell_type": "markdown",
      "metadata": {},
      "source": [
        "310"
      ],
      "id": "4a46204d-1da8-46ba-a548-6d77ab33e8f6"
    },
    {
      "cell_type": "raw",
      "metadata": {
        "raw_mimetype": "text/html"
      },
      "source": [
        "</td>"
      ],
      "id": "21f2f2e4-eacf-409a-afd2-22cbb8cffd4a"
    },
    {
      "cell_type": "raw",
      "metadata": {
        "raw_mimetype": "text/html"
      },
      "source": [
        "<td>"
      ],
      "id": "18caba2f-5c06-4eb8-8453-78ee6dc785c0"
    },
    {
      "cell_type": "markdown",
      "metadata": {},
      "source": [
        "<span data-sort-value=\"103 !\"></span><abbr class=\"abbr\" title=\"Troisième\">3<sup>e</sup></abbr>"
      ],
      "id": "838f9556-6abd-43c0-a9ff-7f07b3dec900"
    },
    {
      "cell_type": "raw",
      "metadata": {
        "raw_mimetype": "text/html"
      },
      "source": [
        "</td>"
      ],
      "id": "d269f31e-6d42-451e-a93d-c4db6505d8e1"
    },
    {
      "cell_type": "raw",
      "metadata": {
        "raw_mimetype": "text/html"
      },
      "source": [
        "<td align=\"left\">"
      ],
      "id": "4abaf982-fc3d-44bf-b5e5-d58de9bd5eee"
    },
    {
      "cell_type": "markdown",
      "metadata": {},
      "source": [
        "<span class=\"flagicon\"><a class=\"image\" href=\"/wiki/Fichier:Flag_of_France.svg\" title=\"Drapeau : France\"><img alt=\"\" class=\"noviewer thumbborder\" data-file-height=\"600\" data-file-width=\"900\" decoding=\"async\" height=\"13\" src=\"//upload.wikimedia.org/wikipedia/commons/thumb/c/c3/Flag_of_France.svg/20px-Flag_of_France.svg.png\" srcset=\"//upload.wikimedia.org/wikipedia/commons/thumb/c/c3/Flag_of_France.svg/30px-Flag_of_France.svg.png 1.5x, //upload.wikimedia.org/wikipedia/commons/thumb/c/c3/Flag_of_France.svg/40px-Flag_of_France.svg.png 2x\" width=\"20\"/></a></span> <a href=\"/wiki/Rudi_Garcia\" title=\"Rudi Garcia\">Rudi Garcia</a>"
      ],
      "id": "00a5dd48-377b-4e3a-9fc5-98c63f0b8498"
    },
    {
      "cell_type": "raw",
      "metadata": {
        "raw_mimetype": "text/html"
      },
      "source": [
        "</td>"
      ],
      "id": "5fbe31ee-2ed7-4798-90db-39f08c8d0547"
    },
    {
      "cell_type": "raw",
      "metadata": {
        "raw_mimetype": "text/html"
      },
      "source": [
        "<td>"
      ],
      "id": "4074b1d6-e7fe-40d5-88e0-3f0828ced59a"
    },
    {
      "cell_type": "markdown",
      "metadata": {},
      "source": [
        "2019"
      ],
      "id": "fa67bd78-c49e-449d-8358-f203d31edf47"
    },
    {
      "cell_type": "raw",
      "metadata": {
        "raw_mimetype": "text/html"
      },
      "source": [
        "</td>"
      ],
      "id": "fe2104c4-00cb-4cab-8fdc-191d60d14a95"
    },
    {
      "cell_type": "raw",
      "metadata": {
        "raw_mimetype": "text/html"
      },
      "source": [
        "<td>"
      ],
      "id": "05af3ada-ac3c-450b-a699-482999a2a65d"
    },
    {
      "cell_type": "markdown",
      "metadata": {},
      "source": [
        "<a href=\"/wiki/Parc_Olympique_lyonnais\" title=\"Parc Olympique lyonnais\">Groupama Stadium</a>"
      ],
      "id": "3751bfc0-2ed1-4584-98fe-b88991eeebb0"
    },
    {
      "cell_type": "raw",
      "metadata": {
        "raw_mimetype": "text/html"
      },
      "source": [
        "</td>"
      ],
      "id": "ed7e65ee-8930-4763-ae4a-b5cd2459011c"
    },
    {
      "cell_type": "raw",
      "metadata": {
        "raw_mimetype": "text/html"
      },
      "source": [
        "<td>"
      ],
      "id": "1aea7f9f-6b94-4904-abad-d4f7f2e297bc"
    },
    {
      "cell_type": "markdown",
      "metadata": {},
      "source": [
        "57 206"
      ],
      "id": "e5e242b0-b8fc-41de-b3de-9fea962a9d0a"
    },
    {
      "cell_type": "raw",
      "metadata": {
        "raw_mimetype": "text/html"
      },
      "source": [
        "</td>"
      ],
      "id": "99a551ce-e05d-456e-88f7-327546ca0d36"
    },
    {
      "cell_type": "raw",
      "metadata": {
        "raw_mimetype": "text/html"
      },
      "source": [
        "<td>"
      ],
      "id": "7745e68f-c0ac-4447-a3d4-ecc650e324a0"
    },
    {
      "cell_type": "markdown",
      "metadata": {},
      "source": [
        "60"
      ],
      "id": "024c4438-70cc-47cc-9983-a0a8d11b45fd"
    },
    {
      "cell_type": "raw",
      "metadata": {
        "raw_mimetype": "text/html"
      },
      "source": [
        "</td>"
      ],
      "id": "7cd17ed0-1781-44d6-98ce-b5d527a0faf6"
    },
    {
      "cell_type": "raw",
      "metadata": {
        "raw_mimetype": "text/html"
      },
      "source": [
        "</tr>"
      ],
      "id": "970c325c-9bbb-44dd-9ea0-f4367db8a7b6"
    },
    {
      "cell_type": "raw",
      "metadata": {
        "raw_mimetype": "text/html"
      },
      "source": [
        "<tr bgcolor=\"#FFE052\">"
      ],
      "id": "77a98cf9-57fa-413b-aff2-7b2842ca7a7b"
    },
    {
      "cell_type": "raw",
      "metadata": {
        "raw_mimetype": "text/html"
      },
      "source": [
        "<td>"
      ],
      "id": "7958756f-36ef-4478-80f0-3cd5bf6b1511"
    },
    {
      "cell_type": "markdown",
      "metadata": {},
      "source": [
        "<a href=\"/wiki/Association_sportive_de_Saint-%C3%89tienne\" title=\"Association sportive de Saint-Étienne\">AS Saint-Étienne</a>"
      ],
      "id": "93835654-e1a7-4f4b-be78-e9f20b3022ce"
    },
    {
      "cell_type": "raw",
      "metadata": {
        "raw_mimetype": "text/html"
      },
      "source": [
        "</td>"
      ],
      "id": "4c0dbc89-2eb9-40bf-991e-03d8218fda09"
    },
    {
      "cell_type": "raw",
      "metadata": {
        "raw_mimetype": "text/html"
      },
      "source": [
        "<td>"
      ],
      "id": "7640a01b-cb0c-494e-9d8d-e2d62ae5601c"
    },
    {
      "cell_type": "markdown",
      "metadata": {},
      "source": [
        "2004"
      ],
      "id": "847a71b6-c2d8-4cec-b5df-8212fff05aa7"
    },
    {
      "cell_type": "raw",
      "metadata": {
        "raw_mimetype": "text/html"
      },
      "source": [
        "</td>"
      ],
      "id": "5ebae27e-cc14-4cd0-b6e9-9fedafa4bbb2"
    },
    {
      "cell_type": "raw",
      "metadata": {
        "raw_mimetype": "text/html"
      },
      "source": [
        "<td>"
      ],
      "id": "b1c4e3d5-c3be-4595-a6be-72a7fe3160cc"
    },
    {
      "cell_type": "markdown",
      "metadata": {},
      "source": [
        "100"
      ],
      "id": "77488c6a-aa89-489a-aaab-70dbe4c1ede0"
    },
    {
      "cell_type": "raw",
      "metadata": {
        "raw_mimetype": "text/html"
      },
      "source": [
        "</td>"
      ],
      "id": "899c7a73-7742-4a80-a543-e18178e18c2f"
    },
    {
      "cell_type": "raw",
      "metadata": {
        "raw_mimetype": "text/html"
      },
      "source": [
        "<td>"
      ],
      "id": "cf7806a2-12e9-477c-9637-bb1a1b01c01a"
    },
    {
      "cell_type": "markdown",
      "metadata": {},
      "source": [
        "<span data-sort-value=\"104 !\"></span><abbr class=\"abbr\" title=\"Quatrième\">4<sup>e</sup></abbr>"
      ],
      "id": "4c4df5de-2424-408a-86ef-d788e8197928"
    },
    {
      "cell_type": "raw",
      "metadata": {
        "raw_mimetype": "text/html"
      },
      "source": [
        "</td>"
      ],
      "id": "befb4c50-b1f3-40f2-a93b-dab8c073aa27"
    },
    {
      "cell_type": "raw",
      "metadata": {
        "raw_mimetype": "text/html"
      },
      "source": [
        "<td align=\"left\">"
      ],
      "id": "c8b56476-caad-46d8-be3f-357c5267944c"
    },
    {
      "cell_type": "markdown",
      "metadata": {},
      "source": [
        "<span class=\"flagicon\"><a class=\"image\" href=\"/wiki/Fichier:Flag_of_France.svg\" title=\"Drapeau : France\"><img alt=\"\" class=\"noviewer thumbborder\" data-file-height=\"600\" data-file-width=\"900\" decoding=\"async\" height=\"13\" src=\"//upload.wikimedia.org/wikipedia/commons/thumb/c/c3/Flag_of_France.svg/20px-Flag_of_France.svg.png\" srcset=\"//upload.wikimedia.org/wikipedia/commons/thumb/c/c3/Flag_of_France.svg/30px-Flag_of_France.svg.png 1.5x, //upload.wikimedia.org/wikipedia/commons/thumb/c/c3/Flag_of_France.svg/40px-Flag_of_France.svg.png 2x\" width=\"20\"/></a></span> <a href=\"/wiki/Claude_Puel\" title=\"Claude Puel\">Claude Puel</a>"
      ],
      "id": "1dd74062-7ade-4fc8-8168-9bfe98675da8"
    },
    {
      "cell_type": "raw",
      "metadata": {
        "raw_mimetype": "text/html"
      },
      "source": [
        "</td>"
      ],
      "id": "203710a6-a71c-4eac-a160-f40cda833f66"
    },
    {
      "cell_type": "raw",
      "metadata": {
        "raw_mimetype": "text/html"
      },
      "source": [
        "<td>"
      ],
      "id": "09694383-1989-46f7-9057-d586bc6531f5"
    },
    {
      "cell_type": "markdown",
      "metadata": {},
      "source": [
        "2019"
      ],
      "id": "78d8b9af-f918-47d1-b5c9-a99c304bfab8"
    },
    {
      "cell_type": "raw",
      "metadata": {
        "raw_mimetype": "text/html"
      },
      "source": [
        "</td>"
      ],
      "id": "73a5eeb8-62a6-4236-8c5c-fe68ecd4c106"
    },
    {
      "cell_type": "raw",
      "metadata": {
        "raw_mimetype": "text/html"
      },
      "source": [
        "<td>"
      ],
      "id": "ba9b796f-99b2-4506-b0f3-166c770477e1"
    },
    {
      "cell_type": "markdown",
      "metadata": {},
      "source": [
        "<a href=\"/wiki/Stade_Geoffroy-Guichard\" title=\"Stade Geoffroy-Guichard\">Stade Geoffroy-Guichard</a>"
      ],
      "id": "7bbb7547-905d-496d-8e11-d275b2bed0bc"
    },
    {
      "cell_type": "raw",
      "metadata": {
        "raw_mimetype": "text/html"
      },
      "source": [
        "</td>"
      ],
      "id": "7a9320d7-6e5c-4470-827f-965536210df2"
    },
    {
      "cell_type": "raw",
      "metadata": {
        "raw_mimetype": "text/html"
      },
      "source": [
        "<td>"
      ],
      "id": "c499493d-d3a8-4619-a4d0-c1711d0dc1fd"
    },
    {
      "cell_type": "markdown",
      "metadata": {},
      "source": [
        "41 965"
      ],
      "id": "ae70c53a-68ac-4ea7-9544-f09e11ae18e0"
    },
    {
      "cell_type": "raw",
      "metadata": {
        "raw_mimetype": "text/html"
      },
      "source": [
        "</td>"
      ],
      "id": "659943e8-aa8d-480e-85dc-12fe8e897b68"
    },
    {
      "cell_type": "raw",
      "metadata": {
        "raw_mimetype": "text/html"
      },
      "source": [
        "<td>"
      ],
      "id": "d8d9ed8a-830c-4bf7-be10-0d78221d73c9"
    },
    {
      "cell_type": "markdown",
      "metadata": {},
      "source": [
        "66"
      ],
      "id": "63c6aca0-f711-42e2-b3e0-fccdcbb149f1"
    },
    {
      "cell_type": "raw",
      "metadata": {
        "raw_mimetype": "text/html"
      },
      "source": [
        "</td>"
      ],
      "id": "c292f6ae-838f-4e71-9305-f4edbed69a38"
    },
    {
      "cell_type": "raw",
      "metadata": {
        "raw_mimetype": "text/html"
      },
      "source": [
        "</tr>"
      ],
      "id": "1674a9c5-b127-4b1c-964f-f9b46fead422"
    },
    {
      "cell_type": "raw",
      "metadata": {
        "raw_mimetype": "text/html"
      },
      "source": [
        "<tr>"
      ],
      "id": "3620f818-6988-47fb-bc50-064162383224"
    },
    {
      "cell_type": "raw",
      "metadata": {
        "raw_mimetype": "text/html"
      },
      "source": [
        "<td>"
      ],
      "id": "0a2683c4-286d-409b-a628-4ce25494404f"
    },
    {
      "cell_type": "markdown",
      "metadata": {},
      "source": [
        "<a href=\"/wiki/Olympique_de_Marseille\" title=\"Olympique de Marseille\">Olympique de Marseille</a>"
      ],
      "id": "673446aa-c2f4-42a7-9ebf-2bb0d76686f0"
    },
    {
      "cell_type": "raw",
      "metadata": {
        "raw_mimetype": "text/html"
      },
      "source": [
        "</td>"
      ],
      "id": "e773cc44-edc5-4569-930a-5491d91d566b"
    },
    {
      "cell_type": "raw",
      "metadata": {
        "raw_mimetype": "text/html"
      },
      "source": [
        "<td>"
      ],
      "id": "d9d4ece7-d131-4b78-b47f-8b7cca70c1c1"
    },
    {
      "cell_type": "markdown",
      "metadata": {},
      "source": [
        "1996"
      ],
      "id": "dae5a885-3ce3-455c-9d95-992e03b33e0a"
    },
    {
      "cell_type": "raw",
      "metadata": {
        "raw_mimetype": "text/html"
      },
      "source": [
        "</td>"
      ],
      "id": "9d69edcb-7a86-4ff4-9f23-22c9beccfd9f"
    },
    {
      "cell_type": "raw",
      "metadata": {
        "raw_mimetype": "text/html"
      },
      "source": [
        "<td>"
      ],
      "id": "71537082-4bf6-4769-bce6-9217a5fb3467"
    },
    {
      "cell_type": "markdown",
      "metadata": {},
      "source": [
        "110"
      ],
      "id": "c670f092-5444-47e5-9580-cc1f39fcda73"
    },
    {
      "cell_type": "raw",
      "metadata": {
        "raw_mimetype": "text/html"
      },
      "source": [
        "</td>"
      ],
      "id": "6aeb06e4-ae44-4e58-bf6e-dc1752febee8"
    },
    {
      "cell_type": "raw",
      "metadata": {
        "raw_mimetype": "text/html"
      },
      "source": [
        "<td>"
      ],
      "id": "49635e33-06ef-4b9b-9564-f1c935dfdd20"
    },
    {
      "cell_type": "markdown",
      "metadata": {},
      "source": [
        "<span data-sort-value=\"105 !\"></span><abbr class=\"abbr\" title=\"Cinquième\">5<sup>e</sup></abbr>"
      ],
      "id": "d851a005-dbfb-4b8e-9d15-f31d3b3afdf4"
    },
    {
      "cell_type": "raw",
      "metadata": {
        "raw_mimetype": "text/html"
      },
      "source": [
        "</td>"
      ],
      "id": "e53c92c3-bff9-432c-aee5-942e2ac78ecc"
    },
    {
      "cell_type": "raw",
      "metadata": {
        "raw_mimetype": "text/html"
      },
      "source": [
        "<td align=\"left\">"
      ],
      "id": "8fbac4f0-23b0-44a7-8f26-b3fe0ef25325"
    },
    {
      "cell_type": "markdown",
      "metadata": {},
      "source": [
        "<span class=\"flagicon\"><a class=\"image\" href=\"/wiki/Fichier:Flag_of_Portugal.svg\" title=\"Drapeau : Portugal\"><img alt=\"\" class=\"noviewer thumbborder\" data-file-height=\"400\" data-file-width=\"600\" decoding=\"async\" height=\"13\" src=\"//upload.wikimedia.org/wikipedia/commons/thumb/5/5c/Flag_of_Portugal.svg/20px-Flag_of_Portugal.svg.png\" srcset=\"//upload.wikimedia.org/wikipedia/commons/thumb/5/5c/Flag_of_Portugal.svg/30px-Flag_of_Portugal.svg.png 1.5x, //upload.wikimedia.org/wikipedia/commons/thumb/5/5c/Flag_of_Portugal.svg/40px-Flag_of_Portugal.svg.png 2x\" width=\"20\"/></a></span> <a href=\"/wiki/Andr%C3%A9_Villas-Boas\" title=\"André Villas-Boas\">André Villas-Boas</a>"
      ],
      "id": "4c3b9a52-a104-4ee2-88bb-ba00eebd4cea"
    },
    {
      "cell_type": "raw",
      "metadata": {
        "raw_mimetype": "text/html"
      },
      "source": [
        "</td>"
      ],
      "id": "2dc9df8b-9853-4d78-ab59-661bf3dc6bf0"
    },
    {
      "cell_type": "raw",
      "metadata": {
        "raw_mimetype": "text/html"
      },
      "source": [
        "<td>"
      ],
      "id": "0dcf0e03-6a93-47b1-84e0-56d2e8789b82"
    },
    {
      "cell_type": "markdown",
      "metadata": {},
      "source": [
        "2019"
      ],
      "id": "e513187d-0b9c-4aa5-9689-d0f23b595b4d"
    },
    {
      "cell_type": "raw",
      "metadata": {
        "raw_mimetype": "text/html"
      },
      "source": [
        "</td>"
      ],
      "id": "a0d6e64f-1d26-4fb4-9973-e489f3049ce4"
    },
    {
      "cell_type": "raw",
      "metadata": {
        "raw_mimetype": "text/html"
      },
      "source": [
        "<td>"
      ],
      "id": "b72c843a-934d-4ce5-a92f-833e13663eb1"
    },
    {
      "cell_type": "markdown",
      "metadata": {},
      "source": [
        "<a href=\"/wiki/Stade_V%C3%A9lodrome\" title=\"Stade Vélodrome\">Orange Vélodrome</a>"
      ],
      "id": "dbc6ed63-b07a-487e-b24d-eebae226ee83"
    },
    {
      "cell_type": "raw",
      "metadata": {
        "raw_mimetype": "text/html"
      },
      "source": [
        "</td>"
      ],
      "id": "b5566d99-34fe-42e8-8f35-a2dc25009de2"
    },
    {
      "cell_type": "raw",
      "metadata": {
        "raw_mimetype": "text/html"
      },
      "source": [
        "<td>"
      ],
      "id": "1774a29f-f501-4386-b13e-71ce2ff42746"
    },
    {
      "cell_type": "markdown",
      "metadata": {},
      "source": [
        "66 226"
      ],
      "id": "781f16da-989a-4196-b71b-3b2c92ebb848"
    },
    {
      "cell_type": "raw",
      "metadata": {
        "raw_mimetype": "text/html"
      },
      "source": [
        "</td>"
      ],
      "id": "d596d29c-f74e-4832-80ba-bef36db1970c"
    },
    {
      "cell_type": "raw",
      "metadata": {
        "raw_mimetype": "text/html"
      },
      "source": [
        "<td>"
      ],
      "id": "fcb083d5-6a76-4acf-be8f-5c31aee87a09"
    },
    {
      "cell_type": "markdown",
      "metadata": {},
      "source": [
        "69"
      ],
      "id": "417fdfa1-cab7-49ec-bf17-43e8ca69aa1d"
    },
    {
      "cell_type": "raw",
      "metadata": {
        "raw_mimetype": "text/html"
      },
      "source": [
        "</td>"
      ],
      "id": "5b711161-912f-4f71-be30-e28555174045"
    },
    {
      "cell_type": "raw",
      "metadata": {
        "raw_mimetype": "text/html"
      },
      "source": [
        "</tr>"
      ],
      "id": "eda8ab66-b912-4bcc-aefd-639c2bdfe0f7"
    },
    {
      "cell_type": "raw",
      "metadata": {
        "raw_mimetype": "text/html"
      },
      "source": [
        "<tr>"
      ],
      "id": "c538bea0-4839-4c87-a385-3189fa13b802"
    },
    {
      "cell_type": "raw",
      "metadata": {
        "raw_mimetype": "text/html"
      },
      "source": [
        "<td>"
      ],
      "id": "4f56ec96-3980-4ea0-9fae-4a27b90ea04a"
    },
    {
      "cell_type": "markdown",
      "metadata": {},
      "source": [
        "<a href=\"/wiki/Montpellier_H%C3%A9rault_Sport_Club\" title=\"Montpellier Hérault Sport Club\">Montpellier HSC</a>"
      ],
      "id": "855506a8-489d-44cc-9de5-a953a511d3e1"
    },
    {
      "cell_type": "raw",
      "metadata": {
        "raw_mimetype": "text/html"
      },
      "source": [
        "</td>"
      ],
      "id": "d1bb4c67-c2f6-446b-a91c-2ac0ffd5b20f"
    },
    {
      "cell_type": "raw",
      "metadata": {
        "raw_mimetype": "text/html"
      },
      "source": [
        "<td>"
      ],
      "id": "a20ae10a-bc39-46b6-8987-2420538d3509"
    },
    {
      "cell_type": "markdown",
      "metadata": {},
      "source": [
        "2009"
      ],
      "id": "63508c5f-ba8b-4013-be3c-a2a1d05b6d5f"
    },
    {
      "cell_type": "raw",
      "metadata": {
        "raw_mimetype": "text/html"
      },
      "source": [
        "</td>"
      ],
      "id": "0542e1c9-2c74-4c65-9880-7f53c50c0f83"
    },
    {
      "cell_type": "raw",
      "metadata": {
        "raw_mimetype": "text/html"
      },
      "source": [
        "<td>"
      ],
      "id": "c1b00584-a6dc-44fa-861f-e414b05ca8d9"
    },
    {
      "cell_type": "markdown",
      "metadata": {},
      "source": [
        "40"
      ],
      "id": "334f35ad-abfe-4ed0-b60b-add39a0ef212"
    },
    {
      "cell_type": "raw",
      "metadata": {
        "raw_mimetype": "text/html"
      },
      "source": [
        "</td>"
      ],
      "id": "7fe0d930-ed72-4203-88d4-cf0e9531a763"
    },
    {
      "cell_type": "raw",
      "metadata": {
        "raw_mimetype": "text/html"
      },
      "source": [
        "<td>"
      ],
      "id": "16156018-b752-49e4-8726-1a017263d93e"
    },
    {
      "cell_type": "markdown",
      "metadata": {},
      "source": [
        "<span data-sort-value=\"106 !\"></span><abbr class=\"abbr\" title=\"Sixième\">6<sup>e</sup></abbr>"
      ],
      "id": "e1d4f59b-ee0c-4fc3-93da-93ccc33fae2e"
    },
    {
      "cell_type": "raw",
      "metadata": {
        "raw_mimetype": "text/html"
      },
      "source": [
        "</td>"
      ],
      "id": "5635529d-221b-43ce-a3ba-2804cc44accb"
    },
    {
      "cell_type": "raw",
      "metadata": {
        "raw_mimetype": "text/html"
      },
      "source": [
        "<td align=\"left\">"
      ],
      "id": "a7be9b91-2ca5-4be1-ba09-00458dfe0071"
    },
    {
      "cell_type": "markdown",
      "metadata": {},
      "source": [
        "<span class=\"flagicon\"><a class=\"image\" href=\"/wiki/Fichier:Flag_of_Armenia.svg\" title=\"Drapeau : Arménie\"><img alt=\"\" class=\"noviewer thumbborder\" data-file-height=\"600\" data-file-width=\"1200\" decoding=\"async\" height=\"10\" src=\"//upload.wikimedia.org/wikipedia/commons/thumb/2/2f/Flag_of_Armenia.svg/20px-Flag_of_Armenia.svg.png\" srcset=\"//upload.wikimedia.org/wikipedia/commons/thumb/2/2f/Flag_of_Armenia.svg/30px-Flag_of_Armenia.svg.png 1.5x, //upload.wikimedia.org/wikipedia/commons/thumb/2/2f/Flag_of_Armenia.svg/40px-Flag_of_Armenia.svg.png 2x\" width=\"20\"/></a></span><span class=\"flagicon\"><a class=\"image\" href=\"/wiki/Fichier:Flag_of_France.svg\" title=\"Drapeau : France\"><img alt=\"\" class=\"noviewer thumbborder\" data-file-height=\"600\" data-file-width=\"900\" decoding=\"async\" height=\"13\" src=\"//upload.wikimedia.org/wikipedia/commons/thumb/c/c3/Flag_of_France.svg/20px-Flag_of_France.svg.png\" srcset=\"//upload.wikimedia.org/wikipedia/commons/thumb/c/c3/Flag_of_France.svg/30px-Flag_of_France.svg.png 1.5x, //upload.wikimedia.org/wikipedia/commons/thumb/c/c3/Flag_of_France.svg/40px-Flag_of_France.svg.png 2x\" width=\"20\"/></a></span> <a href=\"/wiki/Michel_Der_Zakarian\" title=\"Michel Der Zakarian\">Michel Der Zakarian</a>"
      ],
      "id": "7234c251-da73-4eb2-ba36-a618339e0c6f"
    },
    {
      "cell_type": "raw",
      "metadata": {
        "raw_mimetype": "text/html"
      },
      "source": [
        "</td>"
      ],
      "id": "107f15fb-d192-4b61-b8e3-e28ce430b03b"
    },
    {
      "cell_type": "raw",
      "metadata": {
        "raw_mimetype": "text/html"
      },
      "source": [
        "<td>"
      ],
      "id": "79554613-c07b-4696-a3cc-447117f4721c"
    },
    {
      "cell_type": "markdown",
      "metadata": {},
      "source": [
        "2017"
      ],
      "id": "f68f5b50-2385-46f7-af79-b975589169c2"
    },
    {
      "cell_type": "raw",
      "metadata": {
        "raw_mimetype": "text/html"
      },
      "source": [
        "</td>"
      ],
      "id": "87949be6-a848-4542-ad01-e8c22c84099d"
    },
    {
      "cell_type": "raw",
      "metadata": {
        "raw_mimetype": "text/html"
      },
      "source": [
        "<td>"
      ],
      "id": "272c4717-fb7d-4861-b103-f19e90255401"
    },
    {
      "cell_type": "markdown",
      "metadata": {},
      "source": [
        "<a href=\"/wiki/Stade_de_la_Mosson\" title=\"Stade de la Mosson\">Stade de la Mosson</a>"
      ],
      "id": "12a124f9-90ee-4089-99cc-f64ef15d8772"
    },
    {
      "cell_type": "raw",
      "metadata": {
        "raw_mimetype": "text/html"
      },
      "source": [
        "</td>"
      ],
      "id": "29db7114-b8cf-4e13-9cb8-c3d3ae6f1502"
    },
    {
      "cell_type": "raw",
      "metadata": {
        "raw_mimetype": "text/html"
      },
      "source": [
        "<td>"
      ],
      "id": "084a281f-993c-417b-9af9-47be37376da8"
    },
    {
      "cell_type": "markdown",
      "metadata": {},
      "source": [
        "22 000"
      ],
      "id": "6d074ca1-7745-4a4c-8fa3-4562e0377204"
    },
    {
      "cell_type": "raw",
      "metadata": {
        "raw_mimetype": "text/html"
      },
      "source": [
        "</td>"
      ],
      "id": "5291c103-4690-4a39-ba67-ff9fd30fcd25"
    },
    {
      "cell_type": "raw",
      "metadata": {
        "raw_mimetype": "text/html"
      },
      "source": [
        "<td>"
      ],
      "id": "1823c824-744f-493c-8fa8-4293cfcc1cd9"
    },
    {
      "cell_type": "markdown",
      "metadata": {},
      "source": [
        "27"
      ],
      "id": "08db685e-346d-416d-9bdf-74011508e345"
    },
    {
      "cell_type": "raw",
      "metadata": {
        "raw_mimetype": "text/html"
      },
      "source": [
        "</td>"
      ],
      "id": "606dbb3c-7549-4db9-85ac-15f952ff64a8"
    },
    {
      "cell_type": "raw",
      "metadata": {
        "raw_mimetype": "text/html"
      },
      "source": [
        "</tr>"
      ],
      "id": "a5986830-5cae-4560-97b0-96fed19ef702"
    },
    {
      "cell_type": "raw",
      "metadata": {
        "raw_mimetype": "text/html"
      },
      "source": [
        "<tr>"
      ],
      "id": "477cb47e-0299-4755-a235-0581866cd7ac"
    },
    {
      "cell_type": "raw",
      "metadata": {
        "raw_mimetype": "text/html"
      },
      "source": [
        "<td>"
      ],
      "id": "e1d542d2-616c-44c1-8d77-e0ed2324be76"
    },
    {
      "cell_type": "markdown",
      "metadata": {},
      "source": [
        "<a href=\"/wiki/Olympique_Gymnaste_Club_Nice\" title=\"Olympique Gymnaste Club Nice\">OGC Nice</a>"
      ],
      "id": "47329a4b-4229-49a6-a952-df372599f733"
    },
    {
      "cell_type": "raw",
      "metadata": {
        "raw_mimetype": "text/html"
      },
      "source": [
        "</td>"
      ],
      "id": "081ad28d-d129-4f3b-a3aa-d4a386ea8744"
    },
    {
      "cell_type": "raw",
      "metadata": {
        "raw_mimetype": "text/html"
      },
      "source": [
        "<td>"
      ],
      "id": "5dcca917-7afa-4599-a288-129a36c2b4d0"
    },
    {
      "cell_type": "markdown",
      "metadata": {},
      "source": [
        "2002"
      ],
      "id": "654aafdf-37ea-4573-b152-4e2b20e2ab00"
    },
    {
      "cell_type": "raw",
      "metadata": {
        "raw_mimetype": "text/html"
      },
      "source": [
        "</td>"
      ],
      "id": "391de6ad-ee3d-41d0-97cd-ab5bb3d49c94"
    },
    {
      "cell_type": "raw",
      "metadata": {
        "raw_mimetype": "text/html"
      },
      "source": [
        "<td>"
      ],
      "id": "b9dd3fa6-86db-415d-bb4f-a3de5a834f2b"
    },
    {
      "cell_type": "markdown",
      "metadata": {},
      "source": [
        "50"
      ],
      "id": "800e670d-a8a1-40fb-8f3c-871ed73db3c4"
    },
    {
      "cell_type": "raw",
      "metadata": {
        "raw_mimetype": "text/html"
      },
      "source": [
        "</td>"
      ],
      "id": "34e0199b-a8d8-4341-8728-9bddecbab5f9"
    },
    {
      "cell_type": "raw",
      "metadata": {
        "raw_mimetype": "text/html"
      },
      "source": [
        "<td>"
      ],
      "id": "1ad65ff9-991e-4972-b302-ef8d0ddc343a"
    },
    {
      "cell_type": "markdown",
      "metadata": {},
      "source": [
        "<span data-sort-value=\"107 !\"></span><abbr class=\"abbr\" title=\"Septième\">7<sup>e</sup></abbr>"
      ],
      "id": "e9ee3509-50f4-4840-af79-5f9d278eb54d"
    },
    {
      "cell_type": "raw",
      "metadata": {
        "raw_mimetype": "text/html"
      },
      "source": [
        "</td>"
      ],
      "id": "19c4521d-4d5a-4db0-83e3-efcef2b1e280"
    },
    {
      "cell_type": "raw",
      "metadata": {
        "raw_mimetype": "text/html"
      },
      "source": [
        "<td align=\"left\">"
      ],
      "id": "f9c9ca89-bb42-45bf-bb90-9f2b469d1b33"
    },
    {
      "cell_type": "markdown",
      "metadata": {},
      "source": [
        "<span class=\"flagicon\"><a class=\"image\" href=\"/wiki/Fichier:Flag_of_France.svg\" title=\"Drapeau : France\"><img alt=\"\" class=\"noviewer thumbborder\" data-file-height=\"600\" data-file-width=\"900\" decoding=\"async\" height=\"13\" src=\"//upload.wikimedia.org/wikipedia/commons/thumb/c/c3/Flag_of_France.svg/20px-Flag_of_France.svg.png\" srcset=\"//upload.wikimedia.org/wikipedia/commons/thumb/c/c3/Flag_of_France.svg/30px-Flag_of_France.svg.png 1.5x, //upload.wikimedia.org/wikipedia/commons/thumb/c/c3/Flag_of_France.svg/40px-Flag_of_France.svg.png 2x\" width=\"20\"/></a></span> <a href=\"/wiki/Patrick_Vieira\" title=\"Patrick Vieira\">Patrick Vieira</a>"
      ],
      "id": "155856f0-b269-491d-ab6d-d2de4783367d"
    },
    {
      "cell_type": "raw",
      "metadata": {
        "raw_mimetype": "text/html"
      },
      "source": [
        "</td>"
      ],
      "id": "48bef684-f5c7-4f14-be96-ae7423233282"
    },
    {
      "cell_type": "raw",
      "metadata": {
        "raw_mimetype": "text/html"
      },
      "source": [
        "<td>"
      ],
      "id": "2552ac66-4a78-4fae-86a4-c50f1af56db5"
    },
    {
      "cell_type": "markdown",
      "metadata": {},
      "source": [
        "2018"
      ],
      "id": "3175e971-09e4-40d6-aae9-1fa9e7e1ff25"
    },
    {
      "cell_type": "raw",
      "metadata": {
        "raw_mimetype": "text/html"
      },
      "source": [
        "</td>"
      ],
      "id": "d6b69560-902d-4576-ada8-3e8d83ed99d4"
    },
    {
      "cell_type": "raw",
      "metadata": {
        "raw_mimetype": "text/html"
      },
      "source": [
        "<td>"
      ],
      "id": "690b67f2-a25e-4492-82c5-db4b825a26b8"
    },
    {
      "cell_type": "markdown",
      "metadata": {},
      "source": [
        "<a href=\"/wiki/Allianz_Riviera\" title=\"Allianz Riviera\">Allianz Riviera</a>"
      ],
      "id": "2af77676-2de1-49d1-8ac3-384e6a5a8c45"
    },
    {
      "cell_type": "raw",
      "metadata": {
        "raw_mimetype": "text/html"
      },
      "source": [
        "</td>"
      ],
      "id": "559d1bb8-bb4d-42ad-88bf-5fdd32e58575"
    },
    {
      "cell_type": "raw",
      "metadata": {
        "raw_mimetype": "text/html"
      },
      "source": [
        "<td>"
      ],
      "id": "d57e7615-9e71-4366-b527-8cbfcddde992"
    },
    {
      "cell_type": "markdown",
      "metadata": {},
      "source": [
        "35 596"
      ],
      "id": "d7a78dd8-cee1-426a-a022-d426d684feaf"
    },
    {
      "cell_type": "raw",
      "metadata": {
        "raw_mimetype": "text/html"
      },
      "source": [
        "</td>"
      ],
      "id": "6c688f3a-96d2-4e72-a3ee-9c00e9f4dca9"
    },
    {
      "cell_type": "raw",
      "metadata": {
        "raw_mimetype": "text/html"
      },
      "source": [
        "<td>"
      ],
      "id": "323fa334-250a-4842-a21d-eb67da54d379"
    },
    {
      "cell_type": "markdown",
      "metadata": {},
      "source": [
        "60"
      ],
      "id": "63da2c15-ab49-4671-b119-44bf10032037"
    },
    {
      "cell_type": "raw",
      "metadata": {
        "raw_mimetype": "text/html"
      },
      "source": [
        "</td>"
      ],
      "id": "6608b844-b8d2-49bc-83ae-90383dd9cdb8"
    },
    {
      "cell_type": "raw",
      "metadata": {
        "raw_mimetype": "text/html"
      },
      "source": [
        "</tr>"
      ],
      "id": "c81442eb-2b1b-4012-a8d8-6aa2783bb48e"
    },
    {
      "cell_type": "raw",
      "metadata": {
        "raw_mimetype": "text/html"
      },
      "source": [
        "<tr>"
      ],
      "id": "eb2da704-d73a-4130-9d4b-e802c1c10349"
    },
    {
      "cell_type": "raw",
      "metadata": {
        "raw_mimetype": "text/html"
      },
      "source": [
        "<td>"
      ],
      "id": "1f9e37de-4989-4def-be20-cd2042004e9c"
    },
    {
      "cell_type": "markdown",
      "metadata": {},
      "source": [
        "<a href=\"/wiki/Stade_de_Reims\" title=\"Stade de Reims\">Stade de Reims</a>"
      ],
      "id": "ca8e9e4e-2ef2-4899-a9f0-11d6dde54097"
    },
    {
      "cell_type": "raw",
      "metadata": {
        "raw_mimetype": "text/html"
      },
      "source": [
        "</td>"
      ],
      "id": "e28c588b-09bf-4674-afcb-f11d88e516e5"
    },
    {
      "cell_type": "raw",
      "metadata": {
        "raw_mimetype": "text/html"
      },
      "source": [
        "<td>"
      ],
      "id": "1620971f-13c0-4340-8d41-d9160f40b38f"
    },
    {
      "cell_type": "markdown",
      "metadata": {},
      "source": [
        "2018"
      ],
      "id": "32b07ea3-675b-404a-a053-ba3f48808365"
    },
    {
      "cell_type": "raw",
      "metadata": {
        "raw_mimetype": "text/html"
      },
      "source": [
        "</td>"
      ],
      "id": "ad4f21ad-e125-45cd-b585-0c9cd7a3259d"
    },
    {
      "cell_type": "raw",
      "metadata": {
        "raw_mimetype": "text/html"
      },
      "source": [
        "<td>"
      ],
      "id": "25248d96-ffb7-43a3-9073-46ffbea9d457"
    },
    {
      "cell_type": "markdown",
      "metadata": {},
      "source": [
        "45"
      ],
      "id": "ec08da8f-d1af-47be-9642-63bbd21c084d"
    },
    {
      "cell_type": "raw",
      "metadata": {
        "raw_mimetype": "text/html"
      },
      "source": [
        "</td>"
      ],
      "id": "7fcdee61-ad52-4acd-adf2-6660050df57f"
    },
    {
      "cell_type": "raw",
      "metadata": {
        "raw_mimetype": "text/html"
      },
      "source": [
        "<td>"
      ],
      "id": "dc88b1f6-e8ec-49b6-9c9a-3d050219a85c"
    },
    {
      "cell_type": "markdown",
      "metadata": {},
      "source": [
        "<span data-sort-value=\"108 !\"></span><abbr class=\"abbr\" title=\"Huitième\">8<sup>e</sup></abbr>"
      ],
      "id": "952b21f3-367d-4f62-9ca0-958ad2ae6559"
    },
    {
      "cell_type": "raw",
      "metadata": {
        "raw_mimetype": "text/html"
      },
      "source": [
        "</td>"
      ],
      "id": "aaf62413-1550-482d-b3c1-6ebb401b8954"
    },
    {
      "cell_type": "raw",
      "metadata": {
        "raw_mimetype": "text/html"
      },
      "source": [
        "<td align=\"left\">"
      ],
      "id": "986781a9-d245-4a34-95ce-0666d601e8c4"
    },
    {
      "cell_type": "markdown",
      "metadata": {},
      "source": [
        "<span class=\"flagicon\"><a class=\"image\" href=\"/wiki/Fichier:Flag_of_France.svg\" title=\"Drapeau : France\"><img alt=\"\" class=\"noviewer thumbborder\" data-file-height=\"600\" data-file-width=\"900\" decoding=\"async\" height=\"13\" src=\"//upload.wikimedia.org/wikipedia/commons/thumb/c/c3/Flag_of_France.svg/20px-Flag_of_France.svg.png\" srcset=\"//upload.wikimedia.org/wikipedia/commons/thumb/c/c3/Flag_of_France.svg/30px-Flag_of_France.svg.png 1.5x, //upload.wikimedia.org/wikipedia/commons/thumb/c/c3/Flag_of_France.svg/40px-Flag_of_France.svg.png 2x\" width=\"20\"/></a></span> <a href=\"/wiki/David_Guion\" title=\"David Guion\">David Guion</a>"
      ],
      "id": "1a003b78-4de4-44a6-918b-d7b3654ed702"
    },
    {
      "cell_type": "raw",
      "metadata": {
        "raw_mimetype": "text/html"
      },
      "source": [
        "</td>"
      ],
      "id": "a8d5e79c-bcfb-4057-a6c0-d94fb418fdb8"
    },
    {
      "cell_type": "raw",
      "metadata": {
        "raw_mimetype": "text/html"
      },
      "source": [
        "<td>"
      ],
      "id": "b9f25ea7-5359-481c-819f-7330e5c1bb21"
    },
    {
      "cell_type": "markdown",
      "metadata": {},
      "source": [
        "2017"
      ],
      "id": "e52f6544-efd8-4a5d-93f9-1afbcd93c3fd"
    },
    {
      "cell_type": "raw",
      "metadata": {
        "raw_mimetype": "text/html"
      },
      "source": [
        "</td>"
      ],
      "id": "e02c9d49-70c9-433e-b6d0-1e95e6b34755"
    },
    {
      "cell_type": "raw",
      "metadata": {
        "raw_mimetype": "text/html"
      },
      "source": [
        "<td>"
      ],
      "id": "3cc577d0-b609-48c2-b760-27f86ce64f25"
    },
    {
      "cell_type": "markdown",
      "metadata": {},
      "source": [
        "<a href=\"/wiki/Stade_Auguste-Delaune\" title=\"Stade Auguste-Delaune\">Stade Auguste-Delaune</a>"
      ],
      "id": "ad60ea18-e8c8-4179-b0f9-e31214e4c6c2"
    },
    {
      "cell_type": "raw",
      "metadata": {
        "raw_mimetype": "text/html"
      },
      "source": [
        "</td>"
      ],
      "id": "37154af1-158d-4022-ae08-0fa6842719bc"
    },
    {
      "cell_type": "raw",
      "metadata": {
        "raw_mimetype": "text/html"
      },
      "source": [
        "<td>"
      ],
      "id": "2545f475-3ea3-4b58-ae06-75e97251ae37"
    },
    {
      "cell_type": "markdown",
      "metadata": {},
      "source": [
        "20 546"
      ],
      "id": "b4dab18f-645a-4354-b829-aa793bb8fc82"
    },
    {
      "cell_type": "raw",
      "metadata": {
        "raw_mimetype": "text/html"
      },
      "source": [
        "</td>"
      ],
      "id": "5b317525-47eb-4c62-9ae4-3fd14bdfc16e"
    },
    {
      "cell_type": "raw",
      "metadata": {
        "raw_mimetype": "text/html"
      },
      "source": [
        "<td>"
      ],
      "id": "16a3b4f8-e4e0-40f7-a62c-91d0afcfa297"
    },
    {
      "cell_type": "markdown",
      "metadata": {},
      "source": [
        "35"
      ],
      "id": "365cf7a4-cc8d-42a7-a4ea-b66e8d766f54"
    },
    {
      "cell_type": "raw",
      "metadata": {
        "raw_mimetype": "text/html"
      },
      "source": [
        "</td>"
      ],
      "id": "c4e5a9ba-e18c-4df6-af2a-31d992fb9464"
    },
    {
      "cell_type": "raw",
      "metadata": {
        "raw_mimetype": "text/html"
      },
      "source": [
        "</tr>"
      ],
      "id": "190fdc7e-c982-46aa-bba4-99458dec69ff"
    },
    {
      "cell_type": "raw",
      "metadata": {
        "raw_mimetype": "text/html"
      },
      "source": [
        "<tr>"
      ],
      "id": "7a02270e-a1d3-4902-b889-c6bdc094d130"
    },
    {
      "cell_type": "raw",
      "metadata": {
        "raw_mimetype": "text/html"
      },
      "source": [
        "<td>"
      ],
      "id": "0c9e2219-e15a-4a21-a24a-2826f157e9f1"
    },
    {
      "cell_type": "markdown",
      "metadata": {},
      "source": [
        "<a href=\"/wiki/N%C3%AEmes_Olympique\" title=\"Nîmes Olympique\">Nîmes Olympique</a>"
      ],
      "id": "1d2d1292-5b55-480d-96e2-e29b4ac4ff62"
    },
    {
      "cell_type": "raw",
      "metadata": {
        "raw_mimetype": "text/html"
      },
      "source": [
        "</td>"
      ],
      "id": "8d021bb4-7117-4889-8519-9c2f46f05cd7"
    },
    {
      "cell_type": "raw",
      "metadata": {
        "raw_mimetype": "text/html"
      },
      "source": [
        "<td>"
      ],
      "id": "1573e549-8115-443f-974e-19f4f61c4ef6"
    },
    {
      "cell_type": "markdown",
      "metadata": {},
      "source": [
        "2018"
      ],
      "id": "ece19fdd-6c2f-4beb-9687-0d1c7473b8df"
    },
    {
      "cell_type": "raw",
      "metadata": {
        "raw_mimetype": "text/html"
      },
      "source": [
        "</td>"
      ],
      "id": "e7547fa1-9a22-4dd3-ab52-aa870b658162"
    },
    {
      "cell_type": "raw",
      "metadata": {
        "raw_mimetype": "text/html"
      },
      "source": [
        "<td>"
      ],
      "id": "b6a9e4fe-2dab-4307-bd24-4b70b3c87bdc"
    },
    {
      "cell_type": "markdown",
      "metadata": {},
      "source": [
        "27"
      ],
      "id": "c513a043-2d06-4d4d-8b1f-971af22a15b2"
    },
    {
      "cell_type": "raw",
      "metadata": {
        "raw_mimetype": "text/html"
      },
      "source": [
        "</td>"
      ],
      "id": "680dbcee-784f-4aae-a3ec-cdf45a3e883b"
    },
    {
      "cell_type": "raw",
      "metadata": {
        "raw_mimetype": "text/html"
      },
      "source": [
        "<td>"
      ],
      "id": "3c064130-61e0-48d8-a7e8-b02d918a3cf7"
    },
    {
      "cell_type": "markdown",
      "metadata": {},
      "source": [
        "<span data-sort-value=\"109 !\"></span><abbr class=\"abbr\" title=\"Neuvième\">9<sup>e</sup></abbr>"
      ],
      "id": "8deba9e1-77c5-4fda-93b1-b410f9e272f9"
    },
    {
      "cell_type": "raw",
      "metadata": {
        "raw_mimetype": "text/html"
      },
      "source": [
        "</td>"
      ],
      "id": "6c74cdb0-9ce6-4511-baa3-c92ebba6c415"
    },
    {
      "cell_type": "raw",
      "metadata": {
        "raw_mimetype": "text/html"
      },
      "source": [
        "<td align=\"left\">"
      ],
      "id": "96741a59-3823-47a2-94ee-274821f37a88"
    },
    {
      "cell_type": "markdown",
      "metadata": {},
      "source": [
        "<span class=\"flagicon\"><a class=\"image\" href=\"/wiki/Fichier:Flag_of_France.svg\" title=\"Drapeau : France\"><img alt=\"\" class=\"noviewer thumbborder\" data-file-height=\"600\" data-file-width=\"900\" decoding=\"async\" height=\"13\" src=\"//upload.wikimedia.org/wikipedia/commons/thumb/c/c3/Flag_of_France.svg/20px-Flag_of_France.svg.png\" srcset=\"//upload.wikimedia.org/wikipedia/commons/thumb/c/c3/Flag_of_France.svg/30px-Flag_of_France.svg.png 1.5x, //upload.wikimedia.org/wikipedia/commons/thumb/c/c3/Flag_of_France.svg/40px-Flag_of_France.svg.png 2x\" width=\"20\"/></a></span> <a href=\"/wiki/Bernard_Blaquart\" title=\"Bernard Blaquart\">Bernard Blaquart</a>"
      ],
      "id": "f98d22ea-663b-4540-b85f-f26a1b5edb68"
    },
    {
      "cell_type": "raw",
      "metadata": {
        "raw_mimetype": "text/html"
      },
      "source": [
        "</td>"
      ],
      "id": "c0a6a4f0-2646-4e6f-87e3-fa1e51fe6474"
    },
    {
      "cell_type": "raw",
      "metadata": {
        "raw_mimetype": "text/html"
      },
      "source": [
        "<td>"
      ],
      "id": "ece883b1-a22a-4a26-8e00-87e5399f66b8"
    },
    {
      "cell_type": "markdown",
      "metadata": {},
      "source": [
        "2015"
      ],
      "id": "5ef866a0-8319-4769-919c-85b907c3c0b5"
    },
    {
      "cell_type": "raw",
      "metadata": {
        "raw_mimetype": "text/html"
      },
      "source": [
        "</td>"
      ],
      "id": "f6b00162-97ce-49aa-be56-d64edc947f80"
    },
    {
      "cell_type": "raw",
      "metadata": {
        "raw_mimetype": "text/html"
      },
      "source": [
        "<td>"
      ],
      "id": "81a6cf2a-1cd4-4d89-a598-c93f5c6196fa"
    },
    {
      "cell_type": "markdown",
      "metadata": {},
      "source": [
        "<a href=\"/wiki/Stade_des_Costi%C3%A8res\" title=\"Stade des Costières\">Stade des Costières</a>"
      ],
      "id": "4d13494c-e190-4160-bcd4-7a9ce200dacb"
    },
    {
      "cell_type": "raw",
      "metadata": {
        "raw_mimetype": "text/html"
      },
      "source": [
        "</td>"
      ],
      "id": "ce6a07bb-0796-4fe8-bb8e-0a20a6378bb0"
    },
    {
      "cell_type": "raw",
      "metadata": {
        "raw_mimetype": "text/html"
      },
      "source": [
        "<td>"
      ],
      "id": "baafbf20-7844-47a5-bd0d-69bbc0697e9e"
    },
    {
      "cell_type": "markdown",
      "metadata": {},
      "source": [
        "15 788"
      ],
      "id": "f55d2c88-183f-4e78-8110-7a9c0428a667"
    },
    {
      "cell_type": "raw",
      "metadata": {
        "raw_mimetype": "text/html"
      },
      "source": [
        "</td>"
      ],
      "id": "4919a0c1-4a19-4a55-b373-688a4249f323"
    },
    {
      "cell_type": "raw",
      "metadata": {
        "raw_mimetype": "text/html"
      },
      "source": [
        "<td>"
      ],
      "id": "462d1fed-7dec-42a7-9769-cc226845f74d"
    },
    {
      "cell_type": "markdown",
      "metadata": {},
      "source": [
        "35"
      ],
      "id": "bc93b59a-e33b-4c2b-86d4-b4e1e1e13d24"
    },
    {
      "cell_type": "raw",
      "metadata": {
        "raw_mimetype": "text/html"
      },
      "source": [
        "</td>"
      ],
      "id": "2bf8ede8-8d96-4908-abb0-41db523eb266"
    },
    {
      "cell_type": "raw",
      "metadata": {
        "raw_mimetype": "text/html"
      },
      "source": [
        "</tr>"
      ],
      "id": "eae3ff5d-b690-4f3f-af55-d282b6d18ea3"
    },
    {
      "cell_type": "raw",
      "metadata": {
        "raw_mimetype": "text/html"
      },
      "source": [
        "<tr bgcolor=\"#FFE052\">"
      ],
      "id": "77fea0fd-f950-4d34-a88f-d75f404a2002"
    },
    {
      "cell_type": "raw",
      "metadata": {
        "raw_mimetype": "text/html"
      },
      "source": [
        "<td>"
      ],
      "id": "4be32be5-0090-4058-96fa-d5760875a5e9"
    },
    {
      "cell_type": "markdown",
      "metadata": {},
      "source": [
        "<a class=\"mw-redirect\" href=\"/wiki/Stade_rennais_football_club\" title=\"Stade rennais football club\">Stade rennais FC</a>"
      ],
      "id": "bbad4146-5018-4b74-bab6-745409cebe54"
    },
    {
      "cell_type": "raw",
      "metadata": {
        "raw_mimetype": "text/html"
      },
      "source": [
        "</td>"
      ],
      "id": "e8c484da-e389-45a1-982c-024790ac1eed"
    },
    {
      "cell_type": "raw",
      "metadata": {
        "raw_mimetype": "text/html"
      },
      "source": [
        "<td>"
      ],
      "id": "49ced8f9-0b7e-4688-bf7d-f533a08edc5b"
    },
    {
      "cell_type": "markdown",
      "metadata": {},
      "source": [
        "1994"
      ],
      "id": "c34ed86f-6f3b-4bbf-ba08-fb0333c0879f"
    },
    {
      "cell_type": "raw",
      "metadata": {
        "raw_mimetype": "text/html"
      },
      "source": [
        "</td>"
      ],
      "id": "ab6dc9c2-ee85-475a-b255-744e6235ee10"
    },
    {
      "cell_type": "raw",
      "metadata": {
        "raw_mimetype": "text/html"
      },
      "source": [
        "<td>"
      ],
      "id": "48eadfa3-7bd4-46fd-953b-b3b104307961"
    },
    {
      "cell_type": "markdown",
      "metadata": {},
      "source": [
        "65"
      ],
      "id": "76a865c3-e926-43eb-be0b-a88ca3925200"
    },
    {
      "cell_type": "raw",
      "metadata": {
        "raw_mimetype": "text/html"
      },
      "source": [
        "</td>"
      ],
      "id": "9773c1da-a3c0-41f7-be9e-010d68451b13"
    },
    {
      "cell_type": "raw",
      "metadata": {
        "raw_mimetype": "text/html"
      },
      "source": [
        "<td>"
      ],
      "id": "7e876e92-13be-4a0f-aa56-97e79d8b7382"
    },
    {
      "cell_type": "markdown",
      "metadata": {},
      "source": [
        "<span data-sort-value=\"110 !\"></span><abbr class=\"abbr\" title=\"Dixième\">10<sup>e</sup></abbr>"
      ],
      "id": "1ff7d1f2-d27b-4782-b729-518f93023068"
    },
    {
      "cell_type": "raw",
      "metadata": {
        "raw_mimetype": "text/html"
      },
      "source": [
        "</td>"
      ],
      "id": "69e2669f-313e-434b-8212-6e7767cf2caa"
    },
    {
      "cell_type": "raw",
      "metadata": {
        "raw_mimetype": "text/html"
      },
      "source": [
        "<td align=\"left\">"
      ],
      "id": "4a34adeb-2ad4-4acd-aafb-ec0b6a274b13"
    },
    {
      "cell_type": "markdown",
      "metadata": {},
      "source": [
        "<span class=\"flagicon\"><a class=\"image\" href=\"/wiki/Fichier:Flag_of_France.svg\" title=\"Drapeau : France\"><img alt=\"\" class=\"noviewer thumbborder\" data-file-height=\"600\" data-file-width=\"900\" decoding=\"async\" height=\"13\" src=\"//upload.wikimedia.org/wikipedia/commons/thumb/c/c3/Flag_of_France.svg/20px-Flag_of_France.svg.png\" srcset=\"//upload.wikimedia.org/wikipedia/commons/thumb/c/c3/Flag_of_France.svg/30px-Flag_of_France.svg.png 1.5x, //upload.wikimedia.org/wikipedia/commons/thumb/c/c3/Flag_of_France.svg/40px-Flag_of_France.svg.png 2x\" width=\"20\"/></a></span> <a href=\"/wiki/Julien_St%C3%A9phan\" title=\"Julien Stéphan\">Julien Stéphan</a>"
      ],
      "id": "0361a0ad-4658-4e73-9796-82ed0d4f4325"
    },
    {
      "cell_type": "raw",
      "metadata": {
        "raw_mimetype": "text/html"
      },
      "source": [
        "</td>"
      ],
      "id": "81fd1a72-4f16-40bf-bf7f-6d1326019022"
    },
    {
      "cell_type": "raw",
      "metadata": {
        "raw_mimetype": "text/html"
      },
      "source": [
        "<td>"
      ],
      "id": "250daa3d-bb38-4942-9647-d6494281321a"
    },
    {
      "cell_type": "markdown",
      "metadata": {},
      "source": [
        "2018"
      ],
      "id": "e7621b33-7403-4347-bb0b-229ee6969b98"
    },
    {
      "cell_type": "raw",
      "metadata": {
        "raw_mimetype": "text/html"
      },
      "source": [
        "</td>"
      ],
      "id": "ed7c8639-5139-4bb4-8df2-2428da8abed3"
    },
    {
      "cell_type": "raw",
      "metadata": {
        "raw_mimetype": "text/html"
      },
      "source": [
        "<td>"
      ],
      "id": "547790b8-646c-4a3e-815b-f4180900f90f"
    },
    {
      "cell_type": "markdown",
      "metadata": {},
      "source": [
        "<a href=\"/wiki/Roazhon_Park\" title=\"Roazhon Park\">Roazhon Park</a>"
      ],
      "id": "dde1c2cd-b483-446d-b8f2-d13bbfb7a8a9"
    },
    {
      "cell_type": "raw",
      "metadata": {
        "raw_mimetype": "text/html"
      },
      "source": [
        "</td>"
      ],
      "id": "7b3fdd10-dce1-4d39-8fbc-9c8e67b62af7"
    },
    {
      "cell_type": "raw",
      "metadata": {
        "raw_mimetype": "text/html"
      },
      "source": [
        "<td>"
      ],
      "id": "64bc471b-7dc2-4cd0-b4d8-bd2758d0ea02"
    },
    {
      "cell_type": "markdown",
      "metadata": {},
      "source": [
        "29 194"
      ],
      "id": "093293df-5ce5-47ce-9796-b4906ac5ffc5"
    },
    {
      "cell_type": "raw",
      "metadata": {
        "raw_mimetype": "text/html"
      },
      "source": [
        "</td>"
      ],
      "id": "c476f494-c77a-4bfd-b710-8ab4a0c6ab02"
    },
    {
      "cell_type": "raw",
      "metadata": {
        "raw_mimetype": "text/html"
      },
      "source": [
        "<td>"
      ],
      "id": "e3f187c6-1973-4333-b5df-c2d0bd7b8116"
    },
    {
      "cell_type": "markdown",
      "metadata": {},
      "source": [
        "62"
      ],
      "id": "3fbe5821-b89b-48ee-b3c8-1776098ccfe7"
    },
    {
      "cell_type": "raw",
      "metadata": {
        "raw_mimetype": "text/html"
      },
      "source": [
        "</td>"
      ],
      "id": "91905358-058d-4623-862f-9bb4a92c19b6"
    },
    {
      "cell_type": "raw",
      "metadata": {
        "raw_mimetype": "text/html"
      },
      "source": [
        "</tr>"
      ],
      "id": "85922ad7-7c5b-400d-9d55-efe15d1d7855"
    },
    {
      "cell_type": "raw",
      "metadata": {
        "raw_mimetype": "text/html"
      },
      "source": [
        "<tr bgcolor=\"#FFF052\">"
      ],
      "id": "03a90d50-94b8-41d7-b0b1-ca259b24f8af"
    },
    {
      "cell_type": "raw",
      "metadata": {
        "raw_mimetype": "text/html"
      },
      "source": [
        "<td>"
      ],
      "id": "2e4c27e6-0e5c-4d15-8142-00b730997c30"
    },
    {
      "cell_type": "markdown",
      "metadata": {},
      "source": [
        "<a href=\"/wiki/Racing_Club_de_Strasbourg_Alsace\" title=\"Racing Club de Strasbourg Alsace\">RC Strasbourg Alsace</a>"
      ],
      "id": "dc458dcc-e366-44c2-af22-1715d7f1e67a"
    },
    {
      "cell_type": "raw",
      "metadata": {
        "raw_mimetype": "text/html"
      },
      "source": [
        "</td>"
      ],
      "id": "b659a059-d65a-4fe0-85c5-6808e3e7e2ff"
    },
    {
      "cell_type": "raw",
      "metadata": {
        "raw_mimetype": "text/html"
      },
      "source": [
        "<td>"
      ],
      "id": "2f8dd042-ccf4-4bbc-8bac-762bbdf27185"
    },
    {
      "cell_type": "markdown",
      "metadata": {},
      "source": [
        "2017"
      ],
      "id": "1bb23e12-0e7d-4a06-a94c-d8ff35ad441d"
    },
    {
      "cell_type": "raw",
      "metadata": {
        "raw_mimetype": "text/html"
      },
      "source": [
        "</td>"
      ],
      "id": "8c0144e7-917b-48dc-8119-e97bbeded58a"
    },
    {
      "cell_type": "raw",
      "metadata": {
        "raw_mimetype": "text/html"
      },
      "source": [
        "<td>"
      ],
      "id": "f3088f1d-f4cd-4e05-95de-b400710bc0c4"
    },
    {
      "cell_type": "markdown",
      "metadata": {},
      "source": [
        "43"
      ],
      "id": "7054a17d-ebb4-4111-b6d4-6f1dfffcb6f8"
    },
    {
      "cell_type": "raw",
      "metadata": {
        "raw_mimetype": "text/html"
      },
      "source": [
        "</td>"
      ],
      "id": "cbc69789-1908-4d5a-8997-870dcb2159ab"
    },
    {
      "cell_type": "raw",
      "metadata": {
        "raw_mimetype": "text/html"
      },
      "source": [
        "<td>"
      ],
      "id": "ca2f428b-5751-42f9-b64b-0822d4b70c56"
    },
    {
      "cell_type": "markdown",
      "metadata": {},
      "source": [
        "<span data-sort-value=\"111 !\"></span><abbr class=\"abbr\" title=\"Onzième\">11<sup>e</sup></abbr>"
      ],
      "id": "a3742559-66b7-4c39-a2e2-cf13c6bca11d"
    },
    {
      "cell_type": "raw",
      "metadata": {
        "raw_mimetype": "text/html"
      },
      "source": [
        "</td>"
      ],
      "id": "92af5bc8-7a16-47a9-8b42-9c6c1be5c755"
    },
    {
      "cell_type": "raw",
      "metadata": {
        "raw_mimetype": "text/html"
      },
      "source": [
        "<td align=\"left\">"
      ],
      "id": "f9e44ebf-0bbc-45ad-bcc4-801e60f219c5"
    },
    {
      "cell_type": "markdown",
      "metadata": {},
      "source": [
        "<span class=\"flagicon\"><a class=\"image\" href=\"/wiki/Fichier:Flag_of_France.svg\" title=\"Drapeau : France\"><img alt=\"\" class=\"noviewer thumbborder\" data-file-height=\"600\" data-file-width=\"900\" decoding=\"async\" height=\"13\" src=\"//upload.wikimedia.org/wikipedia/commons/thumb/c/c3/Flag_of_France.svg/20px-Flag_of_France.svg.png\" srcset=\"//upload.wikimedia.org/wikipedia/commons/thumb/c/c3/Flag_of_France.svg/30px-Flag_of_France.svg.png 1.5x, //upload.wikimedia.org/wikipedia/commons/thumb/c/c3/Flag_of_France.svg/40px-Flag_of_France.svg.png 2x\" width=\"20\"/></a></span> <a href=\"/wiki/Thierry_Laurey\" title=\"Thierry Laurey\">Thierry Laurey</a>"
      ],
      "id": "32c777c6-c0fb-4507-82fd-9cebb05616f7"
    },
    {
      "cell_type": "raw",
      "metadata": {
        "raw_mimetype": "text/html"
      },
      "source": [
        "</td>"
      ],
      "id": "f0e9e94e-f294-481f-912f-579ed3f1571f"
    },
    {
      "cell_type": "raw",
      "metadata": {
        "raw_mimetype": "text/html"
      },
      "source": [
        "<td>"
      ],
      "id": "2307a88b-baa0-429a-8961-40e41a836dcf"
    },
    {
      "cell_type": "markdown",
      "metadata": {},
      "source": [
        "2016"
      ],
      "id": "297a51ef-5ff3-41bc-969c-1a8d17ec4ffd"
    },
    {
      "cell_type": "raw",
      "metadata": {
        "raw_mimetype": "text/html"
      },
      "source": [
        "</td>"
      ],
      "id": "e5ceb2bf-16c8-458c-bf9e-a1c017f1e289"
    },
    {
      "cell_type": "raw",
      "metadata": {
        "raw_mimetype": "text/html"
      },
      "source": [
        "<td>"
      ],
      "id": "bba241a8-85b7-4666-921f-f58ff03423a4"
    },
    {
      "cell_type": "markdown",
      "metadata": {},
      "source": [
        "<a href=\"/wiki/Stade_de_la_Meinau\" title=\"Stade de la Meinau\">Stade de la Meinau</a>"
      ],
      "id": "1fe5c72c-4569-4600-9b4a-0e116320e4f5"
    },
    {
      "cell_type": "raw",
      "metadata": {
        "raw_mimetype": "text/html"
      },
      "source": [
        "</td>"
      ],
      "id": "106ebbef-eeca-4607-be6c-dd47c399ec4d"
    },
    {
      "cell_type": "raw",
      "metadata": {
        "raw_mimetype": "text/html"
      },
      "source": [
        "<td>"
      ],
      "id": "ed82005f-411d-400d-8d70-ed774923b04f"
    },
    {
      "cell_type": "markdown",
      "metadata": {},
      "source": [
        "26 109"
      ],
      "id": "ab186ca8-c134-47c3-8644-7cfb75875dff"
    },
    {
      "cell_type": "raw",
      "metadata": {
        "raw_mimetype": "text/html"
      },
      "source": [
        "</td>"
      ],
      "id": "7c6e4ea8-f591-49f4-9b32-dc3027ae59d9"
    },
    {
      "cell_type": "raw",
      "metadata": {
        "raw_mimetype": "text/html"
      },
      "source": [
        "<td>"
      ],
      "id": "81fd4987-9ed6-4995-a77c-d60be835a989"
    },
    {
      "cell_type": "markdown",
      "metadata": {},
      "source": [
        "58"
      ],
      "id": "948b2b76-f79d-48c4-977d-f20d05fbcca2"
    },
    {
      "cell_type": "raw",
      "metadata": {
        "raw_mimetype": "text/html"
      },
      "source": [
        "</td>"
      ],
      "id": "9da0284c-71d6-4751-b5a0-095ecfcefa19"
    },
    {
      "cell_type": "raw",
      "metadata": {
        "raw_mimetype": "text/html"
      },
      "source": [
        "</tr>"
      ],
      "id": "5b86fcea-5671-42f3-9461-edfd5a366f17"
    },
    {
      "cell_type": "raw",
      "metadata": {
        "raw_mimetype": "text/html"
      },
      "source": [
        "<tr>"
      ],
      "id": "c028e4ed-9126-4ae1-a13b-040269b497e2"
    },
    {
      "cell_type": "raw",
      "metadata": {
        "raw_mimetype": "text/html"
      },
      "source": [
        "<td>"
      ],
      "id": "5d8d4820-8f26-4849-9e3d-4989f5813c7b"
    },
    {
      "cell_type": "markdown",
      "metadata": {},
      "source": [
        "<a href=\"/wiki/Football_Club_de_Nantes\" title=\"Football Club de Nantes\">FC Nantes</a>"
      ],
      "id": "739700b1-fa05-46a6-bca8-314efb5cfc98"
    },
    {
      "cell_type": "raw",
      "metadata": {
        "raw_mimetype": "text/html"
      },
      "source": [
        "</td>"
      ],
      "id": "43d1f4b7-68ad-4471-a2aa-5791843c74f9"
    },
    {
      "cell_type": "raw",
      "metadata": {
        "raw_mimetype": "text/html"
      },
      "source": [
        "<td>"
      ],
      "id": "dfecbf2c-b4c6-4d9f-8e88-e260904411e4"
    },
    {
      "cell_type": "markdown",
      "metadata": {},
      "source": [
        "2013"
      ],
      "id": "765ffe1a-e1a3-465b-b35d-a968989f55dc"
    },
    {
      "cell_type": "raw",
      "metadata": {
        "raw_mimetype": "text/html"
      },
      "source": [
        "</td>"
      ],
      "id": "9c601fe9-e692-4bb7-aa56-d03890273b77"
    },
    {
      "cell_type": "raw",
      "metadata": {
        "raw_mimetype": "text/html"
      },
      "source": [
        "<td>"
      ],
      "id": "f6448b75-b2e4-4b97-b6eb-7ecd7bf304fd"
    },
    {
      "cell_type": "markdown",
      "metadata": {},
      "source": [
        "70"
      ],
      "id": "7326b493-7a12-4bf8-9ab8-def18e360f66"
    },
    {
      "cell_type": "raw",
      "metadata": {
        "raw_mimetype": "text/html"
      },
      "source": [
        "</td>"
      ],
      "id": "b240a46a-d5b0-4916-a509-023523288ea0"
    },
    {
      "cell_type": "raw",
      "metadata": {
        "raw_mimetype": "text/html"
      },
      "source": [
        "<td>"
      ],
      "id": "269044a6-75f6-4e0f-a21d-52468d719701"
    },
    {
      "cell_type": "markdown",
      "metadata": {},
      "source": [
        "<span data-sort-value=\"112 !\"></span><abbr class=\"abbr\" title=\"Douzième\">12<sup>e</sup></abbr>"
      ],
      "id": "83992fdd-d621-41f9-a2c3-e95aa2fe5180"
    },
    {
      "cell_type": "raw",
      "metadata": {
        "raw_mimetype": "text/html"
      },
      "source": [
        "</td>"
      ],
      "id": "e1968971-cd90-4d79-bfbe-40749ce357bc"
    },
    {
      "cell_type": "raw",
      "metadata": {
        "raw_mimetype": "text/html"
      },
      "source": [
        "<td align=\"left\">"
      ],
      "id": "437e4ad1-3aae-4e7f-8688-f6b6fa5ea1a4"
    },
    {
      "cell_type": "markdown",
      "metadata": {},
      "source": [
        "<span class=\"flagicon\"><a class=\"image\" href=\"/wiki/Fichier:Flag_of_France.svg\" title=\"Drapeau : France\"><img alt=\"\" class=\"noviewer thumbborder\" data-file-height=\"600\" data-file-width=\"900\" decoding=\"async\" height=\"13\" src=\"//upload.wikimedia.org/wikipedia/commons/thumb/c/c3/Flag_of_France.svg/20px-Flag_of_France.svg.png\" srcset=\"//upload.wikimedia.org/wikipedia/commons/thumb/c/c3/Flag_of_France.svg/30px-Flag_of_France.svg.png 1.5x, //upload.wikimedia.org/wikipedia/commons/thumb/c/c3/Flag_of_France.svg/40px-Flag_of_France.svg.png 2x\" width=\"20\"/></a></span> <a href=\"/wiki/Christian_Gourcuff\" title=\"Christian Gourcuff\">Christian Gourcuff</a>"
      ],
      "id": "5917ca92-259c-4245-8fcc-e247898ff9fd"
    },
    {
      "cell_type": "raw",
      "metadata": {
        "raw_mimetype": "text/html"
      },
      "source": [
        "</td>"
      ],
      "id": "ad5944bb-a4ab-4a82-a971-29d8ba051246"
    },
    {
      "cell_type": "raw",
      "metadata": {
        "raw_mimetype": "text/html"
      },
      "source": [
        "<td>"
      ],
      "id": "f2409993-a95f-4ceb-a4e6-a345836e408c"
    },
    {
      "cell_type": "markdown",
      "metadata": {},
      "source": [
        "2019"
      ],
      "id": "961f02d4-0bc8-42e0-a959-61dd94202aab"
    },
    {
      "cell_type": "raw",
      "metadata": {
        "raw_mimetype": "text/html"
      },
      "source": [
        "</td>"
      ],
      "id": "8c3ee59f-0707-452e-9ae2-12b1c4dbf70b"
    },
    {
      "cell_type": "raw",
      "metadata": {
        "raw_mimetype": "text/html"
      },
      "source": [
        "<td>"
      ],
      "id": "8ae1b417-03c0-4426-a47d-db93a8132cb5"
    },
    {
      "cell_type": "markdown",
      "metadata": {},
      "source": [
        "<a href=\"/wiki/Stade_de_la_Beaujoire\" title=\"Stade de la Beaujoire\">Stade de la Beaujoire - Louis Fonteneau</a>"
      ],
      "id": "c2ed5adc-acbd-4e38-a344-4ae27d75d157"
    },
    {
      "cell_type": "raw",
      "metadata": {
        "raw_mimetype": "text/html"
      },
      "source": [
        "</td>"
      ],
      "id": "2fe3b85b-c994-427e-b6ea-5787b619fc62"
    },
    {
      "cell_type": "raw",
      "metadata": {
        "raw_mimetype": "text/html"
      },
      "source": [
        "<td>"
      ],
      "id": "997af131-9a52-4f1b-a575-79fff611bd94"
    },
    {
      "cell_type": "markdown",
      "metadata": {},
      "source": [
        "35 322"
      ],
      "id": "75747251-a66a-4e9c-8284-363615cd50d3"
    },
    {
      "cell_type": "raw",
      "metadata": {
        "raw_mimetype": "text/html"
      },
      "source": [
        "</td>"
      ],
      "id": "bec03668-5b58-4d15-b41c-8f4938e323c6"
    },
    {
      "cell_type": "raw",
      "metadata": {
        "raw_mimetype": "text/html"
      },
      "source": [
        "<td>"
      ],
      "id": "40a464f2-cf48-4ca5-96fa-927fddb7fd34"
    },
    {
      "cell_type": "markdown",
      "metadata": {},
      "source": [
        "51"
      ],
      "id": "cbdbc31d-ab96-48e4-ad25-a4ab95e5f905"
    },
    {
      "cell_type": "raw",
      "metadata": {
        "raw_mimetype": "text/html"
      },
      "source": [
        "</td>"
      ],
      "id": "e96fdc80-7852-4469-b743-65598f72293d"
    },
    {
      "cell_type": "raw",
      "metadata": {
        "raw_mimetype": "text/html"
      },
      "source": [
        "</tr>"
      ],
      "id": "ea1ad5fa-fc3f-4b71-a461-2bc35fb100ef"
    },
    {
      "cell_type": "raw",
      "metadata": {
        "raw_mimetype": "text/html"
      },
      "source": [
        "<tr>"
      ],
      "id": "804937f4-443e-452e-bc80-dc358f27538a"
    },
    {
      "cell_type": "raw",
      "metadata": {
        "raw_mimetype": "text/html"
      },
      "source": [
        "<td>"
      ],
      "id": "9f82d33e-d0ef-4608-a1cf-4d3902900c3b"
    },
    {
      "cell_type": "markdown",
      "metadata": {},
      "source": [
        "<a class=\"mw-redirect\" href=\"/wiki/Angers_sporting_club_de_l%27Ouest\" title=\"Angers sporting club de l'Ouest\">SCO d’Angers</a>"
      ],
      "id": "8a920b6b-d88b-46c1-9c06-da982c97b321"
    },
    {
      "cell_type": "raw",
      "metadata": {
        "raw_mimetype": "text/html"
      },
      "source": [
        "</td>"
      ],
      "id": "1753748f-f3df-4bbd-9ade-55115d96b8db"
    },
    {
      "cell_type": "raw",
      "metadata": {
        "raw_mimetype": "text/html"
      },
      "source": [
        "<td>"
      ],
      "id": "21b9538a-e16a-4b94-92d7-9bdab301584f"
    },
    {
      "cell_type": "markdown",
      "metadata": {},
      "source": [
        "2015"
      ],
      "id": "ba450d15-cec5-4604-b880-6c180e324759"
    },
    {
      "cell_type": "raw",
      "metadata": {
        "raw_mimetype": "text/html"
      },
      "source": [
        "</td>"
      ],
      "id": "bcb8579e-2797-47bd-b317-e841ec99ba57"
    },
    {
      "cell_type": "raw",
      "metadata": {
        "raw_mimetype": "text/html"
      },
      "source": [
        "<td>"
      ],
      "id": "c98eb2fb-5011-4841-a666-cc265edc026c"
    },
    {
      "cell_type": "markdown",
      "metadata": {},
      "source": [
        "32"
      ],
      "id": "94834123-272b-4630-886b-0ce154e9ce65"
    },
    {
      "cell_type": "raw",
      "metadata": {
        "raw_mimetype": "text/html"
      },
      "source": [
        "</td>"
      ],
      "id": "19408724-9eb6-43ea-9c9a-8b3000e4a306"
    },
    {
      "cell_type": "raw",
      "metadata": {
        "raw_mimetype": "text/html"
      },
      "source": [
        "<td>"
      ],
      "id": "ffe370a9-cb03-4a0c-b36f-0bb88d6001d7"
    },
    {
      "cell_type": "markdown",
      "metadata": {},
      "source": [
        "<span data-sort-value=\"113 !\"></span><abbr class=\"abbr\" title=\"Treizième\">13<sup>e</sup></abbr>"
      ],
      "id": "3d8e7960-10aa-421a-a82b-c444c6010bef"
    },
    {
      "cell_type": "raw",
      "metadata": {
        "raw_mimetype": "text/html"
      },
      "source": [
        "</td>"
      ],
      "id": "f6538d3b-0a7c-4974-8abc-0299dae58d77"
    },
    {
      "cell_type": "raw",
      "metadata": {
        "raw_mimetype": "text/html"
      },
      "source": [
        "<td align=\"left\">"
      ],
      "id": "bf873e54-b005-4a5f-8c38-37f51554148b"
    },
    {
      "cell_type": "markdown",
      "metadata": {},
      "source": [
        "<span class=\"flagicon\"><a class=\"image\" href=\"/wiki/Fichier:Flag_of_France.svg\" title=\"Drapeau : France\"><img alt=\"\" class=\"noviewer thumbborder\" data-file-height=\"600\" data-file-width=\"900\" decoding=\"async\" height=\"13\" src=\"//upload.wikimedia.org/wikipedia/commons/thumb/c/c3/Flag_of_France.svg/20px-Flag_of_France.svg.png\" srcset=\"//upload.wikimedia.org/wikipedia/commons/thumb/c/c3/Flag_of_France.svg/30px-Flag_of_France.svg.png 1.5x, //upload.wikimedia.org/wikipedia/commons/thumb/c/c3/Flag_of_France.svg/40px-Flag_of_France.svg.png 2x\" width=\"20\"/></a></span> <a href=\"/wiki/St%C3%A9phane_Moulin_(football)\" title=\"Stéphane Moulin (football)\">Stéphane Moulin</a>"
      ],
      "id": "1b9625e4-40b0-47aa-b186-8da3b46c5f92"
    },
    {
      "cell_type": "raw",
      "metadata": {
        "raw_mimetype": "text/html"
      },
      "source": [
        "</td>"
      ],
      "id": "8541a9b2-2dcf-402f-8e4c-29ad0cb4d857"
    },
    {
      "cell_type": "raw",
      "metadata": {
        "raw_mimetype": "text/html"
      },
      "source": [
        "<td>"
      ],
      "id": "d2ad55ba-f389-4e77-93f9-011a057ff737"
    },
    {
      "cell_type": "markdown",
      "metadata": {},
      "source": [
        "2011"
      ],
      "id": "0ada9d8d-eb4a-4661-a21b-0c2643c3002a"
    },
    {
      "cell_type": "raw",
      "metadata": {
        "raw_mimetype": "text/html"
      },
      "source": [
        "</td>"
      ],
      "id": "a4c14c6a-7a27-4288-b73e-87d304235b66"
    },
    {
      "cell_type": "raw",
      "metadata": {
        "raw_mimetype": "text/html"
      },
      "source": [
        "<td>"
      ],
      "id": "aae49987-5690-46a3-bb4a-b1b7914d3926"
    },
    {
      "cell_type": "markdown",
      "metadata": {},
      "source": [
        "<a href=\"/wiki/Stade_Raymond-Kopa\" title=\"Stade Raymond-Kopa\">Stade Raymond-Kopa</a>"
      ],
      "id": "cff1dd49-fbe6-4d26-9f27-b6dfbbd0e78b"
    },
    {
      "cell_type": "raw",
      "metadata": {
        "raw_mimetype": "text/html"
      },
      "source": [
        "</td>"
      ],
      "id": "1c19a926-f3df-4ad7-9a25-7fecd401441e"
    },
    {
      "cell_type": "raw",
      "metadata": {
        "raw_mimetype": "text/html"
      },
      "source": [
        "<td>"
      ],
      "id": "70cdd3a2-8c71-43a5-a846-879cd48a8564"
    },
    {
      "cell_type": "markdown",
      "metadata": {},
      "source": [
        "14 582"
      ],
      "id": "8012279f-8c15-45c7-88a1-b647de760558"
    },
    {
      "cell_type": "raw",
      "metadata": {
        "raw_mimetype": "text/html"
      },
      "source": [
        "</td>"
      ],
      "id": "40ab2d61-ba09-4f17-9d47-8ff1a81402a2"
    },
    {
      "cell_type": "raw",
      "metadata": {
        "raw_mimetype": "text/html"
      },
      "source": [
        "<td>"
      ],
      "id": "35755cc2-aa95-4e3a-8ca0-48fa644ca8ef"
    },
    {
      "cell_type": "markdown",
      "metadata": {},
      "source": [
        "27"
      ],
      "id": "af43c16f-c4b5-4646-84df-0f9928f67eab"
    },
    {
      "cell_type": "raw",
      "metadata": {
        "raw_mimetype": "text/html"
      },
      "source": [
        "</td>"
      ],
      "id": "a47cfa2e-c3be-4c5e-9bc1-e3f69bc50768"
    },
    {
      "cell_type": "raw",
      "metadata": {
        "raw_mimetype": "text/html"
      },
      "source": [
        "</tr>"
      ],
      "id": "cc8302cf-23cc-471c-a9eb-e3ad519da61c"
    },
    {
      "cell_type": "raw",
      "metadata": {
        "raw_mimetype": "text/html"
      },
      "source": [
        "<tr>"
      ],
      "id": "4afbeaaa-633a-4f15-8c1e-246956ed418d"
    },
    {
      "cell_type": "raw",
      "metadata": {
        "raw_mimetype": "text/html"
      },
      "source": [
        "<td>"
      ],
      "id": "f746b284-4319-47ff-b680-15512499b196"
    },
    {
      "cell_type": "markdown",
      "metadata": {},
      "source": [
        "<a href=\"/wiki/Football_Club_des_Girondins_de_Bordeaux\" title=\"Football Club des Girondins de Bordeaux\">Girondins de Bordeaux</a>"
      ],
      "id": "2c698768-cc24-4a32-82bb-f1ee61a01653"
    },
    {
      "cell_type": "raw",
      "metadata": {
        "raw_mimetype": "text/html"
      },
      "source": [
        "</td>"
      ],
      "id": "790e31db-4a9c-4b81-9a8f-b143bff19b52"
    },
    {
      "cell_type": "raw",
      "metadata": {
        "raw_mimetype": "text/html"
      },
      "source": [
        "<td>"
      ],
      "id": "7c3cab50-8432-4dda-9fa7-390adebf40e9"
    },
    {
      "cell_type": "markdown",
      "metadata": {},
      "source": [
        "1992"
      ],
      "id": "af576c9c-6061-425e-bd49-30f3844652c9"
    },
    {
      "cell_type": "raw",
      "metadata": {
        "raw_mimetype": "text/html"
      },
      "source": [
        "</td>"
      ],
      "id": "c94ecee2-f471-468a-aa1b-4388459c7f41"
    },
    {
      "cell_type": "raw",
      "metadata": {
        "raw_mimetype": "text/html"
      },
      "source": [
        "<td>"
      ],
      "id": "ff7493cc-4753-412c-a7df-5ff09920a32d"
    },
    {
      "cell_type": "markdown",
      "metadata": {},
      "source": [
        "70"
      ],
      "id": "fd9f51fd-9891-4b64-9e09-98fe147bbd5d"
    },
    {
      "cell_type": "raw",
      "metadata": {
        "raw_mimetype": "text/html"
      },
      "source": [
        "</td>"
      ],
      "id": "cd6027ae-3836-46cf-8954-fb7f07d4d2bb"
    },
    {
      "cell_type": "raw",
      "metadata": {
        "raw_mimetype": "text/html"
      },
      "source": [
        "<td>"
      ],
      "id": "47426fad-5fe8-476c-8d2e-4f44772a13f9"
    },
    {
      "cell_type": "markdown",
      "metadata": {},
      "source": [
        "<span data-sort-value=\"114 !\"></span><abbr class=\"abbr\" title=\"Quatorzième\">14<sup>e</sup></abbr>"
      ],
      "id": "8151002a-cf77-4597-9b90-1c40517c8a7d"
    },
    {
      "cell_type": "raw",
      "metadata": {
        "raw_mimetype": "text/html"
      },
      "source": [
        "</td>"
      ],
      "id": "bbd21fe4-f5d1-4cf6-b1f4-bd94f717d5c8"
    },
    {
      "cell_type": "raw",
      "metadata": {
        "raw_mimetype": "text/html"
      },
      "source": [
        "<td align=\"left\">"
      ],
      "id": "54bf6087-5ce6-4410-bbbb-93384e03067c"
    },
    {
      "cell_type": "markdown",
      "metadata": {},
      "source": [
        "<span class=\"flagicon\"><a class=\"image\" href=\"/wiki/Fichier:Flag_of_Portugal.svg\" title=\"Drapeau : Portugal\"><img alt=\"\" class=\"noviewer thumbborder\" data-file-height=\"400\" data-file-width=\"600\" decoding=\"async\" height=\"13\" src=\"//upload.wikimedia.org/wikipedia/commons/thumb/5/5c/Flag_of_Portugal.svg/20px-Flag_of_Portugal.svg.png\" srcset=\"//upload.wikimedia.org/wikipedia/commons/thumb/5/5c/Flag_of_Portugal.svg/30px-Flag_of_Portugal.svg.png 1.5x, //upload.wikimedia.org/wikipedia/commons/thumb/5/5c/Flag_of_Portugal.svg/40px-Flag_of_Portugal.svg.png 2x\" width=\"20\"/></a></span> <a href=\"/wiki/Paulo_Sousa_(football,_1970)\" title=\"Paulo Sousa (football, 1970)\">Paulo Sousa</a>"
      ],
      "id": "0a70c4f5-043a-4702-8df7-664fd2fbf5a4"
    },
    {
      "cell_type": "raw",
      "metadata": {
        "raw_mimetype": "text/html"
      },
      "source": [
        "</td>"
      ],
      "id": "20e7e43b-f862-4c7b-8096-eabca9c82927"
    },
    {
      "cell_type": "raw",
      "metadata": {
        "raw_mimetype": "text/html"
      },
      "source": [
        "<td>"
      ],
      "id": "d9ce78c3-6bde-48bf-bb55-594f638c71a4"
    },
    {
      "cell_type": "markdown",
      "metadata": {},
      "source": [
        "2019"
      ],
      "id": "832657bd-c64d-4dce-8836-2edb8b86a821"
    },
    {
      "cell_type": "raw",
      "metadata": {
        "raw_mimetype": "text/html"
      },
      "source": [
        "</td>"
      ],
      "id": "17ed088e-3abc-4b38-b0a4-9257cfc5d683"
    },
    {
      "cell_type": "raw",
      "metadata": {
        "raw_mimetype": "text/html"
      },
      "source": [
        "<td>"
      ],
      "id": "dce31d15-c6b2-4367-8327-08458eb70066"
    },
    {
      "cell_type": "markdown",
      "metadata": {},
      "source": [
        "<a href=\"/wiki/Matmut_Atlantique\" title=\"Matmut Atlantique\">Matmut Atlantique</a>"
      ],
      "id": "8378f8c0-49c4-4350-ad6e-af707ec40013"
    },
    {
      "cell_type": "raw",
      "metadata": {
        "raw_mimetype": "text/html"
      },
      "source": [
        "</td>"
      ],
      "id": "6d237ca8-59ad-4e88-bfd8-a5a502b9715f"
    },
    {
      "cell_type": "raw",
      "metadata": {
        "raw_mimetype": "text/html"
      },
      "source": [
        "<td>"
      ],
      "id": "98a26417-3573-4c74-9495-3dd10f78865e"
    },
    {
      "cell_type": "markdown",
      "metadata": {},
      "source": [
        "42 115"
      ],
      "id": "b4c41afc-d92d-43a4-a458-b016bfd80b08"
    },
    {
      "cell_type": "raw",
      "metadata": {
        "raw_mimetype": "text/html"
      },
      "source": [
        "</td>"
      ],
      "id": "ef7133b8-edec-43e8-9527-711e6bd328e5"
    },
    {
      "cell_type": "raw",
      "metadata": {
        "raw_mimetype": "text/html"
      },
      "source": [
        "<td>"
      ],
      "id": "2b25953e-69ae-46a5-9195-4b603c6d134d"
    },
    {
      "cell_type": "markdown",
      "metadata": {},
      "source": [
        "66"
      ],
      "id": "37eaee5d-466b-4303-a613-4f506ca1009f"
    },
    {
      "cell_type": "raw",
      "metadata": {
        "raw_mimetype": "text/html"
      },
      "source": [
        "</td>"
      ],
      "id": "2a338461-4a47-42b3-a1a7-7d640a144d75"
    },
    {
      "cell_type": "raw",
      "metadata": {
        "raw_mimetype": "text/html"
      },
      "source": [
        "</tr>"
      ],
      "id": "36a14e32-7ce0-44e8-8b44-a8b036ff0f8e"
    },
    {
      "cell_type": "raw",
      "metadata": {
        "raw_mimetype": "text/html"
      },
      "source": [
        "<tr>"
      ],
      "id": "44b52754-5421-4238-8f95-4654beb52f4a"
    },
    {
      "cell_type": "raw",
      "metadata": {
        "raw_mimetype": "text/html"
      },
      "source": [
        "<td>"
      ],
      "id": "7cbc5dda-47d4-443c-b87d-a3764a7fde89"
    },
    {
      "cell_type": "markdown",
      "metadata": {},
      "source": [
        "<a href=\"/wiki/Amiens_Sporting_Club\" title=\"Amiens Sporting Club\">Amiens SC</a>"
      ],
      "id": "e0712af1-8630-4dc6-9dab-20aeba58c85b"
    },
    {
      "cell_type": "raw",
      "metadata": {
        "raw_mimetype": "text/html"
      },
      "source": [
        "</td>"
      ],
      "id": "770a971a-08b8-45bd-b779-0ae3f612c85e"
    },
    {
      "cell_type": "raw",
      "metadata": {
        "raw_mimetype": "text/html"
      },
      "source": [
        "<td>"
      ],
      "id": "c34c5f89-64f3-4d7e-a512-abd509ed5fc8"
    },
    {
      "cell_type": "markdown",
      "metadata": {},
      "source": [
        "2017"
      ],
      "id": "a3761979-e39b-4cdd-9e2d-c3431bc8a697"
    },
    {
      "cell_type": "raw",
      "metadata": {
        "raw_mimetype": "text/html"
      },
      "source": [
        "</td>"
      ],
      "id": "92691c66-d8b6-4a6a-b656-145acb88efb3"
    },
    {
      "cell_type": "raw",
      "metadata": {
        "raw_mimetype": "text/html"
      },
      "source": [
        "<td>"
      ],
      "id": "b5c86b10-53e8-4c23-b6b8-1dc50b1f6429"
    },
    {
      "cell_type": "markdown",
      "metadata": {},
      "source": [
        "30"
      ],
      "id": "8c70fbe4-82fd-4cf1-8d61-62396ecc8f1e"
    },
    {
      "cell_type": "raw",
      "metadata": {
        "raw_mimetype": "text/html"
      },
      "source": [
        "</td>"
      ],
      "id": "54c46e62-0e2f-465c-916a-6a6244c026a1"
    },
    {
      "cell_type": "raw",
      "metadata": {
        "raw_mimetype": "text/html"
      },
      "source": [
        "<td>"
      ],
      "id": "881cee98-699f-4624-bc11-eb72e2dbc131"
    },
    {
      "cell_type": "markdown",
      "metadata": {},
      "source": [
        "<span data-sort-value=\"115 !\"></span><abbr class=\"abbr\" title=\"Quinzième\">15<sup>e</sup></abbr>"
      ],
      "id": "18cf3604-c933-490d-9a09-f544f01ca084"
    },
    {
      "cell_type": "raw",
      "metadata": {
        "raw_mimetype": "text/html"
      },
      "source": [
        "</td>"
      ],
      "id": "71731280-502b-4353-8554-9f08be5d7271"
    },
    {
      "cell_type": "raw",
      "metadata": {
        "raw_mimetype": "text/html"
      },
      "source": [
        "<td align=\"left\">"
      ],
      "id": "627e95c8-c844-4eee-848f-9480fdaf1668"
    },
    {
      "cell_type": "markdown",
      "metadata": {},
      "source": [
        "<span class=\"flagicon\"><a class=\"image\" href=\"/wiki/Fichier:Flag_of_Slovenia.svg\" title=\"Drapeau : Slovénie\"><img alt=\"\" class=\"noviewer thumbborder\" data-file-height=\"600\" data-file-width=\"1200\" decoding=\"async\" height=\"10\" src=\"//upload.wikimedia.org/wikipedia/commons/thumb/f/f0/Flag_of_Slovenia.svg/20px-Flag_of_Slovenia.svg.png\" srcset=\"//upload.wikimedia.org/wikipedia/commons/thumb/f/f0/Flag_of_Slovenia.svg/30px-Flag_of_Slovenia.svg.png 1.5x, //upload.wikimedia.org/wikipedia/commons/thumb/f/f0/Flag_of_Slovenia.svg/40px-Flag_of_Slovenia.svg.png 2x\" width=\"20\"/></a></span> <a href=\"/wiki/Luka_Elsner\" title=\"Luka Elsner\">Luka Elsner</a>"
      ],
      "id": "07016b93-1cac-41bc-a18e-fbd71d2e0835"
    },
    {
      "cell_type": "raw",
      "metadata": {
        "raw_mimetype": "text/html"
      },
      "source": [
        "</td>"
      ],
      "id": "7b3b9543-8e65-480d-a382-d53c1ceb0525"
    },
    {
      "cell_type": "raw",
      "metadata": {
        "raw_mimetype": "text/html"
      },
      "source": [
        "<td>"
      ],
      "id": "86465592-dae0-4980-bc5c-7bf394b05616"
    },
    {
      "cell_type": "markdown",
      "metadata": {},
      "source": [
        "2019"
      ],
      "id": "fc52a640-b677-4510-8b1f-3b13fbc74b5a"
    },
    {
      "cell_type": "raw",
      "metadata": {
        "raw_mimetype": "text/html"
      },
      "source": [
        "</td>"
      ],
      "id": "148a3776-5cd4-4607-940a-b83feb7a5852"
    },
    {
      "cell_type": "raw",
      "metadata": {
        "raw_mimetype": "text/html"
      },
      "source": [
        "<td>"
      ],
      "id": "5e02c4fb-cfa1-4a7e-aff0-14bd6ac7e45a"
    },
    {
      "cell_type": "markdown",
      "metadata": {},
      "source": [
        "<a href=\"/wiki/Stade_de_la_Licorne\" title=\"Stade de la Licorne\">Stade Crédit Agricole la Licorne</a>"
      ],
      "id": "672f8be1-6cad-4072-b67d-32f186336404"
    },
    {
      "cell_type": "raw",
      "metadata": {
        "raw_mimetype": "text/html"
      },
      "source": [
        "</td>"
      ],
      "id": "09a55dd7-205d-4f62-9aaa-10056be0fc6a"
    },
    {
      "cell_type": "raw",
      "metadata": {
        "raw_mimetype": "text/html"
      },
      "source": [
        "<td>"
      ],
      "id": "5bdc3ddf-a8f4-48e6-ad25-c3e522238814"
    },
    {
      "cell_type": "markdown",
      "metadata": {},
      "source": [
        "12 999"
      ],
      "id": "6c386000-156f-49c7-8bd7-d3170c8cb9c0"
    },
    {
      "cell_type": "raw",
      "metadata": {
        "raw_mimetype": "text/html"
      },
      "source": [
        "</td>"
      ],
      "id": "30bb3a70-9686-489b-a0b8-94b17e66f008"
    },
    {
      "cell_type": "raw",
      "metadata": {
        "raw_mimetype": "text/html"
      },
      "source": [
        "<td>"
      ],
      "id": "5b4d9611-3dfd-467b-8caf-77b167d69ce8"
    },
    {
      "cell_type": "markdown",
      "metadata": {},
      "source": [
        "2"
      ],
      "id": "822ffd9d-7789-456c-9077-6dbffad2907c"
    },
    {
      "cell_type": "raw",
      "metadata": {
        "raw_mimetype": "text/html"
      },
      "source": [
        "</td>"
      ],
      "id": "9eb8f2d5-4152-47cc-8aaa-cd074e471b41"
    },
    {
      "cell_type": "raw",
      "metadata": {
        "raw_mimetype": "text/html"
      },
      "source": [
        "</tr>"
      ],
      "id": "aaac3032-e466-4ab9-beb1-93c3568cd8e9"
    },
    {
      "cell_type": "raw",
      "metadata": {
        "raw_mimetype": "text/html"
      },
      "source": [
        "<tr>"
      ],
      "id": "b014186b-4bbd-41b1-a48d-648e4f2c9dfb"
    },
    {
      "cell_type": "raw",
      "metadata": {
        "raw_mimetype": "text/html"
      },
      "source": [
        "<td>"
      ],
      "id": "e1febd99-3fea-452b-972a-1676d673da90"
    },
    {
      "cell_type": "markdown",
      "metadata": {},
      "source": [
        "<a href=\"/wiki/Toulouse_Football_Club\" title=\"Toulouse Football Club\">Toulouse FC</a>"
      ],
      "id": "0171b922-8a7b-4dc4-bee4-19a8b62d9730"
    },
    {
      "cell_type": "raw",
      "metadata": {
        "raw_mimetype": "text/html"
      },
      "source": [
        "</td>"
      ],
      "id": "febab268-59fd-49c6-86e5-8a8e7632ec59"
    },
    {
      "cell_type": "raw",
      "metadata": {
        "raw_mimetype": "text/html"
      },
      "source": [
        "<td>"
      ],
      "id": "ee0432c9-00ea-4f71-9d11-e4cc8aa1c06f"
    },
    {
      "cell_type": "markdown",
      "metadata": {},
      "source": [
        "2003"
      ],
      "id": "833e418d-a119-40a0-b834-6e49f3746466"
    },
    {
      "cell_type": "raw",
      "metadata": {
        "raw_mimetype": "text/html"
      },
      "source": [
        "</td>"
      ],
      "id": "318468ba-8361-466f-bd0b-f3970dcf4b00"
    },
    {
      "cell_type": "raw",
      "metadata": {
        "raw_mimetype": "text/html"
      },
      "source": [
        "<td>"
      ],
      "id": "a2de8f72-2afe-40bb-88c4-3e4a9b135c37"
    },
    {
      "cell_type": "markdown",
      "metadata": {},
      "source": [
        "35"
      ],
      "id": "e32c0606-e96b-44f9-845f-d304e3ed178c"
    },
    {
      "cell_type": "raw",
      "metadata": {
        "raw_mimetype": "text/html"
      },
      "source": [
        "</td>"
      ],
      "id": "49a74dde-829f-4ad0-99bd-a741c72327b3"
    },
    {
      "cell_type": "raw",
      "metadata": {
        "raw_mimetype": "text/html"
      },
      "source": [
        "<td>"
      ],
      "id": "f230a6c4-8463-4312-bd19-ac191e636942"
    },
    {
      "cell_type": "markdown",
      "metadata": {},
      "source": [
        "<span data-sort-value=\"116 !\"></span><abbr class=\"abbr\" title=\"Seizième\">16<sup>e</sup></abbr>"
      ],
      "id": "5f9050cd-7154-427d-bb4b-b6c91150a356"
    },
    {
      "cell_type": "raw",
      "metadata": {
        "raw_mimetype": "text/html"
      },
      "source": [
        "</td>"
      ],
      "id": "aad0d128-447a-445a-a274-ca5b47ad2f11"
    },
    {
      "cell_type": "raw",
      "metadata": {
        "raw_mimetype": "text/html"
      },
      "source": [
        "<td align=\"left\">"
      ],
      "id": "305d80e0-52a4-4d4c-ac55-28bd6f15d93a"
    },
    {
      "cell_type": "markdown",
      "metadata": {},
      "source": [
        "<span class=\"flagicon\"><a class=\"image\" href=\"/wiki/Fichier:Flag_of_France.svg\" title=\"Drapeau : France\"><img alt=\"\" class=\"noviewer thumbborder\" data-file-height=\"600\" data-file-width=\"900\" decoding=\"async\" height=\"13\" src=\"//upload.wikimedia.org/wikipedia/commons/thumb/c/c3/Flag_of_France.svg/20px-Flag_of_France.svg.png\" srcset=\"//upload.wikimedia.org/wikipedia/commons/thumb/c/c3/Flag_of_France.svg/30px-Flag_of_France.svg.png 1.5x, //upload.wikimedia.org/wikipedia/commons/thumb/c/c3/Flag_of_France.svg/40px-Flag_of_France.svg.png 2x\" width=\"20\"/></a></span> <a href=\"/wiki/Denis_Zanko\" title=\"Denis Zanko\">Denis Zanko</a>"
      ],
      "id": "dd6a2cff-798f-4b2a-8725-280997cdcf7f"
    },
    {
      "cell_type": "raw",
      "metadata": {
        "raw_mimetype": "text/html"
      },
      "source": [
        "</td>"
      ],
      "id": "742b327d-1e9c-4915-bd38-d36aaec1d858"
    },
    {
      "cell_type": "raw",
      "metadata": {
        "raw_mimetype": "text/html"
      },
      "source": [
        "<td>"
      ],
      "id": "733a706d-8a98-4dd7-9250-28f4417ae521"
    },
    {
      "cell_type": "markdown",
      "metadata": {},
      "source": [
        "2020"
      ],
      "id": "584174ba-765b-4010-9c75-f097a8c58c2e"
    },
    {
      "cell_type": "raw",
      "metadata": {
        "raw_mimetype": "text/html"
      },
      "source": [
        "</td>"
      ],
      "id": "6672b2f7-564d-47dd-84b9-124f468782c4"
    },
    {
      "cell_type": "raw",
      "metadata": {
        "raw_mimetype": "text/html"
      },
      "source": [
        "<td>"
      ],
      "id": "015447e5-de12-40f5-9fe7-fe1b106d9204"
    },
    {
      "cell_type": "markdown",
      "metadata": {},
      "source": [
        "<a href=\"/wiki/Stadium_de_Toulouse\" title=\"Stadium de Toulouse\">Stadium de Toulouse</a>"
      ],
      "id": "6443a2a8-9414-449f-8c52-e4b3b0ed9e59"
    },
    {
      "cell_type": "raw",
      "metadata": {
        "raw_mimetype": "text/html"
      },
      "source": [
        "</td>"
      ],
      "id": "f08e0c72-bf21-47d4-b536-e04e0fd3ed15"
    },
    {
      "cell_type": "raw",
      "metadata": {
        "raw_mimetype": "text/html"
      },
      "source": [
        "<td>"
      ],
      "id": "0280923a-e78c-47cc-9728-d4c1827bd4e6"
    },
    {
      "cell_type": "markdown",
      "metadata": {},
      "source": [
        "33 033"
      ],
      "id": "c33920dc-b4ea-4fc1-bba5-700b9d5d24e1"
    },
    {
      "cell_type": "raw",
      "metadata": {
        "raw_mimetype": "text/html"
      },
      "source": [
        "</td>"
      ],
      "id": "3cbdb0a5-3b99-438b-bd96-3c40049e15e3"
    },
    {
      "cell_type": "raw",
      "metadata": {
        "raw_mimetype": "text/html"
      },
      "source": [
        "<td>"
      ],
      "id": "cd1962dc-982a-46d3-9532-ee8b84a946a7"
    },
    {
      "cell_type": "markdown",
      "metadata": {},
      "source": [
        "32"
      ],
      "id": "36026802-02f9-481e-971e-c8aa002fe4c7"
    },
    {
      "cell_type": "raw",
      "metadata": {
        "raw_mimetype": "text/html"
      },
      "source": [
        "</td>"
      ],
      "id": "6617dac8-1dde-4f3f-8556-5ca1d4938f84"
    },
    {
      "cell_type": "raw",
      "metadata": {
        "raw_mimetype": "text/html"
      },
      "source": [
        "</tr>"
      ],
      "id": "eb9e1598-15e3-4f70-858a-ad7f018422ba"
    },
    {
      "cell_type": "raw",
      "metadata": {
        "raw_mimetype": "text/html"
      },
      "source": [
        "<tr>"
      ],
      "id": "3ff645e3-34f7-4118-9367-6688cc01ad86"
    },
    {
      "cell_type": "raw",
      "metadata": {
        "raw_mimetype": "text/html"
      },
      "source": [
        "<td>"
      ],
      "id": "8a662c4a-b982-476a-b8ae-4f0b11b36f0a"
    },
    {
      "cell_type": "markdown",
      "metadata": {},
      "source": [
        "<a class=\"mw-redirect\" href=\"/wiki/Association_sportive_de_Monaco_football_club\" title=\"Association sportive de Monaco football club\">AS Monaco</a>"
      ],
      "id": "fe097b0c-84b9-4104-893a-f146eba5f4c5"
    },
    {
      "cell_type": "raw",
      "metadata": {
        "raw_mimetype": "text/html"
      },
      "source": [
        "</td>"
      ],
      "id": "95a004cb-7f15-418a-9a57-03b58c8d2575"
    },
    {
      "cell_type": "raw",
      "metadata": {
        "raw_mimetype": "text/html"
      },
      "source": [
        "<td>"
      ],
      "id": "842c9241-9a78-40ea-af40-62224b8e3338"
    },
    {
      "cell_type": "markdown",
      "metadata": {},
      "source": [
        "2013"
      ],
      "id": "14f6199c-f599-43c5-bd2e-0110153c353a"
    },
    {
      "cell_type": "raw",
      "metadata": {
        "raw_mimetype": "text/html"
      },
      "source": [
        "</td>"
      ],
      "id": "09415662-6b8b-4d54-83ed-b8eb7374c688"
    },
    {
      "cell_type": "raw",
      "metadata": {
        "raw_mimetype": "text/html"
      },
      "source": [
        "<td>"
      ],
      "id": "66d419ad-66c9-4353-9cef-244c707118d5"
    },
    {
      "cell_type": "markdown",
      "metadata": {},
      "source": [
        "220"
      ],
      "id": "31cc6dea-14b5-4604-bec2-72391cc6697d"
    },
    {
      "cell_type": "raw",
      "metadata": {
        "raw_mimetype": "text/html"
      },
      "source": [
        "</td>"
      ],
      "id": "5f403b77-40a0-42b8-ad2a-034117cacf27"
    },
    {
      "cell_type": "raw",
      "metadata": {
        "raw_mimetype": "text/html"
      },
      "source": [
        "<td>"
      ],
      "id": "af610f82-4cc1-4a2a-9c52-7a1c5428a278"
    },
    {
      "cell_type": "markdown",
      "metadata": {},
      "source": [
        "<span data-sort-value=\"117 !\"></span><abbr class=\"abbr\" title=\"Dix-septième\">17<sup>e</sup></abbr>"
      ],
      "id": "49717ea9-d3d0-477f-b73a-61b836906be7"
    },
    {
      "cell_type": "raw",
      "metadata": {
        "raw_mimetype": "text/html"
      },
      "source": [
        "</td>"
      ],
      "id": "2767aa61-9dc4-428c-bd12-6abdbd913945"
    },
    {
      "cell_type": "raw",
      "metadata": {
        "raw_mimetype": "text/html"
      },
      "source": [
        "<td align=\"left\">"
      ],
      "id": "4cfe5168-fb8c-4a6f-993e-9724461ed9f2"
    },
    {
      "cell_type": "markdown",
      "metadata": {},
      "source": [
        "<span class=\"flagicon\"><a class=\"image\" href=\"/wiki/Fichier:Flag_of_Spain.svg\" title=\"Drapeau : Espagne\"><img alt=\"\" class=\"noviewer thumbborder\" data-file-height=\"500\" data-file-width=\"750\" decoding=\"async\" height=\"13\" src=\"//upload.wikimedia.org/wikipedia/commons/thumb/9/9a/Flag_of_Spain.svg/20px-Flag_of_Spain.svg.png\" srcset=\"//upload.wikimedia.org/wikipedia/commons/thumb/9/9a/Flag_of_Spain.svg/30px-Flag_of_Spain.svg.png 1.5x, //upload.wikimedia.org/wikipedia/commons/thumb/9/9a/Flag_of_Spain.svg/40px-Flag_of_Spain.svg.png 2x\" width=\"20\"/></a></span> <a href=\"/wiki/Robert_Moreno\" title=\"Robert Moreno\">Robert Moreno</a>"
      ],
      "id": "36a020a3-afb6-49e7-b2e6-05429b7a8d32"
    },
    {
      "cell_type": "raw",
      "metadata": {
        "raw_mimetype": "text/html"
      },
      "source": [
        "</td>"
      ],
      "id": "142c330f-ac57-4836-85d4-2ae691f4a44b"
    },
    {
      "cell_type": "raw",
      "metadata": {
        "raw_mimetype": "text/html"
      },
      "source": [
        "<td>"
      ],
      "id": "984af00e-86af-4dfa-a3aa-7f22a290cc40"
    },
    {
      "cell_type": "markdown",
      "metadata": {},
      "source": [
        "2019"
      ],
      "id": "31d97c90-7858-4883-a5c4-213c3b5bbdde"
    },
    {
      "cell_type": "raw",
      "metadata": {
        "raw_mimetype": "text/html"
      },
      "source": [
        "</td>"
      ],
      "id": "02493896-95ba-40fd-b4d7-2ddd8c419cae"
    },
    {
      "cell_type": "raw",
      "metadata": {
        "raw_mimetype": "text/html"
      },
      "source": [
        "<td>"
      ],
      "id": "59babf3e-3587-4a7a-8c04-6f61b2d3b712"
    },
    {
      "cell_type": "markdown",
      "metadata": {},
      "source": [
        "<a href=\"/wiki/Stade_Louis-II\" title=\"Stade Louis-II\">Stade Louis-II</a>"
      ],
      "id": "b6ae1d82-dd20-49f7-ae77-c52745f5e9d5"
    },
    {
      "cell_type": "raw",
      "metadata": {
        "raw_mimetype": "text/html"
      },
      "source": [
        "</td>"
      ],
      "id": "98c7ccbf-34e2-4a94-8264-5142126ad4d9"
    },
    {
      "cell_type": "raw",
      "metadata": {
        "raw_mimetype": "text/html"
      },
      "source": [
        "<td>"
      ],
      "id": "57086550-8a41-4b9d-bb0a-3d76154f77bf"
    },
    {
      "cell_type": "markdown",
      "metadata": {},
      "source": [
        "16 500"
      ],
      "id": "57a43dfb-0d96-4bd3-b2ac-0bb7febd89f4"
    },
    {
      "cell_type": "raw",
      "metadata": {
        "raw_mimetype": "text/html"
      },
      "source": [
        "</td>"
      ],
      "id": "ccb8ae72-4170-4330-9f67-39933596a93e"
    },
    {
      "cell_type": "raw",
      "metadata": {
        "raw_mimetype": "text/html"
      },
      "source": [
        "<td>"
      ],
      "id": "f422f618-6387-438f-a63c-c9ba78b7847a"
    },
    {
      "cell_type": "markdown",
      "metadata": {},
      "source": [
        "60"
      ],
      "id": "0e5e42a2-294b-4afe-97a6-002464b8f444"
    },
    {
      "cell_type": "raw",
      "metadata": {
        "raw_mimetype": "text/html"
      },
      "source": [
        "</td>"
      ],
      "id": "8de2e1da-a32d-4cd6-b309-cd6f3afad567"
    },
    {
      "cell_type": "raw",
      "metadata": {
        "raw_mimetype": "text/html"
      },
      "source": [
        "</tr>"
      ],
      "id": "aa5b704f-0d97-4e1a-8632-45f286eeb5b9"
    },
    {
      "cell_type": "raw",
      "metadata": {
        "raw_mimetype": "text/html"
      },
      "source": [
        "<tr>"
      ],
      "id": "d05e63e0-eaca-4a38-8c20-2b2612ab9687"
    },
    {
      "cell_type": "raw",
      "metadata": {
        "raw_mimetype": "text/html"
      },
      "source": [
        "<td>"
      ],
      "id": "7ab3e986-c74c-4618-a56c-fe6438f6dc67"
    },
    {
      "cell_type": "markdown",
      "metadata": {},
      "source": [
        "<a href=\"/wiki/Dijon_Football_C%C3%B4te-d%27Or\" title=\"Dijon Football Côte-d'Or\">Dijon FCO</a>"
      ],
      "id": "18e8c1e0-172d-4343-9a00-44b7fb3505d9"
    },
    {
      "cell_type": "raw",
      "metadata": {
        "raw_mimetype": "text/html"
      },
      "source": [
        "</td>"
      ],
      "id": "cc4631ef-880c-4ca6-ab6a-4d5297389881"
    },
    {
      "cell_type": "raw",
      "metadata": {
        "raw_mimetype": "text/html"
      },
      "source": [
        "<td>"
      ],
      "id": "6ccc757c-364a-4424-8692-5493ec8a611a"
    },
    {
      "cell_type": "markdown",
      "metadata": {},
      "source": [
        "2016"
      ],
      "id": "8a36dfb1-d380-4ae3-b159-7cdb56f6c275"
    },
    {
      "cell_type": "raw",
      "metadata": {
        "raw_mimetype": "text/html"
      },
      "source": [
        "</td>"
      ],
      "id": "946305ff-8ca8-4942-9ade-1c4653937ba2"
    },
    {
      "cell_type": "raw",
      "metadata": {
        "raw_mimetype": "text/html"
      },
      "source": [
        "<td>"
      ],
      "id": "de559efe-b865-4585-ad6e-2187f82e6f98"
    },
    {
      "cell_type": "markdown",
      "metadata": {},
      "source": [
        "38"
      ],
      "id": "6c38780f-297c-4fcb-af53-d02ad993eda1"
    },
    {
      "cell_type": "raw",
      "metadata": {
        "raw_mimetype": "text/html"
      },
      "source": [
        "</td>"
      ],
      "id": "765375f5-10bb-4534-8d6c-67a94a5d4a82"
    },
    {
      "cell_type": "raw",
      "metadata": {
        "raw_mimetype": "text/html"
      },
      "source": [
        "<td>"
      ],
      "id": "1e9b56f5-5597-4e87-b9fb-2dc3e30ca6da"
    },
    {
      "cell_type": "markdown",
      "metadata": {},
      "source": [
        "<span data-sort-value=\"118 !\"></span><abbr class=\"abbr\" title=\"Dix-huitième\">18<sup>e</sup></abbr>"
      ],
      "id": "fead0bfe-50fc-49e1-9b88-9ae60cc80b9b"
    },
    {
      "cell_type": "raw",
      "metadata": {
        "raw_mimetype": "text/html"
      },
      "source": [
        "</td>"
      ],
      "id": "c950b5f6-2268-4221-bac9-ce903825c994"
    },
    {
      "cell_type": "raw",
      "metadata": {
        "raw_mimetype": "text/html"
      },
      "source": [
        "<td align=\"left\">"
      ],
      "id": "812ddbd8-629c-4139-9a88-bcc22878de4e"
    },
    {
      "cell_type": "markdown",
      "metadata": {},
      "source": [
        "<span class=\"flagicon\"><a class=\"image\" href=\"/wiki/Fichier:Flag_of_France.svg\" title=\"Drapeau : France\"><img alt=\"\" class=\"noviewer thumbborder\" data-file-height=\"600\" data-file-width=\"900\" decoding=\"async\" height=\"13\" src=\"//upload.wikimedia.org/wikipedia/commons/thumb/c/c3/Flag_of_France.svg/20px-Flag_of_France.svg.png\" srcset=\"//upload.wikimedia.org/wikipedia/commons/thumb/c/c3/Flag_of_France.svg/30px-Flag_of_France.svg.png 1.5x, //upload.wikimedia.org/wikipedia/commons/thumb/c/c3/Flag_of_France.svg/40px-Flag_of_France.svg.png 2x\" width=\"20\"/></a></span> <a href=\"/wiki/St%C3%A9phane_Jobard\" title=\"Stéphane Jobard\">Stéphane Jobard</a>"
      ],
      "id": "fa6a4be0-6de6-4ea4-a934-f9eecdb56c38"
    },
    {
      "cell_type": "raw",
      "metadata": {
        "raw_mimetype": "text/html"
      },
      "source": [
        "</td>"
      ],
      "id": "1298c77b-bd01-4c27-8b7e-824d78f9a4de"
    },
    {
      "cell_type": "raw",
      "metadata": {
        "raw_mimetype": "text/html"
      },
      "source": [
        "<td>"
      ],
      "id": "3d7f0f07-9115-47b4-8a3a-ec7afa445cde"
    },
    {
      "cell_type": "markdown",
      "metadata": {},
      "source": [
        "2019"
      ],
      "id": "322b9b58-4b36-4693-9ec3-1c3a57cc05f8"
    },
    {
      "cell_type": "raw",
      "metadata": {
        "raw_mimetype": "text/html"
      },
      "source": [
        "</td>"
      ],
      "id": "dbc2e2bc-7e4e-4d10-b26f-23825bdffb01"
    },
    {
      "cell_type": "raw",
      "metadata": {
        "raw_mimetype": "text/html"
      },
      "source": [
        "<td>"
      ],
      "id": "50b01722-cd75-426f-8844-e849d16e40d6"
    },
    {
      "cell_type": "markdown",
      "metadata": {},
      "source": [
        "<a href=\"/wiki/Stade_Gaston-G%C3%A9rard\" title=\"Stade Gaston-Gérard\">Parc des Sports Gaston-Gérard</a>"
      ],
      "id": "501fd824-4157-4339-9d4b-d2a9df0b590a"
    },
    {
      "cell_type": "raw",
      "metadata": {
        "raw_mimetype": "text/html"
      },
      "source": [
        "</td>"
      ],
      "id": "bf9c15f0-09d3-4cd1-9c20-21e83310ea5f"
    },
    {
      "cell_type": "raw",
      "metadata": {
        "raw_mimetype": "text/html"
      },
      "source": [
        "<td>"
      ],
      "id": "484610cd-737a-4329-8e4f-a4554699e943"
    },
    {
      "cell_type": "markdown",
      "metadata": {},
      "source": [
        "15 459"
      ],
      "id": "b3fa8b21-b52f-4a87-b8c1-9d46278e9a31"
    },
    {
      "cell_type": "raw",
      "metadata": {
        "raw_mimetype": "text/html"
      },
      "source": [
        "</td>"
      ],
      "id": "0f4c6fc0-593b-4e2a-a34e-0ffb06b29ffe"
    },
    {
      "cell_type": "raw",
      "metadata": {
        "raw_mimetype": "text/html"
      },
      "source": [
        "<td>"
      ],
      "id": "ef322a8c-5087-4a40-b228-df05af614452"
    },
    {
      "cell_type": "markdown",
      "metadata": {},
      "source": [
        "4"
      ],
      "id": "fa889d96-c0f4-4e09-adcf-52a00f891f1d"
    },
    {
      "cell_type": "raw",
      "metadata": {
        "raw_mimetype": "text/html"
      },
      "source": [
        "</td>"
      ],
      "id": "39e2f599-0d95-4f3b-93c1-628e907e97ab"
    },
    {
      "cell_type": "raw",
      "metadata": {
        "raw_mimetype": "text/html"
      },
      "source": [
        "</tr>"
      ],
      "id": "2f4f2be0-e5b3-4e3f-93d4-4c2d61b18530"
    },
    {
      "cell_type": "raw",
      "metadata": {
        "raw_mimetype": "text/html"
      },
      "source": [
        "<tr bgcolor=\"#a8fca8\">"
      ],
      "id": "d45670c7-44cc-48c7-a9e9-b5c1f2967e84"
    },
    {
      "cell_type": "raw",
      "metadata": {
        "raw_mimetype": "text/html"
      },
      "source": [
        "<td>"
      ],
      "id": "18aff80d-9073-4714-a64f-4418c2de02f5"
    },
    {
      "cell_type": "markdown",
      "metadata": {},
      "source": [
        "<a href=\"/wiki/Football_Club_de_Metz\" title=\"Football Club de Metz\">FC Metz</a>"
      ],
      "id": "45199f8d-f867-49d5-b486-16b4423df7b5"
    },
    {
      "cell_type": "raw",
      "metadata": {
        "raw_mimetype": "text/html"
      },
      "source": [
        "</td>"
      ],
      "id": "03f12513-d97b-4403-8b52-c7c99da54c8a"
    },
    {
      "cell_type": "raw",
      "metadata": {
        "raw_mimetype": "text/html"
      },
      "source": [
        "<td>"
      ],
      "id": "949fbdc0-0cd7-4ef0-982a-5cf02517768c"
    },
    {
      "cell_type": "markdown",
      "metadata": {},
      "source": [
        "2019"
      ],
      "id": "6ae60962-d120-49d4-83db-e7715ef8e9a5"
    },
    {
      "cell_type": "raw",
      "metadata": {
        "raw_mimetype": "text/html"
      },
      "source": [
        "</td>"
      ],
      "id": "619aff8f-e694-4d44-a03d-653fabac0d5b"
    },
    {
      "cell_type": "raw",
      "metadata": {
        "raw_mimetype": "text/html"
      },
      "source": [
        "<td>"
      ],
      "id": "48c32ccd-b43c-4b46-8db0-5a3cafd2f6c1"
    },
    {
      "cell_type": "markdown",
      "metadata": {},
      "source": [
        "40"
      ],
      "id": "387b4833-f4a8-4835-902f-c26b92c19c33"
    },
    {
      "cell_type": "raw",
      "metadata": {
        "raw_mimetype": "text/html"
      },
      "source": [
        "</td>"
      ],
      "id": "160cddd5-6b96-40b2-92f9-51a718ec3b45"
    },
    {
      "cell_type": "raw",
      "metadata": {
        "raw_mimetype": "text/html"
      },
      "source": [
        "<td>"
      ],
      "id": "4bca65e3-8d05-48a8-852a-13540b41da27"
    },
    {
      "cell_type": "markdown",
      "metadata": {},
      "source": [
        "<span data-sort-value=\"201 !\"></span><abbr class=\"abbr\" title=\"Premier\">1<sup>er</sup></abbr> (<a class=\"mw-redirect\" href=\"/wiki/Championnat_de_France_de_football_de_Ligue_2_2018-2019\" title=\"Championnat de France de football de Ligue 2 2018-2019\">Ligue 2</a>)"
      ],
      "id": "13dfc1bc-b10a-46ae-9c0e-fdcaa218c512"
    },
    {
      "cell_type": "raw",
      "metadata": {
        "raw_mimetype": "text/html"
      },
      "source": [
        "</td>"
      ],
      "id": "e53c2a79-9e5b-40cd-b99b-d96cf94f0451"
    },
    {
      "cell_type": "raw",
      "metadata": {
        "raw_mimetype": "text/html"
      },
      "source": [
        "<td align=\"left\">"
      ],
      "id": "09ee779e-e41b-4837-996b-842b6c77f078"
    },
    {
      "cell_type": "markdown",
      "metadata": {},
      "source": [
        "<span class=\"flagicon\"><a class=\"image\" href=\"/wiki/Fichier:Flag_of_France.svg\" title=\"Drapeau : France\"><img alt=\"\" class=\"noviewer thumbborder\" data-file-height=\"600\" data-file-width=\"900\" decoding=\"async\" height=\"13\" src=\"//upload.wikimedia.org/wikipedia/commons/thumb/c/c3/Flag_of_France.svg/20px-Flag_of_France.svg.png\" srcset=\"//upload.wikimedia.org/wikipedia/commons/thumb/c/c3/Flag_of_France.svg/30px-Flag_of_France.svg.png 1.5x, //upload.wikimedia.org/wikipedia/commons/thumb/c/c3/Flag_of_France.svg/40px-Flag_of_France.svg.png 2x\" width=\"20\"/></a></span> <a href=\"/wiki/Vincent_Hognon\" title=\"Vincent Hognon\">Vincent Hognon</a>"
      ],
      "id": "03589c45-12a8-4c10-9415-8aacc58c6831"
    },
    {
      "cell_type": "raw",
      "metadata": {
        "raw_mimetype": "text/html"
      },
      "source": [
        "</td>"
      ],
      "id": "8a79d548-3499-4748-9f38-175d72c1dd2e"
    },
    {
      "cell_type": "raw",
      "metadata": {
        "raw_mimetype": "text/html"
      },
      "source": [
        "<td>"
      ],
      "id": "aca6256a-d12b-441c-ade7-dae2903076d1"
    },
    {
      "cell_type": "markdown",
      "metadata": {},
      "source": [
        "2019"
      ],
      "id": "e41b406a-ded9-41ae-9e7e-40808e02ab6c"
    },
    {
      "cell_type": "raw",
      "metadata": {
        "raw_mimetype": "text/html"
      },
      "source": [
        "</td>"
      ],
      "id": "39dc21c5-bd7f-4b61-9e2d-50f7e5ea2193"
    },
    {
      "cell_type": "raw",
      "metadata": {
        "raw_mimetype": "text/html"
      },
      "source": [
        "<td>"
      ],
      "id": "51a8a5af-682c-4349-88b0-ad7c325f3de6"
    },
    {
      "cell_type": "markdown",
      "metadata": {},
      "source": [
        "<a href=\"/wiki/Stade_Saint-Symphorien\" title=\"Stade Saint-Symphorien\">Stade Saint-Symphorien</a>"
      ],
      "id": "5bbc545a-e5d6-422e-9731-740991e85d71"
    },
    {
      "cell_type": "raw",
      "metadata": {
        "raw_mimetype": "text/html"
      },
      "source": [
        "</td>"
      ],
      "id": "fdc397cd-910d-45e8-abb4-11a37cd847fc"
    },
    {
      "cell_type": "raw",
      "metadata": {
        "raw_mimetype": "text/html"
      },
      "source": [
        "<td>"
      ],
      "id": "db7d1359-6e14-4917-a531-5824e066686d"
    },
    {
      "cell_type": "markdown",
      "metadata": {},
      "source": [
        "25 865"
      ],
      "id": "de23b65c-0e1b-4dd0-bbea-9ecb9673a5aa"
    },
    {
      "cell_type": "raw",
      "metadata": {
        "raw_mimetype": "text/html"
      },
      "source": [
        "</td>"
      ],
      "id": "c8f1cdac-3ae6-40ce-9f9a-34b00073529d"
    },
    {
      "cell_type": "raw",
      "metadata": {
        "raw_mimetype": "text/html"
      },
      "source": [
        "<td>"
      ],
      "id": "60cfc065-6a81-46b4-8231-98c40c7764b7"
    },
    {
      "cell_type": "markdown",
      "metadata": {},
      "source": [
        "61"
      ],
      "id": "6de71d45-7385-4c1b-aa00-1c0f6b87f393"
    },
    {
      "cell_type": "raw",
      "metadata": {
        "raw_mimetype": "text/html"
      },
      "source": [
        "</td>"
      ],
      "id": "35a082e7-e13b-4c08-ae0f-8933a8e4a7e0"
    },
    {
      "cell_type": "raw",
      "metadata": {
        "raw_mimetype": "text/html"
      },
      "source": [
        "</tr>"
      ],
      "id": "a5b6fb94-0403-4c20-9620-d0e27f335daa"
    },
    {
      "cell_type": "raw",
      "metadata": {
        "raw_mimetype": "text/html"
      },
      "source": [
        "<tr bgcolor=\"#a8fca8\">"
      ],
      "id": "c0865e96-6e23-4755-8163-2aac1158bf2a"
    },
    {
      "cell_type": "raw",
      "metadata": {
        "raw_mimetype": "text/html"
      },
      "source": [
        "<td>"
      ],
      "id": "d67fd2f6-7891-4664-acf8-23f4c6d22a34"
    },
    {
      "cell_type": "markdown",
      "metadata": {},
      "source": [
        "<a href=\"/wiki/Stade_brestois_29\" title=\"Stade brestois 29\">Stade brestois 29</a>"
      ],
      "id": "6316c5c7-2458-4e2a-84b9-15f5848d540f"
    },
    {
      "cell_type": "raw",
      "metadata": {
        "raw_mimetype": "text/html"
      },
      "source": [
        "</td>"
      ],
      "id": "703074e5-99fc-4d44-aad3-cf0edbf72d98"
    },
    {
      "cell_type": "raw",
      "metadata": {
        "raw_mimetype": "text/html"
      },
      "source": [
        "<td>"
      ],
      "id": "60a6209f-fe30-4235-908c-a87911b3b1b0"
    },
    {
      "cell_type": "markdown",
      "metadata": {},
      "source": [
        "2019"
      ],
      "id": "88ca0ff4-bbec-4b12-ac83-41a60080dca2"
    },
    {
      "cell_type": "raw",
      "metadata": {
        "raw_mimetype": "text/html"
      },
      "source": [
        "</td>"
      ],
      "id": "2348194b-022e-4727-ad6c-27912c20d21d"
    },
    {
      "cell_type": "raw",
      "metadata": {
        "raw_mimetype": "text/html"
      },
      "source": [
        "<td>"
      ],
      "id": "4f109092-e359-48c0-b8ae-38fe762c7c43"
    },
    {
      "cell_type": "markdown",
      "metadata": {},
      "source": [
        "30"
      ],
      "id": "220f7e68-4e0b-4c6f-9abf-b2aafd97103b"
    },
    {
      "cell_type": "raw",
      "metadata": {
        "raw_mimetype": "text/html"
      },
      "source": [
        "</td>"
      ],
      "id": "7e1c4afe-4b10-49e6-9359-39922b06abbb"
    },
    {
      "cell_type": "raw",
      "metadata": {
        "raw_mimetype": "text/html"
      },
      "source": [
        "<td>"
      ],
      "id": "1272e9e6-b484-4e06-93ef-471e000c0fc5"
    },
    {
      "cell_type": "markdown",
      "metadata": {},
      "source": [
        "<span data-sort-value=\"202 !\"></span><abbr class=\"abbr\" title=\"Deuxième\">2<sup>e</sup></abbr> (<a class=\"mw-redirect\" href=\"/wiki/Championnat_de_France_de_football_de_Ligue_2_2018-2019\" title=\"Championnat de France de football de Ligue 2 2018-2019\">Ligue 2</a>)"
      ],
      "id": "1149be4d-54c5-4930-8795-849b16d5d3d4"
    },
    {
      "cell_type": "raw",
      "metadata": {
        "raw_mimetype": "text/html"
      },
      "source": [
        "</td>"
      ],
      "id": "2726de7f-4a3d-4ad4-b7c2-bd2f17b74ff1"
    },
    {
      "cell_type": "raw",
      "metadata": {
        "raw_mimetype": "text/html"
      },
      "source": [
        "<td align=\"left\">"
      ],
      "id": "c16ffe87-ed6c-4bcb-879c-adc586c1fd1e"
    },
    {
      "cell_type": "markdown",
      "metadata": {},
      "source": [
        "<span class=\"flagicon\"><a class=\"image\" href=\"/wiki/Fichier:Flag_of_France.svg\" title=\"Drapeau : France\"><img alt=\"\" class=\"noviewer thumbborder\" data-file-height=\"600\" data-file-width=\"900\" decoding=\"async\" height=\"13\" src=\"//upload.wikimedia.org/wikipedia/commons/thumb/c/c3/Flag_of_France.svg/20px-Flag_of_France.svg.png\" srcset=\"//upload.wikimedia.org/wikipedia/commons/thumb/c/c3/Flag_of_France.svg/30px-Flag_of_France.svg.png 1.5x, //upload.wikimedia.org/wikipedia/commons/thumb/c/c3/Flag_of_France.svg/40px-Flag_of_France.svg.png 2x\" width=\"20\"/></a></span> <a href=\"/wiki/Olivier_Dall%27Oglio\" title=\"Olivier Dall'Oglio\">Olivier Dall’Oglio</a>"
      ],
      "id": "939c92c7-225f-4288-a260-5705aef09667"
    },
    {
      "cell_type": "raw",
      "metadata": {
        "raw_mimetype": "text/html"
      },
      "source": [
        "</td>"
      ],
      "id": "49c88da7-1ac5-42f1-8f5e-e78607815905"
    },
    {
      "cell_type": "raw",
      "metadata": {
        "raw_mimetype": "text/html"
      },
      "source": [
        "<td>"
      ],
      "id": "16d77c1e-267b-4e19-adec-ed62c24f6410"
    },
    {
      "cell_type": "markdown",
      "metadata": {},
      "source": [
        "2019"
      ],
      "id": "07257983-3640-4ab7-9e91-72dcab8571bb"
    },
    {
      "cell_type": "raw",
      "metadata": {
        "raw_mimetype": "text/html"
      },
      "source": [
        "</td>"
      ],
      "id": "8ad13980-abfa-45a2-8710-e78dec8b7c6b"
    },
    {
      "cell_type": "raw",
      "metadata": {
        "raw_mimetype": "text/html"
      },
      "source": [
        "<td>"
      ],
      "id": "8f1a8e23-7725-4515-9ea8-fd626f02d42a"
    },
    {
      "cell_type": "markdown",
      "metadata": {},
      "source": [
        "<a href=\"/wiki/Stade_Francis-Le_Bl%C3%A9\" title=\"Stade Francis-Le Blé\">Stade Francis-Le Blé</a>"
      ],
      "id": "2ab6edfa-836b-4489-b134-c25a7fa2e08a"
    },
    {
      "cell_type": "raw",
      "metadata": {
        "raw_mimetype": "text/html"
      },
      "source": [
        "</td>"
      ],
      "id": "abefba20-8b72-4976-ac1a-182440439b9a"
    },
    {
      "cell_type": "raw",
      "metadata": {
        "raw_mimetype": "text/html"
      },
      "source": [
        "<td>"
      ],
      "id": "c0069b50-3d7b-4cda-b330-336a11c41975"
    },
    {
      "cell_type": "markdown",
      "metadata": {},
      "source": [
        "14 920"
      ],
      "id": "996d1e35-634e-438a-bad6-2045e621f3ec"
    },
    {
      "cell_type": "raw",
      "metadata": {
        "raw_mimetype": "text/html"
      },
      "source": [
        "</td>"
      ],
      "id": "93c12c7c-f425-4c2f-a48c-35b5507bba38"
    },
    {
      "cell_type": "raw",
      "metadata": {
        "raw_mimetype": "text/html"
      },
      "source": [
        "<td>"
      ],
      "id": "674eda3e-705a-4f7f-9a7a-3a7ebe52559d"
    },
    {
      "cell_type": "markdown",
      "metadata": {},
      "source": [
        "13"
      ],
      "id": "8e10d4f7-de48-4a74-b65a-9b75e19da9e8"
    },
    {
      "cell_type": "raw",
      "metadata": {
        "raw_mimetype": "text/html"
      },
      "source": [
        "</td>"
      ],
      "id": "2424bcdf-f5db-4bcb-ab5d-dd42a33d0d91"
    },
    {
      "cell_type": "raw",
      "metadata": {
        "raw_mimetype": "text/html"
      },
      "source": [
        "</tr>"
      ],
      "id": "50e32b42-a59e-40c8-a92c-ba7e32749d51"
    },
    {
      "cell_type": "raw",
      "metadata": {
        "raw_mimetype": "text/html"
      },
      "source": [
        "</tbody>"
      ],
      "id": "fcf42070-b612-465a-933d-367275403217"
    },
    {
      "cell_type": "raw",
      "metadata": {
        "raw_mimetype": "text/html"
      },
      "source": [
        "</table>"
      ],
      "id": "971116d0-e7ab-4aaf-85b9-649403b22c49"
    },
    {
      "cell_type": "markdown",
      "metadata": {},
      "source": [
        ":two:\n",
        "Récupérer chaque ligne du tableau"
      ],
      "id": "d1d9cdf8-e6bf-40da-964e-e9ee75630fe8"
    },
    {
      "cell_type": "code",
      "execution_count": 11,
      "metadata": {},
      "outputs": [
        {
          "output_type": "stream",
          "name": "stdout",
          "text": [
            "<tr>\n",
            "<th scope=\"col\">Club\n",
            "</th>\n",
            "<th scope=\"col\">Dernière<br/>montée\n",
            "</th>\n",
            "<th scope=\"col\">Budget<sup class=\"reference\" id=\"cite_ref-3\"><a href=\"#cite_note-3\"><span class=\"cite_crochet\">[</span>3<span class=\"cite_crochet\">]</span></a></sup><br/>en M<a href=\"/wiki/Euro\" title=\"Euro\">€</a>\n",
            "</th>\n",
            "<th scope=\"col\">Classement<br/><a href=\"/wiki/Championnat_de_France_de_football_2018-2019\" title=\"Championnat de France de football 2018-2019\">2018-2019</a>\n",
            "</th>\n",
            "<th scope=\"col\">Entraîneur\n",
            "</th>\n",
            "<th scope=\"col\">Depuis\n",
            "</th>\n",
            "<th scope=\"col\">Stade\n",
            "</th>\n",
            "<th scope=\"col\">Capacité<br/>en L1<sup class=\"reference\" id=\"cite_ref-4\"><a href=\"#cite_note-4\"><span class=\"cite_crochet\">[</span>4<span class=\"cite_crochet\">]</span></a></sup>\n",
            "</th>\n",
            "<th scope=\"col\">Nombre<br/>de saisons<br/>en L1\n",
            "</th></tr>"
          ]
        }
      ],
      "source": [
        "table_body = tableau_participants.find('tbody')\n",
        "\n",
        "# on recherche toutes les lignes du tableau avec la balise \"tr\"\n",
        "rows = table_body.find_all('tr')\n",
        "\n",
        "# on obtient une liste où chaque élément est une des lignes du tableau\n",
        "\n",
        "# par exemple la première ligne va correspondre aux entêtes de colonne\n",
        "print(rows[0])"
      ],
      "id": "e3cfc762-1fd2-4239-8f08-199fbc1af856"
    },
    {
      "cell_type": "code",
      "execution_count": 12,
      "metadata": {},
      "outputs": [
        {
          "output_type": "stream",
          "name": "stdout",
          "text": [
            "<tr bgcolor=\"#97DEFF\">\n",
            "<td><a href=\"/wiki/Paris_Saint-Germain_Football_Club\" title=\"Paris Saint-Germain Football Club\">Paris Saint-Germain</a>\n",
            "</td>\n",
            "<td>1974\n",
            "</td>\n",
            "<td>637\n",
            "</td>\n",
            "<td><span data-sort-value=\"101 !\"></span><abbr class=\"abbr\" title=\"Premier\">1<sup>er</sup></abbr>\n",
            "</td>\n",
            "<td align=\"left\"><span class=\"flagicon\"><a class=\"image\" href=\"/wiki/Fichier:Flag_of_Germany.svg\" title=\"Drapeau : Allemagne\"><img alt=\"\" class=\"noviewer thumbborder\" data-file-height=\"600\" data-file-width=\"1000\" decoding=\"async\" height=\"12\" src=\"//upload.wikimedia.org/wikipedia/commons/thumb/b/ba/Flag_of_Germany.svg/20px-Flag_of_Germany.svg.png\" srcset=\"//upload.wikimedia.org/wikipedia/commons/thumb/b/ba/Flag_of_Germany.svg/30px-Flag_of_Germany.svg.png 1.5x, //upload.wikimedia.org/wikipedia/commons/thumb/b/ba/Flag_of_Germany.svg/40px-Flag_of_Germany.svg.png 2x\" width=\"20\"/></a></span> <a href=\"/wiki/Thomas_Tuchel\" title=\"Thomas Tuchel\">Thomas Tuchel</a>\n",
            "</td>\n",
            "<td>2018\n",
            "</td>\n",
            "<td><a href=\"/wiki/Parc_des_Princes\" title=\"Parc des Princes\">Parc des Princes</a>\n",
            "</td>\n",
            "<td>47 929\n",
            "</td>\n",
            "<td>46\n",
            "</td></tr>"
          ]
        }
      ],
      "source": [
        "# par exemple la seconde ligne va correspondre à la ligne du premier club présent dans le tableau\n",
        "\n",
        "print(rows[1])"
      ],
      "id": "46fa13ba-52e2-4944-a811-98eb85a63563"
    },
    {
      "cell_type": "markdown",
      "metadata": {},
      "source": [
        ":three:\n",
        "Nettoyer les sorties en ne gardant que le texte sur une ligne\n",
        "\n",
        "On va utiliser l’attribut `text` afin de se débarasser de toute la couche de HTML qu’on obtient à l’étape 2.\n",
        "\n",
        "Un exemple sur la ligne du premier club :\n",
        "- on commence par prendre toutes les cellules de cette ligne, avec la balise `td`.\n",
        "- on fait ensuite une boucle sur chacune des cellules et on ne garde que le texte de la cellule avec l’attribut `text`.\n",
        "- enfin, on applique la méthode `strip()` pour que le texte soit bien mis en forme (sans espace inutile etc)."
      ],
      "id": "e038e7b4-dea4-45f4-8c0f-045990ef5477"
    },
    {
      "cell_type": "code",
      "execution_count": 13,
      "metadata": {},
      "outputs": [
        {
          "output_type": "stream",
          "name": "stdout",
          "text": [
            "<td><a href=\"/wiki/Paris_Saint-Germain_Football_Club\" title=\"Paris Saint-Germain Football Club\">Paris Saint-Germain</a>\n",
            "</td>\n",
            "Paris Saint-Germain"
          ]
        }
      ],
      "source": [
        "cols = rows[1].find_all('td')\n",
        "print(cols[0])\n",
        "print(cols[0].text.strip())"
      ],
      "id": "0e6baf67-708a-43d9-aaf5-c1756a5446f8"
    },
    {
      "cell_type": "code",
      "execution_count": 14,
      "metadata": {},
      "outputs": [
        {
          "output_type": "stream",
          "name": "stdout",
          "text": [
            "Paris Saint-Germain\n",
            "1974\n",
            "637\n",
            "1er\n",
            "Thomas Tuchel\n",
            "2018\n",
            "Parc des Princes\n",
            "47 929\n",
            "46"
          ]
        }
      ],
      "source": [
        "for ele in cols : \n",
        "    print(ele.text.strip())"
      ],
      "id": "0387e725-1176-4a8d-9d22-63d48f1e5699"
    },
    {
      "cell_type": "markdown",
      "metadata": {},
      "source": [
        ":four:\n",
        "Généraliser sur toutes les lignes"
      ],
      "id": "d333f063-23d5-44a2-a014-79ff37a2fc22"
    },
    {
      "cell_type": "code",
      "execution_count": 15,
      "metadata": {},
      "outputs": [
        {
          "output_type": "stream",
          "name": "stdout",
          "text": [
            "[]\n",
            "['Paris Saint-Germain', '1974', '637', '1er', 'Thomas Tuchel', '2018', 'Parc des Princes', '47\\xa0929', '46']\n",
            "['LOSC Lille', '2000', '120', '2e', 'Christophe Galtier', '2017', 'Stade Pierre-Mauroy', '49\\xa0712', '59']\n",
            "['Olympique lyonnais', '1989', '310', '3e', 'Rudi Garcia', '2019', 'Groupama Stadium', '57\\xa0206', '60']\n",
            "['AS Saint-Étienne', '2004', '100', '4e', 'Claude Puel', '2019', 'Stade Geoffroy-Guichard', '41\\xa0965', '66']\n",
            "['Olympique de Marseille', '1996', '110', '5e', 'André Villas-Boas', '2019', 'Orange Vélodrome', '66\\xa0226', '69']\n",
            "['Montpellier HSC', '2009', '40', '6e', 'Michel Der Zakarian', '2017', 'Stade de la Mosson', '22\\xa0000', '27']\n",
            "['OGC Nice', '2002', '50', '7e', 'Patrick Vieira', '2018', 'Allianz Riviera', '35\\xa0596', '60']\n",
            "['Stade de Reims', '2018', '45', '8e', 'David Guion', '2017', 'Stade Auguste-Delaune', '20\\xa0546', '35']\n",
            "['Nîmes Olympique', '2018', '27', '9e', 'Bernard Blaquart', '2015', 'Stade des Costières', '15\\xa0788', '35']\n",
            "['Stade rennais FC', '1994', '65', '10e', 'Julien Stéphan', '2018', 'Roazhon Park', '29\\xa0194', '62']\n",
            "['RC Strasbourg Alsace', '2017', '43', '11e', 'Thierry Laurey', '2016', 'Stade de la Meinau', '26\\xa0109', '58']\n",
            "['FC Nantes', '2013', '70', '12e', 'Christian Gourcuff', '2019', 'Stade de la Beaujoire - Louis Fonteneau', '35\\xa0322', '51']\n",
            "['SCO d’Angers', '2015', '32', '13e', 'Stéphane Moulin', '2011', 'Stade Raymond-Kopa', '14\\xa0582', '27']\n",
            "['Girondins de Bordeaux', '1992', '70', '14e', 'Paulo Sousa', '2019', 'Matmut Atlantique', '42\\xa0115', '66']\n",
            "['Amiens SC', '2017', '30', '15e', 'Luka Elsner', '2019', 'Stade Crédit Agricole la Licorne', '12\\xa0999', '2']\n",
            "['Toulouse FC', '2003', '35', '16e', 'Denis Zanko', '2020', 'Stadium de Toulouse', '33\\xa0033', '32']\n",
            "['AS Monaco', '2013', '220', '17e', 'Robert Moreno', '2019', 'Stade Louis-II', '16\\xa0500', '60']\n",
            "['Dijon FCO', '2016', '38', '18e', 'Stéphane Jobard', '2019', 'Parc des Sports Gaston-Gérard', '15\\xa0459', '4']\n",
            "['FC Metz', '2019', '40', '1er (Ligue 2)', 'Vincent Hognon', '2019', 'Stade Saint-Symphorien', '25\\xa0865', '61']\n",
            "['Stade brestois 29', '2019', '30', '2e (Ligue 2)', \"Olivier Dall'Oglio\", '2019', 'Stade Francis-Le Blé', '14\\xa0920', '13']"
          ]
        }
      ],
      "source": [
        "for row in rows:\n",
        "    cols = row.find_all('td')\n",
        "    cols = [ele.text.strip() for ele in cols]\n",
        "    print(cols)"
      ],
      "id": "e1682e81-3b91-461c-9c3c-c588fdbb612e"
    },
    {
      "cell_type": "markdown",
      "metadata": {},
      "source": [
        "On a bien réussi à avoir les informations contenues dans le tableau des participants du championnat.\n",
        "Mais la première ligne est étrange : c’est une liste vide …\n",
        "\n",
        "Il s’agit des en-têtes : elles sont reconnues par la balise `th` et non `td`.\n",
        "\n",
        "On va mettre tout le contenu dans un dictionnaire, pour le transformer ensuite en DataFrame pandas :"
      ],
      "id": "ce7a6e02-7ea2-41e5-ae6f-07cc6da0ca5b"
    },
    {
      "cell_type": "code",
      "execution_count": 16,
      "metadata": {},
      "outputs": [
        {
          "output_type": "display_data",
          "metadata": {},
          "data": {
            "text/plain": [
              "{'Paris Saint-Germain': ['1974',\n",
              "  '637',\n",
              "  '1er',\n",
              "  'Thomas Tuchel',\n",
              "  '2018',\n",
              "  'Parc des Princes',\n",
              "  '47\\xa0929',\n",
              "  '46'],\n",
              " 'LOSC Lille': ['2000',\n",
              "  '120',\n",
              "  '2e',\n",
              "  'Christophe Galtier',\n",
              "  '2017',\n",
              "  'Stade Pierre-Mauroy',\n",
              "  '49\\xa0712',\n",
              "  '59'],\n",
              " 'Olympique lyonnais': ['1989',\n",
              "  '310',\n",
              "  '3e',\n",
              "  'Rudi Garcia',\n",
              "  '2019',\n",
              "  'Groupama Stadium',\n",
              "  '57\\xa0206',\n",
              "  '60'],\n",
              " 'AS Saint-Étienne': ['2004',\n",
              "  '100',\n",
              "  '4e',\n",
              "  'Claude Puel',\n",
              "  '2019',\n",
              "  'Stade Geoffroy-Guichard',\n",
              "  '41\\xa0965',\n",
              "  '66'],\n",
              " 'Olympique de Marseille': ['1996',\n",
              "  '110',\n",
              "  '5e',\n",
              "  'André Villas-Boas',\n",
              "  '2019',\n",
              "  'Orange Vélodrome',\n",
              "  '66\\xa0226',\n",
              "  '69'],\n",
              " 'Montpellier HSC': ['2009',\n",
              "  '40',\n",
              "  '6e',\n",
              "  'Michel Der Zakarian',\n",
              "  '2017',\n",
              "  'Stade de la Mosson',\n",
              "  '22\\xa0000',\n",
              "  '27'],\n",
              " 'OGC Nice': ['2002',\n",
              "  '50',\n",
              "  '7e',\n",
              "  'Patrick Vieira',\n",
              "  '2018',\n",
              "  'Allianz Riviera',\n",
              "  '35\\xa0596',\n",
              "  '60'],\n",
              " 'Stade de Reims': ['2018',\n",
              "  '45',\n",
              "  '8e',\n",
              "  'David Guion',\n",
              "  '2017',\n",
              "  'Stade Auguste-Delaune',\n",
              "  '20\\xa0546',\n",
              "  '35'],\n",
              " 'Nîmes Olympique': ['2018',\n",
              "  '27',\n",
              "  '9e',\n",
              "  'Bernard Blaquart',\n",
              "  '2015',\n",
              "  'Stade des Costières',\n",
              "  '15\\xa0788',\n",
              "  '35'],\n",
              " 'Stade rennais FC': ['1994',\n",
              "  '65',\n",
              "  '10e',\n",
              "  'Julien Stéphan',\n",
              "  '2018',\n",
              "  'Roazhon Park',\n",
              "  '29\\xa0194',\n",
              "  '62'],\n",
              " 'RC Strasbourg Alsace': ['2017',\n",
              "  '43',\n",
              "  '11e',\n",
              "  'Thierry Laurey',\n",
              "  '2016',\n",
              "  'Stade de la Meinau',\n",
              "  '26\\xa0109',\n",
              "  '58'],\n",
              " 'FC Nantes': ['2013',\n",
              "  '70',\n",
              "  '12e',\n",
              "  'Christian Gourcuff',\n",
              "  '2019',\n",
              "  'Stade de la Beaujoire - Louis Fonteneau',\n",
              "  '35\\xa0322',\n",
              "  '51'],\n",
              " 'SCO d’Angers': ['2015',\n",
              "  '32',\n",
              "  '13e',\n",
              "  'Stéphane Moulin',\n",
              "  '2011',\n",
              "  'Stade Raymond-Kopa',\n",
              "  '14\\xa0582',\n",
              "  '27'],\n",
              " 'Girondins de Bordeaux': ['1992',\n",
              "  '70',\n",
              "  '14e',\n",
              "  'Paulo Sousa',\n",
              "  '2019',\n",
              "  'Matmut Atlantique',\n",
              "  '42\\xa0115',\n",
              "  '66'],\n",
              " 'Amiens SC': ['2017',\n",
              "  '30',\n",
              "  '15e',\n",
              "  'Luka Elsner',\n",
              "  '2019',\n",
              "  'Stade Crédit Agricole la Licorne',\n",
              "  '12\\xa0999',\n",
              "  '2'],\n",
              " 'Toulouse FC': ['2003',\n",
              "  '35',\n",
              "  '16e',\n",
              "  'Denis Zanko',\n",
              "  '2020',\n",
              "  'Stadium de Toulouse',\n",
              "  '33\\xa0033',\n",
              "  '32'],\n",
              " 'AS Monaco': ['2013',\n",
              "  '220',\n",
              "  '17e',\n",
              "  'Robert Moreno',\n",
              "  '2019',\n",
              "  'Stade Louis-II',\n",
              "  '16\\xa0500',\n",
              "  '60'],\n",
              " 'Dijon FCO': ['2016',\n",
              "  '38',\n",
              "  '18e',\n",
              "  'Stéphane Jobard',\n",
              "  '2019',\n",
              "  'Parc des Sports Gaston-Gérard',\n",
              "  '15\\xa0459',\n",
              "  '4'],\n",
              " 'FC Metz': ['2019',\n",
              "  '40',\n",
              "  '1er (Ligue 2)',\n",
              "  'Vincent Hognon',\n",
              "  '2019',\n",
              "  'Stade Saint-Symphorien',\n",
              "  '25\\xa0865',\n",
              "  '61'],\n",
              " 'Stade brestois 29': ['2019',\n",
              "  '30',\n",
              "  '2e (Ligue 2)',\n",
              "  \"Olivier Dall'Oglio\",\n",
              "  '2019',\n",
              "  'Stade Francis-Le Blé',\n",
              "  '14\\xa0920',\n",
              "  '13']}"
            ]
          }
        }
      ],
      "source": [
        "dico_participants = dict()\n",
        "for row in rows:\n",
        "    cols = row.find_all('td')\n",
        "    cols = [ele.text.strip() for ele in cols]\n",
        "    if len(cols) > 0 : \n",
        "        dico_participants[cols[0]] = cols[1:]\n",
        "dico_participants"
      ],
      "id": "885811d6-640b-46cf-9d04-b7b62d55e142"
    },
    {
      "cell_type": "code",
      "execution_count": 17,
      "metadata": {},
      "outputs": [
        {
          "output_type": "display_data",
          "metadata": {},
          "data": {
            "text/html": [
              "<div>\n",
              "<style scoped>\n",
              "    .dataframe tbody tr th:only-of-type {\n",
              "        vertical-align: middle;\n",
              "    }\n",
              "\n",
              "    .dataframe tbody tr th {\n",
              "        vertical-align: top;\n",
              "    }\n",
              "\n",
              "    .dataframe thead th {\n",
              "        text-align: right;\n",
              "    }\n",
              "</style>\n",
              "<table border=\"1\" class=\"dataframe\">\n",
              "  <thead>\n",
              "    <tr style=\"text-align: right;\">\n",
              "      <th></th>\n",
              "      <th>0</th>\n",
              "      <th>1</th>\n",
              "      <th>2</th>\n",
              "      <th>3</th>\n",
              "      <th>4</th>\n",
              "      <th>5</th>\n",
              "      <th>6</th>\n",
              "      <th>7</th>\n",
              "    </tr>\n",
              "  </thead>\n",
              "  <tbody>\n",
              "    <tr>\n",
              "      <th>Paris Saint-Germain</th>\n",
              "      <td>1974</td>\n",
              "      <td>637</td>\n",
              "      <td>1er</td>\n",
              "      <td>Thomas Tuchel</td>\n",
              "      <td>2018</td>\n",
              "      <td>Parc des Princes</td>\n",
              "      <td>47 929</td>\n",
              "      <td>46</td>\n",
              "    </tr>\n",
              "    <tr>\n",
              "      <th>LOSC Lille</th>\n",
              "      <td>2000</td>\n",
              "      <td>120</td>\n",
              "      <td>2e</td>\n",
              "      <td>Christophe Galtier</td>\n",
              "      <td>2017</td>\n",
              "      <td>Stade Pierre-Mauroy</td>\n",
              "      <td>49 712</td>\n",
              "      <td>59</td>\n",
              "    </tr>\n",
              "    <tr>\n",
              "      <th>Olympique lyonnais</th>\n",
              "      <td>1989</td>\n",
              "      <td>310</td>\n",
              "      <td>3e</td>\n",
              "      <td>Rudi Garcia</td>\n",
              "      <td>2019</td>\n",
              "      <td>Groupama Stadium</td>\n",
              "      <td>57 206</td>\n",
              "      <td>60</td>\n",
              "    </tr>\n",
              "    <tr>\n",
              "      <th>AS Saint-Étienne</th>\n",
              "      <td>2004</td>\n",
              "      <td>100</td>\n",
              "      <td>4e</td>\n",
              "      <td>Claude Puel</td>\n",
              "      <td>2019</td>\n",
              "      <td>Stade Geoffroy-Guichard</td>\n",
              "      <td>41 965</td>\n",
              "      <td>66</td>\n",
              "    </tr>\n",
              "    <tr>\n",
              "      <th>Olympique de Marseille</th>\n",
              "      <td>1996</td>\n",
              "      <td>110</td>\n",
              "      <td>5e</td>\n",
              "      <td>André Villas-Boas</td>\n",
              "      <td>2019</td>\n",
              "      <td>Orange Vélodrome</td>\n",
              "      <td>66 226</td>\n",
              "      <td>69</td>\n",
              "    </tr>\n",
              "  </tbody>\n",
              "</table>\n",
              "</div>"
            ]
          }
        }
      ],
      "source": [
        "data_participants = pandas.DataFrame.from_dict(dico_participants,orient='index')\n",
        "data_participants.head()"
      ],
      "id": "2b3a6f84-0cf7-43fc-86be-08f3d4a709a2"
    },
    {
      "cell_type": "markdown",
      "metadata": {},
      "source": [
        ":five:\n",
        "Récupérer les entêtes du tableau"
      ],
      "id": "c2e55652-e1ba-4be5-a116-4901d93a8811"
    },
    {
      "cell_type": "code",
      "execution_count": 18,
      "metadata": {},
      "outputs": [
        {
          "output_type": "stream",
          "name": "stdout",
          "text": [
            "[<th scope=\"col\">Club\n",
            "</th>, <th scope=\"col\">Dernière<br/>montée\n",
            "</th>, <th scope=\"col\">Budget<sup class=\"reference\" id=\"cite_ref-3\"><a href=\"#cite_note-3\"><span class=\"cite_crochet\">[</span>3<span class=\"cite_crochet\">]</span></a></sup><br/>en M<a href=\"/wiki/Euro\" title=\"Euro\">€</a>\n",
            "</th>, <th scope=\"col\">Classement<br/><a href=\"/wiki/Championnat_de_France_de_football_2018-2019\" title=\"Championnat de France de football 2018-2019\">2018-2019</a>\n",
            "</th>, <th scope=\"col\">Entraîneur\n",
            "</th>, <th scope=\"col\">Depuis\n",
            "</th>, <th scope=\"col\">Stade\n",
            "</th>, <th scope=\"col\">Capacité<br/>en L1<sup class=\"reference\" id=\"cite_ref-4\"><a href=\"#cite_note-4\"><span class=\"cite_crochet\">[</span>4<span class=\"cite_crochet\">]</span></a></sup>\n",
            "</th>, <th scope=\"col\">Nombre<br/>de saisons<br/>en L1\n",
            "</th>]\n",
            "[]\n",
            "[]\n",
            "[]\n",
            "[]\n",
            "[]\n",
            "[]\n",
            "[]\n",
            "[]\n",
            "[]\n",
            "[]\n",
            "[]\n",
            "[]\n",
            "[]\n",
            "[]\n",
            "[]\n",
            "[]\n",
            "[]\n",
            "[]\n",
            "[]\n",
            "[]"
          ]
        }
      ],
      "source": [
        "for row in rows:\n",
        "    cols = row.find_all('th')\n",
        "    print(cols)\n",
        "    if len(cols) > 0 : \n",
        "        cols = [ele.get_text(separator=' ').strip().title() for ele in cols]\n",
        "        columns_participants = cols"
      ],
      "id": "5f8ff226-92a9-41c5-b1e6-6d99075f2a40"
    },
    {
      "cell_type": "code",
      "execution_count": 19,
      "metadata": {},
      "outputs": [
        {
          "output_type": "display_data",
          "metadata": {},
          "data": {
            "text/plain": [
              "['Club',\n",
              " 'Dernière Montée',\n",
              " 'Budget [ 3 ] En M €',\n",
              " 'Classement 2018-2019',\n",
              " 'Entraîneur',\n",
              " 'Depuis',\n",
              " 'Stade',\n",
              " 'Capacité En L1 [ 4 ]',\n",
              " 'Nombre De Saisons En L1']"
            ]
          }
        }
      ],
      "source": [
        "columns_participants"
      ],
      "id": "53ab1f28-fb13-4508-a2da-e4e719cd09a0"
    },
    {
      "cell_type": "markdown",
      "metadata": {},
      "source": [
        ":six: Finalisation du tableau"
      ],
      "id": "68b694e3-8800-4f77-9f9b-6ddef00442d9"
    },
    {
      "cell_type": "code",
      "execution_count": 21,
      "metadata": {},
      "outputs": [],
      "source": [
        "data_participants.columns = columns_participants[1:]"
      ],
      "id": "3ac27b95-ce69-497c-84c8-4784bc7e3171"
    },
    {
      "cell_type": "code",
      "execution_count": 22,
      "metadata": {},
      "outputs": [
        {
          "output_type": "display_data",
          "metadata": {},
          "data": {
            "text/html": [
              "<div>\n",
              "<style scoped>\n",
              "    .dataframe tbody tr th:only-of-type {\n",
              "        vertical-align: middle;\n",
              "    }\n",
              "\n",
              "    .dataframe tbody tr th {\n",
              "        vertical-align: top;\n",
              "    }\n",
              "\n",
              "    .dataframe thead th {\n",
              "        text-align: right;\n",
              "    }\n",
              "</style>\n",
              "<table border=\"1\" class=\"dataframe\">\n",
              "  <thead>\n",
              "    <tr style=\"text-align: right;\">\n",
              "      <th></th>\n",
              "      <th>Dernière Montée</th>\n",
              "      <th>Budget [ 3 ] En M €</th>\n",
              "      <th>Classement 2018-2019</th>\n",
              "      <th>Entraîneur</th>\n",
              "      <th>Depuis</th>\n",
              "      <th>Stade</th>\n",
              "      <th>Capacité En L1 [ 4 ]</th>\n",
              "      <th>Nombre De Saisons En L1</th>\n",
              "    </tr>\n",
              "  </thead>\n",
              "  <tbody>\n",
              "    <tr>\n",
              "      <th>Paris Saint-Germain</th>\n",
              "      <td>1974</td>\n",
              "      <td>637</td>\n",
              "      <td>1er</td>\n",
              "      <td>Thomas Tuchel</td>\n",
              "      <td>2018</td>\n",
              "      <td>Parc des Princes</td>\n",
              "      <td>47 929</td>\n",
              "      <td>46</td>\n",
              "    </tr>\n",
              "    <tr>\n",
              "      <th>LOSC Lille</th>\n",
              "      <td>2000</td>\n",
              "      <td>120</td>\n",
              "      <td>2e</td>\n",
              "      <td>Christophe Galtier</td>\n",
              "      <td>2017</td>\n",
              "      <td>Stade Pierre-Mauroy</td>\n",
              "      <td>49 712</td>\n",
              "      <td>59</td>\n",
              "    </tr>\n",
              "    <tr>\n",
              "      <th>Olympique lyonnais</th>\n",
              "      <td>1989</td>\n",
              "      <td>310</td>\n",
              "      <td>3e</td>\n",
              "      <td>Rudi Garcia</td>\n",
              "      <td>2019</td>\n",
              "      <td>Groupama Stadium</td>\n",
              "      <td>57 206</td>\n",
              "      <td>60</td>\n",
              "    </tr>\n",
              "    <tr>\n",
              "      <th>AS Saint-Étienne</th>\n",
              "      <td>2004</td>\n",
              "      <td>100</td>\n",
              "      <td>4e</td>\n",
              "      <td>Claude Puel</td>\n",
              "      <td>2019</td>\n",
              "      <td>Stade Geoffroy-Guichard</td>\n",
              "      <td>41 965</td>\n",
              "      <td>66</td>\n",
              "    </tr>\n",
              "    <tr>\n",
              "      <th>Olympique de Marseille</th>\n",
              "      <td>1996</td>\n",
              "      <td>110</td>\n",
              "      <td>5e</td>\n",
              "      <td>André Villas-Boas</td>\n",
              "      <td>2019</td>\n",
              "      <td>Orange Vélodrome</td>\n",
              "      <td>66 226</td>\n",
              "      <td>69</td>\n",
              "    </tr>\n",
              "  </tbody>\n",
              "</table>\n",
              "</div>"
            ]
          }
        }
      ],
      "source": [
        "data_participants.head()"
      ],
      "id": "d0018d5d-dbb5-4b5b-bb26-22d51873a139"
    },
    {
      "cell_type": "markdown",
      "metadata": {},
      "source": [
        "## Pour aller plus loin\n",
        "\n",
        "### Récupération des localisations des stades\n",
        "\n",
        "Essayez de comprendre pas à pas ce qui est fait dans les étapes qui suivent (la récupération d’informations supplémentaires en naviguant dans les pages des différents clubs)."
      ],
      "id": "3147192b-62f2-45d5-ac0f-fc5b13ecc0bf"
    },
    {
      "cell_type": "code",
      "execution_count": 23,
      "metadata": {},
      "outputs": [
        {
          "output_type": "stream",
          "name": "stdout",
          "text": [
            "http://fr.wikipedia.org/wiki/Championnat_de_France_de_football_2019-2020"
          ]
        },
        {
          "output_type": "stream",
          "name": "stdout",
          "text": [
            "http://fr.wikipedia.org/wiki/Paris_Saint-Germain_Football_Club"
          ]
        },
        {
          "output_type": "stream",
          "name": "stdout",
          "text": [
            "http://fr.wikipedia.org/wiki/Parc_des_Princes"
          ]
        },
        {
          "output_type": "stream",
          "name": "stdout",
          "text": [
            "48° 50′ 29″ N, 2° 15′ 11″ E\n",
            "http://fr.wikipedia.org/wiki/LOSC_Lille"
          ]
        },
        {
          "output_type": "stream",
          "name": "stdout",
          "text": [
            "http://fr.wikipedia.org/wiki/Stade_Pierre-Mauroy"
          ]
        },
        {
          "output_type": "stream",
          "name": "stdout",
          "text": [
            "50° 36′ 43″ N, 3° 07′ 50″ E\n",
            "http://fr.wikipedia.org/wiki/Olympique_lyonnais"
          ]
        },
        {
          "output_type": "stream",
          "name": "stdout",
          "text": [
            "http://fr.wikipedia.org/wiki/Parc_Olympique_lyonnais"
          ]
        },
        {
          "output_type": "stream",
          "name": "stdout",
          "text": [
            "45° 45′ 55″ N, 4° 58′ 55″ E\n",
            "http://fr.wikipedia.org/wiki/Association_sportive_de_Saint-%C3%89tienne"
          ]
        },
        {
          "output_type": "stream",
          "name": "stdout",
          "text": [
            "http://fr.wikipedia.org/wiki/Stade_Geoffroy-Guichard"
          ]
        },
        {
          "output_type": "stream",
          "name": "stdout",
          "text": [
            "45° 27′ 39″ N, 4° 23′ 25″ E\n",
            "http://fr.wikipedia.org/wiki/Olympique_de_Marseille"
          ]
        },
        {
          "output_type": "stream",
          "name": "stdout",
          "text": [
            "http://fr.wikipedia.org/wiki/Orange_V%C3%A9lodrome"
          ]
        },
        {
          "output_type": "stream",
          "name": "stdout",
          "text": [
            "43° 16′ 11″ N, 5° 23′ 45″ E\n",
            "http://fr.wikipedia.org/wiki/Montpellier_H%C3%A9rault_Sport_Club"
          ]
        },
        {
          "output_type": "stream",
          "name": "stdout",
          "text": [
            "http://fr.wikipedia.org/wiki/Stade_de_la_Mosson"
          ]
        },
        {
          "output_type": "stream",
          "name": "stdout",
          "text": [
            "43° 37′ 19″ N, 3° 48′ 44″ E\n",
            "http://fr.wikipedia.org/wiki/Stade_de_Reims"
          ]
        },
        {
          "output_type": "stream",
          "name": "stdout",
          "text": [
            "http://fr.wikipedia.org/wiki/Stade_Auguste-Delaune"
          ]
        },
        {
          "output_type": "stream",
          "name": "stdout",
          "text": [
            "49° 14′ 48″ N, 4° 01′ 30″ E\n",
            "http://fr.wikipedia.org/wiki/Olympique_Gymnaste_Club_Nice"
          ]
        },
        {
          "output_type": "stream",
          "name": "stdout",
          "text": [
            "http://fr.wikipedia.org/wiki/Allianz_Riviera"
          ]
        },
        {
          "output_type": "stream",
          "name": "stdout",
          "text": [
            "43° 42′ 18″ N, 7° 11′ 33″ E\n",
            "http://fr.wikipedia.org/wiki/N%C3%AEmes_Olympique"
          ]
        },
        {
          "output_type": "stream",
          "name": "stdout",
          "text": [
            "http://fr.wikipedia.org/wiki/Stade_des_Costi%C3%A8res"
          ]
        },
        {
          "output_type": "stream",
          "name": "stdout",
          "text": [
            "43° 48′ 58″ N, 4° 21′ 33″ E\n",
            "http://fr.wikipedia.org/wiki/Racing_Club_de_Strasbourg_Alsace"
          ]
        },
        {
          "output_type": "stream",
          "name": "stdout",
          "text": [
            "http://fr.wikipedia.org/wiki/Stade_de_la_Meinau"
          ]
        },
        {
          "output_type": "stream",
          "name": "stdout",
          "text": [
            "48° 33′ 36″ N, 7° 45′ 18″ E\n",
            "http://fr.wikipedia.org/wiki/Stade_rennais_Football_Club"
          ]
        },
        {
          "output_type": "stream",
          "name": "stdout",
          "text": [
            "http://fr.wikipedia.org/wiki/Roazhon_Park"
          ]
        },
        {
          "output_type": "stream",
          "name": "stdout",
          "text": [
            "48° 06′ 27″ N, 1° 42′ 46″ O\n",
            "http://fr.wikipedia.org/wiki/Angers_sporting_club_de_l%27Ouest"
          ]
        },
        {
          "output_type": "stream",
          "name": "stdout",
          "text": [
            "http://fr.wikipedia.org/wiki/Stade_Raymond-Kopa"
          ]
        },
        {
          "output_type": "stream",
          "name": "stdout",
          "text": [
            "47° 27′ 38″ N, 0° 31′ 51″ O\n",
            "http://fr.wikipedia.org/wiki/Football_Club_de_Metz"
          ]
        },
        {
          "output_type": "stream",
          "name": "stdout",
          "text": [
            "http://fr.wikipedia.org/wiki/Stade_Saint-Symphorien"
          ]
        },
        {
          "output_type": "stream",
          "name": "stdout",
          "text": [
            "49° 06′ 35″ N, 6° 09′ 33″ E\n",
            "http://fr.wikipedia.org/wiki/Football_Club_de_Nantes"
          ]
        },
        {
          "output_type": "stream",
          "name": "stdout",
          "text": [
            "http://fr.wikipedia.org/wiki/Stade_de_la_Beaujoire"
          ]
        },
        {
          "output_type": "stream",
          "name": "stdout",
          "text": [
            "47° 15′ 20″ N, 1° 31′ 31″ O\n",
            "http://fr.wikipedia.org/wiki/Stade_brestois_29"
          ]
        },
        {
          "output_type": "stream",
          "name": "stdout",
          "text": [
            "http://fr.wikipedia.org/wiki/Stade_Francis-Le_Bl%C3%A9"
          ]
        },
        {
          "output_type": "stream",
          "name": "stdout",
          "text": [
            "48° 24′ 11″ N, 4° 27′ 42″ O\n",
            "http://fr.wikipedia.org/wiki/Football_Club_des_Girondins_de_Bordeaux"
          ]
        },
        {
          "output_type": "stream",
          "name": "stdout",
          "text": [
            "http://fr.wikipedia.org/wiki/Matmut_Atlantique"
          ]
        },
        {
          "output_type": "stream",
          "name": "stdout",
          "text": [
            "44° 53′ 50″ N, 0° 33′ 41″ O\n",
            "http://fr.wikipedia.org/wiki/Toulouse_Football_Club"
          ]
        },
        {
          "output_type": "stream",
          "name": "stdout",
          "text": [
            "http://fr.wikipedia.org/wiki/Stadium_de_Toulouse"
          ]
        },
        {
          "output_type": "stream",
          "name": "stdout",
          "text": [
            "43° 35′ 00″ N, 1° 26′ 03″ E\n",
            "http://fr.wikipedia.org/wiki/Amiens_Sporting_Club"
          ]
        },
        {
          "output_type": "stream",
          "name": "stdout",
          "text": [
            "http://fr.wikipedia.org/wiki/Stade_de_la_Licorne"
          ]
        },
        {
          "output_type": "stream",
          "name": "stdout",
          "text": [
            "49° 53′ 38″ N, 2° 15′ 49″ E\n",
            "http://fr.wikipedia.org/wiki/Association_sportive_de_Monaco_football_club"
          ]
        },
        {
          "output_type": "stream",
          "name": "stdout",
          "text": [
            "http://fr.wikipedia.org/wiki/Stade_Louis-II"
          ]
        },
        {
          "output_type": "stream",
          "name": "stdout",
          "text": [
            "43° 43′ 39″ N, 7° 24′ 56″ E\n",
            "http://fr.wikipedia.org/wiki/Dijon_Football_C%C3%B4te-d%27Or"
          ]
        },
        {
          "output_type": "stream",
          "name": "stdout",
          "text": [
            "http://fr.wikipedia.org/wiki/Stade_Gaston-G%C3%A9rard"
          ]
        },
        {
          "output_type": "stream",
          "name": "stdout",
          "text": [
            "47° 19′ 28″ N, 5° 04′ 06″ E\n",
            "http://fr.wikipedia.org/wiki/Championnat_de_France_de_football_de_Ligue_2_2019-2020"
          ]
        },
        {
          "output_type": "stream",
          "name": "stdout",
          "text": [
            "http://fr.wikipedia.org/wiki/Athletic_Club_ajaccien"
          ]
        },
        {
          "output_type": "stream",
          "name": "stdout",
          "text": [
            "http://fr.wikipedia.org/wiki/Stade_Fran%C3%A7ois-Coty"
          ]
        },
        {
          "output_type": "stream",
          "name": "stdout",
          "text": [
            "41° 55′ 51″ N, 8° 46′ 35″ E\n",
            "http://fr.wikipedia.org/wiki/Association_sportive_Nancy-Lorraine"
          ]
        },
        {
          "output_type": "stream",
          "name": "stdout",
          "text": [
            "http://fr.wikipedia.org/wiki/Stade_Marcel-Picot"
          ]
        },
        {
          "output_type": "stream",
          "name": "stdout",
          "text": [
            "48° 41′ 43″ N, 6° 12′ 38″ E\n",
            "http://fr.wikipedia.org/wiki/Le_Havre_Athletic_Club_(football)"
          ]
        },
        {
          "output_type": "stream",
          "name": "stdout",
          "text": [
            "http://fr.wikipedia.org/wiki/Stade_Oc%C3%A9ane"
          ]
        },
        {
          "output_type": "stream",
          "name": "stdout",
          "text": [
            "49° 29′ 56″ N, 0° 10′ 11″ E\n",
            "http://fr.wikipedia.org/wiki/Stade_Malherbe_Caen_Calvados_Basse-Normandie"
          ]
        },
        {
          "output_type": "stream",
          "name": "stdout",
          "text": [
            "http://fr.wikipedia.org/wiki/Stade_Michel-d%27Ornano"
          ]
        },
        {
          "output_type": "stream",
          "name": "stdout",
          "text": [
            "49° 10′ 46″ N, 0° 23′ 48″ O\n",
            "http://fr.wikipedia.org/wiki/Clermont_Foot_63"
          ]
        },
        {
          "output_type": "stream",
          "name": "stdout",
          "text": [
            "http://fr.wikipedia.org/wiki/Stade_Gabriel-Montpied"
          ]
        },
        {
          "output_type": "stream",
          "name": "stdout",
          "text": [
            "45° 48′ 57″ N, 3° 07′ 18″ E\n",
            "http://fr.wikipedia.org/wiki/En_Avant_de_Guingamp"
          ]
        },
        {
          "output_type": "stream",
          "name": "stdout",
          "text": [
            "http://fr.wikipedia.org/wiki/Stade_de_Roudourou"
          ]
        },
        {
          "output_type": "stream",
          "name": "stdout",
          "text": [
            "48° 33′ 58″ N, 3° 09′ 52″ O\n",
            "http://fr.wikipedia.org/wiki/Football_Club_Lorient"
          ]
        },
        {
          "output_type": "stream",
          "name": "stdout",
          "text": [
            "http://fr.wikipedia.org/wiki/Stade_du_Moustoir"
          ]
        },
        {
          "output_type": "stream",
          "name": "stdout",
          "text": [
            "47° 44′ 56″ N, 3° 22′ 09″ O\n",
            "http://fr.wikipedia.org/wiki/Paris_Football_Club"
          ]
        },
        {
          "output_type": "stream",
          "name": "stdout",
          "text": [
            "http://fr.wikipedia.org/wiki/Stade_Charl%C3%A9ty"
          ]
        },
        {
          "output_type": "stream",
          "name": "stdout",
          "text": [
            "48° 49′ 07″ N, 2° 20′ 47″ E\n",
            "http://fr.wikipedia.org/wiki/La_Berrichonne_de_Ch%C3%A2teauroux"
          ]
        },
        {
          "output_type": "stream",
          "name": "stdout",
          "text": [
            "http://fr.wikipedia.org/wiki/Stade_Gaston-Petit"
          ]
        },
        {
          "output_type": "stream",
          "name": "stdout",
          "text": [
            "46° 48′ 07″ N, 1° 43′ 18″ E\n",
            "http://fr.wikipedia.org/wiki/Association_de_la_jeunesse_auxerroise"
          ]
        },
        {
          "output_type": "stream",
          "name": "stdout",
          "text": [
            "http://fr.wikipedia.org/wiki/Stade_de_l%27Abb%C3%A9-Deschamps"
          ]
        },
        {
          "output_type": "stream",
          "name": "stdout",
          "text": [
            "47° 47′ 12″ N, 3° 35′ 19″ E\n",
            "http://fr.wikipedia.org/wiki/Union_sportive_Orl%C3%A9ans_Loiret_football"
          ]
        },
        {
          "output_type": "stream",
          "name": "stdout",
          "text": [
            "http://fr.wikipedia.org/wiki/Stade_de_la_Source"
          ]
        },
        {
          "output_type": "stream",
          "name": "stdout",
          "text": [
            "47° 50′ 25″ N, 1° 56′ 28″ E\n",
            "http://fr.wikipedia.org/wiki/Valenciennes_Football_Club"
          ]
        },
        {
          "output_type": "stream",
          "name": "stdout",
          "text": [
            "http://fr.wikipedia.org/wiki/Stade_du_Hainaut"
          ]
        },
        {
          "output_type": "stream",
          "name": "stdout",
          "text": [
            "50° 20′ 55″ N, 3° 31′ 56″ E\n",
            "http://fr.wikipedia.org/wiki/Chamois_niortais_Football_Club"
          ]
        },
        {
          "output_type": "stream",
          "name": "stdout",
          "text": [
            "http://fr.wikipedia.org/wiki/Stade_Ren%C3%A9-Gaillard"
          ]
        },
        {
          "output_type": "stream",
          "name": "stdout",
          "text": [
            "46° 19′ 01″ N, 0° 29′ 21″ O\n",
            "http://fr.wikipedia.org/wiki/Grenoble_Foot_38"
          ]
        },
        {
          "output_type": "stream",
          "name": "stdout",
          "text": [
            "http://fr.wikipedia.org/wiki/Stade_des_Alpes"
          ]
        },
        {
          "output_type": "stream",
          "name": "stdout",
          "text": [
            "45° 11′ 15″ N, 5° 44′ 24″ E\n",
            "http://fr.wikipedia.org/wiki/Football_Club_Sochaux-Montb%C3%A9liard"
          ]
        },
        {
          "output_type": "stream",
          "name": "stdout",
          "text": [
            "http://fr.wikipedia.org/wiki/Stade_Auguste-Bonal"
          ]
        },
        {
          "output_type": "stream",
          "name": "stdout",
          "text": [
            "47° 30′ 44″ N, 6° 48′ 41″ E\n",
            "http://fr.wikipedia.org/wiki/Rodez_Aveyron_Football"
          ]
        },
        {
          "output_type": "stream",
          "name": "stdout",
          "text": [
            "http://fr.wikipedia.org/wiki/Stade_Paul-Lignon"
          ]
        },
        {
          "output_type": "stream",
          "name": "stdout",
          "text": [
            "44° 21′ 06″ N, 2° 33′ 49″ E\n",
            "http://fr.wikipedia.org/wiki/Football_Club_de_Chambly_Oise"
          ]
        },
        {
          "output_type": "stream",
          "name": "stdout",
          "text": [
            "http://fr.wikipedia.org/wiki/Stade_Walter_Luzi"
          ]
        },
        {
          "output_type": "stream",
          "name": "stdout",
          "text": [
            "49° 10′ 45″ N, 2° 14′ 01″ E\n",
            "http://fr.wikipedia.org/wiki/Esp%C3%A9rance_sportive_Troyes_Aube_Champagne"
          ]
        },
        {
          "output_type": "stream",
          "name": "stdout",
          "text": [
            "http://fr.wikipedia.org/wiki/Stade_de_l%27Aube"
          ]
        },
        {
          "output_type": "stream",
          "name": "stdout",
          "text": [
            "48° 18′ 27″ N, 4° 05′ 55″ E\n",
            "http://fr.wikipedia.org/wiki/Racing_Club_de_Lens"
          ]
        },
        {
          "output_type": "stream",
          "name": "stdout",
          "text": [
            "http://fr.wikipedia.org/wiki/Stade_Bollaert-Delelis"
          ]
        },
        {
          "output_type": "stream",
          "name": "stdout",
          "text": [
            "50° 25′ 58″ N, 2° 48′ 54″ E\n",
            "http://fr.wikipedia.org/wiki/Le_Mans_Football_Club"
          ]
        },
        {
          "output_type": "stream",
          "name": "stdout",
          "text": [
            "http://fr.wikipedia.org/w/index.php?title=Stade_Marie_Marvingt&action=edit&redlink=1"
          ]
        }
      ],
      "source": [
        "import urllib\n",
        "import pandas as pd\n",
        "import bs4 \n",
        "\n",
        "division=[]\n",
        "equipe=[]\n",
        "stade=[]\n",
        "latitude_stade=[]        \n",
        "longitude_stade=[]     \n",
        "\n",
        "def dms2dd(degrees, minutes, seconds, direction):\n",
        "    dd = float(degrees) + float(minutes)/60 + float(seconds)/(60*60);\n",
        "    if direction == 'S' or direction == 'O':\n",
        "        dd *= -1\n",
        "    return dd;\n",
        "\n",
        "url_list=[\"http://fr.wikipedia.org/wiki/Championnat_de_France_de_football_2019-2020\", \"http://fr.wikipedia.org/wiki/Championnat_de_France_de_football_de_Ligue_2_2019-2020\"]\n",
        "\n",
        "for url_ligue in url_list :\n",
        "       \n",
        "    print(url_ligue)\n",
        "    sock = urllib.request.urlopen(url_ligue).read() \n",
        "    page=bs4.BeautifulSoup(sock)\n",
        "\n",
        "# Rechercher les liens des équipes dans la liste disponible sur wikipedia \n",
        "\n",
        "    for team in page.findAll('span' , {'class' : 'toponyme'}) :  \n",
        "        \n",
        "        # Indiquer si c'est de la ligue 1 ou de la ligue 2\n",
        "        \n",
        "        if url_ligue==url_list[0] :\n",
        "            division.append(\"L1\")\n",
        "        else :\n",
        "            division.append(\"L2\")\n",
        "\n",
        "       # Trouver le nom et le lien de l'équipe\n",
        "            \n",
        "        if team.find('a')!=None :\n",
        "            team_url=team.find('a').get('href')\n",
        "            name_team=team.find('a').get('title')\n",
        "            equipe.append(name_team)\n",
        "            url_get_info = \"http://fr.wikipedia.org\"+team_url\n",
        "            print(url_get_info)\n",
        " \n",
        "       # aller sur la page de l'équipe\n",
        "           \n",
        "            search = urllib.request.urlopen(url_get_info).read()\n",
        "            search_team=bs4.BeautifulSoup(search)\n",
        "\n",
        "       # trouver le stade             \n",
        "            compteur = 0\n",
        "            for stadium in search_team.findAll('tr'):\n",
        "                for x in stadium.findAll('th' , {'scope' : 'row'} ) :\n",
        "                    if x.contents[0].string==\"Stade\" and compteur == 0:\n",
        "                        compteur = 1\n",
        "                        # trouver le lien du stade et son nom\n",
        "                        url_stade=stadium.findAll('a')[1].get('href')\n",
        "                        name_stadium=stadium.findAll('a')[1].get('title')\n",
        "                        stade.append(name_stadium)\n",
        "                        url_get_stade = \"http://fr.wikipedia.org\"+url_stade\n",
        "                        print(url_get_stade)\n",
        "                        \n",
        "                        # Aller sur la page du stade et trouver ses coodronnées géographiques\n",
        "                        \n",
        "                        search_stade = urllib.request.urlopen(url_get_stade).read()\n",
        "                        soup_stade=bs4.BeautifulSoup(search_stade) \n",
        "                        kartographer = soup_stade.find('a',{'class': \"mw-kartographer-maplink\"})\n",
        "                        if kartographer == None :\n",
        "                          latitude_stade.append(None)\n",
        "                          longitude_stade.append(None) \n",
        "                        else :\n",
        "                            for coordinates in kartographer :\n",
        "                                print(coordinates)\n",
        "                                liste =   coordinates.split(\",\")          \n",
        "                                latitude_stade.append(str(liste[0]).replace(\" \", \"\") + \"'\")\n",
        "                                longitude_stade.append(str(liste[1]).replace(\" \", \"\") + \"'\")\n",
        "                            \n",
        "\n",
        "dict = {'division' : division , 'equipe': equipe, 'stade': stade, 'latitude': latitude_stade, 'longitude' : longitude_stade}\n",
        "data = pd.DataFrame(dict)\n",
        "data = data.dropna()"
      ],
      "id": "2968bf5b-aa02-4a32-aea6-f7f0beb5315f"
    },
    {
      "cell_type": "code",
      "execution_count": 24,
      "metadata": {},
      "outputs": [
        {
          "output_type": "display_data",
          "metadata": {},
          "data": {
            "text/html": [
              "<div>\n",
              "<style scoped>\n",
              "    .dataframe tbody tr th:only-of-type {\n",
              "        vertical-align: middle;\n",
              "    }\n",
              "\n",
              "    .dataframe tbody tr th {\n",
              "        vertical-align: top;\n",
              "    }\n",
              "\n",
              "    .dataframe thead th {\n",
              "        text-align: right;\n",
              "    }\n",
              "</style>\n",
              "<table border=\"1\" class=\"dataframe\">\n",
              "  <thead>\n",
              "    <tr style=\"text-align: right;\">\n",
              "      <th></th>\n",
              "      <th>division</th>\n",
              "      <th>equipe</th>\n",
              "      <th>stade</th>\n",
              "      <th>latitude</th>\n",
              "      <th>longitude</th>\n",
              "    </tr>\n",
              "  </thead>\n",
              "  <tbody>\n",
              "    <tr>\n",
              "      <th>0</th>\n",
              "      <td>L1</td>\n",
              "      <td>Paris Saint-Germain Football Club</td>\n",
              "      <td>Parc des Princes</td>\n",
              "      <td>48° 50′ 29″ N'</td>\n",
              "      <td>2° 15′ 11″ E'</td>\n",
              "    </tr>\n",
              "    <tr>\n",
              "      <th>1</th>\n",
              "      <td>L1</td>\n",
              "      <td>LOSC Lille</td>\n",
              "      <td>Stade Pierre-Mauroy</td>\n",
              "      <td>50° 36′ 43″ N'</td>\n",
              "      <td>3° 07′ 50″ E'</td>\n",
              "    </tr>\n",
              "    <tr>\n",
              "      <th>2</th>\n",
              "      <td>L1</td>\n",
              "      <td>Olympique lyonnais</td>\n",
              "      <td>Parc Olympique lyonnais</td>\n",
              "      <td>45° 45′ 55″ N'</td>\n",
              "      <td>4° 58′ 55″ E'</td>\n",
              "    </tr>\n",
              "    <tr>\n",
              "      <th>3</th>\n",
              "      <td>L1</td>\n",
              "      <td>Association sportive de Saint-Étienne</td>\n",
              "      <td>Stade Geoffroy-Guichard</td>\n",
              "      <td>45° 27′ 39″ N'</td>\n",
              "      <td>4° 23′ 25″ E'</td>\n",
              "    </tr>\n",
              "    <tr>\n",
              "      <th>4</th>\n",
              "      <td>L1</td>\n",
              "      <td>Olympique de Marseille</td>\n",
              "      <td>Orange Vélodrome</td>\n",
              "      <td>43° 16′ 11″ N'</td>\n",
              "      <td>5° 23′ 45″ E'</td>\n",
              "    </tr>\n",
              "  </tbody>\n",
              "</table>\n",
              "</div>"
            ]
          }
        }
      ],
      "source": [
        "data.head(5)"
      ],
      "id": "548639a4-b2a7-4f5d-8fcd-d5287efa0e9b"
    },
    {
      "cell_type": "markdown",
      "metadata": {},
      "source": [
        "On va transformer les coordonnées en degrés en coordonnées numériques\n",
        "afin d’être en mesure de faire une carte"
      ],
      "id": "e617630c-05e0-4a12-b033-12933230a861"
    },
    {
      "cell_type": "code",
      "execution_count": 25,
      "metadata": {},
      "outputs": [],
      "source": [
        "import re\n",
        "\n",
        "def dms2dd(degrees, minutes, seconds, direction):\n",
        "    dd = float(degrees) + float(minutes)/60 + float(seconds)/(60*60);\n",
        "    if direction in ('S', 'O'):\n",
        "        dd *= -1\n",
        "    return dd\n",
        "\n",
        "def parse_dms(dms):\n",
        "    parts = re.split('[^\\d\\w]+', dms)\n",
        "    lat = dms2dd(parts[0], parts[1], parts[2], parts[3])\n",
        "    #lng = dms2dd(parts[4], parts[5], parts[6], parts[7])\n",
        "    return lat"
      ],
      "id": "47fd9039-2676-4dc2-b2e8-b04035b67e96"
    },
    {
      "cell_type": "code",
      "execution_count": 26,
      "metadata": {},
      "outputs": [],
      "source": [
        "data['latitude'] = data['latitude'].apply(parse_dms)\n",
        "data['longitude'] = data['longitude'].apply(parse_dms)"
      ],
      "id": "fe077fe1-7489-4f42-bc90-25282650edf7"
    },
    {
      "cell_type": "markdown",
      "metadata": {},
      "source": [
        "Tous les éléments sont en place pour faire une belle carte à ce stade. On\n",
        "va utilisee `folium` pour celle-ci, qui est présenté dans la partie\n",
        "[visualisation](#cartotp).\n",
        "\n",
        "### Carte des stades avec `folium`"
      ],
      "id": "e8ba3b82-8157-41ab-a0a9-4f5502506720"
    },
    {
      "cell_type": "code",
      "execution_count": 27,
      "metadata": {},
      "outputs": [],
      "source": [
        "#!pip install geopandas\n",
        "import geopandas as gpd\n",
        "from pathlib import Path\n",
        "import folium\n",
        "\n",
        "gdf = gpd.GeoDataFrame(\n",
        "    data, geometry=gpd.points_from_xy(data.longitude, data.latitude))\n",
        "\n",
        "Path(\"leaflet\").mkdir(parents=True, exist_ok=True)\n",
        "\n",
        "center = gdf[['latitude', 'longitude']].mean().values.tolist()\n",
        "sw = gdf[['latitude', 'longitude']].min().values.tolist()\n",
        "ne = gdf[['latitude', 'longitude']].max().values.tolist()\n",
        "\n",
        "m = folium.Map(location = center, tiles='Stamen Toner')\n",
        "\n",
        "# I can add marker one by one on the map\n",
        "for i in range(0,len(gdf)):\n",
        "    folium.Marker([gdf.iloc[i]['latitude'], gdf.iloc[i]['longitude']], popup=gdf.iloc[i]['stade']).add_to(m) \n",
        "\n",
        "m.fit_bounds([sw, ne])"
      ],
      "id": "52d81054-66fd-42fb-8fa1-ae4c08880e83"
    },
    {
      "cell_type": "markdown",
      "metadata": {},
      "source": [
        "La carte obtenue doit ressembler à la suivante:\n",
        "\n",
        "{{< rawhtml >}}"
      ],
      "id": "e4edea59-b1f4-40a0-9dcd-93481458d1c3"
    },
    {
      "cell_type": "code",
      "execution_count": 28,
      "metadata": {},
      "outputs": [
        {
          "output_type": "display_data",
          "metadata": {},
          "data": {
            "text/html": [
              "<div style=\"width:100%;\"><div style=\"position:relative;width:100%;height:0;padding-bottom:60%;\"><span style=\"color:#565656\">Make this Notebook Trusted to load map: File -> Trust Notebook</span><iframe srcdoc=\"&lt;!DOCTYPE html&gt;\n",
              "&lt;head&gt;    \n",
              "    &lt;meta http-equiv=&quot;content-type&quot; content=&quot;text/html; charset=UTF-8&quot; /&gt;\n",
              "    \n",
              "        &lt;script&gt;\n",
              "            L_NO_TOUCH = false;\n",
              "            L_DISABLE_3D = false;\n",
              "        &lt;/script&gt;\n",
              "    \n",
              "    &lt;style&gt;html, body {width: 100%;height: 100%;margin: 0;padding: 0;}&lt;/style&gt;\n",
              "    &lt;style&gt;#map {position:absolute;top:0;bottom:0;right:0;left:0;}&lt;/style&gt;\n",
              "    &lt;script src=&quot;https://cdn.jsdelivr.net/npm/leaflet@1.6.0/dist/leaflet.js&quot;&gt;&lt;/script&gt;\n",
              "    &lt;script src=&quot;https://code.jquery.com/jquery-1.12.4.min.js&quot;&gt;&lt;/script&gt;\n",
              "    &lt;script src=&quot;https://maxcdn.bootstrapcdn.com/bootstrap/3.2.0/js/bootstrap.min.js&quot;&gt;&lt;/script&gt;\n",
              "    &lt;script src=&quot;https://cdnjs.cloudflare.com/ajax/libs/Leaflet.awesome-markers/2.0.2/leaflet.awesome-markers.js&quot;&gt;&lt;/script&gt;\n",
              "    &lt;link rel=&quot;stylesheet&quot; href=&quot;https://cdn.jsdelivr.net/npm/leaflet@1.6.0/dist/leaflet.css&quot;/&gt;\n",
              "    &lt;link rel=&quot;stylesheet&quot; href=&quot;https://maxcdn.bootstrapcdn.com/bootstrap/3.2.0/css/bootstrap.min.css&quot;/&gt;\n",
              "    &lt;link rel=&quot;stylesheet&quot; href=&quot;https://maxcdn.bootstrapcdn.com/bootstrap/3.2.0/css/bootstrap-theme.min.css&quot;/&gt;\n",
              "    &lt;link rel=&quot;stylesheet&quot; href=&quot;https://maxcdn.bootstrapcdn.com/font-awesome/4.6.3/css/font-awesome.min.css&quot;/&gt;\n",
              "    &lt;link rel=&quot;stylesheet&quot; href=&quot;https://cdnjs.cloudflare.com/ajax/libs/Leaflet.awesome-markers/2.0.2/leaflet.awesome-markers.css&quot;/&gt;\n",
              "    &lt;link rel=&quot;stylesheet&quot; href=&quot;https://cdn.jsdelivr.net/gh/python-visualization/folium/folium/templates/leaflet.awesome.rotate.min.css&quot;/&gt;\n",
              "    \n",
              "            &lt;meta name=&quot;viewport&quot; content=&quot;width=device-width,\n",
              "                initial-scale=1.0, maximum-scale=1.0, user-scalable=no&quot; /&gt;\n",
              "            &lt;style&gt;\n",
              "                #map_65c22d299bf5b5293acfd388d884478d {\n",
              "                    position: relative;\n",
              "                    width: 100.0%;\n",
              "                    height: 100.0%;\n",
              "                    left: 0.0%;\n",
              "                    top: 0.0%;\n",
              "                }\n",
              "            &lt;/style&gt;\n",
              "        \n",
              "&lt;/head&gt;\n",
              "&lt;body&gt;    \n",
              "    \n",
              "            &lt;div class=&quot;folium-map&quot; id=&quot;map_65c22d299bf5b5293acfd388d884478d&quot; &gt;&lt;/div&gt;\n",
              "        \n",
              "&lt;/body&gt;\n",
              "&lt;script&gt;    \n",
              "    \n",
              "            var map_65c22d299bf5b5293acfd388d884478d = L.map(\n",
              "                &quot;map_65c22d299bf5b5293acfd388d884478d&quot;,\n",
              "                {\n",
              "                    center: [47.10207264957264, 2.797321937321937],\n",
              "                    crs: L.CRS.EPSG3857,\n",
              "                    zoom: 10,\n",
              "                    zoomControl: true,\n",
              "                    preferCanvas: false,\n",
              "                }\n",
              "            );\n",
              "\n",
              "            \n",
              "\n",
              "        \n",
              "    \n",
              "            var tile_layer_612394d545cca58ea5ca1076b276358a = L.tileLayer(\n",
              "                &quot;https://stamen-tiles-{s}.a.ssl.fastly.net/toner/{z}/{x}/{y}.png&quot;,\n",
              "                {&quot;attribution&quot;: &quot;Map tiles by \\u003ca href=\\&quot;http://stamen.com\\&quot;\\u003eStamen Design\\u003c/a\\u003e, under \\u003ca href=\\&quot;http://creativecommons.org/licenses/by/3.0\\&quot;\\u003eCC BY 3.0\\u003c/a\\u003e. Data by \\u0026copy; \\u003ca href=\\&quot;http://openstreetmap.org\\&quot;\\u003eOpenStreetMap\\u003c/a\\u003e, under \\u003ca href=\\&quot;http://www.openstreetmap.org/copyright\\&quot;\\u003eODbL\\u003c/a\\u003e.&quot;, &quot;detectRetina&quot;: false, &quot;maxNativeZoom&quot;: 18, &quot;maxZoom&quot;: 18, &quot;minZoom&quot;: 0, &quot;noWrap&quot;: false, &quot;opacity&quot;: 1, &quot;subdomains&quot;: &quot;abc&quot;, &quot;tms&quot;: false}\n",
              "            ).addTo(map_65c22d299bf5b5293acfd388d884478d);\n",
              "        \n",
              "    \n",
              "            var marker_9e1e7a06494e0faf8b4ccb5d95bfef66 = L.marker(\n",
              "                [48.84138888888889, 2.2530555555555556],\n",
              "                {}\n",
              "            ).addTo(map_65c22d299bf5b5293acfd388d884478d);\n",
              "        \n",
              "    \n",
              "        var popup_8ab94d7af5e8ea63413ecb4643bb100b = L.popup({&quot;maxWidth&quot;: &quot;100%&quot;});\n",
              "\n",
              "        \n",
              "            var html_bfde060bfff6c80f3dd94bcb405e2030 = $(`&lt;div id=&quot;html_bfde060bfff6c80f3dd94bcb405e2030&quot; style=&quot;width: 100.0%; height: 100.0%;&quot;&gt;Parc des Princes&lt;/div&gt;`)[0];\n",
              "            popup_8ab94d7af5e8ea63413ecb4643bb100b.setContent(html_bfde060bfff6c80f3dd94bcb405e2030);\n",
              "        \n",
              "\n",
              "        marker_9e1e7a06494e0faf8b4ccb5d95bfef66.bindPopup(popup_8ab94d7af5e8ea63413ecb4643bb100b)\n",
              "        ;\n",
              "\n",
              "        \n",
              "    \n",
              "    \n",
              "            var marker_798618ba8bcffd96765a1fd6c8c6692c = L.marker(\n",
              "                [50.61194444444445, 3.1305555555555555],\n",
              "                {}\n",
              "            ).addTo(map_65c22d299bf5b5293acfd388d884478d);\n",
              "        \n",
              "    \n",
              "        var popup_c15e90cee0f608982015aedc21e66636 = L.popup({&quot;maxWidth&quot;: &quot;100%&quot;});\n",
              "\n",
              "        \n",
              "            var html_0b2daf07ea0f0d869c638cff33e589df = $(`&lt;div id=&quot;html_0b2daf07ea0f0d869c638cff33e589df&quot; style=&quot;width: 100.0%; height: 100.0%;&quot;&gt;Stade Pierre-Mauroy&lt;/div&gt;`)[0];\n",
              "            popup_c15e90cee0f608982015aedc21e66636.setContent(html_0b2daf07ea0f0d869c638cff33e589df);\n",
              "        \n",
              "\n",
              "        marker_798618ba8bcffd96765a1fd6c8c6692c.bindPopup(popup_c15e90cee0f608982015aedc21e66636)\n",
              "        ;\n",
              "\n",
              "        \n",
              "    \n",
              "    \n",
              "            var marker_31213974ab795effdc96171aa637a47e = L.marker(\n",
              "                [45.765277777777776, 4.981944444444444],\n",
              "                {}\n",
              "            ).addTo(map_65c22d299bf5b5293acfd388d884478d);\n",
              "        \n",
              "    \n",
              "        var popup_81d85ed8d335bcf8b7d29ee9b5c1a547 = L.popup({&quot;maxWidth&quot;: &quot;100%&quot;});\n",
              "\n",
              "        \n",
              "            var html_7b90e396889e9ef703332a60e2465e18 = $(`&lt;div id=&quot;html_7b90e396889e9ef703332a60e2465e18&quot; style=&quot;width: 100.0%; height: 100.0%;&quot;&gt;Parc Olympique lyonnais&lt;/div&gt;`)[0];\n",
              "            popup_81d85ed8d335bcf8b7d29ee9b5c1a547.setContent(html_7b90e396889e9ef703332a60e2465e18);\n",
              "        \n",
              "\n",
              "        marker_31213974ab795effdc96171aa637a47e.bindPopup(popup_81d85ed8d335bcf8b7d29ee9b5c1a547)\n",
              "        ;\n",
              "\n",
              "        \n",
              "    \n",
              "    \n",
              "            var marker_495fc64048971db657b4db99d810d137 = L.marker(\n",
              "                [45.46083333333333, 4.390277777777778],\n",
              "                {}\n",
              "            ).addTo(map_65c22d299bf5b5293acfd388d884478d);\n",
              "        \n",
              "    \n",
              "        var popup_1a791ed8ed3caeed22f92f283b68609f = L.popup({&quot;maxWidth&quot;: &quot;100%&quot;});\n",
              "\n",
              "        \n",
              "            var html_dfffa1525f395bf06f414789cd0aeba4 = $(`&lt;div id=&quot;html_dfffa1525f395bf06f414789cd0aeba4&quot; style=&quot;width: 100.0%; height: 100.0%;&quot;&gt;Stade Geoffroy-Guichard&lt;/div&gt;`)[0];\n",
              "            popup_1a791ed8ed3caeed22f92f283b68609f.setContent(html_dfffa1525f395bf06f414789cd0aeba4);\n",
              "        \n",
              "\n",
              "        marker_495fc64048971db657b4db99d810d137.bindPopup(popup_1a791ed8ed3caeed22f92f283b68609f)\n",
              "        ;\n",
              "\n",
              "        \n",
              "    \n",
              "    \n",
              "            var marker_701c6c7025c31aed0651fffcd7b93f45 = L.marker(\n",
              "                [43.26972222222222, 5.395833333333334],\n",
              "                {}\n",
              "            ).addTo(map_65c22d299bf5b5293acfd388d884478d);\n",
              "        \n",
              "    \n",
              "        var popup_10ca9552666d154534293d65a4997eee = L.popup({&quot;maxWidth&quot;: &quot;100%&quot;});\n",
              "\n",
              "        \n",
              "            var html_2cea4f6336250b23e2ea0f2eecc9876e = $(`&lt;div id=&quot;html_2cea4f6336250b23e2ea0f2eecc9876e&quot; style=&quot;width: 100.0%; height: 100.0%;&quot;&gt;Orange Vélodrome&lt;/div&gt;`)[0];\n",
              "            popup_10ca9552666d154534293d65a4997eee.setContent(html_2cea4f6336250b23e2ea0f2eecc9876e);\n",
              "        \n",
              "\n",
              "        marker_701c6c7025c31aed0651fffcd7b93f45.bindPopup(popup_10ca9552666d154534293d65a4997eee)\n",
              "        ;\n",
              "\n",
              "        \n",
              "    \n",
              "    \n",
              "            var marker_e2822bdc1178fdab1a6e9cb685d065a4 = L.marker(\n",
              "                [43.621944444444445, 3.812222222222222],\n",
              "                {}\n",
              "            ).addTo(map_65c22d299bf5b5293acfd388d884478d);\n",
              "        \n",
              "    \n",
              "        var popup_32bacdd007c95a89529bc65993e1cdff = L.popup({&quot;maxWidth&quot;: &quot;100%&quot;});\n",
              "\n",
              "        \n",
              "            var html_c420a3a0ede063983070d311e97ffe24 = $(`&lt;div id=&quot;html_c420a3a0ede063983070d311e97ffe24&quot; style=&quot;width: 100.0%; height: 100.0%;&quot;&gt;Stade de la Mosson&lt;/div&gt;`)[0];\n",
              "            popup_32bacdd007c95a89529bc65993e1cdff.setContent(html_c420a3a0ede063983070d311e97ffe24);\n",
              "        \n",
              "\n",
              "        marker_e2822bdc1178fdab1a6e9cb685d065a4.bindPopup(popup_32bacdd007c95a89529bc65993e1cdff)\n",
              "        ;\n",
              "\n",
              "        \n",
              "    \n",
              "    \n",
              "            var marker_6205e6ad1b13b2042cece7555a8443a2 = L.marker(\n",
              "                [49.24666666666667, 4.025],\n",
              "                {}\n",
              "            ).addTo(map_65c22d299bf5b5293acfd388d884478d);\n",
              "        \n",
              "    \n",
              "        var popup_c11059bfaf2ed48012e5d552383679a5 = L.popup({&quot;maxWidth&quot;: &quot;100%&quot;});\n",
              "\n",
              "        \n",
              "            var html_9726e1b0af0c190c693657d31da45aed = $(`&lt;div id=&quot;html_9726e1b0af0c190c693657d31da45aed&quot; style=&quot;width: 100.0%; height: 100.0%;&quot;&gt;Stade Auguste-Delaune&lt;/div&gt;`)[0];\n",
              "            popup_c11059bfaf2ed48012e5d552383679a5.setContent(html_9726e1b0af0c190c693657d31da45aed);\n",
              "        \n",
              "\n",
              "        marker_6205e6ad1b13b2042cece7555a8443a2.bindPopup(popup_c11059bfaf2ed48012e5d552383679a5)\n",
              "        ;\n",
              "\n",
              "        \n",
              "    \n",
              "    \n",
              "            var marker_7d6d7c3703a701d750d1d1d2b0aeb363 = L.marker(\n",
              "                [43.705000000000005, 7.1925],\n",
              "                {}\n",
              "            ).addTo(map_65c22d299bf5b5293acfd388d884478d);\n",
              "        \n",
              "    \n",
              "        var popup_6c7a5fa1fcd6da913a712b89cc7969cc = L.popup({&quot;maxWidth&quot;: &quot;100%&quot;});\n",
              "\n",
              "        \n",
              "            var html_9008ce9c295c5c47778e6ecd93cfd75e = $(`&lt;div id=&quot;html_9008ce9c295c5c47778e6ecd93cfd75e&quot; style=&quot;width: 100.0%; height: 100.0%;&quot;&gt;Allianz Riviera&lt;/div&gt;`)[0];\n",
              "            popup_6c7a5fa1fcd6da913a712b89cc7969cc.setContent(html_9008ce9c295c5c47778e6ecd93cfd75e);\n",
              "        \n",
              "\n",
              "        marker_7d6d7c3703a701d750d1d1d2b0aeb363.bindPopup(popup_6c7a5fa1fcd6da913a712b89cc7969cc)\n",
              "        ;\n",
              "\n",
              "        \n",
              "    \n",
              "    \n",
              "            var marker_8363c1434842ffea7eb0ce231d3446d7 = L.marker(\n",
              "                [43.816111111111105, 4.359166666666666],\n",
              "                {}\n",
              "            ).addTo(map_65c22d299bf5b5293acfd388d884478d);\n",
              "        \n",
              "    \n",
              "        var popup_8f2d87bf080c54d35d57b70a538d7c13 = L.popup({&quot;maxWidth&quot;: &quot;100%&quot;});\n",
              "\n",
              "        \n",
              "            var html_f319bb18e08a9ff069bab12ce50d4173 = $(`&lt;div id=&quot;html_f319bb18e08a9ff069bab12ce50d4173&quot; style=&quot;width: 100.0%; height: 100.0%;&quot;&gt;Stade des Costières&lt;/div&gt;`)[0];\n",
              "            popup_8f2d87bf080c54d35d57b70a538d7c13.setContent(html_f319bb18e08a9ff069bab12ce50d4173);\n",
              "        \n",
              "\n",
              "        marker_8363c1434842ffea7eb0ce231d3446d7.bindPopup(popup_8f2d87bf080c54d35d57b70a538d7c13)\n",
              "        ;\n",
              "\n",
              "        \n",
              "    \n",
              "    \n",
              "            var marker_868d27b175887fa8b912a22b96fa59d6 = L.marker(\n",
              "                [48.559999999999995, 7.755],\n",
              "                {}\n",
              "            ).addTo(map_65c22d299bf5b5293acfd388d884478d);\n",
              "        \n",
              "    \n",
              "        var popup_4862fa4910c31e2c9d50763bb9f1a94d = L.popup({&quot;maxWidth&quot;: &quot;100%&quot;});\n",
              "\n",
              "        \n",
              "            var html_1cd4c66b78b999a188750d4a34240aa4 = $(`&lt;div id=&quot;html_1cd4c66b78b999a188750d4a34240aa4&quot; style=&quot;width: 100.0%; height: 100.0%;&quot;&gt;Stade de la Meinau&lt;/div&gt;`)[0];\n",
              "            popup_4862fa4910c31e2c9d50763bb9f1a94d.setContent(html_1cd4c66b78b999a188750d4a34240aa4);\n",
              "        \n",
              "\n",
              "        marker_868d27b175887fa8b912a22b96fa59d6.bindPopup(popup_4862fa4910c31e2c9d50763bb9f1a94d)\n",
              "        ;\n",
              "\n",
              "        \n",
              "    \n",
              "    \n",
              "            var marker_8782098154ee5d505c4183e03566afd7 = L.marker(\n",
              "                [48.1075, -1.7127777777777777],\n",
              "                {}\n",
              "            ).addTo(map_65c22d299bf5b5293acfd388d884478d);\n",
              "        \n",
              "    \n",
              "        var popup_eec35b6d478bcd7acff29a1cf9787219 = L.popup({&quot;maxWidth&quot;: &quot;100%&quot;});\n",
              "\n",
              "        \n",
              "            var html_e3388cf43f775f96acc47146bfd87e0e = $(`&lt;div id=&quot;html_e3388cf43f775f96acc47146bfd87e0e&quot; style=&quot;width: 100.0%; height: 100.0%;&quot;&gt;Roazhon Park&lt;/div&gt;`)[0];\n",
              "            popup_eec35b6d478bcd7acff29a1cf9787219.setContent(html_e3388cf43f775f96acc47146bfd87e0e);\n",
              "        \n",
              "\n",
              "        marker_8782098154ee5d505c4183e03566afd7.bindPopup(popup_eec35b6d478bcd7acff29a1cf9787219)\n",
              "        ;\n",
              "\n",
              "        \n",
              "    \n",
              "    \n",
              "            var marker_c41b57c6d1fd87492ec76e455dd4fbfc = L.marker(\n",
              "                [47.46055555555556, -0.5308333333333334],\n",
              "                {}\n",
              "            ).addTo(map_65c22d299bf5b5293acfd388d884478d);\n",
              "        \n",
              "    \n",
              "        var popup_f43066a53b51e031f21629e2d00fe3d1 = L.popup({&quot;maxWidth&quot;: &quot;100%&quot;});\n",
              "\n",
              "        \n",
              "            var html_6fa32262f0572dff42b2bb9aad8d02ed = $(`&lt;div id=&quot;html_6fa32262f0572dff42b2bb9aad8d02ed&quot; style=&quot;width: 100.0%; height: 100.0%;&quot;&gt;Stade Raymond-Kopa&lt;/div&gt;`)[0];\n",
              "            popup_f43066a53b51e031f21629e2d00fe3d1.setContent(html_6fa32262f0572dff42b2bb9aad8d02ed);\n",
              "        \n",
              "\n",
              "        marker_c41b57c6d1fd87492ec76e455dd4fbfc.bindPopup(popup_f43066a53b51e031f21629e2d00fe3d1)\n",
              "        ;\n",
              "\n",
              "        \n",
              "    \n",
              "    \n",
              "            var marker_f9362d05b194e6cc07803978540c2fcb = L.marker(\n",
              "                [49.109722222222224, 6.159166666666667],\n",
              "                {}\n",
              "            ).addTo(map_65c22d299bf5b5293acfd388d884478d);\n",
              "        \n",
              "    \n",
              "        var popup_1db182872723d4fd0794d34555dfaaeb = L.popup({&quot;maxWidth&quot;: &quot;100%&quot;});\n",
              "\n",
              "        \n",
              "            var html_7c94ed43c6e36af8b137e9d82e093f7d = $(`&lt;div id=&quot;html_7c94ed43c6e36af8b137e9d82e093f7d&quot; style=&quot;width: 100.0%; height: 100.0%;&quot;&gt;Stade Saint-Symphorien&lt;/div&gt;`)[0];\n",
              "            popup_1db182872723d4fd0794d34555dfaaeb.setContent(html_7c94ed43c6e36af8b137e9d82e093f7d);\n",
              "        \n",
              "\n",
              "        marker_f9362d05b194e6cc07803978540c2fcb.bindPopup(popup_1db182872723d4fd0794d34555dfaaeb)\n",
              "        ;\n",
              "\n",
              "        \n",
              "    \n",
              "    \n",
              "            var marker_d15256253d17be1b94391d6ae607f845 = L.marker(\n",
              "                [47.25555555555555, -1.5252777777777777],\n",
              "                {}\n",
              "            ).addTo(map_65c22d299bf5b5293acfd388d884478d);\n",
              "        \n",
              "    \n",
              "        var popup_f7c8462a21fc87da9c67fc0613fdd83c = L.popup({&quot;maxWidth&quot;: &quot;100%&quot;});\n",
              "\n",
              "        \n",
              "            var html_cb8b1d3d51371a934afe63ac57112c08 = $(`&lt;div id=&quot;html_cb8b1d3d51371a934afe63ac57112c08&quot; style=&quot;width: 100.0%; height: 100.0%;&quot;&gt;Stade de la Beaujoire&lt;/div&gt;`)[0];\n",
              "            popup_f7c8462a21fc87da9c67fc0613fdd83c.setContent(html_cb8b1d3d51371a934afe63ac57112c08);\n",
              "        \n",
              "\n",
              "        marker_d15256253d17be1b94391d6ae607f845.bindPopup(popup_f7c8462a21fc87da9c67fc0613fdd83c)\n",
              "        ;\n",
              "\n",
              "        \n",
              "    \n",
              "    \n",
              "            var marker_dfdf21abca2d86787f845a7d0933a5bd = L.marker(\n",
              "                [48.403055555555554, -4.461666666666667],\n",
              "                {}\n",
              "            ).addTo(map_65c22d299bf5b5293acfd388d884478d);\n",
              "        \n",
              "    \n",
              "        var popup_a5fe44331ffbc90355ef5ab177137ec9 = L.popup({&quot;maxWidth&quot;: &quot;100%&quot;});\n",
              "\n",
              "        \n",
              "            var html_d5fca1857e73fc8606489075e5b19a14 = $(`&lt;div id=&quot;html_d5fca1857e73fc8606489075e5b19a14&quot; style=&quot;width: 100.0%; height: 100.0%;&quot;&gt;Stade Francis-Le Blé&lt;/div&gt;`)[0];\n",
              "            popup_a5fe44331ffbc90355ef5ab177137ec9.setContent(html_d5fca1857e73fc8606489075e5b19a14);\n",
              "        \n",
              "\n",
              "        marker_dfdf21abca2d86787f845a7d0933a5bd.bindPopup(popup_a5fe44331ffbc90355ef5ab177137ec9)\n",
              "        ;\n",
              "\n",
              "        \n",
              "    \n",
              "    \n",
              "            var marker_98ab27c4170e016708789a212bb1123c = L.marker(\n",
              "                [44.89722222222222, -0.5613888888888889],\n",
              "                {}\n",
              "            ).addTo(map_65c22d299bf5b5293acfd388d884478d);\n",
              "        \n",
              "    \n",
              "        var popup_227f8752d7d93902178b4adbcb04a6bd = L.popup({&quot;maxWidth&quot;: &quot;100%&quot;});\n",
              "\n",
              "        \n",
              "            var html_2cdf6eb124cf4acf647a606aac2418cc = $(`&lt;div id=&quot;html_2cdf6eb124cf4acf647a606aac2418cc&quot; style=&quot;width: 100.0%; height: 100.0%;&quot;&gt;Matmut Atlantique&lt;/div&gt;`)[0];\n",
              "            popup_227f8752d7d93902178b4adbcb04a6bd.setContent(html_2cdf6eb124cf4acf647a606aac2418cc);\n",
              "        \n",
              "\n",
              "        marker_98ab27c4170e016708789a212bb1123c.bindPopup(popup_227f8752d7d93902178b4adbcb04a6bd)\n",
              "        ;\n",
              "\n",
              "        \n",
              "    \n",
              "    \n",
              "            var marker_1d7a010b40544eab2589a40371159717 = L.marker(\n",
              "                [43.583333333333336, 1.4341666666666666],\n",
              "                {}\n",
              "            ).addTo(map_65c22d299bf5b5293acfd388d884478d);\n",
              "        \n",
              "    \n",
              "        var popup_839fe5e9bf57bb095ae5cb710556652b = L.popup({&quot;maxWidth&quot;: &quot;100%&quot;});\n",
              "\n",
              "        \n",
              "            var html_03276e63c3f61fe79600913e28c2e188 = $(`&lt;div id=&quot;html_03276e63c3f61fe79600913e28c2e188&quot; style=&quot;width: 100.0%; height: 100.0%;&quot;&gt;Stadium de Toulouse&lt;/div&gt;`)[0];\n",
              "            popup_839fe5e9bf57bb095ae5cb710556652b.setContent(html_03276e63c3f61fe79600913e28c2e188);\n",
              "        \n",
              "\n",
              "        marker_1d7a010b40544eab2589a40371159717.bindPopup(popup_839fe5e9bf57bb095ae5cb710556652b)\n",
              "        ;\n",
              "\n",
              "        \n",
              "    \n",
              "    \n",
              "            var marker_c89a15b71827300e245fe5121d37187c = L.marker(\n",
              "                [49.89388888888889, 2.263611111111111],\n",
              "                {}\n",
              "            ).addTo(map_65c22d299bf5b5293acfd388d884478d);\n",
              "        \n",
              "    \n",
              "        var popup_fd62336b64b26a2735c63f138b5a8128 = L.popup({&quot;maxWidth&quot;: &quot;100%&quot;});\n",
              "\n",
              "        \n",
              "            var html_57f9f784cad7e484717578934885788e = $(`&lt;div id=&quot;html_57f9f784cad7e484717578934885788e&quot; style=&quot;width: 100.0%; height: 100.0%;&quot;&gt;Stade de la Licorne&lt;/div&gt;`)[0];\n",
              "            popup_fd62336b64b26a2735c63f138b5a8128.setContent(html_57f9f784cad7e484717578934885788e);\n",
              "        \n",
              "\n",
              "        marker_c89a15b71827300e245fe5121d37187c.bindPopup(popup_fd62336b64b26a2735c63f138b5a8128)\n",
              "        ;\n",
              "\n",
              "        \n",
              "    \n",
              "    \n",
              "            var marker_0921e8ad80953da31ea5c3b2984348f3 = L.marker(\n",
              "                [43.7275, 7.415555555555556],\n",
              "                {}\n",
              "            ).addTo(map_65c22d299bf5b5293acfd388d884478d);\n",
              "        \n",
              "    \n",
              "        var popup_08d8f4e5e7e2c76741d20e5b64da2c75 = L.popup({&quot;maxWidth&quot;: &quot;100%&quot;});\n",
              "\n",
              "        \n",
              "            var html_89d557ea41c18c1f6c1cdf2f5200367e = $(`&lt;div id=&quot;html_89d557ea41c18c1f6c1cdf2f5200367e&quot; style=&quot;width: 100.0%; height: 100.0%;&quot;&gt;Stade Louis-II&lt;/div&gt;`)[0];\n",
              "            popup_08d8f4e5e7e2c76741d20e5b64da2c75.setContent(html_89d557ea41c18c1f6c1cdf2f5200367e);\n",
              "        \n",
              "\n",
              "        marker_0921e8ad80953da31ea5c3b2984348f3.bindPopup(popup_08d8f4e5e7e2c76741d20e5b64da2c75)\n",
              "        ;\n",
              "\n",
              "        \n",
              "    \n",
              "    \n",
              "            var marker_b9a875b989ec754b7019275defc2b6fe = L.marker(\n",
              "                [47.324444444444445, 5.068333333333333],\n",
              "                {}\n",
              "            ).addTo(map_65c22d299bf5b5293acfd388d884478d);\n",
              "        \n",
              "    \n",
              "        var popup_96c5b6645539d2344f50e612838780cf = L.popup({&quot;maxWidth&quot;: &quot;100%&quot;});\n",
              "\n",
              "        \n",
              "            var html_d33667ed8ca381c4c5089a43f47a22db = $(`&lt;div id=&quot;html_d33667ed8ca381c4c5089a43f47a22db&quot; style=&quot;width: 100.0%; height: 100.0%;&quot;&gt;Stade Gaston-Gérard&lt;/div&gt;`)[0];\n",
              "            popup_96c5b6645539d2344f50e612838780cf.setContent(html_d33667ed8ca381c4c5089a43f47a22db);\n",
              "        \n",
              "\n",
              "        marker_b9a875b989ec754b7019275defc2b6fe.bindPopup(popup_96c5b6645539d2344f50e612838780cf)\n",
              "        ;\n",
              "\n",
              "        \n",
              "    \n",
              "    \n",
              "            var marker_b6d486fe861b45fd14e8469cc51faa1c = L.marker(\n",
              "                [41.93083333333333, 8.77638888888889],\n",
              "                {}\n",
              "            ).addTo(map_65c22d299bf5b5293acfd388d884478d);\n",
              "        \n",
              "    \n",
              "        var popup_5e6c27a99878bb2187674703dc568c61 = L.popup({&quot;maxWidth&quot;: &quot;100%&quot;});\n",
              "\n",
              "        \n",
              "            var html_7c1bfb157d471abe4dccf7b56571d992 = $(`&lt;div id=&quot;html_7c1bfb157d471abe4dccf7b56571d992&quot; style=&quot;width: 100.0%; height: 100.0%;&quot;&gt;Stade François-Coty&lt;/div&gt;`)[0];\n",
              "            popup_5e6c27a99878bb2187674703dc568c61.setContent(html_7c1bfb157d471abe4dccf7b56571d992);\n",
              "        \n",
              "\n",
              "        marker_b6d486fe861b45fd14e8469cc51faa1c.bindPopup(popup_5e6c27a99878bb2187674703dc568c61)\n",
              "        ;\n",
              "\n",
              "        \n",
              "    \n",
              "    \n",
              "            var marker_f207831d9dab25d82b7e1653aa9bd520 = L.marker(\n",
              "                [48.695277777777775, 6.210555555555556],\n",
              "                {}\n",
              "            ).addTo(map_65c22d299bf5b5293acfd388d884478d);\n",
              "        \n",
              "    \n",
              "        var popup_4598ecea8d065c338979e04cb450f89a = L.popup({&quot;maxWidth&quot;: &quot;100%&quot;});\n",
              "\n",
              "        \n",
              "            var html_4e7ef7974c5f54ba1e5e376f17905ab3 = $(`&lt;div id=&quot;html_4e7ef7974c5f54ba1e5e376f17905ab3&quot; style=&quot;width: 100.0%; height: 100.0%;&quot;&gt;Stade Marcel-Picot&lt;/div&gt;`)[0];\n",
              "            popup_4598ecea8d065c338979e04cb450f89a.setContent(html_4e7ef7974c5f54ba1e5e376f17905ab3);\n",
              "        \n",
              "\n",
              "        marker_f207831d9dab25d82b7e1653aa9bd520.bindPopup(popup_4598ecea8d065c338979e04cb450f89a)\n",
              "        ;\n",
              "\n",
              "        \n",
              "    \n",
              "    \n",
              "            var marker_f95ce0c32177f97ea244df1c0301029f = L.marker(\n",
              "                [49.49888888888889, 0.16972222222222222],\n",
              "                {}\n",
              "            ).addTo(map_65c22d299bf5b5293acfd388d884478d);\n",
              "        \n",
              "    \n",
              "        var popup_ec8f6d39c8d4bcdd5a6075a148d9988a = L.popup({&quot;maxWidth&quot;: &quot;100%&quot;});\n",
              "\n",
              "        \n",
              "            var html_8cc4cd46bb2616564e4d9c3280c07102 = $(`&lt;div id=&quot;html_8cc4cd46bb2616564e4d9c3280c07102&quot; style=&quot;width: 100.0%; height: 100.0%;&quot;&gt;Stade Océane&lt;/div&gt;`)[0];\n",
              "            popup_ec8f6d39c8d4bcdd5a6075a148d9988a.setContent(html_8cc4cd46bb2616564e4d9c3280c07102);\n",
              "        \n",
              "\n",
              "        marker_f95ce0c32177f97ea244df1c0301029f.bindPopup(popup_ec8f6d39c8d4bcdd5a6075a148d9988a)\n",
              "        ;\n",
              "\n",
              "        \n",
              "    \n",
              "    \n",
              "            var marker_a208f2395b751341d6d3a2c5fb4086dd = L.marker(\n",
              "                [49.17944444444444, -0.39666666666666667],\n",
              "                {}\n",
              "            ).addTo(map_65c22d299bf5b5293acfd388d884478d);\n",
              "        \n",
              "    \n",
              "        var popup_a650531ac3ccc7d8f3577f451e776f88 = L.popup({&quot;maxWidth&quot;: &quot;100%&quot;});\n",
              "\n",
              "        \n",
              "            var html_bb4762d26ed9da4d9d8771f5f0954eee = $(`&lt;div id=&quot;html_bb4762d26ed9da4d9d8771f5f0954eee&quot; style=&quot;width: 100.0%; height: 100.0%;&quot;&gt;Stade Michel-d&#x27;Ornano&lt;/div&gt;`)[0];\n",
              "            popup_a650531ac3ccc7d8f3577f451e776f88.setContent(html_bb4762d26ed9da4d9d8771f5f0954eee);\n",
              "        \n",
              "\n",
              "        marker_a208f2395b751341d6d3a2c5fb4086dd.bindPopup(popup_a650531ac3ccc7d8f3577f451e776f88)\n",
              "        ;\n",
              "\n",
              "        \n",
              "    \n",
              "    \n",
              "            var marker_96834f03979084436721c80324f642ad = L.marker(\n",
              "                [45.81583333333333, 3.1216666666666666],\n",
              "                {}\n",
              "            ).addTo(map_65c22d299bf5b5293acfd388d884478d);\n",
              "        \n",
              "    \n",
              "        var popup_e4a7eb07df63a7a73facffbf2aab7d5a = L.popup({&quot;maxWidth&quot;: &quot;100%&quot;});\n",
              "\n",
              "        \n",
              "            var html_682afda14c8084db16ac191e689c1c04 = $(`&lt;div id=&quot;html_682afda14c8084db16ac191e689c1c04&quot; style=&quot;width: 100.0%; height: 100.0%;&quot;&gt;Stade Gabriel-Montpied&lt;/div&gt;`)[0];\n",
              "            popup_e4a7eb07df63a7a73facffbf2aab7d5a.setContent(html_682afda14c8084db16ac191e689c1c04);\n",
              "        \n",
              "\n",
              "        marker_96834f03979084436721c80324f642ad.bindPopup(popup_e4a7eb07df63a7a73facffbf2aab7d5a)\n",
              "        ;\n",
              "\n",
              "        \n",
              "    \n",
              "    \n",
              "            var marker_8edb82fddd478acbb74cd7d560d7829e = L.marker(\n",
              "                [48.566111111111105, -3.1644444444444444],\n",
              "                {}\n",
              "            ).addTo(map_65c22d299bf5b5293acfd388d884478d);\n",
              "        \n",
              "    \n",
              "        var popup_2832adba1ee905424f7e3b7428acf829 = L.popup({&quot;maxWidth&quot;: &quot;100%&quot;});\n",
              "\n",
              "        \n",
              "            var html_38e4b32b595fd31bba3c15f4238c9979 = $(`&lt;div id=&quot;html_38e4b32b595fd31bba3c15f4238c9979&quot; style=&quot;width: 100.0%; height: 100.0%;&quot;&gt;Stade de Roudourou&lt;/div&gt;`)[0];\n",
              "            popup_2832adba1ee905424f7e3b7428acf829.setContent(html_38e4b32b595fd31bba3c15f4238c9979);\n",
              "        \n",
              "\n",
              "        marker_8edb82fddd478acbb74cd7d560d7829e.bindPopup(popup_2832adba1ee905424f7e3b7428acf829)\n",
              "        ;\n",
              "\n",
              "        \n",
              "    \n",
              "    \n",
              "            var marker_c8f2fc8b225a13385ccec3a83f18c4fe = L.marker(\n",
              "                [47.74888888888889, -3.3691666666666666],\n",
              "                {}\n",
              "            ).addTo(map_65c22d299bf5b5293acfd388d884478d);\n",
              "        \n",
              "    \n",
              "        var popup_1b61ac5dfd779c5b1638629781b81669 = L.popup({&quot;maxWidth&quot;: &quot;100%&quot;});\n",
              "\n",
              "        \n",
              "            var html_6e85059250baf48e4090535cf16fff8d = $(`&lt;div id=&quot;html_6e85059250baf48e4090535cf16fff8d&quot; style=&quot;width: 100.0%; height: 100.0%;&quot;&gt;Stade du Moustoir&lt;/div&gt;`)[0];\n",
              "            popup_1b61ac5dfd779c5b1638629781b81669.setContent(html_6e85059250baf48e4090535cf16fff8d);\n",
              "        \n",
              "\n",
              "        marker_c8f2fc8b225a13385ccec3a83f18c4fe.bindPopup(popup_1b61ac5dfd779c5b1638629781b81669)\n",
              "        ;\n",
              "\n",
              "        \n",
              "    \n",
              "    \n",
              "            var marker_5cf00748fd13727849d0a79bbad0c6ec = L.marker(\n",
              "                [48.81861111111112, 2.346388888888889],\n",
              "                {}\n",
              "            ).addTo(map_65c22d299bf5b5293acfd388d884478d);\n",
              "        \n",
              "    \n",
              "        var popup_54a8a542a71a6d29d2b7aac7370921ae = L.popup({&quot;maxWidth&quot;: &quot;100%&quot;});\n",
              "\n",
              "        \n",
              "            var html_b8a4828556d5140046b32eebe858fa7b = $(`&lt;div id=&quot;html_b8a4828556d5140046b32eebe858fa7b&quot; style=&quot;width: 100.0%; height: 100.0%;&quot;&gt;Stade Charléty&lt;/div&gt;`)[0];\n",
              "            popup_54a8a542a71a6d29d2b7aac7370921ae.setContent(html_b8a4828556d5140046b32eebe858fa7b);\n",
              "        \n",
              "\n",
              "        marker_5cf00748fd13727849d0a79bbad0c6ec.bindPopup(popup_54a8a542a71a6d29d2b7aac7370921ae)\n",
              "        ;\n",
              "\n",
              "        \n",
              "    \n",
              "    \n",
              "            var marker_544efd10d7b0d81b41ee8a3918e59641 = L.marker(\n",
              "                [46.801944444444445, 1.7216666666666667],\n",
              "                {}\n",
              "            ).addTo(map_65c22d299bf5b5293acfd388d884478d);\n",
              "        \n",
              "    \n",
              "        var popup_7ad7a8070e99b0eaf6a5f2ec8fea6ec6 = L.popup({&quot;maxWidth&quot;: &quot;100%&quot;});\n",
              "\n",
              "        \n",
              "            var html_d3252f1b1efa6a496a735c9881384ab8 = $(`&lt;div id=&quot;html_d3252f1b1efa6a496a735c9881384ab8&quot; style=&quot;width: 100.0%; height: 100.0%;&quot;&gt;Stade Gaston-Petit&lt;/div&gt;`)[0];\n",
              "            popup_7ad7a8070e99b0eaf6a5f2ec8fea6ec6.setContent(html_d3252f1b1efa6a496a735c9881384ab8);\n",
              "        \n",
              "\n",
              "        marker_544efd10d7b0d81b41ee8a3918e59641.bindPopup(popup_7ad7a8070e99b0eaf6a5f2ec8fea6ec6)\n",
              "        ;\n",
              "\n",
              "        \n",
              "    \n",
              "    \n",
              "            var marker_12e215762eeec52df7d12704fffe5ec1 = L.marker(\n",
              "                [47.78666666666666, 3.588611111111111],\n",
              "                {}\n",
              "            ).addTo(map_65c22d299bf5b5293acfd388d884478d);\n",
              "        \n",
              "    \n",
              "        var popup_e16995d0c6398549836d1e3204bfc2e2 = L.popup({&quot;maxWidth&quot;: &quot;100%&quot;});\n",
              "\n",
              "        \n",
              "            var html_dc7d8737ebe016d365a8f6b9208a5864 = $(`&lt;div id=&quot;html_dc7d8737ebe016d365a8f6b9208a5864&quot; style=&quot;width: 100.0%; height: 100.0%;&quot;&gt;Stade de l&#x27;Abbé-Deschamps&lt;/div&gt;`)[0];\n",
              "            popup_e16995d0c6398549836d1e3204bfc2e2.setContent(html_dc7d8737ebe016d365a8f6b9208a5864);\n",
              "        \n",
              "\n",
              "        marker_12e215762eeec52df7d12704fffe5ec1.bindPopup(popup_e16995d0c6398549836d1e3204bfc2e2)\n",
              "        ;\n",
              "\n",
              "        \n",
              "    \n",
              "    \n",
              "            var marker_f93c3ffca4ab6fa46c681e49157c63e3 = L.marker(\n",
              "                [47.84027777777778, 1.9411111111111112],\n",
              "                {}\n",
              "            ).addTo(map_65c22d299bf5b5293acfd388d884478d);\n",
              "        \n",
              "    \n",
              "        var popup_ddf90cf1eccba9c861a1509a11e52203 = L.popup({&quot;maxWidth&quot;: &quot;100%&quot;});\n",
              "\n",
              "        \n",
              "            var html_87b827b6102ff74bfd6a2fae8fa0759a = $(`&lt;div id=&quot;html_87b827b6102ff74bfd6a2fae8fa0759a&quot; style=&quot;width: 100.0%; height: 100.0%;&quot;&gt;Stade de la Source&lt;/div&gt;`)[0];\n",
              "            popup_ddf90cf1eccba9c861a1509a11e52203.setContent(html_87b827b6102ff74bfd6a2fae8fa0759a);\n",
              "        \n",
              "\n",
              "        marker_f93c3ffca4ab6fa46c681e49157c63e3.bindPopup(popup_ddf90cf1eccba9c861a1509a11e52203)\n",
              "        ;\n",
              "\n",
              "        \n",
              "    \n",
              "    \n",
              "            var marker_7d05e21e8fab1d8a50f78a7e6101601b = L.marker(\n",
              "                [50.34861111111111, 3.5322222222222224],\n",
              "                {}\n",
              "            ).addTo(map_65c22d299bf5b5293acfd388d884478d);\n",
              "        \n",
              "    \n",
              "        var popup_4de54431ff349b78490411ff286793a7 = L.popup({&quot;maxWidth&quot;: &quot;100%&quot;});\n",
              "\n",
              "        \n",
              "            var html_db4cd14997dd70edc28332ccb2b8160d = $(`&lt;div id=&quot;html_db4cd14997dd70edc28332ccb2b8160d&quot; style=&quot;width: 100.0%; height: 100.0%;&quot;&gt;Stade du Hainaut&lt;/div&gt;`)[0];\n",
              "            popup_4de54431ff349b78490411ff286793a7.setContent(html_db4cd14997dd70edc28332ccb2b8160d);\n",
              "        \n",
              "\n",
              "        marker_7d05e21e8fab1d8a50f78a7e6101601b.bindPopup(popup_4de54431ff349b78490411ff286793a7)\n",
              "        ;\n",
              "\n",
              "        \n",
              "    \n",
              "    \n",
              "            var marker_2105c5bb646b082a3f8012f62ed7f841 = L.marker(\n",
              "                [46.316944444444445, -0.4891666666666667],\n",
              "                {}\n",
              "            ).addTo(map_65c22d299bf5b5293acfd388d884478d);\n",
              "        \n",
              "    \n",
              "        var popup_47ab0ea2eeba10508d5706e8362b76d8 = L.popup({&quot;maxWidth&quot;: &quot;100%&quot;});\n",
              "\n",
              "        \n",
              "            var html_ce3c10ff10749dbb01f2ee4391b9c4a3 = $(`&lt;div id=&quot;html_ce3c10ff10749dbb01f2ee4391b9c4a3&quot; style=&quot;width: 100.0%; height: 100.0%;&quot;&gt;Stade René-Gaillard&lt;/div&gt;`)[0];\n",
              "            popup_47ab0ea2eeba10508d5706e8362b76d8.setContent(html_ce3c10ff10749dbb01f2ee4391b9c4a3);\n",
              "        \n",
              "\n",
              "        marker_2105c5bb646b082a3f8012f62ed7f841.bindPopup(popup_47ab0ea2eeba10508d5706e8362b76d8)\n",
              "        ;\n",
              "\n",
              "        \n",
              "    \n",
              "    \n",
              "            var marker_af68c2a0fe3ffeb43f4d5cc62415fcb9 = L.marker(\n",
              "                [45.1875, 5.74],\n",
              "                {}\n",
              "            ).addTo(map_65c22d299bf5b5293acfd388d884478d);\n",
              "        \n",
              "    \n",
              "        var popup_1cd6671ef31addc1328faa2888422ddc = L.popup({&quot;maxWidth&quot;: &quot;100%&quot;});\n",
              "\n",
              "        \n",
              "            var html_cb458ff79667ad5efa026eb224815dd6 = $(`&lt;div id=&quot;html_cb458ff79667ad5efa026eb224815dd6&quot; style=&quot;width: 100.0%; height: 100.0%;&quot;&gt;Stade des Alpes&lt;/div&gt;`)[0];\n",
              "            popup_1cd6671ef31addc1328faa2888422ddc.setContent(html_cb458ff79667ad5efa026eb224815dd6);\n",
              "        \n",
              "\n",
              "        marker_af68c2a0fe3ffeb43f4d5cc62415fcb9.bindPopup(popup_1cd6671ef31addc1328faa2888422ddc)\n",
              "        ;\n",
              "\n",
              "        \n",
              "    \n",
              "    \n",
              "            var marker_7ca82598394d4074864119f94e6d9f50 = L.marker(\n",
              "                [47.51222222222222, 6.811388888888889],\n",
              "                {}\n",
              "            ).addTo(map_65c22d299bf5b5293acfd388d884478d);\n",
              "        \n",
              "    \n",
              "        var popup_e67ce1e12601b985576567c1dae5d2d3 = L.popup({&quot;maxWidth&quot;: &quot;100%&quot;});\n",
              "\n",
              "        \n",
              "            var html_34ad51eae4e56125df33b760a6ea9a95 = $(`&lt;div id=&quot;html_34ad51eae4e56125df33b760a6ea9a95&quot; style=&quot;width: 100.0%; height: 100.0%;&quot;&gt;Stade Auguste-Bonal&lt;/div&gt;`)[0];\n",
              "            popup_e67ce1e12601b985576567c1dae5d2d3.setContent(html_34ad51eae4e56125df33b760a6ea9a95);\n",
              "        \n",
              "\n",
              "        marker_7ca82598394d4074864119f94e6d9f50.bindPopup(popup_e67ce1e12601b985576567c1dae5d2d3)\n",
              "        ;\n",
              "\n",
              "        \n",
              "    \n",
              "    \n",
              "            var marker_182e2a6786db92bc0cdab64f0cc7c7ec = L.marker(\n",
              "                [44.35166666666667, 2.563611111111111],\n",
              "                {}\n",
              "            ).addTo(map_65c22d299bf5b5293acfd388d884478d);\n",
              "        \n",
              "    \n",
              "        var popup_d7340a7b4a05209e0bb53f0ecdbb8c9d = L.popup({&quot;maxWidth&quot;: &quot;100%&quot;});\n",
              "\n",
              "        \n",
              "            var html_c61c1fee831c45dede6932a1ecc5960e = $(`&lt;div id=&quot;html_c61c1fee831c45dede6932a1ecc5960e&quot; style=&quot;width: 100.0%; height: 100.0%;&quot;&gt;Stade Paul-Lignon&lt;/div&gt;`)[0];\n",
              "            popup_d7340a7b4a05209e0bb53f0ecdbb8c9d.setContent(html_c61c1fee831c45dede6932a1ecc5960e);\n",
              "        \n",
              "\n",
              "        marker_182e2a6786db92bc0cdab64f0cc7c7ec.bindPopup(popup_d7340a7b4a05209e0bb53f0ecdbb8c9d)\n",
              "        ;\n",
              "\n",
              "        \n",
              "    \n",
              "    \n",
              "            var marker_9db99e3483b7e3da2b3ac821099bcfd8 = L.marker(\n",
              "                [49.17916666666667, 2.233611111111111],\n",
              "                {}\n",
              "            ).addTo(map_65c22d299bf5b5293acfd388d884478d);\n",
              "        \n",
              "    \n",
              "        var popup_ed420e5623e7009ed99de052004241e7 = L.popup({&quot;maxWidth&quot;: &quot;100%&quot;});\n",
              "\n",
              "        \n",
              "            var html_efddc510c5fab60317c70293c6661789 = $(`&lt;div id=&quot;html_efddc510c5fab60317c70293c6661789&quot; style=&quot;width: 100.0%; height: 100.0%;&quot;&gt;Stade Walter Luzi&lt;/div&gt;`)[0];\n",
              "            popup_ed420e5623e7009ed99de052004241e7.setContent(html_efddc510c5fab60317c70293c6661789);\n",
              "        \n",
              "\n",
              "        marker_9db99e3483b7e3da2b3ac821099bcfd8.bindPopup(popup_ed420e5623e7009ed99de052004241e7)\n",
              "        ;\n",
              "\n",
              "        \n",
              "    \n",
              "    \n",
              "            var marker_7c6dc9ce69d4f4a9aa73f60d170c4115 = L.marker(\n",
              "                [48.3075, 4.0986111111111105],\n",
              "                {}\n",
              "            ).addTo(map_65c22d299bf5b5293acfd388d884478d);\n",
              "        \n",
              "    \n",
              "        var popup_2c9c0c3ee5e150dc706867ec71b5b873 = L.popup({&quot;maxWidth&quot;: &quot;100%&quot;});\n",
              "\n",
              "        \n",
              "            var html_7e6c7af9dbb86655921e5a1d4f880710 = $(`&lt;div id=&quot;html_7e6c7af9dbb86655921e5a1d4f880710&quot; style=&quot;width: 100.0%; height: 100.0%;&quot;&gt;Stade de l&#x27;Aube&lt;/div&gt;`)[0];\n",
              "            popup_2c9c0c3ee5e150dc706867ec71b5b873.setContent(html_7e6c7af9dbb86655921e5a1d4f880710);\n",
              "        \n",
              "\n",
              "        marker_7c6dc9ce69d4f4a9aa73f60d170c4115.bindPopup(popup_2c9c0c3ee5e150dc706867ec71b5b873)\n",
              "        ;\n",
              "\n",
              "        \n",
              "    \n",
              "    \n",
              "            var marker_e611608feb2badf0a0dfcf839d1ed414 = L.marker(\n",
              "                [50.43277777777777, 2.815],\n",
              "                {}\n",
              "            ).addTo(map_65c22d299bf5b5293acfd388d884478d);\n",
              "        \n",
              "    \n",
              "        var popup_65a11ed2db57c4939574a24f6762fba5 = L.popup({&quot;maxWidth&quot;: &quot;100%&quot;});\n",
              "\n",
              "        \n",
              "            var html_530def7f8a3b7d09a61342c3c0f56eec = $(`&lt;div id=&quot;html_530def7f8a3b7d09a61342c3c0f56eec&quot; style=&quot;width: 100.0%; height: 100.0%;&quot;&gt;Stade Bollaert-Delelis&lt;/div&gt;`)[0];\n",
              "            popup_65a11ed2db57c4939574a24f6762fba5.setContent(html_530def7f8a3b7d09a61342c3c0f56eec);\n",
              "        \n",
              "\n",
              "        marker_e611608feb2badf0a0dfcf839d1ed414.bindPopup(popup_65a11ed2db57c4939574a24f6762fba5)\n",
              "        ;\n",
              "\n",
              "        \n",
              "    \n",
              "    \n",
              "            map_65c22d299bf5b5293acfd388d884478d.fitBounds(\n",
              "                [[41.93083333333333, -4.461666666666667], [50.61194444444445, 8.77638888888889]],\n",
              "                {}\n",
              "            );\n",
              "        \n",
              "&lt;/script&gt;\" style=\"position:absolute;width:100%;height:100%;left:0;top:0;border:none !important;\" allowfullscreen webkitallowfullscreen mozallowfullscreen></iframe></div></div>"
            ]
          }
        }
      ],
      "source": [],
      "id": "2b2d6e09-5a17-4e66-98af-b1871ef0689f"
    },
    {
      "cell_type": "markdown",
      "metadata": {},
      "source": [
        "{{< /rawhtml >}}\n",
        "\n",
        "# Exercice 1 : Les pokémons (version non guidée)\n",
        "\n",
        "{{% box status=“exercise” title=“Exercice” icon=“fas fa-pencil-alt” %}}\n",
        "Pour cet exercice, nous vous demandons d’obtenir différentes informations sur les pokémons à partir du site internet [pokemondb.net](http://pokemondb.net/pokedex/national).\n",
        "\n",
        "1.  les informations personnelles des `893` pokemons sur le site internet [pokemondb.net](http://pokemondb.net/pokedex/national). Les informations que nous aimerions obtenir au final dans un DataFrame sont celles contenues dans 4 tableaux :\n",
        "\n",
        "-   Pokédex data\n",
        "-   Training\n",
        "-   Breeding\n",
        "-   Base stats\n",
        "\n",
        "1.  Nous aimerions que vous récupériez également les images de chacun des pokémons et que vous les enregistriez dans un dossier\n",
        "\n",
        "-   Petit indice : utilisez les modules request et [shutil](https://docs.python.org/3/library/shutil.html)\n",
        "-   Pour cette question, il faut que vous cherchiez de vous même certains éléments, tout n’est pas présent dans le TD.\n",
        "\n",
        "{{% /box %}}\n",
        "\n",
        "Pour la question 1, l’objectif est d’obtenir le code source d’un tableau comme\n",
        "celui qui suit\n",
        "(Pokemon [Nincada](http://pokemondb.net/pokedex/nincada).)\n",
        "\n",
        "<h2>\n",
        "\n",
        "Pokédex data\n",
        "\n",
        "</h2>\n",
        "\n",
        "<table class=\"vitals-table\">\n",
        "\n",
        "<tbody>\n",
        "\n",
        "<tr>\n",
        "\n",
        "<th>\n",
        "\n",
        "National №\n",
        "\n",
        "</th>\n",
        "\n",
        "<td>\n",
        "\n",
        "<strong>290</strong>\n",
        "\n",
        "</td>\n",
        "\n",
        "</tr>\n",
        "\n",
        "<tr>\n",
        "\n",
        "<th>\n",
        "\n",
        "Type\n",
        "\n",
        "</th>\n",
        "\n",
        "<td>\n",
        "\n",
        "<a class=\"type-icon type-bug\" href=\"/type/bug\">Bug</a> <a class=\"type-icon type-ground\" href=\"/type/ground\">Ground</a>\n",
        "\n",
        "</td>\n",
        "\n",
        "</tr>\n",
        "\n",
        "<tr>\n",
        "\n",
        "<th>\n",
        "\n",
        "Species\n",
        "\n",
        "</th>\n",
        "\n",
        "<td>\n",
        "\n",
        "Trainee Pokémon\n",
        "\n",
        "</td>\n",
        "\n",
        "</tr>\n",
        "\n",
        "<tr>\n",
        "\n",
        "<th>\n",
        "\n",
        "Height\n",
        "\n",
        "</th>\n",
        "\n",
        "<td>\n",
        "\n",
        "0.5 m (1′08″)\n",
        "\n",
        "</td>\n",
        "\n",
        "</tr>\n",
        "\n",
        "<tr>\n",
        "\n",
        "<th>\n",
        "\n",
        "Weight\n",
        "\n",
        "</th>\n",
        "\n",
        "<td>\n",
        "\n",
        "5.5 kg (12.1 lbs)\n",
        "\n",
        "</td>\n",
        "\n",
        "</tr>\n",
        "\n",
        "<tr>\n",
        "\n",
        "<th>\n",
        "\n",
        "Abilities\n",
        "\n",
        "</th>\n",
        "\n",
        "<td>\n",
        "\n",
        "<span class=\"text-muted\">1. <a href=\"/ability/compound-eyes\" title=\"The Pokémon's accuracy is boosted.\">Compound Eyes</a></span><br><small class=\"text-muted\"><a href=\"/ability/run-away\" title=\"Enables a sure getaway from wild Pokémon.\">Run Away</a> (hidden ability)</small><br>\n",
        "\n",
        "</td>\n",
        "\n",
        "</tr>\n",
        "\n",
        "<tr>\n",
        "\n",
        "<th>\n",
        "\n",
        "Local №\n",
        "\n",
        "</th>\n",
        "\n",
        "<td>\n",
        "\n",
        "042 <small class=\"text-muted\">(Ruby/Sapphire/Emerald)</small><br>111 <small class=\"text-muted\">(X/Y — Central Kalos)</small><br>043 <small class=\"text-muted\">(Omega Ruby/Alpha Sapphire)</small><br>104 <small class=\"text-muted\">(Sword/Shield)</small><br>\n",
        "\n",
        "</td>\n",
        "\n",
        "</tr>\n",
        "\n",
        "</tbody>\n",
        "\n",
        "</table>\n",
        "\n",
        "<h2>\n",
        "\n",
        "Training\n",
        "\n",
        "</h2>\n",
        "\n",
        "<table class=\"vitals-table\">\n",
        "\n",
        "<tbody>\n",
        "\n",
        "<tr>\n",
        "\n",
        "<th>\n",
        "\n",
        "EV yield\n",
        "\n",
        "</th>\n",
        "\n",
        "<td class=\"text\">\n",
        "\n",
        "1 Defense\n",
        "\n",
        "</td>\n",
        "\n",
        "</tr>\n",
        "\n",
        "<tr>\n",
        "\n",
        "<th>\n",
        "\n",
        "Catch rate\n",
        "\n",
        "</th>\n",
        "\n",
        "<td>\n",
        "\n",
        "255 <small class=\"text-muted\">(33.3% with PokéBall, full HP)</small>\n",
        "\n",
        "</td>\n",
        "\n",
        "</tr>\n",
        "\n",
        "<tr>\n",
        "\n",
        "<th>\n",
        "\n",
        "Base <a href=\"/glossary#def-friendship\">Friendship</a>\n",
        "\n",
        "</th>\n",
        "\n",
        "<td>\n",
        "\n",
        "70 <small class=\"text-muted\">(normal)</small>\n",
        "\n",
        "</td>\n",
        "\n",
        "</tr>\n",
        "\n",
        "<tr>\n",
        "\n",
        "<th>\n",
        "\n",
        "Base Exp.\n",
        "\n",
        "</th>\n",
        "\n",
        "<td>\n",
        "\n",
        "53\n",
        "\n",
        "</td>\n",
        "\n",
        "</tr>\n",
        "\n",
        "<tr>\n",
        "\n",
        "<th>\n",
        "\n",
        "Growth Rate\n",
        "\n",
        "</th>\n",
        "\n",
        "<td>\n",
        "\n",
        "Erratic\n",
        "\n",
        "</td>\n",
        "\n",
        "</tr>\n",
        "\n",
        "</tbody>\n",
        "\n",
        "</table>\n",
        "\n",
        "<h2>\n",
        "\n",
        "Breeding\n",
        "\n",
        "</h2>\n",
        "\n",
        "<table class=\"vitals-table\">\n",
        "\n",
        "<tbody>\n",
        "\n",
        "<tr>\n",
        "\n",
        "<th>\n",
        "\n",
        "Egg Groups\n",
        "\n",
        "</th>\n",
        "\n",
        "<td>\n",
        "\n",
        "<a href=\"/egg-group/bug\">Bug</a>\n",
        "\n",
        "</td>\n",
        "\n",
        "</tr>\n",
        "\n",
        "<tr>\n",
        "\n",
        "<th>\n",
        "\n",
        "Gender\n",
        "\n",
        "</th>\n",
        "\n",
        "<td>\n",
        "\n",
        "<span class=\"text-blue\">50% male</span>, <span class=\"text-pink\">50% female</span>\n",
        "\n",
        "</td>\n",
        "\n",
        "</tr>\n",
        "\n",
        "<tr>\n",
        "\n",
        "<th>\n",
        "\n",
        "<a href=\"/glossary#def-eggcycle\">Egg cycles</a>\n",
        "\n",
        "</th>\n",
        "\n",
        "<td>\n",
        "\n",
        "15 <small class=\"text-muted\">(3,599–3,855 steps)</small>\n",
        "\n",
        "</td>\n",
        "\n",
        "</tr>\n",
        "\n",
        "</tbody>\n",
        "\n",
        "</table>\n",
        "\n",
        "<h2>\n",
        "\n",
        "Base stats\n",
        "\n",
        "</h2>\n",
        "\n",
        "<table class=\"vitals-table\">\n",
        "\n",
        "<tbody>\n",
        "\n",
        "<tr>\n",
        "\n",
        "<th>\n",
        "\n",
        "HP\n",
        "\n",
        "</th>\n",
        "\n",
        "<td class=\"cell-num\">\n",
        "\n",
        "31\n",
        "\n",
        "</td>\n",
        "\n",
        "<td class=\"cell-barchart\">\n",
        "\n",
        "</td>\n",
        "\n",
        "<td class=\"cell-num\">\n",
        "\n",
        "172\n",
        "\n",
        "</td>\n",
        "\n",
        "<td class=\"cell-num\">\n",
        "\n",
        "266\n",
        "\n",
        "</td>\n",
        "\n",
        "</tr>\n",
        "\n",
        "<tr>\n",
        "\n",
        "<th>\n",
        "\n",
        "Attack\n",
        "\n",
        "</th>\n",
        "\n",
        "<td class=\"cell-num\">\n",
        "\n",
        "45\n",
        "\n",
        "</td>\n",
        "\n",
        "<td class=\"cell-barchart\">\n",
        "\n",
        "</td>\n",
        "\n",
        "<td class=\"cell-num\">\n",
        "\n",
        "85\n",
        "\n",
        "</td>\n",
        "\n",
        "<td class=\"cell-num\">\n",
        "\n",
        "207\n",
        "\n",
        "</td>\n",
        "\n",
        "</tr>\n",
        "\n",
        "<tr>\n",
        "\n",
        "<th>\n",
        "\n",
        "Defense\n",
        "\n",
        "</th>\n",
        "\n",
        "<td class=\"cell-num\">\n",
        "\n",
        "90\n",
        "\n",
        "</td>\n",
        "\n",
        "<td class=\"cell-barchart\">\n",
        "\n",
        "</td>\n",
        "\n",
        "<td class=\"cell-num\">\n",
        "\n",
        "166\n",
        "\n",
        "</td>\n",
        "\n",
        "<td class=\"cell-num\">\n",
        "\n",
        "306\n",
        "\n",
        "</td>\n",
        "\n",
        "</tr>\n",
        "\n",
        "<tr>\n",
        "\n",
        "<th>\n",
        "\n",
        "Sp. Atk\n",
        "\n",
        "</th>\n",
        "\n",
        "<td class=\"cell-num\">\n",
        "\n",
        "30\n",
        "\n",
        "</td>\n",
        "\n",
        "<td class=\"cell-barchart\">\n",
        "\n",
        "</td>\n",
        "\n",
        "<td class=\"cell-num\">\n",
        "\n",
        "58\n",
        "\n",
        "</td>\n",
        "\n",
        "<td class=\"cell-num\">\n",
        "\n",
        "174\n",
        "\n",
        "</td>\n",
        "\n",
        "</tr>\n",
        "\n",
        "<tr>\n",
        "\n",
        "<th>\n",
        "\n",
        "Sp. Def\n",
        "\n",
        "</th>\n",
        "\n",
        "<td class=\"cell-num\">\n",
        "\n",
        "30\n",
        "\n",
        "</td>\n",
        "\n",
        "<td class=\"cell-barchart\">\n",
        "\n",
        "</td>\n",
        "\n",
        "<td class=\"cell-num\">\n",
        "\n",
        "58\n",
        "\n",
        "</td>\n",
        "\n",
        "<td class=\"cell-num\">\n",
        "\n",
        "174\n",
        "\n",
        "</td>\n",
        "\n",
        "</tr>\n",
        "\n",
        "<tr>\n",
        "\n",
        "<th>\n",
        "\n",
        "Speed\n",
        "\n",
        "</th>\n",
        "\n",
        "<td class=\"cell-num\">\n",
        "\n",
        "40\n",
        "\n",
        "</td>\n",
        "\n",
        "<td class=\"cell-barchart\">\n",
        "\n",
        "</td>\n",
        "\n",
        "<td class=\"cell-num\">\n",
        "\n",
        "76\n",
        "\n",
        "</td>\n",
        "\n",
        "<td class=\"cell-num\">\n",
        "\n",
        "196\n",
        "\n",
        "</td>\n",
        "\n",
        "</tr>\n",
        "\n",
        "</tbody>\n",
        "\n",
        "<tfoot>\n",
        "\n",
        "<tr>\n",
        "\n",
        "<th>\n",
        "\n",
        "Total\n",
        "\n",
        "</th>\n",
        "\n",
        "<td class=\"cell-total\">\n",
        "\n",
        "<b>266</b>\n",
        "\n",
        "</td>\n",
        "\n",
        "<th class=\"cell-barchart\">\n",
        "\n",
        "</th>\n",
        "\n",
        "<th>\n",
        "\n",
        "Min\n",
        "\n",
        "</th>\n",
        "\n",
        "<th>\n",
        "\n",
        "Max\n",
        "\n",
        "</th>\n",
        "\n",
        "</tr>\n",
        "\n",
        "</tfoot>\n",
        "\n",
        "</table>\n",
        "\n",
        "# Exercice 1 : Les pokémons (version guidée)\n",
        "\n",
        "{{% box status=“exercise” title=“Exercice” icon=“fas fa-pencil-alt” %}}\n",
        "\n",
        "Pour cet exercice, nous vous demandons d’obtenir différentes informations sur les pokémons à partir du site internet [pokemondb.net](http://pokemondb.net/pokedex/national).\n",
        "\n",
        "## Etape 1\n",
        "\n",
        "Nous souhaitons tout d’abord obtenir les informations personnelles des `893` pokemons sur [pokemondb.net](http://pokemondb.net/pokedex/national). Les informations que nous aimerions obtenir au final pour les pokemons sont celles contenues dans 4 tableaux :\n",
        "\n",
        "-   Pokédex data\n",
        "-   Training\n",
        "-   Breeding\n",
        "-   Base stats\n",
        "\n",
        "Plus haut est disponible un exemple.\n",
        "\n",
        "Pour cela, le code devra être divisé en plusieurs étapes :\n",
        "\n",
        "1.  Trouvez la page principale du site et la transformez en un objet intelligible pour votre code. Les fonctions suivantes vous seront utiles :\n",
        "\n",
        "-   `urllib.request.Request`\n",
        "-   `urllib.request.urlopen`\n",
        "-   `bs4.BeautifulSoup`\n",
        "\n",
        "Pour ce site, par rapport à tout à l’heure,\n",
        "il faudra ajouter un paramètre supplémentaire à la fonction `Request`:\n",
        "\n",
        "``` python\n",
        "urllib.request.Request( www.sitequinousintéresse.com ,headers={'User-Agent': 'Mozilla/5.0'})\n",
        "```\n",
        "\n",
        "1.  Créez une fonction qui permet de récupérer la page d’un pokémon à partir de son nom.\n",
        "\n",
        "2.  A partir de la page de `bulbasaur`, obtenez les 4 tableaux qui nous intéressent :\n",
        "\n",
        "-   on va chercher l’élément suivant : `('table', { 'class' : \"vitals-table\"})`\n",
        "-   puis stocker ses éléments dans un dictionnaire\n",
        "\n",
        "Vous devriez obtenir une liste de caractéristiques proche de celle-ci\n",
        "(la structure est ici en dictionnaire, ce qui est pratique)"
      ],
      "id": "87482282-c94b-4785-9551-71189662e8d0"
    },
    {
      "cell_type": "code",
      "execution_count": 33,
      "metadata": {},
      "outputs": [
        {
          "output_type": "display_data",
          "metadata": {},
          "data": {
            "text/plain": [
              "defaultdict(None,\n",
              "            {'National №': '001',\n",
              "             'name': 'bulbasaur',\n",
              "             'Type': ' Grass Poison ',\n",
              "             'Species': 'Seed Pokémon',\n",
              "             'Height': '0.7\\xa0m (2′04″)',\n",
              "             'Weight': '6.9\\xa0kg (15.2\\xa0lbs)',\n",
              "             'Abilities': '1. OvergrowChlorophyll (hidden ability)',\n",
              "             'Local №': \"001 (Red/Blue/Yellow)226 (Gold/Silver/Crystal)001 (FireRed/LeafGreen)231 (HeartGold/SoulSilver)080 (X/Y — Central Kalos)001 (Let's Go Pikachu/Let's Go Eevee)068 (The Isle of Armor)\",\n",
              "             'EV yield': ' 1 Special Attack ',\n",
              "             'Catch rate': ' 45 (5.9% with PokéBall, full HP) ',\n",
              "             'Base Friendship': ' 50 (normal) ',\n",
              "             'Base Exp.': '64',\n",
              "             'Growth Rate': 'Medium Slow',\n",
              "             'Egg Groups': 'Grass, Monster',\n",
              "             'Gender': '87.5% male, 12.5% female',\n",
              "             'Egg cycles': '20 (4,884–5,140 steps) ',\n",
              "             'HP': '45',\n",
              "             'Attack': '49',\n",
              "             'Defense': '49',\n",
              "             'Sp. Atk': '65',\n",
              "             'Sp. Def': '65',\n",
              "             'Speed': '45'})"
            ]
          }
        }
      ],
      "source": [],
      "id": "f6ee45a0-72ec-4da7-b691-ac1593fc13aa"
    },
    {
      "cell_type": "markdown",
      "metadata": {},
      "source": [
        "1.  Récupérez par ailleurs la liste de noms des pokémons qui nous permettra de faire une boucle par la suite. Combien trouvez-vous de pokémons ?\n",
        "\n",
        "2.  Ecrire une fonction qui récupère l’ensemble des informations sur les dix premiers pokémons de la liste et les intègre dans un data.frame"
      ],
      "id": "a6196c74-a577-4532-be26-9c8f3121c236"
    },
    {
      "cell_type": "code",
      "execution_count": 36,
      "metadata": {},
      "outputs": [
        {
          "output_type": "display_data",
          "metadata": {},
          "data": {
            "text/html": [
              "<div>\n",
              "<style scoped>\n",
              "    .dataframe tbody tr th:only-of-type {\n",
              "        vertical-align: middle;\n",
              "    }\n",
              "\n",
              "    .dataframe tbody tr th {\n",
              "        vertical-align: top;\n",
              "    }\n",
              "\n",
              "    .dataframe thead th {\n",
              "        text-align: right;\n",
              "    }\n",
              "</style>\n",
              "<table border=\"1\" class=\"dataframe\">\n",
              "  <thead>\n",
              "    <tr style=\"text-align: right;\">\n",
              "      <th></th>\n",
              "      <th>National №</th>\n",
              "      <th>name</th>\n",
              "      <th>Type</th>\n",
              "      <th>Species</th>\n",
              "      <th>Height</th>\n",
              "      <th>Weight</th>\n",
              "      <th>Abilities</th>\n",
              "      <th>Local №</th>\n",
              "      <th>EV yield</th>\n",
              "      <th>Catch rate</th>\n",
              "      <th>...</th>\n",
              "      <th>Growth Rate</th>\n",
              "      <th>Egg Groups</th>\n",
              "      <th>Gender</th>\n",
              "      <th>Egg cycles</th>\n",
              "      <th>HP</th>\n",
              "      <th>Attack</th>\n",
              "      <th>Defense</th>\n",
              "      <th>Sp. Atk</th>\n",
              "      <th>Sp. Def</th>\n",
              "      <th>Speed</th>\n",
              "    </tr>\n",
              "  </thead>\n",
              "  <tbody>\n",
              "    <tr>\n",
              "      <th>0</th>\n",
              "      <td>001</td>\n",
              "      <td>bulbasaur</td>\n",
              "      <td>Grass Poison</td>\n",
              "      <td>Seed Pokémon</td>\n",
              "      <td>0.7 m (2′04″)</td>\n",
              "      <td>6.9 kg (15.2 lbs)</td>\n",
              "      <td>1. OvergrowChlorophyll (hidden ability)</td>\n",
              "      <td>001 (Red/Blue/Yellow)226 (Gold/Silver/Crystal)...</td>\n",
              "      <td>1 Special Attack</td>\n",
              "      <td>45 (5.9% with PokéBall, full HP)</td>\n",
              "      <td>...</td>\n",
              "      <td>Medium Slow</td>\n",
              "      <td>Grass, Monster</td>\n",
              "      <td>87.5% male, 12.5% female</td>\n",
              "      <td>20 (4,884–5,140 steps)</td>\n",
              "      <td>45</td>\n",
              "      <td>49</td>\n",
              "      <td>49</td>\n",
              "      <td>65</td>\n",
              "      <td>65</td>\n",
              "      <td>45</td>\n",
              "    </tr>\n",
              "    <tr>\n",
              "      <th>1</th>\n",
              "      <td>002</td>\n",
              "      <td>ivysaur</td>\n",
              "      <td>Grass Poison</td>\n",
              "      <td>Seed Pokémon</td>\n",
              "      <td>1.0 m (3′03″)</td>\n",
              "      <td>13.0 kg (28.7 lbs)</td>\n",
              "      <td>1. OvergrowChlorophyll (hidden ability)</td>\n",
              "      <td>002 (Red/Blue/Yellow)227 (Gold/Silver/Crystal)...</td>\n",
              "      <td>1 Special Attack, 1 Special Defense</td>\n",
              "      <td>45 (5.9% with PokéBall, full HP)</td>\n",
              "      <td>...</td>\n",
              "      <td>Medium Slow</td>\n",
              "      <td>Grass, Monster</td>\n",
              "      <td>87.5% male, 12.5% female</td>\n",
              "      <td>20 (4,884–5,140 steps)</td>\n",
              "      <td>60</td>\n",
              "      <td>62</td>\n",
              "      <td>63</td>\n",
              "      <td>80</td>\n",
              "      <td>80</td>\n",
              "      <td>60</td>\n",
              "    </tr>\n",
              "    <tr>\n",
              "      <th>2</th>\n",
              "      <td>003</td>\n",
              "      <td>venusaur</td>\n",
              "      <td>Grass Poison</td>\n",
              "      <td>Seed Pokémon</td>\n",
              "      <td>2.0 m (6′07″)</td>\n",
              "      <td>100.0 kg (220.5 lbs)</td>\n",
              "      <td>1. OvergrowChlorophyll (hidden ability)</td>\n",
              "      <td>003 (Red/Blue/Yellow)228 (Gold/Silver/Crystal)...</td>\n",
              "      <td>2 Special Attack, 1 Special Defense</td>\n",
              "      <td>45 (5.9% with PokéBall, full HP)</td>\n",
              "      <td>...</td>\n",
              "      <td>Medium Slow</td>\n",
              "      <td>Grass, Monster</td>\n",
              "      <td>87.5% male, 12.5% female</td>\n",
              "      <td>20 (4,884–5,140 steps)</td>\n",
              "      <td>80</td>\n",
              "      <td>82</td>\n",
              "      <td>83</td>\n",
              "      <td>100</td>\n",
              "      <td>100</td>\n",
              "      <td>80</td>\n",
              "    </tr>\n",
              "    <tr>\n",
              "      <th>3</th>\n",
              "      <td>004</td>\n",
              "      <td>charmander</td>\n",
              "      <td>Fire</td>\n",
              "      <td>Lizard Pokémon</td>\n",
              "      <td>0.6 m (2′00″)</td>\n",
              "      <td>8.5 kg (18.7 lbs)</td>\n",
              "      <td>1. BlazeSolar Power (hidden ability)</td>\n",
              "      <td>004 (Red/Blue/Yellow)229 (Gold/Silver/Crystal)...</td>\n",
              "      <td>1 Speed</td>\n",
              "      <td>45 (5.9% with PokéBall, full HP)</td>\n",
              "      <td>...</td>\n",
              "      <td>Medium Slow</td>\n",
              "      <td>Dragon, Monster</td>\n",
              "      <td>87.5% male, 12.5% female</td>\n",
              "      <td>20 (4,884–5,140 steps)</td>\n",
              "      <td>39</td>\n",
              "      <td>52</td>\n",
              "      <td>43</td>\n",
              "      <td>60</td>\n",
              "      <td>50</td>\n",
              "      <td>65</td>\n",
              "    </tr>\n",
              "    <tr>\n",
              "      <th>4</th>\n",
              "      <td>005</td>\n",
              "      <td>charmeleon</td>\n",
              "      <td>Fire</td>\n",
              "      <td>Flame Pokémon</td>\n",
              "      <td>1.1 m (3′07″)</td>\n",
              "      <td>19.0 kg (41.9 lbs)</td>\n",
              "      <td>1. BlazeSolar Power (hidden ability)</td>\n",
              "      <td>005 (Red/Blue/Yellow)230 (Gold/Silver/Crystal)...</td>\n",
              "      <td>1 Special Attack, 1 Speed</td>\n",
              "      <td>45 (5.9% with PokéBall, full HP)</td>\n",
              "      <td>...</td>\n",
              "      <td>Medium Slow</td>\n",
              "      <td>Dragon, Monster</td>\n",
              "      <td>87.5% male, 12.5% female</td>\n",
              "      <td>20 (4,884–5,140 steps)</td>\n",
              "      <td>58</td>\n",
              "      <td>64</td>\n",
              "      <td>58</td>\n",
              "      <td>80</td>\n",
              "      <td>65</td>\n",
              "      <td>80</td>\n",
              "    </tr>\n",
              "  </tbody>\n",
              "</table>\n",
              "<p>5 rows × 22 columns</p>\n",
              "</div>"
            ]
          }
        }
      ],
      "source": [],
      "id": "5a1d25f9-f97b-4e00-b980-64ab7d6a7ec9"
    },
    {
      "cell_type": "markdown",
      "metadata": {},
      "source": [
        "## Etape 2\n",
        "\n",
        "Nous aimerions que vous récupériez également les images des 5 premiers pokémons et que vous les enregistriez dans un dossier\n",
        "\n",
        "Idée : Utilisez les modules `request` et [`shutil`](https://docs.python.org/3/library/shutil.html)\n",
        "\n",
        "*pour cette question, il faut que vous cherchiez de vous même certains éléments, tout n’est pas présent dans le TD*.\n",
        "\n",
        "{{% /box %}}\n",
        "\n",
        "# Exercice supplémentaire \\[BONUS\\]\n",
        "\n",
        "{{% box status=“exercise” title=“Les ministres sur wikipédia” icon=“fas fa-pencil-alt” %}}\n",
        "\n",
        "Scraper la liste des ministres français depuis wikipedia. Faire une graphique qui représente la distribution de leur âge.\n",
        "\n",
        "Si vous avez une solution satisfaisante, n’hésitez pas à la soumettre\n",
        "sur <a href=\"https://github.com/linogaliana/python-datascientist\" class=\"github\"><i class=\"fab fa-github\"></i></a>\n",
        "(car je n’ai pas encore testé…)\n",
        "\n",
        "{{% /box %}}\n",
        "\n",
        "# `Selenium` : mimer le comportement d’un utilisateur internet\n",
        "\n",
        "Jusqu’à présent, nous avons raisonné comme si nous connaissions toujours l’url qui nous intéresse. De plus, les pages que nous visitons sont “statiques”, elles ne dépendent pas d’une action ou d’une recherche de l’internaute.\n",
        "\n",
        "Nous allons voir à présent comment nous en sortir pour remplir des champs sur un site web et récupérer ce qui nous intéresse.\n",
        "\n",
        "L’avantage du package [Selenium](https://pypi.python.org/pypi/selenium) est d’obtenir des informations du site qui ne sont pas dans le code html mais qui apparaissent uniquement à la suite de l’exécution de script javascript en arrière plan.\n",
        "\n",
        "Selenium se comporte comme un utilisateur lambda sur internet : il clique sur des liens, il remplit des formulaires etc. Dans cet exemple, nous allons essayer de aller sur le site de [Bing Actualités](https://www.bing.com/news) et entrer dans la barre de recherche un sujet donné (Trump).\n",
        "\n",
        "L’installation de `selenium` nécessite d’avoir chromium qui est un\n",
        "navigateur Google Chrome minimaliste.\n",
        "La version de [chromedriver](https://sites.google.com/a/chromium.org/chromedriver/) doit être `>= 2.36` et dépend de la version de Chrome que vous avez sur votre poste.\n",
        "\n",
        "``` python\n",
        "!pip install selenium\n",
        "\n",
        "# Sur votre poste  \n",
        "# télécharger le chrome driver https://chromedriver.storage.googleapis.com/index.html?path=85.0.4183.83/\n",
        "\n",
        "# Sur google colab \n",
        "# https://stackoverflow.com/questions/51046454/how-can-we-use-selenium-webdriver-in-colab-research-google-com\n",
        "!apt-get update # to update ubuntu to correctly run apt install\n",
        "!apt install chromium-chromedriver\n",
        "!cp /usr/lib/chromium-browser/chromedriver /usr/bin\n",
        "import sys\n",
        "sys.path.insert(0,'/usr/lib/chromium-browser/chromedriver')\n",
        "```\n",
        "\n",
        "``` python\n",
        "import selenium\n",
        "path_to_web_driver = \"chromedriver\"\n",
        "```\n",
        "\n",
        "On va sur le site de Bing Actualités, et on lui indique le mot clé que nous souhaitons chercher.\n",
        "\n",
        "Dans cet exemple, on va voir que l’ordinateur va ouvrir une nouvelle fenêtre.\n",
        "\n",
        "``` python\n",
        "import time\n",
        "\n",
        "from selenium import webdriver\n",
        "from selenium.webdriver.common.keys import Keys\n",
        "\n",
        "chrome_options = webdriver.ChromeOptions()\n",
        "chrome_options.add_argument('--headless')\n",
        "chrome_options.add_argument('--no-sandbox')\n",
        "#chrome_options.add_argument('--verbose') \n",
        "#chrome_options.add_argument('--disable-dev-shm-usage')\n",
        "\n",
        "browser = webdriver.Chrome(executable_path=path_to_web_driver,\n",
        "                           options=chrome_options)\n",
        "\n",
        "browser.get('https://www.bing.com/news')\n",
        "\n",
        "# on cherche l'endroit où on peut remplir un formulaire\n",
        "# en utilisant les outils du navigateur > inspecter les éléments de la page\n",
        "# on voit que la barre de recherche est un élement du code appelé 'q' comme query\n",
        "# on lui demande de chercher cet élément\n",
        "\n",
        "search = browser.find_element_by_name('q')\n",
        "print(search)\n",
        "print([search.text, search.tag_name, search.id])\n",
        "\n",
        "# on envoie à cet endroit le mot qu'on aurait tapé dans la barre de recherche\n",
        "search.send_keys(\"Trump\")\n",
        "\n",
        "search_button = browser.find_element_by_xpath(\"//input[@id='sb_form_go']\")\n",
        "\n",
        "#search_button = browser.find_element_by_id('search_button_homepage')\n",
        " \n",
        "search_button.click()\n",
        "\n",
        "# on appuie sur le bouton \"Entrée\" Return en anglais\n",
        "#search.send_keys(Keys.RETURN)\n",
        "```\n",
        "\n",
        "``` python\n",
        "png = browser.get_screenshot_as_png()\n",
        "```\n",
        "\n",
        "``` python\n",
        "from IPython.display import Image\n",
        "Image(png, width='500')\n",
        "```\n",
        "\n",
        "On extrait les résultats.\n",
        "\n",
        "``` python\n",
        "from selenium.common.exceptions import StaleElementReferenceException\n",
        "links = browser.find_elements_by_xpath(\"//div/a[@class='title'][@href]\")\n",
        "\n",
        "results = []\n",
        "for link in links:\n",
        "    try:\n",
        "        url = link.get_attribute('href')\n",
        "    except StaleElementReferenceException as e:\n",
        "        print(\"Issue with '{0}' and '{1}'\".format(url, link))\n",
        "        print(\"It might be due to slow javascript which produces the HTML page.\")\n",
        "    results.append(url)\n",
        "\n",
        "len(results)\n",
        "```\n",
        "\n",
        "``` python\n",
        "# on a une pause de 10 secondes pour aller voir ce qui se passe sur la page internet\n",
        "# on demande de quitter le navigateur quand tout est fini\n",
        "browser.quit()\n",
        "```\n",
        "\n",
        "``` python\n",
        "print(results)\n",
        "```\n",
        "\n",
        "## Utiliser selenium pour jouer à 2048\n",
        "\n",
        "Dans cet exemple, on utilise le module pour que python appuie lui même sur les touches du clavier afin de jouer à 2048.\n",
        "\n",
        "Note : ce bout de code ne donne pas une solution à 2048, il permet juste de voir ce qu’on peut faire avec selenium\n",
        "\n",
        "``` python\n",
        "from selenium import webdriver\n",
        "from selenium.webdriver.common.keys import Keys\n",
        "\n",
        "# on ouvre la page internet du jeu 2048\n",
        "\n",
        "browser = webdriver.Chrome(executable_path=path_to_web_driver,\n",
        "                           options=chrome_options)\n",
        "browser.get('https://play2048.co//')\n",
        "\n",
        "# Ce qu'on va faire : une boucle qui répète inlassablement la même chose : haut / droite / bas / gauche\n",
        "\n",
        "# on commence par cliquer sur la page pour que les touches sachent \n",
        "browser.find_element_by_class_name('grid-container').click()\n",
        "grid = browser.find_element_by_tag_name('body')\n",
        "\n",
        "# pour savoir quels coups faire à quel moment, on crée un dictionnaire\n",
        "direction = {0: Keys.UP, 1: Keys.RIGHT, 2: Keys.DOWN, 3: Keys.LEFT}\n",
        "count = 0\n",
        "\n",
        "while True:\n",
        "    try: # on vérifie que le bouton \"Try again\" n'est pas là - sinon ça veut dire que le jeu est fini\n",
        "        retryButton = browser.find_element_by_link_text('Try again')\n",
        "        scoreElem = browser.find_element_by_class_name('score-container')\n",
        "        break\n",
        "    except:\n",
        "        #Do nothing.  Game is not over yet\n",
        "        pass\n",
        "    # on continue le jeu - on appuie sur la touche suivante pour le coup d'après\n",
        "    count += 1\n",
        "    grid.send_keys(direction[count % 4]) \n",
        "    time.sleep(0.1)\n",
        "\n",
        "print('Score final : {} en {} coups'.format(scoreElem.text, count))    \n",
        "browser.quit()\n",
        "```"
      ],
      "id": "bdd99d57-ea8c-444c-8082-0964b0025341"
    }
  ],
  "nbformat": 4,
  "nbformat_minor": 5,
  "metadata": {
    "kernelspec": {
      "name": "python3",
      "display_name": "Python 3 (ipykernel)",
      "language": "python"
    },
    "language_info": {
      "name": "python",
      "codemirror_mode": {
        "name": "ipython",
        "version": "3"
      },
      "file_extension": ".py",
      "mimetype": "text/x-python",
      "nbconvert_exporter": "python",
      "pygments_lexer": "ipython3",
      "version": "3.9.13"
    }
  }
}