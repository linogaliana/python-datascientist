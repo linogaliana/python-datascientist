{
 "cells": [
  {
   "cell_type": "markdown",
   "id": "2e3a71d6",
   "metadata": {},
   "source": [
    "#  Webscraping avec python\n",
    "\n"
   ]
  },
  {
   "cell_type": "markdown",
   "id": "086ca939",
   "metadata": {},
   "source": [
    "<a href=\"https://github.com/linogaliana/python-datascientist/blob/master//__w/python-datascientist/python-datascientist/notebooks/course/manipulation/04a_webscraping_TP.ipynb\" class=\"github\"><i class=\"fab fa-github\"></i></a>\n",
    "[![Download](https://img.shields.io/badge/Download-Notebook-important?logo=Jupyter)](https://downgit.github.io/#/home?url=https://github.com/linogaliana/python-datascientist/blob/master//__w/python-datascientist/python-datascientist/notebooks/course/manipulation/04a_webscraping_TP.ipynb)\n",
    "[![nbviewer](https://img.shields.io/badge/Visualize-nbviewer-blue?logo=Jupyter)](https://nbviewer.jupyter.org/github/linogaliana/python-datascientist/blob/master//__w/python-datascientist/python-datascientist/notebooks/course/manipulation/04a_webscraping_TP.ipynb)\n",
    "[![Onyxia](https://img.shields.io/badge/SSPcloud-Tester%20via%20SSP--cloud-informational&color=yellow?logo=Python)](https://datalab.sspcloud.fr/launcher/inseefrlab-helm-charts-datascience/jupyter?onyxia.friendlyName=«python-datascientist»&resources.requests.memory=«4Gi»&security.allowlist.enabled=false&init.personnalInit=«https://raw.githubusercontent.com/linogaliana/python-datascientist/master/init_onyxia.sh»)\n",
    "[![Binder](https://img.shields.io/badge/Launch-Binder-E66581.svg?logo=data:image/png;base64,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)](https://mybinder.org/v2/gh/linogaliana/python-datascientist/master?filepath=/__w/python-datascientist/python-datascientist/notebooks/course/manipulation/04a_webscraping_TP.ipynb)\n",
    "[![Open In Colab](https://colab.research.google.com/assets/colab-badge.svg)](http://colab.research.google.com/github/linogaliana/python-datascientist/blob/master//__w/python-datascientist/python-datascientist/notebooks/course/manipulation/04a_webscraping_TP.ipynb)\n",
    "\n",
    "Le [webscraping](https://fr.wikipedia.org/wiki/Web_scraping) désigne les techniques d'extraction du contenu des sites internet. C'est une pratique très utile pour toute personne souhaitant travailler sur des informations disponibles en ligne, mais n'existant pas forcément sous la forme d'un tableau *Excel*.\n",
    "\n",
    "Ce TP vous présente comment créer et exécuter des robots afin de recupérer rapidement des informations utiles à vos projets actuels ou futurs.\n",
    "\n",
    "Le *webscraping* a un certain nombre d'enjeux en termes de légalité, qui ne seront pas enseignés dans ce cours mais dans un cours de 3A à l'ENSAE. En particulier, la CNIL a publié en 2020 de nouvelles directives sur le *webscraping* reprécisant que toute donnée ne peut être réutilisée à l'insu de la personne à laquelle ces données appartiennent. \n",
    "\n",
    "Enfin, il est à noter que ce notebook est très fortement inspiré et réadapté à partir de [celui de Xavier Dupré](http://www.xavierdupre.fr/app/ensae_teaching_cs/helpsphinx/notebooks/TD2A_Eco_Web_Scraping.html), l'ancien professeur de la matière."
   ]
  },
  {
   "cell_type": "markdown",
   "id": "1f0b55aa",
   "metadata": {},
   "source": [
    "# Un détour par le Web : comment fonctionne un site ?\n",
    "\n",
    "Même si ce TP ne vise pas à faire un cours de web, il vous faut néanmoins certaines bases sur la manière dont un site internet fonctionne afin de comprendre comment sont structurées les informations sur une page.\n",
    "\n",
    "Un site Web est un ensemble de pages codées en *HTML* qui permet de décrire à la fois le contenu et la forme d'une page *Web*.\n",
    "\n",
    "Pour voir cela, ouvrez n'importe quelle page web et faites un clic-droit dessus. \n",
    "- Sous `Chrome` <i class=\"fab fa-chrome\"></i> : Cliquez ensuite sur \"Affichez le code source de la page\" (<kbd>CTRL</kbd>+<kbd>U</kbd>) ;\n",
    "- Sous `Firefox` <i class=\"fab fa-firefox\"></i> : \"Code source de la page\" (<kbd>CTRL</kbd>+<kbd>MAJ</kbd>+<kbd>K</kbd>) ;\n",
    "- Sous `Edge` <i class=\"fab fa-edge\"></i> : \"Affichez la page source\" (<kbd>CTRL</kbd>+<kbd>U</kbd>) ;\n",
    "- Sous `Safari` <i class=\"fab fa-safari\"></i> : voir comment faire [ici](https://fr.wikihow.com/voir-le-code-source)"
   ]
  },
  {
   "cell_type": "markdown",
   "id": "3a0cc94e",
   "metadata": {},
   "source": [
    "## Les balises"
   ]
  },
  {
   "cell_type": "markdown",
   "id": "b208bde2",
   "metadata": {},
   "source": [
    "Sur une page web, vous trouverez toujours à coup sûr des éléments comme ``<head>``, ``<title>``, etc. Il  s'agit des codes qui vous permettent de structurer le contenu d'une page *HTML* et qui s'appellent des **balises**. \n",
    "Citons, par exemple, les balises ``<p>``, ``<h1>``, ``<h2>``, ``<h3>``, ``<strong>`` ou ``<em>``.\n",
    "Le symbole ``< >`` est une balise : il sert à indiquer le début d'une partie. Le symbole ``</ >`` indique la fin de cette partie. La plupart des balises vont par paires, avec une *balise ouvrante* et une *balise fermante* (par exemple ``<p>`` et ``</p>``).\n",
    "\n",
    "### Exemple : les balise des tableaux\n",
    "\n",
    "| Balise      | Description                        |\n",
    "|-------------|------------------------------------|\n",
    "| `<table>`   | Tableau                            |\n",
    "| `<caption>` | Titre du tableau                   |\n",
    "| `<tr>`      | Ligne de tableau                   |\n",
    "| `<th>`      | Cellule d'en-tête                  |\n",
    "| `<td>`      | Cellule                            |\n",
    "| `<thead>`   | Section de l'en-tête du tableau    |\n",
    "| `<tbody>`   | Section du corps du tableau        |\n",
    "| `<tfoot>`   | Section du pied du tableau         |"
   ]
  },
  {
   "cell_type": "markdown",
   "id": "f8bdda03",
   "metadata": {},
   "source": [
    "**Application : un tableau en HTML**\n",
    "\n",
    "Le code *HTML* du tableau suivant\n",
    "\n",
    "```{=html}\n",
    "<table>\n",
    "<caption> Le Titre de mon tableau </caption>\n",
    "\n",
    "   <tr>\n",
    "      <th>Prénom</th>\n",
    "      <th>Nom</th>\n",
    "      <th>Profession</th>\n",
    "   </tr>\n",
    "   <tr>\n",
    "      <td>Mike </td>\n",
    "      <td>Stuntman</td>\n",
    "      <td>Cascadeur</td>\n",
    "   </tr>\n",
    "   <tr>\n",
    "      <td>Mister</td>\n",
    "      <td>Pink</td>\n",
    "      <td>Gangster</td>\n",
    "   </tr>\n",
    "</table>\n",
    "```\n",
    "\n",
    "Donnera dans le navigateur :\n",
    "\n",
    "<table>\n",
    "<caption> Le Titre de mon tableau </caption>\n",
    "\n",
    "   <tr>\n",
    "      <th>Prénom</th>\n",
    "      <th>Nom</th>\n",
    "      <th>Profession</th>\n",
    "   </tr>\n",
    "   <tr>\n",
    "      <td>Mike </td>\n",
    "      <td>Stuntman</td>\n",
    "      <td>Cascadeur</td>\n",
    "   </tr>\n",
    "   <tr>\n",
    "      <td>Mister</td>\n",
    "      <td>Pink</td>\n",
    "      <td>Gangster</td>\n",
    "   </tr>\n",
    "</table>"
   ]
  },
  {
   "cell_type": "markdown",
   "id": "cd1b66bc",
   "metadata": {},
   "source": [
    "### Parent et enfant\n",
    "\n",
    "Dans le cadre du langage HTML, les termes de parent (*parent*) et enfant (*child*) servent à désigner des élements emboîtés les uns dans les autres. Dans la construction suivante, par exemple :\n",
    "\n",
    "```{=html}\n",
    "< div> \n",
    "    < p>\n",
    "       bla,bla\n",
    "    < /p>\n",
    "< /div>\n",
    "```\n",
    "\n",
    "Sur la page web, cela apparaitra de la manière suivante : \n",
    "\n",
    "<div> \n",
    "    <p>\n",
    "       bla,bla\n",
    "    </p>\n",
    "</div>"
   ]
  },
  {
   "cell_type": "markdown",
   "id": "4a8b9d74",
   "metadata": {},
   "source": [
    "On dira que l'élément ``<div>`` est le parent de l'élément ``<p>`` tandis que l'élément ``<p>`` est l'enfant de l'élément ``<div>``.\n"
   ]
  },
  {
   "cell_type": "markdown",
   "id": "9e240fec",
   "metadata": {},
   "source": [
    ":comment: *Mais pourquoi apprendre ça pour \"scraper\", me direz-vous ?*\n",
    "\n",
    "Parce que, pour bien récupérer les informations d'un site internet, il faut pouvoir comprendre sa structure et donc son code HTML. Les fonctions python qui servent au scrapping sont principalement construites pour vous permettre de naviguer entre les balises."
   ]
  },
  {
   "cell_type": "markdown",
   "id": "b4b625d3",
   "metadata": {},
   "source": [
    "# Scraper avec python: le package `BeautifulSoup`\n",
    "\n",
    "## Les packages disponibles\n",
    "\n",
    "Nous allons essentiellement utiliser le package [BeautifulSoup4](https://www.crummy.com/software/BeautifulSoup/bs4/doc/) pour ce cours, mais d'autres packages existent (Selenium, Scrapy...). Il s'utilise souvent en conjonction avec\n",
    "[urllib](https://docs.python.org/3/library/urllib.html#module-urllib)\n",
    "\n",
    "`BeautifulSoup` sera suffisant quand vous voudrez travailler sur des pages HTML statiques. Dès que les informations que vous recherchez sont générées via l'exécution de scripts [Javascript](https://fr.wikipedia.org/wiki/JavaScript), il vous faudra passer par des outils comme [Selenium](https://selenium-python.readthedocs.io/).\n",
    "\n",
    "De même, si vous ne connaissez pas l'URL, il faudra passer par un framework comme [Scrapy](https://scrapy.org/), qui passe facilement d'une page à une autre (\"crawl\"). Scrapy est plus complexe à manipuler que BeautifulSoup : si vous voulez plus de détails, rendez-vous sur la page du [tutoriel Scrapy](https://doc.scrapy.org/en/latest/intro/tutorial.html).\n",
    "\n",
    "Le *webscraping* est un domaine où la reproductibilité est compliquée à mettre en oeuvre. Une page *web* évolue\n",
    "potentiellement régulièrement et d'une page web à l'autre, la structure peut\n",
    "être très différente ce qui rend certains codes difficilement exportables.\n",
    "Par conséquent, la meilleure manière d'avoir un programme fonctionnel est\n",
    "de comprendre la structure d'une page web et dissocier les éléments exportables\n",
    "à d'autres cas d'usages des requêtes *ad hoc*. \n",
    "\n",
    "\n"
   ]
  },
  {
   "cell_type": "code",
   "execution_count": null,
   "id": "369ac20d",
   "metadata": {},
   "outputs": [],
   "source": [
    "import urllib\n",
    "import bs4\n",
    "import pandas\n",
    "from urllib import request"
   ]
  },
  {
   "cell_type": "markdown",
   "id": "93302d82",
   "metadata": {},
   "source": [
    "## Récupérer le contenu d'une page HTML\n",
    "\n",
    "On va commencer doucement. Prenons une page wikipedia, par exemple celle de la Ligue 1 de football : [Championnat de France de football 2019-2020](https://fr.wikipedia.org/wiki/Championnat_de_France_de_football_2019-2020). On va souhaiter récupérer la liste des équipes, ainsi que les url des pages Wikipedia de ces équipes.\n"
   ]
  },
  {
   "cell_type": "code",
   "execution_count": null,
   "id": "d69ef0fd",
   "metadata": {
    "lines_to_next_cell": 2
   },
   "outputs": [],
   "source": [
    "# Etape 1 : se connecter à la page wikipedia et obtenir le code source\n",
    "\n",
    "url_ligue_1 = \"https://fr.wikipedia.org/wiki/Championnat_de_France_de_football_2019-2020\"\n",
    "    \n",
    "request_text = request.urlopen(url_ligue_1).read()\n",
    "# print(request_text[:1000])    "
   ]
  },
  {
   "cell_type": "code",
   "execution_count": null,
   "id": "ca627ab3",
   "metadata": {},
   "outputs": [],
   "source": [
    "type(request_text)"
   ]
  },
  {
   "cell_type": "markdown",
   "id": "dd34ff8b",
   "metadata": {},
   "source": [
    "```\n",
    "## <class 'bytes'>\n",
    "```\n"
   ]
  },
  {
   "cell_type": "code",
   "execution_count": null,
   "id": "1b8d3208",
   "metadata": {},
   "outputs": [],
   "source": [
    "# Etape 2 : utiliser le package BeautifulSoup\n",
    "# qui \"comprend\" les balises contenues dans la chaine de caractères renvoyée par la fonction request\n",
    "\n",
    "page = bs4.BeautifulSoup(request_text, \"lxml\")\n",
    "\n",
    "#print(page)"
   ]
  },
  {
   "cell_type": "markdown",
   "id": "d5764ea2",
   "metadata": {},
   "source": [
    "Si on print l'objet, page créée avec BeautifulSoup, on voit que ce n'est plus une chaine de caractères mais bien une page HTML avec des balises. On peut à présent chercher des élements à l'intérieur de ces balises.\n",
    "\n",
    "## La méthode `find`\n",
    "\n",
    "Par exemple, si on veut connaître le titre de la page, on utilise la méthode ``.find`` et on lui demande *\"title\"*\n"
   ]
  },
  {
   "cell_type": "code",
   "execution_count": null,
   "id": "e99fb866",
   "metadata": {},
   "outputs": [],
   "source": [
    "print(page.find(\"title\"))"
   ]
  },
  {
   "cell_type": "markdown",
   "id": "08d83b6d",
   "metadata": {},
   "source": [
    "```\n",
    "## <title>Championnat de France de football 2019-2020 — Wikipédia</title>\n",
    "```\n",
    "\n",
    "La methode ``.find`` ne renvoie que la première occurence de l'élément. \n",
    "\n",
    "Pour vous en assurer vous pouvez :\n",
    "- copier le bout de code source obtenu, \n",
    "- le coller  dans une cellule de votre notebook\n",
    "- et passer la cellule en \"Markdown\""
   ]
  },
  {
   "cell_type": "markdown",
   "id": "05caf6cb",
   "metadata": {},
   "source": [
    "La cellule avec le copier-coller du code source donne : \n"
   ]
  },
  {
   "cell_type": "code",
   "execution_count": null,
   "id": "6430d0cc",
   "metadata": {},
   "outputs": [],
   "source": [
    "print(page.find(\"table\"))"
   ]
  },
  {
   "cell_type": "markdown",
   "id": "0c23b5f2",
   "metadata": {},
   "source": [
    "```\n",
    "## <table><caption style=\"background:#99cc99;color:#000000;\">Généralités</caption><tbody><tr>\n",
    "## <th scope=\"row\" style=\"width:10.5em;\">Sport</th>\n",
    "## <td>\n",
    "## <a href=\"/wiki/Football\" title=\"Football\">Football</a></td>\n",
    "## </tr>\n",
    "## <tr>\n",
    "## <th scope=\"row\" style=\"width:10.5em;\">Organisateur(s)</th>\n",
    "## <td>\n",
    "## <a href=\"/wiki/Ligue_de_football_professionnel\" title=\"Ligue de football professionnel\">LFP</a></td>\n",
    "## </tr>\n",
    "## <tr>\n",
    "## <th scope=\"row\" style=\"width:10.5em;\">Édition</th>\n",
    "## <td>\n",
    "## <abbr class=\"abbr\" title=\"Quatre-vingt-deuxième (huitante-deuxième / octante-deuxième)\">82<sup>e</sup></abbr></td>\n",
    "## </tr>\n",
    "## <tr>\n",
    "## <th scope=\"row\" style=\"width:10.5em;\">Lieu(x)</th>\n",
    "## <td>\n",
    "## <span class=\"datasortkey\" data-sort-value=\"France\"><span class=\"flagicon\"><a class=\"image\" href=\"/wiki/Fichier:Flag_of_France.svg\" title=\"Drapeau de la France\"><img alt=\"Drapeau de la France\" class=\"noviewer thumbborder\" data-file-height=\"600\" data-file-width=\"900\" decoding=\"async\" height=\"13\" src=\"//upload.wikimedia.org/wikipedia/commons/thumb/c/c3/Flag_of_France.svg/20px-Flag_of_France.svg.png\" srcset=\"//upload.wikimedia.org/wikipedia/commons/thumb/c/c3/Flag_of_France.svg/30px-Flag_of_France.svg.png 1.5x, //upload.wikimedia.org/wikipedia/commons/thumb/c/c3/Flag_of_France.svg/40px-Flag_of_France.svg.png 2x\" width=\"20\"/></a> </span><a href=\"/wiki/France\" title=\"France\">France</a></span> et <br/><span class=\"datasortkey\" data-sort-value=\"Monaco\"><span class=\"flagicon\"><a class=\"image\" href=\"/wiki/Fichier:Flag_of_Monaco.svg\" title=\"Drapeau de Monaco\"><img alt=\"Drapeau de Monaco\" class=\"noviewer thumbborder\" data-file-height=\"800\" data-file-width=\"1000\" decoding=\"async\" height=\"16\" src=\"//upload.wikimedia.org/wikipedia/commons/thumb/e/ea/Flag_of_Monaco.svg/20px-Flag_of_Monaco.svg.png\" srcset=\"//upload.wikimedia.org/wikipedia/commons/thumb/e/ea/Flag_of_Monaco.svg/30px-Flag_of_Monaco.svg.png 1.5x, //upload.wikimedia.org/wikipedia/commons/thumb/e/ea/Flag_of_Monaco.svg/40px-Flag_of_Monaco.svg.png 2x\" width=\"20\"/></a> </span><a href=\"/wiki/Monaco\" title=\"Monaco\">Monaco</a></span></td>\n",
    "## </tr>\n",
    "## <tr>\n",
    "## <th scope=\"row\" style=\"width:10.5em;\">Date</th>\n",
    "## <td>\n",
    "## Du <time class=\"nowrap date-lien\" data-sort-value=\"2019-08-09\" datetime=\"2019-08-09\"><a href=\"/wiki/9_ao%C3%BBt_en_sport\" title=\"9 août en sport\">9</a> <a class=\"mw-redirect\" href=\"/wiki/Ao%C3%BBt_2019_en_sport\" title=\"Août 2019 en sport\">août</a> <a href=\"/wiki/2019_en_football\" title=\"2019 en football\">2019</a></time><br/>au <time class=\"nowrap date-lien\" data-sort-value=\"2020-03-08\" datetime=\"2020-03-08\"><a href=\"/wiki/8_mars_en_sport\" title=\"8 mars en sport\">8 mars</a> <a href=\"/wiki/2020_en_football\" title=\"2020 en football\">2020</a></time> <small>(arrêt définitif)</small></td>\n",
    "## </tr>\n",
    "## <tr>\n",
    "## <th scope=\"row\" style=\"width:10.5em;\">Participants</th>\n",
    "## <td>\n",
    "## 20 équipes</td>\n",
    "## </tr>\n",
    "## <tr>\n",
    "## <th scope=\"row\" style=\"width:10.5em;\">Matchs joués</th>\n",
    "## <td>\n",
    "## 279 (sur 380 prévus)</td>\n",
    "## </tr>\n",
    "## <tr>\n",
    "## <th scope=\"row\" style=\"width:10.5em;\">Site web officiel</th>\n",
    "## <td>\n",
    "## <a class=\"external text\" href=\"https://www.ligue1.fr/\" rel=\"nofollow\">Site officiel</a></td>\n",
    "## </tr></tbody></table>\n",
    "```\n",
    "\n",
    "ce qui est le texte source permettant de générer le tableau suivant:\n"
   ]
  },
  {
   "cell_type": "code",
   "execution_count": null,
   "id": "f934fb04",
   "metadata": {},
   "outputs": [],
   "source": [
    "page.find(\"table\")"
   ]
  },
  {
   "cell_type": "markdown",
   "id": "72d62da8",
   "metadata": {},
   "source": [
    "<table><caption style=\"background:#99cc99;color:#000000;\">Généralités</caption><tbody><tr>\n",
    "<th scope=\"row\" style=\"width:10.5em;\">Sport</th>\n",
    "<td>\n",
    "<a href=\"/wiki/Football\" title=\"Football\">Football</a></td>\n",
    "</tr>\n",
    "<tr>\n",
    "<th scope=\"row\" style=\"width:10.5em;\">Organisateur(s)</th>\n",
    "<td>\n",
    "<a href=\"/wiki/Ligue_de_football_professionnel\" title=\"Ligue de football professionnel\">LFP</a></td>\n",
    "</tr>\n",
    "<tr>\n",
    "<th scope=\"row\" style=\"width:10.5em;\">Édition</th>\n",
    "<td>\n",
    "<abbr class=\"abbr\" title=\"Quatre-vingt-deuxième (huitante-deuxième / octante-deuxième)\">82<sup>e</sup></abbr></td>\n",
    "</tr>\n",
    "<tr>\n",
    "<th scope=\"row\" style=\"width:10.5em;\">Lieu(x)</th>\n",
    "<td>\n",
    "<span class=\"datasortkey\" data-sort-value=\"France\"><span class=\"flagicon\"><a class=\"image\" href=\"/wiki/Fichier:Flag_of_France.svg\" title=\"Drapeau de la France\"><img alt=\"Drapeau de la France\" class=\"noviewer thumbborder\" data-file-height=\"600\" data-file-width=\"900\" decoding=\"async\" height=\"13\" src=\"//upload.wikimedia.org/wikipedia/commons/thumb/c/c3/Flag_of_France.svg/20px-Flag_of_France.svg.png\" srcset=\"//upload.wikimedia.org/wikipedia/commons/thumb/c/c3/Flag_of_France.svg/30px-Flag_of_France.svg.png 1.5x, //upload.wikimedia.org/wikipedia/commons/thumb/c/c3/Flag_of_France.svg/40px-Flag_of_France.svg.png 2x\" width=\"20\"/></a> </span><a href=\"/wiki/France\" title=\"France\">France</a></span> et <br/><span class=\"datasortkey\" data-sort-value=\"Monaco\"><span class=\"flagicon\"><a class=\"image\" href=\"/wiki/Fichier:Flag_of_Monaco.svg\" title=\"Drapeau de Monaco\"><img alt=\"Drapeau de Monaco\" class=\"noviewer thumbborder\" data-file-height=\"800\" data-file-width=\"1000\" decoding=\"async\" height=\"16\" src=\"//upload.wikimedia.org/wikipedia/commons/thumb/e/ea/Flag_of_Monaco.svg/20px-Flag_of_Monaco.svg.png\" srcset=\"//upload.wikimedia.org/wikipedia/commons/thumb/e/ea/Flag_of_Monaco.svg/30px-Flag_of_Monaco.svg.png 1.5x, //upload.wikimedia.org/wikipedia/commons/thumb/e/ea/Flag_of_Monaco.svg/40px-Flag_of_Monaco.svg.png 2x\" width=\"20\"/></a> </span><a href=\"/wiki/Monaco\" title=\"Monaco\">Monaco</a></span></td>\n",
    "</tr>\n",
    "<tr>\n",
    "<th scope=\"row\" style=\"width:10.5em;\">Date</th>\n",
    "<td>\n",
    "Du <time class=\"nowrap date-lien\" data-sort-value=\"2019-08-09\" datetime=\"2019-08-09\"><a href=\"/wiki/9_ao%C3%BBt_en_sport\" title=\"9 août en sport\">9</a> <a class=\"mw-redirect\" href=\"/wiki/Ao%C3%BBt_2019_en_sport\" title=\"Août 2019 en sport\">août</a> <a href=\"/wiki/2019_en_football\" title=\"2019 en football\">2019</a></time><br/>au <time class=\"nowrap date-lien\" data-sort-value=\"2020-03-08\" datetime=\"2020-03-08\"><a href=\"/wiki/8_mars_en_sport\" title=\"8 mars en sport\">8 mars</a> <a href=\"/wiki/2020_en_football\" title=\"2020 en football\">2020</a></time> <small>(arrêt définitif)</small></td>\n",
    "</tr>\n",
    "<tr>\n",
    "<th scope=\"row\" style=\"width:10.5em;\">Participants</th>\n",
    "<td>\n",
    "20 équipes</td>\n",
    "</tr>\n",
    "<tr>\n",
    "<th scope=\"row\" style=\"width:10.5em;\">Matchs joués</th>\n",
    "<td>\n",
    "279 (sur 380 prévus)</td>\n",
    "</tr>\n",
    "<tr>\n",
    "<th scope=\"row\" style=\"width:10.5em;\">Site web officiel</th>\n",
    "<td>\n",
    "<a class=\"external text\" href=\"https://www.ligue1.fr/\" rel=\"nofollow\">Site officiel</a></td>\n",
    "</tr></tbody></table>"
   ]
  },
  {
   "cell_type": "markdown",
   "id": "d6757195",
   "metadata": {},
   "source": [
    "## La méthode `findAll`\n",
    "\n",
    "Pour trouver toutes les occurences, on utilise ``.findAll()``.\n"
   ]
  },
  {
   "cell_type": "code",
   "execution_count": null,
   "id": "f54f2cb5",
   "metadata": {},
   "outputs": [],
   "source": [
    "print(\"Il y a\", len(page.findAll(\"table\")), \"éléments dans la page qui sont des <table>\")"
   ]
  },
  {
   "cell_type": "markdown",
   "id": "80337d71",
   "metadata": {},
   "source": [
    "```\n",
    "## Il y a 34 éléments dans la page qui sont des <table>\n",
    "```"
   ]
  },
  {
   "cell_type": "markdown",
   "id": "eb018925",
   "metadata": {},
   "source": [
    "# Exercice guidé : obtenir la liste des équipes de Ligue 1\n",
    "\n",
    "Dans le premier paragraphe de la page \"Participants\", on a le tableau avec les résultats de l'année. "
   ]
  },
  {
   "cell_type": "markdown",
   "id": "476f8cfb",
   "metadata": {},
   "source": [
    "Le but est de récupérer les informations contenues dans ce tableau. \n",
    "\n",
    "Pour cela, nous allons procéder en 6 étapes:\n",
    "\n",
    "1. Trouver le tableau\n",
    "2. Récupérer chaque ligne du table\n",
    "3. Nettoyer les sorties en ne gardant que le texte sur une ligne\n",
    "4. Généraliser sur toutes les lignes\n",
    "5. Récupérer les entêtes du tableau\n",
    "6. Finalisation du tableau"
   ]
  },
  {
   "cell_type": "markdown",
   "id": "bf946d5d",
   "metadata": {},
   "source": [
    ":one:\n",
    "Trouver le tableau\n"
   ]
  },
  {
   "cell_type": "code",
   "execution_count": null,
   "id": "94ac4eca",
   "metadata": {},
   "outputs": [],
   "source": [
    "# on identifie le tableau en question : c'est le premier qui a cette classe \"wikitable sortable\"\n",
    "tableau_participants = page.find('table', {'class' : 'wikitable sortable'})\n",
    "tableau_participants"
   ]
  },
  {
   "cell_type": "markdown",
   "id": "6f89c7b3",
   "metadata": {},
   "source": [
    "<table class=\"wikitable sortable\" style=\"font-size:90%;line-height:15px;text-align:center\">\n",
    "<tbody><tr>\n",
    "<th scope=\"col\">Club\n",
    "</th>\n",
    "<th scope=\"col\">Dernière<br/>montée\n",
    "</th>\n",
    "<th scope=\"col\">Budget<sup class=\"reference\" id=\"cite_ref-3\"><a href=\"#cite_note-3\"><span class=\"cite_crochet\">[</span>3<span class=\"cite_crochet\">]</span></a></sup><br/>en M<a href=\"/wiki/Euro\" title=\"Euro\">€</a>\n",
    "</th>\n",
    "<th scope=\"col\">Classement<br/><a href=\"/wiki/Championnat_de_France_de_football_2018-2019\" title=\"Championnat de France de football 2018-2019\">2018-2019</a>\n",
    "</th>\n",
    "<th scope=\"col\">Entraîneur\n",
    "</th>\n",
    "<th scope=\"col\">Depuis\n",
    "</th>\n",
    "<th scope=\"col\">Stade\n",
    "</th>\n",
    "<th scope=\"col\">Capacité<br/>en L1<sup class=\"reference\" id=\"cite_ref-4\"><a href=\"#cite_note-4\"><span class=\"cite_crochet\">[</span>4<span class=\"cite_crochet\">]</span></a></sup>\n",
    "</th>\n",
    "<th scope=\"col\">Nombre<br/>de saisons<br/>en L1\n",
    "</th></tr>\n",
    "<tr bgcolor=\"#97DEFF\">\n",
    "<td><a href=\"/wiki/Paris_Saint-Germain_Football_Club\" title=\"Paris Saint-Germain Football Club\">Paris Saint-Germain</a>\n",
    "</td>\n",
    "<td>1974\n",
    "</td>\n",
    "<td>637\n",
    "</td>\n",
    "<td><span data-sort-value=\"101 !\"></span><abbr class=\"abbr\" title=\"Premier\">1<sup>er</sup></abbr>\n",
    "</td>\n",
    "<td align=\"left\"><span class=\"flagicon\"><a class=\"image\" href=\"/wiki/Fichier:Flag_of_Germany.svg\" title=\"Drapeau : Allemagne\"><img alt=\"\" class=\"noviewer thumbborder\" data-file-height=\"600\" data-file-width=\"1000\" decoding=\"async\" height=\"12\" src=\"//upload.wikimedia.org/wikipedia/commons/thumb/b/ba/Flag_of_Germany.svg/20px-Flag_of_Germany.svg.png\" srcset=\"//upload.wikimedia.org/wikipedia/commons/thumb/b/ba/Flag_of_Germany.svg/30px-Flag_of_Germany.svg.png 1.5x, //upload.wikimedia.org/wikipedia/commons/thumb/b/ba/Flag_of_Germany.svg/40px-Flag_of_Germany.svg.png 2x\" width=\"20\"/></a></span> <a href=\"/wiki/Thomas_Tuchel\" title=\"Thomas Tuchel\">Thomas Tuchel</a>\n",
    "</td>\n",
    "<td>2018\n",
    "</td>\n",
    "<td><a href=\"/wiki/Parc_des_Princes\" title=\"Parc des Princes\">Parc des Princes</a>\n",
    "</td>\n",
    "<td>47 929\n",
    "</td>\n",
    "<td>46\n",
    "</td></tr>\n",
    "<tr bgcolor=\"#97DEFF\">\n",
    "<td><a href=\"/wiki/LOSC_Lille\" title=\"LOSC Lille\">LOSC Lille</a>\n",
    "</td>\n",
    "<td>2000\n",
    "</td>\n",
    "<td>120\n",
    "</td>\n",
    "<td><span data-sort-value=\"102 !\"></span><abbr class=\"abbr\" title=\"Deuxième\">2<sup>e</sup></abbr>\n",
    "</td>\n",
    "<td align=\"left\"><span class=\"flagicon\"><a class=\"image\" href=\"/wiki/Fichier:Flag_of_France.svg\" title=\"Drapeau : France\"><img alt=\"\" class=\"noviewer thumbborder\" data-file-height=\"600\" data-file-width=\"900\" decoding=\"async\" height=\"13\" src=\"//upload.wikimedia.org/wikipedia/commons/thumb/c/c3/Flag_of_France.svg/20px-Flag_of_France.svg.png\" srcset=\"//upload.wikimedia.org/wikipedia/commons/thumb/c/c3/Flag_of_France.svg/30px-Flag_of_France.svg.png 1.5x, //upload.wikimedia.org/wikipedia/commons/thumb/c/c3/Flag_of_France.svg/40px-Flag_of_France.svg.png 2x\" width=\"20\"/></a></span> <a href=\"/wiki/Christophe_Galtier\" title=\"Christophe Galtier\">Christophe Galtier</a>\n",
    "</td>\n",
    "<td>2017\n",
    "</td>\n",
    "<td><a href=\"/wiki/Stade_Pierre-Mauroy\" title=\"Stade Pierre-Mauroy\">Stade Pierre-Mauroy</a>\n",
    "</td>\n",
    "<td>49 712\n",
    "</td>\n",
    "<td>59\n",
    "</td></tr>\n",
    "<tr bgcolor=\"#97DEFF\">\n",
    "<td><a href=\"/wiki/Olympique_lyonnais\" title=\"Olympique lyonnais\">Olympique lyonnais</a>\n",
    "</td>\n",
    "<td>1989\n",
    "</td>\n",
    "<td>310\n",
    "</td>\n",
    "<td><span data-sort-value=\"103 !\"></span><abbr class=\"abbr\" title=\"Troisième\">3<sup>e</sup></abbr>\n",
    "</td>\n",
    "<td align=\"left\"><span class=\"flagicon\"><a class=\"image\" href=\"/wiki/Fichier:Flag_of_France.svg\" title=\"Drapeau : France\"><img alt=\"\" class=\"noviewer thumbborder\" data-file-height=\"600\" data-file-width=\"900\" decoding=\"async\" height=\"13\" src=\"//upload.wikimedia.org/wikipedia/commons/thumb/c/c3/Flag_of_France.svg/20px-Flag_of_France.svg.png\" srcset=\"//upload.wikimedia.org/wikipedia/commons/thumb/c/c3/Flag_of_France.svg/30px-Flag_of_France.svg.png 1.5x, //upload.wikimedia.org/wikipedia/commons/thumb/c/c3/Flag_of_France.svg/40px-Flag_of_France.svg.png 2x\" width=\"20\"/></a></span> <a href=\"/wiki/Rudi_Garcia\" title=\"Rudi Garcia\">Rudi Garcia</a>\n",
    "</td>\n",
    "<td>2019\n",
    "</td>\n",
    "<td><a href=\"/wiki/Parc_Olympique_lyonnais\" title=\"Parc Olympique lyonnais\">Groupama Stadium</a>\n",
    "</td>\n",
    "<td>57 206\n",
    "</td>\n",
    "<td>60\n",
    "</td></tr>\n",
    "<tr bgcolor=\"#FFE052\">\n",
    "<td><a href=\"/wiki/Association_sportive_de_Saint-%C3%89tienne\" title=\"Association sportive de Saint-Étienne\">AS Saint-Étienne</a>\n",
    "</td>\n",
    "<td>2004\n",
    "</td>\n",
    "<td>100\n",
    "</td>\n",
    "<td><span data-sort-value=\"104 !\"></span><abbr class=\"abbr\" title=\"Quatrième\">4<sup>e</sup></abbr>\n",
    "</td>\n",
    "<td align=\"left\"><span class=\"flagicon\"><a class=\"image\" href=\"/wiki/Fichier:Flag_of_France.svg\" title=\"Drapeau : France\"><img alt=\"\" class=\"noviewer thumbborder\" data-file-height=\"600\" data-file-width=\"900\" decoding=\"async\" height=\"13\" src=\"//upload.wikimedia.org/wikipedia/commons/thumb/c/c3/Flag_of_France.svg/20px-Flag_of_France.svg.png\" srcset=\"//upload.wikimedia.org/wikipedia/commons/thumb/c/c3/Flag_of_France.svg/30px-Flag_of_France.svg.png 1.5x, //upload.wikimedia.org/wikipedia/commons/thumb/c/c3/Flag_of_France.svg/40px-Flag_of_France.svg.png 2x\" width=\"20\"/></a></span> <a href=\"/wiki/Claude_Puel\" title=\"Claude Puel\">Claude Puel</a>\n",
    "</td>\n",
    "<td>2019\n",
    "</td>\n",
    "<td><a href=\"/wiki/Stade_Geoffroy-Guichard\" title=\"Stade Geoffroy-Guichard\">Stade Geoffroy-Guichard</a>\n",
    "</td>\n",
    "<td>41 965\n",
    "</td>\n",
    "<td>66\n",
    "</td></tr>\n",
    "<tr>\n",
    "<td><a href=\"/wiki/Olympique_de_Marseille\" title=\"Olympique de Marseille\">Olympique de Marseille</a>\n",
    "</td>\n",
    "<td>1996\n",
    "</td>\n",
    "<td>110\n",
    "</td>\n",
    "<td><span data-sort-value=\"105 !\"></span><abbr class=\"abbr\" title=\"Cinquième\">5<sup>e</sup></abbr>\n",
    "</td>\n",
    "<td align=\"left\"><span class=\"flagicon\"><a class=\"image\" href=\"/wiki/Fichier:Flag_of_Portugal.svg\" title=\"Drapeau : Portugal\"><img alt=\"\" class=\"noviewer thumbborder\" data-file-height=\"400\" data-file-width=\"600\" decoding=\"async\" height=\"13\" src=\"//upload.wikimedia.org/wikipedia/commons/thumb/5/5c/Flag_of_Portugal.svg/20px-Flag_of_Portugal.svg.png\" srcset=\"//upload.wikimedia.org/wikipedia/commons/thumb/5/5c/Flag_of_Portugal.svg/30px-Flag_of_Portugal.svg.png 1.5x, //upload.wikimedia.org/wikipedia/commons/thumb/5/5c/Flag_of_Portugal.svg/40px-Flag_of_Portugal.svg.png 2x\" width=\"20\"/></a></span> <a href=\"/wiki/Andr%C3%A9_Villas-Boas\" title=\"André Villas-Boas\">André Villas-Boas</a>\n",
    "</td>\n",
    "<td>2019\n",
    "</td>\n",
    "<td><a href=\"/wiki/Stade_V%C3%A9lodrome\" title=\"Stade Vélodrome\">Orange Vélodrome</a>\n",
    "</td>\n",
    "<td>66 226\n",
    "</td>\n",
    "<td>69\n",
    "</td></tr>\n",
    "<tr>\n",
    "<td><a href=\"/wiki/Montpellier_H%C3%A9rault_Sport_Club\" title=\"Montpellier Hérault Sport Club\">Montpellier HSC</a>\n",
    "</td>\n",
    "<td>2009\n",
    "</td>\n",
    "<td>40\n",
    "</td>\n",
    "<td><span data-sort-value=\"106 !\"></span><abbr class=\"abbr\" title=\"Sixième\">6<sup>e</sup></abbr>\n",
    "</td>\n",
    "<td align=\"left\"><span class=\"flagicon\"><a class=\"image\" href=\"/wiki/Fichier:Flag_of_Armenia.svg\" title=\"Drapeau : Arménie\"><img alt=\"\" class=\"noviewer thumbborder\" data-file-height=\"600\" data-file-width=\"1200\" decoding=\"async\" height=\"10\" src=\"//upload.wikimedia.org/wikipedia/commons/thumb/2/2f/Flag_of_Armenia.svg/20px-Flag_of_Armenia.svg.png\" srcset=\"//upload.wikimedia.org/wikipedia/commons/thumb/2/2f/Flag_of_Armenia.svg/30px-Flag_of_Armenia.svg.png 1.5x, //upload.wikimedia.org/wikipedia/commons/thumb/2/2f/Flag_of_Armenia.svg/40px-Flag_of_Armenia.svg.png 2x\" width=\"20\"/></a></span><span class=\"flagicon\"><a class=\"image\" href=\"/wiki/Fichier:Flag_of_France.svg\" title=\"Drapeau : France\"><img alt=\"\" class=\"noviewer thumbborder\" data-file-height=\"600\" data-file-width=\"900\" decoding=\"async\" height=\"13\" src=\"//upload.wikimedia.org/wikipedia/commons/thumb/c/c3/Flag_of_France.svg/20px-Flag_of_France.svg.png\" srcset=\"//upload.wikimedia.org/wikipedia/commons/thumb/c/c3/Flag_of_France.svg/30px-Flag_of_France.svg.png 1.5x, //upload.wikimedia.org/wikipedia/commons/thumb/c/c3/Flag_of_France.svg/40px-Flag_of_France.svg.png 2x\" width=\"20\"/></a></span> <a href=\"/wiki/Michel_Der_Zakarian\" title=\"Michel Der Zakarian\">Michel Der Zakarian</a>\n",
    "</td>\n",
    "<td>2017\n",
    "</td>\n",
    "<td><a href=\"/wiki/Stade_de_la_Mosson\" title=\"Stade de la Mosson\">Stade de la Mosson</a>\n",
    "</td>\n",
    "<td>22 000\n",
    "</td>\n",
    "<td>27\n",
    "</td></tr>\n",
    "<tr>\n",
    "<td><a href=\"/wiki/Olympique_Gymnaste_Club_Nice\" title=\"Olympique Gymnaste Club Nice\">OGC Nice</a>\n",
    "</td>\n",
    "<td>2002\n",
    "</td>\n",
    "<td>50\n",
    "</td>\n",
    "<td><span data-sort-value=\"107 !\"></span><abbr class=\"abbr\" title=\"Septième\">7<sup>e</sup></abbr>\n",
    "</td>\n",
    "<td align=\"left\"><span class=\"flagicon\"><a class=\"image\" href=\"/wiki/Fichier:Flag_of_France.svg\" title=\"Drapeau : France\"><img alt=\"\" class=\"noviewer thumbborder\" data-file-height=\"600\" data-file-width=\"900\" decoding=\"async\" height=\"13\" src=\"//upload.wikimedia.org/wikipedia/commons/thumb/c/c3/Flag_of_France.svg/20px-Flag_of_France.svg.png\" srcset=\"//upload.wikimedia.org/wikipedia/commons/thumb/c/c3/Flag_of_France.svg/30px-Flag_of_France.svg.png 1.5x, //upload.wikimedia.org/wikipedia/commons/thumb/c/c3/Flag_of_France.svg/40px-Flag_of_France.svg.png 2x\" width=\"20\"/></a></span> <a href=\"/wiki/Patrick_Vieira\" title=\"Patrick Vieira\">Patrick Vieira</a>\n",
    "</td>\n",
    "<td>2018\n",
    "</td>\n",
    "<td><a href=\"/wiki/Allianz_Riviera\" title=\"Allianz Riviera\">Allianz Riviera</a>\n",
    "</td>\n",
    "<td>35 596\n",
    "</td>\n",
    "<td>60\n",
    "</td></tr>\n",
    "<tr>\n",
    "<td><a href=\"/wiki/Stade_de_Reims\" title=\"Stade de Reims\">Stade de Reims</a>\n",
    "</td>\n",
    "<td>2018\n",
    "</td>\n",
    "<td>45\n",
    "</td>\n",
    "<td><span data-sort-value=\"108 !\"></span><abbr class=\"abbr\" title=\"Huitième\">8<sup>e</sup></abbr>\n",
    "</td>\n",
    "<td align=\"left\"><span class=\"flagicon\"><a class=\"image\" href=\"/wiki/Fichier:Flag_of_France.svg\" title=\"Drapeau : France\"><img alt=\"\" class=\"noviewer thumbborder\" data-file-height=\"600\" data-file-width=\"900\" decoding=\"async\" height=\"13\" src=\"//upload.wikimedia.org/wikipedia/commons/thumb/c/c3/Flag_of_France.svg/20px-Flag_of_France.svg.png\" srcset=\"//upload.wikimedia.org/wikipedia/commons/thumb/c/c3/Flag_of_France.svg/30px-Flag_of_France.svg.png 1.5x, //upload.wikimedia.org/wikipedia/commons/thumb/c/c3/Flag_of_France.svg/40px-Flag_of_France.svg.png 2x\" width=\"20\"/></a></span> <a href=\"/wiki/David_Guion\" title=\"David Guion\">David Guion</a>\n",
    "</td>\n",
    "<td>2017\n",
    "</td>\n",
    "<td><a href=\"/wiki/Stade_Auguste-Delaune\" title=\"Stade Auguste-Delaune\">Stade Auguste-Delaune</a>\n",
    "</td>\n",
    "<td>20 546\n",
    "</td>\n",
    "<td>35\n",
    "</td></tr>\n",
    "<tr>\n",
    "<td><a href=\"/wiki/N%C3%AEmes_Olympique\" title=\"Nîmes Olympique\">Nîmes Olympique</a>\n",
    "</td>\n",
    "<td>2018\n",
    "</td>\n",
    "<td>27\n",
    "</td>\n",
    "<td><span data-sort-value=\"109 !\"></span><abbr class=\"abbr\" title=\"Neuvième\">9<sup>e</sup></abbr>\n",
    "</td>\n",
    "<td align=\"left\"><span class=\"flagicon\"><a class=\"image\" href=\"/wiki/Fichier:Flag_of_France.svg\" title=\"Drapeau : France\"><img alt=\"\" class=\"noviewer thumbborder\" data-file-height=\"600\" data-file-width=\"900\" decoding=\"async\" height=\"13\" src=\"//upload.wikimedia.org/wikipedia/commons/thumb/c/c3/Flag_of_France.svg/20px-Flag_of_France.svg.png\" srcset=\"//upload.wikimedia.org/wikipedia/commons/thumb/c/c3/Flag_of_France.svg/30px-Flag_of_France.svg.png 1.5x, //upload.wikimedia.org/wikipedia/commons/thumb/c/c3/Flag_of_France.svg/40px-Flag_of_France.svg.png 2x\" width=\"20\"/></a></span> <a href=\"/wiki/Bernard_Blaquart\" title=\"Bernard Blaquart\">Bernard Blaquart</a>\n",
    "</td>\n",
    "<td>2015\n",
    "</td>\n",
    "<td><a href=\"/wiki/Stade_des_Costi%C3%A8res\" title=\"Stade des Costières\">Stade des Costières</a>\n",
    "</td>\n",
    "<td>15 788\n",
    "</td>\n",
    "<td>35\n",
    "</td></tr>\n",
    "<tr bgcolor=\"#FFE052\">\n",
    "<td><a class=\"mw-redirect\" href=\"/wiki/Stade_rennais_football_club\" title=\"Stade rennais football club\">Stade rennais FC</a>\n",
    "</td>\n",
    "<td>1994\n",
    "</td>\n",
    "<td>65\n",
    "</td>\n",
    "<td><span data-sort-value=\"110 !\"></span><abbr class=\"abbr\" title=\"Dixième\">10<sup>e</sup></abbr>\n",
    "</td>\n",
    "<td align=\"left\"><span class=\"flagicon\"><a class=\"image\" href=\"/wiki/Fichier:Flag_of_France.svg\" title=\"Drapeau : France\"><img alt=\"\" class=\"noviewer thumbborder\" data-file-height=\"600\" data-file-width=\"900\" decoding=\"async\" height=\"13\" src=\"//upload.wikimedia.org/wikipedia/commons/thumb/c/c3/Flag_of_France.svg/20px-Flag_of_France.svg.png\" srcset=\"//upload.wikimedia.org/wikipedia/commons/thumb/c/c3/Flag_of_France.svg/30px-Flag_of_France.svg.png 1.5x, //upload.wikimedia.org/wikipedia/commons/thumb/c/c3/Flag_of_France.svg/40px-Flag_of_France.svg.png 2x\" width=\"20\"/></a></span> <a href=\"/wiki/Julien_St%C3%A9phan\" title=\"Julien Stéphan\">Julien Stéphan</a>\n",
    "</td>\n",
    "<td>2018\n",
    "</td>\n",
    "<td><a href=\"/wiki/Roazhon_Park\" title=\"Roazhon Park\">Roazhon Park</a>\n",
    "</td>\n",
    "<td>29 194\n",
    "</td>\n",
    "<td>62\n",
    "</td></tr>\n",
    "<tr bgcolor=\"#FFF052\">\n",
    "<td><a href=\"/wiki/Racing_Club_de_Strasbourg_Alsace\" title=\"Racing Club de Strasbourg Alsace\">RC Strasbourg Alsace</a>\n",
    "</td>\n",
    "<td>2017\n",
    "</td>\n",
    "<td>43\n",
    "</td>\n",
    "<td><span data-sort-value=\"111 !\"></span><abbr class=\"abbr\" title=\"Onzième\">11<sup>e</sup></abbr>\n",
    "</td>\n",
    "<td align=\"left\"><span class=\"flagicon\"><a class=\"image\" href=\"/wiki/Fichier:Flag_of_France.svg\" title=\"Drapeau : France\"><img alt=\"\" class=\"noviewer thumbborder\" data-file-height=\"600\" data-file-width=\"900\" decoding=\"async\" height=\"13\" src=\"//upload.wikimedia.org/wikipedia/commons/thumb/c/c3/Flag_of_France.svg/20px-Flag_of_France.svg.png\" srcset=\"//upload.wikimedia.org/wikipedia/commons/thumb/c/c3/Flag_of_France.svg/30px-Flag_of_France.svg.png 1.5x, //upload.wikimedia.org/wikipedia/commons/thumb/c/c3/Flag_of_France.svg/40px-Flag_of_France.svg.png 2x\" width=\"20\"/></a></span> <a href=\"/wiki/Thierry_Laurey\" title=\"Thierry Laurey\">Thierry Laurey</a>\n",
    "</td>\n",
    "<td>2016\n",
    "</td>\n",
    "<td><a href=\"/wiki/Stade_de_la_Meinau\" title=\"Stade de la Meinau\">Stade de la Meinau</a>\n",
    "</td>\n",
    "<td>26 109\n",
    "</td>\n",
    "<td>58\n",
    "</td></tr>\n",
    "<tr>\n",
    "<td><a href=\"/wiki/Football_Club_de_Nantes\" title=\"Football Club de Nantes\">FC Nantes</a>\n",
    "</td>\n",
    "<td>2013\n",
    "</td>\n",
    "<td>70\n",
    "</td>\n",
    "<td><span data-sort-value=\"112 !\"></span><abbr class=\"abbr\" title=\"Douzième\">12<sup>e</sup></abbr>\n",
    "</td>\n",
    "<td align=\"left\"><span class=\"flagicon\"><a class=\"image\" href=\"/wiki/Fichier:Flag_of_France.svg\" title=\"Drapeau : France\"><img alt=\"\" class=\"noviewer thumbborder\" data-file-height=\"600\" data-file-width=\"900\" decoding=\"async\" height=\"13\" src=\"//upload.wikimedia.org/wikipedia/commons/thumb/c/c3/Flag_of_France.svg/20px-Flag_of_France.svg.png\" srcset=\"//upload.wikimedia.org/wikipedia/commons/thumb/c/c3/Flag_of_France.svg/30px-Flag_of_France.svg.png 1.5x, //upload.wikimedia.org/wikipedia/commons/thumb/c/c3/Flag_of_France.svg/40px-Flag_of_France.svg.png 2x\" width=\"20\"/></a></span> <a href=\"/wiki/Christian_Gourcuff\" title=\"Christian Gourcuff\">Christian Gourcuff</a>\n",
    "</td>\n",
    "<td>2019\n",
    "</td>\n",
    "<td><a href=\"/wiki/Stade_de_la_Beaujoire\" title=\"Stade de la Beaujoire\">Stade de la Beaujoire - Louis Fonteneau</a>\n",
    "</td>\n",
    "<td>35 322\n",
    "</td>\n",
    "<td>51\n",
    "</td></tr>\n",
    "<tr>\n",
    "<td><a class=\"mw-redirect\" href=\"/wiki/Angers_sporting_club_de_l%27Ouest\" title=\"Angers sporting club de l'Ouest\">SCO d’Angers</a>\n",
    "</td>\n",
    "<td>2015\n",
    "</td>\n",
    "<td>32\n",
    "</td>\n",
    "<td><span data-sort-value=\"113 !\"></span><abbr class=\"abbr\" title=\"Treizième\">13<sup>e</sup></abbr>\n",
    "</td>\n",
    "<td align=\"left\"><span class=\"flagicon\"><a class=\"image\" href=\"/wiki/Fichier:Flag_of_France.svg\" title=\"Drapeau : France\"><img alt=\"\" class=\"noviewer thumbborder\" data-file-height=\"600\" data-file-width=\"900\" decoding=\"async\" height=\"13\" src=\"//upload.wikimedia.org/wikipedia/commons/thumb/c/c3/Flag_of_France.svg/20px-Flag_of_France.svg.png\" srcset=\"//upload.wikimedia.org/wikipedia/commons/thumb/c/c3/Flag_of_France.svg/30px-Flag_of_France.svg.png 1.5x, //upload.wikimedia.org/wikipedia/commons/thumb/c/c3/Flag_of_France.svg/40px-Flag_of_France.svg.png 2x\" width=\"20\"/></a></span> <a href=\"/wiki/St%C3%A9phane_Moulin_(football)\" title=\"Stéphane Moulin (football)\">Stéphane Moulin</a>\n",
    "</td>\n",
    "<td>2011\n",
    "</td>\n",
    "<td><a href=\"/wiki/Stade_Raymond-Kopa\" title=\"Stade Raymond-Kopa\">Stade Raymond-Kopa</a>\n",
    "</td>\n",
    "<td>17 048\n",
    "</td>\n",
    "<td>27\n",
    "</td></tr>\n",
    "<tr>\n",
    "<td><a href=\"/wiki/Football_Club_des_Girondins_de_Bordeaux\" title=\"Football Club des Girondins de Bordeaux\">Girondins de Bordeaux</a>\n",
    "</td>\n",
    "<td>1992\n",
    "</td>\n",
    "<td>70\n",
    "</td>\n",
    "<td><span data-sort-value=\"114 !\"></span><abbr class=\"abbr\" title=\"Quatorzième\">14<sup>e</sup></abbr>\n",
    "</td>\n",
    "<td align=\"left\"><span class=\"flagicon\"><a class=\"image\" href=\"/wiki/Fichier:Flag_of_Portugal.svg\" title=\"Drapeau : Portugal\"><img alt=\"\" class=\"noviewer thumbborder\" data-file-height=\"400\" data-file-width=\"600\" decoding=\"async\" height=\"13\" src=\"//upload.wikimedia.org/wikipedia/commons/thumb/5/5c/Flag_of_Portugal.svg/20px-Flag_of_Portugal.svg.png\" srcset=\"//upload.wikimedia.org/wikipedia/commons/thumb/5/5c/Flag_of_Portugal.svg/30px-Flag_of_Portugal.svg.png 1.5x, //upload.wikimedia.org/wikipedia/commons/thumb/5/5c/Flag_of_Portugal.svg/40px-Flag_of_Portugal.svg.png 2x\" width=\"20\"/></a></span> <a href=\"/wiki/Paulo_Sousa_(football,_1970)\" title=\"Paulo Sousa (football, 1970)\">Paulo Sousa</a>\n",
    "</td>\n",
    "<td>2019\n",
    "</td>\n",
    "<td><a href=\"/wiki/Matmut_Atlantique\" title=\"Matmut Atlantique\">Matmut Atlantique</a>\n",
    "</td>\n",
    "<td>42 115\n",
    "</td>\n",
    "<td>66\n",
    "</td></tr>\n",
    "<tr>\n",
    "<td><a href=\"/wiki/Amiens_Sporting_Club\" title=\"Amiens Sporting Club\">Amiens SC</a>\n",
    "</td>\n",
    "<td>2017\n",
    "</td>\n",
    "<td>30\n",
    "</td>\n",
    "<td><span data-sort-value=\"115 !\"></span><abbr class=\"abbr\" title=\"Quinzième\">15<sup>e</sup></abbr>\n",
    "</td>\n",
    "<td align=\"left\"><span class=\"flagicon\"><a class=\"image\" href=\"/wiki/Fichier:Flag_of_Slovenia.svg\" title=\"Drapeau : Slovénie\"><img alt=\"\" class=\"noviewer thumbborder\" data-file-height=\"600\" data-file-width=\"1200\" decoding=\"async\" height=\"10\" src=\"//upload.wikimedia.org/wikipedia/commons/thumb/f/f0/Flag_of_Slovenia.svg/20px-Flag_of_Slovenia.svg.png\" srcset=\"//upload.wikimedia.org/wikipedia/commons/thumb/f/f0/Flag_of_Slovenia.svg/30px-Flag_of_Slovenia.svg.png 1.5x, //upload.wikimedia.org/wikipedia/commons/thumb/f/f0/Flag_of_Slovenia.svg/40px-Flag_of_Slovenia.svg.png 2x\" width=\"20\"/></a></span> <a href=\"/wiki/Luka_Elsner\" title=\"Luka Elsner\">Luka Elsner</a>\n",
    "</td>\n",
    "<td>2019\n",
    "</td>\n",
    "<td><a href=\"/wiki/Stade_de_la_Licorne\" title=\"Stade de la Licorne\">Stade Crédit Agricole la Licorne</a>\n",
    "</td>\n",
    "<td>12 999\n",
    "</td>\n",
    "<td>2\n",
    "</td></tr>\n",
    "<tr>\n",
    "<td><a href=\"/wiki/Toulouse_Football_Club\" title=\"Toulouse Football Club\">Toulouse FC</a>\n",
    "</td>\n",
    "<td>2003\n",
    "</td>\n",
    "<td>35\n",
    "</td>\n",
    "<td><span data-sort-value=\"116 !\"></span><abbr class=\"abbr\" title=\"Seizième\">16<sup>e</sup></abbr>\n",
    "</td>\n",
    "<td align=\"left\"><span class=\"flagicon\"><a class=\"image\" href=\"/wiki/Fichier:Flag_of_France.svg\" title=\"Drapeau : France\"><img alt=\"\" class=\"noviewer thumbborder\" data-file-height=\"600\" data-file-width=\"900\" decoding=\"async\" height=\"13\" src=\"//upload.wikimedia.org/wikipedia/commons/thumb/c/c3/Flag_of_France.svg/20px-Flag_of_France.svg.png\" srcset=\"//upload.wikimedia.org/wikipedia/commons/thumb/c/c3/Flag_of_France.svg/30px-Flag_of_France.svg.png 1.5x, //upload.wikimedia.org/wikipedia/commons/thumb/c/c3/Flag_of_France.svg/40px-Flag_of_France.svg.png 2x\" width=\"20\"/></a></span> <a href=\"/wiki/Denis_Zanko\" title=\"Denis Zanko\">Denis Zanko</a>\n",
    "</td>\n",
    "<td>2020\n",
    "</td>\n",
    "<td><a href=\"/wiki/Stadium_de_Toulouse\" title=\"Stadium de Toulouse\">Stadium de Toulouse</a>\n",
    "</td>\n",
    "<td>33 033\n",
    "</td>\n",
    "<td>32\n",
    "</td></tr>\n",
    "<tr>\n",
    "<td><a class=\"mw-redirect\" href=\"/wiki/Association_sportive_de_Monaco_football_club\" title=\"Association sportive de Monaco football club\">AS Monaco</a>\n",
    "</td>\n",
    "<td>2013\n",
    "</td>\n",
    "<td>220\n",
    "</td>\n",
    "<td><span data-sort-value=\"117 !\"></span><abbr class=\"abbr\" title=\"Dix-septième\">17<sup>e</sup></abbr>\n",
    "</td>\n",
    "<td align=\"left\"><span class=\"flagicon\"><a class=\"image\" href=\"/wiki/Fichier:Flag_of_Spain.svg\" title=\"Drapeau : Espagne\"><img alt=\"\" class=\"noviewer thumbborder\" data-file-height=\"500\" data-file-width=\"750\" decoding=\"async\" height=\"13\" src=\"//upload.wikimedia.org/wikipedia/commons/thumb/9/9a/Flag_of_Spain.svg/20px-Flag_of_Spain.svg.png\" srcset=\"//upload.wikimedia.org/wikipedia/commons/thumb/9/9a/Flag_of_Spain.svg/30px-Flag_of_Spain.svg.png 1.5x, //upload.wikimedia.org/wikipedia/commons/thumb/9/9a/Flag_of_Spain.svg/40px-Flag_of_Spain.svg.png 2x\" width=\"20\"/></a></span> <a href=\"/wiki/Robert_Moreno\" title=\"Robert Moreno\">Robert Moreno</a>\n",
    "</td>\n",
    "<td>2019\n",
    "</td>\n",
    "<td><a href=\"/wiki/Stade_Louis-II\" title=\"Stade Louis-II\">Stade Louis-II</a>\n",
    "</td>\n",
    "<td>16 500\n",
    "</td>\n",
    "<td>60\n",
    "</td></tr>\n",
    "<tr>\n",
    "<td><a href=\"/wiki/Dijon_Football_C%C3%B4te-d%27Or\" title=\"Dijon Football Côte-d'Or\">Dijon FCO</a>\n",
    "</td>\n",
    "<td>2016\n",
    "</td>\n",
    "<td>38\n",
    "</td>\n",
    "<td><span data-sort-value=\"118 !\"></span><abbr class=\"abbr\" title=\"Dix-huitième\">18<sup>e</sup></abbr>\n",
    "</td>\n",
    "<td align=\"left\"><span class=\"flagicon\"><a class=\"image\" href=\"/wiki/Fichier:Flag_of_France.svg\" title=\"Drapeau : France\"><img alt=\"\" class=\"noviewer thumbborder\" data-file-height=\"600\" data-file-width=\"900\" decoding=\"async\" height=\"13\" src=\"//upload.wikimedia.org/wikipedia/commons/thumb/c/c3/Flag_of_France.svg/20px-Flag_of_France.svg.png\" srcset=\"//upload.wikimedia.org/wikipedia/commons/thumb/c/c3/Flag_of_France.svg/30px-Flag_of_France.svg.png 1.5x, //upload.wikimedia.org/wikipedia/commons/thumb/c/c3/Flag_of_France.svg/40px-Flag_of_France.svg.png 2x\" width=\"20\"/></a></span> <a href=\"/wiki/St%C3%A9phane_Jobard\" title=\"Stéphane Jobard\">Stéphane Jobard</a>\n",
    "</td>\n",
    "<td>2019\n",
    "</td>\n",
    "<td><a href=\"/wiki/Stade_Gaston-G%C3%A9rard\" title=\"Stade Gaston-Gérard\">Parc des Sports Gaston-Gérard</a>\n",
    "</td>\n",
    "<td>15 459\n",
    "</td>\n",
    "<td>4\n",
    "</td></tr>\n",
    "<tr bgcolor=\"#a8fca8\">\n",
    "<td><a href=\"/wiki/Football_Club_de_Metz\" title=\"Football Club de Metz\">FC Metz</a>\n",
    "</td>\n",
    "<td>2019\n",
    "</td>\n",
    "<td>40\n",
    "</td>\n",
    "<td><span data-sort-value=\"201 !\"></span><abbr class=\"abbr\" title=\"Premier\">1<sup>er</sup></abbr> (<a class=\"mw-redirect\" href=\"/wiki/Championnat_de_France_de_football_de_Ligue_2_2018-2019\" title=\"Championnat de France de football de Ligue 2 2018-2019\">Ligue 2</a>)\n",
    "</td>\n",
    "<td align=\"left\"><span class=\"flagicon\"><a class=\"image\" href=\"/wiki/Fichier:Flag_of_France.svg\" title=\"Drapeau : France\"><img alt=\"\" class=\"noviewer thumbborder\" data-file-height=\"600\" data-file-width=\"900\" decoding=\"async\" height=\"13\" src=\"//upload.wikimedia.org/wikipedia/commons/thumb/c/c3/Flag_of_France.svg/20px-Flag_of_France.svg.png\" srcset=\"//upload.wikimedia.org/wikipedia/commons/thumb/c/c3/Flag_of_France.svg/30px-Flag_of_France.svg.png 1.5x, //upload.wikimedia.org/wikipedia/commons/thumb/c/c3/Flag_of_France.svg/40px-Flag_of_France.svg.png 2x\" width=\"20\"/></a></span> <a href=\"/wiki/Vincent_Hognon\" title=\"Vincent Hognon\">Vincent Hognon</a>\n",
    "</td>\n",
    "<td>2019\n",
    "</td>\n",
    "<td><a href=\"/wiki/Stade_Saint-Symphorien\" title=\"Stade Saint-Symphorien\">Stade Saint-Symphorien</a>\n",
    "</td>\n",
    "<td>25 865\n",
    "</td>\n",
    "<td>61\n",
    "</td></tr>\n",
    "<tr bgcolor=\"#a8fca8\">\n",
    "<td><a href=\"/wiki/Stade_brestois_29\" title=\"Stade brestois 29\">Stade brestois 29</a>\n",
    "</td>\n",
    "<td>2019\n",
    "</td>\n",
    "<td>30\n",
    "</td>\n",
    "<td><span data-sort-value=\"202 !\"></span><abbr class=\"abbr\" title=\"Deuxième\">2<sup>e</sup></abbr> (<a class=\"mw-redirect\" href=\"/wiki/Championnat_de_France_de_football_de_Ligue_2_2018-2019\" title=\"Championnat de France de football de Ligue 2 2018-2019\">Ligue 2</a>)\n",
    "</td>\n",
    "<td align=\"left\"><span class=\"flagicon\"><a class=\"image\" href=\"/wiki/Fichier:Flag_of_France.svg\" title=\"Drapeau : France\"><img alt=\"\" class=\"noviewer thumbborder\" data-file-height=\"600\" data-file-width=\"900\" decoding=\"async\" height=\"13\" src=\"//upload.wikimedia.org/wikipedia/commons/thumb/c/c3/Flag_of_France.svg/20px-Flag_of_France.svg.png\" srcset=\"//upload.wikimedia.org/wikipedia/commons/thumb/c/c3/Flag_of_France.svg/30px-Flag_of_France.svg.png 1.5x, //upload.wikimedia.org/wikipedia/commons/thumb/c/c3/Flag_of_France.svg/40px-Flag_of_France.svg.png 2x\" width=\"20\"/></a></span> <a href=\"/wiki/Olivier_Dall%27Oglio\" title=\"Olivier Dall'Oglio\">Olivier Dall'Oglio</a>\n",
    "</td>\n",
    "<td>2019\n",
    "</td>\n",
    "<td><a href=\"/wiki/Stade_Francis-Le_Bl%C3%A9\" title=\"Stade Francis-Le Blé\">Stade Francis-Le Blé</a>\n",
    "</td>\n",
    "<td>14 920\n",
    "</td>\n",
    "<td>13\n",
    "</td></tr></tbody></table>\n",
    "\n",
    ":two:\n",
    "Récupérer chaque ligne du tableau\n"
   ]
  },
  {
   "cell_type": "code",
   "execution_count": null,
   "id": "65b9af89",
   "metadata": {},
   "outputs": [],
   "source": [
    "table_body = tableau_participants.find('tbody')\n",
    "\n",
    "# on recherche toutes les lignes du tableau avec la balise \"tr\"\n",
    "rows = table_body.find_all('tr')\n",
    "\n",
    "# on obtient une liste où chaque élément est une des lignes du tableau\n",
    "\n",
    "# par exemple la première ligne va correspondre aux entêtes de colonne\n",
    "print(rows[0])"
   ]
  },
  {
   "cell_type": "markdown",
   "id": "e93f0fd4",
   "metadata": {},
   "source": [
    "```\n",
    "## <tr>\n",
    "## <th scope=\"col\">Club\n",
    "## </th>\n",
    "## <th scope=\"col\">Dernière<br/>montée\n",
    "## </th>\n",
    "## <th scope=\"col\">Budget<sup class=\"reference\" id=\"cite_ref-3\"><a href=\"#cite_note-3\"><span class=\"cite_crochet\">[</span>3<span class=\"cite_crochet\">]</span></a></sup><br/>en M<a href=\"/wiki/Euro\" title=\"Euro\">€</a>\n",
    "## </th>\n",
    "## <th scope=\"col\">Classement<br/><a href=\"/wiki/Championnat_de_France_de_football_2018-2019\" title=\"Championnat de France de football 2018-2019\">2018-2019</a>\n",
    "## </th>\n",
    "## <th scope=\"col\">Entraîneur\n",
    "## </th>\n",
    "## <th scope=\"col\">Depuis\n",
    "## </th>\n",
    "## <th scope=\"col\">Stade\n",
    "## </th>\n",
    "## <th scope=\"col\">Capacité<br/>en L1<sup class=\"reference\" id=\"cite_ref-4\"><a href=\"#cite_note-4\"><span class=\"cite_crochet\">[</span>4<span class=\"cite_crochet\">]</span></a></sup>\n",
    "## </th>\n",
    "## <th scope=\"col\">Nombre<br/>de saisons<br/>en L1\n",
    "## </th></tr>\n",
    "```\n"
   ]
  },
  {
   "cell_type": "code",
   "execution_count": null,
   "id": "c179b569",
   "metadata": {},
   "outputs": [],
   "source": [
    "# par exemple la seconde ligne va correspondre à la ligne du premier club présent dans le tableau\n",
    "\n",
    "print(rows[1])"
   ]
  },
  {
   "cell_type": "markdown",
   "id": "25bfc96d",
   "metadata": {},
   "source": [
    "```\n",
    "## <tr bgcolor=\"#97DEFF\">\n",
    "## <td><a href=\"/wiki/Paris_Saint-Germain_Football_Club\" title=\"Paris Saint-Germain Football Club\">Paris Saint-Germain</a>\n",
    "## </td>\n",
    "## <td>1974\n",
    "## </td>\n",
    "## <td>637\n",
    "## </td>\n",
    "## <td><span data-sort-value=\"101 !\"></span><abbr class=\"abbr\" title=\"Premier\">1<sup>er</sup></abbr>\n",
    "## </td>\n",
    "## <td align=\"left\"><span class=\"flagicon\"><a class=\"image\" href=\"/wiki/Fichier:Flag_of_Germany.svg\" title=\"Drapeau : Allemagne\"><img alt=\"\" class=\"noviewer thumbborder\" data-file-height=\"600\" data-file-width=\"1000\" decoding=\"async\" height=\"12\" src=\"//upload.wikimedia.org/wikipedia/commons/thumb/b/ba/Flag_of_Germany.svg/20px-Flag_of_Germany.svg.png\" srcset=\"//upload.wikimedia.org/wikipedia/commons/thumb/b/ba/Flag_of_Germany.svg/30px-Flag_of_Germany.svg.png 1.5x, //upload.wikimedia.org/wikipedia/commons/thumb/b/ba/Flag_of_Germany.svg/40px-Flag_of_Germany.svg.png 2x\" width=\"20\"/></a></span> <a href=\"/wiki/Thomas_Tuchel\" title=\"Thomas Tuchel\">Thomas Tuchel</a>\n",
    "## </td>\n",
    "## <td>2018\n",
    "## </td>\n",
    "## <td><a href=\"/wiki/Parc_des_Princes\" title=\"Parc des Princes\">Parc des Princes</a>\n",
    "## </td>\n",
    "## <td>47 929\n",
    "## </td>\n",
    "## <td>46\n",
    "## </td></tr>\n",
    "```\n",
    "\n",
    ":three:\n",
    "Nettoyer les sorties en ne gardant que le texte sur une ligne"
   ]
  },
  {
   "cell_type": "markdown",
   "id": "6ebc6955",
   "metadata": {},
   "source": [
    "On va utiliser l'attribut `text` afin de se débarasser de toute la couche de HTML qu'on obtient à l'étape 2.\n",
    "\n",
    "Un exemple sur la ligne du premier club :\n",
    "- on commence par prendre toutes les cellules de cette ligne, avec la balise `td`.\n",
    "- on fait ensuite une boucle sur chacune des cellules et on ne garde que le texte de la cellule avec l'attribut `text`.\n",
    "- enfin, on applique la méthode `strip()` pour que le texte soit bien mis en forme (sans espace inutile etc).\n",
    "\n"
   ]
  },
  {
   "cell_type": "code",
   "execution_count": null,
   "id": "48259c96",
   "metadata": {},
   "outputs": [],
   "source": [
    "cols = rows[1].find_all('td')\n",
    "print(cols[0])"
   ]
  },
  {
   "cell_type": "markdown",
   "id": "fcd63d56",
   "metadata": {},
   "source": [
    "```\n",
    "## <td><a href=\"/wiki/Paris_Saint-Germain_Football_Club\" title=\"Paris Saint-Germain Football Club\">Paris Saint-Germain</a>\n",
    "## </td>\n",
    "```"
   ]
  },
  {
   "cell_type": "code",
   "execution_count": null,
   "id": "45eff6b1",
   "metadata": {},
   "outputs": [],
   "source": [
    "print(cols[0].text.strip())"
   ]
  },
  {
   "cell_type": "markdown",
   "id": "6f1bfd61",
   "metadata": {},
   "source": [
    "```\n",
    "## Paris Saint-Germain\n",
    "```\n"
   ]
  },
  {
   "cell_type": "code",
   "execution_count": null,
   "id": "b8f9fd76",
   "metadata": {},
   "outputs": [],
   "source": [
    "for ele in cols : \n",
    "    print(ele.text.strip())"
   ]
  },
  {
   "cell_type": "markdown",
   "id": "a90948b2",
   "metadata": {},
   "source": [
    "```\n",
    "## Paris Saint-Germain\n",
    "## 1974\n",
    "## 637\n",
    "## 1er\n",
    "## Thomas Tuchel\n",
    "## 2018\n",
    "## Parc des Princes\n",
    "## 47 929\n",
    "## 46\n",
    "```\n",
    "\n",
    ":four:\n",
    "Généraliser sur toutes les lignes\n"
   ]
  },
  {
   "cell_type": "code",
   "execution_count": null,
   "id": "5bb096ac",
   "metadata": {},
   "outputs": [],
   "source": [
    "for row in rows:\n",
    "    cols = row.find_all('td')\n",
    "    cols = [ele.text.strip() for ele in cols]\n",
    "    print(cols)"
   ]
  },
  {
   "cell_type": "markdown",
   "id": "687361a3",
   "metadata": {},
   "source": [
    "```\n",
    "## []\n",
    "## ['Paris Saint-Germain', '1974', '637', '1er', 'Thomas Tuchel', '2018', 'Parc des Princes', '47\\xa0929', '46']\n",
    "## ['LOSC Lille', '2000', '120', '2e', 'Christophe Galtier', '2017', 'Stade Pierre-Mauroy', '49\\xa0712', '59']\n",
    "## ['Olympique lyonnais', '1989', '310', '3e', 'Rudi Garcia', '2019', 'Groupama Stadium', '57\\xa0206', '60']\n",
    "## ['AS Saint-Étienne', '2004', '100', '4e', 'Claude Puel', '2019', 'Stade Geoffroy-Guichard', '41\\xa0965', '66']\n",
    "## ['Olympique de Marseille', '1996', '110', '5e', 'André Villas-Boas', '2019', 'Orange Vélodrome', '66\\xa0226', '69']\n",
    "## ['Montpellier HSC', '2009', '40', '6e', 'Michel Der Zakarian', '2017', 'Stade de la Mosson', '22\\xa0000', '27']\n",
    "## ['OGC Nice', '2002', '50', '7e', 'Patrick Vieira', '2018', 'Allianz Riviera', '35\\xa0596', '60']\n",
    "## ['Stade de Reims', '2018', '45', '8e', 'David Guion', '2017', 'Stade Auguste-Delaune', '20\\xa0546', '35']\n",
    "## ['Nîmes Olympique', '2018', '27', '9e', 'Bernard Blaquart', '2015', 'Stade des Costières', '15\\xa0788', '35']\n",
    "## ['Stade rennais FC', '1994', '65', '10e', 'Julien Stéphan', '2018', 'Roazhon Park', '29\\xa0194', '62']\n",
    "## ['RC Strasbourg Alsace', '2017', '43', '11e', 'Thierry Laurey', '2016', 'Stade de la Meinau', '26\\xa0109', '58']\n",
    "## ['FC Nantes', '2013', '70', '12e', 'Christian Gourcuff', '2019', 'Stade de la Beaujoire - Louis Fonteneau', '35\\xa0322', '51']\n",
    "## ['SCO d’Angers', '2015', '32', '13e', 'Stéphane Moulin', '2011', 'Stade Raymond-Kopa', '17\\xa0048', '27']\n",
    "## ['Girondins de Bordeaux', '1992', '70', '14e', 'Paulo Sousa', '2019', 'Matmut Atlantique', '42\\xa0115', '66']\n",
    "## ['Amiens SC', '2017', '30', '15e', 'Luka Elsner', '2019', 'Stade Crédit Agricole la Licorne', '12\\xa0999', '2']\n",
    "## ['Toulouse FC', '2003', '35', '16e', 'Denis Zanko', '2020', 'Stadium de Toulouse', '33\\xa0033', '32']\n",
    "## ['AS Monaco', '2013', '220', '17e', 'Robert Moreno', '2019', 'Stade Louis-II', '16\\xa0500', '60']\n",
    "## ['Dijon FCO', '2016', '38', '18e', 'Stéphane Jobard', '2019', 'Parc des Sports Gaston-Gérard', '15\\xa0459', '4']\n",
    "## ['FC Metz', '2019', '40', '1er (Ligue 2)', 'Vincent Hognon', '2019', 'Stade Saint-Symphorien', '25\\xa0865', '61']\n",
    "## ['Stade brestois 29', '2019', '30', '2e (Ligue 2)', \"Olivier Dall'Oglio\", '2019', 'Stade Francis-Le Blé', '14\\xa0920', '13']\n",
    "```\n",
    "\n",
    "On a bien réussi à avoir les informations contenues dans le tableau des participants du championnat.\n",
    "Mais la première ligne est étrange : c'est une liste vide ... \n",
    "\n",
    "Il s'agit des en-têtes : elles sont reconnues par la balise `th` et non `td`. \n",
    "\n",
    "On va mettre tout le contenu dans un dictionnaire, pour le transformer ensuite en DataFrame pandas : \n"
   ]
  },
  {
   "cell_type": "code",
   "execution_count": null,
   "id": "c66a1343",
   "metadata": {},
   "outputs": [],
   "source": [
    "dico_participants = dict()\n",
    "for row in rows:\n",
    "    cols = row.find_all('td')\n",
    "    cols = [ele.text.strip() for ele in cols]\n",
    "    if len(cols) > 0 : \n",
    "        dico_participants[cols[0]] = cols[1:]\n",
    "dico_participants"
   ]
  },
  {
   "cell_type": "markdown",
   "id": "adbbb6b3",
   "metadata": {},
   "source": [
    "```\n",
    "## {'Paris Saint-Germain': ['1974', '637', '1er', 'Thomas Tuchel', '2018', 'Parc des Princes', '47\\xa0929', '46'], 'LOSC Lille': ['2000', '120', '2e', 'Christophe Galtier', '2017', 'Stade Pierre-Mauroy', '49\\xa0712', '59'], 'Olympique lyonnais': ['1989', '310', '3e', 'Rudi Garcia', '2019', 'Groupama Stadium', '57\\xa0206', '60'], 'AS Saint-Étienne': ['2004', '100', '4e', 'Claude Puel', '2019', 'Stade Geoffroy-Guichard', '41\\xa0965', '66'], 'Olympique de Marseille': ['1996', '110', '5e', 'André Villas-Boas', '2019', 'Orange Vélodrome', '66\\xa0226', '69'], 'Montpellier HSC': ['2009', '40', '6e', 'Michel Der Zakarian', '2017', 'Stade de la Mosson', '22\\xa0000', '27'], 'OGC Nice': ['2002', '50', '7e', 'Patrick Vieira', '2018', 'Allianz Riviera', '35\\xa0596', '60'], 'Stade de Reims': ['2018', '45', '8e', 'David Guion', '2017', 'Stade Auguste-Delaune', '20\\xa0546', '35'], 'Nîmes Olympique': ['2018', '27', '9e', 'Bernard Blaquart', '2015', 'Stade des Costières', '15\\xa0788', '35'], 'Stade rennais FC': ['1994', '65', '10e', 'Julien Stéphan', '2018', 'Roazhon Park', '29\\xa0194', '62'], 'RC Strasbourg Alsace': ['2017', '43', '11e', 'Thierry Laurey', '2016', 'Stade de la Meinau', '26\\xa0109', '58'], 'FC Nantes': ['2013', '70', '12e', 'Christian Gourcuff', '2019', 'Stade de la Beaujoire - Louis Fonteneau', '35\\xa0322', '51'], 'SCO d’Angers': ['2015', '32', '13e', 'Stéphane Moulin', '2011', 'Stade Raymond-Kopa', '17\\xa0048', '27'], 'Girondins de Bordeaux': ['1992', '70', '14e', 'Paulo Sousa', '2019', 'Matmut Atlantique', '42\\xa0115', '66'], 'Amiens SC': ['2017', '30', '15e', 'Luka Elsner', '2019', 'Stade Crédit Agricole la Licorne', '12\\xa0999', '2'], 'Toulouse FC': ['2003', '35', '16e', 'Denis Zanko', '2020', 'Stadium de Toulouse', '33\\xa0033', '32'], 'AS Monaco': ['2013', '220', '17e', 'Robert Moreno', '2019', 'Stade Louis-II', '16\\xa0500', '60'], 'Dijon FCO': ['2016', '38', '18e', 'Stéphane Jobard', '2019', 'Parc des Sports Gaston-Gérard', '15\\xa0459', '4'], 'FC Metz': ['2019', '40', '1er (Ligue 2)', 'Vincent Hognon', '2019', 'Stade Saint-Symphorien', '25\\xa0865', '61'], 'Stade brestois 29': ['2019', '30', '2e (Ligue 2)', \"Olivier Dall'Oglio\", '2019', 'Stade Francis-Le Blé', '14\\xa0920', '13']}\n",
    "```\n"
   ]
  },
  {
   "cell_type": "code",
   "execution_count": null,
   "id": "f19b24a3",
   "metadata": {},
   "outputs": [],
   "source": [
    "data_participants = pandas.DataFrame.from_dict(dico_participants,orient='index')\n",
    "data_participants.head()"
   ]
  },
  {
   "cell_type": "markdown",
   "id": "cfd47765",
   "metadata": {},
   "source": [
    "'<table border=\"1\" class=\"dataframe\">\\n  <thead>\\n    <tr style=\"text-align: right;\">\\n      <th></th>\\n      <th>0</th>\\n      <th>1</th>\\n      <th>2</th>\\n      <th>3</th>\\n      <th>4</th>\\n      <th>5</th>\\n      <th>6</th>\\n      <th>7</th>\\n    </tr>\\n  </thead>\\n  <tbody>\\n    <tr>\\n      <th>Paris Saint-Germain</th>\\n      <td>1974</td>\\n      <td>637</td>\\n      <td>1er</td>\\n      <td>Thomas Tuchel</td>\\n      <td>2018</td>\\n      <td>Parc des Princes</td>\\n      <td>47\\xa0929</td>\\n      <td>46</td>\\n    </tr>\\n    <tr>\\n      <th>LOSC Lille</th>\\n      <td>2000</td>\\n      <td>120</td>\\n      <td>2e</td>\\n      <td>Christophe Galtier</td>\\n      <td>2017</td>\\n      <td>Stade Pierre-Mauroy</td>\\n      <td>49\\xa0712</td>\\n      <td>59</td>\\n    </tr>\\n    <tr>\\n      <th>Olympique lyonnais</th>\\n      <td>1989</td>\\n      <td>310</td>\\n      <td>3e</td>\\n      <td>Rudi Garcia</td>\\n      <td>2019</td>\\n      <td>Groupama Stadium</td>\\n      <td>57\\xa0206</td>\\n      <td>60</td>\\n    </tr>\\n    <tr>\\n      <th>AS Saint-Étienne</th>\\n      <td>2004</td>\\n      <td>100</td>\\n      <td>4e</td>\\n      <td>Claude Puel</td>\\n      <td>2019</td>\\n      <td>Stade Geoffroy-Guichard</td>\\n      <td>41\\xa0965</td>\\n      <td>66</td>\\n    </tr>\\n    <tr>\\n      <th>Olympique de Marseille</th>\\n      <td>1996</td>\\n      <td>110</td>\\n      <td>5e</td>\\n      <td>André Villas-Boas</td>\\n      <td>2019</td>\\n      <td>Orange Vélodrome</td>\\n      <td>66\\xa0226</td>\\n      <td>69</td>\\n    </tr>\\n    <tr>\\n      <th>Montpellier HSC</th>\\n      <td>2009</td>\\n      <td>40</td>\\n      <td>6e</td>\\n      <td>Michel Der Zakarian</td>\\n      <td>2017</td>\\n      <td>Stade de la Mosson</td>\\n      <td>22\\xa0000</td>\\n      <td>27</td>\\n    </tr>\\n    <tr>\\n      <th>OGC Nice</th>\\n      <td>2002</td>\\n      <td>50</td>\\n      <td>7e</td>\\n      <td>Patrick Vieira</td>\\n      <td>2018</td>\\n      <td>Allianz Riviera</td>\\n      <td>35\\xa0596</td>\\n      <td>60</td>\\n    </tr>\\n    <tr>\\n      <th>Stade de Reims</th>\\n      <td>2018</td>\\n      <td>45</td>\\n      <td>8e</td>\\n      <td>David Guion</td>\\n      <td>2017</td>\\n      <td>Stade Auguste-Delaune</td>\\n      <td>20\\xa0546</td>\\n      <td>35</td>\\n    </tr>\\n    <tr>\\n      <th>Nîmes Olympique</th>\\n      <td>2018</td>\\n      <td>27</td>\\n      <td>9e</td>\\n      <td>Bernard Blaquart</td>\\n      <td>2015</td>\\n      <td>Stade des Costières</td>\\n      <td>15\\xa0788</td>\\n      <td>35</td>\\n    </tr>\\n    <tr>\\n      <th>Stade rennais FC</th>\\n      <td>1994</td>\\n      <td>65</td>\\n      <td>10e</td>\\n      <td>Julien Stéphan</td>\\n      <td>2018</td>\\n      <td>Roazhon Park</td>\\n      <td>29\\xa0194</td>\\n      <td>62</td>\\n    </tr>\\n    <tr>\\n      <th>RC Strasbourg Alsace</th>\\n      <td>2017</td>\\n      <td>43</td>\\n      <td>11e</td>\\n      <td>Thierry Laurey</td>\\n      <td>2016</td>\\n      <td>Stade de la Meinau</td>\\n      <td>26\\xa0109</td>\\n      <td>58</td>\\n    </tr>\\n    <tr>\\n      <th>FC Nantes</th>\\n      <td>2013</td>\\n      <td>70</td>\\n      <td>12e</td>\\n      <td>Christian Gourcuff</td>\\n      <td>2019</td>\\n      <td>Stade de la Beaujoire - Louis Fonteneau</td>\\n      <td>35\\xa0322</td>\\n      <td>51</td>\\n    </tr>\\n    <tr>\\n      <th>SCO d’Angers</th>\\n      <td>2015</td>\\n      <td>32</td>\\n      <td>13e</td>\\n      <td>Stéphane Moulin</td>\\n      <td>2011</td>\\n      <td>Stade Raymond-Kopa</td>\\n      <td>17\\xa0048</td>\\n      <td>27</td>\\n    </tr>\\n    <tr>\\n      <th>Girondins de Bordeaux</th>\\n      <td>1992</td>\\n      <td>70</td>\\n      <td>14e</td>\\n      <td>Paulo Sousa</td>\\n      <td>2019</td>\\n      <td>Matmut Atlantique</td>\\n      <td>42\\xa0115</td>\\n      <td>66</td>\\n    </tr>\\n    <tr>\\n      <th>Amiens SC</th>\\n      <td>2017</td>\\n      <td>30</td>\\n      <td>15e</td>\\n      <td>Luka Elsner</td>\\n      <td>2019</td>\\n      <td>Stade Crédit Agricole la Licorne</td>\\n      <td>12\\xa0999</td>\\n      <td>2</td>\\n    </tr>\\n    <tr>\\n      <th>Toulouse FC</th>\\n      <td>2003</td>\\n      <td>35</td>\\n      <td>16e</td>\\n      <td>Denis Zanko</td>\\n      <td>2020</td>\\n      <td>Stadium de Toulouse</td>\\n      <td>33\\xa0033</td>\\n      <td>32</td>\\n    </tr>\\n    <tr>\\n      <th>AS Monaco</th>\\n      <td>2013</td>\\n      <td>220</td>\\n      <td>17e</td>\\n      <td>Robert Moreno</td>\\n      <td>2019</td>\\n      <td>Stade Louis-II</td>\\n      <td>16\\xa0500</td>\\n      <td>60</td>\\n    </tr>\\n    <tr>\\n      <th>Dijon FCO</th>\\n      <td>2016</td>\\n      <td>38</td>\\n      <td>18e</td>\\n      <td>Stéphane Jobard</td>\\n      <td>2019</td>\\n      <td>Parc des Sports Gaston-Gérard</td>\\n      <td>15\\xa0459</td>\\n      <td>4</td>\\n    </tr>\\n    <tr>\\n      <th>FC Metz</th>\\n      <td>2019</td>\\n      <td>40</td>\\n      <td>1er (Ligue 2)</td>\\n      <td>Vincent Hognon</td>\\n      <td>2019</td>\\n      <td>Stade Saint-Symphorien</td>\\n      <td>25\\xa0865</td>\\n      <td>61</td>\\n    </tr>\\n    <tr>\\n      <th>Stade brestois 29</th>\\n      <td>2019</td>\\n      <td>30</td>\\n      <td>2e (Ligue 2)</td>\\n      <td>Olivier Dall\\'Oglio</td>\\n      <td>2019</td>\\n      <td>Stade Francis-Le Blé</td>\\n      <td>14\\xa0920</td>\\n      <td>13</td>\\n    </tr>\\n  </tbody>\\n</table>'\n",
    "\n",
    ":five:\n",
    "Récupérer les entêtes du tableau\n"
   ]
  },
  {
   "cell_type": "code",
   "execution_count": null,
   "id": "f2802e4e",
   "metadata": {},
   "outputs": [],
   "source": [
    "for row in rows:\n",
    "    cols = row.find_all('th')\n",
    "    print(cols)\n",
    "    if len(cols) > 0 : \n",
    "        cols = [ele.get_text(separator=' ').strip().title() for ele in cols]\n",
    "        columns_participants = cols"
   ]
  },
  {
   "cell_type": "markdown",
   "id": "ba4b4aba",
   "metadata": {},
   "source": [
    "```\n",
    "## [<th scope=\"col\">Club\n",
    "## </th>, <th scope=\"col\">Dernière<br/>montée\n",
    "## </th>, <th scope=\"col\">Budget<sup class=\"reference\" id=\"cite_ref-3\"><a href=\"#cite_note-3\"><span class=\"cite_crochet\">[</span>3<span class=\"cite_crochet\">]</span></a></sup><br/>en M<a href=\"/wiki/Euro\" title=\"Euro\">€</a>\n",
    "## </th>, <th scope=\"col\">Classement<br/><a href=\"/wiki/Championnat_de_France_de_football_2018-2019\" title=\"Championnat de France de football 2018-2019\">2018-2019</a>\n",
    "## </th>, <th scope=\"col\">Entraîneur\n",
    "## </th>, <th scope=\"col\">Depuis\n",
    "## </th>, <th scope=\"col\">Stade\n",
    "## </th>, <th scope=\"col\">Capacité<br/>en L1<sup class=\"reference\" id=\"cite_ref-4\"><a href=\"#cite_note-4\"><span class=\"cite_crochet\">[</span>4<span class=\"cite_crochet\">]</span></a></sup>\n",
    "## </th>, <th scope=\"col\">Nombre<br/>de saisons<br/>en L1\n",
    "## </th>]\n",
    "## []\n",
    "## []\n",
    "## []\n",
    "## []\n",
    "## []\n",
    "## []\n",
    "## []\n",
    "## []\n",
    "## []\n",
    "## []\n",
    "## []\n",
    "## []\n",
    "## []\n",
    "## []\n",
    "## []\n",
    "## []\n",
    "## []\n",
    "## []\n",
    "## []\n",
    "## []\n",
    "```\n"
   ]
  },
  {
   "cell_type": "code",
   "execution_count": null,
   "id": "1589c805",
   "metadata": {},
   "outputs": [],
   "source": [
    "columns_participants"
   ]
  },
  {
   "cell_type": "markdown",
   "id": "301fee60",
   "metadata": {},
   "source": [
    "```\n",
    "## ['Club', 'Dernière Montée', 'Budget [ 3 ] En M €', 'Classement 2018-2019', 'Entraîneur', 'Depuis', 'Stade', 'Capacité En L1 [ 4 ]', 'Nombre De Saisons En L1']\n",
    "```\n"
   ]
  },
  {
   "cell_type": "markdown",
   "id": "4ea17695",
   "metadata": {},
   "source": [
    ":six: Finalisation du tableau \n"
   ]
  },
  {
   "cell_type": "code",
   "execution_count": null,
   "id": "0889b040",
   "metadata": {
    "lines_to_next_cell": 2
   },
   "outputs": [],
   "source": [
    "data_participants.columns = columns_participants[1:]"
   ]
  },
  {
   "cell_type": "code",
   "execution_count": null,
   "id": "5d67122a",
   "metadata": {},
   "outputs": [],
   "source": [
    "data_participants.head()"
   ]
  },
  {
   "cell_type": "markdown",
   "id": "41ddc85d",
   "metadata": {},
   "source": [
    "'<table border=\"1\" class=\"dataframe\">\\n  <thead>\\n    <tr style=\"text-align: right;\">\\n      <th></th>\\n      <th>Dernière Montée</th>\\n      <th>Budget [ 3 ] En M €</th>\\n      <th>Classement 2018-2019</th>\\n      <th>Entraîneur</th>\\n      <th>Depuis</th>\\n      <th>Stade</th>\\n      <th>Capacité En L1 [ 4 ]</th>\\n      <th>Nombre De Saisons En L1</th>\\n    </tr>\\n  </thead>\\n  <tbody>\\n    <tr>\\n      <th>Paris Saint-Germain</th>\\n      <td>1974</td>\\n      <td>637</td>\\n      <td>1er</td>\\n      <td>Thomas Tuchel</td>\\n      <td>2018</td>\\n      <td>Parc des Princes</td>\\n      <td>47\\xa0929</td>\\n      <td>46</td>\\n    </tr>\\n    <tr>\\n      <th>LOSC Lille</th>\\n      <td>2000</td>\\n      <td>120</td>\\n      <td>2e</td>\\n      <td>Christophe Galtier</td>\\n      <td>2017</td>\\n      <td>Stade Pierre-Mauroy</td>\\n      <td>49\\xa0712</td>\\n      <td>59</td>\\n    </tr>\\n    <tr>\\n      <th>Olympique lyonnais</th>\\n      <td>1989</td>\\n      <td>310</td>\\n      <td>3e</td>\\n      <td>Rudi Garcia</td>\\n      <td>2019</td>\\n      <td>Groupama Stadium</td>\\n      <td>57\\xa0206</td>\\n      <td>60</td>\\n    </tr>\\n    <tr>\\n      <th>AS Saint-Étienne</th>\\n      <td>2004</td>\\n      <td>100</td>\\n      <td>4e</td>\\n      <td>Claude Puel</td>\\n      <td>2019</td>\\n      <td>Stade Geoffroy-Guichard</td>\\n      <td>41\\xa0965</td>\\n      <td>66</td>\\n    </tr>\\n    <tr>\\n      <th>Olympique de Marseille</th>\\n      <td>1996</td>\\n      <td>110</td>\\n      <td>5e</td>\\n      <td>André Villas-Boas</td>\\n      <td>2019</td>\\n      <td>Orange Vélodrome</td>\\n      <td>66\\xa0226</td>\\n      <td>69</td>\\n    </tr>\\n    <tr>\\n      <th>Montpellier HSC</th>\\n      <td>2009</td>\\n      <td>40</td>\\n      <td>6e</td>\\n      <td>Michel Der Zakarian</td>\\n      <td>2017</td>\\n      <td>Stade de la Mosson</td>\\n      <td>22\\xa0000</td>\\n      <td>27</td>\\n    </tr>\\n    <tr>\\n      <th>OGC Nice</th>\\n      <td>2002</td>\\n      <td>50</td>\\n      <td>7e</td>\\n      <td>Patrick Vieira</td>\\n      <td>2018</td>\\n      <td>Allianz Riviera</td>\\n      <td>35\\xa0596</td>\\n      <td>60</td>\\n    </tr>\\n    <tr>\\n      <th>Stade de Reims</th>\\n      <td>2018</td>\\n      <td>45</td>\\n      <td>8e</td>\\n      <td>David Guion</td>\\n      <td>2017</td>\\n      <td>Stade Auguste-Delaune</td>\\n      <td>20\\xa0546</td>\\n      <td>35</td>\\n    </tr>\\n    <tr>\\n      <th>Nîmes Olympique</th>\\n      <td>2018</td>\\n      <td>27</td>\\n      <td>9e</td>\\n      <td>Bernard Blaquart</td>\\n      <td>2015</td>\\n      <td>Stade des Costières</td>\\n      <td>15\\xa0788</td>\\n      <td>35</td>\\n    </tr>\\n    <tr>\\n      <th>Stade rennais FC</th>\\n      <td>1994</td>\\n      <td>65</td>\\n      <td>10e</td>\\n      <td>Julien Stéphan</td>\\n      <td>2018</td>\\n      <td>Roazhon Park</td>\\n      <td>29\\xa0194</td>\\n      <td>62</td>\\n    </tr>\\n    <tr>\\n      <th>RC Strasbourg Alsace</th>\\n      <td>2017</td>\\n      <td>43</td>\\n      <td>11e</td>\\n      <td>Thierry Laurey</td>\\n      <td>2016</td>\\n      <td>Stade de la Meinau</td>\\n      <td>26\\xa0109</td>\\n      <td>58</td>\\n    </tr>\\n    <tr>\\n      <th>FC Nantes</th>\\n      <td>2013</td>\\n      <td>70</td>\\n      <td>12e</td>\\n      <td>Christian Gourcuff</td>\\n      <td>2019</td>\\n      <td>Stade de la Beaujoire - Louis Fonteneau</td>\\n      <td>35\\xa0322</td>\\n      <td>51</td>\\n    </tr>\\n    <tr>\\n      <th>SCO d’Angers</th>\\n      <td>2015</td>\\n      <td>32</td>\\n      <td>13e</td>\\n      <td>Stéphane Moulin</td>\\n      <td>2011</td>\\n      <td>Stade Raymond-Kopa</td>\\n      <td>17\\xa0048</td>\\n      <td>27</td>\\n    </tr>\\n    <tr>\\n      <th>Girondins de Bordeaux</th>\\n      <td>1992</td>\\n      <td>70</td>\\n      <td>14e</td>\\n      <td>Paulo Sousa</td>\\n      <td>2019</td>\\n      <td>Matmut Atlantique</td>\\n      <td>42\\xa0115</td>\\n      <td>66</td>\\n    </tr>\\n    <tr>\\n      <th>Amiens SC</th>\\n      <td>2017</td>\\n      <td>30</td>\\n      <td>15e</td>\\n      <td>Luka Elsner</td>\\n      <td>2019</td>\\n      <td>Stade Crédit Agricole la Licorne</td>\\n      <td>12\\xa0999</td>\\n      <td>2</td>\\n    </tr>\\n    <tr>\\n      <th>Toulouse FC</th>\\n      <td>2003</td>\\n      <td>35</td>\\n      <td>16e</td>\\n      <td>Denis Zanko</td>\\n      <td>2020</td>\\n      <td>Stadium de Toulouse</td>\\n      <td>33\\xa0033</td>\\n      <td>32</td>\\n    </tr>\\n    <tr>\\n      <th>AS Monaco</th>\\n      <td>2013</td>\\n      <td>220</td>\\n      <td>17e</td>\\n      <td>Robert Moreno</td>\\n      <td>2019</td>\\n      <td>Stade Louis-II</td>\\n      <td>16\\xa0500</td>\\n      <td>60</td>\\n    </tr>\\n    <tr>\\n      <th>Dijon FCO</th>\\n      <td>2016</td>\\n      <td>38</td>\\n      <td>18e</td>\\n      <td>Stéphane Jobard</td>\\n      <td>2019</td>\\n      <td>Parc des Sports Gaston-Gérard</td>\\n      <td>15\\xa0459</td>\\n      <td>4</td>\\n    </tr>\\n    <tr>\\n      <th>FC Metz</th>\\n      <td>2019</td>\\n      <td>40</td>\\n      <td>1er (Ligue 2)</td>\\n      <td>Vincent Hognon</td>\\n      <td>2019</td>\\n      <td>Stade Saint-Symphorien</td>\\n      <td>25\\xa0865</td>\\n      <td>61</td>\\n    </tr>\\n    <tr>\\n      <th>Stade brestois 29</th>\\n      <td>2019</td>\\n      <td>30</td>\\n      <td>2e (Ligue 2)</td>\\n      <td>Olivier Dall\\'Oglio</td>\\n      <td>2019</td>\\n      <td>Stade Francis-Le Blé</td>\\n      <td>14\\xa0920</td>\\n      <td>13</td>\\n    </tr>\\n  </tbody>\\n</table>'\n",
    "\n",
    "## Pour aller plus loin\n",
    "\n",
    "Essayez de comprendre pas à pas ce qui est fait dans les étapes qui suivent (la récupération d'informations supplémentaires en naviguant dans les pages des différents clubs). \n",
    "\n",
    "\n"
   ]
  },
  {
   "cell_type": "code",
   "execution_count": null,
   "id": "1e021778",
   "metadata": {},
   "outputs": [],
   "source": [
    "data"
   ]
  },
  {
   "cell_type": "markdown",
   "id": "7c16bec4",
   "metadata": {},
   "source": [
    "```\n",
    "##    division  ...      longitude\n",
    "## 0        L1  ...  2° 15′ 11″ E'\n",
    "## 1        L1  ...  3° 07′ 50″ E'\n",
    "## 2        L1  ...  4° 58′ 55″ E'\n",
    "## 3        L1  ...  4° 23′ 25″ E'\n",
    "## 4        L1  ...  5° 23′ 45″ E'\n",
    "## 5        L1  ...  3° 48′ 44″ E'\n",
    "## 6        L1  ...  4° 01′ 30″ E'\n",
    "## 7        L1  ...  7° 11′ 33″ E'\n",
    "## 8        L1  ...  4° 21′ 33″ E'\n",
    "## 9        L1  ...  7° 45′ 18″ E'\n",
    "## 10       L1  ...  1° 42′ 46″ O'\n",
    "## 11       L1  ...  0° 31′ 51″ O'\n",
    "## 12       L1  ...  6° 09′ 33″ E'\n",
    "## 13       L1  ...  1° 31′ 31″ O'\n",
    "## 14       L1  ...  4° 27′ 42″ O'\n",
    "## 15       L1  ...  0° 33′ 41″ O'\n",
    "## 16       L1  ...  1° 26′ 03″ E'\n",
    "## 17       L1  ...  2° 15′ 49″ E'\n",
    "## 18       L1  ...  7° 24′ 56″ E'\n",
    "## 19       L1  ...  5° 04′ 06″ E'\n",
    "## 21       L2  ...  6° 12′ 38″ E'\n",
    "## 22       L2  ...  0° 10′ 11″ E'\n",
    "## 23       L2  ...  0° 23′ 48″ O'\n",
    "## 24       L2  ...  3° 07′ 18″ E'\n",
    "## 25       L2  ...  3° 09′ 52″ O'\n",
    "## 26       L2  ...  3° 22′ 09″ O'\n",
    "## 27       L2  ...  2° 20′ 47″ E'\n",
    "## 28       L2  ...  1° 43′ 18″ E'\n",
    "## 29       L2  ...  3° 35′ 19″ E'\n",
    "## 30       L2  ...  1° 56′ 28″ E'\n",
    "## 31       L2  ...  3° 31′ 56″ E'\n",
    "## 32       L2  ...  0° 29′ 21″ O'\n",
    "## 33       L2  ...  5° 44′ 24″ E'\n",
    "## 34       L2  ...  6° 48′ 41″ E'\n",
    "## 35       L2  ...  2° 33′ 49″ E'\n",
    "## 36       L2  ...  2° 14′ 01″ E'\n",
    "## 37       L2  ...  4° 05′ 55″ E'\n",
    "## 38       L2  ...  2° 48′ 54″ E'\n",
    "## 39       L2  ...  0° 13′ 29″ E'\n",
    "## \n",
    "## [39 rows x 5 columns]\n",
    "```\n",
    "\n",
    "On va transformer les coordonnées en degrés en coordonnées numériques\n",
    "afin d'être en mesure de faire une carte\n"
   ]
  },
  {
   "cell_type": "code",
   "execution_count": null,
   "id": "a3e7546d",
   "metadata": {
    "lines_to_next_cell": 2
   },
   "outputs": [],
   "source": [
    "import re\n",
    "\n",
    "def dms2dd(degrees, minutes, seconds, direction):\n",
    "    dd = float(degrees) + float(minutes)/60 + float(seconds)/(60*60);\n",
    "    if direction in ('S', 'O'):\n",
    "        dd *= -1\n",
    "    return dd\n",
    "\n",
    "def parse_dms(dms):\n",
    "    parts = re.split('[^\\d\\w]+', dms)\n",
    "    lat = dms2dd(parts[0], parts[1], parts[2], parts[3])\n",
    "    #lng = dms2dd(parts[4], parts[5], parts[6], parts[7])\n",
    "    return lat"
   ]
  },
  {
   "cell_type": "code",
   "execution_count": null,
   "id": "a3302aab",
   "metadata": {},
   "outputs": [],
   "source": [
    "data['latitude'] = data['latitude'].apply(parse_dms)\n",
    "data['longitude'] = data['longitude'].apply(parse_dms)"
   ]
  },
  {
   "cell_type": "markdown",
   "id": "e5e3ba05",
   "metadata": {},
   "source": [
    "Tous les éléments sont en place pour faire une belle carte à ce stade. On\n",
    "va utilise `folium` pour celle-ci, qui est présenté dans la partie\n",
    "[visualisation](#cartotp)\n"
   ]
  },
  {
   "cell_type": "code",
   "execution_count": null,
   "id": "d504d3ad",
   "metadata": {},
   "outputs": [],
   "source": [
    "import geopandas as gpd\n",
    "from pathlib import Path\n",
    "import folium\n",
    "\n",
    "gdf = gpd.GeoDataFrame(\n",
    "    data, geometry=gpd.points_from_xy(data.longitude, data.latitude))\n",
    "\n",
    "Path(\"leaflet\").mkdir(parents=True, exist_ok=True)\n",
    "\n",
    "center = gdf[['latitude', 'longitude']].mean().values.tolist()\n",
    "sw = gdf[['latitude', 'longitude']].min().values.tolist()\n",
    "ne = gdf[['latitude', 'longitude']].max().values.tolist()\n",
    "\n",
    "m = folium.Map(location = center, tiles='Stamen Toner')\n",
    "\n",
    "# I can add marker one by one on the map\n",
    "for i in range(0,len(gdf)):\n",
    "    folium.Marker([gdf.iloc[i]['latitude'], gdf.iloc[i]['longitude']], popup=gdf.iloc[i]['stade']).add_to(m)"
   ]
  },
  {
   "cell_type": "markdown",
   "id": "d38bbb89",
   "metadata": {},
   "source": [
    "```\n",
    "## <folium.map.Marker object at 0x7f061198a700>\n",
    "## <folium.map.Marker object at 0x7f061198a7c0>\n",
    "## <folium.map.Marker object at 0x7f061198ac10>\n",
    "## <folium.map.Marker object at 0x7f061198aa00>\n",
    "## <folium.map.Marker object at 0x7f061198a580>\n",
    "## <folium.map.Marker object at 0x7f061198a670>\n",
    "## <folium.map.Marker object at 0x7f061198aa90>\n",
    "## <folium.map.Marker object at 0x7f061198b5b0>\n",
    "## <folium.map.Marker object at 0x7f061198bf10>\n",
    "## <folium.map.Marker object at 0x7f061198b9a0>\n",
    "## <folium.map.Marker object at 0x7f061198b370>\n",
    "## <folium.map.Marker object at 0x7f061198b220>\n",
    "## <folium.map.Marker object at 0x7f061198b700>\n",
    "## <folium.map.Marker object at 0x7f061198bc70>\n",
    "## <folium.map.Marker object at 0x7f061198b1c0>\n",
    "## <folium.map.Marker object at 0x7f061198b0a0>\n",
    "## <folium.map.Marker object at 0x7f061198b0d0>\n",
    "## <folium.map.Marker object at 0x7f061198b7c0>\n",
    "## <folium.map.Marker object at 0x7f061198b130>\n",
    "## <folium.map.Marker object at 0x7f061198b3a0>\n",
    "## <folium.map.Marker object at 0x7f0611981a30>\n",
    "## <folium.map.Marker object at 0x7f0611981970>\n",
    "## <folium.map.Marker object at 0x7f0611981df0>\n",
    "## <folium.map.Marker object at 0x7f0612e93df0>\n",
    "## <folium.map.Marker object at 0x7f0612e93520>\n",
    "## <folium.map.Marker object at 0x7f0612e93a00>\n",
    "## <folium.map.Marker object at 0x7f0612e93730>\n",
    "## <folium.map.Marker object at 0x7f0612e933a0>\n",
    "## <folium.map.Marker object at 0x7f0612e93550>\n",
    "## <folium.map.Marker object at 0x7f0612e93040>\n",
    "## <folium.map.Marker object at 0x7f0611962430>\n",
    "## <folium.map.Marker object at 0x7f06119622e0>\n",
    "## <folium.map.Marker object at 0x7f0611962280>\n",
    "## <folium.map.Marker object at 0x7f0611962fd0>\n",
    "## <folium.map.Marker object at 0x7f06119623d0>\n",
    "## <folium.map.Marker object at 0x7f0611962310>\n",
    "## <folium.map.Marker object at 0x7f06119623a0>\n",
    "## <folium.map.Marker object at 0x7f06119621c0>\n",
    "## <folium.map.Marker object at 0x7f0611997ca0>\n",
    "```"
   ]
  },
  {
   "cell_type": "code",
   "execution_count": null,
   "id": "95ec706c",
   "metadata": {},
   "outputs": [],
   "source": [
    "m.fit_bounds([sw, ne])\n",
    "m"
   ]
  },
  {
   "cell_type": "markdown",
   "id": "5853168e",
   "metadata": {},
   "source": [
    "```\n",
    "## <folium.folium.Map object at 0x7f06107f70d0>\n",
    "```\n",
    "\n"
   ]
  },
  {
   "cell_type": "markdown",
   "id": "b3682048",
   "metadata": {},
   "source": [
    "La carte obtenue doit ressembler à la suivante:\n",
    "\n",
    "<div style=\"width:100%;\"><div style=\"position:relative;width:100%;height:0;padding-bottom:60%;\"><span style=\"color:#565656\">Make this Notebook Trusted to load map: File -> Trust Notebook</span><iframe src=\"about:blank\" style=\"position:absolute;width:100%;height:100%;left:0;top:0;border:none !important;\" data-html=%3C%21DOCTYPE%20html%3E%0A%3Chead%3E%20%20%20%20%0A%20%20%20%20%3Cmeta%20http-equiv%3D%22content-type%22%20content%3D%22text/html%3B%20charset%3DUTF-8%22%20/%3E%0A%20%20%20%20%0A%20%20%20%20%20%20%20%20%3Cscript%3E%0A%20%20%20%20%20%20%20%20%20%20%20%20L_NO_TOUCH%20%3D%20false%3B%0A%20%20%20%20%20%20%20%20%20%20%20%20L_DISABLE_3D%20%3D%20false%3B%0A%20%20%20%20%20%20%20%20%3C/script%3E%0A%20%20%20%20%0A%20%20%20%20%3Cstyle%3Ehtml%2C%20body%20%7Bwidth%3A%20100%25%3Bheight%3A%20100%25%3Bmargin%3A%200%3Bpadding%3A%200%3B%7D%3C/style%3E%0A%20%20%20%20%3Cstyle%3E%23map%20%7Bposition%3Aabsolute%3Btop%3A0%3Bbottom%3A0%3Bright%3A0%3Bleft%3A0%3B%7D%3C/style%3E%0A%20%20%20%20%3Cscript%20src%3D%22https%3A//cdn.jsdelivr.net/npm/leaflet%401.6.0/dist/leaflet.js%22%3E%3C/script%3E%0A%20%20%20%20%3Cscript%20src%3D%22https%3A//code.jquery.com/jquery-1.12.4.min.js%22%3E%3C/script%3E%0A%20%20%20%20%3Cscript%20src%3D%22https%3A//maxcdn.bootstrapcdn.com/bootstrap/3.2.0/js/bootstrap.min.js%22%3E%3C/script%3E%0A%20%20%20%20%3Cscript%20src%3D%22https%3A//cdnjs.cloudflare.com/ajax/libs/Leaflet.awesome-markers/2.0.2/leaflet.awesome-markers.js%22%3E%3C/script%3E%0A%20%20%20%20%3Clink%20rel%3D%22stylesheet%22%20href%3D%22https%3A//cdn.jsdelivr.net/npm/leaflet%401.6.0/dist/leaflet.css%22/%3E%0A%20%20%20%20%3Clink%20rel%3D%22stylesheet%22%20href%3D%22https%3A//maxcdn.bootstrapcdn.com/bootstrap/3.2.0/css/bootstrap.min.css%22/%3E%0A%20%20%20%20%3Clink%20rel%3D%22stylesheet%22%20href%3D%22https%3A//maxcdn.bootstrapcdn.com/bootstrap/3.2.0/css/bootstrap-theme.min.css%22/%3E%0A%20%20%20%20%3Clink%20rel%3D%22stylesheet%22%20href%3D%22https%3A//maxcdn.bootstrapcdn.com/font-awesome/4.6.3/css/font-awesome.min.css%22/%3E%0A%20%20%20%20%3Clink%20rel%3D%22stylesheet%22%20href%3D%22https%3A//cdnjs.cloudflare.com/ajax/libs/Leaflet.awesome-markers/2.0.2/leaflet.awesome-markers.css%22/%3E%0A%20%20%20%20%3Clink%20rel%3D%22stylesheet%22%20href%3D%22https%3A//cdn.jsdelivr.net/gh/python-visualization/folium/folium/templates/leaflet.awesome.rotate.min.css%22/%3E%0A%20%20%20%20%0A%20%20%20%20%20%20%20%20%20%20%20%20%3Cmeta%20name%3D%22viewport%22%20content%3D%22width%3Ddevice-width%2C%0A%20%20%20%20%20%20%20%20%20%20%20%20%20%20%20%20initial-scale%3D1.0%2C%20maximum-scale%3D1.0%2C%20user-scalable%3Dno%22%20/%3E%0A%20%20%20%20%20%20%20%20%20%20%20%20%3Cstyle%3E%0A%20%20%20%20%20%20%20%20%20%20%20%20%20%20%20%20%23map_0af8de1302314e18b268682d2664ab5b%20%7B%0A%20%20%20%20%20%20%20%20%20%20%20%20%20%20%20%20%20%20%20%20position%3A%20relative%3B%0A%20%20%20%20%20%20%20%20%20%20%20%20%20%20%20%20%20%20%20%20width%3A%20100.0%25%3B%0A%20%20%20%20%20%20%20%20%20%20%20%20%20%20%20%20%20%20%20%20height%3A%20100.0%25%3B%0A%20%20%20%20%20%20%20%20%20%20%20%20%20%20%20%20%20%20%20%20left%3A%200.0%25%3B%0A%20%20%20%20%20%20%20%20%20%20%20%20%20%20%20%20%20%20%20%20top%3A%200.0%25%3B%0A%20%20%20%20%20%20%20%20%20%20%20%20%20%20%20%20%7D%0A%20%20%20%20%20%20%20%20%20%20%20%20%3C/style%3E%0A%20%20%20%20%20%20%20%20%0A%3C/head%3E%0A%3Cbody%3E%20%20%20%20%0A%20%20%20%20%0A%20%20%20%20%20%20%20%20%20%20%20%20%3Cdiv%20class%3D%22folium-map%22%20id%3D%22map_0af8de1302314e18b268682d2664ab5b%22%20%3E%3C/div%3E%0A%20%20%20%20%20%20%20%20%0A%3C/body%3E%0A%3Cscript%3E%20%20%20%20%0A%20%20%20%20%0A%20%20%20%20%20%20%20%20%20%20%20%20var%20map_0af8de1302314e18b268682d2664ab5b%20%3D%20L.map%28%0A%20%20%20%20%20%20%20%20%20%20%20%20%20%20%20%20%22map_0af8de1302314e18b268682d2664ab5b%22%2C%0A%20%20%20%20%20%20%20%20%20%20%20%20%20%20%20%20%7B%0A%20%20%20%20%20%20%20%20%20%20%20%20%20%20%20%20%20%20%20%20center%3A%20%5B47.25663817663817%2C%202.578048433048433%5D%2C%0A%20%20%20%20%20%20%20%20%20%20%20%20%20%20%20%20%20%20%20%20crs%3A%20L.CRS.EPSG3857%2C%0A%20%20%20%20%20%20%20%20%20%20%20%20%20%20%20%20%20%20%20%20zoom%3A%2010%2C%0A%20%20%20%20%20%20%20%20%20%20%20%20%20%20%20%20%20%20%20%20zoomControl%3A%20true%2C%0A%20%20%20%20%20%20%20%20%20%20%20%20%20%20%20%20%20%20%20%20preferCanvas%3A%20false%2C%0A%20%20%20%20%20%20%20%20%20%20%20%20%20%20%20%20%7D%0A%20%20%20%20%20%20%20%20%20%20%20%20%29%3B%0A%0A%20%20%20%20%20%20%20%20%20%20%20%20%0A%0A%20%20%20%20%20%20%20%20%0A%20%20%20%20%0A%20%20%20%20%20%20%20%20%20%20%20%20var%20tile_layer_167e5118a9ee424ca68969b23aa52e02%20%3D%20L.tileLayer%28%0A%20%20%20%20%20%20%20%20%20%20%20%20%20%20%20%20%22https%3A//stamen-tiles-%7Bs%7D.a.ssl.fastly.net/toner/%7Bz%7D/%7Bx%7D/%7By%7D.png%22%2C%0A%20%20%20%20%20%20%20%20%20%20%20%20%20%20%20%20%7B%22attribution%22%3A%20%22Map%20tiles%20by%20%5Cu003ca%20href%3D%5C%22http%3A//stamen.com%5C%22%5Cu003eStamen%20Design%5Cu003c/a%5Cu003e%2C%20under%20%5Cu003ca%20href%3D%5C%22http%3A//creativecommons.org/licenses/by/3.0%5C%22%5Cu003eCC%20BY%203.0%5Cu003c/a%5Cu003e.%20Data%20by%20%5Cu0026copy%3B%20%5Cu003ca%20href%3D%5C%22http%3A//openstreetmap.org%5C%22%5Cu003eOpenStreetMap%5Cu003c/a%5Cu003e%2C%20under%20%5Cu003ca%20href%3D%5C%22http%3A//www.openstreetmap.org/copyright%5C%22%5Cu003eODbL%5Cu003c/a%5Cu003e.%22%2C%20%22detectRetina%22%3A%20false%2C%20%22maxNativeZoom%22%3A%2018%2C%20%22maxZoom%22%3A%2018%2C%20%22minZoom%22%3A%200%2C%20%22noWrap%22%3A%20false%2C%20%22opacity%22%3A%201%2C%20%22subdomains%22%3A%20%22abc%22%2C%20%22tms%22%3A%20false%7D%0A%20%20%20%20%20%20%20%20%20%20%20%20%29.addTo%28map_0af8de1302314e18b268682d2664ab5b%29%3B%0A%20%20%20%20%20%20%20%20%0A%20%20%20%20%0A%20%20%20%20%20%20%20%20%20%20%20%20var%20marker_7a03adaea94446f6b1a4ca24fdb56eea%20%3D%20L.marker%28%0A%20%20%20%20%20%20%20%20%20%20%20%20%20%20%20%20%5B48.84138888888889%2C%202.2530555555555556%5D%2C%0A%20%20%20%20%20%20%20%20%20%20%20%20%20%20%20%20%7B%7D%0A%20%20%20%20%20%20%20%20%20%20%20%20%29.addTo%28map_0af8de1302314e18b268682d2664ab5b%29%3B%0A%20%20%20%20%20%20%20%20%0A%20%20%20%20%0A%20%20%20%20%20%20%20%20var%20popup_c9b93a5819614141aae18f9262426a1a%20%3D%20L.popup%28%7B%22maxWidth%22%3A%20%22100%25%22%7D%29%3B%0A%0A%20%20%20%20%20%20%20%20%0A%20%20%20%20%20%20%20%20%20%20%20%20var%20html_1d290be7ba244a4c8118a9c42435ff8e%20%3D%20%24%28%60%3Cdiv%20id%3D%22html_1d290be7ba244a4c8118a9c42435ff8e%22%20style%3D%22width%3A%20100.0%25%3B%20height%3A%20100.0%25%3B%22%3EParc%20des%20Princes%3C/div%3E%60%29%5B0%5D%3B%0A%20%20%20%20%20%20%20%20%20%20%20%20popup_c9b93a5819614141aae18f9262426a1a.setContent%28html_1d290be7ba244a4c8118a9c42435ff8e%29%3B%0A%20%20%20%20%20%20%20%20%0A%0A%20%20%20%20%20%20%20%20marker_7a03adaea94446f6b1a4ca24fdb56eea.bindPopup%28popup_c9b93a5819614141aae18f9262426a1a%29%0A%20%20%20%20%20%20%20%20%3B%0A%0A%20%20%20%20%20%20%20%20%0A%20%20%20%20%0A%20%20%20%20%0A%20%20%20%20%20%20%20%20%20%20%20%20var%20marker_ea888f39bb024670b3589c1735f40073%20%3D%20L.marker%28%0A%20%20%20%20%20%20%20%20%20%20%20%20%20%20%20%20%5B50.61194444444445%2C%203.1305555555555555%5D%2C%0A%20%20%20%20%20%20%20%20%20%20%20%20%20%20%20%20%7B%7D%0A%20%20%20%20%20%20%20%20%20%20%20%20%29.addTo%28map_0af8de1302314e18b268682d2664ab5b%29%3B%0A%20%20%20%20%20%20%20%20%0A%20%20%20%20%0A%20%20%20%20%20%20%20%20var%20popup_0eee637c27c14e7b9515d36c762fbec1%20%3D%20L.popup%28%7B%22maxWidth%22%3A%20%22100%25%22%7D%29%3B%0A%0A%20%20%20%20%20%20%20%20%0A%20%20%20%20%20%20%20%20%20%20%20%20var%20html_f560b7eb88d94f20a92f4e69d8ba8b37%20%3D%20%24%28%60%3Cdiv%20id%3D%22html_f560b7eb88d94f20a92f4e69d8ba8b37%22%20style%3D%22width%3A%20100.0%25%3B%20height%3A%20100.0%25%3B%22%3EStade%20Pierre-Mauroy%3C/div%3E%60%29%5B0%5D%3B%0A%20%20%20%20%20%20%20%20%20%20%20%20popup_0eee637c27c14e7b9515d36c762fbec1.setContent%28html_f560b7eb88d94f20a92f4e69d8ba8b37%29%3B%0A%20%20%20%20%20%20%20%20%0A%0A%20%20%20%20%20%20%20%20marker_ea888f39bb024670b3589c1735f40073.bindPopup%28popup_0eee637c27c14e7b9515d36c762fbec1%29%0A%20%20%20%20%20%20%20%20%3B%0A%0A%20%20%20%20%20%20%20%20%0A%20%20%20%20%0A%20%20%20%20%0A%20%20%20%20%20%20%20%20%20%20%20%20var%20marker_860434065b0d49d68b8424f75939e50c%20%3D%20L.marker%28%0A%20%20%20%20%20%20%20%20%20%20%20%20%20%20%20%20%5B45.765277777777776%2C%204.981944444444444%5D%2C%0A%20%20%20%20%20%20%20%20%20%20%20%20%20%20%20%20%7B%7D%0A%20%20%20%20%20%20%20%20%20%20%20%20%29.addTo%28map_0af8de1302314e18b268682d2664ab5b%29%3B%0A%20%20%20%20%20%20%20%20%0A%20%20%20%20%0A%20%20%20%20%20%20%20%20var%20popup_6c3bd92d043a4c8bb7db14ce3e697511%20%3D%20L.popup%28%7B%22maxWidth%22%3A%20%22100%25%22%7D%29%3B%0A%0A%20%20%20%20%20%20%20%20%0A%20%20%20%20%20%20%20%20%20%20%20%20var%20html_2f24bb63c85f44a7b1e66da5b3d34d86%20%3D%20%24%28%60%3Cdiv%20id%3D%22html_2f24bb63c85f44a7b1e66da5b3d34d86%22%20style%3D%22width%3A%20100.0%25%3B%20height%3A%20100.0%25%3B%22%3EParc%20Olympique%20lyonnais%3C/div%3E%60%29%5B0%5D%3B%0A%20%20%20%20%20%20%20%20%20%20%20%20popup_6c3bd92d043a4c8bb7db14ce3e697511.setContent%28html_2f24bb63c85f44a7b1e66da5b3d34d86%29%3B%0A%20%20%20%20%20%20%20%20%0A%0A%20%20%20%20%20%20%20%20marker_860434065b0d49d68b8424f75939e50c.bindPopup%28popup_6c3bd92d043a4c8bb7db14ce3e697511%29%0A%20%20%20%20%20%20%20%20%3B%0A%0A%20%20%20%20%20%20%20%20%0A%20%20%20%20%0A%20%20%20%20%0A%20%20%20%20%20%20%20%20%20%20%20%20var%20marker_85f29ec457de4478982f6c06691d94c6%20%3D%20L.marker%28%0A%20%20%20%20%20%20%20%20%20%20%20%20%20%20%20%20%5B45.46083333333333%2C%204.390277777777778%5D%2C%0A%20%20%20%20%20%20%20%20%20%20%20%20%20%20%20%20%7B%7D%0A%20%20%20%20%20%20%20%20%20%20%20%20%29.addTo%28map_0af8de1302314e18b268682d2664ab5b%29%3B%0A%20%20%20%20%20%20%20%20%0A%20%20%20%20%0A%20%20%20%20%20%20%20%20var%20popup_a7d113862e3140b6af77024420b94532%20%3D%20L.popup%28%7B%22maxWidth%22%3A%20%22100%25%22%7D%29%3B%0A%0A%20%20%20%20%20%20%20%20%0A%20%20%20%20%20%20%20%20%20%20%20%20var%20html_14967bdc98324d3783a229eaad07502d%20%3D%20%24%28%60%3Cdiv%20id%3D%22html_14967bdc98324d3783a229eaad07502d%22%20style%3D%22width%3A%20100.0%25%3B%20height%3A%20100.0%25%3B%22%3EStade%20Geoffroy-Guichard%3C/div%3E%60%29%5B0%5D%3B%0A%20%20%20%20%20%20%20%20%20%20%20%20popup_a7d113862e3140b6af77024420b94532.setContent%28html_14967bdc98324d3783a229eaad07502d%29%3B%0A%20%20%20%20%20%20%20%20%0A%0A%20%20%20%20%20%20%20%20marker_85f29ec457de4478982f6c06691d94c6.bindPopup%28popup_a7d113862e3140b6af77024420b94532%29%0A%20%20%20%20%20%20%20%20%3B%0A%0A%20%20%20%20%20%20%20%20%0A%20%20%20%20%0A%20%20%20%20%0A%20%20%20%20%20%20%20%20%20%20%20%20var%20marker_1bde613bf7954f1e8759b5963884d76a%20%3D%20L.marker%28%0A%20%20%20%20%20%20%20%20%20%20%20%20%20%20%20%20%5B43.26972222222222%2C%205.395833333333334%5D%2C%0A%20%20%20%20%20%20%20%20%20%20%20%20%20%20%20%20%7B%7D%0A%20%20%20%20%20%20%20%20%20%20%20%20%29.addTo%28map_0af8de1302314e18b268682d2664ab5b%29%3B%0A%20%20%20%20%20%20%20%20%0A%20%20%20%20%0A%20%20%20%20%20%20%20%20var%20popup_645072435953469a9131e368dab053be%20%3D%20L.popup%28%7B%22maxWidth%22%3A%20%22100%25%22%7D%29%3B%0A%0A%20%20%20%20%20%20%20%20%0A%20%20%20%20%20%20%20%20%20%20%20%20var%20html_6ec0ddea51204475b54d7139ea70b92d%20%3D%20%24%28%60%3Cdiv%20id%3D%22html_6ec0ddea51204475b54d7139ea70b92d%22%20style%3D%22width%3A%20100.0%25%3B%20height%3A%20100.0%25%3B%22%3EOrange%20V%C3%A9lodrome%3C/div%3E%60%29%5B0%5D%3B%0A%20%20%20%20%20%20%20%20%20%20%20%20popup_645072435953469a9131e368dab053be.setContent%28html_6ec0ddea51204475b54d7139ea70b92d%29%3B%0A%20%20%20%20%20%20%20%20%0A%0A%20%20%20%20%20%20%20%20marker_1bde613bf7954f1e8759b5963884d76a.bindPopup%28popup_645072435953469a9131e368dab053be%29%0A%20%20%20%20%20%20%20%20%3B%0A%0A%20%20%20%20%20%20%20%20%0A%20%20%20%20%0A%20%20%20%20%0A%20%20%20%20%20%20%20%20%20%20%20%20var%20marker_7f9fabea3054440ab6756a8bed2162d9%20%3D%20L.marker%28%0A%20%20%20%20%20%20%20%20%20%20%20%20%20%20%20%20%5B43.621944444444445%2C%203.812222222222222%5D%2C%0A%20%20%20%20%20%20%20%20%20%20%20%20%20%20%20%20%7B%7D%0A%20%20%20%20%20%20%20%20%20%20%20%20%29.addTo%28map_0af8de1302314e18b268682d2664ab5b%29%3B%0A%20%20%20%20%20%20%20%20%0A%20%20%20%20%0A%20%20%20%20%20%20%20%20var%20popup_c5c2121e457c4cbdab4d28b699375f25%20%3D%20L.popup%28%7B%22maxWidth%22%3A%20%22100%25%22%7D%29%3B%0A%0A%20%20%20%20%20%20%20%20%0A%20%20%20%20%20%20%20%20%20%20%20%20var%20html_de5633d77f7740cd99e612d2d7dea271%20%3D%20%24%28%60%3Cdiv%20id%3D%22html_de5633d77f7740cd99e612d2d7dea271%22%20style%3D%22width%3A%20100.0%25%3B%20height%3A%20100.0%25%3B%22%3EStade%20de%20la%20Mosson%3C/div%3E%60%29%5B0%5D%3B%0A%20%20%20%20%20%20%20%20%20%20%20%20popup_c5c2121e457c4cbdab4d28b699375f25.setContent%28html_de5633d77f7740cd99e612d2d7dea271%29%3B%0A%20%20%20%20%20%20%20%20%0A%0A%20%20%20%20%20%20%20%20marker_7f9fabea3054440ab6756a8bed2162d9.bindPopup%28popup_c5c2121e457c4cbdab4d28b699375f25%29%0A%20%20%20%20%20%20%20%20%3B%0A%0A%20%20%20%20%20%20%20%20%0A%20%20%20%20%0A%20%20%20%20%0A%20%20%20%20%20%20%20%20%20%20%20%20var%20marker_be00abf2e83e4cb7abdb9e90a11d11b0%20%3D%20L.marker%28%0A%20%20%20%20%20%20%20%20%20%20%20%20%20%20%20%20%5B49.24666666666667%2C%204.025%5D%2C%0A%20%20%20%20%20%20%20%20%20%20%20%20%20%20%20%20%7B%7D%0A%20%20%20%20%20%20%20%20%20%20%20%20%29.addTo%28map_0af8de1302314e18b268682d2664ab5b%29%3B%0A%20%20%20%20%20%20%20%20%0A%20%20%20%20%0A%20%20%20%20%20%20%20%20var%20popup_8222703c9290430385c4f157df140922%20%3D%20L.popup%28%7B%22maxWidth%22%3A%20%22100%25%22%7D%29%3B%0A%0A%20%20%20%20%20%20%20%20%0A%20%20%20%20%20%20%20%20%20%20%20%20var%20html_99baeb1c27634292866a330dbbcbaa4a%20%3D%20%24%28%60%3Cdiv%20id%3D%22html_99baeb1c27634292866a330dbbcbaa4a%22%20style%3D%22width%3A%20100.0%25%3B%20height%3A%20100.0%25%3B%22%3EStade%20Auguste-Delaune%3C/div%3E%60%29%5B0%5D%3B%0A%20%20%20%20%20%20%20%20%20%20%20%20popup_8222703c9290430385c4f157df140922.setContent%28html_99baeb1c27634292866a330dbbcbaa4a%29%3B%0A%20%20%20%20%20%20%20%20%0A%0A%20%20%20%20%20%20%20%20marker_be00abf2e83e4cb7abdb9e90a11d11b0.bindPopup%28popup_8222703c9290430385c4f157df140922%29%0A%20%20%20%20%20%20%20%20%3B%0A%0A%20%20%20%20%20%20%20%20%0A%20%20%20%20%0A%20%20%20%20%0A%20%20%20%20%20%20%20%20%20%20%20%20var%20marker_9d5a14b662ea479b91a8fdc95eebf8e3%20%3D%20L.marker%28%0A%20%20%20%20%20%20%20%20%20%20%20%20%20%20%20%20%5B43.705000000000005%2C%207.1925%5D%2C%0A%20%20%20%20%20%20%20%20%20%20%20%20%20%20%20%20%7B%7D%0A%20%20%20%20%20%20%20%20%20%20%20%20%29.addTo%28map_0af8de1302314e18b268682d2664ab5b%29%3B%0A%20%20%20%20%20%20%20%20%0A%20%20%20%20%0A%20%20%20%20%20%20%20%20var%20popup_0d9b0575862c445ba6f7565d5d7e4b1b%20%3D%20L.popup%28%7B%22maxWidth%22%3A%20%22100%25%22%7D%29%3B%0A%0A%20%20%20%20%20%20%20%20%0A%20%20%20%20%20%20%20%20%20%20%20%20var%20html_9f4f357b5d6840059dfb461af55d8b9d%20%3D%20%24%28%60%3Cdiv%20id%3D%22html_9f4f357b5d6840059dfb461af55d8b9d%22%20style%3D%22width%3A%20100.0%25%3B%20height%3A%20100.0%25%3B%22%3EAllianz%20Riviera%3C/div%3E%60%29%5B0%5D%3B%0A%20%20%20%20%20%20%20%20%20%20%20%20popup_0d9b0575862c445ba6f7565d5d7e4b1b.setContent%28html_9f4f357b5d6840059dfb461af55d8b9d%29%3B%0A%20%20%20%20%20%20%20%20%0A%0A%20%20%20%20%20%20%20%20marker_9d5a14b662ea479b91a8fdc95eebf8e3.bindPopup%28popup_0d9b0575862c445ba6f7565d5d7e4b1b%29%0A%20%20%20%20%20%20%20%20%3B%0A%0A%20%20%20%20%20%20%20%20%0A%20%20%20%20%0A%20%20%20%20%0A%20%20%20%20%20%20%20%20%20%20%20%20var%20marker_c65fd36935924be0bd2e500a0f4b8333%20%3D%20L.marker%28%0A%20%20%20%20%20%20%20%20%20%20%20%20%20%20%20%20%5B43.816111111111105%2C%204.359166666666666%5D%2C%0A%20%20%20%20%20%20%20%20%20%20%20%20%20%20%20%20%7B%7D%0A%20%20%20%20%20%20%20%20%20%20%20%20%29.addTo%28map_0af8de1302314e18b268682d2664ab5b%29%3B%0A%20%20%20%20%20%20%20%20%0A%20%20%20%20%0A%20%20%20%20%20%20%20%20var%20popup_b86f0f4af9964572979a296cd3d0d909%20%3D%20L.popup%28%7B%22maxWidth%22%3A%20%22100%25%22%7D%29%3B%0A%0A%20%20%20%20%20%20%20%20%0A%20%20%20%20%20%20%20%20%20%20%20%20var%20html_b694d07771b843e28633ee3f77a1f175%20%3D%20%24%28%60%3Cdiv%20id%3D%22html_b694d07771b843e28633ee3f77a1f175%22%20style%3D%22width%3A%20100.0%25%3B%20height%3A%20100.0%25%3B%22%3EStade%20des%20Costi%C3%A8res%3C/div%3E%60%29%5B0%5D%3B%0A%20%20%20%20%20%20%20%20%20%20%20%20popup_b86f0f4af9964572979a296cd3d0d909.setContent%28html_b694d07771b843e28633ee3f77a1f175%29%3B%0A%20%20%20%20%20%20%20%20%0A%0A%20%20%20%20%20%20%20%20marker_c65fd36935924be0bd2e500a0f4b8333.bindPopup%28popup_b86f0f4af9964572979a296cd3d0d909%29%0A%20%20%20%20%20%20%20%20%3B%0A%0A%20%20%20%20%20%20%20%20%0A%20%20%20%20%0A%20%20%20%20%0A%20%20%20%20%20%20%20%20%20%20%20%20var%20marker_75d912d322074b15b80948d3160957dc%20%3D%20L.marker%28%0A%20%20%20%20%20%20%20%20%20%20%20%20%20%20%20%20%5B48.559999999999995%2C%207.755%5D%2C%0A%20%20%20%20%20%20%20%20%20%20%20%20%20%20%20%20%7B%7D%0A%20%20%20%20%20%20%20%20%20%20%20%20%29.addTo%28map_0af8de1302314e18b268682d2664ab5b%29%3B%0A%20%20%20%20%20%20%20%20%0A%20%20%20%20%0A%20%20%20%20%20%20%20%20var%20popup_535df8a028db43a29e5a9d72a72e6299%20%3D%20L.popup%28%7B%22maxWidth%22%3A%20%22100%25%22%7D%29%3B%0A%0A%20%20%20%20%20%20%20%20%0A%20%20%20%20%20%20%20%20%20%20%20%20var%20html_c76f7eeec754476aab0b832ccf7ab539%20%3D%20%24%28%60%3Cdiv%20id%3D%22html_c76f7eeec754476aab0b832ccf7ab539%22%20style%3D%22width%3A%20100.0%25%3B%20height%3A%20100.0%25%3B%22%3EStade%20de%20la%20Meinau%3C/div%3E%60%29%5B0%5D%3B%0A%20%20%20%20%20%20%20%20%20%20%20%20popup_535df8a028db43a29e5a9d72a72e6299.setContent%28html_c76f7eeec754476aab0b832ccf7ab539%29%3B%0A%20%20%20%20%20%20%20%20%0A%0A%20%20%20%20%20%20%20%20marker_75d912d322074b15b80948d3160957dc.bindPopup%28popup_535df8a028db43a29e5a9d72a72e6299%29%0A%20%20%20%20%20%20%20%20%3B%0A%0A%20%20%20%20%20%20%20%20%0A%20%20%20%20%0A%20%20%20%20%0A%20%20%20%20%20%20%20%20%20%20%20%20var%20marker_b2e661122cd64e689e3a67f18d4d9b07%20%3D%20L.marker%28%0A%20%20%20%20%20%20%20%20%20%20%20%20%20%20%20%20%5B48.1075%2C%20-1.7127777777777777%5D%2C%0A%20%20%20%20%20%20%20%20%20%20%20%20%20%20%20%20%7B%7D%0A%20%20%20%20%20%20%20%20%20%20%20%20%29.addTo%28map_0af8de1302314e18b268682d2664ab5b%29%3B%0A%20%20%20%20%20%20%20%20%0A%20%20%20%20%0A%20%20%20%20%20%20%20%20var%20popup_62fabb87265c4d9dac27a25fa6c47936%20%3D%20L.popup%28%7B%22maxWidth%22%3A%20%22100%25%22%7D%29%3B%0A%0A%20%20%20%20%20%20%20%20%0A%20%20%20%20%20%20%20%20%20%20%20%20var%20html_5b82456e40504c9f9828b5322ed4a14a%20%3D%20%24%28%60%3Cdiv%20id%3D%22html_5b82456e40504c9f9828b5322ed4a14a%22%20style%3D%22width%3A%20100.0%25%3B%20height%3A%20100.0%25%3B%22%3ERoazhon%20Park%3C/div%3E%60%29%5B0%5D%3B%0A%20%20%20%20%20%20%20%20%20%20%20%20popup_62fabb87265c4d9dac27a25fa6c47936.setContent%28html_5b82456e40504c9f9828b5322ed4a14a%29%3B%0A%20%20%20%20%20%20%20%20%0A%0A%20%20%20%20%20%20%20%20marker_b2e661122cd64e689e3a67f18d4d9b07.bindPopup%28popup_62fabb87265c4d9dac27a25fa6c47936%29%0A%20%20%20%20%20%20%20%20%3B%0A%0A%20%20%20%20%20%20%20%20%0A%20%20%20%20%0A%20%20%20%20%0A%20%20%20%20%20%20%20%20%20%20%20%20var%20marker_5bae65b27a0744afa0091c2107c268bd%20%3D%20L.marker%28%0A%20%20%20%20%20%20%20%20%20%20%20%20%20%20%20%20%5B47.46055555555556%2C%20-0.5308333333333334%5D%2C%0A%20%20%20%20%20%20%20%20%20%20%20%20%20%20%20%20%7B%7D%0A%20%20%20%20%20%20%20%20%20%20%20%20%29.addTo%28map_0af8de1302314e18b268682d2664ab5b%29%3B%0A%20%20%20%20%20%20%20%20%0A%20%20%20%20%0A%20%20%20%20%20%20%20%20var%20popup_2569103769a443c49dd6df3591cff6a9%20%3D%20L.popup%28%7B%22maxWidth%22%3A%20%22100%25%22%7D%29%3B%0A%0A%20%20%20%20%20%20%20%20%0A%20%20%20%20%20%20%20%20%20%20%20%20var%20html_c464834359a6446a9a61d052bcf4d622%20%3D%20%24%28%60%3Cdiv%20id%3D%22html_c464834359a6446a9a61d052bcf4d622%22%20style%3D%22width%3A%20100.0%25%3B%20height%3A%20100.0%25%3B%22%3EStade%20Raymond-Kopa%3C/div%3E%60%29%5B0%5D%3B%0A%20%20%20%20%20%20%20%20%20%20%20%20popup_2569103769a443c49dd6df3591cff6a9.setContent%28html_c464834359a6446a9a61d052bcf4d622%29%3B%0A%20%20%20%20%20%20%20%20%0A%0A%20%20%20%20%20%20%20%20marker_5bae65b27a0744afa0091c2107c268bd.bindPopup%28popup_2569103769a443c49dd6df3591cff6a9%29%0A%20%20%20%20%20%20%20%20%3B%0A%0A%20%20%20%20%20%20%20%20%0A%20%20%20%20%0A%20%20%20%20%0A%20%20%20%20%20%20%20%20%20%20%20%20var%20marker_c5a1eed884634ae5972d63016d755795%20%3D%20L.marker%28%0A%20%20%20%20%20%20%20%20%20%20%20%20%20%20%20%20%5B49.109722222222224%2C%206.159166666666667%5D%2C%0A%20%20%20%20%20%20%20%20%20%20%20%20%20%20%20%20%7B%7D%0A%20%20%20%20%20%20%20%20%20%20%20%20%29.addTo%28map_0af8de1302314e18b268682d2664ab5b%29%3B%0A%20%20%20%20%20%20%20%20%0A%20%20%20%20%0A%20%20%20%20%20%20%20%20var%20popup_654d3531d4e340898cf03ff0885f396b%20%3D%20L.popup%28%7B%22maxWidth%22%3A%20%22100%25%22%7D%29%3B%0A%0A%20%20%20%20%20%20%20%20%0A%20%20%20%20%20%20%20%20%20%20%20%20var%20html_abdb4e23077848cd9992fa2421c721fa%20%3D%20%24%28%60%3Cdiv%20id%3D%22html_abdb4e23077848cd9992fa2421c721fa%22%20style%3D%22width%3A%20100.0%25%3B%20height%3A%20100.0%25%3B%22%3EStade%20Saint-Symphorien%3C/div%3E%60%29%5B0%5D%3B%0A%20%20%20%20%20%20%20%20%20%20%20%20popup_654d3531d4e340898cf03ff0885f396b.setContent%28html_abdb4e23077848cd9992fa2421c721fa%29%3B%0A%20%20%20%20%20%20%20%20%0A%0A%20%20%20%20%20%20%20%20marker_c5a1eed884634ae5972d63016d755795.bindPopup%28popup_654d3531d4e340898cf03ff0885f396b%29%0A%20%20%20%20%20%20%20%20%3B%0A%0A%20%20%20%20%20%20%20%20%0A%20%20%20%20%0A%20%20%20%20%0A%20%20%20%20%20%20%20%20%20%20%20%20var%20marker_ac6b59effa9f48dc8122f3f2e3956034%20%3D%20L.marker%28%0A%20%20%20%20%20%20%20%20%20%20%20%20%20%20%20%20%5B47.25555555555555%2C%20-1.5252777777777777%5D%2C%0A%20%20%20%20%20%20%20%20%20%20%20%20%20%20%20%20%7B%7D%0A%20%20%20%20%20%20%20%20%20%20%20%20%29.addTo%28map_0af8de1302314e18b268682d2664ab5b%29%3B%0A%20%20%20%20%20%20%20%20%0A%20%20%20%20%0A%20%20%20%20%20%20%20%20var%20popup_9cec603b7a894a67a980df980535cc26%20%3D%20L.popup%28%7B%22maxWidth%22%3A%20%22100%25%22%7D%29%3B%0A%0A%20%20%20%20%20%20%20%20%0A%20%20%20%20%20%20%20%20%20%20%20%20var%20html_ea38801b6ae3431593902f96a637e4d8%20%3D%20%24%28%60%3Cdiv%20id%3D%22html_ea38801b6ae3431593902f96a637e4d8%22%20style%3D%22width%3A%20100.0%25%3B%20height%3A%20100.0%25%3B%22%3EStade%20de%20la%20Beaujoire%3C/div%3E%60%29%5B0%5D%3B%0A%20%20%20%20%20%20%20%20%20%20%20%20popup_9cec603b7a894a67a980df980535cc26.setContent%28html_ea38801b6ae3431593902f96a637e4d8%29%3B%0A%20%20%20%20%20%20%20%20%0A%0A%20%20%20%20%20%20%20%20marker_ac6b59effa9f48dc8122f3f2e3956034.bindPopup%28popup_9cec603b7a894a67a980df980535cc26%29%0A%20%20%20%20%20%20%20%20%3B%0A%0A%20%20%20%20%20%20%20%20%0A%20%20%20%20%0A%20%20%20%20%0A%20%20%20%20%20%20%20%20%20%20%20%20var%20marker_8b56c4d3c4b04d2aba9c1acc5b9fe19c%20%3D%20L.marker%28%0A%20%20%20%20%20%20%20%20%20%20%20%20%20%20%20%20%5B48.403055555555554%2C%20-4.461666666666667%5D%2C%0A%20%20%20%20%20%20%20%20%20%20%20%20%20%20%20%20%7B%7D%0A%20%20%20%20%20%20%20%20%20%20%20%20%29.addTo%28map_0af8de1302314e18b268682d2664ab5b%29%3B%0A%20%20%20%20%20%20%20%20%0A%20%20%20%20%0A%20%20%20%20%20%20%20%20var%20popup_386f5f6de0974ae38513d711d1325f29%20%3D%20L.popup%28%7B%22maxWidth%22%3A%20%22100%25%22%7D%29%3B%0A%0A%20%20%20%20%20%20%20%20%0A%20%20%20%20%20%20%20%20%20%20%20%20var%20html_6a87482b329d4019b929f4599c4d6768%20%3D%20%24%28%60%3Cdiv%20id%3D%22html_6a87482b329d4019b929f4599c4d6768%22%20style%3D%22width%3A%20100.0%25%3B%20height%3A%20100.0%25%3B%22%3EStade%20Francis-Le%20Bl%C3%A9%3C/div%3E%60%29%5B0%5D%3B%0A%20%20%20%20%20%20%20%20%20%20%20%20popup_386f5f6de0974ae38513d711d1325f29.setContent%28html_6a87482b329d4019b929f4599c4d6768%29%3B%0A%20%20%20%20%20%20%20%20%0A%0A%20%20%20%20%20%20%20%20marker_8b56c4d3c4b04d2aba9c1acc5b9fe19c.bindPopup%28popup_386f5f6de0974ae38513d711d1325f29%29%0A%20%20%20%20%20%20%20%20%3B%0A%0A%20%20%20%20%20%20%20%20%0A%20%20%20%20%0A%20%20%20%20%0A%20%20%20%20%20%20%20%20%20%20%20%20var%20marker_be4dc9f9be6d4f65a88103ee504fa056%20%3D%20L.marker%28%0A%20%20%20%20%20%20%20%20%20%20%20%20%20%20%20%20%5B44.89722222222222%2C%20-0.5613888888888889%5D%2C%0A%20%20%20%20%20%20%20%20%20%20%20%20%20%20%20%20%7B%7D%0A%20%20%20%20%20%20%20%20%20%20%20%20%29.addTo%28map_0af8de1302314e18b268682d2664ab5b%29%3B%0A%20%20%20%20%20%20%20%20%0A%20%20%20%20%0A%20%20%20%20%20%20%20%20var%20popup_17795013695448cabca20e1bcf154d82%20%3D%20L.popup%28%7B%22maxWidth%22%3A%20%22100%25%22%7D%29%3B%0A%0A%20%20%20%20%20%20%20%20%0A%20%20%20%20%20%20%20%20%20%20%20%20var%20html_5a1383ad0a174ce29bbe6b9b49233753%20%3D%20%24%28%60%3Cdiv%20id%3D%22html_5a1383ad0a174ce29bbe6b9b49233753%22%20style%3D%22width%3A%20100.0%25%3B%20height%3A%20100.0%25%3B%22%3EMatmut%20Atlantique%3C/div%3E%60%29%5B0%5D%3B%0A%20%20%20%20%20%20%20%20%20%20%20%20popup_17795013695448cabca20e1bcf154d82.setContent%28html_5a1383ad0a174ce29bbe6b9b49233753%29%3B%0A%20%20%20%20%20%20%20%20%0A%0A%20%20%20%20%20%20%20%20marker_be4dc9f9be6d4f65a88103ee504fa056.bindPopup%28popup_17795013695448cabca20e1bcf154d82%29%0A%20%20%20%20%20%20%20%20%3B%0A%0A%20%20%20%20%20%20%20%20%0A%20%20%20%20%0A%20%20%20%20%0A%20%20%20%20%20%20%20%20%20%20%20%20var%20marker_c5ef927d15a0469f972f70ad0a463436%20%3D%20L.marker%28%0A%20%20%20%20%20%20%20%20%20%20%20%20%20%20%20%20%5B43.583333333333336%2C%201.4341666666666666%5D%2C%0A%20%20%20%20%20%20%20%20%20%20%20%20%20%20%20%20%7B%7D%0A%20%20%20%20%20%20%20%20%20%20%20%20%29.addTo%28map_0af8de1302314e18b268682d2664ab5b%29%3B%0A%20%20%20%20%20%20%20%20%0A%20%20%20%20%0A%20%20%20%20%20%20%20%20var%20popup_8f570a90f93b4621b0276f34aaaa0c81%20%3D%20L.popup%28%7B%22maxWidth%22%3A%20%22100%25%22%7D%29%3B%0A%0A%20%20%20%20%20%20%20%20%0A%20%20%20%20%20%20%20%20%20%20%20%20var%20html_3e57fb8c5a8947ff90b148ee46cac57d%20%3D%20%24%28%60%3Cdiv%20id%3D%22html_3e57fb8c5a8947ff90b148ee46cac57d%22%20style%3D%22width%3A%20100.0%25%3B%20height%3A%20100.0%25%3B%22%3EStadium%20de%20Toulouse%3C/div%3E%60%29%5B0%5D%3B%0A%20%20%20%20%20%20%20%20%20%20%20%20popup_8f570a90f93b4621b0276f34aaaa0c81.setContent%28html_3e57fb8c5a8947ff90b148ee46cac57d%29%3B%0A%20%20%20%20%20%20%20%20%0A%0A%20%20%20%20%20%20%20%20marker_c5ef927d15a0469f972f70ad0a463436.bindPopup%28popup_8f570a90f93b4621b0276f34aaaa0c81%29%0A%20%20%20%20%20%20%20%20%3B%0A%0A%20%20%20%20%20%20%20%20%0A%20%20%20%20%0A%20%20%20%20%0A%20%20%20%20%20%20%20%20%20%20%20%20var%20marker_1ef3834354e2418d909a411302cb4c81%20%3D%20L.marker%28%0A%20%20%20%20%20%20%20%20%20%20%20%20%20%20%20%20%5B49.89388888888889%2C%202.263611111111111%5D%2C%0A%20%20%20%20%20%20%20%20%20%20%20%20%20%20%20%20%7B%7D%0A%20%20%20%20%20%20%20%20%20%20%20%20%29.addTo%28map_0af8de1302314e18b268682d2664ab5b%29%3B%0A%20%20%20%20%20%20%20%20%0A%20%20%20%20%0A%20%20%20%20%20%20%20%20var%20popup_3280ea9205b94ec9a14817ad83fe975a%20%3D%20L.popup%28%7B%22maxWidth%22%3A%20%22100%25%22%7D%29%3B%0A%0A%20%20%20%20%20%20%20%20%0A%20%20%20%20%20%20%20%20%20%20%20%20var%20html_d48f901dd5cf4b598f7e3dc0cb9b616d%20%3D%20%24%28%60%3Cdiv%20id%3D%22html_d48f901dd5cf4b598f7e3dc0cb9b616d%22%20style%3D%22width%3A%20100.0%25%3B%20height%3A%20100.0%25%3B%22%3EStade%20de%20la%20Licorne%3C/div%3E%60%29%5B0%5D%3B%0A%20%20%20%20%20%20%20%20%20%20%20%20popup_3280ea9205b94ec9a14817ad83fe975a.setContent%28html_d48f901dd5cf4b598f7e3dc0cb9b616d%29%3B%0A%20%20%20%20%20%20%20%20%0A%0A%20%20%20%20%20%20%20%20marker_1ef3834354e2418d909a411302cb4c81.bindPopup%28popup_3280ea9205b94ec9a14817ad83fe975a%29%0A%20%20%20%20%20%20%20%20%3B%0A%0A%20%20%20%20%20%20%20%20%0A%20%20%20%20%0A%20%20%20%20%0A%20%20%20%20%20%20%20%20%20%20%20%20var%20marker_d3dbc5e1b1c9422fba2568c7dd732638%20%3D%20L.marker%28%0A%20%20%20%20%20%20%20%20%20%20%20%20%20%20%20%20%5B43.7275%2C%207.415555555555556%5D%2C%0A%20%20%20%20%20%20%20%20%20%20%20%20%20%20%20%20%7B%7D%0A%20%20%20%20%20%20%20%20%20%20%20%20%29.addTo%28map_0af8de1302314e18b268682d2664ab5b%29%3B%0A%20%20%20%20%20%20%20%20%0A%20%20%20%20%0A%20%20%20%20%20%20%20%20var%20popup_8cfe2d85db9d41adb4f4bad5bdf2bcc7%20%3D%20L.popup%28%7B%22maxWidth%22%3A%20%22100%25%22%7D%29%3B%0A%0A%20%20%20%20%20%20%20%20%0A%20%20%20%20%20%20%20%20%20%20%20%20var%20html_a2e2db92af9746808e040660f0da580e%20%3D%20%24%28%60%3Cdiv%20id%3D%22html_a2e2db92af9746808e040660f0da580e%22%20style%3D%22width%3A%20100.0%25%3B%20height%3A%20100.0%25%3B%22%3EStade%20Louis-II%3C/div%3E%60%29%5B0%5D%3B%0A%20%20%20%20%20%20%20%20%20%20%20%20popup_8cfe2d85db9d41adb4f4bad5bdf2bcc7.setContent%28html_a2e2db92af9746808e040660f0da580e%29%3B%0A%20%20%20%20%20%20%20%20%0A%0A%20%20%20%20%20%20%20%20marker_d3dbc5e1b1c9422fba2568c7dd732638.bindPopup%28popup_8cfe2d85db9d41adb4f4bad5bdf2bcc7%29%0A%20%20%20%20%20%20%20%20%3B%0A%0A%20%20%20%20%20%20%20%20%0A%20%20%20%20%0A%20%20%20%20%0A%20%20%20%20%20%20%20%20%20%20%20%20var%20marker_7e1c808e7cc64eb0bb1d93e20e8818b8%20%3D%20L.marker%28%0A%20%20%20%20%20%20%20%20%20%20%20%20%20%20%20%20%5B47.324444444444445%2C%205.068333333333333%5D%2C%0A%20%20%20%20%20%20%20%20%20%20%20%20%20%20%20%20%7B%7D%0A%20%20%20%20%20%20%20%20%20%20%20%20%29.addTo%28map_0af8de1302314e18b268682d2664ab5b%29%3B%0A%20%20%20%20%20%20%20%20%0A%20%20%20%20%0A%20%20%20%20%20%20%20%20var%20popup_803655b506e24bca86bcd36c401b00df%20%3D%20L.popup%28%7B%22maxWidth%22%3A%20%22100%25%22%7D%29%3B%0A%0A%20%20%20%20%20%20%20%20%0A%20%20%20%20%20%20%20%20%20%20%20%20var%20html_cc2e4e9456254b399852316dc84eb4d9%20%3D%20%24%28%60%3Cdiv%20id%3D%22html_cc2e4e9456254b399852316dc84eb4d9%22%20style%3D%22width%3A%20100.0%25%3B%20height%3A%20100.0%25%3B%22%3EStade%20Gaston-G%C3%A9rard%3C/div%3E%60%29%5B0%5D%3B%0A%20%20%20%20%20%20%20%20%20%20%20%20popup_803655b506e24bca86bcd36c401b00df.setContent%28html_cc2e4e9456254b399852316dc84eb4d9%29%3B%0A%20%20%20%20%20%20%20%20%0A%0A%20%20%20%20%20%20%20%20marker_7e1c808e7cc64eb0bb1d93e20e8818b8.bindPopup%28popup_803655b506e24bca86bcd36c401b00df%29%0A%20%20%20%20%20%20%20%20%3B%0A%0A%20%20%20%20%20%20%20%20%0A%20%20%20%20%0A%20%20%20%20%0A%20%20%20%20%20%20%20%20%20%20%20%20var%20marker_f3d46c9288fc4029b332555820b98b6f%20%3D%20L.marker%28%0A%20%20%20%20%20%20%20%20%20%20%20%20%20%20%20%20%5B48.695277777777775%2C%206.210555555555556%5D%2C%0A%20%20%20%20%20%20%20%20%20%20%20%20%20%20%20%20%7B%7D%0A%20%20%20%20%20%20%20%20%20%20%20%20%29.addTo%28map_0af8de1302314e18b268682d2664ab5b%29%3B%0A%20%20%20%20%20%20%20%20%0A%20%20%20%20%0A%20%20%20%20%20%20%20%20var%20popup_6e62a287b37c46ffa2bd32e3bc873289%20%3D%20L.popup%28%7B%22maxWidth%22%3A%20%22100%25%22%7D%29%3B%0A%0A%20%20%20%20%20%20%20%20%0A%20%20%20%20%20%20%20%20%20%20%20%20var%20html_22cb02e5da2046318206d7be4e59f271%20%3D%20%24%28%60%3Cdiv%20id%3D%22html_22cb02e5da2046318206d7be4e59f271%22%20style%3D%22width%3A%20100.0%25%3B%20height%3A%20100.0%25%3B%22%3EStade%20Marcel-Picot%3C/div%3E%60%29%5B0%5D%3B%0A%20%20%20%20%20%20%20%20%20%20%20%20popup_6e62a287b37c46ffa2bd32e3bc873289.setContent%28html_22cb02e5da2046318206d7be4e59f271%29%3B%0A%20%20%20%20%20%20%20%20%0A%0A%20%20%20%20%20%20%20%20marker_f3d46c9288fc4029b332555820b98b6f.bindPopup%28popup_6e62a287b37c46ffa2bd32e3bc873289%29%0A%20%20%20%20%20%20%20%20%3B%0A%0A%20%20%20%20%20%20%20%20%0A%20%20%20%20%0A%20%20%20%20%0A%20%20%20%20%20%20%20%20%20%20%20%20var%20marker_d35e7e927cf94f4083f7e8d0e880f1ec%20%3D%20L.marker%28%0A%20%20%20%20%20%20%20%20%20%20%20%20%20%20%20%20%5B49.49888888888889%2C%200.16972222222222222%5D%2C%0A%20%20%20%20%20%20%20%20%20%20%20%20%20%20%20%20%7B%7D%0A%20%20%20%20%20%20%20%20%20%20%20%20%29.addTo%28map_0af8de1302314e18b268682d2664ab5b%29%3B%0A%20%20%20%20%20%20%20%20%0A%20%20%20%20%0A%20%20%20%20%20%20%20%20var%20popup_d9884326ff8d4636bcfd8d771f127770%20%3D%20L.popup%28%7B%22maxWidth%22%3A%20%22100%25%22%7D%29%3B%0A%0A%20%20%20%20%20%20%20%20%0A%20%20%20%20%20%20%20%20%20%20%20%20var%20html_318666f6a9c84ef9838a621e9ab62bda%20%3D%20%24%28%60%3Cdiv%20id%3D%22html_318666f6a9c84ef9838a621e9ab62bda%22%20style%3D%22width%3A%20100.0%25%3B%20height%3A%20100.0%25%3B%22%3EStade%20Oc%C3%A9ane%3C/div%3E%60%29%5B0%5D%3B%0A%20%20%20%20%20%20%20%20%20%20%20%20popup_d9884326ff8d4636bcfd8d771f127770.setContent%28html_318666f6a9c84ef9838a621e9ab62bda%29%3B%0A%20%20%20%20%20%20%20%20%0A%0A%20%20%20%20%20%20%20%20marker_d35e7e927cf94f4083f7e8d0e880f1ec.bindPopup%28popup_d9884326ff8d4636bcfd8d771f127770%29%0A%20%20%20%20%20%20%20%20%3B%0A%0A%20%20%20%20%20%20%20%20%0A%20%20%20%20%0A%20%20%20%20%0A%20%20%20%20%20%20%20%20%20%20%20%20var%20marker_b5813438e61c4a9b9f6a85c9f4e8a94a%20%3D%20L.marker%28%0A%20%20%20%20%20%20%20%20%20%20%20%20%20%20%20%20%5B49.17944444444444%2C%20-0.39666666666666667%5D%2C%0A%20%20%20%20%20%20%20%20%20%20%20%20%20%20%20%20%7B%7D%0A%20%20%20%20%20%20%20%20%20%20%20%20%29.addTo%28map_0af8de1302314e18b268682d2664ab5b%29%3B%0A%20%20%20%20%20%20%20%20%0A%20%20%20%20%0A%20%20%20%20%20%20%20%20var%20popup_3bdb0240d54f4e7f8ae1170fc96d0105%20%3D%20L.popup%28%7B%22maxWidth%22%3A%20%22100%25%22%7D%29%3B%0A%0A%20%20%20%20%20%20%20%20%0A%20%20%20%20%20%20%20%20%20%20%20%20var%20html_72c244c0b4364426a7add511d0d1451e%20%3D%20%24%28%60%3Cdiv%20id%3D%22html_72c244c0b4364426a7add511d0d1451e%22%20style%3D%22width%3A%20100.0%25%3B%20height%3A%20100.0%25%3B%22%3EStade%20Michel-d%27Ornano%3C/div%3E%60%29%5B0%5D%3B%0A%20%20%20%20%20%20%20%20%20%20%20%20popup_3bdb0240d54f4e7f8ae1170fc96d0105.setContent%28html_72c244c0b4364426a7add511d0d1451e%29%3B%0A%20%20%20%20%20%20%20%20%0A%0A%20%20%20%20%20%20%20%20marker_b5813438e61c4a9b9f6a85c9f4e8a94a.bindPopup%28popup_3bdb0240d54f4e7f8ae1170fc96d0105%29%0A%20%20%20%20%20%20%20%20%3B%0A%0A%20%20%20%20%20%20%20%20%0A%20%20%20%20%0A%20%20%20%20%0A%20%20%20%20%20%20%20%20%20%20%20%20var%20marker_0b5d2821bd3443d3a44996eee20f82a2%20%3D%20L.marker%28%0A%20%20%20%20%20%20%20%20%20%20%20%20%20%20%20%20%5B45.81583333333333%2C%203.1216666666666666%5D%2C%0A%20%20%20%20%20%20%20%20%20%20%20%20%20%20%20%20%7B%7D%0A%20%20%20%20%20%20%20%20%20%20%20%20%29.addTo%28map_0af8de1302314e18b268682d2664ab5b%29%3B%0A%20%20%20%20%20%20%20%20%0A%20%20%20%20%0A%20%20%20%20%20%20%20%20var%20popup_86b22ae02ea24aef8d72645358c03795%20%3D%20L.popup%28%7B%22maxWidth%22%3A%20%22100%25%22%7D%29%3B%0A%0A%20%20%20%20%20%20%20%20%0A%20%20%20%20%20%20%20%20%20%20%20%20var%20html_c06229b2554b4722841e170b4a3fa85e%20%3D%20%24%28%60%3Cdiv%20id%3D%22html_c06229b2554b4722841e170b4a3fa85e%22%20style%3D%22width%3A%20100.0%25%3B%20height%3A%20100.0%25%3B%22%3EStade%20Gabriel-Montpied%3C/div%3E%60%29%5B0%5D%3B%0A%20%20%20%20%20%20%20%20%20%20%20%20popup_86b22ae02ea24aef8d72645358c03795.setContent%28html_c06229b2554b4722841e170b4a3fa85e%29%3B%0A%20%20%20%20%20%20%20%20%0A%0A%20%20%20%20%20%20%20%20marker_0b5d2821bd3443d3a44996eee20f82a2.bindPopup%28popup_86b22ae02ea24aef8d72645358c03795%29%0A%20%20%20%20%20%20%20%20%3B%0A%0A%20%20%20%20%20%20%20%20%0A%20%20%20%20%0A%20%20%20%20%0A%20%20%20%20%20%20%20%20%20%20%20%20var%20marker_bab656c6161d476f97de3cf862f98949%20%3D%20L.marker%28%0A%20%20%20%20%20%20%20%20%20%20%20%20%20%20%20%20%5B48.566111111111105%2C%20-3.1644444444444444%5D%2C%0A%20%20%20%20%20%20%20%20%20%20%20%20%20%20%20%20%7B%7D%0A%20%20%20%20%20%20%20%20%20%20%20%20%29.addTo%28map_0af8de1302314e18b268682d2664ab5b%29%3B%0A%20%20%20%20%20%20%20%20%0A%20%20%20%20%0A%20%20%20%20%20%20%20%20var%20popup_48b0450748174ade82384c65170952de%20%3D%20L.popup%28%7B%22maxWidth%22%3A%20%22100%25%22%7D%29%3B%0A%0A%20%20%20%20%20%20%20%20%0A%20%20%20%20%20%20%20%20%20%20%20%20var%20html_c6b6e649c72745b787ede35574c81d1a%20%3D%20%24%28%60%3Cdiv%20id%3D%22html_c6b6e649c72745b787ede35574c81d1a%22%20style%3D%22width%3A%20100.0%25%3B%20height%3A%20100.0%25%3B%22%3EStade%20de%20Roudourou%3C/div%3E%60%29%5B0%5D%3B%0A%20%20%20%20%20%20%20%20%20%20%20%20popup_48b0450748174ade82384c65170952de.setContent%28html_c6b6e649c72745b787ede35574c81d1a%29%3B%0A%20%20%20%20%20%20%20%20%0A%0A%20%20%20%20%20%20%20%20marker_bab656c6161d476f97de3cf862f98949.bindPopup%28popup_48b0450748174ade82384c65170952de%29%0A%20%20%20%20%20%20%20%20%3B%0A%0A%20%20%20%20%20%20%20%20%0A%20%20%20%20%0A%20%20%20%20%0A%20%20%20%20%20%20%20%20%20%20%20%20var%20marker_7f3b26f0f8fb4d7fbb359782cade782d%20%3D%20L.marker%28%0A%20%20%20%20%20%20%20%20%20%20%20%20%20%20%20%20%5B47.74888888888889%2C%20-3.3691666666666666%5D%2C%0A%20%20%20%20%20%20%20%20%20%20%20%20%20%20%20%20%7B%7D%0A%20%20%20%20%20%20%20%20%20%20%20%20%29.addTo%28map_0af8de1302314e18b268682d2664ab5b%29%3B%0A%20%20%20%20%20%20%20%20%0A%20%20%20%20%0A%20%20%20%20%20%20%20%20var%20popup_f26193029d2d442bb3143718ea575e7b%20%3D%20L.popup%28%7B%22maxWidth%22%3A%20%22100%25%22%7D%29%3B%0A%0A%20%20%20%20%20%20%20%20%0A%20%20%20%20%20%20%20%20%20%20%20%20var%20html_d7783fe37bbe4f7a9bc5a9e932779f21%20%3D%20%24%28%60%3Cdiv%20id%3D%22html_d7783fe37bbe4f7a9bc5a9e932779f21%22%20style%3D%22width%3A%20100.0%25%3B%20height%3A%20100.0%25%3B%22%3EStade%20du%20Moustoir%3C/div%3E%60%29%5B0%5D%3B%0A%20%20%20%20%20%20%20%20%20%20%20%20popup_f26193029d2d442bb3143718ea575e7b.setContent%28html_d7783fe37bbe4f7a9bc5a9e932779f21%29%3B%0A%20%20%20%20%20%20%20%20%0A%0A%20%20%20%20%20%20%20%20marker_7f3b26f0f8fb4d7fbb359782cade782d.bindPopup%28popup_f26193029d2d442bb3143718ea575e7b%29%0A%20%20%20%20%20%20%20%20%3B%0A%0A%20%20%20%20%20%20%20%20%0A%20%20%20%20%0A%20%20%20%20%0A%20%20%20%20%20%20%20%20%20%20%20%20var%20marker_46d201d2edf24742ba6e16bc69350b76%20%3D%20L.marker%28%0A%20%20%20%20%20%20%20%20%20%20%20%20%20%20%20%20%5B48.81861111111112%2C%202.346388888888889%5D%2C%0A%20%20%20%20%20%20%20%20%20%20%20%20%20%20%20%20%7B%7D%0A%20%20%20%20%20%20%20%20%20%20%20%20%29.addTo%28map_0af8de1302314e18b268682d2664ab5b%29%3B%0A%20%20%20%20%20%20%20%20%0A%20%20%20%20%0A%20%20%20%20%20%20%20%20var%20popup_d2f8757d64d54608bf09b78e0ae42295%20%3D%20L.popup%28%7B%22maxWidth%22%3A%20%22100%25%22%7D%29%3B%0A%0A%20%20%20%20%20%20%20%20%0A%20%20%20%20%20%20%20%20%20%20%20%20var%20html_1f5f27f3b286456fa72bc9bf7842e31a%20%3D%20%24%28%60%3Cdiv%20id%3D%22html_1f5f27f3b286456fa72bc9bf7842e31a%22%20style%3D%22width%3A%20100.0%25%3B%20height%3A%20100.0%25%3B%22%3EStade%20Charl%C3%A9ty%3C/div%3E%60%29%5B0%5D%3B%0A%20%20%20%20%20%20%20%20%20%20%20%20popup_d2f8757d64d54608bf09b78e0ae42295.setContent%28html_1f5f27f3b286456fa72bc9bf7842e31a%29%3B%0A%20%20%20%20%20%20%20%20%0A%0A%20%20%20%20%20%20%20%20marker_46d201d2edf24742ba6e16bc69350b76.bindPopup%28popup_d2f8757d64d54608bf09b78e0ae42295%29%0A%20%20%20%20%20%20%20%20%3B%0A%0A%20%20%20%20%20%20%20%20%0A%20%20%20%20%0A%20%20%20%20%0A%20%20%20%20%20%20%20%20%20%20%20%20var%20marker_0fc6d5b6abfa4097816e929a94bc3d10%20%3D%20L.marker%28%0A%20%20%20%20%20%20%20%20%20%20%20%20%20%20%20%20%5B46.801944444444445%2C%201.7216666666666667%5D%2C%0A%20%20%20%20%20%20%20%20%20%20%20%20%20%20%20%20%7B%7D%0A%20%20%20%20%20%20%20%20%20%20%20%20%29.addTo%28map_0af8de1302314e18b268682d2664ab5b%29%3B%0A%20%20%20%20%20%20%20%20%0A%20%20%20%20%0A%20%20%20%20%20%20%20%20var%20popup_ac2d5c1bcc854ca683a56a1acc296c69%20%3D%20L.popup%28%7B%22maxWidth%22%3A%20%22100%25%22%7D%29%3B%0A%0A%20%20%20%20%20%20%20%20%0A%20%20%20%20%20%20%20%20%20%20%20%20var%20html_87a73e4acc8a4efd976e4fde3bb7e047%20%3D%20%24%28%60%3Cdiv%20id%3D%22html_87a73e4acc8a4efd976e4fde3bb7e047%22%20style%3D%22width%3A%20100.0%25%3B%20height%3A%20100.0%25%3B%22%3EStade%20Gaston-Petit%3C/div%3E%60%29%5B0%5D%3B%0A%20%20%20%20%20%20%20%20%20%20%20%20popup_ac2d5c1bcc854ca683a56a1acc296c69.setContent%28html_87a73e4acc8a4efd976e4fde3bb7e047%29%3B%0A%20%20%20%20%20%20%20%20%0A%0A%20%20%20%20%20%20%20%20marker_0fc6d5b6abfa4097816e929a94bc3d10.bindPopup%28popup_ac2d5c1bcc854ca683a56a1acc296c69%29%0A%20%20%20%20%20%20%20%20%3B%0A%0A%20%20%20%20%20%20%20%20%0A%20%20%20%20%0A%20%20%20%20%0A%20%20%20%20%20%20%20%20%20%20%20%20var%20marker_5be8c3c55dde44a88bfc1a937273006d%20%3D%20L.marker%28%0A%20%20%20%20%20%20%20%20%20%20%20%20%20%20%20%20%5B47.78666666666666%2C%203.588611111111111%5D%2C%0A%20%20%20%20%20%20%20%20%20%20%20%20%20%20%20%20%7B%7D%0A%20%20%20%20%20%20%20%20%20%20%20%20%29.addTo%28map_0af8de1302314e18b268682d2664ab5b%29%3B%0A%20%20%20%20%20%20%20%20%0A%20%20%20%20%0A%20%20%20%20%20%20%20%20var%20popup_a699727e856947ee98f38bc37d5aa5c0%20%3D%20L.popup%28%7B%22maxWidth%22%3A%20%22100%25%22%7D%29%3B%0A%0A%20%20%20%20%20%20%20%20%0A%20%20%20%20%20%20%20%20%20%20%20%20var%20html_9bd84ba48c7d47d49b537672bffbd3ac%20%3D%20%24%28%60%3Cdiv%20id%3D%22html_9bd84ba48c7d47d49b537672bffbd3ac%22%20style%3D%22width%3A%20100.0%25%3B%20height%3A%20100.0%25%3B%22%3EStade%20de%20l%27Abb%C3%A9-Deschamps%3C/div%3E%60%29%5B0%5D%3B%0A%20%20%20%20%20%20%20%20%20%20%20%20popup_a699727e856947ee98f38bc37d5aa5c0.setContent%28html_9bd84ba48c7d47d49b537672bffbd3ac%29%3B%0A%20%20%20%20%20%20%20%20%0A%0A%20%20%20%20%20%20%20%20marker_5be8c3c55dde44a88bfc1a937273006d.bindPopup%28popup_a699727e856947ee98f38bc37d5aa5c0%29%0A%20%20%20%20%20%20%20%20%3B%0A%0A%20%20%20%20%20%20%20%20%0A%20%20%20%20%0A%20%20%20%20%0A%20%20%20%20%20%20%20%20%20%20%20%20var%20marker_49ac45984bde4a9894f55be02a532470%20%3D%20L.marker%28%0A%20%20%20%20%20%20%20%20%20%20%20%20%20%20%20%20%5B47.84027777777778%2C%201.9411111111111112%5D%2C%0A%20%20%20%20%20%20%20%20%20%20%20%20%20%20%20%20%7B%7D%0A%20%20%20%20%20%20%20%20%20%20%20%20%29.addTo%28map_0af8de1302314e18b268682d2664ab5b%29%3B%0A%20%20%20%20%20%20%20%20%0A%20%20%20%20%0A%20%20%20%20%20%20%20%20var%20popup_8efb6bc5606a4f14bc7b1a3a734b950d%20%3D%20L.popup%28%7B%22maxWidth%22%3A%20%22100%25%22%7D%29%3B%0A%0A%20%20%20%20%20%20%20%20%0A%20%20%20%20%20%20%20%20%20%20%20%20var%20html_ec578aac23164702b8857758e77c6a49%20%3D%20%24%28%60%3Cdiv%20id%3D%22html_ec578aac23164702b8857758e77c6a49%22%20style%3D%22width%3A%20100.0%25%3B%20height%3A%20100.0%25%3B%22%3EStade%20de%20la%20Source%3C/div%3E%60%29%5B0%5D%3B%0A%20%20%20%20%20%20%20%20%20%20%20%20popup_8efb6bc5606a4f14bc7b1a3a734b950d.setContent%28html_ec578aac23164702b8857758e77c6a49%29%3B%0A%20%20%20%20%20%20%20%20%0A%0A%20%20%20%20%20%20%20%20marker_49ac45984bde4a9894f55be02a532470.bindPopup%28popup_8efb6bc5606a4f14bc7b1a3a734b950d%29%0A%20%20%20%20%20%20%20%20%3B%0A%0A%20%20%20%20%20%20%20%20%0A%20%20%20%20%0A%20%20%20%20%0A%20%20%20%20%20%20%20%20%20%20%20%20var%20marker_e1472d7671c54b3ca2e409fa643433e1%20%3D%20L.marker%28%0A%20%20%20%20%20%20%20%20%20%20%20%20%20%20%20%20%5B50.34861111111111%2C%203.5322222222222224%5D%2C%0A%20%20%20%20%20%20%20%20%20%20%20%20%20%20%20%20%7B%7D%0A%20%20%20%20%20%20%20%20%20%20%20%20%29.addTo%28map_0af8de1302314e18b268682d2664ab5b%29%3B%0A%20%20%20%20%20%20%20%20%0A%20%20%20%20%0A%20%20%20%20%20%20%20%20var%20popup_b4ed09f6299647cd899643bd9e5c5075%20%3D%20L.popup%28%7B%22maxWidth%22%3A%20%22100%25%22%7D%29%3B%0A%0A%20%20%20%20%20%20%20%20%0A%20%20%20%20%20%20%20%20%20%20%20%20var%20html_b345744f91ba487aa50bc1ff129f6501%20%3D%20%24%28%60%3Cdiv%20id%3D%22html_b345744f91ba487aa50bc1ff129f6501%22%20style%3D%22width%3A%20100.0%25%3B%20height%3A%20100.0%25%3B%22%3EStade%20du%20Hainaut%3C/div%3E%60%29%5B0%5D%3B%0A%20%20%20%20%20%20%20%20%20%20%20%20popup_b4ed09f6299647cd899643bd9e5c5075.setContent%28html_b345744f91ba487aa50bc1ff129f6501%29%3B%0A%20%20%20%20%20%20%20%20%0A%0A%20%20%20%20%20%20%20%20marker_e1472d7671c54b3ca2e409fa643433e1.bindPopup%28popup_b4ed09f6299647cd899643bd9e5c5075%29%0A%20%20%20%20%20%20%20%20%3B%0A%0A%20%20%20%20%20%20%20%20%0A%20%20%20%20%0A%20%20%20%20%0A%20%20%20%20%20%20%20%20%20%20%20%20var%20marker_1cb4d1e79bcb430ab3ab760d147976ab%20%3D%20L.marker%28%0A%20%20%20%20%20%20%20%20%20%20%20%20%20%20%20%20%5B46.316944444444445%2C%20-0.4891666666666667%5D%2C%0A%20%20%20%20%20%20%20%20%20%20%20%20%20%20%20%20%7B%7D%0A%20%20%20%20%20%20%20%20%20%20%20%20%29.addTo%28map_0af8de1302314e18b268682d2664ab5b%29%3B%0A%20%20%20%20%20%20%20%20%0A%20%20%20%20%0A%20%20%20%20%20%20%20%20var%20popup_9c177c69a96e4ba9865cb7a15d56448e%20%3D%20L.popup%28%7B%22maxWidth%22%3A%20%22100%25%22%7D%29%3B%0A%0A%20%20%20%20%20%20%20%20%0A%20%20%20%20%20%20%20%20%20%20%20%20var%20html_66c141d1f74a41db927b569090891b9b%20%3D%20%24%28%60%3Cdiv%20id%3D%22html_66c141d1f74a41db927b569090891b9b%22%20style%3D%22width%3A%20100.0%25%3B%20height%3A%20100.0%25%3B%22%3EStade%20Ren%C3%A9-Gaillard%3C/div%3E%60%29%5B0%5D%3B%0A%20%20%20%20%20%20%20%20%20%20%20%20popup_9c177c69a96e4ba9865cb7a15d56448e.setContent%28html_66c141d1f74a41db927b569090891b9b%29%3B%0A%20%20%20%20%20%20%20%20%0A%0A%20%20%20%20%20%20%20%20marker_1cb4d1e79bcb430ab3ab760d147976ab.bindPopup%28popup_9c177c69a96e4ba9865cb7a15d56448e%29%0A%20%20%20%20%20%20%20%20%3B%0A%0A%20%20%20%20%20%20%20%20%0A%20%20%20%20%0A%20%20%20%20%0A%20%20%20%20%20%20%20%20%20%20%20%20var%20marker_6edd765d096340b4a86290ee4a840456%20%3D%20L.marker%28%0A%20%20%20%20%20%20%20%20%20%20%20%20%20%20%20%20%5B45.1875%2C%205.74%5D%2C%0A%20%20%20%20%20%20%20%20%20%20%20%20%20%20%20%20%7B%7D%0A%20%20%20%20%20%20%20%20%20%20%20%20%29.addTo%28map_0af8de1302314e18b268682d2664ab5b%29%3B%0A%20%20%20%20%20%20%20%20%0A%20%20%20%20%0A%20%20%20%20%20%20%20%20var%20popup_45dab6d4e80845eeaa92feebd400e2e4%20%3D%20L.popup%28%7B%22maxWidth%22%3A%20%22100%25%22%7D%29%3B%0A%0A%20%20%20%20%20%20%20%20%0A%20%20%20%20%20%20%20%20%20%20%20%20var%20html_78e8df24d1d84fc1915ee07b1174fbf9%20%3D%20%24%28%60%3Cdiv%20id%3D%22html_78e8df24d1d84fc1915ee07b1174fbf9%22%20style%3D%22width%3A%20100.0%25%3B%20height%3A%20100.0%25%3B%22%3EStade%20des%20Alpes%3C/div%3E%60%29%5B0%5D%3B%0A%20%20%20%20%20%20%20%20%20%20%20%20popup_45dab6d4e80845eeaa92feebd400e2e4.setContent%28html_78e8df24d1d84fc1915ee07b1174fbf9%29%3B%0A%20%20%20%20%20%20%20%20%0A%0A%20%20%20%20%20%20%20%20marker_6edd765d096340b4a86290ee4a840456.bindPopup%28popup_45dab6d4e80845eeaa92feebd400e2e4%29%0A%20%20%20%20%20%20%20%20%3B%0A%0A%20%20%20%20%20%20%20%20%0A%20%20%20%20%0A%20%20%20%20%0A%20%20%20%20%20%20%20%20%20%20%20%20var%20marker_45260a895a674ae9808ad07876f2fd2d%20%3D%20L.marker%28%0A%20%20%20%20%20%20%20%20%20%20%20%20%20%20%20%20%5B47.51222222222222%2C%206.811388888888889%5D%2C%0A%20%20%20%20%20%20%20%20%20%20%20%20%20%20%20%20%7B%7D%0A%20%20%20%20%20%20%20%20%20%20%20%20%29.addTo%28map_0af8de1302314e18b268682d2664ab5b%29%3B%0A%20%20%20%20%20%20%20%20%0A%20%20%20%20%0A%20%20%20%20%20%20%20%20var%20popup_63f007d190b7465c93d3eab773a31716%20%3D%20L.popup%28%7B%22maxWidth%22%3A%20%22100%25%22%7D%29%3B%0A%0A%20%20%20%20%20%20%20%20%0A%20%20%20%20%20%20%20%20%20%20%20%20var%20html_1f8411c20de24b9588282551cb2b351d%20%3D%20%24%28%60%3Cdiv%20id%3D%22html_1f8411c20de24b9588282551cb2b351d%22%20style%3D%22width%3A%20100.0%25%3B%20height%3A%20100.0%25%3B%22%3EStade%20Auguste-Bonal%3C/div%3E%60%29%5B0%5D%3B%0A%20%20%20%20%20%20%20%20%20%20%20%20popup_63f007d190b7465c93d3eab773a31716.setContent%28html_1f8411c20de24b9588282551cb2b351d%29%3B%0A%20%20%20%20%20%20%20%20%0A%0A%20%20%20%20%20%20%20%20marker_45260a895a674ae9808ad07876f2fd2d.bindPopup%28popup_63f007d190b7465c93d3eab773a31716%29%0A%20%20%20%20%20%20%20%20%3B%0A%0A%20%20%20%20%20%20%20%20%0A%20%20%20%20%0A%20%20%20%20%0A%20%20%20%20%20%20%20%20%20%20%20%20var%20marker_01329f643c5d4c67a085f29347f0e8b6%20%3D%20L.marker%28%0A%20%20%20%20%20%20%20%20%20%20%20%20%20%20%20%20%5B44.35166666666667%2C%202.563611111111111%5D%2C%0A%20%20%20%20%20%20%20%20%20%20%20%20%20%20%20%20%7B%7D%0A%20%20%20%20%20%20%20%20%20%20%20%20%29.addTo%28map_0af8de1302314e18b268682d2664ab5b%29%3B%0A%20%20%20%20%20%20%20%20%0A%20%20%20%20%0A%20%20%20%20%20%20%20%20var%20popup_8f0f61a1d22c428fbc1822bb6ddced3e%20%3D%20L.popup%28%7B%22maxWidth%22%3A%20%22100%25%22%7D%29%3B%0A%0A%20%20%20%20%20%20%20%20%0A%20%20%20%20%20%20%20%20%20%20%20%20var%20html_06c6aa5892614228b4573dc7e29c7ba8%20%3D%20%24%28%60%3Cdiv%20id%3D%22html_06c6aa5892614228b4573dc7e29c7ba8%22%20style%3D%22width%3A%20100.0%25%3B%20height%3A%20100.0%25%3B%22%3EStade%20Paul-Lignon%3C/div%3E%60%29%5B0%5D%3B%0A%20%20%20%20%20%20%20%20%20%20%20%20popup_8f0f61a1d22c428fbc1822bb6ddced3e.setContent%28html_06c6aa5892614228b4573dc7e29c7ba8%29%3B%0A%20%20%20%20%20%20%20%20%0A%0A%20%20%20%20%20%20%20%20marker_01329f643c5d4c67a085f29347f0e8b6.bindPopup%28popup_8f0f61a1d22c428fbc1822bb6ddced3e%29%0A%20%20%20%20%20%20%20%20%3B%0A%0A%20%20%20%20%20%20%20%20%0A%20%20%20%20%0A%20%20%20%20%0A%20%20%20%20%20%20%20%20%20%20%20%20var%20marker_27c7e07cc221457b800c078158337186%20%3D%20L.marker%28%0A%20%20%20%20%20%20%20%20%20%20%20%20%20%20%20%20%5B49.17916666666667%2C%202.233611111111111%5D%2C%0A%20%20%20%20%20%20%20%20%20%20%20%20%20%20%20%20%7B%7D%0A%20%20%20%20%20%20%20%20%20%20%20%20%29.addTo%28map_0af8de1302314e18b268682d2664ab5b%29%3B%0A%20%20%20%20%20%20%20%20%0A%20%20%20%20%0A%20%20%20%20%20%20%20%20var%20popup_8802d30818394242950d9c20619c165d%20%3D%20L.popup%28%7B%22maxWidth%22%3A%20%22100%25%22%7D%29%3B%0A%0A%20%20%20%20%20%20%20%20%0A%20%20%20%20%20%20%20%20%20%20%20%20var%20html_276f469990f5426aa2a6273f0847e793%20%3D%20%24%28%60%3Cdiv%20id%3D%22html_276f469990f5426aa2a6273f0847e793%22%20style%3D%22width%3A%20100.0%25%3B%20height%3A%20100.0%25%3B%22%3EStade%20Walter%20Luzi%3C/div%3E%60%29%5B0%5D%3B%0A%20%20%20%20%20%20%20%20%20%20%20%20popup_8802d30818394242950d9c20619c165d.setContent%28html_276f469990f5426aa2a6273f0847e793%29%3B%0A%20%20%20%20%20%20%20%20%0A%0A%20%20%20%20%20%20%20%20marker_27c7e07cc221457b800c078158337186.bindPopup%28popup_8802d30818394242950d9c20619c165d%29%0A%20%20%20%20%20%20%20%20%3B%0A%0A%20%20%20%20%20%20%20%20%0A%20%20%20%20%0A%20%20%20%20%0A%20%20%20%20%20%20%20%20%20%20%20%20var%20marker_0f18856bbe5d40f79039378dee6fdfc8%20%3D%20L.marker%28%0A%20%20%20%20%20%20%20%20%20%20%20%20%20%20%20%20%5B48.3075%2C%204.0986111111111105%5D%2C%0A%20%20%20%20%20%20%20%20%20%20%20%20%20%20%20%20%7B%7D%0A%20%20%20%20%20%20%20%20%20%20%20%20%29.addTo%28map_0af8de1302314e18b268682d2664ab5b%29%3B%0A%20%20%20%20%20%20%20%20%0A%20%20%20%20%0A%20%20%20%20%20%20%20%20var%20popup_bbe2f3e971454341b7af9d3f0aed676a%20%3D%20L.popup%28%7B%22maxWidth%22%3A%20%22100%25%22%7D%29%3B%0A%0A%20%20%20%20%20%20%20%20%0A%20%20%20%20%20%20%20%20%20%20%20%20var%20html_5bec2568fdab40dda4f408dc106f390b%20%3D%20%24%28%60%3Cdiv%20id%3D%22html_5bec2568fdab40dda4f408dc106f390b%22%20style%3D%22width%3A%20100.0%25%3B%20height%3A%20100.0%25%3B%22%3EStade%20de%20l%27Aube%3C/div%3E%60%29%5B0%5D%3B%0A%20%20%20%20%20%20%20%20%20%20%20%20popup_bbe2f3e971454341b7af9d3f0aed676a.setContent%28html_5bec2568fdab40dda4f408dc106f390b%29%3B%0A%20%20%20%20%20%20%20%20%0A%0A%20%20%20%20%20%20%20%20marker_0f18856bbe5d40f79039378dee6fdfc8.bindPopup%28popup_bbe2f3e971454341b7af9d3f0aed676a%29%0A%20%20%20%20%20%20%20%20%3B%0A%0A%20%20%20%20%20%20%20%20%0A%20%20%20%20%0A%20%20%20%20%0A%20%20%20%20%20%20%20%20%20%20%20%20var%20marker_06d3062595744e1db5b25f6d808b5522%20%3D%20L.marker%28%0A%20%20%20%20%20%20%20%20%20%20%20%20%20%20%20%20%5B50.43277777777777%2C%202.815%5D%2C%0A%20%20%20%20%20%20%20%20%20%20%20%20%20%20%20%20%7B%7D%0A%20%20%20%20%20%20%20%20%20%20%20%20%29.addTo%28map_0af8de1302314e18b268682d2664ab5b%29%3B%0A%20%20%20%20%20%20%20%20%0A%20%20%20%20%0A%20%20%20%20%20%20%20%20var%20popup_99853e0dd05841238e32e532acd17c25%20%3D%20L.popup%28%7B%22maxWidth%22%3A%20%22100%25%22%7D%29%3B%0A%0A%20%20%20%20%20%20%20%20%0A%20%20%20%20%20%20%20%20%20%20%20%20var%20html_1b071fea85a947a3924faa8cedf07339%20%3D%20%24%28%60%3Cdiv%20id%3D%22html_1b071fea85a947a3924faa8cedf07339%22%20style%3D%22width%3A%20100.0%25%3B%20height%3A%20100.0%25%3B%22%3EStade%20Bollaert-Delelis%3C/div%3E%60%29%5B0%5D%3B%0A%20%20%20%20%20%20%20%20%20%20%20%20popup_99853e0dd05841238e32e532acd17c25.setContent%28html_1b071fea85a947a3924faa8cedf07339%29%3B%0A%20%20%20%20%20%20%20%20%0A%0A%20%20%20%20%20%20%20%20marker_06d3062595744e1db5b25f6d808b5522.bindPopup%28popup_99853e0dd05841238e32e532acd17c25%29%0A%20%20%20%20%20%20%20%20%3B%0A%0A%20%20%20%20%20%20%20%20%0A%20%20%20%20%0A%20%20%20%20%0A%20%20%20%20%20%20%20%20%20%20%20%20var%20marker_2975e5638f5a4a8391d6436a877fb9bf%20%3D%20L.marker%28%0A%20%20%20%20%20%20%20%20%20%20%20%20%20%20%20%20%5B47.95888888888889%2C%200.22472222222222224%5D%2C%0A%20%20%20%20%20%20%20%20%20%20%20%20%20%20%20%20%7B%7D%0A%20%20%20%20%20%20%20%20%20%20%20%20%29.addTo%28map_0af8de1302314e18b268682d2664ab5b%29%3B%0A%20%20%20%20%20%20%20%20%0A%20%20%20%20%0A%20%20%20%20%20%20%20%20var%20popup_88cea94b286940cdb0d1399f16264746%20%3D%20L.popup%28%7B%22maxWidth%22%3A%20%22100%25%22%7D%29%3B%0A%0A%20%20%20%20%20%20%20%20%0A%20%20%20%20%20%20%20%20%20%20%20%20var%20html_f5a71f830d314f848838642132abd226%20%3D%20%24%28%60%3Cdiv%20id%3D%22html_f5a71f830d314f848838642132abd226%22%20style%3D%22width%3A%20100.0%25%3B%20height%3A%20100.0%25%3B%22%3EMMArena%3C/div%3E%60%29%5B0%5D%3B%0A%20%20%20%20%20%20%20%20%20%20%20%20popup_88cea94b286940cdb0d1399f16264746.setContent%28html_f5a71f830d314f848838642132abd226%29%3B%0A%20%20%20%20%20%20%20%20%0A%0A%20%20%20%20%20%20%20%20marker_2975e5638f5a4a8391d6436a877fb9bf.bindPopup%28popup_88cea94b286940cdb0d1399f16264746%29%0A%20%20%20%20%20%20%20%20%3B%0A%0A%20%20%20%20%20%20%20%20%0A%20%20%20%20%0A%20%20%20%20%0A%20%20%20%20%20%20%20%20%20%20%20%20map_0af8de1302314e18b268682d2664ab5b.fitBounds%28%0A%20%20%20%20%20%20%20%20%20%20%20%20%20%20%20%20%5B%5B43.26972222222222%2C%20-4.461666666666667%5D%2C%20%5B50.61194444444445%2C%207.755%5D%5D%2C%0A%20%20%20%20%20%20%20%20%20%20%20%20%20%20%20%20%7B%7D%0A%20%20%20%20%20%20%20%20%20%20%20%20%29%3B%0A%20%20%20%20%20%20%20%20%0A%3C/script%3E onload=\"this.contentDocument.open();this.contentDocument.write(    decodeURIComponent(this.getAttribute('data-html')));this.contentDocument.close();\" allowfullscreen webkitallowfullscreen mozallowfullscreen></iframe></div></div>"
   ]
  },
  {
   "cell_type": "markdown",
   "id": "91adf600",
   "metadata": {},
   "source": [
    "# Exercice 1 : Les pokémons (version non guidée)\n",
    "\n",
    "Pour cet exercice, nous vous demandons d'obtenir différentes informations sur les pokémons à partir du site internet [pokemondb.net](http://pokemondb.net/pokedex/national). \n",
    "\n",
    "1. les informations personnelles des ``893`` pokemons sur le site internet [pokemondb.net](http://pokemondb.net/pokedex/national). Les informations que nous aimerions obtenir au final dans un DataFrame  sont celles contenues dans 4 tableaux :\n",
    "\n",
    "- Pokédex data\n",
    "- Training\n",
    "- Breeding\n",
    "- Base stats\n",
    "\n",
    "2. Nous aimerions que vous récupériez également les images de chacun des pokémons et que vous les enregistriez dans un dossier  \n",
    "\n",
    "* Petit indice : utilisez les modules request et [shutil](https://docs.python.org/3/library/shutil.html)\n",
    "* Pour cette question, il faut que vous cherchiez de vous même certains éléments, tout n'est pas présent dans le TD."
   ]
  },
  {
   "cell_type": "markdown",
   "id": "8c1664bd",
   "metadata": {},
   "source": [
    "Pour la question 1, l'objectif est d'obtenir le code source d'un tableau comme\n",
    "celui qui suit\n",
    "(Pokemon [Nincada](http://pokemondb.net/pokedex/nincada).)\n",
    "\n",
    "<div class=\"grid-col span-md-6 span-lg-4\">\n",
    "<h2>Pokédex data</h2>\n",
    "<table class=\"vitals-table\">\n",
    "<tbody>\n",
    "<tr>\n",
    "<th>National №</th>\n",
    "<td><strong>290</strong></td>\n",
    "</tr>\n",
    "<tr>\n",
    "<th>Type</th>\n",
    "<td>\n",
    "<a class=\"type-icon type-bug\" href=\"/type/bug\">Bug</a> <a class=\"type-icon type-ground\" href=\"/type/ground\">Ground</a> </td>\n",
    "</tr>\n",
    "<tr>\n",
    "<th>Species</th>\n",
    "<td>Trainee Pokémon</td>\n",
    "</tr>\n",
    "<tr>\n",
    "<th>Height</th>\n",
    "<td>0.5&nbsp;m (1′08″)</td>\n",
    "</tr>\n",
    "<tr>\n",
    "<th>Weight</th>\n",
    "<td>5.5&nbsp;kg (12.1&nbsp;lbs)</td>\n",
    "</tr>\n",
    "<tr>\n",
    "<th>Abilities</th>\n",
    "<td><span class=\"text-muted\">1. <a href=\"/ability/compound-eyes\" title=\"The Pokémon's accuracy is boosted.\">Compound Eyes</a></span><br><small class=\"text-muted\"><a href=\"/ability/run-away\" title=\"Enables a sure getaway from wild Pokémon.\">Run Away</a> (hidden ability)</small><br></td>\n",
    "</tr>\n",
    "<tr>\n",
    "<th>Local №</th>\n",
    "<td>042 <small class=\"text-muted\">(Ruby/Sapphire/Emerald)</small><br>111 <small class=\"text-muted\">(X/Y — Central Kalos)</small><br>043 <small class=\"text-muted\">(Omega Ruby/Alpha Sapphire)</small><br>104 <small class=\"text-muted\">(Sword/Shield)</small><br></td>\n",
    "</tr>\n",
    "</tbody>\n",
    "</table>\n",
    "</div>"
   ]
  },
  {
   "cell_type": "markdown",
   "id": "3014aa36",
   "metadata": {},
   "source": [
    "<div class=\"grid-col span-md-12 span-lg-4\">\n",
    "<div class=\"grid-row\">\n",
    "<div class=\"grid-col span-md-6 span-lg-12\">\n",
    "<h2>Training</h2>\n",
    "<table class=\"vitals-table\">\n",
    "<tbody>\n",
    "<tr>\n",
    "<th>EV yield</th>\n",
    "<td class=\"text\">\n",
    "1 Defense </td>\n",
    "</tr>\n",
    "<tr>\n",
    "<th>Catch rate</th>\n",
    "<td>255 <small class=\"text-muted\">(33.3% with PokéBall, full HP)</small></td>\n",
    "</tr>\n",
    "<tr>\n",
    "<th>Base <a href=\"/glossary#def-friendship\">Friendship</a></th>\n",
    "<td>70 <small class=\"text-muted\">(normal)</small></td>\n",
    "</tr>\n",
    "<tr>\n",
    "<th>Base Exp.</th>\n",
    "<td>53</td>\n",
    "</tr>\n",
    "<tr>\n",
    "<th>Growth Rate</th>\n",
    "<td>Erratic</td>\n",
    "</tr>\n",
    "</tbody>\n",
    "</table>\n",
    "</div>\n",
    "<div class=\"grid-col span-md-6 span-lg-12\">\n",
    "<h2>Breeding</h2>\n",
    "<table class=\"vitals-table\">\n",
    "<tbody>\n",
    "<tr>\n",
    "<th>Egg Groups</th>\n",
    "<td>\n",
    "<a href=\"/egg-group/bug\">Bug</a> </td>\n",
    "</tr>\n",
    "<tr>\n",
    "<th>Gender</th>\n",
    "<td><span class=\"text-blue\">50% male</span>, <span class=\"text-pink\">50% female</span></td> </tr>\n",
    "<tr>\n",
    "<th><a href=\"/glossary#def-eggcycle\">Egg cycles</a></th>\n",
    "<td>15 <small class=\"text-muted\">(3,599–3,855 steps)</small>\n",
    "</td>\n",
    "</tr>\n",
    "</tbody>\n",
    "</table>\n",
    "</div>\n",
    "</div>\n",
    "</div>\n",
    "\n",
    "<div class=\"grid-col span-md-12 span-lg-8\">\n",
    "<div id=\"dex-stats\"></div>\n",
    "<h2>Base stats</h2>\n",
    "<div class=\"resp-scroll\">\n",
    "<table class=\"vitals-table\">\n",
    "<tbody>\n",
    "<tr>\n",
    "<th>HP</th>\n",
    "<td class=\"cell-num\">31</td>\n",
    "<td class=\"cell-barchart\">\n",
    "<div style=\"width:17.22%;\" class=\"barchart-bar barchart-rank-2 \"></div>\n",
    "</td>\n",
    "<td class=\"cell-num\">172</td>\n",
    "<td class=\"cell-num\">266</td>\n",
    "</tr>\n",
    "<tr>\n",
    "<th>Attack</th>\n",
    "<td class=\"cell-num\">45</td>\n",
    "<td class=\"cell-barchart\">\n",
    "<div style=\"width:25.00%;\" class=\"barchart-bar barchart-rank-2 \"></div>\n",
    "</td>\n",
    "<td class=\"cell-num\">85</td>\n",
    "<td class=\"cell-num\">207</td>\n",
    "</tr>\n",
    "<tr>\n",
    "<th>Defense</th>\n",
    "<td class=\"cell-num\">90</td>\n",
    "<td class=\"cell-barchart\">\n",
    "<div style=\"width:50.00%;\" class=\"barchart-bar barchart-rank-4 \"></div>\n",
    "</td>\n",
    "<td class=\"cell-num\">166</td>\n",
    "<td class=\"cell-num\">306</td>\n",
    "</tr>\n",
    "<tr>\n",
    "<th>Sp. Atk</th>\n",
    "<td class=\"cell-num\">30</td>\n",
    "<td class=\"cell-barchart\">\n",
    "<div style=\"width:16.67%;\" class=\"barchart-bar barchart-rank-2 \"></div>\n",
    "</td>\n",
    "<td class=\"cell-num\">58</td>\n",
    "<td class=\"cell-num\">174</td>\n",
    "</tr>\n",
    "<tr>\n",
    "<th>Sp. Def</th>\n",
    "<td class=\"cell-num\">30</td>\n",
    "<td class=\"cell-barchart\">\n",
    "<div style=\"width:16.67%;\" class=\"barchart-bar barchart-rank-2 \"></div>\n",
    "</td>\n",
    "<td class=\"cell-num\">58</td>\n",
    "<td class=\"cell-num\">174</td>\n",
    "</tr>\n",
    "<tr>\n",
    "<th>Speed</th>\n",
    "<td class=\"cell-num\">40</td>\n",
    "<td class=\"cell-barchart\">\n",
    "<div style=\"width:22.22%;\" class=\"barchart-bar barchart-rank-2 \"></div>\n",
    "</td>\n",
    "<td class=\"cell-num\">76</td>\n",
    "<td class=\"cell-num\">196</td>\n",
    "</tr>\n",
    "</tbody>\n",
    "<tfoot>\n",
    "<tr>\n",
    "<th>Total</th>\n",
    "<td class=\"cell-total\"><b>266</b></td>\n",
    "<th class=\"cell-barchart\"></th>\n",
    "<th>Min</th>\n",
    "<th>Max</th>\n",
    "</tr>\n",
    "</tfoot>\n",
    "</table>\n",
    "</div>\n",
    "</div>"
   ]
  },
  {
   "cell_type": "markdown",
   "id": "3ff4f05a",
   "metadata": {},
   "source": [
    "# Exercice 1 : Les pokémons (version guidée)"
   ]
  },
  {
   "cell_type": "markdown",
   "id": "cc08599e",
   "metadata": {},
   "source": [
    "Pour cet exercice, nous vous demandons d'obtenir différentes informations sur les pokémons à partir du site internet [pokemondb.net](http://pokemondb.net/pokedex/national). \n",
    "\n",
    "## Etape 1\n",
    "\n",
    "Nous souhaitons tout d'abord obtenir les informations personnelles des ``893`` pokemons sur [pokemondb.net](http://pokemondb.net/pokedex/national). Les informations que nous aimerions obtenir au final pour les pokemons sont celles contenues dans 4 tableaux :\n",
    "\n",
    "- Pokédex data\n",
    "- Training\n",
    "- Breeding\n",
    "- Base stats\n",
    "\n",
    "Plus haut est disponible un exemple.\n",
    "\n",
    "Pour cela, le code devra être divisé en plusieurs étapes : \n",
    "\n",
    "1. Trouvez la page principale du site et la transformez en un objet intelligible pour votre code. Les fonctions suivantes vous seront utiles :\n",
    "- `urllib.request.Request`\n",
    "- `urllib.request.urlopen`\n",
    "- `bs4.BeautifulSoup`\n",
    "\n",
    "Pour ce site, par rapport à tout à l'heure,\n",
    "il faudra ajouter un paramètre supplémentaire à la fonction `Request`:\n",
    "\n",
    "~~~python\n",
    "urllib.request.Request( www.sitequinousintéresse.com ,headers={'User-Agent': 'Mozilla/5.0'})\n",
    "~~~\n"
   ]
  },
  {
   "cell_type": "markdown",
   "id": "0fa1fa12",
   "metadata": {},
   "source": [
    "2. Créez une fonction qui permet de récupérer la page d'un pokémon à partir de son nom.\n"
   ]
  },
  {
   "cell_type": "markdown",
   "id": "2c7757fe",
   "metadata": {},
   "source": [
    "3. A partir de la page de ``bulbasaur``, obtenez les 4 tableaux qui nous intéressent :\n",
    "- on va chercher l'élément suivant : `('table', { 'class' : \"vitals-table\"})`\n",
    "- puis stocker ses éléments dans un dictionnaire\n"
   ]
  },
  {
   "cell_type": "markdown",
   "id": "f4c8ff8c",
   "metadata": {},
   "source": [
    "Vous devriez obtenir une liste de caractéristiques proche de celle-ci\n",
    "(la structure est ici en dictionnaire, ce qui est pratique)"
   ]
  },
  {
   "cell_type": "markdown",
   "id": "c63d8068",
   "metadata": {},
   "source": [
    "```\n",
    "## Error in py_call_impl(callable, dots$args, dots$keywords): TypeError: 'dict' object is not callable\n",
    "## \n",
    "## Detailed traceback: \n",
    "##   File \"<string>\", line 1, in <module>\n",
    "##   File \"<string>\", line 13, in get_cara_pokemon\n",
    "```\n",
    "\n",
    "4. Récupérez par ailleurs la liste de noms des pokémons qui nous permettra de faire une boucle par la suite. Combien trouvez-vous de pokémons ? \n"
   ]
  },
  {
   "cell_type": "markdown",
   "id": "e557bceb",
   "metadata": {},
   "source": [
    "5. Ecrire une fonction qui récupère l'ensemble des informations sur les dix premiers pokémons de la liste et les intègre dans un data.frame\n",
    "\n",
    "\n",
    "\n"
   ]
  },
  {
   "cell_type": "markdown",
   "id": "78185b4e",
   "metadata": {},
   "source": [
    "## Etape 2\n",
    "\n",
    "Nous aimerions que vous récupériez également les images des 5 premiers pokémons et que vous les enregistriez dans un dossier  \n",
    "\n",
    ":idea: Utilisez les modules `request` et [`shutil`](https://docs.python.org/3/library/shutil.html))\n",
    "\n",
    "_pour cette question, il faut que vous cherchiez de vous même certains éléments, tout n'est pas présent dans le TD_.\n",
    "\n",
    "\n",
    "\n",
    "\n",
    "\n",
    "\n"
   ]
  },
  {
   "cell_type": "markdown",
   "id": "2c718d59",
   "metadata": {},
   "source": [
    "# Exercice supplémentaire [BONUS]"
   ]
  },
  {
   "cell_type": "markdown",
   "id": "b6b11c43",
   "metadata": {},
   "source": [
    "Scraper la liste des ministres français depuis wikipedia. Faire une graphique qui représente la distribution de leur âge.\n",
    "\n",
    "Si vous avez une solution satisfaisante, n'hésitez pas à la soumettre\n",
    "sur <a href=\"https://github.com/linogaliana/python-datascientist\" class=\"github\"><i class=\"fab fa-github\"></i></a>\n",
    "(car je n'ai pas encore testé...)\n"
   ]
  },
  {
   "cell_type": "markdown",
   "id": "d472ef2e",
   "metadata": {},
   "source": [
    "# Application : Aller sur internet avec Selenium\n",
    "\n",
    "Jusqu'à présent, nous avons raisonné comme si nous connaissions toujours l'url qui nous intéresse. De plus, les pages que nous visitons sont \"statiques\", elles ne dépendent pas d'une action ou d'une recherche de l'internaute. \n",
    "\n",
    "Nous allons voir à présent comment nous en sortir pour remplir des champs sur un site web et récupérer ce qui nous intéresse. \n",
    "\n",
    "L'avantage du package [Selenium](https://pypi.python.org/pypi/selenium) est d'obtenir des informations du site qui ne sont pas dans le code html mais qui apparaissent uniquement à la suite de l'exécution de script javascript en arrière plan. \n",
    "\n",
    "Selenium se comporte comme un utilisateur lambda sur internet : il clique sur des liens, il remplit des formulaires etc. Dans cet exemple, nous allons essayer de aller sur le site de [Bing Actualités](https://www.bing.com/news) et entrer dans la barre de recherche un sujet donné (Trump). \n",
    "\n",
    "La version de [chromedriver](https://sites.google.com/a/chromium.org/chromedriver/) doit être ``>= 2.36`` et dépend de la version de Chrome que vous avez sur votre poste.\n"
   ]
  },
  {
   "cell_type": "code",
   "execution_count": null,
   "id": "6e09de50",
   "metadata": {
    "lines_to_next_cell": 0
   },
   "outputs": [],
   "source": [
    "# Si selenium n'est pas installé.\n",
    "# #!pip install selenium"
   ]
  },
  {
   "cell_type": "markdown",
   "id": "b328a3c3",
   "metadata": {},
   "source": [
    "\n"
   ]
  },
  {
   "cell_type": "code",
   "execution_count": null,
   "id": "3e0553b0",
   "metadata": {
    "lines_to_next_cell": 2
   },
   "outputs": [],
   "source": [
    "# Sur votre poste  \n",
    "# télécharger le chrome driver https://chromedriver.storage.googleapis.com/index.html?path=85.0.4183.83/\n",
    "\n",
    "# Sur google colab \n",
    "# https://stackoverflow.com/questions/51046454/how-can-we-use-selenium-webdriver-in-colab-research-google-com\n",
    "!apt-get update # to update ubuntu to correctly run apt install\n",
    "!apt install chromium-chromedriver\n",
    "!cp /usr/lib/chromium-browser/chromedriver /usr/bin\n",
    "import sys\n",
    "sys.path.insert(0,'/usr/lib/chromium-browser/chromedriver')"
   ]
  },
  {
   "cell_type": "code",
   "execution_count": null,
   "id": "aedc4b1b",
   "metadata": {},
   "outputs": [],
   "source": [
    "import selenium\n",
    "path_to_web_driver = \"chromedriver\""
   ]
  },
  {
   "cell_type": "markdown",
   "id": "ab911afe",
   "metadata": {},
   "source": [
    "On va sur le site de Bing Actualités, et on lui indique le mot clé que nous souhaitons chercher. \n",
    "\n",
    "Dans cet exemple, on va voir que l'ordinateur va ouvrir une nouvelle fenêtre.\n"
   ]
  },
  {
   "cell_type": "code",
   "execution_count": null,
   "id": "4e963ab9",
   "metadata": {
    "lines_to_next_cell": 2
   },
   "outputs": [],
   "source": [
    "import time\n",
    "\n",
    "from selenium import webdriver\n",
    "from selenium.webdriver.common.keys import Keys\n",
    "\n",
    "chrome_options = webdriver.ChromeOptions()\n",
    "chrome_options.add_argument('--headless')\n",
    "chrome_options.add_argument('--no-sandbox')\n",
    "#chrome_options.add_argument('--verbose') \n",
    "#chrome_options.add_argument('--disable-dev-shm-usage')\n",
    "\n",
    "browser = webdriver.Chrome(executable_path=path_to_web_driver,\n",
    "                           options=chrome_options)\n",
    "\n",
    "browser.get('https://www.bing.com/news')\n",
    "\n",
    "# on cherche l'endroit où on peut remplir un formulaire\n",
    "# en utilisant les outils du navigateur > inspecter les éléments de la page\n",
    "# on voit que la barre de recherche est un élement du code appelé 'q' comme query\n",
    "# on lui demande de chercher cet élément\n",
    "\n",
    "search = browser.find_element_by_name('q')\n",
    "print(search)\n",
    "print([search.text, search.tag_name, search.id])\n",
    "\n",
    "# on envoie à cet endroit le mot qu'on aurait tapé dans la barre de recherche\n",
    "search.send_keys(\"Trump\")\n",
    "\n",
    "search_button = browser.find_element_by_xpath(\"//input[@id='sb_form_go']\")\n",
    "\n",
    "#search_button = browser.find_element_by_id('search_button_homepage')\n",
    " \n",
    "search_button.click()\n",
    "\n",
    "# on appuie sur le bouton \"Entrée\" Return en anglais\n",
    "#search.send_keys(Keys.RETURN)"
   ]
  },
  {
   "cell_type": "code",
   "execution_count": null,
   "id": "ca822e2c",
   "metadata": {},
   "outputs": [],
   "source": [
    "png = browser.get_screenshot_as_png()"
   ]
  },
  {
   "cell_type": "markdown",
   "id": "8e1816c3",
   "metadata": {},
   "source": [
    "```\n",
    "## Error in py_call_impl(callable, dots$args, dots$keywords): NameError: name 'browser' is not defined\n",
    "## \n",
    "## Detailed traceback: \n",
    "##   File \"<string>\", line 1, in <module>\n",
    "```\n"
   ]
  },
  {
   "cell_type": "code",
   "execution_count": null,
   "id": "e3b890bc",
   "metadata": {},
   "outputs": [],
   "source": [
    "from IPython.display import Image\n",
    "Image(png, width='500')"
   ]
  },
  {
   "cell_type": "markdown",
   "id": "9f54ebbd",
   "metadata": {},
   "source": [
    "```\n",
    "## Error in py_call_impl(callable, dots$args, dots$keywords): NameError: name 'png' is not defined\n",
    "## \n",
    "## Detailed traceback: \n",
    "##   File \"<string>\", line 1, in <module>\n",
    "```\n",
    "\n",
    "On extrait les résultats.\n"
   ]
  },
  {
   "cell_type": "code",
   "execution_count": null,
   "id": "52406f70",
   "metadata": {},
   "outputs": [],
   "source": [
    "from selenium.common.exceptions import StaleElementReferenceException\n",
    "links = browser.find_elements_by_xpath(\"//div/a[@class='title'][@href]\")"
   ]
  },
  {
   "cell_type": "markdown",
   "id": "13031c53",
   "metadata": {},
   "source": [
    "```\n",
    "## Error in py_call_impl(callable, dots$args, dots$keywords): NameError: name 'browser' is not defined\n",
    "## \n",
    "## Detailed traceback: \n",
    "##   File \"<string>\", line 1, in <module>\n",
    "```"
   ]
  },
  {
   "cell_type": "code",
   "execution_count": null,
   "id": "3611ebb1",
   "metadata": {},
   "outputs": [],
   "source": [
    "results = []\n",
    "for link in links:\n",
    "    try:\n",
    "        url = link.get_attribute('href')\n",
    "    except StaleElementReferenceException as e:\n",
    "        print(\"Issue with '{0}' and '{1}'\".format(url, link))\n",
    "        print(\"It might be due to slow javascript which produces the HTML page.\")\n",
    "    results.append(url)"
   ]
  },
  {
   "cell_type": "markdown",
   "id": "e3aa9964",
   "metadata": {},
   "source": [
    "```\n",
    "## Error in py_call_impl(callable, dots$args, dots$keywords): NameError: name 'links' is not defined\n",
    "## \n",
    "## Detailed traceback: \n",
    "##   File \"<string>\", line 1, in <module>\n",
    "```"
   ]
  },
  {
   "cell_type": "code",
   "execution_count": null,
   "id": "09185c78",
   "metadata": {},
   "outputs": [],
   "source": [
    "len(results)"
   ]
  },
  {
   "cell_type": "markdown",
   "id": "e60ae109",
   "metadata": {},
   "source": [
    "```\n",
    "## 0\n",
    "```\n"
   ]
  },
  {
   "cell_type": "code",
   "execution_count": null,
   "id": "b644b164",
   "metadata": {},
   "outputs": [],
   "source": [
    "# on a une pause de 10 secondes pour aller voir ce qui se passe sur la page internet\n",
    "# on demande de quitter le navigateur quand tout est fini\n",
    "browser.quit()"
   ]
  },
  {
   "cell_type": "markdown",
   "id": "70713dfe",
   "metadata": {},
   "source": [
    "```\n",
    "## Error in py_call_impl(callable, dots$args, dots$keywords): NameError: name 'browser' is not defined\n",
    "## \n",
    "## Detailed traceback: \n",
    "##   File \"<string>\", line 1, in <module>\n",
    "```\n"
   ]
  },
  {
   "cell_type": "code",
   "execution_count": null,
   "id": "2fd5107d",
   "metadata": {},
   "outputs": [],
   "source": [
    "print(results)"
   ]
  },
  {
   "cell_type": "markdown",
   "id": "3a2d7316",
   "metadata": {},
   "source": [
    "```\n",
    "## []\n",
    "```\n",
    "\n",
    "### Utiliser selenium pour jouer à 2048\n",
    "\n",
    "Dans cet exemple, on utilise le module pour que python appuie lui même sur les touches du clavier afin de jouer à 2048.\n",
    "\n",
    "Note : ce bout de code ne donne pas une solution à 2048, il permet juste de voir ce qu'on peut faire avec selenium\n"
   ]
  },
  {
   "cell_type": "code",
   "execution_count": null,
   "id": "218b0a7f",
   "metadata": {},
   "outputs": [],
   "source": [
    "from selenium import webdriver\n",
    "from selenium.webdriver.common.keys import Keys\n",
    "\n",
    "# on ouvre la page internet du jeu 2048\n",
    "\n",
    "browser = webdriver.Chrome(executable_path=path_to_web_driver,\n",
    "                           options=chrome_options)"
   ]
  },
  {
   "cell_type": "markdown",
   "id": "1c98a4cd",
   "metadata": {},
   "source": [
    "```\n",
    "## Error in py_call_impl(callable, dots$args, dots$keywords): NameError: name 'chrome_options' is not defined\n",
    "## \n",
    "## Detailed traceback: \n",
    "##   File \"<string>\", line 2, in <module>\n",
    "```"
   ]
  },
  {
   "cell_type": "code",
   "execution_count": null,
   "id": "59e401d5",
   "metadata": {},
   "outputs": [],
   "source": [
    "browser.get('https://play2048.co//')\n",
    "\n",
    "# Ce qu'on va faire : une boucle qui répète inlassablement la même chose : haut / droite / bas / gauche\n",
    "\n",
    "# on commence par cliquer sur la page pour que les touches sachent "
   ]
  },
  {
   "cell_type": "markdown",
   "id": "514594c1",
   "metadata": {},
   "source": [
    "```\n",
    "## Error in py_call_impl(callable, dots$args, dots$keywords): NameError: name 'browser' is not defined\n",
    "## \n",
    "## Detailed traceback: \n",
    "##   File \"<string>\", line 1, in <module>\n",
    "```"
   ]
  },
  {
   "cell_type": "code",
   "execution_count": null,
   "id": "95b30c7e",
   "metadata": {},
   "outputs": [],
   "source": [
    "browser.find_element_by_class_name('grid-container').click()"
   ]
  },
  {
   "cell_type": "markdown",
   "id": "f747e523",
   "metadata": {},
   "source": [
    "```\n",
    "## Error in py_call_impl(callable, dots$args, dots$keywords): NameError: name 'browser' is not defined\n",
    "## \n",
    "## Detailed traceback: \n",
    "##   File \"<string>\", line 1, in <module>\n",
    "```"
   ]
  },
  {
   "cell_type": "code",
   "execution_count": null,
   "id": "5a858469",
   "metadata": {},
   "outputs": [],
   "source": [
    "grid = browser.find_element_by_tag_name('body')\n",
    "\n",
    "# pour savoir quels coups faire à quel moment, on crée un dictionnaire"
   ]
  },
  {
   "cell_type": "markdown",
   "id": "5a4c44e2",
   "metadata": {},
   "source": [
    "```\n",
    "## Error in py_call_impl(callable, dots$args, dots$keywords): NameError: name 'browser' is not defined\n",
    "## \n",
    "## Detailed traceback: \n",
    "##   File \"<string>\", line 1, in <module>\n",
    "```"
   ]
  },
  {
   "cell_type": "code",
   "execution_count": null,
   "id": "1af12a9a",
   "metadata": {},
   "outputs": [],
   "source": [
    "direction = {0: Keys.UP, 1: Keys.RIGHT, 2: Keys.DOWN, 3: Keys.LEFT}\n",
    "count = 0\n",
    "\n",
    "while True:\n",
    "    try: # on vérifie que le bouton \"Try again\" n'est pas là - sinon ça veut dire que le jeu est fini\n",
    "        retryButton = browser.find_element_by_link_text('Try again')\n",
    "        scoreElem = browser.find_element_by_class_name('score-container')\n",
    "        break\n",
    "    except:\n",
    "        #Do nothing.  Game is not over yet\n",
    "        pass\n",
    "    # on continue le jeu - on appuie sur la touche suivante pour le coup d'après\n",
    "    count += 1\n",
    "    grid.send_keys(direction[count % 4]) \n",
    "    time.sleep(0.1)"
   ]
  },
  {
   "cell_type": "markdown",
   "id": "e79dbec5",
   "metadata": {},
   "source": [
    "```\n",
    "## Error in py_call_impl(callable, dots$args, dots$keywords): NameError: name 'grid' is not defined\n",
    "## \n",
    "## Detailed traceback: \n",
    "##   File \"<string>\", line 11, in <module>\n",
    "```"
   ]
  },
  {
   "cell_type": "code",
   "execution_count": null,
   "id": "ad23b4f1",
   "metadata": {},
   "outputs": [],
   "source": [
    "print('Score final : {} en {} coups'.format(scoreElem.text, count))    "
   ]
  },
  {
   "cell_type": "markdown",
   "id": "3e876d8a",
   "metadata": {},
   "source": [
    "```\n",
    "## Error in py_call_impl(callable, dots$args, dots$keywords): NameError: name 'scoreElem' is not defined\n",
    "## \n",
    "## Detailed traceback: \n",
    "##   File \"<string>\", line 1, in <module>\n",
    "```"
   ]
  },
  {
   "cell_type": "code",
   "execution_count": null,
   "id": "12bee162",
   "metadata": {},
   "outputs": [],
   "source": [
    "browser.quit()"
   ]
  },
  {
   "cell_type": "markdown",
   "id": "6887ef87",
   "metadata": {},
   "source": [
    "```\n",
    "## Error in py_call_impl(callable, dots$args, dots$keywords): NameError: name 'browser' is not defined\n",
    "## \n",
    "## Detailed traceback: \n",
    "##   File \"<string>\", line 1, in <module>\n",
    "```"
   ]
  }
 ],
 "metadata": {
  "kernelspec": {
   "display_name": "Python 3",
   "language": "python",
   "name": "python3"
  }
 },
 "nbformat": 4,
 "nbformat_minor": 5
}
