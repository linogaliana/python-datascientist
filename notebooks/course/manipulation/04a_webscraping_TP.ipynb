{
  "cells": [
    {
      "cell_type": "markdown",
      "metadata": {},
      "source": [
        "# Webscraping avec python"
      ],
      "id": "ad8dcd2f-8367-4d62-9585-7ae7ea355f46"
    },
    {
      "cell_type": "raw",
      "metadata": {
        "raw_mimetype": "text/html"
      },
      "source": [
        "<p class=\"badges\">"
      ],
      "id": "1749bb03-11da-469c-9d99-ea8dc1428e8a"
    },
    {
      "cell_type": "markdown",
      "metadata": {},
      "source": [
        "<a href=\"https://github.com/linogaliana/python-datascientist/blob/master/notebooks/course/manipulation/04_webscraping_TP.ipynb\" class=\"github\"><i class=\"fab fa-github\"></i></a>\n",
        "<a href=\"https://downgit.github.io/#/home?url=https://github.com/linogaliana/python-datascientist/blob/master/notebooks/course/manipulation/04_webscraping_TP.ipynb\" target=\"_blank\" rel=\"noopener\"><img src=\"https://img.shields.io/badge/Download-Notebook-important?logo=Jupyter\" alt=\"Download\"></a>\n",
        "<a href=\"https://nbviewer.jupyter.org/github/linogaliana/python-datascientist/blob/master/notebooks/course/manipulation/04_webscraping_TP.ipynb\" target=\"_blank\" rel=\"noopener\"><img src=\"https://img.shields.io/badge/Visualize-nbviewer-blue?logo=Jupyter\" alt=\"nbviewer\"></a>\n",
        "<a href=\"https://datalab.sspcloud.fr/launcher/inseefrlab-helm-charts-datascience/jupyter?autoLaunch=true&onyxia.friendlyName=%C2%ABpython-datascience%C2%BB&init.personalInit=%C2%ABhttps%3A%2F%2Fraw.githubusercontent.com%2Flinogaliana%2Fpython-datascientist%2Fmaster%2Fsspcloud%2Finit-jupyter.sh%C2%BB&init.personalInitArgs=%C2%ABnotebooks/course/manipulation%2004_webscraping_TP.ipynb%C2%BB&security.allowlist.enabled=false\" target=\"_blank\" rel=\"noopener\"><img src=\"https://img.shields.io/badge/SSPcloud-Tester%20via%20SSP--cloud-informational&amp;color=yellow?logo=Python\" alt=\"Onyxia\"></a><br>\n",
        "<a href=\"https://mybinder.org/v2/gh/linogaliana/python-datascientist/master?filepath={binder_path}\" target=\"_blank\" rel=\"noopener\"><img src=\"https://img.shields.io/badge/Launch-Binder-E66581.svg?logo=data:image/png;base64,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\" alt=\"Binder\"></a>\n",
        "<a href=\"http://colab.research.google.com/github/linogaliana/python-datascientist/blob/master/notebooks/course/manipulation/04_webscraping_TP.ipynb\" target=\"_blank\" rel=\"noopener\"><img src=\"https://colab.research.google.com/assets/colab-badge.svg\" alt=\"Open In Colab\"></a>\n",
        "<a href=\"https://github.dev/linogaliana/python-datascientist/notebooks/course/manipulation/04_webscraping_TP.ipynb\" target=\"_blank\" rel=\"noopener\"><img src=\"https://img.shields.io/static/v1?logo=visualstudiocode&label=&message=Open%20in%20Visual%20Studio%20Code&labelColor=2c2c32&color=007acc&logoColor=007acc\" alt=\"githubdev\"></a>"
      ],
      "id": "47818389-e59a-4f19-9140-7aa7086cebb0"
    },
    {
      "cell_type": "raw",
      "metadata": {
        "raw_mimetype": "text/html"
      },
      "source": [
        "</p>"
      ],
      "id": "4b3a9660-69c0-4b99-aef8-ffb0073c64d9"
    },
    {
      "cell_type": "raw",
      "metadata": {
        "raw_mimetype": "text/html"
      },
      "source": [
        "</p>"
      ],
      "id": "75717855-4e8b-424c-9c57-c914d75e74c1"
    },
    {
      "cell_type": "markdown",
      "metadata": {},
      "source": [
        "Le [webscraping](https://fr.wikipedia.org/wiki/Web_scraping) désigne les techniques d’extraction du contenu des sites internet. C’est une pratique très utile pour toute personne souhaitant travailler sur des informations disponibles en ligne, mais n’existant pas forcément sous la forme d’un tableau *Excel*.\n",
        "\n",
        "Ce TP vous présente comment créer et exécuter des robots afin de recupérer rapidement des informations utiles à vos projets actuels ou futurs.\n",
        "\n",
        "Le *webscraping* a un certain nombre d’enjeux en termes de légalité, qui ne seront pas enseignés dans ce cours mais dans un cours de 3A à l’ENSAE. En particulier, la CNIL a publié en 2020 de nouvelles directives sur le *webscraping* reprécisant que toute donnée ne peut être réutilisée à l’insu de la personne à laquelle ces données appartiennent.\n",
        "\n",
        "Enfin, il est à noter que ce notebook est très fortement inspiré et réadapté à partir de [celui de Xavier Dupré](http://www.xavierdupre.fr/app/ensae_teaching_cs/helpsphinx/notebooks/TD2A_Eco_Web_Scraping.html), l’ancien professeur de la matière.\n",
        "\n",
        "# Un détour par le Web : comment fonctionne un site ?\n",
        "\n",
        "Même si ce TP ne vise pas à faire un cours de web, il vous faut néanmoins certaines bases sur la manière dont un site internet fonctionne afin de comprendre comment sont structurées les informations sur une page.\n",
        "\n",
        "Un site Web est un ensemble de pages codées en *HTML* qui permet de décrire à la fois le contenu et la forme d’une page *Web*.\n",
        "\n",
        "Pour voir cela, ouvrez n’importe quelle page web et faites un clic-droit dessus.\n",
        "- Sous `Chrome` <i class=\"fab fa-chrome\"></i> : Cliquez ensuite sur “Affichez le code source de la page” (<kbd>CTRL</kbd>+<kbd>U</kbd>) ;\n",
        "- Sous `Firefox` <i class=\"fab fa-firefox\"></i> : “Code source de la page” (<kbd>CTRL</kbd>+<kbd>MAJ</kbd>+<kbd>K</kbd>) ;\n",
        "- Sous `Edge` <i class=\"fab fa-edge\"></i> : “Affichez la page source” (<kbd>CTRL</kbd>+<kbd>U</kbd>) ;\n",
        "- Sous `Safari` <i class=\"fab fa-safari\"></i> : voir comment faire [ici](https://fr.wikihow.com/voir-le-code-source)\n",
        "\n",
        "## Les balises\n",
        "\n",
        "Sur une page web, vous trouverez toujours à coup sûr des éléments comme `<head>`, `<title>`, etc. Il s’agit des codes qui vous permettent de structurer le contenu d’une page *HTML* et qui s’appellent des **balises**.\n",
        "Citons, par exemple, les balises `<p>`, `<h1>`, `<h2>`, `<h3>`, `<strong>` ou `<em>`.\n",
        "Le symbole `< >` est une balise : il sert à indiquer le début d’une partie. Le symbole `</ >` indique la fin de cette partie. La plupart des balises vont par paires, avec une *balise ouvrante* et une *balise fermante* (par exemple `<p>` et `</p>`).\n",
        "\n",
        "### Exemple : les balise des tableaux\n",
        "\n",
        "| Balise      | Description                     |\n",
        "|-------------|---------------------------------|\n",
        "| `<table>`   | Tableau                         |\n",
        "| `<caption>` | Titre du tableau                |\n",
        "| `<tr>`      | Ligne de tableau                |\n",
        "| `<th>`      | Cellule d’en-tête               |\n",
        "| `<td>`      | Cellule                         |\n",
        "| `<thead>`   | Section de l’en-tête du tableau |\n",
        "| `<tbody>`   | Section du corps du tableau     |\n",
        "| `<tfoot>`   | Section du pied du tableau      |\n",
        "\n",
        "**Application : un tableau en HTML**\n",
        "\n",
        "Le code *HTML* du tableau suivant\n",
        "\n",
        "``` {html}\n",
        "<table>\n",
        "<caption> Le Titre de mon tableau </caption>\n",
        "\n",
        "   <tr>\n",
        "      <th>Prénom</th>\n",
        "      <th>Nom</th>\n",
        "      <th>Profession</th>\n",
        "   </tr>\n",
        "   <tr>\n",
        "      <td>Mike </td>\n",
        "      <td>Stuntman</td>\n",
        "      <td>Cascadeur</td>\n",
        "   </tr>\n",
        "   <tr>\n",
        "      <td>Mister</td>\n",
        "      <td>Pink</td>\n",
        "      <td>Gangster</td>\n",
        "   </tr>\n",
        "</table>\n",
        "```\n",
        "\n",
        "Donnera dans le navigateur :"
      ],
      "id": "be23358c-a1fd-4b48-92c8-994a64dc7ae7"
    },
    {
      "cell_type": "raw",
      "metadata": {
        "raw_mimetype": "text/html"
      },
      "source": [
        "<table>"
      ],
      "id": "43c10e81-9ce7-4c00-bcc3-1b203511c1c2"
    },
    {
      "cell_type": "raw",
      "metadata": {
        "raw_mimetype": "text/html"
      },
      "source": [
        "<caption>"
      ],
      "id": "7355bb0a-b66a-44fc-aa5a-426bfded830b"
    },
    {
      "cell_type": "markdown",
      "metadata": {},
      "source": [
        "Le Titre de mon tableau"
      ],
      "id": "d58eb124-419f-463c-b71c-d17b6b5b8c7e"
    },
    {
      "cell_type": "raw",
      "metadata": {
        "raw_mimetype": "text/html"
      },
      "source": [
        "</caption>"
      ],
      "id": "6891357a-4365-43e2-bf90-67f33ea2c18e"
    },
    {
      "cell_type": "raw",
      "metadata": {
        "raw_mimetype": "text/html"
      },
      "source": [
        "<tr>"
      ],
      "id": "ed15c0bb-172e-4326-9689-17b437840201"
    },
    {
      "cell_type": "raw",
      "metadata": {
        "raw_mimetype": "text/html"
      },
      "source": [
        "<th>"
      ],
      "id": "1b46541a-e33c-4aba-9e95-0ac4c0124091"
    },
    {
      "cell_type": "markdown",
      "metadata": {},
      "source": [
        "Prénom"
      ],
      "id": "2f07eea7-6a68-4c4f-ba57-c87dfc3c7969"
    },
    {
      "cell_type": "raw",
      "metadata": {
        "raw_mimetype": "text/html"
      },
      "source": [
        "</th>"
      ],
      "id": "21c76dee-0464-47f5-be2d-73dd982c9b7e"
    },
    {
      "cell_type": "raw",
      "metadata": {
        "raw_mimetype": "text/html"
      },
      "source": [
        "<th>"
      ],
      "id": "e296fb41-571b-4b7e-b4f0-5cdd865725fe"
    },
    {
      "cell_type": "markdown",
      "metadata": {},
      "source": [
        "Nom"
      ],
      "id": "c7a842fd-96d5-4bce-9221-77ce1a2758ef"
    },
    {
      "cell_type": "raw",
      "metadata": {
        "raw_mimetype": "text/html"
      },
      "source": [
        "</th>"
      ],
      "id": "56b382f5-2fe4-4eca-9bad-373e3d91629b"
    },
    {
      "cell_type": "raw",
      "metadata": {
        "raw_mimetype": "text/html"
      },
      "source": [
        "<th>"
      ],
      "id": "5e3dd88f-97e9-46ef-a8cc-55e512c08400"
    },
    {
      "cell_type": "markdown",
      "metadata": {},
      "source": [
        "Profession"
      ],
      "id": "f87349e7-bcc9-4d75-af59-d856b67b0962"
    },
    {
      "cell_type": "raw",
      "metadata": {
        "raw_mimetype": "text/html"
      },
      "source": [
        "</th>"
      ],
      "id": "1583ff7a-a04f-41eb-ac92-26c841dd859b"
    },
    {
      "cell_type": "raw",
      "metadata": {
        "raw_mimetype": "text/html"
      },
      "source": [
        "</tr>"
      ],
      "id": "c6b2780d-24b8-4324-86fb-7c3450173563"
    },
    {
      "cell_type": "raw",
      "metadata": {
        "raw_mimetype": "text/html"
      },
      "source": [
        "<tr>"
      ],
      "id": "f43d97e1-36f9-45e4-b8b5-4ef860ea830b"
    },
    {
      "cell_type": "raw",
      "metadata": {
        "raw_mimetype": "text/html"
      },
      "source": [
        "<td>"
      ],
      "id": "07198ccb-89fb-4ce7-89f3-d44a9fd653e2"
    },
    {
      "cell_type": "markdown",
      "metadata": {},
      "source": [
        "Mike"
      ],
      "id": "ba6b6fe7-2339-4245-925c-f7a333f2304e"
    },
    {
      "cell_type": "raw",
      "metadata": {
        "raw_mimetype": "text/html"
      },
      "source": [
        "</td>"
      ],
      "id": "04343fbd-11b7-48c0-8ac9-6a96ce3bf822"
    },
    {
      "cell_type": "raw",
      "metadata": {
        "raw_mimetype": "text/html"
      },
      "source": [
        "<td>"
      ],
      "id": "4e863556-41dd-4082-b6a0-308546400766"
    },
    {
      "cell_type": "markdown",
      "metadata": {},
      "source": [
        "Stuntman"
      ],
      "id": "7885f868-7743-4548-88c2-4044cbf17772"
    },
    {
      "cell_type": "raw",
      "metadata": {
        "raw_mimetype": "text/html"
      },
      "source": [
        "</td>"
      ],
      "id": "363f5447-8c64-49f8-8607-f285c3e0f829"
    },
    {
      "cell_type": "raw",
      "metadata": {
        "raw_mimetype": "text/html"
      },
      "source": [
        "<td>"
      ],
      "id": "a45bf832-399a-4425-a490-5da61baa6892"
    },
    {
      "cell_type": "markdown",
      "metadata": {},
      "source": [
        "Cascadeur"
      ],
      "id": "934e961e-fb32-46d4-9cb2-d779e2affa9c"
    },
    {
      "cell_type": "raw",
      "metadata": {
        "raw_mimetype": "text/html"
      },
      "source": [
        "</td>"
      ],
      "id": "ff4b0f57-be72-49f9-ac56-b72a776a3cc0"
    },
    {
      "cell_type": "raw",
      "metadata": {
        "raw_mimetype": "text/html"
      },
      "source": [
        "</tr>"
      ],
      "id": "f975cedd-f40e-43b0-bd66-17602e25780b"
    },
    {
      "cell_type": "raw",
      "metadata": {
        "raw_mimetype": "text/html"
      },
      "source": [
        "<tr>"
      ],
      "id": "4cd931d3-2932-4fe4-95df-09fafdbedd2d"
    },
    {
      "cell_type": "raw",
      "metadata": {
        "raw_mimetype": "text/html"
      },
      "source": [
        "<td>"
      ],
      "id": "4bb653b3-2b2b-4fcd-8dd4-6824b855482c"
    },
    {
      "cell_type": "markdown",
      "metadata": {},
      "source": [
        "Mister"
      ],
      "id": "07182064-a801-40b4-9658-6f3518b12843"
    },
    {
      "cell_type": "raw",
      "metadata": {
        "raw_mimetype": "text/html"
      },
      "source": [
        "</td>"
      ],
      "id": "2a372b5f-be56-4a4d-90a6-2dff16d708e9"
    },
    {
      "cell_type": "raw",
      "metadata": {
        "raw_mimetype": "text/html"
      },
      "source": [
        "<td>"
      ],
      "id": "21859c30-cf54-49ad-8517-6bf6a1c7b5e6"
    },
    {
      "cell_type": "markdown",
      "metadata": {},
      "source": [
        "Pink"
      ],
      "id": "8efe0de8-01c6-4f4c-bbc1-9856eb94bed2"
    },
    {
      "cell_type": "raw",
      "metadata": {
        "raw_mimetype": "text/html"
      },
      "source": [
        "</td>"
      ],
      "id": "5fbbdcb8-89dc-499f-9aae-7fd6e8b3f61b"
    },
    {
      "cell_type": "raw",
      "metadata": {
        "raw_mimetype": "text/html"
      },
      "source": [
        "<td>"
      ],
      "id": "6e91d31b-ef0c-4019-9521-ee6ad1aba8ff"
    },
    {
      "cell_type": "markdown",
      "metadata": {},
      "source": [
        "Gangster"
      ],
      "id": "6c049dd8-871b-40ce-bb33-1d9c6034a1ea"
    },
    {
      "cell_type": "raw",
      "metadata": {
        "raw_mimetype": "text/html"
      },
      "source": [
        "</td>"
      ],
      "id": "fcd85ea5-4509-4340-9ce5-cb281a11f1e9"
    },
    {
      "cell_type": "raw",
      "metadata": {
        "raw_mimetype": "text/html"
      },
      "source": [
        "</tr>"
      ],
      "id": "35faf622-4033-4fd1-a0a1-448f40aaf023"
    },
    {
      "cell_type": "raw",
      "metadata": {
        "raw_mimetype": "text/html"
      },
      "source": [
        "</table>"
      ],
      "id": "47c06458-4f4a-4625-9148-374abfe81ee9"
    },
    {
      "cell_type": "markdown",
      "metadata": {},
      "source": [
        "### Parent et enfant\n",
        "\n",
        "Dans le cadre du langage HTML, les termes de parent (*parent*) et enfant (*child*) servent à désigner des élements emboîtés les uns dans les autres. Dans la construction suivante, par exemple :\n",
        "\n",
        "``` html\n",
        "< div> \n",
        "    < p>\n",
        "       bla,bla\n",
        "    < /p>\n",
        "< /div>\n",
        "```\n",
        "\n",
        "Sur la page web, cela apparaitra de la manière suivante :\n",
        "\n",
        "    <p>\n",
        "       bla,bla\n",
        "    </p>\n",
        "\n",
        "On dira que l’élément `<div>` est le parent de l’élément `<p>` tandis que l’élément `<p>` est l’enfant de l’élément `<div>`.\n",
        "\n",
        "*Mais pourquoi apprendre ça pour “scraper”, me direz-vous ?*\n",
        "\n",
        "Parce que, pour bien récupérer les informations d’un site internet, il faut pouvoir comprendre sa structure et donc son code HTML. Les fonctions python qui servent au scraping sont principalement construites pour vous permettre de naviguer entre les balises.\n",
        "\n",
        "# Scraper avec python: le package `BeautifulSoup`\n",
        "\n",
        "## Les packages disponibles\n",
        "\n",
        "Nous allons essentiellement utiliser le package [BeautifulSoup4](https://www.crummy.com/software/BeautifulSoup/bs4/doc/) pour ce cours, mais d’autres packages existent (Selenium, Scrapy…). Il s’utilise souvent en conjonction avec\n",
        "[urllib](https://docs.python.org/3/library/urllib.html#module-urllib).\n",
        "\n",
        "`BeautifulSoup` sera suffisant quand vous voudrez travailler sur des pages HTML statiques. Dès que les informations que vous recherchez sont générées via l’exécution de scripts [Javascript](https://fr.wikipedia.org/wiki/JavaScript), il vous faudra passer par des outils comme [Selenium](https://selenium-python.readthedocs.io/).\n",
        "\n",
        "De même, si vous ne connaissez pas l’URL, il faudra passer par un framework comme [Scrapy](https://scrapy.org/), qui passe facilement d’une page à une autre (“crawl”). Scrapy est plus complexe à manipuler que BeautifulSoup : si vous voulez plus de détails, rendez-vous sur la page du [tutoriel Scrapy](https://doc.scrapy.org/en/latest/intro/tutorial.html).\n",
        "\n",
        "Le *webscraping* est un domaine où la reproductibilité est compliquée à mettre en oeuvre. Une page *web* évolue\n",
        "potentiellement régulièrement et d’une page web à l’autre, la structure peut\n",
        "être très différente ce qui rend certains codes difficilement exportables.\n",
        "Par conséquent, la meilleure manière d’avoir un programme fonctionnel est\n",
        "de comprendre la structure d’une page web et dissocier les éléments exportables\n",
        "à d’autres cas d’usages des requêtes *ad hoc*.\n",
        "\n",
        "{{< tweet 1474353569780355074 >}}"
      ],
      "id": "b2f64f1a-524c-421d-a36c-1e0bdf57e77c"
    },
    {
      "cell_type": "code",
      "execution_count": 2,
      "metadata": {},
      "outputs": [],
      "source": [
        "import urllib\n",
        "import bs4\n",
        "import pandas\n",
        "from urllib import request"
      ],
      "id": "e55c1559-7176-4dd2-93ac-f27b82926e00"
    },
    {
      "cell_type": "markdown",
      "metadata": {},
      "source": [
        "## Récupérer le contenu d’une page HTML\n",
        "\n",
        "On va commencer doucement. Prenons une page wikipedia, par exemple celle de la Ligue 1 de football : [Championnat de France de football 2019-2020](https://fr.wikipedia.org/wiki/Championnat_de_France_de_football_2019-2020). On va souhaiter récupérer la liste des équipes, ainsi que les url des pages Wikipedia de ces équipes."
      ],
      "id": "9f877ce2-0673-4036-9274-127aeff304b4"
    },
    {
      "cell_type": "code",
      "execution_count": 3,
      "metadata": {},
      "outputs": [],
      "source": [
        "# Etape 1 : se connecter à la page wikipedia et obtenir le code source\n",
        "\n",
        "url_ligue_1 = \"https://fr.wikipedia.org/wiki/Championnat_de_France_de_football_2019-2020\"\n",
        "    \n",
        "request_text = request.urlopen(url_ligue_1).read()\n",
        "# print(request_text[:1000])    "
      ],
      "id": "d5ba6aac-5db3-4c9f-8ac8-f02b235407d3"
    },
    {
      "cell_type": "code",
      "execution_count": 4,
      "metadata": {},
      "outputs": [
        {
          "output_type": "display_data",
          "metadata": {},
          "data": {
            "text/plain": [
              "bytes"
            ]
          }
        }
      ],
      "source": [
        "type(request_text)"
      ],
      "id": "1841b923-5bc2-4505-aa72-88e8adea567c"
    },
    {
      "cell_type": "code",
      "execution_count": 5,
      "metadata": {},
      "outputs": [],
      "source": [
        "# Etape 2 : utiliser le package BeautifulSoup\n",
        "# qui \"comprend\" les balises contenues dans la chaine de caractères renvoyée par la fonction request\n",
        "\n",
        "page = bs4.BeautifulSoup(request_text, \"lxml\")\n",
        "\n",
        "#print(page)"
      ],
      "id": "11264abc-d30b-4f7f-a3be-d7f5c84a1220"
    },
    {
      "cell_type": "markdown",
      "metadata": {},
      "source": [
        "Si on print l’objet, page créée avec BeautifulSoup, on voit que ce n’est plus une chaine de caractères mais bien une page HTML avec des balises. On peut à présent chercher des élements à l’intérieur de ces balises.\n",
        "\n",
        "## La méthode `find`\n",
        "\n",
        "Par exemple, si on veut connaître le titre de la page, on utilise la méthode `.find` et on lui demande *“title”*"
      ],
      "id": "674bf4a4-ae19-4f94-aa18-7ddc1ddcfdd9"
    },
    {
      "cell_type": "code",
      "execution_count": 6,
      "metadata": {},
      "outputs": [
        {
          "output_type": "stream",
          "name": "stdout",
          "text": [
            "<title>Championnat de France de football 2019-2020 — Wikipédia</title>"
          ]
        }
      ],
      "source": [
        "print(page.find(\"title\"))"
      ],
      "id": "52045ee9-6631-4d67-899d-fb772a6f8591"
    },
    {
      "cell_type": "markdown",
      "metadata": {},
      "source": [
        "La methode `.find` ne renvoie que la première occurence de l’élément.\n",
        "\n",
        "Pour vous en assurer vous pouvez :\n",
        "- copier le bout de code source obtenu,\n",
        "- le coller dans une cellule de votre notebook\n",
        "- et passer la cellule en “Markdown”\n",
        "\n",
        "La cellule avec le copier-coller du code source donne :"
      ],
      "id": "7076cb3e-a916-4ea5-8781-2a548c942d32"
    },
    {
      "cell_type": "code",
      "execution_count": 7,
      "metadata": {},
      "outputs": [
        {
          "output_type": "stream",
          "name": "stdout",
          "text": [
            "<table><caption style=\"background-color:#99cc99;color:#000000;\">Généralités</caption><tbody><tr>\n",
            "<th scope=\"row\" style=\"width:10.5em;\">Sport</th>\n",
            "<td>\n",
            "<a href=\"/wiki/Football\" title=\"Football\">Football</a></td>\n",
            "</tr>\n",
            "<tr>\n",
            "<th scope=\"row\" style=\"width:10.5em;\">Organisateur(s)</th>\n",
            "<td>\n",
            "<a href=\"/wiki/Ligue_de_football_professionnel\" title=\"Ligue de football professionnel\">LFP</a></td>\n",
            "</tr>\n",
            "<tr>\n",
            "<th scope=\"row\" style=\"width:10.5em;\">Édition</th>\n",
            "<td>\n",
            "<abbr class=\"abbr\" title=\"Quatre-vingt-deuxième (huitante-deuxième / octante-deuxième)\">82<sup>e</sup></abbr></td>\n",
            "</tr>\n",
            "<tr>\n",
            "<th scope=\"row\" style=\"width:10.5em;\">Lieu(x)</th>\n",
            "<td>\n",
            "<span class=\"datasortkey\" data-sort-value=\"France\"><span class=\"flagicon\"><a class=\"image\" href=\"/wiki/Fichier:Flag_of_France.svg\" title=\"Drapeau de la France\"><img alt=\"Drapeau de la France\" class=\"noviewer thumbborder\" data-file-height=\"600\" data-file-width=\"900\" decoding=\"async\" height=\"13\" src=\"//upload.wikimedia.org/wikipedia/commons/thumb/c/c3/Flag_of_France.svg/20px-Flag_of_France.svg.png\" srcset=\"//upload.wikimedia.org/wikipedia/commons/thumb/c/c3/Flag_of_France.svg/30px-Flag_of_France.svg.png 1.5x, //upload.wikimedia.org/wikipedia/commons/thumb/c/c3/Flag_of_France.svg/40px-Flag_of_France.svg.png 2x\" width=\"20\"/></a> </span><a href=\"/wiki/France\" title=\"France\">France</a></span> et <br/><span class=\"datasortkey\" data-sort-value=\"Monaco\"><span class=\"flagicon\"><a class=\"image\" href=\"/wiki/Fichier:Flag_of_Monaco.svg\" title=\"Drapeau de Monaco\"><img alt=\"Drapeau de Monaco\" class=\"noviewer thumbborder\" data-file-height=\"800\" data-file-width=\"1000\" decoding=\"async\" height=\"16\" src=\"//upload.wikimedia.org/wikipedia/commons/thumb/e/ea/Flag_of_Monaco.svg/20px-Flag_of_Monaco.svg.png\" srcset=\"//upload.wikimedia.org/wikipedia/commons/thumb/e/ea/Flag_of_Monaco.svg/30px-Flag_of_Monaco.svg.png 1.5x, //upload.wikimedia.org/wikipedia/commons/thumb/e/ea/Flag_of_Monaco.svg/40px-Flag_of_Monaco.svg.png 2x\" width=\"20\"/></a> </span><a href=\"/wiki/Monaco\" title=\"Monaco\">Monaco</a></span></td>\n",
            "</tr>\n",
            "<tr>\n",
            "<th scope=\"row\" style=\"width:10.5em;\">Date</th>\n",
            "<td>\n",
            "Du <time class=\"nowrap date-lien\" data-sort-value=\"2019-08-09\" datetime=\"2019-08-09\"><a href=\"/wiki/9_ao%C3%BBt_en_sport\" title=\"9 août en sport\">9</a> <a class=\"mw-redirect\" href=\"/wiki/Ao%C3%BBt_2019_en_sport\" title=\"Août 2019 en sport\">août</a> <a href=\"/wiki/2019_en_football\" title=\"2019 en football\">2019</a></time><br/>au <time class=\"nowrap date-lien\" data-sort-value=\"2020-03-08\" datetime=\"2020-03-08\"><a href=\"/wiki/8_mars_en_sport\" title=\"8 mars en sport\">8 mars</a> <a href=\"/wiki/2020_en_football\" title=\"2020 en football\">2020</a></time> <small>(arrêt définitif)</small></td>\n",
            "</tr>\n",
            "<tr>\n",
            "<th scope=\"row\" style=\"width:10.5em;\">Participants</th>\n",
            "<td>\n",
            "20 équipes</td>\n",
            "</tr>\n",
            "<tr>\n",
            "<th scope=\"row\" style=\"width:10.5em;\">Matchs joués</th>\n",
            "<td>\n",
            "279 (sur 380 prévus)</td>\n",
            "</tr>\n",
            "<tr>\n",
            "<th scope=\"row\" style=\"width:10.5em;\">Site web officiel</th>\n",
            "<td>\n",
            "<a class=\"external text\" href=\"https://www.ligue1.fr/\" rel=\"nofollow\">Site officiel</a></td>\n",
            "</tr></tbody></table>"
          ]
        }
      ],
      "source": [
        "print(page.find(\"table\"))"
      ],
      "id": "97164aac-8fc5-4fb1-86e1-375b15c26a5e"
    },
    {
      "cell_type": "markdown",
      "metadata": {},
      "source": [
        "ce qui est le texte source permettant de générer le tableau suivant:"
      ],
      "id": "2d7baaae-ad13-4229-bc7b-9fea07670db0"
    },
    {
      "cell_type": "raw",
      "metadata": {
        "raw_mimetype": "text/html"
      },
      "source": [
        "<table>"
      ],
      "id": "9a340780-dbd5-47d3-9ad1-47280ce5c9a7"
    },
    {
      "cell_type": "raw",
      "metadata": {
        "raw_mimetype": "text/html"
      },
      "source": [
        "<caption style=\"background-color:#99cc99;color:#000000;\">"
      ],
      "id": "e90ee03f-d852-48c0-a5ef-1e6ce4f0d913"
    },
    {
      "cell_type": "markdown",
      "metadata": {},
      "source": [
        "Généralités"
      ],
      "id": "b65e21d4-902c-41a8-82e4-3a43a49b4aef"
    },
    {
      "cell_type": "raw",
      "metadata": {
        "raw_mimetype": "text/html"
      },
      "source": [
        "</caption>"
      ],
      "id": "7e58fe5a-98ff-426f-bcb1-673c5dc5f153"
    },
    {
      "cell_type": "raw",
      "metadata": {
        "raw_mimetype": "text/html"
      },
      "source": [
        "<tbody>"
      ],
      "id": "3605d4c9-74dd-45ad-b798-37b30e5e2f56"
    },
    {
      "cell_type": "raw",
      "metadata": {
        "raw_mimetype": "text/html"
      },
      "source": [
        "<tr>"
      ],
      "id": "2c7c272c-2943-48ec-92b1-9cbb46fdad57"
    },
    {
      "cell_type": "raw",
      "metadata": {
        "raw_mimetype": "text/html"
      },
      "source": [
        "<th scope=\"row\" style=\"width:10.5em;\">"
      ],
      "id": "3be42bf3-973b-4f9a-bfe2-4dedac8d0fad"
    },
    {
      "cell_type": "markdown",
      "metadata": {},
      "source": [
        "Sport"
      ],
      "id": "e0660157-c494-4f38-8851-02317711de56"
    },
    {
      "cell_type": "raw",
      "metadata": {
        "raw_mimetype": "text/html"
      },
      "source": [
        "</th>"
      ],
      "id": "946bad79-a507-4fc1-879c-1e3313dfd82a"
    },
    {
      "cell_type": "raw",
      "metadata": {
        "raw_mimetype": "text/html"
      },
      "source": [
        "<td>"
      ],
      "id": "42a54db6-da04-4204-aac4-7efbe30aabab"
    },
    {
      "cell_type": "markdown",
      "metadata": {},
      "source": [
        "<a href=\"/wiki/Football\" title=\"Football\">Football</a>"
      ],
      "id": "cb8522a5-d9ab-4132-a766-aa847095e6a4"
    },
    {
      "cell_type": "raw",
      "metadata": {
        "raw_mimetype": "text/html"
      },
      "source": [
        "</td>"
      ],
      "id": "70d832d6-c037-449a-a044-b82be9d59c82"
    },
    {
      "cell_type": "raw",
      "metadata": {
        "raw_mimetype": "text/html"
      },
      "source": [
        "</tr>"
      ],
      "id": "d101ce99-b18c-4e6a-9fb6-0425f7985df1"
    },
    {
      "cell_type": "raw",
      "metadata": {
        "raw_mimetype": "text/html"
      },
      "source": [
        "<tr>"
      ],
      "id": "d4e55672-fd55-4488-9d71-02f9c401a582"
    },
    {
      "cell_type": "raw",
      "metadata": {
        "raw_mimetype": "text/html"
      },
      "source": [
        "<th scope=\"row\" style=\"width:10.5em;\">"
      ],
      "id": "6263d345-932d-4b8f-9b92-f1ce7dda2f5f"
    },
    {
      "cell_type": "markdown",
      "metadata": {},
      "source": [
        "Organisateur(s)"
      ],
      "id": "d70e15d7-a808-47db-8fd2-7862cbb51552"
    },
    {
      "cell_type": "raw",
      "metadata": {
        "raw_mimetype": "text/html"
      },
      "source": [
        "</th>"
      ],
      "id": "b9ab6ea8-80d1-402b-b417-a32253650360"
    },
    {
      "cell_type": "raw",
      "metadata": {
        "raw_mimetype": "text/html"
      },
      "source": [
        "<td>"
      ],
      "id": "6f6bb4c7-e125-42e6-b74b-6719fee94807"
    },
    {
      "cell_type": "markdown",
      "metadata": {},
      "source": [
        "<a href=\"/wiki/Ligue_de_football_professionnel\" title=\"Ligue de football professionnel\">LFP</a>"
      ],
      "id": "7066ae8b-2793-4cab-8cc9-8bb1548fc367"
    },
    {
      "cell_type": "raw",
      "metadata": {
        "raw_mimetype": "text/html"
      },
      "source": [
        "</td>"
      ],
      "id": "47140768-6dfd-4b29-8b5a-cb722ba928fe"
    },
    {
      "cell_type": "raw",
      "metadata": {
        "raw_mimetype": "text/html"
      },
      "source": [
        "</tr>"
      ],
      "id": "66f11d4f-a2a0-4411-9aad-5bd13b095872"
    },
    {
      "cell_type": "raw",
      "metadata": {
        "raw_mimetype": "text/html"
      },
      "source": [
        "<tr>"
      ],
      "id": "9413b5ca-e0b8-4a48-8e8e-d98be576fe2b"
    },
    {
      "cell_type": "raw",
      "metadata": {
        "raw_mimetype": "text/html"
      },
      "source": [
        "<th scope=\"row\" style=\"width:10.5em;\">"
      ],
      "id": "41e400b6-22fe-4ac1-968c-fa04cc3beccc"
    },
    {
      "cell_type": "markdown",
      "metadata": {},
      "source": [
        "Édition"
      ],
      "id": "abadd2e9-4de8-49fe-894d-050a1b215b19"
    },
    {
      "cell_type": "raw",
      "metadata": {
        "raw_mimetype": "text/html"
      },
      "source": [
        "</th>"
      ],
      "id": "4f7363ea-6345-4c0a-b398-091297a10835"
    },
    {
      "cell_type": "raw",
      "metadata": {
        "raw_mimetype": "text/html"
      },
      "source": [
        "<td>"
      ],
      "id": "fd73a053-39dc-44b0-ba85-eb65f850518b"
    },
    {
      "cell_type": "markdown",
      "metadata": {},
      "source": [
        "<abbr class=\"abbr\" title=\"Quatre-vingt-deuxième (huitante-deuxième / octante-deuxième)\">82<sup>e</sup></abbr>"
      ],
      "id": "a5bc4857-d7f6-4c9a-834d-e2b7216bfcf2"
    },
    {
      "cell_type": "raw",
      "metadata": {
        "raw_mimetype": "text/html"
      },
      "source": [
        "</td>"
      ],
      "id": "c0f3cea2-71b3-472b-9909-9bcd506acd49"
    },
    {
      "cell_type": "raw",
      "metadata": {
        "raw_mimetype": "text/html"
      },
      "source": [
        "</tr>"
      ],
      "id": "ee12865a-a8df-4acd-a80a-87a55e6c0cf8"
    },
    {
      "cell_type": "raw",
      "metadata": {
        "raw_mimetype": "text/html"
      },
      "source": [
        "<tr>"
      ],
      "id": "f35ae894-9626-40ad-b8e3-052faefc1dec"
    },
    {
      "cell_type": "raw",
      "metadata": {
        "raw_mimetype": "text/html"
      },
      "source": [
        "<th scope=\"row\" style=\"width:10.5em;\">"
      ],
      "id": "648b03bc-8c0f-4cb6-a6dd-736034c7ce4f"
    },
    {
      "cell_type": "markdown",
      "metadata": {},
      "source": [
        "Lieu(x)"
      ],
      "id": "97082698-374a-49f3-921c-cc17980b6d75"
    },
    {
      "cell_type": "raw",
      "metadata": {
        "raw_mimetype": "text/html"
      },
      "source": [
        "</th>"
      ],
      "id": "3326c047-fd69-4ae7-940f-b12a0609d9c9"
    },
    {
      "cell_type": "raw",
      "metadata": {
        "raw_mimetype": "text/html"
      },
      "source": [
        "<td>"
      ],
      "id": "fcb0e856-c94f-4352-b238-e13ac9544d61"
    },
    {
      "cell_type": "markdown",
      "metadata": {},
      "source": [
        "<span class=\"datasortkey\" data-sort-value=\"France\"><span class=\"flagicon\"><a class=\"image\" href=\"/wiki/Fichier:Flag_of_France.svg\" title=\"Drapeau de la France\"><img alt=\"Drapeau de la France\" class=\"noviewer thumbborder\" data-file-height=\"600\" data-file-width=\"900\" decoding=\"async\" height=\"13\" src=\"//upload.wikimedia.org/wikipedia/commons/thumb/c/c3/Flag_of_France.svg/20px-Flag_of_France.svg.png\" srcset=\"//upload.wikimedia.org/wikipedia/commons/thumb/c/c3/Flag_of_France.svg/30px-Flag_of_France.svg.png 1.5x, //upload.wikimedia.org/wikipedia/commons/thumb/c/c3/Flag_of_France.svg/40px-Flag_of_France.svg.png 2x\" width=\"20\"/></a> </span><a href=\"/wiki/France\" title=\"France\">France</a></span> et <br/><span class=\"datasortkey\" data-sort-value=\"Monaco\"><span class=\"flagicon\"><a class=\"image\" href=\"/wiki/Fichier:Flag_of_Monaco.svg\" title=\"Drapeau de Monaco\"><img alt=\"Drapeau de Monaco\" class=\"noviewer thumbborder\" data-file-height=\"800\" data-file-width=\"1000\" decoding=\"async\" height=\"16\" src=\"//upload.wikimedia.org/wikipedia/commons/thumb/e/ea/Flag_of_Monaco.svg/20px-Flag_of_Monaco.svg.png\" srcset=\"//upload.wikimedia.org/wikipedia/commons/thumb/e/ea/Flag_of_Monaco.svg/30px-Flag_of_Monaco.svg.png 1.5x, //upload.wikimedia.org/wikipedia/commons/thumb/e/ea/Flag_of_Monaco.svg/40px-Flag_of_Monaco.svg.png 2x\" width=\"20\"/></a> </span><a href=\"/wiki/Monaco\" title=\"Monaco\">Monaco</a></span>"
      ],
      "id": "4316df6b-7550-4708-9c73-226c42984b33"
    },
    {
      "cell_type": "raw",
      "metadata": {
        "raw_mimetype": "text/html"
      },
      "source": [
        "</td>"
      ],
      "id": "844c0419-aee7-4001-af23-59edda75aef1"
    },
    {
      "cell_type": "raw",
      "metadata": {
        "raw_mimetype": "text/html"
      },
      "source": [
        "</tr>"
      ],
      "id": "7c4f1ad9-7708-4074-9f48-33a192a9f915"
    },
    {
      "cell_type": "raw",
      "metadata": {
        "raw_mimetype": "text/html"
      },
      "source": [
        "<tr>"
      ],
      "id": "07e2242b-e543-4017-b9a7-69c02e0d118c"
    },
    {
      "cell_type": "raw",
      "metadata": {
        "raw_mimetype": "text/html"
      },
      "source": [
        "<th scope=\"row\" style=\"width:10.5em;\">"
      ],
      "id": "e31c8856-64bb-4dbc-b87e-756d2624de1c"
    },
    {
      "cell_type": "markdown",
      "metadata": {},
      "source": [
        "Date"
      ],
      "id": "1577cd62-850b-4583-8b1c-19b52898298f"
    },
    {
      "cell_type": "raw",
      "metadata": {
        "raw_mimetype": "text/html"
      },
      "source": [
        "</th>"
      ],
      "id": "46ac6844-2424-4b5e-b657-f9e025f4c015"
    },
    {
      "cell_type": "raw",
      "metadata": {
        "raw_mimetype": "text/html"
      },
      "source": [
        "<td>"
      ],
      "id": "aa440b43-dddf-4eef-8da5-9a8fa6a82a72"
    },
    {
      "cell_type": "markdown",
      "metadata": {},
      "source": [
        "Du <time class=\"nowrap date-lien\" data-sort-value=\"2019-08-09\" datetime=\"2019-08-09\"><a href=\"/wiki/9_ao%C3%BBt_en_sport\" title=\"9 août en sport\">9</a> <a class=\"mw-redirect\" href=\"/wiki/Ao%C3%BBt_2019_en_sport\" title=\"Août 2019 en sport\">août</a> <a href=\"/wiki/2019_en_football\" title=\"2019 en football\">2019</a></time><br/>au <time class=\"nowrap date-lien\" data-sort-value=\"2020-03-08\" datetime=\"2020-03-08\"><a href=\"/wiki/8_mars_en_sport\" title=\"8 mars en sport\">8 mars</a> <a href=\"/wiki/2020_en_football\" title=\"2020 en football\">2020</a></time> <small>(arrêt définitif)</small>"
      ],
      "id": "c44372a3-1ad8-4996-bd7a-a5b2eb2be5ae"
    },
    {
      "cell_type": "raw",
      "metadata": {
        "raw_mimetype": "text/html"
      },
      "source": [
        "</td>"
      ],
      "id": "a9303470-2c8d-451b-b34a-8956415f8b84"
    },
    {
      "cell_type": "raw",
      "metadata": {
        "raw_mimetype": "text/html"
      },
      "source": [
        "</tr>"
      ],
      "id": "bf544ba0-44ef-4145-8b02-47f26736f79b"
    },
    {
      "cell_type": "raw",
      "metadata": {
        "raw_mimetype": "text/html"
      },
      "source": [
        "<tr>"
      ],
      "id": "84e62b14-0911-4d36-847e-964ed80556bd"
    },
    {
      "cell_type": "raw",
      "metadata": {
        "raw_mimetype": "text/html"
      },
      "source": [
        "<th scope=\"row\" style=\"width:10.5em;\">"
      ],
      "id": "c173f069-1b5e-47cb-9bdd-719f4ac657b4"
    },
    {
      "cell_type": "markdown",
      "metadata": {},
      "source": [
        "Participants"
      ],
      "id": "430a22b7-732e-49c7-aa0a-8b9bc4e94b81"
    },
    {
      "cell_type": "raw",
      "metadata": {
        "raw_mimetype": "text/html"
      },
      "source": [
        "</th>"
      ],
      "id": "671ac8d9-fb3e-48d9-87d5-d8799c10b015"
    },
    {
      "cell_type": "raw",
      "metadata": {
        "raw_mimetype": "text/html"
      },
      "source": [
        "<td>"
      ],
      "id": "d82ccd7c-2b5e-4b1f-9e62-a453d1a17225"
    },
    {
      "cell_type": "markdown",
      "metadata": {},
      "source": [
        "20 équipes"
      ],
      "id": "57015df6-0bb1-4d54-b8dc-a14be65d65bc"
    },
    {
      "cell_type": "raw",
      "metadata": {
        "raw_mimetype": "text/html"
      },
      "source": [
        "</td>"
      ],
      "id": "f93bb570-e0ce-4e29-a594-0f061e4b67fa"
    },
    {
      "cell_type": "raw",
      "metadata": {
        "raw_mimetype": "text/html"
      },
      "source": [
        "</tr>"
      ],
      "id": "4afe52b8-128d-4c92-8d84-6495ecd7b35b"
    },
    {
      "cell_type": "raw",
      "metadata": {
        "raw_mimetype": "text/html"
      },
      "source": [
        "<tr>"
      ],
      "id": "6e60ca39-752b-4eec-9462-8728cbf9336f"
    },
    {
      "cell_type": "raw",
      "metadata": {
        "raw_mimetype": "text/html"
      },
      "source": [
        "<th scope=\"row\" style=\"width:10.5em;\">"
      ],
      "id": "630b92cb-5b43-4472-9d2c-ff3eb1295797"
    },
    {
      "cell_type": "markdown",
      "metadata": {},
      "source": [
        "Matchs joués"
      ],
      "id": "42b60253-8374-4243-a624-f99867d8fa50"
    },
    {
      "cell_type": "raw",
      "metadata": {
        "raw_mimetype": "text/html"
      },
      "source": [
        "</th>"
      ],
      "id": "52427c86-f93a-465d-a544-c74145f0f61e"
    },
    {
      "cell_type": "raw",
      "metadata": {
        "raw_mimetype": "text/html"
      },
      "source": [
        "<td>"
      ],
      "id": "4c62a85a-2fa8-4992-aa66-757260d96b31"
    },
    {
      "cell_type": "markdown",
      "metadata": {},
      "source": [
        "279 (sur 380 prévus)"
      ],
      "id": "b168368c-95fa-4275-bec3-d77c545ccbde"
    },
    {
      "cell_type": "raw",
      "metadata": {
        "raw_mimetype": "text/html"
      },
      "source": [
        "</td>"
      ],
      "id": "d3809c6a-2bd5-4ac3-a601-e745fe0c6b84"
    },
    {
      "cell_type": "raw",
      "metadata": {
        "raw_mimetype": "text/html"
      },
      "source": [
        "</tr>"
      ],
      "id": "ac71af13-afee-4166-a935-fa87ff608171"
    },
    {
      "cell_type": "raw",
      "metadata": {
        "raw_mimetype": "text/html"
      },
      "source": [
        "<tr>"
      ],
      "id": "5a4fd437-735c-441a-9d29-1b836894ddad"
    },
    {
      "cell_type": "raw",
      "metadata": {
        "raw_mimetype": "text/html"
      },
      "source": [
        "<th scope=\"row\" style=\"width:10.5em;\">"
      ],
      "id": "5ab5115c-6f4a-4400-8455-c0771fe3359d"
    },
    {
      "cell_type": "markdown",
      "metadata": {},
      "source": [
        "Site web officiel"
      ],
      "id": "c4c065fe-ba27-4570-80b6-ec0882df240e"
    },
    {
      "cell_type": "raw",
      "metadata": {
        "raw_mimetype": "text/html"
      },
      "source": [
        "</th>"
      ],
      "id": "f129987d-ea03-46b8-864f-a8e86d989fcb"
    },
    {
      "cell_type": "raw",
      "metadata": {
        "raw_mimetype": "text/html"
      },
      "source": [
        "<td>"
      ],
      "id": "0c0ff62b-18cf-4196-a459-1fe9d05d0e40"
    },
    {
      "cell_type": "markdown",
      "metadata": {},
      "source": [
        "<a class=\"external text\" href=\"https://www.ligue1.fr/\" rel=\"nofollow\">Site officiel</a>"
      ],
      "id": "e09c1015-3f6e-428e-9977-d6d0fe762e46"
    },
    {
      "cell_type": "raw",
      "metadata": {
        "raw_mimetype": "text/html"
      },
      "source": [
        "</td>"
      ],
      "id": "6be7fef9-9efe-4e55-8166-7a3c5c49956d"
    },
    {
      "cell_type": "raw",
      "metadata": {
        "raw_mimetype": "text/html"
      },
      "source": [
        "</tr>"
      ],
      "id": "5a4ddec4-e93a-48e5-90db-1665598c1125"
    },
    {
      "cell_type": "raw",
      "metadata": {
        "raw_mimetype": "text/html"
      },
      "source": [
        "</tbody>"
      ],
      "id": "52204512-b6b9-4ebb-86da-f2a8e8770c32"
    },
    {
      "cell_type": "raw",
      "metadata": {
        "raw_mimetype": "text/html"
      },
      "source": [
        "</table>"
      ],
      "id": "c9c582a4-cd0d-4a14-a56f-ce15fec57a92"
    },
    {
      "cell_type": "markdown",
      "metadata": {},
      "source": [
        "## La méthode `findAll`\n",
        "\n",
        "Pour trouver toutes les occurences, on utilise `.findAll()`."
      ],
      "id": "761093fe-fadd-4585-b4fa-90354408682e"
    },
    {
      "cell_type": "code",
      "execution_count": 9,
      "metadata": {},
      "outputs": [
        {
          "output_type": "stream",
          "name": "stdout",
          "text": [
            "Il y a 34 éléments dans la page qui sont des <table>"
          ]
        }
      ],
      "source": [
        "print(\"Il y a\", len(page.findAll(\"table\")), \"éléments dans la page qui sont des <table>\")"
      ],
      "id": "10884a2a-feeb-4a3e-b21d-fba324767b69"
    },
    {
      "cell_type": "markdown",
      "metadata": {},
      "source": [
        "# Exercice guidé : obtenir la liste des équipes de Ligue 1\n",
        "\n",
        "Dans le premier paragraphe de la page “Participants”, on a le tableau avec les résultats de l’année.\n",
        "\n",
        "{{% box status=“exercise” title=“Exercice” icon=“fas fa-pencil-alt” %}}\n",
        "Le but est de récupérer les informations contenues dans ce tableau.\n",
        "\n",
        "Pour cela, nous allons procéder en 6 étapes:\n",
        "\n",
        "1.  Trouver le tableau\n",
        "2.  Récupérer chaque ligne du table\n",
        "3.  Nettoyer les sorties en ne gardant que le texte sur une ligne\n",
        "4.  Généraliser sur toutes les lignes\n",
        "5.  Récupérer les entêtes du tableau\n",
        "6.  Finalisation du tableau\n",
        "\n",
        "{{% /box %}}\n",
        "\n",
        ":one:\n",
        "Trouver le tableau\n",
        "\n",
        "``` python\n",
        "# on identifie le tableau en question : c'est le premier qui a cette classe \"wikitable sortable\"\n",
        "tableau_participants = page.find('table', {'class' : 'wikitable sortable'})\n",
        "\n",
        "print(tableau_participants)\n",
        "```"
      ],
      "id": "7261106e-91c1-4939-8dc7-8c3385574c57"
    },
    {
      "cell_type": "raw",
      "metadata": {
        "raw_mimetype": "text/html"
      },
      "source": [
        "<table class=\"wikitable sortable\" style=\"font-size:90%;line-height:15px;text-align:center\">"
      ],
      "id": "e24f85c6-041f-4ede-b7c7-190a2eeba705"
    },
    {
      "cell_type": "raw",
      "metadata": {
        "raw_mimetype": "text/html"
      },
      "source": [
        "<tbody>"
      ],
      "id": "f9e77887-76ee-4ebc-b380-3b1a7b4386cc"
    },
    {
      "cell_type": "raw",
      "metadata": {
        "raw_mimetype": "text/html"
      },
      "source": [
        "<tr>"
      ],
      "id": "ab4dd998-0750-466e-8fc0-0d6aab5c64fa"
    },
    {
      "cell_type": "raw",
      "metadata": {
        "raw_mimetype": "text/html"
      },
      "source": [
        "<th scope=\"col\">"
      ],
      "id": "57233841-f3c9-4815-b03c-d7c4d7410831"
    },
    {
      "cell_type": "markdown",
      "metadata": {},
      "source": [
        "Club"
      ],
      "id": "1d6fb93e-604f-43ac-8bfb-893236f7341d"
    },
    {
      "cell_type": "raw",
      "metadata": {
        "raw_mimetype": "text/html"
      },
      "source": [
        "</th>"
      ],
      "id": "400354d2-5cb0-40f9-92fe-cd3da77f1f4d"
    },
    {
      "cell_type": "raw",
      "metadata": {
        "raw_mimetype": "text/html"
      },
      "source": [
        "<th scope=\"col\">"
      ],
      "id": "5f0e949a-6978-491b-84d6-f3029efc9633"
    },
    {
      "cell_type": "markdown",
      "metadata": {},
      "source": [
        "Dernière<br/>montée"
      ],
      "id": "9ddbe674-9734-42b7-a572-cb1f6e32676a"
    },
    {
      "cell_type": "raw",
      "metadata": {
        "raw_mimetype": "text/html"
      },
      "source": [
        "</th>"
      ],
      "id": "8858ef9a-8c46-42d5-b51b-577858db1b13"
    },
    {
      "cell_type": "raw",
      "metadata": {
        "raw_mimetype": "text/html"
      },
      "source": [
        "<th scope=\"col\">"
      ],
      "id": "8b94d8b5-7dae-4149-8727-e1810c29756c"
    },
    {
      "cell_type": "markdown",
      "metadata": {},
      "source": [
        "Budget<sup class=\"reference\" id=\"cite_ref-3\"><a href=\"#cite_note-3\"><span class=\"cite_crochet\">\\[</span>3<span class=\"cite_crochet\">\\]</span></a></sup><br/>en M<a href=\"/wiki/Euro\" title=\"Euro\">€</a>"
      ],
      "id": "aef2e912-a4b6-4de6-8b7b-afa47ccd54e6"
    },
    {
      "cell_type": "raw",
      "metadata": {
        "raw_mimetype": "text/html"
      },
      "source": [
        "</th>"
      ],
      "id": "856fb85d-0641-46e0-b65a-76e507db984b"
    },
    {
      "cell_type": "raw",
      "metadata": {
        "raw_mimetype": "text/html"
      },
      "source": [
        "<th scope=\"col\">"
      ],
      "id": "3b8d9b66-b9db-466c-9041-f6eddbf706eb"
    },
    {
      "cell_type": "markdown",
      "metadata": {},
      "source": [
        "Classement<br/><a href=\"/wiki/Championnat_de_France_de_football_2018-2019\" title=\"Championnat de France de football 2018-2019\">2018-2019</a>"
      ],
      "id": "d274997b-a96b-4c47-8a19-5f475fe4e790"
    },
    {
      "cell_type": "raw",
      "metadata": {
        "raw_mimetype": "text/html"
      },
      "source": [
        "</th>"
      ],
      "id": "a6284ceb-99bc-4539-bdef-0aeab422b710"
    },
    {
      "cell_type": "raw",
      "metadata": {
        "raw_mimetype": "text/html"
      },
      "source": [
        "<th scope=\"col\">"
      ],
      "id": "93eeb949-688b-4ac3-bab4-b37eb85a0311"
    },
    {
      "cell_type": "markdown",
      "metadata": {},
      "source": [
        "Entraîneur"
      ],
      "id": "b24777a8-c2fc-4145-a631-9b3c007b2804"
    },
    {
      "cell_type": "raw",
      "metadata": {
        "raw_mimetype": "text/html"
      },
      "source": [
        "</th>"
      ],
      "id": "f001a185-7a61-4fb2-a322-bfbc428b7570"
    },
    {
      "cell_type": "raw",
      "metadata": {
        "raw_mimetype": "text/html"
      },
      "source": [
        "<th scope=\"col\">"
      ],
      "id": "a939a3d4-cab5-4d2d-acc0-c3c544994c6d"
    },
    {
      "cell_type": "markdown",
      "metadata": {},
      "source": [
        "Depuis"
      ],
      "id": "bed6453d-64e4-47fc-ad5d-af2d90181196"
    },
    {
      "cell_type": "raw",
      "metadata": {
        "raw_mimetype": "text/html"
      },
      "source": [
        "</th>"
      ],
      "id": "8af6e853-988b-47c9-8238-dd1886f9c156"
    },
    {
      "cell_type": "raw",
      "metadata": {
        "raw_mimetype": "text/html"
      },
      "source": [
        "<th scope=\"col\">"
      ],
      "id": "72a6fd6e-3a5b-47db-8678-3b3beb59d9b5"
    },
    {
      "cell_type": "markdown",
      "metadata": {},
      "source": [
        "Stade"
      ],
      "id": "37621f98-cf4f-4a5e-80cb-e1a9b61b724f"
    },
    {
      "cell_type": "raw",
      "metadata": {
        "raw_mimetype": "text/html"
      },
      "source": [
        "</th>"
      ],
      "id": "9ee2d1a2-5e01-48e0-9c5d-f263b2f9ed7f"
    },
    {
      "cell_type": "raw",
      "metadata": {
        "raw_mimetype": "text/html"
      },
      "source": [
        "<th scope=\"col\">"
      ],
      "id": "5fddde58-e673-4779-9644-903b9f27f23f"
    },
    {
      "cell_type": "markdown",
      "metadata": {},
      "source": [
        "Capacité<br/>en L1<sup class=\"reference\" id=\"cite_ref-4\"><a href=\"#cite_note-4\"><span class=\"cite_crochet\">\\[</span>4<span class=\"cite_crochet\">\\]</span></a></sup>"
      ],
      "id": "56ec8f84-5ee2-4cf7-8e06-3f8a0c8da2ec"
    },
    {
      "cell_type": "raw",
      "metadata": {
        "raw_mimetype": "text/html"
      },
      "source": [
        "</th>"
      ],
      "id": "e4dead85-c70a-46d4-b7af-3196a3a183a8"
    },
    {
      "cell_type": "raw",
      "metadata": {
        "raw_mimetype": "text/html"
      },
      "source": [
        "<th scope=\"col\">"
      ],
      "id": "feaf7487-2b08-4216-82e7-1d9be55ddc7e"
    },
    {
      "cell_type": "markdown",
      "metadata": {},
      "source": [
        "Nombre<br/>de saisons<br/>en L1"
      ],
      "id": "b44c4509-7a22-4293-b316-eef415c4ce9a"
    },
    {
      "cell_type": "raw",
      "metadata": {
        "raw_mimetype": "text/html"
      },
      "source": [
        "</th>"
      ],
      "id": "0cebcfc8-2f26-489c-bdfb-0988e443f0ac"
    },
    {
      "cell_type": "raw",
      "metadata": {
        "raw_mimetype": "text/html"
      },
      "source": [
        "</tr>"
      ],
      "id": "a7c81f29-d474-46da-bac2-c8194ccdbb83"
    },
    {
      "cell_type": "raw",
      "metadata": {
        "raw_mimetype": "text/html"
      },
      "source": [
        "<tr bgcolor=\"#97DEFF\">"
      ],
      "id": "3670fe46-3d0c-4344-9a5e-7367c7d4967c"
    },
    {
      "cell_type": "raw",
      "metadata": {
        "raw_mimetype": "text/html"
      },
      "source": [
        "<td>"
      ],
      "id": "47729c74-adb0-49d8-83c0-5edadef2fd9b"
    },
    {
      "cell_type": "markdown",
      "metadata": {},
      "source": [
        "<a href=\"/wiki/Paris_Saint-Germain_Football_Club\" title=\"Paris Saint-Germain Football Club\">Paris Saint-Germain</a>"
      ],
      "id": "22863b7e-7d20-4bf8-ac26-91795b11d8b4"
    },
    {
      "cell_type": "raw",
      "metadata": {
        "raw_mimetype": "text/html"
      },
      "source": [
        "</td>"
      ],
      "id": "ef4b46b6-c852-4d5c-86e9-69899cd950d0"
    },
    {
      "cell_type": "raw",
      "metadata": {
        "raw_mimetype": "text/html"
      },
      "source": [
        "<td>"
      ],
      "id": "f00391f1-44c5-41dc-a345-1ad5391fd709"
    },
    {
      "cell_type": "markdown",
      "metadata": {},
      "source": [
        "1974"
      ],
      "id": "3e7cc94f-5bea-46e2-a187-21df89a7c9b2"
    },
    {
      "cell_type": "raw",
      "metadata": {
        "raw_mimetype": "text/html"
      },
      "source": [
        "</td>"
      ],
      "id": "4f25791b-8e2d-4489-ac25-f6572d9b0455"
    },
    {
      "cell_type": "raw",
      "metadata": {
        "raw_mimetype": "text/html"
      },
      "source": [
        "<td>"
      ],
      "id": "1f61cc2b-364e-45bf-9cd5-f66bfc4b93c2"
    },
    {
      "cell_type": "markdown",
      "metadata": {},
      "source": [
        "637"
      ],
      "id": "19fb322f-425c-40d1-9b42-a2a10e3d55dc"
    },
    {
      "cell_type": "raw",
      "metadata": {
        "raw_mimetype": "text/html"
      },
      "source": [
        "</td>"
      ],
      "id": "c3bbcb23-b407-4e24-81cf-79adc64180a0"
    },
    {
      "cell_type": "raw",
      "metadata": {
        "raw_mimetype": "text/html"
      },
      "source": [
        "<td>"
      ],
      "id": "86933174-3e67-42e0-b477-69475b6a97ee"
    },
    {
      "cell_type": "markdown",
      "metadata": {},
      "source": [
        "<span data-sort-value=\"101 !\"></span><abbr class=\"abbr\" title=\"Premier\">1<sup>er</sup></abbr>"
      ],
      "id": "c9031a79-3886-4aa4-a020-6940b93f91d6"
    },
    {
      "cell_type": "raw",
      "metadata": {
        "raw_mimetype": "text/html"
      },
      "source": [
        "</td>"
      ],
      "id": "e15f15da-edb8-44f7-bff7-eae25f685678"
    },
    {
      "cell_type": "raw",
      "metadata": {
        "raw_mimetype": "text/html"
      },
      "source": [
        "<td align=\"left\">"
      ],
      "id": "cb445cb2-5ac9-4c71-9ad3-a424079a8c74"
    },
    {
      "cell_type": "markdown",
      "metadata": {},
      "source": [
        "<span class=\"flagicon\"><a class=\"image\" href=\"/wiki/Fichier:Flag_of_Germany.svg\" title=\"Drapeau : Allemagne\"><img alt=\"\" class=\"noviewer thumbborder\" data-file-height=\"600\" data-file-width=\"1000\" decoding=\"async\" height=\"12\" src=\"//upload.wikimedia.org/wikipedia/commons/thumb/b/ba/Flag_of_Germany.svg/20px-Flag_of_Germany.svg.png\" srcset=\"//upload.wikimedia.org/wikipedia/commons/thumb/b/ba/Flag_of_Germany.svg/30px-Flag_of_Germany.svg.png 1.5x, //upload.wikimedia.org/wikipedia/commons/thumb/b/ba/Flag_of_Germany.svg/40px-Flag_of_Germany.svg.png 2x\" width=\"20\"/></a></span> <a href=\"/wiki/Thomas_Tuchel\" title=\"Thomas Tuchel\">Thomas Tuchel</a>"
      ],
      "id": "a9f099f5-30e7-46ce-a1ea-bbc15e4b3722"
    },
    {
      "cell_type": "raw",
      "metadata": {
        "raw_mimetype": "text/html"
      },
      "source": [
        "</td>"
      ],
      "id": "f99a85aa-adf6-46b2-a54f-22b16d9ef4dd"
    },
    {
      "cell_type": "raw",
      "metadata": {
        "raw_mimetype": "text/html"
      },
      "source": [
        "<td>"
      ],
      "id": "11a2230f-dc04-41e8-ab39-77aef5b5fdf3"
    },
    {
      "cell_type": "markdown",
      "metadata": {},
      "source": [
        "2018"
      ],
      "id": "3e5a6ded-618f-43c0-a955-ccc280d01706"
    },
    {
      "cell_type": "raw",
      "metadata": {
        "raw_mimetype": "text/html"
      },
      "source": [
        "</td>"
      ],
      "id": "f1773ea8-0af7-496a-b8ec-196acaf9904e"
    },
    {
      "cell_type": "raw",
      "metadata": {
        "raw_mimetype": "text/html"
      },
      "source": [
        "<td>"
      ],
      "id": "419b501c-2666-41c7-83e1-d27aab1dff71"
    },
    {
      "cell_type": "markdown",
      "metadata": {},
      "source": [
        "<a href=\"/wiki/Parc_des_Princes\" title=\"Parc des Princes\">Parc des Princes</a>"
      ],
      "id": "af91ba04-ac52-443f-8312-449ee6ec3762"
    },
    {
      "cell_type": "raw",
      "metadata": {
        "raw_mimetype": "text/html"
      },
      "source": [
        "</td>"
      ],
      "id": "70fcf7ac-3ffc-4444-95d3-fc3faf9745cc"
    },
    {
      "cell_type": "raw",
      "metadata": {
        "raw_mimetype": "text/html"
      },
      "source": [
        "<td>"
      ],
      "id": "bcdb0b1b-8fb9-405d-9363-9a3f94fb1e70"
    },
    {
      "cell_type": "markdown",
      "metadata": {},
      "source": [
        "47 929"
      ],
      "id": "9b929c52-f010-4af5-a1c9-31a0e0b6e1fa"
    },
    {
      "cell_type": "raw",
      "metadata": {
        "raw_mimetype": "text/html"
      },
      "source": [
        "</td>"
      ],
      "id": "6029bb7c-4d41-44f1-81e1-a435fa4d7705"
    },
    {
      "cell_type": "raw",
      "metadata": {
        "raw_mimetype": "text/html"
      },
      "source": [
        "<td>"
      ],
      "id": "b7f133b5-8636-42e6-ae19-540a00f0abfe"
    },
    {
      "cell_type": "markdown",
      "metadata": {},
      "source": [
        "46"
      ],
      "id": "e2728099-cdb5-46b7-9784-cdd046fd3fa7"
    },
    {
      "cell_type": "raw",
      "metadata": {
        "raw_mimetype": "text/html"
      },
      "source": [
        "</td>"
      ],
      "id": "b0885ac3-093c-470a-8379-3377a1be4793"
    },
    {
      "cell_type": "raw",
      "metadata": {
        "raw_mimetype": "text/html"
      },
      "source": [
        "</tr>"
      ],
      "id": "d1de9edb-962e-4ad0-ba45-c0d0ed212468"
    },
    {
      "cell_type": "raw",
      "metadata": {
        "raw_mimetype": "text/html"
      },
      "source": [
        "<tr bgcolor=\"#97DEFF\">"
      ],
      "id": "ccf41670-3922-4628-8aa0-4624117c408b"
    },
    {
      "cell_type": "raw",
      "metadata": {
        "raw_mimetype": "text/html"
      },
      "source": [
        "<td>"
      ],
      "id": "0d5aef77-de2a-4e95-9377-f8e894e86be6"
    },
    {
      "cell_type": "markdown",
      "metadata": {},
      "source": [
        "<a href=\"/wiki/LOSC_Lille\" title=\"LOSC Lille\">LOSC Lille</a>"
      ],
      "id": "c9ceecc6-1a27-40e9-b8bf-bcf8f8160ddc"
    },
    {
      "cell_type": "raw",
      "metadata": {
        "raw_mimetype": "text/html"
      },
      "source": [
        "</td>"
      ],
      "id": "dc1ab43c-82ea-4a00-9ed3-bea3fd9f245a"
    },
    {
      "cell_type": "raw",
      "metadata": {
        "raw_mimetype": "text/html"
      },
      "source": [
        "<td>"
      ],
      "id": "e9789975-9474-48fc-9a6c-115538c315cb"
    },
    {
      "cell_type": "markdown",
      "metadata": {},
      "source": [
        "2000"
      ],
      "id": "7d02a5fc-ae45-46c2-9253-952f21489b29"
    },
    {
      "cell_type": "raw",
      "metadata": {
        "raw_mimetype": "text/html"
      },
      "source": [
        "</td>"
      ],
      "id": "198724ad-d727-43fe-9fb9-61b047bc8a79"
    },
    {
      "cell_type": "raw",
      "metadata": {
        "raw_mimetype": "text/html"
      },
      "source": [
        "<td>"
      ],
      "id": "7d8ac9c4-deab-484b-9216-025bd4cc2efb"
    },
    {
      "cell_type": "markdown",
      "metadata": {},
      "source": [
        "120"
      ],
      "id": "1ea4ff64-8fed-4516-92e3-f9c5a8612758"
    },
    {
      "cell_type": "raw",
      "metadata": {
        "raw_mimetype": "text/html"
      },
      "source": [
        "</td>"
      ],
      "id": "2d97c183-a0a3-4387-a189-ad0151520569"
    },
    {
      "cell_type": "raw",
      "metadata": {
        "raw_mimetype": "text/html"
      },
      "source": [
        "<td>"
      ],
      "id": "7f11680d-2392-4fc3-a173-4ec32fe10e24"
    },
    {
      "cell_type": "markdown",
      "metadata": {},
      "source": [
        "<span data-sort-value=\"102 !\"></span><abbr class=\"abbr\" title=\"Deuxième\">2<sup>e</sup></abbr>"
      ],
      "id": "4192064c-4e43-4790-bacc-c6ee2acf00ff"
    },
    {
      "cell_type": "raw",
      "metadata": {
        "raw_mimetype": "text/html"
      },
      "source": [
        "</td>"
      ],
      "id": "bc040c17-63fc-424c-a6d5-cf4a30b63a47"
    },
    {
      "cell_type": "raw",
      "metadata": {
        "raw_mimetype": "text/html"
      },
      "source": [
        "<td align=\"left\">"
      ],
      "id": "ba83a768-c694-469f-8d3b-26acebfbe0a9"
    },
    {
      "cell_type": "markdown",
      "metadata": {},
      "source": [
        "<span class=\"flagicon\"><a class=\"image\" href=\"/wiki/Fichier:Flag_of_France.svg\" title=\"Drapeau : France\"><img alt=\"\" class=\"noviewer thumbborder\" data-file-height=\"600\" data-file-width=\"900\" decoding=\"async\" height=\"13\" src=\"//upload.wikimedia.org/wikipedia/commons/thumb/c/c3/Flag_of_France.svg/20px-Flag_of_France.svg.png\" srcset=\"//upload.wikimedia.org/wikipedia/commons/thumb/c/c3/Flag_of_France.svg/30px-Flag_of_France.svg.png 1.5x, //upload.wikimedia.org/wikipedia/commons/thumb/c/c3/Flag_of_France.svg/40px-Flag_of_France.svg.png 2x\" width=\"20\"/></a></span> <a href=\"/wiki/Christophe_Galtier\" title=\"Christophe Galtier\">Christophe Galtier</a>"
      ],
      "id": "5a57bfa5-2b7f-41de-add7-1f47b28ef071"
    },
    {
      "cell_type": "raw",
      "metadata": {
        "raw_mimetype": "text/html"
      },
      "source": [
        "</td>"
      ],
      "id": "b02d1949-70c1-419a-b93d-4b03b3537df4"
    },
    {
      "cell_type": "raw",
      "metadata": {
        "raw_mimetype": "text/html"
      },
      "source": [
        "<td>"
      ],
      "id": "6f907ffc-c13f-4402-9e86-753b9ff4c752"
    },
    {
      "cell_type": "markdown",
      "metadata": {},
      "source": [
        "2017"
      ],
      "id": "7a22bb23-ab05-4adc-9ee5-7bc818bc9e1f"
    },
    {
      "cell_type": "raw",
      "metadata": {
        "raw_mimetype": "text/html"
      },
      "source": [
        "</td>"
      ],
      "id": "abb318df-65bb-4a5c-9163-4488fde5d906"
    },
    {
      "cell_type": "raw",
      "metadata": {
        "raw_mimetype": "text/html"
      },
      "source": [
        "<td>"
      ],
      "id": "47790203-bef3-4379-80a3-77aef2c42f7b"
    },
    {
      "cell_type": "markdown",
      "metadata": {},
      "source": [
        "<a href=\"/wiki/Stade_Pierre-Mauroy\" title=\"Stade Pierre-Mauroy\">Stade Pierre-Mauroy</a>"
      ],
      "id": "09a57fe2-3d7f-4cf1-a86c-3298466feef5"
    },
    {
      "cell_type": "raw",
      "metadata": {
        "raw_mimetype": "text/html"
      },
      "source": [
        "</td>"
      ],
      "id": "40510343-f7e0-40fa-b011-cf9d0ab7dfb2"
    },
    {
      "cell_type": "raw",
      "metadata": {
        "raw_mimetype": "text/html"
      },
      "source": [
        "<td>"
      ],
      "id": "876a6510-bad7-47da-aead-516401553463"
    },
    {
      "cell_type": "markdown",
      "metadata": {},
      "source": [
        "49 712"
      ],
      "id": "f898e88e-61dd-4ac8-93cd-7e00520d4204"
    },
    {
      "cell_type": "raw",
      "metadata": {
        "raw_mimetype": "text/html"
      },
      "source": [
        "</td>"
      ],
      "id": "8ad3e2cf-9216-4c64-b676-f7f162a75535"
    },
    {
      "cell_type": "raw",
      "metadata": {
        "raw_mimetype": "text/html"
      },
      "source": [
        "<td>"
      ],
      "id": "444901ed-5199-4ff9-81c9-2a24c4749d99"
    },
    {
      "cell_type": "markdown",
      "metadata": {},
      "source": [
        "59"
      ],
      "id": "04daef07-800b-4978-a143-d49ff7e9b331"
    },
    {
      "cell_type": "raw",
      "metadata": {
        "raw_mimetype": "text/html"
      },
      "source": [
        "</td>"
      ],
      "id": "b340051e-1d8e-41c5-b8aa-2aa2459c85ec"
    },
    {
      "cell_type": "raw",
      "metadata": {
        "raw_mimetype": "text/html"
      },
      "source": [
        "</tr>"
      ],
      "id": "a4ff4a85-2f7f-4a2d-8b62-cf445cbfeb2e"
    },
    {
      "cell_type": "raw",
      "metadata": {
        "raw_mimetype": "text/html"
      },
      "source": [
        "<tr bgcolor=\"#97DEFF\">"
      ],
      "id": "d856308a-3002-4ab0-8863-517079720578"
    },
    {
      "cell_type": "raw",
      "metadata": {
        "raw_mimetype": "text/html"
      },
      "source": [
        "<td>"
      ],
      "id": "5fda8fcd-af4e-4cb1-acd2-e70a235c054a"
    },
    {
      "cell_type": "markdown",
      "metadata": {},
      "source": [
        "<a href=\"/wiki/Olympique_lyonnais\" title=\"Olympique lyonnais\">Olympique lyonnais</a>"
      ],
      "id": "83fd4f12-61f8-4659-8705-bec0216b18c4"
    },
    {
      "cell_type": "raw",
      "metadata": {
        "raw_mimetype": "text/html"
      },
      "source": [
        "</td>"
      ],
      "id": "d3c6ebb3-57be-4a73-93c3-0781b22b6317"
    },
    {
      "cell_type": "raw",
      "metadata": {
        "raw_mimetype": "text/html"
      },
      "source": [
        "<td>"
      ],
      "id": "6dc9926d-d50e-4493-8b36-8a4485f7635f"
    },
    {
      "cell_type": "markdown",
      "metadata": {},
      "source": [
        "1989"
      ],
      "id": "b2598aca-ea5c-43f3-87d9-169e337b468b"
    },
    {
      "cell_type": "raw",
      "metadata": {
        "raw_mimetype": "text/html"
      },
      "source": [
        "</td>"
      ],
      "id": "669f226b-0d40-40d6-9948-26d5e65d49d2"
    },
    {
      "cell_type": "raw",
      "metadata": {
        "raw_mimetype": "text/html"
      },
      "source": [
        "<td>"
      ],
      "id": "81a2cdf5-1eb7-482d-8509-9f41ad153496"
    },
    {
      "cell_type": "markdown",
      "metadata": {},
      "source": [
        "310"
      ],
      "id": "e34765be-542e-498e-9397-36c4de08d413"
    },
    {
      "cell_type": "raw",
      "metadata": {
        "raw_mimetype": "text/html"
      },
      "source": [
        "</td>"
      ],
      "id": "f5b27c82-4724-4309-be98-f9170a2cb0d5"
    },
    {
      "cell_type": "raw",
      "metadata": {
        "raw_mimetype": "text/html"
      },
      "source": [
        "<td>"
      ],
      "id": "3c9c3804-d483-4305-8579-89ca51d8114c"
    },
    {
      "cell_type": "markdown",
      "metadata": {},
      "source": [
        "<span data-sort-value=\"103 !\"></span><abbr class=\"abbr\" title=\"Troisième\">3<sup>e</sup></abbr>"
      ],
      "id": "1ba52131-d316-4341-915f-8a7e8968c1e5"
    },
    {
      "cell_type": "raw",
      "metadata": {
        "raw_mimetype": "text/html"
      },
      "source": [
        "</td>"
      ],
      "id": "114c7903-89d6-46bc-a488-613b3c61aa8f"
    },
    {
      "cell_type": "raw",
      "metadata": {
        "raw_mimetype": "text/html"
      },
      "source": [
        "<td align=\"left\">"
      ],
      "id": "5d7a8143-3fe2-4392-8705-bd9ceb9d96eb"
    },
    {
      "cell_type": "markdown",
      "metadata": {},
      "source": [
        "<span class=\"flagicon\"><a class=\"image\" href=\"/wiki/Fichier:Flag_of_France.svg\" title=\"Drapeau : France\"><img alt=\"\" class=\"noviewer thumbborder\" data-file-height=\"600\" data-file-width=\"900\" decoding=\"async\" height=\"13\" src=\"//upload.wikimedia.org/wikipedia/commons/thumb/c/c3/Flag_of_France.svg/20px-Flag_of_France.svg.png\" srcset=\"//upload.wikimedia.org/wikipedia/commons/thumb/c/c3/Flag_of_France.svg/30px-Flag_of_France.svg.png 1.5x, //upload.wikimedia.org/wikipedia/commons/thumb/c/c3/Flag_of_France.svg/40px-Flag_of_France.svg.png 2x\" width=\"20\"/></a></span> <a href=\"/wiki/Rudi_Garcia\" title=\"Rudi Garcia\">Rudi Garcia</a>"
      ],
      "id": "e692bf11-ef51-4e2a-9fc6-f7bb7d9c18a1"
    },
    {
      "cell_type": "raw",
      "metadata": {
        "raw_mimetype": "text/html"
      },
      "source": [
        "</td>"
      ],
      "id": "b3e81e5d-22a1-4802-bb9a-61c6ddcc3bbe"
    },
    {
      "cell_type": "raw",
      "metadata": {
        "raw_mimetype": "text/html"
      },
      "source": [
        "<td>"
      ],
      "id": "2232a566-5c40-4797-99b2-1f3519d5fa29"
    },
    {
      "cell_type": "markdown",
      "metadata": {},
      "source": [
        "2019"
      ],
      "id": "242bbf43-fe32-4237-98da-18458e80263e"
    },
    {
      "cell_type": "raw",
      "metadata": {
        "raw_mimetype": "text/html"
      },
      "source": [
        "</td>"
      ],
      "id": "143ac648-7736-4438-8d61-cbb2b5cac0b7"
    },
    {
      "cell_type": "raw",
      "metadata": {
        "raw_mimetype": "text/html"
      },
      "source": [
        "<td>"
      ],
      "id": "0bd85dd5-2c75-4f52-b120-43d882edffb8"
    },
    {
      "cell_type": "markdown",
      "metadata": {},
      "source": [
        "<a href=\"/wiki/Parc_Olympique_lyonnais\" title=\"Parc Olympique lyonnais\">Groupama Stadium</a>"
      ],
      "id": "c94a0623-f295-430e-8d7c-d9178d627d96"
    },
    {
      "cell_type": "raw",
      "metadata": {
        "raw_mimetype": "text/html"
      },
      "source": [
        "</td>"
      ],
      "id": "6c790a47-aa23-452d-9e7b-e1d9c24fc075"
    },
    {
      "cell_type": "raw",
      "metadata": {
        "raw_mimetype": "text/html"
      },
      "source": [
        "<td>"
      ],
      "id": "28173e86-3d4e-4410-8aeb-7d001b074376"
    },
    {
      "cell_type": "markdown",
      "metadata": {},
      "source": [
        "57 206"
      ],
      "id": "495b6a6b-4efc-450d-ab3b-1cd96c18ff9c"
    },
    {
      "cell_type": "raw",
      "metadata": {
        "raw_mimetype": "text/html"
      },
      "source": [
        "</td>"
      ],
      "id": "19abb4fd-0afd-485e-9554-4fb6fc2d9395"
    },
    {
      "cell_type": "raw",
      "metadata": {
        "raw_mimetype": "text/html"
      },
      "source": [
        "<td>"
      ],
      "id": "ba99cb18-b285-4a4d-8eb6-c9bdfd3f0fd7"
    },
    {
      "cell_type": "markdown",
      "metadata": {},
      "source": [
        "60"
      ],
      "id": "3d84e132-b661-4515-b019-7ef059e82d97"
    },
    {
      "cell_type": "raw",
      "metadata": {
        "raw_mimetype": "text/html"
      },
      "source": [
        "</td>"
      ],
      "id": "29cfd734-8ec2-40e4-a23f-695571f9773a"
    },
    {
      "cell_type": "raw",
      "metadata": {
        "raw_mimetype": "text/html"
      },
      "source": [
        "</tr>"
      ],
      "id": "933c5db0-9ec3-4df9-a3fa-2546d0079801"
    },
    {
      "cell_type": "raw",
      "metadata": {
        "raw_mimetype": "text/html"
      },
      "source": [
        "<tr bgcolor=\"#FFE052\">"
      ],
      "id": "21f40c4f-a144-4a4e-8001-c0b43ef1354b"
    },
    {
      "cell_type": "raw",
      "metadata": {
        "raw_mimetype": "text/html"
      },
      "source": [
        "<td>"
      ],
      "id": "18e789ed-087d-4e3c-84ad-5695f2dc7fec"
    },
    {
      "cell_type": "markdown",
      "metadata": {},
      "source": [
        "<a href=\"/wiki/Association_sportive_de_Saint-%C3%89tienne\" title=\"Association sportive de Saint-Étienne\">AS Saint-Étienne</a>"
      ],
      "id": "518f2736-2c59-4af3-aa70-2e6ce9a023d4"
    },
    {
      "cell_type": "raw",
      "metadata": {
        "raw_mimetype": "text/html"
      },
      "source": [
        "</td>"
      ],
      "id": "a3bb2347-6a40-4680-9648-3b0cd5e3520e"
    },
    {
      "cell_type": "raw",
      "metadata": {
        "raw_mimetype": "text/html"
      },
      "source": [
        "<td>"
      ],
      "id": "ba8f5a55-1f9d-48d6-856e-87afd055bb1f"
    },
    {
      "cell_type": "markdown",
      "metadata": {},
      "source": [
        "2004"
      ],
      "id": "5e12c67e-3e6e-4825-bec5-1688e7800184"
    },
    {
      "cell_type": "raw",
      "metadata": {
        "raw_mimetype": "text/html"
      },
      "source": [
        "</td>"
      ],
      "id": "a229ba97-db8c-4ed1-8380-66c06b0b7632"
    },
    {
      "cell_type": "raw",
      "metadata": {
        "raw_mimetype": "text/html"
      },
      "source": [
        "<td>"
      ],
      "id": "a54586ca-3134-4aaf-b494-e46f2974b623"
    },
    {
      "cell_type": "markdown",
      "metadata": {},
      "source": [
        "100"
      ],
      "id": "a431d363-81e2-4089-b9f2-057e98e3c296"
    },
    {
      "cell_type": "raw",
      "metadata": {
        "raw_mimetype": "text/html"
      },
      "source": [
        "</td>"
      ],
      "id": "d8f7850b-2002-4d14-bbc6-d152be073ccc"
    },
    {
      "cell_type": "raw",
      "metadata": {
        "raw_mimetype": "text/html"
      },
      "source": [
        "<td>"
      ],
      "id": "8506b9db-18a1-4794-9e18-cfa838ee7b93"
    },
    {
      "cell_type": "markdown",
      "metadata": {},
      "source": [
        "<span data-sort-value=\"104 !\"></span><abbr class=\"abbr\" title=\"Quatrième\">4<sup>e</sup></abbr>"
      ],
      "id": "e4ee8314-25a9-4df9-a4fa-8d3fe13b294c"
    },
    {
      "cell_type": "raw",
      "metadata": {
        "raw_mimetype": "text/html"
      },
      "source": [
        "</td>"
      ],
      "id": "df0faeb8-bbfc-4bd4-b8da-7e53da28dea5"
    },
    {
      "cell_type": "raw",
      "metadata": {
        "raw_mimetype": "text/html"
      },
      "source": [
        "<td align=\"left\">"
      ],
      "id": "dbdf1d0a-9fe0-401c-aa83-d4ec63b1027d"
    },
    {
      "cell_type": "markdown",
      "metadata": {},
      "source": [
        "<span class=\"flagicon\"><a class=\"image\" href=\"/wiki/Fichier:Flag_of_France.svg\" title=\"Drapeau : France\"><img alt=\"\" class=\"noviewer thumbborder\" data-file-height=\"600\" data-file-width=\"900\" decoding=\"async\" height=\"13\" src=\"//upload.wikimedia.org/wikipedia/commons/thumb/c/c3/Flag_of_France.svg/20px-Flag_of_France.svg.png\" srcset=\"//upload.wikimedia.org/wikipedia/commons/thumb/c/c3/Flag_of_France.svg/30px-Flag_of_France.svg.png 1.5x, //upload.wikimedia.org/wikipedia/commons/thumb/c/c3/Flag_of_France.svg/40px-Flag_of_France.svg.png 2x\" width=\"20\"/></a></span> <a href=\"/wiki/Claude_Puel\" title=\"Claude Puel\">Claude Puel</a>"
      ],
      "id": "c8441939-b598-47a3-a07c-61d73e65259e"
    },
    {
      "cell_type": "raw",
      "metadata": {
        "raw_mimetype": "text/html"
      },
      "source": [
        "</td>"
      ],
      "id": "2d23499e-f6b6-43c8-b78a-07d0940f109e"
    },
    {
      "cell_type": "raw",
      "metadata": {
        "raw_mimetype": "text/html"
      },
      "source": [
        "<td>"
      ],
      "id": "21a4a210-77bc-44b1-93ec-78021c82fee8"
    },
    {
      "cell_type": "markdown",
      "metadata": {},
      "source": [
        "2019"
      ],
      "id": "c6086623-2c7b-4328-a27f-34703732b0c3"
    },
    {
      "cell_type": "raw",
      "metadata": {
        "raw_mimetype": "text/html"
      },
      "source": [
        "</td>"
      ],
      "id": "40436725-0f3c-4ac4-8533-7527e591dfb4"
    },
    {
      "cell_type": "raw",
      "metadata": {
        "raw_mimetype": "text/html"
      },
      "source": [
        "<td>"
      ],
      "id": "fdc6d306-4925-4d15-b918-1514035cf2cd"
    },
    {
      "cell_type": "markdown",
      "metadata": {},
      "source": [
        "<a href=\"/wiki/Stade_Geoffroy-Guichard\" title=\"Stade Geoffroy-Guichard\">Stade Geoffroy-Guichard</a>"
      ],
      "id": "81ed0d20-3d53-4fdf-9380-712e4cdc55d4"
    },
    {
      "cell_type": "raw",
      "metadata": {
        "raw_mimetype": "text/html"
      },
      "source": [
        "</td>"
      ],
      "id": "f19e5739-4235-42f8-8bb8-456061325d09"
    },
    {
      "cell_type": "raw",
      "metadata": {
        "raw_mimetype": "text/html"
      },
      "source": [
        "<td>"
      ],
      "id": "95afe1ff-74ca-4997-9d73-557598a25039"
    },
    {
      "cell_type": "markdown",
      "metadata": {},
      "source": [
        "41 965"
      ],
      "id": "f0ec8f1a-bdd9-4438-87a3-03462f6d5ccf"
    },
    {
      "cell_type": "raw",
      "metadata": {
        "raw_mimetype": "text/html"
      },
      "source": [
        "</td>"
      ],
      "id": "55a21b1b-70b1-45b7-9490-c9123ef35ca7"
    },
    {
      "cell_type": "raw",
      "metadata": {
        "raw_mimetype": "text/html"
      },
      "source": [
        "<td>"
      ],
      "id": "91ddf3e2-e247-420e-9754-de8119af591c"
    },
    {
      "cell_type": "markdown",
      "metadata": {},
      "source": [
        "66"
      ],
      "id": "9d4ec4de-feb4-4ecc-91f7-b168b17b52d9"
    },
    {
      "cell_type": "raw",
      "metadata": {
        "raw_mimetype": "text/html"
      },
      "source": [
        "</td>"
      ],
      "id": "8caa1545-a026-40fb-b172-4095749ba956"
    },
    {
      "cell_type": "raw",
      "metadata": {
        "raw_mimetype": "text/html"
      },
      "source": [
        "</tr>"
      ],
      "id": "aa801c34-f4f1-4462-8c56-bbe428f93ecf"
    },
    {
      "cell_type": "raw",
      "metadata": {
        "raw_mimetype": "text/html"
      },
      "source": [
        "<tr>"
      ],
      "id": "b9ab3d05-c2c7-411b-ad9c-77cb08a3bac0"
    },
    {
      "cell_type": "raw",
      "metadata": {
        "raw_mimetype": "text/html"
      },
      "source": [
        "<td>"
      ],
      "id": "8c05aa33-db84-4e38-8ffd-bbb4e08bb604"
    },
    {
      "cell_type": "markdown",
      "metadata": {},
      "source": [
        "<a href=\"/wiki/Olympique_de_Marseille\" title=\"Olympique de Marseille\">Olympique de Marseille</a>"
      ],
      "id": "77e4dc95-b56d-436c-89e7-e67b88bf2eb5"
    },
    {
      "cell_type": "raw",
      "metadata": {
        "raw_mimetype": "text/html"
      },
      "source": [
        "</td>"
      ],
      "id": "f0406bc6-3622-4f10-bd4d-72fa63191efc"
    },
    {
      "cell_type": "raw",
      "metadata": {
        "raw_mimetype": "text/html"
      },
      "source": [
        "<td>"
      ],
      "id": "1ce524e4-c115-4def-a8d8-2e322cde036f"
    },
    {
      "cell_type": "markdown",
      "metadata": {},
      "source": [
        "1996"
      ],
      "id": "0c202fb6-621d-4d1c-9c0b-4bb243d39cab"
    },
    {
      "cell_type": "raw",
      "metadata": {
        "raw_mimetype": "text/html"
      },
      "source": [
        "</td>"
      ],
      "id": "e695412c-f64a-4ece-a3dc-40d4df5d30b4"
    },
    {
      "cell_type": "raw",
      "metadata": {
        "raw_mimetype": "text/html"
      },
      "source": [
        "<td>"
      ],
      "id": "41d6213a-c080-4e02-ae7f-b7206af7e71d"
    },
    {
      "cell_type": "markdown",
      "metadata": {},
      "source": [
        "110"
      ],
      "id": "90c77fbb-85d6-4541-9f96-5ab7d7e1c339"
    },
    {
      "cell_type": "raw",
      "metadata": {
        "raw_mimetype": "text/html"
      },
      "source": [
        "</td>"
      ],
      "id": "c8c74c43-249e-4e36-904c-92529175fd52"
    },
    {
      "cell_type": "raw",
      "metadata": {
        "raw_mimetype": "text/html"
      },
      "source": [
        "<td>"
      ],
      "id": "6a3dde48-01a7-45a1-85ef-c32a17ae52e7"
    },
    {
      "cell_type": "markdown",
      "metadata": {},
      "source": [
        "<span data-sort-value=\"105 !\"></span><abbr class=\"abbr\" title=\"Cinquième\">5<sup>e</sup></abbr>"
      ],
      "id": "56b62839-57fd-4a54-8355-9851a8ae40a6"
    },
    {
      "cell_type": "raw",
      "metadata": {
        "raw_mimetype": "text/html"
      },
      "source": [
        "</td>"
      ],
      "id": "34963664-ac36-46c7-b2dc-a1053fc4dc5a"
    },
    {
      "cell_type": "raw",
      "metadata": {
        "raw_mimetype": "text/html"
      },
      "source": [
        "<td align=\"left\">"
      ],
      "id": "a04978e5-12fc-4f1f-8a5d-4ba020521106"
    },
    {
      "cell_type": "markdown",
      "metadata": {},
      "source": [
        "<span class=\"flagicon\"><a class=\"image\" href=\"/wiki/Fichier:Flag_of_Portugal.svg\" title=\"Drapeau : Portugal\"><img alt=\"\" class=\"noviewer thumbborder\" data-file-height=\"400\" data-file-width=\"600\" decoding=\"async\" height=\"13\" src=\"//upload.wikimedia.org/wikipedia/commons/thumb/5/5c/Flag_of_Portugal.svg/20px-Flag_of_Portugal.svg.png\" srcset=\"//upload.wikimedia.org/wikipedia/commons/thumb/5/5c/Flag_of_Portugal.svg/30px-Flag_of_Portugal.svg.png 1.5x, //upload.wikimedia.org/wikipedia/commons/thumb/5/5c/Flag_of_Portugal.svg/40px-Flag_of_Portugal.svg.png 2x\" width=\"20\"/></a></span> <a href=\"/wiki/Andr%C3%A9_Villas-Boas\" title=\"André Villas-Boas\">André Villas-Boas</a>"
      ],
      "id": "183e2b76-f16f-4372-8727-6ccdc85d5699"
    },
    {
      "cell_type": "raw",
      "metadata": {
        "raw_mimetype": "text/html"
      },
      "source": [
        "</td>"
      ],
      "id": "23e55bd7-c302-4d8e-a43a-54fbe9a3fa4a"
    },
    {
      "cell_type": "raw",
      "metadata": {
        "raw_mimetype": "text/html"
      },
      "source": [
        "<td>"
      ],
      "id": "be92733e-80ac-44dd-8657-acbfb9931fcc"
    },
    {
      "cell_type": "markdown",
      "metadata": {},
      "source": [
        "2019"
      ],
      "id": "fb31484d-40e7-46e3-b0a9-408f40508ecc"
    },
    {
      "cell_type": "raw",
      "metadata": {
        "raw_mimetype": "text/html"
      },
      "source": [
        "</td>"
      ],
      "id": "667ecf26-449e-4755-9e08-e966ac8bd002"
    },
    {
      "cell_type": "raw",
      "metadata": {
        "raw_mimetype": "text/html"
      },
      "source": [
        "<td>"
      ],
      "id": "2d4fcb62-6204-453c-b489-f23c7134d866"
    },
    {
      "cell_type": "markdown",
      "metadata": {},
      "source": [
        "<a href=\"/wiki/Stade_V%C3%A9lodrome\" title=\"Stade Vélodrome\">Orange Vélodrome</a>"
      ],
      "id": "b605fad3-1574-4a89-96c4-9c1cdf8d41e7"
    },
    {
      "cell_type": "raw",
      "metadata": {
        "raw_mimetype": "text/html"
      },
      "source": [
        "</td>"
      ],
      "id": "c10d5118-8359-4c10-86c1-21a4f2b5acdc"
    },
    {
      "cell_type": "raw",
      "metadata": {
        "raw_mimetype": "text/html"
      },
      "source": [
        "<td>"
      ],
      "id": "7cdd7891-97b4-4c53-a55a-8c142258e27a"
    },
    {
      "cell_type": "markdown",
      "metadata": {},
      "source": [
        "66 226"
      ],
      "id": "65a4e720-47d6-44d4-a5e4-1a99db1622e9"
    },
    {
      "cell_type": "raw",
      "metadata": {
        "raw_mimetype": "text/html"
      },
      "source": [
        "</td>"
      ],
      "id": "025e106b-495e-4c82-99d2-66646004253f"
    },
    {
      "cell_type": "raw",
      "metadata": {
        "raw_mimetype": "text/html"
      },
      "source": [
        "<td>"
      ],
      "id": "f46290ca-b5df-492a-9090-0e5ddc8aa81a"
    },
    {
      "cell_type": "markdown",
      "metadata": {},
      "source": [
        "69"
      ],
      "id": "2111e10b-8e00-4954-a94e-c338f9f4cf60"
    },
    {
      "cell_type": "raw",
      "metadata": {
        "raw_mimetype": "text/html"
      },
      "source": [
        "</td>"
      ],
      "id": "bc649490-1f82-45b6-a597-cfb5dcf3579d"
    },
    {
      "cell_type": "raw",
      "metadata": {
        "raw_mimetype": "text/html"
      },
      "source": [
        "</tr>"
      ],
      "id": "9aa3d19d-bbee-4a61-9066-7f75a078605c"
    },
    {
      "cell_type": "raw",
      "metadata": {
        "raw_mimetype": "text/html"
      },
      "source": [
        "<tr>"
      ],
      "id": "cb1bd2bf-7d4d-4800-bc1e-b5e27dcfc505"
    },
    {
      "cell_type": "raw",
      "metadata": {
        "raw_mimetype": "text/html"
      },
      "source": [
        "<td>"
      ],
      "id": "ee03523e-ca2a-44a3-ad19-e83f8b00b663"
    },
    {
      "cell_type": "markdown",
      "metadata": {},
      "source": [
        "<a href=\"/wiki/Montpellier_H%C3%A9rault_Sport_Club\" title=\"Montpellier Hérault Sport Club\">Montpellier HSC</a>"
      ],
      "id": "b83a5570-8759-49c1-8b82-f3ba9aa45ba9"
    },
    {
      "cell_type": "raw",
      "metadata": {
        "raw_mimetype": "text/html"
      },
      "source": [
        "</td>"
      ],
      "id": "0dce5436-9198-42ac-936c-c2359a05f6e3"
    },
    {
      "cell_type": "raw",
      "metadata": {
        "raw_mimetype": "text/html"
      },
      "source": [
        "<td>"
      ],
      "id": "6135122d-1713-41e1-8c32-663c331d6219"
    },
    {
      "cell_type": "markdown",
      "metadata": {},
      "source": [
        "2009"
      ],
      "id": "23301694-2da6-4756-9705-82b54527d4c3"
    },
    {
      "cell_type": "raw",
      "metadata": {
        "raw_mimetype": "text/html"
      },
      "source": [
        "</td>"
      ],
      "id": "e81d023f-b609-4cb5-a0b0-ebd5102b9b02"
    },
    {
      "cell_type": "raw",
      "metadata": {
        "raw_mimetype": "text/html"
      },
      "source": [
        "<td>"
      ],
      "id": "9290149a-6a64-4c14-8638-935127f034da"
    },
    {
      "cell_type": "markdown",
      "metadata": {},
      "source": [
        "40"
      ],
      "id": "c99f109b-852b-411d-8848-8046c3c8e40c"
    },
    {
      "cell_type": "raw",
      "metadata": {
        "raw_mimetype": "text/html"
      },
      "source": [
        "</td>"
      ],
      "id": "51451881-8bcf-44fe-9dea-b0d16480a61f"
    },
    {
      "cell_type": "raw",
      "metadata": {
        "raw_mimetype": "text/html"
      },
      "source": [
        "<td>"
      ],
      "id": "7cab23a6-98de-470d-a533-c2b244e2f673"
    },
    {
      "cell_type": "markdown",
      "metadata": {},
      "source": [
        "<span data-sort-value=\"106 !\"></span><abbr class=\"abbr\" title=\"Sixième\">6<sup>e</sup></abbr>"
      ],
      "id": "54971b95-8da0-4ad5-a705-a395c21c690e"
    },
    {
      "cell_type": "raw",
      "metadata": {
        "raw_mimetype": "text/html"
      },
      "source": [
        "</td>"
      ],
      "id": "63ea1a76-202f-4e60-b8bb-ddcbb738cdb6"
    },
    {
      "cell_type": "raw",
      "metadata": {
        "raw_mimetype": "text/html"
      },
      "source": [
        "<td align=\"left\">"
      ],
      "id": "66fc4b75-981b-4b1f-8e1a-090f9c7fbc91"
    },
    {
      "cell_type": "markdown",
      "metadata": {},
      "source": [
        "<span class=\"flagicon\"><a class=\"image\" href=\"/wiki/Fichier:Flag_of_Armenia.svg\" title=\"Drapeau : Arménie\"><img alt=\"\" class=\"noviewer thumbborder\" data-file-height=\"600\" data-file-width=\"1200\" decoding=\"async\" height=\"10\" src=\"//upload.wikimedia.org/wikipedia/commons/thumb/2/2f/Flag_of_Armenia.svg/20px-Flag_of_Armenia.svg.png\" srcset=\"//upload.wikimedia.org/wikipedia/commons/thumb/2/2f/Flag_of_Armenia.svg/30px-Flag_of_Armenia.svg.png 1.5x, //upload.wikimedia.org/wikipedia/commons/thumb/2/2f/Flag_of_Armenia.svg/40px-Flag_of_Armenia.svg.png 2x\" width=\"20\"/></a></span><span class=\"flagicon\"><a class=\"image\" href=\"/wiki/Fichier:Flag_of_France.svg\" title=\"Drapeau : France\"><img alt=\"\" class=\"noviewer thumbborder\" data-file-height=\"600\" data-file-width=\"900\" decoding=\"async\" height=\"13\" src=\"//upload.wikimedia.org/wikipedia/commons/thumb/c/c3/Flag_of_France.svg/20px-Flag_of_France.svg.png\" srcset=\"//upload.wikimedia.org/wikipedia/commons/thumb/c/c3/Flag_of_France.svg/30px-Flag_of_France.svg.png 1.5x, //upload.wikimedia.org/wikipedia/commons/thumb/c/c3/Flag_of_France.svg/40px-Flag_of_France.svg.png 2x\" width=\"20\"/></a></span> <a href=\"/wiki/Michel_Der_Zakarian\" title=\"Michel Der Zakarian\">Michel Der Zakarian</a>"
      ],
      "id": "910c620a-a6b3-4d86-af17-5bd774fa47d1"
    },
    {
      "cell_type": "raw",
      "metadata": {
        "raw_mimetype": "text/html"
      },
      "source": [
        "</td>"
      ],
      "id": "72908251-9c47-4641-a1ed-98350c09ce09"
    },
    {
      "cell_type": "raw",
      "metadata": {
        "raw_mimetype": "text/html"
      },
      "source": [
        "<td>"
      ],
      "id": "5669a7ee-fd83-4b8d-80bf-bbac9f0b9dba"
    },
    {
      "cell_type": "markdown",
      "metadata": {},
      "source": [
        "2017"
      ],
      "id": "13941119-a919-406f-9212-1027f705dad6"
    },
    {
      "cell_type": "raw",
      "metadata": {
        "raw_mimetype": "text/html"
      },
      "source": [
        "</td>"
      ],
      "id": "e65d61ff-b98c-4cdf-8614-d225cf74a66a"
    },
    {
      "cell_type": "raw",
      "metadata": {
        "raw_mimetype": "text/html"
      },
      "source": [
        "<td>"
      ],
      "id": "59918580-ddcd-4faa-b50e-9b4d3741b6ec"
    },
    {
      "cell_type": "markdown",
      "metadata": {},
      "source": [
        "<a href=\"/wiki/Stade_de_la_Mosson\" title=\"Stade de la Mosson\">Stade de la Mosson</a>"
      ],
      "id": "8e12c5a6-4b6a-4a13-9541-dc2de438314b"
    },
    {
      "cell_type": "raw",
      "metadata": {
        "raw_mimetype": "text/html"
      },
      "source": [
        "</td>"
      ],
      "id": "8f29a936-723b-4974-a4f6-f410e664129a"
    },
    {
      "cell_type": "raw",
      "metadata": {
        "raw_mimetype": "text/html"
      },
      "source": [
        "<td>"
      ],
      "id": "8a86a929-488b-4687-8bc1-4fa7867b61b5"
    },
    {
      "cell_type": "markdown",
      "metadata": {},
      "source": [
        "22 000"
      ],
      "id": "0326a72f-5c7c-4446-a90f-5dd60e5747b8"
    },
    {
      "cell_type": "raw",
      "metadata": {
        "raw_mimetype": "text/html"
      },
      "source": [
        "</td>"
      ],
      "id": "00a2dd3b-4d5a-45a7-986f-77d9bc27dd53"
    },
    {
      "cell_type": "raw",
      "metadata": {
        "raw_mimetype": "text/html"
      },
      "source": [
        "<td>"
      ],
      "id": "0a012f80-b3a7-444f-93b5-007fb412a5b0"
    },
    {
      "cell_type": "markdown",
      "metadata": {},
      "source": [
        "27"
      ],
      "id": "730073b0-0503-4ff0-9d07-82032a460825"
    },
    {
      "cell_type": "raw",
      "metadata": {
        "raw_mimetype": "text/html"
      },
      "source": [
        "</td>"
      ],
      "id": "46802eea-3fc2-4394-8646-906dbca1765d"
    },
    {
      "cell_type": "raw",
      "metadata": {
        "raw_mimetype": "text/html"
      },
      "source": [
        "</tr>"
      ],
      "id": "d15104db-3af2-4205-8cbc-ebb57ae9127a"
    },
    {
      "cell_type": "raw",
      "metadata": {
        "raw_mimetype": "text/html"
      },
      "source": [
        "<tr>"
      ],
      "id": "96a84f17-ffd3-4640-83db-c6dc2f6111ad"
    },
    {
      "cell_type": "raw",
      "metadata": {
        "raw_mimetype": "text/html"
      },
      "source": [
        "<td>"
      ],
      "id": "63968a95-d06b-4d40-bfb9-f6c99c03a34d"
    },
    {
      "cell_type": "markdown",
      "metadata": {},
      "source": [
        "<a href=\"/wiki/Olympique_Gymnaste_Club_Nice\" title=\"Olympique Gymnaste Club Nice\">OGC Nice</a>"
      ],
      "id": "631c11e8-349b-4b54-bcaa-a71d3f3a3b1d"
    },
    {
      "cell_type": "raw",
      "metadata": {
        "raw_mimetype": "text/html"
      },
      "source": [
        "</td>"
      ],
      "id": "3273ceec-8b97-4700-8c2f-5687b28a3d8a"
    },
    {
      "cell_type": "raw",
      "metadata": {
        "raw_mimetype": "text/html"
      },
      "source": [
        "<td>"
      ],
      "id": "f1eaad4f-14c6-462e-a480-67e30735d32d"
    },
    {
      "cell_type": "markdown",
      "metadata": {},
      "source": [
        "2002"
      ],
      "id": "aa1c2a62-748a-4b83-877b-0c7d67b69a51"
    },
    {
      "cell_type": "raw",
      "metadata": {
        "raw_mimetype": "text/html"
      },
      "source": [
        "</td>"
      ],
      "id": "2e2cbe36-77cf-4b59-a708-079f15856879"
    },
    {
      "cell_type": "raw",
      "metadata": {
        "raw_mimetype": "text/html"
      },
      "source": [
        "<td>"
      ],
      "id": "30188750-3a6e-492a-9b3c-da48d52c130f"
    },
    {
      "cell_type": "markdown",
      "metadata": {},
      "source": [
        "50"
      ],
      "id": "2235f5fa-b0f8-4120-9688-8a9d91fb82d6"
    },
    {
      "cell_type": "raw",
      "metadata": {
        "raw_mimetype": "text/html"
      },
      "source": [
        "</td>"
      ],
      "id": "f6cf3d03-31c1-413c-9940-13ce5720ea35"
    },
    {
      "cell_type": "raw",
      "metadata": {
        "raw_mimetype": "text/html"
      },
      "source": [
        "<td>"
      ],
      "id": "5c084942-223a-4b74-a545-989ebfad139b"
    },
    {
      "cell_type": "markdown",
      "metadata": {},
      "source": [
        "<span data-sort-value=\"107 !\"></span><abbr class=\"abbr\" title=\"Septième\">7<sup>e</sup></abbr>"
      ],
      "id": "0ab7eaa1-7261-4c6e-9f58-6ffb7dffdde7"
    },
    {
      "cell_type": "raw",
      "metadata": {
        "raw_mimetype": "text/html"
      },
      "source": [
        "</td>"
      ],
      "id": "ec6557e6-f6cf-4dff-b526-c1dfdeae80d2"
    },
    {
      "cell_type": "raw",
      "metadata": {
        "raw_mimetype": "text/html"
      },
      "source": [
        "<td align=\"left\">"
      ],
      "id": "b4ad0a88-3b6c-4d8a-979b-8f0c246534ae"
    },
    {
      "cell_type": "markdown",
      "metadata": {},
      "source": [
        "<span class=\"flagicon\"><a class=\"image\" href=\"/wiki/Fichier:Flag_of_France.svg\" title=\"Drapeau : France\"><img alt=\"\" class=\"noviewer thumbborder\" data-file-height=\"600\" data-file-width=\"900\" decoding=\"async\" height=\"13\" src=\"//upload.wikimedia.org/wikipedia/commons/thumb/c/c3/Flag_of_France.svg/20px-Flag_of_France.svg.png\" srcset=\"//upload.wikimedia.org/wikipedia/commons/thumb/c/c3/Flag_of_France.svg/30px-Flag_of_France.svg.png 1.5x, //upload.wikimedia.org/wikipedia/commons/thumb/c/c3/Flag_of_France.svg/40px-Flag_of_France.svg.png 2x\" width=\"20\"/></a></span> <a href=\"/wiki/Patrick_Vieira\" title=\"Patrick Vieira\">Patrick Vieira</a>"
      ],
      "id": "03bd5eac-48f7-498a-a56b-2366a6626341"
    },
    {
      "cell_type": "raw",
      "metadata": {
        "raw_mimetype": "text/html"
      },
      "source": [
        "</td>"
      ],
      "id": "c6555d02-3aad-4c22-b105-9c2155c973aa"
    },
    {
      "cell_type": "raw",
      "metadata": {
        "raw_mimetype": "text/html"
      },
      "source": [
        "<td>"
      ],
      "id": "1f178745-df1f-453f-b434-2c05cfa49dfd"
    },
    {
      "cell_type": "markdown",
      "metadata": {},
      "source": [
        "2018"
      ],
      "id": "779c9e09-3861-4b77-9ef3-3d31115fe49d"
    },
    {
      "cell_type": "raw",
      "metadata": {
        "raw_mimetype": "text/html"
      },
      "source": [
        "</td>"
      ],
      "id": "1eb16b6b-5733-4db3-83a9-b29fe67904d9"
    },
    {
      "cell_type": "raw",
      "metadata": {
        "raw_mimetype": "text/html"
      },
      "source": [
        "<td>"
      ],
      "id": "1c25d3ce-7d40-4e2f-9ecd-ad99e00bd7f2"
    },
    {
      "cell_type": "markdown",
      "metadata": {},
      "source": [
        "<a href=\"/wiki/Allianz_Riviera\" title=\"Allianz Riviera\">Allianz Riviera</a>"
      ],
      "id": "3b776844-5fb6-469e-9ae1-c60b97732636"
    },
    {
      "cell_type": "raw",
      "metadata": {
        "raw_mimetype": "text/html"
      },
      "source": [
        "</td>"
      ],
      "id": "04025adf-77f7-46b4-a330-4563640de2a4"
    },
    {
      "cell_type": "raw",
      "metadata": {
        "raw_mimetype": "text/html"
      },
      "source": [
        "<td>"
      ],
      "id": "c5467d16-17f8-4690-bd16-40aabc33de26"
    },
    {
      "cell_type": "markdown",
      "metadata": {},
      "source": [
        "35 596"
      ],
      "id": "021676b4-aca9-4e25-be7c-8623617ca878"
    },
    {
      "cell_type": "raw",
      "metadata": {
        "raw_mimetype": "text/html"
      },
      "source": [
        "</td>"
      ],
      "id": "ebaf33fc-631d-4f45-8910-291685a8b830"
    },
    {
      "cell_type": "raw",
      "metadata": {
        "raw_mimetype": "text/html"
      },
      "source": [
        "<td>"
      ],
      "id": "0a250dbe-491f-4263-ba62-c4781e4fb5a8"
    },
    {
      "cell_type": "markdown",
      "metadata": {},
      "source": [
        "60"
      ],
      "id": "609baf36-7881-409f-b11e-8679237047ed"
    },
    {
      "cell_type": "raw",
      "metadata": {
        "raw_mimetype": "text/html"
      },
      "source": [
        "</td>"
      ],
      "id": "104e2858-e997-4868-b247-68cbe6b775a6"
    },
    {
      "cell_type": "raw",
      "metadata": {
        "raw_mimetype": "text/html"
      },
      "source": [
        "</tr>"
      ],
      "id": "13a7a2b5-eb3c-49e8-ae76-f59aaf1f4a51"
    },
    {
      "cell_type": "raw",
      "metadata": {
        "raw_mimetype": "text/html"
      },
      "source": [
        "<tr>"
      ],
      "id": "90928cd2-6079-4908-971f-20307dbfcf07"
    },
    {
      "cell_type": "raw",
      "metadata": {
        "raw_mimetype": "text/html"
      },
      "source": [
        "<td>"
      ],
      "id": "bd521ddc-edb5-4a4a-9b4a-a8c1709025d5"
    },
    {
      "cell_type": "markdown",
      "metadata": {},
      "source": [
        "<a href=\"/wiki/Stade_de_Reims\" title=\"Stade de Reims\">Stade de Reims</a>"
      ],
      "id": "fd6aa95e-49e5-4665-ad2e-b13e1852057b"
    },
    {
      "cell_type": "raw",
      "metadata": {
        "raw_mimetype": "text/html"
      },
      "source": [
        "</td>"
      ],
      "id": "dc48a8ec-3881-49d8-bbc5-16cac4b9d0df"
    },
    {
      "cell_type": "raw",
      "metadata": {
        "raw_mimetype": "text/html"
      },
      "source": [
        "<td>"
      ],
      "id": "54129bb1-a412-4030-bfac-339f22feb33d"
    },
    {
      "cell_type": "markdown",
      "metadata": {},
      "source": [
        "2018"
      ],
      "id": "f9979a7b-bb3d-4708-bcc9-ff1a4d36ae9d"
    },
    {
      "cell_type": "raw",
      "metadata": {
        "raw_mimetype": "text/html"
      },
      "source": [
        "</td>"
      ],
      "id": "b7923f9c-bffe-4e02-8da3-ff3c7583fc22"
    },
    {
      "cell_type": "raw",
      "metadata": {
        "raw_mimetype": "text/html"
      },
      "source": [
        "<td>"
      ],
      "id": "a2a019b3-1d1b-49fb-98f5-add52bfe8592"
    },
    {
      "cell_type": "markdown",
      "metadata": {},
      "source": [
        "45"
      ],
      "id": "6630b903-8603-4916-a1d9-3086c375a214"
    },
    {
      "cell_type": "raw",
      "metadata": {
        "raw_mimetype": "text/html"
      },
      "source": [
        "</td>"
      ],
      "id": "9eacb7fa-8885-484c-b33f-9f6bf3117f1a"
    },
    {
      "cell_type": "raw",
      "metadata": {
        "raw_mimetype": "text/html"
      },
      "source": [
        "<td>"
      ],
      "id": "c35d21b2-21f9-4ef4-b3cb-f68130c053b6"
    },
    {
      "cell_type": "markdown",
      "metadata": {},
      "source": [
        "<span data-sort-value=\"108 !\"></span><abbr class=\"abbr\" title=\"Huitième\">8<sup>e</sup></abbr>"
      ],
      "id": "a0fae6bf-0bfa-46ce-b7d7-8ed989ab8ac3"
    },
    {
      "cell_type": "raw",
      "metadata": {
        "raw_mimetype": "text/html"
      },
      "source": [
        "</td>"
      ],
      "id": "e955a9a5-99f6-41ac-813e-823500d46f2b"
    },
    {
      "cell_type": "raw",
      "metadata": {
        "raw_mimetype": "text/html"
      },
      "source": [
        "<td align=\"left\">"
      ],
      "id": "9bcfa193-22c3-4103-bb9a-97eed4e653d3"
    },
    {
      "cell_type": "markdown",
      "metadata": {},
      "source": [
        "<span class=\"flagicon\"><a class=\"image\" href=\"/wiki/Fichier:Flag_of_France.svg\" title=\"Drapeau : France\"><img alt=\"\" class=\"noviewer thumbborder\" data-file-height=\"600\" data-file-width=\"900\" decoding=\"async\" height=\"13\" src=\"//upload.wikimedia.org/wikipedia/commons/thumb/c/c3/Flag_of_France.svg/20px-Flag_of_France.svg.png\" srcset=\"//upload.wikimedia.org/wikipedia/commons/thumb/c/c3/Flag_of_France.svg/30px-Flag_of_France.svg.png 1.5x, //upload.wikimedia.org/wikipedia/commons/thumb/c/c3/Flag_of_France.svg/40px-Flag_of_France.svg.png 2x\" width=\"20\"/></a></span> <a href=\"/wiki/David_Guion\" title=\"David Guion\">David Guion</a>"
      ],
      "id": "3f790819-6883-49b4-86c5-3dc11b9ee4d6"
    },
    {
      "cell_type": "raw",
      "metadata": {
        "raw_mimetype": "text/html"
      },
      "source": [
        "</td>"
      ],
      "id": "c35a8ddf-9caf-4879-80de-b2a7ce9ded8e"
    },
    {
      "cell_type": "raw",
      "metadata": {
        "raw_mimetype": "text/html"
      },
      "source": [
        "<td>"
      ],
      "id": "da579ef5-80be-4508-872f-19d60ce48e0b"
    },
    {
      "cell_type": "markdown",
      "metadata": {},
      "source": [
        "2017"
      ],
      "id": "47d2f27f-d05b-4e81-a316-64ef1ff4146e"
    },
    {
      "cell_type": "raw",
      "metadata": {
        "raw_mimetype": "text/html"
      },
      "source": [
        "</td>"
      ],
      "id": "399cfc35-b28e-4197-b646-e1acf0a23c4b"
    },
    {
      "cell_type": "raw",
      "metadata": {
        "raw_mimetype": "text/html"
      },
      "source": [
        "<td>"
      ],
      "id": "2e3e26a1-2d14-4170-9c9d-936d9e29683e"
    },
    {
      "cell_type": "markdown",
      "metadata": {},
      "source": [
        "<a href=\"/wiki/Stade_Auguste-Delaune\" title=\"Stade Auguste-Delaune\">Stade Auguste-Delaune</a>"
      ],
      "id": "3fb3c02d-6617-4ba6-9151-e032e1ee4be9"
    },
    {
      "cell_type": "raw",
      "metadata": {
        "raw_mimetype": "text/html"
      },
      "source": [
        "</td>"
      ],
      "id": "809023c5-677c-487e-bf5f-31a49bc4b2ea"
    },
    {
      "cell_type": "raw",
      "metadata": {
        "raw_mimetype": "text/html"
      },
      "source": [
        "<td>"
      ],
      "id": "f18f7b32-b32c-49b7-a3d8-612e2cb0694e"
    },
    {
      "cell_type": "markdown",
      "metadata": {},
      "source": [
        "20 546"
      ],
      "id": "11c654eb-91cf-4fac-a9e4-4f9578ca7902"
    },
    {
      "cell_type": "raw",
      "metadata": {
        "raw_mimetype": "text/html"
      },
      "source": [
        "</td>"
      ],
      "id": "f6192033-e090-45ab-84fe-a6500a34f77f"
    },
    {
      "cell_type": "raw",
      "metadata": {
        "raw_mimetype": "text/html"
      },
      "source": [
        "<td>"
      ],
      "id": "734c2aff-d75f-42c4-9ae2-866e4458b2d0"
    },
    {
      "cell_type": "markdown",
      "metadata": {},
      "source": [
        "35"
      ],
      "id": "e6501d0b-e65d-49a8-9f7e-15e617022832"
    },
    {
      "cell_type": "raw",
      "metadata": {
        "raw_mimetype": "text/html"
      },
      "source": [
        "</td>"
      ],
      "id": "0223eb91-9476-4aa7-9309-4d2a9452ed12"
    },
    {
      "cell_type": "raw",
      "metadata": {
        "raw_mimetype": "text/html"
      },
      "source": [
        "</tr>"
      ],
      "id": "fba4a2dc-37d2-40f9-89a3-7099b0e17cc5"
    },
    {
      "cell_type": "raw",
      "metadata": {
        "raw_mimetype": "text/html"
      },
      "source": [
        "<tr>"
      ],
      "id": "2ae68325-f90d-4e08-a8c2-d3ccbf612f11"
    },
    {
      "cell_type": "raw",
      "metadata": {
        "raw_mimetype": "text/html"
      },
      "source": [
        "<td>"
      ],
      "id": "eb74d7bb-c9c2-4e8f-9fc1-db1be5ac6416"
    },
    {
      "cell_type": "markdown",
      "metadata": {},
      "source": [
        "<a href=\"/wiki/N%C3%AEmes_Olympique\" title=\"Nîmes Olympique\">Nîmes Olympique</a>"
      ],
      "id": "311b695f-48f1-4f44-a0ff-70652d81e2e0"
    },
    {
      "cell_type": "raw",
      "metadata": {
        "raw_mimetype": "text/html"
      },
      "source": [
        "</td>"
      ],
      "id": "2a883b39-e340-4aeb-8415-e2753a9ada6e"
    },
    {
      "cell_type": "raw",
      "metadata": {
        "raw_mimetype": "text/html"
      },
      "source": [
        "<td>"
      ],
      "id": "4b8e0e58-bea3-4407-9757-563da17a4785"
    },
    {
      "cell_type": "markdown",
      "metadata": {},
      "source": [
        "2018"
      ],
      "id": "0833d113-4000-4547-aef5-277787732a64"
    },
    {
      "cell_type": "raw",
      "metadata": {
        "raw_mimetype": "text/html"
      },
      "source": [
        "</td>"
      ],
      "id": "5c73ee95-9cbb-4209-9b45-68bbe3b9d403"
    },
    {
      "cell_type": "raw",
      "metadata": {
        "raw_mimetype": "text/html"
      },
      "source": [
        "<td>"
      ],
      "id": "3ebe0d84-3192-40c8-b24b-4dcb7d6807fb"
    },
    {
      "cell_type": "markdown",
      "metadata": {},
      "source": [
        "27"
      ],
      "id": "8f2ad4e6-9e0d-4e09-a8f0-8d24890ad222"
    },
    {
      "cell_type": "raw",
      "metadata": {
        "raw_mimetype": "text/html"
      },
      "source": [
        "</td>"
      ],
      "id": "9edfb0d6-7e52-4630-b6d9-dfd883a07f7d"
    },
    {
      "cell_type": "raw",
      "metadata": {
        "raw_mimetype": "text/html"
      },
      "source": [
        "<td>"
      ],
      "id": "eea161e7-e739-46bb-9c8a-2318aaf0bc03"
    },
    {
      "cell_type": "markdown",
      "metadata": {},
      "source": [
        "<span data-sort-value=\"109 !\"></span><abbr class=\"abbr\" title=\"Neuvième\">9<sup>e</sup></abbr>"
      ],
      "id": "94325527-fcd5-4857-956d-f3d5e1aa9e95"
    },
    {
      "cell_type": "raw",
      "metadata": {
        "raw_mimetype": "text/html"
      },
      "source": [
        "</td>"
      ],
      "id": "07d9627d-13f5-4129-af37-81be140fbc99"
    },
    {
      "cell_type": "raw",
      "metadata": {
        "raw_mimetype": "text/html"
      },
      "source": [
        "<td align=\"left\">"
      ],
      "id": "a6bcbdf1-c497-499e-b439-5d8a5b281cb7"
    },
    {
      "cell_type": "markdown",
      "metadata": {},
      "source": [
        "<span class=\"flagicon\"><a class=\"image\" href=\"/wiki/Fichier:Flag_of_France.svg\" title=\"Drapeau : France\"><img alt=\"\" class=\"noviewer thumbborder\" data-file-height=\"600\" data-file-width=\"900\" decoding=\"async\" height=\"13\" src=\"//upload.wikimedia.org/wikipedia/commons/thumb/c/c3/Flag_of_France.svg/20px-Flag_of_France.svg.png\" srcset=\"//upload.wikimedia.org/wikipedia/commons/thumb/c/c3/Flag_of_France.svg/30px-Flag_of_France.svg.png 1.5x, //upload.wikimedia.org/wikipedia/commons/thumb/c/c3/Flag_of_France.svg/40px-Flag_of_France.svg.png 2x\" width=\"20\"/></a></span> <a href=\"/wiki/Bernard_Blaquart\" title=\"Bernard Blaquart\">Bernard Blaquart</a>"
      ],
      "id": "819418bc-a18f-4e11-a2fe-f44cabf9fdca"
    },
    {
      "cell_type": "raw",
      "metadata": {
        "raw_mimetype": "text/html"
      },
      "source": [
        "</td>"
      ],
      "id": "b8b1e427-0edc-4fa7-af9d-c826867bdf79"
    },
    {
      "cell_type": "raw",
      "metadata": {
        "raw_mimetype": "text/html"
      },
      "source": [
        "<td>"
      ],
      "id": "e524e3f3-6eb1-40f8-b612-4488a803f5ec"
    },
    {
      "cell_type": "markdown",
      "metadata": {},
      "source": [
        "2015"
      ],
      "id": "00af17b5-0fa5-4806-a5a7-48f21710be05"
    },
    {
      "cell_type": "raw",
      "metadata": {
        "raw_mimetype": "text/html"
      },
      "source": [
        "</td>"
      ],
      "id": "921e8e97-ddba-4295-a5b7-44031b97827a"
    },
    {
      "cell_type": "raw",
      "metadata": {
        "raw_mimetype": "text/html"
      },
      "source": [
        "<td>"
      ],
      "id": "ae895eca-34e2-4e03-8146-82aa905299a3"
    },
    {
      "cell_type": "markdown",
      "metadata": {},
      "source": [
        "<a href=\"/wiki/Stade_des_Costi%C3%A8res\" title=\"Stade des Costières\">Stade des Costières</a>"
      ],
      "id": "f01f2057-b2f8-4c01-a586-86c3aae4d13e"
    },
    {
      "cell_type": "raw",
      "metadata": {
        "raw_mimetype": "text/html"
      },
      "source": [
        "</td>"
      ],
      "id": "0070e454-db4c-4a44-be0e-1cef21c1205f"
    },
    {
      "cell_type": "raw",
      "metadata": {
        "raw_mimetype": "text/html"
      },
      "source": [
        "<td>"
      ],
      "id": "890da1cc-c1c2-4744-a25e-665c51f8623d"
    },
    {
      "cell_type": "markdown",
      "metadata": {},
      "source": [
        "15 788"
      ],
      "id": "42baeef8-cecb-4be0-a975-8a3ec0893a14"
    },
    {
      "cell_type": "raw",
      "metadata": {
        "raw_mimetype": "text/html"
      },
      "source": [
        "</td>"
      ],
      "id": "e761b021-7587-4809-9cc6-e4b27e0220d2"
    },
    {
      "cell_type": "raw",
      "metadata": {
        "raw_mimetype": "text/html"
      },
      "source": [
        "<td>"
      ],
      "id": "ac82ff77-8ce6-4062-99f8-79cd1a116657"
    },
    {
      "cell_type": "markdown",
      "metadata": {},
      "source": [
        "35"
      ],
      "id": "95d00694-333f-454f-af47-935f9a3a559a"
    },
    {
      "cell_type": "raw",
      "metadata": {
        "raw_mimetype": "text/html"
      },
      "source": [
        "</td>"
      ],
      "id": "27189919-868d-49d8-a6f1-2e6cf130b8b7"
    },
    {
      "cell_type": "raw",
      "metadata": {
        "raw_mimetype": "text/html"
      },
      "source": [
        "</tr>"
      ],
      "id": "e179496e-82ab-4701-bfb6-0f039b18f918"
    },
    {
      "cell_type": "raw",
      "metadata": {
        "raw_mimetype": "text/html"
      },
      "source": [
        "<tr bgcolor=\"#FFE052\">"
      ],
      "id": "09cb7292-9aac-4d55-a924-2ad883928d15"
    },
    {
      "cell_type": "raw",
      "metadata": {
        "raw_mimetype": "text/html"
      },
      "source": [
        "<td>"
      ],
      "id": "d852ae03-eff3-4cb8-b97a-58d97cc09c7e"
    },
    {
      "cell_type": "markdown",
      "metadata": {},
      "source": [
        "<a class=\"mw-redirect\" href=\"/wiki/Stade_rennais_football_club\" title=\"Stade rennais football club\">Stade rennais FC</a>"
      ],
      "id": "bebaa475-5c6e-427d-98f3-570cafbf3156"
    },
    {
      "cell_type": "raw",
      "metadata": {
        "raw_mimetype": "text/html"
      },
      "source": [
        "</td>"
      ],
      "id": "66c4d4b0-292b-49b4-b0b9-ab189cf0395e"
    },
    {
      "cell_type": "raw",
      "metadata": {
        "raw_mimetype": "text/html"
      },
      "source": [
        "<td>"
      ],
      "id": "851c8310-4106-4d6b-8752-181c6367727d"
    },
    {
      "cell_type": "markdown",
      "metadata": {},
      "source": [
        "1994"
      ],
      "id": "7f51160b-f1ca-439a-94a1-3bc07d08723b"
    },
    {
      "cell_type": "raw",
      "metadata": {
        "raw_mimetype": "text/html"
      },
      "source": [
        "</td>"
      ],
      "id": "ee51c728-b537-49a4-acf1-1b4ff93d72b2"
    },
    {
      "cell_type": "raw",
      "metadata": {
        "raw_mimetype": "text/html"
      },
      "source": [
        "<td>"
      ],
      "id": "9a168823-2b85-4378-9b20-b56e07b8c98d"
    },
    {
      "cell_type": "markdown",
      "metadata": {},
      "source": [
        "65"
      ],
      "id": "90ac6b48-4612-4e7e-b8ec-febe618af4aa"
    },
    {
      "cell_type": "raw",
      "metadata": {
        "raw_mimetype": "text/html"
      },
      "source": [
        "</td>"
      ],
      "id": "ff87d7e4-6cf9-4fb4-aca2-e228558165fb"
    },
    {
      "cell_type": "raw",
      "metadata": {
        "raw_mimetype": "text/html"
      },
      "source": [
        "<td>"
      ],
      "id": "6fc18e7b-b6df-428f-ac39-8d276768f144"
    },
    {
      "cell_type": "markdown",
      "metadata": {},
      "source": [
        "<span data-sort-value=\"110 !\"></span><abbr class=\"abbr\" title=\"Dixième\">10<sup>e</sup></abbr>"
      ],
      "id": "8b55c47c-b4b1-4a7b-98c5-d9658cefc5fa"
    },
    {
      "cell_type": "raw",
      "metadata": {
        "raw_mimetype": "text/html"
      },
      "source": [
        "</td>"
      ],
      "id": "10801a9b-9012-4679-8b9e-e3f585de5c34"
    },
    {
      "cell_type": "raw",
      "metadata": {
        "raw_mimetype": "text/html"
      },
      "source": [
        "<td align=\"left\">"
      ],
      "id": "c58a82bd-81b7-497c-aabf-6414079144e0"
    },
    {
      "cell_type": "markdown",
      "metadata": {},
      "source": [
        "<span class=\"flagicon\"><a class=\"image\" href=\"/wiki/Fichier:Flag_of_France.svg\" title=\"Drapeau : France\"><img alt=\"\" class=\"noviewer thumbborder\" data-file-height=\"600\" data-file-width=\"900\" decoding=\"async\" height=\"13\" src=\"//upload.wikimedia.org/wikipedia/commons/thumb/c/c3/Flag_of_France.svg/20px-Flag_of_France.svg.png\" srcset=\"//upload.wikimedia.org/wikipedia/commons/thumb/c/c3/Flag_of_France.svg/30px-Flag_of_France.svg.png 1.5x, //upload.wikimedia.org/wikipedia/commons/thumb/c/c3/Flag_of_France.svg/40px-Flag_of_France.svg.png 2x\" width=\"20\"/></a></span> <a href=\"/wiki/Julien_St%C3%A9phan\" title=\"Julien Stéphan\">Julien Stéphan</a>"
      ],
      "id": "287431cb-0615-40b3-a679-01545d2f16cd"
    },
    {
      "cell_type": "raw",
      "metadata": {
        "raw_mimetype": "text/html"
      },
      "source": [
        "</td>"
      ],
      "id": "ac1a95a1-6ad4-425e-a782-517bc2d0d2fd"
    },
    {
      "cell_type": "raw",
      "metadata": {
        "raw_mimetype": "text/html"
      },
      "source": [
        "<td>"
      ],
      "id": "7c4f7b5e-672d-4fd6-a46c-338b20e8d4a9"
    },
    {
      "cell_type": "markdown",
      "metadata": {},
      "source": [
        "2018"
      ],
      "id": "d1c5442e-9ae2-4020-8cae-26295bb11715"
    },
    {
      "cell_type": "raw",
      "metadata": {
        "raw_mimetype": "text/html"
      },
      "source": [
        "</td>"
      ],
      "id": "f5e4d036-8fd8-4047-9f89-7800c1d1b7e7"
    },
    {
      "cell_type": "raw",
      "metadata": {
        "raw_mimetype": "text/html"
      },
      "source": [
        "<td>"
      ],
      "id": "5c3e42a7-3df9-4b5a-80a7-1b2c5e70cfd3"
    },
    {
      "cell_type": "markdown",
      "metadata": {},
      "source": [
        "<a href=\"/wiki/Roazhon_Park\" title=\"Roazhon Park\">Roazhon Park</a>"
      ],
      "id": "f1a2e17b-39d5-40da-8ca8-5e15e84c0cec"
    },
    {
      "cell_type": "raw",
      "metadata": {
        "raw_mimetype": "text/html"
      },
      "source": [
        "</td>"
      ],
      "id": "7824632c-9c8e-4994-bbc6-26c897d7c63c"
    },
    {
      "cell_type": "raw",
      "metadata": {
        "raw_mimetype": "text/html"
      },
      "source": [
        "<td>"
      ],
      "id": "6fa17769-dbc3-4e9f-91d7-64576287fb5e"
    },
    {
      "cell_type": "markdown",
      "metadata": {},
      "source": [
        "29 194"
      ],
      "id": "71c036e9-bcc2-4ef7-bd05-659e33dd0ccc"
    },
    {
      "cell_type": "raw",
      "metadata": {
        "raw_mimetype": "text/html"
      },
      "source": [
        "</td>"
      ],
      "id": "1f05d9a3-2e51-4608-ae9a-9dd9bf02536a"
    },
    {
      "cell_type": "raw",
      "metadata": {
        "raw_mimetype": "text/html"
      },
      "source": [
        "<td>"
      ],
      "id": "07ed2c1e-8c06-4fe2-8844-308812e04ac8"
    },
    {
      "cell_type": "markdown",
      "metadata": {},
      "source": [
        "62"
      ],
      "id": "6c72de1c-b031-4386-a440-37c091f2c59c"
    },
    {
      "cell_type": "raw",
      "metadata": {
        "raw_mimetype": "text/html"
      },
      "source": [
        "</td>"
      ],
      "id": "76bc7933-9001-4bbe-8ca4-ea746d822fcb"
    },
    {
      "cell_type": "raw",
      "metadata": {
        "raw_mimetype": "text/html"
      },
      "source": [
        "</tr>"
      ],
      "id": "872a830e-8a91-4374-a7f3-679a5948ac42"
    },
    {
      "cell_type": "raw",
      "metadata": {
        "raw_mimetype": "text/html"
      },
      "source": [
        "<tr bgcolor=\"#FFF052\">"
      ],
      "id": "ee2f94c7-1437-41cf-b0b9-82186d4654ca"
    },
    {
      "cell_type": "raw",
      "metadata": {
        "raw_mimetype": "text/html"
      },
      "source": [
        "<td>"
      ],
      "id": "540b11ed-4297-49e1-b3b6-3b1188a2cd75"
    },
    {
      "cell_type": "markdown",
      "metadata": {},
      "source": [
        "<a href=\"/wiki/Racing_Club_de_Strasbourg_Alsace\" title=\"Racing Club de Strasbourg Alsace\">RC Strasbourg Alsace</a>"
      ],
      "id": "f4473e72-17a7-41b4-865c-14e83760150f"
    },
    {
      "cell_type": "raw",
      "metadata": {
        "raw_mimetype": "text/html"
      },
      "source": [
        "</td>"
      ],
      "id": "598fbb6e-b7ae-411e-bda9-94e2865c043a"
    },
    {
      "cell_type": "raw",
      "metadata": {
        "raw_mimetype": "text/html"
      },
      "source": [
        "<td>"
      ],
      "id": "643c40e3-48f2-4b25-b3a6-f87044fa08ff"
    },
    {
      "cell_type": "markdown",
      "metadata": {},
      "source": [
        "2017"
      ],
      "id": "0c0d09d8-d764-4bbd-bd41-c9a4a778f782"
    },
    {
      "cell_type": "raw",
      "metadata": {
        "raw_mimetype": "text/html"
      },
      "source": [
        "</td>"
      ],
      "id": "07a63f58-3688-4a62-8106-fe2bf57db0b5"
    },
    {
      "cell_type": "raw",
      "metadata": {
        "raw_mimetype": "text/html"
      },
      "source": [
        "<td>"
      ],
      "id": "ef3ec37f-f865-4d83-88ae-5b71e7f9748c"
    },
    {
      "cell_type": "markdown",
      "metadata": {},
      "source": [
        "43"
      ],
      "id": "0705c634-7bc9-4754-837e-c05bd555aa30"
    },
    {
      "cell_type": "raw",
      "metadata": {
        "raw_mimetype": "text/html"
      },
      "source": [
        "</td>"
      ],
      "id": "fba11f34-6ca7-4078-ab58-6d5d01ce9fc0"
    },
    {
      "cell_type": "raw",
      "metadata": {
        "raw_mimetype": "text/html"
      },
      "source": [
        "<td>"
      ],
      "id": "77902e3e-7184-4573-a825-365014cc1a1b"
    },
    {
      "cell_type": "markdown",
      "metadata": {},
      "source": [
        "<span data-sort-value=\"111 !\"></span><abbr class=\"abbr\" title=\"Onzième\">11<sup>e</sup></abbr>"
      ],
      "id": "94a5320d-2f13-47a5-8d21-08dd8af29938"
    },
    {
      "cell_type": "raw",
      "metadata": {
        "raw_mimetype": "text/html"
      },
      "source": [
        "</td>"
      ],
      "id": "f2c7d4f8-a113-486d-afe8-08de4198323d"
    },
    {
      "cell_type": "raw",
      "metadata": {
        "raw_mimetype": "text/html"
      },
      "source": [
        "<td align=\"left\">"
      ],
      "id": "3686ad6e-b8f1-488f-8892-b9b07b906de4"
    },
    {
      "cell_type": "markdown",
      "metadata": {},
      "source": [
        "<span class=\"flagicon\"><a class=\"image\" href=\"/wiki/Fichier:Flag_of_France.svg\" title=\"Drapeau : France\"><img alt=\"\" class=\"noviewer thumbborder\" data-file-height=\"600\" data-file-width=\"900\" decoding=\"async\" height=\"13\" src=\"//upload.wikimedia.org/wikipedia/commons/thumb/c/c3/Flag_of_France.svg/20px-Flag_of_France.svg.png\" srcset=\"//upload.wikimedia.org/wikipedia/commons/thumb/c/c3/Flag_of_France.svg/30px-Flag_of_France.svg.png 1.5x, //upload.wikimedia.org/wikipedia/commons/thumb/c/c3/Flag_of_France.svg/40px-Flag_of_France.svg.png 2x\" width=\"20\"/></a></span> <a href=\"/wiki/Thierry_Laurey\" title=\"Thierry Laurey\">Thierry Laurey</a>"
      ],
      "id": "d666e16e-f0cb-426d-8872-9877b92c8184"
    },
    {
      "cell_type": "raw",
      "metadata": {
        "raw_mimetype": "text/html"
      },
      "source": [
        "</td>"
      ],
      "id": "fc05a4d3-52fc-48ce-817d-d1a58eff3e1e"
    },
    {
      "cell_type": "raw",
      "metadata": {
        "raw_mimetype": "text/html"
      },
      "source": [
        "<td>"
      ],
      "id": "83ee361b-adcf-48fc-96c7-0a561f10e467"
    },
    {
      "cell_type": "markdown",
      "metadata": {},
      "source": [
        "2016"
      ],
      "id": "ea3e8c0d-3eb5-461d-90e0-631c9a96d950"
    },
    {
      "cell_type": "raw",
      "metadata": {
        "raw_mimetype": "text/html"
      },
      "source": [
        "</td>"
      ],
      "id": "2bf09124-8d9e-4f70-8c50-1d471b32781a"
    },
    {
      "cell_type": "raw",
      "metadata": {
        "raw_mimetype": "text/html"
      },
      "source": [
        "<td>"
      ],
      "id": "5848c2ea-ded7-4725-821b-a9fa1a8b687a"
    },
    {
      "cell_type": "markdown",
      "metadata": {},
      "source": [
        "<a href=\"/wiki/Stade_de_la_Meinau\" title=\"Stade de la Meinau\">Stade de la Meinau</a>"
      ],
      "id": "8d80c607-4b0d-4edc-821e-a962264f51f7"
    },
    {
      "cell_type": "raw",
      "metadata": {
        "raw_mimetype": "text/html"
      },
      "source": [
        "</td>"
      ],
      "id": "2513e575-7fda-48d2-9fe7-e48e254b8fd4"
    },
    {
      "cell_type": "raw",
      "metadata": {
        "raw_mimetype": "text/html"
      },
      "source": [
        "<td>"
      ],
      "id": "b180471a-47e2-4082-bf9f-e8b322f2b3cf"
    },
    {
      "cell_type": "markdown",
      "metadata": {},
      "source": [
        "26 109"
      ],
      "id": "dbbafbfb-e5fe-4b37-9545-4be270fdf0d7"
    },
    {
      "cell_type": "raw",
      "metadata": {
        "raw_mimetype": "text/html"
      },
      "source": [
        "</td>"
      ],
      "id": "683ec50c-9abf-4d4b-abc5-daf727d21a5f"
    },
    {
      "cell_type": "raw",
      "metadata": {
        "raw_mimetype": "text/html"
      },
      "source": [
        "<td>"
      ],
      "id": "779fd5ed-75b2-4661-af42-4a79c79d1880"
    },
    {
      "cell_type": "markdown",
      "metadata": {},
      "source": [
        "58"
      ],
      "id": "b2de80e1-5739-428a-9f08-476ab0c469bc"
    },
    {
      "cell_type": "raw",
      "metadata": {
        "raw_mimetype": "text/html"
      },
      "source": [
        "</td>"
      ],
      "id": "0ebb850a-8040-4ca1-9d9b-ea0dbad27b1b"
    },
    {
      "cell_type": "raw",
      "metadata": {
        "raw_mimetype": "text/html"
      },
      "source": [
        "</tr>"
      ],
      "id": "e9386179-fe43-4b5d-813d-a3e1a8afeea5"
    },
    {
      "cell_type": "raw",
      "metadata": {
        "raw_mimetype": "text/html"
      },
      "source": [
        "<tr>"
      ],
      "id": "2eb5d387-2858-4748-bc77-47b6f0de72f8"
    },
    {
      "cell_type": "raw",
      "metadata": {
        "raw_mimetype": "text/html"
      },
      "source": [
        "<td>"
      ],
      "id": "2784f5f9-aaf6-4ce6-9611-e411e53eb4b7"
    },
    {
      "cell_type": "markdown",
      "metadata": {},
      "source": [
        "<a href=\"/wiki/Football_Club_de_Nantes\" title=\"Football Club de Nantes\">FC Nantes</a>"
      ],
      "id": "8c879c72-da03-4fc5-9d15-abc778c1d32f"
    },
    {
      "cell_type": "raw",
      "metadata": {
        "raw_mimetype": "text/html"
      },
      "source": [
        "</td>"
      ],
      "id": "81e40652-3f22-40c0-9ab2-4f178862caff"
    },
    {
      "cell_type": "raw",
      "metadata": {
        "raw_mimetype": "text/html"
      },
      "source": [
        "<td>"
      ],
      "id": "ae5e93ae-a786-4840-ac3e-c962072c59e2"
    },
    {
      "cell_type": "markdown",
      "metadata": {},
      "source": [
        "2013"
      ],
      "id": "c24394e9-c512-43ac-92d1-074da796d0b4"
    },
    {
      "cell_type": "raw",
      "metadata": {
        "raw_mimetype": "text/html"
      },
      "source": [
        "</td>"
      ],
      "id": "40bf4fd2-25b2-42f1-9d33-80fd7a90fb2e"
    },
    {
      "cell_type": "raw",
      "metadata": {
        "raw_mimetype": "text/html"
      },
      "source": [
        "<td>"
      ],
      "id": "0d278aac-71ad-4f29-ac1e-1b792d8f0869"
    },
    {
      "cell_type": "markdown",
      "metadata": {},
      "source": [
        "70"
      ],
      "id": "638146d1-15fb-4e47-8e48-6a34df0d1a4e"
    },
    {
      "cell_type": "raw",
      "metadata": {
        "raw_mimetype": "text/html"
      },
      "source": [
        "</td>"
      ],
      "id": "af08a60c-190e-4a60-9351-41ed7420eb7e"
    },
    {
      "cell_type": "raw",
      "metadata": {
        "raw_mimetype": "text/html"
      },
      "source": [
        "<td>"
      ],
      "id": "c372e38d-8d9b-4cd3-852d-acc719e63fc4"
    },
    {
      "cell_type": "markdown",
      "metadata": {},
      "source": [
        "<span data-sort-value=\"112 !\"></span><abbr class=\"abbr\" title=\"Douzième\">12<sup>e</sup></abbr>"
      ],
      "id": "57276bc7-7002-40c2-a95c-c509dfc1ed04"
    },
    {
      "cell_type": "raw",
      "metadata": {
        "raw_mimetype": "text/html"
      },
      "source": [
        "</td>"
      ],
      "id": "e7e1cb60-20b3-4de8-b961-0c826e3a2313"
    },
    {
      "cell_type": "raw",
      "metadata": {
        "raw_mimetype": "text/html"
      },
      "source": [
        "<td align=\"left\">"
      ],
      "id": "a84f182e-9e36-4543-886c-587c4996b8a8"
    },
    {
      "cell_type": "markdown",
      "metadata": {},
      "source": [
        "<span class=\"flagicon\"><a class=\"image\" href=\"/wiki/Fichier:Flag_of_France.svg\" title=\"Drapeau : France\"><img alt=\"\" class=\"noviewer thumbborder\" data-file-height=\"600\" data-file-width=\"900\" decoding=\"async\" height=\"13\" src=\"//upload.wikimedia.org/wikipedia/commons/thumb/c/c3/Flag_of_France.svg/20px-Flag_of_France.svg.png\" srcset=\"//upload.wikimedia.org/wikipedia/commons/thumb/c/c3/Flag_of_France.svg/30px-Flag_of_France.svg.png 1.5x, //upload.wikimedia.org/wikipedia/commons/thumb/c/c3/Flag_of_France.svg/40px-Flag_of_France.svg.png 2x\" width=\"20\"/></a></span> <a href=\"/wiki/Christian_Gourcuff\" title=\"Christian Gourcuff\">Christian Gourcuff</a>"
      ],
      "id": "80d0593e-dc4e-4244-96ad-64ac3c41fa3d"
    },
    {
      "cell_type": "raw",
      "metadata": {
        "raw_mimetype": "text/html"
      },
      "source": [
        "</td>"
      ],
      "id": "dce69768-55bd-423c-b273-c6b0d66dcd9b"
    },
    {
      "cell_type": "raw",
      "metadata": {
        "raw_mimetype": "text/html"
      },
      "source": [
        "<td>"
      ],
      "id": "9a61da2c-2ec4-450c-b526-8115fac11e70"
    },
    {
      "cell_type": "markdown",
      "metadata": {},
      "source": [
        "2019"
      ],
      "id": "0471bfa6-c1da-4b18-b803-b77ad5e5b703"
    },
    {
      "cell_type": "raw",
      "metadata": {
        "raw_mimetype": "text/html"
      },
      "source": [
        "</td>"
      ],
      "id": "651076e9-b449-49c5-b986-55c2e497f166"
    },
    {
      "cell_type": "raw",
      "metadata": {
        "raw_mimetype": "text/html"
      },
      "source": [
        "<td>"
      ],
      "id": "f9023639-bf9b-44fb-8e6a-1cdb55270b10"
    },
    {
      "cell_type": "markdown",
      "metadata": {},
      "source": [
        "<a href=\"/wiki/Stade_de_la_Beaujoire\" title=\"Stade de la Beaujoire\">Stade de la Beaujoire - Louis Fonteneau</a>"
      ],
      "id": "45983b31-389a-4493-b37a-c8662894548f"
    },
    {
      "cell_type": "raw",
      "metadata": {
        "raw_mimetype": "text/html"
      },
      "source": [
        "</td>"
      ],
      "id": "c5990ba4-4b28-4403-be4d-f3580d24f606"
    },
    {
      "cell_type": "raw",
      "metadata": {
        "raw_mimetype": "text/html"
      },
      "source": [
        "<td>"
      ],
      "id": "05e0867e-9fac-4a9f-9b7d-5f41a1b31837"
    },
    {
      "cell_type": "markdown",
      "metadata": {},
      "source": [
        "35 322"
      ],
      "id": "aa1df3f4-bf03-4f19-a958-ba8b76af369e"
    },
    {
      "cell_type": "raw",
      "metadata": {
        "raw_mimetype": "text/html"
      },
      "source": [
        "</td>"
      ],
      "id": "cf407a8e-b323-486d-a584-a597faccb3c3"
    },
    {
      "cell_type": "raw",
      "metadata": {
        "raw_mimetype": "text/html"
      },
      "source": [
        "<td>"
      ],
      "id": "6ff0c616-0dc3-4c26-942b-ae7c798aacdf"
    },
    {
      "cell_type": "markdown",
      "metadata": {},
      "source": [
        "51"
      ],
      "id": "b12fe3c3-cd58-47ea-a92f-1abfafd0ce30"
    },
    {
      "cell_type": "raw",
      "metadata": {
        "raw_mimetype": "text/html"
      },
      "source": [
        "</td>"
      ],
      "id": "df57e648-d3af-4af7-b989-ffba24dfdadd"
    },
    {
      "cell_type": "raw",
      "metadata": {
        "raw_mimetype": "text/html"
      },
      "source": [
        "</tr>"
      ],
      "id": "d97ade04-c3c0-4c6e-8b4e-82e60f54b4b3"
    },
    {
      "cell_type": "raw",
      "metadata": {
        "raw_mimetype": "text/html"
      },
      "source": [
        "<tr>"
      ],
      "id": "ed082104-42e0-4221-991f-49fa9877f822"
    },
    {
      "cell_type": "raw",
      "metadata": {
        "raw_mimetype": "text/html"
      },
      "source": [
        "<td>"
      ],
      "id": "bdc4934e-c854-4057-9f9b-7edd87fe9020"
    },
    {
      "cell_type": "markdown",
      "metadata": {},
      "source": [
        "<a class=\"mw-redirect\" href=\"/wiki/Angers_sporting_club_de_l%27Ouest\" title=\"Angers sporting club de l'Ouest\">SCO d’Angers</a>"
      ],
      "id": "4daebc75-ea2e-4a37-85b5-101e865fc7ec"
    },
    {
      "cell_type": "raw",
      "metadata": {
        "raw_mimetype": "text/html"
      },
      "source": [
        "</td>"
      ],
      "id": "c98cacf0-66b8-43ed-a334-74d4fdff5e92"
    },
    {
      "cell_type": "raw",
      "metadata": {
        "raw_mimetype": "text/html"
      },
      "source": [
        "<td>"
      ],
      "id": "087e80c7-6319-4fe2-9538-cc2779e13be6"
    },
    {
      "cell_type": "markdown",
      "metadata": {},
      "source": [
        "2015"
      ],
      "id": "0ad3647c-b5a3-4ec3-9390-de960fcfcc08"
    },
    {
      "cell_type": "raw",
      "metadata": {
        "raw_mimetype": "text/html"
      },
      "source": [
        "</td>"
      ],
      "id": "20194343-365b-45ad-a649-d7b15aa13d08"
    },
    {
      "cell_type": "raw",
      "metadata": {
        "raw_mimetype": "text/html"
      },
      "source": [
        "<td>"
      ],
      "id": "244a4a4e-7355-4629-9a48-084db839919a"
    },
    {
      "cell_type": "markdown",
      "metadata": {},
      "source": [
        "32"
      ],
      "id": "575ef5df-e4ef-4fc0-ad32-bfa42c3a9088"
    },
    {
      "cell_type": "raw",
      "metadata": {
        "raw_mimetype": "text/html"
      },
      "source": [
        "</td>"
      ],
      "id": "559039aa-8770-433c-993a-6bac81711da4"
    },
    {
      "cell_type": "raw",
      "metadata": {
        "raw_mimetype": "text/html"
      },
      "source": [
        "<td>"
      ],
      "id": "66328691-47f7-4983-a199-097a79109ba3"
    },
    {
      "cell_type": "markdown",
      "metadata": {},
      "source": [
        "<span data-sort-value=\"113 !\"></span><abbr class=\"abbr\" title=\"Treizième\">13<sup>e</sup></abbr>"
      ],
      "id": "0b7674f0-a445-4c4a-a0ec-2fba5bd19f23"
    },
    {
      "cell_type": "raw",
      "metadata": {
        "raw_mimetype": "text/html"
      },
      "source": [
        "</td>"
      ],
      "id": "29fd20db-c19f-43b0-9fd8-034695ecf5a9"
    },
    {
      "cell_type": "raw",
      "metadata": {
        "raw_mimetype": "text/html"
      },
      "source": [
        "<td align=\"left\">"
      ],
      "id": "905f7c39-4cb2-4359-8cf5-7e113ab1f5ca"
    },
    {
      "cell_type": "markdown",
      "metadata": {},
      "source": [
        "<span class=\"flagicon\"><a class=\"image\" href=\"/wiki/Fichier:Flag_of_France.svg\" title=\"Drapeau : France\"><img alt=\"\" class=\"noviewer thumbborder\" data-file-height=\"600\" data-file-width=\"900\" decoding=\"async\" height=\"13\" src=\"//upload.wikimedia.org/wikipedia/commons/thumb/c/c3/Flag_of_France.svg/20px-Flag_of_France.svg.png\" srcset=\"//upload.wikimedia.org/wikipedia/commons/thumb/c/c3/Flag_of_France.svg/30px-Flag_of_France.svg.png 1.5x, //upload.wikimedia.org/wikipedia/commons/thumb/c/c3/Flag_of_France.svg/40px-Flag_of_France.svg.png 2x\" width=\"20\"/></a></span> <a href=\"/wiki/St%C3%A9phane_Moulin_(football)\" title=\"Stéphane Moulin (football)\">Stéphane Moulin</a>"
      ],
      "id": "8aeaba2e-a48f-4edb-9351-9f255afab5ea"
    },
    {
      "cell_type": "raw",
      "metadata": {
        "raw_mimetype": "text/html"
      },
      "source": [
        "</td>"
      ],
      "id": "89933ddd-6ed9-45dc-90f6-4223f1a88ba2"
    },
    {
      "cell_type": "raw",
      "metadata": {
        "raw_mimetype": "text/html"
      },
      "source": [
        "<td>"
      ],
      "id": "14c85dc1-2871-4d74-9cd9-b7239d6d05af"
    },
    {
      "cell_type": "markdown",
      "metadata": {},
      "source": [
        "2011"
      ],
      "id": "4559bf16-dafb-42cd-9526-21b97a58e11d"
    },
    {
      "cell_type": "raw",
      "metadata": {
        "raw_mimetype": "text/html"
      },
      "source": [
        "</td>"
      ],
      "id": "d85968b9-2808-4d8e-b861-52b860b60d8a"
    },
    {
      "cell_type": "raw",
      "metadata": {
        "raw_mimetype": "text/html"
      },
      "source": [
        "<td>"
      ],
      "id": "ff4e64b7-19c6-41e4-89b0-3b365ffd1dd5"
    },
    {
      "cell_type": "markdown",
      "metadata": {},
      "source": [
        "<a href=\"/wiki/Stade_Raymond-Kopa\" title=\"Stade Raymond-Kopa\">Stade Raymond-Kopa</a>"
      ],
      "id": "7df944ba-3b1f-4693-b3cd-1d428f885059"
    },
    {
      "cell_type": "raw",
      "metadata": {
        "raw_mimetype": "text/html"
      },
      "source": [
        "</td>"
      ],
      "id": "6f18a093-92a2-457f-bd06-93e8d544e983"
    },
    {
      "cell_type": "raw",
      "metadata": {
        "raw_mimetype": "text/html"
      },
      "source": [
        "<td>"
      ],
      "id": "9c8d8e15-399c-4ad5-8a50-21baaacd4a59"
    },
    {
      "cell_type": "markdown",
      "metadata": {},
      "source": [
        "14 582"
      ],
      "id": "59177944-03e7-45c4-a816-82d108623e77"
    },
    {
      "cell_type": "raw",
      "metadata": {
        "raw_mimetype": "text/html"
      },
      "source": [
        "</td>"
      ],
      "id": "95d8da61-87b4-4363-b11b-c6a0f0d0b142"
    },
    {
      "cell_type": "raw",
      "metadata": {
        "raw_mimetype": "text/html"
      },
      "source": [
        "<td>"
      ],
      "id": "976e3d2d-c7be-42ec-b327-38ea0a093d9b"
    },
    {
      "cell_type": "markdown",
      "metadata": {},
      "source": [
        "27"
      ],
      "id": "2b692ffb-4dcd-47db-b389-9a3fc62b01ca"
    },
    {
      "cell_type": "raw",
      "metadata": {
        "raw_mimetype": "text/html"
      },
      "source": [
        "</td>"
      ],
      "id": "24dd16d3-0302-4dd6-9f20-2aadf9f28de9"
    },
    {
      "cell_type": "raw",
      "metadata": {
        "raw_mimetype": "text/html"
      },
      "source": [
        "</tr>"
      ],
      "id": "26028a6e-3de9-4220-93d6-4b8779d99e41"
    },
    {
      "cell_type": "raw",
      "metadata": {
        "raw_mimetype": "text/html"
      },
      "source": [
        "<tr>"
      ],
      "id": "b07b2fb1-565b-4e00-be2d-812da720fdad"
    },
    {
      "cell_type": "raw",
      "metadata": {
        "raw_mimetype": "text/html"
      },
      "source": [
        "<td>"
      ],
      "id": "1e9238e0-5899-420f-acb9-684785d34259"
    },
    {
      "cell_type": "markdown",
      "metadata": {},
      "source": [
        "<a href=\"/wiki/Football_Club_des_Girondins_de_Bordeaux\" title=\"Football Club des Girondins de Bordeaux\">Girondins de Bordeaux</a>"
      ],
      "id": "23d23719-44c7-47f4-97e4-2ddaf61455c4"
    },
    {
      "cell_type": "raw",
      "metadata": {
        "raw_mimetype": "text/html"
      },
      "source": [
        "</td>"
      ],
      "id": "817dd163-6857-449f-99d1-d9a3c7555186"
    },
    {
      "cell_type": "raw",
      "metadata": {
        "raw_mimetype": "text/html"
      },
      "source": [
        "<td>"
      ],
      "id": "fdc87bd9-0529-4b59-8a25-0d1418a9e257"
    },
    {
      "cell_type": "markdown",
      "metadata": {},
      "source": [
        "1992"
      ],
      "id": "250ff200-a37b-41ba-9b0d-707f0204f7eb"
    },
    {
      "cell_type": "raw",
      "metadata": {
        "raw_mimetype": "text/html"
      },
      "source": [
        "</td>"
      ],
      "id": "ae1d226a-d167-4afb-a06c-8d40f74d846b"
    },
    {
      "cell_type": "raw",
      "metadata": {
        "raw_mimetype": "text/html"
      },
      "source": [
        "<td>"
      ],
      "id": "ed37fb58-043b-4173-a832-871e4edbee7c"
    },
    {
      "cell_type": "markdown",
      "metadata": {},
      "source": [
        "70"
      ],
      "id": "cc198158-db9a-40e5-8370-1e52b2741f2d"
    },
    {
      "cell_type": "raw",
      "metadata": {
        "raw_mimetype": "text/html"
      },
      "source": [
        "</td>"
      ],
      "id": "1af5eca5-40fa-49de-a6a0-3e8ed32a0275"
    },
    {
      "cell_type": "raw",
      "metadata": {
        "raw_mimetype": "text/html"
      },
      "source": [
        "<td>"
      ],
      "id": "4cf9549e-8e06-4770-903d-f5e14aed89fd"
    },
    {
      "cell_type": "markdown",
      "metadata": {},
      "source": [
        "<span data-sort-value=\"114 !\"></span><abbr class=\"abbr\" title=\"Quatorzième\">14<sup>e</sup></abbr>"
      ],
      "id": "b71da4d3-f371-461d-8948-d65766101658"
    },
    {
      "cell_type": "raw",
      "metadata": {
        "raw_mimetype": "text/html"
      },
      "source": [
        "</td>"
      ],
      "id": "487d07ee-52f0-42b5-b032-b570fdf32946"
    },
    {
      "cell_type": "raw",
      "metadata": {
        "raw_mimetype": "text/html"
      },
      "source": [
        "<td align=\"left\">"
      ],
      "id": "3a134c6b-45d0-438c-8d03-ca9c0eb06d06"
    },
    {
      "cell_type": "markdown",
      "metadata": {},
      "source": [
        "<span class=\"flagicon\"><a class=\"image\" href=\"/wiki/Fichier:Flag_of_Portugal.svg\" title=\"Drapeau : Portugal\"><img alt=\"\" class=\"noviewer thumbborder\" data-file-height=\"400\" data-file-width=\"600\" decoding=\"async\" height=\"13\" src=\"//upload.wikimedia.org/wikipedia/commons/thumb/5/5c/Flag_of_Portugal.svg/20px-Flag_of_Portugal.svg.png\" srcset=\"//upload.wikimedia.org/wikipedia/commons/thumb/5/5c/Flag_of_Portugal.svg/30px-Flag_of_Portugal.svg.png 1.5x, //upload.wikimedia.org/wikipedia/commons/thumb/5/5c/Flag_of_Portugal.svg/40px-Flag_of_Portugal.svg.png 2x\" width=\"20\"/></a></span> <a href=\"/wiki/Paulo_Sousa_(football,_1970)\" title=\"Paulo Sousa (football, 1970)\">Paulo Sousa</a>"
      ],
      "id": "8886abc0-de8e-4e89-8b97-049052410c3f"
    },
    {
      "cell_type": "raw",
      "metadata": {
        "raw_mimetype": "text/html"
      },
      "source": [
        "</td>"
      ],
      "id": "3885720a-349b-4162-bd75-9bd0cc578488"
    },
    {
      "cell_type": "raw",
      "metadata": {
        "raw_mimetype": "text/html"
      },
      "source": [
        "<td>"
      ],
      "id": "8e450aa4-5b41-4723-8b4b-d033e92f6f1c"
    },
    {
      "cell_type": "markdown",
      "metadata": {},
      "source": [
        "2019"
      ],
      "id": "09e97ace-346e-41e3-9e3b-b79ef45ed17d"
    },
    {
      "cell_type": "raw",
      "metadata": {
        "raw_mimetype": "text/html"
      },
      "source": [
        "</td>"
      ],
      "id": "04414af8-a2a6-443c-993f-5ed15aa2143c"
    },
    {
      "cell_type": "raw",
      "metadata": {
        "raw_mimetype": "text/html"
      },
      "source": [
        "<td>"
      ],
      "id": "cb0d5dcc-3d7a-42fc-a072-0acd5d8c42d5"
    },
    {
      "cell_type": "markdown",
      "metadata": {},
      "source": [
        "<a href=\"/wiki/Matmut_Atlantique\" title=\"Matmut Atlantique\">Matmut Atlantique</a>"
      ],
      "id": "3aae491d-be04-4c60-b573-17c8b8319ea9"
    },
    {
      "cell_type": "raw",
      "metadata": {
        "raw_mimetype": "text/html"
      },
      "source": [
        "</td>"
      ],
      "id": "fb45d580-fc90-4570-8cc5-5324055a1143"
    },
    {
      "cell_type": "raw",
      "metadata": {
        "raw_mimetype": "text/html"
      },
      "source": [
        "<td>"
      ],
      "id": "246b0a71-1c6f-4363-9614-aec3a1637487"
    },
    {
      "cell_type": "markdown",
      "metadata": {},
      "source": [
        "42 115"
      ],
      "id": "2f9f4237-ac6e-4cb7-8d1f-b8b682553413"
    },
    {
      "cell_type": "raw",
      "metadata": {
        "raw_mimetype": "text/html"
      },
      "source": [
        "</td>"
      ],
      "id": "7cebfa7a-5432-449c-8702-0823097b23ca"
    },
    {
      "cell_type": "raw",
      "metadata": {
        "raw_mimetype": "text/html"
      },
      "source": [
        "<td>"
      ],
      "id": "88631ebb-b490-499f-88ef-1fd239a82f1e"
    },
    {
      "cell_type": "markdown",
      "metadata": {},
      "source": [
        "66"
      ],
      "id": "2efb728c-2a88-42a7-ade9-f03a25e7c714"
    },
    {
      "cell_type": "raw",
      "metadata": {
        "raw_mimetype": "text/html"
      },
      "source": [
        "</td>"
      ],
      "id": "850ff75f-e7f0-463d-a7ae-557b36ad5b11"
    },
    {
      "cell_type": "raw",
      "metadata": {
        "raw_mimetype": "text/html"
      },
      "source": [
        "</tr>"
      ],
      "id": "af41ffb9-8956-4373-bc2a-fc2a382d8d00"
    },
    {
      "cell_type": "raw",
      "metadata": {
        "raw_mimetype": "text/html"
      },
      "source": [
        "<tr>"
      ],
      "id": "e724d822-cb7e-452c-9268-e836eee8d65f"
    },
    {
      "cell_type": "raw",
      "metadata": {
        "raw_mimetype": "text/html"
      },
      "source": [
        "<td>"
      ],
      "id": "b77f455e-8456-475d-98a1-64421474751e"
    },
    {
      "cell_type": "markdown",
      "metadata": {},
      "source": [
        "<a href=\"/wiki/Amiens_Sporting_Club\" title=\"Amiens Sporting Club\">Amiens SC</a>"
      ],
      "id": "85864c23-01a2-4a73-9af7-41a6acf15df5"
    },
    {
      "cell_type": "raw",
      "metadata": {
        "raw_mimetype": "text/html"
      },
      "source": [
        "</td>"
      ],
      "id": "ed96c03a-6eda-4733-aa1f-007722209f95"
    },
    {
      "cell_type": "raw",
      "metadata": {
        "raw_mimetype": "text/html"
      },
      "source": [
        "<td>"
      ],
      "id": "e9572b29-ac02-4a18-a238-935547521564"
    },
    {
      "cell_type": "markdown",
      "metadata": {},
      "source": [
        "2017"
      ],
      "id": "98dfcb4d-b1fc-4197-9570-a74d97d86f8f"
    },
    {
      "cell_type": "raw",
      "metadata": {
        "raw_mimetype": "text/html"
      },
      "source": [
        "</td>"
      ],
      "id": "674ffd5e-c69f-457b-9962-db9686870972"
    },
    {
      "cell_type": "raw",
      "metadata": {
        "raw_mimetype": "text/html"
      },
      "source": [
        "<td>"
      ],
      "id": "2842fb26-929c-4c77-8d74-6d525853db71"
    },
    {
      "cell_type": "markdown",
      "metadata": {},
      "source": [
        "30"
      ],
      "id": "0484c065-dc5c-4940-8721-e22befa1f636"
    },
    {
      "cell_type": "raw",
      "metadata": {
        "raw_mimetype": "text/html"
      },
      "source": [
        "</td>"
      ],
      "id": "bdac9382-789d-4f57-b993-217f6eb4077e"
    },
    {
      "cell_type": "raw",
      "metadata": {
        "raw_mimetype": "text/html"
      },
      "source": [
        "<td>"
      ],
      "id": "ec675c61-8ed8-479b-bf2d-bbe6b7f0150e"
    },
    {
      "cell_type": "markdown",
      "metadata": {},
      "source": [
        "<span data-sort-value=\"115 !\"></span><abbr class=\"abbr\" title=\"Quinzième\">15<sup>e</sup></abbr>"
      ],
      "id": "103eed7a-a3c2-42bd-9fbe-14a18ae30d4e"
    },
    {
      "cell_type": "raw",
      "metadata": {
        "raw_mimetype": "text/html"
      },
      "source": [
        "</td>"
      ],
      "id": "937965b2-975d-410d-9495-b736357db8ec"
    },
    {
      "cell_type": "raw",
      "metadata": {
        "raw_mimetype": "text/html"
      },
      "source": [
        "<td align=\"left\">"
      ],
      "id": "a2a1b2ba-05a2-4217-bf2a-add534e95657"
    },
    {
      "cell_type": "markdown",
      "metadata": {},
      "source": [
        "<span class=\"flagicon\"><a class=\"image\" href=\"/wiki/Fichier:Flag_of_Slovenia.svg\" title=\"Drapeau : Slovénie\"><img alt=\"\" class=\"noviewer thumbborder\" data-file-height=\"600\" data-file-width=\"1200\" decoding=\"async\" height=\"10\" src=\"//upload.wikimedia.org/wikipedia/commons/thumb/f/f0/Flag_of_Slovenia.svg/20px-Flag_of_Slovenia.svg.png\" srcset=\"//upload.wikimedia.org/wikipedia/commons/thumb/f/f0/Flag_of_Slovenia.svg/30px-Flag_of_Slovenia.svg.png 1.5x, //upload.wikimedia.org/wikipedia/commons/thumb/f/f0/Flag_of_Slovenia.svg/40px-Flag_of_Slovenia.svg.png 2x\" width=\"20\"/></a></span> <a href=\"/wiki/Luka_Elsner\" title=\"Luka Elsner\">Luka Elsner</a>"
      ],
      "id": "580152d9-1afa-4734-a690-4b46f581495e"
    },
    {
      "cell_type": "raw",
      "metadata": {
        "raw_mimetype": "text/html"
      },
      "source": [
        "</td>"
      ],
      "id": "91d95125-d3f1-44e1-b9b4-2bf562a2bc50"
    },
    {
      "cell_type": "raw",
      "metadata": {
        "raw_mimetype": "text/html"
      },
      "source": [
        "<td>"
      ],
      "id": "ee68e62c-6767-49a5-a25c-bab6a59a3b3d"
    },
    {
      "cell_type": "markdown",
      "metadata": {},
      "source": [
        "2019"
      ],
      "id": "9ae909e0-c6e3-485b-b969-20400f38240a"
    },
    {
      "cell_type": "raw",
      "metadata": {
        "raw_mimetype": "text/html"
      },
      "source": [
        "</td>"
      ],
      "id": "c0df33d2-045f-4397-977f-c641828dba76"
    },
    {
      "cell_type": "raw",
      "metadata": {
        "raw_mimetype": "text/html"
      },
      "source": [
        "<td>"
      ],
      "id": "cbb17c16-9141-4423-8066-92f9783d3c94"
    },
    {
      "cell_type": "markdown",
      "metadata": {},
      "source": [
        "<a href=\"/wiki/Stade_de_la_Licorne\" title=\"Stade de la Licorne\">Stade Crédit Agricole la Licorne</a>"
      ],
      "id": "3ffdf94d-b1a0-48ac-ac53-41884f60b469"
    },
    {
      "cell_type": "raw",
      "metadata": {
        "raw_mimetype": "text/html"
      },
      "source": [
        "</td>"
      ],
      "id": "bf71f5a6-137e-438f-8aaf-49c94443035f"
    },
    {
      "cell_type": "raw",
      "metadata": {
        "raw_mimetype": "text/html"
      },
      "source": [
        "<td>"
      ],
      "id": "2942744b-703e-4c39-9a18-238f9c17c40c"
    },
    {
      "cell_type": "markdown",
      "metadata": {},
      "source": [
        "12 999"
      ],
      "id": "af524734-a1a2-453e-8a11-87ac3f713806"
    },
    {
      "cell_type": "raw",
      "metadata": {
        "raw_mimetype": "text/html"
      },
      "source": [
        "</td>"
      ],
      "id": "bbd699d8-59ca-471e-a7d6-f58e6756a829"
    },
    {
      "cell_type": "raw",
      "metadata": {
        "raw_mimetype": "text/html"
      },
      "source": [
        "<td>"
      ],
      "id": "3e751376-cb3f-4929-8435-0c958a647a9f"
    },
    {
      "cell_type": "markdown",
      "metadata": {},
      "source": [
        "2"
      ],
      "id": "d440bbf4-a7af-48df-b7f4-661def31f936"
    },
    {
      "cell_type": "raw",
      "metadata": {
        "raw_mimetype": "text/html"
      },
      "source": [
        "</td>"
      ],
      "id": "5d7979e9-63f1-40c4-9848-2b961e7cdb28"
    },
    {
      "cell_type": "raw",
      "metadata": {
        "raw_mimetype": "text/html"
      },
      "source": [
        "</tr>"
      ],
      "id": "12710578-e104-4d0d-bc5a-2bffec7c866d"
    },
    {
      "cell_type": "raw",
      "metadata": {
        "raw_mimetype": "text/html"
      },
      "source": [
        "<tr>"
      ],
      "id": "a1cf8c14-e5e9-4e98-aef2-d9a97669da26"
    },
    {
      "cell_type": "raw",
      "metadata": {
        "raw_mimetype": "text/html"
      },
      "source": [
        "<td>"
      ],
      "id": "30c4931b-255a-425e-bb32-1933078499fc"
    },
    {
      "cell_type": "markdown",
      "metadata": {},
      "source": [
        "<a href=\"/wiki/Toulouse_Football_Club\" title=\"Toulouse Football Club\">Toulouse FC</a>"
      ],
      "id": "931a94a3-5424-417e-bc04-dc50d4daf545"
    },
    {
      "cell_type": "raw",
      "metadata": {
        "raw_mimetype": "text/html"
      },
      "source": [
        "</td>"
      ],
      "id": "a7176a6a-5d11-4830-965d-ba1f936dd032"
    },
    {
      "cell_type": "raw",
      "metadata": {
        "raw_mimetype": "text/html"
      },
      "source": [
        "<td>"
      ],
      "id": "3ac1b5b6-aa51-4ba3-9d21-8049317282dc"
    },
    {
      "cell_type": "markdown",
      "metadata": {},
      "source": [
        "2003"
      ],
      "id": "52c1c587-ddb4-4664-8a82-1a385d08eb6c"
    },
    {
      "cell_type": "raw",
      "metadata": {
        "raw_mimetype": "text/html"
      },
      "source": [
        "</td>"
      ],
      "id": "5e20a056-fc38-4db7-be71-f4d5022fcbed"
    },
    {
      "cell_type": "raw",
      "metadata": {
        "raw_mimetype": "text/html"
      },
      "source": [
        "<td>"
      ],
      "id": "3d8b785f-f9af-42a2-8079-d5ca98a6bc1b"
    },
    {
      "cell_type": "markdown",
      "metadata": {},
      "source": [
        "35"
      ],
      "id": "2a11556e-12dc-4590-b658-389d2f3d28b6"
    },
    {
      "cell_type": "raw",
      "metadata": {
        "raw_mimetype": "text/html"
      },
      "source": [
        "</td>"
      ],
      "id": "22dfb312-4116-49f6-a8c2-225fc1c2041f"
    },
    {
      "cell_type": "raw",
      "metadata": {
        "raw_mimetype": "text/html"
      },
      "source": [
        "<td>"
      ],
      "id": "12175500-5d7b-4da6-9f82-55c50f4b0c18"
    },
    {
      "cell_type": "markdown",
      "metadata": {},
      "source": [
        "<span data-sort-value=\"116 !\"></span><abbr class=\"abbr\" title=\"Seizième\">16<sup>e</sup></abbr>"
      ],
      "id": "e6d5ae8a-79ef-4b7b-8c5b-6754d888b429"
    },
    {
      "cell_type": "raw",
      "metadata": {
        "raw_mimetype": "text/html"
      },
      "source": [
        "</td>"
      ],
      "id": "3cbb0420-3364-40a2-9b07-e760c4b067b7"
    },
    {
      "cell_type": "raw",
      "metadata": {
        "raw_mimetype": "text/html"
      },
      "source": [
        "<td align=\"left\">"
      ],
      "id": "c247483c-add5-455d-b153-8c4d3763b1e5"
    },
    {
      "cell_type": "markdown",
      "metadata": {},
      "source": [
        "<span class=\"flagicon\"><a class=\"image\" href=\"/wiki/Fichier:Flag_of_France.svg\" title=\"Drapeau : France\"><img alt=\"\" class=\"noviewer thumbborder\" data-file-height=\"600\" data-file-width=\"900\" decoding=\"async\" height=\"13\" src=\"//upload.wikimedia.org/wikipedia/commons/thumb/c/c3/Flag_of_France.svg/20px-Flag_of_France.svg.png\" srcset=\"//upload.wikimedia.org/wikipedia/commons/thumb/c/c3/Flag_of_France.svg/30px-Flag_of_France.svg.png 1.5x, //upload.wikimedia.org/wikipedia/commons/thumb/c/c3/Flag_of_France.svg/40px-Flag_of_France.svg.png 2x\" width=\"20\"/></a></span> <a href=\"/wiki/Denis_Zanko\" title=\"Denis Zanko\">Denis Zanko</a>"
      ],
      "id": "57434185-061b-4892-b31a-48ceadd1496d"
    },
    {
      "cell_type": "raw",
      "metadata": {
        "raw_mimetype": "text/html"
      },
      "source": [
        "</td>"
      ],
      "id": "09958dac-0234-411b-aedb-fe30e73da621"
    },
    {
      "cell_type": "raw",
      "metadata": {
        "raw_mimetype": "text/html"
      },
      "source": [
        "<td>"
      ],
      "id": "583bf38d-8d8a-40eb-ad3e-adea9421a19b"
    },
    {
      "cell_type": "markdown",
      "metadata": {},
      "source": [
        "2020"
      ],
      "id": "2f22ba20-f575-4ba5-950b-ea1f82299257"
    },
    {
      "cell_type": "raw",
      "metadata": {
        "raw_mimetype": "text/html"
      },
      "source": [
        "</td>"
      ],
      "id": "b191077d-bfb2-41ce-85c3-586b5b6e0c74"
    },
    {
      "cell_type": "raw",
      "metadata": {
        "raw_mimetype": "text/html"
      },
      "source": [
        "<td>"
      ],
      "id": "a852cb2a-1121-41a4-ab08-a075492c6ae7"
    },
    {
      "cell_type": "markdown",
      "metadata": {},
      "source": [
        "<a href=\"/wiki/Stadium_de_Toulouse\" title=\"Stadium de Toulouse\">Stadium de Toulouse</a>"
      ],
      "id": "25c20338-6ef9-457d-90a1-044acc7a5b2d"
    },
    {
      "cell_type": "raw",
      "metadata": {
        "raw_mimetype": "text/html"
      },
      "source": [
        "</td>"
      ],
      "id": "57452fb3-fa4d-40b1-a685-878da92d4bdd"
    },
    {
      "cell_type": "raw",
      "metadata": {
        "raw_mimetype": "text/html"
      },
      "source": [
        "<td>"
      ],
      "id": "14cf0e4d-781b-4c2a-9f68-38afe74f69a3"
    },
    {
      "cell_type": "markdown",
      "metadata": {},
      "source": [
        "33 033"
      ],
      "id": "53c9c8b0-bab2-4a30-af11-0521152543ac"
    },
    {
      "cell_type": "raw",
      "metadata": {
        "raw_mimetype": "text/html"
      },
      "source": [
        "</td>"
      ],
      "id": "6b556ae7-cdde-47e2-b313-72fe224ac7d4"
    },
    {
      "cell_type": "raw",
      "metadata": {
        "raw_mimetype": "text/html"
      },
      "source": [
        "<td>"
      ],
      "id": "f296f8f2-3db6-4121-bc68-a36324c2fb60"
    },
    {
      "cell_type": "markdown",
      "metadata": {},
      "source": [
        "32"
      ],
      "id": "5c95b9db-90ca-4fef-9ce8-a7c41df449ad"
    },
    {
      "cell_type": "raw",
      "metadata": {
        "raw_mimetype": "text/html"
      },
      "source": [
        "</td>"
      ],
      "id": "de76aca9-ab11-462f-923a-e273ab9e5ad3"
    },
    {
      "cell_type": "raw",
      "metadata": {
        "raw_mimetype": "text/html"
      },
      "source": [
        "</tr>"
      ],
      "id": "c28313c3-73a3-46a9-827f-c37ea22bbde0"
    },
    {
      "cell_type": "raw",
      "metadata": {
        "raw_mimetype": "text/html"
      },
      "source": [
        "<tr>"
      ],
      "id": "15346697-0962-44fa-96a1-1ba7bc0b431a"
    },
    {
      "cell_type": "raw",
      "metadata": {
        "raw_mimetype": "text/html"
      },
      "source": [
        "<td>"
      ],
      "id": "bf604163-811d-4d80-98f5-e6b081ac1b20"
    },
    {
      "cell_type": "markdown",
      "metadata": {},
      "source": [
        "<a class=\"mw-redirect\" href=\"/wiki/Association_sportive_de_Monaco_football_club\" title=\"Association sportive de Monaco football club\">AS Monaco</a>"
      ],
      "id": "3951484e-263e-4d6f-9f20-d0d95c58030f"
    },
    {
      "cell_type": "raw",
      "metadata": {
        "raw_mimetype": "text/html"
      },
      "source": [
        "</td>"
      ],
      "id": "40cea2e9-52b4-4cd3-b106-8bdfaf6f5947"
    },
    {
      "cell_type": "raw",
      "metadata": {
        "raw_mimetype": "text/html"
      },
      "source": [
        "<td>"
      ],
      "id": "17b9d26e-1d20-4ca7-9eb4-6be416e2c277"
    },
    {
      "cell_type": "markdown",
      "metadata": {},
      "source": [
        "2013"
      ],
      "id": "5403c041-777a-4edd-87a3-a18be091634b"
    },
    {
      "cell_type": "raw",
      "metadata": {
        "raw_mimetype": "text/html"
      },
      "source": [
        "</td>"
      ],
      "id": "67184095-1c49-4a52-b13d-3fe49ef8a9fe"
    },
    {
      "cell_type": "raw",
      "metadata": {
        "raw_mimetype": "text/html"
      },
      "source": [
        "<td>"
      ],
      "id": "32082944-fdac-427b-964b-8963bb05c638"
    },
    {
      "cell_type": "markdown",
      "metadata": {},
      "source": [
        "220"
      ],
      "id": "d03795d6-4ec3-4e98-a8fc-c7e76477b049"
    },
    {
      "cell_type": "raw",
      "metadata": {
        "raw_mimetype": "text/html"
      },
      "source": [
        "</td>"
      ],
      "id": "e2c9f3da-d52f-43e3-814a-a74accfb1e66"
    },
    {
      "cell_type": "raw",
      "metadata": {
        "raw_mimetype": "text/html"
      },
      "source": [
        "<td>"
      ],
      "id": "244170e0-1485-43d5-8ffe-38089696c3de"
    },
    {
      "cell_type": "markdown",
      "metadata": {},
      "source": [
        "<span data-sort-value=\"117 !\"></span><abbr class=\"abbr\" title=\"Dix-septième\">17<sup>e</sup></abbr>"
      ],
      "id": "499779a2-9dbb-43da-bc97-50db6792d73f"
    },
    {
      "cell_type": "raw",
      "metadata": {
        "raw_mimetype": "text/html"
      },
      "source": [
        "</td>"
      ],
      "id": "3964c638-be35-4469-a06d-0db593c58a44"
    },
    {
      "cell_type": "raw",
      "metadata": {
        "raw_mimetype": "text/html"
      },
      "source": [
        "<td align=\"left\">"
      ],
      "id": "84b98c0f-bfc5-47b1-8183-3d1616bb3ff2"
    },
    {
      "cell_type": "markdown",
      "metadata": {},
      "source": [
        "<span class=\"flagicon\"><a class=\"image\" href=\"/wiki/Fichier:Flag_of_Spain.svg\" title=\"Drapeau : Espagne\"><img alt=\"\" class=\"noviewer thumbborder\" data-file-height=\"500\" data-file-width=\"750\" decoding=\"async\" height=\"13\" src=\"//upload.wikimedia.org/wikipedia/commons/thumb/9/9a/Flag_of_Spain.svg/20px-Flag_of_Spain.svg.png\" srcset=\"//upload.wikimedia.org/wikipedia/commons/thumb/9/9a/Flag_of_Spain.svg/30px-Flag_of_Spain.svg.png 1.5x, //upload.wikimedia.org/wikipedia/commons/thumb/9/9a/Flag_of_Spain.svg/40px-Flag_of_Spain.svg.png 2x\" width=\"20\"/></a></span> <a href=\"/wiki/Robert_Moreno\" title=\"Robert Moreno\">Robert Moreno</a>"
      ],
      "id": "84dc44d7-3791-40e8-ba2c-57969fad46a0"
    },
    {
      "cell_type": "raw",
      "metadata": {
        "raw_mimetype": "text/html"
      },
      "source": [
        "</td>"
      ],
      "id": "bdd45605-6df4-4cd7-9a9b-38b3528c38b8"
    },
    {
      "cell_type": "raw",
      "metadata": {
        "raw_mimetype": "text/html"
      },
      "source": [
        "<td>"
      ],
      "id": "28a4bfae-70ea-46ad-b696-239ce72b325c"
    },
    {
      "cell_type": "markdown",
      "metadata": {},
      "source": [
        "2019"
      ],
      "id": "14da4839-586d-4131-ab5f-92b36f8c882b"
    },
    {
      "cell_type": "raw",
      "metadata": {
        "raw_mimetype": "text/html"
      },
      "source": [
        "</td>"
      ],
      "id": "2f6fd570-bd20-44ba-8b2b-4d4da141f5e3"
    },
    {
      "cell_type": "raw",
      "metadata": {
        "raw_mimetype": "text/html"
      },
      "source": [
        "<td>"
      ],
      "id": "d0debb3e-1e75-4fbb-80f4-6f096e5dd1a7"
    },
    {
      "cell_type": "markdown",
      "metadata": {},
      "source": [
        "<a href=\"/wiki/Stade_Louis-II\" title=\"Stade Louis-II\">Stade Louis-II</a>"
      ],
      "id": "1ddfdac2-bf60-4030-9d25-a5956c9ccbc4"
    },
    {
      "cell_type": "raw",
      "metadata": {
        "raw_mimetype": "text/html"
      },
      "source": [
        "</td>"
      ],
      "id": "4ca1f5ca-97e2-4def-b520-d901e59d2b38"
    },
    {
      "cell_type": "raw",
      "metadata": {
        "raw_mimetype": "text/html"
      },
      "source": [
        "<td>"
      ],
      "id": "a849b14e-38cb-4668-819b-aba6a4fa2b5c"
    },
    {
      "cell_type": "markdown",
      "metadata": {},
      "source": [
        "16 500"
      ],
      "id": "11463494-c7f4-4271-af1e-9b9dcaf354aa"
    },
    {
      "cell_type": "raw",
      "metadata": {
        "raw_mimetype": "text/html"
      },
      "source": [
        "</td>"
      ],
      "id": "a39aa7f3-bfb1-4632-86e5-d270a6220c0e"
    },
    {
      "cell_type": "raw",
      "metadata": {
        "raw_mimetype": "text/html"
      },
      "source": [
        "<td>"
      ],
      "id": "2bc99e75-c9f6-4487-8ff6-4dcaf8f73205"
    },
    {
      "cell_type": "markdown",
      "metadata": {},
      "source": [
        "60"
      ],
      "id": "f60dc41a-0cdd-4cda-b84f-c985d01133fd"
    },
    {
      "cell_type": "raw",
      "metadata": {
        "raw_mimetype": "text/html"
      },
      "source": [
        "</td>"
      ],
      "id": "b0605e3c-f8d5-4ec9-8e62-6e4c3e0f1182"
    },
    {
      "cell_type": "raw",
      "metadata": {
        "raw_mimetype": "text/html"
      },
      "source": [
        "</tr>"
      ],
      "id": "ff2a36fe-8c98-4169-beab-ac7efe16999f"
    },
    {
      "cell_type": "raw",
      "metadata": {
        "raw_mimetype": "text/html"
      },
      "source": [
        "<tr>"
      ],
      "id": "1e0d1b97-8d25-4d0e-8f2f-329146971042"
    },
    {
      "cell_type": "raw",
      "metadata": {
        "raw_mimetype": "text/html"
      },
      "source": [
        "<td>"
      ],
      "id": "44616c58-4e74-4765-bcca-d6140c0480e6"
    },
    {
      "cell_type": "markdown",
      "metadata": {},
      "source": [
        "<a href=\"/wiki/Dijon_Football_C%C3%B4te-d%27Or\" title=\"Dijon Football Côte-d'Or\">Dijon FCO</a>"
      ],
      "id": "3bc5bd83-5fcf-4d81-bb17-bc8a4089b7eb"
    },
    {
      "cell_type": "raw",
      "metadata": {
        "raw_mimetype": "text/html"
      },
      "source": [
        "</td>"
      ],
      "id": "1fbd4103-660b-4d9c-8e8b-47c3ebdc5afb"
    },
    {
      "cell_type": "raw",
      "metadata": {
        "raw_mimetype": "text/html"
      },
      "source": [
        "<td>"
      ],
      "id": "560fe2af-0e26-472e-822c-75938bb8f0bd"
    },
    {
      "cell_type": "markdown",
      "metadata": {},
      "source": [
        "2016"
      ],
      "id": "e98dc822-cfee-4f2f-912c-0a74920ad04c"
    },
    {
      "cell_type": "raw",
      "metadata": {
        "raw_mimetype": "text/html"
      },
      "source": [
        "</td>"
      ],
      "id": "efea22bd-8f97-4c3e-8f24-4bdcab8ab50a"
    },
    {
      "cell_type": "raw",
      "metadata": {
        "raw_mimetype": "text/html"
      },
      "source": [
        "<td>"
      ],
      "id": "7c9bc199-c5a5-44e0-814c-4a4be4fb0d71"
    },
    {
      "cell_type": "markdown",
      "metadata": {},
      "source": [
        "38"
      ],
      "id": "614f6cd6-f41c-4384-b189-26722f1641fc"
    },
    {
      "cell_type": "raw",
      "metadata": {
        "raw_mimetype": "text/html"
      },
      "source": [
        "</td>"
      ],
      "id": "e96c38ba-e911-442b-a6ec-d363aee94fd7"
    },
    {
      "cell_type": "raw",
      "metadata": {
        "raw_mimetype": "text/html"
      },
      "source": [
        "<td>"
      ],
      "id": "dab40afc-9f4e-4c25-b840-7763c1a52784"
    },
    {
      "cell_type": "markdown",
      "metadata": {},
      "source": [
        "<span data-sort-value=\"118 !\"></span><abbr class=\"abbr\" title=\"Dix-huitième\">18<sup>e</sup></abbr>"
      ],
      "id": "e806ecec-3f9e-4579-8f78-2a0076187864"
    },
    {
      "cell_type": "raw",
      "metadata": {
        "raw_mimetype": "text/html"
      },
      "source": [
        "</td>"
      ],
      "id": "df26fd44-e9c2-469a-9f41-c64f0dc6eae7"
    },
    {
      "cell_type": "raw",
      "metadata": {
        "raw_mimetype": "text/html"
      },
      "source": [
        "<td align=\"left\">"
      ],
      "id": "2aafbba8-de00-41e4-8b79-a704ec1a3505"
    },
    {
      "cell_type": "markdown",
      "metadata": {},
      "source": [
        "<span class=\"flagicon\"><a class=\"image\" href=\"/wiki/Fichier:Flag_of_France.svg\" title=\"Drapeau : France\"><img alt=\"\" class=\"noviewer thumbborder\" data-file-height=\"600\" data-file-width=\"900\" decoding=\"async\" height=\"13\" src=\"//upload.wikimedia.org/wikipedia/commons/thumb/c/c3/Flag_of_France.svg/20px-Flag_of_France.svg.png\" srcset=\"//upload.wikimedia.org/wikipedia/commons/thumb/c/c3/Flag_of_France.svg/30px-Flag_of_France.svg.png 1.5x, //upload.wikimedia.org/wikipedia/commons/thumb/c/c3/Flag_of_France.svg/40px-Flag_of_France.svg.png 2x\" width=\"20\"/></a></span> <a href=\"/wiki/St%C3%A9phane_Jobard\" title=\"Stéphane Jobard\">Stéphane Jobard</a>"
      ],
      "id": "7b177cec-0de7-4872-8eec-0adbdbd0ea54"
    },
    {
      "cell_type": "raw",
      "metadata": {
        "raw_mimetype": "text/html"
      },
      "source": [
        "</td>"
      ],
      "id": "fcf34964-3a78-4a9a-a272-096cba4ab89c"
    },
    {
      "cell_type": "raw",
      "metadata": {
        "raw_mimetype": "text/html"
      },
      "source": [
        "<td>"
      ],
      "id": "1afe23ce-1d58-47a4-9c81-ab3f23652869"
    },
    {
      "cell_type": "markdown",
      "metadata": {},
      "source": [
        "2019"
      ],
      "id": "3b2c77c4-cbc0-469c-a8f5-9adee52ee7b2"
    },
    {
      "cell_type": "raw",
      "metadata": {
        "raw_mimetype": "text/html"
      },
      "source": [
        "</td>"
      ],
      "id": "5c5141b3-4545-46eb-9161-238f68d19d89"
    },
    {
      "cell_type": "raw",
      "metadata": {
        "raw_mimetype": "text/html"
      },
      "source": [
        "<td>"
      ],
      "id": "d8486db7-18d6-4ab2-8631-700475350cdf"
    },
    {
      "cell_type": "markdown",
      "metadata": {},
      "source": [
        "<a href=\"/wiki/Stade_Gaston-G%C3%A9rard\" title=\"Stade Gaston-Gérard\">Parc des Sports Gaston-Gérard</a>"
      ],
      "id": "c582d11d-074a-4a7c-963a-c81228c69b45"
    },
    {
      "cell_type": "raw",
      "metadata": {
        "raw_mimetype": "text/html"
      },
      "source": [
        "</td>"
      ],
      "id": "228d58be-5883-41da-b042-323a9b7da9bc"
    },
    {
      "cell_type": "raw",
      "metadata": {
        "raw_mimetype": "text/html"
      },
      "source": [
        "<td>"
      ],
      "id": "fc4d51c2-806c-4b5e-a717-0dbb9a740913"
    },
    {
      "cell_type": "markdown",
      "metadata": {},
      "source": [
        "15 459"
      ],
      "id": "c61b3d14-a9b8-41f3-91b5-d591d823224a"
    },
    {
      "cell_type": "raw",
      "metadata": {
        "raw_mimetype": "text/html"
      },
      "source": [
        "</td>"
      ],
      "id": "76967832-4f68-48fe-9654-ceff87b9c443"
    },
    {
      "cell_type": "raw",
      "metadata": {
        "raw_mimetype": "text/html"
      },
      "source": [
        "<td>"
      ],
      "id": "f2563a28-62e0-4b59-9a36-9546aa5a9371"
    },
    {
      "cell_type": "markdown",
      "metadata": {},
      "source": [
        "4"
      ],
      "id": "a77dbd76-d634-4c1d-906d-c7c98aa1c064"
    },
    {
      "cell_type": "raw",
      "metadata": {
        "raw_mimetype": "text/html"
      },
      "source": [
        "</td>"
      ],
      "id": "bcbc6953-5fc7-4172-a75f-3c605e7687bf"
    },
    {
      "cell_type": "raw",
      "metadata": {
        "raw_mimetype": "text/html"
      },
      "source": [
        "</tr>"
      ],
      "id": "6e31239b-b124-4f02-a2de-db0d4c25c7ed"
    },
    {
      "cell_type": "raw",
      "metadata": {
        "raw_mimetype": "text/html"
      },
      "source": [
        "<tr bgcolor=\"#a8fca8\">"
      ],
      "id": "9782247b-412e-41b4-9546-cf22b29e5b96"
    },
    {
      "cell_type": "raw",
      "metadata": {
        "raw_mimetype": "text/html"
      },
      "source": [
        "<td>"
      ],
      "id": "15ecc893-8863-4d88-b7ba-e4d4b0eee153"
    },
    {
      "cell_type": "markdown",
      "metadata": {},
      "source": [
        "<a href=\"/wiki/Football_Club_de_Metz\" title=\"Football Club de Metz\">FC Metz</a>"
      ],
      "id": "bbe58371-cd8a-4241-b162-c82f19b6a8e4"
    },
    {
      "cell_type": "raw",
      "metadata": {
        "raw_mimetype": "text/html"
      },
      "source": [
        "</td>"
      ],
      "id": "07d5d431-338e-4089-810b-e0cbcb9d6ff9"
    },
    {
      "cell_type": "raw",
      "metadata": {
        "raw_mimetype": "text/html"
      },
      "source": [
        "<td>"
      ],
      "id": "ef4876f6-e441-482b-803e-0c9973d19947"
    },
    {
      "cell_type": "markdown",
      "metadata": {},
      "source": [
        "2019"
      ],
      "id": "7f4b64f9-09b2-424a-9846-0887fb306c84"
    },
    {
      "cell_type": "raw",
      "metadata": {
        "raw_mimetype": "text/html"
      },
      "source": [
        "</td>"
      ],
      "id": "9ea2aa6e-4581-4338-9a41-ca609913ecf7"
    },
    {
      "cell_type": "raw",
      "metadata": {
        "raw_mimetype": "text/html"
      },
      "source": [
        "<td>"
      ],
      "id": "b7014f3d-12df-4dbc-8d90-f979af439bd5"
    },
    {
      "cell_type": "markdown",
      "metadata": {},
      "source": [
        "40"
      ],
      "id": "d377b0f9-f3ec-4374-949b-158835128d6e"
    },
    {
      "cell_type": "raw",
      "metadata": {
        "raw_mimetype": "text/html"
      },
      "source": [
        "</td>"
      ],
      "id": "deb46485-bd6f-44b5-a429-7525ebe48907"
    },
    {
      "cell_type": "raw",
      "metadata": {
        "raw_mimetype": "text/html"
      },
      "source": [
        "<td>"
      ],
      "id": "c32f266c-0c7e-418c-b1ac-7d326d8ef4aa"
    },
    {
      "cell_type": "markdown",
      "metadata": {},
      "source": [
        "<span data-sort-value=\"201 !\"></span><abbr class=\"abbr\" title=\"Premier\">1<sup>er</sup></abbr> (<a class=\"mw-redirect\" href=\"/wiki/Championnat_de_France_de_football_de_Ligue_2_2018-2019\" title=\"Championnat de France de football de Ligue 2 2018-2019\">Ligue 2</a>)"
      ],
      "id": "b5b759d7-c46c-4050-a2c9-91d99a787e65"
    },
    {
      "cell_type": "raw",
      "metadata": {
        "raw_mimetype": "text/html"
      },
      "source": [
        "</td>"
      ],
      "id": "7eee8606-2af9-44a6-80f5-71500f38684e"
    },
    {
      "cell_type": "raw",
      "metadata": {
        "raw_mimetype": "text/html"
      },
      "source": [
        "<td align=\"left\">"
      ],
      "id": "f76e57b1-c9f8-4cf7-b9f0-83a3320fe391"
    },
    {
      "cell_type": "markdown",
      "metadata": {},
      "source": [
        "<span class=\"flagicon\"><a class=\"image\" href=\"/wiki/Fichier:Flag_of_France.svg\" title=\"Drapeau : France\"><img alt=\"\" class=\"noviewer thumbborder\" data-file-height=\"600\" data-file-width=\"900\" decoding=\"async\" height=\"13\" src=\"//upload.wikimedia.org/wikipedia/commons/thumb/c/c3/Flag_of_France.svg/20px-Flag_of_France.svg.png\" srcset=\"//upload.wikimedia.org/wikipedia/commons/thumb/c/c3/Flag_of_France.svg/30px-Flag_of_France.svg.png 1.5x, //upload.wikimedia.org/wikipedia/commons/thumb/c/c3/Flag_of_France.svg/40px-Flag_of_France.svg.png 2x\" width=\"20\"/></a></span> <a href=\"/wiki/Vincent_Hognon\" title=\"Vincent Hognon\">Vincent Hognon</a>"
      ],
      "id": "857659f9-37ba-40be-8e3d-bef0c8502731"
    },
    {
      "cell_type": "raw",
      "metadata": {
        "raw_mimetype": "text/html"
      },
      "source": [
        "</td>"
      ],
      "id": "e04623ad-3c1c-4ef5-b900-76f7b1e7f064"
    },
    {
      "cell_type": "raw",
      "metadata": {
        "raw_mimetype": "text/html"
      },
      "source": [
        "<td>"
      ],
      "id": "2ebfb710-e282-4b62-b0e2-0d164b164612"
    },
    {
      "cell_type": "markdown",
      "metadata": {},
      "source": [
        "2019"
      ],
      "id": "82f0beb0-89ee-48c8-83ba-7948fafe14a6"
    },
    {
      "cell_type": "raw",
      "metadata": {
        "raw_mimetype": "text/html"
      },
      "source": [
        "</td>"
      ],
      "id": "3b47f593-48e5-4c88-bc47-e514ac214243"
    },
    {
      "cell_type": "raw",
      "metadata": {
        "raw_mimetype": "text/html"
      },
      "source": [
        "<td>"
      ],
      "id": "9b6f3e5f-ac4f-4bfd-a3cb-d90e3b1a7e96"
    },
    {
      "cell_type": "markdown",
      "metadata": {},
      "source": [
        "<a href=\"/wiki/Stade_Saint-Symphorien\" title=\"Stade Saint-Symphorien\">Stade Saint-Symphorien</a>"
      ],
      "id": "cf68dac0-419d-4d71-bf4e-0b46033a100c"
    },
    {
      "cell_type": "raw",
      "metadata": {
        "raw_mimetype": "text/html"
      },
      "source": [
        "</td>"
      ],
      "id": "69c91294-094a-47ac-ae9a-dc0166cff02e"
    },
    {
      "cell_type": "raw",
      "metadata": {
        "raw_mimetype": "text/html"
      },
      "source": [
        "<td>"
      ],
      "id": "49528253-e48e-4261-9f7a-e75d9fac4d71"
    },
    {
      "cell_type": "markdown",
      "metadata": {},
      "source": [
        "25 865"
      ],
      "id": "817204d9-710a-4818-beff-407da52aedf7"
    },
    {
      "cell_type": "raw",
      "metadata": {
        "raw_mimetype": "text/html"
      },
      "source": [
        "</td>"
      ],
      "id": "902a3998-a216-4e76-8dbc-112cceb19a6d"
    },
    {
      "cell_type": "raw",
      "metadata": {
        "raw_mimetype": "text/html"
      },
      "source": [
        "<td>"
      ],
      "id": "0dc9ad98-ecb4-4539-97cc-af06ac080962"
    },
    {
      "cell_type": "markdown",
      "metadata": {},
      "source": [
        "61"
      ],
      "id": "623a7c14-8a07-4ad4-b181-5a3ee0d808ad"
    },
    {
      "cell_type": "raw",
      "metadata": {
        "raw_mimetype": "text/html"
      },
      "source": [
        "</td>"
      ],
      "id": "7cf83c0e-cb81-4b17-95b2-98a5bcef237a"
    },
    {
      "cell_type": "raw",
      "metadata": {
        "raw_mimetype": "text/html"
      },
      "source": [
        "</tr>"
      ],
      "id": "87b7b924-ac20-4b91-8425-8dbbd8d70a42"
    },
    {
      "cell_type": "raw",
      "metadata": {
        "raw_mimetype": "text/html"
      },
      "source": [
        "<tr bgcolor=\"#a8fca8\">"
      ],
      "id": "14eb0c8d-947e-418b-a675-d2042c559533"
    },
    {
      "cell_type": "raw",
      "metadata": {
        "raw_mimetype": "text/html"
      },
      "source": [
        "<td>"
      ],
      "id": "ddf9d95e-1070-44f4-9f94-564864a19972"
    },
    {
      "cell_type": "markdown",
      "metadata": {},
      "source": [
        "<a href=\"/wiki/Stade_brestois_29\" title=\"Stade brestois 29\">Stade brestois 29</a>"
      ],
      "id": "970902c2-e85a-495f-87d1-ca89475c83b9"
    },
    {
      "cell_type": "raw",
      "metadata": {
        "raw_mimetype": "text/html"
      },
      "source": [
        "</td>"
      ],
      "id": "123875a3-4b52-4de6-bdd7-95f58c039460"
    },
    {
      "cell_type": "raw",
      "metadata": {
        "raw_mimetype": "text/html"
      },
      "source": [
        "<td>"
      ],
      "id": "b379b710-fc17-4141-9a49-2eeef429a83e"
    },
    {
      "cell_type": "markdown",
      "metadata": {},
      "source": [
        "2019"
      ],
      "id": "7e350bda-e714-4d30-b744-18c7ffbf0270"
    },
    {
      "cell_type": "raw",
      "metadata": {
        "raw_mimetype": "text/html"
      },
      "source": [
        "</td>"
      ],
      "id": "b58e542f-c2ce-4fdd-8ac0-6f481d866d50"
    },
    {
      "cell_type": "raw",
      "metadata": {
        "raw_mimetype": "text/html"
      },
      "source": [
        "<td>"
      ],
      "id": "97b74d87-f852-467f-91b6-21151ec29eac"
    },
    {
      "cell_type": "markdown",
      "metadata": {},
      "source": [
        "30"
      ],
      "id": "7d9542c8-cbe3-4e63-928b-d91989215448"
    },
    {
      "cell_type": "raw",
      "metadata": {
        "raw_mimetype": "text/html"
      },
      "source": [
        "</td>"
      ],
      "id": "778996e5-2b98-4901-927d-b3a3efefac73"
    },
    {
      "cell_type": "raw",
      "metadata": {
        "raw_mimetype": "text/html"
      },
      "source": [
        "<td>"
      ],
      "id": "d2742fbd-24b6-4971-bb80-0c3393c0ecf0"
    },
    {
      "cell_type": "markdown",
      "metadata": {},
      "source": [
        "<span data-sort-value=\"202 !\"></span><abbr class=\"abbr\" title=\"Deuxième\">2<sup>e</sup></abbr> (<a class=\"mw-redirect\" href=\"/wiki/Championnat_de_France_de_football_de_Ligue_2_2018-2019\" title=\"Championnat de France de football de Ligue 2 2018-2019\">Ligue 2</a>)"
      ],
      "id": "99f0602a-148a-42f6-b8f0-4fec6b2d43c7"
    },
    {
      "cell_type": "raw",
      "metadata": {
        "raw_mimetype": "text/html"
      },
      "source": [
        "</td>"
      ],
      "id": "ab0ca9c5-0780-4844-8126-6b77ef889e49"
    },
    {
      "cell_type": "raw",
      "metadata": {
        "raw_mimetype": "text/html"
      },
      "source": [
        "<td align=\"left\">"
      ],
      "id": "92b58f6f-08f8-413b-ad83-a33c809b2199"
    },
    {
      "cell_type": "markdown",
      "metadata": {},
      "source": [
        "<span class=\"flagicon\"><a class=\"image\" href=\"/wiki/Fichier:Flag_of_France.svg\" title=\"Drapeau : France\"><img alt=\"\" class=\"noviewer thumbborder\" data-file-height=\"600\" data-file-width=\"900\" decoding=\"async\" height=\"13\" src=\"//upload.wikimedia.org/wikipedia/commons/thumb/c/c3/Flag_of_France.svg/20px-Flag_of_France.svg.png\" srcset=\"//upload.wikimedia.org/wikipedia/commons/thumb/c/c3/Flag_of_France.svg/30px-Flag_of_France.svg.png 1.5x, //upload.wikimedia.org/wikipedia/commons/thumb/c/c3/Flag_of_France.svg/40px-Flag_of_France.svg.png 2x\" width=\"20\"/></a></span> <a href=\"/wiki/Olivier_Dall%27Oglio\" title=\"Olivier Dall'Oglio\">Olivier Dall’Oglio</a>"
      ],
      "id": "666850cd-cb1d-4765-b654-104bc322370b"
    },
    {
      "cell_type": "raw",
      "metadata": {
        "raw_mimetype": "text/html"
      },
      "source": [
        "</td>"
      ],
      "id": "4e4cf22c-2f9f-43a9-8432-37bf6d1b7e53"
    },
    {
      "cell_type": "raw",
      "metadata": {
        "raw_mimetype": "text/html"
      },
      "source": [
        "<td>"
      ],
      "id": "8a54bf23-2835-4c5f-983c-e7a19540385c"
    },
    {
      "cell_type": "markdown",
      "metadata": {},
      "source": [
        "2019"
      ],
      "id": "f25b03d6-ffa9-458a-9ceb-27b25551a800"
    },
    {
      "cell_type": "raw",
      "metadata": {
        "raw_mimetype": "text/html"
      },
      "source": [
        "</td>"
      ],
      "id": "ad53c6bf-a8a3-4ea1-ba93-a7005d79494f"
    },
    {
      "cell_type": "raw",
      "metadata": {
        "raw_mimetype": "text/html"
      },
      "source": [
        "<td>"
      ],
      "id": "3f8d43b9-c6ff-4231-94d9-8e006634fe26"
    },
    {
      "cell_type": "markdown",
      "metadata": {},
      "source": [
        "<a href=\"/wiki/Stade_Francis-Le_Bl%C3%A9\" title=\"Stade Francis-Le Blé\">Stade Francis-Le Blé</a>"
      ],
      "id": "33f9de6c-bf68-4d5e-8d9f-aee49d06b64d"
    },
    {
      "cell_type": "raw",
      "metadata": {
        "raw_mimetype": "text/html"
      },
      "source": [
        "</td>"
      ],
      "id": "8fffbaf6-ed80-4e56-b521-141f08c858ec"
    },
    {
      "cell_type": "raw",
      "metadata": {
        "raw_mimetype": "text/html"
      },
      "source": [
        "<td>"
      ],
      "id": "5d812b68-0071-4fbb-957c-55e4b4d94d1b"
    },
    {
      "cell_type": "markdown",
      "metadata": {},
      "source": [
        "14 920"
      ],
      "id": "b71b8af0-8c36-42ca-a22b-8be84b3174d9"
    },
    {
      "cell_type": "raw",
      "metadata": {
        "raw_mimetype": "text/html"
      },
      "source": [
        "</td>"
      ],
      "id": "af7b18de-0986-4f20-9ad6-80d43f53b014"
    },
    {
      "cell_type": "raw",
      "metadata": {
        "raw_mimetype": "text/html"
      },
      "source": [
        "<td>"
      ],
      "id": "ca2a21b2-5eae-40d4-90e9-bd6e8bfa2c73"
    },
    {
      "cell_type": "markdown",
      "metadata": {},
      "source": [
        "13"
      ],
      "id": "a014b11e-3ca9-4649-b9d7-2ff3c86613f4"
    },
    {
      "cell_type": "raw",
      "metadata": {
        "raw_mimetype": "text/html"
      },
      "source": [
        "</td>"
      ],
      "id": "bf12ed04-821e-4655-b14a-ca49df9bf44e"
    },
    {
      "cell_type": "raw",
      "metadata": {
        "raw_mimetype": "text/html"
      },
      "source": [
        "</tr>"
      ],
      "id": "ad45f803-5155-419a-ab8d-d8e2da1ae558"
    },
    {
      "cell_type": "raw",
      "metadata": {
        "raw_mimetype": "text/html"
      },
      "source": [
        "</tbody>"
      ],
      "id": "afdbc6bd-25aa-42c0-9305-b9295cbfd098"
    },
    {
      "cell_type": "raw",
      "metadata": {
        "raw_mimetype": "text/html"
      },
      "source": [
        "</table>"
      ],
      "id": "d98d6cd7-d765-432a-a929-cf6471c07a23"
    },
    {
      "cell_type": "markdown",
      "metadata": {},
      "source": [
        ":two:\n",
        "Récupérer chaque ligne du tableau"
      ],
      "id": "6f810c30-d564-430c-b007-f4589be00656"
    },
    {
      "cell_type": "code",
      "execution_count": 11,
      "metadata": {},
      "outputs": [
        {
          "output_type": "stream",
          "name": "stdout",
          "text": [
            "<tr>\n",
            "<th scope=\"col\">Club\n",
            "</th>\n",
            "<th scope=\"col\">Dernière<br/>montée\n",
            "</th>\n",
            "<th scope=\"col\">Budget<sup class=\"reference\" id=\"cite_ref-3\"><a href=\"#cite_note-3\"><span class=\"cite_crochet\">[</span>3<span class=\"cite_crochet\">]</span></a></sup><br/>en M<a href=\"/wiki/Euro\" title=\"Euro\">€</a>\n",
            "</th>\n",
            "<th scope=\"col\">Classement<br/><a href=\"/wiki/Championnat_de_France_de_football_2018-2019\" title=\"Championnat de France de football 2018-2019\">2018-2019</a>\n",
            "</th>\n",
            "<th scope=\"col\">Entraîneur\n",
            "</th>\n",
            "<th scope=\"col\">Depuis\n",
            "</th>\n",
            "<th scope=\"col\">Stade\n",
            "</th>\n",
            "<th scope=\"col\">Capacité<br/>en L1<sup class=\"reference\" id=\"cite_ref-4\"><a href=\"#cite_note-4\"><span class=\"cite_crochet\">[</span>4<span class=\"cite_crochet\">]</span></a></sup>\n",
            "</th>\n",
            "<th scope=\"col\">Nombre<br/>de saisons<br/>en L1\n",
            "</th></tr>"
          ]
        }
      ],
      "source": [
        "table_body = tableau_participants.find('tbody')\n",
        "\n",
        "# on recherche toutes les lignes du tableau avec la balise \"tr\"\n",
        "rows = table_body.find_all('tr')\n",
        "\n",
        "# on obtient une liste où chaque élément est une des lignes du tableau\n",
        "\n",
        "# par exemple la première ligne va correspondre aux entêtes de colonne\n",
        "print(rows[0])"
      ],
      "id": "2526ea3f-c3ea-4d45-b304-494619548f7f"
    },
    {
      "cell_type": "code",
      "execution_count": 12,
      "metadata": {},
      "outputs": [
        {
          "output_type": "stream",
          "name": "stdout",
          "text": [
            "<tr bgcolor=\"#97DEFF\">\n",
            "<td><a href=\"/wiki/Paris_Saint-Germain_Football_Club\" title=\"Paris Saint-Germain Football Club\">Paris Saint-Germain</a>\n",
            "</td>\n",
            "<td>1974\n",
            "</td>\n",
            "<td>637\n",
            "</td>\n",
            "<td><span data-sort-value=\"101 !\"></span><abbr class=\"abbr\" title=\"Premier\">1<sup>er</sup></abbr>\n",
            "</td>\n",
            "<td align=\"left\"><span class=\"flagicon\"><a class=\"image\" href=\"/wiki/Fichier:Flag_of_Germany.svg\" title=\"Drapeau : Allemagne\"><img alt=\"\" class=\"noviewer thumbborder\" data-file-height=\"600\" data-file-width=\"1000\" decoding=\"async\" height=\"12\" src=\"//upload.wikimedia.org/wikipedia/commons/thumb/b/ba/Flag_of_Germany.svg/20px-Flag_of_Germany.svg.png\" srcset=\"//upload.wikimedia.org/wikipedia/commons/thumb/b/ba/Flag_of_Germany.svg/30px-Flag_of_Germany.svg.png 1.5x, //upload.wikimedia.org/wikipedia/commons/thumb/b/ba/Flag_of_Germany.svg/40px-Flag_of_Germany.svg.png 2x\" width=\"20\"/></a></span> <a href=\"/wiki/Thomas_Tuchel\" title=\"Thomas Tuchel\">Thomas Tuchel</a>\n",
            "</td>\n",
            "<td>2018\n",
            "</td>\n",
            "<td><a href=\"/wiki/Parc_des_Princes\" title=\"Parc des Princes\">Parc des Princes</a>\n",
            "</td>\n",
            "<td>47 929\n",
            "</td>\n",
            "<td>46\n",
            "</td></tr>"
          ]
        }
      ],
      "source": [
        "# par exemple la seconde ligne va correspondre à la ligne du premier club présent dans le tableau\n",
        "\n",
        "print(rows[1])"
      ],
      "id": "43ad3ec1-7cc5-45f9-ab62-2dc181df7624"
    },
    {
      "cell_type": "markdown",
      "metadata": {},
      "source": [
        ":three:\n",
        "Nettoyer les sorties en ne gardant que le texte sur une ligne\n",
        "\n",
        "On va utiliser l’attribut `text` afin de se débarasser de toute la couche de HTML qu’on obtient à l’étape 2.\n",
        "\n",
        "Un exemple sur la ligne du premier club :\n",
        "- on commence par prendre toutes les cellules de cette ligne, avec la balise `td`.\n",
        "- on fait ensuite une boucle sur chacune des cellules et on ne garde que le texte de la cellule avec l’attribut `text`.\n",
        "- enfin, on applique la méthode `strip()` pour que le texte soit bien mis en forme (sans espace inutile etc)."
      ],
      "id": "b18c48db-c5c9-46ef-b0b5-6d92d394d527"
    },
    {
      "cell_type": "code",
      "execution_count": 13,
      "metadata": {},
      "outputs": [
        {
          "output_type": "stream",
          "name": "stdout",
          "text": [
            "<td><a href=\"/wiki/Paris_Saint-Germain_Football_Club\" title=\"Paris Saint-Germain Football Club\">Paris Saint-Germain</a>\n",
            "</td>\n",
            "Paris Saint-Germain"
          ]
        }
      ],
      "source": [
        "cols = rows[1].find_all('td')\n",
        "print(cols[0])\n",
        "print(cols[0].text.strip())"
      ],
      "id": "5e8e898b-8432-45a4-8809-802ab3c6e2ef"
    },
    {
      "cell_type": "code",
      "execution_count": 14,
      "metadata": {},
      "outputs": [
        {
          "output_type": "stream",
          "name": "stdout",
          "text": [
            "Paris Saint-Germain\n",
            "1974\n",
            "637\n",
            "1er\n",
            "Thomas Tuchel\n",
            "2018\n",
            "Parc des Princes\n",
            "47 929\n",
            "46"
          ]
        }
      ],
      "source": [
        "for ele in cols : \n",
        "    print(ele.text.strip())"
      ],
      "id": "c2c55ac3-8927-43d7-ba81-92350a94bee7"
    },
    {
      "cell_type": "markdown",
      "metadata": {},
      "source": [
        ":four:\n",
        "Généraliser sur toutes les lignes"
      ],
      "id": "f249473c-c6da-4f06-9ec6-c80823063a79"
    },
    {
      "cell_type": "code",
      "execution_count": 15,
      "metadata": {},
      "outputs": [
        {
          "output_type": "stream",
          "name": "stdout",
          "text": [
            "[]\n",
            "['Paris Saint-Germain', '1974', '637', '1er', 'Thomas Tuchel', '2018', 'Parc des Princes', '47\\xa0929', '46']\n",
            "['LOSC Lille', '2000', '120', '2e', 'Christophe Galtier', '2017', 'Stade Pierre-Mauroy', '49\\xa0712', '59']\n",
            "['Olympique lyonnais', '1989', '310', '3e', 'Rudi Garcia', '2019', 'Groupama Stadium', '57\\xa0206', '60']\n",
            "['AS Saint-Étienne', '2004', '100', '4e', 'Claude Puel', '2019', 'Stade Geoffroy-Guichard', '41\\xa0965', '66']\n",
            "['Olympique de Marseille', '1996', '110', '5e', 'André Villas-Boas', '2019', 'Orange Vélodrome', '66\\xa0226', '69']\n",
            "['Montpellier HSC', '2009', '40', '6e', 'Michel Der Zakarian', '2017', 'Stade de la Mosson', '22\\xa0000', '27']\n",
            "['OGC Nice', '2002', '50', '7e', 'Patrick Vieira', '2018', 'Allianz Riviera', '35\\xa0596', '60']\n",
            "['Stade de Reims', '2018', '45', '8e', 'David Guion', '2017', 'Stade Auguste-Delaune', '20\\xa0546', '35']\n",
            "['Nîmes Olympique', '2018', '27', '9e', 'Bernard Blaquart', '2015', 'Stade des Costières', '15\\xa0788', '35']\n",
            "['Stade rennais FC', '1994', '65', '10e', 'Julien Stéphan', '2018', 'Roazhon Park', '29\\xa0194', '62']\n",
            "['RC Strasbourg Alsace', '2017', '43', '11e', 'Thierry Laurey', '2016', 'Stade de la Meinau', '26\\xa0109', '58']\n",
            "['FC Nantes', '2013', '70', '12e', 'Christian Gourcuff', '2019', 'Stade de la Beaujoire - Louis Fonteneau', '35\\xa0322', '51']\n",
            "['SCO d’Angers', '2015', '32', '13e', 'Stéphane Moulin', '2011', 'Stade Raymond-Kopa', '14\\xa0582', '27']\n",
            "['Girondins de Bordeaux', '1992', '70', '14e', 'Paulo Sousa', '2019', 'Matmut Atlantique', '42\\xa0115', '66']\n",
            "['Amiens SC', '2017', '30', '15e', 'Luka Elsner', '2019', 'Stade Crédit Agricole la Licorne', '12\\xa0999', '2']\n",
            "['Toulouse FC', '2003', '35', '16e', 'Denis Zanko', '2020', 'Stadium de Toulouse', '33\\xa0033', '32']\n",
            "['AS Monaco', '2013', '220', '17e', 'Robert Moreno', '2019', 'Stade Louis-II', '16\\xa0500', '60']\n",
            "['Dijon FCO', '2016', '38', '18e', 'Stéphane Jobard', '2019', 'Parc des Sports Gaston-Gérard', '15\\xa0459', '4']\n",
            "['FC Metz', '2019', '40', '1er (Ligue 2)', 'Vincent Hognon', '2019', 'Stade Saint-Symphorien', '25\\xa0865', '61']\n",
            "['Stade brestois 29', '2019', '30', '2e (Ligue 2)', \"Olivier Dall'Oglio\", '2019', 'Stade Francis-Le Blé', '14\\xa0920', '13']"
          ]
        }
      ],
      "source": [
        "for row in rows:\n",
        "    cols = row.find_all('td')\n",
        "    cols = [ele.text.strip() for ele in cols]\n",
        "    print(cols)"
      ],
      "id": "5f1388a4-262c-48f1-aaa1-18d8bc13c174"
    },
    {
      "cell_type": "markdown",
      "metadata": {},
      "source": [
        "On a bien réussi à avoir les informations contenues dans le tableau des participants du championnat.\n",
        "Mais la première ligne est étrange : c’est une liste vide …\n",
        "\n",
        "Il s’agit des en-têtes : elles sont reconnues par la balise `th` et non `td`.\n",
        "\n",
        "On va mettre tout le contenu dans un dictionnaire, pour le transformer ensuite en DataFrame pandas :"
      ],
      "id": "5b866424-76b1-447f-81d1-a7de36f61f2a"
    },
    {
      "cell_type": "code",
      "execution_count": 16,
      "metadata": {},
      "outputs": [
        {
          "output_type": "display_data",
          "metadata": {},
          "data": {
            "text/plain": [
              "{'Paris Saint-Germain': ['1974',\n",
              "  '637',\n",
              "  '1er',\n",
              "  'Thomas Tuchel',\n",
              "  '2018',\n",
              "  'Parc des Princes',\n",
              "  '47\\xa0929',\n",
              "  '46'],\n",
              " 'LOSC Lille': ['2000',\n",
              "  '120',\n",
              "  '2e',\n",
              "  'Christophe Galtier',\n",
              "  '2017',\n",
              "  'Stade Pierre-Mauroy',\n",
              "  '49\\xa0712',\n",
              "  '59'],\n",
              " 'Olympique lyonnais': ['1989',\n",
              "  '310',\n",
              "  '3e',\n",
              "  'Rudi Garcia',\n",
              "  '2019',\n",
              "  'Groupama Stadium',\n",
              "  '57\\xa0206',\n",
              "  '60'],\n",
              " 'AS Saint-Étienne': ['2004',\n",
              "  '100',\n",
              "  '4e',\n",
              "  'Claude Puel',\n",
              "  '2019',\n",
              "  'Stade Geoffroy-Guichard',\n",
              "  '41\\xa0965',\n",
              "  '66'],\n",
              " 'Olympique de Marseille': ['1996',\n",
              "  '110',\n",
              "  '5e',\n",
              "  'André Villas-Boas',\n",
              "  '2019',\n",
              "  'Orange Vélodrome',\n",
              "  '66\\xa0226',\n",
              "  '69'],\n",
              " 'Montpellier HSC': ['2009',\n",
              "  '40',\n",
              "  '6e',\n",
              "  'Michel Der Zakarian',\n",
              "  '2017',\n",
              "  'Stade de la Mosson',\n",
              "  '22\\xa0000',\n",
              "  '27'],\n",
              " 'OGC Nice': ['2002',\n",
              "  '50',\n",
              "  '7e',\n",
              "  'Patrick Vieira',\n",
              "  '2018',\n",
              "  'Allianz Riviera',\n",
              "  '35\\xa0596',\n",
              "  '60'],\n",
              " 'Stade de Reims': ['2018',\n",
              "  '45',\n",
              "  '8e',\n",
              "  'David Guion',\n",
              "  '2017',\n",
              "  'Stade Auguste-Delaune',\n",
              "  '20\\xa0546',\n",
              "  '35'],\n",
              " 'Nîmes Olympique': ['2018',\n",
              "  '27',\n",
              "  '9e',\n",
              "  'Bernard Blaquart',\n",
              "  '2015',\n",
              "  'Stade des Costières',\n",
              "  '15\\xa0788',\n",
              "  '35'],\n",
              " 'Stade rennais FC': ['1994',\n",
              "  '65',\n",
              "  '10e',\n",
              "  'Julien Stéphan',\n",
              "  '2018',\n",
              "  'Roazhon Park',\n",
              "  '29\\xa0194',\n",
              "  '62'],\n",
              " 'RC Strasbourg Alsace': ['2017',\n",
              "  '43',\n",
              "  '11e',\n",
              "  'Thierry Laurey',\n",
              "  '2016',\n",
              "  'Stade de la Meinau',\n",
              "  '26\\xa0109',\n",
              "  '58'],\n",
              " 'FC Nantes': ['2013',\n",
              "  '70',\n",
              "  '12e',\n",
              "  'Christian Gourcuff',\n",
              "  '2019',\n",
              "  'Stade de la Beaujoire - Louis Fonteneau',\n",
              "  '35\\xa0322',\n",
              "  '51'],\n",
              " 'SCO d’Angers': ['2015',\n",
              "  '32',\n",
              "  '13e',\n",
              "  'Stéphane Moulin',\n",
              "  '2011',\n",
              "  'Stade Raymond-Kopa',\n",
              "  '14\\xa0582',\n",
              "  '27'],\n",
              " 'Girondins de Bordeaux': ['1992',\n",
              "  '70',\n",
              "  '14e',\n",
              "  'Paulo Sousa',\n",
              "  '2019',\n",
              "  'Matmut Atlantique',\n",
              "  '42\\xa0115',\n",
              "  '66'],\n",
              " 'Amiens SC': ['2017',\n",
              "  '30',\n",
              "  '15e',\n",
              "  'Luka Elsner',\n",
              "  '2019',\n",
              "  'Stade Crédit Agricole la Licorne',\n",
              "  '12\\xa0999',\n",
              "  '2'],\n",
              " 'Toulouse FC': ['2003',\n",
              "  '35',\n",
              "  '16e',\n",
              "  'Denis Zanko',\n",
              "  '2020',\n",
              "  'Stadium de Toulouse',\n",
              "  '33\\xa0033',\n",
              "  '32'],\n",
              " 'AS Monaco': ['2013',\n",
              "  '220',\n",
              "  '17e',\n",
              "  'Robert Moreno',\n",
              "  '2019',\n",
              "  'Stade Louis-II',\n",
              "  '16\\xa0500',\n",
              "  '60'],\n",
              " 'Dijon FCO': ['2016',\n",
              "  '38',\n",
              "  '18e',\n",
              "  'Stéphane Jobard',\n",
              "  '2019',\n",
              "  'Parc des Sports Gaston-Gérard',\n",
              "  '15\\xa0459',\n",
              "  '4'],\n",
              " 'FC Metz': ['2019',\n",
              "  '40',\n",
              "  '1er (Ligue 2)',\n",
              "  'Vincent Hognon',\n",
              "  '2019',\n",
              "  'Stade Saint-Symphorien',\n",
              "  '25\\xa0865',\n",
              "  '61'],\n",
              " 'Stade brestois 29': ['2019',\n",
              "  '30',\n",
              "  '2e (Ligue 2)',\n",
              "  \"Olivier Dall'Oglio\",\n",
              "  '2019',\n",
              "  'Stade Francis-Le Blé',\n",
              "  '14\\xa0920',\n",
              "  '13']}"
            ]
          }
        }
      ],
      "source": [
        "dico_participants = dict()\n",
        "for row in rows:\n",
        "    cols = row.find_all('td')\n",
        "    cols = [ele.text.strip() for ele in cols]\n",
        "    if len(cols) > 0 : \n",
        "        dico_participants[cols[0]] = cols[1:]\n",
        "dico_participants"
      ],
      "id": "59be4da1-e8d0-4796-b3c8-6c9865724c41"
    },
    {
      "cell_type": "code",
      "execution_count": 17,
      "metadata": {},
      "outputs": [
        {
          "output_type": "display_data",
          "metadata": {},
          "data": {
            "text/html": [
              "<div>\n",
              "<style scoped>\n",
              "    .dataframe tbody tr th:only-of-type {\n",
              "        vertical-align: middle;\n",
              "    }\n",
              "\n",
              "    .dataframe tbody tr th {\n",
              "        vertical-align: top;\n",
              "    }\n",
              "\n",
              "    .dataframe thead th {\n",
              "        text-align: right;\n",
              "    }\n",
              "</style>\n",
              "<table border=\"1\" class=\"dataframe\">\n",
              "  <thead>\n",
              "    <tr style=\"text-align: right;\">\n",
              "      <th></th>\n",
              "      <th>0</th>\n",
              "      <th>1</th>\n",
              "      <th>2</th>\n",
              "      <th>3</th>\n",
              "      <th>4</th>\n",
              "      <th>5</th>\n",
              "      <th>6</th>\n",
              "      <th>7</th>\n",
              "    </tr>\n",
              "  </thead>\n",
              "  <tbody>\n",
              "    <tr>\n",
              "      <th>Paris Saint-Germain</th>\n",
              "      <td>1974</td>\n",
              "      <td>637</td>\n",
              "      <td>1er</td>\n",
              "      <td>Thomas Tuchel</td>\n",
              "      <td>2018</td>\n",
              "      <td>Parc des Princes</td>\n",
              "      <td>47 929</td>\n",
              "      <td>46</td>\n",
              "    </tr>\n",
              "    <tr>\n",
              "      <th>LOSC Lille</th>\n",
              "      <td>2000</td>\n",
              "      <td>120</td>\n",
              "      <td>2e</td>\n",
              "      <td>Christophe Galtier</td>\n",
              "      <td>2017</td>\n",
              "      <td>Stade Pierre-Mauroy</td>\n",
              "      <td>49 712</td>\n",
              "      <td>59</td>\n",
              "    </tr>\n",
              "    <tr>\n",
              "      <th>Olympique lyonnais</th>\n",
              "      <td>1989</td>\n",
              "      <td>310</td>\n",
              "      <td>3e</td>\n",
              "      <td>Rudi Garcia</td>\n",
              "      <td>2019</td>\n",
              "      <td>Groupama Stadium</td>\n",
              "      <td>57 206</td>\n",
              "      <td>60</td>\n",
              "    </tr>\n",
              "    <tr>\n",
              "      <th>AS Saint-Étienne</th>\n",
              "      <td>2004</td>\n",
              "      <td>100</td>\n",
              "      <td>4e</td>\n",
              "      <td>Claude Puel</td>\n",
              "      <td>2019</td>\n",
              "      <td>Stade Geoffroy-Guichard</td>\n",
              "      <td>41 965</td>\n",
              "      <td>66</td>\n",
              "    </tr>\n",
              "    <tr>\n",
              "      <th>Olympique de Marseille</th>\n",
              "      <td>1996</td>\n",
              "      <td>110</td>\n",
              "      <td>5e</td>\n",
              "      <td>André Villas-Boas</td>\n",
              "      <td>2019</td>\n",
              "      <td>Orange Vélodrome</td>\n",
              "      <td>66 226</td>\n",
              "      <td>69</td>\n",
              "    </tr>\n",
              "  </tbody>\n",
              "</table>\n",
              "</div>"
            ]
          }
        }
      ],
      "source": [
        "data_participants = pandas.DataFrame.from_dict(dico_participants,orient='index')\n",
        "data_participants.head()"
      ],
      "id": "7ff976b3-efbd-4a6b-9b77-e6948d185dd9"
    },
    {
      "cell_type": "markdown",
      "metadata": {},
      "source": [
        ":five:\n",
        "Récupérer les entêtes du tableau"
      ],
      "id": "080188cb-0d12-4f07-a42d-3473fd5f42ae"
    },
    {
      "cell_type": "code",
      "execution_count": 18,
      "metadata": {},
      "outputs": [
        {
          "output_type": "stream",
          "name": "stdout",
          "text": [
            "[<th scope=\"col\">Club\n",
            "</th>, <th scope=\"col\">Dernière<br/>montée\n",
            "</th>, <th scope=\"col\">Budget<sup class=\"reference\" id=\"cite_ref-3\"><a href=\"#cite_note-3\"><span class=\"cite_crochet\">[</span>3<span class=\"cite_crochet\">]</span></a></sup><br/>en M<a href=\"/wiki/Euro\" title=\"Euro\">€</a>\n",
            "</th>, <th scope=\"col\">Classement<br/><a href=\"/wiki/Championnat_de_France_de_football_2018-2019\" title=\"Championnat de France de football 2018-2019\">2018-2019</a>\n",
            "</th>, <th scope=\"col\">Entraîneur\n",
            "</th>, <th scope=\"col\">Depuis\n",
            "</th>, <th scope=\"col\">Stade\n",
            "</th>, <th scope=\"col\">Capacité<br/>en L1<sup class=\"reference\" id=\"cite_ref-4\"><a href=\"#cite_note-4\"><span class=\"cite_crochet\">[</span>4<span class=\"cite_crochet\">]</span></a></sup>\n",
            "</th>, <th scope=\"col\">Nombre<br/>de saisons<br/>en L1\n",
            "</th>]\n",
            "[]\n",
            "[]\n",
            "[]\n",
            "[]\n",
            "[]\n",
            "[]\n",
            "[]\n",
            "[]\n",
            "[]\n",
            "[]\n",
            "[]\n",
            "[]\n",
            "[]\n",
            "[]\n",
            "[]\n",
            "[]\n",
            "[]\n",
            "[]\n",
            "[]\n",
            "[]"
          ]
        }
      ],
      "source": [
        "for row in rows:\n",
        "    cols = row.find_all('th')\n",
        "    print(cols)\n",
        "    if len(cols) > 0 : \n",
        "        cols = [ele.get_text(separator=' ').strip().title() for ele in cols]\n",
        "        columns_participants = cols"
      ],
      "id": "deda707d-fe00-4148-8215-b3898c816662"
    },
    {
      "cell_type": "code",
      "execution_count": 19,
      "metadata": {},
      "outputs": [
        {
          "output_type": "display_data",
          "metadata": {},
          "data": {
            "text/plain": [
              "['Club',\n",
              " 'Dernière Montée',\n",
              " 'Budget [ 3 ] En M €',\n",
              " 'Classement 2018-2019',\n",
              " 'Entraîneur',\n",
              " 'Depuis',\n",
              " 'Stade',\n",
              " 'Capacité En L1 [ 4 ]',\n",
              " 'Nombre De Saisons En L1']"
            ]
          }
        }
      ],
      "source": [
        "columns_participants"
      ],
      "id": "7e8653f7-7395-4687-81f7-90e21da6fa12"
    },
    {
      "cell_type": "markdown",
      "metadata": {},
      "source": [
        ":six: Finalisation du tableau"
      ],
      "id": "bc6019a7-1028-4d32-9567-0bfd8fae1780"
    },
    {
      "cell_type": "code",
      "execution_count": 21,
      "metadata": {},
      "outputs": [],
      "source": [
        "data_participants.columns = columns_participants[1:]"
      ],
      "id": "6225cf6c-66f0-4fb5-b4ec-5b8db7d262ab"
    },
    {
      "cell_type": "code",
      "execution_count": 22,
      "metadata": {},
      "outputs": [
        {
          "output_type": "display_data",
          "metadata": {},
          "data": {
            "text/html": [
              "<div>\n",
              "<style scoped>\n",
              "    .dataframe tbody tr th:only-of-type {\n",
              "        vertical-align: middle;\n",
              "    }\n",
              "\n",
              "    .dataframe tbody tr th {\n",
              "        vertical-align: top;\n",
              "    }\n",
              "\n",
              "    .dataframe thead th {\n",
              "        text-align: right;\n",
              "    }\n",
              "</style>\n",
              "<table border=\"1\" class=\"dataframe\">\n",
              "  <thead>\n",
              "    <tr style=\"text-align: right;\">\n",
              "      <th></th>\n",
              "      <th>Dernière Montée</th>\n",
              "      <th>Budget [ 3 ] En M €</th>\n",
              "      <th>Classement 2018-2019</th>\n",
              "      <th>Entraîneur</th>\n",
              "      <th>Depuis</th>\n",
              "      <th>Stade</th>\n",
              "      <th>Capacité En L1 [ 4 ]</th>\n",
              "      <th>Nombre De Saisons En L1</th>\n",
              "    </tr>\n",
              "  </thead>\n",
              "  <tbody>\n",
              "    <tr>\n",
              "      <th>Paris Saint-Germain</th>\n",
              "      <td>1974</td>\n",
              "      <td>637</td>\n",
              "      <td>1er</td>\n",
              "      <td>Thomas Tuchel</td>\n",
              "      <td>2018</td>\n",
              "      <td>Parc des Princes</td>\n",
              "      <td>47 929</td>\n",
              "      <td>46</td>\n",
              "    </tr>\n",
              "    <tr>\n",
              "      <th>LOSC Lille</th>\n",
              "      <td>2000</td>\n",
              "      <td>120</td>\n",
              "      <td>2e</td>\n",
              "      <td>Christophe Galtier</td>\n",
              "      <td>2017</td>\n",
              "      <td>Stade Pierre-Mauroy</td>\n",
              "      <td>49 712</td>\n",
              "      <td>59</td>\n",
              "    </tr>\n",
              "    <tr>\n",
              "      <th>Olympique lyonnais</th>\n",
              "      <td>1989</td>\n",
              "      <td>310</td>\n",
              "      <td>3e</td>\n",
              "      <td>Rudi Garcia</td>\n",
              "      <td>2019</td>\n",
              "      <td>Groupama Stadium</td>\n",
              "      <td>57 206</td>\n",
              "      <td>60</td>\n",
              "    </tr>\n",
              "    <tr>\n",
              "      <th>AS Saint-Étienne</th>\n",
              "      <td>2004</td>\n",
              "      <td>100</td>\n",
              "      <td>4e</td>\n",
              "      <td>Claude Puel</td>\n",
              "      <td>2019</td>\n",
              "      <td>Stade Geoffroy-Guichard</td>\n",
              "      <td>41 965</td>\n",
              "      <td>66</td>\n",
              "    </tr>\n",
              "    <tr>\n",
              "      <th>Olympique de Marseille</th>\n",
              "      <td>1996</td>\n",
              "      <td>110</td>\n",
              "      <td>5e</td>\n",
              "      <td>André Villas-Boas</td>\n",
              "      <td>2019</td>\n",
              "      <td>Orange Vélodrome</td>\n",
              "      <td>66 226</td>\n",
              "      <td>69</td>\n",
              "    </tr>\n",
              "  </tbody>\n",
              "</table>\n",
              "</div>"
            ]
          }
        }
      ],
      "source": [
        "data_participants.head()"
      ],
      "id": "5275bbdb-acb9-4464-98eb-f9651d911451"
    },
    {
      "cell_type": "markdown",
      "metadata": {},
      "source": [
        "## Pour aller plus loin\n",
        "\n",
        "### Récupération des localisations des stades\n",
        "\n",
        "Essayez de comprendre pas à pas ce qui est fait dans les étapes qui suivent (la récupération d’informations supplémentaires en naviguant dans les pages des différents clubs)."
      ],
      "id": "b496b498-962e-4ecc-a311-e7f01d52d9a3"
    },
    {
      "cell_type": "code",
      "execution_count": 23,
      "metadata": {},
      "outputs": [
        {
          "output_type": "stream",
          "name": "stdout",
          "text": [
            "http://fr.wikipedia.org/wiki/Championnat_de_France_de_football_2019-2020"
          ]
        },
        {
          "output_type": "stream",
          "name": "stdout",
          "text": [
            "http://fr.wikipedia.org/wiki/Paris_Saint-Germain_Football_Club"
          ]
        },
        {
          "output_type": "stream",
          "name": "stdout",
          "text": [
            "http://fr.wikipedia.org/wiki/Parc_des_Princes"
          ]
        },
        {
          "output_type": "stream",
          "name": "stdout",
          "text": [
            "48° 50′ 29″ N, 2° 15′ 11″ E\n",
            "http://fr.wikipedia.org/wiki/LOSC_Lille"
          ]
        },
        {
          "output_type": "stream",
          "name": "stdout",
          "text": [
            "http://fr.wikipedia.org/wiki/Stade_Pierre-Mauroy"
          ]
        },
        {
          "output_type": "stream",
          "name": "stdout",
          "text": [
            "50° 36′ 43″ N, 3° 07′ 50″ E\n",
            "http://fr.wikipedia.org/wiki/Olympique_lyonnais"
          ]
        },
        {
          "output_type": "stream",
          "name": "stdout",
          "text": [
            "http://fr.wikipedia.org/wiki/Parc_Olympique_lyonnais"
          ]
        },
        {
          "output_type": "stream",
          "name": "stdout",
          "text": [
            "45° 45′ 55″ N, 4° 58′ 55″ E\n",
            "http://fr.wikipedia.org/wiki/Association_sportive_de_Saint-%C3%89tienne"
          ]
        },
        {
          "output_type": "stream",
          "name": "stdout",
          "text": [
            "http://fr.wikipedia.org/wiki/Stade_Geoffroy-Guichard"
          ]
        },
        {
          "output_type": "stream",
          "name": "stdout",
          "text": [
            "45° 27′ 39″ N, 4° 23′ 25″ E\n",
            "http://fr.wikipedia.org/wiki/Olympique_de_Marseille"
          ]
        },
        {
          "output_type": "stream",
          "name": "stdout",
          "text": [
            "http://fr.wikipedia.org/wiki/Orange_V%C3%A9lodrome"
          ]
        },
        {
          "output_type": "stream",
          "name": "stdout",
          "text": [
            "43° 16′ 11″ N, 5° 23′ 45″ E\n",
            "http://fr.wikipedia.org/wiki/Montpellier_H%C3%A9rault_Sport_Club"
          ]
        },
        {
          "output_type": "stream",
          "name": "stdout",
          "text": [
            "http://fr.wikipedia.org/wiki/Stade_de_la_Mosson"
          ]
        },
        {
          "output_type": "stream",
          "name": "stdout",
          "text": [
            "43° 37′ 19″ N, 3° 48′ 44″ E\n",
            "http://fr.wikipedia.org/wiki/Stade_de_Reims"
          ]
        },
        {
          "output_type": "stream",
          "name": "stdout",
          "text": [
            "http://fr.wikipedia.org/wiki/Stade_Auguste-Delaune\n",
            "49° 14′ 48″ N, 4° 01′ 30″ E"
          ]
        },
        {
          "output_type": "stream",
          "name": "stdout",
          "text": [
            "http://fr.wikipedia.org/wiki/Olympique_Gymnaste_Club_Nice"
          ]
        },
        {
          "output_type": "stream",
          "name": "stdout",
          "text": [
            "http://fr.wikipedia.org/wiki/Allianz_Riviera"
          ]
        },
        {
          "output_type": "stream",
          "name": "stdout",
          "text": [
            "43° 42′ 18″ N, 7° 11′ 33″ E\n",
            "http://fr.wikipedia.org/wiki/N%C3%AEmes_Olympique"
          ]
        },
        {
          "output_type": "stream",
          "name": "stdout",
          "text": [
            "http://fr.wikipedia.org/wiki/Stade_des_Costi%C3%A8res"
          ]
        },
        {
          "output_type": "stream",
          "name": "stdout",
          "text": [
            "43° 48′ 58″ N, 4° 21′ 33″ E\n",
            "http://fr.wikipedia.org/wiki/Racing_Club_de_Strasbourg_Alsace"
          ]
        },
        {
          "output_type": "stream",
          "name": "stdout",
          "text": [
            "http://fr.wikipedia.org/wiki/Stade_de_la_Meinau"
          ]
        },
        {
          "output_type": "stream",
          "name": "stdout",
          "text": [
            "48° 33′ 36″ N, 7° 45′ 18″ E\n",
            "http://fr.wikipedia.org/wiki/Stade_rennais_Football_Club"
          ]
        },
        {
          "output_type": "stream",
          "name": "stdout",
          "text": [
            "http://fr.wikipedia.org/wiki/Roazhon_Park"
          ]
        },
        {
          "output_type": "stream",
          "name": "stdout",
          "text": [
            "48° 06′ 27″ N, 1° 42′ 46″ O\n",
            "http://fr.wikipedia.org/wiki/Angers_sporting_club_de_l%27Ouest"
          ]
        },
        {
          "output_type": "stream",
          "name": "stdout",
          "text": [
            "http://fr.wikipedia.org/wiki/Stade_Raymond-Kopa\n",
            "47° 27′ 38″ N, 0° 31′ 51″ O\n",
            "http://fr.wikipedia.org/wiki/Football_Club_de_Metz"
          ]
        },
        {
          "output_type": "stream",
          "name": "stdout",
          "text": [
            "http://fr.wikipedia.org/wiki/Stade_Saint-Symphorien\n",
            "49° 06′ 35″ N, 6° 09′ 33″ E\n",
            "http://fr.wikipedia.org/wiki/Football_Club_de_Nantes"
          ]
        },
        {
          "output_type": "stream",
          "name": "stdout",
          "text": [
            "http://fr.wikipedia.org/wiki/Stade_de_la_Beaujoire"
          ]
        },
        {
          "output_type": "stream",
          "name": "stdout",
          "text": [
            "47° 15′ 20″ N, 1° 31′ 31″ O\n",
            "http://fr.wikipedia.org/wiki/Stade_brestois_29"
          ]
        },
        {
          "output_type": "stream",
          "name": "stdout",
          "text": [
            "http://fr.wikipedia.org/wiki/Stade_Francis-Le_Bl%C3%A9"
          ]
        },
        {
          "output_type": "stream",
          "name": "stdout",
          "text": [
            "48° 24′ 11″ N, 4° 27′ 42″ O\n",
            "http://fr.wikipedia.org/wiki/Football_Club_des_Girondins_de_Bordeaux"
          ]
        },
        {
          "output_type": "stream",
          "name": "stdout",
          "text": [
            "http://fr.wikipedia.org/wiki/Matmut_Atlantique"
          ]
        },
        {
          "output_type": "stream",
          "name": "stdout",
          "text": [
            "44° 53′ 50″ N, 0° 33′ 41″ O\n",
            "http://fr.wikipedia.org/wiki/Toulouse_Football_Club"
          ]
        },
        {
          "output_type": "stream",
          "name": "stdout",
          "text": [
            "http://fr.wikipedia.org/wiki/Stadium_de_Toulouse"
          ]
        },
        {
          "output_type": "stream",
          "name": "stdout",
          "text": [
            "43° 35′ 00″ N, 1° 26′ 03″ E\n",
            "http://fr.wikipedia.org/wiki/Amiens_Sporting_Club"
          ]
        },
        {
          "output_type": "stream",
          "name": "stdout",
          "text": [
            "http://fr.wikipedia.org/wiki/Stade_de_la_Licorne\n",
            "49° 53′ 38″ N, 2° 15′ 49″ E\n",
            "http://fr.wikipedia.org/wiki/Association_sportive_de_Monaco_football_club"
          ]
        },
        {
          "output_type": "stream",
          "name": "stdout",
          "text": [
            "http://fr.wikipedia.org/wiki/Stade_Louis-II\n",
            "43° 43′ 39″ N, 7° 24′ 56″ E"
          ]
        },
        {
          "output_type": "stream",
          "name": "stdout",
          "text": [
            "http://fr.wikipedia.org/wiki/Dijon_Football_C%C3%B4te-d%27Or"
          ]
        },
        {
          "output_type": "stream",
          "name": "stdout",
          "text": [
            "http://fr.wikipedia.org/wiki/Stade_Gaston-G%C3%A9rard\n",
            "47° 19′ 28″ N, 5° 04′ 06″ E\n",
            "http://fr.wikipedia.org/wiki/Championnat_de_France_de_football_de_Ligue_2_2019-2020"
          ]
        },
        {
          "output_type": "stream",
          "name": "stdout",
          "text": [
            "http://fr.wikipedia.org/wiki/Athletic_Club_ajaccien"
          ]
        },
        {
          "output_type": "stream",
          "name": "stdout",
          "text": [
            "http://fr.wikipedia.org/wiki/Stade_Fran%C3%A7ois-Coty\n",
            "41° 55′ 51″ N, 8° 46′ 35″ E\n",
            "http://fr.wikipedia.org/wiki/Association_sportive_Nancy-Lorraine"
          ]
        },
        {
          "output_type": "stream",
          "name": "stdout",
          "text": [
            "http://fr.wikipedia.org/wiki/Stade_Marcel-Picot\n",
            "48° 41′ 43″ N, 6° 12′ 38″ E\n",
            "http://fr.wikipedia.org/wiki/Le_Havre_Athletic_Club_(football)"
          ]
        },
        {
          "output_type": "stream",
          "name": "stdout",
          "text": [
            "http://fr.wikipedia.org/wiki/Stade_Oc%C3%A9ane"
          ]
        },
        {
          "output_type": "stream",
          "name": "stdout",
          "text": [
            "49° 29′ 56″ N, 0° 10′ 11″ E\n",
            "http://fr.wikipedia.org/wiki/Stade_Malherbe_Caen_Calvados_Basse-Normandie"
          ]
        },
        {
          "output_type": "stream",
          "name": "stdout",
          "text": [
            "http://fr.wikipedia.org/wiki/Stade_Michel-d%27Ornano"
          ]
        },
        {
          "output_type": "stream",
          "name": "stdout",
          "text": [
            "49° 10′ 46″ N, 0° 23′ 48″ O\n",
            "http://fr.wikipedia.org/wiki/Clermont_Foot_63"
          ]
        },
        {
          "output_type": "stream",
          "name": "stdout",
          "text": [
            "http://fr.wikipedia.org/wiki/Stade_Gabriel-Montpied\n",
            "45° 48′ 57″ N, 3° 07′ 18″ E\n",
            "http://fr.wikipedia.org/wiki/En_Avant_de_Guingamp"
          ]
        },
        {
          "output_type": "stream",
          "name": "stdout",
          "text": [
            "http://fr.wikipedia.org/wiki/Stade_de_Roudourou\n",
            "48° 33′ 58″ N, 3° 09′ 52″ O"
          ]
        },
        {
          "output_type": "stream",
          "name": "stdout",
          "text": [
            "http://fr.wikipedia.org/wiki/Football_Club_Lorient"
          ]
        },
        {
          "output_type": "stream",
          "name": "stdout",
          "text": [
            "http://fr.wikipedia.org/wiki/Stade_du_Moustoir"
          ]
        },
        {
          "output_type": "stream",
          "name": "stdout",
          "text": [
            "47° 44′ 56″ N, 3° 22′ 09″ O\n",
            "http://fr.wikipedia.org/wiki/Paris_Football_Club"
          ]
        },
        {
          "output_type": "stream",
          "name": "stdout",
          "text": [
            "http://fr.wikipedia.org/wiki/Stade_Charl%C3%A9ty"
          ]
        },
        {
          "output_type": "stream",
          "name": "stdout",
          "text": [
            "48° 49′ 07″ N, 2° 20′ 47″ E\n",
            "http://fr.wikipedia.org/wiki/La_Berrichonne_de_Ch%C3%A2teauroux"
          ]
        },
        {
          "output_type": "stream",
          "name": "stdout",
          "text": [
            "http://fr.wikipedia.org/wiki/Stade_Gaston-Petit\n",
            "46° 48′ 07″ N, 1° 43′ 18″ E\n",
            "http://fr.wikipedia.org/wiki/Association_de_la_jeunesse_auxerroise"
          ]
        },
        {
          "output_type": "stream",
          "name": "stdout",
          "text": [
            "http://fr.wikipedia.org/wiki/Stade_de_l%27Abb%C3%A9-Deschamps\n",
            "47° 47′ 12″ N, 3° 35′ 19″ E\n",
            "http://fr.wikipedia.org/wiki/Union_sportive_Orl%C3%A9ans_Loiret_football"
          ]
        },
        {
          "output_type": "stream",
          "name": "stdout",
          "text": [
            "http://fr.wikipedia.org/wiki/Stade_de_la_Source\n",
            "47° 50′ 25″ N, 1° 56′ 28″ E\n",
            "http://fr.wikipedia.org/wiki/Valenciennes_Football_Club"
          ]
        },
        {
          "output_type": "stream",
          "name": "stdout",
          "text": [
            "http://fr.wikipedia.org/wiki/Stade_du_Hainaut\n",
            "50° 20′ 55″ N, 3° 31′ 56″ E"
          ]
        },
        {
          "output_type": "stream",
          "name": "stdout",
          "text": [
            "http://fr.wikipedia.org/wiki/Chamois_niortais_Football_Club"
          ]
        },
        {
          "output_type": "stream",
          "name": "stdout",
          "text": [
            "http://fr.wikipedia.org/wiki/Stade_Ren%C3%A9-Gaillard\n",
            "46° 19′ 01″ N, 0° 29′ 21″ O\n",
            "http://fr.wikipedia.org/wiki/Grenoble_Foot_38"
          ]
        },
        {
          "output_type": "stream",
          "name": "stdout",
          "text": [
            "http://fr.wikipedia.org/wiki/Stade_des_Alpes"
          ]
        },
        {
          "output_type": "stream",
          "name": "stdout",
          "text": [
            "45° 11′ 15″ N, 5° 44′ 24″ E\n",
            "http://fr.wikipedia.org/wiki/Football_Club_Sochaux-Montb%C3%A9liard"
          ]
        },
        {
          "output_type": "stream",
          "name": "stdout",
          "text": [
            "http://fr.wikipedia.org/wiki/Stade_Auguste-Bonal\n",
            "47° 30′ 44″ N, 6° 48′ 41″ E\n",
            "http://fr.wikipedia.org/wiki/Rodez_Aveyron_Football"
          ]
        },
        {
          "output_type": "stream",
          "name": "stdout",
          "text": [
            "http://fr.wikipedia.org/wiki/Stade_Paul-Lignon\n",
            "44° 21′ 06″ N, 2° 33′ 49″ E\n",
            "http://fr.wikipedia.org/wiki/Football_Club_de_Chambly_Oise"
          ]
        },
        {
          "output_type": "stream",
          "name": "stdout",
          "text": [
            "http://fr.wikipedia.org/wiki/Stade_Walter_Luzi\n",
            "49° 10′ 45″ N, 2° 14′ 01″ E\n",
            "http://fr.wikipedia.org/wiki/Esp%C3%A9rance_sportive_Troyes_Aube_Champagne"
          ]
        },
        {
          "output_type": "stream",
          "name": "stdout",
          "text": [
            "http://fr.wikipedia.org/wiki/Stade_de_l%27Aube\n",
            "48° 18′ 27″ N, 4° 05′ 55″ E\n",
            "http://fr.wikipedia.org/wiki/Racing_Club_de_Lens"
          ]
        },
        {
          "output_type": "stream",
          "name": "stdout",
          "text": [
            "http://fr.wikipedia.org/wiki/Stade_Bollaert-Delelis"
          ]
        },
        {
          "output_type": "stream",
          "name": "stdout",
          "text": [
            "50° 25′ 58″ N, 2° 48′ 54″ E\n",
            "http://fr.wikipedia.org/wiki/Le_Mans_Football_Club"
          ]
        },
        {
          "output_type": "stream",
          "name": "stdout",
          "text": [
            "http://fr.wikipedia.org/wiki/Le_Mans_Arena\n",
            "47° 57′ 32″ N, 0° 13′ 29″ E"
          ]
        }
      ],
      "source": [
        "import urllib\n",
        "import pandas as pd\n",
        "import bs4 \n",
        "\n",
        "division=[]\n",
        "equipe=[]\n",
        "stade=[]\n",
        "latitude_stade=[]        \n",
        "longitude_stade=[]     \n",
        "\n",
        "def dms2dd(degrees, minutes, seconds, direction):\n",
        "    dd = float(degrees) + float(minutes)/60 + float(seconds)/(60*60);\n",
        "    if direction == 'S' or direction == 'O':\n",
        "        dd *= -1\n",
        "    return dd;\n",
        "\n",
        "url_list=[\"http://fr.wikipedia.org/wiki/Championnat_de_France_de_football_2019-2020\", \"http://fr.wikipedia.org/wiki/Championnat_de_France_de_football_de_Ligue_2_2019-2020\"]\n",
        "\n",
        "for url_ligue in url_list :\n",
        "       \n",
        "    print(url_ligue)\n",
        "    sock = urllib.request.urlopen(url_ligue).read() \n",
        "    page=bs4.BeautifulSoup(sock)\n",
        "\n",
        "# Rechercher les liens des équipes dans la liste disponible sur wikipedia \n",
        "\n",
        "    for team in page.findAll('span' , {'class' : 'toponyme'}) :  \n",
        "        \n",
        "        # Indiquer si c'est de la ligue 1 ou de la ligue 2\n",
        "        \n",
        "        if url_ligue==url_list[0] :\n",
        "            division.append(\"L1\")\n",
        "        else :\n",
        "            division.append(\"L2\")\n",
        "\n",
        "       # Trouver le nom et le lien de l'équipe\n",
        "            \n",
        "        if team.find('a')!=None :\n",
        "            team_url=team.find('a').get('href')\n",
        "            name_team=team.find('a').get('title')\n",
        "            equipe.append(name_team)\n",
        "            url_get_info = \"http://fr.wikipedia.org\"+team_url\n",
        "            print(url_get_info)\n",
        " \n",
        "       # aller sur la page de l'équipe\n",
        "           \n",
        "            search = urllib.request.urlopen(url_get_info).read()\n",
        "            search_team=bs4.BeautifulSoup(search)\n",
        "\n",
        "       # trouver le stade             \n",
        "            compteur = 0\n",
        "            for stadium in search_team.findAll('tr'):\n",
        "                for x in stadium.findAll('th' , {'scope' : 'row'} ) :\n",
        "                    if x.contents[0].string==\"Stade\" and compteur == 0:\n",
        "                        compteur = 1\n",
        "                        # trouver le lien du stade et son nom\n",
        "                        url_stade=stadium.findAll('a')[1].get('href')\n",
        "                        name_stadium=stadium.findAll('a')[1].get('title')\n",
        "                        stade.append(name_stadium)\n",
        "                        url_get_stade = \"http://fr.wikipedia.org\"+url_stade\n",
        "                        print(url_get_stade)\n",
        "                        \n",
        "                        # Aller sur la page du stade et trouver ses coodronnées géographiques\n",
        "                        \n",
        "                        search_stade = urllib.request.urlopen(url_get_stade).read()\n",
        "                        soup_stade=bs4.BeautifulSoup(search_stade) \n",
        "                        kartographer = soup_stade.find('a',{'class': \"mw-kartographer-maplink\"})\n",
        "                        if kartographer == None :\n",
        "                          latitude_stade.append(None)\n",
        "                          longitude_stade.append(None) \n",
        "                        else :\n",
        "                            for coordinates in kartographer :\n",
        "                                print(coordinates)\n",
        "                                liste =   coordinates.split(\",\")          \n",
        "                                latitude_stade.append(str(liste[0]).replace(\" \", \"\") + \"'\")\n",
        "                                longitude_stade.append(str(liste[1]).replace(\" \", \"\") + \"'\")\n",
        "                            \n",
        "\n",
        "dict = {'division' : division , 'equipe': equipe, 'stade': stade, 'latitude': latitude_stade, 'longitude' : longitude_stade}\n",
        "data = pd.DataFrame(dict)\n",
        "data = data.dropna()"
      ],
      "id": "5595bc1c-bafd-46df-b004-310d9680f5a2"
    },
    {
      "cell_type": "code",
      "execution_count": 24,
      "metadata": {},
      "outputs": [
        {
          "output_type": "display_data",
          "metadata": {},
          "data": {
            "text/html": [
              "<div>\n",
              "<style scoped>\n",
              "    .dataframe tbody tr th:only-of-type {\n",
              "        vertical-align: middle;\n",
              "    }\n",
              "\n",
              "    .dataframe tbody tr th {\n",
              "        vertical-align: top;\n",
              "    }\n",
              "\n",
              "    .dataframe thead th {\n",
              "        text-align: right;\n",
              "    }\n",
              "</style>\n",
              "<table border=\"1\" class=\"dataframe\">\n",
              "  <thead>\n",
              "    <tr style=\"text-align: right;\">\n",
              "      <th></th>\n",
              "      <th>division</th>\n",
              "      <th>equipe</th>\n",
              "      <th>stade</th>\n",
              "      <th>latitude</th>\n",
              "      <th>longitude</th>\n",
              "    </tr>\n",
              "  </thead>\n",
              "  <tbody>\n",
              "    <tr>\n",
              "      <th>0</th>\n",
              "      <td>L1</td>\n",
              "      <td>Paris Saint-Germain Football Club</td>\n",
              "      <td>Parc des Princes</td>\n",
              "      <td>48° 50′ 29″ N'</td>\n",
              "      <td>2° 15′ 11″ E'</td>\n",
              "    </tr>\n",
              "    <tr>\n",
              "      <th>1</th>\n",
              "      <td>L1</td>\n",
              "      <td>LOSC Lille</td>\n",
              "      <td>Stade Pierre-Mauroy</td>\n",
              "      <td>50° 36′ 43″ N'</td>\n",
              "      <td>3° 07′ 50″ E'</td>\n",
              "    </tr>\n",
              "    <tr>\n",
              "      <th>2</th>\n",
              "      <td>L1</td>\n",
              "      <td>Olympique lyonnais</td>\n",
              "      <td>Parc Olympique lyonnais</td>\n",
              "      <td>45° 45′ 55″ N'</td>\n",
              "      <td>4° 58′ 55″ E'</td>\n",
              "    </tr>\n",
              "    <tr>\n",
              "      <th>3</th>\n",
              "      <td>L1</td>\n",
              "      <td>Association sportive de Saint-Étienne</td>\n",
              "      <td>Stade Geoffroy-Guichard</td>\n",
              "      <td>45° 27′ 39″ N'</td>\n",
              "      <td>4° 23′ 25″ E'</td>\n",
              "    </tr>\n",
              "    <tr>\n",
              "      <th>4</th>\n",
              "      <td>L1</td>\n",
              "      <td>Olympique de Marseille</td>\n",
              "      <td>Orange Vélodrome</td>\n",
              "      <td>43° 16′ 11″ N'</td>\n",
              "      <td>5° 23′ 45″ E'</td>\n",
              "    </tr>\n",
              "  </tbody>\n",
              "</table>\n",
              "</div>"
            ]
          }
        }
      ],
      "source": [
        "data.head(5)"
      ],
      "id": "3f3b198a-c189-4c8f-9760-85db290451b6"
    },
    {
      "cell_type": "markdown",
      "metadata": {},
      "source": [
        "On va transformer les coordonnées en degrés en coordonnées numériques\n",
        "afin d’être en mesure de faire une carte"
      ],
      "id": "4791daf9-46d3-4fc9-8bea-f21742d820fe"
    },
    {
      "cell_type": "code",
      "execution_count": 25,
      "metadata": {},
      "outputs": [],
      "source": [
        "import re\n",
        "\n",
        "def dms2dd(degrees, minutes, seconds, direction):\n",
        "    dd = float(degrees) + float(minutes)/60 + float(seconds)/(60*60);\n",
        "    if direction in ('S', 'O'):\n",
        "        dd *= -1\n",
        "    return dd\n",
        "\n",
        "def parse_dms(dms):\n",
        "    parts = re.split('[^\\d\\w]+', dms)\n",
        "    lat = dms2dd(parts[0], parts[1], parts[2], parts[3])\n",
        "    #lng = dms2dd(parts[4], parts[5], parts[6], parts[7])\n",
        "    return lat"
      ],
      "id": "f6162674-78f9-46a7-ae19-246067683d2b"
    },
    {
      "cell_type": "code",
      "execution_count": 26,
      "metadata": {},
      "outputs": [],
      "source": [
        "data['latitude'] = data['latitude'].apply(parse_dms)\n",
        "data['longitude'] = data['longitude'].apply(parse_dms)"
      ],
      "id": "24cdc4db-3fa6-417b-8ce6-a02e5986a996"
    },
    {
      "cell_type": "markdown",
      "metadata": {},
      "source": [
        "Tous les éléments sont en place pour faire une belle carte à ce stade. On\n",
        "va utilisee `folium` pour celle-ci, qui est présenté dans la partie\n",
        "[visualisation](#cartotp).\n",
        "\n",
        "### Carte des stades avec `folium`"
      ],
      "id": "c29ec371-8c98-45c6-aba6-350d1cac8a7f"
    },
    {
      "cell_type": "code",
      "execution_count": 27,
      "metadata": {},
      "outputs": [],
      "source": [
        "#!pip install geopandas\n",
        "import geopandas as gpd\n",
        "from pathlib import Path\n",
        "import folium\n",
        "\n",
        "gdf = gpd.GeoDataFrame(\n",
        "    data, geometry=gpd.points_from_xy(data.longitude, data.latitude))\n",
        "\n",
        "Path(\"leaflet\").mkdir(parents=True, exist_ok=True)\n",
        "\n",
        "center = gdf[['latitude', 'longitude']].mean().values.tolist()\n",
        "sw = gdf[['latitude', 'longitude']].min().values.tolist()\n",
        "ne = gdf[['latitude', 'longitude']].max().values.tolist()\n",
        "\n",
        "m = folium.Map(location = center, tiles='Stamen Toner')\n",
        "\n",
        "# I can add marker one by one on the map\n",
        "for i in range(0,len(gdf)):\n",
        "    folium.Marker([gdf.iloc[i]['latitude'], gdf.iloc[i]['longitude']], popup=gdf.iloc[i]['stade']).add_to(m) \n",
        "\n",
        "m.fit_bounds([sw, ne])"
      ],
      "id": "648f0903-2b79-4b13-aee4-7b5f62ef8256"
    },
    {
      "cell_type": "markdown",
      "metadata": {},
      "source": [
        "La carte obtenue doit ressembler à la suivante:\n",
        "\n",
        "{{< rawhtml >}}"
      ],
      "id": "ddc012cc-0cde-4387-b38f-f09492a499b8"
    },
    {
      "cell_type": "code",
      "execution_count": 28,
      "metadata": {},
      "outputs": [
        {
          "output_type": "display_data",
          "metadata": {},
          "data": {
            "text/html": [
              "<div style=\"width:100%;\"><div style=\"position:relative;width:100%;height:0;padding-bottom:60%;\"><span style=\"color:#565656\">Make this Notebook Trusted to load map: File -> Trust Notebook</span><iframe srcdoc=\"&lt;!DOCTYPE html&gt;\n",
              "&lt;head&gt;    \n",
              "    &lt;meta http-equiv=&quot;content-type&quot; content=&quot;text/html; charset=UTF-8&quot; /&gt;\n",
              "    \n",
              "        &lt;script&gt;\n",
              "            L_NO_TOUCH = false;\n",
              "            L_DISABLE_3D = false;\n",
              "        &lt;/script&gt;\n",
              "    \n",
              "    &lt;style&gt;html, body {width: 100%;height: 100%;margin: 0;padding: 0;}&lt;/style&gt;\n",
              "    &lt;style&gt;#map {position:absolute;top:0;bottom:0;right:0;left:0;}&lt;/style&gt;\n",
              "    &lt;script src=&quot;https://cdn.jsdelivr.net/npm/leaflet@1.6.0/dist/leaflet.js&quot;&gt;&lt;/script&gt;\n",
              "    &lt;script src=&quot;https://code.jquery.com/jquery-1.12.4.min.js&quot;&gt;&lt;/script&gt;\n",
              "    &lt;script src=&quot;https://maxcdn.bootstrapcdn.com/bootstrap/3.2.0/js/bootstrap.min.js&quot;&gt;&lt;/script&gt;\n",
              "    &lt;script src=&quot;https://cdnjs.cloudflare.com/ajax/libs/Leaflet.awesome-markers/2.0.2/leaflet.awesome-markers.js&quot;&gt;&lt;/script&gt;\n",
              "    &lt;link rel=&quot;stylesheet&quot; href=&quot;https://cdn.jsdelivr.net/npm/leaflet@1.6.0/dist/leaflet.css&quot;/&gt;\n",
              "    &lt;link rel=&quot;stylesheet&quot; href=&quot;https://maxcdn.bootstrapcdn.com/bootstrap/3.2.0/css/bootstrap.min.css&quot;/&gt;\n",
              "    &lt;link rel=&quot;stylesheet&quot; href=&quot;https://maxcdn.bootstrapcdn.com/bootstrap/3.2.0/css/bootstrap-theme.min.css&quot;/&gt;\n",
              "    &lt;link rel=&quot;stylesheet&quot; href=&quot;https://maxcdn.bootstrapcdn.com/font-awesome/4.6.3/css/font-awesome.min.css&quot;/&gt;\n",
              "    &lt;link rel=&quot;stylesheet&quot; href=&quot;https://cdnjs.cloudflare.com/ajax/libs/Leaflet.awesome-markers/2.0.2/leaflet.awesome-markers.css&quot;/&gt;\n",
              "    &lt;link rel=&quot;stylesheet&quot; href=&quot;https://cdn.jsdelivr.net/gh/python-visualization/folium/folium/templates/leaflet.awesome.rotate.min.css&quot;/&gt;\n",
              "    \n",
              "            &lt;meta name=&quot;viewport&quot; content=&quot;width=device-width,\n",
              "                initial-scale=1.0, maximum-scale=1.0, user-scalable=no&quot; /&gt;\n",
              "            &lt;style&gt;\n",
              "                #map_b7a0a2328c1aeded0bf9e4f641d453d5 {\n",
              "                    position: relative;\n",
              "                    width: 100.0%;\n",
              "                    height: 100.0%;\n",
              "                    left: 0.0%;\n",
              "                    top: 0.0%;\n",
              "                }\n",
              "            &lt;/style&gt;\n",
              "        \n",
              "&lt;/head&gt;\n",
              "&lt;body&gt;    \n",
              "    \n",
              "            &lt;div class=&quot;folium-map&quot; id=&quot;map_b7a0a2328c1aeded0bf9e4f641d453d5&quot; &gt;&lt;/div&gt;\n",
              "        \n",
              "&lt;/body&gt;\n",
              "&lt;script&gt;    \n",
              "    \n",
              "            var map_b7a0a2328c1aeded0bf9e4f641d453d5 = L.map(\n",
              "                &quot;map_b7a0a2328c1aeded0bf9e4f641d453d5&quot;,\n",
              "                {\n",
              "                    center: [47.12349305555556, 2.733006944444445],\n",
              "                    crs: L.CRS.EPSG3857,\n",
              "                    zoom: 10,\n",
              "                    zoomControl: true,\n",
              "                    preferCanvas: false,\n",
              "                }\n",
              "            );\n",
              "\n",
              "            \n",
              "\n",
              "        \n",
              "    \n",
              "            var tile_layer_019191246370b672a5201de3ddef3b59 = L.tileLayer(\n",
              "                &quot;https://stamen-tiles-{s}.a.ssl.fastly.net/toner/{z}/{x}/{y}.png&quot;,\n",
              "                {&quot;attribution&quot;: &quot;Map tiles by \\u003ca href=\\&quot;http://stamen.com\\&quot;\\u003eStamen Design\\u003c/a\\u003e, under \\u003ca href=\\&quot;http://creativecommons.org/licenses/by/3.0\\&quot;\\u003eCC BY 3.0\\u003c/a\\u003e. Data by \\u0026copy; \\u003ca href=\\&quot;http://openstreetmap.org\\&quot;\\u003eOpenStreetMap\\u003c/a\\u003e, under \\u003ca href=\\&quot;http://www.openstreetmap.org/copyright\\&quot;\\u003eODbL\\u003c/a\\u003e.&quot;, &quot;detectRetina&quot;: false, &quot;maxNativeZoom&quot;: 18, &quot;maxZoom&quot;: 18, &quot;minZoom&quot;: 0, &quot;noWrap&quot;: false, &quot;opacity&quot;: 1, &quot;subdomains&quot;: &quot;abc&quot;, &quot;tms&quot;: false}\n",
              "            ).addTo(map_b7a0a2328c1aeded0bf9e4f641d453d5);\n",
              "        \n",
              "    \n",
              "            var marker_6cdd6745bc9dc9bd98a4a9af923d58d6 = L.marker(\n",
              "                [48.84138888888889, 2.2530555555555556],\n",
              "                {}\n",
              "            ).addTo(map_b7a0a2328c1aeded0bf9e4f641d453d5);\n",
              "        \n",
              "    \n",
              "        var popup_04ff03e6eeeec37e67d5f2df70152b2e = L.popup({&quot;maxWidth&quot;: &quot;100%&quot;});\n",
              "\n",
              "        \n",
              "            var html_172a237f10d4512611fb300161bd8769 = $(`&lt;div id=&quot;html_172a237f10d4512611fb300161bd8769&quot; style=&quot;width: 100.0%; height: 100.0%;&quot;&gt;Parc des Princes&lt;/div&gt;`)[0];\n",
              "            popup_04ff03e6eeeec37e67d5f2df70152b2e.setContent(html_172a237f10d4512611fb300161bd8769);\n",
              "        \n",
              "\n",
              "        marker_6cdd6745bc9dc9bd98a4a9af923d58d6.bindPopup(popup_04ff03e6eeeec37e67d5f2df70152b2e)\n",
              "        ;\n",
              "\n",
              "        \n",
              "    \n",
              "    \n",
              "            var marker_60fa2b8053945b7125e020920daccfd6 = L.marker(\n",
              "                [50.61194444444445, 3.1305555555555555],\n",
              "                {}\n",
              "            ).addTo(map_b7a0a2328c1aeded0bf9e4f641d453d5);\n",
              "        \n",
              "    \n",
              "        var popup_fea1b770de047840bd88f347d7f98554 = L.popup({&quot;maxWidth&quot;: &quot;100%&quot;});\n",
              "\n",
              "        \n",
              "            var html_c876fbccb3ebc774f0b047a6eb9cc724 = $(`&lt;div id=&quot;html_c876fbccb3ebc774f0b047a6eb9cc724&quot; style=&quot;width: 100.0%; height: 100.0%;&quot;&gt;Stade Pierre-Mauroy&lt;/div&gt;`)[0];\n",
              "            popup_fea1b770de047840bd88f347d7f98554.setContent(html_c876fbccb3ebc774f0b047a6eb9cc724);\n",
              "        \n",
              "\n",
              "        marker_60fa2b8053945b7125e020920daccfd6.bindPopup(popup_fea1b770de047840bd88f347d7f98554)\n",
              "        ;\n",
              "\n",
              "        \n",
              "    \n",
              "    \n",
              "            var marker_21847c4a9242fb22c4a5ba8b100805d2 = L.marker(\n",
              "                [45.765277777777776, 4.981944444444444],\n",
              "                {}\n",
              "            ).addTo(map_b7a0a2328c1aeded0bf9e4f641d453d5);\n",
              "        \n",
              "    \n",
              "        var popup_db42e6c6010927d6d28f3e8072c95813 = L.popup({&quot;maxWidth&quot;: &quot;100%&quot;});\n",
              "\n",
              "        \n",
              "            var html_663dd074e7216c5025bfe595b6edabeb = $(`&lt;div id=&quot;html_663dd074e7216c5025bfe595b6edabeb&quot; style=&quot;width: 100.0%; height: 100.0%;&quot;&gt;Parc Olympique lyonnais&lt;/div&gt;`)[0];\n",
              "            popup_db42e6c6010927d6d28f3e8072c95813.setContent(html_663dd074e7216c5025bfe595b6edabeb);\n",
              "        \n",
              "\n",
              "        marker_21847c4a9242fb22c4a5ba8b100805d2.bindPopup(popup_db42e6c6010927d6d28f3e8072c95813)\n",
              "        ;\n",
              "\n",
              "        \n",
              "    \n",
              "    \n",
              "            var marker_46d68121e93b050c28dd17a9a4b80ba2 = L.marker(\n",
              "                [45.46083333333333, 4.390277777777778],\n",
              "                {}\n",
              "            ).addTo(map_b7a0a2328c1aeded0bf9e4f641d453d5);\n",
              "        \n",
              "    \n",
              "        var popup_ab4c2f407b746e359be88bd0392d6716 = L.popup({&quot;maxWidth&quot;: &quot;100%&quot;});\n",
              "\n",
              "        \n",
              "            var html_ebeac64563aaa934373b19b8b64810fb = $(`&lt;div id=&quot;html_ebeac64563aaa934373b19b8b64810fb&quot; style=&quot;width: 100.0%; height: 100.0%;&quot;&gt;Stade Geoffroy-Guichard&lt;/div&gt;`)[0];\n",
              "            popup_ab4c2f407b746e359be88bd0392d6716.setContent(html_ebeac64563aaa934373b19b8b64810fb);\n",
              "        \n",
              "\n",
              "        marker_46d68121e93b050c28dd17a9a4b80ba2.bindPopup(popup_ab4c2f407b746e359be88bd0392d6716)\n",
              "        ;\n",
              "\n",
              "        \n",
              "    \n",
              "    \n",
              "            var marker_26c75a5773aec8703c47790654885322 = L.marker(\n",
              "                [43.26972222222222, 5.395833333333334],\n",
              "                {}\n",
              "            ).addTo(map_b7a0a2328c1aeded0bf9e4f641d453d5);\n",
              "        \n",
              "    \n",
              "        var popup_be209df3f2c443fa04f7e995ca310b4b = L.popup({&quot;maxWidth&quot;: &quot;100%&quot;});\n",
              "\n",
              "        \n",
              "            var html_8dde5b5e9daefa3f47ded43bbf58b697 = $(`&lt;div id=&quot;html_8dde5b5e9daefa3f47ded43bbf58b697&quot; style=&quot;width: 100.0%; height: 100.0%;&quot;&gt;Orange Vélodrome&lt;/div&gt;`)[0];\n",
              "            popup_be209df3f2c443fa04f7e995ca310b4b.setContent(html_8dde5b5e9daefa3f47ded43bbf58b697);\n",
              "        \n",
              "\n",
              "        marker_26c75a5773aec8703c47790654885322.bindPopup(popup_be209df3f2c443fa04f7e995ca310b4b)\n",
              "        ;\n",
              "\n",
              "        \n",
              "    \n",
              "    \n",
              "            var marker_780736d91f95674c6c087bb992d2d5e3 = L.marker(\n",
              "                [43.621944444444445, 3.812222222222222],\n",
              "                {}\n",
              "            ).addTo(map_b7a0a2328c1aeded0bf9e4f641d453d5);\n",
              "        \n",
              "    \n",
              "        var popup_3fde2ed440955e9f42f3536c5e3c1281 = L.popup({&quot;maxWidth&quot;: &quot;100%&quot;});\n",
              "\n",
              "        \n",
              "            var html_bb93aeccb3fe27ce7f554371bbfb7ab2 = $(`&lt;div id=&quot;html_bb93aeccb3fe27ce7f554371bbfb7ab2&quot; style=&quot;width: 100.0%; height: 100.0%;&quot;&gt;Stade de la Mosson&lt;/div&gt;`)[0];\n",
              "            popup_3fde2ed440955e9f42f3536c5e3c1281.setContent(html_bb93aeccb3fe27ce7f554371bbfb7ab2);\n",
              "        \n",
              "\n",
              "        marker_780736d91f95674c6c087bb992d2d5e3.bindPopup(popup_3fde2ed440955e9f42f3536c5e3c1281)\n",
              "        ;\n",
              "\n",
              "        \n",
              "    \n",
              "    \n",
              "            var marker_3ec7ac504562a0cfd48c292d78775a40 = L.marker(\n",
              "                [49.24666666666667, 4.025],\n",
              "                {}\n",
              "            ).addTo(map_b7a0a2328c1aeded0bf9e4f641d453d5);\n",
              "        \n",
              "    \n",
              "        var popup_35d8ce64a967a9edddb289e50f9bacc8 = L.popup({&quot;maxWidth&quot;: &quot;100%&quot;});\n",
              "\n",
              "        \n",
              "            var html_82e658004071edcefddfd61355dd9683 = $(`&lt;div id=&quot;html_82e658004071edcefddfd61355dd9683&quot; style=&quot;width: 100.0%; height: 100.0%;&quot;&gt;Stade Auguste-Delaune&lt;/div&gt;`)[0];\n",
              "            popup_35d8ce64a967a9edddb289e50f9bacc8.setContent(html_82e658004071edcefddfd61355dd9683);\n",
              "        \n",
              "\n",
              "        marker_3ec7ac504562a0cfd48c292d78775a40.bindPopup(popup_35d8ce64a967a9edddb289e50f9bacc8)\n",
              "        ;\n",
              "\n",
              "        \n",
              "    \n",
              "    \n",
              "            var marker_4efa730f4f0c48c39197916a8a26e380 = L.marker(\n",
              "                [43.705000000000005, 7.1925],\n",
              "                {}\n",
              "            ).addTo(map_b7a0a2328c1aeded0bf9e4f641d453d5);\n",
              "        \n",
              "    \n",
              "        var popup_d63fc307e9217fbc1d8b94684c15da48 = L.popup({&quot;maxWidth&quot;: &quot;100%&quot;});\n",
              "\n",
              "        \n",
              "            var html_3b867ccf10f918c4528543fe1e85af20 = $(`&lt;div id=&quot;html_3b867ccf10f918c4528543fe1e85af20&quot; style=&quot;width: 100.0%; height: 100.0%;&quot;&gt;Allianz Riviera&lt;/div&gt;`)[0];\n",
              "            popup_d63fc307e9217fbc1d8b94684c15da48.setContent(html_3b867ccf10f918c4528543fe1e85af20);\n",
              "        \n",
              "\n",
              "        marker_4efa730f4f0c48c39197916a8a26e380.bindPopup(popup_d63fc307e9217fbc1d8b94684c15da48)\n",
              "        ;\n",
              "\n",
              "        \n",
              "    \n",
              "    \n",
              "            var marker_6e965c020a0d59ac826c1b5cad5e2804 = L.marker(\n",
              "                [43.816111111111105, 4.359166666666666],\n",
              "                {}\n",
              "            ).addTo(map_b7a0a2328c1aeded0bf9e4f641d453d5);\n",
              "        \n",
              "    \n",
              "        var popup_d236b678e7b698d7cf2432d6017aa119 = L.popup({&quot;maxWidth&quot;: &quot;100%&quot;});\n",
              "\n",
              "        \n",
              "            var html_dadfd7c2d17e6e738a5ff4fc4ffd62a0 = $(`&lt;div id=&quot;html_dadfd7c2d17e6e738a5ff4fc4ffd62a0&quot; style=&quot;width: 100.0%; height: 100.0%;&quot;&gt;Stade des Costières&lt;/div&gt;`)[0];\n",
              "            popup_d236b678e7b698d7cf2432d6017aa119.setContent(html_dadfd7c2d17e6e738a5ff4fc4ffd62a0);\n",
              "        \n",
              "\n",
              "        marker_6e965c020a0d59ac826c1b5cad5e2804.bindPopup(popup_d236b678e7b698d7cf2432d6017aa119)\n",
              "        ;\n",
              "\n",
              "        \n",
              "    \n",
              "    \n",
              "            var marker_83af2d0066ab6be8e772ab239d5c7c6d = L.marker(\n",
              "                [48.559999999999995, 7.755],\n",
              "                {}\n",
              "            ).addTo(map_b7a0a2328c1aeded0bf9e4f641d453d5);\n",
              "        \n",
              "    \n",
              "        var popup_49d5ad90f940a0644f973bb03981da1c = L.popup({&quot;maxWidth&quot;: &quot;100%&quot;});\n",
              "\n",
              "        \n",
              "            var html_069faaacf2307c59b01a9c5b53512eee = $(`&lt;div id=&quot;html_069faaacf2307c59b01a9c5b53512eee&quot; style=&quot;width: 100.0%; height: 100.0%;&quot;&gt;Stade de la Meinau&lt;/div&gt;`)[0];\n",
              "            popup_49d5ad90f940a0644f973bb03981da1c.setContent(html_069faaacf2307c59b01a9c5b53512eee);\n",
              "        \n",
              "\n",
              "        marker_83af2d0066ab6be8e772ab239d5c7c6d.bindPopup(popup_49d5ad90f940a0644f973bb03981da1c)\n",
              "        ;\n",
              "\n",
              "        \n",
              "    \n",
              "    \n",
              "            var marker_a16a8beb9a11393948fead638280c8c3 = L.marker(\n",
              "                [48.1075, -1.7127777777777777],\n",
              "                {}\n",
              "            ).addTo(map_b7a0a2328c1aeded0bf9e4f641d453d5);\n",
              "        \n",
              "    \n",
              "        var popup_583783c98af82f5354a8c3c1dd3f19f8 = L.popup({&quot;maxWidth&quot;: &quot;100%&quot;});\n",
              "\n",
              "        \n",
              "            var html_af57bc7c1d1508f61663475e45db3d84 = $(`&lt;div id=&quot;html_af57bc7c1d1508f61663475e45db3d84&quot; style=&quot;width: 100.0%; height: 100.0%;&quot;&gt;Roazhon Park&lt;/div&gt;`)[0];\n",
              "            popup_583783c98af82f5354a8c3c1dd3f19f8.setContent(html_af57bc7c1d1508f61663475e45db3d84);\n",
              "        \n",
              "\n",
              "        marker_a16a8beb9a11393948fead638280c8c3.bindPopup(popup_583783c98af82f5354a8c3c1dd3f19f8)\n",
              "        ;\n",
              "\n",
              "        \n",
              "    \n",
              "    \n",
              "            var marker_155a1ad79878efd4384140e4878e4c3e = L.marker(\n",
              "                [47.46055555555556, -0.5308333333333334],\n",
              "                {}\n",
              "            ).addTo(map_b7a0a2328c1aeded0bf9e4f641d453d5);\n",
              "        \n",
              "    \n",
              "        var popup_07ef19cb310e51b8bd3907ce041d34ed = L.popup({&quot;maxWidth&quot;: &quot;100%&quot;});\n",
              "\n",
              "        \n",
              "            var html_ad8c28e5cef9e13a5aee957313a6b347 = $(`&lt;div id=&quot;html_ad8c28e5cef9e13a5aee957313a6b347&quot; style=&quot;width: 100.0%; height: 100.0%;&quot;&gt;Stade Raymond-Kopa&lt;/div&gt;`)[0];\n",
              "            popup_07ef19cb310e51b8bd3907ce041d34ed.setContent(html_ad8c28e5cef9e13a5aee957313a6b347);\n",
              "        \n",
              "\n",
              "        marker_155a1ad79878efd4384140e4878e4c3e.bindPopup(popup_07ef19cb310e51b8bd3907ce041d34ed)\n",
              "        ;\n",
              "\n",
              "        \n",
              "    \n",
              "    \n",
              "            var marker_2a612766e80d7a6904986fdcd8500553 = L.marker(\n",
              "                [49.109722222222224, 6.159166666666667],\n",
              "                {}\n",
              "            ).addTo(map_b7a0a2328c1aeded0bf9e4f641d453d5);\n",
              "        \n",
              "    \n",
              "        var popup_0a3ea8b593be8b9f25aac33b5dd7161b = L.popup({&quot;maxWidth&quot;: &quot;100%&quot;});\n",
              "\n",
              "        \n",
              "            var html_ee38905c8496716f096fa531d3db17e2 = $(`&lt;div id=&quot;html_ee38905c8496716f096fa531d3db17e2&quot; style=&quot;width: 100.0%; height: 100.0%;&quot;&gt;Stade Saint-Symphorien&lt;/div&gt;`)[0];\n",
              "            popup_0a3ea8b593be8b9f25aac33b5dd7161b.setContent(html_ee38905c8496716f096fa531d3db17e2);\n",
              "        \n",
              "\n",
              "        marker_2a612766e80d7a6904986fdcd8500553.bindPopup(popup_0a3ea8b593be8b9f25aac33b5dd7161b)\n",
              "        ;\n",
              "\n",
              "        \n",
              "    \n",
              "    \n",
              "            var marker_71b57191cf8a9a4dfb9106ad2495aa8b = L.marker(\n",
              "                [47.25555555555555, -1.5252777777777777],\n",
              "                {}\n",
              "            ).addTo(map_b7a0a2328c1aeded0bf9e4f641d453d5);\n",
              "        \n",
              "    \n",
              "        var popup_7b23a1e99c69be22f1dd2195545f4860 = L.popup({&quot;maxWidth&quot;: &quot;100%&quot;});\n",
              "\n",
              "        \n",
              "            var html_b2641c4e3face20f6c3cf9156edc1697 = $(`&lt;div id=&quot;html_b2641c4e3face20f6c3cf9156edc1697&quot; style=&quot;width: 100.0%; height: 100.0%;&quot;&gt;Stade de la Beaujoire&lt;/div&gt;`)[0];\n",
              "            popup_7b23a1e99c69be22f1dd2195545f4860.setContent(html_b2641c4e3face20f6c3cf9156edc1697);\n",
              "        \n",
              "\n",
              "        marker_71b57191cf8a9a4dfb9106ad2495aa8b.bindPopup(popup_7b23a1e99c69be22f1dd2195545f4860)\n",
              "        ;\n",
              "\n",
              "        \n",
              "    \n",
              "    \n",
              "            var marker_4c2aec9dd7038cb5d3b57a430c48a202 = L.marker(\n",
              "                [48.403055555555554, -4.461666666666667],\n",
              "                {}\n",
              "            ).addTo(map_b7a0a2328c1aeded0bf9e4f641d453d5);\n",
              "        \n",
              "    \n",
              "        var popup_5788d3862cdc57453127247a382bb693 = L.popup({&quot;maxWidth&quot;: &quot;100%&quot;});\n",
              "\n",
              "        \n",
              "            var html_acde0d79691de6dfc61efc35f551bb92 = $(`&lt;div id=&quot;html_acde0d79691de6dfc61efc35f551bb92&quot; style=&quot;width: 100.0%; height: 100.0%;&quot;&gt;Stade Francis-Le Blé&lt;/div&gt;`)[0];\n",
              "            popup_5788d3862cdc57453127247a382bb693.setContent(html_acde0d79691de6dfc61efc35f551bb92);\n",
              "        \n",
              "\n",
              "        marker_4c2aec9dd7038cb5d3b57a430c48a202.bindPopup(popup_5788d3862cdc57453127247a382bb693)\n",
              "        ;\n",
              "\n",
              "        \n",
              "    \n",
              "    \n",
              "            var marker_9e98557c1c8f978e9f2d1be805ae34ec = L.marker(\n",
              "                [44.89722222222222, -0.5613888888888889],\n",
              "                {}\n",
              "            ).addTo(map_b7a0a2328c1aeded0bf9e4f641d453d5);\n",
              "        \n",
              "    \n",
              "        var popup_f8ac51835f2d74270131fd8708d88db2 = L.popup({&quot;maxWidth&quot;: &quot;100%&quot;});\n",
              "\n",
              "        \n",
              "            var html_de3c4d00b96424acdb4625e1c49aadcc = $(`&lt;div id=&quot;html_de3c4d00b96424acdb4625e1c49aadcc&quot; style=&quot;width: 100.0%; height: 100.0%;&quot;&gt;Matmut Atlantique&lt;/div&gt;`)[0];\n",
              "            popup_f8ac51835f2d74270131fd8708d88db2.setContent(html_de3c4d00b96424acdb4625e1c49aadcc);\n",
              "        \n",
              "\n",
              "        marker_9e98557c1c8f978e9f2d1be805ae34ec.bindPopup(popup_f8ac51835f2d74270131fd8708d88db2)\n",
              "        ;\n",
              "\n",
              "        \n",
              "    \n",
              "    \n",
              "            var marker_692019dbd6e9acdc3c6b3d8b04e5b25c = L.marker(\n",
              "                [43.583333333333336, 1.4341666666666666],\n",
              "                {}\n",
              "            ).addTo(map_b7a0a2328c1aeded0bf9e4f641d453d5);\n",
              "        \n",
              "    \n",
              "        var popup_e68397566814ceaf49c1d60183d3e901 = L.popup({&quot;maxWidth&quot;: &quot;100%&quot;});\n",
              "\n",
              "        \n",
              "            var html_a7d7f3d4159128babacbce53805248cc = $(`&lt;div id=&quot;html_a7d7f3d4159128babacbce53805248cc&quot; style=&quot;width: 100.0%; height: 100.0%;&quot;&gt;Stadium de Toulouse&lt;/div&gt;`)[0];\n",
              "            popup_e68397566814ceaf49c1d60183d3e901.setContent(html_a7d7f3d4159128babacbce53805248cc);\n",
              "        \n",
              "\n",
              "        marker_692019dbd6e9acdc3c6b3d8b04e5b25c.bindPopup(popup_e68397566814ceaf49c1d60183d3e901)\n",
              "        ;\n",
              "\n",
              "        \n",
              "    \n",
              "    \n",
              "            var marker_c1e592a430158b5dff329b6ffe8b3266 = L.marker(\n",
              "                [49.89388888888889, 2.263611111111111],\n",
              "                {}\n",
              "            ).addTo(map_b7a0a2328c1aeded0bf9e4f641d453d5);\n",
              "        \n",
              "    \n",
              "        var popup_74238531aa3544e5ad7b9d30c5fa81a8 = L.popup({&quot;maxWidth&quot;: &quot;100%&quot;});\n",
              "\n",
              "        \n",
              "            var html_81de915217920a11add5dd2949334e26 = $(`&lt;div id=&quot;html_81de915217920a11add5dd2949334e26&quot; style=&quot;width: 100.0%; height: 100.0%;&quot;&gt;Stade de la Licorne&lt;/div&gt;`)[0];\n",
              "            popup_74238531aa3544e5ad7b9d30c5fa81a8.setContent(html_81de915217920a11add5dd2949334e26);\n",
              "        \n",
              "\n",
              "        marker_c1e592a430158b5dff329b6ffe8b3266.bindPopup(popup_74238531aa3544e5ad7b9d30c5fa81a8)\n",
              "        ;\n",
              "\n",
              "        \n",
              "    \n",
              "    \n",
              "            var marker_badbb0a3eb14b293485e005d1598c3b7 = L.marker(\n",
              "                [43.7275, 7.415555555555556],\n",
              "                {}\n",
              "            ).addTo(map_b7a0a2328c1aeded0bf9e4f641d453d5);\n",
              "        \n",
              "    \n",
              "        var popup_776c5dd87ed5ce50d7788bd872984a40 = L.popup({&quot;maxWidth&quot;: &quot;100%&quot;});\n",
              "\n",
              "        \n",
              "            var html_4634697a3c1be584fbbe551312b74fc5 = $(`&lt;div id=&quot;html_4634697a3c1be584fbbe551312b74fc5&quot; style=&quot;width: 100.0%; height: 100.0%;&quot;&gt;Stade Louis-II&lt;/div&gt;`)[0];\n",
              "            popup_776c5dd87ed5ce50d7788bd872984a40.setContent(html_4634697a3c1be584fbbe551312b74fc5);\n",
              "        \n",
              "\n",
              "        marker_badbb0a3eb14b293485e005d1598c3b7.bindPopup(popup_776c5dd87ed5ce50d7788bd872984a40)\n",
              "        ;\n",
              "\n",
              "        \n",
              "    \n",
              "    \n",
              "            var marker_9bead272fa3401a77e2cffddb5872416 = L.marker(\n",
              "                [47.324444444444445, 5.068333333333333],\n",
              "                {}\n",
              "            ).addTo(map_b7a0a2328c1aeded0bf9e4f641d453d5);\n",
              "        \n",
              "    \n",
              "        var popup_ab8709ea4e7a6c4a2dc206f6417ba98b = L.popup({&quot;maxWidth&quot;: &quot;100%&quot;});\n",
              "\n",
              "        \n",
              "            var html_3d42640e86d7f3400e4dcecbfc2e6564 = $(`&lt;div id=&quot;html_3d42640e86d7f3400e4dcecbfc2e6564&quot; style=&quot;width: 100.0%; height: 100.0%;&quot;&gt;Stade Gaston-Gérard&lt;/div&gt;`)[0];\n",
              "            popup_ab8709ea4e7a6c4a2dc206f6417ba98b.setContent(html_3d42640e86d7f3400e4dcecbfc2e6564);\n",
              "        \n",
              "\n",
              "        marker_9bead272fa3401a77e2cffddb5872416.bindPopup(popup_ab8709ea4e7a6c4a2dc206f6417ba98b)\n",
              "        ;\n",
              "\n",
              "        \n",
              "    \n",
              "    \n",
              "            var marker_ec1febe21056ef0e8873755def95293d = L.marker(\n",
              "                [41.93083333333333, 8.77638888888889],\n",
              "                {}\n",
              "            ).addTo(map_b7a0a2328c1aeded0bf9e4f641d453d5);\n",
              "        \n",
              "    \n",
              "        var popup_2fb0bf13d970a7441f96752b844e54b0 = L.popup({&quot;maxWidth&quot;: &quot;100%&quot;});\n",
              "\n",
              "        \n",
              "            var html_3abb50410de1c1b33a775cad49b84505 = $(`&lt;div id=&quot;html_3abb50410de1c1b33a775cad49b84505&quot; style=&quot;width: 100.0%; height: 100.0%;&quot;&gt;Stade François-Coty&lt;/div&gt;`)[0];\n",
              "            popup_2fb0bf13d970a7441f96752b844e54b0.setContent(html_3abb50410de1c1b33a775cad49b84505);\n",
              "        \n",
              "\n",
              "        marker_ec1febe21056ef0e8873755def95293d.bindPopup(popup_2fb0bf13d970a7441f96752b844e54b0)\n",
              "        ;\n",
              "\n",
              "        \n",
              "    \n",
              "    \n",
              "            var marker_a95f452de31f4904ff976bafb3f2da45 = L.marker(\n",
              "                [48.695277777777775, 6.210555555555556],\n",
              "                {}\n",
              "            ).addTo(map_b7a0a2328c1aeded0bf9e4f641d453d5);\n",
              "        \n",
              "    \n",
              "        var popup_7891264467eb10db6ebdb3f92c1e132d = L.popup({&quot;maxWidth&quot;: &quot;100%&quot;});\n",
              "\n",
              "        \n",
              "            var html_8d721bea28d908073347d4c024428a6b = $(`&lt;div id=&quot;html_8d721bea28d908073347d4c024428a6b&quot; style=&quot;width: 100.0%; height: 100.0%;&quot;&gt;Stade Marcel-Picot&lt;/div&gt;`)[0];\n",
              "            popup_7891264467eb10db6ebdb3f92c1e132d.setContent(html_8d721bea28d908073347d4c024428a6b);\n",
              "        \n",
              "\n",
              "        marker_a95f452de31f4904ff976bafb3f2da45.bindPopup(popup_7891264467eb10db6ebdb3f92c1e132d)\n",
              "        ;\n",
              "\n",
              "        \n",
              "    \n",
              "    \n",
              "            var marker_fd2fa0919e707f9932d763fda364feac = L.marker(\n",
              "                [49.49888888888889, 0.16972222222222222],\n",
              "                {}\n",
              "            ).addTo(map_b7a0a2328c1aeded0bf9e4f641d453d5);\n",
              "        \n",
              "    \n",
              "        var popup_faf578516f070ec1bb11c334c06d8bbf = L.popup({&quot;maxWidth&quot;: &quot;100%&quot;});\n",
              "\n",
              "        \n",
              "            var html_919720bc27d9acfee3b105f80d8adacc = $(`&lt;div id=&quot;html_919720bc27d9acfee3b105f80d8adacc&quot; style=&quot;width: 100.0%; height: 100.0%;&quot;&gt;Stade Océane&lt;/div&gt;`)[0];\n",
              "            popup_faf578516f070ec1bb11c334c06d8bbf.setContent(html_919720bc27d9acfee3b105f80d8adacc);\n",
              "        \n",
              "\n",
              "        marker_fd2fa0919e707f9932d763fda364feac.bindPopup(popup_faf578516f070ec1bb11c334c06d8bbf)\n",
              "        ;\n",
              "\n",
              "        \n",
              "    \n",
              "    \n",
              "            var marker_f05656fc54846098461d38c495c4518e = L.marker(\n",
              "                [49.17944444444444, -0.39666666666666667],\n",
              "                {}\n",
              "            ).addTo(map_b7a0a2328c1aeded0bf9e4f641d453d5);\n",
              "        \n",
              "    \n",
              "        var popup_befac8f0479f8c2118809b3314c222e9 = L.popup({&quot;maxWidth&quot;: &quot;100%&quot;});\n",
              "\n",
              "        \n",
              "            var html_5715c99d277ddc253677eba98d42e1c2 = $(`&lt;div id=&quot;html_5715c99d277ddc253677eba98d42e1c2&quot; style=&quot;width: 100.0%; height: 100.0%;&quot;&gt;Stade Michel-d&#x27;Ornano&lt;/div&gt;`)[0];\n",
              "            popup_befac8f0479f8c2118809b3314c222e9.setContent(html_5715c99d277ddc253677eba98d42e1c2);\n",
              "        \n",
              "\n",
              "        marker_f05656fc54846098461d38c495c4518e.bindPopup(popup_befac8f0479f8c2118809b3314c222e9)\n",
              "        ;\n",
              "\n",
              "        \n",
              "    \n",
              "    \n",
              "            var marker_59f8c9512e6e3e693bc46d5d102ac261 = L.marker(\n",
              "                [45.81583333333333, 3.1216666666666666],\n",
              "                {}\n",
              "            ).addTo(map_b7a0a2328c1aeded0bf9e4f641d453d5);\n",
              "        \n",
              "    \n",
              "        var popup_6c520a37b5c3443a5dda2bb5242e44de = L.popup({&quot;maxWidth&quot;: &quot;100%&quot;});\n",
              "\n",
              "        \n",
              "            var html_4a563e5c227528efeba76dfa2ba4cc33 = $(`&lt;div id=&quot;html_4a563e5c227528efeba76dfa2ba4cc33&quot; style=&quot;width: 100.0%; height: 100.0%;&quot;&gt;Stade Gabriel-Montpied&lt;/div&gt;`)[0];\n",
              "            popup_6c520a37b5c3443a5dda2bb5242e44de.setContent(html_4a563e5c227528efeba76dfa2ba4cc33);\n",
              "        \n",
              "\n",
              "        marker_59f8c9512e6e3e693bc46d5d102ac261.bindPopup(popup_6c520a37b5c3443a5dda2bb5242e44de)\n",
              "        ;\n",
              "\n",
              "        \n",
              "    \n",
              "    \n",
              "            var marker_cdc1bf9588b302946a906d050abf9d5c = L.marker(\n",
              "                [48.566111111111105, -3.1644444444444444],\n",
              "                {}\n",
              "            ).addTo(map_b7a0a2328c1aeded0bf9e4f641d453d5);\n",
              "        \n",
              "    \n",
              "        var popup_233d58d57692cf8396d1bdf862e79104 = L.popup({&quot;maxWidth&quot;: &quot;100%&quot;});\n",
              "\n",
              "        \n",
              "            var html_282ea3544f4cac3687fc4b78ec0c8db3 = $(`&lt;div id=&quot;html_282ea3544f4cac3687fc4b78ec0c8db3&quot; style=&quot;width: 100.0%; height: 100.0%;&quot;&gt;Stade de Roudourou&lt;/div&gt;`)[0];\n",
              "            popup_233d58d57692cf8396d1bdf862e79104.setContent(html_282ea3544f4cac3687fc4b78ec0c8db3);\n",
              "        \n",
              "\n",
              "        marker_cdc1bf9588b302946a906d050abf9d5c.bindPopup(popup_233d58d57692cf8396d1bdf862e79104)\n",
              "        ;\n",
              "\n",
              "        \n",
              "    \n",
              "    \n",
              "            var marker_6b3b2deacdf912b27279090bb9a3a606 = L.marker(\n",
              "                [47.74888888888889, -3.3691666666666666],\n",
              "                {}\n",
              "            ).addTo(map_b7a0a2328c1aeded0bf9e4f641d453d5);\n",
              "        \n",
              "    \n",
              "        var popup_0804f3d0eb21ec0002cfb10d44f6c009 = L.popup({&quot;maxWidth&quot;: &quot;100%&quot;});\n",
              "\n",
              "        \n",
              "            var html_41f9c2b5daab23e336f6ccebf7f3c22d = $(`&lt;div id=&quot;html_41f9c2b5daab23e336f6ccebf7f3c22d&quot; style=&quot;width: 100.0%; height: 100.0%;&quot;&gt;Stade du Moustoir&lt;/div&gt;`)[0];\n",
              "            popup_0804f3d0eb21ec0002cfb10d44f6c009.setContent(html_41f9c2b5daab23e336f6ccebf7f3c22d);\n",
              "        \n",
              "\n",
              "        marker_6b3b2deacdf912b27279090bb9a3a606.bindPopup(popup_0804f3d0eb21ec0002cfb10d44f6c009)\n",
              "        ;\n",
              "\n",
              "        \n",
              "    \n",
              "    \n",
              "            var marker_1e7c68eb31bc169c916ec16dc42a032b = L.marker(\n",
              "                [48.81861111111112, 2.346388888888889],\n",
              "                {}\n",
              "            ).addTo(map_b7a0a2328c1aeded0bf9e4f641d453d5);\n",
              "        \n",
              "    \n",
              "        var popup_f52f0ecb743f7be7c7f47040711cbc28 = L.popup({&quot;maxWidth&quot;: &quot;100%&quot;});\n",
              "\n",
              "        \n",
              "            var html_d550c50f49c044c3e7c17c6df36913a2 = $(`&lt;div id=&quot;html_d550c50f49c044c3e7c17c6df36913a2&quot; style=&quot;width: 100.0%; height: 100.0%;&quot;&gt;Stade Charléty&lt;/div&gt;`)[0];\n",
              "            popup_f52f0ecb743f7be7c7f47040711cbc28.setContent(html_d550c50f49c044c3e7c17c6df36913a2);\n",
              "        \n",
              "\n",
              "        marker_1e7c68eb31bc169c916ec16dc42a032b.bindPopup(popup_f52f0ecb743f7be7c7f47040711cbc28)\n",
              "        ;\n",
              "\n",
              "        \n",
              "    \n",
              "    \n",
              "            var marker_a21d229da3c27d404e8c72a62f05db5f = L.marker(\n",
              "                [46.801944444444445, 1.7216666666666667],\n",
              "                {}\n",
              "            ).addTo(map_b7a0a2328c1aeded0bf9e4f641d453d5);\n",
              "        \n",
              "    \n",
              "        var popup_927c72085ab0c31c68438c4e9d4d2a2f = L.popup({&quot;maxWidth&quot;: &quot;100%&quot;});\n",
              "\n",
              "        \n",
              "            var html_0ffd8fa3cbaf3c78c8655f055e596ea8 = $(`&lt;div id=&quot;html_0ffd8fa3cbaf3c78c8655f055e596ea8&quot; style=&quot;width: 100.0%; height: 100.0%;&quot;&gt;Stade Gaston-Petit&lt;/div&gt;`)[0];\n",
              "            popup_927c72085ab0c31c68438c4e9d4d2a2f.setContent(html_0ffd8fa3cbaf3c78c8655f055e596ea8);\n",
              "        \n",
              "\n",
              "        marker_a21d229da3c27d404e8c72a62f05db5f.bindPopup(popup_927c72085ab0c31c68438c4e9d4d2a2f)\n",
              "        ;\n",
              "\n",
              "        \n",
              "    \n",
              "    \n",
              "            var marker_045058922dccf4e1ebd0dfc02d95a606 = L.marker(\n",
              "                [47.78666666666666, 3.588611111111111],\n",
              "                {}\n",
              "            ).addTo(map_b7a0a2328c1aeded0bf9e4f641d453d5);\n",
              "        \n",
              "    \n",
              "        var popup_69a3ced8c10048b0a2a007e193d521be = L.popup({&quot;maxWidth&quot;: &quot;100%&quot;});\n",
              "\n",
              "        \n",
              "            var html_e1a4178ac7a7cb0adefa3d10279e9171 = $(`&lt;div id=&quot;html_e1a4178ac7a7cb0adefa3d10279e9171&quot; style=&quot;width: 100.0%; height: 100.0%;&quot;&gt;Stade de l&#x27;Abbé-Deschamps&lt;/div&gt;`)[0];\n",
              "            popup_69a3ced8c10048b0a2a007e193d521be.setContent(html_e1a4178ac7a7cb0adefa3d10279e9171);\n",
              "        \n",
              "\n",
              "        marker_045058922dccf4e1ebd0dfc02d95a606.bindPopup(popup_69a3ced8c10048b0a2a007e193d521be)\n",
              "        ;\n",
              "\n",
              "        \n",
              "    \n",
              "    \n",
              "            var marker_8d4b0998ef8e3c7797265ae47e180e6d = L.marker(\n",
              "                [47.84027777777778, 1.9411111111111112],\n",
              "                {}\n",
              "            ).addTo(map_b7a0a2328c1aeded0bf9e4f641d453d5);\n",
              "        \n",
              "    \n",
              "        var popup_cdc251759d4dfd5dc76a69b2465b6696 = L.popup({&quot;maxWidth&quot;: &quot;100%&quot;});\n",
              "\n",
              "        \n",
              "            var html_a56d18335df6887097e3092b14b83ac8 = $(`&lt;div id=&quot;html_a56d18335df6887097e3092b14b83ac8&quot; style=&quot;width: 100.0%; height: 100.0%;&quot;&gt;Stade de la Source&lt;/div&gt;`)[0];\n",
              "            popup_cdc251759d4dfd5dc76a69b2465b6696.setContent(html_a56d18335df6887097e3092b14b83ac8);\n",
              "        \n",
              "\n",
              "        marker_8d4b0998ef8e3c7797265ae47e180e6d.bindPopup(popup_cdc251759d4dfd5dc76a69b2465b6696)\n",
              "        ;\n",
              "\n",
              "        \n",
              "    \n",
              "    \n",
              "            var marker_0831d84da6478554e49bfc3e9e86a877 = L.marker(\n",
              "                [50.34861111111111, 3.5322222222222224],\n",
              "                {}\n",
              "            ).addTo(map_b7a0a2328c1aeded0bf9e4f641d453d5);\n",
              "        \n",
              "    \n",
              "        var popup_f7281cbd5d16fd1eacb47fa2445a2d33 = L.popup({&quot;maxWidth&quot;: &quot;100%&quot;});\n",
              "\n",
              "        \n",
              "            var html_bcb29a7859abe807c5c343f4938622ca = $(`&lt;div id=&quot;html_bcb29a7859abe807c5c343f4938622ca&quot; style=&quot;width: 100.0%; height: 100.0%;&quot;&gt;Stade du Hainaut&lt;/div&gt;`)[0];\n",
              "            popup_f7281cbd5d16fd1eacb47fa2445a2d33.setContent(html_bcb29a7859abe807c5c343f4938622ca);\n",
              "        \n",
              "\n",
              "        marker_0831d84da6478554e49bfc3e9e86a877.bindPopup(popup_f7281cbd5d16fd1eacb47fa2445a2d33)\n",
              "        ;\n",
              "\n",
              "        \n",
              "    \n",
              "    \n",
              "            var marker_32cb4503549223add826eeb6d93d6f45 = L.marker(\n",
              "                [46.316944444444445, -0.4891666666666667],\n",
              "                {}\n",
              "            ).addTo(map_b7a0a2328c1aeded0bf9e4f641d453d5);\n",
              "        \n",
              "    \n",
              "        var popup_6a2643038811e9390dd5e991aa95866d = L.popup({&quot;maxWidth&quot;: &quot;100%&quot;});\n",
              "\n",
              "        \n",
              "            var html_91fb2292d8d19bfb67cd3cc78ab29b19 = $(`&lt;div id=&quot;html_91fb2292d8d19bfb67cd3cc78ab29b19&quot; style=&quot;width: 100.0%; height: 100.0%;&quot;&gt;Stade René-Gaillard&lt;/div&gt;`)[0];\n",
              "            popup_6a2643038811e9390dd5e991aa95866d.setContent(html_91fb2292d8d19bfb67cd3cc78ab29b19);\n",
              "        \n",
              "\n",
              "        marker_32cb4503549223add826eeb6d93d6f45.bindPopup(popup_6a2643038811e9390dd5e991aa95866d)\n",
              "        ;\n",
              "\n",
              "        \n",
              "    \n",
              "    \n",
              "            var marker_2a3306496c80e409e3cc5e25949a5a7e = L.marker(\n",
              "                [45.1875, 5.74],\n",
              "                {}\n",
              "            ).addTo(map_b7a0a2328c1aeded0bf9e4f641d453d5);\n",
              "        \n",
              "    \n",
              "        var popup_01e03989d224d5128b1a1926779fa86c = L.popup({&quot;maxWidth&quot;: &quot;100%&quot;});\n",
              "\n",
              "        \n",
              "            var html_ecb960e7abd1bd9a8c77f1fb9e0b648a = $(`&lt;div id=&quot;html_ecb960e7abd1bd9a8c77f1fb9e0b648a&quot; style=&quot;width: 100.0%; height: 100.0%;&quot;&gt;Stade des Alpes&lt;/div&gt;`)[0];\n",
              "            popup_01e03989d224d5128b1a1926779fa86c.setContent(html_ecb960e7abd1bd9a8c77f1fb9e0b648a);\n",
              "        \n",
              "\n",
              "        marker_2a3306496c80e409e3cc5e25949a5a7e.bindPopup(popup_01e03989d224d5128b1a1926779fa86c)\n",
              "        ;\n",
              "\n",
              "        \n",
              "    \n",
              "    \n",
              "            var marker_c982eb91d12557679f1869de094a9419 = L.marker(\n",
              "                [47.51222222222222, 6.811388888888889],\n",
              "                {}\n",
              "            ).addTo(map_b7a0a2328c1aeded0bf9e4f641d453d5);\n",
              "        \n",
              "    \n",
              "        var popup_cd950f0b7cd075569a70b53a200bad3b = L.popup({&quot;maxWidth&quot;: &quot;100%&quot;});\n",
              "\n",
              "        \n",
              "            var html_27aa54ac9c5bd736c587a04b31986814 = $(`&lt;div id=&quot;html_27aa54ac9c5bd736c587a04b31986814&quot; style=&quot;width: 100.0%; height: 100.0%;&quot;&gt;Stade Auguste-Bonal&lt;/div&gt;`)[0];\n",
              "            popup_cd950f0b7cd075569a70b53a200bad3b.setContent(html_27aa54ac9c5bd736c587a04b31986814);\n",
              "        \n",
              "\n",
              "        marker_c982eb91d12557679f1869de094a9419.bindPopup(popup_cd950f0b7cd075569a70b53a200bad3b)\n",
              "        ;\n",
              "\n",
              "        \n",
              "    \n",
              "    \n",
              "            var marker_0339413521c8f169da17ed3d249433db = L.marker(\n",
              "                [44.35166666666667, 2.563611111111111],\n",
              "                {}\n",
              "            ).addTo(map_b7a0a2328c1aeded0bf9e4f641d453d5);\n",
              "        \n",
              "    \n",
              "        var popup_cb2bf5d12845ed2423648f97f285d65d = L.popup({&quot;maxWidth&quot;: &quot;100%&quot;});\n",
              "\n",
              "        \n",
              "            var html_f609eaf5ae9da6a76dac77b1724bf809 = $(`&lt;div id=&quot;html_f609eaf5ae9da6a76dac77b1724bf809&quot; style=&quot;width: 100.0%; height: 100.0%;&quot;&gt;Stade Paul-Lignon&lt;/div&gt;`)[0];\n",
              "            popup_cb2bf5d12845ed2423648f97f285d65d.setContent(html_f609eaf5ae9da6a76dac77b1724bf809);\n",
              "        \n",
              "\n",
              "        marker_0339413521c8f169da17ed3d249433db.bindPopup(popup_cb2bf5d12845ed2423648f97f285d65d)\n",
              "        ;\n",
              "\n",
              "        \n",
              "    \n",
              "    \n",
              "            var marker_98c4b1e1dad2d341cf88badedd5b0f75 = L.marker(\n",
              "                [49.17916666666667, 2.233611111111111],\n",
              "                {}\n",
              "            ).addTo(map_b7a0a2328c1aeded0bf9e4f641d453d5);\n",
              "        \n",
              "    \n",
              "        var popup_bbbea32f23db267b1904856dcae0f0a1 = L.popup({&quot;maxWidth&quot;: &quot;100%&quot;});\n",
              "\n",
              "        \n",
              "            var html_544c098f52ef226a19f4c874a7a491a7 = $(`&lt;div id=&quot;html_544c098f52ef226a19f4c874a7a491a7&quot; style=&quot;width: 100.0%; height: 100.0%;&quot;&gt;Stade Walter Luzi&lt;/div&gt;`)[0];\n",
              "            popup_bbbea32f23db267b1904856dcae0f0a1.setContent(html_544c098f52ef226a19f4c874a7a491a7);\n",
              "        \n",
              "\n",
              "        marker_98c4b1e1dad2d341cf88badedd5b0f75.bindPopup(popup_bbbea32f23db267b1904856dcae0f0a1)\n",
              "        ;\n",
              "\n",
              "        \n",
              "    \n",
              "    \n",
              "            var marker_56e79480b09eb938e9d3e9a8385283a7 = L.marker(\n",
              "                [48.3075, 4.0986111111111105],\n",
              "                {}\n",
              "            ).addTo(map_b7a0a2328c1aeded0bf9e4f641d453d5);\n",
              "        \n",
              "    \n",
              "        var popup_b61de74653cc3e28507e86bd23285b4b = L.popup({&quot;maxWidth&quot;: &quot;100%&quot;});\n",
              "\n",
              "        \n",
              "            var html_b1b3b11f0ef3a37e04a72a9b3b5bfbcb = $(`&lt;div id=&quot;html_b1b3b11f0ef3a37e04a72a9b3b5bfbcb&quot; style=&quot;width: 100.0%; height: 100.0%;&quot;&gt;Stade de l&#x27;Aube&lt;/div&gt;`)[0];\n",
              "            popup_b61de74653cc3e28507e86bd23285b4b.setContent(html_b1b3b11f0ef3a37e04a72a9b3b5bfbcb);\n",
              "        \n",
              "\n",
              "        marker_56e79480b09eb938e9d3e9a8385283a7.bindPopup(popup_b61de74653cc3e28507e86bd23285b4b)\n",
              "        ;\n",
              "\n",
              "        \n",
              "    \n",
              "    \n",
              "            var marker_eed268bf61a95a75c1d55f3506655248 = L.marker(\n",
              "                [50.43277777777777, 2.815],\n",
              "                {}\n",
              "            ).addTo(map_b7a0a2328c1aeded0bf9e4f641d453d5);\n",
              "        \n",
              "    \n",
              "        var popup_7b0da548a773eccb01c6f098e9534534 = L.popup({&quot;maxWidth&quot;: &quot;100%&quot;});\n",
              "\n",
              "        \n",
              "            var html_a6327216b6974f70d1514e2815585ebc = $(`&lt;div id=&quot;html_a6327216b6974f70d1514e2815585ebc&quot; style=&quot;width: 100.0%; height: 100.0%;&quot;&gt;Stade Bollaert-Delelis&lt;/div&gt;`)[0];\n",
              "            popup_7b0da548a773eccb01c6f098e9534534.setContent(html_a6327216b6974f70d1514e2815585ebc);\n",
              "        \n",
              "\n",
              "        marker_eed268bf61a95a75c1d55f3506655248.bindPopup(popup_7b0da548a773eccb01c6f098e9534534)\n",
              "        ;\n",
              "\n",
              "        \n",
              "    \n",
              "    \n",
              "            var marker_89ef412280a13548dce9bbeb9de823eb = L.marker(\n",
              "                [47.95888888888889, 0.22472222222222224],\n",
              "                {}\n",
              "            ).addTo(map_b7a0a2328c1aeded0bf9e4f641d453d5);\n",
              "        \n",
              "    \n",
              "        var popup_ae0943f1fac635fee628affc11d544a7 = L.popup({&quot;maxWidth&quot;: &quot;100%&quot;});\n",
              "\n",
              "        \n",
              "            var html_7784c87dd086901f7e6c2acb22834b3c = $(`&lt;div id=&quot;html_7784c87dd086901f7e6c2acb22834b3c&quot; style=&quot;width: 100.0%; height: 100.0%;&quot;&gt;Le Mans Arena&lt;/div&gt;`)[0];\n",
              "            popup_ae0943f1fac635fee628affc11d544a7.setContent(html_7784c87dd086901f7e6c2acb22834b3c);\n",
              "        \n",
              "\n",
              "        marker_89ef412280a13548dce9bbeb9de823eb.bindPopup(popup_ae0943f1fac635fee628affc11d544a7)\n",
              "        ;\n",
              "\n",
              "        \n",
              "    \n",
              "    \n",
              "            map_b7a0a2328c1aeded0bf9e4f641d453d5.fitBounds(\n",
              "                [[41.93083333333333, -4.461666666666667], [50.61194444444445, 8.77638888888889]],\n",
              "                {}\n",
              "            );\n",
              "        \n",
              "&lt;/script&gt;\" style=\"position:absolute;width:100%;height:100%;left:0;top:0;border:none !important;\" allowfullscreen webkitallowfullscreen mozallowfullscreen></iframe></div></div>"
            ]
          }
        }
      ],
      "source": [],
      "id": "d8d6ebcf-ff5e-4183-9ead-fc0bb705543e"
    },
    {
      "cell_type": "markdown",
      "metadata": {},
      "source": [
        "{{< /rawhtml >}}\n",
        "\n",
        "# Exercice 1 : Les pokémons (version non guidée)\n",
        "\n",
        "{{% box status=“exercise” title=“Exercice” icon=“fas fa-pencil-alt” %}}\n",
        "Pour cet exercice, nous vous demandons d’obtenir différentes informations sur les pokémons à partir du site internet [pokemondb.net](http://pokemondb.net/pokedex/national).\n",
        "\n",
        "1.  les informations personnelles des `893` pokemons sur le site internet [pokemondb.net](http://pokemondb.net/pokedex/national). Les informations que nous aimerions obtenir au final dans un DataFrame sont celles contenues dans 4 tableaux :\n",
        "\n",
        "-   Pokédex data\n",
        "-   Training\n",
        "-   Breeding\n",
        "-   Base stats\n",
        "\n",
        "1.  Nous aimerions que vous récupériez également les images de chacun des pokémons et que vous les enregistriez dans un dossier\n",
        "\n",
        "-   Petit indice : utilisez les modules request et [shutil](https://docs.python.org/3/library/shutil.html)\n",
        "-   Pour cette question, il faut que vous cherchiez de vous même certains éléments, tout n’est pas présent dans le TD.\n",
        "\n",
        "{{% /box %}}\n",
        "\n",
        "Pour la question 1, l’objectif est d’obtenir le code source d’un tableau comme\n",
        "celui qui suit\n",
        "(Pokemon [Nincada](http://pokemondb.net/pokedex/nincada).)\n",
        "\n",
        "<h2>\n",
        "\n",
        "Pokédex data\n",
        "\n",
        "</h2>\n",
        "\n",
        "<table class=\"vitals-table\">\n",
        "\n",
        "<tbody>\n",
        "\n",
        "<tr>\n",
        "\n",
        "<th>\n",
        "\n",
        "National №\n",
        "\n",
        "</th>\n",
        "\n",
        "<td>\n",
        "\n",
        "<strong>290</strong>\n",
        "\n",
        "</td>\n",
        "\n",
        "</tr>\n",
        "\n",
        "<tr>\n",
        "\n",
        "<th>\n",
        "\n",
        "Type\n",
        "\n",
        "</th>\n",
        "\n",
        "<td>\n",
        "\n",
        "<a class=\"type-icon type-bug\" href=\"/type/bug\">Bug</a> <a class=\"type-icon type-ground\" href=\"/type/ground\">Ground</a>\n",
        "\n",
        "</td>\n",
        "\n",
        "</tr>\n",
        "\n",
        "<tr>\n",
        "\n",
        "<th>\n",
        "\n",
        "Species\n",
        "\n",
        "</th>\n",
        "\n",
        "<td>\n",
        "\n",
        "Trainee Pokémon\n",
        "\n",
        "</td>\n",
        "\n",
        "</tr>\n",
        "\n",
        "<tr>\n",
        "\n",
        "<th>\n",
        "\n",
        "Height\n",
        "\n",
        "</th>\n",
        "\n",
        "<td>\n",
        "\n",
        "0.5 m (1′08″)\n",
        "\n",
        "</td>\n",
        "\n",
        "</tr>\n",
        "\n",
        "<tr>\n",
        "\n",
        "<th>\n",
        "\n",
        "Weight\n",
        "\n",
        "</th>\n",
        "\n",
        "<td>\n",
        "\n",
        "5.5 kg (12.1 lbs)\n",
        "\n",
        "</td>\n",
        "\n",
        "</tr>\n",
        "\n",
        "<tr>\n",
        "\n",
        "<th>\n",
        "\n",
        "Abilities\n",
        "\n",
        "</th>\n",
        "\n",
        "<td>\n",
        "\n",
        "<span class=\"text-muted\">1. <a href=\"/ability/compound-eyes\" title=\"The Pokémon's accuracy is boosted.\">Compound Eyes</a></span><br><small class=\"text-muted\"><a href=\"/ability/run-away\" title=\"Enables a sure getaway from wild Pokémon.\">Run Away</a> (hidden ability)</small><br>\n",
        "\n",
        "</td>\n",
        "\n",
        "</tr>\n",
        "\n",
        "<tr>\n",
        "\n",
        "<th>\n",
        "\n",
        "Local №\n",
        "\n",
        "</th>\n",
        "\n",
        "<td>\n",
        "\n",
        "042 <small class=\"text-muted\">(Ruby/Sapphire/Emerald)</small><br>111 <small class=\"text-muted\">(X/Y — Central Kalos)</small><br>043 <small class=\"text-muted\">(Omega Ruby/Alpha Sapphire)</small><br>104 <small class=\"text-muted\">(Sword/Shield)</small><br>\n",
        "\n",
        "</td>\n",
        "\n",
        "</tr>\n",
        "\n",
        "</tbody>\n",
        "\n",
        "</table>\n",
        "\n",
        "<h2>\n",
        "\n",
        "Training\n",
        "\n",
        "</h2>\n",
        "\n",
        "<table class=\"vitals-table\">\n",
        "\n",
        "<tbody>\n",
        "\n",
        "<tr>\n",
        "\n",
        "<th>\n",
        "\n",
        "EV yield\n",
        "\n",
        "</th>\n",
        "\n",
        "<td class=\"text\">\n",
        "\n",
        "1 Defense\n",
        "\n",
        "</td>\n",
        "\n",
        "</tr>\n",
        "\n",
        "<tr>\n",
        "\n",
        "<th>\n",
        "\n",
        "Catch rate\n",
        "\n",
        "</th>\n",
        "\n",
        "<td>\n",
        "\n",
        "255 <small class=\"text-muted\">(33.3% with PokéBall, full HP)</small>\n",
        "\n",
        "</td>\n",
        "\n",
        "</tr>\n",
        "\n",
        "<tr>\n",
        "\n",
        "<th>\n",
        "\n",
        "Base <a href=\"/glossary#def-friendship\">Friendship</a>\n",
        "\n",
        "</th>\n",
        "\n",
        "<td>\n",
        "\n",
        "70 <small class=\"text-muted\">(normal)</small>\n",
        "\n",
        "</td>\n",
        "\n",
        "</tr>\n",
        "\n",
        "<tr>\n",
        "\n",
        "<th>\n",
        "\n",
        "Base Exp.\n",
        "\n",
        "</th>\n",
        "\n",
        "<td>\n",
        "\n",
        "53\n",
        "\n",
        "</td>\n",
        "\n",
        "</tr>\n",
        "\n",
        "<tr>\n",
        "\n",
        "<th>\n",
        "\n",
        "Growth Rate\n",
        "\n",
        "</th>\n",
        "\n",
        "<td>\n",
        "\n",
        "Erratic\n",
        "\n",
        "</td>\n",
        "\n",
        "</tr>\n",
        "\n",
        "</tbody>\n",
        "\n",
        "</table>\n",
        "\n",
        "<h2>\n",
        "\n",
        "Breeding\n",
        "\n",
        "</h2>\n",
        "\n",
        "<table class=\"vitals-table\">\n",
        "\n",
        "<tbody>\n",
        "\n",
        "<tr>\n",
        "\n",
        "<th>\n",
        "\n",
        "Egg Groups\n",
        "\n",
        "</th>\n",
        "\n",
        "<td>\n",
        "\n",
        "<a href=\"/egg-group/bug\">Bug</a>\n",
        "\n",
        "</td>\n",
        "\n",
        "</tr>\n",
        "\n",
        "<tr>\n",
        "\n",
        "<th>\n",
        "\n",
        "Gender\n",
        "\n",
        "</th>\n",
        "\n",
        "<td>\n",
        "\n",
        "<span class=\"text-blue\">50% male</span>, <span class=\"text-pink\">50% female</span>\n",
        "\n",
        "</td>\n",
        "\n",
        "</tr>\n",
        "\n",
        "<tr>\n",
        "\n",
        "<th>\n",
        "\n",
        "<a href=\"/glossary#def-eggcycle\">Egg cycles</a>\n",
        "\n",
        "</th>\n",
        "\n",
        "<td>\n",
        "\n",
        "15 <small class=\"text-muted\">(3,599–3,855 steps)</small>\n",
        "\n",
        "</td>\n",
        "\n",
        "</tr>\n",
        "\n",
        "</tbody>\n",
        "\n",
        "</table>\n",
        "\n",
        "<h2>\n",
        "\n",
        "Base stats\n",
        "\n",
        "</h2>\n",
        "\n",
        "<table class=\"vitals-table\">\n",
        "\n",
        "<tbody>\n",
        "\n",
        "<tr>\n",
        "\n",
        "<th>\n",
        "\n",
        "HP\n",
        "\n",
        "</th>\n",
        "\n",
        "<td class=\"cell-num\">\n",
        "\n",
        "31\n",
        "\n",
        "</td>\n",
        "\n",
        "<td class=\"cell-barchart\">\n",
        "\n",
        "</td>\n",
        "\n",
        "<td class=\"cell-num\">\n",
        "\n",
        "172\n",
        "\n",
        "</td>\n",
        "\n",
        "<td class=\"cell-num\">\n",
        "\n",
        "266\n",
        "\n",
        "</td>\n",
        "\n",
        "</tr>\n",
        "\n",
        "<tr>\n",
        "\n",
        "<th>\n",
        "\n",
        "Attack\n",
        "\n",
        "</th>\n",
        "\n",
        "<td class=\"cell-num\">\n",
        "\n",
        "45\n",
        "\n",
        "</td>\n",
        "\n",
        "<td class=\"cell-barchart\">\n",
        "\n",
        "</td>\n",
        "\n",
        "<td class=\"cell-num\">\n",
        "\n",
        "85\n",
        "\n",
        "</td>\n",
        "\n",
        "<td class=\"cell-num\">\n",
        "\n",
        "207\n",
        "\n",
        "</td>\n",
        "\n",
        "</tr>\n",
        "\n",
        "<tr>\n",
        "\n",
        "<th>\n",
        "\n",
        "Defense\n",
        "\n",
        "</th>\n",
        "\n",
        "<td class=\"cell-num\">\n",
        "\n",
        "90\n",
        "\n",
        "</td>\n",
        "\n",
        "<td class=\"cell-barchart\">\n",
        "\n",
        "</td>\n",
        "\n",
        "<td class=\"cell-num\">\n",
        "\n",
        "166\n",
        "\n",
        "</td>\n",
        "\n",
        "<td class=\"cell-num\">\n",
        "\n",
        "306\n",
        "\n",
        "</td>\n",
        "\n",
        "</tr>\n",
        "\n",
        "<tr>\n",
        "\n",
        "<th>\n",
        "\n",
        "Sp. Atk\n",
        "\n",
        "</th>\n",
        "\n",
        "<td class=\"cell-num\">\n",
        "\n",
        "30\n",
        "\n",
        "</td>\n",
        "\n",
        "<td class=\"cell-barchart\">\n",
        "\n",
        "</td>\n",
        "\n",
        "<td class=\"cell-num\">\n",
        "\n",
        "58\n",
        "\n",
        "</td>\n",
        "\n",
        "<td class=\"cell-num\">\n",
        "\n",
        "174\n",
        "\n",
        "</td>\n",
        "\n",
        "</tr>\n",
        "\n",
        "<tr>\n",
        "\n",
        "<th>\n",
        "\n",
        "Sp. Def\n",
        "\n",
        "</th>\n",
        "\n",
        "<td class=\"cell-num\">\n",
        "\n",
        "30\n",
        "\n",
        "</td>\n",
        "\n",
        "<td class=\"cell-barchart\">\n",
        "\n",
        "</td>\n",
        "\n",
        "<td class=\"cell-num\">\n",
        "\n",
        "58\n",
        "\n",
        "</td>\n",
        "\n",
        "<td class=\"cell-num\">\n",
        "\n",
        "174\n",
        "\n",
        "</td>\n",
        "\n",
        "</tr>\n",
        "\n",
        "<tr>\n",
        "\n",
        "<th>\n",
        "\n",
        "Speed\n",
        "\n",
        "</th>\n",
        "\n",
        "<td class=\"cell-num\">\n",
        "\n",
        "40\n",
        "\n",
        "</td>\n",
        "\n",
        "<td class=\"cell-barchart\">\n",
        "\n",
        "</td>\n",
        "\n",
        "<td class=\"cell-num\">\n",
        "\n",
        "76\n",
        "\n",
        "</td>\n",
        "\n",
        "<td class=\"cell-num\">\n",
        "\n",
        "196\n",
        "\n",
        "</td>\n",
        "\n",
        "</tr>\n",
        "\n",
        "</tbody>\n",
        "\n",
        "<tfoot>\n",
        "\n",
        "<tr>\n",
        "\n",
        "<th>\n",
        "\n",
        "Total\n",
        "\n",
        "</th>\n",
        "\n",
        "<td class=\"cell-total\">\n",
        "\n",
        "<b>266</b>\n",
        "\n",
        "</td>\n",
        "\n",
        "<th class=\"cell-barchart\">\n",
        "\n",
        "</th>\n",
        "\n",
        "<th>\n",
        "\n",
        "Min\n",
        "\n",
        "</th>\n",
        "\n",
        "<th>\n",
        "\n",
        "Max\n",
        "\n",
        "</th>\n",
        "\n",
        "</tr>\n",
        "\n",
        "</tfoot>\n",
        "\n",
        "</table>\n",
        "\n",
        "# Exercice 1 : Les pokémons (version guidée)\n",
        "\n",
        "{{% box status=“exercise” title=“Exercice” icon=“fas fa-pencil-alt” %}}\n",
        "\n",
        "Pour cet exercice, nous vous demandons d’obtenir différentes informations sur les pokémons à partir du site internet [pokemondb.net](http://pokemondb.net/pokedex/national).\n",
        "\n",
        "## Etape 1\n",
        "\n",
        "Nous souhaitons tout d’abord obtenir les informations personnelles des `893` pokemons sur [pokemondb.net](http://pokemondb.net/pokedex/national). Les informations que nous aimerions obtenir au final pour les pokemons sont celles contenues dans 4 tableaux :\n",
        "\n",
        "-   Pokédex data\n",
        "-   Training\n",
        "-   Breeding\n",
        "-   Base stats\n",
        "\n",
        "Plus haut est disponible un exemple.\n",
        "\n",
        "Pour cela, le code devra être divisé en plusieurs étapes :\n",
        "\n",
        "1.  Trouvez la page principale du site et la transformez en un objet intelligible pour votre code. Les fonctions suivantes vous seront utiles :\n",
        "\n",
        "-   `urllib.request.Request`\n",
        "-   `urllib.request.urlopen`\n",
        "-   `bs4.BeautifulSoup`\n",
        "\n",
        "Pour ce site, par rapport à tout à l’heure,\n",
        "il faudra ajouter un paramètre supplémentaire à la fonction `Request`:\n",
        "\n",
        "``` python\n",
        "urllib.request.Request( www.sitequinousintéresse.com ,headers={'User-Agent': 'Mozilla/5.0'})\n",
        "```\n",
        "\n",
        "1.  Créez une fonction qui permet de récupérer la page d’un pokémon à partir de son nom.\n",
        "\n",
        "2.  A partir de la page de `bulbasaur`, obtenez les 4 tableaux qui nous intéressent :\n",
        "\n",
        "-   on va chercher l’élément suivant : `('table', { 'class' : \"vitals-table\"})`\n",
        "-   puis stocker ses éléments dans un dictionnaire\n",
        "\n",
        "Vous devriez obtenir une liste de caractéristiques proche de celle-ci\n",
        "(la structure est ici en dictionnaire, ce qui est pratique)"
      ],
      "id": "11d2435b-cf8a-41ea-a60f-c30328531e97"
    },
    {
      "cell_type": "code",
      "execution_count": 32,
      "metadata": {},
      "outputs": [
        {
          "output_type": "display_data",
          "metadata": {},
          "data": {
            "text/plain": [
              "defaultdict(None,\n",
              "            {'National №': '001',\n",
              "             'name': 'bulbasaur',\n",
              "             'Type': ' Grass Poison ',\n",
              "             'Species': 'Seed Pokémon',\n",
              "             'Height': '0.7\\xa0m (2′04″)',\n",
              "             'Weight': '6.9\\xa0kg (15.2\\xa0lbs)',\n",
              "             'Abilities': '1. OvergrowChlorophyll (hidden ability)',\n",
              "             'Local №': \"001 (Red/Blue/Yellow)226 (Gold/Silver/Crystal)001 (FireRed/LeafGreen)231 (HeartGold/SoulSilver)080 (X/Y — Central Kalos)001 (Let's Go Pikachu/Let's Go Eevee)068 (The Isle of Armor)\",\n",
              "             'EV yield': ' 1 Special Attack ',\n",
              "             'Catch rate': ' 45 (5.9% with PokéBall, full HP) ',\n",
              "             'Base Friendship': ' 50 (normal) ',\n",
              "             'Base Exp.': '64',\n",
              "             'Growth Rate': 'Medium Slow',\n",
              "             'Egg Groups': 'Grass, Monster',\n",
              "             'Gender': '87.5% male, 12.5% female',\n",
              "             'Egg cycles': '20 (4,884–5,140 steps) ',\n",
              "             'HP': '45',\n",
              "             'Attack': '49',\n",
              "             'Defense': '49',\n",
              "             'Sp. Atk': '65',\n",
              "             'Sp. Def': '65',\n",
              "             'Speed': '45'})"
            ]
          }
        }
      ],
      "source": [],
      "id": "9669b207-fcc7-46e0-8b94-b832ced26a79"
    },
    {
      "cell_type": "markdown",
      "metadata": {},
      "source": [
        "1.  Récupérez par ailleurs la liste de noms des pokémons qui nous permettra de faire une boucle par la suite. Combien trouvez-vous de pokémons ?\n",
        "\n",
        "2.  Ecrire une fonction qui récupère l’ensemble des informations sur les dix premiers pokémons de la liste et les intègre dans un data.frame"
      ],
      "id": "e5e9c866-d443-466f-aef3-be989dada683"
    },
    {
      "cell_type": "code",
      "execution_count": 35,
      "metadata": {},
      "outputs": [
        {
          "output_type": "display_data",
          "metadata": {},
          "data": {
            "text/html": [
              "<div>\n",
              "<style scoped>\n",
              "    .dataframe tbody tr th:only-of-type {\n",
              "        vertical-align: middle;\n",
              "    }\n",
              "\n",
              "    .dataframe tbody tr th {\n",
              "        vertical-align: top;\n",
              "    }\n",
              "\n",
              "    .dataframe thead th {\n",
              "        text-align: right;\n",
              "    }\n",
              "</style>\n",
              "<table border=\"1\" class=\"dataframe\">\n",
              "  <thead>\n",
              "    <tr style=\"text-align: right;\">\n",
              "      <th></th>\n",
              "      <th>National №</th>\n",
              "      <th>name</th>\n",
              "      <th>Type</th>\n",
              "      <th>Species</th>\n",
              "      <th>Height</th>\n",
              "      <th>Weight</th>\n",
              "      <th>Abilities</th>\n",
              "      <th>Local №</th>\n",
              "      <th>EV yield</th>\n",
              "      <th>Catch rate</th>\n",
              "      <th>...</th>\n",
              "      <th>Growth Rate</th>\n",
              "      <th>Egg Groups</th>\n",
              "      <th>Gender</th>\n",
              "      <th>Egg cycles</th>\n",
              "      <th>HP</th>\n",
              "      <th>Attack</th>\n",
              "      <th>Defense</th>\n",
              "      <th>Sp. Atk</th>\n",
              "      <th>Sp. Def</th>\n",
              "      <th>Speed</th>\n",
              "    </tr>\n",
              "  </thead>\n",
              "  <tbody>\n",
              "    <tr>\n",
              "      <th>0</th>\n",
              "      <td>001</td>\n",
              "      <td>bulbasaur</td>\n",
              "      <td>Grass Poison</td>\n",
              "      <td>Seed Pokémon</td>\n",
              "      <td>0.7 m (2′04″)</td>\n",
              "      <td>6.9 kg (15.2 lbs)</td>\n",
              "      <td>1. OvergrowChlorophyll (hidden ability)</td>\n",
              "      <td>001 (Red/Blue/Yellow)226 (Gold/Silver/Crystal)...</td>\n",
              "      <td>1 Special Attack</td>\n",
              "      <td>45 (5.9% with PokéBall, full HP)</td>\n",
              "      <td>...</td>\n",
              "      <td>Medium Slow</td>\n",
              "      <td>Grass, Monster</td>\n",
              "      <td>87.5% male, 12.5% female</td>\n",
              "      <td>20 (4,884–5,140 steps)</td>\n",
              "      <td>45</td>\n",
              "      <td>49</td>\n",
              "      <td>49</td>\n",
              "      <td>65</td>\n",
              "      <td>65</td>\n",
              "      <td>45</td>\n",
              "    </tr>\n",
              "    <tr>\n",
              "      <th>1</th>\n",
              "      <td>002</td>\n",
              "      <td>ivysaur</td>\n",
              "      <td>Grass Poison</td>\n",
              "      <td>Seed Pokémon</td>\n",
              "      <td>1.0 m (3′03″)</td>\n",
              "      <td>13.0 kg (28.7 lbs)</td>\n",
              "      <td>1. OvergrowChlorophyll (hidden ability)</td>\n",
              "      <td>002 (Red/Blue/Yellow)227 (Gold/Silver/Crystal)...</td>\n",
              "      <td>1 Special Attack, 1 Special Defense</td>\n",
              "      <td>45 (5.9% with PokéBall, full HP)</td>\n",
              "      <td>...</td>\n",
              "      <td>Medium Slow</td>\n",
              "      <td>Grass, Monster</td>\n",
              "      <td>87.5% male, 12.5% female</td>\n",
              "      <td>20 (4,884–5,140 steps)</td>\n",
              "      <td>60</td>\n",
              "      <td>62</td>\n",
              "      <td>63</td>\n",
              "      <td>80</td>\n",
              "      <td>80</td>\n",
              "      <td>60</td>\n",
              "    </tr>\n",
              "    <tr>\n",
              "      <th>2</th>\n",
              "      <td>003</td>\n",
              "      <td>venusaur</td>\n",
              "      <td>Grass Poison</td>\n",
              "      <td>Seed Pokémon</td>\n",
              "      <td>2.0 m (6′07″)</td>\n",
              "      <td>100.0 kg (220.5 lbs)</td>\n",
              "      <td>1. OvergrowChlorophyll (hidden ability)</td>\n",
              "      <td>003 (Red/Blue/Yellow)228 (Gold/Silver/Crystal)...</td>\n",
              "      <td>2 Special Attack, 1 Special Defense</td>\n",
              "      <td>45 (5.9% with PokéBall, full HP)</td>\n",
              "      <td>...</td>\n",
              "      <td>Medium Slow</td>\n",
              "      <td>Grass, Monster</td>\n",
              "      <td>87.5% male, 12.5% female</td>\n",
              "      <td>20 (4,884–5,140 steps)</td>\n",
              "      <td>80</td>\n",
              "      <td>82</td>\n",
              "      <td>83</td>\n",
              "      <td>100</td>\n",
              "      <td>100</td>\n",
              "      <td>80</td>\n",
              "    </tr>\n",
              "    <tr>\n",
              "      <th>3</th>\n",
              "      <td>004</td>\n",
              "      <td>charmander</td>\n",
              "      <td>Fire</td>\n",
              "      <td>Lizard Pokémon</td>\n",
              "      <td>0.6 m (2′00″)</td>\n",
              "      <td>8.5 kg (18.7 lbs)</td>\n",
              "      <td>1. BlazeSolar Power (hidden ability)</td>\n",
              "      <td>004 (Red/Blue/Yellow)229 (Gold/Silver/Crystal)...</td>\n",
              "      <td>1 Speed</td>\n",
              "      <td>45 (5.9% with PokéBall, full HP)</td>\n",
              "      <td>...</td>\n",
              "      <td>Medium Slow</td>\n",
              "      <td>Dragon, Monster</td>\n",
              "      <td>87.5% male, 12.5% female</td>\n",
              "      <td>20 (4,884–5,140 steps)</td>\n",
              "      <td>39</td>\n",
              "      <td>52</td>\n",
              "      <td>43</td>\n",
              "      <td>60</td>\n",
              "      <td>50</td>\n",
              "      <td>65</td>\n",
              "    </tr>\n",
              "    <tr>\n",
              "      <th>4</th>\n",
              "      <td>005</td>\n",
              "      <td>charmeleon</td>\n",
              "      <td>Fire</td>\n",
              "      <td>Flame Pokémon</td>\n",
              "      <td>1.1 m (3′07″)</td>\n",
              "      <td>19.0 kg (41.9 lbs)</td>\n",
              "      <td>1. BlazeSolar Power (hidden ability)</td>\n",
              "      <td>005 (Red/Blue/Yellow)230 (Gold/Silver/Crystal)...</td>\n",
              "      <td>1 Special Attack, 1 Speed</td>\n",
              "      <td>45 (5.9% with PokéBall, full HP)</td>\n",
              "      <td>...</td>\n",
              "      <td>Medium Slow</td>\n",
              "      <td>Dragon, Monster</td>\n",
              "      <td>87.5% male, 12.5% female</td>\n",
              "      <td>20 (4,884–5,140 steps)</td>\n",
              "      <td>58</td>\n",
              "      <td>64</td>\n",
              "      <td>58</td>\n",
              "      <td>80</td>\n",
              "      <td>65</td>\n",
              "      <td>80</td>\n",
              "    </tr>\n",
              "  </tbody>\n",
              "</table>\n",
              "<p>5 rows × 22 columns</p>\n",
              "</div>"
            ]
          }
        }
      ],
      "source": [],
      "id": "f5d5c28e-dcfa-40a8-9bc2-fec7c386c7c5"
    },
    {
      "cell_type": "markdown",
      "metadata": {},
      "source": [
        "## Etape 2\n",
        "\n",
        "Nous aimerions que vous récupériez également les images des 5 premiers pokémons et que vous les enregistriez dans un dossier\n",
        "\n",
        "Idée : Utilisez les modules `request` et [`shutil`](https://docs.python.org/3/library/shutil.html)\n",
        "\n",
        "*pour cette question, il faut que vous cherchiez de vous même certains éléments, tout n’est pas présent dans le TD*.\n",
        "\n",
        "{{% /box %}}\n",
        "\n",
        "# Exercice supplémentaire \\[BONUS\\]\n",
        "\n",
        "{{% box status=“exercise” title=“Les ministres sur wikipédia” icon=“fas fa-pencil-alt” %}}\n",
        "\n",
        "Scraper la liste des ministres français depuis wikipedia. Faire une graphique qui représente la distribution de leur âge.\n",
        "\n",
        "Si vous avez une solution satisfaisante, n’hésitez pas à la soumettre\n",
        "sur <a href=\"https://github.com/linogaliana/python-datascientist\" class=\"github\"><i class=\"fab fa-github\"></i></a>\n",
        "(car je n’ai pas encore testé…)\n",
        "\n",
        "{{% /box %}}\n",
        "\n",
        "# `Selenium` : mimer le comportement d’un utilisateur internet\n",
        "\n",
        "Jusqu’à présent, nous avons raisonné comme si nous connaissions toujours l’url qui nous intéresse. De plus, les pages que nous visitons sont “statiques”, elles ne dépendent pas d’une action ou d’une recherche de l’internaute.\n",
        "\n",
        "Nous allons voir à présent comment nous en sortir pour remplir des champs sur un site web et récupérer ce qui nous intéresse.\n",
        "\n",
        "L’avantage du package [Selenium](https://pypi.python.org/pypi/selenium) est d’obtenir des informations du site qui ne sont pas dans le code html mais qui apparaissent uniquement à la suite de l’exécution de script javascript en arrière plan.\n",
        "\n",
        "Selenium se comporte comme un utilisateur lambda sur internet : il clique sur des liens, il remplit des formulaires etc. Dans cet exemple, nous allons essayer de aller sur le site de [Bing Actualités](https://www.bing.com/news) et entrer dans la barre de recherche un sujet donné (Trump).\n",
        "\n",
        "L’installation de `selenium` nécessite d’avoir chromium qui est un\n",
        "navigateur Google Chrome minimaliste.\n",
        "La version de [chromedriver](https://sites.google.com/a/chromium.org/chromedriver/) doit être `>= 2.36` et dépend de la version de Chrome que vous avez sur votre poste.\n",
        "\n",
        "``` python\n",
        "!pip install selenium\n",
        "\n",
        "# Sur votre poste  \n",
        "# télécharger le chrome driver https://chromedriver.storage.googleapis.com/index.html?path=85.0.4183.83/\n",
        "\n",
        "# Sur google colab \n",
        "# https://stackoverflow.com/questions/51046454/how-can-we-use-selenium-webdriver-in-colab-research-google-com\n",
        "!apt-get update # to update ubuntu to correctly run apt install\n",
        "!apt install chromium-chromedriver\n",
        "!cp /usr/lib/chromium-browser/chromedriver /usr/bin\n",
        "import sys\n",
        "sys.path.insert(0,'/usr/lib/chromium-browser/chromedriver')\n",
        "```\n",
        "\n",
        "``` python\n",
        "import selenium\n",
        "path_to_web_driver = \"chromedriver\"\n",
        "```\n",
        "\n",
        "On va sur le site de Bing Actualités, et on lui indique le mot clé que nous souhaitons chercher.\n",
        "\n",
        "Dans cet exemple, on va voir que l’ordinateur va ouvrir une nouvelle fenêtre.\n",
        "\n",
        "``` python\n",
        "import time\n",
        "\n",
        "from selenium import webdriver\n",
        "from selenium.webdriver.common.keys import Keys\n",
        "\n",
        "chrome_options = webdriver.ChromeOptions()\n",
        "chrome_options.add_argument('--headless')\n",
        "chrome_options.add_argument('--no-sandbox')\n",
        "#chrome_options.add_argument('--verbose') \n",
        "#chrome_options.add_argument('--disable-dev-shm-usage')\n",
        "\n",
        "browser = webdriver.Chrome(executable_path=path_to_web_driver,\n",
        "                           options=chrome_options)\n",
        "\n",
        "browser.get('https://www.bing.com/news')\n",
        "\n",
        "# on cherche l'endroit où on peut remplir un formulaire\n",
        "# en utilisant les outils du navigateur > inspecter les éléments de la page\n",
        "# on voit que la barre de recherche est un élement du code appelé 'q' comme query\n",
        "# on lui demande de chercher cet élément\n",
        "\n",
        "search = browser.find_element_by_name('q')\n",
        "print(search)\n",
        "print([search.text, search.tag_name, search.id])\n",
        "\n",
        "# on envoie à cet endroit le mot qu'on aurait tapé dans la barre de recherche\n",
        "search.send_keys(\"Trump\")\n",
        "\n",
        "search_button = browser.find_element_by_xpath(\"//input[@id='sb_form_go']\")\n",
        "\n",
        "#search_button = browser.find_element_by_id('search_button_homepage')\n",
        " \n",
        "search_button.click()\n",
        "\n",
        "# on appuie sur le bouton \"Entrée\" Return en anglais\n",
        "#search.send_keys(Keys.RETURN)\n",
        "```\n",
        "\n",
        "``` python\n",
        "png = browser.get_screenshot_as_png()\n",
        "```\n",
        "\n",
        "``` python\n",
        "from IPython.display import Image\n",
        "Image(png, width='500')\n",
        "```\n",
        "\n",
        "On extrait les résultats.\n",
        "\n",
        "``` python\n",
        "from selenium.common.exceptions import StaleElementReferenceException\n",
        "links = browser.find_elements_by_xpath(\"//div/a[@class='title'][@href]\")\n",
        "\n",
        "results = []\n",
        "for link in links:\n",
        "    try:\n",
        "        url = link.get_attribute('href')\n",
        "    except StaleElementReferenceException as e:\n",
        "        print(\"Issue with '{0}' and '{1}'\".format(url, link))\n",
        "        print(\"It might be due to slow javascript which produces the HTML page.\")\n",
        "    results.append(url)\n",
        "\n",
        "len(results)\n",
        "```\n",
        "\n",
        "``` python\n",
        "# on a une pause de 10 secondes pour aller voir ce qui se passe sur la page internet\n",
        "# on demande de quitter le navigateur quand tout est fini\n",
        "browser.quit()\n",
        "```\n",
        "\n",
        "``` python\n",
        "print(results)\n",
        "```\n",
        "\n",
        "## Utiliser selenium pour jouer à 2048\n",
        "\n",
        "Dans cet exemple, on utilise le module pour que python appuie lui même sur les touches du clavier afin de jouer à 2048.\n",
        "\n",
        "Note : ce bout de code ne donne pas une solution à 2048, il permet juste de voir ce qu’on peut faire avec selenium\n",
        "\n",
        "``` python\n",
        "from selenium import webdriver\n",
        "from selenium.webdriver.common.keys import Keys\n",
        "\n",
        "# on ouvre la page internet du jeu 2048\n",
        "\n",
        "browser = webdriver.Chrome(executable_path=path_to_web_driver,\n",
        "                           options=chrome_options)\n",
        "browser.get('https://play2048.co//')\n",
        "\n",
        "# Ce qu'on va faire : une boucle qui répète inlassablement la même chose : haut / droite / bas / gauche\n",
        "\n",
        "# on commence par cliquer sur la page pour que les touches sachent \n",
        "browser.find_element_by_class_name('grid-container').click()\n",
        "grid = browser.find_element_by_tag_name('body')\n",
        "\n",
        "# pour savoir quels coups faire à quel moment, on crée un dictionnaire\n",
        "direction = {0: Keys.UP, 1: Keys.RIGHT, 2: Keys.DOWN, 3: Keys.LEFT}\n",
        "count = 0\n",
        "\n",
        "while True:\n",
        "    try: # on vérifie que le bouton \"Try again\" n'est pas là - sinon ça veut dire que le jeu est fini\n",
        "        retryButton = browser.find_element_by_link_text('Try again')\n",
        "        scoreElem = browser.find_element_by_class_name('score-container')\n",
        "        break\n",
        "    except:\n",
        "        #Do nothing.  Game is not over yet\n",
        "        pass\n",
        "    # on continue le jeu - on appuie sur la touche suivante pour le coup d'après\n",
        "    count += 1\n",
        "    grid.send_keys(direction[count % 4]) \n",
        "    time.sleep(0.1)\n",
        "\n",
        "print('Score final : {} en {} coups'.format(scoreElem.text, count))    \n",
        "browser.quit()\n",
        "```"
      ],
      "id": "18276009-dec5-483f-8c7e-a59b410ab5dc"
    }
  ],
  "nbformat": 4,
  "nbformat_minor": 5,
  "metadata": {
    "kernelspec": {
      "name": "python3",
      "display_name": "Python 3 (ipykernel)",
      "language": "python"
    },
    "language_info": {
      "name": "python",
      "codemirror_mode": {
        "name": "ipython",
        "version": "3"
      },
      "file_extension": ".py",
      "mimetype": "text/x-python",
      "nbconvert_exporter": "python",
      "pygments_lexer": "ipython3",
      "version": "3.9.13"
    }
  }
}