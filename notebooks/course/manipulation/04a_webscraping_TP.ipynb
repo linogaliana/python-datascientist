{
 "cells": [
  {
   "cell_type": "markdown",
   "id": "abb984cb",
   "metadata": {},
   "source": [
    "#  Webscraping avec python\n",
    "\n",
    "\n",
    "\n"
   ]
  },
  {
   "cell_type": "markdown",
   "id": "8e430292",
   "metadata": {},
   "source": [
    "Le [webscraping](https://fr.wikipedia.org/wiki/Web_scraping) désigne les techniques d'extraction du contenu des sites internet. C'est une pratique très utile pour toute personne souhaitant travailler sur des informations disponibles en ligne, mais n'existant pas forcément sous la forme d'un tableau *Excel*.\n",
    "\n",
    "Ce TP vous présente comment créer et exécuter des robots afin de recupérer rapidement des informations utiles à vos projets actuels ou futurs.\n",
    "\n",
    "Le *webscraping* a un certain nombre d'enjeux en termes de légalité, qui ne seront pas enseignés dans ce cours mais dans un cours de 3A à l'ENSAE. En particulier, la CNIL a publié en 2020 de nouvelles directives sur le *webscraping* reprécisant que toute donnée ne peut être réutilisée à l'insu de la personne à laquelle ces données appartiennent. \n",
    "\n",
    "Enfin, il est à noter que ce notebook est très fortement inspiré et réadapté à partir de [celui de Xavier Dupré](http://www.xavierdupre.fr/app/ensae_teaching_cs/helpsphinx/notebooks/TD2A_Eco_Web_Scraping.html), l'ancien professeur de la matière."
   ]
  },
  {
   "cell_type": "markdown",
   "id": "6b1072a7",
   "metadata": {},
   "source": [
    "# Un détour par le Web : comment fonctionne un site ?\n",
    "\n",
    "Même si ce TP ne vise pas à faire un cours de web, il vous faut néanmoins certaines bases sur la manière dont un site internet fonctionne afin de comprendre comment sont structurées les informations sur une page.\n",
    "\n",
    "Un site Web est un ensemble de pages codées en *HTML* qui permet de décrire à la fois le contenu et la forme d'une page *Web*.\n",
    "\n",
    "Pour voir cela, ouvrez n'importe quelle page web et faites un clic-droit dessus. \n",
    "- Sous `Chrome` <i class=\"fab fa-chrome\"></i> : Cliquez ensuite sur \"Affichez le code source de la page\" (<kbd>CTRL</kbd>+<kbd>U</kbd>) ;\n",
    "- Sous `Firefox` <i class=\"fab fa-firefox\"></i> : \"Code source de la page\" (<kbd>CTRL</kbd>+<kbd>MAJ</kbd>+<kbd>K</kbd>) ;\n",
    "- Sous `Edge` <i class=\"fab fa-edge\"></i> : \"Affichez la page source\" (<kbd>CTRL</kbd>+<kbd>U</kbd>) ;\n",
    "- Sous `Safari` <i class=\"fab fa-safari\"></i> : voir comment faire [ici](https://fr.wikihow.com/voir-le-code-source)"
   ]
  },
  {
   "cell_type": "markdown",
   "id": "6c17a1e0",
   "metadata": {},
   "source": [
    "## Les balises"
   ]
  },
  {
   "cell_type": "markdown",
   "id": "7bcb7615",
   "metadata": {},
   "source": [
    "Sur une page web, vous trouverez toujours à coup sûr des éléments comme ``<head>``, ``<title>``, etc. Il  s'agit des codes qui vous permettent de structurer le contenu d'une page *HTML* et qui s'appellent des **balises**. \n",
    "Citons, par exemple, les balises ``<p>``, ``<h1>``, ``<h2>``, ``<h3>``, ``<strong>`` ou ``<em>``.\n",
    "Le symbole ``< >`` est une balise : il sert à indiquer le début d'une partie. Le symbole ``</ >`` indique la fin de cette partie. La plupart des balises vont par paires, avec une *balise ouvrante* et une *balise fermante* (par exemple ``<p>`` et ``</p>``).\n",
    "\n",
    "### Exemple : les balise des tableaux\n",
    "\n",
    "| Balise      | Description                        |\n",
    "|-------------|------------------------------------|\n",
    "| `<table>`   | Tableau                            |\n",
    "| `<caption>` | Titre du tableau                   |\n",
    "| `<tr>`      | Ligne de tableau                   |\n",
    "| `<th>`      | Cellule d'en-tête                  |\n",
    "| `<td>`      | Cellule                            |\n",
    "| `<thead>`   | Section de l'en-tête du tableau    |\n",
    "| `<tbody>`   | Section du corps du tableau        |\n",
    "| `<tfoot>`   | Section du pied du tableau         |"
   ]
  },
  {
   "cell_type": "markdown",
   "id": "c6d35a28",
   "metadata": {},
   "source": [
    "**Application : un tableau en HTML**\n",
    "\n",
    "Le code *HTML* du tableau suivant\n",
    "\n",
    "```{=html}\n",
    "<table>\n",
    "<caption> Le Titre de mon tableau </caption>\n",
    "\n",
    "   <tr>\n",
    "      <th>Prénom</th>\n",
    "      <th>Nom</th>\n",
    "      <th>Profession</th>\n",
    "   </tr>\n",
    "   <tr>\n",
    "      <td>Mike </td>\n",
    "      <td>Stuntman</td>\n",
    "      <td>Cascadeur</td>\n",
    "   </tr>\n",
    "   <tr>\n",
    "      <td>Mister</td>\n",
    "      <td>Pink</td>\n",
    "      <td>Gangster</td>\n",
    "   </tr>\n",
    "</table>\n",
    "```\n",
    "\n",
    "Donnera dans le navigateur :\n",
    "\n",
    "<table>\n",
    "<caption> Le Titre de mon tableau </caption>\n",
    "\n",
    "   <tr>\n",
    "      <th>Prénom</th>\n",
    "      <th>Nom</th>\n",
    "      <th>Profession</th>\n",
    "   </tr>\n",
    "   <tr>\n",
    "      <td>Mike </td>\n",
    "      <td>Stuntman</td>\n",
    "      <td>Cascadeur</td>\n",
    "   </tr>\n",
    "   <tr>\n",
    "      <td>Mister</td>\n",
    "      <td>Pink</td>\n",
    "      <td>Gangster</td>\n",
    "   </tr>\n",
    "</table>"
   ]
  },
  {
   "cell_type": "markdown",
   "id": "c0bba7f6",
   "metadata": {},
   "source": [
    "### Parent et enfant\n",
    "\n",
    "Dans le cadre du langage HTML, les termes de parent (*parent*) et enfant (*child*) servent à désigner des élements emboîtés les uns dans les autres. Dans la construction suivante, par exemple :\n",
    "\n",
    "```{=html}\n",
    "< div> \n",
    "    < p>\n",
    "       bla,bla\n",
    "    < /p>\n",
    "< /div>\n",
    "```\n",
    "\n",
    "Sur la page web, cela apparaitra de la manière suivante : \n",
    "\n",
    "<div> \n",
    "    <p>\n",
    "       bla,bla\n",
    "    </p>\n",
    "</div>"
   ]
  },
  {
   "cell_type": "markdown",
   "id": "8af59d79",
   "metadata": {},
   "source": [
    "On dira que l'élément ``<div>`` est le parent de l'élément ``<p>`` tandis que l'élément ``<p>`` est l'enfant de l'élément ``<div>``.\n"
   ]
  },
  {
   "cell_type": "markdown",
   "id": "178be74b",
   "metadata": {},
   "source": [
    ":comment: *Mais pourquoi apprendre ça pour \"scraper\", me direz-vous ?*\n",
    "\n",
    "Parce que, pour bien récupérer les informations d'un site internet, il faut pouvoir comprendre sa structure et donc son code HTML. Les fonctions python qui servent au scrapping sont principalement construites pour vous permettre de naviguer entre les balises."
   ]
  },
  {
   "cell_type": "markdown",
   "id": "96bd2e63",
   "metadata": {},
   "source": [
    "# Scraper avec python: le package `BeautifulSoup`\n",
    "\n",
    "## Les packages disponibles\n",
    "\n",
    "Nous allons essentiellement utiliser le package [BeautifulSoup4](https://www.crummy.com/software/BeautifulSoup/bs4/doc/) pour ce cours, mais d'autres packages existent (Selenium, Scrapy...). Il s'utilise souvent en conjonction avec\n",
    "[urllib](https://docs.python.org/3/library/urllib.html#module-urllib)\n",
    "\n",
    "`BeautifulSoup` sera suffisant quand vous voudrez travailler sur des pages HTML statiques. Dès que les informations que vous recherchez sont générées via l'exécution de scripts [Javascript](https://fr.wikipedia.org/wiki/JavaScript), il vous faudra passer par des outils comme [Selenium](https://selenium-python.readthedocs.io/).\n",
    "\n",
    "De même, si vous ne connaissez pas l'URL, il faudra passer par un framework comme [Scrapy](https://scrapy.org/), qui passe facilement d'une page à une autre (\"crawl\"). Scrapy est plus complexe à manipuler que BeautifulSoup : si vous voulez plus de détails, rendez-vous sur la page du [tutoriel Scrapy](https://doc.scrapy.org/en/latest/intro/tutorial.html).\n",
    "\n",
    "Le *webscraping* est un domaine où la reproductibilité est compliquée à mettre en oeuvre. Une page *web* évolue\n",
    "potentiellement régulièrement et d'une page web à l'autre, la structure peut\n",
    "être très différente ce qui rend certains codes difficilement exportables.\n",
    "Par conséquent, la meilleure manière d'avoir un programme fonctionnel est\n",
    "de comprendre la structure d'une page web et dissocier les éléments exportables\n",
    "à d'autres cas d'usages des requêtes *ad hoc*. \n",
    "\n",
    "\n"
   ]
  },
  {
   "cell_type": "code",
   "execution_count": null,
   "id": "f6a487df",
   "metadata": {},
   "outputs": [],
   "source": [
    "import urllib\n",
    "import bs4\n",
    "import pandas\n",
    "from urllib import request"
   ]
  },
  {
   "cell_type": "markdown",
   "id": "069033c3",
   "metadata": {},
   "source": [
    "## Récupérer le contenu d'une page HTML\n",
    "\n",
    "On va commencer doucement. Prenons une page wikipedia, par exemple celle de la Ligue 1 de football : [Championnat de France de football 2019-2020](https://fr.wikipedia.org/wiki/Championnat_de_France_de_football_2019-2020). On va souhaiter récupérer la liste des équipes, ainsi que les url des pages Wikipedia de ces équipes.\n",
    "\n",
    "\n"
   ]
  },
  {
   "cell_type": "code",
   "execution_count": null,
   "id": "2b1881dc",
   "metadata": {},
   "outputs": [],
   "source": [
    "type(request_text)"
   ]
  },
  {
   "cell_type": "markdown",
   "id": "c1bd8749",
   "metadata": {},
   "source": [
    "```\n",
    "## <class 'bytes'>\n",
    "```\n"
   ]
  },
  {
   "cell_type": "code",
   "execution_count": null,
   "id": "30c39e5e",
   "metadata": {},
   "outputs": [],
   "source": [
    "# Etape 2 : utiliser le package BeautifulSoup\n",
    "# qui \"comprend\" les balises contenues dans la chaine de caractères renvoyée par la fonction request\n",
    "\n",
    "page = bs4.BeautifulSoup(request_text, \"lxml\")\n",
    "\n",
    "#print(page)"
   ]
  },
  {
   "cell_type": "markdown",
   "id": "1e4cbe00",
   "metadata": {},
   "source": [
    "Si on print l'objet, page créée avec BeautifulSoup, on voit que ce n'est plus une chaine de caractères mais bien une page HTML avec des balises. On peut à présent chercher des élements à l'intérieur de ces balises.\n",
    "\n",
    "## La méthode `find`\n",
    "\n",
    "Par exemple, si on veut connaître le titre de la page, on utilise la méthode ``.find`` et on lui demande *\"title\"*\n"
   ]
  },
  {
   "cell_type": "code",
   "execution_count": null,
   "id": "330731b2",
   "metadata": {},
   "outputs": [],
   "source": [
    "print(page.find(\"title\"))"
   ]
  },
  {
   "cell_type": "markdown",
   "id": "b4be7e0d",
   "metadata": {},
   "source": [
    "```\n",
    "## <title>Championnat de France de football 2019-2020 — Wikipédia</title>\n",
    "```\n",
    "\n",
    "La methode ``.find`` ne renvoie que la première occurence de l'élément. \n",
    "\n",
    "Pour vous en assurer vous pouvez :\n",
    "- copier le bout de code source obtenu, \n",
    "- le coller  dans une cellule de votre notebook\n",
    "- et passer la cellule en \"Markdown\""
   ]
  },
  {
   "cell_type": "markdown",
   "id": "8608ad13",
   "metadata": {},
   "source": [
    "La cellule avec le copier-coller du code source donne : \n"
   ]
  },
  {
   "cell_type": "code",
   "execution_count": null,
   "id": "af7201af",
   "metadata": {},
   "outputs": [],
   "source": [
    "print(page.find(\"table\"))"
   ]
  },
  {
   "cell_type": "markdown",
   "id": "47cc04db",
   "metadata": {},
   "source": [
    "```\n",
    "## <table><caption style=\"background:#99cc99;color:#000000;\">Généralités</caption><tbody><tr>\n",
    "## <th scope=\"row\" style=\"width:10.5em;\">Sport</th>\n",
    "## <td>\n",
    "## <a href=\"/wiki/Football\" title=\"Football\">Football</a></td>\n",
    "## </tr>\n",
    "## <tr>\n",
    "## <th scope=\"row\" style=\"width:10.5em;\">Organisateur(s)</th>\n",
    "## <td>\n",
    "## <a href=\"/wiki/Ligue_de_football_professionnel\" title=\"Ligue de football professionnel\">LFP</a></td>\n",
    "## </tr>\n",
    "## <tr>\n",
    "## <th scope=\"row\" style=\"width:10.5em;\">Édition</th>\n",
    "## <td>\n",
    "## <abbr class=\"abbr\" title=\"Quatre-vingt-deuxième (huitante-deuxième / octante-deuxième)\">82<sup>e</sup></abbr></td>\n",
    "## </tr>\n",
    "## <tr>\n",
    "## <th scope=\"row\" style=\"width:10.5em;\">Lieu(x)</th>\n",
    "## <td>\n",
    "## <span class=\"datasortkey\" data-sort-value=\"France\"><span class=\"flagicon\"><a class=\"image\" href=\"/wiki/Fichier:Flag_of_France.svg\" title=\"Drapeau de la France\"><img alt=\"Drapeau de la France\" class=\"noviewer thumbborder\" data-file-height=\"600\" data-file-width=\"900\" decoding=\"async\" height=\"13\" src=\"//upload.wikimedia.org/wikipedia/commons/thumb/c/c3/Flag_of_France.svg/20px-Flag_of_France.svg.png\" srcset=\"//upload.wikimedia.org/wikipedia/commons/thumb/c/c3/Flag_of_France.svg/30px-Flag_of_France.svg.png 1.5x, //upload.wikimedia.org/wikipedia/commons/thumb/c/c3/Flag_of_France.svg/40px-Flag_of_France.svg.png 2x\" width=\"20\"/></a> </span><a href=\"/wiki/France\" title=\"France\">France</a></span> et <br/><span class=\"datasortkey\" data-sort-value=\"Monaco\"><span class=\"flagicon\"><a class=\"image\" href=\"/wiki/Fichier:Flag_of_Monaco.svg\" title=\"Drapeau de Monaco\"><img alt=\"Drapeau de Monaco\" class=\"noviewer thumbborder\" data-file-height=\"800\" data-file-width=\"1000\" decoding=\"async\" height=\"16\" src=\"//upload.wikimedia.org/wikipedia/commons/thumb/e/ea/Flag_of_Monaco.svg/20px-Flag_of_Monaco.svg.png\" srcset=\"//upload.wikimedia.org/wikipedia/commons/thumb/e/ea/Flag_of_Monaco.svg/30px-Flag_of_Monaco.svg.png 1.5x, //upload.wikimedia.org/wikipedia/commons/thumb/e/ea/Flag_of_Monaco.svg/40px-Flag_of_Monaco.svg.png 2x\" width=\"20\"/></a> </span><a href=\"/wiki/Monaco\" title=\"Monaco\">Monaco</a></span></td>\n",
    "## </tr>\n",
    "## <tr>\n",
    "## <th scope=\"row\" style=\"width:10.5em;\">Date</th>\n",
    "## <td>\n",
    "## Du <time class=\"nowrap date-lien\" data-sort-value=\"2019-08-09\" datetime=\"2019-08-09\"><a href=\"/wiki/9_ao%C3%BBt_en_sport\" title=\"9 août en sport\">9</a> <a class=\"mw-redirect\" href=\"/wiki/Ao%C3%BBt_2019_en_sport\" title=\"Août 2019 en sport\">août</a> <a href=\"/wiki/2019_en_football\" title=\"2019 en football\">2019</a></time><br/>au <time class=\"nowrap date-lien\" data-sort-value=\"2020-03-08\" datetime=\"2020-03-08\"><a href=\"/wiki/8_mars_en_sport\" title=\"8 mars en sport\">8 mars</a> <a href=\"/wiki/2020_en_football\" title=\"2020 en football\">2020</a></time> <small>(arrêt définitif)</small></td>\n",
    "## </tr>\n",
    "## <tr>\n",
    "## <th scope=\"row\" style=\"width:10.5em;\">Participants</th>\n",
    "## <td>\n",
    "## 20 équipes</td>\n",
    "## </tr>\n",
    "## <tr>\n",
    "## <th scope=\"row\" style=\"width:10.5em;\">Matchs joués</th>\n",
    "## <td>\n",
    "## 279 (sur 380 prévus)</td>\n",
    "## </tr>\n",
    "## <tr>\n",
    "## <th scope=\"row\" style=\"width:10.5em;\">Site web officiel</th>\n",
    "## <td>\n",
    "## <a class=\"external text\" href=\"https://www.ligue1.fr/\" rel=\"nofollow\">Site officiel</a></td>\n",
    "## </tr></tbody></table>\n",
    "```\n",
    "\n",
    "ce qui est le texte source permettant de générer le tableau suivant:\n"
   ]
  },
  {
   "cell_type": "code",
   "execution_count": null,
   "id": "cfede1b8",
   "metadata": {},
   "outputs": [],
   "source": [
    "page.find(\"table\")"
   ]
  },
  {
   "cell_type": "markdown",
   "id": "15f7c207",
   "metadata": {},
   "source": [
    "<table><caption style=\"background:#99cc99;color:#000000;\">Généralités</caption><tbody><tr>\n",
    "<th scope=\"row\" style=\"width:10.5em;\">Sport</th>\n",
    "<td>\n",
    "<a href=\"/wiki/Football\" title=\"Football\">Football</a></td>\n",
    "</tr>\n",
    "<tr>\n",
    "<th scope=\"row\" style=\"width:10.5em;\">Organisateur(s)</th>\n",
    "<td>\n",
    "<a href=\"/wiki/Ligue_de_football_professionnel\" title=\"Ligue de football professionnel\">LFP</a></td>\n",
    "</tr>\n",
    "<tr>\n",
    "<th scope=\"row\" style=\"width:10.5em;\">Édition</th>\n",
    "<td>\n",
    "<abbr class=\"abbr\" title=\"Quatre-vingt-deuxième (huitante-deuxième / octante-deuxième)\">82<sup>e</sup></abbr></td>\n",
    "</tr>\n",
    "<tr>\n",
    "<th scope=\"row\" style=\"width:10.5em;\">Lieu(x)</th>\n",
    "<td>\n",
    "<span class=\"datasortkey\" data-sort-value=\"France\"><span class=\"flagicon\"><a class=\"image\" href=\"/wiki/Fichier:Flag_of_France.svg\" title=\"Drapeau de la France\"><img alt=\"Drapeau de la France\" class=\"noviewer thumbborder\" data-file-height=\"600\" data-file-width=\"900\" decoding=\"async\" height=\"13\" src=\"//upload.wikimedia.org/wikipedia/commons/thumb/c/c3/Flag_of_France.svg/20px-Flag_of_France.svg.png\" srcset=\"//upload.wikimedia.org/wikipedia/commons/thumb/c/c3/Flag_of_France.svg/30px-Flag_of_France.svg.png 1.5x, //upload.wikimedia.org/wikipedia/commons/thumb/c/c3/Flag_of_France.svg/40px-Flag_of_France.svg.png 2x\" width=\"20\"/></a> </span><a href=\"/wiki/France\" title=\"France\">France</a></span> et <br/><span class=\"datasortkey\" data-sort-value=\"Monaco\"><span class=\"flagicon\"><a class=\"image\" href=\"/wiki/Fichier:Flag_of_Monaco.svg\" title=\"Drapeau de Monaco\"><img alt=\"Drapeau de Monaco\" class=\"noviewer thumbborder\" data-file-height=\"800\" data-file-width=\"1000\" decoding=\"async\" height=\"16\" src=\"//upload.wikimedia.org/wikipedia/commons/thumb/e/ea/Flag_of_Monaco.svg/20px-Flag_of_Monaco.svg.png\" srcset=\"//upload.wikimedia.org/wikipedia/commons/thumb/e/ea/Flag_of_Monaco.svg/30px-Flag_of_Monaco.svg.png 1.5x, //upload.wikimedia.org/wikipedia/commons/thumb/e/ea/Flag_of_Monaco.svg/40px-Flag_of_Monaco.svg.png 2x\" width=\"20\"/></a> </span><a href=\"/wiki/Monaco\" title=\"Monaco\">Monaco</a></span></td>\n",
    "</tr>\n",
    "<tr>\n",
    "<th scope=\"row\" style=\"width:10.5em;\">Date</th>\n",
    "<td>\n",
    "Du <time class=\"nowrap date-lien\" data-sort-value=\"2019-08-09\" datetime=\"2019-08-09\"><a href=\"/wiki/9_ao%C3%BBt_en_sport\" title=\"9 août en sport\">9</a> <a class=\"mw-redirect\" href=\"/wiki/Ao%C3%BBt_2019_en_sport\" title=\"Août 2019 en sport\">août</a> <a href=\"/wiki/2019_en_football\" title=\"2019 en football\">2019</a></time><br/>au <time class=\"nowrap date-lien\" data-sort-value=\"2020-03-08\" datetime=\"2020-03-08\"><a href=\"/wiki/8_mars_en_sport\" title=\"8 mars en sport\">8 mars</a> <a href=\"/wiki/2020_en_football\" title=\"2020 en football\">2020</a></time> <small>(arrêt définitif)</small></td>\n",
    "</tr>\n",
    "<tr>\n",
    "<th scope=\"row\" style=\"width:10.5em;\">Participants</th>\n",
    "<td>\n",
    "20 équipes</td>\n",
    "</tr>\n",
    "<tr>\n",
    "<th scope=\"row\" style=\"width:10.5em;\">Matchs joués</th>\n",
    "<td>\n",
    "279 (sur 380 prévus)</td>\n",
    "</tr>\n",
    "<tr>\n",
    "<th scope=\"row\" style=\"width:10.5em;\">Site web officiel</th>\n",
    "<td>\n",
    "<a class=\"external text\" href=\"https://www.ligue1.fr/\" rel=\"nofollow\">Site officiel</a></td>\n",
    "</tr></tbody></table>"
   ]
  },
  {
   "cell_type": "markdown",
   "id": "25d62120",
   "metadata": {},
   "source": [
    "## La méthode `findAll`\n",
    "\n",
    "Pour trouver toutes les occurences, on utilise ``.findAll()``.\n"
   ]
  },
  {
   "cell_type": "code",
   "execution_count": null,
   "id": "b17824de",
   "metadata": {},
   "outputs": [],
   "source": [
    "print(\"Il y a\", len(page.findAll(\"table\")), \"éléments dans la page qui sont des <table>\")"
   ]
  },
  {
   "cell_type": "markdown",
   "id": "881290ac",
   "metadata": {},
   "source": [
    "```\n",
    "## Il y a 34 éléments dans la page qui sont des <table>\n",
    "```"
   ]
  },
  {
   "cell_type": "markdown",
   "id": "cfa85b99",
   "metadata": {},
   "source": [
    "# Exercice guidé : obtenir la liste des équipes de Ligue 1\n",
    "\n",
    "Dans le premier paragraphe de la page \"Participants\", on a le tableau avec les résultats de l'année. "
   ]
  },
  {
   "cell_type": "markdown",
   "id": "c6c50947",
   "metadata": {},
   "source": [
    "Le but est de récupérer les informations contenues dans ce tableau. \n",
    "\n",
    "Pour cela, nous allons procéder en 6 étapes:\n",
    "\n",
    "1. Trouver le tableau\n",
    "2. Récupérer chaque ligne du table\n",
    "3. Nettoyer les sorties en ne gardant que le texte sur une ligne\n",
    "4. Généraliser sur toutes les lignes\n",
    "5. Récupérer les entêtes du tableau\n",
    "6. Finalisation du tableau"
   ]
  },
  {
   "cell_type": "markdown",
   "id": "cdad83ec",
   "metadata": {},
   "source": [
    ":one:\n",
    "Trouver le tableau\n"
   ]
  },
  {
   "cell_type": "code",
   "execution_count": null,
   "id": "bb94e7c4",
   "metadata": {},
   "outputs": [],
   "source": [
    "# on identifie le tableau en question : c'est le premier qui a cette classe \"wikitable sortable\"\n",
    "tableau_participants = page.find('table', {'class' : 'wikitable sortable'})\n",
    "tableau_participants"
   ]
  },
  {
   "cell_type": "markdown",
   "id": "07945444",
   "metadata": {},
   "source": [
    "<table class=\"wikitable sortable\" style=\"font-size:90%;line-height:15px;text-align:center\">\n",
    "<tbody><tr>\n",
    "<th scope=\"col\">Club\n",
    "</th>\n",
    "<th scope=\"col\">Dernière<br/>montée\n",
    "</th>\n",
    "<th scope=\"col\">Budget<sup class=\"reference\" id=\"cite_ref-3\"><a href=\"#cite_note-3\"><span class=\"cite_crochet\">[</span>3<span class=\"cite_crochet\">]</span></a></sup><br/>en M<a href=\"/wiki/Euro\" title=\"Euro\">€</a>\n",
    "</th>\n",
    "<th scope=\"col\">Classement<br/><a href=\"/wiki/Championnat_de_France_de_football_2018-2019\" title=\"Championnat de France de football 2018-2019\">2018-2019</a>\n",
    "</th>\n",
    "<th scope=\"col\">Entraîneur\n",
    "</th>\n",
    "<th scope=\"col\">Depuis\n",
    "</th>\n",
    "<th scope=\"col\">Stade\n",
    "</th>\n",
    "<th scope=\"col\">Capacité<br/>en L1<sup class=\"reference\" id=\"cite_ref-4\"><a href=\"#cite_note-4\"><span class=\"cite_crochet\">[</span>4<span class=\"cite_crochet\">]</span></a></sup>\n",
    "</th>\n",
    "<th scope=\"col\">Nombre<br/>de saisons<br/>en L1\n",
    "</th></tr>\n",
    "<tr bgcolor=\"#97DEFF\">\n",
    "<td><a href=\"/wiki/Paris_Saint-Germain_Football_Club\" title=\"Paris Saint-Germain Football Club\">Paris Saint-Germain</a>\n",
    "</td>\n",
    "<td>1974\n",
    "</td>\n",
    "<td>637\n",
    "</td>\n",
    "<td><span data-sort-value=\"101 !\"></span><abbr class=\"abbr\" title=\"Premier\">1<sup>er</sup></abbr>\n",
    "</td>\n",
    "<td align=\"left\"><span class=\"flagicon\"><a class=\"image\" href=\"/wiki/Fichier:Flag_of_Germany.svg\" title=\"Drapeau : Allemagne\"><img alt=\"\" class=\"noviewer thumbborder\" data-file-height=\"600\" data-file-width=\"1000\" decoding=\"async\" height=\"12\" src=\"//upload.wikimedia.org/wikipedia/commons/thumb/b/ba/Flag_of_Germany.svg/20px-Flag_of_Germany.svg.png\" srcset=\"//upload.wikimedia.org/wikipedia/commons/thumb/b/ba/Flag_of_Germany.svg/30px-Flag_of_Germany.svg.png 1.5x, //upload.wikimedia.org/wikipedia/commons/thumb/b/ba/Flag_of_Germany.svg/40px-Flag_of_Germany.svg.png 2x\" width=\"20\"/></a></span> <a href=\"/wiki/Thomas_Tuchel\" title=\"Thomas Tuchel\">Thomas Tuchel</a>\n",
    "</td>\n",
    "<td>2018\n",
    "</td>\n",
    "<td><a href=\"/wiki/Parc_des_Princes\" title=\"Parc des Princes\">Parc des Princes</a>\n",
    "</td>\n",
    "<td>47 929\n",
    "</td>\n",
    "<td>46\n",
    "</td></tr>\n",
    "<tr bgcolor=\"#97DEFF\">\n",
    "<td><a href=\"/wiki/LOSC_Lille\" title=\"LOSC Lille\">LOSC Lille</a>\n",
    "</td>\n",
    "<td>2000\n",
    "</td>\n",
    "<td>120\n",
    "</td>\n",
    "<td><span data-sort-value=\"102 !\"></span><abbr class=\"abbr\" title=\"Deuxième\">2<sup>e</sup></abbr>\n",
    "</td>\n",
    "<td align=\"left\"><span class=\"flagicon\"><a class=\"image\" href=\"/wiki/Fichier:Flag_of_France.svg\" title=\"Drapeau : France\"><img alt=\"\" class=\"noviewer thumbborder\" data-file-height=\"600\" data-file-width=\"900\" decoding=\"async\" height=\"13\" src=\"//upload.wikimedia.org/wikipedia/commons/thumb/c/c3/Flag_of_France.svg/20px-Flag_of_France.svg.png\" srcset=\"//upload.wikimedia.org/wikipedia/commons/thumb/c/c3/Flag_of_France.svg/30px-Flag_of_France.svg.png 1.5x, //upload.wikimedia.org/wikipedia/commons/thumb/c/c3/Flag_of_France.svg/40px-Flag_of_France.svg.png 2x\" width=\"20\"/></a></span> <a href=\"/wiki/Christophe_Galtier\" title=\"Christophe Galtier\">Christophe Galtier</a>\n",
    "</td>\n",
    "<td>2017\n",
    "</td>\n",
    "<td><a href=\"/wiki/Stade_Pierre-Mauroy\" title=\"Stade Pierre-Mauroy\">Stade Pierre-Mauroy</a>\n",
    "</td>\n",
    "<td>49 712\n",
    "</td>\n",
    "<td>59\n",
    "</td></tr>\n",
    "<tr bgcolor=\"#97DEFF\">\n",
    "<td><a href=\"/wiki/Olympique_lyonnais\" title=\"Olympique lyonnais\">Olympique lyonnais</a>\n",
    "</td>\n",
    "<td>1989\n",
    "</td>\n",
    "<td>310\n",
    "</td>\n",
    "<td><span data-sort-value=\"103 !\"></span><abbr class=\"abbr\" title=\"Troisième\">3<sup>e</sup></abbr>\n",
    "</td>\n",
    "<td align=\"left\"><span class=\"flagicon\"><a class=\"image\" href=\"/wiki/Fichier:Flag_of_France.svg\" title=\"Drapeau : France\"><img alt=\"\" class=\"noviewer thumbborder\" data-file-height=\"600\" data-file-width=\"900\" decoding=\"async\" height=\"13\" src=\"//upload.wikimedia.org/wikipedia/commons/thumb/c/c3/Flag_of_France.svg/20px-Flag_of_France.svg.png\" srcset=\"//upload.wikimedia.org/wikipedia/commons/thumb/c/c3/Flag_of_France.svg/30px-Flag_of_France.svg.png 1.5x, //upload.wikimedia.org/wikipedia/commons/thumb/c/c3/Flag_of_France.svg/40px-Flag_of_France.svg.png 2x\" width=\"20\"/></a></span> <a href=\"/wiki/Rudi_Garcia\" title=\"Rudi Garcia\">Rudi Garcia</a>\n",
    "</td>\n",
    "<td>2019\n",
    "</td>\n",
    "<td><a href=\"/wiki/Parc_Olympique_lyonnais\" title=\"Parc Olympique lyonnais\">Groupama Stadium</a>\n",
    "</td>\n",
    "<td>57 206\n",
    "</td>\n",
    "<td>60\n",
    "</td></tr>\n",
    "<tr bgcolor=\"#FFE052\">\n",
    "<td><a href=\"/wiki/Association_sportive_de_Saint-%C3%89tienne\" title=\"Association sportive de Saint-Étienne\">AS Saint-Étienne</a>\n",
    "</td>\n",
    "<td>2004\n",
    "</td>\n",
    "<td>100\n",
    "</td>\n",
    "<td><span data-sort-value=\"104 !\"></span><abbr class=\"abbr\" title=\"Quatrième\">4<sup>e</sup></abbr>\n",
    "</td>\n",
    "<td align=\"left\"><span class=\"flagicon\"><a class=\"image\" href=\"/wiki/Fichier:Flag_of_France.svg\" title=\"Drapeau : France\"><img alt=\"\" class=\"noviewer thumbborder\" data-file-height=\"600\" data-file-width=\"900\" decoding=\"async\" height=\"13\" src=\"//upload.wikimedia.org/wikipedia/commons/thumb/c/c3/Flag_of_France.svg/20px-Flag_of_France.svg.png\" srcset=\"//upload.wikimedia.org/wikipedia/commons/thumb/c/c3/Flag_of_France.svg/30px-Flag_of_France.svg.png 1.5x, //upload.wikimedia.org/wikipedia/commons/thumb/c/c3/Flag_of_France.svg/40px-Flag_of_France.svg.png 2x\" width=\"20\"/></a></span> <a href=\"/wiki/Claude_Puel\" title=\"Claude Puel\">Claude Puel</a>\n",
    "</td>\n",
    "<td>2019\n",
    "</td>\n",
    "<td><a href=\"/wiki/Stade_Geoffroy-Guichard\" title=\"Stade Geoffroy-Guichard\">Stade Geoffroy-Guichard</a>\n",
    "</td>\n",
    "<td>41 965\n",
    "</td>\n",
    "<td>66\n",
    "</td></tr>\n",
    "<tr>\n",
    "<td><a href=\"/wiki/Olympique_de_Marseille\" title=\"Olympique de Marseille\">Olympique de Marseille</a>\n",
    "</td>\n",
    "<td>1996\n",
    "</td>\n",
    "<td>110\n",
    "</td>\n",
    "<td><span data-sort-value=\"105 !\"></span><abbr class=\"abbr\" title=\"Cinquième\">5<sup>e</sup></abbr>\n",
    "</td>\n",
    "<td align=\"left\"><span class=\"flagicon\"><a class=\"image\" href=\"/wiki/Fichier:Flag_of_Portugal.svg\" title=\"Drapeau : Portugal\"><img alt=\"\" class=\"noviewer thumbborder\" data-file-height=\"400\" data-file-width=\"600\" decoding=\"async\" height=\"13\" src=\"//upload.wikimedia.org/wikipedia/commons/thumb/5/5c/Flag_of_Portugal.svg/20px-Flag_of_Portugal.svg.png\" srcset=\"//upload.wikimedia.org/wikipedia/commons/thumb/5/5c/Flag_of_Portugal.svg/30px-Flag_of_Portugal.svg.png 1.5x, //upload.wikimedia.org/wikipedia/commons/thumb/5/5c/Flag_of_Portugal.svg/40px-Flag_of_Portugal.svg.png 2x\" width=\"20\"/></a></span> <a href=\"/wiki/Andr%C3%A9_Villas-Boas\" title=\"André Villas-Boas\">André Villas-Boas</a>\n",
    "</td>\n",
    "<td>2019\n",
    "</td>\n",
    "<td><a href=\"/wiki/Stade_V%C3%A9lodrome\" title=\"Stade Vélodrome\">Orange Vélodrome</a>\n",
    "</td>\n",
    "<td>66 226\n",
    "</td>\n",
    "<td>69\n",
    "</td></tr>\n",
    "<tr>\n",
    "<td><a href=\"/wiki/Montpellier_H%C3%A9rault_Sport_Club\" title=\"Montpellier Hérault Sport Club\">Montpellier HSC</a>\n",
    "</td>\n",
    "<td>2009\n",
    "</td>\n",
    "<td>40\n",
    "</td>\n",
    "<td><span data-sort-value=\"106 !\"></span><abbr class=\"abbr\" title=\"Sixième\">6<sup>e</sup></abbr>\n",
    "</td>\n",
    "<td align=\"left\"><span class=\"flagicon\"><a class=\"image\" href=\"/wiki/Fichier:Flag_of_Armenia.svg\" title=\"Drapeau : Arménie\"><img alt=\"\" class=\"noviewer thumbborder\" data-file-height=\"600\" data-file-width=\"1200\" decoding=\"async\" height=\"10\" src=\"//upload.wikimedia.org/wikipedia/commons/thumb/2/2f/Flag_of_Armenia.svg/20px-Flag_of_Armenia.svg.png\" srcset=\"//upload.wikimedia.org/wikipedia/commons/thumb/2/2f/Flag_of_Armenia.svg/30px-Flag_of_Armenia.svg.png 1.5x, //upload.wikimedia.org/wikipedia/commons/thumb/2/2f/Flag_of_Armenia.svg/40px-Flag_of_Armenia.svg.png 2x\" width=\"20\"/></a></span><span class=\"flagicon\"><a class=\"image\" href=\"/wiki/Fichier:Flag_of_France.svg\" title=\"Drapeau : France\"><img alt=\"\" class=\"noviewer thumbborder\" data-file-height=\"600\" data-file-width=\"900\" decoding=\"async\" height=\"13\" src=\"//upload.wikimedia.org/wikipedia/commons/thumb/c/c3/Flag_of_France.svg/20px-Flag_of_France.svg.png\" srcset=\"//upload.wikimedia.org/wikipedia/commons/thumb/c/c3/Flag_of_France.svg/30px-Flag_of_France.svg.png 1.5x, //upload.wikimedia.org/wikipedia/commons/thumb/c/c3/Flag_of_France.svg/40px-Flag_of_France.svg.png 2x\" width=\"20\"/></a></span> <a href=\"/wiki/Michel_Der_Zakarian\" title=\"Michel Der Zakarian\">Michel Der Zakarian</a>\n",
    "</td>\n",
    "<td>2017\n",
    "</td>\n",
    "<td><a href=\"/wiki/Stade_de_la_Mosson\" title=\"Stade de la Mosson\">Stade de la Mosson</a>\n",
    "</td>\n",
    "<td>22 000\n",
    "</td>\n",
    "<td>27\n",
    "</td></tr>\n",
    "<tr>\n",
    "<td><a href=\"/wiki/Olympique_Gymnaste_Club_Nice\" title=\"Olympique Gymnaste Club Nice\">OGC Nice</a>\n",
    "</td>\n",
    "<td>2002\n",
    "</td>\n",
    "<td>50\n",
    "</td>\n",
    "<td><span data-sort-value=\"107 !\"></span><abbr class=\"abbr\" title=\"Septième\">7<sup>e</sup></abbr>\n",
    "</td>\n",
    "<td align=\"left\"><span class=\"flagicon\"><a class=\"image\" href=\"/wiki/Fichier:Flag_of_France.svg\" title=\"Drapeau : France\"><img alt=\"\" class=\"noviewer thumbborder\" data-file-height=\"600\" data-file-width=\"900\" decoding=\"async\" height=\"13\" src=\"//upload.wikimedia.org/wikipedia/commons/thumb/c/c3/Flag_of_France.svg/20px-Flag_of_France.svg.png\" srcset=\"//upload.wikimedia.org/wikipedia/commons/thumb/c/c3/Flag_of_France.svg/30px-Flag_of_France.svg.png 1.5x, //upload.wikimedia.org/wikipedia/commons/thumb/c/c3/Flag_of_France.svg/40px-Flag_of_France.svg.png 2x\" width=\"20\"/></a></span> <a href=\"/wiki/Patrick_Vieira\" title=\"Patrick Vieira\">Patrick Vieira</a>\n",
    "</td>\n",
    "<td>2018\n",
    "</td>\n",
    "<td><a href=\"/wiki/Allianz_Riviera\" title=\"Allianz Riviera\">Allianz Riviera</a>\n",
    "</td>\n",
    "<td>35 596\n",
    "</td>\n",
    "<td>60\n",
    "</td></tr>\n",
    "<tr>\n",
    "<td><a href=\"/wiki/Stade_de_Reims\" title=\"Stade de Reims\">Stade de Reims</a>\n",
    "</td>\n",
    "<td>2018\n",
    "</td>\n",
    "<td>45\n",
    "</td>\n",
    "<td><span data-sort-value=\"108 !\"></span><abbr class=\"abbr\" title=\"Huitième\">8<sup>e</sup></abbr>\n",
    "</td>\n",
    "<td align=\"left\"><span class=\"flagicon\"><a class=\"image\" href=\"/wiki/Fichier:Flag_of_France.svg\" title=\"Drapeau : France\"><img alt=\"\" class=\"noviewer thumbborder\" data-file-height=\"600\" data-file-width=\"900\" decoding=\"async\" height=\"13\" src=\"//upload.wikimedia.org/wikipedia/commons/thumb/c/c3/Flag_of_France.svg/20px-Flag_of_France.svg.png\" srcset=\"//upload.wikimedia.org/wikipedia/commons/thumb/c/c3/Flag_of_France.svg/30px-Flag_of_France.svg.png 1.5x, //upload.wikimedia.org/wikipedia/commons/thumb/c/c3/Flag_of_France.svg/40px-Flag_of_France.svg.png 2x\" width=\"20\"/></a></span> <a href=\"/wiki/David_Guion\" title=\"David Guion\">David Guion</a>\n",
    "</td>\n",
    "<td>2017\n",
    "</td>\n",
    "<td><a href=\"/wiki/Stade_Auguste-Delaune\" title=\"Stade Auguste-Delaune\">Stade Auguste-Delaune</a>\n",
    "</td>\n",
    "<td>20 546\n",
    "</td>\n",
    "<td>35\n",
    "</td></tr>\n",
    "<tr>\n",
    "<td><a href=\"/wiki/N%C3%AEmes_Olympique\" title=\"Nîmes Olympique\">Nîmes Olympique</a>\n",
    "</td>\n",
    "<td>2018\n",
    "</td>\n",
    "<td>27\n",
    "</td>\n",
    "<td><span data-sort-value=\"109 !\"></span><abbr class=\"abbr\" title=\"Neuvième\">9<sup>e</sup></abbr>\n",
    "</td>\n",
    "<td align=\"left\"><span class=\"flagicon\"><a class=\"image\" href=\"/wiki/Fichier:Flag_of_France.svg\" title=\"Drapeau : France\"><img alt=\"\" class=\"noviewer thumbborder\" data-file-height=\"600\" data-file-width=\"900\" decoding=\"async\" height=\"13\" src=\"//upload.wikimedia.org/wikipedia/commons/thumb/c/c3/Flag_of_France.svg/20px-Flag_of_France.svg.png\" srcset=\"//upload.wikimedia.org/wikipedia/commons/thumb/c/c3/Flag_of_France.svg/30px-Flag_of_France.svg.png 1.5x, //upload.wikimedia.org/wikipedia/commons/thumb/c/c3/Flag_of_France.svg/40px-Flag_of_France.svg.png 2x\" width=\"20\"/></a></span> <a href=\"/wiki/Bernard_Blaquart\" title=\"Bernard Blaquart\">Bernard Blaquart</a>\n",
    "</td>\n",
    "<td>2015\n",
    "</td>\n",
    "<td><a href=\"/wiki/Stade_des_Costi%C3%A8res\" title=\"Stade des Costières\">Stade des Costières</a>\n",
    "</td>\n",
    "<td>15 788\n",
    "</td>\n",
    "<td>35\n",
    "</td></tr>\n",
    "<tr bgcolor=\"#FFE052\">\n",
    "<td><a class=\"mw-redirect\" href=\"/wiki/Stade_rennais_football_club\" title=\"Stade rennais football club\">Stade rennais FC</a>\n",
    "</td>\n",
    "<td>1994\n",
    "</td>\n",
    "<td>65\n",
    "</td>\n",
    "<td><span data-sort-value=\"110 !\"></span><abbr class=\"abbr\" title=\"Dixième\">10<sup>e</sup></abbr>\n",
    "</td>\n",
    "<td align=\"left\"><span class=\"flagicon\"><a class=\"image\" href=\"/wiki/Fichier:Flag_of_France.svg\" title=\"Drapeau : France\"><img alt=\"\" class=\"noviewer thumbborder\" data-file-height=\"600\" data-file-width=\"900\" decoding=\"async\" height=\"13\" src=\"//upload.wikimedia.org/wikipedia/commons/thumb/c/c3/Flag_of_France.svg/20px-Flag_of_France.svg.png\" srcset=\"//upload.wikimedia.org/wikipedia/commons/thumb/c/c3/Flag_of_France.svg/30px-Flag_of_France.svg.png 1.5x, //upload.wikimedia.org/wikipedia/commons/thumb/c/c3/Flag_of_France.svg/40px-Flag_of_France.svg.png 2x\" width=\"20\"/></a></span> <a href=\"/wiki/Julien_St%C3%A9phan\" title=\"Julien Stéphan\">Julien Stéphan</a>\n",
    "</td>\n",
    "<td>2018\n",
    "</td>\n",
    "<td><a href=\"/wiki/Roazhon_Park\" title=\"Roazhon Park\">Roazhon Park</a>\n",
    "</td>\n",
    "<td>29 194\n",
    "</td>\n",
    "<td>62\n",
    "</td></tr>\n",
    "<tr bgcolor=\"#FFF052\">\n",
    "<td><a href=\"/wiki/Racing_Club_de_Strasbourg_Alsace\" title=\"Racing Club de Strasbourg Alsace\">RC Strasbourg Alsace</a>\n",
    "</td>\n",
    "<td>2017\n",
    "</td>\n",
    "<td>43\n",
    "</td>\n",
    "<td><span data-sort-value=\"111 !\"></span><abbr class=\"abbr\" title=\"Onzième\">11<sup>e</sup></abbr>\n",
    "</td>\n",
    "<td align=\"left\"><span class=\"flagicon\"><a class=\"image\" href=\"/wiki/Fichier:Flag_of_France.svg\" title=\"Drapeau : France\"><img alt=\"\" class=\"noviewer thumbborder\" data-file-height=\"600\" data-file-width=\"900\" decoding=\"async\" height=\"13\" src=\"//upload.wikimedia.org/wikipedia/commons/thumb/c/c3/Flag_of_France.svg/20px-Flag_of_France.svg.png\" srcset=\"//upload.wikimedia.org/wikipedia/commons/thumb/c/c3/Flag_of_France.svg/30px-Flag_of_France.svg.png 1.5x, //upload.wikimedia.org/wikipedia/commons/thumb/c/c3/Flag_of_France.svg/40px-Flag_of_France.svg.png 2x\" width=\"20\"/></a></span> <a href=\"/wiki/Thierry_Laurey\" title=\"Thierry Laurey\">Thierry Laurey</a>\n",
    "</td>\n",
    "<td>2016\n",
    "</td>\n",
    "<td><a href=\"/wiki/Stade_de_la_Meinau\" title=\"Stade de la Meinau\">Stade de la Meinau</a>\n",
    "</td>\n",
    "<td>26 109\n",
    "</td>\n",
    "<td>58\n",
    "</td></tr>\n",
    "<tr>\n",
    "<td><a href=\"/wiki/Football_Club_de_Nantes\" title=\"Football Club de Nantes\">FC Nantes</a>\n",
    "</td>\n",
    "<td>2013\n",
    "</td>\n",
    "<td>70\n",
    "</td>\n",
    "<td><span data-sort-value=\"112 !\"></span><abbr class=\"abbr\" title=\"Douzième\">12<sup>e</sup></abbr>\n",
    "</td>\n",
    "<td align=\"left\"><span class=\"flagicon\"><a class=\"image\" href=\"/wiki/Fichier:Flag_of_France.svg\" title=\"Drapeau : France\"><img alt=\"\" class=\"noviewer thumbborder\" data-file-height=\"600\" data-file-width=\"900\" decoding=\"async\" height=\"13\" src=\"//upload.wikimedia.org/wikipedia/commons/thumb/c/c3/Flag_of_France.svg/20px-Flag_of_France.svg.png\" srcset=\"//upload.wikimedia.org/wikipedia/commons/thumb/c/c3/Flag_of_France.svg/30px-Flag_of_France.svg.png 1.5x, //upload.wikimedia.org/wikipedia/commons/thumb/c/c3/Flag_of_France.svg/40px-Flag_of_France.svg.png 2x\" width=\"20\"/></a></span> <a href=\"/wiki/Christian_Gourcuff\" title=\"Christian Gourcuff\">Christian Gourcuff</a>\n",
    "</td>\n",
    "<td>2019\n",
    "</td>\n",
    "<td><a href=\"/wiki/Stade_de_la_Beaujoire\" title=\"Stade de la Beaujoire\">Stade de la Beaujoire - Louis Fonteneau</a>\n",
    "</td>\n",
    "<td>35 322\n",
    "</td>\n",
    "<td>51\n",
    "</td></tr>\n",
    "<tr>\n",
    "<td><a class=\"mw-redirect\" href=\"/wiki/Angers_sporting_club_de_l%27Ouest\" title=\"Angers sporting club de l'Ouest\">SCO d’Angers</a>\n",
    "</td>\n",
    "<td>2015\n",
    "</td>\n",
    "<td>32\n",
    "</td>\n",
    "<td><span data-sort-value=\"113 !\"></span><abbr class=\"abbr\" title=\"Treizième\">13<sup>e</sup></abbr>\n",
    "</td>\n",
    "<td align=\"left\"><span class=\"flagicon\"><a class=\"image\" href=\"/wiki/Fichier:Flag_of_France.svg\" title=\"Drapeau : France\"><img alt=\"\" class=\"noviewer thumbborder\" data-file-height=\"600\" data-file-width=\"900\" decoding=\"async\" height=\"13\" src=\"//upload.wikimedia.org/wikipedia/commons/thumb/c/c3/Flag_of_France.svg/20px-Flag_of_France.svg.png\" srcset=\"//upload.wikimedia.org/wikipedia/commons/thumb/c/c3/Flag_of_France.svg/30px-Flag_of_France.svg.png 1.5x, //upload.wikimedia.org/wikipedia/commons/thumb/c/c3/Flag_of_France.svg/40px-Flag_of_France.svg.png 2x\" width=\"20\"/></a></span> <a href=\"/wiki/St%C3%A9phane_Moulin_(football)\" title=\"Stéphane Moulin (football)\">Stéphane Moulin</a>\n",
    "</td>\n",
    "<td>2011\n",
    "</td>\n",
    "<td><a href=\"/wiki/Stade_Raymond-Kopa\" title=\"Stade Raymond-Kopa\">Stade Raymond-Kopa</a>\n",
    "</td>\n",
    "<td>17 048\n",
    "</td>\n",
    "<td>27\n",
    "</td></tr>\n",
    "<tr>\n",
    "<td><a href=\"/wiki/Football_Club_des_Girondins_de_Bordeaux\" title=\"Football Club des Girondins de Bordeaux\">Girondins de Bordeaux</a>\n",
    "</td>\n",
    "<td>1992\n",
    "</td>\n",
    "<td>70\n",
    "</td>\n",
    "<td><span data-sort-value=\"114 !\"></span><abbr class=\"abbr\" title=\"Quatorzième\">14<sup>e</sup></abbr>\n",
    "</td>\n",
    "<td align=\"left\"><span class=\"flagicon\"><a class=\"image\" href=\"/wiki/Fichier:Flag_of_Portugal.svg\" title=\"Drapeau : Portugal\"><img alt=\"\" class=\"noviewer thumbborder\" data-file-height=\"400\" data-file-width=\"600\" decoding=\"async\" height=\"13\" src=\"//upload.wikimedia.org/wikipedia/commons/thumb/5/5c/Flag_of_Portugal.svg/20px-Flag_of_Portugal.svg.png\" srcset=\"//upload.wikimedia.org/wikipedia/commons/thumb/5/5c/Flag_of_Portugal.svg/30px-Flag_of_Portugal.svg.png 1.5x, //upload.wikimedia.org/wikipedia/commons/thumb/5/5c/Flag_of_Portugal.svg/40px-Flag_of_Portugal.svg.png 2x\" width=\"20\"/></a></span> <a href=\"/wiki/Paulo_Sousa_(football,_1970)\" title=\"Paulo Sousa (football, 1970)\">Paulo Sousa</a>\n",
    "</td>\n",
    "<td>2019\n",
    "</td>\n",
    "<td><a href=\"/wiki/Matmut_Atlantique\" title=\"Matmut Atlantique\">Matmut Atlantique</a>\n",
    "</td>\n",
    "<td>42 115\n",
    "</td>\n",
    "<td>66\n",
    "</td></tr>\n",
    "<tr>\n",
    "<td><a href=\"/wiki/Amiens_Sporting_Club\" title=\"Amiens Sporting Club\">Amiens SC</a>\n",
    "</td>\n",
    "<td>2017\n",
    "</td>\n",
    "<td>30\n",
    "</td>\n",
    "<td><span data-sort-value=\"115 !\"></span><abbr class=\"abbr\" title=\"Quinzième\">15<sup>e</sup></abbr>\n",
    "</td>\n",
    "<td align=\"left\"><span class=\"flagicon\"><a class=\"image\" href=\"/wiki/Fichier:Flag_of_Slovenia.svg\" title=\"Drapeau : Slovénie\"><img alt=\"\" class=\"noviewer thumbborder\" data-file-height=\"600\" data-file-width=\"1200\" decoding=\"async\" height=\"10\" src=\"//upload.wikimedia.org/wikipedia/commons/thumb/f/f0/Flag_of_Slovenia.svg/20px-Flag_of_Slovenia.svg.png\" srcset=\"//upload.wikimedia.org/wikipedia/commons/thumb/f/f0/Flag_of_Slovenia.svg/30px-Flag_of_Slovenia.svg.png 1.5x, //upload.wikimedia.org/wikipedia/commons/thumb/f/f0/Flag_of_Slovenia.svg/40px-Flag_of_Slovenia.svg.png 2x\" width=\"20\"/></a></span> <a href=\"/wiki/Luka_Elsner\" title=\"Luka Elsner\">Luka Elsner</a>\n",
    "</td>\n",
    "<td>2019\n",
    "</td>\n",
    "<td><a href=\"/wiki/Stade_de_la_Licorne\" title=\"Stade de la Licorne\">Stade Crédit Agricole la Licorne</a>\n",
    "</td>\n",
    "<td>12 999\n",
    "</td>\n",
    "<td>2\n",
    "</td></tr>\n",
    "<tr>\n",
    "<td><a href=\"/wiki/Toulouse_Football_Club\" title=\"Toulouse Football Club\">Toulouse FC</a>\n",
    "</td>\n",
    "<td>2003\n",
    "</td>\n",
    "<td>35\n",
    "</td>\n",
    "<td><span data-sort-value=\"116 !\"></span><abbr class=\"abbr\" title=\"Seizième\">16<sup>e</sup></abbr>\n",
    "</td>\n",
    "<td align=\"left\"><span class=\"flagicon\"><a class=\"image\" href=\"/wiki/Fichier:Flag_of_France.svg\" title=\"Drapeau : France\"><img alt=\"\" class=\"noviewer thumbborder\" data-file-height=\"600\" data-file-width=\"900\" decoding=\"async\" height=\"13\" src=\"//upload.wikimedia.org/wikipedia/commons/thumb/c/c3/Flag_of_France.svg/20px-Flag_of_France.svg.png\" srcset=\"//upload.wikimedia.org/wikipedia/commons/thumb/c/c3/Flag_of_France.svg/30px-Flag_of_France.svg.png 1.5x, //upload.wikimedia.org/wikipedia/commons/thumb/c/c3/Flag_of_France.svg/40px-Flag_of_France.svg.png 2x\" width=\"20\"/></a></span> <a href=\"/wiki/Denis_Zanko\" title=\"Denis Zanko\">Denis Zanko</a>\n",
    "</td>\n",
    "<td>2020\n",
    "</td>\n",
    "<td><a href=\"/wiki/Stadium_de_Toulouse\" title=\"Stadium de Toulouse\">Stadium de Toulouse</a>\n",
    "</td>\n",
    "<td>33 033\n",
    "</td>\n",
    "<td>32\n",
    "</td></tr>\n",
    "<tr>\n",
    "<td><a class=\"mw-redirect\" href=\"/wiki/Association_sportive_de_Monaco_football_club\" title=\"Association sportive de Monaco football club\">AS Monaco</a>\n",
    "</td>\n",
    "<td>2013\n",
    "</td>\n",
    "<td>220\n",
    "</td>\n",
    "<td><span data-sort-value=\"117 !\"></span><abbr class=\"abbr\" title=\"Dix-septième\">17<sup>e</sup></abbr>\n",
    "</td>\n",
    "<td align=\"left\"><span class=\"flagicon\"><a class=\"image\" href=\"/wiki/Fichier:Flag_of_Spain.svg\" title=\"Drapeau : Espagne\"><img alt=\"\" class=\"noviewer thumbborder\" data-file-height=\"500\" data-file-width=\"750\" decoding=\"async\" height=\"13\" src=\"//upload.wikimedia.org/wikipedia/commons/thumb/9/9a/Flag_of_Spain.svg/20px-Flag_of_Spain.svg.png\" srcset=\"//upload.wikimedia.org/wikipedia/commons/thumb/9/9a/Flag_of_Spain.svg/30px-Flag_of_Spain.svg.png 1.5x, //upload.wikimedia.org/wikipedia/commons/thumb/9/9a/Flag_of_Spain.svg/40px-Flag_of_Spain.svg.png 2x\" width=\"20\"/></a></span> <a href=\"/wiki/Robert_Moreno\" title=\"Robert Moreno\">Robert Moreno</a>\n",
    "</td>\n",
    "<td>2019\n",
    "</td>\n",
    "<td><a href=\"/wiki/Stade_Louis-II\" title=\"Stade Louis-II\">Stade Louis-II</a>\n",
    "</td>\n",
    "<td>16 500\n",
    "</td>\n",
    "<td>60\n",
    "</td></tr>\n",
    "<tr>\n",
    "<td><a href=\"/wiki/Dijon_Football_C%C3%B4te-d%27Or\" title=\"Dijon Football Côte-d'Or\">Dijon FCO</a>\n",
    "</td>\n",
    "<td>2016\n",
    "</td>\n",
    "<td>38\n",
    "</td>\n",
    "<td><span data-sort-value=\"118 !\"></span><abbr class=\"abbr\" title=\"Dix-huitième\">18<sup>e</sup></abbr>\n",
    "</td>\n",
    "<td align=\"left\"><span class=\"flagicon\"><a class=\"image\" href=\"/wiki/Fichier:Flag_of_France.svg\" title=\"Drapeau : France\"><img alt=\"\" class=\"noviewer thumbborder\" data-file-height=\"600\" data-file-width=\"900\" decoding=\"async\" height=\"13\" src=\"//upload.wikimedia.org/wikipedia/commons/thumb/c/c3/Flag_of_France.svg/20px-Flag_of_France.svg.png\" srcset=\"//upload.wikimedia.org/wikipedia/commons/thumb/c/c3/Flag_of_France.svg/30px-Flag_of_France.svg.png 1.5x, //upload.wikimedia.org/wikipedia/commons/thumb/c/c3/Flag_of_France.svg/40px-Flag_of_France.svg.png 2x\" width=\"20\"/></a></span> <a href=\"/wiki/St%C3%A9phane_Jobard\" title=\"Stéphane Jobard\">Stéphane Jobard</a>\n",
    "</td>\n",
    "<td>2019\n",
    "</td>\n",
    "<td><a href=\"/wiki/Stade_Gaston-G%C3%A9rard\" title=\"Stade Gaston-Gérard\">Parc des Sports Gaston-Gérard</a>\n",
    "</td>\n",
    "<td>15 459\n",
    "</td>\n",
    "<td>4\n",
    "</td></tr>\n",
    "<tr bgcolor=\"#a8fca8\">\n",
    "<td><a href=\"/wiki/Football_Club_de_Metz\" title=\"Football Club de Metz\">FC Metz</a>\n",
    "</td>\n",
    "<td>2019\n",
    "</td>\n",
    "<td>40\n",
    "</td>\n",
    "<td><span data-sort-value=\"201 !\"></span><abbr class=\"abbr\" title=\"Premier\">1<sup>er</sup></abbr> (<a class=\"mw-redirect\" href=\"/wiki/Championnat_de_France_de_football_de_Ligue_2_2018-2019\" title=\"Championnat de France de football de Ligue 2 2018-2019\">Ligue 2</a>)\n",
    "</td>\n",
    "<td align=\"left\"><span class=\"flagicon\"><a class=\"image\" href=\"/wiki/Fichier:Flag_of_France.svg\" title=\"Drapeau : France\"><img alt=\"\" class=\"noviewer thumbborder\" data-file-height=\"600\" data-file-width=\"900\" decoding=\"async\" height=\"13\" src=\"//upload.wikimedia.org/wikipedia/commons/thumb/c/c3/Flag_of_France.svg/20px-Flag_of_France.svg.png\" srcset=\"//upload.wikimedia.org/wikipedia/commons/thumb/c/c3/Flag_of_France.svg/30px-Flag_of_France.svg.png 1.5x, //upload.wikimedia.org/wikipedia/commons/thumb/c/c3/Flag_of_France.svg/40px-Flag_of_France.svg.png 2x\" width=\"20\"/></a></span> <a href=\"/wiki/Vincent_Hognon\" title=\"Vincent Hognon\">Vincent Hognon</a>\n",
    "</td>\n",
    "<td>2019\n",
    "</td>\n",
    "<td><a href=\"/wiki/Stade_Saint-Symphorien\" title=\"Stade Saint-Symphorien\">Stade Saint-Symphorien</a>\n",
    "</td>\n",
    "<td>25 865\n",
    "</td>\n",
    "<td>61\n",
    "</td></tr>\n",
    "<tr bgcolor=\"#a8fca8\">\n",
    "<td><a href=\"/wiki/Stade_brestois_29\" title=\"Stade brestois 29\">Stade brestois 29</a>\n",
    "</td>\n",
    "<td>2019\n",
    "</td>\n",
    "<td>30\n",
    "</td>\n",
    "<td><span data-sort-value=\"202 !\"></span><abbr class=\"abbr\" title=\"Deuxième\">2<sup>e</sup></abbr> (<a class=\"mw-redirect\" href=\"/wiki/Championnat_de_France_de_football_de_Ligue_2_2018-2019\" title=\"Championnat de France de football de Ligue 2 2018-2019\">Ligue 2</a>)\n",
    "</td>\n",
    "<td align=\"left\"><span class=\"flagicon\"><a class=\"image\" href=\"/wiki/Fichier:Flag_of_France.svg\" title=\"Drapeau : France\"><img alt=\"\" class=\"noviewer thumbborder\" data-file-height=\"600\" data-file-width=\"900\" decoding=\"async\" height=\"13\" src=\"//upload.wikimedia.org/wikipedia/commons/thumb/c/c3/Flag_of_France.svg/20px-Flag_of_France.svg.png\" srcset=\"//upload.wikimedia.org/wikipedia/commons/thumb/c/c3/Flag_of_France.svg/30px-Flag_of_France.svg.png 1.5x, //upload.wikimedia.org/wikipedia/commons/thumb/c/c3/Flag_of_France.svg/40px-Flag_of_France.svg.png 2x\" width=\"20\"/></a></span> <a href=\"/wiki/Olivier_Dall%27Oglio\" title=\"Olivier Dall'Oglio\">Olivier Dall'Oglio</a>\n",
    "</td>\n",
    "<td>2019\n",
    "</td>\n",
    "<td><a href=\"/wiki/Stade_Francis-Le_Bl%C3%A9\" title=\"Stade Francis-Le Blé\">Stade Francis-Le Blé</a>\n",
    "</td>\n",
    "<td>14 920\n",
    "</td>\n",
    "<td>13\n",
    "</td></tr></tbody></table>\n",
    "\n",
    ":two:\n",
    "Récupérer chaque ligne du tableau\n"
   ]
  },
  {
   "cell_type": "code",
   "execution_count": null,
   "id": "710d4b06",
   "metadata": {},
   "outputs": [],
   "source": [
    "table_body = tableau_participants.find('tbody')\n",
    "\n",
    "# on recherche toutes les lignes du tableau avec la balise \"tr\"\n",
    "rows = table_body.find_all('tr')\n",
    "\n",
    "# on obtient une liste où chaque élément est une des lignes du tableau\n",
    "\n",
    "# par exemple la première ligne va correspondre aux entêtes de colonne\n",
    "print(rows[0])"
   ]
  },
  {
   "cell_type": "markdown",
   "id": "16163c05",
   "metadata": {},
   "source": [
    "```\n",
    "## <tr>\n",
    "## <th scope=\"col\">Club\n",
    "## </th>\n",
    "## <th scope=\"col\">Dernière<br/>montée\n",
    "## </th>\n",
    "## <th scope=\"col\">Budget<sup class=\"reference\" id=\"cite_ref-3\"><a href=\"#cite_note-3\"><span class=\"cite_crochet\">[</span>3<span class=\"cite_crochet\">]</span></a></sup><br/>en M<a href=\"/wiki/Euro\" title=\"Euro\">€</a>\n",
    "## </th>\n",
    "## <th scope=\"col\">Classement<br/><a href=\"/wiki/Championnat_de_France_de_football_2018-2019\" title=\"Championnat de France de football 2018-2019\">2018-2019</a>\n",
    "## </th>\n",
    "## <th scope=\"col\">Entraîneur\n",
    "## </th>\n",
    "## <th scope=\"col\">Depuis\n",
    "## </th>\n",
    "## <th scope=\"col\">Stade\n",
    "## </th>\n",
    "## <th scope=\"col\">Capacité<br/>en L1<sup class=\"reference\" id=\"cite_ref-4\"><a href=\"#cite_note-4\"><span class=\"cite_crochet\">[</span>4<span class=\"cite_crochet\">]</span></a></sup>\n",
    "## </th>\n",
    "## <th scope=\"col\">Nombre<br/>de saisons<br/>en L1\n",
    "## </th></tr>\n",
    "```\n"
   ]
  },
  {
   "cell_type": "code",
   "execution_count": null,
   "id": "700dd956",
   "metadata": {},
   "outputs": [],
   "source": [
    "# par exemple la seconde ligne va correspondre à la ligne du premier club présent dans le tableau\n",
    "\n",
    "print(rows[1])"
   ]
  },
  {
   "cell_type": "markdown",
   "id": "63a4cb45",
   "metadata": {},
   "source": [
    "```\n",
    "## <tr bgcolor=\"#97DEFF\">\n",
    "## <td><a href=\"/wiki/Paris_Saint-Germain_Football_Club\" title=\"Paris Saint-Germain Football Club\">Paris Saint-Germain</a>\n",
    "## </td>\n",
    "## <td>1974\n",
    "## </td>\n",
    "## <td>637\n",
    "## </td>\n",
    "## <td><span data-sort-value=\"101 !\"></span><abbr class=\"abbr\" title=\"Premier\">1<sup>er</sup></abbr>\n",
    "## </td>\n",
    "## <td align=\"left\"><span class=\"flagicon\"><a class=\"image\" href=\"/wiki/Fichier:Flag_of_Germany.svg\" title=\"Drapeau : Allemagne\"><img alt=\"\" class=\"noviewer thumbborder\" data-file-height=\"600\" data-file-width=\"1000\" decoding=\"async\" height=\"12\" src=\"//upload.wikimedia.org/wikipedia/commons/thumb/b/ba/Flag_of_Germany.svg/20px-Flag_of_Germany.svg.png\" srcset=\"//upload.wikimedia.org/wikipedia/commons/thumb/b/ba/Flag_of_Germany.svg/30px-Flag_of_Germany.svg.png 1.5x, //upload.wikimedia.org/wikipedia/commons/thumb/b/ba/Flag_of_Germany.svg/40px-Flag_of_Germany.svg.png 2x\" width=\"20\"/></a></span> <a href=\"/wiki/Thomas_Tuchel\" title=\"Thomas Tuchel\">Thomas Tuchel</a>\n",
    "## </td>\n",
    "## <td>2018\n",
    "## </td>\n",
    "## <td><a href=\"/wiki/Parc_des_Princes\" title=\"Parc des Princes\">Parc des Princes</a>\n",
    "## </td>\n",
    "## <td>47 929\n",
    "## </td>\n",
    "## <td>46\n",
    "## </td></tr>\n",
    "```\n",
    "\n",
    ":three:\n",
    "Nettoyer les sorties en ne gardant que le texte sur une ligne"
   ]
  },
  {
   "cell_type": "markdown",
   "id": "ee807df9",
   "metadata": {},
   "source": [
    "On va utiliser l'attribut `text` afin de se débarasser de toute la couche de HTML qu'on obtient à l'étape 2.\n",
    "\n",
    "Un exemple sur la ligne du premier club :\n",
    "- on commence par prendre toutes les cellules de cette ligne, avec la balise `td`.\n",
    "- on fait ensuite une boucle sur chacune des cellules et on ne garde que le texte de la cellule avec l'attribut `text`.\n",
    "- enfin, on applique la méthode `strip()` pour que le texte soit bien mis en forme (sans espace inutile etc).\n",
    "\n"
   ]
  },
  {
   "cell_type": "code",
   "execution_count": null,
   "id": "9dead2b3",
   "metadata": {},
   "outputs": [],
   "source": [
    "cols = rows[1].find_all('td')\n",
    "print(cols[0])"
   ]
  },
  {
   "cell_type": "markdown",
   "id": "fc3685c1",
   "metadata": {},
   "source": [
    "```\n",
    "## <td><a href=\"/wiki/Paris_Saint-Germain_Football_Club\" title=\"Paris Saint-Germain Football Club\">Paris Saint-Germain</a>\n",
    "## </td>\n",
    "```"
   ]
  },
  {
   "cell_type": "code",
   "execution_count": null,
   "id": "3e50c140",
   "metadata": {},
   "outputs": [],
   "source": [
    "print(cols[0].text.strip())"
   ]
  },
  {
   "cell_type": "markdown",
   "id": "f69dfc4e",
   "metadata": {},
   "source": [
    "```\n",
    "## Paris Saint-Germain\n",
    "```\n"
   ]
  },
  {
   "cell_type": "code",
   "execution_count": null,
   "id": "edc53279",
   "metadata": {},
   "outputs": [],
   "source": [
    "for ele in cols : \n",
    "    print(ele.text.strip())"
   ]
  },
  {
   "cell_type": "markdown",
   "id": "fb6fcbc5",
   "metadata": {},
   "source": [
    "```\n",
    "## Paris Saint-Germain\n",
    "## 1974\n",
    "## 637\n",
    "## 1er\n",
    "## Thomas Tuchel\n",
    "## 2018\n",
    "## Parc des Princes\n",
    "## 47 929\n",
    "## 46\n",
    "```\n",
    "\n",
    ":four:\n",
    "Généraliser sur toutes les lignes\n"
   ]
  },
  {
   "cell_type": "code",
   "execution_count": null,
   "id": "5d6f70a4",
   "metadata": {},
   "outputs": [],
   "source": [
    "for row in rows:\n",
    "    cols = row.find_all('td')\n",
    "    cols = [ele.text.strip() for ele in cols]\n",
    "    print(cols)"
   ]
  },
  {
   "cell_type": "markdown",
   "id": "fbfb4f89",
   "metadata": {},
   "source": [
    "```\n",
    "## []\n",
    "## ['Paris Saint-Germain', '1974', '637', '1er', 'Thomas Tuchel', '2018', 'Parc des Princes', '47\\xa0929', '46']\n",
    "## ['LOSC Lille', '2000', '120', '2e', 'Christophe Galtier', '2017', 'Stade Pierre-Mauroy', '49\\xa0712', '59']\n",
    "## ['Olympique lyonnais', '1989', '310', '3e', 'Rudi Garcia', '2019', 'Groupama Stadium', '57\\xa0206', '60']\n",
    "## ['AS Saint-Étienne', '2004', '100', '4e', 'Claude Puel', '2019', 'Stade Geoffroy-Guichard', '41\\xa0965', '66']\n",
    "## ['Olympique de Marseille', '1996', '110', '5e', 'André Villas-Boas', '2019', 'Orange Vélodrome', '66\\xa0226', '69']\n",
    "## ['Montpellier HSC', '2009', '40', '6e', 'Michel Der Zakarian', '2017', 'Stade de la Mosson', '22\\xa0000', '27']\n",
    "## ['OGC Nice', '2002', '50', '7e', 'Patrick Vieira', '2018', 'Allianz Riviera', '35\\xa0596', '60']\n",
    "## ['Stade de Reims', '2018', '45', '8e', 'David Guion', '2017', 'Stade Auguste-Delaune', '20\\xa0546', '35']\n",
    "## ['Nîmes Olympique', '2018', '27', '9e', 'Bernard Blaquart', '2015', 'Stade des Costières', '15\\xa0788', '35']\n",
    "## ['Stade rennais FC', '1994', '65', '10e', 'Julien Stéphan', '2018', 'Roazhon Park', '29\\xa0194', '62']\n",
    "## ['RC Strasbourg Alsace', '2017', '43', '11e', 'Thierry Laurey', '2016', 'Stade de la Meinau', '26\\xa0109', '58']\n",
    "## ['FC Nantes', '2013', '70', '12e', 'Christian Gourcuff', '2019', 'Stade de la Beaujoire - Louis Fonteneau', '35\\xa0322', '51']\n",
    "## ['SCO d’Angers', '2015', '32', '13e', 'Stéphane Moulin', '2011', 'Stade Raymond-Kopa', '17\\xa0048', '27']\n",
    "## ['Girondins de Bordeaux', '1992', '70', '14e', 'Paulo Sousa', '2019', 'Matmut Atlantique', '42\\xa0115', '66']\n",
    "## ['Amiens SC', '2017', '30', '15e', 'Luka Elsner', '2019', 'Stade Crédit Agricole la Licorne', '12\\xa0999', '2']\n",
    "## ['Toulouse FC', '2003', '35', '16e', 'Denis Zanko', '2020', 'Stadium de Toulouse', '33\\xa0033', '32']\n",
    "## ['AS Monaco', '2013', '220', '17e', 'Robert Moreno', '2019', 'Stade Louis-II', '16\\xa0500', '60']\n",
    "## ['Dijon FCO', '2016', '38', '18e', 'Stéphane Jobard', '2019', 'Parc des Sports Gaston-Gérard', '15\\xa0459', '4']\n",
    "## ['FC Metz', '2019', '40', '1er (Ligue 2)', 'Vincent Hognon', '2019', 'Stade Saint-Symphorien', '25\\xa0865', '61']\n",
    "## ['Stade brestois 29', '2019', '30', '2e (Ligue 2)', \"Olivier Dall'Oglio\", '2019', 'Stade Francis-Le Blé', '14\\xa0920', '13']\n",
    "```\n",
    "\n",
    "On a bien réussi à avoir les informations contenues dans le tableau des participants du championnat.\n",
    "Mais la première ligne est étrange : c'est une liste vide ... \n",
    "\n",
    "Il s'agit des en-têtes : elles sont reconnues par la balise `th` et non `td`. \n",
    "\n",
    "On va mettre tout le contenu dans un dictionnaire, pour le transformer ensuite en DataFrame pandas : \n"
   ]
  },
  {
   "cell_type": "code",
   "execution_count": null,
   "id": "9377d752",
   "metadata": {},
   "outputs": [],
   "source": [
    "dico_participants = dict()\n",
    "for row in rows:\n",
    "    cols = row.find_all('td')\n",
    "    cols = [ele.text.strip() for ele in cols]\n",
    "    if len(cols) > 0 : \n",
    "        dico_participants[cols[0]] = cols[1:]\n",
    "dico_participants"
   ]
  },
  {
   "cell_type": "markdown",
   "id": "b442f164",
   "metadata": {},
   "source": [
    "```\n",
    "## {'Paris Saint-Germain': ['1974', '637', '1er', 'Thomas Tuchel', '2018', 'Parc des Princes', '47\\xa0929', '46'], 'LOSC Lille': ['2000', '120', '2e', 'Christophe Galtier', '2017', 'Stade Pierre-Mauroy', '49\\xa0712', '59'], 'Olympique lyonnais': ['1989', '310', '3e', 'Rudi Garcia', '2019', 'Groupama Stadium', '57\\xa0206', '60'], 'AS Saint-Étienne': ['2004', '100', '4e', 'Claude Puel', '2019', 'Stade Geoffroy-Guichard', '41\\xa0965', '66'], 'Olympique de Marseille': ['1996', '110', '5e', 'André Villas-Boas', '2019', 'Orange Vélodrome', '66\\xa0226', '69'], 'Montpellier HSC': ['2009', '40', '6e', 'Michel Der Zakarian', '2017', 'Stade de la Mosson', '22\\xa0000', '27'], 'OGC Nice': ['2002', '50', '7e', 'Patrick Vieira', '2018', 'Allianz Riviera', '35\\xa0596', '60'], 'Stade de Reims': ['2018', '45', '8e', 'David Guion', '2017', 'Stade Auguste-Delaune', '20\\xa0546', '35'], 'Nîmes Olympique': ['2018', '27', '9e', 'Bernard Blaquart', '2015', 'Stade des Costières', '15\\xa0788', '35'], 'Stade rennais FC': ['1994', '65', '10e', 'Julien Stéphan', '2018', 'Roazhon Park', '29\\xa0194', '62'], 'RC Strasbourg Alsace': ['2017', '43', '11e', 'Thierry Laurey', '2016', 'Stade de la Meinau', '26\\xa0109', '58'], 'FC Nantes': ['2013', '70', '12e', 'Christian Gourcuff', '2019', 'Stade de la Beaujoire - Louis Fonteneau', '35\\xa0322', '51'], 'SCO d’Angers': ['2015', '32', '13e', 'Stéphane Moulin', '2011', 'Stade Raymond-Kopa', '17\\xa0048', '27'], 'Girondins de Bordeaux': ['1992', '70', '14e', 'Paulo Sousa', '2019', 'Matmut Atlantique', '42\\xa0115', '66'], 'Amiens SC': ['2017', '30', '15e', 'Luka Elsner', '2019', 'Stade Crédit Agricole la Licorne', '12\\xa0999', '2'], 'Toulouse FC': ['2003', '35', '16e', 'Denis Zanko', '2020', 'Stadium de Toulouse', '33\\xa0033', '32'], 'AS Monaco': ['2013', '220', '17e', 'Robert Moreno', '2019', 'Stade Louis-II', '16\\xa0500', '60'], 'Dijon FCO': ['2016', '38', '18e', 'Stéphane Jobard', '2019', 'Parc des Sports Gaston-Gérard', '15\\xa0459', '4'], 'FC Metz': ['2019', '40', '1er (Ligue 2)', 'Vincent Hognon', '2019', 'Stade Saint-Symphorien', '25\\xa0865', '61'], 'Stade brestois 29': ['2019', '30', '2e (Ligue 2)', \"Olivier Dall'Oglio\", '2019', 'Stade Francis-Le Blé', '14\\xa0920', '13']}\n",
    "```\n"
   ]
  },
  {
   "cell_type": "code",
   "execution_count": null,
   "id": "0dda68a7",
   "metadata": {},
   "outputs": [],
   "source": [
    "data_participants = pandas.DataFrame.from_dict(dico_participants,orient='index')\n",
    "data_participants.head()"
   ]
  },
  {
   "cell_type": "markdown",
   "id": "5bbe1f2d",
   "metadata": {},
   "source": [
    "```\n",
    "##                            0    1    2  ...                        5       6   7\n",
    "## Paris Saint-Germain     1974  637  1er  ...         Parc des Princes  47 929  46\n",
    "## LOSC Lille              2000  120   2e  ...      Stade Pierre-Mauroy  49 712  59\n",
    "## Olympique lyonnais      1989  310   3e  ...         Groupama Stadium  57 206  60\n",
    "## AS Saint-Étienne        2004  100   4e  ...  Stade Geoffroy-Guichard  41 965  66\n",
    "## Olympique de Marseille  1996  110   5e  ...         Orange Vélodrome  66 226  69\n",
    "## \n",
    "## [5 rows x 8 columns]\n",
    "```\n",
    "\n",
    ":five:\n",
    "Récupérer les entêtes du tableau\n"
   ]
  },
  {
   "cell_type": "code",
   "execution_count": null,
   "id": "dd8e7e0d",
   "metadata": {},
   "outputs": [],
   "source": [
    "for row in rows:\n",
    "    cols = row.find_all('th')\n",
    "    print(cols)\n",
    "    if len(cols) > 0 : \n",
    "        cols = [ele.get_text(separator=' ').strip().title() for ele in cols]\n",
    "        columns_participants = cols"
   ]
  },
  {
   "cell_type": "markdown",
   "id": "fd02d7e7",
   "metadata": {},
   "source": [
    "```\n",
    "## [<th scope=\"col\">Club\n",
    "## </th>, <th scope=\"col\">Dernière<br/>montée\n",
    "## </th>, <th scope=\"col\">Budget<sup class=\"reference\" id=\"cite_ref-3\"><a href=\"#cite_note-3\"><span class=\"cite_crochet\">[</span>3<span class=\"cite_crochet\">]</span></a></sup><br/>en M<a href=\"/wiki/Euro\" title=\"Euro\">€</a>\n",
    "## </th>, <th scope=\"col\">Classement<br/><a href=\"/wiki/Championnat_de_France_de_football_2018-2019\" title=\"Championnat de France de football 2018-2019\">2018-2019</a>\n",
    "## </th>, <th scope=\"col\">Entraîneur\n",
    "## </th>, <th scope=\"col\">Depuis\n",
    "## </th>, <th scope=\"col\">Stade\n",
    "## </th>, <th scope=\"col\">Capacité<br/>en L1<sup class=\"reference\" id=\"cite_ref-4\"><a href=\"#cite_note-4\"><span class=\"cite_crochet\">[</span>4<span class=\"cite_crochet\">]</span></a></sup>\n",
    "## </th>, <th scope=\"col\">Nombre<br/>de saisons<br/>en L1\n",
    "## </th>]\n",
    "## []\n",
    "## []\n",
    "## []\n",
    "## []\n",
    "## []\n",
    "## []\n",
    "## []\n",
    "## []\n",
    "## []\n",
    "## []\n",
    "## []\n",
    "## []\n",
    "## []\n",
    "## []\n",
    "## []\n",
    "## []\n",
    "## []\n",
    "## []\n",
    "## []\n",
    "## []\n",
    "```\n"
   ]
  },
  {
   "cell_type": "code",
   "execution_count": null,
   "id": "1dc5c1a0",
   "metadata": {},
   "outputs": [],
   "source": [
    "columns_participants"
   ]
  },
  {
   "cell_type": "markdown",
   "id": "8f6aa0be",
   "metadata": {},
   "source": [
    "```\n",
    "## ['Club', 'Dernière Montée', 'Budget [ 3 ] En M €', 'Classement 2018-2019', 'Entraîneur', 'Depuis', 'Stade', 'Capacité En L1 [ 4 ]', 'Nombre De Saisons En L1']\n",
    "```\n"
   ]
  },
  {
   "cell_type": "markdown",
   "id": "10bd0934",
   "metadata": {},
   "source": [
    ":six: Finalisation du tableau \n"
   ]
  },
  {
   "cell_type": "code",
   "execution_count": null,
   "id": "ccbf043c",
   "metadata": {
    "lines_to_next_cell": 2
   },
   "outputs": [],
   "source": [
    "data_participants.columns = columns_participants[1:]"
   ]
  },
  {
   "cell_type": "code",
   "execution_count": null,
   "id": "40e0a4ea",
   "metadata": {},
   "outputs": [],
   "source": [
    "data_participants"
   ]
  },
  {
   "cell_type": "markdown",
   "id": "e9196fda",
   "metadata": {},
   "source": [
    "```\n",
    "##                        Dernière Montée  ... Nombre De Saisons En L1\n",
    "## Paris Saint-Germain               1974  ...                      46\n",
    "## LOSC Lille                        2000  ...                      59\n",
    "## Olympique lyonnais                1989  ...                      60\n",
    "## AS Saint-Étienne                  2004  ...                      66\n",
    "## Olympique de Marseille            1996  ...                      69\n",
    "## Montpellier HSC                   2009  ...                      27\n",
    "## OGC Nice                          2002  ...                      60\n",
    "## Stade de Reims                    2018  ...                      35\n",
    "## Nîmes Olympique                   2018  ...                      35\n",
    "## Stade rennais FC                  1994  ...                      62\n",
    "## RC Strasbourg Alsace              2017  ...                      58\n",
    "## FC Nantes                         2013  ...                      51\n",
    "## SCO d’Angers                      2015  ...                      27\n",
    "## Girondins de Bordeaux             1992  ...                      66\n",
    "## Amiens SC                         2017  ...                       2\n",
    "## Toulouse FC                       2003  ...                      32\n",
    "## AS Monaco                         2013  ...                      60\n",
    "## Dijon FCO                         2016  ...                       4\n",
    "## FC Metz                           2019  ...                      61\n",
    "## Stade brestois 29                 2019  ...                      13\n",
    "## \n",
    "## [20 rows x 8 columns]\n",
    "```"
   ]
  },
  {
   "cell_type": "markdown",
   "id": "7aa26c50",
   "metadata": {},
   "source": [
    "Essayez de comprendre pas à pas ce qui est fait dans les étapes qui suivent (la récupération d'informations supplémentaires en naviguant dans les pages des différents clubs). \n",
    "\n",
    "\n"
   ]
  },
  {
   "cell_type": "code",
   "execution_count": null,
   "id": "f27ac80b",
   "metadata": {},
   "outputs": [],
   "source": [
    "len(division), len(equipe), len(stade), len(latitude_stade), len(longitude_stade)"
   ]
  },
  {
   "cell_type": "markdown",
   "id": "8dc5abd9",
   "metadata": {},
   "source": [
    "```\n",
    "## (40, 40, 40, 40, 40)\n",
    "```\n"
   ]
  },
  {
   "cell_type": "code",
   "execution_count": null,
   "id": "9ed7e409",
   "metadata": {},
   "outputs": [],
   "source": [
    "data"
   ]
  },
  {
   "cell_type": "markdown",
   "id": "73cb4a82",
   "metadata": {},
   "source": [
    "```\n",
    "##    division  ...      longitude\n",
    "## 0        L1  ...   2° 15′ 11″ E\n",
    "## 1        L1  ...   3° 07′ 50″ E\n",
    "## 2        L1  ...   4° 58′ 55″ E\n",
    "## 3        L1  ...   4° 23′ 25″ E\n",
    "## 4        L1  ...   5° 23′ 45″ E\n",
    "## 5        L1  ...   3° 48′ 44″ E\n",
    "## 6        L1  ...   4° 01′ 30″ E\n",
    "## 7        L1  ...   7° 11′ 33″ E\n",
    "## 8        L1  ...   4° 21′ 33″ E\n",
    "## 9        L1  ...   7° 45′ 18″ E\n",
    "## 10       L1  ...   1° 42′ 46″ O\n",
    "## 11       L1  ...   0° 31′ 51″ O\n",
    "## 12       L1  ...   6° 09′ 33″ E\n",
    "## 13       L1  ...   1° 31′ 31″ O\n",
    "## 14       L1  ...   4° 27′ 42″ O\n",
    "## 15       L1  ...   0° 33′ 41″ O\n",
    "## 16       L1  ...   1° 26′ 03″ E\n",
    "## 17       L1  ...   2° 15′ 49″ E\n",
    "## 18       L1  ...   7° 24′ 56″ E\n",
    "## 19       L1  ...   5° 04′ 06″ E\n",
    "## 20       L2  ...           None\n",
    "## 21       L2  ...   6° 12′ 38″ E\n",
    "## 22       L2  ...   0° 10′ 11″ E\n",
    "## 23       L2  ...   0° 23′ 48″ O\n",
    "## 24       L2  ...   3° 07′ 18″ E\n",
    "## 25       L2  ...   3° 09′ 52″ O\n",
    "## 26       L2  ...   3° 22′ 09″ O\n",
    "## 27       L2  ...   2° 20′ 47″ E\n",
    "## 28       L2  ...   1° 43′ 18″ E\n",
    "## 29       L2  ...   3° 35′ 19″ E\n",
    "## 30       L2  ...   1° 56′ 28″ E\n",
    "## 31       L2  ...   3° 31′ 56″ E\n",
    "## 32       L2  ...   0° 29′ 21″ O\n",
    "## 33       L2  ...   5° 44′ 24″ E\n",
    "## 34       L2  ...   6° 48′ 41″ E\n",
    "## 35       L2  ...   2° 33′ 49″ E\n",
    "## 36       L2  ...   2° 14′ 01″ E\n",
    "## 37       L2  ...   4° 05′ 55″ E\n",
    "## 38       L2  ...   2° 48′ 54″ E\n",
    "## 39       L2  ...   0° 13′ 29″ E\n",
    "## \n",
    "## [40 rows x 5 columns]\n",
    "```\n"
   ]
  },
  {
   "cell_type": "code",
   "execution_count": null,
   "id": "1608c27d",
   "metadata": {},
   "outputs": [],
   "source": [
    "import re\n",
    "\n",
    "def dms2dd(degrees, minutes, seconds, direction):\n",
    "    dd = float(degrees) + float(minutes)/60 + float(seconds)/(60*60);\n",
    "    if direction == 'S' or direction == 'O':\n",
    "        dd *= -1\n",
    "    return dd;\n",
    "\n",
    "def parse_dms(dms):\n",
    "    parts = re.split('[^\\d\\w]+', dms)\n",
    "    lat = dms2dd(parts[0], parts[1], parts[2], parts[3])\n",
    "    lng = dms2dd(parts[4], parts[5], parts[6], parts[7])\n",
    "    return (lat, lng)\n",
    "\n",
    "dd = parse_dms(\"47°57'32' N 0°13'20' E\")\n",
    "\n",
    "print(dd)"
   ]
  },
  {
   "cell_type": "markdown",
   "id": "787ab836",
   "metadata": {},
   "source": [
    "```\n",
    "## (47.95888888888889, 0.22222222222222224)\n",
    "```\n"
   ]
  },
  {
   "cell_type": "markdown",
   "id": "7203575a",
   "metadata": {},
   "source": [
    "# Exercice 1 : Les pokémons (version non guidée)\n",
    "\n",
    "Pour cet exercice, nous vous demandons d'obtenir différentes informations sur les pokémons à partir du site internet [pokemondb.net](http://pokemondb.net/pokedex/national). \n",
    "\n",
    "1. les informations personnelles des ``893`` pokemons sur le site internet [pokemondb.net](http://pokemondb.net/pokedex/national). Les informations que nous aimerions obtenir au final dans un DataFrame  sont celles contenues dans 4 tableaux :\n",
    "\n",
    "- Pokédex data\n",
    "- Training\n",
    "- Breeding\n",
    "- Base stats\n",
    "\n",
    "2. Nous aimerions que vous récupériez également les images de chacun des pokémons et que vous les enregistriez dans un dossier  \n",
    "\n",
    "* Petit indice : utilisez les modules request et [shutil](https://docs.python.org/3/library/shutil.html)\n",
    "* Pour cette question, il faut que vous cherchiez de vous même certains éléments :strong:, tout n'est pas présent dans le TD."
   ]
  },
  {
   "cell_type": "markdown",
   "id": "2eb5b7d8",
   "metadata": {},
   "source": [
    "Pour la question 1, l'objectif est d'obtenir une information comme celle-ci \n",
    "(Pokemon [Nincada](http://pokemondb.net/pokedex/nincada).)\n",
    "\n",
    "<div class=\"grid-col span-md-6 span-lg-4\">\n",
    "<h2>Pokédex data</h2>\n",
    "<table class=\"vitals-table\">\n",
    "<tbody>\n",
    "<tr>\n",
    "<th>National №</th>\n",
    "<td><strong>290</strong></td>\n",
    "</tr>\n",
    "<tr>\n",
    "<th>Type</th>\n",
    "<td>\n",
    "<a class=\"type-icon type-bug\" href=\"/type/bug\">Bug</a> <a class=\"type-icon type-ground\" href=\"/type/ground\">Ground</a> </td>\n",
    "</tr>\n",
    "<tr>\n",
    "<th>Species</th>\n",
    "<td>Trainee Pokémon</td>\n",
    "</tr>\n",
    "<tr>\n",
    "<th>Height</th>\n",
    "<td>0.5&nbsp;m (1′08″)</td>\n",
    "</tr>\n",
    "<tr>\n",
    "<th>Weight</th>\n",
    "<td>5.5&nbsp;kg (12.1&nbsp;lbs)</td>\n",
    "</tr>\n",
    "<tr>\n",
    "<th>Abilities</th>\n",
    "<td><span class=\"text-muted\">1. <a href=\"/ability/compound-eyes\" title=\"The Pokémon's accuracy is boosted.\">Compound Eyes</a></span><br><small class=\"text-muted\"><a href=\"/ability/run-away\" title=\"Enables a sure getaway from wild Pokémon.\">Run Away</a> (hidden ability)</small><br></td>\n",
    "</tr>\n",
    "<tr>\n",
    "<th>Local №</th>\n",
    "<td>042 <small class=\"text-muted\">(Ruby/Sapphire/Emerald)</small><br>111 <small class=\"text-muted\">(X/Y — Central Kalos)</small><br>043 <small class=\"text-muted\">(Omega Ruby/Alpha Sapphire)</small><br>104 <small class=\"text-muted\">(Sword/Shield)</small><br></td>\n",
    "</tr>\n",
    "</tbody>\n",
    "</table>\n",
    "</div>"
   ]
  },
  {
   "cell_type": "markdown",
   "id": "113b5f5b",
   "metadata": {},
   "source": [
    "<div class=\"grid-col span-md-12 span-lg-4\">\n",
    "<div class=\"grid-row\">\n",
    "<div class=\"grid-col span-md-6 span-lg-12\">\n",
    "<h2>Training</h2>\n",
    "<table class=\"vitals-table\">\n",
    "<tbody>\n",
    "<tr>\n",
    "<th>EV yield</th>\n",
    "<td class=\"text\">\n",
    "1 Defense </td>\n",
    "</tr>\n",
    "<tr>\n",
    "<th>Catch rate</th>\n",
    "<td>255 <small class=\"text-muted\">(33.3% with PokéBall, full HP)</small></td>\n",
    "</tr>\n",
    "<tr>\n",
    "<th>Base <a href=\"/glossary#def-friendship\">Friendship</a></th>\n",
    "<td>70 <small class=\"text-muted\">(normal)</small></td>\n",
    "</tr>\n",
    "<tr>\n",
    "<th>Base Exp.</th>\n",
    "<td>53</td>\n",
    "</tr>\n",
    "<tr>\n",
    "<th>Growth Rate</th>\n",
    "<td>Erratic</td>\n",
    "</tr>\n",
    "</tbody>\n",
    "</table>\n",
    "</div>\n",
    "<div class=\"grid-col span-md-6 span-lg-12\">\n",
    "<h2>Breeding</h2>\n",
    "<table class=\"vitals-table\">\n",
    "<tbody>\n",
    "<tr>\n",
    "<th>Egg Groups</th>\n",
    "<td>\n",
    "<a href=\"/egg-group/bug\">Bug</a> </td>\n",
    "</tr>\n",
    "<tr>\n",
    "<th>Gender</th>\n",
    "<td><span class=\"text-blue\">50% male</span>, <span class=\"text-pink\">50% female</span></td> </tr>\n",
    "<tr>\n",
    "<th><a href=\"/glossary#def-eggcycle\">Egg cycles</a></th>\n",
    "<td>15 <small class=\"text-muted\">(3,599–3,855 steps)</small>\n",
    "</td>\n",
    "</tr>\n",
    "</tbody>\n",
    "</table>\n",
    "</div>\n",
    "</div>\n",
    "</div>\n",
    "\n",
    "<div class=\"grid-col span-md-12 span-lg-8\">\n",
    "<div id=\"dex-stats\"></div>\n",
    "<h2>Base stats</h2>\n",
    "<div class=\"resp-scroll\">\n",
    "<table class=\"vitals-table\">\n",
    "<tbody>\n",
    "<tr>\n",
    "<th>HP</th>\n",
    "<td class=\"cell-num\">31</td>\n",
    "<td class=\"cell-barchart\">\n",
    "<div style=\"width:17.22%;\" class=\"barchart-bar barchart-rank-2 \"></div>\n",
    "</td>\n",
    "<td class=\"cell-num\">172</td>\n",
    "<td class=\"cell-num\">266</td>\n",
    "</tr>\n",
    "<tr>\n",
    "<th>Attack</th>\n",
    "<td class=\"cell-num\">45</td>\n",
    "<td class=\"cell-barchart\">\n",
    "<div style=\"width:25.00%;\" class=\"barchart-bar barchart-rank-2 \"></div>\n",
    "</td>\n",
    "<td class=\"cell-num\">85</td>\n",
    "<td class=\"cell-num\">207</td>\n",
    "</tr>\n",
    "<tr>\n",
    "<th>Defense</th>\n",
    "<td class=\"cell-num\">90</td>\n",
    "<td class=\"cell-barchart\">\n",
    "<div style=\"width:50.00%;\" class=\"barchart-bar barchart-rank-4 \"></div>\n",
    "</td>\n",
    "<td class=\"cell-num\">166</td>\n",
    "<td class=\"cell-num\">306</td>\n",
    "</tr>\n",
    "<tr>\n",
    "<th>Sp. Atk</th>\n",
    "<td class=\"cell-num\">30</td>\n",
    "<td class=\"cell-barchart\">\n",
    "<div style=\"width:16.67%;\" class=\"barchart-bar barchart-rank-2 \"></div>\n",
    "</td>\n",
    "<td class=\"cell-num\">58</td>\n",
    "<td class=\"cell-num\">174</td>\n",
    "</tr>\n",
    "<tr>\n",
    "<th>Sp. Def</th>\n",
    "<td class=\"cell-num\">30</td>\n",
    "<td class=\"cell-barchart\">\n",
    "<div style=\"width:16.67%;\" class=\"barchart-bar barchart-rank-2 \"></div>\n",
    "</td>\n",
    "<td class=\"cell-num\">58</td>\n",
    "<td class=\"cell-num\">174</td>\n",
    "</tr>\n",
    "<tr>\n",
    "<th>Speed</th>\n",
    "<td class=\"cell-num\">40</td>\n",
    "<td class=\"cell-barchart\">\n",
    "<div style=\"width:22.22%;\" class=\"barchart-bar barchart-rank-2 \"></div>\n",
    "</td>\n",
    "<td class=\"cell-num\">76</td>\n",
    "<td class=\"cell-num\">196</td>\n",
    "</tr>\n",
    "</tbody>\n",
    "<tfoot>\n",
    "<tr>\n",
    "<th>Total</th>\n",
    "<td class=\"cell-total\"><b>266</b></td>\n",
    "<th class=\"cell-barchart\"></th>\n",
    "<th>Min</th>\n",
    "<th>Max</th>\n",
    "</tr>\n",
    "</tfoot>\n",
    "</table>\n",
    "</div>\n",
    "</div>\n"
   ]
  },
  {
   "cell_type": "markdown",
   "id": "1b7b079d",
   "metadata": {},
   "source": [
    "# Exercice 1 : Les pokémons (version guidée)"
   ]
  },
  {
   "cell_type": "markdown",
   "id": "131df831",
   "metadata": {},
   "source": [
    "**Exercice 1 : Les pokémons (version guidée)**\n",
    "\n",
    "Pour cet exercice, nous vous demandons d'obtenir différentes informations sur les pokémons à partir du site internet [pokemondb.net](http://pokemondb.net/pokedex/national). \n",
    "\n",
    "**Etape 1**\n",
    "\n",
    "Nous souhaitons tout d'abord obtenir les informations personnelles des ``893`` pokemons sur [pokemondb.net](http://pokemondb.net/pokedex/national). Les informations que nous aimerions obtenir au final pour les pokemons sont celles contenues dans 4 tableaux :\n",
    "\n",
    "- Pokédex data\n",
    "- Training\n",
    "- Breeding\n",
    "- Base stats\n",
    "\n",
    "Plus haut est disponible un exemple.\n",
    "\n",
    "Pour cela, le code devra être divisé en plusieurs étapes : \n",
    "\n",
    "1. Trouvez la page principale du site et la transformez en un objet intelligible pour votre code. Les fonctions suivantes vous seront utiles :\n",
    "- urllib.request.Request\n",
    "- urllib.request.urlopen\n",
    "- bs4.BeautifulSoup\n",
    "\n",
    "Note : pour ce site, il faudra ajouter un paramètre supplémentaire à la fonction Request \n",
    "\n",
    "``urllib.request.Request( www.sitequinousintéresse.com ,headers={'User-Agent': 'Mozilla/5.0'})`` \n"
   ]
  },
  {
   "cell_type": "markdown",
   "id": "1a6ae106",
   "metadata": {},
   "source": [
    "2. Créez une fonction qui permet de récupérer la page d'un pokémon à partir de son nom.\n"
   ]
  },
  {
   "cell_type": "markdown",
   "id": "3d3e7155",
   "metadata": {},
   "source": [
    "3. A partir de la page de ``bulbasaur``, obtenez les 4 tableaux qui nous intéressent :\n",
    "- on va chercher l'élément suivant : ('table', { 'class' : \"vitals-table\"}\n",
    "- puis stocker ses éléments dans un dictionnaire\n"
   ]
  },
  {
   "cell_type": "markdown",
   "id": "c7fecd52",
   "metadata": {},
   "source": [
    "4. Récupérez par ailleurs la liste de noms des pokémons qui nous permettra de faire une boucle par la suite. Combien trouvez-vous de pokémons ? \n"
   ]
  },
  {
   "cell_type": "markdown",
   "id": "7a97194d",
   "metadata": {},
   "source": [
    "5. Ecrire une fonction qui récupère l'ensemble des informations sur les dix premiers pokémons de la liste et les intègre dans un data.frame\n"
   ]
  },
  {
   "cell_type": "markdown",
   "id": "87f7c41b",
   "metadata": {},
   "source": [
    "**Etape 2**\n",
    "\n",
    "Nous aimerions que vous récupériez également les images des 5 premiers pokémons et que vous les enregistriez dans un dossier  \n",
    "\n",
    "(indice : utilisez les modules request et [shutil](https://docs.python.org/3/library/shutil.html))\n",
    "\n",
    "_pour cette question, il faut que vous cherchiez de vous même certains éléments, tout n'est pas présent dans le TD_.\n",
    "\n"
   ]
  },
  {
   "cell_type": "markdown",
   "id": "13e541ec",
   "metadata": {},
   "source": [
    "# Exercice supplémentaire [BONUS]"
   ]
  },
  {
   "cell_type": "markdown",
   "id": "8c9775e4",
   "metadata": {},
   "source": [
    "Scraper la liste des ministres français depuis wikipedia. Faire une graphique qui représente la distribution de leur âge.\n"
   ]
  },
  {
   "cell_type": "markdown",
   "id": "625703b1",
   "metadata": {},
   "source": [
    "# Application : Aller sur internet avec Selenium\n",
    "\n",
    "Jusqu'à présent, nous avons raisonné comme si nous connaissions toujours l'url qui nous intéresse. De plus, les pages que nous visitons sont \"statiques\", elles ne dépendent pas d'une action ou d'une recherche de l'internaute. \n",
    "\n",
    "Nous allons voir à présent comment nous en sortir pour remplir des champs sur un site web et récupérer ce qui nous intéresse. \n",
    "\n",
    "L'avantage du package [Selenium](https://pypi.python.org/pypi/selenium) est d'obtenir des informations du site qui ne sont pas dans le code html mais qui apparaissent uniquement à la suite de l'exécution de script javascript en arrière plan. \n",
    "\n",
    "Selenium se comporte comme un utilisateur lambda sur internet : il clique sur des liens, il remplit des formulaires etc. Dans cet exemple, nous allons essayer de aller sur le site de [Bing Actualités](https://www.bing.com/news) et entrer dans la barre de recherche un sujet donné (Trump). \n",
    "\n",
    "La version de [chromedriver](https://sites.google.com/a/chromium.org/chromedriver/) doit être ``>= 2.36`` et dépend de la version de Chrome que vous avez sur votre poste.\n"
   ]
  },
  {
   "cell_type": "code",
   "execution_count": null,
   "id": "78f41512",
   "metadata": {
    "lines_to_next_cell": 0
   },
   "outputs": [],
   "source": [
    "# Si selenium n'est pas installé.\n",
    "# #!pip install selenium"
   ]
  },
  {
   "cell_type": "markdown",
   "id": "83ae0409",
   "metadata": {},
   "source": [
    "\n"
   ]
  },
  {
   "cell_type": "code",
   "execution_count": null,
   "id": "8ef34d96",
   "metadata": {
    "lines_to_next_cell": 2
   },
   "outputs": [],
   "source": [
    "# Sur votre poste  \n",
    "# télécharger le chrome driver https://chromedriver.storage.googleapis.com/index.html?path=85.0.4183.83/\n",
    "\n",
    "# Sur google colab \n",
    "# https://stackoverflow.com/questions/51046454/how-can-we-use-selenium-webdriver-in-colab-research-google-com\n",
    "!apt-get update # to update ubuntu to correctly run apt install\n",
    "!apt install chromium-chromedriver\n",
    "!cp /usr/lib/chromium-browser/chromedriver /usr/bin\n",
    "import sys\n",
    "sys.path.insert(0,'/usr/lib/chromium-browser/chromedriver')"
   ]
  },
  {
   "cell_type": "code",
   "execution_count": null,
   "id": "14f81673",
   "metadata": {},
   "outputs": [],
   "source": [
    "import selenium\n",
    "path_to_web_driver = \"chromedriver\""
   ]
  },
  {
   "cell_type": "markdown",
   "id": "f12ce37c",
   "metadata": {},
   "source": [
    "On va sur le site de Bing Actualités, et on lui indique le mot clé que nous souhaitons chercher. \n",
    "\n",
    "Dans cet exemple, on va voir que l'ordinateur va ouvrir une nouvelle fenêtre.\n"
   ]
  },
  {
   "cell_type": "code",
   "execution_count": null,
   "id": "d04eae60",
   "metadata": {
    "lines_to_next_cell": 2
   },
   "outputs": [],
   "source": [
    "import time\n",
    "\n",
    "from selenium import webdriver\n",
    "from selenium.webdriver.common.keys import Keys\n",
    "\n",
    "chrome_options = webdriver.ChromeOptions()\n",
    "chrome_options.add_argument('--headless')\n",
    "chrome_options.add_argument('--no-sandbox')\n",
    "#chrome_options.add_argument('--verbose') \n",
    "#chrome_options.add_argument('--disable-dev-shm-usage')\n",
    "\n",
    "browser = webdriver.Chrome(executable_path=path_to_web_driver,\n",
    "                           options=chrome_options)\n",
    "\n",
    "browser.get('https://www.bing.com/news')\n",
    "\n",
    "# on cherche l'endroit où on peut remplir un formulaire\n",
    "# en utilisant les outils du navigateur > inspecter les éléments de la page\n",
    "# on voit que la barre de recherche est un élement du code appelé 'q' comme query\n",
    "# on lui demande de chercher cet élément\n",
    "\n",
    "search = browser.find_element_by_name('q')\n",
    "print(search)\n",
    "print([search.text, search.tag_name, search.id])\n",
    "\n",
    "# on envoie à cet endroit le mot qu'on aurait tapé dans la barre de recherche\n",
    "search.send_keys(\"Trump\")\n",
    "\n",
    "search_button = browser.find_element_by_xpath(\"//input[@id='sb_form_go']\")\n",
    "\n",
    "#search_button = browser.find_element_by_id('search_button_homepage')\n",
    " \n",
    "search_button.click()\n",
    "\n",
    "# on appuie sur le bouton \"Entrée\" Return en anglais\n",
    "#search.send_keys(Keys.RETURN)"
   ]
  },
  {
   "cell_type": "code",
   "execution_count": null,
   "id": "832e79fa",
   "metadata": {},
   "outputs": [],
   "source": [
    "png = browser.get_screenshot_as_png()"
   ]
  },
  {
   "cell_type": "markdown",
   "id": "12415e50",
   "metadata": {},
   "source": [
    "```\n",
    "## Error in py_call_impl(callable, dots$args, dots$keywords): NameError: name 'browser' is not defined\n",
    "## \n",
    "## Detailed traceback: \n",
    "##   File \"<string>\", line 1, in <module>\n",
    "```\n"
   ]
  },
  {
   "cell_type": "code",
   "execution_count": null,
   "id": "a5ee19f8",
   "metadata": {},
   "outputs": [],
   "source": [
    "from IPython.display import Image\n",
    "Image(png, width='500')"
   ]
  },
  {
   "cell_type": "markdown",
   "id": "8cec1cee",
   "metadata": {},
   "source": [
    "```\n",
    "## Error in py_call_impl(callable, dots$args, dots$keywords): NameError: name 'png' is not defined\n",
    "## \n",
    "## Detailed traceback: \n",
    "##   File \"<string>\", line 1, in <module>\n",
    "```\n",
    "\n",
    "On extrait les résultats.\n"
   ]
  },
  {
   "cell_type": "code",
   "execution_count": null,
   "id": "a71de300",
   "metadata": {},
   "outputs": [],
   "source": [
    "from selenium.common.exceptions import StaleElementReferenceException\n",
    "links = browser.find_elements_by_xpath(\"//div/a[@class='title'][@href]\")"
   ]
  },
  {
   "cell_type": "markdown",
   "id": "fc53131b",
   "metadata": {},
   "source": [
    "```\n",
    "## Error in py_call_impl(callable, dots$args, dots$keywords): NameError: name 'browser' is not defined\n",
    "## \n",
    "## Detailed traceback: \n",
    "##   File \"<string>\", line 1, in <module>\n",
    "```"
   ]
  },
  {
   "cell_type": "code",
   "execution_count": null,
   "id": "0373601b",
   "metadata": {},
   "outputs": [],
   "source": [
    "results = []\n",
    "for link in links:\n",
    "    try:\n",
    "        url = link.get_attribute('href')\n",
    "    except StaleElementReferenceException as e:\n",
    "        print(\"Issue with '{0}' and '{1}'\".format(url, link))\n",
    "        print(\"It might be due to slow javascript which produces the HTML page.\")\n",
    "    results.append(url)"
   ]
  },
  {
   "cell_type": "markdown",
   "id": "ac89a274",
   "metadata": {},
   "source": [
    "```\n",
    "## Error in py_call_impl(callable, dots$args, dots$keywords): NameError: name 'links' is not defined\n",
    "## \n",
    "## Detailed traceback: \n",
    "##   File \"<string>\", line 1, in <module>\n",
    "```"
   ]
  },
  {
   "cell_type": "code",
   "execution_count": null,
   "id": "6f5a5c8a",
   "metadata": {},
   "outputs": [],
   "source": [
    "len(results)"
   ]
  },
  {
   "cell_type": "markdown",
   "id": "123d4f36",
   "metadata": {},
   "source": [
    "```\n",
    "## 0\n",
    "```\n"
   ]
  },
  {
   "cell_type": "code",
   "execution_count": null,
   "id": "d118b499",
   "metadata": {},
   "outputs": [],
   "source": [
    "# on a une pause de 10 secondes pour aller voir ce qui se passe sur la page internet\n",
    "# on demande de quitter le navigateur quand tout est fini\n",
    "browser.quit()"
   ]
  },
  {
   "cell_type": "markdown",
   "id": "469f854d",
   "metadata": {},
   "source": [
    "```\n",
    "## Error in py_call_impl(callable, dots$args, dots$keywords): NameError: name 'browser' is not defined\n",
    "## \n",
    "## Detailed traceback: \n",
    "##   File \"<string>\", line 1, in <module>\n",
    "```\n"
   ]
  },
  {
   "cell_type": "code",
   "execution_count": null,
   "id": "1cbf79b7",
   "metadata": {},
   "outputs": [],
   "source": [
    "print(results)"
   ]
  },
  {
   "cell_type": "markdown",
   "id": "e3192147",
   "metadata": {},
   "source": [
    "```\n",
    "## []\n",
    "```\n",
    "\n",
    "### Utiliser selenium pour jouer à 2048\n",
    "\n",
    "Dans cet exemple, on utilise le module pour que python appuie lui même sur les touches du clavier afin de jouer à 2048.\n",
    "\n",
    "Note : ce bout de code ne donne pas une solution à 2048, il permet juste de voir ce qu'on peut faire avec selenium\n"
   ]
  },
  {
   "cell_type": "code",
   "execution_count": null,
   "id": "25317b7f",
   "metadata": {},
   "outputs": [],
   "source": [
    "from selenium import webdriver\n",
    "from selenium.webdriver.common.keys import Keys\n",
    "\n",
    "# on ouvre la page internet du jeu 2048\n",
    "\n",
    "browser = webdriver.Chrome(executable_path=path_to_web_driver,\n",
    "                           options=chrome_options)"
   ]
  },
  {
   "cell_type": "markdown",
   "id": "b6b06706",
   "metadata": {},
   "source": [
    "```\n",
    "## Error in py_call_impl(callable, dots$args, dots$keywords): NameError: name 'chrome_options' is not defined\n",
    "## \n",
    "## Detailed traceback: \n",
    "##   File \"<string>\", line 2, in <module>\n",
    "```"
   ]
  },
  {
   "cell_type": "code",
   "execution_count": null,
   "id": "d4b9e8c7",
   "metadata": {},
   "outputs": [],
   "source": [
    "browser.get('https://play2048.co//')\n",
    "\n",
    "# Ce qu'on va faire : une boucle qui répète inlassablement la même chose : haut / droite / bas / gauche\n",
    "\n",
    "# on commence par cliquer sur la page pour que les touches sachent "
   ]
  },
  {
   "cell_type": "markdown",
   "id": "c2b38408",
   "metadata": {},
   "source": [
    "```\n",
    "## Error in py_call_impl(callable, dots$args, dots$keywords): NameError: name 'browser' is not defined\n",
    "## \n",
    "## Detailed traceback: \n",
    "##   File \"<string>\", line 1, in <module>\n",
    "```"
   ]
  },
  {
   "cell_type": "code",
   "execution_count": null,
   "id": "cda719fd",
   "metadata": {},
   "outputs": [],
   "source": [
    "browser.find_element_by_class_name('grid-container').click()"
   ]
  },
  {
   "cell_type": "markdown",
   "id": "8d3db24a",
   "metadata": {},
   "source": [
    "```\n",
    "## Error in py_call_impl(callable, dots$args, dots$keywords): NameError: name 'browser' is not defined\n",
    "## \n",
    "## Detailed traceback: \n",
    "##   File \"<string>\", line 1, in <module>\n",
    "```"
   ]
  },
  {
   "cell_type": "code",
   "execution_count": null,
   "id": "d5110da0",
   "metadata": {},
   "outputs": [],
   "source": [
    "grid = browser.find_element_by_tag_name('body')\n",
    "\n",
    "# pour savoir quels coups faire à quel moment, on crée un dictionnaire"
   ]
  },
  {
   "cell_type": "markdown",
   "id": "d9051c28",
   "metadata": {},
   "source": [
    "```\n",
    "## Error in py_call_impl(callable, dots$args, dots$keywords): NameError: name 'browser' is not defined\n",
    "## \n",
    "## Detailed traceback: \n",
    "##   File \"<string>\", line 1, in <module>\n",
    "```"
   ]
  },
  {
   "cell_type": "code",
   "execution_count": null,
   "id": "59a80744",
   "metadata": {},
   "outputs": [],
   "source": [
    "direction = {0: Keys.UP, 1: Keys.RIGHT, 2: Keys.DOWN, 3: Keys.LEFT}\n",
    "count = 0\n",
    "\n",
    "while True:\n",
    "    try: # on vérifie que le bouton \"Try again\" n'est pas là - sinon ça veut dire que le jeu est fini\n",
    "        retryButton = browser.find_element_by_link_text('Try again')\n",
    "        scoreElem = browser.find_element_by_class_name('score-container')\n",
    "        break\n",
    "    except:\n",
    "        #Do nothing.  Game is not over yet\n",
    "        pass\n",
    "    # on continue le jeu - on appuie sur la touche suivante pour le coup d'après\n",
    "    count += 1\n",
    "    grid.send_keys(direction[count % 4]) \n",
    "    time.sleep(0.1)"
   ]
  },
  {
   "cell_type": "markdown",
   "id": "8974f358",
   "metadata": {},
   "source": [
    "```\n",
    "## Error in py_call_impl(callable, dots$args, dots$keywords): NameError: name 'grid' is not defined\n",
    "## \n",
    "## Detailed traceback: \n",
    "##   File \"<string>\", line 11, in <module>\n",
    "```"
   ]
  },
  {
   "cell_type": "code",
   "execution_count": null,
   "id": "75201068",
   "metadata": {},
   "outputs": [],
   "source": [
    "print('Score final : {} en {} coups'.format(scoreElem.text, count))    "
   ]
  },
  {
   "cell_type": "markdown",
   "id": "002f483b",
   "metadata": {},
   "source": [
    "```\n",
    "## Error in py_call_impl(callable, dots$args, dots$keywords): NameError: name 'scoreElem' is not defined\n",
    "## \n",
    "## Detailed traceback: \n",
    "##   File \"<string>\", line 1, in <module>\n",
    "```"
   ]
  },
  {
   "cell_type": "code",
   "execution_count": null,
   "id": "33818ed7",
   "metadata": {},
   "outputs": [],
   "source": [
    "browser.quit()"
   ]
  },
  {
   "cell_type": "markdown",
   "id": "0150b3ca",
   "metadata": {},
   "source": [
    "```\n",
    "## Error in py_call_impl(callable, dots$args, dots$keywords): NameError: name 'browser' is not defined\n",
    "## \n",
    "## Detailed traceback: \n",
    "##   File \"<string>\", line 1, in <module>\n",
    "```"
   ]
  }
 ],
 "metadata": {
  "kernelspec": {
   "display_name": "Python 3",
   "language": "python",
   "name": "python3"
  }
 },
 "nbformat": 4,
 "nbformat_minor": 5
}
