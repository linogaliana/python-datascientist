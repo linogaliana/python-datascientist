{
  "cells": [
    {
      "cell_type": "markdown",
      "metadata": {},
      "source": [
        "# Webscraping avec python"
      ],
      "id": "5159dc6a-b48f-4638-b4cb-28e9e46cee2f"
    },
    {
      "cell_type": "raw",
      "metadata": {
        "raw_mimetype": "text/html"
      },
      "source": [
        "<p class=\"badges\">"
      ],
      "id": "b828509a-e877-4228-8dab-150ef6a826be"
    },
    {
      "cell_type": "markdown",
      "metadata": {},
      "source": [
        "<a href=\"https://github.com/linogaliana/python-datascientist/blob/master/notebooks/course/manipulation/04_webscraping_TP.ipynb\" class=\"github\"><i class=\"fab fa-github\"></i></a>\n",
        "<a href=\"https://downgit.github.io/#/home?url=https://github.com/linogaliana/python-datascientist/blob/master/notebooks/course/manipulation/04_webscraping_TP.ipynb\" target=\"_blank\" rel=\"noopener\"><img src=\"https://img.shields.io/badge/Download-Notebook-important?logo=Jupyter\" alt=\"Download\"></a>\n",
        "<a href=\"https://nbviewer.jupyter.org/github/linogaliana/python-datascientist/blob/master/notebooks/course/manipulation/04_webscraping_TP.ipynb\" target=\"_blank\" rel=\"noopener\"><img src=\"https://img.shields.io/badge/Visualize-nbviewer-blue?logo=Jupyter\" alt=\"nbviewer\"></a>\n",
        "<a href=\"https://datalab.sspcloud.fr/launcher/inseefrlab-helm-charts-datascience/jupyter?autoLaunch=true&onyxia.friendlyName=%C2%ABpython-datascience%C2%BB&init.personalInit=%C2%ABhttps%3A%2F%2Fraw.githubusercontent.com%2Flinogaliana%2Fpython-datascientist%2Fmaster%2Fsspcloud%2Finit-jupyter.sh%C2%BB&init.personalInitArgs=%C2%ABnotebooks/course/manipulation%2004_webscraping_TP.ipynb%C2%BB&security.allowlist.enabled=false\" target=\"_blank\" rel=\"noopener\"><img src=\"https://img.shields.io/badge/SSPcloud-Tester%20via%20SSP--cloud-informational&amp;color=yellow?logo=Python\" alt=\"Onyxia\"></a><br>\n",
        "<a href=\"https://mybinder.org/v2/gh/linogaliana/python-datascientist/master?filepath={binder_path}\" target=\"_blank\" rel=\"noopener\"><img src=\"https://img.shields.io/badge/Launch-Binder-E66581.svg?logo=data:image/png;base64,iVBORw0KGgoAAAANSUhEUgAAAFkAAABZCAMAAABi1XidAAAB8lBMVEX///9XmsrmZYH1olJXmsr1olJXmsrmZYH1olJXmsr1olJXmsrmZYH1olL1olJXmsr1olJXmsrmZYH1olL1olJXmsrmZYH1olJXmsr1olL1olJXmsrmZYH1olL1olJXmsrmZYH1olL1olL0nFf1olJXmsrmZYH1olJXmsq8dZb1olJXmsrmZYH1olJXmspXmspXmsr1olL1olJXmsrmZYH1olJXmsr1olL1olJXmsrmZYH1olL1olLeaIVXmsrmZYH1olL1olL1olJXmsrmZYH1olLna31Xmsr1olJXmsr1olJXmsrmZYH1olLqoVr1olJXmsr1olJXmsrmZYH1olL1olKkfaPobXvviGabgadXmsqThKuofKHmZ4Dobnr1olJXmsr1olJXmspXmsr1olJXmsrfZ4TuhWn1olL1olJXmsqBi7X1olJXmspZmslbmMhbmsdemsVfl8ZgmsNim8Jpk8F0m7R4m7F5nLB6jbh7jbiDirOEibOGnKaMhq+PnaCVg6qWg6qegKaff6WhnpKofKGtnomxeZy3noG6dZi+n3vCcpPDcpPGn3bLb4/Mb47UbIrVa4rYoGjdaIbeaIXhoWHmZYHobXvpcHjqdHXreHLroVrsfG/uhGnuh2bwj2Hxk17yl1vzmljzm1j0nlX1olL3AJXWAAAAbXRSTlMAEBAQHx8gICAuLjAwMDw9PUBAQEpQUFBXV1hgYGBkcHBwcXl8gICAgoiIkJCQlJicnJ2goKCmqK+wsLC4usDAwMjP0NDQ1NbW3Nzg4ODi5+3v8PDw8/T09PX29vb39/f5+fr7+/z8/Pz9/v7+zczCxgAABC5JREFUeAHN1ul3k0UUBvCb1CTVpmpaitAGSLSpSuKCLWpbTKNJFGlcSMAFF63iUmRccNG6gLbuxkXU66JAUef/9LSpmXnyLr3T5AO/rzl5zj137p136BISy44fKJXuGN/d19PUfYeO67Znqtf2KH33Id1psXoFdW30sPZ1sMvs2D060AHqws4FHeJojLZqnw53cmfvg+XR8mC0OEjuxrXEkX5ydeVJLVIlV0e10PXk5k7dYeHu7Cj1j+49uKg7uLU61tGLw1lq27ugQYlclHC4bgv7VQ+TAyj5Zc/UjsPvs1sd5cWryWObtvWT2EPa4rtnWW3JkpjggEpbOsPr7F7EyNewtpBIslA7p43HCsnwooXTEc3UmPmCNn5lrqTJxy6nRmcavGZVt/3Da2pD5NHvsOHJCrdc1G2r3DITpU7yic7w/7Rxnjc0kt5GC4djiv2Sz3Fb2iEZg41/ddsFDoyuYrIkmFehz0HR2thPgQqMyQYb2OtB0WxsZ3BeG3+wpRb1vzl2UYBog8FfGhttFKjtAclnZYrRo9ryG9uG/FZQU4AEg8ZE9LjGMzTmqKXPLnlWVnIlQQTvxJf8ip7VgjZjyVPrjw1te5otM7RmP7xm+sK2Gv9I8Gi++BRbEkR9EBw8zRUcKxwp73xkaLiqQb+kGduJTNHG72zcW9LoJgqQxpP3/Tj//c3yB0tqzaml05/+orHLksVO+95kX7/7qgJvnjlrfr2Ggsyx0eoy9uPzN5SPd86aXggOsEKW2Prz7du3VID3/tzs/sSRs2w7ovVHKtjrX2pd7ZMlTxAYfBAL9jiDwfLkq55Tm7ifhMlTGPyCAs7RFRhn47JnlcB9RM5T97ASuZXIcVNuUDIndpDbdsfrqsOppeXl5Y+XVKdjFCTh+zGaVuj0d9zy05PPK3QzBamxdwtTCrzyg/2Rvf2EstUjordGwa/kx9mSJLr8mLLtCW8HHGJc2R5hS219IiF6PnTusOqcMl57gm0Z8kanKMAQg0qSyuZfn7zItsbGyO9QlnxY0eCuD1XL2ys/MsrQhltE7Ug0uFOzufJFE2PxBo/YAx8XPPdDwWN0MrDRYIZF0mSMKCNHgaIVFoBbNoLJ7tEQDKxGF0kcLQimojCZopv0OkNOyWCCg9XMVAi7ARJzQdM2QUh0gmBozjc3Skg6dSBRqDGYSUOu66Zg+I2fNZs/M3/f/Grl/XnyF1Gw3VKCez0PN5IUfFLqvgUN4C0qNqYs5YhPL+aVZYDE4IpUk57oSFnJm4FyCqqOE0jhY2SMyLFoo56zyo6becOS5UVDdj7Vih0zp+tcMhwRpBeLyqtIjlJKAIZSbI8SGSF3k0pA3mR5tHuwPFoa7N7reoq2bqCsAk1HqCu5uvI1n6JuRXI+S1Mco54YmYTwcn6Aeic+kssXi8XpXC4V3t7/ADuTNKaQJdScAAAAAElFTkSuQmCC\" alt=\"Binder\"></a>\n",
        "<a href=\"http://colab.research.google.com/github/linogaliana/python-datascientist/blob/master/notebooks/course/manipulation/04_webscraping_TP.ipynb\" target=\"_blank\" rel=\"noopener\"><img src=\"https://colab.research.google.com/assets/colab-badge.svg\" alt=\"Open In Colab\"></a>\n",
        "<a href=\"https://github.dev/linogaliana/python-datascientist/notebooks/course/manipulation/04_webscraping_TP.ipynb\" target=\"_blank\" rel=\"noopener\"><img src=\"https://img.shields.io/static/v1?logo=visualstudiocode&label=&message=Open%20in%20Visual%20Studio%20Code&labelColor=2c2c32&color=007acc&logoColor=007acc\" alt=\"githubdev\"></a>"
      ],
      "id": "6a382c9c-a7c4-4211-beb9-f6cb9f34a38a"
    },
    {
      "cell_type": "raw",
      "metadata": {
        "raw_mimetype": "text/html"
      },
      "source": [
        "</p>"
      ],
      "id": "e99567ce-0c64-4cad-9b12-3b810a4e6e14"
    },
    {
      "cell_type": "raw",
      "metadata": {
        "raw_mimetype": "text/html"
      },
      "source": [
        "</p>"
      ],
      "id": "794611d3-3bf4-46bb-9385-5f2b12c1ffeb"
    },
    {
      "cell_type": "markdown",
      "metadata": {},
      "source": [
        "Le [webscraping](https://fr.wikipedia.org/wiki/Web_scraping) désigne les techniques d’extraction du contenu des sites internet. C’est une pratique très utile pour toute personne souhaitant travailler sur des informations disponibles en ligne, mais n’existant pas forcément sous la forme d’un tableau *Excel*.\n",
        "\n",
        "Ce TP vous présente comment créer et exécuter des robots afin de recupérer rapidement des informations utiles à vos projets actuels ou futurs.\n",
        "\n",
        "Le *webscraping* a un certain nombre d’enjeux en termes de légalité, qui ne seront pas enseignés dans ce cours mais dans un cours de 3A à l’ENSAE. En particulier, la CNIL a publié en 2020 de nouvelles directives sur le *webscraping* reprécisant que toute donnée ne peut être réutilisée à l’insu de la personne à laquelle ces données appartiennent.\n",
        "\n",
        "Enfin, il est à noter que ce notebook est très fortement inspiré et réadapté à partir de [celui de Xavier Dupré](http://www.xavierdupre.fr/app/ensae_teaching_cs/helpsphinx/notebooks/TD2A_Eco_Web_Scraping.html), l’ancien professeur de la matière.\n",
        "\n",
        "# Un détour par le Web : comment fonctionne un site ?\n",
        "\n",
        "Même si ce TP ne vise pas à faire un cours de web, il vous faut néanmoins certaines bases sur la manière dont un site internet fonctionne afin de comprendre comment sont structurées les informations sur une page.\n",
        "\n",
        "Un site Web est un ensemble de pages codées en *HTML* qui permet de décrire à la fois le contenu et la forme d’une page *Web*.\n",
        "\n",
        "Pour voir cela, ouvrez n’importe quelle page web et faites un clic-droit dessus.\n",
        "- Sous `Chrome` <i class=\"fab fa-chrome\"></i> : Cliquez ensuite sur “Affichez le code source de la page” (<kbd>CTRL</kbd>+<kbd>U</kbd>) ;\n",
        "- Sous `Firefox` <i class=\"fab fa-firefox\"></i> : “Code source de la page” (<kbd>CTRL</kbd>+<kbd>MAJ</kbd>+<kbd>K</kbd>) ;\n",
        "- Sous `Edge` <i class=\"fab fa-edge\"></i> : “Affichez la page source” (<kbd>CTRL</kbd>+<kbd>U</kbd>) ;\n",
        "- Sous `Safari` <i class=\"fab fa-safari\"></i> : voir comment faire [ici](https://fr.wikihow.com/voir-le-code-source)\n",
        "\n",
        "## Les balises\n",
        "\n",
        "Sur une page web, vous trouverez toujours à coup sûr des éléments comme `<head>`, `<title>`, etc. Il s’agit des codes qui vous permettent de structurer le contenu d’une page *HTML* et qui s’appellent des **balises**.\n",
        "Citons, par exemple, les balises `<p>`, `<h1>`, `<h2>`, `<h3>`, `<strong>` ou `<em>`.\n",
        "Le symbole `< >` est une balise : il sert à indiquer le début d’une partie. Le symbole `</ >` indique la fin de cette partie. La plupart des balises vont par paires, avec une *balise ouvrante* et une *balise fermante* (par exemple `<p>` et `</p>`).\n",
        "\n",
        "### Exemple : les balise des tableaux\n",
        "\n",
        "| Balise      | Description                     |\n",
        "|-------------|---------------------------------|\n",
        "| `<table>`   | Tableau                         |\n",
        "| `<caption>` | Titre du tableau                |\n",
        "| `<tr>`      | Ligne de tableau                |\n",
        "| `<th>`      | Cellule d’en-tête               |\n",
        "| `<td>`      | Cellule                         |\n",
        "| `<thead>`   | Section de l’en-tête du tableau |\n",
        "| `<tbody>`   | Section du corps du tableau     |\n",
        "| `<tfoot>`   | Section du pied du tableau      |\n",
        "\n",
        "**Application : un tableau en HTML**\n",
        "\n",
        "Le code *HTML* du tableau suivant\n",
        "\n",
        "``` {html}\n",
        "<table>\n",
        "<caption> Le Titre de mon tableau </caption>\n",
        "\n",
        "   <tr>\n",
        "      <th>Prénom</th>\n",
        "      <th>Nom</th>\n",
        "      <th>Profession</th>\n",
        "   </tr>\n",
        "   <tr>\n",
        "      <td>Mike </td>\n",
        "      <td>Stuntman</td>\n",
        "      <td>Cascadeur</td>\n",
        "   </tr>\n",
        "   <tr>\n",
        "      <td>Mister</td>\n",
        "      <td>Pink</td>\n",
        "      <td>Gangster</td>\n",
        "   </tr>\n",
        "</table>\n",
        "```\n",
        "\n",
        "Donnera dans le navigateur :"
      ],
      "id": "c5a80ba8-cfec-43cf-8850-f944e980dfcc"
    },
    {
      "cell_type": "raw",
      "metadata": {
        "raw_mimetype": "text/html"
      },
      "source": [
        "<table>"
      ],
      "id": "0d762747-d509-457c-a89a-8fd0756d8a42"
    },
    {
      "cell_type": "raw",
      "metadata": {
        "raw_mimetype": "text/html"
      },
      "source": [
        "<caption>"
      ],
      "id": "bfd5b526-0b58-439f-9446-51a8a2c54289"
    },
    {
      "cell_type": "markdown",
      "metadata": {},
      "source": [
        "Le Titre de mon tableau"
      ],
      "id": "ab36bfb5-13cf-4d93-9775-49951cb61af5"
    },
    {
      "cell_type": "raw",
      "metadata": {
        "raw_mimetype": "text/html"
      },
      "source": [
        "</caption>"
      ],
      "id": "61bae225-3a80-4921-8964-ef67bc463219"
    },
    {
      "cell_type": "raw",
      "metadata": {
        "raw_mimetype": "text/html"
      },
      "source": [
        "<tr>"
      ],
      "id": "923c256e-22f1-466b-8598-5723ecee37fe"
    },
    {
      "cell_type": "raw",
      "metadata": {
        "raw_mimetype": "text/html"
      },
      "source": [
        "<th>"
      ],
      "id": "2b1dfde1-b0a7-4fc4-90db-1ac95f39e77b"
    },
    {
      "cell_type": "markdown",
      "metadata": {},
      "source": [
        "Prénom"
      ],
      "id": "4fc79072-3eae-4832-8f11-3297c5200c6c"
    },
    {
      "cell_type": "raw",
      "metadata": {
        "raw_mimetype": "text/html"
      },
      "source": [
        "</th>"
      ],
      "id": "b0880aac-9850-4b18-8133-d95fb10eca01"
    },
    {
      "cell_type": "raw",
      "metadata": {
        "raw_mimetype": "text/html"
      },
      "source": [
        "<th>"
      ],
      "id": "66172ae9-38d6-4857-8a7a-a3b9c2ffe5c6"
    },
    {
      "cell_type": "markdown",
      "metadata": {},
      "source": [
        "Nom"
      ],
      "id": "e80e0c23-3ea3-4d6d-8900-7770d49b5e42"
    },
    {
      "cell_type": "raw",
      "metadata": {
        "raw_mimetype": "text/html"
      },
      "source": [
        "</th>"
      ],
      "id": "09a10ff6-c573-477e-ba2f-1d3f265c0d63"
    },
    {
      "cell_type": "raw",
      "metadata": {
        "raw_mimetype": "text/html"
      },
      "source": [
        "<th>"
      ],
      "id": "881f944d-01b0-4b02-b2fe-8f39660d2fc5"
    },
    {
      "cell_type": "markdown",
      "metadata": {},
      "source": [
        "Profession"
      ],
      "id": "1b899d8f-b030-4206-9e1a-5c89b9ad9d85"
    },
    {
      "cell_type": "raw",
      "metadata": {
        "raw_mimetype": "text/html"
      },
      "source": [
        "</th>"
      ],
      "id": "5e9f8239-07a6-489f-aeaf-e1872d9c0e67"
    },
    {
      "cell_type": "raw",
      "metadata": {
        "raw_mimetype": "text/html"
      },
      "source": [
        "</tr>"
      ],
      "id": "98138662-7ed0-4442-90e1-2aae3b5c4ffb"
    },
    {
      "cell_type": "raw",
      "metadata": {
        "raw_mimetype": "text/html"
      },
      "source": [
        "<tr>"
      ],
      "id": "996cf8aa-5aa2-480a-9f2d-01c3a2090afc"
    },
    {
      "cell_type": "raw",
      "metadata": {
        "raw_mimetype": "text/html"
      },
      "source": [
        "<td>"
      ],
      "id": "89df0d5f-b02c-4841-9ff2-bfe10d301a04"
    },
    {
      "cell_type": "markdown",
      "metadata": {},
      "source": [
        "Mike"
      ],
      "id": "76b71e4f-0510-458d-9700-454406bc53f7"
    },
    {
      "cell_type": "raw",
      "metadata": {
        "raw_mimetype": "text/html"
      },
      "source": [
        "</td>"
      ],
      "id": "4c689b73-8166-4da0-8f39-6c0bf3d2005a"
    },
    {
      "cell_type": "raw",
      "metadata": {
        "raw_mimetype": "text/html"
      },
      "source": [
        "<td>"
      ],
      "id": "31d7df87-99e7-43a4-aa47-cf9d77a1fec8"
    },
    {
      "cell_type": "markdown",
      "metadata": {},
      "source": [
        "Stuntman"
      ],
      "id": "0ee5aa7f-22a3-4f2d-8bcf-d5e60a31cd2f"
    },
    {
      "cell_type": "raw",
      "metadata": {
        "raw_mimetype": "text/html"
      },
      "source": [
        "</td>"
      ],
      "id": "ef308f50-a24a-44da-af48-01df1fc857e9"
    },
    {
      "cell_type": "raw",
      "metadata": {
        "raw_mimetype": "text/html"
      },
      "source": [
        "<td>"
      ],
      "id": "80b1b229-c2dd-473d-b959-c51087162e94"
    },
    {
      "cell_type": "markdown",
      "metadata": {},
      "source": [
        "Cascadeur"
      ],
      "id": "4bdc4e4d-2b0c-4ff6-a4f4-49283e0655aa"
    },
    {
      "cell_type": "raw",
      "metadata": {
        "raw_mimetype": "text/html"
      },
      "source": [
        "</td>"
      ],
      "id": "e57c647d-635e-4cd9-81ba-072e5fff0728"
    },
    {
      "cell_type": "raw",
      "metadata": {
        "raw_mimetype": "text/html"
      },
      "source": [
        "</tr>"
      ],
      "id": "5aea9101-56c5-4cf1-88d0-e3ff8f5e0530"
    },
    {
      "cell_type": "raw",
      "metadata": {
        "raw_mimetype": "text/html"
      },
      "source": [
        "<tr>"
      ],
      "id": "6a53096f-e2a7-4765-a6be-33ed14ef58f4"
    },
    {
      "cell_type": "raw",
      "metadata": {
        "raw_mimetype": "text/html"
      },
      "source": [
        "<td>"
      ],
      "id": "9e47f256-e90e-49a0-b286-d0be70c82dd2"
    },
    {
      "cell_type": "markdown",
      "metadata": {},
      "source": [
        "Mister"
      ],
      "id": "52be4cad-cca1-4a5a-830a-ef6150764e8a"
    },
    {
      "cell_type": "raw",
      "metadata": {
        "raw_mimetype": "text/html"
      },
      "source": [
        "</td>"
      ],
      "id": "534fa972-d2ff-4202-aea8-db635e38a8bb"
    },
    {
      "cell_type": "raw",
      "metadata": {
        "raw_mimetype": "text/html"
      },
      "source": [
        "<td>"
      ],
      "id": "76564b66-9e63-4b76-8249-b6284154e0b6"
    },
    {
      "cell_type": "markdown",
      "metadata": {},
      "source": [
        "Pink"
      ],
      "id": "7c129a02-00a3-42aa-94d9-8e71f242ca10"
    },
    {
      "cell_type": "raw",
      "metadata": {
        "raw_mimetype": "text/html"
      },
      "source": [
        "</td>"
      ],
      "id": "1d949436-7748-4d98-bf86-8455ef26a18e"
    },
    {
      "cell_type": "raw",
      "metadata": {
        "raw_mimetype": "text/html"
      },
      "source": [
        "<td>"
      ],
      "id": "8e99ec58-552f-4359-8912-75951a15dc13"
    },
    {
      "cell_type": "markdown",
      "metadata": {},
      "source": [
        "Gangster"
      ],
      "id": "510d3af7-5467-48eb-a677-14a2a02809c6"
    },
    {
      "cell_type": "raw",
      "metadata": {
        "raw_mimetype": "text/html"
      },
      "source": [
        "</td>"
      ],
      "id": "e3adc5cb-5cd5-41dd-a92a-0df550fc402b"
    },
    {
      "cell_type": "raw",
      "metadata": {
        "raw_mimetype": "text/html"
      },
      "source": [
        "</tr>"
      ],
      "id": "b8ee6595-4a01-4550-a5fd-7fa1de864d22"
    },
    {
      "cell_type": "raw",
      "metadata": {
        "raw_mimetype": "text/html"
      },
      "source": [
        "</table>"
      ],
      "id": "af3e2c94-cab7-404f-ab08-482f030f9392"
    },
    {
      "cell_type": "markdown",
      "metadata": {},
      "source": [
        "### Parent et enfant\n",
        "\n",
        "Dans le cadre du langage HTML, les termes de parent (*parent*) et enfant (*child*) servent à désigner des élements emboîtés les uns dans les autres. Dans la construction suivante, par exemple :\n",
        "\n",
        "``` html\n",
        "< div> \n",
        "    < p>\n",
        "       bla,bla\n",
        "    < /p>\n",
        "< /div>\n",
        "```\n",
        "\n",
        "Sur la page web, cela apparaitra de la manière suivante :\n",
        "\n",
        "    <p>\n",
        "       bla,bla\n",
        "    </p>\n",
        "\n",
        "On dira que l’élément `<div>` est le parent de l’élément `<p>` tandis que l’élément `<p>` est l’enfant de l’élément `<div>`.\n",
        "\n",
        "*Mais pourquoi apprendre ça pour “scraper”, me direz-vous ?*\n",
        "\n",
        "Parce que, pour bien récupérer les informations d’un site internet, il faut pouvoir comprendre sa structure et donc son code HTML. Les fonctions python qui servent au scraping sont principalement construites pour vous permettre de naviguer entre les balises.\n",
        "\n",
        "# Scraper avec python: le package `BeautifulSoup`\n",
        "\n",
        "## Les packages disponibles\n",
        "\n",
        "Nous allons essentiellement utiliser le package [BeautifulSoup4](https://www.crummy.com/software/BeautifulSoup/bs4/doc/) pour ce cours, mais d’autres packages existent (Selenium, Scrapy…). Il s’utilise souvent en conjonction avec\n",
        "[urllib](https://docs.python.org/3/library/urllib.html#module-urllib).\n",
        "\n",
        "`BeautifulSoup` sera suffisant quand vous voudrez travailler sur des pages HTML statiques. Dès que les informations que vous recherchez sont générées via l’exécution de scripts [Javascript](https://fr.wikipedia.org/wiki/JavaScript), il vous faudra passer par des outils comme [Selenium](https://selenium-python.readthedocs.io/).\n",
        "\n",
        "De même, si vous ne connaissez pas l’URL, il faudra passer par un framework comme [Scrapy](https://scrapy.org/), qui passe facilement d’une page à une autre (“crawl”). Scrapy est plus complexe à manipuler que BeautifulSoup : si vous voulez plus de détails, rendez-vous sur la page du [tutoriel Scrapy](https://doc.scrapy.org/en/latest/intro/tutorial.html).\n",
        "\n",
        "Le *webscraping* est un domaine où la reproductibilité est compliquée à mettre en oeuvre. Une page *web* évolue\n",
        "potentiellement régulièrement et d’une page web à l’autre, la structure peut\n",
        "être très différente ce qui rend certains codes difficilement exportables.\n",
        "Par conséquent, la meilleure manière d’avoir un programme fonctionnel est\n",
        "de comprendre la structure d’une page web et dissocier les éléments exportables\n",
        "à d’autres cas d’usages des requêtes *ad hoc*.\n",
        "\n",
        "{{< tweet 1474353569780355074 >}}"
      ],
      "id": "0bbec37b-920e-4994-9936-dcb8aaee0b1a"
    },
    {
      "cell_type": "code",
      "execution_count": 2,
      "metadata": {},
      "outputs": [],
      "source": [
        "import urllib\n",
        "import bs4\n",
        "import pandas\n",
        "from urllib import request"
      ],
      "id": "c072a839-7d3b-4949-919d-0e61b11b79a3"
    },
    {
      "cell_type": "markdown",
      "metadata": {},
      "source": [
        "## Récupérer le contenu d’une page HTML\n",
        "\n",
        "On va commencer doucement. Prenons une page wikipedia, par exemple celle de la Ligue 1 de football : [Championnat de France de football 2019-2020](https://fr.wikipedia.org/wiki/Championnat_de_France_de_football_2019-2020). On va souhaiter récupérer la liste des équipes, ainsi que les url des pages Wikipedia de ces équipes."
      ],
      "id": "8b4a3a96-cd55-4b63-82f9-dacfbbd516ef"
    },
    {
      "cell_type": "code",
      "execution_count": 3,
      "metadata": {},
      "outputs": [],
      "source": [
        "# Etape 1 : se connecter à la page wikipedia et obtenir le code source\n",
        "\n",
        "url_ligue_1 = \"https://fr.wikipedia.org/wiki/Championnat_de_France_de_football_2019-2020\"\n",
        "    \n",
        "request_text = request.urlopen(url_ligue_1).read()\n",
        "# print(request_text[:1000])    "
      ],
      "id": "9753b79c-4a0d-4e73-8df7-5a676870fc47"
    },
    {
      "cell_type": "code",
      "execution_count": 4,
      "metadata": {},
      "outputs": [
        {
          "output_type": "display_data",
          "metadata": {},
          "data": {
            "text/plain": [
              "bytes"
            ]
          }
        }
      ],
      "source": [
        "type(request_text)"
      ],
      "id": "7e1ee532-e637-43cf-8591-9f8eda3ffb97"
    },
    {
      "cell_type": "code",
      "execution_count": 5,
      "metadata": {},
      "outputs": [],
      "source": [
        "# Etape 2 : utiliser le package BeautifulSoup\n",
        "# qui \"comprend\" les balises contenues dans la chaine de caractères renvoyée par la fonction request\n",
        "\n",
        "page = bs4.BeautifulSoup(request_text, \"lxml\")\n",
        "\n",
        "#print(page)"
      ],
      "id": "e5544b7f-52f4-4b27-a17d-841ce164500e"
    },
    {
      "cell_type": "markdown",
      "metadata": {},
      "source": [
        "Si on print l’objet, page créée avec BeautifulSoup, on voit que ce n’est plus une chaine de caractères mais bien une page HTML avec des balises. On peut à présent chercher des élements à l’intérieur de ces balises.\n",
        "\n",
        "## La méthode `find`\n",
        "\n",
        "Par exemple, si on veut connaître le titre de la page, on utilise la méthode `.find` et on lui demande *“title”*"
      ],
      "id": "e9bca1f2-b706-4c17-abed-eae74e935362"
    },
    {
      "cell_type": "code",
      "execution_count": 6,
      "metadata": {},
      "outputs": [
        {
          "output_type": "stream",
          "name": "stdout",
          "text": [
            "<title>Championnat de France de football 2019-2020 — Wikipédia</title>"
          ]
        }
      ],
      "source": [
        "print(page.find(\"title\"))"
      ],
      "id": "5b973d82-3d93-4d74-b847-81db888067aa"
    },
    {
      "cell_type": "markdown",
      "metadata": {},
      "source": [
        "La methode `.find` ne renvoie que la première occurence de l’élément.\n",
        "\n",
        "Pour vous en assurer vous pouvez :\n",
        "- copier le bout de code source obtenu,\n",
        "- le coller dans une cellule de votre notebook\n",
        "- et passer la cellule en “Markdown”\n",
        "\n",
        "La cellule avec le copier-coller du code source donne :"
      ],
      "id": "5f27d305-5c9e-4d32-9291-897720fd2724"
    },
    {
      "cell_type": "code",
      "execution_count": 7,
      "metadata": {},
      "outputs": [
        {
          "output_type": "stream",
          "name": "stdout",
          "text": [
            "<table><caption style=\"background-color:#99cc99;color:#000000;\">Généralités</caption><tbody><tr>\n",
            "<th scope=\"row\" style=\"width:10.5em;\">Sport</th>\n",
            "<td>\n",
            "<a href=\"/wiki/Football\" title=\"Football\">Football</a></td>\n",
            "</tr>\n",
            "<tr>\n",
            "<th scope=\"row\" style=\"width:10.5em;\">Organisateur(s)</th>\n",
            "<td>\n",
            "<a href=\"/wiki/Ligue_de_football_professionnel\" title=\"Ligue de football professionnel\">LFP</a></td>\n",
            "</tr>\n",
            "<tr>\n",
            "<th scope=\"row\" style=\"width:10.5em;\">Édition</th>\n",
            "<td>\n",
            "<abbr class=\"abbr\" title=\"Quatre-vingt-deuxième (huitante-deuxième / octante-deuxième)\">82<sup>e</sup></abbr></td>\n",
            "</tr>\n",
            "<tr>\n",
            "<th scope=\"row\" style=\"width:10.5em;\">Lieu(x)</th>\n",
            "<td>\n",
            "<span class=\"datasortkey\" data-sort-value=\"France\"><span class=\"flagicon\"><a class=\"image\" href=\"/wiki/Fichier:Flag_of_France.svg\" title=\"Drapeau de la France\"><img alt=\"Drapeau de la France\" class=\"noviewer thumbborder\" data-file-height=\"600\" data-file-width=\"900\" decoding=\"async\" height=\"13\" src=\"//upload.wikimedia.org/wikipedia/commons/thumb/c/c3/Flag_of_France.svg/20px-Flag_of_France.svg.png\" srcset=\"//upload.wikimedia.org/wikipedia/commons/thumb/c/c3/Flag_of_France.svg/30px-Flag_of_France.svg.png 1.5x, //upload.wikimedia.org/wikipedia/commons/thumb/c/c3/Flag_of_France.svg/40px-Flag_of_France.svg.png 2x\" width=\"20\"/></a> </span><a href=\"/wiki/France\" title=\"France\">France</a></span> et <br/><span class=\"datasortkey\" data-sort-value=\"Monaco\"><span class=\"flagicon\"><a class=\"image\" href=\"/wiki/Fichier:Flag_of_Monaco.svg\" title=\"Drapeau de Monaco\"><img alt=\"Drapeau de Monaco\" class=\"noviewer thumbborder\" data-file-height=\"800\" data-file-width=\"1000\" decoding=\"async\" height=\"16\" src=\"//upload.wikimedia.org/wikipedia/commons/thumb/e/ea/Flag_of_Monaco.svg/20px-Flag_of_Monaco.svg.png\" srcset=\"//upload.wikimedia.org/wikipedia/commons/thumb/e/ea/Flag_of_Monaco.svg/30px-Flag_of_Monaco.svg.png 1.5x, //upload.wikimedia.org/wikipedia/commons/thumb/e/ea/Flag_of_Monaco.svg/40px-Flag_of_Monaco.svg.png 2x\" width=\"20\"/></a> </span><a href=\"/wiki/Monaco\" title=\"Monaco\">Monaco</a></span></td>\n",
            "</tr>\n",
            "<tr>\n",
            "<th scope=\"row\" style=\"width:10.5em;\">Date</th>\n",
            "<td>\n",
            "Du <time class=\"nowrap date-lien\" data-sort-value=\"2019-08-09\" datetime=\"2019-08-09\"><a href=\"/wiki/9_ao%C3%BBt_en_sport\" title=\"9 août en sport\">9</a> <a class=\"mw-redirect\" href=\"/wiki/Ao%C3%BBt_2019_en_sport\" title=\"Août 2019 en sport\">août</a> <a href=\"/wiki/2019_en_football\" title=\"2019 en football\">2019</a></time><br/>au <time class=\"nowrap date-lien\" data-sort-value=\"2020-03-08\" datetime=\"2020-03-08\"><a href=\"/wiki/8_mars_en_sport\" title=\"8 mars en sport\">8 mars</a> <a href=\"/wiki/2020_en_football\" title=\"2020 en football\">2020</a></time> <small>(arrêt définitif)</small></td>\n",
            "</tr>\n",
            "<tr>\n",
            "<th scope=\"row\" style=\"width:10.5em;\">Participants</th>\n",
            "<td>\n",
            "20 équipes</td>\n",
            "</tr>\n",
            "<tr>\n",
            "<th scope=\"row\" style=\"width:10.5em;\">Matchs joués</th>\n",
            "<td>\n",
            "279 (sur 380 prévus)</td>\n",
            "</tr>\n",
            "<tr>\n",
            "<th scope=\"row\" style=\"width:10.5em;\">Site web officiel</th>\n",
            "<td>\n",
            "<a class=\"external text\" href=\"https://www.ligue1.fr/\" rel=\"nofollow\">Site officiel</a></td>\n",
            "</tr></tbody></table>"
          ]
        }
      ],
      "source": [
        "print(page.find(\"table\"))"
      ],
      "id": "0bbf5530-3909-4e8e-9fba-9435e0f84e8d"
    },
    {
      "cell_type": "markdown",
      "metadata": {},
      "source": [
        "ce qui est le texte source permettant de générer le tableau suivant:"
      ],
      "id": "b1ed057a-ccbf-4060-a3c4-ab8cb194b7a7"
    },
    {
      "cell_type": "raw",
      "metadata": {
        "raw_mimetype": "text/html"
      },
      "source": [
        "<table>"
      ],
      "id": "2be35c99-68c5-4fca-bec4-86e0b62bb6b2"
    },
    {
      "cell_type": "raw",
      "metadata": {
        "raw_mimetype": "text/html"
      },
      "source": [
        "<caption style=\"background-color:#99cc99;color:#000000;\">"
      ],
      "id": "b119b16f-9efa-499d-940d-86ff6bd50e67"
    },
    {
      "cell_type": "markdown",
      "metadata": {},
      "source": [
        "Généralités"
      ],
      "id": "dad63ef0-d7ff-47c5-bbc2-18bc76624a35"
    },
    {
      "cell_type": "raw",
      "metadata": {
        "raw_mimetype": "text/html"
      },
      "source": [
        "</caption>"
      ],
      "id": "f5b3cf3c-c6ba-4f5b-afbe-03ceeaf3fc54"
    },
    {
      "cell_type": "raw",
      "metadata": {
        "raw_mimetype": "text/html"
      },
      "source": [
        "<tbody>"
      ],
      "id": "0869216c-72d4-462f-a504-892d53d95e9b"
    },
    {
      "cell_type": "raw",
      "metadata": {
        "raw_mimetype": "text/html"
      },
      "source": [
        "<tr>"
      ],
      "id": "515f9fc3-edff-4084-9b62-b4e2c73dd3a8"
    },
    {
      "cell_type": "raw",
      "metadata": {
        "raw_mimetype": "text/html"
      },
      "source": [
        "<th scope=\"row\" style=\"width:10.5em;\">"
      ],
      "id": "33bdc616-816b-4d2a-9403-c41e96805bcd"
    },
    {
      "cell_type": "markdown",
      "metadata": {},
      "source": [
        "Sport"
      ],
      "id": "9984d9e7-609c-4c83-8c11-159867d7f161"
    },
    {
      "cell_type": "raw",
      "metadata": {
        "raw_mimetype": "text/html"
      },
      "source": [
        "</th>"
      ],
      "id": "15491528-f2af-4677-bb31-d63df3f9fa8c"
    },
    {
      "cell_type": "raw",
      "metadata": {
        "raw_mimetype": "text/html"
      },
      "source": [
        "<td>"
      ],
      "id": "36f94f4d-4d81-495e-935a-a95acc6c324a"
    },
    {
      "cell_type": "markdown",
      "metadata": {},
      "source": [
        "<a href=\"/wiki/Football\" title=\"Football\">Football</a>"
      ],
      "id": "c0ce8824-96a9-457c-a09c-48915d93465d"
    },
    {
      "cell_type": "raw",
      "metadata": {
        "raw_mimetype": "text/html"
      },
      "source": [
        "</td>"
      ],
      "id": "13b848cd-8fd4-4cf7-8791-22298efd0c30"
    },
    {
      "cell_type": "raw",
      "metadata": {
        "raw_mimetype": "text/html"
      },
      "source": [
        "</tr>"
      ],
      "id": "0c90c1d8-11b5-4977-a43d-e9f1dd36d28f"
    },
    {
      "cell_type": "raw",
      "metadata": {
        "raw_mimetype": "text/html"
      },
      "source": [
        "<tr>"
      ],
      "id": "5536433c-9812-45c1-9b9f-7a9db6cba560"
    },
    {
      "cell_type": "raw",
      "metadata": {
        "raw_mimetype": "text/html"
      },
      "source": [
        "<th scope=\"row\" style=\"width:10.5em;\">"
      ],
      "id": "560775d6-a1a6-415e-baf4-826a435cb434"
    },
    {
      "cell_type": "markdown",
      "metadata": {},
      "source": [
        "Organisateur(s)"
      ],
      "id": "81298688-efe9-4ccd-ac7c-a19a9cb7e0d8"
    },
    {
      "cell_type": "raw",
      "metadata": {
        "raw_mimetype": "text/html"
      },
      "source": [
        "</th>"
      ],
      "id": "8fe80c0f-1a1b-4ffb-ac4c-dfc73b5201c2"
    },
    {
      "cell_type": "raw",
      "metadata": {
        "raw_mimetype": "text/html"
      },
      "source": [
        "<td>"
      ],
      "id": "99d6d84a-f18f-4a65-9e90-16dd946cd566"
    },
    {
      "cell_type": "markdown",
      "metadata": {},
      "source": [
        "<a href=\"/wiki/Ligue_de_football_professionnel\" title=\"Ligue de football professionnel\">LFP</a>"
      ],
      "id": "f14254d1-e317-4b3f-81b6-ac4463cfddd5"
    },
    {
      "cell_type": "raw",
      "metadata": {
        "raw_mimetype": "text/html"
      },
      "source": [
        "</td>"
      ],
      "id": "f02fc467-c244-4ad3-a4b2-39c54f4e3747"
    },
    {
      "cell_type": "raw",
      "metadata": {
        "raw_mimetype": "text/html"
      },
      "source": [
        "</tr>"
      ],
      "id": "b76bf969-1eca-4e10-847b-550f65d708c8"
    },
    {
      "cell_type": "raw",
      "metadata": {
        "raw_mimetype": "text/html"
      },
      "source": [
        "<tr>"
      ],
      "id": "67bef67b-d090-4a53-be6b-53c8ba1ad2ce"
    },
    {
      "cell_type": "raw",
      "metadata": {
        "raw_mimetype": "text/html"
      },
      "source": [
        "<th scope=\"row\" style=\"width:10.5em;\">"
      ],
      "id": "b4d15908-511f-4117-8c65-decfa3666c5e"
    },
    {
      "cell_type": "markdown",
      "metadata": {},
      "source": [
        "Édition"
      ],
      "id": "ce8fe5c3-b545-402f-9e77-888f3abfe937"
    },
    {
      "cell_type": "raw",
      "metadata": {
        "raw_mimetype": "text/html"
      },
      "source": [
        "</th>"
      ],
      "id": "d49587f4-fdf9-4ee8-af7c-758f0a066ee6"
    },
    {
      "cell_type": "raw",
      "metadata": {
        "raw_mimetype": "text/html"
      },
      "source": [
        "<td>"
      ],
      "id": "98565cf2-7023-4e4d-9d8d-599f2fc0b2c1"
    },
    {
      "cell_type": "markdown",
      "metadata": {},
      "source": [
        "<abbr class=\"abbr\" title=\"Quatre-vingt-deuxième (huitante-deuxième / octante-deuxième)\">82<sup>e</sup></abbr>"
      ],
      "id": "3075d0de-0445-4496-ae99-ed12ea5d5621"
    },
    {
      "cell_type": "raw",
      "metadata": {
        "raw_mimetype": "text/html"
      },
      "source": [
        "</td>"
      ],
      "id": "a9403433-b000-408b-a0f6-9378dc9cb2fa"
    },
    {
      "cell_type": "raw",
      "metadata": {
        "raw_mimetype": "text/html"
      },
      "source": [
        "</tr>"
      ],
      "id": "dfd2fdda-525a-4d22-85d5-2ebed276423d"
    },
    {
      "cell_type": "raw",
      "metadata": {
        "raw_mimetype": "text/html"
      },
      "source": [
        "<tr>"
      ],
      "id": "8b9eab82-77dc-4b39-bd43-14f895e484c4"
    },
    {
      "cell_type": "raw",
      "metadata": {
        "raw_mimetype": "text/html"
      },
      "source": [
        "<th scope=\"row\" style=\"width:10.5em;\">"
      ],
      "id": "96c693a5-fad8-4dc4-8ca2-89d336fb75aa"
    },
    {
      "cell_type": "markdown",
      "metadata": {},
      "source": [
        "Lieu(x)"
      ],
      "id": "609e548b-1ebe-47a0-88a5-d05660fe3d0e"
    },
    {
      "cell_type": "raw",
      "metadata": {
        "raw_mimetype": "text/html"
      },
      "source": [
        "</th>"
      ],
      "id": "f6a45fc6-1856-40bc-83a7-6de4bda6b2c0"
    },
    {
      "cell_type": "raw",
      "metadata": {
        "raw_mimetype": "text/html"
      },
      "source": [
        "<td>"
      ],
      "id": "d289cdea-d948-487a-96c0-5d12e2ab6caa"
    },
    {
      "cell_type": "markdown",
      "metadata": {},
      "source": [
        "<span class=\"datasortkey\" data-sort-value=\"France\"><span class=\"flagicon\"><a class=\"image\" href=\"/wiki/Fichier:Flag_of_France.svg\" title=\"Drapeau de la France\"><img alt=\"Drapeau de la France\" class=\"noviewer thumbborder\" data-file-height=\"600\" data-file-width=\"900\" decoding=\"async\" height=\"13\" src=\"//upload.wikimedia.org/wikipedia/commons/thumb/c/c3/Flag_of_France.svg/20px-Flag_of_France.svg.png\" srcset=\"//upload.wikimedia.org/wikipedia/commons/thumb/c/c3/Flag_of_France.svg/30px-Flag_of_France.svg.png 1.5x, //upload.wikimedia.org/wikipedia/commons/thumb/c/c3/Flag_of_France.svg/40px-Flag_of_France.svg.png 2x\" width=\"20\"/></a> </span><a href=\"/wiki/France\" title=\"France\">France</a></span> et <br/><span class=\"datasortkey\" data-sort-value=\"Monaco\"><span class=\"flagicon\"><a class=\"image\" href=\"/wiki/Fichier:Flag_of_Monaco.svg\" title=\"Drapeau de Monaco\"><img alt=\"Drapeau de Monaco\" class=\"noviewer thumbborder\" data-file-height=\"800\" data-file-width=\"1000\" decoding=\"async\" height=\"16\" src=\"//upload.wikimedia.org/wikipedia/commons/thumb/e/ea/Flag_of_Monaco.svg/20px-Flag_of_Monaco.svg.png\" srcset=\"//upload.wikimedia.org/wikipedia/commons/thumb/e/ea/Flag_of_Monaco.svg/30px-Flag_of_Monaco.svg.png 1.5x, //upload.wikimedia.org/wikipedia/commons/thumb/e/ea/Flag_of_Monaco.svg/40px-Flag_of_Monaco.svg.png 2x\" width=\"20\"/></a> </span><a href=\"/wiki/Monaco\" title=\"Monaco\">Monaco</a></span>"
      ],
      "id": "fae94f62-5b0b-498f-b7c6-ce9160d1811c"
    },
    {
      "cell_type": "raw",
      "metadata": {
        "raw_mimetype": "text/html"
      },
      "source": [
        "</td>"
      ],
      "id": "b9d50bc5-b634-45bd-b145-31a96e677bd7"
    },
    {
      "cell_type": "raw",
      "metadata": {
        "raw_mimetype": "text/html"
      },
      "source": [
        "</tr>"
      ],
      "id": "d08dc010-61ad-4be4-ae5a-6cc47465e2cf"
    },
    {
      "cell_type": "raw",
      "metadata": {
        "raw_mimetype": "text/html"
      },
      "source": [
        "<tr>"
      ],
      "id": "c8e2f13f-4e0b-47be-a0e2-d267ed41ad1e"
    },
    {
      "cell_type": "raw",
      "metadata": {
        "raw_mimetype": "text/html"
      },
      "source": [
        "<th scope=\"row\" style=\"width:10.5em;\">"
      ],
      "id": "738f0031-e238-4cdf-89fa-34ad0fcbe36a"
    },
    {
      "cell_type": "markdown",
      "metadata": {},
      "source": [
        "Date"
      ],
      "id": "8d798d04-77d3-437f-a3c1-9821c4060149"
    },
    {
      "cell_type": "raw",
      "metadata": {
        "raw_mimetype": "text/html"
      },
      "source": [
        "</th>"
      ],
      "id": "1de192ff-006b-4e84-bf8b-0835fbcde548"
    },
    {
      "cell_type": "raw",
      "metadata": {
        "raw_mimetype": "text/html"
      },
      "source": [
        "<td>"
      ],
      "id": "94b98387-f410-4ae2-85e4-bb447784c76f"
    },
    {
      "cell_type": "markdown",
      "metadata": {},
      "source": [
        "Du <time class=\"nowrap date-lien\" data-sort-value=\"2019-08-09\" datetime=\"2019-08-09\"><a href=\"/wiki/9_ao%C3%BBt_en_sport\" title=\"9 août en sport\">9</a> <a class=\"mw-redirect\" href=\"/wiki/Ao%C3%BBt_2019_en_sport\" title=\"Août 2019 en sport\">août</a> <a href=\"/wiki/2019_en_football\" title=\"2019 en football\">2019</a></time><br/>au <time class=\"nowrap date-lien\" data-sort-value=\"2020-03-08\" datetime=\"2020-03-08\"><a href=\"/wiki/8_mars_en_sport\" title=\"8 mars en sport\">8 mars</a> <a href=\"/wiki/2020_en_football\" title=\"2020 en football\">2020</a></time> <small>(arrêt définitif)</small>"
      ],
      "id": "252eeb28-b894-4ce1-960c-0ff35b948743"
    },
    {
      "cell_type": "raw",
      "metadata": {
        "raw_mimetype": "text/html"
      },
      "source": [
        "</td>"
      ],
      "id": "1378f80b-96a8-4f37-9818-b692b7c935d2"
    },
    {
      "cell_type": "raw",
      "metadata": {
        "raw_mimetype": "text/html"
      },
      "source": [
        "</tr>"
      ],
      "id": "2b90469d-6fcf-47df-b1d1-49f5f6a0cdef"
    },
    {
      "cell_type": "raw",
      "metadata": {
        "raw_mimetype": "text/html"
      },
      "source": [
        "<tr>"
      ],
      "id": "f2e7b3b8-0da7-4c1c-9312-1d5b40d4131c"
    },
    {
      "cell_type": "raw",
      "metadata": {
        "raw_mimetype": "text/html"
      },
      "source": [
        "<th scope=\"row\" style=\"width:10.5em;\">"
      ],
      "id": "e147fd15-afa7-4fc4-9431-dece7c8ea17b"
    },
    {
      "cell_type": "markdown",
      "metadata": {},
      "source": [
        "Participants"
      ],
      "id": "25711ba7-3af3-481a-be5e-4b9e38b99e30"
    },
    {
      "cell_type": "raw",
      "metadata": {
        "raw_mimetype": "text/html"
      },
      "source": [
        "</th>"
      ],
      "id": "c449af2a-d774-41d5-a897-e0c8dd629ffe"
    },
    {
      "cell_type": "raw",
      "metadata": {
        "raw_mimetype": "text/html"
      },
      "source": [
        "<td>"
      ],
      "id": "d2273fb5-b485-4727-98ec-4e5d676d00ea"
    },
    {
      "cell_type": "markdown",
      "metadata": {},
      "source": [
        "20 équipes"
      ],
      "id": "f2a7e3a1-ca48-4b49-90fe-c37bfc195aee"
    },
    {
      "cell_type": "raw",
      "metadata": {
        "raw_mimetype": "text/html"
      },
      "source": [
        "</td>"
      ],
      "id": "45cf2564-8bf4-4045-bd3e-ea6279485172"
    },
    {
      "cell_type": "raw",
      "metadata": {
        "raw_mimetype": "text/html"
      },
      "source": [
        "</tr>"
      ],
      "id": "ccf7a904-c673-4f19-8797-f87537b84b32"
    },
    {
      "cell_type": "raw",
      "metadata": {
        "raw_mimetype": "text/html"
      },
      "source": [
        "<tr>"
      ],
      "id": "eb5fce59-bbde-483a-9f60-fa7afb26a2ec"
    },
    {
      "cell_type": "raw",
      "metadata": {
        "raw_mimetype": "text/html"
      },
      "source": [
        "<th scope=\"row\" style=\"width:10.5em;\">"
      ],
      "id": "c2bd746c-f902-47cc-8bce-ac145a7664ac"
    },
    {
      "cell_type": "markdown",
      "metadata": {},
      "source": [
        "Matchs joués"
      ],
      "id": "1ca06b8f-52dd-4e2a-9ebe-945565205bd9"
    },
    {
      "cell_type": "raw",
      "metadata": {
        "raw_mimetype": "text/html"
      },
      "source": [
        "</th>"
      ],
      "id": "5d7ab8b5-13cf-4d18-a53b-f9eeb073ee21"
    },
    {
      "cell_type": "raw",
      "metadata": {
        "raw_mimetype": "text/html"
      },
      "source": [
        "<td>"
      ],
      "id": "3b03ea05-515f-422f-9051-c441052ce31d"
    },
    {
      "cell_type": "markdown",
      "metadata": {},
      "source": [
        "279 (sur 380 prévus)"
      ],
      "id": "6d3980e8-ce29-4d99-af94-4653032f2f75"
    },
    {
      "cell_type": "raw",
      "metadata": {
        "raw_mimetype": "text/html"
      },
      "source": [
        "</td>"
      ],
      "id": "7bcc8578-9f2d-4302-96dd-aa08ca6bda96"
    },
    {
      "cell_type": "raw",
      "metadata": {
        "raw_mimetype": "text/html"
      },
      "source": [
        "</tr>"
      ],
      "id": "a914dfdc-94f7-402a-be73-b21732c64e13"
    },
    {
      "cell_type": "raw",
      "metadata": {
        "raw_mimetype": "text/html"
      },
      "source": [
        "<tr>"
      ],
      "id": "281b8eec-05a0-4cb3-a8ec-a0f75521f6c8"
    },
    {
      "cell_type": "raw",
      "metadata": {
        "raw_mimetype": "text/html"
      },
      "source": [
        "<th scope=\"row\" style=\"width:10.5em;\">"
      ],
      "id": "e3734670-5c87-43ef-a1c0-b0977653c826"
    },
    {
      "cell_type": "markdown",
      "metadata": {},
      "source": [
        "Site web officiel"
      ],
      "id": "1b4469e6-2f2c-4dd4-ae6b-f6cc19b6b4b6"
    },
    {
      "cell_type": "raw",
      "metadata": {
        "raw_mimetype": "text/html"
      },
      "source": [
        "</th>"
      ],
      "id": "56a9e195-bc76-4f5f-a99d-78332312421b"
    },
    {
      "cell_type": "raw",
      "metadata": {
        "raw_mimetype": "text/html"
      },
      "source": [
        "<td>"
      ],
      "id": "ca8a6a49-5e07-460e-bd7f-9bfa620d6744"
    },
    {
      "cell_type": "markdown",
      "metadata": {},
      "source": [
        "<a class=\"external text\" href=\"https://www.ligue1.fr/\" rel=\"nofollow\">Site officiel</a>"
      ],
      "id": "7822844c-104b-4923-8d70-981fb2681f67"
    },
    {
      "cell_type": "raw",
      "metadata": {
        "raw_mimetype": "text/html"
      },
      "source": [
        "</td>"
      ],
      "id": "b9485cbe-e60e-4e1c-a014-bdcb5dac713d"
    },
    {
      "cell_type": "raw",
      "metadata": {
        "raw_mimetype": "text/html"
      },
      "source": [
        "</tr>"
      ],
      "id": "54c4a3db-7798-4925-a4b8-d3bacaedb11b"
    },
    {
      "cell_type": "raw",
      "metadata": {
        "raw_mimetype": "text/html"
      },
      "source": [
        "</tbody>"
      ],
      "id": "01ff1934-76f3-41c8-bb2c-063f17ee3514"
    },
    {
      "cell_type": "raw",
      "metadata": {
        "raw_mimetype": "text/html"
      },
      "source": [
        "</table>"
      ],
      "id": "f50114c6-2cc9-445a-ba7b-40af6c0a3dfe"
    },
    {
      "cell_type": "markdown",
      "metadata": {},
      "source": [
        "## La méthode `findAll`\n",
        "\n",
        "Pour trouver toutes les occurences, on utilise `.findAll()`."
      ],
      "id": "40bffe8d-da1b-4e7e-8f47-4b0371366663"
    },
    {
      "cell_type": "code",
      "execution_count": 9,
      "metadata": {},
      "outputs": [
        {
          "output_type": "stream",
          "name": "stdout",
          "text": [
            "Il y a 34 éléments dans la page qui sont des <table>"
          ]
        }
      ],
      "source": [
        "print(\"Il y a\", len(page.findAll(\"table\")), \"éléments dans la page qui sont des <table>\")"
      ],
      "id": "34456c01-3f19-4359-957b-2d9a21bdfea6"
    },
    {
      "cell_type": "markdown",
      "metadata": {},
      "source": [
        "# Exercice guidé : obtenir la liste des équipes de Ligue 1\n",
        "\n",
        "Dans le premier paragraphe de la page “Participants”, on a le tableau avec les résultats de l’année.\n",
        "\n",
        "{{% box status=“exercise” title=“Exercice” icon=“fas fa-pencil-alt” %}}\n",
        "Le but est de récupérer les informations contenues dans ce tableau.\n",
        "\n",
        "Pour cela, nous allons procéder en 6 étapes:\n",
        "\n",
        "1.  Trouver le tableau\n",
        "2.  Récupérer chaque ligne du table\n",
        "3.  Nettoyer les sorties en ne gardant que le texte sur une ligne\n",
        "4.  Généraliser sur toutes les lignes\n",
        "5.  Récupérer les entêtes du tableau\n",
        "6.  Finalisation du tableau\n",
        "\n",
        "{{% /box %}}\n",
        "\n",
        ":one:\n",
        "Trouver le tableau\n",
        "\n",
        "``` python\n",
        "# on identifie le tableau en question : c'est le premier qui a cette classe \"wikitable sortable\"\n",
        "tableau_participants = page.find('table', {'class' : 'wikitable sortable'})\n",
        "\n",
        "print(tableau_participants)\n",
        "```"
      ],
      "id": "60d5cd8d-093a-4872-8166-05517f8122d7"
    },
    {
      "cell_type": "raw",
      "metadata": {
        "raw_mimetype": "text/html"
      },
      "source": [
        "<table class=\"wikitable sortable\" style=\"font-size:90%;line-height:15px;text-align:center\">"
      ],
      "id": "d9b97b47-2e19-492a-9619-520a62b68b7d"
    },
    {
      "cell_type": "raw",
      "metadata": {
        "raw_mimetype": "text/html"
      },
      "source": [
        "<tbody>"
      ],
      "id": "f6fbeb74-8db7-4f84-b856-3a0d40c4330f"
    },
    {
      "cell_type": "raw",
      "metadata": {
        "raw_mimetype": "text/html"
      },
      "source": [
        "<tr>"
      ],
      "id": "e52a3625-892e-4dfe-8c17-371dc5b53864"
    },
    {
      "cell_type": "raw",
      "metadata": {
        "raw_mimetype": "text/html"
      },
      "source": [
        "<th scope=\"col\">"
      ],
      "id": "9881bd97-97d1-4212-beeb-5f8d8d8bfd7e"
    },
    {
      "cell_type": "markdown",
      "metadata": {},
      "source": [
        "Club"
      ],
      "id": "b7cd6dfc-b367-41de-bdbb-5170353ed5db"
    },
    {
      "cell_type": "raw",
      "metadata": {
        "raw_mimetype": "text/html"
      },
      "source": [
        "</th>"
      ],
      "id": "11bb6048-8fed-4fa7-83af-55469d7a56d4"
    },
    {
      "cell_type": "raw",
      "metadata": {
        "raw_mimetype": "text/html"
      },
      "source": [
        "<th scope=\"col\">"
      ],
      "id": "b71fc79b-2845-4d9f-a55a-5b09498b1ce0"
    },
    {
      "cell_type": "markdown",
      "metadata": {},
      "source": [
        "Dernière<br/>montée"
      ],
      "id": "c5e9cf0a-c028-46ef-bd31-a346f98eb11f"
    },
    {
      "cell_type": "raw",
      "metadata": {
        "raw_mimetype": "text/html"
      },
      "source": [
        "</th>"
      ],
      "id": "5b03ecd6-0cf5-40b0-955f-980f3f5488a9"
    },
    {
      "cell_type": "raw",
      "metadata": {
        "raw_mimetype": "text/html"
      },
      "source": [
        "<th scope=\"col\">"
      ],
      "id": "2978e7b1-c188-4bf8-8073-09330910b9aa"
    },
    {
      "cell_type": "markdown",
      "metadata": {},
      "source": [
        "Budget<sup class=\"reference\" id=\"cite_ref-3\"><a href=\"#cite_note-3\"><span class=\"cite_crochet\">\\[</span>3<span class=\"cite_crochet\">\\]</span></a></sup><br/>en M<a href=\"/wiki/Euro\" title=\"Euro\">€</a>"
      ],
      "id": "05173119-d728-4725-8ddf-4277e0f78bcb"
    },
    {
      "cell_type": "raw",
      "metadata": {
        "raw_mimetype": "text/html"
      },
      "source": [
        "</th>"
      ],
      "id": "199e5886-b888-4d13-955d-edaf3e07e2a8"
    },
    {
      "cell_type": "raw",
      "metadata": {
        "raw_mimetype": "text/html"
      },
      "source": [
        "<th scope=\"col\">"
      ],
      "id": "35b3f2d5-c4f7-472a-a504-e84d02dee8d7"
    },
    {
      "cell_type": "markdown",
      "metadata": {},
      "source": [
        "Classement<br/><a href=\"/wiki/Championnat_de_France_de_football_2018-2019\" title=\"Championnat de France de football 2018-2019\">2018-2019</a>"
      ],
      "id": "534825c6-6181-4f03-8bd8-c7ffbb53b6b0"
    },
    {
      "cell_type": "raw",
      "metadata": {
        "raw_mimetype": "text/html"
      },
      "source": [
        "</th>"
      ],
      "id": "01d771d6-6768-4e13-9ba3-dbf0824590e9"
    },
    {
      "cell_type": "raw",
      "metadata": {
        "raw_mimetype": "text/html"
      },
      "source": [
        "<th scope=\"col\">"
      ],
      "id": "2dedaee3-b1db-4161-b575-3ba538d7e89e"
    },
    {
      "cell_type": "markdown",
      "metadata": {},
      "source": [
        "Entraîneur"
      ],
      "id": "0dbd7074-3bc6-457e-98ba-96947b4ff0a6"
    },
    {
      "cell_type": "raw",
      "metadata": {
        "raw_mimetype": "text/html"
      },
      "source": [
        "</th>"
      ],
      "id": "945d2bee-2d32-4f0e-b5df-ce37ef89c92b"
    },
    {
      "cell_type": "raw",
      "metadata": {
        "raw_mimetype": "text/html"
      },
      "source": [
        "<th scope=\"col\">"
      ],
      "id": "71c92cdc-e695-4f44-b27d-ca17f7eb4c93"
    },
    {
      "cell_type": "markdown",
      "metadata": {},
      "source": [
        "Depuis"
      ],
      "id": "10ea5e6e-9d81-4000-be1d-88558cd93bbd"
    },
    {
      "cell_type": "raw",
      "metadata": {
        "raw_mimetype": "text/html"
      },
      "source": [
        "</th>"
      ],
      "id": "4bc9036a-39ac-4425-8d6f-ecb3bb78f1ea"
    },
    {
      "cell_type": "raw",
      "metadata": {
        "raw_mimetype": "text/html"
      },
      "source": [
        "<th scope=\"col\">"
      ],
      "id": "a9bdf073-54c6-4b9d-a4e2-93fdcae1a05c"
    },
    {
      "cell_type": "markdown",
      "metadata": {},
      "source": [
        "Stade"
      ],
      "id": "d8e481bf-eaa0-4817-ad53-645ba72e45db"
    },
    {
      "cell_type": "raw",
      "metadata": {
        "raw_mimetype": "text/html"
      },
      "source": [
        "</th>"
      ],
      "id": "89f175fc-06db-4bdc-a1fa-dd2fd4bb798c"
    },
    {
      "cell_type": "raw",
      "metadata": {
        "raw_mimetype": "text/html"
      },
      "source": [
        "<th scope=\"col\">"
      ],
      "id": "fd7f6334-af09-4fe3-98e2-eda7813bcc1f"
    },
    {
      "cell_type": "markdown",
      "metadata": {},
      "source": [
        "Capacité<br/>en L1<sup class=\"reference\" id=\"cite_ref-4\"><a href=\"#cite_note-4\"><span class=\"cite_crochet\">\\[</span>4<span class=\"cite_crochet\">\\]</span></a></sup>"
      ],
      "id": "9f5214e7-d1c1-4ab0-9a10-b1074f1d6be1"
    },
    {
      "cell_type": "raw",
      "metadata": {
        "raw_mimetype": "text/html"
      },
      "source": [
        "</th>"
      ],
      "id": "b4cd2dc6-cbb6-4a9a-b494-471bcb8b996e"
    },
    {
      "cell_type": "raw",
      "metadata": {
        "raw_mimetype": "text/html"
      },
      "source": [
        "<th scope=\"col\">"
      ],
      "id": "4ef76028-a134-47cf-93df-9319befeeeb5"
    },
    {
      "cell_type": "markdown",
      "metadata": {},
      "source": [
        "Nombre<br/>de saisons<br/>en L1"
      ],
      "id": "cff57f2c-20ce-4211-8b52-6ccc250d53dd"
    },
    {
      "cell_type": "raw",
      "metadata": {
        "raw_mimetype": "text/html"
      },
      "source": [
        "</th>"
      ],
      "id": "67ddd519-a177-4570-8150-6c3b3453307e"
    },
    {
      "cell_type": "raw",
      "metadata": {
        "raw_mimetype": "text/html"
      },
      "source": [
        "</tr>"
      ],
      "id": "fc4885e8-9364-48f3-8561-7ec8d2266bc0"
    },
    {
      "cell_type": "raw",
      "metadata": {
        "raw_mimetype": "text/html"
      },
      "source": [
        "<tr bgcolor=\"#97DEFF\">"
      ],
      "id": "39b43e76-6893-4350-a57e-7fecfe4a7340"
    },
    {
      "cell_type": "raw",
      "metadata": {
        "raw_mimetype": "text/html"
      },
      "source": [
        "<td>"
      ],
      "id": "a9000fc6-a945-4757-a060-852ac7184a00"
    },
    {
      "cell_type": "markdown",
      "metadata": {},
      "source": [
        "<a href=\"/wiki/Paris_Saint-Germain_Football_Club\" title=\"Paris Saint-Germain Football Club\">Paris Saint-Germain</a>"
      ],
      "id": "dbf714c4-6437-45dd-ae8f-7963fa42faf0"
    },
    {
      "cell_type": "raw",
      "metadata": {
        "raw_mimetype": "text/html"
      },
      "source": [
        "</td>"
      ],
      "id": "f0c01aa2-9148-4de1-bc81-a69a9ef80cef"
    },
    {
      "cell_type": "raw",
      "metadata": {
        "raw_mimetype": "text/html"
      },
      "source": [
        "<td>"
      ],
      "id": "49548963-4a16-4d0b-aa16-df3c0322ffd8"
    },
    {
      "cell_type": "markdown",
      "metadata": {},
      "source": [
        "1974"
      ],
      "id": "1c3bc2f1-8d20-41e5-9d6d-82810517d1df"
    },
    {
      "cell_type": "raw",
      "metadata": {
        "raw_mimetype": "text/html"
      },
      "source": [
        "</td>"
      ],
      "id": "fca78ffb-07f9-48e2-ab73-78904d291294"
    },
    {
      "cell_type": "raw",
      "metadata": {
        "raw_mimetype": "text/html"
      },
      "source": [
        "<td>"
      ],
      "id": "b2145fe0-476f-44d5-9524-16ba7b1e44c7"
    },
    {
      "cell_type": "markdown",
      "metadata": {},
      "source": [
        "637"
      ],
      "id": "0f650726-e2cc-4a7e-9aa0-ab18ef643ecc"
    },
    {
      "cell_type": "raw",
      "metadata": {
        "raw_mimetype": "text/html"
      },
      "source": [
        "</td>"
      ],
      "id": "c9ca433a-d083-48dd-a165-bedcad0b7229"
    },
    {
      "cell_type": "raw",
      "metadata": {
        "raw_mimetype": "text/html"
      },
      "source": [
        "<td>"
      ],
      "id": "a951aaf8-08e4-4ff1-9ba7-7c1b99170fc8"
    },
    {
      "cell_type": "markdown",
      "metadata": {},
      "source": [
        "<span data-sort-value=\"101 !\"></span><abbr class=\"abbr\" title=\"Premier\">1<sup>er</sup></abbr>"
      ],
      "id": "0bbdb4bc-f4d9-417f-9fa6-553e9d597b9b"
    },
    {
      "cell_type": "raw",
      "metadata": {
        "raw_mimetype": "text/html"
      },
      "source": [
        "</td>"
      ],
      "id": "63996123-4a9f-4ec8-bc99-8b1a2c421931"
    },
    {
      "cell_type": "raw",
      "metadata": {
        "raw_mimetype": "text/html"
      },
      "source": [
        "<td align=\"left\">"
      ],
      "id": "7bfdb764-9549-4ed5-90f6-298427d9316c"
    },
    {
      "cell_type": "markdown",
      "metadata": {},
      "source": [
        "<span class=\"flagicon\"><a class=\"image\" href=\"/wiki/Fichier:Flag_of_Germany.svg\" title=\"Drapeau : Allemagne\"><img alt=\"\" class=\"noviewer thumbborder\" data-file-height=\"600\" data-file-width=\"1000\" decoding=\"async\" height=\"12\" src=\"//upload.wikimedia.org/wikipedia/commons/thumb/b/ba/Flag_of_Germany.svg/20px-Flag_of_Germany.svg.png\" srcset=\"//upload.wikimedia.org/wikipedia/commons/thumb/b/ba/Flag_of_Germany.svg/30px-Flag_of_Germany.svg.png 1.5x, //upload.wikimedia.org/wikipedia/commons/thumb/b/ba/Flag_of_Germany.svg/40px-Flag_of_Germany.svg.png 2x\" width=\"20\"/></a></span> <a href=\"/wiki/Thomas_Tuchel\" title=\"Thomas Tuchel\">Thomas Tuchel</a>"
      ],
      "id": "fa309d80-e531-4a8d-89c2-03e33e9ae528"
    },
    {
      "cell_type": "raw",
      "metadata": {
        "raw_mimetype": "text/html"
      },
      "source": [
        "</td>"
      ],
      "id": "5aab3fdb-d537-4105-a3a1-e2c828c482b6"
    },
    {
      "cell_type": "raw",
      "metadata": {
        "raw_mimetype": "text/html"
      },
      "source": [
        "<td>"
      ],
      "id": "2aa5ebaa-3f96-4598-ad52-c02c8924042c"
    },
    {
      "cell_type": "markdown",
      "metadata": {},
      "source": [
        "2018"
      ],
      "id": "8233b5ab-6687-4c28-b719-23fd2b195c5b"
    },
    {
      "cell_type": "raw",
      "metadata": {
        "raw_mimetype": "text/html"
      },
      "source": [
        "</td>"
      ],
      "id": "6e08cd84-c392-4394-afe0-c63dc6ea7ce3"
    },
    {
      "cell_type": "raw",
      "metadata": {
        "raw_mimetype": "text/html"
      },
      "source": [
        "<td>"
      ],
      "id": "a3644261-4cdd-4c49-850b-fdbc691735cb"
    },
    {
      "cell_type": "markdown",
      "metadata": {},
      "source": [
        "<a href=\"/wiki/Parc_des_Princes\" title=\"Parc des Princes\">Parc des Princes</a>"
      ],
      "id": "e2fb909c-9dd5-4614-91dd-737ab767aea6"
    },
    {
      "cell_type": "raw",
      "metadata": {
        "raw_mimetype": "text/html"
      },
      "source": [
        "</td>"
      ],
      "id": "411d102b-270f-477c-b75f-c3b7d8c69f70"
    },
    {
      "cell_type": "raw",
      "metadata": {
        "raw_mimetype": "text/html"
      },
      "source": [
        "<td>"
      ],
      "id": "902db238-9f3c-4461-96bd-05632522d99f"
    },
    {
      "cell_type": "markdown",
      "metadata": {},
      "source": [
        "47 929"
      ],
      "id": "739299bb-da97-4f93-a239-d562c732e502"
    },
    {
      "cell_type": "raw",
      "metadata": {
        "raw_mimetype": "text/html"
      },
      "source": [
        "</td>"
      ],
      "id": "8ccb447d-0eaa-4cfc-bf18-708314b41c5a"
    },
    {
      "cell_type": "raw",
      "metadata": {
        "raw_mimetype": "text/html"
      },
      "source": [
        "<td>"
      ],
      "id": "51136cda-e7a4-4b44-bc14-2fe6e2b2d5de"
    },
    {
      "cell_type": "markdown",
      "metadata": {},
      "source": [
        "46"
      ],
      "id": "54d891d9-3c7d-41c8-b953-a94431f64158"
    },
    {
      "cell_type": "raw",
      "metadata": {
        "raw_mimetype": "text/html"
      },
      "source": [
        "</td>"
      ],
      "id": "cd44d74a-7864-486c-b1a8-5c066ca8f19e"
    },
    {
      "cell_type": "raw",
      "metadata": {
        "raw_mimetype": "text/html"
      },
      "source": [
        "</tr>"
      ],
      "id": "546504f3-7dc8-4b89-89be-8c91454aac2a"
    },
    {
      "cell_type": "raw",
      "metadata": {
        "raw_mimetype": "text/html"
      },
      "source": [
        "<tr bgcolor=\"#97DEFF\">"
      ],
      "id": "3b80c255-fad0-44c2-a42b-6fa635be31be"
    },
    {
      "cell_type": "raw",
      "metadata": {
        "raw_mimetype": "text/html"
      },
      "source": [
        "<td>"
      ],
      "id": "435518f2-5b73-4236-87bb-f16873f48e21"
    },
    {
      "cell_type": "markdown",
      "metadata": {},
      "source": [
        "<a href=\"/wiki/LOSC_Lille\" title=\"LOSC Lille\">LOSC Lille</a>"
      ],
      "id": "e71135ad-80c2-4102-97f2-e64a10509d8e"
    },
    {
      "cell_type": "raw",
      "metadata": {
        "raw_mimetype": "text/html"
      },
      "source": [
        "</td>"
      ],
      "id": "2caa3a59-8d90-4b92-a3bc-0116c8cb7a23"
    },
    {
      "cell_type": "raw",
      "metadata": {
        "raw_mimetype": "text/html"
      },
      "source": [
        "<td>"
      ],
      "id": "73f4b63a-36c6-4582-96e7-99a36fb283e7"
    },
    {
      "cell_type": "markdown",
      "metadata": {},
      "source": [
        "2000"
      ],
      "id": "fcb4b959-5a53-415a-bdf9-a4a6dc108b21"
    },
    {
      "cell_type": "raw",
      "metadata": {
        "raw_mimetype": "text/html"
      },
      "source": [
        "</td>"
      ],
      "id": "8e73ae1f-0a94-41b2-ae05-2a69fbb13590"
    },
    {
      "cell_type": "raw",
      "metadata": {
        "raw_mimetype": "text/html"
      },
      "source": [
        "<td>"
      ],
      "id": "9bcc4185-d963-4d89-a2ab-0c754335a1b9"
    },
    {
      "cell_type": "markdown",
      "metadata": {},
      "source": [
        "120"
      ],
      "id": "d245e79c-9cc4-47c1-9ff7-9b06b41c967f"
    },
    {
      "cell_type": "raw",
      "metadata": {
        "raw_mimetype": "text/html"
      },
      "source": [
        "</td>"
      ],
      "id": "78e96f8d-387f-4571-a9b8-15252c908d64"
    },
    {
      "cell_type": "raw",
      "metadata": {
        "raw_mimetype": "text/html"
      },
      "source": [
        "<td>"
      ],
      "id": "653a9e8e-1e86-4e2d-8d29-ca9819c34d2b"
    },
    {
      "cell_type": "markdown",
      "metadata": {},
      "source": [
        "<span data-sort-value=\"102 !\"></span><abbr class=\"abbr\" title=\"Deuxième\">2<sup>e</sup></abbr>"
      ],
      "id": "ac593e13-c644-47c0-99bf-68de22c7785a"
    },
    {
      "cell_type": "raw",
      "metadata": {
        "raw_mimetype": "text/html"
      },
      "source": [
        "</td>"
      ],
      "id": "a7aa9e4a-1211-40b4-8f3e-859e34cc4042"
    },
    {
      "cell_type": "raw",
      "metadata": {
        "raw_mimetype": "text/html"
      },
      "source": [
        "<td align=\"left\">"
      ],
      "id": "febf3728-ea4a-4bd2-b3d8-8983690d9790"
    },
    {
      "cell_type": "markdown",
      "metadata": {},
      "source": [
        "<span class=\"flagicon\"><a class=\"image\" href=\"/wiki/Fichier:Flag_of_France.svg\" title=\"Drapeau : France\"><img alt=\"\" class=\"noviewer thumbborder\" data-file-height=\"600\" data-file-width=\"900\" decoding=\"async\" height=\"13\" src=\"//upload.wikimedia.org/wikipedia/commons/thumb/c/c3/Flag_of_France.svg/20px-Flag_of_France.svg.png\" srcset=\"//upload.wikimedia.org/wikipedia/commons/thumb/c/c3/Flag_of_France.svg/30px-Flag_of_France.svg.png 1.5x, //upload.wikimedia.org/wikipedia/commons/thumb/c/c3/Flag_of_France.svg/40px-Flag_of_France.svg.png 2x\" width=\"20\"/></a></span> <a href=\"/wiki/Christophe_Galtier\" title=\"Christophe Galtier\">Christophe Galtier</a>"
      ],
      "id": "d666f248-f63f-45a1-8469-a7e88481aa56"
    },
    {
      "cell_type": "raw",
      "metadata": {
        "raw_mimetype": "text/html"
      },
      "source": [
        "</td>"
      ],
      "id": "b02b0640-b254-426b-9140-4a8b1213d581"
    },
    {
      "cell_type": "raw",
      "metadata": {
        "raw_mimetype": "text/html"
      },
      "source": [
        "<td>"
      ],
      "id": "7798d1a3-7794-43c3-94aa-b820298399f6"
    },
    {
      "cell_type": "markdown",
      "metadata": {},
      "source": [
        "2017"
      ],
      "id": "04677191-f41c-4459-be8c-ed73d20484bc"
    },
    {
      "cell_type": "raw",
      "metadata": {
        "raw_mimetype": "text/html"
      },
      "source": [
        "</td>"
      ],
      "id": "7bd4f365-67a1-4cdf-b237-67a282956a40"
    },
    {
      "cell_type": "raw",
      "metadata": {
        "raw_mimetype": "text/html"
      },
      "source": [
        "<td>"
      ],
      "id": "28c11c0c-dcfb-4df8-9bbc-181fb9ee5e71"
    },
    {
      "cell_type": "markdown",
      "metadata": {},
      "source": [
        "<a href=\"/wiki/Stade_Pierre-Mauroy\" title=\"Stade Pierre-Mauroy\">Stade Pierre-Mauroy</a>"
      ],
      "id": "f8123f8d-6f8d-4428-a6bc-3567aa7876ba"
    },
    {
      "cell_type": "raw",
      "metadata": {
        "raw_mimetype": "text/html"
      },
      "source": [
        "</td>"
      ],
      "id": "62565dd3-304f-4545-9bb9-65cf04689560"
    },
    {
      "cell_type": "raw",
      "metadata": {
        "raw_mimetype": "text/html"
      },
      "source": [
        "<td>"
      ],
      "id": "c30dc2e6-4afe-4a4d-8836-53e47adb0e52"
    },
    {
      "cell_type": "markdown",
      "metadata": {},
      "source": [
        "49 712"
      ],
      "id": "6e982edf-7ec1-40ba-ad8c-6a890caf4dc7"
    },
    {
      "cell_type": "raw",
      "metadata": {
        "raw_mimetype": "text/html"
      },
      "source": [
        "</td>"
      ],
      "id": "ed172cd0-e609-4c1b-975a-7eeeba2b0898"
    },
    {
      "cell_type": "raw",
      "metadata": {
        "raw_mimetype": "text/html"
      },
      "source": [
        "<td>"
      ],
      "id": "13ce4a53-0abc-4612-864f-cf596f3fcc36"
    },
    {
      "cell_type": "markdown",
      "metadata": {},
      "source": [
        "59"
      ],
      "id": "9bf67226-f2e6-4949-a041-b0eeeede5a51"
    },
    {
      "cell_type": "raw",
      "metadata": {
        "raw_mimetype": "text/html"
      },
      "source": [
        "</td>"
      ],
      "id": "e8a1a23e-bf7f-4f97-b217-dda5e0dee351"
    },
    {
      "cell_type": "raw",
      "metadata": {
        "raw_mimetype": "text/html"
      },
      "source": [
        "</tr>"
      ],
      "id": "c216b426-45de-468c-a6c8-03ed0f62ef67"
    },
    {
      "cell_type": "raw",
      "metadata": {
        "raw_mimetype": "text/html"
      },
      "source": [
        "<tr bgcolor=\"#97DEFF\">"
      ],
      "id": "e580f3f8-1022-4a07-8177-cee1ffe9ae33"
    },
    {
      "cell_type": "raw",
      "metadata": {
        "raw_mimetype": "text/html"
      },
      "source": [
        "<td>"
      ],
      "id": "01250c04-5f53-454c-a931-f8bcb51b7a1e"
    },
    {
      "cell_type": "markdown",
      "metadata": {},
      "source": [
        "<a href=\"/wiki/Olympique_lyonnais\" title=\"Olympique lyonnais\">Olympique lyonnais</a>"
      ],
      "id": "74425255-0e7a-482f-9ac3-93e38dd0e07a"
    },
    {
      "cell_type": "raw",
      "metadata": {
        "raw_mimetype": "text/html"
      },
      "source": [
        "</td>"
      ],
      "id": "ab440d64-db36-45f6-aefb-76dcf373dcf5"
    },
    {
      "cell_type": "raw",
      "metadata": {
        "raw_mimetype": "text/html"
      },
      "source": [
        "<td>"
      ],
      "id": "0b877d88-4e2a-4fe2-a5fc-d2e169f459f8"
    },
    {
      "cell_type": "markdown",
      "metadata": {},
      "source": [
        "1989"
      ],
      "id": "6359d750-e06d-4286-b6ad-155a5f2f823d"
    },
    {
      "cell_type": "raw",
      "metadata": {
        "raw_mimetype": "text/html"
      },
      "source": [
        "</td>"
      ],
      "id": "3e3b41dd-23bc-41a9-882e-26344f8afb1c"
    },
    {
      "cell_type": "raw",
      "metadata": {
        "raw_mimetype": "text/html"
      },
      "source": [
        "<td>"
      ],
      "id": "6f7591a3-440b-473a-aec2-0f2958adad42"
    },
    {
      "cell_type": "markdown",
      "metadata": {},
      "source": [
        "310"
      ],
      "id": "250ecc1e-fd30-4b41-aa93-89932a974bf4"
    },
    {
      "cell_type": "raw",
      "metadata": {
        "raw_mimetype": "text/html"
      },
      "source": [
        "</td>"
      ],
      "id": "abe263cb-0302-4afc-b8c2-d763531b184c"
    },
    {
      "cell_type": "raw",
      "metadata": {
        "raw_mimetype": "text/html"
      },
      "source": [
        "<td>"
      ],
      "id": "50492ca7-9560-4410-92b8-5936eeb0f5c2"
    },
    {
      "cell_type": "markdown",
      "metadata": {},
      "source": [
        "<span data-sort-value=\"103 !\"></span><abbr class=\"abbr\" title=\"Troisième\">3<sup>e</sup></abbr>"
      ],
      "id": "dce26403-1ee4-448e-a15b-e65adda09973"
    },
    {
      "cell_type": "raw",
      "metadata": {
        "raw_mimetype": "text/html"
      },
      "source": [
        "</td>"
      ],
      "id": "9fe17044-ec6c-4a71-ad97-93510d3e5cdb"
    },
    {
      "cell_type": "raw",
      "metadata": {
        "raw_mimetype": "text/html"
      },
      "source": [
        "<td align=\"left\">"
      ],
      "id": "42d8e433-18ef-41bd-81c7-915c56fada73"
    },
    {
      "cell_type": "markdown",
      "metadata": {},
      "source": [
        "<span class=\"flagicon\"><a class=\"image\" href=\"/wiki/Fichier:Flag_of_France.svg\" title=\"Drapeau : France\"><img alt=\"\" class=\"noviewer thumbborder\" data-file-height=\"600\" data-file-width=\"900\" decoding=\"async\" height=\"13\" src=\"//upload.wikimedia.org/wikipedia/commons/thumb/c/c3/Flag_of_France.svg/20px-Flag_of_France.svg.png\" srcset=\"//upload.wikimedia.org/wikipedia/commons/thumb/c/c3/Flag_of_France.svg/30px-Flag_of_France.svg.png 1.5x, //upload.wikimedia.org/wikipedia/commons/thumb/c/c3/Flag_of_France.svg/40px-Flag_of_France.svg.png 2x\" width=\"20\"/></a></span> <a href=\"/wiki/Rudi_Garcia\" title=\"Rudi Garcia\">Rudi Garcia</a>"
      ],
      "id": "5151e50c-85cb-4612-b48e-505001f2b2f1"
    },
    {
      "cell_type": "raw",
      "metadata": {
        "raw_mimetype": "text/html"
      },
      "source": [
        "</td>"
      ],
      "id": "0b2a5b87-a8e8-45c4-b0e3-338734666805"
    },
    {
      "cell_type": "raw",
      "metadata": {
        "raw_mimetype": "text/html"
      },
      "source": [
        "<td>"
      ],
      "id": "15f6edb7-f179-43d4-a7bb-52813691f618"
    },
    {
      "cell_type": "markdown",
      "metadata": {},
      "source": [
        "2019"
      ],
      "id": "62b413cd-995d-4e1f-8822-a349c08d1e37"
    },
    {
      "cell_type": "raw",
      "metadata": {
        "raw_mimetype": "text/html"
      },
      "source": [
        "</td>"
      ],
      "id": "6c75f503-7157-4ea5-a07d-93db8d780877"
    },
    {
      "cell_type": "raw",
      "metadata": {
        "raw_mimetype": "text/html"
      },
      "source": [
        "<td>"
      ],
      "id": "7c90cb70-8c49-40b5-88a5-eb720a0ca11c"
    },
    {
      "cell_type": "markdown",
      "metadata": {},
      "source": [
        "<a href=\"/wiki/Parc_Olympique_lyonnais\" title=\"Parc Olympique lyonnais\">Groupama Stadium</a>"
      ],
      "id": "5044dbab-bf2b-4c24-a6fd-dc030693806d"
    },
    {
      "cell_type": "raw",
      "metadata": {
        "raw_mimetype": "text/html"
      },
      "source": [
        "</td>"
      ],
      "id": "fc3cf15f-ae61-4fab-9385-e855cb2a196a"
    },
    {
      "cell_type": "raw",
      "metadata": {
        "raw_mimetype": "text/html"
      },
      "source": [
        "<td>"
      ],
      "id": "ddeaf930-f82c-4789-891b-58ce884cd5a1"
    },
    {
      "cell_type": "markdown",
      "metadata": {},
      "source": [
        "57 206"
      ],
      "id": "cceae6a7-4c2f-4901-b096-e75c0aad7fd0"
    },
    {
      "cell_type": "raw",
      "metadata": {
        "raw_mimetype": "text/html"
      },
      "source": [
        "</td>"
      ],
      "id": "2520b092-f379-467e-9d1d-e824b4d7231c"
    },
    {
      "cell_type": "raw",
      "metadata": {
        "raw_mimetype": "text/html"
      },
      "source": [
        "<td>"
      ],
      "id": "220e60a6-f3b7-43c2-9c2c-913300f2852f"
    },
    {
      "cell_type": "markdown",
      "metadata": {},
      "source": [
        "60"
      ],
      "id": "533612ad-073d-468f-bcf8-331d68a9c6be"
    },
    {
      "cell_type": "raw",
      "metadata": {
        "raw_mimetype": "text/html"
      },
      "source": [
        "</td>"
      ],
      "id": "cec619a8-0742-4d00-85d7-319fb03a7350"
    },
    {
      "cell_type": "raw",
      "metadata": {
        "raw_mimetype": "text/html"
      },
      "source": [
        "</tr>"
      ],
      "id": "3d270ba6-2364-42ed-9014-33935ecc8056"
    },
    {
      "cell_type": "raw",
      "metadata": {
        "raw_mimetype": "text/html"
      },
      "source": [
        "<tr bgcolor=\"#FFE052\">"
      ],
      "id": "1dd16e5f-a19b-462e-b08b-12848d4a36c5"
    },
    {
      "cell_type": "raw",
      "metadata": {
        "raw_mimetype": "text/html"
      },
      "source": [
        "<td>"
      ],
      "id": "f04e2e94-5d28-4ceb-b949-bc27d3afb631"
    },
    {
      "cell_type": "markdown",
      "metadata": {},
      "source": [
        "<a href=\"/wiki/Association_sportive_de_Saint-%C3%89tienne\" title=\"Association sportive de Saint-Étienne\">AS Saint-Étienne</a>"
      ],
      "id": "5ee176fa-76c3-4fe7-a277-751de4913acd"
    },
    {
      "cell_type": "raw",
      "metadata": {
        "raw_mimetype": "text/html"
      },
      "source": [
        "</td>"
      ],
      "id": "308cedb5-fbbd-4ff5-9250-21015f6383ba"
    },
    {
      "cell_type": "raw",
      "metadata": {
        "raw_mimetype": "text/html"
      },
      "source": [
        "<td>"
      ],
      "id": "f4e680e4-b1c5-4627-af84-0883fa4ebcd4"
    },
    {
      "cell_type": "markdown",
      "metadata": {},
      "source": [
        "2004"
      ],
      "id": "17115d42-7491-45e8-bc81-93818a933545"
    },
    {
      "cell_type": "raw",
      "metadata": {
        "raw_mimetype": "text/html"
      },
      "source": [
        "</td>"
      ],
      "id": "fc59490a-c426-4dab-9d56-116a6619817a"
    },
    {
      "cell_type": "raw",
      "metadata": {
        "raw_mimetype": "text/html"
      },
      "source": [
        "<td>"
      ],
      "id": "36ed05e0-176e-40d3-a382-0324faef66fc"
    },
    {
      "cell_type": "markdown",
      "metadata": {},
      "source": [
        "100"
      ],
      "id": "2e2733ad-c142-43a1-9621-b5f1a29a50ea"
    },
    {
      "cell_type": "raw",
      "metadata": {
        "raw_mimetype": "text/html"
      },
      "source": [
        "</td>"
      ],
      "id": "962646cf-050b-4f07-983d-5086b712e5d4"
    },
    {
      "cell_type": "raw",
      "metadata": {
        "raw_mimetype": "text/html"
      },
      "source": [
        "<td>"
      ],
      "id": "69183a95-ce05-4a5c-86c9-9593fe2b8698"
    },
    {
      "cell_type": "markdown",
      "metadata": {},
      "source": [
        "<span data-sort-value=\"104 !\"></span><abbr class=\"abbr\" title=\"Quatrième\">4<sup>e</sup></abbr>"
      ],
      "id": "50d9e149-8368-4830-8acf-2c640f8601b9"
    },
    {
      "cell_type": "raw",
      "metadata": {
        "raw_mimetype": "text/html"
      },
      "source": [
        "</td>"
      ],
      "id": "057b82ac-6e9e-4d40-b73b-f50ab8ea433b"
    },
    {
      "cell_type": "raw",
      "metadata": {
        "raw_mimetype": "text/html"
      },
      "source": [
        "<td align=\"left\">"
      ],
      "id": "22e36cd1-9580-40ed-9b04-db8fb0909c56"
    },
    {
      "cell_type": "markdown",
      "metadata": {},
      "source": [
        "<span class=\"flagicon\"><a class=\"image\" href=\"/wiki/Fichier:Flag_of_France.svg\" title=\"Drapeau : France\"><img alt=\"\" class=\"noviewer thumbborder\" data-file-height=\"600\" data-file-width=\"900\" decoding=\"async\" height=\"13\" src=\"//upload.wikimedia.org/wikipedia/commons/thumb/c/c3/Flag_of_France.svg/20px-Flag_of_France.svg.png\" srcset=\"//upload.wikimedia.org/wikipedia/commons/thumb/c/c3/Flag_of_France.svg/30px-Flag_of_France.svg.png 1.5x, //upload.wikimedia.org/wikipedia/commons/thumb/c/c3/Flag_of_France.svg/40px-Flag_of_France.svg.png 2x\" width=\"20\"/></a></span> <a href=\"/wiki/Claude_Puel\" title=\"Claude Puel\">Claude Puel</a>"
      ],
      "id": "1684676a-a1e1-40db-b0b5-24f50917667d"
    },
    {
      "cell_type": "raw",
      "metadata": {
        "raw_mimetype": "text/html"
      },
      "source": [
        "</td>"
      ],
      "id": "34b6657d-c8fa-4f31-800b-f8918794f0f0"
    },
    {
      "cell_type": "raw",
      "metadata": {
        "raw_mimetype": "text/html"
      },
      "source": [
        "<td>"
      ],
      "id": "4252243c-9f04-4cc5-bcd6-bb75021ab047"
    },
    {
      "cell_type": "markdown",
      "metadata": {},
      "source": [
        "2019"
      ],
      "id": "9e9fa05f-ee7b-4d8c-8c77-d44e66acef17"
    },
    {
      "cell_type": "raw",
      "metadata": {
        "raw_mimetype": "text/html"
      },
      "source": [
        "</td>"
      ],
      "id": "0310a618-714e-41fb-9d01-5082909e2633"
    },
    {
      "cell_type": "raw",
      "metadata": {
        "raw_mimetype": "text/html"
      },
      "source": [
        "<td>"
      ],
      "id": "f3a5bdf9-a508-419c-a971-500e160b6767"
    },
    {
      "cell_type": "markdown",
      "metadata": {},
      "source": [
        "<a href=\"/wiki/Stade_Geoffroy-Guichard\" title=\"Stade Geoffroy-Guichard\">Stade Geoffroy-Guichard</a>"
      ],
      "id": "450bb49d-525b-4887-8710-b356c1321cb5"
    },
    {
      "cell_type": "raw",
      "metadata": {
        "raw_mimetype": "text/html"
      },
      "source": [
        "</td>"
      ],
      "id": "1514cc11-79bb-4220-a060-34b7b0d6deb5"
    },
    {
      "cell_type": "raw",
      "metadata": {
        "raw_mimetype": "text/html"
      },
      "source": [
        "<td>"
      ],
      "id": "b8c4cf73-524f-45da-94af-fba9efa43157"
    },
    {
      "cell_type": "markdown",
      "metadata": {},
      "source": [
        "41 965"
      ],
      "id": "7355580d-d1d8-4525-925d-e8640a722151"
    },
    {
      "cell_type": "raw",
      "metadata": {
        "raw_mimetype": "text/html"
      },
      "source": [
        "</td>"
      ],
      "id": "e55fdb7a-fe10-434b-a1f5-56fd05b9e5b5"
    },
    {
      "cell_type": "raw",
      "metadata": {
        "raw_mimetype": "text/html"
      },
      "source": [
        "<td>"
      ],
      "id": "1c775b19-b66f-4144-bca5-c570818475be"
    },
    {
      "cell_type": "markdown",
      "metadata": {},
      "source": [
        "66"
      ],
      "id": "367f10ef-e513-4301-aa0d-e6c8414ddb7c"
    },
    {
      "cell_type": "raw",
      "metadata": {
        "raw_mimetype": "text/html"
      },
      "source": [
        "</td>"
      ],
      "id": "868c5816-fc36-468a-866e-b3ad5f78854d"
    },
    {
      "cell_type": "raw",
      "metadata": {
        "raw_mimetype": "text/html"
      },
      "source": [
        "</tr>"
      ],
      "id": "44aae1f3-ba79-42aa-a819-ddf5a5cce4e7"
    },
    {
      "cell_type": "raw",
      "metadata": {
        "raw_mimetype": "text/html"
      },
      "source": [
        "<tr>"
      ],
      "id": "7dc76526-2b6f-469f-ab32-3666b3a1c5ab"
    },
    {
      "cell_type": "raw",
      "metadata": {
        "raw_mimetype": "text/html"
      },
      "source": [
        "<td>"
      ],
      "id": "2f79da82-72a2-4d9d-b742-988e94e0de69"
    },
    {
      "cell_type": "markdown",
      "metadata": {},
      "source": [
        "<a href=\"/wiki/Olympique_de_Marseille\" title=\"Olympique de Marseille\">Olympique de Marseille</a>"
      ],
      "id": "5121dadd-c57f-4094-b343-cd4922b1b84b"
    },
    {
      "cell_type": "raw",
      "metadata": {
        "raw_mimetype": "text/html"
      },
      "source": [
        "</td>"
      ],
      "id": "f9b798dc-e95b-4e57-8691-4b788ce30253"
    },
    {
      "cell_type": "raw",
      "metadata": {
        "raw_mimetype": "text/html"
      },
      "source": [
        "<td>"
      ],
      "id": "7819812a-e258-4625-85f7-95348471f9bd"
    },
    {
      "cell_type": "markdown",
      "metadata": {},
      "source": [
        "1996"
      ],
      "id": "7cbc3099-0bcb-489f-bdd4-14f0c0334842"
    },
    {
      "cell_type": "raw",
      "metadata": {
        "raw_mimetype": "text/html"
      },
      "source": [
        "</td>"
      ],
      "id": "e3cf127f-68e9-4cf3-aca7-348e990050b4"
    },
    {
      "cell_type": "raw",
      "metadata": {
        "raw_mimetype": "text/html"
      },
      "source": [
        "<td>"
      ],
      "id": "77e13ea8-f6a2-4f7e-893e-5a1837723544"
    },
    {
      "cell_type": "markdown",
      "metadata": {},
      "source": [
        "110"
      ],
      "id": "009cd721-4334-4ed1-9eac-20ab7f60311f"
    },
    {
      "cell_type": "raw",
      "metadata": {
        "raw_mimetype": "text/html"
      },
      "source": [
        "</td>"
      ],
      "id": "a983b9af-7549-4643-b310-e0d201465775"
    },
    {
      "cell_type": "raw",
      "metadata": {
        "raw_mimetype": "text/html"
      },
      "source": [
        "<td>"
      ],
      "id": "3c2e7172-ed55-4a6c-b641-cc8ac3124786"
    },
    {
      "cell_type": "markdown",
      "metadata": {},
      "source": [
        "<span data-sort-value=\"105 !\"></span><abbr class=\"abbr\" title=\"Cinquième\">5<sup>e</sup></abbr>"
      ],
      "id": "4650118a-b433-4895-a4f8-7b86ade581e6"
    },
    {
      "cell_type": "raw",
      "metadata": {
        "raw_mimetype": "text/html"
      },
      "source": [
        "</td>"
      ],
      "id": "8ffaca5c-9f7b-4998-879a-064e0c5f325a"
    },
    {
      "cell_type": "raw",
      "metadata": {
        "raw_mimetype": "text/html"
      },
      "source": [
        "<td align=\"left\">"
      ],
      "id": "853295f0-2142-492e-9608-7d99132e2341"
    },
    {
      "cell_type": "markdown",
      "metadata": {},
      "source": [
        "<span class=\"flagicon\"><a class=\"image\" href=\"/wiki/Fichier:Flag_of_Portugal.svg\" title=\"Drapeau : Portugal\"><img alt=\"\" class=\"noviewer thumbborder\" data-file-height=\"400\" data-file-width=\"600\" decoding=\"async\" height=\"13\" src=\"//upload.wikimedia.org/wikipedia/commons/thumb/5/5c/Flag_of_Portugal.svg/20px-Flag_of_Portugal.svg.png\" srcset=\"//upload.wikimedia.org/wikipedia/commons/thumb/5/5c/Flag_of_Portugal.svg/30px-Flag_of_Portugal.svg.png 1.5x, //upload.wikimedia.org/wikipedia/commons/thumb/5/5c/Flag_of_Portugal.svg/40px-Flag_of_Portugal.svg.png 2x\" width=\"20\"/></a></span> <a href=\"/wiki/Andr%C3%A9_Villas-Boas\" title=\"André Villas-Boas\">André Villas-Boas</a>"
      ],
      "id": "131aff70-2ef5-4bd7-a8ae-1136dc241ae4"
    },
    {
      "cell_type": "raw",
      "metadata": {
        "raw_mimetype": "text/html"
      },
      "source": [
        "</td>"
      ],
      "id": "36e537d3-53b4-4f36-a962-bc4377604e22"
    },
    {
      "cell_type": "raw",
      "metadata": {
        "raw_mimetype": "text/html"
      },
      "source": [
        "<td>"
      ],
      "id": "deaded67-2370-41ee-86a0-929b7bf267d2"
    },
    {
      "cell_type": "markdown",
      "metadata": {},
      "source": [
        "2019"
      ],
      "id": "07daadc0-7596-4e12-9f08-8c5ca232a9cd"
    },
    {
      "cell_type": "raw",
      "metadata": {
        "raw_mimetype": "text/html"
      },
      "source": [
        "</td>"
      ],
      "id": "92723335-ae6a-4a9d-9030-c32340cc8fb3"
    },
    {
      "cell_type": "raw",
      "metadata": {
        "raw_mimetype": "text/html"
      },
      "source": [
        "<td>"
      ],
      "id": "651ea7ba-d4ef-4932-82ee-251785fc8808"
    },
    {
      "cell_type": "markdown",
      "metadata": {},
      "source": [
        "<a href=\"/wiki/Stade_V%C3%A9lodrome\" title=\"Stade Vélodrome\">Orange Vélodrome</a>"
      ],
      "id": "090345ca-912d-41bc-8248-321f523db940"
    },
    {
      "cell_type": "raw",
      "metadata": {
        "raw_mimetype": "text/html"
      },
      "source": [
        "</td>"
      ],
      "id": "ad5e237e-4249-45f2-abae-907ef14b76bb"
    },
    {
      "cell_type": "raw",
      "metadata": {
        "raw_mimetype": "text/html"
      },
      "source": [
        "<td>"
      ],
      "id": "cf38c394-f99e-496b-a527-9533aa0d6d63"
    },
    {
      "cell_type": "markdown",
      "metadata": {},
      "source": [
        "66 226"
      ],
      "id": "7b3ab57e-c8fc-4dea-9075-cecf7f38f3db"
    },
    {
      "cell_type": "raw",
      "metadata": {
        "raw_mimetype": "text/html"
      },
      "source": [
        "</td>"
      ],
      "id": "d86fc7fb-73e4-40fd-a1d2-7d3f735f6c58"
    },
    {
      "cell_type": "raw",
      "metadata": {
        "raw_mimetype": "text/html"
      },
      "source": [
        "<td>"
      ],
      "id": "4ef82871-8084-4fc7-bd22-106e3244a8b9"
    },
    {
      "cell_type": "markdown",
      "metadata": {},
      "source": [
        "69"
      ],
      "id": "3aebee0d-56b5-4a33-b4fa-83f3b9e13ad3"
    },
    {
      "cell_type": "raw",
      "metadata": {
        "raw_mimetype": "text/html"
      },
      "source": [
        "</td>"
      ],
      "id": "8044c7ec-cf2e-4718-9b2d-a4415dceef10"
    },
    {
      "cell_type": "raw",
      "metadata": {
        "raw_mimetype": "text/html"
      },
      "source": [
        "</tr>"
      ],
      "id": "cee1de84-374b-4df2-9915-413de02cb072"
    },
    {
      "cell_type": "raw",
      "metadata": {
        "raw_mimetype": "text/html"
      },
      "source": [
        "<tr>"
      ],
      "id": "f8cd9e18-56b6-4104-955b-002191e2317d"
    },
    {
      "cell_type": "raw",
      "metadata": {
        "raw_mimetype": "text/html"
      },
      "source": [
        "<td>"
      ],
      "id": "01369bba-96f6-4825-9219-f21ff5ca8fbc"
    },
    {
      "cell_type": "markdown",
      "metadata": {},
      "source": [
        "<a href=\"/wiki/Montpellier_H%C3%A9rault_Sport_Club\" title=\"Montpellier Hérault Sport Club\">Montpellier HSC</a>"
      ],
      "id": "a1dc9d27-4614-4568-8115-503f79ef907c"
    },
    {
      "cell_type": "raw",
      "metadata": {
        "raw_mimetype": "text/html"
      },
      "source": [
        "</td>"
      ],
      "id": "21c0776f-5779-4a07-a734-155b48a0c150"
    },
    {
      "cell_type": "raw",
      "metadata": {
        "raw_mimetype": "text/html"
      },
      "source": [
        "<td>"
      ],
      "id": "c72bff17-3211-49fa-86f7-01cd7102294c"
    },
    {
      "cell_type": "markdown",
      "metadata": {},
      "source": [
        "2009"
      ],
      "id": "1d7ddbaf-e476-484e-96f5-d0ce0e01e361"
    },
    {
      "cell_type": "raw",
      "metadata": {
        "raw_mimetype": "text/html"
      },
      "source": [
        "</td>"
      ],
      "id": "0503b0af-e896-42a3-aaac-d1cdf7401fe1"
    },
    {
      "cell_type": "raw",
      "metadata": {
        "raw_mimetype": "text/html"
      },
      "source": [
        "<td>"
      ],
      "id": "c7f01f6d-35f9-4ba8-9e2a-70f8dcd8ffbb"
    },
    {
      "cell_type": "markdown",
      "metadata": {},
      "source": [
        "40"
      ],
      "id": "8869d4c5-7d27-4361-a1dd-2307a490e3f7"
    },
    {
      "cell_type": "raw",
      "metadata": {
        "raw_mimetype": "text/html"
      },
      "source": [
        "</td>"
      ],
      "id": "590e8c66-5f7d-4137-8df9-8417c443ed0c"
    },
    {
      "cell_type": "raw",
      "metadata": {
        "raw_mimetype": "text/html"
      },
      "source": [
        "<td>"
      ],
      "id": "6d8df214-573c-40d5-aea1-b2c8574f1371"
    },
    {
      "cell_type": "markdown",
      "metadata": {},
      "source": [
        "<span data-sort-value=\"106 !\"></span><abbr class=\"abbr\" title=\"Sixième\">6<sup>e</sup></abbr>"
      ],
      "id": "f0b1074d-d689-4cf3-9507-72b2410bae77"
    },
    {
      "cell_type": "raw",
      "metadata": {
        "raw_mimetype": "text/html"
      },
      "source": [
        "</td>"
      ],
      "id": "5b2ba1fe-72d0-4da9-b5b0-1d58153ac11b"
    },
    {
      "cell_type": "raw",
      "metadata": {
        "raw_mimetype": "text/html"
      },
      "source": [
        "<td align=\"left\">"
      ],
      "id": "5c908e75-02bb-4e82-bd03-83a71c35d0fb"
    },
    {
      "cell_type": "markdown",
      "metadata": {},
      "source": [
        "<span class=\"flagicon\"><a class=\"image\" href=\"/wiki/Fichier:Flag_of_Armenia.svg\" title=\"Drapeau : Arménie\"><img alt=\"\" class=\"noviewer thumbborder\" data-file-height=\"600\" data-file-width=\"1200\" decoding=\"async\" height=\"10\" src=\"//upload.wikimedia.org/wikipedia/commons/thumb/2/2f/Flag_of_Armenia.svg/20px-Flag_of_Armenia.svg.png\" srcset=\"//upload.wikimedia.org/wikipedia/commons/thumb/2/2f/Flag_of_Armenia.svg/30px-Flag_of_Armenia.svg.png 1.5x, //upload.wikimedia.org/wikipedia/commons/thumb/2/2f/Flag_of_Armenia.svg/40px-Flag_of_Armenia.svg.png 2x\" width=\"20\"/></a></span><span class=\"flagicon\"><a class=\"image\" href=\"/wiki/Fichier:Flag_of_France.svg\" title=\"Drapeau : France\"><img alt=\"\" class=\"noviewer thumbborder\" data-file-height=\"600\" data-file-width=\"900\" decoding=\"async\" height=\"13\" src=\"//upload.wikimedia.org/wikipedia/commons/thumb/c/c3/Flag_of_France.svg/20px-Flag_of_France.svg.png\" srcset=\"//upload.wikimedia.org/wikipedia/commons/thumb/c/c3/Flag_of_France.svg/30px-Flag_of_France.svg.png 1.5x, //upload.wikimedia.org/wikipedia/commons/thumb/c/c3/Flag_of_France.svg/40px-Flag_of_France.svg.png 2x\" width=\"20\"/></a></span> <a href=\"/wiki/Michel_Der_Zakarian\" title=\"Michel Der Zakarian\">Michel Der Zakarian</a>"
      ],
      "id": "93287f36-59b1-41b9-bdeb-3e75b669b053"
    },
    {
      "cell_type": "raw",
      "metadata": {
        "raw_mimetype": "text/html"
      },
      "source": [
        "</td>"
      ],
      "id": "63efa6c0-3f22-456a-a8ec-1030b9604b2f"
    },
    {
      "cell_type": "raw",
      "metadata": {
        "raw_mimetype": "text/html"
      },
      "source": [
        "<td>"
      ],
      "id": "78c81e42-4a8a-434e-908b-b67b027fa1ae"
    },
    {
      "cell_type": "markdown",
      "metadata": {},
      "source": [
        "2017"
      ],
      "id": "25a52cb1-46d8-4b8b-b5e2-3f1ac18dabf8"
    },
    {
      "cell_type": "raw",
      "metadata": {
        "raw_mimetype": "text/html"
      },
      "source": [
        "</td>"
      ],
      "id": "6c5babab-9d73-4399-bc76-8aa68b9da01e"
    },
    {
      "cell_type": "raw",
      "metadata": {
        "raw_mimetype": "text/html"
      },
      "source": [
        "<td>"
      ],
      "id": "75bc1ee5-be93-4ab0-a645-edc77eb64f0f"
    },
    {
      "cell_type": "markdown",
      "metadata": {},
      "source": [
        "<a href=\"/wiki/Stade_de_la_Mosson\" title=\"Stade de la Mosson\">Stade de la Mosson</a>"
      ],
      "id": "c9dcfa7e-b04e-4e06-9a82-e6c27f19c477"
    },
    {
      "cell_type": "raw",
      "metadata": {
        "raw_mimetype": "text/html"
      },
      "source": [
        "</td>"
      ],
      "id": "6f9e9f60-8055-4016-9e66-9c5eaa7ad6d4"
    },
    {
      "cell_type": "raw",
      "metadata": {
        "raw_mimetype": "text/html"
      },
      "source": [
        "<td>"
      ],
      "id": "cda0e3d2-d6dc-4179-a366-fc2249d905c6"
    },
    {
      "cell_type": "markdown",
      "metadata": {},
      "source": [
        "22 000"
      ],
      "id": "5a8fc791-1067-405f-9653-81fb6e23bd00"
    },
    {
      "cell_type": "raw",
      "metadata": {
        "raw_mimetype": "text/html"
      },
      "source": [
        "</td>"
      ],
      "id": "647072f0-761a-4b4e-acd0-a8f90b6a62b7"
    },
    {
      "cell_type": "raw",
      "metadata": {
        "raw_mimetype": "text/html"
      },
      "source": [
        "<td>"
      ],
      "id": "32dd8d37-41be-4d7f-bc1d-f9b70671197c"
    },
    {
      "cell_type": "markdown",
      "metadata": {},
      "source": [
        "27"
      ],
      "id": "14a5ca0d-3504-48b6-b3ae-4e25d7dfc423"
    },
    {
      "cell_type": "raw",
      "metadata": {
        "raw_mimetype": "text/html"
      },
      "source": [
        "</td>"
      ],
      "id": "e0cf8d5a-6627-4556-892d-a37b058564ef"
    },
    {
      "cell_type": "raw",
      "metadata": {
        "raw_mimetype": "text/html"
      },
      "source": [
        "</tr>"
      ],
      "id": "349d2f2f-cb7d-40e4-81b3-ca2cc6bd918e"
    },
    {
      "cell_type": "raw",
      "metadata": {
        "raw_mimetype": "text/html"
      },
      "source": [
        "<tr>"
      ],
      "id": "d77c2efb-f960-40c9-8733-7ab245783efc"
    },
    {
      "cell_type": "raw",
      "metadata": {
        "raw_mimetype": "text/html"
      },
      "source": [
        "<td>"
      ],
      "id": "97402cb1-8dff-43c6-9501-cef273fa3133"
    },
    {
      "cell_type": "markdown",
      "metadata": {},
      "source": [
        "<a href=\"/wiki/Olympique_Gymnaste_Club_Nice\" title=\"Olympique Gymnaste Club Nice\">OGC Nice</a>"
      ],
      "id": "6f73e11f-676c-4331-8ae4-0ae1edb96f37"
    },
    {
      "cell_type": "raw",
      "metadata": {
        "raw_mimetype": "text/html"
      },
      "source": [
        "</td>"
      ],
      "id": "b12e199e-8682-450e-bf3d-20776f7aaec1"
    },
    {
      "cell_type": "raw",
      "metadata": {
        "raw_mimetype": "text/html"
      },
      "source": [
        "<td>"
      ],
      "id": "828b2aac-7793-48c3-88c0-6247b2793494"
    },
    {
      "cell_type": "markdown",
      "metadata": {},
      "source": [
        "2002"
      ],
      "id": "3772249a-7c99-476d-9cac-ad4fe424a780"
    },
    {
      "cell_type": "raw",
      "metadata": {
        "raw_mimetype": "text/html"
      },
      "source": [
        "</td>"
      ],
      "id": "ea720ebb-9f4f-473a-80e8-096553004f56"
    },
    {
      "cell_type": "raw",
      "metadata": {
        "raw_mimetype": "text/html"
      },
      "source": [
        "<td>"
      ],
      "id": "4ba19fee-2676-4bab-82a6-2a197ffc70b4"
    },
    {
      "cell_type": "markdown",
      "metadata": {},
      "source": [
        "50"
      ],
      "id": "645c68b5-435c-4909-b4b1-903f59d0a3bb"
    },
    {
      "cell_type": "raw",
      "metadata": {
        "raw_mimetype": "text/html"
      },
      "source": [
        "</td>"
      ],
      "id": "a5a4c5fc-a0bd-49e1-93da-06ac46864ffa"
    },
    {
      "cell_type": "raw",
      "metadata": {
        "raw_mimetype": "text/html"
      },
      "source": [
        "<td>"
      ],
      "id": "9551987b-878f-4448-b2e2-db93339315b5"
    },
    {
      "cell_type": "markdown",
      "metadata": {},
      "source": [
        "<span data-sort-value=\"107 !\"></span><abbr class=\"abbr\" title=\"Septième\">7<sup>e</sup></abbr>"
      ],
      "id": "12dba2eb-9045-41bc-ab18-f2745df0fbf1"
    },
    {
      "cell_type": "raw",
      "metadata": {
        "raw_mimetype": "text/html"
      },
      "source": [
        "</td>"
      ],
      "id": "84818211-6f85-46a4-8f4f-8b0bb1a9e377"
    },
    {
      "cell_type": "raw",
      "metadata": {
        "raw_mimetype": "text/html"
      },
      "source": [
        "<td align=\"left\">"
      ],
      "id": "d879e665-d8c3-4d0d-b7b2-157b79076923"
    },
    {
      "cell_type": "markdown",
      "metadata": {},
      "source": [
        "<span class=\"flagicon\"><a class=\"image\" href=\"/wiki/Fichier:Flag_of_France.svg\" title=\"Drapeau : France\"><img alt=\"\" class=\"noviewer thumbborder\" data-file-height=\"600\" data-file-width=\"900\" decoding=\"async\" height=\"13\" src=\"//upload.wikimedia.org/wikipedia/commons/thumb/c/c3/Flag_of_France.svg/20px-Flag_of_France.svg.png\" srcset=\"//upload.wikimedia.org/wikipedia/commons/thumb/c/c3/Flag_of_France.svg/30px-Flag_of_France.svg.png 1.5x, //upload.wikimedia.org/wikipedia/commons/thumb/c/c3/Flag_of_France.svg/40px-Flag_of_France.svg.png 2x\" width=\"20\"/></a></span> <a href=\"/wiki/Patrick_Vieira\" title=\"Patrick Vieira\">Patrick Vieira</a>"
      ],
      "id": "eb7867d5-0cac-4318-9a5a-a8aa2d5e45eb"
    },
    {
      "cell_type": "raw",
      "metadata": {
        "raw_mimetype": "text/html"
      },
      "source": [
        "</td>"
      ],
      "id": "98c3605d-2dbc-4c57-adb8-81953afbca7a"
    },
    {
      "cell_type": "raw",
      "metadata": {
        "raw_mimetype": "text/html"
      },
      "source": [
        "<td>"
      ],
      "id": "778e729c-29f0-49fd-83b2-eaf475611c60"
    },
    {
      "cell_type": "markdown",
      "metadata": {},
      "source": [
        "2018"
      ],
      "id": "7f36e227-1ecf-4808-9a51-2d9246e5ad2a"
    },
    {
      "cell_type": "raw",
      "metadata": {
        "raw_mimetype": "text/html"
      },
      "source": [
        "</td>"
      ],
      "id": "1da10cfc-815e-48d4-9505-627d42e38224"
    },
    {
      "cell_type": "raw",
      "metadata": {
        "raw_mimetype": "text/html"
      },
      "source": [
        "<td>"
      ],
      "id": "6ff1d8f3-2160-45a3-9501-aa4622d2abb9"
    },
    {
      "cell_type": "markdown",
      "metadata": {},
      "source": [
        "<a href=\"/wiki/Allianz_Riviera\" title=\"Allianz Riviera\">Allianz Riviera</a>"
      ],
      "id": "d178337e-8423-4da4-9dcc-dbd61377436c"
    },
    {
      "cell_type": "raw",
      "metadata": {
        "raw_mimetype": "text/html"
      },
      "source": [
        "</td>"
      ],
      "id": "087ea6ff-2996-4fb3-86fb-f13c45dc85b8"
    },
    {
      "cell_type": "raw",
      "metadata": {
        "raw_mimetype": "text/html"
      },
      "source": [
        "<td>"
      ],
      "id": "605d9e7c-0bd3-4b77-8129-2b96ff2e9d3a"
    },
    {
      "cell_type": "markdown",
      "metadata": {},
      "source": [
        "35 596"
      ],
      "id": "4c04138b-c591-4521-9b9d-549d13fc54bc"
    },
    {
      "cell_type": "raw",
      "metadata": {
        "raw_mimetype": "text/html"
      },
      "source": [
        "</td>"
      ],
      "id": "dd96b1fd-21c7-45c6-b768-523fd8490dcd"
    },
    {
      "cell_type": "raw",
      "metadata": {
        "raw_mimetype": "text/html"
      },
      "source": [
        "<td>"
      ],
      "id": "b0ab6772-4339-4f56-a49e-c901e81377e7"
    },
    {
      "cell_type": "markdown",
      "metadata": {},
      "source": [
        "60"
      ],
      "id": "4c9bc42d-4dcd-47c1-93f3-d45e3c9e3069"
    },
    {
      "cell_type": "raw",
      "metadata": {
        "raw_mimetype": "text/html"
      },
      "source": [
        "</td>"
      ],
      "id": "fcb2d967-d6a7-410d-98f2-69fa6f6a36ee"
    },
    {
      "cell_type": "raw",
      "metadata": {
        "raw_mimetype": "text/html"
      },
      "source": [
        "</tr>"
      ],
      "id": "5608a569-5701-48d7-aafd-4e47fbb90689"
    },
    {
      "cell_type": "raw",
      "metadata": {
        "raw_mimetype": "text/html"
      },
      "source": [
        "<tr>"
      ],
      "id": "ac893728-3040-45a2-af0f-fe5865b72836"
    },
    {
      "cell_type": "raw",
      "metadata": {
        "raw_mimetype": "text/html"
      },
      "source": [
        "<td>"
      ],
      "id": "2194ff5d-48c6-4c56-85e9-c8fda7d954f0"
    },
    {
      "cell_type": "markdown",
      "metadata": {},
      "source": [
        "<a href=\"/wiki/Stade_de_Reims\" title=\"Stade de Reims\">Stade de Reims</a>"
      ],
      "id": "ff02e240-e419-4ded-a381-c625db127468"
    },
    {
      "cell_type": "raw",
      "metadata": {
        "raw_mimetype": "text/html"
      },
      "source": [
        "</td>"
      ],
      "id": "99ffc5a6-ebc5-4a54-958a-c1f089a1fe94"
    },
    {
      "cell_type": "raw",
      "metadata": {
        "raw_mimetype": "text/html"
      },
      "source": [
        "<td>"
      ],
      "id": "40f95498-3aad-40e4-92d3-7117b27d4a3f"
    },
    {
      "cell_type": "markdown",
      "metadata": {},
      "source": [
        "2018"
      ],
      "id": "4c0feb1c-80f7-4aca-9b8b-875cff8ebc50"
    },
    {
      "cell_type": "raw",
      "metadata": {
        "raw_mimetype": "text/html"
      },
      "source": [
        "</td>"
      ],
      "id": "2c4cef21-bc24-4ed7-b35b-659b0443bb87"
    },
    {
      "cell_type": "raw",
      "metadata": {
        "raw_mimetype": "text/html"
      },
      "source": [
        "<td>"
      ],
      "id": "7c1f9867-bfa6-4afa-be63-ccadce442e81"
    },
    {
      "cell_type": "markdown",
      "metadata": {},
      "source": [
        "45"
      ],
      "id": "c42d2448-d424-4594-9958-9eb9e1d02e5a"
    },
    {
      "cell_type": "raw",
      "metadata": {
        "raw_mimetype": "text/html"
      },
      "source": [
        "</td>"
      ],
      "id": "fafe23d8-dfd5-4880-b86d-b8858bd6746d"
    },
    {
      "cell_type": "raw",
      "metadata": {
        "raw_mimetype": "text/html"
      },
      "source": [
        "<td>"
      ],
      "id": "6005f09f-b5d5-42bd-b618-6bff118db4fe"
    },
    {
      "cell_type": "markdown",
      "metadata": {},
      "source": [
        "<span data-sort-value=\"108 !\"></span><abbr class=\"abbr\" title=\"Huitième\">8<sup>e</sup></abbr>"
      ],
      "id": "cfc12f12-eaf3-4522-bd5c-e0ec2202e63c"
    },
    {
      "cell_type": "raw",
      "metadata": {
        "raw_mimetype": "text/html"
      },
      "source": [
        "</td>"
      ],
      "id": "83fcc04f-b5b6-4235-89f0-768ab37eaf3d"
    },
    {
      "cell_type": "raw",
      "metadata": {
        "raw_mimetype": "text/html"
      },
      "source": [
        "<td align=\"left\">"
      ],
      "id": "d20e6dc7-3878-4d72-8580-0a0d5720b63f"
    },
    {
      "cell_type": "markdown",
      "metadata": {},
      "source": [
        "<span class=\"flagicon\"><a class=\"image\" href=\"/wiki/Fichier:Flag_of_France.svg\" title=\"Drapeau : France\"><img alt=\"\" class=\"noviewer thumbborder\" data-file-height=\"600\" data-file-width=\"900\" decoding=\"async\" height=\"13\" src=\"//upload.wikimedia.org/wikipedia/commons/thumb/c/c3/Flag_of_France.svg/20px-Flag_of_France.svg.png\" srcset=\"//upload.wikimedia.org/wikipedia/commons/thumb/c/c3/Flag_of_France.svg/30px-Flag_of_France.svg.png 1.5x, //upload.wikimedia.org/wikipedia/commons/thumb/c/c3/Flag_of_France.svg/40px-Flag_of_France.svg.png 2x\" width=\"20\"/></a></span> <a href=\"/wiki/David_Guion\" title=\"David Guion\">David Guion</a>"
      ],
      "id": "484dde61-b05e-4154-b36a-ac5a3c23d21d"
    },
    {
      "cell_type": "raw",
      "metadata": {
        "raw_mimetype": "text/html"
      },
      "source": [
        "</td>"
      ],
      "id": "548628c2-552e-40bb-adfa-5ecac99b2b41"
    },
    {
      "cell_type": "raw",
      "metadata": {
        "raw_mimetype": "text/html"
      },
      "source": [
        "<td>"
      ],
      "id": "0b5b30ed-b5db-4cac-a301-0a7d10dbf792"
    },
    {
      "cell_type": "markdown",
      "metadata": {},
      "source": [
        "2017"
      ],
      "id": "2c2a8cfb-9da9-4d76-bd16-28e3c5ca0a03"
    },
    {
      "cell_type": "raw",
      "metadata": {
        "raw_mimetype": "text/html"
      },
      "source": [
        "</td>"
      ],
      "id": "cf959695-bca6-44fa-b0b8-d9df85e66f2e"
    },
    {
      "cell_type": "raw",
      "metadata": {
        "raw_mimetype": "text/html"
      },
      "source": [
        "<td>"
      ],
      "id": "9837b551-0ac5-4e04-a4d0-d6c9c7369240"
    },
    {
      "cell_type": "markdown",
      "metadata": {},
      "source": [
        "<a href=\"/wiki/Stade_Auguste-Delaune\" title=\"Stade Auguste-Delaune\">Stade Auguste-Delaune</a>"
      ],
      "id": "ddd1b937-ae08-4c4c-92ec-c0c0e2f3981d"
    },
    {
      "cell_type": "raw",
      "metadata": {
        "raw_mimetype": "text/html"
      },
      "source": [
        "</td>"
      ],
      "id": "7170b94d-1600-4009-8ec6-72fbbdf364f0"
    },
    {
      "cell_type": "raw",
      "metadata": {
        "raw_mimetype": "text/html"
      },
      "source": [
        "<td>"
      ],
      "id": "9e90964d-5bb2-45ce-9dc0-c96f1ed4a33a"
    },
    {
      "cell_type": "markdown",
      "metadata": {},
      "source": [
        "20 546"
      ],
      "id": "2fe94df4-3ed4-4e8f-806f-8f59a070418f"
    },
    {
      "cell_type": "raw",
      "metadata": {
        "raw_mimetype": "text/html"
      },
      "source": [
        "</td>"
      ],
      "id": "5d4f5e20-33cf-4124-a534-2433b7f4534a"
    },
    {
      "cell_type": "raw",
      "metadata": {
        "raw_mimetype": "text/html"
      },
      "source": [
        "<td>"
      ],
      "id": "5a021e51-64ca-4300-a982-49eb942e8e27"
    },
    {
      "cell_type": "markdown",
      "metadata": {},
      "source": [
        "35"
      ],
      "id": "a7b4ffc2-da95-4e01-bbb2-0856f1a5e448"
    },
    {
      "cell_type": "raw",
      "metadata": {
        "raw_mimetype": "text/html"
      },
      "source": [
        "</td>"
      ],
      "id": "f9041be4-cc39-489d-bf0a-fe7855ba792a"
    },
    {
      "cell_type": "raw",
      "metadata": {
        "raw_mimetype": "text/html"
      },
      "source": [
        "</tr>"
      ],
      "id": "59d41701-ec19-42e9-9922-8581bbd34ae8"
    },
    {
      "cell_type": "raw",
      "metadata": {
        "raw_mimetype": "text/html"
      },
      "source": [
        "<tr>"
      ],
      "id": "fac8ebe0-f499-4cf6-9a88-c064c4082aa5"
    },
    {
      "cell_type": "raw",
      "metadata": {
        "raw_mimetype": "text/html"
      },
      "source": [
        "<td>"
      ],
      "id": "447ecd1f-8070-4ff2-82da-2a4f248ec56d"
    },
    {
      "cell_type": "markdown",
      "metadata": {},
      "source": [
        "<a href=\"/wiki/N%C3%AEmes_Olympique\" title=\"Nîmes Olympique\">Nîmes Olympique</a>"
      ],
      "id": "dfdbf609-e10e-419a-877a-b62fd4897549"
    },
    {
      "cell_type": "raw",
      "metadata": {
        "raw_mimetype": "text/html"
      },
      "source": [
        "</td>"
      ],
      "id": "9caab68b-eda5-40a9-b34e-2911f25755c7"
    },
    {
      "cell_type": "raw",
      "metadata": {
        "raw_mimetype": "text/html"
      },
      "source": [
        "<td>"
      ],
      "id": "b2de3fe1-20e7-45db-8da6-4351d383fc4b"
    },
    {
      "cell_type": "markdown",
      "metadata": {},
      "source": [
        "2018"
      ],
      "id": "b46ec341-6948-478b-a7ce-ef49c91fd10c"
    },
    {
      "cell_type": "raw",
      "metadata": {
        "raw_mimetype": "text/html"
      },
      "source": [
        "</td>"
      ],
      "id": "2af6cbb7-7b6e-4b32-b5d9-6b0cdffdf369"
    },
    {
      "cell_type": "raw",
      "metadata": {
        "raw_mimetype": "text/html"
      },
      "source": [
        "<td>"
      ],
      "id": "c5f26b66-fd78-479b-81d3-a7ef42b98c2b"
    },
    {
      "cell_type": "markdown",
      "metadata": {},
      "source": [
        "27"
      ],
      "id": "f0f35f36-5f51-4fcc-9936-5635665ecc0a"
    },
    {
      "cell_type": "raw",
      "metadata": {
        "raw_mimetype": "text/html"
      },
      "source": [
        "</td>"
      ],
      "id": "f0e3bea5-5c99-4c0a-a1b6-f38c5b69c5e3"
    },
    {
      "cell_type": "raw",
      "metadata": {
        "raw_mimetype": "text/html"
      },
      "source": [
        "<td>"
      ],
      "id": "eee5dd42-50c6-4b7c-a522-e7aaebe1c550"
    },
    {
      "cell_type": "markdown",
      "metadata": {},
      "source": [
        "<span data-sort-value=\"109 !\"></span><abbr class=\"abbr\" title=\"Neuvième\">9<sup>e</sup></abbr>"
      ],
      "id": "a64d8991-2914-459a-beb1-086e6628b7ba"
    },
    {
      "cell_type": "raw",
      "metadata": {
        "raw_mimetype": "text/html"
      },
      "source": [
        "</td>"
      ],
      "id": "e01ec4b6-9b65-4b44-a1d2-1a9dd2478e99"
    },
    {
      "cell_type": "raw",
      "metadata": {
        "raw_mimetype": "text/html"
      },
      "source": [
        "<td align=\"left\">"
      ],
      "id": "2f0279a0-8694-4c36-af74-3dfda8556289"
    },
    {
      "cell_type": "markdown",
      "metadata": {},
      "source": [
        "<span class=\"flagicon\"><a class=\"image\" href=\"/wiki/Fichier:Flag_of_France.svg\" title=\"Drapeau : France\"><img alt=\"\" class=\"noviewer thumbborder\" data-file-height=\"600\" data-file-width=\"900\" decoding=\"async\" height=\"13\" src=\"//upload.wikimedia.org/wikipedia/commons/thumb/c/c3/Flag_of_France.svg/20px-Flag_of_France.svg.png\" srcset=\"//upload.wikimedia.org/wikipedia/commons/thumb/c/c3/Flag_of_France.svg/30px-Flag_of_France.svg.png 1.5x, //upload.wikimedia.org/wikipedia/commons/thumb/c/c3/Flag_of_France.svg/40px-Flag_of_France.svg.png 2x\" width=\"20\"/></a></span> <a href=\"/wiki/Bernard_Blaquart\" title=\"Bernard Blaquart\">Bernard Blaquart</a>"
      ],
      "id": "ddd5dea0-8b9d-4c96-9cdf-e4d8fd0dc892"
    },
    {
      "cell_type": "raw",
      "metadata": {
        "raw_mimetype": "text/html"
      },
      "source": [
        "</td>"
      ],
      "id": "39d2b0e1-0bc7-4732-ba5e-8a1c33ff89ad"
    },
    {
      "cell_type": "raw",
      "metadata": {
        "raw_mimetype": "text/html"
      },
      "source": [
        "<td>"
      ],
      "id": "ab65516c-704d-4899-b2c5-267526396b12"
    },
    {
      "cell_type": "markdown",
      "metadata": {},
      "source": [
        "2015"
      ],
      "id": "2ae61fe1-2248-4d70-ac6e-53ab44d2cdc7"
    },
    {
      "cell_type": "raw",
      "metadata": {
        "raw_mimetype": "text/html"
      },
      "source": [
        "</td>"
      ],
      "id": "ba0e601c-7b7b-4032-9797-925677d0d63f"
    },
    {
      "cell_type": "raw",
      "metadata": {
        "raw_mimetype": "text/html"
      },
      "source": [
        "<td>"
      ],
      "id": "60ac78bd-0002-4dae-ac0e-15d0f6a536c1"
    },
    {
      "cell_type": "markdown",
      "metadata": {},
      "source": [
        "<a href=\"/wiki/Stade_des_Costi%C3%A8res\" title=\"Stade des Costières\">Stade des Costières</a>"
      ],
      "id": "1e9cc173-08eb-439b-a4cf-abe139d84c34"
    },
    {
      "cell_type": "raw",
      "metadata": {
        "raw_mimetype": "text/html"
      },
      "source": [
        "</td>"
      ],
      "id": "3d7eda5c-1ee3-46e6-b7db-6dd53b42a194"
    },
    {
      "cell_type": "raw",
      "metadata": {
        "raw_mimetype": "text/html"
      },
      "source": [
        "<td>"
      ],
      "id": "b3cd79ce-21b3-4ab9-b02b-1a6970e93544"
    },
    {
      "cell_type": "markdown",
      "metadata": {},
      "source": [
        "15 788"
      ],
      "id": "5044174f-1c2f-4137-811f-590b05e73764"
    },
    {
      "cell_type": "raw",
      "metadata": {
        "raw_mimetype": "text/html"
      },
      "source": [
        "</td>"
      ],
      "id": "f3f349fa-47d3-4f8f-b96a-9d675ceb905c"
    },
    {
      "cell_type": "raw",
      "metadata": {
        "raw_mimetype": "text/html"
      },
      "source": [
        "<td>"
      ],
      "id": "c8c5eb48-3c6e-4130-8007-1b20aa1e26bb"
    },
    {
      "cell_type": "markdown",
      "metadata": {},
      "source": [
        "35"
      ],
      "id": "317278d8-d1a0-4de2-9198-1b9df647b8b1"
    },
    {
      "cell_type": "raw",
      "metadata": {
        "raw_mimetype": "text/html"
      },
      "source": [
        "</td>"
      ],
      "id": "40ba20ab-2a2c-443d-a734-afacb51e01c3"
    },
    {
      "cell_type": "raw",
      "metadata": {
        "raw_mimetype": "text/html"
      },
      "source": [
        "</tr>"
      ],
      "id": "8653db4c-5d09-4cd3-ac3d-c718c4bffa6c"
    },
    {
      "cell_type": "raw",
      "metadata": {
        "raw_mimetype": "text/html"
      },
      "source": [
        "<tr bgcolor=\"#FFE052\">"
      ],
      "id": "34ffdb31-da98-44a2-a057-4925d48aa878"
    },
    {
      "cell_type": "raw",
      "metadata": {
        "raw_mimetype": "text/html"
      },
      "source": [
        "<td>"
      ],
      "id": "e1d5c60b-02fe-4c7a-bc59-aa6d22edd01e"
    },
    {
      "cell_type": "markdown",
      "metadata": {},
      "source": [
        "<a class=\"mw-redirect\" href=\"/wiki/Stade_rennais_football_club\" title=\"Stade rennais football club\">Stade rennais FC</a>"
      ],
      "id": "77d6b1f4-6ec3-453c-aeec-964f06900675"
    },
    {
      "cell_type": "raw",
      "metadata": {
        "raw_mimetype": "text/html"
      },
      "source": [
        "</td>"
      ],
      "id": "a28ac06e-ffec-472e-8525-916e8e7ba3ea"
    },
    {
      "cell_type": "raw",
      "metadata": {
        "raw_mimetype": "text/html"
      },
      "source": [
        "<td>"
      ],
      "id": "b73ddbb5-bc4b-4ba6-840f-84f36ce7af72"
    },
    {
      "cell_type": "markdown",
      "metadata": {},
      "source": [
        "1994"
      ],
      "id": "7b860cce-a8fe-498c-9dfd-2485af52b6d3"
    },
    {
      "cell_type": "raw",
      "metadata": {
        "raw_mimetype": "text/html"
      },
      "source": [
        "</td>"
      ],
      "id": "2f609571-fd3e-4360-b907-8ac631e9db1f"
    },
    {
      "cell_type": "raw",
      "metadata": {
        "raw_mimetype": "text/html"
      },
      "source": [
        "<td>"
      ],
      "id": "b22e2ff4-4f6b-47d2-989e-fadd2ff0ecea"
    },
    {
      "cell_type": "markdown",
      "metadata": {},
      "source": [
        "65"
      ],
      "id": "217231cc-6459-408d-bdc8-84a88aa84fe9"
    },
    {
      "cell_type": "raw",
      "metadata": {
        "raw_mimetype": "text/html"
      },
      "source": [
        "</td>"
      ],
      "id": "88894936-058b-4de7-9273-c6e91b7f2b7f"
    },
    {
      "cell_type": "raw",
      "metadata": {
        "raw_mimetype": "text/html"
      },
      "source": [
        "<td>"
      ],
      "id": "41429549-3d1c-4b99-8d12-9c250f71430a"
    },
    {
      "cell_type": "markdown",
      "metadata": {},
      "source": [
        "<span data-sort-value=\"110 !\"></span><abbr class=\"abbr\" title=\"Dixième\">10<sup>e</sup></abbr>"
      ],
      "id": "786c7267-7d9d-48f7-8745-538762cf0c7e"
    },
    {
      "cell_type": "raw",
      "metadata": {
        "raw_mimetype": "text/html"
      },
      "source": [
        "</td>"
      ],
      "id": "e2f19ade-387b-497e-951b-15a6cb33ab9a"
    },
    {
      "cell_type": "raw",
      "metadata": {
        "raw_mimetype": "text/html"
      },
      "source": [
        "<td align=\"left\">"
      ],
      "id": "5ef3f866-f0dc-4838-82fe-aeff8e00725e"
    },
    {
      "cell_type": "markdown",
      "metadata": {},
      "source": [
        "<span class=\"flagicon\"><a class=\"image\" href=\"/wiki/Fichier:Flag_of_France.svg\" title=\"Drapeau : France\"><img alt=\"\" class=\"noviewer thumbborder\" data-file-height=\"600\" data-file-width=\"900\" decoding=\"async\" height=\"13\" src=\"//upload.wikimedia.org/wikipedia/commons/thumb/c/c3/Flag_of_France.svg/20px-Flag_of_France.svg.png\" srcset=\"//upload.wikimedia.org/wikipedia/commons/thumb/c/c3/Flag_of_France.svg/30px-Flag_of_France.svg.png 1.5x, //upload.wikimedia.org/wikipedia/commons/thumb/c/c3/Flag_of_France.svg/40px-Flag_of_France.svg.png 2x\" width=\"20\"/></a></span> <a href=\"/wiki/Julien_St%C3%A9phan\" title=\"Julien Stéphan\">Julien Stéphan</a>"
      ],
      "id": "d66c8cbf-f67e-4e9c-9fe5-099cd6d3398c"
    },
    {
      "cell_type": "raw",
      "metadata": {
        "raw_mimetype": "text/html"
      },
      "source": [
        "</td>"
      ],
      "id": "c0f944c7-c110-46f7-a299-95462edf4539"
    },
    {
      "cell_type": "raw",
      "metadata": {
        "raw_mimetype": "text/html"
      },
      "source": [
        "<td>"
      ],
      "id": "278df2ab-a82c-4181-bb95-666e43614e6f"
    },
    {
      "cell_type": "markdown",
      "metadata": {},
      "source": [
        "2018"
      ],
      "id": "c1d1ab89-e43c-4232-8e8b-2f7a05516018"
    },
    {
      "cell_type": "raw",
      "metadata": {
        "raw_mimetype": "text/html"
      },
      "source": [
        "</td>"
      ],
      "id": "f16e2673-1bac-4f46-b98a-01b778cd9189"
    },
    {
      "cell_type": "raw",
      "metadata": {
        "raw_mimetype": "text/html"
      },
      "source": [
        "<td>"
      ],
      "id": "4fe21fe7-6596-4c21-9ad9-b682bb622d2f"
    },
    {
      "cell_type": "markdown",
      "metadata": {},
      "source": [
        "<a href=\"/wiki/Roazhon_Park\" title=\"Roazhon Park\">Roazhon Park</a>"
      ],
      "id": "e9fe63d1-1887-4bee-9e57-4ce1a3eed380"
    },
    {
      "cell_type": "raw",
      "metadata": {
        "raw_mimetype": "text/html"
      },
      "source": [
        "</td>"
      ],
      "id": "2b1c2e3c-0f9b-42f6-86c0-e1d5aca13871"
    },
    {
      "cell_type": "raw",
      "metadata": {
        "raw_mimetype": "text/html"
      },
      "source": [
        "<td>"
      ],
      "id": "924bfc8f-de3c-4122-aa6a-85c2a5757e87"
    },
    {
      "cell_type": "markdown",
      "metadata": {},
      "source": [
        "29 194"
      ],
      "id": "fee8cbf1-f50e-451d-b57b-df5b2d01b0e8"
    },
    {
      "cell_type": "raw",
      "metadata": {
        "raw_mimetype": "text/html"
      },
      "source": [
        "</td>"
      ],
      "id": "130cea18-f09c-42fd-a8be-99e261eb7185"
    },
    {
      "cell_type": "raw",
      "metadata": {
        "raw_mimetype": "text/html"
      },
      "source": [
        "<td>"
      ],
      "id": "cae3abe7-a50e-459a-a1a9-f7e2fc2131ea"
    },
    {
      "cell_type": "markdown",
      "metadata": {},
      "source": [
        "62"
      ],
      "id": "2bf48b21-d940-4bf3-9989-d99e17f0ab02"
    },
    {
      "cell_type": "raw",
      "metadata": {
        "raw_mimetype": "text/html"
      },
      "source": [
        "</td>"
      ],
      "id": "f694d2d4-58fb-49ab-9752-70c8d115113e"
    },
    {
      "cell_type": "raw",
      "metadata": {
        "raw_mimetype": "text/html"
      },
      "source": [
        "</tr>"
      ],
      "id": "ae3572fd-fae8-4b68-bafd-0192becd3b29"
    },
    {
      "cell_type": "raw",
      "metadata": {
        "raw_mimetype": "text/html"
      },
      "source": [
        "<tr bgcolor=\"#FFF052\">"
      ],
      "id": "36c5f983-f6e9-4a01-96c3-ea29c3fe23e2"
    },
    {
      "cell_type": "raw",
      "metadata": {
        "raw_mimetype": "text/html"
      },
      "source": [
        "<td>"
      ],
      "id": "63e557b3-4090-46a5-8d6a-0653c3cb69a1"
    },
    {
      "cell_type": "markdown",
      "metadata": {},
      "source": [
        "<a href=\"/wiki/Racing_Club_de_Strasbourg_Alsace\" title=\"Racing Club de Strasbourg Alsace\">RC Strasbourg Alsace</a>"
      ],
      "id": "33cf8551-b3fb-4d5b-9955-b5c71f28c8ea"
    },
    {
      "cell_type": "raw",
      "metadata": {
        "raw_mimetype": "text/html"
      },
      "source": [
        "</td>"
      ],
      "id": "ad6c3d53-1675-4d40-9d3d-91561f1bf7bc"
    },
    {
      "cell_type": "raw",
      "metadata": {
        "raw_mimetype": "text/html"
      },
      "source": [
        "<td>"
      ],
      "id": "86538816-6b43-41f0-9eff-2688e0902f80"
    },
    {
      "cell_type": "markdown",
      "metadata": {},
      "source": [
        "2017"
      ],
      "id": "f7fd75a2-b9cc-464c-9f23-441ce6ea9bba"
    },
    {
      "cell_type": "raw",
      "metadata": {
        "raw_mimetype": "text/html"
      },
      "source": [
        "</td>"
      ],
      "id": "75414fd8-f74f-472d-bb0a-6526a1f22ad3"
    },
    {
      "cell_type": "raw",
      "metadata": {
        "raw_mimetype": "text/html"
      },
      "source": [
        "<td>"
      ],
      "id": "97e6a246-359f-4e89-b33f-f74c7c0464f2"
    },
    {
      "cell_type": "markdown",
      "metadata": {},
      "source": [
        "43"
      ],
      "id": "531bf9c3-938e-4ae9-abb6-a48bf9bb2025"
    },
    {
      "cell_type": "raw",
      "metadata": {
        "raw_mimetype": "text/html"
      },
      "source": [
        "</td>"
      ],
      "id": "5d45b735-0b33-48d0-8677-f07d85f9e705"
    },
    {
      "cell_type": "raw",
      "metadata": {
        "raw_mimetype": "text/html"
      },
      "source": [
        "<td>"
      ],
      "id": "39a756db-0194-4def-8980-6169454105f8"
    },
    {
      "cell_type": "markdown",
      "metadata": {},
      "source": [
        "<span data-sort-value=\"111 !\"></span><abbr class=\"abbr\" title=\"Onzième\">11<sup>e</sup></abbr>"
      ],
      "id": "bf7efbec-145b-4549-90d1-f32a00260909"
    },
    {
      "cell_type": "raw",
      "metadata": {
        "raw_mimetype": "text/html"
      },
      "source": [
        "</td>"
      ],
      "id": "523bab8f-4277-4938-951a-001c94fef5f4"
    },
    {
      "cell_type": "raw",
      "metadata": {
        "raw_mimetype": "text/html"
      },
      "source": [
        "<td align=\"left\">"
      ],
      "id": "079f2a12-c95c-43c8-90b4-caa877d1fbe3"
    },
    {
      "cell_type": "markdown",
      "metadata": {},
      "source": [
        "<span class=\"flagicon\"><a class=\"image\" href=\"/wiki/Fichier:Flag_of_France.svg\" title=\"Drapeau : France\"><img alt=\"\" class=\"noviewer thumbborder\" data-file-height=\"600\" data-file-width=\"900\" decoding=\"async\" height=\"13\" src=\"//upload.wikimedia.org/wikipedia/commons/thumb/c/c3/Flag_of_France.svg/20px-Flag_of_France.svg.png\" srcset=\"//upload.wikimedia.org/wikipedia/commons/thumb/c/c3/Flag_of_France.svg/30px-Flag_of_France.svg.png 1.5x, //upload.wikimedia.org/wikipedia/commons/thumb/c/c3/Flag_of_France.svg/40px-Flag_of_France.svg.png 2x\" width=\"20\"/></a></span> <a href=\"/wiki/Thierry_Laurey\" title=\"Thierry Laurey\">Thierry Laurey</a>"
      ],
      "id": "99533ab4-82e5-423a-92eb-1c10602624c7"
    },
    {
      "cell_type": "raw",
      "metadata": {
        "raw_mimetype": "text/html"
      },
      "source": [
        "</td>"
      ],
      "id": "4dde9f42-9d24-4495-8201-69a4a581a2ee"
    },
    {
      "cell_type": "raw",
      "metadata": {
        "raw_mimetype": "text/html"
      },
      "source": [
        "<td>"
      ],
      "id": "cf0b24a5-514d-4c28-a729-84c4b6d472a5"
    },
    {
      "cell_type": "markdown",
      "metadata": {},
      "source": [
        "2016"
      ],
      "id": "d975a941-fc3e-4354-96f7-cbf4c41004e7"
    },
    {
      "cell_type": "raw",
      "metadata": {
        "raw_mimetype": "text/html"
      },
      "source": [
        "</td>"
      ],
      "id": "3a796c63-2e52-41e5-8b7c-89e43b4fe94b"
    },
    {
      "cell_type": "raw",
      "metadata": {
        "raw_mimetype": "text/html"
      },
      "source": [
        "<td>"
      ],
      "id": "9dacc07d-6a28-4c13-bac7-5a0d9b063e06"
    },
    {
      "cell_type": "markdown",
      "metadata": {},
      "source": [
        "<a href=\"/wiki/Stade_de_la_Meinau\" title=\"Stade de la Meinau\">Stade de la Meinau</a>"
      ],
      "id": "7dbe3e6e-d95e-4938-aed9-9ed57dc6c117"
    },
    {
      "cell_type": "raw",
      "metadata": {
        "raw_mimetype": "text/html"
      },
      "source": [
        "</td>"
      ],
      "id": "72212702-29eb-41c0-9fa2-786fb5007f96"
    },
    {
      "cell_type": "raw",
      "metadata": {
        "raw_mimetype": "text/html"
      },
      "source": [
        "<td>"
      ],
      "id": "665b247a-705d-49b9-9f30-35602af26bb7"
    },
    {
      "cell_type": "markdown",
      "metadata": {},
      "source": [
        "26 109"
      ],
      "id": "9e191da1-0a14-4d63-8d99-ab9a5999b65c"
    },
    {
      "cell_type": "raw",
      "metadata": {
        "raw_mimetype": "text/html"
      },
      "source": [
        "</td>"
      ],
      "id": "0df767cd-de59-4bf0-81d1-a18aeaa33247"
    },
    {
      "cell_type": "raw",
      "metadata": {
        "raw_mimetype": "text/html"
      },
      "source": [
        "<td>"
      ],
      "id": "cadfdad6-2229-4a24-ab98-aad00a94068b"
    },
    {
      "cell_type": "markdown",
      "metadata": {},
      "source": [
        "58"
      ],
      "id": "425d1e4d-8c5d-462b-80fa-be84b68c5e26"
    },
    {
      "cell_type": "raw",
      "metadata": {
        "raw_mimetype": "text/html"
      },
      "source": [
        "</td>"
      ],
      "id": "8fb4bb15-95a2-4909-adc2-98bd4ef2be20"
    },
    {
      "cell_type": "raw",
      "metadata": {
        "raw_mimetype": "text/html"
      },
      "source": [
        "</tr>"
      ],
      "id": "0feb5a9e-759d-4a92-a23f-a6e9967b2bc7"
    },
    {
      "cell_type": "raw",
      "metadata": {
        "raw_mimetype": "text/html"
      },
      "source": [
        "<tr>"
      ],
      "id": "81967bd1-8e73-4847-b541-d34631c7c3d2"
    },
    {
      "cell_type": "raw",
      "metadata": {
        "raw_mimetype": "text/html"
      },
      "source": [
        "<td>"
      ],
      "id": "c0c1ced0-ce1e-4944-8cb2-877ebebb8125"
    },
    {
      "cell_type": "markdown",
      "metadata": {},
      "source": [
        "<a href=\"/wiki/Football_Club_de_Nantes\" title=\"Football Club de Nantes\">FC Nantes</a>"
      ],
      "id": "d58990d4-4c44-4ac9-a284-21177b456664"
    },
    {
      "cell_type": "raw",
      "metadata": {
        "raw_mimetype": "text/html"
      },
      "source": [
        "</td>"
      ],
      "id": "03abd44f-0bc8-4e2a-87d8-a0a6f363469c"
    },
    {
      "cell_type": "raw",
      "metadata": {
        "raw_mimetype": "text/html"
      },
      "source": [
        "<td>"
      ],
      "id": "b1a98115-8d20-470e-9ae0-8f8aee920991"
    },
    {
      "cell_type": "markdown",
      "metadata": {},
      "source": [
        "2013"
      ],
      "id": "d1d40fff-c539-41bb-80c0-7669ee480507"
    },
    {
      "cell_type": "raw",
      "metadata": {
        "raw_mimetype": "text/html"
      },
      "source": [
        "</td>"
      ],
      "id": "a626011e-734c-4993-aa5a-7954a8fc60f5"
    },
    {
      "cell_type": "raw",
      "metadata": {
        "raw_mimetype": "text/html"
      },
      "source": [
        "<td>"
      ],
      "id": "a868e0de-7499-4b7b-8b02-50e3105a0d8a"
    },
    {
      "cell_type": "markdown",
      "metadata": {},
      "source": [
        "70"
      ],
      "id": "716f4d9e-32e8-4c62-b1b2-cb367da5c33b"
    },
    {
      "cell_type": "raw",
      "metadata": {
        "raw_mimetype": "text/html"
      },
      "source": [
        "</td>"
      ],
      "id": "4197dcd7-b19f-42fe-ad16-98f14f662f88"
    },
    {
      "cell_type": "raw",
      "metadata": {
        "raw_mimetype": "text/html"
      },
      "source": [
        "<td>"
      ],
      "id": "2c5aa7f4-10cb-481d-b2ee-bb48b191c4fb"
    },
    {
      "cell_type": "markdown",
      "metadata": {},
      "source": [
        "<span data-sort-value=\"112 !\"></span><abbr class=\"abbr\" title=\"Douzième\">12<sup>e</sup></abbr>"
      ],
      "id": "f14c43dd-6618-4920-8486-23758576615c"
    },
    {
      "cell_type": "raw",
      "metadata": {
        "raw_mimetype": "text/html"
      },
      "source": [
        "</td>"
      ],
      "id": "e7156044-7d46-49b0-9c51-b23950818607"
    },
    {
      "cell_type": "raw",
      "metadata": {
        "raw_mimetype": "text/html"
      },
      "source": [
        "<td align=\"left\">"
      ],
      "id": "c1fa6d84-0629-4726-80e3-e51c874c6145"
    },
    {
      "cell_type": "markdown",
      "metadata": {},
      "source": [
        "<span class=\"flagicon\"><a class=\"image\" href=\"/wiki/Fichier:Flag_of_France.svg\" title=\"Drapeau : France\"><img alt=\"\" class=\"noviewer thumbborder\" data-file-height=\"600\" data-file-width=\"900\" decoding=\"async\" height=\"13\" src=\"//upload.wikimedia.org/wikipedia/commons/thumb/c/c3/Flag_of_France.svg/20px-Flag_of_France.svg.png\" srcset=\"//upload.wikimedia.org/wikipedia/commons/thumb/c/c3/Flag_of_France.svg/30px-Flag_of_France.svg.png 1.5x, //upload.wikimedia.org/wikipedia/commons/thumb/c/c3/Flag_of_France.svg/40px-Flag_of_France.svg.png 2x\" width=\"20\"/></a></span> <a href=\"/wiki/Christian_Gourcuff\" title=\"Christian Gourcuff\">Christian Gourcuff</a>"
      ],
      "id": "eca8a8fe-3a20-4340-8b04-2125a0d818fc"
    },
    {
      "cell_type": "raw",
      "metadata": {
        "raw_mimetype": "text/html"
      },
      "source": [
        "</td>"
      ],
      "id": "7f4f6477-1395-4c43-bac2-8958d63e2548"
    },
    {
      "cell_type": "raw",
      "metadata": {
        "raw_mimetype": "text/html"
      },
      "source": [
        "<td>"
      ],
      "id": "c9f62c54-3ceb-441e-9bd5-93236990b3e3"
    },
    {
      "cell_type": "markdown",
      "metadata": {},
      "source": [
        "2019"
      ],
      "id": "a880f79b-a732-4412-97a9-c690efac9795"
    },
    {
      "cell_type": "raw",
      "metadata": {
        "raw_mimetype": "text/html"
      },
      "source": [
        "</td>"
      ],
      "id": "11766d75-a9c3-406b-8aef-19a438f0c6ff"
    },
    {
      "cell_type": "raw",
      "metadata": {
        "raw_mimetype": "text/html"
      },
      "source": [
        "<td>"
      ],
      "id": "ee0d6eb4-8891-4ae8-bf15-687499bd41d4"
    },
    {
      "cell_type": "markdown",
      "metadata": {},
      "source": [
        "<a href=\"/wiki/Stade_de_la_Beaujoire\" title=\"Stade de la Beaujoire\">Stade de la Beaujoire - Louis Fonteneau</a>"
      ],
      "id": "3613c613-d8fc-4155-b121-a55890e8356c"
    },
    {
      "cell_type": "raw",
      "metadata": {
        "raw_mimetype": "text/html"
      },
      "source": [
        "</td>"
      ],
      "id": "e3eca394-12ab-4c02-a00f-17b33bffbb20"
    },
    {
      "cell_type": "raw",
      "metadata": {
        "raw_mimetype": "text/html"
      },
      "source": [
        "<td>"
      ],
      "id": "3aa1d758-e472-4b1a-aebf-2e5be9de9941"
    },
    {
      "cell_type": "markdown",
      "metadata": {},
      "source": [
        "35 322"
      ],
      "id": "1db57389-2159-4cf5-988f-d0aad735d7b0"
    },
    {
      "cell_type": "raw",
      "metadata": {
        "raw_mimetype": "text/html"
      },
      "source": [
        "</td>"
      ],
      "id": "5837b9e2-65d7-4baa-8c36-77a64f77f8cf"
    },
    {
      "cell_type": "raw",
      "metadata": {
        "raw_mimetype": "text/html"
      },
      "source": [
        "<td>"
      ],
      "id": "6ed0f1a1-4bbf-47eb-b814-85448de9de9c"
    },
    {
      "cell_type": "markdown",
      "metadata": {},
      "source": [
        "51"
      ],
      "id": "595255e8-28f3-4a5e-8ee8-2e73fad15192"
    },
    {
      "cell_type": "raw",
      "metadata": {
        "raw_mimetype": "text/html"
      },
      "source": [
        "</td>"
      ],
      "id": "c25c5d38-a5c0-4148-87e1-2bc257baa4dc"
    },
    {
      "cell_type": "raw",
      "metadata": {
        "raw_mimetype": "text/html"
      },
      "source": [
        "</tr>"
      ],
      "id": "7826223a-05ff-48d6-b766-e377e46eabfb"
    },
    {
      "cell_type": "raw",
      "metadata": {
        "raw_mimetype": "text/html"
      },
      "source": [
        "<tr>"
      ],
      "id": "91ab09d7-61ef-4d08-9133-d506d63f90bd"
    },
    {
      "cell_type": "raw",
      "metadata": {
        "raw_mimetype": "text/html"
      },
      "source": [
        "<td>"
      ],
      "id": "ff0ffc25-dce6-4bc1-b560-108c2fead365"
    },
    {
      "cell_type": "markdown",
      "metadata": {},
      "source": [
        "<a class=\"mw-redirect\" href=\"/wiki/Angers_sporting_club_de_l%27Ouest\" title=\"Angers sporting club de l'Ouest\">SCO d’Angers</a>"
      ],
      "id": "7c8f9087-4152-48ca-8696-5a80f234bf33"
    },
    {
      "cell_type": "raw",
      "metadata": {
        "raw_mimetype": "text/html"
      },
      "source": [
        "</td>"
      ],
      "id": "a5b73d60-d6d1-48d2-95f2-f722875df814"
    },
    {
      "cell_type": "raw",
      "metadata": {
        "raw_mimetype": "text/html"
      },
      "source": [
        "<td>"
      ],
      "id": "8a8d782d-a8ca-43fa-b514-b62d2d550aeb"
    },
    {
      "cell_type": "markdown",
      "metadata": {},
      "source": [
        "2015"
      ],
      "id": "14c32480-cf47-4bfe-9e1f-ec56bdf4a169"
    },
    {
      "cell_type": "raw",
      "metadata": {
        "raw_mimetype": "text/html"
      },
      "source": [
        "</td>"
      ],
      "id": "647d99c6-67c0-4be3-9331-45ad857a4a71"
    },
    {
      "cell_type": "raw",
      "metadata": {
        "raw_mimetype": "text/html"
      },
      "source": [
        "<td>"
      ],
      "id": "3882e8d3-2432-4aac-ab3a-5d6c23def7c6"
    },
    {
      "cell_type": "markdown",
      "metadata": {},
      "source": [
        "32"
      ],
      "id": "7e6ad697-41c1-46c8-93d6-e1bf4f769add"
    },
    {
      "cell_type": "raw",
      "metadata": {
        "raw_mimetype": "text/html"
      },
      "source": [
        "</td>"
      ],
      "id": "be81f942-41b9-42c8-8c4a-2b2492e8da27"
    },
    {
      "cell_type": "raw",
      "metadata": {
        "raw_mimetype": "text/html"
      },
      "source": [
        "<td>"
      ],
      "id": "ee743860-d891-4540-913d-046a9976a150"
    },
    {
      "cell_type": "markdown",
      "metadata": {},
      "source": [
        "<span data-sort-value=\"113 !\"></span><abbr class=\"abbr\" title=\"Treizième\">13<sup>e</sup></abbr>"
      ],
      "id": "caa66cbb-6790-49ef-bb15-a290b32a15a5"
    },
    {
      "cell_type": "raw",
      "metadata": {
        "raw_mimetype": "text/html"
      },
      "source": [
        "</td>"
      ],
      "id": "c90ebb15-df81-454f-9b68-dd38d63ea506"
    },
    {
      "cell_type": "raw",
      "metadata": {
        "raw_mimetype": "text/html"
      },
      "source": [
        "<td align=\"left\">"
      ],
      "id": "14516dd0-ec86-4a87-92f6-50dfc7a6770f"
    },
    {
      "cell_type": "markdown",
      "metadata": {},
      "source": [
        "<span class=\"flagicon\"><a class=\"image\" href=\"/wiki/Fichier:Flag_of_France.svg\" title=\"Drapeau : France\"><img alt=\"\" class=\"noviewer thumbborder\" data-file-height=\"600\" data-file-width=\"900\" decoding=\"async\" height=\"13\" src=\"//upload.wikimedia.org/wikipedia/commons/thumb/c/c3/Flag_of_France.svg/20px-Flag_of_France.svg.png\" srcset=\"//upload.wikimedia.org/wikipedia/commons/thumb/c/c3/Flag_of_France.svg/30px-Flag_of_France.svg.png 1.5x, //upload.wikimedia.org/wikipedia/commons/thumb/c/c3/Flag_of_France.svg/40px-Flag_of_France.svg.png 2x\" width=\"20\"/></a></span> <a href=\"/wiki/St%C3%A9phane_Moulin_(football)\" title=\"Stéphane Moulin (football)\">Stéphane Moulin</a>"
      ],
      "id": "7e5dfca7-8fff-42d3-b15c-e1be41232a33"
    },
    {
      "cell_type": "raw",
      "metadata": {
        "raw_mimetype": "text/html"
      },
      "source": [
        "</td>"
      ],
      "id": "cb1de173-a96c-4cc2-a4c9-239a14c097c7"
    },
    {
      "cell_type": "raw",
      "metadata": {
        "raw_mimetype": "text/html"
      },
      "source": [
        "<td>"
      ],
      "id": "1ce6250b-2390-441a-8dae-36df5847a9d2"
    },
    {
      "cell_type": "markdown",
      "metadata": {},
      "source": [
        "2011"
      ],
      "id": "aec77ef5-39d4-44b1-b0aa-d98f7aa0ffa6"
    },
    {
      "cell_type": "raw",
      "metadata": {
        "raw_mimetype": "text/html"
      },
      "source": [
        "</td>"
      ],
      "id": "50ceb52e-18f5-44e9-98c8-5bf2a9a8fbac"
    },
    {
      "cell_type": "raw",
      "metadata": {
        "raw_mimetype": "text/html"
      },
      "source": [
        "<td>"
      ],
      "id": "03cdec61-2605-412a-8baa-5328cb236862"
    },
    {
      "cell_type": "markdown",
      "metadata": {},
      "source": [
        "<a href=\"/wiki/Stade_Raymond-Kopa\" title=\"Stade Raymond-Kopa\">Stade Raymond-Kopa</a>"
      ],
      "id": "1468e619-6ea8-470f-8629-606cd375e241"
    },
    {
      "cell_type": "raw",
      "metadata": {
        "raw_mimetype": "text/html"
      },
      "source": [
        "</td>"
      ],
      "id": "2b534961-d437-49ff-b728-b9ff447b95d4"
    },
    {
      "cell_type": "raw",
      "metadata": {
        "raw_mimetype": "text/html"
      },
      "source": [
        "<td>"
      ],
      "id": "b711bbc7-abba-44de-87e5-47f942806fa1"
    },
    {
      "cell_type": "markdown",
      "metadata": {},
      "source": [
        "14 582"
      ],
      "id": "5e0e0378-a876-4c79-a0b7-e33b66df292f"
    },
    {
      "cell_type": "raw",
      "metadata": {
        "raw_mimetype": "text/html"
      },
      "source": [
        "</td>"
      ],
      "id": "bd03760b-666b-49a0-90f6-e96cab21aff0"
    },
    {
      "cell_type": "raw",
      "metadata": {
        "raw_mimetype": "text/html"
      },
      "source": [
        "<td>"
      ],
      "id": "c138a655-773b-4f9d-ae6d-030b4562a1f2"
    },
    {
      "cell_type": "markdown",
      "metadata": {},
      "source": [
        "27"
      ],
      "id": "baa17c56-46d6-4488-a7cc-4d31f5cf4c3d"
    },
    {
      "cell_type": "raw",
      "metadata": {
        "raw_mimetype": "text/html"
      },
      "source": [
        "</td>"
      ],
      "id": "891a96c9-167a-4aeb-a6cb-1e1cd5aae481"
    },
    {
      "cell_type": "raw",
      "metadata": {
        "raw_mimetype": "text/html"
      },
      "source": [
        "</tr>"
      ],
      "id": "e84822c0-6797-411a-b857-7dc94097b9a0"
    },
    {
      "cell_type": "raw",
      "metadata": {
        "raw_mimetype": "text/html"
      },
      "source": [
        "<tr>"
      ],
      "id": "39b4779a-f1c6-4467-90f7-f7c956c0ad51"
    },
    {
      "cell_type": "raw",
      "metadata": {
        "raw_mimetype": "text/html"
      },
      "source": [
        "<td>"
      ],
      "id": "3c278dcb-04a1-48c7-81c4-b1c80f21198f"
    },
    {
      "cell_type": "markdown",
      "metadata": {},
      "source": [
        "<a href=\"/wiki/Football_Club_des_Girondins_de_Bordeaux\" title=\"Football Club des Girondins de Bordeaux\">Girondins de Bordeaux</a>"
      ],
      "id": "dde3b6dc-3111-42b3-b943-b5b80d8a63e1"
    },
    {
      "cell_type": "raw",
      "metadata": {
        "raw_mimetype": "text/html"
      },
      "source": [
        "</td>"
      ],
      "id": "e5fa1c65-57b1-4dba-aa8f-d4f87c6e81c2"
    },
    {
      "cell_type": "raw",
      "metadata": {
        "raw_mimetype": "text/html"
      },
      "source": [
        "<td>"
      ],
      "id": "ed51c95f-381c-4f8c-b3d4-06410a30ff45"
    },
    {
      "cell_type": "markdown",
      "metadata": {},
      "source": [
        "1992"
      ],
      "id": "30bb73d8-256c-4e56-a8c5-0f50dd97acfb"
    },
    {
      "cell_type": "raw",
      "metadata": {
        "raw_mimetype": "text/html"
      },
      "source": [
        "</td>"
      ],
      "id": "8f2931ec-ace1-4006-b1a1-9d144a354d7d"
    },
    {
      "cell_type": "raw",
      "metadata": {
        "raw_mimetype": "text/html"
      },
      "source": [
        "<td>"
      ],
      "id": "27cb4c84-f0c9-4e9e-9d60-cec945686e32"
    },
    {
      "cell_type": "markdown",
      "metadata": {},
      "source": [
        "70"
      ],
      "id": "4650d42b-ca75-424f-8075-29c61d465fbf"
    },
    {
      "cell_type": "raw",
      "metadata": {
        "raw_mimetype": "text/html"
      },
      "source": [
        "</td>"
      ],
      "id": "fa9ad0b8-4899-499c-bebf-af31f1fa051b"
    },
    {
      "cell_type": "raw",
      "metadata": {
        "raw_mimetype": "text/html"
      },
      "source": [
        "<td>"
      ],
      "id": "30ca5aeb-eaa2-429b-9de0-d029c0f8ee14"
    },
    {
      "cell_type": "markdown",
      "metadata": {},
      "source": [
        "<span data-sort-value=\"114 !\"></span><abbr class=\"abbr\" title=\"Quatorzième\">14<sup>e</sup></abbr>"
      ],
      "id": "8a120d88-ee53-4c53-a4ce-6bddf9b6be57"
    },
    {
      "cell_type": "raw",
      "metadata": {
        "raw_mimetype": "text/html"
      },
      "source": [
        "</td>"
      ],
      "id": "aa6765cd-f810-444d-86f7-068a719a04c5"
    },
    {
      "cell_type": "raw",
      "metadata": {
        "raw_mimetype": "text/html"
      },
      "source": [
        "<td align=\"left\">"
      ],
      "id": "958eee38-c8ff-4763-a105-dd7c9a9c0f50"
    },
    {
      "cell_type": "markdown",
      "metadata": {},
      "source": [
        "<span class=\"flagicon\"><a class=\"image\" href=\"/wiki/Fichier:Flag_of_Portugal.svg\" title=\"Drapeau : Portugal\"><img alt=\"\" class=\"noviewer thumbborder\" data-file-height=\"400\" data-file-width=\"600\" decoding=\"async\" height=\"13\" src=\"//upload.wikimedia.org/wikipedia/commons/thumb/5/5c/Flag_of_Portugal.svg/20px-Flag_of_Portugal.svg.png\" srcset=\"//upload.wikimedia.org/wikipedia/commons/thumb/5/5c/Flag_of_Portugal.svg/30px-Flag_of_Portugal.svg.png 1.5x, //upload.wikimedia.org/wikipedia/commons/thumb/5/5c/Flag_of_Portugal.svg/40px-Flag_of_Portugal.svg.png 2x\" width=\"20\"/></a></span> <a href=\"/wiki/Paulo_Sousa_(football,_1970)\" title=\"Paulo Sousa (football, 1970)\">Paulo Sousa</a>"
      ],
      "id": "c0ea5d36-83ac-4cb8-bd2b-533cdf7d4244"
    },
    {
      "cell_type": "raw",
      "metadata": {
        "raw_mimetype": "text/html"
      },
      "source": [
        "</td>"
      ],
      "id": "eacdf537-11e6-4815-88fc-6af5ea77e84e"
    },
    {
      "cell_type": "raw",
      "metadata": {
        "raw_mimetype": "text/html"
      },
      "source": [
        "<td>"
      ],
      "id": "6f38566b-2d69-4ceb-9b0f-263003fbaccc"
    },
    {
      "cell_type": "markdown",
      "metadata": {},
      "source": [
        "2019"
      ],
      "id": "e6282ba9-8250-4c22-87ab-b108353032ab"
    },
    {
      "cell_type": "raw",
      "metadata": {
        "raw_mimetype": "text/html"
      },
      "source": [
        "</td>"
      ],
      "id": "80a19e5b-55e9-462a-ae56-6f52630ea4d6"
    },
    {
      "cell_type": "raw",
      "metadata": {
        "raw_mimetype": "text/html"
      },
      "source": [
        "<td>"
      ],
      "id": "410ab042-aacc-4b0f-a88c-dab5ccab83a7"
    },
    {
      "cell_type": "markdown",
      "metadata": {},
      "source": [
        "<a href=\"/wiki/Matmut_Atlantique\" title=\"Matmut Atlantique\">Matmut Atlantique</a>"
      ],
      "id": "44a12ed2-4852-465b-a357-f8a59b4ffdac"
    },
    {
      "cell_type": "raw",
      "metadata": {
        "raw_mimetype": "text/html"
      },
      "source": [
        "</td>"
      ],
      "id": "a28955c8-9a90-43bb-b8a0-de1ac62bb725"
    },
    {
      "cell_type": "raw",
      "metadata": {
        "raw_mimetype": "text/html"
      },
      "source": [
        "<td>"
      ],
      "id": "2316b28b-664b-474e-9170-c066cec4a85d"
    },
    {
      "cell_type": "markdown",
      "metadata": {},
      "source": [
        "42 115"
      ],
      "id": "8d81b242-96d5-4133-a8e2-009ab9d3b7bc"
    },
    {
      "cell_type": "raw",
      "metadata": {
        "raw_mimetype": "text/html"
      },
      "source": [
        "</td>"
      ],
      "id": "219e7118-1f43-43a5-9629-a66932d4d98a"
    },
    {
      "cell_type": "raw",
      "metadata": {
        "raw_mimetype": "text/html"
      },
      "source": [
        "<td>"
      ],
      "id": "cb52a309-7a8c-4c66-aaae-d1037ced1676"
    },
    {
      "cell_type": "markdown",
      "metadata": {},
      "source": [
        "66"
      ],
      "id": "c39a32cd-8cb0-4929-912b-21a6f8652809"
    },
    {
      "cell_type": "raw",
      "metadata": {
        "raw_mimetype": "text/html"
      },
      "source": [
        "</td>"
      ],
      "id": "0a5ac19d-88d6-4a54-ad53-ea7f5191443f"
    },
    {
      "cell_type": "raw",
      "metadata": {
        "raw_mimetype": "text/html"
      },
      "source": [
        "</tr>"
      ],
      "id": "6511f732-a890-4ead-a598-6d492d066065"
    },
    {
      "cell_type": "raw",
      "metadata": {
        "raw_mimetype": "text/html"
      },
      "source": [
        "<tr>"
      ],
      "id": "10a0a575-40f5-487c-b7b7-6587a28e3fb4"
    },
    {
      "cell_type": "raw",
      "metadata": {
        "raw_mimetype": "text/html"
      },
      "source": [
        "<td>"
      ],
      "id": "3deaaf6b-c0bf-4887-891f-f2312dc9a393"
    },
    {
      "cell_type": "markdown",
      "metadata": {},
      "source": [
        "<a href=\"/wiki/Amiens_Sporting_Club\" title=\"Amiens Sporting Club\">Amiens SC</a>"
      ],
      "id": "444e7586-daea-4527-948d-4f080202a978"
    },
    {
      "cell_type": "raw",
      "metadata": {
        "raw_mimetype": "text/html"
      },
      "source": [
        "</td>"
      ],
      "id": "a4a1a645-8962-4472-9377-3a7bb211ad37"
    },
    {
      "cell_type": "raw",
      "metadata": {
        "raw_mimetype": "text/html"
      },
      "source": [
        "<td>"
      ],
      "id": "4bf6fae5-862b-4a89-9c9a-86a32f8a3eb8"
    },
    {
      "cell_type": "markdown",
      "metadata": {},
      "source": [
        "2017"
      ],
      "id": "961beedc-0165-422b-8e33-814548c28e51"
    },
    {
      "cell_type": "raw",
      "metadata": {
        "raw_mimetype": "text/html"
      },
      "source": [
        "</td>"
      ],
      "id": "229d8221-21da-4d28-9b0e-78eafde9c4ff"
    },
    {
      "cell_type": "raw",
      "metadata": {
        "raw_mimetype": "text/html"
      },
      "source": [
        "<td>"
      ],
      "id": "02a2970b-fc5f-4939-b35b-ff79f319faa0"
    },
    {
      "cell_type": "markdown",
      "metadata": {},
      "source": [
        "30"
      ],
      "id": "44895add-836e-4cb6-977a-2e205660bda7"
    },
    {
      "cell_type": "raw",
      "metadata": {
        "raw_mimetype": "text/html"
      },
      "source": [
        "</td>"
      ],
      "id": "aa4aa176-5244-4a68-aa9e-fb5b93fd95ba"
    },
    {
      "cell_type": "raw",
      "metadata": {
        "raw_mimetype": "text/html"
      },
      "source": [
        "<td>"
      ],
      "id": "ccdb0b8c-b1b7-4774-8eaa-e068a0bb55b5"
    },
    {
      "cell_type": "markdown",
      "metadata": {},
      "source": [
        "<span data-sort-value=\"115 !\"></span><abbr class=\"abbr\" title=\"Quinzième\">15<sup>e</sup></abbr>"
      ],
      "id": "f6bbc885-4325-434f-95dd-0bc6618e1f03"
    },
    {
      "cell_type": "raw",
      "metadata": {
        "raw_mimetype": "text/html"
      },
      "source": [
        "</td>"
      ],
      "id": "e71052aa-2395-47fd-9fef-a2f792a21d12"
    },
    {
      "cell_type": "raw",
      "metadata": {
        "raw_mimetype": "text/html"
      },
      "source": [
        "<td align=\"left\">"
      ],
      "id": "7cf55f02-3fdf-4dd9-8067-a7b61d39e5ab"
    },
    {
      "cell_type": "markdown",
      "metadata": {},
      "source": [
        "<span class=\"flagicon\"><a class=\"image\" href=\"/wiki/Fichier:Flag_of_Slovenia.svg\" title=\"Drapeau : Slovénie\"><img alt=\"\" class=\"noviewer thumbborder\" data-file-height=\"600\" data-file-width=\"1200\" decoding=\"async\" height=\"10\" src=\"//upload.wikimedia.org/wikipedia/commons/thumb/f/f0/Flag_of_Slovenia.svg/20px-Flag_of_Slovenia.svg.png\" srcset=\"//upload.wikimedia.org/wikipedia/commons/thumb/f/f0/Flag_of_Slovenia.svg/30px-Flag_of_Slovenia.svg.png 1.5x, //upload.wikimedia.org/wikipedia/commons/thumb/f/f0/Flag_of_Slovenia.svg/40px-Flag_of_Slovenia.svg.png 2x\" width=\"20\"/></a></span> <a href=\"/wiki/Luka_Elsner\" title=\"Luka Elsner\">Luka Elsner</a>"
      ],
      "id": "c74d949f-20e0-4ab7-8f41-52db4be53a49"
    },
    {
      "cell_type": "raw",
      "metadata": {
        "raw_mimetype": "text/html"
      },
      "source": [
        "</td>"
      ],
      "id": "534d6e5b-7133-4a71-80b2-85aca591579f"
    },
    {
      "cell_type": "raw",
      "metadata": {
        "raw_mimetype": "text/html"
      },
      "source": [
        "<td>"
      ],
      "id": "f3571caa-5ea5-4fb5-9db6-7956c903b6c9"
    },
    {
      "cell_type": "markdown",
      "metadata": {},
      "source": [
        "2019"
      ],
      "id": "1cf8ca97-1694-4174-8d60-d5acb71c576a"
    },
    {
      "cell_type": "raw",
      "metadata": {
        "raw_mimetype": "text/html"
      },
      "source": [
        "</td>"
      ],
      "id": "c56baa55-5280-4278-a419-4700494e7ea3"
    },
    {
      "cell_type": "raw",
      "metadata": {
        "raw_mimetype": "text/html"
      },
      "source": [
        "<td>"
      ],
      "id": "e80a6a6c-4284-4a50-b1bd-9014e3ae29ed"
    },
    {
      "cell_type": "markdown",
      "metadata": {},
      "source": [
        "<a href=\"/wiki/Stade_de_la_Licorne\" title=\"Stade de la Licorne\">Stade Crédit Agricole la Licorne</a>"
      ],
      "id": "67a995dd-a4fb-4712-bfae-6313affb80b9"
    },
    {
      "cell_type": "raw",
      "metadata": {
        "raw_mimetype": "text/html"
      },
      "source": [
        "</td>"
      ],
      "id": "f58900f7-fe9c-4361-9dec-5516c3ceff04"
    },
    {
      "cell_type": "raw",
      "metadata": {
        "raw_mimetype": "text/html"
      },
      "source": [
        "<td>"
      ],
      "id": "6afa404a-8c6f-4736-81b8-0ad7079dd4c4"
    },
    {
      "cell_type": "markdown",
      "metadata": {},
      "source": [
        "12 999"
      ],
      "id": "cf4cb23a-78a0-4580-b360-f007ace4f718"
    },
    {
      "cell_type": "raw",
      "metadata": {
        "raw_mimetype": "text/html"
      },
      "source": [
        "</td>"
      ],
      "id": "70f68f2e-85eb-44ce-8d0b-138551c5c700"
    },
    {
      "cell_type": "raw",
      "metadata": {
        "raw_mimetype": "text/html"
      },
      "source": [
        "<td>"
      ],
      "id": "cd0862c5-4db7-4f69-b9a2-a992d838a9e2"
    },
    {
      "cell_type": "markdown",
      "metadata": {},
      "source": [
        "2"
      ],
      "id": "76a4f8b5-14a6-4a60-9ce5-e3233145f126"
    },
    {
      "cell_type": "raw",
      "metadata": {
        "raw_mimetype": "text/html"
      },
      "source": [
        "</td>"
      ],
      "id": "583aefd2-90bd-44f9-ada8-164276ea6f26"
    },
    {
      "cell_type": "raw",
      "metadata": {
        "raw_mimetype": "text/html"
      },
      "source": [
        "</tr>"
      ],
      "id": "a7417e8b-b38a-4c09-8e69-f3993e040bf2"
    },
    {
      "cell_type": "raw",
      "metadata": {
        "raw_mimetype": "text/html"
      },
      "source": [
        "<tr>"
      ],
      "id": "55fde785-aea9-4f4b-b599-7740067e3a3d"
    },
    {
      "cell_type": "raw",
      "metadata": {
        "raw_mimetype": "text/html"
      },
      "source": [
        "<td>"
      ],
      "id": "20a5f415-4a93-4366-ad0f-59b9878fc8a6"
    },
    {
      "cell_type": "markdown",
      "metadata": {},
      "source": [
        "<a href=\"/wiki/Toulouse_Football_Club\" title=\"Toulouse Football Club\">Toulouse FC</a>"
      ],
      "id": "f7ca221d-0542-464c-886a-fc6522922340"
    },
    {
      "cell_type": "raw",
      "metadata": {
        "raw_mimetype": "text/html"
      },
      "source": [
        "</td>"
      ],
      "id": "cf7ed351-baeb-431a-81c4-e8a5f6040685"
    },
    {
      "cell_type": "raw",
      "metadata": {
        "raw_mimetype": "text/html"
      },
      "source": [
        "<td>"
      ],
      "id": "ef81be9e-f8e4-4476-b936-aa98d826345d"
    },
    {
      "cell_type": "markdown",
      "metadata": {},
      "source": [
        "2003"
      ],
      "id": "4d135077-e3eb-4227-8d66-1a6932690d26"
    },
    {
      "cell_type": "raw",
      "metadata": {
        "raw_mimetype": "text/html"
      },
      "source": [
        "</td>"
      ],
      "id": "0cee6dc5-1669-4d86-93cd-90bee0c24f5b"
    },
    {
      "cell_type": "raw",
      "metadata": {
        "raw_mimetype": "text/html"
      },
      "source": [
        "<td>"
      ],
      "id": "181170ac-d4fd-4573-8ac4-7b88047d6e06"
    },
    {
      "cell_type": "markdown",
      "metadata": {},
      "source": [
        "35"
      ],
      "id": "6110c597-edf1-4120-b5e6-d98517b0aa6a"
    },
    {
      "cell_type": "raw",
      "metadata": {
        "raw_mimetype": "text/html"
      },
      "source": [
        "</td>"
      ],
      "id": "eaf3247e-9e21-4ce0-a213-266f92903755"
    },
    {
      "cell_type": "raw",
      "metadata": {
        "raw_mimetype": "text/html"
      },
      "source": [
        "<td>"
      ],
      "id": "cbff2ea7-f1ae-4d87-a4f6-ab18e39bde36"
    },
    {
      "cell_type": "markdown",
      "metadata": {},
      "source": [
        "<span data-sort-value=\"116 !\"></span><abbr class=\"abbr\" title=\"Seizième\">16<sup>e</sup></abbr>"
      ],
      "id": "0adf3feb-67fc-4878-a2fd-91a55db54dda"
    },
    {
      "cell_type": "raw",
      "metadata": {
        "raw_mimetype": "text/html"
      },
      "source": [
        "</td>"
      ],
      "id": "1003a349-0452-4e11-937b-9bf678668f87"
    },
    {
      "cell_type": "raw",
      "metadata": {
        "raw_mimetype": "text/html"
      },
      "source": [
        "<td align=\"left\">"
      ],
      "id": "5468f6a4-6333-42fc-b10f-43571dc0d838"
    },
    {
      "cell_type": "markdown",
      "metadata": {},
      "source": [
        "<span class=\"flagicon\"><a class=\"image\" href=\"/wiki/Fichier:Flag_of_France.svg\" title=\"Drapeau : France\"><img alt=\"\" class=\"noviewer thumbborder\" data-file-height=\"600\" data-file-width=\"900\" decoding=\"async\" height=\"13\" src=\"//upload.wikimedia.org/wikipedia/commons/thumb/c/c3/Flag_of_France.svg/20px-Flag_of_France.svg.png\" srcset=\"//upload.wikimedia.org/wikipedia/commons/thumb/c/c3/Flag_of_France.svg/30px-Flag_of_France.svg.png 1.5x, //upload.wikimedia.org/wikipedia/commons/thumb/c/c3/Flag_of_France.svg/40px-Flag_of_France.svg.png 2x\" width=\"20\"/></a></span> <a href=\"/wiki/Denis_Zanko\" title=\"Denis Zanko\">Denis Zanko</a>"
      ],
      "id": "c181781e-ae41-4ac8-91e2-34368df1a08e"
    },
    {
      "cell_type": "raw",
      "metadata": {
        "raw_mimetype": "text/html"
      },
      "source": [
        "</td>"
      ],
      "id": "05e0ef48-022f-435b-b4b1-65490020fd64"
    },
    {
      "cell_type": "raw",
      "metadata": {
        "raw_mimetype": "text/html"
      },
      "source": [
        "<td>"
      ],
      "id": "ea2df97f-24ee-4f3e-9944-966e45d6f179"
    },
    {
      "cell_type": "markdown",
      "metadata": {},
      "source": [
        "2020"
      ],
      "id": "e419d44b-eb09-477c-855b-e30fd5d8e0a4"
    },
    {
      "cell_type": "raw",
      "metadata": {
        "raw_mimetype": "text/html"
      },
      "source": [
        "</td>"
      ],
      "id": "4702a3f2-fb82-4245-9aed-bda997de59ec"
    },
    {
      "cell_type": "raw",
      "metadata": {
        "raw_mimetype": "text/html"
      },
      "source": [
        "<td>"
      ],
      "id": "fe5b633b-235c-4f0d-a55e-a41dfa7a20f5"
    },
    {
      "cell_type": "markdown",
      "metadata": {},
      "source": [
        "<a href=\"/wiki/Stadium_de_Toulouse\" title=\"Stadium de Toulouse\">Stadium de Toulouse</a>"
      ],
      "id": "82b32d16-8f38-4d80-ae5a-a2edad86d7bc"
    },
    {
      "cell_type": "raw",
      "metadata": {
        "raw_mimetype": "text/html"
      },
      "source": [
        "</td>"
      ],
      "id": "c2815e75-c293-442d-bc05-7785fc1e8595"
    },
    {
      "cell_type": "raw",
      "metadata": {
        "raw_mimetype": "text/html"
      },
      "source": [
        "<td>"
      ],
      "id": "e51d6537-ab6b-476b-99ad-d737b1b4ef5c"
    },
    {
      "cell_type": "markdown",
      "metadata": {},
      "source": [
        "33 033"
      ],
      "id": "fdbb5c84-1ff4-4037-9f22-c8933f196d8a"
    },
    {
      "cell_type": "raw",
      "metadata": {
        "raw_mimetype": "text/html"
      },
      "source": [
        "</td>"
      ],
      "id": "5edf5b8e-3e7c-4b4f-a456-e79565ffb5d8"
    },
    {
      "cell_type": "raw",
      "metadata": {
        "raw_mimetype": "text/html"
      },
      "source": [
        "<td>"
      ],
      "id": "1e668d29-efc3-4c56-85a3-b02b67f5cc19"
    },
    {
      "cell_type": "markdown",
      "metadata": {},
      "source": [
        "32"
      ],
      "id": "6facefe6-2869-4eb3-b710-2b83775562b3"
    },
    {
      "cell_type": "raw",
      "metadata": {
        "raw_mimetype": "text/html"
      },
      "source": [
        "</td>"
      ],
      "id": "e55bd7ff-050a-4655-ac4f-3ef8d4be9d76"
    },
    {
      "cell_type": "raw",
      "metadata": {
        "raw_mimetype": "text/html"
      },
      "source": [
        "</tr>"
      ],
      "id": "d184172e-d35b-498c-8882-c9644cd032a8"
    },
    {
      "cell_type": "raw",
      "metadata": {
        "raw_mimetype": "text/html"
      },
      "source": [
        "<tr>"
      ],
      "id": "13157a64-ee93-43a0-aacb-7fadb8ac7720"
    },
    {
      "cell_type": "raw",
      "metadata": {
        "raw_mimetype": "text/html"
      },
      "source": [
        "<td>"
      ],
      "id": "6c393812-aca3-482d-8c91-bfb3b9d6f10f"
    },
    {
      "cell_type": "markdown",
      "metadata": {},
      "source": [
        "<a class=\"mw-redirect\" href=\"/wiki/Association_sportive_de_Monaco_football_club\" title=\"Association sportive de Monaco football club\">AS Monaco</a>"
      ],
      "id": "6555a6f9-5800-48fd-958b-396ccbde453f"
    },
    {
      "cell_type": "raw",
      "metadata": {
        "raw_mimetype": "text/html"
      },
      "source": [
        "</td>"
      ],
      "id": "e4447d3a-0369-4276-98e9-1eb3f87f33b8"
    },
    {
      "cell_type": "raw",
      "metadata": {
        "raw_mimetype": "text/html"
      },
      "source": [
        "<td>"
      ],
      "id": "d2fe53ed-f5d0-440e-9fc9-04a3f85aaf57"
    },
    {
      "cell_type": "markdown",
      "metadata": {},
      "source": [
        "2013"
      ],
      "id": "7018c006-d47e-4154-82c8-4f546da35ce8"
    },
    {
      "cell_type": "raw",
      "metadata": {
        "raw_mimetype": "text/html"
      },
      "source": [
        "</td>"
      ],
      "id": "b1489a22-7bcc-4054-aabc-500f2eaf737f"
    },
    {
      "cell_type": "raw",
      "metadata": {
        "raw_mimetype": "text/html"
      },
      "source": [
        "<td>"
      ],
      "id": "363e7484-6cb7-491e-8e81-5e7d9c017cf4"
    },
    {
      "cell_type": "markdown",
      "metadata": {},
      "source": [
        "220"
      ],
      "id": "5287d618-9beb-4d06-8664-5cb6a90c9ffe"
    },
    {
      "cell_type": "raw",
      "metadata": {
        "raw_mimetype": "text/html"
      },
      "source": [
        "</td>"
      ],
      "id": "243a1847-3736-4641-a76c-1d1f7fea8436"
    },
    {
      "cell_type": "raw",
      "metadata": {
        "raw_mimetype": "text/html"
      },
      "source": [
        "<td>"
      ],
      "id": "c20ab028-a605-46c0-b1e7-2a392799ab77"
    },
    {
      "cell_type": "markdown",
      "metadata": {},
      "source": [
        "<span data-sort-value=\"117 !\"></span><abbr class=\"abbr\" title=\"Dix-septième\">17<sup>e</sup></abbr>"
      ],
      "id": "6d830c0a-6106-4287-ac1f-0fe63d64523b"
    },
    {
      "cell_type": "raw",
      "metadata": {
        "raw_mimetype": "text/html"
      },
      "source": [
        "</td>"
      ],
      "id": "b29ba345-0395-4f9b-8584-5a126ce1615a"
    },
    {
      "cell_type": "raw",
      "metadata": {
        "raw_mimetype": "text/html"
      },
      "source": [
        "<td align=\"left\">"
      ],
      "id": "3c692aae-4472-4815-893a-7da4cec03796"
    },
    {
      "cell_type": "markdown",
      "metadata": {},
      "source": [
        "<span class=\"flagicon\"><a class=\"image\" href=\"/wiki/Fichier:Flag_of_Spain.svg\" title=\"Drapeau : Espagne\"><img alt=\"\" class=\"noviewer thumbborder\" data-file-height=\"500\" data-file-width=\"750\" decoding=\"async\" height=\"13\" src=\"//upload.wikimedia.org/wikipedia/commons/thumb/9/9a/Flag_of_Spain.svg/20px-Flag_of_Spain.svg.png\" srcset=\"//upload.wikimedia.org/wikipedia/commons/thumb/9/9a/Flag_of_Spain.svg/30px-Flag_of_Spain.svg.png 1.5x, //upload.wikimedia.org/wikipedia/commons/thumb/9/9a/Flag_of_Spain.svg/40px-Flag_of_Spain.svg.png 2x\" width=\"20\"/></a></span> <a href=\"/wiki/Robert_Moreno\" title=\"Robert Moreno\">Robert Moreno</a>"
      ],
      "id": "e0067df6-8682-44b5-834d-e09f42cf7a9a"
    },
    {
      "cell_type": "raw",
      "metadata": {
        "raw_mimetype": "text/html"
      },
      "source": [
        "</td>"
      ],
      "id": "c78249be-49c4-46f4-b53b-fc04e895509f"
    },
    {
      "cell_type": "raw",
      "metadata": {
        "raw_mimetype": "text/html"
      },
      "source": [
        "<td>"
      ],
      "id": "b7994de7-23ff-410e-ac58-90db47a53c80"
    },
    {
      "cell_type": "markdown",
      "metadata": {},
      "source": [
        "2019"
      ],
      "id": "8e30bafa-55b6-4fe4-8115-30b90d3723d6"
    },
    {
      "cell_type": "raw",
      "metadata": {
        "raw_mimetype": "text/html"
      },
      "source": [
        "</td>"
      ],
      "id": "1290f69a-e1fe-4669-8272-b435d65565e4"
    },
    {
      "cell_type": "raw",
      "metadata": {
        "raw_mimetype": "text/html"
      },
      "source": [
        "<td>"
      ],
      "id": "83949378-6030-4908-8c15-433d15b54e42"
    },
    {
      "cell_type": "markdown",
      "metadata": {},
      "source": [
        "<a href=\"/wiki/Stade_Louis-II\" title=\"Stade Louis-II\">Stade Louis-II</a>"
      ],
      "id": "3d587c08-b2cd-4509-8c21-a33773204033"
    },
    {
      "cell_type": "raw",
      "metadata": {
        "raw_mimetype": "text/html"
      },
      "source": [
        "</td>"
      ],
      "id": "5b527f42-9ff7-413b-90d6-3f2768f79cca"
    },
    {
      "cell_type": "raw",
      "metadata": {
        "raw_mimetype": "text/html"
      },
      "source": [
        "<td>"
      ],
      "id": "4b621688-9b46-4fdb-8603-4d4e462cc47e"
    },
    {
      "cell_type": "markdown",
      "metadata": {},
      "source": [
        "16 500"
      ],
      "id": "76f4af72-5e59-464d-81f6-7e6e8b0baa89"
    },
    {
      "cell_type": "raw",
      "metadata": {
        "raw_mimetype": "text/html"
      },
      "source": [
        "</td>"
      ],
      "id": "bd6d8dff-5630-4c0d-afb4-2162f63dedc7"
    },
    {
      "cell_type": "raw",
      "metadata": {
        "raw_mimetype": "text/html"
      },
      "source": [
        "<td>"
      ],
      "id": "5043fe7a-667b-45fd-8971-4e1565c33261"
    },
    {
      "cell_type": "markdown",
      "metadata": {},
      "source": [
        "60"
      ],
      "id": "b8d480fe-918e-47fb-959e-fe19bc47e15d"
    },
    {
      "cell_type": "raw",
      "metadata": {
        "raw_mimetype": "text/html"
      },
      "source": [
        "</td>"
      ],
      "id": "3d4393ab-3125-4815-81c8-61126cc11f42"
    },
    {
      "cell_type": "raw",
      "metadata": {
        "raw_mimetype": "text/html"
      },
      "source": [
        "</tr>"
      ],
      "id": "07f7ea88-4cb7-4f10-8b56-8157f369b0fc"
    },
    {
      "cell_type": "raw",
      "metadata": {
        "raw_mimetype": "text/html"
      },
      "source": [
        "<tr>"
      ],
      "id": "11f4e040-b4ef-496a-ba31-fe47b5a6579d"
    },
    {
      "cell_type": "raw",
      "metadata": {
        "raw_mimetype": "text/html"
      },
      "source": [
        "<td>"
      ],
      "id": "2c1ebcd1-472f-4f74-ad05-7e7e7b394581"
    },
    {
      "cell_type": "markdown",
      "metadata": {},
      "source": [
        "<a href=\"/wiki/Dijon_Football_C%C3%B4te-d%27Or\" title=\"Dijon Football Côte-d'Or\">Dijon FCO</a>"
      ],
      "id": "6c304607-9183-423f-be29-928bfd565c62"
    },
    {
      "cell_type": "raw",
      "metadata": {
        "raw_mimetype": "text/html"
      },
      "source": [
        "</td>"
      ],
      "id": "2b3d36c3-0cfc-4066-bf28-0b20700060c5"
    },
    {
      "cell_type": "raw",
      "metadata": {
        "raw_mimetype": "text/html"
      },
      "source": [
        "<td>"
      ],
      "id": "6d8336bb-b26d-47c8-b67c-d4d5e59e137f"
    },
    {
      "cell_type": "markdown",
      "metadata": {},
      "source": [
        "2016"
      ],
      "id": "0a95458e-7bda-4a9a-a338-645341ac1a10"
    },
    {
      "cell_type": "raw",
      "metadata": {
        "raw_mimetype": "text/html"
      },
      "source": [
        "</td>"
      ],
      "id": "ba4911e5-6dd3-45e7-9d4a-5d70a24037fd"
    },
    {
      "cell_type": "raw",
      "metadata": {
        "raw_mimetype": "text/html"
      },
      "source": [
        "<td>"
      ],
      "id": "fc9da40f-fd45-4ba5-afb7-1fe043ae2ef1"
    },
    {
      "cell_type": "markdown",
      "metadata": {},
      "source": [
        "38"
      ],
      "id": "0419659d-39a0-4538-a071-7f647ade2a55"
    },
    {
      "cell_type": "raw",
      "metadata": {
        "raw_mimetype": "text/html"
      },
      "source": [
        "</td>"
      ],
      "id": "6a2a3a54-8355-44d1-9e21-00947c6051e2"
    },
    {
      "cell_type": "raw",
      "metadata": {
        "raw_mimetype": "text/html"
      },
      "source": [
        "<td>"
      ],
      "id": "768e19a6-7269-4098-8fc4-6c276710a5e9"
    },
    {
      "cell_type": "markdown",
      "metadata": {},
      "source": [
        "<span data-sort-value=\"118 !\"></span><abbr class=\"abbr\" title=\"Dix-huitième\">18<sup>e</sup></abbr>"
      ],
      "id": "169af295-d9d8-4b6f-a1fb-378626e36137"
    },
    {
      "cell_type": "raw",
      "metadata": {
        "raw_mimetype": "text/html"
      },
      "source": [
        "</td>"
      ],
      "id": "22c9de61-4898-4824-8e09-292c2e49be39"
    },
    {
      "cell_type": "raw",
      "metadata": {
        "raw_mimetype": "text/html"
      },
      "source": [
        "<td align=\"left\">"
      ],
      "id": "118f8da0-e5a3-431e-8c47-cc89fed54bcf"
    },
    {
      "cell_type": "markdown",
      "metadata": {},
      "source": [
        "<span class=\"flagicon\"><a class=\"image\" href=\"/wiki/Fichier:Flag_of_France.svg\" title=\"Drapeau : France\"><img alt=\"\" class=\"noviewer thumbborder\" data-file-height=\"600\" data-file-width=\"900\" decoding=\"async\" height=\"13\" src=\"//upload.wikimedia.org/wikipedia/commons/thumb/c/c3/Flag_of_France.svg/20px-Flag_of_France.svg.png\" srcset=\"//upload.wikimedia.org/wikipedia/commons/thumb/c/c3/Flag_of_France.svg/30px-Flag_of_France.svg.png 1.5x, //upload.wikimedia.org/wikipedia/commons/thumb/c/c3/Flag_of_France.svg/40px-Flag_of_France.svg.png 2x\" width=\"20\"/></a></span> <a href=\"/wiki/St%C3%A9phane_Jobard\" title=\"Stéphane Jobard\">Stéphane Jobard</a>"
      ],
      "id": "ac31ac68-edbb-4ac6-893d-58fa7930c718"
    },
    {
      "cell_type": "raw",
      "metadata": {
        "raw_mimetype": "text/html"
      },
      "source": [
        "</td>"
      ],
      "id": "d7b9c5aa-2ea8-4e36-8d17-04794f7f62e3"
    },
    {
      "cell_type": "raw",
      "metadata": {
        "raw_mimetype": "text/html"
      },
      "source": [
        "<td>"
      ],
      "id": "5f454271-9f07-469f-9d3e-aca9f3975b9b"
    },
    {
      "cell_type": "markdown",
      "metadata": {},
      "source": [
        "2019"
      ],
      "id": "c6899bf9-7ea6-49c6-b7a8-aadaa78f05e4"
    },
    {
      "cell_type": "raw",
      "metadata": {
        "raw_mimetype": "text/html"
      },
      "source": [
        "</td>"
      ],
      "id": "888c8d7a-65f0-4f1b-a7c5-b52e02bb3338"
    },
    {
      "cell_type": "raw",
      "metadata": {
        "raw_mimetype": "text/html"
      },
      "source": [
        "<td>"
      ],
      "id": "a598bfe2-6111-4ba4-b91b-788904a86792"
    },
    {
      "cell_type": "markdown",
      "metadata": {},
      "source": [
        "<a href=\"/wiki/Stade_Gaston-G%C3%A9rard\" title=\"Stade Gaston-Gérard\">Parc des Sports Gaston-Gérard</a>"
      ],
      "id": "1dd43bcf-0ce9-4cd4-bfb3-d202d2e9c989"
    },
    {
      "cell_type": "raw",
      "metadata": {
        "raw_mimetype": "text/html"
      },
      "source": [
        "</td>"
      ],
      "id": "c2689337-1f27-4479-b7c3-b83aa425fc7e"
    },
    {
      "cell_type": "raw",
      "metadata": {
        "raw_mimetype": "text/html"
      },
      "source": [
        "<td>"
      ],
      "id": "fffe2996-18cc-4f65-91be-250742a5f602"
    },
    {
      "cell_type": "markdown",
      "metadata": {},
      "source": [
        "15 459"
      ],
      "id": "36531c6d-89ec-4f46-bfad-f67e74f94e45"
    },
    {
      "cell_type": "raw",
      "metadata": {
        "raw_mimetype": "text/html"
      },
      "source": [
        "</td>"
      ],
      "id": "689ad0c2-fac3-483d-bb00-d46299ce9830"
    },
    {
      "cell_type": "raw",
      "metadata": {
        "raw_mimetype": "text/html"
      },
      "source": [
        "<td>"
      ],
      "id": "41612507-efd6-4770-b0fc-16887b828397"
    },
    {
      "cell_type": "markdown",
      "metadata": {},
      "source": [
        "4"
      ],
      "id": "afe2621b-ea44-4781-a397-dce2c3f4c3c0"
    },
    {
      "cell_type": "raw",
      "metadata": {
        "raw_mimetype": "text/html"
      },
      "source": [
        "</td>"
      ],
      "id": "2e24e7c5-d70b-4757-bdbc-98b224702299"
    },
    {
      "cell_type": "raw",
      "metadata": {
        "raw_mimetype": "text/html"
      },
      "source": [
        "</tr>"
      ],
      "id": "68a84078-00b7-4d13-8e32-046ac6939b27"
    },
    {
      "cell_type": "raw",
      "metadata": {
        "raw_mimetype": "text/html"
      },
      "source": [
        "<tr bgcolor=\"#a8fca8\">"
      ],
      "id": "b41138a9-caf6-4e27-976d-d3aab6864dd1"
    },
    {
      "cell_type": "raw",
      "metadata": {
        "raw_mimetype": "text/html"
      },
      "source": [
        "<td>"
      ],
      "id": "cf925655-2308-48cd-82d6-62b9f46c9205"
    },
    {
      "cell_type": "markdown",
      "metadata": {},
      "source": [
        "<a href=\"/wiki/Football_Club_de_Metz\" title=\"Football Club de Metz\">FC Metz</a>"
      ],
      "id": "31b774de-a97e-413f-99e2-a72f91bde605"
    },
    {
      "cell_type": "raw",
      "metadata": {
        "raw_mimetype": "text/html"
      },
      "source": [
        "</td>"
      ],
      "id": "0ed9fddb-4a6c-4093-90b5-8298261e8a32"
    },
    {
      "cell_type": "raw",
      "metadata": {
        "raw_mimetype": "text/html"
      },
      "source": [
        "<td>"
      ],
      "id": "5537a825-5a24-43c7-a744-340c1ce35a8f"
    },
    {
      "cell_type": "markdown",
      "metadata": {},
      "source": [
        "2019"
      ],
      "id": "b4f87435-d14e-4222-87f3-b039f0d9fc7b"
    },
    {
      "cell_type": "raw",
      "metadata": {
        "raw_mimetype": "text/html"
      },
      "source": [
        "</td>"
      ],
      "id": "11b11265-a6ce-4e7a-a0c5-82b0e9efacf8"
    },
    {
      "cell_type": "raw",
      "metadata": {
        "raw_mimetype": "text/html"
      },
      "source": [
        "<td>"
      ],
      "id": "338975e7-5a15-4073-a1aa-f2ead0e5ee1e"
    },
    {
      "cell_type": "markdown",
      "metadata": {},
      "source": [
        "40"
      ],
      "id": "75719e6a-491c-421d-934d-2083b1d406c1"
    },
    {
      "cell_type": "raw",
      "metadata": {
        "raw_mimetype": "text/html"
      },
      "source": [
        "</td>"
      ],
      "id": "1e011c7a-0a79-4e89-a662-76b96a109e80"
    },
    {
      "cell_type": "raw",
      "metadata": {
        "raw_mimetype": "text/html"
      },
      "source": [
        "<td>"
      ],
      "id": "9fbb5e63-9189-4b96-afb7-bcf7d8eb88a7"
    },
    {
      "cell_type": "markdown",
      "metadata": {},
      "source": [
        "<span data-sort-value=\"201 !\"></span><abbr class=\"abbr\" title=\"Premier\">1<sup>er</sup></abbr> (<a class=\"mw-redirect\" href=\"/wiki/Championnat_de_France_de_football_de_Ligue_2_2018-2019\" title=\"Championnat de France de football de Ligue 2 2018-2019\">Ligue 2</a>)"
      ],
      "id": "2e96873a-d9f6-4804-a4b8-7192dbd1464a"
    },
    {
      "cell_type": "raw",
      "metadata": {
        "raw_mimetype": "text/html"
      },
      "source": [
        "</td>"
      ],
      "id": "7beeeb6e-8b8f-4549-83bb-6781a852ceb8"
    },
    {
      "cell_type": "raw",
      "metadata": {
        "raw_mimetype": "text/html"
      },
      "source": [
        "<td align=\"left\">"
      ],
      "id": "5eb80931-434e-4abd-9cee-7b6ae0a7dbce"
    },
    {
      "cell_type": "markdown",
      "metadata": {},
      "source": [
        "<span class=\"flagicon\"><a class=\"image\" href=\"/wiki/Fichier:Flag_of_France.svg\" title=\"Drapeau : France\"><img alt=\"\" class=\"noviewer thumbborder\" data-file-height=\"600\" data-file-width=\"900\" decoding=\"async\" height=\"13\" src=\"//upload.wikimedia.org/wikipedia/commons/thumb/c/c3/Flag_of_France.svg/20px-Flag_of_France.svg.png\" srcset=\"//upload.wikimedia.org/wikipedia/commons/thumb/c/c3/Flag_of_France.svg/30px-Flag_of_France.svg.png 1.5x, //upload.wikimedia.org/wikipedia/commons/thumb/c/c3/Flag_of_France.svg/40px-Flag_of_France.svg.png 2x\" width=\"20\"/></a></span> <a href=\"/wiki/Vincent_Hognon\" title=\"Vincent Hognon\">Vincent Hognon</a>"
      ],
      "id": "d5131b9c-9e94-4768-9f51-6905a5b4b24b"
    },
    {
      "cell_type": "raw",
      "metadata": {
        "raw_mimetype": "text/html"
      },
      "source": [
        "</td>"
      ],
      "id": "86238f70-d5e0-4033-8de1-c2f6d35c1acf"
    },
    {
      "cell_type": "raw",
      "metadata": {
        "raw_mimetype": "text/html"
      },
      "source": [
        "<td>"
      ],
      "id": "e6bfc3cc-27ad-4bc2-9ec6-0c730afabeca"
    },
    {
      "cell_type": "markdown",
      "metadata": {},
      "source": [
        "2019"
      ],
      "id": "e75c443b-68d6-4f8a-9d9c-b08984338065"
    },
    {
      "cell_type": "raw",
      "metadata": {
        "raw_mimetype": "text/html"
      },
      "source": [
        "</td>"
      ],
      "id": "aaf2b790-1b3a-43e9-a572-88b245261985"
    },
    {
      "cell_type": "raw",
      "metadata": {
        "raw_mimetype": "text/html"
      },
      "source": [
        "<td>"
      ],
      "id": "533a772f-4281-463a-8e8b-1d4bb92dcc7a"
    },
    {
      "cell_type": "markdown",
      "metadata": {},
      "source": [
        "<a href=\"/wiki/Stade_Saint-Symphorien\" title=\"Stade Saint-Symphorien\">Stade Saint-Symphorien</a>"
      ],
      "id": "fae97043-3579-4698-9dab-4b42f908dba8"
    },
    {
      "cell_type": "raw",
      "metadata": {
        "raw_mimetype": "text/html"
      },
      "source": [
        "</td>"
      ],
      "id": "b562c1b2-7dcd-43b0-b3c2-d7213ac45e2e"
    },
    {
      "cell_type": "raw",
      "metadata": {
        "raw_mimetype": "text/html"
      },
      "source": [
        "<td>"
      ],
      "id": "69d79c9a-ae3e-44ab-aaa6-afe998a87bcc"
    },
    {
      "cell_type": "markdown",
      "metadata": {},
      "source": [
        "25 865"
      ],
      "id": "efe50f4e-7e77-4e06-af05-f158da2864bf"
    },
    {
      "cell_type": "raw",
      "metadata": {
        "raw_mimetype": "text/html"
      },
      "source": [
        "</td>"
      ],
      "id": "c04f3241-3942-448f-a7b6-135bc9522144"
    },
    {
      "cell_type": "raw",
      "metadata": {
        "raw_mimetype": "text/html"
      },
      "source": [
        "<td>"
      ],
      "id": "85fc6149-f280-4631-a06d-1a38d3e58752"
    },
    {
      "cell_type": "markdown",
      "metadata": {},
      "source": [
        "61"
      ],
      "id": "4ba9d222-975e-49bc-abb0-35e6605a5f70"
    },
    {
      "cell_type": "raw",
      "metadata": {
        "raw_mimetype": "text/html"
      },
      "source": [
        "</td>"
      ],
      "id": "cfedbd88-dd0f-44ac-933a-7f0eb6b2cfec"
    },
    {
      "cell_type": "raw",
      "metadata": {
        "raw_mimetype": "text/html"
      },
      "source": [
        "</tr>"
      ],
      "id": "82ddacf4-8876-44fa-b8f4-99a7214c6846"
    },
    {
      "cell_type": "raw",
      "metadata": {
        "raw_mimetype": "text/html"
      },
      "source": [
        "<tr bgcolor=\"#a8fca8\">"
      ],
      "id": "284d1614-5bd1-4d26-8cc8-1fcfe796ce8c"
    },
    {
      "cell_type": "raw",
      "metadata": {
        "raw_mimetype": "text/html"
      },
      "source": [
        "<td>"
      ],
      "id": "c4c3210f-d95c-4391-916f-892d54f040df"
    },
    {
      "cell_type": "markdown",
      "metadata": {},
      "source": [
        "<a href=\"/wiki/Stade_brestois_29\" title=\"Stade brestois 29\">Stade brestois 29</a>"
      ],
      "id": "c93b3bdc-8d58-47a0-934a-fb02c6811cca"
    },
    {
      "cell_type": "raw",
      "metadata": {
        "raw_mimetype": "text/html"
      },
      "source": [
        "</td>"
      ],
      "id": "9e886684-5480-4899-be86-395fc39da2c2"
    },
    {
      "cell_type": "raw",
      "metadata": {
        "raw_mimetype": "text/html"
      },
      "source": [
        "<td>"
      ],
      "id": "93e2dfa1-d520-446d-b61c-6ddc133fc431"
    },
    {
      "cell_type": "markdown",
      "metadata": {},
      "source": [
        "2019"
      ],
      "id": "57df5200-8209-44a0-850c-b774d19133cc"
    },
    {
      "cell_type": "raw",
      "metadata": {
        "raw_mimetype": "text/html"
      },
      "source": [
        "</td>"
      ],
      "id": "80e6c691-24f2-4d51-b4a8-38b0a16c7a6d"
    },
    {
      "cell_type": "raw",
      "metadata": {
        "raw_mimetype": "text/html"
      },
      "source": [
        "<td>"
      ],
      "id": "c4c7bc97-8ec4-43e2-bc63-6083c7e6a65e"
    },
    {
      "cell_type": "markdown",
      "metadata": {},
      "source": [
        "30"
      ],
      "id": "eef2ef83-f79a-41fe-860e-197fd1ba7ea9"
    },
    {
      "cell_type": "raw",
      "metadata": {
        "raw_mimetype": "text/html"
      },
      "source": [
        "</td>"
      ],
      "id": "43cad272-d7d7-471f-9023-21a7d043a932"
    },
    {
      "cell_type": "raw",
      "metadata": {
        "raw_mimetype": "text/html"
      },
      "source": [
        "<td>"
      ],
      "id": "86791861-9d94-4202-9868-27bdba35a21a"
    },
    {
      "cell_type": "markdown",
      "metadata": {},
      "source": [
        "<span data-sort-value=\"202 !\"></span><abbr class=\"abbr\" title=\"Deuxième\">2<sup>e</sup></abbr> (<a class=\"mw-redirect\" href=\"/wiki/Championnat_de_France_de_football_de_Ligue_2_2018-2019\" title=\"Championnat de France de football de Ligue 2 2018-2019\">Ligue 2</a>)"
      ],
      "id": "c3e81608-8a78-451c-9c32-20a8a4dad41e"
    },
    {
      "cell_type": "raw",
      "metadata": {
        "raw_mimetype": "text/html"
      },
      "source": [
        "</td>"
      ],
      "id": "0b66755a-cc8c-425c-b26f-74fdf2968e96"
    },
    {
      "cell_type": "raw",
      "metadata": {
        "raw_mimetype": "text/html"
      },
      "source": [
        "<td align=\"left\">"
      ],
      "id": "a64a5b58-f6a0-4b65-8920-09918527f8fa"
    },
    {
      "cell_type": "markdown",
      "metadata": {},
      "source": [
        "<span class=\"flagicon\"><a class=\"image\" href=\"/wiki/Fichier:Flag_of_France.svg\" title=\"Drapeau : France\"><img alt=\"\" class=\"noviewer thumbborder\" data-file-height=\"600\" data-file-width=\"900\" decoding=\"async\" height=\"13\" src=\"//upload.wikimedia.org/wikipedia/commons/thumb/c/c3/Flag_of_France.svg/20px-Flag_of_France.svg.png\" srcset=\"//upload.wikimedia.org/wikipedia/commons/thumb/c/c3/Flag_of_France.svg/30px-Flag_of_France.svg.png 1.5x, //upload.wikimedia.org/wikipedia/commons/thumb/c/c3/Flag_of_France.svg/40px-Flag_of_France.svg.png 2x\" width=\"20\"/></a></span> <a href=\"/wiki/Olivier_Dall%27Oglio\" title=\"Olivier Dall'Oglio\">Olivier Dall’Oglio</a>"
      ],
      "id": "3eaa2d5e-30eb-46ae-a298-bcd3e0fd6b27"
    },
    {
      "cell_type": "raw",
      "metadata": {
        "raw_mimetype": "text/html"
      },
      "source": [
        "</td>"
      ],
      "id": "526ad2d4-94ee-4592-aa9e-60e668f6d04f"
    },
    {
      "cell_type": "raw",
      "metadata": {
        "raw_mimetype": "text/html"
      },
      "source": [
        "<td>"
      ],
      "id": "d10ca24b-eea6-4a11-9367-f6d5292217e2"
    },
    {
      "cell_type": "markdown",
      "metadata": {},
      "source": [
        "2019"
      ],
      "id": "5cb066dd-3037-4099-be42-923ab59c40c7"
    },
    {
      "cell_type": "raw",
      "metadata": {
        "raw_mimetype": "text/html"
      },
      "source": [
        "</td>"
      ],
      "id": "521155e2-758b-427f-8521-2c3ce90eec78"
    },
    {
      "cell_type": "raw",
      "metadata": {
        "raw_mimetype": "text/html"
      },
      "source": [
        "<td>"
      ],
      "id": "ac2af9b1-8d35-4a2b-8a46-5c86903cba79"
    },
    {
      "cell_type": "markdown",
      "metadata": {},
      "source": [
        "<a href=\"/wiki/Stade_Francis-Le_Bl%C3%A9\" title=\"Stade Francis-Le Blé\">Stade Francis-Le Blé</a>"
      ],
      "id": "ae82e7bc-9844-4a97-b419-47e62020be17"
    },
    {
      "cell_type": "raw",
      "metadata": {
        "raw_mimetype": "text/html"
      },
      "source": [
        "</td>"
      ],
      "id": "77c5c858-fb5e-48c6-8448-9e8bf4634948"
    },
    {
      "cell_type": "raw",
      "metadata": {
        "raw_mimetype": "text/html"
      },
      "source": [
        "<td>"
      ],
      "id": "e2cb3180-7482-4e44-ba2b-4a5f931f5188"
    },
    {
      "cell_type": "markdown",
      "metadata": {},
      "source": [
        "14 920"
      ],
      "id": "37a35c2d-4e5a-4ebe-b8bb-9228fc055789"
    },
    {
      "cell_type": "raw",
      "metadata": {
        "raw_mimetype": "text/html"
      },
      "source": [
        "</td>"
      ],
      "id": "4a4e2a6e-6bd1-4af8-b81b-f0da88232dc1"
    },
    {
      "cell_type": "raw",
      "metadata": {
        "raw_mimetype": "text/html"
      },
      "source": [
        "<td>"
      ],
      "id": "48149c41-41ff-4ac8-bb5b-5e293f32cbe9"
    },
    {
      "cell_type": "markdown",
      "metadata": {},
      "source": [
        "13"
      ],
      "id": "20328483-e0bb-4f0a-929e-3847fc6400ea"
    },
    {
      "cell_type": "raw",
      "metadata": {
        "raw_mimetype": "text/html"
      },
      "source": [
        "</td>"
      ],
      "id": "7c04b3d8-f09f-4d35-a6fe-670a49bcab8e"
    },
    {
      "cell_type": "raw",
      "metadata": {
        "raw_mimetype": "text/html"
      },
      "source": [
        "</tr>"
      ],
      "id": "240bab99-f683-4dec-82c1-4806db11d6c1"
    },
    {
      "cell_type": "raw",
      "metadata": {
        "raw_mimetype": "text/html"
      },
      "source": [
        "</tbody>"
      ],
      "id": "de9840b2-ab7f-4215-ac35-4d7bcdd492d7"
    },
    {
      "cell_type": "raw",
      "metadata": {
        "raw_mimetype": "text/html"
      },
      "source": [
        "</table>"
      ],
      "id": "bb89f514-a328-48a6-99db-df70c8281d42"
    },
    {
      "cell_type": "markdown",
      "metadata": {},
      "source": [
        ":two:\n",
        "Récupérer chaque ligne du tableau"
      ],
      "id": "4ae36a95-34dc-43e4-bc37-0f37bea50625"
    },
    {
      "cell_type": "code",
      "execution_count": 11,
      "metadata": {},
      "outputs": [
        {
          "output_type": "stream",
          "name": "stdout",
          "text": [
            "<tr>\n",
            "<th scope=\"col\">Club\n",
            "</th>\n",
            "<th scope=\"col\">Dernière<br/>montée\n",
            "</th>\n",
            "<th scope=\"col\">Budget<sup class=\"reference\" id=\"cite_ref-3\"><a href=\"#cite_note-3\"><span class=\"cite_crochet\">[</span>3<span class=\"cite_crochet\">]</span></a></sup><br/>en M<a href=\"/wiki/Euro\" title=\"Euro\">€</a>\n",
            "</th>\n",
            "<th scope=\"col\">Classement<br/><a href=\"/wiki/Championnat_de_France_de_football_2018-2019\" title=\"Championnat de France de football 2018-2019\">2018-2019</a>\n",
            "</th>\n",
            "<th scope=\"col\">Entraîneur\n",
            "</th>\n",
            "<th scope=\"col\">Depuis\n",
            "</th>\n",
            "<th scope=\"col\">Stade\n",
            "</th>\n",
            "<th scope=\"col\">Capacité<br/>en L1<sup class=\"reference\" id=\"cite_ref-4\"><a href=\"#cite_note-4\"><span class=\"cite_crochet\">[</span>4<span class=\"cite_crochet\">]</span></a></sup>\n",
            "</th>\n",
            "<th scope=\"col\">Nombre<br/>de saisons<br/>en L1\n",
            "</th></tr>"
          ]
        }
      ],
      "source": [
        "table_body = tableau_participants.find('tbody')\n",
        "\n",
        "# on recherche toutes les lignes du tableau avec la balise \"tr\"\n",
        "rows = table_body.find_all('tr')\n",
        "\n",
        "# on obtient une liste où chaque élément est une des lignes du tableau\n",
        "\n",
        "# par exemple la première ligne va correspondre aux entêtes de colonne\n",
        "print(rows[0])"
      ],
      "id": "cd9d6bf6-187b-4c7f-b459-fa8ea5934546"
    },
    {
      "cell_type": "code",
      "execution_count": 12,
      "metadata": {},
      "outputs": [
        {
          "output_type": "stream",
          "name": "stdout",
          "text": [
            "<tr bgcolor=\"#97DEFF\">\n",
            "<td><a href=\"/wiki/Paris_Saint-Germain_Football_Club\" title=\"Paris Saint-Germain Football Club\">Paris Saint-Germain</a>\n",
            "</td>\n",
            "<td>1974\n",
            "</td>\n",
            "<td>637\n",
            "</td>\n",
            "<td><span data-sort-value=\"101 !\"></span><abbr class=\"abbr\" title=\"Premier\">1<sup>er</sup></abbr>\n",
            "</td>\n",
            "<td align=\"left\"><span class=\"flagicon\"><a class=\"image\" href=\"/wiki/Fichier:Flag_of_Germany.svg\" title=\"Drapeau : Allemagne\"><img alt=\"\" class=\"noviewer thumbborder\" data-file-height=\"600\" data-file-width=\"1000\" decoding=\"async\" height=\"12\" src=\"//upload.wikimedia.org/wikipedia/commons/thumb/b/ba/Flag_of_Germany.svg/20px-Flag_of_Germany.svg.png\" srcset=\"//upload.wikimedia.org/wikipedia/commons/thumb/b/ba/Flag_of_Germany.svg/30px-Flag_of_Germany.svg.png 1.5x, //upload.wikimedia.org/wikipedia/commons/thumb/b/ba/Flag_of_Germany.svg/40px-Flag_of_Germany.svg.png 2x\" width=\"20\"/></a></span> <a href=\"/wiki/Thomas_Tuchel\" title=\"Thomas Tuchel\">Thomas Tuchel</a>\n",
            "</td>\n",
            "<td>2018\n",
            "</td>\n",
            "<td><a href=\"/wiki/Parc_des_Princes\" title=\"Parc des Princes\">Parc des Princes</a>\n",
            "</td>\n",
            "<td>47 929\n",
            "</td>\n",
            "<td>46\n",
            "</td></tr>"
          ]
        }
      ],
      "source": [
        "# par exemple la seconde ligne va correspondre à la ligne du premier club présent dans le tableau\n",
        "\n",
        "print(rows[1])"
      ],
      "id": "e058ee40-02d9-45ec-9a79-0356a3e4a99a"
    },
    {
      "cell_type": "markdown",
      "metadata": {},
      "source": [
        ":three:\n",
        "Nettoyer les sorties en ne gardant que le texte sur une ligne\n",
        "\n",
        "On va utiliser l’attribut `text` afin de se débarasser de toute la couche de HTML qu’on obtient à l’étape 2.\n",
        "\n",
        "Un exemple sur la ligne du premier club :\n",
        "- on commence par prendre toutes les cellules de cette ligne, avec la balise `td`.\n",
        "- on fait ensuite une boucle sur chacune des cellules et on ne garde que le texte de la cellule avec l’attribut `text`.\n",
        "- enfin, on applique la méthode `strip()` pour que le texte soit bien mis en forme (sans espace inutile etc)."
      ],
      "id": "315d4686-0637-45d9-889e-e90f53d09768"
    },
    {
      "cell_type": "code",
      "execution_count": 13,
      "metadata": {},
      "outputs": [
        {
          "output_type": "stream",
          "name": "stdout",
          "text": [
            "<td><a href=\"/wiki/Paris_Saint-Germain_Football_Club\" title=\"Paris Saint-Germain Football Club\">Paris Saint-Germain</a>\n",
            "</td>\n",
            "Paris Saint-Germain"
          ]
        }
      ],
      "source": [
        "cols = rows[1].find_all('td')\n",
        "print(cols[0])\n",
        "print(cols[0].text.strip())"
      ],
      "id": "4445fd9e-1528-40c4-ae0b-41b641634057"
    },
    {
      "cell_type": "code",
      "execution_count": 14,
      "metadata": {},
      "outputs": [
        {
          "output_type": "stream",
          "name": "stdout",
          "text": [
            "Paris Saint-Germain\n",
            "1974\n",
            "637\n",
            "1er\n",
            "Thomas Tuchel\n",
            "2018\n",
            "Parc des Princes\n",
            "47 929\n",
            "46"
          ]
        }
      ],
      "source": [
        "for ele in cols : \n",
        "    print(ele.text.strip())"
      ],
      "id": "e6923272-ff05-4d54-a9da-e08ec676e08d"
    },
    {
      "cell_type": "markdown",
      "metadata": {},
      "source": [
        ":four:\n",
        "Généraliser sur toutes les lignes"
      ],
      "id": "6c32a15f-7049-4d62-9461-9d5b41b40bde"
    },
    {
      "cell_type": "code",
      "execution_count": 15,
      "metadata": {},
      "outputs": [
        {
          "output_type": "stream",
          "name": "stdout",
          "text": [
            "[]\n",
            "['Paris Saint-Germain', '1974', '637', '1er', 'Thomas Tuchel', '2018', 'Parc des Princes', '47\\xa0929', '46']\n",
            "['LOSC Lille', '2000', '120', '2e', 'Christophe Galtier', '2017', 'Stade Pierre-Mauroy', '49\\xa0712', '59']\n",
            "['Olympique lyonnais', '1989', '310', '3e', 'Rudi Garcia', '2019', 'Groupama Stadium', '57\\xa0206', '60']\n",
            "['AS Saint-Étienne', '2004', '100', '4e', 'Claude Puel', '2019', 'Stade Geoffroy-Guichard', '41\\xa0965', '66']\n",
            "['Olympique de Marseille', '1996', '110', '5e', 'André Villas-Boas', '2019', 'Orange Vélodrome', '66\\xa0226', '69']\n",
            "['Montpellier HSC', '2009', '40', '6e', 'Michel Der Zakarian', '2017', 'Stade de la Mosson', '22\\xa0000', '27']\n",
            "['OGC Nice', '2002', '50', '7e', 'Patrick Vieira', '2018', 'Allianz Riviera', '35\\xa0596', '60']\n",
            "['Stade de Reims', '2018', '45', '8e', 'David Guion', '2017', 'Stade Auguste-Delaune', '20\\xa0546', '35']\n",
            "['Nîmes Olympique', '2018', '27', '9e', 'Bernard Blaquart', '2015', 'Stade des Costières', '15\\xa0788', '35']\n",
            "['Stade rennais FC', '1994', '65', '10e', 'Julien Stéphan', '2018', 'Roazhon Park', '29\\xa0194', '62']\n",
            "['RC Strasbourg Alsace', '2017', '43', '11e', 'Thierry Laurey', '2016', 'Stade de la Meinau', '26\\xa0109', '58']\n",
            "['FC Nantes', '2013', '70', '12e', 'Christian Gourcuff', '2019', 'Stade de la Beaujoire - Louis Fonteneau', '35\\xa0322', '51']\n",
            "['SCO d’Angers', '2015', '32', '13e', 'Stéphane Moulin', '2011', 'Stade Raymond-Kopa', '14\\xa0582', '27']\n",
            "['Girondins de Bordeaux', '1992', '70', '14e', 'Paulo Sousa', '2019', 'Matmut Atlantique', '42\\xa0115', '66']\n",
            "['Amiens SC', '2017', '30', '15e', 'Luka Elsner', '2019', 'Stade Crédit Agricole la Licorne', '12\\xa0999', '2']\n",
            "['Toulouse FC', '2003', '35', '16e', 'Denis Zanko', '2020', 'Stadium de Toulouse', '33\\xa0033', '32']\n",
            "['AS Monaco', '2013', '220', '17e', 'Robert Moreno', '2019', 'Stade Louis-II', '16\\xa0500', '60']\n",
            "['Dijon FCO', '2016', '38', '18e', 'Stéphane Jobard', '2019', 'Parc des Sports Gaston-Gérard', '15\\xa0459', '4']\n",
            "['FC Metz', '2019', '40', '1er (Ligue 2)', 'Vincent Hognon', '2019', 'Stade Saint-Symphorien', '25\\xa0865', '61']\n",
            "['Stade brestois 29', '2019', '30', '2e (Ligue 2)', \"Olivier Dall'Oglio\", '2019', 'Stade Francis-Le Blé', '14\\xa0920', '13']"
          ]
        }
      ],
      "source": [
        "for row in rows:\n",
        "    cols = row.find_all('td')\n",
        "    cols = [ele.text.strip() for ele in cols]\n",
        "    print(cols)"
      ],
      "id": "1ef82f72-6276-4444-bca4-1601ee85e734"
    },
    {
      "cell_type": "markdown",
      "metadata": {},
      "source": [
        "On a bien réussi à avoir les informations contenues dans le tableau des participants du championnat.\n",
        "Mais la première ligne est étrange : c’est une liste vide …\n",
        "\n",
        "Il s’agit des en-têtes : elles sont reconnues par la balise `th` et non `td`.\n",
        "\n",
        "On va mettre tout le contenu dans un dictionnaire, pour le transformer ensuite en DataFrame pandas :"
      ],
      "id": "d0058b77-490e-4245-a53d-02087c2bcc7e"
    },
    {
      "cell_type": "code",
      "execution_count": 16,
      "metadata": {},
      "outputs": [
        {
          "output_type": "display_data",
          "metadata": {},
          "data": {
            "text/plain": [
              "{'Paris Saint-Germain': ['1974',\n",
              "  '637',\n",
              "  '1er',\n",
              "  'Thomas Tuchel',\n",
              "  '2018',\n",
              "  'Parc des Princes',\n",
              "  '47\\xa0929',\n",
              "  '46'],\n",
              " 'LOSC Lille': ['2000',\n",
              "  '120',\n",
              "  '2e',\n",
              "  'Christophe Galtier',\n",
              "  '2017',\n",
              "  'Stade Pierre-Mauroy',\n",
              "  '49\\xa0712',\n",
              "  '59'],\n",
              " 'Olympique lyonnais': ['1989',\n",
              "  '310',\n",
              "  '3e',\n",
              "  'Rudi Garcia',\n",
              "  '2019',\n",
              "  'Groupama Stadium',\n",
              "  '57\\xa0206',\n",
              "  '60'],\n",
              " 'AS Saint-Étienne': ['2004',\n",
              "  '100',\n",
              "  '4e',\n",
              "  'Claude Puel',\n",
              "  '2019',\n",
              "  'Stade Geoffroy-Guichard',\n",
              "  '41\\xa0965',\n",
              "  '66'],\n",
              " 'Olympique de Marseille': ['1996',\n",
              "  '110',\n",
              "  '5e',\n",
              "  'André Villas-Boas',\n",
              "  '2019',\n",
              "  'Orange Vélodrome',\n",
              "  '66\\xa0226',\n",
              "  '69'],\n",
              " 'Montpellier HSC': ['2009',\n",
              "  '40',\n",
              "  '6e',\n",
              "  'Michel Der Zakarian',\n",
              "  '2017',\n",
              "  'Stade de la Mosson',\n",
              "  '22\\xa0000',\n",
              "  '27'],\n",
              " 'OGC Nice': ['2002',\n",
              "  '50',\n",
              "  '7e',\n",
              "  'Patrick Vieira',\n",
              "  '2018',\n",
              "  'Allianz Riviera',\n",
              "  '35\\xa0596',\n",
              "  '60'],\n",
              " 'Stade de Reims': ['2018',\n",
              "  '45',\n",
              "  '8e',\n",
              "  'David Guion',\n",
              "  '2017',\n",
              "  'Stade Auguste-Delaune',\n",
              "  '20\\xa0546',\n",
              "  '35'],\n",
              " 'Nîmes Olympique': ['2018',\n",
              "  '27',\n",
              "  '9e',\n",
              "  'Bernard Blaquart',\n",
              "  '2015',\n",
              "  'Stade des Costières',\n",
              "  '15\\xa0788',\n",
              "  '35'],\n",
              " 'Stade rennais FC': ['1994',\n",
              "  '65',\n",
              "  '10e',\n",
              "  'Julien Stéphan',\n",
              "  '2018',\n",
              "  'Roazhon Park',\n",
              "  '29\\xa0194',\n",
              "  '62'],\n",
              " 'RC Strasbourg Alsace': ['2017',\n",
              "  '43',\n",
              "  '11e',\n",
              "  'Thierry Laurey',\n",
              "  '2016',\n",
              "  'Stade de la Meinau',\n",
              "  '26\\xa0109',\n",
              "  '58'],\n",
              " 'FC Nantes': ['2013',\n",
              "  '70',\n",
              "  '12e',\n",
              "  'Christian Gourcuff',\n",
              "  '2019',\n",
              "  'Stade de la Beaujoire - Louis Fonteneau',\n",
              "  '35\\xa0322',\n",
              "  '51'],\n",
              " 'SCO d’Angers': ['2015',\n",
              "  '32',\n",
              "  '13e',\n",
              "  'Stéphane Moulin',\n",
              "  '2011',\n",
              "  'Stade Raymond-Kopa',\n",
              "  '14\\xa0582',\n",
              "  '27'],\n",
              " 'Girondins de Bordeaux': ['1992',\n",
              "  '70',\n",
              "  '14e',\n",
              "  'Paulo Sousa',\n",
              "  '2019',\n",
              "  'Matmut Atlantique',\n",
              "  '42\\xa0115',\n",
              "  '66'],\n",
              " 'Amiens SC': ['2017',\n",
              "  '30',\n",
              "  '15e',\n",
              "  'Luka Elsner',\n",
              "  '2019',\n",
              "  'Stade Crédit Agricole la Licorne',\n",
              "  '12\\xa0999',\n",
              "  '2'],\n",
              " 'Toulouse FC': ['2003',\n",
              "  '35',\n",
              "  '16e',\n",
              "  'Denis Zanko',\n",
              "  '2020',\n",
              "  'Stadium de Toulouse',\n",
              "  '33\\xa0033',\n",
              "  '32'],\n",
              " 'AS Monaco': ['2013',\n",
              "  '220',\n",
              "  '17e',\n",
              "  'Robert Moreno',\n",
              "  '2019',\n",
              "  'Stade Louis-II',\n",
              "  '16\\xa0500',\n",
              "  '60'],\n",
              " 'Dijon FCO': ['2016',\n",
              "  '38',\n",
              "  '18e',\n",
              "  'Stéphane Jobard',\n",
              "  '2019',\n",
              "  'Parc des Sports Gaston-Gérard',\n",
              "  '15\\xa0459',\n",
              "  '4'],\n",
              " 'FC Metz': ['2019',\n",
              "  '40',\n",
              "  '1er (Ligue 2)',\n",
              "  'Vincent Hognon',\n",
              "  '2019',\n",
              "  'Stade Saint-Symphorien',\n",
              "  '25\\xa0865',\n",
              "  '61'],\n",
              " 'Stade brestois 29': ['2019',\n",
              "  '30',\n",
              "  '2e (Ligue 2)',\n",
              "  \"Olivier Dall'Oglio\",\n",
              "  '2019',\n",
              "  'Stade Francis-Le Blé',\n",
              "  '14\\xa0920',\n",
              "  '13']}"
            ]
          }
        }
      ],
      "source": [
        "dico_participants = dict()\n",
        "for row in rows:\n",
        "    cols = row.find_all('td')\n",
        "    cols = [ele.text.strip() for ele in cols]\n",
        "    if len(cols) > 0 : \n",
        "        dico_participants[cols[0]] = cols[1:]\n",
        "dico_participants"
      ],
      "id": "802f21a8-808a-439e-9b42-4776f83636c4"
    },
    {
      "cell_type": "code",
      "execution_count": 17,
      "metadata": {},
      "outputs": [
        {
          "output_type": "display_data",
          "metadata": {},
          "data": {
            "text/html": [
              "<div>\n",
              "<style scoped>\n",
              "    .dataframe tbody tr th:only-of-type {\n",
              "        vertical-align: middle;\n",
              "    }\n",
              "\n",
              "    .dataframe tbody tr th {\n",
              "        vertical-align: top;\n",
              "    }\n",
              "\n",
              "    .dataframe thead th {\n",
              "        text-align: right;\n",
              "    }\n",
              "</style>\n",
              "<table border=\"1\" class=\"dataframe\">\n",
              "  <thead>\n",
              "    <tr style=\"text-align: right;\">\n",
              "      <th></th>\n",
              "      <th>0</th>\n",
              "      <th>1</th>\n",
              "      <th>2</th>\n",
              "      <th>3</th>\n",
              "      <th>4</th>\n",
              "      <th>5</th>\n",
              "      <th>6</th>\n",
              "      <th>7</th>\n",
              "    </tr>\n",
              "  </thead>\n",
              "  <tbody>\n",
              "    <tr>\n",
              "      <th>Paris Saint-Germain</th>\n",
              "      <td>1974</td>\n",
              "      <td>637</td>\n",
              "      <td>1er</td>\n",
              "      <td>Thomas Tuchel</td>\n",
              "      <td>2018</td>\n",
              "      <td>Parc des Princes</td>\n",
              "      <td>47 929</td>\n",
              "      <td>46</td>\n",
              "    </tr>\n",
              "    <tr>\n",
              "      <th>LOSC Lille</th>\n",
              "      <td>2000</td>\n",
              "      <td>120</td>\n",
              "      <td>2e</td>\n",
              "      <td>Christophe Galtier</td>\n",
              "      <td>2017</td>\n",
              "      <td>Stade Pierre-Mauroy</td>\n",
              "      <td>49 712</td>\n",
              "      <td>59</td>\n",
              "    </tr>\n",
              "    <tr>\n",
              "      <th>Olympique lyonnais</th>\n",
              "      <td>1989</td>\n",
              "      <td>310</td>\n",
              "      <td>3e</td>\n",
              "      <td>Rudi Garcia</td>\n",
              "      <td>2019</td>\n",
              "      <td>Groupama Stadium</td>\n",
              "      <td>57 206</td>\n",
              "      <td>60</td>\n",
              "    </tr>\n",
              "    <tr>\n",
              "      <th>AS Saint-Étienne</th>\n",
              "      <td>2004</td>\n",
              "      <td>100</td>\n",
              "      <td>4e</td>\n",
              "      <td>Claude Puel</td>\n",
              "      <td>2019</td>\n",
              "      <td>Stade Geoffroy-Guichard</td>\n",
              "      <td>41 965</td>\n",
              "      <td>66</td>\n",
              "    </tr>\n",
              "    <tr>\n",
              "      <th>Olympique de Marseille</th>\n",
              "      <td>1996</td>\n",
              "      <td>110</td>\n",
              "      <td>5e</td>\n",
              "      <td>André Villas-Boas</td>\n",
              "      <td>2019</td>\n",
              "      <td>Orange Vélodrome</td>\n",
              "      <td>66 226</td>\n",
              "      <td>69</td>\n",
              "    </tr>\n",
              "  </tbody>\n",
              "</table>\n",
              "</div>"
            ]
          }
        }
      ],
      "source": [
        "data_participants = pandas.DataFrame.from_dict(dico_participants,orient='index')\n",
        "data_participants.head()"
      ],
      "id": "c6326bad-3ab5-4200-ab80-0ba4975325ca"
    },
    {
      "cell_type": "markdown",
      "metadata": {},
      "source": [
        ":five:\n",
        "Récupérer les entêtes du tableau"
      ],
      "id": "24a10597-cc17-4999-99c7-781ac9103066"
    },
    {
      "cell_type": "code",
      "execution_count": 18,
      "metadata": {},
      "outputs": [
        {
          "output_type": "stream",
          "name": "stdout",
          "text": [
            "[<th scope=\"col\">Club\n",
            "</th>, <th scope=\"col\">Dernière<br/>montée\n",
            "</th>, <th scope=\"col\">Budget<sup class=\"reference\" id=\"cite_ref-3\"><a href=\"#cite_note-3\"><span class=\"cite_crochet\">[</span>3<span class=\"cite_crochet\">]</span></a></sup><br/>en M<a href=\"/wiki/Euro\" title=\"Euro\">€</a>\n",
            "</th>, <th scope=\"col\">Classement<br/><a href=\"/wiki/Championnat_de_France_de_football_2018-2019\" title=\"Championnat de France de football 2018-2019\">2018-2019</a>\n",
            "</th>, <th scope=\"col\">Entraîneur\n",
            "</th>, <th scope=\"col\">Depuis\n",
            "</th>, <th scope=\"col\">Stade\n",
            "</th>, <th scope=\"col\">Capacité<br/>en L1<sup class=\"reference\" id=\"cite_ref-4\"><a href=\"#cite_note-4\"><span class=\"cite_crochet\">[</span>4<span class=\"cite_crochet\">]</span></a></sup>\n",
            "</th>, <th scope=\"col\">Nombre<br/>de saisons<br/>en L1\n",
            "</th>]\n",
            "[]\n",
            "[]\n",
            "[]\n",
            "[]\n",
            "[]\n",
            "[]\n",
            "[]\n",
            "[]\n",
            "[]\n",
            "[]\n",
            "[]\n",
            "[]\n",
            "[]\n",
            "[]\n",
            "[]\n",
            "[]\n",
            "[]\n",
            "[]\n",
            "[]\n",
            "[]"
          ]
        }
      ],
      "source": [
        "for row in rows:\n",
        "    cols = row.find_all('th')\n",
        "    print(cols)\n",
        "    if len(cols) > 0 : \n",
        "        cols = [ele.get_text(separator=' ').strip().title() for ele in cols]\n",
        "        columns_participants = cols"
      ],
      "id": "6cd87eaf-019c-4744-87a1-526cac92e6c7"
    },
    {
      "cell_type": "code",
      "execution_count": 19,
      "metadata": {},
      "outputs": [
        {
          "output_type": "display_data",
          "metadata": {},
          "data": {
            "text/plain": [
              "['Club',\n",
              " 'Dernière Montée',\n",
              " 'Budget [ 3 ] En M €',\n",
              " 'Classement 2018-2019',\n",
              " 'Entraîneur',\n",
              " 'Depuis',\n",
              " 'Stade',\n",
              " 'Capacité En L1 [ 4 ]',\n",
              " 'Nombre De Saisons En L1']"
            ]
          }
        }
      ],
      "source": [
        "columns_participants"
      ],
      "id": "01424758-2407-4a56-b5b1-89055e49371c"
    },
    {
      "cell_type": "markdown",
      "metadata": {},
      "source": [
        ":six: Finalisation du tableau"
      ],
      "id": "00ddda2e-f687-40e6-88b8-21b8f877994e"
    },
    {
      "cell_type": "code",
      "execution_count": 21,
      "metadata": {},
      "outputs": [],
      "source": [
        "data_participants.columns = columns_participants[1:]"
      ],
      "id": "e3012013-4cb0-42b4-af92-c286f60ce22e"
    },
    {
      "cell_type": "code",
      "execution_count": 22,
      "metadata": {},
      "outputs": [
        {
          "output_type": "display_data",
          "metadata": {},
          "data": {
            "text/html": [
              "<div>\n",
              "<style scoped>\n",
              "    .dataframe tbody tr th:only-of-type {\n",
              "        vertical-align: middle;\n",
              "    }\n",
              "\n",
              "    .dataframe tbody tr th {\n",
              "        vertical-align: top;\n",
              "    }\n",
              "\n",
              "    .dataframe thead th {\n",
              "        text-align: right;\n",
              "    }\n",
              "</style>\n",
              "<table border=\"1\" class=\"dataframe\">\n",
              "  <thead>\n",
              "    <tr style=\"text-align: right;\">\n",
              "      <th></th>\n",
              "      <th>Dernière Montée</th>\n",
              "      <th>Budget [ 3 ] En M €</th>\n",
              "      <th>Classement 2018-2019</th>\n",
              "      <th>Entraîneur</th>\n",
              "      <th>Depuis</th>\n",
              "      <th>Stade</th>\n",
              "      <th>Capacité En L1 [ 4 ]</th>\n",
              "      <th>Nombre De Saisons En L1</th>\n",
              "    </tr>\n",
              "  </thead>\n",
              "  <tbody>\n",
              "    <tr>\n",
              "      <th>Paris Saint-Germain</th>\n",
              "      <td>1974</td>\n",
              "      <td>637</td>\n",
              "      <td>1er</td>\n",
              "      <td>Thomas Tuchel</td>\n",
              "      <td>2018</td>\n",
              "      <td>Parc des Princes</td>\n",
              "      <td>47 929</td>\n",
              "      <td>46</td>\n",
              "    </tr>\n",
              "    <tr>\n",
              "      <th>LOSC Lille</th>\n",
              "      <td>2000</td>\n",
              "      <td>120</td>\n",
              "      <td>2e</td>\n",
              "      <td>Christophe Galtier</td>\n",
              "      <td>2017</td>\n",
              "      <td>Stade Pierre-Mauroy</td>\n",
              "      <td>49 712</td>\n",
              "      <td>59</td>\n",
              "    </tr>\n",
              "    <tr>\n",
              "      <th>Olympique lyonnais</th>\n",
              "      <td>1989</td>\n",
              "      <td>310</td>\n",
              "      <td>3e</td>\n",
              "      <td>Rudi Garcia</td>\n",
              "      <td>2019</td>\n",
              "      <td>Groupama Stadium</td>\n",
              "      <td>57 206</td>\n",
              "      <td>60</td>\n",
              "    </tr>\n",
              "    <tr>\n",
              "      <th>AS Saint-Étienne</th>\n",
              "      <td>2004</td>\n",
              "      <td>100</td>\n",
              "      <td>4e</td>\n",
              "      <td>Claude Puel</td>\n",
              "      <td>2019</td>\n",
              "      <td>Stade Geoffroy-Guichard</td>\n",
              "      <td>41 965</td>\n",
              "      <td>66</td>\n",
              "    </tr>\n",
              "    <tr>\n",
              "      <th>Olympique de Marseille</th>\n",
              "      <td>1996</td>\n",
              "      <td>110</td>\n",
              "      <td>5e</td>\n",
              "      <td>André Villas-Boas</td>\n",
              "      <td>2019</td>\n",
              "      <td>Orange Vélodrome</td>\n",
              "      <td>66 226</td>\n",
              "      <td>69</td>\n",
              "    </tr>\n",
              "  </tbody>\n",
              "</table>\n",
              "</div>"
            ]
          }
        }
      ],
      "source": [
        "data_participants.head()"
      ],
      "id": "6054022d-a149-427f-8173-221eacaf60d0"
    },
    {
      "cell_type": "markdown",
      "metadata": {},
      "source": [
        "## Pour aller plus loin\n",
        "\n",
        "### Récupération des localisations des stades\n",
        "\n",
        "Essayez de comprendre pas à pas ce qui est fait dans les étapes qui suivent (la récupération d’informations supplémentaires en naviguant dans les pages des différents clubs)."
      ],
      "id": "1b73212c-8302-4c21-913b-da5704899399"
    },
    {
      "cell_type": "code",
      "execution_count": 23,
      "metadata": {},
      "outputs": [
        {
          "output_type": "stream",
          "name": "stdout",
          "text": [
            "http://fr.wikipedia.org/wiki/Championnat_de_France_de_football_2019-2020"
          ]
        },
        {
          "output_type": "stream",
          "name": "stdout",
          "text": [
            "http://fr.wikipedia.org/wiki/Paris_Saint-Germain_Football_Club"
          ]
        },
        {
          "output_type": "stream",
          "name": "stdout",
          "text": [
            "http://fr.wikipedia.org/wiki/Parc_des_Princes"
          ]
        },
        {
          "output_type": "stream",
          "name": "stdout",
          "text": [
            "48° 50′ 29″ N, 2° 15′ 11″ E\n",
            "http://fr.wikipedia.org/wiki/LOSC_Lille"
          ]
        },
        {
          "output_type": "stream",
          "name": "stdout",
          "text": [
            "http://fr.wikipedia.org/wiki/Stade_Pierre-Mauroy"
          ]
        },
        {
          "output_type": "stream",
          "name": "stdout",
          "text": [
            "50° 36′ 43″ N, 3° 07′ 50″ E\n",
            "http://fr.wikipedia.org/wiki/Olympique_lyonnais"
          ]
        },
        {
          "output_type": "stream",
          "name": "stdout",
          "text": [
            "http://fr.wikipedia.org/wiki/Parc_Olympique_lyonnais"
          ]
        },
        {
          "output_type": "stream",
          "name": "stdout",
          "text": [
            "45° 45′ 55″ N, 4° 58′ 55″ E\n",
            "http://fr.wikipedia.org/wiki/Association_sportive_de_Saint-%C3%89tienne"
          ]
        },
        {
          "output_type": "stream",
          "name": "stdout",
          "text": [
            "http://fr.wikipedia.org/wiki/Stade_Geoffroy-Guichard"
          ]
        },
        {
          "output_type": "stream",
          "name": "stdout",
          "text": [
            "45° 27′ 39″ N, 4° 23′ 25″ E\n",
            "http://fr.wikipedia.org/wiki/Olympique_de_Marseille"
          ]
        },
        {
          "output_type": "stream",
          "name": "stdout",
          "text": [
            "http://fr.wikipedia.org/wiki/Orange_V%C3%A9lodrome"
          ]
        },
        {
          "output_type": "stream",
          "name": "stdout",
          "text": [
            "43° 16′ 11″ N, 5° 23′ 45″ E\n",
            "http://fr.wikipedia.org/wiki/Montpellier_H%C3%A9rault_Sport_Club"
          ]
        },
        {
          "output_type": "stream",
          "name": "stdout",
          "text": [
            "http://fr.wikipedia.org/wiki/Stade_de_la_Mosson"
          ]
        },
        {
          "output_type": "stream",
          "name": "stdout",
          "text": [
            "43° 37′ 19″ N, 3° 48′ 44″ E\n",
            "http://fr.wikipedia.org/wiki/Stade_de_Reims"
          ]
        },
        {
          "output_type": "stream",
          "name": "stdout",
          "text": [
            "http://fr.wikipedia.org/wiki/Stade_Auguste-Delaune\n",
            "49° 14′ 48″ N, 4° 01′ 30″ E\n",
            "http://fr.wikipedia.org/wiki/Olympique_Gymnaste_Club_Nice"
          ]
        },
        {
          "output_type": "stream",
          "name": "stdout",
          "text": [
            "http://fr.wikipedia.org/wiki/Allianz_Riviera"
          ]
        },
        {
          "output_type": "stream",
          "name": "stdout",
          "text": [
            "43° 42′ 18″ N, 7° 11′ 33″ E\n",
            "http://fr.wikipedia.org/wiki/N%C3%AEmes_Olympique"
          ]
        },
        {
          "output_type": "stream",
          "name": "stdout",
          "text": [
            "http://fr.wikipedia.org/wiki/Stade_des_Costi%C3%A8res\n",
            "43° 48′ 58″ N, 4° 21′ 33″ E\n",
            "http://fr.wikipedia.org/wiki/Racing_Club_de_Strasbourg_Alsace"
          ]
        },
        {
          "output_type": "stream",
          "name": "stdout",
          "text": [
            "http://fr.wikipedia.org/wiki/Stade_de_la_Meinau"
          ]
        },
        {
          "output_type": "stream",
          "name": "stdout",
          "text": [
            "48° 33′ 36″ N, 7° 45′ 18″ E\n",
            "http://fr.wikipedia.org/wiki/Stade_rennais_Football_Club"
          ]
        },
        {
          "output_type": "stream",
          "name": "stdout",
          "text": [
            "http://fr.wikipedia.org/wiki/Roazhon_Park"
          ]
        },
        {
          "output_type": "stream",
          "name": "stdout",
          "text": [
            "48° 06′ 27″ N, 1° 42′ 46″ O\n",
            "http://fr.wikipedia.org/wiki/Angers_sporting_club_de_l%27Ouest"
          ]
        },
        {
          "output_type": "stream",
          "name": "stdout",
          "text": [
            "http://fr.wikipedia.org/wiki/Stade_Raymond-Kopa\n",
            "47° 27′ 38″ N, 0° 31′ 51″ O\n",
            "http://fr.wikipedia.org/wiki/Football_Club_de_Metz"
          ]
        },
        {
          "output_type": "stream",
          "name": "stdout",
          "text": [
            "http://fr.wikipedia.org/wiki/Stade_Saint-Symphorien"
          ]
        },
        {
          "output_type": "stream",
          "name": "stdout",
          "text": [
            "49° 06′ 35″ N, 6° 09′ 33″ E\n",
            "http://fr.wikipedia.org/wiki/Football_Club_de_Nantes"
          ]
        },
        {
          "output_type": "stream",
          "name": "stdout",
          "text": [
            "http://fr.wikipedia.org/wiki/Stade_de_la_Beaujoire"
          ]
        },
        {
          "output_type": "stream",
          "name": "stdout",
          "text": [
            "47° 15′ 20″ N, 1° 31′ 31″ O\n",
            "http://fr.wikipedia.org/wiki/Stade_brestois_29"
          ]
        },
        {
          "output_type": "stream",
          "name": "stdout",
          "text": [
            "http://fr.wikipedia.org/wiki/Stade_Francis-Le_Bl%C3%A9\n",
            "48° 24′ 11″ N, 4° 27′ 42″ O\n",
            "http://fr.wikipedia.org/wiki/Football_Club_des_Girondins_de_Bordeaux"
          ]
        },
        {
          "output_type": "stream",
          "name": "stdout",
          "text": [
            "http://fr.wikipedia.org/wiki/Matmut_Atlantique"
          ]
        },
        {
          "output_type": "stream",
          "name": "stdout",
          "text": [
            "44° 53′ 50″ N, 0° 33′ 41″ O\n",
            "http://fr.wikipedia.org/wiki/Toulouse_Football_Club"
          ]
        },
        {
          "output_type": "stream",
          "name": "stdout",
          "text": [
            "http://fr.wikipedia.org/wiki/Stadium_de_Toulouse"
          ]
        },
        {
          "output_type": "stream",
          "name": "stdout",
          "text": [
            "43° 35′ 00″ N, 1° 26′ 03″ E\n",
            "http://fr.wikipedia.org/wiki/Amiens_Sporting_Club"
          ]
        },
        {
          "output_type": "stream",
          "name": "stdout",
          "text": [
            "http://fr.wikipedia.org/wiki/Stade_de_la_Licorne\n",
            "49° 53′ 38″ N, 2° 15′ 49″ E\n",
            "http://fr.wikipedia.org/wiki/Association_sportive_de_Monaco_football_club"
          ]
        },
        {
          "output_type": "stream",
          "name": "stdout",
          "text": [
            "http://fr.wikipedia.org/wiki/Stade_Louis-II\n",
            "43° 43′ 39″ N, 7° 24′ 56″ E\n",
            "http://fr.wikipedia.org/wiki/Dijon_Football_C%C3%B4te-d%27Or"
          ]
        },
        {
          "output_type": "stream",
          "name": "stdout",
          "text": [
            "http://fr.wikipedia.org/wiki/Stade_Gaston-G%C3%A9rard\n",
            "47° 19′ 28″ N, 5° 04′ 06″ E\n",
            "http://fr.wikipedia.org/wiki/Championnat_de_France_de_football_de_Ligue_2_2019-2020"
          ]
        },
        {
          "output_type": "stream",
          "name": "stdout",
          "text": [
            "http://fr.wikipedia.org/wiki/Athletic_Club_ajaccien"
          ]
        },
        {
          "output_type": "stream",
          "name": "stdout",
          "text": [
            "http://fr.wikipedia.org/wiki/Stade_Fran%C3%A7ois-Coty\n",
            "41° 55′ 51″ N, 8° 46′ 35″ E\n",
            "http://fr.wikipedia.org/wiki/Association_sportive_Nancy-Lorraine"
          ]
        },
        {
          "output_type": "stream",
          "name": "stdout",
          "text": [
            "http://fr.wikipedia.org/wiki/Stade_Marcel-Picot\n",
            "48° 41′ 43″ N, 6° 12′ 38″ E\n",
            "http://fr.wikipedia.org/wiki/Le_Havre_Athletic_Club_(football)"
          ]
        },
        {
          "output_type": "stream",
          "name": "stdout",
          "text": [
            "http://fr.wikipedia.org/wiki/Stade_Oc%C3%A9ane"
          ]
        },
        {
          "output_type": "stream",
          "name": "stdout",
          "text": [
            "49° 29′ 56″ N, 0° 10′ 11″ E\n",
            "http://fr.wikipedia.org/wiki/Stade_Malherbe_Caen_Calvados_Basse-Normandie"
          ]
        },
        {
          "output_type": "stream",
          "name": "stdout",
          "text": [
            "http://fr.wikipedia.org/wiki/Stade_Michel-d%27Ornano"
          ]
        },
        {
          "output_type": "stream",
          "name": "stdout",
          "text": [
            "49° 10′ 46″ N, 0° 23′ 48″ O\n",
            "http://fr.wikipedia.org/wiki/Clermont_Foot_63"
          ]
        },
        {
          "output_type": "stream",
          "name": "stdout",
          "text": [
            "http://fr.wikipedia.org/wiki/Stade_Gabriel-Montpied\n",
            "45° 48′ 57″ N, 3° 07′ 18″ E\n",
            "http://fr.wikipedia.org/wiki/En_Avant_de_Guingamp"
          ]
        },
        {
          "output_type": "stream",
          "name": "stdout",
          "text": [
            "http://fr.wikipedia.org/wiki/Stade_de_Roudourou\n",
            "48° 33′ 58″ N, 3° 09′ 52″ O\n",
            "http://fr.wikipedia.org/wiki/Football_Club_Lorient"
          ]
        },
        {
          "output_type": "stream",
          "name": "stdout",
          "text": [
            "http://fr.wikipedia.org/wiki/Stade_du_Moustoir\n",
            "47° 44′ 56″ N, 3° 22′ 09″ O\n",
            "http://fr.wikipedia.org/wiki/Paris_Football_Club"
          ]
        },
        {
          "output_type": "stream",
          "name": "stdout",
          "text": [
            "http://fr.wikipedia.org/wiki/Stade_Charl%C3%A9ty"
          ]
        },
        {
          "output_type": "stream",
          "name": "stdout",
          "text": [
            "48° 49′ 07″ N, 2° 20′ 47″ E\n",
            "http://fr.wikipedia.org/wiki/La_Berrichonne_de_Ch%C3%A2teauroux"
          ]
        },
        {
          "output_type": "stream",
          "name": "stdout",
          "text": [
            "http://fr.wikipedia.org/wiki/Stade_Gaston-Petit\n",
            "46° 48′ 07″ N, 1° 43′ 18″ E\n",
            "http://fr.wikipedia.org/wiki/Association_de_la_jeunesse_auxerroise"
          ]
        },
        {
          "output_type": "stream",
          "name": "stdout",
          "text": [
            "http://fr.wikipedia.org/wiki/Stade_de_l%27Abb%C3%A9-Deschamps\n",
            "47° 47′ 12″ N, 3° 35′ 19″ E\n",
            "http://fr.wikipedia.org/wiki/Union_sportive_Orl%C3%A9ans_Loiret_football"
          ]
        },
        {
          "output_type": "stream",
          "name": "stdout",
          "text": [
            "http://fr.wikipedia.org/wiki/Stade_de_la_Source\n",
            "47° 50′ 25″ N, 1° 56′ 28″ E\n",
            "http://fr.wikipedia.org/wiki/Valenciennes_Football_Club"
          ]
        },
        {
          "output_type": "stream",
          "name": "stdout",
          "text": [
            "http://fr.wikipedia.org/wiki/Stade_du_Hainaut\n",
            "50° 20′ 55″ N, 3° 31′ 56″ E\n",
            "http://fr.wikipedia.org/wiki/Chamois_niortais_Football_Club"
          ]
        },
        {
          "output_type": "stream",
          "name": "stdout",
          "text": [
            "http://fr.wikipedia.org/wiki/Stade_Ren%C3%A9-Gaillard\n",
            "46° 19′ 01″ N, 0° 29′ 21″ O\n",
            "http://fr.wikipedia.org/wiki/Grenoble_Foot_38"
          ]
        },
        {
          "output_type": "stream",
          "name": "stdout",
          "text": [
            "http://fr.wikipedia.org/wiki/Stade_des_Alpes"
          ]
        },
        {
          "output_type": "stream",
          "name": "stdout",
          "text": [
            "45° 11′ 15″ N, 5° 44′ 24″ E\n",
            "http://fr.wikipedia.org/wiki/Football_Club_Sochaux-Montb%C3%A9liard"
          ]
        },
        {
          "output_type": "stream",
          "name": "stdout",
          "text": [
            "http://fr.wikipedia.org/wiki/Stade_Auguste-Bonal\n",
            "47° 30′ 44″ N, 6° 48′ 41″ E\n",
            "http://fr.wikipedia.org/wiki/Rodez_Aveyron_Football"
          ]
        },
        {
          "output_type": "stream",
          "name": "stdout",
          "text": [
            "http://fr.wikipedia.org/wiki/Stade_Paul-Lignon\n",
            "44° 21′ 06″ N, 2° 33′ 49″ E\n",
            "http://fr.wikipedia.org/wiki/Football_Club_de_Chambly_Oise"
          ]
        },
        {
          "output_type": "stream",
          "name": "stdout",
          "text": [
            "http://fr.wikipedia.org/wiki/Stade_Walter_Luzi\n",
            "49° 10′ 45″ N, 2° 14′ 01″ E\n",
            "http://fr.wikipedia.org/wiki/Esp%C3%A9rance_sportive_Troyes_Aube_Champagne"
          ]
        },
        {
          "output_type": "stream",
          "name": "stdout",
          "text": [
            "http://fr.wikipedia.org/wiki/Stade_de_l%27Aube\n",
            "48° 18′ 27″ N, 4° 05′ 55″ E\n",
            "http://fr.wikipedia.org/wiki/Racing_Club_de_Lens"
          ]
        },
        {
          "output_type": "stream",
          "name": "stdout",
          "text": [
            "http://fr.wikipedia.org/wiki/Stade_Bollaert-Delelis"
          ]
        },
        {
          "output_type": "stream",
          "name": "stdout",
          "text": [
            "50° 25′ 58″ N, 2° 48′ 54″ E\n",
            "http://fr.wikipedia.org/wiki/Le_Mans_Football_Club"
          ]
        },
        {
          "output_type": "stream",
          "name": "stdout",
          "text": [
            "http://fr.wikipedia.org/wiki/Le_Mans_Arena\n",
            "47° 57′ 32″ N, 0° 13′ 29″ E"
          ]
        }
      ],
      "source": [
        "import urllib\n",
        "import pandas as pd\n",
        "import bs4 \n",
        "\n",
        "division=[]\n",
        "equipe=[]\n",
        "stade=[]\n",
        "latitude_stade=[]        \n",
        "longitude_stade=[]     \n",
        "\n",
        "def dms2dd(degrees, minutes, seconds, direction):\n",
        "    dd = float(degrees) + float(minutes)/60 + float(seconds)/(60*60);\n",
        "    if direction == 'S' or direction == 'O':\n",
        "        dd *= -1\n",
        "    return dd;\n",
        "\n",
        "url_list=[\"http://fr.wikipedia.org/wiki/Championnat_de_France_de_football_2019-2020\", \"http://fr.wikipedia.org/wiki/Championnat_de_France_de_football_de_Ligue_2_2019-2020\"]\n",
        "\n",
        "for url_ligue in url_list :\n",
        "       \n",
        "    print(url_ligue)\n",
        "    sock = urllib.request.urlopen(url_ligue).read() \n",
        "    page=bs4.BeautifulSoup(sock)\n",
        "\n",
        "# Rechercher les liens des équipes dans la liste disponible sur wikipedia \n",
        "\n",
        "    for team in page.findAll('span' , {'class' : 'toponyme'}) :  \n",
        "        \n",
        "        # Indiquer si c'est de la ligue 1 ou de la ligue 2\n",
        "        \n",
        "        if url_ligue==url_list[0] :\n",
        "            division.append(\"L1\")\n",
        "        else :\n",
        "            division.append(\"L2\")\n",
        "\n",
        "       # Trouver le nom et le lien de l'équipe\n",
        "            \n",
        "        if team.find('a')!=None :\n",
        "            team_url=team.find('a').get('href')\n",
        "            name_team=team.find('a').get('title')\n",
        "            equipe.append(name_team)\n",
        "            url_get_info = \"http://fr.wikipedia.org\"+team_url\n",
        "            print(url_get_info)\n",
        " \n",
        "       # aller sur la page de l'équipe\n",
        "           \n",
        "            search = urllib.request.urlopen(url_get_info).read()\n",
        "            search_team=bs4.BeautifulSoup(search)\n",
        "\n",
        "       # trouver le stade             \n",
        "            compteur = 0\n",
        "            for stadium in search_team.findAll('tr'):\n",
        "                for x in stadium.findAll('th' , {'scope' : 'row'} ) :\n",
        "                    if x.contents[0].string==\"Stade\" and compteur == 0:\n",
        "                        compteur = 1\n",
        "                        # trouver le lien du stade et son nom\n",
        "                        url_stade=stadium.findAll('a')[1].get('href')\n",
        "                        name_stadium=stadium.findAll('a')[1].get('title')\n",
        "                        stade.append(name_stadium)\n",
        "                        url_get_stade = \"http://fr.wikipedia.org\"+url_stade\n",
        "                        print(url_get_stade)\n",
        "                        \n",
        "                        # Aller sur la page du stade et trouver ses coodronnées géographiques\n",
        "                        \n",
        "                        search_stade = urllib.request.urlopen(url_get_stade).read()\n",
        "                        soup_stade=bs4.BeautifulSoup(search_stade) \n",
        "                        kartographer = soup_stade.find('a',{'class': \"mw-kartographer-maplink\"})\n",
        "                        if kartographer == None :\n",
        "                          latitude_stade.append(None)\n",
        "                          longitude_stade.append(None) \n",
        "                        else :\n",
        "                            for coordinates in kartographer :\n",
        "                                print(coordinates)\n",
        "                                liste =   coordinates.split(\",\")          \n",
        "                                latitude_stade.append(str(liste[0]).replace(\" \", \"\") + \"'\")\n",
        "                                longitude_stade.append(str(liste[1]).replace(\" \", \"\") + \"'\")\n",
        "                            \n",
        "\n",
        "dict = {'division' : division , 'equipe': equipe, 'stade': stade, 'latitude': latitude_stade, 'longitude' : longitude_stade}\n",
        "data = pd.DataFrame(dict)\n",
        "data = data.dropna()"
      ],
      "id": "db55170d-c02c-4853-bb76-a02021e59f48"
    },
    {
      "cell_type": "code",
      "execution_count": 24,
      "metadata": {},
      "outputs": [
        {
          "output_type": "display_data",
          "metadata": {},
          "data": {
            "text/html": [
              "<div>\n",
              "<style scoped>\n",
              "    .dataframe tbody tr th:only-of-type {\n",
              "        vertical-align: middle;\n",
              "    }\n",
              "\n",
              "    .dataframe tbody tr th {\n",
              "        vertical-align: top;\n",
              "    }\n",
              "\n",
              "    .dataframe thead th {\n",
              "        text-align: right;\n",
              "    }\n",
              "</style>\n",
              "<table border=\"1\" class=\"dataframe\">\n",
              "  <thead>\n",
              "    <tr style=\"text-align: right;\">\n",
              "      <th></th>\n",
              "      <th>division</th>\n",
              "      <th>equipe</th>\n",
              "      <th>stade</th>\n",
              "      <th>latitude</th>\n",
              "      <th>longitude</th>\n",
              "    </tr>\n",
              "  </thead>\n",
              "  <tbody>\n",
              "    <tr>\n",
              "      <th>0</th>\n",
              "      <td>L1</td>\n",
              "      <td>Paris Saint-Germain Football Club</td>\n",
              "      <td>Parc des Princes</td>\n",
              "      <td>48° 50′ 29″ N'</td>\n",
              "      <td>2° 15′ 11″ E'</td>\n",
              "    </tr>\n",
              "    <tr>\n",
              "      <th>1</th>\n",
              "      <td>L1</td>\n",
              "      <td>LOSC Lille</td>\n",
              "      <td>Stade Pierre-Mauroy</td>\n",
              "      <td>50° 36′ 43″ N'</td>\n",
              "      <td>3° 07′ 50″ E'</td>\n",
              "    </tr>\n",
              "    <tr>\n",
              "      <th>2</th>\n",
              "      <td>L1</td>\n",
              "      <td>Olympique lyonnais</td>\n",
              "      <td>Parc Olympique lyonnais</td>\n",
              "      <td>45° 45′ 55″ N'</td>\n",
              "      <td>4° 58′ 55″ E'</td>\n",
              "    </tr>\n",
              "    <tr>\n",
              "      <th>3</th>\n",
              "      <td>L1</td>\n",
              "      <td>Association sportive de Saint-Étienne</td>\n",
              "      <td>Stade Geoffroy-Guichard</td>\n",
              "      <td>45° 27′ 39″ N'</td>\n",
              "      <td>4° 23′ 25″ E'</td>\n",
              "    </tr>\n",
              "    <tr>\n",
              "      <th>4</th>\n",
              "      <td>L1</td>\n",
              "      <td>Olympique de Marseille</td>\n",
              "      <td>Orange Vélodrome</td>\n",
              "      <td>43° 16′ 11″ N'</td>\n",
              "      <td>5° 23′ 45″ E'</td>\n",
              "    </tr>\n",
              "  </tbody>\n",
              "</table>\n",
              "</div>"
            ]
          }
        }
      ],
      "source": [
        "data.head(5)"
      ],
      "id": "33d90299-f72e-4cd2-be36-124cdb1c988b"
    },
    {
      "cell_type": "markdown",
      "metadata": {},
      "source": [
        "On va transformer les coordonnées en degrés en coordonnées numériques\n",
        "afin d’être en mesure de faire une carte"
      ],
      "id": "0cee5cb3-7e41-4cbe-9fbf-8645a07f0a62"
    },
    {
      "cell_type": "code",
      "execution_count": 25,
      "metadata": {},
      "outputs": [],
      "source": [
        "import re\n",
        "\n",
        "def dms2dd(degrees, minutes, seconds, direction):\n",
        "    dd = float(degrees) + float(minutes)/60 + float(seconds)/(60*60);\n",
        "    if direction in ('S', 'O'):\n",
        "        dd *= -1\n",
        "    return dd\n",
        "\n",
        "def parse_dms(dms):\n",
        "    parts = re.split('[^\\d\\w]+', dms)\n",
        "    lat = dms2dd(parts[0], parts[1], parts[2], parts[3])\n",
        "    #lng = dms2dd(parts[4], parts[5], parts[6], parts[7])\n",
        "    return lat"
      ],
      "id": "4cd35a4b-e1e2-456b-aec2-5cdc4157eb95"
    },
    {
      "cell_type": "code",
      "execution_count": 26,
      "metadata": {},
      "outputs": [],
      "source": [
        "data['latitude'] = data['latitude'].apply(parse_dms)\n",
        "data['longitude'] = data['longitude'].apply(parse_dms)"
      ],
      "id": "7d5818fd-7311-4c2a-aad0-a11aa91e3f76"
    },
    {
      "cell_type": "markdown",
      "metadata": {},
      "source": [
        "Tous les éléments sont en place pour faire une belle carte à ce stade. On\n",
        "va utilisee `folium` pour celle-ci, qui est présenté dans la partie\n",
        "[visualisation](#cartotp).\n",
        "\n",
        "### Carte des stades avec `folium`"
      ],
      "id": "32da7363-a9f8-454c-bd8a-03c8fd2d12e7"
    },
    {
      "cell_type": "code",
      "execution_count": 27,
      "metadata": {},
      "outputs": [],
      "source": [
        "#!pip install geopandas\n",
        "import geopandas as gpd\n",
        "from pathlib import Path\n",
        "import folium\n",
        "\n",
        "gdf = gpd.GeoDataFrame(\n",
        "    data, geometry=gpd.points_from_xy(data.longitude, data.latitude))\n",
        "\n",
        "Path(\"leaflet\").mkdir(parents=True, exist_ok=True)\n",
        "\n",
        "center = gdf[['latitude', 'longitude']].mean().values.tolist()\n",
        "sw = gdf[['latitude', 'longitude']].min().values.tolist()\n",
        "ne = gdf[['latitude', 'longitude']].max().values.tolist()\n",
        "\n",
        "m = folium.Map(location = center, tiles='Stamen Toner')\n",
        "\n",
        "# I can add marker one by one on the map\n",
        "for i in range(0,len(gdf)):\n",
        "    folium.Marker([gdf.iloc[i]['latitude'], gdf.iloc[i]['longitude']], popup=gdf.iloc[i]['stade']).add_to(m) \n",
        "\n",
        "m.fit_bounds([sw, ne])"
      ],
      "id": "a0ec460b-13e0-4c17-8dd6-01f372c41d3f"
    },
    {
      "cell_type": "markdown",
      "metadata": {},
      "source": [
        "La carte obtenue doit ressembler à la suivante:\n",
        "\n",
        "{{< rawhtml >}}"
      ],
      "id": "49c0246e-d56d-4eb2-9d20-4e6a71883960"
    },
    {
      "cell_type": "code",
      "execution_count": 28,
      "metadata": {},
      "outputs": [
        {
          "output_type": "display_data",
          "metadata": {},
          "data": {
            "text/html": [
              "<div style=\"width:100%;\"><div style=\"position:relative;width:100%;height:0;padding-bottom:60%;\"><span style=\"color:#565656\">Make this Notebook Trusted to load map: File -> Trust Notebook</span><iframe srcdoc=\"&lt;!DOCTYPE html&gt;\n",
              "&lt;head&gt;    \n",
              "    &lt;meta http-equiv=&quot;content-type&quot; content=&quot;text/html; charset=UTF-8&quot; /&gt;\n",
              "    \n",
              "        &lt;script&gt;\n",
              "            L_NO_TOUCH = false;\n",
              "            L_DISABLE_3D = false;\n",
              "        &lt;/script&gt;\n",
              "    \n",
              "    &lt;style&gt;html, body {width: 100%;height: 100%;margin: 0;padding: 0;}&lt;/style&gt;\n",
              "    &lt;style&gt;#map {position:absolute;top:0;bottom:0;right:0;left:0;}&lt;/style&gt;\n",
              "    &lt;script src=&quot;https://cdn.jsdelivr.net/npm/leaflet@1.6.0/dist/leaflet.js&quot;&gt;&lt;/script&gt;\n",
              "    &lt;script src=&quot;https://code.jquery.com/jquery-1.12.4.min.js&quot;&gt;&lt;/script&gt;\n",
              "    &lt;script src=&quot;https://maxcdn.bootstrapcdn.com/bootstrap/3.2.0/js/bootstrap.min.js&quot;&gt;&lt;/script&gt;\n",
              "    &lt;script src=&quot;https://cdnjs.cloudflare.com/ajax/libs/Leaflet.awesome-markers/2.0.2/leaflet.awesome-markers.js&quot;&gt;&lt;/script&gt;\n",
              "    &lt;link rel=&quot;stylesheet&quot; href=&quot;https://cdn.jsdelivr.net/npm/leaflet@1.6.0/dist/leaflet.css&quot;/&gt;\n",
              "    &lt;link rel=&quot;stylesheet&quot; href=&quot;https://maxcdn.bootstrapcdn.com/bootstrap/3.2.0/css/bootstrap.min.css&quot;/&gt;\n",
              "    &lt;link rel=&quot;stylesheet&quot; href=&quot;https://maxcdn.bootstrapcdn.com/bootstrap/3.2.0/css/bootstrap-theme.min.css&quot;/&gt;\n",
              "    &lt;link rel=&quot;stylesheet&quot; href=&quot;https://maxcdn.bootstrapcdn.com/font-awesome/4.6.3/css/font-awesome.min.css&quot;/&gt;\n",
              "    &lt;link rel=&quot;stylesheet&quot; href=&quot;https://cdnjs.cloudflare.com/ajax/libs/Leaflet.awesome-markers/2.0.2/leaflet.awesome-markers.css&quot;/&gt;\n",
              "    &lt;link rel=&quot;stylesheet&quot; href=&quot;https://cdn.jsdelivr.net/gh/python-visualization/folium/folium/templates/leaflet.awesome.rotate.min.css&quot;/&gt;\n",
              "    \n",
              "            &lt;meta name=&quot;viewport&quot; content=&quot;width=device-width,\n",
              "                initial-scale=1.0, maximum-scale=1.0, user-scalable=no&quot; /&gt;\n",
              "            &lt;style&gt;\n",
              "                #map_9f95a084056219ffdb1abea98e72cbfa {\n",
              "                    position: relative;\n",
              "                    width: 100.0%;\n",
              "                    height: 100.0%;\n",
              "                    left: 0.0%;\n",
              "                    top: 0.0%;\n",
              "                }\n",
              "            &lt;/style&gt;\n",
              "        \n",
              "&lt;/head&gt;\n",
              "&lt;body&gt;    \n",
              "    \n",
              "            &lt;div class=&quot;folium-map&quot; id=&quot;map_9f95a084056219ffdb1abea98e72cbfa&quot; &gt;&lt;/div&gt;\n",
              "        \n",
              "&lt;/body&gt;\n",
              "&lt;script&gt;    \n",
              "    \n",
              "            var map_9f95a084056219ffdb1abea98e72cbfa = L.map(\n",
              "                &quot;map_9f95a084056219ffdb1abea98e72cbfa&quot;,\n",
              "                {\n",
              "                    center: [47.12349305555556, 2.733006944444445],\n",
              "                    crs: L.CRS.EPSG3857,\n",
              "                    zoom: 10,\n",
              "                    zoomControl: true,\n",
              "                    preferCanvas: false,\n",
              "                }\n",
              "            );\n",
              "\n",
              "            \n",
              "\n",
              "        \n",
              "    \n",
              "            var tile_layer_9c3a5224a87376f94293a4a56bde50f2 = L.tileLayer(\n",
              "                &quot;https://stamen-tiles-{s}.a.ssl.fastly.net/toner/{z}/{x}/{y}.png&quot;,\n",
              "                {&quot;attribution&quot;: &quot;Map tiles by \\u003ca href=\\&quot;http://stamen.com\\&quot;\\u003eStamen Design\\u003c/a\\u003e, under \\u003ca href=\\&quot;http://creativecommons.org/licenses/by/3.0\\&quot;\\u003eCC BY 3.0\\u003c/a\\u003e. Data by \\u0026copy; \\u003ca href=\\&quot;http://openstreetmap.org\\&quot;\\u003eOpenStreetMap\\u003c/a\\u003e, under \\u003ca href=\\&quot;http://www.openstreetmap.org/copyright\\&quot;\\u003eODbL\\u003c/a\\u003e.&quot;, &quot;detectRetina&quot;: false, &quot;maxNativeZoom&quot;: 18, &quot;maxZoom&quot;: 18, &quot;minZoom&quot;: 0, &quot;noWrap&quot;: false, &quot;opacity&quot;: 1, &quot;subdomains&quot;: &quot;abc&quot;, &quot;tms&quot;: false}\n",
              "            ).addTo(map_9f95a084056219ffdb1abea98e72cbfa);\n",
              "        \n",
              "    \n",
              "            var marker_0e0bffc3542176f235520dbf1b00a8b1 = L.marker(\n",
              "                [48.84138888888889, 2.2530555555555556],\n",
              "                {}\n",
              "            ).addTo(map_9f95a084056219ffdb1abea98e72cbfa);\n",
              "        \n",
              "    \n",
              "        var popup_167e37c7c4cb31b56382b2a6c886fd0a = L.popup({&quot;maxWidth&quot;: &quot;100%&quot;});\n",
              "\n",
              "        \n",
              "            var html_205e14b180514abe63f8ac3ab93b8bab = $(`&lt;div id=&quot;html_205e14b180514abe63f8ac3ab93b8bab&quot; style=&quot;width: 100.0%; height: 100.0%;&quot;&gt;Parc des Princes&lt;/div&gt;`)[0];\n",
              "            popup_167e37c7c4cb31b56382b2a6c886fd0a.setContent(html_205e14b180514abe63f8ac3ab93b8bab);\n",
              "        \n",
              "\n",
              "        marker_0e0bffc3542176f235520dbf1b00a8b1.bindPopup(popup_167e37c7c4cb31b56382b2a6c886fd0a)\n",
              "        ;\n",
              "\n",
              "        \n",
              "    \n",
              "    \n",
              "            var marker_912c5c3e29d1bff9a910e13d6ed58141 = L.marker(\n",
              "                [50.61194444444445, 3.1305555555555555],\n",
              "                {}\n",
              "            ).addTo(map_9f95a084056219ffdb1abea98e72cbfa);\n",
              "        \n",
              "    \n",
              "        var popup_dab7666c96ffec967ead39435c65e069 = L.popup({&quot;maxWidth&quot;: &quot;100%&quot;});\n",
              "\n",
              "        \n",
              "            var html_e4534860500ff19e32833a17ac54e218 = $(`&lt;div id=&quot;html_e4534860500ff19e32833a17ac54e218&quot; style=&quot;width: 100.0%; height: 100.0%;&quot;&gt;Stade Pierre-Mauroy&lt;/div&gt;`)[0];\n",
              "            popup_dab7666c96ffec967ead39435c65e069.setContent(html_e4534860500ff19e32833a17ac54e218);\n",
              "        \n",
              "\n",
              "        marker_912c5c3e29d1bff9a910e13d6ed58141.bindPopup(popup_dab7666c96ffec967ead39435c65e069)\n",
              "        ;\n",
              "\n",
              "        \n",
              "    \n",
              "    \n",
              "            var marker_61714d58098319b8a9950ef1b28e0da7 = L.marker(\n",
              "                [45.765277777777776, 4.981944444444444],\n",
              "                {}\n",
              "            ).addTo(map_9f95a084056219ffdb1abea98e72cbfa);\n",
              "        \n",
              "    \n",
              "        var popup_911d496ac35f10e1a260a49256e1bc05 = L.popup({&quot;maxWidth&quot;: &quot;100%&quot;});\n",
              "\n",
              "        \n",
              "            var html_ab17ccad751b8bc56379dc77d1f01ef1 = $(`&lt;div id=&quot;html_ab17ccad751b8bc56379dc77d1f01ef1&quot; style=&quot;width: 100.0%; height: 100.0%;&quot;&gt;Parc Olympique lyonnais&lt;/div&gt;`)[0];\n",
              "            popup_911d496ac35f10e1a260a49256e1bc05.setContent(html_ab17ccad751b8bc56379dc77d1f01ef1);\n",
              "        \n",
              "\n",
              "        marker_61714d58098319b8a9950ef1b28e0da7.bindPopup(popup_911d496ac35f10e1a260a49256e1bc05)\n",
              "        ;\n",
              "\n",
              "        \n",
              "    \n",
              "    \n",
              "            var marker_a6d516a41886ff5d6fc69c54d29ae1e5 = L.marker(\n",
              "                [45.46083333333333, 4.390277777777778],\n",
              "                {}\n",
              "            ).addTo(map_9f95a084056219ffdb1abea98e72cbfa);\n",
              "        \n",
              "    \n",
              "        var popup_008d59e0dfedc7c2e12be8c693a10bca = L.popup({&quot;maxWidth&quot;: &quot;100%&quot;});\n",
              "\n",
              "        \n",
              "            var html_924fb41276c49899a5127016675ff559 = $(`&lt;div id=&quot;html_924fb41276c49899a5127016675ff559&quot; style=&quot;width: 100.0%; height: 100.0%;&quot;&gt;Stade Geoffroy-Guichard&lt;/div&gt;`)[0];\n",
              "            popup_008d59e0dfedc7c2e12be8c693a10bca.setContent(html_924fb41276c49899a5127016675ff559);\n",
              "        \n",
              "\n",
              "        marker_a6d516a41886ff5d6fc69c54d29ae1e5.bindPopup(popup_008d59e0dfedc7c2e12be8c693a10bca)\n",
              "        ;\n",
              "\n",
              "        \n",
              "    \n",
              "    \n",
              "            var marker_e278d976f2de09e8d73aa787f4185e6c = L.marker(\n",
              "                [43.26972222222222, 5.395833333333334],\n",
              "                {}\n",
              "            ).addTo(map_9f95a084056219ffdb1abea98e72cbfa);\n",
              "        \n",
              "    \n",
              "        var popup_5aaeacd24c717a02a52c836116546a7c = L.popup({&quot;maxWidth&quot;: &quot;100%&quot;});\n",
              "\n",
              "        \n",
              "            var html_dfe0761e4d9e25876223e3aaa86690c0 = $(`&lt;div id=&quot;html_dfe0761e4d9e25876223e3aaa86690c0&quot; style=&quot;width: 100.0%; height: 100.0%;&quot;&gt;Orange Vélodrome&lt;/div&gt;`)[0];\n",
              "            popup_5aaeacd24c717a02a52c836116546a7c.setContent(html_dfe0761e4d9e25876223e3aaa86690c0);\n",
              "        \n",
              "\n",
              "        marker_e278d976f2de09e8d73aa787f4185e6c.bindPopup(popup_5aaeacd24c717a02a52c836116546a7c)\n",
              "        ;\n",
              "\n",
              "        \n",
              "    \n",
              "    \n",
              "            var marker_54c3dc35f60aa3cae958a20daa50b444 = L.marker(\n",
              "                [43.621944444444445, 3.812222222222222],\n",
              "                {}\n",
              "            ).addTo(map_9f95a084056219ffdb1abea98e72cbfa);\n",
              "        \n",
              "    \n",
              "        var popup_ad8c128d75674babd2af57045b3a4e95 = L.popup({&quot;maxWidth&quot;: &quot;100%&quot;});\n",
              "\n",
              "        \n",
              "            var html_d5b62ea627152b13b19f107f4b82d2e4 = $(`&lt;div id=&quot;html_d5b62ea627152b13b19f107f4b82d2e4&quot; style=&quot;width: 100.0%; height: 100.0%;&quot;&gt;Stade de la Mosson&lt;/div&gt;`)[0];\n",
              "            popup_ad8c128d75674babd2af57045b3a4e95.setContent(html_d5b62ea627152b13b19f107f4b82d2e4);\n",
              "        \n",
              "\n",
              "        marker_54c3dc35f60aa3cae958a20daa50b444.bindPopup(popup_ad8c128d75674babd2af57045b3a4e95)\n",
              "        ;\n",
              "\n",
              "        \n",
              "    \n",
              "    \n",
              "            var marker_e39f98a629321385188b0a14cd12fa94 = L.marker(\n",
              "                [49.24666666666667, 4.025],\n",
              "                {}\n",
              "            ).addTo(map_9f95a084056219ffdb1abea98e72cbfa);\n",
              "        \n",
              "    \n",
              "        var popup_72cd0e713ec3eaad8d647712c03b2234 = L.popup({&quot;maxWidth&quot;: &quot;100%&quot;});\n",
              "\n",
              "        \n",
              "            var html_823eabc9c640e08b22943ac2c85ee3f1 = $(`&lt;div id=&quot;html_823eabc9c640e08b22943ac2c85ee3f1&quot; style=&quot;width: 100.0%; height: 100.0%;&quot;&gt;Stade Auguste-Delaune&lt;/div&gt;`)[0];\n",
              "            popup_72cd0e713ec3eaad8d647712c03b2234.setContent(html_823eabc9c640e08b22943ac2c85ee3f1);\n",
              "        \n",
              "\n",
              "        marker_e39f98a629321385188b0a14cd12fa94.bindPopup(popup_72cd0e713ec3eaad8d647712c03b2234)\n",
              "        ;\n",
              "\n",
              "        \n",
              "    \n",
              "    \n",
              "            var marker_74ee06a19605084fad50dd5f66cf48dc = L.marker(\n",
              "                [43.705000000000005, 7.1925],\n",
              "                {}\n",
              "            ).addTo(map_9f95a084056219ffdb1abea98e72cbfa);\n",
              "        \n",
              "    \n",
              "        var popup_0ef3e3a59e50296db5849a318ec517b5 = L.popup({&quot;maxWidth&quot;: &quot;100%&quot;});\n",
              "\n",
              "        \n",
              "            var html_f3d434bbf25cb43cac7bd67c89fef651 = $(`&lt;div id=&quot;html_f3d434bbf25cb43cac7bd67c89fef651&quot; style=&quot;width: 100.0%; height: 100.0%;&quot;&gt;Allianz Riviera&lt;/div&gt;`)[0];\n",
              "            popup_0ef3e3a59e50296db5849a318ec517b5.setContent(html_f3d434bbf25cb43cac7bd67c89fef651);\n",
              "        \n",
              "\n",
              "        marker_74ee06a19605084fad50dd5f66cf48dc.bindPopup(popup_0ef3e3a59e50296db5849a318ec517b5)\n",
              "        ;\n",
              "\n",
              "        \n",
              "    \n",
              "    \n",
              "            var marker_a5736ff8b4c2c7f095dc22038f38d9b9 = L.marker(\n",
              "                [43.816111111111105, 4.359166666666666],\n",
              "                {}\n",
              "            ).addTo(map_9f95a084056219ffdb1abea98e72cbfa);\n",
              "        \n",
              "    \n",
              "        var popup_00e0dd6b10e9d645d2bab523e0baad98 = L.popup({&quot;maxWidth&quot;: &quot;100%&quot;});\n",
              "\n",
              "        \n",
              "            var html_8454b468f7d2766f3084541eeaeae421 = $(`&lt;div id=&quot;html_8454b468f7d2766f3084541eeaeae421&quot; style=&quot;width: 100.0%; height: 100.0%;&quot;&gt;Stade des Costières&lt;/div&gt;`)[0];\n",
              "            popup_00e0dd6b10e9d645d2bab523e0baad98.setContent(html_8454b468f7d2766f3084541eeaeae421);\n",
              "        \n",
              "\n",
              "        marker_a5736ff8b4c2c7f095dc22038f38d9b9.bindPopup(popup_00e0dd6b10e9d645d2bab523e0baad98)\n",
              "        ;\n",
              "\n",
              "        \n",
              "    \n",
              "    \n",
              "            var marker_d4383e7b561a950beda43ece19cc2527 = L.marker(\n",
              "                [48.559999999999995, 7.755],\n",
              "                {}\n",
              "            ).addTo(map_9f95a084056219ffdb1abea98e72cbfa);\n",
              "        \n",
              "    \n",
              "        var popup_8e1a299236098c03337ef9a5d74dea2d = L.popup({&quot;maxWidth&quot;: &quot;100%&quot;});\n",
              "\n",
              "        \n",
              "            var html_70ed7dfa210b88617de67dc15bd987ee = $(`&lt;div id=&quot;html_70ed7dfa210b88617de67dc15bd987ee&quot; style=&quot;width: 100.0%; height: 100.0%;&quot;&gt;Stade de la Meinau&lt;/div&gt;`)[0];\n",
              "            popup_8e1a299236098c03337ef9a5d74dea2d.setContent(html_70ed7dfa210b88617de67dc15bd987ee);\n",
              "        \n",
              "\n",
              "        marker_d4383e7b561a950beda43ece19cc2527.bindPopup(popup_8e1a299236098c03337ef9a5d74dea2d)\n",
              "        ;\n",
              "\n",
              "        \n",
              "    \n",
              "    \n",
              "            var marker_cc36b80eedbe95cc3613b4aeca038316 = L.marker(\n",
              "                [48.1075, -1.7127777777777777],\n",
              "                {}\n",
              "            ).addTo(map_9f95a084056219ffdb1abea98e72cbfa);\n",
              "        \n",
              "    \n",
              "        var popup_c4ef5ebf7a91ae75b4802ccebc4bb4fe = L.popup({&quot;maxWidth&quot;: &quot;100%&quot;});\n",
              "\n",
              "        \n",
              "            var html_61d63de7aef081201de556ce02b77fea = $(`&lt;div id=&quot;html_61d63de7aef081201de556ce02b77fea&quot; style=&quot;width: 100.0%; height: 100.0%;&quot;&gt;Roazhon Park&lt;/div&gt;`)[0];\n",
              "            popup_c4ef5ebf7a91ae75b4802ccebc4bb4fe.setContent(html_61d63de7aef081201de556ce02b77fea);\n",
              "        \n",
              "\n",
              "        marker_cc36b80eedbe95cc3613b4aeca038316.bindPopup(popup_c4ef5ebf7a91ae75b4802ccebc4bb4fe)\n",
              "        ;\n",
              "\n",
              "        \n",
              "    \n",
              "    \n",
              "            var marker_49c3be5dfe158ad0ae1c14e742641f2b = L.marker(\n",
              "                [47.46055555555556, -0.5308333333333334],\n",
              "                {}\n",
              "            ).addTo(map_9f95a084056219ffdb1abea98e72cbfa);\n",
              "        \n",
              "    \n",
              "        var popup_e81240500f1f57bc3faa97b2d8569110 = L.popup({&quot;maxWidth&quot;: &quot;100%&quot;});\n",
              "\n",
              "        \n",
              "            var html_68e1729e9a810cc6614f48153183c2d0 = $(`&lt;div id=&quot;html_68e1729e9a810cc6614f48153183c2d0&quot; style=&quot;width: 100.0%; height: 100.0%;&quot;&gt;Stade Raymond-Kopa&lt;/div&gt;`)[0];\n",
              "            popup_e81240500f1f57bc3faa97b2d8569110.setContent(html_68e1729e9a810cc6614f48153183c2d0);\n",
              "        \n",
              "\n",
              "        marker_49c3be5dfe158ad0ae1c14e742641f2b.bindPopup(popup_e81240500f1f57bc3faa97b2d8569110)\n",
              "        ;\n",
              "\n",
              "        \n",
              "    \n",
              "    \n",
              "            var marker_e82be4991bee30f414fe34186201de4e = L.marker(\n",
              "                [49.109722222222224, 6.159166666666667],\n",
              "                {}\n",
              "            ).addTo(map_9f95a084056219ffdb1abea98e72cbfa);\n",
              "        \n",
              "    \n",
              "        var popup_3e31373475a15ab31f2b5225958577d7 = L.popup({&quot;maxWidth&quot;: &quot;100%&quot;});\n",
              "\n",
              "        \n",
              "            var html_6ed2f775d77dbec73c8c4206025ca707 = $(`&lt;div id=&quot;html_6ed2f775d77dbec73c8c4206025ca707&quot; style=&quot;width: 100.0%; height: 100.0%;&quot;&gt;Stade Saint-Symphorien&lt;/div&gt;`)[0];\n",
              "            popup_3e31373475a15ab31f2b5225958577d7.setContent(html_6ed2f775d77dbec73c8c4206025ca707);\n",
              "        \n",
              "\n",
              "        marker_e82be4991bee30f414fe34186201de4e.bindPopup(popup_3e31373475a15ab31f2b5225958577d7)\n",
              "        ;\n",
              "\n",
              "        \n",
              "    \n",
              "    \n",
              "            var marker_f7bcf2d3a1086bda898f57e67724906e = L.marker(\n",
              "                [47.25555555555555, -1.5252777777777777],\n",
              "                {}\n",
              "            ).addTo(map_9f95a084056219ffdb1abea98e72cbfa);\n",
              "        \n",
              "    \n",
              "        var popup_f751621269c146341fdf32177e5cb444 = L.popup({&quot;maxWidth&quot;: &quot;100%&quot;});\n",
              "\n",
              "        \n",
              "            var html_ee8543d2b031aea79dca48ebda90f102 = $(`&lt;div id=&quot;html_ee8543d2b031aea79dca48ebda90f102&quot; style=&quot;width: 100.0%; height: 100.0%;&quot;&gt;Stade de la Beaujoire&lt;/div&gt;`)[0];\n",
              "            popup_f751621269c146341fdf32177e5cb444.setContent(html_ee8543d2b031aea79dca48ebda90f102);\n",
              "        \n",
              "\n",
              "        marker_f7bcf2d3a1086bda898f57e67724906e.bindPopup(popup_f751621269c146341fdf32177e5cb444)\n",
              "        ;\n",
              "\n",
              "        \n",
              "    \n",
              "    \n",
              "            var marker_f63090bd566fdc7ecf42b1f6141c3bb3 = L.marker(\n",
              "                [48.403055555555554, -4.461666666666667],\n",
              "                {}\n",
              "            ).addTo(map_9f95a084056219ffdb1abea98e72cbfa);\n",
              "        \n",
              "    \n",
              "        var popup_b806d56b0049c27da3d147f575f0e6bd = L.popup({&quot;maxWidth&quot;: &quot;100%&quot;});\n",
              "\n",
              "        \n",
              "            var html_ceb7eb64e81385e3cb78506c0f6394dd = $(`&lt;div id=&quot;html_ceb7eb64e81385e3cb78506c0f6394dd&quot; style=&quot;width: 100.0%; height: 100.0%;&quot;&gt;Stade Francis-Le Blé&lt;/div&gt;`)[0];\n",
              "            popup_b806d56b0049c27da3d147f575f0e6bd.setContent(html_ceb7eb64e81385e3cb78506c0f6394dd);\n",
              "        \n",
              "\n",
              "        marker_f63090bd566fdc7ecf42b1f6141c3bb3.bindPopup(popup_b806d56b0049c27da3d147f575f0e6bd)\n",
              "        ;\n",
              "\n",
              "        \n",
              "    \n",
              "    \n",
              "            var marker_82057be65b623c37b613db3cd0e63331 = L.marker(\n",
              "                [44.89722222222222, -0.5613888888888889],\n",
              "                {}\n",
              "            ).addTo(map_9f95a084056219ffdb1abea98e72cbfa);\n",
              "        \n",
              "    \n",
              "        var popup_c8b2e77d8b79b82c712752fb339e96c1 = L.popup({&quot;maxWidth&quot;: &quot;100%&quot;});\n",
              "\n",
              "        \n",
              "            var html_7698fdf9fcdc7cdb1c656de5d9226534 = $(`&lt;div id=&quot;html_7698fdf9fcdc7cdb1c656de5d9226534&quot; style=&quot;width: 100.0%; height: 100.0%;&quot;&gt;Matmut Atlantique&lt;/div&gt;`)[0];\n",
              "            popup_c8b2e77d8b79b82c712752fb339e96c1.setContent(html_7698fdf9fcdc7cdb1c656de5d9226534);\n",
              "        \n",
              "\n",
              "        marker_82057be65b623c37b613db3cd0e63331.bindPopup(popup_c8b2e77d8b79b82c712752fb339e96c1)\n",
              "        ;\n",
              "\n",
              "        \n",
              "    \n",
              "    \n",
              "            var marker_c48cdaf99c46ee3ee11fe721c51c25dc = L.marker(\n",
              "                [43.583333333333336, 1.4341666666666666],\n",
              "                {}\n",
              "            ).addTo(map_9f95a084056219ffdb1abea98e72cbfa);\n",
              "        \n",
              "    \n",
              "        var popup_4cd02fe3bff768961e364767d695bba4 = L.popup({&quot;maxWidth&quot;: &quot;100%&quot;});\n",
              "\n",
              "        \n",
              "            var html_871e64acb457ec692461fb40a07193da = $(`&lt;div id=&quot;html_871e64acb457ec692461fb40a07193da&quot; style=&quot;width: 100.0%; height: 100.0%;&quot;&gt;Stadium de Toulouse&lt;/div&gt;`)[0];\n",
              "            popup_4cd02fe3bff768961e364767d695bba4.setContent(html_871e64acb457ec692461fb40a07193da);\n",
              "        \n",
              "\n",
              "        marker_c48cdaf99c46ee3ee11fe721c51c25dc.bindPopup(popup_4cd02fe3bff768961e364767d695bba4)\n",
              "        ;\n",
              "\n",
              "        \n",
              "    \n",
              "    \n",
              "            var marker_a4d758709a6a7def867bb7ac0024b482 = L.marker(\n",
              "                [49.89388888888889, 2.263611111111111],\n",
              "                {}\n",
              "            ).addTo(map_9f95a084056219ffdb1abea98e72cbfa);\n",
              "        \n",
              "    \n",
              "        var popup_8d0f873c37fc60a22592f7fb931292c9 = L.popup({&quot;maxWidth&quot;: &quot;100%&quot;});\n",
              "\n",
              "        \n",
              "            var html_3d750167b82a4003dbd7d2d9cf7d20fd = $(`&lt;div id=&quot;html_3d750167b82a4003dbd7d2d9cf7d20fd&quot; style=&quot;width: 100.0%; height: 100.0%;&quot;&gt;Stade de la Licorne&lt;/div&gt;`)[0];\n",
              "            popup_8d0f873c37fc60a22592f7fb931292c9.setContent(html_3d750167b82a4003dbd7d2d9cf7d20fd);\n",
              "        \n",
              "\n",
              "        marker_a4d758709a6a7def867bb7ac0024b482.bindPopup(popup_8d0f873c37fc60a22592f7fb931292c9)\n",
              "        ;\n",
              "\n",
              "        \n",
              "    \n",
              "    \n",
              "            var marker_65dc7aec395bc5c0be2df6aaf58449d9 = L.marker(\n",
              "                [43.7275, 7.415555555555556],\n",
              "                {}\n",
              "            ).addTo(map_9f95a084056219ffdb1abea98e72cbfa);\n",
              "        \n",
              "    \n",
              "        var popup_81f92218e3a1b01eabe9a26c96839c61 = L.popup({&quot;maxWidth&quot;: &quot;100%&quot;});\n",
              "\n",
              "        \n",
              "            var html_2aeacdc94adc126b7a074092a1d5c3a6 = $(`&lt;div id=&quot;html_2aeacdc94adc126b7a074092a1d5c3a6&quot; style=&quot;width: 100.0%; height: 100.0%;&quot;&gt;Stade Louis-II&lt;/div&gt;`)[0];\n",
              "            popup_81f92218e3a1b01eabe9a26c96839c61.setContent(html_2aeacdc94adc126b7a074092a1d5c3a6);\n",
              "        \n",
              "\n",
              "        marker_65dc7aec395bc5c0be2df6aaf58449d9.bindPopup(popup_81f92218e3a1b01eabe9a26c96839c61)\n",
              "        ;\n",
              "\n",
              "        \n",
              "    \n",
              "    \n",
              "            var marker_9e9c215d9c0f95e16efb19f9f56fdb0e = L.marker(\n",
              "                [47.324444444444445, 5.068333333333333],\n",
              "                {}\n",
              "            ).addTo(map_9f95a084056219ffdb1abea98e72cbfa);\n",
              "        \n",
              "    \n",
              "        var popup_492f0b08ea2ff42947eb583c07d94648 = L.popup({&quot;maxWidth&quot;: &quot;100%&quot;});\n",
              "\n",
              "        \n",
              "            var html_9317cba5ce9b60e968b921de0c08168d = $(`&lt;div id=&quot;html_9317cba5ce9b60e968b921de0c08168d&quot; style=&quot;width: 100.0%; height: 100.0%;&quot;&gt;Stade Gaston-Gérard&lt;/div&gt;`)[0];\n",
              "            popup_492f0b08ea2ff42947eb583c07d94648.setContent(html_9317cba5ce9b60e968b921de0c08168d);\n",
              "        \n",
              "\n",
              "        marker_9e9c215d9c0f95e16efb19f9f56fdb0e.bindPopup(popup_492f0b08ea2ff42947eb583c07d94648)\n",
              "        ;\n",
              "\n",
              "        \n",
              "    \n",
              "    \n",
              "            var marker_93dd0f45b952424359623f4b7ae26c53 = L.marker(\n",
              "                [41.93083333333333, 8.77638888888889],\n",
              "                {}\n",
              "            ).addTo(map_9f95a084056219ffdb1abea98e72cbfa);\n",
              "        \n",
              "    \n",
              "        var popup_22af02e10d762a054e3aac27a290c522 = L.popup({&quot;maxWidth&quot;: &quot;100%&quot;});\n",
              "\n",
              "        \n",
              "            var html_450e218557e179592a9e9286836bf7d6 = $(`&lt;div id=&quot;html_450e218557e179592a9e9286836bf7d6&quot; style=&quot;width: 100.0%; height: 100.0%;&quot;&gt;Stade François-Coty&lt;/div&gt;`)[0];\n",
              "            popup_22af02e10d762a054e3aac27a290c522.setContent(html_450e218557e179592a9e9286836bf7d6);\n",
              "        \n",
              "\n",
              "        marker_93dd0f45b952424359623f4b7ae26c53.bindPopup(popup_22af02e10d762a054e3aac27a290c522)\n",
              "        ;\n",
              "\n",
              "        \n",
              "    \n",
              "    \n",
              "            var marker_927b3a57a5282f656c1aa998ea665521 = L.marker(\n",
              "                [48.695277777777775, 6.210555555555556],\n",
              "                {}\n",
              "            ).addTo(map_9f95a084056219ffdb1abea98e72cbfa);\n",
              "        \n",
              "    \n",
              "        var popup_b0b1793b0eb78657181e97fd1fea79ca = L.popup({&quot;maxWidth&quot;: &quot;100%&quot;});\n",
              "\n",
              "        \n",
              "            var html_d9c04adb020eb44cea5ba34f5ea6a10b = $(`&lt;div id=&quot;html_d9c04adb020eb44cea5ba34f5ea6a10b&quot; style=&quot;width: 100.0%; height: 100.0%;&quot;&gt;Stade Marcel-Picot&lt;/div&gt;`)[0];\n",
              "            popup_b0b1793b0eb78657181e97fd1fea79ca.setContent(html_d9c04adb020eb44cea5ba34f5ea6a10b);\n",
              "        \n",
              "\n",
              "        marker_927b3a57a5282f656c1aa998ea665521.bindPopup(popup_b0b1793b0eb78657181e97fd1fea79ca)\n",
              "        ;\n",
              "\n",
              "        \n",
              "    \n",
              "    \n",
              "            var marker_540c3d0b3531746c852ab80f701ba27d = L.marker(\n",
              "                [49.49888888888889, 0.16972222222222222],\n",
              "                {}\n",
              "            ).addTo(map_9f95a084056219ffdb1abea98e72cbfa);\n",
              "        \n",
              "    \n",
              "        var popup_1c1a8e706669a053bf5dc4cfdd013cd4 = L.popup({&quot;maxWidth&quot;: &quot;100%&quot;});\n",
              "\n",
              "        \n",
              "            var html_fa9f1b30d8e989d6753a97550e42b96e = $(`&lt;div id=&quot;html_fa9f1b30d8e989d6753a97550e42b96e&quot; style=&quot;width: 100.0%; height: 100.0%;&quot;&gt;Stade Océane&lt;/div&gt;`)[0];\n",
              "            popup_1c1a8e706669a053bf5dc4cfdd013cd4.setContent(html_fa9f1b30d8e989d6753a97550e42b96e);\n",
              "        \n",
              "\n",
              "        marker_540c3d0b3531746c852ab80f701ba27d.bindPopup(popup_1c1a8e706669a053bf5dc4cfdd013cd4)\n",
              "        ;\n",
              "\n",
              "        \n",
              "    \n",
              "    \n",
              "            var marker_59b997fbfd7be9ca580b7c2fb1365e68 = L.marker(\n",
              "                [49.17944444444444, -0.39666666666666667],\n",
              "                {}\n",
              "            ).addTo(map_9f95a084056219ffdb1abea98e72cbfa);\n",
              "        \n",
              "    \n",
              "        var popup_8504c59c00e59bb1adeb8f418cc9147a = L.popup({&quot;maxWidth&quot;: &quot;100%&quot;});\n",
              "\n",
              "        \n",
              "            var html_ff1d21bd5d5b48ed47ebd9801aca59d7 = $(`&lt;div id=&quot;html_ff1d21bd5d5b48ed47ebd9801aca59d7&quot; style=&quot;width: 100.0%; height: 100.0%;&quot;&gt;Stade Michel-d&#x27;Ornano&lt;/div&gt;`)[0];\n",
              "            popup_8504c59c00e59bb1adeb8f418cc9147a.setContent(html_ff1d21bd5d5b48ed47ebd9801aca59d7);\n",
              "        \n",
              "\n",
              "        marker_59b997fbfd7be9ca580b7c2fb1365e68.bindPopup(popup_8504c59c00e59bb1adeb8f418cc9147a)\n",
              "        ;\n",
              "\n",
              "        \n",
              "    \n",
              "    \n",
              "            var marker_80678c2d58356dcedab1e7b710236397 = L.marker(\n",
              "                [45.81583333333333, 3.1216666666666666],\n",
              "                {}\n",
              "            ).addTo(map_9f95a084056219ffdb1abea98e72cbfa);\n",
              "        \n",
              "    \n",
              "        var popup_e5f309470f6358b8e14fe7f46eda86c4 = L.popup({&quot;maxWidth&quot;: &quot;100%&quot;});\n",
              "\n",
              "        \n",
              "            var html_8cd109d1fb8f74c4c8edf24bfd97c56f = $(`&lt;div id=&quot;html_8cd109d1fb8f74c4c8edf24bfd97c56f&quot; style=&quot;width: 100.0%; height: 100.0%;&quot;&gt;Stade Gabriel-Montpied&lt;/div&gt;`)[0];\n",
              "            popup_e5f309470f6358b8e14fe7f46eda86c4.setContent(html_8cd109d1fb8f74c4c8edf24bfd97c56f);\n",
              "        \n",
              "\n",
              "        marker_80678c2d58356dcedab1e7b710236397.bindPopup(popup_e5f309470f6358b8e14fe7f46eda86c4)\n",
              "        ;\n",
              "\n",
              "        \n",
              "    \n",
              "    \n",
              "            var marker_066fe4835b804c41c7c47dbf1bca9d33 = L.marker(\n",
              "                [48.566111111111105, -3.1644444444444444],\n",
              "                {}\n",
              "            ).addTo(map_9f95a084056219ffdb1abea98e72cbfa);\n",
              "        \n",
              "    \n",
              "        var popup_331ea08e913389c9069002c42de6888d = L.popup({&quot;maxWidth&quot;: &quot;100%&quot;});\n",
              "\n",
              "        \n",
              "            var html_f6ed6d91bbeb26fcb853a819a6a9dbe7 = $(`&lt;div id=&quot;html_f6ed6d91bbeb26fcb853a819a6a9dbe7&quot; style=&quot;width: 100.0%; height: 100.0%;&quot;&gt;Stade de Roudourou&lt;/div&gt;`)[0];\n",
              "            popup_331ea08e913389c9069002c42de6888d.setContent(html_f6ed6d91bbeb26fcb853a819a6a9dbe7);\n",
              "        \n",
              "\n",
              "        marker_066fe4835b804c41c7c47dbf1bca9d33.bindPopup(popup_331ea08e913389c9069002c42de6888d)\n",
              "        ;\n",
              "\n",
              "        \n",
              "    \n",
              "    \n",
              "            var marker_7e03cde4d65f15fd5fd3c2aef27b1f59 = L.marker(\n",
              "                [47.74888888888889, -3.3691666666666666],\n",
              "                {}\n",
              "            ).addTo(map_9f95a084056219ffdb1abea98e72cbfa);\n",
              "        \n",
              "    \n",
              "        var popup_be01c526878e92559808dd25527e261c = L.popup({&quot;maxWidth&quot;: &quot;100%&quot;});\n",
              "\n",
              "        \n",
              "            var html_0938f0fa13ee64dd4e0c1d67fc288ef8 = $(`&lt;div id=&quot;html_0938f0fa13ee64dd4e0c1d67fc288ef8&quot; style=&quot;width: 100.0%; height: 100.0%;&quot;&gt;Stade du Moustoir&lt;/div&gt;`)[0];\n",
              "            popup_be01c526878e92559808dd25527e261c.setContent(html_0938f0fa13ee64dd4e0c1d67fc288ef8);\n",
              "        \n",
              "\n",
              "        marker_7e03cde4d65f15fd5fd3c2aef27b1f59.bindPopup(popup_be01c526878e92559808dd25527e261c)\n",
              "        ;\n",
              "\n",
              "        \n",
              "    \n",
              "    \n",
              "            var marker_abc41c6e28678291ca8bce66271d3e57 = L.marker(\n",
              "                [48.81861111111112, 2.346388888888889],\n",
              "                {}\n",
              "            ).addTo(map_9f95a084056219ffdb1abea98e72cbfa);\n",
              "        \n",
              "    \n",
              "        var popup_02c28437bba4f27f89c2ad958297b121 = L.popup({&quot;maxWidth&quot;: &quot;100%&quot;});\n",
              "\n",
              "        \n",
              "            var html_3abea20ea39f7ea38507a1ccd1cb97fa = $(`&lt;div id=&quot;html_3abea20ea39f7ea38507a1ccd1cb97fa&quot; style=&quot;width: 100.0%; height: 100.0%;&quot;&gt;Stade Charléty&lt;/div&gt;`)[0];\n",
              "            popup_02c28437bba4f27f89c2ad958297b121.setContent(html_3abea20ea39f7ea38507a1ccd1cb97fa);\n",
              "        \n",
              "\n",
              "        marker_abc41c6e28678291ca8bce66271d3e57.bindPopup(popup_02c28437bba4f27f89c2ad958297b121)\n",
              "        ;\n",
              "\n",
              "        \n",
              "    \n",
              "    \n",
              "            var marker_bf356d60112a8689f121939701b7cc44 = L.marker(\n",
              "                [46.801944444444445, 1.7216666666666667],\n",
              "                {}\n",
              "            ).addTo(map_9f95a084056219ffdb1abea98e72cbfa);\n",
              "        \n",
              "    \n",
              "        var popup_e14024041bcb65bbb8b8e54d292f17a1 = L.popup({&quot;maxWidth&quot;: &quot;100%&quot;});\n",
              "\n",
              "        \n",
              "            var html_38ea50492218f461815d5ed93e07261f = $(`&lt;div id=&quot;html_38ea50492218f461815d5ed93e07261f&quot; style=&quot;width: 100.0%; height: 100.0%;&quot;&gt;Stade Gaston-Petit&lt;/div&gt;`)[0];\n",
              "            popup_e14024041bcb65bbb8b8e54d292f17a1.setContent(html_38ea50492218f461815d5ed93e07261f);\n",
              "        \n",
              "\n",
              "        marker_bf356d60112a8689f121939701b7cc44.bindPopup(popup_e14024041bcb65bbb8b8e54d292f17a1)\n",
              "        ;\n",
              "\n",
              "        \n",
              "    \n",
              "    \n",
              "            var marker_b2d69b190008200cabb24b57f42324c5 = L.marker(\n",
              "                [47.78666666666666, 3.588611111111111],\n",
              "                {}\n",
              "            ).addTo(map_9f95a084056219ffdb1abea98e72cbfa);\n",
              "        \n",
              "    \n",
              "        var popup_d0514e2af97b4dea3b7d005022ba5bcd = L.popup({&quot;maxWidth&quot;: &quot;100%&quot;});\n",
              "\n",
              "        \n",
              "            var html_63c510dc028b633d67238bdcb06338fb = $(`&lt;div id=&quot;html_63c510dc028b633d67238bdcb06338fb&quot; style=&quot;width: 100.0%; height: 100.0%;&quot;&gt;Stade de l&#x27;Abbé-Deschamps&lt;/div&gt;`)[0];\n",
              "            popup_d0514e2af97b4dea3b7d005022ba5bcd.setContent(html_63c510dc028b633d67238bdcb06338fb);\n",
              "        \n",
              "\n",
              "        marker_b2d69b190008200cabb24b57f42324c5.bindPopup(popup_d0514e2af97b4dea3b7d005022ba5bcd)\n",
              "        ;\n",
              "\n",
              "        \n",
              "    \n",
              "    \n",
              "            var marker_e5fef0c20760ac0b8a16b32e2284b7c9 = L.marker(\n",
              "                [47.84027777777778, 1.9411111111111112],\n",
              "                {}\n",
              "            ).addTo(map_9f95a084056219ffdb1abea98e72cbfa);\n",
              "        \n",
              "    \n",
              "        var popup_a363c849136a9737e2785f328de3f9fc = L.popup({&quot;maxWidth&quot;: &quot;100%&quot;});\n",
              "\n",
              "        \n",
              "            var html_8f48d8db76c1cc2891110ff2b3a97db2 = $(`&lt;div id=&quot;html_8f48d8db76c1cc2891110ff2b3a97db2&quot; style=&quot;width: 100.0%; height: 100.0%;&quot;&gt;Stade de la Source&lt;/div&gt;`)[0];\n",
              "            popup_a363c849136a9737e2785f328de3f9fc.setContent(html_8f48d8db76c1cc2891110ff2b3a97db2);\n",
              "        \n",
              "\n",
              "        marker_e5fef0c20760ac0b8a16b32e2284b7c9.bindPopup(popup_a363c849136a9737e2785f328de3f9fc)\n",
              "        ;\n",
              "\n",
              "        \n",
              "    \n",
              "    \n",
              "            var marker_1f7a2b7bed5dc8d2849a1dc21d3c8c98 = L.marker(\n",
              "                [50.34861111111111, 3.5322222222222224],\n",
              "                {}\n",
              "            ).addTo(map_9f95a084056219ffdb1abea98e72cbfa);\n",
              "        \n",
              "    \n",
              "        var popup_2a63df9fb8294155b77612b428295a91 = L.popup({&quot;maxWidth&quot;: &quot;100%&quot;});\n",
              "\n",
              "        \n",
              "            var html_a676f0825a555c1f9ff49a36f8339790 = $(`&lt;div id=&quot;html_a676f0825a555c1f9ff49a36f8339790&quot; style=&quot;width: 100.0%; height: 100.0%;&quot;&gt;Stade du Hainaut&lt;/div&gt;`)[0];\n",
              "            popup_2a63df9fb8294155b77612b428295a91.setContent(html_a676f0825a555c1f9ff49a36f8339790);\n",
              "        \n",
              "\n",
              "        marker_1f7a2b7bed5dc8d2849a1dc21d3c8c98.bindPopup(popup_2a63df9fb8294155b77612b428295a91)\n",
              "        ;\n",
              "\n",
              "        \n",
              "    \n",
              "    \n",
              "            var marker_a4cde54e439c7f22a70344047408e75e = L.marker(\n",
              "                [46.316944444444445, -0.4891666666666667],\n",
              "                {}\n",
              "            ).addTo(map_9f95a084056219ffdb1abea98e72cbfa);\n",
              "        \n",
              "    \n",
              "        var popup_1cc85ae113f1d5b5a4cb76fe5bd48c9c = L.popup({&quot;maxWidth&quot;: &quot;100%&quot;});\n",
              "\n",
              "        \n",
              "            var html_2654d4304b7415d6957b5635b3f7e868 = $(`&lt;div id=&quot;html_2654d4304b7415d6957b5635b3f7e868&quot; style=&quot;width: 100.0%; height: 100.0%;&quot;&gt;Stade René-Gaillard&lt;/div&gt;`)[0];\n",
              "            popup_1cc85ae113f1d5b5a4cb76fe5bd48c9c.setContent(html_2654d4304b7415d6957b5635b3f7e868);\n",
              "        \n",
              "\n",
              "        marker_a4cde54e439c7f22a70344047408e75e.bindPopup(popup_1cc85ae113f1d5b5a4cb76fe5bd48c9c)\n",
              "        ;\n",
              "\n",
              "        \n",
              "    \n",
              "    \n",
              "            var marker_0984ca2c30a9313dc97d2656c6b723ef = L.marker(\n",
              "                [45.1875, 5.74],\n",
              "                {}\n",
              "            ).addTo(map_9f95a084056219ffdb1abea98e72cbfa);\n",
              "        \n",
              "    \n",
              "        var popup_4a6178341738af629cb71af384b5614b = L.popup({&quot;maxWidth&quot;: &quot;100%&quot;});\n",
              "\n",
              "        \n",
              "            var html_2992f89499c6c1a97c6ac55b835f0a80 = $(`&lt;div id=&quot;html_2992f89499c6c1a97c6ac55b835f0a80&quot; style=&quot;width: 100.0%; height: 100.0%;&quot;&gt;Stade des Alpes&lt;/div&gt;`)[0];\n",
              "            popup_4a6178341738af629cb71af384b5614b.setContent(html_2992f89499c6c1a97c6ac55b835f0a80);\n",
              "        \n",
              "\n",
              "        marker_0984ca2c30a9313dc97d2656c6b723ef.bindPopup(popup_4a6178341738af629cb71af384b5614b)\n",
              "        ;\n",
              "\n",
              "        \n",
              "    \n",
              "    \n",
              "            var marker_a730f3346d7a825b5a8c5c00657e8e62 = L.marker(\n",
              "                [47.51222222222222, 6.811388888888889],\n",
              "                {}\n",
              "            ).addTo(map_9f95a084056219ffdb1abea98e72cbfa);\n",
              "        \n",
              "    \n",
              "        var popup_d921fe710b838e7695ea13c280ad8b4e = L.popup({&quot;maxWidth&quot;: &quot;100%&quot;});\n",
              "\n",
              "        \n",
              "            var html_f6080ba7c1076b92530887359daba619 = $(`&lt;div id=&quot;html_f6080ba7c1076b92530887359daba619&quot; style=&quot;width: 100.0%; height: 100.0%;&quot;&gt;Stade Auguste-Bonal&lt;/div&gt;`)[0];\n",
              "            popup_d921fe710b838e7695ea13c280ad8b4e.setContent(html_f6080ba7c1076b92530887359daba619);\n",
              "        \n",
              "\n",
              "        marker_a730f3346d7a825b5a8c5c00657e8e62.bindPopup(popup_d921fe710b838e7695ea13c280ad8b4e)\n",
              "        ;\n",
              "\n",
              "        \n",
              "    \n",
              "    \n",
              "            var marker_8fc9df9f73a9433a8c46636b7235d50b = L.marker(\n",
              "                [44.35166666666667, 2.563611111111111],\n",
              "                {}\n",
              "            ).addTo(map_9f95a084056219ffdb1abea98e72cbfa);\n",
              "        \n",
              "    \n",
              "        var popup_58d143ae4c597d69ee669d54bcde4776 = L.popup({&quot;maxWidth&quot;: &quot;100%&quot;});\n",
              "\n",
              "        \n",
              "            var html_3785a42db24de18d9f1c2f5185afb6a8 = $(`&lt;div id=&quot;html_3785a42db24de18d9f1c2f5185afb6a8&quot; style=&quot;width: 100.0%; height: 100.0%;&quot;&gt;Stade Paul-Lignon&lt;/div&gt;`)[0];\n",
              "            popup_58d143ae4c597d69ee669d54bcde4776.setContent(html_3785a42db24de18d9f1c2f5185afb6a8);\n",
              "        \n",
              "\n",
              "        marker_8fc9df9f73a9433a8c46636b7235d50b.bindPopup(popup_58d143ae4c597d69ee669d54bcde4776)\n",
              "        ;\n",
              "\n",
              "        \n",
              "    \n",
              "    \n",
              "            var marker_07e40be09b2d1c7e1b96c43e487958f7 = L.marker(\n",
              "                [49.17916666666667, 2.233611111111111],\n",
              "                {}\n",
              "            ).addTo(map_9f95a084056219ffdb1abea98e72cbfa);\n",
              "        \n",
              "    \n",
              "        var popup_1405ec6bc8191ae2928441eaf5271abc = L.popup({&quot;maxWidth&quot;: &quot;100%&quot;});\n",
              "\n",
              "        \n",
              "            var html_0d90ecb0c6c39f1d2365158018ee5e9c = $(`&lt;div id=&quot;html_0d90ecb0c6c39f1d2365158018ee5e9c&quot; style=&quot;width: 100.0%; height: 100.0%;&quot;&gt;Stade Walter Luzi&lt;/div&gt;`)[0];\n",
              "            popup_1405ec6bc8191ae2928441eaf5271abc.setContent(html_0d90ecb0c6c39f1d2365158018ee5e9c);\n",
              "        \n",
              "\n",
              "        marker_07e40be09b2d1c7e1b96c43e487958f7.bindPopup(popup_1405ec6bc8191ae2928441eaf5271abc)\n",
              "        ;\n",
              "\n",
              "        \n",
              "    \n",
              "    \n",
              "            var marker_2326e9eb2dedc1278b5c09bb14e316f8 = L.marker(\n",
              "                [48.3075, 4.0986111111111105],\n",
              "                {}\n",
              "            ).addTo(map_9f95a084056219ffdb1abea98e72cbfa);\n",
              "        \n",
              "    \n",
              "        var popup_f7a02140f343dca19ca94d5def5a351e = L.popup({&quot;maxWidth&quot;: &quot;100%&quot;});\n",
              "\n",
              "        \n",
              "            var html_41628f73230fd0eafbd1be9752a49b4f = $(`&lt;div id=&quot;html_41628f73230fd0eafbd1be9752a49b4f&quot; style=&quot;width: 100.0%; height: 100.0%;&quot;&gt;Stade de l&#x27;Aube&lt;/div&gt;`)[0];\n",
              "            popup_f7a02140f343dca19ca94d5def5a351e.setContent(html_41628f73230fd0eafbd1be9752a49b4f);\n",
              "        \n",
              "\n",
              "        marker_2326e9eb2dedc1278b5c09bb14e316f8.bindPopup(popup_f7a02140f343dca19ca94d5def5a351e)\n",
              "        ;\n",
              "\n",
              "        \n",
              "    \n",
              "    \n",
              "            var marker_62c4a7e764d3265e3599d972b6f5a2cc = L.marker(\n",
              "                [50.43277777777777, 2.815],\n",
              "                {}\n",
              "            ).addTo(map_9f95a084056219ffdb1abea98e72cbfa);\n",
              "        \n",
              "    \n",
              "        var popup_a2944666b7b7097dbd5433ce97e1c2f5 = L.popup({&quot;maxWidth&quot;: &quot;100%&quot;});\n",
              "\n",
              "        \n",
              "            var html_a8ecc295ac5acea4ddc3eac3b94f2242 = $(`&lt;div id=&quot;html_a8ecc295ac5acea4ddc3eac3b94f2242&quot; style=&quot;width: 100.0%; height: 100.0%;&quot;&gt;Stade Bollaert-Delelis&lt;/div&gt;`)[0];\n",
              "            popup_a2944666b7b7097dbd5433ce97e1c2f5.setContent(html_a8ecc295ac5acea4ddc3eac3b94f2242);\n",
              "        \n",
              "\n",
              "        marker_62c4a7e764d3265e3599d972b6f5a2cc.bindPopup(popup_a2944666b7b7097dbd5433ce97e1c2f5)\n",
              "        ;\n",
              "\n",
              "        \n",
              "    \n",
              "    \n",
              "            var marker_80dd6034f824ffe88f8dd484c33a5a8c = L.marker(\n",
              "                [47.95888888888889, 0.22472222222222224],\n",
              "                {}\n",
              "            ).addTo(map_9f95a084056219ffdb1abea98e72cbfa);\n",
              "        \n",
              "    \n",
              "        var popup_af7c3e13d4f3d7345600949ae44d8c0b = L.popup({&quot;maxWidth&quot;: &quot;100%&quot;});\n",
              "\n",
              "        \n",
              "            var html_4e9c3560739237b3f45cf61aef400cd5 = $(`&lt;div id=&quot;html_4e9c3560739237b3f45cf61aef400cd5&quot; style=&quot;width: 100.0%; height: 100.0%;&quot;&gt;Le Mans Arena&lt;/div&gt;`)[0];\n",
              "            popup_af7c3e13d4f3d7345600949ae44d8c0b.setContent(html_4e9c3560739237b3f45cf61aef400cd5);\n",
              "        \n",
              "\n",
              "        marker_80dd6034f824ffe88f8dd484c33a5a8c.bindPopup(popup_af7c3e13d4f3d7345600949ae44d8c0b)\n",
              "        ;\n",
              "\n",
              "        \n",
              "    \n",
              "    \n",
              "            map_9f95a084056219ffdb1abea98e72cbfa.fitBounds(\n",
              "                [[41.93083333333333, -4.461666666666667], [50.61194444444445, 8.77638888888889]],\n",
              "                {}\n",
              "            );\n",
              "        \n",
              "&lt;/script&gt;\" style=\"position:absolute;width:100%;height:100%;left:0;top:0;border:none !important;\" allowfullscreen webkitallowfullscreen mozallowfullscreen></iframe></div></div>"
            ]
          }
        }
      ],
      "source": [],
      "id": "472ebe8e-2838-4c20-a5b4-472efd66daf2"
    },
    {
      "cell_type": "markdown",
      "metadata": {},
      "source": [
        "{{< /rawhtml >}}\n",
        "\n",
        "# Exercice 1 : Les pokémons (version non guidée)\n",
        "\n",
        "{{% box status=“exercise” title=“Exercice” icon=“fas fa-pencil-alt” %}}\n",
        "Pour cet exercice, nous vous demandons d’obtenir différentes informations sur les pokémons à partir du site internet [pokemondb.net](http://pokemondb.net/pokedex/national).\n",
        "\n",
        "1.  les informations personnelles des `893` pokemons sur le site internet [pokemondb.net](http://pokemondb.net/pokedex/national). Les informations que nous aimerions obtenir au final dans un DataFrame sont celles contenues dans 4 tableaux :\n",
        "\n",
        "-   Pokédex data\n",
        "-   Training\n",
        "-   Breeding\n",
        "-   Base stats\n",
        "\n",
        "1.  Nous aimerions que vous récupériez également les images de chacun des pokémons et que vous les enregistriez dans un dossier\n",
        "\n",
        "-   Petit indice : utilisez les modules request et [shutil](https://docs.python.org/3/library/shutil.html)\n",
        "-   Pour cette question, il faut que vous cherchiez de vous même certains éléments, tout n’est pas présent dans le TD.\n",
        "\n",
        "{{% /box %}}\n",
        "\n",
        "Pour la question 1, l’objectif est d’obtenir le code source d’un tableau comme\n",
        "celui qui suit\n",
        "(Pokemon [Nincada](http://pokemondb.net/pokedex/nincada).)\n",
        "\n",
        "<h2>\n",
        "\n",
        "Pokédex data\n",
        "\n",
        "</h2>\n",
        "\n",
        "<table class=\"vitals-table\">\n",
        "\n",
        "<tbody>\n",
        "\n",
        "<tr>\n",
        "\n",
        "<th>\n",
        "\n",
        "National №\n",
        "\n",
        "</th>\n",
        "\n",
        "<td>\n",
        "\n",
        "<strong>290</strong>\n",
        "\n",
        "</td>\n",
        "\n",
        "</tr>\n",
        "\n",
        "<tr>\n",
        "\n",
        "<th>\n",
        "\n",
        "Type\n",
        "\n",
        "</th>\n",
        "\n",
        "<td>\n",
        "\n",
        "<a class=\"type-icon type-bug\" href=\"/type/bug\">Bug</a> <a class=\"type-icon type-ground\" href=\"/type/ground\">Ground</a>\n",
        "\n",
        "</td>\n",
        "\n",
        "</tr>\n",
        "\n",
        "<tr>\n",
        "\n",
        "<th>\n",
        "\n",
        "Species\n",
        "\n",
        "</th>\n",
        "\n",
        "<td>\n",
        "\n",
        "Trainee Pokémon\n",
        "\n",
        "</td>\n",
        "\n",
        "</tr>\n",
        "\n",
        "<tr>\n",
        "\n",
        "<th>\n",
        "\n",
        "Height\n",
        "\n",
        "</th>\n",
        "\n",
        "<td>\n",
        "\n",
        "0.5 m (1′08″)\n",
        "\n",
        "</td>\n",
        "\n",
        "</tr>\n",
        "\n",
        "<tr>\n",
        "\n",
        "<th>\n",
        "\n",
        "Weight\n",
        "\n",
        "</th>\n",
        "\n",
        "<td>\n",
        "\n",
        "5.5 kg (12.1 lbs)\n",
        "\n",
        "</td>\n",
        "\n",
        "</tr>\n",
        "\n",
        "<tr>\n",
        "\n",
        "<th>\n",
        "\n",
        "Abilities\n",
        "\n",
        "</th>\n",
        "\n",
        "<td>\n",
        "\n",
        "<span class=\"text-muted\">1. <a href=\"/ability/compound-eyes\" title=\"The Pokémon's accuracy is boosted.\">Compound Eyes</a></span><br><small class=\"text-muted\"><a href=\"/ability/run-away\" title=\"Enables a sure getaway from wild Pokémon.\">Run Away</a> (hidden ability)</small><br>\n",
        "\n",
        "</td>\n",
        "\n",
        "</tr>\n",
        "\n",
        "<tr>\n",
        "\n",
        "<th>\n",
        "\n",
        "Local №\n",
        "\n",
        "</th>\n",
        "\n",
        "<td>\n",
        "\n",
        "042 <small class=\"text-muted\">(Ruby/Sapphire/Emerald)</small><br>111 <small class=\"text-muted\">(X/Y — Central Kalos)</small><br>043 <small class=\"text-muted\">(Omega Ruby/Alpha Sapphire)</small><br>104 <small class=\"text-muted\">(Sword/Shield)</small><br>\n",
        "\n",
        "</td>\n",
        "\n",
        "</tr>\n",
        "\n",
        "</tbody>\n",
        "\n",
        "</table>\n",
        "\n",
        "<h2>\n",
        "\n",
        "Training\n",
        "\n",
        "</h2>\n",
        "\n",
        "<table class=\"vitals-table\">\n",
        "\n",
        "<tbody>\n",
        "\n",
        "<tr>\n",
        "\n",
        "<th>\n",
        "\n",
        "EV yield\n",
        "\n",
        "</th>\n",
        "\n",
        "<td class=\"text\">\n",
        "\n",
        "1 Defense\n",
        "\n",
        "</td>\n",
        "\n",
        "</tr>\n",
        "\n",
        "<tr>\n",
        "\n",
        "<th>\n",
        "\n",
        "Catch rate\n",
        "\n",
        "</th>\n",
        "\n",
        "<td>\n",
        "\n",
        "255 <small class=\"text-muted\">(33.3% with PokéBall, full HP)</small>\n",
        "\n",
        "</td>\n",
        "\n",
        "</tr>\n",
        "\n",
        "<tr>\n",
        "\n",
        "<th>\n",
        "\n",
        "Base <a href=\"/glossary#def-friendship\">Friendship</a>\n",
        "\n",
        "</th>\n",
        "\n",
        "<td>\n",
        "\n",
        "70 <small class=\"text-muted\">(normal)</small>\n",
        "\n",
        "</td>\n",
        "\n",
        "</tr>\n",
        "\n",
        "<tr>\n",
        "\n",
        "<th>\n",
        "\n",
        "Base Exp.\n",
        "\n",
        "</th>\n",
        "\n",
        "<td>\n",
        "\n",
        "53\n",
        "\n",
        "</td>\n",
        "\n",
        "</tr>\n",
        "\n",
        "<tr>\n",
        "\n",
        "<th>\n",
        "\n",
        "Growth Rate\n",
        "\n",
        "</th>\n",
        "\n",
        "<td>\n",
        "\n",
        "Erratic\n",
        "\n",
        "</td>\n",
        "\n",
        "</tr>\n",
        "\n",
        "</tbody>\n",
        "\n",
        "</table>\n",
        "\n",
        "<h2>\n",
        "\n",
        "Breeding\n",
        "\n",
        "</h2>\n",
        "\n",
        "<table class=\"vitals-table\">\n",
        "\n",
        "<tbody>\n",
        "\n",
        "<tr>\n",
        "\n",
        "<th>\n",
        "\n",
        "Egg Groups\n",
        "\n",
        "</th>\n",
        "\n",
        "<td>\n",
        "\n",
        "<a href=\"/egg-group/bug\">Bug</a>\n",
        "\n",
        "</td>\n",
        "\n",
        "</tr>\n",
        "\n",
        "<tr>\n",
        "\n",
        "<th>\n",
        "\n",
        "Gender\n",
        "\n",
        "</th>\n",
        "\n",
        "<td>\n",
        "\n",
        "<span class=\"text-blue\">50% male</span>, <span class=\"text-pink\">50% female</span>\n",
        "\n",
        "</td>\n",
        "\n",
        "</tr>\n",
        "\n",
        "<tr>\n",
        "\n",
        "<th>\n",
        "\n",
        "<a href=\"/glossary#def-eggcycle\">Egg cycles</a>\n",
        "\n",
        "</th>\n",
        "\n",
        "<td>\n",
        "\n",
        "15 <small class=\"text-muted\">(3,599–3,855 steps)</small>\n",
        "\n",
        "</td>\n",
        "\n",
        "</tr>\n",
        "\n",
        "</tbody>\n",
        "\n",
        "</table>\n",
        "\n",
        "<h2>\n",
        "\n",
        "Base stats\n",
        "\n",
        "</h2>\n",
        "\n",
        "<table class=\"vitals-table\">\n",
        "\n",
        "<tbody>\n",
        "\n",
        "<tr>\n",
        "\n",
        "<th>\n",
        "\n",
        "HP\n",
        "\n",
        "</th>\n",
        "\n",
        "<td class=\"cell-num\">\n",
        "\n",
        "31\n",
        "\n",
        "</td>\n",
        "\n",
        "<td class=\"cell-barchart\">\n",
        "\n",
        "</td>\n",
        "\n",
        "<td class=\"cell-num\">\n",
        "\n",
        "172\n",
        "\n",
        "</td>\n",
        "\n",
        "<td class=\"cell-num\">\n",
        "\n",
        "266\n",
        "\n",
        "</td>\n",
        "\n",
        "</tr>\n",
        "\n",
        "<tr>\n",
        "\n",
        "<th>\n",
        "\n",
        "Attack\n",
        "\n",
        "</th>\n",
        "\n",
        "<td class=\"cell-num\">\n",
        "\n",
        "45\n",
        "\n",
        "</td>\n",
        "\n",
        "<td class=\"cell-barchart\">\n",
        "\n",
        "</td>\n",
        "\n",
        "<td class=\"cell-num\">\n",
        "\n",
        "85\n",
        "\n",
        "</td>\n",
        "\n",
        "<td class=\"cell-num\">\n",
        "\n",
        "207\n",
        "\n",
        "</td>\n",
        "\n",
        "</tr>\n",
        "\n",
        "<tr>\n",
        "\n",
        "<th>\n",
        "\n",
        "Defense\n",
        "\n",
        "</th>\n",
        "\n",
        "<td class=\"cell-num\">\n",
        "\n",
        "90\n",
        "\n",
        "</td>\n",
        "\n",
        "<td class=\"cell-barchart\">\n",
        "\n",
        "</td>\n",
        "\n",
        "<td class=\"cell-num\">\n",
        "\n",
        "166\n",
        "\n",
        "</td>\n",
        "\n",
        "<td class=\"cell-num\">\n",
        "\n",
        "306\n",
        "\n",
        "</td>\n",
        "\n",
        "</tr>\n",
        "\n",
        "<tr>\n",
        "\n",
        "<th>\n",
        "\n",
        "Sp. Atk\n",
        "\n",
        "</th>\n",
        "\n",
        "<td class=\"cell-num\">\n",
        "\n",
        "30\n",
        "\n",
        "</td>\n",
        "\n",
        "<td class=\"cell-barchart\">\n",
        "\n",
        "</td>\n",
        "\n",
        "<td class=\"cell-num\">\n",
        "\n",
        "58\n",
        "\n",
        "</td>\n",
        "\n",
        "<td class=\"cell-num\">\n",
        "\n",
        "174\n",
        "\n",
        "</td>\n",
        "\n",
        "</tr>\n",
        "\n",
        "<tr>\n",
        "\n",
        "<th>\n",
        "\n",
        "Sp. Def\n",
        "\n",
        "</th>\n",
        "\n",
        "<td class=\"cell-num\">\n",
        "\n",
        "30\n",
        "\n",
        "</td>\n",
        "\n",
        "<td class=\"cell-barchart\">\n",
        "\n",
        "</td>\n",
        "\n",
        "<td class=\"cell-num\">\n",
        "\n",
        "58\n",
        "\n",
        "</td>\n",
        "\n",
        "<td class=\"cell-num\">\n",
        "\n",
        "174\n",
        "\n",
        "</td>\n",
        "\n",
        "</tr>\n",
        "\n",
        "<tr>\n",
        "\n",
        "<th>\n",
        "\n",
        "Speed\n",
        "\n",
        "</th>\n",
        "\n",
        "<td class=\"cell-num\">\n",
        "\n",
        "40\n",
        "\n",
        "</td>\n",
        "\n",
        "<td class=\"cell-barchart\">\n",
        "\n",
        "</td>\n",
        "\n",
        "<td class=\"cell-num\">\n",
        "\n",
        "76\n",
        "\n",
        "</td>\n",
        "\n",
        "<td class=\"cell-num\">\n",
        "\n",
        "196\n",
        "\n",
        "</td>\n",
        "\n",
        "</tr>\n",
        "\n",
        "</tbody>\n",
        "\n",
        "<tfoot>\n",
        "\n",
        "<tr>\n",
        "\n",
        "<th>\n",
        "\n",
        "Total\n",
        "\n",
        "</th>\n",
        "\n",
        "<td class=\"cell-total\">\n",
        "\n",
        "<b>266</b>\n",
        "\n",
        "</td>\n",
        "\n",
        "<th class=\"cell-barchart\">\n",
        "\n",
        "</th>\n",
        "\n",
        "<th>\n",
        "\n",
        "Min\n",
        "\n",
        "</th>\n",
        "\n",
        "<th>\n",
        "\n",
        "Max\n",
        "\n",
        "</th>\n",
        "\n",
        "</tr>\n",
        "\n",
        "</tfoot>\n",
        "\n",
        "</table>\n",
        "\n",
        "# Exercice 1 : Les pokémons (version guidée)\n",
        "\n",
        "{{% box status=“exercise” title=“Exercice” icon=“fas fa-pencil-alt” %}}\n",
        "\n",
        "Pour cet exercice, nous vous demandons d’obtenir différentes informations sur les pokémons à partir du site internet [pokemondb.net](http://pokemondb.net/pokedex/national).\n",
        "\n",
        "## Etape 1\n",
        "\n",
        "Nous souhaitons tout d’abord obtenir les informations personnelles des `893` pokemons sur [pokemondb.net](http://pokemondb.net/pokedex/national). Les informations que nous aimerions obtenir au final pour les pokemons sont celles contenues dans 4 tableaux :\n",
        "\n",
        "-   Pokédex data\n",
        "-   Training\n",
        "-   Breeding\n",
        "-   Base stats\n",
        "\n",
        "Plus haut est disponible un exemple.\n",
        "\n",
        "Pour cela, le code devra être divisé en plusieurs étapes :\n",
        "\n",
        "1.  Trouvez la page principale du site et la transformez en un objet intelligible pour votre code. Les fonctions suivantes vous seront utiles :\n",
        "\n",
        "-   `urllib.request.Request`\n",
        "-   `urllib.request.urlopen`\n",
        "-   `bs4.BeautifulSoup`\n",
        "\n",
        "Pour ce site, par rapport à tout à l’heure,\n",
        "il faudra ajouter un paramètre supplémentaire à la fonction `Request`:\n",
        "\n",
        "``` python\n",
        "urllib.request.Request( www.sitequinousintéresse.com ,headers={'User-Agent': 'Mozilla/5.0'})\n",
        "```\n",
        "\n",
        "1.  Créez une fonction qui permet de récupérer la page d’un pokémon à partir de son nom.\n",
        "\n",
        "2.  A partir de la page de `bulbasaur`, obtenez les 4 tableaux qui nous intéressent :\n",
        "\n",
        "-   on va chercher l’élément suivant : `('table', { 'class' : \"vitals-table\"})`\n",
        "-   puis stocker ses éléments dans un dictionnaire\n",
        "\n",
        "Vous devriez obtenir une liste de caractéristiques proche de celle-ci\n",
        "(la structure est ici en dictionnaire, ce qui est pratique)"
      ],
      "id": "bbf3d7bc-5c33-4332-adc7-dff64e6d979f"
    },
    {
      "cell_type": "code",
      "execution_count": 32,
      "metadata": {},
      "outputs": [
        {
          "output_type": "display_data",
          "metadata": {},
          "data": {
            "text/plain": [
              "defaultdict(None,\n",
              "            {'National №': '001',\n",
              "             'name': 'bulbasaur',\n",
              "             'Type': ' Grass Poison ',\n",
              "             'Species': 'Seed Pokémon',\n",
              "             'Height': '0.7\\xa0m (2′04″)',\n",
              "             'Weight': '6.9\\xa0kg (15.2\\xa0lbs)',\n",
              "             'Abilities': '1. OvergrowChlorophyll (hidden ability)',\n",
              "             'Local №': \"001 (Red/Blue/Yellow)226 (Gold/Silver/Crystal)001 (FireRed/LeafGreen)231 (HeartGold/SoulSilver)080 (X/Y — Central Kalos)001 (Let's Go Pikachu/Let's Go Eevee)068 (The Isle of Armor)\",\n",
              "             'EV yield': ' 1 Special Attack ',\n",
              "             'Catch rate': ' 45 (5.9% with PokéBall, full HP) ',\n",
              "             'Base Friendship': ' 50 (normal) ',\n",
              "             'Base Exp.': '64',\n",
              "             'Growth Rate': 'Medium Slow',\n",
              "             'Egg Groups': 'Grass, Monster',\n",
              "             'Gender': '87.5% male, 12.5% female',\n",
              "             'Egg cycles': '20 (4,884–5,140 steps) ',\n",
              "             'HP': '45',\n",
              "             'Attack': '49',\n",
              "             'Defense': '49',\n",
              "             'Sp. Atk': '65',\n",
              "             'Sp. Def': '65',\n",
              "             'Speed': '45'})"
            ]
          }
        }
      ],
      "source": [],
      "id": "2e5ec927-2791-4f3b-82b3-27c16e119bfe"
    },
    {
      "cell_type": "markdown",
      "metadata": {},
      "source": [
        "1.  Récupérez par ailleurs la liste de noms des pokémons qui nous permettra de faire une boucle par la suite. Combien trouvez-vous de pokémons ?\n",
        "\n",
        "2.  Ecrire une fonction qui récupère l’ensemble des informations sur les dix premiers pokémons de la liste et les intègre dans un data.frame"
      ],
      "id": "7fe4e061-f2cc-4f67-be1f-a5528bb7e019"
    },
    {
      "cell_type": "code",
      "execution_count": 35,
      "metadata": {},
      "outputs": [
        {
          "output_type": "display_data",
          "metadata": {},
          "data": {
            "text/html": [
              "<div>\n",
              "<style scoped>\n",
              "    .dataframe tbody tr th:only-of-type {\n",
              "        vertical-align: middle;\n",
              "    }\n",
              "\n",
              "    .dataframe tbody tr th {\n",
              "        vertical-align: top;\n",
              "    }\n",
              "\n",
              "    .dataframe thead th {\n",
              "        text-align: right;\n",
              "    }\n",
              "</style>\n",
              "<table border=\"1\" class=\"dataframe\">\n",
              "  <thead>\n",
              "    <tr style=\"text-align: right;\">\n",
              "      <th></th>\n",
              "      <th>National №</th>\n",
              "      <th>name</th>\n",
              "      <th>Type</th>\n",
              "      <th>Species</th>\n",
              "      <th>Height</th>\n",
              "      <th>Weight</th>\n",
              "      <th>Abilities</th>\n",
              "      <th>Local №</th>\n",
              "      <th>EV yield</th>\n",
              "      <th>Catch rate</th>\n",
              "      <th>...</th>\n",
              "      <th>Growth Rate</th>\n",
              "      <th>Egg Groups</th>\n",
              "      <th>Gender</th>\n",
              "      <th>Egg cycles</th>\n",
              "      <th>HP</th>\n",
              "      <th>Attack</th>\n",
              "      <th>Defense</th>\n",
              "      <th>Sp. Atk</th>\n",
              "      <th>Sp. Def</th>\n",
              "      <th>Speed</th>\n",
              "    </tr>\n",
              "  </thead>\n",
              "  <tbody>\n",
              "    <tr>\n",
              "      <th>0</th>\n",
              "      <td>001</td>\n",
              "      <td>bulbasaur</td>\n",
              "      <td>Grass Poison</td>\n",
              "      <td>Seed Pokémon</td>\n",
              "      <td>0.7 m (2′04″)</td>\n",
              "      <td>6.9 kg (15.2 lbs)</td>\n",
              "      <td>1. OvergrowChlorophyll (hidden ability)</td>\n",
              "      <td>001 (Red/Blue/Yellow)226 (Gold/Silver/Crystal)...</td>\n",
              "      <td>1 Special Attack</td>\n",
              "      <td>45 (5.9% with PokéBall, full HP)</td>\n",
              "      <td>...</td>\n",
              "      <td>Medium Slow</td>\n",
              "      <td>Grass, Monster</td>\n",
              "      <td>87.5% male, 12.5% female</td>\n",
              "      <td>20 (4,884–5,140 steps)</td>\n",
              "      <td>45</td>\n",
              "      <td>49</td>\n",
              "      <td>49</td>\n",
              "      <td>65</td>\n",
              "      <td>65</td>\n",
              "      <td>45</td>\n",
              "    </tr>\n",
              "    <tr>\n",
              "      <th>1</th>\n",
              "      <td>002</td>\n",
              "      <td>ivysaur</td>\n",
              "      <td>Grass Poison</td>\n",
              "      <td>Seed Pokémon</td>\n",
              "      <td>1.0 m (3′03″)</td>\n",
              "      <td>13.0 kg (28.7 lbs)</td>\n",
              "      <td>1. OvergrowChlorophyll (hidden ability)</td>\n",
              "      <td>002 (Red/Blue/Yellow)227 (Gold/Silver/Crystal)...</td>\n",
              "      <td>1 Special Attack, 1 Special Defense</td>\n",
              "      <td>45 (5.9% with PokéBall, full HP)</td>\n",
              "      <td>...</td>\n",
              "      <td>Medium Slow</td>\n",
              "      <td>Grass, Monster</td>\n",
              "      <td>87.5% male, 12.5% female</td>\n",
              "      <td>20 (4,884–5,140 steps)</td>\n",
              "      <td>60</td>\n",
              "      <td>62</td>\n",
              "      <td>63</td>\n",
              "      <td>80</td>\n",
              "      <td>80</td>\n",
              "      <td>60</td>\n",
              "    </tr>\n",
              "    <tr>\n",
              "      <th>2</th>\n",
              "      <td>003</td>\n",
              "      <td>venusaur</td>\n",
              "      <td>Grass Poison</td>\n",
              "      <td>Seed Pokémon</td>\n",
              "      <td>2.0 m (6′07″)</td>\n",
              "      <td>100.0 kg (220.5 lbs)</td>\n",
              "      <td>1. OvergrowChlorophyll (hidden ability)</td>\n",
              "      <td>003 (Red/Blue/Yellow)228 (Gold/Silver/Crystal)...</td>\n",
              "      <td>2 Special Attack, 1 Special Defense</td>\n",
              "      <td>45 (5.9% with PokéBall, full HP)</td>\n",
              "      <td>...</td>\n",
              "      <td>Medium Slow</td>\n",
              "      <td>Grass, Monster</td>\n",
              "      <td>87.5% male, 12.5% female</td>\n",
              "      <td>20 (4,884–5,140 steps)</td>\n",
              "      <td>80</td>\n",
              "      <td>82</td>\n",
              "      <td>83</td>\n",
              "      <td>100</td>\n",
              "      <td>100</td>\n",
              "      <td>80</td>\n",
              "    </tr>\n",
              "    <tr>\n",
              "      <th>3</th>\n",
              "      <td>004</td>\n",
              "      <td>charmander</td>\n",
              "      <td>Fire</td>\n",
              "      <td>Lizard Pokémon</td>\n",
              "      <td>0.6 m (2′00″)</td>\n",
              "      <td>8.5 kg (18.7 lbs)</td>\n",
              "      <td>1. BlazeSolar Power (hidden ability)</td>\n",
              "      <td>004 (Red/Blue/Yellow)229 (Gold/Silver/Crystal)...</td>\n",
              "      <td>1 Speed</td>\n",
              "      <td>45 (5.9% with PokéBall, full HP)</td>\n",
              "      <td>...</td>\n",
              "      <td>Medium Slow</td>\n",
              "      <td>Dragon, Monster</td>\n",
              "      <td>87.5% male, 12.5% female</td>\n",
              "      <td>20 (4,884–5,140 steps)</td>\n",
              "      <td>39</td>\n",
              "      <td>52</td>\n",
              "      <td>43</td>\n",
              "      <td>60</td>\n",
              "      <td>50</td>\n",
              "      <td>65</td>\n",
              "    </tr>\n",
              "    <tr>\n",
              "      <th>4</th>\n",
              "      <td>005</td>\n",
              "      <td>charmeleon</td>\n",
              "      <td>Fire</td>\n",
              "      <td>Flame Pokémon</td>\n",
              "      <td>1.1 m (3′07″)</td>\n",
              "      <td>19.0 kg (41.9 lbs)</td>\n",
              "      <td>1. BlazeSolar Power (hidden ability)</td>\n",
              "      <td>005 (Red/Blue/Yellow)230 (Gold/Silver/Crystal)...</td>\n",
              "      <td>1 Special Attack, 1 Speed</td>\n",
              "      <td>45 (5.9% with PokéBall, full HP)</td>\n",
              "      <td>...</td>\n",
              "      <td>Medium Slow</td>\n",
              "      <td>Dragon, Monster</td>\n",
              "      <td>87.5% male, 12.5% female</td>\n",
              "      <td>20 (4,884–5,140 steps)</td>\n",
              "      <td>58</td>\n",
              "      <td>64</td>\n",
              "      <td>58</td>\n",
              "      <td>80</td>\n",
              "      <td>65</td>\n",
              "      <td>80</td>\n",
              "    </tr>\n",
              "  </tbody>\n",
              "</table>\n",
              "<p>5 rows × 22 columns</p>\n",
              "</div>"
            ]
          }
        }
      ],
      "source": [],
      "id": "587c2a2f-3c22-4795-bd4e-85a6e0b2574f"
    },
    {
      "cell_type": "markdown",
      "metadata": {},
      "source": [
        "## Etape 2\n",
        "\n",
        "Nous aimerions que vous récupériez également les images des 5 premiers pokémons et que vous les enregistriez dans un dossier\n",
        "\n",
        "Idée : Utilisez les modules `request` et [`shutil`](https://docs.python.org/3/library/shutil.html)\n",
        "\n",
        "*pour cette question, il faut que vous cherchiez de vous même certains éléments, tout n’est pas présent dans le TD*.\n",
        "\n",
        "{{% /box %}}\n",
        "\n",
        "# Exercice supplémentaire \\[BONUS\\]\n",
        "\n",
        "{{% box status=“exercise” title=“Les ministres sur wikipédia” icon=“fas fa-pencil-alt” %}}\n",
        "\n",
        "Scraper la liste des ministres français depuis wikipedia. Faire une graphique qui représente la distribution de leur âge.\n",
        "\n",
        "Si vous avez une solution satisfaisante, n’hésitez pas à la soumettre\n",
        "sur <a href=\"https://github.com/linogaliana/python-datascientist\" class=\"github\"><i class=\"fab fa-github\"></i></a>\n",
        "(car je n’ai pas encore testé…)\n",
        "\n",
        "{{% /box %}}\n",
        "\n",
        "# `Selenium` : mimer le comportement d’un utilisateur internet\n",
        "\n",
        "Jusqu’à présent, nous avons raisonné comme si nous connaissions toujours l’url qui nous intéresse. De plus, les pages que nous visitons sont “statiques”, elles ne dépendent pas d’une action ou d’une recherche de l’internaute.\n",
        "\n",
        "Nous allons voir à présent comment nous en sortir pour remplir des champs sur un site web et récupérer ce qui nous intéresse.\n",
        "\n",
        "L’avantage du package [Selenium](https://pypi.python.org/pypi/selenium) est d’obtenir des informations du site qui ne sont pas dans le code html mais qui apparaissent uniquement à la suite de l’exécution de script javascript en arrière plan.\n",
        "\n",
        "Selenium se comporte comme un utilisateur lambda sur internet : il clique sur des liens, il remplit des formulaires etc. Dans cet exemple, nous allons essayer de aller sur le site de [Bing Actualités](https://www.bing.com/news) et entrer dans la barre de recherche un sujet donné (Trump).\n",
        "\n",
        "L’installation de `selenium` nécessite d’avoir chromium qui est un\n",
        "navigateur Google Chrome minimaliste.\n",
        "La version de [chromedriver](https://sites.google.com/a/chromium.org/chromedriver/) doit être `>= 2.36` et dépend de la version de Chrome que vous avez sur votre poste.\n",
        "\n",
        "``` python\n",
        "!pip install selenium\n",
        "\n",
        "# Sur votre poste  \n",
        "# télécharger le chrome driver https://chromedriver.storage.googleapis.com/index.html?path=85.0.4183.83/\n",
        "\n",
        "# Sur google colab \n",
        "# https://stackoverflow.com/questions/51046454/how-can-we-use-selenium-webdriver-in-colab-research-google-com\n",
        "!apt-get update # to update ubuntu to correctly run apt install\n",
        "!apt install chromium-chromedriver\n",
        "!cp /usr/lib/chromium-browser/chromedriver /usr/bin\n",
        "import sys\n",
        "sys.path.insert(0,'/usr/lib/chromium-browser/chromedriver')\n",
        "```\n",
        "\n",
        "``` python\n",
        "import selenium\n",
        "path_to_web_driver = \"chromedriver\"\n",
        "```\n",
        "\n",
        "On va sur le site de Bing Actualités, et on lui indique le mot clé que nous souhaitons chercher.\n",
        "\n",
        "Dans cet exemple, on va voir que l’ordinateur va ouvrir une nouvelle fenêtre.\n",
        "\n",
        "``` python\n",
        "import time\n",
        "\n",
        "from selenium import webdriver\n",
        "from selenium.webdriver.common.keys import Keys\n",
        "\n",
        "chrome_options = webdriver.ChromeOptions()\n",
        "chrome_options.add_argument('--headless')\n",
        "chrome_options.add_argument('--no-sandbox')\n",
        "#chrome_options.add_argument('--verbose') \n",
        "#chrome_options.add_argument('--disable-dev-shm-usage')\n",
        "\n",
        "browser = webdriver.Chrome(executable_path=path_to_web_driver,\n",
        "                           options=chrome_options)\n",
        "\n",
        "browser.get('https://www.bing.com/news')\n",
        "\n",
        "# on cherche l'endroit où on peut remplir un formulaire\n",
        "# en utilisant les outils du navigateur > inspecter les éléments de la page\n",
        "# on voit que la barre de recherche est un élement du code appelé 'q' comme query\n",
        "# on lui demande de chercher cet élément\n",
        "\n",
        "search = browser.find_element_by_name('q')\n",
        "print(search)\n",
        "print([search.text, search.tag_name, search.id])\n",
        "\n",
        "# on envoie à cet endroit le mot qu'on aurait tapé dans la barre de recherche\n",
        "search.send_keys(\"Trump\")\n",
        "\n",
        "search_button = browser.find_element_by_xpath(\"//input[@id='sb_form_go']\")\n",
        "\n",
        "#search_button = browser.find_element_by_id('search_button_homepage')\n",
        " \n",
        "search_button.click()\n",
        "\n",
        "# on appuie sur le bouton \"Entrée\" Return en anglais\n",
        "#search.send_keys(Keys.RETURN)\n",
        "```\n",
        "\n",
        "``` python\n",
        "png = browser.get_screenshot_as_png()\n",
        "```\n",
        "\n",
        "``` python\n",
        "from IPython.display import Image\n",
        "Image(png, width='500')\n",
        "```\n",
        "\n",
        "On extrait les résultats.\n",
        "\n",
        "``` python\n",
        "from selenium.common.exceptions import StaleElementReferenceException\n",
        "links = browser.find_elements_by_xpath(\"//div/a[@class='title'][@href]\")\n",
        "\n",
        "results = []\n",
        "for link in links:\n",
        "    try:\n",
        "        url = link.get_attribute('href')\n",
        "    except StaleElementReferenceException as e:\n",
        "        print(\"Issue with '{0}' and '{1}'\".format(url, link))\n",
        "        print(\"It might be due to slow javascript which produces the HTML page.\")\n",
        "    results.append(url)\n",
        "\n",
        "len(results)\n",
        "```\n",
        "\n",
        "``` python\n",
        "# on a une pause de 10 secondes pour aller voir ce qui se passe sur la page internet\n",
        "# on demande de quitter le navigateur quand tout est fini\n",
        "browser.quit()\n",
        "```\n",
        "\n",
        "``` python\n",
        "print(results)\n",
        "```\n",
        "\n",
        "## Utiliser selenium pour jouer à 2048\n",
        "\n",
        "Dans cet exemple, on utilise le module pour que python appuie lui même sur les touches du clavier afin de jouer à 2048.\n",
        "\n",
        "Note : ce bout de code ne donne pas une solution à 2048, il permet juste de voir ce qu’on peut faire avec selenium\n",
        "\n",
        "``` python\n",
        "from selenium import webdriver\n",
        "from selenium.webdriver.common.keys import Keys\n",
        "\n",
        "# on ouvre la page internet du jeu 2048\n",
        "\n",
        "browser = webdriver.Chrome(executable_path=path_to_web_driver,\n",
        "                           options=chrome_options)\n",
        "browser.get('https://play2048.co//')\n",
        "\n",
        "# Ce qu'on va faire : une boucle qui répète inlassablement la même chose : haut / droite / bas / gauche\n",
        "\n",
        "# on commence par cliquer sur la page pour que les touches sachent \n",
        "browser.find_element_by_class_name('grid-container').click()\n",
        "grid = browser.find_element_by_tag_name('body')\n",
        "\n",
        "# pour savoir quels coups faire à quel moment, on crée un dictionnaire\n",
        "direction = {0: Keys.UP, 1: Keys.RIGHT, 2: Keys.DOWN, 3: Keys.LEFT}\n",
        "count = 0\n",
        "\n",
        "while True:\n",
        "    try: # on vérifie que le bouton \"Try again\" n'est pas là - sinon ça veut dire que le jeu est fini\n",
        "        retryButton = browser.find_element_by_link_text('Try again')\n",
        "        scoreElem = browser.find_element_by_class_name('score-container')\n",
        "        break\n",
        "    except:\n",
        "        #Do nothing.  Game is not over yet\n",
        "        pass\n",
        "    # on continue le jeu - on appuie sur la touche suivante pour le coup d'après\n",
        "    count += 1\n",
        "    grid.send_keys(direction[count % 4]) \n",
        "    time.sleep(0.1)\n",
        "\n",
        "print('Score final : {} en {} coups'.format(scoreElem.text, count))    \n",
        "browser.quit()\n",
        "```"
      ],
      "id": "bae2d5e8-7c63-45ba-92de-30673c36f6d4"
    }
  ],
  "nbformat": 4,
  "nbformat_minor": 5,
  "metadata": {
    "kernelspec": {
      "name": "python3",
      "display_name": "Python 3 (ipykernel)",
      "language": "python"
    },
    "language_info": {
      "name": "python",
      "codemirror_mode": {
        "name": "ipython",
        "version": "3"
      },
      "file_extension": ".py",
      "mimetype": "text/x-python",
      "nbconvert_exporter": "python",
      "pygments_lexer": "ipython3",
      "version": "3.9.13"
    }
  }
}