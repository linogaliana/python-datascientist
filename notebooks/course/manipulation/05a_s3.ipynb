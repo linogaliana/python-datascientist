{
 "cells": [
  {
   "cell_type": "markdown",
   "id": "58675afa",
   "metadata": {},
   "source": [
    "#  Lire des données depuis s3"
   ]
  },
  {
   "cell_type": "markdown",
   "id": "84d771ea",
   "metadata": {},
   "source": [
    "<a href=\"https://github.com/linogaliana/python-datascientist/blob/master/notebooks/course/manipulation/05a_s3.ipynb\" class=\"github\"><i class=\"fab fa-github\"></i></a>\n",
    "[![nbviewer](https://img.shields.io/badge/visualize-nbviewer-blue)](https://nbviewer.jupyter.org/github/linogaliana/python-datascientist/blob/master/notebooks/course/manipulation/05a_s3.ipynb)\n",
    "[![Onyxia](https://img.shields.io/badge/SSPcloud-Tester%20via%20SSP--cloud-informational&color=yellow?logo=Python)](https://datalab.sspcloud.fr/launcher/inseefrlab-helm-charts-datascience/jupyter?onyxia.friendlyName=%C2%ABpython-datascientist%C2%BB&resources.requests.memory=%C2%AB4Gi%C2%BB)\n",
    "[![Binder](https://mybinder.org/badge_logo.svg)](https://mybinder.org/v2/gh/linogaliana/python-datascientist/master?filepath=notebooks/course/manipulation/05a_s3.ipynb)\n",
    "[![Open In Colab](https://colab.research.google.com/assets/colab-badge.svg)](http://colab.research.google.com/github/linogaliana/python-datascientist/blob/master/notebooks/course/manipulation/05a_s3.ipynb)\n",
    "\n",
    "## Qu'est-ce que le système de stockage S3 ?\n",
    "\n",
    "Dans les entreprises et administrations, un nombre croissant de données sont\n",
    "disponibles depuis un système de stockage\n",
    "nommé `S3`. \n",
    "Le système S3 (*Simple Storage System*) est un système de stockage développé\n",
    "par Amazon et qui est maintenant devenu une référence pour le stockage en ligne.\n",
    "Il s'agit d'une architecture à la fois\n",
    "sécurisée (données cryptées, accès restreints) et performante.\n",
    "\n",
    "Le concept central du système S3 est le *bucket*.\n",
    "Un *bucket* est un espace (privé ou partagé) où on peut stocker une\n",
    "arborescence de fichiers. Pour accéder aux fichiers figurant\n",
    "dans un *bucket* privé, il fournit des jetons d'accès (l'équivalent d'un mot de passe)\n",
    "reconnus par le serveur de stockage. On peut alors lire et écrire dans le *bucket*.\n",
    "\n",
    "Le SSP cloud \n",
    "[![Onyxia](https://img.shields.io/badge/SSPcloud-Tester%20via%20SSP--cloud-informational&color=yellow?logo=Python)](https://datalab.sspcloud.fr/launcher/inseefrlab-helm-charts-datascience/jupyter?onyxia.friendlyName=%C2%ABpython-datascientist%C2%BB&resources.requests.memory=%C2%AB4Gi%C2%BB) repose par exemple sur cette infrastructure technique. "
   ]
  },
  {
   "cell_type": "markdown",
   "id": "54bd3c09",
   "metadata": {},
   "source": [
    "## Comment faire avec Python ?\n",
    "\n",
    "L'interaction entre ce système distant de fichiers et une session locale de Python\n",
    "est possible grâce à des API. Les deux principales librairies sont les suivantes:\n",
    "\n",
    "* [boto3](https://boto3.amazonaws.com/v1/documentation/api/latest/index.html)\n",
    "* [s3fs](https://s3fs.readthedocs.io/en/latest/)\n",
    "\n",
    "Elles offrent toutes deux la possibilité de se connecter depuis `Python`,\n",
    "à un dépôt de fichiers distant, de lister les fichiers disponibles dans un\n",
    "*bucket*, d'en télécharger un ou plusieurs ou de faire de l'*upload*\n",
    "\n",
    "Les exemples suivants seront réplicables pour les utilisateurs de la plateforme\n",
    "SSP-cloud\n",
    "\n",
    "Personnellement, j'ai une petite préférence pour `boto3` que je trouve plus\n",
    "intuitif.\n",
    "\n",
    "## Connexion à un bucket\n",
    "\n",
    "Par la suite, on va utiliser des alias pour les trois valeurs suivantes, qui servent\n",
    "à s'authentifier. \n"
   ]
  },
  {
   "cell_type": "code",
   "execution_count": null,
   "id": "cf4c798b",
   "metadata": {},
   "outputs": [],
   "source": [
    "key_id = 'MY_KEY_ID'\n",
    "access_key = 'MY_ACCESS_KEY'\n",
    "token = \"MY_TOKEN\""
   ]
  },
  {
   "cell_type": "markdown",
   "id": "3f9d2c0c",
   "metadata": {},
   "source": [
    "Ces valeurs peuvent être également disponibles dans \n",
    "les variables d'environnement de `Python`. Comme il s'agit d'une information\n",
    "d'authentification personnelle, il ne faut pas stocker les vraies valeurs de ces\n",
    "variables dans un projet, sous peine de partager des traits d'identité sans le\n",
    "vouloir lors d'un partage de code. \n",
    "\n",
    "### boto3\n",
    "\n",
    "Avec `boto3`, on créé d'abord un client puis on exécute des requêtes dessus.\n",
    "Pour initialiser un client, il suffit, en supposant que l'url du dépôt S3 est\n",
    "`\"https://minio.lab.sspcloud.fr\"`, de faire:\n"
   ]
  },
  {
   "cell_type": "code",
   "execution_count": null,
   "id": "f36c6fb2",
   "metadata": {},
   "outputs": [],
   "source": [
    "import boto3\n",
    "s3 = boto3.client(\"s3\",endpoint_url = \"https://minio.lab.sspcloud.fr\")"
   ]
  },
  {
   "cell_type": "markdown",
   "id": "2679e0b7",
   "metadata": {},
   "source": [
    "Il se peut que la connexion à ce stade soit refusée (HTTP error 403).\n",
    "Cela peut provenir \n",
    "d'une erreur dans l'URL utilisé. Cependant, cela reflète plus généralement\n",
    "des paramètres d'authentification erronés. Dans ce cas, il est plus fiable\n",
    "de les fournir à `boto3.client`\n",
    "\n"
   ]
  },
  {
   "cell_type": "code",
   "execution_count": null,
   "id": "5a4f83e9",
   "metadata": {},
   "outputs": [],
   "source": [
    "import boto3\n",
    "s3 = boto3.client(\"s3\",endpoint_url = \"https://minio.lab.sspcloud.fr\",\n",
    "                  aws_access_key_id=key_id, \n",
    "                  aws_secret_access_key=access_key, \n",
    "                  aws_session_token = token)"
   ]
  },
  {
   "cell_type": "markdown",
   "id": "f4090737",
   "metadata": {},
   "source": [
    "Dans le SSP-cloud, \n",
    "lorsque l'initialisation du service `Jupyter` du SSP-cloud est récente\n",
    "(moins de 12 heures), il est possible d'utiliser\n",
    "automatiquement les jetons stockés automatiquement à la création du dépôt. \n",
    "\n",
    "Si on désire accéder aux données du SSP-cloud depuis une session python extérieure\n",
    "au datalab, il faut remplacer l'url par `http://minio.lab.sspcloud.fr`\n",
    "\n",
    "S'il n'y a pas d'erreur à ce stade, c'est que la connexion est bien effective.\n",
    "Pour le vérifier, on peut essayer de faire la liste des fichiers disponibles\n",
    "dans un `bucket` auquel on désire accéder. Par exemple, on peut vouloir\n",
    "tester l'accès aux bases `FILOSOFI` (données de revenu localisées disponibles\n",
    "sur <https://www.insee.fr>) au sein du bucket `donnees-insee`. Pour cela,\n",
    "la méthode `list_objects` offre toutes les options nécessaires:\n"
   ]
  },
  {
   "cell_type": "code",
   "execution_count": null,
   "id": "6ffb94df",
   "metadata": {},
   "outputs": [],
   "source": [
    "for key in s3.list_objects(Bucket='donnees-insee', Prefix='FILOSOFI')['Contents']:\n",
    "    print(key['Key'])"
   ]
  },
  {
   "cell_type": "markdown",
   "id": "b094b4a8",
   "metadata": {},
   "source": [
    "### s3fs\n",
    "\n",
    "La logique est identique avec `s3fs`. \n",
    "\n",
    "Si on a des jetons d'accès à jour et dans les variables d'environnement\n",
    "adéquates:\n"
   ]
  },
  {
   "cell_type": "code",
   "execution_count": null,
   "id": "89673a60",
   "metadata": {},
   "outputs": [],
   "source": [
    "import s3fs\n",
    "fs = s3fs.S3FileSystem(\n",
    "  client_kwargs={'endpoint_url': 'https://minio.lab.sspcloud.fr'})"
   ]
  },
  {
   "cell_type": "markdown",
   "id": "626e4d30",
   "metadata": {},
   "source": [
    "Sinon, on ajoute les crédits d'authentification:\n"
   ]
  },
  {
   "cell_type": "code",
   "execution_count": null,
   "id": "94e3caec",
   "metadata": {},
   "outputs": [],
   "source": [
    "import s3fs\n",
    "fs = s3fs.S3FileSystem(\n",
    "  client_kwargs={'endpoint_url': 'https://'+'minio.lab.sspcloud.fr'},\n",
    "  key = key_id, secret = access_key,\n",
    "  token = token)"
   ]
  },
  {
   "cell_type": "markdown",
   "id": "3aa5e22c",
   "metadata": {},
   "source": [
    "Pour lister les fichiers, c'est la méthode `ls` (celle-ci ne liste pas par\n",
    "défaut les fichiers de manière récursive comme `boto3`):\n"
   ]
  },
  {
   "cell_type": "code",
   "execution_count": null,
   "id": "a3087fed",
   "metadata": {},
   "outputs": [],
   "source": [
    "fs.ls(\"donnees-insee\")"
   ]
  },
  {
   "cell_type": "markdown",
   "id": "2c112714",
   "metadata": {},
   "source": [
    "## Télécharger un fichier depuis s3 pour l'enregistrer en local\n",
    "\n",
    "### boto3\n"
   ]
  },
  {
   "cell_type": "code",
   "execution_count": null,
   "id": "b439e3d3",
   "metadata": {},
   "outputs": [],
   "source": [
    "s3.download_file('donnees-insee', \"FILOSOFI/2014/FILOSOFI_COM.csv\", 'data.csv')"
   ]
  },
  {
   "cell_type": "markdown",
   "id": "85ef1d48",
   "metadata": {},
   "source": [
    "### s3fs\n",
    "\n",
    "TO BE COMPLETED"
   ]
  },
  {
   "cell_type": "markdown",
   "id": "02c0056b",
   "metadata": {},
   "source": [
    "## Lire un fichier directement\n",
    "\n",
    "La méthode précédente n'est pas optimale. En effet, l'un des intérêts des API\n",
    "est qu'on peut traiter un fichier sur s3 comme s'il s'agissait d'un fichier\n",
    "sur son PC. Cela est d'ailleurs une manière plus sécurisée de procéder puisqu'on\n",
    "décrypte les données à la volée. \n",
    "\n",
    "### boto3\n"
   ]
  },
  {
   "cell_type": "code",
   "execution_count": null,
   "id": "be3c7a1d",
   "metadata": {},
   "outputs": [],
   "source": [
    "obj = s3.get_object(Bucket='donnees-insee', Key=\"FILOSOFI/2014/FILOSOFI_COM.csv\")\n",
    "df = pd.read_csv(obj['Body'], sep = \";\")\n",
    "df.head(2)"
   ]
  },
  {
   "cell_type": "markdown",
   "id": "0359644c",
   "metadata": {},
   "source": [
    "### s3fs\n",
    "\n",
    "Le code suivant devrait permettre d'effectuer la même opération avec `s3fs`\n"
   ]
  },
  {
   "cell_type": "code",
   "execution_count": null,
   "id": "4283c203",
   "metadata": {},
   "outputs": [],
   "source": [
    "df = pd.read_csv(fs.open('{}/{}'.format('donnees-insee', \"FILOSOFI/2014/FILOSOFI_COM.csv\"),\n",
    "                         mode='rb')\n",
    "                 )\n",
    "\n",
    "df.head(2)"
   ]
  },
  {
   "cell_type": "markdown",
   "id": "c49ede09",
   "metadata": {},
   "source": [
    "## Uploader un fichier\n",
    "\n",
    "### boto3\n"
   ]
  },
  {
   "cell_type": "code",
   "execution_count": null,
   "id": "7808f963",
   "metadata": {},
   "outputs": [],
   "source": [
    "s3.upload_file(file_name, bucket, object_name)"
   ]
  },
  {
   "cell_type": "markdown",
   "id": "a719acd2",
   "metadata": {},
   "source": [
    "### s3fs\n",
    "\n",
    "TO BE COMPLETED"
   ]
  }
 ],
 "metadata": {
  "kernelspec": {
   "display_name": "Python 3",
   "language": "python",
   "name": "python3"
  }
 },
 "nbformat": 4,
 "nbformat_minor": 5
}
