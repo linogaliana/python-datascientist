{
 "cells": [
  {
   "cell_type": "markdown",
   "id": "9889b550",
   "metadata": {},
   "source": [
    "#  Lire des données depuis s3\n",
    "\n"
   ]
  },
  {
   "cell_type": "markdown",
   "id": "ac89d0fc",
   "metadata": {},
   "source": [
    "<a href=\"https://github.com/linogaliana/python-datascientist/blob/master//__w/python-datascientist/python-datascientist/notebooks/course/manipulation/05a_s3.ipynb\" class=\"github\"><i class=\"fab fa-github\"></i></a>\n",
    "[![Download](https://img.shields.io/badge/Download-Notebook-important?logo=Jupyter)](https://downgit.github.io/#/home?url=https://github.com/linogaliana/python-datascientist/blob/master//__w/python-datascientist/python-datascientist/notebooks/course/manipulation/05a_s3.ipynb)\n",
    "[![nbviewer](https://img.shields.io/badge/Visualize-nbviewer-blue?logo=Jupyter)](https://nbviewer.jupyter.org/github/linogaliana/python-datascientist/blob/master//__w/python-datascientist/python-datascientist/notebooks/course/manipulation/05a_s3.ipynb)\n",
    "[![Onyxia](https://img.shields.io/badge/SSPcloud-Tester%20via%20SSP--cloud-informational&color=yellow?logo=Python)](https://datalab.sspcloud.fr/launcher/inseefrlab-helm-charts-datascience/jupyter?onyxia.friendlyName=«python-datascientist»&resources.requests.memory=«4Gi»&security.allowlist.enabled=false&init.personalInit=«https://raw.githubusercontent.com/linogaliana/python-datascientist/master/init_onyxia.sh»)\n",
    "[![Binder](https://img.shields.io/badge/Launch-Binder-E66581.svg?logo=data:image/png;base64,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)](https://mybinder.org/v2/gh/linogaliana/python-datascientist/master?filepath=/__w/python-datascientist/python-datascientist/notebooks/course/manipulation/05a_s3.ipynb)\n",
    "[![Open In Colab](https://colab.research.google.com/assets/colab-badge.svg)](http://colab.research.google.com/github/linogaliana/python-datascientist/blob/master//__w/python-datascientist/python-datascientist/notebooks/course/manipulation/05a_s3.ipynb)\n",
    "\n",
    "## Qu'est-ce que le système de stockage S3 ?\n",
    "\n",
    "Dans les entreprises et administrations, un nombre croissant de données sont\n",
    "disponibles depuis un système de stockage\n",
    "nommé `S3`. \n",
    "Le système S3 (*Simple Storage System*) est un système de stockage développé\n",
    "par Amazon et qui est maintenant devenu une référence pour le stockage en ligne.\n",
    "Il s'agit d'une architecture à la fois\n",
    "sécurisée (données cryptées, accès restreints) et performante.\n",
    "\n",
    "Le concept central du système S3 est le *bucket*.\n",
    "Un *bucket* est un espace (privé ou partagé) où on peut stocker une\n",
    "arborescence de fichiers. Pour accéder aux fichiers figurant\n",
    "dans un *bucket* privé, il fournit des jetons d'accès (l'équivalent d'un mot de passe)\n",
    "reconnus par le serveur de stockage. On peut alors lire et écrire dans le *bucket*.\n",
    "\n",
    "Le SSP cloud \n",
    "[![Onyxia](https://img.shields.io/badge/SSPcloud-Tester%20via%20SSP--cloud-informational&color=yellow?logo=Python)](https://datalab.sspcloud.fr/launcher/inseefrlab-helm-charts-datascience/jupyter?onyxia.friendlyName=%C2%ABpython-datascientist%C2%BB&resources.requests.memory=%C2%AB4Gi%C2%BB) repose par exemple sur cette infrastructure technique. "
   ]
  },
  {
   "cell_type": "markdown",
   "id": "2837a7bc",
   "metadata": {},
   "source": [
    "## Comment faire avec Python ?\n",
    "\n",
    "L'interaction entre ce système distant de fichiers et une session locale de Python\n",
    "est possible grâce à des API. Les deux principales librairies sont les suivantes:\n",
    "\n",
    "* [boto3](https://boto3.amazonaws.com/v1/documentation/api/latest/index.html)\n",
    "* [s3fs](https://s3fs.readthedocs.io/en/latest/)\n",
    "\n",
    "Elles offrent toutes deux la possibilité de se connecter depuis `Python`,\n",
    "à un dépôt de fichiers distant, de lister les fichiers disponibles dans un\n",
    "*bucket*, d'en télécharger un ou plusieurs ou de faire de l'*upload*\n",
    "\n",
    "Les exemples suivants seront réplicables pour les utilisateurs de la plateforme\n",
    "SSP-cloud\n",
    "\n",
    "Personnellement, j'ai une petite préférence pour `boto3` que je trouve plus\n",
    "intuitif.\n",
    "\n",
    "## Connexion à un bucket\n",
    "\n",
    "Par la suite, on va utiliser des alias pour les trois valeurs suivantes, qui servent\n",
    "à s'authentifier. \n"
   ]
  },
  {
   "cell_type": "code",
   "execution_count": null,
   "id": "4984c4b8",
   "metadata": {},
   "outputs": [],
   "source": [
    "key_id = 'MY_KEY_ID'\n",
    "access_key = 'MY_ACCESS_KEY'\n",
    "token = \"MY_TOKEN\""
   ]
  },
  {
   "cell_type": "markdown",
   "id": "5e55322e",
   "metadata": {},
   "source": [
    "Ces valeurs peuvent être également disponibles dans \n",
    "les variables d'environnement de `Python`. Comme il s'agit d'une information\n",
    "d'authentification personnelle, il ne faut pas stocker les vraies valeurs de ces\n",
    "variables dans un projet, sous peine de partager des traits d'identité sans le\n",
    "vouloir lors d'un partage de code. \n",
    "\n",
    "### boto3\n",
    "\n",
    "Avec `boto3`, on créé d'abord un client puis on exécute des requêtes dessus.\n",
    "Pour initialiser un client, il suffit, en supposant que l'url du dépôt S3 est\n",
    "`\"https://minio.lab.sspcloud.fr\"`, de faire:\n"
   ]
  },
  {
   "cell_type": "code",
   "execution_count": null,
   "id": "24a0c29f",
   "metadata": {},
   "outputs": [],
   "source": [
    "import boto3\n",
    "s3 = boto3.client(\"s3\",endpoint_url = \"https://minio.lab.sspcloud.fr\")"
   ]
  },
  {
   "cell_type": "markdown",
   "id": "486ace8e",
   "metadata": {},
   "source": [
    "Il se peut que la connexion à ce stade soit refusée (HTTP error 403).\n",
    "Cela peut provenir \n",
    "d'une erreur dans l'URL utilisé. Cependant, cela reflète plus généralement\n",
    "des paramètres d'authentification erronés. Dans ce cas, il est plus fiable\n",
    "de les fournir à `boto3.client`\n",
    "\n"
   ]
  },
  {
   "cell_type": "code",
   "execution_count": null,
   "id": "aaf1dda4",
   "metadata": {},
   "outputs": [],
   "source": [
    "import boto3\n",
    "s3 = boto3.client(\"s3\",endpoint_url = \"https://minio.lab.sspcloud.fr\",\n",
    "                  aws_access_key_id=key_id, \n",
    "                  aws_secret_access_key=access_key, \n",
    "                  aws_session_token = token)"
   ]
  },
  {
   "cell_type": "markdown",
   "id": "c5d70ca4",
   "metadata": {},
   "source": [
    "Dans le SSP-cloud, \n",
    "lorsque l'initialisation du service `Jupyter` du SSP-cloud est récente\n",
    "(moins de 12 heures), il est possible d'utiliser\n",
    "automatiquement les jetons stockés automatiquement à la création du dépôt. \n",
    "\n",
    "Si on désire accéder aux données du SSP-cloud depuis une session python extérieure\n",
    "au datalab, il faut remplacer l'url par `http://minio.lab.sspcloud.fr`\n",
    "\n",
    "S'il n'y a pas d'erreur à ce stade, c'est que la connexion est bien effective.\n",
    "Pour le vérifier, on peut essayer de faire la liste des fichiers disponibles\n",
    "dans un `bucket` auquel on désire accéder. Par exemple, on peut vouloir\n",
    "tester l'accès aux bases `FILOSOFI` (données de revenu localisées disponibles\n",
    "sur <https://www.insee.fr>) au sein du bucket `donnees-insee`. Pour cela,\n",
    "la méthode `list_objects` offre toutes les options nécessaires:\n"
   ]
  },
  {
   "cell_type": "code",
   "execution_count": null,
   "id": "ab7c8683",
   "metadata": {},
   "outputs": [],
   "source": [
    "for key in s3.list_objects(Bucket='donnees-insee', Prefix='FILOSOFI')['Contents']:\n",
    "    print(key['Key'])"
   ]
  },
  {
   "cell_type": "markdown",
   "id": "adbd59c7",
   "metadata": {},
   "source": [
    "### s3fs\n",
    "\n",
    "La logique est identique avec `s3fs`. \n",
    "\n",
    "Si on a des jetons d'accès à jour et dans les variables d'environnement\n",
    "adéquates:\n"
   ]
  },
  {
   "cell_type": "code",
   "execution_count": null,
   "id": "dc8b9cd2",
   "metadata": {},
   "outputs": [],
   "source": [
    "import s3fs\n",
    "fs = s3fs.S3FileSystem(\n",
    "  client_kwargs={'endpoint_url': 'https://minio.lab.sspcloud.fr'})"
   ]
  },
  {
   "cell_type": "markdown",
   "id": "f4deea47",
   "metadata": {},
   "source": [
    "Sinon, on ajoute les crédits d'authentification:\n"
   ]
  },
  {
   "cell_type": "code",
   "execution_count": null,
   "id": "f0a04f3b",
   "metadata": {},
   "outputs": [],
   "source": [
    "import s3fs\n",
    "fs = s3fs.S3FileSystem(\n",
    "  client_kwargs={'endpoint_url': 'https://'+'minio.lab.sspcloud.fr'},\n",
    "  key = key_id, secret = access_key,\n",
    "  token = token)"
   ]
  },
  {
   "cell_type": "markdown",
   "id": "2ecf1e25",
   "metadata": {},
   "source": [
    "Pour lister les fichiers, c'est la méthode `ls` (celle-ci ne liste pas par\n",
    "défaut les fichiers de manière récursive comme `boto3`):\n"
   ]
  },
  {
   "cell_type": "code",
   "execution_count": null,
   "id": "bfa4899d",
   "metadata": {},
   "outputs": [],
   "source": [
    "fs.ls(\"donnees-insee\")"
   ]
  },
  {
   "cell_type": "markdown",
   "id": "6199a7c7",
   "metadata": {},
   "source": [
    "## Télécharger un fichier depuis s3 pour l'enregistrer en local\n",
    "\n",
    "### boto3\n"
   ]
  },
  {
   "cell_type": "code",
   "execution_count": null,
   "id": "02c5b02e",
   "metadata": {},
   "outputs": [],
   "source": [
    "s3.download_file('donnees-insee', \"FILOSOFI/2014/FILOSOFI_COM.csv\", 'data.csv')"
   ]
  },
  {
   "cell_type": "markdown",
   "id": "deb97c2e",
   "metadata": {},
   "source": [
    "### s3fs\n",
    "\n",
    "TO BE COMPLETED"
   ]
  },
  {
   "cell_type": "markdown",
   "id": "63c539b7",
   "metadata": {},
   "source": [
    "## Lire un fichier directement\n",
    "\n",
    "La méthode précédente n'est pas optimale. En effet, l'un des intérêts des API\n",
    "est qu'on peut traiter un fichier sur s3 comme s'il s'agissait d'un fichier\n",
    "sur son PC. Cela est d'ailleurs une manière plus sécurisée de procéder puisqu'on\n",
    "décrypte les données à la volée. \n",
    "\n",
    "### boto3\n"
   ]
  },
  {
   "cell_type": "code",
   "execution_count": null,
   "id": "47eb54ce",
   "metadata": {},
   "outputs": [],
   "source": [
    "obj = s3.get_object(Bucket='donnees-insee', Key=\"FILOSOFI/2014/FILOSOFI_COM.csv\")\n",
    "df = pd.read_csv(obj['Body'], sep = \";\")\n",
    "df.head(2)"
   ]
  },
  {
   "cell_type": "markdown",
   "id": "24cdcce6",
   "metadata": {},
   "source": [
    "### s3fs\n",
    "\n",
    "Le code suivant devrait permettre d'effectuer la même opération avec `s3fs`\n"
   ]
  },
  {
   "cell_type": "code",
   "execution_count": null,
   "id": "ad0afde2",
   "metadata": {},
   "outputs": [],
   "source": [
    "df = pd.read_csv(fs.open('{}/{}'.format('donnees-insee', \"FILOSOFI/2014/FILOSOFI_COM.csv\"),\n",
    "                         mode='rb')\n",
    "                 )\n",
    "\n",
    "df.head(2)"
   ]
  },
  {
   "cell_type": "markdown",
   "id": "b5fad307",
   "metadata": {},
   "source": [
    "## Uploader un fichier\n",
    "\n",
    "### boto3\n"
   ]
  },
  {
   "cell_type": "code",
   "execution_count": null,
   "id": "c2103509",
   "metadata": {},
   "outputs": [],
   "source": [
    "s3.upload_file(file_name, bucket, object_name)"
   ]
  },
  {
   "cell_type": "markdown",
   "id": "034b8577",
   "metadata": {},
   "source": [
    "### s3fs\n",
    "\n",
    "TO BE COMPLETED"
   ]
  }
 ],
 "metadata": {
  "kernelspec": {
   "display_name": "Python 3",
   "language": "python",
   "name": "python3"
  }
 },
 "nbformat": 4,
 "nbformat_minor": 5
}
