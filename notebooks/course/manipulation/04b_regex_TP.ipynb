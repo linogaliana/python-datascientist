{
 "cells": [
  {
   "cell_type": "markdown",
   "id": "0d129988",
   "metadata": {},
   "source": [
    "#  Maîtriser les expressions régulières"
   ]
  },
  {
   "cell_type": "markdown",
   "id": "98ab20a2",
   "metadata": {},
   "source": [
    "<a href=\"https://github.com/linogaliana/python-datascientist/blob/master/notebooks/course/manipulation/04b_regex_TP.ipynb\" class=\"github\"><i class=\"fab fa-github\"></i></a>\n",
    "[![Download](https://img.shields.io/badge/Download-Notebook-important?logo=Jupyter)](https://downgit.github.io/#/home?url=https://github.com/linogaliana/python-datascientist/blob/master/notebooks/course/manipulation/04b_regex_TP.ipynb)\n",
    "[![nbviewer](https://img.shields.io/badge/Visualize-nbviewer-blue?logo=Jupyter)](https://nbviewer.jupyter.org/github/linogaliana/python-datascientist/blob/master/notebooks/course/manipulation/04b_regex_TP.ipynb)\n",
    "[![Onyxia](https://img.shields.io/badge/SSPcloud-Tester%20via%20SSP--cloud-informational&color=yellow?logo=Python)](https://datalab.sspcloud.fr/launcher/inseefrlab-helm-charts-datascience/jupyter?onyxia.friendlyName=%C2%ABpython-datascientist%C2%BB&resources.requests.memory=%C2%AB4Gi%C2%BB)\n",
    "[![Binder](https://img.shields.io/badge/Launch-Binder-E66581.svg?logo=data:image/png;base64,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)](https://mybinder.org/v2/gh/linogaliana/python-datascientist/master?filepath=notebooks/course/manipulation/04b_regex_TP.ipynb)\n",
    "[![Open In Colab](https://colab.research.google.com/assets/colab-badge.svg)](http://colab.research.google.com/github/linogaliana/python-datascientist/blob/master/notebooks/course/manipulation/04b_regex_TP.ipynb)"
   ]
  },
  {
   "cell_type": "markdown",
   "id": "b47bae18",
   "metadata": {},
   "source": [
    "Chercher un mot dans un texte est une tâche facile, c'est l'objectif de la méthode find attachée aux chaînes de caractères, elle suffit encore lorsqu'on cherche un mot au pluriel ou au singulier mais il faut l'appeler au moins deux fois pour chercher ces deux formes. \n",
    "\n",
    "Pour des expressions plus compliquées, il est conseillé d'utiliser les expressions régulières. C'est une fonctionnalité qu'on retrouve dans beaucoup de langages. C'est une forme de grammaire qui permet de rechercher des expressions.\n"
   ]
  },
  {
   "cell_type": "markdown",
   "id": "0143bb98",
   "metadata": {},
   "source": [
    "Lorsqu'on remplit un formulaire, on voit souvent le format ``\"MM/JJ/AAAA\"`` qui précise sous quelle forme on s'attend à ce qu’une date soit écrite. Les expressions régulières permettent de définir également ce format et de chercher dans un texte toutes les chaînes de caractères qui sont conformes à ce format.\n",
    "\n",
    "La liste qui suit contient des dates de naissance. On cherche à obtenir toutes les dates de cet exemple sachant que les jours ou les mois contiennent un ou deux chiffres, les années deux ou quatre.\n"
   ]
  },
  {
   "cell_type": "code",
   "execution_count": null,
   "id": "602584e4",
   "metadata": {},
   "outputs": [],
   "source": [
    "s = \"\"\"date 0 : 14/9/2000\n",
    "date 1 : 20/04/1971     date 2 : 14/09/1913     date 3 : 2/3/1978\n",
    "date 4 : 1/7/1986     date 5 : 7/3/47     date 6 : 15/10/1914\n",
    "date 7 : 08/03/1941     date 8 : 8/1/1980     date 9 : 30/6/1976\"\"\""
   ]
  },
  {
   "cell_type": "markdown",
   "id": "7a029819",
   "metadata": {
    "lines_to_next_cell": 2
   },
   "source": [
    "#### Exemple introductif : Format de date \n",
    "\n",
    "Le premier chiffre du ``jour`` est soit 0, 1, 2, ou 3 ; ceci se traduit par ``[0-3]``. \n",
    "\n",
    "Le second chiffre est compris entre 0 et 9, soit ``[0-9]``. Le format des jours est traduit par ``[0-3][0-9]``. Mais le premier jour est facultatif, ce qu'on précise avec le symbole ? : ``[0-3]?[0-9]``. \n",
    "\n",
    "Les ``mois`` suivent le même principe : ``[0-1]?[0-9]``. \n",
    "\n",
    "\n",
    "Pour les ``années``, ce sont les deux premiers chiffres qui sont facultatifs, le symbole ? s'appliquent sur les deux premiers chiffres : ``[0-2]?[0-9]?[0-9][0-9]``. Le format final d'une date devient :"
   ]
  },
  {
   "cell_type": "code",
   "execution_count": null,
   "id": "6b0792c1",
   "metadata": {},
   "outputs": [],
   "source": [
    "[0-3]?[0-9]/[0-1]?[0-9]/[0-2]?[0-9]?[0-9][0-9]"
   ]
  },
  {
   "cell_type": "markdown",
   "id": "168be907",
   "metadata": {},
   "source": [
    "Le module re gère les expressions régulières, celui-ci traite différemment les parties de l'expression régulière qui sont entre parenthèses de celles qui ne le sont pas : c'est un moyen de dire au module re que nous nous intéressons à telle partie de l'expression qui est signalée entre parenthèses. Comme la partie qui nous intéresse - une date - concerne l'intégralité de l'expression régulière, il faut insérer celle-ci entre parenthèses.\n",
    "\n",
    "La première étape consiste à construire l'expression régulière, la seconde à rechercher toutes les fois qu'un morceau de la chaîne s définie plus haut correspond à l’expression régulière.\n"
   ]
  },
  {
   "cell_type": "code",
   "execution_count": null,
   "id": "8326d012",
   "metadata": {},
   "outputs": [],
   "source": [
    "import re\n",
    "# première étape : construction\n",
    "expression = re.compile(\"([0-3]?[0-9]/[0-1]?[0-9]/[0-2]?[0-9]?[0-9][0-9])\")\n",
    "# seconde étape : recherche\n",
    "res = expression.findall(s)\n",
    "print(res)"
   ]
  },
  {
   "cell_type": "markdown",
   "id": "78108887",
   "metadata": {},
   "source": [
    "```\n",
    "## ['14/9/2000', '20/04/1971', '14/09/1913', '2/3/1978', '1/7/1986', '7/3/47', '15/10/1914', '08/03/1941', '8/1/1980', '30/6/1976']\n",
    "```\n",
    "\n",
    "Le résultat une liste dont chaque élément correspond aux parties comprises entre parenthèses qu'on appelle des groupes. \n",
    "\n",
    "Lorsque les expressions régulières sont utilisées, on doit d'abord se demander comment définir ce qu’on cherche puis quelles fonctions utiliser pour obtenir les résultats de cette recherche. Les deux paragraphes qui suivent y répondent."
   ]
  },
  {
   "cell_type": "markdown",
   "id": "975d5af2",
   "metadata": {},
   "source": [
    "## Syntaxe\n",
    "\n",
    "La syntaxe des expressions régulières est décrite sur le site officiel de python. La page [Regular Expression Syntax](https://docs.python.org/3/library/re.html?highlight=re#regular-expression-syntax) décrit comment se servir des expressions régulières, les deux pages sont en anglais. Comme toute grammaire, celle des expressions régulières est susceptible d’évoluer au fur et à mesure des versions du langage python."
   ]
  },
  {
   "cell_type": "markdown",
   "id": "f84a4688",
   "metadata": {},
   "source": [
    "## Les ensembles de caractères\n",
    "Lors d’une recherche, on s’intéresse aux caractères et souvent aux classes de caractères : on cherche un chiffre, une lettre, un caractère dans un ensemble précis ou un caractère qui n’appartient pas à un ensemble précis. Certains ensembles sont prédéfinis, d’autres doivent être définis à l’aide de crochets.\n",
    "\n",
    "Pour définir un ensemble de caractères, il faut écrire cet ensemble entre crochets : [0123456789] désigne un chiffre. Comme c’est une séquence de caractères consécutifs, on peut résumer cette écriture en [0-9]. Pour inclure les symboles -, +, il suffit d’écrire : [-0-9+]. Il faut penser à mettre le symbole - au début pour éviter qu’il ne désigne une séquence.\n",
    "\n",
    "Le caractère ^ inséré au début du groupe signifie que le caractère cherché ne doit pas être un de ceux qui suivent. Le tableau suivant décrit les ensembles prédéfinis et leur équivalent en terme d’ensemble de caractères :"
   ]
  },
  {
   "cell_type": "markdown",
   "id": "405128e9",
   "metadata": {},
   "source": [
    "* ``.`` désigne tout caractère non spécial quel qu'il soit.\n",
    "* ``\\d`` désigne tout chiffre, est équivalent à ``[0-9]``.\n",
    "* ``\\D`` désigne tout caractère différent d'un chiffre, est équivalent à ``[^0-9]``.\n",
    "* ``\\s`` désigne tout espace ou caractère approché, est équivalent à ``[\\; \\t\\n\\r\\f\\v]``. Ces caractères sont spéciaux, les plus utilisés sont ``\\t`` qui est une tabulation, ``\\n`` qui est une fin de ligne et qui ``\\r`` qui est un retour à la ligne.\n",
    "* ``\\S`` désigne tout caractère différent d'un espace, est équivalent à ``[^ \\t\\n\\r\\f\\v]``.\n",
    "* ``\\w`` désigne tout lettre ou chiffre, est équivalent à ``[a-zA-Z0-9_]``.\n",
    "* ``\\W`` désigne tout caractère différent d'une lettre ou d'un chiffre, est équivalent à ``[^a-zA-Z0-9_]``.\n",
    "* ``^`` désigne le début d'un mot sauf s'il est placé entre crochets.\n",
    "* ``$`` désigne la fin d'un mot sauf s'il est placé entre crochets."
   ]
  },
  {
   "cell_type": "markdown",
   "id": "edb6a6bf",
   "metadata": {},
   "source": [
    "A l'instar des chaînes de caractères, comme le caractère ``\\`` est un caractère spécial, il faut le doubler : ``[\\\\]``."
   ]
  },
  {
   "cell_type": "markdown",
   "id": "54cf8644",
   "metadata": {},
   "source": [
    "## Les multiplicateurs\n",
    "Les multiplicateurs permettent de définir des expressions régulières comme : un mot entre six et huit lettres qu’on écrira ``[\\w]{6,8}``. Le tableau suivant donne la liste des multiplicateurs principaux :"
   ]
  },
  {
   "cell_type": "markdown",
   "id": "cadfbbff",
   "metadata": {},
   "source": [
    "* ``*`` présence de l'ensemble de caractères qui précède entre 0 fois et l'infini\n",
    "* ``+`` présence de l'ensemble de caractères qui précède entre 1 fois et l'infini\n",
    "* ``?`` présence de l'ensemble de caractères qui précède entre 0 et 1 fois\n",
    "* ``{m,n}`` présence de l'ensemble de caractères qui précède entre *m* et *n* fois, si *m=n*, cette expression peut être résumée par ``{n}``.\n",
    "* ``(?!(...))`` absence du groupe désigné par les points de suspensions."
   ]
  },
  {
   "cell_type": "markdown",
   "id": "5bbfa3f2",
   "metadata": {},
   "source": [
    "L’algorithme des expressions régulières essaye toujours de faire correspondre le plus grand morceau à l’expression régulière. \n"
   ]
  },
  {
   "cell_type": "code",
   "execution_count": null,
   "id": "2a949fd8",
   "metadata": {},
   "outputs": [],
   "source": [
    "\"<h1>mot</h1>\""
   ]
  },
  {
   "cell_type": "markdown",
   "id": "93461483",
   "metadata": {},
   "source": [
    "```\n",
    "## '<h1>mot</h1>'\n",
    "```\n",
    "\n",
    "``<.*>`` correspond avec ``<h1>``, ``</h1>`` ou encore ``<h1>mot</h1>``."
   ]
  },
  {
   "cell_type": "markdown",
   "id": "2dbbe8b4",
   "metadata": {},
   "source": [
    "Par conséquent, l’expression régulière correspond à trois morceaux. Par défaut, il prendra le plus grand. Pour choisir les plus petits, il faudra écrire les multiplicateurs comme ceci : ``*?``, ``+?``\n"
   ]
  },
  {
   "cell_type": "code",
   "execution_count": null,
   "id": "5b38e065",
   "metadata": {},
   "outputs": [],
   "source": [
    "import re\n",
    "s = \"<h1>mot</h1>\"\n",
    "expression = re.compile(\"<.*>\")\n",
    "# seconde étape : recherche\n",
    "res = expression.findall(s)\n",
    "print(res)\n"
   ]
  },
  {
   "cell_type": "markdown",
   "id": "be1f578e",
   "metadata": {},
   "source": [
    "```\n",
    "## ['<h1>mot</h1>']\n",
    "```"
   ]
  },
  {
   "cell_type": "code",
   "execution_count": null,
   "id": "3b10fb51",
   "metadata": {},
   "outputs": [],
   "source": [
    "print(re.compile(\"(<.*>)\").match(s).groups())   # ('<h1>mot</h1>',)"
   ]
  },
  {
   "cell_type": "markdown",
   "id": "f156d852",
   "metadata": {},
   "source": [
    "```\n",
    "## ('<h1>mot</h1>',)\n",
    "```\n"
   ]
  },
  {
   "cell_type": "code",
   "execution_count": null,
   "id": "3e45b0af",
   "metadata": {},
   "outputs": [],
   "source": [
    "print(re.compile(\"(.*</h1>)\").match(s))"
   ]
  },
  {
   "cell_type": "markdown",
   "id": "bcc59d66",
   "metadata": {},
   "source": [
    "```\n",
    "## <re.Match object; span=(0, 12), match='<h1>mot</h1>'>\n",
    "```\n"
   ]
  },
  {
   "cell_type": "code",
   "execution_count": null,
   "id": "e93da264",
   "metadata": {},
   "outputs": [],
   "source": [
    "print(re.compile(\".*(<.h1>)\").match(s).groups())  # ('<h1>',)"
   ]
  },
  {
   "cell_type": "markdown",
   "id": "6ed4ff40",
   "metadata": {},
   "source": [
    "```\n",
    "## ('</h1>',)\n",
    "```"
   ]
  },
  {
   "cell_type": "code",
   "execution_count": null,
   "id": "695c9b60",
   "metadata": {},
   "outputs": [],
   "source": [
    "print(re.compile(\"(<.?h1>)\").findall(s))  # ('<h1>',)"
   ]
  },
  {
   "cell_type": "markdown",
   "id": "c7109402",
   "metadata": {},
   "source": [
    "```\n",
    "## ['<h1>', '</h1>']\n",
    "```\n",
    "\n",
    "Un exemple pour trouver des adresses emails : \n"
   ]
  },
  {
   "cell_type": "code",
   "execution_count": null,
   "id": "1a275e88",
   "metadata": {
    "lines_to_next_cell": 2
   },
   "outputs": [],
   "source": [
    "text_emails = 'Hello from shubhamg199630@gmail.com to priya@yahoo.com about the meeting @2PM'"
   ]
  },
  {
   "cell_type": "code",
   "execution_count": null,
   "id": "fb11b59e",
   "metadata": {
    "lines_to_next_cell": 2
   },
   "outputs": [],
   "source": [
    "liste_emails = re.findall('\\S+@\\S+', text_emails)     "
   ]
  },
  {
   "cell_type": "code",
   "execution_count": null,
   "id": "c1af304d",
   "metadata": {},
   "outputs": [],
   "source": [
    "print(liste_emails)"
   ]
  },
  {
   "cell_type": "markdown",
   "id": "60c24fb4",
   "metadata": {},
   "source": [
    "```\n",
    "## ['shubhamg199630@gmail.com', 'priya@yahoo.com']\n",
    "```\n",
    "\n",
    "## Exercice 1\n",
    "\n",
    "Recherchez les dates présentes dans la phrase suivante\n"
   ]
  },
  {
   "cell_type": "code",
   "execution_count": null,
   "id": "66dca132",
   "metadata": {},
   "outputs": [],
   "source": [
    "texte = \"\"\"Je suis né le 28/12/1903 et je suis mort le 08/02/1957. Ma seconde femme est morte le 10/11/1963. \n",
    "J'ai écrit un livre intitulé 'Comprendre les fractions : les exemples en page 12/46/83' \"\"\""
   ]
  },
  {
   "cell_type": "markdown",
   "id": "f485fc83",
   "metadata": {},
   "source": [
    "Puis dans celle-ci : \n"
   ]
  },
  {
   "cell_type": "code",
   "execution_count": null,
   "id": "553ff9ca",
   "metadata": {},
   "outputs": [],
   "source": [
    "texte = \"\"\"Je suis né le 28/12/1903 et je suis mort le 08/02/1957. Je me suis marié le 8/5/45. \n",
    "J'ai écrit un livre intitulé 'Comprendre les fractions : les exemples en page 12/46/83' \"\"\""
   ]
  },
  {
   "cell_type": "markdown",
   "id": "7ec9515d",
   "metadata": {},
   "source": [
    "## Exercice 2 (version non guidée)\n",
    "\n",
    "Nettoyer des colonnes d'un DataFrame en utilisant des expressions régulières.\n",
    "\n",
    "La base en question contient des livres de la British Library et quelques informations les concernant. \n",
    "\n",
    "à partir du jeu de données suivant 'https://raw.githubusercontent.com/realpython/python-data-cleaning/master/Datasets/BL-Flickr-Images-Book.csv' préparer un jeu de données où la colonne \"Date of Publication\" est au format numérique et ne contient que des dates. \n",
    "\n",
    "Réalisez l'histogramme de la répartition des années de publication.\n"
   ]
  },
  {
   "cell_type": "markdown",
   "id": "cb4acbb7",
   "metadata": {},
   "source": [
    "## Exercice 2 (version guidée)\n",
    "\n",
    "Nettoyer des colonnes d'un DataFrame en utilisant des expressions régulières.\n",
    "\n",
    "La base en question contient des livres de la British Library et quelques informations les concernant. \n"
   ]
  },
  {
   "cell_type": "code",
   "execution_count": null,
   "id": "1bd91bba",
   "metadata": {
    "lines_to_next_cell": 2
   },
   "outputs": [],
   "source": [
    "import pandas\n",
    "\n",
    "data_books = pandas.read_csv('https://raw.githubusercontent.com/realpython/python-data-cleaning/master/Datasets/BL-Flickr-Images-Book.csv',sep=',')"
   ]
  },
  {
   "cell_type": "code",
   "execution_count": null,
   "id": "72364819",
   "metadata": {
    "lines_to_next_cell": 2
   },
   "outputs": [],
   "source": [
    "data_books=data_books[['Identifier', 'Place of Publication',\n",
    "       'Date of Publication', 'Publisher', 'Title', 'Author']]"
   ]
  },
  {
   "cell_type": "code",
   "execution_count": null,
   "id": "da9232a8",
   "metadata": {},
   "outputs": [],
   "source": [
    "data_books[['Date of Publication',\"Title\"]].iloc[13:20]"
   ]
  },
  {
   "cell_type": "markdown",
   "id": "245986d3",
   "metadata": {},
   "source": [
    "```\n",
    "##    Date of Publication                                              Title\n",
    "## 13         1839, 38-54  De Aardbol. Magazijn van hedendaagsche land- e...\n",
    "## 14                1897  Cronache Savonesi dal 1500 al 1570 ... Accresc...\n",
    "## 15                1865  See-Saw; a novel ... Edited [or rather, writte...\n",
    "## 16             1860-63  Géodésie d'une partie de la Haute Éthiopie,...\n",
    "## 17                1873                                [With eleven maps.]\n",
    "## 18                1866  [Historia geográfica, civil y politica de la ...\n",
    "## 19                1899  The Crisis of the Revolution, being the story ...\n",
    "```\n",
    "\n",
    "La colonne \"Date de Publication\" n'est pas toujours une année, il y a parfois d'autres informations. \n",
    "\n",
    "Le but de l'exercice est d'avoir une date de publication du livre propre."
   ]
  },
  {
   "cell_type": "markdown",
   "id": "2e672d2f",
   "metadata": {},
   "source": [
    "1) La première chose à faire est de regarder la base afin de s'assurer que les opérations de regex sont cohérentes avec les informations présentes initialement. \n",
    "\n",
    "Pour cela, on commence par regarde le nombre d'informations manquantes (on ne pourra pas avoir mieux après la regex, et normalement on ne devrait pas avoir moins...)"
   ]
  },
  {
   "cell_type": "markdown",
   "id": "0993d021",
   "metadata": {},
   "source": [
    "2) on détermine la forme de la regex pour une date de publication. A priori, il y a 4 chiffres qui forment une année."
   ]
  },
  {
   "cell_type": "markdown",
   "id": "7435ea89",
   "metadata": {},
   "source": [
    "3) on applique notre regex à la colonne qui nous intéresse avec la fonction str.extract()"
   ]
  },
  {
   "cell_type": "markdown",
   "id": "f80fb5c0",
   "metadata": {},
   "source": [
    "On a 2 Nan qui n'étaient pas présents au début de l'exercice, pourquoi ?"
   ]
  },
  {
   "cell_type": "markdown",
   "id": "af97f928",
   "metadata": {},
   "source": [
    "On vérifier que notre opération s'est bien déroulée en regardant les éléments qui ont été changés. \n",
    "\n",
    "4) En bonus, on peut regarder la répartition des dates de publications dans le jeu de données"
   ]
  }
 ],
 "metadata": {
  "kernelspec": {
   "display_name": "Python 3",
   "language": "python",
   "name": "python3"
  }
 },
 "nbformat": 4,
 "nbformat_minor": 5
}
