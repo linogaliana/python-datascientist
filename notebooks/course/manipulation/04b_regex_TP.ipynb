{
  "cells": [
    {
      "cell_type": "markdown",
      "metadata": {},
      "source": [
        "# Maîtriser les expressions régulières"
      ],
      "id": "4b72f594-304c-4343-89cb-e191538e47b8"
    },
    {
      "cell_type": "raw",
      "metadata": {
        "raw_mimetype": "text/html"
      },
      "source": [
        "<p class=\"badges\">"
      ],
      "id": "8f90f331-ff7c-4589-bb09-a0419be338dd"
    },
    {
      "cell_type": "markdown",
      "metadata": {},
      "source": [
        "<a href=\"https://github.com/linogaliana/python-datascientist/blob/master/notebooks/course/manipulation/04b_regex_TP.ipynb\" class=\"github\"><i class=\"fab fa-github\"></i></a>\n",
        "<a href=\"https://downgit.github.io/#/home?url=https://github.com/linogaliana/python-datascientist/blob/master/notebooks/course/manipulation/04b_regex_TP.ipynb\" target=\"_blank\" rel=\"noopener\"><img src=\"https://img.shields.io/badge/Download-Notebook-important?logo=Jupyter\" alt=\"Download\"></a>\n",
        "<a href=\"https://nbviewer.jupyter.org/github/linogaliana/python-datascientist/blob/master/notebooks/course/manipulation/04b_regex_TP.ipynb\" target=\"_blank\" rel=\"noopener\"><img src=\"https://img.shields.io/badge/Visualize-nbviewer-blue?logo=Jupyter\" alt=\"nbviewer\"></a>\n",
        "<a href=\"https://datalab.sspcloud.fr/launcher/inseefrlab-helm-charts-datascience/jupyter?autoLaunch=true&onyxia.friendlyName=%C2%ABpython-datascience%C2%BB&init.personalInit=%C2%ABhttps%3A%2F%2Fraw.githubusercontent.com%2Flinogaliana%2Fpython-datascientist%2Fmaster%2Fsspcloud%2Finit-jupyter.sh%C2%BB&init.personalInitArgs=%C2%ABnotebooks/course/manipulation%2004b_regex_TP.ipynb%C2%BB&security.allowlist.enabled=false\" target=\"_blank\" rel=\"noopener\"><img src=\"https://img.shields.io/badge/SSPcloud-Tester%20via%20SSP--cloud-informational&amp;color=yellow?logo=Python\" alt=\"Onyxia\"></a><br>\n",
        "<a href=\"https://mybinder.org/v2/gh/linogaliana/python-datascientist/master?filepath={binder_path}\" target=\"_blank\" rel=\"noopener\"><img src=\"https://img.shields.io/badge/Launch-Binder-E66581.svg?logo=data:image/png;base64,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\" alt=\"Binder\"></a>\n",
        "<a href=\"http://colab.research.google.com/github/linogaliana/python-datascientist/blob/master/notebooks/course/manipulation/04b_regex_TP.ipynb\" target=\"_blank\" rel=\"noopener\"><img src=\"https://colab.research.google.com/assets/colab-badge.svg\" alt=\"Open In Colab\"></a>\n",
        "<a href=\"https://github.dev/linogaliana/python-datascientist/notebooks/course/manipulation/04b_regex_TP.ipynb\" target=\"_blank\" rel=\"noopener\"><img src=\"https://img.shields.io/static/v1?logo=visualstudiocode&label=&message=Open%20in%20Visual%20Studio%20Code&labelColor=2c2c32&color=007acc&logoColor=007acc\" alt=\"githubdev\"></a>"
      ],
      "id": "a32c5b13-f922-4b87-b044-7c5485d99392"
    },
    {
      "cell_type": "raw",
      "metadata": {
        "raw_mimetype": "text/html"
      },
      "source": [
        "</p>"
      ],
      "id": "bcab741e-3dd2-4706-a49a-07c12ead012d"
    },
    {
      "cell_type": "raw",
      "metadata": {
        "raw_mimetype": "text/html"
      },
      "source": [
        "</p>"
      ],
      "id": "dc4720cc-f8ac-47a0-b054-4e073aa6f970"
    },
    {
      "cell_type": "markdown",
      "metadata": {},
      "source": [
        "Ce TD est directement issu du contenu de [Xavier Dupré](http://www.xavierdupre.fr/app/teachpyx/helpsphinx/c_regex/regex.html),\n",
        "l’ancien professeur de ce cours. Il sera mis-à-jour dans le futur.\n",
        "\n",
        "Chercher un mot dans un texte est une tâche facile, c’est l’objectif de la méthode `find()` attachée aux chaînes de caractères, étudiée dans la partie webscraping. Elle suffit également lorsque l’on cherche un mot au pluriel ou au singulier, mais il faut dans ce cas l’appeler au moins deux fois.\n",
        "\n",
        "Pour des expressions plus compliquées, il est conseillé d’utiliser les expressions régulières, ou “regex”. C’est une fonctionnalité qu’on retrouve dans beaucoup de langages. C’est une forme de grammaire qui permet de rechercher des expressions.\n",
        "\n",
        "Par exemple, lorsqu’on remplit un formulaire, on voit souvent le format `\"MM/JJ/AAAA\"` qui précise sous quelle forme on s’attend à ce qu’une date soit écrite. Les expressions régulières permettent de définir également ce format et de chercher dans un texte toutes les chaînes de caractères qui sont conformes à ce format.\n",
        "\n",
        "La liste qui suit contient des dates de naissance. On cherche à obtenir toutes les dates de cet exemple sachant que les jours ou les mois contiennent un ou deux chiffres, et les années deux ou quatre."
      ],
      "id": "b44ed53f-1a22-4c2d-9219-44385947e47f"
    },
    {
      "cell_type": "code",
      "execution_count": 2,
      "metadata": {},
      "outputs": [
        {
          "output_type": "stream",
          "name": "stdout",
          "text": [
            "date 0 : 14/9/2000\n",
            "date 1 : 20/04/1971     date 2 : 14/09/1913     date 3 : 2/3/1978\n",
            "date 4 : 1/7/1986     date 5 : 7/3/47     date 6 : 15/10/1914\n",
            "date 7 : 08/03/1941     date 8 : 8/1/1980     date 9 : 30/6/1976"
          ]
        }
      ],
      "source": [
        "s = \"\"\"date 0 : 14/9/2000\n",
        "date 1 : 20/04/1971     date 2 : 14/09/1913     date 3 : 2/3/1978\n",
        "date 4 : 1/7/1986     date 5 : 7/3/47     date 6 : 15/10/1914\n",
        "date 7 : 08/03/1941     date 8 : 8/1/1980     date 9 : 30/6/1976\"\"\"\n",
        "print(s)"
      ],
      "id": "4f3cc194-d455-447b-b2f2-983addb850da"
    },
    {
      "cell_type": "markdown",
      "metadata": {},
      "source": [
        "#### Exemple introductif : Format de date\n",
        "\n",
        "Le premier chiffre du `jour` est soit 0, 1, 2, ou 3 ; ceci se traduit par `[0-3]`.\n",
        "\n",
        "Le second chiffre est compris entre 0 et 9, soit `[0-9]`. Le format des jours est traduit par `[0-3][0-9]`. Mais le premier chiffre du jour est facultatif, ce qu’on précise avec le symbole ? : `[0-3]?[0-9]`.\n",
        "\n",
        "Les `mois` suivent le même principe : `[0-1]?[0-9]`.\n",
        "\n",
        "Pour les `années`, ce sont les deux premiers chiffres qui sont facultatifs, le symbole ? s’appliquent alors sur les deux premiers chiffres : `[0-2]?[0-9]?[0-9][0-9]`. Le format final d’une date devient alors :\n",
        "\n",
        "`[0-3]?[0-9]/[0-1]?[0-9]/[0-2]?[0-9]?[0-9][0-9]`\n",
        "\n",
        "Le module `re` gère les expressions régulières, celui-ci traite différemment les parties de l’expression régulière qui sont entre parenthèses de celles qui ne le sont pas : c’est un moyen de dire au module `re` que nous nous intéressons à telle partie de l’expression qui est signalée entre parenthèses. Comme la partie qui nous intéresse - une date - concerne l’intégralité de l’expression régulière, il faut insérer celle-ci intégralement entre parenthèses.\n",
        "\n",
        "La première étape consiste à construire l’expression régulière, la seconde à rechercher toutes les fois qu’un morceau de la chaîne `s` définie plus haut correspond à l’expression régulière."
      ],
      "id": "08e42ff2-7848-4968-aaeb-a08553920592"
    },
    {
      "cell_type": "code",
      "execution_count": 3,
      "metadata": {},
      "outputs": [
        {
          "output_type": "stream",
          "name": "stdout",
          "text": [
            "['14/9/2000', '20/04/1971', '14/09/1913', '2/3/1978', '1/7/1986', '7/3/47', '15/10/1914', '08/03/1941', '8/1/1980', '30/6/1976']"
          ]
        }
      ],
      "source": [
        "import re\n",
        "# première étape : construction\n",
        "expression = re.compile(\"([0-3]?[0-9]/[0-1]?[0-9]/[0-2]?[0-9]?[0-9][0-9])\")\n",
        "# seconde étape : recherche\n",
        "res = expression.findall(s)\n",
        "print(res)"
      ],
      "id": "35b34611-d6d0-496d-8d52-59fe010328af"
    },
    {
      "cell_type": "markdown",
      "metadata": {},
      "source": [
        "Le résultat est une liste dont chaque élément correspond aux parties comprises entre parenthèses qu’on appelle des groupes.\n",
        "\n",
        "Lorsque les expressions régulières sont utilisées, on doit d’abord se demander comment définir ce qu’on cherche puis quelles fonctions utiliser pour obtenir les résultats de cette recherche. Les deux paragraphes qui suivent y répondent.\n",
        "\n",
        "## Syntaxe\n",
        "\n",
        "La syntaxe des expressions régulières est décrite sur le site officiel de python. La page [Regular Expression Syntax](https://docs.python.org/3/library/re.html) décrit comment se servir des expressions régulières, les deux pages sont en anglais. Comme toute grammaire, celle des expressions régulières est susceptible d’évoluer au fur et à mesure des versions du langage python.\n",
        "\n",
        "## Les ensembles de caractères\n",
        "\n",
        "Lors d’une recherche, on s’intéresse aux caractères et souvent aux classes de caractères : on cherche un chiffre, une lettre, un caractère dans un ensemble précis ou un caractère qui n’appartient pas à un ensemble précis. Certains ensembles sont prédéfinis, d’autres doivent être définis à l’aide de crochets.\n",
        "\n",
        "Pour définir un ensemble de caractères, il faut écrire cet ensemble entre crochets. Par exemple, `[0123456789]` désigne un chiffre. Comme c’est une séquence de caractères consécutifs, on peut résumer cette écriture en `[0-9]`. Pour inclure les symboles `+` et `-`, il suffit d’écrire : `[-0-9+]`. La subtilité est qu’il faut penser à mettre le symbole `-` au début pour éviter qu’il ne désigne une séquence.\n",
        "\n",
        "Le caractère `^` inséré au début du groupe signifie que le caractère cherché ne doit pas être un de ceux qui suivent. Le tableau suivant décrit les ensembles prédéfinis et leur équivalent en terme d’ensemble de caractères :\n",
        "\n",
        "-   `.` désigne tout caractère non spécial quel qu’il soit.\n",
        "-   `\\d` désigne tout chiffre, est équivalent à `[0-9]`.\n",
        "-   `\\D` désigne tout caractère différent d’un chiffre, est équivalent à `[^0-9]`.\n",
        "-   `\\s` désigne tout espace ou caractère approché, est équivalent à `[\\; \\t\\n\\r\\f\\v]`. Ces caractères sont spéciaux, les plus utilisés sont `\\t` qui est une tabulation, `\\n` qui est une fin de ligne et qui `\\r` qui est un retour à la ligne.\n",
        "-   `\\S` désigne tout caractère différent d’un espace, est équivalent à `[^ \\t\\n\\r\\f\\v]`.\n",
        "-   `\\w` désigne toute lettre ou tout chiffre, est équivalent à `[a-zA-Z0-9_]`.\n",
        "-   `\\W` désigne tout caractère différent d’une lettre ou d’un chiffre, est équivalent à `[^a-zA-Z0-9_]`.\n",
        "-   `^` désigne le début d’un mot sauf s’il est placé entre crochets.\n",
        "-   `$` désigne la fin d’un mot sauf s’il est placé entre crochets.\n",
        "\n",
        "A l’instar des chaînes de caractères, comme le caractère `\\` est un caractère spécial, il faut le doubler : `[\\\\]`.\n",
        "\n",
        "## Les multiplicateurs\n",
        "\n",
        "Les multiplicateurs permettent de définir des expressions régulières comme : un mot entre six et huit lettres qu’on écrira `[\\w]{6,8}`. Le tableau suivant donne la liste des multiplicateurs principaux :\n",
        "\n",
        "-   `*` présence de l’ensemble de caractères qui précède entre 0 fois et l’infini\n",
        "-   `+` présence de l’ensemble de caractères qui précède entre 1 fois et l’infini\n",
        "-   `?` présence de l’ensemble de caractères qui précède entre 0 et 1 fois\n",
        "-   `{m,n}` présence de l’ensemble de caractères qui précède entre *m* et *n* fois, si *m=n*, cette expression peut être résumée par `{n}`.\n",
        "-   `(?!(...))` absence du groupe désigné par les points de suspensions.\n",
        "\n",
        "L’algorithme des expressions régulières essaye toujours de faire correspondre le plus grand morceau à l’expression régulière.\n",
        "\n",
        "Par exemple, pour la chaîne de charactère `<h1>mot</h1>`, l’expression régulière `<.*>` correspond à trois morceaux :\n",
        "\\* `<h1>`\n",
        "\\* `</h1>`\n",
        "\\* `<h1>mot</h1>` =\\> le plus grand qui sera choisi.\n",
        "\n",
        "Pour choisir les plus petits, il faudra écrire les multiplicateurs comme ceci : `*?`, `+?`"
      ],
      "id": "e0a206e4-cacf-47de-9843-ecdc19d88944"
    },
    {
      "cell_type": "code",
      "execution_count": 4,
      "metadata": {},
      "outputs": [
        {
          "output_type": "stream",
          "name": "stdout",
          "text": [
            "['<h1>mot</h1>']\n",
            "['<h1>', '</h1>']\n",
            "('<h1>mot</h1>',)"
          ]
        }
      ],
      "source": [
        "import re\n",
        "import re\n",
        "s = \"<h1>mot</h1>\"\n",
        "print(re.compile(\"<.*>\").findall(s))\n",
        "print(re.compile(\"<.*?>\").findall(s))\n",
        "\n",
        "\n",
        "\n",
        "print(re.compile(\"(<.*>)\").match(s).groups())"
      ],
      "id": "037370d9-b97f-4a74-961b-4ce6cb55a26d"
    },
    {
      "cell_type": "code",
      "execution_count": 5,
      "metadata": {},
      "outputs": [
        {
          "output_type": "stream",
          "name": "stdout",
          "text": [
            "<re.Match object; span=(0, 12), match='<h1>mot</h1>'>"
          ]
        }
      ],
      "source": [
        "print(re.compile(\"(.*</h1>)\").match(s))"
      ],
      "id": "b808e219-2d0b-4c4b-b2ca-b9a40caa194c"
    },
    {
      "cell_type": "code",
      "execution_count": 6,
      "metadata": {},
      "outputs": [
        {
          "output_type": "stream",
          "name": "stdout",
          "text": [
            "('</h1>',)\n",
            "['<h1>', '</h1>']"
          ]
        }
      ],
      "source": [
        "print(re.compile(\".*(<.h1>)\").match(s).groups()) \n",
        "print(re.compile(\"(<.?h1>)\").findall(s))"
      ],
      "id": "614be524-7694-4522-a86c-5bfce59d2210"
    },
    {
      "cell_type": "markdown",
      "metadata": {},
      "source": [
        "Un exemple pour trouver des adresses emails :"
      ],
      "id": "25b74f4f-b806-4174-8e3c-5b9092f96636"
    },
    {
      "cell_type": "code",
      "execution_count": 7,
      "metadata": {},
      "outputs": [],
      "source": [
        "text_emails = 'Hello from shubhamg199630@gmail.com to priya@yahoo.com about the meeting @2PM'"
      ],
      "id": "770c9d9e-6475-463e-af15-883382c6f68d"
    },
    {
      "cell_type": "code",
      "execution_count": 8,
      "metadata": {},
      "outputs": [],
      "source": [
        "# \\S` désigne tout caractère différent d'un espace \n",
        "# `+` présence de l'ensemble de caractères qui précède entre 1 fois et l'infini\n",
        "liste_emails = re.findall('\\S+@\\S+', text_emails)     "
      ],
      "id": "9f1cb082-cc07-417b-a392-6543e13b85bb"
    },
    {
      "cell_type": "code",
      "execution_count": 9,
      "metadata": {},
      "outputs": [
        {
          "output_type": "stream",
          "name": "stdout",
          "text": [
            "['shubhamg199630@gmail.com', 'priya@yahoo.com']"
          ]
        }
      ],
      "source": [
        "print(liste_emails)"
      ],
      "id": "e807b965-3530-4b55-bfa1-0852bbd37e93"
    },
    {
      "cell_type": "markdown",
      "metadata": {},
      "source": [
        "## Exercices\n",
        "\n",
        "{{% box status=“exercise” title=“Exercice” icon=“fas fa-pencil-alt” %}}\n",
        "\n",
        "**Exercice 1: Application directe**\n",
        "\n",
        "Recherchez les dates présentes dans la phrase suivante."
      ],
      "id": "a3fc47e6-9cf6-40bd-a166-842e01287bb5"
    },
    {
      "cell_type": "code",
      "execution_count": 10,
      "metadata": {},
      "outputs": [],
      "source": [
        "texte1 = \"\"\"Je suis né le 28/12/1903 et je suis mort le 08/02/1957. Ma seconde femme est morte le 10/11/1963. \n",
        "J'ai écrit un livre intitulé 'Comprendre les fractions : les exemples en page 12/46/83' \"\"\""
      ],
      "id": "5d4f393e-d24a-454f-aa7e-b78bb3ec93cb"
    },
    {
      "cell_type": "markdown",
      "metadata": {},
      "source": [
        "Puis dans celle-ci :"
      ],
      "id": "b8abadab-7d78-414c-9228-e4c2c33c6f2a"
    },
    {
      "cell_type": "code",
      "execution_count": 11,
      "metadata": {},
      "outputs": [],
      "source": [
        "texte2 = \"\"\"Je suis né le 28/12/1903 et je suis mort le 08/02/1957. Je me suis marié le 8/5/45. \n",
        "J'ai écrit un livre intitulé 'Comprendre les fractions : les exemples en page 12/46/83' \"\"\""
      ],
      "id": "2cd20c54-62b0-4f3a-b4b4-9c184412b043"
    },
    {
      "cell_type": "code",
      "execution_count": 12,
      "metadata": {},
      "outputs": [
        {
          "output_type": "stream",
          "name": "stdout",
          "text": [
            "['28/12/1903', '08/02/1957', '10/11/1963']\n",
            "['28/12/1903', '08/02/1957', '8/5/45']"
          ]
        }
      ],
      "source": [
        "# Correction\n",
        "import re\n",
        "expression = re.compile(\"([0-3]?[0-9]/[0-1]?[0-9]/[0-2]?[0-9]?[0-9][0-9])\")\n",
        "print(expression.findall(texte1))\n",
        "print(expression.findall(texte2))"
      ],
      "id": "eece0c87-eaab-4b27-b394-4c509b1824dc"
    },
    {
      "cell_type": "markdown",
      "metadata": {},
      "source": [
        "{{% /box %}}\n",
        "\n",
        "{{% box status=“exercise” title=“Exercice” icon=“fas fa-pencil-alt” %}}\n",
        "\n",
        "**Exercice 2: Nettoyer une colonne de date de publication**\n",
        "\n",
        "L’objectif général de l’exercice est de nettoyer des colonnes d’un DataFrame en utilisant des expressions régulières.\n",
        "\n",
        "La base en question contient des livres de la British Library et quelques informations les concernant. Le jeu de données est disponible ici : https://raw.githubusercontent.com/realpython/python-data-cleaning/master/Datasets/BL-Flickr-Images-Book.csv\n",
        "\n",
        "La colonne “Date de Publication” n’est pas toujours une année, il y a parfois d’autres informations. Le but de l’exercice est d’avoir **une date de publication du livre propre** et de regarder la **distribution des années de publications**.\n",
        "\n",
        "Pour ce faire, vous pouvez :\n",
        "\\* Soit choisir de réaliser l’exercice sans aide. Votre **lecture de l’énoncé s’arrête donc ici**. Vous devez alors faire attention à bien regarder vous-même la base de données et la transformer avec attention.\n",
        "\n",
        "-   Soit suivre les différentes étapes qui suivent pas à pas."
      ],
      "id": "07eba85c-6a19-4bdb-a95c-7fded9c0b01e"
    },
    {
      "cell_type": "code",
      "execution_count": 13,
      "metadata": {},
      "outputs": [],
      "source": [
        "import pandas\n",
        "\n",
        "data_books = pandas.read_csv('https://raw.githubusercontent.com/realpython/python-data-cleaning/master/Datasets/BL-Flickr-Images-Book.csv',sep=',')"
      ],
      "id": "35fdedd2-e265-4b60-979c-2d0a60a2d1e3"
    },
    {
      "cell_type": "code",
      "execution_count": 14,
      "metadata": {},
      "outputs": [],
      "source": [
        "data_books=data_books[['Identifier', 'Place of Publication',\n",
        "       'Date of Publication', 'Publisher', 'Title', 'Author']]"
      ],
      "id": "750367b2-8dfe-46e8-b435-33ed1d4fa0f1"
    },
    {
      "cell_type": "markdown",
      "metadata": {},
      "source": [
        "En regardant la base, on réalise que cette colonne ne correspond pas toujours à une année, par exemple en lignes 13 et 16."
      ],
      "id": "d47f22d3-a513-4590-8645-e05af6d8dc5e"
    },
    {
      "cell_type": "code",
      "execution_count": 15,
      "metadata": {},
      "outputs": [
        {
          "output_type": "display_data",
          "metadata": {},
          "data": {
            "text/html": [
              "<div>\n",
              "<style scoped>\n",
              "    .dataframe tbody tr th:only-of-type {\n",
              "        vertical-align: middle;\n",
              "    }\n",
              "\n",
              "    .dataframe tbody tr th {\n",
              "        vertical-align: top;\n",
              "    }\n",
              "\n",
              "    .dataframe thead th {\n",
              "        text-align: right;\n",
              "    }\n",
              "</style>\n",
              "<table border=\"1\" class=\"dataframe\">\n",
              "  <thead>\n",
              "    <tr style=\"text-align: right;\">\n",
              "      <th></th>\n",
              "      <th>Date of Publication</th>\n",
              "      <th>Title</th>\n",
              "    </tr>\n",
              "  </thead>\n",
              "  <tbody>\n",
              "    <tr>\n",
              "      <th>13</th>\n",
              "      <td>1839, 38-54</td>\n",
              "      <td>De Aardbol. Magazijn van hedendaagsche land- e...</td>\n",
              "    </tr>\n",
              "    <tr>\n",
              "      <th>14</th>\n",
              "      <td>1897</td>\n",
              "      <td>Cronache Savonesi dal 1500 al 1570 ... Accresc...</td>\n",
              "    </tr>\n",
              "    <tr>\n",
              "      <th>15</th>\n",
              "      <td>1865</td>\n",
              "      <td>See-Saw; a novel ... Edited [or rather, writte...</td>\n",
              "    </tr>\n",
              "    <tr>\n",
              "      <th>16</th>\n",
              "      <td>1860-63</td>\n",
              "      <td>Géodésie d'une partie de la Haute Éthiopie,...</td>\n",
              "    </tr>\n",
              "    <tr>\n",
              "      <th>17</th>\n",
              "      <td>1873</td>\n",
              "      <td>[With eleven maps.]</td>\n",
              "    </tr>\n",
              "    <tr>\n",
              "      <th>18</th>\n",
              "      <td>1866</td>\n",
              "      <td>[Historia geográfica, civil y politica de la ...</td>\n",
              "    </tr>\n",
              "    <tr>\n",
              "      <th>19</th>\n",
              "      <td>1899</td>\n",
              "      <td>The Crisis of the Revolution, being the story ...</td>\n",
              "    </tr>\n",
              "  </tbody>\n",
              "</table>\n",
              "</div>"
            ]
          }
        }
      ],
      "source": [
        "data_books[['Date of Publication',\"Title\"]].iloc[13:20]"
      ],
      "id": "36600695-c1af-4088-8da8-00c16db2a277"
    },
    {
      "cell_type": "markdown",
      "metadata": {},
      "source": [
        "1.  Commencez par regarder le nombre d’informations manquantes. On ne pourra pas avoir mieux après la regex, et normalement on ne devrait pas avoir moins…"
      ],
      "id": "59d7e259-d457-4c27-844b-c341252d39a8"
    },
    {
      "cell_type": "code",
      "execution_count": 16,
      "metadata": {},
      "outputs": [
        {
          "output_type": "display_data",
          "metadata": {},
          "data": {
            "text/plain": [
              "181"
            ]
          }
        }
      ],
      "source": [
        "data_books['Date of Publication'].isna().sum()"
      ],
      "id": "53af41c3-4558-48b6-ab9a-872850a36bf5"
    },
    {
      "cell_type": "markdown",
      "metadata": {},
      "source": [
        "1.  Déterminer la forme de la regex pour une date de publication. A priori, il y a 4 chiffres qui forment une année."
      ],
      "id": "51628363-1a98-4fd5-bc0a-f68f18eaf47d"
    },
    {
      "cell_type": "code",
      "execution_count": 17,
      "metadata": {},
      "outputs": [],
      "source": [
        "import re\n",
        "expression = \"([0-2][0-9][0-9][0-9])\""
      ],
      "id": "b3154954-442f-4503-8e48-a4a024edd237"
    },
    {
      "cell_type": "markdown",
      "metadata": {},
      "source": [
        "1.  Quelles lignes sont changées quand on applique notre regex à la colonne qui nous intéresse avec la fonction `str.extract()` ?"
      ],
      "id": "6ecfe201-0a82-4719-b232-f8d5719b4054"
    },
    {
      "cell_type": "code",
      "execution_count": 18,
      "metadata": {},
      "outputs": [
        {
          "output_type": "display_data",
          "metadata": {},
          "data": {
            "text/html": [
              "<div>\n",
              "<style scoped>\n",
              "    .dataframe tbody tr th:only-of-type {\n",
              "        vertical-align: middle;\n",
              "    }\n",
              "\n",
              "    .dataframe tbody tr th {\n",
              "        vertical-align: top;\n",
              "    }\n",
              "\n",
              "    .dataframe thead th {\n",
              "        text-align: right;\n",
              "    }\n",
              "</style>\n",
              "<table border=\"1\" class=\"dataframe\">\n",
              "  <thead>\n",
              "    <tr style=\"text-align: right;\">\n",
              "      <th></th>\n",
              "      <th>Date of Publication</th>\n",
              "      <th>Date of Publication 2</th>\n",
              "    </tr>\n",
              "  </thead>\n",
              "  <tbody>\n",
              "    <tr>\n",
              "      <th>0</th>\n",
              "      <td>1879 [1878]</td>\n",
              "      <td>1879</td>\n",
              "    </tr>\n",
              "    <tr>\n",
              "      <th>7</th>\n",
              "      <td>NaN</td>\n",
              "      <td>NaN</td>\n",
              "    </tr>\n",
              "    <tr>\n",
              "      <th>13</th>\n",
              "      <td>1839, 38-54</td>\n",
              "      <td>1839</td>\n",
              "    </tr>\n",
              "    <tr>\n",
              "      <th>16</th>\n",
              "      <td>1860-63</td>\n",
              "      <td>1860</td>\n",
              "    </tr>\n",
              "    <tr>\n",
              "      <th>23</th>\n",
              "      <td>1847, 48 [1846-48]</td>\n",
              "      <td>1847</td>\n",
              "    </tr>\n",
              "    <tr>\n",
              "      <th>...</th>\n",
              "      <td>...</td>\n",
              "      <td>...</td>\n",
              "    </tr>\n",
              "    <tr>\n",
              "      <th>8278</th>\n",
              "      <td>1883, [1884]</td>\n",
              "      <td>1883</td>\n",
              "    </tr>\n",
              "    <tr>\n",
              "      <th>8279</th>\n",
              "      <td>1898-1912</td>\n",
              "      <td>1898</td>\n",
              "    </tr>\n",
              "    <tr>\n",
              "      <th>8283</th>\n",
              "      <td>1831, 32</td>\n",
              "      <td>1831</td>\n",
              "    </tr>\n",
              "    <tr>\n",
              "      <th>8284</th>\n",
              "      <td>[1806]-22</td>\n",
              "      <td>1806</td>\n",
              "    </tr>\n",
              "    <tr>\n",
              "      <th>8286</th>\n",
              "      <td>1834-43</td>\n",
              "      <td>1834</td>\n",
              "    </tr>\n",
              "  </tbody>\n",
              "</table>\n",
              "<p>1759 rows × 2 columns</p>\n",
              "</div>"
            ]
          }
        }
      ],
      "source": [
        "data_books['Date of Publication 2'] = data_books['Date of Publication'].str.extract(expression, expand=False)\n",
        "data_books[~(data_books['Date of Publication'] == data_books['Date of Publication 2'])][['Date of Publication', 'Date of Publication 2']]"
      ],
      "id": "4d9b514e-bb91-423e-880e-057baa48e619"
    },
    {
      "cell_type": "markdown",
      "metadata": {},
      "source": [
        "1.  On a 2 `NaN` qui n’étaient pas présents au début de l’exercice. Quels sont-ils et pourquoi ?"
      ],
      "id": "cf4e317d-ec51-4331-b7bf-a0ef5e40cdc5"
    },
    {
      "cell_type": "code",
      "execution_count": 19,
      "metadata": {},
      "outputs": [
        {
          "output_type": "display_data",
          "metadata": {},
          "data": {
            "text/html": [
              "<div>\n",
              "<style scoped>\n",
              "    .dataframe tbody tr th:only-of-type {\n",
              "        vertical-align: middle;\n",
              "    }\n",
              "\n",
              "    .dataframe tbody tr th {\n",
              "        vertical-align: top;\n",
              "    }\n",
              "\n",
              "    .dataframe thead th {\n",
              "        text-align: right;\n",
              "    }\n",
              "</style>\n",
              "<table border=\"1\" class=\"dataframe\">\n",
              "  <thead>\n",
              "    <tr style=\"text-align: right;\">\n",
              "      <th></th>\n",
              "      <th>Date of Publication</th>\n",
              "      <th>Date of Publication 2</th>\n",
              "    </tr>\n",
              "  </thead>\n",
              "  <tbody>\n",
              "    <tr>\n",
              "      <th>1081</th>\n",
              "      <td>112. G. &amp; W. B. Whittaker</td>\n",
              "      <td>NaN</td>\n",
              "    </tr>\n",
              "    <tr>\n",
              "      <th>7391</th>\n",
              "      <td>17 vols. University Press</td>\n",
              "      <td>NaN</td>\n",
              "    </tr>\n",
              "  </tbody>\n",
              "</table>\n",
              "</div>"
            ]
          }
        }
      ],
      "source": [
        "# Il s'agit de lignes qui ne contenaient pas de chaînes de caractères qui ressemblaient à des années.\n",
        "data_books[~data_books['Date of Publication'].isna() & data_books['Date of Publication 2'].isna()][['Date of Publication', 'Date of Publication 2']]"
      ],
      "id": "acee3f1b-6ef0-4e3b-be9f-5d696a47dd19"
    },
    {
      "cell_type": "markdown",
      "metadata": {},
      "source": [
        "1.  Quelle est la répartition des dates de publications dans le jeu de données ? Vous pouvez par exemple afficher un histogramme."
      ],
      "id": "f52627ff-fc4c-4869-9c32-84b83f41194d"
    },
    {
      "cell_type": "code",
      "execution_count": 20,
      "metadata": {},
      "outputs": [
        {
          "output_type": "display_data",
          "metadata": {},
          "data": {
            "text/plain": [
              "<AxesSubplot:ylabel='Frequency'>"
            ]
          }
        },
        {
          "output_type": "display_data",
          "metadata": {},
          "data": {
            "image/png": "[encoded data removed]"
          }
        }
      ],
      "source": [
        "pandas.to_numeric(data_books['Date of Publication 2'], downcast='integer').plot(kind =\"hist\")"
      ],
      "id": "9fdf2b49-015f-4bd9-a5de-6c1020e2dfbc"
    },
    {
      "cell_type": "markdown",
      "metadata": {},
      "source": [
        "{{% /box %}}\n",
        "\n",
        "## Aller plus loin pour apprendre les regex\n",
        "\n",
        "-   Le site [regex101](https://regex101.com/) permet de tester les expressions régulières utilisées tout en ayant une explication qui accompagne ce test\n",
        "\n",
        "-   De même pour [ce site](https://ole.michelsen.dk/tools/regex/) qui comporte une cheat sheet en bas de la page.\n",
        "\n",
        "-   Les jeux de [Regex Crossword](https://regexcrossword.com/) permettent d’apprendre les expressions régulières en s’amusant"
      ],
      "id": "a5d06ade-a0d1-4629-85d8-a0a8a151ed70"
    }
  ],
  "nbformat": 4,
  "nbformat_minor": 5,
  "metadata": {
    "kernelspec": {
      "name": "python3",
      "display_name": "Python 3 (ipykernel)",
      "language": "python"
    },
    "language_info": {
      "name": "python",
      "codemirror_mode": {
        "name": "ipython",
        "version": "3"
      },
      "file_extension": ".py",
      "mimetype": "text/x-python",
      "nbconvert_exporter": "python",
      "pygments_lexer": "ipython3",
      "version": "3.9.13"
    }
  }
}