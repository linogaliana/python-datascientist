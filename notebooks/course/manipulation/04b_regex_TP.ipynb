{
  "cells": [
    {
      "cell_type": "markdown",
      "metadata": {},
      "source": [
        "# Maîtriser les expressions régulières"
      ],
      "id": "96bcc887-0f56-4a1c-b275-9951a6ac8f48"
    },
    {
      "cell_type": "markdown",
      "metadata": {},
      "source": [
        "<p class=\"badges\">\n",
        "\n",
        "<a href=\"https://github.com/linogaliana/python-datascientist/blob/master/notebooks/course/manipulation/04b_regex_TP.ipynb\" class=\"github\"><i class=\"fab fa-github\"></i></a>\n",
        "<a href=\"https://downgit.github.io/#/home?url=https://github.com/linogaliana/python-datascientist/blob/master/notebooks/course/manipulation/04b_regex_TP.ipynb\" target=\"_blank\" rel=\"noopener\"><img src=\"https://img.shields.io/badge/Download-Notebook-important?logo=Jupyter\" alt=\"Download\"></a>\n",
        "<a href=\"https://nbviewer.jupyter.org/github/linogaliana/python-datascientist/blob/master/notebooks/course/manipulation/04b_regex_TP.ipynb\" target=\"_blank\" rel=\"noopener\"><img src=\"https://img.shields.io/badge/Visualize-nbviewer-blue?logo=Jupyter\" alt=\"nbviewer\"></a>\n",
        "<a href=\"https://datalab.sspcloud.fr/launcher/ide/jupyter-python?autoLaunch=true&onyxia.friendlyName=%C2%ABpython-datascience%C2%BB&init.personalInit=%C2%ABhttps%3A%2F%2Fraw.githubusercontent.com%2Flinogaliana%2Fpython-datascientist%2Fmaster%2Fsspcloud%2Finit-jupyter.sh%C2%BB&init.personalInitArgs=%C2%ABmanipulation%2004b_regex_TP%C2%BB&security.allowlist.enabled=false\" target=\"_blank\" rel=\"noopener\"><img src=\"https://img.shields.io/badge/SSPcloud-Tester%20via%20SSP--cloud-informational&amp;color=yellow?logo=Python\" alt=\"Onyxia\"></a><br>\n",
        "<a href=\"https://mybinder.org/v2/gh/linogaliana/python-datascientist/master?filepath={binder_path}\" target=\"_blank\" rel=\"noopener\"><img src=\"https://img.shields.io/badge/Launch-Binder-E66581.svg?logo=data:image/png;base64,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\" alt=\"Binder\"></a>\n",
        "<a href=\"http://colab.research.google.com/github/linogaliana/python-datascientist/blob/master/notebooks/course/manipulation/04b_regex_TP.ipynb\" target=\"_blank\" rel=\"noopener\"><img src=\"https://colab.research.google.com/assets/colab-badge.svg\" alt=\"Open In Colab\"></a>\n",
        "<a href=\"https://github.dev/linogaliana/python-datascientist/notebooks/course/manipulation/04b_regex_TP.ipynb\" target=\"_blank\" rel=\"noopener\"><img src=\"https://img.shields.io/static/v1?logo=visualstudiocode&label=&message=Open%20in%20Visual%20Studio%20Code&labelColor=2c2c32&color=007acc&logoColor=007acc\" alt=\"githubdev\"></a>\n",
        "\n",
        "</p>\n",
        "\n",
        "</p>"
      ],
      "id": "ffe4005c-aef5-446a-bae5-549498d08cd0"
    },
    {
      "cell_type": "markdown",
      "metadata": {},
      "source": [
        "# Introduction\n",
        "\n",
        "`Python` offre énormément de fonctionalités très pratiques pour la manipulation de données\n",
        "textuelles. C’est l’une des raisons de son\n",
        "succès dans la communauté du traitement automatisé du langage (NLP, voir partie dédiée).\n",
        "\n",
        "Dans les chapitres précédents, nous avons parfois été amenés à chercher des éléments textuels basiques. Cela était possible avec la méthode `str.find` du package `Pandas` qui constitue une version vectorisée de la méthode `find`\n",
        "de base. Nous avons d’ailleurs\n",
        "pu utiliser cette dernière directement, notamment lorsqu’on a fait du *webscraping*.\n",
        "\n",
        "Cependant, cette fonction de recherche\n",
        "trouve rapidement ses limites.\n",
        "Par exemple, si on désire trouver à la fois les occurrences d’un terme au singulier\n",
        "et au pluriel, il sera nécessaire d’utiliser\n",
        "au moins deux fois la méthode `find`.\n",
        "Pour des verbes conjugués, cela devient encore plus complexe, en particulier si ceux-ci changent de forme selon le sujet.\n",
        "\n",
        "Pour des expressions compliquées, il est conseillé d’utiliser les **expressions régulières**,\n",
        "ou *“regex”*. C’est une fonctionnalité qu’on retrouve dans beaucoup de langages. C’est une forme de grammaire qui permet de rechercher des expressions.\n",
        "\n",
        "Une partie du contenu de cette partie\n",
        "est une adaptation de la\n",
        "[documentation collaborative sur `R` nommée `utilitR`](https://www.book.utilitr.org/textdata.html#regex) à laquelle j’ai participé. Ce chapitre reprend aussi du contenu du\n",
        "livre [*R for Data Science*](https://r4ds.hadley.nz/regexps.html) qui présente un chapitre\n",
        "très pédagogique sur les regex.\n",
        "\n",
        "Nous allons utiliser le *package* `re` pour illustrer nos exemples d’expressions\n",
        "régulières. Il s’agit du package de référence, qui est utilisé, en arrière-plan,\n",
        "par `Pandas` pour vectoriser les recherches textuelles."
      ],
      "id": "dd917028-47ba-41be-ad2f-f7aa3969013e"
    },
    {
      "cell_type": "code",
      "execution_count": 2,
      "metadata": {},
      "outputs": [],
      "source": [
        "import re\n",
        "import pandas as pd"
      ],
      "id": "d56d67f0"
    },
    {
      "cell_type": "markdown",
      "metadata": {},
      "source": [
        "<div class=\"alert alert-warning\" role=\"alert\">\n",
        "<h3 class=\"alert-heading\"><i class=\"fa-solid fa-lightbulb\"></i> Hint</h3>\n",
        "\n",
        "**Les expressions régulières (*regex*) sont notoirement difficiles à maîtriser.** Il existe des outils qui facilitent le travail avec les expressions régulières.\n",
        "\n",
        "-   L’outil de référence pour ceci est \\[https://regex101.com/\\] qui permet de tester des `regex` en `Python`\n",
        "    tout en ayant une explication qui accompagne ce test\n",
        "\n",
        "-   De même pour [ce site](https://ole.michelsen.dk/tools/regex/) qui comporte une cheat sheet en bas de la page.\n",
        "\n",
        "-   Les jeux de [Regex Crossword](https://regexcrossword.com/) permettent d’apprendre les expressions régulières en s’amusant\n",
        "\n",
        "Il peut être pratique de demander à des IA assistantes, comme `Github Copilot` ou `ChatGPT`, une\n",
        "première version d’une regex en expliquant le contenu qu’on veut extraire.\n",
        "Cela peut faire économiser pas mal de temps, sauf quand l’IA fait preuve d’une confiance excessive\n",
        "et vous propose avec aplomb une regex totalement fausse…\n",
        "\n",
        "</div>"
      ],
      "id": "9ac06625-04f9-44b6-9488-dc8a1ea41818"
    },
    {
      "cell_type": "markdown",
      "metadata": {},
      "source": [
        "# Principe\n",
        "\n",
        "**Les expressions régulières sont un outil permettant de décrire un ensemble de chaînes de caractères possibles selon une syntaxe précise, et donc de définir un motif (ou `pattern`).** Les expressions régulières servent par exemple lorsqu’on veut extraire une partie d’une chaîne de caractères, ou remplacer une partie d’une chaîne de caractères. Une expression régulière prend la forme d’une chaîne de caractères, qui peut contenir à la fois des éléments littéraux et des caractères spéciaux qui ont un sens logique.\n",
        "\n",
        "Par exemple, `\"ch.+n\"` est une expression régulière qui décrit le motif suivant: la chaîne littérale `ch`, suivi de n’importe quelle chaîne d’au moins un caractère (`.+`), suivie de la lettre `n`. Dans la chaîne `\"J'ai un chien.\"`, la sous-chaîne `\"chien\"` correspond à ce motif. De même pour `\"chapeau ron\"` dans `\"J'ai un chapeau rond\"`. En revanche, dans la chaîne `\"La soupe est chaude.\"`, aucune sous-chaîne ne correpsond à ce motif (car aucun `n` n’apparaît après le `ch`).\n",
        "\n",
        "Pour s’en convaincre, nous pouvons déjà regarder\n",
        "les deux premiers cas:"
      ],
      "id": "6001a667-5a65-4919-9814-94d6b1ecf05c"
    },
    {
      "cell_type": "code",
      "execution_count": 3,
      "metadata": {},
      "outputs": [
        {
          "output_type": "stream",
          "name": "stdout",
          "text": [
            "<re.Match object; span=(8, 13), match='chien'>\n",
            "<re.Match object; span=(8, 19), match='chapeau ron'>"
          ]
        }
      ],
      "source": [
        "pattern = \"ch.+n\"\n",
        "print(re.search(pattern, \"J'ai un chien.\"))\n",
        "print(re.search(pattern, \"J'ai un chapeau rond.\"))"
      ],
      "id": "f5ff1115"
    },
    {
      "cell_type": "markdown",
      "metadata": {},
      "source": [
        "Cependant, dans le dernier cas, nous ne trouvons pas\n",
        "le *pattern* recherché:"
      ],
      "id": "0f60b95f-067d-4422-8085-5194b6c8d631"
    },
    {
      "cell_type": "code",
      "execution_count": 4,
      "metadata": {},
      "outputs": [
        {
          "output_type": "stream",
          "name": "stdout",
          "text": [
            "None"
          ]
        }
      ],
      "source": [
        "print(re.search(pattern, \"La soupe est chaude.\"))"
      ],
      "id": "2eb7d5b6"
    },
    {
      "cell_type": "markdown",
      "metadata": {},
      "source": [
        "La regex précédente comportait deux types de caractères:\n",
        "\n",
        "-   les *caractères littéraux*: lettres et nombres qui sont reconnus de manière littérale\n",
        "-   les *méta-caractères*: symboles qui ont un sens particulier dans les regex.\n",
        "\n",
        "Les principaux *méta-caractères* sont `.`, `+`, `*`, `[`, `]`, `^` et `$` mais il\n",
        "en existe beaucoup d’autres.\n",
        "Parmi cet ensemble, on utilise principalement les quantifieurs (`.`, `+`, `*`…),\n",
        "les classes de caractères (ensemble qui sont délimités par `[` et `]`)\n",
        "ou les ancres (`^`, `$`…)\n",
        "\n",
        "Dans l’exemple précédent,\n",
        "nous retrouvions deux quantifieurs accolés `.+`. Le premier (`.`) signifie n’importe quel caractère[1]. Le deuxième (`+`) signifie *“répète le pattern précédent”*.\n",
        "Dans notre cas, la combinaison `.+` permet ainsi de répéter n’importe quel caractère avant de trouver un *n*.\n",
        "Le nombre de fois est indeterminé: cela peut ne pas être pas nécessaire d’intercaler des caractères avant le *n*\n",
        "ou cela peut être nécessaire d’en intercepter plusieurs:\n",
        "\n",
        "[1] N’importe quel caractère à part le retour à la ligne (`\\n`). Ceci est à garder en tête, j’ai déjà perdu des heures à chercher pourquoi mon `.` ne capturait pas ce que je voulais qui s’étalait sur plusieurs lignes…"
      ],
      "id": "b9b2d1ce-1ce8-48a3-9cc8-e9a09807e193"
    },
    {
      "cell_type": "code",
      "execution_count": 5,
      "metadata": {},
      "outputs": [
        {
          "output_type": "stream",
          "name": "stdout",
          "text": [
            "<re.Match object; span=(8, 12), match='chin'>\n",
            "<re.Match object; span=(8, 25), match='chiot très mignon'>"
          ]
        }
      ],
      "source": [
        "print(re.search(pattern, \"J'ai un chino\"))\n",
        "print(re.search(pattern, \"J'ai un chiot très mignon.\"))"
      ],
      "id": "b2f312a4"
    },
    {
      "cell_type": "markdown",
      "metadata": {},
      "source": [
        "## Classes de caractères\n",
        "\n",
        "Lors d’une recherche, on s’intéresse aux caractères et souvent aux classes de caractères : on cherche un chiffre, une lettre, un caractère dans un ensemble précis ou un caractère qui n’appartient pas à un ensemble précis. Certains ensembles sont prédéfinis, d’autres doivent être définis à l’aide de crochets.\n",
        "\n",
        "Pour définir un ensemble de caractères, il faut écrire cet ensemble entre crochets. Par exemple, `[0123456789]` désigne un chiffre. Comme c’est une séquence de caractères consécutifs, on peut résumer cette écriture en `[0-9]`.\n",
        "\n",
        "Par\n",
        "exemple, si on désire trouver tous les *pattern* qui commencent par un `c` suivi\n",
        "d’un `h` puis d’une voyelle (a, e, i, o, u), on peut essayer\n",
        "cette expression régulière."
      ],
      "id": "38bc0ab5-f36c-401b-b79b-97beee76ab51"
    },
    {
      "cell_type": "code",
      "execution_count": 6,
      "metadata": {},
      "outputs": [
        {
          "output_type": "display_data",
          "metadata": {},
          "data": {
            "text/plain": [
              "['cha', 'chi', 'che']"
            ]
          }
        }
      ],
      "source": [
        "re.findall(\"[c][h][aeiou]\", \"chat, chien, veau, vache, chèvre\")"
      ],
      "id": "55268bf9"
    },
    {
      "cell_type": "markdown",
      "metadata": {},
      "source": [
        "Il serait plus pratique d’utiliser `Pandas` dans ce cas pour isoler les\n",
        "lignes qui répondent à la condition logique (en ajoutant les accents\n",
        "qui ne sont pas compris sinon):"
      ],
      "id": "f8046c9a-60a1-4f92-b90c-cf44c9a741fe"
    },
    {
      "cell_type": "code",
      "execution_count": 7,
      "metadata": {},
      "outputs": [
        {
          "output_type": "display_data",
          "metadata": {},
          "data": {
            "text/plain": [
              "0     True\n",
              "1     True\n",
              "2    False\n",
              "3    False\n",
              "4     True\n",
              "dtype: bool"
            ]
          }
        }
      ],
      "source": [
        "import pandas as pd\n",
        "txt = pd.Series(\"chat, chien, veau, vache, chèvre\".split(\", \"))\n",
        "txt.str.match(\"ch[aeéèiou]\")"
      ],
      "id": "15bd0883"
    },
    {
      "cell_type": "markdown",
      "metadata": {},
      "source": [
        "Cependant, l’usage ci-dessus des classes de caractères\n",
        "n’est pas le plus fréquent.\n",
        "On privilégie celles-ci pour identifier des\n",
        "pattern complexe plutôt qu’une suite de caractères littéraux.\n",
        "Les tableaux d’aide mémoire illustrent une partie des\n",
        "classes de caractères les plus fréquentes\n",
        "(`[:digit:]` ou `\\d`…)\n",
        "\n",
        "## Quantifieurs\n",
        "\n",
        "Nous avons rencontré les quantifieurs avec notre première expression\n",
        "régulière. Ceux-ci contrôlent le nombre de fois\n",
        "qu’un *pattern* est rencontré.\n",
        "\n",
        "Les plus fréquents sont:\n",
        "\n",
        "-   `?` : 0 ou 1 match ;\n",
        "-   `+` : 1 ou plus de matches ;\n",
        "-   `*` : 0 or more matches.\n",
        "\n",
        "Par exemple, `colou?r` permettra de matcher à la fois l’écriture américaine et anglaise"
      ],
      "id": "b29c7730-8bdc-4de4-838a-a076f800e260"
    },
    {
      "cell_type": "code",
      "execution_count": 8,
      "metadata": {},
      "outputs": [
        {
          "output_type": "display_data",
          "metadata": {},
          "data": {
            "text/plain": [
              "['color', 'colour']"
            ]
          }
        }
      ],
      "source": [
        "re.findall(\"colou?r\", \"Did you write color or colour?\")"
      ],
      "id": "16286422"
    },
    {
      "cell_type": "markdown",
      "metadata": {},
      "source": [
        "Ces quantifiers peuvent bien-sûr être associés à\n",
        "d’autres types de caractères, notamment les classes de caractères.\n",
        "Cela peut être extrèmement pratique.\n",
        "Par exemple, `\\d+` permettra de capturer un ou plusieurs chiffres, `\\s?`\n",
        "permettra d’ajouter en option un espace,\n",
        "`[\\w]{6,8}` un mot entre six et huit lettres qu’on écrira…\n",
        "\n",
        "Il est aussi possible de définir le nombre de répétitions\n",
        "avec `{}`:\n",
        "\n",
        "-   `{n}` matche exactement *n* fois ;\n",
        "-   `{n,}` matche au moins *n* fois ;\n",
        "-   `{n,m}` matche entre *n* et *m* fois.\n",
        "\n",
        "Cependant, la répétition des termes\n",
        "ne s’applique par défaut qu’au dernier\n",
        "caractère précédent le quantifier.\n",
        "On peut s’en convaincre avec l’exemple ci-dessus:"
      ],
      "id": "2de27127-89a0-4c71-a05f-a92653984f7c"
    },
    {
      "cell_type": "code",
      "execution_count": 9,
      "metadata": {},
      "outputs": [
        {
          "output_type": "stream",
          "name": "stdout",
          "text": [
            "None"
          ]
        }
      ],
      "source": [
        "print(re.match(\"toc{4}\",\"toctoctoctoc\"))"
      ],
      "id": "3cc840ef"
    },
    {
      "cell_type": "markdown",
      "metadata": {},
      "source": [
        "Pour pallier ce problème, il existe les parenthèses.\n",
        "Le principe est le même qu’avec les règles numériques:\n",
        "les parenthèses permettent d’introduire une hiérarchie.\n",
        "Pour reprendre l’exemple précédent, on obtient\n",
        "bien le résultat attendu grâce aux parenthèses:"
      ],
      "id": "e694146e-5801-41a2-b867-3920b7fa3a78"
    },
    {
      "cell_type": "code",
      "execution_count": 10,
      "metadata": {},
      "outputs": [
        {
          "output_type": "stream",
          "name": "stdout",
          "text": [
            "<re.Match object; span=(0, 12), match='toctoctoctoc'>\n",
            "None\n",
            "<re.Match object; span=(0, 12), match='toctoctoctoc'>"
          ]
        }
      ],
      "source": [
        "print(re.match(\"(toc){4}\",\"toctoctoctoc\"))\n",
        "print(re.match(\"(toc){5}\",\"toctoctoctoc\"))\n",
        "print(re.match(\"(toc){2,4}\",\"toctoctoctoc\"))"
      ],
      "id": "7bb9c986"
    },
    {
      "cell_type": "markdown",
      "metadata": {},
      "source": [
        "<div class=\"alert alert-info\" role=\"alert\">\n",
        "<h3 class=\"alert-heading\"><i class=\"fa-solid fa-comment\"></i> Note</h3>\n",
        "\n",
        "L’algorithme des expressions régulières essaye toujours de faire correspondre le plus grand morceau à l’expression régulière.\n",
        "\n",
        "Par exemple, soit une chaine de caractère HTML:\n",
        "\n",
        "``` python\n",
        "s = \"<h1>Super titre HTML</h1>\"\n",
        "```\n",
        "\n",
        "L’expression régulière `re.findall(\"<.*>\", s)` correspond, potentiellement,\n",
        "à trois morceaux :\n",
        "\n",
        "-   `<h1>`\n",
        "-   `</h1>`\n",
        "-   `<h1>Super titre HTML</h1>`\n",
        "\n",
        "C’est ce dernier qui sera choisi, car le plus grand. Pour\n",
        "sélectionner le plus petit,\n",
        "il faudra écrire les multiplicateurs comme ceci : `*?`, `+?`.\n",
        "En voici quelques exemples:\n",
        "\n",
        "``` python\n",
        "s = \"<h1>Super titre HTML</h1>\\n<p><code>Python</code> est un langage très flexible</p>\"\n",
        "print(re.findall(\"<.*>\", s))\n",
        "print(re.findall(\"<p>.*</p>\", s))\n",
        "print(re.findall(\"<p>.*?</p>\", s))\n",
        "print(re.compile(\"<.*?>\").findall(s))\n",
        "```\n",
        "\n",
        "    ['<h1>Super titre HTML</h1>', '<p><code>Python</code> est un langage très flexible</p>']\n",
        "    ['<p><code>Python</code> est un langage très flexible</p>']\n",
        "    ['<p><code>Python</code> est un langage très flexible</p>']\n",
        "    ['<h1>', '</h1>', '<p>', '<code>', '</code>', '</p>']\n",
        "\n",
        "</div>"
      ],
      "id": "9b4b9b33-7267-472a-b1e3-25d6af9d56df"
    },
    {
      "cell_type": "markdown",
      "metadata": {},
      "source": [
        "## Aide-mémoire\n",
        "\n",
        "Le tableau ci-dessous peut servir d’aide-mémoire\n",
        "sur les regex:\n",
        "\n",
        "| Expression régulière | Signification                                                     |\n",
        "|--------------------------|----------------------------------------------|\n",
        "| `\"^\"`                | Début de la chaîne de caractères                                  |\n",
        "| `\"$\"`                | Fin de la chaîne de caractères                                    |\n",
        "| `\"\\\\.\"`              | Un point                                                          |\n",
        "| `\".\"`                | N’importe quel caractère                                          |\n",
        "| `\".+\"`               | N’importe quelle suite de caractères non vide                     |\n",
        "| `\".*\"`               | N’importe quelle suite de caractères, éventuellement vi           |\n",
        "| `\"[:alnum:]\"`        | Un caractère alphanumérique                                       |\n",
        "| `\"[:alpha:]\"`        | Une lettre                                                        |\n",
        "| `\"[:digit:]\"`        | Un chiffre                                                        |\n",
        "| `\"[:lower:]\"`        | Une lettre minuscule                                              |\n",
        "| `\"[:punct:]\"`        | Un signe de ponctuation                                           |\n",
        "| `\"[:space:]\"`        | un espace                                                         |\n",
        "| `\"[:upper:]\"`        | Une lettre majuscule                                              |\n",
        "| `\"[[:alnum:]]+\"`     | Une suite d’au moins un caractère alphanumérique                  |\n",
        "| `\"[[:alpha:]]+\"`     | Une suite d’au moins une lettre                                   |\n",
        "| `\"[[:digit:]]+\"`     | Une suite d’au moins un chiffre                                   |\n",
        "| `\"[[:lower:]]+\"`     | Une suite d’au moins une lettre minuscule                         |\n",
        "| `\"[[:punct:]]+\"`     | Une suite d’au moins un signe de ponctuation                      |\n",
        "| `\"[[:space:]]+\"`     | Une suite d’au moins un espace                                    |\n",
        "| `\"[[:upper:]]+\"`     | Une suite d’au moins une lettre majuscule                         |\n",
        "| `\"[[:alnum:]]*\"`     | Une suite de caractères alphanumériques, éventuellement vide      |\n",
        "| `\"[[:alpha:]]*\"`     | Une suite de lettres, éventuellement vide                         |\n",
        "| `\"[[:digit:]]*\"`     | Une suite de chiffres, éventuellement vide                        |\n",
        "| `\"[[:lower:]]*\"`     | Une suite de lettres minuscules, éventuellement vide              |\n",
        "| `\"[[:upper:]]*\"`     | Une suite de lettres majuscules, éventuellement vide              |\n",
        "| `\"[[:punct:]]*\"`     | Une suite de signes de ponctuation, éventuellement vide           |\n",
        "| `\"[^[:alpha:]]+\"`    | Une suite d’au moins un caractère autre qu’une lettre             |\n",
        "| `\"[^[:digit:]]+\"`    | Une suite d’au moins un caractère autre qu’un chiffre             |\n",
        "| `\"\\|\"`               | L’une des expressions `x` ou `y` est présente                     |\n",
        "| `[abyz]`             | Un seul des caractères spécifiés                                  |\n",
        "| `[abyz]+`            | Un ou plusieurs des caractères spécifiés (éventuellement répétés) |\n",
        "| `[^abyz]`            | Aucun des caractères spécifiés n’est présent                      |\n",
        "\n",
        "Certaines classes de caractères bénéficient d’une syntaxe plus légère car\n",
        "elles sont très fréquentes. Parmi-celles:\n",
        "\n",
        "| Expression régulière | Signification                                                     |\n",
        "|--------------------------|----------------------------------------------|\n",
        "| `\\d`                 | N’importe quel chiffre                                            |\n",
        "| `\\D`                 | N’importe quel caractère qui n’est pas un caractère               |\n",
        "| `\\s`                 | N’importe quel espace (espace, tabulation, retour à la ligne)     |\n",
        "| `\\S`                 | N’importe quel caractère qui n’est pas un espace                  |\n",
        "| `\\w`                 | N’importe quel type de mot (lettres et nombres)                   |\n",
        "| `\\W`                 | N’importe quel ensemble qui n’est pas un mot (lettres et nombres) |\n",
        "\n",
        "Dans l’exercice suivant, vous allez pouvoir mettre en pratique\n",
        "les exemples précédents sur une `regex` un peu plus complète.\n",
        "Cet exercice ne nécessite pas la connaissance des subtilités\n",
        "du *package* `re`, vous n’aurez besoin que de `re.findall`.\n",
        "\n",
        "Cet exercice utilisera la chaine de caractère suivante:"
      ],
      "id": "bc09c8d1-cde0-41ca-b4bf-2fa37c204483"
    },
    {
      "cell_type": "code",
      "execution_count": 13,
      "metadata": {},
      "outputs": [
        {
          "output_type": "display_data",
          "metadata": {},
          "data": {
            "text/plain": [
              "'date 0 : 14/9/2000\\ndate 1 : 20/04/1971     date 2 : 14/09/1913     date 3 : 2/3/1978\\ndate 4 : 1/7/1986     date 5 : 7/3/47     date 6 : 15/10/1914\\ndate 7 : 08/03/1941     date 8 : 8/1/1980     date 9 : 30/6/1976'"
            ]
          }
        }
      ],
      "source": [
        "s = \"\"\"date 0 : 14/9/2000\n",
        "date 1 : 20/04/1971     date 2 : 14/09/1913     date 3 : 2/3/1978\n",
        "date 4 : 1/7/1986     date 5 : 7/3/47     date 6 : 15/10/1914\n",
        "date 7 : 08/03/1941     date 8 : 8/1/1980     date 9 : 30/6/1976\"\"\"\n",
        "s"
      ],
      "id": "33d359ff"
    },
    {
      "cell_type": "markdown",
      "metadata": {},
      "source": [
        "<div class=\"alert alert-success\" role=\"alert\">\n",
        "<h3 class=\"alert-heading\"><i class=\"fa-solid fa-pencil\"></i> Exercice 1</h3>\n",
        "\n",
        "1.  On va d’abord s’occuper d’extraire le jour de naissance.\n",
        "    -   Le premier chiffre du jour est 0, 1, 2 ou 3. Traduire cela sous la forme d’une séquence `[X-X]`\n",
        "    -   Le deuxième chiffre du jour est lui entre 0 et 9. Traduire cela sous la séquence adéquate\n",
        "    -   Remarquez que le premier jour est facultatif. Intercaler entre les deux classes de caractère adéquate\n",
        "        le quantifieur qui convient\n",
        "    -   Ajouter le slash à la suite du motif\n",
        "    -   Tester avec `re.findall`. Vous devriez obtenir beaucoup plus d’échos que nécessaire.\n",
        "        C’est normal, à ce stade la\n",
        "        regex n’est pas encore finalisée\n",
        "2.  Suivre la même logique pour les mois en notant que les mois du calendrier grégorien ne dépassent\n",
        "    jamais la première dizaine. Tester avec `re.findall`\n",
        "3.  De même pour les années de naissance en notant que jusqu’à preuve du contraire, pour des personnes vivantes\n",
        "    aujourd’hui, les millénaires concernés sont restreints. Tester avec `re.findall`\n",
        "4.  Cette regex n’est pas naturelle, on pourrait très bien se satisfaire de classes de\n",
        "    caractères génériques `\\d` même si elles pourraient, en pratique, nous sélectionner des\n",
        "    dates de naissance non possibles (`43/78/4528` par exemple). Cela permettrait\n",
        "    d’alléger la regex afin de la rendre plus intelligible. Ne pas oublier l’utilité des quantifieurs.\n",
        "5.  Comment adapter la regex pour qu’elle soit toujours valide pour nos cas mais permette aussi de\n",
        "    capturer les dates de type `YYYY/MM/DD` ? Tester sur `1998/07/12`\n",
        "\n",
        "</div>"
      ],
      "id": "23e0634c-e985-4eaf-9d14-e961c1971cde"
    },
    {
      "cell_type": "markdown",
      "metadata": {},
      "source": [
        "A l’issue de la question 1, vous devriez avoir ce résultat :"
      ],
      "id": "f0041391-9699-456b-a7cb-8cb6adefe8d7"
    },
    {
      "cell_type": "code",
      "execution_count": 14,
      "metadata": {},
      "outputs": [
        {
          "output_type": "display_data",
          "metadata": {},
          "data": {
            "text/plain": [
              "['14/',\n",
              " '9/',\n",
              " '20/',\n",
              " '04/',\n",
              " '14/',\n",
              " '09/',\n",
              " '2/',\n",
              " '3/',\n",
              " '1/',\n",
              " '7/',\n",
              " '7/',\n",
              " '3/',\n",
              " '15/',\n",
              " '10/',\n",
              " '08/',\n",
              " '03/',\n",
              " '8/',\n",
              " '1/',\n",
              " '30/',\n",
              " '6/']"
            ]
          }
        }
      ],
      "source": [],
      "id": "ab7f7f44"
    },
    {
      "cell_type": "markdown",
      "metadata": {},
      "source": [
        "A l’issue de la question 2, vous devriez avoir ce résultat, qui\n",
        "commence à prendre forme:"
      ],
      "id": "db3d37d5-c7ed-4706-bb3e-9069c1eb958a"
    },
    {
      "cell_type": "code",
      "execution_count": 15,
      "metadata": {},
      "outputs": [
        {
          "output_type": "display_data",
          "metadata": {},
          "data": {
            "text/plain": [
              "['14/9',\n",
              " '20/04',\n",
              " '14/09',\n",
              " '2/3',\n",
              " '1/7',\n",
              " '7/3',\n",
              " '15/10',\n",
              " '08/03',\n",
              " '8/1',\n",
              " '30/6']"
            ]
          }
        }
      ],
      "source": [],
      "id": "8204048f"
    },
    {
      "cell_type": "markdown",
      "metadata": {},
      "source": [
        "A l’issue de la question 3, on parvient bien\n",
        "à extraire les dates :"
      ],
      "id": "90f06e4c-a0b6-4895-b33b-8760a3ab63ee"
    },
    {
      "cell_type": "code",
      "execution_count": 16,
      "metadata": {},
      "outputs": [
        {
          "output_type": "display_data",
          "metadata": {},
          "data": {
            "text/plain": [
              "['14/9/2000',\n",
              " '20/04/1971',\n",
              " '14/09/1913',\n",
              " '2/3/1978',\n",
              " '1/7/1986',\n",
              " '7/3/47',\n",
              " '15/10/1914',\n",
              " '08/03/1941',\n",
              " '8/1/1980',\n",
              " '30/6/1976']"
            ]
          }
        }
      ],
      "source": [],
      "id": "643a7d88"
    },
    {
      "cell_type": "markdown",
      "metadata": {},
      "source": [
        "Si tout va bien, à la question 5, votre regex devrait\n",
        "fonctionner:"
      ],
      "id": "e6725653-2689-4ff1-86f2-54990ab70d6a"
    },
    {
      "cell_type": "code",
      "execution_count": 18,
      "metadata": {},
      "outputs": [
        {
          "output_type": "display_data",
          "metadata": {},
          "data": {
            "text/plain": [
              "['14/9/2000',\n",
              " '20/04/1971',\n",
              " '14/09/1913',\n",
              " '2/3/1978',\n",
              " '1/7/1986',\n",
              " '7/3/47',\n",
              " '15/10/1914',\n",
              " '08/03/1941',\n",
              " '8/1/1980',\n",
              " '30/6/1976',\n",
              " '1998/07/12']"
            ]
          }
        }
      ],
      "source": [],
      "id": "85c0aa4a"
    },
    {
      "cell_type": "markdown",
      "metadata": {},
      "source": [
        "# Principales fonctions de `re`\n",
        "\n",
        "Voici un tableau récapitulatif des principales\n",
        "fonctions du package `re` suivi d’exemples.\n",
        "\n",
        "Nous avons principalement\n",
        "utilisé jusqu’à présent `re.findall` qui est\n",
        "l’une des fonctions les plus pratiques du *package*.\n",
        "`re.sub` et `re.search` sont également bien pratiques.\n",
        "Les autres sont moins vitales mais peuvent dans des\n",
        "cas précis être utiles.\n",
        "\n",
        "| Fonction                       | Objectif                                                                                                                                                                                                                    |\n",
        "|-------------------------------------|-----------------------------------|\n",
        "| `re.match(<regex>, s)`         | Trouver et renvoyer le **premier** *match* de l’expression régulière `<regex>` **à partir du début** du *string* `s`                                                                                                        |\n",
        "| `re.search(<regex>, s)`        | Trouver et renvoyer le **premier** *match* de l’expression régulière `<regex>` **quelle que soit sa position** dans le *string* `s`                                                                                         |\n",
        "| `re.finditer(<regex>, s)`      | Trouver et renvoyer un itérateur stockant tous les *matches* de l’expression régulière `<regex>` **quelle que soit leur(s) position(s)** dans le *string* `s`. En général, on effectue ensuite une boucle sur cet itérateur |\n",
        "| `re.findall(<regex>, s)`       | Trouver et renvoyer **tous les *matches*** de l’expression régulière `<regex>` **quelle que soit leur(s) position(s)** dans le *string* `s` sous forme de **liste**                                                         |\n",
        "| `re.sub(<regex>, new_text, s)` | Trouver et **remplacer tous** les *matches* de l’expression régulière `<regex>` **quelle que soit leur(s) position(s)** dans le *string* `s`                                                                                |\n",
        "\n",
        "Pour illustrer ces fonctions, voici quelques exemples:"
      ],
      "id": "502cefa0-a056-4fc5-9033-bba6384c8d95"
    },
    {
      "cell_type": "markdown",
      "metadata": {},
      "source": [
        "<details><summary>Exemple de <code>re.match</code> 👇</summary>\n",
        "\n",
        "`re.match` ne peut servir qu’à capturer un *pattern* en début\n",
        "de *string*. Son utilité est donc limitée.\n",
        "Capturons néanmoins `toto` :\n",
        "\n",
        "``` python\n",
        "re.match(\"(to){2}\", \"toto à la plage\")\n",
        "```\n",
        "\n",
        "    <re.Match object; span=(0, 4), match='toto'>\n",
        "\n",
        "</details>"
      ],
      "id": "97db02e1-503d-4df4-b4a4-6761a21f74fc"
    },
    {
      "cell_type": "markdown",
      "metadata": {},
      "source": [
        "<details><summary>Exemple de <code>re.search</code> 👇</summary>\n",
        "\n",
        "`re.search` est plus puissant que `re.match`, on peut\n",
        "capturer des termes quelle que soit leur position\n",
        "dans un *string*. Par exemple, pour capturer *age*:\n",
        "\n",
        "``` python\n",
        "re.search(\"age\", \"toto a l'age d'aller à la plage\")\n",
        "```\n",
        "\n",
        "    <re.Match object; span=(9, 12), match='age'>\n",
        "\n",
        "Et pour capturer exclusivement *“age”* en fin\n",
        "de *string*:\n",
        "\n",
        "``` python\n",
        "re.search(\"age$\", \"toto a l'age d'aller à la plage\")\n",
        "```\n",
        "\n",
        "    <re.Match object; span=(28, 31), match='age'>\n",
        "\n",
        "</details>"
      ],
      "id": "bc35bdde-5338-43eb-9f5f-4a24b19e8f6b"
    },
    {
      "cell_type": "markdown",
      "metadata": {},
      "source": [
        "<details><summary>Exemple de <code>re.finditer</code> 👇</summary>\n",
        "\n",
        "`re.finditer` est, à mon avis,\n",
        "moins pratique que `re.findall`. Son utilité\n",
        "principale par rapport à `re.findall`\n",
        "est de capturer la position dans un champ textuel:\n",
        "\n",
        "``` python\n",
        "s = \"toto a l'age d'aller à la plage\"\n",
        "for match in re.finditer(\"age\", s):\n",
        "    start = match.start()\n",
        "    end = match.end()\n",
        "    print(f'String match \"{s[start:end]}\" at {start}:{end}')\n",
        "```\n",
        "\n",
        "    String match \"age\" at 9:12\n",
        "    String match \"age\" at 28:31\n",
        "\n",
        "</details>"
      ],
      "id": "79606713-fef5-42bc-9497-e073aad650f6"
    },
    {
      "cell_type": "markdown",
      "metadata": {},
      "source": [
        "<details><summary>Exemple de <code>re.sub</code> 👇</summary>\n",
        "\n",
        "`re.sub` permet de capturer et remplacer des expressions.\n",
        "Par exemple, remplaçons *“age”* par *“âge”*. Mais attention,\n",
        "il ne faut pas le faire lorsque le motif est présent dans *“plage”*.\n",
        "On va donc mettre une condition négative: capturer *“age”* seulement\n",
        "s’il n’est pas en fin de *string* (ce qui se traduit en *regex* par `?!$`)\n",
        "\n",
        "``` python\n",
        "re.sub(\"age(?!$)\", \"âge\", \"toto a l'age d'aller à la plage\")\n",
        "```\n",
        "\n",
        "    \"toto a l'âge d'aller à la plage\"\n",
        "\n",
        "</details>"
      ],
      "id": "8252c79b-f870-48fa-a4ce-63fd905fbada"
    },
    {
      "cell_type": "markdown",
      "metadata": {},
      "source": [
        "<div class=\"alert alert-warning\" role=\"alert\">\n",
        "<h3 class=\"alert-heading\"><i class=\"fa-solid fa-lightbulb\"></i> Quand utiliser <code>re.compile</code> et les raw strings ?</h3>\n",
        "\n",
        "`re.compile` peut être intéressant lorsque\n",
        "vous utilisez une expression régulière plusieurs fois dans votre code.\n",
        "Cela permet de compiler l’expression régulière en un objet reconnu par `re`,\n",
        "ce qui peut être plus efficace en termes de performance lorsque l’expression régulière\n",
        "est utilisée à plusieurs reprises ou sur des données volumineuses.\n",
        "\n",
        "Les chaînes brutes (*raw string*) sont des chaînes de caractères spéciales en `Python`,\n",
        "qui commencent par `r`. Par exemple `r\"toto à la plage\"`.\n",
        "Elles peuvent être intéressantes\n",
        "pour éviter que les caractères d’échappement ne soient interprétés par `Python`\n",
        "Par exemple, si vous voulez chercher une chaîne qui contient une barre oblique inverse `\\` dans une chaîne, vous devez utiliser une chaîne brute pour éviter que la barre oblique inverse ne soit interprétée comme un caractère d’échappement (`\\t`, `\\n`, etc.).\n",
        "Le testeur <https://regex101.com/> suppose d’ailleurs que\n",
        "vous utilisez des *raw string*, cela peut donc être utile de s’habituer à les utiliser.\n",
        "\n",
        "</div>"
      ],
      "id": "2ccac18e-cb50-4da9-9c53-905ce720c3d9"
    },
    {
      "cell_type": "markdown",
      "metadata": {},
      "source": [
        "# Généralisation avec `Pandas`\n",
        "\n",
        "Les méthodes de `Pandas` sont des extensions de celles de `re`\n",
        "qui évitent de faire une boucle pour regarder,\n",
        "ligne à ligne, une regex. En pratique, lorsqu’on traite des\n",
        "`DataFrames`, on utilise plutôt l’API Pandas que `re`. Les\n",
        "codes de la forme `df.apply(lambda x: re.<fonction>(<regex>,x), axis = 1)`\n",
        "sont à bannir car très peu efficaces.\n",
        "\n",
        "Les noms changent parfois légèrement par rapport à leur\n",
        "équivalent `re`.\n",
        "\n",
        "| Méthode          | Description                                                                                                                                                    |\n",
        "|---------------------------------------|---------------------------------|\n",
        "| `str.count()`    | Compter le nombre d’occurrences du *pattern* dans chaque ligne                                                                                                 |\n",
        "| `str.replace()`  | Remplacer le *pattern* par une autre valeur. Version vectorisée de `re.sub()`                                                                                  |\n",
        "| `str.contains()` | Tester si le *pattern* apparaît, ligne à ligne. Version vectorisée de `re.search()`                                                                            |\n",
        "| `str.extract()`  | Extraire les groupes qui répondent à un *pattern* et les renvoyer dans une colonne                                                                             |\n",
        "| `str.findall()`  | Trouver et renvoyer toutes les occurrences d’un *pattern*. Si une ligne comporte plusieurs échos, une liste est renvoyée. Version vectorisée de `re.findall()` |\n",
        "\n",
        "A ces fonctions, s’ajoutent les méthodes `str.split()` et `str.rsplit()` qui sont bien pratiques."
      ],
      "id": "1325b4ac-35b1-45ed-acf0-328860029838"
    },
    {
      "cell_type": "markdown",
      "metadata": {},
      "source": [
        "<details><summary>Exemple de <code>str.count</code> 👇</summary>\n",
        "\n",
        "On peut compter le nombre de fois qu’un *pattern* apparaît avec\n",
        "`str.count`\n",
        "\n",
        "``` python\n",
        "df = pd.DataFrame({\"a\": [\"toto\", \"titi\"]})\n",
        "df['a'].str.count(\"to\")\n",
        "```\n",
        "\n",
        "    0    2\n",
        "    1    0\n",
        "    Name: a, dtype: int64\n",
        "\n",
        "</details>"
      ],
      "id": "df395d5f-5f14-4f76-a565-8fd2b00d4e4c"
    },
    {
      "cell_type": "markdown",
      "metadata": {},
      "source": [
        "<details><summary>Exemple de <code>str.replace</code> 👇</summary>\n",
        "\n",
        "Remplaçons le motif *“ti”* en fin de phrase\n",
        "\n",
        "``` python\n",
        "df = pd.DataFrame({\"a\": [\"toto\", \"titi\"]})\n",
        "df['a'].str.replace(\"ti$\", \" punch\")\n",
        "```\n",
        "\n",
        "    0    toto\n",
        "    1    titi\n",
        "    Name: a, dtype: object\n",
        "\n",
        "</details>"
      ],
      "id": "b03ae400-d531-44aa-8eb2-85545000c29b"
    },
    {
      "cell_type": "markdown",
      "metadata": {},
      "source": [
        "<details><summary>Exemple de <code>str.contains</code> 👇</summary>\n",
        "\n",
        "Vérifions les cas où notre ligne termine par *“ti”*:\n",
        "\n",
        "``` python\n",
        "df = pd.DataFrame({\"a\": [\"toto\", \"titi\"]})\n",
        "df['a'].str.contains(\"ti$\")\n",
        "```\n",
        "\n",
        "    0    False\n",
        "    1     True\n",
        "    Name: a, dtype: bool\n",
        "\n",
        "</details>"
      ],
      "id": "bfd76b01-0c3a-4284-b8aa-1f87d082a308"
    },
    {
      "cell_type": "markdown",
      "metadata": {},
      "source": [
        "<details><summary>Exemple de <code>str.findall</code> 👇</summary>\n",
        "\n",
        "``` python\n",
        "df = pd.DataFrame({\"a\": [\"toto\", \"titi\"]})\n",
        "df['a'].str.findall(\"to\")\n",
        "```\n",
        "\n",
        "    0    [to, to]\n",
        "    1          []\n",
        "    Name: a, dtype: object\n",
        "\n",
        "</details>"
      ],
      "id": "9bf1dfaf-8303-44c8-ae0b-30fea364eca3"
    },
    {
      "cell_type": "markdown",
      "metadata": {},
      "source": [
        "<div class=\"alert alert-danger\" role=\"alert\">\n",
        "<i class=\"fa-solid fa-triangle-exclamation\"></i> Warning</h3>\n",
        "\n",
        "A l’heure actuelle, il n’est pas nécessaire d’ajouter l’argument `regex = True` mais cela\n",
        "devrait être le cas dans une future version de `Pandas`.\n",
        "Cela peut valoir le coup de s’habituer à l’ajouter.\n",
        "\n",
        "</div>"
      ],
      "id": "f17282f5-f4ad-43db-a26a-00952825c9b1"
    },
    {
      "cell_type": "markdown",
      "metadata": {},
      "source": [
        "# Pour en savoir plus\n",
        "\n",
        "-   [documentation collaborative sur `R` nommée `utilitR`](https://www.book.utilitr.org/textdata.html#regex)\n",
        "-   [*R for Data Science*](https://r4ds.hadley.nz/regexps.html)\n",
        "-   [*Regular Expression HOWTO* dans la documentation officielle de `Python`](https://docs.python.org/3/howto/regex.html)\n",
        "-   L’outil de référence \\[https://regex101.com/\\] pour tester des expressions régulières\n",
        "-   [Ce site](https://ole.michelsen.dk/tools/regex/) qui comporte une cheat sheet en bas de la page.\n",
        "-   Les jeux de [Regex Crossword](https://regexcrossword.com/) permettent d’apprendre les expressions régulières en s’amusant\n",
        "\n",
        "## Exercices supplémentaires\n",
        "\n",
        "### Extraction d’adresses email\n",
        "\n",
        "Il s’agit d’un usage classique des *regex*"
      ],
      "id": "551f7de1-fb88-4b3c-b0f3-97ad9d714963"
    },
    {
      "cell_type": "code",
      "execution_count": 28,
      "metadata": {},
      "outputs": [],
      "source": [
        "text_emails = 'Hello from toto@gmail.com to titi.grominet@yahoo.com about the meeting @2PM'"
      ],
      "id": "d8f424dc"
    },
    {
      "cell_type": "markdown",
      "metadata": {},
      "source": [
        "<div class=\"alert alert-success\" role=\"alert\">\n",
        "<h3 class=\"alert-heading\"><i class=\"fa-solid fa-pencil\"></i> Exercice : extraction d'adresses email</h3>\n",
        "\n",
        "Utiliser la structure d’une adresse mail `[XXXX]@[XXXX]` pour récupérer\n",
        "ce contenu\n",
        "\n",
        "</div>"
      ],
      "id": "f2ae5b36-0ffd-4f59-a4a4-d60a1ae753af"
    },
    {
      "cell_type": "code",
      "execution_count": 29,
      "metadata": {},
      "outputs": [
        {
          "output_type": "stream",
          "name": "stdout",
          "text": [
            "['toto@gmail.com', 'titi.grominet@yahoo.com']"
          ]
        }
      ],
      "source": [],
      "id": "bdc03c8d"
    },
    {
      "cell_type": "markdown",
      "metadata": {},
      "source": [
        "### Extraire des années depuis un `DataFrame` `Pandas`\n",
        "\n",
        "L’objectif général de l’exercice est de nettoyer des colonnes d’un DataFrame en utilisant des expressions régulières."
      ],
      "id": "2811841f-904d-44f0-b5a6-3d6f60056975"
    },
    {
      "cell_type": "markdown",
      "metadata": {},
      "source": [
        "<div class=\"alert alert-success\" role=\"alert\">\n",
        "<h3 class=\"alert-heading\"><i class=\"fa-solid fa-pencil\"></i> Exercice</h3>\n",
        "\n",
        "La base en question contient des livres de la British Library et quelques informations les concernant. Le jeu de données est disponible ici : https://raw.githubusercontent.com/realpython/python-data-cleaning/master/Datasets/BL-Flickr-Images-Book.csv\n",
        "\n",
        "La colonne “Date de Publication” n’est pas toujours une année, il y a parfois d’autres informations. Le but de l’exercice est d’avoir **une date de publication du livre propre** et de regarder la **distribution des années de publications**.\n",
        "\n",
        "Pour ce faire, vous pouvez :\n",
        "\n",
        "-   Soit choisir de réaliser l’exercice sans aide. Votre **lecture de l’énoncé s’arrête donc ici**. Vous devez alors faire attention à bien regarder vous-même la base de données et la transformer avec attention.\n",
        "\n",
        "-   Soit suivre les différentes étapes qui suivent pas à pas.\n",
        "\n",
        "<details><summary>Version guidée 👇</summary>\n",
        "\n",
        "1.  Lire les données depuis l’url `https://raw.githubusercontent.com/realpython/python-data-cleaning/master/Datasets/BL-Flickr-Images-Book.csv`. Attention au séparateur\n",
        "2.  Ne garder que les colonnes `['Identifier', 'Place of Publication', 'Date of Publication', 'Publisher', 'Title', 'Author']`\n",
        "3.  Observer la colonne *‘Date of Publication’* et remarquer le problème sur certaines lignes (par exemple la ligne 13)\n",
        "4.  Commencez par regarder le nombre d’informations manquantes. On ne pourra pas avoir mieux après la regex, et normalement on ne devrait pas avoir moins…\n",
        "5.  Déterminer la forme de la regex pour une date de publication. A priori, il y a 4 chiffres qui forment une année.\n",
        "    Utiliser la méthode `str.extract()` avec l’argument `expand = False` (pour ne conserver que la première date concordant avec notre *pattern*)?\n",
        "6.  On a 2 `NaN` qui n’étaient pas présents au début de l’exercice. Quels sont-ils et pourquoi ?\n",
        "7.  Quelle est la répartition des dates de publications dans le jeu de données ? Vous pouvez par exemple afficher un histogramme grâce à la méthode `plot` avec l’argument `kind =\"hist\"`.\n",
        "\n",
        "</summary>\n",
        "\n",
        "</div>"
      ],
      "id": "9207d50b-9a36-4b7f-a744-0e8a9e791c8a"
    },
    {
      "cell_type": "markdown",
      "metadata": {},
      "source": [
        "Voici par exemple le problème qu’on demande de détecter à la question 3 :"
      ],
      "id": "2e860680-a38a-4c14-b97c-17d7670aa6a6"
    },
    {
      "cell_type": "code",
      "execution_count": 32,
      "metadata": {},
      "outputs": [
        {
          "output_type": "display_data",
          "metadata": {},
          "data": {
            "text/html": [
              "\n",
              "</div>"
            ]
          }
        }
      ],
      "source": [],
      "id": "7a159f22"
    },
    {
      "cell_type": "code",
      "execution_count": 33,
      "metadata": {},
      "outputs": [
        {
          "output_type": "display_data",
          "metadata": {},
          "data": {
            "text/plain": [
              "181"
            ]
          }
        }
      ],
      "source": [],
      "id": "9024f66a"
    },
    {
      "cell_type": "markdown",
      "metadata": {},
      "source": [
        "Grâce à notre regex (question 5), on obtient ainsi un `DataFrame` plus conforme à nos attentes"
      ],
      "id": "17890c55-c4db-45d5-8c58-e8968ac44d7e"
    },
    {
      "cell_type": "code",
      "execution_count": 34,
      "metadata": {},
      "outputs": [
        {
          "output_type": "display_data",
          "metadata": {},
          "data": {
            "text/html": [
              "\n",
              "<p>1759 rows × 2 columns</p>\n",
              "</div>"
            ]
          }
        }
      ],
      "source": [],
      "id": "5c41baa7"
    },
    {
      "cell_type": "markdown",
      "metadata": {},
      "source": [
        "Quant aux nouveaux `NaN`,\n",
        "il s’agit de lignes qui ne contenaient pas de chaînes de caractères qui ressemblaient à des années:"
      ],
      "id": "9420d700-2c10-46d2-a5a5-1a149d24ce7e"
    },
    {
      "cell_type": "code",
      "execution_count": 35,
      "metadata": {},
      "outputs": [
        {
          "output_type": "display_data",
          "metadata": {},
          "data": {
            "text/html": [
              "\n",
              "</div>"
            ]
          }
        }
      ],
      "source": [],
      "id": "d8492894"
    },
    {
      "cell_type": "markdown",
      "metadata": {},
      "source": [
        "Enfin, on obtient l’histogramme suivant des dates de publications:"
      ],
      "id": "88274e49-270f-4a2a-8fcc-b2bd972de6b6"
    },
    {
      "cell_type": "code",
      "execution_count": 36,
      "metadata": {},
      "outputs": [
        {
          "output_type": "display_data",
          "metadata": {},
          "data": {
            "text/plain": [
              "<Axes: ylabel='Frequency'>"
            ]
          }
        },
        {
          "output_type": "display_data",
          "metadata": {},
          "data": {
            "image/png": "[encoded data removed]"
          }
        }
      ],
      "source": [],
      "id": "92ee90f5"
    }
  ],
  "nbformat": 4,
  "nbformat_minor": 5,
  "metadata": {
    "kernelspec": {
      "name": "python3",
      "display_name": "Python 3 (ipykernel)",
      "language": "python"
    },
    "language_info": {
      "name": "python",
      "codemirror_mode": {
        "name": "ipython",
        "version": "3"
      },
      "file_extension": ".py",
      "mimetype": "text/x-python",
      "nbconvert_exporter": "python",
      "pygments_lexer": "ipython3",
      "version": "3.9.16"
    }
  }
}