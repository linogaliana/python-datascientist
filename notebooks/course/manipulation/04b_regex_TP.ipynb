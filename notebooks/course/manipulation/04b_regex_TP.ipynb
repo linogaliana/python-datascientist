{
 "cells": [
  {
   "cell_type": "raw",
   "id": "31b012e4",
   "metadata": {},
   "source": [
    "---\n",
    "title: \"Maîtriser les expressions régulières\"\n",
    "date: 2020-09-08T13:00:00Z\n",
    "draft: false\n",
    "weight: 70\n",
    "slug: regex\n",
    "tags:\n",
    "  - regex\n",
    "  - pandas\n",
    "  - re\n",
    "categories:\n",
    "  - Tutoriel\n",
    "type: book\n",
    "summary: |\n",
    "  Les expressions régulières fournissent un cadre très pratique pour manipuler\n",
    "  de manière flexible des données textuelles. Elles sont très utiles\n",
    "  notamment pour les tâches de traitement naturel du langage (NLP)\n",
    "---"
   ]
  },
  {
   "cell_type": "code",
   "execution_count": 1,
   "id": "250b41c8",
   "metadata": {},
   "outputs": [
    {
     "name": "stdout",
     "output_type": "stream",
     "text": [
      "<a href=\"https://github.com/linogaliana/python-datascientist/blob/master/notebooks/course/manipulation/04b_regex_TP.ipynb\" class=\"github\"><i class=\"fab fa-github\"></i></a>\n",
      "[![Download](https://img.shields.io/badge/Download-Notebook-important?logo=Jupyter)](https://downgit.github.io/#/home?url=https://github.com/linogaliana/python-datascientist/blob/master/notebooks/course/manipulation/04b_regex_TP.ipynb)\n",
      "[![nbviewer](https://img.shields.io/badge/Visualize-nbviewer-blue?logo=Jupyter)](https://nbviewer.jupyter.org/github/linogaliana/python-datascientist/blob/master/notebooks/course/manipulation/04b_regex_TP.ipynb)\n",
      "[![Onyxia](https://img.shields.io/badge/SSPcloud-Tester%20via%20SSP--cloud-informational&color=yellow?logo=Python)](https://datalab.sspcloud.fr/launcher/inseefrlab-helm-charts-datascience/jupyter?autoLaunch=true&onyxia.friendlyName=%C2%ABpython-datascience%C2%BB&init.personalInit=%C2%ABhttps%3A%2F%2Fraw.githubusercontent.com%2Flinogaliana%2Fpython-datascientist%2Fmaster%2Fsspcloud%2Finit-jupyter.sh%C2%BB&init.personalInitArgs=%C2%ABnotebooks/course/manipulation%2004b_regex_TP.ipynb%C2%BB&security.allowlist.enabled=false)<br>\n",
      "[![Binder](https://img.shields.io/badge/Launch-Binder-E66581.svg?logo=data:image/png;base64,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)](https://mybinder.org/v2/gh/linogaliana/python-datascientist/master?filepath=notebooks/course/manipulation/04b_regex_TP.ipynb)\n",
      "[![Open In Colab](https://colab.research.google.com/assets/colab-badge.svg)](http://colab.research.google.com/github/linogaliana/python-datascientist/blob/master/notebooks/course/manipulation/04b_regex_TP.ipynb)\n",
      "[![githubdev](https://img.shields.io/static/v1?logo=visualstudiocode&label=&message=Open%20in%20Visual%20Studio%20Code&labelColor=2c2c32&color=007acc&logoColor=007acc)](https://github.dev/linogaliana/python-datascientist/notebooks/course/manipulation/04b_regex_TP.ipynb)\n"
     ]
    }
   ],
   "source": [
    "#| echo: false\n",
    "#| output: 'asis'\n",
    "#| include: true\n",
    "#| eval: true\n",
    "\n",
    "import sys\n",
    "sys.path.insert(1, '../../../../') #insert the utils module\n",
    "from utils import print_badges\n",
    "\n",
    "#print_badges(__file__)\n",
    "print_badges(\"content/course/manipulation/04b_regex_TP.qmd\")"
   ]
  },
  {
   "cell_type": "markdown",
   "id": "1c52db91",
   "metadata": {},
   "source": [
    "Ce TD est directement issu du contenu de [Xavier Dupré](http://www.xavierdupre.fr/app/teachpyx/helpsphinx/c_regex/regex.html),\n",
    "l'ancien professeur de ce cours. Il sera mis-à-jour dans le futur.\n",
    "\n",
    "Chercher un mot dans un texte est une tâche facile, c'est l'objectif de la méthode `find()` attachée aux chaînes de caractères, étudiée dans la partie webscraping. Elle suffit également lorsque l'on cherche un mot au pluriel ou au singulier, mais il faut dans ce cas l'appeler au moins deux fois. \n",
    "\n",
    "Pour des expressions plus compliquées, il est conseillé d'utiliser les expressions régulières, ou \"regex\". C'est une fonctionnalité qu'on retrouve dans beaucoup de langages. C'est une forme de grammaire qui permet de rechercher des expressions.\n",
    "\n",
    "Par exemple, lorsqu'on remplit un formulaire, on voit souvent le format ``\"MM/JJ/AAAA\"`` qui précise sous quelle forme on s'attend à ce qu’une date soit écrite. Les expressions régulières permettent de définir également ce format et de chercher dans un texte toutes les chaînes de caractères qui sont conformes à ce format.\n",
    "\n",
    "La liste qui suit contient des dates de naissance. On cherche à obtenir toutes les dates de cet exemple sachant que les jours ou les mois contiennent un ou deux chiffres, et les années deux ou quatre.\n"
   ]
  },
  {
   "cell_type": "code",
   "execution_count": 2,
   "id": "b9780a7d",
   "metadata": {},
   "outputs": [
    {
     "name": "stdout",
     "output_type": "stream",
     "text": [
      "date 0 : 14/9/2000\n",
      "date 1 : 20/04/1971     date 2 : 14/09/1913     date 3 : 2/3/1978\n",
      "date 4 : 1/7/1986     date 5 : 7/3/47     date 6 : 15/10/1914\n",
      "date 7 : 08/03/1941     date 8 : 8/1/1980     date 9 : 30/6/1976\n"
     ]
    }
   ],
   "source": [
    "s = \"\"\"date 0 : 14/9/2000\n",
    "date 1 : 20/04/1971     date 2 : 14/09/1913     date 3 : 2/3/1978\n",
    "date 4 : 1/7/1986     date 5 : 7/3/47     date 6 : 15/10/1914\n",
    "date 7 : 08/03/1941     date 8 : 8/1/1980     date 9 : 30/6/1976\"\"\"\n",
    "print(s)"
   ]
  },
  {
   "cell_type": "markdown",
   "id": "1067a21e",
   "metadata": {},
   "source": [
    "#### Exemple introductif : Format de date \n",
    "\n",
    "Le premier chiffre du ``jour`` est soit 0, 1, 2, ou 3 ; ceci se traduit par ``[0-3]``. \n",
    "\n",
    "Le second chiffre est compris entre 0 et 9, soit ``[0-9]``. Le format des jours est traduit par ``[0-3][0-9]``. Mais le premier chiffre du jour est facultatif, ce qu'on précise avec le symbole ? : ``[0-3]?[0-9]``. \n",
    "\n",
    "Les ``mois`` suivent le même principe : ``[0-1]?[0-9]``. \n",
    "\n",
    "\n",
    "Pour les ``années``, ce sont les deux premiers chiffres qui sont facultatifs, le symbole ? s'appliquent alors sur les deux premiers chiffres : ``[0-2]?[0-9]?[0-9][0-9]``. Le format final d'une date devient alors :\n",
    "\n",
    "``[0-3]?[0-9]/[0-1]?[0-9]/[0-2]?[0-9]?[0-9][0-9]``\n",
    "\n",
    "Le module ``re`` gère les expressions régulières, celui-ci traite différemment les parties de l'expression régulière qui sont entre parenthèses de celles qui ne le sont pas : c'est un moyen de dire au module ``re`` que nous nous intéressons à telle partie de l'expression qui est signalée entre parenthèses. Comme la partie qui nous intéresse - une date - concerne l'intégralité de l'expression régulière, il faut insérer celle-ci intégralement entre parenthèses.\n",
    "\n",
    "La première étape consiste à construire l'expression régulière, la seconde à rechercher toutes les fois qu'un morceau de la chaîne `s` définie plus haut correspond à l’expression régulière.\n"
   ]
  },
  {
   "cell_type": "code",
   "execution_count": 3,
   "id": "83191fd2",
   "metadata": {},
   "outputs": [
    {
     "name": "stdout",
     "output_type": "stream",
     "text": [
      "['14/9/2000', '20/04/1971', '14/09/1913', '2/3/1978', '1/7/1986', '7/3/47', '15/10/1914', '08/03/1941', '8/1/1980', '30/6/1976']\n"
     ]
    }
   ],
   "source": [
    "import re\n",
    "# première étape : construction\n",
    "expression = re.compile(\"([0-3]?[0-9]/[0-1]?[0-9]/[0-2]?[0-9]?[0-9][0-9])\")\n",
    "# seconde étape : recherche\n",
    "res = expression.findall(s)\n",
    "print(res)"
   ]
  },
  {
   "cell_type": "markdown",
   "id": "eb2a1653",
   "metadata": {},
   "source": [
    "Le résultat est une liste dont chaque élément correspond aux parties comprises entre parenthèses qu'on appelle des groupes. \n",
    "\n",
    "Lorsque les expressions régulières sont utilisées, on doit d'abord se demander comment définir ce qu’on cherche puis quelles fonctions utiliser pour obtenir les résultats de cette recherche. Les deux paragraphes qui suivent y répondent.\n",
    "\n",
    "\n",
    "## Syntaxe\n",
    "\n",
    "La syntaxe des expressions régulières est décrite sur le site officiel de python. La page [Regular Expression Syntax](https://docs.python.org/3/library/re.html) décrit comment se servir des expressions régulières, les deux pages sont en anglais. Comme toute grammaire, celle des expressions régulières est susceptible d’évoluer au fur et à mesure des versions du langage python.\n",
    "\n",
    "\n",
    "## Les ensembles de caractères\n",
    "\n",
    "Lors d’une recherche, on s’intéresse aux caractères et souvent aux classes de caractères : on cherche un chiffre, une lettre, un caractère dans un ensemble précis ou un caractère qui n’appartient pas à un ensemble précis. Certains ensembles sont prédéfinis, d’autres doivent être définis à l’aide de crochets.\n",
    "\n",
    "Pour définir un ensemble de caractères, il faut écrire cet ensemble entre crochets. Par exemple, ``[0123456789]`` désigne un chiffre. Comme c’est une séquence de caractères consécutifs, on peut résumer cette écriture en ``[0-9]``. Pour inclure les symboles ``+`` et ``-``, il suffit d’écrire : ``[-0-9+]``. La subtilité est qu'il faut penser à mettre le symbole ``-`` au début pour éviter qu’il ne désigne une séquence.\n",
    "\n",
    "Le caractère `^` inséré au début du groupe signifie que le caractère cherché ne doit pas être un de ceux qui suivent. Le tableau suivant décrit les ensembles prédéfinis et leur équivalent en terme d’ensemble de caractères :\n",
    "\n",
    "\n",
    "* ``.`` désigne tout caractère non spécial quel qu'il soit.\n",
    "* ``\\d`` désigne tout chiffre, est équivalent à ``[0-9]``.\n",
    "* ``\\D`` désigne tout caractère différent d'un chiffre, est équivalent à ``[^0-9]``.\n",
    "* ``\\s`` désigne tout espace ou caractère approché, est équivalent à ``[\\; \\t\\n\\r\\f\\v]``. Ces caractères sont spéciaux, les plus utilisés sont ``\\t`` qui est une tabulation, ``\\n`` qui est une fin de ligne et qui ``\\r`` qui est un retour à la ligne.\n",
    "* ``\\S`` désigne tout caractère différent d'un espace, est équivalent à ``[^ \\t\\n\\r\\f\\v]``.\n",
    "* ``\\w`` désigne toute lettre ou tout chiffre, est équivalent à ``[a-zA-Z0-9_]``.\n",
    "* ``\\W`` désigne tout caractère différent d'une lettre ou d'un chiffre, est équivalent à ``[^a-zA-Z0-9_]``.\n",
    "* ``^`` désigne le début d'un mot sauf s'il est placé entre crochets.\n",
    "* ``$`` désigne la fin d'un mot sauf s'il est placé entre crochets.\n",
    "\n",
    "\n",
    "A l'instar des chaînes de caractères, comme le caractère ``\\`` est un caractère spécial, il faut le doubler : ``[\\\\]``.\n",
    "\n",
    "\n",
    "## Les multiplicateurs\n",
    "\n",
    "Les multiplicateurs permettent de définir des expressions régulières comme : un mot entre six et huit lettres qu’on écrira ``[\\w]{6,8}``. Le tableau suivant donne la liste des multiplicateurs principaux :\n",
    "\n",
    "\n",
    "* ``*`` présence de l'ensemble de caractères qui précède entre 0 fois et l'infini\n",
    "* ``+`` présence de l'ensemble de caractères qui précède entre 1 fois et l'infini\n",
    "* ``?`` présence de l'ensemble de caractères qui précède entre 0 et 1 fois\n",
    "* ``{m,n}`` présence de l'ensemble de caractères qui précède entre *m* et *n* fois, si *m=n*, cette expression peut être résumée par ``{n}``.\n",
    "* ``(?!(...))`` absence du groupe désigné par les points de suspensions.\n",
    "\n",
    "\n",
    "L’algorithme des expressions régulières essaye toujours de faire correspondre le plus grand morceau à l’expression régulière. \n",
    "\n",
    "Par exemple, pour la chaîne de charactère ``<h1>mot</h1>``, l'expression régulière ``<.*>`` correspond à trois morceaux : \n",
    "*  ``<h1>``\n",
    "*  ``</h1>``\n",
    "* ``<h1>mot</h1>`` => le plus grand qui sera choisi.\n",
    "\n",
    "Pour choisir les plus petits, il faudra écrire les multiplicateurs comme ceci : ``*?``, ``+?``\n"
   ]
  },
  {
   "cell_type": "code",
   "execution_count": 4,
   "id": "83a747eb",
   "metadata": {},
   "outputs": [
    {
     "name": "stdout",
     "output_type": "stream",
     "text": [
      "['<h1>mot</h1>']\n",
      "['<h1>', '</h1>']\n",
      "('<h1>mot</h1>',)\n"
     ]
    }
   ],
   "source": [
    "import re\n",
    "import re\n",
    "s = \"<h1>mot</h1>\"\n",
    "print(re.compile(\"<.*>\").findall(s))\n",
    "print(re.compile(\"<.*?>\").findall(s))\n",
    "\n",
    "\n",
    "\n",
    "print(re.compile(\"(<.*>)\").match(s).groups())"
   ]
  },
  {
   "cell_type": "code",
   "execution_count": 5,
   "id": "e40f1759",
   "metadata": {},
   "outputs": [
    {
     "name": "stdout",
     "output_type": "stream",
     "text": [
      "<re.Match object; span=(0, 12), match='<h1>mot</h1>'>\n"
     ]
    }
   ],
   "source": [
    "print(re.compile(\"(.*</h1>)\").match(s))"
   ]
  },
  {
   "cell_type": "code",
   "execution_count": 6,
   "id": "4958f07f",
   "metadata": {},
   "outputs": [
    {
     "name": "stdout",
     "output_type": "stream",
     "text": [
      "('</h1>',)\n",
      "['<h1>', '</h1>']\n"
     ]
    }
   ],
   "source": [
    "print(re.compile(\".*(<.h1>)\").match(s).groups()) \n",
    "print(re.compile(\"(<.?h1>)\").findall(s))"
   ]
  },
  {
   "cell_type": "markdown",
   "id": "ff6980dd",
   "metadata": {},
   "source": [
    "Un exemple pour trouver des adresses emails : \n"
   ]
  },
  {
   "cell_type": "code",
   "execution_count": 7,
   "id": "5454e656",
   "metadata": {},
   "outputs": [],
   "source": [
    "text_emails = 'Hello from shubhamg199630@gmail.com to priya@yahoo.com about the meeting @2PM'"
   ]
  },
  {
   "cell_type": "code",
   "execution_count": 8,
   "id": "29f6ff04",
   "metadata": {},
   "outputs": [],
   "source": [
    "# \\S` désigne tout caractère différent d'un espace \n",
    "# `+` présence de l'ensemble de caractères qui précède entre 1 fois et l'infini\n",
    "liste_emails = re.findall('\\S+@\\S+', text_emails)     "
   ]
  },
  {
   "cell_type": "code",
   "execution_count": 9,
   "id": "96338422",
   "metadata": {},
   "outputs": [
    {
     "name": "stdout",
     "output_type": "stream",
     "text": [
      "['shubhamg199630@gmail.com', 'priya@yahoo.com']\n"
     ]
    }
   ],
   "source": [
    "print(liste_emails)"
   ]
  },
  {
   "cell_type": "markdown",
   "id": "24aeb9f4",
   "metadata": {},
   "source": [
    "## Exercices\n",
    "\n",
    "{{% box status=\"exercise\" title=\"Exercice\" icon=\"fas fa-pencil-alt\" %}}\n",
    "\n",
    "**Exercice 1: Application directe**\n",
    "\n",
    "Recherchez les dates présentes dans la phrase suivante.\n"
   ]
  },
  {
   "cell_type": "code",
   "execution_count": 10,
   "id": "b55aaf2e",
   "metadata": {},
   "outputs": [],
   "source": [
    "texte1 = \"\"\"Je suis né le 28/12/1903 et je suis mort le 08/02/1957. Ma seconde femme est morte le 10/11/1963. \n",
    "J'ai écrit un livre intitulé 'Comprendre les fractions : les exemples en page 12/46/83' \"\"\""
   ]
  },
  {
   "cell_type": "markdown",
   "id": "e327a0be",
   "metadata": {},
   "source": [
    "Puis dans celle-ci : \n"
   ]
  },
  {
   "cell_type": "code",
   "execution_count": 11,
   "id": "99517228",
   "metadata": {},
   "outputs": [],
   "source": [
    "texte2 = \"\"\"Je suis né le 28/12/1903 et je suis mort le 08/02/1957. Je me suis marié le 8/5/45. \n",
    "J'ai écrit un livre intitulé 'Comprendre les fractions : les exemples en page 12/46/83' \"\"\""
   ]
  },
  {
   "cell_type": "code",
   "execution_count": 12,
   "id": "eeb1ab09",
   "metadata": {},
   "outputs": [
    {
     "name": "stdout",
     "output_type": "stream",
     "text": [
      "['28/12/1903', '08/02/1957', '10/11/1963']\n",
      "['28/12/1903', '08/02/1957', '8/5/45']\n"
     ]
    }
   ],
   "source": [
    "# Correction\n",
    "import re\n",
    "expression = re.compile(\"([0-3]?[0-9]/[0-1]?[0-9]/[0-2]?[0-9]?[0-9][0-9])\")\n",
    "print(expression.findall(texte1))\n",
    "print(expression.findall(texte2))"
   ]
  },
  {
   "cell_type": "markdown",
   "id": "a6099bc3",
   "metadata": {},
   "source": [
    "{{% /box %}}\n",
    "\n",
    "\n",
    "{{% box status=\"exercise\" title=\"Exercice\" icon=\"fas fa-pencil-alt\" %}}\n",
    "\n",
    "**Exercice 2: Nettoyer une colonne de date de publication**\n",
    "\n",
    "L'objectif général de l'exercice est de nettoyer des colonnes d'un DataFrame en utilisant des expressions régulières.\n",
    "\n",
    "La base en question contient des livres de la British Library et quelques informations les concernant. Le jeu de données est disponible ici : https://raw.githubusercontent.com/realpython/python-data-cleaning/master/Datasets/BL-Flickr-Images-Book.csv\n",
    "\n",
    "La colonne \"Date de Publication\" n'est pas toujours une année, il y a parfois d'autres informations. Le but de l'exercice est d'avoir **une date de publication du livre propre** et de regarder la **distribution des années de publications**. \n",
    "\n",
    "Pour ce faire, vous pouvez :\n",
    "* Soit choisir de réaliser l'exercice sans aide. Votre **lecture de l'énoncé s'arrête donc ici**. Vous devez alors faire attention à bien regarder vous-même la base de données et la transformer avec attention. \n",
    "\n",
    "* Soit suivre les différentes étapes qui suivent pas à pas.\n"
   ]
  },
  {
   "cell_type": "code",
   "execution_count": 13,
   "id": "f5ae4bd8",
   "metadata": {},
   "outputs": [],
   "source": [
    "import pandas\n",
    "\n",
    "data_books = pandas.read_csv('https://raw.githubusercontent.com/realpython/python-data-cleaning/master/Datasets/BL-Flickr-Images-Book.csv',sep=',')"
   ]
  },
  {
   "cell_type": "code",
   "execution_count": 14,
   "id": "5937386c",
   "metadata": {},
   "outputs": [],
   "source": [
    "data_books=data_books[['Identifier', 'Place of Publication',\n",
    "       'Date of Publication', 'Publisher', 'Title', 'Author']]"
   ]
  },
  {
   "cell_type": "markdown",
   "id": "b508020a",
   "metadata": {},
   "source": [
    "En regardant la base, on réalise que cette colonne ne correspond pas toujours à une année, par exemple en lignes 13 et 16.\n"
   ]
  },
  {
   "cell_type": "code",
   "execution_count": 15,
   "id": "2515105d",
   "metadata": {},
   "outputs": [
    {
     "data": {
      "text/html": [
       "<div>\n",
       "<style scoped>\n",
       "    .dataframe tbody tr th:only-of-type {\n",
       "        vertical-align: middle;\n",
       "    }\n",
       "\n",
       "    .dataframe tbody tr th {\n",
       "        vertical-align: top;\n",
       "    }\n",
       "\n",
       "    .dataframe thead th {\n",
       "        text-align: right;\n",
       "    }\n",
       "</style>\n",
       "<table border=\"1\" class=\"dataframe\">\n",
       "  <thead>\n",
       "    <tr style=\"text-align: right;\">\n",
       "      <th></th>\n",
       "      <th>Date of Publication</th>\n",
       "      <th>Title</th>\n",
       "    </tr>\n",
       "  </thead>\n",
       "  <tbody>\n",
       "    <tr>\n",
       "      <th>13</th>\n",
       "      <td>1839, 38-54</td>\n",
       "      <td>De Aardbol. Magazijn van hedendaagsche land- e...</td>\n",
       "    </tr>\n",
       "    <tr>\n",
       "      <th>14</th>\n",
       "      <td>1897</td>\n",
       "      <td>Cronache Savonesi dal 1500 al 1570 ... Accresc...</td>\n",
       "    </tr>\n",
       "    <tr>\n",
       "      <th>15</th>\n",
       "      <td>1865</td>\n",
       "      <td>See-Saw; a novel ... Edited [or rather, writte...</td>\n",
       "    </tr>\n",
       "    <tr>\n",
       "      <th>16</th>\n",
       "      <td>1860-63</td>\n",
       "      <td>Géodésie d'une partie de la Haute Éthiopie,...</td>\n",
       "    </tr>\n",
       "    <tr>\n",
       "      <th>17</th>\n",
       "      <td>1873</td>\n",
       "      <td>[With eleven maps.]</td>\n",
       "    </tr>\n",
       "    <tr>\n",
       "      <th>18</th>\n",
       "      <td>1866</td>\n",
       "      <td>[Historia geográfica, civil y politica de la ...</td>\n",
       "    </tr>\n",
       "    <tr>\n",
       "      <th>19</th>\n",
       "      <td>1899</td>\n",
       "      <td>The Crisis of the Revolution, being the story ...</td>\n",
       "    </tr>\n",
       "  </tbody>\n",
       "</table>\n",
       "</div>"
      ],
      "text/plain": [
       "   Date of Publication                                              Title\n",
       "13         1839, 38-54  De Aardbol. Magazijn van hedendaagsche land- e...\n",
       "14                1897  Cronache Savonesi dal 1500 al 1570 ... Accresc...\n",
       "15                1865  See-Saw; a novel ... Edited [or rather, writte...\n",
       "16             1860-63  Géodésie d'une partie de la Haute Éthiopie,...\n",
       "17                1873                                [With eleven maps.]\n",
       "18                1866  [Historia geográfica, civil y politica de la ...\n",
       "19                1899  The Crisis of the Revolution, being the story ..."
      ]
     },
     "execution_count": 15,
     "metadata": {},
     "output_type": "execute_result"
    }
   ],
   "source": [
    "data_books[['Date of Publication',\"Title\"]].iloc[13:20]"
   ]
  },
  {
   "cell_type": "markdown",
   "id": "3e827fe7",
   "metadata": {},
   "source": [
    "1. Commencez par regarder le nombre d'informations manquantes. On ne pourra pas avoir mieux après la regex, et normalement on ne devrait pas avoir moins...\n"
   ]
  },
  {
   "cell_type": "code",
   "execution_count": 16,
   "id": "15f00a96",
   "metadata": {},
   "outputs": [
    {
     "data": {
      "text/plain": [
       "181"
      ]
     },
     "execution_count": 16,
     "metadata": {},
     "output_type": "execute_result"
    }
   ],
   "source": [
    "data_books['Date of Publication'].isna().sum()"
   ]
  },
  {
   "cell_type": "markdown",
   "id": "26352f97",
   "metadata": {},
   "source": [
    "2. Déterminer la forme de la regex pour une date de publication. A priori, il y a 4 chiffres qui forment une année.\n"
   ]
  },
  {
   "cell_type": "code",
   "execution_count": 17,
   "id": "fddaf93d",
   "metadata": {},
   "outputs": [],
   "source": [
    "import re\n",
    "expression = \"([0-2][0-9][0-9][0-9])\""
   ]
  },
  {
   "cell_type": "markdown",
   "id": "23645aa4",
   "metadata": {},
   "source": [
    "3. Quelles lignes sont changées quand on applique notre regex à la colonne qui nous intéresse avec la fonction `str.extract()` ?\n"
   ]
  },
  {
   "cell_type": "code",
   "execution_count": 18,
   "id": "7a0ad19d",
   "metadata": {},
   "outputs": [
    {
     "data": {
      "text/html": [
       "<div>\n",
       "<style scoped>\n",
       "    .dataframe tbody tr th:only-of-type {\n",
       "        vertical-align: middle;\n",
       "    }\n",
       "\n",
       "    .dataframe tbody tr th {\n",
       "        vertical-align: top;\n",
       "    }\n",
       "\n",
       "    .dataframe thead th {\n",
       "        text-align: right;\n",
       "    }\n",
       "</style>\n",
       "<table border=\"1\" class=\"dataframe\">\n",
       "  <thead>\n",
       "    <tr style=\"text-align: right;\">\n",
       "      <th></th>\n",
       "      <th>Date of Publication</th>\n",
       "      <th>Date of Publication 2</th>\n",
       "    </tr>\n",
       "  </thead>\n",
       "  <tbody>\n",
       "    <tr>\n",
       "      <th>0</th>\n",
       "      <td>1879 [1878]</td>\n",
       "      <td>1879</td>\n",
       "    </tr>\n",
       "    <tr>\n",
       "      <th>7</th>\n",
       "      <td>NaN</td>\n",
       "      <td>NaN</td>\n",
       "    </tr>\n",
       "    <tr>\n",
       "      <th>13</th>\n",
       "      <td>1839, 38-54</td>\n",
       "      <td>1839</td>\n",
       "    </tr>\n",
       "    <tr>\n",
       "      <th>16</th>\n",
       "      <td>1860-63</td>\n",
       "      <td>1860</td>\n",
       "    </tr>\n",
       "    <tr>\n",
       "      <th>23</th>\n",
       "      <td>1847, 48 [1846-48]</td>\n",
       "      <td>1847</td>\n",
       "    </tr>\n",
       "    <tr>\n",
       "      <th>...</th>\n",
       "      <td>...</td>\n",
       "      <td>...</td>\n",
       "    </tr>\n",
       "    <tr>\n",
       "      <th>8278</th>\n",
       "      <td>1883, [1884]</td>\n",
       "      <td>1883</td>\n",
       "    </tr>\n",
       "    <tr>\n",
       "      <th>8279</th>\n",
       "      <td>1898-1912</td>\n",
       "      <td>1898</td>\n",
       "    </tr>\n",
       "    <tr>\n",
       "      <th>8283</th>\n",
       "      <td>1831, 32</td>\n",
       "      <td>1831</td>\n",
       "    </tr>\n",
       "    <tr>\n",
       "      <th>8284</th>\n",
       "      <td>[1806]-22</td>\n",
       "      <td>1806</td>\n",
       "    </tr>\n",
       "    <tr>\n",
       "      <th>8286</th>\n",
       "      <td>1834-43</td>\n",
       "      <td>1834</td>\n",
       "    </tr>\n",
       "  </tbody>\n",
       "</table>\n",
       "<p>1759 rows × 2 columns</p>\n",
       "</div>"
      ],
      "text/plain": [
       "     Date of Publication Date of Publication 2\n",
       "0            1879 [1878]                  1879\n",
       "7                    NaN                   NaN\n",
       "13           1839, 38-54                  1839\n",
       "16               1860-63                  1860\n",
       "23    1847, 48 [1846-48]                  1847\n",
       "...                  ...                   ...\n",
       "8278        1883, [1884]                  1883\n",
       "8279           1898-1912                  1898\n",
       "8283            1831, 32                  1831\n",
       "8284           [1806]-22                  1806\n",
       "8286             1834-43                  1834\n",
       "\n",
       "[1759 rows x 2 columns]"
      ]
     },
     "execution_count": 18,
     "metadata": {},
     "output_type": "execute_result"
    }
   ],
   "source": [
    "data_books['Date of Publication 2'] = data_books['Date of Publication'].str.extract(expression, expand=False)\n",
    "data_books[~(data_books['Date of Publication'] == data_books['Date of Publication 2'])][['Date of Publication', 'Date of Publication 2']]"
   ]
  },
  {
   "cell_type": "markdown",
   "id": "b8a4d333",
   "metadata": {},
   "source": [
    "4. On a 2 `NaN` qui n'étaient pas présents au début de l'exercice. Quels sont-ils et pourquoi ? \n"
   ]
  },
  {
   "cell_type": "code",
   "execution_count": 19,
   "id": "6bb7ee9c",
   "metadata": {},
   "outputs": [
    {
     "data": {
      "text/html": [
       "<div>\n",
       "<style scoped>\n",
       "    .dataframe tbody tr th:only-of-type {\n",
       "        vertical-align: middle;\n",
       "    }\n",
       "\n",
       "    .dataframe tbody tr th {\n",
       "        vertical-align: top;\n",
       "    }\n",
       "\n",
       "    .dataframe thead th {\n",
       "        text-align: right;\n",
       "    }\n",
       "</style>\n",
       "<table border=\"1\" class=\"dataframe\">\n",
       "  <thead>\n",
       "    <tr style=\"text-align: right;\">\n",
       "      <th></th>\n",
       "      <th>Date of Publication</th>\n",
       "      <th>Date of Publication 2</th>\n",
       "    </tr>\n",
       "  </thead>\n",
       "  <tbody>\n",
       "    <tr>\n",
       "      <th>1081</th>\n",
       "      <td>112. G. &amp; W. B. Whittaker</td>\n",
       "      <td>NaN</td>\n",
       "    </tr>\n",
       "    <tr>\n",
       "      <th>7391</th>\n",
       "      <td>17 vols. University Press</td>\n",
       "      <td>NaN</td>\n",
       "    </tr>\n",
       "  </tbody>\n",
       "</table>\n",
       "</div>"
      ],
      "text/plain": [
       "            Date of Publication Date of Publication 2\n",
       "1081  112. G. & W. B. Whittaker                   NaN\n",
       "7391  17 vols. University Press                   NaN"
      ]
     },
     "execution_count": 19,
     "metadata": {},
     "output_type": "execute_result"
    }
   ],
   "source": [
    "# Il s'agit de lignes qui ne contenaient pas de chaînes de caractères qui ressemblaient à des années.\n",
    "data_books[~data_books['Date of Publication'].isna() & data_books['Date of Publication 2'].isna()][['Date of Publication', 'Date of Publication 2']]"
   ]
  },
  {
   "cell_type": "markdown",
   "id": "a91381c2",
   "metadata": {},
   "source": [
    "5. Quelle est la répartition des dates de publications dans le jeu de données ? Vous pouvez par exemple afficher un histogramme.\n"
   ]
  },
  {
   "cell_type": "code",
   "execution_count": 20,
   "id": "9736c3bb",
   "metadata": {},
   "outputs": [
    {
     "data": {
      "text/plain": [
       "<AxesSubplot:ylabel='Frequency'>"
      ]
     },
     "execution_count": 20,
     "metadata": {},
     "output_type": "execute_result"
    },
    {
     "data": {
      "image/png": "[encoded data removed]",
      "text/plain": [
       "<Figure size 432x288 with 1 Axes>"
      ]
     },
     "metadata": {
      "image/png": {
       "height": 248,
       "width": 395
      },
      "needs_background": "light"
     },
     "output_type": "display_data"
    }
   ],
   "source": [
    "pandas.to_numeric(data_books['Date of Publication 2'], downcast='integer').plot(kind =\"hist\")"
   ]
  },
  {
   "cell_type": "markdown",
   "id": "10829911",
   "metadata": {},
   "source": [
    "{{% /box %}}\n",
    "\n",
    "## Aller plus loin pour apprendre les regex\n",
    "\n",
    "- Le site [regex101](https://regex101.com/) permet de tester les expressions régulières utilisées tout en ayant une explication qui accompagne ce test\n",
    "\n",
    "- De même pour [ce site](https://ole.michelsen.dk/tools/regex/) qui comporte une cheat sheet en bas de la page. \n",
    "\n",
    "- Les jeux de [Regex Crossword](https://regexcrossword.com/) permettent d'apprendre les expressions régulières en s'amusant"
   ]
  }
 ],
 "metadata": {
  "kernelspec": {
   "display_name": "Python 3 (ipykernel)",
   "language": "python",
   "name": "python3"
  },
  "language_info": {
   "codemirror_mode": {
    "name": "ipython",
    "version": 3
   },
   "file_extension": ".py",
   "mimetype": "text/x-python",
   "name": "python",
   "nbconvert_exporter": "python",
   "pygments_lexer": "ipython3",
   "version": "3.9.12"
  }
 },
 "nbformat": 4,
 "nbformat_minor": 5
}
