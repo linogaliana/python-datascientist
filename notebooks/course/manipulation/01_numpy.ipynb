{
  "cells": [
    {
      "cell_type": "markdown",
      "metadata": {},
      "source": [
        "# Retour sur numpy\n",
        "\n",
        "Pour essayer les exemples présents dans ce tutoriel :"
      ],
      "id": "778c1b92-ce99-45d3-a555-840837cd6a3e"
    },
    {
      "cell_type": "raw",
      "metadata": {
        "raw_mimetype": "text/html"
      },
      "source": [
        "<p class=\"badges\">"
      ],
      "id": "169fc9e5-ddaf-4edc-9713-8111ddf18339"
    },
    {
      "cell_type": "markdown",
      "metadata": {},
      "source": [
        "<a href=\"https://github.com/linogaliana/python-datascientist/blob/master/notebooks/course/manipulation/01_numpy.ipynb\" class=\"github\"><i class=\"fab fa-github\"></i></a>\n",
        "<a href=\"https://downgit.github.io/#/home?url=https://github.com/linogaliana/python-datascientist/blob/master/notebooks/course/manipulation/01_numpy.ipynb\" target=\"_blank\" rel=\"noopener\"><img src=\"https://img.shields.io/badge/Download-Notebook-important?logo=Jupyter\" alt=\"Download\"></a>\n",
        "<a href=\"https://nbviewer.jupyter.org/github/linogaliana/python-datascientist/blob/master/notebooks/course/manipulation/01_numpy.ipynb\" target=\"_blank\" rel=\"noopener\"><img src=\"https://img.shields.io/badge/Visualize-nbviewer-blue?logo=Jupyter\" alt=\"nbviewer\"></a>\n",
        "<a href=\"https://datalab.sspcloud.fr/launcher/inseefrlab-helm-charts-datascience/jupyter?autoLaunch=true&onyxia.friendlyName=%C2%ABpython-datascience%C2%BB&init.personalInit=%C2%ABhttps%3A%2F%2Fraw.githubusercontent.com%2Flinogaliana%2Fpython-datascientist%2Fmaster%2Fsspcloud%2Finit-jupyter.sh%C2%BB&init.personalInitArgs=%C2%ABnotebooks/course/manipulation%2001_numpy.ipynb%C2%BB&security.allowlist.enabled=false\" target=\"_blank\" rel=\"noopener\"><img src=\"https://img.shields.io/badge/SSPcloud-Tester%20via%20SSP--cloud-informational&amp;color=yellow?logo=Python\" alt=\"Onyxia\"></a><br>\n",
        "<a href=\"https://mybinder.org/v2/gh/linogaliana/python-datascientist/master?filepath={binder_path}\" target=\"_blank\" rel=\"noopener\"><img src=\"https://img.shields.io/badge/Launch-Binder-E66581.svg?logo=data:image/png;base64,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\" alt=\"Binder\"></a>\n",
        "<a href=\"http://colab.research.google.com/github/linogaliana/python-datascientist/blob/master/notebooks/course/manipulation/01_numpy.ipynb\" target=\"_blank\" rel=\"noopener\"><img src=\"https://colab.research.google.com/assets/colab-badge.svg\" alt=\"Open In Colab\"></a>\n",
        "<a href=\"https://github.dev/linogaliana/python-datascientist/notebooks/course/manipulation/01_numpy.ipynb\" target=\"_blank\" rel=\"noopener\"><img src=\"https://img.shields.io/static/v1?logo=visualstudiocode&label=&message=Open%20in%20Visual%20Studio%20Code&labelColor=2c2c32&color=007acc&logoColor=007acc\" alt=\"githubdev\"></a>"
      ],
      "id": "f6238af3-1b05-4635-bb1c-add633df3fb6"
    },
    {
      "cell_type": "raw",
      "metadata": {
        "raw_mimetype": "text/html"
      },
      "source": [
        "</p>"
      ],
      "id": "2d8a0985-3d1c-467b-9662-a38a61c55597"
    },
    {
      "cell_type": "raw",
      "metadata": {
        "raw_mimetype": "text/html"
      },
      "source": [
        "</p>"
      ],
      "id": "0e1aa951-1dc3-4f16-bf6a-73d71dc39df7"
    },
    {
      "cell_type": "markdown",
      "metadata": {},
      "source": [
        "Il est recommandé de régulièrement se référer à\n",
        "la [cheatsheet numpy](https://www.datacamp.com/community/blog/python-numpy-cheat-sheet) et à la\n",
        "[doc officielle](https://numpy.org/doc/stable/) en cas de doute\n",
        "sur une fonction.\n",
        "\n",
        "Dans ce chapitre, on ne dérogera pas à la convention qui s’est imposée\n",
        "d’importer `numpy` de la\n",
        "manière suivante:"
      ],
      "id": "7805099a-c016-4b54-9f5e-cddfda404113"
    },
    {
      "cell_type": "code",
      "execution_count": 2,
      "metadata": {},
      "outputs": [],
      "source": [
        "import numpy as np"
      ],
      "id": "99fc5c63-097a-44ba-a872-454443f4c389"
    },
    {
      "cell_type": "markdown",
      "metadata": {},
      "source": [
        "Si les scripts suivants sont exécutés dans un `notebook`, il est recommandé d’utiliser les paramètres suivants\n",
        "pour contrôler le rendu\n",
        "\n",
        "``` python\n",
        "from IPython.core.interactiveshell import InteractiveShell\n",
        "InteractiveShell.ast_node_interactivity = \"all\"\n",
        "```\n",
        "\n",
        "## Le concept d’array\n",
        "\n",
        "Le concept central de `NumPy` (`Numerical Python`) est\n",
        "l’**`array`** qui est un tableau de données multidimensionnel.\n",
        "\n",
        "L’array numpy peut être unidimensionnel et s’apparenter à un vecteur (1d-array),\n",
        "bidimensionnel et ainsi s’apparenter à une matrice (2d-array) ou, de manière plus générale,\n",
        "prendre la forme d’un objet\n",
        "multidimensionnel (Nd-array).\n",
        "\n",
        "Les tableaux simples (uni ou bi-dimensionnels) sont faciles à se représenter et seront particulièrement\n",
        "utilisés dans le paradigme des DataFrames mais\n",
        "la possibilité d’avoir des objets multidimensionnels permettra d’exploiter des\n",
        "structures très complexes.\n",
        "\n",
        "Un DataFrame sera construit à partir d’une collection\n",
        "d’array uni-dimensionnels (les variables de la table), ce qui permettra d’effectuer des opérations cohérentes\n",
        "(et optimisées) avec le type de la variable.\n",
        "\n",
        "Par rapport à une liste,\n",
        "\n",
        "-   un *array* ne peut contenir qu’un type de données (`integer`, `string`, etc.),\n",
        "    contrairement à une liste.\n",
        "-   les opérations implémentées par `numpy` seront plus efficaces et demanderont moins\n",
        "    de mémoire\n",
        "\n",
        "Les données géographiques constitueront une construction un peu plus complexe qu’un `DataFrame` traditionnel.\n",
        "La dimension géographique prend la forme d’un tableau plus profond, au moins bidimensionnel\n",
        "(coordonnées d’un point).\n",
        "\n",
        "## Créer un array\n",
        "\n",
        "On peut créer un `array` de plusieurs manières. Pour créer un `array` à partir d’une liste,\n",
        "il suffit d’utiliser la méthode `array`:"
      ],
      "id": "7e6813d7-e24f-4c9d-8d2a-fb8f11194604"
    },
    {
      "cell_type": "code",
      "execution_count": 3,
      "metadata": {},
      "outputs": [
        {
          "output_type": "display_data",
          "metadata": {},
          "data": {
            "text/plain": [
              "array([1, 2, 5])"
            ]
          }
        }
      ],
      "source": [
        "np.array([1,2,5])"
      ],
      "id": "7de63f8b-e44d-4c4f-b22c-b7669fd8a052"
    },
    {
      "cell_type": "markdown",
      "metadata": {},
      "source": [
        "Il est possible d’ajouter un argument `dtype` pour contraindre le type du *array*:"
      ],
      "id": "433de6c7-8e74-44ab-9f39-eb3303b30c67"
    },
    {
      "cell_type": "code",
      "execution_count": 4,
      "metadata": {},
      "outputs": [
        {
          "output_type": "display_data",
          "metadata": {},
          "data": {
            "text/plain": [
              "array([list(['a', 'z', 'e']), list(['r', 't']), list(['y'])], dtype=object)"
            ]
          }
        }
      ],
      "source": [
        "np.array([[\"a\",\"z\",\"e\"],[\"r\",\"t\"],[\"y\"]], dtype=\"object\")"
      ],
      "id": "db88b2a3-6f50-4f98-a6a0-3cb2848ff70a"
    },
    {
      "cell_type": "markdown",
      "metadata": {},
      "source": [
        "Il existe aussi des méthodes pratiques pour créer des array:\n",
        "\n",
        "-   séquences logiques : `np.arange` (suite) ou `np.linspace` (interpolation linéaire entre deux bornes)\n",
        "-   séquences ordonnées: *array* rempli de zéros, de 1 ou d’un nombre désiré : `np.zeros`, `np.ones` ou `np.full`\n",
        "-   séquences aléatoires: fonctions de génération de nombres aléatoires: `np.rand.uniform`, `np.rand.normal`, etc.\n",
        "-   tableau sous forme de matrice identité: `np.eye`"
      ],
      "id": "2a5e996f-5006-4ded-a0d1-7f06b896ec56"
    },
    {
      "cell_type": "code",
      "execution_count": 5,
      "metadata": {},
      "outputs": [
        {
          "output_type": "display_data",
          "metadata": {},
          "data": {
            "text/plain": [
              "array([[1., 0., 0.],\n",
              "       [0., 1., 0.],\n",
              "       [0., 0., 1.]])"
            ]
          }
        }
      ],
      "source": [
        "np.arange(0,10)\n",
        "np.arange(0,10,3)\n",
        "np.linspace(0, 1, 5)\n",
        "np.zeros(10, dtype=int)\n",
        "np.ones((3, 5), dtype=float)\n",
        "np.full((3, 5), 3.14)\n",
        "np.eye(3)"
      ],
      "id": "ffb9d618-7b3d-40cf-8e40-d4c9b34820dd"
    },
    {
      "cell_type": "markdown",
      "metadata": {},
      "source": [
        "{{% box status=“exercise” title=“Exercise 1” icon=“fas fa-pencil-alt” %}}\n",
        "\n",
        "Générer:\n",
        "\n",
        "-   $X$ une variable aléatoire, 1000 répétitions d’une loi $U(0,1)$\n",
        "-   $Y$ une variable aléatoire, 1000 répétitions d’une loi normale de moyenne nulle et de variance égale à 2\n",
        "-   Vérifier la variance de $Y$ avec `np.var`\n",
        "\n",
        "{{% /box %}}\n",
        "\n",
        "## Indexation et slicing\n",
        "\n",
        "### Logique dans le cas d’un array unidimensionnel\n",
        "\n",
        "La structure la plus simple imaginable est l’array unidimensionnel:"
      ],
      "id": "206ac4cd-fb88-4f38-8bad-e3141e2c7e4d"
    },
    {
      "cell_type": "code",
      "execution_count": 7,
      "metadata": {},
      "outputs": [
        {
          "output_type": "stream",
          "name": "stdout",
          "text": [
            "[0 1 2 3 4 5 6 7 8 9]"
          ]
        }
      ],
      "source": [
        "x = np.arange(10)\n",
        "print(x)"
      ],
      "id": "4dc07406-8243-4cd8-9d6d-25f3a1cd954b"
    },
    {
      "cell_type": "markdown",
      "metadata": {},
      "source": [
        "L’indexation est dans ce cas similaire à celle d’une liste:\n",
        "\n",
        "-   le premier élément est 0\n",
        "-   le énième élément est accessible à la position $n-1$\n",
        "\n",
        "La logique d’accès aux éléments est ainsi la suivante:\n",
        "\n",
        "``` python\n",
        "x[start:stop:step]\n",
        "```\n",
        "\n",
        "Avec un *array* unidimensionnel, l’opération de *slicing* (garder une coupe du *array*) est très simple.\n",
        "Par exemple, pour garder les *K* premiers éléments d’un *array*, on fera:\n",
        "\n",
        "``` python\n",
        "x[:(K-1)]\n",
        "```\n",
        "\n",
        "En l’occurrence, on sélectionne le K$^{eme}$ élément en utilisant\n",
        "\n",
        "``` python\n",
        "x[K-1]\n",
        "```\n",
        "\n",
        "Pour sélectionner uniquement un élément, on fera ainsi:"
      ],
      "id": "eb679066-962f-411a-a8ef-6b05c4d87d41"
    },
    {
      "cell_type": "code",
      "execution_count": 8,
      "metadata": {},
      "outputs": [
        {
          "output_type": "display_data",
          "metadata": {},
          "data": {
            "text/plain": [
              "2"
            ]
          }
        }
      ],
      "source": [
        "x = np.arange(10)\n",
        "x[2]"
      ],
      "id": "fdf1552e-676c-487a-832d-6473217c0dac"
    },
    {
      "cell_type": "markdown",
      "metadata": {},
      "source": [
        "Les syntaxes qui permettent de sélectionner des indices particuliers d’une liste fonctionnent également\n",
        "avec les arrays.\n",
        "\n",
        "{{% box status=“exercise” title=“Exercise 2” icon=“fas fa-pencil-alt” %}}\n",
        "\n",
        "-   Sélectionner les éléments 0,3,5\n",
        "-   Sélectionner les éléments pairs\n",
        "-   Sélectionner tous les éléments sauf le premier\n",
        "-   Sélectionner les 5 premiers éléments\n",
        "\n",
        "{{% /box %}}\n",
        "\n",
        "### Sur la performance\n",
        "\n",
        "Un élément déterminant dans la performance de `numpy` par rapport aux listes, lorsqu’il est question de\n",
        "*slicing* est qu’un array ne renvoie pas une\n",
        "copie de l’élément en question (copie qui coûte de la mémoire et du temps) mais simplement une vue de celui-ci.\n",
        "\n",
        "Lorsqu’il est nécessaire d’effectuer une copie, par exemple pour ne pas altérer l’array sous-jacent, on peut\n",
        "utiliser la méthode `copy`:\n",
        "\n",
        "``` python\n",
        "x_sub_copy = x[:2, :2].copy()\n",
        "```\n",
        "\n",
        "------------------------------------------------------------------------\n",
        "\n",
        "### Filtres logiques\n",
        "\n",
        "Il est également possible, et plus pratique, de sélectionner des données à partir de conditions logiques\n",
        "(opération qu’on appelle un *boolean mask*)\n",
        "Cette fonctionalité servira principalement à\n",
        "effectuer des opérations de filtre sur les données.\n",
        "\n",
        "Pour des opérations de comparaison simples, les comparateurs logiques peuvent être suffisants.\n",
        "Ces comparaisons fonctionnent aussi sur les tableaux multidimensionnels grâce au\n",
        "*broadcasting* sur lequel nous reviendrons :\n",
        "\n",
        "``` python\n",
        "x = np.arange(10)\n",
        "x2 = np.array([[-1,1,-2],[-3,2,0]])\n",
        "print(x)\n",
        "print(x2)\n",
        "```\n",
        "\n",
        "``` python\n",
        "x==2\n",
        "x2<0\n",
        "```\n",
        "\n",
        "Pour sélectionner les observations relatives à la condition logique,\n",
        "il suffit d’utiliser la logique de *slicing* de `numpy` qui fonctionne avec les conditions logiques\n",
        "\n",
        "{{% box status=“exercise” title=“Exercise 3” icon=“fas fa-pencil-alt” %}}\n",
        "\n",
        "Soit"
      ],
      "id": "91ac9995-cff6-4574-b243-0aa9c6696bb5"
    },
    {
      "cell_type": "code",
      "execution_count": 10,
      "metadata": {},
      "outputs": [],
      "source": [
        "x = np.random.normal(size=10000)"
      ],
      "id": "b4bbff0d-bc11-4e35-8e8a-60f608a0d1f4"
    },
    {
      "cell_type": "markdown",
      "metadata": {},
      "source": [
        "1.  Ne conserver que les valeurs dont la valeur absolue est supérieure à 1.96\n",
        "2.  Compter le nombre de valeurs supérieures à 1.96 en valeur absolue et leur proportion dans l’ensemble\n",
        "3.  Sommer les valeurs absolues de toutes les observations supérieures (en valeur absolue) à 1.96\n",
        "    et rapportez les à la somme des valeurs de `x` (en valeur absolue)\n",
        "\n",
        "{{% /box %}}\n",
        "\n",
        "Lorsque c’est possible, il est recommandé d’utiliser les fonctions logiques de `numpy` (optimisées et\n",
        "qui gèrent bien la dimension). Parmi elles, on peut retrouver:\n",
        "\n",
        "-   `count_nonzero`\n",
        "-   `isnan`\n",
        "-   `any` ; `all` ; notamment avec l’argument `axis`\n",
        "-   `np.array_equal` pour vérifier, élément par élément, l’égalité\n",
        "\n",
        "{{% box status=“exercise” title=“Exercise 4” icon=“fas fa-pencil-alt” %}}\n",
        "\n",
        "Soit"
      ],
      "id": "04a10507-0fcb-4c25-a61d-cf5a63e12462"
    },
    {
      "cell_type": "code",
      "execution_count": 12,
      "metadata": {},
      "outputs": [],
      "source": [
        "x = np.random.normal(0, size=(3, 4))"
      ],
      "id": "b42afee2-ea1a-4766-a6d5-5abbf9f17d6f"
    },
    {
      "cell_type": "markdown",
      "metadata": {},
      "source": [
        "un *array* multidimensionnel et"
      ],
      "id": "2fc30f03-8a0c-4b67-98f6-d11c5067c92c"
    },
    {
      "cell_type": "code",
      "execution_count": 13,
      "metadata": {},
      "outputs": [],
      "source": [
        "y = np.array([np.nan, 0, 1])"
      ],
      "id": "aee6f88a-7a28-4236-9508-de735ffd79c0"
    },
    {
      "cell_type": "markdown",
      "metadata": {},
      "source": [
        "un *array* unidimensionnel présentant une valeur manquante.\n",
        "\n",
        "1.  Utiliser `count_nonzero` sur `y`\n",
        "2.  Utiliser `isnan` sur `y` et compter le nombre de valeurs non NaN\n",
        "3.  Vérifier que `x` comporte au moins une valeur positive dans son ensemble, en parcourant les lignes puis les colonnes.\n",
        "\n",
        "Note : Jetez un oeil à ce que correspond le paramètre `axis` dans `numpy` en vous documentant sur internet. Par exemple [ici](https://www.sharpsightlabs.com/blog/numpy-axes-explained/).\n",
        "\n",
        "{{% /box %}}\n",
        "\n",
        "## Manipuler un array\n",
        "\n",
        "Dans cette section, on utilisera un array multidimensionnel:"
      ],
      "id": "6394f1a1-5261-40f6-906b-2605821ab739"
    },
    {
      "cell_type": "code",
      "execution_count": 15,
      "metadata": {},
      "outputs": [],
      "source": [
        "x = np.random.normal(0, size=(3, 4))"
      ],
      "id": "cce42271-19b8-495c-b5cc-3bee7cf511ba"
    },
    {
      "cell_type": "markdown",
      "metadata": {},
      "source": [
        "### Statistiques sur un array\n",
        "\n",
        "Pour les statistiques descriptives classiques, `numpy` propose un certain nombre de fonctions déjà implémentées,\n",
        "qui peuvent être combinées avec l’argument `axis`\n",
        "\n",
        "{{% box status=“exercise” title=“Exercise 5” icon=“fas fa-pencil-alt” %}}\n",
        "\n",
        "1.  Faire la somme de tous les éléments d’un `array`, des éléments en ligne et des éléments en colonne. Vérifier\n",
        "    la cohérence\n",
        "2.  Ecrire une fonction `statdesc` pour renvoyer les valeurs suivantes : moyenne, médiane, écart-type, minimum et maximum.\n",
        "    L’appliquer sur `x` en jouant avec l’argument axis\n",
        "\n",
        "{{% /box %}}\n",
        "\n",
        "### Fonctions de manipulation\n",
        "\n",
        "Voici quelques fonctions pour modifier un array,\n",
        "\n",
        "| Opération                                                      | Implémentation                                  |\n",
        "|------------------------------|------------------------------------------|\n",
        "| Applatir un array                                              | `x.flatten()` (méthode)                         |\n",
        "| Transposer un array                                            | `x.T` (méthode) ou `np.transpose(x)` (fonction) |\n",
        "| Ajouter des éléments à la fin                                  | `np.append(x, [1,2])`                           |\n",
        "| Ajouter des éléments à un endroit donné (aux positions 1 et 2) | `np.insert(x, [1,2], 3)`                        |\n",
        "| Supprimer des éléments (aux positions 0 et 3)                  | `np.delete(x, [0,3])`                           |\n",
        "\n",
        "Pour combiner des array, on peut utiliser, selon les cas,\n",
        "les fonctions `np.concatenate`, `np.vstack` ou la méthode `.r_` (concaténation *rowwise*).\n",
        "`np.hstack` ou la méthode `.column_stack` ou `.c_` (concaténation *column-wise*)"
      ],
      "id": "10e782b3-58e9-4eba-807e-ddb66397de15"
    },
    {
      "cell_type": "code",
      "execution_count": 18,
      "metadata": {},
      "outputs": [],
      "source": [
        "x = np.random.normal(size = 10)"
      ],
      "id": "edacd6bc-0ec7-4571-a46b-349f158f2a10"
    },
    {
      "cell_type": "markdown",
      "metadata": {},
      "source": [
        "Pour ordonner un array, on utilise `np.sort`"
      ],
      "id": "d690dcb7-985c-475c-bba8-944857515dcd"
    },
    {
      "cell_type": "code",
      "execution_count": 19,
      "metadata": {},
      "outputs": [
        {
          "output_type": "display_data",
          "metadata": {},
          "data": {
            "text/plain": [
              "array([1, 2, 3, 4, 5, 6, 7])"
            ]
          }
        }
      ],
      "source": [
        "x = np.array([7, 2, 3, 1, 6, 5, 4])\n",
        "\n",
        "np.sort(x)"
      ],
      "id": "daacf095-5dca-480b-a6f9-cdbd23e429a0"
    },
    {
      "cell_type": "markdown",
      "metadata": {},
      "source": [
        "Si on désire faire un ré-ordonnement partiel pour trouver les *k* valeurs les plus petites d’un `array` sans les ordonner, on utilise `partition`:"
      ],
      "id": "c2821fd2-93fc-4c6f-b576-1f7c20cc1ca1"
    },
    {
      "cell_type": "code",
      "execution_count": 20,
      "metadata": {},
      "outputs": [
        {
          "output_type": "display_data",
          "metadata": {},
          "data": {
            "text/plain": [
              "array([2, 1, 3, 4, 6, 5, 7])"
            ]
          }
        }
      ],
      "source": [
        "np.partition(x, 3)"
      ],
      "id": "e78c8668-0504-444e-bad6-ea18cd20c493"
    },
    {
      "cell_type": "markdown",
      "metadata": {},
      "source": [
        "## Broadcasting\n",
        "\n",
        "Le *broadcasting* désigne un ensemble de règles permettant\n",
        "d’appliquer des opérations sur des tableaux de dimensions différentes. En pratique,\n",
        "cela consiste généralement à appliquer une seule opération à l’ensemble des membres d’un tableau `numpy`.\n",
        "\n",
        "La différence peut être comprise à partir de l’exemple suivant. Le *broadcasting* permet\n",
        "de transformer le scalaire `5` en *array* de dimension 3:"
      ],
      "id": "4aef72f7-7f8d-4315-924c-0ea31e25fe03"
    },
    {
      "cell_type": "code",
      "execution_count": 21,
      "metadata": {},
      "outputs": [
        {
          "output_type": "display_data",
          "metadata": {},
          "data": {
            "text/plain": [
              "array([5, 6, 7])"
            ]
          }
        }
      ],
      "source": [
        "a = np.array([0, 1, 2])\n",
        "\n",
        "b = np.array([5, 5, 5])\n",
        "\n",
        "a + b\n",
        "a + 5"
      ],
      "id": "0a48255e-3b9a-461f-992d-73972df321f0"
    },
    {
      "cell_type": "markdown",
      "metadata": {},
      "source": [
        "Le *broadcasting* peut être très pratique pour effectuer de manière efficace des opérations sur des données à\n",
        "la structure complexe. Pour plus de détails, se rendre\n",
        "[ici](https://jakevdp.github.io/PythonDataScienceHandbook/02.05-computation-on-arrays-broadcasting.html) ou [ici](https://stackoverflow.com/questions/47435526/what-is-the-meaning-of-axis-1-in-keras-argmax).\n",
        "\n",
        "## Une application: programmer ses propres k-nearest neighbors"
      ],
      "id": "7f2f3154-6f11-4fed-a25e-8db68de941ac"
    },
    {
      "cell_type": "raw",
      "metadata": {
        "raw_mimetype": "text/html"
      },
      "source": [
        "<!----\n",
        "L'idée de cet exercice vient de\n",
        "[là](https://jakevdp.github.io/PythonDataScienceHandbook/02.08-sorting.html#Example:-k-Nearest-Neighbors). \n",
        "------>"
      ],
      "id": "8d7ce152-7aef-4619-be4f-3325672026a8"
    },
    {
      "cell_type": "markdown",
      "metadata": {},
      "source": [
        "{{% box status=“exercise” title=“Exercise (un peu corsé)” icon=“fas fa-pencil-alt” %}}\n",
        "\n",
        "1.  Créer `X` un tableau à deux dimensions (i.e. une matrice) comportant 10 lignes\n",
        "    et 2 colonnes. Les nombres dans le tableau sont aléatoires.\n",
        "2.  Importer le module `matplotlib.pyplot` sous le nom `plt`. Utiliser\n",
        "    `plt.scatter` pour représenter les données sous forme de nuage de points.\n",
        "3.  Constuire une matrice 10x10 stockant, à l’élément $(i,j)$, la distance euclidienne entre les points $X[i,]$ et $X[j,]$. Pour cela, il va falloir jouer avec les dimensions en créant des tableaux emboîtés à partir par des appels à `np.newaxis` :\n",
        "\n",
        "-   En premier lieu, utiliser `X1 = X[:, np.newaxis, :]` pour transformer la matrice en tableau emboîté. Vérifier les dimensions\n",
        "-   Créer `X2` de dimension `(1, 10, 2)` à partir de la même logique\n",
        "-   En déduire, pour chaque point, la distance avec les autres points pour chaque coordonnées. Elever celle-ci au carré\n",
        "-   A ce stade, vous devriez avoir un tableau de dimension `(10, 10, 2)`. La réduction à une matrice s’obtient en sommant sur le dernier axe. Regarder dans l’aide de `np.sum` comme effectuer une somme sur le dernier axe.\n",
        "-   Enfin, appliquer la racine carrée pour obtenir une distance euclidienne en bonne et due forme.\n",
        "\n",
        "1.  Vérifier que les termes diagonaux sont bien nuls (distance d’un point à lui-même…)\n",
        "2.  Il s’agit maintenant de classer, pour chaque point, les points dont les valeurs sont les plus similaires. Utiliser `np.argsort` pour obtenir, pour chaque ligne, le classement des points les plus proches\n",
        "3.  On va s’intéresser aux k-plus proches voisins. Pour le moment, fixons k=2. Utiliser `argpartition` pour réordonner chaque ligne de manière à avoir les 2 plus proches voisins de chaque point d’abord et le reste de la ligne ensuite\n",
        "4.  Utiliser le morceau de code ci-dessous\n",
        "\n",
        "``` python\n",
        "plt.scatter(X[:, 0], X[:, 1], s=100)\n",
        "\n",
        "# draw lines from each point to its two nearest neighbors\n",
        "K = 2\n",
        "\n",
        "for i in range(X.shape[0]):\n",
        "    for j in nearest_partition[i, :K+1]:\n",
        "        # plot a line from X[i] to X[j]\n",
        "        # use some zip magic to make it happen:\n",
        "        plt.plot(*zip(X[j], X[i]), color='black')\n",
        "```\n",
        "\n",
        "pour représenter graphiquement le réseau de plus proches voisins\n",
        "\n",
        "{{% /box %}}\n",
        "\n",
        "Pour la question 2, vous devriez obtenir un graphique ayant cet aspect :\n",
        "\n",
        "![](attachment:scatter_numpy.png)\n",
        "\n",
        "Le résultat de la question 7 est le suivant:\n",
        "\n",
        "![](attachment:knn.png)\n",
        "\n",
        "Ai-je inventé cet exercice corsé ? Pas du tout, il [vient de là](https://jakevdp.github.io/PythonDataScienceHandbook/02.08-sorting.html#Example:-k-Nearest-Neighbors). Mais, si je vous l’avais indiqué immédiatement, auriez-vous cherché à répondre aux questions ?\n",
        "\n",
        "Par ailleurs, il ne serait pas une bonne idée de généraliser cet algorithme à de grosses données. La complexité de notre approche est $O(N^2)$. L’algorithme implémenté par Scikit-learn est\n",
        "en $O[NlogN]$.\n",
        "\n",
        "De plus, le calcul de distances matricielles en utilisant la puissance des cartes graphiques serait plus rapide. A cet égard, la librairie [faiss](https://github.com/facebookresearch/faiss) offre des performances beaucoup plus satisfaisantes que celles que permettraient `numpy` sur ce problème précis."
      ],
      "attachments": {
        "knn.png": {
          "image/png": "[encoded data removed]"
        },
        "scatter_numpy.png": {
          "image/png": "[encoded data removed]"
        }
      },
      "id": "1e0e137d-3f5d-48a7-8234-5d0518867f3e"
    },
    {
      "cell_type": "raw",
      "metadata": {
        "raw_mimetype": "text/html"
      },
      "source": [
        "<!-----\n",
        "## Restructuration, concaténation et division\n",
        "\n",
        "* Pour restructurer un `array`, c'est-à-dire changer ses dimensions, le plus simple est d'utiliser la méthode `reshape`. Par exemple, pour \n",
        "\n",
        "np.reshape\n",
        "np.concatenate\n",
        "np.split, np.hsplit, and np.vsplit\n",
        "----->"
      ],
      "id": "b3406890-b0ef-4876-a763-b6aaff88e73c"
    },
    {
      "cell_type": "markdown",
      "metadata": {},
      "source": [
        "## Exercices supplémentaires\n",
        "\n",
        "-   Simulations de variables aléatoires ;\n",
        "-   TCL ;\n",
        "-   Pagerank"
      ],
      "id": "ff79527a-deca-4e0f-9943-614a909b9d10"
    },
    {
      "cell_type": "code",
      "execution_count": 25,
      "metadata": {},
      "outputs": [],
      "source": [
        "\"\"\"PageRank algorithm with explicit number of iterations.\n",
        "\n",
        "Returns\n",
        "-------\n",
        "ranking of nodes (pages) in the adjacency matrix\n",
        "\n",
        "\"\"\"\n",
        "\n",
        "import numpy as np\n",
        "\n",
        "def pagerank(M, num_iterations: int = 100, d: float = 0.85):\n",
        "    \"\"\"PageRank: The trillion dollar algorithm.\n",
        "\n",
        "    Parameters\n",
        "    ----------\n",
        "    M : numpy array\n",
        "        adjacency matrix where M_i,j represents the link from 'j' to 'i', such that for all 'j'\n",
        "        sum(i, M_i,j) = 1\n",
        "    num_iterations : int, optional\n",
        "        number of iterations, by default 100\n",
        "    d : float, optional\n",
        "        damping factor, by default 0.85\n",
        "\n",
        "    Returns\n",
        "    -------\n",
        "    numpy array\n",
        "        a vector of ranks such that v_i is the i-th rank from [0, 1],\n",
        "        v sums to 1\n",
        "\n",
        "    \"\"\"\n",
        "    N = M.shape[1]\n",
        "    v = np.random.rand(N, 1)\n",
        "    v = v / np.linalg.norm(v, 1)\n",
        "    M_hat = (d * M + (1 - d) / N)\n",
        "    for i in range(num_iterations):\n",
        "        v = M_hat @ v\n",
        "    return v\n",
        "\n",
        "M = np.array([[0, 0, 0, 0, 1],\n",
        "              [0.5, 0, 0, 0, 0],\n",
        "              [0.5, 0, 0, 0, 0],\n",
        "              [0, 1, 0.5, 0, 0],\n",
        "              [0, 0, 0.5, 1, 0]])\n",
        "v = pagerank(M, 100, 0.85)"
      ],
      "id": "a31786d2-d386-4125-9f84-f849e86b3ca1"
    }
  ],
  "nbformat": 4,
  "nbformat_minor": 5,
  "metadata": {
    "kernelspec": {
      "name": "python3",
      "display_name": "Python 3 (ipykernel)",
      "language": "python"
    },
    "language_info": {
      "name": "python",
      "codemirror_mode": {
        "name": "ipython",
        "version": "3"
      },
      "file_extension": ".py",
      "mimetype": "text/x-python",
      "nbconvert_exporter": "python",
      "pygments_lexer": "ipython3",
      "version": "3.9.13"
    }
  }
}