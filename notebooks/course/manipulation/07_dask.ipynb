{
  "cells": [
    {
      "cell_type": "markdown",
      "metadata": {},
      "source": [
        "# Introduction à dask grâce aux données DVF\n",
        "\n",
        "Pour essayer les exemples présents dans ce tutoriel :"
      ],
      "id": "7afde8d3-6252-4616-89c8-c07e17060473"
    },
    {
      "cell_type": "markdown",
      "metadata": {},
      "source": [
        "<p class=\"badges\">\n",
        "\n",
        "<a href=\"https://github.com/linogaliana/python-datascientist/blob/master/notebooks/course/manipulation/07_dask.ipynb\" class=\"github\"><i class=\"fab fa-github\"></i></a>\n",
        "<a href=\"https://downgit.github.io/#/home?url=https://github.com/linogaliana/python-datascientist/blob/master/notebooks/course/manipulation/07_dask.ipynb\" target=\"_blank\" rel=\"noopener\"><img src=\"https://img.shields.io/badge/Download-Notebook-important?logo=Jupyter\" alt=\"Download\"></a>\n",
        "<a href=\"https://nbviewer.jupyter.org/github/linogaliana/python-datascientist/blob/master/notebooks/course/manipulation/07_dask.ipynb\" target=\"_blank\" rel=\"noopener\"><img src=\"https://img.shields.io/badge/Visualize-nbviewer-blue?logo=Jupyter\" alt=\"nbviewer\"></a>\n",
        "<a href=\"https://datalab.sspcloud.fr/launcher/inseefrlab-helm-charts-datascience/jupyter?autoLaunch=true&onyxia.friendlyName=%C2%ABpython-datascience%C2%BB&init.personalInit=%C2%ABhttps%3A%2F%2Fraw.githubusercontent.com%2Flinogaliana%2Fpython-datascientist%2Fmaster%2Fsspcloud%2Finit-jupyter.sh%C2%BB&init.personalInitArgs=%C2%ABnotebooks/course/manipulation/07_dask.ipynb%C2%BB&security.allowlist.enabled=false\" target=\"_blank\" rel=\"noopener\"><img src=\"https://img.shields.io/badge/SSPcloud-Tester%20via%20SSP--cloud-informational&amp;color=yellow?logo=Python\" alt=\"Onyxia\"></a><br>\n",
        "<a href=\"https://mybinder.org/v2/gh/linogaliana/python-datascientist/master?filepath={binder_path}\" target=\"_blank\" rel=\"noopener\"><img src=\"https://img.shields.io/badge/Launch-Binder-E66581.svg?logo=data:image/png;base64,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\" alt=\"Binder\"></a>\n",
        "<a href=\"http://colab.research.google.com/github/linogaliana/python-datascientist/blob/master/notebooks/course/manipulation/07_dask.ipynb\" target=\"_blank\" rel=\"noopener\"><img src=\"https://colab.research.google.com/assets/colab-badge.svg\" alt=\"Open In Colab\"></a>\n",
        "<a href=\"https://github.dev/linogaliana/python-datascientist/notebooks/course/manipulation/07_dask.ipynb\" target=\"_blank\" rel=\"noopener\"><img src=\"https://img.shields.io/static/v1?logo=visualstudiocode&label=&message=Open%20in%20Visual%20Studio%20Code&labelColor=2c2c32&color=007acc&logoColor=007acc\" alt=\"githubdev\"></a>\n",
        "\n",
        "</p>\n",
        "\n",
        "</p>"
      ],
      "id": "374551cc-0609-410c-8937-a5f50996c523"
    },
    {
      "cell_type": "markdown",
      "metadata": {},
      "source": [
        "La documentation complète sur `Dask` se trouve sur <https://docs.dask.org/>.\n",
        "\n",
        "Le projet requiert l’installation de `dask`. Afin d’avoir\n",
        "la distribution complète on utilise la commande suivante:\n",
        "\n",
        "``` shell\n",
        "pip install dask[complete]\n",
        "```\n",
        "\n",
        "# Pourquoi utiliser `Dask` ?\n",
        "\n",
        "On peut se référer à la page https://docs.dask.org/en/stable/why.html\n",
        "\n",
        "Plusieurs points sont mis en avant dans la documentation officielle et sont résumés ci-dessous:\n",
        "- `Dask` ressemble fortement en termes de syntaxe à `pandas` et `numpy` ;\n",
        "- `Dask` peut être utilisé sur un ordinateur seul ou sur un *cloud cluster*. Avec `Dask`, on peut traiter des bases de 100GB sur un ordinateur portable, voire même 1TB sans même avoir besoin d’un cluster *big data* ;\n",
        "- `Dask` requiert peu de temps d’installation puisqu’il peut être installé avec le gestionnaire de *packages* `conda` (il est même livré dans la distribution par défaut d’Anaconda)\n",
        "\n",
        "## Comment `Dask` se compare à `Spark` ?\n",
        "\n",
        "Dans le monde du *big-data*, un écosystème concurrent existe: [`Spark`](https://spark.apache.org/).\n",
        "\n",
        "-   `Spark` est écrit en `Scala` à l’origine. Le package [`pyspark`](https://spark.apache.org/docs/latest/api/python/) permet d’écrire en `Python` et s’assure de la traduction en `Python` afin d’interagir avec les machines virtuelles `Java` (JVM) nécessaires pour la parallélisation des opérations `Spark`. `Dask` est quant à lui écrit en Python, ce qui est un écosystème plus léger. Pour gagner en performance, il permet d’interagir avec du code C/C++ entre autres ;\n",
        "-   L’installation de `Spark` est plus lourde que celle de `Dask`\n",
        "-   `Spark` est un projet Apache en lui-même alors que `Dask` intervient comme une composante de l’univers `Python`;\n",
        "-   `Spark` est un peu plus vieux (2010 versus 2014 pour `Dask`) ;\n",
        "-   `Spark` permet de très bien faire des opérations classiques SQL et des ETLs, et proposer ses propres librairies de parallélisation de modèles de *machine learning*. Pour faire du *machine learning* avec `Spark` il faut aller piocher dans `Spark MLLib`. `Dask` permet quant à lui de bien interagir avec `scikit-learn` et de faire de la modélisation.\n",
        "\n",
        "Globalement, il faut retenir que `Dask` comme `Spark` ne sont intéressants que pour des données dont le traitement engendre des problèmes de RAM. Autrement, il\n",
        "vaut mieux se contenter de `pandas`.\n",
        "\n",
        "# Démonstration de quelques *features* de `Dask`\n",
        "\n",
        "Nous allons utiliser les [données immobilières `DVF`](https://www.data.gouv.fr/fr/datasets/demandes-de-valeurs-foncieres/) pour montrer quelques éléments clefs de `Dask`."
      ],
      "id": "77d1b0ed-a47e-4b53-b404-4ae1dbeb0aac"
    },
    {
      "cell_type": "code",
      "execution_count": 2,
      "metadata": {},
      "outputs": [],
      "source": [
        "# Import dvf files \n",
        "import pandas as pd\n",
        "import dask.dataframe as dd\n",
        "\n",
        "def import_dvf():\n",
        "    d_urls = {\"2019\" : 'https://www.data.gouv.fr/fr/datasets/r/3004168d-bec4-44d9-a781-ef16f41856a2',\n",
        "                 \"2020\" : \"https://www.data.gouv.fr/fr/datasets/r/90a98de0-f562-4328-aa16-fe0dd1dca60f\",\n",
        "                 \"2021\": \"https://www.data.gouv.fr/fr/datasets/r/817204ac-2202-4b4a-98e7-4184d154d98c\"}\n",
        "    dfs = {}\n",
        "    for k in d_urls.keys():\n",
        "        dfs[k] = pd.read_csv(d_urls[k], sep = \"|\", decimal=\",\")\n",
        "        dfs[k][\"year\"] = k\n",
        "    df = pd.concat(dfs).reset_index()\n",
        "    df = df.drop([\"level_0\", \"level_1\"], axis=1)\n",
        "    return df"
      ],
      "id": "e605be23-7f6d-4827-9ce8-de93d070cc3b"
    },
    {
      "cell_type": "markdown",
      "metadata": {},
      "source": [
        "Dans un premier temps, on va utiliser `pandas` pour\n",
        "importer nos données, ces dernières tenant en mémoire\n",
        "sur un ordinateur normalement doté en RAM:"
      ],
      "id": "c7497acd-a953-4c89-a1c2-beebce11c1bf"
    },
    {
      "cell_type": "code",
      "execution_count": 3,
      "metadata": {},
      "outputs": [],
      "source": [
        "dvf = import_dvf()\n",
        "dvf.shape\n",
        "dvf.head()"
      ],
      "id": "3a7c7466-bc65-4f35-8eb8-0ea55b9eef37"
    },
    {
      "cell_type": "markdown",
      "metadata": {},
      "source": [
        "Ici on travaille sur un `DataFrame` d’environ 10 millions de lignes et 44 variables.\n",
        "L’objet `dvf` est un `pandas.DataFrame`\n",
        "qui tient en mémoire sur le SSP-Cloud."
      ],
      "id": "fbe30f73-754a-4f45-864b-61b5b5a0f6bc"
    },
    {
      "cell_type": "markdown",
      "metadata": {},
      "source": [
        "<div class=\"alert alert-success\" role=\"alert\">\n",
        "\n",
        "On aurait pu lire directement les csv dans un `dask.DataFrame` avec le `read_csv` de `dask`. Comme exercice, vous pouvez essayer de le faire.\n",
        "\n",
        "</div>"
      ],
      "id": "a1958e9c-d655-4dc4-ada2-173aaba9f189"
    },
    {
      "cell_type": "markdown",
      "metadata": {},
      "source": [
        "On peut créer une structure `Dask` directement à partir d’un `DataFrame` `pandas` avec la méthode `from_pandas`."
      ],
      "id": "d53151ba-0399-4db6-8f76-e1a514077a9f"
    },
    {
      "cell_type": "code",
      "execution_count": 4,
      "metadata": {},
      "outputs": [],
      "source": [
        "dvf_dd = dd.from_pandas(dvf, npartitions=10) \n",
        "dvf_dd"
      ],
      "id": "3f02dc75-710b-44dd-b23a-dbfc5159ab65"
    },
    {
      "cell_type": "markdown",
      "metadata": {},
      "source": [
        "Pour souligner la différence avec un `pandas.DataFrame`,\n",
        "l’affichage diffère. Seule la structure du `dask.DataFrame`\n",
        "est affichée et non son contenu car les données\n",
        "`dask` ne sont pas chargées en mémoire."
      ],
      "id": "56c91a35-c3c6-440b-9d08-273ffdf1a09e"
    },
    {
      "cell_type": "markdown",
      "metadata": {},
      "source": [
        "<div class=\"alert alert-danger\" role=\"alert\">\n",
        "\n",
        "Attention, `Dask` ne peut créer un `Dask.DataFrame` à partir d’un `pandas.DataFrame` multi-indexé.\n",
        "\n",
        "Dans ce cas il a fallu faire un `reset_index()` pour avoir un unique index.\n",
        "\n",
        "</div>"
      ],
      "id": "d6271a60-65f6-46ba-974b-5623329ff87e"
    },
    {
      "cell_type": "markdown",
      "metadata": {},
      "source": [
        "On a ainsi la structure de notre `dask.DataFrame`, soit environ 10M de lignes, avec 44 colonnes en 10 partitions, soit environ 1M d’observations par partition.\n",
        "`Dask`, comme `Spark` et en fait comme la plupart des *frameworks* permettant de\n",
        "traiter des données plus volumineuses que la RAM disponible,\n",
        "repose sur le principe du partitionnement et de la parallélisation\n",
        "des opérations. Les données ne sont jamais importées dans leur\n",
        "ensemble mais par bloc. Un plan des opérations à effectuer est\n",
        "ensuite appliquer sur chaque bloc (nous reviendrons\n",
        "sur ce principe), indépendamment. La particularité de `Dask`,\n",
        "par rapport à `Spark`,\n",
        "est que chaque bloc est un `pandas.DataFrame`, ce qui\n",
        "rend très facile l’application de manipulations de données\n",
        "traditionnelles sur des sources volumineuses:\n",
        "\n",
        "![](https://docs.dask.org/en/stable/_images/dask-dataframe.svg)"
      ],
      "id": "008324ce-2684-4bfa-9f3f-27e306a75ced"
    },
    {
      "cell_type": "markdown",
      "metadata": {},
      "source": [
        "<div class=\"alert alert-warning\" role=\"alert\">\n",
        "\n",
        "Le choix du nombre de partition (10) est arbitraire ici. Bien qu’on puisse\n",
        "trouver des règles du pouce pour fixer un nombre optimal de\n",
        "partitions, cela dépend de beaucoup de facteurs et, en pratique,\n",
        "rien ne remplace l’essai-erreur. Par exemple, [la documentation `Dask` recommande des blocs d’environ\n",
        "100MB](https://docs.dask.org/en/stable/dataframe-best-practices.html)\n",
        "ce qui peut convenir pour des ordinateurs à la RAM limitée mais n’a pas\n",
        "forcément de sens pour des machines ayant 16GB de RAM.\n",
        "Un nombre important de partition va permettre de faire des opérations\n",
        "sur des petits blocs de données, ce qui permettra de gagner en vitesse\n",
        "d’exécution. Le prix à payer est beaucoup *d’input/output* car\n",
        "`Dask` va passer du temps à lire beaucoup de blocs de données et écrire\n",
        "des bases intermédiaires.\n",
        "\n",
        "</div>"
      ],
      "id": "3a9c2032-7f7f-4d4a-8545-18e755c06556"
    },
    {
      "cell_type": "markdown",
      "metadata": {},
      "source": [
        "On peut accéder aux index que couvrent les partitions de la manière suivante:"
      ],
      "id": "8006f52f-27d6-4e74-9438-ce654b97a7c2"
    },
    {
      "cell_type": "code",
      "execution_count": 5,
      "metadata": {},
      "outputs": [],
      "source": [
        "dvf_dd.divisions"
      ],
      "id": "893766c3-3570-41fc-bbe5-578b01b07e4f"
    },
    {
      "cell_type": "markdown",
      "metadata": {},
      "source": [
        "Et on peut directement accéder à une partition grâce aux crochets `[]`:"
      ],
      "id": "3ccf9c83-f195-47a9-bae1-9318bd55420d"
    },
    {
      "cell_type": "code",
      "execution_count": 7,
      "metadata": {},
      "outputs": [],
      "source": [
        "dvf_dd.partitions[0]"
      ],
      "id": "d89f0b36-c2c0-4b23-8415-676aac29fc90"
    },
    {
      "cell_type": "markdown",
      "metadata": {},
      "source": [
        "`Dask` fait de la *“lazy evaluation”*. Cela signifie que le résultat n’est calculé que si on le demande explicitement. Dans le cas, contraire, ce que l’on appelle un `dask` **task graph** est produit (on verra plus bas comment voir ce *graph*).\n",
        "Pour demander explicitement le résultat d’un calcul, il faut utiliser `compute`. Par exemple, pour afficher le contenu des 100 premières lignes :"
      ],
      "id": "adbf1739-7c8d-43df-b693-42398707356c"
    },
    {
      "cell_type": "code",
      "execution_count": 8,
      "metadata": {},
      "outputs": [],
      "source": [
        "dvf_dd.loc[0:100,:].compute()"
      ],
      "id": "82a047a2-f265-437e-a277-6be829af3a86"
    },
    {
      "cell_type": "markdown",
      "metadata": {},
      "source": [
        "Ce qui est pratique avec `dask.dataframe` c’est que de nombreuses méthodes sont semblables à celles de `pandas`. Par exemple, si l’on souhaite connaitre les types de locaux présents dans la base en 2019:"
      ],
      "id": "62dcffc2-3936-42cd-82e7-2e9b00488d39"
    },
    {
      "cell_type": "code",
      "execution_count": 9,
      "metadata": {},
      "outputs": [],
      "source": [
        "dvf_dd.loc[:,\"Type local\"].value_counts().compute()"
      ],
      "id": "d567cc42-e909-4f69-bf53-1bb37cb57459"
    },
    {
      "cell_type": "markdown",
      "metadata": {},
      "source": [
        "A titre de comparaison, comparons les temps de calculs entre `pandas` et `dask` ici:"
      ],
      "id": "8030b677-ce3d-4214-ab19-c9e2237d79c0"
    },
    {
      "cell_type": "code",
      "execution_count": 10,
      "metadata": {},
      "outputs": [],
      "source": [
        "import timeit\n",
        "start_time = timeit.default_timer()\n",
        "dvf_dd.loc[:,\"Type local\"].value_counts().compute()\n",
        "print(timeit.default_timer() - start_time)"
      ],
      "id": "0904fbbc-ccd8-4f34-a6f7-ed64d08ab536"
    },
    {
      "cell_type": "code",
      "execution_count": 11,
      "metadata": {},
      "outputs": [],
      "source": [
        "start_time = timeit.default_timer()\n",
        "dvf.loc[:,\"Type local\"].value_counts()\n",
        "print(timeit.default_timer() - start_time)"
      ],
      "id": "54d86ba4-3ae1-436e-9a3d-88dba7efafd1"
    },
    {
      "cell_type": "markdown",
      "metadata": {},
      "source": [
        "On se rend compte que le `pandas DataFrame` a un temps de calcul plus court, mais c’est parce que `dask` va nous servir avant tout à lire des bases dont le traitement excède notre RAM. Donc, cette comparaison n’existera tout simplement pas car le `pandas DataFrame` n’aura pas été chargé en RAM. **On voit dans cet exemple que lorsque le traitement du `DataFrame` tient en RAM, l’utilisation de `dask` est inutile**.\n",
        "\n",
        "Les méthodes dans `dask` peuvent etre chainées, comme dans `pandas`, par exemple, on pourra écrire:"
      ],
      "id": "db59370e-ffb3-4d88-8f72-c0439502937a"
    },
    {
      "cell_type": "code",
      "execution_count": 12,
      "metadata": {},
      "outputs": [],
      "source": [
        "mean_by_year = dvf_dd.loc[~dvf_dd[\"Surface terrain\"].isna(),[\"Surface terrain\", \"year\"]].groupby(\"year\").mean()"
      ],
      "id": "b8118d79-1e4f-421e-97ea-28f6f05c24df"
    },
    {
      "cell_type": "code",
      "execution_count": 13,
      "metadata": {},
      "outputs": [],
      "source": [
        "mean_by_year.compute()"
      ],
      "id": "199512ec-b826-4e65-8361-458a114c00a6"
    },
    {
      "cell_type": "markdown",
      "metadata": {},
      "source": [
        "Afin de visualiser le *graph* de computation de `dask`, on peut utiliser `dask` de la manière suivante. On voit ainsi toutes les étapes que jusqu’ici `dask` n’a pas *executé* et qu’il va devoir exécuter pour calculer le résultat (`compute()`), en l’occurence l’étape `from_pandas()`, le `getitem`, `isna`, `inv` et `loc-series` qui résultent de nos filtres sur le `DataFrame`, et ensuite on voit les étapes de `groupby` et que pour calculer la moyenne il convient de faire la somme et la division. Toutes ces étapes vont être effectuées quand on appelle `compute()` et pas avant (*lazy evaluation*)."
      ],
      "id": "06976e07-62ce-4c2f-9614-a35a44733685"
    },
    {
      "cell_type": "code",
      "execution_count": 14,
      "metadata": {},
      "outputs": [],
      "source": [
        "mean_by_year.dask # permet de visualiser le task graph pour obtenir le résultat"
      ],
      "id": "13fdb26e-b3af-48d8-b172-f7f0daf11767"
    },
    {
      "cell_type": "markdown",
      "metadata": {},
      "source": [
        "Afin de voir la structure du `dask DataFrame` on peut utilise la méthode `visualize()`:"
      ],
      "id": "eff19b1e-7fbc-44d5-9970-bfe815d126c9"
    },
    {
      "cell_type": "code",
      "execution_count": 15,
      "metadata": {},
      "outputs": [],
      "source": [
        "dvf_dd.visualize() # attention graphviz est requis"
      ],
      "id": "956ff792-6435-4034-a56f-c55ee6d8fcd6"
    },
    {
      "cell_type": "markdown",
      "metadata": {},
      "source": [
        "Il faut savoir que `dask` produit des `Array`, `Bag` et `DataFrames`, qui fonctionnent comme dans `numpy` et `pandas` (il est possible de créer d’autres structures ad hoc, cf plus loin). Intéressons nous tout d’abord au `dask` `DataFrame` qui est ce que l’on manipule depuis le début de ce notebook. On peut penser à un `dask DataFrame` comme à un ensemble de nombreux `pandas DataFrame` pouvant tenir en RAM séparé grâce à l’index. Une opération sur un `dask DataFrame` entraine autant d’opérations sur les multiples `pandas DataFrame`. Ces opérations se font potentiellement en parallèle en tenant compte de la mémoire disponible. Le site de `dask` cite une règle qui est la suivante : *“Have 5 to 10 times as much RAM as the size of your dataset”*,Wes McKinney (2017) in *10 things I hate about pandas*. (size = size on the disk) <https://wesmckinney.com/blog/apache-arrow-pandas-internals/>\n",
        "\n",
        "Regardons la taille de notre base actuelle (on l’exporte en S3)."
      ],
      "id": "1b44374c-ccee-4649-a439-d148a7ded50d"
    },
    {
      "cell_type": "code",
      "execution_count": 16,
      "metadata": {},
      "outputs": [],
      "source": [
        "import s3fs\n",
        "\n",
        "def export2minio(filename, df_final):\n",
        "    endpoint = \"https://\" + os.environ[\"AWS_S3_ENDPOINT\"]\n",
        "    fs = s3fs.S3FileSystem(client_kwargs={'endpoint_url': endpoint})\n",
        "    bucket = \"radjerad/diffusion/dvf\"\n",
        "    path_out = bucket + \"/\" + filename\n",
        "\n",
        "    with fs.open(path_out, 'w') as file_out:\n",
        "        df_final.to_csv(file_out, index=False, encoding=\"utf-8\", sep=\";\")\n",
        "    return None"
      ],
      "id": "eee0fd2b-63bd-49c1-8636-0a336656ca4d"
    },
    {
      "cell_type": "code",
      "execution_count": 17,
      "metadata": {},
      "outputs": [],
      "source": [
        "export2minio(\"dvf_2019_2021.csv\", dvf) "
      ],
      "id": "85ca7655-a9c2-4e52-8f69-201659788e4d"
    },
    {
      "cell_type": "markdown",
      "metadata": {},
      "source": [
        "Le fichier fait 1,4 giga. Si l’on suit la règle du pouce donnée plus haut, on va avoir besoin d’une RAM d’au moins environ 7-14 gigas (en fonction de nos traitements). Donc c’est seulement si l’on est contraint en dessous de ce niveau de RAM qu’il va être intéressant de faire appel à `dask`.\n",
        "\n",
        "A noter que certaines méthodes vont déclencher un `compute` directement, comme par exemple `len` ou `head`."
      ],
      "id": "160ff0e1-0f43-4b05-aaa3-74ef1ce1ed07"
    },
    {
      "cell_type": "code",
      "execution_count": 18,
      "metadata": {},
      "outputs": [],
      "source": [
        "len(dvf_dd)"
      ],
      "id": "60410e5f-e937-41dc-a4fc-708bf29197f2"
    },
    {
      "cell_type": "code",
      "execution_count": 19,
      "metadata": {},
      "outputs": [],
      "source": [
        "dvf_dd.head()"
      ],
      "id": "fdd8f689-7e35-4c67-9c43-592965649c35"
    },
    {
      "cell_type": "markdown",
      "metadata": {},
      "source": [
        "#### Problèmes de lecture dus à des types problématiques\n",
        "\n",
        "La méthode `read_csv` de `dask` va inférer les types du `DataFrame` à partir d’échantillon, et va les implémenter sur tout le `DataFrame` seulement au moment d’une étape `compute`.\n",
        "Il peut donc y avoir des erreurs de types dûs à un échantillon ne prenant pas en compte certains cas particuliers, causant des erreurs dans la lecture du fichier. Dans ce cas (et comme de manière générale avec `pandas`), il peut être recommandé de faire appel au paramètre `dtype` de `read_csv` - qui est un `dict` - (la doc de `dask` nous dit aussi que l’on peut augmenter la taille de l’échantllon `sample`).\n",
        "\n",
        "#### Utiliser `dask` avec le format parquet\n",
        "\n",
        "`dask` permet de lire le format parquet, et plus précisément d’utiliser des fonctionnalités spécifiques à ce format. La lecture et l’écriture en parquet reposent par défaut sur `pyarrow`. On peut aussi utiliser `fastparquet` et préciser dans la lecture/écriture ce que l’on souhaite des deux."
      ],
      "id": "21b2d7dc-a5d1-4069-b202-258b6edf6953"
    },
    {
      "cell_type": "code",
      "execution_count": 20,
      "metadata": {},
      "outputs": [],
      "source": [
        "dvf_net = dvf.loc[:,[ 'Date mutation', 'Nature mutation', 'Valeur fonciere', 'Commune', \n",
        "       'Code commune', 'Type local', 'Identifiant local', 'Surface reelle bati',\n",
        "       'Nombre pieces principales', 'Nature culture',\n",
        "       'Nature culture speciale', 'Surface terrain', 'year']]"
      ],
      "id": "fef4fc66-ea35-43f7-9157-c5ce79c21d33"
    },
    {
      "cell_type": "code",
      "execution_count": 21,
      "metadata": {},
      "outputs": [],
      "source": [
        "dvf_net.to_parquet(\"../data/dvf/\", partition_cols=\"year\") # pour ceci il faut pyarrow, à noter que to_parquet fonctionne \n",
        "# aussi sur les dask DataFrame, ici on partitionne selon l'année"
      ],
      "id": "142d2cdd-9ebc-47af-b0c7-3f3d308687a0"
    },
    {
      "cell_type": "code",
      "execution_count": 22,
      "metadata": {},
      "outputs": [],
      "source": [
        "dvf_dd = dd.read_parquet(\"../data/dvf/year=2019/\", columns=[\"Date mutation\", \"Valeur fonciere\"]) # On peut sélectionner directement les deux colonnes"
      ],
      "id": "9e20400c-2b6f-4e7c-b9b4-82d22e188a6f"
    },
    {
      "cell_type": "code",
      "execution_count": 23,
      "metadata": {},
      "outputs": [],
      "source": [
        "dvf_dd.head()"
      ],
      "id": "b43d2484-cdb8-44d6-b4fe-e9b4744456d9"
    },
    {
      "cell_type": "markdown",
      "metadata": {},
      "source": [
        "#### A quoi sert `persist` ?\n",
        "\n",
        "Il est possible de garder une partie des données en mémoire avec `persist()`. Les données sont sauvegardées dans des objets appelés `Futures`. Cela peut être intéressant si un bloc particulier de données est utilisé dans plusieurs `compute` ou si l’on a besoin de voir ce qu’il y a à l’intérieur souvent."
      ],
      "id": "2345f067-968a-4a8e-8be5-50a0a7677614"
    },
    {
      "cell_type": "code",
      "execution_count": 24,
      "metadata": {},
      "outputs": [],
      "source": [
        "dvf_dd_mem = dvf_dd.persist()"
      ],
      "id": "519d85d2-44ff-4849-808a-652830db99cf"
    },
    {
      "cell_type": "code",
      "execution_count": 25,
      "metadata": {},
      "outputs": [],
      "source": [
        "%%time\n",
        "dvf_dd_mem.head()"
      ],
      "id": "e8e737ab-2ef2-44fc-9bea-2f7bc9df11b0"
    },
    {
      "cell_type": "code",
      "execution_count": 26,
      "metadata": {},
      "outputs": [],
      "source": [
        "%%time\n",
        "dvf_dd.head()"
      ],
      "id": "b5df1cb6-7e1e-450e-af16-6425b3505535"
    },
    {
      "cell_type": "markdown",
      "metadata": {},
      "source": [
        "On a bien un temps plus important avec le `dask DataFrame` initial, comparé avec celui sur lequel on a utilisé `persist`.\n",
        "\n",
        "Il existe un autre objet `dask`, les `Array` pour reprendre la logique de `numpy`. De la même manière qu’un `dask DataFrame` est en quelque sorte un ensemble de `pandas DataFrame`, un `dask Array` est un ensemble de `numpy Array` qui sont plus importants en taille que la RAM. On pourra utiliser les opérations courantes `numpy` avec `dask` de la même manière que le `dask DataFrame` réplique la logique du `pandas DataFrame`.\n",
        "\n",
        "#### **Aller plus loin**: Utiliser le decorator `dask.delayed` pour paralléliser du code\n",
        "\n",
        "Il est possible de paralléliser des fonctions par exemple en utilisant le **decorator** `dask.delayed`. Cela permet de rendre les fonctions `lazy`, lorsque l’on appelle la fonction, un delayed object est construit, pour avoir le résultat il faut faire un `compute`. Pour aller plus loin: <https://tutorial.dask.org/03_dask.delayed.html>."
      ],
      "id": "8e465dc5-547f-491a-b329-6e4b0cc3535d"
    },
    {
      "cell_type": "code",
      "execution_count": 27,
      "metadata": {},
      "outputs": [],
      "source": [
        "import dask\n",
        "import time \n",
        "# voici le resultat sans le decorator\n",
        "def aire_carre(longueur):\n",
        "    time.sleep(1)\n",
        "    return longueur**2\n",
        "\n",
        "def perimetre_carre(longueur):\n",
        "    time.sleep(1)\n",
        "    return 4*longueur\n",
        "\n",
        "def ajout_aire_perim(a, b):\n",
        "    return a + b\n",
        "start_time = timeit.default_timer()\n",
        "car1 = aire_carre(7)\n",
        "car2 = perimetre_carre(9)\n",
        "car3 = ajout_aire_perim(car1, car2)\n",
        "car3\n",
        "print(timeit.default_timer() - start_time)"
      ],
      "id": "92853efa-8474-41b5-8e29-9c3751a16f24"
    },
    {
      "cell_type": "code",
      "execution_count": 28,
      "metadata": {},
      "outputs": [],
      "source": [
        "@dask.delayed\n",
        "def aire_carre(longueur):\n",
        "    time.sleep(1)\n",
        "    return longueur**2\n",
        "\n",
        "@dask.delayed\n",
        "def perimetre_carre(longueur):\n",
        "    time.sleep(1)\n",
        "    return 4*longueur\n",
        "\n",
        "@dask.delayed\n",
        "def ajout_aire_perim(a, b):\n",
        "    return a + b"
      ],
      "id": "b8831f8a-e9d5-4e07-a641-96365c94246a"
    },
    {
      "cell_type": "code",
      "execution_count": 29,
      "metadata": {},
      "outputs": [],
      "source": [
        "car1 = aire_carre(7)\n",
        "car2 = perimetre_carre(9)\n",
        "car3 = ajout_aire_perim(car1, car2)"
      ],
      "id": "c9783e60-684a-43a3-9340-21f76c537402"
    },
    {
      "cell_type": "markdown",
      "metadata": {},
      "source": [
        "Mais en fait rien n’a été calculé, si l’on souhaite le résultat, il faut appeler `compute`"
      ],
      "id": "4842696a-10ba-42b2-8872-fbc74a88f7d0"
    },
    {
      "cell_type": "code",
      "execution_count": 30,
      "metadata": {},
      "outputs": [],
      "source": [
        "import timeit\n",
        "start_time = timeit.default_timer()\n",
        "car3.compute()\n",
        "print(timeit.default_timer() - start_time)"
      ],
      "id": "646f8fa9-c0e6-4e04-8c95-898aa37a095f"
    },
    {
      "cell_type": "markdown",
      "metadata": {},
      "source": [
        "Ici l’intérêt est assez limité, mais on voit que l’on réduit quand même de 2 à 1 seconde le temps de calcul. Mais l’idée derrière est que l’on a transformé `car3` en un objet `Delayed`. Cela a généré un `task graph` permettant de paralléliser certaines opérations. Ici il est important de noter que les fonctions que l’on parallélise doivent mettre un certain temps, sinon il n’y aura pas de gain de performance (si on retire le `time.sleep` il n’y a pas de gain de performance car le fait de paralléliser rajoute en fait du temps vu que chaque fonction a un temps de calcul trop faible pour que la parallélisation soit intéressante)."
      ],
      "id": "b2a12bac-b83d-4a65-bce2-5478f14e0c66"
    },
    {
      "cell_type": "code",
      "execution_count": 31,
      "metadata": {},
      "outputs": [],
      "source": [
        "car3.visualize() # on peut visualiser le task graph et voir ce qui est fait en parallèle "
      ],
      "id": "58cb701a-dd39-44c8-bd14-0e3470de669d"
    },
    {
      "cell_type": "markdown",
      "metadata": {},
      "source": [
        "Il y a des exercices intéressants dans la doc de `dask` sur les objets `Delayed`, notamment sur la parallélisation de séquence de traitement de données. Ils donnent l’exemple d’un ensemble de csv ayant le même format dont on veut résumer un indicateur final. On peut appliquer le decorator à une fonction permettant de lire le csv, puis utiliser une boucle for pour lire le ficher et appliquer les traitements. Ensuite, il faudra appeler compute sur l’objet final que l’on souhaite.\n",
        "\n",
        "Pour aller plus loin sur l’utilisation de `dask` sur un cluster voir <https://tutorial.dask.org/04_distributed.html>.\n",
        "\n",
        "# Remerciements\n",
        "\n",
        "Ce chapitre a été rédigé avec [Raphaële Adjerad](https://github.com/raphaeleadjerad)."
      ],
      "id": "36783c60-8176-43b9-9685-edf28c83c391"
    }
  ],
  "nbformat": 4,
  "nbformat_minor": 5,
  "metadata": {
    "kernelspec": {
      "name": "python3",
      "display_name": "Python 3 (ipykernel)",
      "language": "python"
    },
    "language_info": {
      "name": "python",
      "codemirror_mode": {
        "name": "ipython",
        "version": "3"
      },
      "file_extension": ".py",
      "mimetype": "text/x-python",
      "nbconvert_exporter": "python",
      "pygments_lexer": "ipython3",
      "version": "3.9.13"
    }
  }
}