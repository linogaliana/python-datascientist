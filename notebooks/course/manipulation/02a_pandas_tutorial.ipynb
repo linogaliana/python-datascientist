{
 "cells": [
  {
   "cell_type": "markdown",
   "id": "5a53a392",
   "metadata": {},
   "source": [
    "#  Introduction à pandas\n",
    "\n",
    "\n"
   ]
  },
  {
   "cell_type": "markdown",
   "id": "b8a1e8f6",
   "metadata": {},
   "source": [
    "Pour essayer les exemples présents dans ce tutoriel : \n",
    "\n",
    "<a href=\"https://github.com/linogaliana/python-datascientist/blob/master//__w/python-datascientist/python-datascientist/notebooks/course/manipulation/02a_pandas_tutorial.ipynb\" class=\"github\"><i class=\"fab fa-github\"></i></a>\n",
    "[![Download](https://img.shields.io/badge/Download-Notebook-important?logo=Jupyter)](https://downgit.github.io/#/home?url=https://github.com/linogaliana/python-datascientist/blob/master//__w/python-datascientist/python-datascientist/notebooks/course/manipulation/02a_pandas_tutorial.ipynb)\n",
    "[![nbviewer](https://img.shields.io/badge/Visualize-nbviewer-blue?logo=Jupyter)](https://nbviewer.jupyter.org/github/linogaliana/python-datascientist/blob/master//__w/python-datascientist/python-datascientist/notebooks/course/manipulation/02a_pandas_tutorial.ipynb)\n",
    "[![Onyxia](https://img.shields.io/badge/SSPcloud-Tester%20via%20SSP--cloud-informational&color=yellow?logo=Python)](https://datalab.sspcloud.fr/launcher/inseefrlab-helm-charts-datascience/jupyter?autoLaunch=true&onyxia.friendlyName=%C2%ABpython-datascience%C2%BB&init.personalInit=%C2%ABhttps%3A%2F%2Fraw.githubusercontent.com%2Flinogaliana%2Fpython-datascientist%2Fmaster%2Fsspcloud%2Finit-jupyter.sh%C2%BB&init.personalInitArgs=%C2%ABmanipulation%2002a_pandas_tutorial%C2%BB&security.allowlist.enabled=false)\n",
    "<br>\n",
    "[![Binder](https://img.shields.io/badge/Launch-Binder-E66581.svg?logo=data:image/png;base64,iVBORw0KGgoAAAANSUhEUgAAAFkAAABZCAMAAABi1XidAAAB8lBMVEX///9XmsrmZYH1olJXmsr1olJXmsrmZYH1olJXmsr1olJXmsrmZYH1olL1olJXmsr1olJXmsrmZYH1olL1olJXmsrmZYH1olJXmsr1olL1olJXmsrmZYH1olL1olJXmsrmZYH1olL1olL0nFf1olJXmsrmZYH1olJXmsq8dZb1olJXmsrmZYH1olJXmspXmspXmsr1olL1olJXmsrmZYH1olJXmsr1olL1olJXmsrmZYH1olL1olLeaIVXmsrmZYH1olL1olL1olJXmsrmZYH1olLna31Xmsr1olJXmsr1olJXmsrmZYH1olLqoVr1olJXmsr1olJXmsrmZYH1olL1olKkfaPobXvviGabgadXmsqThKuofKHmZ4Dobnr1olJXmsr1olJXmspXmsr1olJXmsrfZ4TuhWn1olL1olJXmsqBi7X1olJXmspZmslbmMhbmsdemsVfl8ZgmsNim8Jpk8F0m7R4m7F5nLB6jbh7jbiDirOEibOGnKaMhq+PnaCVg6qWg6qegKaff6WhnpKofKGtnomxeZy3noG6dZi+n3vCcpPDcpPGn3bLb4/Mb47UbIrVa4rYoGjdaIbeaIXhoWHmZYHobXvpcHjqdHXreHLroVrsfG/uhGnuh2bwj2Hxk17yl1vzmljzm1j0nlX1olL3AJXWAAAAbXRSTlMAEBAQHx8gICAuLjAwMDw9PUBAQEpQUFBXV1hgYGBkcHBwcXl8gICAgoiIkJCQlJicnJ2goKCmqK+wsLC4usDAwMjP0NDQ1NbW3Nzg4ODi5+3v8PDw8/T09PX29vb39/f5+fr7+/z8/Pz9/v7+zczCxgAABC5JREFUeAHN1ul3k0UUBvCb1CTVpmpaitAGSLSpSuKCLWpbTKNJFGlcSMAFF63iUmRccNG6gLbuxkXU66JAUef/9LSpmXnyLr3T5AO/rzl5zj137p136BISy44fKJXuGN/d19PUfYeO67Znqtf2KH33Id1psXoFdW30sPZ1sMvs2D060AHqws4FHeJojLZqnw53cmfvg+XR8mC0OEjuxrXEkX5ydeVJLVIlV0e10PXk5k7dYeHu7Cj1j+49uKg7uLU61tGLw1lq27ugQYlclHC4bgv7VQ+TAyj5Zc/UjsPvs1sd5cWryWObtvWT2EPa4rtnWW3JkpjggEpbOsPr7F7EyNewtpBIslA7p43HCsnwooXTEc3UmPmCNn5lrqTJxy6nRmcavGZVt/3Da2pD5NHvsOHJCrdc1G2r3DITpU7yic7w/7Rxnjc0kt5GC4djiv2Sz3Fb2iEZg41/ddsFDoyuYrIkmFehz0HR2thPgQqMyQYb2OtB0WxsZ3BeG3+wpRb1vzl2UYBog8FfGhttFKjtAclnZYrRo9ryG9uG/FZQU4AEg8ZE9LjGMzTmqKXPLnlWVnIlQQTvxJf8ip7VgjZjyVPrjw1te5otM7RmP7xm+sK2Gv9I8Gi++BRbEkR9EBw8zRUcKxwp73xkaLiqQb+kGduJTNHG72zcW9LoJgqQxpP3/Tj//c3yB0tqzaml05/+orHLksVO+95kX7/7qgJvnjlrfr2Ggsyx0eoy9uPzN5SPd86aXggOsEKW2Prz7du3VID3/tzs/sSRs2w7ovVHKtjrX2pd7ZMlTxAYfBAL9jiDwfLkq55Tm7ifhMlTGPyCAs7RFRhn47JnlcB9RM5T97ASuZXIcVNuUDIndpDbdsfrqsOppeXl5Y+XVKdjFCTh+zGaVuj0d9zy05PPK3QzBamxdwtTCrzyg/2Rvf2EstUjordGwa/kx9mSJLr8mLLtCW8HHGJc2R5hS219IiF6PnTusOqcMl57gm0Z8kanKMAQg0qSyuZfn7zItsbGyO9QlnxY0eCuD1XL2ys/MsrQhltE7Ug0uFOzufJFE2PxBo/YAx8XPPdDwWN0MrDRYIZF0mSMKCNHgaIVFoBbNoLJ7tEQDKxGF0kcLQimojCZopv0OkNOyWCCg9XMVAi7ARJzQdM2QUh0gmBozjc3Skg6dSBRqDGYSUOu66Zg+I2fNZs/M3/f/Grl/XnyF1Gw3VKCez0PN5IUfFLqvgUN4C0qNqYs5YhPL+aVZYDE4IpUk57oSFnJm4FyCqqOE0jhY2SMyLFoo56zyo6becOS5UVDdj7Vih0zp+tcMhwRpBeLyqtIjlJKAIZSbI8SGSF3k0pA3mR5tHuwPFoa7N7reoq2bqCsAk1HqCu5uvI1n6JuRXI+S1Mco54YmYTwcn6Aeic+kssXi8XpXC4V3t7/ADuTNKaQJdScAAAAAElFTkSuQmCC)](https://mybinder.org/v2/gh/linogaliana/python-datascientist/master?filepath=/__w/python-datascientist/python-datascientist/notebooks/course/manipulation/02a_pandas_tutorial.ipynb)\n",
    "[![Open In Colab](https://colab.research.google.com/assets/colab-badge.svg)](http://colab.research.google.com/github/linogaliana/python-datascientist/blob/master//__w/python-datascientist/python-datascientist/notebooks/course/manipulation/02a_pandas_tutorial.ipynb)\n",
    "[![githubdev](https://open.vscode.dev/badges/open-in-vscode.svg)](https://github.dev/linogaliana/python-datascientist//__w/python-datascientist/python-datascientist/notebooks/course/manipulation/02a_pandas_tutorial.ipynb)\n",
    "\n",
    "Dans ce tutoriel `pandas`, nous allons utiliser:\n",
    "\n",
    "* Les émissions de gaz à effet de serre estimées au niveau communal par l'ADEME. Le jeu de données est \n",
    "disponible sur [data.gouv](https://www.data.gouv.fr/fr/datasets/inventaire-de-gaz-a-effet-de-serre-territorialise/#_)\n",
    "et requêtable directement dans `Python` avec\n",
    "[cet url](https://koumoul.com/s/data-fair/api/v1/datasets/igt-pouvoir-de-rechauffement-global/convert)\n",
    "\n",
    "Le [chapitre suivant](#pandasTP) permettra de mettre en application des éléments présents dans ce chapitre avec\n",
    "les données ci-dessus associées à des données de contexte au niveau communal[^1]."
   ]
  },
  {
   "cell_type": "markdown",
   "id": "c1d67586",
   "metadata": {},
   "source": [
    "[^1]: Idéalement, on utiliserait les données\n",
    "[disponibles sur le site de l'Insee](https://www.insee.fr/fr/statistiques/3560121) mais celles-ci nécessitent un peu de travail\n",
    "de nettoyage qui n'entre pas dans le cadre de ce TP. \n",
    "Pour faciliter l'import de données Insee, il est recommandé d'utiliser le package\n",
    "[`pynsee`](https://github.com/InseeFrLab/Py-Insee-Data) qui simplifie l'accès aux données\n",
    "de l'Insee disponibles sur le site web [insee.fr](https://www.insee.fr/fr/accueil)\n",
    "ou via des API. \n",
    "\n",
    "Le package `pynsee` est relativement jeune et n'est disponible que sur\n",
    "[Github](https://github.com/InseeFrLab/Py-Insee-Data), pas sur `PyPi`.\n",
    "Idéalement, on utilise la commande suivante, en ligne de commande, pour l'installer:"
   ]
  },
  {
   "cell_type": "markdown",
   "id": "0f5f1375",
   "metadata": {},
   "source": [
    "```shell\n",
    "pip install git+https://github.com/InseeFrLab/Py-Insee-Data.git\n",
    "```\n",
    "\n",
    "Cependant, cela implique que `Jupyter` et `Git` sont capables de communiquer. Si\n",
    "`Jupyter` ne sait pas où trouver `Git`, il est possible de rencontrer une erreur.\n",
    "\n",
    "Dans ce cas, il faut télécharger le package compressé et l'installer localement : \n"
   ]
  },
  {
   "cell_type": "code",
   "execution_count": null,
   "id": "31bd9f91",
   "metadata": {},
   "outputs": [],
   "source": [
    "import requests\n",
    "\n",
    "url = 'https://github.com/InseeFrLab/Py-Insee-Data/archive/refs/heads/master.zip'\n",
    "r = requests.get(url)\n",
    "with open(\"pynsee.zip\" , 'wb') as zipfile:\n",
    "    zipfile.write(r.content)\n",
    "\n",
    "!pip install --ignore-installed pynsee.zip\n",
    "!pip install python-Levenshtein"
   ]
  },
  {
   "cell_type": "markdown",
   "id": "4fcc9753",
   "metadata": {},
   "source": [
    "Si le fait de ne pas avoir de barre de progrès lors du téléchargement\n",
    "vous trouble, vous pouvez vous rendre à la\n",
    "[Section Annexe](#annexe) pour découvrir un bout de code\n",
    "qui effectue les mêmes tâches mais avec des barres de progrès"
   ]
  },
  {
   "cell_type": "markdown",
   "id": "4b8fe7f7",
   "metadata": {},
   "source": [
    ":warning: `pandas` offre la possibilité d'importer des données\n",
    "directement depuis un url. C'est l'option prise dans ce tutoriel.\n",
    "Si vous préfèrez, pour des\n",
    "raisons d'accès au réseau ou de performance, importer depuis un poste local,\n",
    "vous pouvez télécharger les données et changer\n",
    "les commandes d'import avec le chemin adéquat plutôt que l'url. "
   ]
  },
  {
   "cell_type": "markdown",
   "id": "ab5f5725",
   "metadata": {},
   "source": [
    "Nous suivrons les conventions habituelles dans l'import des packages\n"
   ]
  },
  {
   "cell_type": "code",
   "execution_count": null,
   "id": "34539946",
   "metadata": {},
   "outputs": [],
   "source": [
    "import numpy as np\n",
    "import pandas as pd\n",
    "import matplotlib.pyplot as plt\n",
    "import pynsee.download"
   ]
  },
  {
   "cell_type": "markdown",
   "id": "9ca3760b",
   "metadata": {},
   "source": [
    "```\n",
    "## Error in py_call_impl(callable, dots$args, dots$keywords): IndentationError: unindent does not match any outer indentation level (__init__.py, line 141)\n",
    "## \n",
    "## Detailed traceback: \n",
    "##   File \"<string>\", line 1, in <module>\n",
    "```\n",
    "\n",
    "Pour obtenir des résultats reproductibles, on peut fixer la racine du générateur\n",
    "pseudo-aléatoire. \n"
   ]
  },
  {
   "cell_type": "code",
   "execution_count": null,
   "id": "bbbe53b6",
   "metadata": {},
   "outputs": [],
   "source": [
    "np.random.seed(123)"
   ]
  },
  {
   "cell_type": "markdown",
   "id": "3c4b6c42",
   "metadata": {},
   "source": [
    "Au cours de cette démonstration des principales fonctionalités de `pandas`, et\n",
    "lors du TP\n",
    "\n",
    "<a href=\"https://github.com/linogaliana/python-datascientist/blob/master/notebooks/course/manipulation/02b_pandas_TP.ipynb\" class=\"github\"><i class=\"fab fa-github\"></i></a>\n",
    "[![Download](https://img.shields.io/badge/Download-Notebook-important?logo=Jupyter)](https://downgit.github.io/#/home?url=https://github.com/linogaliana/python-datascientist/blob/master/notebooks/course/manipulation/02b_pandas_TP.ipynb)\n",
    "[![nbviewer](https://img.shields.io/badge/Visualize-nbviewer-blue?logo=Jupyter)](https://nbviewer.jupyter.org/github/linogaliana/python-datascientist/blob/master/notebooks/course/manipulation/02b_pandas_TP.ipynb)\n",
    "[![Onyxia](https://img.shields.io/badge/SSPcloud-Tester%20via%20SSP--cloud-informational&color=yellow?logo=Python)](https://datalab.sspcloud.fr/launcher/inseefrlab-helm-charts-datascience/jupyter?autoLaunch=true&onyxia.friendlyName=%C2%ABpython-datascience%C2%BB&init.personalInit=%C2%ABhttps%3A%2F%2Fraw.githubusercontent.com%2Flinogaliana%2Fpython-datascientist%2Fmaster%2Fsspcloud%2Finit-jupyter.sh%C2%BB&init.personalInitArgs=%C2%ABmanipulation%2002b_pandas_TP%C2%BB&security.allowlist.enabled=false)\n",
    "<br>\n",
    "[![Binder](https://img.shields.io/badge/Launch-Binder-E66581.svg?logo=data:image/png;base64,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)](https://mybinder.org/v2/gh/linogaliana/python-datascientist/master?filepath=notebooks/course/manipulation/02b_pandas_TP.ipynb)\n",
    "[![Open In Colab](https://colab.research.google.com/assets/colab-badge.svg)](http://colab.research.google.com/github/linogaliana/python-datascientist/blob/master/notebooks/course/manipulation/02b_pandas_TP.ipynb)\n",
    "[![githubdev](https://open.vscode.dev/badges/open-in-vscode.svg)](https://github.dev/linogaliana/python-datascientist/notebooks/course/manipulation/02b_pandas_TP.ipynb)"
   ]
  },
  {
   "cell_type": "markdown",
   "id": "d8deafe5",
   "metadata": {},
   "source": [
    "Je recommande de se référer régulièrement aux ressources suivantes:\n",
    "\n",
    "* L'[aide officielle de pandas](https://pandas.pydata.org/docs/user_guide/index.html).\n",
    "Notamment, la\n",
    "[page de comparaison des langages](https://pandas.pydata.org/pandas-docs/stable/getting_started/comparison/index.html)\n",
    "est très utile\n",
    "* La cheatsheet suivante, [issue de ce post](https://becominghuman.ai/cheat-sheets-for-ai-neural-networks-machine-learning-deep-learning-big-data-678c51b4b463)\n",
    "\n",
    "![Cheasheet pandas](https://cdn-images-1.medium.com/max/2000/1*YhTbz8b8Svi22wNVvqzneg.jpeg)\n",
    "\n",
    "# Logique de pandas\n",
    "\n",
    "L'objet central dans la logique `pandas` est le `DataFrame`.\n",
    "Il s'agit d'une structure particulière de données\n",
    "à deux dimensions, structurées en alignant des lignes et colonnes. Les colonnes\n",
    "peuvent être de type différent.\n",
    "\n",
    "Un DataFrame est composé des éléments suivants:\n",
    "\n",
    "* l'indice de la ligne ;\n",
    "* le nom de la colonne ;\n",
    "* la valeur de la donnée ;\n",
    "\n",
    "Structuration d'un DataFrame pandas, emprunté à <https://medium.com/epfl-extension-school/selecting-data-from-a-pandas-dataframe-53917dc39953>:\n",
    "\n",
    "![](https://miro.medium.com/max/700/1*6p6nF4_5XpHgcrYRrLYVAw.png)\n",
    "\n",
    "Le concept de *tidy* data, popularisé par Hadley Wickham via ses packages `R`,\n",
    "est parfaitement pertinent pour décrire la structure d'un DataFrame pandas.\n",
    "Les trois règles sont les suivantes:\n",
    "\n",
    "* Chaque variable possède sa propre colonne\n",
    "* Chaque observation possède sa propre ligne\n",
    "* Une valeur, matérialisant la valeur d'une observation d'une variable,\n",
    "se trouve sur une unique cellule."
   ]
  },
  {
   "cell_type": "markdown",
   "id": "17387f1a",
   "metadata": {},
   "source": [
    "![Concept de tidy data (emprunté à H. Wickham)](https://d33wubrfki0l68.cloudfront.net/6f1ddb544fc5c69a2478e444ab8112fb0eea23f8/91adc/images/tidy-1.png)\n",
    "\n",
    ":warning: Les DataFrames sont assez rapides en Python[^1] et permettent de traiter en local de manière efficace des tables de\n",
    "données comportant plusieurs millions d'observations (en fonction de la configuration de l'ordinateur)\n",
    "et dont la volumétrie peut être conséquente (plusieurs centaines\n",
    "de Mo). Néanmoins,  passé un certain seuil, qui dépend de la puissance de la machine mais aussi de la complexité\n",
    "de l'opération effectuée, le DataFrame `pandas` peut montrer certaines limites. Dans ce cas, il existe différentes\n",
    "solutions: `dask` (dataframe aux opérations parallélisés), `SQL` (notamment postgres), `spark` (solution big data)\n",
    "\n",
    "[^1]:  En `R`, les deux formes de dataframes qui se sont imposées récemment sont les `tibbles` (package `dplyr`)\n",
    "et les `data.tables` (package `data.table`). `dplyr` reprend la syntaxe SQL de manière relativement\n",
    "transparente ce qui rend la syntaxe très proche de celle de `pandas`. Cependant,\n",
    "alors que `dplyr` supporte très mal les données dont la volumétrie dépasse 1Go, `pandas` s'en\n",
    "accomode bien. Les performances de `pandas` sont plus proches de celles de `data.table`, qui est\n",
    "connu pour être une approche efficace avec des données de taille importante.\n",
    "\n",
    "Concernant la syntaxe, une partie des commandes python est inspirée par la logique SQL. On retrouvera ainsi\n",
    "des instructions relativement transparentes.\n",
    "\n",
    "Il est vivement recommandé, avant de se lancer dans l'écriture d'une\n",
    "fonction, de se poser la question de son implémentation native dans `numpy`, `pandas`, etc.\n",
    "En particulier, la plupart du temps, s'il existe une solution implémentée dans une librairie, il convient\n",
    "de l'utiliser.\n",
    "\n",
    "# Les Series\n",
    "\n",
    "En fait, un DataFrame est une collection d'objets appelés `pandas.Series`.\n",
    "Ces `Series` sont des objets d'une dimension qui sont des extensions des\n",
    "array-unidimensionnels `numpy`. En particulier, pour faciliter le traitement\n",
    "de données catégorielles ou temporelles, des types de variables\n",
    "supplémentaires sont disponibles dans `pandas` par rapport à\n",
    "`numpy` (`categorical`, `datetime64` et `timedelta64`). Ces\n",
    "types sont associés à des méthodes optimisées pour faciliter le traitement\n",
    "de ces données.\n",
    "\n",
    "Il ne faut pas négliger l'attribut `dtype` d'un objet\n",
    "`pandas.Series` car cela a une influence déterminante sur les méthodes\n",
    "et fonctions pouvant être utilisées (on ne fait pas les mêmes opérations\n",
    "sur une donnée temporelle et une donnée catégorielle) et le volume en\n",
    "mémoire d'une variable (le type de la variable détermine le volume\n",
    "d'information stocké pour chaque élément ; être trop précis est parfois\n",
    "néfaste).\n",
    "\n",
    "Il existe plusieurs types possibles pour un `pandas.Series`.\n",
    "Le type `object` correspond aux types Python `str` ou `mixed`.\n",
    "Il existe un type particulier pour les variables dont le nombre de valeurs\n",
    "est une liste finie et relativement courte, le type `category`.\n",
    "Il faut bien examiner les types de son DataFrame, et convertir éventuellement\n",
    "les types lors de l'étape de `data cleaning`.\n",
    "\n",
    "### Indexation\n",
    "\n",
    "La différence essentielle entre une `Series` et un objet `numpy` est l'indexation.\n",
    "Dans `numpy`,\n",
    "l'indexation est implicite ; elle permet d'accéder à une donnée (celle à\n",
    "l'index situé à la position *i*).\n",
    "Avec une `Series`, on peut bien-sûr utiliser un indice de position mais on peut\n",
    "surtout faire appel à des indices plus explicites.\n",
    "Par exemple,\n"
   ]
  },
  {
   "cell_type": "code",
   "execution_count": null,
   "id": "06e242b9",
   "metadata": {},
   "outputs": [],
   "source": [
    "taille = pd.Series(\n",
    "    [1.,1.5,1],\n",
    "    index = ['chat', 'chien', 'koala']\n",
    ")\n",
    "\n",
    "taille.head()"
   ]
  },
  {
   "cell_type": "markdown",
   "id": "2c403196",
   "metadata": {},
   "source": [
    "```\n",
    "## chat     1.0\n",
    "## chien    1.5\n",
    "## koala    1.0\n",
    "## dtype: float64\n",
    "```"
   ]
  },
  {
   "cell_type": "markdown",
   "id": "890cc0aa",
   "metadata": {},
   "source": [
    "Cette indexation permet d'accéder à des valeurs de la `Series`\n",
    "via une valeur de l'indice. Par\n",
    "exemple, `taille['koala']`:\n"
   ]
  },
  {
   "cell_type": "code",
   "execution_count": null,
   "id": "d773cbd9",
   "metadata": {},
   "outputs": [],
   "source": [
    "taille['koala']"
   ]
  },
  {
   "cell_type": "markdown",
   "id": "be5d7f65",
   "metadata": {},
   "source": [
    "```\n",
    "## 1.0\n",
    "```\n",
    "\n",
    "L'existence d'indice rend le *subsetting* particulièrement aisé, ce que vous\n",
    "pouvez expérimenter dans les TP\n",
    "\n",
    "<a href=\"https://github.com/linogaliana/python-datascientist/blob/master/notebooks/course/manipulation/02b_pandas_TP.ipynb\" class=\"github\"><i class=\"fab fa-github\"></i></a>\n",
    "[![Download](https://img.shields.io/badge/Download-Notebook-important?logo=Jupyter)](https://downgit.github.io/#/home?url=https://github.com/linogaliana/python-datascientist/blob/master/notebooks/course/manipulation/02b_pandas_TP.ipynb)\n",
    "[![nbviewer](https://img.shields.io/badge/Visualize-nbviewer-blue?logo=Jupyter)](https://nbviewer.jupyter.org/github/linogaliana/python-datascientist/blob/master/notebooks/course/manipulation/02b_pandas_TP.ipynb)\n",
    "[![Onyxia](https://img.shields.io/badge/SSPcloud-Tester%20via%20SSP--cloud-informational&color=yellow?logo=Python)](https://datalab.sspcloud.fr/launcher/inseefrlab-helm-charts-datascience/jupyter?autoLaunch=true&onyxia.friendlyName=%C2%ABpython-datascience%C2%BB&init.personalInit=%C2%ABhttps%3A%2F%2Fraw.githubusercontent.com%2Flinogaliana%2Fpython-datascientist%2Fmaster%2Fsspcloud%2Finit-jupyter.sh%C2%BB&init.personalInitArgs=%C2%ABmanipulation%2002b_pandas_TP%C2%BB&security.allowlist.enabled=false)\n",
    "<br>\n",
    "[![Binder](https://img.shields.io/badge/Launch-Binder-E66581.svg?logo=data:image/png;base64,iVBORw0KGgoAAAANSUhEUgAAAFkAAABZCAMAAABi1XidAAAB8lBMVEX///9XmsrmZYH1olJXmsr1olJXmsrmZYH1olJXmsr1olJXmsrmZYH1olL1olJXmsr1olJXmsrmZYH1olL1olJXmsrmZYH1olJXmsr1olL1olJXmsrmZYH1olL1olJXmsrmZYH1olL1olL0nFf1olJXmsrmZYH1olJXmsq8dZb1olJXmsrmZYH1olJXmspXmspXmsr1olL1olJXmsrmZYH1olJXmsr1olL1olJXmsrmZYH1olL1olLeaIVXmsrmZYH1olL1olL1olJXmsrmZYH1olLna31Xmsr1olJXmsr1olJXmsrmZYH1olLqoVr1olJXmsr1olJXmsrmZYH1olL1olKkfaPobXvviGabgadXmsqThKuofKHmZ4Dobnr1olJXmsr1olJXmspXmsr1olJXmsrfZ4TuhWn1olL1olJXmsqBi7X1olJXmspZmslbmMhbmsdemsVfl8ZgmsNim8Jpk8F0m7R4m7F5nLB6jbh7jbiDirOEibOGnKaMhq+PnaCVg6qWg6qegKaff6WhnpKofKGtnomxeZy3noG6dZi+n3vCcpPDcpPGn3bLb4/Mb47UbIrVa4rYoGjdaIbeaIXhoWHmZYHobXvpcHjqdHXreHLroVrsfG/uhGnuh2bwj2Hxk17yl1vzmljzm1j0nlX1olL3AJXWAAAAbXRSTlMAEBAQHx8gICAuLjAwMDw9PUBAQEpQUFBXV1hgYGBkcHBwcXl8gICAgoiIkJCQlJicnJ2goKCmqK+wsLC4usDAwMjP0NDQ1NbW3Nzg4ODi5+3v8PDw8/T09PX29vb39/f5+fr7+/z8/Pz9/v7+zczCxgAABC5JREFUeAHN1ul3k0UUBvCb1CTVpmpaitAGSLSpSuKCLWpbTKNJFGlcSMAFF63iUmRccNG6gLbuxkXU66JAUef/9LSpmXnyLr3T5AO/rzl5zj137p136BISy44fKJXuGN/d19PUfYeO67Znqtf2KH33Id1psXoFdW30sPZ1sMvs2D060AHqws4FHeJojLZqnw53cmfvg+XR8mC0OEjuxrXEkX5ydeVJLVIlV0e10PXk5k7dYeHu7Cj1j+49uKg7uLU61tGLw1lq27ugQYlclHC4bgv7VQ+TAyj5Zc/UjsPvs1sd5cWryWObtvWT2EPa4rtnWW3JkpjggEpbOsPr7F7EyNewtpBIslA7p43HCsnwooXTEc3UmPmCNn5lrqTJxy6nRmcavGZVt/3Da2pD5NHvsOHJCrdc1G2r3DITpU7yic7w/7Rxnjc0kt5GC4djiv2Sz3Fb2iEZg41/ddsFDoyuYrIkmFehz0HR2thPgQqMyQYb2OtB0WxsZ3BeG3+wpRb1vzl2UYBog8FfGhttFKjtAclnZYrRo9ryG9uG/FZQU4AEg8ZE9LjGMzTmqKXPLnlWVnIlQQTvxJf8ip7VgjZjyVPrjw1te5otM7RmP7xm+sK2Gv9I8Gi++BRbEkR9EBw8zRUcKxwp73xkaLiqQb+kGduJTNHG72zcW9LoJgqQxpP3/Tj//c3yB0tqzaml05/+orHLksVO+95kX7/7qgJvnjlrfr2Ggsyx0eoy9uPzN5SPd86aXggOsEKW2Prz7du3VID3/tzs/sSRs2w7ovVHKtjrX2pd7ZMlTxAYfBAL9jiDwfLkq55Tm7ifhMlTGPyCAs7RFRhn47JnlcB9RM5T97ASuZXIcVNuUDIndpDbdsfrqsOppeXl5Y+XVKdjFCTh+zGaVuj0d9zy05PPK3QzBamxdwtTCrzyg/2Rvf2EstUjordGwa/kx9mSJLr8mLLtCW8HHGJc2R5hS219IiF6PnTusOqcMl57gm0Z8kanKMAQg0qSyuZfn7zItsbGyO9QlnxY0eCuD1XL2ys/MsrQhltE7Ug0uFOzufJFE2PxBo/YAx8XPPdDwWN0MrDRYIZF0mSMKCNHgaIVFoBbNoLJ7tEQDKxGF0kcLQimojCZopv0OkNOyWCCg9XMVAi7ARJzQdM2QUh0gmBozjc3Skg6dSBRqDGYSUOu66Zg+I2fNZs/M3/f/Grl/XnyF1Gw3VKCez0PN5IUfFLqvgUN4C0qNqYs5YhPL+aVZYDE4IpUk57oSFnJm4FyCqqOE0jhY2SMyLFoo56zyo6becOS5UVDdj7Vih0zp+tcMhwRpBeLyqtIjlJKAIZSbI8SGSF3k0pA3mR5tHuwPFoa7N7reoq2bqCsAk1HqCu5uvI1n6JuRXI+S1Mco54YmYTwcn6Aeic+kssXi8XpXC4V3t7/ADuTNKaQJdScAAAAAElFTkSuQmCC)](https://mybinder.org/v2/gh/linogaliana/python-datascientist/master?filepath=notebooks/course/manipulation/02b_pandas_TP.ipynb)\n",
    "[![Open In Colab](https://colab.research.google.com/assets/colab-badge.svg)](http://colab.research.google.com/github/linogaliana/python-datascientist/blob/master/notebooks/course/manipulation/02b_pandas_TP.ipynb)\n",
    "[![githubdev](https://open.vscode.dev/badges/open-in-vscode.svg)](https://github.dev/linogaliana/python-datascientist/notebooks/course/manipulation/02b_pandas_TP.ipynb)\n"
   ]
  },
  {
   "cell_type": "markdown",
   "id": "4e729d34",
   "metadata": {},
   "source": [
    "Pour transformer un objet `pandas.Series` en array `numpy`,\n",
    "on utilise la méthode `values`. Par exemple, `taille.values`:\n"
   ]
  },
  {
   "cell_type": "code",
   "execution_count": null,
   "id": "4ac7b069",
   "metadata": {},
   "outputs": [],
   "source": [
    "taille.values"
   ]
  },
  {
   "cell_type": "markdown",
   "id": "a3bdef06",
   "metadata": {},
   "source": [
    "```\n",
    "## array([1. , 1.5, 1. ])\n",
    "```\n",
    "\n",
    "Un avantage des `Series` par rapport à un *array* `numpy` est que\n",
    "les opérations sur les `Series` alignent\n",
    "automatiquement les données à partir des labels.\n",
    "Avec des `Series` labélisées, il n'est ainsi pas nécessaire\n",
    "de se poser la question de l'ordre des lignes.\n",
    "L'exemple dans la partie suivante permettra de s'en assurer."
   ]
  },
  {
   "cell_type": "markdown",
   "id": "77d55405",
   "metadata": {},
   "source": [
    "### Valeurs manquantes\n",
    "\n",
    "Par défaut, les valeurs manquantes sont affichées `NaN` et sont de type `np.nan` (pour\n",
    "les valeurs temporelles, i.e. de type `datatime64`, les valeurs manquantes sont\n",
    "`NaT`)."
   ]
  },
  {
   "cell_type": "markdown",
   "id": "3ec77ea6",
   "metadata": {},
   "source": [
    "<!-----\n",
    ":warning: Il faut **vraiment faire attention** aux valeurs manquantes, notamment lorsqu'on utilise les\n",
    "méthodes de statistiques descriptives présentées ultérieurement. Les règles sont les suivantes:\n",
    "\n",
    "* Dans les opérations de somme ou de moyenne d'une valeur, les valeurs manquantes\n",
    " sont traitées comme des `0`. C'est un comportement par défaut différent\n",
    " de celui de `R` où les opérations `sum`, `mean`, etc. renvoient un `NA`.\n",
    " __C'est très dangereux pour la moyenne__: la valeur n'est pas ignorée, elle est traitée comme un\n",
    " `0` (ce qui biaise la moyenne). Le paramètre crucial à changer pour\n",
    " ignorer la valeur (et non la remplacer par 0!) est `skipna` (cet argument\n",
    " permettant un comportement équivalent à `na.rm = TRUE` en `R`).\n",
    " Pour plus de détails, `help(pandas.Series.sum)`.\n",
    "* Les méthodes `cumsum` et `cumprod` ignorent les `NA` par défaut mais les préservent dans le vecteur de sortie.\n"
   ]
  },
  {
   "cell_type": "code",
   "execution_count": null,
   "id": "2d1ff4fa",
   "metadata": {},
   "outputs": [],
   "source": [
    "#x = [np.nan, np.arange(3)]\n",
    "# Pour avoir un exemple comparable à l'exemple R ci-dessous\n",
    "x = np.array([np.nan,0,1,2])\n",
    "print(x)"
   ]
  },
  {
   "cell_type": "markdown",
   "id": "e0e519b4",
   "metadata": {},
   "source": [
    "```\n",
    "## [nan  0.  1.  2.]\n",
    "```"
   ]
  },
  {
   "cell_type": "code",
   "execution_count": null,
   "id": "425d6e09",
   "metadata": {},
   "outputs": [],
   "source": [
    "np.mean(x)"
   ]
  },
  {
   "cell_type": "markdown",
   "id": "1b0ffabd",
   "metadata": {},
   "source": [
    "```\n",
    "## nan\n",
    "```\n"
   ]
  },
  {
   "cell_type": "markdown",
   "id": "f763f305",
   "metadata": {},
   "source": [
    "```r\n",
    "x <- c(NA, 1:3)\n",
    "mean(x, na.rm = TRUE)\n",
    "```\n",
    "\n",
    "```\n",
    "## [1] 2\n",
    "```"
   ]
  },
  {
   "cell_type": "markdown",
   "id": "92f31486",
   "metadata": {},
   "source": [
    "En revanche, ----->\n",
    "On a un comportement cohérent d'agrégation lorsqu'on combine deux `DataFrames` (ou deux colonnes).\n",
    "Par exemple,\n",
    "\n"
   ]
  },
  {
   "cell_type": "code",
   "execution_count": null,
   "id": "664e1777",
   "metadata": {},
   "outputs": [],
   "source": [
    "x = pd.DataFrame(\n",
    "    {'prix': np.random.uniform(size = 5),\n",
    "     'quantite': [i+1 for i in range(5)]\n",
    "    },\n",
    "    index = ['yaourt','pates','riz','tomates','gateaux']\n",
    ")\n",
    "x"
   ]
  },
  {
   "cell_type": "markdown",
   "id": "26860640",
   "metadata": {},
   "source": [
    "```\n",
    "##              prix  quantite\n",
    "## yaourt   0.696469         1\n",
    "## pates    0.286139         2\n",
    "## riz      0.226851         3\n",
    "## tomates  0.551315         4\n",
    "## gateaux  0.719469         5\n",
    "```\n"
   ]
  },
  {
   "cell_type": "code",
   "execution_count": null,
   "id": "df135818",
   "metadata": {},
   "outputs": [],
   "source": [
    "y = pd.DataFrame(\n",
    "    {'prix': [np.nan, 0, 1, 2, 3],\n",
    "     'quantite': [i+1 for i in range(5)]\n",
    "    },\n",
    "    index = ['tomates','yaourt','gateaux','pates','riz']\n",
    ")\n",
    "y"
   ]
  },
  {
   "cell_type": "markdown",
   "id": "84b48c42",
   "metadata": {},
   "source": [
    "```\n",
    "##          prix  quantite\n",
    "## tomates   NaN         1\n",
    "## yaourt    0.0         2\n",
    "## gateaux   1.0         3\n",
    "## pates     2.0         4\n",
    "## riz       3.0         5\n",
    "```\n"
   ]
  },
  {
   "cell_type": "code",
   "execution_count": null,
   "id": "14b783e5",
   "metadata": {},
   "outputs": [],
   "source": [
    "x + y"
   ]
  },
  {
   "cell_type": "markdown",
   "id": "cddfd21c",
   "metadata": {},
   "source": [
    "```\n",
    "##              prix  quantite\n",
    "## gateaux  1.719469         8\n",
    "## pates    2.286139         6\n",
    "## riz      3.226851         8\n",
    "## tomates       NaN         5\n",
    "## yaourt   0.696469         3\n",
    "```\n",
    "\n",
    "donne bien une valeur manquante pour la ligne `tomates`. Au passage, on peut remarquer que l'agrégation\n",
    "a tenu compte des index.\n",
    "\n",
    "Il est possible de supprimer les valeurs manquantes grâce à `dropna()`.\n",
    "Cette méthode va supprimer toutes les lignes où il y a au moins une valeur manquante.\n",
    "Il est aussi possible de supprimer seulement les colonnes où il y a des valeurs manquantes\n",
    "dans un DataFrame avec `dropna()` avec le paramètre `axis=1` (par défaut égal à 0).\n",
    "\n",
    "Il est également possible de remplir les valeurs manquantes grâce à la méthode `fillna()`.\n",
    "\n",
    "# Le DataFrame pandas\n",
    "\n",
    "Le `DataFrame` est l'objet central de la librairie `pandas`.\n",
    "Il s'agit d'une collection de `pandas.Series` (colonnes) alignées par les index.\n",
    "Les types des variables peuvent différer.\n",
    "\n",
    "Un DataFrame non-indexé a la structure suivante:\n",
    "\n",
    "<!-----\n",
    "Exo 1\n",
    "Aller dans la doc pandas et trouver comment créer le dataFrame pandas suivant\n",
    "------>"
   ]
  },
  {
   "cell_type": "markdown",
   "id": "1c99d60a",
   "metadata": {},
   "source": [
    "```\n",
    "##    index  taille  poids\n",
    "## 0   chat     1.0    3.0\n",
    "## 1  chien     1.5    5.0\n",
    "## 2  koala     1.0    2.5\n",
    "```\n",
    "\n",
    "Alors que le même dataframe indexé aura la structure suivante:"
   ]
  },
  {
   "cell_type": "markdown",
   "id": "d8b42f9e",
   "metadata": {},
   "source": [
    "```\n",
    "##        taille  poids\n",
    "## chat      1.0    3.0\n",
    "## chien     1.5    5.0\n",
    "## koala     1.0    2.5\n",
    "```"
   ]
  },
  {
   "cell_type": "markdown",
   "id": "b8d49e4f",
   "metadata": {},
   "source": [
    "## Les attributs et méthodes utiles\n",
    "\n",
    "Pour présenter les méthodes les plus pratiques pour l'analyse de données,\n",
    "on peut partir de l'exemple des consommations de CO2 communales issues\n",
    "des données de l'Ademe. Cette base de données est exploitée plus intensément\n",
    "dans le TP\n",
    "\n",
    "<a href=\"https://github.com/linogaliana/python-datascientist/blob/master/notebooks/course/manipulation/02b_pandas_TP.ipynb\" class=\"github\"><i class=\"fab fa-github\"></i></a>\n",
    "[![Download](https://img.shields.io/badge/Download-Notebook-important?logo=Jupyter)](https://downgit.github.io/#/home?url=https://github.com/linogaliana/python-datascientist/blob/master/notebooks/course/manipulation/02b_pandas_TP.ipynb)\n",
    "[![nbviewer](https://img.shields.io/badge/Visualize-nbviewer-blue?logo=Jupyter)](https://nbviewer.jupyter.org/github/linogaliana/python-datascientist/blob/master/notebooks/course/manipulation/02b_pandas_TP.ipynb)\n",
    "[![Onyxia](https://img.shields.io/badge/SSPcloud-Tester%20via%20SSP--cloud-informational&color=yellow?logo=Python)](https://datalab.sspcloud.fr/launcher/inseefrlab-helm-charts-datascience/jupyter?autoLaunch=true&onyxia.friendlyName=%C2%ABpython-datascience%C2%BB&init.personalInit=%C2%ABhttps%3A%2F%2Fraw.githubusercontent.com%2Flinogaliana%2Fpython-datascientist%2Fmaster%2Fsspcloud%2Finit-jupyter.sh%C2%BB&init.personalInitArgs=%C2%ABmanipulation%2002b_pandas_TP%C2%BB&security.allowlist.enabled=false)\n",
    "<br>\n",
    "[![Binder](https://img.shields.io/badge/Launch-Binder-E66581.svg?logo=data:image/png;base64,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)](https://mybinder.org/v2/gh/linogaliana/python-datascientist/master?filepath=notebooks/course/manipulation/02b_pandas_TP.ipynb)\n",
    "[![Open In Colab](https://colab.research.google.com/assets/colab-badge.svg)](http://colab.research.google.com/github/linogaliana/python-datascientist/blob/master/notebooks/course/manipulation/02b_pandas_TP.ipynb)\n",
    "[![githubdev](https://open.vscode.dev/badges/open-in-vscode.svg)](https://github.dev/linogaliana/python-datascientist/notebooks/course/manipulation/02b_pandas_TP.ipynb)\n",
    "\n"
   ]
  },
  {
   "cell_type": "code",
   "execution_count": null,
   "id": "2967bb42",
   "metadata": {},
   "outputs": [],
   "source": [
    "df = pd.read_csv(\"https://koumoul.com/s/data-fair/api/v1/datasets/igt-pouvoir-de-rechauffement-global/convert\")\n",
    "df"
   ]
  },
  {
   "cell_type": "markdown",
   "id": "07bc496a",
   "metadata": {},
   "source": [
    "```\n",
    "##       INSEE commune                  Commune  ...       Routier     Tertiaire\n",
    "## 0             01001  L'ABERGEMENT-CLEMENCIAT  ...    793.156501    367.036172\n",
    "## 1             01002    L'ABERGEMENT-DE-VAREY  ...    348.997893    112.934207\n",
    "## 2             01004        AMBERIEU-EN-BUGEY  ...  15642.420310  10732.376930\n",
    "## 3             01005      AMBERIEUX-EN-DOMBES  ...   1756.341319    782.404357\n",
    "## 4             01006                  AMBLEON  ...    398.786800     51.681756\n",
    "## ...             ...                      ...  ...           ...           ...\n",
    "## 35793         95676       VILLERS-EN-ARTHIES  ...    309.627908    235.439109\n",
    "## 35794         95678            VILLIERS-ADAM  ...  18759.370070    403.404815\n",
    "## 35795         95680          VILLIERS-LE-BEL  ...  12217.122400  13849.512000\n",
    "## 35796         95682          VILLIERS-LE-SEC  ...   4663.232127     85.657725\n",
    "## 35797         95690      WY-DIT-JOLI-VILLAGE  ...    504.400972    147.867245\n",
    "## \n",
    "## [35798 rows x 12 columns]\n",
    "```\n",
    "\n",
    "Dans un processus de production, où normalement on connait les types des variables du DataFrame qu'on va importer,\n",
    "il convient de préciser les types avec lesquels on souhaite importer les données\n",
    "(argument `dtype`, sous la forme d'un dictionnaire). Cela est particulièrement important lorsqu'on désire utiliser une colonne comme une variable textuelle mais qu'elle comporte des attributs proches d'un nombre qui vont inciter `pandas` à l'importer sous forme de variable numérique.\n",
    "\n",
    "Par exemple, une colonne `[00001,00002,...] ` risque d'être importée comme une variable numérique, ignorant l'information des premiers 0 (qui peuvent pourtant la distinguer de la séquence 1, 2, etc.). Pour s'assurer que `pandas` importe sous forme textuelle la variable, on peut utiliser `dtype = {\"code\": \"str\"}`\n",
    "Sinon, on peut importer le csv, et modifier les types avec `astype()`.\n",
    "Avec `astype`, on peut gérer les erreurs de conversion avec le paramètre `errors`.\n",
    "\n",
    "L'affichage des DataFrames est très ergonomique. On obtiendrait le même *output*\n",
    "avec `display(df)`[^2]. Les premières et dernières lignes s'affichent\n",
    "automatiquement. Autrement, on peut aussi faire:\n",
    "\n",
    "* `head` qui permet, comme son\n",
    "nom l'indique, de n'afficher que les premières lignes ;\n",
    "* `tail` qui permet, comme son\n",
    "nom l'indique, de n'afficher que les dernières lignes\n",
    "* `sample` qui permet d'afficher un échantillon aléatoire de *n* lignes.\n",
    "Cette méthode propose de nombreuses options\n",
    "\n",
    "<a href=\"https://github.com/linogaliana/python-datascientist/blob/master/notebooks/course/manipulation/02b_pandas_TP.ipynb\" class=\"github\"><i class=\"fab fa-github\"></i></a>\n",
    "[![Download](https://img.shields.io/badge/Download-Notebook-important?logo=Jupyter)](https://downgit.github.io/#/home?url=https://github.com/linogaliana/python-datascientist/blob/master/notebooks/course/manipulation/02b_pandas_TP.ipynb)\n",
    "[![nbviewer](https://img.shields.io/badge/Visualize-nbviewer-blue?logo=Jupyter)](https://nbviewer.jupyter.org/github/linogaliana/python-datascientist/blob/master/notebooks/course/manipulation/02b_pandas_TP.ipynb)\n",
    "[![Onyxia](https://img.shields.io/badge/SSPcloud-Tester%20via%20SSP--cloud-informational&color=yellow?logo=Python)](https://datalab.sspcloud.fr/launcher/inseefrlab-helm-charts-datascience/jupyter?autoLaunch=true&onyxia.friendlyName=%C2%ABpython-datascience%C2%BB&init.personalInit=%C2%ABhttps%3A%2F%2Fraw.githubusercontent.com%2Flinogaliana%2Fpython-datascientist%2Fmaster%2Fsspcloud%2Finit-jupyter.sh%C2%BB&init.personalInitArgs=%C2%ABmanipulation%2002b_pandas_TP%C2%BB&security.allowlist.enabled=false)\n",
    "<br>\n",
    "[![Binder](https://img.shields.io/badge/Launch-Binder-E66581.svg?logo=data:image/png;base64,iVBORw0KGgoAAAANSUhEUgAAAFkAAABZCAMAAABi1XidAAAB8lBMVEX///9XmsrmZYH1olJXmsr1olJXmsrmZYH1olJXmsr1olJXmsrmZYH1olL1olJXmsr1olJXmsrmZYH1olL1olJXmsrmZYH1olJXmsr1olL1olJXmsrmZYH1olL1olJXmsrmZYH1olL1olL0nFf1olJXmsrmZYH1olJXmsq8dZb1olJXmsrmZYH1olJXmspXmspXmsr1olL1olJXmsrmZYH1olJXmsr1olL1olJXmsrmZYH1olL1olLeaIVXmsrmZYH1olL1olL1olJXmsrmZYH1olLna31Xmsr1olJXmsr1olJXmsrmZYH1olLqoVr1olJXmsr1olJXmsrmZYH1olL1olKkfaPobXvviGabgadXmsqThKuofKHmZ4Dobnr1olJXmsr1olJXmspXmsr1olJXmsrfZ4TuhWn1olL1olJXmsqBi7X1olJXmspZmslbmMhbmsdemsVfl8ZgmsNim8Jpk8F0m7R4m7F5nLB6jbh7jbiDirOEibOGnKaMhq+PnaCVg6qWg6qegKaff6WhnpKofKGtnomxeZy3noG6dZi+n3vCcpPDcpPGn3bLb4/Mb47UbIrVa4rYoGjdaIbeaIXhoWHmZYHobXvpcHjqdHXreHLroVrsfG/uhGnuh2bwj2Hxk17yl1vzmljzm1j0nlX1olL3AJXWAAAAbXRSTlMAEBAQHx8gICAuLjAwMDw9PUBAQEpQUFBXV1hgYGBkcHBwcXl8gICAgoiIkJCQlJicnJ2goKCmqK+wsLC4usDAwMjP0NDQ1NbW3Nzg4ODi5+3v8PDw8/T09PX29vb39/f5+fr7+/z8/Pz9/v7+zczCxgAABC5JREFUeAHN1ul3k0UUBvCb1CTVpmpaitAGSLSpSuKCLWpbTKNJFGlcSMAFF63iUmRccNG6gLbuxkXU66JAUef/9LSpmXnyLr3T5AO/rzl5zj137p136BISy44fKJXuGN/d19PUfYeO67Znqtf2KH33Id1psXoFdW30sPZ1sMvs2D060AHqws4FHeJojLZqnw53cmfvg+XR8mC0OEjuxrXEkX5ydeVJLVIlV0e10PXk5k7dYeHu7Cj1j+49uKg7uLU61tGLw1lq27ugQYlclHC4bgv7VQ+TAyj5Zc/UjsPvs1sd5cWryWObtvWT2EPa4rtnWW3JkpjggEpbOsPr7F7EyNewtpBIslA7p43HCsnwooXTEc3UmPmCNn5lrqTJxy6nRmcavGZVt/3Da2pD5NHvsOHJCrdc1G2r3DITpU7yic7w/7Rxnjc0kt5GC4djiv2Sz3Fb2iEZg41/ddsFDoyuYrIkmFehz0HR2thPgQqMyQYb2OtB0WxsZ3BeG3+wpRb1vzl2UYBog8FfGhttFKjtAclnZYrRo9ryG9uG/FZQU4AEg8ZE9LjGMzTmqKXPLnlWVnIlQQTvxJf8ip7VgjZjyVPrjw1te5otM7RmP7xm+sK2Gv9I8Gi++BRbEkR9EBw8zRUcKxwp73xkaLiqQb+kGduJTNHG72zcW9LoJgqQxpP3/Tj//c3yB0tqzaml05/+orHLksVO+95kX7/7qgJvnjlrfr2Ggsyx0eoy9uPzN5SPd86aXggOsEKW2Prz7du3VID3/tzs/sSRs2w7ovVHKtjrX2pd7ZMlTxAYfBAL9jiDwfLkq55Tm7ifhMlTGPyCAs7RFRhn47JnlcB9RM5T97ASuZXIcVNuUDIndpDbdsfrqsOppeXl5Y+XVKdjFCTh+zGaVuj0d9zy05PPK3QzBamxdwtTCrzyg/2Rvf2EstUjordGwa/kx9mSJLr8mLLtCW8HHGJc2R5hS219IiF6PnTusOqcMl57gm0Z8kanKMAQg0qSyuZfn7zItsbGyO9QlnxY0eCuD1XL2ys/MsrQhltE7Ug0uFOzufJFE2PxBo/YAx8XPPdDwWN0MrDRYIZF0mSMKCNHgaIVFoBbNoLJ7tEQDKxGF0kcLQimojCZopv0OkNOyWCCg9XMVAi7ARJzQdM2QUh0gmBozjc3Skg6dSBRqDGYSUOu66Zg+I2fNZs/M3/f/Grl/XnyF1Gw3VKCez0PN5IUfFLqvgUN4C0qNqYs5YhPL+aVZYDE4IpUk57oSFnJm4FyCqqOE0jhY2SMyLFoo56zyo6becOS5UVDdj7Vih0zp+tcMhwRpBeLyqtIjlJKAIZSbI8SGSF3k0pA3mR5tHuwPFoa7N7reoq2bqCsAk1HqCu5uvI1n6JuRXI+S1Mco54YmYTwcn6Aeic+kssXi8XpXC4V3t7/ADuTNKaQJdScAAAAAElFTkSuQmCC)](https://mybinder.org/v2/gh/linogaliana/python-datascientist/master?filepath=notebooks/course/manipulation/02b_pandas_TP.ipynb)\n",
    "[![Open In Colab](https://colab.research.google.com/assets/colab-badge.svg)](http://colab.research.google.com/github/linogaliana/python-datascientist/blob/master/notebooks/course/manipulation/02b_pandas_TP.ipynb)\n",
    "[![githubdev](https://open.vscode.dev/badges/open-in-vscode.svg)](https://github.dev/linogaliana/python-datascientist/notebooks/course/manipulation/02b_pandas_TP.ipynb)\n",
    "\n",
    "[^2]: Il est préférable d'utiliser la fonction `display` (ou tout simplement\n",
    "taper le nom du DataFrame qu'utiliser la fonction `print`). Le\n",
    "`display` des objets `pandas` est assez esthétique, contrairement à `print`\n",
    "qui renvoie du texte brut."
   ]
  },
  {
   "cell_type": "markdown",
   "id": "e47e6864",
   "metadata": {},
   "source": [
    "Il faut faire attention au `display` et aux\n",
    "commandes qui révèlent des données (`head`, `tail`, etc.)\n",
    "dans un notebook ou un markdown qui exploite\n",
    "des données confidentielles lorsqu'on utilise `git`. En effet, on peut se\n",
    "retrouver à partager des données, involontairement, dans l'historique\n",
    "`git`. Avec un `R markdown`, il suffit d'ajouter les sorties au fichier\n",
    "`gitignore` (par exemple avec une balise de type `*.html`). Avec un\n",
    "notebook `jupyter`, la démarche est plus compliquée car les fichiers\n",
    "`.ipynb` intègrent dans le même document, texte, sorties et mise en forme.\n",
    "Techniquement, il est possible d'appliquer des filtres avec `git`\n",
    "(voir\n",
    "[ici](http://timstaley.co.uk/posts/making-git-and-jupyter-notebooks-play-nice/))\n",
    "mais c'est une démarche très complexe\n",
    "\n",
    "On pourra alors préférer convertir systématiquement les `.ipynb` en `.py` grâce\n",
    "à `jupytext` (`jupytext --to py nom_du_notebook.ipynb`) et mettre l'extension `*.ipynb`\n",
    "dans le `.gitignore` de son projet git.\n",
    "\n",
    "### Dimensions et structure du DataFrame\n",
    "\n",
    "Les premières méthodes utiles permettent d'afficher quelques\n",
    "attributs d'un DataFrame.\n"
   ]
  },
  {
   "cell_type": "code",
   "execution_count": null,
   "id": "74dd5322",
   "metadata": {},
   "outputs": [],
   "source": [
    "df.axes"
   ]
  },
  {
   "cell_type": "markdown",
   "id": "959929fb",
   "metadata": {},
   "source": [
    "```\n",
    "## [RangeIndex(start=0, stop=35798, step=1), Index(['INSEE commune', 'Commune', 'Agriculture', 'Autres transports',\n",
    "##        'Autres transports international', 'CO2 biomasse hors-total', 'Déchets',\n",
    "##        'Energie', 'Industrie hors-énergie', 'Résidentiel', 'Routier',\n",
    "##        'Tertiaire'],\n",
    "##       dtype='object')]\n",
    "```"
   ]
  },
  {
   "cell_type": "code",
   "execution_count": null,
   "id": "c3c99975",
   "metadata": {},
   "outputs": [],
   "source": [
    "df.columns"
   ]
  },
  {
   "cell_type": "markdown",
   "id": "166f81e4",
   "metadata": {},
   "source": [
    "```\n",
    "## Index(['INSEE commune', 'Commune', 'Agriculture', 'Autres transports',\n",
    "##        'Autres transports international', 'CO2 biomasse hors-total', 'Déchets',\n",
    "##        'Energie', 'Industrie hors-énergie', 'Résidentiel', 'Routier',\n",
    "##        'Tertiaire'],\n",
    "##       dtype='object')\n",
    "```"
   ]
  },
  {
   "cell_type": "code",
   "execution_count": null,
   "id": "af979a19",
   "metadata": {},
   "outputs": [],
   "source": [
    "df.index"
   ]
  },
  {
   "cell_type": "markdown",
   "id": "7b616c5e",
   "metadata": {},
   "source": [
    "```\n",
    "## RangeIndex(start=0, stop=35798, step=1)\n",
    "```\n",
    "\n",
    "Pour connaître les dimensions d'un DataFrame, on peut utiliser quelques méthodes\n",
    "pratiques:\n",
    "\n"
   ]
  },
  {
   "cell_type": "code",
   "execution_count": null,
   "id": "5e0fe511",
   "metadata": {},
   "outputs": [],
   "source": [
    "df.ndim"
   ]
  },
  {
   "cell_type": "markdown",
   "id": "4844d48f",
   "metadata": {},
   "source": [
    "```\n",
    "## 2\n",
    "```"
   ]
  },
  {
   "cell_type": "code",
   "execution_count": null,
   "id": "94306583",
   "metadata": {},
   "outputs": [],
   "source": [
    "df.shape"
   ]
  },
  {
   "cell_type": "markdown",
   "id": "e50182ca",
   "metadata": {},
   "source": [
    "```\n",
    "## (35798, 12)\n",
    "```"
   ]
  },
  {
   "cell_type": "code",
   "execution_count": null,
   "id": "18ab0660",
   "metadata": {},
   "outputs": [],
   "source": [
    "df.size"
   ]
  },
  {
   "cell_type": "markdown",
   "id": "9b185689",
   "metadata": {},
   "source": [
    "```\n",
    "## 429576\n",
    "```\n",
    "\n",
    "Pour déterminer le nombre de valeurs uniques d'une variable, plutôt que chercher à écrire soi-même une fonction,\n",
    "on utilise la\n",
    "méthode `nunique`. Par exemple,\n"
   ]
  },
  {
   "cell_type": "code",
   "execution_count": null,
   "id": "4ada8f78",
   "metadata": {},
   "outputs": [],
   "source": [
    "df['Commune'].nunique()"
   ]
  },
  {
   "cell_type": "markdown",
   "id": "902a3853",
   "metadata": {},
   "source": [
    "```\n",
    "## 33338\n",
    "```\n",
    "\n",
    "Voici un premier résumé des méthodes `pandas` utiles, et un comparatif avec `R`\n",
    "\n",
    "| Opération                     | pandas       | dplyr (`R`)    | data.table (`R`)           |\n",
    "|-------------------------------|--------------|----------------|----------------------------|\n",
    "| Récupérer le nom des colonnes | `df.columns` | `colnames(df)` | `colnames(df)`             |\n",
    "| Récupérer les indices[^3]     | `df.index`   |                |`unique(df[,get(key(df))])` |\n",
    "| Récupérer les dimensions      | `df.shape` | `c(nrow(df), ncol(df))` | `c(nrow(df), ncol(df))` |\n",
    "| Récupérer le nombre de valeurs uniques d'une variable | `df['myvar'].nunique()` | `df %>%  summarise(distinct(myvar))` | `df[,uniqueN(myvar)]` |\n",
    "\n",
    "[^3]: Le principe d'indice n'existe pas dans `dplyr`. Ce qui s'approche le plus des indices, au sens de\n",
    "`pandas`, sont les *clés* en `data.table`."
   ]
  },
  {
   "cell_type": "markdown",
   "id": "d4cf7d46",
   "metadata": {},
   "source": [
    "### Statistiques agrégées\n",
    "\n",
    "`pandas` propose une série de méthodes pour faire des statistiques\n",
    "agrégées de manière efficace.\n",
    "\n",
    "On peut, par exemple, appliquer des méthodes pour compter le nombre de lignes,\n",
    "faire une moyenne ou une somme de l'ensemble des lignes\n"
   ]
  },
  {
   "cell_type": "code",
   "execution_count": null,
   "id": "f5bed628",
   "metadata": {},
   "outputs": [],
   "source": [
    "df.count()"
   ]
  },
  {
   "cell_type": "markdown",
   "id": "f1e0636a",
   "metadata": {},
   "source": [
    "```\n",
    "## INSEE commune                      35798\n",
    "## Commune                            35798\n",
    "## Agriculture                        35736\n",
    "## Autres transports                   9979\n",
    "## Autres transports international     2891\n",
    "## CO2 biomasse hors-total            35798\n",
    "## Déchets                            35792\n",
    "## Energie                            34490\n",
    "## Industrie hors-énergie             34490\n",
    "## Résidentiel                        35792\n",
    "## Routier                            35778\n",
    "## Tertiaire                          35798\n",
    "## dtype: int64\n",
    "```"
   ]
  },
  {
   "cell_type": "code",
   "execution_count": null,
   "id": "be3219c5",
   "metadata": {},
   "outputs": [],
   "source": [
    "df.mean()"
   ]
  },
  {
   "cell_type": "markdown",
   "id": "bb2c111b",
   "metadata": {},
   "source": [
    "```\n",
    "## Agriculture                        2459.975760\n",
    "## Autres transports                   654.919940\n",
    "## Autres transports international    7692.344960\n",
    "## CO2 biomasse hors-total            1774.381550\n",
    "## Déchets                             410.806329\n",
    "## Energie                             662.569846\n",
    "## Industrie hors-énergie             2423.127789\n",
    "## Résidentiel                        1783.677872\n",
    "## Routier                            3535.501245\n",
    "## Tertiaire                          1105.165915\n",
    "## dtype: float64\n",
    "## \n",
    "## <string>:1: FutureWarning: Dropping of nuisance columns in DataFrame reductions (with 'numeric_only=None') is deprecated; in a future version this will raise TypeError.  Select only valid columns before calling the reduction.\n",
    "```"
   ]
  },
  {
   "cell_type": "code",
   "execution_count": null,
   "id": "14aa5e88",
   "metadata": {},
   "outputs": [],
   "source": [
    "df.sum()"
   ]
  },
  {
   "cell_type": "markdown",
   "id": "e8161d18",
   "metadata": {},
   "source": [
    "```\n",
    "## INSEE commune                      0100101002010040100501006010070100801009010100...\n",
    "## Commune                            L'ABERGEMENT-CLEMENCIATL'ABERGEMENT-DE-VAREYAM...\n",
    "## Agriculture                                                          87909693.748185\n",
    "## Autres transports                                                     6535446.082616\n",
    "## Autres transports international                                      22238569.279024\n",
    "## CO2 biomasse hors-total                                              63519310.715902\n",
    "## Déchets                                                              14703580.140421\n",
    "## Energie                                                              22852033.998225\n",
    "## Industrie hors-énergie                                               83573677.443527\n",
    "## Résidentiel                                                          63841398.384566\n",
    "## Routier                                                             126493163.530568\n",
    "## Tertiaire                                                            39562729.439236\n",
    "## dtype: object\n",
    "```"
   ]
  },
  {
   "cell_type": "code",
   "execution_count": null,
   "id": "3300b6c9",
   "metadata": {},
   "outputs": [],
   "source": [
    "df.nunique()"
   ]
  },
  {
   "cell_type": "markdown",
   "id": "617e596d",
   "metadata": {},
   "source": [
    "```\n",
    "## INSEE commune                      35798\n",
    "## Commune                            33338\n",
    "## Agriculture                        35576\n",
    "## Autres transports                   9963\n",
    "## Autres transports international     2883\n",
    "## CO2 biomasse hors-total            35798\n",
    "## Déchets                            11016\n",
    "## Energie                             1453\n",
    "## Industrie hors-énergie              1889\n",
    "## Résidentiel                        35791\n",
    "## Routier                            35749\n",
    "## Tertiaire                           8663\n",
    "## dtype: int64\n",
    "```"
   ]
  },
  {
   "cell_type": "code",
   "execution_count": null,
   "id": "1ce29253",
   "metadata": {},
   "outputs": [],
   "source": [
    "df.quantile(q = [0.1,0.25,0.5,0.75,0.9])"
   ]
  },
  {
   "cell_type": "markdown",
   "id": "28594ddc",
   "metadata": {},
   "source": [
    "```\n",
    "##       Agriculture  Autres transports  ...      Routier    Tertiaire\n",
    "## 0.10   382.620882          25.034578  ...   199.765410    49.289082\n",
    "## 0.25   797.682631          52.560412  ...   419.700460    94.749885\n",
    "## 0.50  1559.381286         106.795928  ...  1070.895593   216.297718\n",
    "## 0.75  3007.883903         237.341501  ...  3098.612157   576.155869\n",
    "## 0.90  5442.727470         528.349529  ...  8151.047248  1897.732565\n",
    "## \n",
    "## [5 rows x 10 columns]\n",
    "```\n",
    "\n",
    "Il faut toujours regarder les options de ces fonctions en termes de valeurs manquantes, car\n",
    "ces options sont déterminantes dans le résultat obtenu.\n",
    "\n",
    "Les exercices de TD visent à démontrer l'intérêt de ces méthodes dans quelques cas précis.\n",
    "\n",
    "<a href=\"https://github.com/linogaliana/python-datascientist/blob/master/notebooks/course/manipulation/02b_pandas_TP.ipynb\" class=\"github\"><i class=\"fab fa-github\"></i></a>\n",
    "[![Download](https://img.shields.io/badge/Download-Notebook-important?logo=Jupyter)](https://downgit.github.io/#/home?url=https://github.com/linogaliana/python-datascientist/blob/master/notebooks/course/manipulation/02b_pandas_TP.ipynb)\n",
    "[![nbviewer](https://img.shields.io/badge/Visualize-nbviewer-blue?logo=Jupyter)](https://nbviewer.jupyter.org/github/linogaliana/python-datascientist/blob/master/notebooks/course/manipulation/02b_pandas_TP.ipynb)\n",
    "[![Onyxia](https://img.shields.io/badge/SSPcloud-Tester%20via%20SSP--cloud-informational&color=yellow?logo=Python)](https://datalab.sspcloud.fr/launcher/inseefrlab-helm-charts-datascience/jupyter?autoLaunch=true&onyxia.friendlyName=%C2%ABpython-datascience%C2%BB&init.personalInit=%C2%ABhttps%3A%2F%2Fraw.githubusercontent.com%2Flinogaliana%2Fpython-datascientist%2Fmaster%2Fsspcloud%2Finit-jupyter.sh%C2%BB&init.personalInitArgs=%C2%ABmanipulation%2002b_pandas_TP%C2%BB&security.allowlist.enabled=false)\n",
    "<br>\n",
    "[![Binder](https://img.shields.io/badge/Launch-Binder-E66581.svg?logo=data:image/png;base64,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)](https://mybinder.org/v2/gh/linogaliana/python-datascientist/master?filepath=notebooks/course/manipulation/02b_pandas_TP.ipynb)\n",
    "[![Open In Colab](https://colab.research.google.com/assets/colab-badge.svg)](http://colab.research.google.com/github/linogaliana/python-datascientist/blob/master/notebooks/course/manipulation/02b_pandas_TP.ipynb)\n",
    "[![githubdev](https://open.vscode.dev/badges/open-in-vscode.svg)](https://github.dev/linogaliana/python-datascientist/notebooks/course/manipulation/02b_pandas_TP.ipynb)\n",
    "\n",
    "<!---\n",
    "Comme indiqué précédemment, il faut faire attention aux valeurs manquantes qui,\n",
    "par défaut, sont traitées comme des 0.\n",
    "Il est ainsi recommandé de systématiquement\n",
    "ajouter l'argument skipna, par exemple,\n"
   ]
  },
  {
   "cell_type": "code",
   "execution_count": null,
   "id": "34bce67f",
   "metadata": {},
   "outputs": [],
   "source": [
    "df.mean(skipna=True)"
   ]
  },
  {
   "cell_type": "markdown",
   "id": "e97844f6",
   "metadata": {},
   "source": [
    "```\n",
    "## Agriculture                        2459.975760\n",
    "## Autres transports                   654.919940\n",
    "## Autres transports international    7692.344960\n",
    "## CO2 biomasse hors-total            1774.381550\n",
    "## Déchets                             410.806329\n",
    "## Energie                             662.569846\n",
    "## Industrie hors-énergie             2423.127789\n",
    "## Résidentiel                        1783.677872\n",
    "## Routier                            3535.501245\n",
    "## Tertiaire                          1105.165915\n",
    "## dtype: float64\n",
    "## \n",
    "## <string>:1: FutureWarning: Dropping of nuisance columns in DataFrame reductions (with 'numeric_only=None') is deprecated; in a future version this will raise TypeError.  Select only valid columns before calling the reduction.\n",
    "```\n",
    "\n",
    "----->"
   ]
  },
  {
   "cell_type": "markdown",
   "id": "198d5fa9",
   "metadata": {},
   "source": [
    "Le tableau suivant récapitule le code équivalent pour avoir des\n",
    "statistiques sur toutes les colonnes d'un dataframe en `R`."
   ]
  },
  {
   "cell_type": "markdown",
   "id": "23be2291",
   "metadata": {},
   "source": [
    "| Opération                     | pandas       | dplyr (`R`)    | data.table (`R`)           |\n",
    "|-------------------------------|--------------|----------------|----------------------------|\n",
    "| Nombre de valeurs non manquantes | `df.count()`   | `df %>% summarise_each(funs(sum(!is.na(.))))` | `df[, lapply(.SD, function(x) sum(!is.na(x)))]`\n",
    "| Moyenne de toutes les variables | `df.mean()` | `df %>% summarise_each(funs(mean((., na.rm = TRUE))))` | `df[,lapply(.SD, function(x) mean(x, na.rm = TRUE))]`| TO BE CONTINUED |\n",
    "\n",
    "La méthode `describe` permet de sortir un tableau de statistiques\n",
    "agrégées:\n"
   ]
  },
  {
   "cell_type": "code",
   "execution_count": null,
   "id": "d4f5e4cb",
   "metadata": {},
   "outputs": [],
   "source": [
    "df.describe()"
   ]
  },
  {
   "cell_type": "markdown",
   "id": "bb3bce4b",
   "metadata": {},
   "source": [
    "```\n",
    "##         Agriculture  Autres transports  ...        Routier      Tertiaire\n",
    "## count  35736.000000        9979.000000  ...   35778.000000   35798.000000\n",
    "## mean    2459.975760         654.919940  ...    3535.501245    1105.165915\n",
    "## std     2926.957701        9232.816833  ...    9663.156628    5164.182507\n",
    "## min        0.003432           0.000204  ...       0.555092       0.000000\n",
    "## 25%      797.682631          52.560412  ...     419.700460      94.749885\n",
    "## 50%     1559.381286         106.795928  ...    1070.895593     216.297718\n",
    "## 75%     3007.883903         237.341501  ...    3098.612157     576.155869\n",
    "## max    98949.317760      513140.971700  ...  586054.672800  288175.400100\n",
    "## \n",
    "## [8 rows x 10 columns]\n",
    "```"
   ]
  },
  {
   "cell_type": "markdown",
   "id": "ab7fd01f",
   "metadata": {},
   "source": [
    "### Méthodes relatives aux valeurs manquantes\n",
    "\n",
    "Les méthodes relatives aux valeurs manquantes peuvent être mobilisées\n",
    "en conjonction des méthodes de statistiques agrégées. C'est utiles lorsqu'on\n",
    "désire obtenir une idée de la part de valeurs manquantes dans un jeu de\n",
    "données\n",
    "[![Binder](https://mybinder.org/badge_logo.svg)](https://mybinder.org/v2/gh/linogaliana/python-datascientist/master)\n",
    "[![Onyxia](https://img.shields.io/badge/SSPcloud-Tester%20via%20SSP--cloud-informational&color=yellow?logo=Python)](https://datalab.sspcloud.fr/launcher/inseefrlab-helm-charts-datascience/jupyter?onyxia.friendlyName=%C2%ABpython-datascientist%C2%BB&resources.requests.memory=%C2%AB4Gi%C2%BB)\n",
    "[![Open In Colab](https://colab.research.google.com/assets/colab-badge.svg)](http://colab.research.google.com/github/linogaliana/python-datascientist/blob/pandas_intro/static/notebooks/numpy.ipynb)\n",
    " ([ou depuis github](https://github.com/linogaliana/python-datascientist/blob/master/content/01_data/02_pandas_tp.ipynb))"
   ]
  },
  {
   "cell_type": "code",
   "execution_count": null,
   "id": "c9eadcf9",
   "metadata": {},
   "outputs": [],
   "source": [
    "df.isnull().sum()"
   ]
  },
  {
   "cell_type": "markdown",
   "id": "2aec30ee",
   "metadata": {},
   "source": [
    "On trouvera aussi la référence à `isna()` qui est la même méthode que `isnull()`.\n",
    "\n",
    "# Graphiques rapides\n",
    "\n",
    "Les méthodes par défaut de graphique\n",
    "(approfondies dans la [partie visualisation](#visualisation))\n",
    "sont pratiques pour\n",
    "produire rapidement un graphique, notamment après des opérations\n",
    "complexes de maniement de données.\n",
    "\n",
    "En effet, on peut appliquer la méthode `plot()` directement à une `pandas.Series`:\n"
   ]
  },
  {
   "cell_type": "code",
   "execution_count": null,
   "id": "9e14ded0",
   "metadata": {
    "lines_to_next_cell": 0
   },
   "outputs": [],
   "source": [
    "df['Déchets'].plot()\n",
    "df['Déchets'].hist()\n",
    "df['Déchets'].plot(kind = 'hist', logy = True)"
   ]
  },
  {
   "cell_type": "markdown",
   "id": "87874239",
   "metadata": {},
   "source": [
    "\n",
    "\n"
   ]
  },
  {
   "cell_type": "markdown",
   "id": "ab3884ce",
   "metadata": {},
   "source": [
    "La sortie est un objet `matplotlib`. La *customisation* de ces\n",
    "figures est ainsi\n",
    "possible (et même désirable car les graphiques `matplotlib`\n",
    "sont, par défaut, assez rudimentaires), nous en verrons quelques exemples."
   ]
  },
  {
   "cell_type": "markdown",
   "id": "6da7dd37",
   "metadata": {},
   "source": [
    "# Accéder à des éléments d'un DataFrame\n",
    "\n",
    "## Sélectionner des colonnes\n",
    "\n",
    "En SQL, effectuer des opérations sur les colonnes se fait avec la commande\n",
    "`SELECT`. Avec `pandas`,\n",
    "pour accéder à une colonne dans son ensemble on peut\n",
    "utiliser plusieurs approches:\n",
    "\n",
    "* `dataframe.variable`, par exemple `df.Energie`.\n",
    "Cette méthode requiert néanmoins d'avoir des\n",
    "noms de colonnes sans espace.\n",
    "* `dataframe[['variable']]` pour renvoyer la variable sous\n",
    "forme de `DataFrame` ou dataframe['variable'] pour\n",
    "la renvoyer sous forme de `Series`. Par exemple, `df[['Autres transports']]`\n",
    "ou `df['Autres transports']`. C'est une manière préférable de procéder.\n",
    "\n",
    "## Accéder à des lignes\n",
    "\n",
    "Pour accéder à une ou plusieurs valeurs d'un `DataFrame`,\n",
    "il existe deux manières conseillées de procéder, selon la\n",
    "forme des indices de lignes ou colonnes utilisés:\n",
    "\n",
    "* `df.loc`: use labels\n",
    "* `df.iloc`: use indices\n",
    "\n",
    "Les bouts de code utilisant la structure `df.ix`\n",
    "sont à bannir car la fonction est *deprecated* et peut\n",
    "ainsi disparaître à tout moment.\n",
    "\n",
    "`iloc` va se référer à l'indexation de 0 à *N* où *N* est égal à `df.shape[0]` d'un\n",
    "`pandas.DataFrame`. `loc` va se référer aux valeurs de l'index\n",
    "de `df`.\n",
    "\n",
    "Par exemple, si j'ai un `pandas.DataFrame` `df`:\n",
    "```\n",
    "       year  sale\n",
    "month\n",
    "1      2012    55\n",
    "4      2014    40\n",
    "7      2013    84\n",
    "10     2014    31\n",
    "```\n",
    "Alors `df.loc[1, :]` donnera la première ligne de `df` (ligne où l'indice `month` est égal à 1) tandis que\n",
    "`df.iloc[1, :]` donnera la deuxième ligne (puisque l'indexation en `Python` commence à 0)."
   ]
  },
  {
   "cell_type": "markdown",
   "id": "46bbe4f0",
   "metadata": {},
   "source": [
    "<!----\n",
    "data.loc[1:3]\n",
    "data.loc[(data.age >= 20), ['section', 'city']]\n",
    "\n",
    "data.iloc[[0,2]]\n",
    "data.iloc[[0,2],[1,3]]\n",
    "data.iloc[1:3,2:4]\n",
    "\n",
    "data.loc[(data.age >= 12), ['section']]\n",
    "------>\n",
    "\n",
    "# Principales manipulation de données\n",
    "\n",
    "L'objectif du [TP pandas](#pandasTP) est de se familiariser plus avec ces\n",
    "commandes à travers l'exemple des données des émissions de C02.\n",
    "\n",
    "Les opérations les plus fréquentes en SQL sont résumées par le tableau suivant.\n",
    "Il est utile de les connaître (beaucoup de syntaxes de maniement de données\n",
    "reprennent ces termes) car, d'une\n",
    "manière ou d'une autre, elles couvrent la plupart\n",
    "des usages de manipulation des données\n",
    "\n",
    "| Opération | SQL | pandas | dplyr (`R`) | data.table (`R`) |\n",
    "|-----|-----------|--------|-------------|------------------|\n",
    "| Sélectionner des variables par leur nom | `SELECT` | `df[['Autres transports','Energie']]` | `df %>% select(Autres transports, Energie)` | `df[, c('Autres transports','Energie')]` |\n",
    "| Sélectionner des observations selon une ou plusieurs conditions; | `FILTER` | `df[df['Agriculture']>2000]` | `df %>% filter(Agriculture>2000)` | `df[Agriculture>2000]` |\n",
    "| Trier la table selon une ou plusieurs variables | `SORT BY` | `df.sort_values(['Commune','Agriculture'])` | `df %>% arrange(Commune, Agriculture)` | `df[order(Commune, Agriculture)]` |\n",
    "| Ajouter des variables qui sont fonction d’autres variables; | `SELECT *, LOG(Agriculture) AS x FROM df` | `df['x'] = np.log(df['Agriculture'])`  |  `df %>% mutate(x = log(Agriculture))` | `df[,x := log(Agriculture)]` |\n",
    "| Effectuer une opération par groupe | `GROUP BY` | `df.groupby('Commune').mean()` | `df %>% group_by(Commune) %>% summarise(m = mean)` | `df[,mean(Commune), by = Commune]` |\n",
    "| Joindre deux bases de données (*inner join*) | `SELECT * FROM table1 INNER JOIN table2 ON table1.id = table2.x` | `table1.merge(table2, left_on = 'id', right_on = 'x')` | `table1 %>% inner_join(table2, by = c('id'='x'))` | `merge(table1, table2, by.x = 'id', by.y = 'x')` |\n",
    "\n",
    "## Opérations sur les colonnes: select, mutate, drop\n",
    "\n",
    "Les DataFrames pandas sont des objets *mutables* en langage `python`,\n",
    "c'est-à-dire qu'il est possible de faire évoluer le DataFrame au grès\n",
    "des opérations. L'opération la plus classique consiste à ajouter ou retirer\n",
    "des variables à la table de données."
   ]
  },
  {
   "cell_type": "markdown",
   "id": "00c28fc0",
   "metadata": {},
   "source": [
    "Attention au comportement de `pandas` lorsqu'on crée une duplication\n",
    "d'un DataFrame. Par défaut, `pandas` effectue une copie par référence. Dans ce\n",
    "cas, les deux objets (la copie et l'objet copié) restent reliés. Les colonnes\n",
    "crées sur l'un vont être répercutées sur l'autre. Ce comportement permet de\n",
    "limiter l'inflation en mémoire de `python`. En faisant ça, le deuxième\n",
    "objet prend le même espace mémoire que le premier. Le package `data.table`\n",
    "en  `R` adopte le même comportement, contrairement à `dplyr`.\n",
    "\n",
    "Cela peut amener à quelques surprises si ce comportement d'optimisation\n",
    "n'est pas anticipé. Si vous voulez, par sécurité, conserver intact le\n",
    "premier DataFrame, faites appel à une copie profonde (*deep copy*) en\n",
    "utilisant la méthode `copy`:\n"
   ]
  },
  {
   "cell_type": "code",
   "execution_count": null,
   "id": "556b8bb9",
   "metadata": {},
   "outputs": [],
   "source": [
    "df_new = df.copy()"
   ]
  },
  {
   "cell_type": "markdown",
   "id": "e7e90378",
   "metadata": {},
   "source": [
    "Attention toutefois, cela a un coût mémoire. Avec des données volumineuses, c'est une pratique à utiliser avec précaution"
   ]
  },
  {
   "cell_type": "markdown",
   "id": "bd0265cf",
   "metadata": {},
   "source": [
    "La manière la plus simple d'opérer pour ajouter des colonnes est\n",
    "d'utiliser la réassignation. Par exemple, pour créer une variable\n",
    "`x` qui est le `log` de la\n",
    "variable `Agriculture`:\n"
   ]
  },
  {
   "cell_type": "code",
   "execution_count": null,
   "id": "35aa8348",
   "metadata": {},
   "outputs": [],
   "source": [
    "df_new['x'] = np.log(df_new['Agriculture'])"
   ]
  },
  {
   "cell_type": "markdown",
   "id": "56ebc57e",
   "metadata": {},
   "source": [
    "Il est possible d'appliquer cette approche sur plusieurs colonnes. Un des\n",
    "intérêts de cette approche est qu'elle permet de recycler le nom de colonnes.\n"
   ]
  },
  {
   "cell_type": "code",
   "execution_count": null,
   "id": "b256bb8d",
   "metadata": {},
   "outputs": [],
   "source": [
    "vars = ['Agriculture', 'Déchets', 'Energie']\n",
    "\n",
    "df_new[[v + \"_log\" for v in vars]] = np.log(df_new[vars])\n",
    "df_new"
   ]
  },
  {
   "cell_type": "markdown",
   "id": "43476722",
   "metadata": {},
   "source": [
    "```\n",
    "##       INSEE commune                  Commune  ...  Déchets_log  Energie_log\n",
    "## 0             01001  L'ABERGEMENT-CLEMENCIAT  ...     4.619374     0.856353\n",
    "## 1             01002    L'ABERGEMENT-DE-VAREY  ...     4.946455     0.856353\n",
    "## 2             01004        AMBERIEU-EN-BUGEY  ...     8.578159     6.906086\n",
    "## 3             01005      AMBERIEUX-EN-DOMBES  ...     5.376285     4.545232\n",
    "## 4             01006                  AMBLEON  ...     3.879532          NaN\n",
    "## ...             ...                      ...  ...          ...          ...\n",
    "## 35793         95676       VILLERS-EN-ARTHIES  ...     4.175366     2.465791\n",
    "## 35794         95678            VILLIERS-ADAM  ...     4.713854     0.856353\n",
    "## 35795         95680          VILLIERS-LE-BEL  ...     5.418865     6.281303\n",
    "## 35796         95682          VILLIERS-LE-SEC  ...     4.691070     0.856353\n",
    "## 35797         95690      WY-DIT-JOLI-VILLAGE  ...     4.582194     1.549500\n",
    "## \n",
    "## [35798 rows x 16 columns]\n",
    "```\n",
    "\n",
    "Il est également possible d'utiliser la méthode `assign`. Pour des opérations\n",
    "vectorisées, comme le sont les opérateurs de `numpy`, cela n'a pas d'intérêt.\n",
    "\n",
    "Cela permet notamment d'enchainer les opérations sur un même `DataFrame` (notamment grâce au `pipe` que\n",
    "nous verrons plus loin).\n",
    "Cette approche utilise généralement\n",
    "des *lambda functions*. Par exemple le code précédent (celui concernant une\n",
    " seule variable) prendrait la forme:\n",
    "\n"
   ]
  },
  {
   "cell_type": "code",
   "execution_count": null,
   "id": "85818b41",
   "metadata": {},
   "outputs": [],
   "source": [
    "df_new.assign(Energie_log = lambda x: np.log(x['Energie']))"
   ]
  },
  {
   "cell_type": "markdown",
   "id": "e2b0a60e",
   "metadata": {},
   "source": [
    "```\n",
    "##       INSEE commune                  Commune  ...  Déchets_log  Energie_log\n",
    "## 0             01001  L'ABERGEMENT-CLEMENCIAT  ...     4.619374     0.856353\n",
    "## 1             01002    L'ABERGEMENT-DE-VAREY  ...     4.946455     0.856353\n",
    "## 2             01004        AMBERIEU-EN-BUGEY  ...     8.578159     6.906086\n",
    "## 3             01005      AMBERIEUX-EN-DOMBES  ...     5.376285     4.545232\n",
    "## 4             01006                  AMBLEON  ...     3.879532          NaN\n",
    "## ...             ...                      ...  ...          ...          ...\n",
    "## 35793         95676       VILLERS-EN-ARTHIES  ...     4.175366     2.465791\n",
    "## 35794         95678            VILLIERS-ADAM  ...     4.713854     0.856353\n",
    "## 35795         95680          VILLIERS-LE-BEL  ...     5.418865     6.281303\n",
    "## 35796         95682          VILLIERS-LE-SEC  ...     4.691070     0.856353\n",
    "## 35797         95690      WY-DIT-JOLI-VILLAGE  ...     4.582194     1.549500\n",
    "## \n",
    "## [35798 rows x 16 columns]\n",
    "```\n",
    "\n",
    "Dans les méthodes suivantes, il est possible de modifier le `pandas.DataFrame`\n",
    "*en place*, c'est à dire en ne le réassignant pas, avec le paramètre `inplace = True`.\n",
    "Par défaut, `inplace` est égal à False et pour modifier le `pandas.DataFrame`,\n",
    "il convient de le réassigner.\n",
    "\n",
    "On peut facilement renommer des variables avec la méthode `rename` qui\n",
    "fonctionne bien avec des dictionnaires (pour renommer des colonnes il faut\n",
    "préciser le paramètre `axis = 1`):\n"
   ]
  },
  {
   "cell_type": "code",
   "execution_count": null,
   "id": "a97953ae",
   "metadata": {},
   "outputs": [],
   "source": [
    "df_new = df_new.rename({\"Energie\": \"eneg\", \"Agriculture\": \"agr\"}, axis=1)"
   ]
  },
  {
   "cell_type": "markdown",
   "id": "957b5850",
   "metadata": {},
   "source": [
    "Enfin, pour effacer des colonnes, on utilise la méthode `drop` avec l'argument\n",
    "`columns`:\n"
   ]
  },
  {
   "cell_type": "code",
   "execution_count": null,
   "id": "7365c3ec",
   "metadata": {},
   "outputs": [],
   "source": [
    "df_new = df_new.drop(columns = [\"eneg\", \"agr\"])"
   ]
  },
  {
   "cell_type": "markdown",
   "id": "514db4a3",
   "metadata": {},
   "source": [
    "## Réordonner\n",
    "\n",
    "La méthode `sort_values` permet de réordonner un `DataFrame`. Par exemple,\n",
    "si on désire classer par ordre décroissant de consommation de CO2 du secteur\n",
    "résidentiel, on fera\n"
   ]
  },
  {
   "cell_type": "code",
   "execution_count": null,
   "id": "91547f93",
   "metadata": {},
   "outputs": [],
   "source": [
    "df = df.sort_values(\"Résidentiel\", ascending = False)"
   ]
  },
  {
   "cell_type": "markdown",
   "id": "291ff227",
   "metadata": {},
   "source": [
    "Ainsi, en une ligne de code, on identifie les villes où le secteur\n",
    "résidentiel consomme le plus."
   ]
  },
  {
   "cell_type": "markdown",
   "id": "bc643965",
   "metadata": {},
   "source": [
    "## Filtrer\n",
    "\n",
    "L'opération de sélection de lignes s'appelle `FILTER` en SQL. Elle s'utilise\n",
    "en fonction d'une condition logique (clause `WHERE`). On sélectionne les\n",
    "données sur une condition logique. Il existe plusieurs méthodes en `pandas`.\n",
    "\n",
    "La plus simple est d'utiliser les *boolean mask*, déjà vus dans le chapitre\n",
    "[`numpy`](#numpy)\n",
    "\n",
    "Par exemple, pour sélectionner les communes dans les Hauts-de-Seine, on\n",
    "peut utiliser le résultat de la méthode `str.startswith` (qui renvoie\n",
    "`True` ou `False`) directement dans les crochets:\n"
   ]
  },
  {
   "cell_type": "code",
   "execution_count": null,
   "id": "b48d849f",
   "metadata": {},
   "outputs": [],
   "source": [
    "df[df['INSEE commune'].str.startswith(\"92\")].head(2)"
   ]
  },
  {
   "cell_type": "markdown",
   "id": "470b586f",
   "metadata": {},
   "source": [
    "```\n",
    "##       INSEE commune               Commune  ...      Routier    Tertiaire\n",
    "## 35494         92012  BOULOGNE-BILLANCOURT  ...  64985.28090  60349.10948\n",
    "## 35501         92025              COLOMBES  ...  52070.92794  41526.60087\n",
    "## \n",
    "## [2 rows x 12 columns]\n",
    "```\n",
    "\n",
    "Pour remplacer des valeurs spécifiques, on utilise la méthode `where` ou une\n",
    "réassignation couplée à la méthode précédente.\n",
    "\n",
    "Par exemple, pour assigner des valeurs manquantes aux départements du 92,\n",
    "on peut faire cela\n"
   ]
  },
  {
   "cell_type": "code",
   "execution_count": null,
   "id": "09c42f65",
   "metadata": {},
   "outputs": [],
   "source": [
    "df_copy = df.copy()\n",
    "df_copy = df_copy.where(~df['INSEE commune'].str.startswith(\"92\"))"
   ]
  },
  {
   "cell_type": "markdown",
   "id": "4bc22722",
   "metadata": {},
   "source": [
    "et vérifier les résultats:\n"
   ]
  },
  {
   "cell_type": "code",
   "execution_count": null,
   "id": "c97d7bfd",
   "metadata": {},
   "outputs": [],
   "source": [
    "df_copy[df['INSEE commune'].str.startswith(\"92\")].head(2)"
   ]
  },
  {
   "cell_type": "markdown",
   "id": "8b5f1bbc",
   "metadata": {},
   "source": [
    "```\n",
    "##       INSEE commune Commune  Agriculture  ...  Résidentiel  Routier  Tertiaire\n",
    "## 35494           NaN     NaN          NaN  ...          NaN      NaN        NaN\n",
    "## 35501           NaN     NaN          NaN  ...          NaN      NaN        NaN\n",
    "## \n",
    "## [2 rows x 12 columns]\n",
    "```"
   ]
  },
  {
   "cell_type": "code",
   "execution_count": null,
   "id": "9d3ddafe",
   "metadata": {},
   "outputs": [],
   "source": [
    "df_copy[~df['INSEE commune'].str.startswith(\"92\")].head(2)"
   ]
  },
  {
   "cell_type": "markdown",
   "id": "b4e2b0dd",
   "metadata": {},
   "source": [
    "```\n",
    "##       INSEE commune   Commune  ...      Routier    Tertiaire\n",
    "## 12167         31555  TOULOUSE  ...  586054.6728  288175.4001\n",
    "## 16774         44109    NANTES  ...  221068.6327  173447.5828\n",
    "## \n",
    "## [2 rows x 12 columns]\n",
    "```\n",
    "\n",
    "ou alors utiliser une réassignation plus classique:\n"
   ]
  },
  {
   "cell_type": "code",
   "execution_count": null,
   "id": "d4476f94",
   "metadata": {},
   "outputs": [],
   "source": [
    "df_copy = df.copy()\n",
    "df_copy[df_copy['INSEE commune'].str.startswith(\"92\")] = np.nan"
   ]
  },
  {
   "cell_type": "markdown",
   "id": "cbeb3401",
   "metadata": {},
   "source": [
    "Il est conseillé de filtrer avec `loc` en utilisant un masque.\n",
    "En effet, contrairement à `df[mask]`, `df.loc[mask, :]` permet d'indiquer clairement\n",
    "à Python que l'on souhaite appliquer le masque aux labels de l'index.\n",
    "Ce n'est pas le cas avec `df[mask]`. D'ailleurs, lorsqu'on utilise la syntaxe `df[mask]`, `pandas` renvoie généralement un *warning*\n",
    "\n",
    "## Opérations par groupe\n",
    "\n",
    "En SQL, il est très simple de découper des données pour\n",
    "effectuer des opérations sur des blocs cohérents et recollecter des résultats\n",
    "dans la dimension appropriée.\n",
    "La logique sous-jacente est celle du *split-apply-combine* qui est repris\n",
    "par les langages de manipulation de données, auxquels `pandas`\n",
    "[ne fait pas exception](https://pandas.pydata.org/pandas-docs/stable/user_guide/groupby.html).\n",
    "\n",
    "L'image suivante, issue de\n",
    "[ce site](https://unlhcc.github.io/r-novice-gapminder/16-plyr/)\n",
    "représente bien la manière dont fonctionne l'approche\n",
    "`split`-`apply`-`combine`\n",
    "\n",
    "![Split-apply-combine](https://unlhcc.github.io/r-novice-gapminder/fig/12-plyr-fig1.png)"
   ]
  },
  {
   "cell_type": "markdown",
   "id": "3373618d",
   "metadata": {},
   "source": [
    "Ce [tutoriel](https://realpython.com/pandas-groupby/) sur le sujet\n",
    "est particulièrement utile.\n",
    "\n",
    "Pour donner quelques exemples, on peut créer une variable départementale qui\n",
    "servira de critère de groupe.\n"
   ]
  },
  {
   "cell_type": "code",
   "execution_count": null,
   "id": "949f54fa",
   "metadata": {},
   "outputs": [],
   "source": [
    "df['dep'] = df['INSEE commune'].str[:2]"
   ]
  },
  {
   "cell_type": "markdown",
   "id": "0262e40a",
   "metadata": {},
   "source": [
    "En `pandas`, on utilise `groupby` pour découper les données selon un ou\n",
    "plusieurs axes. Techniquement, cette opération consiste à créer une association\n",
    "entre des labels (valeurs des variables de groupe) et des\n",
    "observations.\n",
    "\n",
    "Par exemple, pour compter le nombre de communes par département en SQL, on\n",
    "utiliserait la requête suivante:"
   ]
  },
  {
   "cell_type": "code",
   "execution_count": null,
   "id": "c9f63e5a",
   "metadata": {},
   "outputs": [],
   "source": [
    "%%sql\n",
    "SELECT dep, count(INSEE commune)\n",
    "FROM df\n",
    "GROUP BY dep;"
   ]
  },
  {
   "cell_type": "markdown",
   "id": "0047a060",
   "metadata": {},
   "source": [
    "Ce qui, en `pandas`, donne:\n"
   ]
  },
  {
   "cell_type": "code",
   "execution_count": null,
   "id": "92567f37",
   "metadata": {},
   "outputs": [],
   "source": [
    "df.groupby('dep')[\"INSEE commune\"].count()"
   ]
  },
  {
   "cell_type": "markdown",
   "id": "dee8ac0f",
   "metadata": {},
   "source": [
    "```\n",
    "## dep\n",
    "## 01    410\n",
    "## 02    805\n",
    "## 03    318\n",
    "## 04    199\n",
    "## 05    168\n",
    "##      ... \n",
    "## 91    196\n",
    "## 92     36\n",
    "## 93     40\n",
    "## 94     47\n",
    "## 95    185\n",
    "## Name: INSEE commune, Length: 96, dtype: int64\n",
    "```\n",
    "\n",
    "La syntaxe est quasiment transparente. On peut bien-sûr effectuer des opérations\n",
    "par groupe sur plusieurs colonnes. Par exemple,\n"
   ]
  },
  {
   "cell_type": "code",
   "execution_count": null,
   "id": "3d20d52f",
   "metadata": {},
   "outputs": [],
   "source": [
    "df.groupby('dep').mean()"
   ]
  },
  {
   "cell_type": "markdown",
   "id": "a2bd8add",
   "metadata": {},
   "source": [
    "```\n",
    "##      Agriculture  Autres transports  ...       Routier     Tertiaire\n",
    "## dep                                  ...                            \n",
    "## 01   1974.535382         100.307344  ...   3988.658995   1021.089078\n",
    "## 02   1585.417729         202.878748  ...   1722.240298    403.744266\n",
    "## 03   6132.029417         240.076499  ...   3662.773062    705.937016\n",
    "## 04   1825.455590         177.321816  ...   1962.654370    493.609329\n",
    "## 05   1847.508592         141.272767  ...   2071.010178    463.604908\n",
    "## ..           ...                ...  ...           ...           ...\n",
    "## 91    802.793163       10114.998156  ...  10578.452789   3866.757199\n",
    "## 92      8.309835         362.964554  ...  33289.456629  23222.587594\n",
    "## 93     50.461775        1753.443710  ...  35818.236459  21575.444795\n",
    "## 94     48.072971        5474.808841  ...  24881.531613  16247.876321\n",
    "## 95    609.172047         682.143912  ...   8325.948748   4014.985843\n",
    "## \n",
    "## [96 rows x 10 columns]\n",
    "```\n",
    "\n",
    "A noter que la variable de groupe, ici `dep`, devient, par défaut, l'index\n",
    "du DataFrame de sortie. Si on avait utilisé plusieurs variables de groupe,\n",
    "on obtiendrait un objet multi-indexé. Sur la gestion des `multiindex`, on\n",
    "pourra se référer à la référence de `Modern pandas` donnée en fin de cours.\n",
    "\n",
    "Tant qu'on n'appelle pas une action sur un DataFrame par groupe, du type\n",
    "`head` ou `display`, `pandas` n'effectue aucune opération. On parle de\n",
    "*lazy evaluation*. Par exemple, le résultat de `df.groupby('dep')` est\n",
    "une transformation qui n'est pas encore évaluée:\n"
   ]
  },
  {
   "cell_type": "code",
   "execution_count": null,
   "id": "b860372e",
   "metadata": {},
   "outputs": [],
   "source": [
    "df.groupby('dep')"
   ]
  },
  {
   "cell_type": "markdown",
   "id": "1dd3618d",
   "metadata": {},
   "source": [
    "```\n",
    "## <pandas.core.groupby.generic.DataFrameGroupBy object at 0x7effc3fee760>\n",
    "```\n",
    "\n",
    "Il est possible d'appliquer plus d'une opération à la fois grâce à la méthode\n",
    "`agg`. Par exemple, pour obtenir à la fois le minimum, la médiane et le maximum\n",
    "de chaque département, on peut faire:\n"
   ]
  },
  {
   "cell_type": "code",
   "execution_count": null,
   "id": "c25f85ac",
   "metadata": {},
   "outputs": [],
   "source": [
    "df.groupby('dep').agg(['min',\"median\",\"max\"])"
   ]
  },
  {
   "cell_type": "markdown",
   "id": "d041ebf6",
   "metadata": {},
   "source": [
    "```\n",
    "##     Agriculture               ...     Tertiaire             \n",
    "##             min       median  ...        median          max\n",
    "## dep                           ...                           \n",
    "## 01     0.003432  1304.519570  ...    401.490676  30847.36686\n",
    "## 02     0.391926  1205.725078  ...    130.639994  34159.34575\n",
    "## 03     5.041238  5382.194339  ...    191.892445  31099.77288\n",
    "## 04    30.985972  1404.752852  ...    122.504902  16478.02481\n",
    "## 05    38.651727  1520.896526  ...    151.695524  23666.23590\n",
    "## ..          ...          ...  ...           ...          ...\n",
    "## 91     0.400740   516.908303  ...   1428.426303  38296.20473\n",
    "## 92     0.073468     6.505185  ...  18086.633085  65043.36450\n",
    "## 93     3.308495     3.308495  ...  20864.923340  71918.16398\n",
    "## 94     1.781885     1.781885  ...  14054.223450  58528.62348\n",
    "## 95     8.779506   445.279844  ...    725.467969  61497.82148\n",
    "## \n",
    "## [96 rows x 30 columns]\n",
    "## \n",
    "## <string>:1: FutureWarning: ['INSEE commune', 'Commune'] did not aggregate successfully. If any error is raised this will raise in a future version of pandas. Drop these columns/ops to avoid this warning.\n",
    "```\n",
    "\n",
    "## Appliquer des fonctions\n",
    "\n",
    "`pandas` est, comme on a pu le voir, un package très flexible, qui\n",
    "propose une grande variété de méthodes optimisées. Cependant, il est fréquent\n",
    "d'avoir besoin de méthodes non implémentées.\n",
    "\n",
    "Dans ce cas, on recourt souvent aux `lambda` functions. Par exemple, si\n",
    "on désire connaître les communes dont le nom fait plus de 10 caractères,\n",
    "on peut appliquer la fonction `len` de manière itérative:\n"
   ]
  },
  {
   "cell_type": "code",
   "execution_count": null,
   "id": "52e267c5",
   "metadata": {},
   "outputs": [],
   "source": [
    "# Noms de communes superieurs à 10 caracteres\n",
    "df[df['Commune'].apply(lambda s: len(s)>40)]"
   ]
  },
  {
   "cell_type": "markdown",
   "id": "4eade1ff",
   "metadata": {},
   "source": [
    "```\n",
    "##       INSEE commune  ... dep\n",
    "## 28082         70058  ...  70\n",
    "## 4984          14621  ...  14\n",
    "## 19276         51513  ...  51\n",
    "## 5402          16053  ...  16\n",
    "## \n",
    "## [4 rows x 13 columns]\n",
    "```"
   ]
  },
  {
   "cell_type": "markdown",
   "id": "3da06c8c",
   "metadata": {},
   "source": [
    "Cependant, toutes les `lambda` functions ne se justifient pas.\n",
    "Par exemple, prenons\n",
    "le résultat d'agrégation précédent. Imaginons qu'on désire avoir les résultats\n",
    "en milliers de tonnes. Dans ce cas, le premier réflexe est d'utiliser\n",
    "la `lambda` function suivante:\n"
   ]
  },
  {
   "cell_type": "code",
   "execution_count": null,
   "id": "ece248d2",
   "metadata": {},
   "outputs": [],
   "source": [
    "df.groupby('dep').agg(['min',\"median\",\"max\"]).apply(lambda s: s/1000)"
   ]
  },
  {
   "cell_type": "markdown",
   "id": "03f4437c",
   "metadata": {},
   "source": [
    "```\n",
    "##     Agriculture                       ... Tertiaire                      \n",
    "##             min    median        max  ...       min     median        max\n",
    "## dep                                   ...                                \n",
    "## 01     0.000003  1.304520  14.402057  ...  0.010049   0.401491  30.847367\n",
    "## 02     0.000392  1.205725  13.257717  ...  0.006221   0.130640  34.159346\n",
    "## 03     0.005041  5.382194  24.912249  ...  0.017706   0.191892  31.099773\n",
    "## 04     0.030986  1.404753  11.423536  ...  0.000957   0.122505  16.478025\n",
    "## 05     0.038652  1.520897  13.143466  ...  0.004785   0.151696  23.666236\n",
    "## ..          ...       ...        ...  ...       ...        ...        ...\n",
    "## 91     0.000401  0.516908   5.965349  ...  0.036369   1.428426  38.296205\n",
    "## 92     0.000073  0.006505   0.032986  ...  0.800589  18.086633  65.043365\n",
    "## 93     0.003308  0.003308   1.362352  ...  2.257371  20.864923  71.918164\n",
    "## 94     0.001782  0.001782   0.556939  ...  1.190116  14.054223  58.528623\n",
    "## 95     0.008780  0.445280   2.987287  ...  0.011485   0.725468  61.497821\n",
    "## \n",
    "## [96 rows x 30 columns]\n",
    "## \n",
    "## <string>:1: FutureWarning: ['INSEE commune', 'Commune'] did not aggregate successfully. If any error is raised this will raise in a future version of pandas. Drop these columns/ops to avoid this warning.\n",
    "```\n",
    "\n",
    "En effet, cela effectue le résultat désiré. Cependant, il y a mieux: utiliser\n",
    "la méthode `div`:\n"
   ]
  },
  {
   "cell_type": "code",
   "execution_count": null,
   "id": "10f46133",
   "metadata": {},
   "outputs": [],
   "source": [
    "import timeit\n",
    "%timeit df.groupby('dep').agg(['min',\"median\",\"max\"]).div(1000)\n",
    "%timeit df.groupby('dep').agg(['min',\"median\",\"max\"]).apply(lambda s: s/1000)"
   ]
  },
  {
   "cell_type": "markdown",
   "id": "517b2813",
   "metadata": {},
   "source": [
    "La méthode `div` est en moyenne plus rapide et a un temps d'exécution\n",
    "moins variable. Dans ce cas, on pourrait même utiliser le principe\n",
    "du *broadcasting* de numpy (cf. [chapitre numpy](numpy)) qui offre\n",
    "des performances équivalentes:\n",
    "\n"
   ]
  },
  {
   "cell_type": "code",
   "execution_count": null,
   "id": "9a9acbbc",
   "metadata": {},
   "outputs": [],
   "source": [
    "%timeit df.groupby('dep').agg(['min',\"median\",\"max\"])/1000"
   ]
  },
  {
   "cell_type": "markdown",
   "id": "3dd8d58e",
   "metadata": {},
   "source": [
    "`apply` est plus rapide qu'une boucle (en interne, `apply` utilise `Cython`\n",
    "pour itérer) mais reste moins rapide qu'une solution vectorisée quand\n",
    "elle existe. Ce [site](https://realpython.com/fast-flexible-pandas/#pandas-apply)\n",
    "propose des solutions, par exemple les méthodes `isin` ou `digitize`, pour\n",
    "éviter de manuellement créer des boucles lentes.\n",
    "\n",
    "En particulier, il faut noter que `apply` avec le paramètre `axis=1` est en générale lente.\n",
    "\n",
    "## Joindre"
   ]
  },
  {
   "cell_type": "markdown",
   "id": "525f50d9",
   "metadata": {},
   "source": [
    "Il est commun de devoir combiner des données issues de sources différentes.\n",
    "Nous allons ici nous focaliser sur le cas le plus favorable qui est la situation\n",
    "où une information permet d'apparier de manière exacte deux bases de données (autrement nous\n",
    "serions dans une situation, beaucoup plus complexe, d'appariement flou).\n",
    "\n",
    "La situation typique est l'appariement entre deux sources de données selon un identifiant\n",
    "individuel. Ici, il s'agit d'un identifiant de code commune.\n",
    "\n",
    "Il est recommandé de lire [ce guide assez complet sur la question des jointures avec R](https://www.book.utilitr.org/jointures.html) qui donne des recommandations également utiles en `python`.\n",
    "\n",
    "On utilise de manière indifférente les termes *merge* ou *join*.\n",
    "Le deuxième terme provient de la syntaxe SQL.\n",
    "En `pandas`, dans la plupart des cas, on peut utiliser indifféremment `df.join` et `df.merge`"
   ]
  },
  {
   "cell_type": "markdown",
   "id": "04603190",
   "metadata": {},
   "source": [
    "Il est aussi possible de réaliser un merge en utilisant la fonction `pandas.concat()` avec `axis=1`.\n",
    "Se référer à la documentation de `concat` pour voir les options possibles."
   ]
  },
  {
   "cell_type": "markdown",
   "id": "e4a5f659",
   "metadata": {},
   "source": [
    "## Reshape\n",
    "\n",
    "On présente généralement deux types de données:\n",
    "\n",
    "* format __wide__: les données comportent des observations répétées, pour un même individu (ou groupe), dans des colonnes différentes\n",
    "* format __long__: les données comportent des observations répétées, pour un même individu, dans des lignes différentes avec une colonne permettant de distinguer les niveaux d'observations\n",
    "\n",
    "Un exemple de la distinction entre les deux peut être pris à l'ouvrage de référence d'Hadley Wickham, *R for Data Science*:\n",
    "\n",
    "![](https://d33wubrfki0l68.cloudfront.net/3aea19108d39606bbe49981acda07696c0c7fcd8/2de65/images/tidy-9.png)"
   ]
  },
  {
   "cell_type": "markdown",
   "id": "e8529c92",
   "metadata": {},
   "source": [
    "L'aide mémoire suivante aidera à se rappeler les fonctions à appliquer si besoin:"
   ]
  },
  {
   "cell_type": "markdown",
   "id": "df3e5fe8",
   "metadata": {},
   "source": [
    "Le fait de passer d'un format *wide* au format *long* (ou vice-versa) peut être extrêmement pratique car\n",
    "certaines fonctions sont plus adéquates sur une forme de données ou sur l'autre.\n",
    "En règle générale, avec `python` comme avec `R`, les formats *long* sont souvent préférables.\n",
    "\n",
    "Le TP pandas proposera des applications de ces principes\n",
    "\n",
    "<a href=\"https://github.com/linogaliana/python-datascientist/blob/master/notebooks/course/manipulation/02b_pandas_TP.ipynb\" class=\"github\"><i class=\"fab fa-github\"></i></a>\n",
    "[![Download](https://img.shields.io/badge/Download-Notebook-important?logo=Jupyter)](https://downgit.github.io/#/home?url=https://github.com/linogaliana/python-datascientist/blob/master/notebooks/course/manipulation/02b_pandas_TP.ipynb)\n",
    "[![nbviewer](https://img.shields.io/badge/Visualize-nbviewer-blue?logo=Jupyter)](https://nbviewer.jupyter.org/github/linogaliana/python-datascientist/blob/master/notebooks/course/manipulation/02b_pandas_TP.ipynb)\n",
    "[![Onyxia](https://img.shields.io/badge/SSPcloud-Tester%20via%20SSP--cloud-informational&color=yellow?logo=Python)](https://datalab.sspcloud.fr/launcher/inseefrlab-helm-charts-datascience/jupyter?autoLaunch=true&onyxia.friendlyName=%C2%ABpython-datascience%C2%BB&init.personalInit=%C2%ABhttps%3A%2F%2Fraw.githubusercontent.com%2Flinogaliana%2Fpython-datascientist%2Fmaster%2Fsspcloud%2Finit-jupyter.sh%C2%BB&init.personalInitArgs=%C2%ABmanipulation%2002b_pandas_TP%C2%BB&security.allowlist.enabled=false)\n",
    "<br>\n",
    "[![Binder](https://img.shields.io/badge/Launch-Binder-E66581.svg?logo=data:image/png;base64,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)](https://mybinder.org/v2/gh/linogaliana/python-datascientist/master?filepath=notebooks/course/manipulation/02b_pandas_TP.ipynb)\n",
    "[![Open In Colab](https://colab.research.google.com/assets/colab-badge.svg)](http://colab.research.google.com/github/linogaliana/python-datascientist/blob/master/notebooks/course/manipulation/02b_pandas_TP.ipynb)\n",
    "[![githubdev](https://open.vscode.dev/badges/open-in-vscode.svg)](https://github.dev/linogaliana/python-datascientist/notebooks/course/manipulation/02b_pandas_TP.ipynb)\n",
    "\n",
    "## Les pipe\n",
    "\n",
    "En général, dans un projet, le nettoyage de données va consister en un ensemble de\n",
    "méthodes appliquées à un `pandas.DataFrame`.\n",
    "On a vu que `assign` permettait de créer une variable dans un DataFrame.\n",
    "Il est également possible d'appliquer une fonction, appelée par exemple `my_udf` au\n",
    "DataFrame grâce à `pipe`:\n",
    "```\n",
    "df = (pd.read_csv(path2data)\n",
    "            .pipe(my_udf))\n",
    "```\n",
    "\n",
    "# Quelques enjeux de performance\n",
    "\n",
    "La librairie `dask` intègre la structure de `numpy`, `pandas` et `sklearn`.\n",
    "Elle a vocation à traiter de données en grande dimension, ainsi elle ne sera pas\n",
    "optimale pour des données qui tiennent très bien en RAM.\n",
    "Il s'agit d'une librairie construite sur la parallélisation.\n",
    "Pour aller plus loin, se référer à la [documentation de `dask`](https://docs.dask.org/en/latest/)."
   ]
  },
  {
   "cell_type": "markdown",
   "id": "6d6f76b4",
   "metadata": {},
   "source": [
    "# Références\n",
    "\n",
    "* Le site\n",
    "[pandas.pydata](https://pandas.pydata.org/pandas-docs/stable/user_guide/basics.html)\n",
    "fait office de référence\n",
    "\n",
    "# Annexe {#annexe}\n",
    "\n",
    "## Téléchargement de `pynsee` avec barre de progrès\n",
    "\n",
    "Ce code vient du [package `pynsee`](https://github.com/InseeFrLab/Py-Insee-Data/blob/master/pynsee/download/__init__.py)...\n"
   ]
  },
  {
   "cell_type": "code",
   "execution_count": null,
   "id": "70e6b332",
   "metadata": {
    "lines_to_next_cell": 0
   },
   "outputs": [],
   "source": [
    "import warnings\n",
    "import os\n",
    "import requests\n",
    "import zipfile\n",
    "from pathlib import Path\n",
    "from shutil import copyfile, copyfileobj\n",
    "\n",
    "# import tqdm.auto as tqdma\n",
    "from tqdm import tqdm\n",
    "from tqdm.utils import CallbackIOWrapper\n",
    "\n",
    "\n",
    "def download_pb(url: str, fname: str, total: int = None):\n",
    "    \"\"\"Useful function to get request with a progress bar\n",
    "    Borrowed from https://gist.github.com/yanqd0/c13ed29e29432e3cf3e7c38467f42f51\n",
    "    Arguments:\n",
    "        url {str} -- URL for the source file\n",
    "        fname {str} -- Destination where data will be written\n",
    "    \"\"\"\n",
    "    resp = requests.get(url, stream=True)\n",
    "\n",
    "    if total is None:\n",
    "        total = int(resp.headers.get('content-length', 0))\n",
    "\n",
    "    with open(fname, 'wb') as file, tqdm(\n",
    "            desc='Downloading: ',\n",
    "            total=total,\n",
    "            unit='iB',\n",
    "            unit_scale=True,\n",
    "            unit_divisor=1024,\n",
    "    ) as bar:\n",
    "        for data in resp.iter_content(chunk_size=1024):\n",
    "            size = file.write(data)\n",
    "            bar.update(size)\n",
    "\n",
    "\n",
    "def unzip_pb(fzip, dest, desc=\"Extracting\"):\n",
    "    \"\"\"\n",
    "    Useful function to unzip with progress bar\n",
    "    Args:\n",
    "        fzip: Filename of the zipped file\n",
    "        dest: Destination where data must be written\n",
    "        desc: Argument inherited from zipfile.ZipFile\n",
    "    Returns:\n",
    "        zipfile.Zipfile(fzip).extractall(dest) with progress\n",
    "    \"\"\"\n",
    "\n",
    "    dest = Path(dest).expanduser()\n",
    "    Path(dest).mkdir(parents=True, exist_ok=True)\n",
    "\n",
    "    with zipfile.ZipFile(fzip) as zipf, tqdm(\n",
    "            desc=desc, unit=\"B\", unit_scale=True, unit_divisor=1024,\n",
    "            total=sum(getattr(i, \"file_size\", 0) for i in zipf.infolist()),\n",
    "    ) as pbar:\n",
    "        for i in zipf.infolist():\n",
    "            if not getattr(i, \"file_size\", 0):  # directory\n",
    "                zipf.extract(i, os.fspath(dest))\n",
    "            else:\n",
    "                with zipf.open(i) as fi, open(os.fspath(dest / i.filename), \"wb\") as fo:\n",
    "                    copyfileobj(CallbackIOWrapper(pbar.update, fi), fo)\n",
    "\n",
    "\n",
    "download_pb('https://github.com/InseeFrLab/Py-Insee-Data/archive/refs/heads/master.zip', 'pynsee.zip')\n",
    "\n",
    "unzip_pb(\"pynsee.zip\", \"pynsee\")"
   ]
  },
  {
   "cell_type": "markdown",
   "id": "c4a37890",
   "metadata": {},
   "source": []
  }
 ],
 "metadata": {
  "kernelspec": {
   "display_name": "Python 3",
   "language": "python",
   "name": "python3"
  }
 },
 "nbformat": 4,
 "nbformat_minor": 5
}
