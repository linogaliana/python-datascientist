{
 "cells": [
  {
   "cell_type": "markdown",
   "id": "a75c6421",
   "metadata": {},
   "source": [
    "#  Requêter via des API avec Python\n",
    "\n",
    "\n"
   ]
  },
  {
   "cell_type": "markdown",
   "id": "3b71a355",
   "metadata": {},
   "source": [
    "<a href=\"https://github.com/linogaliana/python-datascientist/blob/master//__w/python-datascientist/python-datascientist/notebooks/course/manipulation/04c_API_TP.ipynb\" class=\"github\"><i class=\"fab fa-github\"></i></a>\n",
    "[![Download](https://img.shields.io/badge/Download-Notebook-important?logo=Jupyter)](https://downgit.github.io/#/home?url=https://github.com/linogaliana/python-datascientist/blob/master//__w/python-datascientist/python-datascientist/notebooks/course/manipulation/04c_API_TP.ipynb)\n",
    "[![nbviewer](https://img.shields.io/badge/Visualize-nbviewer-blue?logo=Jupyter)](https://nbviewer.jupyter.org/github/linogaliana/python-datascientist/blob/master//__w/python-datascientist/python-datascientist/notebooks/course/manipulation/04c_API_TP.ipynb)\n",
    "[![Onyxia](https://img.shields.io/badge/SSPcloud-Tester%20via%20SSP--cloud-informational&color=yellow?logo=Python)](https://datalab.sspcloud.fr/launcher/inseefrlab-helm-charts-datascience/jupyter?onyxia.friendlyName=«python-datascientist»&resources.requests.memory=«4Gi»&security.allowlist.enabled=false&init.personalInit=«https://raw.githubusercontent.com/linogaliana/python-datascientist/master/init_onyxia.sh»)\n",
    "[![Binder](https://img.shields.io/badge/Launch-Binder-E66581.svg?logo=data:image/png;base64,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)](https://mybinder.org/v2/gh/linogaliana/python-datascientist/master?filepath=/__w/python-datascientist/python-datascientist/notebooks/course/manipulation/04c_API_TP.ipynb)\n",
    "[![Open In Colab](https://colab.research.google.com/assets/colab-badge.svg)](http://colab.research.google.com/github/linogaliana/python-datascientist/blob/master//__w/python-datascientist/python-datascientist/notebooks/course/manipulation/04c_API_TP.ipynb)\n",
    "\n",
    "# Introduction : Qu'est-ce qu'une API ?  \n",
    "\n",
    "## Définition\n",
    "\n",
    "Pour expliquer le principe d'une API, je vais reprendre le début de \n",
    "la fiche dédiée dans la documentation collaborative\n",
    "[utilitR](https://www.book.utilitr.org/api.html) que je recommande de lire :\n",
    "\n",
    "> Une *Application Programming Interface* (ou API) est une interface de programmation qui permet d’utiliser une application existante pour restituer des données. Le terme d’API peut être paraître intimidant, mais il s’agit simplement d’une façon de mettre à disposition des données : plutôt que de laisser l’utilisateur consulter directement des bases de données (souvent volumineuses et complexes), l’API lui propose de formuler une requête qui est traitée par le serveur hébergeant la base de données, puis de recevoir des données en réponse à sa requête.\n",
    "> \n",
    "> D’un point de vue informatique, une API est une porte d’entrée clairement identifiée par laquelle un logiciel offre des services à d’autres logiciels (ou utilisateurs). L’objectif d’une API est de fournir un point d’accès à une fonctionnalité qui soit facile à utiliser et qui masque les détails de la mise en oeuvre. Par exemple, l’API Sirene permet de récupérer la raison sociale d’une entreprise à partir de son identifiant Siren en interrogeant le référentiel disponible sur Internet directement depuis un script R, sans avoir à connaître tous les détails du répertoire Sirene.\n",
    ">\n",
    "> À l’Insee comme ailleurs, la connexion entre les bases de données pour les nouveaux projets tend à se réaliser par des API. L’accès à des données par des API devient ainsi de plus en plus commun et est amené à devenir une compétence de base de tout utilisateur de données.\n",
    ">\n",
    "> [utilitR](https://www.book.utilitr.org/api.html)\n",
    "\n",
    "## Avantages des API\n",
    "\n",
    "A nouveau, citons la documentation [utilitR](https://www.book.utilitr.org/api.html)\n",
    "\n",
    "Les API présentent de multiples avantages :\n",
    "\n",
    "> * Les API rendent les programmes plus reproductibles. En effet, grâce aux API, il est possible de mettre à jour facilement les données utilisées par un programme si celles-ci évoluent. Cette flexibilité accrue pour l’utilisateur évite au producteur de données d’avoir à réaliser de multiples extractions, et réduit le problème de la coexistence de versions différentes des données.\n",
    "> * Grâce aux API, l’utilisateur peut extraire facilement une petite partie d’une base de données plus conséquente.\n",
    "> * Les API permettent de mettre à disposition des données tout en limitant le nombre de personnes ayant accès aux bases de données elles-mêmes.\n",
    "> * Grâce aux API, il est possible de proposer des services sur mesure pour les utilisateurs (par exemple, un accès spécifique pour les gros utilisateurs).\n",
    ">\n",
    "> [utilitR](https://www.book.utilitr.org/api.html)\n",
    "\n",
    "## Utilisation des API\n",
    "\n",
    "Citons encore une fois\n",
    "la documentation [utilitR](https://www.book.utilitr.org/api.html)\n",
    "\n",
    "> Une API peut souvent être utilisée de deux façons : par une interface Web, et par l’intermédiaire d’un logiciel (R, Python…). Par ailleurs, les API peuvent être proposées avec un niveau de liberté variable pour l’utilisateur :\n",
    "> \n",
    "> * soit en libre accès (l’utilisation n’est pas contrôlée et l’utilisateur peut utiliser le service comme bon lui semble) ;\n",
    "> * soit via la génération d’un compte et d’un jeton d’accès qui permettent de sécuriser l’utilisation de l’API et de limiter le nombre de requêtes.\n",
    ">\n",
    "> [utilitR](https://www.book.utilitr.org/api.html)\n",
    "\n",
    "De nombreuses API nécessitent une authentification, c'est-à-dire un \n",
    "compte utilisateur afin de pouvoir accéder aux données. \n",
    "Dans un premier temps, \n",
    "nous regarderons exclusivement les API ouvertes sans restriction d'accès.  \n",
    "Certains exercices et exemples permettront néanmoins d'essayer des API\n",
    "avec restrictions d'accès. \n",
    "\n",
    "# Requêter une API\n",
    "\n",
    "## Principe général\n",
    "\n",
    "> L’utilisation de l’interface Web est utile dans une démarche exploratoire mais trouve rapidement ses limites, notamment lorsqu’on consulte régulièrement l’API. L’utilisateur va rapidement se rendre compte qu’il est beaucoup plus commode d’utiliser une API via un logiciel de traitement pour automatiser la consultation ou pour réaliser du téléchargement de masse. De plus, l’interface Web n’existe pas systématiquement pour toutes les API.\n",
    "> \n",
    "> Le mode principal de consultation d’une API consiste à adresser une requête à cette API via un logiciel adapté (R, Python, Java…). Comme pour l’utilisation d’une fonction, l’appel d’une API comprend des paramètres qui sont détaillées dans la documentation de l’API. \n",
    ">\n",
    "> [utilitR](https://www.book.utilitr.org/api.html)"
   ]
  },
  {
   "cell_type": "markdown",
   "id": "352c2ac0",
   "metadata": {},
   "source": [
    "Voici les éléments importants à avoir en tête sur les requêtes (j'emprunte encore\n",
    "à [`utilitR`](https://www.book.utilitr.org/api.html)):\n",
    "\n",
    "* Le __point d’entrée__ d’un service offert par une API se présente sous la forme d’une URL (adresse web). Chaque service proposé par une API a sa propre URL. Par exemple, dans le cas de l’OpenFood Facts,\n",
    "l'URL à utiliser pour obtenir des informations sur un produit particulier (l'identifiant `737628064502`) estg https://world.openfoodfacts.org/api/v0/product/737628064502.json\n",
    "* Cette URL doit être complétée avec différents paramètres qui précisent la requête (par exemple l’identifiant Siren). Ces paramètres viennent s’ajouter à l’URL, souvent à la suite de `?`. Chaque service proposé par une API a ses propres paramètres, détaillés dans la documentation. \n",
    "* Lorsque l’utilisateur soumet sa requête, l’API lui renvoie une réponse structurée contenant l’ensemble des informations demandées. Le résultat envoyé par une API est majoritairement aux formats JSON ou XML (deux formats dans lesquels les informations sont hiérarchisées de manière emboitée). Plus rarement, certains services proposent une information sous forme plate (de type csv).\n",
    "* Du fait de la dimension hiérarchique des formats JSON ou XML, le résultat n’est pas toujours facile à récupérer mais\n",
    "`python` propose d'excellents outils pour cela (meilleurs que ceux de `R`). Certains packages, notamment `json`, facilitent l’extraction de champs d’une sortie d’API. Dans certains cas, des packages spécifiques à une API ont été créés pour simplifier l’écriture d’une requête ou la récupération du résultat. Par exemple, le package\n",
    "[pynsee](https://github.com/InseeFrLab/Py-Insee-Data/tree/master/pynsee)\n",
    "propose des options qui seront retranscrites automatiquement dans l'URL de \n",
    "requête pour faciliter le travail sur les données Insee. "
   ]
  },
  {
   "cell_type": "markdown",
   "id": "871fe8ca",
   "metadata": {},
   "source": [
    "## Exemple avec l'API de la Banque Mondiale\n",
    "\n",
    "Avec l'API de la Banque mondiale, voici comme s'écrit une requête : \n",
    "\n",
    "> http://api.worldbank.org/v2/countries?incomeLevel=LMC\n",
    "\n",
    "1. Le point d'entrée est l'URL <http://api.worldbank.org/v2>\n",
    "2. Un filtre est appliqué sur les pays (`countries?`) afin de ne conserver\n",
    "que celles telles que `incomeLevel=LMC` (*\"Lower middle income\"*)\n",
    "\n",
    "En cliquant sur le lien, le site renvoie des données en XML,\n",
    "qui ressemblent pas mal à ce qu'on a vu plus tôt avec le scraping : une structure avec des balises qui s'ouvrent et qui se ferment."
   ]
  },
  {
   "cell_type": "markdown",
   "id": "1af6cfc7",
   "metadata": {},
   "source": [
    "Pour obtenir la même information en `Python`, il faut revenir aux fondamentaux : on va avoir besoin du module `requests`. Suivant les API, nous avons soit besoin de rien de plus si nous parvenons directement à obtenir un json, soit devoir utiliser un *parser* comme `BeautifulSoup` dans le cas contraire. \n",
    "\n",
    "Avec l'API de la banque mondiale, on va utiliser le module `requests` et sa méthode `get` : on lui donne l'url de l'API qui nous intéresse, on lui demande d'en faire un json et le tour est en apparence joué\n"
   ]
  },
  {
   "cell_type": "code",
   "execution_count": null,
   "id": "a584e0b5",
   "metadata": {},
   "outputs": [],
   "source": [
    "import requests\n",
    "r = requests.get('http://api.worldbank.org/v2/countries?incomeLevel=LMC')\n",
    "r.content"
   ]
  },
  {
   "cell_type": "markdown",
   "id": "e34a001e",
   "metadata": {},
   "source": [
    "b'\\xef\\xbb\\xbf<?xml version=\"1.0\" encoding=\"utf-8\"?>\\r\\n<wb:countries page=\"1\" pages=\"2\" per_page=\"50\" total=\"55\" xmlns:wb=\"http://www.worldbank.org\">\\r\\n  <wb:country id=\"AGO\">\\r\\n    <wb:iso2Code>AO</wb:iso2Code>\\r\\n    <wb:name>Angola</wb:name>\\r\\n    <wb:region id=\"SSF\" iso2code=\"ZG\">Sub-Saharan Africa </wb:region>\\r\\n    <wb:adminregion id=\"SSA\" iso2code=\"ZF\">Sub-Saharan Africa (excluding high income)</wb:adminregion>\\r\\n    <wb:incomeLevel id=\"LMC\" iso2code=\"XN\">Lower middle income</wb:incomeLevel>\\r\\n    <wb:lendingType id=\"IBD\" iso2code=\"XF\">IBRD</wb:lendingType>\\r\\n    <wb:capitalCity>Luanda</wb:capitalCity>\\r\\n    <wb:longitude>13.242</wb:longitude>\\r\\n    <wb:latitude>-8.81155</wb:latitude>\\r\\n  </wb:country>\\r\\n  <wb:country id=\"BEN\">\\r\\n    <wb:iso2Code>BJ</wb:iso2Code>\\r\\n    <wb:name>Benin</wb:name>\\r\\n    <wb:region id=\"SSF\" iso2code=\"ZG\">Sub-Saharan Africa </wb:region>\\r\\n    <wb:adminregion id=\"SSA\" iso2code=\"ZF\">Sub-Saharan Africa (excluding high income)</wb:adminregion>\\r\\n    <wb:incomeLevel id=\"LMC\" iso2code=\"XN\">Lower middle income</wb:incomeLevel>\\r\\n    <wb:lendingType id=\"IDX\" iso2code=\"XI\">IDA</wb:lendingType>\\r\\n    <wb:capitalCity>Porto-Novo</wb:capitalCity>\\r\\n    <wb:longitude>2.6323</wb:longitude>\\r\\n    <wb:latitude>6.4779</wb:latitude>\\r\\n  </wb:country>\\r\\n  <wb:country id=\"BGD\">\\r\\n    <wb:iso2Code>BD</wb:iso2Code>\\r\\n    <wb:name>Bangladesh</wb:name>\\r\\n    <wb:region id=\"SAS\" iso2code=\"8S\">South Asia</wb:region>\\r\\n    <wb:adminregion id=\"SAS\" iso2code=\"8S\">South Asia</wb:adminregion>\\r\\n    <wb:incomeLevel id=\"LMC\" iso2code=\"XN\">Lower middle income</wb:incomeLevel>\\r\\n    <wb:lendingType id=\"IDX\" iso2code=\"XI\">IDA</wb:lendingType>\\r\\n    <wb:capitalCity>Dhaka</wb:capitalCity>\\r\\n    <wb:longitude>90.4113</wb:longitude>\\r\\n    <wb:latitude>23.7055</wb:latitude>\\r\\n  </wb:country>\\r\\n  <wb:country id=\"BLZ\">\\r\\n    <wb:iso2Code>BZ</wb:iso2Code>\\r\\n    <wb:name>Belize</wb:name>\\r\\n    <wb:region id=\"LCN\" iso2code=\"ZJ\">Latin America &amp; Caribbean </wb:region>\\r\\n    <wb:adminregion id=\"LAC\" iso2code=\"XJ\">Latin America &amp; Caribbean (excluding high income)</wb:adminregion>\\r\\n    <wb:incomeLevel id=\"LMC\" iso2code=\"XN\">Lower middle income</wb:incomeLevel>\\r\\n    <wb:lendingType id=\"IBD\" iso2code=\"XF\">IBRD</wb:lendingType>\\r\\n    <wb:capitalCity>Belmopan</wb:capitalCity>\\r\\n    <wb:longitude>-88.7713</wb:longitude>\\r\\n    <wb:latitude>17.2534</wb:latitude>\\r\\n  </wb:country>\\r\\n  <wb:country id=\"BOL\">\\r\\n    <wb:iso2Code>BO</wb:iso2Code>\\r\\n    <wb:name>Bolivia</wb:name>\\r\\n    <wb:region id=\"LCN\" iso2code=\"ZJ\">Latin America &amp; Caribbean </wb:region>\\r\\n    <wb:adminregion id=\"LAC\" iso2code=\"XJ\">Latin America &amp; Caribbean (excluding high income)</wb:adminregion>\\r\\n    <wb:incomeLevel id=\"LMC\" iso2code=\"XN\">Lower middle income</wb:incomeLevel>\\r\\n    <wb:lendingType id=\"IBD\" iso2code=\"XF\">IBRD</wb:lendingType>\\r\\n    <wb:capitalCity>La Paz</wb:capitalCity>\\r\\n    <wb:longitude>-66.1936</wb:longitude>\\r\\n    <wb:latitude>-13.9908</wb:latitude>\\r\\n  </wb:country>\\r\\n  <wb:country id=\"BTN\">\\r\\n    <wb:iso2Code>BT</wb:iso2Code>\\r\\n    <wb:name>Bhutan</wb:name>\\r\\n    <wb:region id=\"SAS\" iso2code=\"8S\">South Asia</wb:region>\\r\\n    <wb:adminregion id=\"SAS\" iso2code=\"8S\">South Asia</wb:adminregion>\\r\\n    <wb:incomeLevel id=\"LMC\" iso2code=\"XN\">Lower middle income</wb:incomeLevel>\\r\\n    <wb:lendingType id=\"IDX\" iso2code=\"XI\">IDA</wb:lendingType>\\r\\n    <wb:capitalCity>Thimphu</wb:capitalCity>\\r\\n    <wb:longitude>89.6177</wb:longitude>\\r\\n    <wb:latitude>27.5768</wb:latitude>\\r\\n  </wb:country>\\r\\n  <wb:country id=\"CIV\">\\r\\n    <wb:iso2Code>CI</wb:iso2Code>\\r\\n    <wb:name>Cote d\\'Ivoire</wb:name>\\r\\n    <wb:region id=\"SSF\" iso2code=\"ZG\">Sub-Saharan Africa </wb:region>\\r\\n    <wb:adminregion id=\"SSA\" iso2code=\"ZF\">Sub-Saharan Africa (excluding high income)</wb:adminregion>\\r\\n    <wb:incomeLevel id=\"LMC\" iso2code=\"XN\">Lower middle income</wb:incomeLevel>\\r\\n    <wb:lendingType id=\"IDX\" iso2code=\"XI\">IDA</wb:lendingType>\\r\\n    <wb:capitalCity>Yamoussoukro</wb:capitalCity>\\r\\n    <wb:longitude>-4.0305</wb:longitude>\\r\\n    <wb:latitude>5.332</wb:latitude>\\r\\n  </wb:country>\\r\\n  <wb:country id=\"CMR\">\\r\\n    <wb:iso2Code>CM</wb:iso2Code>\\r\\n    <wb:name>Cameroon</wb:name>\\r\\n    <wb:region id=\"SSF\" iso2code=\"ZG\">Sub-Saharan Africa </wb:region>\\r\\n    <wb:adminregion id=\"SSA\" iso2code=\"ZF\">Sub-Saharan Africa (excluding high income)</wb:adminregion>\\r\\n    <wb:incomeLevel id=\"LMC\" iso2code=\"XN\">Lower middle income</wb:incomeLevel>\\r\\n    <wb:lendingType id=\"IDB\" iso2code=\"XH\">Blend</wb:lendingType>\\r\\n    <wb:capitalCity>Yaounde</wb:capitalCity>\\r\\n    <wb:longitude>11.5174</wb:longitude>\\r\\n    <wb:latitude>3.8721</wb:latitude>\\r\\n  </wb:country>\\r\\n  <wb:country id=\"COG\">\\r\\n    <wb:iso2Code>CG</wb:iso2Code>\\r\\n    <wb:name>Congo, Rep.</wb:name>\\r\\n    <wb:region id=\"SSF\" iso2code=\"ZG\">Sub-Saharan Africa </wb:region>\\r\\n    <wb:adminregion id=\"SSA\" iso2code=\"ZF\">Sub-Saharan Africa (excluding high income)</wb:adminregion>\\r\\n    <wb:incomeLevel id=\"LMC\" iso2code=\"XN\">Lower middle income</wb:incomeLevel>\\r\\n    <wb:lendingType id=\"IDB\" iso2code=\"XH\">Blend</wb:lendingType>\\r\\n    <wb:capitalCity>Brazzaville</wb:capitalCity>\\r\\n    <wb:longitude>15.2662</wb:longitude>\\r\\n    <wb:latitude>-4.2767</wb:latitude>\\r\\n  </wb:country>\\r\\n  <wb:country id=\"COM\">\\r\\n    <wb:iso2Code>KM</wb:iso2Code>\\r\\n    <wb:name>Comoros</wb:name>\\r\\n    <wb:region id=\"SSF\" iso2code=\"ZG\">Sub-Saharan Africa </wb:region>\\r\\n    <wb:adminregion id=\"SSA\" iso2code=\"ZF\">Sub-Saharan Africa (excluding high income)</wb:adminregion>\\r\\n    <wb:incomeLevel id=\"LMC\" iso2code=\"XN\">Lower middle income</wb:incomeLevel>\\r\\n    <wb:lendingType id=\"IDX\" iso2code=\"XI\">IDA</wb:lendingType>\\r\\n    <wb:capitalCity>Moroni</wb:capitalCity>\\r\\n    <wb:longitude>43.2418</wb:longitude>\\r\\n    <wb:latitude>-11.6986</wb:latitude>\\r\\n  </wb:country>\\r\\n  <wb:country id=\"CPV\">\\r\\n    <wb:iso2Code>CV</wb:iso2Code>\\r\\n    <wb:name>Cabo Verde</wb:name>\\r\\n    <wb:region id=\"SSF\" iso2code=\"ZG\">Sub-Saharan Africa </wb:region>\\r\\n    <wb:adminregion id=\"SSA\" iso2code=\"ZF\">Sub-Saharan Africa (excluding high income)</wb:adminregion>\\r\\n    <wb:incomeLevel id=\"LMC\" iso2code=\"XN\">Lower middle income</wb:incomeLevel>\\r\\n    <wb:lendingType id=\"IDB\" iso2code=\"XH\">Blend</wb:lendingType>\\r\\n    <wb:capitalCity>Praia</wb:capitalCity>\\r\\n    <wb:longitude>-23.5087</wb:longitude>\\r\\n    <wb:latitude>14.9218</wb:latitude>\\r\\n  </wb:country>\\r\\n  <wb:country id=\"DJI\">\\r\\n    <wb:iso2Code>DJ</wb:iso2Code>\\r\\n    <wb:name>Djibouti</wb:name>\\r\\n    <wb:region id=\"MEA\" iso2code=\"ZQ\">Middle East &amp; North Africa</wb:region>\\r\\n    <wb:adminregion id=\"MNA\" iso2code=\"XQ\">Middle East &amp; North Africa (excluding high income)</wb:adminregion>\\r\\n    <wb:incomeLevel id=\"LMC\" iso2code=\"XN\">Lower middle income</wb:incomeLevel>\\r\\n    <wb:lendingType id=\"IDX\" iso2code=\"XI\">IDA</wb:lendingType>\\r\\n    <wb:capitalCity>Djibouti</wb:capitalCity>\\r\\n    <wb:longitude>43.1425</wb:longitude>\\r\\n    <wb:latitude>11.5806</wb:latitude>\\r\\n  </wb:country>\\r\\n  <wb:country id=\"DZA\">\\r\\n    <wb:iso2Code>DZ</wb:iso2Code>\\r\\n    <wb:name>Algeria</wb:name>\\r\\n    <wb:region id=\"MEA\" iso2code=\"ZQ\">Middle East &amp; North Africa</wb:region>\\r\\n    <wb:adminregion id=\"MNA\" iso2code=\"XQ\">Middle East &amp; North Africa (excluding high income)</wb:adminregion>\\r\\n    <wb:incomeLevel id=\"LMC\" iso2code=\"XN\">Lower middle income</wb:incomeLevel>\\r\\n    <wb:lendingType id=\"IBD\" iso2code=\"XF\">IBRD</wb:lendingType>\\r\\n    <wb:capitalCity>Algiers</wb:capitalCity>\\r\\n    <wb:longitude>3.05097</wb:longitude>\\r\\n    <wb:latitude>36.7397</wb:latitude>\\r\\n  </wb:country>\\r\\n  <wb:country id=\"EGY\">\\r\\n    <wb:iso2Code>EG</wb:iso2Code>\\r\\n    <wb:name>Egypt, Arab Rep.</wb:name>\\r\\n    <wb:region id=\"MEA\" iso2code=\"ZQ\">Middle East &amp; North Africa</wb:region>\\r\\n    <wb:adminregion id=\"MNA\" iso2code=\"XQ\">Middle East &amp; North Africa (excluding high income)</wb:adminregion>\\r\\n    <wb:incomeLevel id=\"LMC\" iso2code=\"XN\">Lower middle income</wb:incomeLevel>\\r\\n    <wb:lendingType id=\"IBD\" iso2code=\"XF\">IBRD</wb:lendingType>\\r\\n    <wb:capitalCity>Cairo</wb:capitalCity>\\r\\n    <wb:longitude>31.2461</wb:longitude>\\r\\n    <wb:latitude>30.0982</wb:latitude>\\r\\n  </wb:country>\\r\\n  <wb:country id=\"FSM\">\\r\\n    <wb:iso2Code>FM</wb:iso2Code>\\r\\n    <wb:name>Micronesia, Fed. Sts.</wb:name>\\r\\n    <wb:region id=\"EAS\" iso2code=\"Z4\">East Asia &amp; Pacific</wb:region>\\r\\n    <wb:adminregion id=\"EAP\" iso2code=\"4E\">East Asia &amp; Pacific (excluding high income)</wb:adminregion>\\r\\n    <wb:incomeLevel id=\"LMC\" iso2code=\"XN\">Lower middle income</wb:incomeLevel>\\r\\n    <wb:lendingType id=\"IDX\" iso2code=\"XI\">IDA</wb:lendingType>\\r\\n    <wb:capitalCity>Palikir</wb:capitalCity>\\r\\n    <wb:longitude>158.185</wb:longitude>\\r\\n    <wb:latitude>6.91771</wb:latitude>\\r\\n  </wb:country>\\r\\n  <wb:country id=\"GHA\">\\r\\n    <wb:iso2Code>GH</wb:iso2Code>\\r\\n    <wb:name>Ghana</wb:name>\\r\\n    <wb:region id=\"SSF\" iso2code=\"ZG\">Sub-Saharan Africa </wb:region>\\r\\n    <wb:adminregion id=\"SSA\" iso2code=\"ZF\">Sub-Saharan Africa (excluding high income)</wb:adminregion>\\r\\n    <wb:incomeLevel id=\"LMC\" iso2code=\"XN\">Lower middle income</wb:incomeLevel>\\r\\n    <wb:lendingType id=\"IDX\" iso2code=\"XI\">IDA</wb:lendingType>\\r\\n    <wb:capitalCity>Accra</wb:capitalCity>\\r\\n    <wb:longitude>-0.20795</wb:longitude>\\r\\n    <wb:latitude>5.57045</wb:latitude>\\r\\n  </wb:country>\\r\\n  <wb:country id=\"HND\">\\r\\n    <wb:iso2Code>HN</wb:iso2Code>\\r\\n    <wb:name>Honduras</wb:name>\\r\\n    <wb:region id=\"LCN\" iso2code=\"ZJ\">Latin America &amp; Caribbean </wb:region>\\r\\n    <wb:adminregion id=\"LAC\" iso2code=\"XJ\">Latin America &amp; Caribbean (excluding high income)</wb:adminregion>\\r\\n    <wb:incomeLevel id=\"LMC\" iso2code=\"XN\">Lower middle income</wb:incomeLevel>\\r\\n    <wb:lendingType id=\"IDX\" iso2code=\"XI\">IDA</wb:lendingType>\\r\\n    <wb:capitalCity>Tegucigalpa</wb:capitalCity>\\r\\n    <wb:longitude>-87.4667</wb:longitude>\\r\\n    <wb:latitude>15.1333</wb:latitude>\\r\\n  </wb:country>\\r\\n  <wb:country id=\"HTI\">\\r\\n    <wb:iso2Code>HT</wb:iso2Code>\\r\\n    <wb:name>Haiti</wb:name>\\r\\n    <wb:region id=\"LCN\" iso2code=\"ZJ\">Latin America &amp; Caribbean </wb:region>\\r\\n    <wb:adminregion id=\"LAC\" iso2code=\"XJ\">Latin America &amp; Caribbean (excluding high income)</wb:adminregion>\\r\\n    <wb:incomeLevel id=\"LMC\" iso2code=\"XN\">Lower middle income</wb:incomeLevel>\\r\\n    <wb:lendingType id=\"IDX\" iso2code=\"XI\">IDA</wb:lendingType>\\r\\n    <wb:capitalCity>Port-au-Prince</wb:capitalCity>\\r\\n    <wb:longitude>-72.3288</wb:longitude>\\r\\n    <wb:latitude>18.5392</wb:latitude>\\r\\n  </wb:country>\\r\\n  <wb:country id=\"IDN\">\\r\\n    <wb:iso2Code>ID</wb:iso2Code>\\r\\n    <wb:name>Indonesia</wb:name>\\r\\n    <wb:region id=\"EAS\" iso2code=\"Z4\">East Asia &amp; Pacific</wb:region>\\r\\n    <wb:adminregion id=\"EAP\" iso2code=\"4E\">East Asia &amp; Pacific (excluding high income)</wb:adminregion>\\r\\n    <wb:incomeLevel id=\"LMC\" iso2code=\"XN\">Lower middle income</wb:incomeLevel>\\r\\n    <wb:lendingType id=\"IBD\" iso2code=\"XF\">IBRD</wb:lendingType>\\r\\n    <wb:capitalCity>Jakarta</wb:capitalCity>\\r\\n    <wb:longitude>106.83</wb:longitude>\\r\\n    <wb:latitude>-6.19752</wb:latitude>\\r\\n  </wb:country>\\r\\n  <wb:country id=\"IND\">\\r\\n    <wb:iso2Code>IN</wb:iso2Code>\\r\\n    <wb:name>India</wb:name>\\r\\n    <wb:region id=\"SAS\" iso2code=\"8S\">South Asia</wb:region>\\r\\n    <wb:adminregion id=\"SAS\" iso2code=\"8S\">South Asia</wb:adminregion>\\r\\n    <wb:incomeLevel id=\"LMC\" iso2code=\"XN\">Lower middle income</wb:incomeLevel>\\r\\n    <wb:lendingType id=\"IBD\" iso2code=\"XF\">IBRD</wb:lendingType>\\r\\n    <wb:capitalCity>New Delhi</wb:capitalCity>\\r\\n    <wb:longitude>77.225</wb:longitude>\\r\\n    <wb:latitude>28.6353</wb:latitude>\\r\\n  </wb:country>\\r\\n  <wb:country id=\"IRN\">\\r\\n    <wb:iso2Code>IR</wb:iso2Code>\\r\\n    <wb:name>Iran, Islamic Rep.</wb:name>\\r\\n    <wb:region id=\"MEA\" iso2code=\"ZQ\">Middle East &amp; North Africa</wb:region>\\r\\n    <wb:adminregion id=\"MNA\" iso2code=\"XQ\">Middle East &amp; North Africa (excluding high income)</wb:adminregion>\\r\\n    <wb:incomeLevel id=\"LMC\" iso2code=\"XN\">Lower middle income</wb:incomeLevel>\\r\\n    <wb:lendingType id=\"IBD\" iso2code=\"XF\">IBRD</wb:lendingType>\\r\\n    <wb:capitalCity>Tehran</wb:capitalCity>\\r\\n    <wb:longitude>51.4447</wb:longitude>\\r\\n    <wb:latitude>35.6878</wb:latitude>\\r\\n  </wb:country>\\r\\n  <wb:country id=\"KEN\">\\r\\n    <wb:iso2Code>KE</wb:iso2Code>\\r\\n    <wb:name>Kenya</wb:name>\\r\\n    <wb:region id=\"SSF\" iso2code=\"ZG\">Sub-Saharan Africa </wb:region>\\r\\n    <wb:adminregion id=\"SSA\" iso2code=\"ZF\">Sub-Saharan Africa (excluding high income)</wb:adminregion>\\r\\n    <wb:incomeLevel id=\"LMC\" iso2code=\"XN\">Lower middle income</wb:incomeLevel>\\r\\n    <wb:lendingType id=\"IDB\" iso2code=\"XH\">Blend</wb:lendingType>\\r\\n    <wb:capitalCity>Nairobi</wb:capitalCity>\\r\\n    <wb:longitude>36.8126</wb:longitude>\\r\\n    <wb:latitude>-1.27975</wb:latitude>\\r\\n  </wb:country>\\r\\n  <wb:country id=\"KGZ\">\\r\\n    <wb:iso2Code>KG</wb:iso2Code>\\r\\n    <wb:name>Kyrgyz Republic</wb:name>\\r\\n    <wb:region id=\"ECS\" iso2code=\"Z7\">Europe &amp; Central Asia</wb:region>\\r\\n    <wb:adminregion id=\"ECA\" iso2code=\"7E\">Europe &amp; Central Asia (excluding high income)</wb:adminregion>\\r\\n    <wb:incomeLevel id=\"LMC\" iso2code=\"XN\">Lower middle income</wb:incomeLevel>\\r\\n    <wb:lendingType id=\"IDX\" iso2code=\"XI\">IDA</wb:lendingType>\\r\\n    <wb:capitalCity>Bishkek</wb:capitalCity>\\r\\n    <wb:longitude>74.6057</wb:longitude>\\r\\n    <wb:latitude>42.8851</wb:latitude>\\r\\n  </wb:country>\\r\\n  <wb:country id=\"KHM\">\\r\\n    <wb:iso2Code>KH</wb:iso2Code>\\r\\n    <wb:name>Cambodia</wb:name>\\r\\n    <wb:region id=\"EAS\" iso2code=\"Z4\">East Asia &amp; Pacific</wb:region>\\r\\n    <wb:adminregion id=\"EAP\" iso2code=\"4E\">East Asia &amp; Pacific (excluding high income)</wb:adminregion>\\r\\n    <wb:incomeLevel id=\"LMC\" iso2code=\"XN\">Lower middle income</wb:incomeLevel>\\r\\n    <wb:lendingType id=\"IDX\" iso2code=\"XI\">IDA</wb:lendingType>\\r\\n    <wb:capitalCity>Phnom Penh</wb:capitalCity>\\r\\n    <wb:longitude>104.874</wb:longitude>\\r\\n    <wb:latitude>11.5556</wb:latitude>\\r\\n  </wb:country>\\r\\n  <wb:country id=\"KIR\">\\r\\n    <wb:iso2Code>KI</wb:iso2Code>\\r\\n    <wb:name>Kiribati</wb:name>\\r\\n    <wb:region id=\"EAS\" iso2code=\"Z4\">East Asia &amp; Pacific</wb:region>\\r\\n    <wb:adminregion id=\"EAP\" iso2code=\"4E\">East Asia &amp; Pacific (excluding high income)</wb:adminregion>\\r\\n    <wb:incomeLevel id=\"LMC\" iso2code=\"XN\">Lower middle income</wb:incomeLevel>\\r\\n    <wb:lendingType id=\"IDX\" iso2code=\"XI\">IDA</wb:lendingType>\\r\\n    <wb:capitalCity>Tarawa</wb:capitalCity>\\r\\n    <wb:longitude>172.979</wb:longitude>\\r\\n    <wb:latitude>1.32905</wb:latitude>\\r\\n  </wb:country>\\r\\n  <wb:country id=\"LAO\">\\r\\n    <wb:iso2Code>LA</wb:iso2Code>\\r\\n    <wb:name>Lao PDR</wb:name>\\r\\n    <wb:region id=\"EAS\" iso2code=\"Z4\">East Asia &amp; Pacific</wb:region>\\r\\n    <wb:adminregion id=\"EAP\" iso2code=\"4E\">East Asia &amp; Pacific (excluding high income)</wb:adminregion>\\r\\n    <wb:incomeLevel id=\"LMC\" iso2code=\"XN\">Lower middle income</wb:incomeLevel>\\r\\n    <wb:lendingType id=\"IDX\" iso2code=\"XI\">IDA</wb:lendingType>\\r\\n    <wb:capitalCity>Vientiane</wb:capitalCity>\\r\\n    <wb:longitude>102.177</wb:longitude>\\r\\n    <wb:latitude>18.5826</wb:latitude>\\r\\n  </wb:country>\\r\\n  <wb:country id=\"LKA\">\\r\\n    <wb:iso2Code>LK</wb:iso2Code>\\r\\n    <wb:name>Sri Lanka</wb:name>\\r\\n    <wb:region id=\"SAS\" iso2code=\"8S\">South Asia</wb:region>\\r\\n    <wb:adminregion id=\"SAS\" iso2code=\"8S\">South Asia</wb:adminregion>\\r\\n    <wb:incomeLevel id=\"LMC\" iso2code=\"XN\">Lower middle income</wb:incomeLevel>\\r\\n    <wb:lendingType id=\"IBD\" iso2code=\"XF\">IBRD</wb:lendingType>\\r\\n    <wb:capitalCity>Colombo</wb:capitalCity>\\r\\n    <wb:longitude>79.8528</wb:longitude>\\r\\n    <wb:latitude>6.92148</wb:latitude>\\r\\n  </wb:country>\\r\\n  <wb:country id=\"LSO\">\\r\\n    <wb:iso2Code>LS</wb:iso2Code>\\r\\n    <wb:name>Lesotho</wb:name>\\r\\n    <wb:region id=\"SSF\" iso2code=\"ZG\">Sub-Saharan Africa </wb:region>\\r\\n    <wb:adminregion id=\"SSA\" iso2code=\"ZF\">Sub-Saharan Africa (excluding high income)</wb:adminregion>\\r\\n    <wb:incomeLevel id=\"LMC\" iso2code=\"XN\">Lower middle income</wb:incomeLevel>\\r\\n    <wb:lendingType id=\"IDX\" iso2code=\"XI\">IDA</wb:lendingType>\\r\\n    <wb:capitalCity>Maseru</wb:capitalCity>\\r\\n    <wb:longitude>27.7167</wb:longitude>\\r\\n    <wb:latitude>-29.5208</wb:latitude>\\r\\n  </wb:country>\\r\\n  <wb:country id=\"MAR\">\\r\\n    <wb:iso2Code>MA</wb:iso2Code>\\r\\n    <wb:name>Morocco</wb:name>\\r\\n    <wb:region id=\"MEA\" iso2code=\"ZQ\">Middle East &amp; North Africa</wb:region>\\r\\n    <wb:adminregion id=\"MNA\" iso2code=\"XQ\">Middle East &amp; North Africa (excluding high income)</wb:adminregion>\\r\\n    <wb:incomeLevel id=\"LMC\" iso2code=\"XN\">Lower middle income</wb:incomeLevel>\\r\\n    <wb:lendingType id=\"IBD\" iso2code=\"XF\">IBRD</wb:lendingType>\\r\\n    <wb:capitalCity>Rabat</wb:capitalCity>\\r\\n    <wb:longitude>-6.8704</wb:longitude>\\r\\n    <wb:latitude>33.9905</wb:latitude>\\r\\n  </wb:country>\\r\\n  <wb:country id=\"MMR\">\\r\\n    <wb:iso2Code>MM</wb:iso2Code>\\r\\n    <wb:name>Myanmar</wb:name>\\r\\n    <wb:region id=\"EAS\" iso2code=\"Z4\">East Asia &amp; Pacific</wb:region>\\r\\n    <wb:adminregion id=\"EAP\" iso2code=\"4E\">East Asia &amp; Pacific (excluding high income)</wb:adminregion>\\r\\n    <wb:incomeLevel id=\"LMC\" iso2code=\"XN\">Lower middle income</wb:incomeLevel>\\r\\n    <wb:lendingType id=\"IDX\" iso2code=\"XI\">IDA</wb:lendingType>\\r\\n    <wb:capitalCity>Naypyidaw</wb:capitalCity>\\r\\n    <wb:longitude>95.9562</wb:longitude>\\r\\n    <wb:latitude>21.914</wb:latitude>\\r\\n  </wb:country>\\r\\n  <wb:country id=\"MNG\">\\r\\n    <wb:iso2Code>MN</wb:iso2Code>\\r\\n    <wb:name>Mongolia</wb:name>\\r\\n    <wb:region id=\"EAS\" iso2code=\"Z4\">East Asia &amp; Pacific</wb:region>\\r\\n    <wb:adminregion id=\"EAP\" iso2code=\"4E\">East Asia &amp; Pacific (excluding high income)</wb:adminregion>\\r\\n    <wb:incomeLevel id=\"LMC\" iso2code=\"XN\">Lower middle income</wb:incomeLevel>\\r\\n    <wb:lendingType id=\"IBD\" iso2code=\"XF\">IBRD</wb:lendingType>\\r\\n    <wb:capitalCity>Ulaanbaatar</wb:capitalCity>\\r\\n    <wb:longitude>106.937</wb:longitude>\\r\\n    <wb:latitude>47.9129</wb:latitude>\\r\\n  </wb:country>\\r\\n  <wb:country id=\"MRT\">\\r\\n    <wb:iso2Code>MR</wb:iso2Code>\\r\\n    <wb:name>Mauritania</wb:name>\\r\\n    <wb:region id=\"SSF\" iso2code=\"ZG\">Sub-Saharan Africa </wb:region>\\r\\n    <wb:adminregion id=\"SSA\" iso2code=\"ZF\">Sub-Saharan Africa (excluding high income)</wb:adminregion>\\r\\n    <wb:incomeLevel id=\"LMC\" iso2code=\"XN\">Lower middle income</wb:incomeLevel>\\r\\n    <wb:lendingType id=\"IDX\" iso2code=\"XI\">IDA</wb:lendingType>\\r\\n    <wb:capitalCity>Nouakchott</wb:capitalCity>\\r\\n    <wb:longitude>-15.9824</wb:longitude>\\r\\n    <wb:latitude>18.2367</wb:latitude>\\r\\n  </wb:country>\\r\\n  <wb:country id=\"NGA\">\\r\\n    <wb:iso2Code>NG</wb:iso2Code>\\r\\n    <wb:name>Nigeria</wb:name>\\r\\n    <wb:region id=\"SSF\" iso2code=\"ZG\">Sub-Saharan Africa </wb:region>\\r\\n    <wb:adminregion id=\"SSA\" iso2code=\"ZF\">Sub-Saharan Africa (excluding high income)</wb:adminregion>\\r\\n    <wb:incomeLevel id=\"LMC\" iso2code=\"XN\">Lower middle income</wb:incomeLevel>\\r\\n    <wb:lendingType id=\"IDB\" iso2code=\"XH\">Blend</wb:lendingType>\\r\\n    <wb:capitalCity>Abuja</wb:capitalCity>\\r\\n    <wb:longitude>7.48906</wb:longitude>\\r\\n    <wb:latitude>9.05804</wb:latitude>\\r\\n  </wb:country>\\r\\n  <wb:country id=\"NIC\">\\r\\n    <wb:iso2Code>NI</wb:iso2Code>\\r\\n    <wb:name>Nicaragua</wb:name>\\r\\n    <wb:region id=\"LCN\" iso2code=\"ZJ\">Latin America &amp; Caribbean </wb:region>\\r\\n    <wb:adminregion id=\"LAC\" iso2code=\"XJ\">Latin America &amp; Caribbean (excluding high income)</wb:adminregion>\\r\\n    <wb:incomeLevel id=\"LMC\" iso2code=\"XN\">Lower middle income</wb:incomeLevel>\\r\\n    <wb:lendingType id=\"IDX\" iso2code=\"XI\">IDA</wb:lendingType>\\r\\n    <wb:capitalCity>Managua</wb:capitalCity>\\r\\n    <wb:longitude>-86.2734</wb:longitude>\\r\\n    <wb:latitude>12.1475</wb:latitude>\\r\\n  </wb:country>\\r\\n  <wb:country id=\"NPL\">\\r\\n    <wb:iso2Code>NP</wb:iso2Code>\\r\\n    <wb:name>Nepal</wb:name>\\r\\n    <wb:region id=\"SAS\" iso2code=\"8S\">South Asia</wb:region>\\r\\n    <wb:adminregion id=\"SAS\" iso2code=\"8S\">South Asia</wb:adminregion>\\r\\n    <wb:incomeLevel id=\"LMC\" iso2code=\"XN\">Lower middle income</wb:incomeLevel>\\r\\n    <wb:lendingType id=\"IDX\" iso2code=\"XI\">IDA</wb:lendingType>\\r\\n    <wb:capitalCity>Kathmandu</wb:capitalCity>\\r\\n    <wb:longitude>85.3157</wb:longitude>\\r\\n    <wb:latitude>27.6939</wb:latitude>\\r\\n  </wb:country>\\r\\n  <wb:country id=\"PAK\">\\r\\n    <wb:iso2Code>PK</wb:iso2Code>\\r\\n    <wb:name>Pakistan</wb:name>\\r\\n    <wb:region id=\"SAS\" iso2code=\"8S\">South Asia</wb:region>\\r\\n    <wb:adminregion id=\"SAS\" iso2code=\"8S\">South Asia</wb:adminregion>\\r\\n    <wb:incomeLevel id=\"LMC\" iso2code=\"XN\">Lower middle income</wb:incomeLevel>\\r\\n    <wb:lendingType id=\"IDB\" iso2code=\"XH\">Blend</wb:lendingType>\\r\\n    <wb:capitalCity>Islamabad</wb:capitalCity>\\r\\n    <wb:longitude>72.8</wb:longitude>\\r\\n    <wb:latitude>30.5167</wb:latitude>\\r\\n  </wb:country>\\r\\n  <wb:country id=\"PHL\">\\r\\n    <wb:iso2Code>PH</wb:iso2Code>\\r\\n    <wb:name>Philippines</wb:name>\\r\\n    <wb:region id=\"EAS\" iso2code=\"Z4\">East Asia &amp; Pacific</wb:region>\\r\\n    <wb:adminregion id=\"EAP\" iso2code=\"4E\">East Asia &amp; Pacific (excluding high income)</wb:adminregion>\\r\\n    <wb:incomeLevel id=\"LMC\" iso2code=\"XN\">Lower middle income</wb:incomeLevel>\\r\\n    <wb:lendingType id=\"IBD\" iso2code=\"XF\">IBRD</wb:lendingType>\\r\\n    <wb:capitalCity>Manila</wb:capitalCity>\\r\\n    <wb:longitude>121.035</wb:longitude>\\r\\n    <wb:latitude>14.5515</wb:latitude>\\r\\n  </wb:country>\\r\\n  <wb:country id=\"PNG\">\\r\\n    <wb:iso2Code>PG</wb:iso2Code>\\r\\n    <wb:name>Papua New Guinea</wb:name>\\r\\n    <wb:region id=\"EAS\" iso2code=\"Z4\">East Asia &amp; Pacific</wb:region>\\r\\n    <wb:adminregion id=\"EAP\" iso2code=\"4E\">East Asia &amp; Pacific (excluding high income)</wb:adminregion>\\r\\n    <wb:incomeLevel id=\"LMC\" iso2code=\"XN\">Lower middle income</wb:incomeLevel>\\r\\n    <wb:lendingType id=\"IDB\" iso2code=\"XH\">Blend</wb:lendingType>\\r\\n    <wb:capitalCity>Port Moresby</wb:capitalCity>\\r\\n    <wb:longitude>147.194</wb:longitude>\\r\\n    <wb:latitude>-9.47357</wb:latitude>\\r\\n  </wb:country>\\r\\n  <wb:country id=\"PSE\">\\r\\n    <wb:iso2Code>PS</wb:iso2Code>\\r\\n    <wb:name>West Bank and Gaza</wb:name>\\r\\n    <wb:region id=\"MEA\" iso2code=\"ZQ\">Middle East &amp; North Africa</wb:region>\\r\\n    <wb:adminregion id=\"MNA\" iso2code=\"XQ\">Middle East &amp; North Africa (excluding high income)</wb:adminregion>\\r\\n    <wb:incomeLevel id=\"LMC\" iso2code=\"XN\">Lower middle income</wb:incomeLevel>\\r\\n    <wb:lendingType id=\"LNX\" iso2code=\"XX\">Not classified</wb:lendingType>\\r\\n    <wb:capitalCity />\\r\\n    <wb:longitude />\\r\\n    <wb:latitude />\\r\\n  </wb:country>\\r\\n  <wb:country id=\"SEN\">\\r\\n    <wb:iso2Code>SN</wb:iso2Code>\\r\\n    <wb:name>Senegal</wb:name>\\r\\n    <wb:region id=\"SSF\" iso2code=\"ZG\">Sub-Saharan Africa </wb:region>\\r\\n    <wb:adminregion id=\"SSA\" iso2code=\"ZF\">Sub-Saharan Africa (excluding high income)</wb:adminregion>\\r\\n    <wb:incomeLevel id=\"LMC\" iso2code=\"XN\">Lower middle income</wb:incomeLevel>\\r\\n    <wb:lendingType id=\"IDX\" iso2code=\"XI\">IDA</wb:lendingType>\\r\\n    <wb:capitalCity>Dakar</wb:capitalCity>\\r\\n    <wb:longitude>-17.4734</wb:longitude>\\r\\n    <wb:latitude>14.7247</wb:latitude>\\r\\n  </wb:country>\\r\\n  <wb:country id=\"SLB\">\\r\\n    <wb:iso2Code>SB</wb:iso2Code>\\r\\n    <wb:name>Solomon Islands</wb:name>\\r\\n    <wb:region id=\"EAS\" iso2code=\"Z4\">East Asia &amp; Pacific</wb:region>\\r\\n    <wb:adminregion id=\"EAP\" iso2code=\"4E\">East Asia &amp; Pacific (excluding high income)</wb:adminregion>\\r\\n    <wb:incomeLevel id=\"LMC\" iso2code=\"XN\">Lower middle income</wb:incomeLevel>\\r\\n    <wb:lendingType id=\"IDX\" iso2code=\"XI\">IDA</wb:lendingType>\\r\\n    <wb:capitalCity>Honiara</wb:capitalCity>\\r\\n    <wb:longitude>159.949</wb:longitude>\\r\\n    <wb:latitude>-9.42676</wb:latitude>\\r\\n  </wb:country>\\r\\n  <wb:country id=\"SLV\">\\r\\n    <wb:iso2Code>SV</wb:iso2Code>\\r\\n    <wb:name>El Salvador</wb:name>\\r\\n    <wb:region id=\"LCN\" iso2code=\"ZJ\">Latin America &amp; Caribbean </wb:region>\\r\\n    <wb:adminregion id=\"LAC\" iso2code=\"XJ\">Latin America &amp; Caribbean (excluding high income)</wb:adminregion>\\r\\n    <wb:incomeLevel id=\"LMC\" iso2code=\"XN\">Lower middle income</wb:incomeLevel>\\r\\n    <wb:lendingType id=\"IBD\" iso2code=\"XF\">IBRD</wb:lendingType>\\r\\n    <wb:capitalCity>San Salvador</wb:capitalCity>\\r\\n    <wb:longitude>-89.2073</wb:longitude>\\r\\n    <wb:latitude>13.7034</wb:latitude>\\r\\n  </wb:country>\\r\\n  <wb:country id=\"STP\">\\r\\n    <wb:iso2Code>ST</wb:iso2Code>\\r\\n    <wb:name>Sao Tome and Principe</wb:name>\\r\\n    <wb:region id=\"SSF\" iso2code=\"ZG\">Sub-Saharan Africa </wb:region>\\r\\n    <wb:adminregion id=\"SSA\" iso2code=\"ZF\">Sub-Saharan Africa (excluding high income)</wb:adminregion>\\r\\n    <wb:incomeLevel id=\"LMC\" iso2code=\"XN\">Lower middle income</wb:incomeLevel>\\r\\n    <wb:lendingType id=\"IDX\" iso2code=\"XI\">IDA</wb:lendingType>\\r\\n    <wb:capitalCity>Sao Tome</wb:capitalCity>\\r\\n    <wb:longitude>6.6071</wb:longitude>\\r\\n    <wb:latitude>0.20618</wb:latitude>\\r\\n  </wb:country>\\r\\n  <wb:country id=\"SWZ\">\\r\\n    <wb:iso2Code>SZ</wb:iso2Code>\\r\\n    <wb:name>Eswatini</wb:name>\\r\\n    <wb:region id=\"SSF\" iso2code=\"ZG\">Sub-Saharan Africa </wb:region>\\r\\n    <wb:adminregion id=\"SSA\" iso2code=\"ZF\">Sub-Saharan Africa (excluding high income)</wb:adminregion>\\r\\n    <wb:incomeLevel id=\"LMC\" iso2code=\"XN\">Lower middle income</wb:incomeLevel>\\r\\n    <wb:lendingType id=\"IBD\" iso2code=\"XF\">IBRD</wb:lendingType>\\r\\n    <wb:capitalCity>Mbabane</wb:capitalCity>\\r\\n    <wb:longitude>31.4659</wb:longitude>\\r\\n    <wb:latitude>-26.5225</wb:latitude>\\r\\n  </wb:country>\\r\\n  <wb:country id=\"TJK\">\\r\\n    <wb:iso2Code>TJ</wb:iso2Code>\\r\\n    <wb:name>Tajikistan</wb:name>\\r\\n    <wb:region id=\"ECS\" iso2code=\"Z7\">Europe &amp; Central Asia</wb:region>\\r\\n    <wb:adminregion id=\"ECA\" iso2code=\"7E\">Europe &amp; Central Asia (excluding high income)</wb:adminregion>\\r\\n    <wb:incomeLevel id=\"LMC\" iso2code=\"XN\">Lower middle income</wb:incomeLevel>\\r\\n    <wb:lendingType id=\"IDX\" iso2code=\"XI\">IDA</wb:lendingType>\\r\\n    <wb:capitalCity>Dushanbe</wb:capitalCity>\\r\\n    <wb:longitude>68.7864</wb:longitude>\\r\\n    <wb:latitude>38.5878</wb:latitude>\\r\\n  </wb:country>\\r\\n  <wb:country id=\"TLS\">\\r\\n    <wb:iso2Code>TL</wb:iso2Code>\\r\\n    <wb:name>Timor-Leste</wb:name>\\r\\n    <wb:region id=\"EAS\" iso2code=\"Z4\">East Asia &amp; Pacific</wb:region>\\r\\n    <wb:adminregion id=\"EAP\" iso2code=\"4E\">East Asia &amp; Pacific (excluding high income)</wb:adminregion>\\r\\n    <wb:incomeLevel id=\"LMC\" iso2code=\"XN\">Lower middle income</wb:incomeLevel>\\r\\n    <wb:lendingType id=\"IDB\" iso2code=\"XH\">Blend</wb:lendingType>\\r\\n    <wb:capitalCity>Dili</wb:capitalCity>\\r\\n    <wb:longitude>125.567</wb:longitude>\\r\\n    <wb:latitude>-8.56667</wb:latitude>\\r\\n  </wb:country>\\r\\n  <wb:country id=\"TUN\">\\r\\n    <wb:iso2Code>TN</wb:iso2Code>\\r\\n    <wb:name>Tunisia</wb:name>\\r\\n    <wb:region id=\"MEA\" iso2code=\"ZQ\">Middle East &amp; North Africa</wb:region>\\r\\n    <wb:adminregion id=\"MNA\" iso2code=\"XQ\">Middle East &amp; North Africa (excluding high income)</wb:adminregion>\\r\\n    <wb:incomeLevel id=\"LMC\" iso2code=\"XN\">Lower middle income</wb:incomeLevel>\\r\\n    <wb:lendingType id=\"IBD\" iso2code=\"XF\">IBRD</wb:lendingType>\\r\\n    <wb:capitalCity>Tunis</wb:capitalCity>\\r\\n    <wb:longitude>10.21</wb:longitude>\\r\\n    <wb:latitude>36.7899</wb:latitude>\\r\\n  </wb:country>\\r\\n  <wb:country id=\"TZA\">\\r\\n    <wb:iso2Code>TZ</wb:iso2Code>\\r\\n    <wb:name>Tanzania</wb:name>\\r\\n    <wb:region id=\"SSF\" iso2code=\"ZG\">Sub-Saharan Africa </wb:region>\\r\\n    <wb:adminregion id=\"SSA\" iso2code=\"ZF\">Sub-Saharan Africa (excluding high income)</wb:adminregion>\\r\\n    <wb:incomeLevel id=\"LMC\" iso2code=\"XN\">Lower middle income</wb:incomeLevel>\\r\\n    <wb:lendingType id=\"IDX\" iso2code=\"XI\">IDA</wb:lendingType>\\r\\n    <wb:capitalCity>Dodoma</wb:capitalCity>\\r\\n    <wb:longitude>35.7382</wb:longitude>\\r\\n    <wb:latitude>-6.17486</wb:latitude>\\r\\n  </wb:country>\\r\\n  <wb:country id=\"UKR\">\\r\\n    <wb:iso2Code>UA</wb:iso2Code>\\r\\n    <wb:name>Ukraine</wb:name>\\r\\n    <wb:region id=\"ECS\" iso2code=\"Z7\">Europe &amp; Central Asia</wb:region>\\r\\n    <wb:adminregion id=\"ECA\" iso2code=\"7E\">Europe &amp; Central Asia (excluding high income)</wb:adminregion>\\r\\n    <wb:incomeLevel id=\"LMC\" iso2code=\"XN\">Lower middle income</wb:incomeLevel>\\r\\n    <wb:lendingType id=\"IBD\" iso2code=\"XF\">IBRD</wb:lendingType>\\r\\n    <wb:capitalCity>Kiev</wb:capitalCity>\\r\\n    <wb:longitude>30.5038</wb:longitude>\\r\\n    <wb:latitude>50.4536</wb:latitude>\\r\\n  </wb:country>\\r\\n  <wb:country id=\"UZB\">\\r\\n    <wb:iso2Code>UZ</wb:iso2Code>\\r\\n    <wb:name>Uzbekistan</wb:name>\\r\\n    <wb:region id=\"ECS\" iso2code=\"Z7\">Europe &amp; Central Asia</wb:region>\\r\\n    <wb:adminregion id=\"ECA\" iso2code=\"7E\">Europe &amp; Central Asia (excluding high income)</wb:adminregion>\\r\\n    <wb:incomeLevel id=\"LMC\" iso2code=\"XN\">Lower middle income</wb:incomeLevel>\\r\\n    <wb:lendingType id=\"IDB\" iso2code=\"XH\">Blend</wb:lendingType>\\r\\n    <wb:capitalCity>Tashkent</wb:capitalCity>\\r\\n    <wb:longitude>69.269</wb:longitude>\\r\\n    <wb:latitude>41.3052</wb:latitude>\\r\\n  </wb:country>\\r\\n</wb:countries>'"
   ]
  },
  {
   "cell_type": "markdown",
   "id": "491f10b0",
   "metadata": {},
   "source": [
    "Quand on regarde de plus près, on voit que les informations suivantes apparaissent: \n",
    " \n",
    "* Code du pays\n",
    "* Nom du pays\n",
    "* Région\n",
    "* Classification en termes de revenus\n",
    "* Les types de prêt pour ces pays\n",
    "* La capitale\n",
    "* Longitude\n",
    "* Latitude\n",
    "\n",
    "Le format XML est fortement balisé, ce qui n'est pas très pratique. \n",
    "En utilisant désormais un autre URL, on obtient un JSON, plus pratique pour travailler : \n",
    "\n",
    "> http://api.worldbank.org/v2/countries?incomeLevel=LMC&format=json\n"
   ]
  },
  {
   "cell_type": "code",
   "execution_count": null,
   "id": "1e55ed62",
   "metadata": {},
   "outputs": [],
   "source": [
    "import requests\n",
    "import pandas as pd\n",
    "\n",
    "r = requests.get('http://api.worldbank.org/v2/countries?incomeLevel=LMC&format=json')\n",
    "r.content"
   ]
  },
  {
   "cell_type": "markdown",
   "id": "d483b037",
   "metadata": {},
   "source": [
    "b'[{\"page\":1,\"pages\":2,\"per_page\":\"50\",\"total\":55},[{\"id\":\"AGO\",\"iso2Code\":\"AO\",\"name\":\"Angola\",\"region\":{\"id\":\"SSF\",\"iso2code\":\"ZG\",\"value\":\"Sub-Saharan Africa \"},\"adminregion\":{\"id\":\"SSA\",\"iso2code\":\"ZF\",\"value\":\"Sub-Saharan Africa (excluding high income)\"},\"incomeLevel\":{\"id\":\"LMC\",\"iso2code\":\"XN\",\"value\":\"Lower middle income\"},\"lendingType\":{\"id\":\"IBD\",\"iso2code\":\"XF\",\"value\":\"IBRD\"},\"capitalCity\":\"Luanda\",\"longitude\":\"13.242\",\"latitude\":\"-8.81155\"},{\"id\":\"BEN\",\"iso2Code\":\"BJ\",\"name\":\"Benin\",\"region\":{\"id\":\"SSF\",\"iso2code\":\"ZG\",\"value\":\"Sub-Saharan Africa \"},\"adminregion\":{\"id\":\"SSA\",\"iso2code\":\"ZF\",\"value\":\"Sub-Saharan Africa (excluding high income)\"},\"incomeLevel\":{\"id\":\"LMC\",\"iso2code\":\"XN\",\"value\":\"Lower middle income\"},\"lendingType\":{\"id\":\"IDX\",\"iso2code\":\"XI\",\"value\":\"IDA\"},\"capitalCity\":\"Porto-Novo\",\"longitude\":\"2.6323\",\"latitude\":\"6.4779\"},{\"id\":\"BGD\",\"iso2Code\":\"BD\",\"name\":\"Bangladesh\",\"region\":{\"id\":\"SAS\",\"iso2code\":\"8S\",\"value\":\"South Asia\"},\"adminregion\":{\"id\":\"SAS\",\"iso2code\":\"8S\",\"value\":\"South Asia\"},\"incomeLevel\":{\"id\":\"LMC\",\"iso2code\":\"XN\",\"value\":\"Lower middle income\"},\"lendingType\":{\"id\":\"IDX\",\"iso2code\":\"XI\",\"value\":\"IDA\"},\"capitalCity\":\"Dhaka\",\"longitude\":\"90.4113\",\"latitude\":\"23.7055\"},{\"id\":\"BLZ\",\"iso2Code\":\"BZ\",\"name\":\"Belize\",\"region\":{\"id\":\"LCN\",\"iso2code\":\"ZJ\",\"value\":\"Latin America & Caribbean \"},\"adminregion\":{\"id\":\"LAC\",\"iso2code\":\"XJ\",\"value\":\"Latin America & Caribbean (excluding high income)\"},\"incomeLevel\":{\"id\":\"LMC\",\"iso2code\":\"XN\",\"value\":\"Lower middle income\"},\"lendingType\":{\"id\":\"IBD\",\"iso2code\":\"XF\",\"value\":\"IBRD\"},\"capitalCity\":\"Belmopan\",\"longitude\":\"-88.7713\",\"latitude\":\"17.2534\"},{\"id\":\"BOL\",\"iso2Code\":\"BO\",\"name\":\"Bolivia\",\"region\":{\"id\":\"LCN\",\"iso2code\":\"ZJ\",\"value\":\"Latin America & Caribbean \"},\"adminregion\":{\"id\":\"LAC\",\"iso2code\":\"XJ\",\"value\":\"Latin America & Caribbean (excluding high income)\"},\"incomeLevel\":{\"id\":\"LMC\",\"iso2code\":\"XN\",\"value\":\"Lower middle income\"},\"lendingType\":{\"id\":\"IBD\",\"iso2code\":\"XF\",\"value\":\"IBRD\"},\"capitalCity\":\"La Paz\",\"longitude\":\"-66.1936\",\"latitude\":\"-13.9908\"},{\"id\":\"BTN\",\"iso2Code\":\"BT\",\"name\":\"Bhutan\",\"region\":{\"id\":\"SAS\",\"iso2code\":\"8S\",\"value\":\"South Asia\"},\"adminregion\":{\"id\":\"SAS\",\"iso2code\":\"8S\",\"value\":\"South Asia\"},\"incomeLevel\":{\"id\":\"LMC\",\"iso2code\":\"XN\",\"value\":\"Lower middle income\"},\"lendingType\":{\"id\":\"IDX\",\"iso2code\":\"XI\",\"value\":\"IDA\"},\"capitalCity\":\"Thimphu\",\"longitude\":\"89.6177\",\"latitude\":\"27.5768\"},{\"id\":\"CIV\",\"iso2Code\":\"CI\",\"name\":\"Cote d\\'Ivoire\",\"region\":{\"id\":\"SSF\",\"iso2code\":\"ZG\",\"value\":\"Sub-Saharan Africa \"},\"adminregion\":{\"id\":\"SSA\",\"iso2code\":\"ZF\",\"value\":\"Sub-Saharan Africa (excluding high income)\"},\"incomeLevel\":{\"id\":\"LMC\",\"iso2code\":\"XN\",\"value\":\"Lower middle income\"},\"lendingType\":{\"id\":\"IDX\",\"iso2code\":\"XI\",\"value\":\"IDA\"},\"capitalCity\":\"Yamoussoukro\",\"longitude\":\"-4.0305\",\"latitude\":\"5.332\"},{\"id\":\"CMR\",\"iso2Code\":\"CM\",\"name\":\"Cameroon\",\"region\":{\"id\":\"SSF\",\"iso2code\":\"ZG\",\"value\":\"Sub-Saharan Africa \"},\"adminregion\":{\"id\":\"SSA\",\"iso2code\":\"ZF\",\"value\":\"Sub-Saharan Africa (excluding high income)\"},\"incomeLevel\":{\"id\":\"LMC\",\"iso2code\":\"XN\",\"value\":\"Lower middle income\"},\"lendingType\":{\"id\":\"IDB\",\"iso2code\":\"XH\",\"value\":\"Blend\"},\"capitalCity\":\"Yaounde\",\"longitude\":\"11.5174\",\"latitude\":\"3.8721\"},{\"id\":\"COG\",\"iso2Code\":\"CG\",\"name\":\"Congo, Rep.\",\"region\":{\"id\":\"SSF\",\"iso2code\":\"ZG\",\"value\":\"Sub-Saharan Africa \"},\"adminregion\":{\"id\":\"SSA\",\"iso2code\":\"ZF\",\"value\":\"Sub-Saharan Africa (excluding high income)\"},\"incomeLevel\":{\"id\":\"LMC\",\"iso2code\":\"XN\",\"value\":\"Lower middle income\"},\"lendingType\":{\"id\":\"IDB\",\"iso2code\":\"XH\",\"value\":\"Blend\"},\"capitalCity\":\"Brazzaville\",\"longitude\":\"15.2662\",\"latitude\":\"-4.2767\"},{\"id\":\"COM\",\"iso2Code\":\"KM\",\"name\":\"Comoros\",\"region\":{\"id\":\"SSF\",\"iso2code\":\"ZG\",\"value\":\"Sub-Saharan Africa \"},\"adminregion\":{\"id\":\"SSA\",\"iso2code\":\"ZF\",\"value\":\"Sub-Saharan Africa (excluding high income)\"},\"incomeLevel\":{\"id\":\"LMC\",\"iso2code\":\"XN\",\"value\":\"Lower middle income\"},\"lendingType\":{\"id\":\"IDX\",\"iso2code\":\"XI\",\"value\":\"IDA\"},\"capitalCity\":\"Moroni\",\"longitude\":\"43.2418\",\"latitude\":\"-11.6986\"},{\"id\":\"CPV\",\"iso2Code\":\"CV\",\"name\":\"Cabo Verde\",\"region\":{\"id\":\"SSF\",\"iso2code\":\"ZG\",\"value\":\"Sub-Saharan Africa \"},\"adminregion\":{\"id\":\"SSA\",\"iso2code\":\"ZF\",\"value\":\"Sub-Saharan Africa (excluding high income)\"},\"incomeLevel\":{\"id\":\"LMC\",\"iso2code\":\"XN\",\"value\":\"Lower middle income\"},\"lendingType\":{\"id\":\"IDB\",\"iso2code\":\"XH\",\"value\":\"Blend\"},\"capitalCity\":\"Praia\",\"longitude\":\"-23.5087\",\"latitude\":\"14.9218\"},{\"id\":\"DJI\",\"iso2Code\":\"DJ\",\"name\":\"Djibouti\",\"region\":{\"id\":\"MEA\",\"iso2code\":\"ZQ\",\"value\":\"Middle East & North Africa\"},\"adminregion\":{\"id\":\"MNA\",\"iso2code\":\"XQ\",\"value\":\"Middle East & North Africa (excluding high income)\"},\"incomeLevel\":{\"id\":\"LMC\",\"iso2code\":\"XN\",\"value\":\"Lower middle income\"},\"lendingType\":{\"id\":\"IDX\",\"iso2code\":\"XI\",\"value\":\"IDA\"},\"capitalCity\":\"Djibouti\",\"longitude\":\"43.1425\",\"latitude\":\"11.5806\"},{\"id\":\"DZA\",\"iso2Code\":\"DZ\",\"name\":\"Algeria\",\"region\":{\"id\":\"MEA\",\"iso2code\":\"ZQ\",\"value\":\"Middle East & North Africa\"},\"adminregion\":{\"id\":\"MNA\",\"iso2code\":\"XQ\",\"value\":\"Middle East & North Africa (excluding high income)\"},\"incomeLevel\":{\"id\":\"LMC\",\"iso2code\":\"XN\",\"value\":\"Lower middle income\"},\"lendingType\":{\"id\":\"IBD\",\"iso2code\":\"XF\",\"value\":\"IBRD\"},\"capitalCity\":\"Algiers\",\"longitude\":\"3.05097\",\"latitude\":\"36.7397\"},{\"id\":\"EGY\",\"iso2Code\":\"EG\",\"name\":\"Egypt, Arab Rep.\",\"region\":{\"id\":\"MEA\",\"iso2code\":\"ZQ\",\"value\":\"Middle East & North Africa\"},\"adminregion\":{\"id\":\"MNA\",\"iso2code\":\"XQ\",\"value\":\"Middle East & North Africa (excluding high income)\"},\"incomeLevel\":{\"id\":\"LMC\",\"iso2code\":\"XN\",\"value\":\"Lower middle income\"},\"lendingType\":{\"id\":\"IBD\",\"iso2code\":\"XF\",\"value\":\"IBRD\"},\"capitalCity\":\"Cairo\",\"longitude\":\"31.2461\",\"latitude\":\"30.0982\"},{\"id\":\"FSM\",\"iso2Code\":\"FM\",\"name\":\"Micronesia, Fed. Sts.\",\"region\":{\"id\":\"EAS\",\"iso2code\":\"Z4\",\"value\":\"East Asia & Pacific\"},\"adminregion\":{\"id\":\"EAP\",\"iso2code\":\"4E\",\"value\":\"East Asia & Pacific (excluding high income)\"},\"incomeLevel\":{\"id\":\"LMC\",\"iso2code\":\"XN\",\"value\":\"Lower middle income\"},\"lendingType\":{\"id\":\"IDX\",\"iso2code\":\"XI\",\"value\":\"IDA\"},\"capitalCity\":\"Palikir\",\"longitude\":\"158.185\",\"latitude\":\"6.91771\"},{\"id\":\"GHA\",\"iso2Code\":\"GH\",\"name\":\"Ghana\",\"region\":{\"id\":\"SSF\",\"iso2code\":\"ZG\",\"value\":\"Sub-Saharan Africa \"},\"adminregion\":{\"id\":\"SSA\",\"iso2code\":\"ZF\",\"value\":\"Sub-Saharan Africa (excluding high income)\"},\"incomeLevel\":{\"id\":\"LMC\",\"iso2code\":\"XN\",\"value\":\"Lower middle income\"},\"lendingType\":{\"id\":\"IDX\",\"iso2code\":\"XI\",\"value\":\"IDA\"},\"capitalCity\":\"Accra\",\"longitude\":\"-0.20795\",\"latitude\":\"5.57045\"},{\"id\":\"HND\",\"iso2Code\":\"HN\",\"name\":\"Honduras\",\"region\":{\"id\":\"LCN\",\"iso2code\":\"ZJ\",\"value\":\"Latin America & Caribbean \"},\"adminregion\":{\"id\":\"LAC\",\"iso2code\":\"XJ\",\"value\":\"Latin America & Caribbean (excluding high income)\"},\"incomeLevel\":{\"id\":\"LMC\",\"iso2code\":\"XN\",\"value\":\"Lower middle income\"},\"lendingType\":{\"id\":\"IDX\",\"iso2code\":\"XI\",\"value\":\"IDA\"},\"capitalCity\":\"Tegucigalpa\",\"longitude\":\"-87.4667\",\"latitude\":\"15.1333\"},{\"id\":\"HTI\",\"iso2Code\":\"HT\",\"name\":\"Haiti\",\"region\":{\"id\":\"LCN\",\"iso2code\":\"ZJ\",\"value\":\"Latin America & Caribbean \"},\"adminregion\":{\"id\":\"LAC\",\"iso2code\":\"XJ\",\"value\":\"Latin America & Caribbean (excluding high income)\"},\"incomeLevel\":{\"id\":\"LMC\",\"iso2code\":\"XN\",\"value\":\"Lower middle income\"},\"lendingType\":{\"id\":\"IDX\",\"iso2code\":\"XI\",\"value\":\"IDA\"},\"capitalCity\":\"Port-au-Prince\",\"longitude\":\"-72.3288\",\"latitude\":\"18.5392\"},{\"id\":\"IDN\",\"iso2Code\":\"ID\",\"name\":\"Indonesia\",\"region\":{\"id\":\"EAS\",\"iso2code\":\"Z4\",\"value\":\"East Asia & Pacific\"},\"adminregion\":{\"id\":\"EAP\",\"iso2code\":\"4E\",\"value\":\"East Asia & Pacific (excluding high income)\"},\"incomeLevel\":{\"id\":\"LMC\",\"iso2code\":\"XN\",\"value\":\"Lower middle income\"},\"lendingType\":{\"id\":\"IBD\",\"iso2code\":\"XF\",\"value\":\"IBRD\"},\"capitalCity\":\"Jakarta\",\"longitude\":\"106.83\",\"latitude\":\"-6.19752\"},{\"id\":\"IND\",\"iso2Code\":\"IN\",\"name\":\"India\",\"region\":{\"id\":\"SAS\",\"iso2code\":\"8S\",\"value\":\"South Asia\"},\"adminregion\":{\"id\":\"SAS\",\"iso2code\":\"8S\",\"value\":\"South Asia\"},\"incomeLevel\":{\"id\":\"LMC\",\"iso2code\":\"XN\",\"value\":\"Lower middle income\"},\"lendingType\":{\"id\":\"IBD\",\"iso2code\":\"XF\",\"value\":\"IBRD\"},\"capitalCity\":\"New Delhi\",\"longitude\":\"77.225\",\"latitude\":\"28.6353\"},{\"id\":\"IRN\",\"iso2Code\":\"IR\",\"name\":\"Iran, Islamic Rep.\",\"region\":{\"id\":\"MEA\",\"iso2code\":\"ZQ\",\"value\":\"Middle East & North Africa\"},\"adminregion\":{\"id\":\"MNA\",\"iso2code\":\"XQ\",\"value\":\"Middle East & North Africa (excluding high income)\"},\"incomeLevel\":{\"id\":\"LMC\",\"iso2code\":\"XN\",\"value\":\"Lower middle income\"},\"lendingType\":{\"id\":\"IBD\",\"iso2code\":\"XF\",\"value\":\"IBRD\"},\"capitalCity\":\"Tehran\",\"longitude\":\"51.4447\",\"latitude\":\"35.6878\"},{\"id\":\"KEN\",\"iso2Code\":\"KE\",\"name\":\"Kenya\",\"region\":{\"id\":\"SSF\",\"iso2code\":\"ZG\",\"value\":\"Sub-Saharan Africa \"},\"adminregion\":{\"id\":\"SSA\",\"iso2code\":\"ZF\",\"value\":\"Sub-Saharan Africa (excluding high income)\"},\"incomeLevel\":{\"id\":\"LMC\",\"iso2code\":\"XN\",\"value\":\"Lower middle income\"},\"lendingType\":{\"id\":\"IDB\",\"iso2code\":\"XH\",\"value\":\"Blend\"},\"capitalCity\":\"Nairobi\",\"longitude\":\"36.8126\",\"latitude\":\"-1.27975\"},{\"id\":\"KGZ\",\"iso2Code\":\"KG\",\"name\":\"Kyrgyz Republic\",\"region\":{\"id\":\"ECS\",\"iso2code\":\"Z7\",\"value\":\"Europe & Central Asia\"},\"adminregion\":{\"id\":\"ECA\",\"iso2code\":\"7E\",\"value\":\"Europe & Central Asia (excluding high income)\"},\"incomeLevel\":{\"id\":\"LMC\",\"iso2code\":\"XN\",\"value\":\"Lower middle income\"},\"lendingType\":{\"id\":\"IDX\",\"iso2code\":\"XI\",\"value\":\"IDA\"},\"capitalCity\":\"Bishkek\",\"longitude\":\"74.6057\",\"latitude\":\"42.8851\"},{\"id\":\"KHM\",\"iso2Code\":\"KH\",\"name\":\"Cambodia\",\"region\":{\"id\":\"EAS\",\"iso2code\":\"Z4\",\"value\":\"East Asia & Pacific\"},\"adminregion\":{\"id\":\"EAP\",\"iso2code\":\"4E\",\"value\":\"East Asia & Pacific (excluding high income)\"},\"incomeLevel\":{\"id\":\"LMC\",\"iso2code\":\"XN\",\"value\":\"Lower middle income\"},\"lendingType\":{\"id\":\"IDX\",\"iso2code\":\"XI\",\"value\":\"IDA\"},\"capitalCity\":\"Phnom Penh\",\"longitude\":\"104.874\",\"latitude\":\"11.5556\"},{\"id\":\"KIR\",\"iso2Code\":\"KI\",\"name\":\"Kiribati\",\"region\":{\"id\":\"EAS\",\"iso2code\":\"Z4\",\"value\":\"East Asia & Pacific\"},\"adminregion\":{\"id\":\"EAP\",\"iso2code\":\"4E\",\"value\":\"East Asia & Pacific (excluding high income)\"},\"incomeLevel\":{\"id\":\"LMC\",\"iso2code\":\"XN\",\"value\":\"Lower middle income\"},\"lendingType\":{\"id\":\"IDX\",\"iso2code\":\"XI\",\"value\":\"IDA\"},\"capitalCity\":\"Tarawa\",\"longitude\":\"172.979\",\"latitude\":\"1.32905\"},{\"id\":\"LAO\",\"iso2Code\":\"LA\",\"name\":\"Lao PDR\",\"region\":{\"id\":\"EAS\",\"iso2code\":\"Z4\",\"value\":\"East Asia & Pacific\"},\"adminregion\":{\"id\":\"EAP\",\"iso2code\":\"4E\",\"value\":\"East Asia & Pacific (excluding high income)\"},\"incomeLevel\":{\"id\":\"LMC\",\"iso2code\":\"XN\",\"value\":\"Lower middle income\"},\"lendingType\":{\"id\":\"IDX\",\"iso2code\":\"XI\",\"value\":\"IDA\"},\"capitalCity\":\"Vientiane\",\"longitude\":\"102.177\",\"latitude\":\"18.5826\"},{\"id\":\"LKA\",\"iso2Code\":\"LK\",\"name\":\"Sri Lanka\",\"region\":{\"id\":\"SAS\",\"iso2code\":\"8S\",\"value\":\"South Asia\"},\"adminregion\":{\"id\":\"SAS\",\"iso2code\":\"8S\",\"value\":\"South Asia\"},\"incomeLevel\":{\"id\":\"LMC\",\"iso2code\":\"XN\",\"value\":\"Lower middle income\"},\"lendingType\":{\"id\":\"IBD\",\"iso2code\":\"XF\",\"value\":\"IBRD\"},\"capitalCity\":\"Colombo\",\"longitude\":\"79.8528\",\"latitude\":\"6.92148\"},{\"id\":\"LSO\",\"iso2Code\":\"LS\",\"name\":\"Lesotho\",\"region\":{\"id\":\"SSF\",\"iso2code\":\"ZG\",\"value\":\"Sub-Saharan Africa \"},\"adminregion\":{\"id\":\"SSA\",\"iso2code\":\"ZF\",\"value\":\"Sub-Saharan Africa (excluding high income)\"},\"incomeLevel\":{\"id\":\"LMC\",\"iso2code\":\"XN\",\"value\":\"Lower middle income\"},\"lendingType\":{\"id\":\"IDX\",\"iso2code\":\"XI\",\"value\":\"IDA\"},\"capitalCity\":\"Maseru\",\"longitude\":\"27.7167\",\"latitude\":\"-29.5208\"},{\"id\":\"MAR\",\"iso2Code\":\"MA\",\"name\":\"Morocco\",\"region\":{\"id\":\"MEA\",\"iso2code\":\"ZQ\",\"value\":\"Middle East & North Africa\"},\"adminregion\":{\"id\":\"MNA\",\"iso2code\":\"XQ\",\"value\":\"Middle East & North Africa (excluding high income)\"},\"incomeLevel\":{\"id\":\"LMC\",\"iso2code\":\"XN\",\"value\":\"Lower middle income\"},\"lendingType\":{\"id\":\"IBD\",\"iso2code\":\"XF\",\"value\":\"IBRD\"},\"capitalCity\":\"Rabat\",\"longitude\":\"-6.8704\",\"latitude\":\"33.9905\"},{\"id\":\"MMR\",\"iso2Code\":\"MM\",\"name\":\"Myanmar\",\"region\":{\"id\":\"EAS\",\"iso2code\":\"Z4\",\"value\":\"East Asia & Pacific\"},\"adminregion\":{\"id\":\"EAP\",\"iso2code\":\"4E\",\"value\":\"East Asia & Pacific (excluding high income)\"},\"incomeLevel\":{\"id\":\"LMC\",\"iso2code\":\"XN\",\"value\":\"Lower middle income\"},\"lendingType\":{\"id\":\"IDX\",\"iso2code\":\"XI\",\"value\":\"IDA\"},\"capitalCity\":\"Naypyidaw\",\"longitude\":\"95.9562\",\"latitude\":\"21.914\"},{\"id\":\"MNG\",\"iso2Code\":\"MN\",\"name\":\"Mongolia\",\"region\":{\"id\":\"EAS\",\"iso2code\":\"Z4\",\"value\":\"East Asia & Pacific\"},\"adminregion\":{\"id\":\"EAP\",\"iso2code\":\"4E\",\"value\":\"East Asia & Pacific (excluding high income)\"},\"incomeLevel\":{\"id\":\"LMC\",\"iso2code\":\"XN\",\"value\":\"Lower middle income\"},\"lendingType\":{\"id\":\"IBD\",\"iso2code\":\"XF\",\"value\":\"IBRD\"},\"capitalCity\":\"Ulaanbaatar\",\"longitude\":\"106.937\",\"latitude\":\"47.9129\"},{\"id\":\"MRT\",\"iso2Code\":\"MR\",\"name\":\"Mauritania\",\"region\":{\"id\":\"SSF\",\"iso2code\":\"ZG\",\"value\":\"Sub-Saharan Africa \"},\"adminregion\":{\"id\":\"SSA\",\"iso2code\":\"ZF\",\"value\":\"Sub-Saharan Africa (excluding high income)\"},\"incomeLevel\":{\"id\":\"LMC\",\"iso2code\":\"XN\",\"value\":\"Lower middle income\"},\"lendingType\":{\"id\":\"IDX\",\"iso2code\":\"XI\",\"value\":\"IDA\"},\"capitalCity\":\"Nouakchott\",\"longitude\":\"-15.9824\",\"latitude\":\"18.2367\"},{\"id\":\"NGA\",\"iso2Code\":\"NG\",\"name\":\"Nigeria\",\"region\":{\"id\":\"SSF\",\"iso2code\":\"ZG\",\"value\":\"Sub-Saharan Africa \"},\"adminregion\":{\"id\":\"SSA\",\"iso2code\":\"ZF\",\"value\":\"Sub-Saharan Africa (excluding high income)\"},\"incomeLevel\":{\"id\":\"LMC\",\"iso2code\":\"XN\",\"value\":\"Lower middle income\"},\"lendingType\":{\"id\":\"IDB\",\"iso2code\":\"XH\",\"value\":\"Blend\"},\"capitalCity\":\"Abuja\",\"longitude\":\"7.48906\",\"latitude\":\"9.05804\"},{\"id\":\"NIC\",\"iso2Code\":\"NI\",\"name\":\"Nicaragua\",\"region\":{\"id\":\"LCN\",\"iso2code\":\"ZJ\",\"value\":\"Latin America & Caribbean \"},\"adminregion\":{\"id\":\"LAC\",\"iso2code\":\"XJ\",\"value\":\"Latin America & Caribbean (excluding high income)\"},\"incomeLevel\":{\"id\":\"LMC\",\"iso2code\":\"XN\",\"value\":\"Lower middle income\"},\"lendingType\":{\"id\":\"IDX\",\"iso2code\":\"XI\",\"value\":\"IDA\"},\"capitalCity\":\"Managua\",\"longitude\":\"-86.2734\",\"latitude\":\"12.1475\"},{\"id\":\"NPL\",\"iso2Code\":\"NP\",\"name\":\"Nepal\",\"region\":{\"id\":\"SAS\",\"iso2code\":\"8S\",\"value\":\"South Asia\"},\"adminregion\":{\"id\":\"SAS\",\"iso2code\":\"8S\",\"value\":\"South Asia\"},\"incomeLevel\":{\"id\":\"LMC\",\"iso2code\":\"XN\",\"value\":\"Lower middle income\"},\"lendingType\":{\"id\":\"IDX\",\"iso2code\":\"XI\",\"value\":\"IDA\"},\"capitalCity\":\"Kathmandu\",\"longitude\":\"85.3157\",\"latitude\":\"27.6939\"},{\"id\":\"PAK\",\"iso2Code\":\"PK\",\"name\":\"Pakistan\",\"region\":{\"id\":\"SAS\",\"iso2code\":\"8S\",\"value\":\"South Asia\"},\"adminregion\":{\"id\":\"SAS\",\"iso2code\":\"8S\",\"value\":\"South Asia\"},\"incomeLevel\":{\"id\":\"LMC\",\"iso2code\":\"XN\",\"value\":\"Lower middle income\"},\"lendingType\":{\"id\":\"IDB\",\"iso2code\":\"XH\",\"value\":\"Blend\"},\"capitalCity\":\"Islamabad\",\"longitude\":\"72.8\",\"latitude\":\"30.5167\"},{\"id\":\"PHL\",\"iso2Code\":\"PH\",\"name\":\"Philippines\",\"region\":{\"id\":\"EAS\",\"iso2code\":\"Z4\",\"value\":\"East Asia & Pacific\"},\"adminregion\":{\"id\":\"EAP\",\"iso2code\":\"4E\",\"value\":\"East Asia & Pacific (excluding high income)\"},\"incomeLevel\":{\"id\":\"LMC\",\"iso2code\":\"XN\",\"value\":\"Lower middle income\"},\"lendingType\":{\"id\":\"IBD\",\"iso2code\":\"XF\",\"value\":\"IBRD\"},\"capitalCity\":\"Manila\",\"longitude\":\"121.035\",\"latitude\":\"14.5515\"},{\"id\":\"PNG\",\"iso2Code\":\"PG\",\"name\":\"Papua New Guinea\",\"region\":{\"id\":\"EAS\",\"iso2code\":\"Z4\",\"value\":\"East Asia & Pacific\"},\"adminregion\":{\"id\":\"EAP\",\"iso2code\":\"4E\",\"value\":\"East Asia & Pacific (excluding high income)\"},\"incomeLevel\":{\"id\":\"LMC\",\"iso2code\":\"XN\",\"value\":\"Lower middle income\"},\"lendingType\":{\"id\":\"IDB\",\"iso2code\":\"XH\",\"value\":\"Blend\"},\"capitalCity\":\"Port Moresby\",\"longitude\":\"147.194\",\"latitude\":\"-9.47357\"},{\"id\":\"PSE\",\"iso2Code\":\"PS\",\"name\":\"West Bank and Gaza\",\"region\":{\"id\":\"MEA\",\"iso2code\":\"ZQ\",\"value\":\"Middle East & North Africa\"},\"adminregion\":{\"id\":\"MNA\",\"iso2code\":\"XQ\",\"value\":\"Middle East & North Africa (excluding high income)\"},\"incomeLevel\":{\"id\":\"LMC\",\"iso2code\":\"XN\",\"value\":\"Lower middle income\"},\"lendingType\":{\"id\":\"LNX\",\"iso2code\":\"XX\",\"value\":\"Not classified\"},\"capitalCity\":\"\",\"longitude\":\"\",\"latitude\":\"\"},{\"id\":\"SEN\",\"iso2Code\":\"SN\",\"name\":\"Senegal\",\"region\":{\"id\":\"SSF\",\"iso2code\":\"ZG\",\"value\":\"Sub-Saharan Africa \"},\"adminregion\":{\"id\":\"SSA\",\"iso2code\":\"ZF\",\"value\":\"Sub-Saharan Africa (excluding high income)\"},\"incomeLevel\":{\"id\":\"LMC\",\"iso2code\":\"XN\",\"value\":\"Lower middle income\"},\"lendingType\":{\"id\":\"IDX\",\"iso2code\":\"XI\",\"value\":\"IDA\"},\"capitalCity\":\"Dakar\",\"longitude\":\"-17.4734\",\"latitude\":\"14.7247\"},{\"id\":\"SLB\",\"iso2Code\":\"SB\",\"name\":\"Solomon Islands\",\"region\":{\"id\":\"EAS\",\"iso2code\":\"Z4\",\"value\":\"East Asia & Pacific\"},\"adminregion\":{\"id\":\"EAP\",\"iso2code\":\"4E\",\"value\":\"East Asia & Pacific (excluding high income)\"},\"incomeLevel\":{\"id\":\"LMC\",\"iso2code\":\"XN\",\"value\":\"Lower middle income\"},\"lendingType\":{\"id\":\"IDX\",\"iso2code\":\"XI\",\"value\":\"IDA\"},\"capitalCity\":\"Honiara\",\"longitude\":\"159.949\",\"latitude\":\"-9.42676\"},{\"id\":\"SLV\",\"iso2Code\":\"SV\",\"name\":\"El Salvador\",\"region\":{\"id\":\"LCN\",\"iso2code\":\"ZJ\",\"value\":\"Latin America & Caribbean \"},\"adminregion\":{\"id\":\"LAC\",\"iso2code\":\"XJ\",\"value\":\"Latin America & Caribbean (excluding high income)\"},\"incomeLevel\":{\"id\":\"LMC\",\"iso2code\":\"XN\",\"value\":\"Lower middle income\"},\"lendingType\":{\"id\":\"IBD\",\"iso2code\":\"XF\",\"value\":\"IBRD\"},\"capitalCity\":\"San Salvador\",\"longitude\":\"-89.2073\",\"latitude\":\"13.7034\"},{\"id\":\"STP\",\"iso2Code\":\"ST\",\"name\":\"Sao Tome and Principe\",\"region\":{\"id\":\"SSF\",\"iso2code\":\"ZG\",\"value\":\"Sub-Saharan Africa \"},\"adminregion\":{\"id\":\"SSA\",\"iso2code\":\"ZF\",\"value\":\"Sub-Saharan Africa (excluding high income)\"},\"incomeLevel\":{\"id\":\"LMC\",\"iso2code\":\"XN\",\"value\":\"Lower middle income\"},\"lendingType\":{\"id\":\"IDX\",\"iso2code\":\"XI\",\"value\":\"IDA\"},\"capitalCity\":\"Sao Tome\",\"longitude\":\"6.6071\",\"latitude\":\"0.20618\"},{\"id\":\"SWZ\",\"iso2Code\":\"SZ\",\"name\":\"Eswatini\",\"region\":{\"id\":\"SSF\",\"iso2code\":\"ZG\",\"value\":\"Sub-Saharan Africa \"},\"adminregion\":{\"id\":\"SSA\",\"iso2code\":\"ZF\",\"value\":\"Sub-Saharan Africa (excluding high income)\"},\"incomeLevel\":{\"id\":\"LMC\",\"iso2code\":\"XN\",\"value\":\"Lower middle income\"},\"lendingType\":{\"id\":\"IBD\",\"iso2code\":\"XF\",\"value\":\"IBRD\"},\"capitalCity\":\"Mbabane\",\"longitude\":\"31.4659\",\"latitude\":\"-26.5225\"},{\"id\":\"TJK\",\"iso2Code\":\"TJ\",\"name\":\"Tajikistan\",\"region\":{\"id\":\"ECS\",\"iso2code\":\"Z7\",\"value\":\"Europe & Central Asia\"},\"adminregion\":{\"id\":\"ECA\",\"iso2code\":\"7E\",\"value\":\"Europe & Central Asia (excluding high income)\"},\"incomeLevel\":{\"id\":\"LMC\",\"iso2code\":\"XN\",\"value\":\"Lower middle income\"},\"lendingType\":{\"id\":\"IDX\",\"iso2code\":\"XI\",\"value\":\"IDA\"},\"capitalCity\":\"Dushanbe\",\"longitude\":\"68.7864\",\"latitude\":\"38.5878\"},{\"id\":\"TLS\",\"iso2Code\":\"TL\",\"name\":\"Timor-Leste\",\"region\":{\"id\":\"EAS\",\"iso2code\":\"Z4\",\"value\":\"East Asia & Pacific\"},\"adminregion\":{\"id\":\"EAP\",\"iso2code\":\"4E\",\"value\":\"East Asia & Pacific (excluding high income)\"},\"incomeLevel\":{\"id\":\"LMC\",\"iso2code\":\"XN\",\"value\":\"Lower middle income\"},\"lendingType\":{\"id\":\"IDB\",\"iso2code\":\"XH\",\"value\":\"Blend\"},\"capitalCity\":\"Dili\",\"longitude\":\"125.567\",\"latitude\":\"-8.56667\"},{\"id\":\"TUN\",\"iso2Code\":\"TN\",\"name\":\"Tunisia\",\"region\":{\"id\":\"MEA\",\"iso2code\":\"ZQ\",\"value\":\"Middle East & North Africa\"},\"adminregion\":{\"id\":\"MNA\",\"iso2code\":\"XQ\",\"value\":\"Middle East & North Africa (excluding high income)\"},\"incomeLevel\":{\"id\":\"LMC\",\"iso2code\":\"XN\",\"value\":\"Lower middle income\"},\"lendingType\":{\"id\":\"IBD\",\"iso2code\":\"XF\",\"value\":\"IBRD\"},\"capitalCity\":\"Tunis\",\"longitude\":\"10.21\",\"latitude\":\"36.7899\"},{\"id\":\"TZA\",\"iso2Code\":\"TZ\",\"name\":\"Tanzania\",\"region\":{\"id\":\"SSF\",\"iso2code\":\"ZG\",\"value\":\"Sub-Saharan Africa \"},\"adminregion\":{\"id\":\"SSA\",\"iso2code\":\"ZF\",\"value\":\"Sub-Saharan Africa (excluding high income)\"},\"incomeLevel\":{\"id\":\"LMC\",\"iso2code\":\"XN\",\"value\":\"Lower middle income\"},\"lendingType\":{\"id\":\"IDX\",\"iso2code\":\"XI\",\"value\":\"IDA\"},\"capitalCity\":\"Dodoma\",\"longitude\":\"35.7382\",\"latitude\":\"-6.17486\"},{\"id\":\"UKR\",\"iso2Code\":\"UA\",\"name\":\"Ukraine\",\"region\":{\"id\":\"ECS\",\"iso2code\":\"Z7\",\"value\":\"Europe & Central Asia\"},\"adminregion\":{\"id\":\"ECA\",\"iso2code\":\"7E\",\"value\":\"Europe & Central Asia (excluding high income)\"},\"incomeLevel\":{\"id\":\"LMC\",\"iso2code\":\"XN\",\"value\":\"Lower middle income\"},\"lendingType\":{\"id\":\"IBD\",\"iso2code\":\"XF\",\"value\":\"IBRD\"},\"capitalCity\":\"Kiev\",\"longitude\":\"30.5038\",\"latitude\":\"50.4536\"},{\"id\":\"UZB\",\"iso2Code\":\"UZ\",\"name\":\"Uzbekistan\",\"region\":{\"id\":\"ECS\",\"iso2code\":\"Z7\",\"value\":\"Europe & Central Asia\"},\"adminregion\":{\"id\":\"ECA\",\"iso2code\":\"7E\",\"value\":\"Europe & Central Asia (excluding high income)\"},\"incomeLevel\":{\"id\":\"LMC\",\"iso2code\":\"XN\",\"value\":\"Lower middle income\"},\"lendingType\":{\"id\":\"IDB\",\"iso2code\":\"XH\",\"value\":\"Blend\"},\"capitalCity\":\"Tashkent\",\"longitude\":\"69.269\",\"latitude\":\"41.3052\"}]]'\n",
    "\n",
    "Ici, il n'est même pas nécessaire en première approche \n",
    "d'utiliser le package `json`, l'information\n",
    "étant déjà tabulée dans l'écho renvoyé (on a la même information pour tous les pays):\n"
   ]
  },
  {
   "cell_type": "code",
   "execution_count": null,
   "id": "4257cb95",
   "metadata": {},
   "outputs": [],
   "source": [
    "wb = r.json()"
   ]
  },
  {
   "cell_type": "markdown",
   "id": "1ba6a1c1",
   "metadata": {},
   "source": [
    "```\n",
    "## Error in py_call_impl(callable, dots$args, dots$keywords): RuntimeError: Evaluation error: object 'json' not found.\n",
    "## \n",
    "## Detailed traceback: \n",
    "##   File \"<string>\", line 1, in <module>\n",
    "##   File \"/usr/local/lib/R/site-library/reticulate/python/rpytools/call.py\", line 21, in python_function\n",
    "##     raise RuntimeError(res[kErrorKey])\n",
    "```"
   ]
  },
  {
   "cell_type": "code",
   "execution_count": null,
   "id": "f2cafceb",
   "metadata": {},
   "outputs": [],
   "source": [
    "wb = pd.json_normalize(wb[1])"
   ]
  },
  {
   "cell_type": "markdown",
   "id": "a1626ba7",
   "metadata": {},
   "source": [
    "```\n",
    "## Error in py_call_impl(callable, dots$args, dots$keywords): NameError: name 'wb' is not defined\n",
    "## \n",
    "## Detailed traceback: \n",
    "##   File \"<string>\", line 1, in <module>\n",
    "```"
   ]
  },
  {
   "cell_type": "code",
   "execution_count": null,
   "id": "1883795b",
   "metadata": {},
   "outputs": [],
   "source": [
    "wb.head(5)"
   ]
  },
  {
   "cell_type": "markdown",
   "id": "5e3d0314",
   "metadata": {},
   "source": [
    "```\n",
    "## Error in py_call_impl(callable, dots$args, dots$keywords): NameError: name 'wb' is not defined\n",
    "## \n",
    "## Detailed traceback: \n",
    "##   File \"<string>\", line 1, in <module>\n",
    "```\n",
    "\n",
    "Cependant, si on regarde la dimension de l'objet obtenu, on obtient un\n",
    "chiffre rond (50 lignes). Ceci est suspect et un petit tour dans la\n",
    "documentation de l'API nous apprendrait que c'est le nombre maximal de \n",
    "retour possible. Il faut donc faire attention à la documentation et \n",
    "ajouter un paramètre `page=2` pour rattraper les derniers échos: \n"
   ]
  },
  {
   "cell_type": "code",
   "execution_count": null,
   "id": "deb4f809",
   "metadata": {},
   "outputs": [],
   "source": [
    "wb2 = pd.json_normalize(\n",
    "    requests.get(\"http://api.worldbank.org/v2/countries?incomeLevel=LMC&format=json&page=2\").json()\n",
    "    )"
   ]
  },
  {
   "cell_type": "markdown",
   "id": "8f14558b",
   "metadata": {},
   "source": [
    "```\n",
    "## Error in py_call_impl(callable, dots$args, dots$keywords): AttributeError: 'list' object has no attribute 'keys'\n",
    "## \n",
    "## Detailed traceback: \n",
    "##   File \"<string>\", line 1, in <module>\n",
    "##   File \"/opt/conda/envs/python-ENSAE/lib/python3.9/site-packages/pandas/io/json/_normalize.py\", line 435, in _json_normalize\n",
    "##     return DataFrame(_simple_json_normalize(data, sep=sep))\n",
    "##   File \"/opt/conda/envs/python-ENSAE/lib/python3.9/site-packages/pandas/core/frame.py\", line 694, in __init__\n",
    "##     arrays, columns, index = nested_data_to_arrays(\n",
    "##   File \"/opt/conda/envs/python-ENSAE/lib/python3.9/site-packages/pandas/core/internals/construction.py\", line 483, in nested_data_to_arrays\n",
    "##     arrays, columns = to_arrays(data, columns, dtype=dtype)\n",
    "##   File \"/opt/conda/envs/python-ENSAE/lib/python3.9/site-packages/pandas/core/internals/construction.py\", line 799, in to_arrays\n",
    "##     arr, columns = _list_of_dict_to_arrays(data, columns)\n",
    "##   File \"/opt/conda/envs/python-ENSAE/lib/python3.9/site-packages/pandas/core/internals/construction.py\", line 884, in _list_of_dict_to_arrays\n",
    "##     pre_cols = lib.fast_unique_multiple_list_gen(gen, sort=sort)\n",
    "##   File \"pandas/_libs/lib.pyx\", line 400, in pandas._libs.lib.fast_unique_multiple_list_gen\n",
    "##   File \"/opt/conda/envs/python-ENSAE/lib/python3.9/site-packages/pandas/core/internals/construction.py\", line 882, in <genexpr>\n",
    "##     gen = (list(x.keys()) for x in data)\n",
    "```"
   ]
  },
  {
   "cell_type": "code",
   "execution_count": null,
   "id": "49a7f891",
   "metadata": {},
   "outputs": [],
   "source": [
    "pd.concat([wb, wb2])"
   ]
  },
  {
   "cell_type": "markdown",
   "id": "a5e676b0",
   "metadata": {},
   "source": [
    "```\n",
    "## Error in py_call_impl(callable, dots$args, dots$keywords): NameError: name 'wb' is not defined\n",
    "## \n",
    "## Detailed traceback: \n",
    "##   File \"<string>\", line 1, in <module>\n",
    "```\n",
    "\n",
    "Si on regarde l'information présente dans le DataFrame, on voit qu'elle se\n",
    "présente sous forme `lendingType.value`. C'est parce que `pandas` a \n",
    "concaténé les différents niveaux de notre dictionnaire. Si on désire\n",
    "s'en assurer, on peut regarder sur un exemple:\n"
   ]
  },
  {
   "cell_type": "code",
   "execution_count": null,
   "id": "9d89394f",
   "metadata": {},
   "outputs": [],
   "source": [
    "r.json()[1][0]['incomeLevel']['value'] == wb.loc[0, 'incomeLevel.value'] "
   ]
  },
  {
   "cell_type": "markdown",
   "id": "b809a029",
   "metadata": {},
   "source": [
    "```\n",
    "## Error in py_call_impl(callable, dots$args, dots$keywords): RuntimeError: Evaluation error: object 'json' not found.\n",
    "## \n",
    "## Detailed traceback: \n",
    "##   File \"<string>\", line 1, in <module>\n",
    "##   File \"/usr/local/lib/R/site-library/reticulate/python/rpytools/call.py\", line 21, in python_function\n",
    "##     raise RuntimeError(res[kErrorKey])\n",
    "```"
   ]
  },
  {
   "cell_type": "markdown",
   "id": "62fab126",
   "metadata": {},
   "source": [
    "## Un catalogue incomplet d'API existantes\n",
    "\n",
    "De plus en plus de sites mettent des API à disposition des développeurs et autres curieux. \n",
    "\n",
    "Pour en citer quelques-unes très connues : \n",
    "\n",
    "- Twitter <i class=\"fab fa-twitter\"></i> : https://dev.twitter.com/rest/public\n",
    "- Facebook <i class=\"fab fa-facebook\"></i> : https://developers.facebook.com/\n",
    "- Instagram <i class=\"fab fa-instagram\"></i> : https://www.instagram.com/developer/\n",
    "- Spotify <i class=\"fab fa-spotify\"></i> : https://developer.spotify.com/web-api/\n",
    "\n",
    "Cependant, il est intéressant de ne pas se restreindre à celles-ci. Beaucoup\n",
    "de producteurs de données, privés comme publics, mettent à disposition \n",
    "leurs données sous forme d'API\n",
    "\n",
    "- Pole Emploi : https://www.emploi-store-dev.fr/portail-developpeur-cms/home.html\n",
    "- SNCF : https://data.sncf.com/api\n",
    "- Banque Mondiale : https://datahelpdesk.worldbank.org/knowledgebase/topics/125589\n",
    "- Insee: https://api.insee.fr/catalogue/ et [`pynsee`](https://github.com/InseeFrLab/Py-Insee-Data/tree/master/pynsee)\n"
   ]
  },
  {
   "cell_type": "markdown",
   "id": "857a3852",
   "metadata": {},
   "source": [
    "### DVF : les transactions immobilières en France"
   ]
  },
  {
   "cell_type": "markdown",
   "id": "a9960c51",
   "metadata": {},
   "source": [
    "Le site DVF (demandes de valeurs foncières) permet de visualiser toutes les données relatives aux mutations à titre onéreux réalisées durant les 5 dernières années (pour faire simple les ventes de maisons ou d'appartements depuis 2015). \n",
    "https://app.dvf.etalab.gouv.fr/\n",
    "\n",
    "Ce site est très complet quand il s'agit de connaître le prix moyen au mètre carré d'un quartier ou de comparer des régions entre elles. \n",
    "\n",
    "L'API DVF a été réalisée par Christian Quest, Son code est disponible sur https://github.com/cquest/dvf_as_api\n",
    "\n",
    "Un exemple : on recherche toutes les transactions existantes dans DVF à Plogoff (code commune 29168, en Bretagne)\n"
   ]
  },
  {
   "cell_type": "code",
   "execution_count": null,
   "id": "6a611dac",
   "metadata": {
    "lines_to_next_cell": 2
   },
   "outputs": [],
   "source": [
    "data_immo = requests.get(\"http://api.cquest.org/dvf?code_commune=29168\").json()"
   ]
  },
  {
   "cell_type": "code",
   "execution_count": null,
   "id": "e4e8db5b",
   "metadata": {},
   "outputs": [],
   "source": [
    "data_immo['resultats'][20]"
   ]
  },
  {
   "cell_type": "markdown",
   "id": "31e707a3",
   "metadata": {},
   "source": [
    "```\n",
    "## {'code_service_ch': None, 'reference_document': None, 'articles_1': None, 'articles_2': None, 'articles_3': None, 'articles_4': None, 'articles_5': None, 'numero_disposition': '000001', 'date_mutation': '2015-06-13', 'nature_mutation': 'Vente', 'valeur_fonciere': 130000, 'numero_voie': '235', 'suffixe_numero': None, 'type_voie': 'RUE', 'code_voie': '0465', 'voie': 'DES LANGOUSTIERS', 'code_postal': '29770', 'commune': 'PLOGOFF', 'code_departement': '29', 'code_commune': '29168', 'prefixe_section': None, 'section': 'AH', 'numero_plan': '29168000AH0254', 'numero_volume': None, 'lot_1': None, 'surface_lot_1': None, 'lot_2': None, 'surface_lot_2': None, 'lot_3': None, 'surface_lot_3': None, 'lot_4': None, 'surface_lot_4': None, 'lot_5': None, 'surface_lot_51': None, 'nombre_lots': '0', 'code_type_local': '1', 'type_local': 'Maison', 'identifiant_local': None, 'surface_relle_bati': 114, 'nombre_pieces_principales': 5, 'nature_culture': 'S', 'nature_culture_speciale': None, 'surface_terrain': 267, 'lat': 48.039585, 'lon': -4.704422, 'geom': {'type': 'Point', 'coordinates': [-4.704422, 48.039585]}}\n",
    "```\n",
    "\n",
    "Les critères de recherche sont les suivants :\n",
    "- `code_commune` = code INSEE de la commune (ex: 94068)\n",
    "- `section` = section cadastrale (ex: 94068000CQ)\n",
    "- `numero_plan` = identifiant de la parcelle, (ex: 94068000CQ0110)\n",
    "- `lat` + `lon` + `dist` (optionnel): pour une recherche géographique, dist est par défaut un rayon de 500m\n",
    "- `code_postal`\n",
    "\n",
    "Les filtres de sélection complémentaires :\n",
    "- `nature_mutation` (Vente, etc)\n",
    "- `type_local` (Maison, Appartement, Local, Dépendance)"
   ]
  },
  {
   "cell_type": "markdown",
   "id": "8655c109",
   "metadata": {},
   "source": [
    "Par exemple si seules les maisons de la commune 29168 nous intéressent : \n"
   ]
  },
  {
   "cell_type": "code",
   "execution_count": null,
   "id": "b6876c33",
   "metadata": {
    "lines_to_next_cell": 2
   },
   "outputs": [],
   "source": [
    "data_immo = requests.get(\"http://api.cquest.org/dvf?code_commune=29168&type_local=Maison\").json()"
   ]
  },
  {
   "cell_type": "code",
   "execution_count": null,
   "id": "f5e8c998",
   "metadata": {},
   "outputs": [],
   "source": [
    "data_immo['resultats'][0]"
   ]
  },
  {
   "cell_type": "markdown",
   "id": "1b4473bc",
   "metadata": {},
   "source": [
    "```\n",
    "## {'code_service_ch': None, 'reference_document': None, 'articles_1': None, 'articles_2': None, 'articles_3': None, 'articles_4': None, 'articles_5': None, 'numero_disposition': '000001', 'date_mutation': '2015-06-25', 'nature_mutation': 'Vente', 'valeur_fonciere': 120000, 'numero_voie': '183', 'suffixe_numero': None, 'type_voie': None, 'code_voie': 'B041', 'voie': 'LAOUAL', 'code_postal': '29770', 'commune': 'PLOGOFF', 'code_departement': '29', 'code_commune': '29168', 'prefixe_section': None, 'section': 'AE', 'numero_plan': '29168000AE0140', 'numero_volume': None, 'lot_1': None, 'surface_lot_1': None, 'lot_2': None, 'surface_lot_2': None, 'lot_3': None, 'surface_lot_3': None, 'lot_4': None, 'surface_lot_4': None, 'lot_5': None, 'surface_lot_51': None, 'nombre_lots': '0', 'code_type_local': '1', 'type_local': 'Maison', 'identifiant_local': None, 'surface_relle_bati': 90, 'nombre_pieces_principales': 4, 'nature_culture': 'S', 'nature_culture_speciale': None, 'surface_terrain': 277, 'lat': 48.042047, 'lon': -4.705626, 'geom': {'type': 'Point', 'coordinates': [-4.705626, 48.042047]}}\n",
    "```\n",
    "\n",
    "# Exercices supplémentaires"
   ]
  },
  {
   "cell_type": "markdown",
   "id": "881695ec",
   "metadata": {},
   "source": [
    "**Exercice 1 : Retrouver des produits dans l'openfood facts :pizza:**\n",
    "\n",
    "Voici une liste de code-barres:\n",
    "`3274080005003,  5449000000996, 8002270014901,\n",
    "3228857000906, 3017620421006, 8712100325953`\n",
    "\n",
    "Utiliser l'[API d'openfoodfacts](https://world.openfoodfacts.org/data)\n",
    "(l'API, pas depuis le CSV !)\n",
    "pour retrouver les produits correspondant\n",
    "et leurs caractéristiques nutritionnelles.\n",
    "\n",
    "Le panier paraît-il équilibré ? :chocolate_bar:\n",
    "\n",
    "Pour vous aidez, vous pouvez regarder une exemple de structure du json ici : https://world.openfoodfacts.org/api/v0/product/3274080005003.json en particulier la catégorie `nutriments`.\n",
    "\n",
    "\n",
    "\n",
    "\n",
    "\n",
    "\n",
    "\n",
    "\n",
    "\n",
    "\n",
    "\n"
   ]
  },
  {
   "cell_type": "markdown",
   "id": "28e85b50",
   "metadata": {},
   "source": [
    "Récupérer l'URL d'une des images et l'afficher dans votre navigateur. Par exemple,\n",
    "celle-ci:\n",
    "\n"
   ]
  },
  {
   "cell_type": "markdown",
   "id": "0101c411",
   "metadata": {},
   "source": [
    "![plot of chunk unnamed-chunk-17](https://images.openfoodfacts.org/images/products/544/900/000/0996/front_en.596.200.jpg)\n"
   ]
  }
 ],
 "metadata": {
  "kernelspec": {
   "display_name": "Python 3",
   "language": "python",
   "name": "python3"
  }
 },
 "nbformat": 4,
 "nbformat_minor": 5
}
