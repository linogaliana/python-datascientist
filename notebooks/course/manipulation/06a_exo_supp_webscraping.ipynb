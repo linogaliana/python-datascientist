{
 "cells": [
  {
   "cell_type": "raw",
   "id": "25a38741",
   "metadata": {},
   "source": [
    "---\n",
    "title: \"Exercices supplémentaires de webscraping\"\n",
    "date: 2021-07-09T13:00:00Z\n",
    "draft: false\n",
    "weight: 80\n",
    "slug: webscraping-exercices\n",
    "tags:\n",
    "  - webscraping\n",
    "  - regex\n",
    "  - BeautifulSoup\n",
    "  - Selenium\n",
    "categories:\n",
    "  - Exercice\n",
    "type: book\n",
    "summary: |\n",
    "  Un exercice supplémentaire de webscraping, où l'on construit de manière automatique sa liste de courses à partir des données de Marmiton.\n",
    "eval: false\n",
    "---"
   ]
  },
  {
   "cell_type": "code",
   "execution_count": 1,
   "id": "699feba5",
   "metadata": {},
   "outputs": [
    {
     "name": "stdout",
     "output_type": "stream",
     "text": [
      "<a href=\"https://github.com/linogaliana/python-datascientist/blob/master/notebooks/course/manipulation/06a_exo_supp_webscraping.ipynb\" class=\"github\"><i class=\"fab fa-github\"></i></a>\n",
      "[![Download](https://img.shields.io/badge/Download-Notebook-important?logo=Jupyter)](https://downgit.github.io/#/home?url=https://github.com/linogaliana/python-datascientist/blob/master/notebooks/course/manipulation/06a_exo_supp_webscraping.ipynb)\n",
      "[![nbviewer](https://img.shields.io/badge/Visualize-nbviewer-blue?logo=Jupyter)](https://nbviewer.jupyter.org/github/linogaliana/python-datascientist/blob/master/notebooks/course/manipulation/06a_exo_supp_webscraping.ipynb)\n",
      "[![Onyxia](https://img.shields.io/badge/SSPcloud-Tester%20via%20SSP--cloud-informational&color=yellow?logo=Python)](https://datalab.sspcloud.fr/launcher/inseefrlab-helm-charts-datascience/jupyter?autoLaunch=true&onyxia.friendlyName=%C2%ABpython-datascience%C2%BB&init.personalInit=%C2%ABhttps%3A%2F%2Fraw.githubusercontent.com%2Flinogaliana%2Fpython-datascientist%2Fmaster%2Fsspcloud%2Finit-jupyter.sh%C2%BB&init.personalInitArgs=%C2%ABnotebooks/course/manipulation%2006a_exo_supp_webscraping.ipynb%C2%BB&security.allowlist.enabled=false)<br>\n",
      "[![Binder](https://img.shields.io/badge/Launch-Binder-E66581.svg?logo=data:image/png;base64,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)](https://mybinder.org/v2/gh/linogaliana/python-datascientist/master?filepath=notebooks/course/manipulation/06a_exo_supp_webscraping.ipynb)\n",
      "[![Open In Colab](https://colab.research.google.com/assets/colab-badge.svg)](http://colab.research.google.com/github/linogaliana/python-datascientist/blob/master/notebooks/course/manipulation/06a_exo_supp_webscraping.ipynb)\n",
      "[![githubdev](https://img.shields.io/static/v1?logo=visualstudiocode&label=&message=Open%20in%20Visual%20Studio%20Code&labelColor=2c2c32&color=007acc&logoColor=007acc)](https://github.dev/linogaliana/python-datascientist/notebooks/course/manipulation/06a_exo_supp_webscraping.ipynb)\n"
     ]
    }
   ],
   "source": [
    "#| echo: false\n",
    "#| output: 'asis'\n",
    "#| include: true\n",
    "#| eval: true\n",
    "\n",
    "import sys\n",
    "sys.path.insert(1, '../../../../') #insert the utils module\n",
    "from utils import print_badges\n",
    "\n",
    "#print_badges(__file__)\n",
    "print_badges(\"content/course/manipulation/06a_exo_supp_webscraping.qmd\")"
   ]
  },
  {
   "cell_type": "markdown",
   "id": "722987c1",
   "metadata": {},
   "source": [
    "Cette page présente une série d'exercices de webscraping. Ils permettent \n",
    "d'aller plus loin que le [chapitre dédié](#webscraping)\n",
    "\n",
    "## Construction automatisée d'une liste de courses via webscraping :spaghetti: :pizza: :strawberry:\n",
    "\n",
    "Les comptes sont dans le rouge, le banquier appelle tous les jours.\n",
    "Plus le choix : fini les commandes de plats tout faits via des plateformes bien connues,\n",
    "il va falloir se faire des bons petits plats soi-même.\n",
    "Mais la cuisine à l'ancienne, c'est long : il faut trouver le bon livre de cuisine,\n",
    "la bonne recette, faire des règles de trois pour calculer les bonnes proportions, etc.\n",
    "Et après ça, faire une liste de courses...\n",
    "\n",
    "Heureusement, [Marmiton](https://www.marmiton.org/) est là pour nous.\n",
    "Dans ce TP, on va construire un outil Python qui permet d'exporter directement une liste de courses,\n",
    "en fonctions des plats que l'on a envie de manger cette semaine. Et tout ça en *webscrapant* les données de Marmiton. Plus d'excuse !\n",
    "\n",
    "Pour cet exercice, on va utiliser principalement trois librairies très utilisées en webscraping :\n",
    "\n",
    "* `requests` & `BeautifulSoup` pour scraper des pages statiques ;\n",
    "* `selenium` lorsque l'on aura besoin d'interagir avec les éléments scriptés des pages web.\n",
    "\n",
    "Pour pouvoir utiliser `selenium`, il est nécessaire d'avoir installé le *chromedriver* ([instructions](LIEN A AJOUTER)),\n",
    "ou bien le driver adapté si vous utilisez un autre navigateur que Google Chrome.\n",
    "\n",
    "1. Analyser comment fonctionne la recherche d'une recette sur Marmiton (structure de l'URL) et coder un outil\n",
    "permettant de récupérer (à l'aide de `requests`) le code html des résultats de la recherche pour une recette donnée.\n",
    "Formatter ce code en un arbre lxml à l'aide de `BeautifulSoup`.\n"
   ]
  },
  {
   "cell_type": "code",
   "execution_count": 2,
   "id": "0a5b67d7",
   "metadata": {},
   "outputs": [],
   "source": [
    "import requests\n",
    "from bs4 import BeautifulSoup"
   ]
  },
  {
   "cell_type": "code",
   "execution_count": 3,
   "id": "ae6b3142",
   "metadata": {},
   "outputs": [],
   "source": [
    "PLAT = \"pates carbonara\"\n",
    "BASE_URL = \"https://www.marmiton.org\"\n",
    "URL_SEARCH = BASE_URL + \"/recettes/recherche.aspx?aqt=\" + PLAT"
   ]
  },
  {
   "cell_type": "markdown",
   "id": "51b7b240",
   "metadata": {},
   "source": [
    "Vous pouvez vérifier que `python` récupère bien un résultat à l'URL voulu en tapant \n"
   ]
  },
  {
   "cell_type": "code",
   "execution_count": 4,
   "id": "5187d492",
   "metadata": {},
   "outputs": [],
   "source": [
    "requests.get(URL_SEARCH).status_code"
   ]
  },
  {
   "cell_type": "markdown",
   "id": "565d2770",
   "metadata": {},
   "source": [
    "Si le code retour est 200, il y a bien du contenu accessible sur la page. \n",
    "\n",
    "{{% box status=\"note\" title=\"Note\" icon=\"fa fa-comment\" %}}\n",
    "L'utilisation de l'option *\"lxml\"* avec `BeautifulSoup` nécessite d'avoir\n",
    "installé avant cela la librairie `lxml`.\n",
    "{{% /box %}}\n"
   ]
  },
  {
   "cell_type": "code",
   "execution_count": 5,
   "id": "efb2c1a0",
   "metadata": {},
   "outputs": [],
   "source": [
    "response = requests.get(URL_SEARCH).text\n",
    "soup = BeautifulSoup(response, \"lxml\")"
   ]
  },
  {
   "cell_type": "markdown",
   "id": "b6831108",
   "metadata": {},
   "source": [
    "2. Afficher le code source html de la page des résultats de la recherche à l'aide de votre navigateur (click droit sur la page => Inspecter),\n",
    "analyser la structure de l'arbre,\n",
    "et récupérer le code html de chacune des recettes.\n",
    "A l'aide d'une boucle, récupérer pour chaque recette sa note moyenne et le nombre de fois où elle a été notée.\n"
   ]
  },
  {
   "cell_type": "code",
   "execution_count": 6,
   "id": "1ad75e87",
   "metadata": {},
   "outputs": [],
   "source": [
    "import re\n",
    "import numpy as np"
   ]
  },
  {
   "cell_type": "code",
   "execution_count": 7,
   "id": "e200cf1a",
   "metadata": {},
   "outputs": [],
   "source": [
    "found_recipes = soup.find_all(name=\"a\", class_=re.compile(\"^SearchResultsstyle__SearchCardResult\"))\n",
    "\n",
    "all_ratings = []\n",
    "all_nb_ratings = []\n",
    "for recipe in found_recipes:\n",
    "    try:\n",
    "        ratings_info = recipe.find(name=\"div\", class_=re.compile(\"^RecipeCardResultstyle__RatingLayout\")).text\n",
    "    except AttributeError:\n",
    "        continue\n",
    "    matches = re.search(r\"([\\d\\.]+)/5\\(([\\d]+) avis\\)\", ratings_info, re.IGNORECASE)\n",
    "    rating = matches.group(1)\n",
    "    nb_ratings = matches.group(2)\n",
    "    all_ratings.append(float(rating))\n",
    "    all_nb_ratings.append(int(nb_ratings))"
   ]
  },
  {
   "cell_type": "markdown",
   "id": "49b98d7c",
   "metadata": {},
   "source": [
    "3. Sur Marmiton, on peut tomber sur de mauvaises surprises.\n",
    "Pour éviter ça, restreindre les recettes à celles qui ont une note moyenne >= 4 et un nombre de notes >= 50.\n",
    "Choisir la recette la mieux notée au sein de cette liste de candidates, et récupérer son URL.\n"
   ]
  },
  {
   "cell_type": "code",
   "execution_count": 8,
   "id": "5106d8e1",
   "metadata": {},
   "outputs": [],
   "source": [
    "MIN_RATING = 4\n",
    "MIN_NB_RATINGS = 50\n",
    "\n",
    "idxs_eligible = [i for i, x in enumerate(found_recipes)\n",
    "                 if all_ratings[i] > MIN_RATING and all_nb_ratings[i] >= MIN_NB_RATINGS]\n",
    "idx_chosen = np.argmax(np.array(all_ratings)[idxs_eligible])\n",
    "href_chosen = found_recipes[idx_chosen].get(\"href\")\n",
    "\n",
    "if href_chosen is not None:\n",
    "    url_chosen_recipe = BASE_URL + href_chosen\n",
    "else:\n",
    "    raise ValueError(\"Aucune recette n'a été trouvée pour les critères demandés.\")"
   ]
  },
  {
   "cell_type": "markdown",
   "id": "febf5f6a",
   "metadata": {},
   "source": [
    "4. Récupérer une photo de la recette et l'afficher dans le Notebook.\n"
   ]
  },
  {
   "cell_type": "code",
   "execution_count": 9,
   "id": "115db3b4",
   "metadata": {},
   "outputs": [],
   "source": [
    "list_imgs = found_recipes[idx_chosen].find(name=\"source\", type=\"image/jpeg\").get(\"srcset\")\n",
    "url_img_big = re.split(\"\\s\\d+w,?\\s?\", list_imgs)[-2]"
   ]
  },
  {
   "cell_type": "code",
   "execution_count": 10,
   "id": "f3f4ca0f",
   "metadata": {},
   "outputs": [],
   "source": [
    "#| eval: false\n",
    "# Dans un notebook\n",
    "from IPython.display import Image\n",
    "Image(url_img_big, width=400, height=400)"
   ]
  },
  {
   "cell_type": "markdown",
   "id": "0aa69ce4",
   "metadata": {},
   "source": [
    "Nous avons choisi cette recette, un classique ! :spaghetti:\n"
   ]
  },
  {
   "cell_type": "code",
   "execution_count": 11,
   "id": "aa34160a",
   "metadata": {},
   "outputs": [],
   "source": [
    "#| echo: false\n",
    "url_img_big"
   ]
  },
  {
   "cell_type": "markdown",
   "id": "8b889532",
   "metadata": {},
   "source": [
    "Convaincu ?\n",
    "Sinon, ne pas hésiter à changer de recette au début,\n",
    "on ne va quand même pas faire tout ça pour rien.\n",
    "\n",
    "\n",
    "La recette est choisie, pour nous c'est *pates carbo*.\n",
    "\n",
    "\n",
    "Nouvel objectif : faire la liste de courses ! :purse:\n",
    "\n",
    "Mais les choses se compliquent : pour quantifier les ingrédients selon le nombre de convives\n",
    "et afficher la liste au format courses sur Marmiton, on va devoir cliquer sur des boutons qui exécutent du `JavaScript`.\n",
    "Les librairies `requests` et `BeautifulSoup` atteignent là leurs limites, mais pas de panique : `Selenium` est fait pour ça.\n",
    "Il va nous permettre d'ouvrir un navigateur \"fantôme\", contrôlé via Python, avec lequel on va pouvoir effectuer des actions sur la page\n",
    "(comme le ferait une personne naviguant sur la page web).\n",
    "\n",
    "Autre subtilité : jusqu'à maintenant, on a repéré les éléments html par type et nom de classe.\n",
    "Cette méthode fonctionne, mais elle pose également des problèmes :\n",
    "parfois les noms de classes changent sans raison (c'est d'ailleurs pour ça qu'on a utilisé des regex précédemment, pour faire du matching partiel),\n",
    "et il est moins pratique d'interagir avec les éléments d'une page de cette manière. Parfois, il est\n",
    "pertinent d'utiliser les [sélécteurs XPath](https://fr.wikipedia.org/wiki/XPath),\n",
    "qui permettent de sélectionner les éléments selon leur position dans l'arborescence html de la page.\n",
    "On utilisera une combinaison des deux méthodes dans cette partie selon les cas.\n",
    "\n",
    "On le voit, le webscraping reste une pratique assez instable,\n",
    "dans la mesure où les sites web évoluent en permanence.\n",
    "\n",
    "Il y a ainsi toutes les chances qu'au moment où vous effectuerez ce TP, le code proposé en solution ne fonctionne plus, car les balises auront changé.\n",
    "Il vous faudra alors revenir à l'exploration du code source html de la page, repérer les balises permanentes, et les substituer dans le code de solution.\n",
    "\n",
    "5. Ouvrir la page de la recette choisie à l'aide d'un navigateur fantôme.\n",
    "Problème : la classique fenêtre de politique des cookies :cookie: s'ouvre, nous empêchant de naviguer sur la page.\n",
    "Utiliser Selenium pour cliquer sur le bouton permettant d'accepter tous les cookies.\n"
   ]
  },
  {
   "cell_type": "code",
   "execution_count": 12,
   "id": "6e909a1b",
   "metadata": {},
   "outputs": [],
   "source": [
    "from selenium import webdriver\n",
    "from selenium.webdriver.common.by import By\n",
    "from selenium.webdriver.support.ui import WebDriverWait\n",
    "from selenium.webdriver.support import expected_conditions as EC\n",
    "from selenium.common.exceptions import NoSuchElementException"
   ]
  },
  {
   "cell_type": "code",
   "execution_count": 13,
   "id": "7aa918d0",
   "metadata": {},
   "outputs": [],
   "source": [
    "driver = webdriver.Chrome()\n",
    "driver.get(url_chosen_recipe)"
   ]
  },
  {
   "cell_type": "code",
   "execution_count": 14,
   "id": "f90f5da8",
   "metadata": {},
   "outputs": [],
   "source": [
    "WebDriverWait(driver, 10).until(EC.element_to_be_clickable((By.ID, \"didomi-notice-agree-button\"))).click()"
   ]
  },
  {
   "cell_type": "markdown",
   "id": "c0aa2dd7",
   "metadata": {},
   "source": [
    "6. Choisir pour combien de personnes on va cuisiner.\n",
    "Comparer ce nombre au nombre utilisé par défaut sur Marmiton,\n",
    "et construire une boucle qui va clicker automatiquement le bon nombre de fois,\n",
    "sur + ou - selon que le nombre de convives choisi est supérieur ou inférieur au nombre par défaut.\n"
   ]
  },
  {
   "cell_type": "code",
   "execution_count": 15,
   "id": "d292dda4",
   "metadata": {},
   "outputs": [],
   "source": [
    "try:\n",
    "    counter = driver.find_element_by_class_name(\"quantity-counter\")\n",
    "except NoSuchElementException:\n",
    "    raise Exception(\"La structure de cette page est particulière, il va falloir trouver les bonnes balises à la main.\")\n",
    "else:\n",
    "    xpath_current_count = './/input'\n",
    "    current_count = int(counter.find_element_by_xpath('.//div[2]/input').get_attribute(\"value\"))\n",
    "    xpath_minus = './/div[@class=\"quantity-counter__action minus\"]'\n",
    "    xpath_plus = './/div[@class=\"quantity-counter__action plus\"]'"
   ]
  },
  {
   "cell_type": "code",
   "execution_count": 16,
   "id": "b486c51d",
   "metadata": {},
   "outputs": [],
   "source": [
    "NB_PERSONNES = 8\n",
    "\n",
    "nb_clicks = NB_PERSONNES - current_count\n",
    "if nb_clicks > 0:\n",
    "    xpath_button_nb_persons = xpath_plus\n",
    "elif nb_clicks < 0:\n",
    "    xpath_button_nb_persons = xpath_minus\n",
    "for i in range(abs(nb_clicks)):\n",
    "    driver.find_element_by_xpath(xpath_button_nb_persons).click()"
   ]
  },
  {
   "cell_type": "markdown",
   "id": "2c8d8be1",
   "metadata": {},
   "source": [
    "7. Marmiton a un mode liste de courses qui va nous être bien pratique pour récupérer les ingrédients au bon format.\n",
    "A l'aide de Selenium, cliquer sur le bouton \"liste\" (à droite de l'outil pour ajuster le nombre de personnes).\n"
   ]
  },
  {
   "cell_type": "code",
   "execution_count": 17,
   "id": "90a085f3",
   "metadata": {},
   "outputs": [],
   "source": [
    "display_options = driver.find_element_by_class_name(\"ingredient-list__display-options\")\n",
    "display_options.find_element_by_xpath(\".//i[2]\").click()"
   ]
  },
  {
   "cell_type": "markdown",
   "id": "46fd386b",
   "metadata": {},
   "source": [
    "8. Selon les cas, il peut être nécessaire de cliquer ensuite sur un autre bouton permettant de développer la liste.\n",
    "Effectuer cette action (si nécessaire !).\n",
    "Cela permettra d'être sûr que l'on récupère bien tous les ingrédients pour construire notre liste de courses.\n"
   ]
  },
  {
   "cell_type": "code",
   "execution_count": 18,
   "id": "c3949401",
   "metadata": {},
   "outputs": [],
   "source": [
    "# xpath_expand_list = \"/html/body/div[2]/div[3]/main/div/div/div[1]/div[1]/div[7]/div[2]/div[3]\"\n",
    "# try:\n",
    "#     driver.find_element_by_xpath(xpath_expand_list).click()\n",
    "# except ElementClickInterceptedException:\n",
    "#     pass\n",
    "\n",
    "# driver.implicitly_wait(2)  # Make sure that the elements are displayed after pressing button"
   ]
  },
  {
   "cell_type": "markdown",
   "id": "cf9b280a",
   "metadata": {},
   "source": [
    "9. Récupérer la liste des ingrédients ainsi que des quantités nécessaires. Stocker les éléments dans une liste.\n"
   ]
  },
  {
   "cell_type": "code",
   "execution_count": 19,
   "id": "bf3f1d04",
   "metadata": {},
   "outputs": [],
   "source": [
    "list_ings_div = driver.find_element_by_class_name(\"ingredient-list__ingredient-group\")\n",
    "list_ings = [x.text for x in list_ings_div.find_elements_by_tag_name(\"li\")]\n",
    "print(list_ings)"
   ]
  },
  {
   "cell_type": "markdown",
   "id": "740b739f",
   "metadata": {},
   "source": [
    "    ['500 g de lardons', 'poivre', '2 pincées de sel', '1 kg de pâtes', '1 l de crème fraîche', \"6 jaunes d'oeuf\", '2 oignons']\n",
    "\n",
    "\n",
    "10. Exporter la liste dans un fichier texte sur votre ordinateur.\n"
   ]
  },
  {
   "cell_type": "code",
   "execution_count": 20,
   "id": "e19b9510",
   "metadata": {},
   "outputs": [],
   "source": [
    "with open(\"shopping_list.txt\", \"w\") as f:\n",
    "    for ing in list_ings:\n",
    "        f.write(ing + \"\\n\")"
   ]
  },
  {
   "cell_type": "markdown",
   "id": "c9821940",
   "metadata": {},
   "source": [
    "11. La liste est prête, mais il va aussi nous falloir la recette. Récupérer la recette, et l'exporter dans un fichier texte séparé, qui porte le nom du plat choisi.\n"
   ]
  },
  {
   "cell_type": "code",
   "execution_count": 21,
   "id": "3b4cd3f4",
   "metadata": {},
   "outputs": [],
   "source": [
    "recipe = driver.find_element_by_class_name(\"recipe-step-list\").text\n",
    "\n",
    "with open(f\"recipe_{PLAT}.txt\", \"w\") as f:\n",
    "    f.write(recipe)"
   ]
  },
  {
   "cell_type": "markdown",
   "id": "9f327503",
   "metadata": {},
   "source": [
    "12. L'outil fonctionne... pour un plat donné. Adapter le code précédent pour prendre en entrée une liste de plats, et retourner en sortie la liste de courses complète (en un seul fichier) pour pouvoir réaliser ces différents plats. Hint: il sera sûrement utile de faire une fonction qui prend en input un plat et exporte la liste de courses pour ce plat, et ensuite d'appeler cette fonction pour chaque plat dans le cadre d'une boucle. Attention de ne pas écraser la liste de courses précédentes à chaque fois !\n"
   ]
  }
 ],
 "metadata": {
  "kernelspec": {
   "display_name": "Python 3 (ipykernel)",
   "language": "python",
   "name": "python3"
  },
  "language_info": {
   "codemirror_mode": {
    "name": "ipython",
    "version": 3
   },
   "file_extension": ".py",
   "mimetype": "text/x-python",
   "name": "python",
   "nbconvert_exporter": "python",
   "pygments_lexer": "ipython3",
   "version": "3.9.12"
  }
 },
 "nbformat": 4,
 "nbformat_minor": 5
}
