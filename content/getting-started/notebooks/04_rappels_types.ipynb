{
 "cells": [
  {
   "cell_type": "markdown",
   "metadata": {},
   "source": [
    "#  Rappel de ce que vous savez déjà mais avez peut-être oublié"
   ]
  },
  {
   "cell_type": "markdown",
   "metadata": {},
   "source": [
    "[pandas](http://pandas.pydata.org/) et [numpy](http://www.numpy.org/) sont\n",
    "essentiels pour manipuler les données. \n",
    "Néanmoins, il est nécessaire de ne pas faire l'impasse sur les fondements \n",
    "du langage python. Une bonne compréhension des éléments structurants le\n",
    "langage entraîne une plus grande productivité et liberté.\n",
    "\n",
    "Voir aussi [Essential Cheat Sheets for Machine Learning and Deep Learning Engineers](https://startupsventurecapital.com/essential-cheat-sheets-for-machine-learning-and-deep-learning-researchers-efb6a8ebd2e5)."
   ]
  },
  {
   "cell_type": "markdown",
   "metadata": {},
   "source": [
    "## Les quelques règles de Python\n",
    "\n",
    "Python est un peu susceptible et protocolaire, plus formaliste que ne l'est `R`.\n",
    "Il y a ainsi quelques règles à respecter : \n",
    "\n",
    "*Règle 1:* **L'indentation est primordiale** : un code mal indenté provoque une erreur\n",
    "L'indentation indique à l'interpréteur où se trouvent les\n",
    "séparations entre des blocs d'instructions. Un peu comme des points dans un \n",
    "texte. \n",
    "\n",
    "Si les lignes ne sont pas bien alignées, l'interpréteur ne sait plus à quel\n",
    "bloc associer la ligne. Par exemple, le corps d'une fonction doit être indenté\n",
    "d'un niveau ; les éléments dans une clause logique (`if`, `else`, etc.) également"
   ]
  },
  {
   "cell_type": "markdown",
   "metadata": {},
   "source": [
    "*Règle 2:* On commence à compter à 0, comme dans beaucoup de langages\n",
    "(`C++`, `java`...). `python` diffère dans ce domaine de `R` où on commence\n",
    "à compter à 0. \n",
    "Le premier élément d'une liste est ainsi, en python, le 0-ème. \n",
    "\n",
    "*Règle 3:* Comme dans une langue naturelle, les marques de\n",
    "ponctuation sont importantes : \n",
    "\n",
    "* Pour une liste : `[]`\n",
    "* Pour un dictionnaire : `{}`\n",
    "* Pour un tuple : `()`\n",
    "* Pour séparer des éléments `:` ,\n",
    "* Pour commenter un bout de code : `#`\n",
    "* Pour aller à la ligne dans un bloc d'instructions : `\\`\n",
    "* Les majuscules et minuscules sont importantes\n",
    "* Par contre l'usage des `'` ou des `\"` est indifférent.\n",
    "Il faut juste avoir les mêmes début et fin.\n",
    "* Pour documenter une fonction ou une classe _\"\"\" mon texte de documentation \"\"\"_\n",
    "\n",
    "## Les outputs de Python : l'opération, le `print` et le `return`\n",
    "\n",
    "Quand Python réalise des opérations, il faut lui préciser ce qu'il doit en faire : \n",
    "* est-ce qu'il doit juste faire l'opération,\n",
    "* afficher le résultat de l'opération, \n",
    "* créer un objet avec le résultat de l'opération ?\n",
    "\n",
    "Contrairement à `R`, par défaut, python ne renvoie pas le résultat de la\n",
    "dernière opération effectuée. "
   ]
  },
  {
   "cell_type": "markdown",
   "metadata": {},
   "source": [
    "Remarque : dans l'environnement Notebook, le dernier élement d'une cellule\n",
    "est automatiquement affiché (print), qu'on lui demande ou non de le faire. Ce\n",
    "n'est pas le cas dans un éditeur classique comme Spyder ou PyCharm.\n"
   ]
  },
  {
   "cell_type": "code",
   "execution_count": null,
   "metadata": {},
   "outputs": [],
   "source": [
    "# on calcule : dans le cas d'une opération par exemple une somme\n",
    "2+3 # Python calcule le résultat mais n'affiche rien dans la sortie\n",
    "\n",
    "# le print : on affiche\n",
    "\n",
    "print(2+3) # Python calcule et on lui demande juste de l'afficher\n",
    "# le résultat est en dessous du code"
   ]
  },
  {
   "cell_type": "code",
   "execution_count": null,
   "metadata": {},
   "outputs": [],
   "source": [
    "# le print dans une fonction \n",
    "\n",
    "def addition_v1(a,b) : \n",
    "    print(a+b)\n",
    "\n",
    "resultat_print = addition_v1(2,0) \n",
    "print(type(resultat_print))\n",
    "\n",
    "# dans la sortie on a l'affichage du résultat, car la sortie de la fonction est un print \n",
    "# en plus on lui demande quel est le type du résultat. Un print ne renvoie aucun type, ce n'est ni un numérique,\n",
    "# ni une chaine de charactères, le résultat d'un print n'est pas un format utilisable"
   ]
  },
  {
   "cell_type": "markdown",
   "metadata": {},
   "source": [
    "Le résultat de l'addition est affiché\n",
    "\n",
    "La fonction addition_v1 effectue un print\n",
    "\n",
    "Par contre, l'objet crée n'a pas de type, il n'est pas un chiffre,\n",
    "ce n'est qu'un affichage.\n",
    "\n",
    "Pour créer un objet avec le résultat de la fonction, il faut utiliser __return__"
   ]
  },
  {
   "cell_type": "code",
   "execution_count": null,
   "metadata": {
    "lines_to_next_cell": 2
   },
   "outputs": [],
   "source": [
    "# le return dans une fonction\n",
    "def addition_v2(a,b) : \n",
    "    return a+b\n",
    "\n",
    "resultat_return = addition_v2(2,5) # \n",
    "print(type(resultat_return))\n",
    "## là on a bien un résultat qui est du type \"entier\""
   ]
  },
  {
   "cell_type": "markdown",
   "metadata": {},
   "source": [
    "Le résultat de addition_v2 n'est pas affiché comme dans addition_v1\n",
    "\n",
    "Par contre, la fonction addition_v2 permet d'avoir un objet de type `int`,\n",
    "un entier donc."
   ]
  },
  {
   "cell_type": "markdown",
   "metadata": {},
   "source": [
    "## Type de base : variables, listes, dictionnaires ...\n",
    "\n",
    "Pyhon permet de manipuler différents types de base\n",
    "\n",
    "On distingue deux types de variables : les immuables (*immutables*)\n",
    "qui ne peuvent être\n",
    "modifiés et les modifiables (*mutables*)\n",
    "\n",
    "### Les variables - types immuables\n",
    "\n",
    "Les variables immuables ne peuvent être modifiées\n",
    "\n",
    "- `None` : ce type est une convention de programmation pour dire que la valeur n'est pas calculée\n",
    "- `bool` : un booléen\n",
    "- `int` : un entier\n",
    "- `float` : un réel\n",
    "- `str` : une chaine de caractères\n",
    "- `tuple` : un vecteur\n",
    "\n"
   ]
  },
  {
   "cell_type": "code",
   "execution_count": null,
   "metadata": {},
   "outputs": [],
   "source": [
    "i = 3         # entier = type numérique (type int)\n",
    "r = 3.3       # réel   = type numérique (type float)\n",
    "s = \"exemple\" # chaîne de caractères = type str \n",
    "n = None      # None signifie que la variable existe mais qu'elle ne contient rien\n",
    "              # elle est souvent utilisée pour signifier qu'il n'y a pas de résultat\n",
    "a = (1,2)     # tuple\n",
    "\n",
    "print(i,r,s,n,a)         "
   ]
  },
  {
   "cell_type": "markdown",
   "metadata": {},
   "source": [
    "Si on essaie de changer le premier élément de la chaine de caractères __s__ on va avoir un peu de mal. \n",
    "\n",
    "Par exemple si on voulait mettre une majuscule à \"exemple\", on aurait envie d'écrire que le premier élément de la chaine s est \"E\" majuscule\n",
    "\n",
    "Mais Python ne va pas nous laisser faire, il nous dit que les objets \"chaine de caractère\" ne peuvent être modifiés"
   ]
  },
  {
   "cell_type": "code",
   "execution_count": null,
   "metadata": {},
   "outputs": [],
   "source": [
    "s[0] = \"E\"  # déclenche une exception"
   ]
  },
  {
   "cell_type": "markdown",
   "metadata": {},
   "source": [
    "Tout ce qu'on peut faire avec une variable immutable, c'est le réaffecter à une autre valeur : il ne peut pas être modifié\n",
    "\n",
    "Pour s'en convaincre, utilisons la fonction id() qui donne un identifiant à chaque objet."
   ]
  },
  {
   "cell_type": "code",
   "execution_count": null,
   "metadata": {},
   "outputs": [],
   "source": [
    "print(s)\n",
    "id(s)"
   ]
  },
  {
   "cell_type": "code",
   "execution_count": null,
   "metadata": {},
   "outputs": [],
   "source": [
    "s = \"autre_mot\"\n",
    "id(s)"
   ]
  },
  {
   "cell_type": "markdown",
   "metadata": {},
   "source": [
    "On voit bien que s a changé d'identifiant : il peut avoir le même nom, ce n'est plus le même objet"
   ]
  },
  {
   "cell_type": "markdown",
   "metadata": {},
   "source": [
    "### Les variables - types modifiable : listes et dictionnaires\n",
    "\n",
    "Heureusement, il existe des variables modifiables comme les listes et les dictionnaires.  \n",
    "\n",
    "#### Les listes - elles s''écrivent entre [ ]\n",
    "\n",
    "\n",
    "Les listes sont des élements très utiles, notamment quand vous souhaitez faire des boucles\n",
    "\n",
    "Pour faire appel aux élements d'une liste, on donne leur position dans la liste : le 1er est le 0, le 2ème est le 1 ..."
   ]
  },
  {
   "cell_type": "code",
   "execution_count": null,
   "metadata": {},
   "outputs": [],
   "source": [
    "ma_liste = [1,2,3,4]\n",
    "\n",
    "\n",
    "print(\"La longueur de ma liste est de\", len(ma_liste))\n",
    "\n",
    "print(\"Le premier élément de ma liste est :\", ma_liste[0])\n",
    "\n",
    "print(\"Le dernier élément de ma liste est :\", ma_liste[3])\n",
    "print(\"Le dernier élément de ma liste est :\", ma_liste[-1])"
   ]
  },
  {
   "cell_type": "markdown",
   "metadata": {},
   "source": [
    "#### Les dictionnaires - ils s'écrivent entre { }\n",
    "Un dictionnaire associe à une clé un autre élément, appelé une valeur : un chiffre, un nom, une liste, un autre dictionnaire etc.\n",
    "\n",
    "  - __Format d'un dictionnaire : {Clé : valeur}__\n",
    "   "
   ]
  },
  {
   "cell_type": "markdown",
   "metadata": {},
   "source": [
    "#### Dictionnaire avec des valeurs int\n",
    "\n",
    "On peut par exemple associer à un nom, un nombre"
   ]
  },
  {
   "cell_type": "code",
   "execution_count": null,
   "metadata": {},
   "outputs": [],
   "source": [
    "mon_dictionnaire_notes = { 'Nicolas' : 18 , 'Pimprenelle' : 15} \n",
    "# un dictionnaire qui à chaque nom associe un nombre\n",
    "# à Nicolas, on associe 18\n",
    "\n",
    "print(mon_dictionnaire_notes) "
   ]
  },
  {
   "cell_type": "markdown",
   "metadata": {},
   "source": [
    "#### Dictionnaire avec des valeurs qui sont des listes"
   ]
  },
  {
   "cell_type": "markdown",
   "metadata": {},
   "source": [
    "Pour chaque clé d'un dictionnaire, il ne faut pas forcément garder la même forme de valeur\n",
    "\n",
    "Dans l'exemple, la valeur de la clé \"Nicolas\" est une liste, alors que celle de \"Philou\" est une liste de liste"
   ]
  },
  {
   "cell_type": "code",
   "execution_count": null,
   "metadata": {},
   "outputs": [],
   "source": [
    "mon_dictionnaire_loisirs =  \\\n",
    "{ 'Nicolas' : ['Rugby','Pastis','Belote'] , \n",
    "  'Pimprenelle' : ['Gin Rami','Tisane','Tara Jarmon','Barcelone','Mickey Mouse'],\n",
    "  'Philou' : [['Maths','Jeux'],['Guillaume','Jeanne','Thimothée','Adrien']]}"
   ]
  },
  {
   "cell_type": "markdown",
   "metadata": {},
   "source": [
    "Pour accéder à un élément du dictionnaire, on fait appel à la clé et non plus à la position, comme c'était le cas dans les listes"
   ]
  },
  {
   "cell_type": "code",
   "execution_count": null,
   "metadata": {},
   "outputs": [],
   "source": [
    "print(mon_dictionnaire_loisirs['Nicolas']) # on affiche une liste"
   ]
  },
  {
   "cell_type": "code",
   "execution_count": null,
   "metadata": {},
   "outputs": [],
   "source": [
    "print(mon_dictionnaire_loisirs['Philou']) # on affiche une liste de listes"
   ]
  },
  {
   "cell_type": "markdown",
   "metadata": {},
   "source": [
    "Si on ne veut avoir que la première liste des loisirs de Philou, on demande le premier élément de la liste"
   ]
  },
  {
   "cell_type": "code",
   "execution_count": null,
   "metadata": {},
   "outputs": [],
   "source": [
    "print(mon_dictionnaire_loisirs['Philou'][0]) # on affiche alors juste la première liste"
   ]
  },
  {
   "cell_type": "markdown",
   "metadata": {},
   "source": [
    "On peut aussi avoir des valeurs qui sont des int et des listes"
   ]
  },
  {
   "cell_type": "code",
   "execution_count": null,
   "metadata": {},
   "outputs": [],
   "source": [
    "mon_dictionnaire_patchwork_good = \\\n",
    "{ 'Nicolas' : ['Rugby','Pastis','Belote'] ,\n",
    "  'Pimprenelle' : 18 }"
   ]
  },
  {
   "cell_type": "markdown",
   "metadata": {},
   "source": [
    "### A retenir "
   ]
  },
  {
   "cell_type": "markdown",
   "metadata": {},
   "source": [
    "- L'indentation du code est importante (4 espaces et pas une tabulation)\n",
    "- Une __liste__ est entre [] et on peut appeler les positions par leur place \n",
    "- Un __dictionnaire__, clé x valeur, s'écrit entre {} et on appelle un élément en fonction de la clé\n",
    "\n",
    "## Questions pratiques : \n",
    "\n",
    "   - Quelle est la position de 7 dans la liste suivante"
   ]
  },
  {
   "cell_type": "code",
   "execution_count": null,
   "metadata": {},
   "outputs": [],
   "source": [
    "liste_nombres = [1,2,7,5,3]"
   ]
  },
  {
   "cell_type": "markdown",
   "metadata": {},
   "source": [
    "- Combien de clés a ce dictionnaire ?     "
   ]
  },
  {
   "cell_type": "code",
   "execution_count": null,
   "metadata": {},
   "outputs": [],
   "source": [
    " dictionnaire_evangile = {\"Marc\" : \"Lion\", \"Matthieu\" : [\"Ange\",\"Homme ailé\"] , \n",
    "                          \"Jean\" : \"Aigle\" , \"Luc\" : \"Taureau\"}"
   ]
  },
  {
   "cell_type": "markdown",
   "metadata": {},
   "source": [
    "- Que faut-il écrire pour obtenir \"Ange\" en résultat à partir du dictionnaire_evangile ? "
   ]
  },
  {
   "cell_type": "markdown",
   "metadata": {},
   "source": [
    "## Objets : méthodes et attributs\n",
    "\n",
    "Mainentant qu'on a vu quels objets existaient en Python, nous allons\n",
    "voir comment nous en servir."
   ]
  },
  {
   "cell_type": "markdown",
   "metadata": {},
   "source": [
    "### Un petit détour pour bien comprendre : Un objet, c'est quoi ? \n",
    "\n",
    "Un objet a deux choses : des attributs et des méthodes\n",
    "\n",
    "   - Les attributs décrivent sa structure interne : sa taille, sa forme (dont on ne va pas parler ici)\n",
    "   - Les méthodes sont des  \"actions\" qui s'appliqueront à l'objet"
   ]
  },
  {
   "cell_type": "markdown",
   "metadata": {},
   "source": [
    "### Premiers exemples de méthode\n",
    "\n",
    "Avec les éléments définis dans la partie 1 (les listes, les dictionnaires) on peut faire appel à des méthodes qui sont directement liées à ces objets.\n",
    "\n",
    "Les méthodes, c'est un peu les actions de Python. "
   ]
  },
  {
   "cell_type": "markdown",
   "metadata": {},
   "source": [
    "#### Une méthode pour les listes \n",
    "\n",
    "Pour ajouter un item dans une liste : on va utiliser la méthode _.append()_"
   ]
  },
  {
   "cell_type": "code",
   "execution_count": null,
   "metadata": {},
   "outputs": [],
   "source": [
    "ma_liste = [\"Nicolas\",\"Michel\",\"Bernard\"]\n",
    "\n",
    "ma_liste.append(\"Philippe\")\n",
    "\n",
    "print(ma_liste)"
   ]
  },
  {
   "cell_type": "markdown",
   "metadata": {},
   "source": [
    "#### Une méthode pour les dictionnaires\n",
    "\n",
    "Pour connaitre l'ensemble des clés d'un dictionnaire, on appelle la méthode _.keys()_"
   ]
  },
  {
   "cell_type": "code",
   "execution_count": null,
   "metadata": {},
   "outputs": [],
   "source": [
    "mon_dictionnaire = {\"Marc\" : \"Lion\", \"Matthieu\" : [\"Ange\",\"Homme ailé\"] , \n",
    "                          \"Jean\" : \"Aigle\" , \"Luc\" : \"Taureau\"}\n",
    "\n",
    "print(mon_dictionnaire.keys())"
   ]
  },
  {
   "cell_type": "markdown",
   "metadata": {},
   "source": [
    "### Connaitre les méthodes d'un objet\n",
    "\n",
    "Pour savoir quelles sont les méthodes d'un objet vous pouvez : \n",
    "  - taper help(mon_objet) ou mon_objet? dans la console iPython\n",
    "  - taper mon_objet. + touche tabulation dans la console iPython ou dans le notebook . iPython permet la complétion, c'est-à-dire que vous pouvez faire appaître la liste"
   ]
  },
  {
   "cell_type": "markdown",
   "metadata": {},
   "source": [
    "## Les opérations et méthodes classiques des listes"
   ]
  },
  {
   "cell_type": "markdown",
   "metadata": {},
   "source": [
    "### Créer une liste\n",
    "\n",
    "Pour créer un objet de la classe list, il suffit de le déclarer. Ici on affecte à __x__ une liste"
   ]
  },
  {
   "cell_type": "code",
   "execution_count": null,
   "metadata": {},
   "outputs": [],
   "source": [
    "x = [4, 5] # création d’une liste composée de deux entiers\n",
    "x = [\"un\", 1, \"deux\", 2] # création d’une liste composée de 2 chaînes de caractères\n",
    "# et de deux entiers, l’ordre d’écriture est important\n",
    "x = [3] # création d’une liste d’un élément, sans la virgule,\n",
    "x = [ ] # crée une liste vide\n",
    "x = list () # crée une liste vide"
   ]
  },
  {
   "cell_type": "markdown",
   "metadata": {},
   "source": [
    "### Un premier test sur les listes\n",
    "\n",
    "Si on veut tester la présence d'un élément dans une liste, on l'écrit de la manière suivante : "
   ]
  },
  {
   "cell_type": "code",
   "execution_count": null,
   "metadata": {},
   "outputs": [],
   "source": [
    "# Exemple \n",
    "\n",
    "x = \"Marcel\"\n",
    "\n",
    "l = [\"Marcel\",\"Edith\",\"Maurice\",\"Jean\"]\n",
    "\n",
    "print(x in l)\n",
    "\n",
    "#vrai si x est un des éléments de l"
   ]
  },
  {
   "cell_type": "markdown",
   "metadata": {},
   "source": [
    "### Pour concaténer deux listes : \n",
    "On utilise le symbole +"
   ]
  },
  {
   "cell_type": "code",
   "execution_count": null,
   "metadata": {},
   "outputs": [],
   "source": [
    "t = [\"Antoine\",\"David\"]\n",
    "print(l + t) #concaténation de l et t"
   ]
  },
  {
   "cell_type": "markdown",
   "metadata": {},
   "source": [
    "### Pour trouver certains éléments d'une liste\n",
    "Pour chercher des élements dans une liste, on utilise la position dans la liste. "
   ]
  },
  {
   "cell_type": "code",
   "execution_count": null,
   "metadata": {},
   "outputs": [],
   "source": [
    "l[1] # donne l'élément qui est en 2ème position de la liste"
   ]
  },
  {
   "cell_type": "code",
   "execution_count": null,
   "metadata": {},
   "outputs": [],
   "source": [
    "l[1:3] # donne les éléments de la 2ème position de la liste à la 4ème exclue"
   ]
  },
  {
   "cell_type": "markdown",
   "metadata": {},
   "source": [
    "### Quelques fonctions des listes"
   ]
  },
  {
   "cell_type": "code",
   "execution_count": null,
   "metadata": {},
   "outputs": [],
   "source": [
    "longueur = len(l) # nombre d’éléments de l\n",
    "\n",
    "minimum = min(l) # plus petit élément de l, ici par ordre alphabétique\n",
    "\n",
    "maximum = max(l) # plus grand élément de l, ici par ordre alphabétique\n",
    "\n",
    "print(longueur,minimum,maximum)"
   ]
  },
  {
   "cell_type": "code",
   "execution_count": null,
   "metadata": {},
   "outputs": [],
   "source": [
    "del l[0 : 2] # supprime les éléments entre la position 0 et 2 exclue\n",
    "print(l)"
   ]
  },
  {
   "cell_type": "markdown",
   "metadata": {},
   "source": [
    "## Les méthodes des listes\n",
    "\n",
    "On les trouve dans l'aide de la liste. On distingue les méthodes et les méthodes spéciales : visuellement, les méthodes spéciales sont celles qui précédées et suivis de deux caractères de soulignement, les autres sont des méthodes classiques.\n",
    "\n"
   ]
  },
  {
   "cell_type": "code",
   "execution_count": null,
   "metadata": {},
   "outputs": [],
   "source": [
    "help(l)"
   ]
  },
  {
   "cell_type": "markdown",
   "metadata": {},
   "source": [
    "## A retenir et questions\n",
    "\n",
    "A retenir : \n",
    "\n",
    "- Chaque objet Python a des attributs et des méthodes\n",
    "- Vous pouvez créer des classes avec des attributs et des méthodes \n",
    "- Les méthodes des listes et des dictionnaires sont les plus utilisées : \n",
    "    - list.count()\n",
    "    - list.sort()\n",
    "    - list.append()\n",
    "    - dict.keys()\n",
    "    - dict.items()\n",
    "    - dict.values()\n",
    "    \n",
    "------"
   ]
  },
  {
   "cell_type": "markdown",
   "metadata": {},
   "source": [
    "Questions pratiques : \n",
    "\n",
    " - Définir la liste allant de 1 à 10, puis effectuez les actions suivantes :\n",
    " \n",
    "        – triez et affichez la liste \n",
    "        – ajoutez l’élément 11 à la liste et affichez la liste \n",
    "        – renversez et affichez la liste \n",
    "        – affichez l’indice de l’élément 7 \n",
    "        – enlevez l’élément 9 et affichez la liste \n",
    "        – affichez la sous-liste du 2e au 3e élément ;\n",
    "        – affichez la sous-liste du début au 2e élément ;\n",
    "        – affichez la sous-liste du 3e élément à la fin de la liste ;\n",
    "\n",
    "\n",
    "\n",
    "- Construire le dictionnaire des 6 premiers mois de l'année avec comme valeurs le nombre de jours respectif. \n",
    "\n",
    "        - Renvoyer la liste des mois. \n",
    "        - Renvoyer la liste des jours.\n",
    "        - Ajouez la clé du mois de Juillet ?\n",
    " \n",
    "\n",
    "\n",
    "\n",
    "## Passer des listes, dictionnaires à pandas"
   ]
  },
  {
   "cell_type": "markdown",
   "metadata": {},
   "source": [
    "Supposons que la variable 'data' est un liste qui contient nos données. \n",
    "\n",
    "Une observation correspond à un dictionnaire qui contient le nom, le type, l'ambiance et la note d'un restaurant. \n",
    "\n",
    "Il est aisé de transformer cette liste en dataframe grâce à la fonction 'DataFrame'."
   ]
  },
  {
   "cell_type": "code",
   "execution_count": null,
   "metadata": {},
   "outputs": [],
   "source": [
    "import pandas \n",
    "\n",
    "data = [{\"nom\": \"Little Pub\", \"type\" : \"Bar\", \"ambiance\": 9, \"note\": 7},\n",
    "     {\"nom\": \"Le Corse\", \"type\" : \"Sandwicherie\", \"ambiance\": 2, \"note\": 8},\n",
    "     {\"nom\": \"Café Caumartin\", \"type\" : \"Bar\", \"ambiance\": 1}]\n",
    "\n",
    "df = pandas.DataFrame(data)\n",
    "\n",
    "print(data)\n",
    "df"
   ]
  }
 ],
 "metadata": {
  "kernelspec": {
   "display_name": "Python 3",
   "language": "python",
   "name": "python3"
  }
 },
 "nbformat": 4,
 "nbformat_minor": 4
}
