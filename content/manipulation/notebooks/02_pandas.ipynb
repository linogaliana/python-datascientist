{
 "cells": [
  {
   "cell_type": "markdown",
   "metadata": {},
   "source": [
    "#  Introduction à pandas"
   ]
  },
  {
   "cell_type": "markdown",
   "metadata": {},
   "source": [
    "Pour visualiser le [TP associé à ce tutoriel](pandasTP) : \n",
    "<!---- reminder_badges(\"content/manipulation/02_pandas_tp.ipynb\") --->\n",
    "<a href=\"https://github.com/linogaliana/python-datascientist/blob/master/content/manipulation/notebooks/02_pandas_tp.ipynb\" class=\"github\"><i class=\"fab fa-github\"></i></a>\n",
    "[![nbviewer](https://img.shields.io/badge/visualize-nbviewer-blue)](https://nbviewer.jupyter.org/github/linogaliana/python-datascientist/blob/master/content/manipulation/notebooks/02_pandas_tp.ipynb)\n",
    "[![Onyxia](https://img.shields.io/badge/launch-onyxia-brightgreen)](https://spyrales.sspcloud.fr/my-lab/catalogue/inseefrlab-datascience/jupyter/deploiement)\n",
    "[![Binder](https://mybinder.org/badge_logo.svg)](https://mybinder.org/v2/gh/linogaliana/python-datascientist/master?filepath=content/manipulation/notebooks/02_pandas_tp.ipynb)\n",
    "[![Open In Colab](https://colab.research.google.com/assets/colab-badge.svg)](http://colab.research.google.com/github/linogaliana/python-datascientist/blob/master/content/manipulation/notebooks/02_pandas_tp.ipynb)\n",
    "\n",
    "\n",
    "\n",
    "\n"
   ]
  },
  {
   "cell_type": "markdown",
   "metadata": {},
   "source": [
    "Dans ce tutoriel `pandas`, nous allons utiliser:\n",
    "\n",
    "* Les émissions de gaz à effet de serre estimées au niveau communal par l'ADEME. Le jeu de données est \n",
    "disponible sur [data.gouv](https://www.data.gouv.fr/fr/datasets/inventaire-de-gaz-a-effet-de-serre-territorialise/#_)\n",
    "et requêtable directement dans python avec\n",
    "[cet url](https://koumoul.com/s/data-fair/api/v1/datasets/igt-pouvoir-de-rechauffement-global/convert)\n",
    "* Quelques données de contexte au niveau communal. Idéalement, on utiliserait les données\n",
    "[disponibles sur le site de l'Insee](https://www.insee.fr/fr/statistiques/3560121). Pour faciliter l'import de celles-ci, les données ont été mises à disposition dans le dépôt github, [sur cet url](https://github.com/linogaliana/python-datascientist/blob/pandas_intro/data/filosofi_2016.csv)"
   ]
  },
  {
   "cell_type": "markdown",
   "metadata": {},
   "source": [
    ":warning: `pandas` offre la possibilité d'importer des données\n",
    "directement depuis un url. C'est l'option prise dans ce tutoriel.\n",
    "Si vous préfèrez, pour des\n",
    "raisons d'accès au réseau ou de performance, importer depuis un poste local,\n",
    "vous pouvez télécharger les données et changer\n",
    "les commandes d'import avec le chemin adéquat plutôt que l'url. \n",
    "\n",
    "Nous suivrons les conventions habituelles dans l'import des packages\n"
   ]
  },
  {
   "cell_type": "code",
   "execution_count": null,
   "metadata": {},
   "outputs": [],
   "source": [
    "import numpy as np\n",
    "import pandas as pd\n",
    "import matplotlib.pyplot as plt"
   ]
  },
  {
   "cell_type": "markdown",
   "metadata": {},
   "source": [
    "Pour obtenir des résultats reproductibles, on peut fixer la racine du générateur\n",
    "pseudo-aléatoire. \n"
   ]
  },
  {
   "cell_type": "code",
   "execution_count": null,
   "metadata": {},
   "outputs": [],
   "source": [
    "np.random.seed(123)"
   ]
  },
  {
   "cell_type": "markdown",
   "metadata": {},
   "source": [
    "Au cours de cette démonstration des principales fonctionalités de `pandas`, et\n",
    "lors du TP\n",
    "[![Onyxia](https://img.shields.io/badge/launch-onyxia-brightgreen)](https://spyrales.sspcloud.fr/my-lab/catalogue/inseefrlab-datascience/jupyter/deploiement)\n",
    "[![Binder](https://mybinder.org/badge_logo.svg)](https://mybinder.org/v2/gh/linogaliana/python-datascientist/master?filepath=content/manipulation/notebooks/02_pandas_tp.ipynb)\n",
    "[![Open In Colab](https://colab.research.google.com/assets/colab-badge.svg)](http://colab.research.google.com/github/linogaliana/python-datascientist/blob/master/content/manipulation/notebooks/02_pandas_tp.ipynb)\n",
    "\n",
    ",\n",
    "je recommande de régulièrement se référer aux ressources suivantes:\n",
    "\n",
    "* L'[aide officielle de pandas](https://pandas.pydata.org/docs/user_guide/index.html).\n",
    "Notamment, la\n",
    "[page de comparaison des langages](https://pandas.pydata.org/pandas-docs/stable/getting_started/comparison/index.html)\n",
    "est très utile\n",
    "* La cheatsheet suivante, [issue de ce post](https://becominghuman.ai/cheat-sheets-for-ai-neural-networks-machine-learning-deep-learning-big-data-678c51b4b463)\n",
    "\n",
    "![Cheasheet pandas](https://cdn-images-1.medium.com/max/2000/1*YhTbz8b8Svi22wNVvqzneg.jpeg)\n",
    "\n",
    "# Logique de pandas\n",
    "\n",
    "L'objet central dans la logique `pandas` est le `DataFrame`.\n",
    "Il s'agit d'une structure particulière de données\n",
    "à deux dimensions, structurées en alignant des lignes et colonnes. Les colonnes\n",
    "peuvent être de type différent. \n",
    "\n",
    "Un DataFrame est composé des éléments suivants:\n",
    "\n",
    "* l'indice de la ligne ;\n",
    "* le nom de la colonne ;\n",
    "* la valeur de la donnée ;\n",
    "\n",
    "Structuration d'un DataFrame pandas, emprunté à <https://medium.com/epfl-extension-school/selecting-data-from-a-pandas-dataframe-53917dc39953>:\n",
    "\n",
    "![](https://miro.medium.com/max/700/1*6p6nF4_5XpHgcrYRrLYVAw.png)\n",
    "\n",
    "Le concept de *tidy* data, popularisé par Hadley Wickham via ses packages `R`,\n",
    "est parfaitement pertinent pour décrire la structure d'un DataFrame pandas. \n",
    "Les trois règles sont les suivantes:\n",
    "\n",
    "* Chaque variable possède sa propre colonne\n",
    "* Chaque observation possède sa propre ligne\n",
    "* Une valeur, matérialisant la valeur d'une observation d'une variable, \n",
    "se trouve sur une unique cellule."
   ]
  },
  {
   "cell_type": "markdown",
   "metadata": {},
   "source": [
    "![Concept de tidy data (emprunté à H. Wickham)](https://d33wubrfki0l68.cloudfront.net/6f1ddb544fc5c69a2478e444ab8112fb0eea23f8/91adc/images/tidy-1.png)\n",
    "\n",
    ":warning: Les DataFrames sont assez rapides en Python[^1] et permettent de traiter de manière efficace des tables de\n",
    "données comportant plusieurs millions d'observations et dont la volumétrie peut être conséquente (plusieurs centaines\n",
    "de Mo). Néanmoins,  passé un certain seuil, qui dépend de la puissance de la machine mais aussi de la complexité\n",
    "de l'opération effectuée, le DataFrame `pandas` peut montrer certaines limites. Dans ce cas, il existe différentes\n",
    "solutions: `dask` (dataframe aux opérations parallélisés), SQL (notamment posgres), spark (solution big data)\n",
    "\n",
    "[^1]:  En `R`, les deux formes de dataframes qui se sont imposées récemment sont les `tibbles` (package `dplyr`)\n",
    "et les `data.tables` (package `data.table`). `dplyr` reprend la syntaxe SQL de manière relativement\n",
    "transparente ce qui rend la syntaxe très proche de celle de `pandas`. Cependant, \n",
    "alors que `dplyr` supporte très mal les données dont la volumétrie dépasse 1Go, `pandas` s'en\n",
    "accomode bien. Les performances de `pandas` sont plus proches de celles de `data.table`, qui est \n",
    "connu pour être une approche efficace avec des données de taille importante. \n",
    "\n",
    "Concernant la syntaxe, une partie des commandes python est inspirée par la logique SQL. On retrouvera ainsi\n",
    "des instructions relativement transparentes.\n",
    "\n",
    "Il est vivement recommandé, avant de se lancer dans l'écriture d'une\n",
    "fonction, de se poser la question de son implémentation native dans `numpy`, `pandas`, etc. \n",
    "En particulier, la plupart du temps, les boucles sont à bannir. \n",
    "\n",
    "# Les Series\n",
    "\n",
    "En fait, un DataFrame est une collection d'objets appelés `pandas.Series`. \n",
    "Ces `Series` sont des objets d'une dimension qui sont des extensions des\n",
    "array-unidimensionnels `numpy`. En particulier, pour faciliter le traitement\n",
    "de données catégorielles ou temporelles, des types de variables\n",
    "supplémentaires sont disponibles dans `pandas` par rapport à\n",
    "`numpy` (`categorical`, `datetime64` et `timedelta64`). Ces\n",
    "types sont associés à des méthodes optimisées pour faciliter le traitement\n",
    "de ces données.\n",
    "\n",
    "Il ne faut pas négliger l'attribut `dtype` d'un objet\n",
    "`pandas.Series` car cela a une influence déterminante sur les méthodes\n",
    "et fonctions pouvant être utilisés (on ne fait pas les mêmes opérations\n",
    "sur une donnée temporelle et une donnée catégorielle) et le volume en\n",
    "mémoire d'une variable (le type de la variable détermine le volume\n",
    "d'information stocké pour chaque élément ; être trop précis est parfois\n",
    "néfaste)."
   ]
  },
  {
   "cell_type": "markdown",
   "metadata": {},
   "source": [
    "### Indexation\n",
    "\n",
    "La différence essentielle entre une `Series` et un objet `numpy` est l'indexation.\n",
    "Dans `numpy`,\n",
    "l'indexation est implicite ; elle permet d'accéder à une donnée (celle à\n",
    "l'index situé à la position *i*).\n",
    "Avec une `Series`, on peut bien-sûr utiliser un indice de position mais on peut \n",
    "surtout faire appel à des indices plus explicites.\n",
    "Par exemple,\n"
   ]
  },
  {
   "cell_type": "code",
   "execution_count": null,
   "metadata": {},
   "outputs": [],
   "source": [
    "taille = pd.Series(\n",
    "    [1.,1.5,1],\n",
    "    index = ['chat', 'chien', 'koala']\n",
    ")\n",
    "\n",
    "taille.head()"
   ]
  },
  {
   "cell_type": "markdown",
   "metadata": {},
   "source": [
    "```\n",
    "## chat     1.0\n",
    "## chien    1.5\n",
    "## koala    1.0\n",
    "## dtype: float64\n",
    "```"
   ]
  },
  {
   "cell_type": "markdown",
   "metadata": {},
   "source": [
    "Cette indexation permet d'accéder à des valeurs de la `Series`\n",
    "via une valeur de l'indice. Par\n",
    "exemple, `taille['koala']`:\n"
   ]
  },
  {
   "cell_type": "code",
   "execution_count": null,
   "metadata": {},
   "outputs": [],
   "source": [
    "taille['koala']"
   ]
  },
  {
   "cell_type": "markdown",
   "metadata": {},
   "source": [
    "```\n",
    "## 1.0\n",
    "```\n",
    "\n",
    "L'existence d'indice rend le *subsetting* particulièrement aisé, ce que vous\n",
    "pouvez expérimenter dans les TP \n",
    "[![Binder](https://mybinder.org/badge_logo.svg)](https://mybinder.org/v2/gh/linogaliana/python-datascientist/master)\n",
    "[![Onyxia](https://img.shields.io/badge/launch-onyxia-blue)](https://spyrales.sspcloud.fr/my-lab/catalogue/inseefrlab-datascience/jupyter/deploiement)\n",
    "[![Open In Colab](https://colab.research.google.com/assets/colab-badge.svg)](http://colab.research.google.com/github/linogaliana/python-datascientist/blob/pandas_intro/static/notebooks/numpy.ipynb)\n",
    " ([ou depuis github](https://github.com/linogaliana/python-datascientist/blob/master/content/01_data/02_pandas_tp.ipynb))\n"
   ]
  },
  {
   "cell_type": "markdown",
   "metadata": {},
   "source": [
    "Pour transformer un objet `pandas.Series` en array `numpy`, \n",
    "on utilise la méthode `values`. Par exemple, `taille.values`:\n"
   ]
  },
  {
   "cell_type": "code",
   "execution_count": null,
   "metadata": {},
   "outputs": [],
   "source": [
    "taille.values"
   ]
  },
  {
   "cell_type": "markdown",
   "metadata": {},
   "source": [
    "```\n",
    "## array([1. , 1.5, 1. ])\n",
    "```\n",
    "\n",
    "Un avantage des `Series` par rapport à un *array* `numpy` est que\n",
    "les opérations sur les `Series` alignent\n",
    "automatiquement les données à partir des labels.\n",
    "Avec des `Series` labélisées, il n'est ainsi pas nécessaire\n",
    "de se poser la question de l'ordre des lignes.\n",
    "L'exemple dans la partie suivante permettra de s'en assurer."
   ]
  },
  {
   "cell_type": "markdown",
   "metadata": {},
   "source": [
    "### Valeurs manquantes\n",
    "\n",
    "Par défaut, les valeurs manquantes sont affichées `NaN` et sont de type `np.nan` (pour \n",
    "les valeurs temporelles, i.e. de type `datatime64`, les valeurs manquantes sont\n",
    "`NaT`)."
   ]
  },
  {
   "cell_type": "markdown",
   "metadata": {},
   "source": [
    "<!-----\n",
    "{{< panel status=\"danger\" title=\"warning\" icon=\"fa fa-exclamation-triangle\" >}}\n",
    ":warning: Il faut **vraiment faire attention** aux valeurs manquantes, notamment lorsqu'on utilise les\n",
    "méthodes de statistiques descriptives présentées ultérieurement. Les règles sont les suivantes: \n",
    "\n",
    "* Dans les opérations de somme ou de moyenne d'une valeur, les valeurs manquantes\n",
    " sont traitées comme des `0`. C'est un comportement par défaut différent\n",
    " de celui de `R` où les opérations `sum`, `mean`, etc. renvoient un `NA`.\n",
    " __C'est très dangereux pour la moyenne__: la valeur n'est pas ignorée, elle est traitée comme un\n",
    " `0` (ce qui biaise la moyenne). Le paramètre crucial à changer pour\n",
    " ignorer la valeur (et non la remplacer par 0!) est `skipna` (cet argument\n",
    " permettant un comportement équivalent à `na.rm = TRUE` en `R`).\n",
    " Pour plus de détails, `help(pandas.Series.sum)`. \n",
    "* Les méthodes `cumsum` et `cumprod` ignorent les `NA` par défaut mais les préservent dans le vecteur de sortie.\n"
   ]
  },
  {
   "cell_type": "code",
   "execution_count": null,
   "metadata": {},
   "outputs": [],
   "source": [
    "x = [np.nan, np.arange(3)]\n",
    "np.mean(x)"
   ]
  },
  {
   "cell_type": "markdown",
   "metadata": {},
   "source": [
    "```\n",
    "## array([nan, nan, nan])\n",
    "## \n",
    "## C:\\Users\\W3CRK9\\AppData\\Local\\r-miniconda\\envs\\r-reticulate\\lib\\site-packages\\numpy\\core\\_asarray.py:136: VisibleDeprecationWarning: Creating an ndarray from ragged nested sequences (which is a list-or-tuple of lists-or-tuples-or ndarrays with different lengths or shapes) is deprecated. If you meant to do this, you must specify 'dtype=object' when creating the ndarray\n",
    "##   return array(a, dtype, copy=False, order=order, subok=True)\n",
    "```\n"
   ]
  },
  {
   "cell_type": "markdown",
   "metadata": {},
   "source": [
    "```r\n",
    "x <- c(NA, 1:3)\n",
    "mean(x, na.rm = TRUE)\n",
    "```\n",
    "\n",
    "```\n",
    "## [1] 2\n",
    "```\n",
    "\n",
    "{{< /panel >}}\n",
    "\n",
    "En revanche, ----->\n",
    "On a un comportement cohérent d'agrégation lorsqu'on combine deux `DataFrames` (ou deux colonnes).\n",
    "Par exemple,\n"
   ]
  },
  {
   "cell_type": "code",
   "execution_count": null,
   "metadata": {},
   "outputs": [],
   "source": [
    "x = pd.DataFrame(\n",
    "    {'prix': np.random.uniform(size = 5),\n",
    "     'quantite': [i+1 for i in range(5)]\n",
    "    },\n",
    "    index = ['yaourt','pates','riz','tomates','gateaux']\n",
    ")\n",
    "\n",
    "y = pd.DataFrame(\n",
    "    {'prix': [np.nan, 0, 1, 2, 3],\n",
    "     'quantite': [i+1 for i in range(5)]\n",
    "    },\n",
    "    index = ['tomates','yaourt','gateaux','pates','riz']\n",
    ")\n",
    "\n",
    "x + y"
   ]
  },
  {
   "cell_type": "markdown",
   "metadata": {},
   "source": [
    "```\n",
    "##              prix  quantite\n",
    "## gateaux  1.719469         8\n",
    "## pates    2.286139         6\n",
    "## riz      3.226851         8\n",
    "## tomates       NaN         5\n",
    "## yaourt   0.696469         3\n",
    "```\n",
    "\n",
    "donne bien une valeur manquante pour la ligne `tomates`. Au passage, on peut remarquer que l'agrégation\n",
    "a tenu compte des index. "
   ]
  },
  {
   "cell_type": "markdown",
   "metadata": {},
   "source": [
    "# Le DataFrame pandas\n",
    "\n",
    "Le `DataFrame` est l'objet central du package `pandas`.\n",
    "Il s'agit d'une collection de `pandas.Series` (colonnes) alignées par les lignes.\n",
    "Les types des variables peuvent différer. \n",
    "\n",
    "Un DataFrame non-indexé a la structure suivante:\n",
    "\n",
    "<!-----\n",
    "Exo 1\n",
    "Aller dans la doc pandas et trouver comment créer le dataFrame pandas suivant\n",
    "------>"
   ]
  },
  {
   "cell_type": "markdown",
   "metadata": {},
   "source": [
    "```\n",
    "##    index  taille  poids\n",
    "## 0   chat     1.0    3.0\n",
    "## 1  chien     1.5    5.0\n",
    "## 2  koala     1.0    2.5\n",
    "```\n",
    "\n",
    "Alors que le même dataframe indexé aura la structure suivante:"
   ]
  },
  {
   "cell_type": "markdown",
   "metadata": {},
   "source": [
    "```\n",
    "##        taille  poids\n",
    "## chat      1.0    3.0\n",
    "## chien     1.5    5.0\n",
    "## koala     1.0    2.5\n",
    "```"
   ]
  },
  {
   "cell_type": "markdown",
   "metadata": {},
   "source": [
    "## Les attributs et méthodes utiles\n",
    "\n",
    "Pour présenter les méthodes les plus pratiques pour l'analyse de données,\n",
    "on peut partir de l'exemple des consommations de CO2 communales issues\n",
    "des données de l'Ademe. Cette base de données est exploitée plus intensément\n",
    "dans le TP\n",
    "[![Binder](https://mybinder.org/badge_logo.svg)](https://mybinder.org/v2/gh/linogaliana/python-datascientist/master)\n",
    "[![Onyxia](https://img.shields.io/badge/launch-onyxia-blue)](https://spyrales.sspcloud.fr/my-lab/catalogue/inseefrlab-datascience/jupyter/deploiement)\n",
    "[![Open In Colab](https://colab.research.google.com/assets/colab-badge.svg)](http://colab.research.google.com/github/linogaliana/python-datascientist/blob/pandas_intro/static/notebooks/numpy.ipynb)\n",
    " ([ou depuis github](https://github.com/linogaliana/python-datascientist/blob/master/content/01_data/02_pandas_tp.ipynb))\n"
   ]
  },
  {
   "cell_type": "code",
   "execution_count": null,
   "metadata": {},
   "outputs": [],
   "source": [
    "df = pd.read_csv(\"https://koumoul.com/s/data-fair/api/v1/datasets/igt-pouvoir-de-rechauffement-global/convert\")\n",
    "df"
   ]
  },
  {
   "cell_type": "markdown",
   "metadata": {},
   "source": [
    "```\n",
    "##       INSEE commune                  Commune  ...       Routier     Tertiaire\n",
    "## 0             01001  L'ABERGEMENT-CLEMENCIAT  ...    793.156501    367.036172\n",
    "## 1             01002    L'ABERGEMENT-DE-VAREY  ...    348.997893    112.934207\n",
    "## 2             01004        AMBERIEU-EN-BUGEY  ...  15642.420310  10732.376930\n",
    "## 3             01005      AMBERIEUX-EN-DOMBES  ...   1756.341319    782.404357\n",
    "## 4             01006                  AMBLEON  ...    398.786800     51.681756\n",
    "## ...             ...                      ...  ...           ...           ...\n",
    "## 35793         95676       VILLERS-EN-ARTHIES  ...    309.627908    235.439109\n",
    "## 35794         95678            VILLIERS-ADAM  ...  18759.370070    403.404815\n",
    "## 35795         95680          VILLIERS-LE-BEL  ...  12217.122400  13849.512000\n",
    "## 35796         95682          VILLIERS-LE-SEC  ...   4663.232127     85.657725\n",
    "## 35797         95690      WY-DIT-JOLI-VILLAGE  ...    504.400972    147.867245\n",
    "## \n",
    "## [35798 rows x 12 columns]\n",
    "```\n",
    "\n",
    "L'affichage des DataFrames est très ergonomique. On obtiendrait le même *output*\n",
    "avec `display(df)`[^2]. Les premières et dernières lignes s'affichent\n",
    "automatiquement. Autrement, on peut aussi faire:\n",
    "\n",
    "* `head` qui permet, comme son\n",
    "nom l'indique, de n'afficher que les premières lignes ;\n",
    "* `tail` qui permet, comme son\n",
    "nom l'indique, de n'afficher que les dernières lignes\n",
    "* `sample` qui permet d'afficher un échantillon aléatoire de *n* lignes. \n",
    "Cette méthode propose de nombreuses options \n",
    "[![Binder](https://mybinder.org/badge_logo.svg)](https://mybinder.org/v2/gh/linogaliana/python-datascientist/master)\n",
    "[![Onyxia](https://img.shields.io/badge/launch-onyxia-blue)](https://spyrales.sspcloud.fr/my-lab/catalogue/inseefrlab-datascience/jupyter/deploiement)\n",
    "[![Open In Colab](https://colab.research.google.com/assets/colab-badge.svg)](http://colab.research.google.com/github/linogaliana/python-datascientist/blob/pandas_intro/static/notebooks/numpy.ipynb)\n",
    " ([ou depuis github](https://github.com/linogaliana/python-datascientist/blob/master/content/01_data/02_pandas_tp.ipynb))"
   ]
  },
  {
   "cell_type": "markdown",
   "metadata": {},
   "source": [
    "^[2]: Il est préférable d'utiliser la fonction `display` (ou tout simplement\n",
    "taper le nom du DataFrame qu'utiliser la fonction `print`). Le\n",
    "`display` des objets `pandas` est assez esthétique, contrairement à `print`\n",
    "qui renvoie du texte brut. "
   ]
  },
  {
   "cell_type": "markdown",
   "metadata": {},
   "source": [
    "{{< panel status=\"danger\" title=\"warning\" icon=\"fa fa-exclamation-triangle\" >}}\n",
    "Il faut faire attention au `display` et aux\n",
    "commandes qui révèlent des données (`head`, `tail`, etc.)\n",
    "dans un notebook ou un markdown qui exploite\n",
    "des données confidentielles lorsqu'on utilise `git`. En effet, on peut se\n",
    "retrouver à partager des données, involontairement, dans l'historique\n",
    "`git`. Avec un `R markdown`, il suffit d'ajouter les sorties au fichier \n",
    "`gitignore` (par exemple avec une balise de type `*.html`). Avec un\n",
    "notebook `jupyter`, la démarche est plus compliquée car les fichiers\n",
    "`.ipynb` intègrent dans le même document, texte, sorties et mise en forme. \n",
    "Techniquement, il est possible d'appliquer des filtres avec `git`\n",
    "(voir\n",
    "[ici](http://timstaley.co.uk/posts/making-git-and-jupyter-notebooks-play-nice/))\n",
    "mais c'est une démarche très complexe\n",
    "{{< /panel >}}"
   ]
  },
  {
   "cell_type": "markdown",
   "metadata": {},
   "source": [
    "### Dimensions et structure du DataFrame\n",
    "\n",
    "Les premières méthodes utiles permettent d'afficher quelques\n",
    "attributs d'un DataFrame.\n"
   ]
  },
  {
   "cell_type": "code",
   "execution_count": null,
   "metadata": {},
   "outputs": [],
   "source": [
    "df.axes"
   ]
  },
  {
   "cell_type": "markdown",
   "metadata": {},
   "source": [
    "```\n",
    "## [RangeIndex(start=0, stop=35798, step=1), Index(['INSEE commune', 'Commune', 'Agriculture', 'Autres transports',\n",
    "##        'Autres transports international', 'CO2 biomasse hors-total', 'Déchets',\n",
    "##        'Energie', 'Industrie hors-énergie', 'Résidentiel', 'Routier',\n",
    "##        'Tertiaire'],\n",
    "##       dtype='object')]\n",
    "```"
   ]
  },
  {
   "cell_type": "code",
   "execution_count": null,
   "metadata": {},
   "outputs": [],
   "source": [
    "df.columns"
   ]
  },
  {
   "cell_type": "markdown",
   "metadata": {},
   "source": [
    "```\n",
    "## Index(['INSEE commune', 'Commune', 'Agriculture', 'Autres transports',\n",
    "##        'Autres transports international', 'CO2 biomasse hors-total', 'Déchets',\n",
    "##        'Energie', 'Industrie hors-énergie', 'Résidentiel', 'Routier',\n",
    "##        'Tertiaire'],\n",
    "##       dtype='object')\n",
    "```"
   ]
  },
  {
   "cell_type": "code",
   "execution_count": null,
   "metadata": {},
   "outputs": [],
   "source": [
    "df.index"
   ]
  },
  {
   "cell_type": "markdown",
   "metadata": {},
   "source": [
    "```\n",
    "## RangeIndex(start=0, stop=35798, step=1)\n",
    "```\n",
    "\n",
    "Pour connaître les dimensions d'un DataFrame, on peut utiliser quelques méthodes\n",
    "pratiques:\n",
    "\n"
   ]
  },
  {
   "cell_type": "code",
   "execution_count": null,
   "metadata": {},
   "outputs": [],
   "source": [
    "df.ndim"
   ]
  },
  {
   "cell_type": "markdown",
   "metadata": {},
   "source": [
    "```\n",
    "## 2\n",
    "```"
   ]
  },
  {
   "cell_type": "code",
   "execution_count": null,
   "metadata": {},
   "outputs": [],
   "source": [
    "df.shape"
   ]
  },
  {
   "cell_type": "markdown",
   "metadata": {},
   "source": [
    "```\n",
    "## (35798, 12)\n",
    "```"
   ]
  },
  {
   "cell_type": "code",
   "execution_count": null,
   "metadata": {},
   "outputs": [],
   "source": [
    "df.size"
   ]
  },
  {
   "cell_type": "markdown",
   "metadata": {},
   "source": [
    "```\n",
    "## 429576\n",
    "```\n",
    "\n",
    "Pour déterminer le nombre de valeurs uniques d'une variable, plutôt que chercher à écrire soi-même une fonction, \n",
    "on utilise la\n",
    "méthode `nunique`. Par exemple,\n"
   ]
  },
  {
   "cell_type": "code",
   "execution_count": null,
   "metadata": {},
   "outputs": [],
   "source": [
    "df['Commune'].nunique()"
   ]
  },
  {
   "cell_type": "markdown",
   "metadata": {},
   "source": [
    "```\n",
    "## 33338\n",
    "```\n",
    "\n",
    "Voici un premier résumé des méthodes `pandas` utiles, et un comparatif avec `R`\n",
    "\n",
    "| Opération                     | pandas       | dplyr (`R`)    | data.table (`R`)           |\n",
    "|-------------------------------|--------------|----------------|----------------------------|\n",
    "| Récupérer le nom des colonnes | `df.columns` | `colnames(df)` | `colnames(df)`             |\n",
    "| Récupérer les indices[^3]     | `df.index`   |                |`unique(df[,get(key(df))])` |\n",
    "| Récupérer les dimensions      | `df.shape` | `c(nrow(df), ncol(df))` | `c(nrow(df), ncol(df))` |\n",
    "| Récupérer le nombre de valeurs uniques d'une variable | `df['myvar'].nunique()` | `df %>%  summarise(distinct(myvar))` | `df[,uniqueN(myvar)]` |\n",
    "\n",
    "^[3]: Le principe d'indice n'existe pas dans `dplyr`. Les indices, au sens de\n",
    "`pandas`, sont appelés *clés* en `data.table`."
   ]
  },
  {
   "cell_type": "markdown",
   "metadata": {},
   "source": [
    "### Statistiques agrégées\n",
    "\n",
    "`pandas` propose une série de méthodes pour faire des statistiques\n",
    "agrégées de manière efficace. \n",
    "\n",
    "On peut, par exemple, appliquer des méthodes pour compter le nombre de lignes,\n",
    "faire une moyenne ou une somme de l'ensemble des lignes\n"
   ]
  },
  {
   "cell_type": "code",
   "execution_count": null,
   "metadata": {},
   "outputs": [],
   "source": [
    "df.count()"
   ]
  },
  {
   "cell_type": "markdown",
   "metadata": {},
   "source": [
    "```\n",
    "## INSEE commune                      35798\n",
    "## Commune                            35798\n",
    "## Agriculture                        35736\n",
    "## Autres transports                   9979\n",
    "## Autres transports international     2891\n",
    "## CO2 biomasse hors-total            35798\n",
    "## Déchets                            35792\n",
    "## Energie                            34490\n",
    "## Industrie hors-énergie             34490\n",
    "## Résidentiel                        35792\n",
    "## Routier                            35778\n",
    "## Tertiaire                          35798\n",
    "## dtype: int64\n",
    "```"
   ]
  },
  {
   "cell_type": "code",
   "execution_count": null,
   "metadata": {},
   "outputs": [],
   "source": [
    "df.mean()"
   ]
  },
  {
   "cell_type": "markdown",
   "metadata": {},
   "source": [
    "```\n",
    "## Agriculture                        2459.975760\n",
    "## Autres transports                   654.919940\n",
    "## Autres transports international    7692.344960\n",
    "## CO2 biomasse hors-total            1774.381550\n",
    "## Déchets                             410.806329\n",
    "## Energie                             662.569846\n",
    "## Industrie hors-énergie             2423.127789\n",
    "## Résidentiel                        1783.677872\n",
    "## Routier                            3535.501245\n",
    "## Tertiaire                          1105.165915\n",
    "## dtype: float64\n",
    "```"
   ]
  },
  {
   "cell_type": "code",
   "execution_count": null,
   "metadata": {},
   "outputs": [],
   "source": [
    "df.sum()"
   ]
  },
  {
   "cell_type": "markdown",
   "metadata": {},
   "source": [
    "```\n",
    "## INSEE commune                      0100101002010040100501006010070100801009010100...\n",
    "## Commune                            L'ABERGEMENT-CLEMENCIATL'ABERGEMENT-DE-VAREYAM...\n",
    "## Agriculture                                                              8.79097e+07\n",
    "## Autres transports                                                        6.53545e+06\n",
    "## Autres transports international                                          2.22386e+07\n",
    "## CO2 biomasse hors-total                                                  6.35193e+07\n",
    "## Déchets                                                                  1.47036e+07\n",
    "## Energie                                                                   2.2852e+07\n",
    "## Industrie hors-énergie                                                   8.35737e+07\n",
    "## Résidentiel                                                              6.38414e+07\n",
    "## Routier                                                                  1.26493e+08\n",
    "## Tertiaire                                                                3.95627e+07\n",
    "## dtype: object\n",
    "```"
   ]
  },
  {
   "cell_type": "code",
   "execution_count": null,
   "metadata": {},
   "outputs": [],
   "source": [
    "df.nunique()"
   ]
  },
  {
   "cell_type": "markdown",
   "metadata": {},
   "source": [
    "```\n",
    "## INSEE commune                      35798\n",
    "## Commune                            33338\n",
    "## Agriculture                        35576\n",
    "## Autres transports                   9963\n",
    "## Autres transports international     2883\n",
    "## CO2 biomasse hors-total            35798\n",
    "## Déchets                            11016\n",
    "## Energie                             1453\n",
    "## Industrie hors-énergie              1889\n",
    "## Résidentiel                        35791\n",
    "## Routier                            35749\n",
    "## Tertiaire                           8663\n",
    "## dtype: int64\n",
    "```"
   ]
  },
  {
   "cell_type": "code",
   "execution_count": null,
   "metadata": {},
   "outputs": [],
   "source": [
    "df.quantile(q = [0.1,0.25,0.5,0.75,0.9])"
   ]
  },
  {
   "cell_type": "markdown",
   "metadata": {},
   "source": [
    "```\n",
    "##       Agriculture  Autres transports  ...      Routier    Tertiaire\n",
    "## 0.10   382.620882          25.034578  ...   199.765410    49.289082\n",
    "## 0.25   797.682631          52.560412  ...   419.700460    94.749885\n",
    "## 0.50  1559.381286         106.795928  ...  1070.895593   216.297718\n",
    "## 0.75  3007.883903         237.341501  ...  3098.612157   576.155869\n",
    "## 0.90  5442.727470         528.349529  ...  8151.047248  1897.732565\n",
    "## \n",
    "## [5 rows x 10 columns]\n",
    "```\n",
    "\n",
    "Les exercices de TD ([![Binder](https://mybinder.org/badge_logo.svg)](https://mybinder.org/v2/gh/linogaliana/python-datascientist/master)\n",
    "[![Onyxia](https://img.shields.io/badge/launch-onyxia-blue)](https://spyrales.sspcloud.fr/my-lab/catalogue/inseefrlab-datascience/jupyter/deploiement)\n",
    "[![Open In Colab](https://colab.research.google.com/assets/colab-badge.svg)](http://colab.research.google.com/github/linogaliana/python-datascientist/blob/pandas_intro/static/notebooks/numpy.ipynb) [ou depuis github](https://github.com/linogaliana/python-datascientist/blob/master/content/01_data/02_pandas_tp.ipynb))\n",
    "visent à démontrer l'intérêt de ces méthodes dans quelques cas précis. \n",
    "\n",
    "<!---\n",
    "Comme indiqué précédemment, il faut faire attention aux valeurs manquantes qui,\n",
    "par défaut, sont traitées comme des 0.\n",
    "Il est ainsi recommandé de systématiquement\n",
    "ajouter l'argument skipna, par exemple, \n"
   ]
  },
  {
   "cell_type": "code",
   "execution_count": null,
   "metadata": {},
   "outputs": [],
   "source": [
    "df.mean(skipna=True)"
   ]
  },
  {
   "cell_type": "markdown",
   "metadata": {},
   "source": [
    "```\n",
    "## Agriculture                        2459.975760\n",
    "## Autres transports                   654.919940\n",
    "## Autres transports international    7692.344960\n",
    "## CO2 biomasse hors-total            1774.381550\n",
    "## Déchets                             410.806329\n",
    "## Energie                             662.569846\n",
    "## Industrie hors-énergie             2423.127789\n",
    "## Résidentiel                        1783.677872\n",
    "## Routier                            3535.501245\n",
    "## Tertiaire                          1105.165915\n",
    "## dtype: float64\n",
    "```\n",
    "\n",
    "----->"
   ]
  },
  {
   "cell_type": "markdown",
   "metadata": {},
   "source": [
    "Le tableau suivant récapitule le code équivalent pour avoir des \n",
    "statistiques sur toutes les colonnes d'un dataframe en `R`. "
   ]
  },
  {
   "cell_type": "markdown",
   "metadata": {},
   "source": [
    "| Opération                     | pandas       | dplyr (`R`)    | data.table (`R`)           |\n",
    "|-------------------------------|----------------|--------------|----------------|----------------------------|\n",
    "| Nombre de valeurs non manquantes | `df.count()`   | `df %>% summarise_each(funs(sum(!is.na(.))))` | `df[, lapply(.SD, function(x) sum(!is.na(x)))]`\n",
    "| Moyenne de toutes les variables | `df.mean()` | `df %>% summarise_each(funs(mean((., na.rm = TRUE))))` | `df[,lapply(.SD, function(x) mean(x, na.rm = TRUE))]`\n",
    "| TO BE CONTINUED |\n",
    "\n",
    "La méthode `describe` permet de sortir un tableau de statistiques \n",
    "agrégées:\n"
   ]
  },
  {
   "cell_type": "code",
   "execution_count": null,
   "metadata": {},
   "outputs": [],
   "source": [
    "df.describe()"
   ]
  },
  {
   "cell_type": "markdown",
   "metadata": {},
   "source": [
    "```\n",
    "##         Agriculture  Autres transports  ...        Routier      Tertiaire\n",
    "## count  35736.000000        9979.000000  ...   35778.000000   35798.000000\n",
    "## mean    2459.975760         654.919940  ...    3535.501245    1105.165915\n",
    "## std     2926.957701        9232.816833  ...    9663.156628    5164.182507\n",
    "## min        0.003432           0.000204  ...       0.555092       0.000000\n",
    "## 25%      797.682631          52.560412  ...     419.700460      94.749885\n",
    "## 50%     1559.381286         106.795928  ...    1070.895593     216.297718\n",
    "## 75%     3007.883903         237.341501  ...    3098.612157     576.155869\n",
    "## max    98949.317760      513140.971700  ...  586054.672800  288175.400100\n",
    "## \n",
    "## [8 rows x 10 columns]\n",
    "```"
   ]
  },
  {
   "cell_type": "markdown",
   "metadata": {},
   "source": [
    "### Méthodes relatives aux valeurs manquantes\n",
    "\n",
    "Les méthodes relatives aux valeurs manquantes peuvent être mobilisées\n",
    "en conjonction des méthodes de statistiques agrégées. C'est utiles lorsqu'on\n",
    "désire obtenir une idée de la part de valeurs manquantes dans un jeu de\n",
    "données\n",
    "[![Binder](https://mybinder.org/badge_logo.svg)](https://mybinder.org/v2/gh/linogaliana/python-datascientist/master)\n",
    "[![Onyxia](https://img.shields.io/badge/launch-onyxia-blue)](https://spyrales.sspcloud.fr/my-lab/catalogue/inseefrlab-datascience/jupyter/deploiement)\n",
    "[![Open In Colab](https://colab.research.google.com/assets/colab-badge.svg)](http://colab.research.google.com/github/linogaliana/python-datascientist/blob/pandas_intro/static/notebooks/numpy.ipynb)\n",
    " ([ou depuis github](https://github.com/linogaliana/python-datascientist/blob/master/content/01_data/02_pandas_tp.ipynb))"
   ]
  },
  {
   "cell_type": "code",
   "execution_count": null,
   "metadata": {},
   "outputs": [],
   "source": [
    "df.isnull().sum()"
   ]
  },
  {
   "cell_type": "markdown",
   "metadata": {},
   "source": [
    "# Graphiques rapides\n",
    "\n",
    "Les méthodes par défaut de graphique\n",
    "(approfondies dans la partie visualisation **LIEN A AJOUTER**)\n",
    "sont pratiques pour \n",
    "produire rapidement un graphique, notament après des opérations\n",
    "complexes de maniement de données.\n",
    "\n"
   ]
  },
  {
   "cell_type": "code",
   "execution_count": null,
   "metadata": {},
   "outputs": [],
   "source": [
    "fig = df['Déchets'].plot()\n",
    "plt.show()"
   ]
  },
  {
   "cell_type": "markdown",
   "metadata": {},
   "source": [
    "![](02_pandas_files/figure-html/matplotlib-1.png)<!-- -->"
   ]
  },
  {
   "cell_type": "code",
   "execution_count": null,
   "metadata": {},
   "outputs": [],
   "source": [
    "fig = df['Déchets'].hist()\n",
    "plt.show()"
   ]
  },
  {
   "cell_type": "markdown",
   "metadata": {},
   "source": [
    "![](02_pandas_files/figure-html/matplotlib-2.png)<!-- -->"
   ]
  },
  {
   "cell_type": "code",
   "execution_count": null,
   "metadata": {},
   "outputs": [],
   "source": [
    "fig = df['Déchets'].plot(kind = 'hist', logy = True)\n",
    "plt.show()"
   ]
  },
  {
   "cell_type": "markdown",
   "metadata": {},
   "source": [
    "![](02_pandas_files/figure-html/matplotlib-3.png)<!-- -->\n",
    "\n",
    "La sortie est un objet `matplotlib`. La *customisation* de ces\n",
    "figures est ainsi\n",
    "possible (et même désirable car les graphiques `matplotlib`\n",
    "sont, par défaut, assez rudimentaires), nous en verrons quelques exemples. "
   ]
  },
  {
   "cell_type": "markdown",
   "metadata": {},
   "source": [
    "# Accéder à des éléments d'un DataFrame\n",
    "\n",
    "## Sélectionner des colonnes\n",
    "\n",
    "En SQL, effectuer des opérations sur les colonnes se fait avec la commande\n",
    "`SELECT`. Avec `pandas`,\n",
    "pour accéder à une colonne dans son ensemble on peut\n",
    "utiliser plusieurs approches:\n",
    "\n",
    "* `dataframe.variable`, par exemple `df.Energie`.\n",
    "Cette méthode requiert néanmoins d'avoir des \n",
    "noms de colonnes sans espace. \n",
    "* `dataframe[['variable']]` pour renvoyer la variable sous\n",
    "forme de `DataFrame` ou dataframe['variable'] pour\n",
    "la renvoyer sous forme de `Series`. Par exemple, `df[['Autres transports']]` \n",
    "ou `df['Autres transports']`. C'est une manière préférable de procéder.\n",
    "\n",
    "## Accéder à des lignes\n",
    "\n",
    "Pour accéder à une ou plusieurs valeurs d'un `DataFrame`,\n",
    "il existe trois manières de procéder, selon la \n",
    "forme des indices de lignes ou colonnes utilisés:\n",
    "\n",
    "* `df.loc`: use labels\n",
    "* `df.iloc`: use indices\n",
    "* `df[]`: uses \n",
    "\n",
    "Les bouts de code utilisant la structure `df.ix`\n",
    "sont à bannir car la fonction est *deprecated* et peut\n",
    "ainsi disparaître à tout moment. "
   ]
  },
  {
   "cell_type": "markdown",
   "metadata": {},
   "source": [
    "**EXEMPLES A DONNER**\n",
    "\n",
    "<!----\n",
    "data.loc[1:3]\n",
    "data.loc[(data.age >= 20), ['section', 'city']]\n",
    "\n",
    "data.iloc[[0,2]]\n",
    "data.iloc[[0,2],[1,3]]\n",
    "data.iloc[1:3,2:4]\n",
    "\n",
    "data.loc[(data.age >= 12), ['section']]\n",
    "------>\n",
    "\n",
    "# Principales manipulation de données\n",
    "\n",
    "L'objectif du [TP pandas](pandasTP) est de se familiariser plus avec ces\n",
    "commandes à travers l'exemple des données des émissions de C02. \n",
    "\n",
    "Les opérations les plus fréquentes en SQL sont résumées par le tableau suivant.\n",
    "Il est utile de les connaître (beaucoup de syntaxes de maniement de données\n",
    "reprennent ces termes) car, d'une\n",
    "manière ou d'une autre, elles couvrent la plupart\n",
    "des usages de manipulation des données\n",
    "\n",
    "| Opération | SQL | pandas | dplyr (`R`) | data.table (`R`) |\n",
    "|-----|-----------|--------|-------------|------------------|\n",
    "| Sélectionner des variables par leur nom | `SELECT` | `df[['Autres transports','Energie']]` | `df %>% select(Autres transports, Energie)` | `df[, c('Autres transports','Energie')]` |\n",
    "| Sélectionner des observations selon une ou plusieurs conditions; | `FILTER` | `df[df['Agriculture']>2000]` | `df %>% filter(Agriculture>2000)` | `df[Agriculture>2000]` |\n",
    "| Trier la table selon une ou plusieurs variables | `SORT BY` | `df.sort_values(['Commune','Agriculture'])` | `df %>% arrange(Commune, Agriculture)` | `df[order(Commune, Agriculture)]` |\n",
    "| Ajouter des variables qui sont fonction d’autres variables; | `SELECT *, LOG(Agriculture) AS x FROM df` | `df['x'] = np.log(df['Agriculture'])`  |  `df %>% mutate(x = log(Agriculture))` | `df[,x := log(Agriculture)]` |\n",
    "| Effectuer une opération par groupe | `GROUP BY` | `df.groupby('Commune').mean()` | `df %>% group_by(Commune) %>% summarise(m = mean)` | `df[,mean(Commune), by = Commune]` |\n",
    "| Joindre deux bases de données (*inner join*) | `SELECT * FROM table1 INNER JOIN table2 ON table1.id = table2.x` | `table1.merge(table2, left_on = 'id', right_on = 'x')` | `table1 %>% inner_join(table2, by = c('id'='x'))` | `merge(table1, table2, by.x = 'id', by.y = 'x')` |\n",
    "\n",
    "## Opérations sur les colonnes: select, mutate, drop\n",
    "\n",
    "Les DataFrames pandas sont des objets *mutables* en langage `python`,\n",
    "c'est-à-dire qu'il est possible de faire évoluer le DataFrame au grès \n",
    "des opérations. L'opération la plus classique consiste à ajouter ou retirer\n",
    "des variables à la table de données. "
   ]
  },
  {
   "cell_type": "markdown",
   "metadata": {},
   "source": [
    "{{< panel status=\"danger\" title=\"warning\" icon=\"fa fa-exclamation-triangle\" >}}\n",
    "Attention au comportement de `pandas` lorsqu'on crée une duplication\n",
    "d'un DataFrame. Par défaut, `pandas` effectue une copie par référence. Dans ce\n",
    "cas, les deux objets (la copie et l'objet copié) restent reliés. Les colonnes\n",
    "crées sur l'un vont être répercutées sur l'autre. Ce comportement permet de\n",
    "limiter l'inflation en mémoire de `python`. En faisant ça, le deuxième\n",
    "objet prend le même espace mémoire que le premier. Le package `data.table`\n",
    "en  `R` adopte le même comportement, contrairement à `dplyr`.\n",
    "\n",
    "Cela peut amener à quelques surprises si ce comportement d'optimisation\n",
    "n'est pas anticipé. Si vous voulez, par sécurité, conserver intact le\n",
    "premier DataFrame, faites appel à une copie profonde (*deep copy*) en\n",
    "utilisant la méthode `copy`:\n"
   ]
  },
  {
   "cell_type": "code",
   "execution_count": null,
   "metadata": {},
   "outputs": [],
   "source": [
    "df_new = df.copy()"
   ]
  },
  {
   "cell_type": "markdown",
   "metadata": {},
   "source": [
    "{{< /panel >}}\n",
    "\n",
    "La manière la plus simple d'opérer pour ajouter des colonnes est\n",
    "d'utiliser la réassignation. Par exemple, pour créer une variable\n",
    "`x` qui est le `log` de la\n",
    "variable `Agriculture`:\n"
   ]
  },
  {
   "cell_type": "code",
   "execution_count": null,
   "metadata": {},
   "outputs": [],
   "source": [
    "df_new['x'] = np.log(df_new['Agriculture'])"
   ]
  },
  {
   "cell_type": "markdown",
   "metadata": {},
   "source": [
    "Il est possible d'appliquer cette approche sur plusieurs colonnes. Un des\n",
    "intérêts de cette approche est qu'elle permet de recycler le nom de colonnes.\n"
   ]
  },
  {
   "cell_type": "code",
   "execution_count": null,
   "metadata": {},
   "outputs": [],
   "source": [
    "vars = ['Agriculture', 'Déchets', 'Energie']\n",
    "\n",
    "df_new[[v + \"_log\" for v in vars]] = np.log(df_new[vars])\n",
    "df_new"
   ]
  },
  {
   "cell_type": "markdown",
   "metadata": {},
   "source": [
    "```\n",
    "##       INSEE commune                  Commune  ...  Déchets_log  Energie_log\n",
    "## 0             01001  L'ABERGEMENT-CLEMENCIAT  ...     4.619374     0.856353\n",
    "## 1             01002    L'ABERGEMENT-DE-VAREY  ...     4.946455     0.856353\n",
    "## 2             01004        AMBERIEU-EN-BUGEY  ...     8.578159     6.906086\n",
    "## 3             01005      AMBERIEUX-EN-DOMBES  ...     5.376285     4.545232\n",
    "## 4             01006                  AMBLEON  ...     3.879532          NaN\n",
    "## ...             ...                      ...  ...          ...          ...\n",
    "## 35793         95676       VILLERS-EN-ARTHIES  ...     4.175366     2.465791\n",
    "## 35794         95678            VILLIERS-ADAM  ...     4.713854     0.856353\n",
    "## 35795         95680          VILLIERS-LE-BEL  ...     5.418865     6.281303\n",
    "## 35796         95682          VILLIERS-LE-SEC  ...     4.691070     0.856353\n",
    "## 35797         95690      WY-DIT-JOLI-VILLAGE  ...     4.582194     1.549500\n",
    "## \n",
    "## [35798 rows x 16 columns]\n",
    "```\n",
    "\n",
    "Il est également possible d'utiliser la méthode `assign`. Pour des opérations\n",
    "vectorisées, comme le sont les opérateurs de `numpy`, cela n'a pas d'intérêt.\n",
    "Mais dans certains cas, où on serait tenté (à tord !), d'utiliser une boucle,\n",
    "alors cette approche peut se justifier. Cette approche utilise généralement\n",
    "des *lambda functions*. Par exemple le code précédent prendrait la forme:\n",
    "\n"
   ]
  },
  {
   "cell_type": "code",
   "execution_count": null,
   "metadata": {},
   "outputs": [],
   "source": [
    "df_new.assign(Energie_log = lambda x: np.log(x['Energie']))"
   ]
  },
  {
   "cell_type": "markdown",
   "metadata": {},
   "source": [
    "```\n",
    "##       INSEE commune                  Commune  ...  Déchets_log  Energie_log\n",
    "## 0             01001  L'ABERGEMENT-CLEMENCIAT  ...     4.619374     0.856353\n",
    "## 1             01002    L'ABERGEMENT-DE-VAREY  ...     4.946455     0.856353\n",
    "## 2             01004        AMBERIEU-EN-BUGEY  ...     8.578159     6.906086\n",
    "## 3             01005      AMBERIEUX-EN-DOMBES  ...     5.376285     4.545232\n",
    "## 4             01006                  AMBLEON  ...     3.879532          NaN\n",
    "## ...             ...                      ...  ...          ...          ...\n",
    "## 35793         95676       VILLERS-EN-ARTHIES  ...     4.175366     2.465791\n",
    "## 35794         95678            VILLIERS-ADAM  ...     4.713854     0.856353\n",
    "## 35795         95680          VILLIERS-LE-BEL  ...     5.418865     6.281303\n",
    "## 35796         95682          VILLIERS-LE-SEC  ...     4.691070     0.856353\n",
    "## 35797         95690      WY-DIT-JOLI-VILLAGE  ...     4.582194     1.549500\n",
    "## \n",
    "## [35798 rows x 16 columns]\n",
    "```\n",
    "\n",
    "On peut facilement renommer des variables avec la méthode `rename` qui \n",
    "fonctionne bien avec des dictionnaires :\n"
   ]
  },
  {
   "cell_type": "code",
   "execution_count": null,
   "metadata": {},
   "outputs": [],
   "source": [
    "df_new.rename({\"Energie\": \"eneg\", \"Agriculture\": \"agr\"})"
   ]
  },
  {
   "cell_type": "markdown",
   "metadata": {},
   "source": [
    "```\n",
    "##       INSEE commune                  Commune  ...  Déchets_log  Energie_log\n",
    "## 0             01001  L'ABERGEMENT-CLEMENCIAT  ...     4.619374     0.856353\n",
    "## 1             01002    L'ABERGEMENT-DE-VAREY  ...     4.946455     0.856353\n",
    "## 2             01004        AMBERIEU-EN-BUGEY  ...     8.578159     6.906086\n",
    "## 3             01005      AMBERIEUX-EN-DOMBES  ...     5.376285     4.545232\n",
    "## 4             01006                  AMBLEON  ...     3.879532          NaN\n",
    "## ...             ...                      ...  ...          ...          ...\n",
    "## 35793         95676       VILLERS-EN-ARTHIES  ...     4.175366     2.465791\n",
    "## 35794         95678            VILLIERS-ADAM  ...     4.713854     0.856353\n",
    "## 35795         95680          VILLIERS-LE-BEL  ...     5.418865     6.281303\n",
    "## 35796         95682          VILLIERS-LE-SEC  ...     4.691070     0.856353\n",
    "## 35797         95690      WY-DIT-JOLI-VILLAGE  ...     4.582194     1.549500\n",
    "## \n",
    "## [35798 rows x 16 columns]\n",
    "```\n",
    "\n",
    "Enfin, pour effacer des colonnes, on utilise la méthode `drop` avec l'argument\n",
    "`columns`:\n"
   ]
  },
  {
   "cell_type": "code",
   "execution_count": null,
   "metadata": {},
   "outputs": [],
   "source": [
    "df_new.drop(columns = [\"Energie\", \"Agriculture\"])"
   ]
  },
  {
   "cell_type": "markdown",
   "metadata": {},
   "source": [
    "```\n",
    "##       INSEE commune                  Commune  ...  Déchets_log  Energie_log\n",
    "## 0             01001  L'ABERGEMENT-CLEMENCIAT  ...     4.619374     0.856353\n",
    "## 1             01002    L'ABERGEMENT-DE-VAREY  ...     4.946455     0.856353\n",
    "## 2             01004        AMBERIEU-EN-BUGEY  ...     8.578159     6.906086\n",
    "## 3             01005      AMBERIEUX-EN-DOMBES  ...     5.376285     4.545232\n",
    "## 4             01006                  AMBLEON  ...     3.879532          NaN\n",
    "## ...             ...                      ...  ...          ...          ...\n",
    "## 35793         95676       VILLERS-EN-ARTHIES  ...     4.175366     2.465791\n",
    "## 35794         95678            VILLIERS-ADAM  ...     4.713854     0.856353\n",
    "## 35795         95680          VILLIERS-LE-BEL  ...     5.418865     6.281303\n",
    "## 35796         95682          VILLIERS-LE-SEC  ...     4.691070     0.856353\n",
    "## 35797         95690      WY-DIT-JOLI-VILLAGE  ...     4.582194     1.549500\n",
    "## \n",
    "## [35798 rows x 14 columns]\n",
    "```\n",
    "\n",
    "\n"
   ]
  },
  {
   "cell_type": "markdown",
   "metadata": {},
   "source": [
    "## Reordonner\n",
    "\n",
    "La méthode `sort_values` permet de réordonner un DataFrame. Par exemple,\n",
    "si on désire classer par ordre décroissant de consommation de CO2 du secteur\n",
    "résidentiel, on fera\n"
   ]
  },
  {
   "cell_type": "code",
   "execution_count": null,
   "metadata": {},
   "outputs": [],
   "source": [
    "df.sort_values(\"Résidentiel\", ascending = False)"
   ]
  },
  {
   "cell_type": "markdown",
   "metadata": {},
   "source": [
    "```\n",
    "##       INSEE commune                   Commune  ...        Routier    Tertiaire\n",
    "## 12167         31555                  TOULOUSE  ...  586054.672800  288175.4001\n",
    "## 16774         44109                    NANTES  ...  221068.632700  173447.5828\n",
    "## 27294         67482                STRASBOURG  ...  279544.852300  179562.7614\n",
    "## 12729         33063                  BORDEAUX  ...  193411.085700  142475.5641\n",
    "## 22834         59350                     LILLE  ...  265561.183600  175581.6190\n",
    "## ...             ...                       ...  ...            ...          ...\n",
    "## 20742         55050                 BEZONVAUX  ...     113.221722       0.0000\n",
    "## 20817         55139    CUMIERES-LE-MORT-HOMME  ...     128.733542       0.0000\n",
    "## 20861         55189   FLEURY-DEVANT-DOUAUMONT  ...    1435.571489       0.0000\n",
    "## 20898         55239    HAUMONT-PRES-SAMOGNEUX  ...      91.920170       0.0000\n",
    "## 20957         55307  LOUVEMONT-COTE-DU-POIVRE  ...     236.928053       0.0000\n",
    "## \n",
    "## [35798 rows x 12 columns]\n",
    "```\n",
    "\n",
    "Ainsi, en une ligne de code, on identifie les villes où le secteur\n",
    "résidentiel consomme le plus. "
   ]
  },
  {
   "cell_type": "markdown",
   "metadata": {},
   "source": [
    "## Filtrer\n",
    "\n",
    "L'opération de sélection de lignes s'appelle `FILTER` en SQL et s'utilise \n",
    "en fonction d'une condition logique (clause `WHERE`). On sélectionne les\n",
    "données sur une condition logique. Il existe plusieurs méthodes en `pandas`.\n",
    "\n",
    "La plus simple est d'utiliser les *boolean mask*, déjà vus dans le chapitre\n",
    "`numpy` [**LIEN**]. \n",
    "\n",
    "Par exemple, pour sélectionner les communes dans les Hauts-de-Seine, on \n",
    "peut utiliser le résultat de la méthode `str.startswith` (qui renvoie\n",
    "`True` ou `False`) directement dans les crochets:\n"
   ]
  },
  {
   "cell_type": "code",
   "execution_count": null,
   "metadata": {},
   "outputs": [],
   "source": [
    "df[df['INSEE commune'].str.startswith(\"92\")].head(2)"
   ]
  },
  {
   "cell_type": "markdown",
   "metadata": {},
   "source": [
    "```\n",
    "##       INSEE commune             Commune  ...      Routier   Tertiaire\n",
    "## 35490         92002              ANTONY  ...  58900.97969  31462.0380\n",
    "## 35491         92004  ASNIERES-SUR-SEINE  ...  38163.01602  42482.6351\n",
    "## \n",
    "## [2 rows x 12 columns]\n",
    "```\n",
    "\n",
    "Pour remplacer des valeurs spécifiques, on utilise la méthode `where` ou une\n",
    "réassignation couplée à la méthode précédente. \n",
    "\n",
    "Par exemple, pour assigner des valeurs manquantes aux départements du 92,\n",
    "on peut faire cela\n"
   ]
  },
  {
   "cell_type": "code",
   "execution_count": null,
   "metadata": {},
   "outputs": [],
   "source": [
    "df_copy = df.copy()\n",
    "df_copy = df_copy.where(~df['INSEE commune'].str.startswith(\"92\"))"
   ]
  },
  {
   "cell_type": "markdown",
   "metadata": {},
   "source": [
    "et vérifier les résultats:\n"
   ]
  },
  {
   "cell_type": "code",
   "execution_count": null,
   "metadata": {},
   "outputs": [],
   "source": [
    "df_copy[df['INSEE commune'].str.startswith(\"92\")].head(2)"
   ]
  },
  {
   "cell_type": "markdown",
   "metadata": {},
   "source": [
    "```\n",
    "##       INSEE commune Commune  Agriculture  ...  Résidentiel  Routier  Tertiaire\n",
    "## 35490           NaN     NaN          NaN  ...          NaN      NaN        NaN\n",
    "## 35491           NaN     NaN          NaN  ...          NaN      NaN        NaN\n",
    "## \n",
    "## [2 rows x 12 columns]\n",
    "```"
   ]
  },
  {
   "cell_type": "code",
   "execution_count": null,
   "metadata": {},
   "outputs": [],
   "source": [
    "df_copy[~df['INSEE commune'].str.startswith(\"92\")].head(2)"
   ]
  },
  {
   "cell_type": "markdown",
   "metadata": {},
   "source": [
    "```\n",
    "##   INSEE commune                  Commune  ...     Routier   Tertiaire\n",
    "## 0         01001  L'ABERGEMENT-CLEMENCIAT  ...  793.156501  367.036172\n",
    "## 1         01002    L'ABERGEMENT-DE-VAREY  ...  348.997893  112.934207\n",
    "## \n",
    "## [2 rows x 12 columns]\n",
    "```\n",
    "\n",
    "ou alors utiliser une réassignation plus classique:\n"
   ]
  },
  {
   "cell_type": "code",
   "execution_count": null,
   "metadata": {},
   "outputs": [],
   "source": [
    "df_copy = df.copy()\n",
    "df_copy[df_copy['INSEE commune'].str.startswith(\"92\")] = np.nan"
   ]
  },
  {
   "cell_type": "markdown",
   "metadata": {},
   "source": [
    "## Opérations par groupe\n",
    "\n",
    "En SQL, il est très simple de découper des données pour\n",
    "effectuer des opérations sur des blocs cohérents et recollecter des résultats\n",
    "dans la dimension appropriée.\n",
    "La logique sous-jacente est celle du split-apply-combine qui est repris\n",
    "par les langages de manipulation de données, auxquels `pandas`\n",
    "[ne fait pas exception](https://pandas.pydata.org/pandas-docs/stable/user_guide/groupby.html). \n",
    "\n",
    "L'image suivante, issue de\n",
    "[ce site](https://unlhcc.github.io/r-novice-gapminder/16-plyr/)\n",
    "représente bien la manière dont fonctionne l'approche\n",
    "`split`-`apply`-`combine`\n",
    "\n",
    "![Split-apply-combine](https://unlhcc.github.io/r-novice-gapminder/fig/12-plyr-fig1.png)"
   ]
  },
  {
   "cell_type": "markdown",
   "metadata": {},
   "source": [
    "Ce [tutoriel](https://realpython.com/pandas-groupby/) sur le sujet\n",
    "est particulièrement utile.\n",
    "\n",
    "Pour donner quelques exemples, on peut créer une variable départementale qui\n",
    "servira de critère de groupe. \n"
   ]
  },
  {
   "cell_type": "code",
   "execution_count": null,
   "metadata": {},
   "outputs": [],
   "source": [
    "df['dep'] = df['INSEE commune'].str[:2]"
   ]
  },
  {
   "cell_type": "markdown",
   "metadata": {},
   "source": [
    "En `pandas`, on utilise `groupby` pour découper les données selon un ou\n",
    "plusieurs axes. Techniquement, cette opération consiste à créer une association\n",
    "entre des labels (valeurs des variables de groupe) et des \n",
    "observations. \n",
    "\n",
    "Par exemple, pour compter le nombre de communes par département en SQL, on\n",
    "utiliserait la requête suivante:"
   ]
  },
  {
   "cell_type": "code",
   "execution_count": null,
   "metadata": {},
   "outputs": [],
   "source": [
    "%%sql\n",
    "SELECT dep, count(INSEE commune)\n",
    "FROM df\n",
    "GROUP BY dep;"
   ]
  },
  {
   "cell_type": "markdown",
   "metadata": {},
   "source": [
    "Ce qui, en `pandas`, donne:\n"
   ]
  },
  {
   "cell_type": "code",
   "execution_count": null,
   "metadata": {},
   "outputs": [],
   "source": [
    "df.groupby('dep')[\"INSEE commune\"].count()"
   ]
  },
  {
   "cell_type": "markdown",
   "metadata": {},
   "source": [
    "```\n",
    "## dep\n",
    "## 01    410\n",
    "## 02    805\n",
    "## 03    318\n",
    "## 04    199\n",
    "## 05    168\n",
    "##      ... \n",
    "## 91    196\n",
    "## 92     36\n",
    "## 93     40\n",
    "## 94     47\n",
    "## 95    185\n",
    "## Name: INSEE commune, Length: 96, dtype: int64\n",
    "```\n",
    "\n",
    "La syntaxe est quasiment transparente. On peut bien-sûr effecter des opérations\n",
    "par groupe sur plusieurs colonnes. Par exemple,\n"
   ]
  },
  {
   "cell_type": "code",
   "execution_count": null,
   "metadata": {},
   "outputs": [],
   "source": [
    "df.groupby('dep').mean"
   ]
  },
  {
   "cell_type": "markdown",
   "metadata": {},
   "source": [
    "```\n",
    "## <bound method GroupBy.mean of <pandas.core.groupby.generic.DataFrameGroupBy object at 0x0000000027EBC4A8>>\n",
    "```\n",
    "\n",
    "A noter que la variable de groupe, ici `dep`, devient, par défaut, l'index\n",
    "du DataFrame de sortie. Si on avait utilisé plusieurs variables de groupe, \n",
    "on obtiendrait un objet multi-indexé. \n",
    "\n",
    "Tant qu'on appelle pas une action sur un DataFrame par groupe, du type\n",
    "`head` ou `display`, `pandas` n'effectue aucune opération. On parle de\n",
    "*lazy evaluation*. Par exemple, le résultat de `df.groupby('dep')` est\n",
    "une transformation qui n'est pas encore évaluée:\n"
   ]
  },
  {
   "cell_type": "code",
   "execution_count": null,
   "metadata": {},
   "outputs": [],
   "source": [
    "df.groupby('dep')"
   ]
  },
  {
   "cell_type": "markdown",
   "metadata": {},
   "source": [
    "```\n",
    "## <pandas.core.groupby.generic.DataFrameGroupBy object at 0x0000000027EBC470>\n",
    "```\n",
    "\n",
    "Il est possible d'appliquer plus d'une opération à la fois grâce à la méthode\n",
    "`agg`. Par exemple, pour obtenir à la fois le minimum, la médiane et le maximum\n",
    "de chaque département, on peut faire:\n"
   ]
  },
  {
   "cell_type": "code",
   "execution_count": null,
   "metadata": {},
   "outputs": [],
   "source": [
    "df.groupby('dep').agg(['min',\"median\",\"max\"])"
   ]
  },
  {
   "cell_type": "markdown",
   "metadata": {},
   "source": [
    "```\n",
    "##     Agriculture               ...     Tertiaire             \n",
    "##             min       median  ...        median          max\n",
    "## dep                           ...                           \n",
    "## 01     0.003432  1304.519570  ...    401.490676  30847.36686\n",
    "## 02     0.391926  1205.725078  ...    130.639994  34159.34575\n",
    "## 03     5.041238  5382.194339  ...    191.892445  31099.77288\n",
    "## 04    30.985972  1404.752852  ...    122.504902  16478.02481\n",
    "## 05    38.651727  1520.896526  ...    151.695524  23666.23590\n",
    "## ..          ...          ...  ...           ...          ...\n",
    "## 91     0.400740   516.908303  ...   1428.426303  38296.20473\n",
    "## 92     0.073468     6.505185  ...  18086.633085  65043.36450\n",
    "## 93     3.308495     3.308495  ...  20864.923340  71918.16398\n",
    "## 94     1.781885     1.781885  ...  14054.223450  58528.62348\n",
    "## 95     8.779506   445.279844  ...    725.467969  61497.82148\n",
    "## \n",
    "## [96 rows x 30 columns]\n",
    "```\n",
    "\n",
    "## Appliquer des fonctions\n",
    "\n",
    "`pandas` est, comme on a pu le voir, un package très flexible, qui \n",
    "propose une grande variété de méthodes optimisées. Cependant, il est fréquent \n",
    "d'avoir besoin de méthodes non implémentées. \n",
    "\n",
    "Dans ce cas, on recourt souvent aux `lambda` functions. Par exemple, si \n",
    "on désire connaître les communes dont le nom fait plus de 10 caractères, \n",
    "on peut appliquer la fonction `len` de manière itérative:\n"
   ]
  },
  {
   "cell_type": "code",
   "execution_count": null,
   "metadata": {},
   "outputs": [],
   "source": [
    "df[df['Commune'].apply(lambda s: len(s)>10)]"
   ]
  },
  {
   "cell_type": "markdown",
   "metadata": {},
   "source": [
    "```\n",
    "##       INSEE commune                  Commune  ...     Tertiaire  dep\n",
    "## 0             01001  L'ABERGEMENT-CLEMENCIAT  ...    367.036172   01\n",
    "## 1             01002    L'ABERGEMENT-DE-VAREY  ...    112.934207   01\n",
    "## 2             01004        AMBERIEU-EN-BUGEY  ...  10732.376930   01\n",
    "## 3             01005      AMBERIEUX-EN-DOMBES  ...    782.404357   01\n",
    "## 7             01009         ANDERT-ET-CONDON  ...    161.266219   01\n",
    "## ...             ...                      ...  ...           ...  ...\n",
    "## 35793         95676       VILLERS-EN-ARTHIES  ...    235.439109   95\n",
    "## 35794         95678            VILLIERS-ADAM  ...    403.404815   95\n",
    "## 35795         95680          VILLIERS-LE-BEL  ...  13849.512000   95\n",
    "## 35796         95682          VILLIERS-LE-SEC  ...     85.657725   95\n",
    "## 35797         95690      WY-DIT-JOLI-VILLAGE  ...    147.867245   95\n",
    "## \n",
    "## [16289 rows x 13 columns]\n",
    "```"
   ]
  },
  {
   "cell_type": "markdown",
   "metadata": {},
   "source": [
    "Cependant, toutes les `lambda` functions ne se justifient pas.\n",
    "Par exemple, prenons\n",
    "le résultat d'agrégation précédent. Imaginons qu'on désire avoir les résultats\n",
    "en milliers de tonnes. Dans ce cas, le premier réflexe est d'utiliser\n",
    "la `lambda` function suivante:\n"
   ]
  },
  {
   "cell_type": "code",
   "execution_count": null,
   "metadata": {},
   "outputs": [],
   "source": [
    "df.groupby('dep').agg(['min',\"median\",\"max\"])"
   ]
  },
  {
   "cell_type": "markdown",
   "metadata": {},
   "source": [
    "```\n",
    "##     Agriculture               ...     Tertiaire             \n",
    "##             min       median  ...        median          max\n",
    "## dep                           ...                           \n",
    "## 01     0.003432  1304.519570  ...    401.490676  30847.36686\n",
    "## 02     0.391926  1205.725078  ...    130.639994  34159.34575\n",
    "## 03     5.041238  5382.194339  ...    191.892445  31099.77288\n",
    "## 04    30.985972  1404.752852  ...    122.504902  16478.02481\n",
    "## 05    38.651727  1520.896526  ...    151.695524  23666.23590\n",
    "## ..          ...          ...  ...           ...          ...\n",
    "## 91     0.400740   516.908303  ...   1428.426303  38296.20473\n",
    "## 92     0.073468     6.505185  ...  18086.633085  65043.36450\n",
    "## 93     3.308495     3.308495  ...  20864.923340  71918.16398\n",
    "## 94     1.781885     1.781885  ...  14054.223450  58528.62348\n",
    "## 95     8.779506   445.279844  ...    725.467969  61497.82148\n",
    "## \n",
    "## [96 rows x 30 columns]\n",
    "```\n",
    "\n",
    "En effet, cela effectue le résultat désiré. Cependant, il y a mieux: utiliser\n",
    "la méthode `div`:\n"
   ]
  },
  {
   "cell_type": "code",
   "execution_count": null,
   "metadata": {},
   "outputs": [],
   "source": [
    "import timeit\n",
    "%timeit df.groupby('dep').agg(['min',\"median\",\"max\"]).div(1000)\n",
    "%timeit df.groupby('dep').agg(['min',\"median\",\"max\"]).apply(lambda s: s/1000)"
   ]
  },
  {
   "cell_type": "markdown",
   "metadata": {},
   "source": [
    "La méthode `div` est en moyenne plus rapide et a un temps d'exécution\n",
    "moins variable. Dans ce cas, on pourrait même utiliser le principe\n",
    "du *broadcasting* de numpy (cf. [chapitre numpy](numpy)) qui offre\n",
    "des performances équivalentes:\n",
    "\n"
   ]
  },
  {
   "cell_type": "code",
   "execution_count": null,
   "metadata": {},
   "outputs": [],
   "source": [
    "%timeit df.groupby('dep').agg(['min',\"median\",\"max\"])/1000"
   ]
  },
  {
   "cell_type": "markdown",
   "metadata": {},
   "source": [
    "`apply` est plus rapide qu'une boucle (en interne, `apply` utilise `Cython`\n",
    "pour itérer) mais reste moins rapide qu'une solution vectorisée quand\n",
    "elle existe. Ce [site](https://realpython.com/fast-flexible-pandas/#pandas-apply)\n",
    "propose des solutions, par exemple les méthodes `isin` ou `digitize`, pour\n",
    "éviter de manuellement créer des boucles lentes. "
   ]
  },
  {
   "cell_type": "markdown",
   "metadata": {},
   "source": [
    "## Joindre\n",
    "\n",
    "L'information de valeur s'obtient de moins en moins à partir d'une unique base de données. Il devient commun de devoir combiner des données issues de sources différentes. Nous allons ici nous focaliser sur le cas le plus favorable qui est la situation où une information permet d'apparier de manière exacte deux bases de données (autrement nous serions dans une situation, beaucoup plus complexe, d'appariement flou). La situation typique est l'appariement entre deux sources de données selon un identifiant individuel ou un identifiant de code commune, ce qui est notre cas.\n",
    "\n",
    "Il est recommandé de lire [ce guide assez complet sur la question des jointures avec R](https://linogaliana.gitlab.io/documentationR/joindre-des-tables-de-donn%C3%A9es.html) qui donne des recommandations également utiles en `python`.\n",
    "\n",
    "On utilise de manière indifférente les termes *merge* ou *join*. Le deuxième terme provient de la syntaxe SQL. En `pandas`, dans la plupart des cas, on peut utiliser indifféremment `df.join` et `df.merge`\n",
    "\n",
    "![](../../static/pictures/pandas/pandas_join.png)"
   ]
  },
  {
   "cell_type": "markdown",
   "metadata": {},
   "source": [
    "## Reshape\n",
    "\n",
    "On présente généralement deux types de données: \n",
    "    \n",
    "    * format __wide__: les données comportent des observations répétées, pour un même individu (ou groupe), dans des colonnes différentes \n",
    "    * format __long__: les données comportent des observations répétées, pour un même individu, dans des lignes différentes avec une colonne permettant de distinguer les niveaux d'observations\n",
    "\n",
    "Un exemple de la distinction entre les deux peut être pris à l'ouvrage de référence d'Hadley Wickham, *R for Data Science*:\n",
    "\n",
    "![](https://d33wubrfki0l68.cloudfront.net/3aea19108d39606bbe49981acda07696c0c7fcd8/2de65/images/tidy-9.png)"
   ]
  },
  {
   "cell_type": "markdown",
   "metadata": {},
   "source": [
    "L'aide mémoire suivante aidera à se rappeler les fonctions à appliquer si besoin:\n",
    "\n",
    "![](../../static/pictures/pandas/reshape.png)\n",
    "<!-- #endregion -->\n",
    "\n",
    "Le fait de passer d'un format *wide* au format *long* (ou vice-versa) peut être extrêmement pratique car certaines fonctions sont plus adéquates sur une forme de données ou sur l'autre. En règle générale, avec `python` comme avec `R`, les formats *long* sont souvent préférables.\n",
    "\n",
    "Le TP pandas\n",
    "<!---- reminder_badges(\"content/manipulation/02_pandas_tp.ipynb\") --->\n",
    "<a href=\"https://github.com/linogaliana/python-datascientist/blob/master/content/manipulation/02_pandas_tp.ipynb\" class=\"github\"><i class=\"fab fa-github\"></i></a>\n",
    "[![nbviewer](https://img.shields.io/badge/visualize-nbviewer-blue)](https://nbviewer.jupyter.org/github/linogaliana/python-datascientist/blob/master/content/manipulation/02_pandas_tp.ipynb)\n",
    "[![Onyxia](https://img.shields.io/badge/launch-onyxia-brightgreen)](https://spyrales.sspcloud.fr/my-lab/catalogue/inseefrlab-datascience/jupyter/deploiement)\n",
    "[![Binder](https://mybinder.org/badge_logo.svg)](https://mybinder.org/v2/gh/linogaliana/python-datascientist/master?filepath=content/manipulation/02_pandas_tp.ipynb)\n",
    "[![Open In Colab](https://colab.research.google.com/assets/colab-badge.svg)](http://colab.research.google.com/github/linogaliana/python-datascientist/blob/master/content/manipulation/02_pandas_tp.ipynb)\n",
    "propose une série d'exemples sur la manière de restructurer les données en\n",
    "`pandas`. "
   ]
  },
  {
   "cell_type": "markdown",
   "metadata": {},
   "source": [
    "# Quelques enjeux de performance\n",
    "\n",
    "Ouverture sur dask?\n",
    "\n",
    "# Références\n",
    "\n",
    "* Le site\n",
    "[pandas.pydata](https://pandas.pydata.org/pandas-docs/stable/user_guide/basics.html)\n",
    "fait office de référence\n",
    "\n",
    "..."
   ]
  }
 ],
 "metadata": {
  "jupytext": {
   "formats": "ipynb,md"
  },
  "kernelspec": {
   "display_name": "Python 3",
   "language": "python",
   "name": "python3"
  }
 },
 "nbformat": 4,
 "nbformat_minor": 4
}
