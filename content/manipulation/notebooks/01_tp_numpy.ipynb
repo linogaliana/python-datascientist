{
 "cells": [
  {
   "cell_type": "markdown",
   "metadata": {},
   "source": [
    "#  Retour sur numpy"
   ]
  },
  {
   "cell_type": "markdown",
   "metadata": {},
   "source": [
    "<!---- reminder_badges(\"content/manipulation/01_tp_numpy.ipynb\") --->\n",
    "<a href=\"https://github.com/linogaliana/python-datascientist/blob/master/content/manipulation/01_tp_numpy.ipynb\" class=\"github\"><i class=\"fab fa-github\"></i></a>\n",
    "[![nbviewer](https://img.shields.io/badge/visualize-nbviewer-blue)](https://nbviewer.jupyter.org/github/linogaliana/python-datascientist/blob/master/content/manipulation/01_tp_numpy.ipynb)\n",
    "[![Onyxia](https://img.shields.io/badge/launch-onyxia-brightgreen)](https://spyrales.sspcloud.fr/my-lab/catalogue/inseefrlab-datascience/jupyter/deploiement)\n",
    "[![Binder](https://mybinder.org/badge_logo.svg)](https://mybinder.org/v2/gh/linogaliana/python-datascientist/master?filepath=content/manipulation/01_tp_numpy.ipynb)\n",
    "[![Open In Colab](https://colab.research.google.com/assets/colab-badge.svg)](http://colab.research.google.com/github/linogaliana/python-datascientist/blob/master/content/manipulation/01_tp_numpy.ipynb)"
   ]
  },
  {
   "cell_type": "markdown",
   "metadata": {},
   "source": [
    "Il est recommandé de régulièrement se référer à\n",
    "la [cheatsheet numpy](https://www.datacamp.com/community/blog/python-numpy-cheat-sheet) et à la\n",
    "[doc officielle](https://numpy.org/doc/stable/) en cas de doute\n",
    "sur une fonction. \n",
    "\n",
    "Dans ce chapitre, on ne dérogera pas à la convention qui s'est imposée d'importer `numpy` de la\n",
    "manière suivante:\n"
   ]
  },
  {
   "cell_type": "code",
   "execution_count": null,
   "metadata": {},
   "outputs": [],
   "source": [
    "import numpy as np"
   ]
  },
  {
   "cell_type": "markdown",
   "metadata": {},
   "source": [
    "Si les scripts suivants sont exécutés dans un `notebook`, il est recommandé d'utiliser les paramètres suivants\n",
    "pour contrôler le rendu"
   ]
  },
  {
   "cell_type": "code",
   "execution_count": null,
   "metadata": {
    "lines_to_next_cell": 2
   },
   "outputs": [],
   "source": [
    "from IPython.core.interactiveshell import InteractiveShell\n",
    "InteractiveShell.ast_node_interactivity = \"all\""
   ]
  },
  {
   "cell_type": "markdown",
   "metadata": {},
   "source": [
    "## Le concept d'array\n",
    "\n",
    "Le concept central de `NumPy` (`Numerical Python`) est\n",
    "l'**`array`** qui est un tableau de données multidimensionnel.\n",
    "\n",
    "L'array numpy peut être unidimensionnel et s'apparenter à un vecteur (1d-array),\n",
    "bidimensionnel et ainsi s'apparenter à une matrice (2d-array) ou, de manière plus générale, \n",
    "prendre la forme d'un objet\n",
    "multidimensionnel (Nd-array). \n",
    "\n",
    "Les tableaux simples (uni ou bi-dimensionnels) sont faciles à se représenter seront particulièrement\n",
    "utilisés dans le paradigme des DataFrames mais \n",
    "la possibilité d'avoir des objets multidimensionnel permettra d'exploiter des\n",
    "structures très complexes.\n",
    "\n",
    "Un DataFrame sera construit à partir d'une collection\n",
    "d'array uni-dimensionnels (les variables de la table), ce qui permettra d'effectuer des opérations cohérentes\n",
    "(et optimisées) avec le type de la variable."
   ]
  },
  {
   "cell_type": "markdown",
   "metadata": {},
   "source": [
    "Par rapport à une liste,\n",
    "\n",
    "* un *array* ne peut contenir qu'un type de données (`integer`, `string`, etc.),\n",
    " contrairement à une liste.\n",
    "* les opérations implémentées par `numpy` seront plus efficaces et demanderont moins\n",
    "de mémoire\n"
   ]
  },
  {
   "cell_type": "markdown",
   "metadata": {},
   "source": [
    "Les données géographiques constitueront une construction un peu plus complexe qu'un DataFrame traditionnel. \n",
    "La dimension géographique prend la forme d'un tableau plus profond, au moins bidimensionnel\n",
    "(coordonnées d'un point). "
   ]
  },
  {
   "cell_type": "markdown",
   "metadata": {},
   "source": [
    "## Créer un array\n",
    "\n",
    "On peut créer un `array` de plusieurs manières. Pour créer un `array` à partir d'une liste,\n",
    "il suffit d'utiliser la méthode `array`:"
   ]
  },
  {
   "cell_type": "code",
   "execution_count": null,
   "metadata": {},
   "outputs": [],
   "source": [
    "np.array([1,2,5])\n",
    "np.array([[\"a\",\"z\",\"e\"],[\"r\",\"t\"],[\"y\"]])"
   ]
  },
  {
   "cell_type": "markdown",
   "metadata": {},
   "source": [
    "Il existe aussi des méthodes pratiques pour créer des array:\n",
    "\n",
    "* séquences logiques : `np.arange` (suite) ou `np.linspace` (interpolation linéaire entre deux bornes)\n",
    "* séquences ordonnées: _array_ rempli de zéros, de 1 ou d'un nombre désiré : `np.zeros`, `np.ones` ou `np.full`\n",
    "* séquences aléatoires: fonctions de génération de nombres aléatoires: `np.rand.uniform`, `np.rand.normal`, etc. \n",
    "* tableau sous forme de matrice identité: `np.eye`\n",
    "\n",
    "Il est possible d'ajouter un argument `dtype` pour contraindre le type du *array*:"
   ]
  },
  {
   "cell_type": "code",
   "execution_count": null,
   "metadata": {},
   "outputs": [],
   "source": [
    "np.arange(0,10)\n",
    "np.arange(0,10,3)\n",
    "np.linspace(0, 1, 5)\n",
    "np.zeros(10, dtype=int)\n",
    "np.ones((3, 5), dtype=float)\n",
    "np.full((3, 5), 3.14)\n",
    "np.eye(3)"
   ]
  },
  {
   "cell_type": "markdown",
   "metadata": {},
   "source": [
    "**Exercice :**\n",
    "\n",
    "Générer:\n",
    "\n",
    "* $X$ une variable aléatoire, 1000 répétitions d'une loi $U(0,1)$\n",
    "* $Y$ une variable aléatoire, 1000 répétitions d'une loi normale de moyenne nulle et de variance égale à 2\n",
    "* Vérifier la variance de $Y$ avec `np.var`"
   ]
  },
  {
   "cell_type": "markdown",
   "metadata": {
    "lines_to_next_cell": 0
   },
   "source": [
    "**Correction** "
   ]
  },
  {
   "cell_type": "code",
   "execution_count": null,
   "metadata": {},
   "outputs": [],
   "source": [
    "X = np.random.uniform(0,1,1000)\n",
    "Y = np.random.normal(0,np.sqrt(2),1000)\n",
    "\n",
    "np.var(Y)"
   ]
  },
  {
   "cell_type": "markdown",
   "metadata": {},
   "source": [
    "## Indexation et slicing\n",
    "\n",
    "### Logique dans le cas d'un array unidimensionnel\n",
    "\n",
    "La structure la plus simple imaginable est l'array unidimensionnel:"
   ]
  },
  {
   "cell_type": "code",
   "execution_count": null,
   "metadata": {},
   "outputs": [],
   "source": [
    "x = np.arange(10)"
   ]
  },
  {
   "cell_type": "markdown",
   "metadata": {},
   "source": [
    "L'indexation est dans ce cas similaire à celle d'une liste: \n",
    "\n",
    "* le premier élément est 0\n",
    "* le énième élément est accessible à la position $n-1$\n",
    "\n",
    "La logique d'accès aux éléments est ainsi la suivante:\n",
    "\n",
    "~~~python\n",
    "x[start:stop:step]\n",
    "~~~\n",
    "\n",
    "Avec un *array* unidimensionnel, l'opération de *slicing* (garder une coupe du *array*) est très simple. \n",
    "Par exemple, pour garder les *K* premiers éléments d'un *array*, on fera:\n",
    "\n",
    "~~~python\n",
    "x[:(K-1)]\n",
    "~~~\n",
    "\n",
    "En l'occurrence, on sélectionne le K$^{eme}$ élément en utilisant\n",
    "\n",
    "~~~python\n",
    "x[K-1]\n",
    "~~~\n",
    "\n",
    "Pour sélectionner uniquement un élément, on fera ainsi:"
   ]
  },
  {
   "cell_type": "code",
   "execution_count": null,
   "metadata": {},
   "outputs": [],
   "source": [
    "x = np.arange(10)\n",
    "x[2]"
   ]
  },
  {
   "cell_type": "markdown",
   "metadata": {},
   "source": [
    "Les syntaxes qui permettent de sélectionner des indices particuliers d'une liste fonctionnent également\n",
    "avec les arrays:\n",
    "\n",
    "**Exercice**\n",
    "\n",
    "* Sélectionner les éléments 0,3,5\n",
    "* Sélectionner les éléments pairs\n",
    "* Sélectionner tous les éléments sauf le premier\n",
    "* Sélectionner les 5 premiers éléments\n",
    "\n",
    "Correction"
   ]
  },
  {
   "cell_type": "code",
   "execution_count": null,
   "metadata": {
    "lines_to_next_cell": 2
   },
   "outputs": [],
   "source": [
    "x[[0,3,5]]\n",
    "x[::2]\n",
    "x[-0]\n",
    "x[:5]\n",
    "# x2[0,:] # La première ligne"
   ]
  },
  {
   "cell_type": "markdown",
   "metadata": {},
   "source": [
    "-----\n",
    "\n",
    "Un élément déterminant dans la performance de `numpy` par rapport aux listes, lorsqu'il est question de \n",
    "*slicing* est qu'un array ne renvoie pas une\n",
    "copie de l'élément en question (copie qui coûte de la mémoire et du temps) mais simplement une vue de celui-ci\n",
    "**DETAILS** \n",
    "\n",
    "Lorsqu'il est nécessaire d'effectuer une copie, par exemple pour ne pas altérer l'array sous-jacent, on peut \n",
    "utiliser la méthode `copy`:\n",
    "\n",
    "~~~python\n",
    "x_sub_copy = x[:2, :2].copy()\n",
    "~~~\n",
    "\n",
    "-----\n",
    "\n",
    "<!---- GARDER ?\n",
    "### Généralisation avec des array n-dimensionnels\n",
    "\n",
    "La généralisation à un array n-dimensionnel n'est pas toujours évidente et implique souvent, pour \n",
    "des structures complexes, des essais erreurs. \n",
    "Nous nous bornerons aux array bidimensionnels. \n",
    "Il ne faut pas oublier le piège de l'indexation \n",
    "qui commence à 0\n",
    " \n",
    "**Exercice**: Soit `x = np.array([[1, 2, 3, 4], [5, 6, 7, 8, 9, 10]])`\n",
    "\n",
    "**TO DO**\n",
    "\n",
    "----->\n",
    "\n",
    "### Filtres logiques"
   ]
  },
  {
   "cell_type": "markdown",
   "metadata": {},
   "source": [
    "Il est également possible, et plus pratique, de sélectionner des données à partir de conditions logiques\n",
    "(opération qu'on appelle un *boolean mask*)\n",
    "Cette fonctionalité servira principalement à \n",
    "effectuer des opérations de filtre sur les données.\n",
    "\n",
    "Pour des opérations de comparaison simples, les comparateurs logiques peuvent être suffisants. \n",
    "Ces comparaisons fonctionnent aussi sur les tableaux multidimensionnels grâce au\n",
    "*broadcasting* sur lequel nous reviendront:"
   ]
  },
  {
   "cell_type": "code",
   "execution_count": null,
   "metadata": {},
   "outputs": [],
   "source": [
    "x = np.arange(10)\n",
    "x2 = np.array([[-1,1,-2],[-3,2,0]])"
   ]
  },
  {
   "cell_type": "code",
   "execution_count": null,
   "metadata": {},
   "outputs": [],
   "source": [
    "x==2\n",
    "x2<0"
   ]
  },
  {
   "cell_type": "markdown",
   "metadata": {},
   "source": [
    "Pour sélectionner les observations relatives à la condition logique,\n",
    "il suffit d'utiliser la logique de *slicing* de `numpy` qui fonctionne avec les conditions logiques\n",
    "\n",
    "**Exercice**\n",
    "\n",
    "Soit "
   ]
  },
  {
   "cell_type": "code",
   "execution_count": null,
   "metadata": {},
   "outputs": [],
   "source": [
    "x = np.random.normal(size=10000)"
   ]
  },
  {
   "cell_type": "markdown",
   "metadata": {},
   "source": [
    "1. Ne conserver que les valeurs dont la valeur absolue est supérieure à 1.96\n",
    "2. Compter le nombre de valeurs supérieures à 1.96 en valeur absolue et leur proportion dans l'ensemble\n",
    "3. Sommer les valeurs absolues de toutes les observations supérieures (en valeur absolue) à 1.96\n",
    "et rapportez les à la somme des valeurs de `x` (en valeur absolue) \n",
    "\n"
   ]
  },
  {
   "cell_type": "code",
   "execution_count": null,
   "metadata": {},
   "outputs": [],
   "source": [
    "x = np.random.normal(size=10000)\n",
    "\n",
    "x2 = x[np.abs(x)>=1.96]\n",
    "\n",
    "x2.size\n",
    "x2.size/x.size\n",
    "np.sum(np.abs(x2))/np.sum(np.abs(x))"
   ]
  },
  {
   "cell_type": "markdown",
   "metadata": {
    "lines_to_next_cell": 0
   },
   "source": [
    "Lorsque c'est possible, il est recommandé d'utiliser les fonctions logiques de `numpy` (optimisées et \n",
    "qui gèrent bien la dimension). Parmi elles, on peut retrouver:\n",
    "\n",
    "* `count_nonzero`\n",
    "* `is_nan`\n",
    "* `any` ; `all` ; notamment avec l'argument `axis`\n",
    "* `np.array_equal` pour vérifier, élément par élément, l'égalité\n",
    "\n",
    "**Exercice**\n",
    "\n",
    "Soit"
   ]
  },
  {
   "cell_type": "code",
   "execution_count": null,
   "metadata": {},
   "outputs": [],
   "source": [
    "x = np.random.normal(0, size=(3, 4))"
   ]
  },
  {
   "cell_type": "markdown",
   "metadata": {},
   "source": [
    "un *array* multidimensionnel et"
   ]
  },
  {
   "cell_type": "code",
   "execution_count": null,
   "metadata": {},
   "outputs": [],
   "source": [
    "y = np.array([np.nan, 0, 1])"
   ]
  },
  {
   "cell_type": "markdown",
   "metadata": {},
   "source": [
    "un *array* unidimensionnel présentant une valeur manquante. \n",
    "\n",
    "1. Utiliser `count_nonzero` sur `y`\n",
    "2. Utiliser `is_nan` sur `y` et compter le nombre de valeurs non NaN\n",
    "2. Vérifier que `x` comporte au moins une valeur positive dans son ensemble, dans chaque array et en"
   ]
  },
  {
   "cell_type": "code",
   "execution_count": null,
   "metadata": {},
   "outputs": [],
   "source": [
    "x = np.random.normal(0, size=(3, 4))\n",
    "y = np.array([np.nan, 0, 1])\n",
    "\n",
    "x\n",
    "y\n",
    "np.count_nonzero(y)\n",
    "np.isnan(y)\n",
    "np.any(x>0)\n",
    "np.any(x>0, axis = 0)"
   ]
  },
  {
   "cell_type": "markdown",
   "metadata": {},
   "source": [
    "## Manipuler un array\n",
    "\n",
    "Dans cette section, on utilisera un array multidimensionnel:"
   ]
  },
  {
   "cell_type": "code",
   "execution_count": null,
   "metadata": {},
   "outputs": [],
   "source": [
    "x = np.random.normal(0, size=(3, 4))"
   ]
  },
  {
   "cell_type": "markdown",
   "metadata": {},
   "source": [
    "### Statistiques sur un array\n",
    "\n",
    "Pour les statistiques descriptives classiques, `numpy` propose un certain nombre de fonctions déjà implémentées,\n",
    "qui peuvent être combinées avec l'argument `axis`\n",
    "\n",
    "**Exercice**\n",
    "\n",
    "1. Faire la somme de tous les éléments d'un `array`, des éléments en ligne et des éléments en colonne. Vérifier\n",
    "la cohérence\n",
    "2. Ecrire une fonction `statdesc` pour renvoyer les valeurs suivantes : moyenne, médiane, écart-type, minimum et maximum.\n",
    "L'appliquer sur `x` en jouant avec l'argument axis"
   ]
  },
  {
   "cell_type": "code",
   "execution_count": null,
   "metadata": {},
   "outputs": [],
   "source": [
    "x.sum()\n",
    "x.sum(axis = 0)\n",
    "x.sum(axis = 1)\n",
    "# check coherence\n",
    "x.sum(axis = 0).sum()\n",
    "x.sum(axis = 1).sum()"
   ]
  },
  {
   "cell_type": "code",
   "execution_count": null,
   "metadata": {
    "lines_to_next_cell": 2
   },
   "outputs": [],
   "source": [
    "def statdesc(x, axis = None):\n",
    "    \"\"\"\n",
    "    Statistiques agrégées sur un array numpy\n",
    "\n",
    "    :param x: Numpy array\n",
    "    :param axis: Numpy dimension that should be used\n",
    "    :return: A numpy array with mean, median, sd, min and max\n",
    "    \"\"\"\n",
    "\n",
    "    return np.array([\n",
    "        np.mean(x, axis = axis),\n",
    "        np.median(x, axis = axis),\n",
    "        np.std(x, axis = axis),\n",
    "        np.min(x, axis = axis),\n",
    "        np.max(x, axis = axis)\n",
    "        ])\n",
    "\n",
    "statdesc(x)\n",
    "statdesc(x, axis = 0)\n",
    "statdesc(x, axis = 1)"
   ]
  },
  {
   "cell_type": "markdown",
   "metadata": {},
   "source": [
    "### Fonctions de manipulation\n",
    "\n",
    "Voici quelques fonctions pour modifier un array, \n",
    "\n",
    "| Opération | Implémentation |\n",
    "|-----------|----------------|\n",
    "| Applatir un array | `x.flatten()` (méthode) |\n",
    "| Transposer un array | `x.T` (méthode) ou `np.transpose(x)` (fonction) |\n",
    "| Ajouter des éléments à la fin | `np.append(x, [1,2])` |\n",
    "| Ajouter des éléments à un endroit donné (aux positions 1 et 2) | `np.insert(x, [1,2], 3)` |\n",
    "| Supprimer des éléments (aux positions 0 et 3) | `np.delete(x, [0,3])` |\n",
    "\n",
    "Pour combiner des array, on peut utiliser, selon les cas, \n",
    "les fonctions `np.concatenate`, `np.vstack` ou la méthode `.r_` (concaténation *rowwise*). \n",
    "`np.hstack` ou la méthode `.column_stack` ou `.c_` (concaténation *column-wise*)"
   ]
  },
  {
   "cell_type": "code",
   "execution_count": null,
   "metadata": {},
   "outputs": [],
   "source": [
    "x = np.random.normal(size = 10)"
   ]
  },
  {
   "cell_type": "markdown",
   "metadata": {},
   "source": [
    "A l'inverse, \n",
    "\n",
    "Pour ordonner un array, on utilise `np.sort`"
   ]
  },
  {
   "cell_type": "code",
   "execution_count": null,
   "metadata": {},
   "outputs": [],
   "source": [
    "x = np.array([7, 2, 3, 1, 6, 5, 4])\n",
    "\n",
    "np.sort(x)"
   ]
  },
  {
   "cell_type": "markdown",
   "metadata": {},
   "source": [
    "Si on désire faire un ré-ordonnement partiel pour trouver les _k_ valeurs les plus petites d'un `array` sans les ordonner, on utilise `partition`:"
   ]
  },
  {
   "cell_type": "code",
   "execution_count": null,
   "metadata": {
    "lines_to_next_cell": 0
   },
   "outputs": [],
   "source": [
    "np.partition(x, 3)"
   ]
  },
  {
   "cell_type": "markdown",
   "metadata": {},
   "source": []
  },
  {
   "cell_type": "markdown",
   "metadata": {},
   "source": [
    "## Broadcasting\n",
    "\n",
    "Le broadcasting désigne un ensemble de règles pour appliquer une opération qui normalement\n",
    "ne s'applique que sur une seule valeur à l'ensemble des membres d'un tableau Numpy. \n",
    "\n",
    "Le broadcasting nous permet d'appliquer ces opérations sur des tableaux de dimensions différentes."
   ]
  },
  {
   "cell_type": "code",
   "execution_count": null,
   "metadata": {},
   "outputs": [],
   "source": [
    "a = np.array([0, 1, 2])\n",
    "\n",
    "b = np.array([5, 5, 5])\n",
    "\n",
    "a + b\n",
    "a + 5"
   ]
  },
  {
   "cell_type": "markdown",
   "metadata": {},
   "source": [
    "Le *broadcasting* peut être très pratique pour effectuer de manière efficace des opérations sur des données à\n",
    "la structure complexe. Pour plus de détails, se rendre\n",
    "[ici](https://jakevdp.github.io/PythonDataScienceHandbook/02.05-computation-on-arrays-broadcasting.html).\n",
    "\n",
    "## Application: k-nearest neighbor fait-main\n",
    "\n",
    "L'idée de cet exercice vient de\n",
    "[là](https://jakevdp.github.io/PythonDataScienceHandbook/02.08-sorting.html#Example:-k-Nearest-Neighbors)"
   ]
  },
  {
   "cell_type": "markdown",
   "metadata": {},
   "source": [
    "1. Utiliser "
   ]
  },
  {
   "cell_type": "code",
   "execution_count": null,
   "metadata": {},
   "outputs": [],
   "source": [
    "import random as rand\n",
    "X = np.random.random((10, 2))"
   ]
  },
  {
   "cell_type": "code",
   "execution_count": null,
   "metadata": {},
   "outputs": [],
   "source": [
    "%matplotlib inline\n",
    "import matplotlib.pyplot as plt\n",
    "plt.scatter(X[:, 0], X[:, 1], s=100)"
   ]
  },
  {
   "cell_type": "code",
   "execution_count": null,
   "metadata": {},
   "outputs": [],
   "source": [
    "dist_sq = np.sum((X[:, np.newaxis, :] - X[np.newaxis, :, :]) ** 2, axis=-1)\n",
    "dist_sq"
   ]
  },
  {
   "cell_type": "markdown",
   "metadata": {},
   "source": [
    "This operation has a lot packed into it, and it might be a bit confusing if you're unfamiliar with NumPy's broadcasting rules. When you come across code like this, it can be useful to break it down into its component steps:"
   ]
  },
  {
   "cell_type": "code",
   "execution_count": null,
   "metadata": {},
   "outputs": [],
   "source": [
    "# for each pair of points, compute differences in their coordinates\n",
    "differences = X[:, np.newaxis, :] - X[np.newaxis, :, :]\n",
    "differences.shape"
   ]
  },
  {
   "cell_type": "code",
   "execution_count": null,
   "metadata": {},
   "outputs": [],
   "source": [
    "# square the coordinate differences\n",
    "sq_differences = differences ** 2\n",
    "sq_differences.shape"
   ]
  },
  {
   "cell_type": "code",
   "execution_count": null,
   "metadata": {},
   "outputs": [],
   "source": [
    "# sum the coordinate differences to get the squared distance\n",
    "dist_sq = sq_differences.sum(-1)\n",
    "dist_sq.shape"
   ]
  },
  {
   "cell_type": "markdown",
   "metadata": {},
   "source": [
    "Just to double-check what we are doing, we should see that the diagonal of this matrix (i.e., the set of distances between each point and itself) is all zero:"
   ]
  },
  {
   "cell_type": "code",
   "execution_count": null,
   "metadata": {},
   "outputs": [],
   "source": [
    "dist_sq.diagonal()"
   ]
  },
  {
   "cell_type": "code",
   "execution_count": null,
   "metadata": {},
   "outputs": [],
   "source": []
  },
  {
   "cell_type": "code",
   "execution_count": null,
   "metadata": {},
   "outputs": [],
   "source": []
  },
  {
   "cell_type": "markdown",
   "metadata": {},
   "source": [
    "It checks out! With the pairwise square-distances converted, we can now use np.argsort to sort along each row. The leftmost columns will then give the indices of the nearest neighbors:"
   ]
  },
  {
   "cell_type": "code",
   "execution_count": null,
   "metadata": {},
   "outputs": [],
   "source": [
    "nearest = np.argsort(dist_sq, axis=1)\n",
    "print(nearest)"
   ]
  },
  {
   "cell_type": "markdown",
   "metadata": {},
   "source": [
    "Notice that the first column gives the numbers 0 through 9 in order: this is due to the fact that each point's closest neighbor is itself, as we would expect."
   ]
  },
  {
   "cell_type": "markdown",
   "metadata": {},
   "source": [
    "By using a full sort here, we've actually done more work than we need to in this case. If we're simply interested in the nearest k neighbors, all we need is to partition each row so that the smallest k+1\n",
    "\n",
    "squared distances come first, with larger distances filling the remaining positions of the array. We can do this with the np.argpartition function:\n",
    "\n",
    "K = 2\n",
    "nearest_partition = np.argpartition(dist_sq, K + 1, axis=1)\n",
    "\n"
   ]
  },
  {
   "cell_type": "markdown",
   "metadata": {},
   "source": [
    "Finally, I'll note that when doing very large nearest neighbor searches, there are tree-based and/or approximate algorithms that can scale as O[NlogN] or better rather than the O[N2] of the brute-force algorithm. One example of this is the KD-Tree, implemented in Scikit-learn."
   ]
  },
  {
   "cell_type": "markdown",
   "metadata": {},
   "source": [
    "Suite exercice: \n",
    "    * faire une fonction dont argument est array et k\n",
    "    * faire quelques tests unitaires: diag 0, premier element matrice est élément lui-même, dimension sortie"
   ]
  },
  {
   "cell_type": "markdown",
   "metadata": {},
   "source": [
    "## Restructuration, concaténation et division\n",
    "\n",
    "* Pour restructurer un `array`, c'est-à-dire changer ses dimensions, le plus simple est d'utiliser la méthode `reshape`. Par exemple, pour \n",
    "\n",
    "np.reshape\n",
    "np.concatenate\n",
    "np.split, np.hsplit, and np.vsplit\n",
    "\n"
   ]
  }
 ],
 "metadata": {
  "jupytext": {
   "formats": "ipynb,md"
  },
  "kernelspec": {
   "display_name": "Python 3",
   "language": "python",
   "name": "python3"
  }
 },
 "nbformat": 4,
 "nbformat_minor": 4
}
