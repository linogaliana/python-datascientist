{
 "cells": [
  {
   "cell_type": "markdown",
   "metadata": {},
   "source": [
    "#  Pratique de pandas: un exemple complet\n",
    "\n",
    "\n",
    "\n",
    "\n"
   ]
  },
  {
   "cell_type": "markdown",
   "metadata": {},
   "source": [
    "Dans ce tutoriel `pandas`, nous allons utiliser:\n",
    "\n",
    "* Les émissions de gaz à effet de serre estimées au niveau communal par l'ADEME. Le jeu de données est \n",
    "disponible sur [data.gouv](https://www.data.gouv.fr/fr/datasets/inventaire-de-gaz-a-effet-de-serre-territorialise/#_)\n",
    "et requêtable directement dans python avec\n",
    "[cet url](https://koumoul.com/s/data-fair/api/v1/datasets/igt-pouvoir-de-rechauffement-global/convert)\n",
    "* Quelques données de contexte au niveau communal. Idéalement, on utiliserait les données\n",
    "[disponibles sur le site de l'Insee](https://www.insee.fr/fr/statistiques/3560121). Pour faciliter l'import de celles-ci, les données ont été mises à disposition dans le dépôt github, [sur cet url](https://github.com/linogaliana/python-datascientist/blob/pandas_intro/data/filosofi_2016.csv)"
   ]
  },
  {
   "cell_type": "markdown",
   "metadata": {},
   "source": [
    "`pandas` offre la possibilité d'importer des données directement depuis un url. C'est l'option\n",
    "prise dans ce tutoriel.\n",
    "Si vous préfèrez, pour des\n",
    "raisons d'accès au réseau ou de performance, importer depuis un poste local,\n",
    "vous pouvez télécharger les données et changer\n",
    "les commandes d'import avec le chemin adéquat plutôt que l'url. \n",
    "\n",
    "Nous suivrons les conventions habituelles dans l'import des packages\n",
    "\n"
   ]
  },
  {
   "cell_type": "code",
   "execution_count": null,
   "metadata": {},
   "outputs": [],
   "source": [
    "import numpy as np\n",
    "import pandas as pd\n",
    "import matplotlib.pyplot as plt"
   ]
  },
  {
   "cell_type": "markdown",
   "metadata": {},
   "source": [
    "## Exploration de la structure des données\n",
    "\n",
    "Commencer par importer les données de l'Ademe à l'aide du package `pandas`. Vous pouvez les nommer `df`\n"
   ]
  },
  {
   "cell_type": "code",
   "execution_count": null,
   "metadata": {},
   "outputs": [],
   "source": [
    "df = pd.read_csv(\"https://koumoul.com/s/data-fair/api/v1/datasets/igt-pouvoir-de-rechauffement-global/convert\")"
   ]
  },
  {
   "cell_type": "markdown",
   "metadata": {},
   "source": [
    "Pour les données de cadrage au niveau communal (source Insee), une version arrangée et facile à requêter est fournie sur [github](https://github.com/linogaliana/python-datascientist/blob/pandas_intro/data/filosofi_2016.csv)\n"
   ]
  },
  {
   "cell_type": "code",
   "execution_count": null,
   "metadata": {},
   "outputs": [],
   "source": [
    "df_city = pd.read_csv(\"https://raw.githubusercontent.com/linogaliana/python-datascientist/master/data/filosofi_2016.csv\")"
   ]
  },
  {
   "cell_type": "markdown",
   "metadata": {},
   "source": [
    "```\n",
    "## sys:1: DtypeWarning: Columns (0) have mixed types.Specify dtype option on import or set low_memory=False.\n",
    "```\n",
    "\n",
    "-----------------\n",
    "**Exercice 1: Afficher des données**\n",
    "\n",
    "L'objectif de cet exercice est de vous amener à afficher des informations sur les données dans un bloc de code (notebook) ou dans la console\n",
    "    \n",
    "Commencer sur `df`: \n",
    "\n",
    "    * Utiliser les méthodes adéquates pour les 10 premières valeurs, les 15 dernières et un échantillon aléatoire de 10 valeurs\n",
    "    * Tirer 5 pourcent de l'échantillon sans remise\n",
    "    * Ne conserver que les 10 premières lignes et tirer aléatoirement dans celles-ci pour obtenir un DataFrame de 100 données.\n",
    "    * Faire 100 tirages à partir des 6 premières lignes avec une probabilité de 1/2 pour la première observation et une probabilité uniforme pour les autres\n",
    "    \n",
    "Faire la même chose sur `df_city`\n",
    "\n",
    "------------------\n"
   ]
  },
  {
   "cell_type": "code",
   "execution_count": null,
   "metadata": {},
   "outputs": [],
   "source": [
    "df.head(10)"
   ]
  },
  {
   "cell_type": "markdown",
   "metadata": {},
   "source": [
    "```\n",
    "##   INSEE commune                  Commune  ...       Routier     Tertiaire\n",
    "## 0         01001  L'ABERGEMENT-CLEMENCIAT  ...    793.156501    367.036172\n",
    "## 1         01002    L'ABERGEMENT-DE-VAREY  ...    348.997893    112.934207\n",
    "## 2         01004        AMBERIEU-EN-BUGEY  ...  15642.420310  10732.376930\n",
    "## 3         01005      AMBERIEUX-EN-DOMBES  ...   1756.341319    782.404357\n",
    "## 4         01006                  AMBLEON  ...    398.786800     51.681756\n",
    "## 5         01007                 AMBRONAY  ...  22481.123580   2789.133106\n",
    "## 6         01008                 AMBUTRIX  ...   3616.168396    356.029873\n",
    "## 7         01009         ANDERT-ET-CONDON  ...    696.956038    161.266219\n",
    "## 8         01010                ANGLEFORT  ...   3199.808360   1206.147643\n",
    "## 9         01011                 APREMONT  ...    686.153720    188.542701\n",
    "## \n",
    "## [10 rows x 12 columns]\n",
    "```"
   ]
  },
  {
   "cell_type": "code",
   "execution_count": null,
   "metadata": {},
   "outputs": [],
   "source": [
    "df.tail(15)"
   ]
  },
  {
   "cell_type": "markdown",
   "metadata": {},
   "source": [
    "```\n",
    "##       INSEE commune              Commune  ...       Routier     Tertiaire\n",
    "## 35783         95628           VALMONDOIS  ...    589.164544    574.241730\n",
    "## 35784         95633          VAUDHERLAND  ...    439.279632    199.435133\n",
    "## 35785         95637              VAUREAL  ...   4982.982966   7515.388640\n",
    "## 35786         95641               VEMARS  ...  17783.179830   2654.384495\n",
    "## 35787         95651             VETHEUIL  ...   1472.779256    414.411115\n",
    "## 35788         95652              VIARMES  ...   5705.777606   2521.399729\n",
    "## 35789         95656    VIENNE-EN-ARTHIES  ...    305.819555    206.727023\n",
    "## 35790         95658                VIGNY  ...   8539.961119    516.817557\n",
    "## 35791         95660  VILLAINES-SOUS-BOIS  ...    912.992023    336.409947\n",
    "## 35792         95675             VILLERON  ...   7740.572805    725.467969\n",
    "## 35793         95676   VILLERS-EN-ARTHIES  ...    309.627908    235.439109\n",
    "## 35794         95678        VILLIERS-ADAM  ...  18759.370070    403.404815\n",
    "## 35795         95680      VILLIERS-LE-BEL  ...  12217.122400  13849.512000\n",
    "## 35796         95682      VILLIERS-LE-SEC  ...   4663.232127     85.657725\n",
    "## 35797         95690  WY-DIT-JOLI-VILLAGE  ...    504.400972    147.867245\n",
    "## \n",
    "## [15 rows x 12 columns]\n",
    "```"
   ]
  },
  {
   "cell_type": "code",
   "execution_count": null,
   "metadata": {},
   "outputs": [],
   "source": [
    "df.sample(10)"
   ]
  },
  {
   "cell_type": "markdown",
   "metadata": {},
   "source": [
    "```\n",
    "##       INSEE commune                    Commune  ...       Routier     Tertiaire\n",
    "## 956           02565                    OEUILLY  ...    203.493417    137.818015\n",
    "## 22627         59138                CATTENIERES  ...    967.027502    322.532438\n",
    "## 12806         33141                   CROIGNON  ...    924.027586    258.887313\n",
    "## 33099         82100                       LOZE  ...    231.978058     62.688056\n",
    "## 24581         62344       FONTAINE-LES-HERMANS  ...    235.280496     57.424173\n",
    "## 16851         44190  SAINT-SEBASTIEN-SUR-LOIRE  ...  23789.667860  13441.362600\n",
    "## 11601         30341                    VAUVERT  ...  14963.045230   8151.955062\n",
    "## 35099         89384                      SENAN  ...  10191.756930    375.171263\n",
    "## 2875          09018                     ARROUT  ...     43.338533     37.325712\n",
    "## 9877          27302           LE BOSC DU THEIL  ...   1766.107122    616.831325\n",
    "## \n",
    "## [10 rows x 12 columns]\n",
    "```"
   ]
  },
  {
   "cell_type": "code",
   "execution_count": null,
   "metadata": {},
   "outputs": [],
   "source": [
    "df.sample(frac = 0.05)"
   ]
  },
  {
   "cell_type": "markdown",
   "metadata": {},
   "source": [
    "```\n",
    "##       INSEE commune               Commune  ...       Routier    Tertiaire\n",
    "## 29378         72249             LA QUINTE  ...   4658.285793   383.306355\n",
    "## 26008         64415       NAVAILLES-ANGOS  ...   3763.830784   668.034546\n",
    "## 8382          24285  MONTAGNAC-LA-CREMPSE  ...   1476.128552   181.843214\n",
    "## 27553         68195            LUTTERBACH  ...  32558.455360  4053.126032\n",
    "## 19281         51518         SAINT-THIERRY  ...   6353.604388   532.472922\n",
    "## ...             ...                   ...  ...           ...          ...\n",
    "## 29487         72364                  VAAS  ...   3004.059294  2777.282260\n",
    "## 14486         38069              CHAMPIER  ...   5914.014514   636.929785\n",
    "## 18526         50304      LE MESNIL-AUBERT  ...   1535.417938    78.001168\n",
    "## 16032         41237                SASSAY  ...   2173.652201   470.573282\n",
    "## 27130         67304          MORSCHWILLER  ...    568.890529   286.163795\n",
    "## \n",
    "## [1790 rows x 12 columns]\n",
    "```"
   ]
  },
  {
   "cell_type": "code",
   "execution_count": null,
   "metadata": {},
   "outputs": [],
   "source": [
    "df[:10].sample(n = 100, replace = True)"
   ]
  },
  {
   "cell_type": "markdown",
   "metadata": {},
   "source": [
    "```\n",
    "##    INSEE commune                  Commune  ...       Routier     Tertiaire\n",
    "## 4          01006                  AMBLEON  ...    398.786800     51.681756\n",
    "## 0          01001  L'ABERGEMENT-CLEMENCIAT  ...    793.156501    367.036172\n",
    "## 0          01001  L'ABERGEMENT-CLEMENCIAT  ...    793.156501    367.036172\n",
    "## 2          01004        AMBERIEU-EN-BUGEY  ...  15642.420310  10732.376930\n",
    "## 3          01005      AMBERIEUX-EN-DOMBES  ...   1756.341319    782.404357\n",
    "## ..           ...                      ...  ...           ...           ...\n",
    "## 4          01006                  AMBLEON  ...    398.786800     51.681756\n",
    "## 9          01011                 APREMONT  ...    686.153720    188.542701\n",
    "## 4          01006                  AMBLEON  ...    398.786800     51.681756\n",
    "## 9          01011                 APREMONT  ...    686.153720    188.542701\n",
    "## 4          01006                  AMBLEON  ...    398.786800     51.681756\n",
    "## \n",
    "## [100 rows x 12 columns]\n",
    "```"
   ]
  },
  {
   "cell_type": "code",
   "execution_count": null,
   "metadata": {},
   "outputs": [],
   "source": [
    "df[:6].sample(n = 100, replace = True, weights = [0.5] + [0.1]*5)"
   ]
  },
  {
   "cell_type": "markdown",
   "metadata": {},
   "source": [
    "```\n",
    "##    INSEE commune                  Commune  ...       Routier    Tertiaire\n",
    "## 0          01001  L'ABERGEMENT-CLEMENCIAT  ...    793.156501   367.036172\n",
    "## 3          01005      AMBERIEUX-EN-DOMBES  ...   1756.341319   782.404357\n",
    "## 0          01001  L'ABERGEMENT-CLEMENCIAT  ...    793.156501   367.036172\n",
    "## 5          01007                 AMBRONAY  ...  22481.123580  2789.133106\n",
    "## 0          01001  L'ABERGEMENT-CLEMENCIAT  ...    793.156501   367.036172\n",
    "## ..           ...                      ...  ...           ...          ...\n",
    "## 0          01001  L'ABERGEMENT-CLEMENCIAT  ...    793.156501   367.036172\n",
    "## 0          01001  L'ABERGEMENT-CLEMENCIAT  ...    793.156501   367.036172\n",
    "## 1          01002    L'ABERGEMENT-DE-VAREY  ...    348.997893   112.934207\n",
    "## 0          01001  L'ABERGEMENT-CLEMENCIAT  ...    793.156501   367.036172\n",
    "## 3          01005      AMBERIEUX-EN-DOMBES  ...   1756.341319   782.404357\n",
    "## \n",
    "## [100 rows x 12 columns]\n",
    "```\n"
   ]
  },
  {
   "cell_type": "code",
   "execution_count": null,
   "metadata": {},
   "outputs": [],
   "source": [
    "df_city.head(10)"
   ]
  },
  {
   "cell_type": "markdown",
   "metadata": {},
   "source": [
    "```\n",
    "##   CODGEO                   LIBGEO  ...          D916      RD16\n",
    "## 0  01001  L'Abergement-Clémenciat  ...           NaN       NaN\n",
    "## 1  01002    L'Abergement-de-Varey  ...           NaN       NaN\n",
    "## 2  01004        Ambérieu-en-Bugey  ...  33880.555556  3.239962\n",
    "## 3  01005      Ambérieux-en-Dombes  ...           NaN       NaN\n",
    "## 4  01006                  Ambléon  ...           NaN       NaN\n",
    "## 5  01007                 Ambronay  ...  34914.782609  2.503390\n",
    "## 6  01008                 Ambutrix  ...           NaN       NaN\n",
    "## 7  01009         Andert-et-Condon  ...           NaN       NaN\n",
    "## 8  01010                Anglefort  ...           NaN       NaN\n",
    "## 9  01011                 Apremont  ...           NaN       NaN\n",
    "## \n",
    "## [10 rows x 29 columns]\n",
    "```"
   ]
  },
  {
   "cell_type": "code",
   "execution_count": null,
   "metadata": {},
   "outputs": [],
   "source": [
    "df_city.tail(15)"
   ]
  },
  {
   "cell_type": "markdown",
   "metadata": {},
   "source": [
    "```\n",
    "##       CODGEO             LIBGEO  ...          D916      RD16\n",
    "## 34917  97410       Saint-Benoît  ...  29294.761905  4.000499\n",
    "## 34918  97411        Saint-Denis  ...  40407.777778  4.934036\n",
    "## 34919  97412       Saint-Joseph  ...  28241.250000  4.036771\n",
    "## 34920  97413          Saint-Leu  ...  36507.142857  4.928787\n",
    "## 34921  97414        Saint-Louis  ...  27378.888889  3.754905\n",
    "## 34922  97415         Saint-Paul  ...  39826.000000  5.001743\n",
    "## 34923  97416       Saint-Pierre  ...  35092.222222  4.610119\n",
    "## 34924  97417     Saint-Philippe  ...  24234.500000  3.460550\n",
    "## 34925  97418       Sainte-Marie  ...  37836.250000  4.523703\n",
    "## 34926  97419        Sainte-Rose  ...  24337.826087  3.790939\n",
    "## 34927  97420     Sainte-Suzanne  ...  33288.000000  4.179809\n",
    "## 34928  97421            Salazie  ...  23529.333333  4.085819\n",
    "## 34929  97422          Le Tampon  ...  32987.600000  4.437280\n",
    "## 34930  97423  Les Trois-Bassins  ...  28596.567164  3.774958\n",
    "## 34931  97424             Cilaos  ...  24427.222222  3.676391\n",
    "## \n",
    "## [15 rows x 29 columns]\n",
    "```"
   ]
  },
  {
   "cell_type": "code",
   "execution_count": null,
   "metadata": {},
   "outputs": [],
   "source": [
    "df_city.sample(10)"
   ]
  },
  {
   "cell_type": "markdown",
   "metadata": {},
   "source": [
    "```\n",
    "##       CODGEO                   LIBGEO  ...          D916      RD16\n",
    "## 5999   17455                La Vallée  ...           NaN       NaN\n",
    "## 6579   19272                    Tulle  ...  34279.333333  3.203077\n",
    "## 32817  85232  Saint-Hilaire-le-Vouhis  ...           NaN       NaN\n",
    "## 4159   12165         Muret-le-Château  ...           NaN       NaN\n",
    "## 14496  38501                   Tencin  ...  34333.888889  2.335229\n",
    "## 13380  35196                Mordelles  ...  35456.666667  2.684484\n",
    "## 20980  57211                    Fèves  ...           NaN       NaN\n",
    "## 4601   14245                    Ernes  ...           NaN       NaN\n",
    "## 9052   26078                  Charols  ...           NaN       NaN\n",
    "## 19446  53276                   Voutré  ...           NaN       NaN\n",
    "## \n",
    "## [10 rows x 29 columns]\n",
    "```"
   ]
  },
  {
   "cell_type": "code",
   "execution_count": null,
   "metadata": {},
   "outputs": [],
   "source": [
    "df_city.sample(frac = 0.05)"
   ]
  },
  {
   "cell_type": "markdown",
   "metadata": {},
   "source": [
    "```\n",
    "##       CODGEO                   LIBGEO  ...          D916      RD16\n",
    "## 11489  31217                    Génos  ...           NaN       NaN\n",
    "## 9313   26353           Les Tourrettes  ...           NaN       NaN\n",
    "## 30620  78267              Gargenville  ...  36172.666667  2.569446\n",
    "## 11847  31579                Villariès  ...           NaN       NaN\n",
    "## 2111   07084                 Eclassan  ...           NaN       NaN\n",
    "## ...      ...                      ...  ...           ...       ...\n",
    "## 16890  46142        Lacapelle-Cabanac  ...           NaN       NaN\n",
    "## 11945  32087        Castex-d'Armagnac  ...           NaN       NaN\n",
    "## 32480  84009  La Bastide-des-Jourdans  ...           NaN       NaN\n",
    "## 2993   09183         Mauvezin-de-Prat  ...           NaN       NaN\n",
    "## 32158  82035                  Caumont  ...           NaN       NaN\n",
    "## \n",
    "## [1747 rows x 29 columns]\n",
    "```"
   ]
  },
  {
   "cell_type": "code",
   "execution_count": null,
   "metadata": {},
   "outputs": [],
   "source": [
    "df_city[:10].sample(n = 100, replace = True)"
   ]
  },
  {
   "cell_type": "markdown",
   "metadata": {},
   "source": [
    "```\n",
    "##    CODGEO                   LIBGEO  ...          D916      RD16\n",
    "## 0   01001  L'Abergement-Clémenciat  ...           NaN       NaN\n",
    "## 2   01004        Ambérieu-en-Bugey  ...  33880.555556  3.239962\n",
    "## 4   01006                  Ambléon  ...           NaN       NaN\n",
    "## 5   01007                 Ambronay  ...  34914.782609  2.503390\n",
    "## 2   01004        Ambérieu-en-Bugey  ...  33880.555556  3.239962\n",
    "## ..    ...                      ...  ...           ...       ...\n",
    "## 6   01008                 Ambutrix  ...           NaN       NaN\n",
    "## 6   01008                 Ambutrix  ...           NaN       NaN\n",
    "## 2   01004        Ambérieu-en-Bugey  ...  33880.555556  3.239962\n",
    "## 2   01004        Ambérieu-en-Bugey  ...  33880.555556  3.239962\n",
    "## 9   01011                 Apremont  ...           NaN       NaN\n",
    "## \n",
    "## [100 rows x 29 columns]\n",
    "```"
   ]
  },
  {
   "cell_type": "code",
   "execution_count": null,
   "metadata": {},
   "outputs": [],
   "source": [
    "df_city[:6].sample(n = 100, replace = True, weights = [0.5] + [0.1]*5)"
   ]
  },
  {
   "cell_type": "markdown",
   "metadata": {},
   "source": [
    "```\n",
    "##    CODGEO                   LIBGEO  ...          D916      RD16\n",
    "## 0   01001  L'Abergement-Clémenciat  ...           NaN       NaN\n",
    "## 3   01005      Ambérieux-en-Dombes  ...           NaN       NaN\n",
    "## 0   01001  L'Abergement-Clémenciat  ...           NaN       NaN\n",
    "## 0   01001  L'Abergement-Clémenciat  ...           NaN       NaN\n",
    "## 4   01006                  Ambléon  ...           NaN       NaN\n",
    "## ..    ...                      ...  ...           ...       ...\n",
    "## 1   01002    L'Abergement-de-Varey  ...           NaN       NaN\n",
    "## 2   01004        Ambérieu-en-Bugey  ...  33880.555556  3.239962\n",
    "## 0   01001  L'Abergement-Clémenciat  ...           NaN       NaN\n",
    "## 1   01002    L'Abergement-de-Varey  ...           NaN       NaN\n",
    "## 2   01004        Ambérieu-en-Bugey  ...  33880.555556  3.239962\n",
    "## \n",
    "## [100 rows x 29 columns]\n",
    "```\n",
    "\n",
    "Cette première approche exploratoire donne une idée assez précise de la manière dont les données sont organisées. On remarque ainsi une différence entre `df` et `df_city` quant aux valeurs manquantes: la première base est relativement complète, la seconde comporte beaucoup de valeurs manquantes. Autrement dit, si on désire exploiter `df_city`, il faut faire attention à la variable choisie."
   ]
  },
  {
   "cell_type": "markdown",
   "metadata": {},
   "source": [
    "----------------------\n",
    "**Exercice 2: structure des données**\n",
    "\n",
    "La première chose à vérifier est le format des données, afin d'identifier des types de variables qui ne conviennent pas. Ici, comme c'est `pandas` qui a géré automatiquement les types de variables, il y a peu de chances que les types ne soient pas adéquats mais une vérification ne fait pas de mal.\n",
    "\n",
    "* Vérifier les types des variables. S'assurer que les types des variables communes aux deux bases soient cohérents.\n",
    "\n",
    "Ensuite, on vérifie les dimensions des `DataFrames` et la structure de certaines variables clé. En l'occurrence, les variables fondamentales pour lier nos données sont les variables communales. Ici, on a deux variables géographiques: un code commune et un nom de commune. \n",
    "\n",
    "* Vérifier les dimensions des DataFrames\n",
    "* Vérifier le nombre de valeurs uniques des variables géographiques dans chaque base. Les résultats apparaissent-ils cohérents ?\n",
    "* Identifier les libellés pour lesquels on a plusieurs codes communes dans `df_city` et les stocker dans un vecteur `x` (conseil: faire attention à l'index de `x`)\n",
    "\n",
    "On se focalise temporairement sur les observations où le libellé comporte plus de deux codes communes différents\n",
    "\n",
    "* Regarder dans `df_city` ces observations\n",
    "* Pour mieux y voir, réordonner la base obtenue par order alphabétique\n",
    "* Déterminer la taille moyenne (variable nombre de personnes: `NBPERSMENFISC16`) et quelques statistiques descriptives de ces données. Comparer aux mêmes statistiques sur les données où libellés et codes communes coïncident\n",
    "* Vérifier sur les grandes villes (plus de 100 000 personnes), la proportion de villes où libellés et codes communes ne coïncident pas. Identifier ces observations.\n",
    "* Vérifier dans `df_city` les villes dont le libellé est égal à Montreuil. Vérifier également celles qui contiennent le terme 'Saint-Denis'\n",
    "\n",
    "-----------------------\n"
   ]
  },
  {
   "cell_type": "code",
   "execution_count": null,
   "metadata": {},
   "outputs": [],
   "source": [
    "df.dtypes"
   ]
  },
  {
   "cell_type": "markdown",
   "metadata": {},
   "source": [
    "```\n",
    "## INSEE commune                       object\n",
    "## Commune                             object\n",
    "## Agriculture                        float64\n",
    "## Autres transports                  float64\n",
    "## Autres transports international    float64\n",
    "## CO2 biomasse hors-total            float64\n",
    "## Déchets                            float64\n",
    "## Energie                            float64\n",
    "## Industrie hors-énergie             float64\n",
    "## Résidentiel                        float64\n",
    "## Routier                            float64\n",
    "## Tertiaire                          float64\n",
    "## dtype: object\n",
    "```"
   ]
  },
  {
   "cell_type": "code",
   "execution_count": null,
   "metadata": {},
   "outputs": [],
   "source": [
    "df_city.dtypes"
   ]
  },
  {
   "cell_type": "markdown",
   "metadata": {},
   "source": [
    "```\n",
    "## CODGEO              object\n",
    "## LIBGEO              object\n",
    "## NBMENFISC16        float64\n",
    "## NBPERSMENFISC16    float64\n",
    "## MED16              float64\n",
    "## PIMP16             float64\n",
    "## TP6016             float64\n",
    "## TP60AGE116         float64\n",
    "## TP60AGE216         float64\n",
    "## TP60AGE316         float64\n",
    "## TP60AGE416         float64\n",
    "## TP60AGE516         float64\n",
    "## TP60AGE616         float64\n",
    "## TP60TOL116         float64\n",
    "## TP60TOL216         float64\n",
    "## PACT16             float64\n",
    "## PTSA16             float64\n",
    "## PCHO16             float64\n",
    "## PBEN16             float64\n",
    "## PPEN16             float64\n",
    "## PPAT16             float64\n",
    "## PPSOC16            float64\n",
    "## PPFAM16            float64\n",
    "## PPMINI16           float64\n",
    "## PPLOGT16           float64\n",
    "## PIMPOT16           float64\n",
    "## D116               float64\n",
    "## D916               float64\n",
    "## RD16               float64\n",
    "## dtype: object\n",
    "```\n"
   ]
  },
  {
   "cell_type": "code",
   "execution_count": null,
   "metadata": {},
   "outputs": [],
   "source": [
    "df[['INSEE commune', 'Commune']].nunique()"
   ]
  },
  {
   "cell_type": "markdown",
   "metadata": {},
   "source": [
    "```\n",
    "## INSEE commune    35798\n",
    "## Commune          33338\n",
    "## dtype: int64\n",
    "```"
   ]
  },
  {
   "cell_type": "code",
   "execution_count": null,
   "metadata": {},
   "outputs": [],
   "source": [
    "df_city[['CODGEO', 'LIBGEO']].nunique()\n",
    "# Résultats dont l'ordre de grandeur est proche. Dans les deux cas, #(libelles) < #(code)"
   ]
  },
  {
   "cell_type": "markdown",
   "metadata": {},
   "source": [
    "```\n",
    "## CODGEO    34932\n",
    "## LIBGEO    32676\n",
    "## dtype: int64\n",
    "```\n"
   ]
  },
  {
   "cell_type": "code",
   "execution_count": null,
   "metadata": {},
   "outputs": [],
   "source": [
    "x = df_city.groupby('LIBGEO').count()['CODGEO']\n",
    "x = x[x>1]\n",
    "x = x.reset_index()\n",
    "x"
   ]
  },
  {
   "cell_type": "markdown",
   "metadata": {},
   "source": [
    "```\n",
    "##          LIBGEO  CODGEO\n",
    "## 0     Abancourt       2\n",
    "## 1     Aboncourt       2\n",
    "## 2         Abzac       2\n",
    "## 3       Achères       2\n",
    "## 4        Aiglun       2\n",
    "## ...         ...     ...\n",
    "## 1446     Épieds       3\n",
    "## 1447    Étaules       2\n",
    "## 1448  Éterpigny       2\n",
    "## 1449    Étréchy       3\n",
    "## 1450  Étrépilly       2\n",
    "## \n",
    "## [1451 rows x 2 columns]\n",
    "```\n"
   ]
  },
  {
   "cell_type": "code",
   "execution_count": null,
   "metadata": {},
   "outputs": [],
   "source": [
    "df_city[df_city['LIBGEO'].isin(x['LIBGEO'])]"
   ]
  },
  {
   "cell_type": "markdown",
   "metadata": {},
   "source": [
    "```\n",
    "##       CODGEO          LIBGEO  NBMENFISC16  ...         D116          D916      RD16\n",
    "## 9      01011        Apremont        143.0  ...          NaN           NaN       NaN\n",
    "## 23     01027           Balan        647.0  ...          NaN           NaN       NaN\n",
    "## 26     01030      Beauregard        363.0  ...          NaN           NaN       NaN\n",
    "## 35     01039            Béon        199.0  ...          NaN           NaN       NaN\n",
    "## 38     01042             Bey        113.0  ...          NaN           NaN       NaN\n",
    "## ...      ...             ...          ...  ...          ...           ...       ...\n",
    "## 34921  97414     Saint-Louis      17890.0  ...  7291.500000  27378.888889  3.754905\n",
    "## 34922  97415      Saint-Paul      37064.0  ...  7962.424242  39826.000000  5.001743\n",
    "## 34923  97416    Saint-Pierre      31373.0  ...  7612.000000  35092.222222  4.610119\n",
    "## 34925  97418    Sainte-Marie      11640.0  ...  8364.000000  37836.250000  4.523703\n",
    "## 34927  97420  Sainte-Suzanne       7827.0  ...  7964.000000  33288.000000  4.179809\n",
    "## \n",
    "## [3707 rows x 29 columns]\n",
    "```"
   ]
  },
  {
   "cell_type": "code",
   "execution_count": null,
   "metadata": {},
   "outputs": [],
   "source": [
    "df_city[df_city['LIBGEO'].isin(x['LIBGEO'])].sort_values('LIBGEO')"
   ]
  },
  {
   "cell_type": "markdown",
   "metadata": {},
   "source": [
    "```\n",
    "##       CODGEO     LIBGEO  NBMENFISC16  ...          D116          D916      RD16\n",
    "## 21815  59001  Abancourt        182.0  ...           NaN           NaN       NaN\n",
    "## 22463  60001  Abancourt        249.0  ...           NaN           NaN       NaN\n",
    "## 20781  57001  Aboncourt        125.0  ...           NaN           NaN       NaN\n",
    "## 19449  54003  Aboncourt         48.0  ...           NaN           NaN       NaN\n",
    "## 12323  33001      Abzac        801.0  ...           NaN           NaN       NaN\n",
    "## ...      ...        ...          ...  ...           ...           ...       ...\n",
    "## 6118   18090    Étréchy        191.0  ...           NaN           NaN       NaN\n",
    "## 34440  91226    Étréchy       2756.0  ...  14681.714286  39019.333333  2.657682\n",
    "## 18388  51239    Étréchy         46.0  ...           NaN           NaN       NaN\n",
    "## 30178  77173  Étrépilly        291.0  ...           NaN           NaN       NaN\n",
    "## 680    02297  Étrépilly         46.0  ...           NaN           NaN       NaN\n",
    "## \n",
    "## [3707 rows x 29 columns]\n",
    "```\n"
   ]
  },
  {
   "cell_type": "code",
   "execution_count": null,
   "metadata": {},
   "outputs": [],
   "source": [
    "df_city[df_city['LIBGEO'].isin(x['LIBGEO'])]['NBPERSMENFISC16'].describe()"
   ]
  },
  {
   "cell_type": "markdown",
   "metadata": {},
   "source": [
    "```\n",
    "## count      3302.000000\n",
    "## mean       1610.143247\n",
    "## std        6229.752735\n",
    "## min          88.000000\n",
    "## 25%         226.000000\n",
    "## 50%         439.250000\n",
    "## 75%        1006.125000\n",
    "## max      145395.500000\n",
    "## Name: NBPERSMENFISC16, dtype: float64\n",
    "```"
   ]
  },
  {
   "cell_type": "code",
   "execution_count": null,
   "metadata": {},
   "outputs": [],
   "source": [
    "df_city[~df_city['LIBGEO'].isin(x['LIBGEO'])]['NBPERSMENFISC16'].describe()"
   ]
  },
  {
   "cell_type": "markdown",
   "metadata": {},
   "source": [
    "```\n",
    "## count    2.810300e+04\n",
    "## mean     2.192490e+03\n",
    "## std      1.603009e+04\n",
    "## min      7.600000e+01\n",
    "## 25%      2.545000e+02\n",
    "## 50%      5.420000e+02\n",
    "## 75%      1.320250e+03\n",
    "## max      2.074630e+06\n",
    "## Name: NBPERSMENFISC16, dtype: float64\n",
    "```\n"
   ]
  },
  {
   "cell_type": "code",
   "execution_count": null,
   "metadata": {},
   "outputs": [],
   "source": [
    "df_big_city = df_city[df_city['NBPERSMENFISC16']>100000]\n",
    "df_big_city['probleme'] = df_big_city['LIBGEO'].isin(x['LIBGEO'])"
   ]
  },
  {
   "cell_type": "markdown",
   "metadata": {},
   "source": [
    "```\n",
    "## C:/Users/W3CRK9/AppData/Local/r-miniconda/envs/r-reticulate/python.exe:1: SettingWithCopyWarning: \n",
    "## A value is trying to be set on a copy of a slice from a DataFrame.\n",
    "## Try using .loc[row_indexer,col_indexer] = value instead\n",
    "## \n",
    "## See the caveats in the documentation: https://pandas.pydata.org/pandas-docs/stable/user_guide/indexing.html#returning-a-view-versus-a-copy\n",
    "```"
   ]
  },
  {
   "cell_type": "code",
   "execution_count": null,
   "metadata": {},
   "outputs": [],
   "source": [
    "df_big_city['probleme'].mean()"
   ]
  },
  {
   "cell_type": "markdown",
   "metadata": {},
   "source": [
    "```\n",
    "## 0.08333333333333333\n",
    "```\n"
   ]
  },
  {
   "cell_type": "code",
   "execution_count": null,
   "metadata": {},
   "outputs": [],
   "source": [
    "df_big_city[df_big_city['probleme']]"
   ]
  },
  {
   "cell_type": "markdown",
   "metadata": {},
   "source": [
    "```\n",
    "##       CODGEO       LIBGEO  NBMENFISC16  ...          D916      RD16  probleme\n",
    "## 34622  93048    Montreuil      43996.0  ...  37583.000000  4.393959      True\n",
    "## 34634  93066  Saint-Denis      39469.0  ...  28602.666667  3.852411      True\n",
    "## 34918  97411  Saint-Denis      57567.0  ...  40407.777778  4.934036      True\n",
    "## 34922  97415   Saint-Paul      37064.0  ...  39826.000000  5.001743      True\n",
    "## \n",
    "## [4 rows x 30 columns]\n",
    "```\n"
   ]
  },
  {
   "cell_type": "code",
   "execution_count": null,
   "metadata": {},
   "outputs": [],
   "source": [
    "df_city[df_city.LIBGEO == 'Montreuil']"
   ]
  },
  {
   "cell_type": "markdown",
   "metadata": {},
   "source": [
    "```\n",
    "##       CODGEO     LIBGEO  NBMENFISC16  ...         D116     D916      RD16\n",
    "## 10153  28267  Montreuil        215.0  ...          NaN      NaN       NaN\n",
    "## 24099  62588  Montreuil        994.0  ...          NaN      NaN       NaN\n",
    "## 32750  85148  Montreuil        340.0  ...          NaN      NaN       NaN\n",
    "## 34622  93048  Montreuil      43996.0  ...  8553.333333  37583.0  4.393959\n",
    "## \n",
    "## [4 rows x 29 columns]\n",
    "```"
   ]
  },
  {
   "cell_type": "code",
   "execution_count": null,
   "metadata": {},
   "outputs": [],
   "source": [
    "df_city[df_city.LIBGEO.str.contains('Saint-Denis')].head(10)"
   ]
  },
  {
   "cell_type": "markdown",
   "metadata": {},
   "source": [
    "```\n",
    "##      CODGEO                  LIBGEO  ...          D916      RD16\n",
    "## 290   01344   Saint-Denis-lès-Bourg  ...  40126.666667  2.959194\n",
    "## 291   01345    Saint-Denis-en-Bugey  ...  34075.333333  2.635467\n",
    "## 1177  02818    Villiers-Saint-Denis  ...           NaN       NaN\n",
    "## 3906  11339             Saint-Denis  ...           NaN       NaN\n",
    "## 4824  14571  Saint-Denis-de-Mailloc  ...           NaN       NaN\n",
    "## 4825  14572     Saint-Denis-de-Méré  ...           NaN       NaN\n",
    "## 5874  17323    Saint-Denis-d'Oléron  ...           NaN       NaN\n",
    "## 6231  18204    Saint-Denis-de-Palin  ...           NaN       NaN\n",
    "## 7031  21442       Morey-Saint-Denis  ...           NaN       NaN\n",
    "## 8518  25129   Chassagne-Saint-Denis  ...           NaN       NaN\n",
    "## \n",
    "## [10 rows x 29 columns]\n",
    "```\n",
    "\n",
    "Ce petit exercice permet de se rassurer car les libellés dupliqués sont en fait des noms de commune identiques mais qui ne sont pas dans le même département. Il ne s'agit donc pas d'observations dupliquées. On se fiera ainsi aux codes communes, qui eux sont uniques.\n",
    "\n",
    "## Les indices\n",
    "\n",
    "Les indices sont des éléments spéciaux d'un DataFrame puisqu'ils permettent d'identifier certaines observations. Il est tout à fait possible d'utiliser plusieurs indices, par exemple si on a des niveaux imbriqués."
   ]
  },
  {
   "cell_type": "markdown",
   "metadata": {},
   "source": [
    "----------------------\n",
    "**Exercice 3: Les indices**\n",
    "\n",
    "A partir de l'exercice précédent, on peut se fier aux codes communes.\n",
    "\n",
    "* Fixer comme indice la variable de code commune dans les deux bases. Regarder le changement que cela induit sur le *display* du dataframe\n",
    "* Les deux premiers chiffres des codes communes sont le numéro de département. Créer une variable de département `dep` dans `df`\n",
    "* Calculer les émissions totales par secteur pour chaque département. Mettre en log ces résultats dans un objet `df_log`. Garder 5 départements et produire un barplot\n",
    "* Repartir de `df`. Calculer les émissions totales par département et sortir la liste des 10 principaux émetteurs de CO2 et des 5 départements les moins émetteurs. Sans faire de *merge*, regarder les caractéristiques de ces départements (population et niveau de vie)\n",
    "\n",
    "-------------------------\n"
   ]
  },
  {
   "cell_type": "code",
   "execution_count": null,
   "metadata": {
    "lines_to_next_cell": 2
   },
   "outputs": [],
   "source": [
    "df = df.set_index('INSEE commune')\n",
    "df_city =  df_city.set_index('CODGEO') "
   ]
  },
  {
   "cell_type": "code",
   "execution_count": null,
   "metadata": {
    "lines_to_next_cell": 2
   },
   "outputs": [],
   "source": [
    "df['dep'] = df.index.str[:2]\n",
    "df_city['dep'] = df_city.index.str[:2]"
   ]
  },
  {
   "cell_type": "code",
   "execution_count": null,
   "metadata": {},
   "outputs": [],
   "source": [
    "df_log = df.groupby('dep').sum().apply(np.log)\n",
    "df_log.sample(5).plot(kind = \"bar\")"
   ]
  },
  {
   "cell_type": "markdown",
   "metadata": {},
   "source": [
    "![](02_pandas_tp_files/figure-html/unnamed-chunk-17-1.png)<!-- -->\n"
   ]
  },
  {
   "cell_type": "code",
   "execution_count": null,
   "metadata": {},
   "outputs": [],
   "source": [
    "df"
   ]
  },
  {
   "cell_type": "markdown",
   "metadata": {},
   "source": [
    "```\n",
    "##                                Commune  Agriculture  ...     Tertiaire  dep\n",
    "## INSEE commune                                        ...                   \n",
    "## 01001          L'ABERGEMENT-CLEMENCIAT  3711.425991  ...    367.036172   01\n",
    "## 01002            L'ABERGEMENT-DE-VAREY   475.330205  ...    112.934207   01\n",
    "## 01004                AMBERIEU-EN-BUGEY   499.043526  ...  10732.376930   01\n",
    "## 01005              AMBERIEUX-EN-DOMBES  1859.160954  ...    782.404357   01\n",
    "## 01006                          AMBLEON   448.966808  ...     51.681756   01\n",
    "## ...                                ...          ...  ...           ...  ...\n",
    "## 95676               VILLERS-EN-ARTHIES  1628.065094  ...    235.439109   95\n",
    "## 95678                    VILLIERS-ADAM   698.630772  ...    403.404815   95\n",
    "## 95680                  VILLIERS-LE-BEL   107.564967  ...  13849.512000   95\n",
    "## 95682                  VILLIERS-LE-SEC  1090.890170  ...     85.657725   95\n",
    "## 95690              WY-DIT-JOLI-VILLAGE  1495.103542  ...    147.867245   95\n",
    "## \n",
    "## [35798 rows x 12 columns]\n",
    "```\n"
   ]
  },
  {
   "cell_type": "code",
   "execution_count": null,
   "metadata": {
    "lines_to_next_cell": 2
   },
   "outputs": [],
   "source": [
    "df_emissions = df.reset_index().set_index(['INSEE commune','dep']).sum(axis = 1).groupby('dep').sum()\n",
    "gros_emetteurs = df_emissions.sort_values(ascending = False).head(10)\n",
    "petits_emetteurs = df_emissions.sort_values().head(5)"
   ]
  },
  {
   "cell_type": "code",
   "execution_count": null,
   "metadata": {},
   "outputs": [],
   "source": [
    "df_city[df_city['dep'].isin(gros_emetteurs.index)][['NBPERSMENFISC16','MED16']].sum()"
   ]
  },
  {
   "cell_type": "markdown",
   "metadata": {},
   "source": [
    "```\n",
    "## NBPERSMENFISC16    1.662427e+07\n",
    "## MED16              1.072267e+08\n",
    "## dtype: float64\n",
    "```"
   ]
  },
  {
   "cell_type": "code",
   "execution_count": null,
   "metadata": {},
   "outputs": [],
   "source": [
    "df_city[df_city['dep'].isin(gros_emetteurs.index)][['NBPERSMENFISC16','MED16']].mean()"
   ]
  },
  {
   "cell_type": "markdown",
   "metadata": {},
   "source": [
    "```\n",
    "## NBPERSMENFISC16     3343.578037\n",
    "## MED16              21566.107365\n",
    "## dtype: float64\n",
    "```\n"
   ]
  },
  {
   "cell_type": "code",
   "execution_count": null,
   "metadata": {},
   "outputs": [],
   "source": [
    "df_city[df_city['dep'].isin(petits_emetteurs.index)][['NBPERSMENFISC16','MED16']].sum()"
   ]
  },
  {
   "cell_type": "markdown",
   "metadata": {},
   "source": [
    "```\n",
    "## NBPERSMENFISC16    4.805560e+05\n",
    "## MED16              9.346100e+06\n",
    "## dtype: float64\n",
    "```"
   ]
  },
  {
   "cell_type": "code",
   "execution_count": null,
   "metadata": {},
   "outputs": [],
   "source": [
    "df_city[df_city['dep'].isin(petits_emetteurs.index)][['NBPERSMENFISC16','MED16']].mean()"
   ]
  },
  {
   "cell_type": "markdown",
   "metadata": {},
   "source": [
    "```\n",
    "## NBPERSMENFISC16      994.939959\n",
    "## MED16              19350.103423\n",
    "## dtype: float64\n",
    "```\n",
    "\n",
    "-------------------------\n",
    "**Exercice 4: performance des indices**\n",
    "\n",
    "Un des intérêts des indices est qu'il permettent des agrégations efficaces. \n",
    "\n",
    "* Repartir de `df` et créer une copie `df_copy = df.copy()` et `df_copy2 = df.copy()` afin de ne pas écraser le DataFrame `df`\n",
    "* Utiliser la variable `dep` comme indice pour `df_copy` et retirer tout index pour `df_copy2`\n",
    "* Importer le module `timeit` et comparer le temps d'exécution de la somme par secteur, pour chaque département, des émissions de CO2\n",
    "\n",
    "---------------------------\n"
   ]
  },
  {
   "cell_type": "code",
   "execution_count": null,
   "metadata": {
    "lines_to_next_cell": 2
   },
   "outputs": [],
   "source": [
    "df_copy = df.copy()\n",
    "df_copy2 = df.copy()\n",
    "df_copy = df_copy.set_index('dep')\n",
    "df_copy2 = df_copy2.reset_index()"
   ]
  },
  {
   "cell_type": "code",
   "execution_count": null,
   "metadata": {
    "lines_to_next_cell": 2
   },
   "outputs": [],
   "source": [
    "# %timeit df_copy.drop('Commune', axis = 1).groupby('dep').sum()"
   ]
  },
  {
   "cell_type": "code",
   "execution_count": null,
   "metadata": {},
   "outputs": [],
   "source": [
    "# %timeit df_copy2.drop('Commune', axis = 1).groupby('dep').sum()"
   ]
  },
  {
   "cell_type": "markdown",
   "metadata": {},
   "source": [
    "# Restructurer les données\n",
    "\n",
    "On présente généralement deux types de données: \n",
    "    \n",
    "    * format __wide__: les données comportent des observations répétées, pour un même individu (ou groupe), dans des colonnes différentes \n",
    "    * format __long__: les données comportent des observations répétées, pour un même individu, dans des lignes différentes avec une colonne permettant de distinguer les niveaux d'observations\n",
    "\n",
    "Un exemple de la distinction entre les deux peut être pris à l'ouvrage de référence d'Hadley Wickham, *R for Data Science*:\n",
    "\n",
    "![](https://d33wubrfki0l68.cloudfront.net/3aea19108d39606bbe49981acda07696c0c7fcd8/2de65/images/tidy-9.png)\n",
    "\n",
    "\n",
    "L'aide mémoire suivante aidera à se rappeler les fonctions à appliquer si besoin:\n",
    "\n",
    "![](../../static/pictures/pandas/reshape.png)"
   ]
  },
  {
   "cell_type": "markdown",
   "metadata": {},
   "source": [
    "Le fait de passer d'un format *wide* au format *long* (ou vice-versa) peut être extrêmement pratique car certaines fonctions sont plus adéquates sur une forme de données ou sur l'autre. En règle générale, avec `python` comme avec `R`, les formats *long* sont souvent préférables.\n",
    "\n",
    "----------------------------\n",
    "**Exercice 5: Restructurer les données: wide to long**\n",
    "\n",
    "* Créer une copie des données de l'ADEME en faisant `df_wide = df.copy()`\n",
    "* Restructurer les données au format *long* pour avoir des données d'émissions par secteur en gardant comme niveau d'analyse la commune (attention aux autres variables identifiantes). \n",
    "* Faire la somme par secteur et représenter graphiquement\n",
    "* Garder, pour chaque département, le secteur le plus polluant\n",
    "\n",
    "--------------------------------\n",
    "\n",
    "\n"
   ]
  },
  {
   "cell_type": "code",
   "execution_count": null,
   "metadata": {},
   "outputs": [],
   "source": [
    "df_wide = df.copy()\n",
    "df_wide.reset_index().melt(id_vars = ['INSEE commune','Commune','dep'],\n",
    "                          var_name = \"secteur\", value_name = \"emissions\")"
   ]
  },
  {
   "cell_type": "markdown",
   "metadata": {},
   "source": [
    "```\n",
    "##        INSEE commune                  Commune dep      secteur     emissions\n",
    "## 0              01001  L'ABERGEMENT-CLEMENCIAT  01  Agriculture   3711.425991\n",
    "## 1              01002    L'ABERGEMENT-DE-VAREY  01  Agriculture    475.330205\n",
    "## 2              01004        AMBERIEU-EN-BUGEY  01  Agriculture    499.043526\n",
    "## 3              01005      AMBERIEUX-EN-DOMBES  01  Agriculture   1859.160954\n",
    "## 4              01006                  AMBLEON  01  Agriculture    448.966808\n",
    "## ...              ...                      ...  ..          ...           ...\n",
    "## 357975         95676       VILLERS-EN-ARTHIES  95    Tertiaire    235.439109\n",
    "## 357976         95678            VILLIERS-ADAM  95    Tertiaire    403.404815\n",
    "## 357977         95680          VILLIERS-LE-BEL  95    Tertiaire  13849.512000\n",
    "## 357978         95682          VILLIERS-LE-SEC  95    Tertiaire     85.657725\n",
    "## 357979         95690      WY-DIT-JOLI-VILLAGE  95    Tertiaire    147.867245\n",
    "## \n",
    "## [357980 rows x 5 columns]\n",
    "```"
   ]
  },
  {
   "cell_type": "code",
   "execution_count": null,
   "metadata": {},
   "outputs": [],
   "source": [
    "(df_wide.reset_index()\n",
    " .melt(id_vars = ['INSEE commune','Commune','dep'],\n",
    "                          var_name = \"secteur\", value_name = \"emissions\")\n",
    " .groupby('secteur').sum().plot(kind = \"barh\")\n",
    ")\n",
    "(df_wide.reset_index().melt(id_vars = ['INSEE commune','Commune','dep'],\n",
    "                          var_name = \"secteur\", value_name = \"emissions\")\n",
    " .groupby(['secteur','dep']).sum().reset_index().sort_values(['dep','emissions'], ascending = False).groupby('dep').head(1)\n",
    ")"
   ]
  },
  {
   "cell_type": "markdown",
   "metadata": {},
   "source": [
    "```\n",
    "##          secteur dep     emissions\n",
    "## 767      Routier  95  1.540301e+06\n",
    "## 862  Résidentiel  94  1.336894e+06\n",
    "## 765      Routier  93  1.396911e+06\n",
    "## 860  Résidentiel  92  1.466794e+06\n",
    "## 763      Routier  91  2.073377e+06\n",
    "## ..           ...  ..           ...\n",
    "## 676      Routier  05  3.458587e+05\n",
    "## 675      Routier  04  3.905682e+05\n",
    "## 2    Agriculture  03  1.949985e+06\n",
    "## 673      Routier  02  1.386403e+06\n",
    "## 672      Routier  01  1.635350e+06\n",
    "## \n",
    "## [96 rows x 3 columns]\n",
    "```\n",
    "\n",
    "-----------------------------------\n",
    "**Exercice 6: long to wide**\n",
    "\n",
    "Cette transformation est moins fréquente car appliquer des fonctions par groupe, comme nous le verrons par la suite, est très simple. \n",
    "\n",
    "* Repartir de `df_wide = df.copy()`. \n",
    "* Reconstruire le DataFrame, au format long, des données d'émissions par secteur en gardant comme niveau d'analyse la commune puis faire la somme par département et secteur\n",
    "* Passer au format *wide* pour avoir une ligne par secteur et une colonne par département\n",
    "* Calculer, pour chaque secteur, la place du département dans la hiérarchie des émissions nationales\n",
    "* A partir de là, en déduire le rang médian de chaque département dans la hiérarchie des émissions et regarder les 10 plus mauvais élèves, selon ce critère.\n",
    "\n",
    "---------------------------------\n"
   ]
  },
  {
   "cell_type": "code",
   "execution_count": null,
   "metadata": {},
   "outputs": [],
   "source": [
    "df_wide = df.copy()\n",
    "df_wide_agg = (df_wide.reset_index()\n",
    " .melt(id_vars = ['INSEE commune','Commune','dep'],\n",
    "                          var_name = \"secteur\", value_name = \"emissions\").groupby([\"dep\", \"secteur\"]).sum()\n",
    " .reset_index().pivot_table(values = \"emissions\", index = \"secteur\", columns = \"dep\")\n",
    ")\n",
    "df_wide_agg.rank(axis = 1).median().nlargest(10)"
   ]
  },
  {
   "cell_type": "markdown",
   "metadata": {},
   "source": [
    "```\n",
    "## dep\n",
    "## 13    94.5\n",
    "## 59    94.5\n",
    "## 69    92.0\n",
    "## 77    89.5\n",
    "## 33    89.0\n",
    "## 62    88.0\n",
    "## 76    88.0\n",
    "## 44    87.0\n",
    "## 38    85.0\n",
    "## 31    83.5\n",
    "## dtype: float64\n",
    "```\n"
   ]
  },
  {
   "cell_type": "markdown",
   "metadata": {},
   "source": [
    "# Combiner les données\n",
    "\n",
    "L'information de valeur s'obtient de moins en moins à partir d'une unique base de données. Il devient commun de devoir combiner des données issues de sources différentes. Nous allons ici nous focaliser sur le cas le plus favorable qui est la situation où une information permet d'apparier de manière exacte deux bases de données (autrement nous serions dans une situation, beaucoup plus complexe, d'appariement flou). La situation typique est l'appariement entre deux sources de données selon un identifiant individuel ou un identifiant de code commune, ce qui est notre cas.\n",
    "\n",
    "Il est recommandé de lire [ce guide assez complet sur la question des jointures avec R](https://linogaliana.gitlab.io/documentationR/joindre-des-tables-de-donn%C3%A9es.html) qui donne des recommandations également utiles en `python`.\n",
    "\n",
    "On utilise de manière indifférente les termes *merge* ou *join*. Le deuxième terme provient de la syntaxe SQL. En `pandas`, dans la plupart des cas, on peut utiliser indifféremment `df.join` et `df.merge`\n",
    "\n",
    "![](../../static/pictures/pandas/pandas_join.png)\n",
    "\n",
    "------------------------------------\n",
    "**Exercice 7: Calculer l'empreinte carbone par habitant**\n",
    "\n",
    "* Créer une variable `emissions` qui correspond aux émissions totales d'une commune\n",
    "* Faire une jointure à gauche entre les données d'émissions et les données de cadrage. Comparer les émissions moyennes des villes sans *match* (celles dont des variables bien choisies de la table de droite sont NaN) avec celles où on a bien une valeur correspondante dans la base Insee\n",
    "* Faire un *inner join* puis calculer l'empreinte carbone dans chaque commune. Sortir un histogramme en niveau puis en log et quelques statistiques descriptives sur le sujet. \n",
    "* Regarder la corrélation entre les variables de cadrage et l'empreinte carbone. Certaines variables semblent expliquer l'empreinte carbone ?\n",
    "\n",
    "--------------------------------------------\n"
   ]
  },
  {
   "cell_type": "code",
   "execution_count": null,
   "metadata": {},
   "outputs": [],
   "source": [
    "df['emissions'] = df.sum(axis = 1)\n",
    "df_merged = df.merge(df_city, how = \"left\", left_index = True, right_index = True)\n",
    "\n",
    "df_merged[df_merged['LIBGEO'].isna()]['emissions'].mean()"
   ]
  },
  {
   "cell_type": "markdown",
   "metadata": {},
   "source": [
    "```\n",
    "## 18173.94906449251\n",
    "```\n"
   ]
  },
  {
   "cell_type": "code",
   "execution_count": null,
   "metadata": {},
   "outputs": [],
   "source": [
    "df_merged[~df_merged['LIBGEO'].isna()]['emissions'].mean()"
   ]
  },
  {
   "cell_type": "markdown",
   "metadata": {},
   "source": [
    "```\n",
    "## 14530.993903545383\n",
    "```\n"
   ]
  },
  {
   "cell_type": "code",
   "execution_count": null,
   "metadata": {
    "lines_to_next_cell": 2
   },
   "outputs": [],
   "source": [
    "df_merged = df.merge(df_city, left_index = True, right_index = True)\n",
    "df_merged['empreinte'] = df_merged['emissions']/df_merged['NBPERSMENFISC16']"
   ]
  },
  {
   "cell_type": "code",
   "execution_count": null,
   "metadata": {},
   "outputs": [],
   "source": [
    "df_merged['empreinte'].plot(kind =\"hist\")\n",
    "np.log(df_merged['empreinte']).plot.hist()"
   ]
  },
  {
   "cell_type": "markdown",
   "metadata": {},
   "source": [
    "```\n",
    "## <AxesSubplot:ylabel='Frequency'>\n",
    "```"
   ]
  },
  {
   "cell_type": "code",
   "execution_count": null,
   "metadata": {},
   "outputs": [],
   "source": [
    "df_merged['empreinte'].describe()"
   ]
  },
  {
   "cell_type": "markdown",
   "metadata": {},
   "source": [
    "```\n",
    "## count    29397.000000\n",
    "## mean        13.968018\n",
    "## std         68.403150\n",
    "## min          0.989768\n",
    "## 25%          6.031835\n",
    "## 50%          9.491476\n",
    "## 75%         15.620874\n",
    "## max      10164.872743\n",
    "## Name: empreinte, dtype: float64\n",
    "```\n"
   ]
  },
  {
   "cell_type": "code",
   "execution_count": null,
   "metadata": {},
   "outputs": [],
   "source": [
    "df_merged.corr()['empreinte']"
   ]
  },
  {
   "cell_type": "markdown",
   "metadata": {},
   "source": [
    "```\n",
    "## Agriculture                        0.046821\n",
    "## Autres transports                  0.268390\n",
    "## Autres transports international    0.733542\n",
    "## CO2 biomasse hors-total           -0.005091\n",
    "## Déchets                            0.046192\n",
    "## Energie                            0.061412\n",
    "## Industrie hors-énergie             0.099497\n",
    "## Résidentiel                       -0.015723\n",
    "## Routier                            0.001927\n",
    "## Tertiaire                         -0.005275\n",
    "## emissions                          0.311855\n",
    "## NBMENFISC16                       -0.016482\n",
    "## NBPERSMENFISC16                   -0.017641\n",
    "## MED16                             -0.033656\n",
    "## PIMP16                            -0.043378\n",
    "## TP6016                             0.012082\n",
    "## TP60AGE116                         0.008622\n",
    "## TP60AGE216                        -0.045172\n",
    "## TP60AGE316                        -0.024147\n",
    "## TP60AGE416                        -0.051447\n",
    "## TP60AGE516                         0.002961\n",
    "## TP60AGE616                         0.040756\n",
    "## TP60TOL116                        -0.031122\n",
    "## TP60TOL216                         0.001886\n",
    "## PACT16                             0.008487\n",
    "## PTSA16                             0.020298\n",
    "## PCHO16                             0.029914\n",
    "## PBEN16                            -0.069436\n",
    "## PPEN16                            -0.023084\n",
    "## PPAT16                            -0.057115\n",
    "## PPSOC16                            0.043591\n",
    "## PPFAM16                            0.073953\n",
    "## PPMINI16                           0.023268\n",
    "## PPLOGT16                           0.030526\n",
    "## PIMPOT16                           0.079574\n",
    "## D116                              -0.019581\n",
    "## D916                              -0.066617\n",
    "## RD16                              -0.062849\n",
    "## empreinte                          1.000000\n",
    "## Name: empreinte, dtype: float64\n",
    "```\n"
   ]
  },
  {
   "cell_type": "code",
   "execution_count": null,
   "metadata": {},
   "outputs": [],
   "source": [
    "df"
   ]
  },
  {
   "cell_type": "markdown",
   "metadata": {},
   "source": [
    "```\n",
    "##                                Commune  Agriculture  ...  dep     emissions\n",
    "## INSEE commune                                        ...                   \n",
    "## 01001          L'ABERGEMENT-CLEMENCIAT  3711.425991  ...   01   5724.424941\n",
    "## 01002            L'ABERGEMENT-DE-VAREY   475.330205  ...   01   1332.811619\n",
    "## 01004                AMBERIEU-EN-BUGEY   499.043526  ...   01  63259.689113\n",
    "## 01005              AMBERIEUX-EN-DOMBES  1859.160954  ...   01   6792.867439\n",
    "## 01006                          AMBLEON   448.966808  ...   01   1068.584766\n",
    "## ...                                ...          ...  ...  ...           ...\n",
    "## 95676               VILLERS-EN-ARTHIES  1628.065094  ...   95   2625.668140\n",
    "## 95678                    VILLIERS-ADAM   698.630772  ...   95  22708.808791\n",
    "## 95680                  VILLIERS-LE-BEL   107.564967  ...   95  59484.157090\n",
    "## 95682                  VILLIERS-LE-SEC  1090.890170  ...   95   6351.999447\n",
    "## 95690              WY-DIT-JOLI-VILLAGE  1495.103542  ...   95   2506.319181\n",
    "## \n",
    "## [35798 rows x 13 columns]\n",
    "```\n",
    "\n",
    "# Appliquer des fonctions"
   ]
  },
  {
   "cell_type": "markdown",
   "metadata": {},
   "source": [
    "On peut utiliser `apply` pour passer des fonctions à appliquer sur plusieurs colonnes ou sur plusieurs valeurs\n"
   ]
  },
  {
   "cell_type": "code",
   "execution_count": null,
   "metadata": {},
   "outputs": [],
   "source": [
    "df['emissions'].apply(np.sqrt)"
   ]
  },
  {
   "cell_type": "markdown",
   "metadata": {},
   "source": [
    "```\n",
    "## INSEE commune\n",
    "## 01001     75.659930\n",
    "## 01002     36.507693\n",
    "## 01004    251.514789\n",
    "## 01005     82.418854\n",
    "## 01006     32.689215\n",
    "##             ...    \n",
    "## 95676     51.241274\n",
    "## 95678    150.694422\n",
    "## 95680    243.893741\n",
    "## 95682     79.699432\n",
    "## 95690     50.063152\n",
    "## Name: emissions, Length: 35798, dtype: float64\n",
    "```"
   ]
  }
 ],
 "metadata": {
  "kernelspec": {
   "display_name": "Python 3",
   "language": "python",
   "name": "python3"
  }
 },
 "nbformat": 4,
 "nbformat_minor": 4
}
