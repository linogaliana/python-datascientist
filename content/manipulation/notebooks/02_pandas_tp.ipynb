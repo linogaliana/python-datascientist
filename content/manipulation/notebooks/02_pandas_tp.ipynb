{
 "cells": [
  {
   "cell_type": "raw",
   "metadata": {},
   "source": [
    "---\n",
    "title: \"Pratique de pandas: un exemple complet\"\n",
    "date: 2020-07-09T13:00:00Z\n",
    "draft: false\n",
    "weight: 30\n",
    "output: \n",
    "  html_document:\n",
    "    keep_md: true\n",
    "    self_contained: true\n",
    "slug: pandasTP\n",
    "---"
   ]
  },
  {
   "cell_type": "code",
   "execution_count": null,
   "metadata": {
    "name": "setup",
    "tags": [
     "remove_cell"
    ]
   },
   "outputs": [],
   "source": [
    "%%R\n",
    "library(knitr)  \n",
    "library(reticulate)  \n",
    "knitr::knit_engines$set(python = reticulate::eng_python)  "
   ]
  },
  {
   "cell_type": "code",
   "execution_count": null,
   "metadata": {
    "lines_to_next_cell": 2,
    "tags": [
     "remove_cell"
    ]
   },
   "outputs": [],
   "source": [
    "import os\n",
    "os.environ['QT_QPA_PLATFORM_PLUGIN_PATH'] = 'C:/Users/W3CRK9/AppData/Local/r-miniconda/envs/r-reticulate/Library/plugins/platforms'"
   ]
  },
  {
   "cell_type": "markdown",
   "metadata": {},
   "source": [
    "Dans ce tutoriel `pandas`, nous allons utiliser:\n",
    "\n",
    "* Les émissions de gaz à effet de serre estimées au niveau communal par l'ADEME. Le jeu de données est \n",
    "disponible sur [data.gouv](https://www.data.gouv.fr/fr/datasets/inventaire-de-gaz-a-effet-de-serre-territorialise/#_)\n",
    "et requêtable directement dans python avec\n",
    "[cet url](https://koumoul.com/s/data-fair/api/v1/datasets/igt-pouvoir-de-rechauffement-global/convert)\n",
    "* Quelques données de contexte au niveau communal. Idéalement, on utiliserait les données\n",
    "[disponibles sur le site de l'Insee](https://www.insee.fr/fr/statistiques/3560121). Pour faciliter l'import de celles-ci, les données ont été mises à disposition dans le dépôt github, [sur cet url](https://github.com/linogaliana/python-datascientist/blob/pandas_intro/data/filosofi_2016.csv)"
   ]
  },
  {
   "cell_type": "markdown",
   "metadata": {},
   "source": [
    "`pandas` offre la possibilité d'importer des données directement depuis un url. C'est l'option\n",
    "prise dans ce tutoriel.\n",
    "Si vous préfèrez, pour des\n",
    "raisons d'accès au réseau ou de performance, importer depuis un poste local,\n",
    "vous pouvez télécharger les données et changer\n",
    "les commandes d'import avec le chemin adéquat plutôt que l'url. \n",
    "\n",
    "Nous suivrons les conventions habituelles dans l'import des packages\n"
   ]
  },
  {
   "cell_type": "code",
   "execution_count": null,
   "metadata": {},
   "outputs": [],
   "source": [
    "import numpy as np\n",
    "import pandas as pd\n",
    "import matplotlib.pyplot as plt"
   ]
  },
  {
   "cell_type": "markdown",
   "metadata": {},
   "source": [
    "## Exploration de la structure des données\n",
    "\n",
    "Commencer par importer les données de l'Ademe à l'aide du package `pandas`. Vous pouvez les nommer `df`"
   ]
  },
  {
   "cell_type": "code",
   "execution_count": null,
   "metadata": {},
   "outputs": [],
   "source": [
    "df = pd.read_csv(\"https://koumoul.com/s/data-fair/api/v1/datasets/igt-pouvoir-de-rechauffement-global/convert\")"
   ]
  },
  {
   "cell_type": "markdown",
   "metadata": {},
   "source": [
    "Pour les données de cadrage au niveau communal (source Insee), une version arrangée et facile à requêter est fournie sur [github](https://github.com/linogaliana/python-datascientist/blob/pandas_intro/data/filosofi_2016.csv)"
   ]
  },
  {
   "cell_type": "code",
   "execution_count": null,
   "metadata": {},
   "outputs": [],
   "source": [
    "df_city = pd.read_csv(\"https://raw.githubusercontent.com/linogaliana/python-datascientist/master/data/filosofi_2016.csv\")"
   ]
  },
  {
   "cell_type": "markdown",
   "metadata": {},
   "source": [
    "-----------------\n",
    "**Exercice 1: Afficher des données**\n",
    "\n",
    "L'objectif de cet exercice est de vous amener à afficher des informations sur les données dans un bloc de code (notebook) ou dans la console\n",
    "    \n",
    "Commencer sur `df`: \n",
    "\n",
    "    * Utiliser les méthodes adéquates pour les 10 premières valeurs, les 15 dernières et un échantillon aléatoire de 10 valeurs\n",
    "    * Tirer 5 pourcent de l'échantillon sans remise\n",
    "    * Ne conserver que les 10 premières lignes et tirer aléatoirement dans celles-ci pour obtenir un DataFrame de 100 données.\n",
    "    * Faire 100 tirages à partir des 6 premières lignes avec une probabilité de 1/2 pour la première observation et une probabilité uniforme pour les autres\n",
    "    \n",
    "Faire la même chose sur `df_city`\n",
    "\n",
    "------------------"
   ]
  },
  {
   "cell_type": "code",
   "execution_count": null,
   "metadata": {
    "show": false
   },
   "outputs": [],
   "source": [
    "df.head(10)\n",
    "df.tail(15)\n",
    "df.sample(10)\n",
    "df.sample(frac = 0.05)\n",
    "df[:10].sample(n = 100, replace = True)\n",
    "df[:6].sample(n = 100, replace = True, weights = [0.5] + [0.1]*5)"
   ]
  },
  {
   "cell_type": "code",
   "execution_count": null,
   "metadata": {
    "show": false
   },
   "outputs": [],
   "source": [
    "df_city.head(10)\n",
    "df_city.tail(15)\n",
    "df_city.sample(10)\n",
    "df_city.sample(frac = 0.05)\n",
    "df_city[:10].sample(n = 100, replace = True)\n",
    "df_city[:6].sample(n = 100, replace = True, weights = [0.5] + [0.1]*5)"
   ]
  },
  {
   "cell_type": "markdown",
   "metadata": {},
   "source": [
    "Cette première approche exploratoire donne une idée assez précise de la manière dont les données sont organisées. On remarque ainsi une différence entre `df` et `df_city` quant aux valeurs manquantes: la première base est relativement complète, la seconde comporte beaucoup de valeurs manquantes. Autrement dit, si on désire exploiter `df_city`, il faut faire attention à la variable choisie."
   ]
  },
  {
   "cell_type": "markdown",
   "metadata": {},
   "source": [
    "----------------------\n",
    "**Exercice 2: structure des données**\n",
    "\n",
    "La première chose à vérifier est le format des données, afin d'identifier des types de variables qui ne conviennent pas. Ici, comme c'est `pandas` qui a géré automatiquement les types de variables, il y a peu de chances que les types ne soient pas adéquats mais une vérification ne fait pas de mal.\n",
    "\n",
    "* Vérifier les types des variables. S'assurer que les types des variables communes aux deux bases soient cohérents.\n",
    "\n",
    "Ensuite, on vérifie les dimensions des `DataFrames` et la structure de certaines variables clé. En l'occurrence, les variables fondamentales pour lier nos données sont les variables communales. Ici, on a deux variables géographiques: un code commune et un nom de commune. \n",
    "\n",
    "* Vérifier les dimensions des DataFrames\n",
    "* Vérifier le nombre de valeurs uniques des variables géographiques dans chaque base. Les résultats apparaissent-ils cohérents ?\n",
    "* Identifier les libellés pour lesquels on a plusieurs codes communes dans `df_city` et les stocker dans un vecteur `x` (conseil: faire attention à l'index de `x`)\n",
    "\n",
    "On se focalise temporairement sur les observations où le libellé comporte plus de deux codes communes différents\n",
    "\n",
    "* Regarder dans `df_city` ces observations\n",
    "* Pour mieux y voir, réordonner la base obtenue par order alphabétique\n",
    "* Déterminer la taille moyenne (variable nombre de personnes: `NBPERSMENFISC16`) et quelques statistiques descriptives de ces données. Comparer aux mêmes statistiques sur les données où libellés et codes communes coïncident\n",
    "* Vérifier sur les grandes villes (plus de 100 000 personnes), la proportion de villes où libellés et codes communes ne coïncident pas. Identifier ces observations.\n",
    "* Vérifier dans `df_city` les villes dont le libellé est égal à Montreuil. Vérifier également celles qui contiennent le terme 'Saint-Denis'\n",
    "\n",
    "-----------------------"
   ]
  },
  {
   "cell_type": "code",
   "execution_count": null,
   "metadata": {},
   "outputs": [],
   "source": [
    "df.dtypes\n",
    "df_city.dtypes"
   ]
  },
  {
   "cell_type": "code",
   "execution_count": null,
   "metadata": {},
   "outputs": [],
   "source": [
    "df[['INSEE commune', 'Commune']].nunique()\n",
    "df_city[['CODGEO', 'LIBGEO']].nunique()\n",
    "# Résultats dont l'ordre de grandeur est proche. Dans les deux cas, #(libelles) < #(code)"
   ]
  },
  {
   "cell_type": "code",
   "execution_count": null,
   "metadata": {},
   "outputs": [],
   "source": [
    "x = df_city.groupby('LIBGEO').count()['CODGEO']\n",
    "x = x[x>1]\n",
    "x = x.reset_index()\n",
    "x"
   ]
  },
  {
   "cell_type": "code",
   "execution_count": null,
   "metadata": {},
   "outputs": [],
   "source": [
    "df_city[df_city['LIBGEO'].isin(x['LIBGEO'])]\n",
    "df_city[df_city['LIBGEO'].isin(x['LIBGEO'])].sort_values('LIBGEO')"
   ]
  },
  {
   "cell_type": "code",
   "execution_count": null,
   "metadata": {},
   "outputs": [],
   "source": [
    "df_city[df_city['LIBGEO'].isin(x['LIBGEO'])]['NBPERSMENFISC16'].describe()\n",
    "df_city[~df_city['LIBGEO'].isin(x['LIBGEO'])]['NBPERSMENFISC16'].describe()"
   ]
  },
  {
   "cell_type": "code",
   "execution_count": null,
   "metadata": {},
   "outputs": [],
   "source": [
    "df_big_city = df_city[df_city['NBPERSMENFISC16']>100000]\n",
    "df_big_city['probleme'] = df_big_city['LIBGEO'].isin(x['LIBGEO'])\n",
    "df_big_city['probleme'].mean()"
   ]
  },
  {
   "cell_type": "code",
   "execution_count": null,
   "metadata": {},
   "outputs": [],
   "source": [
    "df_big_city[df_big_city['probleme']]"
   ]
  },
  {
   "cell_type": "code",
   "execution_count": null,
   "metadata": {},
   "outputs": [],
   "source": [
    "df_city[df_city.LIBGEO == 'Montreuil']\n",
    "df_city[df_city.LIBGEO.str.contains('Saint-Denis')].head(10)"
   ]
  },
  {
   "cell_type": "markdown",
   "metadata": {},
   "source": [
    "Ce petit exercice permet de se rassurer car les libellés dupliqués sont en fait des noms de commune identiques mais qui ne sont pas dans le même département. Il ne s'agit donc pas d'observations dupliquées. On se fiera ainsi aux codes communes, qui eux sont uniques.\n",
    "\n",
    "## Les indices\n",
    "\n",
    "Les indices sont des éléments spéciaux d'un DataFrame puisqu'ils permettent d'identifier certaines observations. Il est tout à fait possible d'utiliser plusieurs indices, par exemple si on a des niveaux imbriqués."
   ]
  },
  {
   "cell_type": "markdown",
   "metadata": {},
   "source": [
    "----------------------\n",
    "**Exercice 3: Les indices**\n",
    "\n",
    "A partir de l'exercice précédent, on peut se fier aux codes communes.\n",
    "\n",
    "* Fixer comme indice la variable de code commune dans les deux bases. Regarder le changement que cela induit sur le *display* du dataframe\n",
    "* Les deux premiers chiffres des codes communes sont le numéro de département. Créer une variable de département `dep` dans `df`\n",
    "* Calculer les émissions totales par secteur pour chaque département. Mettre en log ces résultats dans un objet `df_log`. Garder 5 départements et produire un barplot\n",
    "* Repartir de `df`. Calculer les émissions totales par département et sortir la liste des 10 principaux émetteurs de CO2 et des 5 départements les moins émetteurs. Sans faire de *merge*, regarder les caractéristiques de ces départements (population et niveau de vie)\n",
    "\n",
    "-------------------------"
   ]
  },
  {
   "cell_type": "code",
   "execution_count": null,
   "metadata": {},
   "outputs": [],
   "source": [
    "df = df.set_index('INSEE commune')\n",
    "df_city =  df_city.set_index('CODGEO') "
   ]
  },
  {
   "cell_type": "code",
   "execution_count": null,
   "metadata": {},
   "outputs": [],
   "source": [
    "df['dep'] = df.index.str[:2]\n",
    "df_city['dep'] = df_city.index.str[:2]"
   ]
  },
  {
   "cell_type": "code",
   "execution_count": null,
   "metadata": {},
   "outputs": [],
   "source": [
    "df_log = df.groupby('dep').sum().apply(np.log)\n",
    "df_log.sample(5).plot(kind = \"bar\")"
   ]
  },
  {
   "cell_type": "code",
   "execution_count": null,
   "metadata": {},
   "outputs": [],
   "source": [
    "df"
   ]
  },
  {
   "cell_type": "code",
   "execution_count": null,
   "metadata": {},
   "outputs": [],
   "source": [
    "df_emissions = df.reset_index().set_index(['INSEE commune','dep']).sum(axis = 1).groupby('dep').sum()\n",
    "gros_emetteurs = df_emissions.sort_values(ascending = False).head(10)\n",
    "petits_emetteurs = df_emissions.sort_values().head(5)"
   ]
  },
  {
   "cell_type": "code",
   "execution_count": null,
   "metadata": {},
   "outputs": [],
   "source": [
    "df_city[df_city['dep'].isin(gros_emetteurs.index)][['NBPERSMENFISC16','MED16']].sum()\n",
    "df_city[df_city['dep'].isin(gros_emetteurs.index)][['NBPERSMENFISC16','MED16']].mean()"
   ]
  },
  {
   "cell_type": "code",
   "execution_count": null,
   "metadata": {},
   "outputs": [],
   "source": [
    "df_city[df_city['dep'].isin(petits_emetteurs.index)][['NBPERSMENFISC16','MED16']].sum()\n",
    "df_city[df_city['dep'].isin(petits_emetteurs.index)][['NBPERSMENFISC16','MED16']].mean()"
   ]
  },
  {
   "cell_type": "markdown",
   "metadata": {},
   "source": [
    "-------------------------\n",
    "**Exercice 4: performance des indices**\n",
    "\n",
    "Un des intérêts des indices est qu'il permettent des agrégations efficaces. \n",
    "\n",
    "* Repartir de `df` et créer une copie `df_copy = df.copy()` et `df_copy2 = df.copy()` afin de ne pas écraser le DataFrame `df`\n",
    "* Utiliser la variable `dep` comme indice pour `df_copy` et retirer tout index pour `df_copy2`\n",
    "* Importer le module `timeit` et comparer le temps d'exécution de la somme par secteur, pour chaque département, des émissions de CO2\n",
    "\n",
    "---------------------------"
   ]
  },
  {
   "cell_type": "code",
   "execution_count": null,
   "metadata": {},
   "outputs": [],
   "source": [
    "df_copy = df.copy()\n",
    "df_copy2 = df.copy()\n",
    "df_copy = df_copy.set_index('dep')\n",
    "df_copy2 = df_copy2.reset_index()"
   ]
  },
  {
   "cell_type": "code",
   "execution_count": null,
   "metadata": {},
   "outputs": [],
   "source": [
    "%timeit df_copy.drop('Commune', axis = 1).groupby('dep').sum()"
   ]
  },
  {
   "cell_type": "code",
   "execution_count": null,
   "metadata": {},
   "outputs": [],
   "source": [
    "%timeit df_copy2.drop('Commune', axis = 1).groupby('dep').sum()"
   ]
  },
  {
   "cell_type": "markdown",
   "metadata": {},
   "source": [
    "# Restructurer les données\n",
    "\n",
    "On présente généralement deux types de données: \n",
    "    \n",
    "    * format __wide__: les données comportent des observations répétées, pour un même individu (ou groupe), dans des colonnes différentes \n",
    "    * format __long__: les données comportent des observations répétées, pour un même individu, dans des lignes différentes avec une colonne permettant de distinguer les niveaux d'observations\n",
    "\n",
    "Un exemple de la distinction entre les deux peut être pris à l'ouvrage de référence d'Hadley Wickham, *R for Data Science*:\n",
    "\n",
    "![](https://d33wubrfki0l68.cloudfront.net/3aea19108d39606bbe49981acda07696c0c7fcd8/2de65/images/tidy-9.png)\n",
    "\n",
    "\n",
    "L'aide mémoire suivante aidera à se rappeler les fonctions à appliquer si besoin:\n",
    "\n",
    "![](../../static/pictures/pandas/reshape.png)"
   ]
  },
  {
   "cell_type": "markdown",
   "metadata": {},
   "source": [
    "Le fait de passer d'un format *wide* au format *long* (ou vice-versa) peut être extrêmement pratique car certaines fonctions sont plus adéquates sur une forme de données ou sur l'autre. En règle générale, avec `python` comme avec `R`, les formats *long* sont souvent préférables.\n",
    "\n",
    "----------------------------\n",
    "**Exercice 5: Restructurer les données: wide to long**\n",
    "\n",
    "* Créer une copie des données de l'ADEME en faisant `df_wide = df.copy()`\n",
    "* Restructurer les données au format *long* pour avoir des données d'émissions par secteur en gardant comme niveau d'analyse la commune (attention aux autres variables identifiantes). \n",
    "* Faire la somme par secteur et représenter graphiquement\n",
    "* Garder, pour chaque département, le secteur le plus polluant\n",
    "\n",
    "--------------------------------"
   ]
  },
  {
   "cell_type": "code",
   "execution_count": null,
   "metadata": {},
   "outputs": [],
   "source": []
  },
  {
   "cell_type": "code",
   "execution_count": null,
   "metadata": {},
   "outputs": [],
   "source": [
    "df_wide = df.copy()\n",
    "df_wide.reset_index().melt(id_vars = ['INSEE commune','Commune','dep'],\n",
    "                          var_name = \"secteur\", value_name = \"emissions\")\n",
    "(df_wide.reset_index()\n",
    " .melt(id_vars = ['INSEE commune','Commune','dep'],\n",
    "                          var_name = \"secteur\", value_name = \"emissions\")\n",
    " .groupby('secteur').sum().plot(kind = \"barh\")\n",
    ")\n",
    "(df_wide.reset_index().melt(id_vars = ['INSEE commune','Commune','dep'],\n",
    "                          var_name = \"secteur\", value_name = \"emissions\")\n",
    " .groupby(['secteur','dep']).sum().reset_index().sort_values(['dep','emissions'], ascending = False).groupby('dep').head(1)\n",
    ")"
   ]
  },
  {
   "cell_type": "markdown",
   "metadata": {},
   "source": [
    "-----------------------------------\n",
    "**Exercice 6: long to wide**\n",
    "\n",
    "Cette transformation est moins fréquente car appliquer des fonctions par groupe, comme nous le verrons par la suite, est très simple. \n",
    "\n",
    "* Repartir de `df_wide = df.copy()`. \n",
    "* Reconstruire le DataFrame, au format long, des données d'émissions par secteur en gardant comme niveau d'analyse la commune puis faire la somme par département et secteur\n",
    "* Passer au format *wide* pour avoir une ligne par secteur et une colonne par département\n",
    "* Calculer, pour chaque secteur, la place du département dans la hiérarchie des émissions nationales\n",
    "* A partir de là, en déduire le rang médian de chaque département dans la hiérarchie des émissions et regarder les 10 plus mauvais élèves, selon ce critère.\n",
    "\n",
    "---------------------------------"
   ]
  },
  {
   "cell_type": "code",
   "execution_count": null,
   "metadata": {},
   "outputs": [],
   "source": [
    "df_wide = df.copy()\n",
    "df_wide_agg = (df_wide.reset_index()\n",
    " .melt(id_vars = ['INSEE commune','Commune','dep'],\n",
    "                          var_name = \"secteur\", value_name = \"emissions\").groupby([\"dep\", \"secteur\"]).sum()\n",
    " .reset_index().pivot_table(values = \"emissions\", index = \"secteur\", columns = \"dep\")\n",
    ")\n",
    "df_wide_agg.rank(axis = 1).median().nlargest(10)"
   ]
  },
  {
   "cell_type": "code",
   "execution_count": null,
   "metadata": {},
   "outputs": [],
   "source": []
  },
  {
   "cell_type": "markdown",
   "metadata": {},
   "source": [
    "# Combiner les données\n",
    "\n",
    "L'information de valeur s'obtient de moins en moins à partir d'une unique base de données. Il devient commun de devoir combiner des données issues de sources différentes. Nous allons ici nous focaliser sur le cas le plus favorable qui est la situation où une information permet d'apparier de manière exacte deux bases de données (autrement nous serions dans une situation, beaucoup plus complexe, d'appariement flou). La situation typique est l'appariement entre deux sources de données selon un identifiant individuel ou un identifiant de code commune, ce qui est notre cas.\n",
    "\n",
    "Il est recommandé de lire [ce guide assez complet sur la question des jointures avec R](https://linogaliana.gitlab.io/documentationR/joindre-des-tables-de-donn%C3%A9es.html) qui donne des recommandations également utiles en `python`.\n",
    "\n",
    "On utilise de manière indifférente les termes *merge* ou *join*. Le deuxième terme provient de la syntaxe SQL. En `pandas`, dans la plupart des cas, on peut utiliser indifféremment `df.join` et `df.merge`\n",
    "\n",
    "![](../../static/pictures/pandas/pandas_join.png)\n",
    "\n",
    "------------------------------------\n",
    "**Exercice 7: Calculer l'empreinte carbone par habitant**\n",
    "\n",
    "* Créer une variable `emissions` qui correspond aux émissions totales d'une commune\n",
    "* Faire une jointure à gauche entre les données d'émissions et les données de cadrage. Comparer les émissions moyennes des villes sans *match* (celles dont des variables bien choisies de la table de droite sont NaN) avec celles où on a bien une valeur correspondante dans la base Insee\n",
    "* Faire un *inner join* puis calculer l'empreinte carbone dans chaque commune. Sortir un histogramme en niveau puis en log et quelques statistiques descriptives sur le sujet. \n",
    "* Regarder la corrélation entre les variables de cadrage et l'empreinte carbone. Certaines variables semblent expliquer l'empreinte carbone ?\n",
    "\n",
    "--------------------------------------------"
   ]
  },
  {
   "cell_type": "code",
   "execution_count": null,
   "metadata": {},
   "outputs": [],
   "source": [
    "df['emissions'] = df.sum(axis = 1)\n",
    "df_merged = df.merge(df_city, how = \"left\", left_index = True, right_index = True)\n",
    "\n",
    "df_merged[df_merged['LIBGEO'].isna()]['emissions'].mean()"
   ]
  },
  {
   "cell_type": "code",
   "execution_count": null,
   "metadata": {},
   "outputs": [],
   "source": [
    "df_merged[~df_merged['LIBGEO'].isna()]['emissions'].mean()"
   ]
  },
  {
   "cell_type": "code",
   "execution_count": null,
   "metadata": {},
   "outputs": [],
   "source": [
    "df_merged = df.merge(df_city, left_index = True, right_index = True)\n",
    "df_merged['empreinte'] = df_merged['emissions']/df_merged['NBPERSMENFISC16']"
   ]
  },
  {
   "cell_type": "code",
   "execution_count": null,
   "metadata": {},
   "outputs": [],
   "source": [
    "df_merged['empreinte'].plot(kind =\"hist\")\n",
    "np.log(df_merged['empreinte']).plot.hist()\n",
    "df_merged['empreinte'].describe()"
   ]
  },
  {
   "cell_type": "code",
   "execution_count": null,
   "metadata": {},
   "outputs": [],
   "source": [
    "df_merged.corr()['empreinte']"
   ]
  },
  {
   "cell_type": "code",
   "execution_count": null,
   "metadata": {},
   "outputs": [],
   "source": [
    "df"
   ]
  },
  {
   "cell_type": "markdown",
   "metadata": {},
   "source": [
    "# Appliquer des fonctions"
   ]
  },
  {
   "cell_type": "markdown",
   "metadata": {},
   "source": [
    "On peut utiliser `apply` pour passer des fonctions à appliquer sur plusieurs colonnes ou sur plusieurs valeurs"
   ]
  },
  {
   "cell_type": "code",
   "execution_count": null,
   "metadata": {},
   "outputs": [],
   "source": [
    "df['emissions'].apply(np.sqrt)"
   ]
  }
 ],
 "metadata": {
  "kernelspec": {
   "display_name": "Python 3",
   "language": "python",
   "name": "python3"
  }
 },
 "nbformat": 4,
 "nbformat_minor": 4
}
