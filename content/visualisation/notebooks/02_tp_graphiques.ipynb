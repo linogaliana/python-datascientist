{
 "cells": [
  {
   "cell_type": "markdown",
   "metadata": {},
   "source": [
    "#  De beaux graphiques avec python: mise en pratique\n"
   ]
  },
  {
   "cell_type": "code",
   "execution_count": null,
   "metadata": {
    "name": "setup",
    "tags": [
     "remove_cell"
    ]
   },
   "outputs": [],
   "source": [
    "%%R\n",
    "library(knitr)  \n",
    "library(reticulate)  \n",
    "knitr::knit_engines$set(python = reticulate::eng_python)\n",
    "knitr::opts_chunk$set(fig.path = \"\")\n",
    "knitr::opts_chunk$set(eval = TRUE, echo = FALSE)\n",
    "\n",
    "# Hook from Maelle Salmon: https://ropensci.org/technotes/2020/04/23/rmd-learnings/\n",
    "knitr::knit_hooks$set(\n",
    "  plot = function(x, options) {\n",
    "    hugoopts <- options$hugoopts\n",
    "    paste0(\n",
    "      \"{\", \"{<figure src=\", # the original code is simpler\n",
    "      # but here I need to escape the shortcode!\n",
    "      '\"', x, '\" ',\n",
    "      if (!is.null(hugoopts)) {\n",
    "        glue::glue_collapse(\n",
    "          glue::glue('{names(hugoopts)}=\"{hugoopts}\"'),\n",
    "          sep = \" \"\n",
    "        )\n",
    "      },\n",
    "      \">}}\\n\"\n",
    "    )\n",
    "  }\n",
    ")\n"
   ]
  },
  {
   "cell_type": "code",
   "execution_count": null,
   "metadata": {
    "lines_to_next_cell": 2,
    "tags": [
     "remove_cell"
    ]
   },
   "outputs": [],
   "source": [
    "import os\n",
    "os.environ['QT_QPA_PLATFORM_PLUGIN_PATH'] = 'C:/Users/W3CRK9/AppData/Local/r-miniconda/envs/r-reticulate/Library/plugins/platforms'\n",
    "os.environ[\"PROJ_LIB\"] = r'C:\\Users\\W3CRK9\\AppData\\Local\\r-miniconda\\pkgs\\proj4-4.9.3-hfa6e2cd_9\\Library\\share'\n",
    "os.environ['GDAL_DATA'] = r\"C:\\Users\\W3CRK9\\AppData\\Local\\r-miniconda\\envs\\r-reticulate\\Library\\share\\gdal\""
   ]
  },
  {
   "cell_type": "markdown",
   "metadata": {},
   "source": [
    "La pratique de la visualisation se fera, dans ce cours, en répliquant des graphiques qu'on peut trouver sur\n",
    "la page de l'*open-data* de la ville de Paris \n",
    "[ici](https://opendata.paris.fr/explore/dataset/comptage-velo-donnees-compteurs/information/?disjunctive.id_compteur&disjunctive.nom_compteur&disjunctive.id&disjunctive.name).\n",
    "\n",
    "Ce TP vise à initier:\n",
    "\n",
    "* Aux packages [matplotlib](https://matplotlib.org/) et\n",
    "[seaborn](https://seaborn.pydata.org/) pour la construction de graphiques figés\n",
    "* Au package [plotly](https://plotly.com/python/) pour les graphiques \n",
    "dynamiques, au format HTML\n",
    "\n",
    "Nous verrons par la suite la manière de construire des cartes facilement avec\n",
    "des formats équivalents.\n",
    "\n",
    "Un sous-ensemble des données de [paris open data](https://opendata.paris.fr/explore/dataset/comptage-velo-donnees-compteurs/information/?disjunctive.id_compteur&disjunctive.nom_compteur&disjunctive.id&disjunctive.name) a été mis à disposition\n",
    "sur <a href=\"https://github.com/linogaliana/python-datascientist/blob/master/data/bike.csv\" class=\"github\"><i class=\"fab fa-github\"></i></a> pour faciliter l'import (élimination des colonnes\n",
    "qui ne nous servirons pas mais ralentissent l'import)"
   ]
  },
  {
   "cell_type": "code",
   "execution_count": null,
   "metadata": {},
   "outputs": [],
   "source": [
    "import matplotlib.pyplot as plt\n",
    "import seaborn as sns"
   ]
  },
  {
   "cell_type": "markdown",
   "metadata": {},
   "source": [
    "## Premier graphique avec l'API `matplotlib` de `pandas`\n",
    "\n",
    "**Exercice 1: Importer les données et produire un premier graphique**\n",
    "\n",
    "1.. Importer les données `velib`. Attention, il s'agit de données\n",
    "compressées au format `gzip`, il faut donc utiliser l'option `compression`\n",
    "2. En premier lieu, sans se préoccuper des éléments de style ni des labels des\n",
    "graphiques, reproduire les deux premiers graphiques de la\n",
    "[page d'analyse des données](https://opendata.paris.fr/explore/dataset/comptage-velo-donnees-compteurs/dataviz/?disjunctive.id_compteur&disjunctive.nom_compteur&disjunctive.id&disjunctive.name):\n",
    "*Les 10 compteurs avec la moyenne horaire la plus élevée* et *Les 10 compteurs ayant comptabilisés le plus de vélos*.\n",
    "\n",
    "*Conseil*: Pour obtenir un graphique ordonné du plus grand au plus petit, il faut avoir les données ordonnées du plus petit au\n",
    "plus grand. C'est bizarre mais c'est comme ça...\n"
   ]
  },
  {
   "cell_type": "code",
   "execution_count": null,
   "metadata": {},
   "outputs": [],
   "source": [
    "import pandas as pd\n",
    "df = pd.read_csv('./data/bike.csv', compression = 'gzip')\n",
    "\n",
    "df1 = df.groupby('Nom du compteur').agg({'Comptage horaire': \"mean\"}).sort_values('Comptage horaire', ascending = False).head(10)\n",
    "df2 = df.groupby('Nom du compteur').agg({'Comptage horaire': \"sum\"}).sort_values('Comptage horaire', ascending = False).head(10)"
   ]
  },
  {
   "cell_type": "code",
   "execution_count": null,
   "metadata": {},
   "outputs": [],
   "source": [
    "df1.sort_values('Comptage horaire').plot(kind = \"barh\", figsize = (25,5), color = 'red')"
   ]
  },
  {
   "cell_type": "code",
   "execution_count": null,
   "metadata": {},
   "outputs": [],
   "source": [
    "df2.sort_values('Comptage horaire').plot(kind = \"barh\", figsize = (25,5), color = 'green')"
   ]
  },
  {
   "cell_type": "markdown",
   "metadata": {},
   "source": [
    "On peut remarquer plusieurs éléments problématiques (par exemple les labels) mais\n",
    "aussi des éléments ne correspondant pas (les titres des axes, etc.) ou \n",
    "manquants (le nom du graphique...)\n",
    "\n",
    "Comme les graphiques produits par `pandas` suivent la logique très flexible\n",
    "de `matplotlib`, il est possible de les customiser. Cependant, c'est\n",
    "souvent beaucoup de travail et il peut être préférable de directement\n",
    "utiliser *seaborn*, qui offre quelques arguments prêts à l'emploi"
   ]
  },
  {
   "cell_type": "markdown",
   "metadata": {},
   "source": [
    "## Utiliser directement `seaborn`\n",
    "\n",
    "Vous pouvez repartir des deux dataframes précédents. On va suppose qu'ils se\n",
    "nomment `df1` et `df2`. Réinitialiser l'index pour avoir une colonne \n",
    "*'Nom du compteur'*"
   ]
  },
  {
   "cell_type": "code",
   "execution_count": null,
   "metadata": {},
   "outputs": [],
   "source": [
    "df1 = df1.reset_index()\n",
    "df2 = df2.reset_index()"
   ]
  },
  {
   "cell_type": "markdown",
   "metadata": {},
   "source": [
    "**Exercice 2: un peu de style**\n",
    "\n",
    "Il y a plusieurs manières de faire un *bar* plot en `seaborn`. La plus flexible,\n",
    "c'est-à-dire celle qui permet le mieux d'interagir avec `matplotlib` est\n",
    "`catplot`\n",
    " \n",
    "1. Refaire le graphique précédent avec la fonction adéquate de `seaborn`. Pour\n",
    "contrôler la taille du graphique vous pouvez utiliser les arguments `height` et\n",
    "`aspect`\n",
    "2. Ajouter les titres des axes et le titre du graphique pour le premier graphique"
   ]
  },
  {
   "cell_type": "code",
   "execution_count": null,
   "metadata": {
    "lines_to_next_cell": 2
   },
   "outputs": [],
   "source": [
    "# Q1 + Q2\n",
    "g = sns.catplot(x='Comptage horaire', y='Nom du compteur', data=df1, kind = \"bar\", height = 5, aspect = 4, color = \"red\")\n",
    "g.set_axis_labels('Moyenne du comptage par heure sur la période sélectionnée', 'Nom du compteur')\n",
    "plt.title('Les 10 compteurs avec la moyenne horaire la plus élevée')\n",
    "plt.show()"
   ]
  },
  {
   "cell_type": "code",
   "execution_count": null,
   "metadata": {
    "eval": false
   },
   "outputs": [],
   "source": [
    "# ALTERNATIVE Q1 + Q2\n",
    "plt.figure(figsize=(20,5))\n",
    "sns.barplot(x='Comptage horaire', y='Nom du compteur', data=df1, color = \"red\")\n",
    "plt.xlabel('Moyenne du comptage par heure sur la période sélectionnée', size = 24)\n",
    "plt.xlabel('Nom du compteur', size = 24)\n",
    "plt.title('Les 10 compteurs avec la moyenne horaire la plus élevée', size=24)\n",
    "plt.show()"
   ]
  },
  {
   "cell_type": "markdown",
   "metadata": {},
   "source": [
    "Si vous désirez colorer en rouge l'axe des `x`, vous pouvez pré-définir un\n",
    "style avec `sns.set_style(\"ticks\", {\"xtick.color\": \"red\"})`"
   ]
  },
  {
   "cell_type": "code",
   "execution_count": null,
   "metadata": {},
   "outputs": [],
   "source": [
    "sns.set_style(\"ticks\", {\"xtick.color\": \"red\"})\n",
    "g = sns.catplot(x='Comptage horaire', y='Nom du compteur', data=df1, kind = \"bar\", height = 10, aspect = 2, color = \"red\")\n",
    "g.set_axis_labels('Moyenne du comptage par heure sur la période sélectionnée', 'Nom du compteur')\n",
    "plt.title('Les 10 compteurs avec la moyenne horaire la plus élevée')\n",
    "plt.show()"
   ]
  },
  {
   "cell_type": "markdown",
   "metadata": {},
   "source": [
    "**Exercice 3: refaire les graphiques**\n",
    "\n",
    "Certaines opérations vont nécessiter un peu d'agilité dans la gestion des dates.\n",
    "Avant cela, il faut créer une variable temporelle (`datetime`). Pour cela, vous\n",
    "pouvez faire:"
   ]
  },
  {
   "cell_type": "code",
   "execution_count": null,
   "metadata": {
    "lines_to_next_cell": 0
   },
   "outputs": [],
   "source": [
    "df['timestamp'] = pd.to_datetime(df['Date et heure de comptage'], format='%Y-%m-%dT%H:%M:%SZ', errors='coerce')"
   ]
  },
  {
   "cell_type": "markdown",
   "metadata": {},
   "source": [
    ".to_period('M')\n",
    "\n",
    "1. Refaire le graphique *Les 10 compteurs ayant comptabilisés le plus de vélos *\n",
    "2. Refaire le graphique *Moyenne mensuelle des comptages vélos *. Pour cela,\n",
    "vous pouvez utiliser `.dt.to_period('M')` pour transformer un timestamp \n",
    "en variable de mois\n",
    "3. Refaire le graphique *Moyenne journalière des comptages vélos* (créer d'abord\n",
    "une variable de jour avec `.dt.day`)\n",
    "4. Refaire le graphique *Comptages vélo au cours des 7 derniers jours * (de l'échantillon)"
   ]
  },
  {
   "cell_type": "code",
   "execution_count": null,
   "metadata": {
    "lines_to_next_cell": 2
   },
   "outputs": [],
   "source": [
    "# Q1\n",
    "sns.set_style(\"ticks\", {\"xtick.color\": \"green\"})\n",
    "g = sns.catplot(x='Comptage horaire', y='Nom du compteur', data=df2, kind = \"bar\", height = 5, aspect = 4, color = \"green\")\n",
    "g.set_axis_labels('La somme des vélos comptabilisés sur la période sélectionnée', 'Nom du compteur')\n",
    "plt.title('Les 10 compteurs ayant comptabilisés le plus de vélos')\n",
    "plt.show()"
   ]
  },
  {
   "cell_type": "code",
   "execution_count": null,
   "metadata": {
    "lines_to_next_cell": 2
   },
   "outputs": [],
   "source": [
    "# Q2\n",
    "df['month'] = df.timestamp.dt.to_period('M')\n",
    "sns.set_style(\"whitegrid\")\n",
    "df3 = df.groupby('month').agg({'Comptage horaire':'mean'}).reset_index()\n",
    "g = sns.catplot(x='month', y='Comptage horaire', data=df3, kind = \"bar\", height = 5, aspect = 4, color = \"yellow\")\n",
    "g.set_axis_labels('Date et heure de comptage', 'Moyenne mensuelle du comptage par heure sur la période sélectionnée')\n",
    "plt.title('Moyenne mensuelle des comptages vélos')\n",
    "plt.show()"
   ]
  },
  {
   "cell_type": "code",
   "execution_count": null,
   "metadata": {},
   "outputs": [],
   "source": [
    "# Q3\n",
    "df['day'] = df.timestamp.dt.date\n",
    "\n",
    "df4 = df.groupby('day').agg({'Comptage horaire':'mean'}).reset_index()\n",
    "sns.lineplot(x='day', y='Comptage horaire', data=df4, color = \"magenta\")\n",
    "\n",
    "# TO DO: fill sous la courbe"
   ]
  },
  {
   "cell_type": "code",
   "execution_count": null,
   "metadata": {
    "eval": false,
    "lines_to_next_cell": 2
   },
   "outputs": [],
   "source": [
    "# Q4\n",
    "df['Date'] = pd.to_datetime(df['day'])\n",
    "df['NewDate'] = pd.to_datetime(df.Date) - pd.to_timedelta(7, unit=\"D\")\n",
    "df5 = df[df.day >= (max(df['NewDate']))]\n",
    "df5 = df5.groupby('Date').agg({'Comptage horaire': 'sum'})\n",
    "g = sns.catplot(y='Comptage horaire', x='Date', data=df5, kind = \"bar\", height = 10, aspect = 2, color = \"lightblue\")"
   ]
  },
  {
   "cell_type": "markdown",
   "metadata": {},
   "source": [
    "## Des graphiques dynamiques avec `Plotly`\n",
    "\n",
    "Le package `Plotly` est une surcouche à la librairie Javascript \n",
    "`Plotly.js` qui permet de créer et manipuler des objets graphiques de manière\n",
    "très flexible afin de produire des objets réactifs sans avoir à recourir\n",
    "à Javascript.\n",
    "\n",
    "Le point d'entrée recommandé est le module `Plotly Express`\n",
    "([documentation ici](https://plotly.com/python/plotly-express/)) qui offre une arborescence\n",
    "riche mais néanmoins intuitive pour construire des graphiques\n",
    "(objets `plotly.graph_objects.Figure`) pouvant être modifiés *a posteriori*\n",
    "si besoin (par exemple pour *customiser* les axes). \n",
    "\n",
    "### Comment visualiser un graphique `plotly` ?\n",
    "\n",
    "Dans un notebook Jupyter classique, les lignes suivantes de code permettent\n",
    "d'afficher le résultat d'une commande `Plotly` sous un bloc de code: "
   ]
  },
  {
   "cell_type": "code",
   "execution_count": null,
   "metadata": {
    "echo": true,
    "eval": false
   },
   "outputs": [],
   "source": [
    "from plotly.offline import init_notebook_mode\n",
    "init_notebook_mode(connected = True)"
   ]
  },
  {
   "cell_type": "markdown",
   "metadata": {},
   "source": [
    "Pour `JupyterLab`, l'extension `jupyterlab-plotly` s'avère nécessaire:"
   ]
  },
  {
   "cell_type": "code",
   "execution_count": null,
   "metadata": {
    "echo": true,
    "eval": false
   },
   "outputs": [],
   "source": [
    "jupyter labextension install jupyterlab-plotly"
   ]
  },
  {
   "cell_type": "markdown",
   "metadata": {},
   "source": [
    "Pour les utilisateurs de `python` via l'excellent package `R` `reticulate`, il\n",
    "est possible d'écrire le résultats dans un fichier `.html` et d'utiliser\n",
    "`htmltools::includeHTML` pour l'afficher via `R Markdown` (les utilisateurs\n",
    "de `R` trouveront bien-sûr une technique bien plus simple: utiliser\n",
    "directement le package `R` `plotly`...)"
   ]
  },
  {
   "cell_type": "markdown",
   "metadata": {},
   "source": [
    "### Réplication de l'exemple précédent avec `plotly`\n",
    "\n",
    "Les modules suivant seront nécessaires pour construire des graphiques\n",
    "avec `plotly`:"
   ]
  },
  {
   "cell_type": "code",
   "execution_count": null,
   "metadata": {},
   "outputs": [],
   "source": [
    "import plotly\n",
    "import plotly.express as px"
   ]
  },
  {
   "cell_type": "markdown",
   "metadata": {},
   "source": [
    "**Exercice 4: le premier graphique avec plotly**\n",
    "\n",
    "L'objectif est de reconstuire le premier diagramme en barre avec `plotly`\n",
    "\n",
    "1. Utiliser la fonction adéquate avec `Plotly Express`. Ne pas prendre le\n",
    "thème par défaut mais un à fond blanc, pour avoir un résultat ressemblant\n",
    "à celui proposé sur le site de l'*open-data*. Pour la couleur rouge,\n",
    "vous pouvez utiliser l'argument `color_discrete_sequence`. \n",
    "2. Ne pas oublier de nommer les axes, et la couleur du texte de l'axe inférieur\n",
    "3. Tester un autre thème, à fond sombre. Pour les couleurs, faire un \n",
    "groupe stockant les trois plus fortes valeurs puis les autres."
   ]
  },
  {
   "cell_type": "code",
   "execution_count": null,
   "metadata": {
    "lines_to_next_cell": 2,
    "tags": [
     "remove_cell"
    ]
   },
   "outputs": [],
   "source": [
    "fig = px.bar(df1.sort_values('Comptage horaire', ascending = True), orientation = 'h', x='Comptage horaire', y='Nom du compteur', color_discrete_sequence=[\"red\"], template = \"plotly_white\")\n",
    "fig.update_layout(\n",
    "    title='Les 10 compteurs avec la moyenne horaire la plus élevée',\n",
    "    xaxis_title='Moyenne du comptage par heure sur la période sélectionnée')\n",
    "fig.update_xaxes(title_font=dict(color='red'))\n",
    "\n",
    "# Pour inclusion dans le site web\n",
    "htmlsnip = plotly.io.to_html(fig, include_plotlyjs=False)"
   ]
  },
  {
   "cell_type": "code",
   "execution_count": null,
   "metadata": {
    "lines_to_next_cell": 2,
    "tags": [
     "remove_cell"
    ]
   },
   "outputs": [],
   "source": [
    "df1['top'] = df1['Comptage horaire'] > df1.sort_values('Comptage horaire', ascending = False)['Comptage horaire'][3]\n",
    "fig2 = px.bar(df1.sort_values('Comptage horaire', ascending = True), orientation = 'h', x='Comptage horaire', y='Nom du compteur', template = \"plotly_dark\", color = 'top')\n",
    "fig2.update_layout(\n",
    "    title='Les 10 compteurs avec la moyenne horaire la plus élevée',\n",
    "    xaxis_title='Moyenne du comptage par heure sur la période sélectionnée')\n",
    "\n",
    "# Pour inclusion dans le site web\n",
    "htmlsnip2 = plotly.io.to_html(fig2, include_plotlyjs=False)"
   ]
  },
  {
   "cell_type": "markdown",
   "metadata": {
    "lines_to_next_cell": 0
   },
   "source": [
    "Le résultat devrait ressembler aux deux graphiques suivants:\n",
    "\n",
    "{{< rawhtml >}}\n",
    "<script src=\"https://cdn.plot.ly/plotly-latest.min.js\"></script> "
   ]
  },
  {
   "cell_type": "code",
   "execution_count": null,
   "metadata": {
    "lines_to_next_cell": 0
   },
   "outputs": [],
   "source": [
    "%%R\n",
    "tablelight::print_html(py$htmlsnip)"
   ]
  },
  {
   "cell_type": "markdown",
   "metadata": {
    "lines_to_next_cell": 0
   },
   "source": [
    "{{< /rawhtml >}}\n",
    "\n",
    "{{< rawhtml >}}\n",
    "<script src=\"https://cdn.plot.ly/plotly-latest.min.js\"></script> "
   ]
  },
  {
   "cell_type": "code",
   "execution_count": null,
   "metadata": {
    "lines_to_next_cell": 0
   },
   "outputs": [],
   "source": [
    "%%R\n",
    "tablelight::print_html(py$htmlsnip2)"
   ]
  },
  {
   "cell_type": "markdown",
   "metadata": {},
   "source": [
    "{{< /rawhtml >}}"
   ]
  }
 ],
 "metadata": {
  "kernelspec": {
   "display_name": "Python 3",
   "language": "python",
   "name": "python3"
  }
 },
 "nbformat": 4,
 "nbformat_minor": 4
}
