{
 "cells": [
  {
   "cell_type": "markdown",
   "metadata": {},
   "source": [
    "#  Pratique de geopandas: données vélib\n",
    "\n",
    "\n",
    "\n",
    "\n",
    "\n"
   ]
  },
  {
   "cell_type": "markdown",
   "metadata": {},
   "source": [
    "# Lire et enrichir des données spatiales\n",
    "\n",
    "Dans cette partie, nous utiliserons la fonction suivante, qui facilite \n",
    "le téléchargement et le dézippage des données proposées sur `data.gouv`:\n"
   ]
  },
  {
   "cell_type": "code",
   "execution_count": null,
   "metadata": {
    "lines_to_next_cell": 0
   },
   "outputs": [],
   "source": [
    "import requests\n",
    "import tempfile\n",
    "import zipfile\n",
    "\n",
    "temporary_location = tempfile.gettempdir()\n",
    "\n",
    "def download_unzip(url, dirname = tempfile.gettempdir(), destname = \"borders\"):\n",
    "  myfile = requests.get(url)\n",
    "  open(dirname + '/' + destname + '.zip', 'wb').write(myfile.content)\n",
    "  with zipfile.ZipFile(dirname + '/' + destname + '.zip', 'r') as zip_ref:\n",
    "      zip_ref.extractall(dirname + '/' + destname)"
   ]
  },
  {
   "cell_type": "markdown",
   "metadata": {},
   "source": []
  },
  {
   "cell_type": "markdown",
   "metadata": {},
   "source": [
    "**Exercice 1: lire et explorer la structure de fichiers géographiques**\n",
    "\n",
    "1. Utiliser la fonction `download_unzip` avec l'url <https://www.data.gouv.fr/fr/datasets/r/07b7c9a2-d1e2-4da6-9f20-01a7b72d4b12>\n",
    "pour télécharger les données communales.\n",
    "2. Importer le fichier avec la package `geopandas`\n",
    "(si vous avez laissé les paramètres par défaut,\n",
    "le fichier devrait\n",
    "être à l'emplacement `temporary_location + \"/borders/communes-20190101.json\"`).\n",
    "Vous pouvez le nommer `communes_borders`\n",
    "3. Regarder les premières lignes des données. Identifier la différence avec\n",
    "un DataFrame standard. \n",
    "4. Afficher l'attribut `crs` de `communes_borders`. Ce dernier contrôle la\n",
    "transformation de l'espace tridimensionnel terrestre en une surface plane. \n",
    "5. Afficher les communes de l'Aveyron (département 12) et utiliser la méthode\n",
    "`plot`\n",
    "6. Réprésenter la carte de Paris : quel est le problème ?\n",
    "\n",
    "\n",
    "\n",
    "\n",
    "\n"
   ]
  },
  {
   "cell_type": "markdown",
   "metadata": {},
   "source": [
    "En effet, on ne dispose ainsi pas des limites des arrondissements parisiens, ce\n",
    "qui appauvrit grandement la carte de Paris. On peut les récupérer directement \n",
    "depuis le site d'open data du grand Paris:"
   ]
  },
  {
   "cell_type": "markdown",
   "metadata": {},
   "source": [
    "**Exercice 2: compléter des données spatiales issues de sources différentes**\n",
    "\n",
    "1. Importer les données de découpage des arrondissements parisiens à l'adresse\n",
    "<https://opendata.paris.fr/explore/dataset/arrondissements/download/?format=geojson&timezone=Europe/Berlin&lang=fr>\n",
    "2. Vérifier sur une carte que les découpages des arrondissements sont bien présents\n",
    "2. Vérifier l'attribut `crs`. Est-il cohérent avec celui des données communales ?\n",
    "3. Retirer Paris du jeu de données communales et utiliser les arrondissements\n",
    "pour enrichir (nommer l'objet obtenu `data_borders`). Ici, on peut ne pas se\n",
    "soucier de la variable commune de superficie aux niveaux différents car on\n",
    "va la recréer. En revanche, renommer la variable `c_arinsee` en `insee` avec\n",
    "la méthode `rename` et faire attention aux types des variables\n",
    "4. Créer une variable `dep` stockant le département\n",
    "4. Représenter les communes de la petite couronne parisienne (75, 92, 93, 94)\n",
    "\n",
    "\n",
    "\n"
   ]
  },
  {
   "cell_type": "markdown",
   "metadata": {},
   "source": [
    "# Utiliser des données géographiques comme des couches\n",
    "graphiques\n",
    "\n",
    "Souvent, le découpage communal ne sert qu'en fond de cartes, pour donner des\n",
    "repères. En complément de celui-ci, on peut désirer exploiter\n",
    "un autre jeu de données. On va partir des données de localisation des\n",
    "stations velib, \n",
    "disponibles [sur le site d'open data de la ville de Paris](https://opendata.paris.fr/explore/dataset/velib-emplacement-des-stations/table/) et \n",
    "requêtables directement par l'url\n",
    "<https://opendata.paris.fr/explore/dataset/velib-emplacement-des-stations/download/?format=geojson&timezone=Europe/Berlin&lang=fr>"
   ]
  },
  {
   "cell_type": "markdown",
   "metadata": {},
   "source": [
    "**Exercice 3: importer et explorer les données velib**\n",
    "\n",
    "1. Importer les données velib sous le nom station\n",
    "2. Représenter sur une carte les 100 stations les plus importantes. Vous pouvez également afficher le fonds de carte des arrondissements en ne gardant que les départements de la petite couronne (75, 92, 93, 94).\n",
    "Cette [page](https://geopandas.org/mapping.html#maps-with-layers) peut vous aider pour afficher plusieurs couches à la fois (nous irons plus loin lors du chapitre XXXX). \n",
    "3. (optionnel) Afficher également les réseaux de transport en communs, disponibles [ici](https://data.iledefrance-mobilites.fr/explore/dataset/traces-du-reseau-ferre-idf/map/?location=7,48.69717,2.33167&basemap=jawg.streets). L'url à requêter est\n",
    "<https://data.iledefrance-mobilites.fr/explore/dataset/traces-du-reseau-ferre-idf/download/?format=geojson&timezone=Europe/Berlin&lang=fr>\n",
    "\n",
    "\n",
    "\n",
    "\n",
    "\n"
   ]
  },
  {
   "cell_type": "markdown",
   "metadata": {},
   "source": [
    "# Jointures spatiales\n",
    "\n",
    "Les jointures attributaires fonctionnent comme avec un DataFrame `pandas`. Pour conserver un objet spatial *in fine*, il faut faire attention à utiliser en premier (base de gauche) l'objet `geopandas`. En revanche, l'un des intérêts des objets geopandas est qu'on peut également faire une jointure sur la dimension spatiale.\n",
    "\n",
    "La documentation à laquelle se référer est [ici](https://geopandas.org/mergingdata.html#spatial-joins). \n",
    "\n",
    "**Exercice 4: Associer les stations aux communes et arrondissements auxquels ils appartiennent**\n",
    "\n",
    "1. Faire une jointure spatiale pour enrichir les données de stations d'informations sur l'environnement.\n",
    "Appeler cet objet `stations_info`\n",
    "2. Représenter la carte des stations du 19e arrondissement (s'aider de la variable `c_ar`).\n",
    "Vous pouvez mettre en fond de carte les arrondissements parisiens. \n",
    "3. Compter le nombre de stations velib et le nombre de places velib par arrondissement ou communes (pour vous aider, vous pouvez compléter vos connaissances avec [ce tutoriel](https://pandas.pydata.org/docs/getting_started/intro_tutorials/06_calculate_statistics.html)). Représenter sur une carte chacune des informations\n",
    "4. Représenter les mêmes informations mais en densité (diviser par la surface de l'arrondissement ou commune en km2)\n",
    "\n",
    "\n",
    "\n",
    "\n",
    "\n",
    "\n"
   ]
  },
  {
   "cell_type": "markdown",
   "metadata": {},
   "source": [
    "**Exercice 5 (optionnel): Relier distance au métro et capacité d'une station**\n",
    "\n",
    "1. Relier chaque station velib à la station de transport en commun la plus proche\n",
    "2. Quelle ligne de transport est à proximité du plus de velib ?\n",
    "3. Calculer la distance de chaque station à la ligne de métro la plus proche. Faire un nuage de points reliant distance au métro et nombre de places en stations\n"
   ]
  }
 ],
 "metadata": {
  "kernelspec": {
   "display_name": "Python 3",
   "language": "python",
   "name": "python3"
  }
 },
 "nbformat": 4,
 "nbformat_minor": 4
}
