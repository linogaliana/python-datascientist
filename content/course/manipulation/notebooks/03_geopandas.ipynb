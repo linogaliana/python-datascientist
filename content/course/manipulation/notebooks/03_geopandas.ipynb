{
 "cells": [
  {
   "cell_type": "markdown",
   "metadata": {},
   "source": [
    "#  Données spatiales: découverte de geopandas\n",
    "\n",
    "\n",
    "\n"
   ]
  },
  {
   "cell_type": "markdown",
   "metadata": {},
   "source": [
    "Dans ce tutoriel, nous allons utiliser:\n",
    "\n",
    "<!----\n",
    "* [Réseau de pistes cyclables de la ville de Paris](https://opendata.paris.fr/explore/dataset/reseau-cyclable/table/?disjunctive.typologie_simple&disjunctive.bidirectionnel&disjunctive.statut&disjunctive.sens_velo&disjunctive.voie&disjunctive.arrdt&disjunctive.bois&disjunctive.position&disjunctive.circulation&disjunctive.piste&disjunctive.couloir_bus&disjunctive.type_continuite&disjunctive.reseau&basemap=jawg.streets&location=12,48.85943,2.3493)\n",
    "------>\n",
    "* [Carte des limites administratives françaises]()\n",
    "\n",
    "La représentation des données, notamment la cartographie, est présentée plus\n",
    "amplement dans la partie [visualiser](visualiser). \n",
    "\n",
    "Ce tutoriel s'inspire beaucoup d'un autre tutoriel que j'ai fait pour R **lien utilitR**. Il peut servir de pendant à celui-ci pour l'utilisateur de `R`. \n",
    "\n"
   ]
  },
  {
   "cell_type": "code",
   "execution_count": null,
   "metadata": {
    "lines_to_next_cell": 2
   },
   "outputs": [],
   "source": [
    "import geopandas as gpd\n",
    "#import contextily as ctx"
   ]
  },
  {
   "cell_type": "markdown",
   "metadata": {},
   "source": [
    "## Données spatiales: quelle différence avec des données traditionnelles ?\n",
    "\n",
    "**Le terme \"données spatiales\" désigne les données qui portent sur les caractéristiques géographiques des objets (localisation, contours, liens)**. Les caractéristiques géographiques des objets sont décrites à l'aide d'un **système de coordonnées** qui permetent une représentation dans un espace euclidien ($(x,y)$). Le passage de l'espace réel (la Terre, qui est une sphère) à l'espace plan se fait grâce à un **système de projection**. Voici quelques exemples de données spatiales:\n",
    "\n",
    "* Une table décrivant des bâtiments, avec les coordonnées géographiques de chaque bâtiment;\n",
    "* Le découpage communal du territoire, avec le contour du territoire de chaque commune;\n",
    "* Les routes terrestres, avec les coordonnées décrivant leur parcours.\n",
    "\n",
    "Les données spatiales rassemblent classiquement deux types de données :\n",
    "\n",
    "1. des **données géographiques** (ou géométries): objets géométriques tels que des points, des vecteurs, des polygones, ou des maillages (*raster*). Exemple: la forme de chaque chaque commune, les coordonnées d'un bâtiment;\n",
    "2. des **données attributaires** (ou attributs): des mesures et des caractéristiques associés aux objets géométriques. Exemple: la population de chaque commune, le nombre de fenêtres et le nombre d'étages d'un bâtiment.\n",
    "\n",
    "**Les données spatiales sont fréquemment traitées à l'aide d'un système d'information géographique (SIG)**, c'est-à-dire un système d'information capable de stocker, d'organiser et de présenter des données alphanumériques spatialement référencées par des coordonnées dans un système de référence (CRS). `R` dispose de fonctionnalités lui permettant de réaliser les mêmes tâches qu'un SIG (traitement de données spatiales, représentations cartographiques).\n",
    "\n",
    "**Les systèmes de projection font l'objet de standards internationaux et sont souvent désignés par des codes dits *codes EPSG* **. Ce [site](https://epsg.io/) est un bon aide-mémoire. Les plus fréquents, pour les utilisateurs français, sont les suivants (plus d'infos [ici](https://geodesie.ign.fr/contenu/fichiers/documentation/SRCfrance.pdf)):\n",
    "\n",
    "* `2154`: système de projection Lambert 93. Il s'agit du système de projection officiel: la plupart des données diffusées par l'administration pour la métropole sont disponibles dans ce système de projection. \n",
    "* `4326`: WGS 84 ou système de pseudo-Mercator. C'est le système de projection des données GPS.\n",
    "<!-- est ce vraiment un système de projecton ? -->\n",
    "* `27572`: Lambert II étendu. Il s'agit de l'ancien système de projection officiel. Les données spatiales anciennes peuvent être dans ce format."
   ]
  },
  {
   "cell_type": "markdown",
   "metadata": {},
   "source": [
    "### De `pandas` à `geopandas`\n",
    "\n",
    "Le *package* `geopandas` est une boîte à outils conçue pour faciliter la manipulation de données spatiales. **La grande force de `geopandas` est qu'il permet de manipuler des données spatiales comme s'il s'agissait de données traditionnelles**, car il repose sur le standard ISO 19125 [*simple feature access*](https://en.wikipedia.org/wiki/Simple_Features) défini conjointement par l'*Open Geospatial Consortium (OGC)* et l'*International Organization for Standardization (ISO)*. \n",
    "\n",
    "Par rapport à un DataFrame standard, un objet `geopandas` comporte\n",
    "une colonne supplémentaire: `geometry`. Elle stocke les contours des\n",
    "objets géographiques. Un objet `geopandas` hérite des propriétés d'un \n",
    "DataFrame pandas mais propose des méthodes adaptées au traitement des données\n",
    "spatiales\n",
    "\n",
    "Ainsi, grâce à  `geopandas`, on pourra effectuer des manipulations sur les attributs des données comme avec `pandas` mais on pourra également faire des manipulations sur la dimension spatiale des données. En particulier,\n",
    "\n",
    "* Calculer des distances et des surfaces;\n",
    "* Agréger rapidement des zonages (regrouper les communes en département par exemple);\n",
    "* Trouver dans quelle commune se trouve un bâtiment à partir de ses coordonnées géographiques;\n",
    "* Recalculer des coordonnées dans un autre système de projection.\n",
    "* Faire une carte, rapidement et simplement"
   ]
  },
  {
   "cell_type": "markdown",
   "metadata": {},
   "source": [
    "*conseil\n",
    "Les manipulations de données sur un objet geopandas sont nettement plus lentes que sur un DataFrame traditionnel (car python doit gérer les informations géographiques pendant la manipulation des données). Lorsque vous manipulez des données de grandes dimensions, il peut être préférable d’effectuer les opérations sur les données avant de joindre une géométrie à celles-ci."
   ]
  },
  {
   "cell_type": "markdown",
   "metadata": {},
   "source": [
    "Par rapport à un logiciel spécialisé comme `QGIS`, `python` permettra \n",
    "d'automatiser le traitement et la représentation des données. D'ailleurs,\n",
    "`QGIS` utilise lui-même `python`..."
   ]
  },
  {
   "cell_type": "markdown",
   "metadata": {},
   "source": [
    "## Importer des données spatiales\n",
    "\n",
    "Les données spatiales sont plus riches que les données traditionnelles car elles\n",
    "incluent, habituellement, des éléments supplémentaires pour placer dans\n",
    "un espace cartésien les objets. Cette dimension supplémentaire peut être simple\n",
    "(un point comporte deux informations supplémentaire: $x$ et $y$) ou\n",
    "assez complexe (polygones, lignes avec direction, etc.)\n",
    "\n",
    "Les formats les plus communes de données spatiales sont les suivants:\n",
    "\n",
    "* _shapefile_ (`.shp`): format le plus commun de données géographiques.\n",
    "La table de données (attributs) est stockée dans un fichier séparé des\n",
    "données spatiales. En faisant `geopandas.read_file(\"monfichier.shp\")`, le\n",
    "package fait lui-même le lien entre les observations et leur représentation\n",
    "spatiale ;\n",
    "* _geojson_ (`.json`): la dimension spatiale est stockée dans le même\n",
    "fichier que les attributs. Ces fichiers sont généralement beaucoup plus\n",
    "légers et rapides à l'air que les *shapefiles*. Ils deviennent le format\n",
    "dominant. Lorsqu'on a le choix, il vaut mieux privilégier le `geojson`\n",
    "au *shapefile*. \n",
    "\n",
    "L'aide de [geopandas](https://geopandas.org/io.html) propose des bouts de code\n",
    "en fonction des différentes situations dans lesquelles on se trouve.\n",
    "\n",
    "### Exemple: récupérer les découpages territoriaux\n",
    "\n",
    "L'un des fonds de carte les plus fréquents qu'on utilise est celui des\n",
    "limites administratives. Elles peuvent être trouvées sur le\n",
    "[site de l'IGN](https://geoservices.ign.fr/documentation/diffusion/telechargement-donnees-libres.html#geofla) ou récupérées sur\n",
    "[data.gouv](https://www.data.gouv.fr/fr/datasets/decoupage-administratif-communal-francais-issu-d-openstreetmap/) (construites par `openstreetmap`).\n",
    "Nous prendrons la deuxième option car les premières données sont\n",
    "compressés au format `.7z`, ce qui n'est pas pratique à dézipper avec\n",
    "`python` (format propriétaire).\n",
    "\n",
    "L'inconvénient est que les arrondissements\n",
    "parisiens ne sont pas présents dans le fichier proposé sur `data.gouv`. Il\n",
    "faut donc utiliser une source complémentaire, issue de l'*opendata* de la \n",
    "Mairie de Paris.\n",
    "\n",
    "Les données des limites administratives demandent donc un peu de travail pour être\n",
    "importées car elles sont zippées. Le code suivant, dont les \n",
    "détails apparaîtront plus clairs après la lecture de la partie\n",
    "*[webscraping](webscraping)* permet\n",
    "\n",
    "1. Télécharger les données avec `requests` dans un dossier temporaire\n",
    "2. Les dézipper avec le module `zipfile`\n",
    "\n",
    "La fonction suivante automatise un peu le processus:\n"
   ]
  },
  {
   "cell_type": "code",
   "execution_count": null,
   "metadata": {
    "lines_to_next_cell": 2
   },
   "outputs": [],
   "source": [
    "import requests\n",
    "import tempfile\n",
    "import zipfile\n",
    "\n",
    "url = 'https://www.data.gouv.fr/fr/datasets/r/07b7c9a2-d1e2-4da6-9f20-01a7b72d4b12'\n",
    "temporary_location = tempfile.gettempdir()\n",
    "\n",
    "def download_unzip(url, dirname = tempfile.gettempdir(), destname = \"borders\"):\n",
    "  myfile = requests.get(url)\n",
    "  open(dirname + '/' + destname + '.zip', 'wb').write(myfile.content)\n",
    "  with zipfile.ZipFile(dirname + '/' + destname + '.zip', 'r') as zip_ref:\n",
    "      zip_ref.extractall(dirname + '/' + destname)"
   ]
  },
  {
   "cell_type": "code",
   "execution_count": null,
   "metadata": {},
   "outputs": [],
   "source": [
    "download_unzip(url)\n",
    "communes = gpd.read_file(temporary_location + \"/borders/communes-20190101.json\")\n",
    "communes.head()"
   ]
  },
  {
   "cell_type": "markdown",
   "metadata": {},
   "source": [
    "```\n",
    "##    insee  ...                                           geometry\n",
    "## 0  97223  ...  POLYGON ((-60.93595 14.58812, -60.93218 14.585...\n",
    "## 1  97233  ...  POLYGON ((-61.12165 14.71928, -61.11852 14.716...\n",
    "## 2  97208  ...  POLYGON ((-61.13355 14.74657, -61.13066 14.748...\n",
    "## 3  97224  ...  POLYGON ((-61.08459 14.72510, -61.08430 14.722...\n",
    "## 4  97212  ...  POLYGON ((-61.08459 14.72510, -61.08061 14.725...\n",
    "## \n",
    "## [5 rows x 5 columns]\n",
    "```\n",
    "\n",
    "On reconnaît la structure d'un DataFrame pandas. A cette structure s'ajoute \n",
    "une colonne `geometry` qui enregistre la position des limites de chaque\n",
    "observation. \n",
    "\n",
    "Le système de projection est un élément crucial. Il permet à `python`\n",
    "d'interpréter les valeurs des points (deux dimensions) en position sur \n",
    "la terre, qui n'est pas un espace plan. La partie **LIEN VERS SECTION**\n",
    "donne quelques détails supplémentaires. Ici, les données sont dans le \n",
    "système WSG84 (epsg: 4326) ce qui permet de facilement ajouter\n",
    "un fonds de carte `openstreetmap` ou `stamen` pour rendre une représentation\n",
    "graphique plus esthétique (avec un autre système de projection, il \n",
    "faudrait reprojeter les données, **LIEN VERS SECTION**).\n",
    "\n",
    "On peut ainsi représenter Paris pour se donner une idée de la nature\n",
    "du shapefile utilisé :\n"
   ]
  },
  {
   "cell_type": "code",
   "execution_count": null,
   "metadata": {},
   "outputs": [],
   "source": [
    "paris = communes[communes.insee.str.startswith(\"75\")]\n",
    "ax = paris.plot(figsize=(10, 10), alpha=0.5, edgecolor='k')\n",
    "#ctx.add_basemap(ax, crs = paris.crs.to_string())\n",
    "ax"
   ]
  },
  {
   "cell_type": "markdown",
   "metadata": {},
   "source": [
    "![](03_geopandas_files/figure-html/plot paris-1.png)<!-- -->\n",
    "\n",
    "On voit ainsi que les données pour Paris ne comportent pas d'arrondissement, \n",
    "ce qui est limitant pour une analyse focalisée sur Paris. On va donc les\n",
    "récupérer sur le site d'open data de la ville de Paris et les substituer \n",
    "à Paris\n"
   ]
  },
  {
   "cell_type": "code",
   "execution_count": null,
   "metadata": {},
   "outputs": [],
   "source": [
    "arrondissements = gpd.read_file(\"https://opendata.paris.fr/explore/dataset/arrondissements/download/?format=geojson&timezone=Europe/Berlin&lang=fr\")\n",
    "arrondissements = arrondissements.rename(columns = {\"c_arinsee\": \"insee\"})\n",
    "arrondissements['insee'] = arrondissements['insee'].astype(str)\n",
    "communes = communes[~communes.insee.str.startswith(\"75\")].append(arrondissements)"
   ]
  },
  {
   "cell_type": "markdown",
   "metadata": {},
   "source": [
    "En refaisant la carte ci-dessus, on obtient bien, cette fois, le résultat\n",
    "espéré\n"
   ]
  },
  {
   "cell_type": "code",
   "execution_count": null,
   "metadata": {},
   "outputs": [],
   "source": [
    "paris = communes[communes.insee.str.startswith(\"75\")]\n",
    "ax = paris.plot(figsize=(10, 10), alpha=0.5, edgecolor='k')\n",
    "#ctx.add_basemap(ax, crs = paris.crs.to_string())\n",
    "ax"
   ]
  },
  {
   "cell_type": "markdown",
   "metadata": {},
   "source": [
    "![](03_geopandas_files/figure-html/plot paris2-1.png)<!-- -->"
   ]
  },
  {
   "cell_type": "markdown",
   "metadata": {},
   "source": [
    "## Opérations sur les attributs et les géométries\n",
    "\n",
    "### Import des données velib\n",
    "\n",
    "Souvent, le découpage communal ne sert qu'en fond de cartes, pour donner des\n",
    "repères. En complément de celui-ci, on peut désirer exploiter\n",
    "un autre jeu de données. On va partir des données de localisation des\n",
    "stations velib, \n",
    "disponibles [sur le site d'open data de la ville de Paris](https://opendata.paris.fr/explore/dataset/velib-emplacement-des-stations/table/) et \n",
    "requêtables directement par l'url\n",
    "<https://opendata.paris.fr/explore/dataset/velib-emplacement-des-stations/download/?format=geojson&timezone=Europe/Berlin&lang=fr>\n"
   ]
  },
  {
   "cell_type": "code",
   "execution_count": null,
   "metadata": {},
   "outputs": [],
   "source": [
    "velib_data = 'https://opendata.paris.fr/explore/dataset/velib-emplacement-des-stations/download/?format=geojson&timezone=Europe/Berlin&lang=fr'\n",
    "stations = gpd.read_file(velib_data)"
   ]
  },
  {
   "cell_type": "markdown",
   "metadata": {},
   "source": [
    "On peut se rassurer \n"
   ]
  },
  {
   "cell_type": "code",
   "execution_count": null,
   "metadata": {},
   "outputs": [],
   "source": [
    "communes['dep'] = communes.insee.str[:2]\n",
    "\n",
    "ax = stations.sample(200).plot(figsize = (10,10), color = 'red', alpha = 0.4, zorder=2)\n",
    "communes[communes['dep'].isin(['75','92','93','94'])].plot(ax = ax, zorder=1, edgecolor = \"black\", facecolor=\"none\",\n",
    "                                                           color = None)\n",
    "# ctx.add_basemap(ax, crs = stations.crs.to_string(), source = ctx.providers.Stamen.Watercolor)"
   ]
  },
  {
   "cell_type": "markdown",
   "metadata": {},
   "source": [
    "![](03_geopandas_files/figure-html/unnamed-chunk-5-1.png)<!-- -->\n",
    "\n",
    "### Opérations sur les attributs\n",
    "\n",
    "Toutes les opérations possibles sur un objet `pandas` le sont également\n",
    "sur un objet geopandas. Par exemple, si on désire \n",
    "connaître quelques statistiques sur la taille des stations:\n"
   ]
  },
  {
   "cell_type": "code",
   "execution_count": null,
   "metadata": {},
   "outputs": [],
   "source": [
    "stations.describe()"
   ]
  },
  {
   "cell_type": "markdown",
   "metadata": {},
   "source": [
    "```\n",
    "##           capacity\n",
    "## count  1397.000000\n",
    "## mean     31.404438\n",
    "## std      12.149572\n",
    "## min       0.000000\n",
    "## 25%      23.000000\n",
    "## 50%      29.000000\n",
    "## 75%      37.000000\n",
    "## max      74.000000\n",
    "```\n",
    "\n",
    "Par exemple pour connaître les plus grands départements:\n"
   ]
  },
  {
   "cell_type": "code",
   "execution_count": null,
   "metadata": {},
   "outputs": [],
   "source": [
    "communes.groupby('dep').sum().sort_values('surf_ha', ascending = False)"
   ]
  },
  {
   "cell_type": "markdown",
   "metadata": {},
   "source": [
    "```\n",
    "##        surf_ha       n_sq_co      perimetre       surface       n_sq_ar   c_ar\n",
    "## dep                                                                           \n",
    "## 97   8936393.0  0.000000e+00       0.000000  0.000000e+00  0.000000e+00    0.0\n",
    "## 33   1008481.0  0.000000e+00       0.000000  0.000000e+00  0.000000e+00    0.0\n",
    "## 40    935359.0  0.000000e+00       0.000000  0.000000e+00  0.000000e+00    0.0\n",
    "## 24    922025.0  0.000000e+00       0.000000  0.000000e+00  0.000000e+00    0.0\n",
    "## 21    879892.0  0.000000e+00       0.000000  0.000000e+00  0.000000e+00    0.0\n",
    "## ..         ...           ...            ...           ...           ...    ...\n",
    "## 90     61048.0  0.000000e+00       0.000000  0.000000e+00  0.000000e+00    0.0\n",
    "## 94     24467.0  0.000000e+00       0.000000  0.000000e+00  0.000000e+00    0.0\n",
    "## 93     23674.0  0.000000e+00       0.000000  0.000000e+00  0.000000e+00    0.0\n",
    "## 92     17546.0  0.000000e+00       0.000000  0.000000e+00  0.000000e+00    0.0\n",
    "## 75         0.0  1.500003e+10  190443.799631  1.053728e+08  1.500000e+10  210.0\n",
    "## \n",
    "## [97 rows x 6 columns]\n",
    "```\n",
    "\n",
    "ou les plus grandes communes de France métropolitaine :\n"
   ]
  },
  {
   "cell_type": "code",
   "execution_count": null,
   "metadata": {},
   "outputs": [],
   "source": [
    "communes[communes.dep != \"97\"].sort_values('surf_ha', ascending = False)"
   ]
  },
  {
   "cell_type": "markdown",
   "metadata": {},
   "source": [
    "```\n",
    "##        insee                       nom  ...  c_ar  dep\n",
    "## 29861  13004                     Arles  ...   NaN   13\n",
    "## 29386  73290                 Val-Cenis  ...   NaN   73\n",
    "## 29632  13096  Saintes-Maries-de-la-Mer  ...   NaN   13\n",
    "## 32467  49092         Chemillé-en-Anjou  ...   NaN   49\n",
    "## 28877  49228           Noyant-Villages  ...   NaN   49\n",
    "## ...      ...                       ...  ...   ...  ...\n",
    "## 15     75113                       NaN  ...  13.0   75\n",
    "## 16     75109                       NaN  ...   9.0   75\n",
    "## 17     75118                       NaN  ...  18.0   75\n",
    "## 18     75111                       NaN  ...  11.0   75\n",
    "## 19     75116                       NaN  ...  16.0   75\n",
    "## \n",
    "## [34870 rows x 13 columns]\n",
    "```\n",
    "\n",
    "Lors des étapes d'aggrégation, `groupby` ne conserve pas les géométries. \n",
    "Il est néanmoins possible d'aggréger à la fois les géométries et les \n",
    "attribus avec la méthode `dissolve`: \n",
    "\n"
   ]
  },
  {
   "cell_type": "code",
   "execution_count": null,
   "metadata": {},
   "outputs": [],
   "source": [
    "communes[communes.dep != \"97\"].dissolve(by='dep', aggfunc='sum').plot(column = \"surf_ha\")"
   ]
  },
  {
   "cell_type": "markdown",
   "metadata": {},
   "source": [
    "![](03_geopandas_files/figure-html/dissolve-1.png)<!-- -->\n",
    "\n",
    "### Opérations sur les géométries\n",
    "\n",
    ":warning: Les données sont en système de projection WGS 84 ou pseudo-Mercator (epsg: `4326`). C'est un format approprié lorsqu'il s'agit d'utiliser un fonds\n",
    "de carte openstreetmap, stamen, google maps, etc. Mais ce n'est pas un\n",
    "format sur lequel on désire faire des calculs car les distances sont faussées\n",
    "avec cette projection. D'ailleurs, geopandas refusera certaines opérations\n",
    "sur des données dont le crs est `4326`. On reprojete ainsi les données \n",
    "dans la projection officielle pour la métropole, le Lambert 93\n",
    "(epsg: 2154). Plus de détails dans la partie **LIEN SECTION**\n",
    "\n"
   ]
  },
  {
   "cell_type": "code",
   "execution_count": null,
   "metadata": {
    "lines_to_next_cell": 2
   },
   "outputs": [],
   "source": [
    "communes = communes.to_crs(2154)\n",
    "stations = stations.to_crs(2154)"
   ]
  },
  {
   "cell_type": "markdown",
   "metadata": {},
   "source": [
    "Outre la représentation graphique simplifiée, sur laquelle nous reviendrons\n",
    "dans la partie **LIEN PARTIE GEOPLOT**, l'intérêt principal d'utiliser\n",
    "`geopandas` est l'existence de méthodes efficaces pour\n",
    "manipuler la dimension spatiale. Un certain nombre proviennent du \n",
    "package\n",
    "[shapely](https://shapely.readthedocs.io/en/latest/manual.html#general-attributes-and-methods). \n",
    "\n",
    "Par exemple, on peut recalculer la taille d'une commune ou d'arrondissement\n",
    "avec la méthode `area` (et diviser par $10^6$ pour avoir des $km^2$ au lieu\n",
    "des $m^2$):\n"
   ]
  },
  {
   "cell_type": "code",
   "execution_count": null,
   "metadata": {},
   "outputs": [],
   "source": [
    "communes['superficie'] = communes.area.div(10**6)\n",
    "communes"
   ]
  },
  {
   "cell_type": "markdown",
   "metadata": {},
   "source": [
    "Une méthode qu'on utilise régulièrement est `centroid` qui transforme des \n",
    "objets sous forme de polygones en un unique point. Par exemple, pour\n",
    "représenter approximativement les centres des villages de la\n",
    "Haute-Garonne (31), on\n",
    "fera\n"
   ]
  },
  {
   "cell_type": "code",
   "execution_count": null,
   "metadata": {},
   "outputs": [],
   "source": [
    "departement = communes[communes.dep == \"31\"].copy()\n",
    "departement['geometry'] = departement['geometry'].centroid\n",
    "\n",
    "\n",
    "ax = departement.plot(figsize = (10,10), color = 'red', alpha = 0.4, zorder=2)\n",
    "communes[communes['dep'] == \"31\"].plot(ax = ax, zorder=1, edgecolor = \"black\", facecolor=\"none\",\n",
    "                                                           color = None)\n",
    "#ctx.add_basemap(ax, crs = stations.crs.to_string(), source = #ctx.providers.Stamen.Toner)"
   ]
  },
  {
   "cell_type": "markdown",
   "metadata": {},
   "source": [
    "![](03_geopandas_files/figure-html/unnamed-chunk-11-1.png)<!-- -->"
   ]
  },
  {
   "cell_type": "markdown",
   "metadata": {},
   "source": [
    "## Gérer le système de projection\n",
    "\n",
    "Précédemment, nous avons appliqué une méthode `to_crs` pour reprojeter\n",
    "les données dans un système de projection différent de celui du fichier\n",
    "d'origine:\n"
   ]
  },
  {
   "cell_type": "code",
   "execution_count": null,
   "metadata": {
    "lines_to_next_cell": 2
   },
   "outputs": [],
   "source": [
    "communes = communes.to_crs(2154)\n",
    "stations = stations.to_crs(2154)"
   ]
  },
  {
   "cell_type": "markdown",
   "metadata": {},
   "source": [
    "Le système de projection est fondamental pour que la dimension spatiale soit bien interprétée par `python`. Un mauvais système de représentation\n",
    "fausse l'appréciation visuelle mais peut aussi entraîner des erreurs dans\n",
    "les calculs sur la dimension spatiale.\n",
    "Ce [post](https://www.earthdatascience.org/courses/earth-analytics/spatial-data-r/geographic-vs-projected-coordinate-reference-systems-UTM/) propose de riches éléments sur le sujet, notamment l'image suivante qui montre bien le principe d'une projection:\n",
    "\n",
    "![Les différents types de projection](https://www.earthdatascience.org/images/courses/earth-analytics/spatial-data/spatial-projection-transformations-crs.png)\n",
    "\n",
    "La [documentation officielle de geopandas](https://geopandas.org/projections.html) est également très bien\n",
    "faite sur le sujet. Elle fournit notamment l'avertissement suivant qu'il est\n",
    "bon d'avoir en tête:\n",
    "\n",
    "> Be aware that most of the time you don’t have to set a projection. Data loaded from a reputable source (using the geopandas.read_file() command) should always include projection information. You can see an objects current CRS through the GeoSeries.crs attribute.\n",
    "> \n",
    "> From time to time, however, you may get data that does not include a projection. In this situation, you have to set the CRS so geopandas knows how to interpret the coordinates.\n",
    "\n",
    "![](https://imgs.xkcd.com/comics/bad_map_projection_south_america.png)\n",
    "*Image empruntée à <https://blog.chrislansdown.com/2020/01/17/a-great-map-projection-joke/>*\n",
    "\n",
    "Pour déterminer le système de projection d'une base de données, on peut vérifier l'attribut `crs`:\n"
   ]
  },
  {
   "cell_type": "code",
   "execution_count": null,
   "metadata": {},
   "outputs": [],
   "source": [
    "communes.crs"
   ]
  },
  {
   "cell_type": "markdown",
   "metadata": {},
   "source": [
    "```\n",
    "## {'init': 'epsg:4326'}\n",
    "```\n",
    "\n",
    "Les deux principales méthodes pour définir le système de projection utilisé sont:\n",
    "\n",
    "* **`df.set_crs`**: cette commande sert à préciser quel est le système de projection utilisé, c'est-à-dire comment les coordonnées *(x,y)* sont reliées à la surface terrestre. **Cette commande ne doit pas être utilisée pour transformer le système de coordonnées, seulement pour le définir**. \n",
    "* **`df.to_crs`**: **cette commande sert à projeter les points d'une géométrie dans une autre, c'est-à-dire à recalculer les coordonnées selon un autre système de projection.** Par exemple, si on désire produire une carte avec un fond `openstreetmaps` ou une carte dynamique `leaflet` à partir de données projetées en Lambert 93, il est nécessaire de re-projeter les données dans le système WGS 84 (code EPSG 4326). Ce site [dédié aux projections géographiques](https://epsg.io/) peut-être utile pour retrouver le système de projection d'un fichier où il n'est pas indiqué. \n",
    "\n",
    "La définition du système de projection se fait de la manière suivante (:warning: avant de le faire, se souvenir de l'avertissement !):\n"
   ]
  },
  {
   "cell_type": "code",
   "execution_count": null,
   "metadata": {},
   "outputs": [],
   "source": [
    "communes = communes.set_crs(2154)"
   ]
  },
  {
   "cell_type": "markdown",
   "metadata": {},
   "source": [
    "Alors que la reprojection (projection Albers: 5070) s'obtient de la manière suivante:\n"
   ]
  },
  {
   "cell_type": "code",
   "execution_count": null,
   "metadata": {},
   "outputs": [],
   "source": [
    "communes[communes.dep != \"97\"].dissolve(by='dep', aggfunc='sum').to_crs(5070).plot()"
   ]
  },
  {
   "cell_type": "markdown",
   "metadata": {},
   "source": [
    "On le voit, cela modifie totalement la représentation de l'objet dans l'espace.\n",
    "Clairement, cette projection n'est pas adaptée aux longitudes et lattitudes françaises. C'est normal, il s'agit d'une projection adaptée au continent \n",
    "nord-américain, et encore, pas dans son ensemble :\n"
   ]
  },
  {
   "cell_type": "code",
   "execution_count": null,
   "metadata": {
    "lines_to_next_cell": 2
   },
   "outputs": [],
   "source": [
    "world = gpd.read_file(gpd.datasets.get_path('naturalearth_lowres'))\n",
    "world[world.continent == \"North America\"].to_crs(5070).plot(alpha = 0.2, edgecolor = \"k\")"
   ]
  },
  {
   "cell_type": "markdown",
   "metadata": {},
   "source": [
    "## Joindre des données\n",
    "\n",
    "### Joindre données sur des attributs\n",
    "\n",
    "Ce type de jointure se fait entre un objet géographique et un\n",
    "deuxième objet, géographique ou non. A l'exception de la question \n",
    "des géométries, il n'y a pas de différence par rapport à `pandas`. \n",
    "\n",
    "La seule différence avec `pandas` est dans la dimension géographique.\n",
    "Si on désire conserver la dimension géographique, il faut faire \n",
    "attention à faire:"
   ]
  },
  {
   "cell_type": "code",
   "execution_count": null,
   "metadata": {},
   "outputs": [],
   "source": [
    "geopandas_object.merge(pandas_object)"
   ]
  },
  {
   "cell_type": "markdown",
   "metadata": {},
   "source": [
    "Si on utilise deux objets géographiques mais ne désire conserver qu'une seule\n",
    "dimension géographique^[1], on fera"
   ]
  },
  {
   "cell_type": "code",
   "execution_count": null,
   "metadata": {},
   "outputs": [],
   "source": [
    "geopandas_object1.merge(geopandas_object2)"
   ]
  },
  {
   "cell_type": "markdown",
   "metadata": {},
   "source": [
    "Seule la géométrie de l'objet de gauche\n",
    "sera conservée, même si on fait un *right join*. \n",
    "\n",
    "^[1:] Il est techniquement possible d'avoir un DataFrame comportant plusieurs\n",
    "géographies. Par exemple une géométrie polygone et une géométrie point\n",
    "(le centroid). C'est néanmoins souvent compliqué à gérer et donc peu\n",
    "recommandable.\n"
   ]
  },
  {
   "cell_type": "markdown",
   "metadata": {},
   "source": [
    "### Joindre données sur dimension géographique\n",
    "\n",
    "**TO DO**\n",
    "\n",
    "**Conseils**\n",
    "Les jointures spatiales peuvent être très gourmandes en ressources (car il peut être nécessaire de croiser toutes les géométries de `x` avec toutes les géométries de `y`). Voici deux conseils qui peuvent vous aider:\n",
    "\n",
    "- Il est préférable de tester les jointures géographiques sur un petit échantillon de données, pour estimer le temps et les ressources nécessaires à la réalisation de la jointure.\n",
    "- Il est parfois possible d'écrire une fonction qui réduit la taille du problème. Exemple: vous voulez déterminer dans quelle commune se situe un logement dont vous connaissez les coordonnées et le département; vous pouvez écrire une fonction qui réalise pour chaque département une jointure spatiale entre les logements situés dans ce département et les communes de ce département, puis empiler les 101 tables de sorties.\n",
    "\n"
   ]
  }
 ],
 "metadata": {
  "kernelspec": {
   "display_name": "Python 3",
   "language": "python",
   "name": "python3"
  }
 },
 "nbformat": 4,
 "nbformat_minor": 4
}
