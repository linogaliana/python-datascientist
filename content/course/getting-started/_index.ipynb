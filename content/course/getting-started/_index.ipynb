{
 "cells": [
  {
   "cell_type": "raw",
   "metadata": {},
   "source": [
    "---\n",
    "title: \"Introduction\"\n",
    "date: 2020-07-16T13:00:00Z\n",
    "draft: false\n",
    "weight: 10\n",
    "---"
   ]
  },
  {
   "cell_type": "markdown",
   "metadata": {},
   "source": [
    "Avant de plonger dans les arcanes de la *data science*, cette partie\n",
    "d'introduction propose des éléments de configuration et des\n",
    "révisions pour mettre le pied à l'étrier.\n",
    "\n",
    "En premier lieu, des notions générales sur lesquelles il ne fait pas de mal\n",
    "de revenir de temps en temps:\n",
    "\n",
    "* [Les éléments de configuration](configuration) pour avoir un environnement\n",
    "propice à l'utilisation de l'écosystème python\n",
    "* [Une présentation de l'écosystème de la data-science](ecosystemeDS) dont\n",
    "on explorera de nombreux aspects dans ce cours\n",
    "* [Les règles de bonnes pratiques](bonnespratiques) pour améliorer la qualité\n",
    "d'un travail s'appuyant sur `python`\n",
    "\n",
    "Ensuite, des rappels sur les objets structurants le langage `python`,\n",
    "nécessaires pour être autonome en `python`\n",
    "\n",
    "* [Des rappels généraux sur les objets en python](rappels2A)\n",
    "* [Des rappels sur les fonctions en python](rappelsfonctions)\n",
    "* [Un TD (optionnel) sur les classes en python](rappelsclasses)"
   ]
  },
  {
   "cell_type": "markdown",
   "metadata": {},
   "source": [
    "Les notebooks d'exercices sont listés [ici](listetp), visualisables \n",
    "via \n",
    "<a href=\"https://github.com/linogaliana/python-datascientist\" class=\"github\"><i class=\"fab fa-github\"></i></a>\n",
    "ou\n",
    "[![nbviewer](https://img.shields.io/badge/visualize-nbviewer-blue)](https://nbviewer.jupyter.org/github/linogaliana/python-datascientist/tree/master)\n",
    "ainsi que dans les différents environnements prêts à l'emploi mis à\n",
    "disposition\n",
    "[![Onyxia](https://img.shields.io/badge/launch-onyxia-brightgreen)](https://datalab.sspcloud.fr/my-lab/catalogue/inseefrlab-helm-charts-datascience/jupyter/deploiement?resources.requests.memory=4096Mi)\n",
    "[![Binder](https://mybinder.org/badge_logo.svg)](https://mybinder.org/v2/gh/linogaliana/python-datascientist/master)\n",
    "[![Open In Colab](https://colab.research.google.com/assets/colab-badge.svg)](http://colab.research.google.com/github/linogaliana/python-datascientist/blob/master)"
   ]
  }
 ],
 "metadata": {
  "jupytext": {
   "cell_metadata_filter": "-all",
   "main_language": "python",
   "notebook_metadata_filter": "-all"
  }
 },
 "nbformat": 4,
 "nbformat_minor": 4
}
