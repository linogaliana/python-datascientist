{
 "cells": [
  {
   "cell_type": "raw",
   "metadata": {},
   "source": [
    "---\n",
    "title: \"Travaux dirigés\"\n",
    "date: 2020-09-10T13:00:00Z\n",
    "draft: false\n",
    "weight: 80\n",
    "---"
   ]
  },
  {
   "cell_type": "markdown",
   "metadata": {},
   "source": [
    "La liste des travaux dirigés, sous forme d'exercices approfondis, peut être\n",
    "trouvée ci-dessous. A chaque fois, le premier lien renvoie vers la page\n",
    "dédiée sur ce site, la seconde vers le notebook dans le dépôt github et les\n",
    "boutons permettent de lancer ces notebooks dans un environnement\n",
    "temporaire (voir [ici](configuration)). Pour accéder par les mêmes moyens \n",
    "au dépôt:\n",
    "<a href=\"https://github.com/linogaliana/python-datascientist\" class=\"github\"><i class=\"fab fa-github\"></i></a>\n",
    "[![nbviewer](https://img.shields.io/badge/visualize-nbviewer-blue)](https://nbviewer.jupyter.org/github/linogaliana/python-datascientist/tree/master)\n",
    "[![Onyxia](https://img.shields.io/badge/launch-onyxia-brightgreen)](https://datalab.sspcloud.fr/my-lab/catalogue/inseefrlab-helm-charts-datascience/jupyter/deploiement?resources.requests.memory=4096Mi)\n",
    "[![Binder](https://mybinder.org/badge_logo.svg)](https://mybinder.org/v2/gh/linogaliana/python-datascientist/master)\n",
    "[![Open In Colab](https://colab.research.google.com/assets/colab-badge.svg)](http://colab.research.google.com/github/linogaliana/python-datascientist/blob/master)\n",
    "\n",
    "Séance 1:\n",
    "\n",
    "* [Des rappels généraux sur les objets en python](rappels2A)\n",
    "<a href=\"https://github.com/linogaliana/python-datascientist/blob/master/content/getting-started/notebooks/04_rappels_types.ipynb\" class=\"github\"><i class=\"fab fa-github\"></i></a>\n",
    "[![nbviewer](https://img.shields.io/badge/visualize-nbviewer-blue)](https://nbviewer.jupyter.org/github/linogaliana/python-datascientist/blob/master/content/getting-started/notebooks/04_rappels_types.ipynb)\n",
    "[![Onyxia](https://img.shields.io/badge/launch-onyxia-brightgreen)](https://datalab.sspcloud.fr/my-lab/catalogue/inseefrlab-helm-charts-datascience/jupyter/deploiement?resources.requests.memory=4096Mi)\n",
    "[![Binder](https://mybinder.org/badge_logo.svg)](https://mybinder.org/v2/gh/linogaliana/python-datascientist/master?filepath=content/getting-started/notebooks/04_rappels_types.ipynb)\n",
    "[![Open In Colab](https://colab.research.google.com/assets/colab-badge.svg)](http://colab.research.google.com/github/linogaliana/python-datascientist/blob/master/content/getting-started/notebooks/04_rappels_types.ipynb)\n",
    "\n",
    "* [Des rappels sur les fonctions en python](rappelsfonctions)\n",
    "<a href=\"https://github.com/linogaliana/python-datascientist/blob/master/content/getting-started/notebooks/05_rappels_fonctions.ipynb\" class=\"github\"><i class=\"fab fa-github\"></i></a>\n",
    "[![nbviewer](https://img.shields.io/badge/visualize-nbviewer-blue)](https://nbviewer.jupyter.org/github/linogaliana/python-datascientist/blob/master/content/getting-started/notebooks/05_rappels_fonctions.ipynb)\n",
    "[![Onyxia](https://img.shields.io/badge/launch-onyxia-brightgreen)](https://datalab.sspcloud.fr/my-lab/catalogue/inseefrlab-helm-charts-datascience/jupyter/deploiement?resources.requests.memory=4096Mi)\n",
    "[![Binder](https://mybinder.org/badge_logo.svg)](https://mybinder.org/v2/gh/linogaliana/python-datascientist/master?filepath=content/getting-started/notebooks/05_rappels_fonctions.ipynb)\n",
    "[![Open In Colab](https://colab.research.google.com/assets/colab-badge.svg)](http://colab.research.google.com/github/linogaliana/python-datascientist/blob/master/content/getting-started/notebooks/05_rappels_fonctions.ipynb)\n",
    "\n",
    "* [Un TD (optionnel) sur les classes en python](rappelsclasses)\n",
    "<a href=\"https://github.com/linogaliana/python-datascientist/blob/master/content/getting-started/notebooks/06_rappels_classes.ipynb\" class=\"github\"><i class=\"fab fa-github\"></i></a>\n",
    "[![nbviewer](https://img.shields.io/badge/visualize-nbviewer-blue)](https://nbviewer.jupyter.org/github/linogaliana/python-datascientist/blob/master/content/getting-started/notebooks/06_rappels_classes.ipynb)\n",
    "[![Onyxia](https://img.shields.io/badge/launch-onyxia-brightgreen)](https://datalab.sspcloud.fr/my-lab/catalogue/inseefrlab-helm-charts-datascience/jupyter/deploiement?resources.requests.memory=4096Mi)\n",
    "[![Binder](https://mybinder.org/badge_logo.svg)](https://mybinder.org/v2/gh/linogaliana/python-datascientist/master?filepath=content/getting-started/notebooks/06_rappels_classes.ipynb)\n",
    "[![Open In Colab](https://colab.research.google.com/assets/colab-badge.svg)](http://colab.research.google.com/github/linogaliana/python-datascientist/blob/master/content/getting-started/notebooks/06_rappels_classes.ipynb)\n",
    "\n",
    "* [Une découverte de numpy](numpy)\n",
    "<a href=\"https://github.com/linogaliana/python-datascientist/blob/master/content/manipulation/notebooks/01_tp_numpy.ipynb\" class=\"github\"><i class=\"fab fa-github\"></i></a>\n",
    "[![nbviewer](https://img.shields.io/badge/visualize-nbviewer-blue)](https://nbviewer.jupyter.org/github/linogaliana/python-datascientist/blob/master/content/manipulation/notebooks/01_tp_numpy.ipynb)\n",
    "[![Onyxia](https://img.shields.io/badge/launch-onyxia-brightgreen)](https://datalab.sspcloud.fr/my-lab/catalogue/inseefrlab-helm-charts-datascience/jupyter/deploiement?resources.requests.memory=4096Mi)\n",
    "[![Binder](https://mybinder.org/badge_logo.svg)](https://mybinder.org/v2/gh/linogaliana/python-datascientist/master?filepath=content/manipulation/notebooks/01_tp_numpy.ipynb)\n",
    "[![Open In Colab](https://colab.research.google.com/assets/colab-badge.svg)](http://colab.research.google.com/github/linogaliana/python-datascientist/blob/master/content/manipulation/notebooks/01_tp_numpy.ipynb)"
   ]
  },
  {
   "cell_type": "markdown",
   "metadata": {},
   "source": [
    "Séance 2:\n",
    "* [Découverte de pandas par l'exemple](pandas)\n",
    "<a href=\"https://github.com/linogaliana/python-datascientist/blob/master/content/manipulation/notebooks/02_pandas_tp.ipynb\" class=\"github\"><i class=\"fab fa-github\"></i></a>\n",
    "[![nbviewer](https://img.shields.io/badge/visualize-nbviewer-blue)](https://nbviewer.jupyter.org/github/linogaliana/python-datascientist/blob/master/content/manipulation/notebooks/02_pandas_tp.ipynb)\n",
    "[![Onyxia](https://img.shields.io/badge/launch-onyxia-brightgreen)](https://datalab.sspcloud.fr/my-lab/catalogue/inseefrlab-helm-charts-datascience/jupyter/deploiement?resources.requests.memory=4096Mi)\n",
    "[![Binder](https://mybinder.org/badge_logo.svg)](https://mybinder.org/v2/gh/linogaliana/python-datascientist/master?filepath=content/manipulation/notebooks/02_pandas_tp.ipynb)\n",
    "[![Open In Colab](https://colab.research.google.com/assets/colab-badge.svg)](http://colab.research.google.com/github/linogaliana/python-datascientist/blob/master/content/manipulation/notebooks/02_pandas_tp.ipynb)"
   ]
  },
  {
   "cell_type": "markdown",
   "metadata": {},
   "source": [
    "Séance 3: \n",
    "\n",
    "* [Découverte de geopandas par l'exemple](geopandas)\n",
    "<a href=\"https://github.com/linogaliana/python-datascientist/blob/master/03_geopandas_tp.ipynb\" class=\"github\"><i class=\"fab fa-github\"></i></a>\n",
    "[![nbviewer](https://img.shields.io/badge/visualize-nbviewer-blue)](https://nbviewer.jupyter.org/github/linogaliana/python-datascientist/blob/master/03_geopandas_tp.ipynb)\n",
    "[![Onyxia](https://img.shields.io/badge/launch-onyxia-brightgreen)](https://datalab.sspcloud.fr/my-lab/catalogue/inseefrlab-helm-charts-datascience/jupyter/deploiement?resources.requests.memory=4096Mi)\n",
    "[![Binder](https://mybinder.org/badge_logo.svg)](https://mybinder.org/v2/gh/linogaliana/python-datascientist/master?filepath=03_geopandas_tp.ipynb)\n",
    "[![Open In Colab](https://colab.research.google.com/assets/colab-badge.svg)](http://colab.research.google.com/github/linogaliana/python-datascientist/blob/master/03_geopandas_tp.ipynb)\n",
    "\n",
    "Séance 4: **TO BE UPDATED**"
   ]
  }
 ],
 "metadata": {
  "jupytext": {
   "cell_metadata_filter": "-all",
   "main_language": "python",
   "notebook_metadata_filter": "-all"
  }
 },
 "nbformat": 4,
 "nbformat_minor": 4
}
