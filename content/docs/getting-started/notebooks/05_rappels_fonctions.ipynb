{
 "cells": [
  {
   "cell_type": "markdown",
   "metadata": {},
   "source": [
    "#  Modules, tests, boucles, fonctions"
   ]
  },
  {
   "cell_type": "markdown",
   "metadata": {},
   "source": [
    "Les modules sont les éléments qui font la richesse du langage Python. \n",
    "\n",
    "Ils sont l'équivalent des packages R ou Stata. Le monde de développeurs Python est très prolifique : des mises à jour sont très souvent disponibles, les bibliothèques sont très nombreuses. Et les forums regorgent de bons conseils. Le meilleur que je puisse vous donner, en cas d'erreur , copier-coller l'erreur sur votre moteur de recherche préféré, quelqu'un aura déjà posé la question.\n",
    "\n",
    "Un module est un script qui a vocation à définir des objets utilisés\n",
    "postérieurement par un interpréteur. C'est un script `.py` autosuffisant,\n",
    "définissant des objets et des relations entre eux et le monde extérieur\n",
    "(d'autres modules). Un package est un ensemble cohérent de module. Par exemple\n",
    "`scikit-learn` propose de nombreux modules utiles pour le machine learning.\n",
    "Nous utiliserons de manière indifférente les termes modules et packages.\n",
    "\n",
    "# Installation et mise à jour d'un module\n",
    "\n",
    "## Comment installer un module Python ? \n",
    "\n",
    "### Jupyter\n",
    "\n",
    "### Pycharm\n",
    "\n",
    "### Spyder\n",
    "\n",
    "Dans Spyder, il faut aller dans `Outils > ouvrir une invite de commande`"
   ]
  },
  {
   "cell_type": "markdown",
   "metadata": {},
   "source": [
    "\\bigskip\n",
    "Ensuite deux possibilités pour rechercher vos modules :\n",
    "\n",
    "- pour les modules standards : __conda install__ nom_module\n",
    "- pour les modules plus rare / plus récent : __pip install__ nom_module\n",
    "\n",
    "Il n'y a pas de réelle différence entre les commandes conda et pip qui sont deux managers de packages différents.\n",
    "Dans le cas de conda, vous pouvez avoir des librairies qui ne sont pas seulement orientées Python mais aussi C ou R.\n",
    "\n",
    "### Pour mettre à jour un module déjà installé : \n",
    "\n",
    "Il faut retourner dans l'invite de commande et taper\n",
    "\n",
    "- __conda upgrade__ nom_module\n"
   ]
  },
  {
   "cell_type": "markdown",
   "metadata": {},
   "source": [
    "## Utilisation d'un module installé\n",
    "\n",
    "Au contraire de STATA mais comme pour R, il\n",
    "faut __toujours préciser les packages que vous utilisez au début du code__,\n",
    "sinon Python ne reconnait pas les fonctions appellées. \n",
    "\n",
    "### Import _module_\n",
    "\n",
    "On charge un module grâce à la commande `import`.\n",
    "Pour chaque code que vous exécutez, il faut charger les modules en introduction. \n"
   ]
  },
  {
   "cell_type": "markdown",
   "metadata": {},
   "source": [
    "\\bigskip\n",
    "Une fois que l'on a chargé le module, on peut faire appel aux commandes qui en dépendent en les appelant après avoir tapé le nom du module. Si vous ne précisez pas le nom du module avant celui de la fonction, il ne la trouvera pas forcément.\n"
   ]
  },
  {
   "cell_type": "markdown",
   "metadata": {},
   "source": [
    "\\bigskip\n",
    "Voici un exemple avec le module numpy qui est très courant et permet de faire des calculs matriciels sous Python. \n"
   ]
  },
  {
   "cell_type": "code",
   "execution_count": null,
   "metadata": {},
   "outputs": [],
   "source": [
    "import numpy\n",
    "print(numpy.arange(5))"
   ]
  },
  {
   "cell_type": "markdown",
   "metadata": {},
   "source": [
    "```\n",
    "## [0 1 2 3 4]\n",
    "```\n",
    "\n",
    "### Import _module_ as _md_ - donner un nom au module\n",
    "\n",
    "On peut aussi donner un pseudonyme au module pour éviter de taper un nom trop long à chaque fois qu'on utilise une fonction. Classiquement le nom raccourci de numpy est _np_, celui de pandas est _pd_.\n"
   ]
  },
  {
   "cell_type": "code",
   "execution_count": null,
   "metadata": {},
   "outputs": [],
   "source": [
    "import pandas as pd\n",
    "import numpy as np\n",
    "small_array = np.array([[1, 2], [3, 4]])\n",
    "data = pd.DataFrame(small_array)\n",
    "data.head()"
   ]
  },
  {
   "cell_type": "markdown",
   "metadata": {},
   "source": [
    "```\n",
    "##    0  1\n",
    "## 0  1  2\n",
    "## 1  3  4\n",
    "```\n",
    "\n",
    "### from _Module_ Import _fonction_ - seulement une partie du module"
   ]
  },
  {
   "cell_type": "markdown",
   "metadata": {},
   "source": [
    "{{< panel status=\"danger\" title=\"warning\" icon=\"fa fa-exclamation-triangle\" >}}\n",
    "Cette méthode n'est pas recommandé **LIEN VERS PARTIE BONNE PRATIQUE**\n",
    "{{< /panel >}}\n",
    "\n",
    "Si on ne veut pas être obligé de donner le nom du module avant d'appeler\n",
    "la fonction, il y a toujours la possibilité de n'importer qu'une fonction du module. Dans le cas de l'exemple, Python sait que la fonction arange est celle de numpy.\n",
    "\n",
    "Mais ___attention___ : si deux fonctions de modules différents ont le même nom, c'est toujours la dernière importée qui gagne.\n",
    "On voit souvent from _module_ import \\*. C'est-à-dire qu'on importe toutes les fonctions du module mais on n'a pas besoin de spécifier le nom du module avant les méthodes. Faire cela peut être dangereux si vous faites ça pour tous vos modules.\n"
   ]
  },
  {
   "cell_type": "code",
   "execution_count": null,
   "metadata": {},
   "outputs": [],
   "source": [
    "from numpy import array\n",
    "print(array(5))"
   ]
  },
  {
   "cell_type": "markdown",
   "metadata": {},
   "source": [
    "```\n",
    "## 5\n",
    "```"
   ]
  },
  {
   "cell_type": "markdown",
   "metadata": {},
   "source": [
    "# Les tests\n",
    "\n",
    "Les tests permettent d'exécuter telle ou telle instruction\n",
    "selon la valeur d'une condition. "
   ]
  },
  {
   "cell_type": "markdown",
   "metadata": {},
   "source": [
    "\\bigskip\n",
    "Pour faire un test avec un bloc d'instruction, il faut toujours : \n",
    "\n",
    "- que l'expression à vérifier soit suivie de : \n",
    "- et le bloc d'instruction est __forcément indenté__\n",
    "\n",
    "## Test avec contrepartie : if et else\n",
    "\n",
    "Comme dans les autres langages, on teste une condition, si elle est vérifiée, alors une instruction suit et sinon, une autre instruction est exécutée. \n",
    "\n",
    "Il est conseillé de toujours indiquer une contrepartie afin d'éviter les surprises. \n",
    "\n",
    "### Test d'une équalité ou inéqualité\n",
    "<!-- #endregion -->\n"
   ]
  },
  {
   "cell_type": "code",
   "execution_count": null,
   "metadata": {},
   "outputs": [],
   "source": [
    "x = 6\n",
    "\n",
    "if x > 5 :\n",
    "    print(\"x est plus grand que 5\")\n",
    "else : # la contrepartie si la condition if n'est pas réalisée\n",
    "    print(\"x est plus petit que 5\")"
   ]
  },
  {
   "cell_type": "markdown",
   "metadata": {},
   "source": [
    "```\n",
    "## x est plus grand que 5\n",
    "```\n",
    "\n",
    "### Test dans un intervalle\n"
   ]
  },
  {
   "cell_type": "code",
   "execution_count": null,
   "metadata": {},
   "outputs": [],
   "source": [
    "# on peut avoir des intervalles directement\n",
    "x = 6\n",
    "if 5 < x < 10 : \n",
    "    print(\"x est entre 5 et 10\")\n",
    "else : \n",
    "    print(\"x est plus grand que 10\")"
   ]
  },
  {
   "cell_type": "markdown",
   "metadata": {},
   "source": [
    "```\n",
    "## x est entre 5 et 10\n",
    "```\n"
   ]
  },
  {
   "cell_type": "code",
   "execution_count": null,
   "metadata": {},
   "outputs": [],
   "source": [
    "# tester plusieurs valeurs avec l'opérateur logique \"or\"\n",
    "x = 5\n",
    "if x == 5 or x == 10 : \n",
    "    print(\"x vaut 5 ou 10\")    \n",
    "else : \n",
    "    print(\"x est différent de 5 et 10\")"
   ]
  },
  {
   "cell_type": "markdown",
   "metadata": {},
   "source": [
    "```\n",
    "## x vaut 5 ou 10\n",
    "```\n",
    "\n",
    "### Tests successifs : if, elif et else\n",
    "\n",
    "Avec if et elif, dès qu'on rencontre une condition qui est réalisée, on n'en cherche pas d'autres potentiellement vérifiées. \n",
    "Plusieurs if à la suite peuvent quant à eux être vérifés. Suivant ce que vous souhaitez faire, les opérateurs ne sont pas substituables. Notez la différence entre ces deux bouts de code :\n"
   ]
  },
  {
   "cell_type": "code",
   "execution_count": null,
   "metadata": {},
   "outputs": [],
   "source": [
    "#code 1\n",
    "x = 5\n",
    "\n",
    "if x != 10 : \n",
    "    print(\"x ne vaut pas 10\")   \n",
    "elif x >= 5 : \n",
    "    print(\"x est égal ou supérieur à 5\")"
   ]
  },
  {
   "cell_type": "markdown",
   "metadata": {},
   "source": [
    "```\n",
    "## x ne vaut pas 10\n",
    "```\n",
    "\n",
    "Dans le cas de elif, on __s'arrête à la première condition__ vérifiée et dans le cas suivant, on __continue à chaque condition vérifiée__\n"
   ]
  },
  {
   "cell_type": "code",
   "execution_count": null,
   "metadata": {},
   "outputs": [],
   "source": [
    "#code 2\n",
    "x = 5\n",
    "\n",
    "if x != 10 : \n",
    "    print(\"x ne vaut pas 10\")   "
   ]
  },
  {
   "cell_type": "markdown",
   "metadata": {},
   "source": [
    "```\n",
    "## x ne vaut pas 10\n",
    "```"
   ]
  },
  {
   "cell_type": "code",
   "execution_count": null,
   "metadata": {},
   "outputs": [],
   "source": [
    "if x >= 5 : \n",
    "    print(\"x est égal ou supérieur à 5\")"
   ]
  },
  {
   "cell_type": "markdown",
   "metadata": {},
   "source": [
    "```\n",
    "## x est égal ou supérieur à 5\n",
    "```"
   ]
  },
  {
   "cell_type": "markdown",
   "metadata": {
    "lines_to_next_cell": 2
   },
   "source": [
    "# Boucles\n",
    "\n",
    "Il existe deux types de boucles : les boucles ___for___ et les boucles ___while___\n",
    "\n",
    "\n",
    "\n",
    "\\bigskip\n",
    "La boucle _for_ parcourt un ensemble, tandis que la boucle _while_ continue tant qu'une condition est vraie. \n",
    "\n",
    "\n",
    "## Boucle for\n",
    "\n",
    "### Parcourir une liste croissantes d'entiers"
   ]
  },
  {
   "cell_type": "code",
   "execution_count": null,
   "metadata": {},
   "outputs": [],
   "source": [
    "# parcourt les entiers de 0 à n-1 inclus\n",
    "for i in range(0,3) : \n",
    "    print(i)"
   ]
  },
  {
   "cell_type": "markdown",
   "metadata": {},
   "source": [
    "```\n",
    "## 0\n",
    "## 1\n",
    "## 2\n",
    "```\n",
    "\n",
    "### Parcourir une liste décroissante d'entiers\n"
   ]
  },
  {
   "cell_type": "code",
   "execution_count": null,
   "metadata": {},
   "outputs": [],
   "source": [
    "# parcourt les entiers de 3 à n+1 inclus\n",
    "for i in range(3,0,-1) : \n",
    "    print(i)"
   ]
  },
  {
   "cell_type": "markdown",
   "metadata": {},
   "source": [
    "```\n",
    "## 3\n",
    "## 2\n",
    "## 1\n",
    "```\n",
    "\n",
    "### Parcourir une liste de chaines de caractères\n",
    "\n",
    "On va faire une boucle sur les éléments d'une liste\n",
    "\n",
    "#### Boucle sur les éléments d'une liste\n"
   ]
  },
  {
   "cell_type": "code",
   "execution_count": null,
   "metadata": {},
   "outputs": [],
   "source": [
    "liste_elements = ['Nicolas','Romain','Florimond']\n",
    "\n",
    "# pour avoir l'ensemble des éléments de la liste\n",
    "for item in liste_elements : \n",
    "    print(item)"
   ]
  },
  {
   "cell_type": "markdown",
   "metadata": {},
   "source": [
    "```\n",
    "## Nicolas\n",
    "## Romain\n",
    "## Florimond\n",
    "```\n",
    "\n",
    "#### Boucle sur les éléments d'une liste dans une autre liste\n"
   ]
  },
  {
   "cell_type": "code",
   "execution_count": null,
   "metadata": {},
   "outputs": [],
   "source": [
    "# pour avoir la place des éléments de la première liste dans la seconde liste  \n",
    "\n",
    "liste_globale = ['Violette','Nicolas','Mathilde','Romain','Florimond','Helene'] \n",
    "\n",
    "for item in liste_elements : \n",
    "    print(item,liste_globale.index(item))"
   ]
  },
  {
   "cell_type": "markdown",
   "metadata": {},
   "source": [
    "```\n",
    "## Nicolas 1\n",
    "## Romain 3\n",
    "## Florimond 4\n",
    "```\n",
    "\n",
    "### Bonus : les list comprehension\n",
    "\n",
    "Avec les listes, il existe aussi un moyen très élégant de condenser son code pour éviter de faire apparaitre des boucles sans arrêt. Comme les boucles doivent etre indentées, le code peut rapidement devenir illisible.\n",
    "\n",
    "Grace aux list comprehension, vous pouvez en une ligne faire ce qu'une boucle vous permettait de faire en 3 lignes.\n",
    "\n",
    "Par exemple, imaginez que vous vouliez faire la liste de toutes les lettres contenues dans un mot, avec un boucle vous devrez d'abord créer une liste vide, puis ajouter à cette liste toutes les lettres en question avec un .append()\n"
   ]
  },
  {
   "cell_type": "code",
   "execution_count": null,
   "metadata": {},
   "outputs": [],
   "source": [
    "liste_lettres = []\n",
    "\n",
    "for lettre in 'ENSAE':\n",
    "    liste_lettres.append(lettre)\n",
    "\n",
    "print(liste_lettres)"
   ]
  },
  {
   "cell_type": "markdown",
   "metadata": {},
   "source": [
    "```\n",
    "## ['E', 'N', 'S', 'A', 'E']\n",
    "```\n",
    "\n",
    "avec une list comprehension, on condense la syntaxe de la manière suivante : \n"
   ]
  },
  {
   "cell_type": "code",
   "execution_count": null,
   "metadata": {},
   "outputs": [],
   "source": [
    "h_letters = [ letter for letter in 'ENSAE' ]\n",
    "print(h_letters)"
   ]
  },
  {
   "cell_type": "markdown",
   "metadata": {},
   "source": [
    "```\n",
    "## ['E', 'N', 'S', 'A', 'E']\n",
    "```\n",
    "\n",
    "Avec une list comprehension\n",
    "\n",
    "~~~python\n",
    "[ expression for item in list if conditional ]\n",
    "~~~\n",
    "\n",
    "est équivalent à "
   ]
  },
  {
   "cell_type": "markdown",
   "metadata": {},
   "source": [
    "~~~python\n",
    "for item in list:\n",
    "    if conditional:\n",
    "        expression  \n",
    "~~~\n",
    "\n",
    "#### Mise en application\n",
    "Mettez sous forme de list comprehension le bout de code suivant\n"
   ]
  },
  {
   "cell_type": "code",
   "execution_count": null,
   "metadata": {},
   "outputs": [],
   "source": [
    "squares = []\n",
    "\n",
    "for x in range(10):\n",
    "    squares.append(x**2)\n",
    "print(squares)"
   ]
  },
  {
   "cell_type": "markdown",
   "metadata": {},
   "source": [
    "```\n",
    "## [0, 1, 4, 9, 16, 25, 36, 49, 64, 81]\n",
    "```\n"
   ]
  },
  {
   "cell_type": "code",
   "execution_count": null,
   "metadata": {},
   "outputs": [],
   "source": [
    "#squares = [x**2 for x in range(10)]"
   ]
  },
  {
   "cell_type": "markdown",
   "metadata": {
    "lines_to_next_cell": 2
   },
   "source": [
    "## Boucle while\n",
    "\n",
    "Le bloc d'instruction d'une boucle __while__ est exécuté tant que la condition est vérifiée. \n",
    "\n",
    "\n",
    "\n",
    "Le piège de ces boucles : la boucle while infinie ! Il faut toujours vérifier que votre boucle s'arrêtera un jour, il faut qu'à un moment ou à un autre, il y ait un élément qui s'incrémente ou qui est modifié. "
   ]
  },
  {
   "cell_type": "code",
   "execution_count": null,
   "metadata": {},
   "outputs": [],
   "source": [
    "x = 10\n",
    "y = 8\n",
    "# tant que y est plus petit que 10, je continue de lui ajouter 1\n",
    "while y <= x : \n",
    "    print(\"y n'est pas encore plus grand que x\")\n",
    "    y += 1 # l'incrément\n",
    "else : \n",
    "    print(\"y est plus grand que x et vaut\",y)"
   ]
  },
  {
   "cell_type": "markdown",
   "metadata": {},
   "source": [
    "```\n",
    "## y n'est pas encore plus grand que x\n",
    "## y n'est pas encore plus grand que x\n",
    "## y n'est pas encore plus grand que x\n",
    "## y est plus grand que x et vaut 11\n",
    "```\n",
    "\n",
    "## Break et continue\n",
    "\n",
    "Dans les boucles _for_ ou _while_ on peut avoir besoin d'ignorer ou de ne pas effectuer certaines itérations. __2 instructions utiles : __\n",
    "\n",
    "- l'instruction __break__ : permet de sortir de la boucle\n",
    "- l'instruction __continue__ : permet de passer à l'itération suivante sans exécuter les instructions qui suivent \n"
   ]
  },
  {
   "cell_type": "code",
   "execution_count": null,
   "metadata": {},
   "outputs": [],
   "source": [
    "# utilisation de break\n",
    "for x in range(5) : \n",
    "    if x == 2 : \n",
    "        break\n",
    "    else :\n",
    "        print(x)"
   ]
  },
  {
   "cell_type": "markdown",
   "metadata": {},
   "source": [
    "```\n",
    "## 0\n",
    "## 1\n",
    "```\n"
   ]
  },
  {
   "cell_type": "code",
   "execution_count": null,
   "metadata": {},
   "outputs": [],
   "source": [
    "# utilisation de continue\n",
    "for x in range(5) : \n",
    "    if x == 2 : \n",
    "        continue\n",
    "    else :\n",
    "        print(x)"
   ]
  },
  {
   "cell_type": "markdown",
   "metadata": {},
   "source": [
    "```\n",
    "## 0\n",
    "## 1\n",
    "## 3\n",
    "## 4\n",
    "```"
   ]
  },
  {
   "cell_type": "markdown",
   "metadata": {
    "lines_to_next_cell": 2
   },
   "source": [
    "# Créer ses fonctions\n",
    "\n",
    "Les fonctions permettent de faire la même chose sans avoir à recopier le code plusieurs fois dans le même programme. Dès que vous le pouvez, faites des fonctions : le copier-coller est trop dangereux.\n",
    "\n",
    "\n",
    "   - Elles peuvent prendre plusieurs paramètres (ou aucun) elles peuvent retourner plusieurs résultats (ou aucun)\n",
    "   - Pour mettre une aide à la fonction, on écrit au début entre \"\"\" \"\"\" (en rouge dans l'exemple)"
   ]
  },
  {
   "cell_type": "code",
   "execution_count": null,
   "metadata": {},
   "outputs": [],
   "source": [
    "# 1er exemple de fonction\n",
    "\n",
    "def ma_fonction_increment(parametre) : \n",
    "    \"\"\"Cette fonction ajoute 1 au paramètre qu'on lui donne\"\"\"\n",
    "    x = parametre + 1 \n",
    "    return x\n",
    "\n",
    "# pour documenter la fonction, on écrit son aide\n",
    "help(ma_fonction_increment)"
   ]
  },
  {
   "cell_type": "markdown",
   "metadata": {},
   "source": [
    "```\n",
    "## Help on function ma_fonction_increment in module __main__:\n",
    "## \n",
    "## ma_fonction_increment(parametre)\n",
    "##     Cette fonction ajoute 1 au paramètre qu'on lui donne\n",
    "```\n",
    "\n",
    "On peut également : \n",
    "\n",
    "- avoir des paramètres __facultatifs__, mais ils doivent toujours être placés à la __fin des paramètres__ \n",
    "- en cas de paramètre facultatif, il faut lui donner une valeur par défaut\n",
    "- retourner plus d'un élément à la fin d'une fonction\n",
    "- avoir des paramètres de taille différentes\n"
   ]
  },
  {
   "cell_type": "code",
   "execution_count": null,
   "metadata": {},
   "outputs": [],
   "source": [
    "def ma_fonction(p,q = 2) :\n",
    "    y1 = p + q\n",
    "    y2 = y1%3\n",
    "    return y1,y2\n",
    "\n",
    "x = ma_fonction(11) \n",
    "# ici, on n'a pas de 2nd paramètre\n",
    "#, par défaut, x = ma_fonction(10,2)\n",
    "print(\"x=\", x)"
   ]
  },
  {
   "cell_type": "markdown",
   "metadata": {},
   "source": [
    "```\n",
    "## x= (13, 1)\n",
    "```"
   ]
  },
  {
   "cell_type": "code",
   "execution_count": null,
   "metadata": {},
   "outputs": [],
   "source": [
    "z = ma_fonction(10,-1)\n",
    "print(\"z =\",z)"
   ]
  },
  {
   "cell_type": "markdown",
   "metadata": {},
   "source": [
    "```\n",
    "## z = (9, 0)\n",
    "```\n",
    "\n",
    "Une fonction peut également s'appeler elle même : c'est ce qu'on appelle une fonction récursive.\n",
    "\n",
    "Dans cet exemple, somme_recursion() est une fonction que nous avons défini de sorte à ce qu'elle s'appelle elle même (récursif). \n",
    "\n",
    "On utilise l'argument k, qui décroit (-1) chaque fois qu'on fait appelle à la fonction. \n",
    "\n",
    "La récursion s'arrête quand k est nul. \n",
    "Dans ce cet exemple, on va donc appeler 6 fois la fonction récursive.\n"
   ]
  },
  {
   "cell_type": "code",
   "execution_count": null,
   "metadata": {},
   "outputs": [],
   "source": [
    "def somme_recursion(k):\n",
    "    if(k > 0):\n",
    "        result = k + somme_recursion(k - 1)\n",
    "        print(k,result)\n",
    "    else:\n",
    "        result = 0\n",
    "    return result\n",
    "somme_recursion(6)"
   ]
  },
  {
   "cell_type": "markdown",
   "metadata": {},
   "source": [
    "```\n",
    "## 1 1\n",
    "## 2 3\n",
    "## 3 6\n",
    "## 4 10\n",
    "## 5 15\n",
    "## 6 21\n",
    "## 21\n",
    "```\n",
    "\n",
    "Les fonctions sont très utiles et nous vous invitons à les utiliser dès que vous le pouvez car elles permettent d'avoir un code clair et structuré, plutot que des bouts de code éparpillés. "
   ]
  },
  {
   "cell_type": "markdown",
   "metadata": {
    "lines_to_next_cell": 2
   },
   "source": [
    "# Lever des exceptions\n",
    "\n",
    "Python peut rencontrer des erreurs en exécutant votre programme. \n",
    "\n",
    "\n",
    "\n",
    "\\bigskip\n",
    "Ces erreurs peuvent être interceptées très facilement et c'est même, dans certains cas, indispensable. Par exemple si vous voulez faire une boucle mais que vous savez que l'instruction ne marchera pas toujours : au lieu de lister les cas où une opération n'est pas possible, on peut indiquer directement quelle erreur doit être ignorée.\n",
    "\n",
    "\n",
    "\n",
    "\n",
    "\\bigskip\n",
    "Cependant, il ne faut pas tout intercepter non plus : si Python envoie une erreur, c'est qu'il y a une raison. Si vous ignorez une erreur, vous risquez d'avoir des résultats très étranges dans votre programme."
   ]
  },
  {
   "cell_type": "code",
   "execution_count": null,
   "metadata": {},
   "outputs": [],
   "source": [
    "# éviter une division par 0, c'est une bonne idée : \n",
    "\n",
    "def inverse(x) :\n",
    "    '''Cette fonction renvoie l inverse de l argument'''\n",
    "    y = 1/x\n",
    "    return y\n",
    "\n",
    "div = inverse(0)"
   ]
  },
  {
   "cell_type": "markdown",
   "metadata": {},
   "source": [
    "```\n",
    "## Error in py_call_impl(callable, dots$args, dots$keywords): ZeroDivisionError: division by zero\n",
    "## \n",
    "## Detailed traceback: \n",
    "##   File \"<string>\", line 1, in <module>\n",
    "##   File \"<string>\", line 3, in inverse\n",
    "```"
   ]
  },
  {
   "cell_type": "markdown",
   "metadata": {
    "lines_to_next_cell": 2
   },
   "source": [
    "L'erreur est écrite noire sur blanc : __ZeroDivisionError__\n",
    "\n",
    "Dans l'idéal on aimerait éviter que notre code bloque sur ce problème. On pourrait passer par un test if et vérifier que x est différent de 0. Mais on se rend vite compte que dans certains cas, on ne peut lister tous les tests en fonction de valeurs. \n",
    "\n",
    "Alors on va lui précisier ce qu'il doit faire en fonction de l'erreur retournée. \n",
    "\n",
    "\n",
    "__Syntaxe__\n",
    "\n",
    "Try : \n",
    "\n",
    "\n",
    "    instruction\n",
    "\n",
    "\n",
    "except TypeErreur :\n",
    "\n",
    "\n",
    "    autre instruction"
   ]
  },
  {
   "cell_type": "code",
   "execution_count": null,
   "metadata": {},
   "outputs": [],
   "source": [
    "def inverse(x) : \n",
    "    try :\n",
    "        y = 1/x\n",
    "    except ZeroDivisionError :\n",
    "        y = None\n",
    "    return y\n",
    "    \n",
    "print(inverse(10))"
   ]
  },
  {
   "cell_type": "markdown",
   "metadata": {},
   "source": [
    "```\n",
    "## 0.1\n",
    "```"
   ]
  },
  {
   "cell_type": "code",
   "execution_count": null,
   "metadata": {},
   "outputs": [],
   "source": [
    "print(inverse(0))"
   ]
  },
  {
   "cell_type": "markdown",
   "metadata": {},
   "source": [
    "```\n",
    "## None\n",
    "```\n",
    "\n",
    "Il est recommandé de toujours __préciser le type d'erreur__ qu'on rencontre. Si on met uniquement \"except\" sans préciser le type, on peut passer à côté d'erreurs pour lesquelles la solution n'est pas universelle"
   ]
  },
  {
   "cell_type": "markdown",
   "metadata": {},
   "source": [
    "# A retenir et questions\n",
    "\n",
    "A retenir\n",
    "\n",
    "- Toujours mettre \":\" avant un bloc d'instructions\n",
    "- Indenter avant un bloc d'instructions (avec 4 espaces et non une tabulation !)\n",
    "- Indiquer les modules nécessaires à l'exécution en début de code\n",
    "- Documenter les fonctions créées\n",
    "- Préciser le type d'erreur pour les exceptions et potentiellement différencier les blocs d'instructions en fonction de l'erreur\n",
    "- Les modules indispensables \n",
    "    - matplotlib : graphes scientifiques\n",
    "    - numpy : calcul matriciel\n",
    "    - pandas : gestion de DataFrame\n",
    "    - scikit-learn : machine learning, statistique descriptive\n",
    "    - bs4 (nouveau Beautifulsoup) : webscraping "
   ]
  },
  {
   "cell_type": "markdown",
   "metadata": {
    "lines_to_next_cell": 2
   },
   "source": [
    "------\n",
    "Questions \n",
    "\n",
    "\n",
    "- Que fait ce programme ?"
   ]
  },
  {
   "cell_type": "code",
   "execution_count": null,
   "metadata": {},
   "outputs": [],
   "source": [
    "def inverse(x) : \n",
    "    try :\n",
    "        y = 1/x\n",
    "    except ZeroDivisionError :\n",
    "        y = None\n",
    "        return y"
   ]
  },
  {
   "cell_type": "markdown",
   "metadata": {},
   "source": [
    "- Ecrivez un programme qui peut trouver tous les nombres divisibles par 7 et non multiple de 5 entre 6523 et 8463 (inclus)"
   ]
  },
  {
   "cell_type": "markdown",
   "metadata": {},
   "source": [
    "- Ecrivez un programme qui prend une phrase en entrée et qui calcule le nombre de voyelles en Majuscules et de consonnes en minuscules : \n",
    "    - phrase = \"Vous savez, moi je ne crois pas qu’il y ait de bonne ou de mauvaise situation. Moi, si je devais résumer ma vie aujourd’hui avec vous, je dirais que c’est d’abord des rencontres. Des gens qui m’ont tendu la main, peut-être à un moment où je ne pouvais pas, où j’étais seul chez moi. Et c’est assez curieux de se dire que les hasards, les rencontres forgent une destinée... Parce que quand on a le goût de la chose, quand on a le goût de la chose bien faite, le beau geste, parfois on ne trouve pas l’interlocuteur en face je dirais, le miroir qui vous aide à avancer. Alors ça n’est pas mon cas, comme je disais là, puisque moi au contraire, j’ai pu : et je dis merci à la vie, je lui dis merci, je chante la vie, je danse la vie... je ne suis qu’amour ! Et finalement, quand beaucoup de gens aujourd’hui me disent 'Mais comment fais-tu pour avoir cette humanité ?', et bien je leur réponds très simplement, je leur dis que c’est ce goût de l’amour ce goût donc qui m’a poussé aujourd’hui à entreprendre une construction mécanique, mais demain qui sait ? Peut-être simplement à me mettre au service de la communauté, à faire le don, le don de soi...\""
   ]
  }
 ],
 "metadata": {
  "kernelspec": {
   "display_name": "Python 3",
   "language": "python",
   "name": "python3"
  }
 },
 "nbformat": 4,
 "nbformat_minor": 4
}
